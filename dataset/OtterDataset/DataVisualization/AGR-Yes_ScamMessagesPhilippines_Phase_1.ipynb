{
 "cells": [
  {
   "attachments": {},
   "cell_type": "markdown",
   "metadata": {
    "id": "AZzyIv8tAIIH"
   },
   "source": [
    "# **Philippine Scam SMS**\n",
    "**Phase 1: Preprocessing and Cleaning**\n",
    "\n",
    "**Author/s: [Anton Reyes](https://www.github.com/AGR-yes)**"
   ]
  },
  {
   "attachments": {},
   "cell_type": "markdown",
   "metadata": {
    "id": "ppFAnb9My2ZV"
   },
   "source": [
    "## **Introduction**"
   ]
  },
  {
   "attachments": {},
   "cell_type": "markdown",
   "metadata": {
    "id": "ohCExKZ4y2jN"
   },
   "source": [
    "### **Requirements and Imports**"
   ]
  },
  {
   "attachments": {},
   "cell_type": "markdown",
   "metadata": {
    "id": "xHXvwKOdy2qv"
   },
   "source": [
    "#### **Imports**"
   ]
  },
  {
   "attachments": {},
   "cell_type": "markdown",
   "metadata": {
    "id": "McPgWjwsglQw"
   },
   "source": [
    "**Basic Libraries**\n",
    "\n",
    "* `numpy` contains a large collection of mathematical functions\n",
    "* `pandas` contains functions that are designed for data manipulation and data analysis"
   ]
  },
  {
   "cell_type": "code",
   "execution_count": 75,
   "metadata": {
    "id": "82rNPPaTpyfe"
   },
   "outputs": [],
   "source": [
    "import numpy as np\n",
    "import pandas as pd"
   ]
  },
  {
   "attachments": {},
   "cell_type": "markdown",
   "metadata": {
    "id": "HjRvGoC9g_25"
   },
   "source": [
    "**Visualization Libraries**\n",
    "\n",
    "* `matplotlib.pyplot` contains functions to create interactive plots\n",
    "* `seaborn` is a library based on matplotlib that allows for data visualization\n",
    "* `plotly` is an open-source graphing library for Python."
   ]
  },
  {
   "cell_type": "code",
   "execution_count": 76,
   "metadata": {
    "id": "5YGgFzaZp1MO"
   },
   "outputs": [],
   "source": [
    "import matplotlib.pyplot as plt\n",
    "import seaborn as sns\n",
    "import plotly.express as px"
   ]
  },
  {
   "attachments": {},
   "cell_type": "markdown",
   "metadata": {
    "id": "mUGR_tXwiDhV"
   },
   "source": [
    "**Natural Language Processing Libraries**\n",
    "* `re` is a module that allows the use of regular expressions"
   ]
  },
  {
   "cell_type": "code",
   "execution_count": 77,
   "metadata": {
    "id": "Ka0AZNlQp_xU"
   },
   "outputs": [],
   "source": [
    "import re"
   ]
  },
  {
   "attachments": {},
   "cell_type": "markdown",
   "metadata": {
    "id": "wS-PzIoIzHd9"
   },
   "source": [
    "#### **Datasets and Files**"
   ]
  },
  {
   "attachments": {},
   "cell_type": "markdown",
   "metadata": {
    "id": "0r6nOJHZ9uPh"
   },
   "source": [
    "The following files were used for this project:\n",
    "\n",
    "- `Scam_SMS_Reports.xlsx` contains the reports of users with the phone numbers, type of scam, proof, and name-inclusion.\n",
    "- `SPAM_SMS.csv` contains text messages of one person with number, text itself, and the time and date received.\n",
    "- `text-scams-incidents-philippines-2019-by-region.xlsx` contains number of scam messages (in thousands) received per region\n",
    "- `networks.csv` contains the first 4-5 numbers in a Philippine phone number to identify the network it belongs to."
   ]
  },
  {
   "attachments": {},
   "cell_type": "markdown",
   "metadata": {
    "id": "bOmp84vdy2xi"
   },
   "source": [
    "## **Data Collection**"
   ]
  },
  {
   "attachments": {},
   "cell_type": "markdown",
   "metadata": {
    "id": "v2y2p0DU-f0l"
   },
   "source": [
    "Importing the dataset using pandas."
   ]
  },
  {
   "cell_type": "code",
   "execution_count": 78,
   "metadata": {
    "colab": {
     "base_uri": "https://localhost:8080/",
     "height": 357
    },
    "id": "j4WSmzN3-LLl",
    "outputId": "08b81354-d39b-49d0-989a-9a1f10a53f44"
   },
   "outputs": [
    {
     "data": {
      "text/html": [
       "<div>\n",
       "<style scoped>\n",
       "    .dataframe tbody tr th:only-of-type {\n",
       "        vertical-align: middle;\n",
       "    }\n",
       "\n",
       "    .dataframe tbody tr th {\n",
       "        vertical-align: top;\n",
       "    }\n",
       "\n",
       "    .dataframe thead th {\n",
       "        text-align: right;\n",
       "    }\n",
       "</style>\n",
       "<table border=\"1\" class=\"dataframe\">\n",
       "  <thead>\n",
       "    <tr style=\"text-align: right;\">\n",
       "      <th></th>\n",
       "      <th></th>\n",
       "      <th>Number</th>\n",
       "      <th>Network (Auto-Generates)</th>\n",
       "      <th>Type of Scam</th>\n",
       "      <th>Proofs</th>\n",
       "      <th>Knows your name?\\nCheck if yes</th>\n",
       "      <th>Unnamed: 6</th>\n",
       "      <th>GRAPHS AND STUFF</th>\n",
       "      <th>Unnamed: 8</th>\n",
       "      <th>Unnamed: 9</th>\n",
       "      <th>...</th>\n",
       "      <th>Unnamed: 18</th>\n",
       "      <th>Unnamed: 19</th>\n",
       "      <th>Unnamed: 20</th>\n",
       "      <th>Unnamed: 21</th>\n",
       "      <th>Unnamed: 22</th>\n",
       "      <th>Unnamed: 23</th>\n",
       "      <th>Unnamed: 24</th>\n",
       "      <th>Unnamed: 25</th>\n",
       "      <th>Unnamed: 26</th>\n",
       "      <th>Unnamed: 27</th>\n",
       "    </tr>\n",
       "  </thead>\n",
       "  <tbody>\n",
       "    <tr>\n",
       "      <th>0</th>\n",
       "      <td>1</td>\n",
       "      <td>9103239417</td>\n",
       "      <td>NaN</td>\n",
       "      <td>Work from home</td>\n",
       "      <td>NaN</td>\n",
       "      <td>False</td>\n",
       "      <td>NaN</td>\n",
       "      <td>NaN</td>\n",
       "      <td>NaN</td>\n",
       "      <td>NaN</td>\n",
       "      <td>...</td>\n",
       "      <td>NaN</td>\n",
       "      <td>NaN</td>\n",
       "      <td>NaN</td>\n",
       "      <td>NaN</td>\n",
       "      <td>NaN</td>\n",
       "      <td>NaN</td>\n",
       "      <td>NaN</td>\n",
       "      <td>NaN</td>\n",
       "      <td>NaN</td>\n",
       "      <td>NaN</td>\n",
       "    </tr>\n",
       "    <tr>\n",
       "      <th>1</th>\n",
       "      <td>2</td>\n",
       "      <td>95348643</td>\n",
       "      <td>NaN</td>\n",
       "      <td>Dating Scam</td>\n",
       "      <td>NaN</td>\n",
       "      <td>False</td>\n",
       "      <td>NaN</td>\n",
       "      <td>NaN</td>\n",
       "      <td>NaN</td>\n",
       "      <td>NaN</td>\n",
       "      <td>...</td>\n",
       "      <td>NaN</td>\n",
       "      <td>NaN</td>\n",
       "      <td>NaN</td>\n",
       "      <td>NaN</td>\n",
       "      <td>NaN</td>\n",
       "      <td>NaN</td>\n",
       "      <td>NaN</td>\n",
       "      <td>NaN</td>\n",
       "      <td>NaN</td>\n",
       "      <td>NaN</td>\n",
       "    </tr>\n",
       "    <tr>\n",
       "      <th>2</th>\n",
       "      <td>3</td>\n",
       "      <td>931804865</td>\n",
       "      <td>NaN</td>\n",
       "      <td>work</td>\n",
       "      <td>NaN</td>\n",
       "      <td>False</td>\n",
       "      <td>NaN</td>\n",
       "      <td>NaN</td>\n",
       "      <td>NaN</td>\n",
       "      <td>NaN</td>\n",
       "      <td>...</td>\n",
       "      <td>NaN</td>\n",
       "      <td>NaN</td>\n",
       "      <td>NaN</td>\n",
       "      <td>NaN</td>\n",
       "      <td>NaN</td>\n",
       "      <td>NaN</td>\n",
       "      <td>NaN</td>\n",
       "      <td>NaN</td>\n",
       "      <td>NaN</td>\n",
       "      <td>NaN</td>\n",
       "    </tr>\n",
       "    <tr>\n",
       "      <th>3</th>\n",
       "      <td>4</td>\n",
       "      <td>981197529</td>\n",
       "      <td>NaN</td>\n",
       "      <td>nanalo sa lotto</td>\n",
       "      <td>NaN</td>\n",
       "      <td>False</td>\n",
       "      <td>NaN</td>\n",
       "      <td>NaN</td>\n",
       "      <td>NaN</td>\n",
       "      <td>NaN</td>\n",
       "      <td>...</td>\n",
       "      <td>NaN</td>\n",
       "      <td>NaN</td>\n",
       "      <td>NaN</td>\n",
       "      <td>NaN</td>\n",
       "      <td>NaN</td>\n",
       "      <td>NaN</td>\n",
       "      <td>NaN</td>\n",
       "      <td>NaN</td>\n",
       "      <td>NaN</td>\n",
       "      <td>NaN</td>\n",
       "    </tr>\n",
       "    <tr>\n",
       "      <th>4</th>\n",
       "      <td>5</td>\n",
       "      <td>981369614</td>\n",
       "      <td>NaN</td>\n",
       "      <td>Abroad Opportunity kuno</td>\n",
       "      <td>NaN</td>\n",
       "      <td>False</td>\n",
       "      <td>NaN</td>\n",
       "      <td>NaN</td>\n",
       "      <td>NaN</td>\n",
       "      <td>NaN</td>\n",
       "      <td>...</td>\n",
       "      <td>NaN</td>\n",
       "      <td>NaN</td>\n",
       "      <td>NaN</td>\n",
       "      <td>NaN</td>\n",
       "      <td>NaN</td>\n",
       "      <td>NaN</td>\n",
       "      <td>NaN</td>\n",
       "      <td>NaN</td>\n",
       "      <td>NaN</td>\n",
       "      <td>NaN</td>\n",
       "    </tr>\n",
       "  </tbody>\n",
       "</table>\n",
       "<p>5 rows × 28 columns</p>\n",
       "</div>"
      ],
      "text/plain": [
       "          Number Network (Auto-Generates)             Type of Scam Proofs  \\\n",
       "0  1  9103239417                      NaN           Work from home    NaN   \n",
       "1  2    95348643                      NaN              Dating Scam    NaN   \n",
       "2  3   931804865                      NaN                     work    NaN   \n",
       "3  4   981197529                      NaN          nanalo sa lotto    NaN   \n",
       "4  5   981369614                      NaN  Abroad Opportunity kuno    NaN   \n",
       "\n",
       "  Knows your name?\\nCheck if yes  Unnamed: 6 GRAPHS AND STUFF Unnamed: 8  \\\n",
       "0                          False         NaN              NaN        NaN   \n",
       "1                          False         NaN              NaN        NaN   \n",
       "2                          False         NaN              NaN        NaN   \n",
       "3                          False         NaN              NaN        NaN   \n",
       "4                          False         NaN              NaN        NaN   \n",
       "\n",
       "  Unnamed: 9  ...  Unnamed: 18 Unnamed: 19 Unnamed: 20  Unnamed: 21  \\\n",
       "0        NaN  ...          NaN         NaN         NaN          NaN   \n",
       "1        NaN  ...          NaN         NaN         NaN          NaN   \n",
       "2        NaN  ...          NaN         NaN         NaN          NaN   \n",
       "3        NaN  ...          NaN         NaN         NaN          NaN   \n",
       "4        NaN  ...          NaN         NaN         NaN          NaN   \n",
       "\n",
       "  Unnamed: 22 Unnamed: 23  Unnamed: 24 Unnamed: 25 Unnamed: 26  Unnamed: 27  \n",
       "0         NaN         NaN          NaN         NaN         NaN          NaN  \n",
       "1         NaN         NaN          NaN         NaN         NaN          NaN  \n",
       "2         NaN         NaN          NaN         NaN         NaN          NaN  \n",
       "3         NaN         NaN          NaN         NaN         NaN          NaN  \n",
       "4         NaN         NaN          NaN         NaN         NaN          NaN  \n",
       "\n",
       "[5 rows x 28 columns]"
      ]
     },
     "execution_count": 78,
     "metadata": {},
     "output_type": "execute_result"
    }
   ],
   "source": [
    "dataset = \"Raw Datasets/Scam_SMS_Reports.xlsx\"\n",
    "\n",
    "report = pd.read_excel(dataset)\n",
    "report.head()"
   ]
  },
  {
   "cell_type": "code",
   "execution_count": 79,
   "metadata": {},
   "outputs": [
    {
     "data": {
      "text/html": [
       "<div>\n",
       "<style scoped>\n",
       "    .dataframe tbody tr th:only-of-type {\n",
       "        vertical-align: middle;\n",
       "    }\n",
       "\n",
       "    .dataframe tbody tr th {\n",
       "        vertical-align: top;\n",
       "    }\n",
       "\n",
       "    .dataframe thead th {\n",
       "        text-align: right;\n",
       "    }\n",
       "</style>\n",
       "<table border=\"1\" class=\"dataframe\">\n",
       "  <thead>\n",
       "    <tr style=\"text-align: right;\">\n",
       "      <th></th>\n",
       "      <th>Unnamed: 0</th>\n",
       "      <th>_id</th>\n",
       "      <th>address</th>\n",
       "      <th>date</th>\n",
       "      <th>text</th>\n",
       "      <th>threadId</th>\n",
       "    </tr>\n",
       "  </thead>\n",
       "  <tbody>\n",
       "    <tr>\n",
       "      <th>0</th>\n",
       "      <td>0</td>\n",
       "      <td>8787</td>\n",
       "      <td>+6396***32373</td>\n",
       "      <td>2022-11-12 14:02:10.079</td>\n",
       "      <td>Welcome ! your have P1222 for S!ot , \\nWeb: 11...</td>\n",
       "      <td>836</td>\n",
       "    </tr>\n",
       "    <tr>\n",
       "      <th>1</th>\n",
       "      <td>1</td>\n",
       "      <td>8788</td>\n",
       "      <td>+6398***78852</td>\n",
       "      <td>2022-11-12 14:33:48.916</td>\n",
       "      <td>My god, at least 999P rewards waiting for you\\...</td>\n",
       "      <td>837</td>\n",
       "    </tr>\n",
       "    <tr>\n",
       "      <th>2</th>\n",
       "      <td>2</td>\n",
       "      <td>8789</td>\n",
       "      <td>+6394***80113</td>\n",
       "      <td>2022-11-13 23:03:15.023</td>\n",
       "      <td>DEAR VIP &lt;REAL NAME&gt;, No. 1 Online Sabong Site...</td>\n",
       "      <td>838</td>\n",
       "    </tr>\n",
       "    <tr>\n",
       "      <th>3</th>\n",
       "      <td>3</td>\n",
       "      <td>8790</td>\n",
       "      <td>+6395***34934</td>\n",
       "      <td>2022-11-14 00:07:18.715</td>\n",
       "      <td>&lt;REAL NAME&gt;! Today, you can win the iphone14PR...</td>\n",
       "      <td>839</td>\n",
       "    </tr>\n",
       "    <tr>\n",
       "      <th>4</th>\n",
       "      <td>4</td>\n",
       "      <td>8791</td>\n",
       "      <td>+6396***74401</td>\n",
       "      <td>2022-11-15 02:28:56.636</td>\n",
       "      <td>Welcome ! your have P1222 for S!ot , \\nWeb: gr...</td>\n",
       "      <td>841</td>\n",
       "    </tr>\n",
       "  </tbody>\n",
       "</table>\n",
       "</div>"
      ],
      "text/plain": [
       "   Unnamed: 0   _id        address                     date  \\\n",
       "0           0  8787  +6396***32373  2022-11-12 14:02:10.079   \n",
       "1           1  8788  +6398***78852  2022-11-12 14:33:48.916   \n",
       "2           2  8789  +6394***80113  2022-11-13 23:03:15.023   \n",
       "3           3  8790  +6395***34934  2022-11-14 00:07:18.715   \n",
       "4           4  8791  +6396***74401  2022-11-15 02:28:56.636   \n",
       "\n",
       "                                                text  threadId  \n",
       "0  Welcome ! your have P1222 for S!ot , \\nWeb: 11...       836  \n",
       "1  My god, at least 999P rewards waiting for you\\...       837  \n",
       "2  DEAR VIP <REAL NAME>, No. 1 Online Sabong Site...       838  \n",
       "3  <REAL NAME>! Today, you can win the iphone14PR...       839  \n",
       "4  Welcome ! your have P1222 for S!ot , \\nWeb: gr...       841  "
      ]
     },
     "execution_count": 79,
     "metadata": {},
     "output_type": "execute_result"
    }
   ],
   "source": [
    "dataset = \"Raw Datasets/SPAM_SMS.csv\"\n",
    "\n",
    "spam = pd.read_csv(dataset)\n",
    "spam.head()"
   ]
  },
  {
   "cell_type": "code",
   "execution_count": 80,
   "metadata": {},
   "outputs": [
    {
     "data": {
      "text/html": [
       "<div>\n",
       "<style scoped>\n",
       "    .dataframe tbody tr th:only-of-type {\n",
       "        vertical-align: middle;\n",
       "    }\n",
       "\n",
       "    .dataframe tbody tr th {\n",
       "        vertical-align: top;\n",
       "    }\n",
       "\n",
       "    .dataframe thead th {\n",
       "        text-align: right;\n",
       "    }\n",
       "</style>\n",
       "<table border=\"1\" class=\"dataframe\">\n",
       "  <thead>\n",
       "    <tr style=\"text-align: right;\">\n",
       "      <th></th>\n",
       "      <th>Unnamed: 0</th>\n",
       "      <th>Unnamed: 1</th>\n",
       "      <th>Unnamed: 2</th>\n",
       "    </tr>\n",
       "  </thead>\n",
       "  <tbody>\n",
       "    <tr>\n",
       "      <th>0</th>\n",
       "      <td>NaN</td>\n",
       "      <td>NaN</td>\n",
       "      <td>NaN</td>\n",
       "    </tr>\n",
       "    <tr>\n",
       "      <th>1</th>\n",
       "      <td>NaN</td>\n",
       "      <td>Number of SMS fraud or text scams incidents Ph...</td>\n",
       "      <td>NaN</td>\n",
       "    </tr>\n",
       "    <tr>\n",
       "      <th>2</th>\n",
       "      <td>NaN</td>\n",
       "      <td>Total number of SMS fraud or text scam inciden...</td>\n",
       "      <td>NaN</td>\n",
       "    </tr>\n",
       "    <tr>\n",
       "      <th>3</th>\n",
       "      <td>NaN</td>\n",
       "      <td>NaN</td>\n",
       "      <td>NaN</td>\n",
       "    </tr>\n",
       "    <tr>\n",
       "      <th>4</th>\n",
       "      <td>NaN</td>\n",
       "      <td>Region 3</td>\n",
       "      <td>3484.73</td>\n",
       "    </tr>\n",
       "  </tbody>\n",
       "</table>\n",
       "</div>"
      ],
      "text/plain": [
       "   Unnamed: 0                                         Unnamed: 1  Unnamed: 2\n",
       "0         NaN                                                NaN         NaN\n",
       "1         NaN  Number of SMS fraud or text scams incidents Ph...         NaN\n",
       "2         NaN  Total number of SMS fraud or text scam inciden...         NaN\n",
       "3         NaN                                                NaN         NaN\n",
       "4         NaN                                           Region 3     3484.73"
      ]
     },
     "execution_count": 80,
     "metadata": {},
     "output_type": "execute_result"
    }
   ],
   "source": [
    "dataset = \"Raw Datasets/text-scams-incidents-philippines-2019-by-region.xlsx\"\n",
    "\n",
    "incidents = pd.read_excel(dataset, sheet_name=\"Data\")\n",
    "incidents.head()"
   ]
  },
  {
   "attachments": {},
   "cell_type": "markdown",
   "metadata": {
    "id": "1xhhYdY5zQXO"
   },
   "source": [
    "## **Description of the Dataset**"
   ]
  },
  {
   "attachments": {},
   "cell_type": "markdown",
   "metadata": {
    "id": "hkE6cv_fEVJb"
   },
   "source": [
    "Here, we find the shape of the dataset."
   ]
  },
  {
   "cell_type": "code",
   "execution_count": 81,
   "metadata": {
    "colab": {
     "base_uri": "https://localhost:8080/"
    },
    "id": "xjCI2jZ--klz",
    "outputId": "1c310bc7-c2e0-4c67-d8cb-a7d4a94dd35e"
   },
   "outputs": [
    {
     "name": "stdout",
     "output_type": "stream",
     "text": [
      "(10493, 28)\n",
      "(170, 6)\n",
      "(21, 3)\n"
     ]
    }
   ],
   "source": [
    "sets = [report, spam, incidents]\n",
    "\n",
    "for set in sets:\n",
    "    print(set.shape)"
   ]
  },
  {
   "attachments": {},
   "cell_type": "markdown",
   "metadata": {
    "id": "b4xXJAoPEXau"
   },
   "source": [
    "By looking at the `info` of the dataframe, we can see that there are `null` values. "
   ]
  },
  {
   "cell_type": "code",
   "execution_count": 82,
   "metadata": {
    "colab": {
     "base_uri": "https://localhost:8080/"
    },
    "id": "Cd5-JeX--oNp",
    "outputId": "4b766982-da04-47ab-a2b3-92e82488a2f6"
   },
   "outputs": [
    {
     "name": "stdout",
     "output_type": "stream",
     "text": [
      "<class 'pandas.core.frame.DataFrame'>\n",
      "RangeIndex: 10493 entries, 0 to 10492\n",
      "Data columns (total 28 columns):\n",
      " #   Column                         Non-Null Count  Dtype  \n",
      "---  ------                         --------------  -----  \n",
      " 0                                  10493 non-null  int64  \n",
      " 1   Number                         4883 non-null   object \n",
      " 2   Network (Auto-Generates)       9974 non-null   object \n",
      " 3   Type of Scam                   4686 non-null   object \n",
      " 4   Proofs                         1257 non-null   object \n",
      " 5   Knows your name?\n",
      "Check if yes  10492 non-null  object \n",
      " 6   Unnamed: 6                     0 non-null      float64\n",
      " 7   GRAPHS AND STUFF               27 non-null     object \n",
      " 8   Unnamed: 8                     8 non-null      object \n",
      " 9   Unnamed: 9                     1 non-null      object \n",
      " 10  Unnamed: 10                    0 non-null      float64\n",
      " 11  Unnamed: 11                    1 non-null      object \n",
      " 12  Unnamed: 12                    1 non-null      object \n",
      " 13  Unnamed: 13                    0 non-null      float64\n",
      " 14  Unnamed: 14                    1 non-null      object \n",
      " 15  Unnamed: 15                    1 non-null      object \n",
      " 16  Unnamed: 16                    0 non-null      float64\n",
      " 17  Unnamed: 17                    1 non-null      object \n",
      " 18  Unnamed: 18                    1 non-null      object \n",
      " 19  Unnamed: 19                    0 non-null      float64\n",
      " 20  Unnamed: 20                    1 non-null      object \n",
      " 21  Unnamed: 21                    1 non-null      object \n",
      " 22  Unnamed: 22                    0 non-null      float64\n",
      " 23  Unnamed: 23                    1 non-null      object \n",
      " 24  Unnamed: 24                    1 non-null      object \n",
      " 25  Unnamed: 25                    0 non-null      float64\n",
      " 26  Unnamed: 26                    1 non-null      object \n",
      " 27  Unnamed: 27                    1 non-null      object \n",
      "dtypes: float64(7), int64(1), object(20)\n",
      "memory usage: 2.2+ MB\n"
     ]
    }
   ],
   "source": [
    "report.info()"
   ]
  },
  {
   "cell_type": "code",
   "execution_count": 83,
   "metadata": {},
   "outputs": [
    {
     "name": "stdout",
     "output_type": "stream",
     "text": [
      "<class 'pandas.core.frame.DataFrame'>\n",
      "RangeIndex: 170 entries, 0 to 169\n",
      "Data columns (total 6 columns):\n",
      " #   Column      Non-Null Count  Dtype \n",
      "---  ------      --------------  ----- \n",
      " 0   Unnamed: 0  170 non-null    int64 \n",
      " 1   _id         170 non-null    int64 \n",
      " 2   address     170 non-null    object\n",
      " 3   date        170 non-null    object\n",
      " 4   text        170 non-null    object\n",
      " 5   threadId    170 non-null    int64 \n",
      "dtypes: int64(3), object(3)\n",
      "memory usage: 8.1+ KB\n"
     ]
    }
   ],
   "source": [
    "spam.info()"
   ]
  },
  {
   "cell_type": "code",
   "execution_count": 84,
   "metadata": {},
   "outputs": [
    {
     "name": "stdout",
     "output_type": "stream",
     "text": [
      "<class 'pandas.core.frame.DataFrame'>\n",
      "RangeIndex: 21 entries, 0 to 20\n",
      "Data columns (total 3 columns):\n",
      " #   Column      Non-Null Count  Dtype  \n",
      "---  ------      --------------  -----  \n",
      " 0   Unnamed: 0  0 non-null      float64\n",
      " 1   Unnamed: 1  19 non-null     object \n",
      " 2   Unnamed: 2  17 non-null     float64\n",
      "dtypes: float64(2), object(1)\n",
      "memory usage: 632.0+ bytes\n"
     ]
    }
   ],
   "source": [
    "incidents.info()"
   ]
  },
  {
   "attachments": {},
   "cell_type": "markdown",
   "metadata": {
    "id": "leSuwgFlzRfk"
   },
   "source": [
    "## **Exploratory Data Analysis**"
   ]
  },
  {
   "attachments": {},
   "cell_type": "markdown",
   "metadata": {},
   "source": [
    "### **Report**"
   ]
  },
  {
   "cell_type": "code",
   "execution_count": 85,
   "metadata": {},
   "outputs": [
    {
     "data": {
      "text/plain": [
       "Index([' ', 'Number', 'Network (Auto-Generates)', 'Type of Scam', 'Proofs',\n",
       "       'Knows your name?\\nCheck if yes', 'Unnamed: 6', 'GRAPHS AND STUFF',\n",
       "       'Unnamed: 8', 'Unnamed: 9', 'Unnamed: 10', 'Unnamed: 11', 'Unnamed: 12',\n",
       "       'Unnamed: 13', 'Unnamed: 14', 'Unnamed: 15', 'Unnamed: 16',\n",
       "       'Unnamed: 17', 'Unnamed: 18', 'Unnamed: 19', 'Unnamed: 20',\n",
       "       'Unnamed: 21', 'Unnamed: 22', 'Unnamed: 23', 'Unnamed: 24',\n",
       "       'Unnamed: 25', 'Unnamed: 26', 'Unnamed: 27'],\n",
       "      dtype='object')"
      ]
     },
     "execution_count": 85,
     "metadata": {},
     "output_type": "execute_result"
    }
   ],
   "source": [
    "report.columns"
   ]
  },
  {
   "cell_type": "code",
   "execution_count": 86,
   "metadata": {},
   "outputs": [
    {
     "data": {
      "text/plain": [
       "                         5106\n",
       "Smart or Talk ‘N Text    3205\n",
       "Globe or TM              1240\n",
       "Smart                     289\n",
       "Sun Cellular              134\n",
       "Name: Network (Auto-Generates), dtype: int64"
      ]
     },
     "execution_count": 86,
     "metadata": {},
     "output_type": "execute_result"
    }
   ],
   "source": [
    "report['Network (Auto-Generates)'].value_counts()"
   ]
  },
  {
   "cell_type": "code",
   "execution_count": 87,
   "metadata": {},
   "outputs": [
    {
     "data": {
      "text/plain": [
       "https://t.ly/stsH -compiled spam message screenshot                                                                                                                                                                                                                  62\n",
       "Row 469 - Proof                                                                                                                                                                                                                                                      39\n",
       "Screenshot                                                                                                                                                                                                                                                           37\n",
       "'                                                                                                                                                                                                                                                                     8\n",
       "luckyphil.com/login                                                                                                                                                                                                                                                   8\n",
       "                                                                                                                                                                                                                                                                     ..\n",
       "Greetings,\\nI am writing to express my interest on working with you, i have a proposal that might interest you, i would like an opportunity to further discuss in detail. kindly contact me by email : alfredoayub@hotmail.com, I await your urgent response.\\n\\n     1\n",
       "SOLAR 3 WAY LIGHTS\\nSOBRA GANDA AT FORMAL ILAGAY SA WALL\\n\\nCLICK HERE FOR PICTURE AND PRICE --->  https://s.lazada.com.ph/s.fz8pd\\n\\nBUY 1 TAKE 1 TODAY ONLY !!!                                                                                                     1\n",
       "4 PCS SOLAR LIGHTS FOR ONLY 1,499 ! CLICK HERE TO BUY --> https://s.lazada.com.ph/s.UXHEg BUY 2 TAKE 2 TODAY ONLY !                                                                                                                                                   1\n",
       "Baka ikaw na ang susunod na magiging MILYONARYO. Pag sumali ka sa casino link chuchunes                                                                                                                                                                               1\n",
       "Why are you still waiting, DEAR VIP Get your P1,00 T1bet Cash reward for completing the verification process. Join right away! t1betnew. c o m                                                                                                                        1\n",
       "Name: Proofs, Length: 968, dtype: int64"
      ]
     },
     "execution_count": 87,
     "metadata": {},
     "output_type": "execute_result"
    }
   ],
   "source": [
    "report['Proofs'].value_counts()"
   ]
  },
  {
   "cell_type": "code",
   "execution_count": 88,
   "metadata": {},
   "outputs": [
    {
     "data": {
      "text/plain": [
       "False                                                                                                                          10279\n",
       "True                                                                                                                             195\n",
       "linky-ph/-BingoPlus                                                                                                                2\n",
       "Atin/B.e.t/  is  B.e.s.t On/l.i.n.e Ca/si.n0 in the Philippines. http://okadaonline.pics/KsN G/e/t 80 % for every de/po/sit        2\n",
       "Mentioned my name and the link. Ayaw nya daw ako maging mahirap HAHHAHA                                                            1\n",
       "98 Games; Cash in                                                                                                                  1\n",
       "http://gcxvd2ny.com                                                                                                                1\n",
       "mentioned my name                                                                                                                  1\n",
       "https://linnki.in/WNgzX                                                                                                            1\n",
       "mentioned my full name                                                                                                             1\n",
       "Mybitglobal (https://t.co/9GDnInpR0M                                                                                               1\n",
       "*got my name from viber                                                                                                            1\n",
       "wplusb3t4you.com/P2n2-Ng-Sw3rt3                                                                                                    1\n",
       "https://bit.ly/6vCnboP                                                                                                             1\n",
       "https://t.hxfxph.com./YP1WL                                                                                                        1\n",
       "http://ox4xtu.com                                                                                                                  1\n",
       "luckyphil.com/login                                                                                                                1\n",
       "https://lihi1.com/7QQPD                                                                                                            1\n",
       "Name: Knows your name?\\nCheck if yes, dtype: int64"
      ]
     },
     "execution_count": 88,
     "metadata": {},
     "output_type": "execute_result"
    }
   ],
   "source": [
    "report['Knows your name?\\nCheck if yes'].value_counts()"
   ]
  },
  {
   "cell_type": "code",
   "execution_count": 89,
   "metadata": {},
   "outputs": [
    {
     "data": {
      "text/plain": [
       "                                   int64\n",
       "Number                            object\n",
       "Network (Auto-Generates)          object\n",
       "Type of Scam                      object\n",
       "Proofs                            object\n",
       "Knows your name?\\nCheck if yes    object\n",
       "dtype: object"
      ]
     },
     "execution_count": 89,
     "metadata": {},
     "output_type": "execute_result"
    }
   ],
   "source": [
    "report.iloc[:, 0:6].dtypes"
   ]
  },
  {
   "cell_type": "code",
   "execution_count": 90,
   "metadata": {},
   "outputs": [
    {
     "data": {
      "text/plain": [
       "9602956931    4\n",
       "9171832274    4\n",
       "9811905645    4\n",
       "9813126760    4\n",
       "9173211259    4\n",
       "9812913402    4\n",
       "9852597532    4\n",
       "9317418500    4\n",
       "9750223903    4\n",
       "9177095646    3\n",
       "9813696569    3\n",
       "9504889147    3\n",
       "9813810743    3\n",
       "9261762496    3\n",
       "9811905386    3\n",
       "9270512120    3\n",
       "9171050224    3\n",
       "9171874218    3\n",
       "9761276078    3\n",
       "9813458245    3\n",
       "9171473405    3\n",
       "9811993224    3\n",
       "9389379718    3\n",
       "9811905673    3\n",
       "9178255960    3\n",
       "9125514092    3\n",
       "9702629918    3\n",
       "9813810774    3\n",
       "9171453599    3\n",
       "9811905410    3\n",
       "9097709911    3\n",
       "9812142562    3\n",
       "9813458247    3\n",
       "9171780185    3\n",
       "9096938537    3\n",
       "9171344686    3\n",
       "9171342236    3\n",
       "9171299857    3\n",
       "Name: Number, dtype: int64"
      ]
     },
     "execution_count": 90,
     "metadata": {},
     "output_type": "execute_result"
    }
   ],
   "source": [
    "report['Number'].value_counts()[report['Number'].value_counts() > 2]"
   ]
  },
  {
   "attachments": {},
   "cell_type": "markdown",
   "metadata": {},
   "source": [
    "### **Spam**"
   ]
  },
  {
   "cell_type": "code",
   "execution_count": 91,
   "metadata": {},
   "outputs": [
    {
     "data": {
      "text/plain": [
       "Index(['Unnamed: 0', '_id', 'address', 'date', 'text', 'threadId'], dtype='object')"
      ]
     },
     "execution_count": 91,
     "metadata": {},
     "output_type": "execute_result"
    }
   ],
   "source": [
    "spam.columns"
   ]
  },
  {
   "cell_type": "code",
   "execution_count": 92,
   "metadata": {},
   "outputs": [
    {
     "data": {
      "text/plain": [
       "count                         170\n",
       "unique                        170\n",
       "top       2022-11-12 14:02:10.079\n",
       "freq                            1\n",
       "Name: date, dtype: object"
      ]
     },
     "execution_count": 92,
     "metadata": {},
     "output_type": "execute_result"
    }
   ],
   "source": [
    "spam['date'].describe()"
   ]
  },
  {
   "cell_type": "code",
   "execution_count": 93,
   "metadata": {},
   "outputs": [
    {
     "name": "stdout",
     "output_type": "stream",
     "text": [
      "<class 'pandas.core.series.Series'>\n",
      "RangeIndex: 170 entries, 0 to 169\n",
      "Series name: date\n",
      "Non-Null Count  Dtype \n",
      "--------------  ----- \n",
      "170 non-null    object\n",
      "dtypes: object(1)\n",
      "memory usage: 1.5+ KB\n"
     ]
    }
   ],
   "source": [
    "spam['date'].info()"
   ]
  },
  {
   "attachments": {},
   "cell_type": "markdown",
   "metadata": {
    "id": "cau2aFTizRny"
   },
   "source": [
    "## **Data Preprocessing**"
   ]
  },
  {
   "attachments": {},
   "cell_type": "markdown",
   "metadata": {},
   "source": [
    "### **Networks**"
   ]
  },
  {
   "cell_type": "code",
   "execution_count": 94,
   "metadata": {},
   "outputs": [
    {
     "data": {
      "text/plain": [
       "Globe/TM          25\n",
       "Smart             14\n",
       "Sun               14\n",
       "TNT                9\n",
       "Globe PostPaid     9\n",
       "DITO               8\n",
       "Globe              1\n",
       "Globe/GOMO         1\n",
       "Name: Network, dtype: int64"
      ]
     },
     "execution_count": 94,
     "metadata": {},
     "output_type": "execute_result"
    }
   ],
   "source": [
    "network = pd.read_csv(\"Raw Datasets/networks.csv\")\n",
    "network['Network'].value_counts()"
   ]
  },
  {
   "attachments": {},
   "cell_type": "markdown",
   "metadata": {},
   "source": [
    "We need to make `Globe` consistent, so we clean it up."
   ]
  },
  {
   "cell_type": "code",
   "execution_count": 95,
   "metadata": {},
   "outputs": [
    {
     "data": {
      "text/plain": [
       "Globe or TM              36\n",
       "Smart or Talk 'N Text    23\n",
       "Sun Cellular             14\n",
       "DITO                      8\n",
       "Name: Network, dtype: int64"
      ]
     },
     "execution_count": 95,
     "metadata": {},
     "output_type": "execute_result"
    }
   ],
   "source": [
    "#replce the Globe Postpaid, Globe/TM, into just Globe\n",
    "network['Network'] = network['Network'].replace(['Globe/TM', 'Globe PostPaid', 'Globe/GOMO', 'Globe'], 'Globe or TM')\n",
    "network['Network'] = network['Network'].replace(['Smart', 'TNT'], \"Smart or Talk 'N Text\")\n",
    "network['Network'] = network['Network'].replace(['Sun'], \"Sun Cellular\")\n",
    "\n",
    "network['Network'].value_counts()"
   ]
  },
  {
   "cell_type": "code",
   "execution_count": 96,
   "metadata": {},
   "outputs": [
    {
     "data": {
      "text/html": [
       "<div>\n",
       "<style scoped>\n",
       "    .dataframe tbody tr th:only-of-type {\n",
       "        vertical-align: middle;\n",
       "    }\n",
       "\n",
       "    .dataframe tbody tr th {\n",
       "        vertical-align: top;\n",
       "    }\n",
       "\n",
       "    .dataframe thead th {\n",
       "        text-align: right;\n",
       "    }\n",
       "</style>\n",
       "<table border=\"1\" class=\"dataframe\">\n",
       "  <thead>\n",
       "    <tr style=\"text-align: right;\">\n",
       "      <th></th>\n",
       "      <th>Prefix</th>\n",
       "      <th>Network</th>\n",
       "    </tr>\n",
       "  </thead>\n",
       "  <tbody>\n",
       "    <tr>\n",
       "      <th>0</th>\n",
       "      <td>817</td>\n",
       "      <td>Globe or TM</td>\n",
       "    </tr>\n",
       "    <tr>\n",
       "      <th>1</th>\n",
       "      <td>895</td>\n",
       "      <td>DITO</td>\n",
       "    </tr>\n",
       "    <tr>\n",
       "      <th>2</th>\n",
       "      <td>896</td>\n",
       "      <td>DITO</td>\n",
       "    </tr>\n",
       "    <tr>\n",
       "      <th>3</th>\n",
       "      <td>897</td>\n",
       "      <td>DITO</td>\n",
       "    </tr>\n",
       "    <tr>\n",
       "      <th>4</th>\n",
       "      <td>898</td>\n",
       "      <td>DITO</td>\n",
       "    </tr>\n",
       "    <tr>\n",
       "      <th>...</th>\n",
       "      <td>...</td>\n",
       "      <td>...</td>\n",
       "    </tr>\n",
       "    <tr>\n",
       "      <th>76</th>\n",
       "      <td>925</td>\n",
       "      <td>Globe or TM</td>\n",
       "    </tr>\n",
       "    <tr>\n",
       "      <th>77</th>\n",
       "      <td>925</td>\n",
       "      <td>Globe or TM</td>\n",
       "    </tr>\n",
       "    <tr>\n",
       "      <th>78</th>\n",
       "      <td>925</td>\n",
       "      <td>Globe or TM</td>\n",
       "    </tr>\n",
       "    <tr>\n",
       "      <th>79</th>\n",
       "      <td>925</td>\n",
       "      <td>Globe or TM</td>\n",
       "    </tr>\n",
       "    <tr>\n",
       "      <th>80</th>\n",
       "      <td>925</td>\n",
       "      <td>Globe or TM</td>\n",
       "    </tr>\n",
       "  </tbody>\n",
       "</table>\n",
       "<p>81 rows × 2 columns</p>\n",
       "</div>"
      ],
      "text/plain": [
       "   Prefix      Network\n",
       "0     817  Globe or TM\n",
       "1     895         DITO\n",
       "2     896         DITO\n",
       "3     897         DITO\n",
       "4     898         DITO\n",
       "..    ...          ...\n",
       "76    925  Globe or TM\n",
       "77    925  Globe or TM\n",
       "78    925  Globe or TM\n",
       "79    925  Globe or TM\n",
       "80    925  Globe or TM\n",
       "\n",
       "[81 rows x 2 columns]"
      ]
     },
     "execution_count": 96,
     "metadata": {},
     "output_type": "execute_result"
    }
   ],
   "source": [
    "#keep the first three digits of the number\n",
    "network['Prefix'] = network['Prefix'].astype(str).str[:3]\n",
    "\n",
    "network"
   ]
  },
  {
   "attachments": {},
   "cell_type": "markdown",
   "metadata": {},
   "source": [
    "### **Reports**"
   ]
  },
  {
   "attachments": {},
   "cell_type": "markdown",
   "metadata": {
    "id": "r_K5_I_oF4au"
   },
   "source": [
    "#### **Data Preprocessing**"
   ]
  },
  {
   "attachments": {},
   "cell_type": "markdown",
   "metadata": {},
   "source": [
    "##### **Dropping**"
   ]
  },
  {
   "cell_type": "code",
   "execution_count": 97,
   "metadata": {},
   "outputs": [
    {
     "data": {
      "text/html": [
       "<div>\n",
       "<style scoped>\n",
       "    .dataframe tbody tr th:only-of-type {\n",
       "        vertical-align: middle;\n",
       "    }\n",
       "\n",
       "    .dataframe tbody tr th {\n",
       "        vertical-align: top;\n",
       "    }\n",
       "\n",
       "    .dataframe thead th {\n",
       "        text-align: right;\n",
       "    }\n",
       "</style>\n",
       "<table border=\"1\" class=\"dataframe\">\n",
       "  <thead>\n",
       "    <tr style=\"text-align: right;\">\n",
       "      <th></th>\n",
       "      <th></th>\n",
       "      <th>Number</th>\n",
       "      <th>Network (Auto-Generates)</th>\n",
       "      <th>Type of Scam</th>\n",
       "      <th>Proofs</th>\n",
       "      <th>Knows your name?\\nCheck if yes</th>\n",
       "      <th>Unnamed: 6</th>\n",
       "      <th>GRAPHS AND STUFF</th>\n",
       "      <th>Unnamed: 8</th>\n",
       "      <th>Unnamed: 9</th>\n",
       "      <th>...</th>\n",
       "      <th>Unnamed: 18</th>\n",
       "      <th>Unnamed: 19</th>\n",
       "      <th>Unnamed: 20</th>\n",
       "      <th>Unnamed: 21</th>\n",
       "      <th>Unnamed: 22</th>\n",
       "      <th>Unnamed: 23</th>\n",
       "      <th>Unnamed: 24</th>\n",
       "      <th>Unnamed: 25</th>\n",
       "      <th>Unnamed: 26</th>\n",
       "      <th>Unnamed: 27</th>\n",
       "    </tr>\n",
       "  </thead>\n",
       "  <tbody>\n",
       "    <tr>\n",
       "      <th>0</th>\n",
       "      <td>1</td>\n",
       "      <td>9103239417</td>\n",
       "      <td>NaN</td>\n",
       "      <td>Work from home</td>\n",
       "      <td>NaN</td>\n",
       "      <td>False</td>\n",
       "      <td>NaN</td>\n",
       "      <td>NaN</td>\n",
       "      <td>NaN</td>\n",
       "      <td>NaN</td>\n",
       "      <td>...</td>\n",
       "      <td>NaN</td>\n",
       "      <td>NaN</td>\n",
       "      <td>NaN</td>\n",
       "      <td>NaN</td>\n",
       "      <td>NaN</td>\n",
       "      <td>NaN</td>\n",
       "      <td>NaN</td>\n",
       "      <td>NaN</td>\n",
       "      <td>NaN</td>\n",
       "      <td>NaN</td>\n",
       "    </tr>\n",
       "    <tr>\n",
       "      <th>1</th>\n",
       "      <td>2</td>\n",
       "      <td>95348643</td>\n",
       "      <td>NaN</td>\n",
       "      <td>Dating Scam</td>\n",
       "      <td>NaN</td>\n",
       "      <td>False</td>\n",
       "      <td>NaN</td>\n",
       "      <td>NaN</td>\n",
       "      <td>NaN</td>\n",
       "      <td>NaN</td>\n",
       "      <td>...</td>\n",
       "      <td>NaN</td>\n",
       "      <td>NaN</td>\n",
       "      <td>NaN</td>\n",
       "      <td>NaN</td>\n",
       "      <td>NaN</td>\n",
       "      <td>NaN</td>\n",
       "      <td>NaN</td>\n",
       "      <td>NaN</td>\n",
       "      <td>NaN</td>\n",
       "      <td>NaN</td>\n",
       "    </tr>\n",
       "    <tr>\n",
       "      <th>2</th>\n",
       "      <td>3</td>\n",
       "      <td>931804865</td>\n",
       "      <td>NaN</td>\n",
       "      <td>work</td>\n",
       "      <td>NaN</td>\n",
       "      <td>False</td>\n",
       "      <td>NaN</td>\n",
       "      <td>NaN</td>\n",
       "      <td>NaN</td>\n",
       "      <td>NaN</td>\n",
       "      <td>...</td>\n",
       "      <td>NaN</td>\n",
       "      <td>NaN</td>\n",
       "      <td>NaN</td>\n",
       "      <td>NaN</td>\n",
       "      <td>NaN</td>\n",
       "      <td>NaN</td>\n",
       "      <td>NaN</td>\n",
       "      <td>NaN</td>\n",
       "      <td>NaN</td>\n",
       "      <td>NaN</td>\n",
       "    </tr>\n",
       "    <tr>\n",
       "      <th>3</th>\n",
       "      <td>4</td>\n",
       "      <td>981197529</td>\n",
       "      <td>NaN</td>\n",
       "      <td>nanalo sa lotto</td>\n",
       "      <td>NaN</td>\n",
       "      <td>False</td>\n",
       "      <td>NaN</td>\n",
       "      <td>NaN</td>\n",
       "      <td>NaN</td>\n",
       "      <td>NaN</td>\n",
       "      <td>...</td>\n",
       "      <td>NaN</td>\n",
       "      <td>NaN</td>\n",
       "      <td>NaN</td>\n",
       "      <td>NaN</td>\n",
       "      <td>NaN</td>\n",
       "      <td>NaN</td>\n",
       "      <td>NaN</td>\n",
       "      <td>NaN</td>\n",
       "      <td>NaN</td>\n",
       "      <td>NaN</td>\n",
       "    </tr>\n",
       "    <tr>\n",
       "      <th>4</th>\n",
       "      <td>5</td>\n",
       "      <td>981369614</td>\n",
       "      <td>NaN</td>\n",
       "      <td>Abroad Opportunity kuno</td>\n",
       "      <td>NaN</td>\n",
       "      <td>False</td>\n",
       "      <td>NaN</td>\n",
       "      <td>NaN</td>\n",
       "      <td>NaN</td>\n",
       "      <td>NaN</td>\n",
       "      <td>...</td>\n",
       "      <td>NaN</td>\n",
       "      <td>NaN</td>\n",
       "      <td>NaN</td>\n",
       "      <td>NaN</td>\n",
       "      <td>NaN</td>\n",
       "      <td>NaN</td>\n",
       "      <td>NaN</td>\n",
       "      <td>NaN</td>\n",
       "      <td>NaN</td>\n",
       "      <td>NaN</td>\n",
       "    </tr>\n",
       "  </tbody>\n",
       "</table>\n",
       "<p>5 rows × 28 columns</p>\n",
       "</div>"
      ],
      "text/plain": [
       "          Number Network (Auto-Generates)             Type of Scam Proofs  \\\n",
       "0  1  9103239417                      NaN           Work from home    NaN   \n",
       "1  2    95348643                      NaN              Dating Scam    NaN   \n",
       "2  3   931804865                      NaN                     work    NaN   \n",
       "3  4   981197529                      NaN          nanalo sa lotto    NaN   \n",
       "4  5   981369614                      NaN  Abroad Opportunity kuno    NaN   \n",
       "\n",
       "  Knows your name?\\nCheck if yes  Unnamed: 6 GRAPHS AND STUFF Unnamed: 8  \\\n",
       "0                          False         NaN              NaN        NaN   \n",
       "1                          False         NaN              NaN        NaN   \n",
       "2                          False         NaN              NaN        NaN   \n",
       "3                          False         NaN              NaN        NaN   \n",
       "4                          False         NaN              NaN        NaN   \n",
       "\n",
       "  Unnamed: 9  ...  Unnamed: 18 Unnamed: 19 Unnamed: 20  Unnamed: 21  \\\n",
       "0        NaN  ...          NaN         NaN         NaN          NaN   \n",
       "1        NaN  ...          NaN         NaN         NaN          NaN   \n",
       "2        NaN  ...          NaN         NaN         NaN          NaN   \n",
       "3        NaN  ...          NaN         NaN         NaN          NaN   \n",
       "4        NaN  ...          NaN         NaN         NaN          NaN   \n",
       "\n",
       "  Unnamed: 22 Unnamed: 23  Unnamed: 24 Unnamed: 25 Unnamed: 26  Unnamed: 27  \n",
       "0         NaN         NaN          NaN         NaN         NaN          NaN  \n",
       "1         NaN         NaN          NaN         NaN         NaN          NaN  \n",
       "2         NaN         NaN          NaN         NaN         NaN          NaN  \n",
       "3         NaN         NaN          NaN         NaN         NaN          NaN  \n",
       "4         NaN         NaN          NaN         NaN         NaN          NaN  \n",
       "\n",
       "[5 rows x 28 columns]"
      ]
     },
     "execution_count": 97,
     "metadata": {},
     "output_type": "execute_result"
    }
   ],
   "source": [
    "report.head()"
   ]
  },
  {
   "cell_type": "code",
   "execution_count": 98,
   "metadata": {},
   "outputs": [
    {
     "data": {
      "text/html": [
       "<div>\n",
       "<style scoped>\n",
       "    .dataframe tbody tr th:only-of-type {\n",
       "        vertical-align: middle;\n",
       "    }\n",
       "\n",
       "    .dataframe tbody tr th {\n",
       "        vertical-align: top;\n",
       "    }\n",
       "\n",
       "    .dataframe thead th {\n",
       "        text-align: right;\n",
       "    }\n",
       "</style>\n",
       "<table border=\"1\" class=\"dataframe\">\n",
       "  <thead>\n",
       "    <tr style=\"text-align: right;\">\n",
       "      <th></th>\n",
       "      <th></th>\n",
       "      <th>Number</th>\n",
       "      <th>Network (Auto-Generates)</th>\n",
       "      <th>Type of Scam</th>\n",
       "      <th>Proofs</th>\n",
       "      <th>Knows your name?\\nCheck if yes</th>\n",
       "    </tr>\n",
       "  </thead>\n",
       "  <tbody>\n",
       "    <tr>\n",
       "      <th>0</th>\n",
       "      <td>1</td>\n",
       "      <td>9103239417</td>\n",
       "      <td>NaN</td>\n",
       "      <td>Work from home</td>\n",
       "      <td>NaN</td>\n",
       "      <td>False</td>\n",
       "    </tr>\n",
       "    <tr>\n",
       "      <th>1</th>\n",
       "      <td>2</td>\n",
       "      <td>95348643</td>\n",
       "      <td>NaN</td>\n",
       "      <td>Dating Scam</td>\n",
       "      <td>NaN</td>\n",
       "      <td>False</td>\n",
       "    </tr>\n",
       "    <tr>\n",
       "      <th>2</th>\n",
       "      <td>3</td>\n",
       "      <td>931804865</td>\n",
       "      <td>NaN</td>\n",
       "      <td>work</td>\n",
       "      <td>NaN</td>\n",
       "      <td>False</td>\n",
       "    </tr>\n",
       "    <tr>\n",
       "      <th>3</th>\n",
       "      <td>4</td>\n",
       "      <td>981197529</td>\n",
       "      <td>NaN</td>\n",
       "      <td>nanalo sa lotto</td>\n",
       "      <td>NaN</td>\n",
       "      <td>False</td>\n",
       "    </tr>\n",
       "    <tr>\n",
       "      <th>4</th>\n",
       "      <td>5</td>\n",
       "      <td>981369614</td>\n",
       "      <td>NaN</td>\n",
       "      <td>Abroad Opportunity kuno</td>\n",
       "      <td>NaN</td>\n",
       "      <td>False</td>\n",
       "    </tr>\n",
       "  </tbody>\n",
       "</table>\n",
       "</div>"
      ],
      "text/plain": [
       "          Number Network (Auto-Generates)             Type of Scam Proofs  \\\n",
       "0  1  9103239417                      NaN           Work from home    NaN   \n",
       "1  2    95348643                      NaN              Dating Scam    NaN   \n",
       "2  3   931804865                      NaN                     work    NaN   \n",
       "3  4   981197529                      NaN          nanalo sa lotto    NaN   \n",
       "4  5   981369614                      NaN  Abroad Opportunity kuno    NaN   \n",
       "\n",
       "  Knows your name?\\nCheck if yes  \n",
       "0                          False  \n",
       "1                          False  \n",
       "2                          False  \n",
       "3                          False  \n",
       "4                          False  "
      ]
     },
     "execution_count": 98,
     "metadata": {},
     "output_type": "execute_result"
    }
   ],
   "source": [
    "select = report.iloc[:, 0:6]\n",
    "select.head()"
   ]
  },
  {
   "cell_type": "code",
   "execution_count": 99,
   "metadata": {},
   "outputs": [
    {
     "data": {
      "text/html": [
       "<div>\n",
       "<style scoped>\n",
       "    .dataframe tbody tr th:only-of-type {\n",
       "        vertical-align: middle;\n",
       "    }\n",
       "\n",
       "    .dataframe tbody tr th {\n",
       "        vertical-align: top;\n",
       "    }\n",
       "\n",
       "    .dataframe thead th {\n",
       "        text-align: right;\n",
       "    }\n",
       "</style>\n",
       "<table border=\"1\" class=\"dataframe\">\n",
       "  <thead>\n",
       "    <tr style=\"text-align: right;\">\n",
       "      <th></th>\n",
       "      <th></th>\n",
       "      <th>Number</th>\n",
       "      <th>Network (Auto-Generates)</th>\n",
       "      <th>Type of Scam</th>\n",
       "      <th>Proofs</th>\n",
       "      <th>Knows your name?\\nCheck if yes</th>\n",
       "    </tr>\n",
       "  </thead>\n",
       "  <tbody>\n",
       "    <tr>\n",
       "      <th>4885</th>\n",
       "      <td>4886</td>\n",
       "      <td>9207721859</td>\n",
       "      <td>Smart or Talk ‘N Text</td>\n",
       "      <td>JACKPOT CITY</td>\n",
       "      <td>*Insert my name*., Just a minimum deposit, you...</td>\n",
       "      <td>True</td>\n",
       "    </tr>\n",
       "    <tr>\n",
       "      <th>4886</th>\n",
       "      <td>4887</td>\n",
       "      <td>9854472269</td>\n",
       "      <td>Smart or Talk ‘N Text</td>\n",
       "      <td>SBET</td>\n",
       "      <td>*insert my name*., Experience SBET, STABLE SYS...</td>\n",
       "      <td>True</td>\n",
       "    </tr>\n",
       "    <tr>\n",
       "      <th>4887</th>\n",
       "      <td>4888</td>\n",
       "      <td>9811248577</td>\n",
       "      <td>Smart or Talk ‘N Text</td>\n",
       "      <td>JACKPOT CITY</td>\n",
       "      <td>*Insert my name*., JACKPOT CITY has the best g...</td>\n",
       "      <td>True</td>\n",
       "    </tr>\n",
       "    <tr>\n",
       "      <th>4888</th>\n",
       "      <td>4889</td>\n",
       "      <td>9855665323</td>\n",
       "      <td>Smart or Talk ‘N Text</td>\n",
       "      <td>Dear VIP</td>\n",
       "      <td>Why are you still waiting, DEAR VIP Get your P...</td>\n",
       "      <td>False</td>\n",
       "    </tr>\n",
       "    <tr>\n",
       "      <th>4890</th>\n",
       "      <td>4891</td>\n",
       "      <td>9264224386</td>\n",
       "      <td>Globe or TM</td>\n",
       "      <td>fake seller</td>\n",
       "      <td>NaN</td>\n",
       "      <td>True</td>\n",
       "    </tr>\n",
       "  </tbody>\n",
       "</table>\n",
       "</div>"
      ],
      "text/plain": [
       "                Number Network (Auto-Generates)  Type of Scam  \\\n",
       "4885  4886  9207721859    Smart or Talk ‘N Text  JACKPOT CITY   \n",
       "4886  4887  9854472269    Smart or Talk ‘N Text          SBET   \n",
       "4887  4888  9811248577    Smart or Talk ‘N Text  JACKPOT CITY   \n",
       "4888  4889  9855665323    Smart or Talk ‘N Text      Dear VIP   \n",
       "4890  4891  9264224386              Globe or TM   fake seller   \n",
       "\n",
       "                                                 Proofs  \\\n",
       "4885  *Insert my name*., Just a minimum deposit, you...   \n",
       "4886  *insert my name*., Experience SBET, STABLE SYS...   \n",
       "4887  *Insert my name*., JACKPOT CITY has the best g...   \n",
       "4888  Why are you still waiting, DEAR VIP Get your P...   \n",
       "4890                                                NaN   \n",
       "\n",
       "     Knows your name?\\nCheck if yes  \n",
       "4885                           True  \n",
       "4886                           True  \n",
       "4887                           True  \n",
       "4888                          False  \n",
       "4890                           True  "
      ]
     },
     "execution_count": 99,
     "metadata": {},
     "output_type": "execute_result"
    }
   ],
   "source": [
    "select = select.dropna(subset=['Number'], axis = 0)\n",
    "select.tail()"
   ]
  },
  {
   "attachments": {},
   "cell_type": "markdown",
   "metadata": {},
   "source": [
    "##### **Columns**"
   ]
  },
  {
   "cell_type": "code",
   "execution_count": 100,
   "metadata": {},
   "outputs": [],
   "source": [
    "#rename all columns\n",
    "select.columns = ['id','number', 'network', 'type', 'proof', 'name']\n"
   ]
  },
  {
   "cell_type": "code",
   "execution_count": 101,
   "metadata": {},
   "outputs": [
    {
     "data": {
      "text/html": [
       "<div>\n",
       "<style scoped>\n",
       "    .dataframe tbody tr th:only-of-type {\n",
       "        vertical-align: middle;\n",
       "    }\n",
       "\n",
       "    .dataframe tbody tr th {\n",
       "        vertical-align: top;\n",
       "    }\n",
       "\n",
       "    .dataframe thead th {\n",
       "        text-align: right;\n",
       "    }\n",
       "</style>\n",
       "<table border=\"1\" class=\"dataframe\">\n",
       "  <thead>\n",
       "    <tr style=\"text-align: right;\">\n",
       "      <th></th>\n",
       "      <th>id</th>\n",
       "      <th>number</th>\n",
       "      <th>network</th>\n",
       "      <th>type</th>\n",
       "      <th>proof</th>\n",
       "      <th>name</th>\n",
       "    </tr>\n",
       "  </thead>\n",
       "  <tbody>\n",
       "    <tr>\n",
       "      <th>0</th>\n",
       "      <td>1</td>\n",
       "      <td>9103239417</td>\n",
       "      <td>NaN</td>\n",
       "      <td>Work from home</td>\n",
       "      <td>NaN</td>\n",
       "      <td>False</td>\n",
       "    </tr>\n",
       "    <tr>\n",
       "      <th>1</th>\n",
       "      <td>2</td>\n",
       "      <td>95348643</td>\n",
       "      <td>NaN</td>\n",
       "      <td>Dating Scam</td>\n",
       "      <td>NaN</td>\n",
       "      <td>False</td>\n",
       "    </tr>\n",
       "    <tr>\n",
       "      <th>2</th>\n",
       "      <td>3</td>\n",
       "      <td>931804865</td>\n",
       "      <td>NaN</td>\n",
       "      <td>work</td>\n",
       "      <td>NaN</td>\n",
       "      <td>False</td>\n",
       "    </tr>\n",
       "    <tr>\n",
       "      <th>3</th>\n",
       "      <td>4</td>\n",
       "      <td>981197529</td>\n",
       "      <td>NaN</td>\n",
       "      <td>nanalo sa lotto</td>\n",
       "      <td>NaN</td>\n",
       "      <td>False</td>\n",
       "    </tr>\n",
       "    <tr>\n",
       "      <th>4</th>\n",
       "      <td>5</td>\n",
       "      <td>981369614</td>\n",
       "      <td>NaN</td>\n",
       "      <td>Abroad Opportunity kuno</td>\n",
       "      <td>NaN</td>\n",
       "      <td>False</td>\n",
       "    </tr>\n",
       "  </tbody>\n",
       "</table>\n",
       "</div>"
      ],
      "text/plain": [
       "   id      number network                     type proof   name\n",
       "0   1  9103239417     NaN           Work from home   NaN  False\n",
       "1   2    95348643     NaN              Dating Scam   NaN  False\n",
       "2   3   931804865     NaN                     work   NaN  False\n",
       "3   4   981197529     NaN          nanalo sa lotto   NaN  False\n",
       "4   5   981369614     NaN  Abroad Opportunity kuno   NaN  False"
      ]
     },
     "execution_count": 101,
     "metadata": {},
     "output_type": "execute_result"
    }
   ],
   "source": [
    "select.head()"
   ]
  },
  {
   "cell_type": "code",
   "execution_count": 102,
   "metadata": {},
   "outputs": [
    {
     "data": {
      "text/plain": [
       "0       910\n",
       "1       953\n",
       "2       931\n",
       "3       981\n",
       "4       981\n",
       "       ... \n",
       "4885    920\n",
       "4886    985\n",
       "4887    981\n",
       "4888    985\n",
       "4890    926\n",
       "Name: indicator, Length: 4883, dtype: object"
      ]
     },
     "execution_count": 102,
     "metadata": {},
     "output_type": "execute_result"
    }
   ],
   "source": [
    "#get the first 4 digits of the number\n",
    "select['indicator'] = select['number'].astype(str).str[:3]\n",
    "select['indicator']"
   ]
  },
  {
   "attachments": {},
   "cell_type": "markdown",
   "metadata": {},
   "source": [
    "#### **Data Cleaning**"
   ]
  },
  {
   "attachments": {},
   "cell_type": "markdown",
   "metadata": {},
   "source": [
    "##### **Network Column**"
   ]
  },
  {
   "cell_type": "code",
   "execution_count": 103,
   "metadata": {},
   "outputs": [
    {
     "data": {
      "text/html": [
       "<div>\n",
       "<style scoped>\n",
       "    .dataframe tbody tr th:only-of-type {\n",
       "        vertical-align: middle;\n",
       "    }\n",
       "\n",
       "    .dataframe tbody tr th {\n",
       "        vertical-align: top;\n",
       "    }\n",
       "\n",
       "    .dataframe thead th {\n",
       "        text-align: right;\n",
       "    }\n",
       "</style>\n",
       "<table border=\"1\" class=\"dataframe\">\n",
       "  <thead>\n",
       "    <tr style=\"text-align: right;\">\n",
       "      <th></th>\n",
       "      <th>id</th>\n",
       "      <th>number</th>\n",
       "      <th>network</th>\n",
       "      <th>type</th>\n",
       "      <th>proof</th>\n",
       "      <th>name</th>\n",
       "      <th>indicator</th>\n",
       "    </tr>\n",
       "  </thead>\n",
       "  <tbody>\n",
       "    <tr>\n",
       "      <th>0</th>\n",
       "      <td>1</td>\n",
       "      <td>9103239417</td>\n",
       "      <td>NaN</td>\n",
       "      <td>Work from home</td>\n",
       "      <td>NaN</td>\n",
       "      <td>False</td>\n",
       "      <td>910</td>\n",
       "    </tr>\n",
       "    <tr>\n",
       "      <th>1</th>\n",
       "      <td>2</td>\n",
       "      <td>95348643</td>\n",
       "      <td>NaN</td>\n",
       "      <td>Dating Scam</td>\n",
       "      <td>NaN</td>\n",
       "      <td>False</td>\n",
       "      <td>953</td>\n",
       "    </tr>\n",
       "    <tr>\n",
       "      <th>2</th>\n",
       "      <td>3</td>\n",
       "      <td>931804865</td>\n",
       "      <td>NaN</td>\n",
       "      <td>work</td>\n",
       "      <td>NaN</td>\n",
       "      <td>False</td>\n",
       "      <td>931</td>\n",
       "    </tr>\n",
       "    <tr>\n",
       "      <th>3</th>\n",
       "      <td>4</td>\n",
       "      <td>981197529</td>\n",
       "      <td>NaN</td>\n",
       "      <td>nanalo sa lotto</td>\n",
       "      <td>NaN</td>\n",
       "      <td>False</td>\n",
       "      <td>981</td>\n",
       "    </tr>\n",
       "    <tr>\n",
       "      <th>4</th>\n",
       "      <td>5</td>\n",
       "      <td>981369614</td>\n",
       "      <td>NaN</td>\n",
       "      <td>Abroad Opportunity kuno</td>\n",
       "      <td>NaN</td>\n",
       "      <td>False</td>\n",
       "      <td>981</td>\n",
       "    </tr>\n",
       "    <tr>\n",
       "      <th>...</th>\n",
       "      <td>...</td>\n",
       "      <td>...</td>\n",
       "      <td>...</td>\n",
       "      <td>...</td>\n",
       "      <td>...</td>\n",
       "      <td>...</td>\n",
       "      <td>...</td>\n",
       "    </tr>\n",
       "    <tr>\n",
       "      <th>4885</th>\n",
       "      <td>4886</td>\n",
       "      <td>9207721859</td>\n",
       "      <td>Smart or Talk ‘N Text</td>\n",
       "      <td>JACKPOT CITY</td>\n",
       "      <td>*Insert my name*., Just a minimum deposit, you...</td>\n",
       "      <td>True</td>\n",
       "      <td>920</td>\n",
       "    </tr>\n",
       "    <tr>\n",
       "      <th>4886</th>\n",
       "      <td>4887</td>\n",
       "      <td>9854472269</td>\n",
       "      <td>Smart or Talk ‘N Text</td>\n",
       "      <td>SBET</td>\n",
       "      <td>*insert my name*., Experience SBET, STABLE SYS...</td>\n",
       "      <td>True</td>\n",
       "      <td>985</td>\n",
       "    </tr>\n",
       "    <tr>\n",
       "      <th>4887</th>\n",
       "      <td>4888</td>\n",
       "      <td>9811248577</td>\n",
       "      <td>Smart or Talk ‘N Text</td>\n",
       "      <td>JACKPOT CITY</td>\n",
       "      <td>*Insert my name*., JACKPOT CITY has the best g...</td>\n",
       "      <td>True</td>\n",
       "      <td>981</td>\n",
       "    </tr>\n",
       "    <tr>\n",
       "      <th>4888</th>\n",
       "      <td>4889</td>\n",
       "      <td>9855665323</td>\n",
       "      <td>Smart or Talk ‘N Text</td>\n",
       "      <td>Dear VIP</td>\n",
       "      <td>Why are you still waiting, DEAR VIP Get your P...</td>\n",
       "      <td>False</td>\n",
       "      <td>985</td>\n",
       "    </tr>\n",
       "    <tr>\n",
       "      <th>4890</th>\n",
       "      <td>4891</td>\n",
       "      <td>9264224386</td>\n",
       "      <td>Globe or TM</td>\n",
       "      <td>fake seller</td>\n",
       "      <td>NaN</td>\n",
       "      <td>True</td>\n",
       "      <td>926</td>\n",
       "    </tr>\n",
       "  </tbody>\n",
       "</table>\n",
       "<p>4883 rows × 7 columns</p>\n",
       "</div>"
      ],
      "text/plain": [
       "        id      number                network                     type  \\\n",
       "0        1  9103239417                    NaN           Work from home   \n",
       "1        2    95348643                    NaN              Dating Scam   \n",
       "2        3   931804865                    NaN                     work   \n",
       "3        4   981197529                    NaN          nanalo sa lotto   \n",
       "4        5   981369614                    NaN  Abroad Opportunity kuno   \n",
       "...    ...         ...                    ...                      ...   \n",
       "4885  4886  9207721859  Smart or Talk ‘N Text             JACKPOT CITY   \n",
       "4886  4887  9854472269  Smart or Talk ‘N Text                     SBET   \n",
       "4887  4888  9811248577  Smart or Talk ‘N Text             JACKPOT CITY   \n",
       "4888  4889  9855665323  Smart or Talk ‘N Text                 Dear VIP   \n",
       "4890  4891  9264224386            Globe or TM              fake seller   \n",
       "\n",
       "                                                  proof   name indicator  \n",
       "0                                                   NaN  False       910  \n",
       "1                                                   NaN  False       953  \n",
       "2                                                   NaN  False       931  \n",
       "3                                                   NaN  False       981  \n",
       "4                                                   NaN  False       981  \n",
       "...                                                 ...    ...       ...  \n",
       "4885  *Insert my name*., Just a minimum deposit, you...   True       920  \n",
       "4886  *insert my name*., Experience SBET, STABLE SYS...   True       985  \n",
       "4887  *Insert my name*., JACKPOT CITY has the best g...   True       981  \n",
       "4888  Why are you still waiting, DEAR VIP Get your P...  False       985  \n",
       "4890                                                NaN   True       926  \n",
       "\n",
       "[4883 rows x 7 columns]"
      ]
     },
     "execution_count": 103,
     "metadata": {},
     "output_type": "execute_result"
    }
   ],
   "source": [
    "# Create a dictionary mapping prefixes to networks from the second dataframe\n",
    "prefix_network_map = dict(zip(network['Prefix'], network['Network']))\n",
    "\n",
    "# Fill null values with corresponding network information using map() but if the number doesn't have a network, just put \"unknwown\"\n",
    "select['network'] = select['number'].map(prefix_network_map).fillna(select['network'])\n",
    "\n",
    "\n",
    "# Print the updated first dataframe\n",
    "select"
   ]
  },
  {
   "cell_type": "code",
   "execution_count": 104,
   "metadata": {},
   "outputs": [
    {
     "data": {
      "text/plain": [
       "Smart or Talk ‘N Text    3205\n",
       "Globe or TM              1240\n",
       "Smart                     289\n",
       "Sun Cellular              134\n",
       "Name: network, dtype: int64"
      ]
     },
     "execution_count": 104,
     "metadata": {},
     "output_type": "execute_result"
    }
   ],
   "source": [
    "select['network'].value_counts()"
   ]
  },
  {
   "cell_type": "code",
   "execution_count": 105,
   "metadata": {},
   "outputs": [
    {
     "data": {
      "text/plain": [
       "4868"
      ]
     },
     "execution_count": 105,
     "metadata": {},
     "output_type": "execute_result"
    }
   ],
   "source": [
    "select['network'].value_counts().sum()"
   ]
  },
  {
   "cell_type": "code",
   "execution_count": 106,
   "metadata": {},
   "outputs": [
    {
     "data": {
      "text/plain": [
       "Smart or Talk 'N Text    3494\n",
       "Globe or TM              1240\n",
       "Sun Cellular              134\n",
       "Unknown                    15\n",
       "Name: network, dtype: int64"
      ]
     },
     "execution_count": 106,
     "metadata": {},
     "output_type": "execute_result"
    }
   ],
   "source": [
    "#making the Smart sim consistent\n",
    "select['network'] = select['network'].replace(['Smart or Talk ‘N Text', 'Smart'], \"Smart or Talk 'N Text\")\n",
    "\n",
    "#fill null values with \"Unknown\"\n",
    "select['network'] = select['network'].fillna('Unknown')\n",
    "select['network'].value_counts()"
   ]
  },
  {
   "cell_type": "code",
   "execution_count": 107,
   "metadata": {},
   "outputs": [
    {
     "data": {
      "text/plain": [
       "4883"
      ]
     },
     "execution_count": 107,
     "metadata": {},
     "output_type": "execute_result"
    }
   ],
   "source": [
    "select['network'].value_counts().sum()"
   ]
  },
  {
   "attachments": {},
   "cell_type": "markdown",
   "metadata": {},
   "source": [
    "##### **Type of Spam column**"
   ]
  },
  {
   "cell_type": "code",
   "execution_count": 108,
   "metadata": {},
   "outputs": [
    {
     "data": {
      "text/html": [
       "<div>\n",
       "<style scoped>\n",
       "    .dataframe tbody tr th:only-of-type {\n",
       "        vertical-align: middle;\n",
       "    }\n",
       "\n",
       "    .dataframe tbody tr th {\n",
       "        vertical-align: top;\n",
       "    }\n",
       "\n",
       "    .dataframe thead th {\n",
       "        text-align: right;\n",
       "    }\n",
       "</style>\n",
       "<table border=\"1\" class=\"dataframe\">\n",
       "  <thead>\n",
       "    <tr style=\"text-align: right;\">\n",
       "      <th></th>\n",
       "      <th>id</th>\n",
       "      <th>number</th>\n",
       "      <th>network</th>\n",
       "      <th>type</th>\n",
       "      <th>proof</th>\n",
       "      <th>name</th>\n",
       "      <th>indicator</th>\n",
       "    </tr>\n",
       "  </thead>\n",
       "  <tbody>\n",
       "    <tr>\n",
       "      <th>0</th>\n",
       "      <td>1</td>\n",
       "      <td>9103239417</td>\n",
       "      <td>Unknown</td>\n",
       "      <td>Work from home</td>\n",
       "      <td>NaN</td>\n",
       "      <td>False</td>\n",
       "      <td>910</td>\n",
       "    </tr>\n",
       "    <tr>\n",
       "      <th>1</th>\n",
       "      <td>2</td>\n",
       "      <td>95348643</td>\n",
       "      <td>Unknown</td>\n",
       "      <td>Dating Scam</td>\n",
       "      <td>NaN</td>\n",
       "      <td>False</td>\n",
       "      <td>953</td>\n",
       "    </tr>\n",
       "    <tr>\n",
       "      <th>2</th>\n",
       "      <td>3</td>\n",
       "      <td>931804865</td>\n",
       "      <td>Unknown</td>\n",
       "      <td>work</td>\n",
       "      <td>NaN</td>\n",
       "      <td>False</td>\n",
       "      <td>931</td>\n",
       "    </tr>\n",
       "    <tr>\n",
       "      <th>3</th>\n",
       "      <td>4</td>\n",
       "      <td>981197529</td>\n",
       "      <td>Unknown</td>\n",
       "      <td>nanalo sa lotto</td>\n",
       "      <td>NaN</td>\n",
       "      <td>False</td>\n",
       "      <td>981</td>\n",
       "    </tr>\n",
       "    <tr>\n",
       "      <th>4</th>\n",
       "      <td>5</td>\n",
       "      <td>981369614</td>\n",
       "      <td>Unknown</td>\n",
       "      <td>Abroad Opportunity kuno</td>\n",
       "      <td>NaN</td>\n",
       "      <td>False</td>\n",
       "      <td>981</td>\n",
       "    </tr>\n",
       "  </tbody>\n",
       "</table>\n",
       "</div>"
      ],
      "text/plain": [
       "   id      number  network                     type proof   name indicator\n",
       "0   1  9103239417  Unknown           Work from home   NaN  False       910\n",
       "1   2    95348643  Unknown              Dating Scam   NaN  False       953\n",
       "2   3   931804865  Unknown                     work   NaN  False       931\n",
       "3   4   981197529  Unknown          nanalo sa lotto   NaN  False       981\n",
       "4   5   981369614  Unknown  Abroad Opportunity kuno   NaN  False       981"
      ]
     },
     "execution_count": 108,
     "metadata": {},
     "output_type": "execute_result"
    }
   ],
   "source": [
    "select.head()"
   ]
  },
  {
   "cell_type": "code",
   "execution_count": 109,
   "metadata": {},
   "outputs": [
    {
     "data": {
      "text/plain": [
       "Fake COVID 19 Cash Grant    9\n",
       "Cash Support                9\n",
       "T1bet7                      9\n",
       "Paload                      9\n",
       "Verification Code           9\n",
       "                           ..\n",
       "6.9m                        1\n",
       "5.8m                        1\n",
       "5000 php                    1\n",
       "good offer                  1\n",
       "fake seller                 1\n",
       "Name: type, Length: 249, dtype: int64"
      ]
     },
     "execution_count": 109,
     "metadata": {},
     "output_type": "execute_result"
    }
   ],
   "source": [
    "#get the value counts less than 50 in the type column\n",
    "select['type'].value_counts()[select['type'].value_counts() < 10]"
   ]
  },
  {
   "cell_type": "code",
   "execution_count": 110,
   "metadata": {},
   "outputs": [
    {
     "data": {
      "text/plain": [
       "Online Games        352\n",
       "Not Specified       322\n",
       "Casino              273\n",
       "Online Casino       211\n",
       "Solar Lights        206\n",
       "Lazada Kuno         150\n",
       "Email               149\n",
       "Work                146\n",
       "Unclaimed Bonus     110\n",
       "Work from home      109\n",
       "Loan/Pautang        108\n",
       "Register and win    106\n",
       "Bank Scam            99\n",
       "Raffle               97\n",
       "Play to Win          82\n",
       "Job Offer            72\n",
       "Rewards              64\n",
       "Deposit scam         63\n",
       "Bonus                57\n",
       "Name                 55\n",
       "BINGO                51\n",
       "Passive Income       51\n",
       "Funds                48\n",
       "Investment           45\n",
       "Gcash scam           44\n",
       "Name: type, dtype: int64"
      ]
     },
     "execution_count": 110,
     "metadata": {},
     "output_type": "execute_result"
    }
   ],
   "source": [
    "#show top 50 value counts in the type column\n",
    "select['type'].value_counts()[:25]"
   ]
  },
  {
   "cell_type": "code",
   "execution_count": 111,
   "metadata": {},
   "outputs": [
    {
     "data": {
      "text/plain": [
       "Nanalo Sa Lotto                  40\n",
       "Claim Money                      40\n",
       "Web Platform                     39\n",
       "Libreng Pera                     37\n",
       "nanalo sa lotto                  37\n",
       "Online Cockfighting              36\n",
       "Mybitglobal                      30\n",
       "Free Gifts                       29\n",
       "Gaming Platform                  29\n",
       "Can assist in cash essentials    29\n",
       "Play to Earn                     27\n",
       "W.Plus                           27\n",
       "Globe                            24\n",
       "work                             24\n",
       "your phone no has won            22\n",
       "Netflix kuno                     22\n",
       "Cryptocurrency                   21\n",
       "Big J@CKP0T                      20\n",
       "JILI and FC Jackpot              20\n",
       "Top-up Bonus                     19\n",
       "Legit Site daw                   19\n",
       "Free Spin                        19\n",
       "Political                        19\n",
       "Abroad Opportunity kuno          19\n",
       "Name: type, dtype: int64"
      ]
     },
     "execution_count": 111,
     "metadata": {},
     "output_type": "execute_result"
    }
   ],
   "source": [
    "select['type'].value_counts()[26:50]"
   ]
  },
  {
   "cell_type": "code",
   "execution_count": 112,
   "metadata": {},
   "outputs": [
    {
     "data": {
      "text/plain": [
       "4679"
      ]
     },
     "execution_count": 112,
     "metadata": {},
     "output_type": "execute_result"
    }
   ],
   "source": [
    "#get allunqite values in the type column\n",
    "select['type'].value_counts().sum()"
   ]
  },
  {
   "cell_type": "code",
   "execution_count": 113,
   "metadata": {},
   "outputs": [
    {
     "name": "stderr",
     "output_type": "stream",
     "text": [
      "C:\\Users\\Mos\\AppData\\Local\\Temp\\ipykernel_15984\\435666861.py:5: FutureWarning: The default value of regex will change from True to False in a future version.\n",
      "  select['type'] = select['type'].str.replace('[^\\w\\s]','')\n",
      "C:\\Users\\Mos\\AppData\\Local\\Temp\\ipykernel_15984\\435666861.py:8: FutureWarning: The default value of regex will change from True to False in a future version.\n",
      "  select['type'] = select['type'].str.replace('\\d+', '')\n"
     ]
    },
    {
     "data": {
      "text/plain": [
       "online games      354\n",
       "not specified     322\n",
       "casino            275\n",
       "online casino     212\n",
       "solar lights      206\n",
       "                 ... \n",
       "laismcom            1\n",
       "irpkesocom          1\n",
       "claim rebate        1\n",
       "globe bernales      1\n",
       "fake seller         1\n",
       "Name: type, Length: 302, dtype: int64"
      ]
     },
     "execution_count": 113,
     "metadata": {},
     "output_type": "execute_result"
    }
   ],
   "source": [
    "#lowercasing the type column\n",
    "select['type'] = select['type'].str.lower()\n",
    "\n",
    "#removing all punctuation using regex\n",
    "select['type'] = select['type'].str.replace('[^\\w\\s]','')\n",
    "\n",
    "#removing all numbers using regex\n",
    "select['type'] = select['type'].str.replace('\\d+', '')\n",
    "\n",
    "#removing all extra spaces\n",
    "select['type'] = select['type'].str.strip()\n",
    "\n",
    "\n",
    "select['type'].value_counts()"
   ]
  },
  {
   "cell_type": "code",
   "execution_count": 114,
   "metadata": {},
   "outputs": [
    {
     "data": {
      "text/plain": [
       "casino/gambling    632\n",
       "others             597\n",
       "not specified      512\n",
       "online games       354\n",
       "work               313\n",
       "money              272\n",
       "loan/bank          256\n",
       "raffle/play        234\n",
       "products           206\n",
       "online shopping    181\n",
       "email              150\n",
       "claiming           130\n",
       "unclaimed bonus    111\n",
       "platform           102\n",
       "raffle              98\n",
       "lotto               78\n",
       "job offer           72\n",
       "rewards             64\n",
       "deposit scam        63\n",
       "free                61\n",
       "passive income      51\n",
       "gcash               44\n",
       "globe               24\n",
       "netflix             22\n",
       "political           19\n",
       "fake news           17\n",
       "phone call scam     16\n",
       "Name: type, dtype: int64"
      ]
     },
     "execution_count": 114,
     "metadata": {},
     "output_type": "execute_result"
    }
   ],
   "source": [
    "#replace specific values in the type column\n",
    "select['type'] = select['type'].replace(['casino','online casino','bingo', 'big jckpt','jili and fc jackpot','online cockfighting', 'bingo plus'], \"casino/gambling\")\n",
    "select['type'] = select['type'].replace(['lazada kuno', 'amazon', 'shoppee kuno'], \"online shopping\")\n",
    "select['type'] = select['type'].replace(['loanpautang','bank scam','investment'], \"loan/bank\")\n",
    "select['type'] = select['type'].replace(['register and win', 'play to win', 'resgister and win', 'play to earn'], \"raffle/play\")\n",
    "select['type'] = select['type'].replace(['nanalo sa lotto'], \"lotto\")\n",
    "select['type'] = select['type'].replace(['gcash scam'], \"gcash\")\n",
    "select['type'] = select['type'].replace(['claim bnus', 'claim money','your phone no has won', 'pindutin para kunin', 'salary claim'], \"claiming\")\n",
    "select['type'] = select['type'].replace(['cryptocurrency', 'libreng pera', 'funds', 'bonus','can assist in cash essentials', 'topup bonus', 'deposit bonus', 'cash prize', 'fastcashvip', 'cashback'], \"money\")\n",
    "select['type'] = select['type'].replace(['abroad opportunity kuno', 'work from home', 'interview'], \"work\")\n",
    "select['type'] = select['type'].replace(['web platform', 'gaming platform','legit site daw','magbukas ng account'], \"platform\")\n",
    "select['type'] = select['type'].replace(['free gifts','free spin', 'free luckyphil'], \"free\")\n",
    "select['type'] = select['type'].replace(['netflix kuno'], \"netflix\")\n",
    "select['type'] = select['type'].replace(['solar lights'], \"products\")\n",
    "select['type'] = select['type'].replace([''], \"\")\n",
    "select['type'] = select['type'].replace([''], \"\")\n",
    "select['type'] = select['type'].replace([''], \"\")\n",
    "\n",
    "\n",
    "select['type'] = select['type'].replace(['mybitglobal','wplus', 'tbet','okbet','m kita', 'name', 'not specified', 'blank message', 'urgent'], \"not specified\")\n",
    "\n",
    "#replace values less than or equal to 3 with \"others\"\n",
    "select['type'] = select['type'].replace(select['type'].value_counts()[select['type'].value_counts() <= 10].index, \"others\")\n",
    "select['type'] = select['type'].replace(['reliefassistance fund', 'pagcor licensed', 'dating scam'], \"others\")\n",
    "\n",
    "select['type'].value_counts()"
   ]
  },
  {
   "cell_type": "code",
   "execution_count": 115,
   "metadata": {},
   "outputs": [
    {
     "data": {
      "text/plain": [
       "4679"
      ]
     },
     "execution_count": 115,
     "metadata": {},
     "output_type": "execute_result"
    }
   ],
   "source": [
    "select['type'].value_counts().sum()"
   ]
  },
  {
   "attachments": {},
   "cell_type": "markdown",
   "metadata": {},
   "source": [
    "##### **Proof column**"
   ]
  },
  {
   "cell_type": "code",
   "execution_count": 116,
   "metadata": {},
   "outputs": [
    {
     "data": {
      "text/html": [
       "<div>\n",
       "<style scoped>\n",
       "    .dataframe tbody tr th:only-of-type {\n",
       "        vertical-align: middle;\n",
       "    }\n",
       "\n",
       "    .dataframe tbody tr th {\n",
       "        vertical-align: top;\n",
       "    }\n",
       "\n",
       "    .dataframe thead th {\n",
       "        text-align: right;\n",
       "    }\n",
       "</style>\n",
       "<table border=\"1\" class=\"dataframe\">\n",
       "  <thead>\n",
       "    <tr style=\"text-align: right;\">\n",
       "      <th></th>\n",
       "      <th>id</th>\n",
       "      <th>number</th>\n",
       "      <th>network</th>\n",
       "      <th>type</th>\n",
       "      <th>proof</th>\n",
       "      <th>name</th>\n",
       "      <th>indicator</th>\n",
       "    </tr>\n",
       "  </thead>\n",
       "  <tbody>\n",
       "    <tr>\n",
       "      <th>0</th>\n",
       "      <td>1</td>\n",
       "      <td>9103239417</td>\n",
       "      <td>Unknown</td>\n",
       "      <td>work</td>\n",
       "      <td>NaN</td>\n",
       "      <td>False</td>\n",
       "      <td>910</td>\n",
       "    </tr>\n",
       "    <tr>\n",
       "      <th>1</th>\n",
       "      <td>2</td>\n",
       "      <td>95348643</td>\n",
       "      <td>Unknown</td>\n",
       "      <td>others</td>\n",
       "      <td>NaN</td>\n",
       "      <td>False</td>\n",
       "      <td>953</td>\n",
       "    </tr>\n",
       "    <tr>\n",
       "      <th>2</th>\n",
       "      <td>3</td>\n",
       "      <td>931804865</td>\n",
       "      <td>Unknown</td>\n",
       "      <td>work</td>\n",
       "      <td>NaN</td>\n",
       "      <td>False</td>\n",
       "      <td>931</td>\n",
       "    </tr>\n",
       "    <tr>\n",
       "      <th>3</th>\n",
       "      <td>4</td>\n",
       "      <td>981197529</td>\n",
       "      <td>Unknown</td>\n",
       "      <td>lotto</td>\n",
       "      <td>NaN</td>\n",
       "      <td>False</td>\n",
       "      <td>981</td>\n",
       "    </tr>\n",
       "    <tr>\n",
       "      <th>4</th>\n",
       "      <td>5</td>\n",
       "      <td>981369614</td>\n",
       "      <td>Unknown</td>\n",
       "      <td>work</td>\n",
       "      <td>NaN</td>\n",
       "      <td>False</td>\n",
       "      <td>981</td>\n",
       "    </tr>\n",
       "  </tbody>\n",
       "</table>\n",
       "</div>"
      ],
      "text/plain": [
       "   id      number  network    type proof   name indicator\n",
       "0   1  9103239417  Unknown    work   NaN  False       910\n",
       "1   2    95348643  Unknown  others   NaN  False       953\n",
       "2   3   931804865  Unknown    work   NaN  False       931\n",
       "3   4   981197529  Unknown   lotto   NaN  False       981\n",
       "4   5   981369614  Unknown    work   NaN  False       981"
      ]
     },
     "execution_count": 116,
     "metadata": {},
     "output_type": "execute_result"
    }
   ],
   "source": [
    "select.head()"
   ]
  },
  {
   "cell_type": "code",
   "execution_count": 117,
   "metadata": {},
   "outputs": [
    {
     "data": {
      "text/plain": [
       "1256"
      ]
     },
     "execution_count": 117,
     "metadata": {},
     "output_type": "execute_result"
    }
   ],
   "source": [
    "select['proof'].value_counts().sum()"
   ]
  },
  {
   "cell_type": "code",
   "execution_count": 118,
   "metadata": {},
   "outputs": [
    {
     "name": "stderr",
     "output_type": "stream",
     "text": [
      "C:\\Users\\Mos\\AppData\\Local\\Temp\\ipykernel_15984\\3329777354.py:2: FutureWarning: The default value of regex will change from True to False in a future version.\n",
      "  select['proof'] = select['proof'].str.replace(r'\\*insert my name\\*\\., ', '', flags=re.IGNORECASE)\n"
     ]
    }
   ],
   "source": [
    "#use regex to remove \" *Insert my name*., \"\n",
    "select['proof'] = select['proof'].str.replace(r'\\*insert my name\\*\\., ', '', flags=re.IGNORECASE)"
   ]
  },
  {
   "cell_type": "code",
   "execution_count": 119,
   "metadata": {},
   "outputs": [
    {
     "data": {
      "text/plain": [
       "<bound method Series.info of 0                                                     NaN\n",
       "1                                                     NaN\n",
       "2                                                     NaN\n",
       "3                                                     NaN\n",
       "4                                                     NaN\n",
       "                              ...                        \n",
       "4885    Just a minimum deposit, you can double your mo...\n",
       "4886    Experience SBET, STABLE SYSTEM, NO MAINTENANCE...\n",
       "4887    JACKPOT CITY has the best gaming experience an...\n",
       "4888    Why are you still waiting, DEAR VIP Get your P...\n",
       "4890                                                  NaN\n",
       "Name: proof, Length: 4883, dtype: object>"
      ]
     },
     "execution_count": 119,
     "metadata": {},
     "output_type": "execute_result"
    }
   ],
   "source": [
    "select['proof'].info"
   ]
  },
  {
   "attachments": {},
   "cell_type": "markdown",
   "metadata": {},
   "source": [
    "##### **Name column**"
   ]
  },
  {
   "cell_type": "code",
   "execution_count": 120,
   "metadata": {},
   "outputs": [
    {
     "data": {
      "text/plain": [
       "False                                                                                                                          4669\n",
       "True                                                                                                                            195\n",
       "linky-ph/-BingoPlus                                                                                                               2\n",
       "Atin/B.e.t/  is  B.e.s.t On/l.i.n.e Ca/si.n0 in the Philippines. http://okadaonline.pics/KsN G/e/t 80 % for every de/po/sit       2\n",
       "Mentioned my name and the link. Ayaw nya daw ako maging mahirap HAHHAHA                                                           1\n",
       "98 Games; Cash in                                                                                                                 1\n",
       "http://gcxvd2ny.com                                                                                                               1\n",
       "mentioned my name                                                                                                                 1\n",
       "https://linnki.in/WNgzX                                                                                                           1\n",
       "mentioned my full name                                                                                                            1\n",
       "Mybitglobal (https://t.co/9GDnInpR0M                                                                                              1\n",
       "*got my name from viber                                                                                                           1\n",
       "wplusb3t4you.com/P2n2-Ng-Sw3rt3                                                                                                   1\n",
       "https://bit.ly/6vCnboP                                                                                                            1\n",
       "https://t.hxfxph.com./YP1WL                                                                                                       1\n",
       "http://ox4xtu.com                                                                                                                 1\n",
       "luckyphil.com/login                                                                                                               1\n",
       "https://lihi1.com/7QQPD                                                                                                           1\n",
       "Name: name, dtype: int64"
      ]
     },
     "execution_count": 120,
     "metadata": {},
     "output_type": "execute_result"
    }
   ],
   "source": [
    "select['name'].value_counts()"
   ]
  },
  {
   "cell_type": "code",
   "execution_count": 121,
   "metadata": {},
   "outputs": [
    {
     "data": {
      "text/plain": [
       "4882"
      ]
     },
     "execution_count": 121,
     "metadata": {},
     "output_type": "execute_result"
    }
   ],
   "source": [
    "select['name'].value_counts().sum()"
   ]
  },
  {
   "cell_type": "code",
   "execution_count": 122,
   "metadata": {},
   "outputs": [],
   "source": [
    "select['name'] = select['name'].apply(lambda x: True if isinstance(x, str) and re.search(r'\\bname\\b', x) else x)"
   ]
  },
  {
   "cell_type": "code",
   "execution_count": 123,
   "metadata": {},
   "outputs": [
    {
     "data": {
      "text/plain": [
       "False                                                                                                                          4669\n",
       "True                                                                                                                            199\n",
       "linky-ph/-BingoPlus                                                                                                               2\n",
       "Atin/B.e.t/  is  B.e.s.t On/l.i.n.e Ca/si.n0 in the Philippines. http://okadaonline.pics/KsN G/e/t 80 % for every de/po/sit       2\n",
       "98 Games; Cash in                                                                                                                 1\n",
       "http://gcxvd2ny.com                                                                                                               1\n",
       "https://linnki.in/WNgzX                                                                                                           1\n",
       "Mybitglobal (https://t.co/9GDnInpR0M                                                                                              1\n",
       "https://lihi1.com/7QQPD                                                                                                           1\n",
       "wplusb3t4you.com/P2n2-Ng-Sw3rt3                                                                                                   1\n",
       "https://bit.ly/6vCnboP                                                                                                            1\n",
       "https://t.hxfxph.com./YP1WL                                                                                                       1\n",
       "http://ox4xtu.com                                                                                                                 1\n",
       "luckyphil.com/login                                                                                                               1\n",
       "Name: name, dtype: int64"
      ]
     },
     "execution_count": 123,
     "metadata": {},
     "output_type": "execute_result"
    }
   ],
   "source": [
    "select['name'].value_counts()"
   ]
  },
  {
   "cell_type": "code",
   "execution_count": 124,
   "metadata": {},
   "outputs": [
    {
     "data": {
      "text/plain": [
       "False    4684\n",
       "True      199\n",
       "Name: name, dtype: int64"
      ]
     },
     "execution_count": 124,
     "metadata": {},
     "output_type": "execute_result"
    }
   ],
   "source": [
    "select['name'] = select['name'].astype(str)\n",
    "\n",
    "# Replace non-Boolean values with False\n",
    "select.loc[~select['name'].str.lower().isin(['true', 'false']), 'name'] = 'False'\n",
    "\n",
    "select['name'].value_counts()"
   ]
  },
  {
   "cell_type": "code",
   "execution_count": 125,
   "metadata": {},
   "outputs": [
    {
     "data": {
      "text/plain": [
       "4883"
      ]
     },
     "execution_count": 125,
     "metadata": {},
     "output_type": "execute_result"
    }
   ],
   "source": [
    "select['name'].value_counts().sum()"
   ]
  },
  {
   "attachments": {},
   "cell_type": "markdown",
   "metadata": {},
   "source": [
    "### **Spam**"
   ]
  },
  {
   "attachments": {},
   "cell_type": "markdown",
   "metadata": {},
   "source": [
    "#### **Data Preprocessing**"
   ]
  },
  {
   "cell_type": "code",
   "execution_count": 126,
   "metadata": {},
   "outputs": [
    {
     "name": "stdout",
     "output_type": "stream",
     "text": [
      "<class 'pandas.core.frame.DataFrame'>\n",
      "RangeIndex: 170 entries, 0 to 169\n",
      "Data columns (total 6 columns):\n",
      " #   Column      Non-Null Count  Dtype \n",
      "---  ------      --------------  ----- \n",
      " 0   Unnamed: 0  170 non-null    int64 \n",
      " 1   _id         170 non-null    int64 \n",
      " 2   address     170 non-null    object\n",
      " 3   date        170 non-null    object\n",
      " 4   text        170 non-null    object\n",
      " 5   threadId    170 non-null    int64 \n",
      "dtypes: int64(3), object(3)\n",
      "memory usage: 8.1+ KB\n"
     ]
    }
   ],
   "source": [
    "spam.info()"
   ]
  },
  {
   "cell_type": "code",
   "execution_count": 127,
   "metadata": {},
   "outputs": [
    {
     "data": {
      "text/html": [
       "<div>\n",
       "<style scoped>\n",
       "    .dataframe tbody tr th:only-of-type {\n",
       "        vertical-align: middle;\n",
       "    }\n",
       "\n",
       "    .dataframe tbody tr th {\n",
       "        vertical-align: top;\n",
       "    }\n",
       "\n",
       "    .dataframe thead th {\n",
       "        text-align: right;\n",
       "    }\n",
       "</style>\n",
       "<table border=\"1\" class=\"dataframe\">\n",
       "  <thead>\n",
       "    <tr style=\"text-align: right;\">\n",
       "      <th></th>\n",
       "      <th>date</th>\n",
       "      <th>text</th>\n",
       "    </tr>\n",
       "  </thead>\n",
       "  <tbody>\n",
       "    <tr>\n",
       "      <th>0</th>\n",
       "      <td>2022-11-12 14:02:10.079</td>\n",
       "      <td>Welcome ! your have P1222 for S!ot , \\nWeb: 11...</td>\n",
       "    </tr>\n",
       "    <tr>\n",
       "      <th>1</th>\n",
       "      <td>2022-11-12 14:33:48.916</td>\n",
       "      <td>My god, at least 999P rewards waiting for you\\...</td>\n",
       "    </tr>\n",
       "    <tr>\n",
       "      <th>2</th>\n",
       "      <td>2022-11-13 23:03:15.023</td>\n",
       "      <td>DEAR VIP &lt;REAL NAME&gt;, No. 1 Online Sabong Site...</td>\n",
       "    </tr>\n",
       "    <tr>\n",
       "      <th>3</th>\n",
       "      <td>2022-11-14 00:07:18.715</td>\n",
       "      <td>&lt;REAL NAME&gt;! Today, you can win the iphone14PR...</td>\n",
       "    </tr>\n",
       "    <tr>\n",
       "      <th>4</th>\n",
       "      <td>2022-11-15 02:28:56.636</td>\n",
       "      <td>Welcome ! your have P1222 for S!ot , \\nWeb: gr...</td>\n",
       "    </tr>\n",
       "  </tbody>\n",
       "</table>\n",
       "</div>"
      ],
      "text/plain": [
       "                      date                                               text\n",
       "0  2022-11-12 14:02:10.079  Welcome ! your have P1222 for S!ot , \\nWeb: 11...\n",
       "1  2022-11-12 14:33:48.916  My god, at least 999P rewards waiting for you\\...\n",
       "2  2022-11-13 23:03:15.023  DEAR VIP <REAL NAME>, No. 1 Online Sabong Site...\n",
       "3  2022-11-14 00:07:18.715  <REAL NAME>! Today, you can win the iphone14PR...\n",
       "4  2022-11-15 02:28:56.636  Welcome ! your have P1222 for S!ot , \\nWeb: gr..."
      ]
     },
     "execution_count": 127,
     "metadata": {},
     "output_type": "execute_result"
    }
   ],
   "source": [
    "#dropping unnecessary columns\n",
    "spam = spam.drop(['Unnamed: 0', '_id', 'address', 'threadId'], axis = 1)\n",
    "\n",
    "spam.head()"
   ]
  },
  {
   "cell_type": "code",
   "execution_count": 128,
   "metadata": {},
   "outputs": [],
   "source": [
    "#drop rows that contain '<<Content not supported.>>'\n",
    "spam = spam[~spam['text'].str.contains('<<Content not supported\\.>>', case=False)]"
   ]
  },
  {
   "attachments": {},
   "cell_type": "markdown",
   "metadata": {},
   "source": [
    "#### **Data Cleaning**"
   ]
  },
  {
   "cell_type": "code",
   "execution_count": 129,
   "metadata": {},
   "outputs": [],
   "source": [
    "spam['date'] = pd.to_datetime(spam['date'])"
   ]
  },
  {
   "cell_type": "code",
   "execution_count": 130,
   "metadata": {},
   "outputs": [],
   "source": [
    "spam['Date'] = spam['date'].dt.date\n",
    "spam['Time'] = spam['date'].dt.strftime('%H:%M')"
   ]
  },
  {
   "cell_type": "code",
   "execution_count": 131,
   "metadata": {},
   "outputs": [
    {
     "data": {
      "text/html": [
       "<div>\n",
       "<style scoped>\n",
       "    .dataframe tbody tr th:only-of-type {\n",
       "        vertical-align: middle;\n",
       "    }\n",
       "\n",
       "    .dataframe tbody tr th {\n",
       "        vertical-align: top;\n",
       "    }\n",
       "\n",
       "    .dataframe thead th {\n",
       "        text-align: right;\n",
       "    }\n",
       "</style>\n",
       "<table border=\"1\" class=\"dataframe\">\n",
       "  <thead>\n",
       "    <tr style=\"text-align: right;\">\n",
       "      <th></th>\n",
       "      <th>date</th>\n",
       "      <th>text</th>\n",
       "      <th>Date</th>\n",
       "      <th>Time</th>\n",
       "    </tr>\n",
       "  </thead>\n",
       "  <tbody>\n",
       "    <tr>\n",
       "      <th>0</th>\n",
       "      <td>2022-11-12 14:02:10.079</td>\n",
       "      <td>Welcome ! your have P1222 for S!ot , \\nWeb: 11...</td>\n",
       "      <td>2022-11-12</td>\n",
       "      <td>14:02</td>\n",
       "    </tr>\n",
       "    <tr>\n",
       "      <th>1</th>\n",
       "      <td>2022-11-12 14:33:48.916</td>\n",
       "      <td>My god, at least 999P rewards waiting for you\\...</td>\n",
       "      <td>2022-11-12</td>\n",
       "      <td>14:33</td>\n",
       "    </tr>\n",
       "    <tr>\n",
       "      <th>2</th>\n",
       "      <td>2022-11-13 23:03:15.023</td>\n",
       "      <td>DEAR VIP &lt;REAL NAME&gt;, No. 1 Online Sabong Site...</td>\n",
       "      <td>2022-11-13</td>\n",
       "      <td>23:03</td>\n",
       "    </tr>\n",
       "    <tr>\n",
       "      <th>3</th>\n",
       "      <td>2022-11-14 00:07:18.715</td>\n",
       "      <td>&lt;REAL NAME&gt;! Today, you can win the iphone14PR...</td>\n",
       "      <td>2022-11-14</td>\n",
       "      <td>00:07</td>\n",
       "    </tr>\n",
       "    <tr>\n",
       "      <th>4</th>\n",
       "      <td>2022-11-15 02:28:56.636</td>\n",
       "      <td>Welcome ! your have P1222 for S!ot , \\nWeb: gr...</td>\n",
       "      <td>2022-11-15</td>\n",
       "      <td>02:28</td>\n",
       "    </tr>\n",
       "  </tbody>\n",
       "</table>\n",
       "</div>"
      ],
      "text/plain": [
       "                     date                                               text  \\\n",
       "0 2022-11-12 14:02:10.079  Welcome ! your have P1222 for S!ot , \\nWeb: 11...   \n",
       "1 2022-11-12 14:33:48.916  My god, at least 999P rewards waiting for you\\...   \n",
       "2 2022-11-13 23:03:15.023  DEAR VIP <REAL NAME>, No. 1 Online Sabong Site...   \n",
       "3 2022-11-14 00:07:18.715  <REAL NAME>! Today, you can win the iphone14PR...   \n",
       "4 2022-11-15 02:28:56.636  Welcome ! your have P1222 for S!ot , \\nWeb: gr...   \n",
       "\n",
       "         Date   Time  \n",
       "0  2022-11-12  14:02  \n",
       "1  2022-11-12  14:33  \n",
       "2  2022-11-13  23:03  \n",
       "3  2022-11-14  00:07  \n",
       "4  2022-11-15  02:28  "
      ]
     },
     "execution_count": 131,
     "metadata": {},
     "output_type": "execute_result"
    }
   ],
   "source": [
    "spam.head()"
   ]
  },
  {
   "cell_type": "code",
   "execution_count": 132,
   "metadata": {},
   "outputs": [],
   "source": [
    "#drop date column\n",
    "spam = spam.drop(['date'], axis = 1)"
   ]
  },
  {
   "cell_type": "code",
   "execution_count": 133,
   "metadata": {},
   "outputs": [
    {
     "data": {
      "text/plain": [
       "159"
      ]
     },
     "execution_count": 133,
     "metadata": {},
     "output_type": "execute_result"
    }
   ],
   "source": [
    "spam['text'].value_counts().sum()"
   ]
  },
  {
   "cell_type": "code",
   "execution_count": 134,
   "metadata": {},
   "outputs": [
    {
     "data": {
      "text/plain": [
       "False    88\n",
       "True     71\n",
       "Name: name, dtype: int64"
      ]
     },
     "execution_count": 134,
     "metadata": {},
     "output_type": "execute_result"
    }
   ],
   "source": [
    "spam['name'] = spam['text'].apply(lambda x: True if '<REAL NAME>' in x else False)\n",
    "\n",
    "spam['name'].value_counts()"
   ]
  },
  {
   "cell_type": "code",
   "execution_count": 135,
   "metadata": {},
   "outputs": [],
   "source": [
    "#remove <REAL NAME> from the text column\n",
    "spam['text'] = spam['text'].str.replace('<REAL NAME>', '', flags=re.IGNORECASE)"
   ]
  },
  {
   "attachments": {},
   "cell_type": "markdown",
   "metadata": {},
   "source": [
    "### **Incidents**"
   ]
  },
  {
   "attachments": {},
   "cell_type": "markdown",
   "metadata": {},
   "source": [
    "#### **Data Preprocessing**"
   ]
  },
  {
   "cell_type": "code",
   "execution_count": 136,
   "metadata": {},
   "outputs": [
    {
     "data": {
      "text/html": [
       "<div>\n",
       "<style scoped>\n",
       "    .dataframe tbody tr th:only-of-type {\n",
       "        vertical-align: middle;\n",
       "    }\n",
       "\n",
       "    .dataframe tbody tr th {\n",
       "        vertical-align: top;\n",
       "    }\n",
       "\n",
       "    .dataframe thead th {\n",
       "        text-align: right;\n",
       "    }\n",
       "</style>\n",
       "<table border=\"1\" class=\"dataframe\">\n",
       "  <thead>\n",
       "    <tr style=\"text-align: right;\">\n",
       "      <th></th>\n",
       "      <th>Unnamed: 0</th>\n",
       "      <th>Unnamed: 1</th>\n",
       "      <th>Unnamed: 2</th>\n",
       "    </tr>\n",
       "  </thead>\n",
       "  <tbody>\n",
       "    <tr>\n",
       "      <th>0</th>\n",
       "      <td>NaN</td>\n",
       "      <td>NaN</td>\n",
       "      <td>NaN</td>\n",
       "    </tr>\n",
       "    <tr>\n",
       "      <th>1</th>\n",
       "      <td>NaN</td>\n",
       "      <td>Number of SMS fraud or text scams incidents Ph...</td>\n",
       "      <td>NaN</td>\n",
       "    </tr>\n",
       "    <tr>\n",
       "      <th>2</th>\n",
       "      <td>NaN</td>\n",
       "      <td>Total number of SMS fraud or text scam inciden...</td>\n",
       "      <td>NaN</td>\n",
       "    </tr>\n",
       "    <tr>\n",
       "      <th>3</th>\n",
       "      <td>NaN</td>\n",
       "      <td>NaN</td>\n",
       "      <td>NaN</td>\n",
       "    </tr>\n",
       "    <tr>\n",
       "      <th>4</th>\n",
       "      <td>NaN</td>\n",
       "      <td>Region 3</td>\n",
       "      <td>3484.73</td>\n",
       "    </tr>\n",
       "    <tr>\n",
       "      <th>5</th>\n",
       "      <td>NaN</td>\n",
       "      <td>Region 6</td>\n",
       "      <td>2778.36</td>\n",
       "    </tr>\n",
       "    <tr>\n",
       "      <th>6</th>\n",
       "      <td>NaN</td>\n",
       "      <td>NCR</td>\n",
       "      <td>2739.52</td>\n",
       "    </tr>\n",
       "    <tr>\n",
       "      <th>7</th>\n",
       "      <td>NaN</td>\n",
       "      <td>Region 4-A</td>\n",
       "      <td>2426.91</td>\n",
       "    </tr>\n",
       "    <tr>\n",
       "      <th>8</th>\n",
       "      <td>NaN</td>\n",
       "      <td>Region 7</td>\n",
       "      <td>1366.43</td>\n",
       "    </tr>\n",
       "    <tr>\n",
       "      <th>9</th>\n",
       "      <td>NaN</td>\n",
       "      <td>CARAGA</td>\n",
       "      <td>500.00</td>\n",
       "    </tr>\n",
       "    <tr>\n",
       "      <th>10</th>\n",
       "      <td>NaN</td>\n",
       "      <td>BARMM</td>\n",
       "      <td>390.48</td>\n",
       "    </tr>\n",
       "    <tr>\n",
       "      <th>11</th>\n",
       "      <td>NaN</td>\n",
       "      <td>Region 12</td>\n",
       "      <td>390.41</td>\n",
       "    </tr>\n",
       "    <tr>\n",
       "      <th>12</th>\n",
       "      <td>NaN</td>\n",
       "      <td>Region 4-B</td>\n",
       "      <td>386.18</td>\n",
       "    </tr>\n",
       "    <tr>\n",
       "      <th>13</th>\n",
       "      <td>NaN</td>\n",
       "      <td>Region 10</td>\n",
       "      <td>374.01</td>\n",
       "    </tr>\n",
       "    <tr>\n",
       "      <th>14</th>\n",
       "      <td>NaN</td>\n",
       "      <td>Region 8</td>\n",
       "      <td>367.73</td>\n",
       "    </tr>\n",
       "    <tr>\n",
       "      <th>15</th>\n",
       "      <td>NaN</td>\n",
       "      <td>Region 11</td>\n",
       "      <td>189.71</td>\n",
       "    </tr>\n",
       "    <tr>\n",
       "      <th>16</th>\n",
       "      <td>NaN</td>\n",
       "      <td>Region 9</td>\n",
       "      <td>116.92</td>\n",
       "    </tr>\n",
       "    <tr>\n",
       "      <th>17</th>\n",
       "      <td>NaN</td>\n",
       "      <td>Region 1</td>\n",
       "      <td>113.30</td>\n",
       "    </tr>\n",
       "    <tr>\n",
       "      <th>18</th>\n",
       "      <td>NaN</td>\n",
       "      <td>CAR</td>\n",
       "      <td>112.60</td>\n",
       "    </tr>\n",
       "    <tr>\n",
       "      <th>19</th>\n",
       "      <td>NaN</td>\n",
       "      <td>Region 5</td>\n",
       "      <td>94.22</td>\n",
       "    </tr>\n",
       "    <tr>\n",
       "      <th>20</th>\n",
       "      <td>NaN</td>\n",
       "      <td>Region 2</td>\n",
       "      <td>83.33</td>\n",
       "    </tr>\n",
       "  </tbody>\n",
       "</table>\n",
       "</div>"
      ],
      "text/plain": [
       "    Unnamed: 0                                         Unnamed: 1  Unnamed: 2\n",
       "0          NaN                                                NaN         NaN\n",
       "1          NaN  Number of SMS fraud or text scams incidents Ph...         NaN\n",
       "2          NaN  Total number of SMS fraud or text scam inciden...         NaN\n",
       "3          NaN                                                NaN         NaN\n",
       "4          NaN                                           Region 3     3484.73\n",
       "5          NaN                                           Region 6     2778.36\n",
       "6          NaN                                                NCR     2739.52\n",
       "7          NaN                                         Region 4-A     2426.91\n",
       "8          NaN                                           Region 7     1366.43\n",
       "9          NaN                                             CARAGA      500.00\n",
       "10         NaN                                              BARMM      390.48\n",
       "11         NaN                                          Region 12      390.41\n",
       "12         NaN                                         Region 4-B      386.18\n",
       "13         NaN                                          Region 10      374.01\n",
       "14         NaN                                           Region 8      367.73\n",
       "15         NaN                                          Region 11      189.71\n",
       "16         NaN                                           Region 9      116.92\n",
       "17         NaN                                           Region 1      113.30\n",
       "18         NaN                                                CAR      112.60\n",
       "19         NaN                                           Region 5       94.22\n",
       "20         NaN                                           Region 2       83.33"
      ]
     },
     "execution_count": 136,
     "metadata": {},
     "output_type": "execute_result"
    }
   ],
   "source": [
    "incidents"
   ]
  },
  {
   "cell_type": "code",
   "execution_count": 137,
   "metadata": {},
   "outputs": [],
   "source": [
    "#drop unnamed: 0\n",
    "incidents = incidents.drop(['Unnamed: 0'], axis = 1)\n",
    "\n",
    "#drop rows 0-3\n",
    "incidents = incidents.drop([0,1,2,3], axis = 0)"
   ]
  },
  {
   "cell_type": "code",
   "execution_count": 138,
   "metadata": {},
   "outputs": [],
   "source": [
    "#rename columns\n",
    "incidents = incidents.rename(columns={'Unnamed: 1': 'region', 'Unnamed: 2': 'number'})\n",
    "\n",
    "#reorder rows alphabetically\n",
    "incidents = incidents.sort_values(by=['region']).reset_index(drop=True)"
   ]
  },
  {
   "cell_type": "code",
   "execution_count": 139,
   "metadata": {},
   "outputs": [
    {
     "data": {
      "text/html": [
       "<div>\n",
       "<style scoped>\n",
       "    .dataframe tbody tr th:only-of-type {\n",
       "        vertical-align: middle;\n",
       "    }\n",
       "\n",
       "    .dataframe tbody tr th {\n",
       "        vertical-align: top;\n",
       "    }\n",
       "\n",
       "    .dataframe thead th {\n",
       "        text-align: right;\n",
       "    }\n",
       "</style>\n",
       "<table border=\"1\" class=\"dataframe\">\n",
       "  <thead>\n",
       "    <tr style=\"text-align: right;\">\n",
       "      <th></th>\n",
       "      <th>region</th>\n",
       "      <th>number</th>\n",
       "    </tr>\n",
       "  </thead>\n",
       "  <tbody>\n",
       "    <tr>\n",
       "      <th>0</th>\n",
       "      <td>BARMM</td>\n",
       "      <td>390.48</td>\n",
       "    </tr>\n",
       "    <tr>\n",
       "      <th>1</th>\n",
       "      <td>CAR</td>\n",
       "      <td>112.60</td>\n",
       "    </tr>\n",
       "    <tr>\n",
       "      <th>2</th>\n",
       "      <td>CARAGA</td>\n",
       "      <td>500.00</td>\n",
       "    </tr>\n",
       "    <tr>\n",
       "      <th>3</th>\n",
       "      <td>NCR</td>\n",
       "      <td>2739.52</td>\n",
       "    </tr>\n",
       "    <tr>\n",
       "      <th>4</th>\n",
       "      <td>Region 1</td>\n",
       "      <td>113.30</td>\n",
       "    </tr>\n",
       "    <tr>\n",
       "      <th>5</th>\n",
       "      <td>Region 10</td>\n",
       "      <td>374.01</td>\n",
       "    </tr>\n",
       "    <tr>\n",
       "      <th>6</th>\n",
       "      <td>Region 11</td>\n",
       "      <td>189.71</td>\n",
       "    </tr>\n",
       "    <tr>\n",
       "      <th>7</th>\n",
       "      <td>Region 12</td>\n",
       "      <td>390.41</td>\n",
       "    </tr>\n",
       "    <tr>\n",
       "      <th>8</th>\n",
       "      <td>Region 2</td>\n",
       "      <td>83.33</td>\n",
       "    </tr>\n",
       "    <tr>\n",
       "      <th>9</th>\n",
       "      <td>Region 3</td>\n",
       "      <td>3484.73</td>\n",
       "    </tr>\n",
       "    <tr>\n",
       "      <th>10</th>\n",
       "      <td>Region 4-A</td>\n",
       "      <td>2426.91</td>\n",
       "    </tr>\n",
       "    <tr>\n",
       "      <th>11</th>\n",
       "      <td>Region 4-B</td>\n",
       "      <td>386.18</td>\n",
       "    </tr>\n",
       "    <tr>\n",
       "      <th>12</th>\n",
       "      <td>Region 5</td>\n",
       "      <td>94.22</td>\n",
       "    </tr>\n",
       "    <tr>\n",
       "      <th>13</th>\n",
       "      <td>Region 6</td>\n",
       "      <td>2778.36</td>\n",
       "    </tr>\n",
       "    <tr>\n",
       "      <th>14</th>\n",
       "      <td>Region 7</td>\n",
       "      <td>1366.43</td>\n",
       "    </tr>\n",
       "    <tr>\n",
       "      <th>15</th>\n",
       "      <td>Region 8</td>\n",
       "      <td>367.73</td>\n",
       "    </tr>\n",
       "    <tr>\n",
       "      <th>16</th>\n",
       "      <td>Region 9</td>\n",
       "      <td>116.92</td>\n",
       "    </tr>\n",
       "  </tbody>\n",
       "</table>\n",
       "</div>"
      ],
      "text/plain": [
       "        region   number\n",
       "0        BARMM   390.48\n",
       "1          CAR   112.60\n",
       "2       CARAGA   500.00\n",
       "3          NCR  2739.52\n",
       "4     Region 1   113.30\n",
       "5    Region 10   374.01\n",
       "6    Region 11   189.71\n",
       "7    Region 12   390.41\n",
       "8     Region 2    83.33\n",
       "9     Region 3  3484.73\n",
       "10  Region 4-A  2426.91\n",
       "11  Region 4-B   386.18\n",
       "12    Region 5    94.22\n",
       "13    Region 6  2778.36\n",
       "14    Region 7  1366.43\n",
       "15    Region 8   367.73\n",
       "16    Region 9   116.92"
      ]
     },
     "execution_count": 139,
     "metadata": {},
     "output_type": "execute_result"
    }
   ],
   "source": [
    "incidents"
   ]
  },
  {
   "attachments": {},
   "cell_type": "markdown",
   "metadata": {},
   "source": [
    "## **Feature Selection**"
   ]
  },
  {
   "cell_type": "code",
   "execution_count": 140,
   "metadata": {},
   "outputs": [
    {
     "data": {
      "text/html": [
       "<div>\n",
       "<style scoped>\n",
       "    .dataframe tbody tr th:only-of-type {\n",
       "        vertical-align: middle;\n",
       "    }\n",
       "\n",
       "    .dataframe tbody tr th {\n",
       "        vertical-align: top;\n",
       "    }\n",
       "\n",
       "    .dataframe thead th {\n",
       "        text-align: right;\n",
       "    }\n",
       "</style>\n",
       "<table border=\"1\" class=\"dataframe\">\n",
       "  <thead>\n",
       "    <tr style=\"text-align: right;\">\n",
       "      <th></th>\n",
       "      <th>text</th>\n",
       "      <th>Date</th>\n",
       "      <th>Time</th>\n",
       "      <th>name</th>\n",
       "    </tr>\n",
       "  </thead>\n",
       "  <tbody>\n",
       "    <tr>\n",
       "      <th>0</th>\n",
       "      <td>Welcome ! your have P1222 for S!ot , \\nWeb: 11...</td>\n",
       "      <td>2022-11-12</td>\n",
       "      <td>14:02</td>\n",
       "      <td>False</td>\n",
       "    </tr>\n",
       "    <tr>\n",
       "      <th>1</th>\n",
       "      <td>My god, at least 999P rewards waiting for you\\...</td>\n",
       "      <td>2022-11-12</td>\n",
       "      <td>14:33</td>\n",
       "      <td>False</td>\n",
       "    </tr>\n",
       "    <tr>\n",
       "      <th>2</th>\n",
       "      <td>DEAR VIP , No. 1 Online Sabong Site here in SB...</td>\n",
       "      <td>2022-11-13</td>\n",
       "      <td>23:03</td>\n",
       "      <td>True</td>\n",
       "    </tr>\n",
       "    <tr>\n",
       "      <th>3</th>\n",
       "      <td>! Today, you can win the iphone14PROMAX while ...</td>\n",
       "      <td>2022-11-14</td>\n",
       "      <td>00:07</td>\n",
       "      <td>True</td>\n",
       "    </tr>\n",
       "    <tr>\n",
       "      <th>4</th>\n",
       "      <td>Welcome ! your have P1222 for S!ot , \\nWeb: gr...</td>\n",
       "      <td>2022-11-15</td>\n",
       "      <td>02:28</td>\n",
       "      <td>False</td>\n",
       "    </tr>\n",
       "    <tr>\n",
       "      <th>...</th>\n",
       "      <td>...</td>\n",
       "      <td>...</td>\n",
       "      <td>...</td>\n",
       "      <td>...</td>\n",
       "    </tr>\n",
       "    <tr>\n",
       "      <th>159</th>\n",
       "      <td>Araw-araw na suweld0 5000, kai1angan lang ng 1...</td>\n",
       "      <td>2023-05-15</td>\n",
       "      <td>02:52</td>\n",
       "      <td>False</td>\n",
       "    </tr>\n",
       "    <tr>\n",
       "      <th>161</th>\n",
       "      <td>Goodnews! VIP perks at SUGARPLAY Sign up &amp; Cla...</td>\n",
       "      <td>2023-05-22</td>\n",
       "      <td>04:23</td>\n",
       "      <td>False</td>\n",
       "    </tr>\n",
       "    <tr>\n",
       "      <th>162</th>\n",
       "      <td>Start referring &amp; earning at SUGARPLAY Earn e...</td>\n",
       "      <td>2023-05-22</td>\n",
       "      <td>10:38</td>\n",
       "      <td>True</td>\n",
       "    </tr>\n",
       "    <tr>\n",
       "      <th>164</th>\n",
       "      <td>, Experience the thrill at JackpotCity! Enjoy ...</td>\n",
       "      <td>2023-05-23</td>\n",
       "      <td>05:56</td>\n",
       "      <td>True</td>\n",
       "    </tr>\n",
       "    <tr>\n",
       "      <th>165</th>\n",
       "      <td>, Get 5% Deposit bonus using PAYMAYA at UNIBET...</td>\n",
       "      <td>2023-05-24</td>\n",
       "      <td>10:13</td>\n",
       "      <td>True</td>\n",
       "    </tr>\n",
       "  </tbody>\n",
       "</table>\n",
       "<p>159 rows × 4 columns</p>\n",
       "</div>"
      ],
      "text/plain": [
       "                                                  text        Date   Time  \\\n",
       "0    Welcome ! your have P1222 for S!ot , \\nWeb: 11...  2022-11-12  14:02   \n",
       "1    My god, at least 999P rewards waiting for you\\...  2022-11-12  14:33   \n",
       "2    DEAR VIP , No. 1 Online Sabong Site here in SB...  2022-11-13  23:03   \n",
       "3    ! Today, you can win the iphone14PROMAX while ...  2022-11-14  00:07   \n",
       "4    Welcome ! your have P1222 for S!ot , \\nWeb: gr...  2022-11-15  02:28   \n",
       "..                                                 ...         ...    ...   \n",
       "159  Araw-araw na suweld0 5000, kai1angan lang ng 1...  2023-05-15  02:52   \n",
       "161  Goodnews! VIP perks at SUGARPLAY Sign up & Cla...  2023-05-22  04:23   \n",
       "162   Start referring & earning at SUGARPLAY Earn e...  2023-05-22  10:38   \n",
       "164  , Experience the thrill at JackpotCity! Enjoy ...  2023-05-23  05:56   \n",
       "165  , Get 5% Deposit bonus using PAYMAYA at UNIBET...  2023-05-24  10:13   \n",
       "\n",
       "      name  \n",
       "0    False  \n",
       "1    False  \n",
       "2     True  \n",
       "3     True  \n",
       "4    False  \n",
       "..     ...  \n",
       "159  False  \n",
       "161  False  \n",
       "162   True  \n",
       "164   True  \n",
       "165   True  \n",
       "\n",
       "[159 rows x 4 columns]"
      ]
     },
     "execution_count": 140,
     "metadata": {},
     "output_type": "execute_result"
    }
   ],
   "source": [
    "spam"
   ]
  },
  {
   "cell_type": "code",
   "execution_count": 141,
   "metadata": {},
   "outputs": [
    {
     "data": {
      "text/html": [
       "<div>\n",
       "<style scoped>\n",
       "    .dataframe tbody tr th:only-of-type {\n",
       "        vertical-align: middle;\n",
       "    }\n",
       "\n",
       "    .dataframe tbody tr th {\n",
       "        vertical-align: top;\n",
       "    }\n",
       "\n",
       "    .dataframe thead th {\n",
       "        text-align: right;\n",
       "    }\n",
       "</style>\n",
       "<table border=\"1\" class=\"dataframe\">\n",
       "  <thead>\n",
       "    <tr style=\"text-align: right;\">\n",
       "      <th></th>\n",
       "      <th>id</th>\n",
       "      <th>number</th>\n",
       "      <th>network</th>\n",
       "      <th>type</th>\n",
       "      <th>proof</th>\n",
       "      <th>name</th>\n",
       "      <th>indicator</th>\n",
       "    </tr>\n",
       "  </thead>\n",
       "  <tbody>\n",
       "    <tr>\n",
       "      <th>0</th>\n",
       "      <td>1</td>\n",
       "      <td>9103239417</td>\n",
       "      <td>Unknown</td>\n",
       "      <td>work</td>\n",
       "      <td>NaN</td>\n",
       "      <td>False</td>\n",
       "      <td>910</td>\n",
       "    </tr>\n",
       "    <tr>\n",
       "      <th>1</th>\n",
       "      <td>2</td>\n",
       "      <td>95348643</td>\n",
       "      <td>Unknown</td>\n",
       "      <td>others</td>\n",
       "      <td>NaN</td>\n",
       "      <td>False</td>\n",
       "      <td>953</td>\n",
       "    </tr>\n",
       "    <tr>\n",
       "      <th>2</th>\n",
       "      <td>3</td>\n",
       "      <td>931804865</td>\n",
       "      <td>Unknown</td>\n",
       "      <td>work</td>\n",
       "      <td>NaN</td>\n",
       "      <td>False</td>\n",
       "      <td>931</td>\n",
       "    </tr>\n",
       "    <tr>\n",
       "      <th>3</th>\n",
       "      <td>4</td>\n",
       "      <td>981197529</td>\n",
       "      <td>Unknown</td>\n",
       "      <td>lotto</td>\n",
       "      <td>NaN</td>\n",
       "      <td>False</td>\n",
       "      <td>981</td>\n",
       "    </tr>\n",
       "    <tr>\n",
       "      <th>4</th>\n",
       "      <td>5</td>\n",
       "      <td>981369614</td>\n",
       "      <td>Unknown</td>\n",
       "      <td>work</td>\n",
       "      <td>NaN</td>\n",
       "      <td>False</td>\n",
       "      <td>981</td>\n",
       "    </tr>\n",
       "    <tr>\n",
       "      <th>...</th>\n",
       "      <td>...</td>\n",
       "      <td>...</td>\n",
       "      <td>...</td>\n",
       "      <td>...</td>\n",
       "      <td>...</td>\n",
       "      <td>...</td>\n",
       "      <td>...</td>\n",
       "    </tr>\n",
       "    <tr>\n",
       "      <th>4885</th>\n",
       "      <td>4886</td>\n",
       "      <td>9207721859</td>\n",
       "      <td>Smart or Talk 'N Text</td>\n",
       "      <td>others</td>\n",
       "      <td>Just a minimum deposit, you can double your mo...</td>\n",
       "      <td>True</td>\n",
       "      <td>920</td>\n",
       "    </tr>\n",
       "    <tr>\n",
       "      <th>4886</th>\n",
       "      <td>4887</td>\n",
       "      <td>9854472269</td>\n",
       "      <td>Smart or Talk 'N Text</td>\n",
       "      <td>others</td>\n",
       "      <td>Experience SBET, STABLE SYSTEM, NO MAINTENANCE...</td>\n",
       "      <td>True</td>\n",
       "      <td>985</td>\n",
       "    </tr>\n",
       "    <tr>\n",
       "      <th>4887</th>\n",
       "      <td>4888</td>\n",
       "      <td>9811248577</td>\n",
       "      <td>Smart or Talk 'N Text</td>\n",
       "      <td>others</td>\n",
       "      <td>JACKPOT CITY has the best gaming experience an...</td>\n",
       "      <td>True</td>\n",
       "      <td>981</td>\n",
       "    </tr>\n",
       "    <tr>\n",
       "      <th>4888</th>\n",
       "      <td>4889</td>\n",
       "      <td>9855665323</td>\n",
       "      <td>Smart or Talk 'N Text</td>\n",
       "      <td>others</td>\n",
       "      <td>Why are you still waiting, DEAR VIP Get your P...</td>\n",
       "      <td>False</td>\n",
       "      <td>985</td>\n",
       "    </tr>\n",
       "    <tr>\n",
       "      <th>4890</th>\n",
       "      <td>4891</td>\n",
       "      <td>9264224386</td>\n",
       "      <td>Globe or TM</td>\n",
       "      <td>others</td>\n",
       "      <td>NaN</td>\n",
       "      <td>True</td>\n",
       "      <td>926</td>\n",
       "    </tr>\n",
       "  </tbody>\n",
       "</table>\n",
       "<p>4883 rows × 7 columns</p>\n",
       "</div>"
      ],
      "text/plain": [
       "        id      number                network    type  \\\n",
       "0        1  9103239417                Unknown    work   \n",
       "1        2    95348643                Unknown  others   \n",
       "2        3   931804865                Unknown    work   \n",
       "3        4   981197529                Unknown   lotto   \n",
       "4        5   981369614                Unknown    work   \n",
       "...    ...         ...                    ...     ...   \n",
       "4885  4886  9207721859  Smart or Talk 'N Text  others   \n",
       "4886  4887  9854472269  Smart or Talk 'N Text  others   \n",
       "4887  4888  9811248577  Smart or Talk 'N Text  others   \n",
       "4888  4889  9855665323  Smart or Talk 'N Text  others   \n",
       "4890  4891  9264224386            Globe or TM  others   \n",
       "\n",
       "                                                  proof   name indicator  \n",
       "0                                                   NaN  False       910  \n",
       "1                                                   NaN  False       953  \n",
       "2                                                   NaN  False       931  \n",
       "3                                                   NaN  False       981  \n",
       "4                                                   NaN  False       981  \n",
       "...                                                 ...    ...       ...  \n",
       "4885  Just a minimum deposit, you can double your mo...   True       920  \n",
       "4886  Experience SBET, STABLE SYSTEM, NO MAINTENANCE...   True       985  \n",
       "4887  JACKPOT CITY has the best gaming experience an...   True       981  \n",
       "4888  Why are you still waiting, DEAR VIP Get your P...  False       985  \n",
       "4890                                                NaN   True       926  \n",
       "\n",
       "[4883 rows x 7 columns]"
      ]
     },
     "execution_count": 141,
     "metadata": {},
     "output_type": "execute_result"
    }
   ],
   "source": [
    "select"
   ]
  },
  {
   "cell_type": "code",
   "execution_count": 142,
   "metadata": {},
   "outputs": [
    {
     "data": {
      "text/html": [
       "<div>\n",
       "<style scoped>\n",
       "    .dataframe tbody tr th:only-of-type {\n",
       "        vertical-align: middle;\n",
       "    }\n",
       "\n",
       "    .dataframe tbody tr th {\n",
       "        vertical-align: top;\n",
       "    }\n",
       "\n",
       "    .dataframe thead th {\n",
       "        text-align: right;\n",
       "    }\n",
       "</style>\n",
       "<table border=\"1\" class=\"dataframe\">\n",
       "  <thead>\n",
       "    <tr style=\"text-align: right;\">\n",
       "      <th></th>\n",
       "      <th>proof</th>\n",
       "      <th>Date</th>\n",
       "      <th>Time</th>\n",
       "      <th>name</th>\n",
       "    </tr>\n",
       "  </thead>\n",
       "  <tbody>\n",
       "    <tr>\n",
       "      <th>0</th>\n",
       "      <td>Welcome ! your have P1222 for S!ot , \\nWeb: 11...</td>\n",
       "      <td>2022-11-12</td>\n",
       "      <td>14:02</td>\n",
       "      <td>False</td>\n",
       "    </tr>\n",
       "    <tr>\n",
       "      <th>1</th>\n",
       "      <td>My god, at least 999P rewards waiting for you\\...</td>\n",
       "      <td>2022-11-12</td>\n",
       "      <td>14:33</td>\n",
       "      <td>False</td>\n",
       "    </tr>\n",
       "    <tr>\n",
       "      <th>2</th>\n",
       "      <td>DEAR VIP , No. 1 Online Sabong Site here in SB...</td>\n",
       "      <td>2022-11-13</td>\n",
       "      <td>23:03</td>\n",
       "      <td>True</td>\n",
       "    </tr>\n",
       "    <tr>\n",
       "      <th>3</th>\n",
       "      <td>! Today, you can win the iphone14PROMAX while ...</td>\n",
       "      <td>2022-11-14</td>\n",
       "      <td>00:07</td>\n",
       "      <td>True</td>\n",
       "    </tr>\n",
       "    <tr>\n",
       "      <th>4</th>\n",
       "      <td>Welcome ! your have P1222 for S!ot , \\nWeb: gr...</td>\n",
       "      <td>2022-11-15</td>\n",
       "      <td>02:28</td>\n",
       "      <td>False</td>\n",
       "    </tr>\n",
       "  </tbody>\n",
       "</table>\n",
       "</div>"
      ],
      "text/plain": [
       "                                               proof        Date   Time   name\n",
       "0  Welcome ! your have P1222 for S!ot , \\nWeb: 11...  2022-11-12  14:02  False\n",
       "1  My god, at least 999P rewards waiting for you\\...  2022-11-12  14:33  False\n",
       "2  DEAR VIP , No. 1 Online Sabong Site here in SB...  2022-11-13  23:03   True\n",
       "3  ! Today, you can win the iphone14PROMAX while ...  2022-11-14  00:07   True\n",
       "4  Welcome ! your have P1222 for S!ot , \\nWeb: gr...  2022-11-15  02:28  False"
      ]
     },
     "execution_count": 142,
     "metadata": {},
     "output_type": "execute_result"
    }
   ],
   "source": [
    "#renaming spam `text` column to `proof`\n",
    "spam = spam.rename(columns={'text': 'proof'})\n",
    "\n",
    "spam.head()"
   ]
  },
  {
   "cell_type": "code",
   "execution_count": 143,
   "metadata": {},
   "outputs": [
    {
     "data": {
      "text/plain": [
       "'select'"
      ]
     },
     "metadata": {},
     "output_type": "display_data"
    },
    {
     "data": {
      "text/plain": [
       "False    4684\n",
       "True      199\n",
       "Name: name, dtype: int64"
      ]
     },
     "metadata": {},
     "output_type": "display_data"
    },
    {
     "data": {
      "text/plain": [
       "4883"
      ]
     },
     "metadata": {},
     "output_type": "display_data"
    },
    {
     "data": {
      "text/plain": [
       "'spam'"
      ]
     },
     "metadata": {},
     "output_type": "display_data"
    },
    {
     "data": {
      "text/plain": [
       "False    88\n",
       "True     71\n",
       "Name: name, dtype: int64"
      ]
     },
     "metadata": {},
     "output_type": "display_data"
    },
    {
     "data": {
      "text/plain": [
       "159"
      ]
     },
     "metadata": {},
     "output_type": "display_data"
    },
    {
     "data": {
      "text/plain": [
       "'total count'"
      ]
     },
     "metadata": {},
     "output_type": "display_data"
    },
    {
     "data": {
      "text/plain": [
       "5042"
      ]
     },
     "metadata": {},
     "output_type": "display_data"
    }
   ],
   "source": [
    "display(\n",
    "    \"select\", select['name'].value_counts(), select['name'].value_counts().sum(),\n",
    "    \"spam\", spam['name'].value_counts(), spam['name'].value_counts().sum(),\n",
    "    \"total count\", select['name'].value_counts().sum() + spam['name'].value_counts().sum(),\n",
    ")"
   ]
  },
  {
   "cell_type": "code",
   "execution_count": 144,
   "metadata": {},
   "outputs": [],
   "source": [
    "#adding label with \"\" in spam dataset\n",
    "spam['type'] = \"\""
   ]
  },
  {
   "cell_type": "code",
   "execution_count": 145,
   "metadata": {},
   "outputs": [
    {
     "data": {
      "text/html": [
       "<div>\n",
       "<style scoped>\n",
       "    .dataframe tbody tr th:only-of-type {\n",
       "        vertical-align: middle;\n",
       "    }\n",
       "\n",
       "    .dataframe tbody tr th {\n",
       "        vertical-align: top;\n",
       "    }\n",
       "\n",
       "    .dataframe thead th {\n",
       "        text-align: right;\n",
       "    }\n",
       "</style>\n",
       "<table border=\"1\" class=\"dataframe\">\n",
       "  <thead>\n",
       "    <tr style=\"text-align: right;\">\n",
       "      <th></th>\n",
       "      <th>proof</th>\n",
       "      <th>name</th>\n",
       "      <th>type</th>\n",
       "    </tr>\n",
       "  </thead>\n",
       "  <tbody>\n",
       "    <tr>\n",
       "      <th>0</th>\n",
       "      <td>NaN</td>\n",
       "      <td>False</td>\n",
       "      <td>work</td>\n",
       "    </tr>\n",
       "    <tr>\n",
       "      <th>1</th>\n",
       "      <td>NaN</td>\n",
       "      <td>False</td>\n",
       "      <td>others</td>\n",
       "    </tr>\n",
       "    <tr>\n",
       "      <th>2</th>\n",
       "      <td>NaN</td>\n",
       "      <td>False</td>\n",
       "      <td>work</td>\n",
       "    </tr>\n",
       "    <tr>\n",
       "      <th>3</th>\n",
       "      <td>NaN</td>\n",
       "      <td>False</td>\n",
       "      <td>lotto</td>\n",
       "    </tr>\n",
       "    <tr>\n",
       "      <th>4</th>\n",
       "      <td>NaN</td>\n",
       "      <td>False</td>\n",
       "      <td>work</td>\n",
       "    </tr>\n",
       "    <tr>\n",
       "      <th>...</th>\n",
       "      <td>...</td>\n",
       "      <td>...</td>\n",
       "      <td>...</td>\n",
       "    </tr>\n",
       "    <tr>\n",
       "      <th>5037</th>\n",
       "      <td>Araw-araw na suweld0 5000, kai1angan lang ng 1...</td>\n",
       "      <td>False</td>\n",
       "      <td></td>\n",
       "    </tr>\n",
       "    <tr>\n",
       "      <th>5038</th>\n",
       "      <td>Goodnews! VIP perks at SUGARPLAY Sign up &amp; Cla...</td>\n",
       "      <td>False</td>\n",
       "      <td></td>\n",
       "    </tr>\n",
       "    <tr>\n",
       "      <th>5039</th>\n",
       "      <td>Start referring &amp; earning at SUGARPLAY Earn e...</td>\n",
       "      <td>True</td>\n",
       "      <td></td>\n",
       "    </tr>\n",
       "    <tr>\n",
       "      <th>5040</th>\n",
       "      <td>, Experience the thrill at JackpotCity! Enjoy ...</td>\n",
       "      <td>True</td>\n",
       "      <td></td>\n",
       "    </tr>\n",
       "    <tr>\n",
       "      <th>5041</th>\n",
       "      <td>, Get 5% Deposit bonus using PAYMAYA at UNIBET...</td>\n",
       "      <td>True</td>\n",
       "      <td></td>\n",
       "    </tr>\n",
       "  </tbody>\n",
       "</table>\n",
       "<p>5042 rows × 3 columns</p>\n",
       "</div>"
      ],
      "text/plain": [
       "                                                  proof   name    type\n",
       "0                                                   NaN  False    work\n",
       "1                                                   NaN  False  others\n",
       "2                                                   NaN  False    work\n",
       "3                                                   NaN  False   lotto\n",
       "4                                                   NaN  False    work\n",
       "...                                                 ...    ...     ...\n",
       "5037  Araw-araw na suweld0 5000, kai1angan lang ng 1...  False        \n",
       "5038  Goodnews! VIP perks at SUGARPLAY Sign up & Cla...  False        \n",
       "5039   Start referring & earning at SUGARPLAY Earn e...   True        \n",
       "5040  , Experience the thrill at JackpotCity! Enjoy ...   True        \n",
       "5041  , Get 5% Deposit bonus using PAYMAYA at UNIBET...   True        \n",
       "\n",
       "[5042 rows x 3 columns]"
      ]
     },
     "execution_count": 145,
     "metadata": {},
     "output_type": "execute_result"
    }
   ],
   "source": [
    "#make new dataframe from the two dataframes with proof and name columns\n",
    "proof = pd.concat([select[['proof', 'name', 'type']], spam[['proof', 'name', 'type']]], axis=0).reset_index(drop=True)\n",
    "\n",
    "proof\n"
   ]
  },
  {
   "attachments": {},
   "cell_type": "markdown",
   "metadata": {
    "id": "i2bH73IK4_Z2"
   },
   "source": [
    "# **Saving Dataframes as CSVs**"
   ]
  },
  {
   "cell_type": "code",
   "execution_count": 147,
   "metadata": {},
   "outputs": [],
   "source": [
    "#save dtaframe sa csv in different folder\n",
    "#proof.to_csv('Processed Datasets/proof.csv', index=False)\n",
    "#spam.to_csv('Processed Datasets/spam.csv', index=False)\n",
    "#select.to_csv('Processed Datasets/select.csv', index=False)\n",
    "#incidents.to_csv('Processed Datasets/incidents.csv', index=False)"
   ]
  },
  {
   "cell_type": "code",
   "execution_count": null,
   "metadata": {},
   "outputs": [],
   "source": []
  }
 ],
 "metadata": {
  "colab": {
   "authorship_tag": "ABX9TyNl8yGGgRPIQJF26wcDNzFD",
   "collapsed_sections": [
    "ppFAnb9My2ZV",
    "ohCExKZ4y2jN",
    "xHXvwKOdy2qv",
    "bOmp84vdy2xi",
    "1xhhYdY5zQXO",
    "leSuwgFlzRfk",
    "cau2aFTizRny",
    "RCZGlrwFGMK6",
    "YxdYSmUNJEZj",
    "sBwZs9vTm_ls",
    "4qVk5PTvzq4w",
    "p1qyD5eozuY7",
    "GfyASe1kzvJ8",
    "GHCV--QQzvdG",
    "JbyUbdrR47eH",
    "i2bH73IK4_Z2"
   ],
   "include_colab_link": true,
   "provenance": []
  },
  "kernelspec": {
   "display_name": "Python 3",
   "language": "python",
   "name": "python3"
  },
  "language_info": {
   "codemirror_mode": {
    "name": "ipython",
    "version": 3
   },
   "file_extension": ".py",
   "mimetype": "text/x-python",
   "name": "python",
   "nbconvert_exporter": "python",
   "pygments_lexer": "ipython3",
   "version": "3.8.13"
  }
 },
 "nbformat": 4,
 "nbformat_minor": 4
}
