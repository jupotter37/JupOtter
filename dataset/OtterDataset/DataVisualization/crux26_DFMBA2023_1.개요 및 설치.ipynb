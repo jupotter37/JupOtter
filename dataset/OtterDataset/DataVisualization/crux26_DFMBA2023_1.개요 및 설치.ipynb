{
 "cells": [
  {
   "cell_type": "markdown",
   "metadata": {
    "slideshow": {
     "slide_type": "skip"
    },
    "toc": true
   },
   "source": [
    "<h1>Table of Contents<span class=\"tocSkip\"></span></h1>\n",
    "<div class=\"toc\"><ul class=\"toc-item\"><li><span><a href=\"#프로그램이란?\" data-toc-modified-id=\"프로그램이란?-1\"><span class=\"toc-item-num\">1&nbsp;&nbsp;</span>프로그램이란?</a></span></li><li><span><a href=\"#프로그래밍-언어\" data-toc-modified-id=\"프로그래밍-언어-2\"><span class=\"toc-item-num\">2&nbsp;&nbsp;</span>프로그래밍 언어</a></span><ul class=\"toc-item\"><li><span><a href=\"#범용-언어-(general-purpose-language)\" data-toc-modified-id=\"범용-언어-(general-purpose-language)-2.1\"><span class=\"toc-item-num\">2.1&nbsp;&nbsp;</span>범용 언어 (general purpose language)</a></span></li><li><span><a href=\"#도메인-특화-언어-(domain-specific-language)\" data-toc-modified-id=\"도메인-특화-언어-(domain-specific-language)-2.2\"><span class=\"toc-item-num\">2.2&nbsp;&nbsp;</span>도메인 특화 언어 (domain-specific language)</a></span><ul class=\"toc-item\"><li><span><a href=\"#Query-language\" data-toc-modified-id=\"Query-language-2.2.1\"><span class=\"toc-item-num\">2.2.1&nbsp;&nbsp;</span>Query language</a></span></li></ul></li><li><span><a href=\"#Why-Python?\" data-toc-modified-id=\"Why-Python?-2.3\"><span class=\"toc-item-num\">2.3&nbsp;&nbsp;</span>Why Python?</a></span><ul class=\"toc-item\"><li><span><a href=\"#쉽고-통일된-문법\" data-toc-modified-id=\"쉽고-통일된-문법-2.3.1\"><span class=\"toc-item-num\">2.3.1&nbsp;&nbsp;</span>쉽고 통일된 문법</a></span></li><li><span><a href=\"#생산성\" data-toc-modified-id=\"생산성-2.3.2\"><span class=\"toc-item-num\">2.3.2&nbsp;&nbsp;</span>생산성</a></span></li><li><span><a href=\"#active-communities\" data-toc-modified-id=\"active-communities-2.3.3\"><span class=\"toc-item-num\">2.3.3&nbsp;&nbsp;</span>active communities</a></span></li><li><span><a href=\"#useful-libraries\" data-toc-modified-id=\"useful-libraries-2.3.4\"><span class=\"toc-item-num\">2.3.4&nbsp;&nbsp;</span>useful libraries</a></span></li></ul></li></ul></li><li><span><a href=\"#참고)-Python-version-dependency\" data-toc-modified-id=\"참고)-Python-version-dependency-3\"><span class=\"toc-item-num\">3&nbsp;&nbsp;</span>참고) Python version dependency</a></span><ul class=\"toc-item\"><li><span><a href=\"#Some-libraries-depend-on-python-version\" data-toc-modified-id=\"Some-libraries-depend-on-python-version-3.1\"><span class=\"toc-item-num\">3.1&nbsp;&nbsp;</span>Some libraries depend on python version</a></span></li><li><span><a href=\"#virtual-environment\" data-toc-modified-id=\"virtual-environment-3.2\"><span class=\"toc-item-num\">3.2&nbsp;&nbsp;</span>virtual environment</a></span><ul class=\"toc-item\"><li><span><a href=\"#Create-a-virtual-environment\" data-toc-modified-id=\"Create-a-virtual-environment-3.2.1\"><span class=\"toc-item-num\">3.2.1&nbsp;&nbsp;</span>Create a virtual environment</a></span></li><li><span><a href=\"#Activate-a-virtual-environment\" data-toc-modified-id=\"Activate-a-virtual-environment-3.2.2\"><span class=\"toc-item-num\">3.2.2&nbsp;&nbsp;</span>Activate a virtual environment</a></span></li><li><span><a href=\"#Install-packages\" data-toc-modified-id=\"Install-packages-3.2.3\"><span class=\"toc-item-num\">3.2.3&nbsp;&nbsp;</span>Install packages</a></span></li><li><span><a href=\"#deactivate-a-virtual-environment\" data-toc-modified-id=\"deactivate-a-virtual-environment-3.2.4\"><span class=\"toc-item-num\">3.2.4&nbsp;&nbsp;</span>deactivate a virtual environment</a></span></li><li><span><a href=\"#Delete-a-virtual-environment\" data-toc-modified-id=\"Delete-a-virtual-environment-3.2.5\"><span class=\"toc-item-num\">3.2.5&nbsp;&nbsp;</span>Delete a virtual environment</a></span></li></ul></li></ul></li><li><span><a href=\"#IDE-(Integrated-Development-Environment,-통합개발환경)\" data-toc-modified-id=\"IDE-(Integrated-Development-Environment,-통합개발환경)-4\"><span class=\"toc-item-num\">4&nbsp;&nbsp;</span>IDE (Integrated Development Environment, 통합개발환경)</a></span></li><li><span><a href=\"#Running-Python\" data-toc-modified-id=\"Running-Python-5\"><span class=\"toc-item-num\">5&nbsp;&nbsp;</span>Running Python</a></span></li><li><span><a href=\"#참고)-Magic-commands-for-IPython\" data-toc-modified-id=\"참고)-Magic-commands-for-IPython-6\"><span class=\"toc-item-num\">6&nbsp;&nbsp;</span>참고) Magic commands for IPython</a></span><ul class=\"toc-item\"><li><span><a href=\"#참고)-IPython\" data-toc-modified-id=\"참고)-IPython-6.1\"><span class=\"toc-item-num\">6.1&nbsp;&nbsp;</span>참고) IPython</a></span></li><li><span><a href=\"#Access-documentation-with-?\" data-toc-modified-id=\"Access-documentation-with-?-6.2\"><span class=\"toc-item-num\">6.2&nbsp;&nbsp;</span>Access documentation with ?</a></span></li><li><span><a href=\"#Access-source-code-with-??\" data-toc-modified-id=\"Access-source-code-with-??-6.3\"><span class=\"toc-item-num\">6.3&nbsp;&nbsp;</span>Access source code with ??</a></span></li></ul></li><li><span><a href=\"#Add-path\" data-toc-modified-id=\"Add-path-7\"><span class=\"toc-item-num\">7&nbsp;&nbsp;</span>Add path</a></span><ul class=\"toc-item\"><li><span><a href=\"#sys-module\" data-toc-modified-id=\"sys-module-7.1\"><span class=\"toc-item-num\">7.1&nbsp;&nbsp;</span>sys module</a></span></li></ul></li><li><span><a href=\"#Tab-completion\" data-toc-modified-id=\"Tab-completion-8\"><span class=\"toc-item-num\">8&nbsp;&nbsp;</span>Tab completion</a></span></li><li><span><a href=\"#Wildcard-matching\" data-toc-modified-id=\"Wildcard-matching-9\"><span class=\"toc-item-num\">9&nbsp;&nbsp;</span>Wildcard matching</a></span></li><li><span><a href=\"#참고)-List-of-packages\" data-toc-modified-id=\"참고)-List-of-packages-10\"><span class=\"toc-item-num\">10&nbsp;&nbsp;</span>참고) List of packages</a></span></li><li><span><a href=\"#참고\" data-toc-modified-id=\"참고-11\"><span class=\"toc-item-num\">11&nbsp;&nbsp;</span>참고</a></span><ul class=\"toc-item\"><li><span><a href=\"#GitHub\" data-toc-modified-id=\"GitHub-11.1\"><span class=\"toc-item-num\">11.1&nbsp;&nbsp;</span>GitHub</a></span></li><li><span><a href=\"#Useful-sites\" data-toc-modified-id=\"Useful-sites-11.2\"><span class=\"toc-item-num\">11.2&nbsp;&nbsp;</span>Useful sites</a></span></li><li><span><a href=\"#References\" data-toc-modified-id=\"References-11.3\"><span class=\"toc-item-num\">11.3&nbsp;&nbsp;</span>References</a></span></li></ul></li></ul></div>"
   ]
  },
  {
   "cell_type": "markdown",
   "metadata": {
    "slideshow": {
     "slide_type": "slide"
    }
   },
   "source": [
    "# 프로그램이란?\n",
    "- A sequence of stored instructions to perform a computation\n",
    "    - \"computation\": mathematical operation (e.g. addition), save result to a file, display data on the screen, $\\cdots$\n",
    "\n",
    "\n",
    "- 주어진 문제를 해결하기 위해 \"a sequence of stored instructions\" 혹은 \"알고리즘\"의 작성이 필요\n",
    "\n",
    "\n",
    "- 주어진 문제를 잘 해결하기 위해서는\n",
    "    1. 적절한 알고리즘을 사용\n",
    "    2. 이 알고리즘을 사용하는 프로그래밍 언어로 적절히 구현\n",
    "\n",
    "\n",
    "- 1.을 위해서, 문제에 대한 명확한 이해가 필요\n",
    "    - 이는 주로 non-programming 강의에서 이루어질 것\n",
    "\n",
    "\n",
    "- 2.를 위해서, 언어의 특성/문법을 익혀야 함\n",
    "    - 사전교육 및 이후의 Python 강의에서 이루어질 것\n",
    "    \n",
    "\n",
    "- 똑같은 결과를 낳더라도 알고리즘의 효율성이 다를 수 있음\n",
    "    - time efficiency, memory efficiency, ...\n",
    "    \n",
    "    \n",
    "- 원하는 결과를 충분히 빠른 시간 내에 얻기 위해, 프로그래밍 언어에 대한 이해가 필요\n"
   ]
  },
  {
   "cell_type": "markdown",
   "metadata": {
    "slideshow": {
     "slide_type": "slide"
    }
   },
   "source": [
    "# 프로그래밍 언어\n",
    "## 범용 언어 (general purpose language)\n",
    "- 다양한 분야에서 널리 사용할 수 있는 프로그래밍 언어\n",
    "- C, C++\n",
    "- C#\n",
    "- Java\n",
    "- Python\n",
    "\n",
    "## 도메인 특화 언어 (domain-specific language)\n",
    "- 특정한 분야/목적에서의 사용을 주 목적으로 만들어진 프로그래밍 언어\n",
    "- MATLAB\n",
    "- STATA, SAS, SPSS\n",
    "- Minitab, Eviews\n",
    "- R\n",
    "\n",
    "### Query language\n",
    "- SQL (Structured Query Language): 관계형 데이터베이스 관리시스템 (RDBMS)의 데이터를 관리하기 위해 설계된 특수 목적의 프로그래밍 언어\n",
    "    - mySQL, MS Access, SQLite 등\n",
    "    - Python, SAS에서도 SQL 문법을 사용 가능\n",
    "\n",
    "\n",
    "- RDBMS (Relational DataBase Management System): 행과 열로 구분된 데이터베이스 (tabular database)\n",
    "    - 엑셀 스프레드시트로 표현가능한 형태\n",
    "    - 항목(column)에 대해 관측값(row)이 있는 형태\n",
    "    - 대부분의 금융 데이터베이스에 해당\n",
    "        - row: time, column: firm name, ...\n",
    "        \n",
    "        \n",
    "- 금융 데이터베이스에서 데이터를 다운로드 받아 필요한 분석을 하기 위해서는 범용 언어 중 하나 (e.g. Python), 도메인 특화 언어 중 하나 (e.g. R or MATLAB), Query 언어 중 하나 (e.g. mySQL)을 모두 다룰 수 있으면 좋으나, 이는 현실적으로 쉽지 않음\n",
    "\n",
    "\n",
    "- Python 하나만으로도 분석을 충분히 다 할 수 있음\n"
   ]
  },
  {
   "cell_type": "markdown",
   "metadata": {
    "slideshow": {
     "slide_type": "slide"
    }
   },
   "source": [
    "## Why Python?\n",
    "### 쉽고 통일된 문법\n",
    "- C++, Java, VBA 등의 언어보다 편리함\n",
    "\n",
    "### 생산성\n",
    "- 결과를 얻기 위해 걸리는 시간 = 실행시간 + 개발시간\n",
    "\n",
    "- 실행시간: C, C++ << Python\n",
    "- 개발시간: Python << ... << C, C++\n",
    "\n",
    "- 실행시간이 정말로 중요한 경우에만 C, C++ 등을 사용하고, 그 외의 것들은 생산성을 위해 Python을 사용\n",
    "\n",
    "### active communities\n",
    "- 프로그래밍 구현에 문제가 있을 때 다른 사용자들에게 도움을 받기 쉬움\n",
    "    - Python Forum\n",
    "    - Stack Overflow\n",
    "    \n",
    "### useful libraries\n",
    "- 유용한 user-defined library가 많이 공개되어 있어, 직접 개발을 하지 않고도 간편하게 사용할 수 있음"
   ]
  },
  {
   "cell_type": "markdown",
   "metadata": {
    "slideshow": {
     "slide_type": "slide"
    }
   },
   "source": [
    "# 참고) Python version dependency\n",
    "\n",
    "- Anaconda는 Python + 여러 libraries\n",
    "\n",
    "- Anaconda에서는 기본적으로 가장 최근의 버전만 제공됨 (archive에서 구 버전을 찾을 수는 있음)\n",
    "\n",
    "## Some libraries depend on python version\n",
    "- Keras: Machine learning library. Compatible with 2.7-3.6 (https://keras.io/)\n",
    "- Theano: Machine learning library. Compatible with 2.7 or >= 3.4 and < 3.6 (http://deeplearning.net/software/theano/index.html)\n",
    "\n",
    "- Python 버전을 다운그레이드 해야 할 수 있음\n",
    "\n",
    "1) (Anaconda Prompt 창에서) conda update conda\n",
    "    - Anaconda에서 배포하는 Python + libraries들을 전부 업데이트\n",
    "    - 개별 library는 Anaconda 배포판보다 더 최신 버전이 있을 수 있음\n",
    "    - Anaconda에서는 모든 libraries에 대해 compatibility check를 하고 새 버전을 내놓음\n",
    "        - 특정 library를 개별적으로 업데이트하면 호환성이 깨질 가능성 있음\n",
    "\n",
    "2) (Anaconda Prompt 창에서) conda install python==3.6.9\n",
    "\n",
    "## virtual environment\n",
    "- 사용자 환경을 분리해서 사용을 하고 싶은 경우\n",
    "    - 여러 python version이 필요한 경우 (e.g. 2.x and 3.x)\n",
    "\n",
    "### Create a virtual environment\n",
    "- \\\\$ conda create -n *yourenvname* python=x.x anaconda\n",
    "\n",
    "### Activate a virtual environment\n",
    "- \\\\$ source activate *yourenvname*\n",
    "- Anaconda prompt 창의 명령줄 제일 왼쪽에 \"(root)\" 대신 \"(*yourenvname*)\"인 것을 확인\n",
    "    - default는 \"(base)\"\n",
    "\n",
    "\n",
    "### Install packages\n",
    "- \\\\$ conda install -n *yourenvname* *packagename*\n",
    "\n",
    "### deactivate a virtual environment\n",
    "- \\\\$ source deactivate\n",
    "\n",
    "### Delete a virtual environment\n",
    "- \\\\$ conda remove -n *yourenvname* all"
   ]
  },
  {
   "cell_type": "markdown",
   "metadata": {
    "slideshow": {
     "slide_type": "slide"
    }
   },
   "source": [
    "# IDE (Integrated Development Environment, 통합개발환경)\n",
    "- 소프트웨어 개발에 관련된 모든 작업 (코드 편집, 문법 확인, 자동 완성, 구문 강조, 디버깅 등)을 <br> 하나의 프로그램 안에서 모두 처리하는 환경을 제공하는 툴\n",
    "\n",
    "\n",
    "- Python 코드는 문법만 맞으면 메모장 등의 문서 편집기에서 작성을 해도 무관하나, <br> 프로그램이 복잡해질수록 가독성이나 생산성 면에서 크게 떨어짐. 때문에 일반적으로는 작업을 위해 IDE를 사용\n",
    "\n",
    "\n",
    "- text editor (문서 편집기): 메모장, 노트패드, 아래아 한글, MS-Word, ...\n",
    "- IDE: Jupyter notebook / Jupyter lab, Spyder, PyCharm, ...\n",
    "\n",
    "\n",
    "1) Spyder\n",
    "    - MATLAB과 비슷한 GUI. Variable explorer에서 변수들에 대한 정보를 확인 가능\n",
    "    \n",
    "2) Jupyter Notebook / Jupyter Lab\n",
    "    - 코드를 명시적으로 cell마다 나눠서 실행 가능\n",
    "    - web-based: print된 결과를 파일 자체에 저장 가능\n",
    "    - slideshow 지원\n",
    "    \n",
    "3) PyCharm\n",
    "    - 전문적인 기능을 제공하나, 설정이 다소 복잡하고 무거움\n",
    "    - project 개발에 적합하며, small stand-alone script 개발에는 비효율적\n"
   ]
  },
  {
   "cell_type": "markdown",
   "metadata": {
    "slideshow": {
     "slide_type": "slide"
    }
   },
   "source": [
    "# Running Python\n",
    "1) Interactive mode\n",
    "- to run simple commands to check the results right away\n",
    "- Anaconda Prompt에서 \"python\"을 입력해서 실행\n",
    "    - 즉각적으로 line-by-line으로 간단한 Python 코드를 실행 가능\n",
    "    \n",
    "2) Script mode\n",
    "- Python 코드를 .py 확장자를 갖는 텍스트 파일로 저장한 뒤, *python filepath/filename.py*로 코드를 실행\n",
    "    - 예시 (in Anaconda Prompt): \\\\$ python C:/local/myCode.py\n",
    "        - \"\\\\$\" 는 \"Anaconda prompt\"에서 직접 실행하란 의미. 실행시에는 \"\\\\$\"는 입력하지 않음\n",
    "    \n",
    "    - 예시 (in Jupyter notebook): ! python C:/local/myCode.py\n",
    "    \n",
    "  \n",
    "- \"\\\\$\" 는 Unix / Linux-based OS에서의 command prompt를 의미\n",
    "    - Windows에서 CMD를 열었을 때 \"C:\\Users\\username>\" 과 equivalent\n",
    "    - 책 등에서 \"\\\\$\"가 나올 때 Windows 사용자는 이를 입력할 필요가 없음. CMD 창에서의 입력이라고 생각하면 됨    \n",
    "    \n",
    "\n",
    "- \"!\"는 Run commands in CMD with Jupyter Notebook\n",
    "    - ! *commands*\n",
    "    - *commands*는 Python comands가 아님을 주의\n",
    "        - Windows의 CMD에서 해당 명령어를 실행하는 것. Windows의 CMD에서 \"> python ...\"은 python interpreter에게 \"...\"을 실행하라는 의미"
   ]
  },
  {
   "cell_type": "code",
   "execution_count": 4,
   "metadata": {
    "slideshow": {
     "slide_type": "fragment"
    }
   },
   "outputs": [
    {
     "name": "stdout",
     "output_type": "stream",
     "text": [
      "Hello, world!\n"
     ]
    }
   ],
   "source": [
    "# Script mode example\n",
    "! python C:/local/myCode.py # C:/local/ 에 내용이 print('Hello, world!')인 myCode.py를 미리 저장해놓음"
   ]
  },
  {
   "cell_type": "markdown",
   "metadata": {},
   "source": [
    "- \"!\"를 넣지 않으면 아래의 명령어는 실행이 안 됨"
   ]
  },
  {
   "cell_type": "code",
   "execution_count": 5,
   "metadata": {
    "slideshow": {
     "slide_type": "fragment"
    }
   },
   "outputs": [
    {
     "ename": "SyntaxError",
     "evalue": "invalid syntax (2926220620.py, line 1)",
     "output_type": "error",
     "traceback": [
      "\u001b[1;36m  Cell \u001b[1;32mIn[5], line 1\u001b[1;36m\u001b[0m\n\u001b[1;33m    python C:/local/myCode.py\u001b[0m\n\u001b[1;37m           ^\u001b[0m\n\u001b[1;31mSyntaxError\u001b[0m\u001b[1;31m:\u001b[0m invalid syntax\n"
     ]
    }
   ],
   "source": [
    "python C:/local/myCode.py"
   ]
  },
  {
   "cell_type": "code",
   "execution_count": 6,
   "metadata": {
    "slideshow": {
     "slide_type": "fragment"
    }
   },
   "outputs": [
    {
     "ename": "SyntaxError",
     "evalue": "invalid syntax (1448612695.py, line 1)",
     "output_type": "error",
     "traceback": [
      "\u001b[1;36m  Cell \u001b[1;32mIn[6], line 1\u001b[1;36m\u001b[0m\n\u001b[1;33m    C:/local/myCode.py\u001b[0m\n\u001b[1;37m      ^\u001b[0m\n\u001b[1;31mSyntaxError\u001b[0m\u001b[1;31m:\u001b[0m invalid syntax\n"
     ]
    }
   ],
   "source": [
    "C:/local/myCode.py"
   ]
  },
  {
   "cell_type": "markdown",
   "metadata": {
    "slideshow": {
     "slide_type": "slide"
    }
   },
   "source": [
    "# 참고) Magic commands for IPython\n",
    "- Jupyter notebook / Jupyter lab에서 유용하게 사용 가능\n",
    "    - Spyder에서는 제한적으로만 사용 가능\n",
    "        - Spyder에서는 \"Run selection or current line (F9)\"으로만 작동하며, \"Run cell (Ctrl+Enter)\"로는 작동하지 않음\n",
    "    - https://ipython.readthedocs.io/en/stable/interactive/magics.html\n",
    "\n",
    "\n",
    "- \\%*magic*: print information about the magic function system\n",
    "\n",
    "- \\%pwd: Return the current working directory path\n",
    "\n",
    "- \\%cd: Change the current working directory\n",
    "    - Python은 current working directory부터 source code를 찾아서 실행함\n",
    "    \n",
    "\n",
    "- \\%who: 현재 저장되어 있는 변수명을 반환\n",
    "\n",
    "- \\%who_ls:현재 저장되어 있는 변수명을 list로 반환\n",
    "\n",
    "- \\%whos: %who와 흡사. 변수들에 대한 추가적인 정보를 제공\n",
    "\n",
    "\n",
    "- \\%time: 코드 실행에 걸리는 시간을 반환\n",
    "- \\%timeit: 코드 실행에 걸리는 시간을 반환; 여러 번 실행\n",
    "\n",
    "\n",
    "- \\%debug: Activate the interactive debugger"
   ]
  },
  {
   "cell_type": "code",
   "execution_count": 9,
   "metadata": {
    "slideshow": {
     "slide_type": "subslide"
    }
   },
   "outputs": [
    {
     "name": "stdout",
     "output_type": "stream",
     "text": [
      "x\t y\t z\t \n",
      "\n",
      "\n",
      "Variable   Type    Data/Info\n",
      "----------------------------\n",
      "x          int     5\n",
      "y          int     3\n",
      "z          int     7\n",
      "\n",
      "\n"
     ]
    },
    {
     "data": {
      "text/plain": [
       "['x', 'y', 'z']"
      ]
     },
     "execution_count": 9,
     "metadata": {},
     "output_type": "execute_result"
    }
   ],
   "source": [
    "x=5\n",
    "y=3\n",
    "z=7\n",
    "%who\n",
    "print('\\n')\n",
    "\n",
    "%whos\n",
    "print('\\n')\n",
    "\n",
    "%who_ls"
   ]
  },
  {
   "cell_type": "markdown",
   "metadata": {
    "slideshow": {
     "slide_type": "slide"
    }
   },
   "source": [
    "## 참고) IPython\n",
    "- A command shell for Python / interactive command-line terminal for Python; just an interface in essence\n",
    "    - shell: \"a user interface for access to an OS services\"\n",
    "\n",
    "\n",
    "- kernel for Jupyter\n",
    "    - 원래 \"IPython Notebook\"이던 이름이 \"Jupyter Notebook\"으로 바뀜\n",
    "    - 이는 이제 Jupyter Notebook에서 Python 외의 언어도 지원하기 때문 (R, Julia, Scala, SAS, MATLAB, ...)\n",
    "    \n",
    "\n",
    "- OS shells use either command-line interface (CLI) or graphical user interface (GUI)\n",
    "    - CLI 예시: Command prompt (Windows), Windows PowerShell (Windows), Bash (Unix, Linux)\n",
    "    - GUI 예시: Windows 시작 메뉴, 파일 탐색기, ...\n",
    "\n",
    "\n",
    "- tab completion, support for interactive data visualization, ...\n",
    "\n",
    "\n",
    "- command prompt에서 python 및 ipython의 입력을 통해 standard Python interpreter와 IPython interpreter의 차이를 확인 가능\n",
    "    - IPython: standard Python shell + $\\alpha$\n",
    "    \n",
    "    \n",
    "- IPython을 사용하지 않고서도 script mode를 이용해 .py 확장자를 갖는 파일을 실행 가능"
   ]
  },
  {
   "cell_type": "markdown",
   "metadata": {},
   "source": [
    "## Access documentation with ?\n",
    "- ex) sum?\n",
    "\n",
    "## Access source code with ??\n",
    "- ex) sum??\n",
    "\n",
    "- 때때로 \"??\"를 쳐도 아무런 source code를 보여주지 않고, \"?\"와 같은 결과만을 반환함\n",
    "- 일반적으로는 보고 싶은 내용이 Python으로 작성되어 있지 않고, C 혹은 다른 compile language로 작성이 되어있는 경우에 해당\n",
    "- 대부분 Python의 built-in object나 type에 해당"
   ]
  },
  {
   "cell_type": "code",
   "execution_count": 11,
   "metadata": {},
   "outputs": [],
   "source": [
    "sum?"
   ]
  },
  {
   "cell_type": "code",
   "execution_count": 13,
   "metadata": {},
   "outputs": [],
   "source": [
    "sum??"
   ]
  },
  {
   "cell_type": "code",
   "execution_count": 14,
   "metadata": {
    "slideshow": {
     "slide_type": "slide"
    }
   },
   "outputs": [],
   "source": [
    "def square(x):\n",
    "    '''return the square of x'''\n",
    "    return x**2\n",
    "\n",
    "square?"
   ]
  },
  {
   "cell_type": "code",
   "execution_count": 15,
   "metadata": {
    "slideshow": {
     "slide_type": "fragment"
    }
   },
   "outputs": [],
   "source": [
    "square??"
   ]
  },
  {
   "cell_type": "markdown",
   "metadata": {
    "slideshow": {
     "slide_type": "slide"
    }
   },
   "source": [
    "# Add path\n",
    "- $ import os\n",
    "\n",
    "- $ os.getcwd()\n",
    "\n",
    "## sys module\n",
    "- **sys.path**: Python이 시스템에서 module(\\*.py 파일)을 검색하는 위치\n",
    "- python script가 저장되어 있는 위치와 다른 path에 있다면, 해당 .py 파일을 실행하기 위해서는 **sys.path**에 추가해야 함"
   ]
  },
  {
   "cell_type": "code",
   "execution_count": 18,
   "metadata": {},
   "outputs": [
    {
     "data": {
      "text/plain": [
       "['E:\\\\Dropbox\\\\GitHub\\\\DFMBA2023\\\\Python Scripts',\n",
       " 'C:\\\\Users\\\\crux_\\\\anaconda3\\\\python310.zip',\n",
       " 'C:\\\\Users\\\\crux_\\\\anaconda3\\\\DLLs',\n",
       " 'C:\\\\Users\\\\crux_\\\\anaconda3\\\\lib',\n",
       " 'C:\\\\Users\\\\crux_\\\\anaconda3',\n",
       " '',\n",
       " 'C:\\\\Users\\\\crux_\\\\AppData\\\\Roaming\\\\Python\\\\Python310\\\\site-packages',\n",
       " 'C:\\\\Users\\\\crux_\\\\anaconda3\\\\lib\\\\site-packages',\n",
       " 'C:\\\\Users\\\\crux_\\\\anaconda3\\\\lib\\\\site-packages\\\\win32',\n",
       " 'C:\\\\Users\\\\crux_\\\\anaconda3\\\\lib\\\\site-packages\\\\win32\\\\lib',\n",
       " 'C:\\\\Users\\\\crux_\\\\anaconda3\\\\lib\\\\site-packages\\\\Pythonwin']"
      ]
     },
     "metadata": {},
     "output_type": "display_data"
    },
    {
     "name": "stdout",
     "output_type": "stream",
     "text": [
      "--------------------------------------------------------------------------------\n"
     ]
    },
    {
     "data": {
      "text/plain": [
       "['E:\\\\Dropbox\\\\GitHub\\\\DFMBA2023\\\\Python Scripts',\n",
       " 'C:\\\\Users\\\\crux_\\\\anaconda3\\\\python310.zip',\n",
       " 'C:\\\\Users\\\\crux_\\\\anaconda3\\\\DLLs',\n",
       " 'C:\\\\Users\\\\crux_\\\\anaconda3\\\\lib',\n",
       " 'C:\\\\Users\\\\crux_\\\\anaconda3',\n",
       " '',\n",
       " 'C:\\\\Users\\\\crux_\\\\AppData\\\\Roaming\\\\Python\\\\Python310\\\\site-packages',\n",
       " 'C:\\\\Users\\\\crux_\\\\anaconda3\\\\lib\\\\site-packages',\n",
       " 'C:\\\\Users\\\\crux_\\\\anaconda3\\\\lib\\\\site-packages\\\\win32',\n",
       " 'C:\\\\Users\\\\crux_\\\\anaconda3\\\\lib\\\\site-packages\\\\win32\\\\lib',\n",
       " 'C:\\\\Users\\\\crux_\\\\anaconda3\\\\lib\\\\site-packages\\\\Pythonwin',\n",
       " 'C:\\\\myFolder']"
      ]
     },
     "metadata": {},
     "output_type": "display_data"
    },
    {
     "name": "stdout",
     "output_type": "stream",
     "text": [
      "--------------------------------------------------------------------------------\n"
     ]
    },
    {
     "data": {
      "text/plain": [
       "['E:\\\\Dropbox\\\\GitHub\\\\DFMBA2023\\\\Python Scripts',\n",
       " 'C:\\\\Users\\\\crux_\\\\anaconda3\\\\python310.zip',\n",
       " 'C:\\\\Users\\\\crux_\\\\anaconda3\\\\DLLs',\n",
       " 'C:\\\\Users\\\\crux_\\\\anaconda3\\\\lib',\n",
       " 'C:\\\\Users\\\\crux_\\\\anaconda3',\n",
       " '',\n",
       " 'C:\\\\Users\\\\crux_\\\\AppData\\\\Roaming\\\\Python\\\\Python310\\\\site-packages',\n",
       " 'C:\\\\Users\\\\crux_\\\\anaconda3\\\\lib\\\\site-packages',\n",
       " 'C:\\\\Users\\\\crux_\\\\anaconda3\\\\lib\\\\site-packages\\\\win32',\n",
       " 'C:\\\\Users\\\\crux_\\\\anaconda3\\\\lib\\\\site-packages\\\\win32\\\\lib',\n",
       " 'C:\\\\Users\\\\crux_\\\\anaconda3\\\\lib\\\\site-packages\\\\Pythonwin']"
      ]
     },
     "metadata": {},
     "output_type": "display_data"
    }
   ],
   "source": [
    "import sys\n",
    "display(sys.path)\n",
    "print('-'*80)\n",
    "\n",
    "sys.path.append('C:\\\\myFolder')\n",
    "display(sys.path)\n",
    "print('-'*80)\n",
    "\n",
    "sys.path.remove('C:\\\\myFolder')\n",
    "display(sys.path)"
   ]
  },
  {
   "cell_type": "markdown",
   "metadata": {
    "slideshow": {
     "slide_type": "slide"
    }
   },
   "source": [
    "# Tab completion\n",
    "- L = [1,2,3]\n",
    "\n",
    "- L.< TAB >\n",
    "    - \"L.\" 까지 입력한 후 TAB 키를 누르면, L이라는 변수에 대해 사용가능한 keyword나 함수들의 목록이 자동으로 완성됨\n",
    "\n",
    "- L.c< TAB >\n",
    "    - \"L.c\" 까지 입력한 후 TAB 키를 누르면, L이라는 변수에 대해 사용가능한 keyword나 함수들 중 \"c\"로 시작하는 목록이 자동으로 완성됨\n",
    "\n",
    "# Wildcard matching\n",
    "- *Warning?\n",
    "    - Warning으로 끝나는 keyword들이 출력됨\n",
    "    \n",
    "- ABC*XYZ?\n",
    "    - ABC로 시작하고 XYZ로 끝나는 keyword들이 출력됨"
   ]
  },
  {
   "cell_type": "code",
   "execution_count": 22,
   "metadata": {
    "slideshow": {
     "slide_type": "fragment"
    }
   },
   "outputs": [],
   "source": [
    "*Warning?"
   ]
  },
  {
   "cell_type": "code",
   "execution_count": null,
   "metadata": {},
   "outputs": [],
   "source": []
  },
  {
   "cell_type": "markdown",
   "metadata": {
    "slideshow": {
     "slide_type": "slide"
    }
   },
   "source": [
    "# 참고) List of packages\n",
    "- \"$ conda list\" 명령어를 통해 설치된 패키지 목록을 확인 가능\n",
    "- 특정 패키지의 설치가 필요한 경우, conda install *packagename* (or conda update *packagename*)을 통해 설치 가능\n",
    "    - pip로 설치하는 경우, pip install *packagename* 을 통해 설치 가능\n",
    "- 패키지의 공식 명칭과 설치에 이용되는 명칭은 다를 수 있음\n",
    "    - 예시) Scikit-learn 패키지 설치: conda install *sklearn*"
   ]
  },
  {
   "cell_type": "code",
   "execution_count": 23,
   "metadata": {
    "collapsed": true
   },
   "outputs": [
    {
     "name": "stdout",
     "output_type": "stream",
     "text": [
      "# packages in environment at C:\\Users\\crux_\\anaconda3:\n",
      "#\n",
      "# Name                    Version                   Build  Channel\n",
      "absl-py                   1.4.0                    pypi_0    pypi\n",
      "aiohttp                   3.8.5                    pypi_0    pypi\n",
      "aiohttp-cors              0.7.0                    pypi_0    pypi\n",
      "aiosignal                 1.3.1                    pypi_0    pypi\n",
      "alabaster                 0.7.12             pyhd3eb1b0_0  \n",
      "altgraph                  0.17.3                   pypi_0    pypi\n",
      "anaconda-client           1.11.2          py310haa95532_0  \n",
      "anaconda-navigator        2.4.0           py310haa95532_0  \n",
      "anaconda-project          0.11.1          py310haa95532_0  \n",
      "ansi2html                 1.8.0                    pypi_0    pypi\n",
      "ansicon                   1.89.0                   pypi_0    pypi\n",
      "anyio                     3.5.0           py310haa95532_0  \n",
      "appdirs                   1.4.4              pyhd3eb1b0_0  \n",
      "arch                      6.1.0                    pypi_0    pypi\n",
      "argon2-cffi               21.3.0             pyhd3eb1b0_0  \n",
      "argon2-cffi-bindings      21.2.0          py310h2bbff1b_0  \n",
      "arrow                     1.2.3           py310haa95532_1  \n",
      "astroid                   2.14.2          py310haa95532_0  \n",
      "astropy                   5.1             py310h9128911_0  \n",
      "asttokens                 2.0.5              pyhd3eb1b0_0  \n",
      "astunparse                1.6.3                    pypi_0    pypi\n",
      "async-timeout             4.0.2                    pypi_0    pypi\n",
      "atomicwrites              1.4.0                      py_0  \n",
      "attrs                     22.1.0          py310haa95532_0  \n",
      "automat                   20.2.0                     py_0  \n",
      "autopep8                  1.6.0              pyhd3eb1b0_1  \n",
      "babel                     2.11.0          py310haa95532_0  \n",
      "backcall                  0.2.0              pyhd3eb1b0_0  \n",
      "backports                 1.1                pyhd3eb1b0_0  \n",
      "backports.functools_lru_cache 1.6.4              pyhd3eb1b0_0  \n",
      "backports.tempfile        1.0                pyhd3eb1b0_1  \n",
      "backports.weakref         1.0.post1                  py_1  \n",
      "bcrypt                    3.2.0           py310h2bbff1b_1  \n",
      "beautifulsoup4            4.11.1          py310haa95532_0  \n",
      "binaryornot               0.4.4              pyhd3eb1b0_1  \n",
      "black                     21.12b0                  pypi_0    pypi\n",
      "blas                      1.0                         mkl  \n",
      "bleach                    4.1.0              pyhd3eb1b0_0  \n",
      "blessed                   1.20.0                   pypi_0    pypi\n",
      "blinker                   1.6.2                    pypi_0    pypi\n",
      "blosc                     1.21.3               h6c2663c_0  \n",
      "bokeh                     2.4.3           py310haa95532_0  \n",
      "boltons                   23.0.0          py310haa95532_0  \n",
      "boto3                     1.28.35                  pypi_0    pypi\n",
      "botocore                  1.31.35                  pypi_0    pypi\n",
      "bottle                    0.12.25                  pypi_0    pypi\n",
      "bottle-websocket          0.2.9                    pypi_0    pypi\n",
      "bottleneck                1.3.5           py310h9128911_0  \n",
      "brotli                    1.0.9                h2bbff1b_7  \n",
      "brotli-bin                1.0.9                h2bbff1b_7  \n",
      "brotlipy                  0.7.0           py310h2bbff1b_1002  \n",
      "bzip2                     1.0.8                he774522_0  \n",
      "ca-certificates           2023.7.22            h56e8100_0    conda-forge\n",
      "cachetools                5.3.1                    pypi_0    pypi\n",
      "calplot                   0.1.7.5                  pypi_0    pypi\n",
      "certifi                   2023.7.22          pyhd8ed1ab_0    conda-forge\n",
      "cffi                      1.15.1          py310h2bbff1b_3  \n",
      "cfgv                      3.4.0                    pypi_0    pypi\n",
      "cfitsio                   3.470                h2bbff1b_7  \n",
      "chardet                   4.0.0           py310haa95532_1003  \n",
      "charls                    2.2.0                h6c2663c_0  \n",
      "charset-normalizer        2.0.4              pyhd3eb1b0_0  \n",
      "chart-studio              1.1.0                    pypi_0    pypi\n",
      "click                     8.1.7                    pypi_0    pypi\n",
      "cloudpickle               2.0.0              pyhd3eb1b0_0  \n",
      "clyent                    1.2.2           py310haa95532_1  \n",
      "colorama                  0.4.6           py310haa95532_0  \n",
      "colorcet                  3.0.1           py310haa95532_0  \n",
      "coloredlogs               15.0.1                   pypi_0    pypi\n",
      "colorful                  0.5.5                    pypi_0    pypi\n",
      "comm                      0.1.2           py310haa95532_0  \n",
      "conda                     23.3.1          py310haa95532_0  \n",
      "conda-build               3.24.0          py310haa95532_0  \n",
      "conda-content-trust       0.1.3           py310haa95532_0  \n",
      "conda-pack                0.6.0              pyhd3eb1b0_0  \n",
      "conda-package-handling    2.0.2           py310haa95532_0  \n",
      "conda-package-streaming   0.7.0           py310haa95532_0  \n",
      "conda-repo-cli            1.0.41          py310haa95532_0  \n",
      "conda-token               0.4.0              pyhd3eb1b0_0  \n",
      "conda-verify              3.4.2                      py_1  \n",
      "console_shortcut          0.1.1                         4  \n",
      "constantly                15.1.0          py310haa95532_0  \n",
      "contourpy                 1.0.5           py310h59b6b97_0  \n",
      "cookiecutter              1.7.3              pyhd3eb1b0_0  \n",
      "cryptography              39.0.1          py310h21b164f_0  \n",
      "cssselect                 1.1.0              pyhd3eb1b0_0  \n",
      "cudatoolkit               11.2.2              h933977f_10    conda-forge\n",
      "cudnn                     8.1.0.77             h3e0f4f4_0    conda-forge\n",
      "curl                      7.87.0               h2bbff1b_0  \n",
      "cvxopt                    1.3.2                    pypi_0    pypi\n",
      "cvxpy                     1.3.2                    pypi_0    pypi\n",
      "cx-logging                3.1.0                    pypi_0    pypi\n",
      "cycler                    0.11.0             pyhd3eb1b0_0  \n",
      "cython                    3.0.2                    pypi_0    pypi\n",
      "cytoolz                   0.12.0          py310h2bbff1b_0  \n",
      "daal4py                   2023.0.2        py310hf497b98_0  \n",
      "dal                       2023.0.1         h59b6b97_26646  \n",
      "dash                      2.12.1                   pypi_0    pypi\n",
      "dash-core-components      2.0.0                    pypi_0    pypi\n",
      "dash-html-components      2.0.0                    pypi_0    pypi\n",
      "dash-table                5.0.0                    pypi_0    pypi\n",
      "dask                      2022.7.0        py310haa95532_0  \n",
      "dask-core                 2022.7.0        py310haa95532_0  \n",
      "datashader                0.14.4          py310haa95532_0  \n",
      "datashape                 0.5.4           py310haa95532_1  \n",
      "dateparser                1.1.8                    pypi_0    pypi\n",
      "debugpy                   1.5.1           py310hd77b12b_0  \n",
      "decorator                 5.1.1              pyhd3eb1b0_0  \n",
      "defusedxml                0.7.1              pyhd3eb1b0_0  \n",
      "diff-match-patch          20200713           pyhd3eb1b0_0  \n",
      "dill                      0.3.6           py310haa95532_0  \n",
      "distlib                   0.3.7                    pypi_0    pypi\n",
      "distributed               2022.7.0        py310haa95532_0  \n",
      "docopt                    0.6.2                    pypi_0    pypi\n",
      "docstring-to-markdown     0.11            py310haa95532_0  \n",
      "docutils                  0.18.1          py310haa95532_3  \n",
      "ecos                      2.0.12                   pypi_0    pypi\n",
      "eel                       0.16.0                   pypi_0    pypi\n",
      "entrypoints               0.4             py310haa95532_0  \n",
      "et_xmlfile                1.1.0           py310haa95532_0  \n",
      "executing                 0.8.3              pyhd3eb1b0_0  \n",
      "filelock                  3.9.0           py310haa95532_0  \n",
      "flake8                    3.9.2                    pypi_0    pypi\n",
      "flask                     2.2.2           py310haa95532_0  \n",
      "flatbuffers               23.5.26                  pypi_0    pypi\n",
      "flit-core                 3.6.0              pyhd3eb1b0_0  \n",
      "fonttools                 4.25.0             pyhd3eb1b0_0  \n",
      "freetype                  2.12.1               ha860e81_0  \n",
      "frozendict                2.3.8                    pypi_0    pypi\n",
      "frozenlist                1.4.0                    pypi_0    pypi\n",
      "fsspec                    2022.11.0       py310haa95532_0  \n",
      "future                    0.18.3          py310haa95532_0  \n",
      "gast                      0.4.0                    pypi_0    pypi\n",
      "gensim                    4.3.0           py310h4ed8f06_0  \n",
      "gevent                    23.7.0                   pypi_0    pypi\n",
      "gevent-websocket          0.10.1                   pypi_0    pypi\n",
      "giflib                    5.2.1                h8cc25b3_3  \n",
      "glib                      2.69.1               h5dc1a3c_2  \n",
      "glob2                     0.7                pyhd3eb1b0_0  \n",
      "google-api-core           2.11.1                   pypi_0    pypi\n",
      "google-auth               2.22.0                   pypi_0    pypi\n",
      "google-auth-oauthlib      0.4.6                    pypi_0    pypi\n",
      "google-pasta              0.2.0                    pypi_0    pypi\n",
      "googleapis-common-protos  1.60.0                   pypi_0    pypi\n",
      "gpustat                   1.1                      pypi_0    pypi\n",
      "greenlet                  2.0.1           py310hd77b12b_0  \n",
      "grpcio                    1.56.2                   pypi_0    pypi\n",
      "gst-plugins-base          1.18.5               h9e645db_0  \n",
      "gstreamer                 1.18.5               hd78058f_0  \n",
      "h5py                      3.7.0           py310hfc34f40_0  \n",
      "hdf5                      1.10.6               h1756f20_1  \n",
      "heapdict                  1.0.1              pyhd3eb1b0_0  \n",
      "holidays                  0.30                     pypi_0    pypi\n",
      "holoviews                 1.15.4          py310haa95532_0  \n",
      "html5lib                  1.1                      pypi_0    pypi\n",
      "huggingface_hub           0.10.1          py310haa95532_0  \n",
      "humanfriendly             10.0                     pypi_0    pypi\n",
      "hvplot                    0.8.2           py310haa95532_0  \n",
      "hyperlink                 21.0.0             pyhd3eb1b0_0  \n",
      "icc_rt                    2022.1.0             h6049295_2  \n",
      "icu                       58.2                 ha925a31_3  \n",
      "identify                  2.5.32                   pypi_0    pypi\n",
      "idna                      3.4             py310haa95532_0  \n",
      "imagecodecs               2021.8.26       py310h4c966c4_2  \n",
      "imageio                   2.26.0          py310haa95532_0  \n",
      "imagesize                 1.4.1           py310haa95532_0  \n",
      "imbalanced-learn          0.10.1          py310haa95532_0  \n",
      "importlib-metadata        4.11.3          py310haa95532_0  \n",
      "importlib_metadata        4.11.3               hd3eb1b0_0  \n",
      "incremental               21.3.0             pyhd3eb1b0_0  \n",
      "inflection                0.5.1           py310haa95532_0  \n",
      "iniconfig                 1.1.1              pyhd3eb1b0_0  \n",
      "intake                    0.6.7           py310haa95532_0  \n",
      "intel-openmp              2021.4.0          haa95532_3556  \n",
      "intervaltree              3.1.0              pyhd3eb1b0_0  \n",
      "ipykernel                 6.19.2          py310h9909e9c_0  \n",
      "ipython                   8.10.0          py310haa95532_0  \n",
      "ipython_genutils          0.2.0              pyhd3eb1b0_1  \n",
      "ipywidgets                7.6.5              pyhd3eb1b0_1  \n",
      "isort                     5.9.3              pyhd3eb1b0_0  \n",
      "itemadapter               0.3.0              pyhd3eb1b0_0  \n",
      "itemloaders               1.0.4              pyhd3eb1b0_1  \n",
      "itsdangerous              2.1.2                    pypi_0    pypi\n",
      "jedi                      0.18.1          py310haa95532_1  \n",
      "jellyfish                 0.9.0           py310h2bbff1b_0  \n",
      "jinja2                    3.1.2           py310haa95532_0  \n",
      "jinja2-time               0.2.0              pyhd3eb1b0_3  \n",
      "jinxed                    1.2.0                    pypi_0    pypi\n",
      "jmespath                  0.10.0             pyhd3eb1b0_0  \n",
      "joblib                    1.1.1           py310haa95532_0  \n",
      "jpeg                      9e                   h2bbff1b_1  \n",
      "jq                        1.6                  haa95532_1  \n",
      "json5                     0.9.6              pyhd3eb1b0_0  \n",
      "jsonpatch                 1.32               pyhd3eb1b0_0  \n",
      "jsonpointer               2.1                pyhd3eb1b0_0  \n",
      "jsonschema                4.17.3          py310haa95532_0  \n",
      "jupyter                   1.0.0           py310haa95532_8  \n",
      "jupyter-contrib-core      0.4.2                    pypi_0    pypi\n",
      "jupyter-contrib-nbextensions 0.7.0                    pypi_0    pypi\n",
      "jupyter-highlight-selected-word 0.2.0                    pypi_0    pypi\n",
      "jupyter-nbextensions-configurator 0.6.3                    pypi_0    pypi\n",
      "jupyter_client            7.3.4           py310haa95532_0  \n",
      "jupyter_console           6.6.2           py310haa95532_0  \n",
      "jupyter_core              5.2.0           py310haa95532_0  \n",
      "jupyter_server            1.23.4          py310haa95532_0  \n",
      "jupyterlab                3.5.3           py310haa95532_0  \n",
      "jupyterlab_pygments       0.1.2                      py_0  \n",
      "jupyterlab_server         2.19.0          py310haa95532_0  \n",
      "jupyterlab_widgets        1.0.0              pyhd3eb1b0_1  \n",
      "jxrlib                    1.1                  he774522_2  \n",
      "kaleido                   0.2.1                    pypi_0    pypi\n",
      "keras                     2.10.0                   pypi_0    pypi\n",
      "keras-preprocessing       1.1.2                    pypi_0    pypi\n",
      "keyring                   23.4.0          py310haa95532_0  \n",
      "kiwisolver                1.4.4           py310hd77b12b_0  \n",
      "lazy-object-proxy         1.6.0           py310h2bbff1b_0  \n",
      "lcms2                     2.12                 h83e58a3_0  \n",
      "lerc                      3.0                  hd77b12b_0  \n",
      "libaec                    1.0.4                h33f27b4_1  \n",
      "libarchive                3.6.2                hebabd0d_0  \n",
      "libbrotlicommon           1.0.9                h2bbff1b_7  \n",
      "libbrotlidec              1.0.9                h2bbff1b_7  \n",
      "libbrotlienc              1.0.9                h2bbff1b_7  \n",
      "libclang                  16.0.6                   pypi_0    pypi\n",
      "libcurl                   7.87.0               h86230a5_0  \n",
      "libdeflate                1.17                 h2bbff1b_0  \n",
      "libffi                    3.4.2                hd77b12b_6  \n",
      "libiconv                  1.16                 h2bbff1b_2  \n",
      "liblief                   0.12.3               hd77b12b_0  \n",
      "libogg                    1.3.5                h2bbff1b_1  \n",
      "libpng                    1.6.39               h8cc25b3_0  \n",
      "libsodium                 1.0.18               h62dcd97_0  \n",
      "libspatialindex           1.9.3                h6c2663c_0  \n",
      "libssh2                   1.10.0               hcd4344a_0  \n",
      "libtiff                   4.5.0                h6c2663c_2  \n",
      "libuv                     1.44.2               h2bbff1b_0  \n",
      "libvorbis                 1.3.7                he774522_0  \n",
      "libwebp                   1.2.4                hbc33d0d_1  \n",
      "libwebp-base              1.2.4                h2bbff1b_1  \n",
      "libxml2                   2.9.14               h0ad7f3c_0  \n",
      "libxslt                   1.1.35               h2bbff1b_0  \n",
      "libzopfli                 1.0.3                ha925a31_0  \n",
      "lief                      0.13.2                   pypi_0    pypi\n",
      "lightgbm                  4.1.0                    pypi_0    pypi\n",
      "line-profiler             4.1.2                    pypi_0    pypi\n",
      "llvmlite                  0.39.1          py310h23ce68f_0  \n",
      "locket                    1.0.0           py310haa95532_0  \n",
      "lxml                      4.9.1           py310h1985fb9_0  \n",
      "lz4                       3.1.3           py310h2bbff1b_0  \n",
      "lz4-c                     1.9.4                h2bbff1b_0  \n",
      "lzo                       2.10                 he774522_2  \n",
      "m2-msys2-runtime          2.5.0.17080.65c939c               3  \n",
      "m2-patch                  2.7.5                         2  \n",
      "m2w64-libwinpthread-git   5.0.0.4634.697f757               2  \n",
      "markdown                  3.4.1           py310haa95532_0  \n",
      "markupsafe                2.1.1           py310h2bbff1b_0  \n",
      "matplotlib                3.7.0           py310haa95532_0  \n",
      "matplotlib-base           3.7.0           py310h4ed8f06_0  \n",
      "matplotlib-inline         0.1.6           py310haa95532_0  \n",
      "mccabe                    0.6.1                    pypi_0    pypi\n",
      "menuinst                  1.4.19          py310h59b6b97_0  \n",
      "mistune                   0.8.4           py310h2bbff1b_1000  \n",
      "mkl                       2021.4.0           haa95532_640  \n",
      "mkl-service               2.4.0           py310h2bbff1b_0  \n",
      "mkl_fft                   1.3.1           py310ha0764ea_0  \n",
      "mkl_random                1.2.2           py310h4ed8f06_0  \n",
      "mock                      4.0.3              pyhd3eb1b0_0  \n",
      "mosek                     10.1.9                   pypi_0    pypi\n",
      "mplcursors                0.5.2                    pypi_0    pypi\n",
      "mpmath                    1.2.1           py310haa95532_0  \n",
      "msgpack-python            1.0.3           py310h59b6b97_0  \n",
      "msys2-conda-epoch         20160418                      1  \n",
      "multidict                 6.0.4                    pypi_0    pypi\n",
      "multipledispatch          0.6.0           py310haa95532_0  \n",
      "multitasking              0.0.11                   pypi_0    pypi\n",
      "munkres                   1.1.4                      py_0  \n",
      "mypy_extensions           0.4.3           py310haa95532_1  \n",
      "navigator-updater         0.3.0           py310haa95532_0  \n",
      "nbclassic                 0.5.2           py310haa95532_0  \n",
      "nbclient                  0.5.13          py310haa95532_0  \n",
      "nbconvert                 6.5.4           py310haa95532_0  \n",
      "nbformat                  5.7.0           py310haa95532_0  \n",
      "nest-asyncio              1.5.6           py310haa95532_0  \n",
      "networkx                  2.8.4           py310haa95532_0  \n",
      "ninja                     1.10.2               haa95532_5  \n",
      "ninja-base                1.10.2               h6d14046_5  \n",
      "nltk                      3.7                pyhd3eb1b0_0  \n",
      "nodeenv                   1.8.0                    pypi_0    pypi\n",
      "nodejs                    20.5.1               h57928b3_1    conda-forge\n",
      "notebook                  6.5.2           py310haa95532_0  \n",
      "notebook-shim             0.2.2           py310haa95532_0  \n",
      "numba                     0.56.4          py310h4ed8f06_0  \n",
      "numexpr                   2.8.4           py310hd213c9f_0  \n",
      "numpy                     1.23.5          py310h60c9a35_0  \n",
      "numpy-base                1.23.5          py310h04254f7_0  \n",
      "numpydoc                  1.5.0           py310haa95532_0  \n",
      "nvidia-ml-py              12.535.77                pypi_0    pypi\n",
      "oauthlib                  3.2.2                    pypi_0    pypi\n",
      "onnxruntime               1.15.1                   pypi_0    pypi\n",
      "opencensus                0.11.2                   pypi_0    pypi\n",
      "opencensus-context        0.1.3                    pypi_0    pypi\n",
      "openjpeg                  2.4.0                h4fc8c34_0  \n",
      "openpyxl                  3.0.10          py310h2bbff1b_0  \n",
      "openssl                   1.1.1v               h2bbff1b_0  \n",
      "opt-einsum                3.3.0                    pypi_0    pypi\n",
      "ortools                   9.4.1874                 pypi_0    pypi\n",
      "osqp                      0.6.3                    pypi_0    pypi\n",
      "packaging                 22.0            py310haa95532_0  \n",
      "pandas                    1.5.3           py310h4ed8f06_0  \n",
      "pandas-datareader         0.10.0                   pypi_0    pypi\n",
      "pandocfilters             1.5.0              pyhd3eb1b0_0  \n",
      "panel                     0.14.3          py310haa95532_0  \n",
      "param                     1.12.3          py310haa95532_0  \n",
      "paramiko                  2.8.1              pyhd3eb1b0_0  \n",
      "parsel                    1.6.0           py310haa95532_0  \n",
      "parso                     0.8.3              pyhd3eb1b0_0  \n",
      "partd                     1.2.0              pyhd3eb1b0_1  \n",
      "pathlib                   1.0.1              pyhd3eb1b0_1  \n",
      "pathspec                  0.10.3          py310haa95532_0  \n",
      "patsy                     0.5.3           py310haa95532_0  \n",
      "pcre                      8.45                 hd77b12b_0  \n",
      "pefile                    2023.2.7                 pypi_0    pypi\n",
      "pep8                      1.7.1           py310haa95532_1  \n",
      "pexpect                   4.8.0              pyhd3eb1b0_3  \n",
      "pickleshare               0.7.5           pyhd3eb1b0_1003  \n",
      "pillow                    9.4.0           py310hd77b12b_0  \n",
      "pip                       22.3.1          py310haa95532_0  \n",
      "pkginfo                   1.9.6           py310haa95532_0  \n",
      "platformdirs              2.5.2           py310haa95532_0  \n",
      "plotly                    5.9.0           py310haa95532_0  \n",
      "plotly-calplot            0.1.16                   pypi_0    pypi\n",
      "pluggy                    1.0.0           py310haa95532_1  \n",
      "ply                       3.11            py310haa95532_0  \n",
      "pooch                     1.4.0              pyhd3eb1b0_0  \n",
      "powershell_shortcut       0.0.1                         3  \n",
      "poyo                      0.5.0              pyhd3eb1b0_0  \n",
      "pre-commit                2.21.0                   pypi_0    pypi\n",
      "pretty-confusion-matrix   0.1.1                    pypi_0    pypi\n",
      "prometheus_client         0.14.1          py310haa95532_0  \n",
      "prompt-toolkit            3.0.36          py310haa95532_0  \n",
      "prompt_toolkit            3.0.36               hd3eb1b0_0  \n",
      "protego                   0.1.16                     py_0  \n",
      "protobuf                  3.19.6                   pypi_0    pypi\n",
      "psutil                    5.9.0           py310h2bbff1b_0  \n",
      "ptyprocess                0.7.0              pyhd3eb1b0_2  \n",
      "pure_eval                 0.2.2              pyhd3eb1b0_0  \n",
      "py                        1.11.0             pyhd3eb1b0_0  \n",
      "py-lets-be-rational       1.0.1                    pypi_0    pypi\n",
      "py-lief                   0.12.3          py310hd77b12b_0  \n",
      "py-spy                    0.3.14                   pypi_0    pypi\n",
      "py-vollib                 1.0.1                    pypi_0    pypi\n",
      "pyasn1                    0.4.8              pyhd3eb1b0_0  \n",
      "pyasn1-modules            0.2.8                      py_0  \n",
      "pybind11                  2.11.1                   pypi_0    pypi\n",
      "pycodestyle               2.7.0                    pypi_0    pypi\n",
      "pycosat                   0.6.4           py310h2bbff1b_0  \n",
      "pycparser                 2.21               pyhd3eb1b0_0  \n",
      "pyct                      0.5.0           py310haa95532_0  \n",
      "pycurl                    7.45.1          py310hcd4344a_0  \n",
      "pydantic                  1.10.12                  pypi_0    pypi\n",
      "pydispatcher              2.0.5           py310haa95532_2  \n",
      "pydocstyle                6.3.0           py310haa95532_0  \n",
      "pyerfa                    2.0.0           py310h2bbff1b_0  \n",
      "pyflakes                  2.3.1                    pypi_0    pypi\n",
      "pygments                  2.11.2             pyhd3eb1b0_0  \n",
      "pyhamcrest                2.0.2              pyhd3eb1b0_2  \n",
      "pyinstaller               5.13.2                   pypi_0    pypi\n",
      "pyinstaller-hooks-contrib 2023.8                   pypi_0    pypi\n",
      "pyjwt                     2.4.0           py310haa95532_0  \n",
      "pylint                    2.16.2          py310haa95532_0  \n",
      "pylint-venv               2.3.0                    pypi_0    pypi\n",
      "pyls-spyder               0.4.0              pyhd3eb1b0_0  \n",
      "pynacl                    1.5.0           py310h8cc25b3_0  \n",
      "pyodbc                    4.0.34          py310hd77b12b_0  \n",
      "pyopenssl                 23.0.0          py310haa95532_0  \n",
      "pyparsing                 3.0.9           py310haa95532_0  \n",
      "pyqt                      5.15.7          py310hd77b12b_0  \n",
      "pyqt5-sip                 12.11.0         py310hd77b12b_0  \n",
      "pyqtwebengine             5.15.7          py310hd77b12b_0  \n",
      "pyreadline3               3.4.1                    pypi_0    pypi\n",
      "pyrsistent                0.18.0          py310h2bbff1b_0  \n",
      "pysocks                   1.7.1           py310haa95532_0  \n",
      "pytables                  3.7.0           py310h388bc9b_1  \n",
      "pytest                    7.1.2           py310haa95532_0  \n",
      "python                    3.10.9               h966fe2a_1  \n",
      "python-dateutil           2.8.2              pyhd3eb1b0_0  \n",
      "python-fastjsonschema     2.16.2          py310haa95532_0  \n",
      "python-graphviz           0.20.1                   pypi_0    pypi\n",
      "python-libarchive-c       2.9                pyhd3eb1b0_1  \n",
      "python-lsp-black          1.2.1           py310haa95532_0  \n",
      "python-lsp-jsonrpc        1.0.0              pyhd3eb1b0_0  \n",
      "python-lsp-server         1.7.1           py310haa95532_0  \n",
      "python-slugify            5.0.2              pyhd3eb1b0_0  \n",
      "python-snappy             0.6.1           py310hd77b12b_0  \n",
      "pytoolconfig              1.2.5           py310haa95532_1  \n",
      "pytorch                   1.12.1          cpu_py310h5e1f01c_1  \n",
      "pytz                      2022.7          py310haa95532_0  \n",
      "pyviz_comms               2.0.2              pyhd3eb1b0_0  \n",
      "pywavelets                1.4.1           py310h2bbff1b_0  \n",
      "pywin32                   305             py310h2bbff1b_0  \n",
      "pywin32-ctypes            0.2.2                    pypi_0    pypi\n",
      "pywinpty                  2.0.10          py310h5da7b33_0  \n",
      "pyyaml                    6.0             py310h2bbff1b_1  \n",
      "pyzmq                     25.1.1                   pypi_0    pypi\n",
      "qdarkstyle                3.0.2              pyhd3eb1b0_0  \n",
      "qdldl                     0.1.7.post0              pypi_0    pypi\n",
      "qstylizer                 0.2.2                    pypi_0    pypi\n",
      "qt-main                   5.15.2               he8e5bd7_7  \n",
      "qt-webengine              5.15.9               hb9a9bb5_5  \n",
      "qtawesome                 1.2.2                    pypi_0    pypi\n",
      "qtconsole                 5.4.0                    pypi_0    pypi\n",
      "qtpy                      2.2.0           py310haa95532_0  \n",
      "qtwebkit                  5.212                h3ad3cdb_4  \n",
      "quantlib                  1.31.1                   pypi_0    pypi\n",
      "queuelib                  1.5.0           py310haa95532_0  \n",
      "ray                       2.6.1                    pypi_0    pypi\n",
      "regex                     2022.7.9        py310h2bbff1b_0  \n",
      "requests                  2.31.0                   pypi_0    pypi\n",
      "requests-file             1.5.1              pyhd3eb1b0_0  \n",
      "requests-oauthlib         1.3.1                    pypi_0    pypi\n",
      "requests-toolbelt         0.9.1              pyhd3eb1b0_0  \n",
      "retrying                  1.3.4                    pypi_0    pypi\n",
      "rfc3339-validator         0.1.4                    pypi_0    pypi\n",
      "rfc3986-validator         0.1.1                    pypi_0    pypi\n",
      "riskfolio-lib             4.4.1                    pypi_0    pypi\n",
      "rope                      1.7.0           py310haa95532_0  \n",
      "rpds-py                   0.10.0                   pypi_0    pypi\n",
      "rsa                       4.9                      pypi_0    pypi\n",
      "rtree                     1.0.1           py310h2eaa2aa_0  \n",
      "ruamel.yaml               0.17.21         py310h2bbff1b_0  \n",
      "ruamel.yaml.clib          0.2.6           py310h2bbff1b_1  \n",
      "ruamel_yaml               0.17.21         py310h2bbff1b_0  \n",
      "s3transfer                0.6.2                    pypi_0    pypi\n",
      "sacremoses                0.0.53                   pypi_0    pypi\n",
      "schedule                  1.2.0                    pypi_0    pypi\n",
      "scikit-image              0.19.3          py310hd77b12b_1  \n",
      "scikit-learn              1.2.1           py310hd77b12b_0  \n",
      "scikit-learn-intelex      2023.0.2        py310haa95532_0  \n",
      "scipy                     1.10.0          py310hb9afe5d_1  \n",
      "scrapy                    2.8.0           py310haa95532_0  \n",
      "scs                       3.2.3                    pypi_0    pypi\n",
      "seaborn                   0.11.2                   pypi_0    pypi\n",
      "send2trash                1.8.2                    pypi_0    pypi\n",
      "sentencepiece             0.1.99                   pypi_0    pypi\n",
      "service_identity          18.1.0             pyhd3eb1b0_1  \n",
      "setuptools                65.6.3          py310haa95532_0  \n",
      "shap                      0.43.0                   pypi_0    pypi\n",
      "simplejson                3.19.1                   pypi_0    pypi\n",
      "simpletransformers        0.4.0                    pypi_0    pypi\n",
      "sip                       6.6.2           py310hd77b12b_0  \n",
      "six                       1.16.0             pyhd3eb1b0_1  \n",
      "sklearn                   0.0.post11               pypi_0    pypi\n",
      "slicer                    0.0.7                    pypi_0    pypi\n",
      "smart_open                5.2.1           py310haa95532_0  \n",
      "snappy                    1.1.9                h6c2663c_0  \n",
      "sniffio                   1.2.0           py310haa95532_1  \n",
      "snowballstemmer           2.2.0              pyhd3eb1b0_0  \n",
      "sortedcontainers          2.4.0              pyhd3eb1b0_0  \n",
      "soupsieve                 2.3.2.post1     py310haa95532_0  \n",
      "sphinx                    5.0.2           py310haa95532_0  \n",
      "sphinxcontrib-applehelp   1.0.2              pyhd3eb1b0_0  \n",
      "sphinxcontrib-devhelp     1.0.2              pyhd3eb1b0_0  \n",
      "sphinxcontrib-htmlhelp    2.0.0              pyhd3eb1b0_0  \n",
      "sphinxcontrib-jsmath      1.0.1              pyhd3eb1b0_0  \n",
      "sphinxcontrib-qthelp      1.0.3              pyhd3eb1b0_0  \n",
      "sphinxcontrib-serializinghtml 1.1.5              pyhd3eb1b0_0  \n",
      "spyder                    5.4.1           py310haa95532_0  \n",
      "spyder-kernels            2.4.1           py310haa95532_0  \n",
      "sqlalchemy                1.4.39          py310h2bbff1b_0  \n",
      "sqlite                    3.40.1               h2bbff1b_0  \n",
      "stack_data                0.2.0              pyhd3eb1b0_0  \n",
      "statsmodels               0.13.5          py310h9128911_1  \n",
      "sympy                     1.11.1          py310haa95532_0  \n",
      "tabulate                  0.8.10          py310haa95532_0  \n",
      "tbb                       2021.7.0             h59b6b97_0  \n",
      "tbb4py                    2021.7.0        py310h59b6b97_0  \n",
      "tblib                     1.7.0              pyhd3eb1b0_0  \n",
      "tenacity                  8.0.1           py310haa95532_1  \n",
      "tensorboard               2.10.1                   pypi_0    pypi\n",
      "tensorboard-data-server   0.6.1                    pypi_0    pypi\n",
      "tensorboard-plugin-wit    1.8.1                    pypi_0    pypi\n",
      "tensorboardx              1.9                      pypi_0    pypi\n",
      "tensorflow                2.10.1                   pypi_0    pypi\n",
      "tensorflow-estimator      2.10.0                   pypi_0    pypi\n",
      "tensorflow-io-gcs-filesystem 0.31.0                   pypi_0    pypi\n",
      "termcolor                 2.3.0                    pypi_0    pypi\n",
      "terminado                 0.17.1          py310haa95532_0  \n",
      "text-unidecode            1.3                pyhd3eb1b0_0  \n",
      "textdistance              4.2.1              pyhd3eb1b0_0  \n",
      "threadpoolctl             2.2.0              pyh0d69192_0  \n",
      "three-merge               0.1.1              pyhd3eb1b0_0  \n",
      "tifffile                  2021.7.2           pyhd3eb1b0_2  \n",
      "tinycss2                  1.2.1           py310haa95532_0  \n",
      "tk                        8.6.12               h2bbff1b_0  \n",
      "tldextract                3.2.0              pyhd3eb1b0_0  \n",
      "tokenizers                0.11.4          py310he5181cf_1  \n",
      "toml                      0.10.2             pyhd3eb1b0_0  \n",
      "tomli                     1.2.3                    pypi_0    pypi\n",
      "tomlkit                   0.11.1          py310haa95532_0  \n",
      "toolz                     0.12.0          py310haa95532_0  \n",
      "tornado                   6.3.3                    pypi_0    pypi\n",
      "tqdm                      4.64.1          py310haa95532_0  \n",
      "traitlets                 5.7.1           py310haa95532_0  \n",
      "transformers              2.1.0                    pypi_0    pypi\n",
      "twisted                   22.2.0          py310h2bbff1b_1  \n",
      "twisted-iocpsupport       1.0.2           py310h2bbff1b_0  \n",
      "typing-extensions         4.4.0           py310haa95532_0  \n",
      "typing_extensions         4.4.0           py310haa95532_0  \n",
      "tzdata                    2023.3                   pypi_0    pypi\n",
      "tzlocal                   5.0.1                    pypi_0    pypi\n",
      "ujson                     5.4.0           py310hd77b12b_0  \n",
      "unidecode                 1.2.0              pyhd3eb1b0_0  \n",
      "uri-template              1.3.0                    pypi_0    pypi\n",
      "urllib3                   1.26.14         py310haa95532_0  \n",
      "vc                        14.2                 h21ff451_1  \n",
      "vectorbt                  0.25.5                   pypi_0    pypi\n",
      "virtualenv                20.21.0                  pypi_0    pypi\n",
      "vs2015_runtime            14.27.29016          h5e58377_2  \n",
      "w3lib                     1.21.0             pyhd3eb1b0_0  \n",
      "watchdog                  2.1.6           py310haa95532_0  \n",
      "wcwidth                   0.2.5              pyhd3eb1b0_0  \n",
      "webcolors                 1.13                     pypi_0    pypi\n",
      "webencodings              0.5.1           py310haa95532_1  \n",
      "websocket-client          0.58.0          py310haa95532_4  \n",
      "websockets                11.0.3                   pypi_0    pypi\n",
      "werkzeug                  2.2.2           py310haa95532_0  \n",
      "whatthepatch              1.0.2           py310haa95532_0  \n",
      "wheel                     0.38.4          py310haa95532_0  \n",
      "whichcraft                0.6.1                    pypi_0    pypi\n",
      "widgetsnbextension        3.5.2           py310haa95532_0  \n",
      "win_inet_pton             1.1.0           py310haa95532_0  \n",
      "wincertstore              0.2             py310haa95532_2  \n",
      "winpty                    0.4.3                         4  \n",
      "wrapt                     1.14.1          py310h2bbff1b_0  \n",
      "xarray                    2022.11.0       py310haa95532_0  \n",
      "xgboost                   2.0.0                    pypi_0    pypi\n",
      "xlsxwriter                3.1.2                    pypi_0    pypi\n",
      "xlwings                   0.29.1          py310haa95532_0  \n",
      "xz                        5.2.10               h8cc25b3_1  \n",
      "yaml                      0.2.5                he774522_0  \n",
      "yapf                      0.31.0             pyhd3eb1b0_0  \n",
      "yarg                      0.1.9                    pypi_0    pypi\n",
      "yarl                      1.9.2                    pypi_0    pypi\n",
      "yfinance                  0.2.28                   pypi_0    pypi\n",
      "zeromq                    4.3.4                hd77b12b_0  \n",
      "zfp                       0.5.5                hd77b12b_6  \n",
      "zict                      2.1.0           py310haa95532_0  \n",
      "zipp                      3.11.0          py310haa95532_0  \n",
      "zlib                      1.2.13               h8cc25b3_0  \n",
      "zope                      1.0             py310haa95532_1  \n",
      "zope-event                5.0                      pypi_0    pypi\n",
      "zope.interface            5.4.0           py310h2bbff1b_0  \n",
      "zstandard                 0.19.0          py310h2bbff1b_0  \n",
      "zstd                      1.5.2                h19a0ad4_0  \n"
     ]
    }
   ],
   "source": [
    "!conda list\n",
    "# ! 없이도 실행됨"
   ]
  },
  {
   "cell_type": "markdown",
   "metadata": {
    "slideshow": {
     "slide_type": "slide"
    }
   },
   "source": [
    "# 참고\n",
    "## GitHub\n",
    "- 버전 관리 (version control) 프로그램\n",
    "    - 파일을 덮어쓰면서 생긴 history를 확인할 수 있음\n",
    "    - branch를 나눠 작업한 뒤, 작업이 끝나면 master branch로 merge를 할 수 있음\n",
    "\n",
    "\n",
    "- open source 코드들이 존재\n",
    "- git clone 명령어를 통해 저장소를 내려받을 수 있음\n",
    "    - ! git clone https://github.com/crux26/DFMBA2023\n",
    "    - current working directory (%pwd) 내부에 DFMBA2023 폴더가 생김\n",
    "        - 강의 내용에 해당하는 Jupyter Notebook (\\*.ipynb) 파일 및 anaconda 설치방법 파일\n",
    "    - DFMBA2023 폴더 안으로 navigate 후 git pull명령어를 통해 update 가능"
   ]
  },
  {
   "cell_type": "markdown",
   "metadata": {
    "slideshow": {
     "slide_type": "slide"
    }
   },
   "source": [
    "## Useful sites\n",
    "- Stackoverflow: 프로그래밍 Q&A (https://stackoverflow.com/)\n",
    "- Cross-Validated: stat, ML, data analysis, data mining, data visualization 내용 Q&A (https://stats.stackexchange.com/)\n",
    "- Mathematics stack exchange: 수학 내용 Q&A (https://math.stackexchange.com/)\n",
    "- Coursera: 무료 강의 (https://www.coursera.org/)"
   ]
  },
  {
   "cell_type": "markdown",
   "metadata": {
    "slideshow": {
     "slide_type": "slide"
    }
   },
   "source": [
    "## References\n",
    "- Ramalho, Fluent Python (2015)\n",
    "- Lutz, Learning Python, 5th ed. (2013)\n",
    "- Lubanovic, Introducing Python, 2nd ed. (2019)\n",
    "- Hilpisch, Python for Finance (2018)\n",
    "- VanderPlas, Python Data Science Handbook (2016)\n",
    "- McKinney, Python for Data Analysis, 3rd ed. (2022)"
   ]
  }
 ],
 "metadata": {
  "celltoolbar": "Slideshow",
  "kernelspec": {
   "display_name": "Python 3 (ipykernel)",
   "language": "python",
   "name": "python3"
  },
  "language_info": {
   "codemirror_mode": {
    "name": "ipython",
    "version": 3
   },
   "file_extension": ".py",
   "mimetype": "text/x-python",
   "name": "python",
   "nbconvert_exporter": "python",
   "pygments_lexer": "ipython3",
   "version": "3.10.9"
  },
  "toc": {
   "base_numbering": 1,
   "nav_menu": {},
   "number_sections": true,
   "sideBar": true,
   "skip_h1_title": false,
   "title_cell": "Table of Contents",
   "title_sidebar": "Contents",
   "toc_cell": true,
   "toc_position": {
    "height": "47px",
    "left": "76px",
    "top": "90px",
    "width": "165px"
   },
   "toc_section_display": true,
   "toc_window_display": true
  }
 },
 "nbformat": 4,
 "nbformat_minor": 4
}
