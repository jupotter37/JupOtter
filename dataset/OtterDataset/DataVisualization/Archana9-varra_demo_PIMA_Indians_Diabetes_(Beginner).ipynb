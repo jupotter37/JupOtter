{
  "cells": [
    {
      "source": [
        "\n",
        "# IMPORTANT: RUN THIS CELL IN ORDER TO IMPORT YOUR KAGGLE DATA SOURCES\n",
        "# TO THE CORRECT LOCATION (/kaggle/input) IN YOUR NOTEBOOK,\n",
        "# THEN FEEL FREE TO DELETE THIS CELL.\n",
        "# NOTE: THIS NOTEBOOK ENVIRONMENT DIFFERS FROM KAGGLE'S PYTHON\n",
        "# ENVIRONMENT SO THERE MAY BE MISSING LIBRARIES USED BY YOUR\n",
        "# NOTEBOOK.\n",
        "\n",
        "import os\n",
        "import sys\n",
        "from tempfile import NamedTemporaryFile\n",
        "from urllib.request import urlopen\n",
        "from urllib.parse import unquote, urlparse\n",
        "from urllib.error import HTTPError\n",
        "from zipfile import ZipFile\n",
        "import tarfile\n",
        "import shutil\n",
        "\n",
        "CHUNK_SIZE = 40960\n",
        "DATA_SOURCE_MAPPING = ':https%3A%2F%2Fstorage.googleapis.com%2Fkaggle-data-sets%2F228%2F482%2Fbundle%2Farchive.zip%3FX-Goog-Algorithm%3DGOOG4-RSA-SHA256%26X-Goog-Credential%3Dgcp-kaggle-com%2540kaggle-161607.iam.gserviceaccount.com%252F20240719%252Fauto%252Fstorage%252Fgoog4_request%26X-Goog-Date%3D20240719T105826Z%26X-Goog-Expires%3D259200%26X-Goog-SignedHeaders%3Dhost%26X-Goog-Signature%3D223d50925d10c6bfa66d98b149fa46b3c300497ba08c67efcafea6bc8a02ab8bea219062feb0c64e9f7cc0569ec8ed3bbda159f053a2b9ce7faa7e15ca9d39b3434f2651ddf5521bc24c5ada71e06f65215ac612c563d223e7d051a4ca46ba7d9193e826e702f7630be1ad6dd902a28ec25f65e8ad5cec8758a01249c477432697f92b002e2ebd458187dcaf6f931a55dbf81bc9f6b3cd14dc622440ce2fc04f1e29be700d98cb82b07221037acf231e5bd2bd177fbfd26e73bf66822f5e9f7217b822032ab4cc0d1120df4b9a5f60192027d9e7c6f33ba7cda0a24dbcd295708b47f75b75d4797e241cf993da9ba3ffb62488c8e5667769751f94aaac153669'\n",
        "\n",
        "KAGGLE_INPUT_PATH='/kaggle/input'\n",
        "KAGGLE_WORKING_PATH='/kaggle/working'\n",
        "KAGGLE_SYMLINK='kaggle'\n",
        "\n",
        "!umount /kaggle/input/ 2> /dev/null\n",
        "shutil.rmtree('/kaggle/input', ignore_errors=True)\n",
        "os.makedirs(KAGGLE_INPUT_PATH, 0o777, exist_ok=True)\n",
        "os.makedirs(KAGGLE_WORKING_PATH, 0o777, exist_ok=True)\n",
        "\n",
        "try:\n",
        "  os.symlink(KAGGLE_INPUT_PATH, os.path.join(\"..\", 'input'), target_is_directory=True)\n",
        "except FileExistsError:\n",
        "  pass\n",
        "try:\n",
        "  os.symlink(KAGGLE_WORKING_PATH, os.path.join(\"..\", 'working'), target_is_directory=True)\n",
        "except FileExistsError:\n",
        "  pass\n",
        "\n",
        "for data_source_mapping in DATA_SOURCE_MAPPING.split(','):\n",
        "    directory, download_url_encoded = data_source_mapping.split(':')\n",
        "    download_url = unquote(download_url_encoded)\n",
        "    filename = urlparse(download_url).path\n",
        "    destination_path = os.path.join(KAGGLE_INPUT_PATH, directory)\n",
        "    try:\n",
        "        with urlopen(download_url) as fileres, NamedTemporaryFile() as tfile:\n",
        "            total_length = fileres.headers['content-length']\n",
        "            print(f'Downloading {directory}, {total_length} bytes compressed')\n",
        "            dl = 0\n",
        "            data = fileres.read(CHUNK_SIZE)\n",
        "            while len(data) > 0:\n",
        "                dl += len(data)\n",
        "                tfile.write(data)\n",
        "                done = int(50 * dl / int(total_length))\n",
        "                sys.stdout.write(f\"\\r[{'=' * done}{' ' * (50-done)}] {dl} bytes downloaded\")\n",
        "                sys.stdout.flush()\n",
        "                data = fileres.read(CHUNK_SIZE)\n",
        "            if filename.endswith('.zip'):\n",
        "              with ZipFile(tfile) as zfile:\n",
        "                zfile.extractall(destination_path)\n",
        "            else:\n",
        "              with tarfile.open(tfile.name) as tarfile:\n",
        "                tarfile.extractall(destination_path)\n",
        "            print(f'\\nDownloaded and uncompressed: {directory}')\n",
        "    except HTTPError as e:\n",
        "        print(f'Failed to load (likely expired) {download_url} to path {destination_path}')\n",
        "        continue\n",
        "    except OSError as e:\n",
        "        print(f'Failed to load {download_url} to path {destination_path}')\n",
        "        continue\n",
        "\n",
        "print('Data source import complete.')\n"
      ],
      "metadata": {
        "id": "NijQNaaEpLOl"
      },
      "cell_type": "code",
      "outputs": [],
      "execution_count": null
    },
    {
      "metadata": {
        "_uuid": "8f2839f25d086af736a60e9eeb907d3b93b6e0e5",
        "_cell_guid": "b1076dfc-b9ad-4769-8c92-a6c4dae69d19",
        "trusted": true,
        "id": "Oj_PGXpRpLOo"
      },
      "cell_type": "markdown",
      "source": [
        "If You find this notebook useful, **PLEASE UPVOTE **\n",
        "\n",
        "\n",
        "# PIMA Indians Diabetes\n",
        "\n",
        "\n",
        "## Background\n",
        "\n",
        "**Diabetes**, is a group of metabolic disorders in which there are high blood sugar levels over a prolonged period.  Symptoms of high blood sugar include frequent urination, increased thirst, and increased hunger.  If left untreated, diabetes can cause many complications.  Acute complications can include diabetic ketoacidosis, hyperosmolar hyperglycemic state, or death.  Serious long-term complications include cardiovascular disease, stroke, chronic kidney disease, foot ulcers, and damage to the eyes.\n",
        "\n",
        "This **dataset** is originally from the National Institute of Diabetes and Digestive and Kidney Diseases. The objective of the dataset is to diagnostically predict whether or not a patient has diabetes, based on certain diagnostic measurements included in the dataset. Several constraints were placed on the selection of these instances from a larger database. In particular, all patients here are females at least 21 years old of Pima Indian heritage.\n",
        "\n",
        "## Objective\n",
        "\n",
        "We will try to build a machine learning model to accurately predict whether or not the patients in the dataset have diabetes or not?\n",
        "\n",
        "## Data\n",
        "\n",
        "\n",
        "The datasets consists of several medical predictor variables and one target variable, Outcome. Predictor variables includes the number of pregnancies the patient has had, their BMI, insulin level, age, and so on.\n",
        "\n",
        "* **Pregnancies**: Number of times pregnant\n",
        "* **Glucose**: Plasma glucose concentration a 2 hours in an oral glucose tolerance test\n",
        "* **BloodPressure**: Diastolic blood pressure (mm Hg)\n",
        "* **SkinThickness**: Triceps skin fold thickness (mm)\n",
        "* **Insulin**: 2-Hour serum insulin (mu U/ml)\n",
        "* **BMI**: Body mass index (weight in kg/(height in m)^2)\n",
        "* **DiabetesPedigreeFunction**: Diabetes pedigree function\n",
        "* **Age**: Age (years)\n",
        "* **Outcome**: Class variable (0 or 1)\n",
        "\n",
        "\n"
      ]
    },
    {
      "metadata": {
        "_cell_guid": "79c7e3d0-c299-4dcb-8224-4455121ee9b0",
        "_uuid": "d629ff2d2480ee46fbb7e2d37f6b5fab8052498a",
        "trusted": true,
        "_kg_hide-input": true,
        "id": "LwkSzyNZpLOp"
      },
      "cell_type": "code",
      "source": [
        "import numpy as np\n",
        "import pandas as pd\n",
        "import matplotlib.pyplot as plt\n",
        "import seaborn as sns\n",
        "from plotly import tools\n",
        "import plotly.plotly as py\n",
        "from plotly.offline import init_notebook_mode, iplot\n",
        "init_notebook_mode(connected=True)\n",
        "import plotly.graph_objs as go\n",
        "import plotly.figure_factory as ff\n",
        "from IPython.display import HTML, Image\n",
        "\n",
        "df = pd.read_csv('../input/diabetes.csv')"
      ],
      "execution_count": null,
      "outputs": []
    },
    {
      "metadata": {
        "_kg_hide-input": true,
        "_kg_hide-output": true,
        "trusted": true,
        "_uuid": "783630b95ea41343667688f9da82429238d011fb",
        "id": "wHr-jyRbpLOq"
      },
      "cell_type": "code",
      "source": [
        "df.head(10)"
      ],
      "execution_count": null,
      "outputs": []
    },
    {
      "metadata": {
        "_kg_hide-input": true,
        "_kg_hide-output": true,
        "trusted": true,
        "_uuid": "2582aa3e44882db9418bcc08fe20731b48eff65f",
        "id": "af_mzZNCpLOq"
      },
      "cell_type": "code",
      "source": [
        "df.describe()"
      ],
      "execution_count": null,
      "outputs": []
    },
    {
      "metadata": {
        "_uuid": "cabfbcde34bfecf86051967a6a9f0ca36d722a80",
        "id": "bKljeJONpLOq"
      },
      "cell_type": "markdown",
      "source": [
        "# Data Visualization"
      ]
    },
    {
      "metadata": {
        "_kg_hide-input": true,
        "trusted": true,
        "_uuid": "a17690de8dbd072f6309230c2991864ffb37a309",
        "id": "FzhVB-BTpLOr"
      },
      "cell_type": "code",
      "source": [
        "f, ax = plt.subplots(1, 2, figsize = (15, 7))\n",
        "f.suptitle(\"Diabetes?\", fontsize = 18.)\n",
        "_ = df.Outcome.value_counts().plot.bar(ax = ax[0], rot = 0, color = (sns.color_palette()[0], sns.color_palette()[2])).set(xticklabels = [\"No\", \"Yes\"])\n",
        "_ = df.Outcome.value_counts().plot.pie(labels = (\"No\", \"Yes\"), autopct = \"%.2f%%\", label = \"\", fontsize = 13., ax = ax[1],\\\n",
        "colors = (sns.color_palette()[0], sns.color_palette()[2]), wedgeprops = {\"linewidth\": 1.5, \"edgecolor\": \"#F7F7F7\"}), ax[1].texts[1].set_color(\"#F7F7F7\"), ax[1].texts[3].set_color(\"#F7F7F7\")"
      ],
      "execution_count": null,
      "outputs": []
    },
    {
      "metadata": {
        "_uuid": "b48ee448c4babc59f639bc7e8730f7a744d482fb",
        "id": "2q9xXQA5pLOr"
      },
      "cell_type": "markdown",
      "source": [
        "## Dist Plot\n",
        "\n",
        "Dist Plot helps us to flexibly plot a univariate distribution of observations."
      ]
    },
    {
      "metadata": {
        "_kg_hide-input": true,
        "trusted": true,
        "_uuid": "1e86f1c739e6999f1fc249d6f7c86512f5cbb573",
        "id": "8hWov1ynpLOr"
      },
      "cell_type": "code",
      "source": [
        "fig, ax = plt.subplots(4,2, figsize=(16,16))\n",
        "sns.distplot(df.Age, bins = 20, ax=ax[0,0])\n",
        "sns.distplot(df.Pregnancies, bins = 20, ax=ax[0,1])\n",
        "sns.distplot(df.Glucose, bins = 20, ax=ax[1,0])\n",
        "sns.distplot(df.BloodPressure, bins = 20, ax=ax[1,1])\n",
        "sns.distplot(df.SkinThickness, bins = 20, ax=ax[2,0])\n",
        "sns.distplot(df.Insulin, bins = 20, ax=ax[2,1])\n",
        "sns.distplot(df.DiabetesPedigreeFunction, bins = 20, ax=ax[3,0])\n",
        "sns.distplot(df.BMI, bins = 20, ax=ax[3,1])"
      ],
      "execution_count": null,
      "outputs": []
    },
    {
      "metadata": {
        "_kg_hide-input": true,
        "trusted": true,
        "_uuid": "2c1111c3ac0bc4358bf13f17a895fcdc8ac5f2e8",
        "id": "eZZdazg1pLOr"
      },
      "cell_type": "code",
      "source": [
        "sns.regplot(x='SkinThickness', y= 'Insulin', data=df)"
      ],
      "execution_count": null,
      "outputs": []
    },
    {
      "metadata": {
        "_uuid": "84a86dd77cbba403295acd82480bc63bec6d4d09",
        "id": "B_bmeCi8pLOs"
      },
      "cell_type": "markdown",
      "source": [
        "## Pair Plots\n",
        "\n",
        "Pair plot is used to understand the best set of features to explain a relationship between two variables or to form the most separated clusters. It also helps to form some simple classification models by drawing some simple lines or make linear separation in our dataset."
      ]
    },
    {
      "metadata": {
        "_kg_hide-input": true,
        "trusted": true,
        "_uuid": "87a7e6ab882071ac1ce96587dad71873135dbeeb",
        "id": "VPUEJXy2pLOs"
      },
      "cell_type": "code",
      "source": [
        "sns.pairplot(data=df,hue='Outcome')"
      ],
      "execution_count": null,
      "outputs": []
    },
    {
      "metadata": {
        "_uuid": "5b9db00b50e4b4df6b640cf253feabd656379cf3",
        "id": "Y6wY0-SbpLOs"
      },
      "cell_type": "markdown",
      "source": [
        "\n"
      ]
    },
    {
      "metadata": {
        "_uuid": "ecce922bd78fd5813625b57d02ef4dcba4304460",
        "id": "FNk8SxGSpLOs"
      },
      "cell_type": "markdown",
      "source": [
        "## Violin Plots\n",
        "\n",
        "\n",
        "\n",
        "A violin plot is a method of plotting numeric data. It is similar to box plot with a rotated kernel density plot on each side. Violin plots are similar to box plots, except that they also show the probability density of the data at different values (in the simplest case this could be a histogram).  \n",
        "\n",
        "A violin plot is more informative than a plain box plot. In fact while a box plot only shows summary statistics such as mean/median and interquartile ranges, the violin plot shows the full distribution of the data. The difference is particularly useful when the data distribution is multimodal (more than one peak). In this case a violin plot clearly shows the presence of different peaks, their position and relative amplitude. This information could not be represented with a simple box plot which only reports summary statistics. The inner part of a violin plot usually shows the mean (or median) and the interquartile range.\n"
      ]
    },
    {
      "metadata": {
        "trusted": true,
        "_uuid": "1e891379ffd6ba44372f4997594e10de2d0ab7a4",
        "_kg_hide-input": true,
        "id": "xIPjFOM5pLOs"
      },
      "cell_type": "code",
      "source": [
        "fig,ax = plt.subplots(nrows=4, ncols=2, figsize=(18,18))\n",
        "plt.suptitle('Violin Plots',fontsize=24)\n",
        "sns.violinplot(x=\"Pregnancies\", data=df,ax=ax[0,0],palette='Set3')\n",
        "sns.violinplot(x=\"Glucose\", data=df,ax=ax[0,1],palette='Set3')\n",
        "sns.violinplot (x ='BloodPressure', data=df, ax=ax[1,0], palette='Set3')\n",
        "sns.violinplot(x='SkinThickness', data=df, ax=ax[1,1],palette='Set3')\n",
        "sns.violinplot(x='Insulin', data=df, ax=ax[2,0], palette='Set3')\n",
        "sns.violinplot(x='BMI', data=df, ax=ax[2,1],palette='Set3')\n",
        "sns.violinplot(x='DiabetesPedigreeFunction', data=df, ax=ax[3,0],palette='Set3')\n",
        "sns.violinplot(x='Age', data=df, ax=ax[3,1],palette='Set3')\n",
        "plt.show()"
      ],
      "execution_count": null,
      "outputs": []
    },
    {
      "metadata": {
        "_uuid": "fa5d3d995f82f6eec7726e79917ce13c04d59ace",
        "id": "4ufOvO6opLOs"
      },
      "cell_type": "markdown",
      "source": [
        "\n",
        "# # Correlation between features"
      ]
    },
    {
      "metadata": {
        "_uuid": "35e990e5d589750cd4c4cee919cae439f41e5971",
        "id": "PJSn0DvdpLOs"
      },
      "cell_type": "markdown",
      "source": [
        "Variables within a dataset can be related for lots of reasons. It can be useful in data analysis and modeling to better understand the relationships between variables. The statistical relationship between two variables is referred to as their correlation.\n",
        "\n",
        "A correlation could be positive, meaning both variables move in the same direction, or negative, meaning that when one variable’s value increases, the other variables’ values decrease. Correlation can also be neural or zero, meaning that the variables are unrelated."
      ]
    },
    {
      "metadata": {
        "_kg_hide-input": true,
        "trusted": true,
        "_uuid": "db053aba9ab2b46d2560e620094f2af62c53aa82",
        "id": "OlLklrXMpLOt"
      },
      "cell_type": "code",
      "source": [
        "corr=df.corr()\n",
        "\n",
        "sns.set(font_scale=1.15)\n",
        "plt.figure(figsize=(14, 10))\n",
        "\n",
        "sns.heatmap(corr, vmax=.8, linewidths=0.01,\n",
        "            square=True,annot=True,cmap='YlGnBu',linecolor=\"black\")\n",
        "plt.title('Correlation between features');"
      ],
      "execution_count": null,
      "outputs": []
    },
    {
      "metadata": {
        "_uuid": "e1486ade91e5240c745d80380c1cfdda167de63e",
        "id": "NGLG8VoMpLOt"
      },
      "cell_type": "markdown",
      "source": [
        "# Predictive Modeling"
      ]
    },
    {
      "metadata": {
        "_kg_hide-input": true,
        "trusted": true,
        "_uuid": "c71457c121d14fae78656f6b2c481d2e3ade987c",
        "id": "S9NLK5hHpLOt"
      },
      "cell_type": "code",
      "source": [
        "from sklearn.metrics import accuracy_score\n",
        "from sklearn.metrics import classification_report\n",
        "from sklearn.metrics import confusion_matrix\n",
        "from sklearn.model_selection import train_test_split\n",
        "from sklearn.linear_model import LogisticRegression\n",
        "from sklearn.tree import DecisionTreeClassifier\n",
        "from sklearn.ensemble import GradientBoostingClassifier\n",
        "\n",
        "X = df.iloc[:, :-1]\n",
        "y = df.iloc[:, -1]\n",
        "\n",
        "\n",
        "X_train, X_test, y_train, y_test = train_test_split(X, y, test_size=0.25, random_state=0)"
      ],
      "execution_count": null,
      "outputs": []
    },
    {
      "metadata": {
        "_uuid": "8d5c3581de54e8bdbba2a87704201b162746eacd",
        "id": "UyQvS7GJpLOt"
      },
      "cell_type": "markdown",
      "source": [
        "## Logistic Regression\n",
        "\n",
        "Logistic regression is the appropriate regression analysis to conduct when the dependent variable is binary.  Like all regression analyses, the logistic regression is a predictive analysis.  Logistic regression is used to describe data and to explain the relationship between one dependent binary variable and one or more nominal, ordinal, interval or ratio-level independent variables."
      ]
    },
    {
      "metadata": {
        "trusted": true,
        "_uuid": "c0123a3d5c497ba5cbfabfd4f6c4146154617aa0",
        "id": "QsTw0AOnpLOt"
      },
      "cell_type": "code",
      "source": [
        "#Model\n",
        "LR = LogisticRegression()\n",
        "\n",
        "#fiting the model\n",
        "LR.fit(X_train, y_train)\n",
        "\n",
        "#prediction\n",
        "y_pred = LR.predict(X_test)\n",
        "\n",
        "#Accuracy\n",
        "print(\"Accuracy \", LR.score(X_test, y_test)*100)\n",
        "\n",
        "#Plot the confusion matrix\n",
        "sns.set(font_scale=1.5)\n",
        "cm = confusion_matrix(y_pred, y_test)\n",
        "sns.heatmap(cm, annot=True, fmt='g')\n",
        "plt.show()"
      ],
      "execution_count": null,
      "outputs": []
    },
    {
      "metadata": {
        "_uuid": "1123a98a2e473891d91e4a625fbf6cdc8fa98fab",
        "id": "HyPbSpdspLOt"
      },
      "cell_type": "markdown",
      "source": [
        "## Decision Tree\n",
        "\n",
        "Decision tree builds regression or classification models in the form of a tree structure. It breaks down a dataset into smaller and smaller subsets while at the same time an associated decision tree is incrementally developed. The final result is a tree with decision nodes and leaf nodes. A decision node (e.g., Outlook) has two or more branches (e.g., Sunny, Overcast and Rainy), each representing values for the attribute tested. Leaf node (e.g., Hours Played) represents a decision on the numerical target. The topmost decision node in a tree which corresponds to the best predictor called root node. Decision trees can handle both categorical and numerical data."
      ]
    },
    {
      "metadata": {
        "trusted": true,
        "_uuid": "cb5b95eab7fdabdc4128350275d68854a797c0fa",
        "id": "f-tdrMmrpLOt"
      },
      "cell_type": "code",
      "source": [
        "#Model\n",
        "DT = DecisionTreeClassifier()\n",
        "\n",
        "#fiting the model\n",
        "DT.fit(X_train, y_train)\n",
        "\n",
        "#prediction\n",
        "y_pred = DT.predict(X_test)\n",
        "\n",
        "#Accuracy\n",
        "print(\"Accuracy \", DT.score(X_test, y_test)*100)\n",
        "\n",
        "#Plot the confusion matrix\n",
        "sns.set(font_scale=1.5)\n",
        "cm = confusion_matrix(y_pred, y_test)\n",
        "sns.heatmap(cm, annot=True, fmt='g')\n",
        "plt.show()"
      ],
      "execution_count": null,
      "outputs": []
    },
    {
      "metadata": {
        "_uuid": "f822633be9db86d09a4a27bd263924620d0abace",
        "id": "zwKinWm2pLOu"
      },
      "cell_type": "markdown",
      "source": [
        "## Gradient Boosting\n",
        "\n",
        "\n",
        "\n",
        "\n",
        "Gradient boosting is a machine learning technique for regression and classification problems, which produces a prediction model in the form of an ensemble of weak prediction models, typically decision trees. It builds the model in a stage-wise fashion like other boosting methods do, and it generalizes them by allowing optimization of an arbitrary differentiable loss function."
      ]
    },
    {
      "metadata": {
        "trusted": true,
        "_uuid": "4fb65af65dd1eafb1a38398fa7ec2315ac076c2e",
        "id": "d9j6gB_9pLOu"
      },
      "cell_type": "code",
      "source": [
        "#Model\n",
        "model = GradientBoostingClassifier()\n",
        "\n",
        "#fiting the model\n",
        "model.fit(X_train, y_train)\n",
        "\n",
        "#prediction\n",
        "y_pred = model.predict(X_test)\n",
        "\n",
        "#Accuracy\n",
        "print(\"Accuracy \", model.score(X_test, y_test)*100)\n",
        "\n",
        "#Plot the confusion matrix\n",
        "sns.set(font_scale=1.5)\n",
        "cm = confusion_matrix(y_pred, y_test)\n",
        "sns.heatmap(cm, annot=True, fmt='g')\n",
        "plt.show()"
      ],
      "execution_count": null,
      "outputs": []
    },
    {
      "metadata": {
        "trusted": true,
        "_uuid": "4f6bfee417ff563f24fbc6fbd18e3d613fd314a4",
        "id": "bH1kVcXlpLOu"
      },
      "cell_type": "markdown",
      "source": []
    },
    {
      "metadata": {
        "trusted": true,
        "_uuid": "6e66952bd39732263cd8e133ba11792e6d2594ee",
        "id": "JRGLhLijpLOu"
      },
      "cell_type": "code",
      "source": [],
      "execution_count": null,
      "outputs": []
    }
  ],
  "metadata": {
    "kernelspec": {
      "display_name": "Python 3",
      "language": "python",
      "name": "python3"
    },
    "language_info": {
      "name": "python",
      "version": "3.6.6",
      "mimetype": "text/x-python",
      "codemirror_mode": {
        "name": "ipython",
        "version": 3
      },
      "pygments_lexer": "ipython3",
      "nbconvert_exporter": "python",
      "file_extension": ".py"
    },
    "colab": {
      "name": "PIMA Indians Diabetes (Beginner)",
      "provenance": []
    }
  },
  "nbformat": 4,
  "nbformat_minor": 0
}