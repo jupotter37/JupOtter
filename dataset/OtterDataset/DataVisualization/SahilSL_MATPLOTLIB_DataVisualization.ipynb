{
 "cells": [
  {
   "cell_type": "code",
   "execution_count": 3,
   "id": "8819f46d-f47b-447d-8713-888c8ce99a54",
   "metadata": {},
   "outputs": [
    {
     "data": {
      "text/plain": [
       "'\\nWhat is Data Visualization?\\nDV is a quick, easy way to convey concepts in a universal manner.\\nDV is the graphical representation of information and data.\\nVisual elements like charts, graphs and maps.\\nDV provides an accessible way to see and understand trends, outliers and patterns in data\\n'"
      ]
     },
     "execution_count": 3,
     "metadata": {},
     "output_type": "execute_result"
    }
   ],
   "source": [
    "'''\n",
    "What is Data Visualization?\n",
    "DV is a quick, easy way to convey concepts universally.\n",
    "DV is the graphical representation of information and data.\n",
    "Visual elements like charts, graphs and maps.\n",
    "DV provides an accessible way to see and understand trends, outliers and patterns in data\n",
    "'''"
   ]
  },
  {
   "cell_type": "code",
   "execution_count": 5,
   "id": "6bea919c-7e58-44a7-8808-25105b7a88a0",
   "metadata": {},
   "outputs": [
    {
     "data": {
      "text/plain": [
       "'\\nType of Data Visualization?\\nMatplotlib, Pandas Visualization, Seaborn, ggplot, plotly\\n'"
      ]
     },
     "execution_count": 5,
     "metadata": {},
     "output_type": "execute_result"
    }
   ],
   "source": [
    "'''\n",
    "Type of Data Visualization?\n",
    "Matplotlib, Pandas Visualization, Seaborn, ggplot, plotly\n",
    "'''"
   ]
  },
  {
   "cell_type": "code",
   "execution_count": 5,
   "id": "09b4b87f-e640-463f-a773-9327a2db42df",
   "metadata": {},
   "outputs": [
    {
     "data": {
      "text/plain": [
       "'\\nType of Data Visualization?\\nMatplotlib, Pandas Visualization, Seaborn, ggplot, plotly\\n'"
      ]
     },
     "execution_count": 5,
     "metadata": {},
     "output_type": "execute_result"
    }
   ],
   "source": [
    "'''\n",
    "Matplotlib is a plotting library in Python, and its numerical mathematics extension is NumPy.\n",
    "It was introduced by John Hunter in year 2002.\n",
    "'''"
   ]
  },
  {
   "cell_type": "code",
   "execution_count": 5,
   "id": "e19be649-b015-4b19-8a4b-8e0a4d4df947",
   "metadata": {},
   "outputs": [
    {
     "data": {
      "text/plain": [
       "'\\nType of Data Visualization?\\nMatplotlib, Pandas Visualization, Seaborn, ggplot, plotly\\n'"
      ]
     },
     "execution_count": 5,
     "metadata": {},
     "output_type": "execute_result"
    }
   ],
   "source": [
    "'''\n",
    "Matplotlib Graphs ---->\n",
    "Linear Plot\n",
    "Scatter Plot\n",
    "Bar Plot\n",
    "Stem Plot\n",
    "Step Plot\n",
    "Hist Plot\n",
    "Box Plot\n",
    "Pie Plot\n",
    "Fill_Between Plot\n",
    "'''"
   ]
  },
  {
   "cell_type": "code",
   "execution_count": null,
   "id": "55751527-21c7-4f4f-b41c-b2e9fc83cbed",
   "metadata": {},
   "outputs": [],
   "source": [
    "To install matplotlib: pip install matplotlib"
   ]
  },
  {
   "cell_type": "code",
   "execution_count": null,
   "id": "f77b50f2-ee02-416d-8a22-c6743c191b21",
   "metadata": {},
   "outputs": [],
   "source": [
    "To import matplotlib: import matplotlib.pyplot as plt"
   ]
  }
 ],
 "metadata": {
  "kernelspec": {
   "display_name": "Python 3 (ipykernel)",
   "language": "python",
   "name": "python3"
  },
  "language_info": {
   "codemirror_mode": {
    "name": "ipython",
    "version": 3
   },
   "file_extension": ".py",
   "mimetype": "text/x-python",
   "name": "python",
   "nbconvert_exporter": "python",
   "pygments_lexer": "ipython3",
   "version": "3.12.4"
  }
 },
 "nbformat": 4,
 "nbformat_minor": 5
}
