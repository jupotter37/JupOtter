{
 "cells": [
  {
   "cell_type": "markdown",
   "metadata": {
    "colab_type": "text",
    "id": "1FPA21vdlW0r"
   },
   "source": [
    "# Data Visualization"
   ]
  },
  {
   "cell_type": "markdown",
   "metadata": {},
   "source": [
    "#### netid: FILL IN HERE "
   ]
  },
  {
   "cell_type": "markdown",
   "metadata": {
    "colab_type": "text",
    "id": "qk5P7_kulW0t"
   },
   "source": [
    "Now that we have a basic understanding of Python and data manipulation, it is time to learn how to represent data visually!\n",
    "<br>\n",
    "<br>\n",
    "This lecture is comprised of the following components:\n",
    "<br>\n",
    "<ul>\n",
    "<li>Importance of Data Visualization\n",
    "<li>Introduction to `matplotlib` and `seaborn`\n",
    "<li>Basic visualization techniques\n",
    "<li>Visualization Tips and Tricks\n",
    "<li>Advanced visualization techniques\n",
    "</ul>\n",
    "\n",
    "This assignment is comprised of **THREE** problems labeled \"Examples\" and **ONE** extra credit problem named \"Example 4.\""
   ]
  },
  {
   "cell_type": "markdown",
   "metadata": {
    "colab_type": "text",
    "id": "80Goh4PRlW0u"
   },
   "source": [
    "_____"
   ]
  },
  {
   "cell_type": "markdown",
   "metadata": {
    "colab_type": "text",
    "id": "gSn7nVRslW0w"
   },
   "source": [
    "## Importance of Data Visualization"
   ]
  },
  {
   "cell_type": "markdown",
   "metadata": {
    "colab_type": "text",
    "collapsed": true,
    "id": "-NbI3Pl4lW0y"
   },
   "source": [
    "As has been widely established, it is much easier for the human brain to comprehend and process information when it is in the form of graphs, charts, etc. than when it is presented in esoteric spreadsheets and verbose reports. Therefore, when working with large amounts of data, it is crucial to step back and make sense of the data - and data visualization helps do just that!\n",
    "\n",
    "More specifically, Data Visualization is important for the following reasons:\n",
    "<ul>\n",
    "<li><u>Informative</u>: A lot can be told in just a small space!\n",
    "<li><u>Appealing</u>: A visualization is much more visually appealing than loads of data\n",
    "<li><u>Efficient</u>: It helps in universal communication!\n",
    "<li><u>Predictive</u>: It is much easier to observe patterns and predict certain trends via a visualization\n",
    "</ul>\n",
    "\n",
    "Note that there are typically two types of visualizations: <b>distributional</b> (using histograms or box plots to assess the distribution of a variable) and <b>correlational</b> (using line plots or scatter plots to understand the relationship between two variables)."
   ]
  },
  {
   "cell_type": "markdown",
   "metadata": {
    "colab_type": "text",
    "id": "A0ZeNcJIlW0z"
   },
   "source": [
    "_____"
   ]
  },
  {
   "cell_type": "markdown",
   "metadata": {
    "colab_type": "text",
    "id": "3RacC6QLlW00"
   },
   "source": [
    "## Introduction to matplotlib & seaborn"
   ]
  },
  {
   "cell_type": "markdown",
   "metadata": {
    "colab_type": "text",
    "id": "dB8rBUC5lW01"
   },
   "source": [
    "<a href=\"https://matplotlib.org/\">`matplotlib`</a> is one of the most popular plotting libraries for Python! For those of you who have experience with MATLAB, matplotlib has a similar overall design as MATLAB's graphical plotting. \n",
    "<br>\n",
    "While we will cover matplotlib in further detail below, <a href=\"https://s3.amazonaws.com/assets.datacamp.com/blog_assets/Python_Matplotlib_Cheat_Sheet.pdf\">'The matplotlib cheatsheet'</a> is a good resource to keep handy!"
   ]
  },
  {
   "cell_type": "code",
   "execution_count": 1,
   "metadata": {
    "colab": {},
    "colab_type": "code",
    "id": "FOxmmL1BlW02"
   },
   "outputs": [],
   "source": [
    "import matplotlib.pyplot as plt\n",
    "%matplotlib inline"
   ]
  },
  {
   "cell_type": "markdown",
   "metadata": {
    "colab_type": "text",
    "id": "26b9W74SlW05"
   },
   "source": [
    "<a href=\"https://seaborn.pydata.org/introduction.html#introduction\">`seaborn`</a> is a Python library, based on top of `matplotlib`. In essence, `seaborn` is complimentary to Matplotlib for the purposes of statistical graphing."
   ]
  },
  {
   "cell_type": "code",
   "execution_count": 2,
   "metadata": {
    "colab": {},
    "colab_type": "code",
    "id": "Om9tnW7vlW06"
   },
   "outputs": [],
   "source": [
    "import seaborn as sns"
   ]
  },
  {
   "cell_type": "markdown",
   "metadata": {
    "colab_type": "text",
    "id": "dwJnzHfElW09"
   },
   "source": [
    "____"
   ]
  },
  {
   "cell_type": "markdown",
   "metadata": {
    "colab_type": "text",
    "id": "rghEm4yDlW09"
   },
   "source": [
    "## Basic Visualization Techniques"
   ]
  },
  {
   "cell_type": "markdown",
   "metadata": {
    "colab_type": "text",
    "id": "kwaYVuDrlW0-"
   },
   "source": [
    "For the following demonstrations, we'll use the famous built-in '<b>iris</b>' dataset!"
   ]
  },
  {
   "cell_type": "code",
   "execution_count": 3,
   "metadata": {
    "colab": {},
    "colab_type": "code",
    "id": "BxP-0vpGlW0-"
   },
   "outputs": [],
   "source": [
    "import pandas as pd\n",
    "import numpy as np\n",
    "from sklearn import datasets\n",
    "iris = datasets.load_iris()\n",
    "# Extracting septal and petal widths and lengths\n",
    "X = pd.DataFrame(iris.data,columns=['Sepal Length','Sepal Width','Petal Length','Petal Width']) #Name columns according to sklearn API\n",
    "Y = pd.DataFrame(iris.target)"
   ]
  },
  {
   "cell_type": "markdown",
   "metadata": {
    "colab_type": "text",
    "id": "4qO6TgFJlW1A"
   },
   "source": [
    "### Bar Graph"
   ]
  },
  {
   "cell_type": "markdown",
   "metadata": {
    "colab_type": "text",
    "id": "03jEGByVlW1A"
   },
   "source": [
    "A bar graph is one of the most common techniques and is widely used to convey information in an easy to understand manner! \n",
    "<br><br>\n",
    "It is used to display data that has been classified into nominal or ordinal categories. It represents the respective frequencies/magnitudes for these categories in a comparitve manner. Typically, one axis has numeric values (which may be the frequencies in most cases) and the other axis has the categories.\n",
    "<br><br>\n",
    "The bar graph for the dataset has been plotted below:"
   ]
  },
  {
   "cell_type": "code",
   "execution_count": 4,
   "metadata": {
    "colab": {},
    "colab_type": "code",
    "id": "-AODyiYHlW1B"
   },
   "outputs": [
    {
     "data": {
      "image/png": "[encoded data removed]",
      "text/plain": [
       "<Figure size 432x288 with 1 Axes>"
      ]
     },
     "metadata": {},
     "output_type": "display_data"
    }
   ],
   "source": [
    "# Dividing the data into categories (Note how .mean() is being used here!)\n",
    "bar1 = (X['Sepal Length']).mean()\n",
    "bar2 = (X['Sepal Width']).mean()\n",
    "\n",
    "# Adding the two bars and assigning attributes\n",
    "plt.bar([0,1],[bar1,bar2],align='center')\n",
    "\n",
    "# Add a suitable title\n",
    "plt.title('Average of Sepal Features Bar Graph')\n",
    "\n",
    "# Adding suitable labels to the axes\n",
    "plt.xticks([0,1],['Sepal Length','Sepal Width'])\n",
    "plt.ylabel('Average (cm)')\n",
    "\n",
    "# Render the plot\n",
    "# plt.savefig('bargraph.png',bbox_inches='tight')\n",
    "plt.show()"
   ]
  },
  {
   "cell_type": "markdown",
   "metadata": {
    "colab_type": "text",
    "id": "a3TiOUD1lW1D"
   },
   "source": [
    "Great! We have a bar graph that compares the average length and width of sepals in the given dataset.\n",
    "<br><br>\n",
    "<b>Note: </b>Always try to understand why we use the attributes that we do. In the case above, we used align as an attribute. Try changing its value from 'center' to 'edge'; 'edge', as you may have already observed, aligns the left edges of the bars with the x positions. Similarly, try to experiment with some other attributes!"
   ]
  },
  {
   "cell_type": "markdown",
   "metadata": {
    "colab_type": "text",
    "id": "6Uln2tFolW1D"
   },
   "source": [
    "### Histogram"
   ]
  },
  {
   "cell_type": "markdown",
   "metadata": {
    "colab_type": "text",
    "id": "S9uYvJ0zlW1D"
   },
   "source": [
    "A histogram is very similar to a bar graph - but it represents a <b>continuous</b> variable on its x-axis rather than discrete units like a bar graph. Because it is continuous, we need to specify how many bars we need in total, and in order to do so, we need to set the width of each bar, called <b>bin size</b>.\n",
    "<br><br>\n",
    "While we will use a random number (i.e. 150) as our bin size for ease of demonstration, choosing the correct bin size can be very important at times. It also has some <a href=\"http://www.statisticshowto.com/choose-bin-sizes-statistics/\">interesting statistical reasoning</a> behind it!"
   ]
  },
  {
   "cell_type": "markdown",
   "metadata": {
    "colab_type": "text",
    "id": "S3jJXw70lW1B"
   },
   "source": [
    "### Example 1:\n",
    "Enter the code to make a histogram with a title and axis labels, and a bin size of 150. The X axis would be have the 'Sepal Width' column, and the Y axis would have the frequency."
   ]
  },
  {
   "cell_type": "code",
   "execution_count": 5,
   "metadata": {
    "colab": {},
    "colab_type": "code",
    "id": "aCcNaoGulW1E"
   },
   "outputs": [],
   "source": [
    "# Use .hist() and add necessary arguments in the parenthesis - this should be only 1 line!\n",
    "# Refer to https://matplotlib.org/3.1.0/api/_as_gen/matplotlib.pyplot.hist.html\n",
    "\n",
    "# Add a title\n",
    "\n",
    "# Add x and y labels\n",
    "\n",
    "# Show the plot!"
   ]
  },
  {
   "cell_type": "markdown",
   "metadata": {
    "colab_type": "text",
    "id": "hv3dzhKTlW1F"
   },
   "source": [
    "### Density Plot"
   ]
  },
  {
   "cell_type": "markdown",
   "metadata": {
    "colab_type": "text",
    "id": "cr9npkqQlW1F"
   },
   "source": [
    "While histograms are popular, density plots are also favored for several reasons\n",
    "<ul>\n",
    "<li>Histogram shape varies wildly depending on the bin size\n",
    "<li>Density plots smooth out outliers and local fluctuations\n",
    "</ul>\n",
    "The second point can be a weakness however, since local fluctuations can be very important. Let's look at an example (we'll be using `seaborn` now!):"
   ]
  },
  {
   "cell_type": "code",
   "execution_count": 6,
   "metadata": {
    "colab": {},
    "colab_type": "code",
    "id": "7tg0AFWLlW1F"
   },
   "outputs": [
    {
     "name": "stderr",
     "output_type": "stream",
     "text": [
      "C:\\Users\\jiang\\Anaconda3\\lib\\site-packages\\scipy\\stats\\stats.py:1713: FutureWarning: Using a non-tuple sequence for multidimensional indexing is deprecated; use `arr[tuple(seq)]` instead of `arr[seq]`. In the future this will be interpreted as an array index, `arr[np.array(seq)]`, which will result either in an error or a different result.\n",
      "  return np.add.reduce(sorted[indexer] * weights, axis=axis) / sumval\n"
     ]
    },
    {
     "data": {
      "image/png": "[encoded data removed]",
      "text/plain": [
       "<Figure size 432x288 with 1 Axes>"
      ]
     },
     "metadata": {},
     "output_type": "display_data"
    }
   ],
   "source": [
    "density = sns.kdeplot(X['Sepal Width'])\n",
    "\n",
    "plt.title ('Sepal Width Density Plot')\n",
    "plt.xlabel('Sepal Width Value')\n",
    "plt.ylabel('Density')\n",
    "\n",
    "plt.show()"
   ]
  },
  {
   "cell_type": "markdown",
   "metadata": {
    "colab_type": "text",
    "id": "jdaxY8wplW1H"
   },
   "source": [
    "The smoothing parameter for the density plot can be adjusted by changing something called the <b>smoothing bandwidth</b> in order to adjust for sensitivity to fluctuations."
   ]
  },
  {
   "cell_type": "code",
   "execution_count": 7,
   "metadata": {
    "colab": {},
    "colab_type": "code",
    "id": "9WdD9OVClW1H"
   },
   "outputs": [
    {
     "data": {
      "image/png": "[encoded data removed]",
      "text/plain": [
       "<Figure size 432x288 with 1 Axes>"
      ]
     },
     "metadata": {},
     "output_type": "display_data"
    },
    {
     "data": {
      "image/png": "[encoded data removed]",
      "text/plain": [
       "<Figure size 432x288 with 1 Axes>"
      ]
     },
     "metadata": {},
     "output_type": "display_data"
    }
   ],
   "source": [
    "plt.subplot()\n",
    "# A plot with REALLY high bandwith\n",
    "sns.kdeplot(X['Sepal Width'], bw=10)\n",
    "\n",
    "plt.title ('Sepal Width Density Plot: Bandwidth = 10')\n",
    "plt.xlabel('Sepal Width Value')\n",
    "plt.ylabel('Density')\n",
    "\n",
    "plt.show()\n",
    "\n",
    "\n",
    "plt.subplot()\n",
    "# A plot with REALLY low bandwidth\n",
    "sns.kdeplot(X['Sepal Width'], bw=0.0000001)\n",
    "\n",
    "plt.title ('Sepal Width Density Plot: Bandwith = 0.0000001')\n",
    "plt.xlabel('Sepal Width Value')\n",
    "plt.ylabel('Density')\n",
    "\n",
    "plt.show()"
   ]
  },
  {
   "cell_type": "markdown",
   "metadata": {
    "colab_type": "text",
    "id": "4-oICfN2lW1I"
   },
   "source": [
    "As you can see, the bandwidth value can have a drastic effect on the resulting graph. These are extreme examples, however; appropriate values for bandwidth differ case by case."
   ]
  },
  {
   "cell_type": "markdown",
   "metadata": {
    "colab_type": "text",
    "id": "Nl0iCFXhlW1J"
   },
   "source": [
    "### Box Plot"
   ]
  },
  {
   "cell_type": "markdown",
   "metadata": {
    "colab_type": "text",
    "id": "6wN2lpmwlW1J"
   },
   "source": [
    "A box plot shows the max, min, and the median values of one feature from a given dataset. It is a great tool when a quick summarization is necessary or when the spread of data needs to be shown. For example, it can be used to visualize test scores.<br>\n",
    "<br>\n",
    "An important point to note is that an <b>outlier</b> is a data point that is 1.5 times above the upper quartile or 1.5 times below the lower quartile."
   ]
  },
  {
   "cell_type": "code",
   "execution_count": 8,
   "metadata": {
    "colab": {},
    "colab_type": "code",
    "id": "6_s_A9-RlW1K",
    "scrolled": true
   },
   "outputs": [
    {
     "data": {
      "image/png": "[encoded data removed]",
      "text/plain": [
       "<Figure size 432x288 with 1 Axes>"
      ]
     },
     "metadata": {},
     "output_type": "display_data"
    }
   ],
   "source": [
    "bp = plt.boxplot([X['Sepal Length'],X['Sepal Width']])\n",
    "\n",
    "plt.title('Sepal Features Boxplot')\n",
    "plt.xticks([1,2],['Sepal Length','Sepal Width'])\n",
    "plt.xlim([0,3])\n",
    "plt.ylim([1,9])\n",
    "\n",
    "plt.show()"
   ]
  },
  {
   "cell_type": "markdown",
   "metadata": {
    "colab_type": "text",
    "id": "7iq6noxWlW1L"
   },
   "source": [
    "### Violin Plot"
   ]
  },
  {
   "cell_type": "markdown",
   "metadata": {
    "colab_type": "text",
    "id": "dej6icrWlW1M"
   },
   "source": [
    "A violin plot is very similar to a box plot. The only big difference is that while box plot has a box (which represents IQR: Inter Quartile Range, a range between 25% percentile and 75% percentile of the values) and two whiskers to represent maximum and minimum, violin plot has a three lines that indicates max (100% percentile), median (50% percentile), and min (0% percentile) and also has a <b>probability density distribution</b> of the data at different values along the line."
   ]
  },
  {
   "cell_type": "code",
   "execution_count": 9,
   "metadata": {
    "colab": {},
    "colab_type": "code",
    "id": "NmhWedLUlW1N"
   },
   "outputs": [
    {
     "data": {
      "image/png": "[encoded data removed]",
      "text/plain": [
       "<Figure size 432x288 with 1 Axes>"
      ]
     },
     "metadata": {},
     "output_type": "display_data"
    }
   ],
   "source": [
    "plt.violinplot([X['Sepal Length'],X['Sepal Width']],showextrema=True,showmedians=True)\n",
    "\n",
    "plt.title('Sepal Features Violin Plot')\n",
    "plt.xticks([1,2],['Sepal Length','Sepal Width'])\n",
    "plt.ylabel('Spread')\n",
    "\n",
    "plt.show()"
   ]
  },
  {
   "cell_type": "markdown",
   "metadata": {
    "colab_type": "text",
    "id": "CkWb-O8SlW1O"
   },
   "source": [
    "### Scatter Plot"
   ]
  },
  {
   "cell_type": "markdown",
   "metadata": {
    "colab_type": "text",
    "id": "vCodhgS3lW1P"
   },
   "source": [
    "Scatter plots can be very useful for visualizing information for two or more features (that correspond to the number of dimensions). They are very useful for extrapolating information."
   ]
  },
  {
   "cell_type": "markdown",
   "metadata": {
    "colab_type": "text",
    "id": "OAh0GezklW1P"
   },
   "source": [
    "#### 2D Scatter Plot"
   ]
  },
  {
   "cell_type": "code",
   "execution_count": 10,
   "metadata": {
    "colab": {},
    "colab_type": "code",
    "id": "6p6xcRXZlW1P",
    "scrolled": true
   },
   "outputs": [
    {
     "data": {
      "image/png": "[encoded data removed]",
      "text/plain": [
       "<Figure size 432x288 with 1 Axes>"
      ]
     },
     "metadata": {},
     "output_type": "display_data"
    }
   ],
   "source": [
    "plt.scatter(X['Sepal Length'],X['Sepal Width'],c=Y.values.ravel()) #Colored by species\n",
    "\n",
    "plt.title('The Sepal Features')\n",
    "plt.xlabel('Sepal Length')\n",
    "plt.ylabel('Sepal Width')\n",
    "\n",
    "plt.show()"
   ]
  },
  {
   "cell_type": "markdown",
   "metadata": {
    "colab_type": "text",
    "id": "dN5HeJOmlW1R"
   },
   "source": [
    "We can see that the negative linear correlation is in fact not an apt representation of the data. It is better to understand it in terms of clusters.\n",
    "<br><br>\n",
    "It is noticeable that\n",
    "<ul>\n",
    "<li>There is a clear clustering behavior for setosa (light blue)</li>\n",
    "<li>Versicolor and virginica is not clearly separated (brown/orange)</li>\n",
    "</ul>\n",
    "This kind of information is valuable in assessing what kind of model to choose, and what kind of additional analysis that needs to take before we are sure of what to do with our dataset. It is possible, however, to further embellish our visual analysis by using a 3d plot and adding in another feature."
   ]
  },
  {
   "cell_type": "markdown",
   "metadata": {
    "colab_type": "text",
    "id": "M-5dWOF-lW1R"
   },
   "source": [
    "#### 3D Scatter Plot"
   ]
  },
  {
   "cell_type": "code",
   "execution_count": 11,
   "metadata": {
    "colab": {},
    "colab_type": "code",
    "id": "OC2Dx4h0lW1R",
    "scrolled": true
   },
   "outputs": [
    {
     "data": {
      "image/png": "[encoded data removed]",
      "text/plain": [
       "<Figure size 432x288 with 1 Axes>"
      ]
     },
     "metadata": {},
     "output_type": "display_data"
    }
   ],
   "source": [
    "from mpl_toolkits.mplot3d import Axes3D\n",
    "fig = plt.figure()\n",
    "ax = fig.add_subplot(111,projection='3d')\n",
    "\n",
    "ax.scatter(X['Sepal Length'],X['Sepal Width'],X['Petal Length'],c=Y.values.ravel())\n",
    "\n",
    "ax.set_title('The Sepal Features')\n",
    "ax.set_xlabel('Sepal Length')\n",
    "ax.set_ylabel('Sepal Width')\n",
    "ax.set_zlabel('Petal Length')\n",
    "\n",
    "plt.show()"
   ]
  },
  {
   "cell_type": "markdown",
   "metadata": {
    "colab_type": "text",
    "id": "xDaBOVoXlW1T"
   },
   "source": [
    "Looking at this 3d scatterplot, we can see that the versicolor and virginica is actually much more separable, unlike what was indicated in our previous 2d plot. We can therefore conclude that these three features are enough to implement an effective classifier."
   ]
  },
  {
   "cell_type": "markdown",
   "metadata": {
    "colab_type": "text",
    "id": "r7baq5iVlW1T"
   },
   "source": [
    "### Heat Map"
   ]
  },
  {
   "cell_type": "markdown",
   "metadata": {
    "colab_type": "text",
    "id": "5E9kfww_lW1U"
   },
   "source": [
    "Another plot for visualizing density is a heat map. Heat maps are a bivariate distribution which assigns colors to different regions depending on the density (or frequency or magnitude, depending on which feature you are trying to visualize) of values in that region."
   ]
  },
  {
   "cell_type": "code",
   "execution_count": 12,
   "metadata": {
    "colab": {},
    "colab_type": "code",
    "id": "LOBtZOoMlW1U",
    "scrolled": false
   },
   "outputs": [
    {
     "data": {
      "image/png": "[encoded data removed]",
      "text/plain": [
       "<Figure size 432x288 with 1 Axes>"
      ]
     },
     "metadata": {},
     "output_type": "display_data"
    }
   ],
   "source": [
    "Z, hmx, hmy = np.histogram2d(X['Sepal Length'],X['Sepal Width'])\n",
    "\n",
    "plt.title('Heatmap')\n",
    "plt.xlabel('Sepal Length')\n",
    "plt.ylabel('Sepal Width')\n",
    "plt.pcolormesh(hmx,hmy,Z.T)\n",
    "\n",
    "plt.show()"
   ]
  },
  {
   "cell_type": "markdown",
   "metadata": {
    "colab_type": "text",
    "id": "W5AKBPeBlW1V"
   },
   "source": [
    "### Correlation Plot"
   ]
  },
  {
   "cell_type": "markdown",
   "metadata": {
    "colab_type": "text",
    "id": "EFvIyI0vlW1V"
   },
   "source": [
    "Similar to a heat map is a correlation plot. However, instead of looking two variables to find their corrleation, we examine all the variables to determine which are correlated. There are a couple of ways to do this: one with seasborn and another with just matplotlib. Try to understand both, but feel free to use only one."
   ]
  },
  {
   "cell_type": "markdown",
   "metadata": {},
   "source": [
    "*Method 1 (seasborn) *"
   ]
  },
  {
   "cell_type": "code",
   "execution_count": 13,
   "metadata": {
    "colab": {},
    "colab_type": "code",
    "id": "-4KcyiZ4lW1V",
    "scrolled": false
   },
   "outputs": [
    {
     "data": {
      "image/png": "[encoded data removed]",
      "text/plain": [
       "<Figure size 432x288 with 2 Axes>"
      ]
     },
     "metadata": {},
     "output_type": "display_data"
    }
   ],
   "source": [
    "corr = X.corr() # Get the correlation matrix\n",
    "sns.heatmap(corr, annot=True) # Although it is called heatmap here, it nonetheless shows the pairwise correlation between features.\n",
    "plt.show()"
   ]
  },
  {
   "cell_type": "markdown",
   "metadata": {},
   "source": [
    "*Method 2 (matplotlib)*"
   ]
  },
  {
   "cell_type": "code",
   "execution_count": 14,
   "metadata": {},
   "outputs": [
    {
     "data": {
      "image/png": "[encoded data removed]",
      "text/plain": [
       "<Figure size 432x288 with 2 Axes>"
      ]
     },
     "metadata": {},
     "output_type": "display_data"
    }
   ],
   "source": [
    "corr = X.corr() # get the correlation matrix\n",
    "\n",
    "fig = plt.figure() # Create a figure instance\n",
    "ax = fig.add_subplot(111) # Add a subplot to plot on\n",
    "fig.colorbar(ax.matshow(corr, cmap='RdBu', vmin=-1, vmax=1)) \n",
    "#Plot the correlation matrix: use the 'Red-Blue' color map and set the maximum & minimum values entries can take (+1 & -1, respectively)\n",
    "\n",
    "ax.set_xticks(range(len(corr.columns))) # Set the ticks on x-axis to take positions in range(0,4)\n",
    "ax.set_xticklabels(corr.columns) # Label the x-axis with names\n",
    "for tick in ax.get_xticklabels(): # Rotate the labels 45 degrees (so they don't get clumped up; try running this cell without this code)\n",
    "        tick.set_rotation(45)\n",
    "\n",
    "ax.set_yticks(range(len(corr.columns))) # Set the ticks on y-axis to take positions in range(0,4)\n",
    "ax.set_yticklabels(corr.columns) # Label the y-axis with names\n",
    "\n",
    "plt.show()"
   ]
  },
  {
   "cell_type": "markdown",
   "metadata": {
    "colab_type": "text",
    "id": "mW89ENxMlW1Y"
   },
   "source": [
    "_____"
   ]
  },
  {
   "cell_type": "markdown",
   "metadata": {
    "colab_type": "text",
    "id": "MN1SDoZplW1Y"
   },
   "source": [
    "### Example 2:\n",
    "Download the temperatures dataset from the course website and make sure it is in the same folder as this file. Now pick one of the above graph types to visualize one or more columns from the temperatures dataset. Hint: the `drop_duplicates` function may come in handy to reduce the number of points."
   ]
  },
  {
   "cell_type": "code",
   "execution_count": null,
   "metadata": {
    "colab": {},
    "colab_type": "code",
    "id": "oQMSgUzClW1Y"
   },
   "outputs": [],
   "source": [
    "# Read CSV\n",
    "temps = \n",
    "\n",
    "# Dropping duplicates for you!\n",
    "temps_unique = temps.drop_duplicates(subset=['City', 'Country', 'Latitude', 'Longitude'], keep='last')"
   ]
  },
  {
   "cell_type": "markdown",
   "metadata": {
    "colab_type": "text",
    "id": "MNO0IsZLlW1Z"
   },
   "source": [
    "____"
   ]
  },
  {
   "cell_type": "markdown",
   "metadata": {
    "colab_type": "text",
    "id": "kntIF-0UlW1Z"
   },
   "source": [
    "## Visualization Tips and Tricks"
   ]
  },
  {
   "cell_type": "markdown",
   "metadata": {
    "colab_type": "text",
    "id": "cPGUpwXwlW1a"
   },
   "source": [
    "### Changing colors"
   ]
  },
  {
   "cell_type": "markdown",
   "metadata": {
    "colab_type": "text",
    "id": "kh8r9aS9lW1a"
   },
   "source": [
    "Let's take the bar graph we programmed earlier and change its color!\n",
    "<br><br>\n",
    "It's fairly straightforward to do so: Use the attribute `color` when you're creating the barplot, and specify the color of choice! Here's an example that turns the bar plot black."
   ]
  },
  {
   "cell_type": "code",
   "execution_count": null,
   "metadata": {
    "colab": {},
    "colab_type": "code",
    "id": "ipLtQjNHlW1a"
   },
   "outputs": [],
   "source": [
    "bar1 = (X['Sepal Length']).mean()\n",
    "bar2 = (X['Sepal Width']).mean()\n",
    "plt.bar([0,1],[bar1,bar2],align='center', color='black') # Try playing around with this!\n",
    "\n",
    "plt.title('Average of Sepal Features Bar Graph')\n",
    "plt.xticks([0,1],['Sepal Length','Sepal Width'])\n",
    "plt.ylabel('Average (cm)')\n",
    "\n",
    "plt.show()"
   ]
  },
  {
   "cell_type": "markdown",
   "metadata": {
    "colab_type": "text",
    "id": "irsL5blVlW1b"
   },
   "source": [
    "We can also change the color map, which changes the color scheme for a variable that is being plotted using color. \n",
    "<br><br>\n",
    "Let's look at our previous scatterplot example and use the attribute `cmap` when you're creating the plot, and specify the map of choice!"
   ]
  },
  {
   "cell_type": "code",
   "execution_count": null,
   "metadata": {
    "colab": {},
    "colab_type": "code",
    "id": "tCvGy4FhlW1b"
   },
   "outputs": [],
   "source": [
    "plt.scatter(X['Sepal Length'],X['Sepal Width'],c=Y,cmap=plt.cm.Paired) #Colored by species using a color map\n",
    "\n",
    "plt.title('The Sepal Features')\n",
    "plt.xlabel('Sepal Length')\n",
    "plt.ylabel('Sepal Width')\n",
    "\n",
    "plt.show()"
   ]
  },
  {
   "cell_type": "markdown",
   "metadata": {
    "colab_type": "text",
    "id": "IBT2_A4nlW1d"
   },
   "source": [
    "Now this is pretty neat, but we still don't know what each color maps to. To fix this, we can add a legend.  \n",
    "<br><br>\n",
    "To do this, we will have to assign a specific label to each plotted data point. The simplest way to do this is to split our data into groups by color so we can assign the label to each group. Then, we can call the `legend` function to create a legend from the labels. "
   ]
  },
  {
   "cell_type": "code",
   "execution_count": null,
   "metadata": {
    "colab": {},
    "colab_type": "code",
    "id": "6Ub7ZSj8lW1d"
   },
   "outputs": [],
   "source": [
    "colors = plt.cm.get_cmap('Paired')\n",
    "\n",
    "for species in np.unique(Y[0]):\n",
    "    ix = np.where(Y[0] == species)\n",
    "    plt.scatter(X['Sepal Length'].loc[ix],X['Sepal Width'].loc[ix], c = colors(species), label = iris.target_names[species])\n",
    "\n",
    "plt.title('The Sepal Features')\n",
    "plt.xlabel('Sepal Length')\n",
    "plt.ylabel('Sepal Width')\n",
    "plt.legend()\n",
    "\n",
    "plt.show()"
   ]
  },
  {
   "cell_type": "markdown",
   "metadata": {
    "colab_type": "text",
    "id": "al90lP3DlW1f"
   },
   "source": [
    "### Subplots"
   ]
  },
  {
   "cell_type": "code",
   "execution_count": null,
   "metadata": {
    "colab": {},
    "colab_type": "code",
    "id": "pxUYqglalW1f"
   },
   "outputs": [],
   "source": [
    "# Creating dummy data\n",
    "x = np.linspace(0, 3*np.pi, 500)\n",
    "y = np.sin(x**1.5)"
   ]
  },
  {
   "cell_type": "markdown",
   "metadata": {
    "colab_type": "text",
    "id": "jB_1XpyIlW1g"
   },
   "source": [
    "#### Two subplots"
   ]
  },
  {
   "cell_type": "code",
   "execution_count": null,
   "metadata": {
    "colab": {},
    "colab_type": "code",
    "id": "7oWA28tJlW1g"
   },
   "outputs": [],
   "source": [
    "f, (ax1, ax2) = plt.subplots(1, 2, sharey=True)\n",
    "ax1.plot(x, y)\n",
    "ax2.scatter(x, y)\n",
    "\n",
    "plt.show()"
   ]
  },
  {
   "cell_type": "markdown",
   "metadata": {
    "colab_type": "text",
    "id": "Pb3h1R2klW1h"
   },
   "source": [
    "#### Four subplots"
   ]
  },
  {
   "cell_type": "code",
   "execution_count": null,
   "metadata": {
    "colab": {},
    "colab_type": "code",
    "id": "z6dIaIXWlW1h"
   },
   "outputs": [],
   "source": [
    "fig, axes = plt.subplots(2, 2, subplot_kw=dict(polar=True))\n",
    "axes[0, 0].plot(x, y)\n",
    "axes[1, 1].scatter(x, y)\n",
    "\n",
    "plt.show()"
   ]
  },
  {
   "cell_type": "markdown",
   "metadata": {
    "colab_type": "text",
    "id": "W3OYTz1NlW1i"
   },
   "source": [
    "### Multiple plots on the same axis"
   ]
  },
  {
   "cell_type": "markdown",
   "metadata": {
    "colab_type": "text",
    "id": "tNs7S_0LlW1i"
   },
   "source": [
    "Sometimes, it's useful to plot multiple graphs on the same axes. For example, plotting the scores of two students on the same graph for ease of comparison. While this sounds like a tricky concept, its more straightforward than you'd think!"
   ]
  },
  {
   "cell_type": "code",
   "execution_count": null,
   "metadata": {
    "colab": {},
    "colab_type": "code",
    "id": "ix8FwMEclW1i"
   },
   "outputs": [],
   "source": [
    "plt.plot([3,4,3,6], [1,3,5,8], 'bo')\n",
    "plt.plot([5,6,7,8], [4,4,3,2], 'ro') \n",
    "# You can add any number of plots this way!\n",
    "\n",
    "plt.show()"
   ]
  },
  {
   "cell_type": "markdown",
   "metadata": {
    "colab_type": "text",
    "collapsed": true,
    "id": "BU9wlpe7lW1j"
   },
   "source": [
    "### Error Bars"
   ]
  },
  {
   "cell_type": "markdown",
   "metadata": {
    "colab_type": "text",
    "id": "U0pzpV7ulW1j"
   },
   "source": [
    "We are also introducing error bars, which were designed to overcome one of main challenges of data visualization: to represent the uncertainty of the data. Error bars add a whisker to a data point, which indicates a possible ranges of values that the data point can potentially take, rather than designating one definite value."
   ]
  },
  {
   "cell_type": "code",
   "execution_count": null,
   "metadata": {
    "colab": {},
    "colab_type": "code",
    "id": "6yiNcwf5lW1j",
    "scrolled": false
   },
   "outputs": [],
   "source": [
    "x = np.arange(0,1,0.1)\n",
    "y = np.sin(np.exp(x))\n",
    "error = 0.05 + 0.05*x\n",
    "\n",
    "plt.errorbar(x,y,xerr=error,fmt='-o')\n",
    "\n",
    "plt.title('Error Bars for an Arbitrary Function')\n",
    "plt.xlabel('x')\n",
    "plt.ylabel('y')\n",
    "\n",
    "plt.show()"
   ]
  },
  {
   "cell_type": "markdown",
   "metadata": {},
   "source": [
    "### Example 3:\n",
    "Tweak your previous graph (or create a new one) so it includes one of the above tips and tricks."
   ]
  },
  {
   "cell_type": "code",
   "execution_count": null,
   "metadata": {},
   "outputs": [],
   "source": []
  },
  {
   "cell_type": "markdown",
   "metadata": {
    "colab_type": "text",
    "id": "42LNEdk5lW1k"
   },
   "source": [
    "_____"
   ]
  },
  {
   "cell_type": "markdown",
   "metadata": {
    "colab_type": "text",
    "id": "Zr5YHo6BlW1l"
   },
   "source": [
    "## Advanced Visualization Techniques"
   ]
  },
  {
   "cell_type": "markdown",
   "metadata": {
    "colab_type": "text",
    "id": "7vIVFpA7lW1l"
   },
   "source": [
    "### Interactive Plots"
   ]
  },
  {
   "cell_type": "markdown",
   "metadata": {
    "colab_type": "text",
    "id": "w-b61hWxlW1m"
   },
   "source": [
    "Interactivity matters because it allows further analysis and isolation of certain parts of the data. We will use <a href=\"https://plot.ly/python/\">`plotly`</a> to create interactive plots. NOTE: you will need to follow the link and make an account for the following code to work."
   ]
  },
  {
   "cell_type": "code",
   "execution_count": null,
   "metadata": {
    "colab": {},
    "colab_type": "code",
    "id": "ohGemxf5lW1m"
   },
   "outputs": [],
   "source": [
    "import plotly.plotly as py\n",
    "import plotly.graph_objs as go\n",
    "\n",
    "# The following code will only run if you have an account for plotly\n",
    "myIris = pd.concat([X,Y], axis=1)\n",
    "\n",
    "x0 = myIris[myIris[0] == 0]['Sepal Width']\n",
    "x1 = myIris[myIris[0] == 1]['Sepal Width']\n",
    "x2 = myIris[myIris[0] == 2]['Sepal Width']\n",
    "trace0 = go.Histogram(x=x0)\n",
    "trace1 = go.Histogram(x=x1)\n",
    "trace2 = go.Histogram(x=x2)\n",
    "\n",
    "data = [trace0,trace1,trace2]\n",
    "\n",
    "layout = go.Layout(barmode='stack')\n",
    "fig1 = go.Figure(data=data, layout=layout)\n",
    "\n",
    "py.iplot(fig1)"
   ]
  },
  {
   "cell_type": "markdown",
   "metadata": {
    "colab_type": "text",
    "id": "iOy5tkKolW1n"
   },
   "source": [
    "### Animation"
   ]
  },
  {
   "cell_type": "markdown",
   "metadata": {
    "colab_type": "text",
    "id": "ftGs9PGclW1n"
   },
   "source": [
    "There are additional visual tools that you can use, that for the scope of this course we will only mention. Please refer to these links:\n",
    "<br><br>\n",
    "https://matplotlib.org/api/animation_api.html\n",
    "<br>\n",
    "https://matplotlib.org/2.0.0/mpl_toolkits/index.html"
   ]
  },
  {
   "cell_type": "markdown",
   "metadata": {
    "colab_type": "text",
    "id": "ztobm20dlW1n"
   },
   "source": [
    "### Using Maps"
   ]
  },
  {
   "cell_type": "markdown",
   "metadata": {
    "colab_type": "text",
    "id": "zUkuTbf0lW1n"
   },
   "source": [
    "We will be using the `Basemap` package. To download this, run `conda install Basemap` in terminal (enter `y` when it asks about updating existing packages) before you run the second cell. "
   ]
  },
  {
   "cell_type": "code",
   "execution_count": null,
   "metadata": {
    "colab": {},
    "colab_type": "code",
    "id": "0FB5DI_nlW1n"
   },
   "outputs": [],
   "source": [
    "temps = pd.read_csv(\"temps.csv\")\n",
    "temps_unique = temps.drop_duplicates(subset=['City', 'Country', 'Latitude', 'Longitude'], keep='last')"
   ]
  },
  {
   "cell_type": "code",
   "execution_count": null,
   "metadata": {
    "colab": {},
    "colab_type": "code",
    "id": "QJNv4L0_lW1o"
   },
   "outputs": [],
   "source": [
    "from mpl_toolkits.basemap import Basemap\n",
    "\n",
    "map = Basemap()\n",
    "# draw coastlines, country boundaries, outline the map \n",
    "map.drawcoastlines()\n",
    "map.drawcountries()\n",
    "map.drawmapboundary()\n",
    "\n",
    "# add data over the map\n",
    "cs = map.scatter(temps_unique['Longitude'], temps_unique['Latitude'], c=temps_unique['AverageTemperature'])\n",
    "\n",
    "plt.title('Average Temperature by Location')\n",
    "plt.show()"
   ]
  },
  {
   "cell_type": "markdown",
   "metadata": {
    "colab_type": "text",
    "id": "LHTadpFtlW1p"
   },
   "source": [
    "____"
   ]
  },
  {
   "cell_type": "markdown",
   "metadata": {},
   "source": [
    "### Example 4: (Extra Credit)\n",
    "Create a visualization using any of the advanced techniques described above."
   ]
  },
  {
   "cell_type": "code",
   "execution_count": null,
   "metadata": {},
   "outputs": [],
   "source": []
  },
  {
   "cell_type": "markdown",
   "metadata": {
    "colab_type": "text",
    "id": "ph2ctTEWlW1p"
   },
   "source": [
    "## References"
   ]
  },
  {
   "cell_type": "markdown",
   "metadata": {
    "colab": {},
    "colab_type": "code",
    "id": "irrOR_IClW1p"
   },
   "source": [
    "https://matplotlib.org/api/_as_gen/matplotlib.pyplot.subplots.html"
   ]
  },
  {
   "cell_type": "markdown",
   "metadata": {},
   "source": [
    "____"
   ]
  }
 ],
 "metadata": {
  "colab": {
   "name": "Lecture 3 - Data Visualization.ipynb",
   "provenance": [],
   "version": "0.3.2"
  },
  "kernelspec": {
   "display_name": "Python 3",
   "language": "python",
   "name": "python3"
  },
  "language_info": {
   "codemirror_mode": {
    "name": "ipython",
    "version": 3
   },
   "file_extension": ".py",
   "mimetype": "text/x-python",
   "name": "python",
   "nbconvert_exporter": "python",
   "pygments_lexer": "ipython3",
   "version": "3.8.3"
  }
 },
 "nbformat": 4,
 "nbformat_minor": 1
}
