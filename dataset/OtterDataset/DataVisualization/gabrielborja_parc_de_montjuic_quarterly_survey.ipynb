{
  "nbformat": 4,
  "nbformat_minor": 0,
  "metadata": {
    "colab": {
      "provenance": [],
      "collapsed_sections": [
        "lStUu_NOrzIt",
        "YleVYZS5sBdW",
        "n_NDy1jtsBdX",
        "5kG1y0mItmtF",
        "RF8TokG_-W7T",
        "53-28RARTnKP"
      ],
      "authorship_tag": "ABX9TyOAFFkMEBCLPJWGkaK79ekJ",
      "include_colab_link": true
    },
    "kernelspec": {
      "name": "python3",
      "display_name": "Python 3"
    },
    "language_info": {
      "name": "python"
    }
  },
  "cells": [
    {
      "cell_type": "markdown",
      "metadata": {
        "id": "view-in-github",
        "colab_type": "text"
      },
      "source": [
        "<a href=\"https://colab.research.google.com/github/gabrielborja/parc_de_montjuic/blob/main/quarterly_survey.ipynb\" target=\"_parent\"><img src=\"https://colab.research.google.com/assets/colab-badge.svg\" alt=\"Open In Colab\"/></a>"
      ]
    },
    {
      "cell_type": "markdown",
      "source": [
        "# Survey data preparation"
      ],
      "metadata": {
        "id": "lStUu_NOrzIt"
      }
    },
    {
      "cell_type": "markdown",
      "source": [
        "## Importing libraries"
      ],
      "metadata": {
        "id": "YleVYZS5sBdW"
      }
    },
    {
      "cell_type": "code",
      "source": [
        "#Upgrading Plotly\n",
        "!pip install plotly --upgrade"
      ],
      "metadata": {
        "id": "27Fij1O2rDKC"
      },
      "execution_count": null,
      "outputs": []
    },
    {
      "cell_type": "code",
      "execution_count": null,
      "metadata": {
        "id": "cGeTJjgpsBdW"
      },
      "outputs": [],
      "source": [
        "# Importing python libraries\n",
        "import numpy as np\n",
        "import pandas as pd\n",
        "import matplotlib.pyplot as plt"
      ]
    },
    {
      "cell_type": "code",
      "source": [
        "# Importing visualization libraries\n",
        "import plotly.express as px\n",
        "import seaborn as sns\n",
        "from ipywidgets import interact"
      ],
      "metadata": {
        "id": "5nTnwpjaIVRR"
      },
      "execution_count": null,
      "outputs": []
    },
    {
      "cell_type": "markdown",
      "source": [
        "## Loading Data"
      ],
      "metadata": {
        "id": "n_NDy1jtsBdX"
      }
    },
    {
      "cell_type": "code",
      "source": [
        "# Loading data from local drive\n",
        "from google.colab import files\n",
        "uploaded1 = files.upload()"
      ],
      "metadata": {
        "id": "O7uOQYmTsBdX"
      },
      "execution_count": null,
      "outputs": []
    },
    {
      "cell_type": "code",
      "source": [
        "# Storing loaded data to a pandas dataframe\n",
        "import io\n",
        "df1 = pd.read_excel((io.BytesIO(uploaded1['2022_q3_data.xlsx'])))"
      ],
      "metadata": {
        "id": "1DSSEUWrsBdX"
      },
      "execution_count": null,
      "outputs": []
    },
    {
      "cell_type": "code",
      "source": [
        "# Chainging columns to lower case\n",
        "df1.rename(columns={i:i.lower() for i in df1.columns}, inplace=True)"
      ],
      "metadata": {
        "id": "xb7R-2ZgkAc-"
      },
      "execution_count": null,
      "outputs": []
    },
    {
      "cell_type": "code",
      "source": [
        "# Dropping unnecessary columns\n",
        "df1.drop(columns=['questionnairename','questionnaireid','load_process','load_dts'], axis=1, inplace=True)"
      ],
      "metadata": {
        "id": "HHd91BK8vjIR"
      },
      "execution_count": null,
      "outputs": []
    },
    {
      "cell_type": "code",
      "source": [
        "# Removing white space from text column\n",
        "df1 = df1.assign(q4 = df1['q4'].str.strip())"
      ],
      "metadata": {
        "id": "DGdPn9rO7Gz8"
      },
      "execution_count": null,
      "outputs": []
    },
    {
      "cell_type": "code",
      "source": [
        "df1.info()"
      ],
      "metadata": {
        "id": "DyvOT6gzkK1g"
      },
      "execution_count": null,
      "outputs": []
    },
    {
      "cell_type": "code",
      "source": [
        "df1.iloc[:,5:].tail()"
      ],
      "metadata": {
        "id": "7XfJ0gLMuSul"
      },
      "execution_count": null,
      "outputs": []
    },
    {
      "cell_type": "code",
      "source": [
        "# Asserting the loaded data has the correct columns\n",
        "def check_columns():\n",
        "  survey_col = ['answer_form_id', 'is_anonymous',  'cust_domain_id', 'mh_customer_id', 'mh_context', 'channel_name', 'broadcast_id', 'completed',\n",
        "                'answered_timestamp', 'Q1', 'Q2_A1',  'Q2_A2', 'Q2_A3', 'Q2_A4', 'Q2_A5', 'Q2_A7', 'Q2_A8', 'Q2_A9', 'Q3', 'Q4_A1', 'Q4_A2', 'Q5']\n",
        "  assert df1.columns.to_list() == survey_col, f'Columns should be: {[i for i in survey_col]}'\n",
        "  print(f'The file contains all correct columns')\n",
        "\n",
        "#check_columns() #=> Columns subject to change due to migration"
      ],
      "metadata": {
        "id": "kX8ne5a0wx-I"
      },
      "execution_count": null,
      "outputs": []
    },
    {
      "cell_type": "markdown",
      "source": [
        "## Data cleaning"
      ],
      "metadata": {
        "id": "5kG1y0mItmtF"
      }
    },
    {
      "cell_type": "code",
      "source": [
        "# Creating function to clean up the dataframe\n",
        "def df1_clean_up(df):\n",
        "  # Converting timestamps to datetime\n",
        "  #df = df.assign(mh_context = pd.to_datetime(df['mh_context']),\n",
        "  #               answered_timestamp = pd.to_datetime(df['answered_timestamp']))\n",
        "  # Converting timestamps to datetime\n",
        "  df = df.sort_values(by='answereddatetime').reset_index(drop=True)\n",
        "  # Assigning categories from datetime\n",
        "  df = df.assign(year = df['answereddatetime'].dt.year,\n",
        "                 quarter = df['answereddatetime'].dt.quarter,\n",
        "                 month = df['answereddatetime'].dt.month,\n",
        "                 month_name = df['answereddatetime'].dt.month_name(),\n",
        "                 weeknum = df['answereddatetime'].dt.isocalendar().week,\n",
        "                 day = df['answereddatetime'].dt.day_name(),\n",
        "                 hour = df['answereddatetime'].dt.hour\n",
        "                 )\n",
        "  # Replacing quarter numbers to string\n",
        "  quarter_dict = {1: 'Q1', 2: 'Q2', 3: 'Q3', 4: 'Q4'}\n",
        "  df['quarter'].replace(quarter_dict, inplace=True)\n",
        "  # Creating year-quarter category\n",
        "  df = df.assign(period = df['year'].astype(str) + \"-\" + df['quarter'])\n",
        "  # Replacing non unicode characters\n",
        "  df.replace(to_replace=r'Ã¥', value='å', regex=True, inplace=True)\n",
        "  df.replace(to_replace=r'Ã¦', value='Å', regex=True, inplace=True)\n",
        "  df.replace(to_replace=r'Ã.', value='ø', regex=True, inplace=True)\n",
        "  # Replacing X values with 1\n",
        "  x_cols = ['q2_a1', 'q2_a2', 'q2_a3', 'q2_a4', 'q2_a5', 'q2_a6', 'q2_a7', 'q2_a8', 'q2_a9', 'q4']\n",
        "  df[x_cols] = df[x_cols].copy().replace('X', value=1)\n",
        "  return df"
      ],
      "metadata": {
        "id": "CdkZfOQdae72"
      },
      "execution_count": null,
      "outputs": []
    },
    {
      "cell_type": "code",
      "source": [
        "# Cleaning up the dataframe\n",
        "df1 = df1_clean_up(df1)"
      ],
      "metadata": {
        "id": "HYGkW0EFa80i"
      },
      "execution_count": null,
      "outputs": []
    },
    {
      "cell_type": "code",
      "source": [
        "# Melting dataframe questions to long format\n",
        "melt1_cols = ['answerformid', 'domainkey', 'answereddatetime', 'year',\t'quarter',\t'period', 'month',\t'month_name', 'weeknum',\t'day']\n",
        "melt2_cols = ['q1', 'q2_a1',  'q2_a2', 'q2_a3', 'q2_a4', 'q2_a5', 'q2_a6', 'q2_a7', 'q2_a8', 'q2_a9', 'q3', 'q4', 'q5']\n",
        "df1_melt = pd.melt(df1, id_vars=[i for i in melt1_cols],\n",
        "        value_vars=[i for i in melt2_cols], var_name='question', value_name='answer').dropna(axis=0, subset=['answer'])"
      ],
      "metadata": {
        "id": "cBbQt3CMUl5s"
      },
      "execution_count": null,
      "outputs": []
    },
    {
      "cell_type": "code",
      "source": [
        "# Splitting melted dataframe into survey sections\n",
        "df1_a = df1_melt[df1_melt['question'].isin(['q2_a1','q2_a2','q2_a3','q2_a4','q2_a5','q2_a6','q2_a7','q2_a8','q2_a9'])].reset_index(drop=True)\n",
        "df1_b = df1_melt[df1_melt['question'].isin(['q4'])].reset_index(drop=True)\n",
        "df1_c = df1_melt[df1_melt['question'].isin(['q1', 'q3', 'q5'])].reset_index(drop=True)"
      ],
      "metadata": {
        "id": "X5bYl2TAvAos"
      },
      "execution_count": null,
      "outputs": []
    },
    {
      "cell_type": "code",
      "source": [
        "# Creating summary table for multiple choice questions\n",
        "def summary_table_1a(df):\n",
        "  pv = df.pivot_table(index='question', columns=['period'], values='answer', aggfunc='sum').reset_index()\n",
        "  dict_1a = {'q2_a1':'Bedre_tilbud', 'q2_a2':'Tvangsavvikling', 'q2_a3':'Privat_abo', 'q2_a4':'Talekvalitet/Dekning',\n",
        "             'q2_a5':'Surfekvalitet', 'q2_a6':'Streamingkvalitet', 'q2_a7':'Utlandstjenesten', 'q2_a8':'Kundeservice', 'q2_a9':'Annet'}\n",
        "  pv['question'].replace(to_replace=dict_1a, inplace=True)\n",
        "  return pv\n",
        "  \n",
        "tb_1a = summary_table_1a(df1_a)\n",
        "tb_1a"
      ],
      "metadata": {
        "id": "NX-tyGa1mXWG"
      },
      "execution_count": null,
      "outputs": []
    },
    {
      "cell_type": "code",
      "source": [
        "# Creating summary table for true/false question\n",
        "def summary_table_1b(df):\n",
        "  pv = df.pivot_table(index='answer', columns=['period'], values='question', aggfunc='count').reset_index()\n",
        "  #dict_1b = {'q4_a1':'Ble_kontaktet', 'q4_a2':'Initiativ_selv'}\n",
        "  #pv['question'].replace(to_replace=dict_1b, inplace=True)\n",
        "  pv.rename(columns={'answer':'question'}, inplace=True)\n",
        "  return pv\n",
        "\n",
        "tb_1b = summary_table_1b(df1_b)\n",
        "tb_1b"
      ],
      "metadata": {
        "id": "WkIFVeuOo9lE"
      },
      "execution_count": null,
      "outputs": []
    },
    {
      "cell_type": "code",
      "source": [
        "# Creating function to compute totals for unique survey IDs in the period\n",
        "def compute_total_by_quarter(df):\n",
        "  total_dict = {i:len(df[df['period']==i]['answerformid'].unique()) for i in df['period'].unique().tolist()}\n",
        "  return pd.DataFrame(total_dict.items(), columns=['period', 'total']).set_index('period').T\n",
        "\n",
        "tb_1t = compute_total_by_quarter(df1_a)\n",
        "tb_1t"
      ],
      "metadata": {
        "id": "iHbe7Lznu5_A"
      },
      "execution_count": null,
      "outputs": []
    },
    {
      "cell_type": "code",
      "source": [
        "# Creating melted table for true/false question\n",
        "def melt_table_1t(df):\n",
        "  return df.T.reset_index()\n",
        "  #return df_m[df_m['period']!=df_m['period'].unique()]\n",
        "  \n",
        "tb_1t_m = melt_table_1t(tb_1t)\n",
        "tb_1t_m.tail()"
      ],
      "metadata": {
        "id": "5JAmHe9avffB"
      },
      "execution_count": null,
      "outputs": []
    },
    {
      "cell_type": "code",
      "source": [
        "# Creating melted table with totals for multiple choice questions\n",
        "def melt_table_w_totals(df):\n",
        "  df_m = pd.melt(df, id_vars='question', value_vars=[i for i in df.columns if i !='question'], value_name='answer')\n",
        "  df_m = pd.merge(df_m, tb_1t_m, how='inner', on='period')\n",
        "  df_m = df_m.assign(perc = round(df_m['answer']/df_m['total'], 2))\n",
        "  return df_m\n",
        "  \n",
        "tb_1a_m = melt_table_w_totals(tb_1a)\n",
        "tb_1a_m = tb_1a_m.assign(dekning = np.where(tb_1a_m['question'].isin(['Talekvalitet/Dekning','Surfekvalitet','Streamingkvalitet']), 'Dekning', 'Annet'))\n",
        "tb_1a_m.tail()"
      ],
      "metadata": {
        "id": "e4Zhlwuffu6E"
      },
      "execution_count": null,
      "outputs": []
    },
    {
      "cell_type": "code",
      "source": [
        "# Creating melted table with totals for true/false question\n",
        "tb_1b_m = melt_table_w_totals(tb_1b)\n",
        "tb_1b_m.tail()"
      ],
      "metadata": {
        "id": "_8mkLO0MtT1e"
      },
      "execution_count": null,
      "outputs": []
    },
    {
      "cell_type": "markdown",
      "source": [
        "## Free text parsing"
      ],
      "metadata": {
        "id": "sfwZqLnydoeP"
      }
    },
    {
      "cell_type": "code",
      "source": [
        "# Listing stop words\n",
        "stop_words = ['annen','jeg','på','og','ikke','å','har','til','det','i','som','med','dere','for','fra','er','en','var','at','ice','om','ble',\n",
        "              'vi','så','sa','hos','et','meg','da','de','fikk','enn','av','kan','men','mye','når','bare','etter','våre', 'ved','hatt','',\n",
        "              'kunne', 'hadde', 'andre', 'også', 'sett', 'før', 'over', 'den','der', 'deres', 'disse', 'seg', 'noe']"
      ],
      "metadata": {
        "id": "nDgJlUomdq51"
      },
      "execution_count": null,
      "outputs": []
    },
    {
      "cell_type": "code",
      "source": [
        "# Stemming words of interest to single root\n",
        "def word_stemming(df, period, question, top):\n",
        "  \"\"\" Stemming words of interest to single root from questions: Q1, Q3, Q5 \"\"\"\n",
        "  \n",
        "\n",
        "\n",
        "  tx_list = df[(df['question']==question) & (df['period']==period)]['answer']\n",
        "  return"
      ],
      "metadata": {
        "id": "N_zvDMafx_t4"
      },
      "execution_count": null,
      "outputs": []
    },
    {
      "cell_type": "code",
      "source": [
        "# Creating function to parse free text for analysis\n",
        "def parse_free_text(df, period, question, top):\n",
        "  \"\"\" Parse free text from questions: Q1, Q3, Q5 \"\"\"\n",
        "  tx_list = df[(df['question']==question) & (df['period']==period)]['answer'].str.lower().replace(r'[!.,\"]', '', regex=True).str.cat(sep='').split(' ')\n",
        "  tx_list = pd.DataFrame(data=tx_list, columns=['word'])\n",
        "  tx_list = tx_list[~tx_list['word'].isin(stop_words)]\n",
        "  cond_list = [tx_list['word'].str.contains('dek'), tx_list['word'].str.contains('data'), tx_list['word'].str.contains('nett'), tx_list['word'].str.contains('signal'),\n",
        "               tx_list['word'].str.contains('samtale'), tx_list['word'].str.contains('ring'), tx_list['word'].str.contains('gb'),\n",
        "               tx_list['word'].str.contains('pris'), tx_list['word'].str.contains('tilbud'), tx_list['word'].str.contains('kr'), tx_list['word'].str.contains('billig'),\n",
        "               tx_list['word'].str.contains('nok'), tx_list['word'].str.contains('fri'), tx_list['word'].str.contains('betale'),\n",
        "               tx_list['word'].str.contains('kunde'), tx_list['word'].str.contains('servi')]\n",
        "  choice_list = ['dekning','dekning','dekning','dekning','dekning','dekning','dekning','pris/tilbud','pris/tilbud','pris/tilbud','pris/tilbud',\n",
        "                 'pris/tilbud','pris/tilbud','pris/tilbud','kundeservice','kundeservice']\n",
        "  tx_col = tx_list.assign(category = np.select(cond_list, choice_list, 'annet')).reset_index(drop=True) #=> Assigns categories from stemming words\n",
        "  tx_top = pd.DataFrame(tx_col.value_counts(), columns=['counter']).reset_index()#[:top]\n",
        "  tx_top = tx_top.assign(perc = round(tx_top['counter']/sum(tx_top['counter']),2)) #=> Aggregates for choice list categories\n",
        "  tx_top.insert(0,'period', period)\n",
        "  return (tx_col, tx_top)"
      ],
      "metadata": {
        "id": "Zq9naa33dq52"
      },
      "execution_count": null,
      "outputs": []
    },
    {
      "cell_type": "code",
      "source": [
        "# Testing new text parsing algorithm\n",
        "import collections\n",
        "#x = df1_c[(df1_c['question']=='Q5') & (df1_c['period']=='2022-Q2')][['mh_context','period','answer']].reset_index(drop=True).copy()\n",
        "\n",
        "#dek_list = ['dekningen','dekning?','data','datapakker','nett','nettverk','nettet','signal','samtale','mobildekning','ring','ringe','gb','områder','hastighet','bredbånd',\n",
        "#            'kvalitet','telenordekning','telenor-nett']\n",
        "#dek_dict = {f'({i})': 'dekning' for i in dek_list}\n",
        "\n",
        "#pris_list = ['betale', 'billig', 'billigere', 'datamengde', 'datamengder', 'datavolum', 'dyr', 'dyrt', 'ekstra', 'fri', 'gebyr', 'kr', 'lavere','mobildata','nok',\n",
        "#             'pakke', 'pakken', 'pris','priser', 'tilbud', 'tilbudet', 'totalpakken', 'totalpris']\n",
        "#pris_dict = {f'({p})': 'pris_tilbud' for p in pris_list}\n",
        "\n",
        "#x = x.assign(answer = x['answer'].str.lower().str.strip())\n",
        "#x = x.assign(answer = x['answer'].replace(r'[!.,\"?]', '', regex=True))\n",
        "#x = x.assign(answer = x['answer'].replace(dek_dict, regex=True))\n",
        "#x = x.assign(answer = x['answer'].replace(pris_dict, regex=True))\n",
        "#x.head(15)\n",
        "\n",
        "#=> First replace every word by its root, then clean, split and Counter"
      ],
      "metadata": {
        "id": "xvzwxzFtiBSJ"
      },
      "execution_count": null,
      "outputs": []
    },
    {
      "cell_type": "code",
      "source": [
        "# Parsing free text from question question 1\n",
        "(df1_d, df1_e) = parse_free_text(df1_c, '2022-Q3', 'q1', 20)"
      ],
      "metadata": {
        "id": "NgrEUXvKdq52"
      },
      "execution_count": null,
      "outputs": []
    },
    {
      "cell_type": "code",
      "source": [
        "# Text dataframe from question 1 in long format for word cloud\n",
        "df1_d.tail()"
      ],
      "metadata": {
        "id": "F2MMOgWWdq52"
      },
      "execution_count": null,
      "outputs": []
    },
    {
      "cell_type": "code",
      "source": [
        "# Text dataframe from question 1 aggregated by frequency\n",
        "df1_e.head()"
      ],
      "metadata": {
        "id": "-Dn1TMPAdq53"
      },
      "execution_count": null,
      "outputs": []
    },
    {
      "cell_type": "code",
      "source": [
        "# Parsing free text from question Q5\n",
        "(df1_f, df1_g) = parse_free_text(df1_c, '2022-Q3', 'q5', 1)"
      ],
      "metadata": {
        "id": "k6ZJAXz8ep7X"
      },
      "execution_count": null,
      "outputs": []
    },
    {
      "cell_type": "code",
      "source": [
        "# Text dataframe from Q5 in long format for word cloud\n",
        "df1_f.tail()"
      ],
      "metadata": {
        "id": "CA5OfkvwevWj"
      },
      "execution_count": null,
      "outputs": []
    },
    {
      "cell_type": "code",
      "source": [
        "# Text dataframe from Q5 in long format for word cloud\n",
        "df1_g"
      ],
      "metadata": {
        "id": "GOkVkLIMez-L"
      },
      "execution_count": null,
      "outputs": []
    },
    {
      "cell_type": "markdown",
      "source": [
        "## Exporting results to local drive"
      ],
      "metadata": {
        "id": "RF8TokG_-W7T"
      }
    },
    {
      "cell_type": "code",
      "source": [
        "# Exporting files to excel\n",
        "with pd.ExcelWriter('2022_q3_cleaned_survey.xlsx', engine='openpyxl') as writer:\n",
        "  df1.to_excel(writer, sheet_name='00_clean_survey', index=False)\n",
        "  df1_a.to_excel(writer, sheet_name='01_num_data_q2', index=False)\n",
        "  tb_1a.to_excel(writer, sheet_name='02_table_q2', index=False)\n",
        "  df1_b.to_excel(writer, sheet_name='03_num_data_q4', index=False)\n",
        "  tb_1b.to_excel(writer, sheet_name='04_table_q4', index=False)\n",
        "  tb_1t.to_excel(writer, sheet_name='05_period_totals', index=False)\n",
        "  df1_c.to_excel(writer, sheet_name='06_text_data', index=False)\n",
        "  df1_d.to_excel(writer, sheet_name='07_text_ind', index=False)\n",
        "  df1_e.to_excel(writer, sheet_name='08_q3', index=False)\n",
        "  df1_g.to_excel(writer, sheet_name='09_q5', index=False)\n",
        "  \n",
        "files.download('2022_q3_cleaned_survey.xlsx')"
      ],
      "metadata": {
        "id": "ZA02I_Wf-W7T"
      },
      "execution_count": null,
      "outputs": []
    },
    {
      "cell_type": "markdown",
      "source": [
        "## Data Visualization"
      ],
      "metadata": {
        "id": "53-28RARTnKP"
      }
    },
    {
      "cell_type": "code",
      "source": [
        "# List of questions for interactive plot\n",
        "year_list = df1['year'].unique().tolist()\n",
        "period_list = df1['period'].unique().tolist()"
      ],
      "metadata": {
        "id": "i7QzmhnTcCMB"
      },
      "execution_count": null,
      "outputs": []
    },
    {
      "cell_type": "code",
      "source": [
        "# Plotting figure 1\n",
        "@interact(Period = period_list)\n",
        "def plot_fig_1(Period):\n",
        "  df = tb_1a[['question', Period]].copy()\n",
        "  df = df.assign(perc = round(df[Period]/tb_1t[Period][0], 2))\n",
        "  df = df.sort_values(by='perc', ascending=False)\n",
        "  fig_1 = px.bar(df, x='perc', y='question', title=f'{Period}',\n",
        "                       text_auto='1%', width=400, height=500)\n",
        "  fig_1.update_layout({'plot_bgcolor': '#ffffff'}, title_font_size=16, yaxis=dict(autorange=\"reversed\"), title_x=0.5, xaxis_tickformat='1%')\n",
        "  fig_1.update_traces(marker_color='#ecc541')\n",
        "  fig_1.show()"
      ],
      "metadata": {
        "id": "Ey3lpdeNBt7t"
      },
      "execution_count": null,
      "outputs": []
    },
    {
      "cell_type": "code",
      "source": [
        "# Plotting figure 2\n",
        "@interact(Period = period_list)\n",
        "def plot_fig_2(Period):\n",
        "  df = tb_1b[['question', Period]].copy()\n",
        "  df = df.assign(perc = round(df[Period]/tb_1t[Period][0], 2),\n",
        "                 kontaktmodus = Period)\n",
        "  df = df.sort_values(by='perc', ascending=False)\n",
        "  colors_fig_2 = {'Vi ble kontaktet av en selger': '#ecc541', 'Vi tok initiativ selv': '#929291'}\n",
        "  fig_2 = px.bar(df, x='kontaktmodus', y='perc', color='question', title=f'{Period}', barmode='stack', \n",
        "                       text_auto='1%', width=400, height=500, color_discrete_map=colors_fig_2)\n",
        "  fig_2.update_layout({'plot_bgcolor': '#ffffff'}, title_font_size=16, title_x=0.5, yaxis_tickformat='1%')\n",
        "  fig_2.show()"
      ],
      "metadata": {
        "id": "QwfOgkwoGKo4"
      },
      "execution_count": null,
      "outputs": []
    },
    {
      "cell_type": "code",
      "source": [
        "# Plotting figure 3\n",
        "def plot_fig_3():\n",
        "  cat_ord_3 = {'question': ['Talekvalitet/Dekning', 'Bedre_tilbud', 'Surfekvalitet', 'Annet', 'Kundeservice',\n",
        "                             'Streamingkvalitet', 'Utlandstjenesten', 'Privat_abo', 'Tvangsavvikling']}\n",
        "  colors_fig_3 = {'Dekning':'#ecc541', 'Bedre_tilbud':'#929291', 'Data/surfekvalitet':'#0080ff', 'Annet':'#be3e84', 'Kundeservice':'#987d27',\n",
        "               'Utlandstjenesten':'#444e60', 'Privat_abo':'#00ffff', 'Tvangsavvikling':'#1c1915'}\n",
        "  fig_3 = px.bar(tb_1a_m, x='period', y='perc', color='question', category_orders=cat_ord_3, \n",
        "                  text_auto='1%', title=f'Avgangsundersøkelse over tid', width=800, height=500)#,color_discrete_map=colors_fig_3)\n",
        "  fig_3.update_layout({'plot_bgcolor': '#ffffff'}, title_font_size=16, title_x=0.5, yaxis_tickformat = '1%')\n",
        "  fig_3.show()\n",
        "\n",
        "plot_fig_3()"
      ],
      "metadata": {
        "id": "172TOfILZJDg"
      },
      "execution_count": null,
      "outputs": []
    },
    {
      "cell_type": "code",
      "source": [
        "# Plotting figure 4\n",
        "@interact(Period = period_list)\n",
        "def plot_fig_4(Period):\n",
        "  df = tb_1a_m[tb_1a_m['period']==Period][['period', 'dekning', 'perc']].copy()\n",
        "  df = df.groupby(by=['period','dekning']).agg(perc_total = ('perc','sum')).reset_index()\n",
        "  #return df\n",
        "  colors_fig_4 = {'Dekning': '#ecc541', 'Annet': '#929291'}\n",
        "  fig_4 = px.bar(df, x='period', y='perc_total', color='dekning', title=f'{Period}', barmode='stack', \n",
        "                       text_auto='1%', width=400, height=500, color_discrete_map=colors_fig_4)\n",
        "  fig_4.update_layout({'plot_bgcolor': '#ffffff'}, title_font_size=16, title_x=0.5, yaxis_tickformat='1%')\n",
        "  fig_4.show()"
      ],
      "metadata": {
        "id": "4guJCKFa0ytK"
      },
      "execution_count": null,
      "outputs": []
    },
    {
      "cell_type": "code",
      "source": [
        "# Plotting figure 5\n",
        "def plot_fig_5():\n",
        "  colors_5 = {'Vi ble kontaktet av en selger': '#ecc541', 'Vi tok initiativ selv': '#929291'}\n",
        "  fig_5 = px.bar(tb_1b_m, x='period', y='perc', color='question', title=f'Kontakttype over tid',\n",
        "                  text_auto='1%', width=800, height=500, color_discrete_map=colors_5)\n",
        "  fig_5.update_layout({'plot_bgcolor': '#ffffff'}, title_font_size=16, title_x=0.5, yaxis_tickformat = '1%')\n",
        "  fig_5.show()\n",
        "\n",
        "plot_fig_5()"
      ],
      "metadata": {
        "id": "Kr_5vVK-tvxl"
      },
      "execution_count": null,
      "outputs": []
    },
    {
      "cell_type": "code",
      "source": [
        "# Plotting figure 6\n",
        "def plot_fig_6():\n",
        "  colors_6 = {'Dekning': '#ecc541', 'Annet': '#929291'}\n",
        "  df = tb_1a_m.copy().groupby(by=['period', 'dekning']).agg(dekning_samlet = ('perc', 'sum')).reset_index()\n",
        "  fig_6 = px.bar(df, x='period', y='dekning_samlet', color='dekning', title='Dekning kontra andre årsaker over tid', barmode='group',\n",
        "                   text_auto='1%', width=800, height=500, color_discrete_map=colors_6)\n",
        "  fig_6.update_layout({'plot_bgcolor': '#ffffff'}, title_font_size=16, title_x=0.5, yaxis_tickformat = '1%')\n",
        "  #fig_6.update_yaxes(range=[0.0, 1])\n",
        "  fig_6.show()\n",
        "\n",
        "plot_fig_6()"
      ],
      "metadata": {
        "id": "e1dISbG16PQL"
      },
      "execution_count": null,
      "outputs": []
    },
    {
      "cell_type": "code",
      "source": [
        "# Plotting figure 7\n",
        "def plot_fig_7():\n",
        "  df = df1[['year','answereddatetime', 'month']].copy()\n",
        "  df = df.groupby(by=['answereddatetime']).agg(responses = ('year', 'count')).reset_index()\n",
        "  df = df.rename(columns={'answereddatetime': 'date'})\n",
        "  fig_7 = px.histogram(df, x='date', y='responses', text_auto=True,\n",
        "                        nbins=18, title=f'Antall svar over tid', width=800, height=500)\n",
        "  fig_7.update_layout({'plot_bgcolor': '#ffffff'}, title_font_size=16, title_x=0.5, bargap=0.05)\n",
        "  fig_7.update_traces(marker_color='#ecc541')\n",
        "  fig_7.show()\n",
        "\n",
        "plot_fig_7()"
      ],
      "metadata": {
        "id": "CIOPFNAgiimm"
      },
      "execution_count": null,
      "outputs": []
    },
    {
      "cell_type": "code",
      "source": [
        "# Plotting figure 8\n",
        "@interact(Period = period_list)\n",
        "def plot_fig_8(Period):\n",
        "  df = df1[df1['period']==Period][['year','period','day']].copy()\n",
        "  df = df.groupby(by=['year', 'day']).agg(responses = ('year', 'count')).reset_index()\n",
        "  df = df.assign(day = df['day'].str[:3])\n",
        "  cat_ord_8 = {'day': ['Mon','Tue','Wed','Thu','Fri','Sat','Sun']}\n",
        "  fig_8 = px.histogram(df, x='day', y='responses', text_auto=True, category_orders=cat_ord_8,\n",
        "                        title=f'{Period} - Svarer etter ukedager', width=400, height=500)\n",
        "  fig_8.update_layout({'plot_bgcolor': '#ffffff'}, title_font_size=16, title_x=0.5, bargap=0.05)\n",
        "  fig_8.update_traces(marker_color='#ecc541')\n",
        "  fig_8.show()"
      ],
      "metadata": {
        "id": "4c0C8ygLxitM"
      },
      "execution_count": null,
      "outputs": []
    },
    {
      "cell_type": "code",
      "source": [
        "# Plotting figure 9\n",
        "@interact(Period = period_list)\n",
        "def plot_fig_9(Period):\n",
        "  df = df1[df1['period']==Period][['year', 'period','hour']].copy()\n",
        "  df = df.groupby(by=['year', 'hour']).agg(responses = ('year', 'count')).reset_index()\n",
        "  df = df.assign(perc = round(df['responses']/sum(df['responses']), 3))\n",
        "  fig_9 = px.histogram(df, x='hour', y='perc', text_auto='1%', nbins=12,\n",
        "                        title=f'{Period} - Svarer etter timer', width=600, height=500)\n",
        "  fig_9.update_layout({'plot_bgcolor': '#ffffff'}, title_font_size=16, title_x=0.5, bargap=0.05)\n",
        "  fig_9.update_traces(marker_color='#ecc541')\n",
        "  fig_9.update_yaxes(tickformat='1%')\n",
        "  fig_9.show()"
      ],
      "metadata": {
        "id": "b06DcE_jngj6"
      },
      "execution_count": null,
      "outputs": []
    },
    {
      "cell_type": "code",
      "source": [
        "# Plotting figure 10\n",
        "def plot_fig_10():\n",
        "  df = df1_e.groupby(by=['category']).agg(perc_total = ('perc', 'sum')).reset_index().copy()\n",
        "  period = df1_e['period'][0]\n",
        "  colors_10 = {'dekning':'#ecc541', 'pris/tilbud':'#b2b2b2', 'kundeservice':'#ff6973', 'annet':'#ff8700'}\n",
        "  fig_10 = px.bar(df, x='category', y='perc_total', color='category', title=f'{period} Hva gjorde at dere valgte å forlate oss akkurat nå?', \n",
        "                       text_auto='1%', width=400, height=500, color_discrete_map=colors_10)\n",
        "  fig_10.update_layout({'plot_bgcolor': '#ffffff'}, title_font_size=12, title_x=0.5, yaxis_tickformat='1%')\n",
        "  fig_10.show()\n",
        "\n",
        "plot_fig_10()"
      ],
      "metadata": {
        "id": "3URcyTjxgKgX"
      },
      "execution_count": null,
      "outputs": []
    },
    {
      "cell_type": "code",
      "source": [
        "# Plotting figure 11\n",
        "x_11 = ['dekning', 'pris/tilbud', 'kundeservice', 'annet']\n",
        "y_11 = [0.64,0.21,0.04,0.10]\n",
        "df_11 = pd.DataFrame(list(zip(x_11, y_11)), columns=['category', 'perc'])\n",
        "\n",
        "def plot_fig_11():\n",
        "  colors_11 = {'dekning':'#ecc541', 'pris/tilbud':'#b2b2b2', 'kundeservice':'#ff6973', 'annet':'#ff8700'}\n",
        "  fig_11 = px.bar(df_11, x='category', y='perc', color='category',\n",
        "                  #title='2022-Q3 Hva gjorde at dere valgte den nye operatøren?',\n",
        "                  title='2022-Q3 Hva gjorde at dere valgte å forlate oss akkurat nå?',\n",
        "                  text_auto='1%', width=400, height=500, color_discrete_map=colors_11)\n",
        "  fig_11.update_layout({'plot_bgcolor': '#ffffff'}, title_font_size=12, title_x=0.5, yaxis_tickformat='1%')\n",
        "  fig_11.show()\n",
        "\n",
        "plot_fig_11()"
      ],
      "metadata": {
        "id": "h0Jqrz5lc_ti"
      },
      "execution_count": null,
      "outputs": []
    },
    {
      "cell_type": "code",
      "source": [
        "# Plotting figure 18\n",
        "def plot_fig_18():\n",
        "  cat_ord_18 = {'question': ['Dekning', 'Bedre_tilbud', 'Data/surfekvalitet', 'Annet', 'Kundeservice',\n",
        "                             'Utlandstjenesten', 'Privat_abo', 'Tvangsavvikling']}\n",
        "  fig_18 = px.area(tb_1a_m, x='period', y='perc', facet_col='question', color='question', facet_col_wrap=2, category_orders=cat_ord_18,\n",
        "                  text='perc', facet_col_spacing=0.1, title=f'Trend etter årsak', width=900, height=500)\n",
        "  fig_18.update_layout(title_font_size=16, title_x=0.5)\n",
        "  fig_18.update_traces(textfont_size=10, textposition='top left', texttemplate='%{y:1%}')\n",
        "  fig_18.update_yaxes(tickformat='1%', tickfont = dict(size=10))\n",
        "  fig_18.update_xaxes(tickfont = dict(size=10))\n",
        "  fig_18.show()\n",
        "\n",
        "plot_fig_18()"
      ],
      "metadata": {
        "id": "w2Y8l800cR4a"
      },
      "execution_count": null,
      "outputs": []
    }
  ]
}