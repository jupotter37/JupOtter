{
 "cells": [
  {
   "cell_type": "markdown",
   "id": "7634a4a9",
   "metadata": {},
   "source": [
    "## Final Project\n"
   ]
  },
  {
   "cell_type": "markdown",
   "id": "e07465ec",
   "metadata": {},
   "source": [
    "## Introduction\n",
    "\n",
    "Welcome to this notebook! In this notebook, we will explore various tools used in data science to analyze, visualize, and interpret data. Understanding these tools is crucial for efficiently handling and deriving insights from data in a data science workflow.\n",
    "\n",
    "Here are some key tools we will cover:\n",
    "- **Jupyter Notebooks**: An interactive environment for writing and sharing code, visualizations, and narratives.\n",
    "- **Python Libraries**: Tools such as Pandas for data manipulation, NumPy for numerical computing, and Scikit-learn for machine learning.\n",
    "- **R and RStudio**: A programming language and IDE specifically designed for statistical computing and graphics.\n",
    "- **SQL**: A language used for managing and querying relational databases.\n",
    "- **Visualization Tools**: Libraries like Matplotlib, Seaborn, and Plotly for creating a wide range of visualizations.\n",
    "\n",
    "Let's get started!"
   ]
  },
  {
   "cell_type": "markdown",
   "id": "0bc54df1",
   "metadata": {},
   "source": [
    "## Data Science Languages\n",
    "\n",
    "Data science relies on a variety of programming languages, each offering unique features and capabilities. Here are some of the most commonly used languages in the field:\n",
    "\n",
    "- **Python**: Widely used for its simplicity and extensive libraries (e.g., Pandas, NumPy, Scikit-learn) that support data analysis, machine learning, and visualization.\n",
    "- **R**: A language specifically designed for statistical computing and graphics, popular for data analysis and visualization tasks.\n",
    "- **SQL**: Used for managing and querying relational databases, essential for data extraction and manipulation.\n",
    "- **Julia**: Known for its high performance and suitability for numerical and scientific computing.\n",
    "- **SAS**: A software suite used for advanced analytics, business intelligence, and data management.\n",
    "\n",
    "Each of these languages has its strengths and is chosen based on the specific needs of a data science project.\n",
    "\n"
   ]
  },
  {
   "cell_type": "markdown",
   "id": "a8edb3b2",
   "metadata": {},
   "source": [
    "## Data Science Libraries\n",
    "\n",
    "Data science libraries provide essential tools for data manipulation, analysis, and visualization. Here are some key libraries used in data science:\n",
    "\n",
    "- **Pandas**: A powerful library in Python for data manipulation and analysis, providing data structures like DataFrames for handling structured data.\n",
    "- **NumPy**: Provides support for large, multi-dimensional arrays and matrices, along with a collection of mathematical functions to operate on these arrays.\n",
    "- **Scikit-learn**: A Python library for machine learning that offers simple and efficient tools for data mining and data analysis, including algorithms for classification, regression, and clustering.\n",
    "- **Matplotlib**: A plotting library for Python that provides a wide range of visualizations, from simple line plots to complex heatmaps.\n",
    "- **Seaborn**: Built on top of Matplotlib, Seaborn simplifies the creation of attractive and informative statistical graphics.\n",
    "- **Plotly**: A library for interactive, web-based visualizations that supports a wide range of chart types and is highly customizable.\n",
    "- **TensorFlow**: An open-source library for deep learning and machine learning developed by Google, used for building and training neural networks.\n",
    "- **Keras**: A high-level neural networks API, written in Python, that runs on top of TensorFlow and simplifies the process of building and training deep learning models.\n",
    "- **ggplot2**: A data visualization package for R that implements the Grammar of Graphics, making it easy to create complex and multi-layered plots.\n",
    "\n",
    "These libraries are essential for different stages of a data science project, from data cleaning and transformation to visualization and machine learning.\n",
    "\n",
    "\n",
    "\n",
    "\n",
    "\n",
    "\n",
    "\n"
   ]
  },
  {
   "cell_type": "markdown",
   "id": "029f92da",
   "metadata": {},
   "source": [
    "## Data Science Tools\n",
    "\n",
    "Below is a table summarizing some key tools used in data science, categorized by their primary functions:\n",
    "\n",
    "| Tool           | Type                | Description                                                   |\n",
    "|----------------|---------------------|---------------------------------------------------------------|\n",
    "| **Jupyter Notebook** | Environment       | An interactive environment for writing and sharing code, visualizations, and narratives. |\n",
    "| **Python**     | Programming Language | A versatile language with extensive libraries for data analysis, machine learning, and more. |\n",
    "| **R**           | Programming Language | A language specialized in statistical computing and graphics. |\n",
    "| **Pandas**      | Library             | A Python library for data manipulation and analysis using DataFrames. |\n",
    "| **NumPy**       | Library             | A Python library for numerical computing and handling arrays. |\n",
    "| **Scikit-learn**| Library             | A Python library for machine learning with tools for classification, regression, and clustering. |\n",
    "| **Matplotlib**  | Library             | A Python library for creating static, animated, and interactive visualizations. |\n",
    "| **Seaborn**     | Library             | A Python library for statistical data visualization built on top of Matplotlib. |\n",
    "| **Plotly**      | Library             | A library for interactive web-based visualizations. |\n",
    "| **TensorFlow**  | Library             | An open-source library for deep learning and machine learning developed by Google. |\n",
    "| **Keras**       | Library             | A high-level API for building and training deep learning models, running on top of TensorFlow. |\n",
    "| **ggplot2**     | Library             | A data visualization package for R based on the Grammar of Graphics. |\n",
    "| **SQL**         | Language             | A language for managing and querying relational databases. |\n",
    "\n",
    "This table provides an overview of essential tools and libraries used across different stages of data science workflows."
   ]
  },
  {
   "cell_type": "markdown",
   "id": "6371e6fe",
   "metadata": {},
   "source": [
    "## Arithmetic Expression Examples\n",
    "\n",
    "In this section, we will explore various basic arithmetic operations and expressions. Arithmetic operations are fundamental for performing calculations and manipulating data. Below are examples of these operations:\n",
    "\n",
    "- **Addition**: Adding two numbers.\n",
    "  ```python\n",
    "  5 + 3  # Result: 8\n",
    "- **Subtraction**: Subtracting two numbers.\n",
    "  ```python\n",
    "  5 - 3  # Result: 2\n",
    "- **Multiplication**: Multiplying two numbers.\n",
    "  ```python\n",
    "  5 * 3  # Result: 15\n",
    "- **Division**: Dividing two numbers.\n",
    "  ```python\n",
    "  5 / 3  # Result: 1.6666666666666667\n",
    "- **Exponentiation**: Finding the result of raising one number to the power of another.\n",
    "  ```python\n",
    "  5 ** 3  # Result: 125\n",
    "- **Modulo**: Finding the remainder after division.\n",
    "  ```python\n",
    "  5 % 3  # Result: 2\n",
    "```"
   ]
  },
  {
   "cell_type": "code",
   "execution_count": 4,
   "id": "cc6493b9",
   "metadata": {},
   "outputs": [
    {
     "name": "stdout",
     "output_type": "stream",
     "text": [
      "Multiplication Result: 40\n",
      "Addition Result: 13\n"
     ]
    }
   ],
   "source": [
    "# Define the numbers\n",
    "number1 = 8\n",
    "number2 = 5\n",
    "\n",
    "# Perform multiplication\n",
    "multiplication_result = number1 * number2\n",
    "\n",
    "# Perform addition\n",
    "addition_result = number1 + number2\n",
    "\n",
    "# Display the results\n",
    "print(\"Multiplication Result:\", multiplication_result)\n",
    "print(\"Addition Result:\", addition_result)"
   ]
  },
  {
   "cell_type": "code",
   "execution_count": 5,
   "id": "4aebbfb9",
   "metadata": {},
   "outputs": [
    {
     "name": "stdout",
     "output_type": "stream",
     "text": [
      "120 minutes is equal to 2.0 hours\n"
     ]
    }
   ],
   "source": [
    "# Define the number of minutes\n",
    "minutes = 120\n",
    "\n",
    "# Convert minutes to hours\n",
    "hours = minutes / 60\n",
    "\n",
    "# Display the result\n",
    "print(f\"{minutes} minutes is equal to {hours} hours\")"
   ]
  },
  {
   "cell_type": "markdown",
   "id": "ad685e3b",
   "metadata": {},
   "source": [
    "## Objectives\n",
    "\n",
    "In this notebook, we aim to achieve the following objectives:\n",
    "\n",
    "1. **Understand Basic Arithmetic Operations**: Learn and apply fundamental arithmetic operations including addition, subtraction, multiplication, division, exponentiation, and modulus.\n",
    "\n",
    "2. **Perform Calculations**: Use Python to perform and demonstrate calculations involving basic arithmetic operations.\n",
    "\n",
    "3. **Convert Units**: Implement code to convert units, such as converting minutes to hours, to understand practical applications of arithmetic in data processing.\n",
    "\n",
    "4. **Work with Code Cells**: Develop and run Python code cells to execute arithmetic operations and conversions, and display results effectively.\n",
    "\n",
    "5. **Learn Markdown Formatting**: Use Markdown cells to document and organize content clearly, including objectives, explanations, and code results."
   ]
  },
  {
   "cell_type": "markdown",
   "id": "bf85d66a",
   "metadata": {},
   "source": [
    "## Ipsit Chandra"
   ]
  },
  {
   "cell_type": "code",
   "execution_count": null,
   "id": "56b1a4d2",
   "metadata": {},
   "outputs": [],
   "source": []
  }
 ],
 "metadata": {
  "kernelspec": {
   "display_name": "Python 3 (ipykernel)",
   "language": "python",
   "name": "python3"
  },
  "language_info": {
   "codemirror_mode": {
    "name": "ipython",
    "version": 3
   },
   "file_extension": ".py",
   "mimetype": "text/x-python",
   "name": "python",
   "nbconvert_exporter": "python",
   "pygments_lexer": "ipython3",
   "version": "3.11.5"
  }
 },
 "nbformat": 4,
 "nbformat_minor": 5
}
