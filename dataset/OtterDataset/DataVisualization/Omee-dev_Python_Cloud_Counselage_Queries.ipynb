{
 "cells": [
  {
   "cell_type": "markdown",
   "metadata": {},
   "source": [
    "<img src=\"./Basic.png\"></img>\n",
    "<img src=\"./Moderate.png\"></img>"
   ]
  },
  {
   "cell_type": "markdown",
   "metadata": {},
   "source": [
    "Query 1 - How many unique students are included in the dataset?\n",
    "Query 2 - What is average GPA of the students?\n",
    "Query 3 - What is the distribution of students across different graduation years?\n",
    "Query 4 -  What is the distribution of students experience with Python Programming?\n",
    "\n",
    "Query 5 - What is the average family income of the students?\n",
    "Query 6 - How does GPA vary among different colleges(Show top 5 results)?\n",
    "Query 7 - Are there any outliers in the 'attending status' & 'quantity(numbers of courses completed)' attribute?\n",
    "Query 8 - What is the average GPA for student from each city?\n",
    "Query 9 - Can we identity any relationship between family income and GPA?\n",
    "# Moderate\n",
    "Query 10 - How does the expected salary vary based on factors like 'GPA', 'Family income', 'Experience with python (Months)'?      \n",
    "Query 11 -Which event tend to attract more students from specific fields of study?\n",
    "Query 12 - Do students in leadership positions in their college years tend to have higher GPAs or better expected salary?\n",
    "Query 13 - Is there a correlationship\n",
    "positions during their college years tend to have higher GPAs or better expected salary?\n",
    "\n",
    "Query 14 - How many students are graduating by the end of 2024?\n",
    "Query 15 - Which promotion channel brings in more student participations for the event?\n",
    "Query 16 - Find the total number of students who attended the events related to Data Science? (From all Data\n",
    "Science related courses.)\n",
    "Query 17 - Those who have high CGPA & More experience in language those who had high expectations for\n",
    "salary? (Avg)\n",
    "Query 18 - How students know about the event from their colleges? Which of these top 5 colleges?"
   ]
  },
  {
   "cell_type": "code",
   "execution_count": null,
   "metadata": {},
   "outputs": [],
   "source": []
  },
  {
   "cell_type": "markdown",
   "metadata": {},
   "source": [
    "[\"Query 1 - How many unique students are included in the dataset?\"\n",
    ",\"Query 2 - What is average GPA of the students?\"\n",
    ",\"Query 3 - What is the distribution of students across different graduation years?\"\n",
    ",\"Query 4 -  What is the distribution of students experience with Python Programming?\"\n",
    ",\"Query 5 - What is the average family income of the students?\"\n",
    ",\"Query 6 - How does GPA vary among different colleges(Show top 5 results)?\"\n",
    ",\"Query 7 - Are there any outliers in the 'attending status' & 'quantity(numbers of courses completed)' attribute?\"\n",
    ",\"Query 8 - What is the average GPA for student from each city?\"\n",
    ",\"Query 9 - Can we identity any relationship between family income and GPA?\"\n",
    ",\"Query 10 - How does the expected salary vary based on factors like 'GPA', 'Family income', 'Experience with python (Months)'?\"\n",
    ",\"Query 11 -Which event tend to attract more students from specific fields of study?\"\n",
    ",\"Query 12 - Do students in leadership positions in their college years tend to have higher GPAs or better expected salary?\"\n",
    ",\"Query 13 - Is there a correlationship positions during their college years tend to have higher GPAs or better expected salary?\"\n",
    ",\"Query 14 - How many students are graduating by the end of 2024?\"\n",
    ",\"Query 15 - Which promotion channel brings in more student participations for the event?\"\n",
    ",\"Query 16 - Find the total number of students who attended the events related to Data Science? (From all Data Science related courses.)\"\n",
    ",\"Query 17 - Those who have high CGPA & More experience in language those who had high expectations for salary? (Avg)\"\n",
    ",\"Query 18 - How students know about the event from their colleges? Which of these top 5 colleges?]\""
   ]
  },
  {
   "cell_type": "code",
   "execution_count": 2,
   "metadata": {},
   "outputs": [],
   "source": [
    "import pandas as pd\n",
    "import numpy as np\n",
    "import matplotlib.pyplot as plt\n",
    "import seaborn as sns\n",
    "#pd.set_option('future.no_silent_downcasting', True)"
   ]
  },
  {
   "cell_type": "code",
   "execution_count": 3,
   "metadata": {},
   "outputs": [],
   "source": [
    "path = \"./Input/Data analyst Data.xlsx\"\n",
    "df = pd.read_excel(path)"
   ]
  },
  {
   "cell_type": "code",
   "execution_count": 4,
   "metadata": {},
   "outputs": [
    {
     "data": {
      "text/html": [
       "<div>\n",
       "<style scoped>\n",
       "    .dataframe tbody tr th:only-of-type {\n",
       "        vertical-align: middle;\n",
       "    }\n",
       "\n",
       "    .dataframe tbody tr th {\n",
       "        vertical-align: top;\n",
       "    }\n",
       "\n",
       "    .dataframe thead th {\n",
       "        text-align: right;\n",
       "    }\n",
       "</style>\n",
       "<table border=\"1\" class=\"dataframe\">\n",
       "  <thead>\n",
       "    <tr style=\"text-align: right;\">\n",
       "      <th></th>\n",
       "      <th>First Name</th>\n",
       "      <th>Email ID</th>\n",
       "      <th>Quantity</th>\n",
       "      <th>Events</th>\n",
       "      <th>Attendee Status</th>\n",
       "      <th>College Name</th>\n",
       "      <th>How did you come to know about this event?</th>\n",
       "      <th>Specify in \"Others\" (how did you come to know about this event)</th>\n",
       "      <th>Designation</th>\n",
       "      <th>Year of Graduation</th>\n",
       "      <th>City</th>\n",
       "      <th>CGPA</th>\n",
       "      <th>Experience with python (Months)</th>\n",
       "      <th>Family Income</th>\n",
       "      <th>Expected salary (Lac)</th>\n",
       "      <th>Leadership- skills</th>\n",
       "    </tr>\n",
       "  </thead>\n",
       "  <tbody>\n",
       "    <tr>\n",
       "      <th>0</th>\n",
       "      <td>ANIKET</td>\n",
       "      <td>aniket@xyz.com</td>\n",
       "      <td>1</td>\n",
       "      <td>Art of Resume Building</td>\n",
       "      <td>Attending</td>\n",
       "      <td>D Y PATIL INSTITUTE OF MCA AND MANAGEMENT AKUR...</td>\n",
       "      <td>Email</td>\n",
       "      <td>NaN</td>\n",
       "      <td>Students</td>\n",
       "      <td>2024</td>\n",
       "      <td>Patna</td>\n",
       "      <td>6.7</td>\n",
       "      <td>7</td>\n",
       "      <td>7 Lakh+</td>\n",
       "      <td>6</td>\n",
       "      <td>yes</td>\n",
       "    </tr>\n",
       "    <tr>\n",
       "      <th>1</th>\n",
       "      <td>Dhanshree</td>\n",
       "      <td>dhanshree@xyz.com</td>\n",
       "      <td>1</td>\n",
       "      <td>Art of Resume Building</td>\n",
       "      <td>Attending</td>\n",
       "      <td>AP SHAH INSTITUTE OF TECHNOLOGY</td>\n",
       "      <td>Others</td>\n",
       "      <td>College</td>\n",
       "      <td>Students</td>\n",
       "      <td>2024</td>\n",
       "      <td>Amravati</td>\n",
       "      <td>8.2</td>\n",
       "      <td>3</td>\n",
       "      <td>0-2 Lakh</td>\n",
       "      <td>7</td>\n",
       "      <td>no</td>\n",
       "    </tr>\n",
       "    <tr>\n",
       "      <th>2</th>\n",
       "      <td>Dhiraj</td>\n",
       "      <td>dhiraj@xyz.com</td>\n",
       "      <td>1</td>\n",
       "      <td>Art of Resume Building</td>\n",
       "      <td>Attending</td>\n",
       "      <td>Don Bosco College of Engineering Fatorda Goa</td>\n",
       "      <td>Email</td>\n",
       "      <td>NaN</td>\n",
       "      <td>Students</td>\n",
       "      <td>2023</td>\n",
       "      <td>Kunrool</td>\n",
       "      <td>6.5</td>\n",
       "      <td>4</td>\n",
       "      <td>5-7 Lakh</td>\n",
       "      <td>7</td>\n",
       "      <td>no</td>\n",
       "    </tr>\n",
       "    <tr>\n",
       "      <th>3</th>\n",
       "      <td>Pooja</td>\n",
       "      <td>pooja@xyz.com</td>\n",
       "      <td>1</td>\n",
       "      <td>Art of Resume Building</td>\n",
       "      <td>Attending</td>\n",
       "      <td>Pillai College of Engineering New Panvel</td>\n",
       "      <td>Email</td>\n",
       "      <td>NaN</td>\n",
       "      <td>Students</td>\n",
       "      <td>2025</td>\n",
       "      <td>Tirupati</td>\n",
       "      <td>8.7</td>\n",
       "      <td>7</td>\n",
       "      <td>2-5 Lakh</td>\n",
       "      <td>8</td>\n",
       "      <td>no</td>\n",
       "    </tr>\n",
       "    <tr>\n",
       "      <th>4</th>\n",
       "      <td>Aayush</td>\n",
       "      <td>aayush@xyz.com</td>\n",
       "      <td>1</td>\n",
       "      <td>Art of Resume Building</td>\n",
       "      <td>Attending</td>\n",
       "      <td>St Xavier's College</td>\n",
       "      <td>Instagram | LinkedIn | Cloud Counselage Website</td>\n",
       "      <td>NaN</td>\n",
       "      <td>Students</td>\n",
       "      <td>2024</td>\n",
       "      <td>Vijaywada</td>\n",
       "      <td>9.1</td>\n",
       "      <td>3</td>\n",
       "      <td>0-2 Lakh</td>\n",
       "      <td>10</td>\n",
       "      <td>yes</td>\n",
       "    </tr>\n",
       "    <tr>\n",
       "      <th>...</th>\n",
       "      <td>...</td>\n",
       "      <td>...</td>\n",
       "      <td>...</td>\n",
       "      <td>...</td>\n",
       "      <td>...</td>\n",
       "      <td>...</td>\n",
       "      <td>...</td>\n",
       "      <td>...</td>\n",
       "      <td>...</td>\n",
       "      <td>...</td>\n",
       "      <td>...</td>\n",
       "      <td>...</td>\n",
       "      <td>...</td>\n",
       "      <td>...</td>\n",
       "      <td>...</td>\n",
       "      <td>...</td>\n",
       "    </tr>\n",
       "    <tr>\n",
       "      <th>4889</th>\n",
       "      <td>Patel Niraj</td>\n",
       "      <td>patelniraj@xyz.com</td>\n",
       "      <td>1</td>\n",
       "      <td>The SDLC &amp; their transformations</td>\n",
       "      <td>Attending</td>\n",
       "      <td>thakur institute of management studies, career...</td>\n",
       "      <td>LinkedIn | Whatsapp | Email</td>\n",
       "      <td>NaN</td>\n",
       "      <td>Students</td>\n",
       "      <td>2024</td>\n",
       "      <td>Jodhpur</td>\n",
       "      <td>6.9</td>\n",
       "      <td>6</td>\n",
       "      <td>0-2 Lakh</td>\n",
       "      <td>15</td>\n",
       "      <td>yes</td>\n",
       "    </tr>\n",
       "    <tr>\n",
       "      <th>4890</th>\n",
       "      <td>VIDIT</td>\n",
       "      <td>vidit@xyz.com</td>\n",
       "      <td>1</td>\n",
       "      <td>Data Visualization using Power BI</td>\n",
       "      <td>Attending</td>\n",
       "      <td>government polytechnic gandhinagar</td>\n",
       "      <td>NaN</td>\n",
       "      <td>NaN</td>\n",
       "      <td>Students</td>\n",
       "      <td>2023</td>\n",
       "      <td>Jalgaon</td>\n",
       "      <td>6.5</td>\n",
       "      <td>6</td>\n",
       "      <td>0-2 Lakh</td>\n",
       "      <td>8</td>\n",
       "      <td>no</td>\n",
       "    </tr>\n",
       "    <tr>\n",
       "      <th>4891</th>\n",
       "      <td>Suryaprakash</td>\n",
       "      <td>suryaprakash@xyz.com</td>\n",
       "      <td>1</td>\n",
       "      <td>Data Visualization using Power BI</td>\n",
       "      <td>Attending</td>\n",
       "      <td>vishwakarma institute of technology, pune</td>\n",
       "      <td>NaN</td>\n",
       "      <td>NaN</td>\n",
       "      <td>Students</td>\n",
       "      <td>2024</td>\n",
       "      <td>Thane</td>\n",
       "      <td>6.9</td>\n",
       "      <td>5</td>\n",
       "      <td>0-2 Lakh</td>\n",
       "      <td>7</td>\n",
       "      <td>no</td>\n",
       "    </tr>\n",
       "    <tr>\n",
       "      <th>4892</th>\n",
       "      <td>Saif ali</td>\n",
       "      <td>saifali@xyz.com</td>\n",
       "      <td>1</td>\n",
       "      <td>Data Visualization using Power BI</td>\n",
       "      <td>Attending</td>\n",
       "      <td>mit academy of engineering ,alandi</td>\n",
       "      <td>NaN</td>\n",
       "      <td>NaN</td>\n",
       "      <td>Students</td>\n",
       "      <td>2024</td>\n",
       "      <td>Patiala</td>\n",
       "      <td>9.0</td>\n",
       "      <td>3</td>\n",
       "      <td>0-2 Lakh</td>\n",
       "      <td>23</td>\n",
       "      <td>yes</td>\n",
       "    </tr>\n",
       "    <tr>\n",
       "      <th>4893</th>\n",
       "      <td>Lankesh</td>\n",
       "      <td>lankesh@xyz.com</td>\n",
       "      <td>1</td>\n",
       "      <td>Data Visualization using Power BI</td>\n",
       "      <td>Attending</td>\n",
       "      <td>a. c. patil college of engineering</td>\n",
       "      <td>NaN</td>\n",
       "      <td>NaN</td>\n",
       "      <td>Students</td>\n",
       "      <td>2025</td>\n",
       "      <td>Sangrur</td>\n",
       "      <td>7.2</td>\n",
       "      <td>8</td>\n",
       "      <td>0-2 Lakh</td>\n",
       "      <td>9</td>\n",
       "      <td>yes</td>\n",
       "    </tr>\n",
       "  </tbody>\n",
       "</table>\n",
       "<p>4894 rows × 16 columns</p>\n",
       "</div>"
      ],
      "text/plain": [
       "        First Name              Email ID  Quantity  \\\n",
       "0           ANIKET        aniket@xyz.com         1   \n",
       "1        Dhanshree     dhanshree@xyz.com         1   \n",
       "2           Dhiraj        dhiraj@xyz.com         1   \n",
       "3            Pooja         pooja@xyz.com         1   \n",
       "4           Aayush        aayush@xyz.com         1   \n",
       "...            ...                   ...       ...   \n",
       "4889   Patel Niraj    patelniraj@xyz.com         1   \n",
       "4890         VIDIT         vidit@xyz.com         1   \n",
       "4891  Suryaprakash  suryaprakash@xyz.com         1   \n",
       "4892      Saif ali       saifali@xyz.com         1   \n",
       "4893       Lankesh       lankesh@xyz.com         1   \n",
       "\n",
       "                                 Events Attendee Status  \\\n",
       "0                Art of Resume Building       Attending   \n",
       "1                Art of Resume Building       Attending   \n",
       "2                Art of Resume Building       Attending   \n",
       "3                Art of Resume Building       Attending   \n",
       "4                Art of Resume Building       Attending   \n",
       "...                                 ...             ...   \n",
       "4889   The SDLC & their transformations       Attending   \n",
       "4890  Data Visualization using Power BI       Attending   \n",
       "4891  Data Visualization using Power BI       Attending   \n",
       "4892  Data Visualization using Power BI       Attending   \n",
       "4893  Data Visualization using Power BI       Attending   \n",
       "\n",
       "                                           College Name  \\\n",
       "0     D Y PATIL INSTITUTE OF MCA AND MANAGEMENT AKUR...   \n",
       "1                      AP SHAH INSTITUTE OF TECHNOLOGY    \n",
       "2          Don Bosco College of Engineering Fatorda Goa   \n",
       "3              Pillai College of Engineering New Panvel   \n",
       "4                                  St Xavier's College    \n",
       "...                                                 ...   \n",
       "4889  thakur institute of management studies, career...   \n",
       "4890                 government polytechnic gandhinagar   \n",
       "4891          vishwakarma institute of technology, pune   \n",
       "4892                 mit academy of engineering ,alandi   \n",
       "4893                 a. c. patil college of engineering   \n",
       "\n",
       "           How did you come to know about this event?  \\\n",
       "0                                               Email   \n",
       "1                                              Others   \n",
       "2                                               Email   \n",
       "3                                               Email   \n",
       "4     Instagram | LinkedIn | Cloud Counselage Website   \n",
       "...                                               ...   \n",
       "4889                      LinkedIn | Whatsapp | Email   \n",
       "4890                                              NaN   \n",
       "4891                                              NaN   \n",
       "4892                                              NaN   \n",
       "4893                                              NaN   \n",
       "\n",
       "     Specify in \"Others\" (how did you come to know about this event)  \\\n",
       "0                                                   NaN                \n",
       "1                                               College                \n",
       "2                                                   NaN                \n",
       "3                                                   NaN                \n",
       "4                                                   NaN                \n",
       "...                                                 ...                \n",
       "4889                                                NaN                \n",
       "4890                                                NaN                \n",
       "4891                                                NaN                \n",
       "4892                                                NaN                \n",
       "4893                                                NaN                \n",
       "\n",
       "     Designation  Year of Graduation       City  CGPA  \\\n",
       "0       Students                2024      Patna   6.7   \n",
       "1       Students                2024   Amravati   8.2   \n",
       "2       Students                2023    Kunrool   6.5   \n",
       "3       Students                2025   Tirupati   8.7   \n",
       "4       Students                2024  Vijaywada   9.1   \n",
       "...          ...                 ...        ...   ...   \n",
       "4889    Students                2024    Jodhpur   6.9   \n",
       "4890    Students                2023    Jalgaon   6.5   \n",
       "4891    Students                2024      Thane   6.9   \n",
       "4892    Students                2024    Patiala   9.0   \n",
       "4893    Students                2025    Sangrur   7.2   \n",
       "\n",
       "      Experience with python (Months) Family Income  Expected salary (Lac)  \\\n",
       "0                                   7       7 Lakh+                      6   \n",
       "1                                   3      0-2 Lakh                      7   \n",
       "2                                   4      5-7 Lakh                      7   \n",
       "3                                   7      2-5 Lakh                      8   \n",
       "4                                   3      0-2 Lakh                     10   \n",
       "...                               ...           ...                    ...   \n",
       "4889                                6      0-2 Lakh                     15   \n",
       "4890                                6      0-2 Lakh                      8   \n",
       "4891                                5      0-2 Lakh                      7   \n",
       "4892                                3      0-2 Lakh                     23   \n",
       "4893                                8      0-2 Lakh                      9   \n",
       "\n",
       "     Leadership- skills  \n",
       "0                   yes  \n",
       "1                    no  \n",
       "2                    no  \n",
       "3                    no  \n",
       "4                   yes  \n",
       "...                 ...  \n",
       "4889                yes  \n",
       "4890                 no  \n",
       "4891                 no  \n",
       "4892                yes  \n",
       "4893                yes  \n",
       "\n",
       "[4894 rows x 16 columns]"
      ]
     },
     "execution_count": 4,
     "metadata": {},
     "output_type": "execute_result"
    }
   ],
   "source": [
    "df"
   ]
  },
  {
   "cell_type": "markdown",
   "metadata": {},
   "source": [
    "Null Values"
   ]
  },
  {
   "cell_type": "code",
   "execution_count": 33,
   "metadata": {},
   "outputs": [
    {
     "name": "stdout",
     "output_type": "stream",
     "text": [
      "Collecting dash\n",
      "  Downloading dash-2.17.0-py3-none-any.whl (7.5 MB)\n",
      "     ---------------------------------------- 0.0/7.5 MB ? eta -:--:--\n",
      "     ---------------------------------------- 0.0/7.5 MB ? eta -:--:--\n",
      "     ---------------------------------------- 0.0/7.5 MB 393.8 kB/s eta 0:00:19\n",
      "      --------------------------------------- 0.1/7.5 MB 901.1 kB/s eta 0:00:09\n",
      "     - -------------------------------------- 0.3/7.5 MB 1.9 MB/s eta 0:00:04\n",
      "     --- ------------------------------------ 0.6/7.5 MB 2.6 MB/s eta 0:00:03\n",
      "     ---- ----------------------------------- 0.8/7.5 MB 3.0 MB/s eta 0:00:03\n",
      "     ----- ---------------------------------- 1.0/7.5 MB 3.3 MB/s eta 0:00:02\n",
      "     ------ --------------------------------- 1.3/7.5 MB 3.5 MB/s eta 0:00:02\n",
      "     ------- -------------------------------- 1.5/7.5 MB 3.6 MB/s eta 0:00:02\n",
      "     --------- ------------------------------ 1.7/7.5 MB 3.8 MB/s eta 0:00:02\n",
      "     ---------- ----------------------------- 1.9/7.5 MB 3.7 MB/s eta 0:00:02\n",
      "     ---------- ----------------------------- 2.0/7.5 MB 3.6 MB/s eta 0:00:02\n",
      "     ----------- ---------------------------- 2.1/7.5 MB 3.6 MB/s eta 0:00:02\n",
      "     ------------ --------------------------- 2.4/7.5 MB 3.7 MB/s eta 0:00:02\n",
      "     ------------- -------------------------- 2.6/7.5 MB 3.7 MB/s eta 0:00:02\n",
      "     --------------- ------------------------ 2.8/7.5 MB 3.8 MB/s eta 0:00:02\n",
      "     ---------------- ----------------------- 3.0/7.5 MB 3.9 MB/s eta 0:00:02\n",
      "     ----------------- ---------------------- 3.3/7.5 MB 4.0 MB/s eta 0:00:02\n",
      "     ------------------ --------------------- 3.5/7.5 MB 4.0 MB/s eta 0:00:01\n",
      "     -------------------- ------------------- 3.7/7.5 MB 4.1 MB/s eta 0:00:01\n",
      "     --------------------- ------------------ 4.0/7.5 MB 4.1 MB/s eta 0:00:01\n",
      "     ---------------------- ----------------- 4.2/7.5 MB 4.1 MB/s eta 0:00:01\n",
      "     ----------------------- ---------------- 4.4/7.5 MB 4.2 MB/s eta 0:00:01\n",
      "     ------------------------ --------------- 4.6/7.5 MB 4.2 MB/s eta 0:00:01\n",
      "     ------------------------- -------------- 4.8/7.5 MB 4.2 MB/s eta 0:00:01\n",
      "     -------------------------- ------------- 5.0/7.5 MB 4.2 MB/s eta 0:00:01\n",
      "     --------------------------- ------------ 5.2/7.5 MB 4.2 MB/s eta 0:00:01\n",
      "     ---------------------------- ----------- 5.4/7.5 MB 4.2 MB/s eta 0:00:01\n",
      "     ---------------------------- ----------- 5.4/7.5 MB 4.2 MB/s eta 0:00:01\n",
      "     ------------------------------ --------- 5.7/7.5 MB 4.1 MB/s eta 0:00:01\n",
      "     -------------------------------- ------- 6.2/7.5 MB 4.3 MB/s eta 0:00:01\n",
      "     ---------------------------------- ----- 6.4/7.5 MB 4.3 MB/s eta 0:00:01\n",
      "     ----------------------------------- ---- 6.6/7.5 MB 4.4 MB/s eta 0:00:01\n",
      "     ------------------------------------ --- 6.9/7.5 MB 4.4 MB/s eta 0:00:01\n",
      "     ------------------------------------- -- 7.1/7.5 MB 4.4 MB/s eta 0:00:01\n",
      "     ---------------------------------------  7.3/7.5 MB 4.4 MB/s eta 0:00:01\n",
      "     ---------------------------------------  7.5/7.5 MB 4.4 MB/s eta 0:00:01\n",
      "     ---------------------------------------- 7.5/7.5 MB 4.3 MB/s eta 0:00:00\n",
      "Requirement already satisfied: typing-extensions>=4.1.1 in c:\\users\\omhot\\miniconda3\\envs\\tf\\lib\\site-packages (from dash) (4.5.0)\n",
      "Requirement already satisfied: setuptools in c:\\users\\omhot\\miniconda3\\envs\\tf\\lib\\site-packages (from dash) (67.6.1)\n",
      "Collecting dash-html-components==2.0.0\n",
      "  Downloading dash_html_components-2.0.0-py3-none-any.whl (4.1 kB)\n",
      "Requirement already satisfied: Werkzeug<3.1 in c:\\users\\omhot\\miniconda3\\envs\\tf\\lib\\site-packages (from dash) (2.2.3)\n",
      "Collecting dash-core-components==2.0.0\n",
      "  Downloading dash_core_components-2.0.0-py3-none-any.whl (3.8 kB)\n",
      "Requirement already satisfied: requests in c:\\users\\omhot\\miniconda3\\envs\\tf\\lib\\site-packages (from dash) (2.28.2)\n",
      "Requirement already satisfied: nest-asyncio in c:\\users\\omhot\\appdata\\roaming\\python\\python310\\site-packages (from dash) (1.5.6)\n",
      "Collecting retrying\n",
      "  Downloading retrying-1.3.4-py3-none-any.whl (11 kB)\n",
      "Collecting dash-table==5.0.0\n",
      "  Downloading dash_table-5.0.0-py3-none-any.whl (3.9 kB)\n",
      "Collecting Flask<3.1,>=1.0.4\n",
      "  Downloading flask-3.0.3-py3-none-any.whl (101 kB)\n",
      "     ---------------------------------------- 0.0/101.7 kB ? eta -:--:--\n",
      "     -------------------------------------- 101.7/101.7 kB 3.0 MB/s eta 0:00:00\n",
      "Requirement already satisfied: importlib-metadata in c:\\users\\omhot\\miniconda3\\envs\\tf\\lib\\site-packages (from dash) (6.3.0)\n",
      "Collecting plotly>=5.0.0\n",
      "  Downloading plotly-5.22.0-py3-none-any.whl (16.4 MB)\n",
      "     ---------------------------------------- 0.0/16.4 MB ? eta -:--:--\n",
      "      --------------------------------------- 0.2/16.4 MB 4.7 MB/s eta 0:00:04\n",
      "     - -------------------------------------- 0.5/16.4 MB 4.8 MB/s eta 0:00:04\n",
      "     - -------------------------------------- 0.7/16.4 MB 4.8 MB/s eta 0:00:04\n",
      "     -- ------------------------------------- 0.9/16.4 MB 4.7 MB/s eta 0:00:04\n",
      "     -- ------------------------------------- 1.1/16.4 MB 4.9 MB/s eta 0:00:04\n",
      "     --- ------------------------------------ 1.4/16.4 MB 4.8 MB/s eta 0:00:04\n",
      "     --- ------------------------------------ 1.6/16.4 MB 4.8 MB/s eta 0:00:04\n",
      "     ---- ----------------------------------- 1.8/16.4 MB 4.8 MB/s eta 0:00:04\n",
      "     ---- ----------------------------------- 2.0/16.4 MB 4.8 MB/s eta 0:00:03\n",
      "     ----- ---------------------------------- 2.3/16.4 MB 4.8 MB/s eta 0:00:03\n",
      "     ------ --------------------------------- 2.5/16.4 MB 5.0 MB/s eta 0:00:03\n",
      "     ------ --------------------------------- 2.7/16.4 MB 4.8 MB/s eta 0:00:03\n",
      "     ------- -------------------------------- 3.0/16.4 MB 4.8 MB/s eta 0:00:03\n",
      "     ------- -------------------------------- 3.2/16.4 MB 4.9 MB/s eta 0:00:03\n",
      "     -------- ------------------------------- 3.4/16.4 MB 4.9 MB/s eta 0:00:03\n",
      "     -------- ------------------------------- 3.6/16.4 MB 4.9 MB/s eta 0:00:03\n",
      "     --------- ------------------------------ 3.9/16.4 MB 4.9 MB/s eta 0:00:03\n",
      "     --------- ------------------------------ 4.1/16.4 MB 4.9 MB/s eta 0:00:03\n",
      "     ---------- ----------------------------- 4.3/16.4 MB 4.9 MB/s eta 0:00:03\n",
      "     ----------- ---------------------------- 4.5/16.4 MB 4.9 MB/s eta 0:00:03\n",
      "     ----------- ---------------------------- 4.8/16.4 MB 4.9 MB/s eta 0:00:03\n",
      "     ------------ --------------------------- 5.0/16.4 MB 4.9 MB/s eta 0:00:03\n",
      "     ------------ --------------------------- 5.2/16.4 MB 4.9 MB/s eta 0:00:03\n",
      "     ------------- -------------------------- 5.5/16.4 MB 4.9 MB/s eta 0:00:03\n",
      "     ------------- -------------------------- 5.7/16.4 MB 4.9 MB/s eta 0:00:03\n",
      "     -------------- ------------------------- 5.9/16.4 MB 4.9 MB/s eta 0:00:03\n",
      "     -------------- ------------------------- 6.1/16.4 MB 4.9 MB/s eta 0:00:03\n",
      "     --------------- ------------------------ 6.4/16.4 MB 4.9 MB/s eta 0:00:03\n",
      "     ---------------- ----------------------- 6.6/16.4 MB 4.9 MB/s eta 0:00:03\n",
      "     ---------------- ----------------------- 6.8/16.4 MB 4.9 MB/s eta 0:00:02\n",
      "     ----------------- ---------------------- 7.1/16.4 MB 4.9 MB/s eta 0:00:02\n",
      "     ----------------- ---------------------- 7.3/16.4 MB 4.9 MB/s eta 0:00:02\n",
      "     ------------------ --------------------- 7.5/16.4 MB 4.9 MB/s eta 0:00:02\n",
      "     ------------------ --------------------- 7.7/16.4 MB 4.9 MB/s eta 0:00:02\n",
      "     ------------------- -------------------- 8.0/16.4 MB 4.9 MB/s eta 0:00:02\n",
      "     ------------------- -------------------- 8.2/16.4 MB 4.9 MB/s eta 0:00:02\n",
      "     -------------------- ------------------- 8.4/16.4 MB 4.9 MB/s eta 0:00:02\n",
      "     --------------------- ------------------ 8.6/16.4 MB 4.9 MB/s eta 0:00:02\n",
      "     --------------------- ------------------ 8.9/16.4 MB 4.9 MB/s eta 0:00:02\n",
      "     ---------------------- ----------------- 9.1/16.4 MB 4.9 MB/s eta 0:00:02\n",
      "     ---------------------- ----------------- 9.3/16.4 MB 4.9 MB/s eta 0:00:02\n",
      "     ----------------------- ---------------- 9.6/16.4 MB 4.9 MB/s eta 0:00:02\n",
      "     ----------------------- ---------------- 9.8/16.4 MB 4.9 MB/s eta 0:00:02\n",
      "     ------------------------ --------------- 10.0/16.4 MB 4.9 MB/s eta 0:00:02\n",
      "     ------------------------ --------------- 10.2/16.4 MB 4.9 MB/s eta 0:00:02\n",
      "     ------------------------- -------------- 10.4/16.4 MB 4.9 MB/s eta 0:00:02\n",
      "     -------------------------- ------------- 10.7/16.4 MB 4.9 MB/s eta 0:00:02\n",
      "     -------------------------- ------------- 10.9/16.4 MB 4.9 MB/s eta 0:00:02\n",
      "     --------------------------- ------------ 11.2/16.4 MB 4.9 MB/s eta 0:00:02\n",
      "     --------------------------- ------------ 11.4/16.4 MB 4.9 MB/s eta 0:00:02\n",
      "     ---------------------------- ----------- 11.6/16.4 MB 4.9 MB/s eta 0:00:01\n",
      "     ---------------------------- ----------- 11.8/16.4 MB 4.9 MB/s eta 0:00:01\n",
      "     ----------------------------- ---------- 12.1/16.4 MB 4.9 MB/s eta 0:00:01\n",
      "     ----------------------------- ---------- 12.3/16.4 MB 4.9 MB/s eta 0:00:01\n",
      "     ------------------------------ --------- 12.5/16.4 MB 4.9 MB/s eta 0:00:01\n",
      "     ------------------------------- -------- 12.8/16.4 MB 4.9 MB/s eta 0:00:01\n",
      "     ------------------------------- -------- 13.0/16.4 MB 4.9 MB/s eta 0:00:01\n",
      "     -------------------------------- ------- 13.2/16.4 MB 4.9 MB/s eta 0:00:01\n",
      "     -------------------------------- ------- 13.4/16.4 MB 4.9 MB/s eta 0:00:01\n",
      "     --------------------------------- ------ 13.7/16.4 MB 4.9 MB/s eta 0:00:01\n",
      "     --------------------------------- ------ 13.9/16.4 MB 4.9 MB/s eta 0:00:01\n",
      "     ---------------------------------- ----- 14.1/16.4 MB 4.9 MB/s eta 0:00:01\n",
      "     ---------------------------------- ----- 14.3/16.4 MB 4.9 MB/s eta 0:00:01\n",
      "     ----------------------------------- ---- 14.6/16.4 MB 4.9 MB/s eta 0:00:01\n",
      "     ----------------------------------- ---- 14.8/16.4 MB 4.9 MB/s eta 0:00:01\n",
      "     ------------------------------------ --- 15.0/16.4 MB 4.9 MB/s eta 0:00:01\n",
      "     ------------------------------------- -- 15.2/16.4 MB 4.9 MB/s eta 0:00:01\n",
      "     ------------------------------------- -- 15.5/16.4 MB 4.9 MB/s eta 0:00:01\n",
      "     -------------------------------------- - 15.7/16.4 MB 4.9 MB/s eta 0:00:01\n",
      "     -------------------------------------- - 15.9/16.4 MB 4.9 MB/s eta 0:00:01\n",
      "     ---------------------------------------  16.1/16.4 MB 4.9 MB/s eta 0:00:01\n",
      "     ---------------------------------------  16.4/16.4 MB 4.9 MB/s eta 0:00:01\n",
      "     ---------------------------------------- 16.4/16.4 MB 4.8 MB/s eta 0:00:00\n",
      "Collecting itsdangerous>=2.1.2\n",
      "  Downloading itsdangerous-2.2.0-py3-none-any.whl (16 kB)\n",
      "Requirement already satisfied: click>=8.1.3 in c:\\users\\omhot\\miniconda3\\envs\\tf\\lib\\site-packages (from Flask<3.1,>=1.0.4->dash) (8.1.3)\n",
      "Requirement already satisfied: blinker>=1.6.2 in c:\\users\\omhot\\miniconda3\\envs\\tf\\lib\\site-packages (from Flask<3.1,>=1.0.4->dash) (1.6.2)\n",
      "Requirement already satisfied: Jinja2>=3.1.2 in c:\\users\\omhot\\miniconda3\\envs\\tf\\lib\\site-packages (from Flask<3.1,>=1.0.4->dash) (3.1.2)\n",
      "Collecting Werkzeug<3.1\n",
      "  Downloading werkzeug-3.0.2-py3-none-any.whl (226 kB)\n",
      "     ---------------------------------------- 0.0/226.8 kB ? eta -:--:--\n",
      "     ---------------------------------- --- 204.8/226.8 kB 6.3 MB/s eta 0:00:01\n",
      "     -------------------------------------- 226.8/226.8 kB 4.6 MB/s eta 0:00:00\n",
      "Requirement already satisfied: packaging in c:\\users\\omhot\\appdata\\roaming\\python\\python310\\site-packages (from plotly>=5.0.0->dash) (23.0)\n",
      "Requirement already satisfied: tenacity>=6.2.0 in c:\\users\\omhot\\miniconda3\\envs\\tf\\lib\\site-packages (from plotly>=5.0.0->dash) (8.2.2)\n",
      "Requirement already satisfied: MarkupSafe>=2.1.1 in c:\\users\\omhot\\miniconda3\\envs\\tf\\lib\\site-packages (from Werkzeug<3.1->dash) (2.1.2)\n",
      "Requirement already satisfied: zipp>=0.5 in c:\\users\\omhot\\miniconda3\\envs\\tf\\lib\\site-packages (from importlib-metadata->dash) (3.15.0)\n",
      "Requirement already satisfied: urllib3<1.27,>=1.21.1 in c:\\users\\omhot\\miniconda3\\envs\\tf\\lib\\site-packages (from requests->dash) (1.26.15)\n",
      "Requirement already satisfied: charset-normalizer<4,>=2 in c:\\users\\omhot\\miniconda3\\envs\\tf\\lib\\site-packages (from requests->dash) (3.1.0)\n",
      "Requirement already satisfied: certifi>=2017.4.17 in c:\\users\\omhot\\miniconda3\\envs\\tf\\lib\\site-packages (from requests->dash) (2022.12.7)\n",
      "Requirement already satisfied: idna<4,>=2.5 in c:\\users\\omhot\\miniconda3\\envs\\tf\\lib\\site-packages (from requests->dash) (3.4)\n",
      "Requirement already satisfied: six>=1.7.0 in c:\\users\\omhot\\miniconda3\\envs\\tf\\lib\\site-packages (from retrying->dash) (1.16.0)\n",
      "Requirement already satisfied: colorama in c:\\users\\omhot\\appdata\\roaming\\python\\python310\\site-packages (from click>=8.1.3->Flask<3.1,>=1.0.4->dash) (0.4.6)\n",
      "Installing collected packages: dash-table, dash-html-components, dash-core-components, Werkzeug, retrying, plotly, itsdangerous, Flask, dash\n",
      "  Attempting uninstall: Werkzeug\n",
      "    Found existing installation: Werkzeug 2.2.3\n",
      "    Uninstalling Werkzeug-2.2.3:\n",
      "      Successfully uninstalled Werkzeug-2.2.3\n",
      "Successfully installed Flask-3.0.3 Werkzeug-3.0.2 dash-2.17.0 dash-core-components-2.0.0 dash-html-components-2.0.0 dash-table-5.0.0 itsdangerous-2.2.0 plotly-5.22.0 retrying-1.3.4\n"
     ]
    }
   ],
   "source": [
    "import sys\n",
    "!{sys.executable} -m pip install dash"
   ]
  },
  {
   "cell_type": "code",
   "execution_count": 4,
   "metadata": {},
   "outputs": [
    {
     "data": {
      "text/plain": [
       "First Name  Email ID  Quantity  Events  Attendee Status  College Name  How did you come to know about this event?  Specify in \"Others\" (how did you come to know about this event)  Designation  Year of Graduation  City   CGPA   Experience with python (Months)  Family Income  Expected salary (Lac)  Leadership- skills\n",
       "False       False     False     False   False            False         False                                       True                                                             False        False               False  False  False                            False          False                  False                 2577\n",
       "                                                                       True                                        True                                                             False        False               False  False  False                            False          False                  False                 2215\n",
       "                                                                       False                                       False                                                            False        False               False  False  False                            False          False                  False                   87\n",
       "                                                         True          False                                       True                                                             False        False               False  False  False                            False          False                  False                   12\n",
       "                                                                                                                   False                                                            False        False               False  False  False                            False          False                  False                    2\n",
       "                                                                       True                                        True                                                             False        False               False  False  False                            False          False                  False                    1\n",
       "dtype: int64"
      ]
     },
     "execution_count": 4,
     "metadata": {},
     "output_type": "execute_result"
    }
   ],
   "source": [
    "df.isnull().value_counts()"
   ]
  },
  {
   "cell_type": "code",
   "execution_count": 5,
   "metadata": {},
   "outputs": [
    {
     "name": "stdout",
     "output_type": "stream",
     "text": [
      "\n",
      "1) \n",
      "2) \n",
      "3) \n",
      "4) \n",
      "5) False    4879\n",
      "True       15\n",
      "Name: College Name, dtype: int64\n",
      "6) False    2678\n",
      "True     2216\n",
      "Name: How did you come to know about this event?, dtype: int64\n",
      "7) True     4805\n",
      "False      89\n",
      "Name: Specify in \"Others\" (how did you come to know about this event), dtype: int64\n",
      "8) \n",
      "9) \n",
      "10) \n",
      "11) \n",
      "12) \n",
      "13) \n",
      "14) \n",
      "15) \n",
      "16) "
     ]
    }
   ],
   "source": [
    "for i in range(df.shape[1]):print(df[df.columns[i]].isnull().value_counts() if len(df[df.columns[i]].isnull().value_counts())>1 else \"\",end=f\"\\n{i+1}) \")"
   ]
  },
  {
   "cell_type": "code",
   "execution_count": 6,
   "metadata": {},
   "outputs": [
    {
     "data": {
      "image/png": "[encoded data removed]",
      "text/plain": [
       "<Figure size 640x480 with 1 Axes>"
      ]
     },
     "metadata": {},
     "output_type": "display_data"
    }
   ],
   "source": [
    "a=[]\n",
    "for i in range(df.shape[1]):a.append(df[df.columns[i]].isnull().value_counts()) if len(df[df.columns[i]].isnull().value_counts())>1 else None\n",
    "n=len(a)\n",
    "r = np.arange(n) \n",
    "width = 0.25\n",
    "  \n",
    "  \n",
    "plt.bar(r,[a[i][False] for i in range(len(a)) ], color = 'b', \n",
    "        width = width, edgecolor = 'black', \n",
    "        label='Present') \n",
    "plt.bar(r + width, [a[i][True] for i in range(len(a)) ], color = 'g', \n",
    "        width = width, edgecolor = 'black', \n",
    "        label='Null') \n",
    "  \n",
    "plt.xlabel(\"Atrributes\") \n",
    "plt.ylabel(\"No.Data Points\") \n",
    "plt.title(\"NULL Comparison\") \n",
    "  \n",
    "# plt.grid(linestyle='--') \n",
    "#plt.xticks(r + width/2,['2018','2019','2020','2021']) \n",
    "plt.legend() \n",
    "  \n",
    "plt.show() "
   ]
  },
  {
   "cell_type": "markdown",
   "metadata": {},
   "source": [
    "# Basic"
   ]
  },
  {
   "cell_type": "markdown",
   "metadata": {},
   "source": [
    "Query 1 - How many unique students are included in the dataset?"
   ]
  },
  {
   "cell_type": "code",
   "execution_count": 4,
   "metadata": {},
   "outputs": [
    {
     "data": {
      "text/plain": [
       "2324"
      ]
     },
     "execution_count": 4,
     "metadata": {},
     "output_type": "execute_result"
    }
   ],
   "source": [
    "df[\"First Name\"].unique()"
   ]
  },
  {
   "cell_type": "code",
   "execution_count": 8,
   "metadata": {},
   "outputs": [
    {
     "data": {
      "text/plain": [
       "array(['aniket@xyz.com', 'dhanshree@xyz.com', 'dhiraj@xyz.com', ...,\n",
       "       'suryaprakash@xyz.com', 'saifali@xyz.com', 'lankesh@xyz.com'],\n",
       "      dtype=object)"
      ]
     },
     "execution_count": 8,
     "metadata": {},
     "output_type": "execute_result"
    }
   ],
   "source": [
    "df[\"Email ID\"].unique()"
   ]
  },
  {
   "cell_type": "markdown",
   "metadata": {},
   "source": [
    "Query 2 - What is average GPA of the students?"
   ]
  },
  {
   "cell_type": "code",
   "execution_count": 9,
   "metadata": {},
   "outputs": [
    {
     "data": {
      "text/plain": [
       "8.038475684511647"
      ]
     },
     "execution_count": 9,
     "metadata": {},
     "output_type": "execute_result"
    }
   ],
   "source": [
    "np.sum(df[\"CGPA\"])/df.shape[0]"
   ]
  },
  {
   "cell_type": "markdown",
   "metadata": {},
   "source": [
    "Query 3 - What is the distribution of students across different graduation years?"
   ]
  },
  {
   "cell_type": "code",
   "execution_count": 10,
   "metadata": {},
   "outputs": [
    {
     "data": {
      "text/plain": [
       "2023    1536\n",
       "2024    1511\n",
       "2025    1292\n",
       "2026     555\n",
       "Name: Year of Graduation, dtype: int64"
      ]
     },
     "execution_count": 10,
     "metadata": {},
     "output_type": "execute_result"
    }
   ],
   "source": [
    "df[\"Year of Graduation\"].value_counts()"
   ]
  },
  {
   "cell_type": "markdown",
   "metadata": {},
   "source": [
    "Query 4 -  What is the distribution of students experience with Python Programming?\n"
   ]
  },
  {
   "cell_type": "code",
   "execution_count": 11,
   "metadata": {},
   "outputs": [
    {
     "data": {
      "text/plain": [
       "5    1242\n",
       "3    1008\n",
       "8     800\n",
       "6     738\n",
       "7     640\n",
       "4     466\n",
       "Name: Experience with python (Months), dtype: int64"
      ]
     },
     "execution_count": 11,
     "metadata": {},
     "output_type": "execute_result"
    }
   ],
   "source": [
    "df[\"Experience with python (Months)\"].value_counts()"
   ]
  },
  {
   "cell_type": "markdown",
   "metadata": {},
   "source": [
    "Query 5 - What is the average family income of the students?"
   ]
  },
  {
   "cell_type": "code",
   "execution_count": 12,
   "metadata": {},
   "outputs": [
    {
     "name": "stdout",
     "output_type": "stream",
     "text": [
      "   Mean    Median    Mode \n",
      " 0-2 Lakh 0-2 Lakh 0-2 Lakh\n"
     ]
    }
   ],
   "source": [
    "print(f\"   Mean    Median    Mode \\n\",df[\"Family Income\"].unique()[round(sum(df[\"Family Income\"].replace(df[\"Family Income\"].unique(),[0,1,2,3]))/df.shape[0])],sorted(df[\"Family Income\"])[int(df.shape[0]/2)],df[\"Family Income\"].value_counts().keys()[0])"
   ]
  },
  {
   "cell_type": "markdown",
   "metadata": {},
   "source": [
    "Query 6 - How does GPA vary among different colleges(Show top 5 results)?"
   ]
  },
  {
   "cell_type": "code",
   "execution_count": 13,
   "metadata": {},
   "outputs": [],
   "source": [
    "list_of_colleges = df[\"College Name\"].value_counts()[:5]"
   ]
  },
  {
   "cell_type": "code",
   "execution_count": 14,
   "metadata": {},
   "outputs": [
    {
     "data": {
      "text/plain": [
       "priyadarshini college of engineering, nagpur                            261\n",
       "vidyalankar institute of technology, mumbai                             258\n",
       "ld college of engineering, ahmedabad, gujarat                           248\n",
       "government polytechnic gandhinagar                                      206\n",
       "b. k. birla college of arts, science & commerce (autonomous), kalyan    206\n",
       "Name: College Name, dtype: int64"
      ]
     },
     "execution_count": 14,
     "metadata": {},
     "output_type": "execute_result"
    }
   ],
   "source": [
    "list_of_colleges"
   ]
  },
  {
   "cell_type": "code",
   "execution_count": 15,
   "metadata": {},
   "outputs": [
    {
     "name": "stdout",
     "output_type": "stream",
     "text": [
      "Min:6.30 Max:9.90 Avg:8.01\n",
      "Min:6.20 Max:9.90 Avg:8.10\n",
      "Min:6.30 Max:9.90 Avg:8.06\n",
      "Min:6.20 Max:9.90 Avg:7.97\n",
      "Min:6.20 Max:9.90 Avg:8.10\n"
     ]
    },
    {
     "data": {
      "text/plain": [
       "<BarContainer object of 5 artists>"
      ]
     },
     "execution_count": 15,
     "metadata": {},
     "output_type": "execute_result"
    },
    {
     "data": {
      "image/png": "[encoded data removed]",
      "text/plain": [
       "<Figure size 640x480 with 1 Axes>"
      ]
     },
     "metadata": {},
     "output_type": "display_data"
    }
   ],
   "source": [
    "averages = []\n",
    "for i in range(5):\n",
    "    temp = df[\"CGPA\"].loc[df[\"College Name\"]==list_of_colleges.keys()[i]]\n",
    "    avg = sum(temp)/temp.shape[0]\n",
    "    print(\"Min:%0.2f Max:%0.2f Avg:%0.2f\"%(min(temp),max(temp),avg))\n",
    "    averages.append(avg)\n",
    "\n",
    "plt.bar(range(1,6),averages)\n"
   ]
  },
  {
   "cell_type": "markdown",
   "metadata": {},
   "source": [
    "Query 7 - Are there any outliers in the 'attending status' & 'quantity(numbers of courses completed)' attribute?"
   ]
  },
  {
   "cell_type": "code",
   "execution_count": 16,
   "metadata": {},
   "outputs": [
    {
     "name": "stdout",
     "output_type": "stream",
     "text": [
      "Attendee Status has\n",
      "Quantity has NONE\n"
     ]
    }
   ],
   "source": [
    "for i in [\"Attendee Status\",\"Quantity\"]:\n",
    "    if len(df[i].dropna().value_counts())==1:\n",
    "        print(f\"{i} has NONE\")\n",
    "    else:\n",
    "        print(f\"{i} has\")"
   ]
  },
  {
   "cell_type": "code",
   "execution_count": 17,
   "metadata": {},
   "outputs": [
    {
     "name": "stdout",
     "output_type": "stream",
     "text": [
      "No outliers found in 'Quantity' attribute.\n",
      "Unique values in 'Attendee Status': ['Attending' 'NAN']\n"
     ]
    }
   ],
   "source": [
    "numeric_quantity = pd.to_numeric(df['Quantity'], errors='coerce')\n",
    "Q1 = numeric_quantity.quantile(0.25)\n",
    "Q3 = numeric_quantity.quantile(0.75)\n",
    "IQR = Q3 - Q1\n",
    "lower_bound = Q1 - 1.5 * IQR\n",
    "upper_bound = Q3 + 1.5 * IQR\n",
    "outliers = df[(numeric_quantity < lower_bound) | (numeric_quantity > upper_bound)]\n",
    "\n",
    "if outliers.empty:\n",
    "    print(\"No outliers found in 'Quantity' attribute.\")\n",
    "else:\n",
    "    print(\"Outliers found in 'Quantity' attribute:\")\n",
    "    print(outliers)\n",
    "\n",
    "attendee_status_unique = df['Attendee Status'].unique()\n",
    "if len(attendee_status_unique) <= 10:\n",
    "    print(\"Unique values in 'Attendee Status':\", attendee_status_unique)\n",
    "    \n",
    "else:\n",
    "    print(\"The 'Attendee Status' attribute seems to have many unique values and is likely categorical.\")\n",
    "\n"
   ]
  },
  {
   "cell_type": "markdown",
   "metadata": {},
   "source": [
    "Query 8 - What is the average GPA for student from each city?"
   ]
  },
  {
   "cell_type": "code",
   "execution_count": 18,
   "metadata": {},
   "outputs": [
    {
     "name": "stdout",
     "output_type": "stream",
     "text": [
      "Patna        : 7.726666666666666\n",
      "Amravati     : 7.866666666666666\n",
      "Kunrool      : 7.886363636363635\n",
      "Tirupati     : 8.213636363636365\n",
      "Vijaywada    : 7.986363636363637\n",
      "Eluru        : 7.981818181818183\n",
      "Guwahati     : 8.336363636363638\n",
      "Nagaon       : 7.8090909090909095\n",
      "Tezpur       : 8.063636363636364\n",
      "Sivasagar    : 7.959090909090909\n",
      "Burani       : 8.268181818181818\n",
      "Dehri        : 7.849999999999998\n",
      "Chapra       : 8.049999999999999\n",
      "Darbhanga    : 8.357142857142858\n",
      "Gaya         : 7.964285714285714\n",
      "Haijipur     : 8.22857142857143\n",
      "Kaithar      : 7.8500000000000005\n",
      "Motihari     : 7.899999999999999\n",
      "Munger       : 8.307142857142855\n",
      "Muzaffarpur  : 8.278571428571428\n",
      "Sasaram      : 7.935714285714284\n",
      "Siwan        : 8.45\n",
      "Ambikapur    : 8.000000000000002\n",
      "Bhilai       : 7.778571428571428\n",
      "Raipur       : 8.507142857142856\n",
      "Daman        : 7.421428571428571\n",
      "Diu          : 8.035714285714285\n",
      "Silvassa     : 7.835714285714286\n",
      "Delhi        : 8.414285714285715\n",
      "New Delhi    : 7.307142857142857\n",
      "Panji        : 8.321428571428573\n",
      "Madgaon      : 8.157142857142858\n",
      "Ahemdabad    : 8.190384615384618\n",
      "Amreli       : 8.001923076923077\n",
      "Dwarka       : 8.001923076923076\n",
      "Godhra       : 7.973999999999998\n",
      "Junagadh     : 7.9750000000000005\n",
      "Kheda        : 8.111363636363636\n",
      "Morbi        : 7.965909090909091\n",
      "Navsari      : 7.854545454545454\n",
      "Surat        : 8.061363636363637\n",
      "Valsad       : 8.052272727272728\n",
      "Ambala       : 8.018604651162791\n",
      "Chandigarh   : 8.059649122807018\n",
      "Faridabad    : 8.118604651162794\n",
      "Gurugram     : 8.459259259259259\n",
      "Hisar        : 8.011111111111111\n",
      "Jind         : 8.26296296296296\n",
      "Kaithal      : 7.903703703703703\n",
      "Karnal       : 7.984615384615386\n",
      "Rewari       : 7.392307692307691\n",
      "Rohtak       : 7.823076923076922\n",
      "Sirsa        : 8.000000000000002\n",
      "Sonipat      : 8.464285714285714\n",
      "Chamba       : 7.728571428571429\n",
      "Kangra       : 7.814285714285714\n",
      "Hamirpur     : 7.992857142857143\n",
      "kullu        : 7.878571428571428\n",
      "Mandi        : 8.064285714285715\n",
      "Una          : 8.250000000000002\n",
      "Anantnag     : 7.978571428571427\n",
      "Doda         : 7.685714285714285\n",
      "Gulmarg      : 7.921428571428571\n",
      "Punch        : 8.257142857142858\n",
      "Srinagar     : 8.435714285714287\n",
      "Udhampur     : 8.064285714285715\n",
      "Ballari      : 8.092857142857143\n",
      "Hasan        : 8.392857142857144\n",
      "Kolar        : 7.835714285714286\n",
      "Mysuru       : 7.814285714285714\n",
      "Kochi        : 8.028571428571428\n",
      "Thrissur     : 8.02857142857143\n",
      "Bhopal       : 8.171428571428573\n",
      "Dhar         : 7.7\n",
      "Indore       : 7.964285714285714\n",
      "Guna         : 8.157142857142857\n",
      "Narwar       : 8.299999999999999\n",
      "Orchha       : 8.033333333333333\n",
      "Sagar        : 8.245238095238093\n",
      "Ujjain       : 8.059523809523807\n",
      "Vidisha      : 7.738095238095236\n",
      "Akola        : 8.02142857142857\n",
      "Aurangabad   : 8.258823529411767\n",
      "Bhandara     : 7.909803921568625\n",
      "Bhsawal      : 7.943137254901961\n",
      "Bid          : 7.829411764705885\n",
      "Buldhana     : 8.352941176470589\n",
      "Dhule        : 8.035294117647059\n",
      "Jalgaon      : 8.021568627450977\n",
      "Kalyan       : 8.131372549019607\n",
      "Thane        : 8.049019607843139\n",
      "Navi Mumbai  : 8.076470588235294\n",
      "Nagpur       : 8.031372549019611\n",
      "Nanded       : 8.027450980392155\n",
      "Kolhapur     : 8.557142857142855\n",
      "Karli        : 7.799999999999999\n",
      "Matheran     : 8.042857142857143\n",
      "Nashik       : 7.592857142857142\n",
      "Solapur      : 7.714285714285715\n",
      "Satara       : 8.164285714285715\n",
      "Sangola      : 7.892857142857143\n",
      "Vasai        : 7.671428571428573\n",
      "Shillong     : 7.957142857142857\n",
      "Puri         : 8.450000000000001\n",
      "konark       : 8.071428571428571\n",
      "Cuttack      : 8.035714285714285\n",
      "Amritsar     : 7.945098039215687\n",
      "Patiala      : 8.094117647058821\n",
      "Sangrur      : 7.972549019607842\n",
      "Ajmer        : 8.284313725490195\n",
      "Amer         : 7.923529411764706\n",
      "Barmer       : 8.078431372549021\n",
      "Bikaner      : 7.880769230769231\n",
      "Jaipur       : 8.288461538461538\n",
      "Jhalwar      : 8.348076923076924\n",
      "Jodhpur      : 7.967307692307694\n",
      "Sikar        : 8.15\n",
      "Gangtok      : 8.25\n",
      "Hyderbad     : 7.764285714285713\n",
      "Nizambad     : 8.342857142857143\n",
      "Agartala     : 7.660714285714285\n",
      "Agra         : 8.046428571428573\n",
      "Aligarh      : 7.828571428571427\n",
      "Gonda        : 8.201785714285714\n",
      "Ghazipur     : 7.957142857142856\n",
      "Ghaziabad    : 7.853571428571428\n",
      "Gorakhpur    : 7.810714285714285\n",
      "Deoria       : 7.95\n",
      "Budaun       : 8.292857142857141\n",
      "Mathura      : 8.071428571428571\n",
      "Mainpuri     : 7.874999999999999\n",
      "Varanasi     : 8.253571428571428\n",
      "Almora       : 8.039285714285715\n",
      "Alipore      : 8.1\n",
      "Haora        : 8.028571428571427\n",
      "Hugli        : 8.274999999999999\n",
      "Palashi      : 7.921428571428571\n",
      "Santipur     : 7.971428571428571\n",
      "Siliguri     : 7.8357142857142845\n",
      "Silguri      : 8.035714285714285\n",
      "Siuri        : 8.2125\n",
      "Talmuk       : 8.023214285714285\n",
      "Titagrah     : 8.064285714285711\n",
      "Satna        : 7.954761904761905\n",
      "Mumbai       : 8.16470588235294\n",
      "Kota         : 7.924999999999999\n",
      "Jamnagar     : 8.118181818181823\n",
      "Nadiad       : 8.154545454545454\n",
      "Okha         : 7.924999999999998\n",
      "Rajkot       : 8.193181818181818\n",
      "Jhansi       : 7.9571428571428555\n",
      "Kolkata      : 7.8321428571428555\n",
      "Malda        : 8.289285714285715\n",
      "Jalor        : 7.934615384615383\n",
      "Jamalpur     : 8.107142857142856\n",
      "Durg         : 7.85\n",
      "Shimla       : 7.907142857142857\n",
      "Baramula     : 8.085714285714285\n",
      "Badmi        : 7.950000000000001\n",
      "Bidar        : 7.8357142857142845\n",
      "Kollam       : 8.171428571428573\n",
      "Gwalior      : 7.9071428571428575\n",
      "Sangli       : 7.957142857142856\n",
      "Ulhasnagar   : 7.785714285714286\n",
      "Baleshwar    : 8.064285714285715\n",
      "Pali         : 7.988461538461538\n",
      "Kanpur       : 8.02142857142857\n",
      "Mahe         : 8.03529411764706\n",
      "Durgapur     : 7.810714285714288\n",
      "Panipat      : 7.615384615384615\n",
      "Rajouri      : 7.77857142857143\n",
      "Bengaluru    : 8.049999999999999\n",
      "Pune         : 8.4\n",
      "Wardha       : 8.32857142857143\n",
      "Jammu        : 8.278571428571428\n",
      "Belgavi      : 8.221428571428572\n",
      "Lucknow      : 7.792857142857143\n"
     ]
    }
   ],
   "source": [
    "for i in df[\"City\"].unique():\n",
    "    city = df[\"CGPA\"].loc[df[\"City\"]==i]\n",
    "    print(f\"{i:12} :\",sum(city)/len(city))\n",
    "    "
   ]
  },
  {
   "cell_type": "markdown",
   "metadata": {},
   "source": [
    "Query 9 - Can we identity any relationship between family income and GPA?"
   ]
  },
  {
   "cell_type": "code",
   "execution_count": 19,
   "metadata": {},
   "outputs": [
    {
     "data": {
      "text/plain": [
       "0.014864122901094956"
      ]
     },
     "execution_count": 19,
     "metadata": {},
     "output_type": "execute_result"
    }
   ],
   "source": [
    "df[\"Family Income\"].replace(df[\"Family Income\"].unique(),[8,1,6,3]).corr(df[\"CGPA\"])"
   ]
  },
  {
   "cell_type": "markdown",
   "metadata": {},
   "source": [
    "# Moderate"
   ]
  },
  {
   "cell_type": "markdown",
   "metadata": {},
   "source": [
    "Query 10 - How does the expected salary vary based on factors like 'GPA', 'Family income', 'Experience with python (Months)'?"
   ]
  },
  {
   "cell_type": "code",
   "execution_count": 20,
   "metadata": {},
   "outputs": [
    {
     "data": {
      "text/plain": [
       "Index(['First Name', 'Email ID', 'Quantity', 'Events', 'Attendee Status',\n",
       "       'College Name', 'How did you come to know about this event?',\n",
       "       'Specify in \"Others\" (how did you come to know about this event)',\n",
       "       'Designation', 'Year of Graduation', 'City', 'CGPA',\n",
       "       'Experience with python (Months)', 'Family Income',\n",
       "       'Expected salary (Lac)', 'Leadership- skills'],\n",
       "      dtype='object')"
      ]
     },
     "execution_count": 20,
     "metadata": {},
     "output_type": "execute_result"
    }
   ],
   "source": [
    "df.columns\n"
   ]
  },
  {
   "cell_type": "code",
   "execution_count": 21,
   "metadata": {},
   "outputs": [
    {
     "data": {
      "text/html": [
       "<div>\n",
       "<style scoped>\n",
       "    .dataframe tbody tr th:only-of-type {\n",
       "        vertical-align: middle;\n",
       "    }\n",
       "\n",
       "    .dataframe tbody tr th {\n",
       "        vertical-align: top;\n",
       "    }\n",
       "\n",
       "    .dataframe thead th {\n",
       "        text-align: right;\n",
       "    }\n",
       "</style>\n",
       "<table border=\"1\" class=\"dataframe\">\n",
       "  <thead>\n",
       "    <tr style=\"text-align: right;\">\n",
       "      <th></th>\n",
       "      <th>First Name</th>\n",
       "      <th>Email ID</th>\n",
       "      <th>Quantity</th>\n",
       "      <th>Events</th>\n",
       "      <th>Attendee Status</th>\n",
       "      <th>College Name</th>\n",
       "      <th>How did you come to know about this event?</th>\n",
       "      <th>Specify in \"Others\" (how did you come to know about this event)</th>\n",
       "      <th>Designation</th>\n",
       "      <th>Year of Graduation</th>\n",
       "      <th>City</th>\n",
       "      <th>CGPA</th>\n",
       "      <th>Experience with python (Months)</th>\n",
       "      <th>Family Income</th>\n",
       "      <th>Expected salary (Lac)</th>\n",
       "      <th>Leadership- skills</th>\n",
       "    </tr>\n",
       "  </thead>\n",
       "  <tbody>\n",
       "    <tr>\n",
       "      <th>0</th>\n",
       "      <td>ANIKET</td>\n",
       "      <td>aniket@xyz.com</td>\n",
       "      <td>1</td>\n",
       "      <td>Art of Resume Building</td>\n",
       "      <td>Attending</td>\n",
       "      <td>D Y PATIL INSTITUTE OF MCA AND MANAGEMENT AKUR...</td>\n",
       "      <td>Email</td>\n",
       "      <td>NaN</td>\n",
       "      <td>Students</td>\n",
       "      <td>2024</td>\n",
       "      <td>Patna</td>\n",
       "      <td>6.7</td>\n",
       "      <td>7</td>\n",
       "      <td>7 Lakh+</td>\n",
       "      <td>6</td>\n",
       "      <td>yes</td>\n",
       "    </tr>\n",
       "    <tr>\n",
       "      <th>1</th>\n",
       "      <td>Dhanshree</td>\n",
       "      <td>dhanshree@xyz.com</td>\n",
       "      <td>1</td>\n",
       "      <td>Art of Resume Building</td>\n",
       "      <td>Attending</td>\n",
       "      <td>AP SHAH INSTITUTE OF TECHNOLOGY</td>\n",
       "      <td>Others</td>\n",
       "      <td>College</td>\n",
       "      <td>Students</td>\n",
       "      <td>2024</td>\n",
       "      <td>Amravati</td>\n",
       "      <td>8.2</td>\n",
       "      <td>3</td>\n",
       "      <td>0-2 Lakh</td>\n",
       "      <td>7</td>\n",
       "      <td>no</td>\n",
       "    </tr>\n",
       "    <tr>\n",
       "      <th>2</th>\n",
       "      <td>Dhiraj</td>\n",
       "      <td>dhiraj@xyz.com</td>\n",
       "      <td>1</td>\n",
       "      <td>Art of Resume Building</td>\n",
       "      <td>Attending</td>\n",
       "      <td>Don Bosco College of Engineering Fatorda Goa</td>\n",
       "      <td>Email</td>\n",
       "      <td>NaN</td>\n",
       "      <td>Students</td>\n",
       "      <td>2023</td>\n",
       "      <td>Kunrool</td>\n",
       "      <td>6.5</td>\n",
       "      <td>4</td>\n",
       "      <td>5-7 Lakh</td>\n",
       "      <td>7</td>\n",
       "      <td>no</td>\n",
       "    </tr>\n",
       "    <tr>\n",
       "      <th>3</th>\n",
       "      <td>Pooja</td>\n",
       "      <td>pooja@xyz.com</td>\n",
       "      <td>1</td>\n",
       "      <td>Art of Resume Building</td>\n",
       "      <td>Attending</td>\n",
       "      <td>Pillai College of Engineering New Panvel</td>\n",
       "      <td>Email</td>\n",
       "      <td>NaN</td>\n",
       "      <td>Students</td>\n",
       "      <td>2025</td>\n",
       "      <td>Tirupati</td>\n",
       "      <td>8.7</td>\n",
       "      <td>7</td>\n",
       "      <td>2-5 Lakh</td>\n",
       "      <td>8</td>\n",
       "      <td>no</td>\n",
       "    </tr>\n",
       "    <tr>\n",
       "      <th>4</th>\n",
       "      <td>Aayush</td>\n",
       "      <td>aayush@xyz.com</td>\n",
       "      <td>1</td>\n",
       "      <td>Art of Resume Building</td>\n",
       "      <td>Attending</td>\n",
       "      <td>St Xavier's College</td>\n",
       "      <td>Instagram | LinkedIn | Cloud Counselage Website</td>\n",
       "      <td>NaN</td>\n",
       "      <td>Students</td>\n",
       "      <td>2024</td>\n",
       "      <td>Vijaywada</td>\n",
       "      <td>9.1</td>\n",
       "      <td>3</td>\n",
       "      <td>0-2 Lakh</td>\n",
       "      <td>10</td>\n",
       "      <td>yes</td>\n",
       "    </tr>\n",
       "  </tbody>\n",
       "</table>\n",
       "</div>"
      ],
      "text/plain": [
       "  First Name           Email ID  Quantity                  Events  \\\n",
       "0     ANIKET     aniket@xyz.com         1  Art of Resume Building   \n",
       "1  Dhanshree  dhanshree@xyz.com         1  Art of Resume Building   \n",
       "2     Dhiraj     dhiraj@xyz.com         1  Art of Resume Building   \n",
       "3      Pooja      pooja@xyz.com         1  Art of Resume Building   \n",
       "4     Aayush     aayush@xyz.com         1  Art of Resume Building   \n",
       "\n",
       "  Attendee Status                                       College Name  \\\n",
       "0       Attending  D Y PATIL INSTITUTE OF MCA AND MANAGEMENT AKUR...   \n",
       "1       Attending                   AP SHAH INSTITUTE OF TECHNOLOGY    \n",
       "2       Attending       Don Bosco College of Engineering Fatorda Goa   \n",
       "3       Attending           Pillai College of Engineering New Panvel   \n",
       "4       Attending                               St Xavier's College    \n",
       "\n",
       "        How did you come to know about this event?  \\\n",
       "0                                            Email   \n",
       "1                                           Others   \n",
       "2                                            Email   \n",
       "3                                            Email   \n",
       "4  Instagram | LinkedIn | Cloud Counselage Website   \n",
       "\n",
       "  Specify in \"Others\" (how did you come to know about this event) Designation  \\\n",
       "0                                                NaN                 Students   \n",
       "1                                            College                 Students   \n",
       "2                                                NaN                 Students   \n",
       "3                                                NaN                 Students   \n",
       "4                                                NaN                 Students   \n",
       "\n",
       "   Year of Graduation       City  CGPA  Experience with python (Months)  \\\n",
       "0                2024      Patna   6.7                                7   \n",
       "1                2024   Amravati   8.2                                3   \n",
       "2                2023    Kunrool   6.5                                4   \n",
       "3                2025   Tirupati   8.7                                7   \n",
       "4                2024  Vijaywada   9.1                                3   \n",
       "\n",
       "  Family Income  Expected salary (Lac) Leadership- skills  \n",
       "0       7 Lakh+                      6                yes  \n",
       "1      0-2 Lakh                      7                 no  \n",
       "2      5-7 Lakh                      7                 no  \n",
       "3      2-5 Lakh                      8                 no  \n",
       "4      0-2 Lakh                     10                yes  "
      ]
     },
     "execution_count": 21,
     "metadata": {},
     "output_type": "execute_result"
    }
   ],
   "source": [
    "df.head()"
   ]
  },
  {
   "cell_type": "code",
   "execution_count": 22,
   "metadata": {},
   "outputs": [
    {
     "data": {
      "text/plain": [
       "<Axes: >"
      ]
     },
     "execution_count": 22,
     "metadata": {},
     "output_type": "execute_result"
    },
    {
     "data": {
      "image/png": "[encoded data removed]",
      "text/plain": [
       "<Figure size 640x480 with 2 Axes>"
      ]
     },
     "metadata": {},
     "output_type": "display_data"
    }
   ],
   "source": [
    "sns.heatmap(df[[\"CGPA\",\"Family Income\",\"Experience with python (Months)\",\"Expected salary (Lac)\"]].replace(df[\"Family Income\"].unique(),[0,1,2,3]).corr(),annot=True,color = \"gray\")"
   ]
  },
  {
   "cell_type": "markdown",
   "metadata": {},
   "source": [
    "Query 11 -Which event tend to attract more students from specific fields of study?"
   ]
  },
  {
   "cell_type": "code",
   "execution_count": 23,
   "metadata": {},
   "outputs": [
    {
     "data": {
      "text/plain": [
       "array(['Art of Resume Building', 'Data Visualization using Power BI',\n",
       "       'Artificial Intelligence', 'Hello ML and DL', 'Product Marketing',\n",
       "       'IAC - Q&A', 'Internship Program(IP) Success Conclave',\n",
       "       'IS DATA SCIENCE FOR YOU?', 'KYC - Know Your CCPC',\n",
       "       'Product Design & Full Stack', 'RPA: A Boon or A Bane',\n",
       "       'Skill and Employability Enhancement',\n",
       "       'Talk on Skill and Employability Enhancement',\n",
       "       'The Agile Ways of Working', 'The SDLC & their transformations',\n",
       "       'Transformation with DevOps: The Easy Way'], dtype=object)"
      ]
     },
     "execution_count": 23,
     "metadata": {},
     "output_type": "execute_result"
    }
   ],
   "source": [
    "df[\"Events\"].unique()"
   ]
  },
  {
   "cell_type": "code",
   "execution_count": 24,
   "metadata": {},
   "outputs": [
    {
     "data": {
      "text/plain": [
       "Students                                      4544\n",
       "Intern                                          74\n",
       "Engineering                                     38\n",
       "Data Science and Analyst                        34\n",
       "Asst. Professor                                 33\n",
       "HoD                                             19\n",
       "Computer Engineer                               15\n",
       "B.Tech                                          13\n",
       "Civil Engineering                               10\n",
       "Principal                                       10\n",
       "BE IT                                            9\n",
       "Web Development                                  8\n",
       "CSE                                              8\n",
       "Professor                                        7\n",
       "Artificial intelligence                          7\n",
       "IT                                               7\n",
       "Electrical Engineering                           5\n",
       "BE CS                                            5\n",
       "Software Engineer                                4\n",
       "Mechanical Engineer                              4\n",
       "Computer applications                            4\n",
       "Cyber Security                                   4\n",
       "BE                                               3\n",
       "IT Engineering                                   3\n",
       "CS                                               2\n",
       "MTech                                            1\n",
       "Django                                           1\n",
       "PGDM Marketing student                           1\n",
       "SPC                                              1\n",
       "Aerospace engineer                               1\n",
       "MCA                                              1\n",
       "Director T& P                                    1\n",
       "Interior designer                                1\n",
       "Flutter Developer                                1\n",
       "Sr. Manager                                      1\n",
       "Founder                                          1\n",
       "Graphic designer                                 1\n",
       "CVO                                              1\n",
       "B Sc IT                                          1\n",
       "Key Account manager                              1\n",
       "Research Scholar                                 1\n",
       "CEO                                              1\n",
       "Software developer                               1\n",
       "Executive Security Operations Center (SOC)       1\n",
       "Recruitment Manager                              1\n",
       "MBA Student                                      1\n",
       "Administrative Officer                           1\n",
       "Digital Marketing Intern                         1\n",
       "Diploma In Electrical Engineering                1\n",
       "Name: Designation, dtype: int64"
      ]
     },
     "execution_count": 24,
     "metadata": {},
     "output_type": "execute_result"
    }
   ],
   "source": [
    "df[\"Designation\"].value_counts()"
   ]
  },
  {
   "cell_type": "code",
   "execution_count": 25,
   "metadata": {},
   "outputs": [
    {
     "name": "stdout",
     "output_type": "stream",
     "text": [
      "Event(s) attracting the most students from specific fields of study:\n",
      "College Name\n",
      "A. C. Patil College of Engineering                                                                    Art of Resume Building\n",
      "ADHIYAMAAN COLLEGE OF ENGINEERING                                                    Internship Program(IP) Success Conclave\n",
      "AP SHAH INSTITUTE OF TECHNOLOGY                                                                       Art of Resume Building\n",
      "B. K. Birla College of Arts, Science & Commerce (Autonomous), Kalyan                                  Art of Resume Building\n",
      "CHHATTISGARH SWAMI VIVEKANANDA TECHNICAL UNIVERSITY TEACHING DEPARTMENT BHILAI       Internship Program(IP) Success Conclave\n",
      "D Y PATIL INSTITUTE OF MCA AND MANAGEMENT AKURDI PUNE                                                 Art of Resume Building\n",
      "DKTE Society's Textile And Engineering Institute Ichalkaranji                                         Art of Resume Building\n",
      "Don Bosco College of Engineering Fatorda Goa                                         Internship Program(IP) Success Conclave\n",
      "G H Raisoni institut of engineering and technology pune                                               Art of Resume Building\n",
      "GOVERNMENT POLYTECHNIC GANDHINAGAR                                                                    Art of Resume Building\n",
      "KLE Society's College of BCA, RLS Institute, Belagavi                                                 Art of Resume Building\n",
      "LD College of engineering, Ahmedabad, Gujarat                                                         Art of Resume Building\n",
      "LOKMANYA TILAK COLLEGE OF ENGINEERING KOPARKHAIRANE NAVI MUMBAI                                       Art of Resume Building\n",
      "Late G. N. Sapkal College Of Engineering                                                              Art of Resume Building\n",
      "MIT Academy Of Engineering ,Alandi                                                                    Art of Resume Building\n",
      "New horizon institute of Technology and Management                                                    Art of Resume Building\n",
      "Pillai College of Engineering New Panvel                                             Internship Program(IP) Success Conclave\n",
      "Priyadarshini college of engineering, Nagpur                                                          Art of Resume Building\n",
      "S.I.E.S. Graduate School Of Technology, Nerul, Navi Mumbai                                            Art of Resume Building\n",
      "Silicon Institute of Technology                                                      Internship Program(IP) Success Conclave\n",
      "St Xavier's College                                                                  Internship Program(IP) Success Conclave\n",
      "St.Francis Institute of Technology                                                                    Art of Resume Building\n",
      "Symbiosis Institute of Technology, Pune                                                               Art of Resume Building\n",
      "THAKUR INSTITUTE OF MANAGEMENT STUDIES, CAREER DEVELOPMENT & RESEARCH - [TIMSCDR]                     Art of Resume Building\n",
      "Vidyalankar Institute of Technology, Mumbai                                          Internship Program(IP) Success Conclave\n",
      "Vishwakarma Institute of Technology, Pune                                                             Art of Resume Building\n",
      "Wilson college                                                                                        Art of Resume Building\n",
      "a. c. patil college of engineering                                                               Product Design & Full Stack\n",
      "adhiyamaan college of engineering                                                                Product Design & Full Stack\n",
      "ap shah institute of technology                                                      Internship Program(IP) Success Conclave\n",
      "b. k. birla college of arts, science & commerce (autonomous), kalyan                             Product Design & Full Stack\n",
      "chhattisgarh swami vivekananda technical university teaching department bhilai                   Product Design & Full Stack\n",
      "d y patil institute of mca and management akurdi pune                                Internship Program(IP) Success Conclave\n",
      "dkte society's textile and engineering institute ichalkaranji                                    Product Design & Full Stack\n",
      "don bosco college of engineering fatorda goa                                                     Product Design & Full Stack\n",
      "g h raisoni institut of engineering and technology pune                                          Product Design & Full Stack\n",
      "government polytechnic gandhinagar                                                               Product Design & Full Stack\n",
      "kle society's college of bca, rls institute, belagavi                                            Product Design & Full Stack\n",
      "late g. n. sapkal college of engineering                                                         Product Design & Full Stack\n",
      "ld college of engineering, ahmedabad, gujarat                                                    Product Design & Full Stack\n",
      "lokmanya tilak college of engineering koparkhairane navi mumbai                                  Product Design & Full Stack\n",
      "mit academy of engineering ,alandi                                                               Product Design & Full Stack\n",
      "na                                                                                         Data Visualization using Power BI\n",
      "new horizon institute of technology and management                                               Product Design & Full Stack\n",
      "pillai college of engineering new panvel                                                         Product Design & Full Stack\n",
      "priyadarshini college of engineering, nagpur                                                     Product Design & Full Stack\n",
      "s.i.e.s. graduate school of technology, nerul, navi mumbai                                       Product Design & Full Stack\n",
      "silicon institute of technology                                                                  Product Design & Full Stack\n",
      "st xavier's college                                                                              Product Design & Full Stack\n",
      "st.francis institute of technology                                                               Product Design & Full Stack\n",
      "symbiosis institute of technology, pune                                                          Product Design & Full Stack\n",
      "thakur institute of management studies, career development & research - [timscdr]                Product Design & Full Stack\n",
      "vidyalankar institute of technology, mumbai                                                      Product Design & Full Stack\n",
      "vishwakarma institute of technology, pune                                                        Product Design & Full Stack\n",
      "wilson college                                                                                   Product Design & Full Stack\n",
      "dtype: object\n"
     ]
    }
   ],
   "source": [
    "cross_tab = pd.crosstab(df['Events'], df['College Name'])\n",
    "max_attendance_per_college = cross_tab.idxmax(axis=0)\n",
    "\n",
    "print(\"Event(s) attracting the most students from specific fields of study:\")\n",
    "print(max_attendance_per_college)\n"
   ]
  },
  {
   "cell_type": "markdown",
   "metadata": {},
   "source": [
    "Query 12 - Do students in leadership positions in their college years tend to have higher GPAs or better expected salary?"
   ]
  },
  {
   "cell_type": "code",
   "execution_count": 26,
   "metadata": {},
   "outputs": [
    {
     "data": {
      "text/plain": [
       "array(['yes', 'no', 'no '], dtype=object)"
      ]
     },
     "execution_count": 26,
     "metadata": {},
     "output_type": "execute_result"
    }
   ],
   "source": [
    "df[\"Leadership- skills\"].unique()"
   ]
  },
  {
   "cell_type": "code",
   "execution_count": 27,
   "metadata": {},
   "outputs": [],
   "source": [
    "df[\"Leadership- skills\"] = df[\"Leadership- skills\"].replace(\"no \",\"no\")"
   ]
  },
  {
   "cell_type": "code",
   "execution_count": 28,
   "metadata": {},
   "outputs": [
    {
     "ename": "NameError",
     "evalue": "name 'wdf' is not defined",
     "output_type": "error",
     "traceback": [
      "\u001b[1;31m---------------------------------------------------------------------------\u001b[0m",
      "\u001b[1;31mNameError\u001b[0m                                 Traceback (most recent call last)",
      "Cell \u001b[1;32mIn[28], line 2\u001b[0m\n\u001b[0;32m      1\u001b[0m student_leaders \u001b[38;5;241m=\u001b[39m df[df[\u001b[38;5;124m\"\u001b[39m\u001b[38;5;124mLeadership- skills\u001b[39m\u001b[38;5;124m\"\u001b[39m]\u001b[38;5;241m==\u001b[39m\u001b[38;5;124m\"\u001b[39m\u001b[38;5;124myes\u001b[39m\u001b[38;5;124m\"\u001b[39m]\n\u001b[1;32m----> 2\u001b[0m student_wo_leaders \u001b[38;5;241m=\u001b[39m\u001b[43mwdf\u001b[49m[df[\u001b[38;5;124m\"\u001b[39m\u001b[38;5;124mLeadership- skills\u001b[39m\u001b[38;5;124m\"\u001b[39m]\u001b[38;5;241m==\u001b[39m\u001b[38;5;124m\"\u001b[39m\u001b[38;5;124mno\u001b[39m\u001b[38;5;124m\"\u001b[39m]\n",
      "\u001b[1;31mNameError\u001b[0m: name 'wdf' is not defined"
     ]
    }
   ],
   "source": [
    "student_leaders = df[df[\"Leadership- skills\"]==\"yes\"]\n",
    "student_wo_leaders =wdf[df[\"Leadership- skills\"]==\"no\"]"
   ]
  },
  {
   "cell_type": "code",
   "execution_count": null,
   "metadata": {},
   "outputs": [
    {
     "data": {
      "text/plain": [
       "(1631, 16)"
      ]
     },
     "execution_count": 33,
     "metadata": {},
     "output_type": "execute_result"
    }
   ],
   "source": [
    "student_leaders.shape"
   ]
  },
  {
   "cell_type": "code",
   "execution_count": null,
   "metadata": {},
   "outputs": [
    {
     "data": {
      "text/plain": [
       "(3263, 16)"
      ]
     },
     "execution_count": 34,
     "metadata": {},
     "output_type": "execute_result"
    }
   ],
   "source": [
    "student_wo_leaders.shape"
   ]
  },
  {
   "cell_type": "code",
   "execution_count": null,
   "metadata": {},
   "outputs": [],
   "source": [
    "avg_GPA_leaders = sum(student_leaders[\"CGPA\"])/student_leaders.shape[0]\n",
    "avg_GPA_wo_leaders = sum(student_wo_leaders[\"CGPA\"])/student_wo_leaders.shape[0]\n",
    "avg_Sal_leaders = sum(student_leaders[\"Expected salary (Lac)\"])/student_leaders.shape[0]\n",
    "avg_Sal_wo_leaders = sum(student_wo_leaders[\"Expected salary (Lac)\"])/student_wo_leaders.shape[0]"
   ]
  },
  {
   "cell_type": "code",
   "execution_count": null,
   "metadata": {},
   "outputs": [
    {
     "name": "stdout",
     "output_type": "stream",
     "text": [
      "8.036787247087704 8.039319644498917\n"
     ]
    }
   ],
   "source": [
    "print(avg_GPA_leaders,avg_GPA_wo_leaders)"
   ]
  },
  {
   "cell_type": "code",
   "execution_count": null,
   "metadata": {},
   "outputs": [
    {
     "name": "stdout",
     "output_type": "stream",
     "text": [
      "13.971796443899448 13.91756052712228\n"
     ]
    }
   ],
   "source": [
    "print(avg_Sal_leaders,avg_Sal_wo_leaders)"
   ]
  },
  {
   "cell_type": "markdown",
   "metadata": {},
   "source": [
    "Query 13 - Is there a correlationship\n",
    "positions during their college years tend to have higher GPAs or better expected salary?\n"
   ]
  },
  {
   "cell_type": "code",
   "execution_count": null,
   "metadata": {},
   "outputs": [
    {
     "data": {
      "text/plain": [
       "0.003962883359825868"
      ]
     },
     "execution_count": 44,
     "metadata": {},
     "output_type": "execute_result"
    }
   ],
   "source": [
    "df[\"Leadership- skills\"].replace([\"yes\",\"no\"],[1,0]).corr(df[\"Expected salary (Lac)\"])"
   ]
  },
  {
   "cell_type": "markdown",
   "metadata": {},
   "source": [
    "Query 14 - How many students are graduating by the end of 2024?"
   ]
  },
  {
   "cell_type": "code",
   "execution_count": null,
   "metadata": {},
   "outputs": [
    {
     "data": {
      "text/plain": [
       "2023    1536\n",
       "2024    1511\n",
       "Name: Year of Graduation, dtype: int64"
      ]
     },
     "execution_count": 32,
     "metadata": {},
     "output_type": "execute_result"
    }
   ],
   "source": [
    "df[\"Year of Graduation\"].loc[df[\"Year of Graduation\"]<=2024].value_counts()"
   ]
  },
  {
   "cell_type": "markdown",
   "metadata": {},
   "source": [
    "Query 15 - Which promotion channel brings in more student participations for the event?"
   ]
  },
  {
   "cell_type": "code",
   "execution_count": 39,
   "metadata": {},
   "outputs": [],
   "source": [
    "gf=df[df.columns[6]].replace(\"Others\",np.nan).fillna(df[df.columns[7]])"
   ]
  },
  {
   "cell_type": "code",
   "execution_count": 24,
   "metadata": {},
   "outputs": [],
   "source": [
    "dgf = gf.dropna()"
   ]
  },
  {
   "cell_type": "code",
   "execution_count": 1,
   "metadata": {},
   "outputs": [
    {
     "ename": "NameError",
     "evalue": "name 'dgf' is not defined",
     "output_type": "error",
     "traceback": [
      "\u001b[1;31m---------------------------------------------------------------------------\u001b[0m",
      "\u001b[1;31mNameError\u001b[0m                                 Traceback (most recent call last)",
      "Cell \u001b[1;32mIn[1], line 2\u001b[0m\n\u001b[0;32m      1\u001b[0m value_counts \u001b[38;5;241m=\u001b[39m {}\n\u001b[1;32m----> 2\u001b[0m \u001b[38;5;28;01mfor\u001b[39;00m entry \u001b[38;5;129;01min\u001b[39;00m \u001b[43mdgf\u001b[49m\u001b[38;5;241m.\u001b[39mapply(\u001b[38;5;28;01mlambda\u001b[39;00m x:x\u001b[38;5;241m.\u001b[39mreplace(\u001b[38;5;124m\"\u001b[39m\u001b[38;5;124m \u001b[39m\u001b[38;5;124m\"\u001b[39m,\u001b[38;5;124m\"\u001b[39m\u001b[38;5;124mt\u001b[39m\u001b[38;5;124m\"\u001b[39m)\u001b[38;5;241m.\u001b[39msplit(\u001b[38;5;124m\"\u001b[39m\u001b[38;5;124m|\u001b[39m\u001b[38;5;124m\"\u001b[39m)):\n\u001b[0;32m      3\u001b[0m     \u001b[38;5;28;01mfor\u001b[39;00m item \u001b[38;5;129;01min\u001b[39;00m entry:\n\u001b[0;32m      4\u001b[0m         \u001b[38;5;28;01mif\u001b[39;00m item \u001b[38;5;129;01min\u001b[39;00m value_counts:\n",
      "\u001b[1;31mNameError\u001b[0m: name 'dgf' is not defined"
     ]
    }
   ],
   "source": [
    "value_counts = {}\n",
    "for entry in dgf.apply(lambda x:x.replace(\" \",\"t\").split(\"|\")):\n",
    "    for item in entry:\n",
    "        if item in value_counts:\n",
    "            value_counts[item] += 1\n",
    "        else:\n",
    "            value_counts[item] = 1"
   ]
  },
  {
   "cell_type": "code",
   "execution_count": 67,
   "metadata": {},
   "outputs": [],
   "source": [
    "max_key = max(value_counts, key=lambda k: value_counts[k])\n"
   ]
  },
  {
   "cell_type": "code",
   "execution_count": 68,
   "metadata": {},
   "outputs": [
    {
     "data": {
      "text/plain": [
       "'Whatsapp'"
      ]
     },
     "execution_count": 68,
     "metadata": {},
     "output_type": "execute_result"
    }
   ],
   "source": [
    "max_key"
   ]
  },
  {
   "cell_type": "markdown",
   "metadata": {},
   "source": [
    "Query 16 - Find the total number of students who attended the events related to Data Science? (From all Data\n",
    "Science related courses.)"
   ]
  },
  {
   "cell_type": "code",
   "execution_count": 18,
   "metadata": {},
   "outputs": [
    {
     "data": {
      "text/plain": [
       "array(['Art of Resume Building', 'Data Visualization using Power BI',\n",
       "       'Artificial Intelligence', 'Hello ML and DL', 'Product Marketing',\n",
       "       'IAC - Q&A', 'Internship Program(IP) Success Conclave',\n",
       "       'IS DATA SCIENCE FOR YOU?', 'KYC - Know Your CCPC',\n",
       "       'Product Design & Full Stack', 'RPA: A Boon or A Bane',\n",
       "       'Skill and Employability Enhancement',\n",
       "       'Talk on Skill and Employability Enhancement',\n",
       "       'The Agile Ways of Working', 'The SDLC & their transformations',\n",
       "       'Transformation with DevOps: The Easy Way'], dtype=object)"
      ]
     },
     "execution_count": 18,
     "metadata": {},
     "output_type": "execute_result"
    }
   ],
   "source": [
    "df[df.columns[3]].unique()"
   ]
  },
  {
   "cell_type": "code",
   "execution_count": 19,
   "metadata": {},
   "outputs": [],
   "source": [
    "Data_Science = ['Data Visualization using Power BI','Artificial Intelligence', 'Hello ML and DL','IS DATA SCIENCE FOR YOU?','RPA: A Boon or A Bane',]"
   ]
  },
  {
   "cell_type": "code",
   "execution_count": 27,
   "metadata": {},
   "outputs": [],
   "source": [
    "index = []\n",
    "for event in Data_Science:\n",
    "    index.append(df.loc[df[df.columns[3]] == event].index)"
   ]
  },
  {
   "cell_type": "code",
   "execution_count": 32,
   "metadata": {},
   "outputs": [],
   "source": [
    "t = df[df[df.columns[3]].isin(Data_Science)][df.columns[3]].value_counts()\n"
   ]
  },
  {
   "cell_type": "code",
   "execution_count": 38,
   "metadata": {},
   "outputs": [
    {
     "name": "stdout",
     "output_type": "stream",
     "text": [
      "Data Visualization using Power BI    455\n",
      "IS DATA SCIENCE FOR YOU?             306\n",
      "Hello ML and DL                      262\n",
      "Artificial Intelligence              125\n",
      "RPA: A Boon or A Bane                114\n",
      "Name: Events, dtype: int64\n",
      "\n",
      "Sum of Students: 1262\n"
     ]
    }
   ],
   "source": [
    "print(t,f\"Sum of Students: {sum(t)}\",sep=\"\\n\\n\")"
   ]
  },
  {
   "cell_type": "markdown",
   "metadata": {},
   "source": [
    "Query 17 - Those who have high CGPA & More experience in language those who had high expectations for\n",
    "salary? (Avg)"
   ]
  },
  {
   "cell_type": "code",
   "execution_count": 26,
   "metadata": {},
   "outputs": [],
   "source": [
    "#Definition of High CGPA\\CG\n",
    "high_CGPA = 8 \n",
    "#Definition of High CGPA\\CG\n",
    "high_exper = 6\n",
    "\n",
    "#Definition of High Expectations\n",
    "high_salary = 20"
   ]
  },
  {
   "cell_type": "code",
   "execution_count": 32,
   "metadata": {},
   "outputs": [
    {
     "data": {
      "text/plain": [
       "False"
      ]
     },
     "execution_count": 32,
     "metadata": {},
     "output_type": "execute_result"
    }
   ],
   "source": [
    "np.mean(df.loc[df[df.columns[11]].astype(int)>=high_CGPA].loc[df[df.columns[12]].astype(int)>=high_exper][df.columns[14]])>=high_salary"
   ]
  },
  {
   "cell_type": "markdown",
   "metadata": {},
   "source": [
    "Query 18 - How students know about the event from their colleges? Which of these top 5 colleges?"
   ]
  },
  {
   "cell_type": "code",
   "execution_count": 4,
   "metadata": {},
   "outputs": [],
   "source": [
    "gf=df[df.columns[6]].replace(\"Others\",np.nan).fillna(df[df.columns[7]])"
   ]
  },
  {
   "cell_type": "code",
   "execution_count": 5,
   "metadata": {},
   "outputs": [],
   "source": [
    "giddy = gf.dropna().apply(lambda x:x.replace(\" \",\"\"))"
   ]
  },
  {
   "cell_type": "code",
   "execution_count": 8,
   "metadata": {},
   "outputs": [],
   "source": [
    "gdf = df.loc[giddy[giddy.str.contains(\"College\")].index][df.columns[5]]"
   ]
  },
  {
   "cell_type": "code",
   "execution_count": 12,
   "metadata": {},
   "outputs": [
    {
     "data": {
      "text/plain": [
       "vidyalankar institute of technology, mumbai              26\n",
       "kle society's college of bca, rls institute, belagavi    25\n",
       "mit academy of engineering ,alandi                       24\n",
       "ld college of engineering, ahmedabad, gujarat            23\n",
       "wilson college                                           21\n",
       "Name: College Name, dtype: int64"
      ]
     },
     "execution_count": 12,
     "metadata": {},
     "output_type": "execute_result"
    }
   ],
   "source": [
    "gdf.value_counts()[:5]"
   ]
  }
 ],
 "metadata": {
  "kernelspec": {
   "display_name": "sem8",
   "language": "python",
   "name": "python3"
  },
  "language_info": {
   "codemirror_mode": {
    "name": "ipython",
    "version": 3
   },
   "file_extension": ".py",
   "mimetype": "text/x-python",
   "name": "python",
   "nbconvert_exporter": "python",
   "pygments_lexer": "ipython3",
   "version": "3.10.10"
  }
 },
 "nbformat": 4,
 "nbformat_minor": 2
}
