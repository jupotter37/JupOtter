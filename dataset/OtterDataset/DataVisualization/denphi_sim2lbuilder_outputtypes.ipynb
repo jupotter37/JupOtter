{
 "cells": [
  {
   "cell_type": "code",
   "execution_count": null,
   "metadata": {},
   "outputs": [],
   "source": [
    "from sim2lbuilder import WidgetConstructor"
   ]
  },
  {
   "cell_type": "markdown",
   "metadata": {},
   "source": [
    "## General Output\n",
    "- Output"
   ]
  },
  {
   "cell_type": "code",
   "execution_count": null,
   "metadata": {},
   "outputs": [],
   "source": [
    "schema = {\n",
    "    'outputs': {\n",
    "        'output1' : { 'type': 'Output'}\n",
    "    },\n",
    "    'layout' : {\n",
    "        'type' : 'VBox',\n",
    "        'children' : {\n",
    "            'output1' : None      \n",
    "        }\n",
    "    }\n",
    "}\n",
    "s = WidgetConstructor(schema)\n",
    "s.assemble()\n",
    "s"
   ]
  },
  {
   "cell_type": "code",
   "execution_count": null,
   "metadata": {},
   "outputs": [],
   "source": [
    "s.outputs['output1'].clear_output()\n",
    "with s.outputs['output1']:\n",
    "    print (['asd','sd'])"
   ]
  },
  {
   "cell_type": "markdown",
   "metadata": {},
   "source": [
    "## HTML\n",
    "- HTML\n",
    "- HTMLMath"
   ]
  },
  {
   "cell_type": "code",
   "execution_count": null,
   "metadata": {},
   "outputs": [],
   "source": [
    "schema = {\n",
    "    'outputs': {\n",
    "        'output1' : { 'type': 'HTML', 'value': 'This <b>is</b> an <i>example</i>'},\n",
    "        'output2' : { 'type': 'HTMLMath', 'value' : 'Some math and <i>HTML</i>: \\(x^2\\) and $$\\\\frac{x+1}{x-1}$$'}\n",
    "    },\n",
    "    'layout' : {\n",
    "        'type' : 'VBox',\n",
    "        'children' : {\n",
    "            'output1' : None, 'output2' : None\n",
    "        }\n",
    "    }\n",
    "}\n",
    "s = WidgetConstructor(schema)\n",
    "s.assemble()\n",
    "s"
   ]
  },
  {
   "cell_type": "markdown",
   "metadata": {},
   "source": [
    "## Images\n",
    "- Image\n",
    "- Output"
   ]
  },
  {
   "cell_type": "code",
   "execution_count": null,
   "metadata": {},
   "outputs": [],
   "source": [
    "schema = {\n",
    "    'outputs': {\n",
    "        'output1' : { 'type': 'Image' },\n",
    "        'output2' : { 'type': 'Output' },\n",
    "    },\n",
    "    'layout' : {\n",
    "        'type' : 'VBox',\n",
    "        'layout': {\n",
    "            'width' : '200px'\n",
    "        },\n",
    "        'children' : {\n",
    "            'output1' : None, 'output2' : None\n",
    "        }\n",
    "    }\n",
    "}\n",
    "s = WidgetConstructor(schema)\n",
    "s.assemble()\n",
    "s"
   ]
  },
  {
   "cell_type": "code",
   "execution_count": null,
   "metadata": {},
   "outputs": [],
   "source": [
    "file = open(\"nanohub.png\", \"rb\")\n",
    "image = file.read()\n",
    "s.outputs[\"output1\"].value = image\n",
    "\n",
    "from IPython.display import Image\n",
    "s.outputs[\"output2\"].clear_output()\n",
    "with s.outputs[\"output2\"]:\n",
    "    display(Image(url= \"nanohub.png\", width=200))"
   ]
  },
  {
   "cell_type": "markdown",
   "metadata": {},
   "source": [
    "## 2D Plots\n",
    "- Plotly\n",
    "- Output + (matplotlib, seaborn, bokeh, ...)\n"
   ]
  },
  {
   "cell_type": "code",
   "execution_count": null,
   "metadata": {},
   "outputs": [],
   "source": [
    "schema = {\n",
    "    'outputs': {\n",
    "        'output1' : { 'type': 'FigureWidget', 'module' : 'plotly.graph_objects' },\n",
    "        'output2' : { 'type': 'Output' },\n",
    "        'output3' : { 'type': 'Output' },\n",
    "    },\n",
    "    'layout' : {\n",
    "        'type' : 'VBox',\n",
    "        'children' : {\n",
    "            'output1' : None, 'output2' : None, 'output3' : None\n",
    "        }\n",
    "    }\n",
    "}\n",
    "s = WidgetConstructor(schema)\n",
    "s.assemble()\n",
    "s"
   ]
  },
  {
   "cell_type": "code",
   "execution_count": null,
   "metadata": {},
   "outputs": [],
   "source": [
    "import numpy as np\n",
    "import plotly.graph_objects as go\n",
    "import matplotlib.pyplot as plt\n",
    "from bokeh.plotting import figure, output_file, show\n",
    "from bokeh.resources import INLINE\n",
    "import bokeh.io\n",
    "x = np.linspace(0, 10, 100)\n",
    "y = np.sin(x)\n",
    "\n",
    "s.outputs[\"output1\"].data = [] #remove previous plots\n",
    "s.outputs[\"output1\"].add_trace(go.Scatter(x=x, y=y, mode='lines+markers'))\n",
    "\n",
    "s.outputs[\"output2\"].clear_output()\n",
    "with s.outputs[\"output2\"]:\n",
    "    fig = plt.figure()\n",
    "    plt.plot(x, y)\n",
    "    plt.show(fig)\n",
    "    \n",
    "s.outputs[\"output3\"].clear_output()\n",
    "with s.outputs[\"output3\"]:\n",
    "    graph = figure()\n",
    "    graph.line(x, y)\n",
    "    show(graph)\n",
    "    bokeh.io.output_notebook()"
   ]
  },
  {
   "cell_type": "markdown",
   "metadata": {},
   "source": [
    "## 3D Plots\n",
    "- Plotly\n",
    "- Output + (matplotlib, seaborn, bokeh, ...)"
   ]
  },
  {
   "cell_type": "code",
   "execution_count": null,
   "metadata": {},
   "outputs": [],
   "source": [
    "schema = {\n",
    "    'outputs': {\n",
    "        'output1' : { 'type': 'FigureWidget', 'module' : 'plotly.graph_objects' },\n",
    "        'output2' : { 'type': 'Output' },\n",
    "    },\n",
    "    'layout' : {\n",
    "        'type' : 'HBox',\n",
    "        'children' : {\n",
    "            'output1' : None, 'output2' : None\n",
    "        }\n",
    "    }\n",
    "}\n",
    "s = WidgetConstructor(schema)\n",
    "s.assemble()\n",
    "s"
   ]
  },
  {
   "cell_type": "code",
   "execution_count": null,
   "metadata": {},
   "outputs": [],
   "source": [
    "import numpy as np\n",
    "import plotly.graph_objects as go\n",
    "import matplotlib.pyplot as plt\n",
    "x = np.linspace(0, 10, 100)\n",
    "y = np.sin(x)\n",
    "z = y*np.sin(x)\n",
    "\n",
    "s.outputs[\"output1\"].data = [] #remove previous plots\n",
    "s.outputs[\"output1\"].add_trace(go.Scatter3d(x=x, y=y, z=z, mode='lines+markers'))\n",
    "\n",
    "s.outputs[\"output2\"].clear_output()\n",
    "with s.outputs[\"output2\"]:\n",
    "    fig = plt.figure()\n",
    "    ax = plt.axes(projection='3d')\n",
    "    ax.scatter3D(x, y, z, c=x, cmap='Greens');\n",
    "    plt.show(fig)\n"
   ]
  },
  {
   "cell_type": "markdown",
   "metadata": {},
   "source": [
    "# 3D Advanced data visualization\n",
    "\n",
    "- Plotly\n",
    "- K3D\n",
    "- ipyvolume"
   ]
  },
  {
   "cell_type": "code",
   "execution_count": null,
   "metadata": {},
   "outputs": [],
   "source": [
    "schema = {\n",
    "    'outputs': {\n",
    "        'output1' : { 'type': 'FigureWidget', 'module' : 'plotly.graph_objects' },\n",
    "        #'output2' : { 'type': 'plot', 'module' : 'k3d', 'menu_visibility' : True },   \n",
    "        #'output3' : { 'type': 'figure', 'module' : 'ipyvolume' },   \n",
    "    },\n",
    "    'layout' : {\n",
    "        'type' : 'HBox',\n",
    "        'children' : {\n",
    "            'output1' : None,\n",
    "            #'output3' : None, \n",
    "            #'output2' : None\n",
    "        }\n",
    "    }\n",
    "}\n",
    "s = WidgetConstructor(schema)\n",
    "s.assemble()\n",
    "s"
   ]
  },
  {
   "cell_type": "code",
   "execution_count": null,
   "metadata": {},
   "outputs": [],
   "source": [
    "import numpy as np\n",
    "import plotly.graph_objects as go\n",
    "import matplotlib.pyplot as plt\n",
    "#import k3d\n",
    "#import ipyvolume as ipv\n",
    "\n",
    "Nx, Ny = 50, 60\n",
    "xmin, xmax, ymin, ymax = -3, 3, 0, 3\n",
    "x = np.linspace(xmin, xmax, Nx, dtype=np.float32)\n",
    "y = np.linspace(ymin, ymax, Ny, dtype=np.float32)\n",
    "x, y = np.meshgrid(x, y)\n",
    "\n",
    "f = np.sin(x ** 2 + y ** 2)\n",
    "\n",
    "s.outputs[\"output1\"].data = [] \n",
    "s.outputs[\"output1\"].add_trace(go.Surface(z=f))\n",
    "#s.outputs[\"output2\"].layout.flex= '1'\n",
    "\n",
    "#s.outputs[\"output2\"].objects=[]\n",
    "#s.outputs[\"output2\"].__iadd__(k3d.surface(f, xmin=xmin, xmax=xmax, ymin=ymin, ymax=ymax));\n",
    "#s.outputs[\"output2\"].layout.flex= '1'\n",
    "\n",
    "#s.outputs[\"output3\"].layout.flex= '1'\n",
    "#with s.outputs[\"output3\"]:\n",
    "#    ipv.plot_surface(x, y, f, color=\"red\")\n"
   ]
  },
  {
   "cell_type": "code",
   "execution_count": null,
   "metadata": {},
   "outputs": [],
   "source": []
  },
  {
   "cell_type": "markdown",
   "metadata": {},
   "source": [
    "# Molecules / Atoms\n",
    "\n",
    "- NGLView\n",
    "- K3D\n",
    "- Output + imolecule"
   ]
  },
  {
   "cell_type": "code",
   "execution_count": null,
   "metadata": {},
   "outputs": [],
   "source": [
    "schema = {\n",
    "    'outputs': {\n",
    "        'output1' : { 'type': 'NGLWidget', 'module' : 'nglview' },\n",
    "        'output2' : { 'type': 'Speck', 'module' : 'ipyspeck.speck' },   \n",
    "        'output3' : { 'type': 'Output' },   \n",
    "    },\n",
    "    'layout' : {\n",
    "        'type' : 'GridBox',\n",
    "        'children' : {\n",
    "            'output1' : None, 'output2' : None, 'output3' : None\n",
    "        },\n",
    "        'layout' : {\n",
    "            'grid_template_columns' : '33% 33% 33%'\n",
    "        }\n",
    "    }\n",
    "}\n",
    "s = WidgetConstructor(schema)\n",
    "s.assemble()\n",
    "s"
   ]
  },
  {
   "cell_type": "code",
   "execution_count": null,
   "metadata": {},
   "outputs": [],
   "source": [
    "from openbabel import openbabel\n",
    "import imolecule\n",
    "#!wget https://files.rcsb.org/download/1HEL.pdb\n",
    "obConversion = openbabel.OBConversion()\n",
    "obConversion.SetInAndOutFormats(\"pdb\", \"xyz\")\n",
    "mol = openbabel.OBMol()\n",
    "obConversion.ReadFile(mol, \"1HEL.pdb\")\n",
    "co2 = obConversion.WriteString(mol)\n",
    "\n",
    "\n",
    "s.outputs[\"output1\"].clear()\n",
    "s.outputs[\"output1\"].layout.width= '100%'\n",
    "s.outputs[\"output1\"].add_component('1HEL.pdb')\n",
    "s.outputs[\"output1\"].add_representation('ball+stick')\n",
    "\n",
    "s.outputs[\"output2\"].data=co2\n",
    "\n",
    "s.outputs['output3'].clear_output()\n",
    "with s.outputs[\"output3\"]:\n",
    "    imolecule.draw(\"1HEL.pdb\")"
   ]
  },
  {
   "cell_type": "markdown",
   "metadata": {},
   "source": [
    "## Maps\n",
    "- ipyleaflet"
   ]
  },
  {
   "cell_type": "code",
   "execution_count": null,
   "metadata": {
    "scrolled": false
   },
   "outputs": [],
   "source": [
    "schema = {\n",
    "    'outputs': {\n",
    "        'output1' : { 'type': 'Map', 'module' : 'ipyleaflet' }\n",
    "    },\n",
    "    'layout' : {\n",
    "        'type' : 'Box',\n",
    "        'children' : {\n",
    "            'output1' : None\n",
    "        }\n",
    "    }\n",
    "}\n",
    "s = WidgetConstructor(schema)\n",
    "s.assemble()\n",
    "s"
   ]
  },
  {
   "cell_type": "code",
   "execution_count": null,
   "metadata": {},
   "outputs": [],
   "source": [
    "import ipyleaflet\n",
    "\n",
    "s.outputs[\"output1\"].center=(40.4237, -86.9212)\n",
    "s.outputs[\"output1\"].zoom=15\n",
    "marker = ipyleaflet.Marker(location=(40.4237, -86.9212), draggable=False, title=\"Purdue University\")\n",
    "s.outputs[\"output1\"].add_layer(marker);"
   ]
  },
  {
   "cell_type": "code",
   "execution_count": null,
   "metadata": {},
   "outputs": [],
   "source": []
  },
  {
   "cell_type": "code",
   "execution_count": null,
   "metadata": {},
   "outputs": [],
   "source": []
  },
  {
   "cell_type": "code",
   "execution_count": null,
   "metadata": {},
   "outputs": [],
   "source": []
  }
 ],
 "metadata": {
  "kernelspec": {
   "display_name": "Python 3 (ipykernel)",
   "language": "python",
   "name": "python3"
  },
  "language_info": {
   "codemirror_mode": {
    "name": "ipython",
    "version": 3
   },
   "file_extension": ".py",
   "mimetype": "text/x-python",
   "name": "python",
   "nbconvert_exporter": "python",
   "pygments_lexer": "ipython3",
   "version": "3.8.10"
  }
 },
 "nbformat": 4,
 "nbformat_minor": 2
}
