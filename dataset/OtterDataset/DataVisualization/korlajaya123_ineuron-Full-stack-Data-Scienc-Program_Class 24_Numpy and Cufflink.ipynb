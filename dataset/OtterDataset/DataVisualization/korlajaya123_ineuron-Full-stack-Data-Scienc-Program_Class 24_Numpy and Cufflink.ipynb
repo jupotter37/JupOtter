{
  "nbformat": 4,
  "nbformat_minor": 0,
  "metadata": {
    "colab": {
      "name": "Class 24_Numpy.ipynb",
      "provenance": [],
      "collapsed_sections": [],
      "machine_shape": "hm"
    },
    "kernelspec": {
      "name": "python3",
      "display_name": "Python 3"
    },
    "language_info": {
      "name": "python"
    },
    "accelerator": "GPU",
    "gpuClass": "standard"
  },
  "cells": [
    {
      "cell_type": "markdown",
      "source": [
        "# **CLASS 24: NUMPY + DATA VISUALIZATION: 13 AUGUST 2022**"
      ],
      "metadata": {
        "id": "ZZFzVVb7mbkG"
      }
    },
    {
      "cell_type": "markdown",
      "source": [
        "NUMPY: NUMERICAL PYTHON\n",
        "We are going to use Numpy in Machine Learning, Deep Learning and Computer Vision because Computer understands numbers. There are lot of functions (2000+ converted from MATLAB) inside numpy but majorly we will use 10-20 functions only."
      ],
      "metadata": {
        "id": "hY0vaU5gm0NX"
      }
    },
    {
      "cell_type": "code",
      "execution_count": 1,
      "metadata": {
        "id": "ryRynkL_lj87"
      },
      "outputs": [],
      "source": [
        "import numpy as np"
      ]
    },
    {
      "cell_type": "code",
      "source": [
        "l = [1,2,3,4,5,6]"
      ],
      "metadata": {
        "id": "PDwcajfXnuya"
      },
      "execution_count": 2,
      "outputs": []
    },
    {
      "cell_type": "code",
      "source": [
        "a1 = np.array(l) #1 Dimension"
      ],
      "metadata": {
        "id": "5-G_LU3tnxGY"
      },
      "execution_count": 3,
      "outputs": []
    },
    {
      "cell_type": "code",
      "source": [
        "l1 = [4,5,6,7,\"sudh\",34.565,True]  #Converted everything into string automatically. String occupies higher space than boolean,integer or float values. \n",
        "#U32 is internal representation of numpy array: 32 bits, 16 bits, 64 bits etc.\n",
        "np.array(l1)"
      ],
      "metadata": {
        "colab": {
          "base_uri": "https://localhost:8080/"
        },
        "id": "lHsuDxyrnyxX",
        "outputId": "3a138a00-c2f1-4605-8b41-8234cee90db5"
      },
      "execution_count": 4,
      "outputs": [
        {
          "output_type": "execute_result",
          "data": {
            "text/plain": [
              "array(['4', '5', '6', '7', 'sudh', '34.565', 'True'], dtype='<U32')"
            ]
          },
          "metadata": {},
          "execution_count": 4
        }
      ]
    },
    {
      "cell_type": "code",
      "source": [
        "a2 = np.array([[1,2,3],[4,5,6]]) #2 Dimensional Array:  "
      ],
      "metadata": {
        "id": "8qkrV2DEoEqd"
      },
      "execution_count": 5,
      "outputs": []
    },
    {
      "cell_type": "code",
      "source": [
        "a3 = np.array([[[1,2,3],[4,5,6],[7,8,9]]]) "
      ],
      "metadata": {
        "id": "fO7Jkic4o2hT"
      },
      "execution_count": 6,
      "outputs": []
    },
    {
      "cell_type": "code",
      "source": [
        "#Dimensions of Array: How much axes is needed for data to be represented: When we perform data manipulation/computation, these dimensions will become important (Matrix Multiplication etc)\n",
        "print(a1.ndim) #One Axis needed to represent this entire data point\n",
        "print(a2.ndim) #Two Axes needed to represent this entire data point\n",
        "print(a3.ndim) #Three Axes needed to represent this entire data point"
      ],
      "metadata": {
        "colab": {
          "base_uri": "https://localhost:8080/"
        },
        "id": "81WLtjmDpMC_",
        "outputId": "d9268a20-75b0-4aed-a024-0cc9bfd83cee"
      },
      "execution_count": 7,
      "outputs": [
        {
          "output_type": "stream",
          "name": "stdout",
          "text": [
            "1\n",
            "2\n",
            "3\n"
          ]
        }
      ]
    },
    {
      "cell_type": "code",
      "source": [
        "#Size always tells us number of elements in the array\n",
        "print(a1.size)\n",
        "print(a2.size)\n",
        "print(a3.size)"
      ],
      "metadata": {
        "colab": {
          "base_uri": "https://localhost:8080/"
        },
        "id": "SRvGcZi3pvqn",
        "outputId": "d88ffd4d-d236-4d0f-fed7-f18ab2e1a616"
      },
      "execution_count": 8,
      "outputs": [
        {
          "output_type": "stream",
          "name": "stdout",
          "text": [
            "6\n",
            "6\n",
            "9\n"
          ]
        }
      ]
    },
    {
      "cell_type": "code",
      "source": [
        "#Shape gives rows and columns\n",
        "print(a1.shape) \n",
        "print(a2.shape) #2 Rows and 3 Columns\n",
        "print(a3.shape) #3 Rows and 3 Columns   #We read as we have 3 cross 3 and have one such matrice (z Axis Depth,Rows,Columns)"
      ],
      "metadata": {
        "colab": {
          "base_uri": "https://localhost:8080/"
        },
        "id": "ZxkxIFzLsU2H",
        "outputId": "5a48c359-fade-49db-c00a-efca43e98ec4"
      },
      "execution_count": 9,
      "outputs": [
        {
          "output_type": "stream",
          "name": "stdout",
          "text": [
            "(6,)\n",
            "(2, 3)\n",
            "(1, 3, 3)\n"
          ]
        }
      ]
    },
    {
      "cell_type": "code",
      "source": [
        "#Generating Random Numbers between 2 and 4\n",
        "print(np.random.randint(2,5))\n",
        "#Generating Random Numbers between 2 and 49\n",
        "print(np.random.randint(2,50))\n",
        "#Generating Multiple Random Numbers\n",
        "print(np.random.randint(2,50,(3,4))) #3 Rows and 4 Columns\n",
        "#Generating Multiple Random Numbers\n",
        "print(np.random.randint(2,50,(2,3,4))) #3 Rows and 4 Columns and 2 such matrices\n",
        "#Images are actually 3D Arrays"
      ],
      "metadata": {
        "colab": {
          "base_uri": "https://localhost:8080/"
        },
        "id": "wPYquK1ksjkc",
        "outputId": "a4961cf1-8c7a-422e-a4e3-2ed4844ee5c1"
      },
      "execution_count": 10,
      "outputs": [
        {
          "output_type": "stream",
          "name": "stdout",
          "text": [
            "4\n",
            "18\n",
            "[[18 44 32 42]\n",
            " [ 3 15 17 45]\n",
            " [22  3 17 41]]\n",
            "[[[10 19 28 13]\n",
            "  [42  9  7 41]\n",
            "  [11 42 22 13]]\n",
            "\n",
            " [[34 13 39 17]\n",
            "  [36  9 29  8]\n",
            "  [ 7 43 48 48]]]\n"
          ]
        }
      ]
    },
    {
      "cell_type": "code",
      "source": [
        "#Decimals also: Random Function is used for Data Normalization\n",
        "np.random.rand(2,3)"
      ],
      "metadata": {
        "colab": {
          "base_uri": "https://localhost:8080/"
        },
        "id": "bjKds9H-tTIt",
        "outputId": "52be0607-54ce-4314-cf1c-aa485adeab8f"
      },
      "execution_count": 11,
      "outputs": [
        {
          "output_type": "execute_result",
          "data": {
            "text/plain": [
              "array([[0.42241536, 0.10727608, 0.95272458],\n",
              "       [0.9213096 , 0.14611128, 0.91763219]])"
            ]
          },
          "metadata": {},
          "execution_count": 11
        }
      ]
    },
    {
      "cell_type": "code",
      "source": [
        "#Normal Distribtuion \n",
        "a4 = np.random.randn(4,4)"
      ],
      "metadata": {
        "id": "ccG4fey3vq8y"
      },
      "execution_count": 12,
      "outputs": []
    },
    {
      "cell_type": "code",
      "source": [
        "#Changing Shape of Data (In Images, we crop the image)\n",
        "#a4.reshape(3,4) #Error because this will accomodate 12 dataset points but we have 16 dataset points\n",
        "b1 = a4.reshape(2,8) #2 rows and 8 columns\n",
        "b2 = a4.reshape(8,2) #8 rows and 2 columns\n",
        "b3 = a4.reshape(1,16) #1 row and 16 columns\n",
        "b4 = a4.reshape(16,1) #16 columns and 1 row\n",
        "\n",
        "print(b1)\n",
        "print(b2)\n",
        "print(b3)\n",
        "print(b4)\n",
        "      \n"
      ],
      "metadata": {
        "colab": {
          "base_uri": "https://localhost:8080/"
        },
        "id": "ZKBoDzC2v9wx",
        "outputId": "8c2444da-8ad5-41fd-fc6b-7c23fb4ae25d"
      },
      "execution_count": 13,
      "outputs": [
        {
          "output_type": "stream",
          "name": "stdout",
          "text": [
            "[[ 4.99246327e-01  1.25963244e-01  3.14997957e+00 -8.50899753e-01\n",
            "  -6.05251587e-01 -1.34775902e+00 -5.83584254e-01 -7.57769014e-01]\n",
            " [-3.79479337e-01  8.74568929e-01 -1.17371048e-01 -6.51601623e-01\n",
            "   1.05962110e+00 -1.49936376e+00 -1.76574632e-03  9.76555282e-01]]\n",
            "[[ 4.99246327e-01  1.25963244e-01]\n",
            " [ 3.14997957e+00 -8.50899753e-01]\n",
            " [-6.05251587e-01 -1.34775902e+00]\n",
            " [-5.83584254e-01 -7.57769014e-01]\n",
            " [-3.79479337e-01  8.74568929e-01]\n",
            " [-1.17371048e-01 -6.51601623e-01]\n",
            " [ 1.05962110e+00 -1.49936376e+00]\n",
            " [-1.76574632e-03  9.76555282e-01]]\n",
            "[[ 4.99246327e-01  1.25963244e-01  3.14997957e+00 -8.50899753e-01\n",
            "  -6.05251587e-01 -1.34775902e+00 -5.83584254e-01 -7.57769014e-01\n",
            "  -3.79479337e-01  8.74568929e-01 -1.17371048e-01 -6.51601623e-01\n",
            "   1.05962110e+00 -1.49936376e+00 -1.76574632e-03  9.76555282e-01]]\n",
            "[[ 4.99246327e-01]\n",
            " [ 1.25963244e-01]\n",
            " [ 3.14997957e+00]\n",
            " [-8.50899753e-01]\n",
            " [-6.05251587e-01]\n",
            " [-1.34775902e+00]\n",
            " [-5.83584254e-01]\n",
            " [-7.57769014e-01]\n",
            " [-3.79479337e-01]\n",
            " [ 8.74568929e-01]\n",
            " [-1.17371048e-01]\n",
            " [-6.51601623e-01]\n",
            " [ 1.05962110e+00]\n",
            " [-1.49936376e+00]\n",
            " [-1.76574632e-03]\n",
            " [ 9.76555282e-01]]\n"
          ]
        }
      ]
    },
    {
      "cell_type": "code",
      "source": [
        " a4.reshape(2,-1) #Since 2 is a factor of 16, -1 or any negative number means that it will automatically detect the other factor which is 8 in this case"
      ],
      "metadata": {
        "colab": {
          "base_uri": "https://localhost:8080/"
        },
        "id": "VTSSn9QhxLCJ",
        "outputId": "09ddd38d-db14-494f-c17e-fa621c20b84f"
      },
      "execution_count": 14,
      "outputs": [
        {
          "output_type": "execute_result",
          "data": {
            "text/plain": [
              "array([[ 4.99246327e-01,  1.25963244e-01,  3.14997957e+00,\n",
              "        -8.50899753e-01, -6.05251587e-01, -1.34775902e+00,\n",
              "        -5.83584254e-01, -7.57769014e-01],\n",
              "       [-3.79479337e-01,  8.74568929e-01, -1.17371048e-01,\n",
              "        -6.51601623e-01,  1.05962110e+00, -1.49936376e+00,\n",
              "        -1.76574632e-03,  9.76555282e-01]])"
            ]
          },
          "metadata": {},
          "execution_count": 14
        }
      ]
    },
    {
      "cell_type": "code",
      "source": [
        "#3 Dimensions\n",
        "a4.reshape(2,2,4)"
      ],
      "metadata": {
        "colab": {
          "base_uri": "https://localhost:8080/"
        },
        "id": "urmAVdDAx2E5",
        "outputId": "2cec3af2-c201-4104-9f18-778bca19c165"
      },
      "execution_count": 15,
      "outputs": [
        {
          "output_type": "execute_result",
          "data": {
            "text/plain": [
              "array([[[ 4.99246327e-01,  1.25963244e-01,  3.14997957e+00,\n",
              "         -8.50899753e-01],\n",
              "        [-6.05251587e-01, -1.34775902e+00, -5.83584254e-01,\n",
              "         -7.57769014e-01]],\n",
              "\n",
              "       [[-3.79479337e-01,  8.74568929e-01, -1.17371048e-01,\n",
              "         -6.51601623e-01],\n",
              "        [ 1.05962110e+00, -1.49936376e+00, -1.76574632e-03,\n",
              "          9.76555282e-01]]])"
            ]
          },
          "metadata": {},
          "execution_count": 15
        }
      ]
    },
    {
      "cell_type": "code",
      "source": [
        "a4.reshape(1,1,1,1,1,1,1,2,2,4)"
      ],
      "metadata": {
        "colab": {
          "base_uri": "https://localhost:8080/"
        },
        "id": "J-7Rn_YAyPi1",
        "outputId": "22bd6ef0-5d6b-45be-adc7-21034fcc06a3"
      },
      "execution_count": 16,
      "outputs": [
        {
          "output_type": "execute_result",
          "data": {
            "text/plain": [
              "array([[[[[[[[[[ 4.99246327e-01,  1.25963244e-01,\n",
              "                 3.14997957e+00, -8.50899753e-01],\n",
              "               [-6.05251587e-01, -1.34775902e+00,\n",
              "                -5.83584254e-01, -7.57769014e-01]],\n",
              "\n",
              "              [[-3.79479337e-01,  8.74568929e-01,\n",
              "                -1.17371048e-01, -6.51601623e-01],\n",
              "               [ 1.05962110e+00, -1.49936376e+00,\n",
              "                -1.76574632e-03,  9.76555282e-01]]]]]]]]]])"
            ]
          },
          "metadata": {},
          "execution_count": 16
        }
      ]
    },
    {
      "cell_type": "code",
      "source": [
        "#Slicing Exact similar to list\n",
        "print(a1)\n",
        "print(a1[0])     \n",
        "print(a1[2:6])\n",
        "print(a1[2:6:2])"
      ],
      "metadata": {
        "colab": {
          "base_uri": "https://localhost:8080/"
        },
        "id": "_eo2y2xKy5Wk",
        "outputId": "a28eec16-0508-4b35-a0bc-3d9063b5b9f7"
      },
      "execution_count": 17,
      "outputs": [
        {
          "output_type": "stream",
          "name": "stdout",
          "text": [
            "[1 2 3 4 5 6]\n",
            "1\n",
            "[3 4 5 6]\n",
            "[3 5]\n"
          ]
        }
      ]
    },
    {
      "cell_type": "code",
      "source": [
        "print(a2)\n",
        "print(a2[0])\n",
        "print(a2[:,1:])\n",
        "print(a2[:,[1,2]]) #Same thing as above\n",
        "print(a2[[0,1],[1,2]]) #Same thing as above"
      ],
      "metadata": {
        "colab": {
          "base_uri": "https://localhost:8080/"
        },
        "id": "zGtRBD0Ty-Mt",
        "outputId": "ae1460ab-df2c-457d-c9f2-71896d0da58d"
      },
      "execution_count": 18,
      "outputs": [
        {
          "output_type": "stream",
          "name": "stdout",
          "text": [
            "[[1 2 3]\n",
            " [4 5 6]]\n",
            "[1 2 3]\n",
            "[[2 3]\n",
            " [5 6]]\n",
            "[[2 3]\n",
            " [5 6]]\n",
            "[2 6]\n"
          ]
        }
      ]
    },
    {
      "cell_type": "code",
      "source": [
        "a5 = np.random.randint(2,90,(6,5))\n",
        "a5"
      ],
      "metadata": {
        "colab": {
          "base_uri": "https://localhost:8080/"
        },
        "id": "xrDpI9zXzcsH",
        "outputId": "1a9002d9-11d7-4dc1-98dd-15a4499a1332"
      },
      "execution_count": 19,
      "outputs": [
        {
          "output_type": "execute_result",
          "data": {
            "text/plain": [
              "array([[ 7, 30, 59, 42, 60],\n",
              "       [40,  3, 68, 73, 53],\n",
              "       [47, 79, 82, 18, 64],\n",
              "       [59,  9, 69, 14, 45],\n",
              "       [49, 36, 76, 31, 27],\n",
              "       [64, 63, 67, 31, 58]])"
            ]
          },
          "metadata": {},
          "execution_count": 19
        }
      ]
    },
    {
      "cell_type": "code",
      "source": [
        "#Similar to Pandas Dataframe, we can write filter condition\n",
        "a5[a5>40]"
      ],
      "metadata": {
        "colab": {
          "base_uri": "https://localhost:8080/"
        },
        "id": "4h0quFA90ZkM",
        "outputId": "f08ef1d0-a328-45b0-c309-3fd7253c3928"
      },
      "execution_count": 20,
      "outputs": [
        {
          "output_type": "execute_result",
          "data": {
            "text/plain": [
              "array([59, 42, 60, 68, 73, 53, 47, 79, 82, 64, 59, 69, 45, 49, 76, 64, 63,\n",
              "       67, 58])"
            ]
          },
          "metadata": {},
          "execution_count": 20
        }
      ]
    },
    {
      "cell_type": "code",
      "source": [
        "#Updating data\n",
        "a5[0,1] = 100 #11 Replaced by 100\n",
        "a5"
      ],
      "metadata": {
        "colab": {
          "base_uri": "https://localhost:8080/"
        },
        "id": "pDhpq9Wa0kSk",
        "outputId": "5e8ea962-2481-4d2a-aeb6-172b645197f7"
      },
      "execution_count": 21,
      "outputs": [
        {
          "output_type": "execute_result",
          "data": {
            "text/plain": [
              "array([[  7, 100,  59,  42,  60],\n",
              "       [ 40,   3,  68,  73,  53],\n",
              "       [ 47,  79,  82,  18,  64],\n",
              "       [ 59,   9,  69,  14,  45],\n",
              "       [ 49,  36,  76,  31,  27],\n",
              "       [ 64,  63,  67,  31,  58]])"
            ]
          },
          "metadata": {},
          "execution_count": 21
        }
      ]
    },
    {
      "cell_type": "code",
      "source": [
        "a6 = np.random.randint(0,3,(3,3))\n",
        "a7 = np.random.randint(0,3,(3,3))\n",
        "print(a6)\n",
        "print(a7)"
      ],
      "metadata": {
        "colab": {
          "base_uri": "https://localhost:8080/"
        },
        "id": "7vcwSmPb1EGX",
        "outputId": "45e77c20-23cc-4774-c88a-449d18854b79"
      },
      "execution_count": 22,
      "outputs": [
        {
          "output_type": "stream",
          "name": "stdout",
          "text": [
            "[[0 1 2]\n",
            " [1 0 1]\n",
            " [1 2 2]]\n",
            "[[2 1 1]\n",
            " [2 2 1]\n",
            " [2 1 2]]\n"
          ]
        }
      ]
    },
    {
      "cell_type": "code",
      "source": [
        "#Element Wise Multiplication and not Matrix Multiplication\n",
        "print(a6*a7)"
      ],
      "metadata": {
        "colab": {
          "base_uri": "https://localhost:8080/"
        },
        "id": "RU64C_eV1RvZ",
        "outputId": "c5407675-536d-427b-a787-f60d58f2e5ea"
      },
      "execution_count": 23,
      "outputs": [
        {
          "output_type": "stream",
          "name": "stdout",
          "text": [
            "[[0 1 2]\n",
            " [2 0 1]\n",
            " [2 2 4]]\n"
          ]
        }
      ]
    },
    {
      "cell_type": "code",
      "source": [
        "#Matrix Multiplication\n",
        "print(a6@a7)"
      ],
      "metadata": {
        "colab": {
          "base_uri": "https://localhost:8080/"
        },
        "id": "uO8Iy9Xn1YDm",
        "outputId": "45823f79-27af-43d1-f788-5cebeefe41ab"
      },
      "execution_count": 24,
      "outputs": [
        {
          "output_type": "stream",
          "name": "stdout",
          "text": [
            "[[ 6  4  5]\n",
            " [ 4  2  3]\n",
            " [10  7  7]]\n"
          ]
        }
      ]
    },
    {
      "cell_type": "code",
      "source": [
        "#Array Operations\n",
        "print(a6+100)\n",
        "print(a6*2)\n",
        "print(a6*0)\n",
        "print(a6/0)  #No Errors"
      ],
      "metadata": {
        "colab": {
          "base_uri": "https://localhost:8080/"
        },
        "id": "Guppwpiw3UI9",
        "outputId": "623572e2-bbf4-4127-c6a0-f7dd8344ac60"
      },
      "execution_count": 25,
      "outputs": [
        {
          "output_type": "stream",
          "name": "stdout",
          "text": [
            "[[100 101 102]\n",
            " [101 100 101]\n",
            " [101 102 102]]\n",
            "[[0 2 4]\n",
            " [2 0 2]\n",
            " [2 4 4]]\n",
            "[[0 0 0]\n",
            " [0 0 0]\n",
            " [0 0 0]]\n",
            "[[nan inf inf]\n",
            " [inf nan inf]\n",
            " [inf inf inf]]\n"
          ]
        },
        {
          "output_type": "stream",
          "name": "stderr",
          "text": [
            "/usr/local/lib/python3.7/dist-packages/ipykernel_launcher.py:5: RuntimeWarning: divide by zero encountered in true_divide\n",
            "  \"\"\"\n",
            "/usr/local/lib/python3.7/dist-packages/ipykernel_launcher.py:5: RuntimeWarning: invalid value encountered in true_divide\n",
            "  \"\"\"\n"
          ]
        }
      ]
    },
    {
      "cell_type": "code",
      "source": [
        "print(a6**3) #Power"
      ],
      "metadata": {
        "colab": {
          "base_uri": "https://localhost:8080/"
        },
        "id": "9oSzFjkb4BSb",
        "outputId": "c5d94b37-1b4a-4ea6-c841-7ed921484e8f"
      },
      "execution_count": 26,
      "outputs": [
        {
          "output_type": "stream",
          "name": "stdout",
          "text": [
            "[[0 1 8]\n",
            " [1 0 1]\n",
            " [1 8 8]]\n"
          ]
        }
      ]
    },
    {
      "cell_type": "code",
      "source": [
        "a8 = np.zeros((4,4))\n",
        "a8"
      ],
      "metadata": {
        "colab": {
          "base_uri": "https://localhost:8080/"
        },
        "id": "Xt22vt5w4a3z",
        "outputId": "ac460afa-cf90-46e5-9b94-7cf94497797d"
      },
      "execution_count": 27,
      "outputs": [
        {
          "output_type": "execute_result",
          "data": {
            "text/plain": [
              "array([[0., 0., 0., 0.],\n",
              "       [0., 0., 0., 0.],\n",
              "       [0., 0., 0., 0.],\n",
              "       [0., 0., 0., 0.]])"
            ]
          },
          "metadata": {},
          "execution_count": 27
        }
      ]
    },
    {
      "cell_type": "code",
      "source": [
        "a9 = np.ones((4,5))\n",
        "a9"
      ],
      "metadata": {
        "colab": {
          "base_uri": "https://localhost:8080/"
        },
        "id": "9db3R1mU4czP",
        "outputId": "e96512e5-15e1-4d1e-ce31-2e0d40d6f803"
      },
      "execution_count": 28,
      "outputs": [
        {
          "output_type": "execute_result",
          "data": {
            "text/plain": [
              "array([[1., 1., 1., 1., 1.],\n",
              "       [1., 1., 1., 1., 1.],\n",
              "       [1., 1., 1., 1., 1.],\n",
              "       [1., 1., 1., 1., 1.]])"
            ]
          },
          "metadata": {},
          "execution_count": 28
        }
      ]
    },
    {
      "cell_type": "code",
      "source": [
        "a9+10"
      ],
      "metadata": {
        "colab": {
          "base_uri": "https://localhost:8080/"
        },
        "id": "Ejpm2g3N4pUc",
        "outputId": "f903045e-c716-47b1-99cc-53d3cadfb2ae"
      },
      "execution_count": 29,
      "outputs": [
        {
          "output_type": "execute_result",
          "data": {
            "text/plain": [
              "array([[11., 11., 11., 11., 11.],\n",
              "       [11., 11., 11., 11., 11.],\n",
              "       [11., 11., 11., 11., 11.],\n",
              "       [11., 11., 11., 11., 11.]])"
            ]
          },
          "metadata": {},
          "execution_count": 29
        }
      ]
    },
    {
      "cell_type": "code",
      "source": [
        "print(a9)\n",
        "print(a9 + np.array([1,2,3,4,5])) #Doing row by row operation. Also called as Broadcasting operation"
      ],
      "metadata": {
        "colab": {
          "base_uri": "https://localhost:8080/"
        },
        "id": "nL7f954W4tN5",
        "outputId": "99303aee-6386-4485-9bf6-32e942f5b6bb"
      },
      "execution_count": 30,
      "outputs": [
        {
          "output_type": "stream",
          "name": "stdout",
          "text": [
            "[[1. 1. 1. 1. 1.]\n",
            " [1. 1. 1. 1. 1.]\n",
            " [1. 1. 1. 1. 1.]\n",
            " [1. 1. 1. 1. 1.]]\n",
            "[[2. 3. 4. 5. 6.]\n",
            " [2. 3. 4. 5. 6.]\n",
            " [2. 3. 4. 5. 6.]\n",
            " [2. 3. 4. 5. 6.]]\n"
          ]
        }
      ]
    },
    {
      "cell_type": "code",
      "source": [
        "#How to do column wise Boradcasting operation: We will have to transpose first and then add\n",
        "#np.array([1,2,3,4]).T + a9   #Error because for transpose we need 2 dimesnsions. Hence we will give 2 brackets to convert into 2d\n",
        "np.array([[1,2,3,4]]).T + a9 "
      ],
      "metadata": {
        "colab": {
          "base_uri": "https://localhost:8080/"
        },
        "id": "zwcQZT0842bv",
        "outputId": "9251aef6-b8fd-4047-e2ce-0cb2b9dcfcfa"
      },
      "execution_count": 31,
      "outputs": [
        {
          "output_type": "execute_result",
          "data": {
            "text/plain": [
              "array([[2., 2., 2., 2., 2.],\n",
              "       [3., 3., 3., 3., 3.],\n",
              "       [4., 4., 4., 4., 4.],\n",
              "       [5., 5., 5., 5., 5.]])"
            ]
          },
          "metadata": {},
          "execution_count": 31
        }
      ]
    },
    {
      "cell_type": "code",
      "source": [
        "#Understanding Transpose\n",
        "print(a6)\n",
        "print(a6.T)"
      ],
      "metadata": {
        "colab": {
          "base_uri": "https://localhost:8080/"
        },
        "id": "sd3kOwPg5nRc",
        "outputId": "a22fafe6-971a-4de4-9fea-dca48a7cd5c4"
      },
      "execution_count": 32,
      "outputs": [
        {
          "output_type": "stream",
          "name": "stdout",
          "text": [
            "[[0 1 2]\n",
            " [1 0 1]\n",
            " [1 2 2]]\n",
            "[[0 1 1]\n",
            " [1 0 2]\n",
            " [2 1 2]]\n"
          ]
        }
      ]
    },
    {
      "cell_type": "code",
      "source": [
        "print(a5)\n",
        "print(np.sqrt(a5))\n",
        "print(np.exp(a5))\n",
        "print(np.log10(a5))"
      ],
      "metadata": {
        "colab": {
          "base_uri": "https://localhost:8080/"
        },
        "id": "uEe-j5mV6GjC",
        "outputId": "32abeedf-ce9e-404a-ce6a-d467e7b16762"
      },
      "execution_count": 33,
      "outputs": [
        {
          "output_type": "stream",
          "name": "stdout",
          "text": [
            "[[  7 100  59  42  60]\n",
            " [ 40   3  68  73  53]\n",
            " [ 47  79  82  18  64]\n",
            " [ 59   9  69  14  45]\n",
            " [ 49  36  76  31  27]\n",
            " [ 64  63  67  31  58]]\n",
            "[[ 2.64575131 10.          7.68114575  6.4807407   7.74596669]\n",
            " [ 6.32455532  1.73205081  8.24621125  8.54400375  7.28010989]\n",
            " [ 6.8556546   8.88819442  9.05538514  4.24264069  8.        ]\n",
            " [ 7.68114575  3.          8.30662386  3.74165739  6.70820393]\n",
            " [ 7.          6.          8.71779789  5.56776436  5.19615242]\n",
            " [ 8.          7.93725393  8.18535277  5.56776436  7.61577311]]\n",
            "[[1.09663316e+03 2.68811714e+43 4.20121040e+25 1.73927494e+18\n",
            "  1.14200739e+26]\n",
            " [2.35385267e+17 2.00855369e+01 3.40427605e+29 5.05239363e+31\n",
            "  1.04137594e+23]\n",
            " [2.58131289e+20 2.03828107e+34 4.09399696e+35 6.56599691e+07\n",
            "  6.23514908e+27]\n",
            " [4.20121040e+25 8.10308393e+03 9.25378173e+29 1.20260428e+06\n",
            "  3.49342711e+19]\n",
            " [1.90734657e+21 4.31123155e+15 1.01480039e+33 2.90488497e+13\n",
            "  5.32048241e+11]\n",
            " [6.23514908e+27 2.29378316e+27 1.25236317e+29 2.90488497e+13\n",
            "  1.54553894e+25]]\n",
            "[[0.84509804 2.         1.77085201 1.62324929 1.77815125]\n",
            " [1.60205999 0.47712125 1.83250891 1.86332286 1.72427587]\n",
            " [1.67209786 1.89762709 1.91381385 1.25527251 1.80617997]\n",
            " [1.77085201 0.95424251 1.83884909 1.14612804 1.65321251]\n",
            " [1.69019608 1.5563025  1.88081359 1.49136169 1.43136376]\n",
            " [1.80617997 1.79934055 1.8260748  1.49136169 1.76342799]]\n"
          ]
        }
      ]
    },
    {
      "cell_type": "code",
      "source": [
        "print(list(range(10)))\n",
        "print(list(range(0,10,2)))\n",
        "#print(list(range(0,10,2.5))) #Error because jump size cannot be float"
      ],
      "metadata": {
        "colab": {
          "base_uri": "https://localhost:8080/"
        },
        "id": "FO6cmBE76h0A",
        "outputId": "da829f3b-ead5-486c-f05a-cc5b5a6b5f55"
      },
      "execution_count": 34,
      "outputs": [
        {
          "output_type": "stream",
          "name": "stdout",
          "text": [
            "[0, 1, 2, 3, 4, 5, 6, 7, 8, 9]\n",
            "[0, 2, 4, 6, 8]\n"
          ]
        }
      ]
    },
    {
      "cell_type": "code",
      "source": [
        "#Arange same as range but it also takes jump size as float\n",
        "print(np.arange(10))\n",
        "print(np.arange(1.8,10.7,2.5)) "
      ],
      "metadata": {
        "colab": {
          "base_uri": "https://localhost:8080/"
        },
        "id": "PmFKT8ZH6xyM",
        "outputId": "69b52979-9584-49b1-e33a-984b0ca79e06"
      },
      "execution_count": 35,
      "outputs": [
        {
          "output_type": "stream",
          "name": "stdout",
          "text": [
            "[0 1 2 3 4 5 6 7 8 9]\n",
            "[1.8 4.3 6.8 9.3]\n"
          ]
        }
      ]
    },
    {
      "cell_type": "code",
      "source": [
        "#In between certain range, we want to generate numbers\n",
        "print(np.linspace(2,3,num=50)) #Considers Linear Space\n",
        "print(np.linspace(2,3,num=50,retstep=True)) #Jumpsize will also be returned"
      ],
      "metadata": {
        "colab": {
          "base_uri": "https://localhost:8080/"
        },
        "id": "yZFN2ikv7Hk8",
        "outputId": "886b9f8e-2bd5-4f0f-df56-2d456f0f817f"
      },
      "execution_count": 36,
      "outputs": [
        {
          "output_type": "stream",
          "name": "stdout",
          "text": [
            "[2.         2.02040816 2.04081633 2.06122449 2.08163265 2.10204082\n",
            " 2.12244898 2.14285714 2.16326531 2.18367347 2.20408163 2.2244898\n",
            " 2.24489796 2.26530612 2.28571429 2.30612245 2.32653061 2.34693878\n",
            " 2.36734694 2.3877551  2.40816327 2.42857143 2.44897959 2.46938776\n",
            " 2.48979592 2.51020408 2.53061224 2.55102041 2.57142857 2.59183673\n",
            " 2.6122449  2.63265306 2.65306122 2.67346939 2.69387755 2.71428571\n",
            " 2.73469388 2.75510204 2.7755102  2.79591837 2.81632653 2.83673469\n",
            " 2.85714286 2.87755102 2.89795918 2.91836735 2.93877551 2.95918367\n",
            " 2.97959184 3.        ]\n",
            "(array([2.        , 2.02040816, 2.04081633, 2.06122449, 2.08163265,\n",
            "       2.10204082, 2.12244898, 2.14285714, 2.16326531, 2.18367347,\n",
            "       2.20408163, 2.2244898 , 2.24489796, 2.26530612, 2.28571429,\n",
            "       2.30612245, 2.32653061, 2.34693878, 2.36734694, 2.3877551 ,\n",
            "       2.40816327, 2.42857143, 2.44897959, 2.46938776, 2.48979592,\n",
            "       2.51020408, 2.53061224, 2.55102041, 2.57142857, 2.59183673,\n",
            "       2.6122449 , 2.63265306, 2.65306122, 2.67346939, 2.69387755,\n",
            "       2.71428571, 2.73469388, 2.75510204, 2.7755102 , 2.79591837,\n",
            "       2.81632653, 2.83673469, 2.85714286, 2.87755102, 2.89795918,\n",
            "       2.91836735, 2.93877551, 2.95918367, 2.97959184, 3.        ]), 0.02040816326530612)\n"
          ]
        }
      ]
    },
    {
      "cell_type": "code",
      "source": [
        "np.logspace(2,4,num=4,base=10) #Considers Logarithmic Base"
      ],
      "metadata": {
        "colab": {
          "base_uri": "https://localhost:8080/"
        },
        "id": "7NIpwt_l7iWT",
        "outputId": "e430d0ba-a4d7-42ad-b430-d451aff082be"
      },
      "execution_count": 37,
      "outputs": [
        {
          "output_type": "execute_result",
          "data": {
            "text/plain": [
              "array([  100.        ,   464.15888336,  2154.43469003, 10000.        ])"
            ]
          },
          "metadata": {},
          "execution_count": 37
        }
      ]
    },
    {
      "cell_type": "code",
      "source": [
        "#Identity Matrix\n",
        "np.eye(5)"
      ],
      "metadata": {
        "colab": {
          "base_uri": "https://localhost:8080/"
        },
        "id": "HnbvLikn79ff",
        "outputId": "48334bd3-450b-4962-dd11-d2a1fd516219"
      },
      "execution_count": 38,
      "outputs": [
        {
          "output_type": "execute_result",
          "data": {
            "text/plain": [
              "array([[1., 0., 0., 0., 0.],\n",
              "       [0., 1., 0., 0., 0.],\n",
              "       [0., 0., 1., 0., 0.],\n",
              "       [0., 0., 0., 1., 0.],\n",
              "       [0., 0., 0., 0., 1.]])"
            ]
          },
          "metadata": {},
          "execution_count": 38
        }
      ]
    },
    {
      "cell_type": "markdown",
      "source": [
        "## **DATA VISUALIZATION LIBRARY**"
      ],
      "metadata": {
        "id": "OLk1ns-1AtPa"
      }
    },
    {
      "cell_type": "markdown",
      "source": [
        "MATPLOTLIB: Helps in EDA: Helps us in identifying Trends in data\n",
        "\n",
        "Other Libraries that we will discuss are: Plotly and Seaborn\n",
        "\n",
        "For Dashboarding purposes, PowerBI and Tableau is widely used but for basic EDA, we use these above libraries\n",
        "\n",
        "Line Plot, Bar Plot, 3D Plot, Histogram, Scatter Plot etc."
      ],
      "metadata": {
        "id": "Nx0AS5msA-z2"
      }
    },
    {
      "cell_type": "code",
      "source": [
        "#pip install cufflinks\n",
        "!pip install chart_studio"
      ],
      "metadata": {
        "colab": {
          "base_uri": "https://localhost:8080/"
        },
        "id": "tpMmV8DOCdsI",
        "outputId": "929e434a-3270-4b92-9214-2349dcb7c354"
      },
      "execution_count": 5,
      "outputs": [
        {
          "output_type": "stream",
          "name": "stdout",
          "text": [
            "Looking in indexes: https://pypi.org/simple, https://us-python.pkg.dev/colab-wheels/public/simple/\n",
            "Collecting chart_studio\n",
            "  Downloading chart_studio-1.1.0-py3-none-any.whl (64 kB)\n",
            "\u001b[K     |████████████████████████████████| 64 kB 2.0 MB/s \n",
            "\u001b[?25hRequirement already satisfied: six in /usr/local/lib/python3.7/dist-packages (from chart_studio) (1.15.0)\n",
            "Collecting retrying>=1.3.3\n",
            "  Downloading retrying-1.3.3.tar.gz (10 kB)\n",
            "Requirement already satisfied: plotly in /usr/local/lib/python3.7/dist-packages (from chart_studio) (5.5.0)\n",
            "Requirement already satisfied: requests in /usr/local/lib/python3.7/dist-packages (from chart_studio) (2.23.0)\n",
            "Requirement already satisfied: tenacity>=6.2.0 in /usr/local/lib/python3.7/dist-packages (from plotly->chart_studio) (8.0.1)\n",
            "Requirement already satisfied: idna<3,>=2.5 in /usr/local/lib/python3.7/dist-packages (from requests->chart_studio) (2.10)\n",
            "Requirement already satisfied: urllib3!=1.25.0,!=1.25.1,<1.26,>=1.21.1 in /usr/local/lib/python3.7/dist-packages (from requests->chart_studio) (1.24.3)\n",
            "Requirement already satisfied: chardet<4,>=3.0.2 in /usr/local/lib/python3.7/dist-packages (from requests->chart_studio) (3.0.4)\n",
            "Requirement already satisfied: certifi>=2017.4.17 in /usr/local/lib/python3.7/dist-packages (from requests->chart_studio) (2022.6.15)\n",
            "Building wheels for collected packages: retrying\n",
            "  Building wheel for retrying (setup.py) ... \u001b[?25l\u001b[?25hdone\n",
            "  Created wheel for retrying: filename=retrying-1.3.3-py3-none-any.whl size=11447 sha256=1efbd14df29f6959b71d74adb3b9dfabab900bf362b51c47443417bb86f908b5\n",
            "  Stored in directory: /root/.cache/pip/wheels/f9/8d/8d/f6af3f7f9eea3553bc2fe6d53e4b287dad18b06a861ac56ddf\n",
            "Successfully built retrying\n",
            "Installing collected packages: retrying, chart-studio\n",
            "Successfully installed chart-studio-1.1.0 retrying-1.3.3\n"
          ]
        }
      ]
    },
    {
      "cell_type": "code",
      "source": [
        "import matplotlib as plt\n",
        "import cufflinks as cf\n",
        "import numpy as np\n",
        "import pandas as pd\n",
        "import seaborn as sns"
      ],
      "metadata": {
        "id": "OyuMa9ccA-Lw"
      },
      "execution_count": 2,
      "outputs": []
    },
    {
      "cell_type": "code",
      "source": [
        "cf.go_offline #Since we are using offline mode"
      ],
      "metadata": {
        "colab": {
          "base_uri": "https://localhost:8080/"
        },
        "id": "C29R-kxZ8goM",
        "outputId": "351c2e03-d927-4d1a-c5fe-1db142ebb841"
      },
      "execution_count": 3,
      "outputs": [
        {
          "output_type": "execute_result",
          "data": {
            "text/plain": [
              "<function cufflinks.offline.go_offline>"
            ]
          },
          "metadata": {},
          "execution_count": 3
        }
      ]
    },
    {
      "cell_type": "code",
      "source": [
        "df = pd.DataFrame(np.random.randn(100,3),columns=['A','B','C'])\n",
        "df.iplot() #Graph Plot showing Fluctuation: y axis contains value in the column and x axis is the index"
      ],
      "metadata": {
        "id": "YKWFMOGnCtTM"
      },
      "execution_count": null,
      "outputs": []
    },
    {
      "cell_type": "code",
      "source": [
        "df1 = pd.DataFrame(np.random.randint(3,100,(100,1)))\n",
        "df1.iplot() #Graph Plot showing Fluctuation"
      ],
      "metadata": {
        "id": "3m1GIvTUDMBy"
      },
      "execution_count": null,
      "outputs": []
    },
    {
      "cell_type": "code",
      "source": [
        "df.iplot(x='A',y='B',mode = 'markers') #Marker mode means representation in dots \n",
        "#We can use the above code to compare both columns using graph"
      ],
      "metadata": {
        "id": "ATHaMmWdEC3W"
      },
      "execution_count": null,
      "outputs": []
    },
    {
      "cell_type": "code",
      "source": [
        "df2 = sns.load_dataset('titanic')"
      ],
      "metadata": {
        "id": "7NTijs7KGeM6"
      },
      "execution_count": 9,
      "outputs": []
    },
    {
      "cell_type": "code",
      "source": [
        "df2.head()"
      ],
      "metadata": {
        "colab": {
          "base_uri": "https://localhost:8080/",
          "height": 206
        },
        "id": "NhGBitmlGuRw",
        "outputId": "e99497a4-6b78-4744-e321-32743e2d8a73"
      },
      "execution_count": 10,
      "outputs": [
        {
          "output_type": "execute_result",
          "data": {
            "text/plain": [
              "   survived  pclass     sex   age  sibsp  parch     fare embarked  class  \\\n",
              "0         0       3    male  22.0      1      0   7.2500        S  Third   \n",
              "1         1       1  female  38.0      1      0  71.2833        C  First   \n",
              "2         1       3  female  26.0      0      0   7.9250        S  Third   \n",
              "3         1       1  female  35.0      1      0  53.1000        S  First   \n",
              "4         0       3    male  35.0      0      0   8.0500        S  Third   \n",
              "\n",
              "     who  adult_male deck  embark_town alive  alone  \n",
              "0    man        True  NaN  Southampton    no  False  \n",
              "1  woman       False    C    Cherbourg   yes  False  \n",
              "2  woman       False  NaN  Southampton   yes   True  \n",
              "3  woman       False    C  Southampton   yes  False  \n",
              "4    man        True  NaN  Southampton    no   True  "
            ],
            "text/html": [
              "\n",
              "  <div id=\"df-1a28cf86-a3b5-4013-a49a-44d14fa9e322\">\n",
              "    <div class=\"colab-df-container\">\n",
              "      <div>\n",
              "<style scoped>\n",
              "    .dataframe tbody tr th:only-of-type {\n",
              "        vertical-align: middle;\n",
              "    }\n",
              "\n",
              "    .dataframe tbody tr th {\n",
              "        vertical-align: top;\n",
              "    }\n",
              "\n",
              "    .dataframe thead th {\n",
              "        text-align: right;\n",
              "    }\n",
              "</style>\n",
              "<table border=\"1\" class=\"dataframe\">\n",
              "  <thead>\n",
              "    <tr style=\"text-align: right;\">\n",
              "      <th></th>\n",
              "      <th>survived</th>\n",
              "      <th>pclass</th>\n",
              "      <th>sex</th>\n",
              "      <th>age</th>\n",
              "      <th>sibsp</th>\n",
              "      <th>parch</th>\n",
              "      <th>fare</th>\n",
              "      <th>embarked</th>\n",
              "      <th>class</th>\n",
              "      <th>who</th>\n",
              "      <th>adult_male</th>\n",
              "      <th>deck</th>\n",
              "      <th>embark_town</th>\n",
              "      <th>alive</th>\n",
              "      <th>alone</th>\n",
              "    </tr>\n",
              "  </thead>\n",
              "  <tbody>\n",
              "    <tr>\n",
              "      <th>0</th>\n",
              "      <td>0</td>\n",
              "      <td>3</td>\n",
              "      <td>male</td>\n",
              "      <td>22.0</td>\n",
              "      <td>1</td>\n",
              "      <td>0</td>\n",
              "      <td>7.2500</td>\n",
              "      <td>S</td>\n",
              "      <td>Third</td>\n",
              "      <td>man</td>\n",
              "      <td>True</td>\n",
              "      <td>NaN</td>\n",
              "      <td>Southampton</td>\n",
              "      <td>no</td>\n",
              "      <td>False</td>\n",
              "    </tr>\n",
              "    <tr>\n",
              "      <th>1</th>\n",
              "      <td>1</td>\n",
              "      <td>1</td>\n",
              "      <td>female</td>\n",
              "      <td>38.0</td>\n",
              "      <td>1</td>\n",
              "      <td>0</td>\n",
              "      <td>71.2833</td>\n",
              "      <td>C</td>\n",
              "      <td>First</td>\n",
              "      <td>woman</td>\n",
              "      <td>False</td>\n",
              "      <td>C</td>\n",
              "      <td>Cherbourg</td>\n",
              "      <td>yes</td>\n",
              "      <td>False</td>\n",
              "    </tr>\n",
              "    <tr>\n",
              "      <th>2</th>\n",
              "      <td>1</td>\n",
              "      <td>3</td>\n",
              "      <td>female</td>\n",
              "      <td>26.0</td>\n",
              "      <td>0</td>\n",
              "      <td>0</td>\n",
              "      <td>7.9250</td>\n",
              "      <td>S</td>\n",
              "      <td>Third</td>\n",
              "      <td>woman</td>\n",
              "      <td>False</td>\n",
              "      <td>NaN</td>\n",
              "      <td>Southampton</td>\n",
              "      <td>yes</td>\n",
              "      <td>True</td>\n",
              "    </tr>\n",
              "    <tr>\n",
              "      <th>3</th>\n",
              "      <td>1</td>\n",
              "      <td>1</td>\n",
              "      <td>female</td>\n",
              "      <td>35.0</td>\n",
              "      <td>1</td>\n",
              "      <td>0</td>\n",
              "      <td>53.1000</td>\n",
              "      <td>S</td>\n",
              "      <td>First</td>\n",
              "      <td>woman</td>\n",
              "      <td>False</td>\n",
              "      <td>C</td>\n",
              "      <td>Southampton</td>\n",
              "      <td>yes</td>\n",
              "      <td>False</td>\n",
              "    </tr>\n",
              "    <tr>\n",
              "      <th>4</th>\n",
              "      <td>0</td>\n",
              "      <td>3</td>\n",
              "      <td>male</td>\n",
              "      <td>35.0</td>\n",
              "      <td>0</td>\n",
              "      <td>0</td>\n",
              "      <td>8.0500</td>\n",
              "      <td>S</td>\n",
              "      <td>Third</td>\n",
              "      <td>man</td>\n",
              "      <td>True</td>\n",
              "      <td>NaN</td>\n",
              "      <td>Southampton</td>\n",
              "      <td>no</td>\n",
              "      <td>True</td>\n",
              "    </tr>\n",
              "  </tbody>\n",
              "</table>\n",
              "</div>\n",
              "      <button class=\"colab-df-convert\" onclick=\"convertToInteractive('df-1a28cf86-a3b5-4013-a49a-44d14fa9e322')\"\n",
              "              title=\"Convert this dataframe to an interactive table.\"\n",
              "              style=\"display:none;\">\n",
              "        \n",
              "  <svg xmlns=\"http://www.w3.org/2000/svg\" height=\"24px\"viewBox=\"0 0 24 24\"\n",
              "       width=\"24px\">\n",
              "    <path d=\"M0 0h24v24H0V0z\" fill=\"none\"/>\n",
              "    <path d=\"M18.56 5.44l.94 2.06.94-2.06 2.06-.94-2.06-.94-.94-2.06-.94 2.06-2.06.94zm-11 1L8.5 8.5l.94-2.06 2.06-.94-2.06-.94L8.5 2.5l-.94 2.06-2.06.94zm10 10l.94 2.06.94-2.06 2.06-.94-2.06-.94-.94-2.06-.94 2.06-2.06.94z\"/><path d=\"M17.41 7.96l-1.37-1.37c-.4-.4-.92-.59-1.43-.59-.52 0-1.04.2-1.43.59L10.3 9.45l-7.72 7.72c-.78.78-.78 2.05 0 2.83L4 21.41c.39.39.9.59 1.41.59.51 0 1.02-.2 1.41-.59l7.78-7.78 2.81-2.81c.8-.78.8-2.07 0-2.86zM5.41 20L4 18.59l7.72-7.72 1.47 1.35L5.41 20z\"/>\n",
              "  </svg>\n",
              "      </button>\n",
              "      \n",
              "  <style>\n",
              "    .colab-df-container {\n",
              "      display:flex;\n",
              "      flex-wrap:wrap;\n",
              "      gap: 12px;\n",
              "    }\n",
              "\n",
              "    .colab-df-convert {\n",
              "      background-color: #E8F0FE;\n",
              "      border: none;\n",
              "      border-radius: 50%;\n",
              "      cursor: pointer;\n",
              "      display: none;\n",
              "      fill: #1967D2;\n",
              "      height: 32px;\n",
              "      padding: 0 0 0 0;\n",
              "      width: 32px;\n",
              "    }\n",
              "\n",
              "    .colab-df-convert:hover {\n",
              "      background-color: #E2EBFA;\n",
              "      box-shadow: 0px 1px 2px rgba(60, 64, 67, 0.3), 0px 1px 3px 1px rgba(60, 64, 67, 0.15);\n",
              "      fill: #174EA6;\n",
              "    }\n",
              "\n",
              "    [theme=dark] .colab-df-convert {\n",
              "      background-color: #3B4455;\n",
              "      fill: #D2E3FC;\n",
              "    }\n",
              "\n",
              "    [theme=dark] .colab-df-convert:hover {\n",
              "      background-color: #434B5C;\n",
              "      box-shadow: 0px 1px 3px 1px rgba(0, 0, 0, 0.15);\n",
              "      filter: drop-shadow(0px 1px 2px rgba(0, 0, 0, 0.3));\n",
              "      fill: #FFFFFF;\n",
              "    }\n",
              "  </style>\n",
              "\n",
              "      <script>\n",
              "        const buttonEl =\n",
              "          document.querySelector('#df-1a28cf86-a3b5-4013-a49a-44d14fa9e322 button.colab-df-convert');\n",
              "        buttonEl.style.display =\n",
              "          google.colab.kernel.accessAllowed ? 'block' : 'none';\n",
              "\n",
              "        async function convertToInteractive(key) {\n",
              "          const element = document.querySelector('#df-1a28cf86-a3b5-4013-a49a-44d14fa9e322');\n",
              "          const dataTable =\n",
              "            await google.colab.kernel.invokeFunction('convertToInteractive',\n",
              "                                                     [key], {});\n",
              "          if (!dataTable) return;\n",
              "\n",
              "          const docLinkHtml = 'Like what you see? Visit the ' +\n",
              "            '<a target=\"_blank\" href=https://colab.research.google.com/notebooks/data_table.ipynb>data table notebook</a>'\n",
              "            + ' to learn more about interactive tables.';\n",
              "          element.innerHTML = '';\n",
              "          dataTable['output_type'] = 'display_data';\n",
              "          await google.colab.output.renderOutput(dataTable, element);\n",
              "          const docLink = document.createElement('div');\n",
              "          docLink.innerHTML = docLinkHtml;\n",
              "          element.appendChild(docLink);\n",
              "        }\n",
              "      </script>\n",
              "    </div>\n",
              "  </div>\n",
              "  "
            ]
          },
          "metadata": {},
          "execution_count": 10
        }
      ]
    },
    {
      "cell_type": "code",
      "source": [
        "#Age is dependent on fare or not?\n",
        "df2.iplot(x='age',y='fare',mode='markers') #This tells us that when age increasing, fare is not increasing. Hence no relation between them"
      ],
      "metadata": {
        "id": "FAL9agXMG_e2"
      },
      "execution_count": null,
      "outputs": []
    },
    {
      "cell_type": "code",
      "source": [
        "#Relation between Passenger Class and Age\n",
        "df2.iplot(x='age',y='pclass',mode='markers') #No obvious relation. "
      ],
      "metadata": {
        "id": "7pqbdB_wHTZS"
      },
      "execution_count": null,
      "outputs": []
    },
    {
      "cell_type": "code",
      "source": [
        "#Relation between Passenger Class and fare\n",
        "df2.iplot(x='fare',y='pclass',mode='markers') #We can see relation"
      ],
      "metadata": {
        "id": "tfqlkfrBH150"
      },
      "execution_count": null,
      "outputs": []
    },
    {
      "cell_type": "code",
      "source": [
        "df2.head()"
      ],
      "metadata": {
        "colab": {
          "base_uri": "https://localhost:8080/",
          "height": 206
        },
        "id": "nxH1C4F8IOz2",
        "outputId": "54f9ec64-40ef-4f54-edbe-f6d8584c01da"
      },
      "execution_count": 12,
      "outputs": [
        {
          "output_type": "execute_result",
          "data": {
            "text/plain": [
              "   survived  pclass     sex   age  sibsp  parch     fare embarked  class  \\\n",
              "0         0       3    male  22.0      1      0   7.2500        S  Third   \n",
              "1         1       1  female  38.0      1      0  71.2833        C  First   \n",
              "2         1       3  female  26.0      0      0   7.9250        S  Third   \n",
              "3         1       1  female  35.0      1      0  53.1000        S  First   \n",
              "4         0       3    male  35.0      0      0   8.0500        S  Third   \n",
              "\n",
              "     who  adult_male deck  embark_town alive  alone  \n",
              "0    man        True  NaN  Southampton    no  False  \n",
              "1  woman       False    C    Cherbourg   yes  False  \n",
              "2  woman       False  NaN  Southampton   yes   True  \n",
              "3  woman       False    C  Southampton   yes  False  \n",
              "4    man        True  NaN  Southampton    no   True  "
            ],
            "text/html": [
              "\n",
              "  <div id=\"df-bd3a0377-0100-45ff-8e48-30a2603f3ad6\">\n",
              "    <div class=\"colab-df-container\">\n",
              "      <div>\n",
              "<style scoped>\n",
              "    .dataframe tbody tr th:only-of-type {\n",
              "        vertical-align: middle;\n",
              "    }\n",
              "\n",
              "    .dataframe tbody tr th {\n",
              "        vertical-align: top;\n",
              "    }\n",
              "\n",
              "    .dataframe thead th {\n",
              "        text-align: right;\n",
              "    }\n",
              "</style>\n",
              "<table border=\"1\" class=\"dataframe\">\n",
              "  <thead>\n",
              "    <tr style=\"text-align: right;\">\n",
              "      <th></th>\n",
              "      <th>survived</th>\n",
              "      <th>pclass</th>\n",
              "      <th>sex</th>\n",
              "      <th>age</th>\n",
              "      <th>sibsp</th>\n",
              "      <th>parch</th>\n",
              "      <th>fare</th>\n",
              "      <th>embarked</th>\n",
              "      <th>class</th>\n",
              "      <th>who</th>\n",
              "      <th>adult_male</th>\n",
              "      <th>deck</th>\n",
              "      <th>embark_town</th>\n",
              "      <th>alive</th>\n",
              "      <th>alone</th>\n",
              "    </tr>\n",
              "  </thead>\n",
              "  <tbody>\n",
              "    <tr>\n",
              "      <th>0</th>\n",
              "      <td>0</td>\n",
              "      <td>3</td>\n",
              "      <td>male</td>\n",
              "      <td>22.0</td>\n",
              "      <td>1</td>\n",
              "      <td>0</td>\n",
              "      <td>7.2500</td>\n",
              "      <td>S</td>\n",
              "      <td>Third</td>\n",
              "      <td>man</td>\n",
              "      <td>True</td>\n",
              "      <td>NaN</td>\n",
              "      <td>Southampton</td>\n",
              "      <td>no</td>\n",
              "      <td>False</td>\n",
              "    </tr>\n",
              "    <tr>\n",
              "      <th>1</th>\n",
              "      <td>1</td>\n",
              "      <td>1</td>\n",
              "      <td>female</td>\n",
              "      <td>38.0</td>\n",
              "      <td>1</td>\n",
              "      <td>0</td>\n",
              "      <td>71.2833</td>\n",
              "      <td>C</td>\n",
              "      <td>First</td>\n",
              "      <td>woman</td>\n",
              "      <td>False</td>\n",
              "      <td>C</td>\n",
              "      <td>Cherbourg</td>\n",
              "      <td>yes</td>\n",
              "      <td>False</td>\n",
              "    </tr>\n",
              "    <tr>\n",
              "      <th>2</th>\n",
              "      <td>1</td>\n",
              "      <td>3</td>\n",
              "      <td>female</td>\n",
              "      <td>26.0</td>\n",
              "      <td>0</td>\n",
              "      <td>0</td>\n",
              "      <td>7.9250</td>\n",
              "      <td>S</td>\n",
              "      <td>Third</td>\n",
              "      <td>woman</td>\n",
              "      <td>False</td>\n",
              "      <td>NaN</td>\n",
              "      <td>Southampton</td>\n",
              "      <td>yes</td>\n",
              "      <td>True</td>\n",
              "    </tr>\n",
              "    <tr>\n",
              "      <th>3</th>\n",
              "      <td>1</td>\n",
              "      <td>1</td>\n",
              "      <td>female</td>\n",
              "      <td>35.0</td>\n",
              "      <td>1</td>\n",
              "      <td>0</td>\n",
              "      <td>53.1000</td>\n",
              "      <td>S</td>\n",
              "      <td>First</td>\n",
              "      <td>woman</td>\n",
              "      <td>False</td>\n",
              "      <td>C</td>\n",
              "      <td>Southampton</td>\n",
              "      <td>yes</td>\n",
              "      <td>False</td>\n",
              "    </tr>\n",
              "    <tr>\n",
              "      <th>4</th>\n",
              "      <td>0</td>\n",
              "      <td>3</td>\n",
              "      <td>male</td>\n",
              "      <td>35.0</td>\n",
              "      <td>0</td>\n",
              "      <td>0</td>\n",
              "      <td>8.0500</td>\n",
              "      <td>S</td>\n",
              "      <td>Third</td>\n",
              "      <td>man</td>\n",
              "      <td>True</td>\n",
              "      <td>NaN</td>\n",
              "      <td>Southampton</td>\n",
              "      <td>no</td>\n",
              "      <td>True</td>\n",
              "    </tr>\n",
              "  </tbody>\n",
              "</table>\n",
              "</div>\n",
              "      <button class=\"colab-df-convert\" onclick=\"convertToInteractive('df-bd3a0377-0100-45ff-8e48-30a2603f3ad6')\"\n",
              "              title=\"Convert this dataframe to an interactive table.\"\n",
              "              style=\"display:none;\">\n",
              "        \n",
              "  <svg xmlns=\"http://www.w3.org/2000/svg\" height=\"24px\"viewBox=\"0 0 24 24\"\n",
              "       width=\"24px\">\n",
              "    <path d=\"M0 0h24v24H0V0z\" fill=\"none\"/>\n",
              "    <path d=\"M18.56 5.44l.94 2.06.94-2.06 2.06-.94-2.06-.94-.94-2.06-.94 2.06-2.06.94zm-11 1L8.5 8.5l.94-2.06 2.06-.94-2.06-.94L8.5 2.5l-.94 2.06-2.06.94zm10 10l.94 2.06.94-2.06 2.06-.94-2.06-.94-.94-2.06-.94 2.06-2.06.94z\"/><path d=\"M17.41 7.96l-1.37-1.37c-.4-.4-.92-.59-1.43-.59-.52 0-1.04.2-1.43.59L10.3 9.45l-7.72 7.72c-.78.78-.78 2.05 0 2.83L4 21.41c.39.39.9.59 1.41.59.51 0 1.02-.2 1.41-.59l7.78-7.78 2.81-2.81c.8-.78.8-2.07 0-2.86zM5.41 20L4 18.59l7.72-7.72 1.47 1.35L5.41 20z\"/>\n",
              "  </svg>\n",
              "      </button>\n",
              "      \n",
              "  <style>\n",
              "    .colab-df-container {\n",
              "      display:flex;\n",
              "      flex-wrap:wrap;\n",
              "      gap: 12px;\n",
              "    }\n",
              "\n",
              "    .colab-df-convert {\n",
              "      background-color: #E8F0FE;\n",
              "      border: none;\n",
              "      border-radius: 50%;\n",
              "      cursor: pointer;\n",
              "      display: none;\n",
              "      fill: #1967D2;\n",
              "      height: 32px;\n",
              "      padding: 0 0 0 0;\n",
              "      width: 32px;\n",
              "    }\n",
              "\n",
              "    .colab-df-convert:hover {\n",
              "      background-color: #E2EBFA;\n",
              "      box-shadow: 0px 1px 2px rgba(60, 64, 67, 0.3), 0px 1px 3px 1px rgba(60, 64, 67, 0.15);\n",
              "      fill: #174EA6;\n",
              "    }\n",
              "\n",
              "    [theme=dark] .colab-df-convert {\n",
              "      background-color: #3B4455;\n",
              "      fill: #D2E3FC;\n",
              "    }\n",
              "\n",
              "    [theme=dark] .colab-df-convert:hover {\n",
              "      background-color: #434B5C;\n",
              "      box-shadow: 0px 1px 3px 1px rgba(0, 0, 0, 0.15);\n",
              "      filter: drop-shadow(0px 1px 2px rgba(0, 0, 0, 0.3));\n",
              "      fill: #FFFFFF;\n",
              "    }\n",
              "  </style>\n",
              "\n",
              "      <script>\n",
              "        const buttonEl =\n",
              "          document.querySelector('#df-bd3a0377-0100-45ff-8e48-30a2603f3ad6 button.colab-df-convert');\n",
              "        buttonEl.style.display =\n",
              "          google.colab.kernel.accessAllowed ? 'block' : 'none';\n",
              "\n",
              "        async function convertToInteractive(key) {\n",
              "          const element = document.querySelector('#df-bd3a0377-0100-45ff-8e48-30a2603f3ad6');\n",
              "          const dataTable =\n",
              "            await google.colab.kernel.invokeFunction('convertToInteractive',\n",
              "                                                     [key], {});\n",
              "          if (!dataTable) return;\n",
              "\n",
              "          const docLinkHtml = 'Like what you see? Visit the ' +\n",
              "            '<a target=\"_blank\" href=https://colab.research.google.com/notebooks/data_table.ipynb>data table notebook</a>'\n",
              "            + ' to learn more about interactive tables.';\n",
              "          element.innerHTML = '';\n",
              "          dataTable['output_type'] = 'display_data';\n",
              "          await google.colab.output.renderOutput(dataTable, element);\n",
              "          const docLink = document.createElement('div');\n",
              "          docLink.innerHTML = docLinkHtml;\n",
              "          element.appendChild(docLink);\n",
              "        }\n",
              "      </script>\n",
              "    </div>\n",
              "  </div>\n",
              "  "
            ]
          },
          "metadata": {},
          "execution_count": 12
        }
      ]
    },
    {
      "cell_type": "code",
      "source": [
        "#Bar Plot\n",
        "df2.iplot(kind='bar', x = 'sex', y='survived')"
      ],
      "metadata": {
        "id": "4Kx8L4JfIOxa"
      },
      "execution_count": null,
      "outputs": []
    },
    {
      "cell_type": "code",
      "source": [
        ""
      ],
      "metadata": {
        "id": "cRQfnAd9IOu5"
      },
      "execution_count": null,
      "outputs": []
    },
    {
      "cell_type": "code",
      "source": [
        ""
      ],
      "metadata": {
        "id": "ccKtUhKUIOsL"
      },
      "execution_count": null,
      "outputs": []
    }
  ]
}
