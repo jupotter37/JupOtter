{
  "cells": [
    {
      "cell_type": "markdown",
      "metadata": {
        "id": "0aStgWSO0E0E"
      },
      "source": [
        "# **Data Collection**"
      ]
    },
    {
      "cell_type": "markdown",
      "metadata": {
        "id": "1eLEkw5O0ECa"
      },
      "source": [
        "## Objectives\n",
        "\n",
        "* Import packages.\n",
        "* Set working dir.\n",
        "* Fetch data from kaggle and prepp it for cleaning and processing.\n",
        "* Split data\n",
        "\n",
        "## Inputs\n",
        "\n",
        "* Kaggle JSON file - authentication token.\n",
        "* Kaggle API - To download the data.\n",
        "\n",
        "## Outputs\n",
        "\n",
        "* Once the dataset is downloaded and strucktered it will look like this:\n",
        "\n",
        "\n",
        "- inputs/\n",
        "    - cherryleaves_dataset/\n",
        "        - cherry-leaves/\n",
        "            - test/\n",
        "                - healthy/\n",
        "                - powdery_mildew\n",
        "            - train/\n",
        "                - healthy/\n",
        "                - powdery_mildew\n",
        "            - validation/\n",
        "                - healthy/\n",
        "                - powdery_mildew\n",
        "\n",
        "\n",
        "## Additional Comments\n",
        "\n",
        "* These steps are necessary to fetch the data, clean it and divide it in subsets for the purposes of machine learning. Next step will be Data Visualization to understand the data and discover patterns.\n",
        "\n"
      ]
    },
    {
      "cell_type": "markdown",
      "metadata": {
        "id": "9uWZXH9LwoQg"
      },
      "source": [
        "---"
      ]
    },
    {
      "cell_type": "markdown",
      "metadata": {},
      "source": [
        "## Import packages"
      ]
    },
    {
      "cell_type": "code",
      "execution_count": 1,
      "metadata": {},
      "outputs": [
        {
          "name": "stdout",
          "output_type": "stream",
          "text": [
            "Requirement already satisfied: numpy==1.19.2 in /workspace/.pip-modules/lib/python3.8/site-packages (from -r /workspace/mildew-detector/requirements.txt (line 1)) (1.19.2)\n",
            "Requirement already satisfied: pandas==1.1.2 in /workspace/.pip-modules/lib/python3.8/site-packages (from -r /workspace/mildew-detector/requirements.txt (line 2)) (1.1.2)\n",
            "Requirement already satisfied: matplotlib==3.3.1 in /workspace/.pip-modules/lib/python3.8/site-packages (from -r /workspace/mildew-detector/requirements.txt (line 3)) (3.3.1)\n",
            "Requirement already satisfied: seaborn==0.11.0 in /workspace/.pip-modules/lib/python3.8/site-packages (from -r /workspace/mildew-detector/requirements.txt (line 4)) (0.11.0)\n",
            "Requirement already satisfied: plotly==4.12.0 in /workspace/.pip-modules/lib/python3.8/site-packages (from -r /workspace/mildew-detector/requirements.txt (line 5)) (4.12.0)\n",
            "Requirement already satisfied: streamlit==0.85.0 in /workspace/.pip-modules/lib/python3.8/site-packages (from -r /workspace/mildew-detector/requirements.txt (line 7)) (0.85.0)\n",
            "Requirement already satisfied: scikit-learn==0.24.2 in /workspace/.pip-modules/lib/python3.8/site-packages (from -r /workspace/mildew-detector/requirements.txt (line 9)) (0.24.2)\n",
            "Requirement already satisfied: tensorflow-cpu==2.6.0 in /workspace/.pip-modules/lib/python3.8/site-packages (from -r /workspace/mildew-detector/requirements.txt (line 10)) (2.6.0)\n",
            "Requirement already satisfied: keras==2.6.0 in /workspace/.pip-modules/lib/python3.8/site-packages (from -r /workspace/mildew-detector/requirements.txt (line 11)) (2.6.0)\n",
            "Requirement already satisfied: python-dateutil>=2.7.3 in /home/gitpod/.pyenv/versions/3.8.12/lib/python3.8/site-packages (from pandas==1.1.2->-r /workspace/mildew-detector/requirements.txt (line 2)) (2.8.2)\n",
            "Requirement already satisfied: pytz>=2017.2 in /workspace/.pip-modules/lib/python3.8/site-packages (from pandas==1.1.2->-r /workspace/mildew-detector/requirements.txt (line 2)) (2023.3)\n",
            "Requirement already satisfied: pillow>=6.2.0 in /workspace/.pip-modules/lib/python3.8/site-packages (from matplotlib==3.3.1->-r /workspace/mildew-detector/requirements.txt (line 3)) (9.5.0)\n",
            "Requirement already satisfied: cycler>=0.10 in /workspace/.pip-modules/lib/python3.8/site-packages (from matplotlib==3.3.1->-r /workspace/mildew-detector/requirements.txt (line 3)) (0.11.0)\n",
            "Requirement already satisfied: certifi>=2020.06.20 in /home/gitpod/.pyenv/versions/3.8.12/lib/python3.8/site-packages (from matplotlib==3.3.1->-r /workspace/mildew-detector/requirements.txt (line 3)) (2022.12.7)\n",
            "Requirement already satisfied: pyparsing!=2.0.4,!=2.1.2,!=2.1.6,>=2.0.3 in /workspace/.pip-modules/lib/python3.8/site-packages (from matplotlib==3.3.1->-r /workspace/mildew-detector/requirements.txt (line 3)) (3.0.9)\n",
            "Requirement already satisfied: kiwisolver>=1.0.1 in /workspace/.pip-modules/lib/python3.8/site-packages (from matplotlib==3.3.1->-r /workspace/mildew-detector/requirements.txt (line 3)) (1.4.4)\n",
            "Requirement already satisfied: scipy>=1.0 in /workspace/.pip-modules/lib/python3.8/site-packages (from seaborn==0.11.0->-r /workspace/mildew-detector/requirements.txt (line 4)) (1.9.3)\n",
            "Requirement already satisfied: retrying>=1.3.3 in /workspace/.pip-modules/lib/python3.8/site-packages (from plotly==4.12.0->-r /workspace/mildew-detector/requirements.txt (line 5)) (1.3.4)\n",
            "Requirement already satisfied: six in /workspace/.pip-modules/lib/python3.8/site-packages (from plotly==4.12.0->-r /workspace/mildew-detector/requirements.txt (line 5)) (1.15.0)\n",
            "Requirement already satisfied: requests in /home/gitpod/.pyenv/versions/3.8.12/lib/python3.8/site-packages (from streamlit==0.85.0->-r /workspace/mildew-detector/requirements.txt (line 7)) (2.28.2)\n",
            "Requirement already satisfied: packaging in /home/gitpod/.pyenv/versions/3.8.12/lib/python3.8/site-packages (from streamlit==0.85.0->-r /workspace/mildew-detector/requirements.txt (line 7)) (23.0)\n",
            "Requirement already satisfied: blinker in /workspace/.pip-modules/lib/python3.8/site-packages (from streamlit==0.85.0->-r /workspace/mildew-detector/requirements.txt (line 7)) (1.6)\n",
            "Requirement already satisfied: protobuf!=3.11,>=3.6.0 in /workspace/.pip-modules/lib/python3.8/site-packages (from streamlit==0.85.0->-r /workspace/mildew-detector/requirements.txt (line 7)) (4.22.1)\n",
            "Requirement already satisfied: gitpython in /home/gitpod/.pyenv/versions/3.8.12/lib/python3.8/site-packages (from streamlit==0.85.0->-r /workspace/mildew-detector/requirements.txt (line 7)) (3.1.31)\n",
            "Requirement already satisfied: altair>=3.2.0 in /workspace/.pip-modules/lib/python3.8/site-packages (from streamlit==0.85.0->-r /workspace/mildew-detector/requirements.txt (line 7)) (4.2.2)\n",
            "Requirement already satisfied: pyarrow in /workspace/.pip-modules/lib/python3.8/site-packages (from streamlit==0.85.0->-r /workspace/mildew-detector/requirements.txt (line 7)) (11.0.0)\n",
            "Requirement already satisfied: validators in /workspace/.pip-modules/lib/python3.8/site-packages (from streamlit==0.85.0->-r /workspace/mildew-detector/requirements.txt (line 7)) (0.20.0)\n",
            "Requirement already satisfied: tzlocal in /workspace/.pip-modules/lib/python3.8/site-packages (from streamlit==0.85.0->-r /workspace/mildew-detector/requirements.txt (line 7)) (4.3)\n",
            "Requirement already satisfied: toml in /workspace/.pip-modules/lib/python3.8/site-packages (from streamlit==0.85.0->-r /workspace/mildew-detector/requirements.txt (line 7)) (0.10.2)\n",
            "Requirement already satisfied: base58 in /workspace/.pip-modules/lib/python3.8/site-packages (from streamlit==0.85.0->-r /workspace/mildew-detector/requirements.txt (line 7)) (2.1.1)\n",
            "Requirement already satisfied: cachetools>=4.0 in /workspace/.pip-modules/lib/python3.8/site-packages (from streamlit==0.85.0->-r /workspace/mildew-detector/requirements.txt (line 7)) (5.3.0)\n",
            "Requirement already satisfied: watchdog in /workspace/.pip-modules/lib/python3.8/site-packages (from streamlit==0.85.0->-r /workspace/mildew-detector/requirements.txt (line 7)) (3.0.0)\n",
            "Requirement already satisfied: tornado>=5.0 in /home/gitpod/.pyenv/versions/3.8.12/lib/python3.8/site-packages (from streamlit==0.85.0->-r /workspace/mildew-detector/requirements.txt (line 7)) (6.2)\n",
            "Requirement already satisfied: attrs in /home/gitpod/.pyenv/versions/3.8.12/lib/python3.8/site-packages (from streamlit==0.85.0->-r /workspace/mildew-detector/requirements.txt (line 7)) (22.2.0)\n",
            "Requirement already satisfied: astor in /workspace/.pip-modules/lib/python3.8/site-packages (from streamlit==0.85.0->-r /workspace/mildew-detector/requirements.txt (line 7)) (0.8.1)\n",
            "Requirement already satisfied: pydeck>=0.1.dev5 in /workspace/.pip-modules/lib/python3.8/site-packages (from streamlit==0.85.0->-r /workspace/mildew-detector/requirements.txt (line 7)) (0.8.0)\n",
            "Requirement already satisfied: click<8.0,>=7.0 in /workspace/.pip-modules/lib/python3.8/site-packages (from streamlit==0.85.0->-r /workspace/mildew-detector/requirements.txt (line 7)) (7.1.2)\n",
            "Requirement already satisfied: joblib>=0.11 in /workspace/.pip-modules/lib/python3.8/site-packages (from scikit-learn==0.24.2->-r /workspace/mildew-detector/requirements.txt (line 9)) (1.2.0)\n",
            "Requirement already satisfied: threadpoolctl>=2.0.0 in /workspace/.pip-modules/lib/python3.8/site-packages (from scikit-learn==0.24.2->-r /workspace/mildew-detector/requirements.txt (line 9)) (3.1.0)\n",
            "Requirement already satisfied: opt-einsum~=3.3.0 in /workspace/.pip-modules/lib/python3.8/site-packages (from tensorflow-cpu==2.6.0->-r /workspace/mildew-detector/requirements.txt (line 10)) (3.3.0)\n",
            "Requirement already satisfied: keras-preprocessing~=1.1.2 in /workspace/.pip-modules/lib/python3.8/site-packages (from tensorflow-cpu==2.6.0->-r /workspace/mildew-detector/requirements.txt (line 10)) (1.1.2)\n",
            "Requirement already satisfied: google-pasta~=0.2 in /workspace/.pip-modules/lib/python3.8/site-packages (from tensorflow-cpu==2.6.0->-r /workspace/mildew-detector/requirements.txt (line 10)) (0.2.0)\n",
            "Requirement already satisfied: clang~=5.0 in /workspace/.pip-modules/lib/python3.8/site-packages (from tensorflow-cpu==2.6.0->-r /workspace/mildew-detector/requirements.txt (line 10)) (5.0)\n",
            "Requirement already satisfied: wrapt~=1.12.1 in /workspace/.pip-modules/lib/python3.8/site-packages (from tensorflow-cpu==2.6.0->-r /workspace/mildew-detector/requirements.txt (line 10)) (1.12.1)\n",
            "Requirement already satisfied: wheel~=0.35 in /home/gitpod/.pyenv/versions/3.8.12/lib/python3.8/site-packages (from tensorflow-cpu==2.6.0->-r /workspace/mildew-detector/requirements.txt (line 10)) (0.40.0)\n",
            "Requirement already satisfied: typing-extensions~=3.7.4 in /workspace/.pip-modules/lib/python3.8/site-packages (from tensorflow-cpu==2.6.0->-r /workspace/mildew-detector/requirements.txt (line 10)) (3.7.4.3)\n",
            "Requirement already satisfied: h5py~=3.1.0 in /workspace/.pip-modules/lib/python3.8/site-packages (from tensorflow-cpu==2.6.0->-r /workspace/mildew-detector/requirements.txt (line 10)) (3.1.0)\n",
            "Requirement already satisfied: astunparse~=1.6.3 in /workspace/.pip-modules/lib/python3.8/site-packages (from tensorflow-cpu==2.6.0->-r /workspace/mildew-detector/requirements.txt (line 10)) (1.6.3)\n",
            "Requirement already satisfied: absl-py~=0.10 in /workspace/.pip-modules/lib/python3.8/site-packages (from tensorflow-cpu==2.6.0->-r /workspace/mildew-detector/requirements.txt (line 10)) (0.15.0)\n",
            "Requirement already satisfied: gast==0.4.0 in /workspace/.pip-modules/lib/python3.8/site-packages (from tensorflow-cpu==2.6.0->-r /workspace/mildew-detector/requirements.txt (line 10)) (0.4.0)\n",
            "Requirement already satisfied: termcolor~=1.1.0 in /workspace/.pip-modules/lib/python3.8/site-packages (from tensorflow-cpu==2.6.0->-r /workspace/mildew-detector/requirements.txt (line 10)) (1.1.0)\n",
            "Requirement already satisfied: tensorboard~=2.6 in /workspace/.pip-modules/lib/python3.8/site-packages (from tensorflow-cpu==2.6.0->-r /workspace/mildew-detector/requirements.txt (line 10)) (2.12.1)\n",
            "Requirement already satisfied: tensorflow-estimator~=2.6 in /workspace/.pip-modules/lib/python3.8/site-packages (from tensorflow-cpu==2.6.0->-r /workspace/mildew-detector/requirements.txt (line 10)) (2.12.0)\n",
            "Requirement already satisfied: grpcio<2.0,>=1.37.0 in /workspace/.pip-modules/lib/python3.8/site-packages (from tensorflow-cpu==2.6.0->-r /workspace/mildew-detector/requirements.txt (line 10)) (1.53.0)\n",
            "Requirement already satisfied: flatbuffers~=1.12.0 in /workspace/.pip-modules/lib/python3.8/site-packages (from tensorflow-cpu==2.6.0->-r /workspace/mildew-detector/requirements.txt (line 10)) (1.12)\n",
            "Requirement already satisfied: toolz in /workspace/.pip-modules/lib/python3.8/site-packages (from altair>=3.2.0->streamlit==0.85.0->-r /workspace/mildew-detector/requirements.txt (line 7)) (0.12.0)\n",
            "Requirement already satisfied: jinja2 in /home/gitpod/.pyenv/versions/3.8.12/lib/python3.8/site-packages (from altair>=3.2.0->streamlit==0.85.0->-r /workspace/mildew-detector/requirements.txt (line 7)) (3.1.2)\n",
            "Requirement already satisfied: jsonschema>=3.0 in /home/gitpod/.pyenv/versions/3.8.12/lib/python3.8/site-packages (from altair>=3.2.0->streamlit==0.85.0->-r /workspace/mildew-detector/requirements.txt (line 7)) (4.17.3)\n",
            "Requirement already satisfied: entrypoints in /workspace/.pip-modules/lib/python3.8/site-packages (from altair>=3.2.0->streamlit==0.85.0->-r /workspace/mildew-detector/requirements.txt (line 7)) (0.4)\n",
            "Requirement already satisfied: google-auth<3,>=1.6.3 in /workspace/.pip-modules/lib/python3.8/site-packages (from tensorboard~=2.6->tensorflow-cpu==2.6.0->-r /workspace/mildew-detector/requirements.txt (line 10)) (2.17.2)\n",
            "Requirement already satisfied: google-auth-oauthlib<1.1,>=0.5 in /workspace/.pip-modules/lib/python3.8/site-packages (from tensorboard~=2.6->tensorflow-cpu==2.6.0->-r /workspace/mildew-detector/requirements.txt (line 10)) (1.0.0)\n",
            "Requirement already satisfied: setuptools>=41.0.0 in /home/gitpod/.pyenv/versions/3.8.12/lib/python3.8/site-packages (from tensorboard~=2.6->tensorflow-cpu==2.6.0->-r /workspace/mildew-detector/requirements.txt (line 10)) (67.6.1)\n",
            "Requirement already satisfied: werkzeug>=1.0.1 in /workspace/.pip-modules/lib/python3.8/site-packages (from tensorboard~=2.6->tensorflow-cpu==2.6.0->-r /workspace/mildew-detector/requirements.txt (line 10)) (2.2.3)\n",
            "Requirement already satisfied: tensorboard-data-server<0.8.0,>=0.7.0 in /workspace/.pip-modules/lib/python3.8/site-packages (from tensorboard~=2.6->tensorflow-cpu==2.6.0->-r /workspace/mildew-detector/requirements.txt (line 10)) (0.7.0)\n",
            "Requirement already satisfied: markdown>=2.6.8 in /workspace/.pip-modules/lib/python3.8/site-packages (from tensorboard~=2.6->tensorflow-cpu==2.6.0->-r /workspace/mildew-detector/requirements.txt (line 10)) (3.4.3)\n",
            "Requirement already satisfied: tensorboard-plugin-wit>=1.6.0 in /workspace/.pip-modules/lib/python3.8/site-packages (from tensorboard~=2.6->tensorflow-cpu==2.6.0->-r /workspace/mildew-detector/requirements.txt (line 10)) (1.8.1)\n",
            "Requirement already satisfied: urllib3<1.27,>=1.21.1 in /home/gitpod/.pyenv/versions/3.8.12/lib/python3.8/site-packages (from requests->streamlit==0.85.0->-r /workspace/mildew-detector/requirements.txt (line 7)) (1.26.15)\n",
            "Requirement already satisfied: charset-normalizer<4,>=2 in /home/gitpod/.pyenv/versions/3.8.12/lib/python3.8/site-packages (from requests->streamlit==0.85.0->-r /workspace/mildew-detector/requirements.txt (line 7)) (3.1.0)\n",
            "Requirement already satisfied: idna<4,>=2.5 in /home/gitpod/.pyenv/versions/3.8.12/lib/python3.8/site-packages (from requests->streamlit==0.85.0->-r /workspace/mildew-detector/requirements.txt (line 7)) (3.4)\n",
            "Requirement already satisfied: gitdb<5,>=4.0.1 in /home/gitpod/.pyenv/versions/3.8.12/lib/python3.8/site-packages (from gitpython->streamlit==0.85.0->-r /workspace/mildew-detector/requirements.txt (line 7)) (4.0.10)\n",
            "Requirement already satisfied: backports.zoneinfo in /workspace/.pip-modules/lib/python3.8/site-packages (from tzlocal->streamlit==0.85.0->-r /workspace/mildew-detector/requirements.txt (line 7)) (0.2.1)\n",
            "Requirement already satisfied: pytz-deprecation-shim in /workspace/.pip-modules/lib/python3.8/site-packages (from tzlocal->streamlit==0.85.0->-r /workspace/mildew-detector/requirements.txt (line 7)) (0.1.0.post0)\n",
            "Requirement already satisfied: decorator>=3.4.0 in /home/gitpod/.pyenv/versions/3.8.12/lib/python3.8/site-packages (from validators->streamlit==0.85.0->-r /workspace/mildew-detector/requirements.txt (line 7)) (5.1.1)\n",
            "Requirement already satisfied: smmap<6,>=3.0.1 in /home/gitpod/.pyenv/versions/3.8.12/lib/python3.8/site-packages (from gitdb<5,>=4.0.1->gitpython->streamlit==0.85.0->-r /workspace/mildew-detector/requirements.txt (line 7)) (5.0.0)\n",
            "Requirement already satisfied: pyasn1-modules>=0.2.1 in /workspace/.pip-modules/lib/python3.8/site-packages (from google-auth<3,>=1.6.3->tensorboard~=2.6->tensorflow-cpu==2.6.0->-r /workspace/mildew-detector/requirements.txt (line 10)) (0.2.8)\n",
            "Requirement already satisfied: rsa<5,>=3.1.4 in /workspace/.pip-modules/lib/python3.8/site-packages (from google-auth<3,>=1.6.3->tensorboard~=2.6->tensorflow-cpu==2.6.0->-r /workspace/mildew-detector/requirements.txt (line 10)) (4.9)\n",
            "Requirement already satisfied: requests-oauthlib>=0.7.0 in /workspace/.pip-modules/lib/python3.8/site-packages (from google-auth-oauthlib<1.1,>=0.5->tensorboard~=2.6->tensorflow-cpu==2.6.0->-r /workspace/mildew-detector/requirements.txt (line 10)) (1.3.1)\n",
            "Requirement already satisfied: MarkupSafe>=2.0 in /home/gitpod/.pyenv/versions/3.8.12/lib/python3.8/site-packages (from jinja2->altair>=3.2.0->streamlit==0.85.0->-r /workspace/mildew-detector/requirements.txt (line 7)) (2.1.2)\n",
            "Requirement already satisfied: pyrsistent!=0.17.0,!=0.17.1,!=0.17.2,>=0.14.0 in /home/gitpod/.pyenv/versions/3.8.12/lib/python3.8/site-packages (from jsonschema>=3.0->altair>=3.2.0->streamlit==0.85.0->-r /workspace/mildew-detector/requirements.txt (line 7)) (0.19.3)\n",
            "Requirement already satisfied: pkgutil-resolve-name>=1.3.10 in /home/gitpod/.pyenv/versions/3.8.12/lib/python3.8/site-packages (from jsonschema>=3.0->altair>=3.2.0->streamlit==0.85.0->-r /workspace/mildew-detector/requirements.txt (line 7)) (1.3.10)\n",
            "Requirement already satisfied: importlib-resources>=1.4.0 in /home/gitpod/.pyenv/versions/3.8.12/lib/python3.8/site-packages (from jsonschema>=3.0->altair>=3.2.0->streamlit==0.85.0->-r /workspace/mildew-detector/requirements.txt (line 7)) (5.12.0)\n",
            "Requirement already satisfied: importlib-metadata>=4.4 in /home/gitpod/.pyenv/versions/3.8.12/lib/python3.8/site-packages (from markdown>=2.6.8->tensorboard~=2.6->tensorflow-cpu==2.6.0->-r /workspace/mildew-detector/requirements.txt (line 10)) (6.2.0)\n",
            "Requirement already satisfied: tzdata in /workspace/.pip-modules/lib/python3.8/site-packages (from pytz-deprecation-shim->tzlocal->streamlit==0.85.0->-r /workspace/mildew-detector/requirements.txt (line 7)) (2023.3)\n",
            "Requirement already satisfied: zipp>=0.5 in /home/gitpod/.pyenv/versions/3.8.12/lib/python3.8/site-packages (from importlib-metadata>=4.4->markdown>=2.6.8->tensorboard~=2.6->tensorflow-cpu==2.6.0->-r /workspace/mildew-detector/requirements.txt (line 10)) (3.15.0)\n",
            "Requirement already satisfied: pyasn1<0.5.0,>=0.4.6 in /workspace/.pip-modules/lib/python3.8/site-packages (from pyasn1-modules>=0.2.1->google-auth<3,>=1.6.3->tensorboard~=2.6->tensorflow-cpu==2.6.0->-r /workspace/mildew-detector/requirements.txt (line 10)) (0.4.8)\n",
            "Requirement already satisfied: oauthlib>=3.0.0 in /workspace/.pip-modules/lib/python3.8/site-packages (from requests-oauthlib>=0.7.0->google-auth-oauthlib<1.1,>=0.5->tensorboard~=2.6->tensorflow-cpu==2.6.0->-r /workspace/mildew-detector/requirements.txt (line 10)) (3.2.2)\n"
          ]
        }
      ],
      "source": [
        "! pip install -r /workspace/mildew-detector/requirements.txt"
      ]
    },
    {
      "cell_type": "code",
      "execution_count": 2,
      "metadata": {},
      "outputs": [],
      "source": [
        "import numpy\n",
        "import os"
      ]
    },
    {
      "cell_type": "markdown",
      "metadata": {
        "id": "cqP-UeN-z3i2"
      },
      "source": [
        "# Change working directory"
      ]
    },
    {
      "cell_type": "markdown",
      "metadata": {},
      "source": [
        "* The notebooks are in a subfolder of this directory, therefore when running the notebook in the editor, it's necessary to change the working directory."
      ]
    },
    {
      "cell_type": "markdown",
      "metadata": {
        "id": "aOGIGS-uz3i2"
      },
      "source": [
        "Change the working directory from its current folder to its parent folder"
      ]
    },
    {
      "cell_type": "code",
      "execution_count": 3,
      "metadata": {
        "id": "wZfF_j-Bz3i4",
        "outputId": "66943449-1436-4c3d-85c7-b85f9f78349b"
      },
      "outputs": [
        {
          "data": {
            "text/plain": [
              "'/workspace/mildew-detector/jupyter_notebooks'"
            ]
          },
          "execution_count": 3,
          "metadata": {},
          "output_type": "execute_result"
        }
      ],
      "source": [
        "current_dir = os.getcwd()\n",
        "current_dir"
      ]
    },
    {
      "cell_type": "markdown",
      "metadata": {
        "id": "9MWW8E7lz3i7"
      },
      "source": [
        "We want to make the parent of the current directory the new current directory\n",
        "* os.path.dirname() gets the parent directory\n",
        "* os.chir() defines the new current directory"
      ]
    },
    {
      "cell_type": "code",
      "execution_count": 4,
      "metadata": {
        "id": "TwHsQRWjz3i9",
        "outputId": "86849db3-cd2f-4cc5-ebb8-2d0caafa1a2c"
      },
      "outputs": [
        {
          "name": "stdout",
          "output_type": "stream",
          "text": [
            "You set a new current directory\n"
          ]
        }
      ],
      "source": [
        "os.chdir(os.path.dirname(current_dir))\n",
        "print(\"You set a new current directory\")"
      ]
    },
    {
      "cell_type": "markdown",
      "metadata": {
        "id": "M_xPk_Ijz3i-"
      },
      "source": [
        "Confirm the new current directory"
      ]
    },
    {
      "cell_type": "code",
      "execution_count": 5,
      "metadata": {
        "id": "vz3S-_kjz3jA",
        "outputId": "00b79ae4-75d0-4a96-d193-ac9ef9847ea2"
      },
      "outputs": [
        {
          "data": {
            "text/plain": [
              "'/workspace/mildew-detector'"
            ]
          },
          "execution_count": 5,
          "metadata": {},
          "output_type": "execute_result"
        }
      ],
      "source": [
        "current_dir = os.getcwd()\n",
        "current_dir"
      ]
    },
    {
      "cell_type": "markdown",
      "metadata": {},
      "source": [
        "---"
      ]
    },
    {
      "cell_type": "markdown",
      "metadata": {},
      "source": [
        "## Install Kaggle"
      ]
    },
    {
      "cell_type": "code",
      "execution_count": 6,
      "metadata": {},
      "outputs": [
        {
          "name": "stdout",
          "output_type": "stream",
          "text": [
            "Requirement already satisfied: kaggle in /workspace/.pip-modules/lib/python3.8/site-packages (1.5.13)\n",
            "Requirement already satisfied: six>=1.10 in /workspace/.pip-modules/lib/python3.8/site-packages (from kaggle) (1.15.0)\n",
            "Requirement already satisfied: python-slugify in /workspace/.pip-modules/lib/python3.8/site-packages (from kaggle) (8.0.1)\n",
            "Requirement already satisfied: python-dateutil in /home/gitpod/.pyenv/versions/3.8.12/lib/python3.8/site-packages (from kaggle) (2.8.2)\n",
            "Requirement already satisfied: tqdm in /workspace/.pip-modules/lib/python3.8/site-packages (from kaggle) (4.65.0)\n",
            "Requirement already satisfied: certifi in /home/gitpod/.pyenv/versions/3.8.12/lib/python3.8/site-packages (from kaggle) (2022.12.7)\n",
            "Requirement already satisfied: requests in /home/gitpod/.pyenv/versions/3.8.12/lib/python3.8/site-packages (from kaggle) (2.28.2)\n",
            "Requirement already satisfied: urllib3 in /home/gitpod/.pyenv/versions/3.8.12/lib/python3.8/site-packages (from kaggle) (1.26.15)\n",
            "Requirement already satisfied: text-unidecode>=1.3 in /workspace/.pip-modules/lib/python3.8/site-packages (from python-slugify->kaggle) (1.3)\n",
            "Requirement already satisfied: charset-normalizer<4,>=2 in /home/gitpod/.pyenv/versions/3.8.12/lib/python3.8/site-packages (from requests->kaggle) (3.1.0)\n",
            "Requirement already satisfied: idna<4,>=2.5 in /home/gitpod/.pyenv/versions/3.8.12/lib/python3.8/site-packages (from requests->kaggle) (3.4)\n",
            "Note: you may need to restart the kernel to use updated packages.\n"
          ]
        }
      ],
      "source": [
        "pip install kaggle"
      ]
    },
    {
      "cell_type": "markdown",
      "metadata": {},
      "source": [
        "Change the Kaggle configuration directory to the current working directory and set permissions for the Kaggle authentication JSON"
      ]
    },
    {
      "cell_type": "code",
      "execution_count": 7,
      "metadata": {},
      "outputs": [],
      "source": [
        "os.environ['KAGGLE_CONFIG_DIR'] = os.getcwd()\n",
        "! chmod 600 kaggle.json"
      ]
    },
    {
      "cell_type": "markdown",
      "metadata": {},
      "source": [
        "Set the kaggle dataset and download it"
      ]
    },
    {
      "cell_type": "code",
      "execution_count": 8,
      "metadata": {},
      "outputs": [
        {
          "name": "stdout",
          "output_type": "stream",
          "text": [
            "Downloading cherry-leaves.zip to inputs/cherryleaves_dataset\n",
            " 98%|█████████████████████████████████████▎| 54.0M/55.0M [00:01<00:00, 42.5MB/s]\n",
            "100%|██████████████████████████████████████| 55.0M/55.0M [00:01<00:00, 34.7MB/s]\n"
          ]
        }
      ],
      "source": [
        "KaggleDatasetPath = \"codeinstitute/cherry-leaves\"\n",
        "DestinationFolder = \"inputs/cherryleaves_dataset\"   \n",
        "! kaggle datasets download -d {KaggleDatasetPath} -p {DestinationFolder}"
      ]
    },
    {
      "cell_type": "markdown",
      "metadata": {},
      "source": [
        "Unzip the dowloaded file and delete the zip file"
      ]
    },
    {
      "cell_type": "code",
      "execution_count": 9,
      "metadata": {},
      "outputs": [],
      "source": [
        "import zipfile\n",
        "with zipfile.ZipFile(DestinationFolder + '/cherry-leaves.zip', 'r') as zip_ref:\n",
        "    zip_ref.extractall(DestinationFolder)\n",
        "\n",
        "os.remove(DestinationFolder + '/cherry-leaves.zip')"
      ]
    },
    {
      "cell_type": "markdown",
      "metadata": {},
      "source": [
        "---"
      ]
    },
    {
      "cell_type": "markdown",
      "metadata": {},
      "source": [
        "## Data Preparation"
      ]
    },
    {
      "cell_type": "markdown",
      "metadata": {},
      "source": [
        "---"
      ]
    },
    {
      "cell_type": "markdown",
      "metadata": {},
      "source": [
        "### Data Cleaning\n",
        "\n",
        "* Remove any non images files."
      ]
    },
    {
      "cell_type": "code",
      "execution_count": 10,
      "metadata": {},
      "outputs": [],
      "source": [
        "def remove_non_image_files(data_dir):\n",
        "    \"\"\"\n",
        "    Removes non-image files from a given directory.\n",
        "\n",
        "    Args:\n",
        "        data_dir (str): The directory containing the image files.\n",
        "\n",
        "    Returns:\n",
        "        None\n",
        "    \"\"\"\n",
        "    # Define the file extensions to keep\n",
        "    valid_extensions = ('.png', '.jpg', '.jpeg')\n",
        "\n",
        "    # Loop through each folder in the directory\n",
        "    for folder in os.listdir(data_dir):\n",
        "        folder_path = os.path.join(data_dir, folder)\n",
        "        if not os.path.isdir(folder_path):\n",
        "            continue  # Skip non-directory files\n",
        "\n",
        "        # Loop through each file in the folder\n",
        "        files = os.listdir(folder_path)\n",
        "        num_files = len(files)\n",
        "        num_removed = 0\n",
        "        for filename in files:\n",
        "            file_path = os.path.join(folder_path, filename)\n",
        "\n",
        "            # Check if the file has a valid image extension\n",
        "            if not filename.lower().endswith(valid_extensions):\n",
        "                os.remove(file_path)\n",
        "                num_removed += 1\n",
        "\n",
        "        print(f\"Folder: {folder} - {num_files} total files, \"\n",
        "              f\"{num_removed} non-image files removed.\")\n"
      ]
    },
    {
      "cell_type": "code",
      "execution_count": 11,
      "metadata": {},
      "outputs": [
        {
          "name": "stdout",
          "output_type": "stream",
          "text": [
            "Folder: healthy - 2104 total files, 0 non-image files removed.\n",
            "Folder: powdery_mildew - 2104 total files, 0 non-image files removed.\n"
          ]
        }
      ],
      "source": [
        "remove_non_image_files('inputs/cherryleaves_dataset/cherry-leaves')"
      ]
    },
    {
      "cell_type": "markdown",
      "metadata": {},
      "source": [
        "---"
      ]
    },
    {
      "cell_type": "markdown",
      "metadata": {},
      "source": [
        "## Split train validation test set"
      ]
    },
    {
      "cell_type": "code",
      "execution_count": 13,
      "metadata": {},
      "outputs": [],
      "source": [
        "import os\n",
        "import shutil\n",
        "import random\n",
        "\n",
        "def split_train_validation_test_images(my_data_dir:str, train_set_ratio:float, validation_set_ratio:float, test_set_ratio:float) -> None:\n",
        "    \"\"\"\n",
        "    Splits images in the specified directory into train, validation, and test sets.\n",
        "    Moves images to corresponding subdirectories.\n",
        "    \n",
        "    Args:\n",
        "    - my_data_dir: A string representing the directory containing the image dataset.\n",
        "    - train_set_ratio: A float representing the proportion of data to be used in the train set.\n",
        "    - validation_set_ratio: A float representing the proportion of data to be used in the validation set.\n",
        "    - test_set_ratio: A float representing the proportion of data to be used in the test set.\n",
        "    \n",
        "    Returns: None\n",
        "    \"\"\"\n",
        "    \n",
        "    # Check that the ratios add up to 1.0\n",
        "    if train_set_ratio + validation_set_ratio + test_set_ratio != 1.0:\n",
        "        print(\"Error: train_set_ratio + validation_set_ratio + test_set_ratio should sum to 1.0\")\n",
        "        return\n",
        "\n",
        "    # Get class labels from directory\n",
        "    labels = os.listdir(my_data_dir)\n",
        "    if 'test' in labels:\n",
        "        pass\n",
        "    else:\n",
        "        # Create train, validation, and test folders with class labels sub-folder\n",
        "        for folder in ['train', 'validation', 'test']:\n",
        "            for label in labels:\n",
        "                os.makedirs(name=my_data_dir + '/' + folder + '/' + label)\n",
        "\n",
        "        for label in labels:\n",
        "            files = os.listdir(my_data_dir + '/' + label)\n",
        "            random.shuffle(files)\n",
        "\n",
        "            train_set_files_qty = int(len(files) * train_set_ratio)\n",
        "            validation_set_files_qty = int(len(files) * validation_set_ratio)\n",
        "\n",
        "            count = 1\n",
        "            for file_name in files:\n",
        "                if count <= train_set_files_qty:\n",
        "                    # Move file to train set\n",
        "                    shutil.move(my_data_dir + '/' + label + '/' + file_name,\n",
        "                                my_data_dir + '/train/' + label + '/' + file_name)\n",
        "\n",
        "                elif count <= (train_set_files_qty + validation_set_files_qty):\n",
        "                    # Move file to validation set\n",
        "                    shutil.move(my_data_dir + '/' + label + '/' + file_name,\n",
        "                                my_data_dir + '/validation/' + label + '/' + file_name)\n",
        "\n",
        "                else:\n",
        "                    # Move file to test set\n",
        "                    shutil.move(my_data_dir + '/' + label + '/' + file_name,\n",
        "                                my_data_dir + '/test/' + label + '/' + file_name)\n",
        "\n",
        "                count += 1\n",
        "\n",
        "        # Remove original label folders\n",
        "        for label in labels:\n",
        "            os.rmdir(my_data_dir + '/' + label)\n",
        "\n"
      ]
    },
    {
      "cell_type": "markdown",
      "metadata": {},
      "source": [
        "The data has been split into three parts: training set, validation set, and test set. The training set contains 70% of the data used for training the model. The validation set includes 10% of the data used for tuning the model's hyperparameters. The test set consists of the remaining 20% of the data, which is used for evaluating the performance of the final model on unseen data."
      ]
    },
    {
      "cell_type": "code",
      "execution_count": 14,
      "metadata": {},
      "outputs": [],
      "source": [
        "split_train_validation_test_images(my_data_dir=\"inputs/cherryleaves_dataset/cherry-leaves\",\n",
        "                                   train_set_ratio=0.7,\n",
        "                                   validation_set_ratio=0.1,\n",
        "                                   test_set_ratio=0.2)\n"
      ]
    },
    {
      "cell_type": "markdown",
      "metadata": {
        "id": "ZY3l0-AxO93d"
      },
      "source": [
        "---"
      ]
    },
    {
      "cell_type": "markdown",
      "metadata": {
        "id": "ltNetd085qHf"
      },
      "source": [
        "# Conclusions:\n",
        "\n",
        "* In this section, we have covered the data cleaning process, where we removed all the non-image files from our dataset. This step is essential to ensure we only work with the relevant data.\n",
        "* We have also split our dataset into three sets: train, validation, and test, with a 70-10-20 ratio respectively. This step is crucial for building a robust and generalisable model.\n",
        "\n",
        "# Next steps:\n",
        "\n",
        "* In the next section, we will cover data preprocessing, where we will resize the images to a standard size, apply data augmentation techniques, and convert the images into a format that our model can understand.\n",
        "* Once we have preprocessed our data, we will move on to the modelling phase, where we will train and evaluate various machine-learning models to identify mildew in cherry leaves."
      ]
    }
  ],
  "metadata": {
    "accelerator": "GPU",
    "colab": {
      "name": "Data Practitioner Jupyter Notebook.ipynb",
      "provenance": [],
      "toc_visible": true
    },
    "interpreter": {
      "hash": "8b8334dab9339717f727a1deaf837b322d7a41c20d15cc86be99a8e69ceec8ce"
    },
    "kernelspec": {
      "display_name": "Python 3.8.12 64-bit ('3.8.12': pyenv)",
      "name": "python3"
    },
    "language_info": {
      "codemirror_mode": {
        "name": "ipython",
        "version": 3
      },
      "file_extension": ".py",
      "mimetype": "text/x-python",
      "name": "python",
      "nbconvert_exporter": "python",
      "pygments_lexer": "ipython3",
      "version": "3.8.12"
    },
    "orig_nbformat": 2
  },
  "nbformat": 4,
  "nbformat_minor": 2
}
