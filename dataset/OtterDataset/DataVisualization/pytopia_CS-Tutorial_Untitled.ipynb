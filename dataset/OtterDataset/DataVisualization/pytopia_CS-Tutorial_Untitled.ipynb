{
 "cells": [
  {
   "cell_type": "markdown",
   "id": "d51313f8-b0f4-4923-b3cc-95f635ade081",
   "metadata": {},
   "source": [
    "# Resources to Add"
   ]
  },
  {
   "cell_type": "markdown",
   "id": "d93a5d94-0228-4fce-919f-7cf45399c83f",
   "metadata": {},
   "source": [
    "## Statistics\n",
    "\n",
    "This book should be enough:\n",
    "- Statistics Book"
   ]
  },
  {
   "cell_type": "markdown",
   "id": "591bd82a-9328-4a1e-8dd5-358afc062def",
   "metadata": {},
   "source": [
    "## Data Visualization\n",
    "\n",
    "We can use the documentations of:\n",
    "- Matplotlib Basics\n",
    "- Seaborn\n",
    "- Plotly\n",
    "\n",
    "and add examples."
   ]
  },
  {
   "cell_type": "markdown",
   "id": "66666d9e-1250-45a4-8846-c98d75f94939",
   "metadata": {},
   "source": [
    "## Elements of AI"
   ]
  },
  {
   "cell_type": "markdown",
   "id": "a9e360ff-1ae0-4b5f-9783-9b6b7201d5fa",
   "metadata": {},
   "source": [
    "- Introduction to AI\n",
    "- High Level Overview\n",
    "- https://www.elementsofai.com/?_ga=2.45382182.343912389.1642607280-256642993.1642607280"
   ]
  },
  {
   "cell_type": "markdown",
   "id": "252a64eb-1d3d-4cc4-b6b8-ff6c88e5f984",
   "metadata": {},
   "source": [
    "# Scikit Learn\n",
    "\n",
    "- Scikit Learn Documentation"
   ]
  },
  {
   "cell_type": "code",
   "execution_count": null,
   "id": "b9dc86ad-466f-4b0d-b32a-ddd88ece559f",
   "metadata": {},
   "outputs": [],
   "source": []
  }
 ],
 "metadata": {
  "kernelspec": {
   "display_name": "Python 3",
   "language": "python",
   "name": "python3"
  },
  "language_info": {
   "codemirror_mode": {
    "name": "ipython",
    "version": 3
   },
   "file_extension": ".py",
   "mimetype": "text/x-python",
   "name": "python",
   "nbconvert_exporter": "python",
   "pygments_lexer": "ipython3",
   "version": "3.8.11"
  }
 },
 "nbformat": 4,
 "nbformat_minor": 5
}
