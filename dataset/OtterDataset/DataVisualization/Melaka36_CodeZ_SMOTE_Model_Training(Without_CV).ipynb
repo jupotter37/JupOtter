{
  "nbformat": 4,
  "nbformat_minor": 0,
  "metadata": {
    "colab": {
      "provenance": [],
      "collapsed_sections": [
        "4VOOlXoWi_ez"
      ],
      "gpuType": "T4",
      "mount_file_id": "1xzMLJaJ0I17XhVOq0RArF6uzKBhvrVCT",
      "authorship_tag": "ABX9TyM0tKwVPONCj0eWA8oY9Nb5",
      "include_colab_link": true
    },
    "kernelspec": {
      "name": "python3",
      "display_name": "Python 3"
    },
    "language_info": {
      "name": "python"
    },
    "accelerator": "GPU"
  },
  "cells": [
    {
      "cell_type": "markdown",
      "metadata": {
        "id": "view-in-github",
        "colab_type": "text"
      },
      "source": [
        "<a href=\"https://colab.research.google.com/github/Melaka36/CodeZ/blob/main/SMOTE_Model_Training(Without_CV).ipynb\" target=\"_parent\"><img src=\"https://colab.research.google.com/assets/colab-badge.svg\" alt=\"Open In Colab\"/></a>"
      ]
    },
    {
      "cell_type": "code",
      "execution_count": null,
      "metadata": {
        "id": "jFt9Ail1hJ-J"
      },
      "outputs": [],
      "source": [
        "import numpy as np # linear algebra\n",
        "import pandas as pd # data processing, CSV file I/O (e.g. pd.read_csv)\n",
        "import matplotlib.pyplot as plt # data visualization\n",
        "import plotly.graph_objects as go\n",
        "import plotly.express as px\n",
        "import seaborn as sns # data visualization\n",
        "\n",
        "import xgboost as xgb\n",
        "from sklearn.linear_model import LogisticRegression\n",
        "from sklearn.preprocessing import LabelEncoder\n",
        "from sklearn.model_selection import train_test_split,learning_curve\n",
        "from sklearn.metrics import accuracy_score\n",
        "from sklearn.model_selection import cross_val_score\n",
        "from sklearn.model_selection import GridSearchCV, RandomizedSearchCV\n",
        "from sklearn.metrics import confusion_matrix,accuracy_score, precision_score, recall_score, f1_score, roc_auc_score, roc_curve, auc\n"
      ]
    },
    {
      "cell_type": "code",
      "source": [
        "df=pd.read_csv(\"drive/MyDrive/4th_Year_Research/Implementation/Dataset/Pre-Processed-Dataset.csv\")\n",
        "df.shape"
      ],
      "metadata": {
        "colab": {
          "base_uri": "https://localhost:8080/"
        },
        "id": "59t6yI_ehk6O",
        "outputId": "f67bf1dd-64bb-4824-fe79-0a883924efec"
      },
      "execution_count": null,
      "outputs": [
        {
          "output_type": "execute_result",
          "data": {
            "text/plain": [
              "(3630, 25)"
            ]
          },
          "metadata": {},
          "execution_count": 2
        }
      ]
    },
    {
      "cell_type": "markdown",
      "metadata": {
        "id": "X2caPFwlZ5G2"
      },
      "source": [
        "# Splitting data into X and Y"
      ]
    },
    {
      "cell_type": "code",
      "execution_count": null,
      "metadata": {
        "id": "-WGbPPKYYl7-"
      },
      "outputs": [],
      "source": [
        "#will drop the Nationality and International columns since they are highly correlated and only one nationality significantly dominates the data.\n",
        "X = df.drop(columns=['Target'], axis=1)\n",
        "Y = df['Target']"
      ]
    },
    {
      "cell_type": "code",
      "source": [
        "X.shape"
      ],
      "metadata": {
        "colab": {
          "base_uri": "https://localhost:8080/"
        },
        "id": "w-KbTIUtrsBA",
        "outputId": "9f50f5e2-16b1-47ae-a85b-4654b35dbbe0"
      },
      "execution_count": null,
      "outputs": [
        {
          "output_type": "execute_result",
          "data": {
            "text/plain": [
              "(3630, 24)"
            ]
          },
          "metadata": {},
          "execution_count": 4
        }
      ]
    },
    {
      "cell_type": "code",
      "execution_count": null,
      "metadata": {
        "colab": {
          "base_uri": "https://localhost:8080/"
        },
        "id": "EOX_sbrPaUFE",
        "outputId": "68e4dd08-8281-4aaf-b936-688f67203632"
      },
      "outputs": [
        {
          "output_type": "stream",
          "name": "stdout",
          "text": [
            "<class 'pandas.core.frame.DataFrame'>\n",
            "RangeIndex: 3630 entries, 0 to 3629\n",
            "Data columns (total 24 columns):\n",
            " #   Column                                          Non-Null Count  Dtype  \n",
            "---  ------                                          --------------  -----  \n",
            " 0   Marital status                                  3630 non-null   int64  \n",
            " 1   Application mode                                3630 non-null   int64  \n",
            " 2   Application order                               3630 non-null   int64  \n",
            " 3   Course                                          3630 non-null   int64  \n",
            " 4   Daytime/evening attendance                      3630 non-null   int64  \n",
            " 5   Previous qualification                          3630 non-null   int64  \n",
            " 6   Nacionality                                     3630 non-null   int64  \n",
            " 7   Mother's qualification                          3630 non-null   int64  \n",
            " 8   Father's qualification                          3630 non-null   int64  \n",
            " 9   Mother's occupation                             3630 non-null   int64  \n",
            " 10  Displaced                                       3630 non-null   int64  \n",
            " 11  Educational special needs                       3630 non-null   int64  \n",
            " 12  Debtor                                          3630 non-null   int64  \n",
            " 13  Tuition fees up to date                         3630 non-null   int64  \n",
            " 14  Gender                                          3630 non-null   int64  \n",
            " 15  Scholarship holder                              3630 non-null   int64  \n",
            " 16  Age at enrollment                               3630 non-null   int64  \n",
            " 17  Curricular units 2nd sem (credited)             3630 non-null   int64  \n",
            " 18  Curricular units 2nd sem (enrolled)             3630 non-null   int64  \n",
            " 19  Curricular units 2nd sem (evaluations)          3630 non-null   int64  \n",
            " 20  Curricular units 2nd sem (without evaluations)  3630 non-null   int64  \n",
            " 21  Unemployment rate                               3630 non-null   float64\n",
            " 22  Inflation rate                                  3630 non-null   float64\n",
            " 23  GDP                                             3630 non-null   float64\n",
            "dtypes: float64(3), int64(21)\n",
            "memory usage: 680.8 KB\n"
          ]
        }
      ],
      "source": [
        "X.info()\n"
      ]
    },
    {
      "cell_type": "code",
      "execution_count": null,
      "metadata": {
        "colab": {
          "base_uri": "https://localhost:8080/"
        },
        "id": "Szi0J320aWJ1",
        "outputId": "32ed38ff-80c4-4eb5-ade5-2b1a4951e3f5"
      },
      "outputs": [
        {
          "output_type": "execute_result",
          "data": {
            "text/plain": [
              "0    0\n",
              "1    1\n",
              "2    0\n",
              "3    1\n",
              "4    1\n",
              "Name: Target, dtype: int64"
            ]
          },
          "metadata": {},
          "execution_count": 6
        }
      ],
      "source": [
        "Y.head()"
      ]
    },
    {
      "cell_type": "markdown",
      "metadata": {
        "id": "RvbYkqDhau61"
      },
      "source": [
        "\n",
        "\n",
        "---\n",
        "\n",
        "# Splitting Data Into Training and Testing\n",
        "\n",
        "---\n",
        "\n"
      ]
    },
    {
      "cell_type": "code",
      "execution_count": null,
      "metadata": {
        "id": "w6F_ZbgbaubI"
      },
      "outputs": [],
      "source": [
        "X_train, X_test, Y_train, Y_test = train_test_split(X, Y, test_size=0.2, random_state=3)"
      ]
    },
    {
      "cell_type": "code",
      "execution_count": null,
      "metadata": {
        "colab": {
          "base_uri": "https://localhost:8080/"
        },
        "id": "_SuDxZsjaYvS",
        "outputId": "0b7e8d2d-a478-417c-fb8d-509e12fb670c"
      },
      "outputs": [
        {
          "output_type": "stream",
          "name": "stdout",
          "text": [
            "(3630, 24) (2904, 24) (726, 24)\n"
          ]
        }
      ],
      "source": [
        "print(X.shape, X_train.shape, X_test.shape)"
      ]
    },
    {
      "cell_type": "markdown",
      "source": [
        "# SMOTE"
      ],
      "metadata": {
        "id": "tVND4PrrVdZW"
      }
    },
    {
      "cell_type": "code",
      "source": [
        "from imblearn.over_sampling import SMOTE\n",
        "\n",
        "# Create an instance of SMOTE\n",
        "smote = SMOTE(random_state=2)\n",
        "\n",
        "# Apply SMOTE to the training data\n",
        "X_train_resampled, Y_train_resampled = smote.fit_resample(X_train, Y_train)\n",
        "\n",
        "# Check the class distribution after oversampling\n",
        "unique, counts = np.unique(Y_train_resampled, return_counts=True)\n",
        "class_distribution = dict(zip(unique, counts))\n",
        "print(\"Class distribution after SMOTE:\", class_distribution)\n"
      ],
      "metadata": {
        "colab": {
          "base_uri": "https://localhost:8080/"
        },
        "id": "lrVQQOihSfQi",
        "outputId": "76dd491d-2395-40fb-de16-d5616e273860"
      },
      "execution_count": null,
      "outputs": [
        {
          "output_type": "stream",
          "name": "stdout",
          "text": [
            "Class distribution after SMOTE: {0: 1773, 1: 1773}\n"
          ]
        }
      ]
    },
    {
      "cell_type": "code",
      "source": [
        "count_of_zeros = (Y_train_resampled == 1).sum()\n",
        "print(f\"Number of rows with Target = 0: {count_of_zeros}\")"
      ],
      "metadata": {
        "colab": {
          "base_uri": "https://localhost:8080/"
        },
        "id": "GvQuAtgUo16_",
        "outputId": "4678271a-9535-41d9-d04f-a4d371985599"
      },
      "execution_count": null,
      "outputs": [
        {
          "output_type": "stream",
          "name": "stdout",
          "text": [
            "Number of rows with Target = 0: 1773\n"
          ]
        }
      ]
    },
    {
      "cell_type": "code",
      "source": [
        "X_train = X_train_resampled\n",
        "Y_train = Y_train_resampled\n",
        "count_of_ones = (Y_train == 1).sum()\n",
        "count_of_zeros = (Y_train == 0).sum()\n",
        "print(f\"Number of rows with Target = 0: {count_of_zeros}\")\n",
        "print(f\"Number of rows with Target = 1: {count_of_ones }\")"
      ],
      "metadata": {
        "colab": {
          "base_uri": "https://localhost:8080/"
        },
        "id": "_3NVRPwjc0Kv",
        "outputId": "71caf825-a33c-4da5-a896-445b5f77bed7"
      },
      "execution_count": null,
      "outputs": [
        {
          "output_type": "stream",
          "name": "stdout",
          "text": [
            "Number of rows with Target = 0: 1773\n",
            "Number of rows with Target = 1: 1773\n"
          ]
        }
      ]
    },
    {
      "cell_type": "markdown",
      "source": [
        "# **Model Training**"
      ],
      "metadata": {
        "id": "waomcbsHutO7"
      }
    },
    {
      "cell_type": "markdown",
      "metadata": {
        "id": "iGtQDe2tJGLK"
      },
      "source": [
        "# Logistic Regression"
      ]
    },
    {
      "cell_type": "code",
      "execution_count": null,
      "metadata": {
        "id": "UEl8u56JJOwF"
      },
      "outputs": [],
      "source": [
        "clf = LogisticRegression(max_iter=1000)  # Increase max_iter value\n",
        "clf.fit(X_train,Y_train)\n",
        "y_pred=clf.predict(X_test)"
      ]
    },
    {
      "cell_type": "code",
      "source": [
        "# Accuracy\n",
        "accuracy = accuracy_score(Y_test, y_pred)\n",
        "print(\"Accuracy:\", accuracy)\n",
        "\n",
        "# Precision\n",
        "precision = precision_score(Y_test, y_pred)\n",
        "print(\"Precision:\", precision)\n",
        "\n",
        "# Recall\n",
        "recall = recall_score(Y_test, y_pred)\n",
        "print(\"Recall:\", recall)\n",
        "\n",
        "# F1-Score\n",
        "f1 = f1_score(Y_test, y_pred)\n",
        "print(\"F1-Score:\", f1)\n",
        "\n",
        "# ROC-AUC\n",
        "roc_auc = roc_auc_score(Y_test, y_pred)\n",
        "print(\"ROC-AUC:\", roc_auc)\n",
        "\n",
        "# ROC Curve (if you want to visualize it)\n",
        "fpr, tpr, _ = roc_curve(Y_test, y_pred)\n",
        "roc_auc = auc(fpr, tpr)\n",
        "\n",
        "# Plot ROC Curve\n",
        "plt.figure()\n",
        "plt.plot(fpr, tpr, color='darkorange', lw=2, label='ROC curve (area = %0.2f)' % roc_auc)\n",
        "plt.plot([0, 1], [0, 1], color='navy', lw=2, linestyle='--')\n",
        "plt.xlim([0.0, 1.0])\n",
        "plt.ylim([0.0, 1.05])\n",
        "plt.xlabel('False Positive Rate')\n",
        "plt.ylabel('True Positive Rate')\n",
        "plt.title('Receiver Operating Characteristic')\n",
        "plt.legend(loc=\"lower right\")\n",
        "plt.show()"
      ],
      "metadata": {
        "colab": {
          "base_uri": "https://localhost:8080/",
          "height": 559
        },
        "id": "zbioTLpF_6t5",
        "outputId": "6f441dc7-207b-49c1-b444-cf04aa195c80"
      },
      "execution_count": null,
      "outputs": [
        {
          "output_type": "stream",
          "name": "stdout",
          "text": [
            "Accuracy: 0.7589531680440771\n",
            "Precision: 0.7919463087248322\n",
            "Recall: 0.8119266055045872\n",
            "F1-Score: 0.8018120045300113\n",
            "ROC-AUC: 0.7456184751660866\n"
          ]
        },
        {
          "output_type": "display_data",
          "data": {
            "text/plain": [
              "<Figure size 640x480 with 1 Axes>"
            ],
            "image/png": "[encoded data removed]"
          },
          "metadata": {}
        }
      ]
    },
    {
      "cell_type": "code",
      "source": [
        "conf_matrix = confusion_matrix(Y_test, y_pred)\n",
        "print(\"Confusion Matrix:\")\n",
        "print(conf_matrix)"
      ],
      "metadata": {
        "colab": {
          "base_uri": "https://localhost:8080/"
        },
        "id": "HR9eFbHusRlX",
        "outputId": "231cd92c-265e-4423-f24a-8d98869ab195"
      },
      "execution_count": null,
      "outputs": [
        {
          "output_type": "stream",
          "name": "stdout",
          "text": [
            "Confusion Matrix:\n",
            "[[197  93]\n",
            " [ 82 354]]\n"
          ]
        }
      ]
    },
    {
      "cell_type": "code",
      "source": [
        "train_predictions = clf.predict(X_train)\n",
        "\n",
        "# Predict on the test set\n",
        "test_predictions = clf.predict(X_test)\n",
        "\n",
        "# Calculate training and testing accuracies\n",
        "train_accuracy = (train_predictions == Y_train).mean()\n",
        "test_accuracy = (test_predictions == Y_test).mean()\n",
        "\n",
        "print(\"Training Accuracy:\", train_accuracy)\n",
        "print(\"Testing Accuracy:\", test_accuracy)\n",
        "\n",
        "# Plot learning curve\n",
        "plt.figure(figsize=(10, 6))\n",
        "train_sizes, train_scores, test_scores = learning_curve(clf, X, Y, cv=5, scoring='accuracy', train_sizes=np.linspace(0.1, 1.0, 10))\n",
        "train_scores_mean = np.mean(train_scores, axis=1)\n",
        "train_scores_std = np.std(train_scores, axis=1)\n",
        "test_scores_mean = np.mean(test_scores, axis=1)\n",
        "test_scores_std = np.std(test_scores, axis=1)\n",
        "plt.fill_between(train_sizes, train_scores_mean - train_scores_std, train_scores_mean + train_scores_std, alpha=0.1, color=\"r\")\n",
        "plt.fill_between(train_sizes, test_scores_mean - test_scores_std, test_scores_mean + test_scores_std, alpha=0.1, color=\"g\")\n",
        "plt.plot(train_sizes, train_scores_mean, 'o-', color=\"r\", label=\"Training Accuracy\")\n",
        "plt.plot(train_sizes, test_scores_mean, 'o-', color=\"g\", label=\"Testing Accuracy\")\n",
        "plt.xlabel('Training Examples')\n",
        "plt.ylabel('Accuracy')\n",
        "plt.title('Learning Curves')\n",
        "plt.legend(loc=\"best\")\n",
        "plt.grid()\n",
        "plt.show()"
      ],
      "metadata": {
        "colab": {
          "base_uri": "https://localhost:8080/",
          "height": 599
        },
        "id": "TKCHpFfteHqp",
        "outputId": "f9735d61-ae87-479e-c51d-4c44b4801755"
      },
      "execution_count": null,
      "outputs": [
        {
          "output_type": "stream",
          "name": "stdout",
          "text": [
            "Training Accuracy: 0.7749576988155669\n",
            "Testing Accuracy: 0.7589531680440771\n"
          ]
        },
        {
          "output_type": "display_data",
          "data": {
            "text/plain": [
              "<Figure size 1000x600 with 1 Axes>"
            ],
            "image/png": "[encoded data removed]"
          },
          "metadata": {}
        }
      ]
    },
    {
      "cell_type": "code",
      "source": [
        "from sklearn.metrics import log_loss\n",
        "\n",
        "# # Logistic Regression\n",
        "# clf = LogisticRegression(max_iter=1000)\n",
        "# clf.fit(X_train, Y_train)\n",
        "# y_pred = clf.predict(X_test)\n",
        "\n",
        "# Get training loss (if available)\n",
        "try:\n",
        "    train_loss = clf.history_['loss']\n",
        "except AttributeError:\n",
        "    train_loss = None\n",
        "\n",
        "# Get validation loss (if available)\n",
        "try:\n",
        "    val_loss = log_loss(Y_test, clf.predict_proba(X_test)[:, 1])\n",
        "except AttributeError:\n",
        "    val_loss = None\n",
        "\n",
        "# Plot loss curve\n",
        "plt.figure(figsize=(10, 6))\n",
        "if train_loss is not None:\n",
        "    plt.plot(range(len(train_loss)), train_loss, label='Training Loss')\n",
        "if val_loss is not None:\n",
        "    plt.plot(range(len(val_loss)), val_loss, label='Validation Loss')\n",
        "plt.xlabel('Epochs')\n",
        "plt.ylabel('Loss')\n",
        "plt.title('Training and Validation Loss Curve - Logistic Regression')\n",
        "plt.legend()\n",
        "plt.show()\n"
      ],
      "metadata": {
        "id": "NVKaaVP1VoUa"
      },
      "execution_count": null,
      "outputs": []
    },
    {
      "cell_type": "markdown",
      "metadata": {
        "id": "nhA2OP_5kYn0"
      },
      "source": [
        "# Decision Trees"
      ]
    },
    {
      "cell_type": "code",
      "execution_count": null,
      "metadata": {
        "colab": {
          "base_uri": "https://localhost:8080/"
        },
        "id": "yCaIV4Eqkbkb",
        "outputId": "24f41131-bece-4110-d8a5-5de8251cdd61"
      },
      "outputs": [
        {
          "output_type": "stream",
          "name": "stdout",
          "text": [
            "Without Scaling and without Cross Validation:  0.7520661157024794\n",
            "Without Scaling and With CV:  0.7944150658535133\n"
          ]
        }
      ],
      "source": [
        "from sklearn.tree import DecisionTreeClassifier\n",
        "clf = DecisionTreeClassifier(random_state=0)\n",
        "\n",
        "#without scaling\n",
        "clf.fit(X_train,Y_train)\n",
        "y_pred = clf.predict(X_test)\n",
        "print(\"Without Scaling and without Cross Validation: \",accuracy_score(Y_test,y_pred))\n",
        "scores = cross_val_score(clf, X_train, Y_train, cv=5)\n",
        "print(\"Without Scaling and With CV: \",scores.mean())"
      ]
    },
    {
      "cell_type": "code",
      "source": [
        "# Accuracy\n",
        "accuracy = accuracy_score(Y_test, y_pred)\n",
        "print(\"Accuracy:\", accuracy)\n",
        "\n",
        "# Precision\n",
        "precision = precision_score(Y_test, y_pred)\n",
        "print(\"Precision:\", precision)\n",
        "\n",
        "# Recall\n",
        "recall = recall_score(Y_test, y_pred)\n",
        "print(\"Recall:\", recall)\n",
        "\n",
        "# F1-Score\n",
        "f1 = f1_score(Y_test, y_pred)\n",
        "print(\"F1-Score:\", f1)\n",
        "\n",
        "# ROC-AUC\n",
        "roc_auc = roc_auc_score(Y_test, y_pred)\n",
        "print(\"ROC-AUC:\", roc_auc)\n",
        "\n",
        "# ROC Curve (if you want to visualize it)\n",
        "fpr, tpr, _ = roc_curve(Y_test, y_pred)\n",
        "roc_auc = auc(fpr, tpr)\n",
        "\n",
        "# Plot ROC Curve\n",
        "plt.figure()\n",
        "plt.plot(fpr, tpr, color='darkorange', lw=2, label='ROC curve (area = %0.2f)' % roc_auc)\n",
        "plt.plot([0, 1], [0, 1], color='navy', lw=2, linestyle='--')\n",
        "plt.xlim([0.0, 1.0])\n",
        "plt.ylim([0.0, 1.05])\n",
        "plt.xlabel('False Positive Rate')\n",
        "plt.ylabel('True Positive Rate')\n",
        "plt.title('Receiver Operating Characteristic')\n",
        "plt.legend(loc=\"lower right\")\n",
        "plt.show()"
      ],
      "metadata": {
        "colab": {
          "base_uri": "https://localhost:8080/",
          "height": 562
        },
        "outputId": "9c5ed579-fa17-4ef3-b703-2271d7c48c9d",
        "id": "LMhGTj-yBfK-"
      },
      "execution_count": null,
      "outputs": [
        {
          "output_type": "stream",
          "name": "stdout",
          "text": [
            "Accuracy: 0.7520661157024794\n",
            "Precision: 0.7935779816513762\n",
            "Recall: 0.7935779816513762\n",
            "F1-Score: 0.7935779816513762\n",
            "ROC-AUC: 0.7416165770325847\n"
          ]
        },
        {
          "output_type": "display_data",
          "data": {
            "text/plain": [
              "<Figure size 640x480 with 1 Axes>"
            ],
            "image/png": "[encoded data removed]"
          },
          "metadata": {}
        }
      ]
    },
    {
      "cell_type": "code",
      "source": [
        "conf_matrix = confusion_matrix(Y_test, y_pred)\n",
        "print(\"Confusion Matrix:\")\n",
        "print(conf_matrix)"
      ],
      "metadata": {
        "colab": {
          "base_uri": "https://localhost:8080/"
        },
        "outputId": "178acc51-7c8a-4ddc-b31b-bd1e5fc1e8f3",
        "id": "Vb6H6JCe7oDK"
      },
      "execution_count": null,
      "outputs": [
        {
          "output_type": "stream",
          "name": "stdout",
          "text": [
            "Confusion Matrix:\n",
            "[[200  90]\n",
            " [ 90 346]]\n"
          ]
        }
      ]
    },
    {
      "cell_type": "code",
      "source": [
        "group_names = ['True Neg','False Pos','False Neg','True Pos']\n",
        "group_counts = [\"{0:0.0f}\".format(value) for value in\n",
        "                conf_matrix.flatten()]\n",
        "group_percentages = [\"{0:.2%}\".format(value) for value in\n",
        "                     conf_matrix.flatten()/np.sum(conf_matrix)]\n",
        "labels = [f\"{v1}\\n{v2}\\n{v3}\" for v1, v2, v3 in\n",
        "          zip(group_names,group_counts,group_percentages)]\n",
        "labels = np.asarray(labels).reshape(2,2)\n",
        "sns.heatmap(conf_matrix, annot=labels, fmt='', cmap='Blues')"
      ],
      "metadata": {
        "colab": {
          "base_uri": "https://localhost:8080/",
          "height": 448
        },
        "outputId": "0c6911ba-1af9-497c-c18f-321c80d4d22b",
        "id": "MSUjl09W7oDL"
      },
      "execution_count": null,
      "outputs": [
        {
          "output_type": "execute_result",
          "data": {
            "text/plain": [
              "<Axes: >"
            ]
          },
          "metadata": {},
          "execution_count": 19
        },
        {
          "output_type": "display_data",
          "data": {
            "text/plain": [
              "<Figure size 640x480 with 2 Axes>"
            ],
            "image/png": "[encoded data removed]"
          },
          "metadata": {}
        }
      ]
    },
    {
      "cell_type": "code",
      "source": [
        "# train_predictions = clf.predict(X_train)\n",
        "\n",
        "# # Predict on the test set\n",
        "# test_predictions = clf.predict(X_test)\n",
        "\n",
        "# # Calculate training and testing accuracies\n",
        "# train_accuracy = (train_predictions == Y_train).mean()\n",
        "# test_accuracy = (test_predictions == Y_test).mean()\n",
        "\n",
        "# print(\"Training Accuracy:\", train_accuracy)\n",
        "# print(\"Testing Accuracy:\", test_accuracy)\n",
        "\n",
        "# # Plot learning curve\n",
        "# plt.figure(figsize=(10, 6))\n",
        "# train_sizes, train_scores, test_scores = learning_curve(clf, X, Y, cv=5, scoring='accuracy', train_sizes=np.linspace(0.1, 1.0, 10))\n",
        "# train_scores_mean = np.mean(train_scores, axis=1)\n",
        "# train_scores_std = np.std(train_scores, axis=1)\n",
        "# test_scores_mean = np.mean(test_scores, axis=1)\n",
        "# test_scores_std = np.std(test_scores, axis=1)\n",
        "# plt.fill_between(train_sizes, train_scores_mean - train_scores_std, train_scores_mean + train_scores_std, alpha=0.1, color=\"r\")\n",
        "# plt.fill_between(train_sizes, test_scores_mean - test_scores_std, test_scores_mean + test_scores_std, alpha=0.1, color=\"g\")\n",
        "# plt.plot(train_sizes, train_scores_mean, 'o-', color=\"r\", label=\"Training Accuracy\")\n",
        "# plt.plot(train_sizes, test_scores_mean, 'o-', color=\"g\", label=\"Testing Accuracy\")\n",
        "# plt.xlabel('Training Examples')\n",
        "# plt.ylabel('Accuracy')\n",
        "# plt.title('Learning Curves')\n",
        "# plt.legend(loc=\"best\")\n",
        "# plt.grid()\n",
        "# plt.show()"
      ],
      "metadata": {
        "id": "lTAxXJiHdrCQ"
      },
      "execution_count": null,
      "outputs": []
    },
    {
      "cell_type": "markdown",
      "source": [
        "# Random Forest Classifier"
      ],
      "metadata": {
        "id": "-y29lAvkcIGw"
      }
    },
    {
      "cell_type": "code",
      "execution_count": null,
      "metadata": {
        "id": "SGtBiekpbsWU",
        "colab": {
          "base_uri": "https://localhost:8080/",
          "height": 74
        },
        "outputId": "4a9475fb-2b4a-4f38-c7e2-24db8ecbc18b"
      },
      "outputs": [
        {
          "output_type": "execute_result",
          "data": {
            "text/plain": [
              "RandomForestClassifier(max_depth=10, random_state=0)"
            ],
            "text/html": [
              "<style>#sk-container-id-1 {color: black;background-color: white;}#sk-container-id-1 pre{padding: 0;}#sk-container-id-1 div.sk-toggleable {background-color: white;}#sk-container-id-1 label.sk-toggleable__label {cursor: pointer;display: block;width: 100%;margin-bottom: 0;padding: 0.3em;box-sizing: border-box;text-align: center;}#sk-container-id-1 label.sk-toggleable__label-arrow:before {content: \"▸\";float: left;margin-right: 0.25em;color: #696969;}#sk-container-id-1 label.sk-toggleable__label-arrow:hover:before {color: black;}#sk-container-id-1 div.sk-estimator:hover label.sk-toggleable__label-arrow:before {color: black;}#sk-container-id-1 div.sk-toggleable__content {max-height: 0;max-width: 0;overflow: hidden;text-align: left;background-color: #f0f8ff;}#sk-container-id-1 div.sk-toggleable__content pre {margin: 0.2em;color: black;border-radius: 0.25em;background-color: #f0f8ff;}#sk-container-id-1 input.sk-toggleable__control:checked~div.sk-toggleable__content {max-height: 200px;max-width: 100%;overflow: auto;}#sk-container-id-1 input.sk-toggleable__control:checked~label.sk-toggleable__label-arrow:before {content: \"▾\";}#sk-container-id-1 div.sk-estimator input.sk-toggleable__control:checked~label.sk-toggleable__label {background-color: #d4ebff;}#sk-container-id-1 div.sk-label input.sk-toggleable__control:checked~label.sk-toggleable__label {background-color: #d4ebff;}#sk-container-id-1 input.sk-hidden--visually {border: 0;clip: rect(1px 1px 1px 1px);clip: rect(1px, 1px, 1px, 1px);height: 1px;margin: -1px;overflow: hidden;padding: 0;position: absolute;width: 1px;}#sk-container-id-1 div.sk-estimator {font-family: monospace;background-color: #f0f8ff;border: 1px dotted black;border-radius: 0.25em;box-sizing: border-box;margin-bottom: 0.5em;}#sk-container-id-1 div.sk-estimator:hover {background-color: #d4ebff;}#sk-container-id-1 div.sk-parallel-item::after {content: \"\";width: 100%;border-bottom: 1px solid gray;flex-grow: 1;}#sk-container-id-1 div.sk-label:hover label.sk-toggleable__label {background-color: #d4ebff;}#sk-container-id-1 div.sk-serial::before {content: \"\";position: absolute;border-left: 1px solid gray;box-sizing: border-box;top: 0;bottom: 0;left: 50%;z-index: 0;}#sk-container-id-1 div.sk-serial {display: flex;flex-direction: column;align-items: center;background-color: white;padding-right: 0.2em;padding-left: 0.2em;position: relative;}#sk-container-id-1 div.sk-item {position: relative;z-index: 1;}#sk-container-id-1 div.sk-parallel {display: flex;align-items: stretch;justify-content: center;background-color: white;position: relative;}#sk-container-id-1 div.sk-item::before, #sk-container-id-1 div.sk-parallel-item::before {content: \"\";position: absolute;border-left: 1px solid gray;box-sizing: border-box;top: 0;bottom: 0;left: 50%;z-index: -1;}#sk-container-id-1 div.sk-parallel-item {display: flex;flex-direction: column;z-index: 1;position: relative;background-color: white;}#sk-container-id-1 div.sk-parallel-item:first-child::after {align-self: flex-end;width: 50%;}#sk-container-id-1 div.sk-parallel-item:last-child::after {align-self: flex-start;width: 50%;}#sk-container-id-1 div.sk-parallel-item:only-child::after {width: 0;}#sk-container-id-1 div.sk-dashed-wrapped {border: 1px dashed gray;margin: 0 0.4em 0.5em 0.4em;box-sizing: border-box;padding-bottom: 0.4em;background-color: white;}#sk-container-id-1 div.sk-label label {font-family: monospace;font-weight: bold;display: inline-block;line-height: 1.2em;}#sk-container-id-1 div.sk-label-container {text-align: center;}#sk-container-id-1 div.sk-container {/* jupyter's `normalize.less` sets `[hidden] { display: none; }` but bootstrap.min.css set `[hidden] { display: none !important; }` so we also need the `!important` here to be able to override the default hidden behavior on the sphinx rendered scikit-learn.org. See: https://github.com/scikit-learn/scikit-learn/issues/21755 */display: inline-block !important;position: relative;}#sk-container-id-1 div.sk-text-repr-fallback {display: none;}</style><div id=\"sk-container-id-1\" class=\"sk-top-container\"><div class=\"sk-text-repr-fallback\"><pre>RandomForestClassifier(max_depth=10, random_state=0)</pre><b>In a Jupyter environment, please rerun this cell to show the HTML representation or trust the notebook. <br />On GitHub, the HTML representation is unable to render, please try loading this page with nbviewer.org.</b></div><div class=\"sk-container\" hidden><div class=\"sk-item\"><div class=\"sk-estimator sk-toggleable\"><input class=\"sk-toggleable__control sk-hidden--visually\" id=\"sk-estimator-id-1\" type=\"checkbox\" checked><label for=\"sk-estimator-id-1\" class=\"sk-toggleable__label sk-toggleable__label-arrow\">RandomForestClassifier</label><div class=\"sk-toggleable__content\"><pre>RandomForestClassifier(max_depth=10, random_state=0)</pre></div></div></div></div></div>"
            ]
          },
          "metadata": {},
          "execution_count": 21
        }
      ],
      "source": [
        "from sklearn.ensemble import RandomForestClassifier\n",
        "\n",
        "clf = RandomForestClassifier(max_depth=10, random_state=0)\n",
        "clf.fit(X_train,Y_train)\n"
      ]
    },
    {
      "cell_type": "code",
      "source": [
        "y_pred = clf.predict(X_test)\n",
        "print(\"Without Scaling and without CV: \",accuracy_score(Y_test,y_pred))\n",
        "scores = cross_val_score(clf, X_train, Y_train, cv=10)\n",
        "print(\"Without Scaling and With CV: \",scores.mean())"
      ],
      "metadata": {
        "colab": {
          "base_uri": "https://localhost:8080/"
        },
        "id": "M3Fe7ZNlcZLT",
        "outputId": "7859dee9-6ab5-495a-8c04-2856df46e3ef"
      },
      "execution_count": null,
      "outputs": [
        {
          "output_type": "stream",
          "name": "stdout",
          "text": [
            "Without Scaling and without CV:  0.8333333333333334\n",
            "Without Scaling and With CV:  0.83760085939365\n"
          ]
        }
      ]
    },
    {
      "cell_type": "code",
      "source": [
        "# Accuracy\n",
        "accuracy = accuracy_score(Y_test, y_pred)\n",
        "print(\"Accuracy:\", accuracy)\n",
        "\n",
        "# Precision\n",
        "precision = precision_score(Y_test, y_pred)\n",
        "print(\"Precision:\", precision)\n",
        "\n",
        "# Recall\n",
        "recall = recall_score(Y_test, y_pred)\n",
        "print(\"Recall:\", recall)\n",
        "\n",
        "# F1-Score\n",
        "f1 = f1_score(Y_test, y_pred)\n",
        "print(\"F1-Score:\", f1)\n",
        "\n",
        "# ROC-AUC\n",
        "roc_auc = roc_auc_score(Y_test, y_pred)\n",
        "print(\"ROC-AUC:\", roc_auc)\n",
        "\n"
      ],
      "metadata": {
        "colab": {
          "base_uri": "https://localhost:8080/"
        },
        "id": "4zXcHvU3CXEA",
        "outputId": "d5a7cbd2-994d-4ceb-e4e6-6d02c71cc948"
      },
      "execution_count": null,
      "outputs": [
        {
          "output_type": "stream",
          "name": "stdout",
          "text": [
            "Accuracy: 0.8333333333333334\n",
            "Precision: 0.841648590021692\n",
            "Recall: 0.8899082568807339\n",
            "F1-Score: 0.8651059085841695\n",
            "ROC-AUC: 0.8190920594748499\n"
          ]
        }
      ]
    },
    {
      "cell_type": "code",
      "source": [
        "conf_matrix = confusion_matrix(Y_test, y_pred)\n",
        "print(\"Confusion Matrix:\")\n",
        "print(conf_matrix)"
      ],
      "metadata": {
        "colab": {
          "base_uri": "https://localhost:8080/"
        },
        "outputId": "fb6daf9c-b6ff-46dd-b105-25caffcde805",
        "id": "ZyaVYKpJ78kd"
      },
      "execution_count": null,
      "outputs": [
        {
          "output_type": "stream",
          "name": "stdout",
          "text": [
            "Confusion Matrix:\n",
            "[[217  73]\n",
            " [ 48 388]]\n"
          ]
        }
      ]
    },
    {
      "cell_type": "markdown",
      "source": [
        "# Support Vector Machines"
      ],
      "metadata": {
        "id": "wjwDTSgFcsi2"
      }
    },
    {
      "cell_type": "code",
      "source": [
        "from sklearn.svm import SVC\n",
        "clf = SVC(gamma='auto')\n",
        "\n",
        "svc = SVC()\n",
        "parameters = {'kernel':('linear', 'rbf'), 'C':[1, 10]}\n",
        "clf = GridSearchCV(svc, parameters)\n",
        "\n",
        "clf.fit(X_train,Y_train)\n",
        "y_pred = clf.predict(X_test)\n"
      ],
      "metadata": {
        "id": "Tf0yjTT-cvHG"
      },
      "execution_count": null,
      "outputs": []
    },
    {
      "cell_type": "code",
      "source": [
        "# Accuracy\n",
        "accuracy = accuracy_score(Y_test, y_pred)\n",
        "print(\"Accuracy:\", accuracy)\n",
        "\n",
        "# Precision\n",
        "precision = precision_score(Y_test, y_pred)\n",
        "print(\"Precision:\", precision)\n",
        "\n",
        "# Recall\n",
        "recall = recall_score(Y_test, y_pred)\n",
        "print(\"Recall:\", recall)\n",
        "\n",
        "# F1-Score\n",
        "f1 = f1_score(Y_test, y_pred)\n",
        "print(\"F1-Score:\", f1)\n",
        "\n",
        "# ROC-AUC\n",
        "roc_auc = roc_auc_score(Y_test, y_pred)\n",
        "print(\"ROC-AUC:\", roc_auc)\n"
      ],
      "metadata": {
        "id": "RYKguFEECgra",
        "colab": {
          "base_uri": "https://localhost:8080/"
        },
        "outputId": "294df11c-ec25-474a-bfe8-0f64310772af"
      },
      "execution_count": null,
      "outputs": [
        {
          "output_type": "stream",
          "name": "stdout",
          "text": [
            "Accuracy: 0.7933884297520661\n",
            "Precision: 0.8264840182648402\n",
            "Recall: 0.8302752293577982\n",
            "F1-Score: 0.8283752860411899\n",
            "ROC-AUC: 0.7841031319202784\n"
          ]
        }
      ]
    },
    {
      "cell_type": "markdown",
      "source": [
        "# Naive Bayers"
      ],
      "metadata": {
        "id": "4VOOlXoWi_ez"
      }
    },
    {
      "cell_type": "code",
      "source": [
        "from sklearn.naive_bayes import GaussianNB\n",
        "clf = GaussianNB()\n",
        "clf.fit(X_train,Y_train)\n",
        "\n",
        "y_pred = clf.predict(X_test)"
      ],
      "metadata": {
        "id": "31YDIRL8c0Aq"
      },
      "execution_count": null,
      "outputs": []
    },
    {
      "cell_type": "code",
      "source": [
        "# Accuracy\n",
        "accuracy = accuracy_score(Y_test, y_pred)\n",
        "print(\"Accuracy:\", accuracy)\n",
        "\n",
        "# Precision\n",
        "precision = precision_score(Y_test, y_pred)\n",
        "print(\"Precision:\", precision)\n",
        "\n",
        "# Recall\n",
        "recall = recall_score(Y_test, y_pred)\n",
        "print(\"Recall:\", recall)\n",
        "\n",
        "# F1-Score\n",
        "f1 = f1_score(Y_test, y_pred)\n",
        "print(\"F1-Score:\", f1)\n",
        "\n",
        "# ROC-AUC\n",
        "roc_auc = roc_auc_score(Y_test, y_pred)\n",
        "print(\"ROC-AUC:\", roc_auc)\n",
        "\n",
        "# ROC Curve (if you want to visualize it)\n",
        "fpr, tpr, _ = roc_curve(Y_test, y_pred)\n",
        "roc_auc = auc(fpr, tpr)\n",
        "\n",
        "# # Plot ROC Curve\n",
        "# plt.figure()\n",
        "# plt.plot(fpr, tpr, color='darkorange', lw=2, label='ROC curve (area = %0.2f)' % roc_auc)\n",
        "# plt.plot([0, 1], [0, 1], color='navy', lw=2, linestyle='--')\n",
        "# plt.xlim([0.0, 1.0])\n",
        "# plt.ylim([0.0, 1.05])\n",
        "# plt.xlabel('False Positive Rate')\n",
        "# plt.ylabel('True Positive Rate')\n",
        "# plt.title('Receiver Operating Characteristic')\n",
        "# plt.legend(loc=\"lower right\")\n",
        "# plt.show()"
      ],
      "metadata": {
        "colab": {
          "base_uri": "https://localhost:8080/"
        },
        "id": "xYQEBl-_CjJm",
        "outputId": "60306de0-277f-45b1-8cd9-80f288a19ae2"
      },
      "execution_count": null,
      "outputs": [
        {
          "output_type": "stream",
          "name": "stdout",
          "text": [
            "Accuracy: 0.7424242424242424\n",
            "Precision: 0.7475149105367793\n",
            "Recall: 0.8623853211009175\n",
            "F1-Score: 0.8008519701810438\n",
            "ROC-AUC: 0.7122271433090794\n"
          ]
        }
      ]
    },
    {
      "cell_type": "code",
      "source": [
        "conf_matrix = confusion_matrix(Y_test, y_pred)\n",
        "print(\"Confusion Matrix:\")\n",
        "print(conf_matrix)"
      ],
      "metadata": {
        "colab": {
          "base_uri": "https://localhost:8080/"
        },
        "outputId": "93e7d6b7-6514-421a-ed5c-69bd1fafeb7e",
        "id": "SkUUWoTh8X1H"
      },
      "execution_count": null,
      "outputs": [
        {
          "output_type": "stream",
          "name": "stdout",
          "text": [
            "Confusion Matrix:\n",
            "[[163 127]\n",
            " [ 60 376]]\n"
          ]
        }
      ]
    },
    {
      "cell_type": "code",
      "source": [
        "group_names = ['True Neg','False Pos','False Neg','True Pos']\n",
        "group_counts = [\"{0:0.0f}\".format(value) for value in\n",
        "                conf_matrix.flatten()]\n",
        "group_percentages = [\"{0:.2%}\".format(value) for value in\n",
        "                     conf_matrix.flatten()/np.sum(conf_matrix)]\n",
        "labels = [f\"{v1}\\n{v2}\\n{v3}\" for v1, v2, v3 in\n",
        "          zip(group_names,group_counts,group_percentages)]\n",
        "labels = np.asarray(labels).reshape(2,2)\n",
        "sns.heatmap(conf_matrix, annot=labels, fmt='', cmap='Blues')"
      ],
      "metadata": {
        "colab": {
          "base_uri": "https://localhost:8080/"
        },
        "outputId": "ab907320-eccf-4ba9-9171-76b957f2d697",
        "id": "2LnS8jOD8X1J"
      },
      "execution_count": null,
      "outputs": [
        {
          "output_type": "execute_result",
          "data": {
            "text/plain": [
              "<Axes: >"
            ]
          },
          "metadata": {},
          "execution_count": 30
        },
        {
          "output_type": "display_data",
          "data": {
            "text/plain": [
              "<Figure size 640x480 with 2 Axes>"
            ],
            "image/png": "[encoded data removed]"
          },
          "metadata": {}
        }
      ]
    },
    {
      "cell_type": "markdown",
      "metadata": {
        "id": "FeyT_Sp6bJDe"
      },
      "source": [
        "# XGBoost"
      ]
    },
    {
      "cell_type": "code",
      "execution_count": null,
      "metadata": {
        "colab": {
          "base_uri": "https://localhost:8080/",
          "height": 248
        },
        "id": "DNqArRvQbBVQ",
        "outputId": "7d2d8e56-bfeb-4654-ef6b-a42b0b2b4663"
      },
      "outputs": [
        {
          "output_type": "execute_result",
          "data": {
            "text/plain": [
              "XGBClassifier(base_score=None, booster=None, callbacks=None,\n",
              "              colsample_bylevel=None, colsample_bynode=None,\n",
              "              colsample_bytree=None, device=None, early_stopping_rounds=None,\n",
              "              enable_categorical=False, eval_metric=None, feature_types=None,\n",
              "              gamma=None, grow_policy=None, importance_type=None,\n",
              "              interaction_constraints=None, learning_rate=0.1, max_bin=None,\n",
              "              max_cat_threshold=None, max_cat_to_onehot=None,\n",
              "              max_delta_step=None, max_depth=5, max_leaves=None,\n",
              "              min_child_weight=None, missing=nan, monotone_constraints=None,\n",
              "              multi_strategy=None, n_estimators=100, n_jobs=None,\n",
              "              num_parallel_tree=None, random_state=42, ...)"
            ],
            "text/html": [
              "<style>#sk-container-id-2 {color: black;background-color: white;}#sk-container-id-2 pre{padding: 0;}#sk-container-id-2 div.sk-toggleable {background-color: white;}#sk-container-id-2 label.sk-toggleable__label {cursor: pointer;display: block;width: 100%;margin-bottom: 0;padding: 0.3em;box-sizing: border-box;text-align: center;}#sk-container-id-2 label.sk-toggleable__label-arrow:before {content: \"▸\";float: left;margin-right: 0.25em;color: #696969;}#sk-container-id-2 label.sk-toggleable__label-arrow:hover:before {color: black;}#sk-container-id-2 div.sk-estimator:hover label.sk-toggleable__label-arrow:before {color: black;}#sk-container-id-2 div.sk-toggleable__content {max-height: 0;max-width: 0;overflow: hidden;text-align: left;background-color: #f0f8ff;}#sk-container-id-2 div.sk-toggleable__content pre {margin: 0.2em;color: black;border-radius: 0.25em;background-color: #f0f8ff;}#sk-container-id-2 input.sk-toggleable__control:checked~div.sk-toggleable__content {max-height: 200px;max-width: 100%;overflow: auto;}#sk-container-id-2 input.sk-toggleable__control:checked~label.sk-toggleable__label-arrow:before {content: \"▾\";}#sk-container-id-2 div.sk-estimator input.sk-toggleable__control:checked~label.sk-toggleable__label {background-color: #d4ebff;}#sk-container-id-2 div.sk-label input.sk-toggleable__control:checked~label.sk-toggleable__label {background-color: #d4ebff;}#sk-container-id-2 input.sk-hidden--visually {border: 0;clip: rect(1px 1px 1px 1px);clip: rect(1px, 1px, 1px, 1px);height: 1px;margin: -1px;overflow: hidden;padding: 0;position: absolute;width: 1px;}#sk-container-id-2 div.sk-estimator {font-family: monospace;background-color: #f0f8ff;border: 1px dotted black;border-radius: 0.25em;box-sizing: border-box;margin-bottom: 0.5em;}#sk-container-id-2 div.sk-estimator:hover {background-color: #d4ebff;}#sk-container-id-2 div.sk-parallel-item::after {content: \"\";width: 100%;border-bottom: 1px solid gray;flex-grow: 1;}#sk-container-id-2 div.sk-label:hover label.sk-toggleable__label {background-color: #d4ebff;}#sk-container-id-2 div.sk-serial::before {content: \"\";position: absolute;border-left: 1px solid gray;box-sizing: border-box;top: 0;bottom: 0;left: 50%;z-index: 0;}#sk-container-id-2 div.sk-serial {display: flex;flex-direction: column;align-items: center;background-color: white;padding-right: 0.2em;padding-left: 0.2em;position: relative;}#sk-container-id-2 div.sk-item {position: relative;z-index: 1;}#sk-container-id-2 div.sk-parallel {display: flex;align-items: stretch;justify-content: center;background-color: white;position: relative;}#sk-container-id-2 div.sk-item::before, #sk-container-id-2 div.sk-parallel-item::before {content: \"\";position: absolute;border-left: 1px solid gray;box-sizing: border-box;top: 0;bottom: 0;left: 50%;z-index: -1;}#sk-container-id-2 div.sk-parallel-item {display: flex;flex-direction: column;z-index: 1;position: relative;background-color: white;}#sk-container-id-2 div.sk-parallel-item:first-child::after {align-self: flex-end;width: 50%;}#sk-container-id-2 div.sk-parallel-item:last-child::after {align-self: flex-start;width: 50%;}#sk-container-id-2 div.sk-parallel-item:only-child::after {width: 0;}#sk-container-id-2 div.sk-dashed-wrapped {border: 1px dashed gray;margin: 0 0.4em 0.5em 0.4em;box-sizing: border-box;padding-bottom: 0.4em;background-color: white;}#sk-container-id-2 div.sk-label label {font-family: monospace;font-weight: bold;display: inline-block;line-height: 1.2em;}#sk-container-id-2 div.sk-label-container {text-align: center;}#sk-container-id-2 div.sk-container {/* jupyter's `normalize.less` sets `[hidden] { display: none; }` but bootstrap.min.css set `[hidden] { display: none !important; }` so we also need the `!important` here to be able to override the default hidden behavior on the sphinx rendered scikit-learn.org. See: https://github.com/scikit-learn/scikit-learn/issues/21755 */display: inline-block !important;position: relative;}#sk-container-id-2 div.sk-text-repr-fallback {display: none;}</style><div id=\"sk-container-id-2\" class=\"sk-top-container\"><div class=\"sk-text-repr-fallback\"><pre>XGBClassifier(base_score=None, booster=None, callbacks=None,\n",
              "              colsample_bylevel=None, colsample_bynode=None,\n",
              "              colsample_bytree=None, device=None, early_stopping_rounds=None,\n",
              "              enable_categorical=False, eval_metric=None, feature_types=None,\n",
              "              gamma=None, grow_policy=None, importance_type=None,\n",
              "              interaction_constraints=None, learning_rate=0.1, max_bin=None,\n",
              "              max_cat_threshold=None, max_cat_to_onehot=None,\n",
              "              max_delta_step=None, max_depth=5, max_leaves=None,\n",
              "              min_child_weight=None, missing=nan, monotone_constraints=None,\n",
              "              multi_strategy=None, n_estimators=100, n_jobs=None,\n",
              "              num_parallel_tree=None, random_state=42, ...)</pre><b>In a Jupyter environment, please rerun this cell to show the HTML representation or trust the notebook. <br />On GitHub, the HTML representation is unable to render, please try loading this page with nbviewer.org.</b></div><div class=\"sk-container\" hidden><div class=\"sk-item\"><div class=\"sk-estimator sk-toggleable\"><input class=\"sk-toggleable__control sk-hidden--visually\" id=\"sk-estimator-id-2\" type=\"checkbox\" checked><label for=\"sk-estimator-id-2\" class=\"sk-toggleable__label sk-toggleable__label-arrow\">XGBClassifier</label><div class=\"sk-toggleable__content\"><pre>XGBClassifier(base_score=None, booster=None, callbacks=None,\n",
              "              colsample_bylevel=None, colsample_bynode=None,\n",
              "              colsample_bytree=None, device=None, early_stopping_rounds=None,\n",
              "              enable_categorical=False, eval_metric=None, feature_types=None,\n",
              "              gamma=None, grow_policy=None, importance_type=None,\n",
              "              interaction_constraints=None, learning_rate=0.1, max_bin=None,\n",
              "              max_cat_threshold=None, max_cat_to_onehot=None,\n",
              "              max_delta_step=None, max_depth=5, max_leaves=None,\n",
              "              min_child_weight=None, missing=nan, monotone_constraints=None,\n",
              "              multi_strategy=None, n_estimators=100, n_jobs=None,\n",
              "              num_parallel_tree=None, random_state=42, ...)</pre></div></div></div></div></div>"
            ]
          },
          "metadata": {},
          "execution_count": 31
        }
      ],
      "source": [
        "bin_log = xgb.XGBClassifier(\n",
        "    n_estimators=100,  # Adjust the number of estimators (trees) as needed\n",
        "    max_depth=5,  # Adjust the depth of the trees as needed\n",
        "    learning_rate=0.1,  # Adjust the learning rate as needed\n",
        "    objective='binary:logistic',  # Use 'binary:logistic' for binary classification\n",
        "    random_state=42  # Set a random seed for reproducibility\n",
        ")\n",
        "bin_log.fit(X_train, Y_train)\n"
      ]
    },
    {
      "cell_type": "code",
      "execution_count": null,
      "metadata": {
        "id": "cG4XhuOobfUf"
      },
      "outputs": [],
      "source": [
        "target_prediction = bin_log.predict(X_test)\n",
        "# print(target_prediction)"
      ]
    },
    {
      "cell_type": "code",
      "execution_count": null,
      "metadata": {
        "colab": {
          "base_uri": "https://localhost:8080/"
        },
        "id": "FqdqWwAubnAd",
        "outputId": "53910f50-415a-4715-a218-792f5f7ff0d9"
      },
      "outputs": [
        {
          "output_type": "stream",
          "name": "stdout",
          "text": [
            "Accuracy: 0.8319559228650137\n"
          ]
        }
      ],
      "source": [
        "data_accuracy = accuracy_score(Y_test, target_prediction)\n",
        "print(\"Accuracy:\", data_accuracy)"
      ]
    },
    {
      "cell_type": "code",
      "source": [
        "# Accuracy\n",
        "accuracy = accuracy_score(Y_test, target_prediction)\n",
        "print(\"Accuracy:\", accuracy)\n",
        "\n",
        "# Precision\n",
        "precision = precision_score(Y_test, target_prediction)\n",
        "print(\"Precision:\", precision)\n",
        "\n",
        "# Recall\n",
        "recall = recall_score(Y_test, target_prediction)\n",
        "print(\"Recall:\", recall)\n",
        "\n",
        "# F1-Score\n",
        "f1 = f1_score(Y_test, target_prediction)\n",
        "print(\"F1-Score:\", f1)\n",
        "\n",
        "# ROC-AUC\n",
        "roc_auc = roc_auc_score(Y_test, target_prediction)\n",
        "print(\"ROC-AUC:\", roc_auc)\n"
      ],
      "metadata": {
        "colab": {
          "base_uri": "https://localhost:8080/"
        },
        "outputId": "6b79b78a-c997-4ab0-9101-498d5a31fc6c",
        "id": "nAQ0UvfiBnb5"
      },
      "execution_count": null,
      "outputs": [
        {
          "output_type": "stream",
          "name": "stdout",
          "text": [
            "Accuracy: 0.8319559228650137\n",
            "Precision: 0.8398268398268398\n",
            "Recall: 0.8899082568807339\n",
            "F1-Score: 0.8641425389755012\n",
            "ROC-AUC: 0.8173679215438152\n"
          ]
        }
      ]
    },
    {
      "cell_type": "code",
      "source": [
        "train_predictions = bin_log.predict(X_train)\n",
        "\n",
        "# Predict on the test set\n",
        "test_predictions = bin_log.predict(X_test)\n",
        "\n",
        "# Calculate training and testing accuracies\n",
        "train_accuracy = (train_predictions == Y_train).mean()\n",
        "test_accuracy = (test_predictions == Y_test).mean()\n",
        "\n",
        "print(\"Training Accuracy:\", train_accuracy)\n",
        "print(\"Testing Accuracy:\", test_accuracy)\n",
        "\n",
        "# Plot learning curve\n",
        "plt.figure(figsize=(10, 6))\n",
        "train_sizes, train_scores, test_scores = learning_curve(bin_log, X, Y, cv=5, scoring='accuracy', train_sizes=np.linspace(0.1, 1.0, 10))\n",
        "train_scores_mean = np.mean(train_scores, axis=1)\n",
        "train_scores_std = np.std(train_scores, axis=1)\n",
        "test_scores_mean = np.mean(test_scores, axis=1)\n",
        "test_scores_std = np.std(test_scores, axis=1)\n",
        "plt.fill_between(train_sizes, train_scores_mean - train_scores_std, train_scores_mean + train_scores_std, alpha=0.1, color=\"r\")\n",
        "plt.fill_between(train_sizes, test_scores_mean - test_scores_std, test_scores_mean + test_scores_std, alpha=0.1, color=\"g\")\n",
        "plt.plot(train_sizes, train_scores_mean, 'o-', color=\"r\", label=\"Training Accuracy\")\n",
        "plt.plot(train_sizes, test_scores_mean, 'o-', color=\"g\", label=\"Testing Accuracy\")\n",
        "plt.xlabel('Training Examples')\n",
        "plt.ylabel('Accuracy')\n",
        "plt.title('Learning Curves')\n",
        "plt.legend(loc=\"best\")\n",
        "plt.grid()\n",
        "plt.show()"
      ],
      "metadata": {
        "colab": {
          "base_uri": "https://localhost:8080/",
          "height": 600
        },
        "id": "PSOEe8fre3bZ",
        "outputId": "a512febb-74df-426b-c53d-dcb7b9a3e568"
      },
      "execution_count": null,
      "outputs": [
        {
          "output_type": "stream",
          "name": "stdout",
          "text": [
            "Training Accuracy: 0.9207557811618725\n",
            "Testing Accuracy: 0.8319559228650137\n"
          ]
        },
        {
          "output_type": "display_data",
          "data": {
            "text/plain": [
              "<Figure size 1000x600 with 1 Axes>"
            ],
            "image/png": "[encoded data removed]"
          },
          "metadata": {}
        }
      ]
    },
    {
      "cell_type": "markdown",
      "source": [
        "# Gradient Boost"
      ],
      "metadata": {
        "id": "JI1hVdysYvZt"
      }
    },
    {
      "cell_type": "code",
      "source": [
        "from sklearn.ensemble import GradientBoostingClassifier\n",
        "# Initialize the Gradient Boosting classifier\n",
        "gb_classifier = GradientBoostingClassifier()\n",
        "\n",
        "# Fit the classifier on the training data\n",
        "gb_classifier.fit(X_train, Y_train)\n",
        "5\n",
        "# Make predictions on the test data\n",
        "target_prediction = gb_classifier.predict(X_test)\n",
        "\n",
        "# Calculate the accuracy of the model\n",
        "accuracy = accuracy_score(Y_test, target_prediction)\n",
        "print(f'Accuracy: {accuracy}')"
      ],
      "metadata": {
        "colab": {
          "base_uri": "https://localhost:8080/"
        },
        "id": "r9YHo8L5Y0Rt",
        "outputId": "ed0b64e5-1d4c-48c5-bbf6-c0fa096ab7f2"
      },
      "execution_count": null,
      "outputs": [
        {
          "output_type": "stream",
          "name": "stdout",
          "text": [
            "Accuracy: 0.8333333333333334\n"
          ]
        }
      ]
    },
    {
      "cell_type": "code",
      "source": [
        "# Accuracy\n",
        "accuracy = accuracy_score(Y_test, target_prediction)\n",
        "print(\"Accuracy:\", accuracy)\n",
        "\n",
        "# Precision\n",
        "precision = precision_score(Y_test, target_prediction)\n",
        "print(\"Precision:\", precision)\n",
        "\n",
        "# Recall\n",
        "recall = recall_score(Y_test, target_prediction)\n",
        "print(\"Recall:\", recall)\n",
        "\n",
        "# F1-Score\n",
        "f1 = f1_score(Y_test, target_prediction)\n",
        "print(\"F1-Score:\", f1)\n",
        "\n",
        "# ROC-AUC\n",
        "roc_auc = roc_auc_score(Y_test, target_prediction)\n",
        "print(\"ROC-AUC:\", roc_auc)\n",
        "\n",
        "# ROC Curve (if you want to visualize it)\n",
        "fpr, tpr, _ = roc_curve(Y_test, target_prediction)\n",
        "roc_auc = auc(fpr, tpr)"
      ],
      "metadata": {
        "colab": {
          "base_uri": "https://localhost:8080/"
        },
        "id": "kIp9LGu7XupH",
        "outputId": "08933044-d925-4afc-e69c-084241933ad7"
      },
      "execution_count": null,
      "outputs": [
        {
          "output_type": "stream",
          "name": "stdout",
          "text": [
            "Accuracy: 0.8333333333333334\n",
            "Precision: 0.8492239467849224\n",
            "Recall: 0.8784403669724771\n",
            "F1-Score: 0.8635851183765503\n",
            "ROC-AUC: 0.8219788041758938\n"
          ]
        }
      ]
    },
    {
      "cell_type": "code",
      "source": [
        "pip install catboost\n"
      ],
      "metadata": {
        "colab": {
          "base_uri": "https://localhost:8080/"
        },
        "id": "1Lu_UMruSUaO",
        "outputId": "d9329af1-6382-4a16-98db-549070a18150"
      },
      "execution_count": null,
      "outputs": [
        {
          "output_type": "stream",
          "name": "stdout",
          "text": [
            "Collecting catboost\n",
            "  Downloading catboost-1.2.2-cp310-cp310-manylinux2014_x86_64.whl (98.7 MB)\n",
            "\u001b[2K     \u001b[90m━━━━━━━━━━━━━━━━━━━━━━━━━━━━━━━━━━━━━━━━\u001b[0m \u001b[32m98.7/98.7 MB\u001b[0m \u001b[31m2.2 MB/s\u001b[0m eta \u001b[36m0:00:00\u001b[0m\n",
            "\u001b[?25hRequirement already satisfied: graphviz in /usr/local/lib/python3.10/dist-packages (from catboost) (0.20.1)\n",
            "Requirement already satisfied: matplotlib in /usr/local/lib/python3.10/dist-packages (from catboost) (3.7.1)\n",
            "Requirement already satisfied: numpy>=1.16.0 in /usr/local/lib/python3.10/dist-packages (from catboost) (1.23.5)\n",
            "Requirement already satisfied: pandas>=0.24 in /usr/local/lib/python3.10/dist-packages (from catboost) (1.5.3)\n",
            "Requirement already satisfied: scipy in /usr/local/lib/python3.10/dist-packages (from catboost) (1.11.3)\n",
            "Requirement already satisfied: plotly in /usr/local/lib/python3.10/dist-packages (from catboost) (5.15.0)\n",
            "Requirement already satisfied: six in /usr/local/lib/python3.10/dist-packages (from catboost) (1.16.0)\n",
            "Requirement already satisfied: python-dateutil>=2.8.1 in /usr/local/lib/python3.10/dist-packages (from pandas>=0.24->catboost) (2.8.2)\n",
            "Requirement already satisfied: pytz>=2020.1 in /usr/local/lib/python3.10/dist-packages (from pandas>=0.24->catboost) (2023.3.post1)\n",
            "Requirement already satisfied: contourpy>=1.0.1 in /usr/local/lib/python3.10/dist-packages (from matplotlib->catboost) (1.1.1)\n",
            "Requirement already satisfied: cycler>=0.10 in /usr/local/lib/python3.10/dist-packages (from matplotlib->catboost) (0.12.1)\n",
            "Requirement already satisfied: fonttools>=4.22.0 in /usr/local/lib/python3.10/dist-packages (from matplotlib->catboost) (4.43.1)\n",
            "Requirement already satisfied: kiwisolver>=1.0.1 in /usr/local/lib/python3.10/dist-packages (from matplotlib->catboost) (1.4.5)\n",
            "Requirement already satisfied: packaging>=20.0 in /usr/local/lib/python3.10/dist-packages (from matplotlib->catboost) (23.2)\n",
            "Requirement already satisfied: pillow>=6.2.0 in /usr/local/lib/python3.10/dist-packages (from matplotlib->catboost) (9.4.0)\n",
            "Requirement already satisfied: pyparsing>=2.3.1 in /usr/local/lib/python3.10/dist-packages (from matplotlib->catboost) (3.1.1)\n",
            "Requirement already satisfied: tenacity>=6.2.0 in /usr/local/lib/python3.10/dist-packages (from plotly->catboost) (8.2.3)\n",
            "Installing collected packages: catboost\n",
            "Successfully installed catboost-1.2.2\n"
          ]
        }
      ]
    },
    {
      "cell_type": "markdown",
      "source": [
        "# CatBoost"
      ],
      "metadata": {
        "id": "MPmjaX_sY08O"
      }
    },
    {
      "cell_type": "code",
      "source": [
        "from catboost import CatBoostClassifier\n",
        "\n",
        "model = CatBoostClassifier(iterations=100,  # number of iterations\n",
        "                           depth=5,  # the depth of the trees\n",
        "                           learning_rate=0.1,  # the learning rate\n",
        "                           loss_function='Logloss',  # 'Logloss' for binary classification\n",
        "                           random_seed=42)  # random seed for reproducibility\n",
        "\n",
        "model.fit(X_train, Y_train)\n",
        "\n",
        "target_prediction = model.predict(X_test)\n",
        "\n",
        "# Evaluate the model's accuracy on the test data\n",
        "accuracy = accuracy_score(Y_test, target_prediction)\n",
        "print(f'Accuracy: {accuracy:.6f}')"
      ],
      "metadata": {
        "colab": {
          "base_uri": "https://localhost:8080/"
        },
        "id": "R-bL59dqY7jz",
        "outputId": "26a04b8f-72b0-4b05-c42d-5fb00c6d4dab"
      },
      "execution_count": null,
      "outputs": [
        {
          "output_type": "stream",
          "name": "stdout",
          "text": [
            "0:\tlearn: 0.6337115\ttotal: 48.3ms\tremaining: 4.78s\n",
            "1:\tlearn: 0.5949862\ttotal: 50.7ms\tremaining: 2.48s\n",
            "2:\tlearn: 0.5570796\ttotal: 52.5ms\tremaining: 1.7s\n",
            "3:\tlearn: 0.5278990\ttotal: 54.6ms\tremaining: 1.31s\n",
            "4:\tlearn: 0.5023456\ttotal: 56.6ms\tremaining: 1.07s\n",
            "5:\tlearn: 0.4839063\ttotal: 58.6ms\tremaining: 918ms\n",
            "6:\tlearn: 0.4713886\ttotal: 60.5ms\tremaining: 804ms\n",
            "7:\tlearn: 0.4587554\ttotal: 62.6ms\tremaining: 720ms\n",
            "8:\tlearn: 0.4487972\ttotal: 64.6ms\tremaining: 654ms\n",
            "9:\tlearn: 0.4433460\ttotal: 66.9ms\tremaining: 602ms\n",
            "10:\tlearn: 0.4387683\ttotal: 68.9ms\tremaining: 557ms\n",
            "11:\tlearn: 0.4326159\ttotal: 70.9ms\tremaining: 520ms\n",
            "12:\tlearn: 0.4275054\ttotal: 73ms\tremaining: 488ms\n",
            "13:\tlearn: 0.4198221\ttotal: 75ms\tremaining: 461ms\n",
            "14:\tlearn: 0.4137820\ttotal: 76.8ms\tremaining: 435ms\n",
            "15:\tlearn: 0.4099033\ttotal: 78.6ms\tremaining: 413ms\n",
            "16:\tlearn: 0.4059952\ttotal: 80.5ms\tremaining: 393ms\n",
            "17:\tlearn: 0.4031107\ttotal: 82.3ms\tremaining: 375ms\n",
            "18:\tlearn: 0.3994693\ttotal: 84.7ms\tremaining: 361ms\n",
            "19:\tlearn: 0.3956025\ttotal: 87.2ms\tremaining: 349ms\n",
            "20:\tlearn: 0.3924312\ttotal: 89.5ms\tremaining: 337ms\n",
            "21:\tlearn: 0.3897050\ttotal: 91.4ms\tremaining: 324ms\n",
            "22:\tlearn: 0.3861798\ttotal: 93.3ms\tremaining: 312ms\n",
            "23:\tlearn: 0.3843504\ttotal: 95.1ms\tremaining: 301ms\n",
            "24:\tlearn: 0.3801327\ttotal: 96.9ms\tremaining: 291ms\n",
            "25:\tlearn: 0.3779274\ttotal: 100ms\tremaining: 286ms\n",
            "26:\tlearn: 0.3742701\ttotal: 102ms\tremaining: 276ms\n",
            "27:\tlearn: 0.3730410\ttotal: 104ms\tremaining: 268ms\n",
            "28:\tlearn: 0.3708940\ttotal: 106ms\tremaining: 259ms\n",
            "29:\tlearn: 0.3684119\ttotal: 108ms\tremaining: 251ms\n",
            "30:\tlearn: 0.3670262\ttotal: 109ms\tremaining: 244ms\n",
            "31:\tlearn: 0.3647216\ttotal: 111ms\tremaining: 236ms\n",
            "32:\tlearn: 0.3628036\ttotal: 113ms\tremaining: 230ms\n",
            "33:\tlearn: 0.3608022\ttotal: 115ms\tremaining: 224ms\n",
            "34:\tlearn: 0.3586633\ttotal: 117ms\tremaining: 217ms\n",
            "35:\tlearn: 0.3572420\ttotal: 119ms\tremaining: 212ms\n",
            "36:\tlearn: 0.3552551\ttotal: 121ms\tremaining: 206ms\n",
            "37:\tlearn: 0.3530727\ttotal: 123ms\tremaining: 200ms\n",
            "38:\tlearn: 0.3519916\ttotal: 125ms\tremaining: 195ms\n",
            "39:\tlearn: 0.3502658\ttotal: 127ms\tremaining: 191ms\n",
            "40:\tlearn: 0.3491095\ttotal: 129ms\tremaining: 186ms\n",
            "41:\tlearn: 0.3471399\ttotal: 131ms\tremaining: 181ms\n",
            "42:\tlearn: 0.3455685\ttotal: 133ms\tremaining: 177ms\n",
            "43:\tlearn: 0.3436959\ttotal: 136ms\tremaining: 173ms\n",
            "44:\tlearn: 0.3421732\ttotal: 138ms\tremaining: 169ms\n",
            "45:\tlearn: 0.3410276\ttotal: 140ms\tremaining: 164ms\n",
            "46:\tlearn: 0.3401730\ttotal: 142ms\tremaining: 160ms\n",
            "47:\tlearn: 0.3391105\ttotal: 144ms\tremaining: 156ms\n",
            "48:\tlearn: 0.3379170\ttotal: 146ms\tremaining: 152ms\n",
            "49:\tlearn: 0.3368552\ttotal: 149ms\tremaining: 149ms\n",
            "50:\tlearn: 0.3362085\ttotal: 151ms\tremaining: 145ms\n",
            "51:\tlearn: 0.3356248\ttotal: 153ms\tremaining: 141ms\n",
            "52:\tlearn: 0.3344663\ttotal: 155ms\tremaining: 137ms\n",
            "53:\tlearn: 0.3334476\ttotal: 157ms\tremaining: 134ms\n",
            "54:\tlearn: 0.3325761\ttotal: 159ms\tremaining: 130ms\n",
            "55:\tlearn: 0.3314449\ttotal: 161ms\tremaining: 127ms\n",
            "56:\tlearn: 0.3302280\ttotal: 164ms\tremaining: 123ms\n",
            "57:\tlearn: 0.3291729\ttotal: 166ms\tremaining: 120ms\n",
            "58:\tlearn: 0.3290288\ttotal: 167ms\tremaining: 116ms\n",
            "59:\tlearn: 0.3280624\ttotal: 170ms\tremaining: 113ms\n",
            "60:\tlearn: 0.3272767\ttotal: 172ms\tremaining: 110ms\n",
            "61:\tlearn: 0.3266953\ttotal: 174ms\tremaining: 106ms\n",
            "62:\tlearn: 0.3260441\ttotal: 176ms\tremaining: 103ms\n",
            "63:\tlearn: 0.3251542\ttotal: 178ms\tremaining: 100ms\n",
            "64:\tlearn: 0.3240804\ttotal: 180ms\tremaining: 96.9ms\n",
            "65:\tlearn: 0.3236044\ttotal: 182ms\tremaining: 93.7ms\n",
            "66:\tlearn: 0.3229492\ttotal: 184ms\tremaining: 90.6ms\n",
            "67:\tlearn: 0.3217338\ttotal: 186ms\tremaining: 87.5ms\n",
            "68:\tlearn: 0.3209668\ttotal: 188ms\tremaining: 84.4ms\n",
            "69:\tlearn: 0.3193173\ttotal: 190ms\tremaining: 81.4ms\n",
            "70:\tlearn: 0.3185916\ttotal: 192ms\tremaining: 78.4ms\n",
            "71:\tlearn: 0.3172151\ttotal: 194ms\tremaining: 75.5ms\n",
            "72:\tlearn: 0.3163785\ttotal: 196ms\tremaining: 72.5ms\n",
            "73:\tlearn: 0.3151517\ttotal: 198ms\tremaining: 69.6ms\n",
            "74:\tlearn: 0.3137384\ttotal: 200ms\tremaining: 66.7ms\n",
            "75:\tlearn: 0.3129915\ttotal: 202ms\tremaining: 63.9ms\n",
            "76:\tlearn: 0.3114166\ttotal: 205ms\tremaining: 61.2ms\n",
            "77:\tlearn: 0.3108811\ttotal: 207ms\tremaining: 58.5ms\n",
            "78:\tlearn: 0.3097171\ttotal: 211ms\tremaining: 56ms\n",
            "79:\tlearn: 0.3090630\ttotal: 212ms\tremaining: 53.1ms\n",
            "80:\tlearn: 0.3083461\ttotal: 214ms\tremaining: 50.3ms\n",
            "81:\tlearn: 0.3075121\ttotal: 216ms\tremaining: 47.4ms\n",
            "82:\tlearn: 0.3063999\ttotal: 218ms\tremaining: 44.7ms\n",
            "83:\tlearn: 0.3055660\ttotal: 220ms\tremaining: 41.9ms\n",
            "84:\tlearn: 0.3053606\ttotal: 222ms\tremaining: 39.1ms\n",
            "85:\tlearn: 0.3037572\ttotal: 224ms\tremaining: 36.4ms\n",
            "86:\tlearn: 0.3020839\ttotal: 225ms\tremaining: 33.7ms\n",
            "87:\tlearn: 0.3014251\ttotal: 228ms\tremaining: 31ms\n",
            "88:\tlearn: 0.3003846\ttotal: 230ms\tremaining: 28.4ms\n",
            "89:\tlearn: 0.2987517\ttotal: 232ms\tremaining: 25.7ms\n",
            "90:\tlearn: 0.2977184\ttotal: 235ms\tremaining: 23.3ms\n",
            "91:\tlearn: 0.2965354\ttotal: 239ms\tremaining: 20.8ms\n",
            "92:\tlearn: 0.2955132\ttotal: 241ms\tremaining: 18.1ms\n",
            "93:\tlearn: 0.2948118\ttotal: 243ms\tremaining: 15.5ms\n",
            "94:\tlearn: 0.2941947\ttotal: 245ms\tremaining: 12.9ms\n",
            "95:\tlearn: 0.2933630\ttotal: 247ms\tremaining: 10.3ms\n",
            "96:\tlearn: 0.2922618\ttotal: 249ms\tremaining: 7.7ms\n",
            "97:\tlearn: 0.2913573\ttotal: 251ms\tremaining: 5.12ms\n",
            "98:\tlearn: 0.2903489\ttotal: 253ms\tremaining: 2.55ms\n",
            "99:\tlearn: 0.2894872\ttotal: 255ms\tremaining: 0us\n",
            "Accuracy: 0.838843\n"
          ]
        }
      ]
    },
    {
      "cell_type": "code",
      "source": [
        "# Accuracy\n",
        "accuracy = accuracy_score(Y_test, target_prediction)\n",
        "print(\"Accuracy:\", accuracy)\n",
        "\n",
        "# Precision\n",
        "precision = precision_score(Y_test, target_prediction)\n",
        "print(\"Precision:\", precision)\n",
        "\n",
        "# Recall\n",
        "recall = recall_score(Y_test, target_prediction)\n",
        "print(\"Recall:\", recall)\n",
        "\n",
        "# F1-Score\n",
        "f1 = f1_score(Y_test, target_prediction)\n",
        "print(\"F1-Score:\", f1)\n",
        "\n",
        "# ROC-AUC\n",
        "roc_auc = roc_auc_score(Y_test, target_prediction)\n",
        "print(\"ROC-AUC:\", roc_auc)\n",
        "\n",
        "# ROC Curve (if you want to visualize it)\n",
        "fpr, tpr, _ = roc_curve(Y_test, target_prediction)\n",
        "roc_auc = auc(fpr, tpr)"
      ],
      "metadata": {
        "colab": {
          "base_uri": "https://localhost:8080/"
        },
        "id": "mmtD9s_xX4gf",
        "outputId": "11e3e4eb-adf7-46b1-dd63-236a2e646c9b"
      },
      "execution_count": null,
      "outputs": [
        {
          "output_type": "stream",
          "name": "stdout",
          "text": [
            "Accuracy: 0.8388429752066116\n",
            "Precision: 0.8505494505494505\n",
            "Recall: 0.8876146788990825\n",
            "F1-Score: 0.8686868686868687\n",
            "ROC-AUC: 0.8265659601391964\n"
          ]
        }
      ]
    },
    {
      "cell_type": "markdown",
      "source": [
        "# AdaBoost"
      ],
      "metadata": {
        "id": "eRHMbboQY8Dy"
      }
    },
    {
      "cell_type": "code",
      "source": [
        "from sklearn.ensemble import AdaBoostClassifier\n",
        "\n",
        "model = AdaBoostClassifier(n_estimators=300,  # Adjust the number of estimators (trees) as needed\n",
        "                  learning_rate=0.1)  # Adjust the learning rate as needed\n",
        "\n",
        "model.fit(X_train_resampled, Y_train_resampled)\n",
        "\n",
        "target_prediction = model.predict(X_test)\n",
        "\n",
        "# Evaluate the model's accuracy on the test data\n",
        "accuracy = accuracy_score(Y_test, target_prediction)\n",
        "print(f'Accuracy: {accuracy:.6f}')"
      ],
      "metadata": {
        "colab": {
          "base_uri": "https://localhost:8080/"
        },
        "id": "c7PqJWYKKstl",
        "outputId": "9ce07472-f745-4b6e-91e4-a2e2c167c57b"
      },
      "execution_count": null,
      "outputs": [
        {
          "output_type": "stream",
          "name": "stdout",
          "text": [
            "Accuracy: 0.820937\n"
          ]
        }
      ]
    },
    {
      "cell_type": "code",
      "source": [
        "# Accuracy\n",
        "accuracy = accuracy_score(Y_test, target_prediction)\n",
        "print(\"Accuracy:\", accuracy)\n",
        "\n",
        "# Precision\n",
        "precision = precision_score(Y_test, target_prediction)\n",
        "print(\"Precision:\", precision)\n",
        "\n",
        "# Recall\n",
        "recall = recall_score(Y_test, target_prediction)\n",
        "print(\"Recall:\", recall)\n",
        "\n",
        "# F1-Score\n",
        "f1 = f1_score(Y_test, target_prediction)\n",
        "print(\"F1-Score:\", f1)\n",
        "\n",
        "# ROC-AUC\n",
        "roc_auc = roc_auc_score(Y_test, target_prediction)\n",
        "print(\"ROC-AUC:\", roc_auc)\n",
        "\n",
        "# ROC Curve (if you want to visualize it)\n",
        "fpr, tpr, _ = roc_curve(Y_test, target_prediction)\n",
        "roc_auc = auc(fpr, tpr)"
      ],
      "metadata": {
        "colab": {
          "base_uri": "https://localhost:8080/"
        },
        "id": "fTqNjjWTX_AH",
        "outputId": "cd1034f9-118a-4093-cb40-c8a572e971fe"
      },
      "execution_count": null,
      "outputs": [
        {
          "output_type": "stream",
          "name": "stdout",
          "text": [
            "Accuracy: 0.8209366391184573\n",
            "Precision: 0.8430493273542601\n",
            "Recall: 0.8623853211009175\n",
            "F1-Score: 0.8526077097505669\n",
            "ROC-AUC: 0.8105030053780449\n"
          ]
        }
      ]
    },
    {
      "cell_type": "markdown",
      "source": [],
      "metadata": {
        "id": "qcwHm5YAY-pT"
      }
    }
  ]
}