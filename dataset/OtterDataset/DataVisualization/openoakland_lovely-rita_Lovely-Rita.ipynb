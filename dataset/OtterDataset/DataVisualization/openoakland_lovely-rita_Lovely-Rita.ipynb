{
 "cells": [
  {
   "cell_type": "markdown",
   "metadata": {},
   "source": [
    "# Lovely-Rita EDA\n",
    "\n",
    "### Notebook by [Andrew Tom](https://github.com/Atomahawk)\n",
    "#### [OpenOakland - Code for America](http://openoakland.org/)\n",
    "\n",
    "Phases: \n",
    "- I. Exploratory\n",
    "- II. Display information/ pull out learnings\n",
    "- III. Create tool for other people to use (Flask)"
   ]
  },
  {
   "cell_type": "markdown",
   "metadata": {
    "toc": "true"
   },
   "source": [
    "# Table of Contents\n",
    " <p><div class=\"lev1 toc-item\"><a href=\"#Lovely-Rita-EDA\" data-toc-modified-id=\"Lovely-Rita-EDA-1\"><span class=\"toc-item-num\">1&nbsp;&nbsp;</span>Lovely-Rita EDA</a></div><div class=\"lev3 toc-item\"><a href=\"#Notebook-by-Andrew-Tom\" data-toc-modified-id=\"Notebook-by-Andrew-Tom-101\"><span class=\"toc-item-num\">1.0.1&nbsp;&nbsp;</span>Notebook by <a href=\"https://github.com/Atomahawk\" target=\"_blank\">Andrew Tom</a></a></div><div class=\"lev2 toc-item\"><a href=\"#The-Specs\" data-toc-modified-id=\"The-Specs-11\"><span class=\"toc-item-num\">1.1&nbsp;&nbsp;</span>The Specs</a></div><div class=\"lev2 toc-item\"><a href=\"#Required-Libraries-(Boilerplate-documentation)\" data-toc-modified-id=\"Required-Libraries-(Boilerplate-documentation)-12\"><span class=\"toc-item-num\">1.2&nbsp;&nbsp;</span>Required Libraries (Boilerplate documentation)</a></div><div class=\"lev2 toc-item\"><a href=\"#Step-1:-Problem-Domain-&amp;-Answering-the-question\" data-toc-modified-id=\"Step-1:-Problem-Domain-&amp;-Answering-the-question-13\"><span class=\"toc-item-num\">1.3&nbsp;&nbsp;</span>Step 1: Problem Domain &amp; Answering the question</a></div><div class=\"lev2 toc-item\"><a href=\"#Step-2:-Checking-the-data\" data-toc-modified-id=\"Step-2:-Checking-the-data-14\"><span class=\"toc-item-num\">1.4&nbsp;&nbsp;</span>Step 2: Checking the data</a></div><div class=\"lev3 toc-item\"><a href=\"#Filter-columns\" data-toc-modified-id=\"Filter-columns-141\"><span class=\"toc-item-num\">1.4.1&nbsp;&nbsp;</span>Filter columns</a></div><div class=\"lev2 toc-item\"><a href=\"#Step-3:-Tidying-the-data\" data-toc-modified-id=\"Step-3:-Tidying-the-data-15\"><span class=\"toc-item-num\">1.5&nbsp;&nbsp;</span>Step 3: Tidying the data</a></div><div class=\"lev3 toc-item\"><a href=\"#Check-for-Nulls\" data-toc-modified-id=\"Check-for-Nulls-151\"><span class=\"toc-item-num\">1.5.1&nbsp;&nbsp;</span>Check for Nulls</a></div><div class=\"lev3 toc-item\"><a href=\"#Make-fine_amount-Integers\" data-toc-modified-id=\"Make-fine_amount-Integers-152\"><span class=\"toc-item-num\">1.5.2&nbsp;&nbsp;</span>Make <code>fine_amount</code> Integers</a></div><div class=\"lev3 toc-item\"><a href=\"#[IN-PROGRESS]-Standardize-datetimes\" data-toc-modified-id=\"[IN-PROGRESS]-Standardize-datetimes-153\"><span class=\"toc-item-num\">1.5.3&nbsp;&nbsp;</span>[IN PROGRESS] Standardize datetimes</a></div><div class=\"lev3 toc-item\"><a href=\"#Export-cleaned-data-to-reference-later\" data-toc-modified-id=\"Export-cleaned-data-to-reference-later-154\"><span class=\"toc-item-num\">1.5.4&nbsp;&nbsp;</span>Export cleaned data to reference later</a></div><div class=\"lev2 toc-item\"><a href=\"#Step-4:-Exploratory-analysis\" data-toc-modified-id=\"Step-4:-Exploratory-analysis-16\"><span class=\"toc-item-num\">1.6&nbsp;&nbsp;</span>Step 4: Exploratory analysis</a></div><div class=\"lev3 toc-item\"><a href=\"#Citations-by-Violation\" data-toc-modified-id=\"Citations-by-Violation-161\"><span class=\"toc-item-num\">1.6.1&nbsp;&nbsp;</span>Citations by Violation</a></div><div class=\"lev3 toc-item\"><a href=\"#Officer-Citations\" data-toc-modified-id=\"Officer-Citations-162\"><span class=\"toc-item-num\">1.6.2&nbsp;&nbsp;</span>Officer Citations</a></div><div class=\"lev3 toc-item\"><a href=\"#Citations-by-Zone\" data-toc-modified-id=\"Citations-by-Zone-163\"><span class=\"toc-item-num\">1.6.3&nbsp;&nbsp;</span>Citations by Zone</a></div><div class=\"lev3 toc-item\"><a href=\"#Findings\" data-toc-modified-id=\"Findings-164\"><span class=\"toc-item-num\">1.6.4&nbsp;&nbsp;</span>Findings</a></div><div class=\"lev1 toc-item\"><a href=\"#TO-DO\" data-toc-modified-id=\"TO-DO-2\"><span class=\"toc-item-num\">2&nbsp;&nbsp;</span>TO DO</a></div><div class=\"lev2 toc-item\"><a href=\"#[IN-PROGRESS]-Step-5:-Data-Visualization\" data-toc-modified-id=\"[IN-PROGRESS]-Step-5:-Data-Visualization-21\"><span class=\"toc-item-num\">2.1&nbsp;&nbsp;</span>[IN PROGRESS] Step 5: Data Visualization</a></div><div class=\"lev3 toc-item\"><a href=\"#These-don't-work...yet\" data-toc-modified-id=\"These-don't-work...yet-211\"><span class=\"toc-item-num\">2.1.1&nbsp;&nbsp;</span>These don't work...yet</a></div>"
   ]
  },
  {
   "cell_type": "markdown",
   "metadata": {},
   "source": [
    "## The Specs\n",
    "\n",
    "[Sebastian Raschka](http://sebastianraschka.com/) created a handy [notebook tool](https://github.com/rasbt/watermark) for documenting what software and hardware we used to perform our analysis.  The output is below"
   ]
  },
  {
   "cell_type": "code",
   "execution_count": 45,
   "metadata": {},
   "outputs": [
    {
     "name": "stdout",
     "output_type": "stream",
     "text": [
      "The watermark extension is already loaded. To reload it, use:\n",
      "  %reload_ext watermark\n"
     ]
    }
   ],
   "source": [
    "%load_ext watermark"
   ]
  },
  {
   "cell_type": "code",
   "execution_count": 46,
   "metadata": {},
   "outputs": [
    {
     "name": "stdout",
     "output_type": "stream",
     "text": [
      "Andrew Tom Tue Oct 03 2017 \n",
      "\n",
      "CPython 3.6.1\n",
      "IPython 5.3.0\n",
      "\n",
      "numpy 1.12.1\n",
      "pandas 0.20.1\n",
      "pandas_profiling n\u0007\n",
      "matplotlib 2.0.2\n",
      "seaborn 0.7.1\n",
      "\n",
      "compiler   : GCC 4.2.1 Compatible Apple LLVM 6.0 (clang-600.0.57)\n",
      "system     : Darwin\n",
      "release    : 16.7.0\n",
      "machine    : x86_64\n",
      "processor  : i386\n",
      "CPU cores  : 4\n",
      "interpreter: 64bit\n"
     ]
    }
   ],
   "source": [
    "%watermark -a 'Andrew Tom' -nmv --packages numpy,pandas,pandas_profiling,matplotlib,seaborn"
   ]
  },
  {
   "cell_type": "markdown",
   "metadata": {},
   "source": [
    "## Required Libraries (Boilerplate documentation)\n",
    "\n",
    "If you don't have Python on your computer, you can use the [Anaconda Python distribution](http://continuum.io/downloads) to install most of the Python packages you need. Anaconda provides a simple double-click installer for your convenience.\n",
    "\n",
    "This notebook uses several Python packages that come standard with the Anaconda Python distribution. The primary libraries that we'll be using are:\n",
    "\n",
    "* **NumPy**: Provides a fast numerical array structure and helper functions.\n",
    "* **pandas**: Provides a DataFrame structure to store data in memory and work with it easily and efficiently.\n",
    "* **scikit-learn**: The essential Machine Learning package in Python.\n",
    "* **matplotlib**: Basic plotting library in Python; most other Python plotting libraries are built on top of it.\n",
    "* **Seaborn**: Advanced statistical plotting library.\n",
    "\n",
    "To make sure you have all of the packages you need, install them with `conda`:\n",
    "\n",
    "    conda install numpy pandas scikit-learn matplotlib seaborn\n",
    "\n",
    "`conda` may ask you to update some of them if you don't have the most recent version. Allow it to do so."
   ]
  },
  {
   "cell_type": "code",
   "execution_count": 43,
   "metadata": {
    "collapsed": true
   },
   "outputs": [],
   "source": [
    "import numpy as np\n",
    "import pandas as pd\n",
    "import time\n",
    "import datetime as dt\n",
    "import matplotlib.pyplot as plt\n",
    "import pandas_profiling\n",
    "import seaborn as sns\n",
    "import pandas\n",
    "\n",
    "%matplotlib inline\n",
    "pd.set_option('display.width', 1000)\n",
    "pd.set_option('display.max_rows', 50)\n",
    "pd.set_option('display.max_columns', 500)"
   ]
  },
  {
   "cell_type": "markdown",
   "metadata": {},
   "source": [
    "## Step 1: Problem Domain & Answering the question\n",
    "\n",
    "[[ go back to the top ]](#Table-of-Contents)\n",
    "\n",
    "Here is defined the question or problem we're looking to solve, and an outcome (or set of outcomes) for our success at solving that task.\n",
    "\n",
    "**Did you specify the type of data analytic question (e.g. exploration, association causality) before touching the data?**\n",
    "\n",
    "> We're looking to explore Oakland citation data to reveal any insights or findings relevant for stakeholders and the general public.\n",
    "\n",
    "**Did you define the metric for success before beginning?**\n",
    "\n",
    "> - Leading measure of success: any products (interactive visualizations, informative website, or infographic) developed and released to the general public to better communicate these results.\n",
    "> - Lagging measure of success: high engagement on information products via web traffic, views/shares, or stakeholder interest / meetings.\n",
    "> - Lagging measure of success: parking policies or enforcement policies altered as a result of our analysis.\n",
    "\n",
    "**Did you understand the context for the question and the policy application?**\n",
    "\n",
    "\n",
    "[![Watch the video from the International Parking Institute](parking.jpg)](https://youtu.be/vbG7eAe8ZOQ \"Watch the video from the International Parking Institute\")\n",
    "\n",
    "> Citations are a consequence of parking mismangement:\n",
    "> - poor accessibility to urban spaces,\n",
    "> - obstructions to public works operations like street sweepers,\n",
    "> - and miscommunication between city planners and citizens over competing priorities.\n",
    "\n",
    "> Citations themselves are a hindrance - both to residents that struggle or fail to pay on time, and to cities that must respect due process and are overwhelmed by the review of hundreds of appealed citations. What results are poor resident and visitor experiences at best, and animosity and contempt at worse.  Parking is about access management, and working to minimize citations city-wide is central to the experience of residents and visitors that enjoy shared spaces around the City of Oakland.  Minimizing citations is also part of a larger effort to achieve community and economic development goals.\n",
    "\n",
    "**Did you consider whether the question could be answered with the available data?**\n",
    "\n",
    "> Initial examination of the 2016 data yielded the following limitations:\n",
    "> - Only about 40% of the data is geo-encoded"
   ]
  },
  {
   "cell_type": "markdown",
   "metadata": {},
   "source": [
    "## Step 2: Checking the data\n",
    "\n",
    "[[ go back to the top ]](#Table-of-Contents)\n",
    "\n",
    "The next step is to look at the data we're working with. Even curated data sets from the government can have errors in them, and it's vital that we spot these errors before investing too much time in our analysis.\n",
    "\n",
    "Generally, we're looking to answer the following questions:\n",
    "\n",
    "* Is there anything wrong with the data?\n",
    "* Are there any quirks with the data?\n",
    "* Do I need to fix or remove any of the data?\n",
    "\n",
    "Let's start by reading the data into a pandas DataFrame."
   ]
  },
  {
   "cell_type": "code",
   "execution_count": 2,
   "metadata": {
    "collapsed": true
   },
   "outputs": [],
   "source": [
    "filename = '/Users/eastblue/ds/CivicTech/OpenOakland/Archive/2016complete-output.csv'"
   ]
  },
  {
   "cell_type": "code",
   "execution_count": 3,
   "metadata": {
    "collapsed": true
   },
   "outputs": [],
   "source": [
    "def download(file):\n",
    "    start = time.time()\n",
    "    print(start)\n",
    "    # edited for NA values, and datetime objects\n",
    "    df = pd.read_csv(file, parse_dates=['Ticket Issue Date', 'Ticket Issue Time'], na_values=['0', 'Unknown'], infer_datetime_format=True, low_memory=False)\n",
    "    stop = time.time()\n",
    "    print(stop)\n",
    "    print('elapsed: ', (stop - start), 'seconds')\n",
    "    return df"
   ]
  },
  {
   "cell_type": "code",
   "execution_count": 4,
   "metadata": {},
   "outputs": [
    {
     "name": "stdout",
     "output_type": "stream",
     "text": [
      "1507030244.966191\n",
      "1507030313.149963\n",
      "elapsed:  68.18377184867859 seconds\n",
      "CPU times: user 1min 6s, sys: 795 ms, total: 1min 7s\n",
      "Wall time: 1min 8s\n"
     ]
    }
   ],
   "source": [
    "%%time\n",
    "df = download(filename)"
   ]
  },
  {
   "cell_type": "code",
   "execution_count": 5,
   "metadata": {},
   "outputs": [
    {
     "data": {
      "text/html": [
       "<div>\n",
       "<style>\n",
       "    .dataframe thead tr:only-child th {\n",
       "        text-align: right;\n",
       "    }\n",
       "\n",
       "    .dataframe thead th {\n",
       "        text-align: left;\n",
       "    }\n",
       "\n",
       "    .dataframe tbody tr th {\n",
       "        vertical-align: top;\n",
       "    }\n",
       "</style>\n",
       "<table border=\"1\" class=\"dataframe\">\n",
       "  <thead>\n",
       "    <tr style=\"text-align: right;\">\n",
       "      <th></th>\n",
       "      <th>street</th>\n",
       "      <th>city</th>\n",
       "      <th>state</th>\n",
       "      <th>Ticket Number</th>\n",
       "      <th>Ticket Issue Date</th>\n",
       "      <th>Ticket Issue Time</th>\n",
       "      <th>Violation External Code</th>\n",
       "      <th>Violation Desc Long</th>\n",
       "      <th>Street No</th>\n",
       "      <th>Street Name</th>\n",
       "      <th>...</th>\n",
       "      <th>[extra_secondary_designator]</th>\n",
       "      <th>[pmb_designator]</th>\n",
       "      <th>[pmb_number]</th>\n",
       "      <th>[default_city_name]</th>\n",
       "      <th>[zipcode]</th>\n",
       "      <th>[plus4_code]</th>\n",
       "      <th>[delivery_point]</th>\n",
       "      <th>[delivery_point_check_digit]</th>\n",
       "      <th>[last_line]</th>\n",
       "      <th>[delivery_point_barcode]</th>\n",
       "    </tr>\n",
       "  </thead>\n",
       "  <tbody>\n",
       "    <tr>\n",
       "      <th>0</th>\n",
       "      <td>1 AIRPORT DRIVE</td>\n",
       "      <td>oakland</td>\n",
       "      <td>california</td>\n",
       "      <td>1712512524</td>\n",
       "      <td>2016-01-01</td>\n",
       "      <td>2017-10-03 06:17:00</td>\n",
       "      <td>10.16.110</td>\n",
       "      <td>OBEDIENCE TO SIGNS</td>\n",
       "      <td>1.0</td>\n",
       "      <td>AIRPORT</td>\n",
       "      <td>...</td>\n",
       "      <td>NaN</td>\n",
       "      <td>NaN</td>\n",
       "      <td>NaN</td>\n",
       "      <td>NaN</td>\n",
       "      <td>94621.0</td>\n",
       "      <td>1430.0</td>\n",
       "      <td>99.0</td>\n",
       "      <td>2.0</td>\n",
       "      <td>Oakland CA 94621-1430</td>\n",
       "      <td>9.462114e+11</td>\n",
       "    </tr>\n",
       "    <tr>\n",
       "      <th>1</th>\n",
       "      <td>1 AIRPORT DRIVE</td>\n",
       "      <td>oakland</td>\n",
       "      <td>california</td>\n",
       "      <td>1712512535</td>\n",
       "      <td>2016-01-01</td>\n",
       "      <td>2017-10-03 07:32:00</td>\n",
       "      <td>10.16.110</td>\n",
       "      <td>OBEDIENCE TO SIGNS</td>\n",
       "      <td>1.0</td>\n",
       "      <td>AIRPORT</td>\n",
       "      <td>...</td>\n",
       "      <td>NaN</td>\n",
       "      <td>NaN</td>\n",
       "      <td>NaN</td>\n",
       "      <td>NaN</td>\n",
       "      <td>94621.0</td>\n",
       "      <td>1430.0</td>\n",
       "      <td>99.0</td>\n",
       "      <td>2.0</td>\n",
       "      <td>Oakland CA 94621-1430</td>\n",
       "      <td>9.462114e+11</td>\n",
       "    </tr>\n",
       "    <tr>\n",
       "      <th>2</th>\n",
       "      <td>1 AIRPORT DRIVE</td>\n",
       "      <td>oakland</td>\n",
       "      <td>california</td>\n",
       "      <td>1712512546</td>\n",
       "      <td>2016-01-01</td>\n",
       "      <td>2017-10-03 10:42:00</td>\n",
       "      <td>10.16.110</td>\n",
       "      <td>OBEDIENCE TO SIGNS</td>\n",
       "      <td>1.0</td>\n",
       "      <td>AIRPORT</td>\n",
       "      <td>...</td>\n",
       "      <td>NaN</td>\n",
       "      <td>NaN</td>\n",
       "      <td>NaN</td>\n",
       "      <td>NaN</td>\n",
       "      <td>94621.0</td>\n",
       "      <td>1430.0</td>\n",
       "      <td>99.0</td>\n",
       "      <td>2.0</td>\n",
       "      <td>Oakland CA 94621-1430</td>\n",
       "      <td>9.462114e+11</td>\n",
       "    </tr>\n",
       "  </tbody>\n",
       "</table>\n",
       "<p>3 rows × 68 columns</p>\n",
       "</div>"
      ],
      "text/plain": [
       "            street     city       state Ticket Number Ticket Issue Date  \\\n",
       "0  1 AIRPORT DRIVE  oakland  california    1712512524        2016-01-01   \n",
       "1  1 AIRPORT DRIVE  oakland  california    1712512535        2016-01-01   \n",
       "2  1 AIRPORT DRIVE  oakland  california    1712512546        2016-01-01   \n",
       "\n",
       "    Ticket Issue Time Violation External Code Violation Desc Long  Street No  \\\n",
       "0 2017-10-03 06:17:00               10.16.110  OBEDIENCE TO SIGNS        1.0   \n",
       "1 2017-10-03 07:32:00               10.16.110  OBEDIENCE TO SIGNS        1.0   \n",
       "2 2017-10-03 10:42:00               10.16.110  OBEDIENCE TO SIGNS        1.0   \n",
       "\n",
       "  Street Name           ...            [extra_secondary_designator]  \\\n",
       "0     AIRPORT           ...                                     NaN   \n",
       "1     AIRPORT           ...                                     NaN   \n",
       "2     AIRPORT           ...                                     NaN   \n",
       "\n",
       "  [pmb_designator] [pmb_number]  [default_city_name]  [zipcode] [plus4_code]  \\\n",
       "0              NaN          NaN                  NaN    94621.0       1430.0   \n",
       "1              NaN          NaN                  NaN    94621.0       1430.0   \n",
       "2              NaN          NaN                  NaN    94621.0       1430.0   \n",
       "\n",
       "   [delivery_point] [delivery_point_check_digit]            [last_line]  \\\n",
       "0              99.0                          2.0  Oakland CA 94621-1430   \n",
       "1              99.0                          2.0  Oakland CA 94621-1430   \n",
       "2              99.0                          2.0  Oakland CA 94621-1430   \n",
       "\n",
       "  [delivery_point_barcode]  \n",
       "0             9.462114e+11  \n",
       "1             9.462114e+11  \n",
       "2             9.462114e+11  \n",
       "\n",
       "[3 rows x 68 columns]"
      ]
     },
     "execution_count": 5,
     "metadata": {},
     "output_type": "execute_result"
    }
   ],
   "source": [
    "df[:3]"
   ]
  },
  {
   "cell_type": "code",
   "execution_count": 6,
   "metadata": {
    "collapsed": true
   },
   "outputs": [],
   "source": [
    "# standardize column names\n",
    "df.columns = df.columns.str.replace('[', '')\n",
    "df.columns = df.columns.str.replace(']', '')\n",
    "df.columns = df.columns.str.replace(' ', '_')"
   ]
  },
  {
   "cell_type": "code",
   "execution_count": 7,
   "metadata": {},
   "outputs": [
    {
     "name": "stdout",
     "output_type": "stream",
     "text": [
      "<class 'pandas.core.frame.DataFrame'>\n",
      "RangeIndex: 326626 entries, 0 to 326625\n",
      "Data columns (total 68 columns):\n",
      "street                        326626 non-null object\n",
      "city                          326626 non-null object\n",
      "state                         326626 non-null object\n",
      "Ticket_Number                 326625 non-null object\n",
      "Ticket_Issue_Date             326625 non-null datetime64[ns]\n",
      "Ticket_Issue_Time             326607 non-null datetime64[ns]\n",
      "Violation_External_Code       326625 non-null object\n",
      "Violation_Desc_Long           326625 non-null object\n",
      "Street_No                     321252 non-null float64\n",
      "Street_Name                   326617 non-null object\n",
      "Street_Suffix                 313675 non-null object\n",
      "Fine_Amount                   326530 non-null object\n",
      "Badge_#                       326625 non-null object\n",
      "Unnamed:_13                   0 non-null float64\n",
      "sequence                      326626 non-null int64\n",
      "summary                       326626 non-null object\n",
      "addressee                     0 non-null float64\n",
      "delivery_line_1               326620 non-null object\n",
      "delivery_line_2               0 non-null float64\n",
      "city_name                     326620 non-null object\n",
      "state_abbreviation            326620 non-null object\n",
      "full_zipcode                  283168 non-null object\n",
      "notes                         326620 non-null object\n",
      "county_name                   283912 non-null object\n",
      "rdi                           225639 non-null object\n",
      "latitude                      283168 non-null float64\n",
      "longitude                     283168 non-null float64\n",
      "precision                     283168 non-null object\n",
      "dpv_match_code                282924 non-null object\n",
      "dpv_footnotes                 326620 non-null object\n",
      "footnotes                     127417 non-null object\n",
      "county_fips                   283912 non-null float64\n",
      "record_type                   283912 non-null object\n",
      "zip_type                      283168 non-null object\n",
      "carrier_route                 283912 non-null object\n",
      "congressional_district        283912 non-null float64\n",
      "building_default_indicator    43082 non-null object\n",
      "elot_sequence                 197135 non-null float64\n",
      "elot_sort                     197135 non-null object\n",
      "time_zone                     326626 non-null object\n",
      "utc_offset                    283912 non-null float64\n",
      "dst                           283912 non-null object\n",
      "dpv_cmra                      197135 non-null object\n",
      "ews_match                     0 non-null float64\n",
      "lacslink_indicator            1197 non-null object\n",
      "lacslink_code                 1197 non-null object\n",
      "suitelink_match               0 non-null float64\n",
      "dpv_vacant                    197135 non-null object\n",
      "active                        197135 non-null object\n",
      "urbanization                  0 non-null float64\n",
      "primary_number                282942 non-null object\n",
      "street_name                   283912 non-null object\n",
      "street_predirection           21752 non-null object\n",
      "street_postdirection          343 non-null object\n",
      "street_suffix                 279630 non-null object\n",
      "secondary_number              172 non-null object\n",
      "secondary_designator          2677 non-null object\n",
      "extra_secondary_number        0 non-null float64\n",
      "extra_secondary_designator    0 non-null float64\n",
      "pmb_designator                0 non-null float64\n",
      "pmb_number                    0 non-null float64\n",
      "default_city_name             14922 non-null object\n",
      "zipcode                       283168 non-null float64\n",
      "plus4_code                    282924 non-null float64\n",
      "delivery_point                197135 non-null float64\n",
      "delivery_point_check_digit    177802 non-null float64\n",
      "last_line                     326620 non-null object\n",
      "delivery_point_barcode        283168 non-null float64\n",
      "dtypes: datetime64[ns](2), float64(22), int64(1), object(43)\n",
      "memory usage: 169.5+ MB\n"
     ]
    }
   ],
   "source": [
    "# 68 original columns\n",
    "# 10 are empty\n",
    "# \n",
    "df.info()"
   ]
  },
  {
   "cell_type": "markdown",
   "metadata": {},
   "source": [
    "### Filter columns"
   ]
  },
  {
   "cell_type": "code",
   "execution_count": 8,
   "metadata": {},
   "outputs": [
    {
     "data": {
      "text/html": [
       "<div>\n",
       "<style>\n",
       "    .dataframe thead tr:only-child th {\n",
       "        text-align: right;\n",
       "    }\n",
       "\n",
       "    .dataframe thead th {\n",
       "        text-align: left;\n",
       "    }\n",
       "\n",
       "    .dataframe tbody tr th {\n",
       "        vertical-align: top;\n",
       "    }\n",
       "</style>\n",
       "<table border=\"1\" class=\"dataframe\">\n",
       "  <thead>\n",
       "    <tr style=\"text-align: right;\">\n",
       "      <th></th>\n",
       "      <th>street</th>\n",
       "      <th>city</th>\n",
       "      <th>state</th>\n",
       "      <th>Ticket_Number</th>\n",
       "      <th>Ticket_Issue_Date</th>\n",
       "      <th>Ticket_Issue_Time</th>\n",
       "      <th>Violation_External_Code</th>\n",
       "      <th>Violation_Desc_Long</th>\n",
       "      <th>Street_No</th>\n",
       "      <th>Street_Name</th>\n",
       "      <th>...</th>\n",
       "      <th>extra_secondary_designator</th>\n",
       "      <th>pmb_designator</th>\n",
       "      <th>pmb_number</th>\n",
       "      <th>default_city_name</th>\n",
       "      <th>zipcode</th>\n",
       "      <th>plus4_code</th>\n",
       "      <th>delivery_point</th>\n",
       "      <th>delivery_point_check_digit</th>\n",
       "      <th>last_line</th>\n",
       "      <th>delivery_point_barcode</th>\n",
       "    </tr>\n",
       "  </thead>\n",
       "  <tbody>\n",
       "    <tr>\n",
       "      <th>326623</th>\n",
       "      <td>925 ALICE ST</td>\n",
       "      <td>oakland</td>\n",
       "      <td>california</td>\n",
       "      <td>1722327040</td>\n",
       "      <td>2016-12-31</td>\n",
       "      <td>2017-10-03 15:25:00</td>\n",
       "      <td>10.40.060</td>\n",
       "      <td>NO PKG YELLOW ZONE</td>\n",
       "      <td>925.0</td>\n",
       "      <td>BLK ALICE</td>\n",
       "      <td>...</td>\n",
       "      <td>NaN</td>\n",
       "      <td>NaN</td>\n",
       "      <td>NaN</td>\n",
       "      <td>NaN</td>\n",
       "      <td>94607.0</td>\n",
       "      <td>4418.0</td>\n",
       "      <td>NaN</td>\n",
       "      <td>NaN</td>\n",
       "      <td>Oakland CA 94607-4418</td>\n",
       "      <td>9.460744e+08</td>\n",
       "    </tr>\n",
       "    <tr>\n",
       "      <th>326624</th>\n",
       "      <td>4021 BAYO ST</td>\n",
       "      <td>oakland</td>\n",
       "      <td>california</td>\n",
       "      <td>809290230</td>\n",
       "      <td>2016-12-31</td>\n",
       "      <td>2017-10-03 16:57:00</td>\n",
       "      <td>22523.A</td>\n",
       "      <td>VEHICLE ABANDONMENT</td>\n",
       "      <td>4021.0</td>\n",
       "      <td>BAYO</td>\n",
       "      <td>...</td>\n",
       "      <td>NaN</td>\n",
       "      <td>NaN</td>\n",
       "      <td>NaN</td>\n",
       "      <td>NaN</td>\n",
       "      <td>94619.0</td>\n",
       "      <td>2101.0</td>\n",
       "      <td>21.0</td>\n",
       "      <td>4.0</td>\n",
       "      <td>Oakland CA 94619-2101</td>\n",
       "      <td>9.461921e+11</td>\n",
       "    </tr>\n",
       "    <tr>\n",
       "      <th>326625</th>\n",
       "      <td></td>\n",
       "      <td>oakland</td>\n",
       "      <td>california</td>\n",
       "      <td>NaN</td>\n",
       "      <td>NaT</td>\n",
       "      <td>NaT</td>\n",
       "      <td>NaN</td>\n",
       "      <td>NaN</td>\n",
       "      <td>NaN</td>\n",
       "      <td>NaN</td>\n",
       "      <td>...</td>\n",
       "      <td>NaN</td>\n",
       "      <td>NaN</td>\n",
       "      <td>NaN</td>\n",
       "      <td>NaN</td>\n",
       "      <td>NaN</td>\n",
       "      <td>NaN</td>\n",
       "      <td>NaN</td>\n",
       "      <td>NaN</td>\n",
       "      <td>NaN</td>\n",
       "      <td>NaN</td>\n",
       "    </tr>\n",
       "  </tbody>\n",
       "</table>\n",
       "<p>3 rows × 68 columns</p>\n",
       "</div>"
      ],
      "text/plain": [
       "              street     city       state Ticket_Number Ticket_Issue_Date  \\\n",
       "326623  925 ALICE ST  oakland  california    1722327040        2016-12-31   \n",
       "326624  4021 BAYO ST  oakland  california     809290230        2016-12-31   \n",
       "326625                oakland  california           NaN               NaT   \n",
       "\n",
       "         Ticket_Issue_Time Violation_External_Code  Violation_Desc_Long  \\\n",
       "326623 2017-10-03 15:25:00               10.40.060   NO PKG YELLOW ZONE   \n",
       "326624 2017-10-03 16:57:00                 22523.A  VEHICLE ABANDONMENT   \n",
       "326625                 NaT                     NaN                  NaN   \n",
       "\n",
       "        Street_No Street_Name          ...            \\\n",
       "326623      925.0   BLK ALICE          ...             \n",
       "326624     4021.0        BAYO          ...             \n",
       "326625        NaN         NaN          ...             \n",
       "\n",
       "       extra_secondary_designator pmb_designator pmb_number  \\\n",
       "326623                        NaN            NaN        NaN   \n",
       "326624                        NaN            NaN        NaN   \n",
       "326625                        NaN            NaN        NaN   \n",
       "\n",
       "        default_city_name  zipcode plus4_code  delivery_point  \\\n",
       "326623                NaN  94607.0     4418.0             NaN   \n",
       "326624                NaN  94619.0     2101.0            21.0   \n",
       "326625                NaN      NaN        NaN             NaN   \n",
       "\n",
       "       delivery_point_check_digit              last_line  \\\n",
       "326623                        NaN  Oakland CA 94607-4418   \n",
       "326624                        4.0  Oakland CA 94619-2101   \n",
       "326625                        NaN                    NaN   \n",
       "\n",
       "       delivery_point_barcode  \n",
       "326623           9.460744e+08  \n",
       "326624           9.461921e+11  \n",
       "326625                    NaN  \n",
       "\n",
       "[3 rows x 68 columns]"
      ]
     },
     "execution_count": 8,
     "metadata": {},
     "output_type": "execute_result"
    }
   ],
   "source": [
    "df.tail(3)"
   ]
  },
  {
   "cell_type": "code",
   "execution_count": 9,
   "metadata": {
    "collapsed": true
   },
   "outputs": [],
   "source": [
    "# drop 10 empty columns\n",
    "df.drop(['Unnamed:_13', 'addressee', 'delivery_line_2', 'ews_match', 'suitelink_match', 'urbanization', 'extra_secondary_number', 'extra_secondary_designator', 'pmb_designator', 'pmb_number'], axis = 1, inplace=True)\n",
    "\n",
    "#drop empty last row\n",
    "df.drop([326625], axis=0, inplace=True)"
   ]
  },
  {
   "cell_type": "code",
   "execution_count": 10,
   "metadata": {
    "collapsed": true
   },
   "outputs": [],
   "source": [
    "# pull only the columns of interest\n",
    "citation_cols = ['street', 'city', 'state', 'Ticket_Issue_Date',\n",
    "                 'Ticket_Issue_Time', 'Violation_External_Code', 'Violation_Desc_Long',\n",
    "                 'Street_No', 'Street_Name', 'Street_Suffix', 'Fine_Amount', 'Badge_#',\n",
    "                 'sequence', 'summary', 'delivery_line_1', 'city_name',\n",
    "                 'state_abbreviation', 'full_zipcode', 'notes', 'county_name', 'rdi',\n",
    "                 'latitude', 'longitude']"
   ]
  },
  {
   "cell_type": "code",
   "execution_count": 11,
   "metadata": {
    "collapsed": true
   },
   "outputs": [],
   "source": [
    "df = df[citation_cols]\n",
    "# Uppercase column names from citation data, lowercase names from UPS delivery data\n",
    "# df.columns"
   ]
  },
  {
   "cell_type": "code",
   "execution_count": 12,
   "metadata": {},
   "outputs": [
    {
     "data": {
      "text/plain": [
       "0    1 airport drive, Oakland, CA\n",
       "1    1 airport drive, Oakland, CA\n",
       "2    1 airport drive, Oakland, CA\n",
       "Name: citation_address, dtype: object"
      ]
     },
     "execution_count": 12,
     "metadata": {},
     "output_type": "execute_result"
    }
   ],
   "source": [
    "# reconcile addresses\n",
    "df = df.drop(['sequence','delivery_line_1', 'city_name', 'state_abbreviation'], axis = 1)\n",
    "\n",
    "# Note: I can't throw df.fullzipcode because not all locations were a match _. results in NAN\n",
    "df['street'] = df.street.str.lower() + ', ' + 'Oakland' + ', ' + 'CA'\n",
    "df.rename(columns={'street': 'citation_address'}, inplace=True)\n",
    "\n",
    "df = df.drop(['city', 'state', 'Street_No', 'Street_Name', 'Street_Suffix'], axis = 1)\n",
    "\n",
    "# rename zone & match columns\n",
    "df.rename(columns={'rdi': 'zone'}, inplace=True)\n",
    "\n",
    "df.rename(columns={'summary': 'match'}, inplace=True)\n",
    "\n",
    "df['citation_address'][:3]"
   ]
  },
  {
   "cell_type": "code",
   "execution_count": 13,
   "metadata": {},
   "outputs": [
    {
     "data": {
      "text/plain": [
       "Index(['citation_address', 'ticket_issue_date', 'ticket_issue_time',\n",
       "       'violation_external_code', 'violation_desc_long', 'fine_amount',\n",
       "       'badge_#', 'match', 'full_zipcode', 'notes', 'county_name', 'zone',\n",
       "       'latitude', 'longitude'],\n",
       "      dtype='object')"
      ]
     },
     "execution_count": 13,
     "metadata": {},
     "output_type": "execute_result"
    }
   ],
   "source": [
    "df.columns = df.columns.str.lower()\n",
    "df.columns"
   ]
  },
  {
   "cell_type": "markdown",
   "metadata": {},
   "source": [
    "## Step 3: Tidying the data\n",
    "\n",
    "[[ go back to the top ]](#Table-of-Contents)\n",
    "\n",
    "Now that we've identified several errors in the data set, we need to fix them before we proceed with the analysis.\n",
    "\n",
    "Let's walk through the issues one-by-one."
   ]
  },
  {
   "cell_type": "markdown",
   "metadata": {},
   "source": [
    "### Check for Nulls"
   ]
  },
  {
   "cell_type": "code",
   "execution_count": 14,
   "metadata": {},
   "outputs": [
    {
     "name": "stdout",
     "output_type": "stream",
     "text": [
      "citation_address 0 nulls\n",
      "ticket_issue_date 0 nulls\n",
      "ticket_issue_time 18 nulls\n",
      "violation_external_code 0 nulls\n",
      "violation_desc_long 0 nulls\n",
      "fine_amount 95 nulls\n",
      "badge_# 0 nulls\n",
      "match 0 nulls\n",
      "full_zipcode 43457 nulls\n",
      "notes 5 nulls\n",
      "county_name 42713 nulls\n",
      "zone 100986 nulls\n",
      "latitude 43457 nulls\n",
      "longitude 43457 nulls\n"
     ]
    }
   ],
   "source": [
    "# Number of missing - You can investigate these more later\n",
    "for col in list(df.columns) :\n",
    "    k = sum(pd.isnull(df[col]))\n",
    "    print(col, '{} nulls'.format(k))"
   ]
  },
  {
   "cell_type": "code",
   "execution_count": 15,
   "metadata": {
    "collapsed": true
   },
   "outputs": [],
   "source": [
    "# Fill unknown zones with 'unknown'\n",
    "df.zone.fillna('Unknown', inplace=True)\n",
    "\n",
    "df.county_name.fillna('Alameda', inplace=True)"
   ]
  },
  {
   "cell_type": "code",
   "execution_count": 16,
   "metadata": {},
   "outputs": [
    {
     "data": {
      "text/plain": [
       "array(['Commercial', 'Residential', 'Unknown'], dtype=object)"
      ]
     },
     "execution_count": 16,
     "metadata": {},
     "output_type": "execute_result"
    }
   ],
   "source": [
    "df.zone.unique()"
   ]
  },
  {
   "cell_type": "code",
   "execution_count": 17,
   "metadata": {},
   "outputs": [
    {
     "name": "stdout",
     "output_type": "stream",
     "text": [
      "citation_address 0 nulls\n",
      "ticket_issue_date 0 nulls\n",
      "ticket_issue_time 18 nulls\n",
      "violation_external_code 0 nulls\n",
      "violation_desc_long 0 nulls\n",
      "fine_amount 95 nulls\n",
      "badge_# 0 nulls\n",
      "match 0 nulls\n",
      "full_zipcode 43457 nulls\n",
      "notes 5 nulls\n",
      "county_name 0 nulls\n",
      "zone 0 nulls\n",
      "latitude 43457 nulls\n",
      "longitude 43457 nulls\n"
     ]
    }
   ],
   "source": [
    "for col in list(df.columns) :\n",
    "    k = sum(pd.isnull(df[col]))\n",
    "    print(col, '{} nulls'.format(k))"
   ]
  },
  {
   "cell_type": "markdown",
   "metadata": {},
   "source": [
    "### Make `fine_amount` Integers\n",
    "- in retrospect, try this: https://medium.com/towards-data-science/5-methods-to-remove-the-from-your-data-in-python-and-the-fastest-one-281489382455"
   ]
  },
  {
   "cell_type": "code",
   "execution_count": 18,
   "metadata": {},
   "outputs": [
    {
     "data": {
      "text/plain": [
       "array(['$73', '$53', '$66', '$83', '$88', '$58', '$63', '$103', '$78',\n",
       "       '$316', '$283', '$513', '$371', '$263', '$45', '$93', '$265',\n",
       "       '$186', '$48', '$171', '$136', '$43', '$68', '$113', nan, '$273',\n",
       "       '$156', '$259', '$126', '$254', '$161', '$239', '$196', '$166',\n",
       "       '$141', '$444', '$41', '$201', '$176', '$38', '$151', '$131',\n",
       "       '$376', '$346'], dtype=object)"
      ]
     },
     "execution_count": 18,
     "metadata": {},
     "output_type": "execute_result"
    }
   ],
   "source": [
    "df.fine_amount.unique()"
   ]
  },
  {
   "cell_type": "code",
   "execution_count": 19,
   "metadata": {
    "collapsed": true
   },
   "outputs": [],
   "source": [
    "def string_dollar_to_float(value):\n",
    "    stripped = str(value).strip('$')\n",
    "    try:\n",
    "        return float(stripped)\n",
    "    except ValueError:    \n",
    "        return None\n",
    "\n",
    "df['fine_amount'] = df['fine_amount'].apply(string_dollar_to_float)"
   ]
  },
  {
   "cell_type": "code",
   "execution_count": 20,
   "metadata": {},
   "outputs": [
    {
     "data": {
      "text/plain": [
       "(513.0, 38.0)"
      ]
     },
     "execution_count": 20,
     "metadata": {},
     "output_type": "execute_result"
    }
   ],
   "source": [
    "max(df['fine_amount']), min(df['fine_amount'])"
   ]
  },
  {
   "cell_type": "markdown",
   "metadata": {},
   "source": [
    "### [IN PROGRESS] Standardize datetimes"
   ]
  },
  {
   "cell_type": "code",
   "execution_count": 21,
   "metadata": {
    "collapsed": true
   },
   "outputs": [],
   "source": [
    "# originally trying to make a unified datetime...or something\n",
    "# idx = pd.DatetimeIndex(df['ticket_issue_date'])\n",
    "# df['date'] = idx.date\n",
    "\n",
    "# idx2 = pd.DatetimeIndex(df['ticket_issue_date'])\n",
    "# df['time'] = idx2.time"
   ]
  },
  {
   "cell_type": "markdown",
   "metadata": {},
   "source": [
    "#### NTS: You were trying to get this to work."
   ]
  },
  {
   "cell_type": "code",
   "execution_count": 48,
   "metadata": {
    "collapsed": true
   },
   "outputs": [],
   "source": [
    "# new_list = []\n",
    "\n",
    "# def make_datetime(a, b)\n",
    "#     for i in range(len(a)):\n",
    "#         try:\n",
    "#             return dt.datetime.combine(a[i], b[i]))\n",
    "#         except TypeError:    \n",
    "#             return None\n",
    "\n",
    "# df['datetime'] = pd.Series(new_list)\n",
    "\n",
    "# # df['datetime'] = dt.datetime.combine(idx.date, idx2.time)"
   ]
  },
  {
   "cell_type": "markdown",
   "metadata": {},
   "source": [
    "### Export cleaned data to reference later"
   ]
  },
  {
   "cell_type": "code",
   "execution_count": 47,
   "metadata": {
    "collapsed": true
   },
   "outputs": [],
   "source": [
    "df.to_csv('citation-data-clean.csv', index=False)\n",
    "\n",
    "# READ IT IN USING\n",
    "# df = pd.read_csv('citation-data-clean.csv')"
   ]
  },
  {
   "cell_type": "markdown",
   "metadata": {},
   "source": [
    "## Step 4: Exploratory analysis\n",
    "\n",
    "[[ go back to the top ]](#Table-of-Contents)\n",
    "\n",
    "Exploratory analysis is the step where we start delving deeper into the data set beyond the outliers and errors. We'll be looking to answer questions such as:\n",
    "\n",
    "* How is my data distributed?\n",
    "\n",
    "* Are there any correlations in my data?\n",
    "\n",
    "* Are there any confounding factors that explain these correlations?\n",
    "\n",
    "Charts for internal use.  Save figures with `plt.savefig(\"image.png\")`."
   ]
  },
  {
   "cell_type": "code",
   "execution_count": 24,
   "metadata": {},
   "outputs": [
    {
     "name": "stdout",
     "output_type": "stream",
     "text": [
      "Total number of citations: 326625\n",
      "Data retention after null omission: 86.67%\n",
      "Total days: 365\n"
     ]
    }
   ],
   "source": [
    "geolocated = df.copy()\n",
    "geolocated.dropna(inplace=True)\n",
    "print('Total number of citations: {}'.format(df.shape[0]))\n",
    "print('Data retention after null omission: {:.2f}%'.format(100*geolocated.shape[0]/df.shape[0]))\n",
    "\n",
    "total_days = (max(idx) - min(idx)).days\n",
    "print('Total days:', total_days)\n",
    "\n",
    "# I'm only dropping data here for convenience, keeping only fully completed records results in 86% data retention (a 9% data loss).  Eventually, we want to better reconcile null values."
   ]
  },
  {
   "cell_type": "code",
   "execution_count": 25,
   "metadata": {},
   "outputs": [
    {
     "data": {
      "text/html": [
       "<div>\n",
       "<style>\n",
       "    .dataframe thead tr:only-child th {\n",
       "        text-align: right;\n",
       "    }\n",
       "\n",
       "    .dataframe thead th {\n",
       "        text-align: left;\n",
       "    }\n",
       "\n",
       "    .dataframe tbody tr th {\n",
       "        vertical-align: top;\n",
       "    }\n",
       "</style>\n",
       "<table border=\"1\" class=\"dataframe\">\n",
       "  <thead>\n",
       "    <tr style=\"text-align: right;\">\n",
       "      <th></th>\n",
       "      <th>citation_address</th>\n",
       "      <th>violation_external_code</th>\n",
       "      <th>violation_desc_long</th>\n",
       "      <th>badge_#</th>\n",
       "      <th>match</th>\n",
       "      <th>full_zipcode</th>\n",
       "      <th>notes</th>\n",
       "      <th>county_name</th>\n",
       "      <th>zone</th>\n",
       "    </tr>\n",
       "  </thead>\n",
       "  <tbody>\n",
       "    <tr>\n",
       "      <th>count</th>\n",
       "      <td>326625</td>\n",
       "      <td>326625</td>\n",
       "      <td>326625</td>\n",
       "      <td>326625</td>\n",
       "      <td>326625</td>\n",
       "      <td>283168</td>\n",
       "      <td>326620</td>\n",
       "      <td>326625</td>\n",
       "      <td>326625</td>\n",
       "    </tr>\n",
       "    <tr>\n",
       "      <th>unique</th>\n",
       "      <td>84209</td>\n",
       "      <td>88</td>\n",
       "      <td>79</td>\n",
       "      <td>656</td>\n",
       "      <td>4</td>\n",
       "      <td>17043</td>\n",
       "      <td>57</td>\n",
       "      <td>1</td>\n",
       "      <td>3</td>\n",
       "    </tr>\n",
       "    <tr>\n",
       "      <th>top</th>\n",
       "      <td>1 airport drive, Oakland, CA</td>\n",
       "      <td>10.28.240</td>\n",
       "      <td>NO PARK CERTAIN HRS</td>\n",
       "      <td>11</td>\n",
       "      <td>Match-Mailable</td>\n",
       "      <td>94621-1430</td>\n",
       "      <td>Standardized, Matched street and city and stat...</td>\n",
       "      <td>Alameda</td>\n",
       "      <td>Residential</td>\n",
       "    </tr>\n",
       "    <tr>\n",
       "      <th>freq</th>\n",
       "      <td>2138</td>\n",
       "      <td>174891</td>\n",
       "      <td>174891</td>\n",
       "      <td>12316</td>\n",
       "      <td>193064</td>\n",
       "      <td>2294</td>\n",
       "      <td>130938</td>\n",
       "      <td>326625</td>\n",
       "      <td>135480</td>\n",
       "    </tr>\n",
       "  </tbody>\n",
       "</table>\n",
       "</div>"
      ],
      "text/plain": [
       "                    citation_address violation_external_code  \\\n",
       "count                         326625                  326625   \n",
       "unique                         84209                      88   \n",
       "top     1 airport drive, Oakland, CA               10.28.240   \n",
       "freq                            2138                  174891   \n",
       "\n",
       "        violation_desc_long badge_#           match full_zipcode  \\\n",
       "count                326625  326625          326625       283168   \n",
       "unique                   79     656               4        17043   \n",
       "top     NO PARK CERTAIN HRS      11  Match-Mailable   94621-1430   \n",
       "freq                 174891   12316          193064         2294   \n",
       "\n",
       "                                                    notes county_name  \\\n",
       "count                                              326620      326625   \n",
       "unique                                                 57           1   \n",
       "top     Standardized, Matched street and city and stat...     Alameda   \n",
       "freq                                               130938      326625   \n",
       "\n",
       "               zone  \n",
       "count        326625  \n",
       "unique            3  \n",
       "top     Residential  \n",
       "freq         135480  "
      ]
     },
     "execution_count": 25,
     "metadata": {},
     "output_type": "execute_result"
    }
   ],
   "source": [
    "df.describe(include=['object'])"
   ]
  },
  {
   "cell_type": "code",
   "execution_count": 26,
   "metadata": {},
   "outputs": [
    {
     "data": {
      "text/html": [
       "<div>\n",
       "<style>\n",
       "    .dataframe thead tr:only-child th {\n",
       "        text-align: right;\n",
       "    }\n",
       "\n",
       "    .dataframe thead th {\n",
       "        text-align: left;\n",
       "    }\n",
       "\n",
       "    .dataframe tbody tr th {\n",
       "        vertical-align: top;\n",
       "    }\n",
       "</style>\n",
       "<table border=\"1\" class=\"dataframe\">\n",
       "  <thead>\n",
       "    <tr style=\"text-align: right;\">\n",
       "      <th></th>\n",
       "      <th>fine_amount</th>\n",
       "      <th>latitude</th>\n",
       "      <th>longitude</th>\n",
       "    </tr>\n",
       "  </thead>\n",
       "  <tbody>\n",
       "    <tr>\n",
       "      <th>count</th>\n",
       "      <td>326530.000000</td>\n",
       "      <td>283168.000000</td>\n",
       "      <td>283168.000000</td>\n",
       "    </tr>\n",
       "    <tr>\n",
       "      <th>mean</th>\n",
       "      <td>70.423113</td>\n",
       "      <td>37.800105</td>\n",
       "      <td>-122.242684</td>\n",
       "    </tr>\n",
       "    <tr>\n",
       "      <th>std</th>\n",
       "      <td>30.091706</td>\n",
       "      <td>0.026047</td>\n",
       "      <td>0.034600</td>\n",
       "    </tr>\n",
       "    <tr>\n",
       "      <th>min</th>\n",
       "      <td>38.000000</td>\n",
       "      <td>37.697440</td>\n",
       "      <td>-122.525980</td>\n",
       "    </tr>\n",
       "    <tr>\n",
       "      <th>25%</th>\n",
       "      <td>66.000000</td>\n",
       "      <td>37.787110</td>\n",
       "      <td>-122.268020</td>\n",
       "    </tr>\n",
       "    <tr>\n",
       "      <th>50%</th>\n",
       "      <td>66.000000</td>\n",
       "      <td>37.803140</td>\n",
       "      <td>-122.253010</td>\n",
       "    </tr>\n",
       "    <tr>\n",
       "      <th>75%</th>\n",
       "      <td>66.000000</td>\n",
       "      <td>37.816020</td>\n",
       "      <td>-122.220350</td>\n",
       "    </tr>\n",
       "    <tr>\n",
       "      <th>max</th>\n",
       "      <td>513.000000</td>\n",
       "      <td>37.966270</td>\n",
       "      <td>-121.413830</td>\n",
       "    </tr>\n",
       "  </tbody>\n",
       "</table>\n",
       "</div>"
      ],
      "text/plain": [
       "         fine_amount       latitude      longitude\n",
       "count  326530.000000  283168.000000  283168.000000\n",
       "mean       70.423113      37.800105    -122.242684\n",
       "std        30.091706       0.026047       0.034600\n",
       "min        38.000000      37.697440    -122.525980\n",
       "25%        66.000000      37.787110    -122.268020\n",
       "50%        66.000000      37.803140    -122.253010\n",
       "75%        66.000000      37.816020    -122.220350\n",
       "max       513.000000      37.966270    -121.413830"
      ]
     },
     "execution_count": 26,
     "metadata": {},
     "output_type": "execute_result"
    }
   ],
   "source": [
    "df.describe(include=['float'])"
   ]
  },
  {
   "cell_type": "code",
   "execution_count": 27,
   "metadata": {},
   "outputs": [
    {
     "data": {
      "text/html": [
       "<div>\n",
       "<style>\n",
       "    .dataframe thead tr:only-child th {\n",
       "        text-align: right;\n",
       "    }\n",
       "\n",
       "    .dataframe thead th {\n",
       "        text-align: left;\n",
       "    }\n",
       "\n",
       "    .dataframe tbody tr th {\n",
       "        vertical-align: top;\n",
       "    }\n",
       "</style>\n",
       "<table border=\"1\" class=\"dataframe\">\n",
       "  <thead>\n",
       "    <tr style=\"text-align: right;\">\n",
       "      <th></th>\n",
       "      <th>ticket_issue_date</th>\n",
       "      <th>ticket_issue_time</th>\n",
       "    </tr>\n",
       "  </thead>\n",
       "  <tbody>\n",
       "    <tr>\n",
       "      <th>count</th>\n",
       "      <td>326625</td>\n",
       "      <td>326607</td>\n",
       "    </tr>\n",
       "    <tr>\n",
       "      <th>unique</th>\n",
       "      <td>366</td>\n",
       "      <td>1432</td>\n",
       "    </tr>\n",
       "    <tr>\n",
       "      <th>top</th>\n",
       "      <td>2016-03-14 00:00:00</td>\n",
       "      <td>2017-10-03 12:53:00</td>\n",
       "    </tr>\n",
       "    <tr>\n",
       "      <th>freq</th>\n",
       "      <td>1976</td>\n",
       "      <td>1137</td>\n",
       "    </tr>\n",
       "    <tr>\n",
       "      <th>first</th>\n",
       "      <td>2016-01-01 00:00:00</td>\n",
       "      <td>2017-10-03 00:01:00</td>\n",
       "    </tr>\n",
       "    <tr>\n",
       "      <th>last</th>\n",
       "      <td>2016-12-31 00:00:00</td>\n",
       "      <td>2017-10-03 23:59:00</td>\n",
       "    </tr>\n",
       "  </tbody>\n",
       "</table>\n",
       "</div>"
      ],
      "text/plain": [
       "          ticket_issue_date    ticket_issue_time\n",
       "count                326625               326607\n",
       "unique                  366                 1432\n",
       "top     2016-03-14 00:00:00  2017-10-03 12:53:00\n",
       "freq                   1976                 1137\n",
       "first   2016-01-01 00:00:00  2017-10-03 00:01:00\n",
       "last    2016-12-31 00:00:00  2017-10-03 23:59:00"
      ]
     },
     "execution_count": 27,
     "metadata": {},
     "output_type": "execute_result"
    }
   ],
   "source": [
    "df.describe(include=['datetime'])"
   ]
  },
  {
   "cell_type": "markdown",
   "metadata": {},
   "source": [
    "### Citations by Violation"
   ]
  },
  {
   "cell_type": "code",
   "execution_count": 56,
   "metadata": {},
   "outputs": [
    {
     "data": {
      "image/png": "[encoded data removed]",
      "text/plain": [
       "<matplotlib.figure.Figure at 0x131bafba8>"
      ]
     },
     "metadata": {},
     "output_type": "display_data"
    }
   ],
   "source": [
    "# Common citation violations from parking during certain hours and expired meters\n",
    "fig = df['violation_desc_long'].value_counts()[:10].plot('barh') #title='Top Citations by Violation')\n",
    "\n",
    "plt.savefig(\"by_violation_desc.png\")"
   ]
  },
  {
   "cell_type": "code",
   "execution_count": 29,
   "metadata": {
    "collapsed": true
   },
   "outputs": [],
   "source": [
    "hrs_violation = df[df['violation_desc_long']=='NO PARK CERTAIN HRS']\n",
    "meter_violation = df[df['violation_desc_long']=='EXPIRED METER']\n",
    "display_violation = df[df['violation_desc_long']=='NON DISP PKG RECEIPT']\n",
    "red_zone_violation = df[df['violation_desc_long']=='NO PARKING RED ZONE']\n",
    "resi_violation = df[df['violation_desc_long']=='RESIDENTIAL PARKING']"
   ]
  },
  {
   "cell_type": "code",
   "execution_count": 30,
   "metadata": {},
   "outputs": [
    {
     "name": "stdout",
     "output_type": "stream",
     "text": [
      "Num of citations,  Cost of Citations\n",
      "174891 [66.0, 73.0, 83.0]\n",
      "36214 [ 58.]\n",
      "25656 [ 58.]\n",
      "16659 [66.0, 83.0, 126.0, 156.0, 171.0]\n",
      "11296 [ 83.]\n"
     ]
    }
   ],
   "source": [
    "print('Num of citations, ','Cost of Citations')\n",
    "print(len(hrs_violation.fine_amount), sorted(hrs_violation.fine_amount.unique()))\n",
    "print(len(meter_violation.fine_amount), meter_violation.fine_amount.unique())\n",
    "print(len(display_violation.fine_amount), display_violation.fine_amount.unique())\n",
    "print(len(red_zone_violation.fine_amount), sorted(red_zone_violation.fine_amount.unique()))\n",
    "print(len(resi_violation.fine_amount), resi_violation.fine_amount.unique())"
   ]
  },
  {
   "cell_type": "markdown",
   "metadata": {},
   "source": [
    "### Officer Citations"
   ]
  },
  {
   "cell_type": "code",
   "execution_count": 31,
   "metadata": {},
   "outputs": [
    {
     "name": "stdout",
     "output_type": "stream",
     "text": [
      "656 individual traffic officers.\n"
     ]
    }
   ],
   "source": [
    "print(len(df['badge_#'].unique()), 'individual traffic officers.')"
   ]
  },
  {
   "cell_type": "code",
   "execution_count": 32,
   "metadata": {},
   "outputs": [
    {
     "data": {
      "image/png": "[encoded data removed]",
      "text/plain": [
       "<matplotlib.figure.Figure at 0x1198d9eb8>"
      ]
     },
     "metadata": {},
     "output_type": "display_data"
    }
   ],
   "source": [
    "officer_citations = pd.DataFrame(df['badge_#'].value_counts())\n",
    "\n",
    "fig2 = officer_citations['badge_#'][:10].plot('barh', title='Top Citations by Officer Badge Number')\n",
    "\n",
    "# rects = ax.patches\n",
    "\n",
    "# # Now make some labels\n",
    "# labels = [\"label%d\" % i for i in range(len(rects))]\n",
    "\n",
    "# for rect, label in zip(rects, labels):\n",
    "#     height = rect.get_height()\n",
    "#     ax.text(rect.get_x() + rect.get_width()/2, height + 5, label, ha='center', va='bottom')"
   ]
  },
  {
   "cell_type": "code",
   "execution_count": 33,
   "metadata": {},
   "outputs": [
    {
     "name": "stdout",
     "output_type": "stream",
     "text": [
      "Legend for the above:\n",
      " 11     12316\n",
      "51     10426\n",
      "43     10118\n",
      "340    10091\n",
      "5       9519\n",
      "305     7811\n",
      "42      7437\n",
      "1       7229\n",
      "325     7222\n",
      "37      6960\n",
      "Name: badge_#, dtype: int64\n"
     ]
    }
   ],
   "source": [
    "print('Legend for the above:\\n', officer_citations['badge_#'][:10])"
   ]
  },
  {
   "cell_type": "code",
   "execution_count": 34,
   "metadata": {
    "collapsed": true
   },
   "outputs": [],
   "source": [
    "def describe(df, col):\n",
    "    desc = df[col].describe()\n",
    "    # change the 50% index to median\n",
    "    idx = desc.index.tolist()\n",
    "    idx[5] = 'median'\n",
    "    desc.index = idx\n",
    "    return desc"
   ]
  },
  {
   "cell_type": "code",
   "execution_count": 35,
   "metadata": {},
   "outputs": [
    {
     "data": {
      "text/plain": [
       "count       656.000000\n",
       "mean        497.903963\n",
       "std        1616.963271\n",
       "min           1.000000\n",
       "25%           1.000000\n",
       "median        2.000000\n",
       "75%          14.000000\n",
       "max       12316.000000\n",
       "Name: badge_#, dtype: float64"
      ]
     },
     "execution_count": 35,
     "metadata": {},
     "output_type": "execute_result"
    }
   ],
   "source": [
    "describe(officer_citations, 'badge_#')"
   ]
  },
  {
   "cell_type": "code",
   "execution_count": 36,
   "metadata": {},
   "outputs": [
    {
     "data": {
      "text/plain": [
       "<matplotlib.axes._subplots.AxesSubplot at 0x1126b4400>"
      ]
     },
     "execution_count": 36,
     "metadata": {},
     "output_type": "execute_result"
    },
    {
     "data": {
      "image/png": "[encoded data removed]",
      "text/plain": [
       "<matplotlib.figure.Figure at 0x1173395c0>"
      ]
     },
     "metadata": {},
     "output_type": "display_data"
    }
   ],
   "source": [
    "# Officer citations are wayyy skewed\n",
    "sns.countplot(x='badge_#', data=df)"
   ]
  },
  {
   "cell_type": "code",
   "execution_count": 49,
   "metadata": {
    "collapsed": true
   },
   "outputs": [],
   "source": [
    "test = officer_citations[officer_citations['badge_#'] > 2000]"
   ]
  },
  {
   "cell_type": "code",
   "execution_count": 53,
   "metadata": {},
   "outputs": [
    {
     "data": {
      "text/plain": [
       "(0.09298780487804878, 0.94515422885572142)"
      ]
     },
     "execution_count": 53,
     "metadata": {},
     "output_type": "execute_result"
    }
   ],
   "source": [
    "61 / 656, sum(test['badge_#']) / 326625"
   ]
  },
  {
   "cell_type": "code",
   "execution_count": 37,
   "metadata": {},
   "outputs": [
    {
     "name": "stdout",
     "output_type": "stream",
     "text": [
      "97.5th quantile:  57.25\n",
      "Two standard deviations above the median, and the cutoff income is $175,000\n"
     ]
    }
   ],
   "source": [
    "print('97.5th quantile: ', officer_citations['badge_#'].quantile(0.85))\n",
    "print('Two standard deviations above the median, and the cutoff income is $175,000')"
   ]
  },
  {
   "cell_type": "markdown",
   "metadata": {},
   "source": [
    "### Citations by Zone"
   ]
  },
  {
   "cell_type": "code",
   "execution_count": 38,
   "metadata": {},
   "outputs": [
    {
     "name": "stdout",
     "output_type": "stream",
     "text": [
      "The percentage of citations in residential areas: 41.48 % of 326625 observations.\n",
      "The percentage of citations in residential areas: 30.92 %\n",
      "The percentage of citations in unknown areas: 27.60 %\n",
      "We have geolocation data (lat, long, zone, county, fullzip) for 72.40 % of the data.\n"
     ]
    }
   ],
   "source": [
    "zoneinfo = df.zone.value_counts()\n",
    "\n",
    "print('The percentage of citations in residential areas: {:.2f} % of {} observations.'.format((100*zoneinfo[0] / df.shape[0]), df.shape[0]))\n",
    "print('The percentage of citations in residential areas: {:.2f} %'\n",
    "      .format(100*zoneinfo[1] / df.shape[0]))\n",
    "print('The percentage of citations in unknown areas: {:.2f} %'\n",
    "      .format(100*zoneinfo[2] / df.shape[0]))\n",
    "print('We have geolocation data (lat, long, zone, county, fullzip) for {:.2f} % of the data.'\n",
    "      .format(100*(zoneinfo[1] + zoneinfo[0])  / df.shape[0]))"
   ]
  },
  {
   "cell_type": "code",
   "execution_count": 39,
   "metadata": {},
   "outputs": [
    {
     "data": {
      "image/png": "[encoded data removed]",
      "text/plain": [
       "<matplotlib.figure.Figure at 0x11a83ee10>"
      ]
     },
     "metadata": {},
     "output_type": "display_data"
    }
   ],
   "source": [
    "# Common citation violations in residential over commercial areas\n",
    "fig3 = df['zone'].value_counts().plot('barh', title='Citations by Zone Category')"
   ]
  },
  {
   "cell_type": "code",
   "execution_count": 40,
   "metadata": {},
   "outputs": [
    {
     "data": {
      "text/plain": [
       "Residential    135480\n",
       "Unknown        100986\n",
       "Commercial      90159\n",
       "Name: zone, dtype: int64"
      ]
     },
     "execution_count": 40,
     "metadata": {},
     "output_type": "execute_result"
    }
   ],
   "source": [
    "df['zone'].value_counts()"
   ]
  },
  {
   "cell_type": "markdown",
   "metadata": {},
   "source": [
    "### Findings\n",
    "1.  '1 airport drive' is the number 1 location for citations, receiving 2138 in 2016.\n",
    "2. 174891 'No parking during certain hours' violations (\\$66 - \\$83) are the most common (Code 10.28.240).\n",
    "   - Reasons could include: easiest to cite, poor signage, lack of sufficient (free) residential parking (so residents park on the street).\n",
    "   - Other top violations:\n",
    "       - 174891 'No parking during certain hours' violations (\\$66 - \\$83)\n",
    "       - 36214 expired meter parking citations (\\$58)\n",
    "       - 25656 non-display of parking receipt (\\$58)\n",
    "       - 16659 red zone parking (\\$66 - \\$171)\n",
    "       - 11296 residential parking violations (\\$83)\n",
    "3. Officer 11 issues the most citations, nearly 2000 more than their.  You had to issue more than 6960 citations in 2016 to land in the top 10.\n",
    "   - The force is clearly partitioned into those who regularly issue parking citations, and those who clearly don't.\n",
    "   - According to the 5-number summary, 75% of the force issues less than 14 citations.\n",
    "   - Only 97 officers issue more than 60 citations/yr\n",
    "   - Only 61 officers issue more than 2000 citations/yr\n",
    "   - 9\\% (61) of the officers issue 95% (308,711) of the citations.\n",
    "   - Reasons could include: enforcement abuse, erroneous enforcement, recurring offenders along similar routes, high density of violations (i.e. airport, parking garages, event parking areas, etc.)\n",
    "4. Most citations occurred in residential areas (135,480).  There were 100,986 citations in unknown areas, and 90,159 citations in commercial areas.\n",
    "   - Reasons could include: citations are happening in the dead of night, people forget to move their cars in the daytime \n",
    "   \n",
    "***Need to clean up the timeseries data to be sure***\n",
    "   "
   ]
  },
  {
   "cell_type": "markdown",
   "metadata": {},
   "source": [
    "# TO DO\n",
    "\n",
    "Investigate:\n",
    "- geographic distribution of violations\n",
    "- time pattern of violations in oakland\n",
    "- transform the datetime objects\n",
    "  - consolidate dates\n",
    "  - consolidate and transform times\n",
    "- investigate time of day questions\n",
    "- upload to anaconda cloud\n",
    "- import into tableau\n",
    "- work on **presentation slide deck for tonight!!!**\n",
    "\n",
    "at cfa:\n",
    "- upload to github\n",
    "- get feedback on presentation"
   ]
  },
  {
   "cell_type": "markdown",
   "metadata": {},
   "source": [
    "## [IN PROGRESS] Step 5: Data Visualization\n",
    "[[ go back to the top ]](#Table-of-Contents)\n",
    "\n",
    "- Tableau!  Or plotly...\n",
    "- Edit: Definitely going with Tableau Public.  Plotly has to pay and has a limit of API limit calls\n",
    "- Maybe we'll even ship a d3 vis once we replicate this on all the data.\n",
    "- inspiration: usaspending.gov"
   ]
  },
  {
   "cell_type": "markdown",
   "metadata": {},
   "source": [
    "### These don't work...yet"
   ]
  },
  {
   "cell_type": "code",
   "execution_count": null,
   "metadata": {
    "collapsed": true
   },
   "outputs": [],
   "source": [
    "# pandas_profiling.ProfileReport(df)"
   ]
  },
  {
   "cell_type": "code",
   "execution_count": null,
   "metadata": {
    "collapsed": true
   },
   "outputs": [],
   "source": [
    "# this probably isn't the right plot...\n",
    "# sns.pairplot(df['violation_desc_long', 'fine_amount', hue='zone')"
   ]
  },
  {
   "cell_type": "code",
   "execution_count": null,
   "metadata": {
    "collapsed": true
   },
   "outputs": [],
   "source": []
  }
 ],
 "metadata": {
  "kernelspec": {
   "display_name": "Python 3",
   "language": "python",
   "name": "python3"
  },
  "language_info": {
   "codemirror_mode": {
    "name": "ipython",
    "version": 3
   },
   "file_extension": ".py",
   "mimetype": "text/x-python",
   "name": "python",
   "nbconvert_exporter": "python",
   "pygments_lexer": "ipython3",
   "version": "3.6.3"
  },
  "toc": {
   "colors": {
    "hover_highlight": "#DAA520",
    "running_highlight": "#FF0000",
    "selected_highlight": "#FFD700"
   },
   "moveMenuLeft": true,
   "nav_menu": {
    "height": "13px",
    "width": "253px"
   },
   "navigate_menu": true,
   "number_sections": true,
   "sideBar": true,
   "threshold": "3",
   "toc_cell": true,
   "toc_position": {
    "height": "869px",
    "left": "0px",
    "right": "1064px",
    "top": "106px",
    "width": "213px"
   },
   "toc_section_display": "block",
   "toc_window_display": true,
   "widenNotebook": false
  }
 },
 "nbformat": 4,
 "nbformat_minor": 2
}
