{
  "metadata": {
    "kernelspec": {
      "language": "python",
      "display_name": "Python 3",
      "name": "python3"
    },
    "language_info": {
      "pygments_lexer": "ipython3",
      "nbconvert_exporter": "python",
      "version": "3.6.4",
      "file_extension": ".py",
      "codemirror_mode": {
        "name": "ipython",
        "version": 3
      },
      "name": "python",
      "mimetype": "text/x-python"
    },
    "kaggle": {
      "accelerator": "none",
      "dataSources": [
        {
          "sourceId": 16290,
          "sourceType": "datasetVersion",
          "datasetId": 11827
        }
      ],
      "dockerImageVersionId": 29955,
      "isInternetEnabled": false,
      "language": "python",
      "sourceType": "notebook",
      "isGpuEnabled": false
    },
    "colab": {
      "provenance": [],
      "include_colab_link": true
    }
  },
  "nbformat_minor": 0,
  "nbformat": 4,
  "cells": [
    {
      "cell_type": "markdown",
      "metadata": {
        "id": "view-in-github",
        "colab_type": "text"
      },
      "source": [
        "<a href=\"https://colab.research.google.com/github/Jayshree2003/Catchy/blob/main/women_clothing_reviews.ipynb\" target=\"_parent\"><img src=\"https://colab.research.google.com/assets/colab-badge.svg\" alt=\"Open In Colab\"/></a>"
      ]
    },
    {
      "cell_type": "markdown",
      "source": [
        "# <center> Text Classification with womens-clothing-reviews data set</center>"
      ],
      "metadata": {
        "id": "LPKISAAWKJaY"
      }
    },
    {
      "cell_type": "markdown",
      "source": [
        "I am very glad to welcome you all to my notebook, In this notebook I'm going to work on a text classification problem. The problem is described as **'Given Review about clothing on E-commerce predict whether the custoomer will recommed it to her friends or not'...**<br/><br/>\n",
        "I need to mention one thing I'm new to Machine Learning with text and I have used very easy and effective approaches to solve this problem. I have done some data analysis, data visualizations then finally build both machine learning and deep learning models.\n",
        "It's time to jump on the process but before that I will mention the Workflow:<br/><br/>\n",
        "**1)Loading the data<br/>\n",
        "2)Handling Missing Values<br/>\n",
        "3)Cleaning the data<br/>\n",
        "4)Data Analysis and Visualization<br/>\n",
        "5)Handling MultiColinearity<br/>\n",
        "6)Tokenisation+stemming+corpus creation<br/>\n",
        "7)Buidling ML model using Bag of words<br/>\n",
        "8)Building ML model using Tf-Idf Vectoriztion<br/>\n",
        "9)Deep Learning Model with Embeddings<br/>\n",
        "10)Checking the model with new example**"
      ],
      "metadata": {
        "id": "2etvc5Z0KJaa"
      }
    },
    {
      "cell_type": "code",
      "source": [
        "import numpy as np\n",
        "import pandas as pd\n",
        "import os\n",
        "for dirname, _, filenames in os.walk('/kaggle/input'):\n",
        "    for filename in filenames:\n",
        "        print(os.path.join(dirname, filename))"
      ],
      "metadata": {
        "_uuid": "8f2839f25d086af736a60e9eeb907d3b93b6e0e5",
        "_cell_guid": "b1076dfc-b9ad-4769-8c92-a6c4dae69d19",
        "trusted": true,
        "id": "PbQPy1kCKJab"
      },
      "execution_count": null,
      "outputs": []
    },
    {
      "cell_type": "markdown",
      "source": [
        "# Loading the Data"
      ],
      "metadata": {
        "id": "M6-6JTKiKJab"
      }
    },
    {
      "cell_type": "code",
      "source": [
        "data = pd.read_csv('/kaggle/input/womens-ecommerce-clothing-reviews/Womens Clothing E-Commerce Reviews.csv',index_col =[0])"
      ],
      "metadata": {
        "_uuid": "d629ff2d2480ee46fbb7e2d37f6b5fab8052498a",
        "_cell_guid": "79c7e3d0-c299-4dcb-8224-4455121ee9b0",
        "trusted": true,
        "id": "ZBACwF40KJac"
      },
      "execution_count": null,
      "outputs": []
    },
    {
      "cell_type": "code",
      "source": [
        "data.head(2)"
      ],
      "metadata": {
        "trusted": true,
        "id": "TMolRFOnKJac"
      },
      "execution_count": null,
      "outputs": []
    },
    {
      "cell_type": "code",
      "source": [
        "data.shape"
      ],
      "metadata": {
        "trusted": true,
        "id": "8Exdb0etKJac"
      },
      "execution_count": null,
      "outputs": []
    },
    {
      "cell_type": "markdown",
      "source": [
        "# Checking For Missing Values and Handling it"
      ],
      "metadata": {
        "id": "C3q7FumDKJad"
      }
    },
    {
      "cell_type": "code",
      "source": [
        "data.isnull().sum()/len(data)*100"
      ],
      "metadata": {
        "trusted": true,
        "id": "A9Pwl7EeKJad"
      },
      "execution_count": null,
      "outputs": []
    },
    {
      "cell_type": "code",
      "source": [
        "data.info()"
      ],
      "metadata": {
        "trusted": true,
        "id": "HAhPX0Y6KJad"
      },
      "execution_count": null,
      "outputs": []
    },
    {
      "cell_type": "code",
      "source": [
        "data.drop(labels =['Clothing ID','Title'],axis = 1,inplace = True) #Dropping unwanted columns"
      ],
      "metadata": {
        "trusted": true,
        "id": "4wCvef-TKJad"
      },
      "execution_count": null,
      "outputs": []
    },
    {
      "cell_type": "code",
      "source": [
        "data[data['Review Text'].isnull()]"
      ],
      "metadata": {
        "trusted": true,
        "id": "vU9n2vp7KJae"
      },
      "execution_count": null,
      "outputs": []
    },
    {
      "cell_type": "code",
      "source": [
        "data = data[~data['Review Text'].isnull()]  #Dropping columns which don't have any review"
      ],
      "metadata": {
        "trusted": true,
        "id": "3saoIMSHKJae"
      },
      "execution_count": null,
      "outputs": []
    },
    {
      "cell_type": "code",
      "source": [
        "data.shape"
      ],
      "metadata": {
        "trusted": true,
        "id": "TpQiW5PEKJae"
      },
      "execution_count": null,
      "outputs": []
    },
    {
      "cell_type": "markdown",
      "source": [
        "# Data Analysis and Visualization"
      ],
      "metadata": {
        "id": "TItwVeInKJae"
      }
    },
    {
      "cell_type": "code",
      "source": [
        "import plotly.express as px"
      ],
      "metadata": {
        "trusted": true,
        "id": "osfkE3XtKJae"
      },
      "execution_count": null,
      "outputs": []
    },
    {
      "cell_type": "code",
      "source": [
        "px.histogram(data, x = 'Age')"
      ],
      "metadata": {
        "trusted": true,
        "id": "QXBQZE9hKJae"
      },
      "execution_count": null,
      "outputs": []
    },
    {
      "cell_type": "code",
      "source": [
        "px.histogram(data, x = data['Rating'])"
      ],
      "metadata": {
        "trusted": true,
        "id": "M_g8RvSMKJae"
      },
      "execution_count": null,
      "outputs": []
    },
    {
      "cell_type": "code",
      "source": [
        "px.histogram(data, x = data['Class Name'])"
      ],
      "metadata": {
        "trusted": true,
        "id": "SVDLsvfRKJaf"
      },
      "execution_count": null,
      "outputs": []
    },
    {
      "cell_type": "code",
      "source": [
        "px.scatter(data, x=\"Age\", y=\"Positive Feedback Count\", facet_row=\"Recommended IND\", facet_col=\"Rating\",trendline=\"ols\",category_orders={\"Rating\": [1,2,3,4,5],'Recommended IND':[0,1]})"
      ],
      "metadata": {
        "trusted": true,
        "id": "M1pdHyN3KJaf"
      },
      "execution_count": null,
      "outputs": []
    },
    {
      "cell_type": "code",
      "source": [
        "px.violin(data, x=\"Age\", y=\"Department Name\", orientation=\"h\", color=\"Recommended IND\")"
      ],
      "metadata": {
        "trusted": true,
        "id": "vbGno6nEKJaf"
      },
      "execution_count": null,
      "outputs": []
    },
    {
      "cell_type": "code",
      "source": [
        "px.box(data, x=\"Age\", y=\"Division Name\", orientation=\"h\",color = 'Recommended IND')"
      ],
      "metadata": {
        "trusted": true,
        "id": "EZ4d-nlHKJaf"
      },
      "execution_count": null,
      "outputs": []
    },
    {
      "cell_type": "markdown",
      "source": [
        "# Cleaning the Text Data"
      ],
      "metadata": {
        "id": "plRTiJY8KJaf"
      }
    },
    {
      "cell_type": "code",
      "source": [
        "err1 = data['Review Text'].str.extractall(\"(&amp)\")\n",
        "err2 = data['Review Text'].str.extractall(\"(\\xa0)\")"
      ],
      "metadata": {
        "trusted": true,
        "id": "sS0-AYEkKJaf"
      },
      "execution_count": null,
      "outputs": []
    },
    {
      "cell_type": "code",
      "source": [
        "print('with &amp',len(err1[~err1.isna()]))\n",
        "print('with (\\xa0)',len(err2[~err2.isna()]))"
      ],
      "metadata": {
        "trusted": true,
        "id": "RsQDpIgYKJaf"
      },
      "execution_count": null,
      "outputs": []
    },
    {
      "cell_type": "code",
      "source": [
        "data['Review Text'] = data['Review Text'].str.replace('(&amp)','')\n",
        "data['Review Text'] = data['Review Text'].str.replace('(\\xa0)','')"
      ],
      "metadata": {
        "trusted": true,
        "id": "lAh9yugAKJag"
      },
      "execution_count": null,
      "outputs": []
    },
    {
      "cell_type": "code",
      "source": [
        "err1 = data['Review Text'].str.extractall(\"(&amp)\")\n",
        "print('with &amp',len(err1[~err1.isna()]))\n",
        "err2 = data['Review Text'].str.extractall(\"(\\xa0)\")\n",
        "print('with (\\xa0)',len(err2[~err2.isna()]))"
      ],
      "metadata": {
        "trusted": true,
        "id": "Gefl9eqPKJag"
      },
      "execution_count": null,
      "outputs": []
    },
    {
      "cell_type": "code",
      "source": [
        "!pip install TextBlob\n",
        "from textblob import *"
      ],
      "metadata": {
        "trusted": true,
        "id": "VocSVC5AKJag"
      },
      "execution_count": null,
      "outputs": []
    },
    {
      "cell_type": "code",
      "source": [
        "data['polarity'] = data['Review Text'].map(lambda text: TextBlob(text).sentiment.polarity)"
      ],
      "metadata": {
        "trusted": true,
        "id": "0GOiiVLzKJag"
      },
      "execution_count": null,
      "outputs": []
    },
    {
      "cell_type": "code",
      "source": [
        "data['polarity']"
      ],
      "metadata": {
        "trusted": true,
        "id": "ndrbwe8jKJag"
      },
      "execution_count": null,
      "outputs": []
    },
    {
      "cell_type": "code",
      "source": [
        "px.histogram(data, x = 'polarity')"
      ],
      "metadata": {
        "trusted": true,
        "id": "eZDqwfKlKJag"
      },
      "execution_count": null,
      "outputs": []
    },
    {
      "cell_type": "code",
      "source": [
        "px.box(data, y=\"polarity\", x=\"Department Name\", orientation=\"v\",color = 'Recommended IND')"
      ],
      "metadata": {
        "trusted": true,
        "id": "gfiULPKOKJag"
      },
      "execution_count": null,
      "outputs": []
    },
    {
      "cell_type": "code",
      "source": [
        "data['review_len'] = data['Review Text'].astype(str).apply(len)"
      ],
      "metadata": {
        "trusted": true,
        "id": "gxPS9BQGKJah"
      },
      "execution_count": null,
      "outputs": []
    },
    {
      "cell_type": "code",
      "source": [
        "px.histogram(data, x = 'review_len')"
      ],
      "metadata": {
        "trusted": true,
        "id": "rXbegQ91KJah"
      },
      "execution_count": null,
      "outputs": []
    },
    {
      "cell_type": "code",
      "source": [
        "data['token_count'] = data['Review Text'].apply(lambda x: len(str(x).split()))"
      ],
      "metadata": {
        "trusted": true,
        "id": "yzD3O3_dKJah"
      },
      "execution_count": null,
      "outputs": []
    },
    {
      "cell_type": "code",
      "source": [
        "px.histogram(data, x = 'token_count')"
      ],
      "metadata": {
        "trusted": true,
        "id": "Yioy3Hy2KJah"
      },
      "execution_count": null,
      "outputs": []
    },
    {
      "cell_type": "markdown",
      "source": [
        "# Reviews with Positive Polarity"
      ],
      "metadata": {
        "id": "f5KusuwLKJai"
      }
    },
    {
      "cell_type": "code",
      "source": [
        "sam = data.loc[data.polarity == 1,['Review Text']].sample(3).values"
      ],
      "metadata": {
        "trusted": true,
        "id": "oSjIzZTSKJai"
      },
      "execution_count": null,
      "outputs": []
    },
    {
      "cell_type": "code",
      "source": [
        "for i in sam:\n",
        "    print(i[0])"
      ],
      "metadata": {
        "trusted": true,
        "id": "gATs2ndSKJai"
      },
      "execution_count": null,
      "outputs": []
    },
    {
      "cell_type": "markdown",
      "source": [
        "# Reviews with Neutral Polarity"
      ],
      "metadata": {
        "id": "roWvWI8QKJap"
      }
    },
    {
      "cell_type": "code",
      "source": [
        "sam = data.loc[data.polarity == 0.5,['Review Text']].sample(3).values"
      ],
      "metadata": {
        "trusted": true,
        "id": "pHLgo-APKJap"
      },
      "execution_count": null,
      "outputs": []
    },
    {
      "cell_type": "code",
      "source": [
        "for i in sam:\n",
        "    print(i[0])"
      ],
      "metadata": {
        "trusted": true,
        "id": "mAI7ToRTKJap"
      },
      "execution_count": null,
      "outputs": []
    },
    {
      "cell_type": "markdown",
      "source": [
        "# Reviews with Negative Polarity"
      ],
      "metadata": {
        "id": "nK_MaIRgKJap"
      }
    },
    {
      "cell_type": "code",
      "source": [
        "sam = data.loc[data.polarity < 0,['Review Text']].sample(3).values"
      ],
      "metadata": {
        "trusted": true,
        "id": "G5gxctseKJap"
      },
      "execution_count": null,
      "outputs": []
    },
    {
      "cell_type": "code",
      "source": [
        "for i in sam:\n",
        "    print(i[0])"
      ],
      "metadata": {
        "trusted": true,
        "id": "dpcTFWrKKJap"
      },
      "execution_count": null,
      "outputs": []
    },
    {
      "cell_type": "code",
      "source": [
        "negative = (len(data.loc[data.polarity <0,['Review Text']].values)/len(data))*100\n",
        "positive = (len(data.loc[data.polarity >0.5,['Review Text']].values)/len(data))*100\n",
        "neutral  = len(data.loc[data.polarity >0 ,['Review Text']].values) - len(data.loc[data.polarity >0.5 ,['Review Text']].values)\n",
        "neutral = neutral/len(data)*100"
      ],
      "metadata": {
        "trusted": true,
        "id": "gTQMwU3rKJap"
      },
      "execution_count": null,
      "outputs": []
    },
    {
      "cell_type": "markdown",
      "source": [
        "# Pie-Chart about Polarity"
      ],
      "metadata": {
        "id": "gUCjCOErKJap"
      }
    },
    {
      "cell_type": "code",
      "source": [
        "from matplotlib import pyplot as plt\n",
        "plt.figure(figsize =(10, 7))\n",
        "plt.pie([positive,negative,neutral], labels = ['Positive','Negative','Neutral'])"
      ],
      "metadata": {
        "trusted": true,
        "id": "fmRpq_yGKJaq"
      },
      "execution_count": null,
      "outputs": []
    },
    {
      "cell_type": "code",
      "source": [
        "from sklearn.feature_extraction.text import CountVectorizer"
      ],
      "metadata": {
        "trusted": true,
        "id": "K6aXLfjnKJaq"
      },
      "execution_count": null,
      "outputs": []
    },
    {
      "cell_type": "code",
      "source": [
        "def top_n_ngram(corpus,n = None,ngram = 1):\n",
        "    vec = CountVectorizer(stop_words = 'english',ngram_range=(ngram,ngram)).fit(corpus)\n",
        "    bag_of_words = vec.transform(corpus) #Have the count of  all the words for each review\n",
        "    sum_words = bag_of_words.sum(axis =0) #Calculates the count of all the word in the whole review\n",
        "    words_freq = [(word,sum_words[0,idx]) for word,idx in vec.vocabulary_.items()]\n",
        "    words_freq = sorted(words_freq,key = lambda x:x[1],reverse = True)\n",
        "    return words_freq[:n]"
      ],
      "metadata": {
        "trusted": true,
        "id": "IQkyjpwfKJaq"
      },
      "execution_count": null,
      "outputs": []
    },
    {
      "cell_type": "markdown",
      "source": [
        "# Visualizing Top 20 Unigrams"
      ],
      "metadata": {
        "id": "ZGqTGELHKJaq"
      }
    },
    {
      "cell_type": "code",
      "source": [
        "common_words = top_n_ngram(data['Review Text'], 20,1)\n",
        "df = pd.DataFrame(common_words, columns = ['ReviewText' , 'count'])\n",
        "plt.figure(figsize =(10,5))\n",
        "df.groupby('ReviewText').sum()['count'].sort_values(ascending=False).plot(\n",
        "kind='bar', title='Top 20 unigrams in review after removing stop words')"
      ],
      "metadata": {
        "trusted": true,
        "id": "q4CcaJrlKJaq"
      },
      "execution_count": null,
      "outputs": []
    },
    {
      "cell_type": "markdown",
      "source": [
        "# Visualizing Top 20 Bigrams"
      ],
      "metadata": {
        "id": "Y0E5-MS8KJaq"
      }
    },
    {
      "cell_type": "code",
      "source": [
        "common_words = top_n_ngram(data['Review Text'], 20,2)\n",
        "df = pd.DataFrame(common_words, columns = ['ReviewText' , 'count'])\n",
        "plt.figure(figsize =(10,5))\n",
        "df.groupby('ReviewText').sum()['count'].sort_values(ascending=False).plot(\n",
        "kind='bar', title='Top 20 bigrams in review after removing stop words')"
      ],
      "metadata": {
        "trusted": true,
        "id": "Oc6KG4ilKJaq"
      },
      "execution_count": null,
      "outputs": []
    },
    {
      "cell_type": "markdown",
      "source": [
        "# Visualizing Top 20 Trigrams"
      ],
      "metadata": {
        "id": "zzZWWLP9KJaq"
      }
    },
    {
      "cell_type": "code",
      "source": [
        "common_words = top_n_ngram(data['Review Text'], 20,3)\n",
        "df = pd.DataFrame(common_words, columns = ['ReviewText' , 'count'])\n",
        "plt.figure(figsize =(10,5))\n",
        "df.groupby('ReviewText').sum()['count'].sort_values(ascending=False).plot(\n",
        "kind='bar', title='Top 20 trigrams in review after removing stop words')"
      ],
      "metadata": {
        "trusted": true,
        "id": "eGZEBLb1KJaq"
      },
      "execution_count": null,
      "outputs": []
    },
    {
      "cell_type": "markdown",
      "source": [
        "# Visualizing Top 20 Part-of-Speech"
      ],
      "metadata": {
        "id": "tVyotDU7KJaq"
      }
    },
    {
      "cell_type": "code",
      "source": [
        "blob= TextBlob(str(data['Review Text']))\n",
        "pos = pd.DataFrame(blob.tags,columns =['word','pos'])\n",
        "pos1 = pos.pos.value_counts()[:20]\n",
        "plt.figure(figsize = (10,5))\n",
        "pos1.plot(kind='bar',title ='Top 20 Part-of-speech taggings')"
      ],
      "metadata": {
        "trusted": true,
        "id": "ckvvOZmsKJaq"
      },
      "execution_count": null,
      "outputs": []
    },
    {
      "cell_type": "code",
      "source": [
        "y = data['Recommended IND']"
      ],
      "metadata": {
        "trusted": true,
        "id": "ZYarrpzSKJar"
      },
      "execution_count": null,
      "outputs": []
    },
    {
      "cell_type": "code",
      "source": [
        "X = data.drop(columns = 'Recommended IND')"
      ],
      "metadata": {
        "trusted": true,
        "id": "qBe_zaAsKJar"
      },
      "execution_count": null,
      "outputs": []
    },
    {
      "cell_type": "markdown",
      "source": [
        "# Correlation HeatMap"
      ],
      "metadata": {
        "id": "Cb6mnGdHKJar"
      }
    },
    {
      "cell_type": "code",
      "source": [
        "import seaborn as sns\n",
        "sns.heatmap(X.corr(),annot =True)"
      ],
      "metadata": {
        "trusted": true,
        "id": "YH72g8EzKJar"
      },
      "execution_count": null,
      "outputs": []
    },
    {
      "cell_type": "markdown",
      "source": [
        "# Handling Multi-Colinearity"
      ],
      "metadata": {
        "id": "3wsfF1rTKJar"
      }
    },
    {
      "cell_type": "code",
      "source": [
        "set1 =set()\n",
        "cor = X.corr()\n",
        "for i in cor.columns:\n",
        "    for j in cor.columns:\n",
        "        if cor[i][j]>0.8 and i!=j:\n",
        "            set1.add(i)\n",
        "print(set1)"
      ],
      "metadata": {
        "trusted": true,
        "id": "PIIKrOO9KJar"
      },
      "execution_count": null,
      "outputs": []
    },
    {
      "cell_type": "code",
      "source": [
        "X = X.drop(labels = ['token_count'],axis = 1)"
      ],
      "metadata": {
        "trusted": true,
        "id": "Ro8gDWO1KJar"
      },
      "execution_count": null,
      "outputs": []
    },
    {
      "cell_type": "code",
      "source": [
        "X.corr()"
      ],
      "metadata": {
        "trusted": true,
        "id": "XoA6VA0_KJar"
      },
      "execution_count": null,
      "outputs": []
    },
    {
      "cell_type": "code",
      "source": [
        "class1 =[]\n",
        "for i in X.polarity:\n",
        "    if float(i)>=0.0:\n",
        "        class1.append(1)\n",
        "    elif float(i)<0.0:\n",
        "        class1.append(0)\n",
        "X['sentiment'] = class1"
      ],
      "metadata": {
        "trusted": true,
        "id": "K6w-tCCdKJar"
      },
      "execution_count": null,
      "outputs": []
    },
    {
      "cell_type": "markdown",
      "source": [
        "# Statistical Description of Data"
      ],
      "metadata": {
        "id": "6uZnPaaxKJar"
      }
    },
    {
      "cell_type": "code",
      "source": [
        "X.groupby(X['sentiment']).describe().T"
      ],
      "metadata": {
        "trusted": true,
        "id": "Vds6SKy4KJar"
      },
      "execution_count": null,
      "outputs": []
    },
    {
      "cell_type": "markdown",
      "source": [
        "# Model Building"
      ],
      "metadata": {
        "trusted": true,
        "id": "gGyBr0IrKJar"
      }
    },
    {
      "cell_type": "code",
      "source": [
        "import nltk\n",
        "import re\n",
        "nltk.download('stopwords')\n",
        "from nltk.corpus import stopwords\n",
        "from nltk.stem.porter import PorterStemmer"
      ],
      "metadata": {
        "trusted": true,
        "id": "7k74kSo0KJas"
      },
      "execution_count": null,
      "outputs": []
    },
    {
      "cell_type": "code",
      "source": [
        "corpus =[]"
      ],
      "metadata": {
        "trusted": true,
        "id": "uvjjJm2TKJas"
      },
      "execution_count": null,
      "outputs": []
    },
    {
      "cell_type": "code",
      "source": [
        "X.index = np.arange(len(X))"
      ],
      "metadata": {
        "trusted": true,
        "id": "iYYqsKM5KJas"
      },
      "execution_count": null,
      "outputs": []
    },
    {
      "cell_type": "markdown",
      "source": [
        "# RE + Tokenizing + Stemming + Corpus Creation"
      ],
      "metadata": {
        "id": "ctTVGtTnKJas"
      }
    },
    {
      "cell_type": "code",
      "source": [
        "for i in range(len(X)):\n",
        "    review = re.sub('[^a-zA-z]',' ',X['Review Text'][i])\n",
        "    review = review.lower()\n",
        "    review = review.split()\n",
        "    ps = PorterStemmer()\n",
        "    review =[ps.stem(i) for i in review if not i in set(stopwords.words('english'))]\n",
        "    review =' '.join(review)\n",
        "    corpus.append(review)"
      ],
      "metadata": {
        "trusted": true,
        "id": "hIgf76LIKJas"
      },
      "execution_count": null,
      "outputs": []
    },
    {
      "cell_type": "markdown",
      "source": [
        "# Bag of Words Technique"
      ],
      "metadata": {
        "id": "oYV-S9uUKJas"
      }
    },
    {
      "cell_type": "markdown",
      "source": [
        "![image.png](attachment:image.png)"
      ],
      "metadata": {
        "id": "f7mNkVc4KJas"
      }
    },
    {
      "cell_type": "code",
      "source": [
        "from sklearn.feature_extraction.text import CountVectorizer as CV\n",
        "cv  = CV(max_features = 3000,ngram_range=(1,1))\n",
        "X_cv = cv.fit_transform(corpus).toarray()\n",
        "y = y.values"
      ],
      "metadata": {
        "trusted": true,
        "id": "Foz_MhqmKJas"
      },
      "execution_count": null,
      "outputs": []
    },
    {
      "cell_type": "code",
      "source": [
        "from sklearn.model_selection import train_test_split\n",
        "X_train, X_test, y_train, y_test = train_test_split(X_cv, y, test_size = 0.20, random_state = 0)"
      ],
      "metadata": {
        "trusted": true,
        "id": "Zj3xnAWeKJas"
      },
      "execution_count": null,
      "outputs": []
    },
    {
      "cell_type": "code",
      "source": [
        "from sklearn.naive_bayes import BernoulliNB\n",
        "classifier = BernoulliNB()\n",
        "classifier.fit(X_train, y_train)"
      ],
      "metadata": {
        "trusted": true,
        "id": "UjzU1hTdKJas"
      },
      "execution_count": null,
      "outputs": []
    },
    {
      "cell_type": "code",
      "source": [
        "y_pred = classifier.predict(X_test)\n",
        "from sklearn.metrics import accuracy_score\n",
        "acc = accuracy_score(y_test, y_pred)"
      ],
      "metadata": {
        "trusted": true,
        "id": "AWid5RWfKJas"
      },
      "execution_count": null,
      "outputs": []
    },
    {
      "cell_type": "code",
      "source": [
        "acc"
      ],
      "metadata": {
        "trusted": true,
        "id": "Q_5jBx1nKJat"
      },
      "execution_count": null,
      "outputs": []
    },
    {
      "cell_type": "markdown",
      "source": [
        "# Term Frequency- Inverse Document Frequency Technique"
      ],
      "metadata": {
        "id": "TmCdLNcxKJat"
      }
    },
    {
      "cell_type": "markdown",
      "source": [
        "![image.png](attachment:image.png)"
      ],
      "metadata": {
        "id": "FRzh9xBkKJat"
      }
    },
    {
      "cell_type": "code",
      "source": [
        "from sklearn.feature_extraction.text import TfidfVectorizer as TV\n",
        "tv  = TV(ngram_range =(1,1),max_features = 3000)\n",
        "X_tv = tv.fit_transform(corpus).toarray()"
      ],
      "metadata": {
        "trusted": true,
        "id": "oHHP0SIJKJat"
      },
      "execution_count": null,
      "outputs": []
    },
    {
      "cell_type": "code",
      "source": [
        "X_train, X_test, y_train, y_test = train_test_split(X_tv, y, test_size = 0.20, random_state = 0)\n",
        "from sklearn.naive_bayes import MultinomialNB\n",
        "classifier = MultinomialNB()\n",
        "classifier.fit(X_train, y_train)"
      ],
      "metadata": {
        "trusted": true,
        "id": "rZp8MIeVKJat"
      },
      "execution_count": null,
      "outputs": []
    },
    {
      "cell_type": "code",
      "source": [
        "y_pred = classifier.predict(X_test)\n",
        "acc = accuracy_score(y_test, y_pred)"
      ],
      "metadata": {
        "trusted": true,
        "id": "CsVWtkA6KJat"
      },
      "execution_count": null,
      "outputs": []
    },
    {
      "cell_type": "code",
      "source": [
        "acc"
      ],
      "metadata": {
        "trusted": true,
        "id": "sXYNA37YKJat"
      },
      "execution_count": null,
      "outputs": []
    },
    {
      "cell_type": "markdown",
      "source": [
        "# Deep Learning Model"
      ],
      "metadata": {
        "id": "PwX-bAQUKJat"
      }
    },
    {
      "cell_type": "code",
      "source": [
        "import tensorflow as tf\n",
        "from tensorflow.keras.preprocessing.text import Tokenizer\n",
        "from tensorflow.keras.preprocessing.sequence import pad_sequences"
      ],
      "metadata": {
        "trusted": true,
        "id": "NSliDsl7KJat"
      },
      "execution_count": null,
      "outputs": []
    },
    {
      "cell_type": "code",
      "source": [
        "tokenizer = Tokenizer(num_words = 3000)\n",
        "tokenizer.fit_on_texts(corpus)"
      ],
      "metadata": {
        "trusted": true,
        "id": "UP15r15-KJat"
      },
      "execution_count": null,
      "outputs": []
    },
    {
      "cell_type": "code",
      "source": [
        "sequences = tokenizer.texts_to_sequences(corpus)\n",
        "padded = pad_sequences(sequences, padding='post')"
      ],
      "metadata": {
        "trusted": true,
        "id": "jzb1yciGKJau"
      },
      "execution_count": null,
      "outputs": []
    },
    {
      "cell_type": "code",
      "source": [
        "word_index = tokenizer.word_index\n",
        "count = 0\n",
        "for i,j in word_index.items():\n",
        "    if count == 11:\n",
        "        break\n",
        "    print(i,j)\n",
        "    count = count+1"
      ],
      "metadata": {
        "trusted": true,
        "id": "wmIkuwL8KJau"
      },
      "execution_count": null,
      "outputs": []
    },
    {
      "cell_type": "code",
      "source": [
        "embedding_dim = 64\n",
        "model = tf.keras.Sequential([\n",
        "    tf.keras.layers.Embedding(3000, embedding_dim),\n",
        "    tf.keras.layers.GlobalAveragePooling1D(),\n",
        "    tf.keras.layers.Dense(6, activation='relu'),\n",
        "    tf.keras.layers.Dense(1, activation='sigmoid')\n",
        "])\n",
        "\n",
        "model.summary()"
      ],
      "metadata": {
        "trusted": true,
        "id": "2r2jJB54KJau"
      },
      "execution_count": null,
      "outputs": []
    },
    {
      "cell_type": "code",
      "source": [
        "num_epochs = 10\n",
        "\n",
        "model.compile(loss='binary_crossentropy',optimizer='adam',metrics=['accuracy'])"
      ],
      "metadata": {
        "trusted": true,
        "id": "Rd87H9ZNKJau"
      },
      "execution_count": null,
      "outputs": []
    },
    {
      "cell_type": "code",
      "source": [
        "model.fit(padded,y,epochs= num_epochs)"
      ],
      "metadata": {
        "trusted": true,
        "id": "i40PytSWKJav"
      },
      "execution_count": null,
      "outputs": []
    },
    {
      "cell_type": "markdown",
      "source": [
        "CHECKING NEW EXAMPLE"
      ],
      "metadata": {
        "id": "R_CPVIc5KJav"
      }
    },
    {
      "cell_type": "code",
      "source": [
        "sample_string = \"I Will tell my friends for sure\"\n",
        "sample = tokenizer.texts_to_sequences(sample_string)\n",
        "padded_sample = pad_sequences(sample, padding='post')"
      ],
      "metadata": {
        "trusted": true,
        "id": "InWYWozgKJav"
      },
      "execution_count": null,
      "outputs": []
    },
    {
      "cell_type": "code",
      "source": [
        "padded_sample.T"
      ],
      "metadata": {
        "trusted": true,
        "id": "QvvZafqPKJav"
      },
      "execution_count": null,
      "outputs": []
    },
    {
      "cell_type": "code",
      "source": [
        "model.predict(padded_sample.T)"
      ],
      "metadata": {
        "trusted": true,
        "id": "w8B8orbAKJav"
      },
      "execution_count": null,
      "outputs": []
    }
  ]
}