{
 "cells": [
  {
   "cell_type": "code",
   "execution_count": 1,
   "id": "c5b5147e",
   "metadata": {},
   "outputs": [],
   "source": [
    "# import data management package\n",
    "import numpy as np\n",
    "import pandas as pd\n",
    "\n",
    "# import data visualization package\n",
    "import matplotlib.pyplot as plt\n",
    "import seaborn as sns\n",
    "import plotly as py\n",
    "import plotly.graph_objs as go\n",
    "\n",
    "import re"
   ]
  },
  {
   "cell_type": "code",
   "execution_count": 2,
   "id": "13f83769",
   "metadata": {},
   "outputs": [
    {
     "data": {
      "text/html": [
       "<div>\n",
       "<style scoped>\n",
       "    .dataframe tbody tr th:only-of-type {\n",
       "        vertical-align: middle;\n",
       "    }\n",
       "\n",
       "    .dataframe tbody tr th {\n",
       "        vertical-align: top;\n",
       "    }\n",
       "\n",
       "    .dataframe thead th {\n",
       "        text-align: right;\n",
       "    }\n",
       "</style>\n",
       "<table border=\"1\" class=\"dataframe\">\n",
       "  <thead>\n",
       "    <tr style=\"text-align: right;\">\n",
       "      <th></th>\n",
       "      <th>Unnamed: 0</th>\n",
       "      <th>gameId</th>\n",
       "      <th>gameDuration</th>\n",
       "      <th>gameVersion</th>\n",
       "      <th>platformId</th>\n",
       "      <th>season</th>\n",
       "      <th>winner</th>\n",
       "      <th>1st_baron</th>\n",
       "      <th>1st_dragon</th>\n",
       "      <th>1st_inhibitor</th>\n",
       "      <th>...</th>\n",
       "      <th>t2_baron_kills</th>\n",
       "      <th>t2_champ_kills</th>\n",
       "      <th>t2_dragon_kills</th>\n",
       "      <th>t2_inhibitor_kills</th>\n",
       "      <th>t2_riftHerald_kills</th>\n",
       "      <th>t2_tower_kills</th>\n",
       "      <th>t2_team_assists</th>\n",
       "      <th>t2_team_gold_earn</th>\n",
       "      <th>t2_team_gold_spen</th>\n",
       "      <th>t2_team_kda</th>\n",
       "    </tr>\n",
       "  </thead>\n",
       "  <tbody>\n",
       "    <tr>\n",
       "      <th>0</th>\n",
       "      <td>0</td>\n",
       "      <td>5540777304</td>\n",
       "      <td>2565</td>\n",
       "      <td>11.22.406.3587</td>\n",
       "      <td>EUW1</td>\n",
       "      <td>11</td>\n",
       "      <td>2</td>\n",
       "      <td>1</td>\n",
       "      <td>1</td>\n",
       "      <td>2</td>\n",
       "      <td>...</td>\n",
       "      <td>2</td>\n",
       "      <td>52</td>\n",
       "      <td>4</td>\n",
       "      <td>5</td>\n",
       "      <td>1</td>\n",
       "      <td>11</td>\n",
       "      <td>58</td>\n",
       "      <td>89056</td>\n",
       "      <td>86000</td>\n",
       "      <td>2.619048</td>\n",
       "    </tr>\n",
       "    <tr>\n",
       "      <th>1</th>\n",
       "      <td>1</td>\n",
       "      <td>5540794297</td>\n",
       "      <td>1227</td>\n",
       "      <td>11.22.406.3587</td>\n",
       "      <td>EUW1</td>\n",
       "      <td>11</td>\n",
       "      <td>1</td>\n",
       "      <td>0</td>\n",
       "      <td>2</td>\n",
       "      <td>1</td>\n",
       "      <td>...</td>\n",
       "      <td>0</td>\n",
       "      <td>25</td>\n",
       "      <td>1</td>\n",
       "      <td>0</td>\n",
       "      <td>1</td>\n",
       "      <td>0</td>\n",
       "      <td>37</td>\n",
       "      <td>39261</td>\n",
       "      <td>37685</td>\n",
       "      <td>1.476190</td>\n",
       "    </tr>\n",
       "    <tr>\n",
       "      <th>2</th>\n",
       "      <td>2</td>\n",
       "      <td>5538104688</td>\n",
       "      <td>2003</td>\n",
       "      <td>11.22.406.3587</td>\n",
       "      <td>EUW1</td>\n",
       "      <td>11</td>\n",
       "      <td>2</td>\n",
       "      <td>1</td>\n",
       "      <td>2</td>\n",
       "      <td>2</td>\n",
       "      <td>...</td>\n",
       "      <td>0</td>\n",
       "      <td>35</td>\n",
       "      <td>4</td>\n",
       "      <td>1</td>\n",
       "      <td>0</td>\n",
       "      <td>7</td>\n",
       "      <td>53</td>\n",
       "      <td>63064</td>\n",
       "      <td>56970</td>\n",
       "      <td>3.259259</td>\n",
       "    </tr>\n",
       "    <tr>\n",
       "      <th>3</th>\n",
       "      <td>3</td>\n",
       "      <td>5538059134</td>\n",
       "      <td>1924</td>\n",
       "      <td>11.22.406.3587</td>\n",
       "      <td>EUW1</td>\n",
       "      <td>11</td>\n",
       "      <td>2</td>\n",
       "      <td>2</td>\n",
       "      <td>1</td>\n",
       "      <td>2</td>\n",
       "      <td>...</td>\n",
       "      <td>2</td>\n",
       "      <td>43</td>\n",
       "      <td>2</td>\n",
       "      <td>5</td>\n",
       "      <td>1</td>\n",
       "      <td>11</td>\n",
       "      <td>66</td>\n",
       "      <td>71984</td>\n",
       "      <td>63978</td>\n",
       "      <td>3.114286</td>\n",
       "    </tr>\n",
       "    <tr>\n",
       "      <th>4</th>\n",
       "      <td>4</td>\n",
       "      <td>5065924116</td>\n",
       "      <td>3049621</td>\n",
       "      <td>11.2.353.8505</td>\n",
       "      <td>EUW1</td>\n",
       "      <td>11</td>\n",
       "      <td>1</td>\n",
       "      <td>2</td>\n",
       "      <td>2</td>\n",
       "      <td>1</td>\n",
       "      <td>...</td>\n",
       "      <td>1</td>\n",
       "      <td>66</td>\n",
       "      <td>2</td>\n",
       "      <td>1</td>\n",
       "      <td>0</td>\n",
       "      <td>8</td>\n",
       "      <td>93</td>\n",
       "      <td>103306</td>\n",
       "      <td>96280</td>\n",
       "      <td>1.915663</td>\n",
       "    </tr>\n",
       "  </tbody>\n",
       "</table>\n",
       "<p>5 rows × 32 columns</p>\n",
       "</div>"
      ],
      "text/plain": [
       "   Unnamed: 0      gameId  gameDuration     gameVersion platformId  season  \\\n",
       "0           0  5540777304          2565  11.22.406.3587       EUW1      11   \n",
       "1           1  5540794297          1227  11.22.406.3587       EUW1      11   \n",
       "2           2  5538104688          2003  11.22.406.3587       EUW1      11   \n",
       "3           3  5538059134          1924  11.22.406.3587       EUW1      11   \n",
       "4           4  5065924116       3049621   11.2.353.8505       EUW1      11   \n",
       "\n",
       "   winner  1st_baron  1st_dragon  1st_inhibitor  ...  t2_baron_kills  \\\n",
       "0       2          1           1              2  ...               2   \n",
       "1       1          0           2              1  ...               0   \n",
       "2       2          1           2              2  ...               0   \n",
       "3       2          2           1              2  ...               2   \n",
       "4       1          2           2              1  ...               1   \n",
       "\n",
       "   t2_champ_kills  t2_dragon_kills  t2_inhibitor_kills  t2_riftHerald_kills  \\\n",
       "0              52                4                   5                    1   \n",
       "1              25                1                   0                    1   \n",
       "2              35                4                   1                    0   \n",
       "3              43                2                   5                    1   \n",
       "4              66                2                   1                    0   \n",
       "\n",
       "   t2_tower_kills  t2_team_assists  t2_team_gold_earn  t2_team_gold_spen  \\\n",
       "0              11               58              89056              86000   \n",
       "1               0               37              39261              37685   \n",
       "2               7               53              63064              56970   \n",
       "3              11               66              71984              63978   \n",
       "4               8               93             103306              96280   \n",
       "\n",
       "   t2_team_kda  \n",
       "0     2.619048  \n",
       "1     1.476190  \n",
       "2     3.259259  \n",
       "3     3.114286  \n",
       "4     1.915663  \n",
       "\n",
       "[5 rows x 32 columns]"
      ]
     },
     "execution_count": 2,
     "metadata": {},
     "output_type": "execute_result"
    }
   ],
   "source": [
    "# read data\n",
    "df = pd.read_csv('match_information.csv')\n",
    "df.head()"
   ]
  },
  {
   "cell_type": "markdown",
   "id": "f560e754",
   "metadata": {},
   "source": [
    "Remove the first column because it won't use on the future research"
   ]
  },
  {
   "cell_type": "code",
   "execution_count": 3,
   "id": "372deb72",
   "metadata": {},
   "outputs": [
    {
     "data": {
      "text/html": [
       "<div>\n",
       "<style scoped>\n",
       "    .dataframe tbody tr th:only-of-type {\n",
       "        vertical-align: middle;\n",
       "    }\n",
       "\n",
       "    .dataframe tbody tr th {\n",
       "        vertical-align: top;\n",
       "    }\n",
       "\n",
       "    .dataframe thead th {\n",
       "        text-align: right;\n",
       "    }\n",
       "</style>\n",
       "<table border=\"1\" class=\"dataframe\">\n",
       "  <thead>\n",
       "    <tr style=\"text-align: right;\">\n",
       "      <th></th>\n",
       "      <th>gameId</th>\n",
       "      <th>gameDuration</th>\n",
       "      <th>gameVersion</th>\n",
       "      <th>platformId</th>\n",
       "      <th>season</th>\n",
       "      <th>winner</th>\n",
       "      <th>1st_baron</th>\n",
       "      <th>1st_dragon</th>\n",
       "      <th>1st_inhibitor</th>\n",
       "      <th>1st_riftHerald</th>\n",
       "      <th>...</th>\n",
       "      <th>t2_baron_kills</th>\n",
       "      <th>t2_champ_kills</th>\n",
       "      <th>t2_dragon_kills</th>\n",
       "      <th>t2_inhibitor_kills</th>\n",
       "      <th>t2_riftHerald_kills</th>\n",
       "      <th>t2_tower_kills</th>\n",
       "      <th>t2_team_assists</th>\n",
       "      <th>t2_team_gold_earn</th>\n",
       "      <th>t2_team_gold_spen</th>\n",
       "      <th>t2_team_kda</th>\n",
       "    </tr>\n",
       "  </thead>\n",
       "  <tbody>\n",
       "    <tr>\n",
       "      <th>0</th>\n",
       "      <td>5540777304</td>\n",
       "      <td>2565</td>\n",
       "      <td>11.22.406.3587</td>\n",
       "      <td>EUW1</td>\n",
       "      <td>11</td>\n",
       "      <td>2</td>\n",
       "      <td>1</td>\n",
       "      <td>1</td>\n",
       "      <td>2</td>\n",
       "      <td>1</td>\n",
       "      <td>...</td>\n",
       "      <td>2</td>\n",
       "      <td>52</td>\n",
       "      <td>4</td>\n",
       "      <td>5</td>\n",
       "      <td>1</td>\n",
       "      <td>11</td>\n",
       "      <td>58</td>\n",
       "      <td>89056</td>\n",
       "      <td>86000</td>\n",
       "      <td>2.619048</td>\n",
       "    </tr>\n",
       "    <tr>\n",
       "      <th>1</th>\n",
       "      <td>5540794297</td>\n",
       "      <td>1227</td>\n",
       "      <td>11.22.406.3587</td>\n",
       "      <td>EUW1</td>\n",
       "      <td>11</td>\n",
       "      <td>1</td>\n",
       "      <td>0</td>\n",
       "      <td>2</td>\n",
       "      <td>1</td>\n",
       "      <td>1</td>\n",
       "      <td>...</td>\n",
       "      <td>0</td>\n",
       "      <td>25</td>\n",
       "      <td>1</td>\n",
       "      <td>0</td>\n",
       "      <td>1</td>\n",
       "      <td>0</td>\n",
       "      <td>37</td>\n",
       "      <td>39261</td>\n",
       "      <td>37685</td>\n",
       "      <td>1.476190</td>\n",
       "    </tr>\n",
       "    <tr>\n",
       "      <th>2</th>\n",
       "      <td>5538104688</td>\n",
       "      <td>2003</td>\n",
       "      <td>11.22.406.3587</td>\n",
       "      <td>EUW1</td>\n",
       "      <td>11</td>\n",
       "      <td>2</td>\n",
       "      <td>1</td>\n",
       "      <td>2</td>\n",
       "      <td>2</td>\n",
       "      <td>1</td>\n",
       "      <td>...</td>\n",
       "      <td>0</td>\n",
       "      <td>35</td>\n",
       "      <td>4</td>\n",
       "      <td>1</td>\n",
       "      <td>0</td>\n",
       "      <td>7</td>\n",
       "      <td>53</td>\n",
       "      <td>63064</td>\n",
       "      <td>56970</td>\n",
       "      <td>3.259259</td>\n",
       "    </tr>\n",
       "    <tr>\n",
       "      <th>3</th>\n",
       "      <td>5538059134</td>\n",
       "      <td>1924</td>\n",
       "      <td>11.22.406.3587</td>\n",
       "      <td>EUW1</td>\n",
       "      <td>11</td>\n",
       "      <td>2</td>\n",
       "      <td>2</td>\n",
       "      <td>1</td>\n",
       "      <td>2</td>\n",
       "      <td>2</td>\n",
       "      <td>...</td>\n",
       "      <td>2</td>\n",
       "      <td>43</td>\n",
       "      <td>2</td>\n",
       "      <td>5</td>\n",
       "      <td>1</td>\n",
       "      <td>11</td>\n",
       "      <td>66</td>\n",
       "      <td>71984</td>\n",
       "      <td>63978</td>\n",
       "      <td>3.114286</td>\n",
       "    </tr>\n",
       "    <tr>\n",
       "      <th>4</th>\n",
       "      <td>5065924116</td>\n",
       "      <td>3049621</td>\n",
       "      <td>11.2.353.8505</td>\n",
       "      <td>EUW1</td>\n",
       "      <td>11</td>\n",
       "      <td>1</td>\n",
       "      <td>2</td>\n",
       "      <td>2</td>\n",
       "      <td>1</td>\n",
       "      <td>1</td>\n",
       "      <td>...</td>\n",
       "      <td>1</td>\n",
       "      <td>66</td>\n",
       "      <td>2</td>\n",
       "      <td>1</td>\n",
       "      <td>0</td>\n",
       "      <td>8</td>\n",
       "      <td>93</td>\n",
       "      <td>103306</td>\n",
       "      <td>96280</td>\n",
       "      <td>1.915663</td>\n",
       "    </tr>\n",
       "  </tbody>\n",
       "</table>\n",
       "<p>5 rows × 31 columns</p>\n",
       "</div>"
      ],
      "text/plain": [
       "       gameId  gameDuration     gameVersion platformId  season  winner  \\\n",
       "0  5540777304          2565  11.22.406.3587       EUW1      11       2   \n",
       "1  5540794297          1227  11.22.406.3587       EUW1      11       1   \n",
       "2  5538104688          2003  11.22.406.3587       EUW1      11       2   \n",
       "3  5538059134          1924  11.22.406.3587       EUW1      11       2   \n",
       "4  5065924116       3049621   11.2.353.8505       EUW1      11       1   \n",
       "\n",
       "   1st_baron  1st_dragon  1st_inhibitor  1st_riftHerald  ...  t2_baron_kills  \\\n",
       "0          1           1              2               1  ...               2   \n",
       "1          0           2              1               1  ...               0   \n",
       "2          1           2              2               1  ...               0   \n",
       "3          2           1              2               2  ...               2   \n",
       "4          2           2              1               1  ...               1   \n",
       "\n",
       "   t2_champ_kills  t2_dragon_kills  t2_inhibitor_kills  t2_riftHerald_kills  \\\n",
       "0              52                4                   5                    1   \n",
       "1              25                1                   0                    1   \n",
       "2              35                4                   1                    0   \n",
       "3              43                2                   5                    1   \n",
       "4              66                2                   1                    0   \n",
       "\n",
       "   t2_tower_kills  t2_team_assists  t2_team_gold_earn  t2_team_gold_spen  \\\n",
       "0              11               58              89056              86000   \n",
       "1               0               37              39261              37685   \n",
       "2               7               53              63064              56970   \n",
       "3              11               66              71984              63978   \n",
       "4               8               93             103306              96280   \n",
       "\n",
       "   t2_team_kda  \n",
       "0     2.619048  \n",
       "1     1.476190  \n",
       "2     3.259259  \n",
       "3     3.114286  \n",
       "4     1.915663  \n",
       "\n",
       "[5 rows x 31 columns]"
      ]
     },
     "execution_count": 3,
     "metadata": {},
     "output_type": "execute_result"
    }
   ],
   "source": [
    "remo = df.columns[0]\n",
    "df = df.drop(columns=remo)\n",
    "df.head()"
   ]
  },
  {
   "cell_type": "code",
   "execution_count": 4,
   "id": "831ca251",
   "metadata": {},
   "outputs": [
    {
     "data": {
      "text/plain": [
       "(20817, 31)"
      ]
     },
     "execution_count": 4,
     "metadata": {},
     "output_type": "execute_result"
    }
   ],
   "source": [
    "df.shape"
   ]
  },
  {
   "cell_type": "markdown",
   "id": "f34157eb",
   "metadata": {},
   "source": [
    "Check data type and change data type"
   ]
  },
  {
   "cell_type": "code",
   "execution_count": 5,
   "id": "11b763c1",
   "metadata": {},
   "outputs": [
    {
     "data": {
      "text/plain": [
       "gameId                   int64\n",
       "gameDuration             int64\n",
       "gameVersion             object\n",
       "platformId              object\n",
       "season                   int64\n",
       "winner                   int64\n",
       "1st_baron                int64\n",
       "1st_dragon               int64\n",
       "1st_inhibitor            int64\n",
       "1st_riftHerald           int64\n",
       "1st_tower                int64\n",
       "t1_baron_kills           int64\n",
       "t1_champ_kills           int64\n",
       "t1_dragon_kills          int64\n",
       "t1_inhibitor_kills       int64\n",
       "t1_riftHerald_kills      int64\n",
       "t1_tower_kills           int64\n",
       "t1_team_assists          int64\n",
       "t1_team_gold_earn        int64\n",
       "t1_team_gold_spen        int64\n",
       "t1_team_kda            float64\n",
       "t2_baron_kills           int64\n",
       "t2_champ_kills           int64\n",
       "t2_dragon_kills          int64\n",
       "t2_inhibitor_kills       int64\n",
       "t2_riftHerald_kills      int64\n",
       "t2_tower_kills           int64\n",
       "t2_team_assists          int64\n",
       "t2_team_gold_earn        int64\n",
       "t2_team_gold_spen        int64\n",
       "t2_team_kda            float64\n",
       "dtype: object"
      ]
     },
     "execution_count": 5,
     "metadata": {},
     "output_type": "execute_result"
    }
   ],
   "source": [
    "df.dtypes"
   ]
  },
  {
   "cell_type": "code",
   "execution_count": 6,
   "id": "92b793f9",
   "metadata": {},
   "outputs": [
    {
     "data": {
      "text/plain": [
       "gameId                   int32\n",
       "gameDuration             int32\n",
       "gameVersion             object\n",
       "platformId              object\n",
       "season                   int32\n",
       "winner                   int32\n",
       "1st_baron                int32\n",
       "1st_dragon               int32\n",
       "1st_inhibitor            int32\n",
       "1st_riftHerald           int32\n",
       "1st_tower                int32\n",
       "t1_baron_kills           int32\n",
       "t1_champ_kills           int32\n",
       "t1_dragon_kills          int32\n",
       "t1_inhibitor_kills       int32\n",
       "t1_riftHerald_kills      int32\n",
       "t1_tower_kills           int32\n",
       "t1_team_assists          int32\n",
       "t1_team_gold_earn        int32\n",
       "t1_team_gold_spen        int32\n",
       "t1_team_kda            float32\n",
       "t2_baron_kills           int32\n",
       "t2_champ_kills           int32\n",
       "t2_dragon_kills          int32\n",
       "t2_inhibitor_kills       int32\n",
       "t2_riftHerald_kills      int32\n",
       "t2_tower_kills           int32\n",
       "t2_team_assists          int32\n",
       "t2_team_gold_earn        int32\n",
       "t2_team_gold_spen        int32\n",
       "t2_team_kda            float32\n",
       "dtype: object"
      ]
     },
     "execution_count": 6,
     "metadata": {},
     "output_type": "execute_result"
    }
   ],
   "source": [
    "# Change data type for saving memory and future useage\n",
    "for i in df:\n",
    "   if df[i].dtypes == \"int64\":\n",
    "      df[i] = df[i].astype('int32')\n",
    "   elif df[i].dtypes == \"float64\":\n",
    "      df[i] = df[i].astype('float32')\n",
    "\n",
    "df.dtypes"
   ]
  },
  {
   "cell_type": "markdown",
   "id": "9bf10e91",
   "metadata": {},
   "source": [
    "Check if there is any null value in the data set, if does, remove those row"
   ]
  },
  {
   "cell_type": "code",
   "execution_count": 7,
   "id": "22c668bd",
   "metadata": {},
   "outputs": [
    {
     "data": {
      "text/plain": [
       "gameId                 0\n",
       "t1_tower_kills         0\n",
       "t2_team_gold_spen      0\n",
       "t2_team_gold_earn      0\n",
       "t2_team_assists        0\n",
       "t2_tower_kills         0\n",
       "t2_riftHerald_kills    0\n",
       "t2_inhibitor_kills     0\n",
       "t2_dragon_kills        0\n",
       "t2_champ_kills         0\n",
       "t2_baron_kills         0\n",
       "t1_team_kda            0\n",
       "t1_team_gold_spen      0\n",
       "t1_team_gold_earn      0\n",
       "t1_team_assists        0\n",
       "t1_riftHerald_kills    0\n",
       "gameDuration           0\n",
       "t1_inhibitor_kills     0\n",
       "t1_dragon_kills        0\n",
       "t1_champ_kills         0\n",
       "t1_baron_kills         0\n",
       "1st_tower              0\n",
       "1st_riftHerald         0\n",
       "1st_inhibitor          0\n",
       "1st_dragon             0\n",
       "1st_baron              0\n",
       "winner                 0\n",
       "season                 0\n",
       "platformId             0\n",
       "gameVersion            0\n",
       "t2_team_kda            0\n",
       "dtype: int64"
      ]
     },
     "execution_count": 7,
     "metadata": {},
     "output_type": "execute_result"
    }
   ],
   "source": [
    "df.isnull().sum().sort_values(ascending=False)"
   ]
  },
  {
   "cell_type": "markdown",
   "id": "966438f8",
   "metadata": {},
   "source": [
    "Check duplicate match, and remove empty record"
   ]
  },
  {
   "cell_type": "code",
   "execution_count": 8,
   "id": "b27d4955",
   "metadata": {},
   "outputs": [
    {
     "name": "stdout",
     "output_type": "stream",
     "text": [
      "1007\n"
     ]
    }
   ],
   "source": [
    "# From this funtion we find out that there are 18 record is duplicated, so we need to remove them\n",
    "sta = df['gameId'].duplicated()\n",
    "cou = 0\n",
    "\n",
    "for i in sta:\n",
    "    if i != False:\n",
    "        cou += 1\n",
    "\n",
    "print(cou)"
   ]
  },
  {
   "cell_type": "code",
   "execution_count": 9,
   "id": "5d917bc7",
   "metadata": {},
   "outputs": [],
   "source": [
    "# Remove duplicated value\n",
    "df = df.drop_duplicates(subset=['gameId'])"
   ]
  },
  {
   "cell_type": "code",
   "execution_count": 10,
   "id": "56069b78",
   "metadata": {},
   "outputs": [
    {
     "data": {
      "text/plain": [
       "(19810, 31)"
      ]
     },
     "execution_count": 10,
     "metadata": {},
     "output_type": "execute_result"
    }
   ],
   "source": [
    "df.shape"
   ]
  },
  {
   "cell_type": "markdown",
   "id": "e228a340",
   "metadata": {},
   "source": [
    "In the beginning of the season 11 (before 11.20) has different game duration representation way, so I will change then as the same value. "
   ]
  },
  {
   "cell_type": "code",
   "execution_count": 11,
   "id": "678a3343",
   "metadata": {},
   "outputs": [],
   "source": [
    "lis = df['gameVersion'].value_counts().index.tolist()\n",
    "new = []\n",
    "old = []\n",
    "\n",
    "for i in lis:\n",
    "    if re.match(r'11.2[0-9].[0-9]+', i):\n",
    "        new.append(i)\n",
    "    else:\n",
    "        old.append(i)"
   ]
  },
  {
   "cell_type": "code",
   "execution_count": 12,
   "id": "0bd62c54",
   "metadata": {},
   "outputs": [],
   "source": [
    "# After 11.20 version, GameDuration is count by second\n",
    "df.loc[df['gameVersion'] == '11.22.406.3587', 'gameDuration'] = round(df['gameDuration'] / 60)\n",
    "df.loc[df['gameVersion'] == '11.21.403.3002', 'gameDuration'] = round(df['gameDuration'] / 60)\n",
    "df.loc[df['gameVersion'] == '11.20.400.7328', 'gameDuration'] = round(df['gameDuration'] / 60)\n",
    "df.loc[df['gameVersion'] == '11.20.400.6413', 'gameDuration'] = round(df['gameDuration'] / 60)"
   ]
  },
  {
   "cell_type": "code",
   "execution_count": 13,
   "id": "deeeb302",
   "metadata": {},
   "outputs": [],
   "source": [
    "# Before 11.20 version, GameDuration is count by millionsecond\n",
    "for i in old:\n",
    "    df.loc[df['gameVersion'] == i, 'gameDuration'] = round(df['gameDuration'] / 60000)\n"
   ]
  },
  {
   "cell_type": "code",
   "execution_count": 14,
   "id": "5e486341",
   "metadata": {},
   "outputs": [
    {
     "data": {
      "text/plain": [
       "'temp-plot.html'"
      ]
     },
     "execution_count": 14,
     "metadata": {},
     "output_type": "execute_result"
    }
   ],
   "source": [
    "r = df[df['winner'] == 1]['gameDuration']\n",
    "b = df[df['winner'] == 2]['gameDuration']\n",
    "\n",
    "t_0 = go.Histogram(x=r, bingroup=25, name='team blue', opacity=0.9)\n",
    "t_1 = go.Histogram(x=b, bingroup=25, name='team red', opacity=0.9)\n",
    "\n",
    "layout = go.Layout(title = 'Match time')\n",
    "\n",
    "data = [t_0, t_1]\n",
    "fig = go.Figure(data, layout)\n",
    "py.offline.plot(fig)"
   ]
  },
  {
   "cell_type": "markdown",
   "id": "062b1434",
   "metadata": {},
   "source": [
    "Based on the Graph, we find out that there are some matches are 3 minutes, because 3 minutes is the quickest way to go to the next round due to some player leave the game. This\n",
    "situation will not be counted on this research, so we can remove those record. and also we find out that there is one matches is over 180 minutes, which is a rare situation, \n",
    "we can also remove this recorder. "
   ]
  },
  {
   "cell_type": "code",
   "execution_count": 15,
   "id": "d4e6cca7",
   "metadata": {},
   "outputs": [],
   "source": [
    "# Remove those matches less than 10 mintues.\n",
    "df = df[df['gameDuration'] >= 10]"
   ]
  },
  {
   "cell_type": "code",
   "execution_count": 16,
   "id": "e2c7d333",
   "metadata": {},
   "outputs": [],
   "source": [
    "# Remove those matches more than 60 mintues.\n",
    "df = df[df['gameDuration'] <= 60]"
   ]
  },
  {
   "cell_type": "code",
   "execution_count": 17,
   "id": "68d6a9e9",
   "metadata": {},
   "outputs": [
    {
     "data": {
      "text/plain": [
       "'temp-plot.html'"
      ]
     },
     "execution_count": 17,
     "metadata": {},
     "output_type": "execute_result"
    }
   ],
   "source": [
    "r = df[df['winner'] == 1]['gameDuration']\n",
    "b = df[df['winner'] == 2]['gameDuration']\n",
    "\n",
    "t_0 = go.Histogram(x=r, bingroup=25, name='Team Blue', opacity=0.9)\n",
    "t_1 = go.Histogram(x=b, bingroup=25, name='Team Red', opacity=0.9)\n",
    "\n",
    "layout = go.Layout(title = 'Match time')\n",
    "\n",
    "data = [t_0, t_1]\n",
    "fig = go.Figure(data, layout)\n",
    "py.offline.plot(fig)"
   ]
  },
  {
   "cell_type": "code",
   "execution_count": 18,
   "id": "81d164ad",
   "metadata": {},
   "outputs": [],
   "source": [
    "df.to_csv(\"Match_Information_cleaned.csv\", index = False)"
   ]
  }
 ],
 "metadata": {
  "kernelspec": {
   "display_name": "Python 3",
   "language": "python",
   "name": "python3"
  },
  "language_info": {
   "codemirror_mode": {
    "name": "ipython",
    "version": 3
   },
   "file_extension": ".py",
   "mimetype": "text/x-python",
   "name": "python",
   "nbconvert_exporter": "python",
   "pygments_lexer": "ipython3",
   "version": "3.8.8"
  }
 },
 "nbformat": 4,
 "nbformat_minor": 5
}
