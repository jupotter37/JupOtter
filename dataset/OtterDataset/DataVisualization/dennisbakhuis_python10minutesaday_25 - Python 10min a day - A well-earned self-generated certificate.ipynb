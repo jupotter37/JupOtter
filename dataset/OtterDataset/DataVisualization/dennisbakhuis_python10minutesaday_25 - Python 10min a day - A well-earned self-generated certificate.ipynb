{
 "cells": [
  {
   "cell_type": "markdown",
   "metadata": {},
   "source": [
    "<img src=\"assets/jeremy-lapak-CVvFVQ_-oUg-unsplash.png\" alt=\"Python Envs\" style=\"display: block; margin: 0 auto\" />"
   ]
  },
  {
   "cell_type": "markdown",
   "metadata": {},
   "source": [
    "# Learning Python 10 minutes a day #25\n",
    "## A well-earned self-generated certificate\n",
    "[Medium article link](https://towardsdatascience.com/learning-python-10-minutes-a-day-18-4718eb73758c)"
   ]
  },
  {
   "cell_type": "markdown",
   "metadata": {},
   "source": [
    "This is a [series](https://python-10-minutes-a-day.rocks) of short 10 minute Python articles helping you to get started with Python. I try to post an article each day (no promises), starting from the very basics, going up to more complex idioms. Feel free to contact me on [LinkedIn](https://www.linkedin.com/in/dennisbakhuis/) for questions or requests on particular subjects of Python, you want to know about."
   ]
  },
  {
   "cell_type": "markdown",
   "metadata": {},
   "source": [
    "Today is the 25th episode of learning Python 10 minutes a day. If you are here, you can be proud as we have discussed basic, intermediate, and a couple of advanced idioms of the Python language. More than enough to kickstart your Python development career. My first idea was to also add a series of examples to this series. The examples would include data visualization, working with matrices, the amazing Pandas library, and some Scikit-Learn topics. While, I will probably still create those articles, they will be published in a separate series a bit later this year. Feel free to contact me for requests or suggestions."
   ]
  },
  {
   "cell_type": "markdown",
   "metadata": {},
   "source": [
    "When finishing an online course, you often get a certificate to share on your LinkedIn. As you have made it this far, I think it is also important to get one for this Series. And to prove the point that you can do everything in Python, we will create a nice certificate ourselves! It would be great if you actually posted this on your LinkedIn and please do not forget to tag me. I would definitely congratulate you on your achievement! Alright, lets create our Pythonic certificate in the most Python way possible! First we need three libraries: matplotlib and pillow for working with images and wget for downloading the required fonts."
   ]
  },
  {
   "cell_type": "code",
   "execution_count": null,
   "metadata": {},
   "outputs": [],
   "source": [
    "!pip install matplotlib pillow wget\n",
    "\n",
    "# download fonts\n",
    "import wget\n",
    "\n",
    "url_font1 = 'https://www.dropbox.com/s/8m7qadmplajdkj2/coolvetica%20condensed%20rg.ttf?dl=1'\n",
    "url_font2 = 'https://www.dropbox.com/s/fr9wq73v91ui142/High%20Summit.ttf?dl=1'\n",
    "\n",
    "wget.download(url_font1)\n",
    "wget.download(url_font2)"
   ]
  },
  {
   "cell_type": "markdown",
   "metadata": {},
   "source": [
    "People using Linux have probably already heard of wget, which is a command-line-interface (CLI) utility for downloading files from the internet. Here we have downloaded the Python version of wget, which works on any machine, and use it to download the fonts. Now lets introduce the function to generate our certificate:"
   ]
  },
  {
   "cell_type": "code",
   "execution_count": null,
   "metadata": {},
   "outputs": [],
   "source": [
    "from PIL import Image, ImageDraw, ImageFont\n",
    "import matplotlib.pyplot as plt\n",
    "from datetime import date\n",
    "%matplotlib inline\n",
    "\n",
    "def create_certificate(name, plot=True):\n",
    "    # Settings\n",
    "    border_color = \"#C3CEB0\"\n",
    "    xwidth, ywidth = 800, 500\n",
    "    font1 = 'coolvetica condensed rg.ttf'\n",
    "    font2 = 'High Summit.ttf'\n",
    "\n",
    "    # Create emtpy white image\n",
    "    im = Image.new('RGB', (xwidth, ywidth), (255, 255, 255))\n",
    "    draw = ImageDraw.Draw(im)\n",
    "\n",
    "    # Border and blocks\n",
    "    draw.rectangle((0, 10, xwidth - 1, ywidth - 11), outline=border_color, width=2)\n",
    "    draw.rectangle((10, 20, xwidth - 11, ywidth - 21), outline=border_color, width=2)\n",
    "    draw.rectangle((xwidth / 2 - 1 - 0.1 * xwidth, 0,\n",
    "                    xwidth / 2 - 1 + 0.1 * xwidth, 0.08 * ywidth), fill=border_color, width=2)\n",
    "    draw.rectangle((xwidth / 2 - 1 - 0.1 * xwidth, ywidth - 1 - 0.08 * ywidth,\n",
    "                    xwidth / 2 - 1 + 0.1 * xwidth, ywidth - 1), fill=border_color, width=2)\n",
    "\n",
    "    # Centered text\n",
    "    def center_text(text, ypos, font_path, size=60, color=(0, 0, 0)):\n",
    "        font = ImageFont.truetype(font_path, size) \n",
    "        text_width, _ = draw.textsize(text, font = font) \n",
    "        draw.text(((xwidth - text_width) / 2, ypos), text, font = font, fill=color)\n",
    "\n",
    "    center_text('Certificate', 70, font1)\n",
    "    draw.rectangle((200, 160, xwidth-200, 195), fill=(0, 0, 0))\n",
    "    center_text('This certificate certifies that', 155, font1, size=35, color=(255, 255, 255))\n",
    "    center_text(name, 215, font2, size=80)\n",
    "    center_text('has complete all articles of the Python 10 minutes a day series and', 320, font1, size=20)\n",
    "    center_text('thereby shown dedication and tremendous advancement in Python.', 340, font1, size=20)\n",
    "    center_text('This certificate was generated in Python as proof of outstanding abilities.', 360, font1, size=20)\n",
    "\n",
    "    # Off-centered text\n",
    "    font = ImageFont.truetype(font1, 18) \n",
    "    date_string = date.today().strftime(' %-d %B %Y')\n",
    "    draw.text(((50, 420)), 'Awarded on ' + date_string, font = font, fill=(0,0,0))\n",
    "    font = ImageFont.truetype(font1, 16) \n",
    "    draw.text(((110, 445)), 'Date', font = font, fill=(50,50,50))\n",
    "    draw.text(((650, 445)), 'Signature', font = font, fill=(50,50,50))\n",
    "    font = ImageFont.truetype(font2, 24) \n",
    "    draw.text(((580, 420)), 'Dennis Bakhuis', font = font, fill=(0,0,0))\n",
    "    draw.line((580, 445, 750, 445), fill=(0,0,0))\n",
    "    draw.line((50, 445, 215, 445), fill=(0,0,0))\n",
    "\n",
    "    # Final link\n",
    "    center_text('https://python-10-minutes-a-day.rocks', 410, font1, size=28, color='#355876')\n",
    "\n",
    "    if plot:\n",
    "        fig, ax = plt.subplots(1, 1, figsize=(12,12))\n",
    "        _ = ax.set_aspect(1)\n",
    "        _ = ax.axis('off')\n",
    "        _ = ax.imshow(im)\n",
    "    im.save('certificate.png')\n",
    "\n",
    "create_certificate('Tony Stark')"
   ]
  },
  {
   "cell_type": "markdown",
   "metadata": {},
   "source": [
    "This is a long piece of code, but it does create a full-blown certificate with all the bells and whistles one would expect. We first import three parts of pillow, which is abbreviated as PIL: Image, ImageDraw, and ImageFont. The first holds the image, the second adds many draw funtions, and the last adds text drawing. Another thing that is new is the magic-option %matplotlib inline which makes sure that we plot right into the Notebook. The function itself makes use of the drawing functionality of pillow. We add a double-lined border, and some rectangles on the top and bottom. Next we add centered text in two different fonts. To make it official, I have the current date and my signature added at the bottom. We can call the function we the name who has earned the certificate and it will write the image and also plots it onto the screen. It should look like this:"
   ]
  },
  {
   "cell_type": "markdown",
   "metadata": {},
   "source": [
    "<img src=\"assets/certificate.png\" alt=\"Python Envs\" style=\"display: block; margin: 0 auto\" />"
   ]
  },
  {
   "cell_type": "markdown",
   "metadata": {},
   "source": [
    "Well, this looks legit (-:. The largest portion of the work was fine-tuning the design. Putting the items in is relatively easy. The final operation in the function writes the certificate as portable-network-graphics (PNG) onto disk. So it is now super easy to share it on LinkedIn and tag me ;-)."
   ]
  },
  {
   "cell_type": "markdown",
   "metadata": {},
   "source": [
    "## Now what?\n",
    "The next question from you probably is, now what? From a vanilla Python perspective, you now know all the stuff required. However, most people use packages to solve their problems, and there are countless packages to explore. If you are in for Scientific Computing or Data Science / Machine Learning, the next logical step to explore is Numpy."
   ]
  },
  {
   "cell_type": "markdown",
   "metadata": {},
   "source": [
    "[Numpy](https://numpy.org/) adds support for large, multi-dimensional arrays and matrices in Python. Without Numpy, we would probably create a list, which would work perfectly fine. Numpy trades the flexibility of having any object in the list for having fixed types, generally numbers, as an array, and has blazingly fast compiled code to process them. Numpy is tremendously faster than vanilla Python. But as with regular Python, it takes a bit of time to learn the concepts. Pablo Carares has made [an amazing guide](https://pabloinsente.github.io/intro-numpy-fundamentals) for Numpy and highly recommend that you start there."
   ]
  },
  {
   "cell_type": "markdown",
   "metadata": {},
   "source": [
    "<img src=\"assets/day25-pandas.jpg\" alt=\"Python Envs\" style=\"display: block; margin: 0 auto\" />"
   ]
  },
  {
   "cell_type": "markdown",
   "metadata": {},
   "source": [
    "If you got an idea on how Numpy works (you don't have to be a Numpy master), the next step is definitely [Pandas](https://pandas.pydata.org/). Personally, I am a huge fan of Pandas! It offers a kind of language to talk to your data. Getting fluent in Pandas has many benefits and I really advice to invest in this skill. To start with Pandas, there is the [10 minutes to Pandas](https://pandas.pydata.org/pandas-docs/stable/user_guide/10min.html) in the Pandas documentation. Every year, there are great tutorials on PyCon. I really liked the talk from [Brandon Rhodes at PyCon2015](https://www.youtube.com/watch?v=5JnMutdy6Fw&t=4s). Also Daniel Chen did a very good [beginner tutorial](https://www.youtube.com/watch?v=3qDhDXNRgHE) on Pandas. Get good at Pandas! I promise you will love it!"
   ]
  },
  {
   "cell_type": "markdown",
   "metadata": {},
   "source": [
    "When you are comfortable with Pandas, the next thing is to do data visualization. The plotting itself can be done with many different libraries. In the beginning, almost everybody used [Matplotlib](https://matplotlib.org/). It is easy to use but has its subtleties. Nowadays, I generally use [Seaborn](https://seaborn.pydata.org/), a framework on top of Matplotlib with much better defaults and a somewhat easier syntax. These are not the only options, there is also [Plotly](https://plotly.com/python/) and [Bokeh](https://docs.bokeh.org/en/latest/index.html), and actually many more. I think it is still useful to start with Matplotlib. After that, choose one of the others if you care about more eye-candy."
   ]
  },
  {
   "cell_type": "markdown",
   "metadata": {},
   "source": [
    "With all of this in place, we are finally ready to have a look at some Machine Learning stuff. While we can immediately run to [Scikit-Learn](https://scikit-learn.org/stable/), I would advice you to go to [Kaggle.com](https://kaggle.com) instead. Kaggle is the ultimate resource to learn Data Science and Machine Learning problem based. If it is your first time, click to old-time favorite Titanic competition. It is an unscored competition but a very fun one and you probably also learn some history facts from the event."
   ]
  },
  {
   "cell_type": "markdown",
   "metadata": {},
   "source": [
    "# You have made it!\n",
    "This is the end of the Python 10 minutes a day Series. There are definitely some topics we did not discuss, like multi-processing/multi-threading or examples on the many great libraries and frame-works. These do however take more than 10 minutes. I might write a couple of these tutorials if some are interested."
   ]
  },
  {
   "cell_type": "markdown",
   "metadata": {},
   "source": [
    "For now, thank you all for making it this far. I had already a couple of positive messages through LinkedIn, still I have no idea who actually did the series. So, if you want to do me a favor, put your hard-earned certificate on LinkedIn and tag me. I promise to congratulate everybody on their achievement!"
   ]
  },
  {
   "cell_type": "markdown",
   "metadata": {},
   "source": [
    "And as always, if there are any question, remarks, or comments feel free to [contact me!](https://www.linkedin.com/in/dennisbakhuis/)"
   ]
  }
 ],
 "metadata": {
  "kernelspec": {
   "display_name": "Python 3",
   "language": "python",
   "name": "python3"
  },
  "language_info": {
   "codemirror_mode": {
    "name": "ipython",
    "version": 3
   },
   "file_extension": ".py",
   "mimetype": "text/x-python",
   "name": "python",
   "nbconvert_exporter": "python",
   "pygments_lexer": "ipython3",
   "version": "3.7.7"
  }
 },
 "nbformat": 4,
 "nbformat_minor": 4
}
