{
  "cells": [
    {
      "cell_type": "markdown",
      "metadata": {
        "id": "HTj--y3Xto5L"
      },
      "source": [
        "# <b>Dataset Introduction</b>"
      ]
    },
    {
      "cell_type": "markdown",
      "metadata": {
        "id": "gUtjiNq3eZap"
      },
      "source": [
        "## <b>Dataset description </b>\n",
        "\n",
        "The Georgetown University Multilayer (<a href = \"https://gucorpling.org/gum/\" target = \"_blank\">GUM</a>) corpus is a collection of texts gathered and refined through classroom annotation using collaborative software. Collected as an integral component of the linguistics curriculum at Georgetown University, the GUM corpus is specifically oriented toward contemporary English data, it is then tailored to meet the requirements of the corpus and computational linguistics research (Zeldes, 2017).\n",
        "\n",
        "<table>\n",
        "<caption><b>Table 1</b>: Documents in the GUM corpus</caption>\n",
        " <tr>\n",
        "  <th>Text tipe</th>\n",
        "  <th>Source</th>\n",
        "  <th>Documents</th>\n",
        "  <th>Tokens</th>\n",
        " </tr>\n",
        " <tr>\n",
        "  <td>News (narrative) </td>\n",
        "  <td>Wikinews</td>\n",
        "  <td>6</td>\n",
        "  <td>5051</td>\n",
        " </tr>\n",
        " <tr>\n",
        "  <td>Interview (conversational)</td>\n",
        "  <td>Wikinews</td>\n",
        "  <td>7</td>\n",
        "  <td>6535</td>\n",
        " </tr>\n",
        " <tr>\n",
        "  <td>How-to (instructional)</td>\n",
        "  <td>wikiHow</td>\n",
        "  <td>7</td>\n",
        "  <td>6701</td>\n",
        " </tr>\n",
        " <tr>\n",
        "  <td>Travel guide (informative)</td>\n",
        "  <td>Wikivoyage</td>\n",
        "  <td>5</td>\n",
        "  <td>4369</td>\n",
        " </tr>\n",
        " <tr>\n",
        "  <td>Total</td>\n",
        "  <td></td>\n",
        "  <td>25</td>\n",
        "  <td>22.656</td>\n",
        " </tr>\n",
        "</table>\n",
        "\n",
        "While GUM may be considered small by most standards, comprising around 22,500 tokens, it still exhibits notable frequency in various linguistic categories. Although there are certainly limitations to studies using small corpora many linguistic categories are frequent enough for differences in distribution to be apparent even in a small corpus such as parts of speech, many syntactic phrase types and dependency functions, and even discourse entities and relationships between these.\n",
        "\n",
        "The students involved in crafting the GUM corpus were granted the flexibility to select any text fitting the criteria of an appropriate length (approximately 500–1000 words based on word-processor count) on a topic of their choice. They could choose from four distinct text types: interviews, news articles, instructional texts, and travel guides. The selection of these types aimed to encompass a range of communicative purposes, including conversational, narrative, instructional, and informative.\n",
        "To source the texts, a deliberate decision was made to leverage openly available Wiki resources. This approach ensured that news and interview texts could be sourced from Wikimedia's Wikinews, instructional texts from wikiHow, and travel guides from Wikivoyage."
      ]
    },
    {
      "cell_type": "markdown",
      "metadata": {
        "id": "OOHyu00MvZ1h"
      },
      "source": [
        "### **Inside-outside-beginning tagging**\n",
        "\n",
        "The linguistic data in the GUM corpus is presented according to the IOB2, which is the reference format for the purpose of tagging the tokens for name entity recognition task. In such framework, each word is described by a category either within a chunk of multiple words or as a single element. The IOB2 format, which is used in the natural language processing task for this project, uses the B-tag in the beginning of every chunk, the I-tag for the words inside the chunk, while the words outside of chunks are described by the O-tag."
      ]
    },
    {
      "cell_type": "markdown",
      "metadata": {
        "id": "ek33ZXQojA-i"
      },
      "source": [
        "### <b>Entities</b>\n",
        "\n",
        "A simplified version of the OntoNotes annotation scheme (Weischedel et al., 2012) was employed for entity types in the GUM corpus. This condensed version comprised 11 types, a deliberate choice made to enhance ease of learning and prevent excessively sparse categories within the relatively modest corpus.\n",
        "\n",
        "<table>\n",
        "<caption><b>Table 2</b>: GUM entity type annotation scheme compared with OntoNotes</caption>\n",
        " <tr>\n",
        "  <th>GUM</th>\n",
        "  <th>Subsumes OntoNotes</th>\n",
        " </tr>\n",
        " <tr>\n",
        "  <td>PERSON</td>\n",
        "  <td></td>\n",
        " </tr>\n",
        " <tr>\n",
        "  <td>PLACE</td>\n",
        "  <td>GPE, LOCATION, FACILITY</td>\n",
        " </tr>\n",
        " <tr>\n",
        "  <td>ORGANIZATION</td>\n",
        "  <td>NORP, ORGANIZATION</td>\n",
        " </tr>\n",
        " <tr>\n",
        "  <td>OBJECT</td>\n",
        "  <td>PRODUCT, WORK OF ART and all other concrete objects</td>\n",
        " </tr>\n",
        " <tr>\n",
        "  <td>EVENT</td>\n",
        "  <td></td>\n",
        " </tr>\n",
        " <tr>\n",
        "  <td>TIME</td>\n",
        "  <td>DATE, TIME</td>\n",
        " </tr>\n",
        " <tr>\n",
        "  <td>SUBSTANCE</td>\n",
        "  <td></td>\n",
        " </tr>\n",
        " <tr>\n",
        "  <td>PERSON</td>\n",
        "  <td></td>\n",
        " </tr>\n",
        " <tr>\n",
        "  <td>ANIMAL</td>\n",
        "  <td></td>\n",
        " </tr>\n",
        " <tr>\n",
        "  <td>PLANT</td>\n",
        "  <td></td>\n",
        " </tr>\n",
        " <tr>\n",
        "  <td>ABSTRACT</td>\n",
        "  <td>LANGUAGE, DISEASE, LAW and all other abstractions</td>\n",
        " </tr>\n",
        " <tr>\n",
        "  <td>QUANTITY</td>\n",
        "  <td>PERCENT, MONEY and all other quantities</td>\n",
        " </tr>\n",
        "</table>\n",
        "\n",
        "Except for OBJECT and ABSTRACT, all other GUM categories are derived from the OntoNotes scheme. However, these categories are extended to encompass non-named and non-coreferring entities. For instance, an unnamed entity like \"some country\" is still classified as a PLACE, even if it is not explicitly referenced later in the text.\n",
        "\n",
        "Intangible events, concepts, or abstract notions with a potential for physical realization (such as forms of writing as a process versus an end product) could be classified to some extent as either OBJECT or ABSTRACT. This observation underscores the need for further refinement of guidelines in this particular aspect.\n"
      ]
    },
    {
      "cell_type": "markdown",
      "metadata": {
        "id": "6qbkf7dlv4CT"
      },
      "source": [
        "## <b> Loading procedure </b>\n",
        "\n",
        "The CONLL data format, deriving it's name after the annual Conference on Computational Natural Language Learning, represents data used for natural language processing in a tab-separated format. Each line represents a single word, and the fields that are used to describe the linguistic data are field-separated <a href = \"https://universaldependencies.org/format.html\" target = \"_blank\">CONLL</a>. It is commonly used to store data in the IOB2 format.\n",
        "\n",
        "In the following section, the dataset is loaded and stored in a pandas dataframe where each row represents a sentence and the whitespace-separated tags assigned to each element in the sentence."
      ]
    },
    {
      "cell_type": "markdown",
      "source": [
        "<i>The necessary files for running the code can be retrieved from publicly accessible Google Drive [folder](https://drive.google.com/drive/u/0/folders/16zELOP7NHrG0ls_JKCOsMO0VWZ1wgdid)</i>"
      ],
      "metadata": {
        "id": "Qf5vHtNtBISH"
      }
    },
    {
      "cell_type": "code",
      "source": [
        "from google.colab import drive\n",
        "drive.mount('/content/drive')"
      ],
      "metadata": {
        "colab": {
          "base_uri": "https://localhost:8080/"
        },
        "id": "oCPNoaODBTmu",
        "outputId": "9f085b77-8863-4ac5-bd33-5f58c590ebd0"
      },
      "execution_count": null,
      "outputs": [
        {
          "output_type": "stream",
          "name": "stdout",
          "text": [
            "Mounted at /content/drive\n"
          ]
        }
      ]
    },
    {
      "cell_type": "code",
      "source": [
        "%cd /content/drive/MyDrive/ner_project"
      ],
      "metadata": {
        "colab": {
          "base_uri": "https://localhost:8080/"
        },
        "id": "LcXmw7OEBtp3",
        "outputId": "7b037d5d-6255-42ff-c99b-5b308c6bbe83"
      },
      "execution_count": null,
      "outputs": [
        {
          "output_type": "stream",
          "name": "stdout",
          "text": [
            "/content/drive/MyDrive/ner_project\n"
          ]
        }
      ]
    },
    {
      "cell_type": "code",
      "execution_count": null,
      "metadata": {
        "id": "0EsB8ETEZzLt"
      },
      "outputs": [],
      "source": [
        "import dataio\n",
        "import os"
      ]
    },
    {
      "cell_type": "code",
      "execution_count": null,
      "metadata": {
        "id": "igIpcJCKZFiV",
        "colab": {
          "base_uri": "https://localhost:8080/"
        },
        "outputId": "9b0f8eac-4a81-4935-ff93-d49de7f347e0"
      },
      "outputs": [
        {
          "output_type": "stream",
          "name": "stdout",
          "text": [
            "Reading file gum-train.txt\n",
            "Read 2494 sentences\n",
            "Reading file gum-test.txt\n",
            "Read 999 sentences\n"
          ]
        }
      ],
      "source": [
        "# from current working directory\n",
        "raw_train, label_train, output_labels = dataio.load_conll_data('gum-train.txt',  only_tokens=True)\n",
        "raw_test, label_test, _ = dataio.load_conll_data('gum-test.txt',  only_tokens=True)"
      ]
    },
    {
      "cell_type": "markdown",
      "metadata": {
        "id": "PYQJuUE4GgUJ"
      },
      "source": [
        "## <b>Data augmentation</b>\n",
        "\n",
        "The training dataset under consideration consists of 44111 element (words, punctuation symbols), which form 2495 sentences. This amount might be considered insufficient for a sucessful training, hence, a data augmentation technique was implemented. The approach used implies replacing tokens in a sentence by another word from the vocabulary of the dataset that has the same tag. This guarantees that the initial tags remain unchanged while simultaneously creating new data instances. This approach has demonstrated improvements in performance, especially for small datasets (Dai and Adel, 2020).\n",
        "\n",
        "It must be noted that words tagged with 'O' or '*-abstract' are not replaced, since they have a large number of instances in the dataset."
      ]
    },
    {
      "cell_type": "code",
      "source": [
        "import random\n",
        "import numpy as np"
      ],
      "metadata": {
        "id": "LtgIQ9sTHMX5"
      },
      "execution_count": null,
      "outputs": []
    },
    {
      "cell_type": "code",
      "execution_count": null,
      "metadata": {
        "id": "yxEvKME7hren"
      },
      "outputs": [],
      "source": [
        "lab_lists = {}\n",
        "\n",
        "# Iterate over all sentences in the dataset\n",
        "for sent, labels in zip(raw_train, label_train):\n",
        "    for word, lab in zip(sent, labels):\n",
        "        if lab not in lab_lists:\n",
        "            lab_lists[lab] = []  # Add a new key in the dictionary for tags not previously seen\n",
        "\n",
        "        # Add the word to the dataset vocabulary\n",
        "        lab_lists [lab].append(word)"
      ]
    },
    {
      "cell_type": "code",
      "source": [
        "import numpy as np"
      ],
      "metadata": {
        "id": "Sa59Hu39qCA-"
      },
      "execution_count": null,
      "outputs": []
    },
    {
      "cell_type": "code",
      "execution_count": null,
      "metadata": {
        "id": "22xFFLZTkRbs"
      },
      "outputs": [],
      "source": [
        "import random # for random number generation\n",
        "\n",
        "def add_random_sentences(numbers, sentences_list, labels_list, lab_lists):\n",
        "    for i in numbers: # how many new sentences we want to create\n",
        "        # split sentences and tags into separate elements of a list\n",
        "        sent = sentences_list[i]\n",
        "        lab = labels_list[i]\n",
        "\n",
        "        phrase = sent.copy() # initialise to the real sentence\n",
        "\n",
        "        # resample words from the sentence i and replace them with words\n",
        "        # with the same tags randomly chosen from the dataset vocabulary\n",
        "        for j in range(len(sent)):\n",
        "            if lab[j] != 'O' and lab[j][2:] != 'abstract':\n",
        "                np.random.seed (42)\n",
        "                phrase[j] = random.choice(lab_lists[lab[j]])\n",
        "\n",
        "        new_sentence = phrase\n",
        "        new_lab = lab\n",
        "        sentences_list.append(new_sentence)\n",
        "        labels_list.append(new_lab)\n",
        "\n",
        "    return sentences_list, labels_list\n",
        "\n",
        "# draw randomly indices for 1000 setnences that will be used to create new sentences\n",
        "num = np.arange(0, len(raw_train)).tolist()\n",
        "\n",
        "# draw randomly indices for 500 setnences that will be used to create new sentences\n",
        "np.random.seed(42)\n",
        "random_num = np.random.choice(num, 500, replace=False).tolist()\n",
        "\n",
        "# add the new sentences to the dataset\n",
        "raw_train, label_train = add_random_sentences(random_num, raw_train, label_train, lab_lists)"
      ]
    },
    {
      "cell_type": "markdown",
      "metadata": {
        "id": "MOC3hlPVboLN"
      },
      "source": [
        "# <b> Dataset insights </b>"
      ]
    },
    {
      "cell_type": "markdown",
      "metadata": {
        "id": "fFWvR6Rwb5sb"
      },
      "source": [
        "To promote deeper understanding of the nature of the analysed dataset, as well as the statistical distribution of certain characteristics that may be used to describe the corpus, data visualization tools were applied.\n",
        "\n",
        "Initially, it is necessary to investigate what are the frequencies of each IOB2 label in the training dataset to determine if the data is balanced, or if some labels are over-represented with respect to the others. Additionally, it is of interest to consider the lengths of the sentences available in the dataset to ensure that informed decisions can be made at later steps, such as, for instance, tokenization."
      ]
    },
    {
      "cell_type": "code",
      "execution_count": null,
      "metadata": {
        "id": "5gWFvMbOd455"
      },
      "outputs": [],
      "source": [
        "import seaborn as sns\n",
        "import matplotlib.pyplot as plt"
      ]
    },
    {
      "cell_type": "code",
      "execution_count": null,
      "metadata": {
        "id": "QI9ZH8Oe5LHa"
      },
      "outputs": [],
      "source": [
        "import pandas as pd"
      ]
    },
    {
      "cell_type": "code",
      "execution_count": null,
      "metadata": {
        "id": "O8KDg2jCeIK9"
      },
      "outputs": [],
      "source": [
        "# define function to calculate the len\n",
        "def len_counter (list):\n",
        "  lengths = []\n",
        "  for i in range (len (list)):\n",
        "    lengths.append (len (list [i]))\n",
        "  return lengths\n",
        "sent_lengths = len_counter (raw_train)\n",
        "sent_lengths = pd.DataFrame(sent_lengths, columns=[\"Sentence length\"])"
      ]
    },
    {
      "cell_type": "code",
      "source": [
        "import csv\n",
        "url = \"https://github.com/nluninja/nlp_datasets/raw/main/GUM/data/gum-train.conll\"\n",
        "df_dash = pd.read_csv(url, sep='\\t', header=None, names=['Word', 'Label'], quoting=csv.QUOTE_NONE)\n",
        "label_counts = df_dash['Label'].value_counts()"
      ],
      "metadata": {
        "id": "qADKC0ewWpVl"
      },
      "execution_count": null,
      "outputs": []
    },
    {
      "cell_type": "code",
      "execution_count": null,
      "metadata": {
        "id": "wqdbI1_XdjEM",
        "colab": {
          "base_uri": "https://localhost:8080/",
          "height": 715
        },
        "outputId": "7f501878-042a-4cb5-86e7-3b07e77f4b55"
      },
      "outputs": [
        {
          "output_type": "stream",
          "name": "stderr",
          "text": [
            "/usr/local/lib/python3.10/dist-packages/seaborn/categorical.py:699: UserWarning: Setting the 'color' property will override the edgecolor or facecolor properties.\n",
            "  artists = ax.bxp(**boxplot_kws)\n"
          ]
        },
        {
          "output_type": "display_data",
          "data": {
            "text/plain": [
              "<Figure size 1800x800 with 2 Axes>"
            ],
            "image/png": "[encoded data removed]"
          },
          "metadata": {}
        }
      ],
      "source": [
        "plt.figure(figsize=(18, 8))\n",
        "\n",
        "colors = plt.cm.viridis(np.linspace(0, 1, len(label_counts)))\n",
        "plt.subplot(1, 2, 1)  # Creating subplot (1 row, 2 columns, position 1)\n",
        "bars = label_counts.plot(kind='bar', color=colors, edgecolor='white', alpha=0.9)\n",
        "plt.yscale('log')\n",
        "plt.grid(axis='y', linestyle='--', alpha=0.8, color=\"blue\")\n",
        "plt.title('Labels distribution in log-scale', fontsize=16)\n",
        "plt.xlabel('Label', fontsize=12)\n",
        "plt.ylabel('Count (log-scale)', fontsize=12)\n",
        "plt.xticks(rotation=45, ha='right', fontsize = 12)\n",
        "\n",
        "for i, count in enumerate(label_counts):\n",
        "    plt.text(i, count + 0.5, str(count), ha='center', va='bottom', fontsize=8)\n",
        "\n",
        "# Plotting the box plot\n",
        "sns.set(style=\"whitegrid\")\n",
        "\n",
        "plt.subplot(1, 2, 2)  # Creating subplot (1 row, 2 columns, position 2)\n",
        "ax = sns.boxplot(x=sent_lengths['Sentence length'], color='blue',\n",
        "                 boxprops=dict(facecolor='blue', color='orange'),\n",
        "                 whiskerprops=dict(color='blue'), showfliers=True, showcaps=False)\n",
        "\n",
        "plt.grid(axis='x', linestyle='--', alpha=0.4, color=\"blue\")\n",
        "plt.title('Distribution of Sentence Lengths', fontsize=16)\n",
        "plt.xlabel('Sentence Length', fontsize=14)\n",
        "\n",
        "plt.tight_layout()  # Adjust layout for better spacing\n",
        "plt.show()"
      ]
    },
    {
      "cell_type": "markdown",
      "metadata": {
        "id": "pNSaxOGDdphl"
      },
      "source": [
        "The barplot is plotted on the logatithmic scale to have better visualization of the underrepresented categories. It can be observed that the \"O\" category dominates the other labels, with entities described as plants, animals and quantities are underrepresented.\n",
        "\n",
        "The boxplot demonstrates the distribution of the lengths of the sentences in our dataset. We can observe the median, the first and the third quartiles, as well as the extreme values. Furthermore the longest sentence consists of 94 tokens."
      ]
    },
    {
      "cell_type": "markdown",
      "metadata": {
        "id": "WhLBKlsNdxv7"
      },
      "source": [
        "Moreover, we draw our focus on the differences between the entities: we consider how many words each entity includes, gaining understanding of the possible patterns and the potential outliers. As can be observed below, there are indeed some outliers observed for many entities: hence, the overall distribution is investigated using strip plots to grasp the full distribution of the data. Moreover, since the values are mostly concentrated in the lower part of the range of the distribution, we put focus on that interval to have better understanding of how the main portion of the data is distributed."
      ]
    },
    {
      "cell_type": "code",
      "execution_count": null,
      "metadata": {
        "id": "w5uYv7wNg0sA"
      },
      "outputs": [],
      "source": [
        "import plotly.express as px\n",
        "from plotly.subplots import make_subplots"
      ]
    },
    {
      "cell_type": "code",
      "execution_count": null,
      "metadata": {
        "id": "TqbEkmLgh1L5"
      },
      "outputs": [],
      "source": [
        "categories = list (set ([x [2:] for x in output_labels if len (x) > 2])) # without B- / I-\n",
        "# we are not interested in visualising for 'O' tag, it's trivial"
      ]
    },
    {
      "cell_type": "code",
      "source": [
        "def entity_length_counter (sentences, iob2_tags, target_label):\n",
        "    all_chunk_lengths = []  # To store chunk lengths for all sentences\n",
        "\n",
        "    for sentence_words, sentence_tags in zip(sentences, iob2_tags):\n",
        "        current_chunk_length = 0  #  keep track of the current chunk' count\n",
        "\n",
        "        for word, tag in zip(sentence_words, sentence_tags):\n",
        "            if tag == f\"B-{target_label}\":\n",
        "                # encounter B -> set counter to 1\n",
        "                current_chunk_length = 1\n",
        "            elif tag == f\"I-{target_label}\":\n",
        "                # increment if encounter I-\n",
        "                current_chunk_length += 1 # will handle even if B- was cut off\n",
        "            elif tag == \"O\":\n",
        "                # 'O' --> close counter, reset\n",
        "                if current_chunk_length > 0:\n",
        "                    all_chunk_lengths.append(current_chunk_length)\n",
        "                    current_chunk_length = 0\n",
        "\n",
        "        # if end chunk not with IOB, but with EOS\n",
        "        if current_chunk_length > 0:\n",
        "            all_chunk_lengths.append(current_chunk_length)\n",
        "    # store results in pd df for convenience\n",
        "    chunk_lengths_df = pd.DataFrame({'Index': range(len(all_chunk_lengths)), 'Chunk Length': all_chunk_lengths})\n",
        "    return chunk_lengths_df\n"
      ],
      "metadata": {
        "id": "AbLIp2eRsShY"
      },
      "execution_count": null,
      "outputs": []
    },
    {
      "cell_type": "code",
      "source": [
        "out = []\n",
        "for cat in categories:\n",
        "  out.append (entity_length_counter(raw_train, label_train, cat))"
      ],
      "metadata": {
        "id": "0dJifTvQx8XT"
      },
      "execution_count": null,
      "outputs": []
    },
    {
      "cell_type": "code",
      "source": [
        "cat = [x[0].upper() + x [1:] for x in categories]"
      ],
      "metadata": {
        "id": "o-NEhZoSyaM8"
      },
      "execution_count": null,
      "outputs": []
    },
    {
      "cell_type": "code",
      "execution_count": null,
      "metadata": {
        "id": "rFwr_jM2gsuE"
      },
      "outputs": [],
      "source": [
        "def plot_box_strip (dataframe):\n",
        "    # Extract data from the 'Chunk Length' column\n",
        "    data = dataframe['Chunk Length']\n",
        "\n",
        "    # Set color palette\n",
        "    palette = px.colors.qualitative.Set2\n",
        "\n",
        "    # Create a DataFrame for the strip plot (data points <= 10)\n",
        "    box_data = dataframe[dataframe['Chunk Length'] <= 10]\n",
        "\n",
        "    # Create a strip plot figure\n",
        "    strip_fig = px.strip(dataframe, y='Chunk Length', title='Strip Plot (All Data)',\n",
        "                         labels={'Chunk Length': 'Number of Words in Sentences'})\n",
        "    strip_fig.update_traces(marker=dict(size=10, color=palette[0]))\n",
        "\n",
        "\n",
        "\n",
        "    # Create a box plot figure\n",
        "    box_fig = px.box(box_data, y='Chunk Length', title='Box Plot (<= 10)',\n",
        "                     labels={'Chunk Length': 'Number of Words in Sentences'})\n",
        "    box_fig.update_traces(marker=dict(color=palette[1]))\n",
        "\n",
        "\n",
        "    fig = make_subplots(rows=1, cols=2)\n",
        "\n",
        "    # Add strip plot to the first column\n",
        "    fig.add_trace(strip_fig.data[0], row=1, col=1)\n",
        "    fig.update_xaxes(linecolor=\"black\", linewidth=1, mirror=True, range=[-.1, .1], row=1, col=1)\n",
        "    fig.update_yaxes(linecolor=\"black\", linewidth=1, mirror=True, row=1, col=1, title_text=\"Length of entities\")\n",
        "\n",
        "    # Add box plot to the second column\n",
        "    fig.add_trace(box_fig.data[0], row=1, col=2)\n",
        "    fig.update_xaxes(linecolor=\"black\", linewidth=1, mirror=True, row=1, col=2)\n",
        "    fig.update_yaxes(linecolor=\"black\", linewidth=1, mirror=True, title_text=\"Length of entities\", row=1, col=2)\n",
        "\n",
        "    # Update subplot layout\n",
        "    fig.update_layout(height=600, width=900, title_text='Strip and Box Plots', title_x=0.5,\n",
        "                     template=\"seaborn\")\n",
        "\n",
        "    return fig"
      ]
    },
    {
      "cell_type": "code",
      "source": [
        "from plotly.colors import n_colors\n",
        "import plotly.graph_objects as go"
      ],
      "metadata": {
        "id": "5CdXL-ma0A8U"
      },
      "execution_count": null,
      "outputs": []
    },
    {
      "cell_type": "code",
      "source": [
        "def ridge_plot (data, categories):\n",
        "  colors = n_colors('rgb(5, 200, 200)', 'rgb(200, 10, 10)', len(out), colortype='rgb')\n",
        "  fig = go.Figure() # create figure\n",
        "\n",
        "  for i, (df, category, color) in enumerate(zip(data, categories, colors)):\n",
        "      fig.add_trace(go.Violin(x=df['Chunk Length'], line_color=color, showlegend=False))\n",
        "      fig.add_annotation(\n",
        "          go.layout.Annotation(\n",
        "              x=10,\n",
        "              y=i + .3,  # Adjust the y-coordinate for proper positioning of the label\n",
        "              text=category,\n",
        "              font=dict(family='Arial, sans-serif', size=20, color=color),  # Customize the font style here\n",
        "              showarrow=False,\n",
        "              xref='x',\n",
        "              yref='y',\n",
        "              align='center'\n",
        "          )\n",
        "      )\n",
        "\n",
        "  fig.update_traces(orientation='h', side='positive', width=3, points=False)\n",
        "  fig.update_xaxes(linecolor=\"black\", linewidth=1, mirror=True, range=[-1.2, 56])\n",
        "  fig.update_yaxes(linecolor=\"black\", linewidth=1, mirror=True)\n",
        "  fig.update_yaxes(ticktext=[], tickvals= [])\n",
        "  fig.update_layout(xaxis_zeroline=False, yaxis_title =\"Categories\",\n",
        "                    title='Entity Length Distribution', template=\"seaborn\",\n",
        "                    height=600, width=1200)\n",
        "  return fig\n",
        "\n",
        "ridge_plot (out, cat)"
      ],
      "metadata": {
        "id": "yuljqqAUz4bd",
        "colab": {
          "base_uri": "https://localhost:8080/",
          "height": 617
        },
        "outputId": "4b830957-5192-41db-972b-6933ff4a1a81"
      },
      "execution_count": null,
      "outputs": [
        {
          "output_type": "display_data",
          "data": {
            "text/html": [
              "<html>\n",
              "<head><meta charset=\"utf-8\" /></head>\n",
              "<body>\n",
              "    <div>            <script src=\"https://cdnjs.cloudflare.com/ajax/libs/mathjax/2.7.5/MathJax.js?config=TeX-AMS-MML_SVG\"></script><script type=\"text/javascript\">if (window.MathJax && window.MathJax.Hub && window.MathJax.Hub.Config) {window.MathJax.Hub.Config({SVG: {font: \"STIX-Web\"}});}</script>                <script type=\"text/javascript\">window.PlotlyConfig = {MathJaxConfig: 'local'};</script>\n",
              "        <script charset=\"utf-8\" src=\"https://cdn.plot.ly/plotly-2.24.1.min.js\"></script>                <div id=\"6b12d5a7-2ff1-447c-aca3-cafc94fa119c\" class=\"plotly-graph-div\" style=\"height:600px; width:1200px;\"></div>            <script type=\"text/javascript\">                                    window.PLOTLYENV=window.PLOTLYENV || {};                                    if (document.getElementById(\"6b12d5a7-2ff1-447c-aca3-cafc94fa119c\")) {                    Plotly.newPlot(                        \"6b12d5a7-2ff1-447c-aca3-cafc94fa119c\",                        [{\"line\":{\"color\":\"rgb(5.0, 200.0, 200.0)\"},\"showlegend\":false,\"x\":[2,2,2,2,3,1,4,1,1,2,1,2,1,1,3,1,3,1,1,1,3,6,3,8,1,2,2,2,4,4,2,1,1,10,1,1,13,2,2,3,2,2,1,2,1,2,3,4,11,2,2,3,3,4,1,2,2,2,1,1,4,1,1,2,12,4,1,6,1,2,4,2,1,1,1,3,1,1,3,2,2,2,1,4,2,2,1,2,1,2,5,1,1,2,3,2,1,2,1,3,1,2,5,2,2,8,2,1,1,3,1,2,3,2,3,1,2,2,1,2,2,1,3,2,1,1,1,2,2,4,3,2,8,2,2,2,2,1,2,2,5,4,4,1,2,15,4,2,6,4,3,8,4,2,4,1,1,1,1,1,3,1,9,5,1,3,3,2,1,1,1,4,33,1,2,4,2,2,3,10,12,3,1,2,1,2,1,1,1,2,2,1,15,1,2,2,1,1,1,1,2,3,3,2,2,1,2,2,4,2,1,3,3,1,2,6,3,2,1,1,4,1,2,3,3,3,1,3,2,2,1,1,2,3,1,1,3,2,3,2,1,2,1,1,1,1,3,1,2,2,1,3,4,1,3,2,2,1,1,2,3,4,2,2,10,1,2,4,7,1,1,2,2,2,2,1,6,2,1,1,2,2,2,1,2,1,1,3,1,3,1,1,1,4,1,2,2,2,2,3,3,2,3,15,33,2,3,1,2,1,1,2,4,11,4,2,1,2,1,3,1,2,1,3,2,10,1,3,1,2,4,3,2,6],\"type\":\"violin\",\"orientation\":\"h\",\"points\":false,\"side\":\"positive\",\"width\":3},{\"line\":{\"color\":\"rgb(24.5, 181.0, 181.0)\"},\"showlegend\":false,\"x\":[3,3,3,2,3,2,2,1,3,2,3,3,1,2,1,4,4,2,1,2,2,4,2,2,2,1,2,14,2,3,1,1,1,2,2,1,2,2,1,1,2,1,1,1,2,1,3,2,1,1,3,2,2,2,6,1,2,1,3,1,1,3,2,1,1,7,2,2,1,1,1,1,2,1,1,1,2,1,2,2,1,1,2,2,2,1,1,2,1,2,2,2,2,1,2,2,1,6,5,2,2,1,1,2,2,2,3,2,1,2,1,1,4,1,1,1,5,2,1,2,2,2,4,3,1,2,2,3,2,1,4,2,3,2,5,2,2,9,6,3,2,1,1,1,1,1,2,3,5,2,1,4,1,1,3,2,2,1,1],\"type\":\"violin\",\"orientation\":\"h\",\"points\":false,\"side\":\"positive\",\"width\":3},{\"line\":{\"color\":\"rgb(44.0, 162.0, 162.0)\"},\"showlegend\":false,\"x\":[3,1,1,1,2,1,2,1,3,2,1,2,2,2,1,2,1,2,2,2,1,5,1,4,2,1,1,1,2,4,1,2,1,1,1,10,1,3,2,1,2,1,1,1,1,2,2,4,2,3,2,2,2,1,1,2,1,1,1,2,1,2,1,4,2,1,2,1,1,4,5,1,2,1,2,3,2,2,2,2,1,5,1,2,2,2,1,1,1,2,1,1,1,2,2,1,2,2,2,2,1,1,1,2,1,1,2,2,2,1,2,2,5,2,1,1,2,2,2,1,3,2,1,1,1,3,4,4,4,2,1,1,1,1,1,2,1,2,1,1,2,2,2,1,1,1,2,1,1,1,1,2,1,1,2,2,1,1,3,2,2,1,1,5,1,2,1,1,2],\"type\":\"violin\",\"orientation\":\"h\",\"points\":false,\"side\":\"positive\",\"width\":3},{\"line\":{\"color\":\"rgb(63.5, 143.0, 143.0)\"},\"showlegend\":false,\"x\":[1,1,2,2,2,4,1,3,3,1,2,3,4,4,1,1,3,1,1,1,2,3,4,2,4,2,3,3,3,2,7,2,3,2,2,1,1,1,1,4,2,2,2,2,1,2,1,5,2,1,3,1,1,1,1,1,1,1,4,3,2,1,1,8,2,1,3,4,1,1,4,2,1,5,1,1,1,2,2,2,1,3,4,6,1,4,2,1,4,1,1,5,1,4,4,1,1,1,1,3,1,1,1,1,2,1,4,1,1,8,3,8,1,2,1,4,3,1,1,4,1,2,4,2,3,1,4,2,6,1,1,4,2,2,2,1,3,3,5,1,7,1,1,2,2,2,1,3,1,2,1,1,2,4,7,3,2,2,1,2,5,3,10,1,1,1,5,1,3,5,6,4,3,1,1,1,2,1,4,2,1,2,1,2,1,2,1,1,1,2,3,2,1,6,1,2,5,1,2,2,2,2,1,1,3,1,3,2,2,1,3,8,3,3,2,3,1,5,2,4,1,1,2,1,1,1,1,2,3,1,3,1,3,2,1,1,2,6,1,4,1,3,3,3,2,3,2,5,3,1,2,4,3,1,5,6,2,13,3,2,2,1,2,2,2,11,1,1,6,2,2,1,2,1,1,2,1,1,4,1,1,3,3,1,1,4,1,2,2,1,1,2,2,1,1,4,1,1,2,1,1,2,2,1,1,2,3,2,2,1,2,1,2,8,2,2,1,1,2,3,1,3,2,1,6,5,2,2,4,4,3,5,3,1,4,3,2,2,1,1,1,3,2,2,3,1,3,1,1,1,3,11,1,3,6,3,2,3,1,1,1,1,2,2,3,2,1,2,3,1,10,5,8,1,1,2,2,1,3,3,2,1,1,1,3,2,5,2,3,1,1,1,4,1,8,1,3,1,2,4,2,6,1,1,4,7,2,2,1,3,2,11,1,1,4,5,1,1,1,1,3,2,2,5,3,1,3,1,1,2,4,4,2,1,5,1,1,2,2,3,1,2,2,1,5,8,4,3,1,2,1,2,1,1,2,4,2,2,3,3,2,2,1,1,1,1,1,1,1,2,2,4,4],\"type\":\"violin\",\"orientation\":\"h\",\"points\":false,\"side\":\"positive\",\"width\":3},{\"line\":{\"color\":\"rgb(83.0, 124.0, 124.0)\"},\"showlegend\":false,\"x\":[4,1,1,2,1,1,4,3,2,3,1,2,1,2,5,6,5,1,2,5,2,2,2,6,3,2,2,1,2,2,5,3,2,2,1,1,3,2,2,10,1,1,1,4,3,3,2,2,1,2,2,3,3,2,2,2,3,3,2,1,3,1,3,6,2,3,1,1,3,1,3,1,3,1,1,2,1,4,8,3,2,2,3,3,2,2,2,2,1,1,2,1,2,2,2,1,9,1,1,2,4,1,1,1,3,3,4,4,2,2,3,1,2,1,1,2,2,2,5,1,1,1,2,2,2,2,1,3,8,3,3,1,1,2,3,2,2,3,3,4,1,3,5,2,3,8,2,3,2,2,2,5,2,4,2,3,2,2,3,1,4,1,2,1,2,2,2,2,1,1,1,1,3,2,4,1,3,2,2,3,1,2,1,3,3,4,1,3,2,2,2,2,1,1,1,1,5,3,5,1,2,2,2,3,1,2,2,1,3,7,1,1,3,2,1,1,1,2,2,4,2,2,3,1,4,3,1,2,2,1,2,1,2,1,3,1,2,3,2,8,2,1,1,1,3,4,8,5,1,1,2,8,8,2,2,2,1,1,4,3,8,2,2,2,1,3,4,3,2,5,3,3,2,2,5,4,3,1,5,2,7,1,1,1,3,10,2,1,2,3,1,3,5,1,3,1,2,1,1,4,2,1,2,2,1,4,1,2,2,2,4,2,1,1,8,1,3,3,2,4,4,1,13,4,2,3,2,4,1,2,1,2,1,1,1,2,1,1,2,1,1,2,2,3,1,9,5,3,2,2,2,2,1,3,1,3,2,1,2,1,1,5,1,2,2,6,1,2,2,2,2,2,5,5,6,2,3,1,2,1,1,2,5,1,4,3,1,2,2,8,1,2,4,2,3,2,6,2,7,4,6,1,1,2,6,2,2,2,2,8,3,4,3,3,2,1,6,3,2,3,2,2,2,2,5,4,2,1,3,1,2,1,2,3,1,2,11,4,2,2,1,1,1,1,3,3,1,2,2,2,3,2,6,7,4,2,2,4,2,2,2,1,2,1,2,1,4,2,2,2,7,2,6,6,2,2,1,4,1,2,5,2,8,2,2,1,3,1,2,1,2,6,2,4,1,2,2,8,1,3,3,1,3,3,4,6,2,3,2,3,3,3,5,3,1,1,3,4,1,3,2,2,6,1,2,3,8,2,2,1,3,1,4,3,1,1,1,2,1,4,2,4,3,2,2,6,6,4,2,1,3,1,9,4,5,1,2,5,2,2,2,7,2,2,2,3,1,5,5,1,1,2,1,1,1,5,5,2,1,2,1,2,2,2,2,5,3,1,2,3,5,6,1,6,7,9,1,6,3,5,2,5,2,2,3,6,9,5,4,2,1,2,1,1,4,3,1,2,2,2,2,2,2,2,8,3,3,6,4,2,3,4,1,13,3,1,1,6,3,2,4,4,6,1,3,2,2,4,2,9,2,2,3,1,9,2,3,1,2,2,4,4,2,1,1,3,2,1,6,2,2,2,1,4,1,6,6,3,2,3,1,2,3,2,1,4,2,5,6,1,1,2,5,2,1,1,5,2,1,5,3,3,5,1,2,2,2,1,3,4,2,2,2,3,2,2,1,2,2,7,2,1,4,1,6,2,12,2,4,7,5,5,2,2,1,2,3,3,3,6,2,2,2,6,1,3,2,4,2,1,6,2,1,3,4,4,3,1,1,2,2,6,4,1,1,1,1,1,6,1,3,2,2,2,1,9,3,2,3,21,1,1,1,1,2,3,2,3,2,2,2,2,1,1,10,3,3,2,3,1,2,2,3,1,3,1,2,1,1,1,1,2,3,2,4,2,4,2,2,1,1,3,1,2,3,2,1,7,2,1,2,1,3,5,2,1,1,4,5,2,2,1,1,3,1,2,4,1,1,2,2,4,3,3,2,3,2,1,1,3,3,3,6,8,3,4,1,1,2,1,3,3,3,1,2,1,2,4,1,1,1,2,2,2,2,2,1,3,3,1,1,1,1,4,3,4,1,4,5,1,3,1,3,1,2,12,1,2,1,2,2,3,4,2,2,1,1,2,1,1,2,2,3,4,1,3,2,1,3,2,5,1,3,2,1,3,4,5,2,3,5,1,1,2,1,3,2,4,8,16,1,2,1,10,4,3,2,6,5,2,2,13,1,4,2,6,1,2,7,1,2,4,4,2,2,2,2,1,3,3,1,5,1,1,1,3,13,3,2,1,2,2,1,1,5,1,1,5,1,3,6,5,6,1,1,2,2,2,5,1,1,8,1,1,4,5,2,1,4,1,1,5,1,2,3,4,1,1,1,3,3,5,1,3,3,2,5,3,2,2,1,2,1,1,3,2,2,6,6,7,1,3,6,2,12,1,1,2,1,1,1,1,1,8,2,1,3,7,2,2,4,8,2,1,4,6,1,5,1,2,2,1,1,1,4,4,3,1,1,8,2,1,6,1,1,1,1,2,7,9,5,1,5,2,5,2,1,3,2,2,4,2,1,2,3,3,1,6,3,1,1,1,3,2,7,2,2,2,1,3,1,1,1,5,6,6,13,2,6,2,1,2,6,2,2,1,3,2,4,2,4,4,2,2,4,3,1,2,3,3,1,1,4,1,2,1,2,3,4,2,5,1,3,3,4,3,2,1,1,2,3,2,2,2,3,3,4,1,3,2,5,1,3,2,2,3,6,2,2,4,2,1,2],\"type\":\"violin\",\"orientation\":\"h\",\"points\":false,\"side\":\"positive\",\"width\":3},{\"line\":{\"color\":\"rgb(102.5, 105.0, 105.0)\"},\"showlegend\":false,\"x\":[2,1,9,3,5,4,1,1,2,1,5,2,1,3,3,6,6,9,19,8,1,2,1,18,2,3,4,2,4,8,5,14,1,16,2,27,2,3,2,2,2,1,3,8,2,9,12,2,2,3,2,4,1,3,1,22,1,2,14,4,1,1,3,2,17,3,1,7,2,7,1,3,8,2,3,2,3,11,6,7,1,3,3,2,3,1,3,4,20,3,7,1,4,1,2,4,6,2,1,1,1,6,3,4,3,11,3,1,6,11,1,2,1,4,1,5,14,2,8,2,3,2,1,3,3,4,1,2,6,4,1,1,5,3,11,1,3,2,3,16,2,1,1,1,1,1,1,3,2,1,4,2,3,1,7,5,1,10,2,2,3,1,7,20,19,3,4,1,4,2,1,5,21,1,1,2,5,7,3,2,2,3,1,1,13,5,8,2,2,2,15,3,8,2,2,11,8,13,1,9,1,3,1,5,17,1,11,8,2,5,1,3,4,4,5,3,13,1,7,2,1,2,2,3,1,2,2,1,5,54,1,19,2,3,2,12,4,2,1,1,2,2,6,1,11,5,3,2,1,2,2,3,1,1,2,17,1,14,9,1,1,1,12,4,2,5,2,3,2,1,1,12,5,6,7,1,12,2,8,4,4,2,2,30,5,3,2,40,1,1,18,1,5,5,2,6,15,1,5,5,5,2,9,4,7,10,20,22,1,10,7,1,8,1,2,5,3,3,13,4,1,3,1,13,2,1,2,1,1,2,1,10,2,1,3,4,3,1,19,2,2,8,6,2,13,1,1,2,2,1,5,2,2,2,7,1,15,4,13,3,6,2,1,2,6,2,8,3,1,12,3,3,37,22,2,7,3,2,1,7,1,10,8,8,1,2,1,2,6,1,2,2,11,6,2,3,5,3,2,3,7,5,1,1,3,9,2,2,1,1,1,2,5,9,1,5,1,2,1,7,9,3,2,13,11,8,2,9,6,2,10,6,3,3,3,2,2,2,4,2,2,3,6,1,8,5,1,4,1,3,4,4,1,1,2,1,1,5,1,5,1,7,1,4,2,2,5,2,15,2,1,2,2,6,8,3,3,13,2,1,4,30,12,2,6,2,3,6,2,2,7,3,1,1,3,2,1,1,3,2,9,5,1,2,1,6,1,2,5,1,6,1,1,1,1,4,6,11,9,5,1,4,5,15,1,3,1,1,1,9,1,3,3,2,2,1,1,5,1,1,8,23,2,3,3,18,7,3,1,1,1,2,1,2,3,2,2,13,2,1,6,4,1,1,4,18,3,4,2,7,4,2,1,14,15,10,6,1,22,4,4,7,9,6,6,24,5,1,5,2,2,2,3,3,4,5,5,1,8,1,2,5,3,2,4,3,1,12,2,10,6,9,8,2,1,1,5,5,3,10,1,2,24,18,3,2,2,4,7,3,1,2,1,10,2,1,1,1,19,2,4,2,1,1,5,2,1,8,1,6,5,8,2,5,3,3,1,5,2,1,3,1,1,4,8,1,2,3,3,7,9,5,1,6,4,3,3,1,30,2,4,3,2,18,7,3,2,4,6,1,1,1,6,2,1,7,3,1,1,2,7,2,3,7,3,1,19,1,1,8,8,4,4,2,1,1,26,12,7,2,5,2,2,5,1,1,4,5,1,3,1,5,4,5,2,2,2,1,4,1,2,4,2,1,1,8,10,6,7,1,3,2,5,9,1,4,2,5,1,2,2,1,14,1,12,1,2,5,2,5,5,7,1,2,11,4,1,2,3,2,2,1,3,4,13,13,1,7,6,3,4,3,1,5,1,2,17,4,8,4,3,2,6,1,8,2,1,4,1,3,18,3,1,2,3,3,19,2,1,2,5,1,5,3,1,2,1,2,1,1,1,7,1,22,17,6,3,7,3,1,1,2,1,19,6,1,5,1,20,27,1,5,3,26,12,18,1,4,3,4,1,2,2,2,3,3,3,9,4,6,1,2,2,1,1,3,2,11,22,10,18,1,5,13,20],\"type\":\"violin\",\"orientation\":\"h\",\"points\":false,\"side\":\"positive\",\"width\":3},{\"line\":{\"color\":\"rgb(122.0, 86.0, 86.0)\"},\"showlegend\":false,\"x\":[4,1,2,1,2,3,2,1,5,1,2,2,1,3,3,2,1,2,4,2,1,4,1,4,5,2,2,8,1,3,4,2,2,2,2,2,2,2,3,1,2,2,3,1,4,1,5,1,4,1,2,2,5,1,3,1,5,1,2,1,2,2,2,3,2,2,8,2,2,2,2,2,1,1,4,1,1,2,2,2,1,2,1,8,10,2,2,2,4,4,1,1,4,1,7,1,1,1,4,5,2,1,2,1,4,4,5,1,1,2,1,5,4,1,2,1,2,4,3,2,1,2,2,3,3,4,2,4,1,2,2,1,2,9,6,2,1,1,4,3,1,2,4,4,1,2,4,1,1,2,4,3,2,2,2,4,2,1,8,2,3,2,1,4,4,1,4,6,1,2,2,1,4,1,7,3,2,4,2,2,2,3,2,3,1,1,1,2,1,3,6,6,1,3,2,2,2,4,1,2,1,4,4,4,8,2,3,2,1,4,1,3,1,1,2,2,3,2,2,2,2,4,1,2,1,2,2,1,5,4,6,1,4,2,2,1,4,8,1,3,1,3,1,1,2,2,2,2,2,1,1,3,3,2,3,2,3,1,4,1,1,2,2,2,4,6,3,2,2,2,2,4,2,4,3,4,3,2,2,2,3,4,1,1,5,1,2,2,1,1,2,1,1,4,7,1,1,4,1,1,2,2,7,2,2,4,6,2,5,1,4,3,2,3,4,7,2,5,3,3,3,1,2,6,1,2,2,5,4,3,1,2,3,4,1,2,2,1,10,2,3,2,2,1,1,6,3,1,3,4,3,2,3,1,4,2,2,3,1,2,3,1,1,2,1,2,3,7,1,2,1,4,3,6,4,6,3,2,6,2,2,1,4,2,2,10,2,4,1,6,2,1,2,1,1,12,1,4,8,1,6,2,1,2,8,2,1,2,2,3,2,1,2,4,1,5,5,1,3,1,1,1,4,2,3,2,1,2,4,3,1,2,1,1,2,4,6,1,5,6,1,2,1,1,1,1,8,3,1,2,2,6,2,2,2,1,2,2,4,2,3,1,2,5,2,5,4,6,1,8,2,2,3,2,6,6,1,2,5,1,3,1,2,5,1,3],\"type\":\"violin\",\"orientation\":\"h\",\"points\":false,\"side\":\"positive\",\"width\":3},{\"line\":{\"color\":\"rgb(141.5, 67.0, 67.0)\"},\"showlegend\":false,\"x\":[5,3,3,1,1,4,2,8,1,4,1,8,4,5,4,3,3,2,2,3,2,3,3,2,7,11,8,2,2,4,4,1,1,7,2,2,2,3,1,3,2,2,4,2,3,2,1,1,4,2,2,6,3,3,4,3,2,1,1,4,2,4,2,4,2,3,2,2,4,3,3,3,3,2,13,2,2,2,3,3,1,1,3,2,3,2,2,4,2,4,3,1,2,3,3,5,6,4,13,2,4,3,3,2,8,2,3],\"type\":\"violin\",\"orientation\":\"h\",\"points\":false,\"side\":\"positive\",\"width\":3},{\"line\":{\"color\":\"rgb(161.0, 48.0, 48.0)\"},\"showlegend\":false,\"x\":[2,4,3,1,6,3,2,1,1,6,2,2,2,4,5,1,1,2,2,4,2,3,5,1,8,2,2,2,1,2,2,2,3,3,2,2,2,2,2,2,2,2,1,1,1,2,4,3,3,2,5,1,2,2,3,3,2,7,3,4,1,6,4,3,2,2,2,1,6,1,3,2,2,2,3,4,2,2,3,1,4,7,2,1,2,2,2,3,2,1,3,1,10,1,1,2,2,4,1,1,1,2,1,4,2,2,1,2,2,2,1,1,3,1,1,11,2,2,9,4,3,7,3,6,2,3,2,2,4,1,1,5,1,1,2,2,2,2,2,5,1,2,4,10,2,4,1,2,7,2,4,4,2,2,4,3,2,2,3,2,2,3,2,1,6,2,5,2,1,1,1,1,1,1,2,2,4,3,1,3,2,3,5,2,3,3,5,1,2,1,2,2,5,4,2,3,1,6,1,6,2,5,1,1,1,2,2,5,2,2,8,6,3,2,2,2,4,4,5,1,9,7,1,1,4,2,1,2,1,5,2,2,1,1,2,1,1,1,3,1,1,1,3,3,2,1,7,6,3,5,1,4,1,17,2,2,2,1,3,6,1,1,3,3,2,4,2,2,1,2,2,2,2,2,1,1,3,1,2,9,2,3,5,1,5,2,7,1,1,6,3,2,2,1,2,6,2,4,6,3,2,5,7,7,1,1,3,1,1,2,1,2,3,6,1,3,1,1,3,3,2,1,2,3,1,2,2,1,2,1,4,1,8,2,3,2,2,6,6,1,3,4,6,1,1,1,2,2,10,2,1,5,1,2,3,1,4,11,1,2,2,2,3,2,1,1,2,2,1,2,2,1,1,2,1,1,2,2,1,3,1,9,3,2,2,2,1,4,2,2,5,3,6,2,1,3,1,3,5,2,3,3,2,3,1,2,2,2,3,1,2,2,1,6,2,1,1,1,1,1,2,2,2,1,3,2,1,3,2,1,1,1,1,3,4,2,5,3,2,1,5,1,1,1,1,4,5,3,1,2,3,5,2,2,4,6,1,4,1,1,2,2,4,2,1,3,1,7,1,1,1,5,6,4,2,1,2,3,2,1,9,4,2,2,2,1,1,2,2,1,2,4,1,4,2,2,10,3,2,1,13,2,4,3,2,2,9,5,1,8,2,4,4,1,2,2,3,1,2,3,1,2,1,2,5,2,5,1,6,4,2,1,2,1,2,7,2,8,5,2,2,2,4,3,1,3,3,2,5,2,2,2,3,11,1,5,3,2,1,3,3,2,11,2,14,2,3,1,3,3,3,1,1,2,2,3,2,1,2,2,5,7,5,2,2,2,1,9,2,1,8,4,1,2,1,4,1,2,10,7,1,2,1,1,2,1,10,2,1,1,2,1,2,2,1,5,2,3,2,1,3,1,2,1,2,4,5,2,1,9,2,3,3,1,9,7,2,7,2,12,3,4,4,6,1,2,3,3,3,3,2,12,1,2,2,2,11,12,2,2,6,2,2,2,1,2,6,5,2,3,1,5,3,9,2,2,1,8,3,1,3,4,15,3,1,16,5,2,2,2,2,2,1,1,3,2,2,1,8,2,1,5,1,6,1,5,2,11,13,2,5,2,3,1,1,3,17,2,5,4,2,2,5,2,3,3,3,2,1,2,5,2,2,5,3,1,2,6,5,1,13,2,1,1,1,1,1,7,2,2,14,2,3,3,4,5,1,1,2,1,11,2,2,1,2,2,1,2,1,1,4,3,1,2,8,4,1,3,1,5,11,4,1,3,2,2,2,1,9,4,2,3,5,2,10,4,2,1,4,3,3,5,2,2,3,5,5,3,2,1,6,2,2,2,4,3,1,3,4,3,1,1,3,2,4,1,6,3,3,2,2,2,1,5,4,4,2,2,7,2,1,14,1,1,3,5,5,2,1,1,2,2,1,2,2,1,4,2,1,2,3,1,5,4,2,2,2,1,2,2,2,2,1,1,5,8,6,3,2,2,7,1,1,1,3,2,2,4,3,2,3,4,2,5,2,5,2,2,4,2,6,1,16,1,1,3,1,9,7,7,1,1,1,1,3,9,2,6,1,1,2,2,2,2,2,14,1,2,2,2,3,2,1,2,2,4,1,1,1,1,5,2,1,2,2,3,1,4,1,8,3,3,5,7,8,5,1,2,4,1,2,5,1,1,2,2,3,1,1,2,5,3,6,6,1,1,1,1,3,4,2,2,21,1,1,1,2,2,2,1,5,1,1,1,1,3,3,1,1,1,1,7,2,1,2,2,2,2,2,3,4,1,4,3,6,5,7,4,9,2,2,1,4,3,1,5,2,1,5,2,1,1,2,3,2,3,2,3,2,2,5,2,9,3,4,5,6,2,8,7,1,3,2,8,1,1,2,2,2,8,1,2,2,3,2,7,2,2,1,1,3,3,1,3,2,3,2,2,4,2,3,2,1,2,1,1,2,2,2,9,1,1,1,2,9,2,3,1,3,3,3,1,1,2,1,2,1,4,3,4,1,1,1,4,2,4,1,5,3,1,1,3,1,4,2,1,1,1,7,1,1,7,2,3,2,5,1,2,2,10,5,2,2,1,6,1,2,3,3,2,1,4,3,1,2,2,2,1,1,3,2,2,1,1,2,2,1,2,2,5,7,5,2,2,1,1,2,2,2,5,1,1,4,2,2,5,4,2,1,1,5,2,1,2,4,3,2,2,6,6,1,1,1,2,2,2,1,8,2,3,1,6,3,1,2,1,3,3,2,2,10,5,9,1,2,4,2,2,2,2,1,4,2,2,1,1,5,6,2,2,1,2,1,2,2,1,2,3,6,2,2,1,3,5,2,3,3,2,3,1,1,7,3,1,3,1,2,5,3,6,2,1,2,2,2,5,2,3,2,1,3,1,10,3,2,1,5,4,2,2,1,1,2,1,1,2,2,3,2,2,5,1,3,4,12,1,1,1,4,3,3,1,2,2,1,4,3,2,2,3,3,3,3,5,3,3,1,3,3,2,1,1,2,2,1,1,1,2,1,3,2,1,2,1,1,2,2,3,1,5,1,2,2,3,4,2,14,2,2,4,2,1,13,2,5,2,1,2,1,5,1,6,4,1,4,2,2,5,3,1,3,2,2,1,1,2,4,3,2,1,1,6,2,8,1,2,2],\"type\":\"violin\",\"orientation\":\"h\",\"points\":false,\"side\":\"positive\",\"width\":3},{\"line\":{\"color\":\"rgb(180.5, 29.0, 29.0)\"},\"showlegend\":false,\"x\":[4,1,1,1,9,3,6,1,2,11,6,6,2,4,2,2,3,6,1,1,1,1,1,3,2,2,11,4,3,4,5,6,2,1,9,5,3,3,3,2,1,2,2,4,4,5,1,8,2,1,1,16,1,1,20,1,7,4,2,3,4,2,1,2,2,2,1,1,7,3,6,2,2,1,7,5,1,2,5,3,3,1,2,3,2,2,3,5,3,3,1,1,6,1,8,3,1,1,2,3,2,5,2,1,2,1,2,1,1,3,2,3,1,7,3,1,3,1,3,2,1,2,2,3,8,3,5,2,2,3,2,3,1,16,3,1,1,3,4,10,3,3,5,6,2,2,6,4,3,1,3,5,1,2,1,3,2,11,8,2,3,2,2,2,4,3,5,1,6,3,3,3,1,2,2,2,5,2,8,5,2,8,3,2,3,5,1,2,1,1,2,4,5,4,18,5,4,5,5,1,1,2,10,3,5,2,1,10,3,2,4,3,6,3,2,1,13,7,2,1,9,7,1,9,2,6,2,2,6,2,6,2,5,2,1,7,1,2,3,1,1,13,5,3,2,1,4,7,5,8,1,4,2,3,2,3,1,4,5,2,4,4,1,1,3,21,2,1,2,1,1,2,1,1,5,3,2,2,1,1,2,1,2,3,7,4,6,8,12,2,1,1,1,2,9,3,1,2,1,7,2,4,1,5,3,1,3,1,1,1,1,8,1,8,2,2,1,1,4,4,1,3,1,3,1,1,5,3,5,2,5,6,2,3,1,1,2,1,3,4,1,1,1,7,4,7,2,2,1,4,1,2,1,2,1,1,3,2,1,5,11,3,1,9,3,2,4,2,2,4,4,1,2,7,2,3,1,2,5,3,1,2,2,9,1,5,3,1,1,11,4,3,4,13,1,2,8,3,3,6,2,2,1,1,2,6,2,11,1,5,4,9,2,2,2,13,17,2,2,1,2,5,3,4,1,5,4,1,1,5,5,1,1,4,1,2,3,5,8,1,2,1,2,1,11,5,2,1,3,4,2,3,5,2,1,2,4,2,4,1,1,1,1,2,2,1,2,10,2,2,14,9,2,1,2,1,2,30,2,3,5,6,1,2,17,4,3,5,2,1,1,8,3,1,1,6,1,2,5,5,1,1,3,2,1,1,2,2,3,3,2,2,3,2,2,3,10,1,5,6,5,6,2,1,2,2,2,2,1,1,3,3,6,7,1,4,6,3,1,3,4,1,1,2,2,1,7,3,2,3,1,1,3,1,1,3,1,6,1,6,3,2,2,4,1,5,1,1,2,2,1,4,1,1,6,1,8,2,1,6,2,2,1,10,2,1,1,1,2,5,2,4,4,5,1,3,6,3,2,3,2,2,3,2,3,3,5,2,1,1,2,1,1,2,2,2,1,1,2,4,1,3,4,2,1,2,3,2,9,8,1,2,3,3,2,3,3,2,1,1,5,6,6,3,2,14,1,5,1,2,1,1,11,10,5,1,4,5,1,12,1,2,3,1,5,1,1,3,3,1,4,5,5,3,10,2,1,1,14,14,2,3,5,1,4,2,2,1,1,2,2,4,2,2,2,1,3,1,6,2,3,4,10,1,1,8,1,2,8,1,1,2,4,2,1,2,4,1,5,31,7,3,2,7,1,4,2,5,4,5,2,2,1,2,1,7,2,2,10,2,2,1,3,3,2,4,5,3,4,2,2,2,4,2,7,3,1,6,2,6,1,3,5,4,3,1,4,1,4,2,10,1,4,12,1,2,5,2,3,2,2,2,3,7,8,2,1,1,2,1,2,3,1,2,9,5,2,4,5,2,1,1,3,4,2,2,2,2,1,6,5,2,5,2,6,1,2,1,2,31,1,3,1,3,1,1,1,1,3,3,2,1,2,12,2,2,1,1,2,7,1,2,2,2,2,2,1,11,1,2,3,1,3,2,3,3,7,9,2,1,6,4,2,2,2,1,2,1,1,1,5,2,5,1,3,2,2,2,2,11,3,1,3,4,4,1,2,4,2,2,1,3,1,3,1,2,2,2,2,3,2,2,3,4,10,4,9,5,7,2,5,3,3,3,2,3,2,1,2,4,2,3,2,1,2,5,1,2,5,2,1,1,2,3,5,1,2,1,3,9,4,1,3,6,3,2,1,2,1,5,2,2,2,2,4,1,3,4,5,4,5,1,2,1,6,2,2,1,1,4,2,7,2,2,3,3,1,2,2,3,3,12,2,2,5,1,3,6,1,4,3,2,1,2,1,5,7,2,6,2,2,1,2,2,4,2,15,2,6,2,2,4,2,5,37,1,1,3,1,1,2,3,7,2,5,4,4,2,3,2,1,5,1,1,2,7,3,2,13,2,4,2,3,5,1,3,2,6,9,8,8,2,2,6,2,2,2,3,5,1,1,4,2,13,1,3,3,1,8,2,2,4,2,1,2,19,2,2,5,3,4,2,1,23,7,4,2,3,2,9,7,2,2,1,2,2,1,2,2,1,2,4,2,2,4,1,1,7,6,2,10,1,3,6,1,1,1,2,6,2,2,1,1,3,8,2,5,4,1,3,1,5,3,1,1,4,2,6,4,7,2,1,2,1,3,9,3,3,1,19,3,2,3,5,5,1,2,4,2,13,2,2,5,4,5,3,2,1,8,2,2,3,3,1,3,2,2,1,2,2,2,11,2,1,5,6,3,2,2,3,1,4,7,1,2,3,1,1,2,10,2,5,2,3,5,2,1,2,2,2,2,1,1,1,1,2,12,2,7,3,6,2,1,2,1,4,4,1,1,2,2,6,9,7,2,1,1,7,2,5,4,9,4,2,1,2,2,2,11,2,3,4,1,2,2,2,2,11,2,5,1,4,7,3,5,3,2,1,8,3,7,4,1,1,3,3,7,4,3,2,5,1,4,2,2,1,2,5,5,1,4,1,2,1,1,2,1,10,1,2,2,4,2,7,4,4,3,1,1,5,3,3,1,2,7,2,1,9,1,4,1,1,1,3,14,4,2,3,1,3,2,6,3,2,4,2,3,4,5,1,2,4,1,1,2,2,7,1,1,5,4,4,1,5,3,6,2,3,4,7,3,3,3,5,1,6,2,1,1,1,1,7,2,2,2,1,1,1,13,1,1,3,4,16,9,1,2,8,7,2,3,6,5,2,2,3,1,3,1,3,2,2,5,2,2,2,1,2,1,1,3,8,3,2,3,3,3,5,3,5,3,3,3,1,7,1,2,2,2,2,1,12,1,2,2,4,1,4,5,2,5,3,1,1,3,11,2,3,2,4,1,3,5,1,2,2,11,2,1,3,3,3,2,1,2,3,6,3,1,1,13,1,4,1,3,2,1,4,6,2,3,2,1,3,1,3,2,4,1,7,5,2,22,2,4,1,1,1,14,1,6,2,6,5,6,3,1,1,5,1,8,2,2,2,2,3,1,3,3,1,1,6,3,3,5,2,2,4,1,2,2,1,3,3,1,1,1,3,3,3,1,1,2,4,2,2,3,10,1,5,8,14,4,2,2,6,2,2,2,1,4,2,1,3,1,1,2,2,1,2,2,2,11,2,2,4,3,5,1,3,2,2,3,7,2,3,2,2,8,4,3,1,4,2,4,4,2,7,3,2,10,4,1,3,6,2,1,2,4,1,3,7,3,2,4,2,2,1,1,1,3,2,7,6,1,2,4,2,4,4,2,5,2,5,3,2,4,2,1,3,4,2,1,3,2,9,1,8,4,2,1,1,7,1,1,2,1,1,2,3,3,3,2,2,2,7,1,3,3,3,1,12,4,17,3,10,5,1,1,3,4,5,2,2,1,1,2,2,2,1,3,4,3,3,1,8,5,8,2,2,3,2,2,3,3,1,6,3,4,12,7,3,2,2,2,7,9,1,3,3,4,5,1,2,1,2,2,1,1,4,3,1,2,1,2,2,2,1,1,3,4,2,5,14,2,2,2,2,3,3,3,2,2,5,1,1,8,5,2,4,7,30,2,1,1,1,6,2,1,9,2,3,2,2,2,4,2,3,1,3,1,5,5,2,6,6,3,3,2,7,2,6,6,1,27,2,3,1,3,9,7,2,2,8,4,3,1,2,3,2,2,2,2,1,2,2,2,1,3,2,3,5,2,1,4,2,1,1,4,5,3,4,1,1,6,3,14,3,2,3,1,4,8,5,10,1,2,4,13,1,4,3,1,1,5,2,10,4,1,6,3,5,2,1,1,1,1,4,2,5,3,9,6,4,2,3,9,3,1,1,3,2,2,3,2,2,3,1,6,6,7,1,6,1,3,1,2,1,1,5,2,1,3,4,2,4,1,5,1,2,1,1,1,1,1,7,14,2,4,2,3,6,1,2,9,2,3,1,2,5,1,1,5,3,1,2,2,1,1,7,2,3,4,1,1,1,2,8,2,1,1,4,2,2,2,2,9,1,2,3,2,2,1,1,5,6,7,2,2,3,2,2,1,10,1,3,2,4,1,7,2,1,2,3,4,10,5,11,3,3,3,3,1,2,3,6,2,2,17,1,10,1,2,4,2,1,3,2,2,2,3,4,1,5,6,6,3,4,1,2,2,2,2,2,1,1,2,3,5,4,1,1,6,2,1,4,1,1,2,3,3,3,1,8,5,4,2,4,2,7,1,2,1,9,4,5,3,1,2,3,1,6,3,3,3,1,8,2,2,5,12,1,3,2,7,4,3,9,3,2,1,2,9,2,2,3,1,4,8,3,5,2,2,4,2,6,1,2,1,2,3,5,1,2,4,5,3,2,5,1,1,5,2,1,4,1,5,2,2,2,5,4,1,1,3,5,1,1,8,14,14,2,1,10,1,3,3,9,5,3,3,2,4,7,3,10,5,2,1,1,1,1,3,1,1,5,1,3,2,5,1,16,3,4,4,2,5,3,1,2,1,4,2,6,2,6,1,3,3,4,6,1,3,6,1,1,2,2,3,2,1,1,5,5,3,1,13,3,5,2,2,3,2,3,5,1,10,5,1,6,4,14,2,9,1,2,4,2,1,1,4,2,3,6,9,8,2,2,2,3,2,4,1,8,6,2,1,6,11,3,9,1,2,1,1,1,5,5,3,1,2,2,2,2,6,1,5,3,1,1,2,2,2,4,1,2,2,1,3,2,3,1,7,2,3,2,2,4,2,5,4,3,2,3,1,17,2,2,5,1,2,30,2,11,5,2,4,4,3,5,2,5,3,3,2,1,2,1,5,3,4,2,5,1,7,2,8,2,2,3,2,6,2,4,2,3,3,3,2,8,7,2,3,1,1,5,6,2,6,3,5,1,1,27,2,2,2,1,20,8,3,2,1,1,2,1,5,2,4,1,3,1,7,4,10,1,2,1,2,1,2,5,1,3,3,6,3,2,2,1,2,1,2,1,2,1,1,2,2,3,2,1,2,1,2,1,1,3,3,3,3,7,1,9,2,2,9,2,2,10,3,1,1,3,2,1,2,2,7,4,6,8,12,10,2,2],\"type\":\"violin\",\"orientation\":\"h\",\"points\":false,\"side\":\"positive\",\"width\":3},{\"line\":{\"color\":\"rgb(200.0, 10.0, 10.0)\"},\"showlegend\":false,\"x\":[1,1,1,1,1,1,1,1,1,3,3,2,1,1,1,1,1,2,7,1,2,1,1,1,1,1,1,2,1,11,1,2,8,1,1,2,1,1,1,1,1,2,2,1,1,1,1,1,2,1,1,1,1,1,1,4,1,1,1,1,1,1,1,1,1,1,4,2,1,1,1,1,1,1,2,1,1,1,2,2,1,1,1,1,4,1,1,1,1,1,1,1,1,1,1,1,1,1,2,1,1,1,1,1,1,5,2,1,12,2,1,1,1,4,1,2,1,4,1,1,1,2,4,1,1,1,1,2,2,1,3,1,2,1,1,1,2,1,3,1,1,1,1,3,1,1,1,1,1,2,3,1,1,1,4,3,1,1,2,1,1,3,6,1,1,1,1,4,1,4,1,5,14,3,1,1,1,8,1,1,2,4,1,1,1,1,1,1,8,2,1,3,1,1,6,2,7,1,1,2,2,1,1,1,3,1,1,1,1,3,5,3,3,16,5,9,12,4,2,5,1,5,1,1,3,1,1,2,1,1,2,1,1,1,1,1,1,3,1,1,1,3,2,1,1,1,1,1,1,1,1,1,1,1,1,9,4,3,2,2,1,2,2,2,2,3,1,1,1,1,2,1,1,1,1,1,1,1,2,1,2,1,1,1,4,5,2,4,2,1,1,1,1,1,1,5,1,1,1,3,1,1,2,1,1,1,1,3,3,1,1,1,2,1,2,2,2,2,1,1,2,16,1,2,1,2,11,7,1,1,4,1,6,2,1,1,1,2,2,1,2,2,1,1,1,1,2,1,1,2,1,1,2,1,2,1,4,2,1,1,1,1,1,3,1,3,1,2,4,9,3,1,1,1,1,1,1,1,1,1,1,1,3,9,5,1,1,1,1,2,1,2,2,2,5,7,4,1,1,2,1,1,1,1,1,1,1,2,2,2,1,1,1,1,1,1,1,1,11,8,1,3,2,1,4,2,1,4,1,1,1,1,1,1,1,1,1,1,1,1,1,1,1,1,1,1,1,1,1,1,2,1,2,1,1,1,1,2,3,1,1,4,1,1,1,2,4,2,1,3,3,1,1,1,1,1,1,2,1,2,7,3,1,1,1,2,4,4,2,2,10,2,6,1,1,1,1,2,1,1,1,1,1,1,2,1,1,1,11,15,1,1,1,1,3,1,1,1,1,2,3,1,3,4,2,1,1,1,2,1,1,2,2,2,1,1,1,1,1,1,2,2,1,4,1,1,1,1,1,1,1,1,1,1,1,1,1,1,1,4,2,3,2,4,1,2,1,1,1,15,2,2,1,1,1,6,2,1,2,1,1,1,2,2,1,1,1,1,1,1,1,1,3,2,3,1,1,1,1,3,1,1,1,1,1,2,1,1,1,7,2,1,1,3,1,2,1,2,1,1,4,1,1,2,1,1,1,1,4,1,1,2,1,1,1,1,1,3,1,2,1,1,1,2,1,1,2,1,1,1,1,1,10,1,2,1,1,1,2,2,2,1,1,1,1,1,1,10,2,2,2,1,3,1,1,2,5,2,2,1,4,1,1,1,1,1,1,1,1,1,1,3,1,1,1,2,5,1,1,1,2,8,1,1,3,3,1,1,1,5,2,6,1,1,2,1,1,3,1,4,2,5,1,1,1,3,1,1,1,4,1,2,3,2,1,1,2,2,1,1,1,4,24,2,2,1,2,2,3,1,2,1,1,1,2,3,1,2,1,1,1,1,1,19,7,2,1,1,5,1,19,1,3,1,1,1,1,1,1,2,1,1,1,2,1,1,1,2,1,1,1,1,1,3,1,1,1,2,6,1,1,3,5,1,2,1,2,1,1,1,1,1,1,1,1,1,1,1,2,3,2,6,1,1,1,1,1,1,1,6,1,4,1,1,1,1,1,1,1,6,2,6,1,1,1,2,5,1,4,1,1,1,2,4,1,10,1,1,1,2,2,3,2,1,1,1,1,3,1,1,3,1,5,1,1,1,4,2,5,9,7,1,1,1,1,1,1,3,7,11,1,1,4,1,1,1,1,3,12,1,1,1,1,2,1,1,2,1,1,1,1,1,1,1,2,1,1,3,1,1,3,1,2,2,2,7,1,1,1,9,3,3,1,1,2,1,1,1,1,1,2,1,1,2,1,1,1,1,1,1,1,4,1,1,1,3,1,1,2,4,1,1,1,1,1,1,8,1,1,3,3,1,1,1,1,1,1,2,1,1,5,2,1,1,4,1,1,1,1,9,4,1,1,1,4,1,1,1,3,3,1,1,4,1,1,1,4,4,1,2,1,1,1,2,1,2,8,3,1,1,1,1,1,3,6,13,1,1,1,1,1,1,3,5,2,2,1,1,2,5,1,1,1,1,1,1,9,1,1,2,2,3,2,1,1,1,2,1,2,1,1,1,1,1,1,1,1,1,1,1,1,1,1,1,1,1,1,1,1,1,1,3,1,1,1,4,2,4,1,1,1,2,1,1,1,1,2,1,1,3,1,3,1,2,1,1,1,1,1,1,1,1,4,1,2,1,1,1,1,5,1,2,1,1,1,1,1,1,2,1,1,1,2,6,1,6,4,15,2,1,1,1,3,2,2,2,2,2,1,2,1,4,3,1,1,2,1,1,1,1,1,3,1,1,1,1,1,2,2,2,1,1,1,2,1,1,28,1,1,9,1,1,1,2,1,1,1,1,1,5,4,5,6,1,3,1,1,7,1,1,3,2,5,9,1,2,2,1,1,1,1,1,1,2,1,2,1,2,1,1,14,2,3,3,7,1,1,1,1,1,1,1,10,1,1,3,1,1,1,1,1,1,1,1,1,1,2,1,1,1,2,3,1,1,2,14,1,1,2,2,1,3,3,1,1,2,1,1,1,2,1,1,1,2,1,4,7,5,2,2,1,1,1,1,1,2,12,2,1,1,2,1,1,2,1,1,1,1,1,1,1,1,2,1,1,2,6,8,1,1,1,1,1,1,1,6,4,5,1,1,1,4,1,1,1,3,5,1,1,2,2,2,1,1,1,1,1,2,2,2,1,1,2,1,1,1,1,1,2,1,2,1,1,1,1,2,1,11,1,5,2,2,1,1,4,1,1,1,1,8,7,1,1,1,1,2,3,25,1,1,2,1,1,1,1,1,1,1,1,1,2,3,1,1,4,3,1,1,1,1,1,1,1,1,1,1,1,1,1,2,6,1,1,1,1,2,12,5,2,2,1,1,3,1,1,1,3,1,1,1,1,1,1,1,3,1,2,5,1,1,1,1,1,4,2,1,2,1,6,1,2,1,1,4,1,2,10,1,1,2,2,5,1,1,1,1,1,1,1,4,10,1,1,5,1,2,1,1,1,5,1,2,3,2,1,1,3,5,2,1,1,1,1,1,1,2,1,1,1,1,1,1,1,1,1,2,1,1,1,2,1,3,1,1,6,2,1,1,2,1,1,2,1,2,2,1,1,1,1,1,1,1,1,2,1,7,3,1,1,1,1,2,1,1,1,1,2,2,3,1,2,2,3,4,1,2,3,1,1,1,1,2,1,4,1,1,1,3,2,1,1,3,2,1,1,2,1,1,1,1,1,4,1,1,1,1,1,1,1,2,3,1,5,2,1,1,3,6,1,1,1,2,2,2,2,1,2,2,1,11,1,4,1,1,4,9,1,1,1,1,1,1,6,1,9,4,1,2,1,1,1,1,1,1,1,1,1,1,1,1,1,1,3,2,4,1,1,1,1,1,2,2,1,1,1,1,2,1,1,1,2,1,1,2,1,2,4,1,1,1,1,1,1,1,1,1,1,1,1,1,1,1,1,1,2,1,1,1,1,1,2,1,1,1,2,1,2,1,1,1,1,1,4,4,1,4,4,3,1,4,1,3,1,4,2,1,4,2,1,3,1,1,4,1,1,1,1,1,1,1,1,2,4,1,1,4,13,13,6,4,8,9,3,1,1,1,1,1,1,2,9,1,1,2,1,3,2,2,2,2,1,5,1,1,3,1,2,1,1,1,1,1,1,1,1,1,2,1,1,1,1,2,1,2,1,1,1,4,1,1,1,1,1,1,1,4,7,1,2,3,1,10,3,2,4,1,1,3,1,2,1,2,2,3,1,1,1,2,6,1,1,1,2,1,1,2,1,7,2,2,2,1,1,1,1,1,1,5,1,1,1,1,1,1,1,1,8,1,1,1,2,1,1,3,2,2,1,1,1,1,1,2,1,1,1,1,8,2,1,2,2,1,1,1,2,9,1,2,1,1,2,3,2,2,5,1,1,1,1,2,1,6,1,1,1,2,3,5,1,1,1,1,2,1,1,1,1,1,2,2,1,1,1,1,2,1,1,1,1,2,2,4,1,1,4,1,1,1,2,2,1,1,1,9,4,1,1,2,3,5,1,1,1,4,1,2,7,5,1,1,1,1,1,1,1,2,3,5,9,7,2,1,1,1,1,2,4,1,2,1,1,2,1,1,1,1,1,1,6,1,1,1,1,1,1,2,9,1,1,1,1,1,1,1,1,1,1,3,5,1,2,1,4,4,1,1,2,1,1,2,1,1,2,1,1,2,1,1,2,1,1,2,1,1,1,1,1,2,1,2,6,1,1,2,3,5,3,1,1,3,1,1,1,1,14,1,1,2,1,1,2,4,1,10,1,1,1,1,1,1,1,1,2,3,2,2,6,1,2,12,1,1,1,2,1,6,2,1,1,2,6,1,5,3,1,1,6,1,1,1,1,1,8,1,1,2,3,1,1,2,1,1,3,2,1,1,1,1,1,1,1,1,2,4,1,1,1,1,1,1,2,1,1,2,2,6,2,1,5,1,1,1,1,1,2,1,2,2,3,1,2,1,1,7,1,1,2,2,1,2,1,3,2,2,2,2,2,1,2,1,1,1,1,2,1,2,3,1,1,1,3,1,2,1,1,3,1,2,14,2,5,2,2,4,2,2,2,1,1,4,10,1,1,1,1,1,2,1,1,1,2,2,1,4,1,1,2,2,1,1,1,1,3,1,1,2,1,1,1,1,1,1,1,2,9,2,10,2,2,5,9,1,1,5,1,1,1,4,1,1,1,1,1,1,1,1,1,1,1,1,1,1,1,1,1,1,1,1,1,1,1,1,1,1,1,1,1,1,1,1,3,1,2,2,3,2,1,2,1,2,1,2,1,2,6,1,1,2,4,9,1,1,1,4,1,3,2,2,4,1,3,1,2,1,2,2,1,1,1],\"type\":\"violin\",\"orientation\":\"h\",\"points\":false,\"side\":\"positive\",\"width\":3}],                        {\"template\":{\"data\":{\"barpolar\":[{\"marker\":{\"line\":{\"color\":\"rgb(234,234,242)\",\"width\":0.5},\"pattern\":{\"fillmode\":\"overlay\",\"size\":10,\"solidity\":0.2}},\"type\":\"barpolar\"}],\"bar\":[{\"error_x\":{\"color\":\"rgb(36,36,36)\"},\"error_y\":{\"color\":\"rgb(36,36,36)\"},\"marker\":{\"line\":{\"color\":\"rgb(234,234,242)\",\"width\":0.5},\"pattern\":{\"fillmode\":\"overlay\",\"size\":10,\"solidity\":0.2}},\"type\":\"bar\"}],\"carpet\":[{\"aaxis\":{\"endlinecolor\":\"rgb(36,36,36)\",\"gridcolor\":\"white\",\"linecolor\":\"white\",\"minorgridcolor\":\"white\",\"startlinecolor\":\"rgb(36,36,36)\"},\"baxis\":{\"endlinecolor\":\"rgb(36,36,36)\",\"gridcolor\":\"white\",\"linecolor\":\"white\",\"minorgridcolor\":\"white\",\"startlinecolor\":\"rgb(36,36,36)\"},\"type\":\"carpet\"}],\"choropleth\":[{\"colorbar\":{\"outlinewidth\":0,\"tickcolor\":\"rgb(36,36,36)\",\"ticklen\":8,\"ticks\":\"outside\",\"tickwidth\":2},\"type\":\"choropleth\"}],\"contourcarpet\":[{\"colorbar\":{\"outlinewidth\":0,\"tickcolor\":\"rgb(36,36,36)\",\"ticklen\":8,\"ticks\":\"outside\",\"tickwidth\":2},\"type\":\"contourcarpet\"}],\"contour\":[{\"colorbar\":{\"outlinewidth\":0,\"tickcolor\":\"rgb(36,36,36)\",\"ticklen\":8,\"ticks\":\"outside\",\"tickwidth\":2},\"colorscale\":[[0.0,\"rgb(2,4,25)\"],[0.06274509803921569,\"rgb(24,15,41)\"],[0.12549019607843137,\"rgb(47,23,57)\"],[0.18823529411764706,\"rgb(71,28,72)\"],[0.25098039215686274,\"rgb(97,30,82)\"],[0.3137254901960784,\"rgb(123,30,89)\"],[0.3764705882352941,\"rgb(150,27,91)\"],[0.4392156862745098,\"rgb(177,22,88)\"],[0.5019607843137255,\"rgb(203,26,79)\"],[0.5647058823529412,\"rgb(223,47,67)\"],[0.6274509803921569,\"rgb(236,76,61)\"],[0.6901960784313725,\"rgb(242,107,73)\"],[0.7529411764705882,\"rgb(244,135,95)\"],[0.8156862745098039,\"rgb(245,162,122)\"],[0.8784313725490196,\"rgb(246,188,153)\"],[0.9411764705882353,\"rgb(247,212,187)\"],[1.0,\"rgb(250,234,220)\"]],\"type\":\"contour\"}],\"heatmapgl\":[{\"colorbar\":{\"outlinewidth\":0,\"tickcolor\":\"rgb(36,36,36)\",\"ticklen\":8,\"ticks\":\"outside\",\"tickwidth\":2},\"colorscale\":[[0.0,\"rgb(2,4,25)\"],[0.06274509803921569,\"rgb(24,15,41)\"],[0.12549019607843137,\"rgb(47,23,57)\"],[0.18823529411764706,\"rgb(71,28,72)\"],[0.25098039215686274,\"rgb(97,30,82)\"],[0.3137254901960784,\"rgb(123,30,89)\"],[0.3764705882352941,\"rgb(150,27,91)\"],[0.4392156862745098,\"rgb(177,22,88)\"],[0.5019607843137255,\"rgb(203,26,79)\"],[0.5647058823529412,\"rgb(223,47,67)\"],[0.6274509803921569,\"rgb(236,76,61)\"],[0.6901960784313725,\"rgb(242,107,73)\"],[0.7529411764705882,\"rgb(244,135,95)\"],[0.8156862745098039,\"rgb(245,162,122)\"],[0.8784313725490196,\"rgb(246,188,153)\"],[0.9411764705882353,\"rgb(247,212,187)\"],[1.0,\"rgb(250,234,220)\"]],\"type\":\"heatmapgl\"}],\"heatmap\":[{\"colorbar\":{\"outlinewidth\":0,\"tickcolor\":\"rgb(36,36,36)\",\"ticklen\":8,\"ticks\":\"outside\",\"tickwidth\":2},\"colorscale\":[[0.0,\"rgb(2,4,25)\"],[0.06274509803921569,\"rgb(24,15,41)\"],[0.12549019607843137,\"rgb(47,23,57)\"],[0.18823529411764706,\"rgb(71,28,72)\"],[0.25098039215686274,\"rgb(97,30,82)\"],[0.3137254901960784,\"rgb(123,30,89)\"],[0.3764705882352941,\"rgb(150,27,91)\"],[0.4392156862745098,\"rgb(177,22,88)\"],[0.5019607843137255,\"rgb(203,26,79)\"],[0.5647058823529412,\"rgb(223,47,67)\"],[0.6274509803921569,\"rgb(236,76,61)\"],[0.6901960784313725,\"rgb(242,107,73)\"],[0.7529411764705882,\"rgb(244,135,95)\"],[0.8156862745098039,\"rgb(245,162,122)\"],[0.8784313725490196,\"rgb(246,188,153)\"],[0.9411764705882353,\"rgb(247,212,187)\"],[1.0,\"rgb(250,234,220)\"]],\"type\":\"heatmap\"}],\"histogram2dcontour\":[{\"colorbar\":{\"outlinewidth\":0,\"tickcolor\":\"rgb(36,36,36)\",\"ticklen\":8,\"ticks\":\"outside\",\"tickwidth\":2},\"colorscale\":[[0.0,\"rgb(2,4,25)\"],[0.06274509803921569,\"rgb(24,15,41)\"],[0.12549019607843137,\"rgb(47,23,57)\"],[0.18823529411764706,\"rgb(71,28,72)\"],[0.25098039215686274,\"rgb(97,30,82)\"],[0.3137254901960784,\"rgb(123,30,89)\"],[0.3764705882352941,\"rgb(150,27,91)\"],[0.4392156862745098,\"rgb(177,22,88)\"],[0.5019607843137255,\"rgb(203,26,79)\"],[0.5647058823529412,\"rgb(223,47,67)\"],[0.6274509803921569,\"rgb(236,76,61)\"],[0.6901960784313725,\"rgb(242,107,73)\"],[0.7529411764705882,\"rgb(244,135,95)\"],[0.8156862745098039,\"rgb(245,162,122)\"],[0.8784313725490196,\"rgb(246,188,153)\"],[0.9411764705882353,\"rgb(247,212,187)\"],[1.0,\"rgb(250,234,220)\"]],\"type\":\"histogram2dcontour\"}],\"histogram2d\":[{\"colorbar\":{\"outlinewidth\":0,\"tickcolor\":\"rgb(36,36,36)\",\"ticklen\":8,\"ticks\":\"outside\",\"tickwidth\":2},\"colorscale\":[[0.0,\"rgb(2,4,25)\"],[0.06274509803921569,\"rgb(24,15,41)\"],[0.12549019607843137,\"rgb(47,23,57)\"],[0.18823529411764706,\"rgb(71,28,72)\"],[0.25098039215686274,\"rgb(97,30,82)\"],[0.3137254901960784,\"rgb(123,30,89)\"],[0.3764705882352941,\"rgb(150,27,91)\"],[0.4392156862745098,\"rgb(177,22,88)\"],[0.5019607843137255,\"rgb(203,26,79)\"],[0.5647058823529412,\"rgb(223,47,67)\"],[0.6274509803921569,\"rgb(236,76,61)\"],[0.6901960784313725,\"rgb(242,107,73)\"],[0.7529411764705882,\"rgb(244,135,95)\"],[0.8156862745098039,\"rgb(245,162,122)\"],[0.8784313725490196,\"rgb(246,188,153)\"],[0.9411764705882353,\"rgb(247,212,187)\"],[1.0,\"rgb(250,234,220)\"]],\"type\":\"histogram2d\"}],\"histogram\":[{\"marker\":{\"pattern\":{\"fillmode\":\"overlay\",\"size\":10,\"solidity\":0.2}},\"type\":\"histogram\"}],\"mesh3d\":[{\"colorbar\":{\"outlinewidth\":0,\"tickcolor\":\"rgb(36,36,36)\",\"ticklen\":8,\"ticks\":\"outside\",\"tickwidth\":2},\"type\":\"mesh3d\"}],\"parcoords\":[{\"line\":{\"colorbar\":{\"outlinewidth\":0,\"tickcolor\":\"rgb(36,36,36)\",\"ticklen\":8,\"ticks\":\"outside\",\"tickwidth\":2}},\"type\":\"parcoords\"}],\"pie\":[{\"automargin\":true,\"type\":\"pie\"}],\"scatter3d\":[{\"line\":{\"colorbar\":{\"outlinewidth\":0,\"tickcolor\":\"rgb(36,36,36)\",\"ticklen\":8,\"ticks\":\"outside\",\"tickwidth\":2}},\"marker\":{\"colorbar\":{\"outlinewidth\":0,\"tickcolor\":\"rgb(36,36,36)\",\"ticklen\":8,\"ticks\":\"outside\",\"tickwidth\":2}},\"type\":\"scatter3d\"}],\"scattercarpet\":[{\"marker\":{\"colorbar\":{\"outlinewidth\":0,\"tickcolor\":\"rgb(36,36,36)\",\"ticklen\":8,\"ticks\":\"outside\",\"tickwidth\":2}},\"type\":\"scattercarpet\"}],\"scattergeo\":[{\"marker\":{\"colorbar\":{\"outlinewidth\":0,\"tickcolor\":\"rgb(36,36,36)\",\"ticklen\":8,\"ticks\":\"outside\",\"tickwidth\":2}},\"type\":\"scattergeo\"}],\"scattergl\":[{\"marker\":{\"colorbar\":{\"outlinewidth\":0,\"tickcolor\":\"rgb(36,36,36)\",\"ticklen\":8,\"ticks\":\"outside\",\"tickwidth\":2}},\"type\":\"scattergl\"}],\"scattermapbox\":[{\"marker\":{\"colorbar\":{\"outlinewidth\":0,\"tickcolor\":\"rgb(36,36,36)\",\"ticklen\":8,\"ticks\":\"outside\",\"tickwidth\":2}},\"type\":\"scattermapbox\"}],\"scatterpolargl\":[{\"marker\":{\"colorbar\":{\"outlinewidth\":0,\"tickcolor\":\"rgb(36,36,36)\",\"ticklen\":8,\"ticks\":\"outside\",\"tickwidth\":2}},\"type\":\"scatterpolargl\"}],\"scatterpolar\":[{\"marker\":{\"colorbar\":{\"outlinewidth\":0,\"tickcolor\":\"rgb(36,36,36)\",\"ticklen\":8,\"ticks\":\"outside\",\"tickwidth\":2}},\"type\":\"scatterpolar\"}],\"scatter\":[{\"fillpattern\":{\"fillmode\":\"overlay\",\"size\":10,\"solidity\":0.2},\"type\":\"scatter\"}],\"scatterternary\":[{\"marker\":{\"colorbar\":{\"outlinewidth\":0,\"tickcolor\":\"rgb(36,36,36)\",\"ticklen\":8,\"ticks\":\"outside\",\"tickwidth\":2}},\"type\":\"scatterternary\"}],\"surface\":[{\"colorbar\":{\"outlinewidth\":0,\"tickcolor\":\"rgb(36,36,36)\",\"ticklen\":8,\"ticks\":\"outside\",\"tickwidth\":2},\"colorscale\":[[0.0,\"rgb(2,4,25)\"],[0.06274509803921569,\"rgb(24,15,41)\"],[0.12549019607843137,\"rgb(47,23,57)\"],[0.18823529411764706,\"rgb(71,28,72)\"],[0.25098039215686274,\"rgb(97,30,82)\"],[0.3137254901960784,\"rgb(123,30,89)\"],[0.3764705882352941,\"rgb(150,27,91)\"],[0.4392156862745098,\"rgb(177,22,88)\"],[0.5019607843137255,\"rgb(203,26,79)\"],[0.5647058823529412,\"rgb(223,47,67)\"],[0.6274509803921569,\"rgb(236,76,61)\"],[0.6901960784313725,\"rgb(242,107,73)\"],[0.7529411764705882,\"rgb(244,135,95)\"],[0.8156862745098039,\"rgb(245,162,122)\"],[0.8784313725490196,\"rgb(246,188,153)\"],[0.9411764705882353,\"rgb(247,212,187)\"],[1.0,\"rgb(250,234,220)\"]],\"type\":\"surface\"}],\"table\":[{\"cells\":{\"fill\":{\"color\":\"rgb(231,231,240)\"},\"line\":{\"color\":\"white\"}},\"header\":{\"fill\":{\"color\":\"rgb(183,183,191)\"},\"line\":{\"color\":\"white\"}},\"type\":\"table\"}]},\"layout\":{\"annotationdefaults\":{\"arrowcolor\":\"rgb(67,103,167)\"},\"autotypenumbers\":\"strict\",\"coloraxis\":{\"colorbar\":{\"outlinewidth\":0,\"tickcolor\":\"rgb(36,36,36)\",\"ticklen\":8,\"ticks\":\"outside\",\"tickwidth\":2}},\"colorscale\":{\"sequential\":[[0.0,\"rgb(2,4,25)\"],[0.06274509803921569,\"rgb(24,15,41)\"],[0.12549019607843137,\"rgb(47,23,57)\"],[0.18823529411764706,\"rgb(71,28,72)\"],[0.25098039215686274,\"rgb(97,30,82)\"],[0.3137254901960784,\"rgb(123,30,89)\"],[0.3764705882352941,\"rgb(150,27,91)\"],[0.4392156862745098,\"rgb(177,22,88)\"],[0.5019607843137255,\"rgb(203,26,79)\"],[0.5647058823529412,\"rgb(223,47,67)\"],[0.6274509803921569,\"rgb(236,76,61)\"],[0.6901960784313725,\"rgb(242,107,73)\"],[0.7529411764705882,\"rgb(244,135,95)\"],[0.8156862745098039,\"rgb(245,162,122)\"],[0.8784313725490196,\"rgb(246,188,153)\"],[0.9411764705882353,\"rgb(247,212,187)\"],[1.0,\"rgb(250,234,220)\"]],\"sequentialminus\":[[0.0,\"rgb(2,4,25)\"],[0.06274509803921569,\"rgb(24,15,41)\"],[0.12549019607843137,\"rgb(47,23,57)\"],[0.18823529411764706,\"rgb(71,28,72)\"],[0.25098039215686274,\"rgb(97,30,82)\"],[0.3137254901960784,\"rgb(123,30,89)\"],[0.3764705882352941,\"rgb(150,27,91)\"],[0.4392156862745098,\"rgb(177,22,88)\"],[0.5019607843137255,\"rgb(203,26,79)\"],[0.5647058823529412,\"rgb(223,47,67)\"],[0.6274509803921569,\"rgb(236,76,61)\"],[0.6901960784313725,\"rgb(242,107,73)\"],[0.7529411764705882,\"rgb(244,135,95)\"],[0.8156862745098039,\"rgb(245,162,122)\"],[0.8784313725490196,\"rgb(246,188,153)\"],[0.9411764705882353,\"rgb(247,212,187)\"],[1.0,\"rgb(250,234,220)\"]]},\"colorway\":[\"rgb(76,114,176)\",\"rgb(221,132,82)\",\"rgb(85,168,104)\",\"rgb(196,78,82)\",\"rgb(129,114,179)\",\"rgb(147,120,96)\",\"rgb(218,139,195)\",\"rgb(140,140,140)\",\"rgb(204,185,116)\",\"rgb(100,181,205)\"],\"font\":{\"color\":\"rgb(36,36,36)\"},\"geo\":{\"bgcolor\":\"white\",\"lakecolor\":\"white\",\"landcolor\":\"rgb(234,234,242)\",\"showlakes\":true,\"showland\":true,\"subunitcolor\":\"white\"},\"hoverlabel\":{\"align\":\"left\"},\"hovermode\":\"closest\",\"paper_bgcolor\":\"white\",\"plot_bgcolor\":\"rgb(234,234,242)\",\"polar\":{\"angularaxis\":{\"gridcolor\":\"white\",\"linecolor\":\"white\",\"showgrid\":true,\"ticks\":\"\"},\"bgcolor\":\"rgb(234,234,242)\",\"radialaxis\":{\"gridcolor\":\"white\",\"linecolor\":\"white\",\"showgrid\":true,\"ticks\":\"\"}},\"scene\":{\"xaxis\":{\"backgroundcolor\":\"rgb(234,234,242)\",\"gridcolor\":\"white\",\"gridwidth\":2,\"linecolor\":\"white\",\"showbackground\":true,\"showgrid\":true,\"ticks\":\"\",\"zerolinecolor\":\"white\"},\"yaxis\":{\"backgroundcolor\":\"rgb(234,234,242)\",\"gridcolor\":\"white\",\"gridwidth\":2,\"linecolor\":\"white\",\"showbackground\":true,\"showgrid\":true,\"ticks\":\"\",\"zerolinecolor\":\"white\"},\"zaxis\":{\"backgroundcolor\":\"rgb(234,234,242)\",\"gridcolor\":\"white\",\"gridwidth\":2,\"linecolor\":\"white\",\"showbackground\":true,\"showgrid\":true,\"ticks\":\"\",\"zerolinecolor\":\"white\"}},\"shapedefaults\":{\"fillcolor\":\"rgb(67,103,167)\",\"line\":{\"width\":0},\"opacity\":0.5},\"ternary\":{\"aaxis\":{\"gridcolor\":\"white\",\"linecolor\":\"white\",\"showgrid\":true,\"ticks\":\"\"},\"baxis\":{\"gridcolor\":\"white\",\"linecolor\":\"white\",\"showgrid\":true,\"ticks\":\"\"},\"bgcolor\":\"rgb(234,234,242)\",\"caxis\":{\"gridcolor\":\"white\",\"linecolor\":\"white\",\"showgrid\":true,\"ticks\":\"\"}},\"xaxis\":{\"automargin\":true,\"gridcolor\":\"white\",\"linecolor\":\"white\",\"showgrid\":true,\"ticks\":\"\",\"title\":{\"standoff\":15},\"zerolinecolor\":\"white\"},\"yaxis\":{\"automargin\":true,\"gridcolor\":\"white\",\"linecolor\":\"white\",\"showgrid\":true,\"ticks\":\"\",\"title\":{\"standoff\":15},\"zerolinecolor\":\"white\"}}},\"annotations\":[{\"align\":\"center\",\"font\":{\"color\":\"rgb(5.0, 200.0, 200.0)\",\"family\":\"Arial, sans-serif\",\"size\":20},\"showarrow\":false,\"text\":\"Substance\",\"x\":10,\"xref\":\"x\",\"y\":0.3,\"yref\":\"y\"},{\"align\":\"center\",\"font\":{\"color\":\"rgb(24.5, 181.0, 181.0)\",\"family\":\"Arial, sans-serif\",\"size\":20},\"showarrow\":false,\"text\":\"Plant\",\"x\":10,\"xref\":\"x\",\"y\":1.3,\"yref\":\"y\"},{\"align\":\"center\",\"font\":{\"color\":\"rgb(44.0, 162.0, 162.0)\",\"family\":\"Arial, sans-serif\",\"size\":20},\"showarrow\":false,\"text\":\"Animal\",\"x\":10,\"xref\":\"x\",\"y\":2.3,\"yref\":\"y\"},{\"align\":\"center\",\"font\":{\"color\":\"rgb(63.5, 143.0, 143.0)\",\"family\":\"Arial, sans-serif\",\"size\":20},\"showarrow\":false,\"text\":\"Organization\",\"x\":10,\"xref\":\"x\",\"y\":3.3,\"yref\":\"y\"},{\"align\":\"center\",\"font\":{\"color\":\"rgb(83.0, 124.0, 124.0)\",\"family\":\"Arial, sans-serif\",\"size\":20},\"showarrow\":false,\"text\":\"Object\",\"x\":10,\"xref\":\"x\",\"y\":4.3,\"yref\":\"y\"},{\"align\":\"center\",\"font\":{\"color\":\"rgb(102.5, 105.0, 105.0)\",\"family\":\"Arial, sans-serif\",\"size\":20},\"showarrow\":false,\"text\":\"Event\",\"x\":10,\"xref\":\"x\",\"y\":5.3,\"yref\":\"y\"},{\"align\":\"center\",\"font\":{\"color\":\"rgb(122.0, 86.0, 86.0)\",\"family\":\"Arial, sans-serif\",\"size\":20},\"showarrow\":false,\"text\":\"Time\",\"x\":10,\"xref\":\"x\",\"y\":6.3,\"yref\":\"y\"},{\"align\":\"center\",\"font\":{\"color\":\"rgb(141.5, 67.0, 67.0)\",\"family\":\"Arial, sans-serif\",\"size\":20},\"showarrow\":false,\"text\":\"Quantity\",\"x\":10,\"xref\":\"x\",\"y\":7.3,\"yref\":\"y\"},{\"align\":\"center\",\"font\":{\"color\":\"rgb(161.0, 48.0, 48.0)\",\"family\":\"Arial, sans-serif\",\"size\":20},\"showarrow\":false,\"text\":\"Place\",\"x\":10,\"xref\":\"x\",\"y\":8.3,\"yref\":\"y\"},{\"align\":\"center\",\"font\":{\"color\":\"rgb(180.5, 29.0, 29.0)\",\"family\":\"Arial, sans-serif\",\"size\":20},\"showarrow\":false,\"text\":\"Abstract\",\"x\":10,\"xref\":\"x\",\"y\":9.3,\"yref\":\"y\"},{\"align\":\"center\",\"font\":{\"color\":\"rgb(200.0, 10.0, 10.0)\",\"family\":\"Arial, sans-serif\",\"size\":20},\"showarrow\":false,\"text\":\"Person\",\"x\":10,\"xref\":\"x\",\"y\":10.3,\"yref\":\"y\"}],\"xaxis\":{\"linecolor\":\"black\",\"linewidth\":1,\"mirror\":true,\"range\":[-1.2,56],\"zeroline\":false},\"yaxis\":{\"linecolor\":\"black\",\"linewidth\":1,\"mirror\":true,\"ticktext\":[],\"tickvals\":[],\"title\":{\"text\":\"Categories\"}},\"title\":{\"text\":\"Entity Length Distribution\"},\"height\":600,\"width\":1200},                        {\"responsive\": true}                    ).then(function(){\n",
              "                            \n",
              "var gd = document.getElementById('6b12d5a7-2ff1-447c-aca3-cafc94fa119c');\n",
              "var x = new MutationObserver(function (mutations, observer) {{\n",
              "        var display = window.getComputedStyle(gd).display;\n",
              "        if (!display || display === 'none') {{\n",
              "            console.log([gd, 'removed!']);\n",
              "            Plotly.purge(gd);\n",
              "            observer.disconnect();\n",
              "        }}\n",
              "}});\n",
              "\n",
              "// Listen for the removal of the full notebook cells\n",
              "var notebookContainer = gd.closest('#notebook-container');\n",
              "if (notebookContainer) {{\n",
              "    x.observe(notebookContainer, {childList: true});\n",
              "}}\n",
              "\n",
              "// Listen for the clearing of the current output cell\n",
              "var outputEl = gd.closest('.output');\n",
              "if (outputEl) {{\n",
              "    x.observe(outputEl, {childList: true});\n",
              "}}\n",
              "\n",
              "                        })                };                            </script>        </div>\n",
              "</body>\n",
              "</html>"
            ]
          },
          "metadata": {}
        }
      ]
    },
    {
      "cell_type": "code",
      "source": [
        "%%capture\n",
        "!pip install dash"
      ],
      "metadata": {
        "id": "v94ZPAl50jDo"
      },
      "execution_count": null,
      "outputs": []
    },
    {
      "cell_type": "code",
      "source": [
        "from dash import Dash, dcc, html, Input, Output"
      ],
      "metadata": {
        "id": "UaJ1FKGd0gvt"
      },
      "execution_count": null,
      "outputs": []
    },
    {
      "cell_type": "code",
      "source": [
        "app = Dash(__name__)"
      ],
      "metadata": {
        "id": "7dXR5EtFGsHj"
      },
      "execution_count": null,
      "outputs": []
    },
    {
      "cell_type": "code",
      "source": [
        "app.layout = html.Div([\n",
        "    # dropdown menu for selecting categories\n",
        "    html.Label(\"Select Category:\"),\n",
        "    dcc.Dropdown(\n",
        "        id=\"category-dropdown\",\n",
        "        options=[{'label': cat[i], 'value': i} for i in range(len(cat))] +\n",
        "        [{'label': 'Overview', 'value': 'overview'}],\n",
        "        value=0,  # default selected category index\n",
        "        clearable=False\n",
        "    ),\n",
        "\n",
        "    dcc.Graph(id=\"fig\"),\n",
        "])\n"
      ],
      "metadata": {
        "id": "rPk4lw4o0ozX"
      },
      "execution_count": null,
      "outputs": []
    },
    {
      "cell_type": "code",
      "source": [
        "# define callback to update plots based on selected category\n",
        "@app.callback(\n",
        "    Output(\"fig\", \"figure\"),\n",
        "    Input(\"category-dropdown\", \"value\")\n",
        ")\n",
        "def update_plots(selected_category):\n",
        "    if selected_category == 'overview':\n",
        "      fig = ridge_plot (out, cat)\n",
        "      return fig\n",
        "    else:\n",
        "      # get the selected DataFrame based on the index\n",
        "      selected_dataframe = out[selected_category]\n",
        "\n",
        "      # create strip plot and box plot using the adapted function\n",
        "      fig = plot_box_strip(selected_dataframe)\n",
        "\n",
        "      return fig\n"
      ],
      "metadata": {
        "id": "F2K0jPMA0stA"
      },
      "execution_count": null,
      "outputs": []
    },
    {
      "cell_type": "code",
      "source": [
        "if __name__ == \"__main__\":\n",
        "    app.run_server(debug=True, port = 1414)"
      ],
      "metadata": {
        "id": "4L02HF9y0um2",
        "colab": {
          "base_uri": "https://localhost:8080/",
          "height": 671
        },
        "outputId": "550300c6-bc8e-49c6-be61-f37264a52cb9"
      },
      "execution_count": null,
      "outputs": [
        {
          "output_type": "display_data",
          "data": {
            "text/plain": [
              "<IPython.core.display.Javascript object>"
            ],
            "application/javascript": [
              "(async (port, path, width, height, cache, element) => {\n",
              "    if (!google.colab.kernel.accessAllowed && !cache) {\n",
              "      return;\n",
              "    }\n",
              "    element.appendChild(document.createTextNode(''));\n",
              "    const url = await google.colab.kernel.proxyPort(port, {cache});\n",
              "    const iframe = document.createElement('iframe');\n",
              "    iframe.src = new URL(path, url).toString();\n",
              "    iframe.height = height;\n",
              "    iframe.width = width;\n",
              "    iframe.style.border = 0;\n",
              "    iframe.allow = [\n",
              "        'accelerometer',\n",
              "        'autoplay',\n",
              "        'camera',\n",
              "        'clipboard-read',\n",
              "        'clipboard-write',\n",
              "        'gyroscope',\n",
              "        'magnetometer',\n",
              "        'microphone',\n",
              "        'serial',\n",
              "        'usb',\n",
              "        'xr-spatial-tracking',\n",
              "    ].join('; ');\n",
              "    element.appendChild(iframe);\n",
              "  })(1414, \"/\", \"100%\", 650, false, window.element)"
            ]
          },
          "metadata": {}
        }
      ]
    },
    {
      "cell_type": "markdown",
      "source": [
        "At last, we note that it is worthwhile to visualize how the IOB2 labels are assigned for the sentences. This allows to get a better understanding of how the annotation process was conducted, and to gain better understanding of the concepts behind each label."
      ],
      "metadata": {
        "id": "52Wc8API1BeR"
      }
    },
    {
      "cell_type": "code",
      "source": [
        "import csv\n",
        "url = \"https://github.com/nluninja/nlp_datasets/raw/main/GUM/data/gum-test.conll\"\n",
        "df_dash = pd.read_csv(url, sep='\\t', header=None, names=['Word', 'Label'], quoting=csv.QUOTE_NONE)"
      ],
      "metadata": {
        "id": "iauRN9LA121o"
      },
      "execution_count": null,
      "outputs": []
    },
    {
      "cell_type": "code",
      "source": [
        "# creating a category column made by strings of length 3 (1 in case the label is equal to O)\n",
        "categories=df_dash.iloc[:,1].unique()\n",
        "\n",
        "df_dash[\"Categories\"]=df_dash.Label.apply(lambda x:  x[2:5].upper() if len(x)>1 else x)\n",
        "\n",
        "# creating another column to distinguish sentences\n",
        "y=[]\n",
        "j=1\n",
        "for i in range(df_dash.shape[0]):\n",
        "   y.append(j)\n",
        "   if df_dash['Word'][i]=='.':\n",
        "       j+=1\n",
        "df_dash['Sentence']=y"
      ],
      "metadata": {
        "id": "QWctHUjP2B-M"
      },
      "execution_count": null,
      "outputs": []
    },
    {
      "cell_type": "code",
      "source": [
        "# create a column that assign an increasing integer (starting from 1) to each entity subsequentially\n",
        "df_dash[\"count_entities\"]=(df_dash[['Categories',\"Sentence\"]] != df_dash[['Categories',\"Sentence\"]].shift()).any(axis=1).cumsum()-1 # to make it coincide with entities\n",
        "\n",
        "# concatenate each word by entity to which it belongs\n",
        "entities= df_dash.groupby((df_dash[['Categories',\"Sentence\"]] != df_dash[['Categories',\"Sentence\"]].shift()).any(axis=1).cumsum())[\"Word\"].apply(lambda x:\" \".join(x)).reset_index(drop=True)"
      ],
      "metadata": {
        "id": "uTYR0wCo2KO1"
      },
      "execution_count": null,
      "outputs": []
    },
    {
      "cell_type": "code",
      "source": [
        "# create a new column that assumes as values the concatenated entity for each entity category sequentially\n",
        "for i in range( df_dash[\"count_entities\"].iloc[-1]+1 ):\n",
        "  df_dash.loc[df_dash[\"count_entities\"]==i, [\"entity_concat\"]] = entities[i]"
      ],
      "metadata": {
        "id": "PdUUujOR2TfY",
        "colab": {
          "base_uri": "https://localhost:8080/"
        },
        "outputId": "b94aa4ae-f103-47f6-c6c3-234d0fbd26fe"
      },
      "execution_count": null,
      "outputs": [
        {
          "output_type": "stream",
          "name": "stderr",
          "text": [
            "<ipython-input-41-61be5f2fbeb3>:3: FutureWarning:\n",
            "\n",
            "Setting an item of incompatible dtype is deprecated and will raise in a future error of pandas. Value 'Pacific Standard owner' has dtype incompatible with float64, please explicitly cast to a compatible dtype first.\n",
            "\n"
          ]
        }
      ]
    },
    {
      "cell_type": "code",
      "source": [
        "# input containes only the variables we care about for the dash\n",
        "df_sentences=df_dash[[\"entity_concat\",\"Categories\", \"Sentence\"]]\n",
        "df_sentences=df_sentences[(df_sentences[['Categories',\"Sentence\"]] != df_sentences[['Categories',\"Sentence\"]].shift()).any(axis=1)]"
      ],
      "metadata": {
        "id": "d-c4SkWW2WiD"
      },
      "execution_count": null,
      "outputs": []
    },
    {
      "cell_type": "code",
      "source": [
        "def select_sentence(df, from_s, to_s):\n",
        "    return df[df['Sentence'].isin(np.arange(from_s, to_s+1))].drop(\"Sentence\", axis=1)\n",
        "\n",
        "# init the app\n",
        "app_iob_intro = Dash(__name__)\n",
        "\n",
        "# the list of unique entity types\n",
        "unique_entities = df_dash['Categories'].unique()\n",
        "entity_colors={'OBJ': 'brown', 'O': 'darkgrey', 'ABS': 'tomato', 'PER': 'mediumvioletred',\n",
        "               'PLA': 'gold', 'ORG': 'darkolivegreen', 'QUA': 'lightgreen', 'EVE': 'turquoise',\n",
        "               'SUB': 'darkslategrey', 'TIM': 'dodgerblue', 'ANI': 'blue'}\n",
        "\n",
        "\n",
        "# modify the entname function to add line-height style\n",
        "def entname(name):\n",
        "    return html.Span(name, style={\n",
        "        \"font-size\": \"0.8em\",\n",
        "        \"font-weight\": \"bold\",\n",
        "        \"line-height\": \"1.5\",  # Add line height for spacing\n",
        "        \"border-radius\": \"0.35em\",\n",
        "        \"text-transform\": \"uppercase\",\n",
        "        \"vertical-align\": \"middle\",\n",
        "        \"margin-left\": \"0.5rem\"\n",
        "    })\n",
        "\n",
        "# modify the entbox function to add line-height style\n",
        "def entbox(children, color):\n",
        "    return html.Mark(children, style={\n",
        "        \"background\": color,\n",
        "        \"padding\": \"0.45em 0.6em\",\n",
        "        \"margin\": \"0 0.25em\",\n",
        "        \"line-height\": \"2.5\",  # Add line height for spacing\n",
        "        \"border-radius\": \"0.35em\",\n",
        "    })\n",
        "\n",
        "def entity(children, name):\n",
        "    if type(children) is str:\n",
        "        children = [children]\n",
        "\n",
        "    children.append(entname(name))\n",
        "    color = entity_colors.get(name, \"black\")\n",
        "    return entbox(children, color)\n",
        "\n",
        "def render(doc):\n",
        "    children = []\n",
        "    for words, ent in zip(doc.iloc[:,0], doc.iloc[:,1]):\n",
        "\n",
        "        if ent==\"O\":\n",
        "          children.append(words)\n",
        "          if words[-1]==\".\":\n",
        "            children.append(\"\\n\")\n",
        "        else:\n",
        "          children.append(entity(words, ent))\n",
        "    return children\n",
        "\n",
        "\n",
        "@app_iob_intro.callback(\n",
        "    [Output('rendered-content', 'children'),\n",
        "     Output('entity-frequency-histogram', 'figure')],\n",
        "    Input('from-s-dropdown', 'value'),\n",
        "    Input('to-s-dropdown', 'value')\n",
        ")\n",
        "def update_rendered_content_and_histogram(from_s, to_s):\n",
        "    doc = select_sentence(df_sentences, from_s, to_s)\n",
        "    rendered_content = render(doc)\n",
        "\n",
        "    # calculate entity frequencies for the selected range\n",
        "    doc_filtered = doc[doc['Categories'] != 'O']\n",
        "    entity_frequencies = doc_filtered['Categories'].value_counts()\n",
        "\n",
        "    # create the histogram\n",
        "    fig = px.bar(x=entity_frequencies.index, y=entity_frequencies.values, color=entity_frequencies.index, color_discrete_map=entity_colors)\n",
        "\n",
        "    return rendered_content, fig\n",
        "\n",
        "# create a layout with titles, dropdowns, rendered content, and the histogram\n",
        "app_iob_intro.layout = html.Div([\n",
        "    html.Div([\n",
        "        html.Label('From sentence'),\n",
        "        dcc.Dropdown(id='from-s-dropdown',\n",
        "                     options=[{'label': str(i), 'value': i} for i in range(1, 2032)],\n",
        "                     value=2),  # Default 'from_s' value\n",
        "    ], style={'display': 'inline-block', 'margin-right': '20px'}),\n",
        "    html.Div([\n",
        "        html.Label('To sentence'),\n",
        "        dcc.Dropdown(id='to-s-dropdown',\n",
        "                     options=[{'label': str(i), 'value': i} for i in range(1, 2032)],\n",
        "                     value=4),  # Default 'to_s' value\n",
        "    ], style={'display': 'inline-block'}),\n",
        "    html.Div(id='rendered-content', style={'whiteSpace': 'pre-wrap'}),\n",
        "    dcc.Graph(id='entity-frequency-histogram', style={'width': '50%', 'height': '50%'})\n",
        "])\n",
        "\n",
        "if __name__ == \"__main__\":\n",
        "    app_iob_intro.run_server(debug=True)"
      ],
      "metadata": {
        "id": "LoVhgvuU2iD_",
        "colab": {
          "base_uri": "https://localhost:8080/",
          "height": 671
        },
        "outputId": "95d49190-2cb8-4498-bdcb-96c84855fb72"
      },
      "execution_count": null,
      "outputs": [
        {
          "output_type": "display_data",
          "data": {
            "text/plain": [
              "<IPython.core.display.Javascript object>"
            ],
            "application/javascript": [
              "(async (port, path, width, height, cache, element) => {\n",
              "    if (!google.colab.kernel.accessAllowed && !cache) {\n",
              "      return;\n",
              "    }\n",
              "    element.appendChild(document.createTextNode(''));\n",
              "    const url = await google.colab.kernel.proxyPort(port, {cache});\n",
              "    const iframe = document.createElement('iframe');\n",
              "    iframe.src = new URL(path, url).toString();\n",
              "    iframe.height = height;\n",
              "    iframe.width = width;\n",
              "    iframe.style.border = 0;\n",
              "    iframe.allow = [\n",
              "        'accelerometer',\n",
              "        'autoplay',\n",
              "        'camera',\n",
              "        'clipboard-read',\n",
              "        'clipboard-write',\n",
              "        'gyroscope',\n",
              "        'magnetometer',\n",
              "        'microphone',\n",
              "        'serial',\n",
              "        'usb',\n",
              "        'xr-spatial-tracking',\n",
              "    ].join('; ');\n",
              "    element.appendChild(iframe);\n",
              "  })(8050, \"/\", \"100%\", 650, false, window.element)"
            ]
          },
          "metadata": {}
        }
      ]
    },
    {
      "cell_type": "markdown",
      "metadata": {
        "id": "hGnT_l5u94bY"
      },
      "source": [
        "# <b> Bidirectional Encoder Representations from Transformers</b>"
      ]
    },
    {
      "cell_type": "markdown",
      "metadata": {
        "id": "5IMieZruFXUz"
      },
      "source": [
        "## <b>Overview</b>\n",
        "First, we provide a brief overview of the Deep Neural Network architectures that have preceeded the Bidirectional Transformer, which will be implemented further."
      ]
    },
    {
      "cell_type": "markdown",
      "metadata": {
        "id": "0b3aUrjgMjM7"
      },
      "source": [
        "### **Encoder-decoder architecture**\n",
        "\n",
        "Despite the remarkable performance of Deep Neural Networks for a wide range of research tasks, one significant disadvantage is that they require a vector with fixed dimensionality as the input for the network, thus not being able to produce sequence-to-sequence mappings. Multilayered LSTM architecture has enabled the modeling of sequential data by preserving long-range dependencies, which allowed the generation and translation of sequences. However, an efficient approach for sequence-to-sequence pipelines was proposed by Sutskever, Vinyals, and Le in 2014.\n",
        "\n",
        "<!-- Center-justified image -->\n",
        "<p align=\"center\">\n",
        "  <img src=\"https://i.imgur.com/ehZU6xf.png\" alt=\"Encoder-Decoder Architecture\" width = 500>\n",
        "</p>\n",
        "\n",
        "<!-- Source link -->\n",
        "<p align=\"center\">\n",
        "  <i>Simple encoder-decoder architecture representation.</i>\n",
        "  <a href=\"https://temofeev.ru/info/articles/modeli-glubokikh-neyronnykh-setey-sequence-to-sequence-na-pytorch-chast-2/\" target=\"_blank\">Source</a>\n",
        "</p>\n",
        "\n",
        "\n",
        "\n",
        "\n",
        "The new architecture implied using a multilayered LSTM to process the input sequence to a vector at the first stage, which was taken in as input by the second multilayered deep LSTM to produce the target sequence from the vector. This approach is especially beneficial for natural language processing tasks, since the lengths of the input sentences can vary significantly.\n"
      ]
    },
    {
      "cell_type": "markdown",
      "metadata": {
        "id": "SnDAvjDzVDlz"
      },
      "source": [
        "### <b>Transformers</b>\n",
        "\n",
        "In the paper \"Attention is All You Need\", a novel approach was proposed that dispensed with the all the recurrent or convolutional elements in the encoder-decoder architecture, while taking advantage of the attention mechanism. This approach demonstrated state of the art performance, surpassing previously achieved results (Vaswani et al., 2017).\n",
        "\n",
        "<!-- Center-justified image -->\n",
        "<p align=\"center\">\n",
        "  <img src=\"https://i.imgur.com/Qn8ym5s.png\" alt=\"Transformer\" height = 600>\n",
        "</p>\n",
        "\n",
        "<!-- Source link -->\n",
        "<p align=\"center\">\n",
        "  <i>Simple encoder-decoder architecture representation.</i>\n",
        "  Source: \"Attention is All You Need\"\n",
        "</p>\n",
        "\n",
        "Above, the general structure of a transformer is outlined (Vaswani et al., 2017). The transformer stacks N identical layers of both the encoder and the decoder, thus creating a complicated structure to guarantee good performance.\n",
        "\n",
        "The transformer relies on the attention mechanism to model dependencies between the tokens in a sequence, and, since the recurrence in the architecture is eliminated, a notable advantage of this method becomes the ability to use parallelization without loss of information of the sequential nature of the data.\n",
        "\n",
        "The main components of a transfomer architecture are described in the following passages.\n",
        "\n",
        "<ol type = '1'>\n",
        "  <li> <b>Embeddings and Positional Encoding</b> </li>\n",
        "  At the first stage of the network, embeddings are created for the input sequences for the purpose of taking into account word similarity and the co-occurence.  \n",
        "\n",
        "  An importaint consideration is that, by eliminating the recurrence in the network, the representation of the sequential nature of the data was eliminated. For the purpose of including this information in the input sequences for the model, positional encodings are introduced. For each token in the sequence, the embedding vector is updated according to the following formulae:\n",
        "\n",
        "  $$ PE_{ \\ (pos,\\  2i)} = sin \\left( \\frac{pos}{10000^{{2i}/{dim}}} \\right)$$\n",
        "  $$ PE_{ \\ (pos,\\  2i + 1)} = cos \\left( \\frac{pos}{10000^{{2i}/{dim}}} \\right)$$\n",
        "\n",
        "  This method of computation <a href = \"https://erdem.pl/2021/05/understanding-positional-encoding-in-transformers#positional-encoding-visualization\" target = \"_blank\">allows</a> to account for both the general location of a word in the sequence, and for the specific order of the words by using the bounded periodic functions of different wavelengths.  \n",
        "  \n",
        "  <!-- Center-justified image -->\n",
        "<p align=\"center\">\n",
        "  <img src=\"https://i.imgur.com/bURveFX.png\" alt=\"Positional encodings\" width=\"400\">\n",
        "</p>\n",
        "\n",
        "<!-- Source link -->\n",
        "<p align=\"center\">\n",
        "  <i>Positional encoding values for 4 tokens in positions i = {0, 1, 2, 3}.</i>\n",
        "  <a href = \"https://erdem.pl/2021/05/understanding-positional-encoding-in-transformers#positional-encoding-visualization\" target = \"_blank\">Source</a>\n",
        "</p>\n",
        "\n",
        "  <li> <b>Multi-head Attention Layer</b> </li>\n",
        "\n",
        "  The outstanding advantage of the attention mechanism in the DNN setings is that it allows to include the information about similarities between different tokens in the input for the network, thus guaranteeing a very informative update of the initial word embedding. This approach allows to model the dependencies between the words in the sequence independent of their distance in the sequence, thus guaranteeing a more comprehensive account of the interrelations beetween different words (Vaswani et al., 2017).\n",
        "\n",
        "  The <a href = \"https://jalammar.github.io/illustrated-transformer/\" target = \"_blank\">implementation</a> of the self-attention includes defining three vectors: Query, Key, Value, each of which is inialized by updating the embedding vector using three matrices with different weights obtain during training. Afterwards, for each word, the dot product between the query and the keys is calculated as a measure of similarity, which is then, using the value vectors, transformed in the following way to calculate the attention scores:\n",
        "\n",
        "  $$Attention \\ (Q, \\ K, \\ V) = softmax \\left( \\frac{QK^T}{\\sqrt{d_K}} \\right)V$$\n",
        "\n",
        "  The embedding for each sequence is then  update according to the attention scores computed for each token.\n",
        "\n",
        "  A further improvement involves constructing <u> multi-head </u> attention: this implies calculating attention scores separately for different parts of the embedding vector: this allows to capture different patterns in the relationship between words. It must be underlined that this approach does not introduce significant computational burden since it is <a href = \"https://towardsdatascience.com/transformers-explained-visually-part-3-multi-head-attention-deep-dive-1c1ff1024853\" target = \"_blank\">possible</a> to perform computations for alll heads simultaneously via matrix multiplication.\n",
        "\n",
        "  <li> Feedforward layer</li>\n",
        "  \n",
        "  A fully-connected feed-forward network is included in the following layer, aimed at learning more complex non-linear relationships between the position-wise encoded representations.\n",
        "\n",
        "  <li> Decoder </li>\n",
        "  \n",
        "  The decoder structure aims at mapping the input obtained from the encoder to the sequence of interest. The decoder includes structure similar to the encoder, where the embeddings and positional encodings are computed, followed by the multi-head attention and the feed-forward layer. Afterwards, the encoder-decoder attentions are calculated with the purpose of incuding full information produced by the encoder, as well as the information introduced while <mask>generating</mask> the previous words in the sequence. Another feed-forward layer is introduced afterwards, and the output is produced accordingly relevant to the research.\n",
        "\n",
        "\n",
        "\n"
      ]
    },
    {
      "cell_type": "markdown",
      "metadata": {
        "id": "-RH09x9JFcmB"
      },
      "source": [
        "### **Transfer learning**\n",
        "\n",
        "Transfer learning introduces a method for incorporating previous knowledge into a specific research task. This approach enhances the model's performance by leveraging the valuable knowledge already embedded in the weight matrices at the outset of the training data.\n"
      ]
    },
    {
      "cell_type": "markdown",
      "metadata": {
        "id": "VjC_hYK8LJ00"
      },
      "source": [
        "### **Bidirectional Encoder Representations from Transformers**\n",
        "\n",
        "The new model, commonly referred to as BERT, was introduced to take advantage of the transfer learning concept by pre-training deep bidirectional representation of linguistic data. It involves taking into account the context from both the left and the right direction (Devlin et al., 2018).\n",
        "\n",
        "The architecture is based on the Transformer concept described above, however, it only includes the encoder component. BERT was trained on BooksCorpus and English Wikipedia for two main tasks (Devlin et al., 2018):\n",
        "\n",
        "<ol>\n",
        "  <li> <u>Masked language modelling</u> pre-training objective, which implied randomly masking some of the tokens in the input sequences and learning by predicting the masked elements.</li>\n",
        "  <li> <u>Next sentence prediction</u>, which aimed at understanding the relationships between two sentences. The output of this task was a binary prediction for whether the second sentence is indeed the next sentence prediction. </li>"
      ]
    },
    {
      "cell_type": "markdown",
      "metadata": {
        "id": "3B6joC4F1k1u"
      },
      "source": [
        "## <b> Setup for the BERT model </b>"
      ]
    },
    {
      "cell_type": "code",
      "execution_count": null,
      "metadata": {
        "id": "0cDXhmf_RR3y"
      },
      "outputs": [],
      "source": [
        "%%capture\n",
        "!pip install transformers seqeval[gpu]\n",
        "# install transformers library from huggingface that has all the functions necessary\n",
        "# for running the BERT pretrain\n",
        "# and the seqeval for evaluations (f1, precision, recall)\n",
        "# [gpu] to support the gpu acceleration"
      ]
    },
    {
      "cell_type": "code",
      "execution_count": null,
      "metadata": {
        "id": "cs22xlS2RV-d"
      },
      "outputs": [],
      "source": [
        "import pandas as pd\n",
        "import numpy as np\n",
        "from sklearn.metrics import accuracy_score # for reporting metrics\n",
        "import torch # for building the pytorch DNN architecture\n",
        "from torch.utils.data import Dataset, DataLoader # to create the iterable loader for\n",
        "# model training\n",
        "from transformers import BertTokenizer, BertForTokenClassification # import the\n",
        "# tokenizer provided by Hugging Face and the pretrained BERT model"
      ]
    },
    {
      "cell_type": "code",
      "execution_count": null,
      "metadata": {
        "id": "4rqeYBMT1B8W",
        "colab": {
          "base_uri": "https://localhost:8080/"
        },
        "outputId": "35379257-fbe0-4e65-e0ae-09af28d6c859"
      },
      "outputs": [
        {
          "output_type": "stream",
          "name": "stdout",
          "text": [
            "cuda\n"
          ]
        }
      ],
      "source": [
        "# all computations will be performed on the GPU for increasing time efficiency\n",
        "from torch import cuda\n",
        "device = 'cuda' if cuda.is_available() else 'cpu'\n",
        "print(device)"
      ]
    },
    {
      "cell_type": "markdown",
      "metadata": {
        "id": "9pmeEU_5nW8r"
      },
      "source": [
        "Data manipulation for this section will be performed using the <a href = \"https://pandas.pydata.org/\" target = \"_blank\">pandas</a> library functionality. For that purpose, the dataset has been traisformed  into a pandas data frame."
      ]
    },
    {
      "cell_type": "code",
      "execution_count": null,
      "metadata": {
        "id": "Aw5NXv5lfpzJ"
      },
      "outputs": [],
      "source": [
        "df_train_s = pd.DataFrame({'Sentence': [\" \".join  (sentence) for sentence in raw_train],\n",
        "                              'Label': [\" \".join  (label) for label in label_train]})\n",
        "df_test_s = pd.DataFrame({'Sentence': [\" \".join  (sentence) for sentence in raw_test],\n",
        "                              'Label': [\" \".join  (label) for label in label_test]})"
      ]
    },
    {
      "cell_type": "markdown",
      "metadata": {
        "id": "xAEYB11J1OqL"
      },
      "source": [
        "To use the pretrained BERT model, it is necessary to create the mapping from the string-represented IOB2 tags to numeric identification indexes for each tag."
      ]
    },
    {
      "cell_type": "code",
      "execution_count": null,
      "metadata": {
        "id": "ClSqfSoyTS9a"
      },
      "outputs": [],
      "source": [
        "label2id = {k: v for v, k in enumerate(output_labels)} # select the index\n",
        "id2label = {v: k for v, k in enumerate(output_labels)} # select the label name"
      ]
    },
    {
      "cell_type": "markdown",
      "metadata": {
        "id": "_zV1veoYMyTB"
      },
      "source": [
        "### **Tokenization**\n",
        "\n",
        "The first step in natural [language](https://who.net) processing task is to transform the string-represented data into the form that can be processed by a machine learning model.\n",
        "\n",
        "Using wordpieces gives a good balance between the\n",
        "flexibility of single characters and the efficiency of full words for decoding, and also sidesteps the need for\n",
        "special treatment of unknown words.\n",
        "\n",
        "The <u>full</u> tokenizer implementation performs the a wide range of tasks, including:\n",
        "<ol>\n",
        "  <li> Each word in the sentence is tokenized using wordpiece tokenization.  </li>\n",
        "  Wordpiece approach provides a balance between flexibility for tokenizing single characters without loss in efficiency of full word decoding (Wu et al., 2016). In order to preserve the tagging for wordpieces, a special function <i>(tokenize_and_preserve_labels ())</i> adapted from the following Github <a href=\"https://github.com/NielsRogge/Transformers-Tutorials/tree/master/BERT\" target=\"_blank\">Repository</a> was implemented to carry the tags over to the newly created tokens.\n",
        "  <li> Adds the new tokens to the vocabulary </li>\n",
        "  <li> Adds padding or truncating, based on the maximum length of the sequence provided as an actual parameter to the tokenizer</li>\n",
        "  <ul type = 'circle'>\n",
        "  <li> Padding is necessary in order for the network to be able to accept as input sequences of different lengths in every batch it processes. </li>\n",
        "  <li> Maximum sequence length</li>\n",
        "  The decision ought to be made taking into consideration both the need to avoid excessive padding and to avoid eliminating important information by truncation.\n",
        "  </ul>\n",
        "  <li>Creates the attention mask\n",
        "  <ul type = 'circle'>\n",
        "  <li> An Attention mask is necessary in order to signal to the model not to processs the padding tokens. Thus, it guarantees that the attention scores for the padding tokens are not taken into account during training.</li>\n",
        "  </ul>\n",
        "  <li> Creates special tokens:</li>\n",
        "  <ol>\n",
        "    <li>CLS: the classifier token, to signal the beginning of each sequence</li>\n",
        "    <li>SEP: the separator token, to separate multiple sequences within one input sequence; also used as the last token in a sequence\n",
        "    <li>Other tokens, such as EOS, not relevant to the current task. </li>\n",
        "</ol>"
      ]
    },
    {
      "cell_type": "markdown",
      "metadata": {
        "id": "p_H6SBoNtrwE"
      },
      "source": [
        "To determine the optimal maximum length of the input sequence, the distribution of the sentences tokenized using the wordpiece methodology was implemented."
      ]
    },
    {
      "cell_type": "code",
      "execution_count": null,
      "metadata": {
        "id": "JxrX1o80OdfE"
      },
      "outputs": [],
      "source": [
        "%%capture\n",
        "tokenizer = BertTokenizer.from_pretrained('bert-base-uncased')"
      ]
    },
    {
      "cell_type": "code",
      "execution_count": null,
      "metadata": {
        "id": "YRQWOFe8o-yT"
      },
      "outputs": [],
      "source": [
        "raw_tokens = []\n",
        "for i in range (df_train_s.shape [0]):\n",
        "  # tokenize each sentence in the training dataset\n",
        "  raw_tokens.append (tokenizer.tokenize (df_train_s.iloc [i] [0]))\n",
        "raw_tokens_len = len_counter (raw_tokens) # calculate length of each token\n",
        "raw_tokens_len = pd.DataFrame({'Token length': [t for t in raw_tokens_len]}) # for plotting"
      ]
    },
    {
      "cell_type": "code",
      "source": [
        "plt.figure(figsize=(12, 8))\n",
        "\n",
        "sns.set(style=\"whitegrid\")\n",
        "\n",
        "#plt.subplot(1, 2, 2)  # Creating subplot (1 row, 2 columns, position 2)\n",
        "ax = sns.boxplot(y=raw_tokens_len ['Token length'], color='blue',\n",
        "                 boxprops=dict(facecolor='blue', color='orange'),\n",
        "                 whiskerprops=dict(color='blue'), showfliers=True, showcaps=False)\n",
        "\n",
        "plt.grid(axis='x', linestyle='--', alpha=0.4, color=\"blue\")\n",
        "plt.title('Distribution of Sentence Lengths', fontsize=16)\n",
        "plt.xlabel('Sentence Length', fontsize=14)\n",
        "plt.ylabel('Frequency', fontsize=14)\n",
        "\n",
        "#plt.tight_layout()  # Adjust layout for better spacing\n",
        "plt.show()"
      ],
      "metadata": {
        "id": "xGP4aatyEK9k",
        "colab": {
          "base_uri": "https://localhost:8080/",
          "height": 715
        },
        "outputId": "2589ad14-ae7c-4933-d91f-2c4abec3fed5"
      },
      "execution_count": null,
      "outputs": [
        {
          "output_type": "display_data",
          "data": {
            "text/plain": [
              "<Figure size 1200x800 with 1 Axes>"
            ],
            "image/png": "[encoded data removed]"
          },
          "metadata": {}
        }
      ]
    },
    {
      "cell_type": "markdown",
      "metadata": {
        "id": "1wd0p2XAs7Sk"
      },
      "source": [
        "Based on the distribution of the lengths of the tokenized sentences, the decision has been made to set the threshold for truncating the input sequences at 50 in order to provide that the 1.5 IQR of the distribution while disregarding the sentences with extreme values for the lengths.\n",
        "\n",
        "Below the proper tokenization is implemented."
      ]
    },
    {
      "cell_type": "code",
      "execution_count": null,
      "metadata": {
        "id": "xUlbT0cLVuYB"
      },
      "outputs": [],
      "source": [
        "MAX_LEN = 50\n",
        "def tokenize_and_preserve_labels (sentence, text_labels, tokenizer):\n",
        "\n",
        "    # feed to the function each sentence, the labels and the method for\n",
        "    # tokenisation. this helps ensure that, even if one single word\n",
        "    # is split into \"several tokens\" i.e. wordpieces, the entity labels are\n",
        "    # preserved for each \"piece\"\n",
        "\n",
        "    tokenized_sentence = []\n",
        "    labels = []\n",
        "\n",
        "    sentence = sentence.strip() # remove leading and trailing whitespace\n",
        "\n",
        "    for word, label in zip(sentence.split(), text_labels.split(\" \")):\n",
        "\n",
        "        # Tokenize the word and count # of subwords the word is broken into\n",
        "        tokenized_word = tokenizer.tokenize(word)\n",
        "        n_subwords = len(tokenized_word)\n",
        "\n",
        "        # Add the tokenized word to the final tokenized word list\n",
        "        tokenized_sentence.extend(tokenized_word)\n",
        "\n",
        "        # Add the same label to the new list of labels `n_subwords` times\n",
        "        labels.extend([label] * n_subwords)\n",
        "\n",
        "    return tokenized_sentence, labels"
      ]
    },
    {
      "cell_type": "markdown",
      "metadata": {
        "id": "GRY0_6Wp2Dz0"
      },
      "source": [
        "Further, a special class Dataset (adapted from the following Github <a href=\"https://github.com/NielsRogge/Transformers-Tutorials/tree/master/BERT\" target=\"_blank\">Repository</a>) is implemented in order to prepare the data to be used by the BERT pretrained model. For instance, it is necessary to add the special tokens, truncate or pad the sentences according to the maximum sentence length chosen, and assign the IOB2 tokens to the new elements. It also transforms a data frame into a PyTorch tensor.\n",
        "\n",
        "Additionally, it is important to note that each instance of the Dataset class will include the vector with token identifications, the attention mask, as well as the tags assigned to each word in the initial dataset: this will allow to calculate evaluation metrics during training.\n"
      ]
    },
    {
      "cell_type": "code",
      "execution_count": null,
      "metadata": {
        "id": "R34GXLsHV2dz"
      },
      "outputs": [],
      "source": [
        "class dataset(Dataset):\n",
        "    # create an instance of the dataset class with following attributes:\n",
        "    def __init__(self, dataframe, tokenizer, max_len):\n",
        "        self.len = len(dataframe)\n",
        "        self.data = dataframe\n",
        "        self.tokenizer = tokenizer\n",
        "        self.max_len = max_len\n",
        "\n",
        "    def __getitem__(self, index):\n",
        "        # step 1: tokenize (and adapt corresponding labels)\n",
        "        sentence = self.data.Sentence [index]\n",
        "        word_labels = self.data.Label [index]\n",
        "        tokenized_sentence, labels = tokenize_and_preserve_labels (sentence, word_labels, self.tokenizer)\n",
        "\n",
        "        # step 2: add special tokens (and corresponding labels)\n",
        "        tokenized_sentence = [\"[CLS]\"] + tokenized_sentence + [\"[SEP]\"] # add special tokens\n",
        "        labels.insert(0, \"O\") # add outside label for [CLS] token\n",
        "        labels.insert(-1, \"O\") # add outside label for [SEP] token\n",
        "\n",
        "        # step 3: truncating/padding\n",
        "        maxlen = self.max_len\n",
        "\n",
        "        if (len(tokenized_sentence) > maxlen):\n",
        "          # truncate sentences that are longer than the maxlen set\n",
        "          tokenized_sentence = tokenized_sentence[:maxlen]\n",
        "          labels = labels[:maxlen]\n",
        "        else:\n",
        "          # pad sentences that are shorter\n",
        "          tokenized_sentence = tokenized_sentence + ['[PAD]'for _ in range(maxlen - len(tokenized_sentence))]\n",
        "          labels = labels + [\"O\" for _ in range(maxlen - len(labels))]\n",
        "\n",
        "        # step 4: obtain the attention mask\n",
        "        attn_mask = [1 if tok != '[PAD]' else 0 for tok in tokenized_sentence] # do not pay attention to padding\n",
        "\n",
        "        # step 5: convert tokens to input ids\n",
        "        ids = self.tokenizer.convert_tokens_to_ids(tokenized_sentence)\n",
        "\n",
        "        label_ids = [label2id[label] for label in labels] # transform to numeric\n",
        "\n",
        "        return {\n",
        "              'ids': torch.tensor(ids, dtype=torch.long), # tokens for the sentence\n",
        "              'mask': torch.tensor(attn_mask, dtype=torch.long), # attention mask\n",
        "              'targets': torch.tensor(label_ids, dtype=torch.long)  # labels\n",
        "        }\n",
        "\n",
        "    def __len__(self):\n",
        "        return self.len"
      ]
    },
    {
      "cell_type": "markdown",
      "metadata": {
        "id": "WBQ8OnNd2x1h"
      },
      "source": [
        "The pretrain allows to obtain high performance results, however, some of the input parameters ought to be chosen carefully. One approach is to estimate the performance of the models trained on those different hyperparamenters, by splitting the dataset into training and validation sets, and using the latter to record performance metrics and compare the outcomes of different parametrisation (James et al., 2013).\n",
        "\n",
        "Due to the relatively small size of the training dataset, in order to obtain appropriate validation results, k-fold cross validation was performed (Heaton, 2018). The dataset was split into 5 parts, and the average metrics for the training on 5 different subsets of data will be estimated on non-overlapping validation sets, and subsequently their average will be considered in order to\n",
        "fine-tune the model and make an informed decision on the choice of the hyperparameters.\n",
        "\n",
        "  <!-- Center-justified image -->\n",
        "<p align=\"center\">\n",
        "  <img src=\"https://i.imgur.com/kYEeF7Y.png\" alt=\"k-fold CV\" width = 500>\n",
        "</p>\n",
        "\n",
        "<!-- Source link -->\n",
        "<p align=\"center\">\n",
        "  <i>Visualization for k-fold cross-validation.</i>\n",
        "  <a href=\"https://docs.ultralytics.com/guides/kfold-cross-validation/#introduction\" target=\"_blank\">Source</a>\n",
        "</p>\n"
      ]
    },
    {
      "cell_type": "code",
      "execution_count": null,
      "metadata": {
        "id": "s9tAITkP3eGU"
      },
      "outputs": [],
      "source": [
        "from sklearn.model_selection import KFold\n",
        "\n",
        "k_folds = 5\n",
        "\n",
        "# Initialize KFold\n",
        "kf = KFold(n_splits=k_folds, shuffle=False) # randomisation not used to preserve\n",
        "# the structure for the validation set\n",
        "\n",
        "# Create a list to store your k datasets\n",
        "fold_datasets = []\n",
        "\n",
        "# Split the data into k folds\n",
        "for train_index, val_index in kf.split(df_train_s):\n",
        "    train_data, val_data = df_train_s.iloc[train_index], df_train_s.iloc[val_index]\n",
        "\n",
        "    # Create dataset instances for training and validation\n",
        "    train_dataset = dataset(train_data, tokenizer, MAX_LEN)\n",
        "    val_dataset = dataset(val_data, tokenizer, MAX_LEN)\n",
        "\n",
        "\n",
        "    fold_datasets.append((train_dataset, val_dataset))\n",
        "\n",
        "# Now fold_datasets contains k tuples, each with a training dataset and a validation dataset\n"
      ]
    },
    {
      "cell_type": "markdown",
      "metadata": {
        "id": "03x8BvM63o0B"
      },
      "source": [
        "### <b>Pretrained model</b>\n",
        "\n",
        "For this analysis, the base BERT model from the <a href=\"https://huggingface.co/bert-base-uncased\" target=\"_blank\">Hugging Face</a> open platform was used. It was pretrained in a self-supervised way using the masked language modelling approach on English language, and does not distinguish between capitalised and lowercase characters.\n",
        "\n",
        "In particular, for the named entity recognition task, the BERT model with token classification head on top is implemented further. It adheres to the following structure <i> (the details on the implementation are described according to the <a href=\"https://github.com/huggingface/transformers/blob/main/src/transformers/models/bert/modeling_bert.py#L1716\" target = \"_blank\"> source code</a>)</i>:\n",
        "\n",
        "<ol>\n",
        "  <li><b>Bert model</b></li>\n",
        "  The first step that the model takes is creating embeddings for each token in each sentence, utilising the extensive vocabulary that includes 30522 tokens, which is the input size for the nn.Embeding layer, and 768 is the hidden layer dimension for the BERT model, which is also the output size of the resulting vector with the embeddings. Afterwards, positional embeddings are implemented, and they are created as a simple Embedding layer as well, without utilising the trigonometric functions described above. As per the leader of the the ML and Society team,  <a href=\" https://discuss.huggingface.co/t/why-positional-embeddings-are-implemented-as-just-simple-embeddings/585\" target=\"_blank\">Yacine Jernite</a>, although the method proposed by Vaswani et al. generalises better to new data, the learned embeddings allow for faster training. Subsequently, the embeddings and positional encodings are summed up, and a normalization layer is applied to the result.\n",
        "  \n",
        "  The normalization layer performs normalization for the batch of the inputs according to the following <a href=\"https://pytorch.org/docs/stable/generated/torch.nn.LayerNorm.html\" target=\"_blank\">formula</a>:\n",
        "\n",
        "  $$y = \\frac{x - E[x]}{\\sqrt{Var[x] + ϵ}}*γ + β,$$\n",
        "\n",
        "  where the mean and the standard deviation would be calculated over the last 768 dimensions, with $ϵ$ stabilisation term. Layer normalization is applied for the purpose of decreasing the coomputational burden by normalizing the input to the neuron (Ba, Kiros, and Hinton, 2016).\n",
        "\n",
        "  The final layer in the Bert model is the Dropout which is aimed at regularization: some randomly selected (with probability 0.1) neurons are omitted from the training step (Heaton, 2018).  \n",
        "\n",
        "  \n",
        "  <li><b>Encoder</b></li>\n",
        "  At this step, the model enters the encoder architecture, which consists of 12 identical layers of the actual encoder block: the multy-headed attention layer and the feed forward layer.  There are 12 attention heads specified in the architecure. After attention score computations, a dropout layer is applied for normalization.\n",
        "\n",
        "  The feed-forward layer consists of a linear layer, normalization and dropout.\n",
        "  <li><b>Intermediate layer</b> </li>\n",
        "  At this stage, the hidden dimensions are expanded to 4 times the previous size (Sridhar and Sarah, 2023).The  the GELU activation was <a href = \"https://github.com/huggingface/transformers/blob/main/src/transformers/activations.py\" target = \"_blank\">implemented </a>:\n",
        "\n",
        "  $$ 0.5  x * \\left( 1 + \\frac {2}{ \\sqrt{\\pi}} \\  \\int_{0}^{\\frac {x}{\\sqrt 2}} e^{-t^2} \\,dt \\right) $$\n",
        "\n",
        "  The benefit of using the GELU function, rather than the RELU, is that it provides a way to capture the nonlinearity advantage of the RELU function while combining it with the benefits of stochastic regularization using dropout (Hendrycks and Gimpel, 2016). As such, the GELU activation also multiplies the input values by 0 or by 1, but the probability to have a value of zero depends on the actual value of the input, since the standard Normal cumulative distribution function is used.\n",
        "\n",
        "  <!-- Center-justified image -->\n",
        "<p align=\"center\">\n",
        "  <img src=\"https://i.imgur.com/ICcPYb1.png\" alt=\"GELU\" width = 400>\n",
        "</p>\n",
        "\n",
        "<!-- Source link -->\n",
        "<p align=\"center\">\n",
        "  <i>GELU function, comparison with ReLu.</i>\n",
        "  <a href=\"https://www.researchgate.net/publication/370116538_Automatic_Building_Height_Estimation_Machine_Learning_Models_for_Urban_Image_Analysis\" target=\"_blank\">Source</a>\n",
        "</p>\n",
        "\n",
        "  <li> <b>Output</b> </li>\n",
        "  In this layer, the size of the hidden layer is scaled back to 768, normalised, and regularization is applied.\n",
        "  <li> <b>Classification head</b></li>\n",
        "  Since the task for this project is token classification, the BERT pretrain with a classification head added to it was implemented.  As such, it applies a dropout layer and with a linear layer produces logits for each category that is present in the dataset.\n",
        "</ol>"
      ]
    },
    {
      "cell_type": "code",
      "execution_count": null,
      "metadata": {
        "id": "e3JRrTFa5A-n"
      },
      "outputs": [],
      "source": [
        "model = BertForTokenClassification.from_pretrained('bert-base-uncased',\n",
        "                                                   num_labels=len(id2label),\n",
        "                                                   id2label=id2label,\n",
        "                                                   label2id=label2id)\n",
        "model.to(device) # move the model to GPU for computations"
      ]
    },
    {
      "cell_type": "code",
      "execution_count": null,
      "metadata": {
        "id": "Y3vRYEgy5CXr"
      },
      "outputs": [],
      "source": [
        "config = model.config\n",
        "\n",
        "# Find the number of attention heads\n",
        "num_attention_heads = config.num_attention_heads\n",
        "\n",
        "print(f\"The model has {num_attention_heads} attention heads.\")"
      ]
    },
    {
      "cell_type": "markdown",
      "metadata": {
        "id": "H_kyMq6w5xr2"
      },
      "source": [
        "In the following code chunk, some parameters for the model specifications are set.\n",
        "\n",
        "<ol>\n",
        "  <li> Batch size</li>\n",
        "  Batching is used for the efficiency of optimization: choosing an optimal batch size allows to preserve the computational benefits of stochastic gradient descent while reducing the variability that is introduced by the sampling error (Aggarwal, Aggarwal, and Lagerstrom-Fife, 2020). Due to the relatively small size of the dataset, and the fact that the GPU resources are most efficiently use for match sizes of powers of two, both the training and the validation batch sizes were set to 8.\n",
        "  <li>Number of epochs</li>\n",
        "  The training will be performed on 15 epochs to guarantee that the pretrained model learns from the provided training dataset.\n",
        "  <li>Gradient clipping</li>\n",
        "  This specification is necessary to prevent the problem of an exploding gradient, which occurs when the gradient values become too large with respect to the model parameters, which leads to the updates being too large and hinders convergence (Aggarwal, Aggarwal, and Lagerstrom-Fife, 2020). This is addressed by introducing a condition in the training function that would clip the gradient to the pre-specified value if the value of its norm becomes too large.\n",
        "</ol>"
      ]
    },
    {
      "cell_type": "code",
      "execution_count": null,
      "metadata": {
        "id": "JW3qbYo4UXRR"
      },
      "outputs": [],
      "source": [
        "TRAIN_BATCH_SIZE = 8\n",
        "VALID_BATCH_SIZE = 8\n",
        "\n",
        "EPOCHS = 15\n",
        "\n",
        "MAX_GRAD_NORM = 10"
      ]
    },
    {
      "cell_type": "markdown",
      "metadata": {
        "id": "dLy0yfN9F1zd"
      },
      "source": [
        "## <b>Cross-validation step</b>"
      ]
    },
    {
      "cell_type": "markdown",
      "metadata": {
        "id": "zpdddn4Z6RYb"
      },
      "source": [
        "In order to perform the update of the weights of the pretrained BERT model in an efficient manner to introduce the information from the training dataset, and to train the model to recognize the IOB2 tags used in the GUM corpus, an appropriate optimization strategy must be implemented. The performance of three optimizers on the dataset has been investigated using the K-fold cross-validation approach, with each of the strategies described below.\n",
        "\n",
        "<ol>\n",
        "  <li><b>Adam</b></li>\n",
        "  Combines the benefits of the RMSProp algorithm, which uses moving averages of the squares of the values of gradients for previous ierations in order to prevent oscillations during the optimization process, with the advantages of the momentum techniques that build the inertia that allows to tackle local minuma. The learning rates are thus adapted at each step according to the historical information on the previous steps of the algorithm.\n",
        "\n",
        "  <li><b>AdamW</b></li>\n",
        "  This optimization algorithm <a href = \"https://towardsdatascience.com/why-adamw-matters-736223f31b5d\" target = \"_blank\">builds on</a> the Adam algorithm by changing the way the weight control, which aims at avoiding the overfitting, is applied: only the current value of the gradient is corrected, with the historical gradient remaining without the correction. This method was introduced because the initial implementation of the weight decay is not appropriate for adaptive algorithms (Loshchilov and Hutter, 2017).  \n",
        "  <li><b>Ranger</b></li>\n",
        "  <a href = \"https://danielhanchen.github.io/optimizers/sota%20optimizers.htm target = \"_blank\"> Ranger</a> is a new optimization algorithm introduced in 2019 which combines rectified Adam with Lookahead into a single optimizer. RAdam <a href = \"https://paperswithcode.com/method/radam\" target = \"_blank\">aims at</a> reducing the variance of the adaptive learning rate, especially in the beginning of the learning process, leading to better convergence results. Lookahead algorithm updates two sets of weights at each iterations: the fast weights are optimized k times by a fast optimization algorithms, and the result of this procedure are used to determine the update of the small weights, providing more stable results during the training (Zhang et al., 2019).\n",
        "\n",
        "</ol>"
      ]
    },
    {
      "cell_type": "markdown",
      "metadata": {
        "id": "7tUdXpyY6_hu"
      },
      "source": [
        "Below, the functions for training the model and validating it are specified, later combined to a single function that performs those operations on each of the folds used for cross-validation."
      ]
    },
    {
      "cell_type": "code",
      "execution_count": null,
      "metadata": {
        "id": "qPzOpQ44n3S6"
      },
      "outputs": [],
      "source": [
        "def train(epoch, model, optimizer, data, weights=False):\n",
        "    np.random.seed (42)\n",
        "\n",
        "    #initialise some variables:\n",
        "\n",
        "    # lists with loss and accuracy values\n",
        "    loss_values, accuracy_values = [], []\n",
        "\n",
        "    # training loss and accuracy\n",
        "    tr_loss, tr_accuracy = 0, 0\n",
        "\n",
        "    # counters for cumulative batch sizes and batch iterations:\n",
        "    nb_tr_examples, nb_tr_steps = 0, 0\n",
        "\n",
        "    # variables for storing the output:\n",
        "    tr_preds, tr_labels = [], []\n",
        "\n",
        "    # move to gpu, if available\n",
        "    model.to (device)\n",
        "    # put model in training mode\n",
        "    model.train()\n",
        "\n",
        "    for idx, batch in enumerate(data): # iterate over the loader iterable\n",
        "\n",
        "        # move all the data to the same device the model's already at\n",
        "        ids = batch['ids'].to(device, dtype = torch.long)\n",
        "        mask = batch['mask'].to(device, dtype = torch.long)\n",
        "        targets = batch['targets'].to(device, dtype = torch.long)\n",
        "        # for each batch I extract this information\n",
        "\n",
        "        # actually apply the bert specifications, with the\n",
        "        # pretrained weights at first iteration:\n",
        "        outputs = model(input_ids=ids, attention_mask=mask, labels=targets)\n",
        "\n",
        "        # save the outputs logits of the linear classification\n",
        "        tr_logits = outputs.logits\n",
        "\n",
        "        if weights==False:\n",
        "            # save the outputs: the loss and the logits of the linear classification\n",
        "            loss = outputs.loss\n",
        "            # accumulate the loss over all the iterations so that we can keep track over the average loss for all batches:\n",
        "            tr_loss += loss.item()\n",
        "\n",
        "        # increment the step, i.e. + 1 for each batch we go through at this epoch\n",
        "        nb_tr_steps += 1\n",
        "\n",
        "        # increment the size, i.e. the number of rows so far considered in each batch cumulatively\n",
        "        nb_tr_examples += targets.size(0)\n",
        "\n",
        "        ################################\n",
        "        ### compute training accuracy###\n",
        "\n",
        "         # 'targets' i.e. the true labels, in flattened format\n",
        "        flattened_targets = targets.view(-1) # shape (batch_size * seq_len,)\n",
        "\n",
        "        # the linear classification logits for the current batch\n",
        "        active_logits = tr_logits.view(-1, model.num_labels) # shape (batch_size * seq_len, num_labels)\n",
        "\n",
        "        # take the active logits and just using argmax choose the prediction\n",
        "        flattened_predictions = torch.argmax(active_logits, axis=1) # shape (batch_size * seq_len,)\n",
        "\n",
        "        # now, use mask to determine where we should compare predictions with targets (includes [CLS] and [SEP] token predictions)\n",
        "        active_accuracy = mask.view(-1) == 1 # active accuracy is also of shape (batch_size * seq_len,)\n",
        "\n",
        "        # only choose relevant targets & predictions\n",
        "        targets = torch.masked_select(flattened_targets, active_accuracy)\n",
        "        predictions = torch.masked_select(flattened_predictions, active_accuracy)\n",
        "\n",
        "        if weights==True:\n",
        "          loss = loss_fn(active_logits.float(), flattened_targets)\n",
        "          tr_loss += loss.item()\n",
        "\n",
        "        # calculate accuracy for the current batch:\n",
        "        tmp_tr_accuracy = accuracy_score(targets.cpu().numpy(), predictions.cpu().numpy())\n",
        "        tr_accuracy += tmp_tr_accuracy\n",
        "        ################################\n",
        "\n",
        "        # store labels and predictions in the list:\n",
        "        tr_preds.extend(predictions)\n",
        "        tr_labels.extend(targets)\n",
        "\n",
        "        loss_step = tr_loss/nb_tr_steps\n",
        "        loss_values.append(loss_step)\n",
        "        accuracy_step=tr_accuracy/nb_tr_steps\n",
        "        accuracy_values.append(accuracy_step)\n",
        "\n",
        "        # gradient clipping\n",
        "        torch.nn.utils.clip_grad_norm_(\n",
        "            parameters=model.parameters(), max_norm=MAX_GRAD_NORM\n",
        "        )\n",
        "\n",
        "        # backward pass\n",
        "        optimizer.zero_grad()\n",
        "        loss.backward()\n",
        "        optimizer.step()\n",
        "\n",
        "    epoch_loss = tr_loss / nb_tr_steps\n",
        "    tr_accuracy = tr_accuracy / nb_tr_steps\n",
        "    return epoch_loss, tr_accuracy, loss_values, accuracy_values"
      ]
    },
    {
      "cell_type": "code",
      "execution_count": null,
      "metadata": {
        "id": "nL00tYnkn5mI"
      },
      "outputs": [],
      "source": [
        "def valid(model, data, testing = False):\n",
        "    np.random.seed (42)\n",
        "\n",
        "    # put model in evaluation mode\n",
        "    model.eval()\n",
        "\n",
        "    # initialise loss & accuracy on validation to 0\n",
        "    eval_loss, eval_accuracy = 0, 0\n",
        "\n",
        "    # same with number of rows & the number of batches considered\n",
        "    nb_eval_examples, nb_eval_steps = 0, 0\n",
        "\n",
        "    # same with the predictions and labels we will compare\n",
        "    eval_preds, eval_labels = [], []\n",
        "    loss_values_val, accuracy_values_val = [], []\n",
        "\n",
        "    with torch.no_grad():\n",
        "      # we will evaluate  for each batch, but are only interested in the final one, so will evarage\n",
        "        for idx, batch in enumerate(data):\n",
        "\n",
        "            # move everything to gpu\n",
        "            ids = batch['ids'].to(device, dtype = torch.long)\n",
        "            mask = batch['mask'].to(device, dtype = torch.long)\n",
        "            targets = batch['targets'].to(device, dtype = torch.long)\n",
        "\n",
        "            # get the predictions (the logits) by running the model on the validation data\n",
        "            outputs = model(input_ids=ids, attention_mask=mask, labels=targets)\n",
        "            loss, eval_logits = outputs.loss, outputs.logits\n",
        "\n",
        "            # accumulate the loss\n",
        "            eval_loss += loss.item()\n",
        "\n",
        "            # increment those to get the averages\n",
        "            nb_eval_steps += 1\n",
        "            nb_eval_examples += targets.size(0)\n",
        "\n",
        "            ################################\n",
        "            ### compute evaluation accuracy###\n",
        "\n",
        "            # 'targets' i.e. the true labels, in flattened format\n",
        "            flattened_targets = targets.view(-1) # shape (batch_size * seq_len,)\n",
        "\n",
        "            # the linear classification logits for the current batch\n",
        "            active_logits = eval_logits.view(-1, model.num_labels) # shape (batch_size * seq_len, num_labels)\n",
        "\n",
        "            # take the active logits and just using argmax choose the prediction\n",
        "            flattened_predictions = torch.argmax(active_logits, axis=1) # shape (batch_size * seq_len,)\n",
        "\n",
        "            # now, use mask to determine where we should compare predictions with targets (includes [CLS] and [SEP] token predictions)\n",
        "            active_accuracy = mask.view(-1) == 1 # active accuracy is also of shape (batch_size * seq_len,)\n",
        "\n",
        "            # only choose relevant targets & predictions\n",
        "            targets = torch.masked_select(flattened_targets, active_accuracy)\n",
        "            predictions = torch.masked_select(flattened_predictions, active_accuracy)\n",
        "\n",
        "            eval_labels.extend(targets)\n",
        "            eval_preds.extend(predictions)\n",
        "\n",
        "            # calculate the accuracy for the current batch:\n",
        "            tmp_eval_accuracy = accuracy_score(targets.cpu().numpy(), predictions.cpu().numpy())\n",
        "            eval_accuracy += tmp_eval_accuracy\n",
        "\n",
        "            loss_stored=eval_loss/nb_eval_steps\n",
        "            accuracy_stored=eval_accuracy/nb_eval_steps\n",
        "\n",
        "            loss_values_val.append(loss_stored)\n",
        "            accuracy_values_val.append(accuracy_stored)\n",
        "            ################################\n",
        "\n",
        "\n",
        "\n",
        "    # convert back to labels so that they can be used for classification report\n",
        "    labels = [id2label[id.item()] for id in eval_labels]\n",
        "    predictions = [id2label[id.item()] for id in eval_preds]\n",
        "\n",
        "    eval_loss = eval_loss / nb_eval_steps\n",
        "    eval_accuracy = eval_accuracy / nb_eval_steps\n",
        "\n",
        "    if testing:\n",
        "      return eval_loss, eval_accuracy, labels, predictions,  loss_values_val, accuracy_values_val\n",
        "    else:\n",
        "      return eval_loss, eval_accuracy, loss_values_val, accuracy_values_val"
      ]
    },
    {
      "cell_type": "code",
      "execution_count": null,
      "metadata": {
        "id": "Jj4qngE0n8GI"
      },
      "outputs": [],
      "source": [
        "def k_fold(epoch, folds_data, optimizer_choice='Adam', weights=False):\n",
        "\n",
        "    # initialise variables for storing\n",
        "    eval_labels, eval_preds = [], []\n",
        "    loss_values_list, accuracy_values_list= [], []\n",
        "    loss_values_list_val = []\n",
        "    accuracy_values_list_val= []\n",
        "    tr_loss, tr_acc = 0, 0\n",
        "    avg_tr_acc = 0; avg_val_acc = 0\n",
        "    i = 0\n",
        "\n",
        "    for fold, (train_dataset, val_dataset) in enumerate(folds_data):\n",
        "      # reload the model so that for each fold it will train from scratch:\n",
        "        model = BertForTokenClassification.from_pretrained('bert-base-uncased',\n",
        "                                                   num_labels=len(id2label),\n",
        "                                                   id2label=id2label,\n",
        "                                                   label2id=label2id)\n",
        "\n",
        "        loss_values_list.append([])\n",
        "        accuracy_values_list.append([])\n",
        "        loss_values_list_val.append([])\n",
        "        accuracy_values_list_val.append([])\n",
        "\n",
        "        model.to(device)\n",
        "\n",
        "        # in this part, we choose on which optimization strategy to train the mode\n",
        "        if optimizer_choice=='Adam':\n",
        "            optimizer = torch.optim.Adam(params=model.parameters(), lr=LEARNING_RATE_A, betas = BETAS_A, weight_decay = WEIGHT_DECAY_A)\n",
        "        elif optimizer_choice=='AdamW':\n",
        "            optimizer = AdamW(model.parameters(), lr=LEARNING_RATE_AW, betas = BETAS_AW, weight_decay=WEIGHT_DECAY_AW)\n",
        "        elif optimizer_choice =='Ranger':\n",
        "            optimizer = Ranger(model.parameters(), lr=LEARNING_RATE_R, k = k, weight_decay=WEIGHT_DECAY_R)\n",
        "        else:\n",
        "            raise ValueError(\"Invalid optimizer type. Supported types are 'Adam','AdamW' and 'Ranger'.\")\n",
        "\n",
        "        print(f\"Training on fold {fold + 1}...\")\n",
        "        train_dataset.data = train_dataset.data.reset_index(drop=True)\n",
        "        val_dataset.data = val_dataset.data.reset_index(drop=True)\n",
        "\n",
        "        # fix batch sizes\n",
        "        train_dataloader = DataLoader(train_dataset, batch_size=TRAIN_BATCH_SIZE, shuffle=True)\n",
        "        val_dataloader = DataLoader(val_dataset, batch_size=VALID_BATCH_SIZE, shuffle=False)\n",
        "\n",
        "\n",
        "        for e in range(epoch):\n",
        "\n",
        "            if weights==False:\n",
        "                tr_loss, tr_acc,  loss_values, accuracy_values = train (e, model, optimizer, train_dataloader) # the values for the\n",
        "            # last epoch will be saved when exit the for loop\n",
        "            else:\n",
        "                tr_loss, tr_acc,  loss_values, accuracy_values = train (e, model, optimizer, train_dataloader, weights=True)\n",
        "\n",
        "            # Append values from each epoch to the lists\n",
        "            loss_values_list[i].extend(loss_values)\n",
        "            accuracy_values_list[i].extend(accuracy_values)\n",
        "\n",
        "        avg_tr_acc += tr_acc\n",
        "        print(f\"For fold {fold + 1}, the training metrics are: \\nloss: {tr_loss}, accuracy: {tr_acc}\")\n",
        "\n",
        "        val_loss, val_acc, loss_values_val, accuracy_values_val = valid(model, val_dataloader)\n",
        "\n",
        "        avg_val_acc += val_acc\n",
        "\n",
        "        loss_values_list_val[i].extend(loss_values_val)\n",
        "        accuracy_values_list_val[i].extend(accuracy_values_val)\n",
        "        print(f\"For fold {fold + 1}, the validation metrics are: \\nloss: {val_loss}, accuracy: {val_acc}\")\n",
        "\n",
        "        i += 1\n",
        "\n",
        "    return (avg_tr_acc / k_folds), (avg_val_acc / k_folds),  loss_values_list, accuracy_values_list, loss_values_list_val, accuracy_values_list_val\n"
      ]
    },
    {
      "cell_type": "markdown",
      "metadata": {
        "id": "Z8rHUuKJ80pa"
      },
      "source": [
        "### <b>Adam optimizer</b>\n",
        "\n",
        "The learning rate and the momentum parameters are set in accordance with the parameters used for training the model, weight decay set to 0."
      ]
    },
    {
      "cell_type": "code",
      "execution_count": null,
      "metadata": {
        "id": "fbPsMGK78tCY"
      },
      "outputs": [],
      "source": [
        "LEARNING_RATE_A = 1e-4\n",
        "BETAS_A = (0.9, 0.999)\n",
        "WEIGHT_DECAY_A = 0"
      ]
    },
    {
      "cell_type": "code",
      "execution_count": null,
      "metadata": {
        "id": "fkNrW1zaoBFB"
      },
      "outputs": [],
      "source": [
        "adam_tr_acc, adam_val_acc, adam_loss_values_list, adam_accuracy_values_list, adam_loss_values_list_val, adam_accuracy_values_list_val = k_fold (EPOCHS, fold_datasets, weights = True)"
      ]
    },
    {
      "cell_type": "code",
      "execution_count": null,
      "metadata": {
        "id": "QgZApvBYE6G3"
      },
      "outputs": [],
      "source": [
        "# save the model:\n",
        "model.save_pretrained('/content/drive/MyDrive/datavis_project/models_valid/adam')"
      ]
    },
    {
      "cell_type": "code",
      "execution_count": null,
      "metadata": {
        "id": "MlXR8JjzT073"
      },
      "outputs": [],
      "source": [
        "Adam=dict()\n",
        "Adam['labels']=adam_labs\n",
        "Adam['predictions']=adam_preds\n",
        "Adam['loss_values_list']= adam_loss_values_list\n",
        "Adam['accuracy_values_list']=adam_accuracy_values_list\n",
        "Adam['loss_values_list_val']=adam_loss_values_list_val\n",
        "Adam['accuracy_values_list_val']=adam_accuracy_values_list_val"
      ]
    },
    {
      "cell_type": "code",
      "execution_count": null,
      "metadata": {
        "id": "8OKwzgHTtz3B"
      },
      "outputs": [],
      "source": [
        "import json # to save files\n",
        "\n",
        "file_path = \"/content/drive/MyDrive/datavis_project/Adam.json\"\n",
        "data_to_save = Adam\n",
        "\n",
        "# save results\n",
        "with open(file_path, 'w') as json_file:\n",
        "    json.dump(data_to_save, json_file)"
      ]
    },
    {
      "cell_type": "markdown",
      "metadata": {
        "id": "hKl4rfmX_6OC"
      },
      "source": [
        "### <b>AdamW optimizer</b>\n",
        "\n",
        "The same parameters were chosen for AdamW as were for Adam, but the weight decay was introduced."
      ]
    },
    {
      "cell_type": "code",
      "execution_count": null,
      "metadata": {
        "id": "5QMhSRhOo12j"
      },
      "outputs": [],
      "source": [
        "from transformers import AdamW # import module with AdamW"
      ]
    },
    {
      "cell_type": "code",
      "execution_count": null,
      "metadata": {
        "id": "1fAEm6i3_4Qy"
      },
      "outputs": [],
      "source": [
        "LEARNING_RATE_AW = 1e-4\n",
        "BETAS_AW = (0.9, 0.999)\n",
        "WEIGHT_DECAY_AW = 0.01"
      ]
    },
    {
      "cell_type": "code",
      "execution_count": null,
      "metadata": {
        "id": "xycw_493m0rB"
      },
      "outputs": [],
      "source": [
        "adamw_tr_acc, adamw_val_acc, adamw_labs, adamw_preds, adamw_loss_values_list, adamw_accuracy_values_list, adamw_loss_values_list_val, adamw_accuracy_values_list_val = k_fold (EPOCHS, fold_datasets,optimizer_choice='AdamW')"
      ]
    },
    {
      "cell_type": "code",
      "execution_count": null,
      "metadata": {
        "id": "OLNIQLA5FAMj"
      },
      "outputs": [],
      "source": [
        "model.save_pretrained('/content/drive/MyDrive/datavis_project/models_valid/adamW')"
      ]
    },
    {
      "cell_type": "code",
      "execution_count": null,
      "metadata": {
        "id": "nHAtl1Zlm4Ch"
      },
      "outputs": [],
      "source": [
        "AdamW=dict()\n",
        "AdamW['labels']=adamw_labs\n",
        "AdamW['predictions']=adamw_preds\n",
        "AdamW['loss_values_list']= adamw_loss_values_list\n",
        "AdamW['accuracy_values_list']=adamw_accuracy_values_list\n",
        "AdamW['loss_values_list_val']=adamw_loss_values_list_val\n",
        "AdamW['accuracy_values_list_val']=adamw_accuracy_values_list_val"
      ]
    },
    {
      "cell_type": "code",
      "execution_count": null,
      "metadata": {
        "id": "h59pdvTQuYSU"
      },
      "outputs": [],
      "source": [
        "file_path = \"/content/drive/MyDrive/datavis_project/AdamW.json\"\n",
        "data_to_save = AdamW\n",
        "\n",
        "with open(file_path, 'w') as json_file:\n",
        "    json.dump(data_to_save, json_file)"
      ]
    },
    {
      "cell_type": "markdown",
      "metadata": {
        "id": "eSuraFKgBFrq"
      },
      "source": [
        "## <b> Ranger optimizer </b>\n",
        "\n",
        "Parameters for the Ranger optimizer were chosen according with the common practice in implementing it."
      ]
    },
    {
      "cell_type": "code",
      "execution_count": null,
      "metadata": {
        "id": "2x8ooYsQorPG"
      },
      "outputs": [],
      "source": [
        "%%capture\n",
        "!pip install pytorch-ranger"
      ]
    },
    {
      "cell_type": "code",
      "execution_count": null,
      "metadata": {
        "id": "ti-MJhXFotNJ"
      },
      "outputs": [],
      "source": [
        "from pytorch_ranger import Ranger # import module with ranger"
      ]
    },
    {
      "cell_type": "code",
      "execution_count": null,
      "metadata": {
        "id": "YFYOVEcgBFGS"
      },
      "outputs": [],
      "source": [
        "LEARNING_RATE_R = 1e-4\n",
        "k = 6\n",
        "WEIGHT_DECAY_R = 0.1"
      ]
    },
    {
      "cell_type": "code",
      "execution_count": null,
      "metadata": {
        "id": "y9atZlsDm2C-"
      },
      "outputs": [],
      "source": [
        "ranger_tr_acc, ranger_val_acc, ranger_labs, ranger_preds, ranger_loss_values_list, ranger_accuracy_values_list, ranger_loss_values_list_val, ranger_accuracy_values_list_val = k_fold (EPOCHS, fold_datasets,optimizer_choice='Ranger')"
      ]
    },
    {
      "cell_type": "code",
      "execution_count": null,
      "metadata": {
        "id": "ZQhovNgNFEhE"
      },
      "outputs": [],
      "source": [
        "model.save_pretrained('/content/drive/MyDrive/datavis_project/models_valid/ranger')"
      ]
    },
    {
      "cell_type": "code",
      "execution_count": null,
      "metadata": {
        "id": "tqTOyiM6m4t0"
      },
      "outputs": [],
      "source": [
        "Ranger=dict()\n",
        "Ranger['labels']=ranger_labs\n",
        "Ranger['predictions']=ranger_preds\n",
        "Ranger['loss_values_list']= ranger_loss_values_list\n",
        "Ranger['accuracy_values_list']=ranger_accuracy_values_list\n",
        "Ranger['loss_values_list_val']=ranger_loss_values_list_val\n",
        "Ranger['accuracy_values_list_val']=ranger_accuracy_values_list_val"
      ]
    },
    {
      "cell_type": "code",
      "execution_count": null,
      "metadata": {
        "id": "Zj3Lfl1NunxS"
      },
      "outputs": [],
      "source": [
        "file_path = \"/content/drive/MyDrive/datavis_project/Ranger.json\"\n",
        "data_to_save = Ranger\n",
        "# save results\n",
        "with open(file_path, 'w') as json_file:\n",
        "    json.dump(data_to_save, json_file)"
      ]
    },
    {
      "cell_type": "code",
      "source": [
        "Methods=dict()\n",
        "Methods['Adam']=Adam\n",
        "Methods['AdamW']=AdamW\n",
        "Methods['Ranger']=Ranger\n",
        "\n",
        "file_path = \"/content/drive/MyDrive/datavis_saved/first_run/Methods.json\"\n",
        "\n",
        "data_to_save = Methods\n",
        "# save results\n",
        "with open(file_path, 'w') as json_file:\n",
        "    json.dump(data_to_save, json_file)"
      ],
      "metadata": {
        "id": "wthme9qBnXi6"
      },
      "execution_count": null,
      "outputs": []
    },
    {
      "cell_type": "markdown",
      "source": [
        "### <b>Best optimizer obtained by cross validation results comparison</b>"
      ],
      "metadata": {
        "id": "hKHXJWM-krQn"
      }
    },
    {
      "cell_type": "code",
      "source": [
        "import json"
      ],
      "metadata": {
        "id": "sVxYmwYT9e3N"
      },
      "execution_count": null,
      "outputs": []
    },
    {
      "cell_type": "code",
      "source": [
        "file_path = \"/content/drive/MyDrive/ner_project/Methods.json\"\n",
        "\n",
        "# Read data from the JSON file\n",
        "with open(file_path, 'r') as json_file:\n",
        "    methods = json.load(json_file)"
      ],
      "metadata": {
        "id": "7NBZbbRhl-Lz"
      },
      "execution_count": null,
      "outputs": []
    },
    {
      "cell_type": "code",
      "source": [
        "%%capture\n",
        "!pip install dash"
      ],
      "metadata": {
        "id": "a-ds72BWokKf"
      },
      "execution_count": null,
      "outputs": []
    },
    {
      "cell_type": "code",
      "source": [
        "import plotly.figure_factory as ff\n",
        "from dash import dcc, html, Dash\n",
        "from dash.dependencies import Input, Output\n",
        "import plotly.graph_objects as go\n",
        "from plotly.subplots import make_subplots  # Import make_subplots\n",
        "import numpy as np\n",
        "from sklearn.metrics import confusion_matrix, classification_report\n",
        "import plotly.express as px\n",
        "import pandas as pd"
      ],
      "metadata": {
        "id": "BvCOaDMblFK8"
      },
      "execution_count": null,
      "outputs": []
    },
    {
      "cell_type": "code",
      "source": [
        "app = Dash(__name__)\n",
        "\n",
        "app.layout = html.Div(children=[\n",
        "    dcc.Dropdown(\n",
        "        id='dict-dropdown',\n",
        "        options=[\n",
        "            {'label': 'Adam', 'value': 'Adam'},\n",
        "            {'label': 'AdamW', 'value': 'AdamW'},\n",
        "            {'label': 'Ranger', 'value': 'Ranger'}\n",
        "        ],\n",
        "        value='Adam',\n",
        "        style={'width': '50%'}\n",
        "    ),\n",
        "    dcc.Graph(\n",
        "        id='loss-and-accuracy',\n",
        "        config={'displayModeBar': False}  # Hide tools bar to save space\n",
        "    ),\n",
        "    dcc.Graph(\n",
        "        id='comparison',\n",
        "    )\n",
        "])\n",
        "\n",
        "\n",
        "@app.callback(\n",
        "    [Output('loss-and-accuracy', 'figure'),\n",
        "     Output('comparison', 'figure')],\n",
        "    [Input('dict-dropdown', 'value')]\n",
        ")\n",
        "def update_graph(selected_dict):\n",
        "    fig_loss_and_accuracy = make_subplots(rows=2, cols=2, subplot_titles=['Loss', 'Zoomed Loss', 'Accuracy', 'Zoomed Accuracy'])\n",
        "\n",
        "    fold_labels_loss = [f'Fold {i + 1}' for i in range(len(methods[selected_dict]['loss_values_list_val']))]\n",
        "    fold_labels_acc = [f'Fold {i + 1}' for i in range(len(methods[selected_dict]['accuracy_values_list_val']))]\n",
        "\n",
        "    index_max = np.argmax([sequence[-1] for sequence in methods[selected_dict]['accuracy_values_list_val']])\n",
        "\n",
        "    # loss plot\n",
        "    for i, (sequence, label) in enumerate(zip(methods[selected_dict]['loss_values_list'], fold_labels_loss)):\n",
        "        color = 'lightgrey' if i != index_max else 'black'\n",
        "        fig_loss_and_accuracy.add_trace(go.Scatter(y=sequence, mode='lines+markers', marker=dict(color=color, size=0.2), name=label), row=1, col=1)\n",
        "\n",
        "    # zoomed Loss\n",
        "    for i, (sequence, label) in enumerate(zip(methods[selected_dict]['loss_values_list'], fold_labels_loss)):\n",
        "        color = 'lightgrey' if i != index_max else 'black'\n",
        "        fig_loss_and_accuracy.add_trace(go.Scatter(y=sequence[300:600], mode='lines+markers', marker=dict(color=color, size=0.2), name=label), row=1, col=2)\n",
        "\n",
        "    # accuracy plot\n",
        "    for i, (sequence, label) in enumerate(zip(methods[selected_dict]['accuracy_values_list'], fold_labels_acc)):\n",
        "        color = 'lightgrey' if i != index_max else 'black'\n",
        "        fig_loss_and_accuracy.add_trace(go.Scatter(y=sequence, mode='lines+markers', marker=dict(color=color, size=0.5), name=label), row=2, col=1)\n",
        "\n",
        "    # zoomed Accuracy\n",
        "    for i, (sequence, label) in enumerate(zip(methods[selected_dict]['accuracy_values_list'], fold_labels_acc)):\n",
        "        color = 'lightgrey' if i != index_max else 'black'\n",
        "        fig_loss_and_accuracy.add_trace(go.Scatter(y=sequence[300:600], mode='lines+markers', marker=dict(color=color, size=0.5), name=label), row=2, col=2)\n",
        "\n",
        "    fig_loss_and_accuracy.update_yaxes(range=[np.min(methods[selected_dict]['loss_values_list'][0][300:600]), np.max(methods[selected_dict]['loss_values_list'][0][300:600])], row=1, col=2)\n",
        "    fig_loss_and_accuracy.update_yaxes(range=[np.min(methods[selected_dict]['accuracy_values_list'][0][300:600]), np.max(methods[selected_dict]['accuracy_values_list'][0][300:600])], row=2, col=2)\n",
        "\n",
        "    fig_loss_and_accuracy.update_layout(\n",
        "        height=700,\n",
        "        width=1200,\n",
        "        showlegend=False,\n",
        "    )\n",
        "\n",
        "    val_folds = []\n",
        "    meths = ['Adam', 'AdamW', 'Ranger']\n",
        "    k = 0\n",
        "    averages = []\n",
        "\n",
        "    for j in meths:\n",
        "        val_folds.append([])\n",
        "        for i in range(5):\n",
        "            val_folds[k].append(methods[j]['accuracy_values_list_val'][i][-1])\n",
        "        avg_count = (sum(val_folds[k]) / 5)\n",
        "        averages.append(avg_count)\n",
        "        k += 1\n",
        "\n",
        "    data = pd.DataFrame(averages)\n",
        "    data.rename(index=dict(zip(range(len(meths)), meths)), inplace=True)\n",
        "    data.rename(columns={0: 'Averages'}, inplace=True)\n",
        "\n",
        "    fig = make_subplots(rows=1, cols=2, subplot_titles=['Averages of Accuracy for Different Methods', ''])\n",
        "\n",
        "    # plotting in the first subplot\n",
        "    trace = go.Scatter(x=data.index, y=data['Averages'], mode='markers+lines', marker=dict(color='blue'))\n",
        "    fig.add_trace(trace)\n",
        "\n",
        "    # highlight 'Ranger' with a red marker\n",
        "    red_index = data.index.get_loc(selected_dict)\n",
        "    trace_red = go.Scatter(x=[data.index[red_index]], y=[data['Averages'][red_index]],\n",
        "                          mode='markers', marker=dict(color='red', size=10))\n",
        "    fig.add_trace(trace_red)\n",
        "\n",
        "    # create a table in the second subplot\n",
        "    trace_table = go.Table(\n",
        "        header=dict(values=['Methods', 'Averages']),\n",
        "        cells=dict(values=[data.index, data['Averages']]),\n",
        "        domain=dict(x=[0.5, 1], y=[0, 1])\n",
        "    )\n",
        "\n",
        "    fig.add_trace(trace_table)\n",
        "\n",
        "    fig.update_layout(\n",
        "        showlegend=False,\n",
        "        height=400,\n",
        "        width=800,\n",
        "    )\n",
        "\n",
        "    return fig_loss_and_accuracy, fig\n",
        "\n",
        "\n",
        "if __name__ == '__main__':\n",
        "    app.run_server(debug=True, port=8051, mode='inline', dev_tools_ui=False, dev_tools_props_check=False)"
      ],
      "metadata": {
        "colab": {
          "base_uri": "https://localhost:8080/",
          "height": 671
        },
        "id": "vXZN302jiYCp",
        "outputId": "573abbb4-78af-4b5d-9f74-f09940b5a5fb"
      },
      "execution_count": null,
      "outputs": [
        {
          "output_type": "display_data",
          "data": {
            "text/plain": [
              "<IPython.core.display.Javascript object>"
            ],
            "application/javascript": [
              "(async (port, path, width, height, cache, element) => {\n",
              "    if (!google.colab.kernel.accessAllowed && !cache) {\n",
              "      return;\n",
              "    }\n",
              "    element.appendChild(document.createTextNode(''));\n",
              "    const url = await google.colab.kernel.proxyPort(port, {cache});\n",
              "    const iframe = document.createElement('iframe');\n",
              "    iframe.src = new URL(path, url).toString();\n",
              "    iframe.height = height;\n",
              "    iframe.width = width;\n",
              "    iframe.style.border = 0;\n",
              "    iframe.allow = [\n",
              "        'accelerometer',\n",
              "        'autoplay',\n",
              "        'camera',\n",
              "        'clipboard-read',\n",
              "        'clipboard-write',\n",
              "        'gyroscope',\n",
              "        'magnetometer',\n",
              "        'microphone',\n",
              "        'serial',\n",
              "        'usb',\n",
              "        'xr-spatial-tracking',\n",
              "    ].join('; ');\n",
              "    element.appendChild(iframe);\n",
              "  })(8051, \"/\", \"100%\", 650, false, window.element)"
            ]
          },
          "metadata": {}
        }
      ]
    },
    {
      "cell_type": "markdown",
      "source": [
        "In the plots above, the main metrics, the loss and the accuracy, estimated using k-fold cross validation, are demonstrated.  The three optimizers provided a noticeable improvement in the values of the loss function as well as the accuracy. The average accuracy between the 5 folds had the highest value for the Ranger optimizer, hence it was chosen to fit the model on the whole training dataset."
      ],
      "metadata": {
        "id": "zbP77yh-uEnq"
      }
    },
    {
      "cell_type": "markdown",
      "source": [
        "# <b>Model training and validation</b>"
      ],
      "metadata": {
        "id": "WVQUviRrcDaf"
      }
    },
    {
      "cell_type": "markdown",
      "source": [
        "We have determined that the Ranger optimizer provides the best fit for the data and that it generalises well. Now we train the model on the full training dataset, we perform the testing procedure on the test dataset, thus obtaining the predictions and the metrics for the model performance."
      ],
      "metadata": {
        "id": "wDI26w3dcoSX"
      }
    },
    {
      "cell_type": "code",
      "source": [
        "EPOCHS = 30"
      ],
      "metadata": {
        "id": "iFa_2Z1Vm6LV"
      },
      "execution_count": null,
      "outputs": []
    },
    {
      "cell_type": "code",
      "source": [
        "TEST_BATCH_SIZE = 8\n",
        "weights = False\n",
        "\n",
        "train_data=dataset(df_train_s, tokenizer, MAX_LEN)\n",
        "test_data=dataset(df_test_s, tokenizer, MAX_LEN)\n",
        "\n",
        "np.random.seed (42)\n",
        "training_loader = DataLoader(train_data, batch_size=TRAIN_BATCH_SIZE, shuffle=True)\n",
        "testing_loader = DataLoader(test_data, batch_size=TEST_BATCH_SIZE, shuffle=False)\n",
        "\n",
        "\n",
        "model = BertForTokenClassification.from_pretrained('bert-base-uncased',\n",
        "                                                   num_labels=len(id2label),\n",
        "                                                   id2label=id2label,\n",
        "                                                   label2id=label2id)\n",
        "optimizer = Ranger(model.parameters(), lr=LEARNING_RATE_R, k = k, weight_decay=WEIGHT_DECAY_R)\n",
        "\n",
        "\n",
        "loss_list1=[]\n",
        "accuracy_list1=[]\n",
        "for epoch in range(EPOCHS):\n",
        "    print(f\"Training epoch: {epoch + 1}\")\n",
        "    if weights==False:\n",
        "        tr_loss1, tr_acc1,  loss_values1, accuracy_values1 = train (epoch, model, optimizer, training_loader) # the values for the\n",
        "            # last epoch will be saved when exit the for loop\n",
        "        loss_list1.extend(loss_values)\n",
        "        accuracy_list1.extend(accuracy_values)\n",
        "    else:\n",
        "        tr_loss, tr_acc,  loss_values, accuracy_values = train (epoch, model, optimizer, training_loader, weights=True)\n",
        "        loss_list.extend(loss_values)\n",
        "        accuracy_list.extend(accuracy_values)\n",
        "# this gives me as result a list with all the values for accuracy and loss in all epochs"
      ],
      "metadata": {
        "id": "T4K2mSH0GKig"
      },
      "execution_count": null,
      "outputs": []
    },
    {
      "cell_type": "code",
      "source": [
        "TEST_BATCH_SIZE = 8\n",
        "weights = False\n",
        "\n",
        "train_data=dataset(df_train_s, tokenizer, MAX_LEN)\n",
        "test_data=dataset(df_test_s, tokenizer, MAX_LEN)\n",
        "\n",
        "np.random.seed (42)\n",
        "training_loader = DataLoader(train_data, batch_size=TRAIN_BATCH_SIZE, shuffle=True)\n",
        "testing_loader = DataLoader(test_data, batch_size=TEST_BATCH_SIZE, shuffle=False)\n",
        "\n",
        "\n",
        "model = BertForTokenClassification.from_pretrained('bert-base-uncased',\n",
        "                                                   num_labels=len(id2label),\n",
        "                                                   id2label=id2label,\n",
        "                                                   label2id=label2id)\n",
        "optimizer = Ranger(model.parameters(), lr=LEARNING_RATE_R, k = k, weight_decay=WEIGHT_DECAY_R)\n",
        "\n",
        "\n",
        "loss_list=[]\n",
        "accuracy_list=[]\n",
        "for epoch in range(EPOCHS):\n",
        "    print(f\"Training epoch: {epoch + 1}\")\n",
        "    if weights==False:\n",
        "        tr_loss, tr_acc,  loss_values, accuracy_values = train (epoch, model, optimizer, training_loader) # the values for the\n",
        "            # last epoch will be saved when exit the for loop\n",
        "        loss_list.extend(loss_values)\n",
        "        accuracy_list.extend(accuracy_values)\n",
        "    else:\n",
        "        tr_loss, tr_acc,  loss_values, accuracy_values = train (epoch, model, optimizer, training_loader, weights=True)\n",
        "        loss_list.extend(loss_values)\n",
        "        accuracy_list.extend(accuracy_values)\n",
        "# this gives me as result a list with all the values for accuracy and loss in all epochs"
      ],
      "metadata": {
        "id": "iN9Rdu3hcb25"
      },
      "execution_count": null,
      "outputs": []
    },
    {
      "cell_type": "code",
      "source": [
        "val_loss, val_acc, labels, predictions, loss_values_val, accuracy_values_val = valid(model, testing_loader, testing=True)"
      ],
      "metadata": {
        "id": "4D9j8WPJnsT5"
      },
      "execution_count": null,
      "outputs": []
    },
    {
      "cell_type": "code",
      "source": [
        "model.save_pretrained('/content/drive/MyDrive/datavis_project/models_valid/bert')"
      ],
      "metadata": {
        "id": "6j2ZueE6kLsu"
      },
      "execution_count": null,
      "outputs": []
    },
    {
      "cell_type": "code",
      "execution_count": null,
      "metadata": {
        "id": "r0DcXavniiOJ"
      },
      "outputs": [],
      "source": [
        "res_bert =dict()\n",
        "res_bert ['tr_loss'] = loss_list\n",
        "res_bert ['tr_acc'] = accuracy_list\n",
        "res_bert ['labels'] = labels\n",
        "res_bert['predictions'] = predictions\n",
        "res_bert['loss_values_val'] = loss_values_val\n",
        "res_bert['accuracy_values_val']=accuracy_values_val"
      ]
    },
    {
      "cell_type": "code",
      "execution_count": null,
      "metadata": {
        "id": "istllHZ4iiOM"
      },
      "outputs": [],
      "source": [
        "file_path = \"/content/drive/MyDrive/datavis_project/results_bert.json\"\n",
        "data_to_save = res_bert\n",
        "# save results\n",
        "with open(file_path, 'w') as json_file:\n",
        "    json.dump(data_to_save, json_file)"
      ]
    },
    {
      "cell_type": "markdown",
      "source": [
        "Below the results of the implementation of the pre-trained Bert."
      ],
      "metadata": {
        "id": "oWaz27n96KYh"
      }
    },
    {
      "cell_type": "markdown",
      "metadata": {
        "id": "26HIN4bPGBU4"
      },
      "source": [
        "# <b> Bert Metrics </b>"
      ]
    },
    {
      "cell_type": "code",
      "source": [
        "import plotly.figure_factory as ff\n",
        "from dash import dcc, html, Dash\n",
        "from dash.dependencies import Input, Output\n",
        "import plotly.graph_objects as go\n",
        "from plotly.subplots import make_subplots  # Import make_subplots\n",
        "import numpy as np\n",
        "from sklearn.metrics import confusion_matrix, classification_report\n",
        "import plotly.express as px\n",
        "import pandas as pd"
      ],
      "metadata": {
        "id": "BVCFl4BB65Se"
      },
      "execution_count": null,
      "outputs": []
    },
    {
      "cell_type": "code",
      "source": [
        "file_path = \"/content/drive/MyDrive/ner_project/results_bert.json\"\n",
        "\n",
        "# Read data from the JSON file\n",
        "with open(file_path, 'r') as json_file:\n",
        "    Bert = json.load(json_file)"
      ],
      "metadata": {
        "id": "ZWFf9Kpl_YT7"
      },
      "execution_count": null,
      "outputs": []
    },
    {
      "cell_type": "code",
      "source": [
        "methods = dict ()\n",
        "methods ['Bert'] = Bert"
      ],
      "metadata": {
        "id": "OnymoLNmBP7h"
      },
      "execution_count": null,
      "outputs": []
    },
    {
      "cell_type": "code",
      "source": [
        "import plotly.figure_factory as ff\n",
        "from dash import dcc, html, Dash, Input, Output\n",
        "import plotly.graph_objects as go\n",
        "from plotly.subplots import make_subplots\n",
        "import numpy as np\n",
        "from sklearn.metrics import confusion_matrix, classification_report\n",
        "import plotly.express as px\n",
        "import pandas as pd\n",
        "\n",
        "app = Dash(__name__)\n",
        "\n",
        "app.layout = html.Div(children=[\n",
        "    dcc.Graph(\n",
        "        id='selected-graph-1',\n",
        "    ),\n",
        "    dcc.Graph(\n",
        "        id='selected-graph-2',\n",
        "    ),\n",
        "    dcc.Graph(\n",
        "        id='confusion-matrix',\n",
        "    ),\n",
        "    dcc.Graph(\n",
        "        id='classification-report',\n",
        "    ),\n",
        "    dcc.Graph(\n",
        "        id='precision-recall',\n",
        "    )\n",
        "])\n",
        "\n",
        "selected_dict = 'Bert'\n",
        "@app.callback(\n",
        "    [Output('selected-graph-1', 'figure'),\n",
        "     Output('selected-graph-2', 'figure'),\n",
        "     Output('confusion-matrix', 'figure'),\n",
        "     Output('classification-report', 'figure'),\n",
        "     Output('precision-recall', 'figure')],\n",
        "    [Input('selected-graph-1', 'id')]  # placeholder input since we don't have dropdown now\n",
        ")\n",
        "def update_graph(_):\n",
        "    fig1 = go.Figure()\n",
        "    fig2 = go.Figure()\n",
        "\n",
        "    fig1.add_trace(go.Scatter(y=methods[selected_dict]['loss_values_val'], mode='lines+markers', line=dict(color='black')))\n",
        "    fig2.add_trace(go.Scatter(y=methods[selected_dict]['accuracy_values_val'], mode='lines+markers', line=dict(color='black')))\n",
        "\n",
        "    fig1.update_layout(\n",
        "        title='Loss',\n",
        "        xaxis=dict(title='Index'),\n",
        "        yaxis=dict(title='Values')\n",
        "    )\n",
        "\n",
        "    fig2.update_layout(\n",
        "        title='Accuracy',\n",
        "        xaxis=dict(title='Index'),\n",
        "        yaxis=dict(title='Values')\n",
        "    )\n",
        "\n",
        "    # confusion matrix using the selected fold's predictions and labels\n",
        "    labels_fold = methods[selected_dict]['labels']\n",
        "    predictions_fold = methods[selected_dict]['predictions']\n",
        "    cm = confusion_matrix(labels_fold, predictions_fold, normalize=\"true\")\n",
        "    class_report = classification_report(labels_fold, predictions_fold, output_dict=True)\n",
        "\n",
        "    # annotated heatmap\n",
        "    layout = dict(\n",
        "        title=\"Normalized Confusion Matrix\",\n",
        "        xaxis=dict(title='True'),\n",
        "        yaxis=dict(title='Predicted', autorange='reversed'),\n",
        "        margin=dict(l=50, r=50, t=150, b=10)\n",
        "    )\n",
        "    fig_cm = ff.create_annotated_heatmap(z=np.round(cm, 2), x=sorted(set(labels_fold)),\n",
        "                                         y=sorted(set(labels_fold)), colorscale='Blues')\n",
        "    fig_cm.update_layout(layout)\n",
        "\n",
        "    # classification report heatmap\n",
        "\n",
        "    df = pd.DataFrame(class_report).T\n",
        "    df_majority = df.iloc[:-3]\n",
        "    df_last_three = df.iloc[-3:]\n",
        "\n",
        "    fig_classification_report = make_subplots(rows=2, cols=1,\n",
        "                                              subplot_titles=['Precision, Recall, and F1-Score Across Classes', ''],\n",
        "                                              shared_xaxes=True, vertical_spacing=0.1, row_heights=[0.9, 0.15])\n",
        "\n",
        "    heatmap_majority = px.imshow(\n",
        "        df_majority[['precision', 'recall', 'f1-score']],\n",
        "        x=['precision', 'recall', 'f1-score'],\n",
        "        y=df_majority.index,\n",
        "        title='',\n",
        "        text_auto=True,\n",
        "        color_continuous_scale='ice'\n",
        "    )\n",
        "    fig_classification_report.add_trace(heatmap_majority.data[0], row=1, col=1)\n",
        "\n",
        "    heatmap_last_three = px.imshow(\n",
        "        df_last_three[['precision', 'recall', 'f1-score']],\n",
        "        x=['precision', 'recall', 'f1-score'],\n",
        "        y=df_last_three.index,\n",
        "        labels=dict(color=''),\n",
        "        title='',\n",
        "        text_auto=True,\n",
        "        color_continuous_scale='Viridis'\n",
        "    )\n",
        "    fig_classification_report.add_trace(heatmap_last_three.data[0], row=2, col=1)\n",
        "\n",
        "    fig_classification_report.update_layout(height=850, width=900, showlegend=False)\n",
        "\n",
        "    conf_matrix = confusion_matrix(labels_fold, predictions_fold)\n",
        "\n",
        "    unique_labels = sorted(set(labels_fold))\n",
        "\n",
        "    true_positive_counts_recall = []\n",
        "    false_negative_counts = []\n",
        "\n",
        "    for i, label_row in enumerate(conf_matrix):\n",
        "        if unique_labels[i] == 'O':\n",
        "            continue  # Skip the class 'O'\n",
        "\n",
        "        true_positive = label_row[i]\n",
        "        false_negative = sum(label_row) - true_positive\n",
        "\n",
        "        true_positive_counts_recall.append(true_positive)\n",
        "        false_negative_counts.append(false_negative)\n",
        "\n",
        "    true_positive_counts_precision = []\n",
        "    false_positive_counts = []\n",
        "\n",
        "    for i, label_row in enumerate(conf_matrix):\n",
        "        if unique_labels[i] == 'O':\n",
        "            continue  # Skip the class 'O'\n",
        "\n",
        "        true_positive = label_row[i]\n",
        "        false_positive = sum(conf_matrix[:, i]) - true_positive\n",
        "\n",
        "        true_positive_counts_precision.append(true_positive)\n",
        "        false_positive_counts.append(false_positive)\n",
        "\n",
        "    fig = make_subplots(rows=1, cols=2, subplot_titles=['Recall', 'Precision'], shared_yaxes=True)\n",
        "\n",
        "    fig.add_trace(go.Bar(x=[f\"{label}\" for label in unique_labels if label != 'O'],\n",
        "                        y=true_positive_counts_recall,\n",
        "                        name='True Positive',\n",
        "                        marker=dict(color='darkblue')),\n",
        "                  row=1, col=1)\n",
        "    fig.add_trace(go.Bar(x=[f\"{label}\" for label in unique_labels if label != 'O'],\n",
        "                        y=false_negative_counts,\n",
        "                        name='False Negative',\n",
        "                        marker=dict(color='darkgreen')),\n",
        "                  row=1, col=1)\n",
        "\n",
        "    fig.add_trace(go.Bar(x=[f\"{label}\" for label in unique_labels if label != 'O'],\n",
        "                        y=true_positive_counts_precision,\n",
        "                        name='True Positive',\n",
        "                        marker=dict(color='darkblue')),\n",
        "                  row=1, col=2)\n",
        "    fig.add_trace(go.Bar(x=[f\"{label}\" for label in unique_labels if label != 'O'],\n",
        "                        y=false_positive_counts,\n",
        "                        name='False Positive',\n",
        "                        marker=dict(color='darkred')),\n",
        "                  row=1, col=2)\n",
        "\n",
        "    fig.update_layout(title_text='Recall and Precision',\n",
        "                      xaxis_title='',\n",
        "                      yaxis_title='Count',\n",
        "                      barmode='stack')\n",
        "\n",
        "    fig.update_layout(legend=dict(traceorder='reversed'))  # reverse the order of legend items\n",
        "\n",
        "    fig.update_traces(showlegend=False, selector=dict(name='True Positive'), row=1, col=2)\n",
        "\n",
        "    return fig1, fig2, fig_cm, fig_classification_report, fig\n",
        "\n",
        "if __name__ == '__main__':\n",
        "    app.run_server(debug=True, port=8007)\n"
      ],
      "metadata": {
        "colab": {
          "base_uri": "https://localhost:8080/",
          "height": 671
        },
        "id": "gAS_RM7KBPKi",
        "outputId": "b97e6b46-9f4d-4b71-8cf9-b40335d4257e"
      },
      "execution_count": null,
      "outputs": [
        {
          "output_type": "display_data",
          "data": {
            "text/plain": [
              "<IPython.core.display.Javascript object>"
            ],
            "application/javascript": [
              "(async (port, path, width, height, cache, element) => {\n",
              "    if (!google.colab.kernel.accessAllowed && !cache) {\n",
              "      return;\n",
              "    }\n",
              "    element.appendChild(document.createTextNode(''));\n",
              "    const url = await google.colab.kernel.proxyPort(port, {cache});\n",
              "    const iframe = document.createElement('iframe');\n",
              "    iframe.src = new URL(path, url).toString();\n",
              "    iframe.height = height;\n",
              "    iframe.width = width;\n",
              "    iframe.style.border = 0;\n",
              "    iframe.allow = [\n",
              "        'accelerometer',\n",
              "        'autoplay',\n",
              "        'camera',\n",
              "        'clipboard-read',\n",
              "        'clipboard-write',\n",
              "        'gyroscope',\n",
              "        'magnetometer',\n",
              "        'microphone',\n",
              "        'serial',\n",
              "        'usb',\n",
              "        'xr-spatial-tracking',\n",
              "    ].join('; ');\n",
              "    element.appendChild(iframe);\n",
              "  })(8007, \"/\", \"100%\", 650, false, window.element)"
            ]
          },
          "metadata": {}
        }
      ]
    },
    {
      "cell_type": "markdown",
      "source": [
        "The BERT model has demonstrated remarkable efficacy in Named Entity Recognition tasks, boasting superior performance metrics such as precision, recall, and F1-score. Its sophisticated architecture, incorporating bidirectional attention mechanisms and contextual embeddings, enables BERT to effectively capture intricate relationships between words, leading to more accurate identification of named entities within the text.\n",
        "\n"
      ],
      "metadata": {
        "id": "L7tplwzLPWLH"
      }
    },
    {
      "cell_type": "markdown",
      "source": [
        "# References\n",
        "<ol type = \"1\">\n",
        "  <li> Aggarwal, Charu C, Lagerstrom-Fife Aggarwal, and Lagerstrom-Fife. 2020. Linear Algebra and Optimization for Machine Learning. Vol. 156. Springer. </li>\n",
        "  <li>Ba, Jimmy Lei, Jamie Ryan Kiros, and Geoffrey E Hinton. 2016. “Layer Normalization.” arXiv Preprint arXiv:1607.06450.</li>\n",
        "  <li> Dai, Xiang, and Heike Adel. 2020. “An Analysis of Simple Data Augmentation for Named Entity Recognition.” arXiv Preprint arXiv:2010.11683.</li>\n",
        "  <li>Devlin, Jacob, Ming-Wei Chang, Kenton Lee, and Kristina Toutanova. 2018. “Bert: Pre-Training of Deep Bidirectional Transformers for Language Understanding.” arXiv Preprint arXiv:1810.04805.</li>\n",
        "  <li>Heaton, Jeff. 2018. “Ian Goodfellow, Yoshua Bengio, and Aaron Courville: Deep Learning: The MIT Press, 2016, 800 Pp, ISBN: 0262035618.” Genetic Programming and Evolvable Machines 19 (1-2): 305–7.</li>\n",
        "  <li>Hendrycks, Dan, and Kevin Gimpel. 2016. “Gaussian Error Linear Units (Gelus).” arXiv Preprint arXiv:1606.08415.</li>\n",
        "  <li>James, Gareth, Daniela Witten, Trevor Hastie, Robert Tibshirani, et al. 2013. An Introduction to Statistical Learning. Vol. 112. Springer.</li>\n",
        "  <li>Loshchilov, Ilya, and Frank Hutter. 2017. “Decoupled Weight Decay Regularization.” arXiv Preprint arXiv:1711.05101.</li>\n",
        "  <li>Sridhar, Sharath Nittur, and Anthony Sarah. 2023. “Undivided Attention: Are Intermediate Layers Necessary for BERT?” https://arxiv.org/abs/2012.11881.</li>\n",
        "  <li>Sutskever, Ilya, Oriol Vinyals, and Quoc V. Le. 2014. “Sequence to Sequence Learning with Neural Networks.” https://arxiv.org/abs/1409.3215.</li>\n",
        "  <li>Vaswani, Ashish, Noam Shazeer, Niki Parmar, Jakob Uszkoreit, Llion Jones, Aidan N Gomez, Łukasz Kaiser, and Illia Polosukhin. 2017. “Attention Is All You Need.” Advances in Neural Information Processing Systems 30.</li>\n",
        "  <li>Wu, Yonghui, Mike Schuster, Zhifeng Chen, Quoc V Le, Mohammad Norouzi, Wolfgang Macherey, Maxim Krikun, et al. 2016. “Google’s Neural Machine Translation System: Bridging the Gap Between Human and Machine Translation.” arXiv Preprint arXiv:1609.08144.</li>\n",
        "  </li>iZeldes, Amir. 2017. “The GUM Corpus: Creating Multilayer Resources in the Classroom.” Language Resources and Evaluation 51 (3): 581–612.</li>\n",
        "  <li>Zhang, Michael, James Lucas, Jimmy Ba, and Geoffrey E Hinton. 2019. “Lookahead Optimizer: K Steps Forward, 1 Step Back.” Advances in Neural Information Processing Systems 32.</li>\n",
        "</ol>"
      ],
      "metadata": {
        "id": "ydy1ltvB409s"
      }
    }
  ],
  "metadata": {
    "colab": {
      "provenance": [],
      "gpuType": "T4"
    },
    "kernelspec": {
      "display_name": "Python 3",
      "name": "python3"
    },
    "language_info": {
      "name": "python"
    },
    "accelerator": "GPU"
  },
  "nbformat": 4,
  "nbformat_minor": 0
}