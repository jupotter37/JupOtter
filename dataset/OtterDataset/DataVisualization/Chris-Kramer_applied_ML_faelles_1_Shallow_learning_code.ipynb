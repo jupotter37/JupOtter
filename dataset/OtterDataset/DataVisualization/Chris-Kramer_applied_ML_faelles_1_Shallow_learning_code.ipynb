{
 "cells": [
  {
   "attachments": {},
   "cell_type": "markdown",
   "metadata": {},
   "source": [
    "# Question 1. Non-deep learning methods"
   ]
  },
  {
   "attachments": {},
   "cell_type": "markdown",
   "metadata": {},
   "source": [
    "### Load libraries"
   ]
  },
  {
   "cell_type": "code",
   "execution_count": 1,
   "metadata": {},
   "outputs": [
    {
     "name": "stderr",
     "output_type": "stream",
     "text": [
      "c:\\Users\\andly\\.conda\\envs\\venv\\lib\\site-packages\\tqdm\\auto.py:22: TqdmWarning: IProgress not found. Please update jupyter and ipywidgets. See https://ipywidgets.readthedocs.io/en/stable/user_install.html\n",
      "  from .autonotebook import tqdm as notebook_tqdm\n"
     ]
    },
    {
     "name": "stdout",
     "output_type": "stream",
     "text": [
      "Num GPUs Available:  1\n"
     ]
    }
   ],
   "source": [
    "# ----- LOADING LIBRARIES -----\n",
    "import numpy as np\n",
    "from numpy import mean, std\n",
    "import pandas as pd\n",
    "\n",
    "from sklearn.metrics import accuracy_score, make_scorer, classification_report, confusion_matrix, precision_score, recall_score, f1_score, ConfusionMatrixDisplay\n",
    "from sklearn.metrics import mean_squared_error as MSE\n",
    "\n",
    "from sklearn import svm\n",
    "from sklearn.svm import SVC # for Support Vector Classification model\n",
    "from lightgbm import LGBMClassifier\n",
    "\n",
    "from sklearn.ensemble import RandomForestClassifier\n",
    "\n",
    "from xgboost import XGBRegressor, XGBClassifier\n",
    "from sklearn.model_selection import GridSearchCV, RandomizedSearchCV\n",
    "\n",
    "from sklearn.preprocessing import StandardScaler\n",
    "from sklearn.model_selection import cross_val_score\n",
    "\n",
    "\n",
    "import plotly.express as px  # for data visualization\n",
    "import plotly.graph_objects as go # for data visualization\n",
    "from utils import plot_hist\n",
    "\n",
    "import matplotlib.pyplot as plt\n",
    "import seaborn as sns\n",
    "\n",
    "# Tensorflow\n",
    "import tensorflow as tf\n",
    "print(\"Num GPUs Available: \", len(tf.config.experimental.list_physical_devices('GPU')))\n",
    "\n",
    "import tensorflow_datasets as tfds"
   ]
  },
  {
   "attachments": {},
   "cell_type": "markdown",
   "metadata": {},
   "source": [
    "### Provided function for converting samples"
   ]
  },
  {
   "cell_type": "code",
   "execution_count": 5,
   "metadata": {},
   "outputs": [],
   "source": [
    "# ----- FUNCTION FOR CONVERTING IMAGES -----\n",
    "def convert_sample(image):\n",
    "    image = tf.image.rgb_to_grayscale(image)\n",
    "    image = tf.image.resize(image,[32,32]).numpy()\n",
    "    image = image.reshape(1,-1)\n",
    "    return image\n",
    "    24"
   ]
  },
  {
   "attachments": {},
   "cell_type": "markdown",
   "metadata": {},
   "source": [
    "### Setting data directory"
   ]
  },
  {
   "cell_type": "code",
   "execution_count": 6,
   "metadata": {},
   "outputs": [
    {
     "name": "stdout",
     "output_type": "stream",
     "text": [
      "Current data dir C:\\Users\\andly\n"
     ]
    }
   ],
   "source": [
    "# ----- Data directory -----\n",
    "data_dir = r'C:\\Users\\andly'\n",
    "print('Current data dir '+data_dir)"
   ]
  },
  {
   "attachments": {},
   "cell_type": "markdown",
   "metadata": {},
   "source": [
    "### Load the dataset"
   ]
  },
  {
   "cell_type": "code",
   "execution_count": 7,
   "metadata": {},
   "outputs": [
    {
     "name": "stdout",
     "output_type": "stream",
     "text": [
      "Done Loading Data\n"
     ]
    }
   ],
   "source": [
    "# ----- LOADING DATASET -----\n",
    "tf.random.set_seed(88)\n",
    "ds1,ds2,ds3 = tfds.load('patch_camelyon',\n",
    "                    split=['train[:5%]','test[:5%]','validation[:5%]'],\n",
    "                    data_dir = data_dir,\n",
    "                    download=False,\n",
    "                    batch_size=-1, # All data...no batches needed \n",
    "                    as_supervised=True, # So that we easily can transform data to numpy format\n",
    "                    shuffle_files=True)\n",
    "print('Done Loading Data')"
   ]
  },
  {
   "attachments": {},
   "cell_type": "markdown",
   "metadata": {},
   "source": [
    "### Split the data into train, test and validation. Scale the data and create labels."
   ]
  },
  {
   "cell_type": "code",
   "execution_count": 8,
   "metadata": {},
   "outputs": [
    {
     "name": "stderr",
     "output_type": "stream",
     "text": [
      "c:\\Users\\andly\\.conda\\envs\\venv\\lib\\site-packages\\sklearn\\utils\\_param_validation.py:541: FutureWarning: Passing an int for a boolean parameter is deprecated in version 1.2 and won't be supported anymore in version 1.4.\n",
      "  warnings.warn(\n"
     ]
    },
    {
     "name": "stdout",
     "output_type": "stream",
     "text": [
      "Shape of training data features (observations,features): (13107, 1024)\n",
      "Shape of training data labels (observations,): (13107,)\n"
     ]
    },
    {
     "name": "stderr",
     "output_type": "stream",
     "text": [
      "c:\\Users\\andly\\.conda\\envs\\venv\\lib\\site-packages\\sklearn\\utils\\_param_validation.py:541: FutureWarning: Passing an int for a boolean parameter is deprecated in version 1.2 and won't be supported anymore in version 1.4.\n",
      "  warnings.warn(\n"
     ]
    },
    {
     "name": "stdout",
     "output_type": "stream",
     "text": [
      "Done spliting data\n"
     ]
    },
    {
     "name": "stderr",
     "output_type": "stream",
     "text": [
      "c:\\Users\\andly\\.conda\\envs\\venv\\lib\\site-packages\\sklearn\\utils\\_param_validation.py:541: FutureWarning: Passing an int for a boolean parameter is deprecated in version 1.2 and won't be supported anymore in version 1.4.\n",
      "  warnings.warn(\n"
     ]
    }
   ],
   "source": [
    "# ----- DATA SPLITTING ------\n",
    "train_dataset = tfds.as_numpy(ds1) # FULL DATA\n",
    "train_dataset_image = np.vstack(list(map(convert_sample,train_dataset[0]))) # <-- This is the X\n",
    "train_dataset_image_Scaled = StandardScaler(with_mean=0, with_std=1).fit_transform(train_dataset_image)\n",
    "train_dataset_label = train_dataset[1].reshape(-1,) # <-- This is y   \n",
    "print(f'Shape of training data features (observations,features): {train_dataset_image_Scaled.shape}')\n",
    "print(f'Shape of training data labels (observations,): {train_dataset_label.shape}')\n",
    "\n",
    "validation_dataset = tfds.as_numpy(ds3)\n",
    "validation_dataset_image = np.vstack(list(map(convert_sample,validation_dataset[0])))\n",
    "validation_dataset_image_Scaled = StandardScaler(with_mean=0, with_std=1).fit_transform(validation_dataset_image)\n",
    "validation_dataset_label = validation_dataset[1].reshape(-1,) \n",
    "\n",
    "test_dataset = tfds.as_numpy(ds2)\n",
    "test_dataset_image = np.vstack(list(map(convert_sample,test_dataset[0]))) # <-- X_test\n",
    "test_dataset_image_Scaled = StandardScaler(with_mean=0, with_std=1).fit_transform(test_dataset_image)\n",
    "test_dataset_label = test_dataset[1].reshape(-1,)\n",
    "print(\"Done spliting data\")"
   ]
  },
  {
   "attachments": {},
   "cell_type": "markdown",
   "metadata": {},
   "source": [
    "## SVM"
   ]
  },
  {
   "attachments": {},
   "cell_type": "markdown",
   "metadata": {},
   "source": [
    "#### Seeing how the distribution is between the two classes"
   ]
  },
  {
   "cell_type": "code",
   "execution_count": null,
   "metadata": {},
   "outputs": [
    {
     "name": "stdout",
     "output_type": "stream",
     "text": [
      "[[   0 6563]\n",
      " [   1 6544]]\n",
      "[[  0 814]\n",
      " [  1 824]]\n"
     ]
    }
   ],
   "source": [
    "# How many labels are there\n",
    "unique_train, counts_train = np.unique(train_dataset_label, return_counts = True)\n",
    "print(np.asarray((unique_train, counts_train)).T)\n",
    "\n",
    "# How many labels are there\n",
    "unique_test, counts_test = np.unique(validation_dataset_label, return_counts = True)\n",
    "print(np.asarray((unique_test, counts_test)).T)"
   ]
  },
  {
   "attachments": {},
   "cell_type": "markdown",
   "metadata": {},
   "source": [
    "#### Initiating SVM classifier, with RBF kernel, and predicting"
   ]
  },
  {
   "cell_type": "code",
   "execution_count": null,
   "metadata": {},
   "outputs": [],
   "source": [
    "from sklearn import svm\n",
    "from sklearn.svm import SVC # for Support Vector Classification model\n",
    "svm = svm.SVC(kernel='rbf')\n",
    "svm.fit(train_dataset_image_Scaled, train_dataset_label)\n",
    "\n"
   ]
  },
  {
   "attachments": {},
   "cell_type": "markdown",
   "metadata": {},
   "source": [
    "#### Confusion matrix for validation dataset"
   ]
  },
  {
   "cell_type": "code",
   "execution_count": null,
   "metadata": {},
   "outputs": [
    {
     "data": {
      "image/png": "[encoded data removed]",
      "text/plain": [
       "<Figure size 640x480 with 2 Axes>"
      ]
     },
     "metadata": {},
     "output_type": "display_data"
    },
    {
     "data": {
      "text/plain": [
       "73.5"
      ]
     },
     "metadata": {},
     "output_type": "display_data"
    }
   ],
   "source": [
    "val_pred_svm = svm.predict(validation_dataset_image_Scaled)\n",
    "cm_svm = confusion_matrix(validation_dataset_label, val_pred_svm)\n",
    "disp_svm = ConfusionMatrixDisplay(cm_svm)\n",
    "ac_score_svm = accuracy_score(validation_dataset_label, val_pred_svm)\n",
    "disp_svm.plot()\n",
    "plt.show()\n",
    "round(ac_score_svm * 100, 2)\n",
    "\n",
    "\n"
   ]
  },
  {
   "attachments": {},
   "cell_type": "markdown",
   "metadata": {},
   "source": [
    "#### Confusion matrix for test dataset"
   ]
  },
  {
   "cell_type": "code",
   "execution_count": null,
   "metadata": {},
   "outputs": [],
   "source": [
    "test_pred_svm = svm.predict(test_dataset_image_Scaled)\n",
    "cm_svm = confusion_matrix(test_dataset_label, test_pred_svm)\n",
    "disp_svm = ConfusionMatrixDisplay(cm_svm)\n",
    "ac_score_svm = accuracy_score(test_dataset_label, test_pred_svm)\n",
    "disp_svm.plot()\n",
    "plt.show()\n",
    "round(ac_score_svm * 100, 2)"
   ]
  },
  {
   "attachments": {},
   "cell_type": "markdown",
   "metadata": {},
   "source": [
    "### Finding an optimization for SVM through random gridsearch"
   ]
  },
  {
   "cell_type": "code",
   "execution_count": null,
   "metadata": {},
   "outputs": [],
   "source": [
    "svm = svm.SVC()\n",
    "svm_params = {'C':[.1, .4, 1], 'kernel':['rbf']}\n",
    "svm_optimization = GridSearchCV(svm, svm_params, cv=5, verbose=4)"
   ]
  },
  {
   "attachments": {},
   "cell_type": "markdown",
   "metadata": {},
   "source": [
    "#### Fitting the SVM grid search"
   ]
  },
  {
   "cell_type": "code",
   "execution_count": null,
   "metadata": {},
   "outputs": [
    {
     "name": "stdout",
     "output_type": "stream",
     "text": [
      "Fitting 5 folds for each of 3 candidates, totalling 15 fits\n",
      "[CV 1/5] END .................C=0.1, kernel=rbf;, score=0.762 total time= 1.9min\n",
      "[CV 2/5] END .................C=0.1, kernel=rbf;, score=0.765 total time= 1.6min\n",
      "[CV 3/5] END .................C=0.1, kernel=rbf;, score=0.773 total time= 1.5min\n",
      "[CV 4/5] END .................C=0.1, kernel=rbf;, score=0.758 total time= 1.4min\n",
      "[CV 5/5] END .................C=0.1, kernel=rbf;, score=0.752 total time= 1.4min\n",
      "[CV 1/5] END .................C=0.4, kernel=rbf;, score=0.768 total time= 1.4min\n",
      "[CV 2/5] END .................C=0.4, kernel=rbf;, score=0.764 total time= 1.4min\n",
      "[CV 3/5] END .................C=0.4, kernel=rbf;, score=0.775 total time= 1.9min\n",
      "[CV 4/5] END .................C=0.4, kernel=rbf;, score=0.763 total time= 1.8min\n",
      "[CV 5/5] END .................C=0.4, kernel=rbf;, score=0.763 total time= 1.9min\n",
      "[CV 1/5] END ...................C=1, kernel=rbf;, score=0.772 total time= 1.8min\n",
      "[CV 2/5] END ...................C=1, kernel=rbf;, score=0.759 total time= 1.4min\n",
      "[CV 3/5] END ...................C=1, kernel=rbf;, score=0.774 total time= 1.5min\n",
      "[CV 4/5] END ...................C=1, kernel=rbf;, score=0.765 total time= 1.4min\n",
      "[CV 5/5] END ...................C=1, kernel=rbf;, score=0.758 total time= 1.5min\n"
     ]
    },
    {
     "data": {
      "text/html": [
       "<style>#sk-container-id-2 {color: black;background-color: white;}#sk-container-id-2 pre{padding: 0;}#sk-container-id-2 div.sk-toggleable {background-color: white;}#sk-container-id-2 label.sk-toggleable__label {cursor: pointer;display: block;width: 100%;margin-bottom: 0;padding: 0.3em;box-sizing: border-box;text-align: center;}#sk-container-id-2 label.sk-toggleable__label-arrow:before {content: \"▸\";float: left;margin-right: 0.25em;color: #696969;}#sk-container-id-2 label.sk-toggleable__label-arrow:hover:before {color: black;}#sk-container-id-2 div.sk-estimator:hover label.sk-toggleable__label-arrow:before {color: black;}#sk-container-id-2 div.sk-toggleable__content {max-height: 0;max-width: 0;overflow: hidden;text-align: left;background-color: #f0f8ff;}#sk-container-id-2 div.sk-toggleable__content pre {margin: 0.2em;color: black;border-radius: 0.25em;background-color: #f0f8ff;}#sk-container-id-2 input.sk-toggleable__control:checked~div.sk-toggleable__content {max-height: 200px;max-width: 100%;overflow: auto;}#sk-container-id-2 input.sk-toggleable__control:checked~label.sk-toggleable__label-arrow:before {content: \"▾\";}#sk-container-id-2 div.sk-estimator input.sk-toggleable__control:checked~label.sk-toggleable__label {background-color: #d4ebff;}#sk-container-id-2 div.sk-label input.sk-toggleable__control:checked~label.sk-toggleable__label {background-color: #d4ebff;}#sk-container-id-2 input.sk-hidden--visually {border: 0;clip: rect(1px 1px 1px 1px);clip: rect(1px, 1px, 1px, 1px);height: 1px;margin: -1px;overflow: hidden;padding: 0;position: absolute;width: 1px;}#sk-container-id-2 div.sk-estimator {font-family: monospace;background-color: #f0f8ff;border: 1px dotted black;border-radius: 0.25em;box-sizing: border-box;margin-bottom: 0.5em;}#sk-container-id-2 div.sk-estimator:hover {background-color: #d4ebff;}#sk-container-id-2 div.sk-parallel-item::after {content: \"\";width: 100%;border-bottom: 1px solid gray;flex-grow: 1;}#sk-container-id-2 div.sk-label:hover label.sk-toggleable__label {background-color: #d4ebff;}#sk-container-id-2 div.sk-serial::before {content: \"\";position: absolute;border-left: 1px solid gray;box-sizing: border-box;top: 0;bottom: 0;left: 50%;z-index: 0;}#sk-container-id-2 div.sk-serial {display: flex;flex-direction: column;align-items: center;background-color: white;padding-right: 0.2em;padding-left: 0.2em;position: relative;}#sk-container-id-2 div.sk-item {position: relative;z-index: 1;}#sk-container-id-2 div.sk-parallel {display: flex;align-items: stretch;justify-content: center;background-color: white;position: relative;}#sk-container-id-2 div.sk-item::before, #sk-container-id-2 div.sk-parallel-item::before {content: \"\";position: absolute;border-left: 1px solid gray;box-sizing: border-box;top: 0;bottom: 0;left: 50%;z-index: -1;}#sk-container-id-2 div.sk-parallel-item {display: flex;flex-direction: column;z-index: 1;position: relative;background-color: white;}#sk-container-id-2 div.sk-parallel-item:first-child::after {align-self: flex-end;width: 50%;}#sk-container-id-2 div.sk-parallel-item:last-child::after {align-self: flex-start;width: 50%;}#sk-container-id-2 div.sk-parallel-item:only-child::after {width: 0;}#sk-container-id-2 div.sk-dashed-wrapped {border: 1px dashed gray;margin: 0 0.4em 0.5em 0.4em;box-sizing: border-box;padding-bottom: 0.4em;background-color: white;}#sk-container-id-2 div.sk-label label {font-family: monospace;font-weight: bold;display: inline-block;line-height: 1.2em;}#sk-container-id-2 div.sk-label-container {text-align: center;}#sk-container-id-2 div.sk-container {/* jupyter's `normalize.less` sets `[hidden] { display: none; }` but bootstrap.min.css set `[hidden] { display: none !important; }` so we also need the `!important` here to be able to override the default hidden behavior on the sphinx rendered scikit-learn.org. See: https://github.com/scikit-learn/scikit-learn/issues/21755 */display: inline-block !important;position: relative;}#sk-container-id-2 div.sk-text-repr-fallback {display: none;}</style><div id=\"sk-container-id-2\" class=\"sk-top-container\"><div class=\"sk-text-repr-fallback\"><pre>GridSearchCV(cv=5, estimator=SVC(),\n",
       "             param_grid={&#x27;C&#x27;: [0.1, 0.4, 1], &#x27;kernel&#x27;: [&#x27;rbf&#x27;]}, verbose=4)</pre><b>In a Jupyter environment, please rerun this cell to show the HTML representation or trust the notebook. <br />On GitHub, the HTML representation is unable to render, please try loading this page with nbviewer.org.</b></div><div class=\"sk-container\" hidden><div class=\"sk-item sk-dashed-wrapped\"><div class=\"sk-label-container\"><div class=\"sk-label sk-toggleable\"><input class=\"sk-toggleable__control sk-hidden--visually\" id=\"sk-estimator-id-6\" type=\"checkbox\" ><label for=\"sk-estimator-id-6\" class=\"sk-toggleable__label sk-toggleable__label-arrow\">GridSearchCV</label><div class=\"sk-toggleable__content\"><pre>GridSearchCV(cv=5, estimator=SVC(),\n",
       "             param_grid={&#x27;C&#x27;: [0.1, 0.4, 1], &#x27;kernel&#x27;: [&#x27;rbf&#x27;]}, verbose=4)</pre></div></div></div><div class=\"sk-parallel\"><div class=\"sk-parallel-item\"><div class=\"sk-item\"><div class=\"sk-label-container\"><div class=\"sk-label sk-toggleable\"><input class=\"sk-toggleable__control sk-hidden--visually\" id=\"sk-estimator-id-7\" type=\"checkbox\" ><label for=\"sk-estimator-id-7\" class=\"sk-toggleable__label sk-toggleable__label-arrow\">estimator: SVC</label><div class=\"sk-toggleable__content\"><pre>SVC()</pre></div></div></div><div class=\"sk-serial\"><div class=\"sk-item\"><div class=\"sk-estimator sk-toggleable\"><input class=\"sk-toggleable__control sk-hidden--visually\" id=\"sk-estimator-id-8\" type=\"checkbox\" ><label for=\"sk-estimator-id-8\" class=\"sk-toggleable__label sk-toggleable__label-arrow\">SVC</label><div class=\"sk-toggleable__content\"><pre>SVC()</pre></div></div></div></div></div></div></div></div></div></div>"
      ],
      "text/plain": [
       "GridSearchCV(cv=5, estimator=SVC(),\n",
       "             param_grid={'C': [0.1, 0.4, 1], 'kernel': ['rbf']}, verbose=4)"
      ]
     },
     "metadata": {},
     "output_type": "display_data"
    }
   ],
   "source": [
    "svm_optimization.fit(train_dataset_image_Scaled, train_dataset_label)"
   ]
  },
  {
   "attachments": {},
   "cell_type": "markdown",
   "metadata": {},
   "source": [
    "#### Printing best svm parameters"
   ]
  },
  {
   "cell_type": "code",
   "execution_count": null,
   "metadata": {},
   "outputs": [
    {
     "name": "stdout",
     "output_type": "stream",
     "text": [
      "{'C': 0.4, 'kernel': 'rbf'}\n"
     ]
    }
   ],
   "source": [
    "print(svm_optimization.best_params_)"
   ]
  },
  {
   "attachments": {},
   "cell_type": "markdown",
   "metadata": {},
   "source": [
    "#### Fitting the SVM with optimal hyper parameters"
   ]
  },
  {
   "cell_type": "code",
   "execution_count": null,
   "metadata": {},
   "outputs": [],
   "source": [
    "from sklearn import svm\n",
    "from sklearn.svm import SVC # for Support Vector Classification model\n",
    "best_svm = svm.SVC(kernel='rbf', C = 0.4)\n",
    "best_svm.fit(train_dataset_image_Scaled, train_dataset_label)\n"
   ]
  },
  {
   "attachments": {},
   "cell_type": "markdown",
   "metadata": {},
   "source": [
    "#### Confusion Matrix for validation dataset"
   ]
  },
  {
   "cell_type": "code",
   "execution_count": null,
   "metadata": {},
   "outputs": [
    {
     "data": {
      "image/png": "[encoded data removed]",
      "text/plain": [
       "<Figure size 640x480 with 2 Axes>"
      ]
     },
     "metadata": {},
     "output_type": "display_data"
    },
    {
     "data": {
      "text/plain": [
       "73.93"
      ]
     },
     "metadata": {},
     "output_type": "display_data"
    }
   ],
   "source": [
    "y_pred_best_svm = best_svm.predict(validation_dataset_image_Scaled)\n",
    "cm_best_svm = confusion_matrix(validation_dataset_label, y_pred_best_svm)\n",
    "disp_best_svm = ConfusionMatrixDisplay(cm_svm)\n",
    "ac_score_best_svm = accuracy_score(validation_dataset_label, y_pred_best_svm)\n",
    "disp_best_svm.plot()\n",
    "plt.show()\n",
    "round(ac_score_best_svm * 100, 2)\n",
    "\n",
    "\n"
   ]
  },
  {
   "attachments": {},
   "cell_type": "markdown",
   "metadata": {},
   "source": [
    "#### Confusion Matrix for test dataset"
   ]
  },
  {
   "cell_type": "code",
   "execution_count": null,
   "metadata": {},
   "outputs": [
    {
     "data": {
      "image/png": "[encoded data removed]",
      "text/plain": [
       "<Figure size 640x480 with 2 Axes>"
      ]
     },
     "metadata": {},
     "output_type": "display_data"
    },
    {
     "data": {
      "text/plain": [
       "73.93"
      ]
     },
     "metadata": {},
     "output_type": "display_data"
    }
   ],
   "source": [
    "y_pred_best_svm_testing = best_svm.predict(test_dataset_image_Scaled)\n",
    "\n",
    "cm_best_svm_test = confusion_matrix(test_dataset_label, y_pred_best_svm_testing)\n",
    "disp_best_svm_test = ConfusionMatrixDisplay(cm_best_svm_test)\n",
    "ac_score_best_svm_test = accuracy_score(test_dataset_label, y_pred_best_svm_testing)\n",
    "disp_best_svm_test.plot()\n",
    "plt.show()\n",
    "round(ac_score_best_svm * 100, 2)\n",
    "\n",
    "\n"
   ]
  },
  {
   "attachments": {},
   "cell_type": "markdown",
   "metadata": {},
   "source": [
    "## Random forest method (Base model) with accuracies"
   ]
  },
  {
   "cell_type": "code",
   "execution_count": 26,
   "metadata": {},
   "outputs": [
    {
     "name": "stdout",
     "output_type": "stream",
     "text": [
      "Training Accuracy: 1.0\n",
      "Training Precision: 1.0\n",
      "Training Recall: 1.0\n",
      "Training F1-score: 1.0\n",
      "Validation Accuracy: 0.7478632478632479\n",
      "Validation Precision: 0.7874125874125875\n",
      "Validation Recall: 0.683252427184466\n",
      "Val F1-score: 0.7316439246263808\n",
      "Test Accuracy: 0.7338217338217338\n",
      "Test Precision: 0.7574468085106383\n",
      "Test Recall: 0.6683354192740926\n"
     ]
    }
   ],
   "source": [
    "\n",
    "# ----- RANDOM FOREST BASE MODEL -----\n",
    "\n",
    "# ----- Create random forest model -----\n",
    "rf = RandomForestClassifier()\n",
    "\n",
    "# ----- Fit the random forest model -----\n",
    "rf.fit(train_dataset_image_Scaled, train_dataset_label)\n",
    "\n",
    "# Make predictions on the training set\n",
    "y_train_pred = rf.predict(train_dataset_image_Scaled)\n",
    "\n",
    "# # Compute the accuracy on the training set\n",
    "train_accuracy = accuracy_score(train_dataset_label, y_train_pred)\n",
    "print(\"Training Accuracy:\", train_accuracy)\n",
    "\n",
    "# # Compute the precision on the training set\n",
    "train_precision = precision_score(train_dataset_label, y_train_pred)\n",
    "print(\"Training Precision:\", train_precision)\n",
    "\n",
    "# # Compute the recall on the training set\n",
    "train_recall = recall_score(train_dataset_label, y_train_pred)\n",
    "print(\"Training Recall:\", train_recall)\n",
    "\n",
    "# # Compute the F1-score on the training set\n",
    "train_f1 = f1_score(train_dataset_label, y_train_pred)\n",
    "print(\"Training F1-score:\", train_f1)\n",
    "\n",
    "# # Make predictions on the validation set\n",
    "y_val_pred = rf.predict(validation_dataset_image_Scaled)\n",
    "\n",
    "# # Compute the accuracy on the validation set\n",
    "val_accuracy = accuracy_score(validation_dataset_label, y_val_pred)\n",
    "print(\"Validation Accuracy:\", val_accuracy)\n",
    "\n",
    "# # Compute the precision on the validation set\n",
    "val_precision = precision_score(validation_dataset_label, y_val_pred)\n",
    "print(\"Validation Precision:\", val_precision)\n",
    "\n",
    "# # Compute the recall on the validation set\n",
    "val_recall = recall_score(validation_dataset_label, y_val_pred)\n",
    "print(\"Validation Recall:\", val_recall)\n",
    "\n",
    "# # Compute the F1-score on the test set\n",
    "val_f1 = f1_score(validation_dataset_label, y_val_pred)\n",
    "print(\"Val F1-score:\", val_f1)\n",
    "\n",
    "# # Make predictions on the test set\n",
    "y_test_pred = rf.predict(test_dataset_image_Scaled)\n",
    "\n",
    "# # Compute the accuracy on the test set\n",
    "test_accuracy = accuracy_score(test_dataset_label, y_test_pred)\n",
    "print(\"Test Accuracy:\", test_accuracy)\n",
    "\n",
    "# # Compute the precision on the test set\n",
    "test_precision = precision_score(test_dataset_label, y_test_pred)\n",
    "print(\"Test Precision:\", test_precision)\n",
    "\n",
    "# # Compute the recall on the test set\n",
    "test_recall = recall_score(test_dataset_label, y_test_pred)\n",
    "print(\"Test Recall:\", test_recall)"
   ]
  },
  {
   "attachments": {},
   "cell_type": "markdown",
   "metadata": {},
   "source": [
    "#### Confusion matrix for the random forest base model"
   ]
  },
  {
   "cell_type": "code",
   "execution_count": null,
   "metadata": {},
   "outputs": [],
   "source": [
    "\n",
    "# ----- CONFUSION MATRIX: RANDOM FOREST BASE MODEL -----\n",
    "cm_base_rf = confusion_matrix(validation_dataset_label, y_val_pred)\n",
    "disp_base_rf = ConfusionMatrixDisplay(cm_base_rf)\n",
    "ac_score_base_rf = accuracy_score(validation_dataset_label, y_val_pred)\n",
    "disp_base_rf.plot()\n",
    "plt.show()\n",
    "round(ac_score_base_rf * 100, 2)"
   ]
  },
  {
   "attachments": {},
   "cell_type": "markdown",
   "metadata": {},
   "source": [
    "## Random forest method (Grid search)"
   ]
  },
  {
   "cell_type": "code",
   "execution_count": null,
   "metadata": {},
   "outputs": [
    {
     "name": "stdout",
     "output_type": "stream",
     "text": [
      "Fitting 3 folds for each of 16 candidates, totalling 48 fits\n",
      "[CV 1/3] END max_depth=1, min_samples_leaf=1, min_samples_split=2, n_estimators=200;, score=0.618 total time=   3.3s\n",
      "[CV 2/3] END max_depth=1, min_samples_leaf=1, min_samples_split=2, n_estimators=200;, score=0.638 total time=   3.2s\n",
      "[CV 3/3] END max_depth=1, min_samples_leaf=1, min_samples_split=2, n_estimators=200;, score=0.615 total time=   3.5s\n",
      "[CV 1/3] END max_depth=1, min_samples_leaf=1, min_samples_split=2, n_estimators=300;, score=0.622 total time=   5.4s\n",
      "[CV 2/3] END max_depth=1, min_samples_leaf=1, min_samples_split=2, n_estimators=300;, score=0.641 total time=   5.6s\n",
      "[CV 3/3] END max_depth=1, min_samples_leaf=1, min_samples_split=2, n_estimators=300;, score=0.618 total time=   5.4s\n",
      "[CV 1/3] END max_depth=1, min_samples_leaf=1, min_samples_split=5, n_estimators=200;, score=0.621 total time=   3.8s\n",
      "[CV 2/3] END max_depth=1, min_samples_leaf=1, min_samples_split=5, n_estimators=200;, score=0.640 total time=   3.3s\n",
      "[CV 3/3] END max_depth=1, min_samples_leaf=1, min_samples_split=5, n_estimators=200;, score=0.612 total time=   3.1s\n",
      "[CV 1/3] END max_depth=1, min_samples_leaf=1, min_samples_split=5, n_estimators=300;, score=0.619 total time=   5.8s\n",
      "[CV 2/3] END max_depth=1, min_samples_leaf=1, min_samples_split=5, n_estimators=300;, score=0.639 total time=   5.2s\n",
      "[CV 3/3] END max_depth=1, min_samples_leaf=1, min_samples_split=5, n_estimators=300;, score=0.616 total time=   4.6s\n",
      "[CV 1/3] END max_depth=1, min_samples_leaf=2, min_samples_split=2, n_estimators=200;, score=0.619 total time=   3.3s\n",
      "[CV 2/3] END max_depth=1, min_samples_leaf=2, min_samples_split=2, n_estimators=200;, score=0.638 total time=   3.4s\n",
      "[CV 3/3] END max_depth=1, min_samples_leaf=2, min_samples_split=2, n_estimators=200;, score=0.612 total time=   2.9s\n",
      "[CV 1/3] END max_depth=1, min_samples_leaf=2, min_samples_split=2, n_estimators=300;, score=0.621 total time=   4.2s\n",
      "[CV 2/3] END max_depth=1, min_samples_leaf=2, min_samples_split=2, n_estimators=300;, score=0.638 total time=   4.2s\n",
      "[CV 3/3] END max_depth=1, min_samples_leaf=2, min_samples_split=2, n_estimators=300;, score=0.616 total time=   4.2s\n",
      "[CV 1/3] END max_depth=1, min_samples_leaf=2, min_samples_split=5, n_estimators=200;, score=0.624 total time=   2.7s\n",
      "[CV 2/3] END max_depth=1, min_samples_leaf=2, min_samples_split=5, n_estimators=200;, score=0.634 total time=   2.7s\n",
      "[CV 3/3] END max_depth=1, min_samples_leaf=2, min_samples_split=5, n_estimators=200;, score=0.611 total time=   3.0s\n",
      "[CV 1/3] END max_depth=1, min_samples_leaf=2, min_samples_split=5, n_estimators=300;, score=0.616 total time=   5.0s\n",
      "[CV 2/3] END max_depth=1, min_samples_leaf=2, min_samples_split=5, n_estimators=300;, score=0.636 total time=   5.0s\n",
      "[CV 3/3] END max_depth=1, min_samples_leaf=2, min_samples_split=5, n_estimators=300;, score=0.616 total time=   4.9s\n",
      "[CV 1/3] END max_depth=2, min_samples_leaf=1, min_samples_split=2, n_estimators=200;, score=0.675 total time=   6.3s\n",
      "[CV 2/3] END max_depth=2, min_samples_leaf=1, min_samples_split=2, n_estimators=200;, score=0.680 total time=   6.3s\n",
      "[CV 3/3] END max_depth=2, min_samples_leaf=1, min_samples_split=2, n_estimators=200;, score=0.657 total time=   6.1s\n",
      "[CV 1/3] END max_depth=2, min_samples_leaf=1, min_samples_split=2, n_estimators=300;, score=0.678 total time=   9.2s\n",
      "[CV 2/3] END max_depth=2, min_samples_leaf=1, min_samples_split=2, n_estimators=300;, score=0.677 total time=   8.3s\n",
      "[CV 3/3] END max_depth=2, min_samples_leaf=1, min_samples_split=2, n_estimators=300;, score=0.656 total time=   9.0s\n",
      "[CV 1/3] END max_depth=2, min_samples_leaf=1, min_samples_split=5, n_estimators=200;, score=0.674 total time=   6.0s\n",
      "[CV 2/3] END max_depth=2, min_samples_leaf=1, min_samples_split=5, n_estimators=200;, score=0.680 total time=   6.2s\n",
      "[CV 3/3] END max_depth=2, min_samples_leaf=1, min_samples_split=5, n_estimators=200;, score=0.661 total time=   6.2s\n",
      "[CV 1/3] END max_depth=2, min_samples_leaf=1, min_samples_split=5, n_estimators=300;, score=0.675 total time=   9.8s\n",
      "[CV 2/3] END max_depth=2, min_samples_leaf=1, min_samples_split=5, n_estimators=300;, score=0.673 total time=   9.6s\n",
      "[CV 3/3] END max_depth=2, min_samples_leaf=1, min_samples_split=5, n_estimators=300;, score=0.657 total time=   9.5s\n",
      "[CV 1/3] END max_depth=2, min_samples_leaf=2, min_samples_split=2, n_estimators=200;, score=0.675 total time=   5.9s\n",
      "[CV 2/3] END max_depth=2, min_samples_leaf=2, min_samples_split=2, n_estimators=200;, score=0.677 total time=   5.9s\n",
      "[CV 3/3] END max_depth=2, min_samples_leaf=2, min_samples_split=2, n_estimators=200;, score=0.657 total time=   6.0s\n",
      "[CV 1/3] END max_depth=2, min_samples_leaf=2, min_samples_split=2, n_estimators=300;, score=0.675 total time=   9.8s\n",
      "[CV 2/3] END max_depth=2, min_samples_leaf=2, min_samples_split=2, n_estimators=300;, score=0.676 total time=   9.3s\n",
      "[CV 3/3] END max_depth=2, min_samples_leaf=2, min_samples_split=2, n_estimators=300;, score=0.659 total time=   9.3s\n",
      "[CV 1/3] END max_depth=2, min_samples_leaf=2, min_samples_split=5, n_estimators=200;, score=0.675 total time=   6.7s\n",
      "[CV 2/3] END max_depth=2, min_samples_leaf=2, min_samples_split=5, n_estimators=200;, score=0.678 total time=   6.1s\n",
      "[CV 3/3] END max_depth=2, min_samples_leaf=2, min_samples_split=5, n_estimators=200;, score=0.663 total time=   6.1s\n",
      "[CV 1/3] END max_depth=2, min_samples_leaf=2, min_samples_split=5, n_estimators=300;, score=0.675 total time=   9.5s\n",
      "[CV 2/3] END max_depth=2, min_samples_leaf=2, min_samples_split=5, n_estimators=300;, score=0.679 total time=   8.9s\n",
      "[CV 3/3] END max_depth=2, min_samples_leaf=2, min_samples_split=5, n_estimators=300;, score=0.659 total time=   8.7s\n",
      "Best parameters: {'max_depth': 2, 'min_samples_leaf': 2, 'min_samples_split': 5, 'n_estimators': 200}\n"
     ]
    }
   ],
   "source": [
    "# ----- RANDOM FOREST GRID SEARCH -----\n",
    "\n",
    "# Initialize the RandomForestClassifier\n",
    "rf = RandomForestClassifier()\n",
    "\n",
    "# Define the parameter grid for the grid search\n",
    "param_grid = {\n",
    "    'n_estimators': [200, 300, 800],\n",
    "    'max_depth': [1, 2],\n",
    "    'min_samples_split': [2, 5],\n",
    "    'min_samples_leaf': [1, 2]\n",
    "\n",
    "}\n",
    "\n",
    "# Initialize the GridSearchCV\n",
    "grid_search2 = GridSearchCV(rf, param_grid, cv=3, verbose=4)\n",
    "\n",
    "#Fit the GridSearchCV to the training data\n",
    "grid_search2.fit(train_dataset_image_Scaled, train_dataset_label)\n",
    "\n",
    "#Print the best parameters\n",
    "print(\"Best parameters:\", grid_search2.best_params_)\n",
    "\n",
    "\n"
   ]
  },
  {
   "attachments": {},
   "cell_type": "markdown",
   "metadata": {},
   "source": [
    "#### Random forest method and accuracies (Tuned w. Grid search hyper parameters)"
   ]
  },
  {
   "cell_type": "code",
   "execution_count": 10,
   "metadata": {},
   "outputs": [
    {
     "name": "stdout",
     "output_type": "stream",
     "text": [
      "Training Accuracy: 0.6832227054245823\n",
      "Training Precision: 0.6293812202509736\n",
      "Training Recall: 0.8890586797066015\n",
      "Training F1-score: 0.7370154547757791\n",
      "Validation Accuracy: 0.6959706959706959\n",
      "Validation Precision: 0.638135593220339\n",
      "Validation Recall: 0.9138349514563107\n",
      "Val F1-score: 0.7514970059880239\n",
      "Test Accuracy: 0.681929181929182\n",
      "Test Precision: 0.6172006745362564\n",
      "Test Recall: 0.9161451814768461\n"
     ]
    }
   ],
   "source": [
    "# ----- RANDOM FOREST WITH NEW HYPER PARAMETERS -----\n",
    "rf_hyper = RandomForestClassifier(max_depth=2, min_samples_leaf=2, min_samples_split=5, n_estimators=200)\n",
    "rf_hyper.fit(train_dataset_image_Scaled, train_dataset_label)\n",
    "# Make predictions on the training set\n",
    "y_train_pred = rf_hyper.predict(train_dataset_image_Scaled)\n",
    "\n",
    "# # Compute the accuracy on the training set\n",
    "train_accuracy = accuracy_score(train_dataset_label, y_train_pred)\n",
    "print(\"Training Accuracy:\", train_accuracy)\n",
    "\n",
    "# # Compute the precision on the training set\n",
    "train_precision = precision_score(train_dataset_label, y_train_pred)\n",
    "print(\"Training Precision:\", train_precision)\n",
    "\n",
    "# # Compute the recall on the training set\n",
    "train_recall = recall_score(train_dataset_label, y_train_pred)\n",
    "print(\"Training Recall:\", train_recall)\n",
    "\n",
    "# # Compute the F1-score on the training set\n",
    "train_f1 = f1_score(train_dataset_label, y_train_pred)\n",
    "print(\"Training F1-score:\", train_f1)\n",
    "\n",
    "# # Make predictions on the validation set\n",
    "y_val_pred = rf_hyper.predict(validation_dataset_image_Scaled)\n",
    "\n",
    "# # Compute the accuracy on the validation set\n",
    "val_accuracy = accuracy_score(validation_dataset_label, y_val_pred)\n",
    "print(\"Validation Accuracy:\", val_accuracy)\n",
    "\n",
    "# # Compute the precision on the validation set\n",
    "val_precision = precision_score(validation_dataset_label, y_val_pred)\n",
    "print(\"Validation Precision:\", val_precision)\n",
    "\n",
    "# # Compute the recall on the validation set\n",
    "val_recall = recall_score(validation_dataset_label, y_val_pred)\n",
    "print(\"Validation Recall:\", val_recall)\n",
    "\n",
    "# # Compute the F1-score on the test set\n",
    "val_f1 = f1_score(validation_dataset_label, y_val_pred)\n",
    "print(\"Val F1-score:\", val_f1)\n",
    "\n",
    "# # Make predictions on the test set\n",
    "y_test_pred = rf_hyper.predict(test_dataset_image_Scaled)\n",
    "\n",
    "# # Compute the accuracy on the test set\n",
    "test_accuracy = accuracy_score(test_dataset_label, y_test_pred)\n",
    "print(\"Test Accuracy:\", test_accuracy)\n",
    "\n",
    "# # Compute the precision on the test set\n",
    "test_precision = precision_score(test_dataset_label, y_test_pred)\n",
    "print(\"Test Precision:\", test_precision)\n",
    "\n",
    "# # Compute the recall on the test set\n",
    "test_recall = recall_score(test_dataset_label, y_test_pred)\n",
    "print(\"Test Recall:\", test_recall)"
   ]
  },
  {
   "attachments": {},
   "cell_type": "markdown",
   "metadata": {},
   "source": [
    "#### Confusion matrix for the tuned random forest"
   ]
  },
  {
   "cell_type": "code",
   "execution_count": null,
   "metadata": {},
   "outputs": [],
   "source": [
    "# ----- CONFUSION MATRIX TUNED RANDOM FOREST -----\n",
    "cm_best_rf = confusion_matrix(validation_dataset_label, y_val_pred)\n",
    "disp_best_rf = ConfusionMatrixDisplay(cm_best_rf)\n",
    "ac_score_best_rf = accuracy_score(validation_dataset_label, y_val_pred)\n",
    "disp_best_rf.plot()\n",
    "plt.show()\n",
    "round(ac_score_best_rf * 100, 2)"
   ]
  },
  {
   "attachments": {},
   "cell_type": "markdown",
   "metadata": {},
   "source": [
    "## LightGBM boosting method"
   ]
  },
  {
   "attachments": {},
   "cell_type": "markdown",
   "metadata": {},
   "source": [
    "#### Initialize and fit the LightGBM model"
   ]
  },
  {
   "cell_type": "code",
   "execution_count": 37,
   "metadata": {},
   "outputs": [],
   "source": [
    "lgbm = LGBMClassifier()\n",
    "lgbm.fit(train_dataset_image_Scaled, train_dataset_label)\n"
   ]
  },
  {
   "attachments": {},
   "cell_type": "markdown",
   "metadata": {},
   "source": [
    "#### LightGBM Prediction on validation data and confusion matrix"
   ]
  },
  {
   "cell_type": "code",
   "execution_count": 38,
   "metadata": {},
   "outputs": [
    {
     "data": {
      "image/png": "[encoded data removed]",
      "text/plain": [
       "<Figure size 640x480 with 2 Axes>"
      ]
     },
     "metadata": {},
     "output_type": "display_data"
    },
    {
     "data": {
      "text/plain": [
       "75.15"
      ]
     },
     "execution_count": 38,
     "metadata": {},
     "output_type": "execute_result"
    }
   ],
   "source": [
    "y_pred_lgbm = lgbm.predict(validation_dataset_image_Scaled)\n",
    "cm_lgbm = confusion_matrix(validation_dataset_label, y_pred_lgbm)\n",
    "disp_lgbm = ConfusionMatrixDisplay(cm_lgbm)\n",
    "ac_score_lgbm = accuracy_score(validation_dataset_label, y_pred_lgbm)\n",
    "disp_lgbm.plot()\n",
    "plt.show()\n",
    "round(ac_score_lgbm * 100, 2)\n",
    "\n",
    "\n"
   ]
  },
  {
   "attachments": {},
   "cell_type": "markdown",
   "metadata": {},
   "source": [
    "### Finding an optimization for LightGBM through randomized search"
   ]
  },
  {
   "cell_type": "code",
   "execution_count": null,
   "metadata": {
    "id": "plXWbYYz2REI"
   },
   "outputs": [],
   "source": [
    "lgbm_params = {'n_estimators':[600, 800, 1000],'boosting_type':['dart', 'gbdt'],'num_leaves':[30, 35, 40], 'max_depth':[40, 45, 50],\n",
    "             'learning_rate':[.1, .12, .14], 'min_child_samples':[5, 10, 15]}\n",
    "lgbm_optimization = RandomizedSearchCV(lgbm, lgbm_params)"
   ]
  },
  {
   "attachments": {},
   "cell_type": "markdown",
   "metadata": {},
   "source": [
    "#### Fitting the randomized search for LightGBM"
   ]
  },
  {
   "cell_type": "code",
   "execution_count": null,
   "metadata": {
    "colab": {
     "background_save": true,
     "base_uri": "https://localhost:8080/"
    },
    "id": "dA2b3ZV73CvR",
    "outputId": "7c8fa0e7-1d41-4ea7-f7e1-fc9134157cd9"
   },
   "outputs": [
    {
     "name": "stderr",
     "output_type": "stream",
     "text": [
      "/usr/local/lib/python3.8/dist-packages/sklearn/model_selection/_validation.py:372: FitFailedWarning: \n",
      "30 fits failed out of a total of 50.\n",
      "The score on these train-test partitions for these parameters will be set to nan.\n",
      "If these failures are not expected, you can try to debug them by setting error_score='raise'.\n",
      "\n",
      "Below are more details about the failures:\n",
      "--------------------------------------------------------------------------------\n",
      "30 fits failed with the following error:\n",
      "Traceback (most recent call last):\n",
      "  File \"/usr/local/lib/python3.8/dist-packages/sklearn/model_selection/_validation.py\", line 680, in _fit_and_score\n",
      "    estimator.fit(X_train, y_train, **fit_params)\n",
      "  File \"/usr/local/lib/python3.8/dist-packages/lightgbm/sklearn.py\", line 734, in fit\n",
      "    super(LGBMClassifier, self).fit(X, _y, sample_weight=sample_weight,\n",
      "  File \"/usr/local/lib/python3.8/dist-packages/lightgbm/sklearn.py\", line 538, in fit\n",
      "    self._Booster = train(params, train_set,\n",
      "  File \"/usr/local/lib/python3.8/dist-packages/lightgbm/engine.py\", line 197, in train\n",
      "    booster = Booster(params=params, train_set=train_set)\n",
      "  File \"/usr/local/lib/python3.8/dist-packages/lightgbm/basic.py\", line 1551, in __init__\n",
      "    _safe_call(_LIB.LGBM_BoosterCreate(\n",
      "  File \"/usr/local/lib/python3.8/dist-packages/lightgbm/basic.py\", line 46, in _safe_call\n",
      "    raise LightGBMError(decode_string(_LIB.LGBM_GetLastError()))\n",
      "lightgbm.basic.LightGBMError: Check failed: config->bagging_freq > 0 && config->bagging_fraction < 1.0f && config->bagging_fraction > 0.0f at /__w/1/s/python-package/compile/src/boosting/rf.hpp, line 28 .\n",
      "\n",
      "\n",
      "  warnings.warn(some_fits_failed_message, FitFailedWarning)\n",
      "/usr/local/lib/python3.8/dist-packages/sklearn/model_selection/_search.py:969: UserWarning: One or more of the test scores are non-finite: [       nan        nan        nan        nan        nan        nan\n",
      " 0.77523514 0.77447108 0.77645523 0.77637896]\n",
      "  warnings.warn(\n"
     ]
    },
    {
     "name": "stdout",
     "output_type": "stream",
     "text": [
      "{'num_leaves': 40, 'n_estimators': 800, 'min_child_samples': 15, 'max_depth': 40, 'learning_rate': 0.12, 'boosting_type': 'dart'}\n"
     ]
    }
   ],
   "source": [
    "lgbm_optimization.fit(train_dataset_image_Scaled, train_dataset_label)\n",
    "print(lgbm_optimization.best_params_)"
   ]
  },
  {
   "attachments": {},
   "cell_type": "markdown",
   "metadata": {},
   "source": [
    "#### Initializing and fitting LightGBM model with suggested hyper parameters "
   ]
  },
  {
   "cell_type": "code",
   "execution_count": 50,
   "metadata": {},
   "outputs": [],
   "source": [
    "best_lgbm = LGBMClassifier(num_leaves=40, n_estimators=800, min_child_samples=15, max_depth=40, learning_rate=.12, boosting_type='dart')\n",
    "best_lgbm.fit(train_dataset_image_Scaled, train_dataset_label)\n"
   ]
  },
  {
   "attachments": {},
   "cell_type": "markdown",
   "metadata": {},
   "source": [
    "#### Predicting with the tuned LightGBM and creating confusion matrix for the validation data"
   ]
  },
  {
   "cell_type": "code",
   "execution_count": 51,
   "metadata": {},
   "outputs": [
    {
     "data": {
      "image/png": "[encoded data removed]",
      "text/plain": [
       "<Figure size 640x480 with 2 Axes>"
      ]
     },
     "metadata": {},
     "output_type": "display_data"
    },
    {
     "data": {
      "text/plain": [
       "75.4"
      ]
     },
     "execution_count": 51,
     "metadata": {},
     "output_type": "execute_result"
    }
   ],
   "source": [
    "y_pred_best_lgbm = best_lgbm.predict(validation_dataset_image_Scaled)\n",
    "\n",
    "cm_best_lgbm = confusion_matrix(validation_dataset_label, y_pred_best_lgbm)\n",
    "disp_best_lgbm = ConfusionMatrixDisplay(cm_lgbm)\n",
    "ac_score_best_lgbm = accuracy_score(validation_dataset_label, y_pred_best_lgbm)\n",
    "disp_best_lgbm.plot()\n",
    "plt.show()\n",
    "round(ac_score_best_lgbm * 100, 2)\n",
    "\n",
    "\n"
   ]
  },
  {
   "attachments": {},
   "cell_type": "markdown",
   "metadata": {},
   "source": [
    "#### Predicting with the tuned LightGBM and creating confusion matrix for the test data"
   ]
  },
  {
   "cell_type": "code",
   "execution_count": 52,
   "metadata": {},
   "outputs": [
    {
     "data": {
      "image/png": "[encoded data removed]",
      "text/plain": [
       "<Figure size 640x480 with 2 Axes>"
      ]
     },
     "metadata": {},
     "output_type": "display_data"
    },
    {
     "data": {
      "text/plain": [
       "75.4"
      ]
     },
     "execution_count": 52,
     "metadata": {},
     "output_type": "execute_result"
    }
   ],
   "source": [
    "y_pred_best_lgbm_testing = best_lgbm.predict(test_dataset_image_Scaled)\n",
    "\n",
    "cm_best_lgbm_test = confusion_matrix(test_dataset_label, y_pred_best_lgbm_testing)\n",
    "disp_best_lgbm_test = ConfusionMatrixDisplay(cm_best_lgbm_test)\n",
    "ac_score_best_lgbm_test = accuracy_score(test_dataset_label, y_pred_best_lgbm_testing)\n",
    "disp_best_lgbm_test.plot()\n",
    "plt.show()\n",
    "round(ac_score_best_lgbm * 100, 2)"
   ]
  },
  {
   "cell_type": "markdown",
   "metadata": {},
   "source": []
  },
  {
   "attachments": {},
   "cell_type": "markdown",
   "metadata": {},
   "source": [
    "## Ensemble Learning"
   ]
  },
  {
   "cell_type": "code",
   "execution_count": null,
   "metadata": {},
   "outputs": [],
   "source": [
    "# Ensemble Learning with non-deep learning\n",
    "\n",
    "import numpy as np\n",
    "from sklearn.ensemble import StackingClassifier\n",
    "from sklearn.svm import SVC\n",
    "from sklearn.ensemble import RandomForestClassifier\n",
    "from xgboost import XGBClassifier\n",
    "from sklearn.ensemble import GradientBoostingClassifier\n",
    "from sklearn.linear_model import LogisticRegression\n",
    "from sklearn.metrics import accuracy_score, log_loss\n",
    "\n",
    "\n",
    "# Initialize the classifiers\n",
    "svm = svm.SVC(C=0.4, kernel='rbf')\n",
    "rf = RandomForestClassifier(max_depth=2, min_samples_leaf=2, min_samples_split=5, n_estimators=200)\n",
    "lgbm = LGBMClassifier(num_leaves=40, n_estimators=800, min_child_samples=15, max_depth=40, learning_rate=.12, boosting_type='dart')\n"
   ]
  },
  {
   "attachments": {},
   "cell_type": "markdown",
   "metadata": {},
   "source": [
    "#### Initializing and fitting the Ensemble learning method"
   ]
  },
  {
   "cell_type": "code",
   "execution_count": null,
   "metadata": {},
   "outputs": [],
   "source": [
    "# Create the ensemble model\n",
    "ensemble = StackingClassifier(estimators=[('svm', svm), ('rf', rf), ('lgbm',lgbm)], final_estimator=LogisticRegression())\n",
    "\n",
    "# Fit the ensemble model to the training data\n",
    "ensemble.fit(train_dataset_image_Scaled, train_dataset_label)"
   ]
  },
  {
   "attachments": {},
   "cell_type": "markdown",
   "metadata": {},
   "source": [
    "#### Ensemble learning prediction on test data"
   ]
  },
  {
   "cell_type": "code",
   "execution_count": null,
   "metadata": {},
   "outputs": [],
   "source": [
    "\n",
    "# Predict on the test data\n",
    "y_pred = ensemble.predict(test_dataset_image_Scaled)\n",
    "\n",
    "ensemble_matrix = confusion_matrix(validation_dataset_label, y_pred)\n",
    "disp_best_ensemble_matrix = ConfusionMatrixDisplay(ensemble_matrix)\n",
    "ac_score_best_ensemble_matrix = accuracy_score(validation_dataset_label, y_pred)\n",
    "disp_best_ensemble_matrix.plot()\n",
    "plt.show()\n",
    "round(ac_score_best_ensemble_matrix * 100, 2)\n"
   ]
  },
  {
   "attachments": {},
   "cell_type": "markdown",
   "metadata": {},
   "source": [
    "#### Ensemble learning prediction on training and validation data  "
   ]
  },
  {
   "cell_type": "code",
   "execution_count": null,
   "metadata": {},
   "outputs": [
    {
     "name": "stdout",
     "output_type": "stream",
     "text": [
      "Training Accuracy: 0.9841306172274357\n",
      "Training Precision: 0.9771084337349397\n",
      "Training Recall: 0.991442542787286\n",
      "Training F1-score: 0.9842233009708738\n",
      "Validation Accuracy: 0.757020757020757\n",
      "Validation Precision: 0.7870619946091644\n",
      "Validation Recall: 0.7087378640776699\n",
      "Validation F1-score: 0.7458492975734354\n",
      "Test Accuracy: 0.7484737484737485\n",
      "Test Precision: 0.7562913907284768\n",
      "Test Recall: 0.7146433041301627\n",
      "Test F1-score: 0.7348777348777348\n"
     ]
    }
   ],
   "source": [
    "# Make predictions on the training data\n",
    "y_train_pred = ensemble.predict(train_dataset_image_Scaled)\n",
    "# Compute the accuracy on the training set\n",
    "train_accuracy = accuracy_score(train_dataset_label, y_train_pred)\n",
    "print(\"Training Accuracy:\", train_accuracy)\n",
    "\n",
    "# Compute the precision on the training set\n",
    "train_precision = precision_score(train_dataset_label, y_train_pred)\n",
    "print(\"Training Precision:\", train_precision)\n",
    "\n",
    "# Compute the recall on the training set\n",
    "train_recall = recall_score(train_dataset_label, y_train_pred)\n",
    "print(\"Training Recall:\", train_recall)\n",
    "\n",
    "# Compute the F1-score on the training set\n",
    "train_f1 = f1_score(train_dataset_label, y_train_pred)\n",
    "print(\"Training F1-score:\", train_f1)\n",
    "\n",
    "\n",
    "# Make predictions on the validation set\n",
    "y_val_pred = ensemble.predict(validation_dataset_image_Scaled)\n",
    "\n",
    "# Compute the accuracy on the validation set\n",
    "val_accuracy = accuracy_score(validation_dataset_label, y_val_pred)\n",
    "print(\"Validation Accuracy:\", val_accuracy)\n",
    "\n",
    "# Compute the precision on the validation set\n",
    "val_precision = precision_score(validation_dataset_label, y_val_pred)\n",
    "print(\"Validation Precision:\", val_precision)\n",
    "\n",
    "# Compute the recall on the validation set\n",
    "val_recall = recall_score(validation_dataset_label, y_val_pred)\n",
    "print(\"Validation Recall:\", val_recall)\n",
    "\n",
    "# Compute the F1-score on the validation set\n",
    "val_f1 = f1_score(validation_dataset_label, y_val_pred)\n",
    "print(\"Validation F1-score:\", val_f1)\n",
    "\n",
    "# Make predictions on the test set\n",
    "y_test_pred = ensemble.predict(test_dataset_image_Scaled)\n",
    "\n",
    "# Compute the accuracy on the test set\n",
    "test_accuracy = accuracy_score(test_dataset_label, y_test_pred)\n",
    "print(\"Test Accuracy:\", test_accuracy)\n",
    "\n",
    "# Compute the precision on the test set\n",
    "test_precision = precision_score(test_dataset_label, y_test_pred)\n",
    "print(\"Test Precision:\", test_precision)\n",
    "\n",
    "# Compute the recall on the test set\n",
    "test_recall = recall_score(test_dataset_label, y_test_pred)\n",
    "print(\"Test Recall:\", test_recall)\n",
    "\n",
    "# Compute the F1-score on the test set\n",
    "test_f1 = f1_score(test_dataset_label, y_test_pred)\n",
    "print(\"Test F1-score:\", test_f1)"
   ]
  }
 ],
 "metadata": {
  "kernelspec": {
   "display_name": "venv",
   "language": "python",
   "name": "python3"
  },
  "language_info": {
   "codemirror_mode": {
    "name": "ipython",
    "version": 3
   },
   "file_extension": ".py",
   "mimetype": "text/x-python",
   "name": "python",
   "nbconvert_exporter": "python",
   "pygments_lexer": "ipython3",
   "version": "3.10.9 | packaged by conda-forge | (main, Jan 11 2023, 15:15:40) [MSC v.1916 64 bit (AMD64)]"
  },
  "orig_nbformat": 4,
  "vscode": {
   "interpreter": {
    "hash": "c6e1f3d6a0d0f05258877e269d3fdfe70c0e2eececb78df2a8644631659deb4f"
   }
  }
 },
 "nbformat": 4,
 "nbformat_minor": 2
}
