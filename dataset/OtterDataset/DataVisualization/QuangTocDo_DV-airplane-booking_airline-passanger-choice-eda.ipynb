{
 "cells": [
  {
   "cell_type": "markdown",
   "id": "60727398",
   "metadata": {
    "papermill": {
     "duration": 0.009359,
     "end_time": "2023-07-04T08:10:18.306403",
     "exception": false,
     "start_time": "2023-07-04T08:10:18.297044",
     "status": "completed"
    },
    "tags": []
   },
   "source": [
    "<div style=\"border-radius:10px; border:#DEB887 solid; padding: 15px; background-color: #FFFAF0; font-size:100%; text-align:left\">\n",
    "    <h1 style=\"color: green;\"><b>👋Welcome, Let's Start</b></h1>\n",
    "    <hr style = \"height: 2px; color: black;\">"
   ]
  },
  {
   "cell_type": "code",
   "execution_count": 1,
   "id": "87b7cc01",
   "metadata": {
    "_cell_guid": "b1076dfc-b9ad-4769-8c92-a6c4dae69d19",
    "_uuid": "8f2839f25d086af736a60e9eeb907d3b93b6e0e5",
    "execution": {
     "iopub.execute_input": "2023-07-04T08:10:18.322473Z",
     "iopub.status.busy": "2023-07-04T08:10:18.322087Z",
     "iopub.status.idle": "2023-07-04T08:10:21.760802Z",
     "shell.execute_reply": "2023-07-04T08:10:21.759708Z"
    },
    "papermill": {
     "duration": 3.449901,
     "end_time": "2023-07-04T08:10:21.763417",
     "exception": false,
     "start_time": "2023-07-04T08:10:18.313516",
     "status": "completed"
    },
    "tags": []
   },
   "outputs": [],
   "source": [
    "import numpy as np\n",
    "import pandas as pd\n",
    "import warnings \n",
    "warnings.filterwarnings('ignore')\n",
    "\n",
    "from sklearn.metrics import confusion_matrix, accuracy_score\n",
    "from sklearn.preprocessing import StandardScaler, MinMaxScaler\n",
    "from sklearn.model_selection import train_test_split\n",
    "# from imblearn.ensemble import BalancedRandomForestClassifier\n",
    "# from catboost import CatBoostClassifier\n",
    "# from lightgbm import LGBMClassifier\n",
    "# from xgboost import XGBClassifier\n",
    "from sklearn.linear_model import LogisticRegression\n",
    "from sklearn.ensemble import RandomForestClassifier, HistGradientBoostingClassifier\n",
    "\n",
    "from colorama import Style, Fore\n",
    "red = Style.BRIGHT + Fore.RED\n",
    "blu = Style.BRIGHT + Fore.BLUE\n",
    "mgt = Style.BRIGHT + Fore.MAGENTA\n",
    "gren = Style.BRIGHT + Fore.GREEN\n",
    "blk = Style.BRIGHT + Fore.BLACK\n",
    "res = Style.RESET_ALL"
   ]
  },
  {
   "cell_type": "code",
   "execution_count": 2,
   "id": "db999ceb",
   "metadata": {
    "execution": {
     "iopub.execute_input": "2023-07-04T08:10:21.779115Z",
     "iopub.status.busy": "2023-07-04T08:10:21.778753Z",
     "iopub.status.idle": "2023-07-04T08:10:21.913549Z",
     "shell.execute_reply": "2023-07-04T08:10:21.912509Z"
    },
    "papermill": {
     "duration": 0.145503,
     "end_time": "2023-07-04T08:10:21.916016",
     "exception": false,
     "start_time": "2023-07-04T08:10:21.770513",
     "status": "completed"
    },
    "tags": []
   },
   "outputs": [],
   "source": [
    "df = pd.read_csv('/Users/trannhutquang/Documents/Python/Data Visualization/data/Passanger_booking_data.csv')"
   ]
  },
  {
   "cell_type": "code",
   "execution_count": 3,
   "id": "7970e05d",
   "metadata": {
    "execution": {
     "iopub.execute_input": "2023-07-04T08:10:21.931294Z",
     "iopub.status.busy": "2023-07-04T08:10:21.930939Z",
     "iopub.status.idle": "2023-07-04T08:10:21.963379Z",
     "shell.execute_reply": "2023-07-04T08:10:21.962141Z"
    },
    "papermill": {
     "duration": 0.042954,
     "end_time": "2023-07-04T08:10:21.965914",
     "exception": false,
     "start_time": "2023-07-04T08:10:21.922960",
     "status": "completed"
    },
    "tags": []
   },
   "outputs": [
    {
     "data": {
      "text/html": [
       "<div>\n",
       "<style scoped>\n",
       "    .dataframe tbody tr th:only-of-type {\n",
       "        vertical-align: middle;\n",
       "    }\n",
       "\n",
       "    .dataframe tbody tr th {\n",
       "        vertical-align: top;\n",
       "    }\n",
       "\n",
       "    .dataframe thead th {\n",
       "        text-align: right;\n",
       "    }\n",
       "</style>\n",
       "<table border=\"1\" class=\"dataframe\">\n",
       "  <thead>\n",
       "    <tr style=\"text-align: right;\">\n",
       "      <th></th>\n",
       "      <th>num_passengers</th>\n",
       "      <th>sales_channel</th>\n",
       "      <th>trip_type</th>\n",
       "      <th>purchase_lead</th>\n",
       "      <th>length_of_stay</th>\n",
       "      <th>flight_hour</th>\n",
       "      <th>flight_day</th>\n",
       "      <th>route</th>\n",
       "      <th>booking_origin</th>\n",
       "      <th>wants_extra_baggage</th>\n",
       "      <th>wants_preferred_seat</th>\n",
       "      <th>wants_in_flight_meals</th>\n",
       "      <th>flight_duration</th>\n",
       "      <th>booking_complete</th>\n",
       "    </tr>\n",
       "  </thead>\n",
       "  <tbody>\n",
       "    <tr>\n",
       "      <th>0</th>\n",
       "      <td>1</td>\n",
       "      <td>Internet</td>\n",
       "      <td>RoundTrip</td>\n",
       "      <td>21</td>\n",
       "      <td>12</td>\n",
       "      <td>6</td>\n",
       "      <td>Tue</td>\n",
       "      <td>AKLHGH</td>\n",
       "      <td>Australia</td>\n",
       "      <td>0</td>\n",
       "      <td>0</td>\n",
       "      <td>0</td>\n",
       "      <td>7.21</td>\n",
       "      <td>1</td>\n",
       "    </tr>\n",
       "    <tr>\n",
       "      <th>1</th>\n",
       "      <td>2</td>\n",
       "      <td>Internet</td>\n",
       "      <td>RoundTrip</td>\n",
       "      <td>262</td>\n",
       "      <td>19</td>\n",
       "      <td>7</td>\n",
       "      <td>Sat</td>\n",
       "      <td>AKLDEL</td>\n",
       "      <td>New Zealand</td>\n",
       "      <td>1</td>\n",
       "      <td>0</td>\n",
       "      <td>0</td>\n",
       "      <td>5.52</td>\n",
       "      <td>0</td>\n",
       "    </tr>\n",
       "    <tr>\n",
       "      <th>2</th>\n",
       "      <td>1</td>\n",
       "      <td>Internet</td>\n",
       "      <td>RoundTrip</td>\n",
       "      <td>112</td>\n",
       "      <td>20</td>\n",
       "      <td>3</td>\n",
       "      <td>Sat</td>\n",
       "      <td>AKLDEL</td>\n",
       "      <td>New Zealand</td>\n",
       "      <td>0</td>\n",
       "      <td>0</td>\n",
       "      <td>0</td>\n",
       "      <td>5.52</td>\n",
       "      <td>0</td>\n",
       "    </tr>\n",
       "    <tr>\n",
       "      <th>3</th>\n",
       "      <td>2</td>\n",
       "      <td>Internet</td>\n",
       "      <td>RoundTrip</td>\n",
       "      <td>243</td>\n",
       "      <td>22</td>\n",
       "      <td>17</td>\n",
       "      <td>Wed</td>\n",
       "      <td>AKLDEL</td>\n",
       "      <td>India</td>\n",
       "      <td>1</td>\n",
       "      <td>1</td>\n",
       "      <td>0</td>\n",
       "      <td>5.52</td>\n",
       "      <td>0</td>\n",
       "    </tr>\n",
       "    <tr>\n",
       "      <th>4</th>\n",
       "      <td>1</td>\n",
       "      <td>Internet</td>\n",
       "      <td>RoundTrip</td>\n",
       "      <td>96</td>\n",
       "      <td>31</td>\n",
       "      <td>4</td>\n",
       "      <td>Sat</td>\n",
       "      <td>AKLDEL</td>\n",
       "      <td>New Zealand</td>\n",
       "      <td>0</td>\n",
       "      <td>0</td>\n",
       "      <td>1</td>\n",
       "      <td>5.52</td>\n",
       "      <td>0</td>\n",
       "    </tr>\n",
       "  </tbody>\n",
       "</table>\n",
       "</div>"
      ],
      "text/plain": [
       "   num_passengers sales_channel  trip_type  purchase_lead  length_of_stay  \\\n",
       "0               1      Internet  RoundTrip             21              12   \n",
       "1               2      Internet  RoundTrip            262              19   \n",
       "2               1      Internet  RoundTrip            112              20   \n",
       "3               2      Internet  RoundTrip            243              22   \n",
       "4               1      Internet  RoundTrip             96              31   \n",
       "\n",
       "   flight_hour flight_day   route booking_origin  wants_extra_baggage  \\\n",
       "0            6        Tue  AKLHGH      Australia                    0   \n",
       "1            7        Sat  AKLDEL    New Zealand                    1   \n",
       "2            3        Sat  AKLDEL    New Zealand                    0   \n",
       "3           17        Wed  AKLDEL          India                    1   \n",
       "4            4        Sat  AKLDEL    New Zealand                    0   \n",
       "\n",
       "   wants_preferred_seat  wants_in_flight_meals  flight_duration  \\\n",
       "0                     0                      0             7.21   \n",
       "1                     0                      0             5.52   \n",
       "2                     0                      0             5.52   \n",
       "3                     1                      0             5.52   \n",
       "4                     0                      1             5.52   \n",
       "\n",
       "   booking_complete  \n",
       "0                 1  \n",
       "1                 0  \n",
       "2                 0  \n",
       "3                 0  \n",
       "4                 0  "
      ]
     },
     "execution_count": 3,
     "metadata": {},
     "output_type": "execute_result"
    }
   ],
   "source": [
    "df.head()"
   ]
  },
  {
   "cell_type": "code",
   "execution_count": 4,
   "id": "e711c401",
   "metadata": {
    "execution": {
     "iopub.execute_input": "2023-07-04T08:10:21.981905Z",
     "iopub.status.busy": "2023-07-04T08:10:21.981549Z",
     "iopub.status.idle": "2023-07-04T08:10:22.058569Z",
     "shell.execute_reply": "2023-07-04T08:10:22.057088Z"
    },
    "papermill": {
     "duration": 0.088227,
     "end_time": "2023-07-04T08:10:22.061435",
     "exception": false,
     "start_time": "2023-07-04T08:10:21.973208",
     "status": "completed"
    },
    "tags": []
   },
   "outputs": [
    {
     "name": "stdout",
     "output_type": "stream",
     "text": [
      "\u001b[1m\u001b[30mTotal number of null values in data 0\n",
      "Total number of Duplicate rows in data 719\n"
     ]
    }
   ],
   "source": [
    "print(f'{blk}Total number of null values in data {df.isna().sum().sum()}')\n",
    "print(f'Total number of Duplicate rows in data {df.duplicated().sum()}')"
   ]
  },
  {
   "cell_type": "code",
   "execution_count": 5,
   "id": "17920813",
   "metadata": {
    "execution": {
     "iopub.execute_input": "2023-07-04T08:10:22.078394Z",
     "iopub.status.busy": "2023-07-04T08:10:22.077971Z",
     "iopub.status.idle": "2023-07-04T08:10:22.114138Z",
     "shell.execute_reply": "2023-07-04T08:10:22.113074Z"
    },
    "papermill": {
     "duration": 0.047611,
     "end_time": "2023-07-04T08:10:22.116644",
     "exception": false,
     "start_time": "2023-07-04T08:10:22.069033",
     "status": "completed"
    },
    "tags": []
   },
   "outputs": [],
   "source": [
    "df.drop_duplicates(inplace = True)"
   ]
  },
  {
   "cell_type": "code",
   "execution_count": 6,
   "id": "06625211",
   "metadata": {
    "execution": {
     "iopub.execute_input": "2023-07-04T08:10:22.133119Z",
     "iopub.status.busy": "2023-07-04T08:10:22.132711Z",
     "iopub.status.idle": "2023-07-04T08:10:22.138117Z",
     "shell.execute_reply": "2023-07-04T08:10:22.137119Z"
    },
    "papermill": {
     "duration": 0.016026,
     "end_time": "2023-07-04T08:10:22.140160",
     "exception": false,
     "start_time": "2023-07-04T08:10:22.124134",
     "status": "completed"
    },
    "tags": []
   },
   "outputs": [
    {
     "name": "stdout",
     "output_type": "stream",
     "text": [
      "\u001b[1m\u001b[30mThe shape of the data (49283, 14)\n"
     ]
    }
   ],
   "source": [
    "print(f'{blk}The shape of the data {df.shape}')"
   ]
  },
  {
   "cell_type": "markdown",
   "id": "239496c8",
   "metadata": {
    "papermill": {
     "duration": 0.006983,
     "end_time": "2023-07-04T08:10:22.154558",
     "exception": false,
     "start_time": "2023-07-04T08:10:22.147575",
     "status": "completed"
    },
    "tags": []
   },
   "source": [
    "<div style=\"border-radius:10px; border:#DEB887 solid; padding: 15px; background-color: #FFFAF0; font-size:100%; text-align:left\">\n",
    "    <h1 style=\"color: green;\"><b>📈Exploratory Data Analysis</b></h1>\n",
    "    <hr style = \"height: 2px; color: black;\">"
   ]
  },
  {
   "cell_type": "code",
   "execution_count": 7,
   "id": "7c19a7c6",
   "metadata": {
    "execution": {
     "iopub.execute_input": "2023-07-04T08:10:22.170702Z",
     "iopub.status.busy": "2023-07-04T08:10:22.170288Z",
     "iopub.status.idle": "2023-07-04T08:10:22.222556Z",
     "shell.execute_reply": "2023-07-04T08:10:22.221370Z"
    },
    "papermill": {
     "duration": 0.06278,
     "end_time": "2023-07-04T08:10:22.224668",
     "exception": false,
     "start_time": "2023-07-04T08:10:22.161888",
     "status": "completed"
    },
    "tags": []
   },
   "outputs": [
    {
     "data": {
      "text/html": [
       "<div>\n",
       "<style scoped>\n",
       "    .dataframe tbody tr th:only-of-type {\n",
       "        vertical-align: middle;\n",
       "    }\n",
       "\n",
       "    .dataframe tbody tr th {\n",
       "        vertical-align: top;\n",
       "    }\n",
       "\n",
       "    .dataframe thead th {\n",
       "        text-align: right;\n",
       "    }\n",
       "</style>\n",
       "<table border=\"1\" class=\"dataframe\">\n",
       "  <thead>\n",
       "    <tr style=\"text-align: right;\">\n",
       "      <th></th>\n",
       "      <th>num_passengers</th>\n",
       "      <th>purchase_lead</th>\n",
       "      <th>length_of_stay</th>\n",
       "      <th>flight_hour</th>\n",
       "      <th>wants_extra_baggage</th>\n",
       "      <th>wants_preferred_seat</th>\n",
       "      <th>wants_in_flight_meals</th>\n",
       "      <th>flight_duration</th>\n",
       "      <th>booking_complete</th>\n",
       "    </tr>\n",
       "  </thead>\n",
       "  <tbody>\n",
       "    <tr>\n",
       "      <th>count</th>\n",
       "      <td>49283.000000</td>\n",
       "      <td>49283.000000</td>\n",
       "      <td>49283.000000</td>\n",
       "      <td>49283.000000</td>\n",
       "      <td>49283.000000</td>\n",
       "      <td>49283.000000</td>\n",
       "      <td>49283.000000</td>\n",
       "      <td>49283.000000</td>\n",
       "      <td>49283.000000</td>\n",
       "    </tr>\n",
       "    <tr>\n",
       "      <th>mean</th>\n",
       "      <td>1.590204</td>\n",
       "      <td>84.723393</td>\n",
       "      <td>23.054197</td>\n",
       "      <td>9.070613</td>\n",
       "      <td>0.668222</td>\n",
       "      <td>0.295639</td>\n",
       "      <td>0.426638</td>\n",
       "      <td>7.279937</td>\n",
       "      <td>0.149991</td>\n",
       "    </tr>\n",
       "    <tr>\n",
       "      <th>std</th>\n",
       "      <td>1.016540</td>\n",
       "      <td>90.409389</td>\n",
       "      <td>33.831644</td>\n",
       "      <td>5.413007</td>\n",
       "      <td>0.470856</td>\n",
       "      <td>0.456334</td>\n",
       "      <td>0.494594</td>\n",
       "      <td>1.496381</td>\n",
       "      <td>0.357066</td>\n",
       "    </tr>\n",
       "    <tr>\n",
       "      <th>min</th>\n",
       "      <td>1.000000</td>\n",
       "      <td>0.000000</td>\n",
       "      <td>0.000000</td>\n",
       "      <td>0.000000</td>\n",
       "      <td>0.000000</td>\n",
       "      <td>0.000000</td>\n",
       "      <td>0.000000</td>\n",
       "      <td>4.670000</td>\n",
       "      <td>0.000000</td>\n",
       "    </tr>\n",
       "    <tr>\n",
       "      <th>25%</th>\n",
       "      <td>1.000000</td>\n",
       "      <td>21.000000</td>\n",
       "      <td>5.000000</td>\n",
       "      <td>5.000000</td>\n",
       "      <td>0.000000</td>\n",
       "      <td>0.000000</td>\n",
       "      <td>0.000000</td>\n",
       "      <td>5.620000</td>\n",
       "      <td>0.000000</td>\n",
       "    </tr>\n",
       "    <tr>\n",
       "      <th>50%</th>\n",
       "      <td>1.000000</td>\n",
       "      <td>51.000000</td>\n",
       "      <td>17.000000</td>\n",
       "      <td>9.000000</td>\n",
       "      <td>1.000000</td>\n",
       "      <td>0.000000</td>\n",
       "      <td>0.000000</td>\n",
       "      <td>7.570000</td>\n",
       "      <td>0.000000</td>\n",
       "    </tr>\n",
       "    <tr>\n",
       "      <th>75%</th>\n",
       "      <td>2.000000</td>\n",
       "      <td>115.000000</td>\n",
       "      <td>28.000000</td>\n",
       "      <td>13.000000</td>\n",
       "      <td>1.000000</td>\n",
       "      <td>1.000000</td>\n",
       "      <td>1.000000</td>\n",
       "      <td>8.830000</td>\n",
       "      <td>0.000000</td>\n",
       "    </tr>\n",
       "    <tr>\n",
       "      <th>max</th>\n",
       "      <td>9.000000</td>\n",
       "      <td>867.000000</td>\n",
       "      <td>778.000000</td>\n",
       "      <td>23.000000</td>\n",
       "      <td>1.000000</td>\n",
       "      <td>1.000000</td>\n",
       "      <td>1.000000</td>\n",
       "      <td>9.500000</td>\n",
       "      <td>1.000000</td>\n",
       "    </tr>\n",
       "  </tbody>\n",
       "</table>\n",
       "</div>"
      ],
      "text/plain": [
       "       num_passengers  purchase_lead  length_of_stay   flight_hour  \\\n",
       "count    49283.000000   49283.000000    49283.000000  49283.000000   \n",
       "mean         1.590204      84.723393       23.054197      9.070613   \n",
       "std          1.016540      90.409389       33.831644      5.413007   \n",
       "min          1.000000       0.000000        0.000000      0.000000   \n",
       "25%          1.000000      21.000000        5.000000      5.000000   \n",
       "50%          1.000000      51.000000       17.000000      9.000000   \n",
       "75%          2.000000     115.000000       28.000000     13.000000   \n",
       "max          9.000000     867.000000      778.000000     23.000000   \n",
       "\n",
       "       wants_extra_baggage  wants_preferred_seat  wants_in_flight_meals  \\\n",
       "count         49283.000000          49283.000000           49283.000000   \n",
       "mean              0.668222              0.295639               0.426638   \n",
       "std               0.470856              0.456334               0.494594   \n",
       "min               0.000000              0.000000               0.000000   \n",
       "25%               0.000000              0.000000               0.000000   \n",
       "50%               1.000000              0.000000               0.000000   \n",
       "75%               1.000000              1.000000               1.000000   \n",
       "max               1.000000              1.000000               1.000000   \n",
       "\n",
       "       flight_duration  booking_complete  \n",
       "count     49283.000000      49283.000000  \n",
       "mean          7.279937          0.149991  \n",
       "std           1.496381          0.357066  \n",
       "min           4.670000          0.000000  \n",
       "25%           5.620000          0.000000  \n",
       "50%           7.570000          0.000000  \n",
       "75%           8.830000          0.000000  \n",
       "max           9.500000          1.000000  "
      ]
     },
     "execution_count": 7,
     "metadata": {},
     "output_type": "execute_result"
    }
   ],
   "source": [
    "df.describe()"
   ]
  },
  {
   "cell_type": "code",
   "execution_count": 8,
   "id": "2caa6fa1",
   "metadata": {
    "execution": {
     "iopub.execute_input": "2023-07-04T08:10:22.242178Z",
     "iopub.status.busy": "2023-07-04T08:10:22.241210Z",
     "iopub.status.idle": "2023-07-04T08:10:22.295524Z",
     "shell.execute_reply": "2023-07-04T08:10:22.293821Z"
    },
    "papermill": {
     "duration": 0.065689,
     "end_time": "2023-07-04T08:10:22.298082",
     "exception": false,
     "start_time": "2023-07-04T08:10:22.232393",
     "status": "completed"
    },
    "tags": []
   },
   "outputs": [
    {
     "name": "stdout",
     "output_type": "stream",
     "text": [
      "<class 'pandas.core.frame.DataFrame'>\n",
      "Int64Index: 49283 entries, 0 to 50001\n",
      "Data columns (total 14 columns):\n",
      " #   Column                 Non-Null Count  Dtype  \n",
      "---  ------                 --------------  -----  \n",
      " 0   num_passengers         49283 non-null  int64  \n",
      " 1   sales_channel          49283 non-null  object \n",
      " 2   trip_type              49283 non-null  object \n",
      " 3   purchase_lead          49283 non-null  int64  \n",
      " 4   length_of_stay         49283 non-null  int64  \n",
      " 5   flight_hour            49283 non-null  int64  \n",
      " 6   flight_day             49283 non-null  object \n",
      " 7   route                  49283 non-null  object \n",
      " 8   booking_origin         49283 non-null  object \n",
      " 9   wants_extra_baggage    49283 non-null  int64  \n",
      " 10  wants_preferred_seat   49283 non-null  int64  \n",
      " 11  wants_in_flight_meals  49283 non-null  int64  \n",
      " 12  flight_duration        49283 non-null  float64\n",
      " 13  booking_complete       49283 non-null  int64  \n",
      "dtypes: float64(1), int64(8), object(5)\n",
      "memory usage: 5.6+ MB\n"
     ]
    }
   ],
   "source": [
    "df.info()"
   ]
  },
  {
   "cell_type": "markdown",
   "id": "723131d8",
   "metadata": {
    "papermill": {
     "duration": 0.007407,
     "end_time": "2023-07-04T08:10:22.313242",
     "exception": false,
     "start_time": "2023-07-04T08:10:22.305835",
     "status": "completed"
    },
    "tags": []
   },
   "source": [
    "<div style=\"border-radius:10px; border:#DEB887 solid; padding: 15px; background-color: #FFFAF0; font-size:100%; text-align:left\">\n",
    "    <h1 style=\"color: green;\"><b>💡About the DataSet</b></h1>\n",
    "    <hr style = \"height: 2px; color: black;\">\n",
    "  <ul>\n",
    "    <li><b>Data Size</b>: The dataset contains 49283 rows and 14 columns.</li>\n",
    "    <li><b>Data Types</b>: The data contains features with data types int64, Object, Binary and float64.</li>\n",
    "    <li><b>Missing Values</b>: No column has missing values in the dataset, which is a great sign and simplifies the data cleaning process.</li>\n",
    "    <li><b>Unique Values</b>: The number of unique values varies among features.</li>\n",
    "    <li><b>Statistical Details</b>: The 'min', 'max', 'average', and 'standard deviation' values indicate the range and dispersion of data for each column, highlighting potential outliers or anomalies.</li>\n",
    "    <li><b>Irrelevant Features</b>: All the Features seems important and useful for final evaluation.</li>\n",
    "</ul>"
   ]
  },
  {
   "cell_type": "code",
   "execution_count": 9,
   "id": "0a729374",
   "metadata": {
    "execution": {
     "iopub.execute_input": "2023-07-04T08:10:22.330501Z",
     "iopub.status.busy": "2023-07-04T08:10:22.330111Z",
     "iopub.status.idle": "2023-07-04T08:10:23.055545Z",
     "shell.execute_reply": "2023-07-04T08:10:23.054307Z"
    },
    "papermill": {
     "duration": 0.736982,
     "end_time": "2023-07-04T08:10:23.058006",
     "exception": false,
     "start_time": "2023-07-04T08:10:22.321024",
     "status": "completed"
    },
    "tags": []
   },
   "outputs": [],
   "source": [
    "import seaborn as sns\n",
    "import matplotlib.pyplot as plt\n",
    "import plotly.express as px\n",
    "\n",
    "rc = {\n",
    "    \"axes.facecolor\": \"#FFF9ED\",\n",
    "    \"figure.facecolor\": \"#FFF9ED\",\n",
    "    \"axes.edgecolor\": \"#000000\",\n",
    "    \"grid.color\": \"#EBEBE7\",\n",
    "    \"font.family\": \"serif\",\n",
    "    \"axes.labelcolor\": \"#000000\",\n",
    "    \"xtick.color\": \"#000000\",\n",
    "    \"ytick.color\": \"#000000\",\n",
    "    \"grid.alpha\": 0.4\n",
    "}\n",
    "sns.set(rc = rc)\n",
    "\n",
    "palette_color = sns.color_palette('dark')\n",
    "palette1 = ['dimgrey','crimson']\n",
    "palette2 = ['crimson', 'dimgrey']\n",
    "palette3 = ['darkgreen', 'orange']\n",
    "palette4 = ['salmon','mediumseagreen']\n",
    "palette5 = ['mediumseagreen','salmon']"
   ]
  },
  {
   "cell_type": "markdown",
   "id": "19d94018",
   "metadata": {
    "papermill": {
     "duration": 0.007798,
     "end_time": "2023-07-04T08:10:23.073713",
     "exception": false,
     "start_time": "2023-07-04T08:10:23.065915",
     "status": "completed"
    },
    "tags": []
   },
   "source": [
    "<div style=\"border-radius:10px; border:#DEB887 solid; padding: 15px; background-color: #FFFAF0; font-size:100%; text-align:left\">\n",
    "    <h3 style=\"color: #DEB887;\"><b>Booking complete</b></h3>"
   ]
  },
  {
   "cell_type": "code",
   "execution_count": 10,
   "id": "e1d644aa",
   "metadata": {
    "execution": {
     "iopub.execute_input": "2023-07-04T08:10:23.091202Z",
     "iopub.status.busy": "2023-07-04T08:10:23.090799Z",
     "iopub.status.idle": "2023-07-04T08:10:23.331647Z",
     "shell.execute_reply": "2023-07-04T08:10:23.330296Z"
    },
    "papermill": {
     "duration": 0.25413,
     "end_time": "2023-07-04T08:10:23.335765",
     "exception": false,
     "start_time": "2023-07-04T08:10:23.081635",
     "status": "completed"
    },
    "tags": []
   },
   "outputs": [
    {
     "data": {
      "text/plain": [
       "<Axes: ylabel='booking_complete'>"
      ]
     },
     "execution_count": 10,
     "metadata": {},
     "output_type": "execute_result"
    },
    {
     "data": {
      "image/png": "[encoded data removed]",
      "text/plain": [
       "<Figure size 1100x500 with 1 Axes>"
      ]
     },
     "metadata": {},
     "output_type": "display_data"
    }
   ],
   "source": [
    "plt.figure(figsize = (11,5))\n",
    "plt.subplot(1,2,1)\n",
    "df['booking_complete'].value_counts().plot(kind = 'pie', autopct = '%.2f%%', colors = palette5, \n",
    "                                     explode = [0, 0.1])"
   ]
  },
  {
   "cell_type": "code",
   "execution_count": 11,
   "id": "c2522f17",
   "metadata": {
    "execution": {
     "iopub.execute_input": "2023-07-04T08:10:23.367285Z",
     "iopub.status.busy": "2023-07-04T08:10:23.366189Z",
     "iopub.status.idle": "2023-07-04T08:10:24.050414Z",
     "shell.execute_reply": "2023-07-04T08:10:24.049146Z"
    },
    "papermill": {
     "duration": 0.702371,
     "end_time": "2023-07-04T08:10:24.052720",
     "exception": false,
     "start_time": "2023-07-04T08:10:23.350349",
     "status": "completed"
    },
    "tags": []
   },
   "outputs": [
    {
     "data": {
      "image/png": "[encoded data removed]",
      "text/plain": [
       "<Figure size 1100x400 with 2 Axes>"
      ]
     },
     "metadata": {},
     "output_type": "display_data"
    }
   ],
   "source": [
    "plt.figure(figsize = (11,4))\n",
    "plt.subplot(121)\n",
    "sns.countplot(data = df, x = 'num_passengers', hue = 'booking_complete', palette = palette4)\n",
    "plt.subplot(122)\n",
    "sns.countplot(data = df, x = 'sales_channel', palette = palette4, hue = 'booking_complete')\n",
    "plt.subplots_adjust(wspace=0.25)"
   ]
  },
  {
   "cell_type": "code",
   "execution_count": 12,
   "id": "c509083f",
   "metadata": {
    "execution": {
     "iopub.execute_input": "2023-07-04T08:10:24.072583Z",
     "iopub.status.busy": "2023-07-04T08:10:24.072160Z",
     "iopub.status.idle": "2023-07-04T08:10:24.639172Z",
     "shell.execute_reply": "2023-07-04T08:10:24.637870Z"
    },
    "papermill": {
     "duration": 0.57987,
     "end_time": "2023-07-04T08:10:24.641721",
     "exception": false,
     "start_time": "2023-07-04T08:10:24.061851",
     "status": "completed"
    },
    "tags": []
   },
   "outputs": [
    {
     "data": {
      "image/png": "[encoded data removed]",
      "text/plain": [
       "<Figure size 1100x900 with 1 Axes>"
      ]
     },
     "metadata": {},
     "output_type": "display_data"
    }
   ],
   "source": [
    "plt.figure(figsize = (11,9))\n",
    "country_counts = df.booking_origin.value_counts()\n",
    "top_origin = country_counts.head(20)\n",
    "other_count = country_counts.iloc[20:].sum()\n",
    "\n",
    "temp = pd.DataFrame({\n",
    "    'Country': top_origin.index,\n",
    "    'Count': top_origin.values\n",
    "})\n",
    "other_data = pd.DataFrame({\n",
    "    'Country': ['Other'],\n",
    "    'Count': [other_count]\n",
    "})\n",
    "temp = pd.concat([temp, other_data], axis = 0)\n",
    "\n",
    "sns.barplot(x='Count', y='Country', data=temp, palette = 'rocket')\n",
    "# plt.xticks(rotation = 90)\n",
    "del temp"
   ]
  },
  {
   "cell_type": "code",
   "execution_count": 13,
   "id": "3c1e949c",
   "metadata": {
    "execution": {
     "iopub.execute_input": "2023-07-04T08:10:24.663299Z",
     "iopub.status.busy": "2023-07-04T08:10:24.662906Z",
     "iopub.status.idle": "2023-07-04T08:10:25.080820Z",
     "shell.execute_reply": "2023-07-04T08:10:25.079644Z"
    },
    "papermill": {
     "duration": 0.43141,
     "end_time": "2023-07-04T08:10:25.083157",
     "exception": false,
     "start_time": "2023-07-04T08:10:24.651747",
     "status": "completed"
    },
    "tags": []
   },
   "outputs": [
    {
     "data": {
      "text/plain": [
       "<Axes: xlabel='flight_day', ylabel='count'>"
      ]
     },
     "execution_count": 13,
     "metadata": {},
     "output_type": "execute_result"
    },
    {
     "data": {
      "image/png": "[encoded data removed]",
      "text/plain": [
       "<Figure size 900x400 with 1 Axes>"
      ]
     },
     "metadata": {},
     "output_type": "display_data"
    }
   ],
   "source": [
    "plt.figure(figsize = (9,4))\n",
    "sns.countplot(data = df, x ='flight_day', hue = 'booking_complete', palette = palette2)"
   ]
  },
  {
   "cell_type": "code",
   "execution_count": 14,
   "id": "33c7861a",
   "metadata": {
    "execution": {
     "iopub.execute_input": "2023-07-04T08:10:25.106562Z",
     "iopub.status.busy": "2023-07-04T08:10:25.106125Z",
     "iopub.status.idle": "2023-07-04T08:10:25.466866Z",
     "shell.execute_reply": "2023-07-04T08:10:25.465835Z"
    },
    "papermill": {
     "duration": 0.375622,
     "end_time": "2023-07-04T08:10:25.469666",
     "exception": false,
     "start_time": "2023-07-04T08:10:25.094044",
     "status": "completed"
    },
    "tags": []
   },
   "outputs": [
    {
     "data": {
      "image/png": "[encoded data removed]",
      "text/plain": [
       "<Figure size 1300x700 with 3 Axes>"
      ]
     },
     "metadata": {},
     "output_type": "display_data"
    }
   ],
   "source": [
    "plt.figure(figsize = (13, 7))\n",
    "binary_cols = ['wants_extra_baggage', 'wants_preferred_seat','wants_in_flight_meals']\n",
    "for i, col in enumerate(binary_cols):\n",
    "    plt.subplot(1,3,i+1)\n",
    "    df[col].value_counts().plot(kind = 'pie', autopct = '%.2f%%', explode = [0, 0.05], colors = palette5)"
   ]
  },
  {
   "cell_type": "code",
   "execution_count": 15,
   "id": "31df61a5",
   "metadata": {
    "execution": {
     "iopub.execute_input": "2023-07-04T08:10:25.494519Z",
     "iopub.status.busy": "2023-07-04T08:10:25.494088Z",
     "iopub.status.idle": "2023-07-04T08:10:25.982972Z",
     "shell.execute_reply": "2023-07-04T08:10:25.981985Z"
    },
    "papermill": {
     "duration": 0.50398,
     "end_time": "2023-07-04T08:10:25.985188",
     "exception": false,
     "start_time": "2023-07-04T08:10:25.481208",
     "status": "completed"
    },
    "tags": []
   },
   "outputs": [
    {
     "data": {
      "text/plain": [
       "<Axes: ylabel='purchase_lead'>"
      ]
     },
     "execution_count": 15,
     "metadata": {},
     "output_type": "execute_result"
    },
    {
     "data": {
      "image/png": "[encoded data removed]",
      "text/plain": [
       "<Figure size 1100x600 with 1 Axes>"
      ]
     },
     "metadata": {},
     "output_type": "display_data"
    }
   ],
   "source": [
    "plt.figure(figsize = (11,6))\n",
    "temp = df.purchase_lead.value_counts().head(15)\n",
    "sns.barplot(data = temp, x = temp.values, y = temp.index, palette = 'rocket')"
   ]
  },
  {
   "cell_type": "markdown",
   "id": "2142d3d9",
   "metadata": {
    "papermill": {
     "duration": 0.011634,
     "end_time": "2023-07-04T08:10:26.008810",
     "exception": false,
     "start_time": "2023-07-04T08:10:25.997176",
     "status": "completed"
    },
    "tags": []
   },
   "source": [
    "<div style=\"border-radius:10px; border:#DEB887 solid; padding: 15px; background-color: #FFFAF0; font-size:100%; text-align:left\">\n",
    "    <h1 style=\"color: green;\"><b>📦Processing</b></h1>\n",
    "    <hr style = \"height: 2px; color: black;\">"
   ]
  },
  {
   "cell_type": "code",
   "execution_count": 9,
   "id": "61a0a7a0",
   "metadata": {
    "execution": {
     "iopub.execute_input": "2023-07-04T08:10:26.034254Z",
     "iopub.status.busy": "2023-07-04T08:10:26.033863Z",
     "iopub.status.idle": "2023-07-04T08:10:26.106836Z",
     "shell.execute_reply": "2023-07-04T08:10:26.105650Z"
    },
    "papermill": {
     "duration": 0.088474,
     "end_time": "2023-07-04T08:10:26.109368",
     "exception": false,
     "start_time": "2023-07-04T08:10:26.020894",
     "status": "completed"
    },
    "tags": []
   },
   "outputs": [],
   "source": [
    "df = pd.get_dummies(df, columns = ['sales_channel','trip_type','flight_day','booking_origin'], drop_first = True)"
   ]
  },
  {
   "cell_type": "code",
   "execution_count": 10,
   "id": "9a214a2c",
   "metadata": {
    "execution": {
     "iopub.execute_input": "2023-07-04T08:10:26.135503Z",
     "iopub.status.busy": "2023-07-04T08:10:26.135090Z",
     "iopub.status.idle": "2023-07-04T08:10:26.148752Z",
     "shell.execute_reply": "2023-07-04T08:10:26.147975Z"
    },
    "papermill": {
     "duration": 0.02953,
     "end_time": "2023-07-04T08:10:26.151065",
     "exception": false,
     "start_time": "2023-07-04T08:10:26.121535",
     "status": "completed"
    },
    "tags": []
   },
   "outputs": [],
   "source": [
    "df.drop(['purchase_lead','route'], axis = 1, inplace = True)"
   ]
  },
  {
   "cell_type": "code",
   "execution_count": 11,
   "id": "3a02dfd8",
   "metadata": {
    "execution": {
     "iopub.execute_input": "2023-07-04T08:10:26.177477Z",
     "iopub.status.busy": "2023-07-04T08:10:26.176580Z",
     "iopub.status.idle": "2023-07-04T08:10:26.200597Z",
     "shell.execute_reply": "2023-07-04T08:10:26.199502Z"
    },
    "papermill": {
     "duration": 0.039992,
     "end_time": "2023-07-04T08:10:26.203096",
     "exception": false,
     "start_time": "2023-07-04T08:10:26.163104",
     "status": "completed"
    },
    "tags": []
   },
   "outputs": [],
   "source": [
    "num_cols = ['num_passengers', 'length_of_stay', 'flight_hour', 'flight_duration']\n",
    "scaler = StandardScaler()\n",
    "df[num_cols] = scaler.fit_transform(df[num_cols])"
   ]
  },
  {
   "cell_type": "code",
   "execution_count": 19,
   "id": "3ebe7843",
   "metadata": {
    "execution": {
     "iopub.execute_input": "2023-07-04T08:10:26.229530Z",
     "iopub.status.busy": "2023-07-04T08:10:26.229133Z",
     "iopub.status.idle": "2023-07-04T08:10:26.570359Z",
     "shell.execute_reply": "2023-07-04T08:10:26.569252Z"
    },
    "papermill": {
     "duration": 0.357215,
     "end_time": "2023-07-04T08:10:26.572704",
     "exception": false,
     "start_time": "2023-07-04T08:10:26.215489",
     "status": "completed"
    },
    "tags": []
   },
   "outputs": [
    {
     "data": {
      "text/html": [
       "<div>\n",
       "<style scoped>\n",
       "    .dataframe tbody tr th:only-of-type {\n",
       "        vertical-align: middle;\n",
       "    }\n",
       "\n",
       "    .dataframe tbody tr th {\n",
       "        vertical-align: top;\n",
       "    }\n",
       "\n",
       "    .dataframe thead th {\n",
       "        text-align: right;\n",
       "    }\n",
       "</style>\n",
       "<table border=\"1\" class=\"dataframe\">\n",
       "  <thead>\n",
       "    <tr style=\"text-align: right;\">\n",
       "      <th></th>\n",
       "      <th>num_passengers</th>\n",
       "      <th>length_of_stay</th>\n",
       "      <th>flight_hour</th>\n",
       "      <th>wants_extra_baggage</th>\n",
       "      <th>wants_preferred_seat</th>\n",
       "      <th>wants_in_flight_meals</th>\n",
       "      <th>flight_duration</th>\n",
       "      <th>booking_complete</th>\n",
       "      <th>sales_channel_Mobile</th>\n",
       "      <th>trip_type_OneWay</th>\n",
       "      <th>...</th>\n",
       "      <th>booking_origin_Timor-Leste</th>\n",
       "      <th>booking_origin_Tonga</th>\n",
       "      <th>booking_origin_Tunisia</th>\n",
       "      <th>booking_origin_Turkey</th>\n",
       "      <th>booking_origin_Ukraine</th>\n",
       "      <th>booking_origin_United Arab Emirates</th>\n",
       "      <th>booking_origin_United Kingdom</th>\n",
       "      <th>booking_origin_United States</th>\n",
       "      <th>booking_origin_Vanuatu</th>\n",
       "      <th>booking_origin_Vietnam</th>\n",
       "    </tr>\n",
       "  </thead>\n",
       "  <tbody>\n",
       "    <tr>\n",
       "      <th>count</th>\n",
       "      <td>4.928300e+04</td>\n",
       "      <td>4.928300e+04</td>\n",
       "      <td>4.928300e+04</td>\n",
       "      <td>49283.000000</td>\n",
       "      <td>49283.000000</td>\n",
       "      <td>49283.000000</td>\n",
       "      <td>4.928300e+04</td>\n",
       "      <td>49283.000000</td>\n",
       "      <td>49283.000000</td>\n",
       "      <td>49283.000000</td>\n",
       "      <td>...</td>\n",
       "      <td>49283.000000</td>\n",
       "      <td>49283.000000</td>\n",
       "      <td>49283.000000</td>\n",
       "      <td>49283.000000</td>\n",
       "      <td>49283.000000</td>\n",
       "      <td>49283.000000</td>\n",
       "      <td>49283.000000</td>\n",
       "      <td>49283.000000</td>\n",
       "      <td>49283.000000</td>\n",
       "      <td>49283.000000</td>\n",
       "    </tr>\n",
       "    <tr>\n",
       "      <th>mean</th>\n",
       "      <td>1.499431e-17</td>\n",
       "      <td>-4.267611e-17</td>\n",
       "      <td>-2.624004e-17</td>\n",
       "      <td>0.668222</td>\n",
       "      <td>0.295639</td>\n",
       "      <td>0.426638</td>\n",
       "      <td>1.077283e-15</td>\n",
       "      <td>0.149991</td>\n",
       "      <td>0.108861</td>\n",
       "      <td>0.007832</td>\n",
       "      <td>...</td>\n",
       "      <td>0.000041</td>\n",
       "      <td>0.000020</td>\n",
       "      <td>0.000041</td>\n",
       "      <td>0.000183</td>\n",
       "      <td>0.000101</td>\n",
       "      <td>0.000852</td>\n",
       "      <td>0.003510</td>\n",
       "      <td>0.009192</td>\n",
       "      <td>0.000020</td>\n",
       "      <td>0.007832</td>\n",
       "    </tr>\n",
       "    <tr>\n",
       "      <th>std</th>\n",
       "      <td>1.000010e+00</td>\n",
       "      <td>1.000010e+00</td>\n",
       "      <td>1.000010e+00</td>\n",
       "      <td>0.470856</td>\n",
       "      <td>0.456334</td>\n",
       "      <td>0.494594</td>\n",
       "      <td>1.000010e+00</td>\n",
       "      <td>0.357066</td>\n",
       "      <td>0.311468</td>\n",
       "      <td>0.088154</td>\n",
       "      <td>...</td>\n",
       "      <td>0.006370</td>\n",
       "      <td>0.004505</td>\n",
       "      <td>0.006370</td>\n",
       "      <td>0.013513</td>\n",
       "      <td>0.010072</td>\n",
       "      <td>0.029181</td>\n",
       "      <td>0.059145</td>\n",
       "      <td>0.095433</td>\n",
       "      <td>0.004505</td>\n",
       "      <td>0.088154</td>\n",
       "    </tr>\n",
       "    <tr>\n",
       "      <th>min</th>\n",
       "      <td>-5.806062e-01</td>\n",
       "      <td>-6.814458e-01</td>\n",
       "      <td>-1.675724e+00</td>\n",
       "      <td>0.000000</td>\n",
       "      <td>0.000000</td>\n",
       "      <td>0.000000</td>\n",
       "      <td>-1.744184e+00</td>\n",
       "      <td>0.000000</td>\n",
       "      <td>0.000000</td>\n",
       "      <td>0.000000</td>\n",
       "      <td>...</td>\n",
       "      <td>0.000000</td>\n",
       "      <td>0.000000</td>\n",
       "      <td>0.000000</td>\n",
       "      <td>0.000000</td>\n",
       "      <td>0.000000</td>\n",
       "      <td>0.000000</td>\n",
       "      <td>0.000000</td>\n",
       "      <td>0.000000</td>\n",
       "      <td>0.000000</td>\n",
       "      <td>0.000000</td>\n",
       "    </tr>\n",
       "    <tr>\n",
       "      <th>25%</th>\n",
       "      <td>-5.806062e-01</td>\n",
       "      <td>-5.336537e-01</td>\n",
       "      <td>-7.520134e-01</td>\n",
       "      <td>0.000000</td>\n",
       "      <td>0.000000</td>\n",
       "      <td>0.000000</td>\n",
       "      <td>-1.109312e+00</td>\n",
       "      <td>0.000000</td>\n",
       "      <td>0.000000</td>\n",
       "      <td>0.000000</td>\n",
       "      <td>...</td>\n",
       "      <td>0.000000</td>\n",
       "      <td>0.000000</td>\n",
       "      <td>0.000000</td>\n",
       "      <td>0.000000</td>\n",
       "      <td>0.000000</td>\n",
       "      <td>0.000000</td>\n",
       "      <td>0.000000</td>\n",
       "      <td>0.000000</td>\n",
       "      <td>0.000000</td>\n",
       "      <td>0.000000</td>\n",
       "    </tr>\n",
       "    <tr>\n",
       "      <th>50%</th>\n",
       "      <td>-5.806062e-01</td>\n",
       "      <td>-1.789525e-01</td>\n",
       "      <td>-1.304512e-02</td>\n",
       "      <td>1.000000</td>\n",
       "      <td>0.000000</td>\n",
       "      <td>0.000000</td>\n",
       "      <td>1.938452e-01</td>\n",
       "      <td>0.000000</td>\n",
       "      <td>0.000000</td>\n",
       "      <td>0.000000</td>\n",
       "      <td>...</td>\n",
       "      <td>0.000000</td>\n",
       "      <td>0.000000</td>\n",
       "      <td>0.000000</td>\n",
       "      <td>0.000000</td>\n",
       "      <td>0.000000</td>\n",
       "      <td>0.000000</td>\n",
       "      <td>0.000000</td>\n",
       "      <td>0.000000</td>\n",
       "      <td>0.000000</td>\n",
       "      <td>0.000000</td>\n",
       "    </tr>\n",
       "    <tr>\n",
       "      <th>75%</th>\n",
       "      <td>4.031327e-01</td>\n",
       "      <td>1.461901e-01</td>\n",
       "      <td>7.259232e-01</td>\n",
       "      <td>1.000000</td>\n",
       "      <td>1.000000</td>\n",
       "      <td>1.000000</td>\n",
       "      <td>1.035886e+00</td>\n",
       "      <td>0.000000</td>\n",
       "      <td>0.000000</td>\n",
       "      <td>0.000000</td>\n",
       "      <td>...</td>\n",
       "      <td>0.000000</td>\n",
       "      <td>0.000000</td>\n",
       "      <td>0.000000</td>\n",
       "      <td>0.000000</td>\n",
       "      <td>0.000000</td>\n",
       "      <td>0.000000</td>\n",
       "      <td>0.000000</td>\n",
       "      <td>0.000000</td>\n",
       "      <td>0.000000</td>\n",
       "      <td>0.000000</td>\n",
       "    </tr>\n",
       "    <tr>\n",
       "      <th>max</th>\n",
       "      <td>7.289305e+00</td>\n",
       "      <td>2.231501e+01</td>\n",
       "      <td>2.573344e+00</td>\n",
       "      <td>1.000000</td>\n",
       "      <td>1.000000</td>\n",
       "      <td>1.000000</td>\n",
       "      <td>1.483637e+00</td>\n",
       "      <td>1.000000</td>\n",
       "      <td>1.000000</td>\n",
       "      <td>1.000000</td>\n",
       "      <td>...</td>\n",
       "      <td>1.000000</td>\n",
       "      <td>1.000000</td>\n",
       "      <td>1.000000</td>\n",
       "      <td>1.000000</td>\n",
       "      <td>1.000000</td>\n",
       "      <td>1.000000</td>\n",
       "      <td>1.000000</td>\n",
       "      <td>1.000000</td>\n",
       "      <td>1.000000</td>\n",
       "      <td>1.000000</td>\n",
       "    </tr>\n",
       "  </tbody>\n",
       "</table>\n",
       "<p>8 rows × 120 columns</p>\n",
       "</div>"
      ],
      "text/plain": [
       "       num_passengers  length_of_stay   flight_hour  wants_extra_baggage  \\\n",
       "count    4.928300e+04    4.928300e+04  4.928300e+04         49283.000000   \n",
       "mean     1.499431e-17   -4.267611e-17 -2.624004e-17             0.668222   \n",
       "std      1.000010e+00    1.000010e+00  1.000010e+00             0.470856   \n",
       "min     -5.806062e-01   -6.814458e-01 -1.675724e+00             0.000000   \n",
       "25%     -5.806062e-01   -5.336537e-01 -7.520134e-01             0.000000   \n",
       "50%     -5.806062e-01   -1.789525e-01 -1.304512e-02             1.000000   \n",
       "75%      4.031327e-01    1.461901e-01  7.259232e-01             1.000000   \n",
       "max      7.289305e+00    2.231501e+01  2.573344e+00             1.000000   \n",
       "\n",
       "       wants_preferred_seat  wants_in_flight_meals  flight_duration  \\\n",
       "count          49283.000000           49283.000000     4.928300e+04   \n",
       "mean               0.295639               0.426638     1.077283e-15   \n",
       "std                0.456334               0.494594     1.000010e+00   \n",
       "min                0.000000               0.000000    -1.744184e+00   \n",
       "25%                0.000000               0.000000    -1.109312e+00   \n",
       "50%                0.000000               0.000000     1.938452e-01   \n",
       "75%                1.000000               1.000000     1.035886e+00   \n",
       "max                1.000000               1.000000     1.483637e+00   \n",
       "\n",
       "       booking_complete  sales_channel_Mobile  trip_type_OneWay  ...  \\\n",
       "count      49283.000000          49283.000000      49283.000000  ...   \n",
       "mean           0.149991              0.108861          0.007832  ...   \n",
       "std            0.357066              0.311468          0.088154  ...   \n",
       "min            0.000000              0.000000          0.000000  ...   \n",
       "25%            0.000000              0.000000          0.000000  ...   \n",
       "50%            0.000000              0.000000          0.000000  ...   \n",
       "75%            0.000000              0.000000          0.000000  ...   \n",
       "max            1.000000              1.000000          1.000000  ...   \n",
       "\n",
       "       booking_origin_Timor-Leste  booking_origin_Tonga  \\\n",
       "count                49283.000000          49283.000000   \n",
       "mean                     0.000041              0.000020   \n",
       "std                      0.006370              0.004505   \n",
       "min                      0.000000              0.000000   \n",
       "25%                      0.000000              0.000000   \n",
       "50%                      0.000000              0.000000   \n",
       "75%                      0.000000              0.000000   \n",
       "max                      1.000000              1.000000   \n",
       "\n",
       "       booking_origin_Tunisia  booking_origin_Turkey  booking_origin_Ukraine  \\\n",
       "count            49283.000000           49283.000000            49283.000000   \n",
       "mean                 0.000041               0.000183                0.000101   \n",
       "std                  0.006370               0.013513                0.010072   \n",
       "min                  0.000000               0.000000                0.000000   \n",
       "25%                  0.000000               0.000000                0.000000   \n",
       "50%                  0.000000               0.000000                0.000000   \n",
       "75%                  0.000000               0.000000                0.000000   \n",
       "max                  1.000000               1.000000                1.000000   \n",
       "\n",
       "       booking_origin_United Arab Emirates  booking_origin_United Kingdom  \\\n",
       "count                         49283.000000                   49283.000000   \n",
       "mean                              0.000852                       0.003510   \n",
       "std                               0.029181                       0.059145   \n",
       "min                               0.000000                       0.000000   \n",
       "25%                               0.000000                       0.000000   \n",
       "50%                               0.000000                       0.000000   \n",
       "75%                               0.000000                       0.000000   \n",
       "max                               1.000000                       1.000000   \n",
       "\n",
       "       booking_origin_United States  booking_origin_Vanuatu  \\\n",
       "count                  49283.000000            49283.000000   \n",
       "mean                       0.009192                0.000020   \n",
       "std                        0.095433                0.004505   \n",
       "min                        0.000000                0.000000   \n",
       "25%                        0.000000                0.000000   \n",
       "50%                        0.000000                0.000000   \n",
       "75%                        0.000000                0.000000   \n",
       "max                        1.000000                1.000000   \n",
       "\n",
       "       booking_origin_Vietnam  \n",
       "count            49283.000000  \n",
       "mean                 0.007832  \n",
       "std                  0.088154  \n",
       "min                  0.000000  \n",
       "25%                  0.000000  \n",
       "50%                  0.000000  \n",
       "75%                  0.000000  \n",
       "max                  1.000000  \n",
       "\n",
       "[8 rows x 120 columns]"
      ]
     },
     "execution_count": 19,
     "metadata": {},
     "output_type": "execute_result"
    }
   ],
   "source": [
    "df.describe()"
   ]
  },
  {
   "cell_type": "markdown",
   "id": "ee4c24bc",
   "metadata": {
    "papermill": {
     "duration": 0.012218,
     "end_time": "2023-07-04T08:10:26.597636",
     "exception": false,
     "start_time": "2023-07-04T08:10:26.585418",
     "status": "completed"
    },
    "tags": []
   },
   "source": [
    "<div style=\"border-radius:10px; border:#DEB887 solid; padding: 15px; background-color: #FFFAF0; font-size:100%; text-align:left\">\n",
    "    <h2 style=\"color : green\"><b>💡Insights of EDA</b></h2>\n",
    "    <hr style = \"height: 2px; color: black;\">\n",
    "    <ul>\n",
    "        <li> Their are lot of features, we have to being selective and creative due to correlation of features and we can also create some new and more useful features</li>\n",
    "        <li>Majority of customers wants extra baggage, improving this area could result in better experience for customers.</li>\n",
    "        <li>Scaling is required</li>\n",
    "        <li>High percentage of the customers haven't completed the booking which is not a good sign for the Airline.</li>\n",
    "        <li>Features like booking_origin have high number of catgory variables, they need a proper treatment.</li>\n",
    "    </ul>\n",
    "    </div>"
   ]
  },
  {
   "cell_type": "markdown",
   "id": "97a7bc20",
   "metadata": {
    "papermill": {
     "duration": 0.012524,
     "end_time": "2023-07-04T08:10:26.622617",
     "exception": false,
     "start_time": "2023-07-04T08:10:26.610093",
     "status": "completed"
    },
    "tags": []
   },
   "source": [
    "<div style=\"border-radius:10px; border:#DEB887 solid; padding: 15px; background-color: #FFFAF0; font-size:100%; text-align:left\">\n",
    "    <h1 style=\"color: green;\"><b>🤖Model Training</b></h1>\n",
    "    <hr style = \"height: 2px; color: black;\">"
   ]
  },
  {
   "cell_type": "code",
   "execution_count": 12,
   "id": "85d7ebc2",
   "metadata": {
    "execution": {
     "iopub.execute_input": "2023-07-04T08:10:26.649924Z",
     "iopub.status.busy": "2023-07-04T08:10:26.649151Z",
     "iopub.status.idle": "2023-07-04T08:10:26.662292Z",
     "shell.execute_reply": "2023-07-04T08:10:26.661163Z"
    },
    "papermill": {
     "duration": 0.029635,
     "end_time": "2023-07-04T08:10:26.664728",
     "exception": false,
     "start_time": "2023-07-04T08:10:26.635093",
     "status": "completed"
    },
    "tags": []
   },
   "outputs": [],
   "source": [
    "X = df.drop('booking_complete', axis = 1)\n",
    "y = df['booking_complete']"
   ]
  },
  {
   "cell_type": "code",
   "execution_count": 13,
   "id": "e77c07ab",
   "metadata": {
    "execution": {
     "iopub.execute_input": "2023-07-04T08:10:26.691938Z",
     "iopub.status.busy": "2023-07-04T08:10:26.691541Z",
     "iopub.status.idle": "2023-07-04T08:10:26.740832Z",
     "shell.execute_reply": "2023-07-04T08:10:26.739947Z"
    },
    "papermill": {
     "duration": 0.065729,
     "end_time": "2023-07-04T08:10:26.743368",
     "exception": false,
     "start_time": "2023-07-04T08:10:26.677639",
     "status": "completed"
    },
    "tags": []
   },
   "outputs": [],
   "source": [
    "X_train, X_val, y_train, y_val = train_test_split(X, y, test_size =0.2, random_state = 42)"
   ]
  },
  {
   "cell_type": "code",
   "execution_count": 15,
   "id": "edcf321e",
   "metadata": {
    "execution": {
     "iopub.execute_input": "2023-07-04T08:10:26.769930Z",
     "iopub.status.busy": "2023-07-04T08:10:26.769578Z",
     "iopub.status.idle": "2023-07-04T08:10:26.775767Z",
     "shell.execute_reply": "2023-07-04T08:10:26.774740Z"
    },
    "papermill": {
     "duration": 0.022241,
     "end_time": "2023-07-04T08:10:26.777996",
     "exception": false,
     "start_time": "2023-07-04T08:10:26.755755",
     "status": "completed"
    },
    "tags": []
   },
   "outputs": [],
   "source": [
    "def train_classifier(model, x_train, y_train, x_val, y_val, name = \"model\"):\n",
    "    print(f'{blk} For {name}')\n",
    "    model.fit(x_train, y_train)\n",
    "    y_pred = model.predict(x_val)\n",
    "    score = accuracy_score(y_val, y_pred)\n",
    "    if score<0.85:\n",
    "        print(f'{red}')\n",
    "    else:\n",
    "        print(f'{gren}')\n",
    "    print(f'{confusion_matrix(y_pred, y_val)}')\n",
    "    print(f'Accuracy is {score}')\n",
    "    print(f'{blk}')\n",
    "    print('='*80)"
   ]
  },
  {
   "cell_type": "code",
   "execution_count": 16,
   "id": "8cf4c468",
   "metadata": {
    "execution": {
     "iopub.execute_input": "2023-07-04T08:10:26.804168Z",
     "iopub.status.busy": "2023-07-04T08:10:26.803811Z",
     "iopub.status.idle": "2023-07-04T08:10:26.812507Z",
     "shell.execute_reply": "2023-07-04T08:10:26.811525Z"
    },
    "papermill": {
     "duration": 0.024433,
     "end_time": "2023-07-04T08:10:26.814718",
     "exception": false,
     "start_time": "2023-07-04T08:10:26.790285",
     "status": "completed"
    },
    "tags": []
   },
   "outputs": [],
   "source": [
    "models = {\n",
    "    'LogisticRegression':LogisticRegression(),\n",
    "    'RFC':RandomForestClassifier(),\n",
    "    'Hist-Gradient':HistGradientBoostingClassifier()\n",
    "}"
   ]
  },
  {
   "cell_type": "code",
   "execution_count": 17,
   "id": "514f1503",
   "metadata": {
    "execution": {
     "iopub.execute_input": "2023-07-04T08:10:26.842889Z",
     "iopub.status.busy": "2023-07-04T08:10:26.842519Z",
     "iopub.status.idle": "2023-07-04T08:11:19.072554Z",
     "shell.execute_reply": "2023-07-04T08:11:19.071405Z"
    },
    "papermill": {
     "duration": 52.247428,
     "end_time": "2023-07-04T08:11:19.075184",
     "exception": false,
     "start_time": "2023-07-04T08:10:26.827756",
     "status": "completed"
    },
    "tags": []
   },
   "outputs": [
    {
     "name": "stdout",
     "output_type": "stream",
     "text": [
      "\u001b[1m\u001b[30m For LogisticRegression\n",
      "\u001b[1m\u001b[31m\n",
      "[[8472 1512]\n",
      " [   8    9]]\n",
      "Accuracy is 0.8480151984801519\n",
      "\u001b[1m\u001b[30m\n",
      "================================================================================\n",
      "\u001b[1m\u001b[30m For RFC\n",
      "\u001b[1m\u001b[31m\n",
      "[[8151 1304]\n",
      " [ 329  217]]\n",
      "Accuracy is 0.8367163283671633\n",
      "\u001b[1m\u001b[30m\n",
      "================================================================================\n",
      "\u001b[1m\u001b[30m For Hist-Gradient\n",
      "\u001b[1m\u001b[31m\n",
      "[[8459 1490]\n",
      " [  21   31]]\n",
      "Accuracy is 0.8489151084891511\n",
      "\u001b[1m\u001b[30m\n",
      "================================================================================\n"
     ]
    }
   ],
   "source": [
    "for i in range(len(models)):\n",
    "    model = list(models.values())[i]\n",
    "    name = list(models.keys())[i]\n",
    "    train_classifier(model, X_train, y_train, X_val, y_val, name = name)"
   ]
  },
  {
   "cell_type": "code",
   "execution_count": null,
   "id": "22b9be06",
   "metadata": {
    "papermill": {
     "duration": 0.012771,
     "end_time": "2023-07-04T08:11:19.100982",
     "exception": false,
     "start_time": "2023-07-04T08:11:19.088211",
     "status": "completed"
    },
    "tags": []
   },
   "outputs": [],
   "source": []
  }
 ],
 "metadata": {
  "kernelspec": {
   "display_name": "Python 3",
   "language": "python",
   "name": "python3"
  },
  "language_info": {
   "codemirror_mode": {
    "name": "ipython",
    "version": 3
   },
   "file_extension": ".py",
   "mimetype": "text/x-python",
   "name": "python",
   "nbconvert_exporter": "python",
   "pygments_lexer": "ipython3",
   "version": "3.9.6"
  },
  "papermill": {
   "default_parameters": {},
   "duration": 72.383128,
   "end_time": "2023-07-04T08:11:20.337653",
   "environment_variables": {},
   "exception": null,
   "input_path": "__notebook__.ipynb",
   "output_path": "__notebook__.ipynb",
   "parameters": {},
   "start_time": "2023-07-04T08:10:07.954525",
   "version": "2.4.0"
  }
 },
 "nbformat": 4,
 "nbformat_minor": 5
}
