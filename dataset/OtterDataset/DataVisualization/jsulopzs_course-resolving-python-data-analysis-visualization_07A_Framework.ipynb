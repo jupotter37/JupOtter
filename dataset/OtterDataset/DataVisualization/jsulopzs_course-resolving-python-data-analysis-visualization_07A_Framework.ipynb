{
 "cells": [
  {
   "cell_type": "markdown",
   "id": "fd307218-0022-4700-a64b-1723e28536fd",
   "metadata": {},
   "source": [
    "# Enhance the Resolving Python Framework"
   ]
  },
  {
   "cell_type": "markdown",
   "id": "ae98e811-2ed9-4046-8711-b6629e2bfae3",
   "metadata": {},
   "source": [
    "In this chapter, you will practice the framework we have explained in the previous chapter with simple Data Visualization exercises.\n",
    "\n",
    "In this type of exercises we always work with a `DataFrame` and functions from the following python libraries:\n",
    "\n",
    "1. Matplotlib\n",
    "2. Seaborn\n",
    "3. Plotly\n",
    "\n",
    "Although, we will focus on working with the plotly library because they make awesome interactive charts.\n",
    "\n",
    "Let us show you an example."
   ]
  },
  {
   "cell_type": "markdown",
   "id": "e1d7e2f9-1984-4a3d-a8fa-9d69259d0a92",
   "metadata": {},
   "source": [
    "## Example: Tesla stock price over time."
   ]
  },
  {
   "cell_type": "markdown",
   "id": "16115efc-bc7a-4e8b-8823-1c4cb470b55f",
   "metadata": {},
   "source": [
    "We have the following `DataFrame` that contains information about the Tesla stock price from 2017:"
   ]
  },
  {
   "cell_type": "code",
   "execution_count": 1,
   "id": "c78f44e9-3a6f-46c7-b3bf-9a0bb5f433fb",
   "metadata": {},
   "outputs": [
    {
     "data": {
      "text/html": [
       "<div>\n",
       "<style scoped>\n",
       "    .dataframe tbody tr th:only-of-type {\n",
       "        vertical-align: middle;\n",
       "    }\n",
       "\n",
       "    .dataframe tbody tr th {\n",
       "        vertical-align: top;\n",
       "    }\n",
       "\n",
       "    .dataframe thead th {\n",
       "        text-align: right;\n",
       "    }\n",
       "</style>\n",
       "<table border=\"1\" class=\"dataframe\">\n",
       "  <thead>\n",
       "    <tr style=\"text-align: right;\">\n",
       "      <th></th>\n",
       "      <th>Date</th>\n",
       "      <th>High</th>\n",
       "      <th>Low</th>\n",
       "      <th>Open</th>\n",
       "      <th>Close</th>\n",
       "      <th>Volume</th>\n",
       "      <th>Adj Close</th>\n",
       "    </tr>\n",
       "  </thead>\n",
       "  <tbody>\n",
       "    <tr>\n",
       "      <th>0</th>\n",
       "      <td>2017-01-03</td>\n",
       "      <td>44.066002</td>\n",
       "      <td>42.192001</td>\n",
       "      <td>42.972000</td>\n",
       "      <td>43.397999</td>\n",
       "      <td>29616500</td>\n",
       "      <td>43.397999</td>\n",
       "    </tr>\n",
       "    <tr>\n",
       "      <th>1</th>\n",
       "      <td>2017-01-04</td>\n",
       "      <td>45.599998</td>\n",
       "      <td>42.862000</td>\n",
       "      <td>42.950001</td>\n",
       "      <td>45.397999</td>\n",
       "      <td>56067500</td>\n",
       "      <td>45.397999</td>\n",
       "    </tr>\n",
       "    <tr>\n",
       "      <th>...</th>\n",
       "      <td>...</td>\n",
       "      <td>...</td>\n",
       "      <td>...</td>\n",
       "      <td>...</td>\n",
       "      <td>...</td>\n",
       "      <td>...</td>\n",
       "      <td>...</td>\n",
       "    </tr>\n",
       "    <tr>\n",
       "      <th>1378</th>\n",
       "      <td>2022-06-24</td>\n",
       "      <td>738.200012</td>\n",
       "      <td>708.260010</td>\n",
       "      <td>712.409973</td>\n",
       "      <td>737.119995</td>\n",
       "      <td>31866500</td>\n",
       "      <td>737.119995</td>\n",
       "    </tr>\n",
       "    <tr>\n",
       "      <th>1379</th>\n",
       "      <td>2022-06-27</td>\n",
       "      <td>756.209900</td>\n",
       "      <td>727.696594</td>\n",
       "      <td>748.099976</td>\n",
       "      <td>729.130005</td>\n",
       "      <td>21237332</td>\n",
       "      <td>729.130005</td>\n",
       "    </tr>\n",
       "  </tbody>\n",
       "</table>\n",
       "<p>1380 rows × 7 columns</p>\n",
       "</div>"
      ],
      "text/plain": [
       "           Date        High         Low        Open       Close    Volume  \\\n",
       "0    2017-01-03   44.066002   42.192001   42.972000   43.397999  29616500   \n",
       "1    2017-01-04   45.599998   42.862000   42.950001   45.397999  56067500   \n",
       "...         ...         ...         ...         ...         ...       ...   \n",
       "1378 2022-06-24  738.200012  708.260010  712.409973  737.119995  31866500   \n",
       "1379 2022-06-27  756.209900  727.696594  748.099976  729.130005  21237332   \n",
       "\n",
       "       Adj Close  \n",
       "0      43.397999  \n",
       "1      45.397999  \n",
       "...          ...  \n",
       "1378  737.119995  \n",
       "1379  729.130005  \n",
       "\n",
       "[1380 rows x 7 columns]"
      ]
     },
     "execution_count": 1,
     "metadata": {},
     "output_type": "execute_result"
    }
   ],
   "source": [
    "import pandas as pd\n",
    "\n",
    "df_tsla = pd.read_excel('tsla_stock.xlsx', sheet_name=1, parse_dates=['Date'])\n",
    "df_tsla"
   ]
  },
  {
   "cell_type": "markdown",
   "id": "a1fa3add-bc2e-4600-a5da-dac5d0bc5ba1",
   "metadata": {},
   "source": [
    "And we want to create a line chart with plotly. Therefore, if we apply the Resolving Python Framework, we search for a function within the library that contains the word `line` by pressing the `↹` (TAB Key) after the dot `.` below:"
   ]
  },
  {
   "cell_type": "code",
   "execution_count": null,
   "id": "d49d1afa-5269-498f-bc72-8a612a48acf0",
   "metadata": {},
   "outputs": [],
   "source": []
  },
  {
   "cell_type": "markdown",
   "id": "52189b4e-1755-46d6-aa57-00e4989947ef",
   "metadata": {},
   "source": [
    "![](src/suggestion-plotly.png)"
   ]
  },
  {
   "cell_type": "markdown",
   "id": "75072f33-f9e2-4e11-9359-6115de9cdcaa",
   "metadata": {
    "tags": []
   },
   "source": [
    "And voilà; we didn't need to memorise the name of the function. Instead, we have discover it by deduction (we are pretty sure you won't forget in the future).\n",
    "\n",
    "Now we take a look at the parameters of the function by pressing `⇧ [SHIFT]` + `↹ [TAB]`:"
   ]
  },
  {
   "cell_type": "code",
   "execution_count": null,
   "id": "c642a4c4-3728-4475-add3-fb770942e2ee",
   "metadata": {},
   "outputs": [],
   "source": []
  },
  {
   "cell_type": "markdown",
   "id": "8a206c8c-a002-45bf-adde-f4a47d96cc6d",
   "metadata": {},
   "source": [
    "![](src/doc-px-line.png)"
   ]
  },
  {
   "cell_type": "markdown",
   "id": "63dfb1f2-5e05-4f0d-9a1c-86e23645cad7",
   "metadata": {},
   "source": [
    "Any plotting function will ask you for:\n",
    "\n",
    "1. The `DataFrame` where you have the data table.\n",
    "2. The name of the DataFrame columns you want to use in:\n",
    "    1. The `x-axis`.\n",
    "    2. The `y-axis`.\n",
    "    \n",
    "> Although some functions don't specifically ask for `x` and `y` (you'll need to check the parameters in the following exercises).\n",
    "\n",
    "So, which columns do we want to place in the line plot?\n",
    "\n",
    "1. The `Date` in the `x-axis`\n",
    "2. The `Close` price of the Tesla stock in the `y-axis`"
   ]
  },
  {
   "cell_type": "code",
   "execution_count": null,
   "id": "3c9ff1d5-eff7-470f-a53d-894eb8d41656",
   "metadata": {},
   "outputs": [],
   "source": []
  },
  {
   "cell_type": "markdown",
   "id": "3aacad64-2c30-421f-8788-154459f222bf",
   "metadata": {},
   "source": [
    "I hope you can relate the same information in the previous chart with the `DataFrame` below:"
   ]
  },
  {
   "cell_type": "raw",
   "id": "dce9a953-e219-48df-bfc4-a4ae25907170",
   "metadata": {},
   "source": [
    "df_tsla"
   ]
  },
  {
   "cell_type": "markdown",
   "id": "3fa3acc1-e94d-46bd-95b8-5284f51769f7",
   "metadata": {},
   "source": [
    "What if we would like to use another column?\n",
    "\n",
    "- We change the *ingredients* in the parameters of the function; we change the `Close` column by the `Volume`:"
   ]
  },
  {
   "cell_type": "code",
   "execution_count": null,
   "id": "0ab95237-3d6b-46df-93ff-af2776d56aa2",
   "metadata": {},
   "outputs": [],
   "source": []
  },
  {
   "cell_type": "markdown",
   "id": "b5dc6f2f-2530-472d-a6c9-1d964a2dbafb",
   "metadata": {},
   "source": [
    "What if we would like to use another figure?\n",
    "\n",
    "- We change the `line()` function by the `area()` function:\n",
    "\n",
    "> Check out the **basic charts** of plotly [here](https://plotly.com/python/#basic-charts)."
   ]
  },
  {
   "cell_type": "code",
   "execution_count": null,
   "id": "25382f6c-35b3-46d0-b8ac-b7e0950acebd",
   "metadata": {},
   "outputs": [],
   "source": []
  },
  {
   "cell_type": "markdown",
   "id": "f113a071-89c0-40cd-be02-e74932bc55b4",
   "metadata": {},
   "source": [
    "Now it's time for you to practice the [Resolving Python Framework](https://datons.craft.me/h3f5pSQSE7l6RW) by:\n",
    "\n",
    "1. Discovering the name of the function `px.[TAB]`\n",
    "2. Checking the parameters of the documentation `px.figure_function([SHIFT] + [TAB])`"
   ]
  }
 ],
 "metadata": {
  "kernelspec": {
   "display_name": "Python 3 (ipykernel)",
   "language": "python",
   "name": "python3"
  },
  "language_info": {
   "codemirror_mode": {
    "name": "ipython",
    "version": 3
   },
   "file_extension": ".py",
   "mimetype": "text/x-python",
   "name": "python",
   "nbconvert_exporter": "python",
   "pygments_lexer": "ipython3",
   "version": "3.10.6"
  }
 },
 "nbformat": 4,
 "nbformat_minor": 5
}
