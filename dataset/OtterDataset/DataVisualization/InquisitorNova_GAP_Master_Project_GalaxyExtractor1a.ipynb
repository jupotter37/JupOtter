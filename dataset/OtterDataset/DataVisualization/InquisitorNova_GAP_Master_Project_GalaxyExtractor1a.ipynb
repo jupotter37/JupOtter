{
 "cells": [
  {
   "cell_type": "code",
   "execution_count": 3,
   "metadata": {},
   "outputs": [],
   "source": [
    "# Import the relevant modules:\n",
    "\n",
    "# Import the modules for vector calculations\n",
    "import pandas as pd\n",
    "import polars as pL\n",
    "import numpy as np\n",
    "import scipy as sp\n",
    "import math\n",
    "\n",
    "# Import the modules for data preprocessing\n",
    "import os\n",
    "from astroquery.sdss import SDSS\n",
    "from astroquery.vizier import Vizier\n",
    "from astropy import coordinates as coords\n",
    "import asyncio \n",
    "import aiohttp\n",
    "from astropy.io import fits\n",
    "from GalaxyHelperFunc import *\n",
    "from tqdm import tqdm\n",
    "import time\n",
    "\n",
    "# Import the modules for data visualization\n",
    "import matplotlib.pyplot as plt\n",
    "import seaborn as sns\n",
    "import plotly.express as px\n",
    "\n",
    "# Import the modules for Deep-Learning\n",
    "import torch\n",
    "import torch.nn as nn\n",
    "import torch.optim as optim\n",
    "import torch.nn.functional as F\n",
    "import torch.utils.data as data_utils\n",
    "import torch.distributions as distributions\n",
    "import pytorch_lightning as pl\n",
    "from pytorch_lightning import Trainer\n",
    "from pytorch_lightning.loggers import TensorBoardLogger\n",
    "from pytorch_lightning.callbacks import EarlyStopping, LearningRateMonitor, ModelCheckpoint"
   ]
  },
  {
   "cell_type": "code",
   "execution_count": 4,
   "metadata": {},
   "outputs": [
    {
     "data": {
      "text/html": [
       "<div><style>\n",
       ".dataframe > thead > tr,\n",
       ".dataframe > tbody > tr {\n",
       "  text-align: right;\n",
       "  white-space: pre-wrap;\n",
       "}\n",
       "</style>\n",
       "<small>shape: (5, 18)</small><table border=\"1\" class=\"dataframe\"><thead><tr><th>objid</th><th>ra</th><th>dec</th><th>u</th><th>g</th><th>r</th><th>i</th><th>z</th><th>run</th><th>rerun</th><th>camcol</th><th>field</th><th>field1</th><th>specobjid</th><th>redshift</th><th>plate</th><th>mjd</th><th>fiberid</th></tr><tr><td>u64</td><td>f64</td><td>f64</td><td>f64</td><td>f64</td><td>f64</td><td>f64</td><td>f64</td><td>i32</td><td>i32</td><td>i32</td><td>i32</td><td>i32</td><td>u64</td><td>f64</td><td>i32</td><td>i32</td><td>i32</td></tr></thead><tbody><tr><td>1237648703509037704</td><td>196.428899</td><td>-0.630877</td><td>22.59034</td><td>22.28877</td><td>21.18809</td><td>20.0661</td><td>19.74049</td><td>752</td><td>301</td><td>2</td><td>353</td><td>353</td><td>4561064317748008960</td><td>0.6838333</td><td>4051</td><td>55337</td><td>159</td></tr><tr><td>1237648703509037971</td><td>196.389789</td><td>-0.694249</td><td>23.15419</td><td>22.82531</td><td>20.76846</td><td>19.84812</td><td>19.58682</td><td>752</td><td>301</td><td>2</td><td>353</td><td>353</td><td>4562238875456788480</td><td>0.4224373</td><td>4052</td><td>55600</td><td>336</td></tr><tr><td>1237648703509037997</td><td>196.417728</td><td>-0.667848</td><td>22.90089</td><td>22.56379</td><td>20.98486</td><td>19.68926</td><td>18.92513</td><td>752</td><td>301</td><td>2</td><td>353</td><td>353</td><td>4561063218236381184</td><td>0.6842009</td><td>4051</td><td>55337</td><td>155</td></tr><tr><td>1237648703509038045</td><td>196.479788</td><td>-0.718012</td><td>23.89636</td><td>22.43867</td><td>20.76097</td><td>19.67946</td><td>19.32264</td><td>752</td><td>301</td><td>2</td><td>353</td><td>353</td><td>4562228704789682176</td><td>0.5035014</td><td>4052</td><td>55589</td><td>299</td></tr><tr><td>1237648703509038048</td><td>196.482531</td><td>-0.745879</td><td>24.28602</td><td>23.22475</td><td>20.93204</td><td>19.74528</td><td>19.13798</td><td>752</td><td>301</td><td>2</td><td>353</td><td>353</td><td>4561052223120103424</td><td>0.6223917</td><td>4051</td><td>55337</td><td>115</td></tr></tbody></table></div>"
      ],
      "text/plain": [
       "shape: (5, 18)\n",
       "┌────────────────────┬────────────┬───────────┬──────────┬───┬───────────┬───────┬───────┬─────────┐\n",
       "│ objid              ┆ ra         ┆ dec       ┆ u        ┆ … ┆ redshift  ┆ plate ┆ mjd   ┆ fiberid │\n",
       "│ ---                ┆ ---        ┆ ---       ┆ ---      ┆   ┆ ---       ┆ ---   ┆ ---   ┆ ---     │\n",
       "│ u64                ┆ f64        ┆ f64       ┆ f64      ┆   ┆ f64       ┆ i32   ┆ i32   ┆ i32     │\n",
       "╞════════════════════╪════════════╪═══════════╪══════════╪═══╪═══════════╪═══════╪═══════╪═════════╡\n",
       "│ 123764870350903770 ┆ 196.428899 ┆ -0.630877 ┆ 22.59034 ┆ … ┆ 0.6838333 ┆ 4051  ┆ 55337 ┆ 159     │\n",
       "│ 4                  ┆            ┆           ┆          ┆   ┆           ┆       ┆       ┆         │\n",
       "│ 123764870350903797 ┆ 196.389789 ┆ -0.694249 ┆ 23.15419 ┆ … ┆ 0.4224373 ┆ 4052  ┆ 55600 ┆ 336     │\n",
       "│ 1                  ┆            ┆           ┆          ┆   ┆           ┆       ┆       ┆         │\n",
       "│ 123764870350903799 ┆ 196.417728 ┆ -0.667848 ┆ 22.90089 ┆ … ┆ 0.6842009 ┆ 4051  ┆ 55337 ┆ 155     │\n",
       "│ 7                  ┆            ┆           ┆          ┆   ┆           ┆       ┆       ┆         │\n",
       "│ 123764870350903804 ┆ 196.479788 ┆ -0.718012 ┆ 23.89636 ┆ … ┆ 0.5035014 ┆ 4052  ┆ 55589 ┆ 299     │\n",
       "│ 5                  ┆            ┆           ┆          ┆   ┆           ┆       ┆       ┆         │\n",
       "│ 123764870350903804 ┆ 196.482531 ┆ -0.745879 ┆ 24.28602 ┆ … ┆ 0.6223917 ┆ 4051  ┆ 55337 ┆ 115     │\n",
       "│ 8                  ┆            ┆           ┆          ┆   ┆           ┆       ┆       ┆         │\n",
       "└────────────────────┴────────────┴───────────┴──────────┴───┴───────────┴───────┴───────┴─────────┘"
      ]
     },
     "execution_count": 4,
     "metadata": {},
     "output_type": "execute_result"
    }
   ],
   "source": [
    "# Download the galaxy data from the SDSS database\n",
    "\n",
    "astro = \"\"\"\n",
    "SELECT TOP 10000\n",
    "    p.objid, p.ra, p.dec, p.u, p.g, p.r, p.i, p.z,\n",
    "    p.run, p.rerun, p.camcol, p.field, p.field, p.specobjid, \n",
    "    s.z AS redshift, s.plate, s.mjd, s.fiberid\n",
    "FROM PhotoObj AS p\n",
    "JOIN SpecObj AS s \n",
    "    ON s.bestobjid = p.objid\n",
    "WHERE\n",
    "    p.type = 3\n",
    "    AND s.class = 'GALAXY'\n",
    "    AND p.clean = 1\n",
    "\"\"\"\n",
    "\n",
    "Galaxy_Dataset = SDSS.query_sql(astro, timeout = 600)\n",
    "\n",
    "# Convert the data into a pandas dataframe\n",
    "Galaxy_Dataframe = Galaxy_Dataset.to_pandas()\n",
    "\n",
    "# Convert data into a polars dataframe\n",
    "Galaxy_Polars = pL.DataFrame(Galaxy_Dataframe)\n",
    "\n",
    "# Display the first 5 rows of the dataframe\n",
    "Galaxy_Polars.head()"
   ]
  },
  {
   "cell_type": "code",
   "execution_count": 38,
   "metadata": {},
   "outputs": [
    {
     "data": {
      "text/plain": [
       "FITS_rec([(-7.2427044 , 3.5523, 0.04732653, 0,         0, 1.4336151, 19.032124, -0.06347468),\n",
       "          (-2.9550261 , 3.5524, 0.        , 0,         0, 1.4331353, 18.532917, -0.06267089),\n",
       "          ( 1.3320469 , 3.5525, 0.04835141, 0,         0, 1.4328188, 17.931519, -0.06174889),\n",
       "          ...,\n",
       "          ( 1.692989  , 4.0118, 0.7944306 , 0,  76349440, 0.7782283, 21.122545,  1.4698546 ),\n",
       "          ( 1.513173  , 4.0119, 0.8329747 , 0, 209715200, 0.7790329, 11.859117,  1.466913  ),\n",
       "          (-0.19774014, 4.012 , 0.5363163 , 0, 201326592, 0.7790949, 11.937514,  1.4649478 )],\n",
       "         dtype=(numpy.record, [('flux', '>f4'), ('loglam', '>f4'), ('ivar', '>f4'), ('and_mask', '>i4'), ('or_mask', '>i4'), ('wdisp', '>f4'), ('sky', '>f4'), ('model', '>f4')]))"
      ]
     },
     "execution_count": 38,
     "metadata": {},
     "output_type": "execute_result"
    }
   ],
   "source": [
    "spectra = SDSS.get_spectra(coordinates = coords.SkyCoord(ra = Galaxy_Dataframe.iloc[:1]['ra'], dec = Galaxy_Dataframe.iloc[:1]['dec'], unit = 'deg'))\n",
    "spectra[0][1].data"
   ]
  }
 ],
 "metadata": {
  "kernelspec": {
   "display_name": "GAPGalaxy",
   "language": "python",
   "name": "python3"
  },
  "language_info": {
   "codemirror_mode": {
    "name": "ipython",
    "version": 3
   },
   "file_extension": ".py",
   "mimetype": "text/x-python",
   "name": "python",
   "nbconvert_exporter": "python",
   "pygments_lexer": "ipython3",
   "version": "3.11.7"
  }
 },
 "nbformat": 4,
 "nbformat_minor": 2
}
