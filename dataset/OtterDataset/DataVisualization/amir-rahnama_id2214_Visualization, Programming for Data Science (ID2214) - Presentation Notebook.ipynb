{
 "cells": [
  {
   "cell_type": "markdown",
   "metadata": {
    "slideshow": {
     "slide_type": "slide"
    }
   },
   "source": [
    "## Visualization\n",
    "\n",
    "### Programming for Data Science (ID2214)\n",
    "\n",
    "### Amir H. Rahnama (Twitter: @_ambodi)\n",
    "\n",
    "#### Ph.D. Candidate \n",
    "\n",
    "\n",
    "<img src=\"https://www.kth.se/polopoly_fs/1.77259!/KTH_Logotyp_RGB_2013-2.svg\" alt=\"kth_logo\" style=\"width:200px;\"/>"
   ]
  },
  {
   "cell_type": "code",
   "execution_count": 1,
   "metadata": {
    "slideshow": {
     "slide_type": "skip"
    }
   },
   "outputs": [
    {
     "name": "stdout",
     "output_type": "stream",
     "text": [
      "Last run and revision: 2018-11-20 17:41:05.590419\n"
     ]
    }
   ],
   "source": [
    "import datetime\n",
    "last_revision = datetime.datetime.now()\n",
    "\n",
    "print \"Last run and revision: {}\".format(last_revision)"
   ]
  },
  {
   "cell_type": "markdown",
   "metadata": {
    "slideshow": {
     "slide_type": "skip"
    }
   },
   "source": [
    "In this lecture, we will focus on visualization. Our focus will be to avoid showing abstract visualizations, but to provide you with insight on how to use visualization in your data science projects. For this, we will use real datasets and show you how to use visualization throughtout the process of data analysis."
   ]
  },
  {
   "cell_type": "markdown",
   "metadata": {
    "slideshow": {
     "slide_type": "slide"
    }
   },
   "source": [
    "Key *_takeaways_* from this lecture: \n",
    "* Understanding key visualizations in a Machine Learning project\n",
    "* Getting started and becoming comfortable working with a dataset\n",
    "* Learn basics of Matplotlib, Scikit-Learn library\n",
    "* Learn about the problem of imbalanced classes in Machine Learning\n"
   ]
  },
  {
   "cell_type": "markdown",
   "metadata": {
    "slideshow": {
     "slide_type": "slide"
    }
   },
   "source": [
    "### Loading the Wisconsin Breast Cancer dataset"
   ]
  },
  {
   "cell_type": "markdown",
   "metadata": {
    "slideshow": {
     "slide_type": "skip"
    }
   },
   "source": [
    "In this lecture, as you are at the end of the course, we would like you to be more comfortable to work with real-world datasets. Wisconsin Breast Cancer dataset is one of the datasets for binary classification. Read about the dataset here: https://archive.ics.uci.edu/ml/datasets/Breast+Cancer+Wisconsin+(Diagnostic)"
   ]
  },
  {
   "cell_type": "markdown",
   "metadata": {
    "slideshow": {
     "slide_type": "fragment"
    }
   },
   "source": [
    "Let us load the dataset and look at the \n",
    "* features\n",
    "* shape of the data\n",
    "* classes\n",
    "* class labels"
   ]
  },
  {
   "cell_type": "code",
   "execution_count": 2,
   "metadata": {
    "slideshow": {
     "slide_type": "slide"
    }
   },
   "outputs": [
    {
     "data": {
      "text/plain": [
       "array(['mean radius', 'mean texture', 'mean perimeter', 'mean area',\n",
       "       'mean smoothness', 'mean compactness', 'mean concavity',\n",
       "       'mean concave points', 'mean symmetry', 'mean fractal dimension',\n",
       "       'radius error', 'texture error', 'perimeter error', 'area error',\n",
       "       'smoothness error', 'compactness error', 'concavity error',\n",
       "       'concave points error', 'symmetry error',\n",
       "       'fractal dimension error', 'worst radius', 'worst texture',\n",
       "       'worst perimeter', 'worst area', 'worst smoothness',\n",
       "       'worst compactness', 'worst concavity', 'worst concave points',\n",
       "       'worst symmetry', 'worst fractal dimension'], dtype='|S23')"
      ]
     },
     "execution_count": 2,
     "metadata": {},
     "output_type": "execute_result"
    }
   ],
   "source": [
    "from sklearn.datasets import load_breast_cancer\n",
    "\n",
    "d = load_breast_cancer()\n",
    "\n",
    "d.feature_names"
   ]
  },
  {
   "cell_type": "code",
   "execution_count": 3,
   "metadata": {
    "slideshow": {
     "slide_type": "fragment"
    }
   },
   "outputs": [
    {
     "data": {
      "text/plain": [
       "((569, 30), 569)"
      ]
     },
     "execution_count": 3,
     "metadata": {},
     "output_type": "execute_result"
    }
   ],
   "source": [
    "(d.data.shape, len(d.target))"
   ]
  },
  {
   "cell_type": "code",
   "execution_count": 4,
   "metadata": {
    "slideshow": {
     "slide_type": "skip"
    }
   },
   "outputs": [],
   "source": [
    "X = d.data\n",
    "y = d.target"
   ]
  },
  {
   "cell_type": "code",
   "execution_count": 5,
   "metadata": {
    "slideshow": {
     "slide_type": "fragment"
    }
   },
   "outputs": [
    {
     "data": {
      "text/plain": [
       "array(['malignant', 'benign'], dtype='|S9')"
      ]
     },
     "execution_count": 5,
     "metadata": {},
     "output_type": "execute_result"
    }
   ],
   "source": [
    "d.target_names"
   ]
  },
  {
   "cell_type": "code",
   "execution_count": 6,
   "metadata": {
    "slideshow": {
     "slide_type": "slide"
    }
   },
   "outputs": [],
   "source": [
    "import pandas as pd\n",
    "\n",
    "data = pd.DataFrame(data= d.data, columns=d.feature_names)\n",
    "\n",
    "malignant_filter = d.target == 0 \n",
    "benign_filter = d.target == 1\n",
    "\n",
    "malignant = data[malignant_filter]\n",
    "benign = data[benign_filter]"
   ]
  },
  {
   "cell_type": "code",
   "execution_count": 7,
   "metadata": {
    "slideshow": {
     "slide_type": "slide"
    }
   },
   "outputs": [
    {
     "data": {
      "text/html": [
       "<div>\n",
       "<style scoped>\n",
       "    .dataframe tbody tr th:only-of-type {\n",
       "        vertical-align: middle;\n",
       "    }\n",
       "\n",
       "    .dataframe tbody tr th {\n",
       "        vertical-align: top;\n",
       "    }\n",
       "\n",
       "    .dataframe thead th {\n",
       "        text-align: right;\n",
       "    }\n",
       "</style>\n",
       "<table border=\"1\" class=\"dataframe\">\n",
       "  <thead>\n",
       "    <tr style=\"text-align: right;\">\n",
       "      <th></th>\n",
       "      <th>mean radius</th>\n",
       "      <th>mean texture</th>\n",
       "      <th>mean perimeter</th>\n",
       "      <th>mean area</th>\n",
       "      <th>mean smoothness</th>\n",
       "      <th>mean compactness</th>\n",
       "      <th>mean concavity</th>\n",
       "      <th>mean concave points</th>\n",
       "      <th>mean symmetry</th>\n",
       "      <th>mean fractal dimension</th>\n",
       "      <th>...</th>\n",
       "      <th>worst radius</th>\n",
       "      <th>worst texture</th>\n",
       "      <th>worst perimeter</th>\n",
       "      <th>worst area</th>\n",
       "      <th>worst smoothness</th>\n",
       "      <th>worst compactness</th>\n",
       "      <th>worst concavity</th>\n",
       "      <th>worst concave points</th>\n",
       "      <th>worst symmetry</th>\n",
       "      <th>worst fractal dimension</th>\n",
       "    </tr>\n",
       "  </thead>\n",
       "  <tbody>\n",
       "    <tr>\n",
       "      <th>0</th>\n",
       "      <td>17.99</td>\n",
       "      <td>10.38</td>\n",
       "      <td>122.80</td>\n",
       "      <td>1001.0</td>\n",
       "      <td>0.11840</td>\n",
       "      <td>0.27760</td>\n",
       "      <td>0.3001</td>\n",
       "      <td>0.14710</td>\n",
       "      <td>0.2419</td>\n",
       "      <td>0.07871</td>\n",
       "      <td>...</td>\n",
       "      <td>25.38</td>\n",
       "      <td>17.33</td>\n",
       "      <td>184.60</td>\n",
       "      <td>2019.0</td>\n",
       "      <td>0.1622</td>\n",
       "      <td>0.6656</td>\n",
       "      <td>0.7119</td>\n",
       "      <td>0.2654</td>\n",
       "      <td>0.4601</td>\n",
       "      <td>0.11890</td>\n",
       "    </tr>\n",
       "    <tr>\n",
       "      <th>1</th>\n",
       "      <td>20.57</td>\n",
       "      <td>17.77</td>\n",
       "      <td>132.90</td>\n",
       "      <td>1326.0</td>\n",
       "      <td>0.08474</td>\n",
       "      <td>0.07864</td>\n",
       "      <td>0.0869</td>\n",
       "      <td>0.07017</td>\n",
       "      <td>0.1812</td>\n",
       "      <td>0.05667</td>\n",
       "      <td>...</td>\n",
       "      <td>24.99</td>\n",
       "      <td>23.41</td>\n",
       "      <td>158.80</td>\n",
       "      <td>1956.0</td>\n",
       "      <td>0.1238</td>\n",
       "      <td>0.1866</td>\n",
       "      <td>0.2416</td>\n",
       "      <td>0.1860</td>\n",
       "      <td>0.2750</td>\n",
       "      <td>0.08902</td>\n",
       "    </tr>\n",
       "    <tr>\n",
       "      <th>2</th>\n",
       "      <td>19.69</td>\n",
       "      <td>21.25</td>\n",
       "      <td>130.00</td>\n",
       "      <td>1203.0</td>\n",
       "      <td>0.10960</td>\n",
       "      <td>0.15990</td>\n",
       "      <td>0.1974</td>\n",
       "      <td>0.12790</td>\n",
       "      <td>0.2069</td>\n",
       "      <td>0.05999</td>\n",
       "      <td>...</td>\n",
       "      <td>23.57</td>\n",
       "      <td>25.53</td>\n",
       "      <td>152.50</td>\n",
       "      <td>1709.0</td>\n",
       "      <td>0.1444</td>\n",
       "      <td>0.4245</td>\n",
       "      <td>0.4504</td>\n",
       "      <td>0.2430</td>\n",
       "      <td>0.3613</td>\n",
       "      <td>0.08758</td>\n",
       "    </tr>\n",
       "    <tr>\n",
       "      <th>3</th>\n",
       "      <td>11.42</td>\n",
       "      <td>20.38</td>\n",
       "      <td>77.58</td>\n",
       "      <td>386.1</td>\n",
       "      <td>0.14250</td>\n",
       "      <td>0.28390</td>\n",
       "      <td>0.2414</td>\n",
       "      <td>0.10520</td>\n",
       "      <td>0.2597</td>\n",
       "      <td>0.09744</td>\n",
       "      <td>...</td>\n",
       "      <td>14.91</td>\n",
       "      <td>26.50</td>\n",
       "      <td>98.87</td>\n",
       "      <td>567.7</td>\n",
       "      <td>0.2098</td>\n",
       "      <td>0.8663</td>\n",
       "      <td>0.6869</td>\n",
       "      <td>0.2575</td>\n",
       "      <td>0.6638</td>\n",
       "      <td>0.17300</td>\n",
       "    </tr>\n",
       "    <tr>\n",
       "      <th>4</th>\n",
       "      <td>20.29</td>\n",
       "      <td>14.34</td>\n",
       "      <td>135.10</td>\n",
       "      <td>1297.0</td>\n",
       "      <td>0.10030</td>\n",
       "      <td>0.13280</td>\n",
       "      <td>0.1980</td>\n",
       "      <td>0.10430</td>\n",
       "      <td>0.1809</td>\n",
       "      <td>0.05883</td>\n",
       "      <td>...</td>\n",
       "      <td>22.54</td>\n",
       "      <td>16.67</td>\n",
       "      <td>152.20</td>\n",
       "      <td>1575.0</td>\n",
       "      <td>0.1374</td>\n",
       "      <td>0.2050</td>\n",
       "      <td>0.4000</td>\n",
       "      <td>0.1625</td>\n",
       "      <td>0.2364</td>\n",
       "      <td>0.07678</td>\n",
       "    </tr>\n",
       "  </tbody>\n",
       "</table>\n",
       "<p>5 rows × 30 columns</p>\n",
       "</div>"
      ],
      "text/plain": [
       "   mean radius  mean texture  mean perimeter  mean area  mean smoothness  \\\n",
       "0        17.99         10.38          122.80     1001.0          0.11840   \n",
       "1        20.57         17.77          132.90     1326.0          0.08474   \n",
       "2        19.69         21.25          130.00     1203.0          0.10960   \n",
       "3        11.42         20.38           77.58      386.1          0.14250   \n",
       "4        20.29         14.34          135.10     1297.0          0.10030   \n",
       "\n",
       "   mean compactness  mean concavity  mean concave points  mean symmetry  \\\n",
       "0           0.27760          0.3001              0.14710         0.2419   \n",
       "1           0.07864          0.0869              0.07017         0.1812   \n",
       "2           0.15990          0.1974              0.12790         0.2069   \n",
       "3           0.28390          0.2414              0.10520         0.2597   \n",
       "4           0.13280          0.1980              0.10430         0.1809   \n",
       "\n",
       "   mean fractal dimension           ...             worst radius  \\\n",
       "0                 0.07871           ...                    25.38   \n",
       "1                 0.05667           ...                    24.99   \n",
       "2                 0.05999           ...                    23.57   \n",
       "3                 0.09744           ...                    14.91   \n",
       "4                 0.05883           ...                    22.54   \n",
       "\n",
       "   worst texture  worst perimeter  worst area  worst smoothness  \\\n",
       "0          17.33           184.60      2019.0            0.1622   \n",
       "1          23.41           158.80      1956.0            0.1238   \n",
       "2          25.53           152.50      1709.0            0.1444   \n",
       "3          26.50            98.87       567.7            0.2098   \n",
       "4          16.67           152.20      1575.0            0.1374   \n",
       "\n",
       "   worst compactness  worst concavity  worst concave points  worst symmetry  \\\n",
       "0             0.6656           0.7119                0.2654          0.4601   \n",
       "1             0.1866           0.2416                0.1860          0.2750   \n",
       "2             0.4245           0.4504                0.2430          0.3613   \n",
       "3             0.8663           0.6869                0.2575          0.6638   \n",
       "4             0.2050           0.4000                0.1625          0.2364   \n",
       "\n",
       "   worst fractal dimension  \n",
       "0                  0.11890  \n",
       "1                  0.08902  \n",
       "2                  0.08758  \n",
       "3                  0.17300  \n",
       "4                  0.07678  \n",
       "\n",
       "[5 rows x 30 columns]"
      ]
     },
     "execution_count": 7,
     "metadata": {},
     "output_type": "execute_result"
    }
   ],
   "source": [
    "data.head()"
   ]
  },
  {
   "cell_type": "markdown",
   "metadata": {
    "slideshow": {
     "slide_type": "slide"
    }
   },
   "source": [
    "### Visualization with Matplotlib\n",
    "\n",
    "Our main focus while discussing visualization will be the Matplotlib library, however we will show examples of Plotly and Seaborn library.\n",
    "\n",
    "Rendering a Matplotlib visualization is a 4-step process: \n",
    "\n",
    "* Import the pyplot module from matplotlib (I am using the styles imported from ggplot2, a data visualization package for the statistical programming language R):"
   ]
  },
  {
   "cell_type": "code",
   "execution_count": 8,
   "metadata": {
    "slideshow": {
     "slide_type": "fragment"
    }
   },
   "outputs": [],
   "source": [
    "import matplotlib.pyplot as plt\n",
    "plt.style.use('ggplot')"
   ]
  },
  {
   "cell_type": "markdown",
   "metadata": {
    "slideshow": {
     "slide_type": "slide"
    }
   },
   "source": [
    "* Create a figure object from the pyplot:"
   ]
  },
  {
   "cell_type": "code",
   "execution_count": 9,
   "metadata": {
    "slideshow": {
     "slide_type": "fragment"
    }
   },
   "outputs": [
    {
     "data": {
      "text/plain": [
       "<Figure size 432x288 with 0 Axes>"
      ]
     },
     "metadata": {},
     "output_type": "display_data"
    }
   ],
   "source": [
    "fig = plt.figure()"
   ]
  },
  {
   "cell_type": "markdown",
   "metadata": {
    "slideshow": {
     "slide_type": "slide"
    }
   },
   "source": [
    "* Create axes from the pyplot"
   ]
  },
  {
   "cell_type": "code",
   "execution_count": 10,
   "metadata": {
    "slideshow": {
     "slide_type": "fragment"
    }
   },
   "outputs": [
    {
     "data": {
      "image/png": "[encoded data removed]",
      "text/plain": [
       "<Figure size 432x288 with 1 Axes>"
      ]
     },
     "metadata": {
      "needs_background": "light"
     },
     "output_type": "display_data"
    }
   ],
   "source": [
    "ax = plt.axes()"
   ]
  },
  {
   "cell_type": "markdown",
   "metadata": {
    "slideshow": {
     "slide_type": "slide"
    }
   },
   "source": [
    "* call the type of plot you are using on the top of the plot object:"
   ]
  },
  {
   "cell_type": "code",
   "execution_count": 11,
   "metadata": {
    "slideshow": {
     "slide_type": "fragment"
    }
   },
   "outputs": [
    {
     "data": {
      "text/plain": [
       "<matplotlib.collections.PathCollection at 0x11f008910>"
      ]
     },
     "execution_count": 11,
     "metadata": {},
     "output_type": "execute_result"
    },
    {
     "data": {
      "image/png": "[encoded data removed]",
      "text/plain": [
       "<Figure size 432x288 with 1 Axes>"
      ]
     },
     "metadata": {
      "needs_background": "light"
     },
     "output_type": "display_data"
    }
   ],
   "source": [
    "plt.scatter([1,1],[2,3])"
   ]
  },
  {
   "cell_type": "markdown",
   "metadata": {
    "slideshow": {
     "slide_type": "slide"
    }
   },
   "source": [
    "### Exploratory analysis\n",
    "\n",
    "Visualization plays an important part in exploratory analysis. When performing exploratory analysis, we are interested to summarize the data but with the help of our vision."
   ]
  },
  {
   "cell_type": "markdown",
   "metadata": {
    "slideshow": {
     "slide_type": "slide"
    }
   },
   "source": [
    "#### Histogram\n",
    "\n",
    "One of many ways that we can look at frequency of an attribute in the data is to visualize its histogram. In the histogram, we need to set a parameter called \"bins\" that basically divides the data into intervals and counts the frequency in each bin. Let us look at histogram of the attribute \"mean radius\" across both classes. Another parameter alpha sets transpareny level of the rendering.\n",
    "\n",
    "Let us have a look at some bin values: "
   ]
  },
  {
   "cell_type": "code",
   "execution_count": 12,
   "metadata": {
    "slideshow": {
     "slide_type": "slide"
    }
   },
   "outputs": [],
   "source": [
    "import numpy as np\n",
    "import matplotlib.pyplot as plt\n",
    "\n",
    "fig, ax = plt.subplots(2,2, figsize=(19, 12)) \n",
    "\n",
    "ax[0, 0].hist(malignant['mean radius'], bins=10, alpha=0.75, facecolor='red', label=\"malignant\")\n",
    "ax[0, 0].hist(benign['mean radius'], bins=10, alpha=0.75, facecolor='blue', label=\"benign\")\n",
    "ax[0, 0].legend()\n",
    "ax[0, 0].set_title('bin: 10')\n",
    "\n",
    "ax[0, 1].hist(malignant['mean radius'], bins=50, alpha=0.75, facecolor='red', label=\"malignant\")\n",
    "ax[0, 1].hist(benign['mean radius'], bins=50, alpha=0.75, facecolor='blue', label=\"benign\")\n",
    "ax[0, 1].legend()\n",
    "ax[0, 1].set_title('bin: 50')\n",
    "\n",
    "ax[1, 0].hist(malignant['mean radius'], bins=70, alpha=0.75, facecolor='red', label=\"malignant\")\n",
    "ax[1, 0].hist(benign['mean radius'], bins=70, alpha=0.75, facecolor='blue', label=\"benign\")\n",
    "ax[1, 0].legend()\n",
    "ax[1, 0].set_title('bin: 70')\n",
    "\n",
    "ax[1, 1].hist(malignant['mean radius'], bins=100, alpha=0.75, facecolor='red', label=\"malignant\")\n",
    "ax[1, 1].hist(benign['mean radius'], bins=100, alpha=0.75, facecolor='blue', label=\"benign\")\n",
    "ax[1, 1].legend()\n",
    "ax[1, 1].set_title('bin: 100')\n",
    "\n",
    "fig.suptitle('Histogram: Mean Radius')\n",
    "\n",
    "plt.savefig('./hist_original.png')\n",
    "plt.close()"
   ]
  },
  {
   "cell_type": "markdown",
   "metadata": {
    "slideshow": {
     "slide_type": "slide"
    }
   },
   "source": [
    "<img src=\"./hist_original.png\"/>"
   ]
  },
  {
   "cell_type": "code",
   "execution_count": 13,
   "metadata": {
    "slideshow": {
     "slide_type": "slide"
    }
   },
   "outputs": [],
   "source": [
    "import numpy as np\n",
    "import matplotlib.pyplot as plt\n",
    "\n",
    "plt.ioff()\n",
    "fig, ax = plt.subplots(1, 1, figsize=(11, 9)) \n",
    "\n",
    "ax.hist(malignant['mean radius'], bins='fd', alpha=0.75, facecolor='red', label=\"malignant\")\n",
    "ax.hist(benign['mean radius'], bins='fd', alpha=0.75, facecolor='blue', label=\"benign\")\n",
    "ax.legend()\n",
    "ax.set_title(u'Histogram: Mean Radius (Freedman–Diaconis rule)')\n",
    "\n",
    "plt.savefig('./hist_fd.png')\n",
    "plt.close()"
   ]
  },
  {
   "cell_type": "markdown",
   "metadata": {
    "slideshow": {
     "slide_type": "slide"
    }
   },
   "source": [
    "<img src=\"./hist_fd.png\" />"
   ]
  },
  {
   "cell_type": "markdown",
   "metadata": {
    "slideshow": {
     "slide_type": "skip"
    }
   },
   "source": [
    "You can use the **hist** function on top of your pandas dataframe:"
   ]
  },
  {
   "cell_type": "code",
   "execution_count": 14,
   "metadata": {
    "slideshow": {
     "slide_type": "slide"
    }
   },
   "outputs": [
    {
     "data": {
      "image/png": "[encoded data removed]",
      "text/plain": [
       "<Figure size 1224x1224 with 30 Axes>"
      ]
     },
     "metadata": {
      "needs_background": "light"
     },
     "output_type": "display_data"
    }
   ],
   "source": [
    "histog = data.hist(bins=10, figsize=(17,17))"
   ]
  },
  {
   "cell_type": "markdown",
   "metadata": {
    "slideshow": {
     "slide_type": "slide"
    }
   },
   "source": [
    "#### Histogram with Equal Size"
   ]
  },
  {
   "cell_type": "code",
   "execution_count": 15,
   "metadata": {
    "slideshow": {
     "slide_type": "fragment"
    }
   },
   "outputs": [],
   "source": [
    "### deciles\n",
    "\n",
    "ser_mal, mal_bins = pd.qcut(malignant['mean radius'], 10, retbins=True, labels=False)\n",
    "ser_ben, ben_bins = pd.qcut(benign['mean radius'], 10, retbins=True, labels=False)"
   ]
  },
  {
   "cell_type": "code",
   "execution_count": 16,
   "metadata": {},
   "outputs": [],
   "source": [
    "import numpy as np\n",
    "import matplotlib.pyplot as plt\n",
    "\n",
    "plt.ioff()\n",
    "fig, ax = plt.subplots(1, 1, figsize=(17, 7)) \n",
    "\n",
    "ax.hist(malignant['mean radius'], bins=mal_bins, alpha=0.75, facecolor='red', label=\"malignant\")\n",
    "ax.hist(benign['mean radius'], bins=ben_bins, alpha=0.75, facecolor='blue', label=\"benign\")\n",
    "ax.legend()\n",
    "ax.set_title('Histogram: Mean Radius Oversampled')\n",
    "\n",
    "plt.savefig('./hist_mean_radius_qcut.png')\n",
    "plt.close()"
   ]
  },
  {
   "cell_type": "markdown",
   "metadata": {
    "slideshow": {
     "slide_type": "slide"
    }
   },
   "source": [
    "<img src=\"./hist_mean_radius_qcut.png\" />"
   ]
  },
  {
   "cell_type": "markdown",
   "metadata": {
    "slideshow": {
     "slide_type": "slide"
    }
   },
   "source": [
    "#### Bar chart\n",
    "\n",
    "Bar chart are one of the most popular visualization methods. They are used for all types of attributes, categorical or numerical. One of the ways you can visualize a categorical variable is to simply count how many of each there is and show that count.\n",
    "\n",
    "A histogram lets you do exactly this. In our dataset, we can treat the diagnosis label as a categorical variable:"
   ]
  },
  {
   "cell_type": "code",
   "execution_count": 17,
   "metadata": {
    "slideshow": {
     "slide_type": "slide"
    }
   },
   "outputs": [],
   "source": [
    "import matplotlib.pyplot as plt\n",
    "\n",
    "type_data = {'malignant': len(malignant), 'benign': len(benign)}\n",
    "\n",
    "plt.ioff()\n",
    "fig = plt.figure(figsize=(11, 9))\n",
    "\n",
    "plt.bar(type_data.keys(), type_data.values(), color=['blue', 'red'])\n",
    "plt.title('Histogram: Class Labels')\n",
    "\n",
    "plt.savefig('./bar_classes.png')\n",
    "plt.close()"
   ]
  },
  {
   "cell_type": "markdown",
   "metadata": {
    "slideshow": {
     "slide_type": "slide"
    }
   },
   "source": [
    "<img src=\"./bar_classes.png\" style=\"width:600px;\"/>"
   ]
  },
  {
   "cell_type": "markdown",
   "metadata": {
    "slideshow": {
     "slide_type": "skip"
    }
   },
   "source": [
    "#### Class-imbalance problem\n",
    "\n",
    "Performing a classification task in Machine Learning with unbalanced classes can be tricky. One common challenge is that for this type of data, it is hard to improve upon the accuracy of a default model which just predicts the class with the higher number of class members."
   ]
  },
  {
   "cell_type": "markdown",
   "metadata": {
    "slideshow": {
     "slide_type": "slide"
    }
   },
   "source": [
    "When confronted with class-imbalance problem, there are two approaches researchers and practitioners take:\n",
    "* Over-sampling: increase the number of instances from the class with lower number of instances\n",
    "* Under-sampling: decrease the number of instances from the class with higher number of instances \n",
    "* AUC: consider a performance metric that is less affected by class imbalance with AUC"
   ]
  },
  {
   "cell_type": "markdown",
   "metadata": {
    "slideshow": {
     "slide_type": "skip"
    }
   },
   "source": [
    "In this lecture we focus on one method from each approach, namely *RandomOverSampler* and  *RandomUnderSampler*:"
   ]
  },
  {
   "cell_type": "markdown",
   "metadata": {
    "slideshow": {
     "slide_type": "slide"
    }
   },
   "source": [
    "### Oversampling\n",
    "\n",
    "We will be using *imblearn* package for both cases. We will install the package as it is not included in Anaconda by default:"
   ]
  },
  {
   "cell_type": "code",
   "execution_count": 18,
   "metadata": {
    "slideshow": {
     "slide_type": "slide"
    }
   },
   "outputs": [
    {
     "name": "stdout",
     "output_type": "stream",
     "text": [
      "Requirement already satisfied: imblearn in /Users/amirrahnama/anaconda3/envs/tf/lib/python2.7/site-packages (0.0)\n",
      "Requirement already satisfied: imbalanced-learn in /Users/amirrahnama/anaconda3/envs/tf/lib/python2.7/site-packages (from imblearn) (0.4.3)\n",
      "Requirement already satisfied: numpy>=1.8.2 in /Users/amirrahnama/anaconda3/envs/tf/lib/python2.7/site-packages (from imbalanced-learn->imblearn) (1.15.4)\n",
      "Requirement already satisfied: scipy>=0.13.3 in /Users/amirrahnama/anaconda3/envs/tf/lib/python2.7/site-packages (from imbalanced-learn->imblearn) (1.1.0)\n",
      "Requirement already satisfied: scikit-learn>=0.20 in /Users/amirrahnama/anaconda3/envs/tf/lib/python2.7/site-packages (from imbalanced-learn->imblearn) (0.20.0)\n",
      "\u001b[33mYou are using pip version 10.0.1, however version 18.1 is available.\n",
      "You should consider upgrading via the 'pip install --upgrade pip' command.\u001b[0m\n"
     ]
    }
   ],
   "source": [
    "!pip install imblearn"
   ]
  },
  {
   "cell_type": "code",
   "execution_count": 19,
   "metadata": {
    "slideshow": {
     "slide_type": "slide"
    }
   },
   "outputs": [],
   "source": [
    "from imblearn.over_sampling import RandomOverSampler\n",
    "\n",
    "X_oversampled, y_oversampled = RandomOverSampler().fit_resample(X, y)"
   ]
  },
  {
   "cell_type": "code",
   "execution_count": 20,
   "metadata": {
    "slideshow": {
     "slide_type": "fragment"
    }
   },
   "outputs": [],
   "source": [
    "data_resample = pd.DataFrame(data= X_oversampled, columns=d.feature_names)\n",
    "\n",
    "malignant_filter_oversampled = y_oversampled == 0 \n",
    "benign_filter_oversampled = y_oversampled == 1\n",
    "\n",
    "malignant_oversampled = data_resample[malignant_filter_oversampled]\n",
    "benign_oversampled = data_resample[benign_filter_oversampled]"
   ]
  },
  {
   "cell_type": "markdown",
   "metadata": {
    "slideshow": {
     "slide_type": "skip"
    }
   },
   "source": [
    "Now let's revisit the histogram of the class labels:"
   ]
  },
  {
   "cell_type": "code",
   "execution_count": 21,
   "metadata": {
    "slideshow": {
     "slide_type": "slide"
    }
   },
   "outputs": [],
   "source": [
    "import matplotlib.pyplot as plt\n",
    "\n",
    "type_data = {'malignant': len(malignant_oversampled), 'benign': len(benign_oversampled)}\n",
    "\n",
    "\n",
    "plt.ioff()\n",
    "fig = plt.figure(figsize=(11, 9))\n",
    "\n",
    "plt.bar(type_data.keys(), type_data.values(), color=['blue', 'red'])\n",
    "plt.title('Histogram: Class Labels')\n",
    "\n",
    "plt.savefig('./bar_classes_oversampled.png')\n",
    "plt.close()"
   ]
  },
  {
   "cell_type": "markdown",
   "metadata": {
    "slideshow": {
     "slide_type": "slide"
    }
   },
   "source": [
    "<img src=\"./bar_classes_oversampled.png\" style=\"width:600px;\"/>"
   ]
  },
  {
   "cell_type": "code",
   "execution_count": 22,
   "metadata": {
    "slideshow": {
     "slide_type": "slide"
    }
   },
   "outputs": [],
   "source": [
    "import numpy as np\n",
    "import matplotlib.pyplot as plt\n",
    "\n",
    "plt.ioff()\n",
    "fig, ax = plt.subplots(1,2, figsize=(17, 7)) \n",
    "\n",
    "ax[0].hist(malignant['mean radius'], bins=70, alpha=0.75, facecolor='red', label=\"malignant\")\n",
    "ax[0].hist(benign['mean radius'], bins=70, alpha=0.75, facecolor='blue', label=\"benign\")\n",
    "ax[0].axvline(x=11, color=\"darkgreen\", linestyle='--')\n",
    "ax[0].axvline(x=18, color=\"darkgreen\", linestyle='--')\n",
    "ax[0].legend()\n",
    "ax[0].set_title('Histogram: Mean Radius')\n",
    "\n",
    "ax[1].hist(malignant_oversampled['mean radius'], bins=70, alpha=0.75, facecolor='red', label=\"malignant\")\n",
    "ax[1].hist(benign_oversampled['mean radius'], bins=70, alpha=0.75, facecolor='blue', label=\"benign\")\n",
    "ax[1].axvline(x=11, color=\"darkgreen\", linestyle='--')\n",
    "ax[1].axvline(x=18, color=\"darkgreen\", linestyle='--')\n",
    "ax[1].legend()\n",
    "ax[1].set_title('Histogram: Mean Radius Oversampled')\n",
    "\n",
    "plt.savefig('./hist_radius_oversampled.png')\n",
    "plt.close()"
   ]
  },
  {
   "cell_type": "markdown",
   "metadata": {
    "slideshow": {
     "slide_type": "slide"
    }
   },
   "source": [
    "<img src=\"./hist_radius_oversampled.png\"/>"
   ]
  },
  {
   "cell_type": "markdown",
   "metadata": {
    "slideshow": {
     "slide_type": "slide"
    }
   },
   "source": [
    "### Undersampling"
   ]
  },
  {
   "cell_type": "code",
   "execution_count": 23,
   "metadata": {
    "slideshow": {
     "slide_type": "fragment"
    }
   },
   "outputs": [],
   "source": [
    "from imblearn.under_sampling import RandomUnderSampler\n",
    "\n",
    "rus = RandomUnderSampler(random_state=0)\n",
    "X_undersampled, y_undersampled = rus.fit_resample(X, y)"
   ]
  },
  {
   "cell_type": "code",
   "execution_count": 24,
   "metadata": {
    "slideshow": {
     "slide_type": "skip"
    }
   },
   "outputs": [],
   "source": [
    "data_undersampled = pd.DataFrame(data= X_undersampled, columns=d.feature_names)\n",
    "\n",
    "malignant_filter_undersample = y_undersampled== 0 \n",
    "benign_filter_undersample = y_undersampled == 1\n",
    "\n",
    "malignant_undersampled = data_undersampled[malignant_filter_undersample]\n",
    "benign_undersampled = data_undersampled[benign_filter_undersample]"
   ]
  },
  {
   "cell_type": "code",
   "execution_count": 25,
   "metadata": {
    "slideshow": {
     "slide_type": "slide"
    }
   },
   "outputs": [],
   "source": [
    "import matplotlib.pyplot as plt\n",
    "\n",
    "type_data = {'malignant': len(malignant_undersampled), 'benign': len(benign_undersampled)}\n",
    "\n",
    "plt.ioff()\n",
    "\n",
    "plt.figure(figsize=(11,9))\n",
    "plt.bar(type_data.keys(), type_data.values(), color=['blue', 'red'])\n",
    "plt.title('Class distribution')\n",
    "\n",
    "plt.savefig('./bar_classes_oversample.png')\n",
    "plt.close()"
   ]
  },
  {
   "cell_type": "markdown",
   "metadata": {
    "slideshow": {
     "slide_type": "slide"
    }
   },
   "source": [
    "<img src=\"./bar_classes_oversample.png\"/>"
   ]
  },
  {
   "cell_type": "code",
   "execution_count": 26,
   "metadata": {
    "slideshow": {
     "slide_type": "slide"
    }
   },
   "outputs": [],
   "source": [
    "import numpy as np\n",
    "import matplotlib.pyplot as plt\n",
    "\n",
    "plt.ioff()\n",
    "\n",
    "fig, ax = plt.subplots(1,2, figsize=(17, 8)) \n",
    "\n",
    "# Original data\n",
    "ax[0].hist(malignant['mean radius'], 70, alpha=0.75, facecolor='red', label=\"malignant\")\n",
    "ax[0].hist(benign['mean radius'], 70, alpha=0.75, facecolor='blue', label=\"benign\")\n",
    "\n",
    "ax[0].axvline(x=11, color=\"darkgreen\", linestyle='--')\n",
    "ax[0].axvline(x=18, color=\"darkgreen\", linestyle='--')\n",
    "\n",
    "ax[0].legend()\n",
    "ax[0].set_title('Original')\n",
    "\n",
    "\n",
    "# Undersampled data\n",
    "ax[1].hist(malignant_undersampled['mean radius'], 70, alpha=0.75, facecolor='red', label=\"malignant\")\n",
    "ax[1].hist(benign_undersampled['mean radius'], 70, alpha=0.75, facecolor='blue', label=\"benign\")\n",
    "\n",
    "ax[1].axvline(x=11, color=\"darkgreen\", linestyle='--')\n",
    "ax[1].axvline(x=18, color=\"darkgreen\", linestyle='--')\n",
    "\n",
    "ax[1].legend()\n",
    "ax[1].set_title('Undersample')\n",
    "\n",
    "fig.suptitle('Histogram: Mean Radius')\n",
    "\n",
    "plt.savefig('./hist_undersample.png')\n",
    "plt.close()\n"
   ]
  },
  {
   "cell_type": "markdown",
   "metadata": {
    "slideshow": {
     "slide_type": "slide"
    }
   },
   "source": [
    "<img src=\"./hist_undersample.png\"/>"
   ]
  },
  {
   "cell_type": "markdown",
   "metadata": {
    "slideshow": {
     "slide_type": "skip"
    }
   },
   "source": [
    "As you can see, values less than 10 and more than 18 are clearly divided in their histogram. In these two cases, we are sure the class that the data belongs to.\n",
    "\n",
    "In both cases, we are changing the underlying distributions. Which of the approaches do you think has affected the distribution more than the other? From the visualization, one can say that the undersampling approach looks much closer to the original data. Can we confirm that with a statistical test?"
   ]
  },
  {
   "cell_type": "markdown",
   "metadata": {
    "slideshow": {
     "slide_type": "slide"
    }
   },
   "source": [
    "#### Kolmogorov-Smirnov statistic\n",
    "\n",
    "The Kolmogorov–Smirnov statistic quantifies a distance between the empirical distribution function of the sample and the cumulative distribution function of the reference distribution, or between the empirical distribution functions of two samples. The null hypothesis is that the distributions are the same:"
   ]
  },
  {
   "cell_type": "code",
   "execution_count": 27,
   "metadata": {
    "slideshow": {
     "slide_type": "fragment"
    }
   },
   "outputs": [
    {
     "data": {
      "text/plain": [
       "Ks_2sampResult(statistic=0.0, pvalue=1.0)"
      ]
     },
     "execution_count": 27,
     "metadata": {},
     "output_type": "execute_result"
    }
   ],
   "source": [
    "from scipy import stats\n",
    "\n",
    "stats.ks_2samp(malignant['mean radius'], malignant_undersampled['mean radius'])"
   ]
  },
  {
   "cell_type": "code",
   "execution_count": 28,
   "metadata": {
    "slideshow": {
     "slide_type": "fragment"
    }
   },
   "outputs": [
    {
     "data": {
      "text/plain": [
       "Ks_2sampResult(statistic=0.02075735954759264, pvalue=0.9999999925389874)"
      ]
     },
     "execution_count": 28,
     "metadata": {},
     "output_type": "execute_result"
    }
   ],
   "source": [
    "from scipy import stats\n",
    "\n",
    "stats.ks_2samp(malignant['mean radius'], malignant_oversampled['mean radius'])"
   ]
  },
  {
   "cell_type": "markdown",
   "metadata": {
    "slideshow": {
     "slide_type": "skip"
    }
   },
   "source": [
    "In our KS statistic, you can see that the oversampled case has the lower p-value. In the both cases, we cannot reject the null hypothesis, due to the fact that p-value is highest and statistic is low. \n",
    "\n",
    "Please make sure that we are only showing one attribute in the whole dataset and none of these analysis are comprehensive enough to say which method is the best one to choose, however we are trying to show you how to solve a problem."
   ]
  },
  {
   "cell_type": "markdown",
   "metadata": {
    "slideshow": {
     "slide_type": "slide"
    }
   },
   "source": [
    "### Density Plots\n",
    "\n",
    "Sometimes instead of using counts, you can visualize the probability density function instead, the key is to pass **density=True** inside the function. Now we get probablity values and not only that, the area under the chart will sum up to 1, just like a Probability Density Function (PDF):"
   ]
  },
  {
   "cell_type": "code",
   "execution_count": 29,
   "metadata": {
    "slideshow": {
     "slide_type": "slide"
    }
   },
   "outputs": [],
   "source": [
    "import numpy as np\n",
    "import matplotlib.pyplot as plt\n",
    "\n",
    "plt.ioff()\n",
    "\n",
    "fig, ax = plt.subplots(1,2, figsize=(16, 8)) \n",
    "\n",
    "# Histogram\n",
    "ax[0].hist(malignant['mean radius'], bins=30, alpha=0.75, facecolor='red', label=\"malignant\")\n",
    "ax[0].hist(benign['mean radius'], bins=30, alpha=0.75, facecolor='blue', label=\"benign\")\n",
    "ax[0].legend()\n",
    "ax[0].set_title('Histogram')\n",
    "\n",
    "# Density Plot\n",
    "ax[1].hist(malignant['mean radius'], bins=30, alpha=0.75, density=True, facecolor='red', label=\"malignant\")\n",
    "ax[1].hist(benign['mean radius'], bins=30, alpha=0.75, density=True, facecolor='blue', label=\"benign\")\n",
    "ax[1].legend()\n",
    "ax[1].set_title('Density Plot')\n",
    "\n",
    "\n",
    "plt.savefig('./desnity_plot.png')\n",
    "plt.close()"
   ]
  },
  {
   "cell_type": "markdown",
   "metadata": {
    "slideshow": {
     "slide_type": "slide"
    }
   },
   "source": [
    "<img src=\"./desnity_plot.png\"/> "
   ]
  },
  {
   "cell_type": "markdown",
   "metadata": {
    "slideshow": {
     "slide_type": "slide"
    }
   },
   "source": [
    "### Paired grid plot"
   ]
  },
  {
   "cell_type": "markdown",
   "metadata": {
    "slideshow": {
     "slide_type": "skip"
    }
   },
   "source": [
    "It can be useful to plot two attributes against one another. From this information such as possible correlation between the variables can be shown, or depending the density of each attribute, you might be able to see clusters of points. Pair grid plot is another name for a two dimensional scatter plot where each axis represent one attribute and the color of points shows the class which each point represents: "
   ]
  },
  {
   "cell_type": "code",
   "execution_count": 30,
   "metadata": {
    "slideshow": {
     "slide_type": "fragment"
    }
   },
   "outputs": [],
   "source": [
    "import numpy as np\n",
    "import matplotlib.pyplot as plt\n",
    "\n",
    "plt.ioff()\n",
    "\n",
    "plt.figure(figsize=(11, 9))\n",
    "\n",
    "plt.scatter(benign['mean area'], benign['mean radius'], c='blue', label='Malignant', alpha=0.6)\n",
    "plt.scatter(malignant['mean area'], malignant['mean radius'], c='green', label='Benign', alpha=0.6)\n",
    "\n",
    "plt.legend()\n",
    "\n",
    "plt.savefig('./pair_area_radius.png')\n",
    "plt.close()\n",
    "\n",
    "plt.show()"
   ]
  },
  {
   "cell_type": "markdown",
   "metadata": {
    "slideshow": {
     "slide_type": "slide"
    }
   },
   "source": [
    "<img src=\"./pair_area_radius.png\"/>"
   ]
  },
  {
   "cell_type": "markdown",
   "metadata": {
    "slideshow": {
     "slide_type": "skip"
    }
   },
   "source": [
    "Sometimes when working with visualizations, not being conscious about the scales or the axes can get you in trouble. From the first look, it seems that the relationship between horizontal and vertical variables resembles the **Y = X** line, but it does not. Setting the axes manually will you show why. In order to make this visually more tangible, we have also visualized the **Y = X** line:"
   ]
  },
  {
   "cell_type": "code",
   "execution_count": 31,
   "metadata": {
    "slideshow": {
     "slide_type": "slide"
    }
   },
   "outputs": [],
   "source": [
    "import numpy as np\n",
    "import matplotlib.pyplot as plt\n",
    "\n",
    "\n",
    "plt.ioff()\n",
    "\n",
    "plt.figure(figsize=(11, 9))\n",
    "plt.scatter(benign['mean area'], benign['mean radius'], c='blue', label='Malignant', alpha=0.6)\n",
    "plt.scatter(malignant['mean area'], malignant['mean radius'], c='green', label='Benign', alpha=0.6)\n",
    "\n",
    "x = np.arange(0, 2500, 1)\n",
    "plt.plot(x, x)\n",
    "\n",
    "plt.ylim(0, 2500)\n",
    "plt.ylim(0, 2500)\n",
    "\n",
    "plt.legend()\n",
    "\n",
    "plt.savefig('./pair_area_radius_scale.png')\n",
    "plt.close()"
   ]
  },
  {
   "cell_type": "markdown",
   "metadata": {
    "slideshow": {
     "slide_type": "slide"
    }
   },
   "source": [
    "<img src=\"./pair_area_radius_scale.png\"/>"
   ]
  },
  {
   "cell_type": "markdown",
   "metadata": {
    "slideshow": {
     "slide_type": "slide"
    }
   },
   "source": [
    "### Heatmap of correlations\n",
    "\n",
    "According to Wikipedia, \"Heatmap is a graphical representation of data where the individual values contained in a matrix are represented as colors\". In this lecture, we are using the Seaborn package (https://seaborn.pydata.org/)."
   ]
  },
  {
   "cell_type": "code",
   "execution_count": 32,
   "metadata": {
    "slideshow": {
     "slide_type": "fragment"
    }
   },
   "outputs": [],
   "source": [
    "import seaborn as sns \n",
    "\n",
    "plt.ioff()\n",
    "\n",
    "f,ax = plt.subplots(figsize=(18, 18))\n",
    "\n",
    "heatmap = sns.heatmap(data_undersampled.corr(), annot=True, linewidths=.5, fmt= '.1f',ax=ax)\n",
    "\n",
    "fig = heatmap.get_figure()\n",
    "fig.savefig(\"heatmap.png\")\n",
    "\n",
    "plt.close()"
   ]
  },
  {
   "cell_type": "markdown",
   "metadata": {
    "slideshow": {
     "slide_type": "slide"
    }
   },
   "source": [
    "<img src=\"heatmap.png\" style=\"height:650px\"/>"
   ]
  },
  {
   "cell_type": "markdown",
   "metadata": {
    "slideshow": {
     "slide_type": "skip"
    }
   },
   "source": [
    "The attributes with highest correlations are lighter than others. As you may know, the maximum value of correlation is one. Therefore the correlation of every attribute with itself is 1, i.e. **corr(X,X) = 1**.  It is interesting to see some variables are in completely correlation of others, have a look at attributes \"worst perimeter\" and \"mean radius\". From the heatmap we can plot the grid plot again, to look at the patterns:"
   ]
  },
  {
   "cell_type": "code",
   "execution_count": 33,
   "metadata": {
    "slideshow": {
     "slide_type": "slide"
    }
   },
   "outputs": [],
   "source": [
    "import numpy as np\n",
    "import matplotlib.pyplot as plt\n",
    "\n",
    "plt.ioff()\n",
    "\n",
    "plt.figure(figsize=(11, 9))\n",
    "plt.scatter(benign['mean radius'], benign['worst radius'], c='blue', label='Malignant', alpha=0.6)\n",
    "plt.scatter(malignant['mean radius'], malignant['worst radius'], c='green', label='Benign', alpha=0.6)\n",
    "plt.legend()\n",
    "\n",
    "plt.savefig('paired_mean_worse_radius.png')\n",
    "plt.close()"
   ]
  },
  {
   "cell_type": "markdown",
   "metadata": {
    "slideshow": {
     "slide_type": "slide"
    }
   },
   "source": [
    "<img src=\"paired_mean_worse_radius.png\"/>"
   ]
  },
  {
   "cell_type": "markdown",
   "metadata": {
    "slideshow": {
     "slide_type": "skip"
    }
   },
   "source": [
    "You can clearly see the correlation between the two variables. What is even more interesting is that you can clearly see that masses with smaller radius and worst radius are more likely to be malignant. This might be in contradiction of the common sense that the bigger the mass is, the more likely to be a malignant mass. Since we look at the perfect case of correlation between attributes, let us look at the worst correlation:"
   ]
  },
  {
   "cell_type": "code",
   "execution_count": 34,
   "metadata": {
    "slideshow": {
     "slide_type": "slide"
    }
   },
   "outputs": [],
   "source": [
    "import numpy as np\n",
    "import matplotlib.pyplot as plt\n",
    "\n",
    "plt.ioff()\n",
    "\n",
    "plt.figure(figsize=(11, 9))\n",
    "plt.scatter(benign['symmetry error'], benign['mean radius'], c='blue', label='Malignant', alpha=0.6)\n",
    "plt.scatter(malignant['symmetry error'], malignant['mean radius'], c='green', label='Benign', alpha=0.6)\n",
    "\n",
    "plt.savefig('./paired_symmery_error_radius.png')\n",
    "plt.close()"
   ]
  },
  {
   "cell_type": "markdown",
   "metadata": {
    "slideshow": {
     "slide_type": "slide"
    }
   },
   "source": [
    "<img src=\"./paired_symmery_error_radius.png\" />"
   ]
  },
  {
   "cell_type": "markdown",
   "metadata": {
    "slideshow": {
     "slide_type": "slide"
    }
   },
   "source": [
    "### Clustermap"
   ]
  },
  {
   "cell_type": "code",
   "execution_count": 35,
   "metadata": {
    "slideshow": {
     "slide_type": "fragment"
    }
   },
   "outputs": [],
   "source": [
    "import seaborn as sns \n",
    "\n",
    "cmap = sns.clustermap(data.corr())\n",
    "\n",
    "cmap.fig.savefig(\"cmap.png\")\n",
    "plt.close()"
   ]
  },
  {
   "cell_type": "markdown",
   "metadata": {
    "slideshow": {
     "slide_type": "slide"
    }
   },
   "source": [
    "<img src=\"cmap.png\" style=\"height:500px\"/>"
   ]
  },
  {
   "cell_type": "markdown",
   "metadata": {
    "slideshow": {
     "slide_type": "slide"
    }
   },
   "source": [
    "### ScatterMatrix"
   ]
  },
  {
   "cell_type": "code",
   "execution_count": 36,
   "metadata": {
    "slideshow": {
     "slide_type": "slide"
    }
   },
   "outputs": [],
   "source": [
    "from pandas.plotting import scatter_matrix\n",
    "import matplotlib.pyplot as plt\n",
    "\n",
    "scatter_matrix(data.iloc[1:100, 1:7], figsize=(20, 17))\n",
    "\n",
    "plt.savefig('./scatter_matrix_7.png')\n",
    "plt.close()"
   ]
  },
  {
   "cell_type": "markdown",
   "metadata": {
    "slideshow": {
     "slide_type": "slide"
    }
   },
   "source": [
    "<img src=\"./scatter_matrix_7.png\" />"
   ]
  },
  {
   "cell_type": "markdown",
   "metadata": {
    "slideshow": {
     "slide_type": "slide"
    }
   },
   "source": [
    "### Boxplot\n",
    "\n",
    "Boxplots are one of many visualizations that can show a wide range of information in a small plot: mean, median, quartiles and more. They are very useful for you to get an idea about the range of data you are dealing with. Have a look yourself:"
   ]
  },
  {
   "cell_type": "code",
   "execution_count": 37,
   "metadata": {
    "slideshow": {
     "slide_type": "slide"
    }
   },
   "outputs": [],
   "source": [
    "import matplotlib.pyplot as plt\n",
    "\n",
    "plt.ioff()\n",
    "\n",
    "data.iloc[:, 5:10].boxplot(figsize=(20, 11), rot=90, showmeans=True)\n",
    "\n",
    "plt.savefig('./boxplot_panda.png')\n",
    "plt.close()"
   ]
  },
  {
   "cell_type": "markdown",
   "metadata": {
    "slideshow": {
     "slide_type": "slide"
    }
   },
   "source": [
    "<img src=\"./boxplot_panda.png\"/>"
   ]
  },
  {
   "cell_type": "markdown",
   "metadata": {
    "slideshow": {
     "slide_type": "slide"
    }
   },
   "source": [
    "### Violin plot (Density, Quantiles and even more)\n",
    "\n",
    "Violin plots are a new generation of plots that embed many different plots in a single visualizations. In order to understand how you can translate violin chart's features, we can look at the following image from [Data Visualization Catalogue](https://datavizcatalogue.com): <img src=\"https://datavizcatalogue.com/methods/images/anatomy/SVG/violin_plot.svg\" alt=\"violin_plot\" style=\"width:400px;\"/>"
   ]
  },
  {
   "cell_type": "code",
   "execution_count": 38,
   "metadata": {
    "slideshow": {
     "slide_type": "slide"
    }
   },
   "outputs": [],
   "source": [
    "from matplotlib import pyplot\n",
    "\n",
    "a4_dims = (11.7, 8.27)\n",
    "\n",
    "data_normalized = data.copy()\n",
    "data_normalized = (data_normalized - data_normalized.mean()) / data_normalized.std()\n",
    "                                \n",
    "data_first_ten = pd.concat([pd.Series(d.target_names[d.target]), data_normalized.iloc[:,0:10]],axis=1)\n",
    "data_first_ten_flat = pd.melt(data_first_ten, id_vars=0, var_name='features', value_name='value')\n",
    "\n",
    "plt.ioff()\n",
    "fig, ax = pyplot.subplots(figsize=a4_dims)\n",
    "vplot = sns.violinplot(x=\"features\", y=\"value\", hue=0, data=data_first_ten_flat, split=True, inner='quart')\n",
    "\n",
    "plt.xticks(rotation=90)\n",
    "fig.savefig('v_0_10.png')\n",
    "plt.close()"
   ]
  },
  {
   "cell_type": "markdown",
   "metadata": {
    "slideshow": {
     "slide_type": "slide"
    }
   },
   "source": [
    "<img src=\"v_0_10.png\" />"
   ]
  },
  {
   "cell_type": "code",
   "execution_count": 39,
   "metadata": {
    "slideshow": {
     "slide_type": "slide"
    }
   },
   "outputs": [],
   "source": [
    "from matplotlib import pyplot\n",
    "\n",
    "a4_dims = (11.7, 8.27)\n",
    "\n",
    "data_second_ten = pd.concat([pd.Series(d.target_names[d.target]), data_normalized.iloc[:,10:20]],axis=1)\n",
    "data_second_ten_flat = pd.melt(data_second_ten, id_vars=0, var_name='features', value_name='value')\n",
    "\n",
    "plt.ioff()\n",
    "fig, ax = pyplot.subplots(figsize=a4_dims)\n",
    "\n",
    "sns.violinplot(x=\"features\", y=\"value\", hue=0, data=data_second_ten_flat, split=True, inner='quart')\n",
    "plt.xticks(rotation=90)\n",
    "\n",
    "fig.savefig('v_10_20.png')\n",
    "plt.close()"
   ]
  },
  {
   "cell_type": "markdown",
   "metadata": {
    "slideshow": {
     "slide_type": "slide"
    }
   },
   "source": [
    "<img src=\"v_10_20.png\" />"
   ]
  },
  {
   "cell_type": "code",
   "execution_count": 40,
   "metadata": {
    "slideshow": {
     "slide_type": "slide"
    }
   },
   "outputs": [],
   "source": [
    "from matplotlib import pyplot\n",
    "\n",
    "a4_dims = (11.7, 8.27)\n",
    "\n",
    "data_third_ten = pd.concat([pd.Series(d.target_names[d.target]), data_normalized.iloc[:,20:31]],axis=1)\n",
    "data_third_ten_flat = pd.melt(data_third_ten, id_vars=0, var_name='features', value_name='value')\n",
    "\n",
    "fig, ax = pyplot.subplots(figsize=a4_dims)\n",
    "sns.violinplot(x=\"features\", y=\"value\", hue=0, data=data_third_ten_flat, split=True, inner='quart')\n",
    "plt.xticks(rotation=90)\n",
    "\n",
    "fig.savefig('v_20_31.png')\n",
    "plt.close()"
   ]
  },
  {
   "cell_type": "markdown",
   "metadata": {
    "slideshow": {
     "slide_type": "slide"
    }
   },
   "source": [
    "<img src=\"v_20_31.png\" />"
   ]
  },
  {
   "cell_type": "code",
   "execution_count": 41,
   "metadata": {
    "slideshow": {
     "slide_type": "slide"
    }
   },
   "outputs": [],
   "source": [
    "import numpy as np\n",
    "import matplotlib.pyplot as plt\n",
    "\n",
    "plt.ioff()\n",
    "\n",
    "fig, ax = plt.subplots(2,2, figsize=(20,11)) \n",
    "\n",
    "\n",
    "ax[0, 0].hist(malignant['area error'], bins=10, alpha=0.75, facecolor='red', label=\"malignant\")\n",
    "ax[0, 0].hist(benign['area error'], bins=10, alpha=0.75, facecolor='blue', label=\"benign\")\n",
    "ax[0, 0].legend()\n",
    "ax[0, 0].set_title('bin=10')\n",
    "\n",
    "ax[0, 1].hist(malignant['area error'], bins=50, alpha=0.75, facecolor='red', label=\"malignant\")\n",
    "ax[0, 1].hist(benign['area error'], bins=50, alpha=0.75, facecolor='blue', label=\"benign\")\n",
    "ax[0, 1].legend()\n",
    "ax[0, 1].set_title('bin=50')\n",
    "\n",
    "ax[1, 0].hist(malignant['area error'], bins=70, alpha=0.75, facecolor='red', label=\"malignant\")\n",
    "ax[1, 0].hist(benign['area error'], bins=70, alpha=0.75, facecolor='blue', label=\"benign\")\n",
    "ax[1, 0].legend()\n",
    "ax[1, 0].set_title('bin=70')\n",
    "\n",
    "ax[1, 1].hist(malignant['area error'], bins=100, alpha=0.75, facecolor='red', label=\"malignant\")\n",
    "ax[1, 1].hist(benign['area error'], bins=100, alpha=0.75, facecolor='blue', label=\"benign\")\n",
    "ax[1, 1].axvline(x=11, color=\"darkgreen\", linestyle='--')\n",
    "ax[1, 1].axvline(x=18, color=\"darkgreen\", linestyle='--')\n",
    "ax[1, 1].legend()\n",
    "ax[1, 1].set_title('bin=100')\n",
    "\n",
    "fig.suptitle('Histogram: Area Error')\n",
    "\n",
    "plt.savefig('hist_mean_area.png')\n",
    "plt.close()"
   ]
  },
  {
   "cell_type": "markdown",
   "metadata": {
    "slideshow": {
     "slide_type": "slide"
    }
   },
   "source": [
    "<img src=\"hist_mean_area.png\" />"
   ]
  },
  {
   "cell_type": "markdown",
   "metadata": {
    "slideshow": {
     "slide_type": "slide"
    }
   },
   "source": [
    "### Visualizations for Modelling"
   ]
  },
  {
   "cell_type": "markdown",
   "metadata": {
    "slideshow": {
     "slide_type": "skip"
    }
   },
   "source": [
    " Not only visualizations are helpful during the exploratory analysis, they are more crucial to help your modelling proecss. We emphasize on all aspects of modelling: visualizing model's predictions, learning process and so forth."
   ]
  },
  {
   "cell_type": "markdown",
   "metadata": {
    "slideshow": {
     "slide_type": "slide"
    }
   },
   "source": [
    "### Predictions"
   ]
  },
  {
   "cell_type": "code",
   "execution_count": 42,
   "metadata": {
    "slideshow": {
     "slide_type": "fragment"
    }
   },
   "outputs": [],
   "source": [
    "from sklearn import tree\n",
    "\n",
    "clf = tree.DecisionTreeClassifier(min_samples_leaf=5)"
   ]
  },
  {
   "cell_type": "code",
   "execution_count": 43,
   "metadata": {
    "slideshow": {
     "slide_type": "slide"
    }
   },
   "outputs": [],
   "source": [
    "from sklearn.model_selection import train_test_split\n",
    "from sklearn.metrics import confusion_matrix\n",
    "\n",
    "X_train, X_test, y_train, y_test = train_test_split(X_undersampled, \n",
    "                                                    y_undersampled, test_size=0.4, random_state=0)\n",
    "\n",
    "clf = clf.fit(X_train, y_train)\n",
    "y_pred = clf.predict(X_test)\n",
    "cm = confusion_matrix(y_test, y_pred)"
   ]
  },
  {
   "cell_type": "code",
   "execution_count": 44,
   "metadata": {
    "slideshow": {
     "slide_type": "slide"
    }
   },
   "outputs": [],
   "source": [
    "fig, ax = plt.subplots(figsize=(9, 7))\n",
    "\n",
    "sns.heatmap(cm,annot=True,fmt=\"d\", xticklabels=['Predicted: \\n malignant', 'Predicted: \\nbenign'], \n",
    "            yticklabels=['Actual: \\n malignant', 'Actual: \\n benign'])\n",
    "\n",
    "fig.savefig('./confusion_matrix.png')\n",
    "plt.close()"
   ]
  },
  {
   "cell_type": "markdown",
   "metadata": {
    "slideshow": {
     "slide_type": "slide"
    }
   },
   "source": [
    "<img src=\"./confusion_matrix.png\" />"
   ]
  },
  {
   "cell_type": "markdown",
   "metadata": {
    "slideshow": {
     "slide_type": "slide"
    }
   },
   "source": [
    "### Learning curve"
   ]
  },
  {
   "cell_type": "markdown",
   "metadata": {
    "slideshow": {
     "slide_type": "skip"
    }
   },
   "source": [
    "How much data does a learning algorithm, predictive model or a Machine Learning model needs to learn a sufficient representation of the data. You can use visualization to understand these types of questions much easier. Let us have a look at one of these curves:"
   ]
  },
  {
   "cell_type": "code",
   "execution_count": 45,
   "metadata": {
    "slideshow": {
     "slide_type": "slide"
    }
   },
   "outputs": [],
   "source": [
    "from sklearn.model_selection import ShuffleSplit\n",
    "from sklearn.naive_bayes import GaussianNB\n",
    "from sklearn.svm import SVC\n",
    "from sklearn.datasets import load_digits\n",
    "from sklearn.model_selection import learning_curve\n",
    "\n",
    "\n",
    "plt.ioff()\n",
    "\n",
    "plt.figure(figsize=(11,9))\n",
    "plt.title(\"Learning curve\")\n",
    "plt.xlabel(\"Training examples\")\n",
    "plt.ylabel(\"Accuracy\")\n",
    "\n",
    "train_sizes, train_scores, valid_scores = learning_curve(clf, X, y, train_sizes=[50, 80, 110], cv=5)\n",
    "train_scores_mean = np.mean(train_scores, axis=1)\n",
    "train_scores_std = np.std(train_scores, axis=1)\n",
    "valid_scores_mean = np.mean(valid_scores, axis=1)\n",
    "valid_scores_std = np.std(valid_scores, axis=1)\n",
    "\n",
    "plt.fill_between(train_sizes, train_scores_mean - train_scores_std,\n",
    "                 train_scores_mean + train_scores_std, alpha=0.1,\n",
    "                 color=\"r\")\n",
    "plt.fill_between(train_sizes, valid_scores_mean - valid_scores_std,\n",
    "                 valid_scores_mean + valid_scores_std, alpha=0.1, color=\"g\")\n",
    "plt.plot(train_sizes, train_scores_mean, 'o-', color=\"r\",\n",
    "         label=\"Training score\")\n",
    "plt.plot(train_sizes, valid_scores_mean, 'o-', color=\"g\",\n",
    "         label=\"Cross-validation score\")\n",
    "\n",
    "plt.legend(loc=\"best\")\n",
    "\n",
    "plt.savefig('learningcurve.png')\n",
    "plt.close()"
   ]
  },
  {
   "cell_type": "markdown",
   "metadata": {
    "slideshow": {
     "slide_type": "slide"
    }
   },
   "source": [
    "<img src=\"learningcurve.png\" />"
   ]
  },
  {
   "cell_type": "markdown",
   "metadata": {
    "slideshow": {
     "slide_type": "skip"
    }
   },
   "source": [
    "As you can see, this chart suggests that training score is high with the increase of data and that validation score is rising. That means clearly that we can use the benefit of having more data to avoid over-fitting situations."
   ]
  },
  {
   "cell_type": "markdown",
   "metadata": {
    "slideshow": {
     "slide_type": "slide"
    }
   },
   "source": [
    "### ROC\n",
    "\n",
    "According to Wikipedia, \"a receiver operating characteristic curve, i.e., ROC curve, is a graphical plot that illustrates the diagnostic ability of a binary classifier system as its discrimination threshold is varied\". We can use methods like **predict_proba** on a classifier and use the **roc_curve**:"
   ]
  },
  {
   "cell_type": "code",
   "execution_count": 46,
   "metadata": {
    "slideshow": {
     "slide_type": "slide"
    }
   },
   "outputs": [],
   "source": [
    "from sklearn.tree import DecisionTreeClassifier\n",
    "from sklearn.metrics import roc_curve, roc_auc_score\n",
    "from matplotlib import pyplot as plt\n",
    "\n",
    "predictions = clf.predict_proba(X_test)\n",
    "fpr, tpr, _ = roc_curve(y_test, predictions[:,1])\n",
    "\n",
    "plt.ioff()\n",
    "plt.figure(figsize=(11,9))\n",
    "\n",
    "plt.clf()\n",
    "plt.plot(fpr, tpr)\n",
    "plt.plot([0, 1], [0, 1], 'k--')\n",
    "plt.xlabel('FPR')\n",
    "plt.ylabel('TPR')\n",
    "plt.title('ROC curve')\n",
    "\n",
    "plt.savefig('./roc.png')\n",
    "plt.close()"
   ]
  },
  {
   "cell_type": "markdown",
   "metadata": {
    "slideshow": {
     "slide_type": "slide"
    }
   },
   "source": [
    "<img src=\"roc.png\"/>"
   ]
  },
  {
   "cell_type": "markdown",
   "metadata": {
    "slideshow": {
     "slide_type": "slide"
    }
   },
   "source": [
    "### Graph Visualization of a model\n",
    "\n",
    "When working with specific set of models, you can have a visualization of the model itself. The good news is that decision trees are one of those models. Let us try to see what would a typical model looks like: "
   ]
  },
  {
   "cell_type": "code",
   "execution_count": 47,
   "metadata": {
    "slideshow": {
     "slide_type": "fragment"
    }
   },
   "outputs": [],
   "source": [
    "from sklearn import tree\n",
    "\n",
    "tree.export_graphviz(clf, out_file='tree.dot')   "
   ]
  },
  {
   "cell_type": "markdown",
   "metadata": {
    "slideshow": {
     "slide_type": "slide"
    }
   },
   "source": [
    "In order to read the dot files, you need to have **GraphViz** installed in your computer. You can find a guide on how to install graphviz here: https://graphviz.gitlab.io/download/. \n",
    "\n",
    "After installing graphviz, you can open your command line and run the following to convert the dot file to a PNG image file:"
   ]
  },
  {
   "cell_type": "code",
   "execution_count": 48,
   "metadata": {
    "slideshow": {
     "slide_type": "fragment"
    }
   },
   "outputs": [],
   "source": [
    "!dot tree.dot -Tpng -o tree.png"
   ]
  },
  {
   "cell_type": "markdown",
   "metadata": {
    "slideshow": {
     "slide_type": "slide"
    }
   },
   "source": [
    "<img src=\"tree.png\"/>"
   ]
  },
  {
   "cell_type": "code",
   "execution_count": 49,
   "metadata": {
    "slideshow": {
     "slide_type": "slide"
    }
   },
   "outputs": [
    {
     "name": "stdout",
     "output_type": "stream",
     "text": [
      "Requirement already satisfied: graphviz in /Users/amirrahnama/anaconda3/envs/tf/lib/python2.7/site-packages (0.10.1)\n",
      "\u001b[33mYou are using pip version 10.0.1, however version 18.1 is available.\n",
      "You should consider upgrading via the 'pip install --upgrade pip' command.\u001b[0m\n"
     ]
    }
   ],
   "source": [
    "!pip install graphviz"
   ]
  },
  {
   "cell_type": "code",
   "execution_count": 50,
   "metadata": {
    "slideshow": {
     "slide_type": "slide"
    }
   },
   "outputs": [
    {
     "data": {
      "image/svg+xml": [
       "<?xml version=\"1.0\" encoding=\"UTF-8\" standalone=\"no\"?>\n",
       "<!DOCTYPE svg PUBLIC \"-//W3C//DTD SVG 1.1//EN\"\n",
       " \"http://www.w3.org/Graphics/SVG/1.1/DTD/svg11.dtd\">\n",
       "<!-- Generated by graphviz version 2.40.1 (20161225.0304)\n",
       " -->\n",
       "<!-- Title: Tree Pages: 1 -->\n",
       "<svg width=\"719pt\" height=\"552pt\"\n",
       " viewBox=\"0.00 0.00 718.50 552.00\" xmlns=\"http://www.w3.org/2000/svg\" xmlns:xlink=\"http://www.w3.org/1999/xlink\">\n",
       "<g id=\"graph0\" class=\"graph\" transform=\"scale(1 1) rotate(0) translate(4 548)\">\n",
       "<title>Tree</title>\n",
       "<polygon fill=\"#ffffff\" stroke=\"transparent\" points=\"-4,4 -4,-548 714.5,-548 714.5,4 -4,4\"/>\n",
       "<!-- 0 -->\n",
       "<g id=\"node1\" class=\"node\">\n",
       "<title>0</title>\n",
       "<path fill=\"#399de5\" fill-opacity=\"0.031373\" stroke=\"#000000\" d=\"M497.5,-544C497.5,-544 322.5,-544 322.5,-544 316.5,-544 310.5,-538 310.5,-532 310.5,-532 310.5,-473 310.5,-473 310.5,-467 316.5,-461 322.5,-461 322.5,-461 497.5,-461 497.5,-461 503.5,-461 509.5,-467 509.5,-473 509.5,-473 509.5,-532 509.5,-532 509.5,-538 503.5,-544 497.5,-544\"/>\n",
       "<text text-anchor=\"start\" x=\"318.5\" y=\"-528.8\" font-family=\"Helvetica,sans-Serif\" font-size=\"14.00\" fill=\"#000000\">mean concave points ≤ 0.051</text>\n",
       "<text text-anchor=\"start\" x=\"381\" y=\"-513.8\" font-family=\"Helvetica,sans-Serif\" font-size=\"14.00\" fill=\"#000000\">gini = 0.5</text>\n",
       "<text text-anchor=\"start\" x=\"364\" y=\"-498.8\" font-family=\"Helvetica,sans-Serif\" font-size=\"14.00\" fill=\"#000000\">samples = 254</text>\n",
       "<text text-anchor=\"start\" x=\"354\" y=\"-483.8\" font-family=\"Helvetica,sans-Serif\" font-size=\"14.00\" fill=\"#000000\">value = [125, 129]</text>\n",
       "<text text-anchor=\"start\" x=\"365\" y=\"-468.8\" font-family=\"Helvetica,sans-Serif\" font-size=\"14.00\" fill=\"#000000\">class = benign</text>\n",
       "</g>\n",
       "<!-- 1 -->\n",
       "<g id=\"node2\" class=\"node\">\n",
       "<title>1</title>\n",
       "<path fill=\"#399de5\" fill-opacity=\"0.937255\" stroke=\"#000000\" d=\"M389,-425C389,-425 271,-425 271,-425 265,-425 259,-419 259,-413 259,-413 259,-354 259,-354 259,-348 265,-342 271,-342 271,-342 389,-342 389,-342 395,-342 401,-348 401,-354 401,-354 401,-413 401,-413 401,-419 395,-425 389,-425\"/>\n",
       "<text text-anchor=\"start\" x=\"267\" y=\"-409.8\" font-family=\"Helvetica,sans-Serif\" font-size=\"14.00\" fill=\"#000000\">mean area ≤ 696.25</text>\n",
       "<text text-anchor=\"start\" x=\"293.5\" y=\"-394.8\" font-family=\"Helvetica,sans-Serif\" font-size=\"14.00\" fill=\"#000000\">gini = 0.114</text>\n",
       "<text text-anchor=\"start\" x=\"284\" y=\"-379.8\" font-family=\"Helvetica,sans-Serif\" font-size=\"14.00\" fill=\"#000000\">samples = 132</text>\n",
       "<text text-anchor=\"start\" x=\"281.5\" y=\"-364.8\" font-family=\"Helvetica,sans-Serif\" font-size=\"14.00\" fill=\"#000000\">value = [8, 124]</text>\n",
       "<text text-anchor=\"start\" x=\"285\" y=\"-349.8\" font-family=\"Helvetica,sans-Serif\" font-size=\"14.00\" fill=\"#000000\">class = benign</text>\n",
       "</g>\n",
       "<!-- 0&#45;&gt;1 -->\n",
       "<g id=\"edge1\" class=\"edge\">\n",
       "<title>0&#45;&gt;1</title>\n",
       "<path fill=\"none\" stroke=\"#000000\" d=\"M382.0199,-460.8796C376.1469,-452.1434 369.8927,-442.8404 363.8321,-433.8253\"/>\n",
       "<polygon fill=\"#000000\" stroke=\"#000000\" points=\"366.5834,-431.6444 358.0995,-425.2981 360.7741,-435.5498 366.5834,-431.6444\"/>\n",
       "<text text-anchor=\"middle\" x=\"353.2915\" y=\"-446.1314\" font-family=\"Helvetica,sans-Serif\" font-size=\"14.00\" fill=\"#000000\">True</text>\n",
       "</g>\n",
       "<!-- 8 -->\n",
       "<g id=\"node9\" class=\"node\">\n",
       "<title>8</title>\n",
       "<path fill=\"#e58139\" fill-opacity=\"0.956863\" stroke=\"#000000\" d=\"M549,-425C549,-425 431,-425 431,-425 425,-425 419,-419 419,-413 419,-413 419,-354 419,-354 419,-348 425,-342 431,-342 431,-342 549,-342 549,-342 555,-342 561,-348 561,-354 561,-354 561,-413 561,-413 561,-419 555,-425 549,-425\"/>\n",
       "<text text-anchor=\"start\" x=\"427\" y=\"-409.8\" font-family=\"Helvetica,sans-Serif\" font-size=\"14.00\" fill=\"#000000\">worst radius ≤ 15.87</text>\n",
       "<text text-anchor=\"start\" x=\"453.5\" y=\"-394.8\" font-family=\"Helvetica,sans-Serif\" font-size=\"14.00\" fill=\"#000000\">gini = 0.079</text>\n",
       "<text text-anchor=\"start\" x=\"444\" y=\"-379.8\" font-family=\"Helvetica,sans-Serif\" font-size=\"14.00\" fill=\"#000000\">samples = 122</text>\n",
       "<text text-anchor=\"start\" x=\"441.5\" y=\"-364.8\" font-family=\"Helvetica,sans-Serif\" font-size=\"14.00\" fill=\"#000000\">value = [117, 5]</text>\n",
       "<text text-anchor=\"start\" x=\"435.5\" y=\"-349.8\" font-family=\"Helvetica,sans-Serif\" font-size=\"14.00\" fill=\"#000000\">class = malignant</text>\n",
       "</g>\n",
       "<!-- 0&#45;&gt;8 -->\n",
       "<g id=\"edge8\" class=\"edge\">\n",
       "<title>0&#45;&gt;8</title>\n",
       "<path fill=\"none\" stroke=\"#000000\" d=\"M437.9801,-460.8796C443.8531,-452.1434 450.1073,-442.8404 456.1679,-433.8253\"/>\n",
       "<polygon fill=\"#000000\" stroke=\"#000000\" points=\"459.2259,-435.5498 461.9005,-425.2981 453.4166,-431.6444 459.2259,-435.5498\"/>\n",
       "<text text-anchor=\"middle\" x=\"466.7085\" y=\"-446.1314\" font-family=\"Helvetica,sans-Serif\" font-size=\"14.00\" fill=\"#000000\">False</text>\n",
       "</g>\n",
       "<!-- 2 -->\n",
       "<g id=\"node3\" class=\"node\">\n",
       "<title>2</title>\n",
       "<path fill=\"#399de5\" fill-opacity=\"0.968627\" stroke=\"#000000\" d=\"M238.5,-306C238.5,-306 115.5,-306 115.5,-306 109.5,-306 103.5,-300 103.5,-294 103.5,-294 103.5,-235 103.5,-235 103.5,-229 109.5,-223 115.5,-223 115.5,-223 238.5,-223 238.5,-223 244.5,-223 250.5,-229 250.5,-235 250.5,-235 250.5,-294 250.5,-294 250.5,-300 244.5,-306 238.5,-306\"/>\n",
       "<text text-anchor=\"start\" x=\"111.5\" y=\"-290.8\" font-family=\"Helvetica,sans-Serif\" font-size=\"14.00\" fill=\"#000000\">worst texture ≤ 33.27</text>\n",
       "<text text-anchor=\"start\" x=\"140.5\" y=\"-275.8\" font-family=\"Helvetica,sans-Serif\" font-size=\"14.00\" fill=\"#000000\">gini = 0.061</text>\n",
       "<text text-anchor=\"start\" x=\"131\" y=\"-260.8\" font-family=\"Helvetica,sans-Serif\" font-size=\"14.00\" fill=\"#000000\">samples = 126</text>\n",
       "<text text-anchor=\"start\" x=\"128.5\" y=\"-245.8\" font-family=\"Helvetica,sans-Serif\" font-size=\"14.00\" fill=\"#000000\">value = [4, 122]</text>\n",
       "<text text-anchor=\"start\" x=\"132\" y=\"-230.8\" font-family=\"Helvetica,sans-Serif\" font-size=\"14.00\" fill=\"#000000\">class = benign</text>\n",
       "</g>\n",
       "<!-- 1&#45;&gt;2 -->\n",
       "<g id=\"edge2\" class=\"edge\">\n",
       "<title>1&#45;&gt;2</title>\n",
       "<path fill=\"none\" stroke=\"#000000\" d=\"M276.488,-341.8796C264.2588,-332.368 251.1656,-322.1843 238.6268,-312.432\"/>\n",
       "<polygon fill=\"#000000\" stroke=\"#000000\" points=\"240.5241,-309.4736 230.4818,-306.0969 236.2265,-314.9991 240.5241,-309.4736\"/>\n",
       "</g>\n",
       "<!-- 7 -->\n",
       "<g id=\"node8\" class=\"node\">\n",
       "<title>7</title>\n",
       "<path fill=\"#e58139\" fill-opacity=\"0.498039\" stroke=\"#000000\" d=\"M381.5,-298.5C381.5,-298.5 280.5,-298.5 280.5,-298.5 274.5,-298.5 268.5,-292.5 268.5,-286.5 268.5,-286.5 268.5,-242.5 268.5,-242.5 268.5,-236.5 274.5,-230.5 280.5,-230.5 280.5,-230.5 381.5,-230.5 381.5,-230.5 387.5,-230.5 393.5,-236.5 393.5,-242.5 393.5,-242.5 393.5,-286.5 393.5,-286.5 393.5,-292.5 387.5,-298.5 381.5,-298.5\"/>\n",
       "<text text-anchor=\"start\" x=\"294.5\" y=\"-283.3\" font-family=\"Helvetica,sans-Serif\" font-size=\"14.00\" fill=\"#000000\">gini = 0.444</text>\n",
       "<text text-anchor=\"start\" x=\"293\" y=\"-268.3\" font-family=\"Helvetica,sans-Serif\" font-size=\"14.00\" fill=\"#000000\">samples = 6</text>\n",
       "<text text-anchor=\"start\" x=\"290.5\" y=\"-253.3\" font-family=\"Helvetica,sans-Serif\" font-size=\"14.00\" fill=\"#000000\">value = [4, 2]</text>\n",
       "<text text-anchor=\"start\" x=\"276.5\" y=\"-238.3\" font-family=\"Helvetica,sans-Serif\" font-size=\"14.00\" fill=\"#000000\">class = malignant</text>\n",
       "</g>\n",
       "<!-- 1&#45;&gt;7 -->\n",
       "<g id=\"edge7\" class=\"edge\">\n",
       "<title>1&#45;&gt;7</title>\n",
       "<path fill=\"none\" stroke=\"#000000\" d=\"M330.3498,-341.8796C330.4394,-331.2134 330.5361,-319.7021 330.6269,-308.9015\"/>\n",
       "<polygon fill=\"#000000\" stroke=\"#000000\" points=\"334.1274,-308.844 330.7116,-298.8149 327.1276,-308.7851 334.1274,-308.844\"/>\n",
       "</g>\n",
       "<!-- 3 -->\n",
       "<g id=\"node4\" class=\"node\">\n",
       "<title>3</title>\n",
       "<path fill=\"#399de5\" fill-opacity=\"0.992157\" stroke=\"#000000\" d=\"M208,-187C208,-187 26,-187 26,-187 20,-187 14,-181 14,-175 14,-175 14,-116 14,-116 14,-110 20,-104 26,-104 26,-104 208,-104 208,-104 214,-104 220,-110 220,-116 220,-116 220,-175 220,-175 220,-181 214,-187 208,-187\"/>\n",
       "<text text-anchor=\"start\" x=\"22\" y=\"-171.8\" font-family=\"Helvetica,sans-Serif\" font-size=\"14.00\" fill=\"#000000\">fractal dimension error ≤ 0.001</text>\n",
       "<text text-anchor=\"start\" x=\"80.5\" y=\"-156.8\" font-family=\"Helvetica,sans-Serif\" font-size=\"14.00\" fill=\"#000000\">gini = 0.017</text>\n",
       "<text text-anchor=\"start\" x=\"71\" y=\"-141.8\" font-family=\"Helvetica,sans-Serif\" font-size=\"14.00\" fill=\"#000000\">samples = 117</text>\n",
       "<text text-anchor=\"start\" x=\"68.5\" y=\"-126.8\" font-family=\"Helvetica,sans-Serif\" font-size=\"14.00\" fill=\"#000000\">value = [1, 116]</text>\n",
       "<text text-anchor=\"start\" x=\"72\" y=\"-111.8\" font-family=\"Helvetica,sans-Serif\" font-size=\"14.00\" fill=\"#000000\">class = benign</text>\n",
       "</g>\n",
       "<!-- 2&#45;&gt;3 -->\n",
       "<g id=\"edge3\" class=\"edge\">\n",
       "<title>2&#45;&gt;3</title>\n",
       "<path fill=\"none\" stroke=\"#000000\" d=\"M156.0149,-222.8796C151.701,-214.3236 147.1128,-205.2238 142.6554,-196.3833\"/>\n",
       "<polygon fill=\"#000000\" stroke=\"#000000\" points=\"145.7021,-194.6515 138.0747,-187.2981 139.4516,-197.8031 145.7021,-194.6515\"/>\n",
       "</g>\n",
       "<!-- 6 -->\n",
       "<g id=\"node7\" class=\"node\">\n",
       "<title>6</title>\n",
       "<path fill=\"#399de5\" fill-opacity=\"0.498039\" stroke=\"#000000\" d=\"M332,-179.5C332,-179.5 250,-179.5 250,-179.5 244,-179.5 238,-173.5 238,-167.5 238,-167.5 238,-123.5 238,-123.5 238,-117.5 244,-111.5 250,-111.5 250,-111.5 332,-111.5 332,-111.5 338,-111.5 344,-117.5 344,-123.5 344,-123.5 344,-167.5 344,-167.5 344,-173.5 338,-179.5 332,-179.5\"/>\n",
       "<text text-anchor=\"start\" x=\"254.5\" y=\"-164.3\" font-family=\"Helvetica,sans-Serif\" font-size=\"14.00\" fill=\"#000000\">gini = 0.444</text>\n",
       "<text text-anchor=\"start\" x=\"253\" y=\"-149.3\" font-family=\"Helvetica,sans-Serif\" font-size=\"14.00\" fill=\"#000000\">samples = 9</text>\n",
       "<text text-anchor=\"start\" x=\"250.5\" y=\"-134.3\" font-family=\"Helvetica,sans-Serif\" font-size=\"14.00\" fill=\"#000000\">value = [3, 6]</text>\n",
       "<text text-anchor=\"start\" x=\"246\" y=\"-119.3\" font-family=\"Helvetica,sans-Serif\" font-size=\"14.00\" fill=\"#000000\">class = benign</text>\n",
       "</g>\n",
       "<!-- 2&#45;&gt;6 -->\n",
       "<g id=\"edge6\" class=\"edge\">\n",
       "<title>2&#45;&gt;6</title>\n",
       "<path fill=\"none\" stroke=\"#000000\" d=\"M216.8717,-222.8796C227.9324,-211.3337 239.9418,-198.7976 251.0094,-187.2446\"/>\n",
       "<polygon fill=\"#000000\" stroke=\"#000000\" points=\"253.7365,-189.4573 258.1269,-179.8149 248.6817,-184.6149 253.7365,-189.4573\"/>\n",
       "</g>\n",
       "<!-- 4 -->\n",
       "<g id=\"node5\" class=\"node\">\n",
       "<title>4</title>\n",
       "<path fill=\"#399de5\" fill-opacity=\"0.749020\" stroke=\"#000000\" d=\"M94,-68C94,-68 12,-68 12,-68 6,-68 0,-62 0,-56 0,-56 0,-12 0,-12 0,-6 6,0 12,0 12,0 94,0 94,0 100,0 106,-6 106,-12 106,-12 106,-56 106,-56 106,-62 100,-68 94,-68\"/>\n",
       "<text text-anchor=\"start\" x=\"20.5\" y=\"-52.8\" font-family=\"Helvetica,sans-Serif\" font-size=\"14.00\" fill=\"#000000\">gini = 0.32</text>\n",
       "<text text-anchor=\"start\" x=\"15\" y=\"-37.8\" font-family=\"Helvetica,sans-Serif\" font-size=\"14.00\" fill=\"#000000\">samples = 5</text>\n",
       "<text text-anchor=\"start\" x=\"12.5\" y=\"-22.8\" font-family=\"Helvetica,sans-Serif\" font-size=\"14.00\" fill=\"#000000\">value = [1, 4]</text>\n",
       "<text text-anchor=\"start\" x=\"8\" y=\"-7.8\" font-family=\"Helvetica,sans-Serif\" font-size=\"14.00\" fill=\"#000000\">class = benign</text>\n",
       "</g>\n",
       "<!-- 3&#45;&gt;4 -->\n",
       "<g id=\"edge4\" class=\"edge\">\n",
       "<title>3&#45;&gt;4</title>\n",
       "<path fill=\"none\" stroke=\"#000000\" d=\"M93.1688,-103.9815C88.1044,-95.1585 82.7475,-85.8258 77.6532,-76.9506\"/>\n",
       "<polygon fill=\"#000000\" stroke=\"#000000\" points=\"80.6807,-75.1942 72.667,-68.2637 74.6097,-78.6789 80.6807,-75.1942\"/>\n",
       "</g>\n",
       "<!-- 5 -->\n",
       "<g id=\"node6\" class=\"node\">\n",
       "<title>5</title>\n",
       "<path fill=\"#399de5\" stroke=\"#000000\" d=\"M225.5,-68C225.5,-68 136.5,-68 136.5,-68 130.5,-68 124.5,-62 124.5,-56 124.5,-56 124.5,-12 124.5,-12 124.5,-6 130.5,0 136.5,0 136.5,0 225.5,0 225.5,0 231.5,0 237.5,-6 237.5,-12 237.5,-12 237.5,-56 237.5,-56 237.5,-62 231.5,-68 225.5,-68\"/>\n",
       "<text text-anchor=\"start\" x=\"152\" y=\"-52.8\" font-family=\"Helvetica,sans-Serif\" font-size=\"14.00\" fill=\"#000000\">gini = 0.0</text>\n",
       "<text text-anchor=\"start\" x=\"135\" y=\"-37.8\" font-family=\"Helvetica,sans-Serif\" font-size=\"14.00\" fill=\"#000000\">samples = 112</text>\n",
       "<text text-anchor=\"start\" x=\"132.5\" y=\"-22.8\" font-family=\"Helvetica,sans-Serif\" font-size=\"14.00\" fill=\"#000000\">value = [0, 112]</text>\n",
       "<text text-anchor=\"start\" x=\"136\" y=\"-7.8\" font-family=\"Helvetica,sans-Serif\" font-size=\"14.00\" fill=\"#000000\">class = benign</text>\n",
       "</g>\n",
       "<!-- 3&#45;&gt;5 -->\n",
       "<g id=\"edge5\" class=\"edge\">\n",
       "<title>3&#45;&gt;5</title>\n",
       "<path fill=\"none\" stroke=\"#000000\" d=\"M140.8312,-103.9815C145.8956,-95.1585 151.2525,-85.8258 156.3468,-76.9506\"/>\n",
       "<polygon fill=\"#000000\" stroke=\"#000000\" points=\"159.3903,-78.6789 161.333,-68.2637 153.3193,-75.1942 159.3903,-78.6789\"/>\n",
       "</g>\n",
       "<!-- 9 -->\n",
       "<g id=\"node10\" class=\"node\">\n",
       "<title>9</title>\n",
       "<path fill=\"#e58139\" fill-opacity=\"0.376471\" stroke=\"#000000\" d=\"M555.5,-306C555.5,-306 424.5,-306 424.5,-306 418.5,-306 412.5,-300 412.5,-294 412.5,-294 412.5,-235 412.5,-235 412.5,-229 418.5,-223 424.5,-223 424.5,-223 555.5,-223 555.5,-223 561.5,-223 567.5,-229 567.5,-235 567.5,-235 567.5,-294 567.5,-294 567.5,-300 561.5,-306 555.5,-306\"/>\n",
       "<text text-anchor=\"start\" x=\"420.5\" y=\"-290.8\" font-family=\"Helvetica,sans-Serif\" font-size=\"14.00\" fill=\"#000000\">worst texture ≤ 24.875</text>\n",
       "<text text-anchor=\"start\" x=\"453.5\" y=\"-275.8\" font-family=\"Helvetica,sans-Serif\" font-size=\"14.00\" fill=\"#000000\">gini = 0.473</text>\n",
       "<text text-anchor=\"start\" x=\"448\" y=\"-260.8\" font-family=\"Helvetica,sans-Serif\" font-size=\"14.00\" fill=\"#000000\">samples = 13</text>\n",
       "<text text-anchor=\"start\" x=\"449.5\" y=\"-245.8\" font-family=\"Helvetica,sans-Serif\" font-size=\"14.00\" fill=\"#000000\">value = [8, 5]</text>\n",
       "<text text-anchor=\"start\" x=\"435.5\" y=\"-230.8\" font-family=\"Helvetica,sans-Serif\" font-size=\"14.00\" fill=\"#000000\">class = malignant</text>\n",
       "</g>\n",
       "<!-- 8&#45;&gt;9 -->\n",
       "<g id=\"edge9\" class=\"edge\">\n",
       "<title>8&#45;&gt;9</title>\n",
       "<path fill=\"none\" stroke=\"#000000\" d=\"M490,-341.8796C490,-333.6838 490,-324.9891 490,-316.5013\"/>\n",
       "<polygon fill=\"#000000\" stroke=\"#000000\" points=\"493.5001,-316.298 490,-306.2981 486.5001,-316.2981 493.5001,-316.298\"/>\n",
       "</g>\n",
       "<!-- 12 -->\n",
       "<g id=\"node13\" class=\"node\">\n",
       "<title>12</title>\n",
       "<path fill=\"#e58139\" stroke=\"#000000\" d=\"M698.5,-298.5C698.5,-298.5 597.5,-298.5 597.5,-298.5 591.5,-298.5 585.5,-292.5 585.5,-286.5 585.5,-286.5 585.5,-242.5 585.5,-242.5 585.5,-236.5 591.5,-230.5 597.5,-230.5 597.5,-230.5 698.5,-230.5 698.5,-230.5 704.5,-230.5 710.5,-236.5 710.5,-242.5 710.5,-242.5 710.5,-286.5 710.5,-286.5 710.5,-292.5 704.5,-298.5 698.5,-298.5\"/>\n",
       "<text text-anchor=\"start\" x=\"619\" y=\"-283.3\" font-family=\"Helvetica,sans-Serif\" font-size=\"14.00\" fill=\"#000000\">gini = 0.0</text>\n",
       "<text text-anchor=\"start\" x=\"602\" y=\"-268.3\" font-family=\"Helvetica,sans-Serif\" font-size=\"14.00\" fill=\"#000000\">samples = 109</text>\n",
       "<text text-anchor=\"start\" x=\"599.5\" y=\"-253.3\" font-family=\"Helvetica,sans-Serif\" font-size=\"14.00\" fill=\"#000000\">value = [109, 0]</text>\n",
       "<text text-anchor=\"start\" x=\"593.5\" y=\"-238.3\" font-family=\"Helvetica,sans-Serif\" font-size=\"14.00\" fill=\"#000000\">class = malignant</text>\n",
       "</g>\n",
       "<!-- 8&#45;&gt;12 -->\n",
       "<g id=\"edge12\" class=\"edge\">\n",
       "<title>8&#45;&gt;12</title>\n",
       "<path fill=\"none\" stroke=\"#000000\" d=\"M545.2607,-341.8796C561.2503,-329.8368 578.6703,-316.7167 594.5474,-304.7586\"/>\n",
       "<polygon fill=\"#000000\" stroke=\"#000000\" points=\"596.8116,-307.435 602.6938,-298.623 592.6002,-301.8435 596.8116,-307.435\"/>\n",
       "</g>\n",
       "<!-- 10 -->\n",
       "<g id=\"node11\" class=\"node\">\n",
       "<title>10</title>\n",
       "<path fill=\"#399de5\" stroke=\"#000000\" d=\"M493,-179.5C493,-179.5 411,-179.5 411,-179.5 405,-179.5 399,-173.5 399,-167.5 399,-167.5 399,-123.5 399,-123.5 399,-117.5 405,-111.5 411,-111.5 411,-111.5 493,-111.5 493,-111.5 499,-111.5 505,-117.5 505,-123.5 505,-123.5 505,-167.5 505,-167.5 505,-173.5 499,-179.5 493,-179.5\"/>\n",
       "<text text-anchor=\"start\" x=\"423\" y=\"-164.3\" font-family=\"Helvetica,sans-Serif\" font-size=\"14.00\" fill=\"#000000\">gini = 0.0</text>\n",
       "<text text-anchor=\"start\" x=\"414\" y=\"-149.3\" font-family=\"Helvetica,sans-Serif\" font-size=\"14.00\" fill=\"#000000\">samples = 5</text>\n",
       "<text text-anchor=\"start\" x=\"411.5\" y=\"-134.3\" font-family=\"Helvetica,sans-Serif\" font-size=\"14.00\" fill=\"#000000\">value = [0, 5]</text>\n",
       "<text text-anchor=\"start\" x=\"407\" y=\"-119.3\" font-family=\"Helvetica,sans-Serif\" font-size=\"14.00\" fill=\"#000000\">class = benign</text>\n",
       "</g>\n",
       "<!-- 9&#45;&gt;10 -->\n",
       "<g id=\"edge10\" class=\"edge\">\n",
       "<title>9&#45;&gt;10</title>\n",
       "<path fill=\"none\" stroke=\"#000000\" d=\"M476.7094,-222.8796C473.2683,-212.1034 469.5517,-200.4647 466.0721,-189.5677\"/>\n",
       "<polygon fill=\"#000000\" stroke=\"#000000\" points=\"469.3339,-188.2763 462.9577,-179.8149 462.6656,-190.4057 469.3339,-188.2763\"/>\n",
       "</g>\n",
       "<!-- 11 -->\n",
       "<g id=\"node12\" class=\"node\">\n",
       "<title>11</title>\n",
       "<path fill=\"#e58139\" stroke=\"#000000\" d=\"M636.5,-179.5C636.5,-179.5 535.5,-179.5 535.5,-179.5 529.5,-179.5 523.5,-173.5 523.5,-167.5 523.5,-167.5 523.5,-123.5 523.5,-123.5 523.5,-117.5 529.5,-111.5 535.5,-111.5 535.5,-111.5 636.5,-111.5 636.5,-111.5 642.5,-111.5 648.5,-117.5 648.5,-123.5 648.5,-123.5 648.5,-167.5 648.5,-167.5 648.5,-173.5 642.5,-179.5 636.5,-179.5\"/>\n",
       "<text text-anchor=\"start\" x=\"557\" y=\"-164.3\" font-family=\"Helvetica,sans-Serif\" font-size=\"14.00\" fill=\"#000000\">gini = 0.0</text>\n",
       "<text text-anchor=\"start\" x=\"548\" y=\"-149.3\" font-family=\"Helvetica,sans-Serif\" font-size=\"14.00\" fill=\"#000000\">samples = 8</text>\n",
       "<text text-anchor=\"start\" x=\"545.5\" y=\"-134.3\" font-family=\"Helvetica,sans-Serif\" font-size=\"14.00\" fill=\"#000000\">value = [8, 0]</text>\n",
       "<text text-anchor=\"start\" x=\"531.5\" y=\"-119.3\" font-family=\"Helvetica,sans-Serif\" font-size=\"14.00\" fill=\"#000000\">class = malignant</text>\n",
       "</g>\n",
       "<!-- 9&#45;&gt;11 -->\n",
       "<g id=\"edge11\" class=\"edge\">\n",
       "<title>9&#45;&gt;11</title>\n",
       "<path fill=\"none\" stroke=\"#000000\" d=\"M523.5761,-222.8796C532.7131,-211.5536 542.6187,-199.2748 551.7902,-187.9058\"/>\n",
       "<polygon fill=\"#000000\" stroke=\"#000000\" points=\"554.7626,-189.7957 558.3174,-179.8149 549.3144,-185.4005 554.7626,-189.7957\"/>\n",
       "</g>\n",
       "</g>\n",
       "</svg>\n"
      ],
      "text/plain": [
       "<graphviz.files.Source at 0x128727390>"
      ]
     },
     "execution_count": 50,
     "metadata": {},
     "output_type": "execute_result"
    }
   ],
   "source": [
    "import graphviz \n",
    "\n",
    "dot_data = tree.export_graphviz(clf, out_file=None, \n",
    "                         feature_names=d.feature_names,  \n",
    "                         class_names=d.target_names,  \n",
    "                         filled=True, rounded=True,  \n",
    "                         special_characters=True) \n",
    "graph = graphviz.Source(dot_data)\n",
    "graph"
   ]
  },
  {
   "cell_type": "markdown",
   "metadata": {
    "slideshow": {
     "slide_type": "slide"
    }
   },
   "source": [
    "### Validation Curve"
   ]
  },
  {
   "cell_type": "markdown",
   "metadata": {
    "slideshow": {
     "slide_type": "skip"
    }
   },
   "source": [
    "All Machine Learning models have parameters that you need to set and you cannot learn those parameters from the data itself. They are called *hyperparameters* and the common way they are set are based on how they affect the error/cost or the score of the model on the validation set. Validations curve are extremely important and one common fallacy is that they are valuable *only* to models that are trained using Stochastic Gradient Descent. Here we show that on the contrary, we perform the same analysis on Decision Trees or other methods that are not usually trained with Stochastic Gradient Descent:"
   ]
  },
  {
   "cell_type": "code",
   "execution_count": 51,
   "metadata": {
    "slideshow": {
     "slide_type": "fragment"
    }
   },
   "outputs": [
    {
     "data": {
      "text/plain": [
       "['presort',\n",
       " 'splitter',\n",
       " 'min_impurity_decrease',\n",
       " 'max_leaf_nodes',\n",
       " 'min_samples_leaf',\n",
       " 'min_samples_split',\n",
       " 'min_weight_fraction_leaf',\n",
       " 'criterion',\n",
       " 'random_state',\n",
       " 'min_impurity_split',\n",
       " 'max_features',\n",
       " 'max_depth',\n",
       " 'class_weight']"
      ]
     },
     "execution_count": 51,
     "metadata": {},
     "output_type": "execute_result"
    }
   ],
   "source": [
    "clf.get_params().keys()"
   ]
  },
  {
   "cell_type": "code",
   "execution_count": 56,
   "metadata": {
    "slideshow": {
     "slide_type": "slide"
    }
   },
   "outputs": [],
   "source": [
    "from sklearn.model_selection import validation_curve\n",
    "\n",
    "\n",
    "param_range = np.linspace(1, 1000, 30)\n",
    "train_scores, test_scores = validation_curve(\n",
    "    clf, X, y, param_name=\"max_depth\", param_range=param_range,\n",
    "    cv=10, scoring=\"accuracy\", n_jobs=1)\n",
    "train_scores_mean = np.mean(train_scores, axis=1)\n",
    "train_scores_std = np.std(train_scores, axis=1)\n",
    "test_scores_mean = np.mean(test_scores, axis=1)\n",
    "test_scores_std = np.std(test_scores, axis=1)\n",
    "\n",
    "\n",
    "plt.figure(figsize=(11,9))\n",
    "plt.title(\"Validation Curve with Decision Tree\")\n",
    "plt.xlabel(\"$\\gamma$\")\n",
    "plt.ylabel(\"Accuracy\")\n",
    "plt.ylim(0.8, 1.1)\n",
    "lw = 2\n",
    "plt.semilogx(param_range, train_scores_mean, label=\"Training score\",\n",
    "             color=\"darkorange\", lw=lw)\n",
    "plt.fill_between(param_range, train_scores_mean - train_scores_std,\n",
    "                 train_scores_mean + train_scores_std, alpha=0.2,\n",
    "                 color=\"darkorange\", lw=lw)\n",
    "plt.semilogx(param_range, test_scores_mean, label=\"Cross-validation score\",\n",
    "             color=\"navy\", lw=lw)\n",
    "plt.fill_between(param_range, test_scores_mean - test_scores_std,\n",
    "                 test_scores_mean + test_scores_std, alpha=0.2,\n",
    "                 color=\"navy\", lw=lw)\n",
    "plt.legend(loc=\"best\")\n",
    "\n",
    "plt.savefig('./validation_curve.png')\n",
    "plt.close()"
   ]
  },
  {
   "cell_type": "markdown",
   "metadata": {
    "slideshow": {
     "slide_type": "slide"
    }
   },
   "source": [
    "<img src=\"./validation_curve.png\" />"
   ]
  },
  {
   "cell_type": "markdown",
   "metadata": {
    "slideshow": {
     "slide_type": "slide"
    }
   },
   "source": [
    "### Precision Recall\n",
    "\n",
    "Precision-Recall is a useful measure of success of prediction when the classes are very imbalanced. In information retrieval, precision is a measure of result relevancy, while recall is a measure of how many truly relevant results are returned. In Sklearn, we have the ability to visualize the curve very easily:"
   ]
  },
  {
   "cell_type": "code",
   "execution_count": 53,
   "metadata": {
    "slideshow": {
     "slide_type": "slide"
    }
   },
   "outputs": [],
   "source": [
    "from sklearn.metrics import precision_recall_curve\n",
    "import matplotlib.pyplot as plt\n",
    "from sklearn.utils.fixes import signature\n",
    "from sklearn.metrics import average_precision_score\n",
    "\n",
    "average_precision = average_precision_score(y_test, y_pred)\n",
    "\n",
    "precision, recall, _ = precision_recall_curve(y_test, y_pred)\n",
    "\n",
    "step_kwargs = ({'step': 'post'}\n",
    "               if 'step' in signature(plt.fill_between).parameters\n",
    "               else {})\n",
    "plt.figure(figsize=(11,9))\n",
    "plt.step(recall, precision, color='b', alpha=0.2,\n",
    "         where='post')\n",
    "plt.fill_between(recall, precision, alpha=0.2, color='b', **step_kwargs)\n",
    "\n",
    "plt.xlabel('Recall')\n",
    "plt.ylabel('Precision')\n",
    "plt.ylim([0.0, 1.05])\n",
    "plt.xlim([0.0, 1.0])\n",
    "plt.title('2-class Precision-Recall curve: AP={0:0.2f}'.format(\n",
    "          average_precision))\n",
    "\n",
    "plt.savefig('./precision_recall.png')\n",
    "plt.close()"
   ]
  },
  {
   "cell_type": "markdown",
   "metadata": {
    "slideshow": {
     "slide_type": "slide"
    }
   },
   "source": [
    "<img src=\"./precision_recall.png\" />"
   ]
  },
  {
   "cell_type": "markdown",
   "metadata": {
    "slideshow": {
     "slide_type": "slide"
    }
   },
   "source": [
    "### Feature importance for a random forest\n",
    "\n",
    "Some Machine Learning models like Random Forest (RF) not only predict but also show which features in their learning method played a role. Let us have a look at a scenario to model the data using a RandomForest:"
   ]
  },
  {
   "cell_type": "code",
   "execution_count": 54,
   "metadata": {
    "slideshow": {
     "slide_type": "slide"
    }
   },
   "outputs": [],
   "source": [
    "import numpy as np\n",
    "import matplotlib.pyplot as plt\n",
    "\n",
    "from sklearn.ensemble import ExtraTreesClassifier\n",
    "\n",
    "# Build a forest and compute the feature importances\n",
    "forest = ExtraTreesClassifier(n_estimators=250,\n",
    "                              random_state=0)\n",
    "\n",
    "forest.fit(X_train, y_train)\n",
    "importances = forest.feature_importances_\n",
    "std = np.std([tree.feature_importances_ for tree in forest.estimators_],\n",
    "             axis=0)\n",
    "indices = np.argsort(importances)[::-1]\n",
    "\n",
    "# Plot the feature importances of the forest\n",
    "plt.figure(figsize=(18, 14))\n",
    "plt.title(\"Feature importances\")\n",
    "plt.bar(range(X_train.shape[1]), importances[indices],\n",
    "       color=\"r\", yerr=std[indices], align=\"center\")\n",
    "plt.xticks(range(X_train.shape[1]), data_undersampled.columns[indices], rotation=90)\n",
    "plt.xlim([-1, X_train.shape[1]])\n",
    "\n",
    "plt.savefig('./rf_feature_importance.png')\n",
    "plt.close()"
   ]
  },
  {
   "cell_type": "markdown",
   "metadata": {
    "slideshow": {
     "slide_type": "slide"
    }
   },
   "source": [
    "<img src=\"./rf_feature_importance.png\" />"
   ]
  },
  {
   "cell_type": "markdown",
   "metadata": {
    "slideshow": {
     "slide_type": "slide"
    }
   },
   "source": [
    "### Decision Boundary Analysis"
   ]
  },
  {
   "cell_type": "markdown",
   "metadata": {
    "slideshow": {
     "slide_type": "subslide"
    }
   },
   "source": [
    "A Machine Learning model learns to divide the feature space with a hyperplane. If we reduce our problem to a two or three dimensional problem, that hyperplane will become visible. In our example, we reduce our input to only the \"mean radius\" and \"mean perimeter\" and show the hyperplane that different classifiers learn to create to partition the data:"
   ]
  },
  {
   "cell_type": "code",
   "execution_count": 55,
   "metadata": {
    "slideshow": {
     "slide_type": "slide"
    }
   },
   "outputs": [],
   "source": [
    "from itertools import product\n",
    "import numpy as np\n",
    "import matplotlib.pyplot as plt\n",
    "from sklearn import datasets\n",
    "from sklearn.tree import DecisionTreeClassifier\n",
    "from sklearn.neighbors import KNeighborsClassifier\n",
    "from sklearn.svm import SVC\n",
    "from sklearn.ensemble import VotingClassifier\n",
    "\n",
    "\n",
    "X_decision = X_undersampled[:, [0, 2]]\n",
    "y_decision = y_undersampled\n",
    "\n",
    "# Training classifiers\n",
    "clf1 = DecisionTreeClassifier(max_depth=4)\n",
    "clf2 = KNeighborsClassifier(n_neighbors=7)\n",
    "clf3 = SVC(gamma=.1, kernel='rbf', probability=True)\n",
    "eclf = VotingClassifier(estimators=[('dt', clf1), ('knn', clf2),\n",
    "                                    ('svc', clf3)],\n",
    "                        voting='soft', weights=[2, 1, 2])\n",
    "\n",
    "clf1.fit(X_decision, y_decision)\n",
    "clf2.fit(X_decision, y_decision)\n",
    "clf3.fit(X_decision, y_decision)\n",
    "eclf.fit(X_decision, y_decision)\n",
    "\n",
    "# Plotting decision regions\n",
    "x_min, x_max = X_decision[:, 0].min() - 1, X_decision[:, 0].max() + 1\n",
    "y_min, y_max = X_decision[:, 1].min() - 1, X_decision[:, 1].max() + 1\n",
    "xx, yy = np.meshgrid(np.arange(x_min, x_max, 0.1),\n",
    "                     np.arange(y_min, y_max, 0.1))\n",
    "\n",
    "f, axarr = plt.subplots(2, 2, sharex='col', sharey='row', figsize=(18, 14))\n",
    "\n",
    "for idx, clff, tt in zip(product([0, 1], [0, 1]),\n",
    "                        [clf1, clf2, clf3, eclf],\n",
    "                        ['Decision Tree (depth=4)', 'KNN (k=7)',\n",
    "                         'SVM with RBF kernel', 'Soft Voting']):\n",
    "\n",
    "    Z = clff.predict(np.c_[xx.ravel(), yy.ravel()])\n",
    "    Z = Z.reshape(xx.shape)\n",
    "\n",
    "    axarr[idx[0], idx[1]].contourf(xx, yy, Z, alpha=0.4)\n",
    "    axarr[idx[0], idx[1]].scatter(X_decision[:, 0], X_decision[:, 1], c=y_decision,\n",
    "                                  s=20, edgecolor='k')\n",
    "    axarr[idx[0], idx[1]].set_title(tt)\n",
    "\n",
    "plt.savefig('./decision_boundary.png')\n",
    "plt.close()"
   ]
  },
  {
   "cell_type": "markdown",
   "metadata": {
    "slideshow": {
     "slide_type": "slide"
    }
   },
   "source": [
    "<img src=\"./decision_boundary.png\" />"
   ]
  },
  {
   "cell_type": "markdown",
   "metadata": {
    "slideshow": {
     "slide_type": "slide"
    }
   },
   "source": [
    "### Libraries \n",
    "\n",
    "A lot of the examples I covered and I showed you how to code them, you can find in this package/library:  https://github.com/reiinakano/scikit-plot"
   ]
  },
  {
   "cell_type": "markdown",
   "metadata": {
    "slideshow": {
     "slide_type": "slide"
    }
   },
   "source": [
    "### Thank you for your attention!\n",
    "\n",
    "In the next lecture, we will cover libraries such as **Tensorflow**, Neural Networks, RandomForests and GPU computation using these libraries!"
   ]
  }
 ],
 "metadata": {
  "celltoolbar": "Slideshow",
  "kernelspec": {
   "display_name": "Python (tf)",
   "language": "python",
   "name": "tf"
  },
  "language_info": {
   "codemirror_mode": {
    "name": "ipython",
    "version": 3
   },
   "file_extension": ".py",
   "mimetype": "text/x-python",
   "name": "python",
   "nbconvert_exporter": "python",
   "pygments_lexer": "ipython3",
   "version": "3.5.5"
  }
 },
 "nbformat": 4,
 "nbformat_minor": 2
}
