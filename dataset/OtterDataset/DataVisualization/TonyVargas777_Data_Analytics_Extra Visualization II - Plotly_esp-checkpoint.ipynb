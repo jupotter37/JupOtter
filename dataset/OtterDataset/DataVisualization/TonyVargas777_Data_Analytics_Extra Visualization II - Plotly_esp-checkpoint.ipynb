{
 "cells": [
  {
   "cell_type": "markdown",
   "id": "a5952c42",
   "metadata": {
    "lang": "en"
   },
   "source": [
    "# Visualización interactiva con Plotly"
   ]
  },
  {
   "cell_type": "markdown",
   "id": "inside-estonia",
   "metadata": {},
   "source": [
    "![elgif](https://media.giphy.com/media/jR8EDxMbqi1QQ/giphy.gif)\n",
    "\n",
    "En este cuaderno, exploraremos el mundo de la visualización de datos interactiva utilizando Plotly, una poderosa biblioteca de Python que te permite crear gráficos y diagramas interactivos y visualmente atractivos. Plotly te permite construir dashboards interactivos, explorar conjuntos de datos complejos y transmitir tus insights basados en datos de manera más efectiva.\n",
    "\n",
    "**Una Breve Historia de Plotly**\n",
    "\n",
    "Plotly fue fundado en 2012 por Alex Johnson, Chris Parmer, Jack Parmer y Matthew Sundquist. Surgió como una biblioteca de visualización de datos de código abierto que buscaba proporcionar una solución simple y elegante para crear visualizaciones interactivas. Inicialmente, Plotly comenzó como una biblioteca de JavaScript para crear gráficos y diagramas basados en web.\n",
    "\n",
    "A medida que la popularidad de Plotly creció, el equipo expandió sus ofertas para incluir bibliotecas para Python y R, haciéndolo accesible a una audiencia más amplia de científicos de datos, ingenieros y analistas. La biblioteca de Python de Plotly, Plotly.py, se ha convertido en una de las herramientas más utilizadas para crear visualizaciones de datos interactivas en el ecosistema de Python.\n",
    "\n",
    "Hoy, Plotly es conocido por su versatilidad y facilidad de uso en la creación de una amplia gama de visualizaciones interactivas, incluyendo gráficos de dispersión, gráficos de líneas, gráficos de barras, gráficos en 3D y dashboards complejos. Ha encontrado aplicaciones en diversas industrias, desde finanzas y salud hasta educación e investigación.\n",
    "\n",
    "En este cuaderno, nos sumergiremos en los fundamentos de Plotly, exploraremos sus capacidades y aprenderemos cómo crear visualizaciones interactivas impresionantes para comprender y presentar datos mejor. ¡Embarquémonos en este viaje de exploración de datos y narración con Plotly!\n",
    "\n",
    "## Comparando Plotly con Seaborn y Matplotlib\n",
    "\n",
    "Cuando se trata de visualización de datos en Python, hay varias bibliotecas para elegir. Entre las más populares están Plotly, Seaborn y Matplotlib. Cada una de estas bibliotecas tiene sus fortalezas y casos de uso, haciéndolas adecuadas para diferentes escenarios.\n",
    "\n",
    "### Matplotlib\n",
    "\n",
    "Matplotlib es una de las bibliotecas de visualización de datos más antiguas y ampliamente utilizadas en Python. Proporciona un alto grado de personalización y control detallado sobre cada aspecto de un gráfico o diagrama. Matplotlib es excelente para crear visualizaciones estáticas para publicaciones, informes o exploración básica de datos.\n",
    "\n",
    "**Pros:**\n",
    "- Altamente personalizable.\n",
    "- Soporta una amplia gama de tipos de gráficos.\n",
    "- Adecuado para crear gráficos de calidad de publicación.\n",
    "\n",
    "**Contras:**\n",
    "- Soporte limitado para interactividad.\n",
    "- Curva de aprendizaje más empinada para visualizaciones complejas.\n",
    "\n",
    "### Seaborn\n",
    "\n",
    "Seaborn se construye sobre Matplotlib y ofrece una interfaz de más alto nivel para crear gráficos estadísticos estéticamente agradables. Simplifica el proceso de crear visualizaciones complejas, especialmente aquellas que involucran análisis estadístico. Seaborn es una excelente opción para explorar y visualizar datos rápidamente.\n",
    "\n",
    "**Pros:**\n",
    "- Sintaxis simplificada para tipos comunes de gráficos.\n",
    "- Soporte incorporado para visualizaciones estadísticas.\n",
    "- Funciona sin problemas con DataFrames de Pandas.\n",
    "\n",
    "**Contras:**\n",
    "- Menos personalizable en comparación con Matplotlib.\n",
    "- Soporte limitado para visualizaciones altamente interactivas.\n",
    "\n",
    "### Plotly\n",
    "\n",
    "Plotly, por otro lado, se especializa en crear visualizaciones interactivas y basadas en web. Proporciona un amplio conjunto de herramientas y características para construir dashboards dinámicos, gráficos interactivos y aplicaciones de datos complejas. Plotly es ideal para escenarios donde quieres interactuar con los usuarios con tus datos de manera interactiva.\n",
    "\n",
    "**Pros:**\n",
    "- Interactivo y amigable para la web.\n",
    "- Soporta una amplia gama de tipos de gráficos.\n",
    "- Adecuado para crear dashboards y aplicaciones web.\n",
    "- Fácil compartir de visualizaciones interactivas.\n",
    "\n",
    "**Contras:**\n",
    "- Puede tener una curva de aprendizaje más empinada para principiantes.\n",
    "- Mejor adaptado para aplicaciones basadas en web y presentaciones en línea.\n",
    "\n",
    "En resumen, la elección entre Plotly, Seaborn y Matplotlib depende de tus necesidades específicas y objetivos. Matplotlib ofrece control detallado y personalización, Seaborn simplifica las visualizaciones estadísticas, mientras que Plotly sobresale en crear experiencias de datos interactivas y basadas en web. Entender las fortalezas y debilidades de cada biblioteca puede ayudarte a tomar decisiones informadas al seleccionar la herramienta adecuada para tus tareas de visualización de datos.\n"
   ]
  },
  {
   "cell_type": "markdown",
   "id": "ranging-premiere",
   "metadata": {
    "toc": true
   },
   "source": [
    "<h1>Table of Contents<span class=\"tocSkip\"></span></h1>\n",
    "<div class=\"toc\"><ul class=\"toc-item\"><li><span><a href=\"#Importing-libraries\" data-toc-modified-id=\"Importing-libraries-1\"><span class=\"toc-item-num\">1&nbsp;&nbsp;</span>Importing libraries</a></span></li><li><span><a href=\"#We-load-data\" data-toc-modified-id=\"We-load-data-2\"><span class=\"toc-item-num\">2&nbsp;&nbsp;</span>We load data</a></span></li><li><span><a href=\"#Bar-Charts\" data-toc-modified-id=\"Bar-Charts-3\"><span class=\"toc-item-num\">3&nbsp;&nbsp;</span>Bar Charts</a></span></li><li><span><a href=\"#Clustered-Bar-Chart\" data-toc-modified-id=\"Clustered-Bar-Chart-4\"><span class=\"toc-item-num\">4&nbsp;&nbsp;</span>Clustered Bar Chart</a></span></li><li><span><a href=\"#Histograms\" data-toc-modified-id=\"Histograms-5\"><span class=\"toc-item-num\">5&nbsp;&nbsp;</span>Histograms</a></span></li><li><span><a href=\"#Distplot\" data-toc-modified-id=\"Distplot-6\"><span class=\"toc-item-num\">6&nbsp;&nbsp;</span>Distplot</a></span></li><li><span><a href=\"#ScatterPlot\" data-toc-modified-id=\"ScatterPlot-7\"><span class=\"toc-item-num\">7&nbsp;&nbsp;</span>ScatterPlot</a></span></li><li><span><a href=\"#LineChart\" data-toc-modified-id=\"LineChart-8\"><span class=\"toc-item-num\">8&nbsp;&nbsp;</span>LineChart</a></span></li><li><span><a href=\"#Boxplot\" data-toc-modified-id=\"Boxplot-9\"><span class=\"toc-item-num\">9&nbsp;&nbsp;</span>Boxplot</a></span></li></ul></div>"
   ]
  },
  {
   "cell_type": "markdown",
   "id": "f854e0b6",
   "metadata": {
    "lang": "en"
   },
   "source": [
    "## Importando librerias"
   ]
  },
  {
   "cell_type": "markdown",
   "id": "5471d959",
   "metadata": {
    "lang": "en"
   },
   "source": [
    "Primera cosa: instalación --> [documentation here](https://plotly.com/python/getting-started/)"
   ]
  },
  {
   "cell_type": "code",
   "execution_count": null,
   "id": "handmade-czech",
   "metadata": {},
   "outputs": [],
   "source": [
    "# Importing the pandas library for data manipulation and analysis\n",
    "import pandas as pd\n",
    "\n",
    "# Importing Plotly Express for high-level, easy-to-use interactive visualizations\n",
    "import plotly.express as px\n",
    "\n",
    "# Importing Plotly Graph Objects for more fine-grained control over visualizations\n",
    "import plotly.graph_objects as go\n",
    "\n",
    "# Importing NumPy for numerical operations and array manipulation\n",
    "import numpy as np\n",
    "\n",
    "# Importing Seaborn for statistical data visualization (optional but can complement Plotly)\n",
    "import seaborn as sns"
   ]
  },
  {
   "cell_type": "markdown",
   "id": "a84c2c4d",
   "metadata": {},
   "source": [
    "⚠️ Error potencial. `pip install --upgrade nbformat`?"
   ]
  },
  {
   "cell_type": "markdown",
   "id": "87f3da54",
   "metadata": {
    "lang": "en"
   },
   "source": [
    "## Cargamos datos"
   ]
  },
  {
   "cell_type": "code",
   "execution_count": null,
   "id": "baking-saturday",
   "metadata": {},
   "outputs": [],
   "source": [
    "# Loading the penguins dataset using Seaborn\n",
    "penguins = sns.load_dataset(\"penguins\")\n",
    "\n",
    "# Loading the tips dataset using Seaborn\n",
    "tips = sns.load_dataset(\"tips\")\n",
    "\n",
    "# Loading the titanic dataset using Seaborn\n",
    "titanic = sns.load_dataset(\"titanic\")"
   ]
  },
  {
   "cell_type": "code",
   "execution_count": null,
   "id": "external-porter",
   "metadata": {
    "lang": "es"
   },
   "outputs": [],
   "source": [
    "# Downloading gapminder data for the 'Canada' country from Plotly's data source\n",
    "# The query method is used to filter the data for the 'Canada' country\n",
    "df = px.data.gapminder().query(\"country == 'Canada'\")"
   ]
  },
  {
   "cell_type": "markdown",
   "id": "bbc7818c",
   "metadata": {},
   "source": [
    "Antes de sumergirte en las visualizaciones interactivas con Plotly, es esencial realizar un Análisis Exploratorio de Datos (EDA) en tu conjunto de datos para obtener una comprensión completa de sus características y relaciones. Esto te ayudará a tomar decisiones informadas sobre qué y cómo visualizar. Analicemos juntos el dataframe df:\n",
    "\n",
    "Aquí hay algunos pasos generales a seguir para realizar un EDA usando Pandas:\n",
    "\n",
    "1. **Cargar el Conjunto de Datos**: Carga tu conjunto de datos usando Pandas. Ya has hecho esto en tus celdas de código anteriores.\n",
    "\n",
    "2. **Resumen de Datos**: Comienza obteniendo una visión general de tus datos. Usa funciones como `df.head()`, `df.info()`, y `df.describe()` para entender la estructura, los tipos de datos y las estadísticas resumidas de tu conjunto de datos.\n",
    "\n",
    "3. **Manejo de Datos Faltantes**: Identifica y maneja los datos faltantes si los hay. Puedes usar funciones como `df.isnull()`, `df.dropna()`, o `df.fillna()` para abordar los valores faltantes.\n",
    "\n",
    "4. **Visualización de Datos con Seaborn y Matplotlib**: Antes de sumergirte en visualizaciones interactivas con Plotly, es una buena práctica crear visualizaciones estáticas usando bibliotecas como Seaborn y Matplotlib. Visualiza relaciones entre variables, distribuciones y tendencias. Esto te dará insights sobre qué aspectos de tus datos quieres explorar más a fondo.\n",
    "\n",
    "5. **Haz Preguntas**: Formula preguntas sobre tus datos. ¿Qué relaciones quieres investigar? ¿Qué insights buscas obtener?\n",
    "\n",
    "6. **Visualización Interactiva con Plotly**: Una vez que tienes un buen entendimiento de tus datos, puedes proceder a crear visualizaciones interactivas con Plotly. Plotly proporciona herramientas poderosas para crear gráficos y dashboards interactivos, facilitando la exploración de tus datos desde diferentes ángulos.\n",
    "\n",
    "Recuerda que el EDA es un proceso iterativo. Puede que necesites revisar los pasos anteriores a medida que descubras nuevos patrones o insights. El EDA no se trata solo de crear visualizaciones; se trata de entender tus datos a fondo.\n",
    "\n",
    "No dudes en hacer preguntas y buscar orientación a medida que avanzas en tu viaje de EDA y visualización. Podemos proporcionar asistencia y explicaciones en el camino. ¡Feliz exploración!"
   ]
  },
  {
   "cell_type": "code",
   "execution_count": null,
   "id": "8731ecd6",
   "metadata": {
    "scrolled": true
   },
   "outputs": [],
   "source": [
    "# Let's perform an EDA to df together :)\n",
    "df.info()"
   ]
  },
  {
   "cell_type": "code",
   "execution_count": null,
   "id": "b8294b95",
   "metadata": {},
   "outputs": [],
   "source": [
    "df.head()"
   ]
  },
  {
   "cell_type": "code",
   "execution_count": null,
   "id": "523934f4",
   "metadata": {
    "scrolled": true
   },
   "outputs": [],
   "source": [
    "sns.pairplot(df)"
   ]
  },
  {
   "cell_type": "code",
   "execution_count": null,
   "id": "3ed6cc38",
   "metadata": {},
   "outputs": [],
   "source": [
    "df.describe()"
   ]
  },
  {
   "cell_type": "markdown",
   "id": "8b68030c",
   "metadata": {
    "lang": "en"
   },
   "source": [
    "## Bar Charts\n",
    "Los gráficos de barras son una técnica de visualización fundamental para mostrar los conteos o valores de observaciones en diferentes categorías usando barras. Son particularmente efectivos al visualizar datos categóricos o comparar puntos de datos a través de diferentes categorías.\n",
    "\n",
    "En esta sección, exploraremos cómo crear gráficos de barras interactivos usando Plotly, una poderosa biblioteca para visualización de datos interactiva. Usaremos un conjunto de datos de muestra de Gapminder, enfocándonos en datos relacionados con Canadá, para demostrar la creación de gráficos de barras.\n",
    "\n",
    "Comencemos visualizando los datos de población de Canadá a lo largo de los años usando un gráfico de barras interactivo."
   ]
  },
  {
   "cell_type": "code",
   "execution_count": null,
   "id": "parental-clear",
   "metadata": {
    "scrolled": true
   },
   "outputs": [],
   "source": [
    "# Create a bar chart showing population over the years\n",
    "fig = px.bar(df, x=\"year\", y=\"pop\")\n",
    "fig.show()"
   ]
  },
  {
   "cell_type": "code",
   "execution_count": null,
   "id": "df96d808",
   "metadata": {
    "scrolled": true
   },
   "outputs": [],
   "source": [
    "penguins.head()"
   ]
  },
  {
   "cell_type": "code",
   "execution_count": null,
   "id": "1acffe61",
   "metadata": {},
   "outputs": [],
   "source": [
    "species_counts = penguins.species.value_counts()\n",
    "species_counts"
   ]
  },
  {
   "cell_type": "code",
   "execution_count": null,
   "id": "agricultural-messaging",
   "metadata": {},
   "outputs": [],
   "source": [
    "# Create a bar chart with Plotly Express\n",
    "\n",
    "# Using the penguins dataframe\n",
    "# Count the occurrences of each species in the 'species' column,\n",
    "# and get the unique species names as the index and their respective counts as values\n",
    "species_counts = penguins.species.value_counts()\n",
    "\n",
    "# Create a bar chart using px.bar\n",
    "# x: Set the x-axis values to the unique species names\n",
    "# y: Set the y-axis values to the counts of each species\n",
    "fig = px.bar(penguins, x=species_counts.index, y=species_counts.values)\n",
    "\n",
    "# Show the interactive bar chart\n",
    "fig.show()"
   ]
  },
  {
   "cell_type": "markdown",
   "id": "3ad2bc5d",
   "metadata": {
    "lang": "en"
   },
   "source": [
    "## Clustered Bar Chart\n",
    "\n",
    "Los gráficos de barras agrupadas son una herramienta de visualización poderosa utilizada para comparar múltiples categorías a través de diferentes grupos o factores. En Plotly, puedes crear fácilmente gráficos de barras agrupadas para mostrar datos con distintos grupos de barras para cada categoría, permitiendo comparaciones visuales claras.\n",
    "\n",
    "Cada grupo representa un grupo o un factor, y dentro de cada grupo, hay múltiples barras correspondientes a diferentes categorías. Los gráficos de barras agrupadas son particularmente útiles cuando quieres mostrar la relación entre dos variables categóricas mientras resaltas las variaciones dentro de cada grupo.\n",
    "\n",
    "Con Plotly, puedes crear gráficos de barras agrupadas interactivos que proporcionan una forma dinámica y atractiva de explorar tus datos. Estos gráficos son altamente personalizables, facilitando la adaptación de la visualización a tus necesidades específicas.\n",
    "\n",
    "En esta sección, exploraremos cómo crear gráficos de barras agrupadas usando Plotly, paso a paso. Ya sea que estés analizando datos demográficos, respuestas a encuestas o cualquier otro dato categórico, los gráficos de barras agrupadas pueden ayudarte a obtener valiosos insights de tu conjunto de datos."
   ]
  },
  {
   "cell_type": "code",
   "execution_count": null,
   "id": "introductory-scene",
   "metadata": {},
   "outputs": [],
   "source": [
    "#I group the dataframe\n",
    "agrupado = penguins.groupby([\"species\"])[\"sex\"].value_counts().unstack()\n",
    "agrupado"
   ]
  },
  {
   "cell_type": "code",
   "execution_count": null,
   "id": "professional-equipment",
   "metadata": {},
   "outputs": [],
   "source": [
    "# Get unique penguin species names\n",
    "animals = penguins.species.unique()\n",
    "animals"
   ]
  },
  {
   "cell_type": "code",
   "execution_count": null,
   "id": "processed-modeling",
   "metadata": {},
   "outputs": [],
   "source": [
    "# Create a Clustered Bar Chart with Plotly\n",
    "\n",
    "# Create a Figure object to hold our bar chart\n",
    "fig = go.Figure(data=[\n",
    "    # Create the first set of bars for \"Female\" data\n",
    "    go.Bar(name=\"Female\", x=animals, y=agrupado.Female),\n",
    "    \n",
    "    # Create the second set of bars for \"Male\" data\n",
    "    go.Bar(name=\"Male\", x=animals, y=agrupado.Male)\n",
    "])\n",
    "\n",
    "# Show the clustered bar chart\n",
    "fig.show()"
   ]
  },
  {
   "cell_type": "code",
   "execution_count": null,
   "id": "cubic-majority",
   "metadata": {},
   "outputs": [],
   "source": [
    "# Get the unique penguin species names from the \"species\" column\n",
    "animals = penguins.species.unique()\n",
    "\n",
    "# Create a Figure object to hold the clustered bar chart\n",
    "fig = go.Figure(data=[\n",
    "    # Create the first set of bars for \"Female\" data\n",
    "    go.Bar(name=\"Female\", x=animals, y=agrupado.Female),\n",
    "    \n",
    "    # Create the second set of bars for \"Male\" data\n",
    "    go.Bar(name=\"Male\", x=animals, y=agrupado.Male)\n",
    "])\n",
    "\n",
    "# Change the type of the bars to \"stacked\" using update_layout\n",
    "fig.update_layout(barmode=\"stack\")\n",
    "\n",
    "# Show the clustered and stacked bar chart\n",
    "fig.show()"
   ]
  },
  {
   "cell_type": "markdown",
   "id": "a4b9ee38",
   "metadata": {
    "lang": "en"
   },
   "source": [
    "Cuando múltiples filas comparten el mismo valor de x (en este caso Femenino o Masculino), los rectángulos se apilan por defecto.\n",
    "\n",
    "## Histogramas\n",
    "\n",
    "Los histogramas son una herramienta fundamental para visualizar la distribución de los datos. Te permiten ver la frecuencia o el conteo de puntos de datos que caen en intervalos o bins específicos. Plotly proporciona herramientas versátiles para crear histogramas interactivos que te permiten explorar los patrones y características subyacentes de tus datos. Ya sea que estés analizando la distribución de variables numéricas, comparando diferentes conjuntos de datos o examinando la forma de tus datos, las capacidades de histograma de Plotly ofrecen una forma poderosa de obtener insights de tus datos.\n",
    "\n",
    "Puedes aprender más sobre cómo crear histogramas en Plotly consultando la [documentación oficial](https://plotly.com/python/histograms/)."
   ]
  },
  {
   "cell_type": "code",
   "execution_count": null,
   "id": "powered-equilibrium",
   "metadata": {},
   "outputs": [],
   "source": [
    "# Let's work with tips dataset\n",
    "tips.head()"
   ]
  },
  {
   "cell_type": "code",
   "execution_count": null,
   "id": "weird-reply",
   "metadata": {
    "scrolled": true
   },
   "outputs": [],
   "source": [
    "# Create a histogram using Plotly Express for the \"total_bill\" column from the \"tips\" DataFrame\n",
    "fig = px.histogram(tips, x=\"total_bill\", nbins=15)\n",
    "\n",
    "# Customize the layout by reducing the gap between adjacent bars in the histogram\n",
    "fig.update_layout(bargap=0.5)  # Set the gap between bars to 0.1 (adjust this value as needed)\n",
    "\n",
    "# Display the histogram\n",
    "fig.show()"
   ]
  },
  {
   "cell_type": "code",
   "execution_count": null,
   "id": "0fea9f59",
   "metadata": {},
   "outputs": [],
   "source": [
    "titanic.head()"
   ]
  },
  {
   "cell_type": "code",
   "execution_count": null,
   "id": "disciplinary-projection",
   "metadata": {},
   "outputs": [],
   "source": [
    "# Create a histogram using Plotly Express for the \"age\" column from the \"titanic\" DataFrame\n",
    "fig = px.histogram(titanic, x=\"age\")\n",
    "\n",
    "# Add vertical lines to the histogram to indicate the median and mean age\n",
    "# Median age is represented by a green dashed line\n",
    "fig.add_vline(titanic.age.median(), line_width=3, line_dash=\"dash\", line_color=\"green\")\n",
    "\n",
    "# Mean age is represented by a red dashed line\n",
    "fig.add_vline(titanic.age.mean(), line_width=3, line_dash=\"dash\", line_color=\"red\")\n",
    "\n",
    "# Add a horizontal line at the age of 20 (line_width=3, dashed line, red color)\n",
    "fig.add_hline(20, line_width=3, line_dash=\"dash\", line_color=\"red\")\n",
    "\n",
    "# Display the customized histogram with vertical and horizontal lines\n",
    "fig.show()"
   ]
  },
  {
   "cell_type": "markdown",
   "id": "fleet-fraction",
   "metadata": {},
   "source": [
    "## Distplot\n",
    "\n",
    "El `Distplot`, abreviatura de distribution plot (gráfico de distribución), es una visualización versátil en Plotly que combina elementos de histogramas y gráficos de estimación de densidad kernel (KDE). Está diseñado para proporcionar una vista comprensiva de la distribución de una única variable numérica, permitiéndote explorar su forma, tendencia central y dispersión. El `Distplot` es particularmente útil para entender la distribución subyacente de los datos e identificar patrones o desviaciones potenciales.\n",
    "\n",
    "Con el `Distplot`, puedes visualizar la distribución de frecuencia de un conjunto de datos y obtener insights sobre su asimetría, curtosis y multimodalidad. Esta herramienta de visualización también te permite superponer una curva KDE, proporcionando una estimación suave de la función de densidad de probabilidad de los datos. Ya sea que estés analizando datos desde una perspectiva estadística o exploratoria, el `Distplot` puede ser un activo valioso en tu kit de herramientas de análisis de datos.\n",
    "\n",
    "Para crear visualizaciones `Distplot` en Plotly, puedes personalizar varios aspectos, como el número de bins, la apariencia del histograma y el estilo de la curva KDE. Esta flexibilidad lo hace adecuado para una amplia gama de tareas de análisis de datos, desde entender la distribución de las calificaciones de exámenes hasta explorar la distribución de edad de los pasajeros en el Titanic.\n",
    "\n",
    "Usando el `Distplot`, puedes obtener una comprensión más profunda de la distribución de tus datos y tomar decisiones informadas durante tu viaje de análisis de datos.\n",
    "\n",
    "Para obtener información más detallada y ejemplos, puedes consultar la [documentación de Plotly sobre Distplots](https://plotly.com/python/distplot/)."
   ]
  },
  {
   "cell_type": "code",
   "execution_count": null,
   "id": "pursuant-relative",
   "metadata": {},
   "outputs": [],
   "source": [
    "# Creating a copy of the 'titanic' DataFrame to avoid modifying the original data\n",
    "tit = titanic.copy()\n",
    "\n",
    "# Dropping rows with missing values (NaN) in the DataFrame 'tit'\n",
    "# This step removes rows with any NaN values, effectively cleaning the data\n",
    "tit.dropna(inplace=True)\n",
    "\n",
    "# Check the dataset\n",
    "tit.head()"
   ]
  },
  {
   "cell_type": "code",
   "execution_count": null,
   "id": "complete-jewel",
   "metadata": {},
   "outputs": [],
   "source": [
    "# Importing the 'figure_factory' module from Plotly\n",
    "import plotly.figure_factory as ff\n",
    "\n",
    "# Creating a list 'hist_data' containing age data from the 'tit' DataFrame\n",
    "hist_data = [tit.age]\n",
    "\n",
    "# Creating a list 'labels' with a single label \"Edad\"\n",
    "labels = [\"Edad\"]"
   ]
  },
  {
   "cell_type": "code",
   "execution_count": null,
   "id": "spare-progress",
   "metadata": {},
   "outputs": [],
   "source": [
    "# Creating a distribution plot using Plotly's 'create_distplot' function\n",
    "fig = ff.create_distplot(hist_data, labels)\n",
    "\n",
    "# Displaying the created distribution plot\n",
    "fig.show()"
   ]
  },
  {
   "cell_type": "code",
   "execution_count": null,
   "id": "superb-target",
   "metadata": {},
   "outputs": [],
   "source": [
    "# Dropping rows with missing values in the penguins dataframe\n",
    "penguins.dropna(inplace=True)\n",
    "\n",
    "# Displaying the first few rows of the cleaned penguins dataframe\n",
    "penguins.head()\n",
    "\n",
    "# Creating a list 'hist_data' containing two columns for the distplot\n",
    "hist_data = [penguins.bill_length_mm, penguins.bill_depth_mm]\n",
    "\n",
    "# Creating a list 'group_labels' to label the two datasets in the distplot\n",
    "group_labels = [\"bill_length_mm\", \"bill_depth_mm\"]\n",
    "\n",
    "# Creating a distribution plot using Plotly's 'create_distplot' function\n",
    "fig = ff.create_distplot(hist_data, group_labels)\n",
    "\n",
    "# Displaying the created distribution plot\n",
    "fig.show()"
   ]
  },
  {
   "cell_type": "markdown",
   "id": "gothic-internet",
   "metadata": {},
   "source": [
    "## ScatterPlot\n",
    "\n",
    "Un Gráfico de Dispersión es una herramienta popular de visualización de datos utilizada para mostrar puntos de datos individuales en un plano bidimensional. Es particularmente útil para visualizar las relaciones o correlaciones entre dos variables numéricas. Cada punto de datos en el gráfico representa una única observación o registro de datos.\n",
    "\n",
    "En un Gráfico de Dispersión, una variable se traza en el eje x (eje horizontal) y otra variable se traza en el eje y (eje vertical). La posición de cada punto de datos en el gráfico está determinada por los valores de estas dos variables. Los Gráficos de Dispersión son efectivos para identificar patrones, tendencias, clusters o valores atípicos dentro de un conjunto de datos y se utilizan comúnmente en el análisis exploratorio de datos (EDA).\n",
    "\n",
    "Los Gráficos de Dispersión son versátiles y se pueden personalizar con varias características como colores, marcadores y etiquetas para transmitir información adicional. Son especialmente valiosos al examinar relaciones entre puntos de datos continuos y pueden ayudar a responder preguntas sobre correlación, distribución y dispersión dentro de los datos.\n",
    "\n",
    "Los Gráficos de Dispersión son una herramienta esencial en el análisis de datos y se utilizan ampliamente en campos como estadística, ciencia de datos y aprendizaje automático para obtener insights sobre patrones de datos y tomar decisiones informadas."
   ]
  },
  {
   "cell_type": "code",
   "execution_count": null,
   "id": "saved-professional",
   "metadata": {},
   "outputs": [],
   "source": [
    "# Let's work with penguin dataset\n",
    "penguins.head()"
   ]
  },
  {
   "cell_type": "code",
   "execution_count": null,
   "id": "outdoor-boutique",
   "metadata": {},
   "outputs": [],
   "source": [
    "# Importing the necessary library for creating a scatter plot\n",
    "import plotly.express as px\n",
    "\n",
    "# Creating a scatter plot using the penguins dataset\n",
    "# The 'x' and 'y' arguments specify which columns from the dataset to use for the x-axis and y-axis.\n",
    "fig = px.scatter(penguins, x=\"flipper_length_mm\", y=\"body_mass_g\")\n",
    "\n",
    "# Displaying the scatter plot\n",
    "fig.show()"
   ]
  },
  {
   "cell_type": "code",
   "execution_count": null,
   "id": "foster-session",
   "metadata": {},
   "outputs": [],
   "source": [
    "# Scatter plot with color encoding based on 'bill_length_mm'\n",
    "fig = px.scatter(penguins, x=\"flipper_length_mm\", y=\"body_mass_g\", color=\"bill_length_mm\")\n",
    "fig.show()"
   ]
  },
  {
   "cell_type": "code",
   "execution_count": null,
   "id": "intellectual-bonus",
   "metadata": {},
   "outputs": [],
   "source": [
    "# Scatter plot with color encoding based on 'species'\n",
    "fig = px.scatter(penguins, x=\"flipper_length_mm\", y=\"body_mass_g\", color=\"species\")\n",
    "fig.show()"
   ]
  },
  {
   "cell_type": "code",
   "execution_count": null,
   "id": "surface-wednesday",
   "metadata": {},
   "outputs": [],
   "source": [
    "# Scatter plot with color and size encoding based on 'species' and 'bill_depth_mm' columns\n",
    "fig = px.scatter(penguins, x=\"body_mass_g\", y=\"flipper_length_mm\", color=\"species\", size=\"bill_depth_mm\")\n",
    "fig.show()"
   ]
  },
  {
   "cell_type": "code",
   "execution_count": null,
   "id": "latest-lincoln",
   "metadata": {},
   "outputs": [],
   "source": [
    "# Scatter matrix plot with specified dimensions and color encoding based on 'species'\n",
    "fig = px.scatter_matrix(penguins, dimensions=['bill_length_mm','bill_depth_mm','flipper_length_mm','body_mass_g', \"species\"],\n",
    "                        width=1000, height=800)\n",
    "fig.show()"
   ]
  },
  {
   "cell_type": "code",
   "execution_count": null,
   "id": "public-northeast",
   "metadata": {},
   "outputs": [],
   "source": [
    "# Scatter matrix plot with specified dimensions and color encoding based on 'species'\n",
    "fig = px.scatter_matrix(penguins, dimensions=['bill_length_mm','bill_depth_mm','flipper_length_mm','body_mass_g'],\n",
    "                        color=\"species\",\n",
    "                        width=1000, height=800)\n",
    "fig.show()"
   ]
  },
  {
   "cell_type": "code",
   "execution_count": null,
   "id": "e50e937c",
   "metadata": {
    "scrolled": false
   },
   "outputs": [],
   "source": [
    "# Scatter matrix plot with specified dimensions, color encoding, and diagonal elements hidden\n",
    "fig = px.scatter_matrix(penguins, dimensions=['bill_length_mm','bill_depth_mm','flipper_length_mm','body_mass_g'],\n",
    "                        color=\"species\")\n",
    "fig.update_traces(diagonal_visible=False)\n",
    "fig.show()"
   ]
  },
  {
   "cell_type": "code",
   "execution_count": null,
   "id": "4168f4e7",
   "metadata": {},
   "outputs": [],
   "source": [
    "# Define indices corresponding to species categories, using pandas label encoding\n",
    "index_vals = penguins['species'].astype('category').cat.codes\n",
    "\n",
    "# Create a Plotly Figure for the Scatterplot Matrix (SPLOM)\n",
    "fig = go.Figure(data=go.Splom(\n",
    "\n",
    "    # Define Dimensions for the SPLOM\n",
    "    dimensions=[dict(label='bill length',    # Dimension 1: Bill Length\n",
    "                     values=penguins['bill_length_mm']),\n",
    "                dict(label='bill depth',     # Dimension 2: Bill Depth\n",
    "                     values=penguins['bill_depth_mm']),\n",
    "                dict(label='flipper length', # Dimension 3: Flipper Length\n",
    "                     values=penguins['flipper_length_mm']),\n",
    "                dict(label='body mass',      # Dimension 4: Body Mass\n",
    "                     values=penguins['body_mass_g'])],\n",
    "\n",
    "    # Add Text Labels for Species\n",
    "    text=penguins['species'],\n",
    "    \n",
    "    # Control Display of Upper Half (Set to False for symmetry)\n",
    "    showupperhalf=False,\n",
    "    \n",
    "    # Customize Marker Properties\n",
    "    marker=dict(color=index_vals,    # Assign colors based on species indices\n",
    "                showscale=True,       # Display a color scale legend\n",
    "                line_color='white',   # Marker outline color\n",
    "                line_width=0.5)       # Marker outline width\n",
    "))\n",
    "\n",
    "# Update Layout and Styling\n",
    "fig.update_layout(\n",
    "    title='Penguins',          # Set the title of the figure\n",
    "    dragmode='select',        # Enable drag selection\n",
    "    width=600,                # Set the width of the figure\n",
    "    height=600,               # Set the height of the figure\n",
    "    hovermode='closest'       # Define hover behavior\n",
    ")\n",
    "\n",
    "# Show the Scatterplot Matrix (SPLOM)\n",
    "fig.show()"
   ]
  },
  {
   "cell_type": "markdown",
   "id": "regulation-familiar",
   "metadata": {},
   "source": [
    "## LineChart\n",
    "\n",
    "Un Gráfico de Líneas, también conocido como un Gráfico Lineal, es un tipo popular de visualización de datos utilizado para representar puntos de datos a lo largo de un intervalo continuo o período de tiempo. En un Gráfico de Líneas, los datos se muestran como una serie de puntos de datos conectados por líneas rectas, creando una representación visual de cómo cambia una variable a lo largo de un dominio específico. Los Gráficos de Líneas son particularmente útiles para mostrar tendencias, patrones y variaciones en los datos.\n",
    "\n",
    "Cada punto de datos en un Gráfico de Líneas se representa típicamente por un marcador o punto, y estos marcadores están conectados por líneas para enfatizar la continuidad de los datos. Los Gráficos de Líneas se utilizan comúnmente para visualizar datos de series temporales, como precios de acciones, tendencias de temperatura o cifras de ventas a lo largo de meses o años. También son efectivos para mostrar la relación entre dos variables, como comparar ventas y gastos de publicidad a lo largo del tiempo.\n",
    "\n",
    "Los Gráficos de Líneas son altamente versátiles y se pueden personalizar para mostrar varios aspectos de los datos, incluyendo múltiples series de datos, marcadores, etiquetas y más. Son una herramienta valiosa en el análisis de datos y la toma de decisiones, permitiendo a los espectadores interpretar rápidamente las tendencias de los datos y hacer conclusiones informadas.\n",
    "\n",
    "En esta guía, exploraremos cómo crear Gráficos de Líneas usando diferentes bibliotecas de visualización de datos, como Matplotlib, Seaborn y Plotly. Aprenderemos cómo personalizar los Gráficos de Líneas, añadir etiquetas y leyendas, y comunicar efectivamente insights de datos a través de esta representación visual."
   ]
  },
  {
   "cell_type": "code",
   "execution_count": null,
   "id": "classified-vegetation",
   "metadata": {},
   "outputs": [],
   "source": [
    "# Load the 'flights' dataset from Seaborn, which contains information about monthly airline passenger numbers.\n",
    "flights = sns.load_dataset(\"flights\")\n",
    "\n",
    "# Display the first few rows of the 'flights' dataset to get a sense of its structure.\n",
    "flights.head()"
   ]
  },
  {
   "cell_type": "code",
   "execution_count": null,
   "id": "revolutionary-update",
   "metadata": {},
   "outputs": [],
   "source": [
    "# Select data for the month of February and store it in the 'feb' DataFrame.\n",
    "feb = flights[flights.month == \"Feb\"]"
   ]
  },
  {
   "cell_type": "code",
   "execution_count": null,
   "id": "proud-clark",
   "metadata": {},
   "outputs": [],
   "source": [
    "# Create a Line Chart (Line Plot) using Plotly Express to visualize the passenger numbers in February over the years.\n",
    "# The 'year' column is used as the x-axis, and the 'passengers' column is used as the y-axis.\n",
    "fig = px.line(feb, x=\"year\", y=\"passengers\")\n",
    "\n",
    "# Display the Line Chart.\n",
    "fig.show()"
   ]
  },
  {
   "cell_type": "code",
   "execution_count": null,
   "id": "geographic-surge",
   "metadata": {},
   "outputs": [],
   "source": [
    "# Create another Line Chart using Plotly Express to visualize passenger numbers over the years, with different lines for each month.\n",
    "# The 'year' column is still used as the x-axis, and the 'passengers' column is used as the y-axis.\n",
    "# The 'color' parameter is set to 'month' to differentiate lines by month.\n",
    "fig = px.line(flights, x=\"year\", y=\"passengers\", color=\"month\")\n",
    "\n",
    "# Display the Line Chart.\n",
    "fig.show()"
   ]
  },
  {
   "cell_type": "markdown",
   "id": "recreational-plumbing",
   "metadata": {},
   "source": [
    "## Boxplot\n",
    "\n",
    "Un boxplot, también conocido como diagrama de caja y bigotes, es una visualización estadística que proporciona un resumen gráfico de la distribución de un conjunto de datos. Muestra medidas estadísticas clave, como la mediana, los cuartiles y los posibles valores atípicos, lo que lo convierte en una herramienta poderosa para entender la tendencia central y la dispersión de los datos. Los boxplots son particularmente útiles para comparar distribuciones a través de diferentes categorías o grupos dentro de tu conjunto de datos. Consisten en una \"caja\" rectangular y \"bigotes\" que se extienden desde ella, representando varios puntos de datos y su dispersión.\n",
    "\n",
    "Los boxplots son una adición valiosa al análisis exploratorio de datos (EDA) y ayudan a identificar la presencia de valores atípicos, asimetría y la forma general de la distribución de los datos. Entender cómo interpretar los boxplots es esencial para los analistas de datos y científicos al explorar y comunicar insights de los datos.\n",
    "\n",
    "En esta sección, exploraremos cómo crear e interpretar boxplots usando Plotly, una poderosa biblioteca de Python para visualización de datos interactiva. Cubriremos varios aspectos de los boxplots, incluyendo sus componentes y cómo crearlos para diferentes conjuntos de datos y escenarios."
   ]
  },
  {
   "cell_type": "code",
   "execution_count": null,
   "id": "maritime-stable",
   "metadata": {},
   "outputs": [],
   "source": [
    "# Creating a boxplot of the 'age' column from the Titanic dataset\n",
    "fig = px.box(titanic, x=\"age\")\n",
    "fig.show()"
   ]
  },
  {
   "cell_type": "code",
   "execution_count": null,
   "id": "colonial-admission",
   "metadata": {},
   "outputs": [],
   "source": [
    "# Creating a grouped boxplot of 'age' by 'pclass' from the Titanic dataset\n",
    "fig = px.box(titanic, x=\"pclass\", y=\"age\")\n",
    "fig.show()"
   ]
  },
  {
   "cell_type": "code",
   "execution_count": null,
   "id": "empirical-symphony",
   "metadata": {
    "lang": "es"
   },
   "outputs": [],
   "source": [
    "# Creating a grouped boxplot of 'age' by 'pclass' from the Titanic dataset\n",
    "# With 'points=\"all\"', it adds individual data points to the left of each box\n",
    "fig = px.box(titanic, x=\"pclass\", y=\"age\", points=\"all\")\n",
    "fig.show()"
   ]
  },
  {
   "cell_type": "code",
   "execution_count": null,
   "id": "official-tissue",
   "metadata": {},
   "outputs": [],
   "source": [
    "# Creating a grouped boxplot of 'age' by 'pclass' from the Titanic dataset\n",
    "# With 'points=\"all\"', it adds individual data points to the left of each box\n",
    "# 'color=\"survived\"' adds color differentiation based on the 'survived' column\n",
    "# 'width' and 'height' adjust the dimensions of the plot\n",
    "fig = px.box(titanic, x=\"pclass\", y=\"age\", color=\"survived\", points=\"all\", width=1100, height=600)\n",
    "fig.show()"
   ]
  },
  {
   "cell_type": "markdown",
   "id": "d10beefe",
   "metadata": {
    "lang": "en"
   },
   "source": [
    "We change the colors by putting the value of the column in the key"
   ]
  },
  {
   "cell_type": "code",
   "execution_count": null,
   "id": "innocent-intellectual",
   "metadata": {
    "scrolled": false
   },
   "outputs": [],
   "source": [
    "# Creating a grouped boxplot of 'age' by 'pclass' from the Titanic dataset\n",
    "# 'color=\"survived\"' adds color differentiation based on the 'survived' column\n",
    "# 'color_discrete_map' specifies custom colors for the 'survived' categories\n",
    "# 1 represents survivors, shown in light blue (#19D3F3)\n",
    "# 0 represents non-survivors, shown in red\n",
    "fig = px.box(titanic, x=\"pclass\", y=\"age\", color=\"survived\", color_discrete_map={1: '#19D3F3', 0: 'red'})\n",
    "fig.show()"
   ]
  },
  {
   "cell_type": "markdown",
   "id": "aa0e16a8",
   "metadata": {},
   "source": [
    "# Sliders\n",
    "Los sliders son componentes interactivos en Plotly que te permiten crear visualizaciones animadas, proporcionando una vista dinámica de los cambios de datos a lo largo del tiempo u otras variables. Los controles deslizantes se pueden utilizar para animar varios tipos de gráficos, ofreciendo una forma atractiva de explorar tendencias y patrones de datos."
   ]
  },
  {
   "cell_type": "code",
   "execution_count": null,
   "id": "0ae8f6ad",
   "metadata": {},
   "outputs": [],
   "source": [
    "# Let's recap\n",
    "df.head()"
   ]
  },
  {
   "cell_type": "code",
   "execution_count": null,
   "id": "2a91e7d3",
   "metadata": {},
   "outputs": [],
   "source": [
    "# Load data from the 'gapminder' dataset\n",
    "df = px.data.gapminder()\n",
    "\n",
    "# Create a scatter plot using Plotly, where 'gdpPercap' is on the x-axis, 'lifeExp' is on the y-axis\n",
    "# 'animation_frame' enables animation over the 'year' variable\n",
    "# 'size' determines the size of data points based on 'pop'\n",
    "# 'color' assigns colors to data points based on 'continent'\n",
    "# 'hover_name' adds country names to hover over data points\n",
    "# 'log_x=True' sets a logarithmic scale for the x-axis\n",
    "# 'size_max=55' defines the maximum size for data points\n",
    "# 'range_x' and 'range_y' specify the initial visible ranges for the x and y axes\n",
    "fig = px.scatter(df, x=\"gdpPercap\", y=\"lifeExp\", animation_frame=\"year\",\n",
    "                 size=\"pop\", color=\"continent\", hover_name=\"country\",\n",
    "                 log_x=True, size_max=55, range_x=[100, 100000], range_y=[25, 90])\n",
    "\n",
    "# Optional: Remove the default animation buttons from the figure layout\n",
    "# fig[\"layout\"].pop(\"updatemenus\")\n",
    "\n",
    "# Display the interactive plot\n",
    "fig.show()"
   ]
  }
 ],
 "metadata": {
  "kernelspec": {
   "display_name": "Python 3 (ipykernel)",
   "language": "python",
   "name": "python3"
  },
  "language_info": {
   "codemirror_mode": {
    "name": "ipython",
    "version": 3
   },
   "file_extension": ".py",
   "mimetype": "text/x-python",
   "name": "python",
   "nbconvert_exporter": "python",
   "pygments_lexer": "ipython3",
   "version": "3.9.13"
  },
  "nbTranslate": {
   "displayLangs": [
    "en",
    "es"
   ],
   "hotkey": "alt-a",
   "langInMainMenu": true,
   "sourceLang": "es",
   "targetLang": "en",
   "useGoogleTranslate": true
  },
  "toc": {
   "base_numbering": 1,
   "nav_menu": {},
   "number_sections": true,
   "sideBar": true,
   "skip_h1_title": true,
   "title_cell": "Table of Contents",
   "title_sidebar": "Contents",
   "toc_cell": true,
   "toc_position": {
    "height": "calc(100% - 180px)",
    "left": "10px",
    "top": "150px",
    "width": "165px"
   },
   "toc_section_display": true,
   "toc_window_display": true
  }
 },
 "nbformat": 4,
 "nbformat_minor": 5
}
