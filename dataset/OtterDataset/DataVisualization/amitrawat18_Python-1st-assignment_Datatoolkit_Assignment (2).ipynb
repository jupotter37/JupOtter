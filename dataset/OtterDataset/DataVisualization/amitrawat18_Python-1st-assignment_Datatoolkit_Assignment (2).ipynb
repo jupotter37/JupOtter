{
  "nbformat": 4,
  "nbformat_minor": 0,
  "metadata": {
    "colab": {
      "provenance": []
    },
    "kernelspec": {
      "name": "python3",
      "display_name": "Python 3"
    },
    "language_info": {
      "name": "python"
    }
  },
  "cells": [
    {
      "cell_type": "markdown",
      "source": [
        "##**Question-1) What is NumPy, and why is it widely used in Python?**\n",
        "## **Answer-1)**\n",
        "NumPy (short for Numerical Python) is an open-source library in Python that provides support for large, multi-dimensional arrays and matrices along with a collection of high-level mathematical functions to operate on these arrays. It is one of the core libraries in Python for scientific computing and is widely used across various fields such as data analysis, machine learning, image processing, and more.\n",
        "\n",
        "NumPy is Widely Used in Python because of following reasons\n",
        "\n",
        "**Performance:**\n",
        "\n",
        "NumPy arrays are implemented in C, meaning they are much faster than native Python lists for numerical operations, especially when dealing with large datasets.\n",
        "\n",
        "**Ease of Use:**\n",
        "\n",
        "NumPy's syntax is simple and intuitive. It provides a rich set of functions that are easy to apply on arrays and matrices, making complex mathematical operations much more accessible.\n",
        "\n",
        "**Integration with Other Libraries:**\n",
        "\n",
        "NumPy is a fundamental part of the scientific Python ecosystem. Many other libraries (like Pandas, SciPy, scikit-learn, TensorFlow) are built on top of NumPy and rely on its efficient data structures for numerical computations.\n",
        "\n",
        "**Large Data Handling:**\n",
        "\n",
        "When working with large datasets, NumPy's memory efficiency and speed make it an excellent choice. For example, NumPy arrays can handle millions of data points with minimal memory overhead.\n",
        "\n",
        "**Widely Adopted:**\n",
        "\n",
        "Due to its efficiency, simplicity, and robust functionality, NumPy has become the de facto standard for numerical computation in Python. It has a large community of developers and users, ensuring that it is continually improved and maintained.\n",
        "\n",
        "\n",
        "##**Question-2)How does broadcasting work in NumPy?**\n",
        "##**Answer-2)**\n",
        "Broadcasting is a powerful feature in NumPy that allows you to perform operations on arrays of different shapes in an element-wise manner, without explicitly reshaping the arrays. NumPy automatically adjusts the smaller array to match the shape of the larger one under certain conditions. This behavior is called broadcasting.\n",
        "\n",
        "**Compatibility:**\n",
        "\n",
        "Rule 1: The arrays must have the same number of dimensions, or one of them has a size of 1 in the trailing dimensions.\n",
        "Rule 2: The corresponding dimensions must be equal or one of them must be 1.\n",
        "\n",
        "\n",
        "**Stretching:**\n",
        "\n",
        "If a dimension in one array is 1, it is stretched or repeated to match the corresponding dimension in the other array\n",
        "\n",
        "\n",
        "##**Question-3) What is a Pandas DataFrame?**\n",
        "##**Answer-3)**\n",
        "A Pandas DataFrame is a two-dimensional, size-mutable, and potentially heterogeneous tabular data structure that is part of the Pandas library in Python. It is one of the most powerful and widely used data structures for data manipulation and analysis in Python. A DataFrame can be thought of as a table, similar to a spreadsheet or SQL table, where each column can hold different types of data (e.g., integers, strings, floats, booleans, etc.).\n",
        "\n",
        "\n",
        "**Key Characteristics:**\n",
        "\n",
        "* Tabular Data: Data is organized in a table-like format with rows and columns.\n",
        "Labeled Axes: Both rows and columns have labels, making it easy to access and manipulate specific data points.\n",
        "* Heterogeneous Data: Columns can hold different data types (e.g., integers, floats, strings, booleans).\n",
        "* Indexing and Slicing: Data can be accessed and selected using various indexing and slicing techniques.\n",
        "* Powerful Operations: Offers a wide range of methods for data manipulation, cleaning, aggregation, transformation, and visualization.\n",
        "\n",
        "\n",
        "##**Question-4)  Explain the use of the groupby() method in Pandas?**\n",
        "##**Answer-4)**\n",
        "The groupby() method in Pandas is a powerful and flexible tool used to split a DataFrame into groups based on some criteria, apply a function to each group, and then combine the results back into a DataFrame or Series. This method is particularly useful for data aggregation, transformation, and summarization.\n",
        "\n",
        "The groupby() method follows a split-apply-combine strategy:\n",
        "\n",
        "* Split: The data is divided into groups based on the values in one or more columns.\n",
        "* Apply: A function (such as an aggregation, transformation, or filtration) is applied to each group.\n",
        "* Combine: The results of applying the function to each group are then combined back into a DataFrame or Series.\n",
        "\n",
        "##**Question-5) Why is Seaborn preferred for statistical visualizations?**\n",
        "\n",
        "##**Answer-5)**\n",
        "Seaborn is a popular Python library built on top of Matplotlib that is specifically designed for creating statistical visualizations. It is widely preferred for statistical visualizations because it provides a high-level interface for drawing attractive and informative statistical graphics with minimal effort. Here are the key reasons why Seaborn is preferred for statistical visualizations:\n",
        "\n",
        "\n",
        "**High-Level Interface:** Seaborn provides a high-level interface, meaning you can create complex visualizations with fewer lines of code compared to Matplotlib. This makes it easier to learn and use, especially for beginners.\n",
        "\n",
        "**Built-in Statistical Plots:** Seaborn offers a wide range of statistical plots specifically designed to visualize relationships between variables, distributions, and trends in data. These include:\n",
        "\n",
        "* Relational Plots: Scatter plots, line plots, regression plots, and more.\n",
        "* Distribution Plots: Histograms, density plots, kernel density estimation (KDE), and box plots.\n",
        "* Categorical Plots: Bar plots, count plots, and violin plots.\n",
        "* Matrix Plots: Heatmaps and clustermaps.\n",
        "* Attractive Default Aesthetics: Seaborn comes with a set of attractive default styles and color palettes that make your visualizations visually appealing and informative. This saves you time and effort in customizing the appearance of your plots.\n",
        "\n",
        "**Seaborn is built on top of Matplotlib:** While Seaborn provides a higher-level interface, it is built on top of Matplotlib. This means you can always access Matplotlib's underlying functionality for more fine-grained control over your visualizations if needed\n",
        "\n",
        "##**Question-6)Whar are the differences between NumPy arrays and Python lists?**\n",
        "##**Answer-6)**\n",
        "Differences Between NumPy Arrays and Python Lists\n",
        "NumPy arrays and Python lists are both used to store collections of elements, but they have several key differences in terms of functionality, performance, and the types of operations they support. Below are the main differences:\n",
        "\n",
        "##1. Type of Elements\n",
        "* Python Lists: A list in Python can hold elements of different data types (e.g., integers, floats, strings, objects) in a single list. Python lists are flexible but are not optimized for numerical operations.\n",
        "\n",
        "* NumPy Arrays: NumPy arrays are homogeneous, meaning that all elements must be of the same type (usually numerical types like integers or floats). This homogeneity allows NumPy to perform operations more efficiently.\n",
        "\n",
        "# 2. Performance\n",
        "* Python Lists: Python lists are not optimized for numerical computations. They store pointers to objects, which means there’s additional overhead when performing operations. Consequently, iterating through large lists and performing arithmetic operations can be slower than NumPy arrays.\n",
        "\n",
        "* NumPy Arrays: NumPy arrays are optimized for numerical computations. They are implemented in C, and NumPy uses vectorized operations that allow for fast element-wise operations without the need for explicit loops. This results in significant performance gains, especially with large datasets.\n",
        "\n",
        "# 3. Memory Consumption\n",
        "* Python Lists: Python lists consume more memory because they store pointers to objects, which are less efficient. This is particularly noticeable when dealing with large collections of data.\n",
        "\n",
        "* NumPy Arrays: NumPy arrays are more memory-efficient as they are stored in contiguous blocks of memory, and each element is stored as a fixed-size data type (e.g., 32-bit integer or 64-bit float). This reduces the overhead compared to Python lists.\n",
        "\n",
        "# 4. Functionality for Mathematical Operations\n",
        "* Python Lists: Lists don’t have built-in support for element-wise arithmetic operations. If you want to perform operations like addition or multiplication on lists, you would need to loop through them manually.\n",
        "\n",
        "* NumPy Arrays: NumPy arrays support element-wise operations natively (i.e., you can perform mathematical operations directly on arrays), which makes NumPy more suitable for tasks like matrix manipulation, statistical analysis, and linear algebra.\n",
        "\n",
        "# 5. Support for Multidimensional Arrays\n",
        "* Python Lists: Lists are one-dimensional by default, though you can create nested lists (lists of lists) to simulate higher-dimensional data. However, operations on such nested lists are cumbersome and inefficient.\n",
        "\n",
        "* NumPy Arrays: NumPy arrays support true multidimensional arrays (e.g., 2D matrices, 3D tensors). You can easily perform operations on these multidimensional arrays.\n",
        "\n",
        "# 6. Array Slicing and Indexing\n",
        "* Python Lists: Python lists support basic indexing and slicing, but the syntax is less flexible and doesn’t support advanced features like boolean indexing or fancy indexing.\n",
        "\n",
        "* NumPy Arrays: NumPy arrays support advanced indexing and slicing, including boolean indexing, fancy indexing, and slicing across multiple dimensions. This is particularly useful when working with large datasets or matrices.\n",
        "\n",
        "##**Question-7) What is a heatmap, and when should it be used?**\n",
        "##**Answer-7)**\n",
        "\n",
        "A heatmap is a graphical representation of data where values are depicted by color to display complex information in a way that is easy to understand. It uses a gradient of colors, typically from cool to warm (e.g., blue to red), to represent the magnitude of a variable.\n",
        "What is a Heatmap?\n",
        "\n",
        "A heatmap is a graphical representation of data where values are depicted by color to display complex information in a way that is easy to understand. It uses a gradient of colors, typically from cool to warm (e.g., blue to red), to represent the magnitude of a variable.\n",
        "\n",
        "When to Use a Heatmap:\n",
        "\n",
        "**Identifying Patterns and Trends:** Heatmaps are excellent for visualizing patterns and trends in data that is organized in a matrix or grid format.\n",
        "Example: Analyzing website click-through rates on different parts of a webpage.\n",
        "\n",
        "**Comparing Values:** They effectively compare values across different categories or variables.\n",
        "Example: Comparing sales performance across different regions and product categories.\n",
        "\n",
        "**Visualizing Correlations:** Heatmaps can be used to visualize correlation matrices, showing the strength and direction of relationships between variables.\n",
        "\n",
        "**Feature Selection in Machine Learning:** They can help identify features that are highly correlated with the target variable.\n",
        "\n",
        "**Geographical Data Visualization:** Heatmaps can be used to visualize the density or intensity of a phenomenon across a geographical area.\n",
        "Example: Mapping crime rates or population density.\n",
        "\n",
        "\n",
        "##**Question-8)What does the term “vectorized operation” mean in NumPy?**\n",
        "##**Answer-8)**\n",
        "In NumPy, a \"vectorized operation\" refers to performing mathematical operations on entire arrays or data sequences without the use of explicit loops. Instead of iterating over individual elements, NumPy leverages efficient, pre-compiled functions and operations that operate on the arrays directly.\n",
        "\n",
        "Key Points:\n",
        "\n",
        "* Efficiency: Vectorized operations are significantly faster than their loop-based counterparts due to optimized C or Fortran implementations under the hood.\n",
        "* Conciseness: They lead to more concise and readable code, as you avoid writing explicit loops.\n",
        "* Broadcasting: NumPy's broadcasting mechanism allows for operations between arrays of different shapes, further simplifying code and improving efficiency.\n",
        "\n",
        "\n",
        "##**Question-9) How does Matplotlib differ from Plotly?**\n",
        "##**Answer-9)**\n",
        "Matplotlib and Plotly are both powerful Python libraries for creating visualizations, but they have distinct strengths:\n",
        "\n",
        "# Matplotlib\n",
        "\n",
        "* Foundation: A foundational library for creating static, publication-quality plots.\n",
        "* Flexibility: Offers extensive customization options for fine-grained control over every aspect of the plot.\n",
        "* Maturity: Well-established with a large community and extensive documentation.\n",
        "\n",
        "Best for:\n",
        "Creating static plots for publications, presentations, or reports.\n",
        "When you need precise control over plot aesthetics.\n",
        "When you're working with complex visualizations that require detailed customization.\n",
        "\n",
        "\n",
        "# Plotly\n",
        "\n",
        "* Interactivity: Focuses on creating interactive and web-based visualizations.\n",
        "* Ease of Use: Provides a higher-level API, making it easier to create complex plots with fewer lines of code.\n",
        "* Modern Aesthetics: Offers a range of visually appealing and modern chart types.\n",
        "\n",
        "Best for:\n",
        "Creating interactive dashboards and web applications.\n",
        "Exploring and analyzing data interactively.\n",
        "When you need to quickly create visually engaging plots.\n"
      ],
      "metadata": {
        "id": "1a4Rjs-K9ETW"
      }
    },
    {
      "cell_type": "markdown",
      "source": [
        "##**Question-10)What is the significance of hierarchical indexing in Pandas?**\n",
        "##**Answer-10)**\n",
        "Hierarchical Indexing (MultiIndexing) in Pandas is a powerful technique that allows you to have multiple levels of indexing on an axis (row or column). This is particularly useful when dealing with high-dimensional data.\n",
        "\n",
        "Key Significance:\n",
        "\n",
        "**Enhanced Data Organization:**\n",
        "\n",
        "* Multi-level Grouping: Easily group and organize data based on multiple criteria.\n",
        "* Clearer Data Interpretation: Makes it easier to understand the structure and relationships within your data.\n",
        "\n",
        "**Efficient Data Selection and Slicing:**\n",
        "\n",
        "* Partial Indexing: Select subsets of data using partial labels, making it easier to retrieve specific groups or sub-groups.\n",
        "* Concise Queries: Perform complex data queries with fewer lines of code.\n",
        "\n",
        "**Improved Data Analysis:**\n",
        "\n",
        "* Group-based Operations: Apply functions (e.g., mean, sum, count) to specific groups within the data.\n",
        "* Data Reshaping: Easily reshape data, such as pivoting or stacking, to analyze it from different perspectives.\n",
        "\n",
        "\n",
        "##**Question-11) What is the role of Seaborn’s pairplot() function?**\n",
        "##**Answer-11)**\n",
        "The pairplot() function in Seaborn is a powerful tool for exploratory data analysis. It creates a matrix of scatterplots that visualize the pairwise relationships between different variables within your dataset.\n",
        "\n",
        "Key Roles:\n",
        "\n",
        "**Correlation Detection:**\n",
        "\n",
        "* By examining the scatterplots, you can quickly identify potential correlations between variables.\n",
        "* Strong linear relationships will appear as clear diagonal lines or clusters in the scatterplots.\n",
        "\n",
        "**Data Distribution Visualization:**\n",
        "\n",
        "The diagonal of the matrix displays histograms or density plots of each individual variable, providing insights into their distributions.\n",
        "\n",
        "**Outlier Detection:**\n",
        "\n",
        "Outliers often stand out prominently in scatterplots, making them easier to identify and potentially investigate further.\n",
        "\n",
        "**Data Exploration:**\n",
        "\n",
        "Pairplot offers a comprehensive overview of your data, helping you understand the relationships between variables and identify potential patterns or trends.\n",
        "\n",
        "\n",
        "##**Question-12) What is the purpose of the describe() function in Pandas?**\n",
        "##**Answer-12)**\n",
        "The describe() function in Pandas is a powerful tool for generating summary statistics of a DataFrame or Series. It provides a quick overview of key metrics, giving you valuable insights into the central tendency, dispersion, and shape of your data's distribution.\n",
        "\n",
        "# Key Purposes:\n",
        "\n",
        "* Central Tendency: Calculates the mean, median (50th percentile), and other percentiles (default: 25th, 75th) of the data.\n",
        "* Dispersion: Determines the standard deviation, minimum, and maximum values, providing a measure of how spread out the data is.\n",
        "* Data Distribution Overview: Offers a concise summary of key statistical properties, helping you understand the general characteristics of your data.\n",
        "\n",
        "#Key Features:\n",
        "\n",
        "* Handles Numeric and Categorical Data: By default, it focuses on numeric columns. However, you can configure it to include or exclude specific data types.\n",
        "* Flexibility: You can customize the percentiles calculated to suit your analysis needs.\n",
        "* Concise Output: The function returns a DataFrame with the summary statistics, making it easy to interpret and analyze.\n",
        "\n",
        "\n",
        "\n",
        "##**Question-13) Why is handling missing data important in Pandas?**\n",
        "##**Answer-13)**\n",
        "Handling missing data is crucial in Pandas for several reasons:\n",
        "\n",
        "**Accurate Analysis:**\n",
        "\n",
        "Missing data can significantly bias your analysis results if not handled properly.\n",
        "For example, simply ignoring missing values can lead to skewed averages, incorrect correlations, and misleading conclusions.\n",
        "\n",
        "**Model Performance:**\n",
        "\n",
        "In machine learning, missing data can negatively impact the performance of your models.\n",
        "Many algorithms cannot handle missing values directly and require complete data for training and prediction.\n",
        "\n",
        "**Data Integrity:**\n",
        "\n",
        "Missing data can indicate potential issues with data collection, data entry, or data storage processes.\n",
        "Identifying and addressing missing data can help improve the overall quality and reliability of your data.\n",
        "\n",
        "**Data Visualization:**\n",
        "\n",
        "Missing data can distort visualizations, making it difficult to interpret trends and patterns.\n",
        "Handling missing data appropriately ensures that your visualizations accurately reflect the underlying data.\n",
        "\n",
        "\n",
        "##**Questipn-14)What are the benefits of using Plotly for data visualization?**\n",
        "##**Answer-14)**\n",
        "Plotly offers several key benefits for data visualization:\n",
        "\n",
        "# 1. Interactivity:\n",
        "\n",
        "* Dynamic Exploration: Plotly's interactive features allow users to zoom, pan, hover over data points, and select subsets of data. This dynamic exploration can reveal insights that might be missed in static visualizations.\n",
        "* Engaging Presentations: Interactive plots can make presentations more engaging and informative, capturing audience attention and facilitating deeper understanding of the data.\n",
        "\n",
        "# 2. Visual Appeal:\n",
        "\n",
        "* Modern Aesthetics: Plotly offers a wide range of visually appealing and modern chart types with customizable colors, themes, and layouts. This helps create visually striking and impactful visualizations.\n",
        "* Clear Communication: Well-designed visualizations can effectively communicate complex information in a clear and concise manner.\n",
        "\n",
        "# 3. Ease of Use:\n",
        "\n",
        "* High-level API: Plotly provides a relatively high-level API, making it easier to create complex plots with fewer lines of code compared to some other libraries.\n",
        "* Large Community and Resources: A strong community and extensive documentation provide ample support and resources for users of all levels.\n",
        "\n",
        "\n",
        "# 4. Versatility:\n",
        "\n",
        "* Wide Range of Chart Types: Supports a diverse array of chart types, including scatter plots, line charts, bar charts, histograms, heatmaps, 3D plots, and more.\n",
        "* Web-based Applications: Plotly is well-suited for creating interactive dashboards and web applications, allowing users to share and collaborate on visualizations online.\n",
        "\n",
        "# 5. Integration:\n",
        "\n",
        "* Seamless with Pandas: Integrates seamlessly with Pandas, making it easy to create visualizations directly from Pandas DataFrames.\n",
        "* Other Libraries: Can be used in conjunction with other Python libraries for data analysis and machine learning.\n",
        "\n",
        "\n",
        "\n",
        "\n",
        "##**Question-15)How does NumPy handle multidimensional arrays?**\n",
        "##**Answer-15)**\n",
        "NumPy excels at handling multidimensional arrays, a core feature that distinguishes it from Python's built-in list structures. Here's a breakdown of how NumPy manages these arrays:\n",
        "\n",
        "# 1. ndarray: The Fundamental Data Structure\n",
        "\n",
        "* n-dimensional Array: The ndarray (n-dimensional array) is the cornerstone of NumPy. It's a homogeneous collection of elements (all of the same data type) arranged in a grid-like structure.\n",
        "* Dimensions: The number of dimensions is determined by the number of indices required to access a specific element.\n",
        "1D: A simple array (like a list)\n",
        "2D: A matrix (rows and columns)\n",
        "3D: A cube or a collection of matrices\n",
        "and so on...\n",
        "\n",
        "#2. Creating Multidimensional Arrays\n",
        "\n",
        "* Using Array Creation Functions: NumPy provides functions to create arrays with specific characteristics:\n",
        "\n",
        "np.zeros(): Creates an array filled with zeros.\n",
        "np.ones(): Creates an array filled with ones.\n",
        "np.empty(): Creates an array without initializing its values.\n",
        "np.arange(): Creates an array with evenly spaced values.\n",
        "np.linspace(): Creates an array with evenly spaced values within a specified interval.\n",
        "\n",
        "\n",
        "#3. Indexing and Slicing\n",
        "\n",
        "Accessing Elements: You can access individual elements using multiple indices, one for each dimension:\n",
        "\n",
        "\n",
        "# 4. Shape and Reshaping\n",
        "\n",
        "* Shape: The shape attribute of an ndarray provides a tuple representing the dimensions of the array.\n",
        "* Reshaping: You can change the shape of an array using the reshape() method:\n",
        "\n",
        "# 5. Broadcasting\n",
        "\n",
        "Element-wise Operations: NumPy's broadcasting mechanism allows you to perform operations between arrays of different shapes under certain conditions. This simplifies code and improves performance.\n"
      ],
      "metadata": {
        "id": "rzJPiNfVCcGu"
      }
    },
    {
      "cell_type": "markdown",
      "source": [
        "##**Question-16)What is the role of Bokeh in data visualization?**\n",
        "##**Answer-16)**\n",
        "Bokeh is a powerful Python library for creating interactive visualizations for modern web browsers. Here's a breakdown of its key role:\n",
        "\n",
        "# 1. Interactive Visualizations:\n",
        "\n",
        "* Dynamic Exploration: Bokeh excels at creating interactive plots that allow users to zoom, pan, hover over data points, and select subsets of data. This dynamic exploration can reveal insights that might be missed in static visualizations.\n",
        "* Engaging Presentations: Interactive plots can make presentations more engaging and informative, capturing audience attention and facilitating deeper understanding of the data.\n",
        "\n",
        "# 2. High-Performance Rendering:\n",
        "\n",
        "* Efficient Handling of Large Datasets: Bokeh is designed to handle and render large datasets efficiently, even within a web browser. This makes it suitable for visualizing complex and high-dimensional data.\n",
        "* Smooth Interactions: Bokeh provides smooth and responsive interactions, ensuring a fluid user experience even with complex visualizations.\n",
        "\n",
        "#3. Customizability and Flexibility:\n",
        "\n",
        "* Low-Level Control: Bokeh offers a low-level interface that provides fine-grained control over the appearance and behavior of visualizations. This allows for highly customized and unique visualizations.\n",
        "* Integration with Web Technologies: Bokeh can be easily integrated with web frameworks like Flask and Django, enabling the creation of interactive data applications.\n",
        "\n",
        "# 4. Modern Aesthetics:\n",
        "\n",
        "* Visually Appealing Plots: Bokeh supports a wide range of visually appealing and modern chart types, helping to create professional-looking and informative visualizations.\n",
        "* In essence:\n",
        "Bokeh plays a vital role in data visualization by enabling the creation of interactive, high-performance, and visually appealing visualizations. It's a valuable tool for data scientists, analysts, and developers who want to effectively communicate insights through interactive and engaging data explorations.\n",
        "\n",
        "\n",
        "\n",
        "\n",
        "##**Question-17)Explain the difference between apply() and map() in Pandas?**\n",
        "##**Answer-17)**\n",
        "\n",
        "Pandas apply(), map(), and applymap() are all used to apply functions to elements within a DataFrame or Series, but they have distinct purposes and functionalities:\n",
        "\n",
        "**1. map()**\n",
        "\n",
        "* Scope: Primarily used with Series objects.\n",
        "* Functionality:\n",
        "Applies a function to each element of a Series individually.\n",
        "Can also be used with a dictionary for value mapping.\n",
        "\n",
        "**2. applymap()**\n",
        "\n",
        "* Scope: Used specifically with DataFrames.\n",
        "* Functionality:\n",
        "Applies a function to each element of the DataFrame individually.\n",
        "\n",
        "**3. apply()**\n",
        "\n",
        "* Scope: Can be used with both Series and DataFrames.\n",
        "* Functionality:\n",
        "More versatile than map() and applymap().\n",
        "Can be applied to either rows or columns of a DataFrame.\n",
        "Can perform more complex operations, such as aggregations or custom transformations.\n",
        "\n",
        "Key Differences Summarized:\n",
        "\n",
        "* Scope: map() for Series, applymap() for DataFrames, apply() for both.\n",
        "* Granularity: map() and applymap() are element-wise, apply() operates on rows or columns.\n",
        "* Flexibility: apply() offers the most flexibility for complex operations.\n",
        "By understanding these distinctions, you can choose the most appropriate method for your specific data manipulation needs in Pandas.\n",
        "\n",
        "\n",
        "\n",
        "\n",
        "##**Question-18) What are some advanced features of NumPy?**\n",
        "##**Answer-18)**\n",
        "NumPy, beyond its core array operations, offers several advanced features that enhance its power for scientific computing and data analysis:\n",
        "\n",
        "# 1. Linear Algebra:\n",
        "\n",
        "* Matrix Operations: NumPy provides efficient functions for matrix multiplication (np.dot, np.matmul), inversion (np.linalg.inv), eigenvalue decomposition (np.linalg.eig), singular value decomposition (np.linalg.svd), and more.\n",
        "* Solving Linear Systems: You can efficiently solve systems of linear equations using functions like np.linalg.solve.\n",
        "\n",
        "# 2. Random Number Generation:\n",
        "\n",
        "* Distributions: NumPy offers a wide range of random number distributions, including normal, uniform, binomial, Poisson, and many others.\n",
        "* Random Sampling: Functions like np.random.choice and np.random.shuffle enable you to perform random sampling and shuffling of arrays.\n",
        "\n",
        "# 3. Fourier Transforms:\n",
        "\n",
        "* Fast Fourier Transform (FFT): NumPy provides efficient implementations of the Fast Fourier Transform (np.fft.fft, np.fft.ifft) for signal processing applications.\n",
        "\n",
        "# 4. Structured Arrays:\n",
        "\n",
        "* Complex Data Types: You can create arrays with more complex data types, such as arrays of structs or records, allowing you to represent structured data within a single array.\n",
        "\n",
        "# 5. Memory Mapping:\n",
        "\n",
        "* Large Datasets: Memory mapping allows you to work with very large datasets that don't fit entirely into memory. It maps a file on disk to an array-like object, enabling you to work with portions of the data at a time.\n",
        "\n",
        "# 6. Universal Functions (ufuncs):\n",
        "\n",
        "* Vectorized Operations: Ufuncs are functions that operate element-wise on arrays. They are highly optimized for performance and provide a convenient way to perform operations like addition, subtraction, multiplication, trigonometric functions, and more on entire arrays.\n",
        "\n",
        "# 7. Broadcasting:\n",
        "\n",
        "* Array Operations with Different Shapes: Broadcasting extends the basic operations like addition and multiplication to arrays of different shapes, under certain conditions. This simplifies code and improves performance.\n",
        "\n",
        "# 8. Masking and Boolean Indexing:\n",
        "\n",
        "Conditional Selection: You can use boolean arrays to select specific elements or subarrays based on conditions. This is a powerful technique for filtering data and performing complex operations.\n",
        "\n",
        "\n",
        "\n",
        "\n",
        "##**Question-19) How does Pandas simplify time series analysis?**\n",
        "##**Answer-19)**\n",
        "Pandas significantly simplifies time series analysis in Python through several key features:\n",
        "\n",
        "# 1. Powerful Time Series Data Structures:\n",
        "\n",
        "* DatetimeIndex: Pandas provides the DatetimeIndex class, which allows you to use dates and times as the index for your DataFrame or Series. This enables efficient indexing, slicing, and resampling of time series data.\n",
        "* Time Series-Specific Data Structures: Pandas offers specialized data structures like Timestamp, Timedelta, and Period for working with dates, times, and time intervals.\n",
        "\n",
        "# 2. Efficient Time-Based Indexing and Slicing:\n",
        "\n",
        "* Date/Time-Based Selection: Easily select data based on specific dates, times, or time ranges using intuitive syntax.\n",
        "* Time-Based Slicing: Slice data into specific time intervals (e.g., daily, monthly, yearly) with ease.\n",
        "\n",
        "# 3. Resampling and Frequency Conversion:\n",
        "\n",
        "* Data Aggregation: Resample data to different frequencies (e.g., convert daily data to monthly averages) using methods like resample().\n",
        "* Upsampling and Downsampling: Easily upsample (increase frequency) or downsample (decrease frequency) time series data.\n",
        "\n",
        "# 4. Time Zone Handling:\n",
        "\n",
        "* Time Zone Support: Handle time zones effectively with built-in functions for converting between time zones.\n",
        "\n",
        "# 5. Moving Window Functions:\n",
        "\n",
        "* Calculate Rolling Statistics: Calculate moving averages, standard deviations, and other statistics over a specified time window.\n",
        "\n",
        "# 6. Time Series Analysis Tools:\n",
        "\n",
        "Built-in Functions: Pandas provides functions for common time series analysis tasks, such as calculating autocorrelations, performing differencing, and detecting seasonality.\n",
        "\n",
        "\n",
        "\n",
        "\n",
        "##**Question-20)What is the role of a pivot table in Pandas?**\n",
        "##**Answer-20)**\n",
        "In Pandas, a pivot table is a powerful tool for data summarization and analysis. It allows you to create a new DataFrame by grouping your data and applying aggregate functions.\n",
        "\n",
        "Key Roles:\n",
        "\n",
        "**Data Summarization:**\n",
        "\n",
        "Pivot tables help you quickly summarize large datasets by grouping data based on one or more columns and applying aggregate functions (e.g., sum, mean, count, max, min) to the data within each group.\n",
        "\n",
        "**Data Analysis:**\n",
        "\n",
        "They enable you to explore relationships between different variables in your data.\n",
        "You can easily identify trends, patterns, and outliers by analyzing the summarized data.\n",
        "\n",
        "**Data Reshaping:**\n",
        "\n",
        "Pivot tables effectively reshape your data, making it easier to understand and interpret.\n",
        "\n",
        "Grouping: You specify the columns that will be used to group your data (index and columns).\n",
        "\n",
        "Aggregation: You choose an aggregation function (e.g., sum, mean, count) to apply to the data within each group.\n",
        "\n",
        "Pivot Table Creation: Pandas creates a new DataFrame with the specified groups as the index and columns, and the aggregated values filling the cells.\n",
        "\n",
        "\n",
        "##**Question-21)Why is NumPy’s array slicing faster than Python’s list slicing?**\n",
        "##**Answer-21)**\n",
        "NumPy array slicing is generally faster than Python list slicing due to the following key factors:\n",
        "\n",
        "* Memory Contiguity: NumPy arrays are stored in contiguous blocks of memory, meaning the elements are stored sequentially in memory. This allows for efficient data access and faster operations. In contrast, Python lists can store elements of different data types, which requires more memory overhead and can lead to less efficient memory access.\n",
        "\n",
        "* Data Type Homogeneity: NumPy arrays are homogeneous, meaning they contain elements of the same data type. This allows for optimized memory allocation and faster data processing. Python lists, on the other hand, can store elements of different data types, which requires more memory overhead and can slow down operations.\n",
        "\n",
        "* Vectorization: NumPy operations are often vectorized, meaning they operate on entire arrays at once instead of individual elements. This leverages efficient low-level implementations (often in C or Fortran) and significantly improves performance compared to looping through elements in Python lists.\n",
        "\n",
        "* Optimized C Implementation: Many NumPy operations, including slicing, are implemented in C or Fortran, which are lower-level languages that can execute code much faster than Python.\n",
        "\n",
        "\n",
        "\n",
        "\n",
        "\n",
        "\n",
        "##**Question-22)What are some common use cases for Seaborn?**\n",
        "##**Answer-22)**\n",
        "Seaborn is a powerful Python library built on top of Matplotlib, designed for creating statistically-informed and visually appealing graphics. Here are some of its common use cases:\n",
        "\n",
        "**Exploratory Data Analysis (EDA):**\n",
        "\n",
        "* Distributions: Visualizing the distribution of a single variable using histograms, density plots, and kernel density estimation (KDE).\n",
        "* Relationships: Exploring relationships between two variables using scatter plots, line plots, and regression plots.\n",
        "* Categorical Data: Analyzing categorical data with bar plots, count plots, and box plots.\n",
        "* Pairwise Relationships: Creating a matrix of scatterplots to visualize pairwise relationships between multiple variables using pairplot().\n",
        "\n",
        "**Statistical Graphics:**\n",
        "\n",
        "* Regression Plots: Visualizing linear regression models and their confidence intervals.\n",
        "* Heatmaps: Representing data as a color-encoded matrix, useful for visualizing correlations or other relationships between variables.\n",
        "* Clustermaps: Visualizing hierarchical clustering of data.\n",
        "\n",
        "**Data Visualization for Machine Learning:**\n",
        "\n",
        "* Feature Importance: Visualizing the importance of different features in a machine learning model.\n",
        "* Model Performance: Creating plots to evaluate model performance, such as confusion matrices and ROC curves.\n",
        "\n",
        "**Customizable Aesthetics:**\n",
        "\n",
        "Seaborn provides a high-level interface with built-in themes and color palettes, making it easy to create visually appealing and informative plots with minimal code.\n",
        "\n",
        "In essence, Seaborn excels at:\n",
        "\n",
        "Simplifying the creation of statistical graphics.\n",
        "Providing a high-level interface for common visualization tasks.\n",
        "Creating visually appealing and informative plots.\n",
        "\n"
      ],
      "metadata": {
        "id": "Xj9YaHrKG70N"
      }
    },
    {
      "cell_type": "markdown",
      "source": [
        "##**PRACTICAL QUESTIONS**\n",
        "\n",
        "\n",
        "##**Question-1) How do you create a 2D NumPy array and calculate the sum of each row?**\n",
        "\n",
        "##**Answer-1)**"
      ],
      "metadata": {
        "id": "m5XZnTx5MqIq"
      }
    },
    {
      "cell_type": "code",
      "execution_count": 1,
      "metadata": {
        "colab": {
          "base_uri": "https://localhost:8080/",
          "height": 0
        },
        "id": "NdWTIdhg8rkL",
        "outputId": "b6fd618f-f424-4d19-ca9b-58b32955ba57"
      },
      "outputs": [
        {
          "output_type": "stream",
          "name": "stdout",
          "text": [
            "2D Array:\n",
            " [[1 2 3]\n",
            " [4 5 6]\n",
            " [7 8 9]]\n",
            "Sum of each row: [ 6 15 24]\n"
          ]
        }
      ],
      "source": [
        "import numpy as np\n",
        "\n",
        "# Creating a 2D NumPy array\n",
        "array = np.array([[1, 2, 3], [4, 5, 6], [7, 8, 9]])\n",
        "\n",
        "# Calculating the sum of each row\n",
        "row_sums = np.sum(array, axis=1)\n",
        "print(\"2D Array:\\n\", array)\n",
        "print(\"Sum of each row:\", row_sums)\n"
      ]
    },
    {
      "cell_type": "markdown",
      "source": [
        "##**Question-2) Write a Pandas script to find the mean of a specific column in a DataFrame?**\n",
        "##**Answer-2)**"
      ],
      "metadata": {
        "id": "OQUv33OD9DdT"
      }
    },
    {
      "cell_type": "code",
      "source": [
        "import pandas as pd\n",
        "\n",
        "# Creating a DataFrame\n",
        "data = {'Name': ['Alice', 'Bob', 'Charlie'], 'Age': [25, 30, 35], 'Salary': [50000, 60000, 70000]}\n",
        "df = pd.DataFrame(data)\n",
        "\n",
        "# Calculating the mean of the 'Salary' column\n",
        "mean_salary = df['Salary'].mean()\n",
        "print(\"Mean of the 'Salary' column:\", mean_salary)\n"
      ],
      "metadata": {
        "colab": {
          "base_uri": "https://localhost:8080/",
          "height": 0
        },
        "id": "N82OhNnJNOeQ",
        "outputId": "37b23bf9-f048-4fa8-9455-094b6d61de0c"
      },
      "execution_count": 2,
      "outputs": [
        {
          "output_type": "stream",
          "name": "stdout",
          "text": [
            "Mean of the 'Salary' column: 60000.0\n"
          ]
        }
      ]
    },
    {
      "cell_type": "markdown",
      "source": [
        "##**Question-3)Create a scatter plot using Matplotlib**\n",
        "##**Answer-3)**"
      ],
      "metadata": {
        "id": "UHqb_gU1NX7H"
      }
    },
    {
      "cell_type": "code",
      "source": [
        "import matplotlib.pyplot as plt\n",
        "\n",
        "# Sample data\n",
        "x = [10, 20, 30, 40, 50]\n",
        "y = [5, 15, 25, 35, 45]\n",
        "\n",
        "# Creating a scatter plot\n",
        "plt.scatter(x, y, color='blue')\n",
        "plt.title(\"Scatter Plot\")\n",
        "plt.xlabel(\"X-axis\")\n",
        "plt.ylabel(\"Y-axis\")\n",
        "plt.show()\n"
      ],
      "metadata": {
        "colab": {
          "base_uri": "https://localhost:8080/",
          "height": 472
        },
        "id": "h1tDZQgXNUmo",
        "outputId": "35e9db7f-753d-410f-9c19-8c0698f248b8"
      },
      "execution_count": 3,
      "outputs": [
        {
          "output_type": "display_data",
          "data": {
            "text/plain": [
              "<Figure size 640x480 with 1 Axes>"
            ],
            "image/png": "[encoded data removed]"
          },
          "metadata": {}
        }
      ]
    },
    {
      "cell_type": "markdown",
      "source": [
        "##**Question-4) How do you calculate the correlation matrix using Seaborn and visualize it with a heatmap?**\n",
        "##**Answer-4)**"
      ],
      "metadata": {
        "id": "8DvCoflXNvJb"
      }
    },
    {
      "cell_type": "code",
      "source": [
        "import seaborn as sns\n",
        "import numpy as np\n",
        "\n",
        "# Creating a sample DataFrame\n",
        "data = np.random.rand(5, 5)\n",
        "df = pd.DataFrame(data, columns=['A', 'B', 'C', 'D', 'E'])\n",
        "\n",
        "# Correlation matrix\n",
        "correlation_matrix = df.corr()\n",
        "\n",
        "# Heatmap\n",
        "sns.heatmap(correlation_matrix, annot=True, cmap='coolwarm')\n",
        "plt.title(\"Correlation Heatmap\")\n",
        "plt.show()\n"
      ],
      "metadata": {
        "colab": {
          "base_uri": "https://localhost:8080/",
          "height": 452
        },
        "id": "g8-_wcMJNnLH",
        "outputId": "e3cf4024-baef-4be4-db04-d8dd7f3f3249"
      },
      "execution_count": 4,
      "outputs": [
        {
          "output_type": "display_data",
          "data": {
            "text/plain": [
              "<Figure size 640x480 with 2 Axes>"
            ],
            "image/png": "[encoded data removed]"
          },
          "metadata": {}
        }
      ]
    },
    {
      "cell_type": "markdown",
      "source": [
        "##**Question-5)Generate a bar plot using Plotly.**\n",
        "##**Answer-5)**\n"
      ],
      "metadata": {
        "id": "JDdGJTT5Nupr"
      }
    },
    {
      "cell_type": "code",
      "source": [
        "import plotly.express as px\n",
        "\n",
        "# Sample data\n",
        "data = {'Category': ['A', 'B', 'C'], 'Values': [10, 20, 30]}\n",
        "df = pd.DataFrame(data)\n",
        "\n",
        "# Bar plot\n",
        "fig = px.bar(df, x='Category', y='Values', title='Bar Plot')\n",
        "fig.show()\n"
      ],
      "metadata": {
        "colab": {
          "base_uri": "https://localhost:8080/",
          "height": 542
        },
        "id": "HshlfOquOMuG",
        "outputId": "5b6f9b44-6fbc-4d60-a575-694a4fd2032b"
      },
      "execution_count": 5,
      "outputs": [
        {
          "output_type": "display_data",
          "data": {
            "text/html": [
              "<html>\n",
              "<head><meta charset=\"utf-8\" /></head>\n",
              "<body>\n",
              "    <div>            <script src=\"https://cdnjs.cloudflare.com/ajax/libs/mathjax/2.7.5/MathJax.js?config=TeX-AMS-MML_SVG\"></script><script type=\"text/javascript\">if (window.MathJax && window.MathJax.Hub && window.MathJax.Hub.Config) {window.MathJax.Hub.Config({SVG: {font: \"STIX-Web\"}});}</script>                <script type=\"text/javascript\">window.PlotlyConfig = {MathJaxConfig: 'local'};</script>\n",
              "        <script charset=\"utf-8\" src=\"https://cdn.plot.ly/plotly-2.35.2.min.js\"></script>                <div id=\"7deea296-df00-4d83-beea-f22fb403deb7\" class=\"plotly-graph-div\" style=\"height:525px; width:100%;\"></div>            <script type=\"text/javascript\">                                    window.PLOTLYENV=window.PLOTLYENV || {};                                    if (document.getElementById(\"7deea296-df00-4d83-beea-f22fb403deb7\")) {                    Plotly.newPlot(                        \"7deea296-df00-4d83-beea-f22fb403deb7\",                        [{\"alignmentgroup\":\"True\",\"hovertemplate\":\"Category=%{x}\\u003cbr\\u003eValues=%{y}\\u003cextra\\u003e\\u003c\\u002fextra\\u003e\",\"legendgroup\":\"\",\"marker\":{\"color\":\"#636efa\",\"pattern\":{\"shape\":\"\"}},\"name\":\"\",\"offsetgroup\":\"\",\"orientation\":\"v\",\"showlegend\":false,\"textposition\":\"auto\",\"x\":[\"A\",\"B\",\"C\"],\"xaxis\":\"x\",\"y\":[10,20,30],\"yaxis\":\"y\",\"type\":\"bar\"}],                        {\"template\":{\"data\":{\"histogram2dcontour\":[{\"type\":\"histogram2dcontour\",\"colorbar\":{\"outlinewidth\":0,\"ticks\":\"\"},\"colorscale\":[[0.0,\"#0d0887\"],[0.1111111111111111,\"#46039f\"],[0.2222222222222222,\"#7201a8\"],[0.3333333333333333,\"#9c179e\"],[0.4444444444444444,\"#bd3786\"],[0.5555555555555556,\"#d8576b\"],[0.6666666666666666,\"#ed7953\"],[0.7777777777777778,\"#fb9f3a\"],[0.8888888888888888,\"#fdca26\"],[1.0,\"#f0f921\"]]}],\"choropleth\":[{\"type\":\"choropleth\",\"colorbar\":{\"outlinewidth\":0,\"ticks\":\"\"}}],\"histogram2d\":[{\"type\":\"histogram2d\",\"colorbar\":{\"outlinewidth\":0,\"ticks\":\"\"},\"colorscale\":[[0.0,\"#0d0887\"],[0.1111111111111111,\"#46039f\"],[0.2222222222222222,\"#7201a8\"],[0.3333333333333333,\"#9c179e\"],[0.4444444444444444,\"#bd3786\"],[0.5555555555555556,\"#d8576b\"],[0.6666666666666666,\"#ed7953\"],[0.7777777777777778,\"#fb9f3a\"],[0.8888888888888888,\"#fdca26\"],[1.0,\"#f0f921\"]]}],\"heatmap\":[{\"type\":\"heatmap\",\"colorbar\":{\"outlinewidth\":0,\"ticks\":\"\"},\"colorscale\":[[0.0,\"#0d0887\"],[0.1111111111111111,\"#46039f\"],[0.2222222222222222,\"#7201a8\"],[0.3333333333333333,\"#9c179e\"],[0.4444444444444444,\"#bd3786\"],[0.5555555555555556,\"#d8576b\"],[0.6666666666666666,\"#ed7953\"],[0.7777777777777778,\"#fb9f3a\"],[0.8888888888888888,\"#fdca26\"],[1.0,\"#f0f921\"]]}],\"heatmapgl\":[{\"type\":\"heatmapgl\",\"colorbar\":{\"outlinewidth\":0,\"ticks\":\"\"},\"colorscale\":[[0.0,\"#0d0887\"],[0.1111111111111111,\"#46039f\"],[0.2222222222222222,\"#7201a8\"],[0.3333333333333333,\"#9c179e\"],[0.4444444444444444,\"#bd3786\"],[0.5555555555555556,\"#d8576b\"],[0.6666666666666666,\"#ed7953\"],[0.7777777777777778,\"#fb9f3a\"],[0.8888888888888888,\"#fdca26\"],[1.0,\"#f0f921\"]]}],\"contourcarpet\":[{\"type\":\"contourcarpet\",\"colorbar\":{\"outlinewidth\":0,\"ticks\":\"\"}}],\"contour\":[{\"type\":\"contour\",\"colorbar\":{\"outlinewidth\":0,\"ticks\":\"\"},\"colorscale\":[[0.0,\"#0d0887\"],[0.1111111111111111,\"#46039f\"],[0.2222222222222222,\"#7201a8\"],[0.3333333333333333,\"#9c179e\"],[0.4444444444444444,\"#bd3786\"],[0.5555555555555556,\"#d8576b\"],[0.6666666666666666,\"#ed7953\"],[0.7777777777777778,\"#fb9f3a\"],[0.8888888888888888,\"#fdca26\"],[1.0,\"#f0f921\"]]}],\"surface\":[{\"type\":\"surface\",\"colorbar\":{\"outlinewidth\":0,\"ticks\":\"\"},\"colorscale\":[[0.0,\"#0d0887\"],[0.1111111111111111,\"#46039f\"],[0.2222222222222222,\"#7201a8\"],[0.3333333333333333,\"#9c179e\"],[0.4444444444444444,\"#bd3786\"],[0.5555555555555556,\"#d8576b\"],[0.6666666666666666,\"#ed7953\"],[0.7777777777777778,\"#fb9f3a\"],[0.8888888888888888,\"#fdca26\"],[1.0,\"#f0f921\"]]}],\"mesh3d\":[{\"type\":\"mesh3d\",\"colorbar\":{\"outlinewidth\":0,\"ticks\":\"\"}}],\"scatter\":[{\"fillpattern\":{\"fillmode\":\"overlay\",\"size\":10,\"solidity\":0.2},\"type\":\"scatter\"}],\"parcoords\":[{\"type\":\"parcoords\",\"line\":{\"colorbar\":{\"outlinewidth\":0,\"ticks\":\"\"}}}],\"scatterpolargl\":[{\"type\":\"scatterpolargl\",\"marker\":{\"colorbar\":{\"outlinewidth\":0,\"ticks\":\"\"}}}],\"bar\":[{\"error_x\":{\"color\":\"#2a3f5f\"},\"error_y\":{\"color\":\"#2a3f5f\"},\"marker\":{\"line\":{\"color\":\"#E5ECF6\",\"width\":0.5},\"pattern\":{\"fillmode\":\"overlay\",\"size\":10,\"solidity\":0.2}},\"type\":\"bar\"}],\"scattergeo\":[{\"type\":\"scattergeo\",\"marker\":{\"colorbar\":{\"outlinewidth\":0,\"ticks\":\"\"}}}],\"scatterpolar\":[{\"type\":\"scatterpolar\",\"marker\":{\"colorbar\":{\"outlinewidth\":0,\"ticks\":\"\"}}}],\"histogram\":[{\"marker\":{\"pattern\":{\"fillmode\":\"overlay\",\"size\":10,\"solidity\":0.2}},\"type\":\"histogram\"}],\"scattergl\":[{\"type\":\"scattergl\",\"marker\":{\"colorbar\":{\"outlinewidth\":0,\"ticks\":\"\"}}}],\"scatter3d\":[{\"type\":\"scatter3d\",\"line\":{\"colorbar\":{\"outlinewidth\":0,\"ticks\":\"\"}},\"marker\":{\"colorbar\":{\"outlinewidth\":0,\"ticks\":\"\"}}}],\"scattermapbox\":[{\"type\":\"scattermapbox\",\"marker\":{\"colorbar\":{\"outlinewidth\":0,\"ticks\":\"\"}}}],\"scatterternary\":[{\"type\":\"scatterternary\",\"marker\":{\"colorbar\":{\"outlinewidth\":0,\"ticks\":\"\"}}}],\"scattercarpet\":[{\"type\":\"scattercarpet\",\"marker\":{\"colorbar\":{\"outlinewidth\":0,\"ticks\":\"\"}}}],\"carpet\":[{\"aaxis\":{\"endlinecolor\":\"#2a3f5f\",\"gridcolor\":\"white\",\"linecolor\":\"white\",\"minorgridcolor\":\"white\",\"startlinecolor\":\"#2a3f5f\"},\"baxis\":{\"endlinecolor\":\"#2a3f5f\",\"gridcolor\":\"white\",\"linecolor\":\"white\",\"minorgridcolor\":\"white\",\"startlinecolor\":\"#2a3f5f\"},\"type\":\"carpet\"}],\"table\":[{\"cells\":{\"fill\":{\"color\":\"#EBF0F8\"},\"line\":{\"color\":\"white\"}},\"header\":{\"fill\":{\"color\":\"#C8D4E3\"},\"line\":{\"color\":\"white\"}},\"type\":\"table\"}],\"barpolar\":[{\"marker\":{\"line\":{\"color\":\"#E5ECF6\",\"width\":0.5},\"pattern\":{\"fillmode\":\"overlay\",\"size\":10,\"solidity\":0.2}},\"type\":\"barpolar\"}],\"pie\":[{\"automargin\":true,\"type\":\"pie\"}]},\"layout\":{\"autotypenumbers\":\"strict\",\"colorway\":[\"#636efa\",\"#EF553B\",\"#00cc96\",\"#ab63fa\",\"#FFA15A\",\"#19d3f3\",\"#FF6692\",\"#B6E880\",\"#FF97FF\",\"#FECB52\"],\"font\":{\"color\":\"#2a3f5f\"},\"hovermode\":\"closest\",\"hoverlabel\":{\"align\":\"left\"},\"paper_bgcolor\":\"white\",\"plot_bgcolor\":\"#E5ECF6\",\"polar\":{\"bgcolor\":\"#E5ECF6\",\"angularaxis\":{\"gridcolor\":\"white\",\"linecolor\":\"white\",\"ticks\":\"\"},\"radialaxis\":{\"gridcolor\":\"white\",\"linecolor\":\"white\",\"ticks\":\"\"}},\"ternary\":{\"bgcolor\":\"#E5ECF6\",\"aaxis\":{\"gridcolor\":\"white\",\"linecolor\":\"white\",\"ticks\":\"\"},\"baxis\":{\"gridcolor\":\"white\",\"linecolor\":\"white\",\"ticks\":\"\"},\"caxis\":{\"gridcolor\":\"white\",\"linecolor\":\"white\",\"ticks\":\"\"}},\"coloraxis\":{\"colorbar\":{\"outlinewidth\":0,\"ticks\":\"\"}},\"colorscale\":{\"sequential\":[[0.0,\"#0d0887\"],[0.1111111111111111,\"#46039f\"],[0.2222222222222222,\"#7201a8\"],[0.3333333333333333,\"#9c179e\"],[0.4444444444444444,\"#bd3786\"],[0.5555555555555556,\"#d8576b\"],[0.6666666666666666,\"#ed7953\"],[0.7777777777777778,\"#fb9f3a\"],[0.8888888888888888,\"#fdca26\"],[1.0,\"#f0f921\"]],\"sequentialminus\":[[0.0,\"#0d0887\"],[0.1111111111111111,\"#46039f\"],[0.2222222222222222,\"#7201a8\"],[0.3333333333333333,\"#9c179e\"],[0.4444444444444444,\"#bd3786\"],[0.5555555555555556,\"#d8576b\"],[0.6666666666666666,\"#ed7953\"],[0.7777777777777778,\"#fb9f3a\"],[0.8888888888888888,\"#fdca26\"],[1.0,\"#f0f921\"]],\"diverging\":[[0,\"#8e0152\"],[0.1,\"#c51b7d\"],[0.2,\"#de77ae\"],[0.3,\"#f1b6da\"],[0.4,\"#fde0ef\"],[0.5,\"#f7f7f7\"],[0.6,\"#e6f5d0\"],[0.7,\"#b8e186\"],[0.8,\"#7fbc41\"],[0.9,\"#4d9221\"],[1,\"#276419\"]]},\"xaxis\":{\"gridcolor\":\"white\",\"linecolor\":\"white\",\"ticks\":\"\",\"title\":{\"standoff\":15},\"zerolinecolor\":\"white\",\"automargin\":true,\"zerolinewidth\":2},\"yaxis\":{\"gridcolor\":\"white\",\"linecolor\":\"white\",\"ticks\":\"\",\"title\":{\"standoff\":15},\"zerolinecolor\":\"white\",\"automargin\":true,\"zerolinewidth\":2},\"scene\":{\"xaxis\":{\"backgroundcolor\":\"#E5ECF6\",\"gridcolor\":\"white\",\"linecolor\":\"white\",\"showbackground\":true,\"ticks\":\"\",\"zerolinecolor\":\"white\",\"gridwidth\":2},\"yaxis\":{\"backgroundcolor\":\"#E5ECF6\",\"gridcolor\":\"white\",\"linecolor\":\"white\",\"showbackground\":true,\"ticks\":\"\",\"zerolinecolor\":\"white\",\"gridwidth\":2},\"zaxis\":{\"backgroundcolor\":\"#E5ECF6\",\"gridcolor\":\"white\",\"linecolor\":\"white\",\"showbackground\":true,\"ticks\":\"\",\"zerolinecolor\":\"white\",\"gridwidth\":2}},\"shapedefaults\":{\"line\":{\"color\":\"#2a3f5f\"}},\"annotationdefaults\":{\"arrowcolor\":\"#2a3f5f\",\"arrowhead\":0,\"arrowwidth\":1},\"geo\":{\"bgcolor\":\"white\",\"landcolor\":\"#E5ECF6\",\"subunitcolor\":\"white\",\"showland\":true,\"showlakes\":true,\"lakecolor\":\"white\"},\"title\":{\"x\":0.05},\"mapbox\":{\"style\":\"light\"}}},\"xaxis\":{\"anchor\":\"y\",\"domain\":[0.0,1.0],\"title\":{\"text\":\"Category\"}},\"yaxis\":{\"anchor\":\"x\",\"domain\":[0.0,1.0],\"title\":{\"text\":\"Values\"}},\"legend\":{\"tracegroupgap\":0},\"title\":{\"text\":\"Bar Plot\"},\"barmode\":\"relative\"},                        {\"responsive\": true}                    ).then(function(){\n",
              "                            \n",
              "var gd = document.getElementById('7deea296-df00-4d83-beea-f22fb403deb7');\n",
              "var x = new MutationObserver(function (mutations, observer) {{\n",
              "        var display = window.getComputedStyle(gd).display;\n",
              "        if (!display || display === 'none') {{\n",
              "            console.log([gd, 'removed!']);\n",
              "            Plotly.purge(gd);\n",
              "            observer.disconnect();\n",
              "        }}\n",
              "}});\n",
              "\n",
              "// Listen for the removal of the full notebook cells\n",
              "var notebookContainer = gd.closest('#notebook-container');\n",
              "if (notebookContainer) {{\n",
              "    x.observe(notebookContainer, {childList: true});\n",
              "}}\n",
              "\n",
              "// Listen for the clearing of the current output cell\n",
              "var outputEl = gd.closest('.output');\n",
              "if (outputEl) {{\n",
              "    x.observe(outputEl, {childList: true});\n",
              "}}\n",
              "\n",
              "                        })                };                            </script>        </div>\n",
              "</body>\n",
              "</html>"
            ]
          },
          "metadata": {}
        }
      ]
    },
    {
      "cell_type": "markdown",
      "source": [
        "##**Question-6) Create a DataFrame and add a new column based on an existing column.**\n",
        "##**Answer-6)**"
      ],
      "metadata": {
        "id": "y3e98nZqOQ1T"
      }
    },
    {
      "cell_type": "code",
      "source": [
        "import pandas as pd\n",
        "\n",
        "# Sample DataFrame\n",
        "data = {'A': [1, 2, 3], 'B': [4, 5, 6]}\n",
        "df = pd.DataFrame(data)\n",
        "\n",
        "# Add a new column 'C' with values twice the values of column 'A'\n",
        "df['C'] = df['A'] * 2\n",
        "\n",
        "print(df)"
      ],
      "metadata": {
        "colab": {
          "base_uri": "https://localhost:8080/",
          "height": 0
        },
        "id": "5wKexLIyONYw",
        "outputId": "77a88e4a-cc62-448d-90a1-2d588dfd4678"
      },
      "execution_count": 6,
      "outputs": [
        {
          "output_type": "stream",
          "name": "stdout",
          "text": [
            "   A  B  C\n",
            "0  1  4  2\n",
            "1  2  5  4\n",
            "2  3  6  6\n"
          ]
        }
      ]
    },
    {
      "cell_type": "markdown",
      "source": [
        "##**Question-7) Write a program to perform element-wise multiplication of two NumPy arrays.**\n",
        "##**Answer-7)**\n"
      ],
      "metadata": {
        "id": "ubh7qbYDOhqK"
      }
    },
    {
      "cell_type": "code",
      "source": [
        "import numpy as np\n",
        "\n",
        "# Create two NumPy arrays\n",
        "arr1 = np.array([1, 2, 3])\n",
        "arr2 = np.array([4, 5, 6])\n",
        "\n",
        "# Perform element-wise multiplication\n",
        "result = arr1 * arr2\n",
        "\n",
        "print(\"Element-wise multiplication:\", result)"
      ],
      "metadata": {
        "colab": {
          "base_uri": "https://localhost:8080/",
          "height": 0
        },
        "id": "qIROKu-NObjR",
        "outputId": "2eda5e97-1bee-49ef-d7bb-f9313dce0aef"
      },
      "execution_count": 7,
      "outputs": [
        {
          "output_type": "stream",
          "name": "stdout",
          "text": [
            "Element-wise multiplication: [ 4 10 18]\n"
          ]
        }
      ]
    },
    {
      "cell_type": "markdown",
      "source": [
        "##**Question-8)Create a line plot with multiple lines using Matplotlib.**\n",
        "##**Answer-8)**"
      ],
      "metadata": {
        "id": "gZvv65cFOwg_"
      }
    },
    {
      "cell_type": "code",
      "source": [
        "import matplotlib.pyplot as plt\n",
        "\n",
        "# Sample data\n",
        "x = [1, 2, 3, 4, 5]\n",
        "y1 = [2, 4, 1, 5, 3]\n",
        "y2 = [1, 3, 2, 4, 1]\n",
        "\n",
        "# Create the line plot\n",
        "plt.plot(x, y1, label='Line 1')\n",
        "plt.plot(x, y2, label='Line 2')\n",
        "plt.xlabel(\"X-axis\")\n",
        "plt.ylabel(\"Y-axis\")\n",
        "plt.title(\"Multiple Lines Plot\")\n",
        "plt.legend()\n",
        "plt.show()"
      ],
      "metadata": {
        "colab": {
          "base_uri": "https://localhost:8080/",
          "height": 472
        },
        "id": "z64fxd-COsvo",
        "outputId": "237a2246-49c3-4a9b-adbe-b1211e7ce612"
      },
      "execution_count": 8,
      "outputs": [
        {
          "output_type": "display_data",
          "data": {
            "text/plain": [
              "<Figure size 640x480 with 1 Axes>"
            ],
            "image/png": "[encoded data removed]"
          },
          "metadata": {}
        }
      ]
    },
    {
      "cell_type": "markdown",
      "source": [
        "##**Question-9)Generate a Pandas DataFrame and filter rows where a column value is greater than a threshold.**\n",
        "##**Answer-9)**"
      ],
      "metadata": {
        "id": "K3zIU3S3O_5E"
      }
    },
    {
      "cell_type": "code",
      "source": [
        "import pandas as pd\n",
        "\n",
        "# Sample DataFrame\n",
        "data = {'A': [1, 2, 3, 4, 5], 'B': [2, 4, 1, 5, 3]}\n",
        "df = pd.DataFrame(data)\n",
        "\n",
        "# Filter rows where column 'B' is greater than 3\n",
        "filtered_df = df[df['B'] > 3]\n",
        "\n",
        "print(filtered_df)"
      ],
      "metadata": {
        "colab": {
          "base_uri": "https://localhost:8080/",
          "height": 0
        },
        "id": "pyhDU0qpO8Id",
        "outputId": "e4425f6f-a7e4-4ee2-d04a-ddcb7adbdf10"
      },
      "execution_count": 9,
      "outputs": [
        {
          "output_type": "stream",
          "name": "stdout",
          "text": [
            "   A  B\n",
            "1  2  4\n",
            "3  4  5\n"
          ]
        }
      ]
    },
    {
      "cell_type": "markdown",
      "source": [
        "##**Question-10) Create a histogram using Seaborn to visualize a distribution.**\n",
        "##**Answer-10)**"
      ],
      "metadata": {
        "id": "tCS669c_PTgq"
      }
    },
    {
      "cell_type": "code",
      "source": [
        "import seaborn as sns\n",
        "import matplotlib.pyplot as plt\n",
        "\n",
        "# Sample data\n",
        "data = [1, 2, 3, 3, 4, 4, 4, 5, 5, 6]\n",
        "\n",
        "# Create the histogram\n",
        "sns.histplot(data, bins=5)\n",
        "plt.xlabel(\"Values\")\n",
        "plt.ylabel(\"Frequency\")\n",
        "plt.title(\"Histogram\")\n",
        "plt.show()"
      ],
      "metadata": {
        "colab": {
          "base_uri": "https://localhost:8080/",
          "height": 472
        },
        "id": "MkOE_BWRPQTr",
        "outputId": "c79f95ae-b55d-4114-d3b3-5eceaf0b9d8b"
      },
      "execution_count": 10,
      "outputs": [
        {
          "output_type": "display_data",
          "data": {
            "text/plain": [
              "<Figure size 640x480 with 1 Axes>"
            ],
            "image/png": "[encoded data removed]"
          },
          "metadata": {}
        }
      ]
    },
    {
      "cell_type": "markdown",
      "source": [
        "##**Question-11)Perform matrix multiplication using NumPy.**\n",
        "##**Answer-11)**"
      ],
      "metadata": {
        "id": "iNx_GEnpPiCJ"
      }
    },
    {
      "cell_type": "code",
      "source": [
        "import numpy as np\n",
        "\n",
        "# Create two matrices\n",
        "matrix1 = np.array([[1, 2], [3, 4]])\n",
        "matrix2 = np.array([[5, 6], [7, 8]])\n",
        "\n",
        "# Perform matrix multiplication\n",
        "result = np.dot(matrix1, matrix2)\n",
        "\n",
        "print(\"Matrix Multiplication Result:\")\n",
        "print(result)"
      ],
      "metadata": {
        "colab": {
          "base_uri": "https://localhost:8080/",
          "height": 0
        },
        "id": "b1HhVhOsPfNT",
        "outputId": "197d41db-7ae1-470c-f58a-9fa0f8ef424d"
      },
      "execution_count": 11,
      "outputs": [
        {
          "output_type": "stream",
          "name": "stdout",
          "text": [
            "Matrix Multiplication Result:\n",
            "[[19 22]\n",
            " [43 50]]\n"
          ]
        }
      ]
    },
    {
      "cell_type": "markdown",
      "source": [
        "##**Question-12)Use Pandas to load a CSV file and display its first 5 rows.**\n",
        "##**Answer-12)**"
      ],
      "metadata": {
        "id": "Rr7yjVCBPtrq"
      }
    },
    {
      "cell_type": "code",
      "source": [
        "import pandas as pd\n",
        "\n",
        "# Load the CSV file\n",
        "df = pd.read_csv(\"my_file.csv\")\n",
        "\n",
        "# Display the first 5 rows\n",
        "print(df.head())"
      ],
      "metadata": {
        "colab": {
          "base_uri": "https://localhost:8080/"
        },
        "id": "FiWucPWgPqFy",
        "outputId": "49a5d662-3e90-4ded-f66d-7d3d1c649305"
      },
      "execution_count": 15,
      "outputs": [
        {
          "output_type": "stream",
          "name": "stdout",
          "text": [
            "    Name  Age  Salary\n",
            "0  Akash   25   50000\n",
            "1    Dev   30   60000\n",
            "2  Ankit   35   70000\n",
            "3  Sagar   23   65000\n",
            "4  Rohit   24   80000\n"
          ]
        }
      ]
    },
    {
      "cell_type": "markdown",
      "source": [
        "##**Question-13)Create a 3D scatter plot using Plotly.**\n",
        "##**Answer-13)**"
      ],
      "metadata": {
        "id": "1GtVgJGBQ0JA"
      }
    },
    {
      "cell_type": "code",
      "source": [
        "import plotly.express as px\n",
        "\n",
        "# Sample data\n",
        "x = [1, 2, 3, 4, 5]\n",
        "y = [2, 4, 1, 5, 3]\n",
        "z = [3, 1, 4, 2, 5]\n",
        "\n",
        "# Create the 3D scatter plot\n",
        "fig = px.scatter_3d(x=x, y=y, z=z, title='3D Scatter Plot')\n",
        "fig.show()"
      ],
      "metadata": {
        "colab": {
          "base_uri": "https://localhost:8080/",
          "height": 542
        },
        "id": "gSameu8CP2B8",
        "outputId": "f06ba3aa-1136-4a90-fd74-03bcf17ff257"
      },
      "execution_count": 16,
      "outputs": [
        {
          "output_type": "display_data",
          "data": {
            "text/html": [
              "<html>\n",
              "<head><meta charset=\"utf-8\" /></head>\n",
              "<body>\n",
              "    <div>            <script src=\"https://cdnjs.cloudflare.com/ajax/libs/mathjax/2.7.5/MathJax.js?config=TeX-AMS-MML_SVG\"></script><script type=\"text/javascript\">if (window.MathJax && window.MathJax.Hub && window.MathJax.Hub.Config) {window.MathJax.Hub.Config({SVG: {font: \"STIX-Web\"}});}</script>                <script type=\"text/javascript\">window.PlotlyConfig = {MathJaxConfig: 'local'};</script>\n",
              "        <script charset=\"utf-8\" src=\"https://cdn.plot.ly/plotly-2.35.2.min.js\"></script>                <div id=\"cc1ce124-8e29-48da-b73d-be1242687938\" class=\"plotly-graph-div\" style=\"height:525px; width:100%;\"></div>            <script type=\"text/javascript\">                                    window.PLOTLYENV=window.PLOTLYENV || {};                                    if (document.getElementById(\"cc1ce124-8e29-48da-b73d-be1242687938\")) {                    Plotly.newPlot(                        \"cc1ce124-8e29-48da-b73d-be1242687938\",                        [{\"hovertemplate\":\"x=%{x}\\u003cbr\\u003ey=%{y}\\u003cbr\\u003ez=%{z}\\u003cextra\\u003e\\u003c\\u002fextra\\u003e\",\"legendgroup\":\"\",\"marker\":{\"color\":\"#636efa\",\"symbol\":\"circle\"},\"mode\":\"markers\",\"name\":\"\",\"scene\":\"scene\",\"showlegend\":false,\"x\":[1,2,3,4,5],\"y\":[2,4,1,5,3],\"z\":[3,1,4,2,5],\"type\":\"scatter3d\"}],                        {\"template\":{\"data\":{\"histogram2dcontour\":[{\"type\":\"histogram2dcontour\",\"colorbar\":{\"outlinewidth\":0,\"ticks\":\"\"},\"colorscale\":[[0.0,\"#0d0887\"],[0.1111111111111111,\"#46039f\"],[0.2222222222222222,\"#7201a8\"],[0.3333333333333333,\"#9c179e\"],[0.4444444444444444,\"#bd3786\"],[0.5555555555555556,\"#d8576b\"],[0.6666666666666666,\"#ed7953\"],[0.7777777777777778,\"#fb9f3a\"],[0.8888888888888888,\"#fdca26\"],[1.0,\"#f0f921\"]]}],\"choropleth\":[{\"type\":\"choropleth\",\"colorbar\":{\"outlinewidth\":0,\"ticks\":\"\"}}],\"histogram2d\":[{\"type\":\"histogram2d\",\"colorbar\":{\"outlinewidth\":0,\"ticks\":\"\"},\"colorscale\":[[0.0,\"#0d0887\"],[0.1111111111111111,\"#46039f\"],[0.2222222222222222,\"#7201a8\"],[0.3333333333333333,\"#9c179e\"],[0.4444444444444444,\"#bd3786\"],[0.5555555555555556,\"#d8576b\"],[0.6666666666666666,\"#ed7953\"],[0.7777777777777778,\"#fb9f3a\"],[0.8888888888888888,\"#fdca26\"],[1.0,\"#f0f921\"]]}],\"heatmap\":[{\"type\":\"heatmap\",\"colorbar\":{\"outlinewidth\":0,\"ticks\":\"\"},\"colorscale\":[[0.0,\"#0d0887\"],[0.1111111111111111,\"#46039f\"],[0.2222222222222222,\"#7201a8\"],[0.3333333333333333,\"#9c179e\"],[0.4444444444444444,\"#bd3786\"],[0.5555555555555556,\"#d8576b\"],[0.6666666666666666,\"#ed7953\"],[0.7777777777777778,\"#fb9f3a\"],[0.8888888888888888,\"#fdca26\"],[1.0,\"#f0f921\"]]}],\"heatmapgl\":[{\"type\":\"heatmapgl\",\"colorbar\":{\"outlinewidth\":0,\"ticks\":\"\"},\"colorscale\":[[0.0,\"#0d0887\"],[0.1111111111111111,\"#46039f\"],[0.2222222222222222,\"#7201a8\"],[0.3333333333333333,\"#9c179e\"],[0.4444444444444444,\"#bd3786\"],[0.5555555555555556,\"#d8576b\"],[0.6666666666666666,\"#ed7953\"],[0.7777777777777778,\"#fb9f3a\"],[0.8888888888888888,\"#fdca26\"],[1.0,\"#f0f921\"]]}],\"contourcarpet\":[{\"type\":\"contourcarpet\",\"colorbar\":{\"outlinewidth\":0,\"ticks\":\"\"}}],\"contour\":[{\"type\":\"contour\",\"colorbar\":{\"outlinewidth\":0,\"ticks\":\"\"},\"colorscale\":[[0.0,\"#0d0887\"],[0.1111111111111111,\"#46039f\"],[0.2222222222222222,\"#7201a8\"],[0.3333333333333333,\"#9c179e\"],[0.4444444444444444,\"#bd3786\"],[0.5555555555555556,\"#d8576b\"],[0.6666666666666666,\"#ed7953\"],[0.7777777777777778,\"#fb9f3a\"],[0.8888888888888888,\"#fdca26\"],[1.0,\"#f0f921\"]]}],\"surface\":[{\"type\":\"surface\",\"colorbar\":{\"outlinewidth\":0,\"ticks\":\"\"},\"colorscale\":[[0.0,\"#0d0887\"],[0.1111111111111111,\"#46039f\"],[0.2222222222222222,\"#7201a8\"],[0.3333333333333333,\"#9c179e\"],[0.4444444444444444,\"#bd3786\"],[0.5555555555555556,\"#d8576b\"],[0.6666666666666666,\"#ed7953\"],[0.7777777777777778,\"#fb9f3a\"],[0.8888888888888888,\"#fdca26\"],[1.0,\"#f0f921\"]]}],\"mesh3d\":[{\"type\":\"mesh3d\",\"colorbar\":{\"outlinewidth\":0,\"ticks\":\"\"}}],\"scatter\":[{\"fillpattern\":{\"fillmode\":\"overlay\",\"size\":10,\"solidity\":0.2},\"type\":\"scatter\"}],\"parcoords\":[{\"type\":\"parcoords\",\"line\":{\"colorbar\":{\"outlinewidth\":0,\"ticks\":\"\"}}}],\"scatterpolargl\":[{\"type\":\"scatterpolargl\",\"marker\":{\"colorbar\":{\"outlinewidth\":0,\"ticks\":\"\"}}}],\"bar\":[{\"error_x\":{\"color\":\"#2a3f5f\"},\"error_y\":{\"color\":\"#2a3f5f\"},\"marker\":{\"line\":{\"color\":\"#E5ECF6\",\"width\":0.5},\"pattern\":{\"fillmode\":\"overlay\",\"size\":10,\"solidity\":0.2}},\"type\":\"bar\"}],\"scattergeo\":[{\"type\":\"scattergeo\",\"marker\":{\"colorbar\":{\"outlinewidth\":0,\"ticks\":\"\"}}}],\"scatterpolar\":[{\"type\":\"scatterpolar\",\"marker\":{\"colorbar\":{\"outlinewidth\":0,\"ticks\":\"\"}}}],\"histogram\":[{\"marker\":{\"pattern\":{\"fillmode\":\"overlay\",\"size\":10,\"solidity\":0.2}},\"type\":\"histogram\"}],\"scattergl\":[{\"type\":\"scattergl\",\"marker\":{\"colorbar\":{\"outlinewidth\":0,\"ticks\":\"\"}}}],\"scatter3d\":[{\"type\":\"scatter3d\",\"line\":{\"colorbar\":{\"outlinewidth\":0,\"ticks\":\"\"}},\"marker\":{\"colorbar\":{\"outlinewidth\":0,\"ticks\":\"\"}}}],\"scattermapbox\":[{\"type\":\"scattermapbox\",\"marker\":{\"colorbar\":{\"outlinewidth\":0,\"ticks\":\"\"}}}],\"scatterternary\":[{\"type\":\"scatterternary\",\"marker\":{\"colorbar\":{\"outlinewidth\":0,\"ticks\":\"\"}}}],\"scattercarpet\":[{\"type\":\"scattercarpet\",\"marker\":{\"colorbar\":{\"outlinewidth\":0,\"ticks\":\"\"}}}],\"carpet\":[{\"aaxis\":{\"endlinecolor\":\"#2a3f5f\",\"gridcolor\":\"white\",\"linecolor\":\"white\",\"minorgridcolor\":\"white\",\"startlinecolor\":\"#2a3f5f\"},\"baxis\":{\"endlinecolor\":\"#2a3f5f\",\"gridcolor\":\"white\",\"linecolor\":\"white\",\"minorgridcolor\":\"white\",\"startlinecolor\":\"#2a3f5f\"},\"type\":\"carpet\"}],\"table\":[{\"cells\":{\"fill\":{\"color\":\"#EBF0F8\"},\"line\":{\"color\":\"white\"}},\"header\":{\"fill\":{\"color\":\"#C8D4E3\"},\"line\":{\"color\":\"white\"}},\"type\":\"table\"}],\"barpolar\":[{\"marker\":{\"line\":{\"color\":\"#E5ECF6\",\"width\":0.5},\"pattern\":{\"fillmode\":\"overlay\",\"size\":10,\"solidity\":0.2}},\"type\":\"barpolar\"}],\"pie\":[{\"automargin\":true,\"type\":\"pie\"}]},\"layout\":{\"autotypenumbers\":\"strict\",\"colorway\":[\"#636efa\",\"#EF553B\",\"#00cc96\",\"#ab63fa\",\"#FFA15A\",\"#19d3f3\",\"#FF6692\",\"#B6E880\",\"#FF97FF\",\"#FECB52\"],\"font\":{\"color\":\"#2a3f5f\"},\"hovermode\":\"closest\",\"hoverlabel\":{\"align\":\"left\"},\"paper_bgcolor\":\"white\",\"plot_bgcolor\":\"#E5ECF6\",\"polar\":{\"bgcolor\":\"#E5ECF6\",\"angularaxis\":{\"gridcolor\":\"white\",\"linecolor\":\"white\",\"ticks\":\"\"},\"radialaxis\":{\"gridcolor\":\"white\",\"linecolor\":\"white\",\"ticks\":\"\"}},\"ternary\":{\"bgcolor\":\"#E5ECF6\",\"aaxis\":{\"gridcolor\":\"white\",\"linecolor\":\"white\",\"ticks\":\"\"},\"baxis\":{\"gridcolor\":\"white\",\"linecolor\":\"white\",\"ticks\":\"\"},\"caxis\":{\"gridcolor\":\"white\",\"linecolor\":\"white\",\"ticks\":\"\"}},\"coloraxis\":{\"colorbar\":{\"outlinewidth\":0,\"ticks\":\"\"}},\"colorscale\":{\"sequential\":[[0.0,\"#0d0887\"],[0.1111111111111111,\"#46039f\"],[0.2222222222222222,\"#7201a8\"],[0.3333333333333333,\"#9c179e\"],[0.4444444444444444,\"#bd3786\"],[0.5555555555555556,\"#d8576b\"],[0.6666666666666666,\"#ed7953\"],[0.7777777777777778,\"#fb9f3a\"],[0.8888888888888888,\"#fdca26\"],[1.0,\"#f0f921\"]],\"sequentialminus\":[[0.0,\"#0d0887\"],[0.1111111111111111,\"#46039f\"],[0.2222222222222222,\"#7201a8\"],[0.3333333333333333,\"#9c179e\"],[0.4444444444444444,\"#bd3786\"],[0.5555555555555556,\"#d8576b\"],[0.6666666666666666,\"#ed7953\"],[0.7777777777777778,\"#fb9f3a\"],[0.8888888888888888,\"#fdca26\"],[1.0,\"#f0f921\"]],\"diverging\":[[0,\"#8e0152\"],[0.1,\"#c51b7d\"],[0.2,\"#de77ae\"],[0.3,\"#f1b6da\"],[0.4,\"#fde0ef\"],[0.5,\"#f7f7f7\"],[0.6,\"#e6f5d0\"],[0.7,\"#b8e186\"],[0.8,\"#7fbc41\"],[0.9,\"#4d9221\"],[1,\"#276419\"]]},\"xaxis\":{\"gridcolor\":\"white\",\"linecolor\":\"white\",\"ticks\":\"\",\"title\":{\"standoff\":15},\"zerolinecolor\":\"white\",\"automargin\":true,\"zerolinewidth\":2},\"yaxis\":{\"gridcolor\":\"white\",\"linecolor\":\"white\",\"ticks\":\"\",\"title\":{\"standoff\":15},\"zerolinecolor\":\"white\",\"automargin\":true,\"zerolinewidth\":2},\"scene\":{\"xaxis\":{\"backgroundcolor\":\"#E5ECF6\",\"gridcolor\":\"white\",\"linecolor\":\"white\",\"showbackground\":true,\"ticks\":\"\",\"zerolinecolor\":\"white\",\"gridwidth\":2},\"yaxis\":{\"backgroundcolor\":\"#E5ECF6\",\"gridcolor\":\"white\",\"linecolor\":\"white\",\"showbackground\":true,\"ticks\":\"\",\"zerolinecolor\":\"white\",\"gridwidth\":2},\"zaxis\":{\"backgroundcolor\":\"#E5ECF6\",\"gridcolor\":\"white\",\"linecolor\":\"white\",\"showbackground\":true,\"ticks\":\"\",\"zerolinecolor\":\"white\",\"gridwidth\":2}},\"shapedefaults\":{\"line\":{\"color\":\"#2a3f5f\"}},\"annotationdefaults\":{\"arrowcolor\":\"#2a3f5f\",\"arrowhead\":0,\"arrowwidth\":1},\"geo\":{\"bgcolor\":\"white\",\"landcolor\":\"#E5ECF6\",\"subunitcolor\":\"white\",\"showland\":true,\"showlakes\":true,\"lakecolor\":\"white\"},\"title\":{\"x\":0.05},\"mapbox\":{\"style\":\"light\"}}},\"scene\":{\"domain\":{\"x\":[0.0,1.0],\"y\":[0.0,1.0]},\"xaxis\":{\"title\":{\"text\":\"x\"}},\"yaxis\":{\"title\":{\"text\":\"y\"}},\"zaxis\":{\"title\":{\"text\":\"z\"}}},\"legend\":{\"tracegroupgap\":0},\"title\":{\"text\":\"3D Scatter Plot\"}},                        {\"responsive\": true}                    ).then(function(){\n",
              "                            \n",
              "var gd = document.getElementById('cc1ce124-8e29-48da-b73d-be1242687938');\n",
              "var x = new MutationObserver(function (mutations, observer) {{\n",
              "        var display = window.getComputedStyle(gd).display;\n",
              "        if (!display || display === 'none') {{\n",
              "            console.log([gd, 'removed!']);\n",
              "            Plotly.purge(gd);\n",
              "            observer.disconnect();\n",
              "        }}\n",
              "}});\n",
              "\n",
              "// Listen for the removal of the full notebook cells\n",
              "var notebookContainer = gd.closest('#notebook-container');\n",
              "if (notebookContainer) {{\n",
              "    x.observe(notebookContainer, {childList: true});\n",
              "}}\n",
              "\n",
              "// Listen for the clearing of the current output cell\n",
              "var outputEl = gd.closest('.output');\n",
              "if (outputEl) {{\n",
              "    x.observe(outputEl, {childList: true});\n",
              "}}\n",
              "\n",
              "                        })                };                            </script>        </div>\n",
              "</body>\n",
              "</html>"
            ]
          },
          "metadata": {}
        }
      ]
    },
    {
      "cell_type": "code",
      "source": [],
      "metadata": {
        "id": "lbwcXLsZQ8--"
      },
      "execution_count": null,
      "outputs": []
    }
  ]
}