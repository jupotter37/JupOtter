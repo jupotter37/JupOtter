{
 "cells": [
  {
   "cell_type": "markdown",
   "metadata": {},
   "source": [
    "# Project Data Visualization\n",
    "\n",
    "* Nhóm thực hiện: 4\n",
    "* Thành viên:\n",
    "    * Đinh Anh Huy - 18110103.\n",
    "    * Nguyễn Đức Vũ Duy - 18110002.\n",
    "* Đề tài số 7 - Bộ dữ liệu: 7_Daegu_Real_Estate_data.csv"
   ]
  },
  {
   "cell_type": "code",
   "execution_count": 1,
   "metadata": {},
   "outputs": [
    {
     "data": {
      "text/html": [
       "\n",
       "    <div class=\"bk-root\">\n",
       "        <a href=\"https://bokeh.org\" target=\"_blank\" class=\"bk-logo bk-logo-small bk-logo-notebook\"></a>\n",
       "        <span id=\"1001\">Loading BokehJS ...</span>\n",
       "    </div>"
      ]
     },
     "metadata": {},
     "output_type": "display_data"
    },
    {
     "data": {
      "application/javascript": [
       "\n",
       "(function(root) {\n",
       "  function now() {\n",
       "    return new Date();\n",
       "  }\n",
       "\n",
       "  var force = true;\n",
       "\n",
       "  if (typeof root._bokeh_onload_callbacks === \"undefined\" || force === true) {\n",
       "    root._bokeh_onload_callbacks = [];\n",
       "    root._bokeh_is_loading = undefined;\n",
       "  }\n",
       "\n",
       "  var JS_MIME_TYPE = 'application/javascript';\n",
       "  var HTML_MIME_TYPE = 'text/html';\n",
       "  var EXEC_MIME_TYPE = 'application/vnd.bokehjs_exec.v0+json';\n",
       "  var CLASS_NAME = 'output_bokeh rendered_html';\n",
       "\n",
       "  /**\n",
       "   * Render data to the DOM node\n",
       "   */\n",
       "  function render(props, node) {\n",
       "    var script = document.createElement(\"script\");\n",
       "    node.appendChild(script);\n",
       "  }\n",
       "\n",
       "  /**\n",
       "   * Handle when an output is cleared or removed\n",
       "   */\n",
       "  function handleClearOutput(event, handle) {\n",
       "    var cell = handle.cell;\n",
       "\n",
       "    var id = cell.output_area._bokeh_element_id;\n",
       "    var server_id = cell.output_area._bokeh_server_id;\n",
       "    // Clean up Bokeh references\n",
       "    if (id != null && id in Bokeh.index) {\n",
       "      Bokeh.index[id].model.document.clear();\n",
       "      delete Bokeh.index[id];\n",
       "    }\n",
       "\n",
       "    if (server_id !== undefined) {\n",
       "      // Clean up Bokeh references\n",
       "      var cmd = \"from bokeh.io.state import curstate; print(curstate().uuid_to_server['\" + server_id + \"'].get_sessions()[0].document.roots[0]._id)\";\n",
       "      cell.notebook.kernel.execute(cmd, {\n",
       "        iopub: {\n",
       "          output: function(msg) {\n",
       "            var id = msg.content.text.trim();\n",
       "            if (id in Bokeh.index) {\n",
       "              Bokeh.index[id].model.document.clear();\n",
       "              delete Bokeh.index[id];\n",
       "            }\n",
       "          }\n",
       "        }\n",
       "      });\n",
       "      // Destroy server and session\n",
       "      var cmd = \"import bokeh.io.notebook as ion; ion.destroy_server('\" + server_id + \"')\";\n",
       "      cell.notebook.kernel.execute(cmd);\n",
       "    }\n",
       "  }\n",
       "\n",
       "  /**\n",
       "   * Handle when a new output is added\n",
       "   */\n",
       "  function handleAddOutput(event, handle) {\n",
       "    var output_area = handle.output_area;\n",
       "    var output = handle.output;\n",
       "\n",
       "    // limit handleAddOutput to display_data with EXEC_MIME_TYPE content only\n",
       "    if ((output.output_type != \"display_data\") || (!output.data.hasOwnProperty(EXEC_MIME_TYPE))) {\n",
       "      return\n",
       "    }\n",
       "\n",
       "    var toinsert = output_area.element.find(\".\" + CLASS_NAME.split(' ')[0]);\n",
       "\n",
       "    if (output.metadata[EXEC_MIME_TYPE][\"id\"] !== undefined) {\n",
       "      toinsert[toinsert.length - 1].firstChild.textContent = output.data[JS_MIME_TYPE];\n",
       "      // store reference to embed id on output_area\n",
       "      output_area._bokeh_element_id = output.metadata[EXEC_MIME_TYPE][\"id\"];\n",
       "    }\n",
       "    if (output.metadata[EXEC_MIME_TYPE][\"server_id\"] !== undefined) {\n",
       "      var bk_div = document.createElement(\"div\");\n",
       "      bk_div.innerHTML = output.data[HTML_MIME_TYPE];\n",
       "      var script_attrs = bk_div.children[0].attributes;\n",
       "      for (var i = 0; i < script_attrs.length; i++) {\n",
       "        toinsert[toinsert.length - 1].firstChild.setAttribute(script_attrs[i].name, script_attrs[i].value);\n",
       "        toinsert[toinsert.length - 1].firstChild.textContent = bk_div.children[0].textContent\n",
       "      }\n",
       "      // store reference to server id on output_area\n",
       "      output_area._bokeh_server_id = output.metadata[EXEC_MIME_TYPE][\"server_id\"];\n",
       "    }\n",
       "  }\n",
       "\n",
       "  function register_renderer(events, OutputArea) {\n",
       "\n",
       "    function append_mime(data, metadata, element) {\n",
       "      // create a DOM node to render to\n",
       "      var toinsert = this.create_output_subarea(\n",
       "        metadata,\n",
       "        CLASS_NAME,\n",
       "        EXEC_MIME_TYPE\n",
       "      );\n",
       "      this.keyboard_manager.register_events(toinsert);\n",
       "      // Render to node\n",
       "      var props = {data: data, metadata: metadata[EXEC_MIME_TYPE]};\n",
       "      render(props, toinsert[toinsert.length - 1]);\n",
       "      element.append(toinsert);\n",
       "      return toinsert\n",
       "    }\n",
       "\n",
       "    /* Handle when an output is cleared or removed */\n",
       "    events.on('clear_output.CodeCell', handleClearOutput);\n",
       "    events.on('delete.Cell', handleClearOutput);\n",
       "\n",
       "    /* Handle when a new output is added */\n",
       "    events.on('output_added.OutputArea', handleAddOutput);\n",
       "\n",
       "    /**\n",
       "     * Register the mime type and append_mime function with output_area\n",
       "     */\n",
       "    OutputArea.prototype.register_mime_type(EXEC_MIME_TYPE, append_mime, {\n",
       "      /* Is output safe? */\n",
       "      safe: true,\n",
       "      /* Index of renderer in `output_area.display_order` */\n",
       "      index: 0\n",
       "    });\n",
       "  }\n",
       "\n",
       "  // register the mime type if in Jupyter Notebook environment and previously unregistered\n",
       "  if (root.Jupyter !== undefined) {\n",
       "    var events = require('base/js/events');\n",
       "    var OutputArea = require('notebook/js/outputarea').OutputArea;\n",
       "\n",
       "    if (OutputArea.prototype.mime_types().indexOf(EXEC_MIME_TYPE) == -1) {\n",
       "      register_renderer(events, OutputArea);\n",
       "    }\n",
       "  }\n",
       "\n",
       "  \n",
       "  if (typeof (root._bokeh_timeout) === \"undefined\" || force === true) {\n",
       "    root._bokeh_timeout = Date.now() + 5000;\n",
       "    root._bokeh_failed_load = false;\n",
       "  }\n",
       "\n",
       "  var NB_LOAD_WARNING = {'data': {'text/html':\n",
       "     \"<div style='background-color: #fdd'>\\n\"+\n",
       "     \"<p>\\n\"+\n",
       "     \"BokehJS does not appear to have successfully loaded. If loading BokehJS from CDN, this \\n\"+\n",
       "     \"may be due to a slow or bad network connection. Possible fixes:\\n\"+\n",
       "     \"</p>\\n\"+\n",
       "     \"<ul>\\n\"+\n",
       "     \"<li>re-rerun `output_notebook()` to attempt to load from CDN again, or</li>\\n\"+\n",
       "     \"<li>use INLINE resources instead, as so:</li>\\n\"+\n",
       "     \"</ul>\\n\"+\n",
       "     \"<code>\\n\"+\n",
       "     \"from bokeh.resources import INLINE\\n\"+\n",
       "     \"output_notebook(resources=INLINE)\\n\"+\n",
       "     \"</code>\\n\"+\n",
       "     \"</div>\"}};\n",
       "\n",
       "  function display_loaded() {\n",
       "    var el = document.getElementById(\"1001\");\n",
       "    if (el != null) {\n",
       "      el.textContent = \"BokehJS is loading...\";\n",
       "    }\n",
       "    if (root.Bokeh !== undefined) {\n",
       "      if (el != null) {\n",
       "        el.textContent = \"BokehJS \" + root.Bokeh.version + \" successfully loaded.\";\n",
       "      }\n",
       "    } else if (Date.now() < root._bokeh_timeout) {\n",
       "      setTimeout(display_loaded, 100)\n",
       "    }\n",
       "  }\n",
       "\n",
       "\n",
       "  function run_callbacks() {\n",
       "    try {\n",
       "      root._bokeh_onload_callbacks.forEach(function(callback) {\n",
       "        if (callback != null)\n",
       "          callback();\n",
       "      });\n",
       "    } finally {\n",
       "      delete root._bokeh_onload_callbacks\n",
       "    }\n",
       "    console.debug(\"Bokeh: all callbacks have finished\");\n",
       "  }\n",
       "\n",
       "  function load_libs(css_urls, js_urls, callback) {\n",
       "    if (css_urls == null) css_urls = [];\n",
       "    if (js_urls == null) js_urls = [];\n",
       "\n",
       "    root._bokeh_onload_callbacks.push(callback);\n",
       "    if (root._bokeh_is_loading > 0) {\n",
       "      console.debug(\"Bokeh: BokehJS is being loaded, scheduling callback at\", now());\n",
       "      return null;\n",
       "    }\n",
       "    if (js_urls == null || js_urls.length === 0) {\n",
       "      run_callbacks();\n",
       "      return null;\n",
       "    }\n",
       "    console.debug(\"Bokeh: BokehJS not loaded, scheduling load and callback at\", now());\n",
       "    root._bokeh_is_loading = css_urls.length + js_urls.length;\n",
       "\n",
       "    function on_load() {\n",
       "      root._bokeh_is_loading--;\n",
       "      if (root._bokeh_is_loading === 0) {\n",
       "        console.debug(\"Bokeh: all BokehJS libraries/stylesheets loaded\");\n",
       "        run_callbacks()\n",
       "      }\n",
       "    }\n",
       "\n",
       "    function on_error() {\n",
       "      console.error(\"failed to load \" + url);\n",
       "    }\n",
       "\n",
       "    for (var i = 0; i < css_urls.length; i++) {\n",
       "      var url = css_urls[i];\n",
       "      const element = document.createElement(\"link\");\n",
       "      element.onload = on_load;\n",
       "      element.onerror = on_error;\n",
       "      element.rel = \"stylesheet\";\n",
       "      element.type = \"text/css\";\n",
       "      element.href = url;\n",
       "      console.debug(\"Bokeh: injecting link tag for BokehJS stylesheet: \", url);\n",
       "      document.body.appendChild(element);\n",
       "    }\n",
       "\n",
       "    const hashes = {\"https://cdn.bokeh.org/bokeh/release/bokeh-2.1.1.min.js\": \"kLr4fYcqcSpbuI95brIH3vnnYCquzzSxHPU6XGQCIkQRGJwhg0StNbj1eegrHs12\", \"https://cdn.bokeh.org/bokeh/release/bokeh-widgets-2.1.1.min.js\": \"xIGPmVtaOm+z0BqfSOMn4lOR6ciex448GIKG4eE61LsAvmGj48XcMQZtKcE/UXZe\", \"https://cdn.bokeh.org/bokeh/release/bokeh-tables-2.1.1.min.js\": \"Dc9u1wF/0zApGIWoBbH77iWEHtdmkuYWG839Uzmv8y8yBLXebjO9ZnERsde5Ln/P\", \"https://cdn.bokeh.org/bokeh/release/bokeh-gl-2.1.1.min.js\": \"cT9JaBz7GiRXdENrJLZNSC6eMNF3nh3fa5fTF51Svp+ukxPdwcU5kGXGPBgDCa2j\"};\n",
       "\n",
       "    for (var i = 0; i < js_urls.length; i++) {\n",
       "      var url = js_urls[i];\n",
       "      var element = document.createElement('script');\n",
       "      element.onload = on_load;\n",
       "      element.onerror = on_error;\n",
       "      element.async = false;\n",
       "      element.src = url;\n",
       "      if (url in hashes) {\n",
       "        element.crossOrigin = \"anonymous\";\n",
       "        element.integrity = \"sha384-\" + hashes[url];\n",
       "      }\n",
       "      console.debug(\"Bokeh: injecting script tag for BokehJS library: \", url);\n",
       "      document.head.appendChild(element);\n",
       "    }\n",
       "  };\n",
       "\n",
       "  function inject_raw_css(css) {\n",
       "    const element = document.createElement(\"style\");\n",
       "    element.appendChild(document.createTextNode(css));\n",
       "    document.body.appendChild(element);\n",
       "  }\n",
       "\n",
       "  \n",
       "  var js_urls = [\"https://cdn.bokeh.org/bokeh/release/bokeh-2.1.1.min.js\", \"https://cdn.bokeh.org/bokeh/release/bokeh-widgets-2.1.1.min.js\", \"https://cdn.bokeh.org/bokeh/release/bokeh-tables-2.1.1.min.js\", \"https://cdn.bokeh.org/bokeh/release/bokeh-gl-2.1.1.min.js\"];\n",
       "  var css_urls = [];\n",
       "  \n",
       "\n",
       "  var inline_js = [\n",
       "    function(Bokeh) {\n",
       "      Bokeh.set_log_level(\"info\");\n",
       "    },\n",
       "    function(Bokeh) {\n",
       "    \n",
       "    \n",
       "    }\n",
       "  ];\n",
       "\n",
       "  function run_inline_js() {\n",
       "    \n",
       "    if (root.Bokeh !== undefined || force === true) {\n",
       "      \n",
       "    for (var i = 0; i < inline_js.length; i++) {\n",
       "      inline_js[i].call(root, root.Bokeh);\n",
       "    }\n",
       "    if (force === true) {\n",
       "        display_loaded();\n",
       "      }} else if (Date.now() < root._bokeh_timeout) {\n",
       "      setTimeout(run_inline_js, 100);\n",
       "    } else if (!root._bokeh_failed_load) {\n",
       "      console.log(\"Bokeh: BokehJS failed to load within specified timeout.\");\n",
       "      root._bokeh_failed_load = true;\n",
       "    } else if (force !== true) {\n",
       "      var cell = $(document.getElementById(\"1001\")).parents('.cell').data().cell;\n",
       "      cell.output_area.append_execute_result(NB_LOAD_WARNING)\n",
       "    }\n",
       "\n",
       "  }\n",
       "\n",
       "  if (root._bokeh_is_loading === 0) {\n",
       "    console.debug(\"Bokeh: BokehJS loaded, going straight to plotting\");\n",
       "    run_inline_js();\n",
       "  } else {\n",
       "    load_libs(css_urls, js_urls, function() {\n",
       "      console.debug(\"Bokeh: BokehJS plotting callback run at\", now());\n",
       "      run_inline_js();\n",
       "    });\n",
       "  }\n",
       "}(window));"
      ],
      "application/vnd.bokehjs_load.v0+json": "\n(function(root) {\n  function now() {\n    return new Date();\n  }\n\n  var force = true;\n\n  if (typeof root._bokeh_onload_callbacks === \"undefined\" || force === true) {\n    root._bokeh_onload_callbacks = [];\n    root._bokeh_is_loading = undefined;\n  }\n\n  \n\n  \n  if (typeof (root._bokeh_timeout) === \"undefined\" || force === true) {\n    root._bokeh_timeout = Date.now() + 5000;\n    root._bokeh_failed_load = false;\n  }\n\n  var NB_LOAD_WARNING = {'data': {'text/html':\n     \"<div style='background-color: #fdd'>\\n\"+\n     \"<p>\\n\"+\n     \"BokehJS does not appear to have successfully loaded. If loading BokehJS from CDN, this \\n\"+\n     \"may be due to a slow or bad network connection. Possible fixes:\\n\"+\n     \"</p>\\n\"+\n     \"<ul>\\n\"+\n     \"<li>re-rerun `output_notebook()` to attempt to load from CDN again, or</li>\\n\"+\n     \"<li>use INLINE resources instead, as so:</li>\\n\"+\n     \"</ul>\\n\"+\n     \"<code>\\n\"+\n     \"from bokeh.resources import INLINE\\n\"+\n     \"output_notebook(resources=INLINE)\\n\"+\n     \"</code>\\n\"+\n     \"</div>\"}};\n\n  function display_loaded() {\n    var el = document.getElementById(\"1001\");\n    if (el != null) {\n      el.textContent = \"BokehJS is loading...\";\n    }\n    if (root.Bokeh !== undefined) {\n      if (el != null) {\n        el.textContent = \"BokehJS \" + root.Bokeh.version + \" successfully loaded.\";\n      }\n    } else if (Date.now() < root._bokeh_timeout) {\n      setTimeout(display_loaded, 100)\n    }\n  }\n\n\n  function run_callbacks() {\n    try {\n      root._bokeh_onload_callbacks.forEach(function(callback) {\n        if (callback != null)\n          callback();\n      });\n    } finally {\n      delete root._bokeh_onload_callbacks\n    }\n    console.debug(\"Bokeh: all callbacks have finished\");\n  }\n\n  function load_libs(css_urls, js_urls, callback) {\n    if (css_urls == null) css_urls = [];\n    if (js_urls == null) js_urls = [];\n\n    root._bokeh_onload_callbacks.push(callback);\n    if (root._bokeh_is_loading > 0) {\n      console.debug(\"Bokeh: BokehJS is being loaded, scheduling callback at\", now());\n      return null;\n    }\n    if (js_urls == null || js_urls.length === 0) {\n      run_callbacks();\n      return null;\n    }\n    console.debug(\"Bokeh: BokehJS not loaded, scheduling load and callback at\", now());\n    root._bokeh_is_loading = css_urls.length + js_urls.length;\n\n    function on_load() {\n      root._bokeh_is_loading--;\n      if (root._bokeh_is_loading === 0) {\n        console.debug(\"Bokeh: all BokehJS libraries/stylesheets loaded\");\n        run_callbacks()\n      }\n    }\n\n    function on_error() {\n      console.error(\"failed to load \" + url);\n    }\n\n    for (var i = 0; i < css_urls.length; i++) {\n      var url = css_urls[i];\n      const element = document.createElement(\"link\");\n      element.onload = on_load;\n      element.onerror = on_error;\n      element.rel = \"stylesheet\";\n      element.type = \"text/css\";\n      element.href = url;\n      console.debug(\"Bokeh: injecting link tag for BokehJS stylesheet: \", url);\n      document.body.appendChild(element);\n    }\n\n    const hashes = {\"https://cdn.bokeh.org/bokeh/release/bokeh-2.1.1.min.js\": \"kLr4fYcqcSpbuI95brIH3vnnYCquzzSxHPU6XGQCIkQRGJwhg0StNbj1eegrHs12\", \"https://cdn.bokeh.org/bokeh/release/bokeh-widgets-2.1.1.min.js\": \"xIGPmVtaOm+z0BqfSOMn4lOR6ciex448GIKG4eE61LsAvmGj48XcMQZtKcE/UXZe\", \"https://cdn.bokeh.org/bokeh/release/bokeh-tables-2.1.1.min.js\": \"Dc9u1wF/0zApGIWoBbH77iWEHtdmkuYWG839Uzmv8y8yBLXebjO9ZnERsde5Ln/P\", \"https://cdn.bokeh.org/bokeh/release/bokeh-gl-2.1.1.min.js\": \"cT9JaBz7GiRXdENrJLZNSC6eMNF3nh3fa5fTF51Svp+ukxPdwcU5kGXGPBgDCa2j\"};\n\n    for (var i = 0; i < js_urls.length; i++) {\n      var url = js_urls[i];\n      var element = document.createElement('script');\n      element.onload = on_load;\n      element.onerror = on_error;\n      element.async = false;\n      element.src = url;\n      if (url in hashes) {\n        element.crossOrigin = \"anonymous\";\n        element.integrity = \"sha384-\" + hashes[url];\n      }\n      console.debug(\"Bokeh: injecting script tag for BokehJS library: \", url);\n      document.head.appendChild(element);\n    }\n  };\n\n  function inject_raw_css(css) {\n    const element = document.createElement(\"style\");\n    element.appendChild(document.createTextNode(css));\n    document.body.appendChild(element);\n  }\n\n  \n  var js_urls = [\"https://cdn.bokeh.org/bokeh/release/bokeh-2.1.1.min.js\", \"https://cdn.bokeh.org/bokeh/release/bokeh-widgets-2.1.1.min.js\", \"https://cdn.bokeh.org/bokeh/release/bokeh-tables-2.1.1.min.js\", \"https://cdn.bokeh.org/bokeh/release/bokeh-gl-2.1.1.min.js\"];\n  var css_urls = [];\n  \n\n  var inline_js = [\n    function(Bokeh) {\n      Bokeh.set_log_level(\"info\");\n    },\n    function(Bokeh) {\n    \n    \n    }\n  ];\n\n  function run_inline_js() {\n    \n    if (root.Bokeh !== undefined || force === true) {\n      \n    for (var i = 0; i < inline_js.length; i++) {\n      inline_js[i].call(root, root.Bokeh);\n    }\n    if (force === true) {\n        display_loaded();\n      }} else if (Date.now() < root._bokeh_timeout) {\n      setTimeout(run_inline_js, 100);\n    } else if (!root._bokeh_failed_load) {\n      console.log(\"Bokeh: BokehJS failed to load within specified timeout.\");\n      root._bokeh_failed_load = true;\n    } else if (force !== true) {\n      var cell = $(document.getElementById(\"1001\")).parents('.cell').data().cell;\n      cell.output_area.append_execute_result(NB_LOAD_WARNING)\n    }\n\n  }\n\n  if (root._bokeh_is_loading === 0) {\n    console.debug(\"Bokeh: BokehJS loaded, going straight to plotting\");\n    run_inline_js();\n  } else {\n    load_libs(css_urls, js_urls, function() {\n      console.debug(\"Bokeh: BokehJS plotting callback run at\", now());\n      run_inline_js();\n    });\n  }\n}(window));"
     },
     "metadata": {},
     "output_type": "display_data"
    },
    {
     "data": {
      "text/html": [
       "        <script type=\"text/javascript\">\n",
       "        window.PlotlyConfig = {MathJaxConfig: 'local'};\n",
       "        if (window.MathJax) {MathJax.Hub.Config({SVG: {font: \"STIX-Web\"}});}\n",
       "        if (typeof require !== 'undefined') {\n",
       "        require.undef(\"plotly\");\n",
       "        requirejs.config({\n",
       "            paths: {\n",
       "                'plotly': ['https://cdn.plot.ly/plotly-latest.min']\n",
       "            }\n",
       "        });\n",
       "        require(['plotly'], function(Plotly) {\n",
       "            window._Plotly = Plotly;\n",
       "        });\n",
       "        }\n",
       "        </script>\n",
       "        "
      ]
     },
     "metadata": {},
     "output_type": "display_data"
    },
    {
     "data": {
      "text/html": [
       "        <script type=\"text/javascript\">\n",
       "        window.PlotlyConfig = {MathJaxConfig: 'local'};\n",
       "        if (window.MathJax) {MathJax.Hub.Config({SVG: {font: \"STIX-Web\"}});}\n",
       "        if (typeof require !== 'undefined') {\n",
       "        require.undef(\"plotly\");\n",
       "        requirejs.config({\n",
       "            paths: {\n",
       "                'plotly': ['https://cdn.plot.ly/plotly-latest.min']\n",
       "            }\n",
       "        });\n",
       "        require(['plotly'], function(Plotly) {\n",
       "            window._Plotly = Plotly;\n",
       "        });\n",
       "        }\n",
       "        </script>\n",
       "        "
      ]
     },
     "metadata": {},
     "output_type": "display_data"
    }
   ],
   "source": [
    "# Khai báo các thư viện cần thiết\n",
    "import numpy as np\n",
    "import pandas as pd\n",
    "import seaborn as sns\n",
    "import matplotlib.pyplot as plt\n",
    "plt.style.use('ggplot')\n",
    "%matplotlib inline\n",
    "import warnings\n",
    "warnings.filterwarnings(\"ignore\")\n",
    "\n",
    "# Khai báo các thư viện dùng cho interactive visualization\n",
    "# Khai báo thư viện bokeh\n",
    "from bokeh.plotting import figure, show, output_file, save\n",
    "from bokeh.plotting import figure, output_notebook, show, ColumnDataSource\n",
    "output_notebook()\n",
    "\n",
    "# Khai báo thư viện plotly\n",
    "# Standard plotly imports\n",
    "import plotly.express as px\n",
    "import chart_studio.plotly as py\n",
    "import plotly.graph_objs as go\n",
    "from plotly.offline import iplot, init_notebook_mode\n",
    "# Using plotly + cufflinks in offline mode\n",
    "import cufflinks\n",
    "cufflinks.go_offline(connected=True)\n",
    "init_notebook_mode(connected=True)\n",
    "\n",
    "# Khai báo thư viện altair\n",
    "import altair as alt"
   ]
  },
  {
   "cell_type": "code",
   "execution_count": 5,
   "metadata": {},
   "outputs": [
    {
     "data": {
      "text/plain": [
       "'/home/dinh_anh_huy/GitHub/2020-2021/semester-1/data-visualization/final-term'"
      ]
     },
     "execution_count": 5,
     "metadata": {},
     "output_type": "execute_result"
    }
   ],
   "source": [
    "pwd"
   ]
  },
  {
   "cell_type": "markdown",
   "metadata": {},
   "source": [
    "## Load data\n",
    "Load data từ file `7_Daegu_Real_Estate_data.csv`."
   ]
  },
  {
   "cell_type": "code",
   "execution_count": 2,
   "metadata": {},
   "outputs": [
    {
     "ename": "FileNotFoundError",
     "evalue": "[Errno 2] File 7_Daegu_Real_Estate_data.csv does not exist: '7_Daegu_Real_Estate_data.csv'",
     "output_type": "error",
     "traceback": [
      "\u001b[0;31m---------------------------------------------------------------------------\u001b[0m",
      "\u001b[0;31mFileNotFoundError\u001b[0m                         Traceback (most recent call last)",
      "\u001b[0;32m<ipython-input-2-41ee1dc0b7a5>\u001b[0m in \u001b[0;36m<module>\u001b[0;34m\u001b[0m\n\u001b[0;32m----> 1\u001b[0;31m \u001b[0mdata\u001b[0m \u001b[0;34m=\u001b[0m \u001b[0mpd\u001b[0m\u001b[0;34m.\u001b[0m\u001b[0mread_csv\u001b[0m\u001b[0;34m(\u001b[0m\u001b[0;34m'7_Daegu_Real_Estate_data.csv'\u001b[0m\u001b[0;34m)\u001b[0m\u001b[0;34m\u001b[0m\u001b[0;34m\u001b[0m\u001b[0m\n\u001b[0m\u001b[1;32m      2\u001b[0m \u001b[0mdata\u001b[0m\u001b[0;34m.\u001b[0m\u001b[0mhead\u001b[0m\u001b[0;34m(\u001b[0m\u001b[0;34m)\u001b[0m\u001b[0;34m\u001b[0m\u001b[0;34m\u001b[0m\u001b[0m\n",
      "\u001b[0;32m~/anaconda3/lib/python3.8/site-packages/pandas/io/parsers.py\u001b[0m in \u001b[0;36mparser_f\u001b[0;34m(filepath_or_buffer, sep, delimiter, header, names, index_col, usecols, squeeze, prefix, mangle_dupe_cols, dtype, engine, converters, true_values, false_values, skipinitialspace, skiprows, skipfooter, nrows, na_values, keep_default_na, na_filter, verbose, skip_blank_lines, parse_dates, infer_datetime_format, keep_date_col, date_parser, dayfirst, cache_dates, iterator, chunksize, compression, thousands, decimal, lineterminator, quotechar, quoting, doublequote, escapechar, comment, encoding, dialect, error_bad_lines, warn_bad_lines, delim_whitespace, low_memory, memory_map, float_precision)\u001b[0m\n\u001b[1;32m    674\u001b[0m         )\n\u001b[1;32m    675\u001b[0m \u001b[0;34m\u001b[0m\u001b[0m\n\u001b[0;32m--> 676\u001b[0;31m         \u001b[0;32mreturn\u001b[0m \u001b[0m_read\u001b[0m\u001b[0;34m(\u001b[0m\u001b[0mfilepath_or_buffer\u001b[0m\u001b[0;34m,\u001b[0m \u001b[0mkwds\u001b[0m\u001b[0;34m)\u001b[0m\u001b[0;34m\u001b[0m\u001b[0;34m\u001b[0m\u001b[0m\n\u001b[0m\u001b[1;32m    677\u001b[0m \u001b[0;34m\u001b[0m\u001b[0m\n\u001b[1;32m    678\u001b[0m     \u001b[0mparser_f\u001b[0m\u001b[0;34m.\u001b[0m\u001b[0m__name__\u001b[0m \u001b[0;34m=\u001b[0m \u001b[0mname\u001b[0m\u001b[0;34m\u001b[0m\u001b[0;34m\u001b[0m\u001b[0m\n",
      "\u001b[0;32m~/anaconda3/lib/python3.8/site-packages/pandas/io/parsers.py\u001b[0m in \u001b[0;36m_read\u001b[0;34m(filepath_or_buffer, kwds)\u001b[0m\n\u001b[1;32m    446\u001b[0m \u001b[0;34m\u001b[0m\u001b[0m\n\u001b[1;32m    447\u001b[0m     \u001b[0;31m# Create the parser.\u001b[0m\u001b[0;34m\u001b[0m\u001b[0;34m\u001b[0m\u001b[0;34m\u001b[0m\u001b[0m\n\u001b[0;32m--> 448\u001b[0;31m     \u001b[0mparser\u001b[0m \u001b[0;34m=\u001b[0m \u001b[0mTextFileReader\u001b[0m\u001b[0;34m(\u001b[0m\u001b[0mfp_or_buf\u001b[0m\u001b[0;34m,\u001b[0m \u001b[0;34m**\u001b[0m\u001b[0mkwds\u001b[0m\u001b[0;34m)\u001b[0m\u001b[0;34m\u001b[0m\u001b[0;34m\u001b[0m\u001b[0m\n\u001b[0m\u001b[1;32m    449\u001b[0m \u001b[0;34m\u001b[0m\u001b[0m\n\u001b[1;32m    450\u001b[0m     \u001b[0;32mif\u001b[0m \u001b[0mchunksize\u001b[0m \u001b[0;32mor\u001b[0m \u001b[0miterator\u001b[0m\u001b[0;34m:\u001b[0m\u001b[0;34m\u001b[0m\u001b[0;34m\u001b[0m\u001b[0m\n",
      "\u001b[0;32m~/anaconda3/lib/python3.8/site-packages/pandas/io/parsers.py\u001b[0m in \u001b[0;36m__init__\u001b[0;34m(self, f, engine, **kwds)\u001b[0m\n\u001b[1;32m    878\u001b[0m             \u001b[0mself\u001b[0m\u001b[0;34m.\u001b[0m\u001b[0moptions\u001b[0m\u001b[0;34m[\u001b[0m\u001b[0;34m\"has_index_names\"\u001b[0m\u001b[0;34m]\u001b[0m \u001b[0;34m=\u001b[0m \u001b[0mkwds\u001b[0m\u001b[0;34m[\u001b[0m\u001b[0;34m\"has_index_names\"\u001b[0m\u001b[0;34m]\u001b[0m\u001b[0;34m\u001b[0m\u001b[0;34m\u001b[0m\u001b[0m\n\u001b[1;32m    879\u001b[0m \u001b[0;34m\u001b[0m\u001b[0m\n\u001b[0;32m--> 880\u001b[0;31m         \u001b[0mself\u001b[0m\u001b[0;34m.\u001b[0m\u001b[0m_make_engine\u001b[0m\u001b[0;34m(\u001b[0m\u001b[0mself\u001b[0m\u001b[0;34m.\u001b[0m\u001b[0mengine\u001b[0m\u001b[0;34m)\u001b[0m\u001b[0;34m\u001b[0m\u001b[0;34m\u001b[0m\u001b[0m\n\u001b[0m\u001b[1;32m    881\u001b[0m \u001b[0;34m\u001b[0m\u001b[0m\n\u001b[1;32m    882\u001b[0m     \u001b[0;32mdef\u001b[0m \u001b[0mclose\u001b[0m\u001b[0;34m(\u001b[0m\u001b[0mself\u001b[0m\u001b[0;34m)\u001b[0m\u001b[0;34m:\u001b[0m\u001b[0;34m\u001b[0m\u001b[0;34m\u001b[0m\u001b[0m\n",
      "\u001b[0;32m~/anaconda3/lib/python3.8/site-packages/pandas/io/parsers.py\u001b[0m in \u001b[0;36m_make_engine\u001b[0;34m(self, engine)\u001b[0m\n\u001b[1;32m   1112\u001b[0m     \u001b[0;32mdef\u001b[0m \u001b[0m_make_engine\u001b[0m\u001b[0;34m(\u001b[0m\u001b[0mself\u001b[0m\u001b[0;34m,\u001b[0m \u001b[0mengine\u001b[0m\u001b[0;34m=\u001b[0m\u001b[0;34m\"c\"\u001b[0m\u001b[0;34m)\u001b[0m\u001b[0;34m:\u001b[0m\u001b[0;34m\u001b[0m\u001b[0;34m\u001b[0m\u001b[0m\n\u001b[1;32m   1113\u001b[0m         \u001b[0;32mif\u001b[0m \u001b[0mengine\u001b[0m \u001b[0;34m==\u001b[0m \u001b[0;34m\"c\"\u001b[0m\u001b[0;34m:\u001b[0m\u001b[0;34m\u001b[0m\u001b[0;34m\u001b[0m\u001b[0m\n\u001b[0;32m-> 1114\u001b[0;31m             \u001b[0mself\u001b[0m\u001b[0;34m.\u001b[0m\u001b[0m_engine\u001b[0m \u001b[0;34m=\u001b[0m \u001b[0mCParserWrapper\u001b[0m\u001b[0;34m(\u001b[0m\u001b[0mself\u001b[0m\u001b[0;34m.\u001b[0m\u001b[0mf\u001b[0m\u001b[0;34m,\u001b[0m \u001b[0;34m**\u001b[0m\u001b[0mself\u001b[0m\u001b[0;34m.\u001b[0m\u001b[0moptions\u001b[0m\u001b[0;34m)\u001b[0m\u001b[0;34m\u001b[0m\u001b[0;34m\u001b[0m\u001b[0m\n\u001b[0m\u001b[1;32m   1115\u001b[0m         \u001b[0;32melse\u001b[0m\u001b[0;34m:\u001b[0m\u001b[0;34m\u001b[0m\u001b[0;34m\u001b[0m\u001b[0m\n\u001b[1;32m   1116\u001b[0m             \u001b[0;32mif\u001b[0m \u001b[0mengine\u001b[0m \u001b[0;34m==\u001b[0m \u001b[0;34m\"python\"\u001b[0m\u001b[0;34m:\u001b[0m\u001b[0;34m\u001b[0m\u001b[0;34m\u001b[0m\u001b[0m\n",
      "\u001b[0;32m~/anaconda3/lib/python3.8/site-packages/pandas/io/parsers.py\u001b[0m in \u001b[0;36m__init__\u001b[0;34m(self, src, **kwds)\u001b[0m\n\u001b[1;32m   1889\u001b[0m         \u001b[0mkwds\u001b[0m\u001b[0;34m[\u001b[0m\u001b[0;34m\"usecols\"\u001b[0m\u001b[0;34m]\u001b[0m \u001b[0;34m=\u001b[0m \u001b[0mself\u001b[0m\u001b[0;34m.\u001b[0m\u001b[0musecols\u001b[0m\u001b[0;34m\u001b[0m\u001b[0;34m\u001b[0m\u001b[0m\n\u001b[1;32m   1890\u001b[0m \u001b[0;34m\u001b[0m\u001b[0m\n\u001b[0;32m-> 1891\u001b[0;31m         \u001b[0mself\u001b[0m\u001b[0;34m.\u001b[0m\u001b[0m_reader\u001b[0m \u001b[0;34m=\u001b[0m \u001b[0mparsers\u001b[0m\u001b[0;34m.\u001b[0m\u001b[0mTextReader\u001b[0m\u001b[0;34m(\u001b[0m\u001b[0msrc\u001b[0m\u001b[0;34m,\u001b[0m \u001b[0;34m**\u001b[0m\u001b[0mkwds\u001b[0m\u001b[0;34m)\u001b[0m\u001b[0;34m\u001b[0m\u001b[0;34m\u001b[0m\u001b[0m\n\u001b[0m\u001b[1;32m   1892\u001b[0m         \u001b[0mself\u001b[0m\u001b[0;34m.\u001b[0m\u001b[0munnamed_cols\u001b[0m \u001b[0;34m=\u001b[0m \u001b[0mself\u001b[0m\u001b[0;34m.\u001b[0m\u001b[0m_reader\u001b[0m\u001b[0;34m.\u001b[0m\u001b[0munnamed_cols\u001b[0m\u001b[0;34m\u001b[0m\u001b[0;34m\u001b[0m\u001b[0m\n\u001b[1;32m   1893\u001b[0m \u001b[0;34m\u001b[0m\u001b[0m\n",
      "\u001b[0;32mpandas/_libs/parsers.pyx\u001b[0m in \u001b[0;36mpandas._libs.parsers.TextReader.__cinit__\u001b[0;34m()\u001b[0m\n",
      "\u001b[0;32mpandas/_libs/parsers.pyx\u001b[0m in \u001b[0;36mpandas._libs.parsers.TextReader._setup_parser_source\u001b[0;34m()\u001b[0m\n",
      "\u001b[0;31mFileNotFoundError\u001b[0m: [Errno 2] File 7_Daegu_Real_Estate_data.csv does not exist: '7_Daegu_Real_Estate_data.csv'"
     ]
    }
   ],
   "source": [
    "data = pd.read_csv('7_Daegu_Real_Estate_data.csv')\n",
    "data.head()"
   ]
  },
  {
   "cell_type": "markdown",
   "metadata": {},
   "source": [
    "## Những thông tin cơ bản của dữ liệu\n",
    "### Mô tả dữ liệu\n",
    "**Nội dung**\n",
    "\n",
    "Đây là dữ liệu giao dịch các căn hộ được tạo từ tháng 8/2007 đến tháng 8/2017 tại Daebong strict, thành phố Daegu, Hàn Quốc.\n",
    "\n",
    "**Thông tin về các feature trong dữ liệu**\n",
    "* `SalePrice`: Giá giao dịch tính bằng đơn vị US dollar (target feature).\n",
    "* `YearBuilt`: Năm xây dựng.\n",
    "* `YrSold`: Năm giao dịch.\n",
    "* `MonthSold`: Tháng giao dịch.\n",
    "* `Size(sqf)`: Kích thước của căn hộ tính bằng đơn vị square feet.\n",
    "* `Floor`: Số tầng của căn hộ.\n",
    "* `HallwayType`: Loại phòng trước.\n",
    "* `HeatingType`: Loại lò sưởi.\n",
    "* `AptManageType`: Loại hình thức quản lý của căn hộ.\n",
    "* `N_Parkinglot(Ground)`: Số chỗ đỗ xe ở tầng trệt.\n",
    "* `N_Parkinglot(Basement)`: Số chỗ đỗ xe dưới tầng hầm.\n",
    "* `TimeToBusStop`: Thời gian di chuyển từ căn hộ đến trạm xe buýt (categorical).\n",
    "* `TimeToSubway`: Thời gian di chuyển từ căn hộ đến ga tàu điện ngầm (categorical).\n",
    "* `N_APT`: Số căn hộ trong khu chung cư.\n",
    "* `N_manager`: Số người quản lý các tiện ích tại căn hộ (ví dụ như an ninh, vệ sinh,...).\n",
    "* `N_elevators`: Tổng số thang máy trong một khu chung cư.\n",
    "* `SubwayStation`: Tên của ga tàu điện ngầm gần căn hộ.\n",
    "* `N_FacilitiesNearBy(PublicOffice)`: Số lượng văn phòng công cộng gần căn hộ.\n",
    "* `N_FacilitiesNearBy(Hospital)`: Số lượng bệnh viện gần căn hộ.\n",
    "* `N_FacilitiesNearBy(Dpartmentstore)`: Số lượng cửa hàng bách hoá gần căn hộ.\n",
    "* `N_FacilitiesNearBy(Mall)`: Số lượng trung tâm mua sắm gần căn hộ.\n",
    "* `N_FacilitiesNearBy(ETC)`: Số lượng khách sạn, trường học đặc biệt gần căn hộ.\n",
    "* `N_FacilitiesNearBy(Park)`: Số lượng công viên gần căn hộ.\n",
    "* `N_SchoolNearBy(Elementary)`: Số lượng trường tiểu học gần căn hộ.\n",
    "* `N_SchoolNearBy(Middle)`: Số lượng trường trung học cơ sở gần căn hộ.\n",
    "* `N_SchoolNearBy(High)`: Số lượng trường trung học phổ thông gần căn hộ.\n",
    "* `N_SchoolNearBy(University)`: Số lượng trường đại học gần căn hộ\n",
    "* `N_FacilitiesInApt`: Số lượng tiện ích cho người ở chung cư (ví dụ như hồ bơi, phòng gym, sân chơi ngoài trời,...).\n",
    "* `N_FacilitiesNearBy(Total)`: Tổng số tiện ích gần căn hộ.\n",
    "* `N_SchoolNearBy(Total)`: Tổng số trường học gần căn hộ.\n"
   ]
  },
  {
   "cell_type": "code",
   "execution_count": null,
   "metadata": {
    "scrolled": false
   },
   "outputs": [],
   "source": [
    "data.info()"
   ]
  },
  {
   "cell_type": "markdown",
   "metadata": {},
   "source": [
    "Dữ liệu gồm có 30 cột tương ứng với 30 features được mô tả ở trên và 5901 dòng."
   ]
  },
  {
   "cell_type": "code",
   "execution_count": null,
   "metadata": {},
   "outputs": [],
   "source": [
    "data.dtypes.value_counts()"
   ]
  },
  {
   "cell_type": "markdown",
   "metadata": {},
   "source": [
    "Trong dữ liệu đầu vào có 24 numerical features và 6 object features."
   ]
  },
  {
   "cell_type": "code",
   "execution_count": null,
   "metadata": {},
   "outputs": [],
   "source": [
    "# In ra mô tả của numeric features\n",
    "data.describe().T"
   ]
  },
  {
   "cell_type": "code",
   "execution_count": null,
   "metadata": {},
   "outputs": [],
   "source": [
    "# In ra mô tả của catagory features\n",
    "data.describe(include='O').T"
   ]
  },
  {
   "cell_type": "code",
   "execution_count": null,
   "metadata": {
    "scrolled": false
   },
   "outputs": [],
   "source": [
    "# Thống kê missing values có trong dữ liệu\n",
    "missing_values = data.isnull().sum()\n",
    "percentage_missing_values = (missing_values/len(data))*100\n",
    "missing_values = pd.concat([missing_values, percentage_missing_values], axis = 1, keys= ['Missing values', '% Missing'])\n",
    "missing_values"
   ]
  },
  {
   "cell_type": "markdown",
   "metadata": {},
   "source": [
    "Không có bất kỳ missing value nào trong dữ liệu đầu vào."
   ]
  },
  {
   "cell_type": "markdown",
   "metadata": {},
   "source": [
    "## Phân tích và chọn ra các feature quan trọng của dữ liệu cần trực quan\n",
    "Ta chọn ra các feature quan trọng: \n",
    "`SalePrice`, `YearBuilt`, `YrSold`, `Size(sqf)`, `TimeToBusStop`, `TimeToSubway`, `N_FacilitiesInApt`."
   ]
  },
  {
   "cell_type": "code",
   "execution_count": null,
   "metadata": {},
   "outputs": [],
   "source": [
    "# Heatmap biểu diễn sự tương quan giữa các numerical features với target feature\n",
    "fig = plt.figure(figsize=(15,8))\n",
    "corr = data.corr().filter(items = ['SalePrice'])\n",
    "sns.heatmap(corr, annot=True)\n",
    "fig.tight_layout()\n",
    "plt.show()"
   ]
  },
  {
   "cell_type": "markdown",
   "metadata": {},
   "source": [
    "Ta có thể thấy các features `Size(sqf)`, `YearBuilt`, `YrSold`, `N_FacilitiesInApt` mà ta đã chọn ở trên có hệ số tương quan với target feature khá cao."
   ]
  },
  {
   "cell_type": "markdown",
   "metadata": {},
   "source": [
    "## Các biểu đồ biểu diễn các feature quan trọng"
   ]
  },
  {
   "cell_type": "code",
   "execution_count": null,
   "metadata": {},
   "outputs": [],
   "source": [
    "fig = plt.figure(figsize=(14,8))\n",
    "plt.hist(data['SalePrice'], edgecolor='k', facecolor='green')\n",
    "plt.xlabel('Sale Price', fontsize = 14)\n",
    "plt.ylabel('Number of sold apartments', fontsize = 14)\n",
    "fig.tight_layout()\n",
    "plt.show()"
   ]
  },
  {
   "cell_type": "markdown",
   "metadata": {},
   "source": [
    "* Ta thấy đồ thị có dạng gần với phân phối chuẩn và bị lệnh phải. \n",
    "* Đa số các căn hộ được bán với giá trong khoảng từ 150000 - 200000 (US dollar). \n",
    "* Các căn hộ có giá bán từ 200000 US dollar trở thì bán được càng ít."
   ]
  },
  {
   "cell_type": "markdown",
   "metadata": {},
   "source": [
    "Thống kê số lượng căn hộ giao dịch tính theo năm xây dựng."
   ]
  },
  {
   "cell_type": "code",
   "execution_count": null,
   "metadata": {},
   "outputs": [],
   "source": [
    "NoSoldApt_YearBuilt = data.groupby(['YearBuilt'])[['SalePrice']].count()\\\n",
    "                         .reset_index().rename(columns={'SalePrice': 'Number of Apt'})\n",
    "NoSoldApt_YearBuilt.head(15)"
   ]
  },
  {
   "cell_type": "code",
   "execution_count": null,
   "metadata": {
    "scrolled": false
   },
   "outputs": [],
   "source": [
    "fig, ax = plt.subplots(figsize=(14,8))\n",
    "sns.countplot('YearBuilt', data=data, ax=ax)\n",
    "plt.xlabel('Year Built', fontsize = 14)\n",
    "plt.ylabel('Number of sold apartments', fontsize = 14)\n",
    "plt.tight_layout()\n",
    "plt.show()"
   ]
  },
  {
   "cell_type": "markdown",
   "metadata": {},
   "source": [
    "Từ đồ thị, ta thấy \n",
    "* Số lượng căn hộ bán ra được xây dựng trong giai đoạn từ 1978 - 1985 rất ít, đặc biệt chỉ có 4 căn hộ được bán ra xây dựng trong năm 1980.\n",
    "* Số lượng căn hộ bán ra được xây dựng trong giai đoạn từ 1997 - 2003 rất ít, đặc biệt chỉ có 9 căn hộ được bán ra xây dựng trong năm 2003.\n",
    "* Số lượng các căn hộ bán ra được xây dựng từ năm 2005 trở đi tăng đột ngột, trong đó các căn hộ được xây dựng vào năm 2007 được bán ra nhiều nhất với số lượng 1225 căn hộ. Những căn hộ này có độ an toàn cao, nằm ở gần các tiện ích cộng cộng - vị trí thuận tiện cho các nhu cầu thiết yếu của người dân nên những căn hộ này sẽ được ưu tiên chọn mua nhiều nhất."
   ]
  },
  {
   "cell_type": "code",
   "execution_count": null,
   "metadata": {},
   "outputs": [],
   "source": [
    "columns = ['N_APT', 'N_manager', 'N_SchoolNearBy(Middle)', 'N_SchoolNearBy(High)']\n",
    "f, ax = plt.subplots(ncols = 2, nrows = 2, figsize=(18,10))\n",
    "for i, c in zip(ax.flatten(), columns):\n",
    "    if c != 'YearBuilt':\n",
    "        temp_data = data.groupby(['YearBuilt'])[[c]].mean().reset_index()\n",
    "        sns.barplot(x=\"YearBuilt\", y=c, data=temp_data, ci=None, ax=i)\n",
    "        i.tick_params(axis='x', labelrotation = 90, labelsize = 12)\n",
    "        i.title.set_text(c)\n",
    "f.tight_layout()\n",
    "plt.show()"
   ]
  },
  {
   "cell_type": "markdown",
   "metadata": {},
   "source": [
    "Lý giải cho việc số lượng các căn hộ giao dịch được xây dựng trong giai đoạn 1997 - 2003 rất ít là các căn hộ này hầu như không gần các trường cấp 2, cấp 3, khả năng quản lý kém (số lượng người làm an ninh, vệ sinh,... ít) và xung quanh chỉ có 1 căn hộ láng giềng. Do đó ta có thể kết luận rằng tính an toàn của những căn hộ này khá thấp nên khả năng được chọn mua rất thấp."
   ]
  },
  {
   "cell_type": "code",
   "execution_count": null,
   "metadata": {},
   "outputs": [],
   "source": [
    "columns = ['N_APT', 'N_Parkinglot(Basement)', 'N_FacilitiesInApt', 'N_FacilitiesNearBy(Total)']\n",
    "f, ax = plt.subplots(ncols = 2, nrows = 2, figsize=(18,10))\n",
    "for i, c in zip(ax.flatten(), columns):\n",
    "    if c != 'YearBuilt':\n",
    "        temp_data = data.groupby(['YearBuilt'])[[c]].mean().reset_index()\n",
    "        sns.barplot(x=\"YearBuilt\", y=c, data=temp_data, ci=None, ax=i)\n",
    "        i.tick_params(axis='x', labelrotation = 90, labelsize = 12)\n",
    "        i.title.set_text(c)\n",
    "f.tight_layout()\n",
    "plt.show()"
   ]
  },
  {
   "cell_type": "markdown",
   "metadata": {},
   "source": [
    "Điều đặc biệt ở các căn hộ giao dịch được xây dựng vào năm 1980 là số lượng giao dịch đặc biệt thấp. Tuy nhiên, theo những đồ thị trên thì những căn hộ này có rất nhiều làng giềng, số lượng chỗ để xe ở tầng hầm nhiều, có nhiều tiện ích ở cả trong lẫn ngoài căn hộ. Điều này có thể suy ra được, những căn hộ giao dịch được xây dựng trong năm 1980 là những căn hộ cũ có chất lượng tốt và giá rẻ nhưng lại hiếm."
   ]
  },
  {
   "cell_type": "code",
   "execution_count": null,
   "metadata": {},
   "outputs": [],
   "source": [
    "columns = ['Size(sqf)', 'N_manager', 'N_FacilitiesNearBy(Dpartmentstore)', 'N_FacilitiesNearBy(Mall)']\n",
    "f, ax = plt.subplots(ncols = 2, nrows = 2, figsize=(18,10))\n",
    "for i, c in zip(ax.flatten(), columns):\n",
    "    if c != 'YearBuilt':\n",
    "        temp_data = data.groupby(['YearBuilt'])[[c]].mean().reset_index()\n",
    "        sns.barplot(x=\"YearBuilt\", y=c, data=temp_data, ci=None, ax=i)\n",
    "        i.tick_params(axis='x', labelrotation = 90, labelsize = 12)\n",
    "        i.title.set_text(c)\n",
    "f.tight_layout()\n",
    "plt.show()"
   ]
  },
  {
   "cell_type": "markdown",
   "metadata": {},
   "source": [
    "Những căn hộ giao dịch được xây dựng trong năm 2007 đặc biệt có kích thước trung bình lớn nhất (khoảng hơn 1200 square feet), số lượng người quản lý và làm dịch vụ cao (hơn 8 người), vị trí lại gần những trung tâm thương mại, các dịch vụ tiện ích công cộng. Điều này khiến cho số lượng căn hộ xây dựng trong năm này được chú ý và mua lại nhiều nhất."
   ]
  },
  {
   "cell_type": "markdown",
   "metadata": {},
   "source": [
    "Thống kê số lượng căn hộ giao dịch tính theo năm giao dịch."
   ]
  },
  {
   "cell_type": "code",
   "execution_count": null,
   "metadata": {},
   "outputs": [],
   "source": [
    "NoSoldApt_YearSold = data.groupby(['YrSold'])[['SalePrice']].count()\\\n",
    "                            .reset_index().rename(columns={'SalePrice': 'Number of Apt'})\n",
    "NoSoldApt_YearSold.head(15)"
   ]
  },
  {
   "cell_type": "code",
   "execution_count": null,
   "metadata": {},
   "outputs": [],
   "source": [
    "fig, ax = plt.subplots(figsize=(14,8))\n",
    "sns.countplot('YrSold', data=data, ax=ax)\n",
    "plt.xlabel('Year Sold', fontsize = 14)\n",
    "plt.ylabel('Number of sold apartments', fontsize = 14)\n",
    "plt.tight_layout()\n",
    "plt.show()"
   ]
  },
  {
   "cell_type": "markdown",
   "metadata": {},
   "source": [
    "Từ đồ thị, ta thấy\n",
    "* Năm 2007, số lượng căn hộ được bán rất thấp chỉ 117 căn hộ. Lý do vì dữ liệu bắt đầu lấy từ tháng 8/2007 nên số lượng căn hộ bán ra ở đây chỉ tính cho 4 tháng cuối của năm 2007.\n",
    "* Nếu không tính năm 2007 thì năm 2008 sẽ có số lượng căn hộ được bán ra thấp nhất với 390 căn hộ.\n",
    "* Năm 2016 có số lượng căn hộ bán ra nhiều nhất với 751 căn hộ."
   ]
  },
  {
   "cell_type": "markdown",
   "metadata": {},
   "source": [
    "Thống kê số lượng căn hộ giao dịch theo kích thước."
   ]
  },
  {
   "cell_type": "code",
   "execution_count": null,
   "metadata": {},
   "outputs": [],
   "source": [
    "data_new=data.copy()\n",
    "data_new['GroupSize']=pd.qcut(data['Size(sqf)'],3)\n",
    "NoSoldApt_Size = data_new.groupby(['YrSold', 'GroupSize'])[['SalePrice']].count()\\\n",
    "                         .reset_index().rename(columns={'SalePrice': 'Number of Apt'})\n",
    "NoSoldApt_Size.head(5)"
   ]
  },
  {
   "cell_type": "code",
   "execution_count": null,
   "metadata": {
    "scrolled": false
   },
   "outputs": [],
   "source": [
    "fig, ax = plt.subplots(figsize=(14,8))\n",
    "sns.pointplot(data=NoSoldApt_Size,x='YrSold',y='Number of Apt',hue='GroupSize',ax=ax)\n",
    "plt.xlabel('Year Sold', fontsize = 14)\n",
    "plt.ylabel('Number of apartments', fontsize = 14)\n",
    "fig.tight_layout()\n",
    "plt.show()"
   ]
  },
  {
   "cell_type": "markdown",
   "metadata": {},
   "source": [
    "Từ đồ thị trên, ta thấy rằng\n",
    "* Nhìn chung ta có thể thấy số giao dịch của mỗi loại kích thước căn hộ đều có biến động, nhưng các căn hộ có kích thước nhỏ lại có số lượng biến động lớn nhất. Số lượng giao dịch cũng tăng đáng kể ở năm 2017 so với 2007, 2008.\n",
    "* Số lượng giao dịch của các căn hộ có kích thước lớn mặc dù có độ biến động từ 2008 - 2016 nhưng nhìn chung vẫn có số lượng khá thấp so với 2 loại kích thước còn lại. \n",
    "* Trong giai đoạn từ 2013 - 2015, số lượng giao dịch của các căn hộ có kích thước nhỏ lại thấp hơn những căn hộ có kích thước lớn. Điều này cho thấy trong giai đoạn này, người dân có xu hướng chọn mua những căn hộ có kích thước trung bình hoặc lớn nhiều hơn.\n",
    "* Trong khoảng thời gian năm 2009 tới 2010, số lượng căn hộ có kích thước nhỏ được bán ra trong thời gian này tăng đột biến (gấp gần 3 lần) trong khi số lượng căn hộ bán ra có kích thước vừa và lớn lại sụt giảm đáng kể. \n",
    "* Chúng ta cũng có xu hướng tương tự vào giai đoạn năm 2015, 2016 khi số lượng căn hộ có kích thước nhỏ bán ra trong thời gian này cũng tăng đột biến (khoảng gấp 3 lần) trong khi số lượng căn hộ có kích thước lớn bán ra lại sụt giảm khoảng 1 nửa trong khi số lượng có kích thước vừa giữ ổn định. \n"
   ]
  },
  {
   "cell_type": "markdown",
   "metadata": {},
   "source": [
    "Thống kê số lượng căn hộ giao dịch theo thời gian đến các trạm xe buýt."
   ]
  },
  {
   "cell_type": "code",
   "execution_count": null,
   "metadata": {},
   "outputs": [],
   "source": [
    "NoSoldApt_TimeToBusStop = data.groupby(['TimeToBusStop'])[['SalePrice']].count()\\\n",
    "                         .reset_index().rename(columns={'SalePrice': 'Number of Apt'})\n",
    "NoSoldApt_TimeToBusStop.head(15)"
   ]
  },
  {
   "cell_type": "code",
   "execution_count": null,
   "metadata": {
    "scrolled": false
   },
   "outputs": [],
   "source": [
    "fig, ax = plt.subplots(figsize=(14,8))\n",
    "sns.countplot('TimeToBusStop', data=data, ax=ax)\n",
    "plt.xlabel('Time to bus stop', fontsize = 14)\n",
    "plt.ylabel('Number of sold apartments', fontsize = 14)\n",
    "plt.tight_layout()\n",
    "plt.show()"
   ]
  },
  {
   "cell_type": "markdown",
   "metadata": {},
   "source": [
    "Từ đồ thị trên, ta thấy rằng\n",
    "* Đa số các căn hộ bán ra đều cách trạm xe buýt từ 0 - 5 phút đi bộ.\n",
    "* Các căn hộ ở xa trạm xe buýt hơn thường không được lựa chọn để mua nên có số lượng cực thấp. \n",
    "\n",
    "Từ 2 điều trên ta có thể suy ra rằng người dân tại thành phố Daegu ưa chuộng những căn hộ gần với trạm xe buýt hơn vì điều đó sẽ khiến họ trở nên thuận tiện trong việc di chuyển."
   ]
  },
  {
   "cell_type": "markdown",
   "metadata": {},
   "source": [
    "Thống kê số lượng căn hộ giao dịch theo thời gian đến các trạm tàu điện ngầm."
   ]
  },
  {
   "cell_type": "code",
   "execution_count": null,
   "metadata": {},
   "outputs": [],
   "source": [
    "NoSoldApt_TimeToSubway = data.groupby(['TimeToSubway'])[['SalePrice']].count()\\\n",
    "                         .reset_index().rename(columns={'SalePrice': 'Number of Apt'})\n",
    "NoSoldApt_TimeToSubway.head(15)"
   ]
  },
  {
   "cell_type": "code",
   "execution_count": null,
   "metadata": {
    "scrolled": false
   },
   "outputs": [],
   "source": [
    "fig, ax = plt.subplots(figsize=(14,8))\n",
    "sns.countplot('TimeToSubway', data=data, ax=ax)\n",
    "plt.xlabel('Time to subway', fontsize = 14)\n",
    "plt.ylabel('Number of sold apartments', fontsize = 14)\n",
    "plt.tight_layout()\n",
    "plt.show()"
   ]
  },
  {
   "cell_type": "markdown",
   "metadata": {},
   "source": [
    "Từ đồ thị trên, ta có thể thấy\n",
    "* Đa số các căn hộ cách trạm tàu điện ngầm từ 0 - 5 phút đi bộ được chọn mua nhiều nhất.\n",
    "* Các căn hộ không gần với trạm xe nào được chọn mua ít nhất.\n",
    "\n",
    "Những điều này cho thấy rằng dân cư ở thành phố Daegu ưu tiên lựa chọn những căn hộ gần các trạm tàu điện ngầm để thuận tiện cho việc di chuyển của họ. Những căn hộ không gần các trạm xe là lựa chọn cuối cùng của họ nếu không tìm được những căn hộ tốt hơn nên số lượng căn hộ bán ra rất ít."
   ]
  },
  {
   "cell_type": "markdown",
   "metadata": {},
   "source": [
    "## Các biểu đồ biểu diễn mối quan hệ giữa các feature"
   ]
  },
  {
   "cell_type": "markdown",
   "metadata": {},
   "source": [
    "Thống kê số lượng và giá bán trung bình của các căn hộ theo từng năm xây dựng."
   ]
  },
  {
   "cell_type": "code",
   "execution_count": null,
   "metadata": {},
   "outputs": [],
   "source": [
    "SalePrice_YearBuilt = data.groupby(['YearBuilt'])[['SalePrice']].mean()\n",
    "NoSoldApt_YearBuilt = data.groupby(['YearBuilt'])[['SalePrice']].count()\n",
    "MeanSalePrice_YrBuilt = pd.concat([SalePrice_YearBuilt, NoSoldApt_YearBuilt], axis=1, ignore_index=True)\\\n",
    "                                .reset_index().rename(columns={0: 'MeanSalePrice', 1 : 'NoSoldApt'})\n",
    "MeanSalePrice_YrBuilt.head(20)"
   ]
  },
  {
   "cell_type": "code",
   "execution_count": null,
   "metadata": {},
   "outputs": [],
   "source": [
    "source_yb = ColumnDataSource(dict(year=MeanSalePrice_YrBuilt.YearBuilt,\\\n",
    "                                  saleprice=MeanSalePrice_YrBuilt.MeanSalePrice,\n",
    "                                  number=MeanSalePrice_YrBuilt.NoSoldApt))\n",
    "TOOLTIPS = [\n",
    "    (\"Year Built:\", \"@year\"),\n",
    "    (\"Mean of Sale Price:\", \"@saleprice\"),\n",
    "    (\"Number of sold apartments:\", \"@number\")\n",
    "]\n",
    "\n",
    "fig = figure(title=\"Mean Sale Price per Year Built\",\n",
    "           x_axis_label='Year Build',\n",
    "           y_axis_label='Mean of Sale Price',\n",
    "           plot_height=400, \n",
    "           plot_width=900, \n",
    "           tooltips=TOOLTIPS)\n",
    "\n",
    "fig.line(x=\"year\", y=\"saleprice\", source=source_yb, color='#1F78B4', line_width=3)\n",
    "\n",
    "fig.grid.grid_line_alpha=0.8\n",
    "\n",
    "show(fig)"
   ]
  },
  {
   "cell_type": "markdown",
   "metadata": {},
   "source": [
    "Từ đồ thị trên, ta thấy rằng\n",
    "* Trong giai đoạn từ 1978 - 1997, giá giao dịch trung bình của các căn hộ được xây dựng trong giai đoạn này có nhiều biến động. Trong đó năm 1980 có giá giao dịch trung bình thấp nhất, điều này có thể là do số lượng các căn hộ giao dịch được xây dựng trong năm này rất thấp (chỉ 4 căn hộ) và có tuổi thọ cao.\n",
    "* Giai đoạn sau năm 1997, giá giao dịch trung bình của các căn hộ được xây dựng trong giai đoạn này tăng đều và bắt đầu tăng mạnh với các căn hộ được xây từ năm 2005. Lý giải cho việc này là những căn hộ giao dịch được xây dựng trong năm 2007 chiếm số lượng cao nhất (đến 1225 căn hộ), chất lượng căn hộ tốt khi có vị trí gần các tiện ích công cộng, có độ an toàn cao, khiến cho giá thành của các căn hộ này được nâng cao.\n",
    "* Tuy nhiên, các căn hộ được xây dựng từ năm 2007 đến 2013 lại có dấu hiệu giảm. Lý giải cho điều này có thể là do số lượng giao dịch các căn hộ được xây dựng trong giai đoạn này giảm đi và đa số các căn hộ giao dịch đều có kích thước nhỏ và trung bình nên giá giao dịch trung bình của các căn hộ được xây dựng trong giai đoạn này giảm so với trước đó.\n",
    "* Từ năm 2013 trở đi, giá giao dịch trung bình của các căn hộ được xây dựng trong giai đoạn này bắt đầu tăng trở lại. Lý do vì người dân bắt đầu chọn mua những căn hộ có kích thước trung bình và lớn nhiều hơn, do có kích thước lớn hơn nên giá cũng tăng không ít."
   ]
  },
  {
   "cell_type": "markdown",
   "metadata": {},
   "source": [
    "Thống kê số lượng và giá bán trung bình của các căn hộ theo từng năm bán ra."
   ]
  },
  {
   "cell_type": "code",
   "execution_count": null,
   "metadata": {},
   "outputs": [],
   "source": [
    "SalePrice_YearSold = data.groupby(['YrSold'])[['SalePrice']].mean()\n",
    "NoSoldApt_YearSold = data.groupby(['YrSold'])[['SalePrice']].count()\n",
    "MeanSalePrice_YrSold = pd.concat([SalePrice_YearSold, NoSoldApt_YearSold], axis=1, ignore_index=True)\\\n",
    "                                .reset_index().rename(columns={0: 'MeanSalePrice', 1 : 'NoSoldApt'})\n",
    "MeanSalePrice_YrSold.head(15)"
   ]
  },
  {
   "cell_type": "code",
   "execution_count": null,
   "metadata": {},
   "outputs": [],
   "source": [
    "source_ys = ColumnDataSource(dict(year=MeanSalePrice_YrSold.YrSold,\\\n",
    "                                  saleprice=MeanSalePrice_YrSold.MeanSalePrice,\n",
    "                                  number=MeanSalePrice_YrSold.NoSoldApt))\n",
    "TOOLTIPS = [\n",
    "    (\"Year Sold:\", \"@year\"),\n",
    "    (\"Mean of Sale Price:\", \"@saleprice\"),\n",
    "    (\"Number of sold apartments:\", \"@number\")\n",
    "]\n",
    "\n",
    "fig = figure(title=\"Mean Sale Price per Year Sold\",\n",
    "           x_axis_label='Year Sold',\n",
    "           y_axis_label='Mean of Sale Price',\n",
    "           plot_height=400, \n",
    "           plot_width=900, \n",
    "           tooltips=TOOLTIPS)\n",
    "\n",
    "fig.line(x=\"year\", y=\"saleprice\", source=source_ys, color='#1F78B4', line_width=3)\n",
    "\n",
    "fig.grid.grid_line_alpha=0.8\n",
    "\n",
    "show(fig)"
   ]
  },
  {
   "cell_type": "markdown",
   "metadata": {},
   "source": [
    "Từ đồ thị trên, ta thấy rằng\n",
    "* Nhìn chung, giá giao dịch trung bình của các căn hộ từ năm 2007 - 2017 có xu hướng tăng. \n",
    "* Trong năm 2010, giá giao dịch trung bình lại đạt mức thấp nhất trong giai đoạn khảo sát. Lý giải cho điều này là vì số lượng lớn các căn hộ giao dịch trong giai đoạn này đều có kích thước nhỏ, các căn hộ có kích thước vừa và lớn lại chiếm rất ít, điều này cũng có thể giải thích tại sao ở năm 2010 số lượng giao dịch cao hơn những năm lân cận lại có giá giao dịch trung bình thấp.\n",
    "* Giai đoạn từ 2010 - 2015, giá giao dịch trung bình các căn hộ có xu hướng tăng nhanh. Điều này cho thấy thị trường bất động sản bắt đầu được chú ý nhiều hơn trong giai đoạn này khiến cho giá giao dịch tăng cao.\n",
    "* Tuy nhiên đến năm 2016, giá giao dịch trung bình lại bị giảm. Lý do cho điều này là số lượng các căn hộ có kích thước nhỏ trong năm này tăng đột biến, khiến cho giá giao dịch trung bình bị ảnh hưởng lớn."
   ]
  },
  {
   "cell_type": "markdown",
   "metadata": {},
   "source": [
    "Thống kê giá giao dịch trung bình theo số lượng tiện ích có trong căn hộ."
   ]
  },
  {
   "cell_type": "code",
   "execution_count": null,
   "metadata": {},
   "outputs": [],
   "source": [
    "SalePrice_Facilities = data.groupby(['N_FacilitiesInApt'])[['SalePrice']].mean()\n",
    "NoSoldApt_Facilities = data.groupby(['N_FacilitiesInApt'])[['SalePrice']].count()\n",
    "MeanSalePrice_Facilities = pd.concat([SalePrice_Facilities, NoSoldApt_Facilities], axis=1, ignore_index=True)\\\n",
    "                                .reset_index().rename(columns={0: 'MeanSalePrice', 1 : 'NoSoldApt'})\n",
    "MeanSalePrice_Facilities.head(10)"
   ]
  },
  {
   "cell_type": "code",
   "execution_count": null,
   "metadata": {
    "scrolled": false
   },
   "outputs": [],
   "source": [
    "selected_bars = alt.selection(type='interval', encodings=['x'])\n",
    "\n",
    "bars = alt.Chart(MeanSalePrice_Facilities).mark_bar().encode(\n",
    "    x=alt.X('N_FacilitiesInApt:N', title='Number of facilities in apartment'),\n",
    "    y=alt.Y('MeanSalePrice:Q', title='Mean of Sale Price'),\n",
    "    tooltip=['N_FacilitiesInApt', 'MeanSalePrice', 'NoSoldApt'],\n",
    "    opacity=alt.condition(selected_bars, alt.OpacityValue(1), alt.OpacityValue(0.7)),\n",
    ").properties(width=500).add_selection(selected_bars).interactive()\n",
    "\n",
    "line = alt.Chart(MeanSalePrice_Facilities).mark_rule(color='firebrick').encode(\n",
    "    y=alt.Y('mean(MeanSalePrice):Q', title='Mean of Sale Price'),\n",
    "    size=alt.SizeValue(3)\n",
    ").transform_filter(selected_bars)\n",
    "bars + line"
   ]
  },
  {
   "cell_type": "markdown",
   "metadata": {},
   "source": [
    "Từ đồ thị trên, ta thấy rằng khi số lượng tiện tích trong chung cư càng nhiều thì giá căn hộ bán ra càng lớn. Cụ thể là ở trên mức trung bình lượng tiền bán của tổng thể."
   ]
  },
  {
   "cell_type": "markdown",
   "metadata": {},
   "source": [
    "Thống kê giá bán trên một đơn vị diện tích (square feet)."
   ]
  },
  {
   "cell_type": "code",
   "execution_count": null,
   "metadata": {
    "scrolled": false
   },
   "outputs": [],
   "source": [
    "data_new = data.copy()\n",
    "data_new['SalePriceSF'] = data['SalePrice']/data['Size(sqf)']\n",
    "columns=['SalePrice', 'Size(sqf)', 'SalePriceSF']\n",
    "salepriceSF_df = data_new[columns]\n",
    "salepriceSF_df.head()"
   ]
  },
  {
   "cell_type": "code",
   "execution_count": null,
   "metadata": {
    "scrolled": false
   },
   "outputs": [],
   "source": [
    "data_new['SalePriceSF'].iplot(kind='hist', xTitle='Sale Price per square feet (in US dollar)',\n",
    "                  yTitle='Number of apartments', title='SalePriceSF Distribution')"
   ]
  },
  {
   "cell_type": "markdown",
   "metadata": {},
   "source": [
    "Từ đồ thị trên, ta thấy rằng\n",
    "* Đa số người dân lựa chọn mua những căn hộ có giá nằm trong khoảng 220 - 230 dollars trên mỗi square feet, với số lượng giao dịch lên đến 380 căn hộ.\n",
    "* Đa số người dân có thu nhập trung bình khi các căn hộ giao dịch đa số có giá trong khoảng 180 - 280 dollars trên mỗi square feet.\n",
    "* Giá giao dịch trên mỗi square feet càng cao thì số lượng giao dịch càng thấp. \n",
    "\n",
    "Từ những điều trên, ta có thể kết luận rằng, đa số người dân ở phường Daebong có mức thu nhập trung bình, những người dân có thu nhập cao vẫn có những chiểm tỉ lệ không cao."
   ]
  },
  {
   "cell_type": "markdown",
   "metadata": {},
   "source": [
    "Thống kê giá giao dịch trên từng square feet theo tuổi thọ căn hộ."
   ]
  },
  {
   "cell_type": "code",
   "execution_count": null,
   "metadata": {
    "scrolled": true
   },
   "outputs": [],
   "source": [
    "data_new['ConstructionAge'] = data['YrSold'] - data['YearBuilt']\n",
    "columns=['SalePriceSF', 'ConstructionAge']\n",
    "Saleprice_consAge_df = data_new[columns]\n",
    "Saleprice_consAge_df.head()"
   ]
  },
  {
   "cell_type": "code",
   "execution_count": null,
   "metadata": {
    "scrolled": false
   },
   "outputs": [],
   "source": [
    "Saleprice_consAge_df.iplot(\n",
    "    x='ConstructionAge',\n",
    "    y='SalePriceSF',\n",
    "    mode='markers',\n",
    "    xTitle='Construction Age of apartment',\n",
    "    yTitle='Price per square feet (in dollars)')"
   ]
  },
  {
   "cell_type": "markdown",
   "metadata": {},
   "source": [
    "Từ đồ thị trên, ta thấy rằng có 2 nhóm khách hàng chính, một nhóm người chọn mua những căn hộ có tuổi thọ thấp và giá cao, nhóm còn lại chọn các căn hộ có tuổi thọ cao hoặc trung bình và giá thành thấp."
   ]
  },
  {
   "cell_type": "code",
   "execution_count": null,
   "metadata": {},
   "outputs": [],
   "source": [
    "sorted_yearsold=data_new.sort_values(by='YrSold', ascending=True)\n",
    "fig = px.scatter(sorted_yearsold, x = 'Size(sqf)', y = 'SalePrice', animation_frame = 'YrSold')\n",
    "fig.layout.updatemenus[0].buttons[0].args[1][\"frame\"][\"duration\"] = 1000\n",
    "fig"
   ]
  },
  {
   "cell_type": "markdown",
   "metadata": {},
   "source": [
    "Từ đồ thị trên, ta thầy rằng\n",
    "* Số lượng giao dịch ngày càng dày đặc theo thời gian.\n",
    "* Số lượng giao dịch các căn hộ có kích thước lớn hơn 1000 square feet ngày càng nhiều.\n",
    "* Giá thành các căn hộ giao dịch cũng tăng dần theo thời gian.\n",
    "\n",
    "Điều này cho thấy rằng mức sống của người dân tại phường Daebong ngày càng được cải thiện do số lượng các căn hộ có kích thước lớn hơn 1000 square feet ngày càng tăng. Đa số người dân vẫn có mức sống ở mức trung bình khá vì phần lớn các căn hộ giao dịch đều có giá thành tập trung trong khoảng 200000 - 350000 dollar. Thị trường bất động sản đặc biệt ở lĩnh vực các căn hộ được chú trọng nhiều hơn theo thời gian, điều này được chỉ ra thông qua việc giá giao dịch được tăng theo thời gian."
   ]
  },
  {
   "cell_type": "code",
   "execution_count": null,
   "metadata": {},
   "outputs": [],
   "source": [
    "data_new.iplot(\n",
    "    x='ConstructionAge',\n",
    "    y='SalePriceSF',\n",
    "    categories='TimeToBusStop',\n",
    "    xTitle='Construction Age of apartment',\n",
    "    yTitle='Price per square feet (in dollars)')"
   ]
  },
  {
   "cell_type": "markdown",
   "metadata": {},
   "source": [
    "Từ đồ thị trên, ta thấy rằng\n",
    "* Đa số các căn hộ giao dịch được chọn đều là các căn hộ gần trạm xe buýt (cách trạm từ 0 - 5 phút di chuyển).\n",
    "* Phần lớn các căn hộ giao dịch gần trạm xe buýt hoặc có tuổi thọ thấp và giá thành cao, hoặc có tuổi thọ cao và giá thành thấp.\n",
    "* Các căn hộ cách xa trạm xe buýt thường là những căn hộ có tuổi thọ thấp và giá khá cao.\n",
    "* Các căn hộ được giao dịch có tuổi thọ cao đều rất gần với các trạm xe buýt.\n",
    "\n",
    "Điều này cho thấy rằng, người dân ở phường Daebong luôn ưu tiên cho việc chọn nơi ở thuận tiện cho việc di chuyển của mình bằng phương tiện công cộng là xe buýt, ta thấy được điều này thông qua việc mặc dù những căn hộ gần trạm xe buýt có giá thành cao hoặc tuổi thọ cao nhưng vẫn có số lượng căn hộ được mua vẫn chiếm đa số. Ta cũng có thể thấy nhịp sống tại đây khá tất bật khi cần phải chọn những nơi gần trạm dừng để có thể tiết kiệm thời gian."
   ]
  },
  {
   "cell_type": "code",
   "execution_count": null,
   "metadata": {},
   "outputs": [],
   "source": [
    "data_new.iplot(\n",
    "    x='ConstructionAge',\n",
    "    y='SalePriceSF',\n",
    "    categories='TimeToSubway',\n",
    "    xTitle='Construction Age of apartment',\n",
    "    yTitle='Price per square feet (in dollars)')"
   ]
  },
  {
   "cell_type": "markdown",
   "metadata": {},
   "source": [
    "Từ đồ thị trên, ta thấy rằng\n",
    "* Đa số các căn hộ giao dịch được chọn đều là các căn hộ gần trạm tàu điện ngầm.\n",
    "* Các căn hộ cách khá xa trạm tàu điện ngầm đa số tập trung vào những căn hộ có tuổi thọ trung bình (từ 10 - 25 năm).\n",
    "* Các căn hộ không gần trạm dừng nào đa số đều là những căn hộ có tuổi thọ thấp (chỉ từ 0 - 8 năm).\n",
    "* Các căn hộ gần với trạm tàu điện ngầm (cách 0 - 5 phút di chuyển) đều tập trung ở khu vực căn hộ có tuổi thọ rất thấp (từ 0 - 11 năm) hoặc rất cao (từ 29 - 39 năm).\n",
    "* Các căn hộ có tuổi thọ trung bình (từ 12 - 30 năm) đều có giá thành thuộc loại trung bình hoặc thấp và đều cách khá xa trạm tàu điện ngầm (mất đến 10 - 15 phút di chuyển).\n",
    "\n",
    "Những điều trên cho thấy rằng người dân vẫn ưu tiên chọn những căn hộ gần với trạm tàu điện ngầm hơn để thuận tiện cho việc di chuyển. Lý giải điều này thông qua việc ta có thế thấy rằng những căn hộ gần trạm dừng (cách khoảng 0 - 5 phút) đa số đều trẻ nên giá thành khá cao hoặc tuổi thọ rất cao (29 - 39 năm) những vẫn được mua với số lượng lớn. Những căn hộ cách khá xa trạm tàu điện ngầm (khoảng từ 15 - 20 phút) được chọn mua đa số là những căn hộ có giá thành thấp hoặc trung bình. Và những căn hộ không gần bất kỳ trạm dừng nào, đều là những căn hộ trẻ."
   ]
  }
 ],
 "metadata": {
  "kernelspec": {
   "display_name": "Python 3",
   "language": "python",
   "name": "python3"
  },
  "language_info": {
   "codemirror_mode": {
    "name": "ipython",
    "version": 3
   },
   "file_extension": ".py",
   "mimetype": "text/x-python",
   "name": "python",
   "nbconvert_exporter": "python",
   "pygments_lexer": "ipython3",
   "version": "3.8.3"
  }
 },
 "nbformat": 4,
 "nbformat_minor": 4
}
