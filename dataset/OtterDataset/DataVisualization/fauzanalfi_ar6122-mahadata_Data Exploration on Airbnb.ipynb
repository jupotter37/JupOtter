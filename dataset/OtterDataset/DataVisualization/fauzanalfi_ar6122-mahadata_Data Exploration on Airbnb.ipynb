{
 "cells": [
  {
   "cell_type": "markdown",
   "id": "190d3451",
   "metadata": {},
   "source": [
    "Source: [https://towardsdatascience.com/data-exploration-on-airbnb-singapore-01-40698c54cac3](https://towardsdatascience.com/data-exploration-on-airbnb-singapore-01-40698c54cac3)\n",
    "\n",
    "# Data Exploration on Airbnb Singapore\n",
    "\n",
    "# Acquire and Loading Data"
   ]
  },
  {
   "cell_type": "markdown",
   "id": "01fc1cfb",
   "metadata": {},
   "source": [
    "## Load Python libraries"
   ]
  },
  {
   "cell_type": "code",
   "execution_count": null,
   "id": "8a032b06",
   "metadata": {},
   "outputs": [],
   "source": [
    "import pandas as pd\n",
    "import numpy as np\n",
    "import matplotlib.pyplot as plt\n",
    "import matplotlib.image as mpimg\n",
    "%matplotlib inline\n",
    "import seaborn as sns"
   ]
  },
  {
   "cell_type": "markdown",
   "id": "9eee14cb",
   "metadata": {},
   "source": [
    "## Load dataset"
   ]
  },
  {
   "cell_type": "code",
   "execution_count": null,
   "id": "3b8b6766",
   "metadata": {},
   "outputs": [],
   "source": [
    "airbnb = pd.read_csv('listings_sum_sg.csv')\n",
    "airbnb.head()"
   ]
  },
  {
   "cell_type": "markdown",
   "id": "13b1ce37",
   "metadata": {},
   "source": [
    "## Understanding data"
   ]
  },
  {
   "cell_type": "code",
   "execution_count": null,
   "id": "13cad3b1",
   "metadata": {},
   "outputs": [],
   "source": [
    "airbnb.shape"
   ]
  },
  {
   "cell_type": "code",
   "execution_count": null,
   "id": "ddacf1eb",
   "metadata": {},
   "outputs": [],
   "source": [
    "airbnb.dtypes"
   ]
  },
  {
   "cell_type": "markdown",
   "id": "44e579f8",
   "metadata": {},
   "source": [
    "_Let's look up all the unique values of the 'neighbourhood_group' that consists of a list of all the Singapore region_"
   ]
  },
  {
   "cell_type": "code",
   "execution_count": null,
   "id": "cac34664",
   "metadata": {},
   "outputs": [],
   "source": [
    "airbnb['neighbourhood_group'].unique()"
   ]
  },
  {
   "cell_type": "markdown",
   "id": "bae4a94d",
   "metadata": {},
   "source": [
    "_The region area is divided further by the Urban Redevelopment Authority (URA) into 55 areas called planning areas for urban planning purposes. We will use the ‘neighbourhood’ columns to look at which planning area that has the Airbnb listing._"
   ]
  },
  {
   "cell_type": "code",
   "execution_count": null,
   "id": "efc645d1",
   "metadata": {},
   "outputs": [],
   "source": [
    "airbnb['neighbourhood'].unique()"
   ]
  },
  {
   "cell_type": "markdown",
   "id": "20d2647c",
   "metadata": {},
   "source": [
    "_Let's look up the ‘room_type’ columns for each room type of the listing_"
   ]
  },
  {
   "cell_type": "code",
   "execution_count": null,
   "id": "e71d835b",
   "metadata": {},
   "outputs": [],
   "source": [
    "airbnb['room_type'].unique()"
   ]
  },
  {
   "cell_type": "markdown",
   "id": "feb5d242",
   "metadata": {},
   "source": [
    "# Cleaning dataset"
   ]
  },
  {
   "cell_type": "markdown",
   "id": "890ad99b",
   "metadata": {},
   "source": [
    "## Checking column with missing values"
   ]
  },
  {
   "cell_type": "code",
   "execution_count": null,
   "id": "355564c9",
   "metadata": {},
   "outputs": [],
   "source": [
    "airbnb.isnull().sum()"
   ]
  },
  {
   "cell_type": "markdown",
   "id": "2ad5592d",
   "metadata": {},
   "source": [
    "## Removing redundant variables"
   ]
  },
  {
   "cell_type": "markdown",
   "id": "ac65ade5",
   "metadata": {},
   "source": [
    "In our case, the missing values that are observed do not need too much treatment. Looking into our dataset, we can state columns ‘ name’ and ‘host_name’, ‘last_review’ are irrelevant and unethical for further data exploration analysis. Therefore, we can get rid of those columns."
   ]
  },
  {
   "cell_type": "code",
   "execution_count": null,
   "id": "90ee2d96",
   "metadata": {},
   "outputs": [],
   "source": [
    "airbnb.drop(['id','host_name','last_review'],axis=1,inplace=True)\n",
    "airbnb.head()"
   ]
  },
  {
   "cell_type": "markdown",
   "id": "01bc3998",
   "metadata": {},
   "source": [
    "## Replacing all the missing values"
   ]
  },
  {
   "cell_type": "markdown",
   "id": "f092f4e4",
   "metadata": {},
   "source": [
    "We need to replace all the missing values in the ‘review_per_month’ column with 0 (zero) to make sure the missing values do not interfere with our analysis"
   ]
  },
  {
   "cell_type": "code",
   "execution_count": null,
   "id": "e6ad679c",
   "metadata": {},
   "outputs": [],
   "source": [
    "airbnb['reviews_per_month'].fillna(0,inplace=True)"
   ]
  },
  {
   "cell_type": "markdown",
   "id": "811fbf1a",
   "metadata": {},
   "source": [
    "# Exploring and visualizing data"
   ]
  },
  {
   "cell_type": "markdown",
   "id": "ce85d4d7",
   "metadata": {},
   "source": [
    "## Top listing counts\n",
    "First, we skip the first column of ‘name’ and begin from the ‘host_id’ column. Then we slice the top 10 hosts in terms of listing count"
   ]
  },
  {
   "cell_type": "code",
   "execution_count": null,
   "id": "031fa0a4",
   "metadata": {},
   "outputs": [],
   "source": [
    "top_host_id = airbnb['host_id'].value_counts().head(10)"
   ]
  },
  {
   "cell_type": "markdown",
   "id": "3a7e5002",
   "metadata": {},
   "source": [
    "Next, we set the figure size and setting it up for data visualizations plot using a bar chart"
   ]
  },
  {
   "cell_type": "code",
   "execution_count": null,
   "id": "92496f26",
   "metadata": {},
   "outputs": [],
   "source": [
    "sns.set(rc={'figure.figsize':(10,8)})\n",
    "viz_bar = top_host_id.plot(kind='bar')\n",
    "viz_bar.set_title('Hosts with the most listings in Singapore')\n",
    "viz_bar.set_xlabel('Host IDs')\n",
    "viz_bar.set_ylabel('Count of listings')\n",
    "viz_bar.set_xticklabels(viz_bar.get_xticklabels(), rotation=45)"
   ]
  },
  {
   "cell_type": "markdown",
   "id": "d9685d79",
   "metadata": {},
   "source": [
    "## Top region area\n",
    "Next, we visualize the proportion of the listing count on each region area using the ‘neighbourhood_group’ columns"
   ]
  },
  {
   "cell_type": "code",
   "execution_count": null,
   "id": "d0f72c0a",
   "metadata": {},
   "outputs": [],
   "source": [
    "labels = airbnb.neighbourhood_group.value_counts().index\n",
    "colors = ['#008fd5','#fc4f30','#e5ae38','#6d904f','#8b8b8b']\n",
    "explode = (0.1,0,0,0,0)\n",
    "shape = airbnb.neighbourhood_group.value_counts().values\n",
    "plt.figure(figsize=(12,12))\n",
    "plt.pie(shape, explode = explode, labels=shape, colors= colors, autopct = '%1.1f%%', startangle=90)\n",
    "plt.legend(labels)\n",
    "plt.title('Neighbourhood Group')\n",
    "plt.show()"
   ]
  },
  {
   "cell_type": "markdown",
   "id": "c7e00244",
   "metadata": {},
   "source": [
    "## Top planning area\n",
    "Next, we look up the top 10 planning areas that have the highest number of listings"
   ]
  },
  {
   "cell_type": "code",
   "execution_count": null,
   "id": "d217f8bc",
   "metadata": {},
   "outputs": [],
   "source": [
    "airbnb.neighbourhood.value_counts().head(10)"
   ]
  },
  {
   "cell_type": "markdown",
   "id": "6f383679",
   "metadata": {},
   "source": [
    "## Listing map\n",
    "To create a map of the listing location, we will use the ‘longitude’ and ‘latitude’ column. But first, we need to check the values within the column"
   ]
  },
  {
   "cell_type": "code",
   "execution_count": null,
   "id": "b9c46f83",
   "metadata": {},
   "outputs": [],
   "source": [
    "coord = airbnb.loc[:,['longitude','latitude']]\n",
    "coord.describe()"
   ]
  },
  {
   "cell_type": "markdown",
   "id": "2b21ffdc",
   "metadata": {},
   "source": [
    "From the data above, we can see the outer values of longitude and latitude from the min and max index.\n",
    "\n",
    "For a better understanding of the listings density, we can use the folium heat map"
   ]
  },
  {
   "cell_type": "code",
   "execution_count": null,
   "id": "72569789",
   "metadata": {},
   "outputs": [],
   "source": [
    "import folium\n",
    "from folium.plugins import HeatMap\n",
    "map_folium = folium.Map([1.35255,103.82580],zoom_start=11.4)\n",
    "HeatMap(airbnb[['latitude','longitude']].dropna(),radius=8,gradient={0.2:'blue',0.4:'purple',0.6:'orange',1.0:'red'}).add_to(map_folium)\n",
    "display(map_folium)"
   ]
  },
  {
   "cell_type": "markdown",
   "id": "876cc4ce",
   "metadata": {},
   "source": [
    "## Price Distribution\n",
    "Before we visualize the price map, we need to update the dataset by removing some of the outlier data as some data prices have value far from the IQR (interquartile range).\n",
    "\n",
    "Based on our price heat map observation, we need to visualize the price distribution using a box plot to understand more on the listing price range grouped by the ‘neighbourhood_group’ /region area."
   ]
  },
  {
   "cell_type": "code",
   "execution_count": null,
   "id": "285d6bcf",
   "metadata": {},
   "outputs": [],
   "source": [
    "airbnb_1 = airbnb[airbnb.price < 300]\n",
    "\n",
    "plt.style.use('fivethirtyeight')\n",
    "plt.figure(figsize=(14,12))\n",
    "sns.boxplot(y='price',x='neighbourhood_group',data = airbnb_1)\n",
    "plt.title('Neighbourhood Group Price Distribution < S$ 300')\n",
    "plt.show()"
   ]
  },
  {
   "cell_type": "markdown",
   "id": "d40897bc",
   "metadata": {},
   "source": [
    "## Top listing words\n",
    "Next, we will explore deeper on the property detail by finding out what the most used word in the listing name. The most used word could represent the selling value of their property for the prospective guests. First, we will create a function to collect the words."
   ]
  },
  {
   "cell_type": "code",
   "execution_count": null,
   "id": "25558c39",
   "metadata": {},
   "outputs": [],
   "source": [
    "#Create empty list where we are going to put the name strings\n",
    "names=[]\n",
    "#Getting name string from 'name' column and appending it to the empty list\n",
    "for name in airbnb.name:\n",
    "    names.append(name)\n",
    "#Setting a function to split name strings into separate words\n",
    "def split_name(name):\n",
    "    s = str(name).split()\n",
    "    return s\n",
    "#Create empty list where we are going to count the words\n",
    "names_count = []\n",
    "#Getting name string to appending it to the names_count list\n",
    "for n in names:\n",
    "    for word in split_name(n):\n",
    "        word = word.lower()\n",
    "        names_count.append(word)"
   ]
  },
  {
   "cell_type": "markdown",
   "id": "2ad4fd8e",
   "metadata": {},
   "source": [
    "We need to import counter library to count and generate raw data which contains the top 25 words used by the host"
   ]
  },
  {
   "cell_type": "code",
   "execution_count": null,
   "id": "80936562",
   "metadata": {},
   "outputs": [],
   "source": [
    "from collections import Counter\n",
    "top_25 = Counter(names_count).most_common()\n",
    "top_25 = top_25[:25]"
   ]
  },
  {
   "cell_type": "markdown",
   "id": "cb83825a",
   "metadata": {},
   "source": [
    "Then, we convert the data into DataFrame and visualize our findings"
   ]
  },
  {
   "cell_type": "code",
   "execution_count": null,
   "id": "49b1b966",
   "metadata": {},
   "outputs": [],
   "source": [
    "word_count_data = pd.DataFrame(top_25)\n",
    "word_count_data.rename(columns={0:'Words',1:'Counts'},inplace=True)\n",
    "viz_count = sns.barplot(x='Words',y='Counts', data = word_count_data)\n",
    "viz_count.set_title('Top 25 used words for listing names')\n",
    "viz_count.set_ylabel('Count of words')\n",
    "viz_count.set_xlabel('Words')\n",
    "viz_count.set_xticklabels(viz_count.get_xticklabels(),rotation = 90)"
   ]
  },
  {
   "cell_type": "markdown",
   "id": "5363e720",
   "metadata": {},
   "source": [
    "From the chart above, we see the top 25 words used in the listing name. We can use the word cloud visualization method to help us better understand the chart."
   ]
  },
  {
   "cell_type": "code",
   "execution_count": null,
   "id": "eb084c06",
   "metadata": {},
   "outputs": [],
   "source": [
    "from wordcloud import WordCloud, ImageColorGenerator\n",
    "text = ' '.join(str(n).lower() for n in airbnb.name)\n",
    "#Generate wordcloud image\n",
    "wordcloud = WordCloud(max_words=200, background_color = 'white').generate(text)\n",
    "plt.figure(figsize=(25,20))\n",
    "#Display the image\n",
    "plt.imshow(wordcloud, interpolation='bilinear')\n",
    "plt.axis('off')\n",
    "plt.show()"
   ]
  },
  {
   "cell_type": "markdown",
   "id": "0c44c161",
   "metadata": {},
   "source": [
    "## Room type details\n",
    "Next, we will visualize all listing’s room type proportions from each region area using Plotly API library for graph visualization"
   ]
  },
  {
   "cell_type": "code",
   "execution_count": null,
   "id": "59a98bdd",
   "metadata": {},
   "outputs": [],
   "source": [
    "import plotly.offline as pyo\n",
    "import plotly.graph_objs as go\n",
    "#Setting up the color pallete\n",
    "color_dict = {'Private room': '#cc5a49', 'Entire home/apt' : '#4586ac', 'Shared room' : '#21908d', 'Hotel room' : '#C0C0C0' }\n",
    "#Group the room type using 'neighbourhood_group' as an index\n",
    "airbnb_types=airbnb.groupby(['neighbourhood_group', 'room_type']).size()\n",
    "#Create function to plot room type proportion on all region area\n",
    "for region in airbnb.neighbourhood_group.unique():\n",
    "    \n",
    "    plt.figure(figsize=(24,12))\n",
    "    \n",
    "    airbnb_reg=airbnb_types[region]\n",
    "    labels = airbnb_reg.index\n",
    "    sizes = airbnb_reg.values\n",
    "              \n",
    "    colors = [color_dict[x] for x in labels]\n",
    "    \n",
    "    plot_num = 321\n",
    "    plt.subplot(plot_num)\n",
    "    reg_ch = go.Figure(data = [go.Pie(labels = labels, values = sizes, hole = 0.6)])\n",
    "    reg_ch.update_traces(title = region, marker=dict(colors=colors))\n",
    "    reg_ch.show()\n",
    "    \n",
    "    plot_num += 1"
   ]
  },
  {
   "cell_type": "markdown",
   "id": "e50b6b7b",
   "metadata": {},
   "source": [
    "## Top 10 most reviewed listings\n",
    "We will find out the top 10 listings based on their number of reviews to know the most popular Airbnb listings in Singapore."
   ]
  },
  {
   "cell_type": "code",
   "execution_count": null,
   "id": "478472f1",
   "metadata": {},
   "outputs": [],
   "source": [
    "airbnb.nlargest(10, 'number_of_reviews')"
   ]
  },
  {
   "cell_type": "markdown",
   "id": "c7f9e113",
   "metadata": {},
   "source": [
    "## Average price per night\n",
    "Lastly, we will calculate the average price per night of the 10 most popular listings"
   ]
  },
  {
   "cell_type": "code",
   "execution_count": null,
   "id": "91b4f07c",
   "metadata": {},
   "outputs": [],
   "source": [
    "top_review = airbnb.nlargest(10, 'number_of_reviews')\n",
    "price_avg = top_review.price.mean()\n",
    "print('Average price per night: S$ {}'.format(price_avg))"
   ]
  },
  {
   "cell_type": "code",
   "execution_count": null,
   "id": "9714e29e",
   "metadata": {},
   "outputs": [],
   "source": []
  }
 ],
 "metadata": {
  "kernelspec": {
   "display_name": "Python 3",
   "language": "python",
   "name": "python3"
  },
  "language_info": {
   "codemirror_mode": {
    "name": "ipython",
    "version": 3
   },
   "file_extension": ".py",
   "mimetype": "text/x-python",
   "name": "python",
   "nbconvert_exporter": "python",
   "pygments_lexer": "ipython3",
   "version": "3.8.8"
  }
 },
 "nbformat": 4,
 "nbformat_minor": 5
}
