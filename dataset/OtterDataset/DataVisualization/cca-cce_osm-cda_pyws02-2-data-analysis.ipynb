{
  "cells": [
    {
      "cell_type": "markdown",
      "metadata": {},
      "source": [
        "---\n",
        "execute:\n",
        "  eval: true\n",
        "  echo: true\n",
        "  output: true\n",
        "title: \"result visualizations\"\n",
        "---\n",
        "\n",
        "- example gallery [matplotlib](https://matplotlib.org/stable/gallery/index.html){target=\"_blank\"}\n",
        "- example gallery [seaborn](https://seaborn.pydata.org/examples/index.html){target=\"_blank\"}\n",
        "- example gallery [plotnine](https://plotnine.org/gallery/){target=\"_blank\"}\n",
        "- example gallery [plotly](https://plotly.com/python/){target=\"_blank\"}\n",
        "- example gallery [altair](https://altair-viz.github.io/altair-viz-v4/gallery/index.html){target=\"_blank\"}\n",
        "- download [jupyter notebook](pyws02-2-data-analysis.ipynb)"
      ]
    },
    {
      "cell_type": "code",
      "metadata": {},
      "source": [
        "# run inside google colab\n",
        "!git clone https://github.com/cca-cce/osm-cda.git"
      ],
      "execution_count": null,
      "outputs": []
    },
    {
      "cell_type": "markdown",
      "metadata": {},
      "source": [
        "## seaborn, descriptive "
      ]
    },
    {
      "cell_type": "code",
      "metadata": {},
      "source": [
        "# Import necessary libraries\n",
        "import pandas as pd\n",
        "import seaborn as sns\n",
        "import matplotlib.pyplot as plt"
      ],
      "execution_count": null,
      "outputs": []
    },
    {
      "cell_type": "markdown",
      "metadata": {},
      "source": [
        "In this code chunk, we import the essential Python libraries needed for data manipulation and visualization:\n",
        "\n",
        "- `pandas` is used for handling data structures like DataFrames and provides functions for data manipulation.\n",
        "- `seaborn` is a statistical data visualization library built on top of matplotlib, offering a high-level interface for drawing attractive graphs.\n",
        "- `matplotlib.pyplot` is a collection of functions that make matplotlib work like MATLAB, used here as `plt` for plotting.\n",
        "\n",
        "---"
      ]
    },
    {
      "cell_type": "code",
      "metadata": {},
      "source": [
        "# Load the penguins dataset\n",
        "penguins = sns.load_dataset('penguins')"
      ],
      "execution_count": null,
      "outputs": []
    },
    {
      "cell_type": "markdown",
      "metadata": {},
      "source": [
        "Here, we load the 'penguins' dataset using `seaborn`'s `load_dataset()` function and store it in a pandas DataFrame named `penguins`. This dataset contains measurements for different penguin species, including features like bill length, flipper length, body mass, and more.\n",
        "\n",
        "---"
      ]
    },
    {
      "cell_type": "code",
      "metadata": {},
      "source": [
        "# Set the output file path\n",
        "output_file_path = '/home/sol-nhl/rnd/d/quarto/osm-cda/fig/'"
      ],
      "execution_count": null,
      "outputs": []
    },
    {
      "cell_type": "markdown",
      "metadata": {},
      "source": [
        "This line sets the directory path where the generated plots will be saved. The variable `output_file_path` holds the string representing the file path to ensure all saved figures are organized in the specified location.\n",
        "\n",
        "---"
      ]
    },
    {
      "cell_type": "code",
      "metadata": {},
      "source": [
        "# First plot: Graph two categorical variables\n",
        "# Plot the count of penguins by species and island\n",
        "plt.figure(figsize=(8, 6))\n",
        "sns.countplot(x='species', hue='island', data=penguins)\n",
        "plt.title('Count of Penguin Species by Island')\n",
        "plt.xlabel('Species')\n",
        "plt.ylabel('Count')\n",
        "plt.legend(title='Island')\n",
        "plt.tight_layout()\n",
        "plt.savefig(f'{output_file_path}penguins_species_island.png')\n",
        "plt.savefig(f'{output_file_path}penguins_species_island.pdf')\n",
        "plt.close()"
      ],
      "execution_count": null,
      "outputs": []
    },
    {
      "cell_type": "markdown",
      "metadata": {},
      "source": [
        "In this code chunk, we create a bar plot to visualize the relationship between two categorical variables, `species` and `island`:\n",
        "\n",
        "- `plt.figure(figsize=(8, 6))` initializes a new figure with a specified size.\n",
        "- `sns.countplot()` generates a count plot showing the number of penguins for each species, differentiated by island using the `hue` parameter.\n",
        "- `plt.title()`, `plt.xlabel()`, and `plt.ylabel()` set the plot's title and axis labels.\n",
        "- `plt.legend(title='Island')` adds a legend with the title 'Island' to differentiate categories.\n",
        "- `plt.tight_layout()` adjusts the layout to prevent clipping of labels.\n",
        "- `plt.savefig()` saves the figure in both PNG and PDF formats to the specified output path.\n",
        "- `plt.close()` closes the current figure to free up memory.\n",
        "\n",
        "---"
      ]
    },
    {
      "cell_type": "code",
      "metadata": {},
      "source": [
        "# Second plot: Graph one continuous variable by one categorical using simple barplot without error bars\n",
        "# Plot the average body mass by species\n",
        "plt.figure(figsize=(8, 6))\n",
        "sns.barplot(x='species', y='body_mass_g', data=penguins, ci=None)\n",
        "plt.title('Average Body Mass by Species')\n",
        "plt.xlabel('Species')\n",
        "plt.ylabel('Body Mass (g)')\n",
        "plt.tight_layout()\n",
        "plt.savefig(f'{output_file_path}penguins_body_mass_species.png')\n",
        "plt.savefig(f'{output_file_path}penguins_body_mass_species.pdf')\n",
        "plt.close()"
      ],
      "execution_count": null,
      "outputs": []
    },
    {
      "cell_type": "markdown",
      "metadata": {},
      "source": [
        "This chunk generates a bar plot to visualize a continuous variable (`body_mass_g`) against a categorical variable (`species`):\n",
        "\n",
        "- `sns.barplot()` creates a bar plot showing the average body mass for each species. Setting `ci=None` removes the error bars (confidence intervals) to display simple bars.\n",
        "- The `plt` functions add a title and axis labels to the plot.\n",
        "- The plot is saved as both PNG and PDF files in the specified directory using `plt.savefig()`.\n",
        "- `plt.close()` closes the figure to free memory.\n",
        "\n",
        "---"
      ]
    },
    {
      "cell_type": "code",
      "metadata": {},
      "source": [
        "# Third plot: Graph two continuous variables\n",
        "# Plot flipper length vs. body mass\n",
        "plt.figure(figsize=(8, 6))\n",
        "sns.scatterplot(x='flipper_length_mm', y='body_mass_g', data=penguins)\n",
        "plt.title('Flipper Length vs. Body Mass')\n",
        "plt.xlabel('Flipper Length (mm)')\n",
        "plt.ylabel('Body Mass (g)')\n",
        "plt.tight_layout()\n",
        "plt.savefig(f'{output_file_path}penguins_flipper_length_body_mass.png')\n",
        "plt.savefig(f'{output_file_path}penguins_flipper_length_body_mass.pdf')\n",
        "plt.close()"
      ],
      "execution_count": null,
      "outputs": []
    },
    {
      "cell_type": "markdown",
      "metadata": {},
      "source": [
        "In the final code chunk, we create a scatter plot to examine the relationship between two continuous variables, `flipper_length_mm` and `body_mass_g`:\n",
        "\n",
        "- `sns.scatterplot()` plots data points representing each penguin's flipper length versus body mass.\n",
        "- Titles and axis labels are added using `plt.title()`, `plt.xlabel()`, and `plt.ylabel()`.\n",
        "- The plot is saved in both PNG and PDF formats using `plt.savefig()`.\n",
        "- `plt.close()` closes the figure to ensure that subsequent plots are not affected by the current figure.\n",
        "\n",
        "---\n",
        "\n",
        "### seaborn, subplots"
      ]
    },
    {
      "cell_type": "code",
      "metadata": {},
      "source": [
        "import seaborn as sns\n",
        "import matplotlib.pyplot as plt\n",
        "import pandas as pd\n",
        "\n",
        "# Load the penguins dataset into a DataFrame\n",
        "df = sns.load_dataset('penguins')\n",
        "\n",
        "# Create a 1 row by 3 columns plot\n",
        "fig, axes = plt.subplots(1, 3, figsize=(18, 5))\n",
        "\n",
        "# Left subplot: Graph two categorical variables (species and island) using a countplot\n",
        "sns.countplot(data=df, x='species', hue='island', ax=axes[0])\n",
        "axes[0].set_title('Count of Species by Island')\n",
        "\n",
        "# Middle subplot: Graph one continuous variable by one categorical using a barplot (without error bars)\n",
        "sns.barplot(data=df, x='species', y='body_mass_g', errorbar=None, ax=axes[1])\n",
        "axes[1].set_title('Average Body Mass by Species')\n",
        "\n",
        "# Right subplot: Graph two continuous variables (flipper_length_mm vs. body_mass_g) using a scatterplot\n",
        "sns.scatterplot(data=df, x='flipper_length_mm', y='body_mass_g', ax=axes[2])\n",
        "axes[2].set_title('Flipper Length vs. Body Mass')\n",
        "\n",
        "# Adjust layout\n",
        "plt.tight_layout()\n",
        "\n",
        "# Output directory\n",
        "output_file_path = '/home/sol-nhl/rnd/d/quarto/osm-cda/fig/'\n",
        "\n",
        "# Save the figure as PNG and PDF\n",
        "fig.savefig(f\"{output_file_path}seaborn_descriptive.png\")\n",
        "fig.savefig(f\"{output_file_path}seaborn_descriptive.pdf\")\n",
        "\n",
        "# Display the plot\n",
        "plt.show()"
      ],
      "execution_count": null,
      "outputs": []
    },
    {
      "cell_type": "markdown",
      "metadata": {},
      "source": [
        "Here is the analysis of the Python code, broken down into separate chunks, with explanations for each step:\n",
        "\n",
        "### 1. Import Libraries"
      ]
    },
    {
      "cell_type": "code",
      "metadata": {},
      "source": [
        "import seaborn as sns\n",
        "import matplotlib.pyplot as plt\n",
        "import pandas as pd"
      ],
      "execution_count": null,
      "outputs": []
    },
    {
      "cell_type": "markdown",
      "metadata": {},
      "source": [
        "**Explanation:**  \n",
        "This step imports the necessary libraries. `seaborn` is used for data visualization, `matplotlib.pyplot` for creating plots, and `pandas` for data manipulation. These libraries provide powerful tools for analyzing and visualizing data in a variety of formats.\n",
        "\n",
        "---\n",
        "\n",
        "### 2. Load the Dataset"
      ]
    },
    {
      "cell_type": "code",
      "metadata": {},
      "source": [
        "df = sns.load_dataset('penguins')"
      ],
      "execution_count": null,
      "outputs": []
    },
    {
      "cell_type": "markdown",
      "metadata": {},
      "source": [
        "**Explanation:**  \n",
        "This line loads the \"penguins\" dataset into a Pandas DataFrame (`df`) using Seaborn's `load_dataset` function. The dataset contains information about penguin species, measurements, and other attributes. By loading it into a DataFrame, you make it easier to perform data analysis and visualizations.\n",
        "\n",
        "---\n",
        "\n",
        "### 3. Create the Plot Figure and Axes"
      ]
    },
    {
      "cell_type": "code",
      "metadata": {},
      "source": [
        "#| eval: false\n",
        "#| echo: true\n",
        "#| output: false\n",
        "\n",
        "fig, axes = plt.subplots(1, 3, figsize=(18, 5))"
      ],
      "execution_count": null,
      "outputs": []
    },
    {
      "cell_type": "markdown",
      "metadata": {},
      "source": [
        "**Explanation:**  \n",
        "This step creates a figure (`fig`) with three subplots (`axes`) arranged in a single row using `plt.subplots()`. The `figsize=(18, 5)` argument specifies the size of the entire plot in inches. This layout allows for multiple visualizations to be displayed side-by-side in one figure.\n",
        "\n",
        "---\n",
        "\n",
        "### 4. Create the Left Subplot"
      ]
    },
    {
      "cell_type": "code",
      "metadata": {},
      "source": [
        "sns.countplot(data=df, x='species', hue='island', ax=axes[0])\n",
        "axes[0].set_title('Count of Species by Island')"
      ],
      "execution_count": null,
      "outputs": []
    },
    {
      "cell_type": "markdown",
      "metadata": {},
      "source": [
        "**Explanation:**  \n",
        "This block creates a count plot using Seaborn's `countplot()` function, displaying the number of penguins by species with a hue for the `island` column. The plot is assigned to the first subplot (`axes[0]`). The `set_title()` method adds a title to this subplot, making it easier to interpret.\n",
        "\n",
        "---\n",
        "\n",
        "### 5. Create the Middle Subplot"
      ]
    },
    {
      "cell_type": "code",
      "metadata": {},
      "source": [
        "sns.barplot(data=df, x='species', y='body_mass_g', errorbar=None, ax=axes[1])\n",
        "axes[1].set_title('Average Body Mass by Species')"
      ],
      "execution_count": null,
      "outputs": []
    },
    {
      "cell_type": "markdown",
      "metadata": {},
      "source": [
        "**Explanation:**  \n",
        "This block generates a bar plot that shows the average body mass (`body_mass_g`) for each penguin species using `sns.barplot()`. The `errorbar=None` argument ensures that no error bars are displayed. The plot is assigned to the second subplot (`axes[1]`), and a title is set for clarity.\n",
        "\n",
        "---\n",
        "\n",
        "### 6. Create the Right Subplot"
      ]
    },
    {
      "cell_type": "code",
      "metadata": {},
      "source": [
        "sns.scatterplot(data=df, x='flipper_length_mm', y='body_mass_g', ax=axes[2])\n",
        "axes[2].set_title('Flipper Length vs. Body Mass')"
      ],
      "execution_count": null,
      "outputs": []
    },
    {
      "cell_type": "markdown",
      "metadata": {},
      "source": [
        "**Explanation:**  \n",
        "Here, a scatter plot is created using `sns.scatterplot()` to show the relationship between `flipper_length_mm` (x-axis) and `body_mass_g` (y-axis). This plot is added to the third subplot (`axes[2]`). The title provides context for what the plot represents.\n",
        "\n",
        "---\n",
        "\n",
        "### 7. Adjust the Layout"
      ]
    },
    {
      "cell_type": "code",
      "metadata": {},
      "source": [
        "plt.tight_layout()"
      ],
      "execution_count": null,
      "outputs": []
    },
    {
      "cell_type": "markdown",
      "metadata": {},
      "source": [
        "**Explanation:**  \n",
        "This line adjusts the layout of the subplots to ensure they do not overlap. `plt.tight_layout()` automatically adjusts the spacing between subplots to make the figure look cleaner and more readable.\n",
        "\n",
        "---\n",
        "\n",
        "### 8. Define the Output Directory and Save the Figure"
      ]
    },
    {
      "cell_type": "code",
      "metadata": {},
      "source": [
        "output_file_path = '/home/sol-nhl/rnd/d/quarto/osm-cda/fig/'\n",
        "\n",
        "fig.savefig(f\"{output_file_path}seaborn_descriptive.png\")\n",
        "fig.savefig(f\"{output_file_path}seaborn_descriptive.pdf\")"
      ],
      "execution_count": null,
      "outputs": []
    },
    {
      "cell_type": "markdown",
      "metadata": {},
      "source": [
        "**Explanation:**  \n",
        "The `output_file_path` variable defines the directory where the plots will be saved. The `fig.savefig()` method saves the entire figure in both PNG and PDF formats to the specified directory. This allows you to keep a copy of the visualizations for future reference or inclusion in reports.\n",
        "\n",
        "---\n",
        "\n",
        "### 9. Display the Plot"
      ]
    },
    {
      "cell_type": "code",
      "metadata": {},
      "source": [
        "plt.show()"
      ],
      "execution_count": null,
      "outputs": []
    },
    {
      "cell_type": "markdown",
      "metadata": {},
      "source": [
        "**Explanation:**  \n",
        "This line displays the figure with all three subplots in an interactive window (or inline if using a Jupyter notebook). This command is necessary to visualize the plots when running the script in an environment that supports graphical output.\n",
        "\n",
        "## seaborn, inferential "
      ]
    },
    {
      "cell_type": "code",
      "metadata": {},
      "source": [
        "import seaborn as sns\n",
        "import matplotlib.pyplot as plt\n",
        "import pandas as pd\n",
        "\n",
        "# Read the penguins dataset into a pandas DataFrame\n",
        "df = sns.load_dataset('penguins')\n",
        "\n",
        "# Create a color palette for species\n",
        "species_list = df['species'].dropna().unique()\n",
        "palette = sns.color_palette('Set1', n_colors=len(species_list))\n",
        "species_palette = dict(zip(species_list, palette))\n",
        "\n",
        "# Create a 1 row by 3 columns plot\n",
        "fig, axes = plt.subplots(1, 3, figsize=(18, 5))\n",
        "\n",
        "# Left subplot: Barplot of two categorical variables with error bars (species by island)\n",
        "sns.barplot(data=df, x='species', y='body_mass_g', hue='island', errorbar='sd', palette=palette, ax=axes[0])\n",
        "axes[0].set_title('Body Mass by Species and Island')\n",
        "\n",
        "# Middle subplot: Boxplot of one continuous variable by one categorical (body_mass_g by species)\n",
        "sns.boxplot(data=df, x='species', y='body_mass_g', hue='species', palette=palette, ax=axes[1], legend=False)\n",
        "axes[1].set_title('Body Mass Distribution by Species')\n",
        "\n",
        "# Right subplot: Scatterplot with linear regression lines and confidence intervals differentiated by species\n",
        "sns.scatterplot(data=df, x='flipper_length_mm', y='body_mass_g', hue='species', palette=species_palette, ax=axes[2])\n",
        "\n",
        "# Add linear regression lines for each species\n",
        "for species, color in species_palette.items():\n",
        "    sns.regplot(\n",
        "        data=df[df['species'] == species],\n",
        "        x='flipper_length_mm',\n",
        "        y='body_mass_g',\n",
        "        ax=axes[2],\n",
        "        scatter=False,\n",
        "        label=species,\n",
        "        ci=95,\n",
        "        line_kws={'color': color},\n",
        "    )\n",
        "\n",
        "axes[2].legend()\n",
        "axes[2].set_title('Flipper Length vs. Body Mass by Species (Linear Regression)')\n",
        "\n",
        "# Adjust layout\n",
        "plt.tight_layout()\n",
        "\n",
        "# Save the figure as PNG and PDF\n",
        "output_file_path = '/home/sol-nhl/rnd/d/quarto/osm-cda/fig/'\n",
        "fig.savefig(f\"{output_file_path}seaborn_inferential.png\")\n",
        "fig.savefig(f\"{output_file_path}seaborn_inferential.pdf\")\n",
        "\n",
        "# Display the plot\n",
        "plt.show()"
      ],
      "execution_count": null,
      "outputs": []
    },
    {
      "cell_type": "markdown",
      "metadata": {},
      "source": [
        "Here is an analysis of the Python code, broken down into separate chunks, followed by explanations for each step:\n",
        "\n",
        "### 1. Import Libraries"
      ]
    },
    {
      "cell_type": "code",
      "metadata": {},
      "source": [
        "import seaborn as sns\n",
        "import matplotlib.pyplot as plt\n",
        "import pandas as pd"
      ],
      "execution_count": null,
      "outputs": []
    },
    {
      "cell_type": "markdown",
      "metadata": {},
      "source": [
        "**Explanation:**  \n",
        "This step imports the necessary libraries: `seaborn` for statistical data visualization, `matplotlib.pyplot` for plotting, and `pandas` for data manipulation. Importing these libraries allows access to their functions, which are used for loading datasets, creating plots, and saving figures.\n",
        "\n",
        "---\n",
        "\n",
        "### 2. Load the Penguins Dataset"
      ]
    },
    {
      "cell_type": "code",
      "metadata": {},
      "source": [
        "df = sns.load_dataset('penguins')"
      ],
      "execution_count": null,
      "outputs": []
    },
    {
      "cell_type": "markdown",
      "metadata": {},
      "source": [
        "**Explanation:**  \n",
        "This line loads the \"penguins\" dataset into a Pandas DataFrame (`df`) using the Seaborn library's `load_dataset` function. The dataset contains information on penguin species, measurements (e.g., body mass, flipper length), and habitat. Loading the data into a DataFrame enables easier manipulation and visualization of the dataset.\n",
        "\n",
        "---\n",
        "\n",
        "### 3. Create a Color Palette for Species"
      ]
    },
    {
      "cell_type": "code",
      "metadata": {},
      "source": [
        "species_list = df['species'].dropna().unique()\n",
        "palette = sns.color_palette('Set1', n_colors=len(species_list))\n",
        "species_palette = dict(zip(species_list, palette))"
      ],
      "execution_count": null,
      "outputs": []
    },
    {
      "cell_type": "markdown",
      "metadata": {},
      "source": [
        "**Explanation:**  \n",
        "This chunk creates a color palette to differentiate penguin species in the plots:\n",
        "1. **`species_list`** extracts unique species names from the `species` column, excluding any missing values.\n",
        "2. **`palette`** generates a color palette using Seaborn's `Set1` palette with a number of colors equal to the number of species.\n",
        "3. **`species_palette`** creates a dictionary mapping each species to a specific color, enabling consistent coloring across multiple plots.\n",
        "\n",
        "---\n",
        "\n",
        "### 4. Create a 1x3 Plot Grid"
      ]
    },
    {
      "cell_type": "code",
      "metadata": {},
      "source": [
        "#| eval: false\n",
        "#| echo: true\n",
        "#| output: false\n",
        "\n",
        "fig, axes = plt.subplots(1, 3, figsize=(18, 5))"
      ],
      "execution_count": null,
      "outputs": []
    },
    {
      "cell_type": "markdown",
      "metadata": {},
      "source": [
        "**Explanation:**  \n",
        "This line creates a figure with a grid of subplots arranged in one row and three columns using `matplotlib`. The `figsize` parameter sets the overall dimensions of the figure to 18 inches in width and 5 inches in height. The returned `axes` array will be used to plot the individual subplots.\n",
        "\n",
        "---\n",
        "\n",
        "### 5. Create the Bar Plot (Left Subplot)"
      ]
    },
    {
      "cell_type": "code",
      "metadata": {},
      "source": [
        "sns.barplot(data=df, x='species', y='body_mass_g', hue='island', errorbar='sd', palette=palette, ax=axes[0])\n",
        "axes[0].set_title('Body Mass by Species and Island')"
      ],
      "execution_count": null,
      "outputs": []
    },
    {
      "cell_type": "markdown",
      "metadata": {},
      "source": [
        "**Explanation:**  \n",
        "This block creates a bar plot in the leftmost subplot (`axes[0]`):\n",
        "- Uses `sns.barplot()` to plot `body_mass_g` (y-axis) for each `species` (x-axis), separated by `island` (hue).\n",
        "- The `errorbar='sd'` parameter adds standard deviation error bars to each bar.\n",
        "- `palette` specifies the color scheme, while `ax=axes[0]` assigns the plot to the first subplot.\n",
        "- The `set_title()` method sets the title of the subplot.\n",
        "\n",
        "---\n",
        "\n",
        "### 6. Create the Box Plot (Middle Subplot)"
      ]
    },
    {
      "cell_type": "code",
      "metadata": {},
      "source": [
        "sns.boxplot(data=df, x='species', y='body_mass_g', hue='species', palette=palette, ax=axes[1], legend=False)\n",
        "axes[1].set_title('Body Mass Distribution by Species')"
      ],
      "execution_count": null,
      "outputs": []
    },
    {
      "cell_type": "markdown",
      "metadata": {},
      "source": [
        "**Explanation:**  \n",
        "This block creates a box plot in the middle subplot (`axes[1]`):\n",
        "- `sns.boxplot()` displays the distribution of `body_mass_g` for each `species`.\n",
        "- The `hue='species'` parameter assigns different colors to each species, using the same `palette`.\n",
        "- `legend=False` suppresses the legend for this plot to avoid redundancy.\n",
        "- The plot is assigned to the second subplot (`ax=axes[1]`), and `set_title()` adds a title to the plot.\n",
        "\n",
        "---\n",
        "\n",
        "### 7. Create the Scatter Plot with Regression Lines (Right Subplot)"
      ]
    },
    {
      "cell_type": "code",
      "metadata": {},
      "source": [
        "sns.scatterplot(data=df, x='flipper_length_mm', y='body_mass_g', hue='species', palette=species_palette, ax=axes[2])"
      ],
      "execution_count": null,
      "outputs": []
    },
    {
      "cell_type": "markdown",
      "metadata": {},
      "source": [
        "**Explanation:**  \n",
        "This line creates a scatter plot in the rightmost subplot (`axes[2]`):\n",
        "- `sns.scatterplot()` plots `flipper_length_mm` (x-axis) against `body_mass_g` (y-axis) for each species.\n",
        "- The `hue='species'` parameter color-codes the scatter points according to species using the previously defined `species_palette`.\n",
        "- `ax=axes[2]` places this plot in the third subplot.\n",
        "\n",
        "---\n",
        "\n",
        "### 8. Add Linear Regression Lines for Each Species"
      ]
    },
    {
      "cell_type": "code",
      "metadata": {},
      "source": [
        "for species, color in species_palette.items():\n",
        "    sns.regplot(\n",
        "        data=df[df['species'] == species],\n",
        "        x='flipper_length_mm',\n",
        "        y='body_mass_g',\n",
        "        ax=axes[2],\n",
        "        scatter=False,\n",
        "        label=species,\n",
        "        ci=95,\n",
        "        line_kws={'color': color},\n",
        "    )"
      ],
      "execution_count": null,
      "outputs": []
    },
    {
      "cell_type": "markdown",
      "metadata": {},
      "source": [
        "**Explanation:**  \n",
        "This block adds linear regression lines to the scatter plot for each species:\n",
        "- Iterates through the `species_palette` dictionary to plot a separate regression line for each species.\n",
        "- `sns.regplot()` fits a linear regression line with confidence intervals (`ci=95`), using `scatter=False` to suppress additional scatter points.\n",
        "- `line_kws={'color': color}` sets the color of the line to match the scatter plot dots.\n",
        "- Each line is labeled with the species name for legend purposes.\n",
        "\n",
        "---\n",
        "\n",
        "### 9. Add Legend and Title for the Right Subplot"
      ]
    },
    {
      "cell_type": "code",
      "metadata": {},
      "source": [
        "axes[2].legend()\n",
        "axes[2].set_title('Flipper Length vs. Body Mass by Species (Linear Regression)')"
      ],
      "execution_count": null,
      "outputs": []
    },
    {
      "cell_type": "markdown",
      "metadata": {},
      "source": [
        "**Explanation:**  \n",
        "This block adds a legend to the rightmost subplot (`axes[2]`) to indicate which color corresponds to each species. It also sets the title of the subplot for better context.\n",
        "\n",
        "---\n",
        "\n",
        "### 10. Adjust Layout"
      ]
    },
    {
      "cell_type": "code",
      "metadata": {},
      "source": [
        "plt.tight_layout()"
      ],
      "execution_count": null,
      "outputs": []
    },
    {
      "cell_type": "markdown",
      "metadata": {},
      "source": [
        "**Explanation:**  \n",
        "This line adjusts the spacing between subplots to prevent overlap and ensure a clean, organized layout. `plt.tight_layout()` automatically manages the subplot parameters for a visually appealing output.\n",
        "\n",
        "---\n",
        "\n",
        "### 11. Save the Figure"
      ]
    },
    {
      "cell_type": "code",
      "metadata": {},
      "source": [
        "output_file_path = '/home/sol-nhl/rnd/d/quarto/osm-cda/fig/'\n",
        "fig.savefig(f\"{output_file_path}penguins_inferential_statistics_linear.png\")\n",
        "fig.savefig(f\"{output_file_path}penguins_inferential_statistics_linear.pdf\")"
      ],
      "execution_count": null,
      "outputs": []
    },
    {
      "cell_type": "markdown",
      "metadata": {},
      "source": [
        "**Explanation:**  \n",
        "This block saves the figure in both PNG and PDF formats to the specified directory (`output_file_path`). The `fig.savefig()` method captures the entire figure, including all subplots, and writes it to the desired file format.\n",
        "\n",
        "---\n",
        "\n",
        "### 12. Display the Plot"
      ]
    },
    {
      "cell_type": "code",
      "metadata": {},
      "source": [
        "plt.show()"
      ],
      "execution_count": null,
      "outputs": []
    },
    {
      "cell_type": "markdown",
      "metadata": {},
      "source": [
        "**Explanation:**  \n",
        "This line displays the generated figure with all three subplots. It is especially useful when running the script in an interactive environment (e.g., Jupyter notebooks) to visualize the plot output.\n",
        "\n",
        "## plotnine, inferential "
      ]
    },
    {
      "cell_type": "code",
      "metadata": {},
      "source": [
        "# Import necessary libraries\n",
        "import polars as pl\n",
        "from plotnine import *\n",
        "import seaborn as sns"
      ],
      "execution_count": null,
      "outputs": []
    },
    {
      "cell_type": "markdown",
      "metadata": {},
      "source": [
        "In this code chunk, we import the required Python libraries:\n",
        "\n",
        "- `polars` as `pl`: Polars is a high-performance DataFrame library for data manipulation, similar to pandas but optimized for speed.\n",
        "- `plotnine`: A grammar of graphics plotting library for Python, inspired by ggplot2 in R. We import all functions and classes from `plotnine` for plotting.\n",
        "- `seaborn` as `sns`: We use seaborn to load the built-in 'penguins' dataset into a pandas DataFrame.\n",
        "\n",
        "---"
      ]
    },
    {
      "cell_type": "code",
      "metadata": {},
      "source": [
        "# Load the penguins dataset into a polars DataFrame\n",
        "penguins_pd = sns.load_dataset('penguins')\n",
        "penguins = pl.from_pandas(penguins_pd)"
      ],
      "execution_count": null,
      "outputs": []
    },
    {
      "cell_type": "markdown",
      "metadata": {},
      "source": [
        "Here, we load the 'penguins' dataset using seaborn's `load_dataset()` function, which returns a pandas DataFrame (`penguins_pd`). We then convert this pandas DataFrame into a polars DataFrame (`penguins`) using `pl.from_pandas()`. This allows us to leverage polars' efficient data manipulation capabilities.\n",
        "\n",
        "---"
      ]
    },
    {
      "cell_type": "code",
      "metadata": {},
      "source": [
        "# Set the output file path\n",
        "output_file_path = '/home/sol-nhl/rnd/d/quarto/osm-cda/fig/'"
      ],
      "execution_count": null,
      "outputs": []
    },
    {
      "cell_type": "markdown",
      "metadata": {},
      "source": [
        "This line sets the directory path where the generated plots will be saved. The variable `output_file_path` holds the string representing the file path to ensure all saved figures are organized in the specified location.\n",
        "\n",
        "---"
      ]
    },
    {
      "cell_type": "code",
      "metadata": {},
      "source": [
        "# Convert polars DataFrame back to pandas for plotting with plotnine\n",
        "penguins_df = penguins.to_pandas()"
      ],
      "execution_count": null,
      "outputs": []
    },
    {
      "cell_type": "markdown",
      "metadata": {},
      "source": [
        "Since `plotnine` works with pandas DataFrames, we convert the polars DataFrame back to a pandas DataFrame using the `to_pandas()` method, storing it in `penguins_df`. This allows us to use `plotnine` for creating the plots.\n",
        "\n",
        "---"
      ]
    },
    {
      "cell_type": "code",
      "metadata": {},
      "source": [
        "# First plot: Graph two categorical variables as barplots with error bars\n",
        "# Calculate counts and proportions\n",
        "counts = penguins_df.groupby(['species', 'island']).size().reset_index(name='count')\n",
        "total_counts = counts.groupby('species')['count'].transform('sum')\n",
        "counts['proportion'] = counts['count'] / total_counts\n",
        "counts['se'] = (counts['proportion'] * (1 - counts['proportion']) / total_counts) ** 0.5"
      ],
      "execution_count": null,
      "outputs": []
    },
    {
      "cell_type": "markdown",
      "metadata": {},
      "source": [
        "In this code chunk, we prepare the data for the first plot:\n",
        "\n",
        "- We group the data by 'species' and 'island' and count the number of observations in each group using `groupby()` and `size()`.\n",
        "- We reset the index to turn the grouped data into a DataFrame with `reset_index()`, naming the count column as 'count'.\n",
        "- We calculate the total counts for each species using `groupby()` and `transform('sum')`.\n",
        "- We compute the proportion of each island within each species group.\n",
        "- We calculate the standard error (`se`) for the proportions using the formula for the standard error of a proportion.\n",
        "\n",
        "---"
      ]
    },
    {
      "cell_type": "code",
      "metadata": {},
      "source": [
        "# Create the bar plot with error bars\n",
        "plot1 = (\n",
        "    ggplot(counts, aes(x='species', y='proportion', fill='island')) +\n",
        "    geom_bar(stat='identity', position='dodge') +\n",
        "    geom_errorbar(aes(ymin='proportion - se', ymax='proportion + se'),\n",
        "                  position=position_dodge(0.9), width=0.25) +\n",
        "    labs(title='Proportion of Penguins by Species and Island',\n",
        "         x='Species', y='Proportion') +\n",
        "    theme_minimal()\n",
        ")"
      ],
      "execution_count": null,
      "outputs": []
    },
    {
      "cell_type": "markdown",
      "metadata": {},
      "source": [
        "Here, we create the first plot using `plotnine`:\n",
        "\n",
        "- We initialize a `ggplot` object with `counts` DataFrame and specify the aesthetics (`aes`), mapping 'species' to the x-axis, 'proportion' to the y-axis, and 'island' to the fill color.\n",
        "- `geom_bar(stat='identity', position='dodge')` creates a bar plot using the actual values of 'proportion' and positions the bars side by side for each species.\n",
        "- `geom_errorbar()` adds error bars to the bars, representing the confidence intervals calculated earlier.\n",
        "- `labs()` sets the title and axis labels of the plot.\n",
        "- `theme_minimal()` applies a minimal theme to the plot for a clean look.\n",
        "\n",
        "---"
      ]
    },
    {
      "cell_type": "code",
      "metadata": {},
      "source": [
        "# Save the first plot\n",
        "plot1.save(filename=f'{output_file_path}penguins_species_island_barplot.png', dpi=300)\n",
        "plot1.save(filename=f'{output_file_path}penguins_species_island_barplot.pdf', dpi=300)"
      ],
      "execution_count": null,
      "outputs": []
    },
    {
      "cell_type": "markdown",
      "metadata": {},
      "source": [
        "This code saves the first plot in both PNG and PDF formats to the specified output directory, with a resolution of 300 dots per inch (dpi).\n",
        "\n",
        "---"
      ]
    },
    {
      "cell_type": "code",
      "metadata": {},
      "source": [
        "# Second plot: Graph one continuous variable by one categorical using boxplot\n",
        "plot2 = (\n",
        "    ggplot(penguins_df, aes(x='species', y='body_mass_g')) +\n",
        "    geom_boxplot() +\n",
        "    labs(title='Body Mass by Species',\n",
        "         x='Species', y='Body Mass (g)') +\n",
        "    theme_minimal()\n",
        ")"
      ],
      "execution_count": null,
      "outputs": []
    },
    {
      "cell_type": "markdown",
      "metadata": {},
      "source": [
        "In the second plot, we create a boxplot to visualize the distribution of the continuous variable 'body_mass_g' across different categories of 'species':\n",
        "\n",
        "- We initialize the `ggplot` object with `penguins_df` and specify the aesthetics.\n",
        "- `geom_boxplot()` creates a boxplot for each species, showing the median, quartiles, and potential outliers.\n",
        "- `labs()` sets the plot title and axis labels.\n",
        "- `theme_minimal()` applies a minimal theme for aesthetics.\n",
        "\n",
        "---"
      ]
    },
    {
      "cell_type": "code",
      "metadata": {},
      "source": [
        "# Save the second plot\n",
        "plot2.save(filename=f'{output_file_path}penguins_body_mass_species_boxplot.png', dpi=300)\n",
        "plot2.save(filename=f'{output_file_path}penguins_body_mass_species_boxplot.pdf', dpi=300)"
      ],
      "execution_count": null,
      "outputs": []
    },
    {
      "cell_type": "markdown",
      "metadata": {},
      "source": [
        "This code saves the second plot in both PNG and PDF formats to the specified directory, ensuring high-quality images for reports or presentations.\n",
        "\n",
        "---"
      ]
    },
    {
      "cell_type": "code",
      "metadata": {},
      "source": [
        "# Third plot: Graph two continuous variables with linear regression line and confidence intervals\n",
        "plot3 = (\n",
        "    ggplot(penguins_df, aes(x='flipper_length_mm', y='body_mass_g')) +\n",
        "    geom_point() +\n",
        "    geom_smooth(method='lm') +\n",
        "    labs(title='Flipper Length vs. Body Mass with Regression Line',\n",
        "         x='Flipper Length (mm)', y='Body Mass (g)') +\n",
        "    theme_minimal()\n",
        ")"
      ],
      "execution_count": null,
      "outputs": []
    },
    {
      "cell_type": "markdown",
      "metadata": {},
      "source": [
        "For the third plot, we create a scatter plot of two continuous variables with a linear regression line:\n",
        "\n",
        "- `geom_point()` plots individual data points of 'flipper_length_mm' vs. 'body_mass_g'.\n",
        "- `geom_smooth(method='lm')` adds a linear regression line with confidence intervals (shaded area), indicating the relationship between the two variables.\n",
        "- `labs()` and `theme_minimal()` are used to set titles and apply a clean theme.\n",
        "\n",
        "---"
      ]
    },
    {
      "cell_type": "code",
      "metadata": {},
      "source": [
        "# Save the third plot\n",
        "plot3.save(filename=f'{output_file_path}penguins_flipper_length_body_mass_regression.png', dpi=300)\n",
        "plot3.save(filename=f'{output_file_path}penguins_flipper_length_body_mass_regression.pdf', dpi=300)"
      ],
      "execution_count": null,
      "outputs": []
    },
    {
      "cell_type": "markdown",
      "metadata": {},
      "source": [
        "Finally, we save the third plot in both PNG and PDF formats to the output directory, completing the data visualization tasks.\n",
        "\n",
        "---\n",
        "\n",
        "In each code chunk, we've carefully explained the purpose and functionality of the Python commands used, ensuring clarity and understanding of the data manipulation and plotting processes.\n",
        "\n",
        "## plotnine, testing"
      ]
    },
    {
      "cell_type": "code",
      "metadata": {},
      "source": [
        "#| eval: true\n",
        "#| echo: true\n",
        "#| output: true\n",
        "\n",
        "# prompt: acquire dataset penguins from seaborn package, read it into a polars dataframe, generate a data analysis pipeline where bill_length is aggregated by species, pipe the aggregated data out to a plotnine bar chart with error bars\n",
        "\n",
        "#!pip install polars plotnine\n",
        "\n",
        "import seaborn as sns\n",
        "import polars as pl\n",
        "from plotnine import *\n",
        "\n",
        "# Load the penguins dataset\n",
        "penguins = sns.load_dataset('penguins')\n",
        "\n",
        "# Convert to a Polars DataFrame\n",
        "df = pl.from_pandas(penguins)\n",
        "\n",
        "# Define the data analysis pipeline\n",
        "(\n",
        "    df\n",
        "    .group_by('species')\n",
        "    .agg([\n",
        "        pl.col('bill_length_mm').mean().alias('mean_bill_length'),\n",
        "        pl.col('bill_length_mm').std().alias('std_bill_length')\n",
        "    ])\n",
        "    .pipe(lambda df: (\n",
        "        ggplot(df, aes(x='species', y='mean_bill_length', fill='species'))\n",
        "        + geom_bar(stat='identity', position='dodge')\n",
        "        + geom_errorbar(aes(ymin='mean_bill_length - std_bill_length', ymax='mean_bill_length + std_bill_length'), width=0.2)\n",
        "        + theme_bw()\n",
        "        + labs(x='Species', y='Mean Bill Length (mm)', title='Mean Bill Length by Species')\n",
        "    ))\n",
        "    .draw()\n",
        ")"
      ],
      "execution_count": null,
      "outputs": []
    }
  ],
  "metadata": {
    "kernelspec": {
      "name": "python3",
      "language": "python",
      "display_name": "Python 3 (ipykernel)",
      "path": "/usr/local/share/jupyter/kernels/python3"
    }
  },
  "nbformat": 4,
  "nbformat_minor": 4
}