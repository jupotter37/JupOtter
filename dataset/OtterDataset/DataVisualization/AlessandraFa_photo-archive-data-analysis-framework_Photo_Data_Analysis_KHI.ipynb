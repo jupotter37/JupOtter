{
 "cells": [
  {
   "cell_type": "markdown",
   "id": "db0d04b8",
   "metadata": {},
   "source": [
    "# Framework for the Analysis of Photographic Archival Data of the Kunsthistorisches Institut in Florenz\n",
    "***"
   ]
  },
  {
   "cell_type": "markdown",
   "id": "ef1b9f59",
   "metadata": {},
   "source": [
    "Welcome to the Jupyter Notebook designed for analyzing data from the collections of the **Photothek of the Kunsthistorisches Institut in Florence (KHI)**. Whether you're an experienced programmer or new to programming languages, this notebook offers a practical toolkit for **exploring datasets** of photo collections and generating **visualizations** to support your research."
   ]
  },
  {
   "cell_type": "markdown",
   "id": "2962270d",
   "metadata": {},
   "source": [
    "Before getting started, take a moment to review the **introductory sections** to familiarize yourself with Jupyter Notebooks and their functionalities."
   ]
  },
  {
   "cell_type": "markdown",
   "id": "e20e80de",
   "metadata": {},
   "source": [
    "With this framework, you have the flexibility to upload your **own dataset** or choose from a selection of **example datasets** provided. Once your data is imported, you can filter and sort it to gain insights into KHI's photographic collections."
   ]
  },
  {
   "cell_type": "markdown",
   "id": "79c731d6",
   "metadata": {},
   "source": [
    "Additionally, you can generate various types of **charts** - including bar, line, pie, and donut charts - to visualize your findings and uncover patterns."
   ]
  },
  {
   "cell_type": "markdown",
   "id": "462b57d4",
   "metadata": {},
   "source": [
    "You have the freedom of **downloading your results** at any time to integrate them into your research workflow. So, let's dive into the data from KHI's Photothek."
   ]
  },
  {
   "cell_type": "markdown",
   "id": "839ee0c8",
   "metadata": {},
   "source": [
    "### About the Photothek of the Kunsthistorisches Institut in Florence"
   ]
  },
  {
   "cell_type": "markdown",
   "id": "4bf6f58f",
   "metadata": {},
   "source": [
    "The <a href=\"https://www.khi.fi.it/en/index.php\" target=\"_blank\">Kunsthistorisches Institut in Florence (KHI)</a> is a leading institution dedicated to the study of **art history**. Situated in Florence, the institute plays a vital role in advancing research and scholarship in the field of art history."
   ]
  },
  {
   "cell_type": "markdown",
   "id": "3440f9a0",
   "metadata": {},
   "source": [
    "As part of its mission to promote academic inquiry and cultural understanding, the KHI houses the <a href=\"https://www.khi.fi.it/en/photothek/index.php\" target=\"_blank\">Photothek</a>, a significant collection of over **630,000 photographs** documenting Italian art from late Antiquity to the modern era. This collection is a valuable resource for scholars and researchers worldwide, providing access to photographs, reproductions, and slides spanning various artistic periods and styles."
   ]
  },
  {
   "cell_type": "markdown",
   "id": "c2948707",
   "metadata": {},
   "source": [
    "Efforts are in progress to **digitize and catalog** the Photothek's collections, making them accessible through the <a href=\"https://photothek.khi.fi.it/\" target=\"_blank\">Digital Photothek</a> platform."
   ]
  },
  {
   "cell_type": "markdown",
   "id": "352ee69f",
   "metadata": {},
   "source": [
    "# Table of contents\n",
    "***"
   ]
  },
  {
   "cell_type": "markdown",
   "id": "a2941105",
   "metadata": {},
   "source": [
    "<ul>\n",
    "    <li><a href='#start'>Getting Started: How to Use This Notebook</a></li>\n",
    "    <li><a href='#jnglossary'>Notebook Glossary</a></li>\n",
    "    <li><a href='#khiglossary'>KHI Data Glossary</a></li>\n",
    "    <li><a href='#preparation'>Setting Up the Environment</a></li>\n",
    "    <li><a href='#upload'>Uploading and Preparing Data</a></li>\n",
    "    <li><a href='#refining'>Refining the Dataset: Applying Filters</a></li>\n",
    "    <li><a href='#sort'>Sorting Your Data</a></li>\n",
    "    <li><a href='#specific'>Get Individual Artwork or Photograph Information</a></li>\n",
    "    <li><a href='#visualization'>Data Visualization Tool</a></li>\n",
    "    <li><a href='#useful'>Helpful Resources and Links</a></li>\n",
    "    <li><a href='#contact'>Contacts</a></li>\n",
    "</ul>"
   ]
  },
  {
   "cell_type": "markdown",
   "id": "882935e2",
   "metadata": {},
   "source": [
    "# Getting Started: How to Use This Notebook<a id='howto'></a>\n",
    "***"
   ]
  },
  {
   "cell_type": "markdown",
   "id": "e952f9c1",
   "metadata": {},
   "source": [
    "Welcome to this interactive data analysis experience!</br>\n",
    "This Jupyter Notebook is designed to help you analyze archival data efficiently, even if you're new to programming. Follow the instructions carefully to execute your analysis. If you want more information on <a href=\"https://docs.jupyter.org/en/latest/#\" target=\"_blank\">what a Jupyter Notebook is</a>, you can visit this link. Here's how to get started:"
   ]
  },
  {
   "cell_type": "markdown",
   "id": "08bc72b9",
   "metadata": {},
   "source": [
    "<h3 style=\"display:inline-block \"><img style=\"display:inline-block; height:24px\" src= 'resources/magn.png' alt='Download icon'> <b>Understanding Jupyter Notebooks:</b></h3></br>"
   ]
  },
  {
   "cell_type": "markdown",
   "id": "ee86c8bc",
   "metadata": {},
   "source": [
    "- Each section in this notebook is contained within a **\"cell\"**. Cells can contain explanatory text (like this), Python code, or both.\n",
    "- To **execute** a cell and see its output, select the cell and press `Shift + Enter` or click on the `Run` button in the menu above.\n",
    "- When you execute a cell, you may notice a **\\* symbol** next to the cell. This indicates that the cell is currently running. Once the cell has finished executing, the * symbol will be **replaced by a number**, which represents the order of execution for that particular cell.\n",
    "- The notebook operates using a computational engine known as a **\"kernel\"**, responsible for executing code and maintaining variable states.\n",
    "- Sometimes it may be necessary to **restart the kernel**, especially if you encounter unexpected behavior or want to clear all previous variable assignments. You can restart the kernel by clicking on the \"Kernel\" menu above and selecting \"Restart Kernel\" or \"Restart & Clear Output\"."
   ]
  },
  {
   "cell_type": "markdown",
   "id": "c47e60ec",
   "metadata": {},
   "source": [
    "<h3 style=\"display:inline-block \"><img style=\"display:inline-block; height:28px\" src= 'resources/interact.png' alt='Download icon'> <b> Interacting with the Notebook:</b></h3></br>"
   ]
  },
  {
   "cell_type": "markdown",
   "id": "98e0048d",
   "metadata": {},
   "source": [
    "- Use the provided cells to **upload** your archival data files (in XML format) using the upload button.\n",
    "- **Run the cells in order** to execute the pre-written code and perform data analysis tasks.\n",
    "- When you execute a cell, the generated results are **temporarily stored** in the notebook. If you wish to try again, edit your input, or change the results, you can **go back and re-execute** the cells at any time."
   ]
  },
  {
   "cell_type": "markdown",
   "id": "e6c77976",
   "metadata": {},
   "source": [
    "<h3 style=\"display:inline-block \"><img style=\"display:inline-block; height:28px\" src= 'resources/download2.png' alt='Download icon'> <b> Download results:</b></h3></br>"
   ]
  },
  {
   "cell_type": "markdown",
   "id": "09a32c22",
   "metadata": {},
   "source": [
    "- This notebook allows you to download the results of your analysis to your device. The data will be saved in **CSV format** (see the Notebook Glossary for more details).\n",
    "- Look for the yellow box to locate the download section for each step of the analysis:\n",
    "<div class=\"alert alert-block alert-warning\"style=\"padding: 6pt !important;\">\n",
    "<p style=\"display:inline-block; font-size:9pt; margin: 0 !important; \"><img style=\"display:inline-block; height:22px\" src= 'resources/download2.png' alt='Download icon'> <b>Download Section</b></p>\n",
    "</div>"
   ]
  },
  {
   "cell_type": "markdown",
   "id": "073b269b",
   "metadata": {},
   "source": [
    "<h3 style=\"display:inline-block \"><img style=\"display:inline-block; height:32px\" src= 'resources/help.png' alt='help icon'> <b> Getting help</b></h3></br>"
   ]
  },
  {
   "cell_type": "markdown",
   "id": "78a8f573",
   "metadata": {},
   "source": [
    "- If you encounter any **issues or have questions**, refer to the explanatory texts, comments, glossary, and links section for clarification.\n",
    "- Feel free to **modify and experiment** with the code to suit your specific research needs. Just be careful when making changes, especially if you're new to coding. Tweaking the code can **affect how it works** and might cause unexpected issues or errors. It's a good idea to save a backup of your notebook before making big changes to avoid any problems with your original work.\n",
    "- For additional assistance or inquiries, please see the <a href=\"#contact\">Contact information</a> section."
   ]
  },
  {
   "cell_type": "markdown",
   "id": "c42bb772",
   "metadata": {},
   "source": [
    "<div class=\"alert alert-block alert-info\">\n",
    "<b>Note:</b> Don't worry about the technical details - simply execute the cells and observe the outputs that are generated. The notebook is designed to handle the computational tasks behind the scenes, allowing you to focus on exploring and interpreting the results.\n",
    "</div>"
   ]
  },
  {
   "cell_type": "markdown",
   "id": "fbf2c438",
   "metadata": {},
   "source": [
    "# Notebook Glossary<a id='jnglossary'></a>\n",
    "***"
   ]
  },
  {
   "cell_type": "markdown",
   "id": "18b58e25",
   "metadata": {},
   "source": [
    "This glossary provides definitions for key terms and concepts commonly used in Jupyter Notebooks and programming. Whether you're new to coding or looking to deepen your understanding, this resource will help clarify important terms you'll encounter while working with notebooks."
   ]
  },
  {
   "cell_type": "markdown",
   "id": "b9ff170b",
   "metadata": {},
   "source": [
    "<a id='cell'></a><b>Cell:</b>\n",
    ">A cell is a container within a Jupyter Notebook where you can write and execute code, display text or include other content like images and multimedia. Each cell can be individually executed to see its output."
   ]
  },
  {
   "cell_type": "markdown",
   "id": "0ab4001a",
   "metadata": {},
   "source": [
    "<a id='exec'></a><b>Execute/Run:</b>\n",
    ">In the context of programming and Jupyter Notebooks, \"execute\" or \"run\" refers to the process of running a cell containing code to perform the actions specified within that code. Pressing Shift+Enter in a Jupyter Notebook or using the \"Run\" button in the notebook interface cell executes the code and displays the output."
   ]
  },
  {
   "cell_type": "markdown",
   "id": "77f8dd20",
   "metadata": {},
   "source": [
    "<b><a id='dataset'></a>Dataset:</b>\n",
    ">A dataset is a collection of organized data used for analysis or research. It consists of structured or semi-structured information presented in a specific format, such as rows and columns. Datasets are important for tasks like analyzing trends, drawing conclusions, and conducting research in various fields."
   ]
  },
  {
   "cell_type": "markdown",
   "id": "8f5e1f54",
   "metadata": {},
   "source": [
    "<b>Python:</b>\n",
    ">Python is a popular programming language known for its simplicity and readability. It is widely used for various purposes, including web development, data analysis, and automation. Python's clear and straightforward syntax makes it beginner-friendly and accessible for people learning to code."
   ]
  },
  {
   "cell_type": "markdown",
   "id": "1a7d978c",
   "metadata": {},
   "source": [
    "<b><a id='string'></a>String:</b>\n",
    ">A string is a sequence of characters enclosed in quotes (e.g., 'hello', \"world\"). Strings are used to represent textual data in programming and can be manipulated using various string operations."
   ]
  },
  {
   "cell_type": "markdown",
   "id": "7ad8b5c4",
   "metadata": {},
   "source": [
    "<b>List:</b>\n",
    ">A list is a data structure that represents an ordered collection of items, where each item can be of any data type (e.g., numbers, strings, other lists). Lists are versatile and widely used for storing and manipulating data."
   ]
  },
  {
   "cell_type": "markdown",
   "id": "dd293cb8",
   "metadata": {},
   "source": [
    "<b><a id='df'></a>DataFrame:</b>\n",
    ">A DataFrame is a two-dimensional tabular data structure in pandas (a Python library for data manipulation and analysis). It consists of rows and columns, where each column can have a different <a href=\"https://docs.python.org/3/library/datatypes.html\" target=\"_blank\">data type</a> (e.g., integer, string, float). DataFrames are widely used for data analysis and manipulation tasks."
   ]
  },
  {
   "cell_type": "markdown",
   "id": "2b189cf4",
   "metadata": {},
   "source": [
    "<b><a id='csv'></a>CSV:</b>\n",
    ">CSV (Comma-Separated Values) is a simple file format used to store tabular data, where each line in the file corresponds to a row of data, and fields are separated by commas. CSV files are commonly used for data exchange between different software applications."
   ]
  },
  {
   "cell_type": "markdown",
   "id": "0c842c91",
   "metadata": {},
   "source": [
    "<b>Library:</b>\n",
    ">In programming, a library refers to a collection of reusable code and functions that can be imported and used in your own programs. Libraries like pandas, matplotlib, and numpy are commonly used in data analysis with Python."
   ]
  },
  {
   "cell_type": "markdown",
   "id": "c1ad8053",
   "metadata": {},
   "source": [
    "<b>Function:</b>\n",
    ">A function is a block of reusable code that performs a specific task. Functions are designed to take inputs (arguments) and produce outputs, allowing you to modularize code and make it more organized and reusable."
   ]
  },
  {
   "cell_type": "markdown",
   "id": "163fbd39",
   "metadata": {},
   "source": [
    "<b>Argument:</b> \n",
    ">An argument (or parameter) is a value passed to a function or method when it is called. Arguments provide input data that the function can operate on, allowing for customization and flexibility in function behavior"
   ]
  },
  {
   "cell_type": "markdown",
   "id": "14dcc87f",
   "metadata": {},
   "source": [
    "<b>Error/Exception:</b>\n",
    ">An error or exception is a problem that occurs during the execution of a program, causing it to behave unexpectedly or fail. Errors can arise due to syntax mistakes, logical errors, or issues with input data. Common examples are syntax errors (e.g., typos in code), runtime errors (e.g., division by zero), or name errors (e.g., referencing undefined variables)."
   ]
  },
  {
   "cell_type": "markdown",
   "id": "6eb66e49",
   "metadata": {},
   "source": [
    "<b><a id='widget'></a>Widget:</b>\n",
    ">A widget in Jupyter Notebook is a graphical tool that allows users to interact with and control elements in the notebook environment. Widgets can be used to input data, make selections, or trigger actions."
   ]
  },
  {
   "cell_type": "markdown",
   "id": "999b3e38",
   "metadata": {},
   "source": [
    "<b><a id='xml'></a>XML:</b>\n",
    ">XML (eXtensible Markup Language) is a markup language that defines a set of rules for encoding documents in a format that is both human-readable and machine-readable. XML uses tags to define the structure and meaning of data elements, making it suitable for representing structured data with nested hierarchies."
   ]
  },
  {
   "cell_type": "markdown",
   "id": "9ff8c602",
   "metadata": {},
   "source": [
    "# KHI Data Glossary<a id='khiglossary'></a>\n",
    "***"
   ]
  },
  {
   "cell_type": "markdown",
   "id": "3e6970d2",
   "metadata": {},
   "source": [
    "Artworks and photographs catalogued by the Kunsthistorisches Institut are described through specific **database fields** that express a particular **feature or detail** of each object. This glossary provides definitions and examples for these terms, helping to clarify the information presented in the dataset."
   ]
  },
  {
   "cell_type": "markdown",
   "id": "1dd73211",
   "metadata": {},
   "source": [
    "**Execute** the next cell by pressing **`Shift + Enter`** and **choose one term** from the menu:"
   ]
  },
  {
   "cell_type": "code",
   "execution_count": null,
   "id": "b6103d53",
   "metadata": {
    "scrolled": true
   },
   "outputs": [],
   "source": [
    "import khi_glossary_widget\n",
    "import module\n",
    "from module import *\n",
    "from khi_glossary_widget import *\n",
    "from IPython.core.display import HTML\n",
    "\n",
    "glossary_dropdown.options = khi_glossary_widget.glossary_list\n",
    "glossary_dropdown.value = glossary_dropdown.options[0]\n",
    "display(glossary_dropdown)"
   ]
  },
  {
   "cell_type": "markdown",
   "id": "76840511",
   "metadata": {},
   "source": [
    "Now, **execute the next cell to view the definition** of the selected term:"
   ]
  },
  {
   "cell_type": "code",
   "execution_count": null,
   "id": "0ac13c45",
   "metadata": {},
   "outputs": [],
   "source": [
    "definitions = show_gloss_term(key= glossary_dropdown.value, term_dict=glossary_dict)\n",
    "display(HTML(definitions))"
   ]
  },
  {
   "cell_type": "markdown",
   "id": "c9d7f08e-e3d9-4f9b-9b68-133f3ace508e",
   "metadata": {},
   "source": [
    "# Setting Up the Environment<a id='preparation'></a>\n",
    "***"
   ]
  },
  {
   "cell_type": "markdown",
   "id": "a75c19f1",
   "metadata": {},
   "source": [
    "The <a href=\"#cell\">cells</a> below are responsible for downloading necessary **libraries** (dependencies) and importing them into our notebook environment. Dependencies are additional pieces of code that provide specific functionality, such as data manipulation, visualization, or analysis tools. The installations will not affect your device, as these  are **temporary** and specific to this notebook session."
   ]
  },
  {
   "cell_type": "markdown",
   "id": "361b4858",
   "metadata": {},
   "source": [
    "When you **<a href=\"#exec\">run these cells</a> by pressing `Shift + Enter`**, the notebook will automatically download the required dependencies if they are not already installed on your system. This process may take a moment, but it ensures that all the tools we need to analyze and work with data are readily available."
   ]
  },
  {
   "cell_type": "markdown",
   "id": "9d6aca3f",
   "metadata": {},
   "source": [
    "Once the dependencies are downloaded and imported, you can proceed with the rest of the notebook.  To check if the installation is done, look for an **asterisk (*)** in the cell's **square brackets [ ]** on its left while it's running. Once finished, you'll see a **number (e.g., [1])**, that conferms the successful installation."
   ]
  },
  {
   "cell_type": "markdown",
   "id": "b81b1dd2",
   "metadata": {},
   "source": [
    "Proceed by **running the next two cells**:"
   ]
  },
  {
   "cell_type": "code",
   "execution_count": null,
   "id": "db84a716",
   "metadata": {
    "scrolled": true
   },
   "outputs": [],
   "source": [
    "!pip install pathlib\n",
    "!pip install numpy\n",
    "!pip install matplotlib\n",
    "!pip install pandas\n",
    "!pip install plotly\n",
    "!pip install seaborn\n",
    "%load_ext autoreload\n",
    "%autoreload 2"
   ]
  },
  {
   "cell_type": "code",
   "execution_count": null,
   "id": "989f89a8",
   "metadata": {},
   "outputs": [],
   "source": [
    "# To prevent SSL certificate failure\n",
    "import os, ssl\n",
    "if (not os.environ.get('PYTHONHTTPSVERIFY', '') and\n",
    "    getattr(ssl, '_create_unverified_context', None)):\n",
    "    ssl._create_default_https_context = ssl._create_unverified_context\n",
    "import pathlib\n",
    "import xml.etree.ElementTree as ET\n",
    "import re\n",
    "from pprint import pprint\n",
    "import codecs\n",
    "import plotly.express as px\n",
    "from resources.PhotoAttributes import PhotoAttributes\n",
    "from resources.dictionaries_file import *\n",
    "from resources.Classes_file import *\n",
    "from Thesis_project_main import *\n",
    "from module import *\n",
    "import numpy\n",
    "import matplotlib.pyplot as plt\n",
    "import seaborn as sns\n",
    "import pandas as pd\n",
    "from pandas.api.types import is_datetime64_any_dtype as is_datetime\n",
    "import ipywidgets as widgets\n",
    "from ipywidgets import HTML\n",
    "from IPython.display import display\n",
    "import base64\n",
    "from ipywidgets import interact, interactive, fixed, interact_manual\n",
    "%run ./resources/dataclasses_creation.py"
   ]
  },
  {
   "cell_type": "markdown",
   "id": "317b450a",
   "metadata": {},
   "source": [
    "# Uploading and Preparing Data<a id='upload'></a>\n",
    "***"
   ]
  },
  {
   "cell_type": "markdown",
   "id": "40f4e3bc",
   "metadata": {},
   "source": [
    "This section allows you to **upload your <a href=\"#xml\">XML file</a>** containing data about the collections of the KHI. If you'd rather use a pre-existing <a href=\"#dataset\">dataset</a>, you can **skip the upload** and continue with the notebook.\n",
    "Otherwise, follow these steps to upload your file:\n",
    "\n",
    "1. Run the following cell.\n",
    "2. Click on the \"Upload\" button that will appear below.\n",
    "3. Choose the **XML file** from your device. You can upload a new file at any time if you wish to change it."
   ]
  },
  {
   "cell_type": "markdown",
   "id": "6f7c300f",
   "metadata": {},
   "source": [
    "<div class=\"alert alert-block alert-info\">\n",
    "    <p><b>Note</b>: Please be aware that Jupyter notebooks have a maximum file size limit, restricting the upload of files larger than 25 MB.</p>\n",
    "</div>"
   ]
  },
  {
   "cell_type": "code",
   "execution_count": null,
   "id": "b179d908",
   "metadata": {},
   "outputs": [],
   "source": [
    "display(upload)"
   ]
  },
  {
   "cell_type": "markdown",
   "id": "d7db97c2",
   "metadata": {},
   "source": [
    "If you prefer, you can explore one of the provided **test files** without the need to upload any additional file. Just run the cell below and choose one file from the dropdown menu, and the test data will load automatically. This way, you can start exploring and analyzing the dataset right away following the notebook's instructions."
   ]
  },
  {
   "cell_type": "markdown",
   "id": "c4bd1a4a",
   "metadata": {},
   "source": [
    "* <b>Photographs of paintings from Kornél Fabriczy's photographic collection:</b> Photograph of paintings from the collection of the art historian Kornél Fabriczy and all photos of the same artworks within the Photothek's archive.(read more about <a href=\"http://artchives.fondazionezeri.unibo.it/historian-Q995470\" target=\"_blank\">Kornél Fabriczy</a> and the \"<a href=\"http://artchives.fondazionezeri.unibo.it/collection-1594141385-08\" target=\"_blank\">Nachlass Cornelius von Fabriczy</a>\" on the ArtChives project website)\n",
    "* <b>Photographs by Hilde Lotz-Bauer</b>: the collection of photographs by the German art historian and photographer Hilde Lotz-Bauer and all photos of the same subjects within the Photothek's archive. A selection of the photograph were the object of the recent exhibition <a href=\"https://www.khi.fi.it/en/aktuelles/ausstellungen/20240117_hilde-in-italia.php\" target=\"_blank\">Hilde in Italia. Arte e vita nelle fotografie di Hilde Lotz-Bauer</a>, while the Digital Photothek of the Kunsthistorisches Institut features an <a href=\"https://photothek.khi.fi.it/documents/oau/00000195\" target=\"_blank\">online exhibition</a> of Lotz-Bauer's photographs.\n",
    "* <b>Candido Verri's photographs</b>: A photographic collection including photos of the photographer Verri, as well as all photos of the same artworks within the Photothek's archive.\n"
   ]
  },
  {
   "cell_type": "markdown",
   "id": "3b108c98",
   "metadata": {},
   "source": [
    "<div class=\"alert alert-block alert-info\">\n",
    "    <p><b>Note</b>: Each dataset contains photos from the respective collection along with photos from the archive depicting the same artworks.</p>\n",
    "</div>"
   ]
  },
  {
   "cell_type": "code",
   "execution_count": null,
   "id": "b432558e",
   "metadata": {
    "scrolled": true
   },
   "outputs": [],
   "source": [
    "input_file_dropdown"
   ]
  },
  {
   "cell_type": "markdown",
   "id": "29345dd7-1d3d-4b03-99de-fcbccd669e9d",
   "metadata": {},
   "source": [
    "**Execute the following cell** by pressing `Shift + Enter` to decode your data and save the content in a text file. This file will be used for the next steps of the analysis. If you wish to change the dataset, go back to the previous cell, select a different dataset, and re-run the following cell. You can also restart the kernel and proceed with the analysis from the beginning."
   ]
  },
  {
   "cell_type": "code",
   "execution_count": null,
   "id": "5bcbce67",
   "metadata": {
    "scrolled": false
   },
   "outputs": [],
   "source": [
    "try:\n",
    "    if upload.value and len(upload.value) > 0 and upload.value[0] is not None:\n",
    "        uploaded_file = upload.value[0]\n",
    "        codecs.decode(uploaded_file.content, encoding=\"windows-1252\")\n",
    "        with open(\"./saved-output.txt\", \"wb\") as fp:\n",
    "            fp.write(uploaded_file.content)\n",
    "        print('Your file has been uploaded successfully!')\n",
    "    elif input_file_dropdown.value != '':\n",
    "        with open(f\"{input_file_dropdown.value}\", \"rb\") as testfile:\n",
    "            uploaded_file = testfile.read()\n",
    "            codecs.decode(uploaded_file, encoding=\"windows-1252\")\n",
    "            with open(\"./saved-output.txt\", \"wb\") as fp:\n",
    "                fp.write(uploaded_file)\n",
    "        print('You can start exploring the test file!')\n",
    "    else:\n",
    "        print(\"Error: Please upload an XML file or choose a test file and try again.\")\n",
    "except IndexError:\n",
    "    print(\"Error: Please upload an XML file or choose a test file and try again.\")\n",
    "\n",
    "photos_collection = functions_for_KHI_data_extraction.get_dataframe(\"./saved-output.txt\")"
   ]
  },
  {
   "cell_type": "markdown",
   "id": "ba9a7440",
   "metadata": {},
   "source": [
    "### Dataset description"
   ]
  },
  {
   "cell_type": "markdown",
   "id": "eaaeeae1-99b1-4382-9967-4ff618366d74",
   "metadata": {},
   "source": [
    "Execute the cell below to view a brief <b>description of the dataset</b> you're going to explore.  Please note that loading this cell may take some time, depending on the file size. Note that you can get the description of any DataFrame by pasting `\".get_dataset_description()\"` after the DataFrame name and executing the cell. Note that the number of photos corresponds to the number of rows in the DataFrame."
   ]
  },
  {
   "cell_type": "code",
   "execution_count": null,
   "id": "5ab7963a",
   "metadata": {},
   "outputs": [],
   "source": [
    "# Execute this cell to get a description of the dataset content.\n",
    "print(photos_collection.get_dataset_description())"
   ]
  },
  {
   "cell_type": "markdown",
   "id": "e27c798a",
   "metadata": {},
   "source": [
    "### Overview of your dataset"
   ]
  },
  {
   "cell_type": "markdown",
   "id": "b9d84712",
   "metadata": {},
   "source": [
    "Execute the following cell to get an overview of your dataset. The data will be presented within a <a href=\"#df\">**DataFrame**</a>, which is a structured way to organize and manipulate tabular data in computer programming and data analysis, particularly with large datasets. In this DataFrame:\n",
    "\n",
    "- Each **row** represents an individual entry or record in your dataset.\n",
    "- Each **column** represents a specific type of information, specified in the column name.\n",
    "\n",
    "DataFrames let you organize, explore, and manipulate data easily, allowing tasks such as **filtering**, **sorting**, and **summarizing data**. You can also perform statistical analysis, create visualizations, and prepare data for machine learning models using DataFrames in Python and other programming languages. \n",
    "\n"
   ]
  },
  {
   "cell_type": "code",
   "execution_count": null,
   "id": "bc6a1acc",
   "metadata": {
    "scrolled": true
   },
   "outputs": [],
   "source": [
    "# The dataframe \"photos_dataframe\" also includes entries of the photographs' digital version. \n",
    "photos_dataframe = photos_collection.dataframe\n",
    "\n",
    "# The dataframe \"photos_dataframe_no_digital\" excludes entries of digital photos.\n",
    "# If you prefer not to include data about digital versions of photographs in your results,\n",
    "# this dataframe will provide more accurate outcomes for your analysis\n",
    "photos_dataframe_no_digital = photos_collection.dataframe_no_scan\n",
    "photos_dataframe_no_digital = photos_dataframe_no_digital.set_index('Photo_ID')\n",
    "\n",
    "# Display the first 100 rows of the dataset\n",
    "display(photos_dataframe_no_digital.head(100).style.set_sticky(axis=\"index\"))"
   ]
  },
  {
   "cell_type": "markdown",
   "id": "e8449149",
   "metadata": {},
   "source": [
    "<div class=\"alert alert-block alert-warning\">\n",
    "<p style=\"display:inline-block \"><img style=\"display:inline-block; height:22px\" src= 'resources/download2.png' alt='Download icon'> <b>Download Section</b></p>\n",
    "</div>"
   ]
  },
  {
   "cell_type": "markdown",
   "id": "b1e9a063",
   "metadata": {},
   "source": [
    "Notice that only the first 100 rows of the DataFrame are shown above. If you want to see the whole DataFrame or work with it outside of this notebook, you can <b>download your table as <a href='#csv'>CSV</a> file</b>\n",
    "\n",
    "- Run the cell below.\n",
    "- Click on the download button below. The download should start immediately."
   ]
  },
  {
   "cell_type": "code",
   "execution_count": null,
   "id": "5b807f5f",
   "metadata": {},
   "outputs": [],
   "source": [
    "try:\n",
    "    res_start = photos_dataframe_no_digital.to_csv()\n",
    "    #File\n",
    "    filename_start = 'photo_collection_data.csv'\n",
    "    b64_start = base64.b64encode(res_start.encode())\n",
    "    payload_start = b64_start.decode()\n",
    "except NameError:\n",
    "    print('Your file is empty. Check the previous cells and try again.')\n",
    "\n",
    "\n",
    "#Display download button\n",
    "try:\n",
    "    html_button = html_buttons.format(payload=payload_start,filename=filename_start)\n",
    "    display(HTML(html_button))\n",
    "except NameError:\n",
    "    print('')"
   ]
  },
  {
   "cell_type": "markdown",
   "id": "78e6e2fc",
   "metadata": {},
   "source": [
    "<div class=\"alert alert-block alert-info\">\n",
    "<b>Note:</b> You can change the file name by replacing the <a href='#string'>string</a> \"photos_data_table.csv\" within brackets.</br>You can explore the documentation on the pandas.DataFrame.to_csv() download method here: <a href=\"https://pandas.pydata.org/pandas-docs/stable/reference/api/pandas.DataFrame.to_csv.html\" target=\"_blank\">pandas.Dataframe.to_csv()</a> (official documentation).</div>"
   ]
  },
  {
   "cell_type": "markdown",
   "id": "c9bdae34",
   "metadata": {},
   "source": [
    "# Refining the Dataset: Applying  Filters <a id='refining'></a>\n",
    "***"
   ]
  },
  {
   "cell_type": "markdown",
   "id": "7481e841",
   "metadata": {},
   "source": [
    "DataFrames are a powerful data structure that allow easy manipulation and filtering of data. In this section, you can **filter the dataset** by specifying a search text and the column in which you want to perform the search. In this section you can filter the initial dataset with the following methods:\n",
    "* **Filter by any column**: Choose a column from the DataFrame and input a search text to filter. If you need clarification on the content of each column, check the <a href='#khiglossary'>KHI Dataset Glossary</a>.\n",
    "* **Filter by year range**: Select date-related columns and input a start and end year to filter results within that range.\n",
    "* **Filter by year and operator**: Choose date-related columns, input a year, and select an operator to filter results falling before, after, or exactly in that year."
   ]
  },
  {
   "cell_type": "markdown",
   "id": "d22915b5-d526-44a8-a1ad-b04ff17ab20d",
   "metadata": {},
   "source": [
    "Each filter section generates a new DataFrame. Applying all three filters will produce three DataFrames referenced as `DF1`, `DF2`, `DF3`. You can later select each DataFrame in the <a href=\"#visualization\">Data Visualization Tool</a> to view and compare your results.\n",
    "Remember, you can always **go back and modify the filter inputs**. When you re-execute the cell with the new inputs, previous results will be overwritten with updated data based on the new search criteria."
   ]
  },
  {
   "cell_type": "markdown",
   "id": "79ad1659",
   "metadata": {},
   "source": [
    "<div class=\"alert alert-block alert-info\">\n",
    "<b>Note:</b> The KHI dataset is typically in German, as German is the default language used for photo cataloguing within the KHI.\n",
    "</div>"
   ]
  },
  {
   "cell_type": "markdown",
   "id": "87fef4c3-bda8-4caa-96b9-5a486f702fe3",
   "metadata": {},
   "source": [
    "\n",
    "### Filter by any column"
   ]
  },
  {
   "cell_type": "markdown",
   "id": "cb34b7ed-0a31-47e3-ac55-30d23d75d955",
   "metadata": {},
   "source": [
    "* Execute the following cell to <b>display your filter tools</b>.</br>\n",
    "* Choose the column you want to filter from the dropdown menu and write your search text in the dedicated field:"
   ]
  },
  {
   "cell_type": "markdown",
   "id": "6ea93450",
   "metadata": {},
   "source": [
    "Keep in mind that this filtering feature offers flexible and advanced search options:\n",
    "* **Searching iconography**: To search the column **iconograpy** you can input an <a href=\"https://iconclass.org/en/_\" target=\"_blank\"><b>Iconclass</b></a> code or any word (like \"Madonna\", \"Jupiter\", etc.). The system can find the data you are looking for and will show the corresponding Iconclass codes (you can look up these on the Iconclass website). If you are using plain text as input, using **German words** can improve the chances of finding matching results.\n",
    "</br>\n",
    "</br>\n",
    "* **Filtering artists by alternative names**: The system can also find **artists by alternative names** that are not directly shown in the DataFrame but are included in the XML dataset of the Kunsthistorisches Institut. For instance, if you search for \"Filipepi, Alessandro\", the system will display matching results with the standard name of the artist \"Botticelli, Sandro\". Please note that you should **use the format \"Surname, Name\"** to increase the probability of matching results. You can also use single names or surnames, and the system will find all artists with the that value."
   ]
  },
  {
   "cell_type": "code",
   "execution_count": null,
   "id": "3faefc8c-50e7-4dff-86a7-a7ce96a25471",
   "metadata": {
    "scrolled": true
   },
   "outputs": [],
   "source": [
    "filter_column_widget.options=[column for column in photos_collection.dataframe_no_scan.columns if column != 'Artwork_Date' or column != 'Photo_Date' or column !='Photo_Archival_Date']\n",
    "filter_column_widget.value=photos_collection.dataframe_no_scan.columns[0]\n",
    "display(filter_column_widget)\n",
    "display(text_to_filter)"
   ]
  },
  {
   "cell_type": "markdown",
   "id": "bb66bcdc",
   "metadata": {},
   "source": [
    "Execute the following cell to **see the results**.</br>\n",
    "Notice that, **if you leave the search text box blank**, no filter will be applied and you will see an overview of the whole DataFrame."
   ]
  },
  {
   "cell_type": "code",
   "execution_count": null,
   "id": "f02af7d4-b75e-4071-a452-be8fa038a891",
   "metadata": {
    "scrolled": true
   },
   "outputs": [],
   "source": [
    "try:\n",
    "    filter_by_column = photos_collection.filter_by(filter_column_widget.value, text_to_filter.value)\n",
    "    display(filter_by_column.set_index('Photo_ID'))\n",
    "except KeyError:\n",
    "    print('Run the previous cell and provide an input, then try again.')"
   ]
  },
  {
   "cell_type": "markdown",
   "id": "90d09dd3",
   "metadata": {},
   "source": [
    "<div class=\"alert alert-block alert-info\">\n",
    "    <b>Note:</b> When you filter data in a DataFrame, the numbers that label each row (indices) might not stay in order. This happens if some rows are left out when you filter the data. But don't worry! Even if the numbers aren't in order, you can still look at and work with the filtered data just fine. Each row still has all the same information it had before, so you can use it for whatever you need, like analyzing or comparing different pieces of data.</div>"
   ]
  },
  {
   "cell_type": "markdown",
   "id": "b488993c",
   "metadata": {},
   "source": [
    "Follow the instructions to <b>download your DataFrame as CSV file:</b>\n",
    "\n",
    "- Run the cell below.\n",
    "- Click on the download button below. The download should start immediately."
   ]
  },
  {
   "cell_type": "code",
   "execution_count": null,
   "id": "f5ebd2eb",
   "metadata": {},
   "outputs": [],
   "source": [
    "try:\n",
    "    res_filter = filter_by_column.to_csv()    \n",
    "    #File\n",
    "    filename_filter = 'table_filtered_by_column.csv'\n",
    "    b64_filter = base64.b64encode(res_filter.encode())\n",
    "    payload_filter = b64_filter.decode()\n",
    "except NameError:\n",
    "    print('Your file is empty. Check the previous cells and try again.')\n",
    "\n",
    "\n",
    "#Display download button\n",
    "try:\n",
    "    html_button = html_buttons.format(payload=payload_filter,filename=filename_filter)\n",
    "    display(HTML(html_button))\n",
    "except NameError:\n",
    "    print('')"
   ]
  },
  {
   "cell_type": "markdown",
   "id": "7cbf12c4-1622-43c8-be60-06c467e4c27e",
   "metadata": {},
   "source": [
    "### Filter by year range"
   ]
  },
  {
   "cell_type": "markdown",
   "id": "d9cd52d2",
   "metadata": {},
   "source": [
    "In this section, you can filter photographs based on a **year range** to find photos with artwork year, archival year, or photo production year within that range."
   ]
  },
  {
   "cell_type": "markdown",
   "id": "257aef54",
   "metadata": {},
   "source": [
    "- Run the following cell to see the filtering tools.\n",
    "- Use the tools to enter two years to specify the range of years you want to filter and the column to filter."
   ]
  },
  {
   "cell_type": "code",
   "execution_count": null,
   "id": "5ab74c8b",
   "metadata": {
    "scrolled": true
   },
   "outputs": [],
   "source": [
    "filter_date_column_widget.options=[column for column in photos_collection.dataframe_no_scan.columns \n",
    "                                   if column in DATE_KEY_LIST or column == 'Artwork_Date']\n",
    "display(text_date_to_filter, text_date_to_filter_2, filter_date_column_widget)"
   ]
  },
  {
   "cell_type": "markdown",
   "id": "be1a2ca8",
   "metadata": {},
   "source": [
    "Execute the following cell to see the result:"
   ]
  },
  {
   "cell_type": "code",
   "execution_count": null,
   "id": "4fde23ef",
   "metadata": {
    "scrolled": true
   },
   "outputs": [],
   "source": [
    "if text_date_to_filter.value and text_date_to_filter_2.value:\n",
    "    filter_year_range = photos_collection.filter_by(filter_date_column_widget.value,\n",
    "                                                    text_date_to_filter.value,\n",
    "                                                    text_date_to_filter_2.value)\n",
    "    display(filter_year_range)\n",
    "else:\n",
    "    print('Input a valid year range in the cells above to see the filtered result.')"
   ]
  },
  {
   "cell_type": "markdown",
   "id": "36ba24eb",
   "metadata": {},
   "source": [
    "<div class=\"alert alert-block alert-warning\">\n",
    "<p style=\"display:inline-block \"><img style=\"display:inline-block; height:22px\" src= 'resources/download2.png' alt='Download icon'> <b>Download Section</b></p>\n",
    "</div>"
   ]
  },
  {
   "cell_type": "markdown",
   "id": "c43e0f01",
   "metadata": {},
   "source": [
    "Follow the instructions to <b>download your DataFrame as CSV file:</b>\n",
    "\n",
    "\n",
    "- Run the cell below.\n",
    "- Click on the download button below. The download should start immediately."
   ]
  },
  {
   "cell_type": "code",
   "execution_count": null,
   "id": "ad953b47",
   "metadata": {},
   "outputs": [],
   "source": [
    "try:\n",
    "    res_yrange = filter_year_range.to_csv()\n",
    "    #File\n",
    "    filename_yrange = 'table_filtered_with_two_years.csv'\n",
    "    b64_yrange = base64.b64encode(res_yrange.encode())\n",
    "    payload_yrange = b64_yrange.decode()\n",
    "except NameError:\n",
    "    print('Your file is empty. Check the previous cells and try again.')\n",
    "\n",
    "\n",
    "#Display download button\n",
    "try:\n",
    "    html_button = html_buttons.format(payload=payload_yrange,filename=filename_yrange)\n",
    "    display(HTML(html_button))\n",
    "except NameError:\n",
    "    print('')"
   ]
  },
  {
   "cell_type": "markdown",
   "id": "9f34fddd",
   "metadata": {},
   "source": [
    "### Filter by year and operator"
   ]
  },
  {
   "cell_type": "markdown",
   "id": "73ec02dc",
   "metadata": {},
   "source": [
    "You can filter photographs by artwork year, archival year, or photo production year.</br>\n",
    "Select a year and decide if you want want exact matches, or dates before or after that year.\n",
    "* Run the following cell to see the filtering tools.\n",
    "* Use the <a href=\"#widget\">widgets</a> below to specify a **year**, an **operator**, and the **column** that should be filtered."
   ]
  },
  {
   "cell_type": "code",
   "execution_count": null,
   "id": "b0396f30",
   "metadata": {
    "scrolled": false
   },
   "outputs": [],
   "source": [
    "filter_date_column_widget.options=[column for column in photos_collection.dataframe_no_scan.columns \n",
    "                                   if column in DATE_KEY_LIST or column == 'Artwork_Date']\n",
    "display(text_date_to_filter, year_operator, filter_date_column_widget)"
   ]
  },
  {
   "cell_type": "markdown",
   "id": "b1067dec",
   "metadata": {},
   "source": [
    "Run the next cell to show the filtered result:"
   ]
  },
  {
   "cell_type": "code",
   "execution_count": null,
   "id": "bb500717-3bdc-4d07-b741-641f25f2f164",
   "metadata": {
    "scrolled": true
   },
   "outputs": [],
   "source": [
    "if text_date_to_filter.value and year_operator.value and filter_date_column_widget.value:\n",
    "    filter_year_operator = photos_collection.filter_by(filter_date_column_widget.value,\n",
    "                                                       text_date_to_filter.value,\n",
    "                                                       year_operator.value)\n",
    "    display(filter_year_operator)\n",
    "else:\n",
    "    print('Write a valid year and choose an operator in the cells above to see the filtered result.')"
   ]
  },
  {
   "cell_type": "markdown",
   "id": "7d66c551",
   "metadata": {},
   "source": [
    "<div class=\"alert alert-block alert-warning\">\n",
    "<p style=\"display:inline-block \"><img style=\"display:inline-block; height:22px\" src= 'resources/download2.png' alt='Download icon'> <b>Download Section</b></p>\n",
    "</div>"
   ]
  },
  {
   "cell_type": "markdown",
   "id": "5a494345",
   "metadata": {},
   "source": [
    "Follow the instructions to <b>download your DataFrame as CSV file:</b>\n",
    "\n",
    "- Run the cell below.\n",
    "- Click on the download button below. The download should start immediately."
   ]
  },
  {
   "cell_type": "code",
   "execution_count": null,
   "id": "eac4a5e2",
   "metadata": {},
   "outputs": [],
   "source": [
    "try:\n",
    "    res_yoper = filter_year_operator.to_csv()\n",
    "\n",
    "    #File\n",
    "    filename_yoper = 'table_filtered_year_and_operator.csv'\n",
    "    b64_yoper = base64.b64encode(res_yoper.encode())\n",
    "    payload_yoper = b64_yoper.decode()\n",
    "\n",
    "except NameError:\n",
    "    print('Your file is empty. Check the previous cells and try again.')\n",
    "    \n",
    "\n",
    "#Display download button\n",
    "try:\n",
    "    html_button = html_buttons.format(payload=payload_yoper,filename=filename_yoper)\n",
    "    display(HTML(html_button))\n",
    "except NameError:\n",
    "    print('')"
   ]
  },
  {
   "cell_type": "markdown",
   "id": "3d76f129-c553-4e48-9972-fb70b27e1571",
   "metadata": {},
   "source": [
    "### Combining multiple filters"
   ]
  },
  {
   "cell_type": "markdown",
   "id": "f19f499a",
   "metadata": {},
   "source": [
    "If you've completed the filtering tasks in the above sections, you should have at least one among these DataFrames:\n",
    "* `filter_by_column`: This DataFrame has data filtered based on a specific column and input text.\n",
    "* `filter_year_range`: This DataFrame is filtered to show data in a specific year range.\n",
    "* `filter_year_operator`: This DataFrame shows data filtered by date and a comparison operator."
   ]
  },
  {
   "cell_type": "markdown",
   "id": "9a13de4f",
   "metadata": {},
   "source": [
    "You can apply more filters on these DataFrames. Run the following cell and select the DataFrame you want to filter and proceed with the analysis (you can select a different DataFrame later if you want):"
   ]
  },
  {
   "cell_type": "code",
   "execution_count": null,
   "id": "ce7db7aa",
   "metadata": {
    "scrolled": true
   },
   "outputs": [],
   "source": [
    "display(add_filter)"
   ]
  },
  {
   "cell_type": "markdown",
   "id": "2629ba4f",
   "metadata": {},
   "source": [
    "Execute the following cell to see the filtering tools and choose the additional filter to apply:"
   ]
  },
  {
   "cell_type": "code",
   "execution_count": null,
   "id": "063f10af",
   "metadata": {},
   "outputs": [],
   "source": [
    "filter_additional_column_widget.options=[column for column in photos_collection.dataframe_no_scan.columns if column != 'Artwork_Date' and column != 'Photo_Date' and column !='Photo_Archival_Date']\n",
    "filter_additional_column_widget.value=photos_collection.dataframe_no_scan.columns[0]\n",
    "display(filter_additional_column_widget)\n",
    "display(filter_additional_column_txt)"
   ]
  },
  {
   "cell_type": "markdown",
   "id": "a606777c",
   "metadata": {},
   "source": [
    "Execute the following cells to prepare your data (notice that they will return an error if you did not apply filters on your DataFrames in the previous sections)."
   ]
  },
  {
   "cell_type": "code",
   "execution_count": null,
   "id": "a131d98a",
   "metadata": {},
   "outputs": [],
   "source": [
    "additional_filter = photos_collection.filter_by(key=filter_additional_column_widget.value,\n",
    "                                                       value=filter_additional_column_txt.value,\n",
    "                                                   ext_df=globals()[add_filter.value])"
   ]
  },
  {
   "cell_type": "code",
   "execution_count": null,
   "id": "38d465e3",
   "metadata": {},
   "outputs": [],
   "source": [
    "try:\n",
    "    additional_filter = photos_collection.filter_by(key=filter_additional_column_widget.value,\n",
    "                                                   value=filter_additional_column_txt.value,\n",
    "                                                   ext_df = globals()[add_filter.value])\n",
    "except NameError:\n",
    "    print('The selected DataFrame was not created yet. Check if you provided a correct input, or go back to the previous section to filter the original DataFrame and try again.')"
   ]
  },
  {
   "cell_type": "markdown",
   "id": "f71aeb4a",
   "metadata": {},
   "source": [
    "Run the following cell to view your **result**:"
   ]
  },
  {
   "cell_type": "code",
   "execution_count": null,
   "id": "9501b610",
   "metadata": {
    "scrolled": true
   },
   "outputs": [],
   "source": [
    "try:\n",
    "    display(additional_filter)\n",
    "except KeyError:\n",
    "    print('Please select a DataFrame to filter before executing.')"
   ]
  },
  {
   "cell_type": "markdown",
   "id": "580acb69",
   "metadata": {},
   "source": [
    "<div class=\"alert alert-block alert-warning\">\n",
    "<p style=\"display:inline-block \"><img style=\"display:inline-block; height:22px\" src= 'resources/download2.png' alt='Download icon'> <b>Download Section</b></p>\n",
    "</div>"
   ]
  },
  {
   "cell_type": "markdown",
   "id": "6dddcef5",
   "metadata": {},
   "source": [
    "Follow the instructions to <b>download your DataFrame as CSV file:</b>\n",
    "\n",
    "- Run the cell below.\n",
    "- Click on the download button below. The download should start immediately."
   ]
  },
  {
   "cell_type": "code",
   "execution_count": null,
   "id": "0c3d6b38",
   "metadata": {},
   "outputs": [],
   "source": [
    "try:\n",
    "    res_additional = additional_filter.to_csv()\n",
    "    #File\n",
    "    filename_multfilt = 'additonal_filter.csv'\n",
    "    b64_additional = base64.b64encode(res_additional.encode())\n",
    "    file_additional = b64_additional.decode()\n",
    "except NameError:\n",
    "    print('Your file is empty. Check the previous cells.')\n",
    "\n",
    "\n",
    "\n",
    "#Display download button\n",
    "try:\n",
    "    html_button = html_buttons.format(payload=file_additional,filename=filename_multfilt)\n",
    "    display(HTML(html_button))\n",
    "except KeyError:\n",
    "    print('Choose a file and try again.')"
   ]
  },
  {
   "cell_type": "markdown",
   "id": "fbb13446-7705-4c43-a68b-4f2e173272ae",
   "metadata": {},
   "source": [
    "# Sorting Your Data <a id='sort'></a>\n",
    "***"
   ]
  },
  {
   "cell_type": "markdown",
   "id": "ccce1a5b-533c-478c-9ddb-54a29b0815b9",
   "metadata": {},
   "source": [
    "You can sort the data in a DataFrame by selecting a specific column name to organize the rows based on the values within that column. This section allows you to sort the data in ascending order.\n",
    "* Run the following cell to see the filtering tool.\n",
    "* **Choose the column** in the DataFrame by its name that you want to use for sorting in the dropdown menu."
   ]
  },
  {
   "cell_type": "code",
   "execution_count": null,
   "id": "0cb6db4b",
   "metadata": {
    "scrolled": true
   },
   "outputs": [],
   "source": [
    "filter_column_widget.options=[column for column in photos_collection.dataframe_no_scan.columns]\n",
    "filter_column_widget.value=photos_collection.dataframe_no_scan.columns[0]\n",
    "display(filter_column_widget)"
   ]
  },
  {
   "cell_type": "markdown",
   "id": "9b5d2b76",
   "metadata": {},
   "source": [
    "Run the following cell to see the result:"
   ]
  },
  {
   "cell_type": "code",
   "execution_count": null,
   "id": "67144cc1",
   "metadata": {
    "scrolled": true
   },
   "outputs": [],
   "source": [
    "sort_by_column = photos_collection.sort_columns_by(filter_column_widget.value, dataframe=filter_by_column)\n",
    "display(sort_by_column.set_index('Photo_ID'))"
   ]
  },
  {
   "cell_type": "markdown",
   "id": "ae4b1bd4",
   "metadata": {},
   "source": [
    "<div class=\"alert alert-block alert-warning\">\n",
    "<p style=\"display:inline-block \"><img style=\"display:inline-block; height:22px\" src= 'resources/download2.png' alt='Download icon'> <b>Download Section</b></p>\n",
    "</div>"
   ]
  },
  {
   "cell_type": "markdown",
   "id": "a90f0697",
   "metadata": {},
   "source": [
    "Follow the instructions to <b>download your DataFrame as CSV file:</b>\n",
    "\n",
    "- Run the cell below.\n",
    "- Click on the download button below. The download should start immediately."
   ]
  },
  {
   "cell_type": "code",
   "execution_count": null,
   "id": "8e08a5e1",
   "metadata": {},
   "outputs": [],
   "source": [
    "try:\n",
    "    res_sort = sort_by_column.to_csv()\n",
    "\n",
    "    #File\n",
    "    filename_sort = 'table_sorted_by_column.csv'\n",
    "    b64_sort = base64.b64encode(res_sort.encode())\n",
    "    payload_sort = b64_sort.decode()\n",
    "except NameError:\n",
    "    print('Your file is empty. Check the previous cells and try again.')\n",
    "\n",
    "#Display download button\n",
    "try:\n",
    "    html_button = html_buttons.format(payload=payload_sort,filename=filename_sort)\n",
    "    display(HTML(html_button))\n",
    "except NameError:\n",
    "    print('')"
   ]
  },
  {
   "cell_type": "markdown",
   "id": "d367a53f",
   "metadata": {},
   "source": [
    "# Get Individual Artwork or Photograph Information<a id='specific'></a>\n",
    "***"
   ]
  },
  {
   "cell_type": "markdown",
   "id": "7a504755",
   "metadata": {},
   "source": [
    "### Get data about a specific artwork"
   ]
  },
  {
   "cell_type": "markdown",
   "id": "2b33b0de",
   "metadata": {},
   "source": [
    "You can view details about a **specific artwork** from your dataset without including data about the related photos - just the photograph ID.\n",
    "* **Run** the following cell to use the filtering tool.\n",
    "* Select an artwork from the DataFrame you've already extracted and paste the **artwork ID** from the `obj_id` column."
   ]
  },
  {
   "cell_type": "code",
   "execution_count": null,
   "id": "2da0e388",
   "metadata": {
    "scrolled": true
   },
   "outputs": [],
   "source": [
    "display(info_input_id_obj)"
   ]
  },
  {
   "cell_type": "markdown",
   "id": "f0cf3c08",
   "metadata": {},
   "source": [
    "Run the following cell to see the result. Remember that **each row of the DataFrame represents a photograph** of the artwork you are searching. You can see the photographs IDs in the last column."
   ]
  },
  {
   "cell_type": "code",
   "execution_count": null,
   "id": "90dcf40e",
   "metadata": {
    "scrolled": true
   },
   "outputs": [],
   "source": [
    "single_artwork_data = photos_collection.get_artwork_info(info_input_id_obj.value)\n",
    "if len(single_artwork_data) > 1:\n",
    "    pd.set_option('display.max_colwidth', 0)\n",
    "    display(single_artwork_data)\n",
    "else:\n",
    "    print('No results. Input a valid artwork ID in the cell above.')    "
   ]
  },
  {
   "cell_type": "markdown",
   "id": "ae306053",
   "metadata": {},
   "source": [
    "<div class=\"alert alert-block alert-warning\">\n",
    "<p style=\"display:inline-block \"><img style=\"display:inline-block; height:22px\" src= 'resources/download2.png' alt='Download icon'> <b>Download Section</b></p>\n",
    "</div>"
   ]
  },
  {
   "cell_type": "markdown",
   "id": "6468281e",
   "metadata": {},
   "source": [
    "Follow the instructions to <b>download your DataFrame as CSV file:</b>\n",
    "\n",
    "- Run the cell below.\n",
    "- Click on the download button below. The download should start immediately."
   ]
  },
  {
   "cell_type": "code",
   "execution_count": null,
   "id": "36619393",
   "metadata": {},
   "outputs": [],
   "source": [
    "try:\n",
    "    res_info = single_artwork_data.to_csv()\n",
    "\n",
    "    #File\n",
    "    filename_info = f'artwork_{info_input_id_obj.value}.csv'\n",
    "    b64_info = base64.b64encode(res_info.encode())\n",
    "    payload_info = b64_info.decode()\n",
    "except NameError:\n",
    "    print('Your file is empty. Check the previous cells and try again.')\n",
    "\n",
    "#Display download button\n",
    "\n",
    "try:\n",
    "    html_button = html_buttons.format(payload=payload_info,filename=filename_info)\n",
    "    display(HTML(html_button))\n",
    "except NameError:\n",
    "    print('')"
   ]
  },
  {
   "cell_type": "markdown",
   "id": "a89f5c50",
   "metadata": {},
   "source": [
    "### Get data about a specific photo"
   ]
  },
  {
   "cell_type": "markdown",
   "id": "53b59a19",
   "metadata": {},
   "source": [
    "If you'd like, you can also extract data about a single photo.\n",
    "\n",
    "* **Execute** the following cell to activate the filtering tool.\n",
    "* Then, paste the **photograph ID** from the `photo_id` column in your DataFrame."
   ]
  },
  {
   "cell_type": "code",
   "execution_count": null,
   "id": "3a72a1e5",
   "metadata": {},
   "outputs": [],
   "source": [
    "display(info_input_id_ph)"
   ]
  },
  {
   "cell_type": "markdown",
   "id": "56c3833c",
   "metadata": {},
   "source": [
    "Run the following cell to see **information about the photo**."
   ]
  },
  {
   "cell_type": "code",
   "execution_count": null,
   "id": "0283d959",
   "metadata": {},
   "outputs": [],
   "source": [
    "try:\n",
    "    single_photo_data = photos_collection.get_photo_info(info_input_id_ph.value)\n",
    "    pd.set_option('display.max_colwidth', 0)\n",
    "    display(single_photo_data)\n",
    "except KeyError:\n",
    "    print('No results. Input a valid photo ID in the cell above.')"
   ]
  },
  {
   "cell_type": "markdown",
   "id": "67ec6ab7",
   "metadata": {},
   "source": [
    "<div class=\"alert alert-block alert-warning\">\n",
    "<p style=\"display:inline-block \"><img style=\"display:inline-block; height:22px\" src= 'resources/download2.png' alt='Download icon'> <b>Download Section</b></p>\n",
    "</div>"
   ]
  },
  {
   "cell_type": "markdown",
   "id": "180a9409",
   "metadata": {},
   "source": [
    "Follow the instructions to <b>download your DataFrame as CSV file:</b>\n",
    "\n",
    "- Run the cell below.\n",
    "- Click on the download button below. The download should start immediately."
   ]
  },
  {
   "cell_type": "code",
   "execution_count": null,
   "id": "92c988f4",
   "metadata": {},
   "outputs": [],
   "source": [
    "try:\n",
    "    res_infoph = single_photo_data.to_csv()\n",
    "\n",
    "    #File\n",
    "    filename_infoph = f'photo_{info_input_id_ph.value}.csv'\n",
    "    b64_infoph = base64.b64encode(res_infoph.encode())\n",
    "    payload_infoph = b64_infoph.decode()\n",
    "except NameError:\n",
    "    print('Your file is empty. Check the previous cells and try again.')\n",
    "    \n",
    "\n",
    "#Display download button\n",
    "try:\n",
    "    html_button = html_buttons.format(payload=payload_infoph,filename=filename_infoph)\n",
    "    display(HTML(html_button))\n",
    "except NameError:\n",
    "    print('')"
   ]
  },
  {
   "cell_type": "markdown",
   "id": "e215c4da",
   "metadata": {},
   "source": [
    "# Data Visualization Tool<a id='visualization'></a>\n",
    "***"
   ]
  },
  {
   "cell_type": "markdown",
   "id": "7884605e-4f86-4e23-94ba-c4a25a519bcb",
   "metadata": {},
   "source": [
    "To obtain a visualization of the data in your dataset, **select a column** to display its content and the **type of chart** you want to use."
   ]
  },
  {
   "cell_type": "markdown",
   "id": "22e761b0",
   "metadata": {},
   "source": [
    "<div class=\"alert alert-block alert-info\">\n",
    "    <b>Note:</b> Keep in mind that not all visualization methods will work well with every dataset. Feel free to experiment with different visualization techniques to discover which one best suits your specific dataset and analysis needs.</div>"
   ]
  },
  {
   "cell_type": "markdown",
   "id": "c362035a",
   "metadata": {},
   "source": [
    "If you need inspiration, you can test the following pairs:"
   ]
  },
  {
   "cell_type": "markdown",
   "id": "3629617d",
   "metadata": {},
   "source": [
    "<table style=\"font-size:10pt; text-align:left; margin-left:0;\">\n",
    "  <tr style=\"border-bottom: 1px solid #ddd;\">\n",
    "    <th style=\"text-align:left; background-color: #c8e29d\">Column</th>\n",
    "    <th style=\"text-align:left; background-color: #c8e29d\">Plot type </th>\n",
    "  </tr>\n",
    "  <tr style=\"border-bottom: 1px solid #ddd;\">\n",
    "      <td style=\"text-align:left; background-color:white;\">Artist<br>Cultural_Institution<br>Artwork_Type</td>\n",
    "    <td style=\"text-align:left; background-color:white;\">Bar Chart (bar)</td>\n",
    "  </tr>\n",
    "  <tr style=\"border-bottom: 1px solid #ddd;\">\n",
    "    <td style=\"text-align:left; background-color:white;\">Artwork_Date<br>Photo_Date<br>Photo_Archival_Date</td>\n",
    "    <td style=\"text-align:left; background-color:white;\">Line Chart (line)</td>\n",
    "  </tr>\n",
    "  <tr style=\"border-bottom: 1px solid #ddd;\">\n",
    "    <td style=\"text-align:left; background-color:white;\">Art_Form<br>Artwork_Description<br>Photo_Phototek_Section, Artwork_Material</td>\n",
    "    <td style=\"text-align:left; background-color:white;\">Pie Chart (pie) or Donut Chart (donut)</td>\n",
    "  </tr>\n",
    "</table>"
   ]
  },
  {
   "cell_type": "markdown",
   "id": "9c483a5e",
   "metadata": {},
   "source": [
    "The file you uploaded in the <a href='#upload'>first section of the notebook</a> will be used to provide data visualization. If you'd like to use another DataFrame (for example, the output of a filtering process), you can follow these steps:"
   ]
  },
  {
   "cell_type": "markdown",
   "id": "34ee0b69",
   "metadata": {},
   "source": [
    "- Execute the following cell to **choose one of the DataFrames** from the previous sections and **view the tools** to create your data visualization.\n",
    "- **Select the data** to represent and the **type of chart**."
   ]
  },
  {
   "cell_type": "code",
   "execution_count": null,
   "id": "e6088511-791f-4530-ac84-310bbbc9b1de",
   "metadata": {
    "scrolled": true
   },
   "outputs": [],
   "source": [
    "x_widget.options = photos_collection.dataframe_no_scan.columns\n",
    "x_widget.value = photos_collection.dataframe_no_scan.columns[0]\n",
    "display(viz_dropdown)\n",
    "display(x_widget, y_widget)"
   ]
  },
  {
   "cell_type": "markdown",
   "id": "bfdb1ed3",
   "metadata": {},
   "source": [
    "If you have selected a bar, pie, or donut chart, run the following cell to proceed with the **costumization**. Otherwise, jump below to the next cell."
   ]
  },
  {
   "cell_type": "code",
   "execution_count": null,
   "id": "24641b11",
   "metadata": {},
   "outputs": [],
   "source": [
    "if y_widget.value == 'bar':\n",
    "    display(bar_number_widget)\n",
    "elif y_widget.value == 'donut' or y_widget.value == 'pie':\n",
    "    display(donut_legend_widget)\n",
    "else:\n",
    "    print('Ignore this message and execute the next cell.')"
   ]
  },
  {
   "cell_type": "markdown",
   "id": "71c46adb",
   "metadata": {},
   "source": [
    "Execute the cell below to see the result:"
   ]
  },
  {
   "cell_type": "code",
   "execution_count": null,
   "id": "fcd62d90",
   "metadata": {
    "scrolled": false
   },
   "outputs": [],
   "source": [
    "try:\n",
    "    photos_collection.plot_values(key=x_widget.value, mode=y_widget.value, bar_nr=bar_number_widget.value, legend=donut_legend_widget.value, dataframe=globals()[viz_dropdown.value])\n",
    "except KeyError:\n",
    "    print('Select the data to display in the cell above. If the error persists, the data you are trying to display may not be available yet.')\n",
    "except ValueError:\n",
    "    print('The data you are trying to display is not available.')"
   ]
  },
  {
   "cell_type": "markdown",
   "id": "10b184d9",
   "metadata": {},
   "source": [
    "<div class=\"alert alert-block alert-info\">\n",
    "    <b>Note:</b> To save the chart image directly to your device, simply right-click on the chart and choose the \"Save image as...\" option from the menu.</div>"
   ]
  },
  {
   "cell_type": "markdown",
   "id": "aad011a4",
   "metadata": {},
   "source": [
    "# Helpful Resources and Links <a id='useful'></a>\n",
    "***"
   ]
  },
  {
   "cell_type": "markdown",
   "id": "ccf5e35e",
   "metadata": {},
   "source": [
    "* Jupyter Notebook Documentation: <a href=\"https://docs.jupyter.org/en/latest/\" target=\"blank\"> https://docs.jupyter.org/en/latest/</a>\n",
    "* Python Documentation: <a href=\"https://docs.python.org/3/\" target=\"blank\">https://docs.python.org/3/</a>\n",
    "* Pandas Documentation: <a href=\"https://pandas.pydata.org/docs/\" target=\"blank\">https://pandas.pydata.org/docs/</a>\n",
    "\n"
   ]
  },
  {
   "cell_type": "markdown",
   "id": "18c1da18",
   "metadata": {},
   "source": [
    "# Contacts<a id='contact'></a>\n",
    "***\n",
    "* For assistance or questions please contact [alessandra.failla@hotmail.it](mailto:alessandra.failla@hotmail.it)\n",
    "* All resources related to this notebook are accessible on the associated GitHub Repository: </br><a href=\"https://github.com/AlessandraFa/photo-archive-data-analysis-framework.git\" target=\"blank\">https://github.com/AlessandraFa/photo-archive-data-analysis-framework.git</a>"
   ]
  }
 ],
 "metadata": {
  "kernelspec": {
   "display_name": "Python 3 (ipykernel)",
   "language": "python",
   "name": "python3"
  },
  "language_info": {
   "codemirror_mode": {
    "name": "ipython",
    "version": 3
   },
   "file_extension": ".py",
   "mimetype": "text/x-python",
   "name": "python",
   "nbconvert_exporter": "python",
   "pygments_lexer": "ipython3",
   "version": "3.10.9"
  }
 },
 "nbformat": 4,
 "nbformat_minor": 5
}
