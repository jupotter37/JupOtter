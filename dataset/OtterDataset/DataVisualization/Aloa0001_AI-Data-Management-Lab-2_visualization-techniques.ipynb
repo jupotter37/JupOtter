{
 "cells": [
  {
   "cell_type": "markdown",
   "metadata": {},
   "source": [
    "# Visualization Techniques\n"
   ]
  },
  {
   "cell_type": "markdown",
   "metadata": {},
   "source": [
    "Data visualization is a crucial aspect of data analysis, helping to convey insights and patterns in a more understandable and interpretable manner.\n",
    "\n",
    "In Python, especially when used in conjunction with libraries like Matplotlib, Seaborn, and Plotly, provide a powerful environment for creating a variety of visualizations.\n"
   ]
  },
  {
   "cell_type": "markdown",
   "metadata": {},
   "source": [
    "## 1. Line Charts:\n",
    "\n",
    "Description: Line charts are used to display data points over a continuous interval or time span, making them useful for showing trends and patterns.\n"
   ]
  },
  {
   "cell_type": "code",
   "execution_count": null,
   "metadata": {},
   "outputs": [],
   "source": [
    "import matplotlib.pyplot as plt\n",
    "\n",
    "# Sample data\n",
    "x = [1, 2, 3, 4, 5]\n",
    "y = [10, 15, 7, 20, 12]\n",
    "\n",
    "# Line chart\n",
    "plt.plot(x, y, marker=\"o\")\n",
    "plt.title(\"Line Chart Example\")\n",
    "plt.xlabel(\"X-axis\")\n",
    "plt.ylabel(\"Y-axis\")\n",
    "plt.show()"
   ]
  },
  {
   "cell_type": "markdown",
   "metadata": {},
   "source": [
    "## 2. Bar Charts:\n",
    "\n",
    "Description: Bar charts represent categorical data with rectangular bars. They are suitable for comparing quantities of different categories.\n"
   ]
  },
  {
   "cell_type": "markdown",
   "metadata": {},
   "source": []
  },
  {
   "cell_type": "code",
   "execution_count": null,
   "metadata": {},
   "outputs": [],
   "source": [
    "import matplotlib.pyplot as plt\n",
    "\n",
    "# Sample data\n",
    "categories = [\"A\", \"B\", \"C\", \"D\"]\n",
    "values = [15, 30, 25, 20]\n",
    "\n",
    "# Bar chart\n",
    "plt.bar(categories, values, color=\"skyblue\")\n",
    "plt.title(\"Bar Chart Example\")\n",
    "plt.xlabel(\"Categories\")\n",
    "plt.ylabel(\"Values\")\n",
    "plt.show()"
   ]
  },
  {
   "cell_type": "markdown",
   "metadata": {},
   "source": [
    "## 3. Histograms:\n",
    "\n",
    "Description: Histograms represent the distribution of a continuous dataset. They group data into bins and show the frequency of each bin.\n"
   ]
  },
  {
   "cell_type": "code",
   "execution_count": null,
   "metadata": {},
   "outputs": [],
   "source": [
    "import matplotlib.pyplot as plt\n",
    "\n",
    "# Sample data\n",
    "data = [15, 20, 25, 30, 35, 40, 45, 50, 55, 60, 65, 70, 70, 70]\n",
    "\n",
    "# Histogram\n",
    "plt.hist(data, bins=5, color=\"green\", edgecolor=\"black\")\n",
    "plt.title(\"Histogram Example\")\n",
    "plt.xlabel(\"Values\")\n",
    "plt.ylabel(\"Frequency\")\n",
    "plt.show()"
   ]
  },
  {
   "cell_type": "markdown",
   "metadata": {},
   "source": [
    "## 4. Scatter Plots:\n",
    "\n",
    "Description: Scatter plots are used to visualize the relationship between two continuous variables. Each point represents a data point.\n"
   ]
  },
  {
   "cell_type": "code",
   "execution_count": null,
   "metadata": {},
   "outputs": [],
   "source": [
    "import matplotlib.pyplot as plt\n",
    "\n",
    "# Sample data\n",
    "x = [1, 2, 3, 4, 5]\n",
    "y = [10, 15, 7, 20, 12]\n",
    "\n",
    "# Scatter plot\n",
    "plt.scatter(x, y, color=\"red\", marker=\"o\")\n",
    "plt.title(\"Scatter Plot Example\")\n",
    "plt.xlabel(\"X-axis\")\n",
    "plt.ylabel(\"Y-axis\")\n",
    "plt.show()"
   ]
  },
  {
   "cell_type": "markdown",
   "metadata": {},
   "source": [
    "## 5. Heatmaps:\n",
    "\n",
    "Description: Heatmaps visualize data in a matrix format, using color to represent values. They are useful for showing patterns and correlations.\n"
   ]
  },
  {
   "cell_type": "code",
   "execution_count": null,
   "metadata": {},
   "outputs": [],
   "source": [
    "import seaborn as sns\n",
    "import numpy as np\n",
    "\n",
    "# Sample data\n",
    "data_matrix = np.random.rand(5, 5)\n",
    "\n",
    "# Heatmap\n",
    "sns.heatmap(data_matrix, annot=True, cmap=\"coolwarm\", linewidths=0.5)\n",
    "plt.title(\"Heatmap Example\")\n",
    "plt.show()"
   ]
  },
  {
   "cell_type": "markdown",
   "metadata": {},
   "source": [
    "## 6. Box Plots:\n",
    "\n",
    "Description: Box plots summarize the distribution of a dataset, providing information about the median, quartiles, and outliers.\n"
   ]
  },
  {
   "cell_type": "code",
   "execution_count": null,
   "metadata": {},
   "outputs": [],
   "source": [
    "import seaborn as sns\n",
    "\n",
    "# Sample data\n",
    "data = sns.load_dataset(\"tips\")\n",
    "\n",
    "# Box plot\n",
    "sns.boxplot(x=\"day\", y=\"total_bill\", data=data, palette=\"Set3\")\n",
    "plt.title(\"Box Plot Example\")\n",
    "plt.xlabel(\"Day\")\n",
    "plt.ylabel(\"Total Bill\")\n",
    "plt.show()"
   ]
  },
  {
   "cell_type": "markdown",
   "metadata": {},
   "source": [
    "## 7. Line Plots for Time Series Data:\n",
    "\n",
    "Description: Line plots can be used for visualizing time series data, where the x-axis represents time.\n"
   ]
  },
  {
   "cell_type": "code",
   "execution_count": null,
   "metadata": {},
   "outputs": [],
   "source": [
    "import pandas as pd\n",
    "import matplotlib.pyplot as plt\n",
    "\n",
    "# Sample time series data\n",
    "date_rng = pd.date_range(start=\"2022-01-01\", end=\"2022-01-10\", freq=\"D\")\n",
    "time_series_data = pd.Series(range(len(date_rng)), index=date_rng)\n",
    "\n",
    "# Line plot for time series data\n",
    "plt.plot(time_series_data)\n",
    "plt.title(\"Time Series Line Plot Example\")\n",
    "plt.xlabel(\"Date\")\n",
    "plt.ylabel(\"Value\")\n",
    "plt.show()"
   ]
  },
  {
   "cell_type": "markdown",
   "metadata": {},
   "source": [
    "# Plotting data collected from sensors through the serial port\n",
    "\n",
    "Typically connected to an Arduino board, is a common scenario in IoT and sensor data visualization.\n",
    "\n",
    "To achieve this, you can use the pyserial library to communicate with the Arduino over the serial port and then use a plotting library such as matplotlib to visualize the data.\n"
   ]
  },
  {
   "cell_type": "code",
   "execution_count": null,
   "metadata": {},
   "outputs": [],
   "source": [
    "import serial\n",
    "import matplotlib.pyplot as plt\n",
    "from IPython.display import display, clear_output\n",
    "\n",
    "# Initialize the serial connection\n",
    "ser = serial.Serial(\"Arduino's serial port\", 9600)\n",
    "\n",
    "# Number of data points to display\n",
    "num_points = 50\n",
    "\n",
    "# Initialize lists to store data\n",
    "x_data = []\n",
    "y_data = []\n",
    "\n",
    "# Create a figure and axis for real-time plotting\n",
    "fig, ax = plt.subplots()\n",
    "(line,) = ax.plot([], [])\n",
    "ax.set_ylim(0, 1023)  # Assuming your sensor values range from 0 to 1023\n",
    "ax.set_xlim(0, num_points)\n",
    "ax.set_title(\"Real-time Sensor Data\")\n",
    "ax.set_xlabel(\"Data Point\")\n",
    "ax.set_ylabel(\"Sensor Value\")\n",
    "\n",
    "\n",
    "def update_plot(new_data):\n",
    "    x_data.append(len(x_data))\n",
    "    y_data.append(int(new_data))\n",
    "\n",
    "    # Update the plot\n",
    "    line.set_data(x_data[-num_points:], y_data[-num_points:])\n",
    "\n",
    "    # Redraw the plot\n",
    "    display(fig)\n",
    "    clear_output(wait=True)\n",
    "    plt.pause(0.01)\n",
    "\n",
    "\n",
    "# Read and plot data in real-time\n",
    "try:\n",
    "    while True:\n",
    "        data = ser.readline().decode(\"utf-8\").strip()\n",
    "        update_plot(data)\n",
    "except KeyboardInterrupt:\n",
    "    print(\"Data collection stopped.\")\n",
    "\n",
    "# Close the serial connection\n",
    "ser.close()"
   ]
  }
 ],
 "metadata": {
  "kernelspec": {
   "display_name": "base",
   "language": "python",
   "name": "python3"
  },
  "language_info": {
   "codemirror_mode": {
    "name": "ipython",
    "version": 3
   },
   "file_extension": ".py",
   "mimetype": "text/x-python",
   "name": "python",
   "nbconvert_exporter": "python",
   "pygments_lexer": "ipython3",
   "version": "3.11.4"
  }
 },
 "nbformat": 4,
 "nbformat_minor": 2
}
