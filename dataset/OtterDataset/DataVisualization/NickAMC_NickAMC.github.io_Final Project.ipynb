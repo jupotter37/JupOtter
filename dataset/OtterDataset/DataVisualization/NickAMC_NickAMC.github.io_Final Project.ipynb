{
 "cells": [
  {
   "cell_type": "markdown",
   "metadata": {},
   "source": [
    "# DATA 602 FINAL PROJECT\n",
    "## Abstract\n",
    "> This project aims to investigate whether either developed or developing countries are meeting their electricity demand by generation statistically equal amounts of electricity. Our dataset is sourced from the “Our World in Data” kaggle page, covering countries from the 1900 - 2022 and their energy economies. Our focus for this project will be on the last 30 years (1990 - 2020). We also used hypothesis test and t-tests at alpha 0.05 to compare the mean values of electricity demand between developed and developing nations. Our results showed that there was a significant difference in electricity demand between the two groups, with developed nations having higher values for electricity demand. The results of this project provide insights into the state of electricity demand in developed and developing countries. The findings suggest that improving the economy in developing countries may lead to an increase in electricity demand. The results also highlight the importance of investing in renewable energy sources to meet the increasing demand for electricity in both developing and developed countries. The findings have important implications for policymakers, energy companies,and investors, as they provide a better understanding of the factors that affect electricity demand.\n",
    "\n",
    "## Research Question\n",
    "> Are countries generating enough electricity to meet its demand regardless if that country is considered “developed” or “developing?\n",
    "\n",
    "## Data Collection\n",
    "> World Energy Consumption, [Visit Kaggle](https://www.kaggle.com/datasets/pralabhpoudel/world-energy-consumption)\n",
    "> Humand Development Index Table, [Visit Site](https://www.theglobaleconomy.com/rankings/human_development/)\n",
    "\n",
    "## Data Classification\n",
    "> Countries in the dataset will be classified as:\n",
    ">* \"Developed\" : HDI $\\geq$ 0.8 & gdp_per_capita $\\geq$ $18,750\n",
    ">* \"Developing\" : Otherwise\n"
   ]
  },
  {
   "cell_type": "markdown",
   "metadata": {},
   "source": [
    "## Libraries"
   ]
  },
  {
   "cell_type": "code",
   "execution_count": 2,
   "metadata": {
    "ExecuteTime": {
     "end_time": "2023-05-16T13:44:49.672686200Z",
     "start_time": "2023-05-16T13:44:49.660936700Z"
    },
    "collapsed": true
   },
   "outputs": [],
   "source": [
    "import pandas as pd\n",
    "import numpy as np\n",
    "import requests\n",
    "from bs4 import BeautifulSoup\n",
    "import plotly.express as px\n",
    "import country_converter as coc\n",
    "import seaborn as sns\n",
    "import matplotlib.pyplot as plt\n",
    "import scipy.stats as stats"
   ]
  },
  {
   "cell_type": "markdown",
   "metadata": {},
   "source": [
    "## Loading Data\n",
    "In the following code cells:\n",
    "* read in the data from \"Our World in Data\"'s github repo\n",
    "* websrape the human development index value for each country\n"
   ]
  },
  {
   "cell_type": "code",
   "execution_count": 3,
   "metadata": {
    "ExecuteTime": {
     "end_time": "2023-05-16T13:12:29.528789600Z",
     "start_time": "2023-05-16T13:12:28.864049300Z"
    }
   },
   "outputs": [],
   "source": [
    "df = pd.read_csv('https://raw.githubusercontent.com/owid/energy-data/master/owid-energy-data.csv')"
   ]
  },
  {
   "cell_type": "code",
   "execution_count": 4,
   "metadata": {
    "ExecuteTime": {
     "end_time": "2023-05-16T13:12:29.809246400Z",
     "start_time": "2023-05-16T13:12:29.529216600Z"
    }
   },
   "outputs": [
    {
     "data": {
      "text/html": [
       "<div>\n",
       "<style scoped>\n",
       "    .dataframe tbody tr th:only-of-type {\n",
       "        vertical-align: middle;\n",
       "    }\n",
       "\n",
       "    .dataframe tbody tr th {\n",
       "        vertical-align: top;\n",
       "    }\n",
       "\n",
       "    .dataframe thead th {\n",
       "        text-align: right;\n",
       "    }\n",
       "</style>\n",
       "<table border=\"1\" class=\"dataframe\">\n",
       "  <thead>\n",
       "    <tr style=\"text-align: right;\">\n",
       "      <th></th>\n",
       "      <th>year</th>\n",
       "      <th>population</th>\n",
       "      <th>gdp</th>\n",
       "      <th>biofuel_cons_change_pct</th>\n",
       "      <th>biofuel_cons_change_twh</th>\n",
       "      <th>biofuel_cons_per_capita</th>\n",
       "      <th>biofuel_consumption</th>\n",
       "      <th>biofuel_elec_per_capita</th>\n",
       "      <th>biofuel_electricity</th>\n",
       "      <th>biofuel_share_elec</th>\n",
       "      <th>...</th>\n",
       "      <th>solar_share_elec</th>\n",
       "      <th>solar_share_energy</th>\n",
       "      <th>wind_cons_change_pct</th>\n",
       "      <th>wind_cons_change_twh</th>\n",
       "      <th>wind_consumption</th>\n",
       "      <th>wind_elec_per_capita</th>\n",
       "      <th>wind_electricity</th>\n",
       "      <th>wind_energy_per_capita</th>\n",
       "      <th>wind_share_elec</th>\n",
       "      <th>wind_share_energy</th>\n",
       "    </tr>\n",
       "  </thead>\n",
       "  <tbody>\n",
       "    <tr>\n",
       "      <th>count</th>\n",
       "      <td>21890.000000</td>\n",
       "      <td>1.802900e+04</td>\n",
       "      <td>1.111300e+04</td>\n",
       "      <td>862.000000</td>\n",
       "      <td>1337.000000</td>\n",
       "      <td>952.000000</td>\n",
       "      <td>1372.000000</td>\n",
       "      <td>5221.000000</td>\n",
       "      <td>5442.000000</td>\n",
       "      <td>5407.000000</td>\n",
       "      <td>...</td>\n",
       "      <td>6871.000000</td>\n",
       "      <td>5442.000000</td>\n",
       "      <td>2295.000000</td>\n",
       "      <td>5340.000000</td>\n",
       "      <td>5445.000000</td>\n",
       "      <td>7789.000000</td>\n",
       "      <td>8676.000000</td>\n",
       "      <td>4779.000000</td>\n",
       "      <td>6871.000000</td>\n",
       "      <td>5445.000000</td>\n",
       "    </tr>\n",
       "    <tr>\n",
       "      <th>mean</th>\n",
       "      <td>1973.661261</td>\n",
       "      <td>1.045117e+08</td>\n",
       "      <td>3.585114e+11</td>\n",
       "      <td>34.143052</td>\n",
       "      <td>3.449835</td>\n",
       "      <td>159.620382</td>\n",
       "      <td>47.051201</td>\n",
       "      <td>65.366646</td>\n",
       "      <td>11.032376</td>\n",
       "      <td>2.030252</td>\n",
       "      <td>...</td>\n",
       "      <td>0.580494</td>\n",
       "      <td>0.129717</td>\n",
       "      <td>274.509119</td>\n",
       "      <td>5.647746</td>\n",
       "      <td>40.340626</td>\n",
       "      <td>54.478592</td>\n",
       "      <td>14.571141</td>\n",
       "      <td>175.599518</td>\n",
       "      <td>1.358409</td>\n",
       "      <td>0.440739</td>\n",
       "    </tr>\n",
       "    <tr>\n",
       "      <th>std</th>\n",
       "      <td>34.960962</td>\n",
       "      <td>4.593929e+08</td>\n",
       "      <td>2.411179e+12</td>\n",
       "      <td>227.488193</td>\n",
       "      <td>11.674255</td>\n",
       "      <td>269.540042</td>\n",
       "      <td>125.445899</td>\n",
       "      <td>202.092082</td>\n",
       "      <td>46.728412</td>\n",
       "      <td>5.391375</td>\n",
       "      <td>...</td>\n",
       "      <td>2.009426</td>\n",
       "      <td>0.475138</td>\n",
       "      <td>6084.992396</td>\n",
       "      <td>31.723429</td>\n",
       "      <td>224.719509</td>\n",
       "      <td>236.096397</td>\n",
       "      <td>86.388161</td>\n",
       "      <td>623.300059</td>\n",
       "      <td>4.443910</td>\n",
       "      <td>1.533429</td>\n",
       "    </tr>\n",
       "    <tr>\n",
       "      <th>min</th>\n",
       "      <td>1900.000000</td>\n",
       "      <td>1.833000e+03</td>\n",
       "      <td>1.642060e+08</td>\n",
       "      <td>-100.000000</td>\n",
       "      <td>-54.584000</td>\n",
       "      <td>0.000000</td>\n",
       "      <td>0.000000</td>\n",
       "      <td>0.000000</td>\n",
       "      <td>0.000000</td>\n",
       "      <td>0.000000</td>\n",
       "      <td>...</td>\n",
       "      <td>0.000000</td>\n",
       "      <td>0.000000</td>\n",
       "      <td>-100.000000</td>\n",
       "      <td>-42.829000</td>\n",
       "      <td>0.000000</td>\n",
       "      <td>0.000000</td>\n",
       "      <td>0.000000</td>\n",
       "      <td>0.000000</td>\n",
       "      <td>0.000000</td>\n",
       "      <td>0.000000</td>\n",
       "    </tr>\n",
       "    <tr>\n",
       "      <th>25%</th>\n",
       "      <td>1945.000000</td>\n",
       "      <td>1.691561e+06</td>\n",
       "      <td>1.365898e+10</td>\n",
       "      <td>0.013250</td>\n",
       "      <td>0.000000</td>\n",
       "      <td>0.000000</td>\n",
       "      <td>0.000000</td>\n",
       "      <td>0.000000</td>\n",
       "      <td>0.000000</td>\n",
       "      <td>0.000000</td>\n",
       "      <td>...</td>\n",
       "      <td>0.000000</td>\n",
       "      <td>0.000000</td>\n",
       "      <td>4.665000</td>\n",
       "      <td>0.000000</td>\n",
       "      <td>0.000000</td>\n",
       "      <td>0.000000</td>\n",
       "      <td>0.000000</td>\n",
       "      <td>0.000000</td>\n",
       "      <td>0.000000</td>\n",
       "      <td>0.000000</td>\n",
       "    </tr>\n",
       "    <tr>\n",
       "      <th>50%</th>\n",
       "      <td>1984.000000</td>\n",
       "      <td>6.968070e+06</td>\n",
       "      <td>4.167411e+10</td>\n",
       "      <td>8.251000</td>\n",
       "      <td>0.005000</td>\n",
       "      <td>18.697000</td>\n",
       "      <td>2.704500</td>\n",
       "      <td>0.137000</td>\n",
       "      <td>0.010000</td>\n",
       "      <td>0.067000</td>\n",
       "      <td>...</td>\n",
       "      <td>0.000000</td>\n",
       "      <td>0.000000</td>\n",
       "      <td>20.944000</td>\n",
       "      <td>0.000000</td>\n",
       "      <td>0.000000</td>\n",
       "      <td>0.000000</td>\n",
       "      <td>0.000000</td>\n",
       "      <td>0.000000</td>\n",
       "      <td>0.000000</td>\n",
       "      <td>0.000000</td>\n",
       "    </tr>\n",
       "    <tr>\n",
       "      <th>75%</th>\n",
       "      <td>2003.000000</td>\n",
       "      <td>2.538869e+07</td>\n",
       "      <td>1.744295e+11</td>\n",
       "      <td>25.328000</td>\n",
       "      <td>2.153000</td>\n",
       "      <td>238.256000</td>\n",
       "      <td>25.975500</td>\n",
       "      <td>36.301000</td>\n",
       "      <td>0.740000</td>\n",
       "      <td>1.610000</td>\n",
       "      <td>...</td>\n",
       "      <td>0.062000</td>\n",
       "      <td>0.004000</td>\n",
       "      <td>50.000000</td>\n",
       "      <td>0.105250</td>\n",
       "      <td>0.774000</td>\n",
       "      <td>0.715000</td>\n",
       "      <td>0.059000</td>\n",
       "      <td>13.208500</td>\n",
       "      <td>0.325500</td>\n",
       "      <td>0.053000</td>\n",
       "    </tr>\n",
       "    <tr>\n",
       "      <th>max</th>\n",
       "      <td>2022.000000</td>\n",
       "      <td>7.909295e+09</td>\n",
       "      <td>1.136302e+14</td>\n",
       "      <td>5659.328000</td>\n",
       "      <td>136.261000</td>\n",
       "      <td>1747.467000</td>\n",
       "      <td>1139.921000</td>\n",
       "      <td>2524.931000</td>\n",
       "      <td>666.280000</td>\n",
       "      <td>71.429000</td>\n",
       "      <td>...</td>\n",
       "      <td>40.000000</td>\n",
       "      <td>5.999000</td>\n",
       "      <td>242384.844000</td>\n",
       "      <td>679.413000</td>\n",
       "      <td>4872.095000</td>\n",
       "      <td>3219.852000</td>\n",
       "      <td>1848.260000</td>\n",
       "      <td>7361.917000</td>\n",
       "      <td>56.840000</td>\n",
       "      <td>24.614000</td>\n",
       "    </tr>\n",
       "  </tbody>\n",
       "</table>\n",
       "<p>8 rows × 127 columns</p>\n",
       "</div>"
      ],
      "text/plain": [
       "               year    population           gdp  biofuel_cons_change_pct  \\\n",
       "count  21890.000000  1.802900e+04  1.111300e+04               862.000000   \n",
       "mean    1973.661261  1.045117e+08  3.585114e+11                34.143052   \n",
       "std       34.960962  4.593929e+08  2.411179e+12               227.488193   \n",
       "min     1900.000000  1.833000e+03  1.642060e+08              -100.000000   \n",
       "25%     1945.000000  1.691561e+06  1.365898e+10                 0.013250   \n",
       "50%     1984.000000  6.968070e+06  4.167411e+10                 8.251000   \n",
       "75%     2003.000000  2.538869e+07  1.744295e+11                25.328000   \n",
       "max     2022.000000  7.909295e+09  1.136302e+14              5659.328000   \n",
       "\n",
       "       biofuel_cons_change_twh  biofuel_cons_per_capita  biofuel_consumption  \\\n",
       "count              1337.000000               952.000000          1372.000000   \n",
       "mean                  3.449835               159.620382            47.051201   \n",
       "std                  11.674255               269.540042           125.445899   \n",
       "min                 -54.584000                 0.000000             0.000000   \n",
       "25%                   0.000000                 0.000000             0.000000   \n",
       "50%                   0.005000                18.697000             2.704500   \n",
       "75%                   2.153000               238.256000            25.975500   \n",
       "max                 136.261000              1747.467000          1139.921000   \n",
       "\n",
       "       biofuel_elec_per_capita  biofuel_electricity  biofuel_share_elec  ...  \\\n",
       "count              5221.000000          5442.000000         5407.000000  ...   \n",
       "mean                 65.366646            11.032376            2.030252  ...   \n",
       "std                 202.092082            46.728412            5.391375  ...   \n",
       "min                   0.000000             0.000000            0.000000  ...   \n",
       "25%                   0.000000             0.000000            0.000000  ...   \n",
       "50%                   0.137000             0.010000            0.067000  ...   \n",
       "75%                  36.301000             0.740000            1.610000  ...   \n",
       "max                2524.931000           666.280000           71.429000  ...   \n",
       "\n",
       "       solar_share_elec  solar_share_energy  wind_cons_change_pct  \\\n",
       "count       6871.000000         5442.000000           2295.000000   \n",
       "mean           0.580494            0.129717            274.509119   \n",
       "std            2.009426            0.475138           6084.992396   \n",
       "min            0.000000            0.000000           -100.000000   \n",
       "25%            0.000000            0.000000              4.665000   \n",
       "50%            0.000000            0.000000             20.944000   \n",
       "75%            0.062000            0.004000             50.000000   \n",
       "max           40.000000            5.999000         242384.844000   \n",
       "\n",
       "       wind_cons_change_twh  wind_consumption  wind_elec_per_capita  \\\n",
       "count           5340.000000       5445.000000           7789.000000   \n",
       "mean               5.647746         40.340626             54.478592   \n",
       "std               31.723429        224.719509            236.096397   \n",
       "min              -42.829000          0.000000              0.000000   \n",
       "25%                0.000000          0.000000              0.000000   \n",
       "50%                0.000000          0.000000              0.000000   \n",
       "75%                0.105250          0.774000              0.715000   \n",
       "max              679.413000       4872.095000           3219.852000   \n",
       "\n",
       "       wind_electricity  wind_energy_per_capita  wind_share_elec  \\\n",
       "count       8676.000000             4779.000000      6871.000000   \n",
       "mean          14.571141              175.599518         1.358409   \n",
       "std           86.388161              623.300059         4.443910   \n",
       "min            0.000000                0.000000         0.000000   \n",
       "25%            0.000000                0.000000         0.000000   \n",
       "50%            0.000000                0.000000         0.000000   \n",
       "75%            0.059000               13.208500         0.325500   \n",
       "max         1848.260000             7361.917000        56.840000   \n",
       "\n",
       "       wind_share_energy  \n",
       "count        5445.000000  \n",
       "mean            0.440739  \n",
       "std             1.533429  \n",
       "min             0.000000  \n",
       "25%             0.000000  \n",
       "50%             0.000000  \n",
       "75%             0.053000  \n",
       "max            24.614000  \n",
       "\n",
       "[8 rows x 127 columns]"
      ]
     },
     "execution_count": 4,
     "metadata": {},
     "output_type": "execute_result"
    }
   ],
   "source": [
    "df.describe()"
   ]
  },
  {
   "cell_type": "markdown",
   "metadata": {},
   "source": [
    "### Load Webscraped Data"
   ]
  },
  {
   "cell_type": "code",
   "execution_count": 5,
   "metadata": {
    "ExecuteTime": {
     "end_time": "2023-05-16T13:12:30.823234300Z",
     "start_time": "2023-05-16T13:12:29.809246400Z"
    }
   },
   "outputs": [],
   "source": [
    "url = \"https://www.theglobaleconomy.com/rankings/human_development/\"\n",
    "page = requests.get(url)\n",
    "\n",
    "# Webscrape\n",
    "soup = BeautifulSoup(page.content, 'html.parser')\n",
    "table = soup.find(\"table\", attrs={\"id\": \"benchmarkTable\"})\n",
    "hdi_table = pd.read_html(str(table))[0].drop('Available data', axis=1)\n",
    "\n",
    "hdi_table.columns = [\"country\", \"hdi_2021\", \"hdi_rank_2021\"]"
   ]
  },
  {
   "cell_type": "code",
   "execution_count": 6,
   "metadata": {
    "ExecuteTime": {
     "end_time": "2023-05-16T13:12:30.832773400Z",
     "start_time": "2023-05-16T13:12:30.828775900Z"
    }
   },
   "outputs": [
    {
     "data": {
      "text/html": [
       "<div>\n",
       "<style scoped>\n",
       "    .dataframe tbody tr th:only-of-type {\n",
       "        vertical-align: middle;\n",
       "    }\n",
       "\n",
       "    .dataframe tbody tr th {\n",
       "        vertical-align: top;\n",
       "    }\n",
       "\n",
       "    .dataframe thead th {\n",
       "        text-align: right;\n",
       "    }\n",
       "</style>\n",
       "<table border=\"1\" class=\"dataframe\">\n",
       "  <thead>\n",
       "    <tr style=\"text-align: right;\">\n",
       "      <th></th>\n",
       "      <th>country</th>\n",
       "      <th>hdi_2021</th>\n",
       "      <th>hdi_rank_2021</th>\n",
       "    </tr>\n",
       "  </thead>\n",
       "  <tbody>\n",
       "    <tr>\n",
       "      <th>0</th>\n",
       "      <td>Switzerland</td>\n",
       "      <td>0.962</td>\n",
       "      <td>1</td>\n",
       "    </tr>\n",
       "    <tr>\n",
       "      <th>1</th>\n",
       "      <td>Norway</td>\n",
       "      <td>0.961</td>\n",
       "      <td>2</td>\n",
       "    </tr>\n",
       "    <tr>\n",
       "      <th>2</th>\n",
       "      <td>Iceland</td>\n",
       "      <td>0.959</td>\n",
       "      <td>3</td>\n",
       "    </tr>\n",
       "    <tr>\n",
       "      <th>3</th>\n",
       "      <td>Hong Kong</td>\n",
       "      <td>0.952</td>\n",
       "      <td>4</td>\n",
       "    </tr>\n",
       "    <tr>\n",
       "      <th>4</th>\n",
       "      <td>Australia</td>\n",
       "      <td>0.951</td>\n",
       "      <td>5</td>\n",
       "    </tr>\n",
       "  </tbody>\n",
       "</table>\n",
       "</div>"
      ],
      "text/plain": [
       "       country  hdi_2021  hdi_rank_2021\n",
       "0  Switzerland     0.962              1\n",
       "1       Norway     0.961              2\n",
       "2      Iceland     0.959              3\n",
       "3    Hong Kong     0.952              4\n",
       "4    Australia     0.951              5"
      ]
     },
     "execution_count": 6,
     "metadata": {},
     "output_type": "execute_result"
    }
   ],
   "source": [
    "hdi_table.head()"
   ]
  },
  {
   "cell_type": "markdown",
   "metadata": {},
   "source": [
    "## Data Wrangling\n",
    "\n",
    "* Merged world energy consumption and Human Developemnt Index Data by country\n",
    "* Added columns: gdp_per_capita, economic status: developed or developing\n",
    "* Added column continent via iso_code\n",
    "* Reordered dataframe columns"
   ]
  },
  {
   "cell_type": "code",
   "execution_count": 7,
   "metadata": {
    "ExecuteTime": {
     "end_time": "2023-05-16T13:12:30.838284700Z",
     "start_time": "2023-05-16T13:12:30.832773400Z"
    }
   },
   "outputs": [],
   "source": [
    "hdi_table['country'] = hdi_table['country'].replace(['USA', 'R. of Congo', 'UK', 'UAE'],\n",
    "                                                    ['United States', 'Congo', 'United Kingdom', 'United Arab Emirates'])"
   ]
  },
  {
   "cell_type": "code",
   "execution_count": 8,
   "metadata": {
    "ExecuteTime": {
     "end_time": "2023-05-16T13:12:30.891828900Z",
     "start_time": "2023-05-16T13:12:30.839356700Z"
    }
   },
   "outputs": [],
   "source": [
    "# Merge the two DataFrames\n",
    "merged_df = pd.merge(df, hdi_table, on='country')"
   ]
  },
  {
   "cell_type": "code",
   "execution_count": 9,
   "metadata": {
    "ExecuteTime": {
     "end_time": "2023-05-16T13:12:30.917140200Z",
     "start_time": "2023-05-16T13:12:30.863565200Z"
    }
   },
   "outputs": [],
   "source": [
    "# Add gdp_per_capita and status columns\n",
    "merged_df['gdp_per_capita'] = round(merged_df['gdp'] / merged_df['population'], 2)\n",
    "merged_df['status'] = ['developed' if x >= 18750 and y >= 0.8 else 'developing' for x, y in zip(merged_df['gdp_per_capita'],\n",
    "                                                                                                merged_df['hdi_2021'])]"
   ]
  },
  {
   "cell_type": "code",
   "execution_count": 10,
   "metadata": {
    "ExecuteTime": {
     "end_time": "2023-05-16T13:12:45.711572900Z",
     "start_time": "2023-05-16T13:12:30.872825700Z"
    }
   },
   "outputs": [],
   "source": [
    "#\n",
    "# Convert the entire 'iso_code' column to the 'continent' column\n",
    "merged_df['continent'] = coc.convert(names=merged_df['iso_code'].tolist(), to='continent', src='ISO3')"
   ]
  },
  {
   "cell_type": "code",
   "execution_count": 11,
   "metadata": {
    "ExecuteTime": {
     "end_time": "2023-05-16T13:12:45.729679600Z",
     "start_time": "2023-05-16T13:12:45.712574200Z"
    }
   },
   "outputs": [],
   "source": [
    "\n",
    "columns_order = ['country', 'year', 'iso_code', 'continent', 'status', 'population', 'hdi_rank_2021', 'hdi_2021', 'gdp','gdp_per_capita'] + [col for col in merged_df.columns if col not in ['country', 'year', 'iso_code', 'continent','status', 'population', 'hdi_rank_2021', 'hdi_2021', 'gdp', 'gdp_per_capita']]\n",
    "merged_df = merged_df[columns_order]"
   ]
  },
  {
   "cell_type": "code",
   "execution_count": 12,
   "metadata": {
    "ExecuteTime": {
     "end_time": "2023-05-16T13:12:45.749705Z",
     "start_time": "2023-05-16T13:12:45.730680300Z"
    }
   },
   "outputs": [],
   "source": [
    "\n",
    "developed_df = merged_df[merged_df['status'] == 'developed'].dropna(subset=['electricity_demand', 'electricity_generation'])\n",
    "\n",
    "developing_df = merged_df[merged_df['status'] == 'developing'].dropna(subset=['electricity_demand', 'electricity_generation'])\n",
    "\n",
    "demand_clean_developed = developed_df['electricity_demand']\n",
    "generation_clean_developed = developed_df['electricity_generation']\n",
    "demand_clean_developing = developing_df['electricity_demand']\n",
    "generation_clean_developing = developing_df['electricity_generation']"
   ]
  },
  {
   "cell_type": "code",
   "execution_count": 13,
   "metadata": {
    "ExecuteTime": {
     "end_time": "2023-05-16T13:12:45.760726300Z",
     "start_time": "2023-05-16T13:12:45.750706200Z"
    }
   },
   "outputs": [],
   "source": [
    "\n",
    "continent_plot = merged_df.groupby(['year', 'continent']).agg({'electricity_generation': 'sum'}).reset_index().rename(columns={'electricity_generation': 'total_electricity_generation'})\n",
    "\n",
    "continent_plot = continent_plot.dropna()\n",
    "\n",
    "continent_plot = continent_plot[(continent_plot['year'] != 2022) & (continent_plot['year'] >= 2000)]\n"
   ]
  },
  {
   "cell_type": "markdown",
   "metadata": {
    "ExecuteTime": {
     "end_time": "2023-05-16T02:32:00.134685800Z",
     "start_time": "2023-05-16T02:32:00.066472100Z"
    }
   },
   "source": [
    "## Analysis and Visualization"
   ]
  },
  {
   "cell_type": "code",
   "execution_count": 14,
   "metadata": {
    "ExecuteTime": {
     "end_time": "2023-05-16T13:12:45.826563500Z",
     "start_time": "2023-05-16T13:12:45.763726800Z"
    }
   },
   "outputs": [
    {
     "data": {
      "application/vnd.plotly.v1+json": {
       "config": {
        "plotlyServerURL": "https://plot.ly"
       },
       "data": [
        {
         "hovertemplate": "continent=Africa<br>Year=%{x}<br>Electricity (in Terrawatt-Hours)=%{y}<extra></extra>",
         "legendgroup": "Africa",
         "line": {
          "color": "#636efa",
          "dash": "solid"
         },
         "marker": {
          "symbol": "circle"
         },
         "mode": "lines+markers",
         "name": "Africa",
         "orientation": "v",
         "showlegend": true,
         "type": "scatter",
         "x": [
          2000,
          2001,
          2002,
          2003,
          2004,
          2005,
          2006,
          2007,
          2008,
          2009,
          2010,
          2011,
          2012,
          2013,
          2014,
          2015,
          2016,
          2017,
          2018,
          2019,
          2020,
          2021
         ],
         "xaxis": "x",
         "y": [
          407.11,
          423.65000000000003,
          448.13,
          471.17,
          499.69,
          519.39,
          541.38,
          566.41,
          575.8,
          577.9499999999999,
          645.36,
          651.7,
          679.08,
          695.14,
          719.78,
          741.37,
          748.28,
          776.78,
          792.09,
          803.4200000000001,
          782.03,
          814.27
         ],
         "yaxis": "y"
        },
        {
         "hovertemplate": "continent=America<br>Year=%{x}<br>Electricity (in Terrawatt-Hours)=%{y}<extra></extra>",
         "legendgroup": "America",
         "line": {
          "color": "#EF553B",
          "dash": "solid"
         },
         "marker": {
          "symbol": "circle"
         },
         "mode": "lines+markers",
         "name": "America",
         "orientation": "v",
         "showlegend": true,
         "type": "scatter",
         "x": [
          2000,
          2001,
          2002,
          2003,
          2004,
          2005,
          2006,
          2007,
          2008,
          2009,
          2010,
          2011,
          2012,
          2013,
          2014,
          2015,
          2016,
          2017,
          2018,
          2019,
          2020,
          2021
         ],
         "xaxis": "x",
         "y": [
          5323.88,
          5224.58,
          5378.3,
          5427.63,
          5583.4,
          5733.7699999999995,
          5783.84,
          5950.63,
          5952.48,
          5770.79,
          6008.03,
          6068.62,
          6070.6,
          6156.290000000001,
          6195.96,
          6228.4,
          6246.15,
          6227.19,
          6410.969999999999,
          6348.19,
          6237.73,
          6432.51
         ],
         "yaxis": "y"
        },
        {
         "hovertemplate": "continent=Asia<br>Year=%{x}<br>Electricity (in Terrawatt-Hours)=%{y}<extra></extra>",
         "legendgroup": "Asia",
         "line": {
          "color": "#00cc96",
          "dash": "solid"
         },
         "marker": {
          "symbol": "circle"
         },
         "mode": "lines+markers",
         "name": "Asia",
         "orientation": "v",
         "showlegend": true,
         "type": "scatter",
         "x": [
          2000,
          2001,
          2002,
          2003,
          2004,
          2005,
          2006,
          2007,
          2008,
          2009,
          2010,
          2011,
          2012,
          2013,
          2014,
          2015,
          2016,
          2017,
          2018,
          2019,
          2020,
          2021
         ],
         "xaxis": "x",
         "y": [
          4397.7699999999995,
          4601.72,
          4907.82,
          5278.95,
          5776.46,
          6202.73,
          6731.389999999999,
          7343.52,
          7593.43,
          7909.77,
          8752.74,
          9422.33,
          9882.87,
          10456.570000000002,
          11064.710000000001,
          11217.92,
          11745.3,
          12436.470000000001,
          13210.77,
          13648.539999999999,
          13826.36,
          14929.4
         ],
         "yaxis": "y"
        },
        {
         "hovertemplate": "continent=Europe<br>Year=%{x}<br>Electricity (in Terrawatt-Hours)=%{y}<extra></extra>",
         "legendgroup": "Europe",
         "line": {
          "color": "#ab63fa",
          "dash": "solid"
         },
         "marker": {
          "symbol": "circle"
         },
         "mode": "lines+markers",
         "name": "Europe",
         "orientation": "v",
         "showlegend": true,
         "type": "scatter",
         "x": [
          2000,
          2001,
          2002,
          2003,
          2004,
          2005,
          2006,
          2007,
          2008,
          2009,
          2010,
          2011,
          2012,
          2013,
          2014,
          2015,
          2016,
          2017,
          2018,
          2019,
          2020,
          2021
         ],
         "xaxis": "x",
         "y": [
          4288.93,
          4366.71,
          4396.85,
          4495.719999999999,
          4587.17,
          4647.43,
          4735.55,
          4789.88,
          4830.85,
          4592.61,
          4793.13,
          4756.24,
          4788.58,
          4743.29,
          4659.08,
          4691.01,
          4740,
          4758.76,
          4767.52,
          4724.49,
          4585.36,
          4775.7609999999995
         ],
         "yaxis": "y"
        },
        {
         "hovertemplate": "continent=Oceania<br>Year=%{x}<br>Electricity (in Terrawatt-Hours)=%{y}<extra></extra>",
         "legendgroup": "Oceania",
         "line": {
          "color": "#FFA15A",
          "dash": "solid"
         },
         "marker": {
          "symbol": "circle"
         },
         "mode": "lines+markers",
         "name": "Oceania",
         "orientation": "v",
         "showlegend": true,
         "type": "scatter",
         "x": [
          2000,
          2001,
          2002,
          2003,
          2004,
          2005,
          2006,
          2007,
          2008,
          2009,
          2010,
          2011,
          2012,
          2013,
          2014,
          2015,
          2016,
          2017,
          2018,
          2019,
          2020,
          2021
         ],
         "xaxis": "x",
         "y": [
          237.17,
          250.94,
          255.01999999999998,
          254.09,
          265.56,
          258.23,
          263.05,
          273.03000000000003,
          273.05,
          278,
          278.33,
          285.27,
          277.63,
          273.46999999999997,
          285.43,
          275.41,
          290.24,
          294.57,
          295.21999999999997,
          295.13,
          295.52,
          291.96
         ],
         "yaxis": "y"
        }
       ],
       "layout": {
        "legend": {
         "title": {
          "text": "continent"
         },
         "tracegroupgap": 0
        },
        "template": {
         "data": {
          "bar": [
           {
            "error_x": {
             "color": "#2a3f5f"
            },
            "error_y": {
             "color": "#2a3f5f"
            },
            "marker": {
             "line": {
              "color": "white",
              "width": 0.5
             },
             "pattern": {
              "fillmode": "overlay",
              "size": 10,
              "solidity": 0.2
             }
            },
            "type": "bar"
           }
          ],
          "barpolar": [
           {
            "marker": {
             "line": {
              "color": "white",
              "width": 0.5
             },
             "pattern": {
              "fillmode": "overlay",
              "size": 10,
              "solidity": 0.2
             }
            },
            "type": "barpolar"
           }
          ],
          "carpet": [
           {
            "aaxis": {
             "endlinecolor": "#2a3f5f",
             "gridcolor": "#C8D4E3",
             "linecolor": "#C8D4E3",
             "minorgridcolor": "#C8D4E3",
             "startlinecolor": "#2a3f5f"
            },
            "baxis": {
             "endlinecolor": "#2a3f5f",
             "gridcolor": "#C8D4E3",
             "linecolor": "#C8D4E3",
             "minorgridcolor": "#C8D4E3",
             "startlinecolor": "#2a3f5f"
            },
            "type": "carpet"
           }
          ],
          "choropleth": [
           {
            "colorbar": {
             "outlinewidth": 0,
             "ticks": ""
            },
            "type": "choropleth"
           }
          ],
          "contour": [
           {
            "colorbar": {
             "outlinewidth": 0,
             "ticks": ""
            },
            "colorscale": [
             [
              0,
              "#0d0887"
             ],
             [
              0.1111111111111111,
              "#46039f"
             ],
             [
              0.2222222222222222,
              "#7201a8"
             ],
             [
              0.3333333333333333,
              "#9c179e"
             ],
             [
              0.4444444444444444,
              "#bd3786"
             ],
             [
              0.5555555555555556,
              "#d8576b"
             ],
             [
              0.6666666666666666,
              "#ed7953"
             ],
             [
              0.7777777777777778,
              "#fb9f3a"
             ],
             [
              0.8888888888888888,
              "#fdca26"
             ],
             [
              1,
              "#f0f921"
             ]
            ],
            "type": "contour"
           }
          ],
          "contourcarpet": [
           {
            "colorbar": {
             "outlinewidth": 0,
             "ticks": ""
            },
            "type": "contourcarpet"
           }
          ],
          "heatmap": [
           {
            "colorbar": {
             "outlinewidth": 0,
             "ticks": ""
            },
            "colorscale": [
             [
              0,
              "#0d0887"
             ],
             [
              0.1111111111111111,
              "#46039f"
             ],
             [
              0.2222222222222222,
              "#7201a8"
             ],
             [
              0.3333333333333333,
              "#9c179e"
             ],
             [
              0.4444444444444444,
              "#bd3786"
             ],
             [
              0.5555555555555556,
              "#d8576b"
             ],
             [
              0.6666666666666666,
              "#ed7953"
             ],
             [
              0.7777777777777778,
              "#fb9f3a"
             ],
             [
              0.8888888888888888,
              "#fdca26"
             ],
             [
              1,
              "#f0f921"
             ]
            ],
            "type": "heatmap"
           }
          ],
          "heatmapgl": [
           {
            "colorbar": {
             "outlinewidth": 0,
             "ticks": ""
            },
            "colorscale": [
             [
              0,
              "#0d0887"
             ],
             [
              0.1111111111111111,
              "#46039f"
             ],
             [
              0.2222222222222222,
              "#7201a8"
             ],
             [
              0.3333333333333333,
              "#9c179e"
             ],
             [
              0.4444444444444444,
              "#bd3786"
             ],
             [
              0.5555555555555556,
              "#d8576b"
             ],
             [
              0.6666666666666666,
              "#ed7953"
             ],
             [
              0.7777777777777778,
              "#fb9f3a"
             ],
             [
              0.8888888888888888,
              "#fdca26"
             ],
             [
              1,
              "#f0f921"
             ]
            ],
            "type": "heatmapgl"
           }
          ],
          "histogram": [
           {
            "marker": {
             "pattern": {
              "fillmode": "overlay",
              "size": 10,
              "solidity": 0.2
             }
            },
            "type": "histogram"
           }
          ],
          "histogram2d": [
           {
            "colorbar": {
             "outlinewidth": 0,
             "ticks": ""
            },
            "colorscale": [
             [
              0,
              "#0d0887"
             ],
             [
              0.1111111111111111,
              "#46039f"
             ],
             [
              0.2222222222222222,
              "#7201a8"
             ],
             [
              0.3333333333333333,
              "#9c179e"
             ],
             [
              0.4444444444444444,
              "#bd3786"
             ],
             [
              0.5555555555555556,
              "#d8576b"
             ],
             [
              0.6666666666666666,
              "#ed7953"
             ],
             [
              0.7777777777777778,
              "#fb9f3a"
             ],
             [
              0.8888888888888888,
              "#fdca26"
             ],
             [
              1,
              "#f0f921"
             ]
            ],
            "type": "histogram2d"
           }
          ],
          "histogram2dcontour": [
           {
            "colorbar": {
             "outlinewidth": 0,
             "ticks": ""
            },
            "colorscale": [
             [
              0,
              "#0d0887"
             ],
             [
              0.1111111111111111,
              "#46039f"
             ],
             [
              0.2222222222222222,
              "#7201a8"
             ],
             [
              0.3333333333333333,
              "#9c179e"
             ],
             [
              0.4444444444444444,
              "#bd3786"
             ],
             [
              0.5555555555555556,
              "#d8576b"
             ],
             [
              0.6666666666666666,
              "#ed7953"
             ],
             [
              0.7777777777777778,
              "#fb9f3a"
             ],
             [
              0.8888888888888888,
              "#fdca26"
             ],
             [
              1,
              "#f0f921"
             ]
            ],
            "type": "histogram2dcontour"
           }
          ],
          "mesh3d": [
           {
            "colorbar": {
             "outlinewidth": 0,
             "ticks": ""
            },
            "type": "mesh3d"
           }
          ],
          "parcoords": [
           {
            "line": {
             "colorbar": {
              "outlinewidth": 0,
              "ticks": ""
             }
            },
            "type": "parcoords"
           }
          ],
          "pie": [
           {
            "automargin": true,
            "type": "pie"
           }
          ],
          "scatter": [
           {
            "fillpattern": {
             "fillmode": "overlay",
             "size": 10,
             "solidity": 0.2
            },
            "type": "scatter"
           }
          ],
          "scatter3d": [
           {
            "line": {
             "colorbar": {
              "outlinewidth": 0,
              "ticks": ""
             }
            },
            "marker": {
             "colorbar": {
              "outlinewidth": 0,
              "ticks": ""
             }
            },
            "type": "scatter3d"
           }
          ],
          "scattercarpet": [
           {
            "marker": {
             "colorbar": {
              "outlinewidth": 0,
              "ticks": ""
             }
            },
            "type": "scattercarpet"
           }
          ],
          "scattergeo": [
           {
            "marker": {
             "colorbar": {
              "outlinewidth": 0,
              "ticks": ""
             }
            },
            "type": "scattergeo"
           }
          ],
          "scattergl": [
           {
            "marker": {
             "colorbar": {
              "outlinewidth": 0,
              "ticks": ""
             }
            },
            "type": "scattergl"
           }
          ],
          "scattermapbox": [
           {
            "marker": {
             "colorbar": {
              "outlinewidth": 0,
              "ticks": ""
             }
            },
            "type": "scattermapbox"
           }
          ],
          "scatterpolar": [
           {
            "marker": {
             "colorbar": {
              "outlinewidth": 0,
              "ticks": ""
             }
            },
            "type": "scatterpolar"
           }
          ],
          "scatterpolargl": [
           {
            "marker": {
             "colorbar": {
              "outlinewidth": 0,
              "ticks": ""
             }
            },
            "type": "scatterpolargl"
           }
          ],
          "scatterternary": [
           {
            "marker": {
             "colorbar": {
              "outlinewidth": 0,
              "ticks": ""
             }
            },
            "type": "scatterternary"
           }
          ],
          "surface": [
           {
            "colorbar": {
             "outlinewidth": 0,
             "ticks": ""
            },
            "colorscale": [
             [
              0,
              "#0d0887"
             ],
             [
              0.1111111111111111,
              "#46039f"
             ],
             [
              0.2222222222222222,
              "#7201a8"
             ],
             [
              0.3333333333333333,
              "#9c179e"
             ],
             [
              0.4444444444444444,
              "#bd3786"
             ],
             [
              0.5555555555555556,
              "#d8576b"
             ],
             [
              0.6666666666666666,
              "#ed7953"
             ],
             [
              0.7777777777777778,
              "#fb9f3a"
             ],
             [
              0.8888888888888888,
              "#fdca26"
             ],
             [
              1,
              "#f0f921"
             ]
            ],
            "type": "surface"
           }
          ],
          "table": [
           {
            "cells": {
             "fill": {
              "color": "#EBF0F8"
             },
             "line": {
              "color": "white"
             }
            },
            "header": {
             "fill": {
              "color": "#C8D4E3"
             },
             "line": {
              "color": "white"
             }
            },
            "type": "table"
           }
          ]
         },
         "layout": {
          "annotationdefaults": {
           "arrowcolor": "#2a3f5f",
           "arrowhead": 0,
           "arrowwidth": 1
          },
          "autotypenumbers": "strict",
          "coloraxis": {
           "colorbar": {
            "outlinewidth": 0,
            "ticks": ""
           }
          },
          "colorscale": {
           "diverging": [
            [
             0,
             "#8e0152"
            ],
            [
             0.1,
             "#c51b7d"
            ],
            [
             0.2,
             "#de77ae"
            ],
            [
             0.3,
             "#f1b6da"
            ],
            [
             0.4,
             "#fde0ef"
            ],
            [
             0.5,
             "#f7f7f7"
            ],
            [
             0.6,
             "#e6f5d0"
            ],
            [
             0.7,
             "#b8e186"
            ],
            [
             0.8,
             "#7fbc41"
            ],
            [
             0.9,
             "#4d9221"
            ],
            [
             1,
             "#276419"
            ]
           ],
           "sequential": [
            [
             0,
             "#0d0887"
            ],
            [
             0.1111111111111111,
             "#46039f"
            ],
            [
             0.2222222222222222,
             "#7201a8"
            ],
            [
             0.3333333333333333,
             "#9c179e"
            ],
            [
             0.4444444444444444,
             "#bd3786"
            ],
            [
             0.5555555555555556,
             "#d8576b"
            ],
            [
             0.6666666666666666,
             "#ed7953"
            ],
            [
             0.7777777777777778,
             "#fb9f3a"
            ],
            [
             0.8888888888888888,
             "#fdca26"
            ],
            [
             1,
             "#f0f921"
            ]
           ],
           "sequentialminus": [
            [
             0,
             "#0d0887"
            ],
            [
             0.1111111111111111,
             "#46039f"
            ],
            [
             0.2222222222222222,
             "#7201a8"
            ],
            [
             0.3333333333333333,
             "#9c179e"
            ],
            [
             0.4444444444444444,
             "#bd3786"
            ],
            [
             0.5555555555555556,
             "#d8576b"
            ],
            [
             0.6666666666666666,
             "#ed7953"
            ],
            [
             0.7777777777777778,
             "#fb9f3a"
            ],
            [
             0.8888888888888888,
             "#fdca26"
            ],
            [
             1,
             "#f0f921"
            ]
           ]
          },
          "colorway": [
           "#636efa",
           "#EF553B",
           "#00cc96",
           "#ab63fa",
           "#FFA15A",
           "#19d3f3",
           "#FF6692",
           "#B6E880",
           "#FF97FF",
           "#FECB52"
          ],
          "font": {
           "color": "#2a3f5f"
          },
          "geo": {
           "bgcolor": "white",
           "lakecolor": "white",
           "landcolor": "white",
           "showlakes": true,
           "showland": true,
           "subunitcolor": "#C8D4E3"
          },
          "hoverlabel": {
           "align": "left"
          },
          "hovermode": "closest",
          "mapbox": {
           "style": "light"
          },
          "paper_bgcolor": "white",
          "plot_bgcolor": "white",
          "polar": {
           "angularaxis": {
            "gridcolor": "#EBF0F8",
            "linecolor": "#EBF0F8",
            "ticks": ""
           },
           "bgcolor": "white",
           "radialaxis": {
            "gridcolor": "#EBF0F8",
            "linecolor": "#EBF0F8",
            "ticks": ""
           }
          },
          "scene": {
           "xaxis": {
            "backgroundcolor": "white",
            "gridcolor": "#DFE8F3",
            "gridwidth": 2,
            "linecolor": "#EBF0F8",
            "showbackground": true,
            "ticks": "",
            "zerolinecolor": "#EBF0F8"
           },
           "yaxis": {
            "backgroundcolor": "white",
            "gridcolor": "#DFE8F3",
            "gridwidth": 2,
            "linecolor": "#EBF0F8",
            "showbackground": true,
            "ticks": "",
            "zerolinecolor": "#EBF0F8"
           },
           "zaxis": {
            "backgroundcolor": "white",
            "gridcolor": "#DFE8F3",
            "gridwidth": 2,
            "linecolor": "#EBF0F8",
            "showbackground": true,
            "ticks": "",
            "zerolinecolor": "#EBF0F8"
           }
          },
          "shapedefaults": {
           "line": {
            "color": "#2a3f5f"
           }
          },
          "ternary": {
           "aaxis": {
            "gridcolor": "#DFE8F3",
            "linecolor": "#A2B1C6",
            "ticks": ""
           },
           "baxis": {
            "gridcolor": "#DFE8F3",
            "linecolor": "#A2B1C6",
            "ticks": ""
           },
           "bgcolor": "white",
           "caxis": {
            "gridcolor": "#DFE8F3",
            "linecolor": "#A2B1C6",
            "ticks": ""
           }
          },
          "title": {
           "x": 0.05
          },
          "xaxis": {
           "automargin": true,
           "gridcolor": "#EBF0F8",
           "linecolor": "#EBF0F8",
           "ticks": "",
           "title": {
            "standoff": 15
           },
           "zerolinecolor": "#EBF0F8",
           "zerolinewidth": 2
          },
          "yaxis": {
           "automargin": true,
           "gridcolor": "#EBF0F8",
           "linecolor": "#EBF0F8",
           "ticks": "",
           "title": {
            "standoff": 15
           },
           "zerolinecolor": "#EBF0F8",
           "zerolinewidth": 2
          }
         }
        },
        "title": {
         "text": "Total Electrictity Generated by Continent (2000 - 2020)"
        },
        "xaxis": {
         "anchor": "y",
         "domain": [
          0,
          1
         ],
         "tickmode": "array",
         "tickvals": [
          2000,
          2002,
          2004,
          2006,
          2008,
          2010,
          2012,
          2014,
          2016,
          2018,
          2020
         ],
         "title": {
          "text": "Year"
         }
        },
        "yaxis": {
         "anchor": "x",
         "domain": [
          0,
          1
         ],
         "tickmode": "array",
         "tickvals": [
          0,
          1000,
          2000,
          3000,
          4000,
          5000,
          6000,
          7000,
          8000,
          9000,
          10000,
          11000,
          12000,
          13000,
          14000,
          15000
         ],
         "title": {
          "text": "Electricity (in Terrawatt-Hours)"
         }
        }
       }
      }
     },
     "metadata": {},
     "output_type": "display_data"
    }
   ],
   "source": [
    "continent_plot = px.line(continent_plot,\n",
    "                         x='year',\n",
    "                         y='total_electricity_generation',\n",
    "                         color='continent',\n",
    "                         title='Total Electrictity Generated by Continent (2000 - 2020)',\n",
    "                         labels={'year': 'Year', 'total_electricity_generation': 'Electricity (in Terrawatt-Hours)'},\n",
    "                         markers=True)\n",
    "\n",
    "continent_plot.update_xaxes(tickmode='array', tickvals=list(range(2000, 2022, 2)))\n",
    "continent_plot.update_yaxes(tickmode='array', tickvals=list(range(0, 15001, 1000)))\n",
    "\n",
    "continent_plot.update_layout(template='plotly_white')\n",
    "\n",
    "continent_plot.show()"
   ]
  },
  {
   "cell_type": "code",
   "execution_count": 15,
   "metadata": {
    "ExecuteTime": {
     "end_time": "2023-05-16T17:56:09.386522500Z",
     "start_time": "2023-05-16T17:56:09.225863800Z"
    }
   },
   "outputs": [
    {
     "data": {
      "image/png": "[encoded data removed]",
      "text/plain": [
       "<Figure size 800x600 with 1 Axes>"
      ]
     },
     "metadata": {},
     "output_type": "display_data"
    }
   ],
   "source": [
    "count_df = merged_df.groupby(['country', 'status']).size().reset_index(name='n').drop(columns='n')\n",
    "\n",
    "plt.figure(figsize=(8, 6))\n",
    "bar_p = sns.countplot(data=count_df, y='status', palette='viridis')\n",
    "plt.title('Number of Developed and Developing Countries')\n",
    "plt.xlabel('Number of Countries')\n",
    "plt.yticks(ticks=[0, 1], labels=['Developing', 'Developed'])\n",
    "plt.xticks(ticks=list(range(0, 176, 25)))\n",
    "\n",
    "for p in bar_p.patches:\n",
    "    bar_p.annotate(f'{p.get_width()}', (p.get_width(), p.get_y() + p.get_height() / 2),\n",
    "                   ha='left', va='center', xytext=(3, 0), textcoords='offset points')\n",
    "\n",
    "plt.show()"
   ]
  },
  {
   "cell_type": "code",
   "execution_count": 17,
   "metadata": {
    "ExecuteTime": {
     "end_time": "2023-05-16T13:12:46.386872100Z",
     "start_time": "2023-05-16T13:12:46.006879700Z"
    }
   },
   "outputs": [
    {
     "data": {
      "image/png": "[encoded data removed]",
      "text/plain": [
       "<Figure size 800x600 with 1 Axes>"
      ]
     },
     "metadata": {},
     "output_type": "display_data"
    }
   ],
   "source": [
    "\n",
    "plt.figure(figsize=(8, 6))\n",
    "violin_plot = sns.violinplot(data=merged_df, x='status', y='electricity_demand', scale='count', inner='quartile', palette='viridis')\n",
    "\n",
    "\n",
    "plt.xlabel('Status')\n",
    "plt.ylabel('Electricity Demand')\n",
    "plt.yscale('log')\n",
    "plt.title('Violin Plot for Electricity Demand Developed and Developing Nations')\n",
    "\n",
    "sns.set_style('whitegrid')\n",
    "\n",
    "plt.show()"
   ]
  },
  {
   "cell_type": "markdown",
   "metadata": {
    "ExecuteTime": {
     "end_time": "2023-05-16T02:32:00.702466Z",
     "start_time": "2023-05-16T02:32:00.696774700Z"
    }
   },
   "source": [
    "### Hypothesis Testing\n",
    "\n",
    "* $h_0$ = means of demand and generation are equal\n",
    "* $h_1$ = means of demand and generation are not equal\n",
    "* $\\alpha$ = 0.05"
   ]
  },
  {
   "cell_type": "markdown",
   "metadata": {
    "ExecuteTime": {
     "end_time": "2023-05-16T02:33:23.952853400Z",
     "start_time": "2023-05-16T02:33:22.076214500Z"
    }
   },
   "source": [
    "### t test for developed countries"
   ]
  },
  {
   "cell_type": "code",
   "execution_count": 18,
   "metadata": {
    "ExecuteTime": {
     "end_time": "2023-05-16T13:12:46.394542Z",
     "start_time": "2023-05-16T13:12:46.387872100Z"
    }
   },
   "outputs": [
    {
     "name": "stdout",
     "output_type": "stream",
     "text": [
      "T-statistic: 0.0166030861055511\n",
      "P-value: 0.986754938737981\n"
     ]
    }
   ],
   "source": [
    "# Perform the t-test\n",
    "t_statistic, p_value = stats.ttest_ind(a = demand_clean_developed,\n",
    "                                       b= generation_clean_developed,\n",
    "                                       equal_var=False)\n",
    "\n",
    "print(f'T-statistic: {t_statistic}')\n",
    "print(f'P-value: {p_value}')"
   ]
  },
  {
   "cell_type": "code",
   "execution_count": 19,
   "metadata": {
    "ExecuteTime": {
     "end_time": "2023-05-16T13:12:46.400326500Z",
     "start_time": "2023-05-16T13:12:46.393540700Z"
    }
   },
   "outputs": [
    {
     "name": "stdout",
     "output_type": "stream",
     "text": [
      "T-statistic: -0.004223632694763255\n",
      "P-value: 0.9966301786493077\n"
     ]
    }
   ],
   "source": [
    "t_statistic_developing, p_value_developing = stats.ttest_ind(a = demand_clean_developing,\n",
    "                                                             b = generation_clean_developing,\n",
    "                                                             equal_var=False)\n",
    "print(f'T-statistic: {t_statistic_developing}')\n",
    "print(f'P-value: {p_value_developing}')"
   ]
  },
  {
   "cell_type": "code",
   "execution_count": 20,
   "metadata": {
    "ExecuteTime": {
     "end_time": "2023-05-16T13:12:48.019467700Z",
     "start_time": "2023-05-16T13:12:46.400326500Z"
    }
   },
   "outputs": [
    {
     "name": "stderr",
     "output_type": "stream",
     "text": [
      "c:\\Users\\Nick Climaco\\Documents\\DATA-602-NC\\pyfiles\\Lib\\site-packages\\seaborn\\axisgrid.py:181: UserWarning:\n",
      "\n",
      "You have mixed positional and keyword arguments, some input may be discarded.\n",
      "\n"
     ]
    },
    {
     "data": {
      "image/png": "[encoded data removed]",
      "text/plain": [
       "<Figure size 1318.88x400 with 2 Axes>"
      ]
     },
     "metadata": {},
     "output_type": "display_data"
    }
   ],
   "source": [
    "total_electricity = merged_df.groupby(['year', 'status'])[['electricity_generation',\n",
    "                                                           'electricity_demand']].sum().reset_index()\n",
    "total_electricity = total_electricity[total_electricity['year'] >= 1990]\n",
    "total_electricity_melted = total_electricity.melt(id_vars=['year', 'status'],\n",
    "                                                  value_vars=['electricity_generation','electricity_demand'],\n",
    "                                                  var_name='type',\n",
    "                                                  value_name='value')\n",
    "\n",
    "sorted_years = sorted(total_electricity_melted['year'].unique())\n",
    "\n",
    "g = sns.FacetGrid(total_electricity_melted, col='status', height=4, aspect=1.5)\n",
    "\n",
    "g.map_dataframe(sns.barplot, x='year', y='value', hue='type',\n",
    "                palette=['green', 'red'], alpha=0.8,\n",
    "                hue_order=['electricity_generation', 'electricity_demand'],\n",
    "                order=sorted_years)\n",
    "\n",
    "g.set_titles(\"Status: {col_name}\")\n",
    "g.add_legend(title=\"Electricity\", labels=['Generation', 'Demand'], loc='upper left')\n",
    "\n",
    "g.set_xticklabels(rotation=90)\n",
    "\n",
    "plt.show()"
   ]
  },
  {
   "cell_type": "markdown",
   "metadata": {},
   "source": [
    "# Regression"
   ]
  },
  {
   "cell_type": "code",
   "execution_count": 21,
   "metadata": {},
   "outputs": [
    {
     "name": "stdout",
     "output_type": "stream",
     "text": [
      "(989, 1) (989,)\n"
     ]
    }
   ],
   "source": [
    "X = generation_clean_developed\n",
    "y = demand_clean_developed\n",
    "\n",
    "X = X.values.reshape(-1,1)\n",
    "print(X.shape, y.shape)"
   ]
  },
  {
   "cell_type": "code",
   "execution_count": 22,
   "metadata": {},
   "outputs": [],
   "source": [
    "from sklearn.linear_model import LinearRegression\n",
    "from sklearn.neighbors import KNeighborsClassifier\n",
    "from sklearn.model_selection import train_test_split"
   ]
  },
  {
   "cell_type": "code",
   "execution_count": 23,
   "metadata": {},
   "outputs": [],
   "source": [
    "reg = LinearRegression()\n",
    "\n",
    "reg.fit(X,y)\n",
    "predictions = reg.predict(X)"
   ]
  },
  {
   "cell_type": "code",
   "execution_count": 24,
   "metadata": {
    "ExecuteTime": {
     "end_time": "2023-05-16T16:38:28.513664300Z",
     "start_time": "2023-05-16T16:38:28.320013100Z"
    }
   },
   "outputs": [
    {
     "data": {
      "image/png": "[encoded data removed]",
      "text/plain": [
       "<Figure size 640x480 with 1 Axes>"
      ]
     },
     "metadata": {},
     "output_type": "display_data"
    }
   ],
   "source": [
    "plt.scatter(X,y, color = 'blue')\n",
    "plt.xlabel(\"Electricity Generation\")\n",
    "plt.ylabel(\"Electricity Demand\")\n",
    "plt.plot(X, predictions, color = 'red')\n",
    "\n",
    "plt.show()"
   ]
  },
  {
   "cell_type": "markdown",
   "metadata": {},
   "source": [
    "# Conclusion\n",
    "In this project\n",
    "* analyzed electricity demand and generation for the two groups of countries\n",
    "* explored data visualization techniques including violinplot, lineplot, and barplot; and packages such as seaborn, matplotlib and plotly\n",
    "* used t test to explore the relationship between different variables and draw inferences from the data\n",
    "\n",
    "Ultimately, we found that electricity demand and generation, regardless of a country's economic status, are statistically equal. This indicates that countries are currently able to meet their electricity demands. However, this also implies that the electricity supply systems are operating with minimal room for error. Consequently, any unforeseen disruptions, such as natural disasters, infrastructure failures, or geopolitical events, could lead to shortages and power blackouts. As developing countries continue to grow economically, their electricity demand is likely to increase. Policymakers and utility companies should anticipate this growth and invest in infrastructure and generation capacity to meet the growing demand. Moreover, while our findings indicate that countries are meeting their electricity demands on average, there may still be disparities in access to electricity within countries. Policymakers should consider strategies to improve energy access for all citizens, particularly in rural and remote areas."
   ]
  }
 ],
 "metadata": {
  "kernelspec": {
   "display_name": "Python 3 (ipykernel)",
   "language": "python",
   "name": "python3"
  },
  "language_info": {
   "codemirror_mode": {
    "name": "ipython",
    "version": 3
   },
   "file_extension": ".py",
   "mimetype": "text/x-python",
   "name": "python",
   "nbconvert_exporter": "python",
   "pygments_lexer": "ipython3",
   "version": "3.11.2"
  }
 },
 "nbformat": 4,
 "nbformat_minor": 1
}
