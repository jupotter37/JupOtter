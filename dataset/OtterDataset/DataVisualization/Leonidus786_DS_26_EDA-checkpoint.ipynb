{
 "cells": [
  {
   "cell_type": "markdown",
   "metadata": {
    "id": "yJyWUT779Au8"
   },
   "source": [
    "# **Introduction to Exploratory Data Analytics (EDA)**\n",
    "\n",
    "# ***What is EDA ?***\n",
    "#### Exploratory Data Analysis (EDA) is the process of investigating datasets to uncover patterns, anomalies, and other insights. It's a critical step in data science and machine learning, where you use various tools and techniques to understand the data's structure and characteristics before applying any modeling techniques.\n",
    "\n",
    "# **Key Objectives of EDA**\n",
    "\n",
    "### Summarize Main Characteristics: Use descriptive statistics to summarize data.\n",
    "### Identify Patterns: Detect trends and relationships between variables.\n",
    "### Spot Anomalies: Find outliers and unusual observations.\n",
    "### Test Hypotheses: Use data visualizations to test assumptions.\n",
    "### Prepare Data for Modeling: Clean and preprocess data for machine learning algorithms.\n",
    "\n",
    "## **Common EDA Techniques**\n",
    "### Descriptive Statistics: Measures of central tendency (mean, median, mode) and measures of dispersion (range, variance, standard deviation).\n",
    "### Data Visualization: Charts and graphs such as histograms, box plots, scatter plots, and heatmaps.\n",
    "### Data Cleaning: Handling missing values, outliers, and data types.\n",
    "\n",
    "## **Libraries and Modules Used for EDA**\n",
    "### ***Pandas***\n",
    "#### Pandas is a powerful Python library for data manipulation and analysis. It provides data structures like DataFrames and Series which are ideal for handling and analyzing structured data.\n",
    "\n",
    "### ***Common Functions***\n",
    "### Read Data: pd.read_csv('file.csv'), pd.read_excel('file.xlsx')\n",
    "### Data Inspection: df.head(), df.tail(), df.info(), df.describe()\n",
    "### Handling Missing Values: df.isnull(), df.fillna(), df.dropna()\n",
    "### Data Grouping: df.groupby('column')\n",
    "\n",
    "## ***NumPy***\n",
    "### NumPy provides support for arrays and matrices along with a collection of mathematical functions to operate on these data structures.\n",
    "\n",
    "### ***Common Functions***\n",
    "1. Array Creation: np.array([1, 2, 3])\n",
    "2. Basic Operations: np.mean(array), np.median(array), np.std(array)\n",
    "\n",
    "## **Matplotlib**\n",
    "### Matplotlib is a plotting library used for creating static, animated, and interactive visualizations.\n",
    "\n",
    "## ***Common Functions***\n",
    "### Plotting: plt.plot(), plt.scatter(), plt.hist(), plt.bar(), plt.boxplot()\n",
    "### Customization: plt.title(), plt.xlabel(), plt.ylabel(), plt.legend()\n",
    "\n",
    "## ***Seaborn***\n",
    "\n",
    "### Seaborn is built on top of Matplotlib and provides a high-level interface for drawing attractive statistical graphics.\n",
    "\n",
    "## ***Common Functions***\n",
    "\n",
    "### Plotting: sns.heatmap(), sns.pairplot(), sns.distplot(), sns.countplot()\n",
    "\n",
    "## ***SciPy***\n",
    "\n",
    "### SciPy is used for scientific and technical computing.\n",
    "\n",
    "## ***Common Functions***\n",
    "\n",
    "### Statistics: scipy.stats.describe(data), scipy.stats.linregress(x, y)\n",
    "\n",
    "## ***Plotly***\n",
    "\n",
    "### Plotly is an interactive graphing library that makes it easy to create interactive plots.\n",
    "\n",
    "### ***Common Functions***\n",
    "\n",
    "### Plotting: plotly.express.scatter(), plotly.express.line(), plotly.express.bar(), plotly.express.heatmap(), plotly.express.box()"
   ]
  },
  {
   "cell_type": "code",
   "execution_count": null,
   "metadata": {
    "id": "FgP1_sHh8qNG"
   },
   "outputs": [],
   "source": []
  }
 ],
 "metadata": {
  "colab": {
   "provenance": []
  },
  "kernelspec": {
   "display_name": "Python 3 (ipykernel)",
   "language": "python",
   "name": "python3"
  },
  "language_info": {
   "codemirror_mode": {
    "name": "ipython",
    "version": 3
   },
   "file_extension": ".py",
   "mimetype": "text/x-python",
   "name": "python",
   "nbconvert_exporter": "python",
   "pygments_lexer": "ipython3",
   "version": "3.11.7"
  }
 },
 "nbformat": 4,
 "nbformat_minor": 4
}
