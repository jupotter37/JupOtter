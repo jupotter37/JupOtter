{
 "cells": [
  {
   "cell_type": "markdown",
   "metadata": {},
   "source": [
    "![Bokeh](bokeh_logo.png)\n",
    "\n",
    "# Bokeh: An Interactive Data Visualization Library in CodeBook\n",
    "\n",
    "\n",
    "## Bokeh Overview\n",
    "\n",
    "\n",
    "\n",
    "Bokeh is a Python library for creating interactive visualizations for modern web browsers including Jupyter Notebook and Refinitiv CodeBook. It allows users to create ready-to-use appealing plots and charts nearly without much tweaking. \n",
    "\n",
    "Bokeh has been around since 2013. It targets modern web browsers to present interactive visualizations rather than static images. Bokeh provides libraries in multiple languages, such as Python, R, Lua, and Julia. These libraries produce JSON data for BokehJS (a Javascript library), which in turn creates interactive visualizations displayed on modern web browsers. Bokeh provides many benefits including:\n",
    "\n",
    "- **Simple to complex visualizations**: Bokeh provides different interfaces that target users of many skill levels. Users can use basic interfaces for quick and straightforward visualizations or use advanced interfaces for more complex and extremely customizable visualizations.\n",
    "\n",
    "\n",
    "- **Easy to use with Pandas**: Bokeh provides the **ColumnDataSource** class which is a fundamental data structure of Bokeh. Most plots, data tables, etc. will be driven by a **ColumnDataSource**. Users can also assign a Pandas data frame as a data source to plot charts.\n",
    "\n",
    "\n",
    "- **Support several output mediums**: The output from Bokeh can be displayed on modern web browsers including Jupyter Notebook. The output can also be exported to an HTML file. Moreover, Bokeh can be used to create interactive web applications by running them on the Bokeh server. \n",
    "\n",
    "Bokeh provides different levels of interfaces for users to choose from basic plots with very few customizable parameters to advanced plots with full control over their visualizations. Typically, the interfaces are divided into two levels:\n",
    "\n",
    "- **bokeh.plotting**: The intermediate-level interface that is comparable to Matplotlib. The workflow is to create a figure and then enrich this figure with different elements that render data points in the figure.\n",
    "\n",
    "\n",
    "- **bokeh.models**: The low-level interface that provides the maximum flexibility to application developers. This interface provides complete control over how Bokeh plots are assembled, configured and displayed.\n",
    "\n",
    "\n",
    "The examples in this article mostly rely on the **bokeh.plotting** interface. You can refer to the [Bokeh Gallery](https://docs.bokeh.org/en/latest/docs/gallery.html) for the list of available charts and examples. \n",
    "![Bokeh Gallery](gallery1.jpg)\n",
    "\n",
    "## Refinitiv CodeBook\n",
    "\n",
    "CodeBook is an application in Refinitiv Eikon or Workspace that allows users to access a cloud-hosted development environment for Python scripting, and leverage the Refinitiv APIs to rapidly build and deploy models, apps, and analytics that fit workflow needs.\n",
    "![CodeBook](codebook.jpg)\n",
    "\n",
    "\n",
    "CodeBook provides many pre-installed Python libraries for developers or data scientists to retrieve data from Refinitiv's platforms, process the data, plot charts, build machine learning models, and much more. \n",
    "\n",
    "Bokeh is one of the pre-installed visualization Python libraries in the CodeBook environment. In addition to Bokeh, there are other charting libraries available in CodeBook, such as altair, bqplot, matplotlib, plotly, and seaborn.\n",
    "\n",
    "This article demonstrates how to use Bokeh to visualize financial data retrieved from Refinitiv APIs."
   ]
  },
  {
   "cell_type": "markdown",
   "metadata": {},
   "source": [
    "## Sample Usages\n",
    "\n",
    "\n",
    "The following examples below demonstrate how to use Bokeh to plot several charts to visualize the financial data retrieved from the Eikon Data API. The examples also show how to create layouts to display charts in the notebook cells. \n",
    "\n",
    "![Samples](samples.png)\n",
    "\n",
    "\n",
    "Please follow the steps below to run the examples.\n",
    "\n",
    "### Prerequisite\n",
    "\n",
    "The code can be run on Refinitiv Codebook or Jupyter Notebook that has the Bokeh and Eikon Data API libraries installed.\n",
    "\n",
    "\n",
    "### Import required libraries\n",
    "First, the Python libraries, such as Eikon Data API, Bokeh, and utilities, are imported to retrieve the data, process the data, and plot charts.\n"
   ]
  },
  {
   "cell_type": "code",
   "execution_count": null,
   "metadata": {},
   "outputs": [],
   "source": [
    "import refinitiv.dataplatform.eikon as ek\n",
    "from bokeh.plotting import figure, show\n",
    "from bokeh.io import output_notebook\n",
    "from bokeh.models import ColumnDataSource, CDSView, BooleanFilter, HoverTool, FactorRange\n",
    "from bokeh.transform import factor_cmap, cumsum\n",
    "from bokeh.layouts import row, column, gridplot\n",
    "from bokeh.models.widgets import Tabs, Panel\n",
    "import pandas as pd\n",
    "from math import pi\n",
    "import datetime"
   ]
  },
  {
   "cell_type": "markdown",
   "metadata": {},
   "source": [
    "Then, initialize the Eikon Data API with the application key and call the **output_notebook()** method to configure the default output state to generate output in notebook cells when the **show()** method is called. "
   ]
  },
  {
   "cell_type": "code",
   "execution_count": null,
   "metadata": {},
   "outputs": [],
   "source": [
    "ek.set_app_key('c63397dc6fe148af94525970312b5742ab83e4d4')\n",
    "output_notebook()"
   ]
  },
  {
   "cell_type": "markdown",
   "metadata": {},
   "source": [
    "### Line Chart\n",
    "This example shows how to use Bokeh to plot a line chart that displays the daily historical close prices retrieved from the Eikon Data API. \n",
    "\n",
    "The **get_timeseries** method of the Eikon Data API is called to retrieve the daily historical close prices of IBM.N. "
   ]
  },
  {
   "cell_type": "code",
   "execution_count": null,
   "metadata": {},
   "outputs": [],
   "source": [
    "df1 = ek.get_timeseries('IBM.N',\n",
    "                  fields=['CLOSE'],\n",
    "                  start_date=datetime.timedelta(days=-365), \n",
    "                  end_date=datetime.datetime.now(), \n",
    "                  interval='daily')\n",
    "df1"
   ]
  },
  {
   "cell_type": "markdown",
   "metadata": {},
   "source": [
    "Then, it creates a Bokeh figure and adds a line chart to the figure. It assigns the data frame retrieved from the **get_timeseires** method as a data source of the line chart to plot the data from the **Date** and **CLOSE** columns. It also adds a hover tool to the figure to interactively display the data when the cursor hovers over the line chart. Next, it calls the **show** method to display the figure.\n"
   ]
  },
  {
   "cell_type": "code",
   "execution_count": null,
   "metadata": {
    "scrolled": true
   },
   "outputs": [],
   "source": [
    "figure1 = figure(title=\"Daily Close Price (IBM.N)\",          \n",
    "           x_axis_type=\"datetime\",\n",
    "           x_axis_label='Date')\n",
    "figure1.line(x='Date', y='CLOSE', source=df1, legend_label=\"Close\")\n",
    "figure1.add_tools(HoverTool(\n",
    "    tooltips=[\n",
    "        ( \"Date\",  \"$x{%F}\"            ),\n",
    "        ( \"Price\", \"$y{\"+f\"0.00\"+\" a}\" )\n",
    "    ],\n",
    "    formatters={\n",
    "        '$x'      : 'datetime',\n",
    "    },\n",
    "))\n",
    "figure1.legend.location = 'bottom_right'\n",
    "show(figure1)"
   ]
  },
  {
   "cell_type": "markdown",
   "metadata": {},
   "source": [
    "### Line Chart with Multiple Lines\n",
    "\n",
    "This example enhances the previous line chart by adding another line that shows the 15-days simple moving averages of the close prices. \n",
    "\n",
    "It uses the **rolling** and **mean** methods to calculate the 15-days simple moving averages of the close prices and creates a new column (**SMA_15**) in the data frame with the calculated values.\n"
   ]
  },
  {
   "cell_type": "code",
   "execution_count": null,
   "metadata": {},
   "outputs": [],
   "source": [
    "df1['SMA_15'] = df1.CLOSE.rolling(15).mean()\n",
    "df1"
   ]
  },
  {
   "cell_type": "markdown",
   "metadata": {},
   "source": [
    "Then, it creates a new figure with a line chart that is similar to the previous step and adds another dashed line that represents the data in the **SMA_15** column to the figure\n",
    "\n",
    "```\n",
    "figure2.line(x='Date', y='SMA_15', source=df1, legend_label=\"SMA 15\", line_dash = 'dashed', color=\"red\", name=\"SMA 15\")\n",
    "```\n",
    "Next, it calls the **show** method to display the figure."
   ]
  },
  {
   "cell_type": "code",
   "execution_count": null,
   "metadata": {},
   "outputs": [],
   "source": [
    "figure2 = figure(title=\"Daily Close Price and SMA (IBM.N)\",          \n",
    "           x_axis_type=\"datetime\",\n",
    "           x_axis_label='Date')\n",
    "\n",
    "figure2.line(x='Date', y='CLOSE', source=df1, legend_label=\"Close\", name=\"CLOSE\")\n",
    "figure2.line(x='Date', y='SMA_15', source=df1, legend_label=\"SMA 15\", line_dash = 'dashed', color=\"red\", name=\"SMA 15\")\n",
    "\n",
    "figure2.add_tools(HoverTool(\n",
    "    tooltips=[\n",
    "        ( \"\", \"$name\"),\n",
    "        ( \"Date\",  \"$x{%F}\"            ),\n",
    "        ( \"Price\", \"$y{\"+f\"0.00\"+\" a}\" )\n",
    "    ],\n",
    "    formatters={\n",
    "        '$x'      : 'datetime', \n",
    "    },\n",
    "))\n",
    "figure2.legend.location = 'bottom_right'\n",
    "show(figure2)"
   ]
  },
  {
   "cell_type": "markdown",
   "metadata": {},
   "source": [
    "### Candlestick Chart\n",
    "\n",
    "This example plots a candlestick chart that displays the daily historical open, high, low, and close prices retrieved from the Eikon Data API. \n",
    "\n",
    "First, it calls the **get_timeseries** method to retrieve the daily historical OHLC prices of IBM.N.\n"
   ]
  },
  {
   "cell_type": "code",
   "execution_count": null,
   "metadata": {},
   "outputs": [],
   "source": [
    "df2 = ek.get_timeseries('IBM.N',                  \n",
    "                  start_date=datetime.timedelta(days=-90), \n",
    "                  end_date=datetime.datetime.now(), \n",
    "                  interval='daily')\n",
    "df2"
   ]
  },
  {
   "cell_type": "markdown",
   "metadata": {},
   "source": [
    "Then, it creates a new figure that contains segment and vertical bar glyphs. The segment glyphs are used to visualize the low and high prices and the vertical bar glyphs are used to visualize the open and close prices. If the close prices are more than or equal to the open prices, the color of the vertical bar glyphs will be green. Otherwise, the color of the vertical bar glyphs will be red.\n",
    "\n",
    "It also adds a hover tool to the figure to interactively display the OHLC data when the cursor hovers over the chart. Next, it calls the **show** method to display the figure."
   ]
  },
  {
   "cell_type": "code",
   "execution_count": null,
   "metadata": {},
   "outputs": [],
   "source": [
    "source = ColumnDataSource(data=df2)\n",
    "hover = HoverTool(\n",
    "    tooltips=[\n",
    "        ('', '@Date{%F}'),\n",
    "        ('O', '@OPEN{\"+f\"0.00\"+\" a}'),\n",
    "        ('H', '@HIGH{\"+f\"0.00\"+\" a}'),\n",
    "        ('L', '@LOW{\"+f\"0.00\"+\" a}'),\n",
    "        ('C', '@CLOSE{\"+f\"0.00\"+\" a}'),\n",
    "        ('V', '@VOLUME{0}'),\n",
    "    ],\n",
    "\n",
    "    formatters={\n",
    "        '@Date': 'datetime'\n",
    "    },\n",
    "    mode='mouse'\n",
    ")\n",
    "inc_b = source.data['CLOSE'] >= source.data['OPEN']\n",
    "inc = CDSView(source=source, filters=[BooleanFilter(inc_b)])\n",
    "dec_b = source.data['OPEN'] > source.data['CLOSE']\n",
    "dec = CDSView(source=source, filters=[BooleanFilter(dec_b)])\n",
    "w = 12*60*60*1000 \n",
    "figure3 = figure(title=\"OHLC Candlestick Chart (IBM.N)\",\n",
    "                 x_axis_type=\"datetime\",\n",
    "                 sizing_mode=\"stretch_width\",\n",
    "                 height=400,\n",
    "                 x_axis_label='Date')\n",
    "figure3.segment(source=source, x0='Date', x1='Date', y0='HIGH', y1='LOW', color=\"black\")\n",
    "figure3.vbar(source=source, view=inc, x='Date', width=w, top='OPEN', bottom='CLOSE', fill_color=\"green\", line_color=\"green\")\n",
    "figure3.vbar(source=source, view=dec, x='Date', width=w, top='OPEN', bottom='CLOSE', fill_color=\"red\", line_color=\"red\")\n",
    "figure3.add_tools(hover)\n",
    "\n",
    "show(figure3)\n"
   ]
  },
  {
   "cell_type": "markdown",
   "metadata": {},
   "source": [
    "### Vertical Bar Chart\n",
    "\n",
    "This example plots a vertical bar chart that shows quarterly historical revenue back to fore years.\n",
    "\n",
    "First, it calls the **get_data** method to retrieve the quarterly historical revenue of IBM.N back to four years, and then sort the data by dates in ascending order.\n"
   ]
  },
  {
   "cell_type": "code",
   "execution_count": null,
   "metadata": {},
   "outputs": [],
   "source": [
    "quarter = pd.Timestamp(datetime.date.today()).quarter\n",
    "quarter = quarter + 14\n",
    "quarter = quarter*-1\n",
    "df3, err = ek.get_data(\n",
    "    instruments = ['IBM.N'],\n",
    "    fields = ['TR.Revenue.Date','TR.Revenue'],\n",
    "    parameters={'SDate':0,'EDate':quarter,'Period':'FQ0','Frq':'FQ'}\n",
    ")\n",
    "df3 = df3[::-1].reset_index().drop('index', axis=1)\n",
    "df3"
   ]
  },
  {
   "cell_type": "markdown",
   "metadata": {},
   "source": [
    "Next, it adds the following columns to the dataframe.\n",
    "- **Q**: Quarter, e.g., Q1, Q2, Q3, or Q4.\n",
    "- **Year**: Year, e.g., 2021.\n",
    "- **QY**: Quarter and year, e.g., 2021Q1\n",
    "- **Group**: Tuples of 'Year' and 'Q', e.g., (2021, Q2)\n",
    "\n",
    "These columns are used by Bokeh to plot the nested verticle bar chart. "
   ]
  },
  {
   "cell_type": "code",
   "execution_count": null,
   "metadata": {},
   "outputs": [],
   "source": [
    "df3['Date'] = pd.to_datetime(df3['Date'], format='%Y-%m-%d')\n",
    "df3['Q'] = ('Q' + df3['Date'].dt.quarter.astype(str))\n",
    "df3['Year'] = df3['Date'].dt.to_period(\"Y\").astype(str)\n",
    "df3['QY'] = df3['Date'].dt.to_period(\"Q\").astype(str)\n",
    "df3['Group'] = df3[['Year', 'Q']].apply(lambda x: (x[0],str(x[1])), axis=1)\n",
    "df3"
   ]
  },
  {
   "cell_type": "markdown",
   "metadata": {},
   "source": [
    "Next, it creates a new figure and then adds the vertical chart to the figure. It uses the **Group** column in the data frame as the x-coordinates of the vertical bar to create the nested vertical bar chart. \n",
    "\n",
    "It also adds a hover tool to the figure to interactively display the revenue when the cursor hovers over the chart. Next, it calls the **show** method to display the figure."
   ]
  },
  {
   "cell_type": "code",
   "execution_count": null,
   "metadata": {},
   "outputs": [],
   "source": [
    "palette = ['#0000ff', '#00ff00', '#ffff00', '#00ffff']\n",
    "years = ['Q1','Q2','Q3','Q4']\n",
    "figure4 = figure(\n",
    "    x_range=FactorRange(*list(df3[\"Group\"])),\n",
    "    title=\"IBM.N Revenue\",\n",
    "    width=800\n",
    ")\n",
    "figure4.vbar(\n",
    "    x=\"Group\",\n",
    "    top=\"Revenue\",\n",
    "    width=0.9,\n",
    "    source=df3,\n",
    "    fill_color=factor_cmap('Group', palette=palette, factors=years, start=1, end=3)\n",
    ")\n",
    "figure4.add_tools(HoverTool(\n",
    "    tooltips=[\n",
    "        ('', '@QY'),\n",
    "        ('', '@Revenue{0.00 a}')\n",
    "    ],\n",
    "    mode='mouse'\n",
    "))\n",
    "figure4.left[0].formatter.use_scientific = False\n",
    "show(figure4)"
   ]
  },
  {
   "cell_type": "markdown",
   "metadata": {},
   "source": [
    "### Pie Chart\n",
    "This example plots a pie chart that shows the weight percentage of the constituents in the Dow Jones Industrial Average Index.\n",
    "\n",
    "First, it calls the **get_data** method to retrieve the constituents and the weight percentage of the constituents in the Dow Jones Industrial Average Index. Next, it renames the column names so they can be easily referred to by Bokeh.\n"
   ]
  },
  {
   "cell_type": "code",
   "execution_count": null,
   "metadata": {},
   "outputs": [],
   "source": [
    "df4, err = ek.get_data('0#.DJI', ['TR.IndexConstituentWeightPercent','TR.CommonName'])\n",
    "df4 = df4.rename(columns={\"Weight percent\": \"Value\", \"Company Common Name\":\"Name\"})\n",
    "df4"
   ]
  },
  {
   "cell_type": "markdown",
   "metadata": {},
   "source": [
    "Then, it adds the following columns to the data frame.\n",
    "- **angle**:  The angle of each sector in the pie chart. It is calculated from the weight percentages. \n",
    "- **color**: The color of each sector in the pie chart\n",
    "\n",
    "These columns are used by Bokeh to plot the pie chart.\n"
   ]
  },
  {
   "cell_type": "code",
   "execution_count": null,
   "metadata": {},
   "outputs": [],
   "source": [
    "df4['angle'] = df4['Value']/df4['Value'].sum() * 2*pi\n",
    "df4['color']= ['#1f77b4', '#aec7e8', '#ff7f0e', '#ffbb78', '#2ca02c', '#98df8a', '#d62728', '#ff9896', '#9467bd', '#c5b0d5',\n",
    "    '#8c564b', '#c49c94', '#e377c2', '#f7b6d2', '#7f7f7f', '#c7c7c7', '#bcbd22', '#dbdb8d', '#17becf', '#9edae5',\n",
    "     '#0000ff', '#ff0000', '#ffff00', '#00ffff', '#ff00ff', '#F0F8FF', '#006B3C', '#00FF6F', '#392972', '#8F00FF']\n",
    "df4"
   ]
  },
  {
   "cell_type": "markdown",
   "metadata": {},
   "source": [
    "Next, it creates a new figure and then add the pie chart to the figure. It uses the **angle** and **color** columns in the dataframe to determine the angles and colors used in the pie chart\n"
   ]
  },
  {
   "cell_type": "code",
   "execution_count": null,
   "metadata": {},
   "outputs": [],
   "source": [
    "figure5 = figure(plot_height=800,plot_width=800, title=\"Dow Jones Industrials Constituents Weightings (.DJI)\", toolbar_location=None,\n",
    "           tools=\"hover\",tooltips=\"@Name (@Instrument): @Value\", x_range=(-0.5, 1.0))\n",
    "figure5.wedge(x=0, y=1, radius=0.4,\n",
    "        start_angle=cumsum('angle', include_zero=True), end_angle=cumsum('angle'),\n",
    "        line_color=\"white\",fill_color='color', legend_field='Instrument', source=df4)\n",
    "figure5.axis.axis_label=None\n",
    "figure5.axis.visible=False\n",
    "figure5.grid.grid_line_color = None\n",
    "\n",
    "show(figure5)"
   ]
  },
  {
   "cell_type": "markdown",
   "metadata": {},
   "source": [
    "### Row and Column Layout\n",
    "\n",
    "This example uses the row and column layout in Bokeh to arrange and display charts. The **column()** methods is used to display charts vertically while the **row()** methods is used to display charts horizontally.\n",
    "\n",
    "It displays figure1, figure2, and figure3 in the following layout.\n",
    "\n",
    "![Row and Column Layout](layout1.png)\n",
    "\n"
   ]
  },
  {
   "cell_type": "code",
   "execution_count": null,
   "metadata": {},
   "outputs": [],
   "source": [
    "row_layout = column(row(children=[figure1,figure2]), figure3)\n",
    "show(row_layout)"
   ]
  },
  {
   "cell_type": "markdown",
   "metadata": {},
   "source": [
    "### Grid Layout\n",
    "This example uses the **gridplot()** method to arrange Bokeh plots in a grid.\n",
    "\n",
    "It displays figure1, figure2, figure3, and figure4 in the following layout.\n",
    "\n",
    "![Grid Layout](layout2.png)"
   ]
  },
  {
   "cell_type": "code",
   "execution_count": null,
   "metadata": {},
   "outputs": [],
   "source": [
    "grid_layout = gridplot([[figure1, figure2], [figure3, figure4]], plot_width=500, plot_height=500)\n",
    "show(grid_layout)"
   ]
  },
  {
   "cell_type": "markdown",
   "metadata": {},
   "source": [
    "### Panel and Tabs\n",
    "\n",
    "This example uses the **Panel()** and **Tabs()** methods to arrange charts in a tabbed layout. It creates two tabs. The first tab contains figure1, figure2, figure3, and figure4 in the grid layout and the second tab contains figure5. \n"
   ]
  },
  {
   "cell_type": "code",
   "execution_count": null,
   "metadata": {},
   "outputs": [],
   "source": [
    "panel1 = Panel(child=grid_layout, title='IBM.N')\n",
    "panel2 = Panel(child=figure5, title='DJI')\n",
    "tabs_object = Tabs(tabs = [panel1, panel2])\n",
    "show(tabs_object)"
   ]
  },
  {
   "cell_type": "markdown",
   "metadata": {},
   "source": [
    "## Summary\n",
    "\n",
    "Bokeh is a Python library for creating interactive visualizations for modern web browsers including Jupyter Notebook. This library is available in Refinitiv CodeBook. Therefore, developers or data scientists can use this library to visualize financial data retrieved from Refinitiv's APIs.    \n",
    "\n",
    "This article provides several examples that demonstrate how to use Bokeh in Refinitiv CodeBook to plot charts from the data frames returned from the Eikon Data API. Moreover, it also shows how to arrange charts with the Bokeh row, column, grid, and tabbed layouts."
   ]
  },
  {
   "cell_type": "markdown",
   "metadata": {},
   "source": [
    "## References\n",
    "1. Cochran, S., 2019. 6 Reasons I Love Bokeh for Data Exploration with Python. [online] towardsdatascience. Available at: <https://towardsdatascience.com/6-reasons-i-love-bokeh-for-data-exploration-with-python-a778a2086a95> [Accessed 18 August 2021].\n",
    "2. Dobler, M. and Großmann, T., 2020. Data Visualization Workshop. 1st ed. [S.l.]: Packt Publishing.\n",
    "3. Developers.refinitiv.com. n.d. Eikon Data API | Refinitiv Developers. [online] Available at: <https://developers.refinitiv.com/en/api-catalog/eikon/eikon-data-api> [Accessed 18 August 2021].\n",
    "4. Stack Overflow. 2020. How to get Bokeh hovertool working for candlesticks chart?. [online] Available at: <https://stackoverflow.com/questions/61175554/how-to-get-bokeh-hovertool-working-for-candlesticks-chart> [Accessed 18 August 2021].\n",
    "5. Jolly, K., 2018. Hands-on data visualization with Bokeh. 1st ed. Packt Publishing.\n",
    "6. Ray, S., 2015. Interactive Data Visualization using Bokeh (in Python). [online] Analytics Vidhya. Available at: <https://www.analyticsvidhya.com/blog/2015/08/interactive-data-visualization-library-python-bokeh/> [Accessed 18 August 2021].\n",
    "7. Refinitiv.com. n.d. Refinitiv CodeBook. [online] Available at: <https://www.refinitiv.com/en/products/codebook> [Accessed 18 August 2021].\n",
    "8. Ven, B., 2021. Bokeh. [online] Bokeh.org. Available at: <https://bokeh.org/> [Accessed 18 August 2021]. \n",
    "9. Docs.bokeh.org. n.d. Gallery - Bokeh 1.4.0 documentation. [online] Available at: <https://docs.bokeh.org/en/1.4.0/docs/gallery.html> [Accessed 18 August 2021].\n"
   ]
  },
  {
   "cell_type": "code",
   "execution_count": null,
   "metadata": {},
   "outputs": [],
   "source": []
  }
 ],
 "metadata": {
  "kernelspec": {
   "display_name": "Python 3",
   "language": "python",
   "name": "python3"
  },
  "language_info": {
   "codemirror_mode": {
    "name": "ipython",
    "version": 3
   },
   "file_extension": ".py",
   "mimetype": "text/x-python",
   "name": "python",
   "nbconvert_exporter": "python",
   "pygments_lexer": "ipython3",
   "version": "3.7.9"
  },
  "widgets": {
   "application/vnd.jupyter.widget-state+json": {
    "state": {},
    "version_major": 2,
    "version_minor": 0
   }
  }
 },
 "nbformat": 4,
 "nbformat_minor": 4
}
