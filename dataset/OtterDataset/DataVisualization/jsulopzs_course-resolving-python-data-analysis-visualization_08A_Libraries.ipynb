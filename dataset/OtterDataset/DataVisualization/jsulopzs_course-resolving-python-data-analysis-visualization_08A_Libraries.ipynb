{
 "cells": [
  {
   "cell_type": "markdown",
   "id": "c812e7c5-e870-401a-ba77-37533fbe0a29",
   "metadata": {
    "tags": []
   },
   "source": [
    "# The Resolving Python Framework for Data Visualization Libraries"
   ]
  },
  {
   "cell_type": "markdown",
   "id": "4e52cc87-6b98-4f0a-aefc-f0a2d293dc98",
   "metadata": {},
   "source": [
    "## Possibilities\n",
    "\n",
    "Look at the following example as an aspiration you can achieve if you fully understand and replicate this whole tutorial with your own data."
   ]
  },
  {
   "cell_type": "markdown",
   "id": "a02e7c1e-090d-4c7b-8a05-9ae796f9adb4",
   "metadata": {},
   "source": [
    "Let's load a dataset that contains information from countries (rows) considering sociodemographical and economical variables (columns)."
   ]
  },
  {
   "cell_type": "code",
   "execution_count": 1,
   "id": "f4eb294e-508f-4b11-bbb0-2f9789ed49bf",
   "metadata": {},
   "outputs": [
    {
     "data": {
      "text/html": [
       "<div>\n",
       "<style scoped>\n",
       "    .dataframe tbody tr th:only-of-type {\n",
       "        vertical-align: middle;\n",
       "    }\n",
       "\n",
       "    .dataframe tbody tr th {\n",
       "        vertical-align: top;\n",
       "    }\n",
       "\n",
       "    .dataframe thead th {\n",
       "        text-align: right;\n",
       "    }\n",
       "</style>\n",
       "<table border=\"1\" class=\"dataframe\">\n",
       "  <thead>\n",
       "    <tr style=\"text-align: right;\">\n",
       "      <th></th>\n",
       "      <th>country</th>\n",
       "      <th>continent</th>\n",
       "      <th>year</th>\n",
       "      <th>lifeExp</th>\n",
       "      <th>pop</th>\n",
       "      <th>gdpPercap</th>\n",
       "      <th>iso_alpha</th>\n",
       "      <th>iso_num</th>\n",
       "    </tr>\n",
       "  </thead>\n",
       "  <tbody>\n",
       "    <tr>\n",
       "      <th>0</th>\n",
       "      <td>Afghanistan</td>\n",
       "      <td>Asia</td>\n",
       "      <td>1952</td>\n",
       "      <td>28.801</td>\n",
       "      <td>8425333</td>\n",
       "      <td>779.445314</td>\n",
       "      <td>AFG</td>\n",
       "      <td>4</td>\n",
       "    </tr>\n",
       "    <tr>\n",
       "      <th>1</th>\n",
       "      <td>Afghanistan</td>\n",
       "      <td>Asia</td>\n",
       "      <td>1957</td>\n",
       "      <td>30.332</td>\n",
       "      <td>9240934</td>\n",
       "      <td>820.853030</td>\n",
       "      <td>AFG</td>\n",
       "      <td>4</td>\n",
       "    </tr>\n",
       "    <tr>\n",
       "      <th>...</th>\n",
       "      <td>...</td>\n",
       "      <td>...</td>\n",
       "      <td>...</td>\n",
       "      <td>...</td>\n",
       "      <td>...</td>\n",
       "      <td>...</td>\n",
       "      <td>...</td>\n",
       "      <td>...</td>\n",
       "    </tr>\n",
       "    <tr>\n",
       "      <th>1702</th>\n",
       "      <td>Zimbabwe</td>\n",
       "      <td>Africa</td>\n",
       "      <td>2002</td>\n",
       "      <td>39.989</td>\n",
       "      <td>11926563</td>\n",
       "      <td>672.038623</td>\n",
       "      <td>ZWE</td>\n",
       "      <td>716</td>\n",
       "    </tr>\n",
       "    <tr>\n",
       "      <th>1703</th>\n",
       "      <td>Zimbabwe</td>\n",
       "      <td>Africa</td>\n",
       "      <td>2007</td>\n",
       "      <td>43.487</td>\n",
       "      <td>12311143</td>\n",
       "      <td>469.709298</td>\n",
       "      <td>ZWE</td>\n",
       "      <td>716</td>\n",
       "    </tr>\n",
       "  </tbody>\n",
       "</table>\n",
       "<p>1704 rows × 8 columns</p>\n",
       "</div>"
      ],
      "text/plain": [
       "          country continent  year  lifeExp       pop   gdpPercap iso_alpha  \\\n",
       "0     Afghanistan      Asia  1952   28.801   8425333  779.445314       AFG   \n",
       "1     Afghanistan      Asia  1957   30.332   9240934  820.853030       AFG   \n",
       "...           ...       ...   ...      ...       ...         ...       ...   \n",
       "1702     Zimbabwe    Africa  2002   39.989  11926563  672.038623       ZWE   \n",
       "1703     Zimbabwe    Africa  2007   43.487  12311143  469.709298       ZWE   \n",
       "\n",
       "      iso_num  \n",
       "0           4  \n",
       "1           4  \n",
       "...       ...  \n",
       "1702      716  \n",
       "1703      716  \n",
       "\n",
       "[1704 rows x 8 columns]"
      ]
     },
     "execution_count": 1,
     "metadata": {},
     "output_type": "execute_result"
    }
   ],
   "source": [
    "import plotly.express as px\n",
    "\n",
    "df_countries = px.data.gapminder().query('year == 2007')\n",
    "df_countries"
   ]
  },
  {
   "cell_type": "markdown",
   "id": "661fceaf-e2cb-4c7c-9e14-7921e9d0a3fc",
   "metadata": {},
   "source": [
    "Python contains 3 main libraries for Data Visualization:\n",
    "    \n",
    "1. **Matplotlib** (Mathematical Plotting)\n",
    "2. **Seaborn** (High-Level based on Matplotlib)\n",
    "3. **Plotly** (Animated Plots)\n",
    "\n",
    "I personally love `plotly` because the Visualizations are interactive; you may hover the mouse over the points to get information from it:"
   ]
  },
  {
   "cell_type": "code",
   "execution_count": null,
   "id": "5b263d6a-2629-4cd6-bad0-09edf83788a5",
   "metadata": {},
   "outputs": [],
   "source": []
  },
  {
   "cell_type": "markdown",
   "id": "a35c9766-d442-41e2-943f-231e480760b8",
   "metadata": {},
   "source": [
    "You can even animate the plots with a simple parameter. Click on play ↓\n",
    "\n",
    "PS: The following example is taken from the [official plotly library website](https://plotly.com/python/animations/):"
   ]
  },
  {
   "cell_type": "code",
   "execution_count": null,
   "id": "16295416-0e9e-4e99-a977-2c6b70e6f9da",
   "metadata": {},
   "outputs": [],
   "source": [
    "df_countries = px.data.gapminder()\n",
    "df_countries"
   ]
  },
  {
   "cell_type": "code",
   "execution_count": null,
   "id": "91163d26-87fc-46ad-be30-82484e6a8c92",
   "metadata": {},
   "outputs": [],
   "source": []
  },
  {
   "cell_type": "markdown",
   "id": "82a52118-3b04-4ade-8dd9-c12f8c98dc9d",
   "metadata": {},
   "source": [
    "In this article, we'll dig in the details of Data Visualization in Python to solificate the required knowledge in order to come up with awsome visualizations like the ones we saw before.\n",
    "\n",
    "We'll use the following data:"
   ]
  },
  {
   "cell_type": "code",
   "execution_count": null,
   "id": "721fdee9-ed07-418d-9074-a239036c8152",
   "metadata": {},
   "outputs": [],
   "source": [
    "['Real Madrid', 'Barcelona', 'Bayern Munich']\n",
    "[14, 5, 6]"
   ]
  },
  {
   "cell_type": "markdown",
   "id": "b969f64b-c251-4690-8e6c-f9f6139f0de4",
   "metadata": {},
   "source": [
    "## Matplotlib"
   ]
  },
  {
   "cell_type": "markdown",
   "id": "2a5a5942-e01a-45f0-b651-19b0d13d7145",
   "metadata": {},
   "source": [
    "Matplotlib is a library used for Data Visualization.\n",
    "\n",
    "We use the **sublibrary** (module) `pyplot` from `matplotlib` library to access the functions."
   ]
  },
  {
   "cell_type": "code",
   "execution_count": 4,
   "id": "4708c187-abc3-426a-a6c2-1074afad2d9f",
   "metadata": {},
   "outputs": [],
   "source": [
    "import matplotlib.pyplot as plt"
   ]
  },
  {
   "cell_type": "markdown",
   "id": "7d7e4bd2-79bf-400a-9b4e-b56060b64b56",
   "metadata": {},
   "source": [
    "### Bar plot"
   ]
  },
  {
   "cell_type": "code",
   "execution_count": null,
   "id": "07fdbe43-d4ad-4d7e-a0ca-98223fc703c9",
   "metadata": {},
   "outputs": [],
   "source": []
  },
  {
   "cell_type": "markdown",
   "id": "ff286a48-ce1a-4727-90e1-3969b2e69e09",
   "metadata": {},
   "source": [
    "### Scatter plot"
   ]
  },
  {
   "cell_type": "code",
   "execution_count": null,
   "id": "f664cda0-b5cc-4314-986a-6a7215891ba5",
   "metadata": {},
   "outputs": [],
   "source": []
  },
  {
   "cell_type": "markdown",
   "id": "0b75ba6c-2b0f-43d2-a966-365b0016e72a",
   "metadata": {},
   "source": [
    "But it doesn't make sense with the data we have represented."
   ]
  },
  {
   "cell_type": "markdown",
   "id": "0f00ecf3-c9eb-408c-b7ba-3af81a353023",
   "metadata": {},
   "source": [
    "## Visualize DataFrame"
   ]
  },
  {
   "cell_type": "markdown",
   "id": "51169ced-f704-48bb-a881-cb8ac0853992",
   "metadata": {},
   "source": [
    "Let's create a DataFrame:"
   ]
  },
  {
   "cell_type": "code",
   "execution_count": 2,
   "id": "621a3e80-3b46-475e-97f9-85bccf7b0020",
   "metadata": {},
   "outputs": [],
   "source": [
    "teams = ['Real Madrid', 'Barcelona', 'Bayern Munich']\n",
    "uefa_champions = [14, 5, 6]"
   ]
  },
  {
   "cell_type": "code",
   "execution_count": 3,
   "id": "d259f60c-2a5e-4fe9-bdb4-35301e0a4b12",
   "metadata": {},
   "outputs": [
    {
     "data": {
      "text/html": [
       "<div>\n",
       "<style scoped>\n",
       "    .dataframe tbody tr th:only-of-type {\n",
       "        vertical-align: middle;\n",
       "    }\n",
       "\n",
       "    .dataframe tbody tr th {\n",
       "        vertical-align: top;\n",
       "    }\n",
       "\n",
       "    .dataframe thead th {\n",
       "        text-align: right;\n",
       "    }\n",
       "</style>\n",
       "<table border=\"1\" class=\"dataframe\">\n",
       "  <thead>\n",
       "    <tr style=\"text-align: right;\">\n",
       "      <th></th>\n",
       "      <th>Team</th>\n",
       "      <th>UEFA Champions</th>\n",
       "    </tr>\n",
       "  </thead>\n",
       "  <tbody>\n",
       "    <tr>\n",
       "      <th>0</th>\n",
       "      <td>Real Madrid</td>\n",
       "      <td>14</td>\n",
       "    </tr>\n",
       "    <tr>\n",
       "      <th>1</th>\n",
       "      <td>Barcelona</td>\n",
       "      <td>5</td>\n",
       "    </tr>\n",
       "    <tr>\n",
       "      <th>2</th>\n",
       "      <td>Bayern Munich</td>\n",
       "      <td>6</td>\n",
       "    </tr>\n",
       "  </tbody>\n",
       "</table>\n",
       "</div>"
      ],
      "text/plain": [
       "            Team  UEFA Champions\n",
       "0    Real Madrid              14\n",
       "1      Barcelona               5\n",
       "2  Bayern Munich               6"
      ]
     },
     "execution_count": 3,
     "metadata": {},
     "output_type": "execute_result"
    }
   ],
   "source": [
    "import pandas as pd\n",
    "\n",
    "df_champions = pd.DataFrame(\n",
    "    data={'Team': teams, 'UEFA Champions': uefa_champions})\n",
    "df_champions"
   ]
  },
  {
   "cell_type": "markdown",
   "id": "9d409276-5803-4004-b6a2-58fd8e55fcfb",
   "metadata": {},
   "source": [
    "And visualize it with a `bar` plot using both functions from `matplotlib` and the `DataFrame`."
   ]
  },
  {
   "cell_type": "markdown",
   "id": "d099dad6-417c-443c-95f4-6acdf9780977",
   "metadata": {},
   "source": [
    "### Matplotlib functions"
   ]
  },
  {
   "cell_type": "code",
   "execution_count": null,
   "id": "dc7b3e27-f5de-45fc-a59b-4f990d10d472",
   "metadata": {},
   "outputs": [],
   "source": []
  },
  {
   "cell_type": "markdown",
   "id": "9fefe1aa-6d73-4700-ad6b-5da62b574216",
   "metadata": {},
   "source": [
    "### DataFrame functions"
   ]
  },
  {
   "cell_type": "code",
   "execution_count": null,
   "id": "e49f89a0-a12c-4e1f-98ab-e51109b8b541",
   "metadata": {},
   "outputs": [],
   "source": []
  },
  {
   "cell_type": "markdown",
   "id": "41539ec4-b597-4abb-87de-e21a1f970a61",
   "metadata": {},
   "source": [
    "## Seaborn"
   ]
  },
  {
   "cell_type": "markdown",
   "id": "f68ab8b3-c32e-4dcf-a11a-d978c89d0abd",
   "metadata": {},
   "source": [
    "Let's read another dataset: the Football Premier League classification for 2021/2022."
   ]
  },
  {
   "cell_type": "code",
   "execution_count": 11,
   "id": "26405d2c-e00f-49d0-a960-c56eeff4b1a7",
   "metadata": {},
   "outputs": [
    {
     "data": {
      "text/html": [
       "<div>\n",
       "<style scoped>\n",
       "    .dataframe tbody tr th:only-of-type {\n",
       "        vertical-align: middle;\n",
       "    }\n",
       "\n",
       "    .dataframe tbody tr th {\n",
       "        vertical-align: top;\n",
       "    }\n",
       "\n",
       "    .dataframe thead th {\n",
       "        text-align: right;\n",
       "    }\n",
       "</style>\n",
       "<table border=\"1\" class=\"dataframe\">\n",
       "  <thead>\n",
       "    <tr style=\"text-align: right;\">\n",
       "      <th></th>\n",
       "      <th>Team</th>\n",
       "      <th>Pl</th>\n",
       "      <th>W</th>\n",
       "      <th>D</th>\n",
       "      <th>L</th>\n",
       "      <th>F</th>\n",
       "      <th>A</th>\n",
       "      <th>GD</th>\n",
       "      <th>Pts</th>\n",
       "    </tr>\n",
       "  </thead>\n",
       "  <tbody>\n",
       "    <tr>\n",
       "      <th>0</th>\n",
       "      <td>Manchester City</td>\n",
       "      <td>38</td>\n",
       "      <td>29</td>\n",
       "      <td>6</td>\n",
       "      <td>3</td>\n",
       "      <td>99</td>\n",
       "      <td>26</td>\n",
       "      <td>73</td>\n",
       "      <td>93</td>\n",
       "    </tr>\n",
       "    <tr>\n",
       "      <th>1</th>\n",
       "      <td>Liverpool</td>\n",
       "      <td>38</td>\n",
       "      <td>28</td>\n",
       "      <td>8</td>\n",
       "      <td>2</td>\n",
       "      <td>94</td>\n",
       "      <td>26</td>\n",
       "      <td>68</td>\n",
       "      <td>92</td>\n",
       "    </tr>\n",
       "    <tr>\n",
       "      <th>...</th>\n",
       "      <td>...</td>\n",
       "      <td>...</td>\n",
       "      <td>...</td>\n",
       "      <td>...</td>\n",
       "      <td>...</td>\n",
       "      <td>...</td>\n",
       "      <td>...</td>\n",
       "      <td>...</td>\n",
       "      <td>...</td>\n",
       "    </tr>\n",
       "    <tr>\n",
       "      <th>18</th>\n",
       "      <td>Watford</td>\n",
       "      <td>38</td>\n",
       "      <td>6</td>\n",
       "      <td>5</td>\n",
       "      <td>27</td>\n",
       "      <td>34</td>\n",
       "      <td>77</td>\n",
       "      <td>-43</td>\n",
       "      <td>23</td>\n",
       "    </tr>\n",
       "    <tr>\n",
       "      <th>19</th>\n",
       "      <td>Norwich City</td>\n",
       "      <td>38</td>\n",
       "      <td>5</td>\n",
       "      <td>7</td>\n",
       "      <td>26</td>\n",
       "      <td>23</td>\n",
       "      <td>84</td>\n",
       "      <td>-61</td>\n",
       "      <td>22</td>\n",
       "    </tr>\n",
       "  </tbody>\n",
       "</table>\n",
       "<p>20 rows × 9 columns</p>\n",
       "</div>"
      ],
      "text/plain": [
       "               Team  Pl   W  D   L   F   A  GD  Pts\n",
       "0   Manchester City  38  29  6   3  99  26  73   93\n",
       "1         Liverpool  38  28  8   2  94  26  68   92\n",
       "..              ...  ..  .. ..  ..  ..  ..  ..  ...\n",
       "18          Watford  38   6  5  27  34  77 -43   23\n",
       "19     Norwich City  38   5  7  26  23  84 -61   22\n",
       "\n",
       "[20 rows x 9 columns]"
      ]
     },
     "execution_count": 11,
     "metadata": {},
     "output_type": "execute_result"
    }
   ],
   "source": [
    "df_premier = pd.read_excel(io='premier_league.xlsx')\n",
    "df_premier"
   ]
  },
  {
   "cell_type": "markdown",
   "id": "d8f6d516-a566-4a49-88dc-0e60ed406085",
   "metadata": {},
   "source": [
    "We will visualize a point plot, from now own **scatter plot** to check if there is a relationship between the number of goals scored `F` versus the Points `Pts`."
   ]
  },
  {
   "cell_type": "code",
   "execution_count": null,
   "id": "d82c7f2e-eefe-447e-b596-d5997427109f",
   "metadata": {},
   "outputs": [],
   "source": []
  },
  {
   "cell_type": "markdown",
   "id": "9fa18543-1bd2-45ba-8254-ebcf5e8f7e66",
   "metadata": {},
   "source": [
    "Can we do the same plot with matplotlib `plt` library?"
   ]
  },
  {
   "cell_type": "code",
   "execution_count": null,
   "id": "657f585b-4e44-44b6-9329-1249fc66673d",
   "metadata": {},
   "outputs": [],
   "source": []
  },
  {
   "cell_type": "markdown",
   "id": "ee7dc6cf-7bfe-4e97-b3eb-a8628c6ea50e",
   "metadata": {},
   "source": [
    "Which are the differences between them?\n",
    "\n",
    "1. The points: `matplotlib` points are bigger than `seaborn`\n",
    "2. The axis labels: `matplotlib` axis labels are non-existent, whereas `seaborn` places the names of the columns"
   ]
  },
  {
   "cell_type": "markdown",
   "id": "1d096582-2b5f-4389-a9ee-7f05f8ff4d08",
   "metadata": {},
   "source": [
    "From which library are the objects returned by the previous functions?"
   ]
  },
  {
   "cell_type": "code",
   "execution_count": 14,
   "id": "93797854-46f7-4cd7-9f2f-3e5f07b0fe4e",
   "metadata": {},
   "outputs": [
    {
     "data": {
      "image/png": "[encoded data removed]",
      "text/plain": [
       "<Figure size 432x288 with 1 Axes>"
      ]
     },
     "metadata": {
      "needs_background": "light"
     },
     "output_type": "display_data"
    }
   ],
   "source": [
    "seaborn_plot = sns.scatterplot(x='F', y='Pts', data=df_premier);"
   ]
  },
  {
   "cell_type": "code",
   "execution_count": 15,
   "id": "c2589580-74a1-4cf2-a829-6d23dad63fad",
   "metadata": {},
   "outputs": [
    {
     "data": {
      "image/png": "[encoded data removed]",
      "text/plain": [
       "<Figure size 432x288 with 1 Axes>"
      ]
     },
     "metadata": {
      "needs_background": "light"
     },
     "output_type": "display_data"
    }
   ],
   "source": [
    "matplotlib_plot = plt.scatter(x='F', y='Pts', data=df_premier);"
   ]
  },
  {
   "cell_type": "code",
   "execution_count": 16,
   "id": "dddf7396-b312-4b19-9a4c-a965d2f7c8b8",
   "metadata": {},
   "outputs": [
    {
     "data": {
      "text/plain": [
       "matplotlib.axes._subplots.AxesSubplot"
      ]
     },
     "execution_count": 16,
     "metadata": {},
     "output_type": "execute_result"
    }
   ],
   "source": [
    "type(seaborn_plot)"
   ]
  },
  {
   "cell_type": "code",
   "execution_count": 17,
   "id": "f3e42f8c-bc71-45a5-b6dc-a1a262e3ba59",
   "metadata": {},
   "outputs": [
    {
     "data": {
      "text/plain": [
       "matplotlib.collections.PathCollection"
      ]
     },
     "execution_count": 17,
     "metadata": {},
     "output_type": "execute_result"
    }
   ],
   "source": [
    "type(matplotlib_plot)"
   ]
  },
  {
   "cell_type": "markdown",
   "id": "db26528a-6fb4-4a8b-b99d-994db4354386",
   "metadata": {},
   "source": [
    "Why does `seaborn` returns a `matplotlib` object?\n",
    "\n",
    "Quoted from the [seaborn](https://seaborn.pydata.org/) official website:\n",
    "\n",
    "> Seaborn is a Python data visualization library **based on matplotlib**. It provides a **high-level\\* interface** for drawing attractive and informative statistical graphics.\n",
    "\n",
    "\\*High-level means the communication between humans and the computer is easier to understand as compared to low-level where the communication goes through 0s and 1s."
   ]
  },
  {
   "cell_type": "markdown",
   "id": "74e9b8bd-082b-40e8-85b9-5510cbdfe85d",
   "metadata": {},
   "source": [
    "Could you place the names of the teams in the points?"
   ]
  },
  {
   "cell_type": "code",
   "execution_count": 18,
   "id": "5d0f8002-c232-4533-8184-14f16be51d45",
   "metadata": {},
   "outputs": [
    {
     "data": {
      "image/png": "[encoded data removed]",
      "text/plain": [
       "<Figure size 432x288 with 1 Axes>"
      ]
     },
     "metadata": {
      "needs_background": "light"
     },
     "output_type": "display_data"
    }
   ],
   "source": [
    "plt.scatter(x='F', y='Pts', data=df_premier)\n",
    "\n",
    "for idx, data in df_premier.iterrows():\n",
    "    plt.text(x=data['F'], y=data['Pts'], s=data['Team'])"
   ]
  },
  {
   "cell_type": "markdown",
   "id": "10d56cc7-f599-4e06-8a8a-16ab58df5889",
   "metadata": {},
   "source": [
    "It's very complicated.\n",
    "\n",
    "Is there an easier way?\n",
    "\n",
    "Yes, you may use an interactive plot with `plotly` library and display the name of the Team as you hover the mouse in a point."
   ]
  },
  {
   "cell_type": "markdown",
   "id": "d0e52099-bfad-4360-8830-3434b5ce94ea",
   "metadata": {},
   "source": [
    "## Plotly"
   ]
  },
  {
   "cell_type": "markdown",
   "id": "c5306507-eea5-4d35-a9a3-8c209d1ad9a4",
   "metadata": {},
   "source": [
    "We use the `express` module within `plotly` library to access the functions of the plots:"
   ]
  },
  {
   "cell_type": "code",
   "execution_count": null,
   "id": "8485bef4-e281-4a79-96da-3a69671ad290",
   "metadata": {},
   "outputs": [],
   "source": []
  }
 ],
 "metadata": {
  "kernelspec": {
   "display_name": "Python 3 (ipykernel)",
   "language": "python",
   "name": "python3"
  },
  "language_info": {
   "codemirror_mode": {
    "name": "ipython",
    "version": 3
   },
   "file_extension": ".py",
   "mimetype": "text/x-python",
   "name": "python",
   "nbconvert_exporter": "python",
   "pygments_lexer": "ipython3",
   "version": "3.10.6"
  }
 },
 "nbformat": 4,
 "nbformat_minor": 5
}
