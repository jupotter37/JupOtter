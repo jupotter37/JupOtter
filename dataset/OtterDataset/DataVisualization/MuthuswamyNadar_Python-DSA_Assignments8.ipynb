{
 "cells": [
  {
   "cell_type": "markdown",
   "metadata": {},
   "source": [
    "# Data Tool Kit\n"
   ]
  },
  {
   "cell_type": "markdown",
   "metadata": {},
   "source": [
    "# 1. What is NumPy, and why is it widely used in Python?"
   ]
  },
  {
   "cell_type": "markdown",
   "metadata": {},
   "source": [
    "NumPy (Numerical Python) is a library for working with arrays and mathematical operations in Python. It's widely used due to its efficiency, flexibility, and ability to handle large datasets."
   ]
  },
  {
   "cell_type": "markdown",
   "metadata": {},
   "source": [
    "# 2. How does broadcasting work in NumPy?"
   ]
  },
  {
   "cell_type": "markdown",
   "metadata": {},
   "source": [
    "Broadcasting is a mechanism in NumPy that allows arrays with different shapes to be operated on element-wise. It aligns arrays by adding dimensions, allowing for efficient operations."
   ]
  },
  {
   "cell_type": "markdown",
   "metadata": {},
   "source": [
    "# 3. What is a Pandas DataFrame?"
   ]
  },
  {
   "cell_type": "markdown",
   "metadata": {},
   "source": [
    "A Pandas DataFrame is a two-dimensional data structure with labeled axes (rows and columns). It's similar to an Excel spreadsheet or a table in a relational database."
   ]
  },
  {
   "cell_type": "markdown",
   "metadata": {},
   "source": [
    "# 4. Explain the use of the groupby() method in Pandas."
   ]
  },
  {
   "cell_type": "markdown",
   "metadata": {},
   "source": [
    "The groupby() method groups a DataFrame by one or more columns and applies aggregation functions (e.g., sum, mean) to each group."
   ]
  },
  {
   "cell_type": "markdown",
   "metadata": {},
   "source": [
    "# 5. Why is Seaborn preferred for statistical visualizations?"
   ]
  },
  {
   "cell_type": "markdown",
   "metadata": {},
   "source": [
    "Seaborn is built on top of Matplotlib and provides a high-level interface for creating informative and attractive statistical graphics."
   ]
  },
  {
   "cell_type": "markdown",
   "metadata": {},
   "source": [
    "# 6. What are the differences between NumPy arrays and Python lists?"
   ]
  },
  {
   "cell_type": "markdown",
   "metadata": {},
   "source": [
    "NumPy arrays are more efficient, support vectorized operations, and provide additional functionality (e.g., broadcasting). Python lists are more flexible and can store different data types."
   ]
  },
  {
   "cell_type": "markdown",
   "metadata": {},
   "source": [
    "# 7. What is a heatmap, and when should it be used?"
   ]
  },
  {
   "cell_type": "markdown",
   "metadata": {},
   "source": [
    "A heatmap is a graphical representation of data where values are depicted by color. It's useful for visualizing relationships between two variables, such as correlation matrices or clustering results."
   ]
  },
  {
   "cell_type": "markdown",
   "metadata": {},
   "source": [
    "# 8. What does the term “vectorized operation” mean in NumPy?"
   ]
  },
  {
   "cell_type": "markdown",
   "metadata": {},
   "source": [
    "\n",
    "Vectorized operations are operations performed on entire arrays at once, rather than iterating over individual elements. This approach is faster and more efficient.\n"
   ]
  },
  {
   "cell_type": "markdown",
   "metadata": {},
   "source": [
    "# 9. How does Matplotlib differ from Plotly?"
   ]
  },
  {
   "cell_type": "markdown",
   "metadata": {},
   "source": [
    "Matplotlib is a static plotting library, while Plotly is an interactive visualization library. Plotly provides more features for interactive visualizations, such as hover text and zooming."
   ]
  },
  {
   "cell_type": "markdown",
   "metadata": {},
   "source": [
    "# 10. What is the significance of hierarchical indexing in Pandas?"
   ]
  },
  {
   "cell_type": "markdown",
   "metadata": {},
   "source": [
    "Hierarchical indexing (MultiIndex) allows for efficient and intuitive data manipulation, especially when working with datasets that have multiple levels of categorization."
   ]
  },
  {
   "cell_type": "markdown",
   "metadata": {},
   "source": [
    "# 11. What is the role of Seaborn’s pairplot() function?"
   ]
  },
  {
   "cell_type": "markdown",
   "metadata": {},
   "source": [
    "The pairplot() function creates a matrix of pairwise relationships between variables in a dataset, including scatterplots and histograms."
   ]
  },
  {
   "cell_type": "markdown",
   "metadata": {},
   "source": [
    "# 12. What is the purpose of the describe() function in Pandas?"
   ]
  },
  {
   "cell_type": "markdown",
   "metadata": {},
   "source": [
    "The describe() function generates summary statistics for a DataFrame, including mean, standard deviation, count, and quartiles."
   ]
  },
  {
   "cell_type": "markdown",
   "metadata": {},
   "source": [
    "# 13. Why is handling missing data important in Pandas?"
   ]
  },
  {
   "cell_type": "markdown",
   "metadata": {},
   "source": [
    "Missing data can lead to inaccurate analysis and biased results. Pandas provides several methods for handling missing data, such as filling, replacing, and interpolating."
   ]
  },
  {
   "cell_type": "markdown",
   "metadata": {},
   "source": [
    "# 14. What are the benefits of using Plotly for data visualization?"
   ]
  },
  {
   "cell_type": "markdown",
   "metadata": {},
   "source": [
    "Plotly provides interactive, web-based visualizations, making it easy to share and explore data. It also supports a wide range of chart types and customization options."
   ]
  },
  {
   "cell_type": "markdown",
   "metadata": {},
   "source": [
    "# 15. How does NumPy handle multidimensional arrays?"
   ]
  },
  {
   "cell_type": "markdown",
   "metadata": {},
   "source": [
    "NumPy provides support for multidimensional arrays through its ndarray object. It allows for efficient storage and manipulation of large datasets."
   ]
  },
  {
   "cell_type": "markdown",
   "metadata": {},
   "source": [
    "# 16. What is the role of Bokeh in data visualization?"
   ]
  },
  {
   "cell_type": "markdown",
   "metadata": {},
   "source": [
    "Bokeh is another interactive visualization library that provides a high-level interface for creating web-based plots and dashboards."
   ]
  },
  {
   "cell_type": "markdown",
   "metadata": {},
   "source": [
    "# 17. Explain the difference between apply() and map() in Pandas."
   ]
  },
  {
   "cell_type": "markdown",
   "metadata": {},
   "source": [
    "The apply() function applies a function to each row or column of a DataFrame, while the map() function applies a function element-wise to a Series or DataFrame."
   ]
  },
  {
   "cell_type": "markdown",
   "metadata": {},
   "source": [
    "# 18. What are some advanced features of NumPy?"
   ]
  },
  {
   "cell_type": "markdown",
   "metadata": {},
   "source": [
    "Some advanced features of NumPy include:\n",
    "\n",
    "Advanced indexing and slicing\n",
    "\n",
    "Broadcasting and vectorized operations\n",
    "\n",
    "Linear algebra functions\n",
    "\n",
    "Random number generation"
   ]
  },
  {
   "cell_type": "markdown",
   "metadata": {},
   "source": [
    "# 19. How does Pandas simplify time series analysis?"
   ]
  },
  {
   "cell_type": "markdown",
   "metadata": {},
   "source": [
    "Pandas provides several features for time series analysis, including:\n",
    "\n",
    "Timestamp objects\n",
    "\n",
    "DateRange objects\n",
    "\n",
    "Resampling and rolling window operations\n",
    "\n",
    "Time shifting and lagging"
   ]
  },
  {
   "cell_type": "markdown",
   "metadata": {},
   "source": [
    "# 20. What is the role of a pivot table in Pandas?"
   ]
  },
  {
   "cell_type": "markdown",
   "metadata": {},
   "source": [
    "A pivot table is a data summarization tool that allows for easy aggregation and analysis of large datasets."
   ]
  },
  {
   "cell_type": "markdown",
   "metadata": {},
   "source": [
    "# 21. Why is NumPy’s array slicing faster than Python’s list slicing?"
   ]
  },
  {
   "cell_type": "markdown",
   "metadata": {},
   "source": [
    "NumPy's array slicing is faster because it uses a more efficient data structure and optimized C code under the hood."
   ]
  },
  {
   "cell_type": "markdown",
   "metadata": {},
   "source": [
    "# 22. What are some common use cases for Seaborn?"
   ]
  },
  {
   "cell_type": "markdown",
   "metadata": {},
   "source": [
    "Seaborn is commonly used for:\n",
    "\n",
    "Statistical visualization\n",
    "\n",
    "Data exploration\n",
    "\n",
    "Heatmap visualization\n",
    "\n",
    "Pairwise relationship visualization\n",
    "\n",
    "Customizable and attractive visualizations"
   ]
  },
  {
   "cell_type": "markdown",
   "metadata": {},
   "source": [
    "# *******************************************************************"
   ]
  },
  {
   "cell_type": "markdown",
   "metadata": {},
   "source": [
    "# Practical Questions"
   ]
  },
  {
   "cell_type": "markdown",
   "metadata": {},
   "source": [
    "# 1. Create a 2D NumPy array and calculate the sum of each row"
   ]
  },
  {
   "cell_type": "code",
   "execution_count": 1,
   "metadata": {},
   "outputs": [
    {
     "name": "stdout",
     "output_type": "stream",
     "text": [
      "[ 6 15 24]\n"
     ]
    }
   ],
   "source": [
    "import numpy as np\n",
    "\n",
    "# Create a 2D NumPy array\n",
    "arr = np.array([[1, 2, 3], [4, 5, 6], [7, 8, 9]])\n",
    "\n",
    "# Calculate the sum of each row\n",
    "row_sums = np.sum(arr, axis=1)\n",
    "\n",
    "print(row_sums)"
   ]
  },
  {
   "cell_type": "markdown",
   "metadata": {},
   "source": [
    "# 2. Write a Pandas script to find the mean of a specific column in a DataFrame"
   ]
  },
  {
   "cell_type": "code",
   "execution_count": 2,
   "metadata": {},
   "outputs": [
    {
     "name": "stdout",
     "output_type": "stream",
     "text": [
      "29.75\n"
     ]
    }
   ],
   "source": [
    "import pandas as pd\n",
    "\n",
    "# Create a sample DataFrame\n",
    "data = {'Name': ['John', 'Anna', 'Peter', 'Linda'],\n",
    "        'Age': [28, 24, 35, 32],\n",
    "        'Country': ['USA', 'UK', 'Australia', 'Germany']}\n",
    "df = pd.DataFrame(data)\n",
    "\n",
    "# Calculate the mean of the 'Age' column\n",
    "mean_age = df['Age'].mean()\n",
    "\n",
    "print(mean_age)"
   ]
  },
  {
   "cell_type": "markdown",
   "metadata": {},
   "source": [
    "# 3. Create a scatter plot using Matplotlib"
   ]
  },
  {
   "cell_type": "code",
   "execution_count": 6,
   "metadata": {},
   "outputs": [
    {
     "data": {
      "image/png": "[encoded data removed]",
      "text/plain": [
       "<Figure size 800x600 with 1 Axes>"
      ]
     },
     "metadata": {},
     "output_type": "display_data"
    }
   ],
   "source": [
    "import matplotlib.pyplot as plt\n",
    "\n",
    "# Create some sample data\n",
    "x = [1, 2, 3, 4, 5]\n",
    "y = [2, 4, 6, 8, 10]\n",
    "\n",
    "# Create the scatter plot\n",
    "plt.figure(figsize=(8, 6))  # Set the figure size\n",
    "plt.scatter(x, y)\n",
    "\n",
    "# Add title and labels\n",
    "plt.title('Scatter Plot Example')\n",
    "plt.xlabel('X')\n",
    "plt.ylabel('Y')\n",
    "\n",
    "# Show the plot\n",
    "plt.tight_layout()  # Ensure the layout is clean\n",
    "plt.show()"
   ]
  },
  {
   "cell_type": "markdown",
   "metadata": {},
   "source": [
    "# 4. Calculate the correlation matrix using Seaborn and visualize it with a heatmap"
   ]
  },
  {
   "cell_type": "code",
   "execution_count": 8,
   "metadata": {},
   "outputs": [
    {
     "data": {
      "image/png": "[encoded data removed]",
      "text/plain": [
       "<Figure size 640x480 with 2 Axes>"
      ]
     },
     "metadata": {},
     "output_type": "display_data"
    }
   ],
   "source": [
    "import seaborn as sns\n",
    "import matplotlib.pyplot as plt\n",
    "import numpy as np\n",
    "\n",
    "# Create some sample data\n",
    "np.random.seed(0)\n",
    "data = np.random.randn(100, 5)\n",
    "\n",
    "# Calculate the correlation matrix\n",
    "corr_matrix = np.corrcoef(data.T)\n",
    "\n",
    "# Create the heatmap\n",
    "sns.heatmap(corr_matrix, annot=True, cmap='coolwarm')\n",
    "\n",
    "# Show the plot\n",
    "plt.show()"
   ]
  },
  {
   "cell_type": "markdown",
   "metadata": {},
   "source": [
    "# 5. Generate a bar plot using Plotly"
   ]
  },
  {
   "cell_type": "markdown",
   "metadata": {},
   "source": [
    "import plotly.graph_objects as go\n",
    "\n",
    "\n",
    "x = ['Apples', 'Bananas', 'Cherries', 'Dates']\n",
    "\n",
    "y = [10, 15, 7, 12]\n",
    "\n",
    "\n",
    "\n",
    "fig = go.Figure(data=[go.Bar(x=x, y=y)])\n",
    "\n",
    "\n",
    "\n",
    "fig.show()"
   ]
  },
  {
   "cell_type": "markdown",
   "metadata": {},
   "source": [
    "# 6. Create a DataFrame and add a new column based on an existing column"
   ]
  },
  {
   "cell_type": "code",
   "execution_count": 13,
   "metadata": {},
   "outputs": [
    {
     "name": "stdout",
     "output_type": "stream",
     "text": [
      "    Name  Age  Adult\n",
      "0   John   28   True\n",
      "1   Anna   24   True\n",
      "2  Peter   35   True\n",
      "3  Linda   32   True\n"
     ]
    }
   ],
   "source": [
    "import pandas as pd\n",
    "\n",
    "# Create a sample DataFrame\n",
    "data = {'Name': ['John', 'Anna', 'Peter', 'Linda'],\n",
    "        'Age': [28, 24, 35, 32]}\n",
    "df = pd.DataFrame(data)\n",
    "\n",
    "# Add a new column 'Adult' based on 'Age'\n",
    "df['Adult'] = df['Age'] > 18\n",
    "\n",
    "print(df)"
   ]
  },
  {
   "cell_type": "markdown",
   "metadata": {},
   "source": [
    "# 7. Write a program to perform element-wise multiplication of two NumPy arrays"
   ]
  },
  {
   "cell_type": "code",
   "execution_count": 14,
   "metadata": {},
   "outputs": [
    {
     "name": "stdout",
     "output_type": "stream",
     "text": [
      "[ 2  8 18 32 50]\n"
     ]
    }
   ],
   "source": [
    "import numpy as np\n",
    "\n",
    "# Create two sample NumPy arrays\n",
    "arr1 = np.array([1, 2, 3, 4, 5])\n",
    "arr2 = np.array([2, 4, 6, 8, 10])\n",
    "\n",
    "# Perform element-wise multiplication\n",
    "result = np.multiply(arr1, arr2)\n",
    "\n",
    "print(result)"
   ]
  },
  {
   "cell_type": "markdown",
   "metadata": {},
   "source": [
    "# 8. Create a line plot with multiple lines using Matplotlib"
   ]
  },
  {
   "cell_type": "code",
   "execution_count": 15,
   "metadata": {},
   "outputs": [
    {
     "data": {
      "image/png": "[encoded data removed]",
      "text/plain": [
       "<Figure size 640x480 with 1 Axes>"
      ]
     },
     "metadata": {},
     "output_type": "display_data"
    }
   ],
   "source": [
    "import matplotlib.pyplot as plt\n",
    "\n",
    "# Create some sample data\n",
    "x = [1, 2, 3, 4, 5]\n",
    "y1 = [2, 4, 6, 8, 10]\n",
    "y2 = [10, 8, 6, 4, 2]\n",
    "y3 = [5, 5, 5, 5, 5]\n",
    "\n",
    "# Create the line plot\n",
    "plt.plot(x, y1, label='Line 1')\n",
    "plt.plot(x, y2, label='Line 2')\n",
    "plt.plot(x, y3, label='Line 3')\n",
    "\n",
    "# Add title and labels\n",
    "plt.title('Line Plot Example')\n",
    "plt.xlabel('X')\n",
    "plt.ylabel('Y')\n",
    "\n",
    "# Add legend\n",
    "plt.legend()\n",
    "\n",
    "# Show the plot\n",
    "plt.show()"
   ]
  },
  {
   "cell_type": "markdown",
   "metadata": {},
   "source": [
    "# 9. Generate a Pandas DataFrame and filter rows where a column value is greater than a threshold"
   ]
  },
  {
   "cell_type": "code",
   "execution_count": 16,
   "metadata": {},
   "outputs": [
    {
     "name": "stdout",
     "output_type": "stream",
     "text": [
      "    Name  Age\n",
      "2  Peter   35\n",
      "3  Linda   32\n"
     ]
    }
   ],
   "source": [
    "import pandas as pd\n",
    "\n",
    "# Create a sample DataFrame\n",
    "data = {'Name': ['John', 'Anna', 'Peter', 'Linda'],\n",
    "        'Age': [28, 24, 35, 32]}\n",
    "df = pd.DataFrame(data)\n",
    "\n",
    "# Filter rows where 'Age' is greater than 30\n",
    "filtered_df = df[df['Age'] > 30]\n",
    "\n",
    "print(filtered_df)"
   ]
  },
  {
   "cell_type": "markdown",
   "metadata": {},
   "source": [
    "# 10. Create a histogram using Seaborn to visualize a distribution"
   ]
  },
  {
   "cell_type": "code",
   "execution_count": 17,
   "metadata": {},
   "outputs": [
    {
     "data": {
      "image/png": "[encoded data removed]",
      "text/plain": [
       "<Figure size 640x480 with 1 Axes>"
      ]
     },
     "metadata": {},
     "output_type": "display_data"
    }
   ],
   "source": [
    "import seaborn as sns\n",
    "import matplotlib.pyplot as plt\n",
    "\n",
    "# Create some sample data\n",
    "np.random.seed(0)\n",
    "data = np.random.randn(1000)\n",
    "\n",
    "# Create the histogram\n",
    "sns.histplot(data, bins=30, kde=True)\n",
    "\n",
    "# Add title and labels\n",
    "plt.title('Histogram Example')\n",
    "plt.xlabel('Value')\n",
    "plt.ylabel('Frequency')\n",
    "\n",
    "# Show the plot\n",
    "plt.show()"
   ]
  },
  {
   "cell_type": "markdown",
   "metadata": {},
   "source": [
    "# 11. Perform matrix multiplication using NumPy"
   ]
  },
  {
   "cell_type": "code",
   "execution_count": 18,
   "metadata": {},
   "outputs": [
    {
     "name": "stdout",
     "output_type": "stream",
     "text": [
      "[[19 22]\n",
      " [43 50]]\n"
     ]
    }
   ],
   "source": [
    "import numpy as np\n",
    "\n",
    "# Create two sample matrices\n",
    "matrix1 = np.array([[1, 2], [3, 4]])\n",
    "matrix2 = np.array([[5, 6], [7, 8]])\n",
    "\n",
    "# Perform matrix multiplication\n",
    "result = np.matmul(matrix1, matrix2)\n",
    "\n",
    "print(result)"
   ]
  },
  {
   "cell_type": "markdown",
   "metadata": {},
   "source": [
    "# 12. Use Pandas to load a CSV file and display its first 5 rows"
   ]
  },
  {
   "cell_type": "markdown",
   "metadata": {},
   "source": [
    "import pandas as pd\n",
    "\n",
    "\n",
    "df = pd.read_csv('data.csv')\n",
    "\n",
    "\n",
    "print(df.head(5))"
   ]
  },
  {
   "cell_type": "markdown",
   "metadata": {},
   "source": [
    "# 13. Create a 3D scatter plot using Plotly"
   ]
  },
  {
   "cell_type": "markdown",
   "metadata": {},
   "source": [
    "import plotly.graph_objects as go\n",
    "\n",
    "import numpy as np\n",
    "\n",
    "\n",
    "np.random.seed(0)\n",
    "\n",
    "x = np.random.randn(100)\n",
    "\n",
    "y = np.random.randn(100)\n",
    "\n",
    "z = np.random.randn(100)\n",
    "\n",
    "\n",
    "fig = go.Figure(data=[go.Scatter3d(x=x, y=y, z=z, mode='markers')])\n",
    "\n",
    "\n",
    "fig.show()"
   ]
  }
 ],
 "metadata": {
  "kernelspec": {
   "display_name": "Python 3",
   "language": "python",
   "name": "python3"
  },
  "language_info": {
   "codemirror_mode": {
    "name": "ipython",
    "version": 3
   },
   "file_extension": ".py",
   "mimetype": "text/x-python",
   "name": "python",
   "nbconvert_exporter": "python",
   "pygments_lexer": "ipython3",
   "version": "3.13.0"
  }
 },
 "nbformat": 4,
 "nbformat_minor": 2
}
