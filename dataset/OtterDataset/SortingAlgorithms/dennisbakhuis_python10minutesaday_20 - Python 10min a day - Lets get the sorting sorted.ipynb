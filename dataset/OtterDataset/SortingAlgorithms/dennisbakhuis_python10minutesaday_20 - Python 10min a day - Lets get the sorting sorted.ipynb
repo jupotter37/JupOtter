{
 "cells": [
  {
   "cell_type": "markdown",
   "metadata": {},
   "source": [
    "<img src=\"assets/jeremy-lapak-CVvFVQ_-oUg-unsplash.png\" alt=\"Python Envs\" style=\"display: block; margin: 0 auto\" />"
   ]
  },
  {
   "cell_type": "markdown",
   "metadata": {},
   "source": [
    "# Learning Python 10 minutes a day #20\n",
    "## Lets get the sorting sorted\n",
    "[Medium article link](https://towardsdatascience.com/learning-python-10-minutes-a-day-20-13af35b86452)"
   ]
  },
  {
   "cell_type": "markdown",
   "metadata": {},
   "source": [
    "This is a [series](https://python-10-minutes-a-day.rocks) of short 10 minute Python articles helping you to get started with Python. I try to post an article each day (no promises), starting from the very basics, going up to more complex idioms. Feel free to contact me on [LinkedIn](https://www.linkedin.com/in/dennisbakhuis/) for questions or requests on particular subjects of Python, you want to know about."
   ]
  },
  {
   "cell_type": "markdown",
   "metadata": {},
   "source": [
    "Two weeks ago we wrote a quick-sort algorithm which is a relatively efficient sorting algorithm. When we need to sort a list, Python comes with a built-in sorting function called sorted(). The algorithm implemented is called [Timsort](https://en.wikipedia.org/wiki/Timsort) and was implemented by Tim Peters in 2002. The function takes an iterable and by default sorts values and characters in ascending order. The syntax of sorted() works like you expect:"
   ]
  },
  {
   "cell_type": "code",
   "execution_count": null,
   "metadata": {},
   "outputs": [],
   "source": [
    "# sort numbers\n",
    "numbers = [8, 4, 1, 4, 2, 5, 5]\n",
    "print('sorted numbers:', sorted(numbers))\n",
    "print('reversed:', sorted(numbers, reverse=True))\n",
    "\n",
    "# There is also a built-in reverse list function:\n",
    "print('sorted numbers:', list(reversed(sorted(numbers))))  # reversed returns a special generator-like object\n",
    "\n",
    "# sort characters\n",
    "string = '908b34759a283d47c'\n",
    "print('sorted string:', sorted(string))\n",
    "\n",
    "# sort words\n",
    "sentence = 'hi all this is a sentence'\n",
    "print('sorted sentence:', sorted(sentence.split()))"
   ]
  },
  {
   "cell_type": "markdown",
   "metadata": {},
   "source": [
    "Numbers are sorted as you would expect. If you want to reverse the order, we need to set the reverse parameter to True. Sorted() returns a new list and therefore, we can also reverse the list using the reverse() function. The reverse function returns a reverse-iterator object. To print a list, we need to convert it first. Sorted() can also sort strings and will do this character by character, starting with numbers, followed by the alphabet. Now, the result is a list of characters. When sorting a list of strings, sorted() will order each item in alphabetical order. Something to keep in mind is that numbers in strings are sorted on a character level and therefore, sorting files might not be in the order you expect:"
   ]
  },
  {
   "cell_type": "code",
   "execution_count": null,
   "metadata": {},
   "outputs": [],
   "source": [
    "# create a list of dummy files\n",
    "files = [\n",
    "    'some_file_34.txt',\n",
    "    'some_file_10.txt',\n",
    "    'some_file_1.txt',\n",
    "    'some_file_2.txt',\n",
    "    'some_file_8.txt'\n",
    "]\n",
    "\n",
    "# use default sort does character sorting per item\n",
    "print('not so sorted:', sorted(files))\n",
    "\n",
    "# use the key feature to order files sequentially\n",
    "def file_number(filename):\n",
    "    return int(filename.split('_')[2][:-4])\n",
    "\n",
    "sorted_files = sorted(files, key=file_number)\n",
    "print(sorted_files)"
   ]
  },
  {
   "cell_type": "markdown",
   "metadata": {},
   "source": [
    "When sorting strings, Python uses the Unicode value of the characters. This means that lower values of the Unicode encoding such as capital letters come before higher value characters such as the lower case alphabet. If a string contains a number and you want to sort by this number, we need to provide a key. A key is a function (or a lambda function which we still have to discuss in a future session) that transforms the item such that it can be sorted in a different way. The result of the key-function can be anything that sorted can do its sorting logic on. In our example, we created a function that extracts the number from the filename and converts it to an integer. Sorted now sorts these integers and returns the original list in that order. This makes the key-parameter a very powerful way to sort lists."
   ]
  },
  {
   "cell_type": "markdown",
   "metadata": {},
   "source": [
    "Something to note is that sorted() can only sort items that it can compare to all other items in the list. When you provide a list of mixed types, such as integers and strings, it is ambiguous to say that 25 is larger than ‘banana’. The same goes for a list of dictionaries. It has no idea on how to compare each dictionary, which consists of various values. These problems can be solved by defining a key-function that makes in explicit again."
   ]
  },
  {
   "cell_type": "markdown",
   "metadata": {},
   "source": [
    "## Practice for today:\n",
    "### Assignment 1:\n",
    "The first assignment you have to order a list of dictionaries by the amount of fruit in stock. For this you need to define a key (a function) that selects the relevant value and make the sorting explicit again."
   ]
  },
  {
   "cell_type": "code",
   "execution_count": null,
   "metadata": {},
   "outputs": [],
   "source": [
    "fruit_types = [\n",
    "    {'name': 'banana', 'amount': 123, 'price': 2.50},\n",
    "    {'name': 'strawberry', 'amount': 23, 'price': 1.75},\n",
    "    {'name': 'apple', 'amount': 87, 'price': 2.10},\n",
    "    {'name': 'pear', 'amount': 3, 'price': 1.50},\n",
    "]"
   ]
  },
  {
   "cell_type": "markdown",
   "metadata": {},
   "source": [
    "### Assignment 2:\n",
    "In this second part we are going to implement another sorting algorithm: the bubble sort. The bubble sort is (spoiler alert) a much less efficient way of sorting values. The algorithm repeatedly iterates through a list and compares two adjacent values and swaps them if they are in the incorrect order. Below is a diagram of two iterations:"
   ]
  },
  {
   "cell_type": "markdown",
   "metadata": {},
   "source": [
    "<img src=\"assets/day20-bubble.png\" alt=\"Python Envs\"  width=\"600\" style=\"display: block; margin: 0 auto\" />"
   ]
  },
  {
   "cell_type": "markdown",
   "metadata": {},
   "source": [
    "The diagram starts with comparing the first two values and swaps those as 24 is larger than 4. The next two values are not changed. This process continues until all values are compared. After the first iteration, the last value is fixed as this is the largest value in the list. This means that for the next iteration, we can ignore the last value and only have to compare the values before 75. After the second iteration, the last two values are fixed. The whole code in pseudo-code (read: almost Python code) looks like this:"
   ]
  },
  {
   "cell_type": "markdown",
   "metadata": {},
   "source": [
    "<img src=\"assets/day20-bubble2.png\" alt=\"Python Envs\"  width=\"600\" style=\"display: block; margin: 0 auto\" />"
   ]
  },
  {
   "cell_type": "markdown",
   "metadata": {},
   "source": [
    "Now, use this pseudo-code to implement the bubble-sort algorithm and compare how much slower it is compared to our previous quick-sort algorithm. You can use the magic command %timeit to evaluate the performance of the sort-algorithm:"
   ]
  },
  {
   "cell_type": "code",
   "execution_count": null,
   "metadata": {},
   "outputs": [],
   "source": [
    "import random\n",
    "\n",
    "N = 1000  # amount of random values\n",
    "values = [random.random() * 100 for ix in range(N)]\n",
    "\n",
    "\n",
    "def quick_sort(list_to_sort):\n",
    "    \"\"\"\n",
    "    Implementation of the quick_sort algorithm\n",
    "    \n",
    "    Parameters\n",
    "    ----------\n",
    "    list_to_sort : list\n",
    "      A list of numbers to sort\n",
    "    \n",
    "    Returns\n",
    "    -------\n",
    "    list\n",
    "      the list sorted from small (first) to large (last) numbers\n",
    "    \"\"\"\n",
    "    if len(list_to_sort) <= 1:\n",
    "        return list_to_sort\n",
    "    lower, higher = [], []\n",
    "    pivot = list_to_sort.pop()\n",
    "    equal = [pivot]\n",
    "    for item in list_to_sort:\n",
    "        if item < pivot:\n",
    "            lower.append(item)\n",
    "        elif item > pivot:\n",
    "            higher.append(item)\n",
    "        else:\n",
    "            equal.append(item)\n",
    "    return quick_sort(lower) + equal + quick_sort(higher)\n",
    "\n",
    "\n",
    "# time our own quicksort (about 95ns per loop)\n",
    "%timeit quick_sort(values)\n",
    "\n",
    "# time the built-in sorted (about 108ns per loop)\n",
    "%timeit sorted(values)\n",
    "\n",
    "# time the bubblesort\n",
    "# ..."
   ]
  },
  {
   "cell_type": "markdown",
   "metadata": {},
   "source": [
    "A [solution](https://gist.github.com/dennisbakhuis/0f40e5a36cec0cb59f82b64a01fec28c) is posted on my Github account."
   ]
  },
  {
   "cell_type": "markdown",
   "metadata": {},
   "source": [
    "If you have any questions, feel free to contact me through [LinkedIn](https://www.linkedin.com/in/dennisbakhuis/)."
   ]
  },
  {
   "cell_type": "code",
   "execution_count": null,
   "metadata": {},
   "outputs": [],
   "source": []
  }
 ],
 "metadata": {
  "kernelspec": {
   "display_name": "Python 3",
   "language": "python",
   "name": "python3"
  },
  "language_info": {
   "codemirror_mode": {
    "name": "ipython",
    "version": 3
   },
   "file_extension": ".py",
   "mimetype": "text/x-python",
   "name": "python",
   "nbconvert_exporter": "python",
   "pygments_lexer": "ipython3",
   "version": "3.7.7"
  }
 },
 "nbformat": 4,
 "nbformat_minor": 4
}
