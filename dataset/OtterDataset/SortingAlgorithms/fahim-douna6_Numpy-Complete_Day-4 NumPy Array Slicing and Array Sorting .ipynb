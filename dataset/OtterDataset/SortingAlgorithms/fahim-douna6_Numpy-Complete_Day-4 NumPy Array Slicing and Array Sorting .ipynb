{
 "cells": [
  {
   "cell_type": "markdown",
   "id": "d6b1548c-42a7-4fa2-9f6b-0c78a67f0f64",
   "metadata": {},
   "source": [
    "# **NumPy Array Slicing and Array Sorting**\n"
   ]
  },
  {
   "cell_type": "markdown",
   "id": "aa23c202-7ca5-45ac-a57c-14a46465f6dd",
   "metadata": {},
   "source": [
    "# 1. NumPy array slicing\n",
    "NumPy array slicing is a powerful technique for extracting subsets of elements from an array. Slicing allows you to create new arrays from an existing array by specifying a range of indices.\n",
    "\n",
    "This feature is useful for data manipulation, analysis, and processing. Here, we will explore how to perform slicing on one-dimensional, two-dimensional, and three-dimensional arrays."
   ]
  },
  {
   "cell_type": "markdown",
   "id": "1e859d9c-2446-4472-8c29-2ff99bdf2186",
   "metadata": {},
   "source": [
    "**1. Slicing One-Dimensional Arrays**\n",
    "In a **one-dimensional NumPy array**, slicing is performed using the syntax array[start:stop:step], where:\n",
    "\n",
    "**start** is the index where the slice starts (inclusive).\n",
    "\n",
    "**stop** is the index where the slice ends (exclusive).\n",
    "\n",
    "**step** specifies the stride between elements.\n",
    "    \n",
    "**Example 1: Basic Slicing**"
   ]
  },
  {
   "cell_type": "code",
   "execution_count": 5,
   "id": "f9c5f176-4155-4506-bb7a-d4c198de9e3b",
   "metadata": {},
   "outputs": [
    {
     "name": "stdout",
     "output_type": "stream",
     "text": [
      "Original array: [10 20 30 40 50 60 70]\n",
      "Sliced array: [20 30 40 50]\n"
     ]
    }
   ],
   "source": [
    "import numpy as np\n",
    "\n",
    "# Creating a one-dimensional array\n",
    "arr = np.array([10, 20, 30, 40, 50, 60, 70])\n",
    "\n",
    "# Slicing the array to get elements from index 1 to 4\n",
    "sliced_arr = arr[1:5]\n",
    "\n",
    "print(\"Original array:\", arr)\n",
    "print(\"Sliced array:\", sliced_arr)\n"
   ]
  },
  {
   "cell_type": "markdown",
   "id": "ad042aa1-806b-4b59-81c9-27d15f8a0293",
   "metadata": {},
   "source": [
    "**Explanation:**\n",
    "\n",
    "In this example, the slicing starts at index 1 and stops before index 5, resulting in the sub-array [20, 30, 40, 50].\n"
   ]
  },
  {
   "cell_type": "markdown",
   "id": "924e14e3-7417-4136-9e9b-8af60334c4cc",
   "metadata": {},
   "source": [
    "**Example 2: Slicing with a Step**"
   ]
  },
  {
   "cell_type": "code",
   "execution_count": 11,
   "id": "f98639d8-415a-4a2d-9acd-0a90dcc748b8",
   "metadata": {},
   "outputs": [
    {
     "name": "stdout",
     "output_type": "stream",
     "text": [
      "Sliced array with step: [10 30 50 70]\n"
     ]
    }
   ],
   "source": [
    "# Slicing the array to get every second element from index 0 to 6\n",
    "step_slice = arr[0:7:2]\n",
    "\n",
    "print(\"Sliced array with step:\", step_slice)\n"
   ]
  },
  {
   "cell_type": "markdown",
   "id": "d8e661e6-37e3-4b41-be08-64af454258b6",
   "metadata": {},
   "source": [
    "**Explanation:**\n",
    "\n",
    "The slice includes elements from index 0 to 6 with a step of 2, resulting in [10, 30, 50, 70]."
   ]
  },
  {
   "cell_type": "markdown",
   "id": "010d0db8-c8b4-4907-959f-3793d41b8675",
   "metadata": {},
   "source": [
    "\n",
    "**2. Slicing Two-Dimensional Arrays**\n",
    "    \n",
    "In two-dimensional arrays, slicing can be used to extract rows and columns. The syntax is array[start:stop, start:stop], where the first part selects rows and the second part selects columns.\n",
    "\n",
    "\n",
    "\n",
    "**Example 1: Slicing Rows and Columns**"
   ]
  },
  {
   "cell_type": "code",
   "execution_count": 15,
   "id": "9456b376-c67c-4834-879b-13656eec15f9",
   "metadata": {},
   "outputs": [
    {
     "name": "stdout",
     "output_type": "stream",
     "text": [
      "Original matrix:\n",
      " [[ 1  2  3  4]\n",
      " [ 5  6  7  8]\n",
      " [ 9 10 11 12]]\n",
      "Sliced sub-matrix:\n",
      " [[2 3]\n",
      " [6 7]]\n"
     ]
    }
   ],
   "source": [
    "# Creating a two-dimensional array\n",
    "matrix = np.array([[1, 2, 3, 4],\n",
    "                   [5, 6, 7, 8],\n",
    "                   [9, 10, 11, 12]])\n",
    "\n",
    "# Slicing to get a sub-matrix\n",
    "sub_matrix = matrix[0:2, 1:3]\n",
    "\n",
    "print(\"Original matrix:\\n\", matrix)\n",
    "print(\"Sliced sub-matrix:\\n\", sub_matrix)\n"
   ]
  },
  {
   "cell_type": "markdown",
   "id": "08ccd896-4245-4bac-b907-0bf049f0b4ac",
   "metadata": {},
   "source": [
    "The slice selects rows from index 0 to 2 (excluding 2) and columns from index 1 to 3 (excluding 3), resulting in the sub-matrix [[2, 3], [6, 7]].\n"
   ]
  },
  {
   "cell_type": "markdown",
   "id": "253a6503-7668-4673-b9ac-ad8fc277f48a",
   "metadata": {},
   "source": [
    "**Example 2: Selecting Entire Rows or Columns**"
   ]
  },
  {
   "cell_type": "code",
   "execution_count": 20,
   "id": "23e28236-b245-4b9d-9f7f-bdd6521f7f00",
   "metadata": {},
   "outputs": [
    {
     "name": "stdout",
     "output_type": "stream",
     "text": [
      "Second row: [5 6 7 8]\n",
      "Third column: [ 3  7 11]\n"
     ]
    }
   ],
   "source": [
    "# Slicing to get the entire second row\n",
    "row_slice = matrix[1, :]\n",
    "\n",
    "# Slicing to get the entire third column\n",
    "col_slice = matrix[:, 2]\n",
    "\n",
    "print(\"Second row:\", row_slice)\n",
    "print(\"Third column:\", col_slice)\n"
   ]
  },
  {
   "cell_type": "markdown",
   "id": "addaddc1-439d-48ec-8768-0d7356598c08",
   "metadata": {},
   "source": [
    "**Explanation:**\n",
    "\n",
    "matrix[1, :] selects the entire second row.\n",
    "\n",
    "matrix[:, 2] selects the entire third column.\n",
    "\n"
   ]
  },
  {
   "cell_type": "markdown",
   "id": "ddf78f40-5491-4fa6-95a5-b7fbfc8d3f16",
   "metadata": {},
   "source": [
    "**3. Slicing Three-Dimensional Arrays**\n",
    "    \n",
    "Slicing three-dimensional arrays follows the syntax array.\n",
    "\n",
    "***[start:stop, start:stop, start:stop]***\n",
    ", allowing selection across multiple dimensions.\n",
    "\n",
    "**Example: Slicing a 3D Array**"
   ]
  },
  {
   "cell_type": "code",
   "execution_count": 28,
   "id": "64f49a53-92c6-421b-a1ec-6e37ee44ae36",
   "metadata": {},
   "outputs": [
    {
     "name": "stdout",
     "output_type": "stream",
     "text": [
      "Original 3D array:\n",
      " [[[ 1  2  3]\n",
      "  [ 4  5  6]]\n",
      "\n",
      " [[ 7  8  9]\n",
      "  [10 11 12]]\n",
      "\n",
      " [[13 14 15]\n",
      "  [16 17 18]]]\n",
      "Sliced sub-cube:\n",
      " [[[ 8  9]\n",
      "  [11 12]]\n",
      "\n",
      " [[14 15]\n",
      "  [17 18]]]\n"
     ]
    }
   ],
   "source": [
    "# Creating a three-dimensional array\n",
    "cube = np.array([[[1, 2, 3], [4, 5, 6]],\n",
    "                 [[7, 8, 9], [10, 11, 12]],\n",
    "                 [[13, 14, 15], [16, 17, 18]]])\n",
    "\n",
    "# Slicing to get a sub-cube\n",
    "sub_cube = cube[1:, :, 1:]\n",
    "\n",
    "print(\"Original 3D array:\\n\", cube)\n",
    "print(\"Sliced sub-cube:\\n\", sub_cube)\n"
   ]
  },
  {
   "cell_type": "markdown",
   "id": "9d89e807-696f-44bb-bf45-d1990cce8035",
   "metadata": {},
   "source": [
    "**Explanation:**\n",
    "\n",
    "The slice cube[1:, :, 1:] selects from the second \"layer\" to the end, all rows, and columns starting from the second column, resulting in a smaller 3D array.\n"
   ]
  },
  {
   "cell_type": "markdown",
   "id": "512f2eee-4e4f-4344-80ac-3936a0c18bbb",
   "metadata": {},
   "source": [
    "**Summary**\n",
    "  \n",
    "**One-Dimensional Slicing:** Uses simple start, stop, and step syntax to access a range of elements.\n",
    "\n",
    "**Two-Dimensional Slicing:** Allows for row and column selection, useful for matrices.\n",
    "\n",
    "**Three-Dimensional Slicing:** Extends the slicing logic to three dimensions, handling more complex data structures.\n",
    "\n",
    "Understanding these slicing techniques is crucial for efficiently working with large datasets and performing data manipulation and analysis using NumPy."
   ]
  },
  {
   "cell_type": "markdown",
   "id": "74587ddb-b128-4f6b-954b-1c2a7492a83b",
   "metadata": {},
   "source": [
    "# 2. Sorting OF Array"
   ]
  },
  {
   "cell_type": "markdown",
   "id": "3f7671ec-3461-45fd-afc8-6ec7ac202ae4",
   "metadata": {},
   "source": [
    "**NumPy Sorting Arrays**\n",
    "\n",
    "NumPy is a Python library used for scientific computing, particularly for working with arrays. It provides various functions for sorting arrays, which can be useful in many applications. Sorting an array is the process of arranging its elements in a specific order.\n",
    "\n",
    "NumPy provides several functions for sorting arrays: \n",
    "\n",
    "np.sort(), \n",
    "\n",
    "np.argsort(),\n",
    "\n",
    "np.lexsort(), \n",
    "\n",
    "and  np.partition().\n",
    "\n",
    "**1. numpy.sort() Function**\n",
    "\n",
    "The numpy.sort() function is used to sort elements in a NumPy array. By default, it sorts the array in ascending order, but it can also sort in descending order by modifying the result after sorting. This function returns a sorted copy of the input array, leaving the original array unchanged.\n",
    "\n",
    "**Syntax:**"
   ]
  },
  {
   "cell_type": "markdown",
   "id": "bffab776-f7c2-43a2-82bf-3bd42a5b1aff",
   "metadata": {},
   "source": [
    "***numpy.sort(a, axis=-1, kind='quicksort', order=None)***\n",
    "\n",
    "**Explanation**\n",
    "  \n",
    "a: Input array to be sorted.\n",
    "\n",
    "axis: Axis along which to sort. If not specified, the default is -1 (sorts along the last axis).\n",
    "\n",
    "kind: Sorting algorithm to use ('quicksort', 'mergesort', 'heapsort', etc.).\n",
    "\n",
    "order: When dealing with structured arrays, specify the field to sort by.\n"
   ]
  },
  {
   "cell_type": "code",
   "execution_count": null,
   "id": "a9b8d3bc-bcd2-40e4-b4ef-818da9c73cbe",
   "metadata": {},
   "outputs": [],
   "source": []
  },
  {
   "cell_type": "markdown",
   "id": "5e01b492-0c2b-4aac-be5f-30230c45c625",
   "metadata": {},
   "source": [
    "**Example 1:** Sorting a 1D Array in Ascending Order"
   ]
  },
  {
   "cell_type": "code",
   "execution_count": 21,
   "id": "3802da78-110d-43be-aeda-432b165d2ae5",
   "metadata": {},
   "outputs": [
    {
     "name": "stdout",
     "output_type": "stream",
     "text": [
      "[1 2 3 4 5]\n"
     ]
    }
   ],
   "source": [
    "import numpy as np\n",
    "\n",
    "arr = np.array([3, 1, 4, 2, 5])\n",
    "sorted_array = np.sort(arr)\n",
    "print(sorted_array)\n"
   ]
  },
  {
   "cell_type": "markdown",
   "id": "dcfd110d-51f7-4132-80a8-2082d7fda6b3",
   "metadata": {},
   "source": [
    "**Example 2:** Sorting a 2D Array by Columns"
   ]
  },
  {
   "cell_type": "code",
   "execution_count": 24,
   "id": "e1f59d05-d137-4082-8c86-f38a0f4e2b2b",
   "metadata": {},
   "outputs": [
    {
     "name": "stdout",
     "output_type": "stream",
     "text": [
      "[[1 1 0]\n",
      " [2 2 3]\n",
      " [3 4 4]]\n"
     ]
    }
   ],
   "source": [
    "import numpy as np\n",
    "\n",
    "arr = np.array([[3, 2, 4], [1, 4, 3], [2, 1, 0]])\n",
    "sorted_array = np.sort(arr, axis=0)\n",
    "print(sorted_array)\n"
   ]
  },
  {
   "cell_type": "markdown",
   "id": "b249e10a-6e60-4811-b786-d3782251e757",
   "metadata": {},
   "source": [
    "**Example 3:** Sorting a Structured Array Based on a Specific Field\n",
    "\n"
   ]
  },
  {
   "cell_type": "code",
   "execution_count": 33,
   "id": "d89407c4-80f5-4c47-a50c-a5109ad86682",
   "metadata": {},
   "outputs": [
    {
     "name": "stdout",
     "output_type": "stream",
     "text": [
      "[('Bob', 20) ('John', 25) ('Jane', 30)]\n"
     ]
    }
   ],
   "source": [
    "import numpy as np\n",
    "\n",
    "arr = np.array([('John', 25), ('Jane', 30), ('Bob', 20)],\n",
    "               dtype=[('name', 'U10'), ('age', int)])\n",
    "sorted_array = np.sort(arr, order='age')\n",
    "print(sorted_array)\n"
   ]
  },
  {
   "cell_type": "markdown",
   "id": "c7b6fc5c-13f6-49f2-a581-818d57b3ae5a",
   "metadata": {},
   "source": [
    "**Example 4:** Sorting a 3D Array Along a Specific Axis\n",
    "\n"
   ]
  },
  {
   "cell_type": "code",
   "execution_count": 36,
   "id": "bf58afdb-15f1-4da5-8d67-29a4f402d6c3",
   "metadata": {},
   "outputs": [
    {
     "name": "stdout",
     "output_type": "stream",
     "text": [
      "[[[2 1 4]\n",
      "  [4 3 1]]\n",
      "\n",
      " [[6 5 4]\n",
      "  [8 7 9]]]\n"
     ]
    }
   ],
   "source": [
    "import numpy as np\n",
    "\n",
    "arr = np.array([[[2, 1, 4], [4, 3, 1]], [[6, 5, 4], [8, 7, 9]]])\n",
    "sorted_array = np.sort(arr, axis=0)\n",
    "print(sorted_array)\n"
   ]
  },
  {
   "cell_type": "markdown",
   "id": "d66275a6-fd24-4188-844d-2dd9e0862336",
   "metadata": {},
   "source": [
    "**Example 5:** Sorting a Boolean Array in Descending Order\n",
    "\n"
   ]
  },
  {
   "cell_type": "code",
   "execution_count": 43,
   "id": "e0508180-240e-4c71-8e83-fd2d68dd4577",
   "metadata": {},
   "outputs": [
    {
     "name": "stdout",
     "output_type": "stream",
     "text": [
      "[ True  True False False]\n"
     ]
    }
   ],
   "source": [
    "import numpy as np\n",
    "\n",
    "arr = np.array([True, False, True, False])\n",
    "sorted_array = np.sort(arr)[::-1]\n",
    "print(sorted_array)\n"
   ]
  },
  {
   "cell_type": "markdown",
   "id": "33e189e6-102e-429d-ae98-06e02d5e84a6",
   "metadata": {},
   "source": [
    "**Example 6:** Sorting Each Row of a 2D Array\n",
    "\n"
   ]
  },
  {
   "cell_type": "code",
   "execution_count": 46,
   "id": "e1df4a7f-d661-4f2a-a554-08a22d3c092a",
   "metadata": {},
   "outputs": [
    {
     "name": "stdout",
     "output_type": "stream",
     "text": [
      "[[2 3 4]\n",
      " [1 3 4]\n",
      " [0 1 2]]\n"
     ]
    }
   ],
   "source": [
    "import numpy as np\n",
    "\n",
    "arr = np.array([[3, 2, 4], [1, 4, 3], [2, 1, 0]])\n",
    "sorted_array = np.sort(arr, axis=1)\n",
    "print(sorted_array)\n"
   ]
  },
  {
   "cell_type": "markdown",
   "id": "34638c53-ac0a-4e28-8d19-602abe60fb56",
   "metadata": {},
   "source": [
    "**2. numpy.argsort() Function**\n",
    "The numpy.argsort() function is used to perform an indirect sort. It returns the indices that would sort an array, which can then be used to rearrange the array elements in sorted order.\n",
    "\n",
    "\n",
    "\n",
    "\n",
    "**Syntax:**\n"
   ]
  },
  {
   "cell_type": "markdown",
   "id": "43a83593-fc9b-42ad-ab5a-4c1a8e3b3c66",
   "metadata": {},
   "source": [
    "***numpy.argsort(a, axis=-1, kind='quicksort', order=None)***\n",
    "\n",
    "\n",
    "**Explanatio**\n",
    "  \n",
    "a: Input array to be sorted.\n",
    "\n",
    "axis: Axis along which to sort. Default is -1.\n",
    "\n",
    "kind: Sorting algorithm to use ('quicksort', 'mergesort', 'heapsort', etc.).\n",
    "\n",
    "order: Specifies the field to sort by for structured arrays.\n"
   ]
  },
  {
   "cell_type": "markdown",
   "id": "561cf64e-6485-443a-8533-260af9025aa7",
   "metadata": {},
   "source": [
    "**Example 1: Sorting a 1D Array and Returning Indices**"
   ]
  },
  {
   "cell_type": "code",
   "execution_count": 59,
   "id": "01fa6f67-24f5-4b7f-8c69-78632d1a4db7",
   "metadata": {},
   "outputs": [
    {
     "name": "stdout",
     "output_type": "stream",
     "text": [
      "[1 3 0 2 4]\n"
     ]
    }
   ],
   "source": [
    "import numpy as np\n",
    "\n",
    "arr = np.array([3, 1, 4, 2, 5])\n",
    "sorted_indices = np.argsort(arr)\n",
    "print(sorted_indices)\n"
   ]
  },
  {
   "cell_type": "markdown",
   "id": "2e1cac7c-0049-45f2-a7f9-33735b5660de",
   "metadata": {},
   "source": [
    "**Example 2: Sorting a 2D Array by a Specific Column and Returning Indices**\n",
    "\n"
   ]
  },
  {
   "cell_type": "code",
   "execution_count": 62,
   "id": "4d188999-9e0a-46d7-8fd5-4b279a4ed257",
   "metadata": {},
   "outputs": [
    {
     "name": "stdout",
     "output_type": "stream",
     "text": [
      "[2 0 1]\n"
     ]
    }
   ],
   "source": [
    "import numpy as np\n",
    "\n",
    "arr = np.array([[3, 2], [1, 4], [2, 1]])\n",
    "sorted_indices = np.argsort(arr[:, 1])\n",
    "print(sorted_indices)\n"
   ]
  },
  {
   "cell_type": "markdown",
   "id": "1d7f2ae9-deab-462c-a716-1dcf8d539d10",
   "metadata": {},
   "source": [
    "**Example 3: Sorting a 3D Array Along a Specific Axis and Returning Indices**"
   ]
  },
  {
   "cell_type": "code",
   "execution_count": 65,
   "id": "34990da5-58aa-4a22-aa40-79ab1b4bcd51",
   "metadata": {},
   "outputs": [
    {
     "name": "stdout",
     "output_type": "stream",
     "text": [
      "[[0 1]\n",
      " [0 1]]\n"
     ]
    }
   ],
   "source": [
    "import numpy as np\n",
    "\n",
    "arr = np.array([[[2, 1], [4, 3]], [[6, 5], [8, 7]]])\n",
    "sorted_indices = np.argsort(arr[:, :, 0], axis=1)\n",
    "print(sorted_indices)\n"
   ]
  },
  {
   "cell_type": "markdown",
   "id": "759c2c9b-fe0d-4bed-83b7-aff6214ea851",
   "metadata": {},
   "source": [
    "**Example 4: Sorting a Boolean Array in Descending Order and Returning Indices**\n",
    "\n"
   ]
  },
  {
   "cell_type": "code",
   "execution_count": 87,
   "id": "c6822db3-6612-4cd5-b236-bee664a863c7",
   "metadata": {},
   "outputs": [
    {
     "name": "stdout",
     "output_type": "stream",
     "text": [
      "[2 0 3 1]\n"
     ]
    }
   ],
   "source": [
    "import numpy as np\n",
    "\n",
    "arr = np.array([True, False, True, False])\n",
    "sorted_indices = np.argsort(arr)[::-1]\n",
    "print(sorted_indices)\n"
   ]
  },
  {
   "cell_type": "markdown",
   "id": "51d7c54e-12ee-4eb8-b6cf-95708d7d5b0d",
   "metadata": {},
   "source": [
    "**3. numpy.lexsort() Function**\n",
    "\n",
    "The numpy.lexsort() function performs an indirect sort using a sequence of keys.\n",
    "\n",
    "It sorts primarily by the last key, then by the second-last key, and so on.\n",
    "\n",
    "\n",
    "    \n",
    "**Syntax:**"
   ]
  },
  {
   "cell_type": "markdown",
   "id": "d680c5d7-7661-4f16-83ab-d10fcc76d50f",
   "metadata": {},
   "source": [
    "***numpy.lexsort(keys, axis=-1)***\n",
    "\n",
    "\n",
    "keys: Sequence of arrays to be sorted by.\n",
    "\n",
    "axis: Axis along which to sort. Default is -1.\n"
   ]
  },
  {
   "cell_type": "markdown",
   "id": "25d8d720-79e5-430d-a605-55564ac10fbf",
   "metadata": {},
   "source": [
    "**Example: Sorting Using Multiple Keys**"
   ]
  },
  {
   "cell_type": "code",
   "execution_count": 89,
   "id": "2aba3f78-1879-434d-8407-3ed3310016ab",
   "metadata": {},
   "outputs": [
    {
     "name": "stdout",
     "output_type": "stream",
     "text": [
      "[2 0 1]\n"
     ]
    }
   ],
   "source": [
    "import numpy as np\n",
    "\n",
    "a = np.array([3, 1, 2])\n",
    "b = np.array([2, 3, 1])\n",
    "ind = np.lexsort((a, b))\n",
    "print(ind)\n"
   ]
  },
  {
   "cell_type": "markdown",
   "id": "d110775a-fade-4987-a9b0-bf45906f8777",
   "metadata": {},
   "source": [
    "**4. numpy.partition() Function**\n",
    "    \n",
    "The numpy.partition() function is used to partition an array into a specific order, but not necessarily fully sorted. \n",
    "\n",
    "    It rearranges the elements so that the k-th smallest element is in its sorted position, and all smaller elements are moved before it, while all larger elements are moved after it.\n",
    "\n",
    "\n",
    "\n",
    "**Syntax:**"
   ]
  },
  {
   "cell_type": "markdown",
   "id": "0e7f9099-2956-4571-9d1c-ac368129482f",
   "metadata": {},
   "source": [
    "***numpy.partition(a, kth, axis=-1, kind='introselect', order=None)***\n",
    "\n",
    "a: Input array.\n",
    "\n",
    "kth: Element index to partition by.\n",
    "\n",
    "axis: Axis along which to partition. Default is -1.\n",
    "\n",
    "kind: Selection algorithm to use.\n",
    "\n",
    "order: Used when dealing with structured arrays.\n"
   ]
  },
  {
   "cell_type": "markdown",
   "id": "90df69b4-a819-47b2-b6b0-2dae13ebb84c",
   "metadata": {},
   "source": [
    "**Example: Partitioning an Array**"
   ]
  },
  {
   "cell_type": "code",
   "execution_count": 99,
   "id": "2c2bafb3-f15b-4be0-92f9-62d78bc1a212",
   "metadata": {},
   "outputs": [
    {
     "name": "stdout",
     "output_type": "stream",
     "text": [
      "[1 2 3 4 5]\n"
     ]
    }
   ],
   "source": [
    "import numpy as np\n",
    "\n",
    "arr = np.array([3, 1, 4, 2, 5])\n",
    "partitioned_array = np.partition(arr, 2)\n",
    "print(partitioned_array)\n"
   ]
  },
  {
   "cell_type": "code",
   "execution_count": null,
   "id": "a7788b14-f200-446e-837b-d67cfbd82db5",
   "metadata": {},
   "outputs": [],
   "source": []
  },
  {
   "cell_type": "code",
   "execution_count": null,
   "id": "a0b9a8e1-d683-4ac1-9668-bec0cb46d409",
   "metadata": {},
   "outputs": [],
   "source": []
  },
  {
   "cell_type": "markdown",
   "id": "5dca8f20-d37e-47b5-9dd4-611f2ee72b71",
   "metadata": {},
   "source": [
    "# Summary\n",
    "NumPy provides powerful functions for sorting arrays:\n",
    "\n",
    "**numpy.sort():** Sorts an array and returns a sorted copy.\n",
    "\n",
    "**numpy.argsort():** Returns the indices that would sort an array.\n",
    "\n",
    "**numpy.lexsort():** Sorts using multiple keys.\n",
    "\n",
    "**numpy.partition():** Partitions an array based on a specified element.\n",
    "\n",
    "These functions are widely used in data analysis and scientific computing, enabling efficient manipulation and organization of data."
   ]
  },
  {
   "cell_type": "code",
   "execution_count": null,
   "id": "3f2e08e8-6b69-4084-b80d-ef58de99f4ee",
   "metadata": {},
   "outputs": [],
   "source": []
  },
  {
   "cell_type": "code",
   "execution_count": null,
   "id": "f2a7df99-7a15-4efa-aa16-83f4e1abd1da",
   "metadata": {},
   "outputs": [],
   "source": []
  }
 ],
 "metadata": {
  "kernelspec": {
   "display_name": "Python 3 (ipykernel)",
   "language": "python",
   "name": "python3"
  },
  "language_info": {
   "codemirror_mode": {
    "name": "ipython",
    "version": 3
   },
   "file_extension": ".py",
   "mimetype": "text/x-python",
   "name": "python",
   "nbconvert_exporter": "python",
   "pygments_lexer": "ipython3",
   "version": "3.12.4"
  }
 },
 "nbformat": 4,
 "nbformat_minor": 5
}
