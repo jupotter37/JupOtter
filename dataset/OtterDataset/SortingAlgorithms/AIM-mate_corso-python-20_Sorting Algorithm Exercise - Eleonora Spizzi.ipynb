{
 "cells": [
  {
   "cell_type": "markdown",
   "metadata": {
    "id": "BgD21e6UPi8E"
   },
   "source": [
    "# Sorting Algorithms\n",
    "\n",
    "*Per visualizzare le gif (che mostrano gli algoritmi al'opera) scaricate la cartella con le immagini, dopodiche' lanciatevi jupyter notebook/lab*\n",
    "\n",
    "\n",
    "\n",
    "Un algoritmo di ordinamento e' un algoritmo basato su una serie di istruzioni che prende un array (spesso una lista) come input, vi performa specifiche operazioni, e restituisce un array ordinato seguendo una relazione di ordine richiesta. Gli algoritmi di ordinamento sono spesso insegnati nelle prime lezioni di computer science in quanto forniscono una via molto intuitiva per introdurre altri argomenti chiave come la *Big-O Notation*, metodi *Divide-and-Conquer*, e strutture dati come *Binary Trees* e *Heaps*. In questo notebook cercheremo di costruire alcuni tipo di algoritmi di ordinamento che restituiscano una lista di numeri ordinata in ordine crescente.\n",
    "\n",
    "\n",
    "\n",
    "\n",
    "\n",
    "\n"
   ]
  },
  {
   "cell_type": "markdown",
   "metadata": {
    "id": "kJ-TT1EKPi8I"
   },
   "source": [
    "## Esempio: Selection Sort\n",
    "\n",
    "Questo algoritmo segmenta l'elenco in due parti: ordinato e non ordinato. Rimuoviamo continuamente l'elemento più piccolo del segmento non ordinato dell'elenco e lo accodiamo al segmento ordinato. \n",
    "\n",
    "In questa cella potete anche vedere la sintassi di una funzione in Python. Una funzione è un blocco di codice che viene eseguito solo quando viene chiamata. È possibile passare dati, noti come parametri, in una funzione. Una funzione può restituire dati come risultato. Se avete dubbi: https://www.w3schools.com/python/python_functions.asp"
   ]
  },
  {
   "cell_type": "code",
   "execution_count": null,
   "metadata": {
    "id": "SHx1gJdhPi8L",
    "outputId": "952caa8b-13ea-4cc8-82d6-07693a3a1996"
   },
   "outputs": [
    {
     "name": "stdout",
     "output_type": "stream",
     "text": [
      "[12, 8, 3, 20, 11]\n",
      "[3, 8, 11, 12, 20]\n"
     ]
    }
   ],
   "source": [
    "def selection_sort(nums):\n",
    "    # This value of i corresponds to how many values were sorted\n",
    "    for i in range(len(nums)):\n",
    "        # We assume that the first item of the unsorted segment is the smallest\n",
    "        lowest_value_index = i\n",
    "        # This loop iterates over the unsorted items\n",
    "        for j in range(i + 1, len(nums)):\n",
    "            if nums[j] < nums[lowest_value_index]:\n",
    "                lowest_value_index = j\n",
    "        # Swap values of the lowest unsorted element with the first unsorted\n",
    "        # element\n",
    "        nums[i], nums[lowest_value_index] = nums[lowest_value_index], nums[i]\n",
    "\n",
    "\n",
    "# Verify it works\n",
    "random_list_of_nums = [12, 8, 3, 20, 11]\n",
    "print(random_list_of_nums)\n",
    "selection_sort(random_list_of_nums)\n",
    "print(random_list_of_nums)"
   ]
  },
  {
   "cell_type": "markdown",
   "metadata": {
    "id": "F83h0WWyPi8e"
   },
   "source": [
    "## Insertion Sort\n",
    "L'Insertion sort, in italiano ordinamento a inserimento, è un algoritmo relativamente semplice per ordinare un array. Non è molto diverso dal modo in cui un essere umano, spesso, ordina un mazzo di carte. Esso è un algoritmo in place, cioè ordina l'array senza doverne creare una copia, risparmiando memoria. Pur essendo molto meno efficiente di algoritmi più avanzati, può avere alcuni vantaggi: ad esempio, è semplice da implementare ed è efficiente per insiemi di partenza che sono quasi ordinati. \n",
    "\n",
    "Schema:\n",
    "\n",
    "\n",
    "Per ordinare un array di dimensione n in ordine crescente:\n",
    "- Itera da arr [1] a arr [n] sull'array.\n",
    "- Confronta l'elemento corrente (chiave) con il suo predecessore.\n",
    "- se l'elemento chiave è più piccolo del suo predecessore, confrontalo con gli elementi precedenti. Spostare gli elementi maggiori di una posizione verso l'alto per fare spazio per l'elemento scambiato.\n",
    "\n",
    "![SegmentLocal](Insertion-sort-example-300px.gif \"segment\")\n",
    "\n",
    "Esempio visivo:\n",
    "\n",
    "![SegmentLocal](Insertion_sort_animation.gif \"segment\")"
   ]
  },
  {
   "cell_type": "code",
   "execution_count": 2,
   "metadata": {
    "id": "jkJRkd_CPi8g",
    "outputId": "59de0c0e-bd29-4d8b-a954-c3a784a22acb"
   },
   "outputs": [
    {
     "name": "stdout",
     "output_type": "stream",
     "text": [
      "[12, 11, 13, 5, 6]\n",
      "Sorted array is:\n",
      "[5, 6, 11, 12, 13]\n"
     ]
    }
   ],
   "source": [
    "# Python program for implementation of Insertion Sort \n",
    "  \n",
    "# Function to do insertion sort \n",
    "def insertionSort(arr): \n",
    "  \n",
    "    # Traverse through 1 to len(arr) \n",
    "    for i in range (1,len(arr)) :\n",
    "  \n",
    "        key=arr[i]              #pick key element\n",
    "  \n",
    "        # Move elements of arr[0..i-1], that are \n",
    "        # greater than key, to one position ahead \n",
    "        # of their current position \n",
    "        j = i-1 \n",
    "        \n",
    "        while j>=0 and key<arr[j] : \n",
    "                arr[j+1]=arr[j]             #move element one position ahead\n",
    "                j=j-1             #update j\n",
    "                \n",
    "        arr[j+1]=key\n",
    "        \n",
    "    return arr\n",
    "  \n",
    "  \n",
    "# Driver code to test above \n",
    "arr = [12, 11, 13, 5, 6] \n",
    "print(arr)\n",
    "print (\"Sorted array is:\") \n",
    "print(insertionSort(arr))"
   ]
  },
  {
   "cell_type": "markdown",
   "metadata": {
    "id": "RSbrRgrtPi8t"
   },
   "source": [
    "## Bubble Sort\n",
    "\n",
    "Il Bubble sort o ordinamento a bolla è un semplice algoritmo di ordinamento di una lista di dati. Ogni coppia di elementi adiacenti viene comparata e invertita di posizione se sono nell'ordine sbagliato. L'algoritmo continua nuovamente a ri-eseguire questi passaggi per tutta la lista finché non vengono più eseguiti scambi, situazione che indica che la lista è ordinata.\n",
    "\n",
    "### Step-by-step example\n",
    "\n",
    "Prendi un array di numeri \"5 1 4 2 8\" e ordina l'array dal numero più basso al numero più grande utilizzando il bubble sort. In ogni fase vengono confrontati gli elementi scritti in grassetto. Saranno necessari tre passaggi;\n",
    "\n",
    "Primo passaggio\n",
    "\n",
    "   \n",
    "\n",
    ">  ( **5 1** 4 2 8 ) → ( **1 5** 4 2 8 ),  Qui, l'algoritmo compara i primi due elementi, e li inverte dato che 5 > 1.\n",
    "\n",
    "\n",
    "> ( 1 **5 4** 2 8 ) → ( 1 **4 5** 2 8 ),  Swap  (5 > 4)\n",
    "\n",
    "> ( 1 4 **5 2** 8 ) → ( 1 4 **2 5** 8 ),  Swap  (5 > 2)\n",
    "\n",
    "> ( 1 4 2 **5 8** ) → ( 1 4 2 **5 8** ),  dato che gli elementi sono gia' in ordine (8>5), nessuno swap.\n",
    "\n",
    "    \n",
    "Secondo passaggio\n",
    "\n",
    "\n",
    "> ( **1 4** 2 5 8 ) → ( **1 4** 2 5 8 )\n",
    "\n",
    "> ( 1 **4 2** 5 8 ) → ( 1 **2 4** 5 8 ), Swap (4 > 2)\n",
    "\n",
    "> ( 1 2 **4 5** 8 ) → ( 1 2 **4 5** 8 )\n",
    "\n",
    "> ( 1 2 4 **5 8** ) → ( 1 2 4 **5 8** )\n",
    "\n",
    "Ora, l'array è già ordinato, ma l'algoritmo non sa se è stato completato. L'algoritmo necessita di un intero passaggio senza alcuno scambio per sapere che è ordinato.\n",
    "\n",
    "Terzo passaggio\n",
    "\n",
    "> ( **1 2** 4 5 8 ) → ( **1 2** 4 5 8 )\n",
    "\n",
    "> ( 1 **2 4** 5 8 ) → ( 1 **2 4** 5 8 )\n",
    "\n",
    "> ( 1 2 **4 5** 8 ) → ( 1 2 **4 5** 8 )\n",
    "\n",
    "> ( 1 2 4 **5 8** ) → ( 1 2 4 **5 8** )\n",
    "    \n",
    "    \n",
    "![SegmentLocal](Bubble-sort-example-300px.gif \"segment\")\n",
    "\n",
    "Esempio visivo:\n",
    "\n",
    "![SegmentLocal](Sorting_bubblesort_anim.gif \"segment\")\n"
   ]
  },
  {
   "cell_type": "markdown",
   "metadata": {
    "id": "9LbLBR76vcKM"
   },
   "source": []
  },
  {
   "cell_type": "code",
   "execution_count": 11,
   "metadata": {
    "id": "ZYuVwzPYPi8v"
   },
   "outputs": [
    {
     "name": "stdout",
     "output_type": "stream",
     "text": [
      "[64, 34, 25, 12, 22, 11, 90]\n",
      "Sorted array is:\n",
      "[11, 12, 22, 25, 34, 64, 90]\n"
     ]
    }
   ],
   "source": [
    "  \n",
    "def bubbleSort(arr): \n",
    "    n = len(arr) \n",
    "  \n",
    "    # Traverse through all array elements \n",
    "    for i in range (0,n):\n",
    "    \n",
    "  \n",
    "        # Last i elements are already in place \n",
    "        for j in range (n-i-1):\n",
    "  \n",
    "            # traverse the array from 0 to n-i-1 \n",
    "            # Swap if the element found is greater \n",
    "            # than the next element \n",
    "            if arr[j]>arr[j+1]:              #condition\n",
    "                arr[j],arr[j+1]=arr[j+1],arr[j]  #swap                    \n",
    "            \n",
    "    return arr\n",
    "  \n",
    "# Driver code to test above \n",
    "arr = [64, 34, 25, 12, 22, 11, 90] \n",
    "\n",
    "print(arr)\n",
    "print (\"Sorted array is:\") \n",
    "print(bubbleSort(arr))"
   ]
  },
  {
   "cell_type": "markdown",
   "metadata": {
    "id": "PV_JlrcWPi87"
   },
   "source": [
    "## Per i piu' coraggiosi"
   ]
  },
  {
   "cell_type": "markdown",
   "metadata": {
    "id": "N5384Cg4Pi88"
   },
   "source": [
    "Nel prossimo esercizio avrete bisogno della ricorsione, ossia di una funzione che chiama se stessa al suo interno. \n",
    "\n"
   ]
  },
  {
   "cell_type": "markdown",
   "metadata": {
    "id": "o--at82jPi8-"
   },
   "source": [
    "\n",
    "\n",
    "\n",
    "\n",
    "## Merge Sort\n",
    "\n",
    "Il merge sort è un algoritmo di ordinamento basato su confronti che utilizza un processo di risoluzione ricorsivo, sfruttando la tecnica del Divide et Impera, che consiste nella suddivisione del problema in sottoproblemi della stessa natura di dimensione via via più piccola. \n",
    "\n",
    "Concettualmente, l'algoritmo funziona nel seguente modo:\n",
    "- Se la sequenza da ordinare ha lunghezza 0 oppure 1, è già ordinata. Altrimenti:\n",
    "- La sequenza viene divisa (divide) in due metà (se la sequenza contiene un numero dispari di elementi, viene divisa in due sottosequenze di cui la prima ha un elemento in più della seconda)\n",
    "- Ognuna di queste sottosequenze viene ordinata, applicando ricorsivamente l'algoritmo (impera)\n",
    "- Le due sottosequenze ordinate vengono fuse (combina). Per fare questo, si estrae ripetutamente il minimo delle due sottosequenze e lo si pone nella sequenza in uscita, che risulterà ordinata\n",
    "\n",
    "![SegmentLocal](Merge_sort_algorithm_diagram2.jpg \"segment\")\n",
    "\n",
    "Esempio visivo:\n",
    "\n",
    "![SegmentLocal](Merge_sort_animation2.gif \"segment\")"
   ]
  },
  {
   "cell_type": "code",
   "execution_count": 13,
   "metadata": {
    "id": "4IyShujLPi8_"
   },
   "outputs": [
    {
     "name": "stdout",
     "output_type": "stream",
     "text": [
      "Given array is\n",
      "[12, 11, 13, 5, 6, 7]\n"
     ]
    },
    {
     "ename": "TypeError",
     "evalue": "slice indices must be integers or None or have an __index__ method",
     "output_type": "error",
     "traceback": [
      "\u001b[1;31m---------------------------------------------------------------------------\u001b[0m",
      "\u001b[1;31mTypeError\u001b[0m                                 Traceback (most recent call last)",
      "\u001b[1;32m<ipython-input-13-e88800ca21f9>\u001b[0m in \u001b[0;36m<module>\u001b[1;34m\u001b[0m\n\u001b[0;32m     40\u001b[0m \u001b[0mprint\u001b[0m\u001b[1;33m(\u001b[0m\u001b[0ma\u001b[0m\u001b[1;33m)\u001b[0m\u001b[1;33m\u001b[0m\u001b[1;33m\u001b[0m\u001b[0m\n\u001b[0;32m     41\u001b[0m \u001b[1;33m\u001b[0m\u001b[0m\n\u001b[1;32m---> 42\u001b[1;33m \u001b[0ma\u001b[0m \u001b[1;33m=\u001b[0m \u001b[0mmerge_sort\u001b[0m\u001b[1;33m(\u001b[0m\u001b[0ma\u001b[0m\u001b[1;33m)\u001b[0m\u001b[1;33m\u001b[0m\u001b[1;33m\u001b[0m\u001b[0m\n\u001b[0m\u001b[0;32m     43\u001b[0m \u001b[1;33m\u001b[0m\u001b[0m\n\u001b[0;32m     44\u001b[0m \u001b[1;31m# Print output\u001b[0m\u001b[1;33m\u001b[0m\u001b[1;33m\u001b[0m\u001b[1;33m\u001b[0m\u001b[0m\n",
      "\u001b[1;32m<ipython-input-13-e88800ca21f9>\u001b[0m in \u001b[0;36mmerge_sort\u001b[1;34m(values)\u001b[0m\n\u001b[0;32m     26\u001b[0m \u001b[1;33m\u001b[0m\u001b[0m\n\u001b[0;32m     27\u001b[0m     \u001b[0mmiddle\u001b[0m \u001b[1;33m=\u001b[0m \u001b[0mlen\u001b[0m\u001b[1;33m(\u001b[0m\u001b[0mvalues\u001b[0m\u001b[1;33m)\u001b[0m\u001b[1;33m/\u001b[0m\u001b[1;36m2\u001b[0m\u001b[1;33m\u001b[0m\u001b[1;33m\u001b[0m\u001b[0m\n\u001b[1;32m---> 28\u001b[1;33m     \u001b[0mleft\u001b[0m \u001b[1;33m=\u001b[0m \u001b[0mmerge_sort\u001b[0m\u001b[1;33m(\u001b[0m\u001b[0mvalues\u001b[0m\u001b[1;33m[\u001b[0m\u001b[1;33m:\u001b[0m\u001b[0mmiddle\u001b[0m\u001b[1;33m]\u001b[0m\u001b[1;33m)\u001b[0m\u001b[1;33m\u001b[0m\u001b[1;33m\u001b[0m\u001b[0m\n\u001b[0m\u001b[0;32m     29\u001b[0m     \u001b[0mright\u001b[0m \u001b[1;33m=\u001b[0m \u001b[0mmerge_sort\u001b[0m\u001b[1;33m(\u001b[0m\u001b[0mvalues\u001b[0m\u001b[1;33m[\u001b[0m\u001b[0mmiddle\u001b[0m\u001b[1;33m:\u001b[0m\u001b[1;33m]\u001b[0m\u001b[1;33m)\u001b[0m\u001b[1;33m\u001b[0m\u001b[1;33m\u001b[0m\u001b[0m\n\u001b[0;32m     30\u001b[0m \u001b[1;33m\u001b[0m\u001b[0m\n",
      "\u001b[1;31mTypeError\u001b[0m: slice indices must be integers or None or have an __index__ method"
     ]
    }
   ],
   "source": [
    "# Python program for implementation of  \n",
    "# MergeSort  \n",
    "\n",
    "def mergesort(values): \n",
    "  \n",
    "    #your code goes here \n",
    "    #...\n",
    "    return result\n",
    "                  \n",
    "  \n",
    "# Input list \n",
    "a = [12, 11, 13, 5, 6, 7] \n",
    "print(\"Given array is\") \n",
    "print(a) \n",
    "  \n",
    "a = merge_sort(a) \n",
    "  \n",
    "# Print output \n",
    "print(\"Sorted array is : \") \n",
    "print(a) "
   ]
  }
 ],
 "metadata": {
  "colab": {
   "collapsed_sections": [],
   "name": "Sorting Algorithm Exercise.ipynb",
   "provenance": []
  },
  "kernelspec": {
   "display_name": "Python 3",
   "language": "python",
   "name": "python3"
  },
  "language_info": {
   "codemirror_mode": {
    "name": "ipython",
    "version": 3
   },
   "file_extension": ".py",
   "mimetype": "text/x-python",
   "name": "python",
   "nbconvert_exporter": "python",
   "pygments_lexer": "ipython3",
   "version": "3.7.9"
  }
 },
 "nbformat": 4,
 "nbformat_minor": 1
}
