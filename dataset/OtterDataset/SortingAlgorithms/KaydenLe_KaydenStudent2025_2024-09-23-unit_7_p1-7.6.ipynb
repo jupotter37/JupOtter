{
 "cells": [
  {
   "cell_type": "raw",
   "metadata": {
    "vscode": {
     "languageId": "raw"
    }
   },
   "source": [
    "---\n",
    "layout: post\n",
    "toc: true\n",
    "title: 7.6 Sorting\n",
    "description: Sorting ArrayLists\n",
    "authors: Aidan Lau, Saathvik Gampa, Sri Surapaneni, Tanav Kambhampati\n",
    "categories: [AP CSA]\n",
    "type: ccc\n",
    "permalink: /csa/unit7-p1/unit7-6\n",
    "menu: nav/CSA_Units/csa_unit7_p1.html\n",
    "---"
   ]
  },
  {
   "cell_type": "markdown",
   "metadata": {},
   "source": [
    "# 7.6 Sorting\n",
    "\n",
    "> Two of the following sorting algorithms will be on the AP exam.(merge sort is discussed in Unit 10)\n",
    "- <mark>Selection sort</mark>: Look for the smallest element, swap with first element. Look for the second smallest, swap with second element, etc…\n",
    "- <mark>Insertion sort</mark>: Build an increasingly large sorted front portion of array.\n",
    "#### All sorting algorithms have...\n",
    "- comparison-based sorting, which determines order of elements by comparing them to each other. Ways to compare are:\n",
    "    - <, >, compareTo "
   ]
  },
  {
   "cell_type": "markdown",
   "metadata": {},
   "source": [
    "<h2 style=\"color: ##FF5733\">Selection Sort</h2>\n",
    "\n",
    "> <mark>Process</mark>: Orders a list of values by repeatedly putting the smallest or largest unplaced value into its final position.\n",
    "- Look through the list to find the smallest value.\n",
    "- Swap it so that it is at index 0.\n",
    "- Look through the list to find the second-smallest value.\n",
    "- Swap it so that it is at index 1.\n",
    "- ...\n",
    "- Repeat until all values are in their proper places.\n",
    "\n",
    "> Visualize this diagram as you go through the code\n",
    "- ![Selection Sort GIF](https://github.com/user-attachments/assets/5887afde-3f2d-427d-bb7c-d7a30a7f876f)\n",
    "\n",
    "### Code Implementation:"
   ]
  },
  {
   "cell_type": "code",
   "execution_count": 5,
   "metadata": {
    "vscode": {
     "languageId": "java"
    }
   },
   "outputs": [],
   "source": [
    "import java.util.ArrayList;\n",
    "\n",
    "public class SortTest\n",
    "{\n",
    "    public static void selectionSort(ArrayList<Integer> elements)\n",
    "    {\n",
    "        for (int j = 0; j < elements.size() - 1; j++)\n",
    "        {\n",
    "            int minIndex = j;\n",
    "            for (int k = j + 1; k < elements.size(); k++)\n",
    "            {\n",
    "                if (elements.get(k) < elements.get(minIndex))\n",
    "                {\n",
    "                    minIndex = k;\n",
    "                }\n",
    "            }\n",
    "            int temp = elements.get(j);\n",
    "            elements.set(j, elements.get(minIndex));\n",
    "            elements.set(minIndex, temp);\n",
    "        }\n",
    "    }\n",
    "\n",
    "    public static void main(String[] args)\n",
    "    {\n",
    "        ArrayList<Integer> arr1 = new ArrayList<>();\n",
    "        arr1.add(3);\n",
    "        arr1.add(86);\n",
    "        arr1.add(-20);\n",
    "        arr1.add(14);\n",
    "        arr1.add(40);\n",
    "        System.out.println(arr1.toString());\n",
    "        selectionSort(arr1);\n",
    "        System.out.println(arr1.toString());\n",
    "    }\n",
    "}\n"
   ]
  },
  {
   "cell_type": "markdown",
   "metadata": {},
   "source": [
    "<h2 style=\"color: ##FF5733\">Insertion Sort</h2>\n",
    "\n",
    "> <mark>Process</mark>: Shift each element into a sorted sub-array.\n",
    "- To sort a list of n elements.\n",
    "    - Loop through indices i from 1 to n – 1:\n",
    "        - For each value at position i, insert into correct position in the sorted list from index 0 to i – 1.\n",
    "\n",
    "> Visualize this GIF as you go through the code:\n",
    "- ![Insertion Sort GIF](https://github.com/user-attachments/assets/47646078-e11c-4b50-beb6-98982fc3758b)\n",
    "\n",
    "### Code Implementation:"
   ]
  },
  {
   "cell_type": "code",
   "execution_count": 4,
   "metadata": {
    "vscode": {
     "languageId": "java"
    }
   },
   "outputs": [],
   "source": [
    "import java.util.ArrayList;\n",
    "\n",
    "public class SortTest\n",
    "{\n",
    "    public static void insertionSort(ArrayList<Integer> elements)\n",
    "    {\n",
    "        for (int j = 1; j < elements.size(); j++)\n",
    "        {\n",
    "            int temp = elements.get(j);\n",
    "            int possibleIndex = j;\n",
    "            while (possibleIndex > 0 && temp < elements.get(possibleIndex - 1))\n",
    "            {\n",
    "                elements.set(possibleIndex, elements.get(possibleIndex - 1));\n",
    "                possibleIndex--;\n",
    "            }\n",
    "            elements.set(possibleIndex, temp);\n",
    "        }\n",
    "    }\n",
    "\n",
    "    public static void main(String[] args)\n",
    "    {\n",
    "        ArrayList<Integer> arr1 = new ArrayList<>();\n",
    "        arr1.add(3);\n",
    "        arr1.add(86);\n",
    "        arr1.add(-20);\n",
    "        arr1.add(14);\n",
    "        arr1.add(40);\n",
    "        System.out.println(arr1.toString());\n",
    "        insertionSort(arr1);\n",
    "        System.out.println(arr1.toString());\n",
    "    }\n",
    "}\n"
   ]
  },
  {
   "cell_type": "markdown",
   "metadata": {},
   "source": [
    "# Homework\n",
    "\n",
    "- You're a teacher for a computer science class at Rancho Bernardo. You have a list of all the grades of the students in your class but its hard to see who has the highest and lowest grade. Use either insertion sort or selection sort to sort the ArrayList so the grades are easy to see. \n"
   ]
  },
  {
   "cell_type": "code",
   "execution_count": 2,
   "metadata": {
    "vscode": {
     "languageId": "java"
    }
   },
   "outputs": [
    {
     "name": "stdout",
     "output_type": "stream",
     "text": [
      "Sorted grades: [60, 67, 68, 73, 76, 77, 78, 82, 83, 84, 85, 88, 88, 89, 91, 91, 92, 94, 95, 97]\n",
      "Highest grade: 97\n",
      "Lowest grade: 60\n"
     ]
    }
   ],
   "source": [
    "public class SortTest {\n",
    "    public static void someSortingAlgorithm(ArrayList<Integer> elements) {\n",
    "        int n = elements.size();\n",
    "        for (int i = 0; i < n - 1; i++) {\n",
    "            int minIndex = i;\n",
    "            for (int j = i + 1; j < n; j++) {\n",
    "                if (elements.get(j) < elements.get(minIndex)) {\n",
    "                    minIndex = j; \n",
    "                }\n",
    "            }\n",
    "            int temp = elements.get(minIndex);\n",
    "            elements.set(minIndex, elements.get(i));\n",
    "            elements.set(i, temp);\n",
    "        }\n",
    "    }\n",
    "\n",
    "    public static void main(String[] args) {\n",
    "        ArrayList<Integer> arr1 = new ArrayList<>();\n",
    "        arr1.add(85);\n",
    "        arr1.add(92);\n",
    "        arr1.add(76);\n",
    "        arr1.add(88);\n",
    "        arr1.add(67);\n",
    "        arr1.add(94);\n",
    "        arr1.add(73);\n",
    "        arr1.add(89);\n",
    "        arr1.add(91);\n",
    "        arr1.add(82);\n",
    "        arr1.add(78);\n",
    "        arr1.add(88);\n",
    "        arr1.add(95);\n",
    "        arr1.add(60);\n",
    "        arr1.add(84);\n",
    "        arr1.add(77);\n",
    "        arr1.add(91);\n",
    "        arr1.add(68);\n",
    "        arr1.add(97);\n",
    "        arr1.add(83);\n",
    "\n",
    "        someSortingAlgorithm(arr1);\n",
    "        System.out.println(\"Sorted grades: \" + arr1);\n",
    "        if (!arr1.isEmpty()) {\n",
    "            System.out.println(\"Highest grade: \" + arr1.get(arr1.size() - 1));\n",
    "            System.out.println(\"Lowest grade: \" + arr1.get(0));\n",
    "        }\n",
    "    }\n",
    "}\n",
    "SortTest.main(null);\n"
   ]
  }
 ],
 "metadata": {
  "kernelspec": {
   "display_name": "java (IJava/j!)",
   "language": "java",
   "name": "jbang-ijava"
  },
  "language_info": {
   "codemirror_mode": "java",
   "file_extension": ".jshell",
   "mimetype": "text/x-java-source",
   "name": "Java",
   "pygments_lexer": "java",
   "version": "17.0.11+7-LTS-207"
  }
 },
 "nbformat": 4,
 "nbformat_minor": 2
}
