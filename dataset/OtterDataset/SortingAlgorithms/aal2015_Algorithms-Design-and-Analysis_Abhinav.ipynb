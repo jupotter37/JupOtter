{
 "cells": [
  {
   "cell_type": "markdown",
   "id": "c064a7ab-4b4e-4276-bf67-c14d5c48a604",
   "metadata": {},
   "source": [
    "# Quickshort Algorithm"
   ]
  },
  {
   "cell_type": "code",
   "execution_count": 1,
   "id": "eda7790e-b250-45b2-8ce5-6c2dd2ed80e6",
   "metadata": {},
   "outputs": [],
   "source": [
    "class QuickshortAlgo:\n",
    "    def partition(self, array, start, end):\n",
    "        pIndex = start\n",
    "        pivot = array[end]\n",
    "        for i in range(start, end):\n",
    "            if array[i] <= pivot:\n",
    "                array[pIndex], array[i] = array[i], array[pIndex]\n",
    "                pIndex += 1\n",
    "        array[pIndex], array[end] = array[end], array[pIndex]\n",
    "        return pIndex\n",
    "    \n",
    "    def quicksort(self, array, start, end):\n",
    "        if start < end:\n",
    "            partitionIndex = self.partition(array, start, end)\n",
    "            self.quicksort(array, start, partitionIndex - 1)\n",
    "            self.quicksort(array, partitionIndex + 1, end)"
   ]
  },
  {
   "cell_type": "code",
   "execution_count": 2,
   "id": "0a1d9cd4-be1c-4613-897e-0208882ddc2c",
   "metadata": {},
   "outputs": [],
   "source": [
    "test_input = [[-2], [1, 2], [1, -5, 4], [2, 1, -5, 4], [9, -5, 8, -1, 4], [-5, 1, 2, 9, -5, 8],[2, -1, 4, -5, 4, 3, -1], [18, 20, -7, 12, -5, -22, 15], [2, 1, -3, 4, -1, 2, 1, -5, 4], [2, -1, 4, -5, 4, 3, -1, -5, 1, 2, 9, -5, 8], [13, -3, -25, 20, -3, -116, -23, 18, 20, -7, 12, -5, -22, 15, -4, 7], \n",
    "              [1, -2, 3, 4, 5, -6, 7, -8, 9, -10, 11, -12, 13, -14, 15, 16, 17, -18, 19, -20], [18, 20, -7, 12, -5, -22, 15, 18, 20, -7, 12, -5, -22, 15, 18, 20, -7, 12, -5, -22, 15], [18, 20, -7, 12, -5, -22, 15, 18, 20, -7, 9, -5, 8, -1, 4, 12, -5, -22, 15, 18, 20, -7, 12, -5, -22, 15],\n",
    "             [1, -2, 3, 4, 5, -6, 7, -8, 9, -10, 11, -12, 13, -14, 15, 16, 17, -18, 19, -20, 18, 20, -7, 12, -5, -22, 15, 18, 20, -7, 12, -5, -22, 15, 18, 20, -7, 12, -5, -22, 15]]"
   ]
  },
  {
   "cell_type": "code",
   "execution_count": 3,
   "id": "0ff59b89-8112-41a3-bbec-280bf13cd5f8",
   "metadata": {},
   "outputs": [],
   "source": [
    "quickShort = QuickshortAlgo()"
   ]
  },
  {
   "cell_type": "code",
   "execution_count": 4,
   "id": "baeb26e6-dae4-4e9c-91e5-be1e25b816b8",
   "metadata": {},
   "outputs": [
    {
     "name": "stdout",
     "output_type": "stream",
     "text": [
      "Original array:  [-2]\n",
      "Sorted array:  [-2]\n",
      "\n",
      "Original array:  [1, 2]\n",
      "Sorted array:  [1, 2]\n",
      "\n",
      "Original array:  [1, -5, 4]\n",
      "Sorted array:  [-5, 1, 4]\n",
      "\n",
      "Original array:  [2, 1, -5, 4]\n",
      "Sorted array:  [-5, 1, 2, 4]\n",
      "\n",
      "Original array:  [9, -5, 8, -1, 4]\n",
      "Sorted array:  [-5, -1, 4, 8, 9]\n",
      "\n",
      "Original array:  [-5, 1, 2, 9, -5, 8]\n",
      "Sorted array:  [-5, -5, 1, 2, 8, 9]\n",
      "\n",
      "Original array:  [2, -1, 4, -5, 4, 3, -1]\n",
      "Sorted array:  [-5, -1, -1, 2, 3, 4, 4]\n",
      "\n",
      "Original array:  [18, 20, -7, 12, -5, -22, 15]\n",
      "Sorted array:  [-22, -7, -5, 12, 15, 18, 20]\n",
      "\n",
      "Original array:  [2, 1, -3, 4, -1, 2, 1, -5, 4]\n",
      "Sorted array:  [-5, -3, -1, 1, 1, 2, 2, 4, 4]\n",
      "\n",
      "Original array:  [2, -1, 4, -5, 4, 3, -1, -5, 1, 2, 9, -5, 8]\n",
      "Sorted array:  [-5, -5, -5, -1, -1, 1, 2, 2, 3, 4, 4, 8, 9]\n",
      "\n",
      "Original array:  [13, -3, -25, 20, -3, -116, -23, 18, 20, -7, 12, -5, -22, 15, -4, 7]\n",
      "Sorted array:  [-116, -25, -23, -22, -7, -5, -4, -3, -3, 7, 12, 13, 15, 18, 20, 20]\n",
      "\n",
      "Original array:  [1, -2, 3, 4, 5, -6, 7, -8, 9, -10, 11, -12, 13, -14, 15, 16, 17, -18, 19, -20]\n",
      "Sorted array:  [-20, -18, -14, -12, -10, -8, -6, -2, 1, 3, 4, 5, 7, 9, 11, 13, 15, 16, 17, 19]\n",
      "\n",
      "Original array:  [18, 20, -7, 12, -5, -22, 15, 18, 20, -7, 12, -5, -22, 15, 18, 20, -7, 12, -5, -22, 15]\n",
      "Sorted array:  [-22, -22, -22, -7, -7, -7, -5, -5, -5, 12, 12, 12, 15, 15, 15, 18, 18, 18, 20, 20, 20]\n",
      "\n",
      "Original array:  [18, 20, -7, 12, -5, -22, 15, 18, 20, -7, 9, -5, 8, -1, 4, 12, -5, -22, 15, 18, 20, -7, 12, -5, -22, 15]\n",
      "Sorted array:  [-22, -22, -22, -7, -7, -7, -5, -5, -5, -5, -1, 4, 8, 9, 12, 12, 12, 15, 15, 15, 18, 18, 18, 20, 20, 20]\n",
      "\n",
      "Original array:  [1, -2, 3, 4, 5, -6, 7, -8, 9, -10, 11, -12, 13, -14, 15, 16, 17, -18, 19, -20, 18, 20, -7, 12, -5, -22, 15, 18, 20, -7, 12, -5, -22, 15, 18, 20, -7, 12, -5, -22, 15]\n",
      "Sorted array:  [-22, -22, -22, -20, -18, -14, -12, -10, -8, -7, -7, -7, -6, -5, -5, -5, -2, 1, 3, 4, 5, 7, 9, 11, 12, 12, 12, 13, 15, 15, 15, 15, 16, 17, 18, 18, 18, 19, 20, 20, 20]\n",
      "\n"
     ]
    }
   ],
   "source": [
    "for Input in test_input:\n",
    "    print(\"Original array: \", Input)\n",
    "    quickShort.quicksort(Input, 0, len(Input) - 1)\n",
    "    print(\"Sorted array: \", Input, end=\"\\n\\n\")"
   ]
  },
  {
   "cell_type": "markdown",
   "id": "05bad90e-c780-4a2e-946a-da30e8570a64",
   "metadata": {},
   "source": [
    "## Comparision of Time Complexity of Quicksort Algorithm Against Θ(n log n)"
   ]
  },
  {
   "cell_type": "code",
   "execution_count": 5,
   "id": "f710fd06-38c1-43f1-bf33-6b3291ed5e9d",
   "metadata": {},
   "outputs": [],
   "source": [
    "class QuickshortAlgoStep:\n",
    "    def __init__(self,):\n",
    "        self.step = 0\n",
    "        \n",
    "    def partition(self, array, start, end):\n",
    "        pIndex = start\n",
    "        pivot = array[end]\n",
    "        self.step += 2 # variable initialization\n",
    "        \n",
    "        for i in range(start, end):\n",
    "            if array[i] <= pivot:\n",
    "                array[pIndex], array[i] = array[i], array[pIndex]\n",
    "                pIndex += 1\n",
    "                self.step += 3 # variable assignment and increament\n",
    "                \n",
    "            self.step += 2 # step for comparision condition ('for' and 'if')\n",
    "        self.step += 1 # step for running range\n",
    "        \n",
    "        array[pIndex], array[end] = array[end], array[pIndex]\n",
    "        return pIndex\n",
    "    \n",
    "    def quicksort(self, array, start, end):\n",
    "        if start < end:\n",
    "            partitionIndex = self.partition(array, start, end)\n",
    "            self.step += 1 # variable initialization\n",
    "            self.quicksort(array, start, partitionIndex - 1)\n",
    "            self.quicksort(array, partitionIndex + 1, end)\n",
    "        self.step += 1 # step for comparision condition"
   ]
  },
  {
   "cell_type": "code",
   "execution_count": 6,
   "id": "e53c866a-c2bf-416d-87ae-96198341f86e",
   "metadata": {},
   "outputs": [],
   "source": [
    "test_input = [[-2], [1, 2], [1, -5, 4], [2, 1, -5, 4], [9, -5, 8, -1, 4], [-5, 1, 2, 9, -5, 8],[2, -1, 4, -5, 4, 3, -1], [18, 20, -7, 12, -5, -22, 15], [2, 1, -3, 4, -1, 2, 1, -5, 4], [2, -1, 4, -5, 4, 3, -1, -5, 1, 2, 9, -5, 8], [13, -3, -25, 20, -3, -116, -23, 18, 20, -7, 12, -5, -22, 15, -4, 7], \n",
    "              [1, -2, 3, 4, 5, -6, 7, -8, 9, -10, 11, -12, 13, -14, 15, 16, 17, -18, 19, -20], [18, 20, -7, 12, -5, -22, 15, 18, 20, -7, 12, -5, -22, 15, 18, 20, -7, 12, -5, -22, 15], [18, 20, -7, 12, -5, -22, 15, 18, 20, -7, 9, -5, 8, -1, 4, 12, -5, -22, 15, 18, 20, -7, 12, -5, -22, 15],\n",
    "             [1, -2, 3, 4, 5, -6, 7, -8, 9, -10, 11, -12, 13, -14, 15, 16, 17, -18, 19, -20, 18, 20, -7, 12, -5, -22, 15, 18, 20, -7, 12, -5, -22, 15, 18, 20, -7, 12, -5, -22, 15]]"
   ]
  },
  {
   "cell_type": "code",
   "execution_count": 7,
   "id": "a4d8116b-37a2-48d5-bfea-e577eaa88100",
   "metadata": {},
   "outputs": [],
   "source": [
    "inputSize = []\n",
    "quickSortTotalNoOfSteps = []"
   ]
  },
  {
   "cell_type": "code",
   "execution_count": 8,
   "id": "cd99fdb9-c125-4a42-9294-449d026bcc03",
   "metadata": {},
   "outputs": [],
   "source": [
    "for Input in test_input:\n",
    "    quickShort = QuickshortAlgoStep()\n",
    "    quickShort.quicksort(Input, 0, len(Input) - 1)\n",
    "    inputSize.append(len(Input))\n",
    "    quickSortTotalNoOfSteps.append(quickShort.step)"
   ]
  },
  {
   "cell_type": "code",
   "execution_count": 9,
   "id": "4b548683-6eb8-4a0c-90cd-fa42fb95790b",
   "metadata": {},
   "outputs": [
    {
     "data": {
      "text/plain": [
       "[1, 12, 25, 43, 40, 52, 67, 72, 136, 215, 258, 320, 336, 476, 961]"
      ]
     },
     "execution_count": 9,
     "metadata": {},
     "output_type": "execute_result"
    }
   ],
   "source": [
    "quickSortTotalNoOfSteps"
   ]
  },
  {
   "cell_type": "code",
   "execution_count": 10,
   "id": "8129e258-158e-4599-a161-e574525b6978",
   "metadata": {},
   "outputs": [],
   "source": [
    "import matplotlib.pyplot as plt\n",
    "import numpy as np"
   ]
  },
  {
   "cell_type": "code",
   "execution_count": 11,
   "id": "2363b6f7-c791-4242-9852-35f5dc3c86ea",
   "metadata": {},
   "outputs": [
    {
     "data": {
      "text/plain": [
       "41"
      ]
     },
     "execution_count": 11,
     "metadata": {},
     "output_type": "execute_result"
    }
   ],
   "source": [
    "max(inputSize)"
   ]
  },
  {
   "cell_type": "code",
   "execution_count": 12,
   "id": "ef4cf782-d270-4c7a-91a0-c8a9c7129171",
   "metadata": {},
   "outputs": [],
   "source": [
    "inputSizeTheoretical = []\n",
    "totalNumberOfStepsTheoretical = []\n",
    "\n",
    "maxInputSize = max(inputSize)\n",
    "for i in range(1, maxInputSize):\n",
    "    inputSizeTheoretical.append(i)\n",
    "    totalNumberOfStepsTheoretical.append(i*np.log(i))\n",
    "    \n",
    "totalNumberOfStepsTheoretical = np.array(totalNumberOfStepsTheoretical)"
   ]
  },
  {
   "cell_type": "code",
   "execution_count": 13,
   "id": "fb5378b8-92ed-42bf-b66e-79ff932cd739",
   "metadata": {},
   "outputs": [
    {
     "data": {
      "image/png": "[encoded data removed]",
      "text/plain": [
       "<Figure size 432x288 with 1 Axes>"
      ]
     },
     "metadata": {
      "needs_background": "light"
     },
     "output_type": "display_data"
    }
   ],
   "source": [
    "plt.plot(inputSize, quickSortTotalNoOfSteps)\n",
    "plt.plot(inputSizeTheoretical, 7*totalNumberOfStepsTheoretical)\n",
    "plt.xlabel(\"Input Size\")\n",
    "plt.ylabel(\"Total Number of Operations/Steps\")\n",
    "plt.legend(['Time Complexity of Quickshort Algorithm', 'Theoretical Time Complexity'])\n",
    "plt.show()\n"
   ]
  },
  {
   "cell_type": "code",
   "execution_count": null,
   "id": "6c3b54c9-a3a0-48ea-9e1d-b4e107e5ea2f",
   "metadata": {},
   "outputs": [],
   "source": []
  },
  {
   "cell_type": "markdown",
   "id": "83554877-2b2a-4cde-8735-c271521b77f5",
   "metadata": {},
   "source": [
    "# Optional Challenge"
   ]
  },
  {
   "cell_type": "markdown",
   "id": "02efa634-e8a8-4251-b7bd-027ab4005c4d",
   "metadata": {},
   "source": [
    "<b>Direction: Try to use timeit to physically time which one is faster, quicksort, mergesort heapsort, when n=10, 100, 1000</b>"
   ]
  },
  {
   "cell_type": "markdown",
   "id": "573a97e6-ce15-4ae8-91fa-e4a9a061913e",
   "metadata": {},
   "source": [
    "### Quicksort Algorithm"
   ]
  },
  {
   "cell_type": "code",
   "execution_count": 14,
   "id": "c59ca059-1277-4a14-b8f5-e107d4a8b72a",
   "metadata": {},
   "outputs": [],
   "source": [
    "quickSortClassCode = '''\n",
    "class QuickshortAlgo:\n",
    "    def partition(self, array, start, end):\n",
    "        pIndex = start\n",
    "        pivot = array[end]\n",
    "        for i in range(start, end):\n",
    "            if array[i] <= pivot:\n",
    "                array[pIndex], array[i] = array[i], array[pIndex]\n",
    "                pIndex += 1\n",
    "        array[pIndex], array[end] = array[end], array[pIndex]\n",
    "        return pIndex\n",
    "    \n",
    "    def quicksort(self, array, start, end):\n",
    "        if start < end:\n",
    "            partitionIndex = self.partition(array, start, end)\n",
    "            self.quicksort(array, start, partitionIndex - 1)\n",
    "            self.quicksort(array, partitionIndex + 1, end)\n",
    "'''\n",
    "\n",
    "quickSortRunCode = '''\n",
    "quickShort = QuickshortAlgo()\n",
    "quickShort.quicksort(Input, 0, len(Input) - 1)\n",
    "'''"
   ]
  },
  {
   "cell_type": "markdown",
   "id": "a2bd0f45-78ec-42bb-b438-23ef5aaecde7",
   "metadata": {},
   "source": [
    "### Merge Sort Algorithm"
   ]
  },
  {
   "cell_type": "code",
   "execution_count": 15,
   "id": "e2cb5902-22ae-43f6-bbb6-6524d05f7ba9",
   "metadata": {},
   "outputs": [],
   "source": [
    "mergesortClassCode = '''\n",
    "\n",
    "class MergeSort():\n",
    "    def merge(self, array, left, mid, right):\n",
    "        arrayL = [None] * (mid - left + 1)\n",
    "        arrayR = [None] * (right - mid)\n",
    "        \n",
    "        for i in range(left, mid + 1):\n",
    "            arrayL[i - left] =  array[i]\n",
    "        for i in range(mid + 1, right + 1):\n",
    "            arrayR[i - mid - 1] = array[i]\n",
    "        \n",
    "        L, R = 0, 0\n",
    "        A = left\n",
    "        \n",
    "        while (L < len(arrayL)) and (R < len(arrayR)):\n",
    "            if arrayL[L] < arrayR[R]:\n",
    "                array[A] = arrayL[L]\n",
    "                L += 1\n",
    "            else:\n",
    "                array[A] = arrayR[R]\n",
    "                R += 1\n",
    "            A += 1\n",
    "            \n",
    "            \n",
    "        while L < len(arrayL):\n",
    "            array[A] = arrayL[L]\n",
    "            L += 1\n",
    "            A += 1\n",
    "        \n",
    "        while R < len(arrayR):\n",
    "            array[A] = arrayR[R]\n",
    "            R += 1\n",
    "            A += 1\n",
    "        \n",
    "    def mergeSort(self, array, left, right):\n",
    "        if left == right:\n",
    "            return\n",
    "        size = left + right\n",
    "        mid = int(size / 2)\n",
    "        self.mergeSort(array, left, mid)\n",
    "        self.mergeSort(array, mid+1, right)\n",
    "        self.merge(array, left, mid, right)\n",
    "'''\n",
    "        \n",
    "mergeSortRunCode = '''\n",
    "mergeSortAlgo = MergeSort()\n",
    "mergeSortAlgo.mergeSort(Input, 0, len(Input) - 1)\n",
    "'''\n"
   ]
  },
  {
   "cell_type": "markdown",
   "id": "b200c4a0-a4c1-40dc-a4a2-667806579ea7",
   "metadata": {},
   "source": [
    "### Heapsort Algorithm"
   ]
  },
  {
   "cell_type": "code",
   "execution_count": 16,
   "id": "8e5c526b-fbc2-4ab0-8156-353372a716e0",
   "metadata": {},
   "outputs": [],
   "source": [
    "heapsortClassCode = '''\n",
    "class HeapsortAlgo:\n",
    "    def max_heapify(self, array, parent, heapSize):\n",
    "        Lchild = 2 * parent + 1 \n",
    "        Rchild = 2 * parent + 2\n",
    "        largest = parent\n",
    "        \n",
    "        if Lchild < heapSize and array[parent] < array[Lchild]:\n",
    "            largest = Lchild\n",
    "        if Rchild < heapSize and array[largest] < array[Rchild]:\n",
    "            largest = Rchild\n",
    "        \n",
    "        if largest != parent:\n",
    "            array[parent], array[largest] = array[largest], array[parent]\n",
    "            self.max_heapify(array, largest, heapSize)\n",
    "    \n",
    "    def build_max_heap(self, array, heapSize):\n",
    "        rightMostInternalNode = heapSize // 2\n",
    "        for i in reversed(range(rightMostInternalNode)):\n",
    "            self.max_heapify(array, i, heapSize)\n",
    "    \n",
    "    def heapSort(self, array):\n",
    "        heapSize = len(array)\n",
    "        self.build_max_heap(array, heapSize)\n",
    "        for i in reversed(range(1, heapSize)):\n",
    "            array[0], array[i] = array[i], array[0]\n",
    "            self.max_heapify(array, 0, i)\n",
    "'''\n",
    "\n",
    "heapsortRunCode = '''\n",
    "heapSortAlgo = HeapsortAlgo()\n",
    "heapSortAlgo.heapSort(Input)\n",
    "'''\n",
    "\n"
   ]
  },
  {
   "cell_type": "code",
   "execution_count": 17,
   "id": "85c42620-0cf7-4e94-ab2b-97a0214255d3",
   "metadata": {},
   "outputs": [],
   "source": [
    "setup = '''\n",
    "import numpy as np\n",
    "'''"
   ]
  },
  {
   "cell_type": "code",
   "execution_count": null,
   "id": "76b01193-4c10-418c-b832-a649683bad78",
   "metadata": {},
   "outputs": [],
   "source": []
  },
  {
   "cell_type": "markdown",
   "id": "87b0ec66-7576-4b92-81e6-f764c8c07a7e",
   "metadata": {},
   "source": [
    "### n=10"
   ]
  },
  {
   "cell_type": "code",
   "execution_count": 18,
   "id": "4eea2308-3d70-46fe-8ecc-2b0c8b2b694a",
   "metadata": {},
   "outputs": [],
   "source": [
    "import timeit"
   ]
  },
  {
   "cell_type": "code",
   "execution_count": 19,
   "id": "15f1e93e-b8c3-40d3-96c0-29538bb8f190",
   "metadata": {},
   "outputs": [],
   "source": [
    "inputCode = '''\n",
    "Input = [66, 81,  5,  9, 38, 83, 49, 80, 37, 27]\n",
    "'''"
   ]
  },
  {
   "cell_type": "code",
   "execution_count": 20,
   "id": "7dfc944e-223c-45b9-8ca5-fc755eaddc98",
   "metadata": {},
   "outputs": [
    {
     "name": "stdout",
     "output_type": "stream",
     "text": [
      "-------------- Iteration:  1  --------------\n",
      "Running time of Quicksort Algorithm:  0.0865310999999993\n",
      "Running time of Merge Sort Algorithm:  0.2297956000000001\n",
      "Running time of HeapSort Algorithm:  0.1454240999999996\n",
      "-------------- Iteration:  2  --------------\n",
      "Running time of Quicksort Algorithm:  0.08705880000000032\n",
      "Running time of Merge Sort Algorithm:  0.24808070000000004\n",
      "Running time of HeapSort Algorithm:  0.16481799999999946\n",
      "-------------- Iteration:  3  --------------\n",
      "Running time of Quicksort Algorithm:  0.09822289999999967\n",
      "Running time of Merge Sort Algorithm:  0.2570195000000002\n",
      "Running time of HeapSort Algorithm:  0.16556299999999968\n",
      "-------------- Iteration:  4  --------------\n",
      "Running time of Quicksort Algorithm:  0.10094439999999949\n",
      "Running time of Merge Sort Algorithm:  0.24956359999999922\n",
      "Running time of HeapSort Algorithm:  0.16129459999999973\n",
      "-------------- Iteration:  5  --------------\n",
      "Running time of Quicksort Algorithm:  0.08925089999999969\n",
      "Running time of Merge Sort Algorithm:  0.23444800000000043\n",
      "Running time of HeapSort Algorithm:  0.16989609999999988\n"
     ]
    }
   ],
   "source": [
    "for i in range(1, 6):\n",
    "    print(\"-------------- Iteration: \", i, \" --------------\")\n",
    "    print(\"Running time of Quicksort Algorithm: \", timeit.timeit(quickSortClassCode + inputCode + quickSortRunCode, number=10000))\n",
    "    print(\"Running time of Merge Sort Algorithm: \", timeit.timeit(mergesortClassCode + inputCode + mergeSortRunCode, number=10000))\n",
    "    print(\"Running time of HeapSort Algorithm: \", timeit.timeit(heapsortClassCode + inputCode + heapsortRunCode, number=10000))"
   ]
  },
  {
   "cell_type": "markdown",
   "id": "604e2fb5-8ade-42ce-a768-e9f59da2ed15",
   "metadata": {},
   "source": [
    "#### Observation\n",
    "Quicksort algorithm ran faster than other two sorting algorithms for the input size of 10."
   ]
  },
  {
   "cell_type": "code",
   "execution_count": null,
   "id": "7b943adf-94a0-4209-b083-f8fd979f3f0f",
   "metadata": {},
   "outputs": [],
   "source": []
  },
  {
   "cell_type": "markdown",
   "id": "749b92d0-8d33-402b-aa1a-3d7d9e2733c9",
   "metadata": {},
   "source": [
    "### n=100"
   ]
  },
  {
   "cell_type": "code",
   "execution_count": 21,
   "id": "cc667ac3-ee4c-48de-b53e-4ea005b6ff13",
   "metadata": {},
   "outputs": [],
   "source": [
    "inputCode = '''\n",
    "Input = np.random.randint(100, size=100)\n",
    "'''"
   ]
  },
  {
   "cell_type": "code",
   "execution_count": 22,
   "id": "5e237229-907d-40d5-b345-7375b362cecc",
   "metadata": {},
   "outputs": [
    {
     "name": "stdout",
     "output_type": "stream",
     "text": [
      "-------------- Iteration:  1  --------------\n",
      "Running time of Quicksort Algorithm:  2.252470399999999\n",
      "Running time of Merge Sort Algorithm:  4.322626700000001\n",
      "Running time of HeapSort Algorithm:  5.0695941\n",
      "-------------- Iteration:  2  --------------\n",
      "Running time of Quicksort Algorithm:  2.3074787999999984\n",
      "Running time of Merge Sort Algorithm:  3.644866799999999\n",
      "Running time of HeapSort Algorithm:  5.916362200000002\n",
      "-------------- Iteration:  3  --------------\n",
      "Running time of Quicksort Algorithm:  3.2586542000000023\n",
      "Running time of Merge Sort Algorithm:  3.775274699999997\n",
      "Running time of HeapSort Algorithm:  4.428623800000004\n",
      "-------------- Iteration:  4  --------------\n",
      "Running time of Quicksort Algorithm:  2.222020399999998\n",
      "Running time of Merge Sort Algorithm:  3.7926082999999977\n",
      "Running time of HeapSort Algorithm:  4.511606199999996\n",
      "-------------- Iteration:  5  --------------\n",
      "Running time of Quicksort Algorithm:  2.2293166999999983\n",
      "Running time of Merge Sort Algorithm:  3.606663399999995\n",
      "Running time of HeapSort Algorithm:  4.491235499999995\n"
     ]
    }
   ],
   "source": [
    "for i in range(1, 6):\n",
    "    print(\"-------------- Iteration: \", i, \" --------------\")\n",
    "    print(\"Running time of Quicksort Algorithm: \", timeit.timeit(quickSortClassCode + inputCode + quickSortRunCode, setup=setup, number=10000))\n",
    "    print(\"Running time of Merge Sort Algorithm: \", timeit.timeit(mergesortClassCode + inputCode + mergeSortRunCode, setup=setup, number=10000))\n",
    "    print(\"Running time of HeapSort Algorithm: \", timeit.timeit(heapsortClassCode + inputCode + heapsortRunCode, setup=setup, number=10000))"
   ]
  },
  {
   "cell_type": "markdown",
   "id": "e2cdbfdc-b8b8-4373-a849-565b3026a230",
   "metadata": {},
   "source": [
    "#### Observation\n",
    "Quicksort algorithm ran faster than other two sorting algorithms for the input size of 100."
   ]
  },
  {
   "cell_type": "markdown",
   "id": "4d9be1a2-c4e9-4da7-9e59-a0d1da545844",
   "metadata": {},
   "source": [
    "### n=1000"
   ]
  },
  {
   "cell_type": "code",
   "execution_count": 23,
   "id": "1702065d-1197-47eb-921b-557e9f693095",
   "metadata": {},
   "outputs": [],
   "source": [
    "inputCode = '''\n",
    "Input = np.random.randint(1000, size=1000)\n",
    "'''"
   ]
  },
  {
   "cell_type": "code",
   "execution_count": 24,
   "id": "282ac544-58ff-448e-ab5f-8047576bb36a",
   "metadata": {},
   "outputs": [
    {
     "name": "stdout",
     "output_type": "stream",
     "text": [
      "-------------- Iteration:  1  --------------\n",
      "Running time of Quicksort Algorithm:  30.208940799999993\n",
      "Running time of Merge Sort Algorithm:  47.3592038\n",
      "Running time of HeapSort Algorithm:  69.0205986\n",
      "-------------- Iteration:  2  --------------\n",
      "Running time of Quicksort Algorithm:  30.175173600000022\n",
      "Running time of Merge Sort Algorithm:  48.1723518\n",
      "Running time of HeapSort Algorithm:  72.00834100000003\n",
      "-------------- Iteration:  3  --------------\n",
      "Running time of Quicksort Algorithm:  29.8474923\n",
      "Running time of Merge Sort Algorithm:  46.93591909999998\n",
      "Running time of HeapSort Algorithm:  67.65927170000003\n",
      "-------------- Iteration:  4  --------------\n",
      "Running time of Quicksort Algorithm:  29.299477199999956\n",
      "Running time of Merge Sort Algorithm:  47.454889399999956\n",
      "Running time of HeapSort Algorithm:  65.6390983\n",
      "-------------- Iteration:  5  --------------\n",
      "Running time of Quicksort Algorithm:  28.90435339999999\n",
      "Running time of Merge Sort Algorithm:  46.337760199999934\n",
      "Running time of HeapSort Algorithm:  65.4149046\n"
     ]
    }
   ],
   "source": [
    "for i in range(1, 6):\n",
    "    print(\"-------------- Iteration: \", i, \" --------------\")\n",
    "    print(\"Running time of Quicksort Algorithm: \", timeit.timeit(quickSortClassCode + inputCode + quickSortRunCode, setup=setup, number=10000))\n",
    "    print(\"Running time of Merge Sort Algorithm: \", timeit.timeit(mergesortClassCode + inputCode + mergeSortRunCode, setup=setup, number=10000))\n",
    "    print(\"Running time of HeapSort Algorithm: \", timeit.timeit(heapsortClassCode + inputCode + heapsortRunCode, setup=setup, number=10000))"
   ]
  },
  {
   "cell_type": "markdown",
   "id": "85a0ceff-1f1d-47cb-8cf4-c9a73b19375d",
   "metadata": {},
   "source": [
    "#### Observation\n",
    "Quicksort algorithm ran faster than other two sorting algorithms."
   ]
  },
  {
   "cell_type": "code",
   "execution_count": null,
   "id": "a0d09ac4-4083-4550-8dfb-e1a65644d249",
   "metadata": {},
   "outputs": [],
   "source": []
  },
  {
   "cell_type": "markdown",
   "id": "a5540df9-7575-45b4-b880-7cc8dbc228f2",
   "metadata": {},
   "source": [
    "### Conclusion"
   ]
  },
  {
   "cell_type": "markdown",
   "id": "d6cc15ae-bc9c-4965-99ee-68177fc4d8e7",
   "metadata": {},
   "source": [
    "For the input size of 10, 100, and 1000, quicksort gave the fastest result. It is interesting to note that for the input size of 10, heapsort ran faster than mergesort while for the input size of 100 and 1000, mergesort ran faster. This would suggest that heapsort tends to be faster than mergesort for smaller inputs but eventually gets slower as input size increases."
   ]
  },
  {
   "cell_type": "code",
   "execution_count": null,
   "id": "399295c3-0c76-46e9-b6a1-46194bdecd71",
   "metadata": {},
   "outputs": [],
   "source": []
  }
 ],
 "metadata": {
  "kernelspec": {
   "display_name": "Python 3 (ipykernel)",
   "language": "python",
   "name": "python3"
  },
  "language_info": {
   "codemirror_mode": {
    "name": "ipython",
    "version": 3
   },
   "file_extension": ".py",
   "mimetype": "text/x-python",
   "name": "python",
   "nbconvert_exporter": "python",
   "pygments_lexer": "ipython3",
   "version": "3.9.12"
  }
 },
 "nbformat": 4,
 "nbformat_minor": 5
}
