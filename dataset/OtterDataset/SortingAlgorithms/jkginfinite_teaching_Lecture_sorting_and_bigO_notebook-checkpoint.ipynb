{
 "cells": [
  {
   "cell_type": "markdown",
   "id": "a05296e9",
   "metadata": {},
   "source": [
    "# Advanced Programming for AI\n",
    "# Lecture 5 Notebook: Sorting algorithms & Big O Notation\n",
    "\n",
    "# Example 1: Default sorting processes"
   ]
  },
  {
   "cell_type": "code",
   "execution_count": 52,
   "id": "e612b02c",
   "metadata": {},
   "outputs": [
    {
     "name": "stdout",
     "output_type": "stream",
     "text": [
      "Unsorted:  ['x', 'b', 'r', 'q']\n",
      "Sorted:  ['b', 'q', 'r', 'x'] \n",
      "\n",
      "Unsorted:  [7, 2, 4, 8]\n",
      "Sorted:  [2, 4, 7, 8]\n"
     ]
    }
   ],
   "source": [
    "unsorted_string_list = ['x', 'b', 'r', 'q']\n",
    "sorted_string_list = sorted(unsorted_string_list)\n",
    "\n",
    "unsorted_numbers = [7,2,4,8]\n",
    "sorted_numbers = sorted(unsorted_numbers)\n",
    "\n",
    "print('Unsorted: ',unsorted_string_list)\n",
    "print('Sorted: ',sorted_string_list,'\\n')\n",
    "\n",
    "print('Unsorted: ',unsorted_numbers)\n",
    "print('Sorted: ',sorted_numbers)"
   ]
  },
  {
   "cell_type": "markdown",
   "id": "41a7baa5",
   "metadata": {},
   "source": [
    "# Use this function to demonstrate how sorting processes information"
   ]
  },
  {
   "cell_type": "code",
   "execution_count": 12,
   "id": "04bed474",
   "metadata": {},
   "outputs": [],
   "source": [
    "def demo_sort(data,pass_number,index):\n",
    "    label = f'{pass_number}: '\n",
    "    print(label,end='')\n",
    "    print('  '.join(str(d) for d in data[:index]), end='  ' if index!=0 else '')\n",
    "    print(f'{data[index]}* ',end='')\n",
    "    print('  '.join(str(d) for d in data[index+1:len(data)]))\n",
    "    print(f'{\" \"*len(label)}{\"==  \"*pass_number}')"
   ]
  },
  {
   "cell_type": "markdown",
   "id": "7cb5e13b",
   "metadata": {},
   "source": [
    "# Example 2: Selection Sort"
   ]
  },
  {
   "cell_type": "code",
   "execution_count": 39,
   "id": "43571919",
   "metadata": {},
   "outputs": [
    {
     "name": "stdout",
     "output_type": "stream",
     "text": [
      "1: 25* 90  73  65  33\n",
      "   ==  \n",
      "2: 25  33  73  65  90* \n",
      "   ==  ==  \n",
      "3: 25  33  65  73* 90\n",
      "   ==  ==  ==  \n",
      "4: 25  33  65  73* 90\n",
      "   ==  ==  ==  ==  \n"
     ]
    },
    {
     "data": {
      "text/plain": [
       "[25, 33, 65, 73, 90]"
      ]
     },
     "execution_count": 39,
     "metadata": {},
     "output_type": "execute_result"
    }
   ],
   "source": [
    "def selection_sort(data,printing):\n",
    "    for index1 in range(len(data)-1):\n",
    "        smallest = index1\n",
    "        for index2 in range(index1+1,len(data)):\n",
    "            if data[index2]<data[smallest]:\n",
    "                smallest = index2\n",
    "        data[smallest],data[index1] = data[index1],data[smallest]\n",
    "        if printing:\n",
    "            demo_sort(data,index1+1,smallest)\n",
    "    return data\n",
    "\n",
    "data = [25,90,73,65,33]\n",
    "\n",
    "selection_sort(data,printing=True)"
   ]
  },
  {
   "cell_type": "markdown",
   "id": "a1177a6d",
   "metadata": {},
   "source": [
    "# Example 3: Insertion Sort"
   ]
  },
  {
   "cell_type": "code",
   "execution_count": 41,
   "id": "0c1033d2",
   "metadata": {},
   "outputs": [
    {
     "name": "stdout",
     "output_type": "stream",
     "text": [
      "1: 25  90* 73  65  33\n",
      "   ==  \n",
      "2: 25  73* 90  65  33\n",
      "   ==  ==  \n",
      "3: 25  65* 73  90  33\n",
      "   ==  ==  ==  \n",
      "4: 25  33* 65  73  90\n",
      "   ==  ==  ==  ==  \n"
     ]
    },
    {
     "data": {
      "text/plain": [
       "[25, 33, 65, 73, 90]"
      ]
     },
     "execution_count": 41,
     "metadata": {},
     "output_type": "execute_result"
    }
   ],
   "source": [
    "def insertion_sort(data,printing):\n",
    "    for Next in range(1,len(data)):\n",
    "        insert = data[Next]\n",
    "        move_item = Next\n",
    "        while move_item>0 and data[move_item-1]>insert:\n",
    "            data[move_item] = data[move_item - 1]\n",
    "            move_item -=1\n",
    "        data[move_item] = insert\n",
    "        if printing:\n",
    "            demo_sort(data,Next,move_item)\n",
    "    return data\n",
    "\n",
    "data = [25,90,73,65,33]\n",
    "\n",
    "insertion_sort(data,printing=True)"
   ]
  },
  {
   "cell_type": "markdown",
   "id": "d58737f3",
   "metadata": {},
   "source": [
    "# Example 4: Merge Sort"
   ]
  },
  {
   "cell_type": "code",
   "execution_count": 59,
   "id": "0a22b147",
   "metadata": {},
   "outputs": [
    {
     "name": "stdout",
     "output_type": "stream",
     "text": [
      "[12, 11, 13, 5, 6, 7]\n",
      "Left [12, 11, 13]     Right [5, 6, 7] \n",
      "\n",
      "[12, 11, 13]\n",
      "Left [12]     Right [11, 13] \n",
      "\n",
      "[11, 13]\n",
      "Left [11]     Right [13] \n",
      "\n",
      "[5, 6, 7]\n",
      "Left [5]     Right [6, 7] \n",
      "\n",
      "[6, 7]\n",
      "Left [6]     Right [7] \n",
      "\n",
      "Sorted array is: \n"
     ]
    },
    {
     "data": {
      "text/plain": [
       "[5, 6, 7, 11, 12, 13]"
      ]
     },
     "execution_count": 59,
     "metadata": {},
     "output_type": "execute_result"
    }
   ],
   "source": [
    "# Python program for implementation of MergeSort\n",
    "def mergeSort(arr):\n",
    "    if len(arr) > 1:\n",
    "        mid = len(arr)//2\n",
    "        # Use the mid point to divide the array into left and right halves\n",
    "        L = arr[:mid]\n",
    "        R = arr[mid:]\n",
    "        # Sorting each half seperately and recursively\n",
    "        print(arr)\n",
    "        print('Left', L,'   ','Right',R,'\\n')\n",
    "        mergeSort(L)\n",
    "        mergeSort(R)\n",
    "        i = j = k = 0\n",
    "        # Copy data to temp arrays L[] and R[]\n",
    "        while i < len(L) and j < len(R):\n",
    "            if L[i] < R[j]:\n",
    "                arr[k] = L[i]\n",
    "                i += 1\n",
    "            else:\n",
    "                arr[k] = R[j]\n",
    "                j += 1\n",
    "            #print('arr', arr)\n",
    "            k += 1\n",
    "            \n",
    "        while i < len(L):\n",
    "            arr[k] = L[i]\n",
    "            i += 1\n",
    "            k += 1\n",
    "        while j < len(R):\n",
    "            arr[k] = R[j]\n",
    "            j += 1\n",
    "            k += 1\n",
    "    return arr\n",
    "\n",
    "arr = [12, 11, 13, 5, 6, 7]\n",
    "v=mergeSort(arr)\n",
    "print(\"Sorted array is: \", end=\"\\n\")\n",
    "v"
   ]
  },
  {
   "cell_type": "markdown",
   "id": "f61341f5",
   "metadata": {},
   "source": [
    "# Example 5: A different way of coding merge sort"
   ]
  },
  {
   "cell_type": "code",
   "execution_count": 60,
   "id": "e0416b00",
   "metadata": {},
   "outputs": [
    {
     "name": "stdout",
     "output_type": "stream",
     "text": [
      "Original:  [12, 11, 13, 5, 6, 7]\n",
      "Merge sorted:  [5, 6, 7, 11, 12, 13]\n"
     ]
    }
   ],
   "source": [
    "def merge(left, right):\n",
    "    \"\"\"Merge sort merging function.\"\"\"\n",
    "    left_index, right_index = 0, 0\n",
    "    result = []\n",
    "    while left_index < len(left) and right_index < len(right):\n",
    "        if left[left_index] < right[right_index]:\n",
    "            result.append(left[left_index])\n",
    "            left_index += 1\n",
    "        else:\n",
    "            result.append(right[right_index])\n",
    "            right_index += 1\n",
    "\n",
    "    result += left[left_index:]\n",
    "    result += right[right_index:]\n",
    "    return result\n",
    "\n",
    "\n",
    "def merge_sort(array):\n",
    "    \"\"\"Merge sort algorithm implementation.\"\"\"\n",
    "    if len(array) <= 1:  # base case\n",
    "        return array\n",
    "    # divide array in half and merge sort recursively\n",
    "    half = len(array) // 2\n",
    "    left = merge_sort(array[:half])\n",
    "    right = merge_sort(array[half:])\n",
    "    return merge(left, right)\n",
    "\n",
    "print('Original: ',[12, 11, 13, 5, 6, 7])\n",
    "print('Merge sorted: ',merge_sort(arr))"
   ]
  },
  {
   "cell_type": "markdown",
   "id": "c63d54e7",
   "metadata": {},
   "source": [
    "# Example 6: Quick Sort\n",
    "\n",
    "Another 'divide and conqour' algorithm with recursive attributes\n"
   ]
  },
  {
   "cell_type": "code",
   "execution_count": 62,
   "id": "c6abdf3b",
   "metadata": {},
   "outputs": [
    {
     "name": "stdout",
     "output_type": "stream",
     "text": [
      "Original:  [12, 11, 13, 5, 6, 7]\n",
      "First part:  [12]  Second part:  [13]\n",
      "First part:  [11]  Second part:  [12, 13]\n",
      "First part:  [7]  Second part:  [11, 12, 13]\n",
      "First part:  [6]  Second part:  [7, 11, 12, 13]\n",
      "First part:  [5]  Second part:  [6, 7, 11, 12, 13]\n",
      "quick sorted:  [5, 6, 7, 11, 12, 13]\n"
     ]
    }
   ],
   "source": [
    "def quick_sort(s,printing):\n",
    "    if len(s) == 1 or len(s) == 0:\n",
    "        return s\n",
    "    else:\n",
    "        pivot = s[0]\n",
    "        i = 0\n",
    "        for j in range(len(s)-1):\n",
    "            if s[j+1] < pivot:\n",
    "                s[j+1],s[i+1] = s[i+1],s[j+1]\n",
    "                i += 1\n",
    "        s[0],s[i] = s[i],s[0]\n",
    "        first_part = quick_sort(s[:i],printing)\n",
    "        second_part = quick_sort(s[i+1:],printing)\n",
    "        first_part.append(s[i])\n",
    "        if printing:\n",
    "            print('First part: ',first_part,' Second part: ',second_part)\n",
    "        return first_part + second_part\n",
    "print('Original: ',[12, 11, 13, 5, 6, 7])\n",
    "print('quick sorted: ',quick_sort(arr,printing=True))"
   ]
  },
  {
   "cell_type": "markdown",
   "id": "d6492c19",
   "metadata": {},
   "source": [
    "# Example 7:\n",
    "\n",
    "# Whats the run time of the following function?"
   ]
  },
  {
   "cell_type": "code",
   "execution_count": 2,
   "id": "1b5607ad",
   "metadata": {},
   "outputs": [],
   "source": [
    "def print_statement(statement):\n",
    "    print('0')"
   ]
  },
  {
   "cell_type": "markdown",
   "id": "0b3083db",
   "metadata": {},
   "source": [
    "### It's O(1): constant time"
   ]
  },
  {
   "cell_type": "markdown",
   "id": "745a931b",
   "metadata": {},
   "source": [
    "# Example 8:\n",
    "\n",
    "### Whats the run time of the following algorithm?"
   ]
  },
  {
   "cell_type": "code",
   "execution_count": 5,
   "id": "39559379",
   "metadata": {},
   "outputs": [
    {
     "name": "stdout",
     "output_type": "stream",
     "text": [
      "a\n",
      "b\n",
      "c\n"
     ]
    }
   ],
   "source": [
    "def print_list_elements(L):\n",
    "    for j in L:\n",
    "        print(j)\n",
    "        \n",
    "L = ['a','b','c']\n",
    "print_list_elements(L)"
   ]
  },
  {
   "cell_type": "markdown",
   "id": "8423d34a",
   "metadata": {},
   "source": [
    "### It's O(N) time, because if our list L is N=len(L) then it takes N steps to print all the elements.\n",
    "\n",
    "\n",
    "# Whats the run time of the following algorithm?"
   ]
  },
  {
   "cell_type": "code",
   "execution_count": 7,
   "id": "0e411431",
   "metadata": {},
   "outputs": [
    {
     "name": "stdout",
     "output_type": "stream",
     "text": [
      "a a\n",
      "a b\n",
      "b a\n",
      "b b\n"
     ]
    }
   ],
   "source": [
    "def print_list_twice(L1):\n",
    "    for i in L1:\n",
    "        for j in L1:\n",
    "            print(i,j)\n",
    "L2 = ['a','b']\n",
    "print_list_twice(L2)"
   ]
  },
  {
   "cell_type": "markdown",
   "id": "d5f04867",
   "metadata": {},
   "source": [
    "# it's O(N^2) because it loops through the entire list twice."
   ]
  }
 ],
 "metadata": {
  "kernelspec": {
   "display_name": "Python 3 (ipykernel)",
   "language": "python",
   "name": "python3"
  },
  "language_info": {
   "codemirror_mode": {
    "name": "ipython",
    "version": 3
   },
   "file_extension": ".py",
   "mimetype": "text/x-python",
   "name": "python",
   "nbconvert_exporter": "python",
   "pygments_lexer": "ipython3",
   "version": "3.9.7"
  }
 },
 "nbformat": 4,
 "nbformat_minor": 5
}
