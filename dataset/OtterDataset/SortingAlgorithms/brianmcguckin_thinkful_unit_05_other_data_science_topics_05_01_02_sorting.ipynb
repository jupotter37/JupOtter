{
 "cells": [
  {
   "cell_type": "code",
   "execution_count": 1,
   "metadata": {},
   "outputs": [],
   "source": [
    "import time\n",
    "import random\n",
    "\n",
    "# set seed\n",
    "random.seed(a=100)\n",
    "\n",
    "# create default lislt\n",
    "short_list = list(random.sample(range(100000), 10))\n",
    "long_list = list(random.sample(range(1000000), 10000))"
   ]
  },
  {
   "cell_type": "markdown",
   "metadata": {},
   "source": [
    "## Sorting\n",
    "[Sorting Algorithm Wiki](https://en.wikipedia.org/wiki/Sorting_algorithm)\n",
    "\n",
    "**Algorithm**: set of steps necessary for a computer to accomplish a specific task\n",
    "\n",
    "**Two lists**: return list ordered from smallest to largest in least amount of time\n",
    "- short_list: use to validate algorithm\n",
    "- long_list: use to compare computation times across sorting strategies\n",
    "- Duplicates maintain original order (preserves algorithm stability)\n",
    "- Efficiency: measured in runtime, also discussed in terms of steps\n",
    "    \n",
    "### Example: sorting a hand of cards\n",
    "- Sorting makes it easier to know which cards you have and to access the cards when necessary\n",
    "- Can sort by:\n",
    "    - One card a time, sequencing as you go\n",
    "    - Move through hand, organizing card by card\n",
    "    - Random shuffling until they are sorted (obviously inefficient method but technically it exists)\n",
    "- Different methods work best for different games & different sized hands\n",
    "\n",
    "## Insertion Sort\n",
    "- Maintain two lists: original list and new list that will be ordered\n",
    "- Take elements from original list and move through new list, stopping and inserting element where it goes\n",
    "    - Place in position ahead of the first element in the new list larger than chosen element\n",
    "    - If none are larger, place at the end"
   ]
  },
  {
   "cell_type": "code",
   "execution_count": 2,
   "metadata": {},
   "outputs": [],
   "source": [
    "def insert_sort(input_list):\n",
    "    # copy input to a new list, leave original unmodified\n",
    "    new_list = input_list   \n",
    "    \n",
    "    # iterate through list\n",
    "    for i in range(len(new_list)):\n",
    "        # assign place to a variable\n",
    "        j = i\n",
    "        \n",
    "        # move through the list as long as the previous position is larger\n",
    "        # than the current element\n",
    "        while j > 0 and new_list[j - 1] > new_list[j]:\n",
    "            \n",
    "            # swap places\n",
    "            new_list[j - 1], new_list[j] = new_list[j], new_list[j - 1]\n",
    "            \n",
    "            # reduce j by one\n",
    "            j = j - 1\n",
    "    return new_list"
   ]
  },
  {
   "cell_type": "code",
   "execution_count": 3,
   "metadata": {},
   "outputs": [
    {
     "name": "stdout",
     "output_type": "stream",
     "text": [
      "0.00013899803161621094 seconds\n",
      "[19093, 22904, 45840, 51515, 56821, 59628, 60231, 66435, 92473, 95939]\n"
     ]
    }
   ],
   "source": [
    "start_time = time.time()\n",
    "\n",
    "# run insertion sort function\n",
    "insert_sort(short_list)\n",
    "\n",
    "# print results and runtime\n",
    "print('%s seconds' % (time.time() - start_time))\n",
    "print(insert_sort(short_list))"
   ]
  },
  {
   "cell_type": "code",
   "execution_count": 4,
   "metadata": {},
   "outputs": [
    {
     "name": "stdout",
     "output_type": "stream",
     "text": [
      "7.552940130233765 seconds\n"
     ]
    }
   ],
   "source": [
    "# test on long list\n",
    "start_time = time.time()\n",
    "\n",
    "insert_sort(long_list)\n",
    "print('%s seconds' % (time.time() - start_time))"
   ]
  },
  {
   "cell_type": "markdown",
   "metadata": {},
   "source": [
    "- Sorting works, but doesn't scale very well\n",
    "- If list is already ordered:\n",
    "    - This sort takes n steps to complete\n",
    "    - Iterates through list\n",
    "- If list is perfectly out of order:\n",
    "    - Can take asymptotically n-squared steps, or $\\mathcal{O}(n^2)$ in big O notation\n",
    "    - Have *n* elements and algorithm potentially looks through each element in sorted list before inserting the element\n",
    "    - Computational intensity increases very quickly\n",
    "\n",
    "## Merge Sort\n",
    "- Merging two small sorted lists into one large sorted list is faster\n",
    "- Overview\n",
    "    - Breaks large list into single element sublists (which are inherently ordered)\n",
    "    - Merges single element lists into ordered pairs, reading from one end to preserve order\n",
    "    - Repeats this process to arrive at a sorted list\n",
    "    \n",
    "### Example\n",
    "List = [3, 7, 2, 4]\n",
    "\n",
    "Step 1: [3] [7] [2] [4]\n",
    "\n",
    "Step 2: [3, 7] [2, 4]\n",
    "\n",
    "Step 3: [2, 3, 4, 7]\n",
    "<br>\n",
    "- Any merge only have to look at leading entry from each prior list\n",
    "- Final merge only compares 3 to 2, since its already known that 4 and 7 are larger than their prior entries\n",
    "- Don't have to handle large amounts of unordered data\n",
    "- Divide and conquer technique\n",
    "    - Insertion sort attempts to solve the whole problem in one piece\n",
    "    - Breaking task into smaller ones provides significant efficiency gains\n",
    "- Tradeoff: ease to visualize/write (insertion) vs. efficiency gains but more difficult logic"
   ]
  },
  {
   "cell_type": "code",
   "execution_count": 5,
   "metadata": {},
   "outputs": [],
   "source": [
    "def merge(a, b):\n",
    "# merge function, takes two ordered lists and merges them into one\n",
    "        \n",
    "    # check for empty list\n",
    "    if len(a) == 0 or len(b) == 0:\n",
    "        return a or b\n",
    "    \n",
    "    # start with an empty result\n",
    "    result = []\n",
    "    # track two indexes\n",
    "    i, j = 0, 0\n",
    "    # set while condition to iterate only for the length of the two lists\n",
    "    while (len(result) < len(a) + len(b)):\n",
    "        # if next element in a is lower, append to result\n",
    "        if a[i] < b[j]:\n",
    "            result.append(a[i])\n",
    "            i += 1\n",
    "        # otherwise append next element in b\n",
    "        else:\n",
    "            result.append(b[j])\n",
    "            j += 1\n",
    "        # when one list is empty, append everything from the other & stop\n",
    "        if i == len(a) or j == len(b):\n",
    "            result.extend(a[i:] or b[j:])\n",
    "            break\n",
    "\n",
    "    return result\n",
    "\n",
    "def merge_sort(lst):\n",
    "    if len(lst) < 2:\n",
    "        return lst\n",
    "    \n",
    "    mid = int(len(lst) / 2)\n",
    "    a = merge_sort(lst[:mid])\n",
    "    b = merge_sort(lst[mid:])\n",
    "    \n",
    "    return merge(a, b)"
   ]
  },
  {
   "cell_type": "code",
   "execution_count": 6,
   "metadata": {},
   "outputs": [
    {
     "name": "stdout",
     "output_type": "stream",
     "text": [
      "0.0000650883 seconds\n",
      "[19093, 22904, 45840, 51515, 56821, 59628, 60231, 66435, 92473, 95939]\n"
     ]
    }
   ],
   "source": [
    "# test on short list\n",
    "start_time = time.time()\n",
    "\n",
    "merge_sort(short_list)\n",
    "\n",
    "print('{:.10f} seconds'.format(time.time() - start_time))\n",
    "print(merge_sort(short_list))"
   ]
  },
  {
   "cell_type": "code",
   "execution_count": 7,
   "metadata": {},
   "outputs": [
    {
     "name": "stdout",
     "output_type": "stream",
     "text": [
      "0.0537347794 seconds\n"
     ]
    }
   ],
   "source": [
    "# test on long list\n",
    "start_time = time.time()\n",
    "merge_sort(long_list)\n",
    "print('{:.10f} seconds'.format(time.time() - start_time))"
   ]
  },
  {
   "cell_type": "markdown",
   "metadata": {},
   "source": [
    "This algorithm is recursive:\n",
    "- Function nests within itself & runs until stopping condition is met\n",
    "- This creates multiple layers of lists to merge together\n",
    "- Common feature, way to keep algorithm running until the problem is solved without having to specify number of times something should run\n",
    "- Much faster & less complex\n",
    "    - Cuts down on number of comparisons necessary since its known that shorter lists are already sorted\n",
    "    - $\\mathcal{O}(n\\log{}n)$ instead of $\\mathcal{O}(n^2)$\n",
    "    - Scaling is quasilinear instead of quadratic\n",
    "    \n",
    "## Default Sort\n",
    "Python has a built in .sort() and .sorted() methods\n",
    "- Efficient: written in version of C from Python called Cython\n",
    "- Faster than generic Python"
   ]
  },
  {
   "cell_type": "code",
   "execution_count": 8,
   "metadata": {},
   "outputs": [
    {
     "name": "stdout",
     "output_type": "stream",
     "text": [
      "0.0003330708 seconds\n"
     ]
    }
   ],
   "source": [
    "start_time = time.time()\n",
    "\n",
    "sorted(long_list)\n",
    "print('{:.10f} seconds'.format(time.time() - start_time))"
   ]
  },
  {
   "cell_type": "markdown",
   "metadata": {},
   "source": [
    "## Drill\n",
    "\n",
    "Pick an algorithm from the wiki page (sticking to simpler ones), implement it in Python, and see how sorting short & long lists compares.\n",
    "\n",
    "### Quicksort\n",
    "- Divide and conquer algorithm\n",
    "- Relies on a partition operation\n",
    "    - Pivot: element selected to partition an array\n",
    "    - All elements before the pivot are moved before it, greater elements moved after it\n",
    "    - Lesser & greater sublists are recursively sorted\n",
    "    - $\\mathcal{O}(n\\log{}n)$\n",
    "        - Caveat: $\\mathcal{O}(n^2)$ for worst case"
   ]
  },
  {
   "cell_type": "code",
   "execution_count": 26,
   "metadata": {},
   "outputs": [],
   "source": [
    "# create lists again\n",
    "# otherwise will get first hand experience with worst case complexity\n",
    "# works on short list but long list hits recursion limit\n",
    "short_list = list(random.sample(range(1000000), 10))\n",
    "long_list = list(random.sample(range(1000000), 10000))\n",
    "\n",
    "def quicksort(lst):\n",
    "    quick_sorter(lst, 0, len(lst) - 1)\n",
    "\n",
    "def partition(lst, low, high):\n",
    "    # set first element as pivot\n",
    "    pivot = lst[low]\n",
    "    #set left & right markers\n",
    "    left = low + 1\n",
    "    right = high\n",
    "    \n",
    "    while not False:\n",
    "        while left <= right and lst[left] <= pivot:\n",
    "            left += 1\n",
    "        while lst[right] >= pivot and right >= left:\n",
    "            right -= 1\n",
    "        # unless we're done, swap left & right    \n",
    "        if right < left:\n",
    "            break\n",
    "        else:\n",
    "            lst[left], lst[right] = lst[right], lst[left]\n",
    "            \n",
    "    lst[low], lst[right] = lst[right], lst[low]\n",
    "    return right\n",
    "\n",
    "def quick_sorter(lst, low, high):\n",
    "    if low < high:\n",
    "        partition_index = partition(lst, low, high)\n",
    "        #sort elements before and after partition index\n",
    "        quick_sorter(lst, low, partition_index - 1)\n",
    "        quick_sorter(lst, partition_index + 1, high)"
   ]
  },
  {
   "cell_type": "code",
   "execution_count": 27,
   "metadata": {},
   "outputs": [
    {
     "name": "stdout",
     "output_type": "stream",
     "text": [
      "0.0002169609 seconds\n",
      "[28097, 79676, 309638, 449022, 474720, 532926, 601049, 633216, 693849, 969178]\n"
     ]
    }
   ],
   "source": [
    "start_time = time.time()\n",
    "quicksort(short_list)\n",
    "print('{:.10f} seconds'.format(time.time() - start_time))\n",
    "print(short_list)"
   ]
  },
  {
   "cell_type": "code",
   "execution_count": 28,
   "metadata": {},
   "outputs": [
    {
     "name": "stdout",
     "output_type": "stream",
     "text": [
      "0.0317590237 seconds\n",
      "[14, 74, 245, 254, 283, 337, 349, 371, 462, 514, 672, 1172, 1207, 1276, 1314, 1454, 1601, 1639, 1643, 1644, 1783, 1896, 2061, 2182, 2183]\n"
     ]
    }
   ],
   "source": [
    "start_time = time.time()\n",
    "quicksort(long_list)\n",
    "print('{:.10f} seconds'.format(time.time() - start_time))\n",
    "print(long_list[:25])"
   ]
  },
  {
   "cell_type": "code",
   "execution_count": null,
   "metadata": {},
   "outputs": [],
   "source": []
  }
 ],
 "metadata": {
  "kernelspec": {
   "display_name": "Python 3",
   "language": "python",
   "name": "python3"
  },
  "language_info": {
   "codemirror_mode": {
    "name": "ipython",
    "version": 3
   },
   "file_extension": ".py",
   "mimetype": "text/x-python",
   "name": "python",
   "nbconvert_exporter": "python",
   "pygments_lexer": "ipython3",
   "version": "3.6.5"
  }
 },
 "nbformat": 4,
 "nbformat_minor": 2
}
