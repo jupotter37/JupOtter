{
 "cells": [
  {
   "cell_type": "markdown",
   "id": "9c7594ad-c1d1-408a-8159-ee3982aae64c",
   "metadata": {},
   "source": [
    "<h1>Sorting</h1>"
   ]
  },
  {
   "cell_type": "markdown",
   "id": "4b6d5474-5b13-435f-9686-efd3dab66ffa",
   "metadata": {
    "tags": []
   },
   "source": [
    "<b>1. Given an array of n numbers, give an algorithm which gives the element appearing maximum number of times?</b><br>\n"
   ]
  },
  {
   "cell_type": "markdown",
   "id": "d5f6842f-6958-494b-b38f-2cb306d920cc",
   "metadata": {
    "tags": []
   },
   "source": [
    "To find the element appearing the maximum number of times in an array without using inbuilt functions, you can use an optimized algorithm based on counting.<br>\n",
    "\n",
    "Here's the algorithm:<br>\n",
    "\n",
    "Initialize a dictionary (or hash map) to store the frequency count of each element in the array.<br>\n",
    "Initialize two variables max_element and max_count to keep track of the element with the maximum count and its count, respectively.<br>\n",
    "Iterate through the array and for each element:<br>\n",
    "If the element is already present in the dictionary, increment its count by 1.<br>\n",
    "If the element is not present in the dictionary, add it with a count of 1.<br>\n",
    "Check if the count of the current element is greater than max_count. If so, update max_element and max_count with the current element and its count.<br>\n",
    "Return max_element.<br>\n",
    "\n",
    "<pre>def find_most_frequent_element(nums):\n",
    "    frequency = {}  # dictionary to store frequency count\n",
    "    max_element = None\n",
    "    max_count = 0\n",
    "\n",
    "    for num in nums:\n",
    "        if num in frequency:\n",
    "            frequency[num] += 1\n",
    "        else:\n",
    "            frequency[num] = 1\n",
    "\n",
    "        if frequency[num] > max_count:\n",
    "            max_element = num\n",
    "            max_count = frequency[num]\n",
    "\n",
    "    return max_element\n",
    "</pre>\n",
    "1.The time complexity of this algorithm is O(n), where n is the number of elements in the input array. This is because we iterate through the array once to calculate the frequency count and find the element with the maximum count. The time complexity is linear with respect to the input size.<br>\n",
    "\n",
    "2.The space complexity of this algorithm is O(k), where k is the number of unique elements in the input array. This is because we store the frequency count of each element in the dictionary. The space required is proportional to the number of unique elements in the array.<br>\n",
    "\n",
    "3.In case there are multiple elements with the same maximum count, the algorithm will return the first element encountered during the iteration. If you want to return all elements with the maximum count, you can modify the algorithm to store a list of elements with the maximum count and return that list instead.<br>\n",
    "\n",
    "4.If the input array is empty, the algorithm will return None, as there are no elements to find the maximum count.<br>\n",
    "\n",
    "5.The algorithm can handle negative numbers and non-integer values as well. It treats them as distinct elements and calculates their frequencies accordingly.<br>\n",
    "\n",
    "In terms of code implementation and organization, the provided algorithm is implemented in a modular and organized manner. It follows best practices such as using meaningful variable names, properly indenting the code, and using comments to explain the purpose of each section. The algorithm efficiently solves the problem without using inbuilt functions, and the code is generally easy to understand and maintain.<br>"
   ]
  },
  {
   "cell_type": "markdown",
   "id": "fe35500d-766f-4d60-8521-e59d7267d91c",
   "metadata": {},
   "source": [
    "<b>2. We are given a list of n-1 integers and these integers are in the range of 1 to n . There are no duplicates in the list. One of the integers is missing in the list. Give an algorithm to find that element.<br>\n",
    "Ex: [1,2,4,6,3,7,8] 5 is the missing num.</b><br>\n"
   ]
  },
  {
   "cell_type": "markdown",
   "id": "9ac6b8b1-1692-400c-9751-52f4e6e02f48",
   "metadata": {
    "tags": []
   },
   "source": [
    "To find the missing element in a list of n-1 integers, where the integers are in the range of 1 to n and there are no duplicates, you can use an optimized algorithm based on the XOR operation.<br>\n",
    "\n",
    "Here's the algorithm:<br>\n",
    "\n",
    "Initialize a variable missing_element to 0.<br>\n",
    "Iterate through the given list and for each element:<br>\n",
    "XOR the element with its index (i+1) and update missing_element with the result.<br>\n",
    "After iterating through the entire list, missing_element will contain the missing element..<br>\n",
    "\n",
    "<pre>def find_missing_element(nums):\n",
    "    missing_element = 0\n",
    "    \n",
    "    for i, num in enumerate(nums):\n",
    "        missing_element ^= (i + 1) ^ num\n",
    "    \n",
    "    missing_element ^= len(nums) + 1\n",
    "    \n",
    "    return missing_element\n",
    "</pre>\n",
    "The time complexity of this algorithm is O(n), where n is the number of elements in the input list. This is because we iterate through the list once to perform the XOR operation. The time complexity is linear with respect to the input size.<br>\n",
    "\n",
    " The space complexity of this algorithm is O(1), as it only requires a constant amount of extra space to store the missing_element variable.<br>\n",
    " \n",
    " If the input list is empty, the algorithm will return 0, as there are no elements to find the missing element.<br>\n",
    " \n",
    " The algorithm assumes that the input list contains only positive integers in the range of 1 to n, with no duplicates. If the list contains negative numbers or non-integer values, the algorithm may not produce the correct result.<br>\n",
    " \n",
    " The algorithm can handle large inputs as it performs the XOR operation in constant time. However, if the input list is extremely large, it may be necessary to consider a more memory-efficient approach.<br>\n",
    " \n",
    "In conclusion, the optimized algorithm described above can efficiently find the missing element in a list of n-1 integers, where the integers are in the range of 1 to n and there are no duplicates. The algorithm has a time complexity of O(n) and a space complexity of O(1).<br>"
   ]
  },
  {
   "cell_type": "markdown",
   "id": "fb4bf425-cac1-4ce2-a337-e58fa4a8329a",
   "metadata": {},
   "source": [
    "<b>3. Given an array of n positive numbers. All numbers occurs even number of times except 1 which occurs odd number of times. Find that number in O(n) time and O(1) space.<br>\n",
    "Ex: [1,2,3,2,3,1,3]. 3 is repeats odd times.</b><br>\n"
   ]
  },
  {
   "cell_type": "markdown",
   "id": "8d6a3141-a352-4098-89fd-0688a9a19740",
   "metadata": {
    "tags": []
   },
   "source": [
    "To find the number that occurs an odd number of times in an array of positive numbers, you can use an optimized algorithm based on the XOR operation.<br>\n",
    "\n",
    "Here's the algorithm:<br>\n",
    "\n",
    "Initialize a variable result to 0.<br>\n",
    "Iterate through the array and for each element:<br>\n",
    "XOR the element with result and update result with the result of the XOR operation.<br>\n",
    "After iterating through the entire array, result will contain the number that occurs an odd number of times.<br>\n",
    "\n",
    "<pre>def find_odd_occurrence(nums):\n",
    "    result = 0\n",
    "\n",
    "    for num in nums:\n",
    "        result ^= num\n",
    "    \n",
    "    return result\n",
    "</pre>\n",
    "The time complexity of this algorithm is O(n), where n is the number of elements in the input array. This is because we iterate through the array once to perform the XOR operation. The time complexity is linear with respect to the input size.<br>\n",
    "\n",
    "The space complexity of this algorithm is O(1), as it only requires a constant amount of extra space to store the result variable.<br>\n",
    "\n",
    "If the input array is empty, the algorithm will return 0, as there are no elements to find the odd occurrence.<br>\n",
    "\n",
    "The algorithm assumes that the input array contains only positive numbers. If the array contains negative numbers or non-positive values, the algorithm may not produce the correct result.<br>\n",
    "\n",
    "The algorithm is designed to find the number that occurs an odd number of times, assuming there is only one such number. If there are multiple numbers that occur an odd number of times, the algorithm will not be able to identify all of them.<br>\n",
    "\n",
    "In conclusion, the optimized algorithm described above can efficiently find the number that occurs an odd number of times in an array of positive numbers. The algorithm has a time complexity of O(n) and a space complexity of O(1).<br>"
   ]
  },
  {
   "cell_type": "markdown",
   "id": "17b2a208-d32b-43ca-bb3b-999266c87502",
   "metadata": {},
   "source": [
    "<b>4. Given an array of n elements. Find two elements in the array such that their sum is equal to given element K.</b><br>\n"
   ]
  },
  {
   "cell_type": "markdown",
   "id": "3b51efc3-289f-4976-8ff1-581d0ffea27e",
   "metadata": {
    "tags": []
   },
   "source": [
    "To find two elements in an array that sum to a given element K, you can use a two-pointer approach. This algorithm takes advantage of the fact that the input array is not sorted and does not use any inbuilt functions.<br>\n",
    "\n",
    "Here's the algorithm:<br>\n",
    "\n",
    "Sort the array in non-decreasing order. (You can use any sorting algorithm of your choice, such as quicksort or mergesort. Implementing a sorting algorithm is beyond the scope of this explanation.)<br>\n",
    "Initialize two pointers, left and right, at the beginning and end of the sorted array, respectively.<br>\n",
    "While left is less than right, do the following:<br>\n",
    "Calculate the sum of the elements at left and right.<br>\n",
    "If the sum is equal to K, return the pair of elements.<br>\n",
    "If the sum is less than K, increment left by 1 to consider a larger element.<br>\n",
    "If the sum is greater than K, decrement right by 1 to consider a smaller element.<br>\n",
    "If no pair of elements is found that sums to K, return None or an appropriate indicator.<br>\n",
    "\n",
    "<pre>def find_pair_sum(nums, K):\n",
    "   \n",
    "    left = 0\n",
    "    right = len(nums) - 1\n",
    "\n",
    "    while left < right:\n",
    "        current_sum = nums[left] + nums[right]\n",
    "        if current_sum == K:\n",
    "            return (nums[left], nums[right])\n",
    "        elif current_sum < K:\n",
    "            left += 1\n",
    "        else:\n",
    "            right -= 1\n",
    "    return None\n",
    "</pre>\n",
    " The time complexity of this algorithm depends on the sorting algorithm used to sort the array. In the worst case, if a comparison-based sorting algorithm (e.g., quicksort or mergesort) is used, the time complexity will be O(n log n), where n is the number of elements in the input array. The two-pointer traversal itself takes O(n) time.<br>\n",
    " \n",
    " The space complexity of this algorithm is O(1), as it only requires a constant amount of extra space to store the two pointers and temporary variables.\n",
    " \n",
    " If the input array is empty, the algorithm will return None or an appropriate indicator, as there are no elements to find the pair sum.\n",
    " \n",
    " The algorithm can handle negative numbers as well. It will work correctly as long as the input array contains both positive and negative numbers.\n",
    " \n",
    " If the input array contains duplicate elements and there are multiple pairs that sum to K, the algorithm will find the first pair encountered during the two-pointer traversal.\n",
    " \n",
    " The algorithm assumes that the input array is sorted in non-decreasing order. If the array is not sorted, you will need to modify the algorithm to sort the array first before performing the two-pointer traversal.\n",
    "\n",
    "In conclusion, the algorithm described above can efficiently find a pair of elements in an array that sum to a given element K. The algorithm has a time complexity of O(n log n) (depending on the sorting algorithm used) and a space complexity of O(1).<br>"
   ]
  },
  {
   "cell_type": "markdown",
   "id": "2bc1fbf6-d78d-4dd0-85b1-9e609182e62c",
   "metadata": {},
   "source": [
    "<b>5. Given an array of both positive and negative numbers, find two numbers such that their sum is closest to 0.<br>\n",
    "Ex: [ 1 ,60 ,-10, 70, -80,85]. Ans : -80,85.</b><br>\n"
   ]
  },
  {
   "cell_type": "markdown",
   "id": "1e47976e-0a5f-4fb3-95c2-3780d6d71607",
   "metadata": {
    "tags": []
   },
   "source": [
    "To find two numbers in an array such that their sum is closest to 0, you can use an optimized algorithm based on sorting and two-pointer approach. This algorithm does not use any inbuilt functions.<br>\n",
    "\n",
    "Here's the algorithm:<br>\n",
    "\n",
    "Sort the array in non-decreasing order. (You can use any sorting algorithm of your choice, such as quicksort or mergesort. Implementing a sorting algorithm is beyond the scope of this explanation.)<br>\n",
    "Initialize two pointers, left and right, at the beginning and end of the sorted array, respectively.<br>\n",
    "Initialize two variables, min_sum and closest_sum, to keep track of the minimum sum encountered so far and the sum closest to 0, respectively. Set both variables to a large positive value initially.<br>\n",
    "While left is less than right, do the following:<br>\n",
    "Calculate the sum of the elements at left and right.<br>\n",
    "If the absolute value of the current sum is less than the absolute value of closest_sum, update closest_sum with the current sum.<br>\n",
    "If the current sum is less than 0, increment left by 1 to consider a larger element.<br>\n",
    "If the current sum is greater than 0, decrement right by 1 to consider a smaller element.<br>\n",
    "If the current sum is 0, return the pair of elements.<br>\n",
    "After the loop, return the pair of elements that resulted in the closest_sum.<br>\n",
    "\n",
    "<pre>def find_closest_sum(nums):\n",
    "    \n",
    "    left = 0\n",
    "    right = len(nums) - 1\n",
    "    min_sum = float('inf')\n",
    "    closest_sum = float('inf')\n",
    "    result = None\n",
    "    while left < right:\n",
    "        current_sum = nums[left] + nums[right]\n",
    "        if abs(current_sum) < abs(closest_sum):\n",
    "            closest_sum = current_sum\n",
    "            result = (nums[left], nums[right])\n",
    "        if current_sum < 0:\n",
    "            left += 1\n",
    "        elif current_sum > 0:\n",
    "            right -= 1\n",
    "        else:\n",
    "            return (nums[left], nums[right])\n",
    "\n",
    "    return result\n",
    "</pre>\n",
    "The time complexity of this algorithm depends on the sorting algorithm used to sort the array. In the worst case, if a comparison-based sorting algorithm (e.g., quicksort or mergesort) is used, the time complexity will be O(n log n), where n is the number of elements in the input array. The two-pointer traversal itself takes O(n) time.\n",
    "\n",
    "The space complexity of this algorithm is O(1), as it only requires a constant amount of extra space to store the two pointers, temporary variables, and the result.\n",
    "\n",
    "In conclusion, the algorithm described above can efficiently find a pair of numbers in an array such that their sum is closest to 0. The algorithm has a time complexity of O(n log n) (depending on the sorting algorithm used) and a space complexity of O(1).<br>"
   ]
  },
  {
   "cell_type": "markdown",
   "id": "4345554f-4c71-4625-8bae-0d2abd84a40b",
   "metadata": {},
   "source": [
    "<b>6. Given an array of n elements . Find three elements such that their sum is equal to the given number.</b><br>\n"
   ]
  },
  {
   "cell_type": "markdown",
   "id": "c2f77a7e-b128-4d23-b119-d04631a6b4bd",
   "metadata": {
    "tags": []
   },
   "source": [
    "Here's the algorithm:<br>\n",
    "\n",
    "Sort the array in non-decreasing order. (You can use any sorting algorithm of your choice, such as quicksort or mergesort. Implementing a sorting algorithm is beyond the scope of this explanation.)<br>\n",
    "Iterate through the array from index 0 to n-3 (where n is the number of elements in the array).<br>\n",
    "For each element at index i, initialize two pointers, left and right, at i+1 and n-1, respectively.<br>\n",
    "While left is less than right, do the following:<br>\n",
    "Calculate the sum of the elements at indices i, left, and right.<br>\n",
    "If the sum is equal to the given number, return the triplets (nums[i], nums[left], nums[right]).<br>\n",
    "If the sum is less than the given number, increment left by 1 to consider a larger element.<br>\n",
    "If the sum is greater than the given number, decrement right by 1 to consider a smaller element.<br>\n",
    "If no triplet is found that sums to the given number, return None or an appropriate indicator.<br>\n",
    "\n",
    "<pre>def find_triplets_sum(nums, target):\n",
    "    n = len(nums)\n",
    "\n",
    "    for i in range(n-2):\n",
    "        left = i + 1\n",
    "        right = n - 1\n",
    "\n",
    "        while left < right:\n",
    "            current_sum = nums[i] + nums[left] + nums[right]\n",
    "            if current_sum == target:\n",
    "                return (nums[i], nums[left], nums[right])\n",
    "            elif current_sum < target:\n",
    "                left += 1\n",
    "            else:\n",
    "                right -= 1\n",
    "    return None\n",
    "</pre>\n",
    "The time complexity of this algorithm depends on the sorting algorithm used to sort the array. In the worst case, if a comparison-based sorting algorithm (e.g., quicksort or mergesort) is used, the time complexity will be O(n log n), where n is the number of elements in the input array. The nested two-pointer traversal itself takes O(n^2) time.<br>\n",
    "The space complexity of this algorithm is O(1), as it only requires a constant amount of extra space to store the two pointers and temporary variables.<br>\n",
    "\n",
    "In conclusion, the algorithm described above can efficiently find a triplet of elements in an array that sums to a given number. The algorithm has a time complexity of O(n^2) (depending on the sorting algorithm used) and a space complexity of O(1).\n",
    "<br>"
   ]
  },
  {
   "cell_type": "markdown",
   "id": "9889ee85-1a08-44ac-9498-878a60a5eb32",
   "metadata": {},
   "source": [
    "<b>7. Given an array of n elements . Find three elements i, j, k in the array such that i * i + j * j = k*k.</b><br>\n"
   ]
  },
  {
   "cell_type": "markdown",
   "id": "cf39098b-2f2d-44ad-9d93-1d256776eafe",
   "metadata": {
    "tags": []
   },
   "source": [
    "Here's the algorithm:\n",
    "\n",
    "Sort the array in non-decreasing order. (You can use any sorting algorithm of your choice, such as quicksort or mergesort. Implementing a sorting algorithm is beyond the scope of this explanation.)<br>\n",
    "Iterate through the array from index 0 to n-3 (where n is the number of elements in the array).<br>\n",
    "For each element at index i, initialize two pointers, left and right, at i+1 and n-1, respectively.<br>\n",
    "While left is less than right, do the following:<br>\n",
    "Calculate the sum of the squares of the elements at indices i, left, and right.<br>\n",
    "If the sum is equal to the square of an element in the array:<br>\n",
    "Return the triplet (nums[i], nums[left], nums[right]).<br>\n",
    "If the sum is less than the square of an element in the array, increment left by 1 to consider a larger element.<br>\n",
    "If the sum is greater than the square of an element in the array, decrement right by 1 to consider a smaller element.<br>\n",
    "If no triplet is found that satisfies the condition, return None or an appropriate indicator.<br>\n",
    "\n",
    "<pre>def find_triplet(nums):\n",
    "    n = len(nums)\n",
    "\n",
    "    for i in range(n-2):\n",
    "        left = i + 1\n",
    "        right = n - 1\n",
    "\n",
    "        while left < right:\n",
    "            square_sum = nums[i] * nums[i] + nums[left] * nums[left]\n",
    "            if square_sum == nums[right] * nums[right]:\n",
    "                return (nums[i], nums[left], nums[right])\n",
    "            elif square_sum < nums[right] * nums[right]:\n",
    "                left += 1\n",
    "            else:\n",
    "                right -= 1\n",
    "    return None\n",
    "</pre>\n",
    "The time complexity of this algorithm depends on the sorting algorithm used to sort the array. In the worst case, if a comparison-based sorting algorithm (e.g., quicksort or mergesort) is used, the time complexity will be O(n log n), where n is the number of elements in the input array. The nested two-pointer traversal itself takes O(n^2) time.<br>\n",
    "The space complexity of this algorithm is O(1), as it only requires a constant amount of extra space to store the two pointers and temporary variables.<br>\n",
    "\n",
    "In conclusion, the algorithm described above can efficiently find a triplet of elements in an array that satisfies the condition i * i + j * j = k * k. The algorithm has a time complexity of O(n^2) (depending on the sorting algorithm used) and a space complexity of O(1).<br>"
   ]
  },
  {
   "cell_type": "markdown",
   "id": "916dd137-241c-4942-be97-c2c924ecdd4e",
   "metadata": {},
   "source": [
    "<b>8. An element is a majority if it appears more than n/2 times. Give an algorithm takes an array of n element as argument and identifies a majority (if it exists).</b><br>\n"
   ]
  },
  {
   "cell_type": "markdown",
   "id": "ebd40386-22fc-499a-bac4-412c153d1b2f",
   "metadata": {
    "tags": []
   },
   "source": [
    "To identify a majority element in an array, you can use an optimized algorithm called the Boyer-Moore Voting Algorithm. This algorithm does not use any predefined functions.<br>\n",
    "\n",
    "Here's the algorithm:<br>\n",
    "\n",
    "Initialize two variables, candidate and count, to keep track of the current majority candidate and its count. Set count to 0 initially.<br>\n",
    "Iterate through the array and for each element:<br>\n",
    "If count is 0, set the current element as the candidate and increment count by 1.<br>\n",
    "If the current element is equal to the candidate, increment count by 1.<br>\n",
    "If the current element is different from the candidate, decrement count by 1.<br>\n",
    "After iterating through the entire array, the candidate will hold the potential majority element.<br>\n",
    "Iterate through the array again to count the occurrences of the candidate element.<br>\n",
    "If the count of the candidate element is greater than n/2, where n is the number of elements in the array, return the candidate as the majority element.<br>\n",
    "If the count of the candidate element is not greater than n/2, there is no majority element in the array.<br>\n",
    "\n",
    "<pre>def find_majority(nums):\n",
    "    candidate = None\n",
    "    count = 0\n",
    "\n",
    "    # Find potential majority candidate\n",
    "    for num in nums:\n",
    "        if count == 0:\n",
    "            candidate = num\n",
    "            count += 1\n",
    "        elif num == candidate:\n",
    "            count += 1\n",
    "        else:\n",
    "            count -= 1\n",
    "\n",
    "    # Check if the candidate is the majority element\n",
    "    count = 0\n",
    "    for num in nums:\n",
    "        if num == candidate:\n",
    "            count += 1\n",
    "\n",
    "    if count > len(nums) // 2:\n",
    "        return candidate\n",
    "    else:\n",
    "        return None\n",
    "</pre>\n",
    "The time complexity of this algorithm is O(n), where n is the number of elements in the input array. The algorithm iterates through the array twice, once to find the potential majority candidate and once to count its occurrences.<br>\n",
    "text<br>\n",
    "\n",
    "The space complexity of this algorithm is O(1), as it only requires a constant amount of extra space to store the candidate and count variables.<br>\n",
    "\n",
    " If the input array is empty, the algorithm will return None or an appropriate indicator, as there are no elements to find the majority element.<br>\n",
    " \n",
    " If there is no majority element in the array, the algorithm will return None or an appropriate indicator.<br>\n",
    " \n",
    " If there are multiple majority elements in the array, the algorithm will return one of them as the result.<br>\n",
    " \n",
    " The algorithm does not depend on the array being sorted. It can identify the majority element in unsorted arrays as well.<br>\n",
    " \n",
    " In conclusion, the Boyer-Moore Voting Algorithm described above can efficiently identify a majority element in an array (if it exists). The algorithm has a time complexity of O(n) and a space complexity of O(1)."
   ]
  },
  {
   "cell_type": "markdown",
   "id": "5c2beff2-4dd7-498c-97b4-f6c79074f5c9",
   "metadata": {},
   "source": [
    "<b>9. Given n × n matrix, and in each row all 1’s are followed by 0’s. Find the row with the maximum number of 0’s.</b><br>\n"
   ]
  },
  {
   "cell_type": "markdown",
   "id": "ad1df29a-481a-4d2b-b6be-fcb627e39fdd",
   "metadata": {
    "tags": []
   },
   "source": [
    "To find the row with the maximum number of 0's in an n × n matrix where each row has 1's followed by 0's, you can use an optimized algorithm that leverages the properties of the matrix. This algorithm does not use any predefined functions.\n",
    "\n",
    "Here's the algorithm:\n",
    "\n",
    "Initialize two variables, max_zeros and max_row, to keep track of the maximum number of zeros encountered so far and the row index with the maximum zeros. Set both variables to 0 initially.<br>\n",
    "Start from the top-right corner of the matrix (row 0, column n-1).<br>\n",
    "While the current row index is less than n and the current column index is greater than or equal to 0, do the following:<br>\n",
    "If the current element is 0:<br>\n",
    "Update max_zeros to the maximum of max_zeros and the number of zeros in the current row.<br>\n",
    "Update max_row to the current row index.<br>\n",
    "Decrement the column index by 1 to move left in the matrix.<br>\n",
    "If the current element is 1:<br>\n",
    "Increment the row index by 1 to move down in the matrix.<br>\n",
    "After traversing the entire matrix, the max_row will hold the row index with the maximum number of zeros.<br>\n",
    "Return the max_row as the result.<br>\n",
    "\n",
    "<pre>def find_row_with_max_zeros(matrix):\n",
    "    n = len(matrix)\n",
    "    max_zeros = 0\n",
    "    max_row = 0\n",
    "    row = 0\n",
    "    col = n - 1\n",
    "\n",
    "    while row < n and col >= 0:\n",
    "        if matrix[row][col] == 0:\n",
    "            zeros_in_row = col + 1\n",
    "            if zeros_in_row > max_zeros:\n",
    "                max_zeros = zeros_in_row\n",
    "                max_row = row\n",
    "            col -= 1\n",
    "        else:\n",
    "            row += 1\n",
    "\n",
    "    return max_row\n",
    "</pre>\n",
    "The time complexity of this algorithm is O(n), where n is the number of rows or the number of columns in the matrix. The algorithm traverses the matrix once, moving either left or down at each step.<br>\n",
    " The space complexity of this algorithm is O(1), as it only requires a constant amount of extra space to store the variables for tracking the maximum zeros and the current row and column indices.<br>\n",
    " If the input matrix is empty, the algorithm will return 0 or an appropriate indicator, as there are no rows to find the maximum zeros.<br>\n",
    " If there are no zeros in the matrix, the algorithm will return 0 or an appropriate indicator.<br>\n",
    " If multiple rows have the same maximum number of zeros, the algorithm will return the first row encountered during the traversal.<br>\n",
    " The algorithm can handle non-square matrices as well, where the number of rows and columns may be different.<br>\n",
    "\n",
    "In conclusion, the algorithm described above can efficiently find the row with the maximum number of zeros in an n × n matrix where each row has 1's followed by 0's. The algorithm has a time complexity of O(n) and a space complexity of O(1).<br>"
   ]
  },
  {
   "cell_type": "markdown",
   "id": "0d75382d-7308-47be-aebb-3a13423ccf12",
   "metadata": {},
   "source": [
    "<b>10. Sort an array of 0’s, 1’s and 2’s [or R’s, G’s and B’s]: Given an array A[] consisting of 0’s, 1’s and 2’s, give an algorithm for sorting A[].The algorithm should put all 0’s first, then all 1’s and finally all 2’s at the end.<br> \n",
    "Example Input = {0,1,1,0,1,2,1,2,0,0,0,1}, Output = {0,0,0,0,0,1,1,1,1,1,2,2}</b><br>\n"
   ]
  },
  {
   "cell_type": "markdown",
   "id": "97db533a-adba-434a-88ed-a39a7b250757",
   "metadata": {
    "tags": []
   },
   "source": [
    "we can use the Dutch National Flag problem algorithm to sort an array of 0’s, 1’s, and 2’s in linear time complexity without using predefined functions. Here's the algorithm:<br>\n",
    "\n",
    "Initialize three pointers: low, mid, and high. Set low to 0, mid to 0, and high to n-1, where n is the number of elements in the array.<br>\n",
    "While mid is less than or equal to high, do the following:<br>\n",
    "If the element at index mid is 0, swap the elements at indices low and mid, increment low and mid.<br>\n",
    "If the element at index mid is 1, increment mid.<br>\n",
    "If the element at index mid is 2, swap the elements at indices mid and high, decrement high.<br>\n",
    "After the loop, the array will be sorted with all 0’s first, then all 1’s, and finally all 2’s.<br>\n",
    "\n",
    "<pre>def sort012(arr, arr_size):\n",
    "    low = 0\n",
    "    mid = 0\n",
    "    high = arr_size - 1\n",
    "\n",
    "    while mid <= high:\n",
    "        if arr[mid] == 0:\n",
    "            arr[low], arr[mid] = arr[mid], arr[low]\n",
    "            low += 1\n",
    "            mid += 1\n",
    "        elif arr[mid] == 1:\n",
    "            mid += 1\n",
    "        else:\n",
    "            arr[mid], arr[high] = arr[high], arr[mid]\n",
    "            high -= 1\n",
    "\n",
    "def printArray(arr, arr_size):\n",
    "    for i in range(arr_size):\n",
    "        print(arr[i], end=\" \")\n",
    "    print()\n",
    "\n",
    "arr = [0, 1, 1, 0, 1, 2, 1, 2, 0, 0, 0, 1]\n",
    "arr_size = len(arr)\n",
    "sort012(arr, arr_size)\n",
    "printArray(arr, arr_size)\n",
    "</pre>\n",
    "The time complexity of this algorithm is O(n), where n is the number of elements in the input array. Only one traversal of the array is needed.<br>\n",
    " The space complexity of this algorithm is O(1), as no extra space is required.<br>\n",
    " If the input array is empty, the algorithm will not perform any operations and will return an empty array.<br>\n",
    " If the input array has only one element, the algorithm will not perform any operations as the array is already sorted.<br>\n",
    " If the input array contains only one type of element (0, 1, or 2), the algorithm will not perform any operations as the array is already sorted.<br>\n",
    "\n",
    "In conclusion, the Dutch National Flag problem algorithm described above can efficiently sort an array of 0’s, 1’s, and 2’s in linear time complexity without using predefined functions. The algorithm has a time complexity of O(n) and a space complexity of O(1).<br>"
   ]
  },
  {
   "cell_type": "code",
   "execution_count": null,
   "id": "d78671fb-1071-4ed2-9b07-b0c743aa43ee",
   "metadata": {},
   "outputs": [],
   "source": []
  }
 ],
 "metadata": {
  "kernelspec": {
   "display_name": "Python 3 (ipykernel)",
   "language": "python",
   "name": "python3"
  },
  "language_info": {
   "codemirror_mode": {
    "name": "ipython",
    "version": 3
   },
   "file_extension": ".py",
   "mimetype": "text/x-python",
   "name": "python",
   "nbconvert_exporter": "python",
   "pygments_lexer": "ipython3",
   "version": "3.10.8"
  }
 },
 "nbformat": 4,
 "nbformat_minor": 5
}
