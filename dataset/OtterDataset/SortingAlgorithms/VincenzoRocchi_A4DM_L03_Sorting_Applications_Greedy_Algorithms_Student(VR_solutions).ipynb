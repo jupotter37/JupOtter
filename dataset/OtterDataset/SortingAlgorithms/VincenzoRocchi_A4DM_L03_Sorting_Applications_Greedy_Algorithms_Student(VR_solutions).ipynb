{
 "cells": [
  {
   "attachments": {},
   "cell_type": "markdown",
   "metadata": {},
   "source": [
    "## Sorting Algorithms Application: Greedy Algorithms\n",
    "-------\n",
    "\n",
    "Optimization problems ask you to find a solution which maximizes or minimizes some objective functions. \n",
    "**Greedy algorithms** adopt a natural approach to find a optimal solution.\n",
    "\n",
    "Mentioning Wikipedia:\n",
    "*A greedy algorithm is any algorithm that follows the problem-solving heuristic of making the locally optimal choice at each stage. In many problems, a greedy strategy does not usually produce an optimal solution, but nonetheless, a greedy heuristic may yield locally optimal solutions that approximate a globally optimal solution in a reasonable amount of time.*\n",
    "\n",
    "------"
   ]
  },
  {
   "attachments": {},
   "cell_type": "markdown",
   "metadata": {},
   "source": [
    "### Exercise: Activity Selection Problem\n",
    "Activity selection problem is a problem in which a person has a list of works to do. \n",
    "\n",
    "Each of the activities has a starting time and ending time. \n",
    "\n",
    "We need to schedule the activities in such a way the person can complete a maximum number of activities. \n",
    "\n",
    "Since the timing of the activities  may overlap, so it might not be possible to complete all the activities and thus we need to schedule the activities in such a way that the maximum number of activities can be finished.\n",
    "\n",
    "Consider the following example.\n",
    "![alt text](activity_table.png \"Example\")\n",
    "\n",
    "A valid selection is activities 1 and 3. Hoverver, an optimal one is 2, 5, 1.\n",
    "\n",
    "We can illustrate the problem by drawing each activity as a rectangle whose left\n",
    "and right $x$-coordinates show the start and finish times. The goal is to find a\n",
    "largest subset of rectangles that do not overlap vertically.\n",
    "\n",
    "![alt text](activity.png \"Example\")"
   ]
  },
  {
   "cell_type": "code",
   "execution_count": null,
   "metadata": {},
   "outputs": [],
   "source": [
    "# Select the activity that starts first\n",
    "(0, 5) (1, 2) (2, 3) (3, 4)\n",
    "\n",
    "# Select shortest activities first\n",
    "(0, 3) (3, 6) (2, 4)\n",
    "\n",
    "# Select the activities with less overlaps\n",
    "### Try to find a counterexample for this! "
   ]
  },
  {
   "attachments": {},
   "cell_type": "markdown",
   "metadata": {},
   "source": [
    "There is an easy **Greedy algorithm** (you'll learn more in theory lectures soon) to find an optimal solution.\n",
    "\n",
    "- Sort activities by finishing time;\n",
    "- Iterate over the activities and select any activity that does not conflict with the previously selected ones.\n",
    "\n",
    "The algorithm runs in $\\Theta(n\\log n)$ time.\n",
    "\n",
    "Your goal is to implement and test this algorithm.\n",
    "\n",
    "Intuitively, we’d like the first activity to finish as early as possible,\n",
    "because that leaves us with the most remaining activities.\n",
    "\n",
    "If this greedy strategy works, it suggests the following very simple\n",
    "algorithm. Scan through the activities in order of finish time; whenever you\n",
    "encounter a activity that doesn’t conflict with your latest activity so far, take it!\n",
    "\n",
    "The above algorithm runs in $\\Theta(n\\log n)$ time.\n",
    "\n",
    "To prove that this algorithm actually gives us a maximal conflict-free selection, we use an\n",
    "*exchange argument*.\n",
    "\n",
    "We are not claiming that the greedy selection is the only maximal selection; there could be others, e.g., see figure above.\n",
    "\n",
    "All we can claim is that at least one of the maximal selections is the one that the\n",
    "greedy algorithm produces.\n",
    "\n",
    "**Lemma** \n",
    "*At least one maximal conflict-free selection includes the activity that finishes first.*\n",
    "\n",
    "The proof is as follows. \n",
    "\n",
    "- Let $f$ be the activity that finishes first. Suppose we have a maximal conflict-free selection $X$ that does not include $f$.\n",
    "\n",
    "- Let $g$ be the first activity in $X$ to finish.\n",
    "\n",
    "- Since $f$ finishes before $g$ does, $f$ cannot conflict with any activity in the set $X \\setminus \\{g\\}$.\n",
    "\n",
    "- Thus, the selection $X' = X \\cup \\{f\\} \\setminus \\{g\\}$ is also conflict-free.\n",
    "\n",
    "- Since $X'$ has the same size as $X$, it is also maximal.\n",
    "\n",
    "\n",
    "We use induction to complete the proof.\n",
    "\n",
    "**Lemma** \n",
    "*The greedy selection is an optimal selection.*\n",
    "\n",
    "The proof is as follows.\n",
    "\n",
    "- Let $f$ be the activity that finishes first, and let $L$ be the subset of activities the start after $f$ finishes.\n",
    "\n",
    "- The previous lemma implies that some optimal selection contains $f$, so the best selection that contains $f$ is an optimal selection.\n",
    "\n",
    "- The best selection that includes $f$ must contain an optimal selection for the activities that do not conflict with $f$, that is, an optimal selection for $L$.\n",
    "\n",
    "- The greedy algorithm chooses $f$ and then, by the inductive hypothesis, computes an optimal selection of activities from $L$.\n",
    "\n",
    "**This is a general proof approach** The basic structure of this correctness proof is an inductive exchange argument which applies to several other problems. \n",
    "\n",
    "- Assume that there is an optimal solution that is different from the greedy solution.\n",
    "- Find the ``first'' difference between the two solutions.\n",
    "- Argue that we can exchange the optimal choice for the greedy choice without degrading the solution.\n",
    "\n",
    "This argument implies by induction that some optimal solution that contains the entire greedy solution, and therefore equals the greedy solution.\n",
    "\n",
    "-----"
   ]
  },
  {
   "attachments": {},
   "cell_type": "markdown",
   "metadata": {},
   "source": [
    "**You goal**: implement the above solution to find the optimal selection from a list of activities, where each activity is a pair. Running time must be $\\Theta(n\\log n)$."
   ]
  },
  {
   "cell_type": "code",
   "execution_count": 1,
   "metadata": {},
   "outputs": [],
   "source": [
    "## your implementation here!!!\n",
    "\n",
    "def best_activities_selection(A):\n",
    "    \n",
    "    sorted_activities = sorted(A, key = lambda x: x[1])\n",
    "    best_selection = []\n",
    "    finish_time = sorted_activities[0][1]\n",
    "    best_selection.append(sorted_activities[0])\n",
    "    \n",
    "    for start, finish in sorted_activities:\n",
    "        activity = (start,finish)\n",
    "        \n",
    "        if start >= finish_time:\n",
    "            best_selection.append(activity)\n",
    "            finish_time = finish\n",
    "            \n",
    "    return best_selection"
   ]
  },
  {
   "cell_type": "code",
   "execution_count": 2,
   "metadata": {},
   "outputs": [
    {
     "data": {
      "text/plain": [
       "[(0, 2), (3, 4), (4, 6)]"
      ]
     },
     "execution_count": 2,
     "metadata": {},
     "output_type": "execute_result"
    }
   ],
   "source": [
    "## Test your implementation here\\\n",
    "    \n",
    "activities = [(4,6),(0,2),(1,3),(1,6),(3,4)]\n",
    "best_activities_selection(activities)"
   ]
  },
  {
   "attachments": {},
   "cell_type": "markdown",
   "metadata": {},
   "source": [
    "---\n",
    "\n",
    "### Exercise: Fractional Knapsack Problem\n",
    "\n",
    "![alt text](knapsack.png \"Example\")\n",
    "\n",
    "*We are given $n$ items. Each item $i$ has a value $v_i$ and a weight $w_i$. We need put a subset of these items in a knapsack of capacity $W$ to get the maximum total value in the knapsack.*\n",
    "\n",
    "This is a very popular [problem](https://en.wikipedia.org/wiki/Knapsack_problem).\n",
    "\n",
    "In the 0-1 Knapsack problem, we are not allowed to break items. We either take the whole item or do not take it.\n",
    "\n",
    "In Fractional Knapsack, we can break items for maximizing the total value of knapsack.\n",
    "\n",
    "\n",
    "As an example, consider three items: $v = \\{ 60, 100, 120\\}$ and $w = \\{10, 20, 30\\}$ and a knapsack of capacity $W = 50$.\n",
    "\n",
    "The maximum possible value is $240$ obtained by taking full items of $10$ and $20$ and $2/3$rd of last item of $30$.\n",
    "\n",
    "An efficient solution to find an optimal selection is to use the greedy approach.\n",
    "\n",
    "The basic idea of greedy approach is to calculate the ratio value/weight for each item and sort items in decreasing order of this ratio. Then, we take the item with highest ratio and add them until we cannot add the next item as whole and at the end add the next item as much as we can.\n",
    "\n",
    "This strategy always obtains an optimal solution of this problem.\n",
    "\n",
    "To see why associate a rectangle to each item. The rectangle of item $i$ has a\n",
    "base of size $w_i$ and a height of size $v_i$. The diagonal of this rectangle\n",
    "is a segment of slope $v_i/w_i$.\n",
    "\n",
    "Consider now any selection of items whose total weight equals $W$.\n",
    "\n",
    "We can sort the selected items in order of their ratio and draw the diagonals of their rectangles, one after the other.\n",
    "\n",
    "There cannot exist any assignment whose drawn is above the one of the greedy selection.\n",
    "\n",
    "![alt text](knapsack_proof.png \"Example of proof\")\n",
    "\n",
    "Instead, 0-1 Knapsack problem is NP-Hard."
   ]
  },
  {
   "attachments": {},
   "cell_type": "markdown",
   "metadata": {},
   "source": [
    "**Your goal:**\n",
    "Write a function ```fractional_knapsack(L,W)``` which takes a list L of pairs *(value, weight)* and the capacity $W$ and returns maximum possible value we can obtain by selecting items.  "
   ]
  },
  {
   "cell_type": "code",
   "execution_count": null,
   "metadata": {},
   "outputs": [],
   "source": [
    "## Your implementation goes here\n",
    "\n",
    "import functools\n",
    "def fractional_knapsack(L,W):\n",
    "    \n",
    "    def Knapsack_cmp(a,b):\n",
    "        if a[0]/a[1] > b[0]/b[1]: return -1\n",
    "        elif a[0]/a[1] < b[0]/b[1]: return 1\n",
    "        else: return 0\n",
    "        \n",
    "    L_sorted = sorted(L, key=functools.cmp_to_key(Knapsack_cmp))\n",
    "    best_item_value = 0\n",
    "\n",
    "    for v,w in L_sorted: #if fits just put it inside\n",
    "        if W - w >= 0:\n",
    "            best_item_value += v\n",
    "            W -= w\n",
    "        else: # the \n",
    "            fittable_fraction = W/w\n",
    "            best_item_value += fittable_fraction * v\n",
    "            W = 0\n",
    "            break\n",
    "        \n",
    "    return best_item_value"
   ]
  },
  {
   "cell_type": "code",
   "execution_count": 4,
   "metadata": {},
   "outputs": [],
   "source": [
    "## Test your implementation here\n",
    "\n",
    "L = [(60, 10), (100, 20), (120, 30)]\n",
    "\n",
    "assert fractional_knapsack(L, 50) == 240.0, \"Fail!\"\n",
    "\n",
    "L = [(30, 5), (40, 10), (45, 15), (77, 22), (90, 25)]\n",
    "\n",
    "assert fractional_knapsack(L, 60) == 230.0, \"Fail!\"\n",
    "\n",
    "assert fractional_knapsack(L, 15) == 70.0,  \"Fail!\"\n",
    "\n",
    "assert fractional_knapsack(L, 10) == 50.0,  \"Fail!\""
   ]
  },
  {
   "cell_type": "code",
   "execution_count": null,
   "metadata": {},
   "outputs": [],
   "source": []
  }
 ],
 "metadata": {
  "kernelspec": {
   "display_name": "Python 3 (ipykernel)",
   "language": "python",
   "name": "python3"
  },
  "language_info": {
   "codemirror_mode": {
    "name": "ipython",
    "version": 3
   },
   "file_extension": ".py",
   "mimetype": "text/x-python",
   "name": "python",
   "nbconvert_exporter": "python",
   "pygments_lexer": "ipython3",
   "version": "3.9.12"
  },
  "latex_envs": {
   "LaTeX_envs_menu_present": true,
   "autoclose": false,
   "autocomplete": true,
   "bibliofile": "biblio.bib",
   "cite_by": "apalike",
   "current_citInitial": 1,
   "eqLabelWithNumbers": true,
   "eqNumInitial": 1,
   "hotkeys": {
    "equation": "Ctrl-E",
    "itemize": "Ctrl-I"
   },
   "labels_anchors": false,
   "latex_user_defs": false,
   "report_style_numbering": false,
   "user_envs_cfg": false
  },
  "varInspector": {
   "cols": {
    "lenName": 16,
    "lenType": 16,
    "lenVar": 40
   },
   "kernels_config": {
    "python": {
     "delete_cmd_postfix": "",
     "delete_cmd_prefix": "del ",
     "library": "var_list.py",
     "varRefreshCmd": "print(var_dic_list())"
    },
    "r": {
     "delete_cmd_postfix": ") ",
     "delete_cmd_prefix": "rm(",
     "library": "var_list.r",
     "varRefreshCmd": "cat(var_dic_list()) "
    }
   },
   "types_to_exclude": [
    "module",
    "function",
    "builtin_function_or_method",
    "instance",
    "_Feature"
   ],
   "window_display": false
  }
 },
 "nbformat": 4,
 "nbformat_minor": 4
}
