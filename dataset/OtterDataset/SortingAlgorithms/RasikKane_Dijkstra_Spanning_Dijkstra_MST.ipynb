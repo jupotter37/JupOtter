{
 "cells": [
  {
   "cell_type": "markdown",
   "metadata": {},
   "source": [
    "# Graph traversal using Dijkstra algorithm and Spanning Tree "
   ]
  },
  {
   "cell_type": "code",
   "execution_count": 1,
   "metadata": {},
   "outputs": [],
   "source": [
    "import math\n",
    "import networkx as nx\n",
    "import matplotlib.pyplot as plt\n",
    "import sys\n",
    "from time import perf_counter\n",
    "import timeit"
   ]
  },
  {
   "cell_type": "markdown",
   "metadata": {},
   "source": [
    "## Graph traversal"
   ]
  },
  {
   "cell_type": "markdown",
   "metadata": {},
   "source": [
    "### Draw Graph"
   ]
  },
  {
   "cell_type": "markdown",
   "metadata": {},
   "source": [
    "<img src=\"files/images/graph.JPG\">"
   ]
  },
  {
   "cell_type": "markdown",
   "metadata": {},
   "source": [
    "### DFS traversal\n",
    "**starting at vertex 1**"
   ]
  },
  {
   "cell_type": "markdown",
   "metadata": {},
   "source": [
    "$Nodes\\ Visited$: ('1', '2'), ('2', '3'), ('3', '4'), ('4', '6'), ('6', '5'), ('5', '7'), ('7', '8')<br>\n",
    "$Traversal$ : ['1','2','3','4','6','5','7','8']"
   ]
  },
  {
   "cell_type": "markdown",
   "metadata": {},
   "source": [
    "BFS works on principal “Traversal by leaves”.The algorithm starts at the root node and tries to go as deep as possible in a branch till it starts backtracking. To ensure that neighbour from same rank is not traversed till depths are scanned, stack data structure is used.<br>\n",
    "\n",
    "$Algorithm$<br>\n",
    "* Pick start vertex n and end vertices[i.e. all remaining connected vertices]\n",
    "* Initialise empty stack and assign it to to_visit list\n",
    "* Add n to to_visit\n",
    "* while to_visit is not empty do:\n",
    "    * pop “to_visit” into current\n",
    "    * push all unvisited neightbours of current on to_visit"
   ]
  },
  {
   "cell_type": "markdown",
   "metadata": {},
   "source": [
    "### BFS traversal\n",
    "**starting at vertex 1**"
   ]
  },
  {
   "cell_type": "markdown",
   "metadata": {},
   "source": [
    "BFS works on principal “Traversal by rank”. Staring from a node assigned as root node, its neighbours are traversed in sequence successively. To ensure that neighbour from lower rank is not traversed, queue data structure is used.<br>\n",
    "\n",
    "$Algorithm$\n",
    "* Pick start vertex n and end vertices[i.e. all remaining connected vertices]\n",
    "* Enqueue n to list “to visit”, initialise list “visited’\n",
    "* Repeat until “to visit” is not empty:\n",
    "    * Dequeue “to visit” into current\n",
    "    * Enqueue nCurrent into “visited”\n",
    "    * For each neighbour nNeightbour of nCurrent which is not in “visited” do:\n",
    "        * Enqueue nNeightbour to “to visit”"
   ]
  },
  {
   "cell_type": "markdown",
   "metadata": {},
   "source": [
    "$Nodes\\ Visited$: ('1', '2'), ('1', '3'), ('1', '4'), ('4', '6'), ('6', '5'), ('6', '7'), ('5', '8')<br>\n",
    "$Traversal$ : ['1','2','3','4','6','5','7','8']"
   ]
  },
  {
   "cell_type": "markdown",
   "metadata": {},
   "source": [
    "### Conclusion\n",
    "* DFS and BFS traversal for this case are same\n",
    "* Though visited node order is same, branches with which nodes are accessed are clearely different and it is evident that this happened due to clustering in graph"
   ]
  },
  {
   "cell_type": "markdown",
   "metadata": {},
   "source": [
    "<br><br>"
   ]
  },
  {
   "cell_type": "markdown",
   "metadata": {},
   "source": [
    "## Dijkstra Algorithm"
   ]
  },
  {
   "cell_type": "markdown",
   "metadata": {},
   "source": [
    "### Apply Dijkstra's algorithm to find shortest path\n",
    "$PROBLEM$<br>\n",
    "\n",
    "* Apply Dijkstra's algorithm to find the shortest path in the given graph.\n",
    "* Run algorithm starting at node $A$ and terminating on node $G$\n",
    "* At each step :\n",
    "    * Indicate nodes visited till then\n",
    "    * Indicate path value between start node (A) and current node calculated till then\n",
    "    * What are best known path for all visible nodes till then\n",
    "<img src=\"files/images/problemGraph.JPG\">    \n",
    "<br>\n",
    "\n",
    "$ALGORITHM$<br>\n",
    "\n",
    "function dijkstra:<br>\n",
    "Input: a graph G, a node n<br>\n",
    "Output: each node of G gets the shortest distance from n<br>\n",
    "\n",
    "* for each node c of G not n do\n",
    "    * distance[c] $\\leftarrow$  infinity\n",
    "* endfor\n",
    "\n",
    "* distance[n] $\\leftarrow$  0\n",
    "* current $\\leftarrow$  n\n",
    "* visited $\\leftarrow$  {n}\n",
    "* while visited does not contain all nodes of G do\n",
    "\n",
    "    * for each node c neighbour of current and not visited do<br>\n",
    "        /# is new route to neighbour better? min(|n|+|n--c| and |c|)<br>\n",
    "        * distance[c] $\\leftarrow$  min(distance[n] + weight(current, c),distance[c])<br>\n",
    "    * endfor    \n",
    "      /# set next node to search from - lowest of all non-visited<br>\n",
    "    * current $\\leftarrow$  non visited node with smallest value<br>\n",
    "    * add current to visited<br>\n",
    "\n",
    "* endwhile<br>\n",
    "\n",
    "<br><br>"
   ]
  },
  {
   "cell_type": "markdown",
   "metadata": {},
   "source": [
    "$SOLUTION$<br>"
   ]
  },
  {
   "cell_type": "markdown",
   "metadata": {},
   "source": [
    "**FOLLOWING SOLUTION WALKS THOUGH STEPWISE EXPLORATION FOR MINIMUM DISTANCE PATH USING DIJKSTRA ALGORITHM**<br><br>\n",
    "Note:<br> \n",
    "* Negative index steps [1,3,7..] are **visit steps** where an explored node with minimum weight is inducted into minimum path tree\n",
    "* Positive index steps [2,4,6..] are **exploratory steps** where adjascent univisted nodes of new inducted node are viewed and their minimum distance is updated to find out nearest node\n",
    "<br><br>\n",
    "\n",
    "***Initially, all nodes are passive, with infinite minimum distance***<br>\n",
    "$[1]$<br>\n",
    "Algorithm starts with root node *A*; which is marked visited and its minimum distance i.e. **KNOWN PATH COST FROM SOURCE NODE** is set to 0 <br>\n",
    "$[2]$<br>\n",
    "All adjascent nodes to root node are explored. Node *B,H,E* are visible to *A*; hence their path costs change to weight of edge. As it turns out, nearest node is node *B*. Minimum distance paths are - <br>\n",
    "A : {A} **0** ;        B : {A,B} **5** ;        H : {A,H} **8** ;        E : {A,E} **9**<br>\n",
    "$[3]$<br>\n",
    "Node *B* is inducted in \"visited\" list<br>\n",
    "$[4]$<br>\n",
    "Unvisited neightbours of latest node added i.e. *B* are explored. Node *C,D,H* are visible to *B*; hence their path costs changes if greater than (weight of edge + Min path cost of *B*). As it turns out, no node is nearer than previously explored node *H* to root node through node *B*. Minimum distance paths are - <br>\n",
    "A : {A} **0** ;        B : {A,B} **5** ;        H : {A,H} **8** ;        E : {A,E} **9** ;        C : {A,B,C} **17** ;        D : {A,B,D} **20**<br>\n",
    "$[5]$<br>\n",
    "Node *H* is inducted in \"visited\" list<br>\n",
    "$[6]$<br>\n",
    "Unvisited neightbours of latest node added i.e. *H* are explored. Node *E,F,C* are visible to *H*; hence their path costs changes if greater than (weight of edge + Min path cost of *H*). As it turns out, no node is nearer than previously explored node *E* to root node through node *H*. Minimum distance paths are - <br>\n",
    "A : {A} **0** ;        B : {A,B} **5** ;        H : {A,H} **8** ;        E : {A,E} **9** ;        C : {A,H,C} **15** ;        D : {A,B,D} **20** ;        F : {A,H,F} **14**<br>\n",
    "$[7]$<br>\n",
    "Node *E* is inducted in \"visited\" list<br>\n",
    "$[8]$<br>\n",
    "Unvisited neightbours of latest node added i.e. *E* are explored. Node *F,G* are visible to *E*; hence their path costs changes if greater than (weight of edge + Min path cost of *E*). As it turns out, node *F* is nearer to root node through node *E*. Minimum distance paths are - <br>\n",
    "A : {A} **0** ;        B : {A,B} **5** ;        H : {A,H} **8** ;        E : {A,E} **9** ;        C : {A,H,C} **15** ;        D : {A,B,D} **20** ;        F : {A,E,F} **13** ;        G : {A,E,G} **29**<br>\n",
    "<br><br>\n",
    "This process continues till all nodes acessible to root node *A* are explored. At later stages, Minimum distances change as follows:<br>\n",
    "$[10]$<br>\n",
    "A : {A} **0** ;        B : {A,B} **5** ;        H : {A,H} **8** ;        E : {A,E} **9** ;        C : {A,E,F,C} **14** ;        D : {A,B,D} **20** ;        F : {A,E,F} **13** ;        G : {A,E,F,G} **26**<br>\n",
    "$[12]$<br>\n",
    "A : {A} **0** ;        B : {A,B} **5** ;        H : {A,H} **8** ;        E : {A,E} **9** ;        C : {A,H,C} **15** ;        D : {A,A,E,F,C,D} **17** ;        F : {A,E,F} **13** ;        G : {A,E,F,C,G} **25**<br>\n",
    "$[14]$<br>\n",
    "A : {A} **0** ;        B : {A,B} **5** ;        H : {A,H} **8** ;        E : {A,E} **9** ;        C : {A,H,C} **15** ;        D : {A,A,E,F,C,D} **17** ;        F : {A,E,F} **13** ;        G : {A,E,F,C,G} **25**<br>\n",
    "\n"
   ]
  },
  {
   "cell_type": "markdown",
   "metadata": {},
   "source": [
    "<img src=\"files/images/legend.JPG\">\n",
    "<img src=\"files/images/Dijkstra1.JPG\">\n",
    "<img src=\"files/images/Dijkstra2.JPG\">\n",
    "<br><br>"
   ]
  },
  {
   "cell_type": "markdown",
   "metadata": {},
   "source": [
    "### Varify above solution using networkX Python package\n",
    "$PROBLEM$<br>\n",
    "\n",
    "* create an empty weighted graph, G\n",
    "* add vertices (nodes) with their weights given in figure 1 to G\n",
    "* draw G. For the position (pos) parameter, one can adopt either the nx.spring_layout(G) method which will compute a random layout for user, or a user-defined dictionary with node as keys and values as a coordinate list or tuple\n",
    "* Compute all shortest paths and distances between vertex A and all other reachable vertices in the graph using Dijkstra’s algorithm. For each vertex, print a list that contains its shortest path with the minimum distance.\n",
    "* draw a graph of shortest path tree (i.e. the same graph G but after removing all unwanted edges, the edges are not included in shortest path tree).\n",
    "<br><br>"
   ]
  },
  {
   "cell_type": "markdown",
   "metadata": {},
   "source": [
    "$SOLUTION$"
   ]
  },
  {
   "cell_type": "markdown",
   "metadata": {},
   "source": [
    "#### Support function : display_graph()\n",
    "* This function intakes a graph(or Tree), positions of nodes and edge lables consisting edge nodes and weight\n",
    "* It successively plot nodes, edges, labels of nodes, labels of edges on a plane\n",
    "* This plotting is possible since networkX is built on matplotlib"
   ]
  },
  {
   "cell_type": "code",
   "execution_count": 8,
   "metadata": {},
   "outputs": [],
   "source": [
    "def display_graph(G,pos,edgeLabels):\n",
    "    nx.draw_networkx_nodes(G, pos, node_size=800, alpha=.9, node_color='#0000ac')\n",
    "    nx.draw_networkx_edges(G, pos,width=2, alpha=0.5, edge_color='k')\n",
    "    nx.draw_networkx_edge_labels(G,pos,edge_labels=edgeLabels)\n",
    "    nx.draw_networkx_labels(G, pos, font_size=18, font_family='sans-serif', font_color='white')\n",
    "    plt.ylim([-4.5,1.3])\n",
    "    limits=plt.axis('off') # turn of axis    "
   ]
  },
  {
   "cell_type": "markdown",
   "metadata": {},
   "source": [
    "#### Create Empty graph"
   ]
  },
  {
   "cell_type": "code",
   "execution_count": 9,
   "metadata": {},
   "outputs": [],
   "source": [
    "G = nx.Graph()"
   ]
  },
  {
   "cell_type": "markdown",
   "metadata": {},
   "source": [
    "#### Insert nodes and weighted edges "
   ]
  },
  {
   "cell_type": "markdown",
   "metadata": {},
   "source": [
    "Goal of this task is implementing shortest path algorithm which was manually learned in [2.2.1](#Apply-Dijkstra's-algorithm-to-find-shortest-path)\n",
    "* Simple graph is created by adding nodes defined in problem statement\n",
    "* Edges connecting nodes are added with corresponding weights"
   ]
  },
  {
   "cell_type": "code",
   "execution_count": 10,
   "metadata": {},
   "outputs": [],
   "source": [
    "G.add_node('A')\n",
    "G.add_node('B')\n",
    "G.add_node('C')\n",
    "G.add_node('D')\n",
    "G.add_node('E')\n",
    "G.add_node('F')\n",
    "G.add_node('G')\n",
    "G.add_node('H')\n",
    "\n",
    "G.add_edge('A', 'B',weight=5)\n",
    "G.add_edge('A', 'E',weight=9)\n",
    "G.add_edge('A', 'H',weight=8)\n",
    "G.add_edge('B', 'C',weight=12)\n",
    "G.add_edge('B', 'D',weight=15)\n",
    "G.add_edge('B', 'H',weight=4)\n",
    "G.add_edge('C', 'D',weight=3)\n",
    "G.add_edge('C', 'F',weight=1)\n",
    "G.add_edge('C', 'G',weight=11)\n",
    "G.add_edge('C', 'H',weight=7)\n",
    "G.add_edge('D', 'G',weight=9)\n",
    "G.add_edge('E', 'F',weight=4)\n",
    "G.add_edge('E', 'G',weight=20)\n",
    "G.add_edge('E', 'H',weight=5)\n",
    "G.add_edge('F', 'G',weight=13)\n",
    "G.add_edge('F', 'H',weight=6)\n",
    "G.add_edge('F', 'H',weight=6)"
   ]
  },
  {
   "cell_type": "markdown",
   "metadata": {},
   "source": [
    "#### Display graph"
   ]
  },
  {
   "cell_type": "markdown",
   "metadata": {},
   "source": [
    "* Graph G is built and displayed in bellow cell\n",
    "* As can be observed, it matches graph in problem statement and cann be operated upon\n",
    "* function ***get_edge_attributes()*** from networkX library provides all edges with cooresponding weights for plotting "
   ]
  },
  {
   "cell_type": "code",
   "execution_count": 11,
   "metadata": {},
   "outputs": [
    {
     "data": {
      "image/png": "[encoded data removed]",
      "text/plain": [
       "<Figure size 432x288 with 1 Axes>"
      ]
     },
     "metadata": {},
     "output_type": "display_data"
    }
   ],
   "source": [
    "edgeLabels = nx.get_edge_attributes(G,'weight')\n",
    "\n",
    "pos= {'A': [-0.75, 0.4], 'B': [0,0.9], 'C': [0.5,-1.2], 'D': [0.75, 0.4], 'E': [-0.75, -3], 'F': [0, -2], 'G': [0.75, -3], 'H': [ -0.5,-1.2]}\n",
    "\n",
    "display_graph(G,pos,edgeLabels)"
   ]
  },
  {
   "cell_type": "markdown",
   "metadata": {},
   "source": [
    "#### Obtain Minimum distance paths from source node to all nodes"
   ]
  },
  {
   "cell_type": "markdown",
   "metadata": {},
   "source": [
    "* As directed, we shall use *networkX* library to ontain minimum distance path between node A and remaining nodes\n",
    "* ***all_pairs_dijkstra()*** functiontakes weighted graph as input and returns all paths[*path*] for perticular node[*n*] alongwith its minimum distance to all reachable nodes[*dist*]\n",
    "* Since, we have a to calculate minimum distance tree from **root node A**, we have wrapped *all_pairs_dijkstra()* in a support function **find_Distance()**\n",
    "    * find_Distance() inputs diected graph *G* and root node *source*\n",
    "    * It returns -\n",
    "        * all nodes reachable to root node **AND**\n",
    "        * minimum distance paths to the nodes from root node "
   ]
  },
  {
   "cell_type": "code",
   "execution_count": 12,
   "metadata": {
    "scrolled": true
   },
   "outputs": [],
   "source": [
    "def find_Distance(G,source):\n",
    "    paths,nodes =[],[]\n",
    "    for n, (dist, path) in nx.all_pairs_dijkstra(G):\n",
    "        print(\"Distance between nodes {} and {} : {}\\t Path = {}\".format(source,n,dist[source],list(reversed(path[source]))))\n",
    "        paths.append(list(reversed(path[source])))\n",
    "        nodes.append(n)\n",
    "    return paths,nodes\n",
    "tree_travrsal = ['1', '8', '2', '5', '3', '4', '6', '7']"
   ]
  },
  {
   "cell_type": "markdown",
   "metadata": {},
   "source": [
    "#### Display resullts of traversal"
   ]
  },
  {
   "cell_type": "code",
   "execution_count": 13,
   "metadata": {
    "scrolled": false
   },
   "outputs": [
    {
     "name": "stdout",
     "output_type": "stream",
     "text": [
      "Distance between nodes A and A : 0\t Path = ['A']\n",
      "Distance between nodes A and B : 5\t Path = ['A', 'B']\n",
      "Distance between nodes A and C : 14\t Path = ['A', 'E', 'F', 'C']\n",
      "Distance between nodes A and D : 17\t Path = ['A', 'E', 'F', 'C', 'D']\n",
      "Distance between nodes A and E : 9\t Path = ['A', 'E']\n",
      "Distance between nodes A and F : 13\t Path = ['A', 'E', 'F']\n",
      "Distance between nodes A and G : 25\t Path = ['A', 'E', 'F', 'C', 'G']\n",
      "Distance between nodes A and H : 8\t Path = ['A', 'H']\n"
     ]
    }
   ],
   "source": [
    "paths,nodes = find_Distance(G,'A')  "
   ]
  },
  {
   "cell_type": "markdown",
   "metadata": {},
   "source": [
    "#### Generate Minimum distance tree"
   ]
  },
  {
   "cell_type": "markdown",
   "metadata": {},
   "source": [
    "*networkX* library does not provide built in function to generate minimum distance tree for a graph given a root node to start with.\n",
    "* Hence, support function **make_minDistanceTree()** is written\n",
    "* It operates on results generated by **find_Distance()** : nodes **AND** minimum distance paths for them\n",
    "    * Empty graph T is created\n",
    "    * All *nodes* are added to the tree\n",
    "    * For each minimum distance path:\n",
    "        * Add all weighted edges which make up minimum distance path in graph G $\\rightarrow$ to graph T\n",
    "    * Return graph T [***which is a weighted tree***]"
   ]
  },
  {
   "cell_type": "code",
   "execution_count": 14,
   "metadata": {},
   "outputs": [],
   "source": [
    "def make_minDistanceTree(paths,nodes):\n",
    "    T = nx.Graph()\n",
    "    for node in nodes:\n",
    "        T.add_node(node)\n",
    "\n",
    "    for path in paths[1:]:\n",
    "        for i in range(len(path)-1):\n",
    "            if G.has_edge(path[i], path[i+1]):\n",
    "                T.add_edge(path[i], path[i+1],weight= G[path[i]][path[i+1]]['weight'])\n",
    "    \n",
    "    return T\n"
   ]
  },
  {
   "cell_type": "markdown",
   "metadata": {},
   "source": [
    "#### Form and display minimum ditsance tree"
   ]
  },
  {
   "cell_type": "markdown",
   "metadata": {},
   "source": [
    "* $Minimum\\ Distance\\ Tree$ is created and displayed bellow\n",
    "* Weighted bfs traversal of this tree would give any necessary minimum distance path between node and root node \n",
    "* Position of nodes is manually set for readability of users of this notebook"
   ]
  },
  {
   "cell_type": "code",
   "execution_count": 15,
   "metadata": {},
   "outputs": [
    {
     "data": {
      "image/png": "[encoded data removed]",
      "text/plain": [
       "<Figure size 432x288 with 1 Axes>"
      ]
     },
     "metadata": {},
     "output_type": "display_data"
    }
   ],
   "source": [
    "T = make_minDistanceTree(paths,nodes)\n",
    "\n",
    "edgeLabels = nx.get_edge_attributes(T,'weight')\n",
    "\n",
    "pos= {'A': [0, 0.8], 'B': [0, -1], 'C': [-0.5, -3], 'D': [-1, -4], 'E': [-0.5, -1], 'F': [-1, -2], 'G': [0.5, -4], 'H': [ 0.5, -1]}\n",
    "\n",
    "display_graph(T,pos,edgeLabels)"
   ]
  },
  {
   "cell_type": "markdown",
   "metadata": {},
   "source": [
    "<br><br>"
   ]
  },
  {
   "cell_type": "markdown",
   "metadata": {},
   "source": [
    "## MINIMUM SPANNING TREE"
   ]
  },
  {
   "cell_type": "markdown",
   "metadata": {},
   "source": [
    "### Generate Minimum Spanning Tree to minimise construction cost of bridges between islands\n",
    "$PROBLEM$<br>\n",
    "\n",
    "* A lake contains 8 islands; which need to be connected by bridges. Cost of constructing bridge between each possible pair of islands is proportional to path costs.\n",
    "* Task is to find optimal bridges to be constructed so that overll path cost is minimised.\n",
    "* Apply Prims's minimum spanning tree algorithm to find which bridges should be built to minimise total construction cost\n",
    "* Run algorithm starting at node $1$\n",
    "* At each step :\n",
    "    * Minimum cost edge connecting new node to the MST\n",
    "    * Edges in MST\n",
    "<br><br>\n",
    "* **Problem needs to be converted into Minimum Spanning Tree**. To start with, a graph is created out of adhascency matrix as shown bellow.\n",
    "<img src=\"files/images/problemMST.JPG\">\n",
    "\n",
    "<br>\n",
    "\n",
    "$ALGORITHM$<br>\n",
    "\n",
    "function Prim_MST:<br>\n",
    "\n",
    "Input: a connected undirected weighted graph G<br>\n",
    "Output: T a minimum spanning tree based on G<br>\n",
    "\n",
    "* visited $\\leftarrow$  frandom nodeg\n",
    "* while visited does not contain all nodes from G do\n",
    "    * minimum $\\leftarrow$  random edge (m,n) with m in visited and n not in visited and no cycle <br>\n",
    "    * for all node n not in visited reachable from node m in visited do\n",
    "        * if weight of edge (m, n) $<$  weight of minimum and no cycle\n",
    "            * minimum $\\leftarrow$  edge (m, n)<br>\n",
    "        * endif<br>\n",
    "    * endfor\n",
    "    * add n in minimum to visited\n",
    "    * add edge minimum to T\n",
    "* endwhile\n",
    "* return T\n",
    "\n",
    "<br><br>"
   ]
  },
  {
   "cell_type": "markdown",
   "metadata": {},
   "source": [
    "$SOLUTION$<br><br>"
   ]
  },
  {
   "cell_type": "markdown",
   "metadata": {},
   "source": [
    "**FOLLOWING SOLUTION WALKS THOUGH STEPWISE EXPLORATION FOR PRIMS'S MINIMUM SPANNING TREE ALGORITHM**<br><br>\n",
    "Note:<br> \n",
    "* Negative index steps [1,3,7..] are **visit steps** where an explored node with minimum weight is inducted into minimum path tree\n",
    "* Positive index steps [2,4,6..] are **exploratory steps** where adjascent univisted nodes of new inducted node are viewed and their minimum distance is updated to find out nearest node\n",
    "\n",
    "$AT\\ EACH\\ STAGE,\\ EDGES\\ WHICH\\ ARE\\ PART \\ OF\\ MST\\ ARE\\ SHOWN\\ IN\\ RED\\ COLOUR$\n",
    "<br><br>\n",
    "\n",
    "***Initially, all nodes are passive, with infinite minimum distance***<br>\n",
    "$[1]$<br>\n",
    "Algorithm starts with root node *1*; which is marked visited<br>\n",
    "$[2]$<br>\n",
    "All adjascent nodes to  visited nodesare explored.This being fully connected graph, all nodes are neighbours of each other. As it turns out, nearest node is node *8*. Distance is **{1,8} : 120** <br>\n",
    "$[3]$<br>\n",
    "Node *8* is inducted in \"visited\" list<br>\n",
    "$[4]$<br>\n",
    "All adjascent nodes to visited nodes *1* and *8* are explored.This being fully connected graph, all nodes are neighbours of each other. As it turns out, nearest node is node *2* connected to node *8*. Distance is **{2,8} : 155** <br>\n",
    "<br>\n",
    "This process continuous till all nodes in graph are connected. Final edge vector of graph is:<br>\n",
    "**('1', '8'): 120,$\\ \\ $('2', '8'): 155,$\\ \\ $('5', '8'): 170,$\\ \\ $('3', '5'): 115,$\\ \\ $('4', '5'): 160,$\\ \\ $('2', '6'): 180,$\\ \\ $('6', '7'): 175**\n"
   ]
  },
  {
   "cell_type": "markdown",
   "metadata": {},
   "source": [
    "<img src=\"files/images/legendMST.JPG\">\n",
    "<img src=\"files/images/mst1.JPG\">\n",
    "<img src=\"files/images/mst2.JPG\">\n",
    "<img src=\"files/images/mst3.JPG\">\n",
    "<br><br>"
   ]
  },
  {
   "cell_type": "markdown",
   "metadata": {},
   "source": [
    "### Varify solution using networkX Python package\n",
    "$PROBLEM$<br>\n",
    "\n",
    "* create an empty weighted graph, G\n",
    "* add vertices (nodes) with their weights given in table 2 to G\n",
    "* draw G. For the position (pos) parameter, one can adopt either the nx.spring_layout(G) method which will compute a random layout for user, or a user-defined dictionary with node as keys and values as a coordinate list or tuple,\n",
    "* to compute the MST using Prim’s algorithm. As an output, print a list that contains the minimum spanning tree.\n",
    "* draw the MST graph (i.e. the same graph G but after removing all unwanted edges, the edges are not included in MST).\n",
    "<br><br>"
   ]
  },
  {
   "cell_type": "markdown",
   "metadata": {},
   "source": [
    "$SOLUTION$"
   ]
  },
  {
   "cell_type": "markdown",
   "metadata": {},
   "source": [
    "#### Create Empty graph"
   ]
  },
  {
   "cell_type": "code",
   "execution_count": 16,
   "metadata": {},
   "outputs": [],
   "source": [
    "G = nx.Graph()"
   ]
  },
  {
   "cell_type": "markdown",
   "metadata": {},
   "source": [
    "#### Insert nodes and weighted edges\n",
    "* **Nodes** of graph are representing **Islands** in the lake\n",
    "* Whereas, **distances** between all pairs of islands are reresented by **weighted edges** "
   ]
  },
  {
   "cell_type": "code",
   "execution_count": 17,
   "metadata": {},
   "outputs": [],
   "source": [
    "G.add_node('1')\n",
    "G.add_node('2')\n",
    "G.add_node('3')\n",
    "G.add_node('4')\n",
    "G.add_node('5')\n",
    "G.add_node('6')\n",
    "G.add_node('7')\n",
    "G.add_node('8')\n",
    "\n",
    "G.add_edge('1', '2',weight=240)\n",
    "G.add_edge('1', '3',weight=210)\n",
    "G.add_edge('1', '4',weight=340)\n",
    "G.add_edge('1', '5',weight=280)\n",
    "G.add_edge('1', '6',weight=200)\n",
    "G.add_edge('1', '7',weight=345)\n",
    "G.add_edge('1', '8',weight=120)\n",
    "G.add_edge('2', '3',weight=265)\n",
    "G.add_edge('2', '4',weight=175)\n",
    "G.add_edge('2', '5',weight=215)\n",
    "G.add_edge('2', '6',weight=180)\n",
    "G.add_edge('2', '7',weight=185)\n",
    "G.add_edge('2', '8',weight=155)\n",
    "G.add_edge('3', '4',weight=260)\n",
    "G.add_edge('3', '5',weight=115)\n",
    "G.add_edge('3', '6',weight=350)\n",
    "G.add_edge('3', '7',weight=435)\n",
    "G.add_edge('3', '8',weight=195)\n",
    "G.add_edge('4', '5',weight=160)\n",
    "G.add_edge('4', '6',weight=330)\n",
    "G.add_edge('4', '7',weight=295)\n",
    "G.add_edge('4', '8',weight=230)\n",
    "G.add_edge('5', '6',weight=360)\n",
    "G.add_edge('5', '7',weight=400)\n",
    "G.add_edge('5', '8',weight=170)\n",
    "G.add_edge('6', '7',weight=175)\n",
    "G.add_edge('6', '8',weight=205)\n",
    "G.add_edge('7', '8',weight=305)\n",
    "\n"
   ]
  },
  {
   "cell_type": "markdown",
   "metadata": {},
   "source": [
    "#### Display graph"
   ]
  },
  {
   "cell_type": "markdown",
   "metadata": {},
   "source": [
    "* Graph is visualised to observe path costs involved between all nodes at a glance\n",
    "* Since this is 8 node grpah, 28 bidirection weighted edges are present in the graph"
   ]
  },
  {
   "cell_type": "code",
   "execution_count": 18,
   "metadata": {},
   "outputs": [
    {
     "data": {
      "image/png": "[encoded data removed]",
      "text/plain": [
       "<Figure size 432x288 with 1 Axes>"
      ]
     },
     "metadata": {},
     "output_type": "display_data"
    }
   ],
   "source": [
    "edgeLabels = nx.get_edge_attributes(G,'weight')\n",
    "\n",
    "pos= {'1': [-0.75, 0.4], '2': [0,0.9], '3': [0.75, 0.4], '4': [1, -1.2], '5': [0.75, -3], '6': [0,-4], '7': [-0.75, -3], '8': [ -1,-1.2]}\n",
    "\n",
    "display_graph(G,pos,edgeLabels)"
   ]
  },
  {
   "cell_type": "markdown",
   "metadata": {},
   "source": [
    "#### Compute MST and display as a list"
   ]
  },
  {
   "cell_type": "markdown",
   "metadata": {},
   "source": [
    "* $networkX$ library suggested for this exercise provides function ***minimum_spanning_tree()** to obtain MST for a given graph\n",
    "* It accepts a weighted graph as positional input.\n",
    "* Keyword argument 'algorithm' provides user choice to opt for ‘kruskal’, ‘prim’, or ‘boruvka’ algorithms for MST formation."
   ]
  },
  {
   "cell_type": "code",
   "execution_count": 19,
   "metadata": {},
   "outputs": [
    {
     "name": "stdout",
     "output_type": "stream",
     "text": [
      "Minimum spanning tree traversed ['1', '8', '2', '5', '3', '4', '6', '7']\n"
     ]
    }
   ],
   "source": [
    "T=nx.minimum_spanning_tree(G,algorithm='prim')\n",
    "tree_traversal =  ((list(nx.bfs_tree(T, source='1', depth_limit=4))))\n",
    "print(\"Minimum spanning tree traversed\",tree_travrsal)\n",
    "\n"
   ]
  },
  {
   "cell_type": "markdown",
   "metadata": {},
   "source": [
    "#### Display minimum spanning tree"
   ]
  },
  {
   "cell_type": "markdown",
   "metadata": {},
   "source": [
    "* Obtained MST is printed using \"draw\" class function of networkX library\n",
    "* As can be seen, **characteristics for a Minimum Spanning Tree** are satisfied:<br>\n",
    "\n",
    "    * ***No cycyles exist between nodes***\n",
    "    * ***All nodes are connected with minimal overall path cost***"
   ]
  },
  {
   "cell_type": "code",
   "execution_count": 20,
   "metadata": {},
   "outputs": [
    {
     "name": "stdout",
     "output_type": "stream",
     "text": [
      "{('1', '8'): 120, ('2', '8'): 155, ('2', '6'): 180, ('3', '5'): 115, ('4', '5'): 160, ('5', '8'): 170, ('6', '7'): 175}\n"
     ]
    },
    {
     "data": {
      "image/png": "[encoded data removed]",
      "text/plain": [
       "<Figure size 432x288 with 1 Axes>"
      ]
     },
     "metadata": {},
     "output_type": "display_data"
    }
   ],
   "source": [
    "\n",
    "edgeLabels = nx.get_edge_attributes(T,'weight')\n",
    "print(edgeLabels)\n",
    "pos= {'1': [-1, 0.8], '2': [0, -1], '3': [-1, -3], '4': [-0.5, -3], '5': [-0.5, -1], '6': [0, -3], '7': [0.5, -3], '8': [ 0, 0.8]}\n",
    "\n",
    "\n",
    "display_graph(T,pos,edgeLabels)\n"
   ]
  },
  {
   "cell_type": "markdown",
   "metadata": {},
   "source": [
    "## Background on data traversal tehniques"
   ]
  },
  {
   "cell_type": "markdown",
   "metadata": {},
   "source": [
    "### Hash table"
   ]
  },
  {
   "cell_type": "markdown",
   "metadata": {},
   "source": [
    "$PROBLEM$<br>\n",
    "* Draw the 11-entry hash table that results from using the hash function, h(i) = (3i+5) mod 11\n",
    "* hash keys are { 12, 44, 13, 88, 23, 94, 11, 39, 20, 16,5}\n",
    "* Comment on performance for chaining and linear probing algorithms for collosion handling"
   ]
  },
  {
   "cell_type": "markdown",
   "metadata": {},
   "source": [
    "$SOLUTION$"
   ]
  },
  {
   "cell_type": "markdown",
   "metadata": {},
   "source": [
    "#### Prepare hash Table"
   ]
  },
  {
   "cell_type": "markdown",
   "metadata": {},
   "source": [
    "<img src=\"files/images/hashTable.JPG\">"
   ]
  },
  {
   "cell_type": "markdown",
   "metadata": {},
   "source": [
    "#### Chaining for collision handling\n",
    "\n",
    "$Algorithm$<br>\n",
    "* Initalise hash indices as roots for linkedlist\n",
    "* For each key:\n",
    "    * fetch hash\n",
    "    * if a key exists in hash:\n",
    "        * Edit inplace with new value<br>\n",
    "    * Else:\n",
    "        * Add linked list node each new key present \"END\" of linkedlist\n"
   ]
  },
  {
   "cell_type": "markdown",
   "metadata": {},
   "source": [
    "<img src=\"files/images/chaining.JPG\">"
   ]
  },
  {
   "cell_type": "markdown",
   "metadata": {},
   "source": [
    "#### Linear probing for collision handling\n",
    "\n",
    "$Algorithm$<br>\n",
    "* Initalise hash as array indices \n",
    "* For each key:\n",
    "    * fetch hash index\n",
    "    * if hash index is empty:\n",
    "        * Occupy list position\n",
    "    * Else:\n",
    "        * while(watchdogTimer()):\n",
    "            * increment hash index\n",
    "            * if hash index is empty:\n",
    "                * Occupy list position\n",
    "            * else:\n",
    "                * continue"
   ]
  },
  {
   "cell_type": "markdown",
   "metadata": {},
   "source": [
    "<img src=\"files/images/linearProbing.JPG\">"
   ]
  },
  {
   "cell_type": "markdown",
   "metadata": {},
   "source": [
    "### Conclusion:\n",
    "$Chaining$<br>\n",
    "* Chaining is easier to implement and nonexhaustive\n",
    "* Chaining is more ronust to load factors since it can grow the size of table dynamically\n",
    "* Cons:\n",
    "    * It is not memory efficient\n",
    "    * Access time is equal irrepsective of occupancy of hashing table\n",
    "    \n",
    "$Linear\\ Probing$<br>\n",
    "* Linear probing is used when freequency of keys is known/ is uniform\n",
    "* It provides better cache performance since locality of reference works in the favour of entire table reciding in cache\n",
    "* Memory slots are avaiable to occupy though the hash for key is different\n",
    "* It can provide $O(1)$ complexity when slot is available\n",
    "* Cons:\n",
    "    * Prone to clustering and loading, need resizing which often adds redundancy\n",
    "    * Needs more computations to find empty hash slot and match against probabilities of keys for that hash\n",
    "    "
   ]
  },
  {
   "cell_type": "markdown",
   "metadata": {},
   "source": [
    "## Time complexity of bubble, quick and merge sort algorithms"
   ]
  },
  {
   "cell_type": "markdown",
   "metadata": {},
   "source": [
    "$PROBLEM$\n",
    "* Obtain and compare runtimes for stated sorting algorithms\n",
    "* Inputs are reverse sroted integer arrays of successively increasing size\n",
    "    * n = 10 $\\rightarrow$[9,8,7,...0]\n",
    "    * n = 65 $\\rightarrow$[64,63,62....19,18,17,..2,1,0] etc.\n",
    "* Functions provided in Lab 6 to be used used to obtain bubble quick and merge sorted outcomes \n",
    "* Plot and save graphs of running time vs length of imput array \n",
    "<br>\n"
   ]
  },
  {
   "cell_type": "markdown",
   "metadata": {},
   "source": [
    "$SOLUTION$"
   ]
  },
  {
   "cell_type": "markdown",
   "metadata": {},
   "source": [
    "**Functions provided in LAB 6 are used used to obtain bubble quick and merge sorted outcomes**"
   ]
  },
  {
   "cell_type": "code",
   "execution_count": 2,
   "metadata": {},
   "outputs": [],
   "source": [
    "'''\n",
    "python implementation of bubble sort\n",
    "'''\n",
    "def bubbleSort(arr):\n",
    "    arr_size = len(arr)\n",
    "    for i in range(arr_size):\n",
    "        for j in range(i, arr_size):\n",
    "            if arr[i] > arr[j]:\n",
    "                arr[i], arr[j] = arr[j], arr[i]\n",
    "    return arr"
   ]
  },
  {
   "cell_type": "code",
   "execution_count": 3,
   "metadata": {},
   "outputs": [],
   "source": [
    "'''\n",
    "Python implementation of quickSort.\n",
    "'''\n",
    "\n",
    "def partition(arr, low, high):\n",
    "    \"\"\"Return a pivot element for quickSort.\"\"\"\n",
    "    key = arr[high]\n",
    "    pivot = low\n",
    "    for i in range(low, high):\n",
    "        if arr[i] <= key:\n",
    "            arr[i], arr[pivot] = arr[pivot], arr[i]\n",
    "            pivot += 1\n",
    "\n",
    "    arr[pivot], arr[high] = arr[high], arr[pivot]\n",
    "    return pivot\n",
    "\n",
    "\n",
    "def quickSort(arr, low=0, high=None):\n",
    "    if high is None:\n",
    "        high = len(arr)-1\n",
    "    \n",
    "    if high < low:\n",
    "        return\n",
    "    else:\n",
    "        pivot = partition(arr, low, high)\n",
    "        quickSort(arr, low, pivot-1)\n",
    "        quickSort(arr, pivot+1, high)"
   ]
  },
  {
   "cell_type": "code",
   "execution_count": 4,
   "metadata": {},
   "outputs": [],
   "source": [
    "'''\n",
    "Merge sort implemented in Python\n",
    "'''\n",
    "tree_travrsal = ['1', '8', '2', '5', '3', '4', '6', '7']\n",
    "\n",
    "def merge(left, right):\n",
    "    result = []\n",
    "    left_idx, right_idx = 0, 0\n",
    "    while left_idx < len(left) and right_idx < len(right):\n",
    "        if left[left_idx] <= right[right_idx]:\n",
    "            result.append(left[left_idx])\n",
    "            left_idx += 1\n",
    "        else:\n",
    "            result.append(right[right_idx])\n",
    "            right_idx += 1\n",
    " \n",
    "    if left:\n",
    "        result.extend(left[left_idx:])\n",
    "    if right:\n",
    "        result.extend(right[right_idx:])\n",
    "    return result\n",
    "\n",
    "\n",
    "def mergeSort(arr):\n",
    "    if len(arr) <= 1:\n",
    "        return arr\n",
    " \n",
    "    mid = len(arr) // 2\n",
    "    left = arr[:mid]\n",
    "    right = arr[mid:]\n",
    " \n",
    "    left = mergeSort(left)\n",
    "    right = mergeSort(right)\n",
    "    return list(merge(left, right))"
   ]
  },
  {
   "cell_type": "markdown",
   "metadata": {},
   "source": [
    "### PREPARE INPUTS"
   ]
  },
  {
   "cell_type": "markdown",
   "metadata": {},
   "source": [
    "**input_Array()** <br>\n",
    "INPUT: accepts integer stating num = length of array<br>\n",
    "OUTPUT: returns array of integers of length = num containing [num, num-1,num-2....0] "
   ]
  },
  {
   "cell_type": "code",
   "execution_count": 5,
   "metadata": {},
   "outputs": [],
   "source": [
    "# Return a revered array of length equal \"num\"\n",
    "def input_Array(num,revered = True):\n",
    "    num = int(num)\n",
    "    if revered and num > 0:\n",
    "        return (list(reversed(list(range(num)))))\n",
    "\n",
    "\n"
   ]
  },
  {
   "cell_type": "markdown",
   "metadata": {},
   "source": [
    "**algoTime()** <br>\n",
    "INPUT: accepts sorting function as argument<br>\n",
    "OUTPUT:<br> \n",
    "1 list containg integers [eg. 10,15,20...150]  **AND**<br>\n",
    "1 list containg sorting time taken by  sorting function to sort a revered integer list of corresponding length"
   ]
  },
  {
   "cell_type": "code",
   "execution_count": 6,
   "metadata": {
    "scrolled": true
   },
   "outputs": [],
   "source": [
    "def algoTime(algo,nStart=10,nEnd=100,nStep=5):\n",
    "    execTime={}\n",
    "    \n",
    "    for n in range(nStart,nEnd,nStep):\n",
    "        # Calculate execution time averaging 100 times for a sorting algorithm in microseconds \n",
    "        # Store result for each n as value to key \"n\" in dictionary execTime\n",
    "        execTime[n] = timeit.timeit(algo+\"(\"+input_Array.__name__+\"(\"+str(n)+\"))\",setup = \"from __main__ import \"+algo+\",input_Array\", number = 100)/(1e-06)\n",
    "        \n",
    "    n,exT =  list(execTime.keys()),list(execTime.values())\n",
    "    return n,exT\n",
    "\n"
   ]
  },
  {
   "cell_type": "markdown",
   "metadata": {},
   "source": [
    "### Driver code() <br>\n",
    "* Plot results for each sorting algorithm\n",
    "* Integer range used are hardcoded for demonstration purpose"
   ]
  },
  {
   "cell_type": "code",
   "execution_count": 7,
   "metadata": {},
   "outputs": [
    {
     "data": {
      "image/png": "[encoded data removed]",
      "text/plain": [
       "<Figure size 432x288 with 1 Axes>"
      ]
     },
     "metadata": {
      "needs_background": "light"
     },
     "output_type": "display_data"
    }
   ],
   "source": [
    "algorithms = [\"bubbleSort\",\"mergeSort\",\"quickSort\"]\n",
    "for algo in algorithms:\n",
    "    result = algoTime(algo)\n",
    "    plt.plot(result[0],result[1],label=algo)\n",
    "    \n",
    "plt.xlabel(\"Input array length\")\n",
    "plt.ylabel(\"Time ofexecution (in microseconds)\")\n",
    "plt.legend()\n",
    "plt.savefig('Execution Time - Sorting Algorithms.png')"
   ]
  },
  {
   "cell_type": "markdown",
   "metadata": {},
   "source": [
    "### Conclusion\n",
    "\n",
    "* $Bubble\\ sort$<br>\n",
    "is a series of comparison-exchanges which works by swapping adjacent elements if they are not in proper order. Moreover, in Big O notation, bubble sort’s worst-case running time is $O(n^2)$.\n",
    "* $Quick\\ sort$<br> \n",
    "    * Best Case for quick sort is When pivot value is the middle element, picked during the partition process. So, the Big O notation for best case is $O(nlog(n))$.<br>\n",
    "    *The worst case occurs when the pivot value consists of the greatest or smallest element\n",
    "in array. Here, we have one element less than previous one at each level. Hence, the\n",
    "running time T(n) is denoted by equation: T(n) = cn *n. Moreover, in Big O notation, quick\n",
    "sort’s worst-case running time is $O(n^2)$.\n",
    "* $Merge\\ Sort$<br>\n",
    "*Like binary search, division can be represented as logarithmic opeartion -  which can be seen as $log(n)$ and in merge sort the function divides the list into n elements. Hence during 3 cases (worst, average and best) the complexity operation is the same as $O(nlog(n))$\n",
    "\n",
    "<br>\n",
    "\n",
    "General running time observations for reversed  set of inputs is : T(Merge) < T(Quick) < T(Bubble)"
   ]
  },
  {
   "cell_type": "code",
   "execution_count": null,
   "metadata": {},
   "outputs": [],
   "source": []
  }
 ],
 "metadata": {
  "kernelspec": {
   "display_name": "Python 3",
   "language": "python",
   "name": "python3"
  },
  "language_info": {
   "codemirror_mode": {
    "name": "ipython",
    "version": 3
   },
   "file_extension": ".py",
   "mimetype": "text/x-python",
   "name": "python",
   "nbconvert_exporter": "python",
   "pygments_lexer": "ipython3",
   "version": "3.7.9"
  },
  "toc": {
   "base_numbering": 1,
   "nav_menu": {},
   "number_sections": false,
   "sideBar": false,
   "skip_h1_title": false,
   "title_cell": "Table of Contents",
   "title_sidebar": "Contents",
   "toc_cell": false,
   "toc_position": {},
   "toc_section_display": false,
   "toc_window_display": false
  }
 },
 "nbformat": 4,
 "nbformat_minor": 2
}
