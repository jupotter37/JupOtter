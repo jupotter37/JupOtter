{
  "cells": [
    {
      "cell_type": "markdown",
      "metadata": {
        "id": "-rayulJ_958q"
      },
      "source": [
        "# Computation on Arrays: Broadcasting"
      ]
    },
    {
      "cell_type": "markdown",
      "metadata": {
        "id": "ibxI4wVv958r"
      },
      "source": [
        "We saw in the previous section how NumPy's universal functions can be used to *vectorize* operations and thereby remove slow Python loops.\n",
        "Another means of vectorizing operations is to use NumPy's *broadcasting* functionality.\n",
        "Broadcasting is simply a set of rules for applying binary ufuncs (e.g., addition, subtraction, multiplication, etc.) on arrays of different sizes."
      ]
    },
    {
      "cell_type": "markdown",
      "metadata": {
        "id": "3KJEwCLJ958r"
      },
      "source": [
        "## Introducing Broadcasting\n",
        "\n",
        "Recall that for arrays of the same size, binary operations are performed on an element-by-element basis:"
      ]
    },
    {
      "cell_type": "code",
      "execution_count": 218,
      "metadata": {
        "id": "dC9s5DJM958s"
      },
      "outputs": [],
      "source": [
        "import numpy as np"
      ]
    },
    {
      "cell_type": "code",
      "execution_count": 219,
      "metadata": {
        "id": "nVSUc1xk958u",
        "outputId": "f1d19621-bca0-4301-a369-01da8f03c41e"
      },
      "outputs": [
        {
          "data": {
            "text/plain": [
              "array([5, 6, 7])"
            ]
          },
          "execution_count": 219,
          "metadata": {},
          "output_type": "execute_result"
        }
      ],
      "source": [
        "a = np.array([0, 1, 2])\n",
        "b = np.array([5, 5, 5])\n",
        "a + b"
      ]
    },
    {
      "cell_type": "markdown",
      "metadata": {
        "id": "FFMzNGMF958w"
      },
      "source": [
        "Broadcasting allows these types of binary operations to be performed on arrays of different sizes–for example, we can just as easily add a scalar (think of it as a zero-dimensional array) to an array:"
      ]
    },
    {
      "cell_type": "code",
      "execution_count": 220,
      "metadata": {
        "id": "0Id8XeVC958x",
        "outputId": "6a9dca72-9145-49b3-d846-96aa7cc55880"
      },
      "outputs": [
        {
          "data": {
            "text/plain": [
              "array([5, 6, 7])"
            ]
          },
          "execution_count": 220,
          "metadata": {},
          "output_type": "execute_result"
        }
      ],
      "source": [
        "a + 5"
      ]
    },
    {
      "cell_type": "markdown",
      "metadata": {
        "id": "cNqevroi958x"
      },
      "source": [
        "We can think of this as an operation that stretches or duplicates the value ``5`` into the array ``[5, 5, 5]``, and adds the results.\n",
        "The advantage of NumPy's broadcasting is that this duplication of values does not actually take place, but it is a useful mental model as we think about broadcasting.\n",
        "\n",
        "We can similarly extend this to arrays of higher dimension. Observe the result when we add a one-dimensional array to a two-dimensional array:"
      ]
    },
    {
      "cell_type": "code",
      "execution_count": 221,
      "metadata": {
        "id": "XE6j1rsy958y",
        "outputId": "5e6b00d9-7b11-407c-d67e-a3e79e7d15f3"
      },
      "outputs": [
        {
          "data": {
            "text/plain": [
              "array([[1., 1., 1.],\n",
              "       [1., 1., 1.],\n",
              "       [1., 1., 1.]])"
            ]
          },
          "execution_count": 221,
          "metadata": {},
          "output_type": "execute_result"
        }
      ],
      "source": [
        "M = np.ones((3, 3))\n",
        "M"
      ]
    },
    {
      "cell_type": "code",
      "execution_count": 222,
      "metadata": {
        "id": "QFGMJZm6958y",
        "outputId": "d063527e-15c4-4361-8a0c-de0e04876d5b"
      },
      "outputs": [
        {
          "data": {
            "text/plain": [
              "array([[1., 2., 3.],\n",
              "       [1., 2., 3.],\n",
              "       [1., 2., 3.]])"
            ]
          },
          "execution_count": 222,
          "metadata": {},
          "output_type": "execute_result"
        }
      ],
      "source": [
        "M + a"
      ]
    },
    {
      "cell_type": "markdown",
      "metadata": {
        "id": "_j9jmlN9958z"
      },
      "source": [
        "Here the one-dimensional array ``a`` is stretched, or broadcast across the second dimension in order to match the shape of ``M``.\n",
        "\n",
        "While these examples are relatively easy to understand, more complicated cases can involve broadcasting of both arrays. Consider the following example:"
      ]
    },
    {
      "cell_type": "code",
      "execution_count": 223,
      "metadata": {
        "id": "TIlQFzC1958z",
        "outputId": "56f8599e-6e89-4fc2-c911-0830fc5f567c"
      },
      "outputs": [
        {
          "name": "stdout",
          "output_type": "stream",
          "text": [
            "[0 1 2]\n",
            "[[0]\n",
            " [1]\n",
            " [2]]\n"
          ]
        }
      ],
      "source": [
        "a = np.arange(3)\n",
        "b = np.arange(3)[:, np.newaxis]\n",
        "\n",
        "print(a)\n",
        "print(b)"
      ]
    },
    {
      "cell_type": "code",
      "execution_count": 224,
      "metadata": {
        "id": "-WxpyIhK958z",
        "outputId": "a04b412c-9753-474e-d301-4769e9950a94"
      },
      "outputs": [
        {
          "data": {
            "text/plain": [
              "array([[0, 1, 2],\n",
              "       [1, 2, 3],\n",
              "       [2, 3, 4]])"
            ]
          },
          "execution_count": 224,
          "metadata": {},
          "output_type": "execute_result"
        }
      ],
      "source": [
        "a + b"
      ]
    },
    {
      "cell_type": "markdown",
      "metadata": {
        "id": "VgPPYNrx958z"
      },
      "source": [
        "Just as before we stretched or broadcasted one value to match the shape of the other, here we've stretched *both* ``a`` and ``b`` to match a common shape, and the result is a two-dimensional array!\n",
        "The geometry of these examples is visualized in the following figure (Code to produce this plot can be found in the [appendix](06.00-Figure-Code.ipynb#Broadcasting), and is adapted from source published in the [astroML](http://astroml.org) documentation. Used by permission)."
      ]
    },
    {
      "cell_type": "markdown",
      "metadata": {
        "id": "eah2kHWS959A"
      },
      "source": [
        "### Centering an array"
      ]
    },
    {
      "cell_type": "markdown",
      "metadata": {
        "id": "vZpksN1C959A"
      },
      "source": [
        "In the previous section, we saw that ufuncs allow a NumPy user to remove the need to explicitly write slow Python loops. Broadcasting extends this ability.\n",
        "One commonly seen example is when centering an array of data.\n",
        "Imagine you have an array of 10 observations, each of which consists of 3 values.\n",
        "Using the standard convention (see [Data Representation in Scikit-Learn](05.02-Introducing-Scikit-Learn.ipynb#Data-Representation-in-Scikit-Learn)), we'll store this in a $10 \\times 3$ array:"
      ]
    },
    {
      "cell_type": "code",
      "execution_count": 225,
      "metadata": {
        "id": "OwhlVTta959A"
      },
      "outputs": [],
      "source": [
        "X = np.random.random((10, 3))"
      ]
    },
    {
      "cell_type": "markdown",
      "metadata": {
        "id": "gDdprDxw959B"
      },
      "source": [
        "We can compute the mean of each feature using the ``mean`` aggregate across the first dimension:"
      ]
    },
    {
      "cell_type": "code",
      "execution_count": 226,
      "metadata": {
        "id": "3kG_tIoa959B",
        "outputId": "85bd41e8-f12c-4efb-f0b2-b17742f3af18"
      },
      "outputs": [
        {
          "data": {
            "text/plain": [
              "array([0.4834947 , 0.44527771, 0.58151035])"
            ]
          },
          "execution_count": 226,
          "metadata": {},
          "output_type": "execute_result"
        }
      ],
      "source": [
        "Xmean = X.mean(0)\n",
        "Xmean"
      ]
    },
    {
      "cell_type": "markdown",
      "metadata": {
        "id": "Jc0cpC9K959B"
      },
      "source": [
        "And now we can center the ``X`` array by subtracting the mean (this is a broadcasting operation):"
      ]
    },
    {
      "cell_type": "code",
      "execution_count": 227,
      "metadata": {
        "id": "xLCLbs9a959B"
      },
      "outputs": [],
      "source": [
        "X_centered = X - Xmean"
      ]
    },
    {
      "cell_type": "markdown",
      "metadata": {
        "id": "tCo9sxX2959B"
      },
      "source": [
        "To double-check that we've done this correctly, we can check that the centered array has near zero mean:"
      ]
    },
    {
      "cell_type": "code",
      "execution_count": 228,
      "metadata": {
        "id": "uySEDczK959C",
        "outputId": "631ccb89-3164-4b09-d08e-eb09d7b1f722"
      },
      "outputs": [
        {
          "data": {
            "text/plain": [
              "array([-1.11022302e-17, -8.88178420e-17, -7.77156117e-17])"
            ]
          },
          "execution_count": 228,
          "metadata": {},
          "output_type": "execute_result"
        }
      ],
      "source": [
        "X_centered.mean(0)"
      ]
    },
    {
      "cell_type": "markdown",
      "metadata": {
        "id": "40qwDUMR959C"
      },
      "source": [
        "To within machine precision, the mean is now zero."
      ]
    },
    {
      "cell_type": "markdown",
      "metadata": {
        "id": "R40I88839bBK"
      },
      "source": [
        "# Comparisons, Masks, and Boolean Logic"
      ]
    },
    {
      "cell_type": "markdown",
      "metadata": {
        "id": "_bVhNPmq9bBL"
      },
      "source": [
        "This section covers the use of Boolean masks to examine and manipulate values within NumPy arrays.\n",
        "Masking comes up when you want to extract, modify, count, or otherwise manipulate values in an array based on some criterion: for example, you might wish to count all values greater than a certain value, or perhaps remove all outliers that are above some threshold.\n",
        "In NumPy, Boolean masking is often the most efficient way to accomplish these types of tasks."
      ]
    },
    {
      "cell_type": "markdown",
      "metadata": {
        "id": "OXUOv2h59bBM"
      },
      "source": [
        "## Example: Counting Rainy Days\n",
        "\n",
        "Imagine you have a series of data that represents the amount of precipitation each day for a year in a given city.\n",
        "For example, here we'll load the daily rainfall statistics for the city of Seattle in 2014, using Pandas (which is covered in more detail in [Chapter 3](03.00-Introduction-to-Pandas.ipynb)):"
      ]
    },
    {
      "cell_type": "code",
      "execution_count": 229,
      "metadata": {
        "id": "YFdDytv69bBN",
        "outputId": "9ee5c21e-6264-44b7-eda8-5977b568c760"
      },
      "outputs": [
        {
          "data": {
            "text/plain": [
              "(365,)"
            ]
          },
          "execution_count": 229,
          "metadata": {},
          "output_type": "execute_result"
        }
      ],
      "source": [
        "import numpy as np\n",
        "import pandas as pd\n",
        "\n",
        "# use pandas to extract rainfall inches as a NumPy array\n",
        "rainfall = pd.read_csv('data/Seattle2014.csv')['PRCP'].values\n",
        "inches = rainfall / 254.0  # 1/10mm -> inches\n",
        "inches.shape"
      ]
    },
    {
      "cell_type": "markdown",
      "metadata": {
        "id": "r7Q1xK0U9bBR"
      },
      "source": [
        "The array contains 365 values, giving daily rainfall in inches from January 1 to December 31, 2014.\n",
        "\n",
        "As a first quick visualization, let's look at the histogram of rainy days, which was generated using Matplotlib (we will explore this tool more fully in [Chapter 4](04.00-Introduction-To-Matplotlib.ipynb)):"
      ]
    },
    {
      "cell_type": "code",
      "execution_count": 230,
      "metadata": {
        "id": "WPbpwWhA9bBS"
      },
      "outputs": [],
      "source": [
        "%matplotlib inline\n",
        "import matplotlib.pyplot as plt\n",
        "import seaborn; seaborn.set()  # set plot styles"
      ]
    },
    {
      "cell_type": "code",
      "execution_count": 231,
      "metadata": {
        "id": "gloNLmBr9bBS",
        "outputId": "53a0049c-d512-47eb-c1d2-347dc97bf292"
      },
      "outputs": [
        {
          "data": {
            "image/png": "[encoded data removed]",
            "text/plain": [
              "<Figure size 640x480 with 1 Axes>"
            ]
          },
          "metadata": {},
          "output_type": "display_data"
        }
      ],
      "source": [
        "plt.hist(inches, 40);"
      ]
    },
    {
      "cell_type": "markdown",
      "metadata": {
        "id": "2Za5uHzk9bBU"
      },
      "source": [
        "This histogram gives us a general idea of what the data looks like: despite its reputation, the vast majority of days in Seattle saw near zero measured rainfall in 2014.\n",
        "But this doesn't do a good job of conveying some information we'd like to see: for example, how many rainy days were there in the year? What is the average precipitation on those rainy days? How many days were there with more than half an inch of rain?"
      ]
    },
    {
      "cell_type": "markdown",
      "metadata": {
        "id": "-_nUWb5_9bBV"
      },
      "source": [
        "## Comparison Operators as ufuncs\n",
        "\n",
        "In [Computation on NumPy Arrays: Universal Functions](02.03-Computation-on-arrays-ufuncs.ipynb) we introduced ufuncs, and focused in particular on arithmetic operators. We saw that using ``+``, ``-``, ``*``, ``/``, and others on arrays leads to element-wise operations.\n",
        "NumPy also implements comparison operators such as ``<`` (less than) and ``>`` (greater than) as element-wise ufuncs.\n",
        "The result of these comparison operators is always an array with a Boolean data type.\n",
        "All six of the standard comparison operations are available:"
      ]
    },
    {
      "cell_type": "code",
      "execution_count": 232,
      "metadata": {
        "collapsed": true,
        "id": "HxKXbitU9bBW"
      },
      "outputs": [],
      "source": [
        "x = np.array([1, 2, 3, 4, 5])"
      ]
    },
    {
      "cell_type": "code",
      "execution_count": 233,
      "metadata": {
        "id": "eua-3id09bBW",
        "outputId": "ab37d2e8-58ba-433e-b432-d57ccb005ab2"
      },
      "outputs": [
        {
          "data": {
            "text/plain": [
              "array([ True,  True, False, False, False])"
            ]
          },
          "execution_count": 233,
          "metadata": {},
          "output_type": "execute_result"
        }
      ],
      "source": [
        "x < 3  # less than"
      ]
    },
    {
      "cell_type": "code",
      "execution_count": 234,
      "metadata": {
        "id": "HnR-hfKf9bBX",
        "outputId": "0545f8fd-74d2-4033-aee5-4f0446caa40e"
      },
      "outputs": [
        {
          "data": {
            "text/plain": [
              "array([False, False, False,  True,  True])"
            ]
          },
          "execution_count": 234,
          "metadata": {},
          "output_type": "execute_result"
        }
      ],
      "source": [
        "x > 3  # greater than"
      ]
    },
    {
      "cell_type": "code",
      "execution_count": 235,
      "metadata": {
        "id": "AVfgxI__9bBe",
        "outputId": "ea585b2c-bafb-42f6-fc9a-8ead969650c7"
      },
      "outputs": [
        {
          "data": {
            "text/plain": [
              "array([[5, 0, 3, 3],\n",
              "       [7, 9, 3, 5],\n",
              "       [2, 4, 7, 6]], dtype=int32)"
            ]
          },
          "execution_count": 235,
          "metadata": {},
          "output_type": "execute_result"
        }
      ],
      "source": [
        "rng = np.random.RandomState(0)\n",
        "x = rng.randint(10, size=(3, 4))\n",
        "x"
      ]
    },
    {
      "cell_type": "code",
      "execution_count": 236,
      "metadata": {
        "id": "nAefaepX9bBg",
        "outputId": "689776a1-b8a9-4c14-9788-ea76e2f879c1"
      },
      "outputs": [
        {
          "data": {
            "text/plain": [
              "array([[ True,  True,  True,  True],\n",
              "       [False, False,  True,  True],\n",
              "       [ True,  True, False, False]])"
            ]
          },
          "execution_count": 236,
          "metadata": {},
          "output_type": "execute_result"
        }
      ],
      "source": [
        "x < 6"
      ]
    },
    {
      "cell_type": "markdown",
      "metadata": {
        "id": "1SXZIQDB9bBg"
      },
      "source": [
        "In each case, the result is a Boolean array, and NumPy provides a number of straightforward patterns for working with these Boolean results."
      ]
    },
    {
      "cell_type": "markdown",
      "metadata": {
        "id": "QzUovj2T9bBh"
      },
      "source": [
        "## Working with Boolean Arrays\n",
        "\n",
        "Given a Boolean array, there are a host of useful operations you can do.\n",
        "We'll work with ``x``, the two-dimensional array we created earlier."
      ]
    },
    {
      "cell_type": "code",
      "execution_count": 237,
      "metadata": {
        "id": "UjfhKiG99bBh",
        "outputId": "657692c5-d285-4369-fc16-e6287c904c88"
      },
      "outputs": [
        {
          "name": "stdout",
          "output_type": "stream",
          "text": [
            "[[5 0 3 3]\n",
            " [7 9 3 5]\n",
            " [2 4 7 6]]\n"
          ]
        }
      ],
      "source": [
        "print(x)"
      ]
    },
    {
      "cell_type": "markdown",
      "metadata": {
        "id": "9E27e8C-9bBh"
      },
      "source": [
        "### Counting entries\n",
        "\n",
        "To count the number of ``True`` entries in a Boolean array, ``np.count_nonzero`` is useful:"
      ]
    },
    {
      "cell_type": "code",
      "execution_count": 238,
      "metadata": {
        "id": "_7gGm8oO9bBi",
        "outputId": "44ca4db3-55d8-4952-e8bb-c5cc0faccea3"
      },
      "outputs": [
        {
          "data": {
            "text/plain": [
              "8"
            ]
          },
          "execution_count": 238,
          "metadata": {},
          "output_type": "execute_result"
        }
      ],
      "source": [
        "# how many values less than 6?\n",
        "np.count_nonzero(x < 6)"
      ]
    },
    {
      "cell_type": "markdown",
      "metadata": {
        "id": "FWgwKTCR9bBi"
      },
      "source": [
        "We see that there are eight array entries that are less than 6.\n",
        "Another way to get at this information is to use ``np.sum``; in this case, ``False`` is interpreted as ``0``, and ``True`` is interpreted as ``1``:"
      ]
    },
    {
      "cell_type": "code",
      "execution_count": 239,
      "metadata": {
        "id": "24vKcEFO9bBj",
        "outputId": "108d5b4c-4974-4ede-c5e1-5a8f3e38cd28"
      },
      "outputs": [
        {
          "data": {
            "text/plain": [
              "np.int64(8)"
            ]
          },
          "execution_count": 239,
          "metadata": {},
          "output_type": "execute_result"
        }
      ],
      "source": [
        "np.sum(x < 6)"
      ]
    },
    {
      "cell_type": "markdown",
      "metadata": {
        "id": "RAjO1_jr9bBj"
      },
      "source": [
        "The benefit of ``sum()`` is that like with other NumPy aggregation functions, this summation can be done along rows or columns as well:"
      ]
    },
    {
      "cell_type": "code",
      "execution_count": 240,
      "metadata": {
        "id": "2ddzFOTR9bBj",
        "outputId": "41747334-c44e-4cf6-c831-2d3167d82ad1"
      },
      "outputs": [
        {
          "data": {
            "text/plain": [
              "array([4, 2, 2])"
            ]
          },
          "execution_count": 240,
          "metadata": {},
          "output_type": "execute_result"
        }
      ],
      "source": [
        "# how many values less than 6 in each row?\n",
        "np.sum(x < 6, axis=1)"
      ]
    },
    {
      "cell_type": "markdown",
      "metadata": {
        "id": "-H07WJOl9bBk"
      },
      "source": [
        "This counts the number of values less than 6 in each row of the matrix.\n",
        "\n",
        "If we're interested in quickly checking whether any or all the values are true, we can use (you guessed it) ``np.any`` or ``np.all``:"
      ]
    },
    {
      "cell_type": "code",
      "execution_count": 241,
      "metadata": {
        "id": "Yxdibu4J9bBl",
        "outputId": "b1ef72bc-dcda-4187-ee41-995e9eeeb262"
      },
      "outputs": [
        {
          "data": {
            "text/plain": [
              "np.True_"
            ]
          },
          "execution_count": 241,
          "metadata": {},
          "output_type": "execute_result"
        }
      ],
      "source": [
        "# are there any values greater than 8?\n",
        "np.any(x > 8)"
      ]
    },
    {
      "cell_type": "code",
      "execution_count": 242,
      "metadata": {
        "id": "jl-I4CZF9bBm",
        "outputId": "611e6705-20bd-4704-8474-7747a61f7cee"
      },
      "outputs": [
        {
          "data": {
            "text/plain": [
              "np.False_"
            ]
          },
          "execution_count": 242,
          "metadata": {},
          "output_type": "execute_result"
        }
      ],
      "source": [
        "# are there any values less than zero?\n",
        "np.any(x < 0)"
      ]
    },
    {
      "cell_type": "code",
      "execution_count": 243,
      "metadata": {
        "id": "yflP8rpT9bBm",
        "outputId": "88e352ef-ff44-41b8-a8c2-d2e24662649d"
      },
      "outputs": [
        {
          "data": {
            "text/plain": [
              "np.True_"
            ]
          },
          "execution_count": 243,
          "metadata": {},
          "output_type": "execute_result"
        }
      ],
      "source": [
        "# are all values less than 10?\n",
        "np.all(x < 10)"
      ]
    },
    {
      "cell_type": "code",
      "execution_count": 244,
      "metadata": {
        "id": "elAl0cqA9bBn",
        "outputId": "10d460df-b782-4d7e-8040-632ebdbd00b6"
      },
      "outputs": [
        {
          "data": {
            "text/plain": [
              "np.False_"
            ]
          },
          "execution_count": 244,
          "metadata": {},
          "output_type": "execute_result"
        }
      ],
      "source": [
        "# are all values equal to 6?\n",
        "np.all(x == 6)"
      ]
    },
    {
      "cell_type": "markdown",
      "metadata": {
        "id": "wJFWlDN79bBt"
      },
      "source": [
        "``np.all`` and ``np.any`` can be used along particular axes as well. For example:"
      ]
    },
    {
      "cell_type": "code",
      "execution_count": 245,
      "metadata": {
        "id": "yKjcRO_T9bBt",
        "outputId": "02fee686-14a3-4495-f8a1-7d591b30aab2"
      },
      "outputs": [
        {
          "data": {
            "text/plain": [
              "array([ True, False,  True])"
            ]
          },
          "execution_count": 245,
          "metadata": {},
          "output_type": "execute_result"
        }
      ],
      "source": [
        "# are all values in each row less than 8?\n",
        "np.all(x < 8, axis=1)"
      ]
    },
    {
      "cell_type": "markdown",
      "metadata": {
        "id": "lsHbUdKw9bBu"
      },
      "source": [
        "Here all the elements in the first and third rows are less than 8, while this is not the case for the second row.\n",
        "\n",
        "Finally, a quick warning: as mentioned in [Aggregations: Min, Max, and Everything In Between](02.04-Computation-on-arrays-aggregates.ipynb), Python has built-in ``sum()``, ``any()``, and ``all()`` functions. These have a different syntax than the NumPy versions, and in particular will fail or produce unintended results when used on multidimensional arrays. Be sure that you are using ``np.sum()``, ``np.any()``, and ``np.all()`` for these examples!"
      ]
    },
    {
      "cell_type": "markdown",
      "metadata": {
        "id": "EFxED4SV9bBy"
      },
      "source": [
        "## Boolean Arrays as Masks\n",
        "\n",
        "In the preceding section we looked at aggregates computed directly on Boolean arrays.\n",
        "A more powerful pattern is to use Boolean arrays as masks, to select particular subsets of the data themselves.\n",
        "Returning to our ``x`` array from before, suppose we want an array of all values in the array that are less than, say, 5:"
      ]
    },
    {
      "cell_type": "code",
      "execution_count": 246,
      "metadata": {
        "id": "Pv5Cuz4u9bBy",
        "outputId": "b42c009b-b850-4ebd-e1bb-64ad6a334796"
      },
      "outputs": [
        {
          "data": {
            "text/plain": [
              "array([[5, 0, 3, 3],\n",
              "       [7, 9, 3, 5],\n",
              "       [2, 4, 7, 6]], dtype=int32)"
            ]
          },
          "execution_count": 246,
          "metadata": {},
          "output_type": "execute_result"
        }
      ],
      "source": [
        "x"
      ]
    },
    {
      "cell_type": "markdown",
      "metadata": {
        "id": "Z1OQIvAg9bBz"
      },
      "source": [
        "We can obtain a Boolean array for this condition easily, as we've already seen:"
      ]
    },
    {
      "cell_type": "code",
      "execution_count": 247,
      "metadata": {
        "id": "HZ-PXzD-9bBz",
        "outputId": "642e1d8e-57d4-4686-de5c-3a6708080f56"
      },
      "outputs": [
        {
          "data": {
            "text/plain": [
              "array([[False,  True,  True,  True],\n",
              "       [False, False,  True, False],\n",
              "       [ True,  True, False, False]])"
            ]
          },
          "execution_count": 247,
          "metadata": {},
          "output_type": "execute_result"
        }
      ],
      "source": [
        "x < 5"
      ]
    },
    {
      "cell_type": "markdown",
      "metadata": {
        "id": "EIClisuX9bB0"
      },
      "source": [
        "Now to *select* these values from the array, we can simply index on this Boolean array; this is known as a *masking* operation:"
      ]
    },
    {
      "cell_type": "code",
      "execution_count": 248,
      "metadata": {
        "id": "Rb3U0iY19bB0",
        "outputId": "c29f90ea-9bc3-4aaa-c148-3e5473875edf"
      },
      "outputs": [
        {
          "data": {
            "text/plain": [
              "array([0, 3, 3, 3, 2, 4], dtype=int32)"
            ]
          },
          "execution_count": 248,
          "metadata": {},
          "output_type": "execute_result"
        }
      ],
      "source": [
        "x[x < 5]"
      ]
    },
    {
      "cell_type": "markdown",
      "metadata": {
        "id": "KVFn9HZ19bB1"
      },
      "source": [
        "What is returned is a one-dimensional array filled with all the values that meet this condition; in other words, all the values in positions at which the mask array is ``True``.\n",
        "\n",
        "We are then free to operate on these values as we wish.\n",
        "For example, we can compute some relevant statistics on our Seattle rain data:"
      ]
    },
    {
      "cell_type": "code",
      "execution_count": 249,
      "metadata": {
        "id": "916PLnlK9bB1",
        "outputId": "3c2cc9bc-6822-497f-db11-a730f1fd7a32"
      },
      "outputs": [
        {
          "name": "stdout",
          "output_type": "stream",
          "text": [
            "Median precip on rainy days in 2014 (inches):    0.19488188976377951\n",
            "Median precip on summer days in 2014 (inches):   0.0\n",
            "Maximum precip on summer days in 2014 (inches):  0.8503937007874016\n",
            "Median precip on non-summer rainy days (inches): 0.20078740157480315\n"
          ]
        }
      ],
      "source": [
        "# construct a mask of all rainy days\n",
        "rainy = (inches > 0)\n",
        "\n",
        "# construct a mask of all summer days (June 21st is the 172nd day)\n",
        "days = np.arange(365)\n",
        "summer = (days > 172) & (days < 262)\n",
        "\n",
        "print(\"Median precip on rainy days in 2014 (inches):   \",\n",
        "      np.median(inches[rainy]))\n",
        "print(\"Median precip on summer days in 2014 (inches):  \",\n",
        "      np.median(inches[summer]))\n",
        "print(\"Maximum precip on summer days in 2014 (inches): \",\n",
        "      np.max(inches[summer]))\n",
        "print(\"Median precip on non-summer rainy days (inches):\",\n",
        "      np.median(inches[rainy & ~summer]))"
      ]
    },
    {
      "cell_type": "markdown",
      "metadata": {
        "id": "iSE26J_s9bB2"
      },
      "source": [
        "By combining Boolean operations, masking operations, and aggregates, we can very quickly answer these sorts of questions for our dataset."
      ]
    },
    {
      "cell_type": "markdown",
      "metadata": {
        "id": "GhBkmrAJ9qZL"
      },
      "source": [
        "# Fancy Indexing"
      ]
    },
    {
      "cell_type": "markdown",
      "metadata": {
        "id": "lsZEt-c09qZM"
      },
      "source": [
        "In the previous sections, we saw how to access and modify portions of arrays using simple indices (e.g., ``arr[0]``), slices (e.g., ``arr[:5]``), and Boolean masks (e.g., ``arr[arr > 0]``).\n",
        "In this section, we'll look at another style of array indexing, known as *fancy indexing*.\n",
        "Fancy indexing is like the simple indexing we've already seen, but we pass arrays of indices in place of single scalars.\n",
        "This allows us to very quickly access and modify complicated subsets of an array's values."
      ]
    },
    {
      "cell_type": "markdown",
      "metadata": {
        "id": "_PLRVcy09qZN"
      },
      "source": [
        "## Exploring Fancy Indexing\n",
        "\n",
        "Fancy indexing is conceptually simple: it means passing an array of indices to access multiple array elements at once.\n",
        "For example, consider the following array:"
      ]
    },
    {
      "cell_type": "code",
      "execution_count": 250,
      "metadata": {
        "id": "D3TxefXb9qZO",
        "outputId": "8fcf5c5f-0ad8-4fd9-ed86-2bc5eb95bdab"
      },
      "outputs": [
        {
          "name": "stdout",
          "output_type": "stream",
          "text": [
            "[51 92 14 71 60 20 82 86 74 74]\n"
          ]
        }
      ],
      "source": [
        "import numpy as np\n",
        "rand = np.random.RandomState(42)\n",
        "\n",
        "x = rand.randint(100, size=10)\n",
        "print(x)"
      ]
    },
    {
      "cell_type": "markdown",
      "metadata": {
        "id": "K95R4B5D9qZR"
      },
      "source": [
        "Suppose we want to access three different elements. We could do it like this:"
      ]
    },
    {
      "cell_type": "code",
      "execution_count": 251,
      "metadata": {
        "id": "n8kmoE-k9qZS",
        "outputId": "83238f25-e2fb-463b-b23e-c44ebd881c6f"
      },
      "outputs": [
        {
          "data": {
            "text/plain": [
              "[np.int32(71), np.int32(86), np.int32(14)]"
            ]
          },
          "execution_count": 251,
          "metadata": {},
          "output_type": "execute_result"
        }
      ],
      "source": [
        "[x[3], x[7], x[2]]"
      ]
    },
    {
      "cell_type": "markdown",
      "metadata": {
        "id": "kqIeVCIx9qZT"
      },
      "source": [
        "Alternatively, we can pass a single list or array of indices to obtain the same result:"
      ]
    },
    {
      "cell_type": "code",
      "execution_count": 252,
      "metadata": {
        "id": "3ccbzg2c9qZU",
        "outputId": "8e2dd5b6-2970-4e59-c1de-effa8cf3600d"
      },
      "outputs": [
        {
          "data": {
            "text/plain": [
              "array([71, 86, 60], dtype=int32)"
            ]
          },
          "execution_count": 252,
          "metadata": {},
          "output_type": "execute_result"
        }
      ],
      "source": [
        "ind = [3, 7, 4]\n",
        "x[ind]"
      ]
    },
    {
      "cell_type": "markdown",
      "metadata": {
        "id": "5bvJPcmD9qZV"
      },
      "source": [
        "When using fancy indexing, the shape of the result reflects the shape of the *index arrays* rather than the shape of the *array being indexed*:"
      ]
    },
    {
      "cell_type": "code",
      "execution_count": 253,
      "metadata": {
        "id": "UU4CaSZ-9qZV",
        "outputId": "f7aab829-bfbb-494f-9d53-2c37813b6ecd"
      },
      "outputs": [
        {
          "data": {
            "text/plain": [
              "array([[71, 86],\n",
              "       [60, 20]], dtype=int32)"
            ]
          },
          "execution_count": 253,
          "metadata": {},
          "output_type": "execute_result"
        }
      ],
      "source": [
        "ind = np.array([[3, 7],\n",
        "                [4, 5]])\n",
        "x[ind]"
      ]
    },
    {
      "cell_type": "markdown",
      "metadata": {
        "id": "EYFJHkTX9qZV"
      },
      "source": [
        "Fancy indexing also works in multiple dimensions. Consider the following array:"
      ]
    },
    {
      "cell_type": "code",
      "execution_count": 254,
      "metadata": {
        "id": "jBeLzJSS9qZW",
        "outputId": "5c9632e5-f89a-461d-9958-d6fdf071230f"
      },
      "outputs": [
        {
          "data": {
            "text/plain": [
              "array([[ 0,  1,  2,  3],\n",
              "       [ 4,  5,  6,  7],\n",
              "       [ 8,  9, 10, 11]])"
            ]
          },
          "execution_count": 254,
          "metadata": {},
          "output_type": "execute_result"
        }
      ],
      "source": [
        "X = np.arange(12).reshape((3, 4))\n",
        "X"
      ]
    },
    {
      "cell_type": "markdown",
      "metadata": {
        "id": "87GfZpI-9qZW"
      },
      "source": [
        "Like with standard indexing, the first index refers to the row, and the second to the column:"
      ]
    },
    {
      "cell_type": "code",
      "execution_count": 255,
      "metadata": {
        "id": "gvkhbXyU9qZW",
        "outputId": "d195eb75-c6ab-4c4e-fb33-ecf63ec3a5a3"
      },
      "outputs": [
        {
          "data": {
            "text/plain": [
              "array([ 2,  5, 11])"
            ]
          },
          "execution_count": 255,
          "metadata": {},
          "output_type": "execute_result"
        }
      ],
      "source": [
        "row = np.array([0, 1, 2])\n",
        "col = np.array([2, 1, 3])\n",
        "X[row, col]"
      ]
    },
    {
      "cell_type": "markdown",
      "metadata": {
        "id": "MPeG8Cqr9qZX"
      },
      "source": [
        "Notice that the first value in the result is ``X[0, 2]``, the second is ``X[1, 1]``, and the third is ``X[2, 3]``.\n",
        "The pairing of indices in fancy indexing follows all the broadcasting rules that were mentioned in [Computation on Arrays: Broadcasting](02.05-Computation-on-arrays-broadcasting.ipynb).\n",
        "So, for example, if we combine a column vector and a row vector within the indices, we get a two-dimensional result:"
      ]
    },
    {
      "cell_type": "code",
      "execution_count": 256,
      "metadata": {
        "id": "CT546lHu9qZX",
        "outputId": "7500c954-0c45-442c-ea9c-ee9c7365eb09"
      },
      "outputs": [
        {
          "data": {
            "text/plain": [
              "array([[ 2,  1,  3],\n",
              "       [ 6,  5,  7],\n",
              "       [10,  9, 11]])"
            ]
          },
          "execution_count": 256,
          "metadata": {},
          "output_type": "execute_result"
        }
      ],
      "source": [
        "X[row[:, np.newaxis], col]"
      ]
    },
    {
      "cell_type": "markdown",
      "metadata": {
        "id": "Ulk83O0C9qZX"
      },
      "source": [
        "Here, each row value is matched with each column vector, exactly as we saw in broadcasting of arithmetic operations.\n",
        "For example:"
      ]
    },
    {
      "cell_type": "code",
      "execution_count": 257,
      "metadata": {
        "id": "zCxUQN_R9qZX",
        "outputId": "23068a2e-e19d-46c5-b7e5-80b0b6f84102"
      },
      "outputs": [
        {
          "data": {
            "text/plain": [
              "array([[0, 0, 0],\n",
              "       [2, 1, 3],\n",
              "       [4, 2, 6]])"
            ]
          },
          "execution_count": 257,
          "metadata": {},
          "output_type": "execute_result"
        }
      ],
      "source": [
        "row[:, np.newaxis] * col"
      ]
    },
    {
      "cell_type": "markdown",
      "metadata": {
        "id": "cSZXxslH9qZa"
      },
      "source": [
        "It is always important to remember with fancy indexing that the return value reflects the *broadcasted shape of the indices*, rather than the shape of the array being indexed."
      ]
    },
    {
      "cell_type": "markdown",
      "metadata": {
        "id": "dktlQ-lY9qZa"
      },
      "source": [
        "## Combined Indexing\n",
        "\n",
        "For even more powerful operations, fancy indexing can be combined with the other indexing schemes we've seen:"
      ]
    },
    {
      "cell_type": "code",
      "execution_count": 258,
      "metadata": {
        "id": "k_gsivD39qZb",
        "outputId": "95d2817b-44d6-499c-8d9f-79b8b376dff8"
      },
      "outputs": [
        {
          "name": "stdout",
          "output_type": "stream",
          "text": [
            "[[ 0  1  2  3]\n",
            " [ 4  5  6  7]\n",
            " [ 8  9 10 11]]\n"
          ]
        }
      ],
      "source": [
        "print(X)"
      ]
    },
    {
      "cell_type": "markdown",
      "metadata": {
        "id": "UdxekUbT9qZb"
      },
      "source": [
        "We can combine fancy and simple indices:"
      ]
    },
    {
      "cell_type": "code",
      "execution_count": 259,
      "metadata": {
        "id": "5uQ5i5LE9qZc",
        "outputId": "2c3c4b31-f7ed-4fd9-c6f8-ffcd34322f4d"
      },
      "outputs": [
        {
          "data": {
            "text/plain": [
              "array([10,  8,  9])"
            ]
          },
          "execution_count": 259,
          "metadata": {},
          "output_type": "execute_result"
        }
      ],
      "source": [
        "X[2, [2, 0, 1]]"
      ]
    },
    {
      "cell_type": "markdown",
      "metadata": {
        "id": "7i3PjCzA9qZd"
      },
      "source": [
        "We can also combine fancy indexing with slicing:"
      ]
    },
    {
      "cell_type": "code",
      "execution_count": 260,
      "metadata": {
        "id": "gJIte3oo9qZd",
        "outputId": "70969530-3d7c-4a1f-c6ad-c07c2702ec9d"
      },
      "outputs": [
        {
          "data": {
            "text/plain": [
              "array([[ 6,  4,  5],\n",
              "       [10,  8,  9]])"
            ]
          },
          "execution_count": 260,
          "metadata": {},
          "output_type": "execute_result"
        }
      ],
      "source": [
        "X[1:, [2, 0, 1]]"
      ]
    },
    {
      "cell_type": "markdown",
      "metadata": {
        "id": "S1EDTcY19qZf"
      },
      "source": [
        "And we can combine fancy indexing with masking:"
      ]
    },
    {
      "cell_type": "markdown",
      "metadata": {
        "id": "lOR1ajFK9qZr"
      },
      "source": [
        "## Modifying Values with Fancy Indexing\n",
        "\n",
        "Just as fancy indexing can be used to access parts of an array, it can also be used to modify parts of an array.\n",
        "For example, imagine we have an array of indices and we'd like to set the corresponding items in an array to some value:"
      ]
    },
    {
      "cell_type": "code",
      "execution_count": 261,
      "metadata": {
        "id": "MU1hh6GL9qZr",
        "outputId": "7dbecad7-a8de-40f2-f6ea-ae5d24c06ed2"
      },
      "outputs": [
        {
          "name": "stdout",
          "output_type": "stream",
          "text": [
            "[ 0 99 99  3 99  5  6  7 99  9]\n"
          ]
        }
      ],
      "source": [
        "x = np.arange(10)\n",
        "i = np.array([2, 1, 8, 4])\n",
        "x[i] = 99\n",
        "print(x)"
      ]
    },
    {
      "cell_type": "markdown",
      "metadata": {
        "id": "MQgdHO-F9qZr"
      },
      "source": [
        "We can use any assignment-type operator for this. For example:"
      ]
    },
    {
      "cell_type": "code",
      "execution_count": 262,
      "metadata": {
        "id": "B-49IgZn9qZr",
        "outputId": "7cb1ad3b-9363-4720-c0b8-8f92fa659881"
      },
      "outputs": [
        {
          "name": "stdout",
          "output_type": "stream",
          "text": [
            "[ 0 89 89  3 89  5  6  7 89  9]\n"
          ]
        }
      ],
      "source": [
        "x[i] -= 10\n",
        "print(x)"
      ]
    },
    {
      "cell_type": "markdown",
      "metadata": {
        "id": "KxwCFhuL9qZs"
      },
      "source": [
        "Notice, though, that repeated indices with these operations can cause some potentially unexpected results. Consider the following:"
      ]
    },
    {
      "cell_type": "code",
      "execution_count": 263,
      "metadata": {
        "colab": {
          "base_uri": "https://localhost:8080/"
        },
        "id": "Hc9BeEih9qZt",
        "outputId": "c15ba700-18a9-4903-d68c-a2169b1cd1e7"
      },
      "outputs": [
        {
          "name": "stdout",
          "output_type": "stream",
          "text": [
            "[6. 0. 0. 0. 0. 0. 0. 0. 0. 0.]\n"
          ]
        }
      ],
      "source": [
        "x = np.zeros(10)\n",
        "x[[0, 0]] = [4, 6]\n",
        "print(x)"
      ]
    },
    {
      "cell_type": "markdown",
      "metadata": {
        "id": "i1V66k9N9qZt"
      },
      "source": [
        "Where did the 4 go? The result of this operation is to first assign ``x[0] = 4``, followed by ``x[0] = 6``.\n",
        "The result, of course, is that ``x[0]`` contains the value 6.\n",
        "\n",
        "Fair enough, but consider this operation:"
      ]
    },
    {
      "cell_type": "code",
      "execution_count": 264,
      "metadata": {
        "id": "iS0DLGPr9qZt",
        "outputId": "58592ba2-7421-478f-9fc6-8f395d59058b"
      },
      "outputs": [
        {
          "data": {
            "text/plain": [
              "array([6., 0., 1., 1., 1., 0., 0., 0., 0., 0.])"
            ]
          },
          "execution_count": 264,
          "metadata": {},
          "output_type": "execute_result"
        }
      ],
      "source": [
        "i = [2, 3, 3, 4, 4, 4]\n",
        "x[i] += 1\n",
        "x"
      ]
    },
    {
      "cell_type": "markdown",
      "metadata": {
        "id": "ZVTqVBSM9qZv"
      },
      "source": [
        "You might expect that ``x[3]`` would contain the value 2, and ``x[4]`` would contain the value 3, as this is how many times each index is repeated. Why is this not the case?\n",
        "Conceptually, this is because ``x[i] += 1`` is meant as a shorthand of ``x[i] = x[i] + 1``. ``x[i] + 1`` is evaluated, and then the result is assigned to the indices in x.\n",
        "With this in mind, it is not the augmentation that happens multiple times, but the assignment, which leads to the rather nonintuitive results.\n",
        "\n",
        "So what if you want the other behavior where the operation is repeated? For this, you can use the ``at()`` method of ufuncs (available since NumPy 1.8), and do the following:"
      ]
    },
    {
      "cell_type": "code",
      "execution_count": 265,
      "metadata": {
        "id": "OhZsQY2i9qZv",
        "outputId": "ae1eeb22-5c76-41da-e5c5-c63cd7d03119"
      },
      "outputs": [
        {
          "name": "stdout",
          "output_type": "stream",
          "text": [
            "[0. 0. 1. 2. 3. 0. 0. 0. 0. 0.]\n"
          ]
        }
      ],
      "source": [
        "x = np.zeros(10)\n",
        "np.add.at(x, i, 1)\n",
        "print(x)"
      ]
    },
    {
      "cell_type": "markdown",
      "metadata": {
        "id": "cz6yIYLt9qZw"
      },
      "source": [
        "The ``at()`` method does an in-place application of the given operator at the specified indices (here, ``i``) with the specified value (here, 1).\n",
        "Another method that is similar in spirit is the ``reduceat()`` method of ufuncs, which you can read about in the NumPy documentation."
      ]
    },
    {
      "cell_type": "markdown",
      "metadata": {
        "id": "a9eYSf3C9rE4"
      },
      "source": [
        "# Sorting Arrays"
      ]
    },
    {
      "cell_type": "markdown",
      "metadata": {
        "id": "asJYMRmo9rE4"
      },
      "source": [
        "Up to this point we have been concerned mainly with tools to access and operate on array data with NumPy.\n",
        "This section covers algorithms related to sorting values in NumPy arrays.\n",
        "These algorithms are a favorite topic in introductory computer science courses: if you've ever taken one, you probably have had dreams (or, depending on your temperament, nightmares) about *insertion sorts*, *selection sorts*, *merge sorts*, *quick sorts*, *bubble sorts*, and many, many more.\n",
        "All are means of accomplishing a similar task: sorting the values in a list or array.\n",
        "\n",
        "For example, a simple *selection sort* repeatedly finds the minimum value from a list, and makes swaps until the list is sorted. We can code this in just a few lines of Python:"
      ]
    },
    {
      "cell_type": "code",
      "execution_count": 293,
      "metadata": {
        "id": "Ux3E_0NW9rE5"
      },
      "outputs": [],
      "source": [
        "import numpy as np\n",
        "\n",
        "def selection_sort(x):\n",
        "    for i in range(len(x)):\n",
        "        swap = i + np.argmin(x[i:])\n",
        "        (x[i], x[swap]) = (x[swap], x[i])\n",
        "    return x"
      ]
    },
    {
      "cell_type": "code",
      "execution_count": 292,
      "metadata": {
        "id": "Bq6_B30R9rE8",
        "outputId": "80526650-98db-41c9-e366-470438ac0f99"
      },
      "outputs": [
        {
          "data": {
            "text/plain": [
              "array([1, 2, 3, 4, 5])"
            ]
          },
          "execution_count": 292,
          "metadata": {},
          "output_type": "execute_result"
        }
      ],
      "source": [
        "x = np.array([2, 1, 4, 3, 5])\n",
        "selection_sort(x)"
      ]
    },
    {
      "cell_type": "markdown",
      "metadata": {
        "id": "LBZS8iAT9rE-"
      },
      "source": [
        "As any first-year computer science major will tell you, the selection sort is useful for its simplicity, but is much too slow to be useful for larger arrays.\n",
        "For a list of $N$ values, it requires $N$ loops, each of which does on order $\\sim N$ comparisons to find the swap value.\n",
        "In terms of the \"big-O\" notation often used to characterize these algorithms (see [Big-O Notation](#Aside:-Big-O-Notation)), selection sort averages $\\mathcal{O}[N^2]$: if you double the number of items in the list, the execution time will go up by about a factor of four.\n",
        "\n",
        "Even selection sort, though, is much better than my all-time favorite sorting algorithms, the *bogosort*:"
      ]
    },
    {
      "cell_type": "code",
      "execution_count": 291,
      "metadata": {
        "id": "c28Cq5N_9rFA"
      },
      "outputs": [],
      "source": [
        "def bogosort(x):\n",
        "    while np.any(x[:-1] > x[1:]):\n",
        "        np.random.shuffle(x)\n",
        "    return x"
      ]
    },
    {
      "cell_type": "code",
      "execution_count": 269,
      "metadata": {
        "id": "GNVOukKz9rFB",
        "outputId": "979ac74e-ddc7-4663-e4dd-9d4c76d2a79e"
      },
      "outputs": [
        {
          "data": {
            "text/plain": [
              "array([1, 2, 3, 4, 5])"
            ]
          },
          "execution_count": 269,
          "metadata": {},
          "output_type": "execute_result"
        }
      ],
      "source": [
        "x = np.array([2, 1, 4, 3, 5])\n",
        "bogosort(x)"
      ]
    },
    {
      "cell_type": "markdown",
      "metadata": {
        "id": "_534x0lk9rFC"
      },
      "source": [
        "This silly sorting method relies on pure chance: it repeatedly applies a random shuffling of the array until the result happens to be sorted.\n",
        "With an average scaling of $\\mathcal{O}[N \\times N!]$, (that's *N* times *N* factorial) this should–quite obviously–never be used for any real computation.\n",
        "\n",
        "Fortunately, Python contains built-in sorting algorithms that are *much* more efficient than either of the simplistic algorithms just shown. We'll start by looking at the Python built-ins, and then take a look at the routines included in NumPy and optimized for NumPy arrays."
      ]
    },
    {
      "cell_type": "markdown",
      "metadata": {
        "id": "M4cOnzzJ9rFD"
      },
      "source": [
        "## Fast Sorting in NumPy: ``np.sort`` and ``np.argsort``\n",
        "\n",
        "Although Python has built-in ``sort`` and ``sorted`` functions to work with lists, we won't discuss them here because NumPy's ``np.sort`` function turns out to be much more efficient and useful for our purposes.\n",
        "By default ``np.sort`` uses an $\\mathcal{O}[N\\log N]$, *quicksort* algorithm, though *mergesort* and *heapsort* are also available. For most applications, the default quicksort is more than sufficient.\n",
        "\n",
        "To return a sorted version of the array without modifying the input, you can use ``np.sort``:"
      ]
    },
    {
      "cell_type": "code",
      "execution_count": 270,
      "metadata": {
        "id": "luJCr4FS9rFD",
        "outputId": "f837f244-5580-4dbd-acaa-7107681a2e3a"
      },
      "outputs": [
        {
          "data": {
            "text/plain": [
              "array([1, 2, 3, 4, 5])"
            ]
          },
          "execution_count": 270,
          "metadata": {},
          "output_type": "execute_result"
        }
      ],
      "source": [
        "x = np.array([2, 1, 4, 3, 5])\n",
        "np.sort(x)"
      ]
    },
    {
      "cell_type": "markdown",
      "metadata": {
        "id": "jdwAL7A79rFE"
      },
      "source": [
        "If you prefer to sort the array in-place, you can instead use the ``sort`` method of arrays:"
      ]
    },
    {
      "cell_type": "code",
      "execution_count": 271,
      "metadata": {
        "id": "Wy7Fd0ZX9rFE",
        "outputId": "3a2c3eec-3ceb-4e4b-fda9-e1215008d883"
      },
      "outputs": [
        {
          "name": "stdout",
          "output_type": "stream",
          "text": [
            "[1 2 3 4 5]\n"
          ]
        }
      ],
      "source": [
        "x.sort()\n",
        "print(x)"
      ]
    },
    {
      "cell_type": "markdown",
      "metadata": {
        "id": "QLcjgARc9rFE"
      },
      "source": [
        "A related function is ``argsort``, which instead returns the *indices* of the sorted elements:"
      ]
    },
    {
      "cell_type": "code",
      "execution_count": 272,
      "metadata": {
        "id": "BiI1KOjx9rFE",
        "outputId": "580f3acd-b5ed-4d4a-f30d-dd3255d85a8a"
      },
      "outputs": [
        {
          "name": "stdout",
          "output_type": "stream",
          "text": [
            "[1 0 3 2 4]\n"
          ]
        }
      ],
      "source": [
        "x = np.array([2, 1, 4, 3, 5])\n",
        "i = np.argsort(x)\n",
        "print(i)"
      ]
    },
    {
      "cell_type": "markdown",
      "metadata": {
        "id": "hEN7w6RP9rFF"
      },
      "source": [
        "The first element of this result gives the index of the smallest element, the second value gives the index of the second smallest, and so on.\n",
        "These indices can then be used (via fancy indexing) to construct the sorted array if desired:"
      ]
    },
    {
      "cell_type": "code",
      "execution_count": 273,
      "metadata": {
        "id": "DVfUwMRd9rFF",
        "outputId": "ae7a8476-cdf0-4650-9b91-829f2e551394"
      },
      "outputs": [
        {
          "data": {
            "text/plain": [
              "array([1, 2, 3, 4, 5])"
            ]
          },
          "execution_count": 273,
          "metadata": {},
          "output_type": "execute_result"
        }
      ],
      "source": [
        "x[i]"
      ]
    },
    {
      "cell_type": "markdown",
      "metadata": {
        "id": "WFntptjU9rFG"
      },
      "source": [
        "### Sorting along rows or columns"
      ]
    },
    {
      "cell_type": "markdown",
      "metadata": {
        "id": "SWBtU0f59rFG"
      },
      "source": [
        "A useful feature of NumPy's sorting algorithms is the ability to sort along specific rows or columns of a multidimensional array using the ``axis`` argument. For example:"
      ]
    },
    {
      "cell_type": "code",
      "execution_count": 274,
      "metadata": {
        "id": "Z6wtLkLx9rFG",
        "outputId": "4ff8455c-5e03-441c-8f56-ff3ff7b094fe"
      },
      "outputs": [
        {
          "name": "stdout",
          "output_type": "stream",
          "text": [
            "[[6 3 7 4 6 9]\n",
            " [2 6 7 4 3 7]\n",
            " [7 2 5 4 1 7]\n",
            " [5 1 4 0 9 5]]\n"
          ]
        }
      ],
      "source": [
        "rand = np.random.RandomState(42)\n",
        "X = rand.randint(0, 10, (4, 6))\n",
        "print(X)"
      ]
    },
    {
      "cell_type": "code",
      "execution_count": 275,
      "metadata": {
        "id": "3k2oIO7y9rFH",
        "outputId": "e933dfa7-efde-4e36-f2ec-3ca035544e5e"
      },
      "outputs": [
        {
          "data": {
            "text/plain": [
              "array([[2, 1, 4, 0, 1, 5],\n",
              "       [5, 2, 5, 4, 3, 7],\n",
              "       [6, 3, 7, 4, 6, 7],\n",
              "       [7, 6, 7, 4, 9, 9]], dtype=int32)"
            ]
          },
          "execution_count": 275,
          "metadata": {},
          "output_type": "execute_result"
        }
      ],
      "source": [
        "# sort each column of X\n",
        "np.sort(X, axis=0)"
      ]
    },
    {
      "cell_type": "code",
      "execution_count": 276,
      "metadata": {
        "id": "XBOlBTHA9rFI",
        "outputId": "7e4b21d7-3413-472a-fb82-59cf1bc5b6af"
      },
      "outputs": [
        {
          "data": {
            "text/plain": [
              "array([[3, 4, 6, 6, 7, 9],\n",
              "       [2, 3, 4, 6, 7, 7],\n",
              "       [1, 2, 4, 5, 7, 7],\n",
              "       [0, 1, 4, 5, 5, 9]], dtype=int32)"
            ]
          },
          "execution_count": 276,
          "metadata": {},
          "output_type": "execute_result"
        }
      ],
      "source": [
        "# sort each row of X\n",
        "np.sort(X, axis=1)"
      ]
    },
    {
      "cell_type": "markdown",
      "metadata": {
        "id": "ZdzWhmbn9rFI"
      },
      "source": [
        "Keep in mind that this treats each row or column as an independent array, and any relationships between the row or column values will be lost!"
      ]
    },
    {
      "cell_type": "markdown",
      "metadata": {
        "id": "KZCNx16o9rFI"
      },
      "source": [
        "## Partial Sorts: Partitioning\n",
        "\n",
        "Sometimes we're not interested in sorting the entire array, but simply want to find the *k* smallest values in the array. NumPy provides this in the ``np.partition`` function. ``np.partition`` takes an array and a number *K*; the result is a new array with the smallest *K* values to the left of the partition, and the remaining values to the right, in arbitrary order:"
      ]
    },
    {
      "cell_type": "code",
      "execution_count": 277,
      "metadata": {
        "id": "jjsq0UB59rFJ",
        "outputId": "e211b7e8-bd78-41ff-b23a-3a453a352b53"
      },
      "outputs": [
        {
          "data": {
            "text/plain": [
              "array([1, 2, 3, 4, 5, 6, 7])"
            ]
          },
          "execution_count": 277,
          "metadata": {},
          "output_type": "execute_result"
        }
      ],
      "source": [
        "x = np.array([7, 2, 3, 1, 6, 5, 4])\n",
        "np.partition(x, 3)"
      ]
    },
    {
      "cell_type": "markdown",
      "metadata": {
        "id": "c3OqWfde9rFJ"
      },
      "source": [
        "Note that the first three values in the resulting array are the three smallest in the array, and the remaining array positions contain the remaining values.\n",
        "Within the two partitions, the elements have arbitrary order.\n",
        "\n",
        "Similarly to sorting, we can partition along an arbitrary axis of a multidimensional array:"
      ]
    },
    {
      "cell_type": "code",
      "execution_count": 278,
      "metadata": {
        "id": "FoRmc_3f9rFJ",
        "outputId": "b5c8dca4-c732-485c-a510-b7a93fc09ab5"
      },
      "outputs": [
        {
          "data": {
            "text/plain": [
              "array([[3, 4, 6, 6, 7, 9],\n",
              "       [2, 3, 4, 6, 7, 7],\n",
              "       [1, 2, 4, 5, 7, 7],\n",
              "       [0, 1, 4, 5, 5, 9]], dtype=int32)"
            ]
          },
          "execution_count": 278,
          "metadata": {},
          "output_type": "execute_result"
        }
      ],
      "source": [
        "np.partition(X, 2, axis=1)"
      ]
    },
    {
      "cell_type": "markdown",
      "metadata": {
        "id": "iqb146Bc9rFK"
      },
      "source": [
        "The result is an array where the first two slots in each row contain the smallest values from that row, with the remaining values filling the remaining slots.\n",
        "\n",
        "Finally, just as there is a ``np.argsort`` that computes indices of the sort, there is a ``np.argpartition`` that computes indices of the partition.\n",
        "We'll see this in action in the following section."
      ]
    },
    {
      "cell_type": "markdown",
      "metadata": {
        "id": "AkNfrJGBOmEm"
      },
      "source": [
        "# Structured Data: NumPy's Structured Arrays"
      ]
    },
    {
      "cell_type": "markdown",
      "metadata": {
        "id": "0k8o6atdOmEm"
      },
      "source": [
        "While often our data can be well represented by a homogeneous array of values, sometimes this is not the case. This section demonstrates the use of NumPy's *structured arrays* and *record arrays*, which provide efficient storage for compound, heterogeneous data.  While the patterns shown here are useful for simple operations, scenarios like this often lend themselves to the use of Pandas ``Dataframe``s, which we'll explore in [Chapter 3](03.00-Introduction-to-Pandas.ipynb)."
      ]
    },
    {
      "cell_type": "code",
      "execution_count": 279,
      "metadata": {
        "collapsed": true,
        "id": "PTh6KzrsOmEm"
      },
      "outputs": [],
      "source": [
        "import numpy as np"
      ]
    },
    {
      "cell_type": "markdown",
      "metadata": {
        "id": "9o6FRCq4OmEn"
      },
      "source": [
        "Imagine that we have several categories of data on a number of people (say, name, age, and weight), and we'd like to store these values for use in a Python program.\n",
        "It would be possible to store these in three separate arrays:"
      ]
    },
    {
      "cell_type": "code",
      "execution_count": 280,
      "metadata": {
        "id": "XM2QEjT1OmEn"
      },
      "outputs": [],
      "source": [
        "name = ['Alice', 'Bob', 'Cathy', 'Doug']\n",
        "age = [25, 45, 37, 19]\n",
        "weight = [55.0, 85.5, 68.0, 61.5]"
      ]
    },
    {
      "cell_type": "markdown",
      "metadata": {
        "id": "PIy9fBFrOmEo"
      },
      "source": [
        "But this is a bit clumsy. There's nothing here that tells us that the three arrays are related; it would be more natural if we could use a single structure to store all of this data.\n",
        "NumPy can handle this through structured arrays, which are arrays with compound data types.\n",
        "\n",
        "Recall that previously we created a simple array using an expression like this:"
      ]
    },
    {
      "cell_type": "code",
      "execution_count": 281,
      "metadata": {
        "id": "GnzvbtjROmEo"
      },
      "outputs": [],
      "source": [
        "x = np.zeros(4, dtype=int)"
      ]
    },
    {
      "cell_type": "markdown",
      "metadata": {
        "id": "lSatpGrROmEo"
      },
      "source": [
        "We can similarly create a structured array using a compound data type specification:"
      ]
    },
    {
      "cell_type": "code",
      "execution_count": 282,
      "metadata": {
        "id": "PsHdS9cEOmEp",
        "outputId": "05fa8c14-4729-4120-f44f-0694639191ec"
      },
      "outputs": [
        {
          "name": "stdout",
          "output_type": "stream",
          "text": [
            "[('name', '<U10'), ('age', '<i4'), ('weight', '<f8')]\n"
          ]
        }
      ],
      "source": [
        "# Use a compound data type for structured arrays\n",
        "data = np.zeros(4, dtype={'names':('name', 'age', 'weight'),\n",
        "                          'formats':('U10', 'i4', 'f8')})\n",
        "print(data.dtype)"
      ]
    },
    {
      "cell_type": "markdown",
      "metadata": {
        "id": "XSrMolGXOmEq"
      },
      "source": [
        "Here ``'U10'`` translates to \"Unicode string of maximum length 10,\" ``'i4'`` translates to \"4-byte (i.e., 32 bit) integer,\" and ``'f8'`` translates to \"8-byte (i.e., 64 bit) float.\"\n",
        "We'll discuss other options for these type codes in the following section.\n",
        "\n",
        "Now that we've created an empty container array, we can fill the array with our lists of values:"
      ]
    },
    {
      "cell_type": "code",
      "execution_count": 283,
      "metadata": {
        "id": "MCO5ogeZOmEq",
        "outputId": "794304ac-6333-484b-d79c-795582d4db6e"
      },
      "outputs": [
        {
          "name": "stdout",
          "output_type": "stream",
          "text": [
            "[('Alice', 25, 55. ) ('Bob', 45, 85.5) ('Cathy', 37, 68. )\n",
            " ('Doug', 19, 61.5)]\n"
          ]
        }
      ],
      "source": [
        "data['name'] = name\n",
        "data['age'] = age\n",
        "data['weight'] = weight\n",
        "print(data)"
      ]
    },
    {
      "cell_type": "markdown",
      "metadata": {
        "id": "5DgyUvqSOmEq"
      },
      "source": [
        "As we had hoped, the data is now arranged together in one convenient block of memory.\n",
        "\n",
        "The handy thing with structured arrays is that you can now refer to values either by index or by name:"
      ]
    },
    {
      "cell_type": "code",
      "execution_count": 284,
      "metadata": {
        "id": "CZiJzbWZOmEq",
        "outputId": "e0548431-e7e3-4c16-a766-a46ab0b12f36"
      },
      "outputs": [
        {
          "data": {
            "text/plain": [
              "array(['Alice', 'Bob', 'Cathy', 'Doug'], dtype='<U10')"
            ]
          },
          "execution_count": 284,
          "metadata": {},
          "output_type": "execute_result"
        }
      ],
      "source": [
        "# Get all names\n",
        "data['name']"
      ]
    },
    {
      "cell_type": "code",
      "execution_count": 285,
      "metadata": {
        "id": "iWvwtWf3OmEr",
        "outputId": "52fed25f-241b-493d-dea6-1a6668f27b92"
      },
      "outputs": [
        {
          "data": {
            "text/plain": [
              "np.void(('Alice', 25, 55.0), dtype=[('name', '<U10'), ('age', '<i4'), ('weight', '<f8')])"
            ]
          },
          "execution_count": 285,
          "metadata": {},
          "output_type": "execute_result"
        }
      ],
      "source": [
        "# Get first row of data\n",
        "data[0]"
      ]
    },
    {
      "cell_type": "code",
      "execution_count": 286,
      "metadata": {
        "id": "vPOiGUgiOmEr",
        "outputId": "5c458b89-e3de-4fd0-a39a-ad4ad8905552"
      },
      "outputs": [
        {
          "data": {
            "text/plain": [
              "np.str_('Doug')"
            ]
          },
          "execution_count": 286,
          "metadata": {},
          "output_type": "execute_result"
        }
      ],
      "source": [
        "# Get the name from the last row\n",
        "data[-1]['name']"
      ]
    },
    {
      "cell_type": "markdown",
      "metadata": {
        "id": "Fw4ibTzCOmEr"
      },
      "source": [
        "Using Boolean masking, this even allows you to do some more sophisticated operations such as filtering on age:"
      ]
    },
    {
      "cell_type": "code",
      "execution_count": 287,
      "metadata": {
        "id": "cAGkOXyQOmEr",
        "outputId": "b08445f1-fbf3-41e8-8ff6-e1a968522c68"
      },
      "outputs": [
        {
          "data": {
            "text/plain": [
              "array(['Alice', 'Doug'], dtype='<U10')"
            ]
          },
          "execution_count": 287,
          "metadata": {},
          "output_type": "execute_result"
        }
      ],
      "source": [
        "# Get names where age is under 30\n",
        "data[data['age'] < 30]['name']"
      ]
    },
    {
      "cell_type": "markdown",
      "metadata": {
        "id": "7gMyibUGOmEs"
      },
      "source": [
        "Note that if you'd like to do any operations that are any more complicated than these, you should probably consider the Pandas package, covered in the next chapter.\n",
        "As we'll see, Pandas provides a ``Dataframe`` object, which is a structure built on NumPy arrays that offers a variety of useful data manipulation functionality similar to what we've shown here, as well as much, much more."
      ]
    },
    {
      "cell_type": "markdown",
      "metadata": {
        "id": "XacpF08_OmEu"
      },
      "source": [
        "## More Advanced Compound Types\n",
        "\n",
        "It is possible to define even more advanced compound types.\n",
        "For example, you can create a type where each element contains an array or matrix of values.\n",
        "Here, we'll create a data type with a ``mat`` component consisting of a $3\\times 3$ floating-point matrix:"
      ]
    },
    {
      "cell_type": "code",
      "execution_count": 288,
      "metadata": {
        "id": "i1QrRa_JOmEv",
        "outputId": "fc429620-10a3-4a43-8ace-007903bcb601"
      },
      "outputs": [
        {
          "name": "stdout",
          "output_type": "stream",
          "text": [
            "(0, [[0.0, 0.0, 0.0], [0.0, 0.0, 0.0], [0.0, 0.0, 0.0]])\n",
            "[[0. 0. 0.]\n",
            " [0. 0. 0.]\n",
            " [0. 0. 0.]]\n"
          ]
        }
      ],
      "source": [
        "tp = np.dtype([('id', 'i8'), ('mat', 'f8', (3, 3))])\n",
        "X = np.zeros(1, dtype=tp)\n",
        "print(X[0])\n",
        "print(X['mat'][0])"
      ]
    },
    {
      "cell_type": "markdown",
      "metadata": {
        "id": "ZllNNEAZOmEv"
      },
      "source": [
        "Now each element in the ``X`` array consists of an ``id`` and a $3\\times 3$ matrix.\n",
        "Why would you use this rather than a simple multidimensional array, or perhaps a Python dictionary?\n",
        "The reason is that this NumPy ``dtype`` directly maps onto a C structure definition, so the buffer containing the array content can be accessed directly within an appropriately written C program.\n",
        "If you find yourself writing a Python interface to a legacy C or Fortran library that manipulates structured data, you'll probably find structured arrays quite useful!"
      ]
    }
  ],
  "metadata": {
    "colab": {
      "provenance": []
    },
    "kernelspec": {
      "display_name": "Python 3",
      "name": "python3"
    },
    "language_info": {
      "codemirror_mode": {
        "name": "ipython",
        "version": 3
      },
      "file_extension": ".py",
      "mimetype": "text/x-python",
      "name": "python",
      "nbconvert_exporter": "python",
      "pygments_lexer": "ipython3",
      "version": "3.12.0"
    }
  },
  "nbformat": 4,
  "nbformat_minor": 0
}
