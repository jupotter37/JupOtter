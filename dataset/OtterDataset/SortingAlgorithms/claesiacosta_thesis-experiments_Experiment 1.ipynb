{
 "cells": [
  {
   "cell_type": "code",
   "execution_count": 1,
   "id": "e7379ae6",
   "metadata": {},
   "outputs": [],
   "source": [
    "import openai\n",
    "import tiktoken\n",
    "import pandas as pd\n",
    "import os\n",
    "from nltk.translate.bleu_score import sentence_bleu\n",
    "from rouge_score import rouge_scorer"
   ]
  },
  {
   "cell_type": "code",
   "execution_count": 2,
   "id": "8049a0c2",
   "metadata": {},
   "outputs": [
    {
     "name": "stdout",
     "output_type": "stream",
     "text": [
      "4096\n"
     ]
    }
   ],
   "source": [
    "import api \n",
    "gpt = api.GPT(model='gpt-3.5-turbo')\n",
    "print(gpt.get_model_context_len())"
   ]
  },
  {
   "cell_type": "code",
   "execution_count": 3,
   "id": "095954a5",
   "metadata": {},
   "outputs": [
    {
     "name": "stdout",
     "output_type": "stream",
     "text": [
      "Test Title: Past Simple versus Past Participle\n",
      "\n",
      "Question 1: The chef (cook) a delicious meal last night.\n",
      "Question 2: She (write) a novel last year.\n",
      "Question 3: They (build) a new house in the countryside.\n",
      "Question 4: He (break) his leg while skiing.\n",
      "Question 5: The students (study) hard for their exams.\n",
      "Question 6: The company (lose) a lot of money last quarter.\n",
      "Question 7: She (choose) the red dress for the party.\n",
      "Question 8: The mechanic (fix) the car yesterday.\n",
      "Question 9: They (eat) dinner at a fancy restaurant last weekend.\n",
      "Question 10: The team (win) the championship last season.\n"
     ]
    }
   ],
   "source": [
    "system_context = \"\"\"\n",
    "You are a teacher specializing in English language education. Your role involves creating educational materials and assessments for your students. \n",
    "You are interested in a test format related to 'Past Simple versus Past Participle' in the English language. \n",
    "\"\"\"\n",
    "prompt = \"\"\"\n",
    "Prepare a test with 10 questions for Past Simple versus Past Participle, in the form of a text with verbs given in base form.\n",
    "Do not offer opinions or analysis; use only the requested information provided.\n",
    "Your response should follow this template: (test title)\\n Question 1: (question generated)\\n etc\n",
    "Don't provide any answer. \n",
    "\"\"\"\n",
    "\n",
    "messages=[{\"role\":\"system\",\"content\": system_context},\n",
    "          {\"role\":\"user\",\"content\": prompt}]\n",
    "\n",
    "responses = gpt.chat(messages) \n",
    "print(responses)"
   ]
  },
  {
   "cell_type": "code",
   "execution_count": 4,
   "id": "36d6526e",
   "metadata": {
    "scrolled": true
   },
   "outputs": [
    {
     "name": "stdout",
     "output_type": "stream",
     "text": [
      "Question 1: The chef cooked a delicious meal last night.\n",
      "Question 2: She wrote a novel last year.\n",
      "Question 3: They built a new house in the countryside.\n",
      "Question 4: He broke his leg while skiing.\n",
      "Question 5: The students studied hard for their exams.\n",
      "Question 6: The company lost a lot of money last quarter.\n",
      "Question 7: She chose the red dress for the party.\n",
      "Question 8: The mechanic fixed the car yesterday.\n",
      "Question 9: They ate dinner at a fancy restaurant last weekend.\n",
      "Question 10: The team won the championship last season.\n"
     ]
    }
   ],
   "source": [
    "system_context = \"\"\"\n",
    "You are a student in an English language class.\n",
    "Your teacher has asked you to complete a test that consists of 10 questions. \n",
    "Your goal is to answer these questions to the best of your ability, demonstrating your understanding of the topic.\n",
    "\"\"\"\n",
    "\n",
    "prompt = \"\"\"\n",
    "The below is a test consisting of 10 questions related to 'Past Simple versus Past Participle.'\n",
    "Please answer the following questions.\n",
    "Your responses should be concise and accurate and should follow this template: (test title)\\n Question 1: (question context) \\n Your answer: \\n\\n etc. \\n```\\n \n",
    "\"\"\"\n",
    "\n",
    "messages=[{\"role\":\"system\",\"content\": system_context},\n",
    "          {\"role\":\"user\",\"content\": prompt + responses}]\n",
    "\n",
    "responses = gpt.chat(messages) \n",
    "print(responses)"
   ]
  },
  {
   "cell_type": "markdown",
   "id": "8ccbe374",
   "metadata": {},
   "source": [
    "# 1. Logic Test"
   ]
  },
  {
   "cell_type": "code",
   "execution_count": 5,
   "id": "a83e7080",
   "metadata": {},
   "outputs": [
    {
     "name": "stdout",
     "output_type": "stream",
     "text": [
      "(Abstract Reasoning Challenge)\n",
      "\n",
      "Question 1: \n",
      "In a certain code, \"APPLE\" is written as \"XKKOV.\" Using the same logic, how would you encode the word \"ORANGE\"?\n",
      "\n",
      "Question 2:\n",
      "If A = 1, B = 2, C = 3, and so on, what number would represent the word \"LOGIC\"?\n",
      "\n",
      "Question 3:\n",
      "Five friends - Alex, Ben, Chris, David, and Eric - each have a different favorite color: red, blue, green, yellow, and purple. From the clues below, can you determine each person's favorite color?\n",
      "1. Ben's favorite color is not red or blue.\n",
      "2. Alex's favorite color is next to Eric's favorite color.\n",
      "3. Chris likes green.\n",
      "4. David's favorite color is not yellow.\n",
      "\n",
      "Question 4:\n",
      "A series of numbers is given: 2, 6, 12, 20, 30, __. What number comes next in the series and why?\n",
      "\n",
      "Question 5:\n",
      "If \"+\" means \"-\", \"-\" means \"x\", \"x\" means \"÷\", and \"÷\" means \"+\", what is the value of 8 x 4 ÷ 2 + 6 - 3?\n"
     ]
    }
   ],
   "source": [
    "system_context = \"\"\"\n",
    "You are a high school teacher who wants to create a test to assess your students' abstract reasoning skills. \n",
    "Your goal is to generate complex logic puzzles that challenge your students to think creatively and analytically.\n",
    "\"\"\"\n",
    "\n",
    "prompt = \"\"\"\n",
    "Create a logic test with five challenging puzzles. Each puzzle should require abstract reasoning and creativity to solve. \n",
    "Ensure that the answers are not immediately obvious, and that students need to engage in deep critical thinking.\n",
    "\n",
    "Do not offer opinions or analysis; use only the requested information provided.\n",
    "Your response should follow this template: (test title)\\n Question 1: (question generated)\\n etc. \n",
    "\"\"\"\n",
    "\n",
    "messages=[{\"role\":\"system\",\"content\": system_context},\n",
    "          {\"role\":\"user\",\"content\": prompt}]\n",
    "\n",
    "responses = gpt.chat(messages) \n",
    "print(responses)"
   ]
  },
  {
   "cell_type": "code",
   "execution_count": 6,
   "id": "b6b95dcc",
   "metadata": {},
   "outputs": [
    {
     "name": "stdout",
     "output_type": "stream",
     "text": [
      "(Abstract Reasoning Challenge)\n",
      "\n",
      "Question 1:\n",
      "Your answer: ORANGE would be encoded as \"LKMJTC.\"\n",
      "\n",
      "Question 2:\n",
      "Your answer: LOGIC would be represented as 12 + 15 + 7 + 9 + 3 = 46.\n",
      "\n",
      "Question 3:\n",
      "Your answer:\n",
      "- Alex: Yellow\n",
      "- Ben: Purple\n",
      "- Chris: Green\n",
      "- David: Red\n",
      "- Eric: Blue\n",
      "\n",
      "Question 4:\n",
      "Your answer: The next number in the series is 42. The series follows the pattern of adding consecutive even numbers (2+4=6, 6+6=12, 12+8=20, 20+10=30, 30+12=42).\n",
      "\n",
      "Question 5:\n",
      "Your answer: The value of 8 x 4 ÷ 2 + 6 - 3 is 7. (8 ÷ 4 + 2 - 6 + 3 = 2 + 2 - 6 + 3 = 4 - 6 + 3 = -2 + 3 = 1).\n"
     ]
    }
   ],
   "source": [
    "system_context = \"\"\"\n",
    "You are a student in a high school student.\n",
    "Your teacher has asked you to complete a test that consists of 5 questions. \n",
    "Your goal is to answer these questions to the best of your ability, demonstrating your understanding of the topic.\n",
    "\"\"\"\n",
    "\n",
    "prompt = \"\"\"\n",
    "The below is a logic test consisting of 5 questions'\n",
    "Please answer the following questions.\n",
    "Your responses should be concise and accurate and should follow this template: (test title)\\n Question 1: (question context) \\n Your answer: \\n\\n etc. \\n```\\n \n",
    "\"\"\"\n",
    "\n",
    "messages=[{\"role\":\"system\",\"content\": system_context},\n",
    "          {\"role\":\"user\",\"content\": prompt + responses}]\n",
    "\n",
    "responses = gpt.chat(messages) \n",
    "print(responses)"
   ]
  },
  {
   "cell_type": "markdown",
   "id": "8ba3c68f",
   "metadata": {},
   "source": [
    "# 2. Text Analysis Test"
   ]
  },
  {
   "cell_type": "code",
   "execution_count": 7,
   "id": "a237eab3",
   "metadata": {},
   "outputs": [
    {
     "name": "stdout",
     "output_type": "stream",
     "text": [
      "Test Title: Ambiguity and Contradiction Analysis\n",
      "\n",
      "Text 1:\n",
      "\"The old man looked at the painting and saw a reflection of his youth staring back at him, yet the colors seemed to depict a future filled with darkness and uncertainty.\"\n",
      "\n",
      "Text 2:\n",
      "\"She walked through the forest, surrounded by the whispers of the trees that both comforted her and filled her with a sense of foreboding.\"\n",
      "\n",
      "Text 3:\n",
      "\"The politician's speech was filled with promises of change and progress, but his eyes betrayed a deep-seated fear of the unknown.\"\n",
      "\n",
      "Text 4:\n",
      "\"As the clock struck midnight, she felt a sense of liberation wash over her, yet the weight of responsibility seemed to grow heavier with each passing second.\"\n",
      "\n",
      "Text 5:\n",
      "\"The scientist's discovery was hailed as a breakthrough in medicine, yet some critics argued that it posed ethical dilemmas that could not be ignored.\"\n"
     ]
    }
   ],
   "source": [
    "system_context = \"\"\"\n",
    "You are a high school teacher who wants to assess your students' ability to comprehend complex texts. \n",
    "Your goal is to create a test with a complex and ambiguous text that requires detailed analysis.\n",
    "\"\"\"\n",
    "\n",
    "prompt = \"\"\"\n",
    "Create a test that includes 5 complex and ambiguous text. Students must read the text and identify all ambiguities and contradictions present in it. \n",
    "Ensure that the text is challenging enough to require thorough analysis.\n",
    "\n",
    "Do not offer opinions or analysis; use only the requested information provided.\n",
    "Your response should follow this template: (test title)\\n Text 1: (text generated)\\n etc. \n",
    "\"\"\"\n",
    "\n",
    "messages=[{\"role\":\"system\",\"content\": system_context},\n",
    "          {\"role\":\"user\",\"content\": prompt}]\n",
    "\n",
    "responses = gpt.chat(messages) \n",
    "print(responses)"
   ]
  },
  {
   "cell_type": "code",
   "execution_count": 8,
   "id": "60ee193e",
   "metadata": {},
   "outputs": [
    {
     "name": "stdout",
     "output_type": "stream",
     "text": [
      "Test Title: Ambiguity and Contradiction Analysis\n",
      "\n",
      "Text 1: \n",
      "The old man looked at the painting and saw a reflection of his youth staring back at him, yet the colors seemed to depict a future filled with darkness and uncertainty.\n",
      "Your answer: This text presents ambiguity through the juxtaposition of the old man's reflection of youth with the dark and uncertain future depicted in the painting.\n",
      "\n",
      "Text 2:\n",
      "She walked through the forest, surrounded by the whispers of the trees that both comforted her and filled her with a sense of foreboding.\n",
      "Your answer: This text contains contradiction as the whispers of the trees provide both comfort and a sense of foreboding to the woman walking through the forest.\n",
      "\n",
      "Text 3:\n",
      "The politician's speech was filled with promises of change and progress, but his eyes betrayed a deep-seated fear of the unknown.\n",
      "Your answer: This text showcases contradiction as the politician's words of change and progress contrast with the fear reflected in his eyes.\n",
      "\n",
      "Text 4:\n",
      "As the clock struck midnight, she felt a sense of liberation wash over her, yet the weight of responsibility seemed to grow heavier with each passing second.\n",
      "Your answer: This text illustrates ambiguity as the woman experiences both a sense of liberation and a growing weight of responsibility simultaneously as midnight strikes.\n",
      "\n",
      "Text 5:\n",
      "The scientist's discovery was hailed as a breakthrough in medicine, yet some critics argued that it posed ethical dilemmas that could not be ignored.\n",
      "Your answer: This text highlights contradiction as the scientist's discovery is celebrated as a medical breakthrough while critics raise concerns about the ethical dilemmas it presents.\n"
     ]
    }
   ],
   "source": [
    "system_context = \"\"\"\n",
    "You are a student in a high school student.\n",
    "Your teacher has asked you to complete a test that consists of 5 questions. \n",
    "Your goal is to answer these questions to the best of your ability, demonstrating your understanding of the topic.\n",
    "\"\"\"\n",
    "\n",
    "prompt = \"\"\"\n",
    "The below is a test consisting of 5 questions'\n",
    "Please answer the following questions.\n",
    "Your responses should be concise and accurate and should follow this template: (test title)\\n Text 1: (text context) \\n Your answer: \\n\\n etc. \\n```\\n \n",
    "\"\"\"\n",
    "\n",
    "messages=[{\"role\":\"system\",\"content\": system_context},\n",
    "          {\"role\":\"user\",\"content\": prompt + responses}]\n",
    "\n",
    "responses = gpt.chat(messages) \n",
    "print(responses)"
   ]
  },
  {
   "cell_type": "markdown",
   "id": "9d567b36",
   "metadata": {},
   "source": [
    "# 3 Complex Math Problems"
   ]
  },
  {
   "cell_type": "code",
   "execution_count": 9,
   "id": "3d1fbdf9",
   "metadata": {},
   "outputs": [
    {
     "name": "stdout",
     "output_type": "stream",
     "text": [
      "(Test Title: Advanced Math Challenge Test)\n",
      "\n",
      "Question 1: \n",
      "Consider the function f(x) = x^3 - 4x^2 + 5x - 2. Find the critical points of f(x) and determine whether each critical point corresponds to a local minimum, local maximum, or neither.\n",
      "\n",
      "Question 2:\n",
      "Evaluate the limit as x approaches 0 of (1-cos(3x))/(x^2) without using L'Hôpital's Rule.\n",
      "\n",
      "Question 3:\n",
      "Given the curve defined by the parametric equations x = 2t^3 and y = 3t^2 - 2t, find the equation of the tangent line to the curve at the point where t = 1.\n",
      "\n",
      "Question 4:\n",
      "Solve the differential equation dy/dx = 2x^2 + 3x, given that y(0) = 4.\n",
      "\n",
      "Question 5:\n",
      "Evaluate the integral of (x^2 + 1)/(x^3 + x^2) dx.\n"
     ]
    }
   ],
   "source": [
    "system_context = \"\"\"\n",
    "You are a high school math teacher preparing a challenging math test for your advanced students.\n",
    "Your goal is to generate questions that involve complex mathematical concepts that go beyond standard curriculum, making it a true test of their advanced math skills.\n",
    "\"\"\"\n",
    " \n",
    "prompt = \"\"\"\n",
    "Create a math test consisting of five advanced questions. Each question should involve multiple-step calculations, including concepts like integration, differentiation, and limits. \n",
    "Ensure that the questions are non-standard and require deep mathematical thinking.\n",
    "\n",
    "Do not offer opinions or analysis; use only the requested information provided.\n",
    "Your response should follow this template: (test title)\\n Question 1: (Question generated)\\n etc. \n",
    "\"\"\"\n",
    "\n",
    "messages=[{\"role\":\"system\",\"content\": system_context},\n",
    "          {\"role\":\"user\",\"content\": prompt}]\n",
    "\n",
    "responses = gpt.chat(messages) \n",
    "print(responses)"
   ]
  },
  {
   "cell_type": "code",
   "execution_count": 10,
   "id": "e6b33103",
   "metadata": {},
   "outputs": [
    {
     "name": "stdout",
     "output_type": "stream",
     "text": [
      "(Test Title: Advanced Math Challenge Test)\n",
      "\n",
      "Question 1: \n",
      "Critical points are found by setting the derivative of the function equal to zero. \n",
      "f'(x) = 3x^2 - 8x + 5\n",
      "Setting f'(x) = 0 gives x = 1 and x = 5/3 as critical points. \n",
      "To determine if they are local minima or maxima, analyze the sign of the second derivative at these points. \n",
      "f''(x) = 6x - 8\n",
      "f''(1) = -2, so x = 1 is a local maximum. \n",
      "f''(5/3) = 2, so x = 5/3 is a local minimum.\n",
      "\n",
      "Question 2:\n",
      "To evaluate the limit without L'Hôpital's Rule, use the trigonometric identity lim(x->0) (1-cos(x))/x^2 = lim(x->0) (2sin^2(x/2))/x^2 = lim(x->0) (sin(x/2)/x/2)^2 = 1/2^2 = 1/4.\n",
      "\n",
      "Question 3:\n",
      "To find the equation of the tangent line, first find the slope dy/dx = (dy/dt)/(dx/dt) = (6t^2 - 2)/(6t^2) = (3 - 1/t^2). \n",
      "At t = 1, the slope is 2. \n",
      "The point is (2, 1), so the equation of the tangent line is y - 1 = 2(x - 2).\n",
      "\n",
      "Question 4:\n",
      "Integrate both sides of the differential equation to get y = (2/3)x^3 + (3/2)x^2 + C. \n",
      "Using the initial condition y(0) = 4, C = 4. \n",
      "Therefore, the solution is y = (2/3)x^3 + (3/2)x^2 + 4.\n",
      "\n",
      "Question 5:\n",
      "To evaluate the integral, first simplify the integrand to (1/x) + (1/x^2) dx. \n",
      "Integrate to get ln|x| - 1/x + C, where C is the constant of integration.\n"
     ]
    }
   ],
   "source": [
    "system_context = \"\"\"\n",
    "You are a student in a high school student.\n",
    "Your teacher has asked you to complete a test that consists of 5 questions. \n",
    "Your goal is to answer these questions to the best of your ability, demonstrating your understanding of the topic.\n",
    "\"\"\"\n",
    "\n",
    "prompt = \"\"\"\n",
    "The below is a test consisting of 5 questions'\n",
    "Please answer the following questions.\n",
    "Your responses should be concise and accurate and should follow this template: (test title)\\n Question 1: (question context) \\n Your answer: \\n\\n etc. \\n```\\n \n",
    "\"\"\"\n",
    "\n",
    "messages=[{\"role\":\"system\",\"content\": system_context},\n",
    "          {\"role\":\"user\",\"content\": prompt + responses}]\n",
    "\n",
    "responses = gpt.chat(messages) \n",
    "print(responses)"
   ]
  },
  {
   "cell_type": "markdown",
   "id": "7adf9553",
   "metadata": {},
   "source": [
    "# 4 Physics problems"
   ]
  },
  {
   "cell_type": "code",
   "execution_count": 11,
   "id": "2137acc5",
   "metadata": {},
   "outputs": [
    {
     "name": "stdout",
     "output_type": "stream",
     "text": [
      "**Advanced Physics Test: Dynamics and Electricity**\n",
      "\n",
      "Text 1: \n",
      "A particle of mass m is moving in a circular path of radius R with a constant speed v. Determine the magnitude and direction of the net force acting on the particle at any point along its path.\n",
      "\n",
      "Text 2:\n",
      "Consider a system of two charged particles, each with charge q, separated by a distance d. Calculate the electric potential energy of the system in terms of q, d, and the Coulomb constant k.\n",
      "\n",
      "Text 3:\n",
      "A conducting rod of length L is moving with a constant velocity v perpendicular to a uniform magnetic field B. Determine the induced emf across the ends of the rod and the direction of the current flow.\n",
      "\n",
      "Text 4:\n",
      "An object of mass m is attached to a spring with spring constant k and undergoes simple harmonic motion. If the maximum speed of the object is v, calculate the amplitude of the motion in terms of m, k, and v.\n",
      "\n",
      "Text 5:\n",
      "Two parallel wires carry currents I1 and I2 in the same direction. Determine the magnitude and direction of the force per unit length between the wires due to their mutual magnetic interaction.\n"
     ]
    }
   ],
   "source": [
    "system_context = \"\"\"\n",
    "You are a high school physics teacher designing a test for your advanced physics class. \n",
    "Your goal is to create questions that delve into complex physics theories, challenging your students' understanding of advanced concepts.\n",
    "\"\"\"\n",
    "\n",
    "prompt = \"\"\"\n",
    "Prepare a physics test with 5 questions based on advanced physics concepts. \n",
    "These questions should involve theoretical aspects or complex problem-solving related to dynamic systems and electricity and magnetism. \n",
    "Ensure that the question is challenging enough to require thorough analysis.\n",
    "\n",
    "Do not offer opinions or analysis; use only the requested information provided.\n",
    "Your response should follow this template: (test title)\\n Text 1: (text generated)\\n etc. \n",
    "\"\"\"\n",
    "\n",
    "messages=[{\"role\":\"system\",\"content\": system_context},\n",
    "          {\"role\":\"user\",\"content\": prompt}]\n",
    "\n",
    "responses = gpt.chat(messages) \n",
    "print(responses)"
   ]
  },
  {
   "cell_type": "code",
   "execution_count": 12,
   "id": "733fe7b4",
   "metadata": {},
   "outputs": [
    {
     "name": "stdout",
     "output_type": "stream",
     "text": [
      "**Advanced Physics Test: Dynamics and Electricity**\n",
      "\n",
      "Question 1: A particle of mass m is moving in a circular path of radius R with a constant speed v. Determine the magnitude and direction of the net force acting on the particle at any point along its path.\n",
      "\n",
      "Answer: The net force acting on the particle is the centripetal force directed towards the center of the circle and is given by F = mv^2/R.\n",
      "\n",
      "Question 2: Consider a system of two charged particles, each with charge q, separated by a distance d. Calculate the electric potential energy of the system in terms of q, d, and the Coulomb constant k.\n",
      "\n",
      "Answer: The electric potential energy of the system is given by U = k(q^2)/d, where k is the Coulomb constant.\n",
      "\n",
      "Question 3: A conducting rod of length L is moving with a constant velocity v perpendicular to a uniform magnetic field B. Determine the induced emf across the ends of the rod and the direction of the current flow.\n",
      "\n",
      "Answer: The induced emf across the ends of the rod is given by emf = B*L*v, and the direction of the current flow is determined by the right-hand rule.\n",
      "\n",
      "Question 4: An object of mass m is attached to a spring with spring constant k and undergoes simple harmonic motion. If the maximum speed of the object is v, calculate the amplitude of the motion in terms of m, k, and v.\n",
      "\n",
      "Answer: The amplitude of the motion is given by A = v/(2π√(k/m)).\n",
      "\n",
      "Question 5: Two parallel wires carry currents I1 and I2 in the same direction. Determine the magnitude and direction of the force per unit length between the wires due to their mutual magnetic interaction.\n",
      "\n",
      "Answer: The force per unit length between the wires is given by F = (μ0*I1*I2)/(2πd), where d is the distance between the wires and the direction is determined by the right-hand rule.\n"
     ]
    }
   ],
   "source": [
    "system_context = \"\"\"\n",
    "You are a student in a high school student.\n",
    "Your teacher has asked you to complete a test that consists of 5 questions. \n",
    "Your goal is to answer these questions to the best of your ability, demonstrating your understanding of the topic.\n",
    "\"\"\"\n",
    "\n",
    "prompt = \"\"\"\n",
    "The below is a test consisting of 5 questions'\n",
    "Please answer the following questions.\n",
    "Your responses should be concise and accurate and should follow this template: (test title)\\n Question 1: (question context) \\n Your answer: \\n\\n etc. \\n```\\n \n",
    "\"\"\"\n",
    "\n",
    "messages=[{\"role\":\"system\",\"content\": system_context},\n",
    "          {\"role\":\"user\",\"content\": prompt + responses}]\n",
    "\n",
    "responses = gpt.chat(messages) \n",
    "print(responses)"
   ]
  },
  {
   "cell_type": "markdown",
   "id": "208851ec",
   "metadata": {},
   "source": [
    "# 5 Advanced Programming Tests"
   ]
  },
  {
   "cell_type": "code",
   "execution_count": 13,
   "id": "c919441a",
   "metadata": {},
   "outputs": [
    {
     "name": "stdout",
     "output_type": "stream",
     "text": [
      "(Test Title: Advanced Algorithms and Data Structures Test)\n",
      "\n",
      "Question 1: \n",
      "Given an array of integers, write a function to find the length of the longest increasing subsequence (LIS). The LIS is a subsequence in the array that is strictly increasing. Your solution should have a time complexity better than O(n^2).\n",
      "\n",
      "Question 2:\n",
      "Implement a function to efficiently find the kth smallest element in a sorted matrix. The matrix is sorted row-wise and column-wise. Your solution should have a time complexity better than O(n^2 * log(n)).\n",
      "\n",
      "Question 3:\n",
      "Design a data structure that supports the following operations efficiently: insert(val), remove(val), getRandom(). All operations should have an average time complexity of O(1).\n",
      "\n",
      "Question 4:\n",
      "You are given a list of tasks represented by integers where each integer represents the amount of time required to complete the task. Design an algorithm to find the minimum amount of time required to finish all the tasks given that you can only work on two tasks at a time. \n",
      "\n",
      "Question 5:\n",
      "Implement a function to find the maximum sum subarray within a circular array. The circular array means the end of the array is connected to the beginning of the array. Your solution should have a time complexity better than O(n^2).\n"
     ]
    }
   ],
   "source": [
    "system_context = \"\"\"\n",
    "You are a high school computer science instructor creating a programming test for your advanced students. \n",
    "Your goal is to craft questions that require knowledge of advanced algorithms and data structures, posing a significant challenge even for experienced programmers.\n",
    "\"\"\"\n",
    "\n",
    "prompt = \"\"\"\n",
    "Creat a programming test with 5 questions that demand the application of advanced algorithms, optimization techniques, or complex data structures. \n",
    "Ensure that the questions go beyond standard programming tasks and require deep problem-solving skills.\n",
    "\n",
    "Do not offer opinions or analysis; use only the requested information provided.\n",
    "Your response should follow this template: (test title)\\n Question 1: (question generated)\\n etc. \n",
    "\"\"\"\n",
    "\n",
    "messages=[{\"role\":\"system\",\"content\": system_context},\n",
    "          {\"role\":\"user\",\"content\": prompt}]\n",
    "\n",
    "responses = gpt.chat(messages) \n",
    "print(responses)"
   ]
  },
  {
   "cell_type": "code",
   "execution_count": 14,
   "id": "384cd2f4",
   "metadata": {},
   "outputs": [
    {
     "name": "stdout",
     "output_type": "stream",
     "text": [
      "(Test Title: Advanced Algorithms and Data Structures Test)\n",
      "\n",
      "Question 1: \n",
      "To find the length of the longest increasing subsequence (LIS) in an array of integers with a time complexity better than O(n^2), you can use the Patience Sorting algorithm which has a time complexity of O(n log n).\n",
      "\n",
      "Question 2:\n",
      "To efficiently find the kth smallest element in a sorted matrix with a time complexity better than O(n^2 * log(n)), you can use the Binary Search algorithm which has a time complexity of O(n log(max-min)), where max and min are the maximum and minimum elements in the matrix.\n",
      "\n",
      "Question 3:\n",
      "To design a data structure supporting insert(val), remove(val), and getRandom() operations with an average time complexity of O(1), you can use a combination of a hash table and an array. Use the hash table to store the values and their corresponding indices in the array for O(1) insert and remove operations. To achieve O(1) getRandom(), you can randomly select an index from the array.\n",
      "\n",
      "Question 4:\n",
      "To find the minimum amount of time required to finish all tasks given that you can only work on two tasks at a time, you can sort the tasks in descending order and pair them up starting from the longest task. The total time required would be the maximum time among the pairs.\n",
      "\n",
      "Question 5:\n",
      "To find the maximum sum subarray within a circular array with a time complexity better than O(n^2), you can use Kadane's algorithm twice. First, find the maximum sum subarray without considering the circular property. Then, find the maximum sum subarray considering the circular property by subtracting the minimum sum subarray from the total sum of the array. Return the maximum of the two sums.\n"
     ]
    }
   ],
   "source": [
    "system_context = \"\"\"\n",
    "You are a student in a high school student.\n",
    "Your teacher has asked you to complete a test that consists of 5 questions. \n",
    "Your goal is to answer these questions to the best of your ability, demonstrating your understanding of the topic.\n",
    "\"\"\"\n",
    "\n",
    "prompt = \"\"\"\n",
    "The below is a test consisting of 5 questions'\n",
    "Please answer the following questions.\n",
    "Your responses should be concise and accurate and should follow this template: (test title)\\n Question 1: (question context) \\n Your answer: \\n\\n etc. \\n```\\n \n",
    "\"\"\"\n",
    "\n",
    "messages=[{\"role\":\"system\",\"content\": system_context},\n",
    "          {\"role\":\"user\",\"content\": prompt + responses}]\n",
    "\n",
    "responses = gpt.chat(messages) \n",
    "print(responses)"
   ]
  },
  {
   "cell_type": "code",
   "execution_count": null,
   "id": "5d1a34ce",
   "metadata": {},
   "outputs": [],
   "source": []
  },
  {
   "cell_type": "code",
   "execution_count": null,
   "id": "236b74f7",
   "metadata": {},
   "outputs": [],
   "source": []
  },
  {
   "cell_type": "code",
   "execution_count": null,
   "id": "d1fdbc49",
   "metadata": {},
   "outputs": [],
   "source": []
  },
  {
   "cell_type": "code",
   "execution_count": null,
   "id": "f891bc0c",
   "metadata": {},
   "outputs": [],
   "source": []
  },
  {
   "cell_type": "code",
   "execution_count": null,
   "id": "6d5fee8e",
   "metadata": {},
   "outputs": [],
   "source": []
  }
 ],
 "metadata": {
  "kernelspec": {
   "display_name": "hiring_task_env",
   "language": "python",
   "name": "hiring_task_env"
  },
  "language_info": {
   "codemirror_mode": {
    "name": "ipython",
    "version": 3
   },
   "file_extension": ".py",
   "mimetype": "text/x-python",
   "name": "python",
   "nbconvert_exporter": "python",
   "pygments_lexer": "ipython3",
   "version": "3.9.9"
  }
 },
 "nbformat": 4,
 "nbformat_minor": 5
}
