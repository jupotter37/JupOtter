{
 "cells": [
  {
   "cell_type": "markdown",
   "metadata": {},
   "source": [
    "## 🛀 Bubble Sort Algorithm\n",
    "\n",
    "#### **Overview**\n",
    "\n",
    "Bubble Sort is the simplest sorting algorithm that works by repeatedly swapping the adjacent elements if they are in the wrong order. The pass through the list is repeated until the list is sorted. This algorithm is no suitable for large data sets as it's average and worst-case time complexity is quite high. \n",
    "\n",
    "#### Step-By-Step Explanation Bubble Sort algorithm:\n",
    "\n",
    "1. **Start from the first element (inted 0) and compare it with the next element (index 1).**\n",
    "    - If the first element is greater than the second, swap them.\n",
    "    - Move to the next element and repeat the comparison and swapping if necessary.\n",
    "    - Continue this process until the end of the list is reached.\n",
    "2. **After the first pass, the largest element will have \"bubbled\" to the end of the list.**\n",
    "    - Now, you can ignore the last element (since it's already in its correct position) and repeat the process for the remaining unsorted elements.\n",
    "3. **Repeat the process for each pass through the list until no swaps are needed.**\n",
    "    - In each pass, the next largest element will be placed in its correct position.\n",
    "    - The number of passes needed is equal to the number of elements in the list minus one.\n"
   ]
  },
  {
   "cell_type": "code",
   "execution_count": 1,
   "metadata": {},
   "outputs": [
    {
     "name": "stdout",
     "output_type": "stream",
     "text": [
      "[0, 1, 3, 4, 6, 8, 9]\n"
     ]
    }
   ],
   "source": [
    "def bubbleSort(arr):\n",
    "    n = len(arr)\n",
    "    # Traverse through all array elements\n",
    "    for i in range(n):\n",
    "        # Last i elements are already in place, so no need to check them\n",
    "        for j in range(0, n-i-1):\n",
    "            # swap if element is greater than the next element\n",
    "            if arr[j] > arr[j+1]:\n",
    "                arr[j], arr[j+1] = arr[j+1], arr[j]\n",
    "\n",
    "\n",
    "list1 = [0,3,1,6,4,8,9]\n",
    "\n",
    "bubbleSort(list1)\n",
    "print(list1)"
   ]
  },
  {
   "cell_type": "markdown",
   "metadata": {},
   "source": [
    "- https://www.geeksforgeeks.org/bubble-sort/\n",
    "- https://www.geeksforgeeks.org/sorting-algorithms/?ref=lbp"
   ]
  }
 ],
 "metadata": {
  "kernelspec": {
   "display_name": "Python 3",
   "language": "python",
   "name": "python3"
  },
  "language_info": {
   "codemirror_mode": {
    "name": "ipython",
    "version": 3
   },
   "file_extension": ".py",
   "mimetype": "text/x-python",
   "name": "python",
   "nbconvert_exporter": "python",
   "pygments_lexer": "ipython3",
   "version": "3.12.0"
  }
 },
 "nbformat": 4,
 "nbformat_minor": 2
}
