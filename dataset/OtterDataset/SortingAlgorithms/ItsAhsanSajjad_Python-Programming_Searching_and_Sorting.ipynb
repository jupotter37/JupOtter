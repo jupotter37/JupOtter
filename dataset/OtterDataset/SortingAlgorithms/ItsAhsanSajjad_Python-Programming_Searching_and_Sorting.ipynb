{
  "nbformat": 4,
  "nbformat_minor": 0,
  "metadata": {
    "colab": {
      "provenance": []
    },
    "kernelspec": {
      "name": "python3",
      "display_name": "Python 3"
    },
    "language_info": {
      "name": "python"
    }
  },
  "cells": [
    {
      "cell_type": "code",
      "execution_count": null,
      "metadata": {
        "id": "6JWJq-Rgbxnj"
      },
      "outputs": [],
      "source": [
        "# Searching Algorithms :\n",
        "# Linear Search ---- Binary Search\n",
        "\n",
        "# Sorting Algorithms\n",
        "# Bubble Sort ---- Insertion Sort ---- Selection Sort\n",
        "\n",
        "# Recursion"
      ]
    },
    {
      "cell_type": "markdown",
      "source": [
        "# Searching Algorithms"
      ],
      "metadata": {
        "id": "m2eXS6Q9cpNJ"
      }
    },
    {
      "cell_type": "markdown",
      "source": [
        "## Linear Search"
      ],
      "metadata": {
        "id": "OwTZw3ZZcssN"
      }
    },
    {
      "cell_type": "code",
      "source": [
        "arr = [11, 23, 9, 7, 3, 4, 8, 7, 8, 9]"
      ],
      "metadata": {
        "id": "V3t-ySUScoai"
      },
      "execution_count": null,
      "outputs": []
    },
    {
      "cell_type": "code",
      "source": [
        "target = 4\n",
        "count=0\n",
        "# Find Index of 4 using linear search\n",
        "\n",
        "for i in range(len(arr)):\n",
        "    if (arr[i]==target):\n",
        "        print(i)"
      ],
      "metadata": {
        "colab": {
          "base_uri": "https://localhost:8080/"
        },
        "id": "gcdmlY7Wc8Ym",
        "outputId": "99699b45-cd07-4af5-fe89-dc7cd5e65c87"
      },
      "execution_count": null,
      "outputs": [
        {
          "output_type": "stream",
          "name": "stdout",
          "text": [
            "5\n"
          ]
        }
      ]
    },
    {
      "cell_type": "markdown",
      "source": [
        "## Binary Search"
      ],
      "metadata": {
        "id": "3oRnMS3geJ2k"
      }
    },
    {
      "cell_type": "code",
      "source": [
        "arr = [1, 2, 3, 4, 5, 6, 7, 8, 9, 10, 11, 12, 13, 14, 15]"
      ],
      "metadata": {
        "id": "PsOXfmCvd64Q"
      },
      "execution_count": null,
      "outputs": []
    },
    {
      "cell_type": "code",
      "source": [
        "target = 12"
      ],
      "metadata": {
        "id": "U2H9sn9IeaDS"
      },
      "execution_count": null,
      "outputs": []
    },
    {
      "cell_type": "code",
      "source": [
        "# Binary Search works only on sorted data, now use this method to find the index of target element\n",
        "\n",
        "start=0\n",
        "end=len(arr)-1\n",
        "\n",
        "while(start<=end):\n",
        "    mid=(start+end)//2\n",
        "\n",
        "    if(target>arr[mid]):\n",
        "        start=mid+1\n",
        "    elif(target<arr[mid]):\n",
        "        end=mid-1\n",
        "    else:\n",
        "        print(mid)\n",
        "        break\n"
      ],
      "metadata": {
        "colab": {
          "base_uri": "https://localhost:8080/"
        },
        "id": "8Q8TCDKkec2C",
        "outputId": "6bfab67d-dd7f-4c4f-b45c-f02c459f9950"
      },
      "execution_count": null,
      "outputs": [
        {
          "output_type": "stream",
          "name": "stdout",
          "text": [
            "11\n"
          ]
        }
      ]
    },
    {
      "cell_type": "markdown",
      "source": [
        "# Sorting Algorithms"
      ],
      "metadata": {
        "id": "eCvPzLuehRiF"
      }
    },
    {
      "cell_type": "markdown",
      "source": [
        "## Bublle Sort"
      ],
      "metadata": {
        "id": "SOc1ZWmPhye7"
      }
    },
    {
      "cell_type": "code",
      "source": [
        "arr=[2,11,44,1,6,9,56,43,5]"
      ],
      "metadata": {
        "id": "k7XfBP1UhRTw"
      },
      "execution_count": null,
      "outputs": []
    },
    {
      "cell_type": "code",
      "source": [
        "# Bubble Sort Compares two adjacent values and swaps them to sort.\n",
        "# Keep running the algorithm until the array is sorted\n",
        "\n",
        "isSorted=False\n",
        "\n",
        "while(isSorted==False):\n",
        "    isSorted=True\n",
        "    for i in range(len(arr)-1):\n",
        "        if(arr[i]>arr[i+1]):\n",
        "            #swap\n",
        "            temp=arr[i]\n",
        "            arr[i]=arr[i+1]\n",
        "            arr[i+1]=temp\n",
        "            isSorted=False\n",
        "\n",
        "print(arr)\n"
      ],
      "metadata": {
        "colab": {
          "base_uri": "https://localhost:8080/"
        },
        "id": "_5q5KWsAejgT",
        "outputId": "5ebaa074-a51e-4aa0-9b37-99aeb098b0a7"
      },
      "execution_count": null,
      "outputs": [
        {
          "output_type": "stream",
          "name": "stdout",
          "text": [
            "[1, 2, 5, 6, 9, 11, 43, 44, 56]\n"
          ]
        }
      ]
    },
    {
      "cell_type": "markdown",
      "source": [
        "## Selection Sort"
      ],
      "metadata": {
        "id": "LlJLBtXYk6CB"
      }
    },
    {
      "cell_type": "code",
      "source": [
        "arr=[2,11,44,1,6,9,56,43,5]"
      ],
      "metadata": {
        "id": "u_UVjjgBoZVp"
      },
      "execution_count": null,
      "outputs": []
    },
    {
      "cell_type": "code",
      "source": [
        "# Selction sort finds the smallest element in the array and puts it at first index\n",
        "# Then it finds the second smallest element in the array and puts it aat second index and so on\n",
        "\n",
        "for i in range(len(arr)):\n",
        "    s = i\n",
        "    for j in range(s+1, len(arr)):\n",
        "        if(arr[s] > arr[j]):\n",
        "            s = j\n",
        "            #Swap\n",
        "            arr[i], arr[j] = arr[j], arr[i]\n",
        "\n",
        "print(arr)"
      ],
      "metadata": {
        "colab": {
          "base_uri": "https://localhost:8080/"
        },
        "id": "GkNIv6Wekj3z",
        "outputId": "07f6a967-3966-4c4e-9e25-3fe6d2494f47"
      },
      "execution_count": null,
      "outputs": [
        {
          "output_type": "stream",
          "name": "stdout",
          "text": [
            "[1, 6, 9, 5, 2, 43, 11, 44, 56]\n"
          ]
        }
      ]
    },
    {
      "cell_type": "markdown",
      "source": [
        "## Insertion Sort"
      ],
      "metadata": {
        "id": "l7lZqfmBqnOw"
      }
    },
    {
      "cell_type": "code",
      "source": [
        "arr=[2,11,44,1,6,9,56,43,5]"
      ],
      "metadata": {
        "id": "AB1K9XYJrq0V"
      },
      "execution_count": null,
      "outputs": []
    },
    {
      "cell_type": "code",
      "source": [
        "# Insertion sort works only on ranged arrays\n",
        "# Checks if current value is equal to its index + 1\n",
        "\n",
        "for i in range(1, len(arr)):\n",
        "    for j in range(i, 0, -1):\n",
        "        if arr[j] < arr[j - 1]:\n",
        "            arr[j], arr[j-1] = arr[j-1], arr[j]\n",
        "\n",
        "print(arr)"
      ],
      "metadata": {
        "colab": {
          "base_uri": "https://localhost:8080/"
        },
        "id": "m_mJOJwYqopn",
        "outputId": "988981f5-711f-4528-ab0a-4a6d1b4285b2"
      },
      "execution_count": null,
      "outputs": [
        {
          "output_type": "stream",
          "name": "stdout",
          "text": [
            "[1, 2, 5, 6, 9, 11, 43, 44, 56]\n"
          ]
        }
      ]
    },
    {
      "cell_type": "code",
      "source": [
        "arr=[8,2,6,1,3,5,9,10,7,4]"
      ],
      "metadata": {
        "id": "P55SDBfLMeez"
      },
      "execution_count": 9,
      "outputs": []
    },
    {
      "cell_type": "code",
      "source": [
        "s=0\n",
        "\n",
        "while(s<=len(arr)):\n",
        "\n",
        "    for i in range(s,len(arr)):\n",
        "        if(arr[i]!=i+1):\n",
        "            for j in range(len(arr)):\n",
        "                if(arr[j]==i+1):\n",
        "                     arr[i],arr[j]=arr[j],arr[i]\n",
        "    s+=1\n",
        "\n",
        "print(arr)"
      ],
      "metadata": {
        "id": "XuWVS_Mexa0r",
        "colab": {
          "base_uri": "https://localhost:8080/"
        },
        "outputId": "3332e3be-4f56-439c-cec4-9c7638f02e01"
      },
      "execution_count": 10,
      "outputs": [
        {
          "output_type": "stream",
          "name": "stdout",
          "text": [
            "[1, 2, 3, 4, 5, 6, 7, 8, 9, 10]\n"
          ]
        }
      ]
    },
    {
      "cell_type": "code",
      "source": [],
      "metadata": {
        "id": "A0gNcvV2N4st"
      },
      "execution_count": null,
      "outputs": []
    }
  ]
}