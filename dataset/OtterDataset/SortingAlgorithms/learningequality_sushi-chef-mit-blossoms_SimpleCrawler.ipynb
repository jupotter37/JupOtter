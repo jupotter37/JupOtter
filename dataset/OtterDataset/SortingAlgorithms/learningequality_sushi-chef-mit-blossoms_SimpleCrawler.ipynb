{
 "cells": [
  {
   "cell_type": "markdown",
   "metadata": {},
   "source": [
    "# STEP 1: Crawler\n",
    "\n",
    "Crawls the website and extracts the high level topic, and topic-cluster structure."
   ]
  },
  {
   "cell_type": "code",
   "execution_count": 1,
   "metadata": {
    "collapsed": true
   },
   "outputs": [],
   "source": [
    "from itertools import groupby\n",
    "import json\n",
    "import os\n",
    "\n",
    "import requests\n",
    "from bs4 import BeautifulSoup\n",
    "\n",
    "from ricecooker.utils.caching import CacheForeverHeuristic, FileCache, CacheControlAdapter\n"
   ]
  },
  {
   "cell_type": "code",
   "execution_count": 2,
   "metadata": {
    "collapsed": true
   },
   "outputs": [],
   "source": [
    "from mitblossoms_chef import (get_lang_paths,\n",
    "                              get_all_lessons_info,\n",
    "                              group_lesson_by_topic,\n",
    "                              build_preliminary_tree,\n",
    "                              retrieve_topic_clusters,\n",
    "                              get_or_create_cluster,\n",
    "                              add_topic_cluster_membership,\n",
    "                              crawling_step)\n"
   ]
  },
  {
   "cell_type": "code",
   "execution_count": 3,
   "metadata": {
    "collapsed": true
   },
   "outputs": [],
   "source": [
    "BASE_URL = 'https://blossoms.mit.edu'\n",
    "VIDEOS_BY_LANGUAGE_PATH = '/videos/by_language'"
   ]
  },
  {
   "cell_type": "code",
   "execution_count": null,
   "metadata": {
    "collapsed": true
   },
   "outputs": [],
   "source": []
  },
  {
   "cell_type": "code",
   "execution_count": 5,
   "metadata": {
    "collapsed": true
   },
   "outputs": [],
   "source": [
    "# globals\n",
    "all_lessons_seen = []    # store a list of all lessons (/videos/lessons/) seen during crawl"
   ]
  },
  {
   "cell_type": "code",
   "execution_count": null,
   "metadata": {
    "collapsed": true
   },
   "outputs": [],
   "source": []
  },
  {
   "cell_type": "code",
   "execution_count": null,
   "metadata": {
    "collapsed": true
   },
   "outputs": [],
   "source": []
  },
  {
   "cell_type": "code",
   "execution_count": 4,
   "metadata": {},
   "outputs": [
    {
     "data": {
      "text/plain": [
       "[('Arabic',\n",
       "  '/videos?field_topic_value_many_to_one=All&term_node_tid_depth=62&term_node_tid_depth_1=All'),\n",
       " ('English',\n",
       "  '/videos?field_topic_value_many_to_one=All&term_node_tid_depth=63&term_node_tid_depth_1=All'),\n",
       " ('Farsi',\n",
       "  '/videos?field_topic_value_many_to_one=All&term_node_tid_depth=85&term_node_tid_depth_1=All'),\n",
       " ('Hindi',\n",
       "  '/videos?field_topic_value_many_to_one=All&term_node_tid_depth=64&term_node_tid_depth_1=All'),\n",
       " ('Japanese',\n",
       "  '/videos?field_topic_value_many_to_one=All&term_node_tid_depth=65&term_node_tid_depth_1=All'),\n",
       " ('Kannada',\n",
       "  '/videos?field_topic_value_many_to_one=All&term_node_tid_depth=66&term_node_tid_depth_1=All'),\n",
       " ('Korean',\n",
       "  '/videos?field_topic_value_many_to_one=All&term_node_tid_depth=67&term_node_tid_depth_1=All'),\n",
       " ('Malay',\n",
       "  '/videos?field_topic_value_many_to_one=All&term_node_tid_depth=68&term_node_tid_depth_1=All'),\n",
       " ('Mandarin',\n",
       "  '/videos?field_topic_value_many_to_one=All&term_node_tid_depth=69&term_node_tid_depth_1=All'),\n",
       " ('Portuguese',\n",
       "  '/videos?field_topic_value_many_to_one=All&term_node_tid_depth=70&term_node_tid_depth_1=All'),\n",
       " ('Spanish',\n",
       "  '/videos?field_topic_value_many_to_one=All&term_node_tid_depth=71&term_node_tid_depth_1=All'),\n",
       " ('Urdu',\n",
       "  '/videos?field_topic_value_many_to_one=All&term_node_tid_depth=72&term_node_tid_depth_1=All')]"
      ]
     },
     "execution_count": 4,
     "metadata": {},
     "output_type": "execute_result"
    }
   ],
   "source": [
    "\n",
    "lang_paths = get_lang_paths()\n",
    "lang_paths"
   ]
  },
  {
   "cell_type": "code",
   "execution_count": 7,
   "metadata": {},
   "outputs": [
    {
     "data": {
      "text/plain": [
       "12"
      ]
     },
     "execution_count": 7,
     "metadata": {},
     "output_type": "execute_result"
    }
   ],
   "source": [
    "len(lang_paths)"
   ]
  },
  {
   "cell_type": "code",
   "execution_count": 8,
   "metadata": {},
   "outputs": [
    {
     "name": "stdout",
     "output_type": "stream",
     "text": [
      "/videos?field_topic_value_many_to_one=All&term_node_tid_depth=62&term_node_tid_depth_1=All\n",
      "/videos?field_topic_value_many_to_one=All&term_node_tid_depth=63&term_node_tid_depth_1=All\n",
      "/videos?field_topic_value_many_to_one=All&term_node_tid_depth=85&term_node_tid_depth_1=All\n",
      "/videos?field_topic_value_many_to_one=All&term_node_tid_depth=64&term_node_tid_depth_1=All\n",
      "/videos?field_topic_value_many_to_one=All&term_node_tid_depth=65&term_node_tid_depth_1=All\n",
      "/videos?field_topic_value_many_to_one=All&term_node_tid_depth=66&term_node_tid_depth_1=All\n",
      "/videos?field_topic_value_many_to_one=All&term_node_tid_depth=67&term_node_tid_depth_1=All\n",
      "/videos?field_topic_value_many_to_one=All&term_node_tid_depth=68&term_node_tid_depth_1=All\n",
      "/videos?field_topic_value_many_to_one=All&term_node_tid_depth=69&term_node_tid_depth_1=All\n",
      "/videos?field_topic_value_many_to_one=All&term_node_tid_depth=70&term_node_tid_depth_1=All\n",
      "/videos?field_topic_value_many_to_one=All&term_node_tid_depth=71&term_node_tid_depth_1=All\n",
      "/videos?field_topic_value_many_to_one=All&term_node_tid_depth=72&term_node_tid_depth_1=All\n"
     ]
    }
   ],
   "source": [
    "for lang_path in lang_paths:\n",
    "    print(lang_path[1])"
   ]
  },
  {
   "cell_type": "code",
   "execution_count": 5,
   "metadata": {
    "collapsed": true
   },
   "outputs": [],
   "source": [
    "\n",
    "\n",
    "# let's use spanish for testing\n",
    "test_lang_url = BASE_URL + lang_paths[10][1]\n",
    "video_lessons = get_all_lessons_info(test_lang_url)\n"
   ]
  },
  {
   "cell_type": "code",
   "execution_count": 9,
   "metadata": {},
   "outputs": [
    {
     "data": {
      "text/plain": [
       "{'Arabic': 48,\n",
       " 'English': 123,\n",
       " 'Farsi': 1,\n",
       " 'Hindi': 1,\n",
       " 'Japanese': 7,\n",
       " 'Kannada': 5,\n",
       " 'Korean': 1,\n",
       " 'Malay': 18,\n",
       " 'Mandarin': 31,\n",
       " 'Portuguese': 44,\n",
       " 'Spanish': 21,\n",
       " 'Urdu': 10}"
      ]
     },
     "execution_count": 9,
     "metadata": {},
     "output_type": "execute_result"
    }
   ],
   "source": [
    "video_counts_by_lang = {}\n",
    "for lang, lang_url in lang_paths:\n",
    "    video_lessons = get_all_lessons_info(BASE_URL + lang_url)\n",
    "    video_counts_by_lang[lang] = len(video_lessons)\n",
    "\n",
    "video_counts_by_lang"
   ]
  },
  {
   "cell_type": "code",
   "execution_count": 11,
   "metadata": {},
   "outputs": [
    {
     "data": {
      "text/plain": [
       "{'title': 'Choosing a College Roommate: How Multi-Criteria Decision Modeling Can Help',\n",
       " 'topic': 'Mathematics',\n",
       " 'url': 'https://blossoms.mit.edu/videos/lessons/choosing_college_roommate_how_multi_criteria_decision_modeling_can_help'}"
      ]
     },
     "execution_count": 11,
     "metadata": {},
     "output_type": "execute_result"
    }
   ],
   "source": [
    "video_lessons[0]"
   ]
  },
  {
   "cell_type": "code",
   "execution_count": null,
   "metadata": {
    "collapsed": true
   },
   "outputs": [],
   "source": []
  },
  {
   "cell_type": "code",
   "execution_count": null,
   "metadata": {
    "collapsed": true
   },
   "outputs": [],
   "source": []
  },
  {
   "cell_type": "code",
   "execution_count": 12,
   "metadata": {
    "collapsed": true
   },
   "outputs": [],
   "source": [
    "\n",
    "topics_list = group_lesson_by_topic(video_lessons)\n",
    "# topics_list"
   ]
  },
  {
   "cell_type": "code",
   "execution_count": null,
   "metadata": {
    "collapsed": true
   },
   "outputs": [],
   "source": []
  },
  {
   "cell_type": "code",
   "execution_count": 13,
   "metadata": {
    "collapsed": true
   },
   "outputs": [],
   "source": [
    "\n",
    "# BUILD STAGE 1 INTERMEDIARY OUTPUT (by Topic)\n",
    "web_resource_tree = build_preliminary_tree(selected_laungages=['Arabic', 'English'])\n",
    "\n",
    "# web_resource_tree"
   ]
  },
  {
   "cell_type": "code",
   "execution_count": 64,
   "metadata": {},
   "outputs": [
    {
     "name": "stdout",
     "output_type": "stream",
     "text": [
      "Total videos in EN 123\n",
      "Total videos in AR 48\n",
      "Number of lessons avail. in English but not in Arabic 82\n",
      "Number of lessons avail. in Arabic but not in English 7\n"
     ]
    }
   ],
   "source": [
    "en_lang = [n for n in web_resource_tree['children'] if n['lang']=='English'][0]\n",
    "ar_lang = [n for n in web_resource_tree['children'] if n['lang']=='Arabic'][0]\n",
    "\n",
    "en_lessons = [lesson for topic in en_lang['children'] for lesson in topic['children']]\n",
    "ar_lessons = [lesson for topic in ar_lang['children'] for lesson in topic['children']]\n",
    "\n",
    "print('Total videos in EN', len(en_lessons))\n",
    "print('Total videos in AR', len(ar_lessons))\n",
    "\n",
    "all_en_urls = set()\n",
    "all_ar_urls = set()\n",
    "for l in en_lessons:\n",
    "    all_en_urls.add(l['url'])\n",
    "for l in ar_lessons:\n",
    "    all_ar_urls.add(l['url'])\n",
    "\n",
    "print('Number of lessons avail. in English but not in Arabic', len(all_en_urls - all_ar_urls))\n",
    "print('Number of lessons avail. in Arabic but not in English', len(all_ar_urls - all_en_urls))\n",
    "\n",
    "\n"
   ]
  },
  {
   "cell_type": "code",
   "execution_count": 65,
   "metadata": {},
   "outputs": [
    {
     "name": "stdout",
     "output_type": "stream",
     "text": [
      "Processing topic Biology\n",
      "Processing lesson Classifying Animals by Appearance Versus DNA Sequence\n",
      "Processing lesson Discovering Medicines, Using Robots and Computers\n",
      "Processing lesson How Does Biotechnology Help Clean Up The Environment?\n",
      "Processing lesson Methods for Protein Purification\n",
      "Processing lesson Plants and Environmental Resources\n",
      "Processing lesson Roots, Shoots, and Wood\n",
      "Processing lesson The Construction of Proteins\n",
      "Processing lesson The Disease of Our Time: Diabetes\n",
      "Processing lesson The Olive Propagation Problem\n",
      "Processing lesson The Respiratory System of Birds\n",
      "Processing lesson Wind and Sand\n",
      "Processing lesson Yeasts, Molds and Mushrooms\n",
      "Processing topic Chemistry\n",
      "Processing lesson Catalytic Converter\n",
      "Processing lesson How Much Small Is Small?\n",
      "Processing lesson Is There a Connection between Water Desalination and Making Pickles?\n",
      "Processing lesson Plastics and Covalent Chemical Bonds\n",
      "Processing lesson Sustainable Energy: Can Water be the Future Fuel?\n",
      "Processing lesson Why Are the Sky Blue and the Leaves Green?\n",
      "Processing topic Engineering\n",
      "Processing lesson The Magic Picture: Steganography in Bitmap Files\n",
      "Processing lesson Using Geometry to Design Simple Machines\n",
      "Processing topic Mathematics\n",
      "Processing lesson Amazing Problems: Arithmetic and Geometric Sequences\n",
      "Processing lesson Arabesque: Where Art Meets Mathematics\n",
      "Processing lesson Are Random Triangles Acute or Obtuse?\n",
      "Processing lesson Connections in the Plane without Crossing\n",
      "Processing lesson Counting Systems\n",
      "Processing lesson Fabulous Fractals and Difference Equations\n",
      "Processing lesson Flaws of Averages\n",
      "Processing lesson Flu Math Games\n",
      "Processing lesson Is Bigger Better? A Look at a Selection Bias that Is All Around Us\n",
      "Processing lesson Probability Theory\n",
      "Processing lesson Pythagoras and the Juice Seller\n",
      "Processing lesson Selfish Drivers: The Braess Paradox and Traffic Planning\n",
      "Processing lesson Sorting Algorithms\n",
      "Processing lesson Taking Walks, Delivering Mail: An Introduction to Graph Theory\n",
      "Processing lesson The Art of Approximation in Science and Engineering: How to Whip Out Answers Quickly\n",
      "Processing lesson The Broken Stick Experiment: Triangles, Random Numbers and Probability\n",
      "Processing lesson The Geometry of Parabolic Sand Dunes\n",
      "Processing lesson The Mailman and the Five Packages: Data Packets and Data Transfer Speed\n",
      "Processing lesson The Mathematics of Voting\n",
      "Processing lesson The Pythagorean Theorem: Application and Proof\n",
      "Processing lesson Why Beehive Honeycombs Have a Hexagonal Shape\n",
      "Processing topic Physics\n",
      "Processing lesson Can Earthquakes Be Predicted?\n",
      "Processing lesson Fingerprinting Gravity\n",
      "Processing lesson Plasma: the Fourth State of Matter\n",
      "Processing lesson Static Equilibrium\n",
      "Processing lesson Static and Kinetic Friction Forces: Similarities and Differences\n",
      "Processing lesson The Physics of Racing Cars\n",
      "Processing lesson Uniform Circular Motion and Centrifugal Force\n",
      "Processing topic Biology\n",
      "Processing lesson ATP: The Fuel of Life\n",
      "Processing lesson Antioxidant Enzymes: Three or Four Veggies a Day Keeps Aging Away\n",
      "Processing lesson Biotechnology: Can It Help in Making the Desert Green?\n",
      "Processing lesson Blood: The Stuff of Life\n",
      "Processing lesson Chemotherapy Resistance: The Fault in Our Cells\n",
      "Processing lesson Classifying Animals by Appearance Versus DNA Sequence\n",
      "Processing lesson Discovering Genes Associated with Diseases and Traits in Dogs\n",
      "Processing lesson Discovering Medicines, Using Robots and Computers\n",
      "Processing lesson Ecological Tipping Points: When Is Late Too Late?\n",
      "Processing lesson Evolving for Survival: Learning about Fluid Dynamics through the Urinary System of Mammals\n",
      "Processing lesson From Teenage to Old Age: How Cancer Develops Over Time\n",
      "Processing lesson Geologic Time: The Ticking of Our Planet’s 4.6 Billion Year Clock\n",
      "Processing lesson How Does Biotechnology Help Clean Up The Environment?\n",
      "Processing lesson How Scientific Teams Develop New Anti-Cancer Drugs\n",
      "Processing lesson I Am a Novice Marathoner: Sources of Energy for the Big Race\n",
      "Processing lesson Making It Personal: Using DNA to Tailor Cancer Treatments\n",
      "Processing lesson Meet the Family: Investigating Primate Relationships\n",
      "Processing lesson Methods for Protein Purification\n",
      "Processing lesson Plants and Environmental Resources\n",
      "Processing lesson Pollination: Saying It with Flowers\n",
      "Processing lesson Roots, Shoots, and Wood\n",
      "Processing lesson The Case of the Stolen Painting: A Forensic Mystery\n",
      "Processing lesson The Construction of Proteins\n",
      "Processing lesson The Disease of Our Time: Diabetes\n",
      "Processing lesson The Ecological Cost of Dinner\n",
      "Processing lesson The Genetic Basis of Inheritance and Variation\n",
      "Processing lesson The King of Dinosaurs or a Chicken Dinner? One Paleontologist’s Quest to Activate Atavistic Genes and Create a Dinosaur\n",
      "Processing lesson The Respiratory System of Birds\n",
      "Processing lesson Tissue Specific Gene Expression\n",
      "Processing lesson Using DNA to Identify People\n",
      "Processing lesson What’s in an Eye?  The Eye’s Components and the Diseases that Affect Them\n",
      "Processing lesson You Can’t Always Get What You Want: A Lesson in Human Evolution\n",
      "Processing topic Chemistry\n",
      "Processing lesson Adsorption: Using the Tamarind Fruit as an Adsorbent for Effluent Treatment\n",
      "Processing lesson Amount of Substance and Its Unit, Mole: Connecting the Invisible Micro World to the Observable Macro World\n",
      "Processing lesson Electrochemistry: Electroplating\n",
      "Processing lesson How Big Is a Mole? Do We Really Comprehend Avogadro’s Number?\n",
      "Processing lesson How Cold Is Cold: Examining the Properties of Materials at Lower Temperatures\n",
      "Processing lesson How Cold is Cold: What is Temperature?\n",
      "Processing lesson How Hot Is Hot? Heat versus Temperature\n",
      "Processing lesson How Much Small Is Small?\n",
      "Processing lesson Introducing Green Chemistry: The Science of Solutions\n",
      "Processing lesson Is There a Connection between Water Desalination and Making Pickles?\n",
      "Processing lesson Plastics and Covalent Chemical Bonds\n",
      "Processing lesson Recognizing Chemical Reactions\n",
      "Processing lesson Save Our Kingdom (in relation to the chemistry topic - Conservation of Mass)\n",
      "Processing lesson Stoichiometry\n",
      "Processing lesson Sustainable Energy: Can Water be the Future Fuel?\n",
      "Processing lesson Why Are the Sky Blue and the Leaves Green?\n",
      "Processing lesson Why Neutralize? Impact on Health and the Environment\n",
      "Processing topic Engineering\n",
      "Processing lesson Building Cryptosystems\n",
      "Processing lesson Engineering Innovation and Entrepreneurship\n",
      "Processing lesson From Psychology to Logic: Learning Computer Programming in the Kitchen\n",
      "Processing lesson Is There A Connection Between Computer Network Topologies And A Malaysian Wedding?\n",
      "Processing lesson Out for Shopping: Understanding Linear Data Structures\n",
      "Processing lesson Quantifying the Energy Associated with Everyday Things and Events\n",
      "Processing lesson Temperature, Pressure and American Football: Introduction to Gay-Lussac's Gas Law\n",
      "Processing lesson The Art of Making Layer Cakes: Proper Construction of Bituminous Roads and Highways\n",
      "Processing lesson The Magic Picture: Steganography in Bitmap Files\n",
      "Processing lesson The Stroboscopic Effect\n",
      "Processing lesson Thermodynamics: Energy Conversion in Generating Electricity\n",
      "Processing lesson Using Geometry to Design Simple Machines\n",
      "Processing topic Mathematics\n",
      "Processing lesson A Never-Fail Method for Probabilistic Problems\n",
      "Processing lesson Amazing Problems: Arithmetic and Geometric Sequences\n",
      "Processing lesson Arabesque: Where Art Meets Mathematics\n",
      "Processing lesson Are Random Triangles Acute or Obtuse?\n",
      "Processing lesson Averages: Still Flawed\n",
      "Processing lesson Choosing a College Roommate: How Multi-Criteria Decision Modeling Can Help\n",
      "Processing lesson Complex Numbers: Part Imaginary, but Really Simple\n",
      "Processing lesson Connections in the Plane without Crossing\n",
      "Processing lesson Counting Systems\n",
      "Processing lesson Fabulous Fractals and Difference Equations\n",
      "Processing lesson Fantastic Factorials\n",
      "Processing lesson Fence Your Equation\n",
      "Processing lesson Flaws of Averages\n",
      "Processing lesson Flu Math Games\n",
      "Processing lesson Guess the Last Ball: An Exercise in Mathematical Modeling\n",
      "Processing lesson How to Estimate the Value of Pi\n",
      "Processing lesson Is Bigger Better? A Look at a Selection Bias that Is All Around Us\n",
      "Processing lesson Optimizing Your Diet: What Linear Programming Can Tell You!\n",
      "Processing lesson Pythagoras and the Juice Seller\n",
      "Processing lesson Rational versus Irrational Numbers\n"
     ]
    },
    {
     "name": "stdout",
     "output_type": "stream",
     "text": [
      "Processing lesson Selfish Drivers: The Braess Paradox and Traffic Planning\n",
      "Processing lesson Sorting Algorithms\n",
      "Processing lesson Taking Walks, Delivering Mail: An Introduction to Graph Theory\n",
      "Processing lesson The Art of Approximation in Science and Engineering: How to Whip Out Answers Quickly\n",
      "Processing lesson The Broken Stick Experiment: Triangles, Random Numbers and Probability\n",
      "Processing lesson The Friendship Paradox: Why We Can’t All Be Popular\n",
      "Processing lesson The Geometry of Parabolic Sand Dunes\n",
      "Processing lesson The Mailman and the Five Packages: Data Packets and Data Transfer Speed\n",
      "Processing lesson The Mathematics of Cryptography\n",
      "Processing lesson The Mathematics of Voting\n",
      "Processing lesson The Monty Hall Problem or How to Outsmart a Game Show and Win a Car\n",
      "Processing lesson The Power of Exponentials, Big and Small\n",
      "Processing lesson The Pythagorean Theorem: Geometry’s Most Elegant Theorem\n",
      "Processing lesson The Quadratic Equation: It’s Hip to Be Squared\n",
      "Processing lesson The Towers of Hanoi: Experiential Recursive Thinking\n",
      "Processing lesson Tragedy of the Commons\n",
      "Processing lesson Who Do You Know? The Theory Behind Social Networking\n",
      "Processing lesson Why Beehive Honeycombs Have a Hexagonal Shape\n",
      "Processing lesson Why Pay More?\n",
      "Processing topic Physics\n",
      "Processing lesson Can Earthquakes Be Predicted?\n",
      "Processing lesson Fingerprinting Gravity\n",
      "Processing lesson Forces and Angles\n",
      "Processing lesson Free Fall\n",
      "Processing lesson Galaxies and Dark Matter\n",
      "Processing lesson Gravity Assist or Stealing a Planet's Angular Momentum and Getting Away With It\n",
      "Processing lesson Gravity at Work\n",
      "Processing lesson How Mosquitoes Fly in the Rain\n",
      "Processing lesson Kite Flying: Fun, Art and Science\n",
      "Processing lesson Measuring Distances in the Milky Way\n",
      "Processing lesson Physics of Donkey Carts\n",
      "Processing lesson Soaring in The Wind: The Science of Kite Flying\n",
      "Processing lesson Static Equilibrium\n",
      "Processing lesson Static and Kinetic Friction Forces: Similarities and Differences\n",
      "Processing lesson The Mysteries of Magnetism\n",
      "Processing lesson The Mystery of Motion: Momentum, Kinetic Energy and Their Conversion\n",
      "Processing lesson The Parallax Activity: Measuring the Distances to Nearby Stars\n",
      "Processing lesson The Physics of Boomerangs\n",
      "Processing lesson The Physics of Pool\n",
      "Processing lesson The Physics of Racing Cars\n",
      "Processing lesson The Science of Soap Bubbles\n",
      "Processing lesson Uniform Circular Motion and Centrifugal Force\n",
      "Processing lesson Will an Ice Cube Melt Faster in Freshwater or Saltwater?\n"
     ]
    }
   ],
   "source": [
    "# BUILD STAGE 1 FINAL OUTPUT (by Topic, by TopicCluster)\n",
    "web_resource_tree = add_topic_cluster_membership(web_resource_tree)\n",
    "\n",
    "# web_resource_tree"
   ]
  },
  {
   "cell_type": "code",
   "execution_count": 63,
   "metadata": {
    "scrolled": false
   },
   "outputs": [
    {
     "name": "stdout",
     "output_type": "stream",
     "text": [
      "Total videos in EN 123\n",
      "Total videos in AR 48\n",
      "Number of lessons avail. in English but not in Arabic 82\n",
      "Number of lessons avail. in Arabic but not in English 7\n"
     ]
    }
   ],
   "source": []
  },
  {
   "cell_type": "code",
   "execution_count": 61,
   "metadata": {},
   "outputs": [
    {
     "name": "stdout",
     "output_type": "stream",
     "text": [
      "Number of lessons avail. in English but not in Arabic 82\n",
      "Number of lessons avail. in Arabic but not in English 7\n"
     ]
    }
   ],
   "source": []
  },
  {
   "cell_type": "code",
   "execution_count": 14,
   "metadata": {
    "scrolled": false
   },
   "outputs": [
    {
     "name": "stdout",
     "output_type": "stream",
     "text": [
      "Content in Arabic\n",
      "     Biology\n",
      "         Cluster: DNA\n",
      "             Classifying Animals by Appearance Versus DNA Sequence\n",
      "         Cluster: Evolution\n",
      "             Classifying Animals by Appearance Versus DNA Sequence\n",
      "         Cluster: Health\n",
      "             Discovering Medicines, Using Robots and Computers\n",
      "             The Disease of Our Time: Diabetes\n",
      "         Cluster: Environmental Sustainability\n",
      "             How Does Biotechnology Help Clean Up The Environment?\n",
      "             Plants and Environmental Resources\n",
      "         Cluster: Botany\n",
      "             Plants and Environmental Resources\n",
      "             Roots, Shoots, and Wood\n",
      "             Yeasts, Molds and Mushrooms\n",
      "         Methods for Protein Purification\n",
      "         The Construction of Proteins\n",
      "         The Olive Propagation Problem\n",
      "         The Respiratory System of Birds\n",
      "         Wind and Sand\n",
      "\n",
      "     Chemistry\n",
      "         Cluster: Environmental Sustainability\n",
      "             Sustainable Energy: Can Water be the Future Fuel?\n",
      "         Catalytic Converter\n",
      "         How Much Small Is Small?\n",
      "         Is There a Connection between Water Desalination and Making Pickles?\n",
      "         Plastics and Covalent Chemical Bonds\n",
      "         Why Are the Sky Blue and the Leaves Green?\n",
      "\n",
      "     Engineering\n",
      "         Cluster: Computer Programming\n",
      "             The Magic Picture: Steganography in Bitmap Files\n",
      "         Cluster: Geometry\n",
      "             Using Geometry to Design Simple Machines\n",
      "\n",
      "     Mathematics\n",
      "         Cluster: Mathematical Sequences\n",
      "             Amazing Problems: Arithmetic and Geometric Sequences\n",
      "         Cluster: Geometry\n",
      "             Are Random Triangles Acute or Obtuse?\n",
      "             Pythagoras and the Juice Seller\n",
      "             The Broken Stick Experiment: Triangles, Random Numbers and Probability\n",
      "             The Geometry of Parabolic Sand Dunes\n",
      "             Why Beehive Honeycombs Have a Hexagonal Shape\n",
      "         Cluster: Probability\n",
      "             Are Random Triangles Acute or Obtuse?\n",
      "             Is Bigger Better? A Look at a Selection Bias that Is All Around Us\n",
      "             The Broken Stick Experiment: Triangles, Random Numbers and Probability\n",
      "         Cluster: Graph Theory\n",
      "             Connections in the Plane without Crossing\n",
      "             Selfish Drivers: The Braess Paradox and Traffic Planning\n",
      "             Taking Walks, Delivering Mail: An Introduction to Graph Theory\n",
      "             The Mailman and the Five Packages: Data Packets and Data Transfer Speed\n",
      "         Cluster: Health\n",
      "             Flu Math Games\n",
      "         Cluster: Pythagorean Theorem\n",
      "             Pythagoras and the Juice Seller\n",
      "         Cluster: Computer Programming\n",
      "             Sorting Algorithms\n",
      "             The Mailman and the Five Packages: Data Packets and Data Transfer Speed\n",
      "         Arabesque: Where Art Meets Mathematics\n",
      "         Counting Systems\n",
      "         Fabulous Fractals and Difference Equations\n",
      "         Flaws of Averages\n",
      "         Probability Theory\n",
      "         The Art of Approximation in Science and Engineering: How to Whip Out Answers Quickly\n",
      "         The Mathematics of Voting\n",
      "         The Pythagorean Theorem: Application and Proof\n",
      "\n",
      "     Physics\n",
      "         Can Earthquakes Be Predicted?\n",
      "         Fingerprinting Gravity\n",
      "         Plasma: the Fourth State of Matter\n",
      "         Static Equilibrium\n",
      "         Static and Kinetic Friction Forces: Similarities and Differences\n",
      "         The Physics of Racing Cars\n",
      "         Uniform Circular Motion and Centrifugal Force\n",
      "\n",
      "\n",
      "Content in English\n",
      "     Biology\n",
      "         Cluster: Human Anatomy\n",
      "             ATP: The Fuel of Life\n",
      "             Antioxidant Enzymes: Three or Four Veggies a Day Keeps Aging Away\n",
      "             Blood: The Stuff of Life\n",
      "             What’s in an Eye?  The Eye’s Components and the Diseases that Affect Them\n",
      "         Cluster: Environmental Sustainability\n",
      "             Biotechnology: Can It Help in Making the Desert Green?\n",
      "             Ecological Tipping Points: When Is Late Too Late?\n",
      "             How Does Biotechnology Help Clean Up The Environment?\n",
      "             Plants and Environmental Resources\n",
      "             The Ecological Cost of Dinner\n",
      "         Cluster: DNA\n",
      "             Chemotherapy Resistance: The Fault in Our Cells\n",
      "             Classifying Animals by Appearance Versus DNA Sequence\n",
      "             Discovering Genes Associated with Diseases and Traits in Dogs\n",
      "             From Teenage to Old Age: How Cancer Develops Over Time\n",
      "             Making It Personal: Using DNA to Tailor Cancer Treatments\n",
      "             The Case of the Stolen Painting: A Forensic Mystery\n",
      "             Tissue Specific Gene Expression\n",
      "             Using DNA to Identify People\n",
      "             You Can’t Always Get What You Want: A Lesson in Human Evolution\n",
      "         Cluster: Health\n",
      "             Chemotherapy Resistance: The Fault in Our Cells\n",
      "             Discovering Medicines, Using Robots and Computers\n",
      "             From Teenage to Old Age: How Cancer Develops Over Time\n",
      "             Making It Personal: Using DNA to Tailor Cancer Treatments\n",
      "             The Disease of Our Time: Diabetes\n",
      "             What’s in an Eye?  The Eye’s Components and the Diseases that Affect Them\n",
      "         Cluster: Evolution\n",
      "             Classifying Animals by Appearance Versus DNA Sequence\n",
      "             Meet the Family: Investigating Primate Relationships\n",
      "             The Case of the Stolen Painting: A Forensic Mystery\n",
      "             You Can’t Always Get What You Want: A Lesson in Human Evolution\n",
      "         Cluster: Botany\n",
      "             Plants and Environmental Resources\n",
      "             Pollination: Saying It with Flowers\n",
      "             Roots, Shoots, and Wood\n",
      "             The Case of the Stolen Painting: A Forensic Mystery\n",
      "         Evolving for Survival: Learning about Fluid Dynamics through the Urinary System of Mammals\n",
      "         Geologic Time: The Ticking of Our Planet’s 4.6 Billion Year Clock\n",
      "         How Scientific Teams Develop New Anti-Cancer Drugs\n",
      "         I Am a Novice Marathoner: Sources of Energy for the Big Race\n",
      "         Methods for Protein Purification\n",
      "         The Construction of Proteins\n",
      "         The Genetic Basis of Inheritance and Variation\n",
      "         The King of Dinosaurs or a Chicken Dinner? One Paleontologist’s Quest to Activate Atavistic Genes and Create a Dinosaur\n",
      "         The Respiratory System of Birds\n",
      "\n",
      "     Chemistry\n",
      "         Cluster: Chemistry Mole\n",
      "             Amount of Substance and Its Unit, Mole: Connecting the Invisible Micro World to the Observable Macro World\n",
      "             How Big Is a Mole? Do We Really Comprehend Avogadro’s Number?\n",
      "             Stoichiometry\n",
      "         Cluster: Environmental Sustainability\n",
      "             Introducing Green Chemistry: The Science of Solutions\n",
      "             Sustainable Energy: Can Water be the Future Fuel?\n",
      "         Adsorption: Using the Tamarind Fruit as an Adsorbent for Effluent Treatment\n",
      "         Electrochemistry: Electroplating\n",
      "         How Cold Is Cold: Examining the Properties of Materials at Lower Temperatures\n",
      "         How Cold is Cold: What is Temperature?\n",
      "         How Hot Is Hot? Heat versus Temperature\n",
      "         How Much Small Is Small?\n",
      "         Is There a Connection between Water Desalination and Making Pickles?\n",
      "         Plastics and Covalent Chemical Bonds\n",
      "         Recognizing Chemical Reactions\n",
      "         Save Our Kingdom (in relation to the chemistry topic - Conservation of Mass)\n",
      "         Why Are the Sky Blue and the Leaves Green?\n",
      "         Why Neutralize? Impact on Health and the Environment\n",
      "\n",
      "     Engineering\n",
      "         Cluster: Computer Programming\n",
      "             Building Cryptosystems\n",
      "             From Psychology to Logic: Learning Computer Programming in the Kitchen\n",
      "             Is There A Connection Between Computer Network Topologies And A Malaysian Wedding?\n",
      "             Out for Shopping: Understanding Linear Data Structures\n",
      "             The Magic Picture: Steganography in Bitmap Files\n",
      "         Cluster: Graph Theory\n",
      "             Is There A Connection Between Computer Network Topologies And A Malaysian Wedding?\n",
      "         Cluster: Geometry\n",
      "             Using Geometry to Design Simple Machines\n",
      "         Engineering Innovation and Entrepreneurship\n",
      "         Quantifying the Energy Associated with Everyday Things and Events\n",
      "         Temperature, Pressure and American Football: Introduction to Gay-Lussac's Gas Law\n",
      "         The Art of Making Layer Cakes: Proper Construction of Bituminous Roads and Highways\n",
      "         The Stroboscopic Effect\n",
      "         Thermodynamics: Energy Conversion in Generating Electricity\n",
      "\n",
      "     Mathematics\n",
      "         Cluster: Mathematical Sequences\n",
      "             Amazing Problems: Arithmetic and Geometric Sequences\n",
      "             The Power of Exponentials, Big and Small\n",
      "         Cluster: Geometry\n",
      "             Are Random Triangles Acute or Obtuse?\n",
      "             How to Estimate the Value of Pi\n",
      "             Pythagoras and the Juice Seller\n",
      "             The Broken Stick Experiment: Triangles, Random Numbers and Probability\n",
      "             The Geometry of Parabolic Sand Dunes\n",
      "             The Pythagorean Theorem: Geometry’s Most Elegant Theorem\n",
      "             Why Beehive Honeycombs Have a Hexagonal Shape\n",
      "         Cluster: Probability\n",
      "             Are Random Triangles Acute or Obtuse?\n",
      "             Is Bigger Better? A Look at a Selection Bias that Is All Around Us\n",
      "             The Broken Stick Experiment: Triangles, Random Numbers and Probability\n",
      "             The Monty Hall Problem or How to Outsmart a Game Show and Win a Car\n",
      "         Cluster: Graph Theory\n",
      "             Connections in the Plane without Crossing\n",
      "             Selfish Drivers: The Braess Paradox and Traffic Planning\n",
      "             Taking Walks, Delivering Mail: An Introduction to Graph Theory\n",
      "             The Friendship Paradox: Why We Can’t All Be Popular\n",
      "             The Mailman and the Five Packages: Data Packets and Data Transfer Speed\n",
      "             Who Do You Know? The Theory Behind Social Networking\n",
      "         Cluster: Health\n",
      "             Flu Math Games\n",
      "         Cluster: Mathematical Induction\n",
      "             Guess the Last Ball: An Exercise in Mathematical Modeling\n",
      "             The Towers of Hanoi: Experiential Recursive Thinking\n",
      "         Cluster: Computer Programming\n",
      "             Optimizing Your Diet: What Linear Programming Can Tell You!\n",
      "             Sorting Algorithms\n",
      "             The Mailman and the Five Packages: Data Packets and Data Transfer Speed\n",
      "             The Mathematics of Cryptography\n",
      "             The Towers of Hanoi: Experiential Recursive Thinking\n",
      "         Cluster: Pythagorean Theorem\n",
      "             Pythagoras and the Juice Seller\n",
      "             The Pythagorean Theorem: Geometry’s Most Elegant Theorem\n",
      "         A Never-Fail Method for Probabilistic Problems\n",
      "         Arabesque: Where Art Meets Mathematics\n",
      "         Averages: Still Flawed\n",
      "         Choosing a College Roommate: How Multi-Criteria Decision Modeling Can Help\n",
      "         Complex Numbers: Part Imaginary, but Really Simple\n",
      "         Counting Systems\n",
      "         Fabulous Fractals and Difference Equations\n",
      "         Fantastic Factorials\n",
      "         Fence Your Equation\n",
      "         Flaws of Averages\n",
      "         Rational versus Irrational Numbers\n",
      "         The Art of Approximation in Science and Engineering: How to Whip Out Answers Quickly\n",
      "         The Mathematics of Voting\n",
      "         The Quadratic Equation: It’s Hip to Be Squared\n",
      "         Tragedy of the Commons\n",
      "         Why Pay More?\n",
      "\n",
      "     Physics\n",
      "         Cluster: Newtonian Physics\n",
      "             Free Fall\n",
      "             Gravity at Work\n",
      "             How Mosquitoes Fly in the Rain\n",
      "             Physics of Donkey Carts\n",
      "             The Mystery of Motion: Momentum, Kinetic Energy and Their Conversion\n",
      "             The Physics of Boomerangs\n",
      "             The Physics of Pool\n",
      "         Cluster: Astronomy\n",
      "             Galaxies and Dark Matter\n",
      "             Gravity Assist or Stealing a Planet's Angular Momentum and Getting Away With It\n",
      "             Measuring Distances in the Milky Way\n",
      "             The Parallax Activity: Measuring the Distances to Nearby Stars\n",
      "         Cluster: Geometry\n",
      "             Measuring Distances in the Milky Way\n",
      "             The Parallax Activity: Measuring the Distances to Nearby Stars\n",
      "         Cluster: Pythagorean Theorem\n",
      "             Measuring Distances in the Milky Way\n",
      "             The Parallax Activity: Measuring the Distances to Nearby Stars\n",
      "         Can Earthquakes Be Predicted?\n",
      "         Fingerprinting Gravity\n",
      "         Forces and Angles\n",
      "         Kite Flying: Fun, Art and Science\n",
      "         Soaring in The Wind: The Science of Kite Flying\n",
      "         Static Equilibrium\n",
      "         Static and Kinetic Friction Forces: Similarities and Differences\n",
      "         The Mysteries of Magnetism\n",
      "         The Physics of Racing Cars\n",
      "         The Science of Soap Bubbles\n",
      "         Uniform Circular Motion and Centrifugal Force\n",
      "         Will an Ice Cube Melt Faster in Freshwater or Saltwater?\n",
      "\n",
      "\n"
     ]
    }
   ],
   "source": [
    "def print_tree(web_resource_tree):    \n",
    "    for lang_node in web_resource_tree['children']:\n",
    "        print(\"Content in\", lang_node['lang'])\n",
    "\n",
    "        for topic_node in lang_node['children']:\n",
    "            print(\" \"*4, topic_node['title'])\n",
    "\n",
    "\n",
    "            for node in topic_node['children']:\n",
    "                if node['__class__'] == 'MitBlossomsTopicCluster':\n",
    "                    cluster_node = node\n",
    "                    print(\" \"*8, 'Cluster:', cluster_node['title'])\n",
    "                    for lesson_node in cluster_node['children']:\n",
    "                        print(\" \"*12, lesson_node['title'])\n",
    "\n",
    "                elif node['__class__'] == 'MitBlossomsVideoLessonResource':\n",
    "                    lesson_node = node\n",
    "                    print(\" \"*8, lesson_node['title'])\n",
    "\n",
    "                else:\n",
    "                    raise ValueError('Unkonwn node type encounted.')\n",
    "            print()\n",
    "        print()\n",
    "\n",
    "print_tree(web_resource_tree)"
   ]
  },
  {
   "cell_type": "code",
   "execution_count": 15,
   "metadata": {
    "collapsed": true
   },
   "outputs": [],
   "source": [
    "def write_json_tree(web_resource_tree, datadir='chefdata'):\n",
    "    with open(os.path.join(datadir, 'web_resource_tree.json'), 'w') as json_file:\n",
    "        json.dump(web_resource_tree, json_file, indent=2)\n",
    "\n",
    "\n",
    "write_json_tree(web_resource_tree, datadir='../chefdata')"
   ]
  },
  {
   "cell_type": "code",
   "execution_count": null,
   "metadata": {
    "collapsed": true
   },
   "outputs": [],
   "source": []
  },
  {
   "cell_type": "code",
   "execution_count": null,
   "metadata": {
    "collapsed": true
   },
   "outputs": [],
   "source": []
  },
  {
   "cell_type": "code",
   "execution_count": null,
   "metadata": {
    "collapsed": true
   },
   "outputs": [],
   "source": []
  }
 ],
 "metadata": {
  "kernelspec": {
   "display_name": "Python 3",
   "language": "python",
   "name": "python3"
  },
  "language_info": {
   "codemirror_mode": {
    "name": "ipython",
    "version": 3
   },
   "file_extension": ".py",
   "mimetype": "text/x-python",
   "name": "python",
   "nbconvert_exporter": "python",
   "pygments_lexer": "ipython3",
   "version": "3.6.1"
  }
 },
 "nbformat": 4,
 "nbformat_minor": 2
}
