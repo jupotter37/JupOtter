{
 "cells": [
  {
   "cell_type": "markdown",
   "metadata": {
    "deletable": true,
    "editable": true
   },
   "source": [
    "Check out the lectures, using: \n",
    "\n",
    "**<font color=darkred>git clone git@github.com:harris-ippp/lectures</font>**\n",
    "\n",
    "If you've already checked it out, you can do: `git pull`.  \n",
    "\n",
    "If you have conflicts, you may need \n",
    "```\n",
    "git fetch\n",
    "git merge --ours \n",
    "```\n",
    "or\n",
    "```\n",
    "git fetch --all\n",
    "git reset origin/master --hard\n",
    "```"
   ]
  },
  {
   "cell_type": "markdown",
   "metadata": {
    "deletable": true,
    "editable": true
   },
   "source": [
    "# Functions, Classes, and Modules\n",
    "* We've already said that this class will combine low-level building blocks (for, while, if), with higher-level 'recipes.'\n",
    "* Today we take our first step in that direction: building reusable `functions` ourselves, and importing and using code that others have written.\n",
    "* Along the way, we'll learn about a new, important structure: classes."
   ]
  },
  {
   "cell_type": "markdown",
   "metadata": {
    "deletable": true,
    "editable": true
   },
   "source": [
    "## Functions\n",
    "* Functions allow us to write a single piece of code once, to reuse it with different arguments.\n",
    "* We are said to _call_ the function.\n",
    "* Functions may or may not return a value\n",
    "* We've already seen many built-in functions:"
   ]
  },
  {
   "cell_type": "code",
   "execution_count": null,
   "metadata": {
    "collapsed": false,
    "deletable": true,
    "editable": true
   },
   "outputs": [],
   "source": [
    "print(\"print is, of course, a function\")"
   ]
  },
  {
   "cell_type": "code",
   "execution_count": null,
   "metadata": {
    "collapsed": false,
    "deletable": true,
    "editable": true
   },
   "outputs": [],
   "source": [
    "type(32), type(3.2), int(3.5), \"a b c\".split()"
   ]
  },
  {
   "cell_type": "markdown",
   "metadata": {
    "deletable": true,
    "editable": true
   },
   "source": [
    "Actually, even operators are disguised functions: `+` is `__add__()`, `-` is `__sub__()`, etc."
   ]
  },
  {
   "cell_type": "code",
   "execution_count": null,
   "metadata": {
    "collapsed": false,
    "deletable": true,
    "editable": true
   },
   "outputs": [],
   "source": [
    "a, b = 3, 5\n",
    "a + b, a.__add__(b), a - b, a.__sub__(b)"
   ]
  },
  {
   "cell_type": "markdown",
   "metadata": {
    "deletable": true,
    "editable": true
   },
   "source": [
    "You can see that these functions are not all the same:\n",
    "* `print()` and `type()` take arguments, but they are not called _on_ an object: there is no \"`.`\".\n",
    "* In contrast, `\"a b c\".split()` and `a.__add__(b)` are called _on_ the `string` `\"a b c\"` or the `int` variable `a`.  These are called _methods_ or _member functions_.  It is acting upon the object, possibly changing it:"
   ]
  },
  {
   "cell_type": "code",
   "execution_count": null,
   "metadata": {
    "collapsed": false,
    "deletable": true,
    "editable": true
   },
   "outputs": [],
   "source": [
    "l = [2, 3, 1, 2] # define an unordered list\n",
    "print(sorted(l)) # the function returns a sorted copy.\n",
    "print(l)         # but does not alter the object (l)\n",
    "print(l.sort())  # the member function _changes_ the object.\n",
    "print(l)         #   (in this case -- of course, for strings, it didn't!!)"
   ]
  },
  {
   "cell_type": "markdown",
   "metadata": {
    "deletable": true,
    "editable": true
   },
   "source": [
    "**Open ex/ex1.py with atom.  Edit to:**\n",
    "* **<font color=darkred>Print, \"`sorted()`\" in alphabetical order, the fruit listed in ex1.py.</font>**\n",
    "* **<font color=darkred>for loop/if review: print only the berries.</font>**"
   ]
  },
  {
   "cell_type": "markdown",
   "metadata": {
    "deletable": true,
    "editable": true
   },
   "source": [
    "* Note that `type()` and `\"a b c\".split()` return values, while `print()` and `l.sort()` do not."
   ]
  },
  {
   "cell_type": "markdown",
   "metadata": {
    "deletable": true,
    "editable": true
   },
   "source": [
    "### User functions: `def`\n",
    "* To write our own functions, use the `def` keyword, and consistently indent the entire block.\n",
    "* After `def`, we define the function's name.\n",
    "* After it follows, within parentheses, any number of variables."
   ]
  },
  {
   "cell_type": "code",
   "execution_count": null,
   "metadata": {
    "collapsed": false,
    "deletable": true,
    "editable": true
   },
   "outputs": [],
   "source": [
    "def hi():\n",
    "    \n",
    "    print(\"hello\")\n",
    "\n",
    "def squared(v):\n",
    "    \n",
    "    hi()\n",
    "    print(\"{} squared is {}\".format(v, v * v))\n",
    "    \n",
    "squared(3)\n",
    "squared(9)\n",
    "squared(4)\n",
    "squared(-9.23)"
   ]
  },
  {
   "cell_type": "markdown",
   "metadata": {
    "deletable": true,
    "editable": true
   },
   "source": [
    "## Scope\n",
    "\n",
    "\"Scope\" may not be what you expect.\n",
    "* If you pass in a variable, you are actually passing in a _pointer_ to the variable!  If you reassign it, it will not remain changed, when the function is over."
   ]
  },
  {
   "cell_type": "code",
   "execution_count": null,
   "metadata": {
    "collapsed": false,
    "deletable": true,
    "editable": true
   },
   "outputs": [],
   "source": [
    "def fn1(l):\n",
    "   \n",
    "    l = \"def\"\n",
    "    print(l)\n",
    "\n",
    "l = [\"a\", \"b\", \"c\"]\n",
    "fn1(l)\n",
    "print(l)"
   ]
  },
  {
   "cell_type": "markdown",
   "metadata": {
    "deletable": true,
    "editable": true
   },
   "source": [
    "* However, if you _manipulate it_, those changes _will_ persist!"
   ]
  },
  {
   "cell_type": "code",
   "execution_count": null,
   "metadata": {
    "collapsed": false,
    "deletable": true,
    "editable": true
   },
   "outputs": [],
   "source": [
    "def fn2(l):\n",
    "   \n",
    "    l.extend([\"d\", \"e\", \"f\"])\n",
    "    print(l)\n",
    "    \n",
    "l = [\"a\", \"b\", \"c\"]\n",
    "fn2(l)\n",
    "print(l)"
   ]
  },
  {
   "cell_type": "markdown",
   "metadata": {
    "deletable": true,
    "editable": true
   },
   "source": [
    "* Variables defined outside the function will be available to it..."
   ]
  },
  {
   "cell_type": "code",
   "execution_count": null,
   "metadata": {
    "collapsed": false,
    "deletable": true,
    "editable": true
   },
   "outputs": [],
   "source": [
    "def fn3():\n",
    "    \n",
    "    print(l)\n",
    "\n",
    "l = [1, 2, 3]\n",
    "fn3()"
   ]
  },
  {
   "cell_type": "markdown",
   "metadata": {
    "deletable": true,
    "editable": true
   },
   "source": [
    "* But variables defined inside the function won't be available on the outside."
   ]
  },
  {
   "cell_type": "code",
   "execution_count": null,
   "metadata": {
    "collapsed": false,
    "deletable": true,
    "editable": true
   },
   "outputs": [],
   "source": [
    "def fn4():\n",
    "    \n",
    "    f4 = [4, 5, 6]\n",
    "    print(f4)\n",
    "\n",
    "fn4()\n",
    "# print(f4)"
   ]
  },
  {
   "cell_type": "markdown",
   "metadata": {
    "deletable": true,
    "editable": true
   },
   "source": [
    "* You can have as many variables as you want.\n",
    "* But when you call the function, you must provide all of them."
   ]
  },
  {
   "cell_type": "code",
   "execution_count": null,
   "metadata": {
    "collapsed": false,
    "deletable": true,
    "editable": true
   },
   "outputs": [],
   "source": [
    "def multi(a, b, c, d, e, f):\n",
    "    \n",
    "    print(a, b, c, d, e, f)\n",
    "    \n",
    "multi(0, 1, 2, 3, 4, 5)"
   ]
  },
  {
   "cell_type": "markdown",
   "metadata": {
    "deletable": true,
    "editable": true
   },
   "source": [
    "If you specify a default value, using \"`=`,\" that value no longer needs to be passed in."
   ]
  },
  {
   "cell_type": "code",
   "execution_count": null,
   "metadata": {
    "collapsed": false,
    "deletable": true,
    "editable": true
   },
   "outputs": [],
   "source": [
    "def power(v, exp = 2):\n",
    "    \n",
    "    print(exp)\n",
    "    print(\"{0}^{1} is {2}\".format(v, exp, v ** exp))\n",
    "    \n",
    "power(3)\n",
    "power(3, 3)\n",
    "power(exp = 4, v = 3)\n",
    "# power(exp = 2) # this won't work: v is required."
   ]
  },
  {
   "cell_type": "markdown",
   "metadata": {
    "deletable": true,
    "editable": true
   },
   "source": [
    "All required arguments must precede the optional ones:"
   ]
  },
  {
   "cell_type": "code",
   "execution_count": null,
   "metadata": {
    "collapsed": false,
    "deletable": true,
    "editable": true
   },
   "outputs": [],
   "source": [
    "# This won't work, because v = 3 is trying to be optional.\n",
    "def power(v = 3, exp):\n",
    "# def power(v, exp = 3):\n",
    "    \n",
    "    print(\"{}^{} is {}\".format(v, exp, v ** exp))\n",
    "    "
   ]
  },
  {
   "cell_type": "markdown",
   "metadata": {
    "deletable": true,
    "editable": true
   },
   "source": [
    "### Returning values: `return`\n",
    "* Functions can also `return` one or many values.\n",
    "* Some people consider it good form to return a dictionary for many values."
   ]
  },
  {
   "cell_type": "code",
   "execution_count": null,
   "metadata": {
    "collapsed": false,
    "deletable": true,
    "editable": true
   },
   "outputs": [],
   "source": [
    "def volume(l, w, h):\n",
    "    \n",
    "    return l * w * h\n",
    "\n",
    "def surface(l, w, h):\n",
    "    \n",
    "    return 2 * (l * w + l * h + w * h)\n",
    "\n",
    "def dimensions(l, w, h):\n",
    "    \n",
    "    return {\"surface\" : surface(l, w, h),\n",
    "            \"volume\"  : volume(l, w, h)}\n",
    "\n",
    "def dimensions_2(l, w, h):\n",
    "\n",
    "    return surface(l, w, h), volume(l, w, h)\n",
    "\n",
    "print(volume(2, 3, 4))\n",
    "print(surface(2, 3, 4))\n",
    "print(dimensions(2, 3, 4))\n",
    "r = dimensions(2, 3, 4)\n",
    "print(\"surface:\", r[\"surface\"])\n",
    "\n",
    "print(dimensions_2(2, 3, 4))"
   ]
  },
  {
   "cell_type": "code",
   "execution_count": null,
   "metadata": {
    "collapsed": false,
    "deletable": true,
    "editable": true
   },
   "outputs": [],
   "source": [
    "s = surface(2, 3, 4)\n",
    "print(\"paint for 3 boxes:\", s*3)"
   ]
  },
  {
   "cell_type": "markdown",
   "metadata": {
    "deletable": true,
    "editable": true
   },
   "source": [
    "* Obviously, most functions are more than one line long!!\n",
    "* You should use functions to do two things:\n",
    "  1. Make your code shorter -- "
   ]
  },
  {
   "cell_type": "markdown",
   "metadata": {
    "deletable": true,
    "editable": true
   },
   "source": [
    "## Lambda Functions\n",
    "* For very simple operations, there are also `lambda` functions:"
   ]
  },
  {
   "cell_type": "code",
   "execution_count": null,
   "metadata": {
    "collapsed": false,
    "deletable": true,
    "editable": true
   },
   "outputs": [],
   "source": [
    "s = lambda l, w, h: 2 * (l * w + l * h + w * h)\n",
    "\n",
    "s(2, 3, 4)"
   ]
  },
  {
   "cell_type": "markdown",
   "metadata": {
    "deletable": true,
    "editable": true
   },
   "source": [
    "How is this possibly any better than this??"
   ]
  },
  {
   "cell_type": "code",
   "execution_count": null,
   "metadata": {
    "collapsed": true,
    "deletable": true,
    "editable": true
   },
   "outputs": [],
   "source": [
    "def s(l, w, h): 2 * (l * w + l * h + w * h)"
   ]
  },
  {
   "cell_type": "markdown",
   "metadata": {
    "deletable": true,
    "editable": true
   },
   "source": [
    "One common argument that we did not cover in the functions on iterables (max, min, sort, etc.) is the \"key\" function -- how to order the objects.  This is one of the prime spots for lambda functions."
   ]
  },
  {
   "cell_type": "code",
   "execution_count": null,
   "metadata": {
    "collapsed": true,
    "deletable": true,
    "editable": true
   },
   "outputs": [],
   "source": [
    "aohf = \"You don’t know about me without you have read a book by the name of The Adventures of Tom Sawyer; but that ain’t no matter. That book was made by Mr. Mark Twain, and he told the truth, mainly. There was things which he stretched, but mainly he told the truth. That is nothing. I never seen anybody but lied one time or another, without it was Aunt Polly, or the widow, or maybe Mary. Aunt Polly—Tom’s Aunt Polly, she is—and Mary, and the Widow Douglas is all told about in that book, which is mostly a true book, with some stretchers, as I said before.\"\n",
    "\n",
    "# from re import sub\n",
    "# sub(\";|\\.|,|—\", \" \", aohf)\n",
    "\n",
    "aohf_list = aohf.lower().replace(\",\", \" \").replace(\";\", \" \").replace(\".\", \" \").replace(\"—\", \" \").split()"
   ]
  },
  {
   "cell_type": "code",
   "execution_count": null,
   "metadata": {
    "collapsed": false,
    "deletable": true,
    "editable": true
   },
   "outputs": [],
   "source": [
    "max([w for w in aohf_list], key = lambda x:len(x))"
   ]
  },
  {
   "cell_type": "markdown",
   "metadata": {
    "deletable": true,
    "editable": true
   },
   "source": [
    "You _could_ do this with a function, but it's just not usually done this way."
   ]
  },
  {
   "cell_type": "code",
   "execution_count": null,
   "metadata": {
    "collapsed": false,
    "deletable": true,
    "editable": true
   },
   "outputs": [],
   "source": [
    "def lx(x): return len(x)\n",
    "max([w for w in aohf_list], key = lx)"
   ]
  },
  {
   "cell_type": "markdown",
   "metadata": {
    "deletable": true,
    "editable": true
   },
   "source": [
    "**Open up ex/ex2.py and ex/ex3.py with Atom.  Make the changes, then run them: python ex/ex2.py, etc.**\n",
    "* **<font color=darkred>Create a function to convert between unit lengths.</font>**\n",
    "  * Use the template convert(3, \"ft\", \"km\").\n",
    "  * Handle lightyears (\"ly\") kilometers (\"km\"), miles (\"mi\"), feet (\"ft\"), meters (\"m\"), cm (\"cm\"), and inches (\"in\").</font>\n",
    "  * You may find the following helpful:\n",
    "`mconv = {\"ly\" : 9.4605e15, \"km\" : 1000, \"m\" : 1, \"cm\" : 0.01, \"mi\" : 1609.344, \"ft\" : 0.3048}`\n",
    "* **<font color=darkred>Create a function that returns if _n_ is prime.</font>**\n",
    "  * When you're done, think about the skeleton I provided is a BAD way to build up a list of primes.  How could you do this better?"
   ]
  },
  {
   "cell_type": "markdown",
   "metadata": {
    "deletable": true,
    "editable": true
   },
   "source": [
    "## Classes, Objects, and Methods\n",
    "* Classes are an important element of **object oriented programming**.\n",
    "* They allow us to define a single object in code, to represent some more complex object.\n",
    "* It is consists of primitive data objects (int, float, etc.) and/or complex data types, and may have additional functions/methods defined.\n",
    "* The [official tutorial on classes](https://docs.python.org/3/tutorial/classes.html) is useful, though it's a bit technical.\n",
    "\n",
    "\n",
    "\n",
    "* For the most part, we will not, in this class, _write_ classes.  However, we will use them an awful lot, and you do need to understand how they work.  \n",
    "* In particular, we'll often call methods of some class.  You have already seen this for `strings` and `lists` -- which are simple classes.  For example, we have called \"method\" functions of strings.\n",
    "* Strings contain a bit of information (some text) and define a bunch of functions that you can perform on that text."
   ]
  },
  {
   "cell_type": "code",
   "execution_count": null,
   "metadata": {
    "collapsed": false,
    "deletable": true,
    "editable": true
   },
   "outputs": [],
   "source": [
    "print(\"ABCDEF\".__repr__())\n",
    "print(\"ABCDEF\".replace(\"CDEF\", \"BA\"))\n",
    "print(\"|+|\".join([str(v) for v in range(10)]))"
   ]
  },
  {
   "cell_type": "markdown",
   "metadata": {
    "deletable": true,
    "editable": true
   },
   "source": [
    "* Of course, these objects can get far more complicated than strings -- it can be an entire dataset, with built in plotting code, etc. "
   ]
  },
  {
   "cell_type": "markdown",
   "metadata": {
    "deletable": true,
    "editable": true
   },
   "source": [
    "Let's define a simple _person_ class, to understand how this works.\n",
    "* The person should have a height, an age, and the ability to `grow()` or `age()`.\n",
    "* If we want to set up certain variables when we create the object, we use the `__init__()` function.\n",
    "* All member variables are written `self.var`.\n",
    "* Note that each method's first argument is `self` which is to say, _this object_.  The self argument is included automatically when the function is called."
   ]
  },
  {
   "cell_type": "code",
   "execution_count": null,
   "metadata": {
    "collapsed": false,
    "deletable": true,
    "editable": true
   },
   "outputs": [],
   "source": [
    "class person:\n",
    "    \n",
    "    # this is the method used to\n",
    "    # initialize/declare the object.\n",
    "    def __init__(self, age, height):\n",
    "    \n",
    "        self.age    = age    # years\n",
    "        self.height = height # inches\n",
    "    \n",
    "    def grow(self, increment):\n",
    "        \n",
    "        self.height += increment\n",
    "    \n",
    "    def speak(self):\n",
    "        \n",
    "        sentence = \"Hi!!  I am {:.0f} ft, {:.1f} inches tall.\"\n",
    "        print(sentence.format(self.height//12, self.height % 12))\n",
    "        "
   ]
  },
  {
   "cell_type": "code",
   "execution_count": null,
   "metadata": {
    "collapsed": false,
    "deletable": true,
    "editable": true,
    "scrolled": true
   },
   "outputs": [],
   "source": [
    "me = person(22, 72)\n",
    "me.speak()\n",
    "me.grow(0.2)\n",
    "me.speak()\n",
    "me.speak()\n",
    "me.speak()\n",
    "me.grow(0.8)\n",
    "me.speak()"
   ]
  },
  {
   "cell_type": "markdown",
   "metadata": {
    "deletable": true,
    "editable": true
   },
   "source": [
    "* There are a number of special\" functions beyond `__init__()`: among them, `__str__()` defines the print formatting and `__repr__()` (for a \"representation\") is what you'd see in-line in a prompt or jupyter cell.  \n",
    "* If it makes sense to do so, the arithmetic operators can also be defined: `__add__()`, etc.\n",
    "* And of course, any other \"normal\" function of your imagining."
   ]
  },
  {
   "cell_type": "code",
   "execution_count": null,
   "metadata": {
    "collapsed": false,
    "deletable": true,
    "editable": true
   },
   "outputs": [],
   "source": [
    "import random\n",
    "\n",
    "class person:\n",
    "    \n",
    "    # this is the method used to\n",
    "    # initialize/declare the object.\n",
    "    def __init__(self, age, height, sex):\n",
    "    \n",
    "        self.age    = age    # years\n",
    "        self.height = height # inches\n",
    "        self.sex    = sex    # \"M\"/\"F\"\n",
    "        \n",
    "    def __str__(self):\n",
    "        \n",
    "        return \"(person: {} yo, {:.0f} ft, {:.1f} inches)\"\\\n",
    "                .format(self.age, self.height//12, self.height % 12)\n",
    "        \n",
    "    def __repr__(self):\n",
    "        \n",
    "        return \"<person object, {:d} inches tall>\".format(self.height)\n",
    "        \n",
    "    def __add__(self, other):\n",
    "        \n",
    "        if self.sex == other.sex:\n",
    "            raise Exception(\"Can't reproduce!\", self.sex, other.sex)\n",
    "        \n",
    "        return person(0, 20, random.choice(\"MF\"))\n",
    "    \n",
    "    def grow(self, increment):\n",
    "        \n",
    "        self.height += increment \n",
    "        sentence = \"My goodness, you're {:.0f} ft, {:.1f} inches tall.\"\n",
    "        print(sentence.format(self.height//12, self.height % 12))\n",
    "        \n",
    "    def birthday(self):\n",
    "        \n",
    "        self.age += 1\n",
    "        print(\"Happy Birthday -- you're {}!\".format(self.age))\n",
    "                "
   ]
  },
  {
   "cell_type": "code",
   "execution_count": null,
   "metadata": {
    "collapsed": false,
    "deletable": true,
    "editable": true
   },
   "outputs": [],
   "source": [
    "a = person(25, 68, \"M\")\n",
    "b = person(25, 66, \"F\")\n",
    "child = a + b\n",
    "child.birthday()\n",
    "child.birthday()\n",
    "child.birthday()\n",
    "print(child)\n",
    "child"
   ]
  },
  {
   "cell_type": "markdown",
   "metadata": {
    "deletable": true,
    "editable": true
   },
   "source": [
    "You will _use_ more classes than you will _make_, but it's useful to understand how they're built.\n",
    "* <font color=darkred>**Use the typical heights per age below, and a for loop, to \"grow a child\" from birth to 20 years old.**</font>\n",
    "  \n",
    "  ```\n",
    "  heights = [19.75, 29.75, 34, 37.5, 40, 43, 45.5, 48, 50.5, 52, 54.5, 56.5, 59, 61.5, 64.5, 67, 68.5, 69, 69.5, 70, 70]\n",
    "  ```\n",
    "\n",
    "  Click to reveal solution.\n",
    "  \n",
    "<font color=white>\n",
    "child = person(0, heights[0], \"M\")\n",
    "for ai in range(1, 21):\n",
    "    incr = heights[ai] - heights[ai-1]\n",
    "    child.birthday()\n",
    "    child.grow(incr)\n",
    "</font>\n",
    "\n",
    "* <font color=darkred>**Challenge: use this list to set the \"appropriate\" height, given the child's age.  Remove \"grow\" and have the \"birthday\" function set the height as well as age.**"
   ]
  },
  {
   "cell_type": "markdown",
   "metadata": {
    "deletable": true,
    "editable": true
   },
   "source": [
    "## Modules\n",
    "* At the simplest level, a module is just any file of python code.\n",
    "* These modules save you work, and add to the potential of the language.\n",
    "  * They provide us with useful functions and classes.\n",
    "  * Who wants to write a sorting algorithm?  How about square root?\n",
    "* Typically, many modules are grouped in a `package`.\n",
    "* These packages will be the basis for almost all of our recipes."
   ]
  },
  {
   "cell_type": "markdown",
   "metadata": {
    "deletable": true,
    "editable": true
   },
   "source": [
    "### `import`\n",
    "* Let's start by _importing_ the `math` library: trigonometry, exponents, etc.\n",
    "* This basically 'loads' a bunch of constants and functions, expanding the potential of the 'calculator.'\n",
    "* See the full math library [here](https://docs.python.org/3.5/library/math.html)."
   ]
  },
  {
   "cell_type": "markdown",
   "metadata": {
    "deletable": true,
    "editable": true
   },
   "source": [
    "### Math"
   ]
  },
  {
   "cell_type": "code",
   "execution_count": null,
   "metadata": {
    "collapsed": false,
    "deletable": true,
    "editable": true
   },
   "outputs": [],
   "source": [
    "import math"
   ]
  },
  {
   "cell_type": "markdown",
   "metadata": {
    "deletable": true,
    "editable": true
   },
   "source": [
    "We can get the constants:"
   ]
  },
  {
   "cell_type": "code",
   "execution_count": null,
   "metadata": {
    "collapsed": true,
    "deletable": true,
    "editable": true
   },
   "outputs": [],
   "source": [
    "?math.exp"
   ]
  },
  {
   "cell_type": "code",
   "execution_count": null,
   "metadata": {
    "collapsed": false,
    "deletable": true,
    "editable": true
   },
   "outputs": [],
   "source": [
    "math.pi, math.e"
   ]
  },
  {
   "cell_type": "markdown",
   "metadata": {
    "deletable": true,
    "editable": true
   },
   "source": [
    "And the functions, like so:"
   ]
  },
  {
   "cell_type": "code",
   "execution_count": null,
   "metadata": {
    "collapsed": false,
    "deletable": true,
    "editable": true
   },
   "outputs": [],
   "source": [
    "math.sqrt(9), math.pow(2, 0), math.cos(math.pi/4) ** 2, math.factorial(10), "
   ]
  },
  {
   "cell_type": "markdown",
   "metadata": {
    "deletable": true,
    "editable": true
   },
   "source": [
    "**Modify ex/ex5.py...**\n",
    "* <font color=darkred>**What are _e⁻¹_, _e⁰_, _e¹_ and _e²_?**</font>\n",
    "  * Use math.exp(x).\n",
    "* <font color=darkred>**Some problems are not exactly computable.  If we had to consider everyone possible ordering of 1000 items, how many combinations would this be?**</font>\n",
    "  * Use math.factorial.\n",
    "  * You probably can't even count the digits.  Use math.log10, or len(str()) to count them.  (Why are these equivalent?)\n",
    "  * For comparison, there are _10⁸⁰_ atoms in the universe."
   ]
  },
  {
   "cell_type": "markdown",
   "metadata": {
    "deletable": true,
    "editable": true
   },
   "source": [
    "* You can also give the module an alias, like so:"
   ]
  },
  {
   "cell_type": "code",
   "execution_count": null,
   "metadata": {
    "collapsed": false,
    "deletable": true,
    "editable": true
   },
   "outputs": [],
   "source": [
    "import math as m # alias\n",
    "m.pi, m.e"
   ]
  },
  {
   "cell_type": "markdown",
   "metadata": {
    "deletable": true,
    "editable": true
   },
   "source": [
    "Alternately we can import specific functions only:"
   ]
  },
  {
   "cell_type": "code",
   "execution_count": null,
   "metadata": {
    "collapsed": false,
    "deletable": true,
    "editable": true
   },
   "outputs": [],
   "source": [
    "from math import sqrt, exp\n",
    "\n",
    "sqrt(9), exp(1) # don't need \"math.\""
   ]
  },
  {
   "cell_type": "markdown",
   "metadata": {
    "deletable": true,
    "editable": true
   },
   "source": [
    "### re: regular expressions ☺ \n",
    "See [re documentation](https://docs.python.org/3/library/re.html)."
   ]
  },
  {
   "cell_type": "code",
   "execution_count": null,
   "metadata": {
    "collapsed": false,
    "deletable": true,
    "editable": true
   },
   "outputs": [],
   "source": [
    "import re\n",
    "\n",
    "aohf = \"You don’t know about me without you have read a book by the name of The Adventures of Tom Sawyer; but that ain’t no matter. That book was made by Mr. Mark Twain, and he told the truth, mainly. There was things which he stretched, but mainly he told the truth. That is nothing. I never seen anybody but lied one time or another, without it was Aunt Polly, or the widow, or maybe Mary. Aunt Polly—Tom’s Aunt Polly, she is—and Mary, and the Widow Douglas is all told about in that book, which is mostly a true book, with some stretchers, as I said before.\"\n",
    "aohf_list = aohf.lower().replace(\",\", \" \").replace(\";\", \" \").replace(\".\", \" \").replace(\"—\", \" \").split()\n",
    "aohf_list = {x for x in re.sub(\";|\\.|,|—\", \" \", aohf).split()}\n",
    "print(aohf_list)"
   ]
  },
  {
   "cell_type": "markdown",
   "metadata": {
    "deletable": true,
    "editable": true
   },
   "source": [
    "### Pandas"
   ]
  },
  {
   "cell_type": "code",
   "execution_count": null,
   "metadata": {
    "collapsed": true,
    "deletable": true,
    "editable": true
   },
   "outputs": [],
   "source": [
    "import pandas as pd\n",
    "%matplotlib inline\n",
    "\n",
    "# Here, pd is a module and df is an object\n",
    "df = pd.read_csv(\"ex/state_outcomes.csv\")"
   ]
  },
  {
   "cell_type": "markdown",
   "metadata": {
    "deletable": true,
    "editable": true
   },
   "source": [
    "We've now defined this object, that contains some basic income info for each state."
   ]
  },
  {
   "cell_type": "code",
   "execution_count": null,
   "metadata": {
    "collapsed": false,
    "deletable": true,
    "editable": true
   },
   "outputs": [],
   "source": [
    "type(df)"
   ]
  },
  {
   "cell_type": "code",
   "execution_count": null,
   "metadata": {
    "collapsed": false,
    "deletable": true,
    "editable": true,
    "scrolled": false
   },
   "outputs": [],
   "source": [
    "df.plot(kind = \"scatter\", x = \"Median Income\", y = \"Poverty Rate\")"
   ]
  },
  {
   "cell_type": "markdown",
   "metadata": {
    "deletable": true,
    "editable": true
   },
   "source": [
    "Pandas will come in week 5."
   ]
  },
  {
   "cell_type": "markdown",
   "metadata": {
    "deletable": true,
    "editable": true
   },
   "source": [
    "## Conclusions"
   ]
  },
  {
   "cell_type": "markdown",
   "metadata": {
    "deletable": true,
    "editable": true
   },
   "source": [
    "* So, we can _import_ a module, or individual functions or constants _from_ a module.\n",
    "* Other libraries contain entirely new classes.\n",
    "* All of the functions, constants, and classes can be used and included in our own, user-made functions and classes.\n",
    "* The point is, there's tremendous functionality and shortcuts, that **you don't have to write.**  We'll more classes as we continue -- most of our recipes are based on these.\n",
    "* For entirely illustrative purposes, let's consider the `turtle` module."
   ]
  },
  {
   "cell_type": "markdown",
   "metadata": {
    "deletable": true,
    "editable": true
   },
   "source": [
    "## Turtles\n",
    "* Turtles?  Why turtles?\n",
    "* Turtles are an illustrative, fun, simple module for drawing lines.  Hopefully, they will intuitively illustrate loops and modules.  That's all!"
   ]
  },
  {
   "cell_type": "code",
   "execution_count": null,
   "metadata": {
    "collapsed": true,
    "deletable": true,
    "editable": true
   },
   "outputs": [],
   "source": [
    "import math\n",
    "import turtle "
   ]
  },
  {
   "cell_type": "markdown",
   "metadata": {
    "deletable": true,
    "editable": true
   },
   "source": [
    "Fire up a turtle:"
   ]
  },
  {
   "cell_type": "code",
   "execution_count": null,
   "metadata": {
    "collapsed": false,
    "deletable": true,
    "editable": true
   },
   "outputs": [],
   "source": [
    "t = turtle.Turtle()"
   ]
  },
  {
   "cell_type": "markdown",
   "metadata": {
    "collapsed": false,
    "deletable": true,
    "editable": true
   },
   "source": [
    "To first order, turtles can \n",
    "* move `forward()` and `backward()` (aka `fd()` and `bk()`).\n",
    "* they can turn `left()` or `right()` (aka `lt()` and `rt()`).\n",
    "* travel directly to position: `setpos(x, y)`.\n",
    "* report their `pos()`, `heading()` (angle).\n",
    "* change their `color()`.\n",
    "* shade an area between calls to `begin_fill()` and `end_fill()`\n",
    "\n",
    "By default, they leave a trace behind them, but you can set `penup()` or `pendown()`.\n",
    "\n",
    "The documentation is [here](https://docs.python.org/3.5/library/turtle.html)."
   ]
  },
  {
   "cell_type": "code",
   "execution_count": null,
   "metadata": {
    "collapsed": false,
    "deletable": true,
    "editable": true
   },
   "outputs": [],
   "source": [
    "t.color(0.6, 0.6, 0.6)\n",
    "t.fd(100)"
   ]
  },
  {
   "cell_type": "code",
   "execution_count": null,
   "metadata": {
    "collapsed": true,
    "deletable": true,
    "editable": true
   },
   "outputs": [],
   "source": [
    "t.begin_fill()\n",
    "t.rt(20)\n",
    "t.fd(50)"
   ]
  },
  {
   "cell_type": "code",
   "execution_count": null,
   "metadata": {
    "collapsed": true,
    "deletable": true,
    "editable": true
   },
   "outputs": [],
   "source": [
    "t.rt(20)\n",
    "t.fd(50)"
   ]
  },
  {
   "cell_type": "code",
   "execution_count": null,
   "metadata": {
    "collapsed": true,
    "deletable": true,
    "editable": true
   },
   "outputs": [],
   "source": [
    "t.rt(20)\n",
    "t.fd(50)\n",
    "t.end_fill()"
   ]
  },
  {
   "cell_type": "code",
   "execution_count": null,
   "metadata": {
    "collapsed": true,
    "deletable": true,
    "editable": true
   },
   "outputs": [],
   "source": [
    "t.setpos(0,0)"
   ]
  },
  {
   "cell_type": "markdown",
   "metadata": {
    "deletable": true,
    "editable": true
   },
   "source": [
    "Use the template below to begin a function.  It will grow in complexity, step by step:\n",
    "1. <font color=darkred>**Use fd() and rt() to draw a square, with sides 100 units long.**</font>\n",
    "2. <font color=darkred>**Allow the size to be passed as an additional, _optional_ parameter.**</font>\n",
    "3. <font color=darkred>**Rename the function polygon(), and take the number of sides as an additional parameter.  Calculate the angles in the corners on the fly.**</font>\n",
    "4. <font color=darkred>**Take one more parameter -- a shade of grey.  You can specify this as three numbers (R, G, B) between 0 and 1.  Passing t.color(x, x, x) will give you a grey.**</font>\n",
    "5. <font color=darkred>**Use your shaded polygon function and some for loops to make some turtle art -- something like below.  But let your artsy go -- make something satisfying.**</font>\n",
    "\n",
    "Hints: if you're finding it slow to run the programs, you can set `turtle.tracer(0, 0)` to just print the total thing"
   ]
  },
  {
   "cell_type": "code",
   "execution_count": null,
   "metadata": {
    "collapsed": false,
    "deletable": true,
    "editable": true
   },
   "outputs": [],
   "source": [
    "#!/usr/bin/env python \n",
    "\n",
    "import math\n",
    "import turtle \n",
    "\n",
    "joe = turtle.Turtle()\n",
    "\n",
    "def square(joe):\n",
    "\n",
    "    # Use a for loop with fd() and lt() or rt(),\n",
    "    # to draw a square.\n",
    "    \n",
    "    pass\n",
    "\n",
    "square(joe)"
   ]
  },
  {
   "cell_type": "markdown",
   "metadata": {
    "deletable": true,
    "editable": true
   },
   "source": [
    "A polygon-based answer could look like this:\n",
    "<img src=\"ex/polygon.png\",width=200,height=60>\n",
    "\n",
    "If you're feeling super ambitious, you can just attack this pseudo-triangle based creation!\n",
    "<img src=\"ex/triangle.png\",width=200,height=60>"
   ]
  },
  {
   "cell_type": "code",
   "execution_count": null,
   "metadata": {
    "collapsed": true,
    "deletable": true,
    "editable": true
   },
   "outputs": [],
   "source": []
  }
 ],
 "metadata": {
  "anaconda-cloud": {},
  "kernelspec": {
   "display_name": "Python [conda root]",
   "language": "python",
   "name": "conda-root-py"
  },
  "language_info": {
   "codemirror_mode": {
    "name": "ipython",
    "version": 3
   },
   "file_extension": ".py",
   "mimetype": "text/x-python",
   "name": "python",
   "nbconvert_exporter": "python",
   "pygments_lexer": "ipython3",
   "version": "3.5.3"
  }
 },
 "nbformat": 4,
 "nbformat_minor": 0
}
