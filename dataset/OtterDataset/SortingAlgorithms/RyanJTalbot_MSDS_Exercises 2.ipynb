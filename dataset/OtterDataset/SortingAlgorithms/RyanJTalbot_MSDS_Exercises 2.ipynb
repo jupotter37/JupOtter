{
 "cells": [
  {
   "cell_type": "markdown",
   "id": "861e6c2f",
   "metadata": {},
   "source": [
    "CLRS Chapter 2\n",
    "\n",
    "- 2.1 Insertion Sort\n",
    "\n",
    "- 2.2 Analyzing Algorithms\n",
    "\n",
    "- 2.3 Designing Algorithms"
   ]
  },
  {
   "cell_type": "markdown",
   "id": "465f0a2f",
   "metadata": {},
   "source": [
    "## Exercises 2.1"
   ]
  },
  {
   "cell_type": "markdown",
   "id": "c773df67",
   "metadata": {},
   "source": [
    "2.1-1 \n",
    "\n",
    "Using figure 2.2 as a model, illustrate the operation of INSERTION-SORT on the array A = [21,41,59,26,41,58]"
   ]
  },
  {
   "cell_type": "markdown",
   "id": "c0f73f47",
   "metadata": {},
   "source": [
    "- [21, 26, 41, 59, 41, 58]\n",
    "- [21, 26, 41, 41, 59, 58]\n",
    "- [21, 26, 41, 41, 58, 59]"
   ]
  },
  {
   "cell_type": "markdown",
   "id": "73a726d2",
   "metadata": {},
   "source": [
    "2.1-2\n",
    "\n",
    "Rewrite the INSERTION-SORT procedure to sort into nonincreasing instead of non-decreasing order"
   ]
  },
  {
   "cell_type": "markdown",
   "id": "87946543",
   "metadata": {},
   "source": []
  },
  {
   "cell_type": "code",
   "execution_count": 12,
   "id": "3ea3751d",
   "metadata": {},
   "outputs": [
    {
     "name": "stdout",
     "output_type": "stream",
     "text": [
      "Sorted Array in Ascending Order:\n",
      "[1, 3, 4, 5, 9]\n"
     ]
    }
   ],
   "source": [
    "# Insertion sort in Python\n",
    "def insertionSort(array):\n",
    "\n",
    "    for step in range(1, len(array)):\n",
    "        key = array[step]\n",
    "        j = step - 1\n",
    "        \n",
    "        # Compare key with each element on the left of it until an element smaller than it is found\n",
    "        # For descending order, change key<array[j] to key>array[j].        \n",
    "        while j >= 0 and key < array[j]:\n",
    "            array[j + 1] = array[j]\n",
    "            j = j - 1\n",
    "        \n",
    "        # Place key at after the element just smaller than it.\n",
    "        array[j + 1] = key\n",
    "\n",
    "\n",
    "data = [9, 5, 1, 4, 3]\n",
    "insertionSort(data)\n",
    "print('Sorted Array in Ascending Order:')\n",
    "print(data)"
   ]
  },
  {
   "cell_type": "code",
   "execution_count": 34,
   "id": "b3cb0e99",
   "metadata": {},
   "outputs": [
    {
     "name": "stdout",
     "output_type": "stream",
     "text": [
      "Sorted Array in Ascending Order:\n",
      "[9, 5, 4, 3, 1]\n"
     ]
    }
   ],
   "source": [
    "# Insertion sort in Python\n",
    "def insertionSort(array):\n",
    "\n",
    "    for step in range(1, len(array)):\n",
    "        key = array[step]\n",
    "        j = step - 1\n",
    "\n",
    "        \n",
    "        # Compare key with each element on the left of it until an element smaller than it is found\n",
    "        # For descending order, change key<array[j] to key>array[j].        \n",
    "        while j > 0 and key > array[j]:\n",
    "            array[j + 1] = array[j]\n",
    "            j = j - 1\n",
    "        \n",
    "        # Place key at after the element just smaller than it.\n",
    "        array[j + 1] = key\n",
    "\n",
    "\n",
    "data = [9, 5, 1, 4, 3]\n",
    "insertionSort(data)\n",
    "print('Sorted Array in Ascending Order:')\n",
    "print(data)"
   ]
  },
  {
   "cell_type": "markdown",
   "id": "ddc8503c",
   "metadata": {},
   "source": [
    "2.1-3"
   ]
  },
  {
   "cell_type": "markdown",
   "id": "2747e60f",
   "metadata": {},
   "source": [
    "Consider the searching problem:\n",
    "\n",
    "INPUT: A sequence of n numbers A = [A1, A2, ..., An] and a value v. \n",
    "    \n",
    "OUPUT: An index i such that v = A[i] or the special valuer NIL if v does not appear in A.\n",
    "\n",
    "Write pseudocode for linear search, which scans through the sequence, looking for v. using a loop invariant, prove that your algorithm is correct. Make sure that your loop invariant fulfills the three necessary properties. \n",
    "\n"
   ]
  },
  {
   "cell_type": "markdown",
   "id": "9edbe22b",
   "metadata": {},
   "source": [
    "- A=[1, 3, 5, 3, 0, 23, 349]\n",
    "- v=A[i]\n",
    "- Linear Search - looking for v.\n",
    "- Use Loop Invariant to prove correctness\n",
    "\n"
   ]
  },
  {
   "cell_type": "markdown",
   "id": "67025b3d",
   "metadata": {},
   "source": [
    "---"
   ]
  },
  {
   "cell_type": "markdown",
   "id": "c4639ab6",
   "metadata": {},
   "source": [
    "2.1-4 \n",
    "Consider the problem of adding two n-bit binary integers, stored in two n-element arrays A and B. The sum of the two integers should be stored in binary form in an (n + 1)-element array C. State the problem formally and write pseudocode for adding the two integers."
   ]
  },
  {
   "cell_type": "markdown",
   "id": "f236eb4f",
   "metadata": {},
   "source": [
    "---"
   ]
  },
  {
   "cell_type": "markdown",
   "id": "8d23e954",
   "metadata": {},
   "source": [
    "## Exercise 2.2"
   ]
  },
  {
   "cell_type": "markdown",
   "id": "e19ff17b",
   "metadata": {},
   "source": [
    "2.2-1\n",
    "\n",
    "Express the function \n",
    "\n",
    "$n^3 / 1000 - 100n^2 - 100n + 3$ in terms of ${\\theta}$ notaion\n"
   ]
  },
  {
   "cell_type": "markdown",
   "id": "32c1f668",
   "metadata": {},
   "source": [
    "---"
   ]
  },
  {
   "cell_type": "markdown",
   "id": "090cb957",
   "metadata": {},
   "source": []
  },
  {
   "cell_type": "markdown",
   "id": "c3e4020d",
   "metadata": {},
   "source": [
    "---"
   ]
  },
  {
   "cell_type": "markdown",
   "id": "9d5d70a4",
   "metadata": {},
   "source": [
    "2.2-2\n",
    "\n",
    "Consider sorting n numbers stored in array A by first finding the sallest element of A and exchanging it with the element in A[1]. Then find the second smallest element of A, and exchange it with A[2]. Continue in this maaner for the first n-1 elements of A. Write pseudocode for this algorithm, which is known as selection sort. What loop invariant does this algorithm maintain? Why does it need to run for only the first n-1 elements, rather than for all n elements? Give the best-case and worst-case running times of selection sort in $\\theta$-notation"
   ]
  },
  {
   "cell_type": "markdown",
   "id": "c08af968",
   "metadata": {},
   "source": [
    "---"
   ]
  },
  {
   "cell_type": "markdown",
   "id": "2d82ead2",
   "metadata": {},
   "source": [
    "2.2-3\n",
    "\n",
    "Consider linear search again (see Exercise 2.1-3). How many elements of the input sequence need to be checked on the average, assuming that the element being searched for is equally likely to be any element in the array? How about in the worst case? What are the average-case and worst-case running times of linear search in $\\theta$-notaion? Justify your answer"
   ]
  },
  {
   "cell_type": "markdown",
   "id": "f71d88ff",
   "metadata": {},
   "source": [
    "---"
   ]
  },
  {
   "cell_type": "markdown",
   "id": "0088c302",
   "metadata": {},
   "source": [
    "2.2-4\n",
    "\n",
    "How can we modify almost any algorithm to have a good best-case running time?"
   ]
  },
  {
   "cell_type": "markdown",
   "id": "4264cb90",
   "metadata": {},
   "source": [
    "---"
   ]
  },
  {
   "cell_type": "markdown",
   "id": "f3e1f4ee",
   "metadata": {},
   "source": [
    "## Exercise 2.3"
   ]
  },
  {
   "cell_type": "markdown",
   "id": "417c5d77",
   "metadata": {},
   "source": [
    "2.3-1\n",
    "\n",
    "Using figure 2.4 as a model, illustrate the operation of merge sort on the array A=[3, 41, 52, 26, 38, 57, 9, 49]"
   ]
  },
  {
   "cell_type": "markdown",
   "id": "3881ffc0",
   "metadata": {},
   "source": [
    "---"
   ]
  },
  {
   "cell_type": "markdown",
   "id": "13242367",
   "metadata": {},
   "source": [
    "2.3-2\n",
    "\n",
    "Rewrite the MERGE procedure so that it does not use sentinels, instead stopping once either array L or R has had all its elements copied back to A and then copying the remainder of the other array back into A."
   ]
  },
  {
   "cell_type": "markdown",
   "id": "0c9da08d",
   "metadata": {},
   "source": [
    "---"
   ]
  },
  {
   "cell_type": "markdown",
   "id": "435674fd",
   "metadata": {},
   "source": [
    "2.3-3\n",
    "\n",
    "Use mathematical induction to show that when n is an exact power of 2, the solution of the recurrence\n",
    "\n",
    "\n",
    "is $T(n) = n lg n$"
   ]
  },
  {
   "cell_type": "markdown",
   "id": "e1e853b9",
   "metadata": {},
   "source": [
    "---"
   ]
  },
  {
   "cell_type": "markdown",
   "id": "59e4faf1",
   "metadata": {},
   "source": [
    "2.3-4\n",
    "\n",
    "We can express insertion sort as a recursive procedure as follows. In order to sort A[1..n], we recursively sort A[1..n-1] and then insert A[n] into the sorted array A[1..n-1]. Write a recurrence for the worst-case running time of this recursive version of insertion sort. "
   ]
  },
  {
   "cell_type": "markdown",
   "id": "fc227bc1",
   "metadata": {},
   "source": [
    "---"
   ]
  },
  {
   "cell_type": "markdown",
   "id": "ba519fe5",
   "metadata": {},
   "source": [
    "2.3-5\n",
    "\n",
    "Referring back to the searching problem (see Exdrcise 2.1-3), observe that if the sequence A is sorted, we can check the midpoint tf the sequence against v and eleminate half of the sequence from further consideration. The binary search algorithm repeats this procedure, halving the size of the remaining portion of the sequence each time. Write pseudocode, either iterative or recursive, for binary search. Argue that the worst-case running time of insertion to $\\theta(n lgN)$."
   ]
  },
  {
   "cell_type": "markdown",
   "id": "a896c72f",
   "metadata": {},
   "source": [
    "---"
   ]
  },
  {
   "cell_type": "markdown",
   "id": "4594f2f6",
   "metadata": {},
   "source": [
    "2.3-6\n",
    "\n",
    "Observe that the while loop of lines 5-7 of the INSERTION-SORT procedure in Section 2.1 uses a linear search to scan (backward)through the sorted subarray A[1..j-1]. Can we use a binary search (see Exercise 2.3-5) instead to improve the overall worst-case running time of insertion sor to $\\theta(nlgn)$?"
   ]
  },
  {
   "cell_type": "markdown",
   "id": "13607436",
   "metadata": {},
   "source": [
    "---"
   ]
  },
  {
   "cell_type": "markdown",
   "id": "dfdc7e38",
   "metadata": {},
   "source": [
    "2.3-7\n",
    "\n",
    "Describe a #\\theta(nlgn)$-time algorithm that, given a set S of n integers and another integer x, determines whether or not there exist two elements in S whose sum is exactly x. \n"
   ]
  },
  {
   "cell_type": "markdown",
   "id": "0652297a",
   "metadata": {},
   "source": [
    "---"
   ]
  },
  {
   "cell_type": "markdown",
   "id": "9566df77",
   "metadata": {},
   "source": [
    "# Problems"
   ]
  },
  {
   "cell_type": "markdown",
   "id": "16e5b7b7",
   "metadata": {},
   "source": [
    "2-1 Insertion sort on small arrays in merge sort runs in ${\\theta}(nlgn)$ worst-case time and insertion sort runs in ${\\theta}(n^2)$ worst-case time, the constant factors in insertion sort can make it faster in practice for small problem sizes on many machines. Thus, it makes sense to coarsen the leaces of the recursion by using insertion sort within merge sort when subproblems become sufficiently small. Consider a modification to merge sort in which $n/k$ sublists of length k are sorted using insertion sort and then merged using the standard merging mechanism, where k is a value to be determined.\n",
    "\n",
    "a. Show that insertion sort can sort the $n/k$ sublists, each of length k, in ${\\theta}(nk)$ worst-case time.\n",
    "\n",
    "\n",
    "b. Show how to merge the sublists in ${\\theta}(nlg(n/k))$ worst-case time.\n",
    "\n",
    "c. Given that the modified algorithm runs in ${\\theta}(nk + nlg(n/k))$ worst-case time, what is the largest value of k as a function of n for which the modified algorithm has the same running time as standard merge sort, in terms of ${\\theta}$-notation?\n",
    "\n",
    "d. How should we choose k in practice?\n",
    "\n",
    "\n"
   ]
  },
  {
   "cell_type": "markdown",
   "id": "a172ee6a",
   "metadata": {},
   "source": [
    "2-2 Correctness of bubblesort\n",
    "\n",
    "Bubblesort is a popular, but inefficient, sorting algorithm. It works by repeatedly swapping adjacent elements that are out of order.\n",
    "\n",
    "BUBBLESORT(A)\n",
    "```\n",
    "for i = 1 to A.length-1\n",
    "    for j = A.length downto i +1\n",
    "        if A[j] < A[j-1]\n",
    "            exchange A[j] with A[j-1]\n",
    " \n",
    "```\n",
    "\n",
    "a. Let A' denote the output of BUBBLESORT(A). To prove that BUBBLESORT is correct, we need to prove that it terminates and that\n",
    "\n",
    "A'[1] <= A'[2] <=...<=A'[n],\n",
    "\n",
    "when n = A.;ength. In order to show that BUBBLESORT actually sorts, what else do we need to prove?"
   ]
  },
  {
   "cell_type": "code",
   "execution_count": null,
   "id": "c7ec0dc6",
   "metadata": {},
   "outputs": [],
   "source": []
  }
 ],
 "metadata": {
  "kernelspec": {
   "display_name": "Python 3 (ipykernel)",
   "language": "python",
   "name": "python3"
  },
  "language_info": {
   "codemirror_mode": {
    "name": "ipython",
    "version": 3
   },
   "file_extension": ".py",
   "mimetype": "text/x-python",
   "name": "python",
   "nbconvert_exporter": "python",
   "pygments_lexer": "ipython3",
   "version": "3.9.12"
  }
 },
 "nbformat": 4,
 "nbformat_minor": 5
}
