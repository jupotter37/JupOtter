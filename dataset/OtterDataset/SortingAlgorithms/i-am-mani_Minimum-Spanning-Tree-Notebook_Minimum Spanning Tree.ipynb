{
 "cells": [
  {
   "cell_type": "markdown",
   "metadata": {
    "slideshow": {
     "slide_type": "slide"
    }
   },
   "source": [
    "\n",
    "# Demonstrating  Kruskal's Minimum Spanning Tree Algorithm\n",
    "\n",
    "### 1. [Usecases](#usecases)\n",
    "### 2. [Minimum Spanning Tree](#mst)\n",
    "### 3. [The Solution: Kruskal's Algorithm](#solution)\n",
    "### 4. [Complexity Analysis](#analysis)\n",
    "### 5. [Sources](#sources)\n",
    "\n",
    "---\n",
    "\n",
    "Made by Mandeep\n",
    "\n",
    "Github: https://github.com/llGOKUll\n",
    "\n",
    "Email: mandeepch868@gmail.com"
   ]
  },
  {
   "cell_type": "markdown",
   "metadata": {
    "slideshow": {
     "slide_type": "slide"
    }
   },
   "source": [
    "## Usescases <a class=\"anchor\" id=\"usecases\"></a>\n",
    "\n",
    "We begin with describing the situations where Kruskal's MST can be put to use.\n",
    "\n",
    "### **Aftermath of a disaster**, leads to disconnected road networks.The *minimum number of roads* that required to built to restore travelling among all required places such as Hospitals, Post Office, etc.\n",
    "<div style=\"margin:4rem\"/>\n",
    "<div style=\"display:flex\">\n",
    "<img src=\"http://s3.amazonaws.com/darkroom-cdn/2015/05/AP-Nepal-Earthquake-2.jpg\" alt=\"Drawing\" style=\"width: 500px;\"/>\n",
    "<img src=\"https://images.unsplash.com/photo-1601931163309-fe9459564c03?ixid=MXwxMjA3fDB8MHxwaG90by1wYWdlfHx8fGVufDB8fHw%3D&ixlib=rb-1.2.1&auto=format&fit=crop&w=634&q=80\" alt=\"Drawing\" style=\"width: 300px;\"/>    \n",
    "</div>\n",
    "\n",
    "<div style=\"margin:4rem\"/>\n",
    "\n",
    "### **Optimizing Water pipelines** to *connect all fields* without redundant connections and utilizing minimum number of pipes. \n",
    "<img src=\"https://images.unsplash.com/photo-1523741543316-beb7fc7023d8?ixid=MXwxMjA3fDB8MHxwaG90by1wYWdlfHx8fGVufDB8fHw%3D&ixlib=rb-1.2.1&auto=format&fit=crop&w=968&q=80\" alt=\"Drawing\" style=\"width: 400px;\"/>  \n",
    "\n",
    "<div style=\"margin:4rem\"/>\n",
    "\n",
    "### **Covering all clients subscribing to ethernet/cable plan**\n",
    "<img src=\"https://images.unsplash.com/photo-1513985505990-bd315ef2157a?ixid=MXwxMjA3fDB8MHxwaG90by1wYWdlfHx8fGVufDB8fHw%3D&ixlib=rb-1.2.1&auto=format&fit=crop&w=968&q=80\" alt=\"Drawing\" style=\"width: 500px;\"/>  "
   ]
  },
  {
   "cell_type": "markdown",
   "metadata": {
    "slideshow": {
     "slide_type": "slide"
    }
   },
   "source": [
    "## Minimum Spanning Tree <a class=\"anchor\" id=\"mst\"></a>\n",
    "\n",
    "### A spanning tree of an undirected graph G is an undirected graph which:\n",
    "+ contains all the vertices of G\n",
    "+ contains only edges of G\n",
    "+ has no cycles\n",
    "+ is connected\n",
    "+ A spanning tree is called “spanning” because it connects all the graph’s vertices\n",
    "+ A spanning tree is called a “tree” because it has no cycles\n",
    "\n",
    "### Minimum ?\n",
    "\n",
    "+ A single graph can have many different spanning trees\n",
    "+ They all must have the same number of edges \n",
    "+ But if it is a weighted graph, they may differ in the total weight of their edges\n",
    "+ Of all spanning trees in a weighted graph, one with the least total weight is a minimum spanning tree (MST)\n",
    "\n",
    "> In Simple Words, Minimum Spanning Tree is a Tree which covers all Vertices with minimum net total edge weight\n",
    "\n",
    "### History\n",
    "> Czech scientist Otakar Borůvka developed the first known algorithm for finding a minimum spanning tree, in 1926. He wanted to solve the problem of finding an efficient coverage of Moravia with electricity. \n",
    ">\n",
    "> Today, this algorithm is known as Borůvka's algorithm. \n",
    "\n",
    "#### Two other algorithms are commonly used today. \n",
    "+ One of them was developed by Vojtěch Jarník in 1930, and put in practice by Robert Clay Prim in 1957. Edsger Wybe Dijkstra rediscovered it in 1959, and called it **Prim's algorithm**. \n",
    "+ The other algorithm is called **Kruskal's algorithm**, and was pulbished by Joseph Kruskal in 1956. All three algorithms are greedy, and run in polynomial time."
   ]
  },
  {
   "cell_type": "markdown",
   "metadata": {
    "heading_collapsed": true,
    "slideshow": {
     "slide_type": "slide"
    }
   },
   "source": [
    "## The Solution: Kruskal's Algorithm <a class=\"anchor\" id=\"solution\"></a>\n",
    "\n",
    "###  Definition\n",
    "+ Kruskal's algorithm finds a minimum spanning forest of an undirected edge-weighted graph. If the graph is connected, it finds a minimum spanning tree.\n",
    " \n",
    "+ It is a greedy algorithm in graph theory as in each step it adds the next lowest-weight edge that will not form a cycle to the minimum spanning forest.\n",
    "\n",
    "### Working\n",
    "> Kruskal’s algorithm finds a safe edge to add to the growing forest by finding, of all\n",
    "> the edges that connect any two trees in the forest, an edge (u,v) of least weight.\n",
    "From CLRS\n",
    "\n",
    "#### The Entire Algorithm Boils down to following operations\n",
    "+ Assume Initial Graph G1  and Final Graph as G2, which is initially empty\n",
    "+ **Sort** all the edges of G1 in non-decreasing order\n",
    "+ For Each Edge perform the following operations:\n",
    "    - Add The Edge: If the edge does not form a Cycle.\n",
    "    - Do Not Add Edge: If adding the edge leads to a Cycle\n",
    "+ At the termination of the Algorithm, you get the Minimum Spanning Tree\n",
    "\n",
    "#### Time Complexity \n",
    "\n",
    "Using $N*log(n)$ sorting and optimized Disjoint Set(UnionFind) data structure\n",
    "we get the Time Complexity as $O(E*log(V))$\n",
    "\n",
    "> For Entire Complexity Proof, scroll to bottom.\n",
    "\n",
    "\n",
    "#### History\n",
    "- This algorithm first appeared in Proceedings of the American Mathematical Society, pp. 48–50 in 1956, and was written by Joseph Kruskal.\n"
   ]
  },
  {
   "cell_type": "markdown",
   "metadata": {
    "slideshow": {
     "slide_type": "slide"
    }
   },
   "source": [
    "## The Simulation <a class=\"anchor\" id=\"simulation\"></a>\n",
    "\n",
    "We Simulate the problem by using **Objects** as a substitute for Entity in the Problem like a **House**, **Buildings**, **Farm Fields** etc. \n",
    "<span style=\"background-color: aliceblue; padding: 2px;\">These are equivalent to Vertices in Graph.</span>\n",
    "\n",
    "And **Edge** describes the connection between Two such Object. \n",
    "\n",
    "We simulate the environment by creating **N** Nodes and **M** Edges that describe \"M\" possible connections (edges)   <span style=\"background-color: aliceblue; padding: 2px;\">And The Algorithm's AIM is to find the minimum cost path.</span>.\n",
    "Both being variables."
   ]
  },
  {
   "cell_type": "code",
   "execution_count": 1,
   "metadata": {
    "slideshow": {
     "slide_type": "subslide"
    }
   },
   "outputs": [],
   "source": [
    "'''Helper functions and Global Imports'''\n",
    "\n",
    "from IPython.display import Markdown, display\n",
    "import graphviz as gv\n",
    "from gvanim import Animation\n",
    "import random\n",
    "from gvanim.jupyter import interactive\n",
    "random.seed(2)\n",
    "\n",
    "from notebook.services.config import ConfigManager\n",
    "cm = ConfigManager()\n",
    "cm.update('livereveal', {\n",
    "        'width': 1024,\n",
    "        'height': 768,\n",
    "        'scroll': True,\n",
    "})\n",
    "\n",
    "def printmd(string):\n",
    "    '''displays text in Markdown (effect only visible in Jupyter or IPython Notebook)'''\n",
    "    display(Markdown(string))\n",
    "    \n",
    "def highlight_node_and_edge(animation, u, v, w):\n",
    "    ''' \n",
    "    Used as helper function for Animation function.\n",
    "    Performs:\n",
    "        highlight initial and final node.\n",
    "        label edge with weight\n",
    "        highlight edge\n",
    "        \n",
    "    params;\n",
    "        u(Node): Initial Node\n",
    "        v(Node): Final Node\n",
    "        w(int): Edge Weight\n",
    "    '''\n",
    "    animation.highlight_node(u)\n",
    "    animation.highlight_node(v)         \n",
    "    animation.add_edge(u, v)\n",
    "    animation.label_edge(u,v, f\"Weight = {w}\")\n",
    "    animation.highlight_edge(u,v, color='light_gray')\n",
    "    animation.next_step()\n",
    "\n",
    "def highlight_positive_edge(animation, u, v):\n",
    "    '''highlight the edge with green color'''\n",
    "    animation.highlight_edge(u, v, color='green')         \n",
    "    animation.next_step()\n",
    "    \n",
    "def remove_and_highlight_edge(animation, u, v):\n",
    "    '''remove edge between u and v and highlight it with red color.'''\n",
    "    animation.highlight_edge(u, v, color='red')                 \n",
    "    animation.next_step()\n",
    "    animation.remove_edge(u, v)\n",
    "    animation.next_step()\n",
    "\n",
    "    "
   ]
  },
  {
   "cell_type": "code",
   "execution_count": 2,
   "metadata": {
    "slideshow": {
     "slide_type": "subslide"
    }
   },
   "outputs": [],
   "source": [
    "class Node:\n",
    "    '''\n",
    "        Represents a Node or Vertice in Graph. \n",
    "        \n",
    "        attributes:\n",
    "            name(String): value of the vertice\n",
    "            parent(Node): parent node of the vertice\n",
    "            rank(int): rank of vertice\n",
    "    '''\n",
    "    def __init__(self, name):\n",
    "        self.name = name\n",
    "        self.parent = self        \n",
    "        \n",
    "    def __str__(self):\n",
    "        return self.name\n",
    "    \n",
    "    def __eq__(self,b):\n",
    "        return self.name == b.name\n",
    "    \n",
    "    def __hash__(self):        \n",
    "        return hash(str(self))"
   ]
  },
  {
   "cell_type": "code",
   "execution_count": 3,
   "metadata": {
    "slideshow": {
     "slide_type": "subslide"
    }
   },
   "outputs": [],
   "source": [
    "class Edge:\n",
    "    '''\n",
    "        Represents an Edge between 2 nodes in a Graph.\n",
    "        \n",
    "        attributes:\n",
    "            initial(Node)\n",
    "            final(Node)\n",
    "            weight(Node)\n",
    "    '''\n",
    "    \n",
    "    def __init__(self, initial, final, weight):\n",
    "        self.initial = initial\n",
    "        self.final = final\n",
    "        self.weight = weight\n",
    "    \n",
    "    def __str__(self):\n",
    "        return f'{self.initial} -> {self.final}'\n",
    "    \n",
    "    def __eq__(self, other):\n",
    "        ls = [other.initial, other.final]\n",
    "        return self.initial in ls and self.final in ls\n",
    "    \n",
    "    def __hash__(self):\n",
    "        return hash(str(self))"
   ]
  },
  {
   "cell_type": "code",
   "execution_count": 12,
   "metadata": {
    "slideshow": {
     "slide_type": "subslide"
    }
   },
   "outputs": [],
   "source": [
    "class DisjointSet:\n",
    "    '''\n",
    "        UnionFind Implementation.\n",
    "        \n",
    "        Which solves the problem of dynamic connectivity problem in most efficient manner.\n",
    "        \n",
    "        > Idea is that we each set will have one representative, and two nodes are said to be in\n",
    "        same set (hence connected) if they have same representative node. - Achieved by Find operation\n",
    "        usin Path Compression.\n",
    "        \n",
    "        Path compression is an optimization to the standard disjoint-set forest, in this we flatten the \n",
    "        set structure by linking child nodes to representative node of the set (note: not parent but representative node)\n",
    "        \n",
    "        > To connect two nodes, we merge the two sets using rank by union appraoch.\n",
    "          In which the nodes belong two in a manner such that\n",
    "            - Set with smaller rank is merged in Set with Larger rank\n",
    "            - In case of equal set with rank we merge final node into initial node(vice versa will do)\n",
    "               and increment the rank of the parent.\n",
    "        \n",
    "        With Complexity of O(alpha(N)), where alpha is ackermann's function which grows extremely slow.\n",
    "        Resulting in Constant time operations on amortization.\n",
    "        \n",
    "        Union and Find methods use Union By Rank and Path Compression. \n",
    "        Allowing Very Fast Union and Find operations. \n",
    "    '''\n",
    "    def __init__(self, nodes=[]):\n",
    "        \n",
    "        self.ranks = dict()\n",
    "        self.make_set(nodes)\n",
    "    \n",
    "    def make_set(self, nodes:list):\n",
    "        ''' Initialises ranks of all nodes. Must be done prior to find and union operations'''\n",
    "        for node in nodes:\n",
    "            self.ranks[node] = 0                \n",
    "         \n",
    "    def find(self, node):\n",
    "        '''Return representative node of the set'''\n",
    "        if(node.name != node.parent.name):\n",
    "            node.parent = self.find(node.parent)            \n",
    "        return node.parent\n",
    "    \n",
    "    def union(self, initial, final):     \n",
    "        ''' merges the sets containing initial and final nodes into a single set.'''\n",
    "        find_initial = self.find(initial)\n",
    "        find_final = self.find(final)\n",
    "        if(self.ranks[find_initial] > self.ranks[find_final]):\n",
    "            find_final.parent = find_initial\n",
    "        else:\n",
    "            find_initial.parent = find_final\n",
    "            if(self.ranks[find_initial] == self.ranks[find_final]):\n",
    "                self.ranks[find_final] += 1      "
   ]
  },
  {
   "cell_type": "code",
   "execution_count": 5,
   "metadata": {
    "slideshow": {
     "slide_type": "subslide"
    }
   },
   "outputs": [],
   "source": [
    "\"\"\" Helper Function to Generate Undirected Graph \"\"\"\n",
    "\n",
    "def generate_graph(num_nodes,num_edges, max_weight=100):\n",
    "    '''\n",
    "    Generates A Undirected Graph from provided configuration in parameter\n",
    "    params:\n",
    "        num_nodes(int): number of nodes the graph should contain\n",
    "        num_edges(int): maximum number of nodes the graph should contain, \n",
    "                        this should be less then number of edges in complete graph. ((n)*(n-1))/2\n",
    "    return:\n",
    "        nodes(Node): list of nodes\n",
    "        edges(Edge): list of edges\n",
    "    '''\n",
    "    assert(num_edges <= (num_nodes)*((num_nodes - 1)/2))\n",
    "    nodes = []\n",
    "    edges = []\n",
    "    for num in range(1,num_nodes+1):\n",
    "        node = Node(f'Node #{num}')\n",
    "        nodes.append(node)\n",
    "    edge_idx = 1\n",
    "    while edge_idx <= num_edges:\n",
    "        u_idx = random.randrange(0, num_nodes)\n",
    "        v_idx = random.randrange(0, num_nodes)\n",
    "        # avoid self-loop\n",
    "        if(u_idx != v_idx):\n",
    "            u = nodes[u_idx]\n",
    "            v = nodes[v_idx]\n",
    "            w = random.randint(1,max_weight)\n",
    "            edge = Edge(u,v,w)\n",
    "            # ensure edge is not repeated\n",
    "            if(edge not in edges):\n",
    "                edges.append(edge)\n",
    "                edge_idx += 1\n",
    "    return (nodes,edges)\n"
   ]
  },
  {
   "cell_type": "code",
   "execution_count": 13,
   "metadata": {
    "scrolled": false,
    "slideshow": {
     "slide_type": "subslide"
    }
   },
   "outputs": [
    {
     "data": {
      "application/vnd.jupyter.widget-view+json": {
       "model_id": "cdf12217502347f28ae28a8c3dc27455",
       "version_major": 2,
       "version_minor": 0
      },
      "text/plain": [
       "interactive(children=(IntSlider(value=0, description='n', max=7), Output()), _dom_classes=('widget-interact',)…"
      ]
     },
     "metadata": {},
     "output_type": "display_data"
    }
   ],
   "source": [
    "class Kruskal:\n",
    "    '''\n",
    "        Implementation of Kruskal's Algorithm using Optimised Disjoined Set Data Structure.\n",
    "        Allowing MST creation in O(Nlg(N)).\n",
    "    '''\n",
    "    \n",
    "    def __init__(self, nodes,edges):                \n",
    "        self.nodes = nodes\n",
    "        self.edges = edges\n",
    "        \n",
    "    def __str__(self):\n",
    "        for i in self.edges:\n",
    "            print(f'{i.initial} => {i.final}')\n",
    "        return ''\n",
    "        \n",
    "    def run(self):             \n",
    "        assert(len(self.nodes) > 0 and len(self.edges) > 0)\n",
    "        animation = Animation()\n",
    "        # create nodes for animation\n",
    "        for node in self.nodes:\n",
    "            animation.add_node(node)\n",
    "            animation.label_node(node,node.name)\n",
    "            \n",
    "        final_edges = []\n",
    "        # Operation #1 Sort by Edge Weight\n",
    "        sorted_edges = sorted(self.edges, key=lambda edge: edge.weight)\n",
    "        disjoint = DisjointSet()\n",
    "        disjoint.make_set(self.nodes)\n",
    "        for edge in sorted_edges:\n",
    "            initial = edge.initial\n",
    "            final = edge.final\n",
    "            highlight_node_and_edge(animation, initial,final, edge.weight)\n",
    "            # Operation #2 - If the nodes do not belong to same component/set/tree we add it to our final edges\n",
    "            if(disjoint.find(initial) != disjoint.find(final)):\n",
    "                highlight_positive_edge(animation, initial, final)\n",
    "                final_edges.append(edge)\n",
    "                disjoint.union(initial, final)\n",
    "            else:\n",
    "                remove_and_highlight_edge(animation, initial, final)        \n",
    "        return (final_edges, animation)\n",
    "    \n",
    "def test_kruskal():\n",
    "    '''Driver program to run across only 4 nodes'''    \n",
    "    a = Node('a')\n",
    "    b = Node('b')\n",
    "    c = Node('c')\n",
    "    e1 = Edge(a, b,10)\n",
    "    e2 = Edge(b, c,23)\n",
    "    e3 = Edge(a, c,45)\n",
    "    kruskal = Kruskal([a,b,c],[e1,e2,e3])\n",
    "    res, animation = kruskal.run()\n",
    "    display(interactive(animation, 400 ))\n",
    "test_kruskal()\n",
    "        "
   ]
  },
  {
   "cell_type": "markdown",
   "metadata": {
    "cell_style": "center",
    "slideshow": {
     "slide_type": "slide"
    }
   },
   "source": [
    "### Visualization\n",
    "\n",
    "#### We are going to use GraphViz Library for visualizing graphs and GraphVizAnim for interactive animation.\n",
    "\n",
    "Graphviz is open source graph visualization software. \n",
    "\n",
    "graphviz python library provides pyton binding. GraphVizAnim library is built on top of graphviz lib, which basically generates a graph everytime `next_step()` is called and displays the sequence interactively using IPython Interactive function\n",
    "\n",
    "\n",
    "Dependencies:\n",
    "- GraphVizAnim `!pip install GraphvizAnim`\n",
    "- GraphViz `!pip install graphviz`\n",
    "\n",
    "Checkout their website for more [graphviz project](https://graphviz.org/)"
   ]
  },
  {
   "cell_type": "code",
   "execution_count": 14,
   "metadata": {
    "slideshow": {
     "slide_type": "subslide"
    }
   },
   "outputs": [],
   "source": [
    "\"\"\" Helper Functions for displaying Graph\"\"\"\n",
    "\n",
    "def display_graph(title, nodes, edges):\n",
    "    \"\"\" Displays GraphViz graph from given :nodes and :edges with title as MD header\"\"\"\n",
    "    dot = gv.Digraph(engine='dot',strict=True)\n",
    "\n",
    "    for node in nodes:\n",
    "        dot.node(str(node))\n",
    "\n",
    "    for edge in edges:\n",
    "        dot.edge(str(edge.initial), str(edge.final), label=str(edge.weight))\n",
    "        \n",
    "    printmd(f'## {title}')\n",
    "    display(dot)\n",
    "\n",
    "def display_graph_edges_comparision(title, nodes, pre_edges, post_edges):\n",
    "    \"\"\" Displays graph with given nodes and coloring edges based on pre or post processing\"\"\"\n",
    "    dot = gv.Digraph(engine='dot',strict=True)\n",
    "\n",
    "    for node in nodes:\n",
    "        dot.node(str(node))\n",
    "\n",
    "    for edge in pre_edges: # first cover all edges with red\n",
    "        dot.edge(str(edge.initial), str(edge.final), label=str(edge.weight), color=\"red\")\n",
    "        \n",
    "    for edge in post_edges: # cover final edges with green\n",
    "        dot.edge(str(edge.initial), str(edge.final), label=str(edge.weight), color='green')\n",
    "        \n",
    "    printmd(f'## {title}')\n",
    "    printmd(\"> Green Edge Indicates, its included in MST.  Red ones are excluded from MST, they either case cycle or have high weight\")\n",
    "    display(dot)\n",
    "\n",
    "# Generate a undirected graph with 'N' nodes and 'M' edges - They're variable and can be updated here\n",
    "N = 6\n",
    "M = 14\n",
    "nodes,edges = generate_graph(N, M)"
   ]
  },
  {
   "cell_type": "code",
   "execution_count": 15,
   "metadata": {
    "slideshow": {
     "slide_type": "subslide"
    }
   },
   "outputs": [
    {
     "data": {
      "text/markdown": [
       "## Initial Raw Graph"
      ],
      "text/plain": [
       "<IPython.core.display.Markdown object>"
      ]
     },
     "metadata": {},
     "output_type": "display_data"
    },
    {
     "data": {
      "image/svg+xml": [
       "<?xml version=\"1.0\" encoding=\"UTF-8\" standalone=\"no\"?>\r\n",
       "<!DOCTYPE svg PUBLIC \"-//W3C//DTD SVG 1.1//EN\"\r\n",
       " \"http://www.w3.org/Graphics/SVG/1.1/DTD/svg11.dtd\">\r\n",
       "<!-- Generated by graphviz version 2.38.0 (20140413.2041)\r\n",
       " -->\r\n",
       "<!-- Title: %3 Pages: 1 -->\r\n",
       "<svg width=\"337pt\" height=\"479pt\"\r\n",
       " viewBox=\"0.00 0.00 337.00 479.00\" xmlns=\"http://www.w3.org/2000/svg\" xmlns:xlink=\"http://www.w3.org/1999/xlink\">\r\n",
       "<g id=\"graph0\" class=\"graph\" transform=\"scale(1 1) rotate(0) translate(4 475)\">\r\n",
       "<title>%3</title>\r\n",
       "<polygon fill=\"white\" stroke=\"none\" points=\"-4,4 -4,-475 333,-475 333,4 -4,4\"/>\r\n",
       "<!-- Node #1 -->\r\n",
       "<g id=\"node1\" class=\"node\"><title>Node #1</title>\r\n",
       "<ellipse fill=\"none\" stroke=\"black\" cx=\"234\" cy=\"-453\" rx=\"42.4939\" ry=\"18\"/>\r\n",
       "<text text-anchor=\"middle\" x=\"234\" y=\"-449.3\" font-family=\"Times New Roman,serif\" font-size=\"14.00\">Node #1</text>\r\n",
       "</g>\r\n",
       "<!-- Node #3 -->\r\n",
       "<g id=\"node3\" class=\"node\"><title>Node #3</title>\r\n",
       "<ellipse fill=\"none\" stroke=\"black\" cx=\"156\" cy=\"-366\" rx=\"42.4939\" ry=\"18\"/>\r\n",
       "<text text-anchor=\"middle\" x=\"156\" y=\"-362.3\" font-family=\"Times New Roman,serif\" font-size=\"14.00\">Node #3</text>\r\n",
       "</g>\r\n",
       "<!-- Node #1&#45;&gt;Node #3 -->\r\n",
       "<g id=\"edge10\" class=\"edge\"><title>Node #1&#45;&gt;Node #3</title>\r\n",
       "<path fill=\"none\" stroke=\"black\" d=\"M219.329,-436.012C207.563,-423.19 190.877,-405.007 177.587,-390.524\"/>\r\n",
       "<polygon fill=\"black\" stroke=\"black\" points=\"179.945,-387.918 170.605,-382.916 174.788,-392.651 179.945,-387.918\"/>\r\n",
       "<text text-anchor=\"middle\" x=\"206\" y=\"-405.8\" font-family=\"Times New Roman,serif\" font-size=\"14.00\">44</text>\r\n",
       "</g>\r\n",
       "<!-- Node #4 -->\r\n",
       "<g id=\"node4\" class=\"node\"><title>Node #4</title>\r\n",
       "<ellipse fill=\"none\" stroke=\"black\" cx=\"156\" cy=\"-279\" rx=\"42.4939\" ry=\"18\"/>\r\n",
       "<text text-anchor=\"middle\" x=\"156\" y=\"-275.3\" font-family=\"Times New Roman,serif\" font-size=\"14.00\">Node #4</text>\r\n",
       "</g>\r\n",
       "<!-- Node #1&#45;&gt;Node #4 -->\r\n",
       "<g id=\"edge5\" class=\"edge\"><title>Node #1&#45;&gt;Node #4</title>\r\n",
       "<path fill=\"none\" stroke=\"black\" d=\"M231.624,-434.723C228.237,-413.488 220.839,-376.74 207,-348 199.405,-332.228 187.898,-316.472 177.736,-304.103\"/>\r\n",
       "<polygon fill=\"black\" stroke=\"black\" points=\"180.112,-301.494 170.979,-296.123 174.77,-306.017 180.112,-301.494\"/>\r\n",
       "<text text-anchor=\"middle\" x=\"227\" y=\"-362.3\" font-family=\"Times New Roman,serif\" font-size=\"14.00\">92</text>\r\n",
       "</g>\r\n",
       "<!-- Node #2 -->\r\n",
       "<g id=\"node2\" class=\"node\"><title>Node #2</title>\r\n",
       "<ellipse fill=\"none\" stroke=\"black\" cx=\"126\" cy=\"-18\" rx=\"42.4939\" ry=\"18\"/>\r\n",
       "<text text-anchor=\"middle\" x=\"126\" y=\"-14.3\" font-family=\"Times New Roman,serif\" font-size=\"14.00\">Node #2</text>\r\n",
       "</g>\r\n",
       "<!-- Node #2&#45;&gt;Node #1 -->\r\n",
       "<g id=\"edge9\" class=\"edge\"><title>Node #2&#45;&gt;Node #1</title>\r\n",
       "<path fill=\"none\" stroke=\"black\" d=\"M89.2169,-27.1783C52.0262,-37.8738 0,-60.5931 0,-104 0,-367 0,-367 0,-367 0,-405.953 116.004,-432.192 184.657,-444.309\"/>\r\n",
       "<polygon fill=\"black\" stroke=\"black\" points=\"184.384,-447.813 194.834,-446.063 185.574,-440.915 184.384,-447.813\"/>\r\n",
       "<text text-anchor=\"middle\" x=\"3.5\" y=\"-231.8\" font-family=\"Times New Roman,serif\" font-size=\"14.00\">1</text>\r\n",
       "</g>\r\n",
       "<!-- Node #3&#45;&gt;Node #2 -->\r\n",
       "<g id=\"edge6\" class=\"edge\"><title>Node #3&#45;&gt;Node #2</title>\r\n",
       "<path fill=\"none\" stroke=\"black\" d=\"M122.399,-354.85C90.0497,-342.751 46,-319.098 46,-280 46,-280 46,-280 46,-104 46,-75.5546 70.0514,-52.7483 91.7791,-37.9491\"/>\r\n",
       "<polygon fill=\"black\" stroke=\"black\" points=\"93.7426,-40.8475 100.247,-32.4844 89.947,-34.9659 93.7426,-40.8475\"/>\r\n",
       "<text text-anchor=\"middle\" x=\"53\" y=\"-188.3\" font-family=\"Times New Roman,serif\" font-size=\"14.00\">21</text>\r\n",
       "</g>\r\n",
       "<!-- Node #3&#45;&gt;Node #4 -->\r\n",
       "<g id=\"edge12\" class=\"edge\"><title>Node #3&#45;&gt;Node #4</title>\r\n",
       "<path fill=\"none\" stroke=\"black\" d=\"M156,-347.799C156,-336.163 156,-320.548 156,-307.237\"/>\r\n",
       "<polygon fill=\"black\" stroke=\"black\" points=\"159.5,-307.175 156,-297.175 152.5,-307.175 159.5,-307.175\"/>\r\n",
       "<text text-anchor=\"middle\" x=\"163\" y=\"-318.8\" font-family=\"Times New Roman,serif\" font-size=\"14.00\">80</text>\r\n",
       "</g>\r\n",
       "<!-- Node #5 -->\r\n",
       "<g id=\"node5\" class=\"node\"><title>Node #5</title>\r\n",
       "<ellipse fill=\"none\" stroke=\"black\" cx=\"234\" cy=\"-192\" rx=\"42.4939\" ry=\"18\"/>\r\n",
       "<text text-anchor=\"middle\" x=\"234\" y=\"-188.3\" font-family=\"Times New Roman,serif\" font-size=\"14.00\">Node #5</text>\r\n",
       "</g>\r\n",
       "<!-- Node #3&#45;&gt;Node #5 -->\r\n",
       "<g id=\"edge3\" class=\"edge\"><title>Node #3&#45;&gt;Node #5</title>\r\n",
       "<path fill=\"none\" stroke=\"black\" d=\"M170.979,-348.877C182.379,-335.8 197.653,-316.412 207,-297 218.839,-272.414 225.964,-241.967 229.897,-220.386\"/>\r\n",
       "<polygon fill=\"black\" stroke=\"black\" points=\"233.389,-220.724 231.624,-210.277 226.489,-219.545 233.389,-220.724\"/>\r\n",
       "<text text-anchor=\"middle\" x=\"227\" y=\"-275.3\" font-family=\"Times New Roman,serif\" font-size=\"14.00\">30</text>\r\n",
       "</g>\r\n",
       "<!-- Node #4&#45;&gt;Node #2 -->\r\n",
       "<g id=\"edge14\" class=\"edge\"><title>Node #4&#45;&gt;Node #2</title>\r\n",
       "<path fill=\"none\" stroke=\"black\" d=\"M154.032,-261.006C148.946,-217.102 135.336,-99.5997 129.144,-46.1469\"/>\r\n",
       "<polygon fill=\"black\" stroke=\"black\" points=\"132.603,-45.5871 127.976,-36.0563 125.65,-46.3926 132.603,-45.5871\"/>\r\n",
       "<text text-anchor=\"middle\" x=\"148\" y=\"-144.8\" font-family=\"Times New Roman,serif\" font-size=\"14.00\">88</text>\r\n",
       "</g>\r\n",
       "<!-- Node #4&#45;&gt;Node #5 -->\r\n",
       "<g id=\"edge11\" class=\"edge\"><title>Node #4&#45;&gt;Node #5</title>\r\n",
       "<path fill=\"none\" stroke=\"black\" d=\"M170.671,-262.012C182.437,-249.19 199.123,-231.007 212.413,-216.524\"/>\r\n",
       "<polygon fill=\"black\" stroke=\"black\" points=\"215.212,-218.651 219.395,-208.916 210.055,-213.918 215.212,-218.651\"/>\r\n",
       "<text text-anchor=\"middle\" x=\"206\" y=\"-231.8\" font-family=\"Times New Roman,serif\" font-size=\"14.00\">99</text>\r\n",
       "</g>\r\n",
       "<!-- Node #5&#45;&gt;Node #1 -->\r\n",
       "<g id=\"edge8\" class=\"edge\"><title>Node #5&#45;&gt;Node #1</title>\r\n",
       "<path fill=\"none\" stroke=\"black\" d=\"M237.514,-210.015C238.529,-215.707 239.498,-222.103 240,-228 247.122,-311.698 247.122,-333.302 240,-417 239.78,-419.58 239.471,-422.255 239.108,-424.926\"/>\r\n",
       "<polygon fill=\"black\" stroke=\"black\" points=\"235.623,-424.56 237.514,-434.985 242.536,-425.656 235.623,-424.56\"/>\r\n",
       "<text text-anchor=\"middle\" x=\"252\" y=\"-318.8\" font-family=\"Times New Roman,serif\" font-size=\"14.00\">32</text>\r\n",
       "</g>\r\n",
       "<!-- Node #5&#45;&gt;Node #2 -->\r\n",
       "<g id=\"edge4\" class=\"edge\"><title>Node #5&#45;&gt;Node #2</title>\r\n",
       "<path fill=\"none\" stroke=\"black\" d=\"M242.068,-174.236C251.238,-152.552 262.989,-114.327 247,-87 230.634,-59.0295 198.071,-41.6804 170.844,-31.5123\"/>\r\n",
       "<polygon fill=\"black\" stroke=\"black\" points=\"171.69,-28.0996 161.095,-28.0847 169.368,-34.7034 171.69,-28.0996\"/>\r\n",
       "<text text-anchor=\"middle\" x=\"261\" y=\"-101.3\" font-family=\"Times New Roman,serif\" font-size=\"14.00\">35</text>\r\n",
       "</g>\r\n",
       "<!-- Node #6 -->\r\n",
       "<g id=\"node6\" class=\"node\"><title>Node #6</title>\r\n",
       "<ellipse fill=\"none\" stroke=\"black\" cx=\"196\" cy=\"-105\" rx=\"42.4939\" ry=\"18\"/>\r\n",
       "<text text-anchor=\"middle\" x=\"196\" y=\"-101.3\" font-family=\"Times New Roman,serif\" font-size=\"14.00\">Node #6</text>\r\n",
       "</g>\r\n",
       "<!-- Node #5&#45;&gt;Node #6 -->\r\n",
       "<g id=\"edge2\" class=\"edge\"><title>Node #5&#45;&gt;Node #6</title>\r\n",
       "<path fill=\"none\" stroke=\"black\" d=\"M226.492,-174.207C221.132,-162.216 213.816,-145.851 207.694,-132.157\"/>\r\n",
       "<polygon fill=\"black\" stroke=\"black\" points=\"210.769,-130.459 203.492,-122.758 204.378,-133.316 210.769,-130.459\"/>\r\n",
       "<text text-anchor=\"middle\" x=\"220.5\" y=\"-144.8\" font-family=\"Times New Roman,serif\" font-size=\"14.00\">7</text>\r\n",
       "</g>\r\n",
       "<!-- Node #6&#45;&gt;Node #1 -->\r\n",
       "<g id=\"edge1\" class=\"edge\"><title>Node #6&#45;&gt;Node #1</title>\r\n",
       "<path fill=\"none\" stroke=\"black\" d=\"M224.277,-118.47C261.426,-135.774 322,-167.581 322,-191 322,-367 322,-367 322,-367 322,-397.136 294.972,-419.976 270.874,-434.351\"/>\r\n",
       "<polygon fill=\"black\" stroke=\"black\" points=\"268.835,-431.482 261.844,-439.443 272.273,-437.579 268.835,-431.482\"/>\r\n",
       "<text text-anchor=\"middle\" x=\"325.5\" y=\"-275.3\" font-family=\"Times New Roman,serif\" font-size=\"14.00\">8</text>\r\n",
       "</g>\r\n",
       "<!-- Node #6&#45;&gt;Node #2 -->\r\n",
       "<g id=\"edge7\" class=\"edge\"><title>Node #6&#45;&gt;Node #2</title>\r\n",
       "<path fill=\"none\" stroke=\"black\" d=\"M182.503,-87.6111C172.142,-75.029 157.674,-57.4618 145.973,-43.2532\"/>\r\n",
       "<polygon fill=\"black\" stroke=\"black\" points=\"148.514,-40.8329 139.455,-35.3385 143.111,-45.2829 148.514,-40.8329\"/>\r\n",
       "<text text-anchor=\"middle\" x=\"172\" y=\"-57.8\" font-family=\"Times New Roman,serif\" font-size=\"14.00\">67</text>\r\n",
       "</g>\r\n",
       "<!-- Node #6&#45;&gt;Node #3 -->\r\n",
       "<g id=\"edge13\" class=\"edge\"><title>Node #6&#45;&gt;Node #3</title>\r\n",
       "<path fill=\"none\" stroke=\"black\" d=\"M165.665,-117.787C154.889,-123.347 143.568,-130.999 136,-141 102.762,-184.926 111.944,-206.355 105,-261 102.983,-276.872 99.9404,-281.821 105,-297 110.551,-313.652 121.953,-329.51 132.572,-341.717\"/>\r\n",
       "<polygon fill=\"black\" stroke=\"black\" points=\"130.047,-344.143 139.367,-349.183 135.224,-339.431 130.047,-344.143\"/>\r\n",
       "<text text-anchor=\"middle\" x=\"114\" y=\"-231.8\" font-family=\"Times New Roman,serif\" font-size=\"14.00\">14</text>\r\n",
       "</g>\r\n",
       "</g>\r\n",
       "</svg>\r\n"
      ],
      "text/plain": [
       "<graphviz.dot.Digraph at 0x60e7510>"
      ]
     },
     "metadata": {},
     "output_type": "display_data"
    }
   ],
   "source": [
    "kruskal = Kruskal(nodes,edges)\n",
    "out, anim = kruskal.run()\n",
    "\n",
    "display_graph(\"Initial Raw Graph\",nodes, edges)"
   ]
  },
  {
   "cell_type": "code",
   "execution_count": 16,
   "metadata": {
    "slideshow": {
     "slide_type": "subslide"
    }
   },
   "outputs": [
    {
     "data": {
      "text/markdown": [
       "## Final Graph Displaying Minimum Spanning Tree"
      ],
      "text/plain": [
       "<IPython.core.display.Markdown object>"
      ]
     },
     "metadata": {},
     "output_type": "display_data"
    },
    {
     "data": {
      "image/svg+xml": [
       "<?xml version=\"1.0\" encoding=\"UTF-8\" standalone=\"no\"?>\r\n",
       "<!DOCTYPE svg PUBLIC \"-//W3C//DTD SVG 1.1//EN\"\r\n",
       " \"http://www.w3.org/Graphics/SVG/1.1/DTD/svg11.dtd\">\r\n",
       "<!-- Generated by graphviz version 2.38.0 (20140413.2041)\r\n",
       " -->\r\n",
       "<!-- Title: %3 Pages: 1 -->\r\n",
       "<svg width=\"194pt\" height=\"305pt\"\r\n",
       " viewBox=\"0.00 0.00 194.49 305.00\" xmlns=\"http://www.w3.org/2000/svg\" xmlns:xlink=\"http://www.w3.org/1999/xlink\">\r\n",
       "<g id=\"graph0\" class=\"graph\" transform=\"scale(1 1) rotate(0) translate(4 301)\">\r\n",
       "<title>%3</title>\r\n",
       "<polygon fill=\"white\" stroke=\"none\" points=\"-4,4 -4,-301 190.493,-301 190.493,4 -4,4\"/>\r\n",
       "<!-- Node #1 -->\r\n",
       "<g id=\"node1\" class=\"node\"><title>Node #1</title>\r\n",
       "<ellipse fill=\"none\" stroke=\"black\" cx=\"42.2463\" cy=\"-105\" rx=\"42.4939\" ry=\"18\"/>\r\n",
       "<text text-anchor=\"middle\" x=\"42.2463\" y=\"-101.3\" font-family=\"Times New Roman,serif\" font-size=\"14.00\">Node #1</text>\r\n",
       "</g>\r\n",
       "<!-- Node #2 -->\r\n",
       "<g id=\"node2\" class=\"node\"><title>Node #2</title>\r\n",
       "<ellipse fill=\"none\" stroke=\"black\" cx=\"42.2463\" cy=\"-192\" rx=\"42.4939\" ry=\"18\"/>\r\n",
       "<text text-anchor=\"middle\" x=\"42.2463\" y=\"-188.3\" font-family=\"Times New Roman,serif\" font-size=\"14.00\">Node #2</text>\r\n",
       "</g>\r\n",
       "<!-- Node #2&#45;&gt;Node #1 -->\r\n",
       "<g id=\"edge1\" class=\"edge\"><title>Node #2&#45;&gt;Node #1</title>\r\n",
       "<path fill=\"none\" stroke=\"black\" d=\"M42.2463,-173.799C42.2463,-162.163 42.2463,-146.548 42.2463,-133.237\"/>\r\n",
       "<polygon fill=\"black\" stroke=\"black\" points=\"45.7464,-133.175 42.2463,-123.175 38.7464,-133.175 45.7464,-133.175\"/>\r\n",
       "<text text-anchor=\"middle\" x=\"45.7463\" y=\"-144.8\" font-family=\"Times New Roman,serif\" font-size=\"14.00\">1</text>\r\n",
       "</g>\r\n",
       "<!-- Node #3 -->\r\n",
       "<g id=\"node3\" class=\"node\"><title>Node #3</title>\r\n",
       "<ellipse fill=\"none\" stroke=\"black\" cx=\"144.246\" cy=\"-105\" rx=\"42.4939\" ry=\"18\"/>\r\n",
       "<text text-anchor=\"middle\" x=\"144.246\" y=\"-101.3\" font-family=\"Times New Roman,serif\" font-size=\"14.00\">Node #3</text>\r\n",
       "</g>\r\n",
       "<!-- Node #4 -->\r\n",
       "<g id=\"node4\" class=\"node\"><title>Node #4</title>\r\n",
       "<ellipse fill=\"none\" stroke=\"black\" cx=\"144.246\" cy=\"-18\" rx=\"42.4939\" ry=\"18\"/>\r\n",
       "<text text-anchor=\"middle\" x=\"144.246\" y=\"-14.3\" font-family=\"Times New Roman,serif\" font-size=\"14.00\">Node #4</text>\r\n",
       "</g>\r\n",
       "<!-- Node #3&#45;&gt;Node #4 -->\r\n",
       "<g id=\"edge5\" class=\"edge\"><title>Node #3&#45;&gt;Node #4</title>\r\n",
       "<path fill=\"none\" stroke=\"black\" d=\"M144.246,-86.799C144.246,-75.1626 144.246,-59.5479 144.246,-46.2368\"/>\r\n",
       "<polygon fill=\"black\" stroke=\"black\" points=\"147.746,-46.1754 144.246,-36.1754 140.746,-46.1755 147.746,-46.1754\"/>\r\n",
       "<text text-anchor=\"middle\" x=\"151.246\" y=\"-57.8\" font-family=\"Times New Roman,serif\" font-size=\"14.00\">80</text>\r\n",
       "</g>\r\n",
       "<!-- Node #5 -->\r\n",
       "<g id=\"node5\" class=\"node\"><title>Node #5</title>\r\n",
       "<ellipse fill=\"none\" stroke=\"black\" cx=\"144.246\" cy=\"-279\" rx=\"42.4939\" ry=\"18\"/>\r\n",
       "<text text-anchor=\"middle\" x=\"144.246\" y=\"-275.3\" font-family=\"Times New Roman,serif\" font-size=\"14.00\">Node #5</text>\r\n",
       "</g>\r\n",
       "<!-- Node #6 -->\r\n",
       "<g id=\"node6\" class=\"node\"><title>Node #6</title>\r\n",
       "<ellipse fill=\"none\" stroke=\"black\" cx=\"144.246\" cy=\"-192\" rx=\"42.4939\" ry=\"18\"/>\r\n",
       "<text text-anchor=\"middle\" x=\"144.246\" y=\"-188.3\" font-family=\"Times New Roman,serif\" font-size=\"14.00\">Node #6</text>\r\n",
       "</g>\r\n",
       "<!-- Node #5&#45;&gt;Node #6 -->\r\n",
       "<g id=\"edge2\" class=\"edge\"><title>Node #5&#45;&gt;Node #6</title>\r\n",
       "<path fill=\"none\" stroke=\"black\" d=\"M144.246,-260.799C144.246,-249.163 144.246,-233.548 144.246,-220.237\"/>\r\n",
       "<polygon fill=\"black\" stroke=\"black\" points=\"147.746,-220.175 144.246,-210.175 140.746,-220.175 147.746,-220.175\"/>\r\n",
       "<text text-anchor=\"middle\" x=\"147.746\" y=\"-231.8\" font-family=\"Times New Roman,serif\" font-size=\"14.00\">7</text>\r\n",
       "</g>\r\n",
       "<!-- Node #6&#45;&gt;Node #1 -->\r\n",
       "<g id=\"edge3\" class=\"edge\"><title>Node #6&#45;&gt;Node #1</title>\r\n",
       "<path fill=\"none\" stroke=\"black\" d=\"M125.538,-175.41C109.578,-162.11 86.4511,-142.837 68.6143,-127.973\"/>\r\n",
       "<polygon fill=\"black\" stroke=\"black\" points=\"70.7589,-125.205 60.836,-121.491 66.2776,-130.582 70.7589,-125.205\"/>\r\n",
       "<text text-anchor=\"middle\" x=\"103.746\" y=\"-144.8\" font-family=\"Times New Roman,serif\" font-size=\"14.00\">8</text>\r\n",
       "</g>\r\n",
       "<!-- Node #6&#45;&gt;Node #3 -->\r\n",
       "<g id=\"edge4\" class=\"edge\"><title>Node #6&#45;&gt;Node #3</title>\r\n",
       "<path fill=\"none\" stroke=\"black\" d=\"M144.246,-173.799C144.246,-162.163 144.246,-146.548 144.246,-133.237\"/>\r\n",
       "<polygon fill=\"black\" stroke=\"black\" points=\"147.746,-133.175 144.246,-123.175 140.746,-133.175 147.746,-133.175\"/>\r\n",
       "<text text-anchor=\"middle\" x=\"151.246\" y=\"-144.8\" font-family=\"Times New Roman,serif\" font-size=\"14.00\">14</text>\r\n",
       "</g>\r\n",
       "</g>\r\n",
       "</svg>\r\n"
      ],
      "text/plain": [
       "<graphviz.dot.Digraph at 0x60e7930>"
      ]
     },
     "metadata": {},
     "output_type": "display_data"
    }
   ],
   "source": [
    "display_graph(\"Final Graph Displaying Minimum Spanning Tree\", nodes, out)"
   ]
  },
  {
   "cell_type": "code",
   "execution_count": 17,
   "metadata": {
    "slideshow": {
     "slide_type": "subslide"
    }
   },
   "outputs": [
    {
     "data": {
      "text/markdown": [
       "## Comparing Initial Graph with Final Graph(MST)"
      ],
      "text/plain": [
       "<IPython.core.display.Markdown object>"
      ]
     },
     "metadata": {},
     "output_type": "display_data"
    },
    {
     "data": {
      "text/markdown": [
       "> Green Edge Indicates, its included in MST.  Red ones are excluded from MST, they either case cycle or have high weight"
      ],
      "text/plain": [
       "<IPython.core.display.Markdown object>"
      ]
     },
     "metadata": {},
     "output_type": "display_data"
    },
    {
     "data": {
      "image/svg+xml": [
       "<?xml version=\"1.0\" encoding=\"UTF-8\" standalone=\"no\"?>\r\n",
       "<!DOCTYPE svg PUBLIC \"-//W3C//DTD SVG 1.1//EN\"\r\n",
       " \"http://www.w3.org/Graphics/SVG/1.1/DTD/svg11.dtd\">\r\n",
       "<!-- Generated by graphviz version 2.38.0 (20140413.2041)\r\n",
       " -->\r\n",
       "<!-- Title: %3 Pages: 1 -->\r\n",
       "<svg width=\"337pt\" height=\"479pt\"\r\n",
       " viewBox=\"0.00 0.00 337.00 479.00\" xmlns=\"http://www.w3.org/2000/svg\" xmlns:xlink=\"http://www.w3.org/1999/xlink\">\r\n",
       "<g id=\"graph0\" class=\"graph\" transform=\"scale(1 1) rotate(0) translate(4 475)\">\r\n",
       "<title>%3</title>\r\n",
       "<polygon fill=\"white\" stroke=\"none\" points=\"-4,4 -4,-475 333,-475 333,4 -4,4\"/>\r\n",
       "<!-- Node #1 -->\r\n",
       "<g id=\"node1\" class=\"node\"><title>Node #1</title>\r\n",
       "<ellipse fill=\"none\" stroke=\"black\" cx=\"234\" cy=\"-453\" rx=\"42.4939\" ry=\"18\"/>\r\n",
       "<text text-anchor=\"middle\" x=\"234\" y=\"-449.3\" font-family=\"Times New Roman,serif\" font-size=\"14.00\">Node #1</text>\r\n",
       "</g>\r\n",
       "<!-- Node #3 -->\r\n",
       "<g id=\"node3\" class=\"node\"><title>Node #3</title>\r\n",
       "<ellipse fill=\"none\" stroke=\"black\" cx=\"156\" cy=\"-366\" rx=\"42.4939\" ry=\"18\"/>\r\n",
       "<text text-anchor=\"middle\" x=\"156\" y=\"-362.3\" font-family=\"Times New Roman,serif\" font-size=\"14.00\">Node #3</text>\r\n",
       "</g>\r\n",
       "<!-- Node #1&#45;&gt;Node #3 -->\r\n",
       "<g id=\"edge10\" class=\"edge\"><title>Node #1&#45;&gt;Node #3</title>\r\n",
       "<path fill=\"none\" stroke=\"red\" d=\"M219.329,-436.012C207.563,-423.19 190.877,-405.007 177.587,-390.524\"/>\r\n",
       "<polygon fill=\"red\" stroke=\"red\" points=\"179.945,-387.918 170.605,-382.916 174.788,-392.651 179.945,-387.918\"/>\r\n",
       "<text text-anchor=\"middle\" x=\"206\" y=\"-405.8\" font-family=\"Times New Roman,serif\" font-size=\"14.00\">44</text>\r\n",
       "</g>\r\n",
       "<!-- Node #4 -->\r\n",
       "<g id=\"node4\" class=\"node\"><title>Node #4</title>\r\n",
       "<ellipse fill=\"none\" stroke=\"black\" cx=\"156\" cy=\"-279\" rx=\"42.4939\" ry=\"18\"/>\r\n",
       "<text text-anchor=\"middle\" x=\"156\" y=\"-275.3\" font-family=\"Times New Roman,serif\" font-size=\"14.00\">Node #4</text>\r\n",
       "</g>\r\n",
       "<!-- Node #1&#45;&gt;Node #4 -->\r\n",
       "<g id=\"edge5\" class=\"edge\"><title>Node #1&#45;&gt;Node #4</title>\r\n",
       "<path fill=\"none\" stroke=\"red\" d=\"M231.624,-434.723C228.237,-413.488 220.839,-376.74 207,-348 199.405,-332.228 187.898,-316.472 177.736,-304.103\"/>\r\n",
       "<polygon fill=\"red\" stroke=\"red\" points=\"180.112,-301.494 170.979,-296.123 174.77,-306.017 180.112,-301.494\"/>\r\n",
       "<text text-anchor=\"middle\" x=\"227\" y=\"-362.3\" font-family=\"Times New Roman,serif\" font-size=\"14.00\">92</text>\r\n",
       "</g>\r\n",
       "<!-- Node #2 -->\r\n",
       "<g id=\"node2\" class=\"node\"><title>Node #2</title>\r\n",
       "<ellipse fill=\"none\" stroke=\"black\" cx=\"126\" cy=\"-18\" rx=\"42.4939\" ry=\"18\"/>\r\n",
       "<text text-anchor=\"middle\" x=\"126\" y=\"-14.3\" font-family=\"Times New Roman,serif\" font-size=\"14.00\">Node #2</text>\r\n",
       "</g>\r\n",
       "<!-- Node #2&#45;&gt;Node #1 -->\r\n",
       "<g id=\"edge9\" class=\"edge\"><title>Node #2&#45;&gt;Node #1</title>\r\n",
       "<path fill=\"none\" stroke=\"green\" d=\"M89.2169,-27.1783C52.0262,-37.8738 0,-60.5931 0,-104 0,-367 0,-367 0,-367 0,-405.953 116.004,-432.192 184.657,-444.309\"/>\r\n",
       "<polygon fill=\"green\" stroke=\"green\" points=\"184.384,-447.813 194.834,-446.063 185.574,-440.915 184.384,-447.813\"/>\r\n",
       "<text text-anchor=\"middle\" x=\"3.5\" y=\"-231.8\" font-family=\"Times New Roman,serif\" font-size=\"14.00\">1</text>\r\n",
       "</g>\r\n",
       "<!-- Node #3&#45;&gt;Node #2 -->\r\n",
       "<g id=\"edge6\" class=\"edge\"><title>Node #3&#45;&gt;Node #2</title>\r\n",
       "<path fill=\"none\" stroke=\"red\" d=\"M122.399,-354.85C90.0497,-342.751 46,-319.098 46,-280 46,-280 46,-280 46,-104 46,-75.5546 70.0514,-52.7483 91.7791,-37.9491\"/>\r\n",
       "<polygon fill=\"red\" stroke=\"red\" points=\"93.7426,-40.8475 100.247,-32.4844 89.947,-34.9659 93.7426,-40.8475\"/>\r\n",
       "<text text-anchor=\"middle\" x=\"53\" y=\"-188.3\" font-family=\"Times New Roman,serif\" font-size=\"14.00\">21</text>\r\n",
       "</g>\r\n",
       "<!-- Node #3&#45;&gt;Node #4 -->\r\n",
       "<g id=\"edge12\" class=\"edge\"><title>Node #3&#45;&gt;Node #4</title>\r\n",
       "<path fill=\"none\" stroke=\"green\" d=\"M156,-347.799C156,-336.163 156,-320.548 156,-307.237\"/>\r\n",
       "<polygon fill=\"green\" stroke=\"green\" points=\"159.5,-307.175 156,-297.175 152.5,-307.175 159.5,-307.175\"/>\r\n",
       "<text text-anchor=\"middle\" x=\"163\" y=\"-318.8\" font-family=\"Times New Roman,serif\" font-size=\"14.00\">80</text>\r\n",
       "</g>\r\n",
       "<!-- Node #5 -->\r\n",
       "<g id=\"node5\" class=\"node\"><title>Node #5</title>\r\n",
       "<ellipse fill=\"none\" stroke=\"black\" cx=\"234\" cy=\"-192\" rx=\"42.4939\" ry=\"18\"/>\r\n",
       "<text text-anchor=\"middle\" x=\"234\" y=\"-188.3\" font-family=\"Times New Roman,serif\" font-size=\"14.00\">Node #5</text>\r\n",
       "</g>\r\n",
       "<!-- Node #3&#45;&gt;Node #5 -->\r\n",
       "<g id=\"edge3\" class=\"edge\"><title>Node #3&#45;&gt;Node #5</title>\r\n",
       "<path fill=\"none\" stroke=\"red\" d=\"M170.979,-348.877C182.379,-335.8 197.653,-316.412 207,-297 218.839,-272.414 225.964,-241.967 229.897,-220.386\"/>\r\n",
       "<polygon fill=\"red\" stroke=\"red\" points=\"233.389,-220.724 231.624,-210.277 226.489,-219.545 233.389,-220.724\"/>\r\n",
       "<text text-anchor=\"middle\" x=\"227\" y=\"-275.3\" font-family=\"Times New Roman,serif\" font-size=\"14.00\">30</text>\r\n",
       "</g>\r\n",
       "<!-- Node #4&#45;&gt;Node #2 -->\r\n",
       "<g id=\"edge14\" class=\"edge\"><title>Node #4&#45;&gt;Node #2</title>\r\n",
       "<path fill=\"none\" stroke=\"red\" d=\"M154.032,-261.006C148.946,-217.102 135.336,-99.5997 129.144,-46.1469\"/>\r\n",
       "<polygon fill=\"red\" stroke=\"red\" points=\"132.603,-45.5871 127.976,-36.0563 125.65,-46.3926 132.603,-45.5871\"/>\r\n",
       "<text text-anchor=\"middle\" x=\"148\" y=\"-144.8\" font-family=\"Times New Roman,serif\" font-size=\"14.00\">88</text>\r\n",
       "</g>\r\n",
       "<!-- Node #4&#45;&gt;Node #5 -->\r\n",
       "<g id=\"edge11\" class=\"edge\"><title>Node #4&#45;&gt;Node #5</title>\r\n",
       "<path fill=\"none\" stroke=\"red\" d=\"M170.671,-262.012C182.437,-249.19 199.123,-231.007 212.413,-216.524\"/>\r\n",
       "<polygon fill=\"red\" stroke=\"red\" points=\"215.212,-218.651 219.395,-208.916 210.055,-213.918 215.212,-218.651\"/>\r\n",
       "<text text-anchor=\"middle\" x=\"206\" y=\"-231.8\" font-family=\"Times New Roman,serif\" font-size=\"14.00\">99</text>\r\n",
       "</g>\r\n",
       "<!-- Node #5&#45;&gt;Node #1 -->\r\n",
       "<g id=\"edge8\" class=\"edge\"><title>Node #5&#45;&gt;Node #1</title>\r\n",
       "<path fill=\"none\" stroke=\"red\" d=\"M237.514,-210.015C238.529,-215.707 239.498,-222.103 240,-228 247.122,-311.698 247.122,-333.302 240,-417 239.78,-419.58 239.471,-422.255 239.108,-424.926\"/>\r\n",
       "<polygon fill=\"red\" stroke=\"red\" points=\"235.623,-424.56 237.514,-434.985 242.536,-425.656 235.623,-424.56\"/>\r\n",
       "<text text-anchor=\"middle\" x=\"252\" y=\"-318.8\" font-family=\"Times New Roman,serif\" font-size=\"14.00\">32</text>\r\n",
       "</g>\r\n",
       "<!-- Node #5&#45;&gt;Node #2 -->\r\n",
       "<g id=\"edge4\" class=\"edge\"><title>Node #5&#45;&gt;Node #2</title>\r\n",
       "<path fill=\"none\" stroke=\"red\" d=\"M242.068,-174.236C251.238,-152.552 262.989,-114.327 247,-87 230.634,-59.0295 198.071,-41.6804 170.844,-31.5123\"/>\r\n",
       "<polygon fill=\"red\" stroke=\"red\" points=\"171.69,-28.0996 161.095,-28.0847 169.368,-34.7034 171.69,-28.0996\"/>\r\n",
       "<text text-anchor=\"middle\" x=\"261\" y=\"-101.3\" font-family=\"Times New Roman,serif\" font-size=\"14.00\">35</text>\r\n",
       "</g>\r\n",
       "<!-- Node #6 -->\r\n",
       "<g id=\"node6\" class=\"node\"><title>Node #6</title>\r\n",
       "<ellipse fill=\"none\" stroke=\"black\" cx=\"196\" cy=\"-105\" rx=\"42.4939\" ry=\"18\"/>\r\n",
       "<text text-anchor=\"middle\" x=\"196\" y=\"-101.3\" font-family=\"Times New Roman,serif\" font-size=\"14.00\">Node #6</text>\r\n",
       "</g>\r\n",
       "<!-- Node #5&#45;&gt;Node #6 -->\r\n",
       "<g id=\"edge2\" class=\"edge\"><title>Node #5&#45;&gt;Node #6</title>\r\n",
       "<path fill=\"none\" stroke=\"green\" d=\"M226.492,-174.207C221.132,-162.216 213.816,-145.851 207.694,-132.157\"/>\r\n",
       "<polygon fill=\"green\" stroke=\"green\" points=\"210.769,-130.459 203.492,-122.758 204.378,-133.316 210.769,-130.459\"/>\r\n",
       "<text text-anchor=\"middle\" x=\"220.5\" y=\"-144.8\" font-family=\"Times New Roman,serif\" font-size=\"14.00\">7</text>\r\n",
       "</g>\r\n",
       "<!-- Node #6&#45;&gt;Node #1 -->\r\n",
       "<g id=\"edge1\" class=\"edge\"><title>Node #6&#45;&gt;Node #1</title>\r\n",
       "<path fill=\"none\" stroke=\"green\" d=\"M224.277,-118.47C261.426,-135.774 322,-167.581 322,-191 322,-367 322,-367 322,-367 322,-397.136 294.972,-419.976 270.874,-434.351\"/>\r\n",
       "<polygon fill=\"green\" stroke=\"green\" points=\"268.835,-431.482 261.844,-439.443 272.273,-437.579 268.835,-431.482\"/>\r\n",
       "<text text-anchor=\"middle\" x=\"325.5\" y=\"-275.3\" font-family=\"Times New Roman,serif\" font-size=\"14.00\">8</text>\r\n",
       "</g>\r\n",
       "<!-- Node #6&#45;&gt;Node #2 -->\r\n",
       "<g id=\"edge7\" class=\"edge\"><title>Node #6&#45;&gt;Node #2</title>\r\n",
       "<path fill=\"none\" stroke=\"red\" d=\"M182.503,-87.6111C172.142,-75.029 157.674,-57.4618 145.973,-43.2532\"/>\r\n",
       "<polygon fill=\"red\" stroke=\"red\" points=\"148.514,-40.8329 139.455,-35.3385 143.111,-45.2829 148.514,-40.8329\"/>\r\n",
       "<text text-anchor=\"middle\" x=\"172\" y=\"-57.8\" font-family=\"Times New Roman,serif\" font-size=\"14.00\">67</text>\r\n",
       "</g>\r\n",
       "<!-- Node #6&#45;&gt;Node #3 -->\r\n",
       "<g id=\"edge13\" class=\"edge\"><title>Node #6&#45;&gt;Node #3</title>\r\n",
       "<path fill=\"none\" stroke=\"green\" d=\"M165.665,-117.787C154.889,-123.347 143.568,-130.999 136,-141 102.762,-184.926 111.944,-206.355 105,-261 102.983,-276.872 99.9404,-281.821 105,-297 110.551,-313.652 121.953,-329.51 132.572,-341.717\"/>\r\n",
       "<polygon fill=\"green\" stroke=\"green\" points=\"130.047,-344.143 139.367,-349.183 135.224,-339.431 130.047,-344.143\"/>\r\n",
       "<text text-anchor=\"middle\" x=\"114\" y=\"-231.8\" font-family=\"Times New Roman,serif\" font-size=\"14.00\">14</text>\r\n",
       "</g>\r\n",
       "</g>\r\n",
       "</svg>\r\n"
      ],
      "text/plain": [
       "<graphviz.dot.Digraph at 0x60e7530>"
      ]
     },
     "metadata": {},
     "output_type": "display_data"
    }
   ],
   "source": [
    "display_graph_edges_comparision(\"Comparing Initial Graph with Final Graph(MST)\", nodes, edges, out)"
   ]
  },
  {
   "cell_type": "code",
   "execution_count": 18,
   "metadata": {
    "scrolled": false,
    "slideshow": {
     "slide_type": "subslide"
    }
   },
   "outputs": [
    {
     "data": {
      "text/markdown": [
       "## Interactive Run through Kruskal's Algorithm"
      ],
      "text/plain": [
       "<IPython.core.display.Markdown object>"
      ]
     },
     "metadata": {},
     "output_type": "display_data"
    },
    {
     "data": {
      "text/markdown": [
       "> It takes time proportional to complexity of graph. Be Pateint"
      ],
      "text/plain": [
       "<IPython.core.display.Markdown object>"
      ]
     },
     "metadata": {},
     "output_type": "display_data"
    },
    {
     "data": {
      "text/markdown": [
       "> Black is the original Node. Green color would indicate the edge doesn't have cycle and we include it, red otherwise."
      ],
      "text/plain": [
       "<IPython.core.display.Markdown object>"
      ]
     },
     "metadata": {},
     "output_type": "display_data"
    },
    {
     "data": {
      "application/vnd.jupyter.widget-view+json": {
       "model_id": "1845b68623e14f489821838b4fdd8507",
       "version_major": 2,
       "version_minor": 0
      },
      "text/plain": [
       "interactive(children=(IntSlider(value=0, description='n', max=37), Output()), _dom_classes=('widget-interact',…"
      ]
     },
     "metadata": {},
     "output_type": "display_data"
    }
   ],
   "source": [
    "printmd(\"## Interactive Run through Kruskal's Algorithm\")\n",
    "printmd(\"> It takes time proportional to complexity of graph. Be Pateint\")\n",
    "printmd(\"> Black is the original Node. Green color would indicate the edge doesn't have cycle and we include it, red otherwise.\")\n",
    "interactive(anim, 500 )"
   ]
  },
  {
   "cell_type": "markdown",
   "metadata": {
    "slideshow": {
     "slide_type": "slide"
    }
   },
   "source": [
    "\n",
    "\n",
    "\n",
    "## Complexity Analysis <a class=\"anchor\" id=\"analysis\"></a>\n",
    "\n",
    "The complexity of Kruskal's algorithm depends directly on the **Data Structure** that is being used. \n",
    "\n",
    "### Naive Disjoint Set would yield:\n",
    "> i.e. Not using Path Compression or Union by rank\n",
    "\n",
    "+ MakeSet Operation Cost : $O(N)$\n",
    "+ Find Operation Cost: $O(N)$\n",
    "+ Union Operation Cost: \n",
    "    + Worst Case $O(N^2)$\n",
    "    + Amortized $O(N)$\n",
    "\n",
    "#### Time Complexity\n",
    "| Operations | Cost Of Operation Details|\n",
    "| ---- | ---- |\n",
    "|Sorting E Edges| $E*log(E)$ |\n",
    "|$V$ find operations For $E$ Edges|$E * V$|\n",
    "|$E - 1$ Union Operations For $E$|$E * E$|\n",
    "\n",
    "\n",
    "- Net = $E * (V + E)$\n",
    "- Total Net = $E*log(E) + E*(V+E)$\n",
    "\n",
    "**This Would lead the Time Complexity of Kruskals Algorithm to $O(E*log(E) + E*(V + E))$**\n",
    "\n",
    "Since, $E< V^2$ \n",
    "\n",
    "Complexity ~ $O(E*log(V) + E*(V + E))$\n",
    "\n",
    "---\n",
    "### Improved Disjoint Set\n",
    "---\n",
    "#### Disjoint Set with Path Compression:\n",
    "+ Find and Union Operation Cost: $\\displaystyle \\Theta (n+f\\cdot (1+\\log _{2+f/n}n))$\n",
    "\n",
    "\n",
    "#### Disjoint Set with Rank By Union\n",
    "+ Find Operation:  ${\\displaystyle \\Theta (m\\lg n)}$\n",
    "\n",
    "#### Disjoint Set with Path Compression & Rank By Union\n",
    "+ Union and Find Operation Cost:  ${\\displaystyle \\Theta (\\alpha (n))}$\n",
    "\n",
    "> $\\alpha$ is the inverse Ackermann function. Its safe to assume that all operations are performed in Constant Time. As The function grows very slow. \n",
    ">log* N = “log star of N” = smallest k such that log(k) n <= 1 or\n",
    ">\n",
    "> eg. Number of iterations it takes so that the log of base-2 of N <= 1\n",
    ">\n",
    "> for instance $log* 265536 = 5$\n",
    "\n",
    "---\n",
    "### Time Complexity\n",
    "\n",
    "Using Disjoint Set with Path compression and Union by Rank, minimizes the Time complexity. \n",
    "\n",
    "#### Hence by using Optimized DisjointSet Data Structure\n",
    "**We get Time Complexity as $O(E*log(V) + \\Theta(\\alpha(E)))$**\n",
    "\n",
    "**i.e $\\Theta(E*log(V))$**\n",
    "\n",
    "\n",
    "#### Sorting Edges by using Linear Sorting Algorithm\n",
    "**Time Complexity = $O(E*\\alpha(V))$** \n",
    "\n",
    "---\n",
    "\n",
    "<span style=\"background-color: #ffa899; padding: 2px;font-size: 23px;\">Almost Linear Time!!.</span>\n"
   ]
  },
  {
   "cell_type": "markdown",
   "metadata": {
    "slideshow": {
     "slide_type": "slide"
    }
   },
   "source": [
    "## Sources <a class=\"anchor\" id=\"sources\"></a>\n",
    "\n",
    "#### Primary References\n",
    "+ Introduction To Algorithms - CLRS (3rd Edition) - Chapter 21 (UnionFind | Disjoint Set) Chapter 27(MST)\n",
    "+ Wikipedia - For Definitions and Complexity Proof\n",
    "    + [Kruskal's Algorithm](https://en.wikipedia.org/wiki/Kruskal%27s_algorithm#Complexity)\n",
    "    + [Disjoint Set](https://en.wikipedia.org/wiki/Disjoint-set_data_structure)\n",
    "    + [Minimum Spanning Tree](https://simple.wikipedia.org/wiki/Minimum_spanning_tree)\n",
    "    + [Spanning Tree](https://en.wikipedia.org/wiki/Spanning_tree)\n",
    "+ Disjoint Set Analysis by https://cp-algorithms.com/data_structures/disjoint_set_union.html\n",
    "+ Relationship between Disjoint and Kruskal's analysis by [UCSD](https://cseweb.ucsd.edu/classes/fa15/cse100-a/lectures-c/Lec13-Graph.pdf)\n",
    "+ Naive Disjoint Set analysis by [Princeton](https://www.cs.princeton.edu/~wayne/kleinberg-tardos/pdf/UnionFind.pdf)\n",
    "+ Kruskal's Analysis by [Stanford](http://web.stanford.edu/class/archive/cs/cs166/cs166.1166/lectures/16/Small16.pdf)\n",
    "\n",
    "#### Other References\n",
    "+ [History Of Minimum Spanning Tree](http://www.math.ucsd.edu/~ronspubs/85_07_minimum_spanning_tree.pdf)\n",
    "\n",
    "\n",
    "#### Library Documentation\n",
    "+ [Markdown](https://www.markdownguide.org/extended-syntax/#escaping-pipe-characters-in-tables)\n",
    "+ [GraphViz](https://github.com/xflr6/graphviz)\n",
    "+ [GraphVizAnim](https://github.com/mapio/GraphvizAnim)\n",
    "+ [RISE](https://github.com/damianavila/RISE)\n",
    "+ [Jupyter Notebook presentation](https://medium.com/learning-machine-learning/present-your-data-science-projects-with-jupyter-slides-75f20735eb0f)\n"
   ]
  }
 ],
 "metadata": {
  "celltoolbar": "Slideshow",
  "kernelspec": {
   "display_name": "Python 3.6.4 32-bit",
   "language": "python",
   "name": "python36432bitc5b69ea5de9642a9ac709db0023171b6"
  },
  "language_info": {
   "codemirror_mode": {
    "name": "ipython",
    "version": 3
   },
   "file_extension": ".py",
   "mimetype": "text/x-python",
   "name": "python",
   "nbconvert_exporter": "python",
   "pygments_lexer": "ipython3",
   "version": "3.6.4"
  },
  "toc": {
   "base_numbering": 1,
   "nav_menu": {
    "height": "479px",
    "width": "512px"
   },
   "number_sections": true,
   "sideBar": true,
   "skip_h1_title": false,
   "title_cell": "Table of Contents",
   "title_sidebar": "Contents",
   "toc_cell": false,
   "toc_position": {},
   "toc_section_display": true,
   "toc_window_display": false
  }
 },
 "nbformat": 4,
 "nbformat_minor": 4
}
