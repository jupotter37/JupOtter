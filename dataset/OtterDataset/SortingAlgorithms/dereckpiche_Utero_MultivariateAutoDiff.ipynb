{
 "cells": [
  {
   "cell_type": "markdown",
   "metadata": {},
   "source": [
    "# Multivariate Automatic Differentiation\n",
    "The aim of this notebook is to provide understanding of the basic princples of automatic differentiation with trackers and operator overloading."
   ]
  },
  {
   "cell_type": "markdown",
   "metadata": {},
   "source": [
    "## Computationnal Graph\n",
    "Operations to manipulate the directed acyclic computationnal graphs created using Julia's built-in dictionnary data structure."
   ]
  },
  {
   "cell_type": "code",
   "execution_count": 1,
   "metadata": {},
   "outputs": [
    {
     "name": "stdout",
     "output_type": "stream",
     "text": [
      "KahnTopoSort(Nodes, Edges) = Any[1, 2, 3, 4, 5]\n"
     ]
    },
    {
     "data": {
      "text/plain": [
       "5-element Vector{Any}:\n",
       " 1\n",
       " 2\n",
       " 3\n",
       " 4\n",
       " 5"
      ]
     },
     "metadata": {},
     "output_type": "display_data"
    }
   ],
   "source": [
    "\n",
    "function AddEdge(Edges, source, sink)\n",
    "    if source in keys(Edges) merge!(Edges, IdDict(source=>Set([sink, get(Edges, source, false)...])))\n",
    "    else merge!(Edges, IdDict(source=>Set([sink]))) end \n",
    "end\n",
    "\n",
    "function RemoveEdge(Edges, source, sink)\n",
    "    if source in keys(Edges) delete!(get(Edges, source, false), sink) end\n",
    "end\n",
    "\n",
    "function ReverseEdges(Edges)::IdDict\n",
    "    ReversedEdges = IdDict{}\n",
    "    for (source, sinks) in edges\n",
    "        for sink in sinks AddEdge(ReversedEdges, source, sink) end\n",
    "    end\n",
    "    return ReversedEdges\n",
    "end\n",
    "\n",
    "function HasIncomingEdge(Edges, Node)::Bool\n",
    "    for sinks in values(Edges)  if (Node in sinks) return true end end\n",
    "    return false\n",
    "end\n",
    "\n",
    "\n",
    "function KahnTopoSort(Nodes::Set, edges::IdDict)\n",
    "    # Kahn's topological sorting algorithm\n",
    "    # edges is a DAG in the form of a dictionnary (source => sinks)\n",
    "    Edges = deepcopy(edges)\n",
    "    Sorted = []\n",
    "    NoIncomingEdges = Set( [Node for Node in Nodes  if !HasIncomingEdge(Edges, Node)] )\n",
    "    while !isempty(NoIncomingEdges)\n",
    "        source = pop!(NoIncomingEdges)\n",
    "        Sorted = cat(Sorted, [source], dims=1)\n",
    "        sinks = get(Edges, source, false)\n",
    "        if sinks!=false for sink in sinks\n",
    "            RemoveEdge(Edges, source, sink)\n",
    "            if !HasIncomingEdge(Edges, sink) NoIncomingEdges = union(NoIncomingEdges, Set(sink)) end\n",
    "        end end\n",
    "    end\n",
    "    return Sorted\n",
    "end\n",
    "\n",
    "\n",
    "Nodes = Set([1, 2, 3, 4, 5])\n",
    "Edges = IdDict(1=>Set([2, 3]), 4=>Set([5]), 2=>Set([4, 5]), 3=>Set([4]))\n",
    "@show KahnTopoSort(Nodes, Edges) #should return [5, 4, 2, 3, 1] or [5, 2, 4, 3, 1]"
   ]
  },
  {
   "cell_type": "markdown",
   "metadata": {},
   "source": [
    "## Forward Pass\n",
    "Almost every function can be broken down into a chain of very simple operations."
   ]
  },
  {
   "cell_type": "code",
   "execution_count": 2,
   "metadata": {},
   "outputs": [
    {
     "data": {
      "text/plain": [
       "WithGradient (generic function with 1 method)"
      ]
     },
     "metadata": {},
     "output_type": "display_data"
    }
   ],
   "source": [
    "import Base.:+\n",
    "import Base.:-\n",
    "import Base.:*\n",
    "import Base.:/\n",
    "import Base.:^\n",
    "import Base.sin\n",
    "import Base.cos\n",
    "\n",
    "function AddJacobian(Jacobians, source, sink, Jacobian)\n",
    "    # adds jacobian of sink with respect to source to jacobians\n",
    "    merge!(Jacobians, IdDict((source, sink) => Jacobian)) \n",
    "end\n",
    "\n",
    "function GenNode(Nodes)\n",
    "    # generate a new Node (Nodeentification in the graph)\n",
    "    Node = convert(Int64, floor(10000000 * rand()))\n",
    "    while Node in Nodes\n",
    "        Node = convert(Int64, floor(10000000 * rand()))\n",
    "    end\n",
    "    Nodes = union!(Nodes, Node)\n",
    "    return Node\n",
    "end\n",
    "\n",
    "mutable struct Tracked{T} <: Real \n",
    "    val::T\n",
    "    Node::Int64 # identification in the computationnal graph\n",
    "    Tracked(val, Nodes) = return new{typeof(val)}(val, GenNode(Nodes))\n",
    "    Tracked(val, Node) = return new{typeof(val)}(val, Node) \n",
    "end\n",
    "\n",
    "#Base.convert(::Type{AbstractFloat}, t::Type{Tracked{Float64}}) = t\n",
    "#Base.promote_rule(::Type{AbstractFloat}, ::Type{Tracked{Float64}}) =AbstractFloat\n",
    "\n",
    "for t in (Symbol(Integer), Symbol(AbstractFloat))\n",
    "    eval(\n",
    "    quote\n",
    "    GetJacobian(f::typeof(+), a::($t), b::Tracked) = 1\n",
    "    GetJacobian(f::typeof(+), a::Tracked, b::($t)) = 1\n",
    "\n",
    "    GetJacobian(f::typeof(-), a::($t), b::Tracked) = -1\n",
    "    GetJacobian(f::typeof(-), a::Tracked, b::($t)) = 1\n",
    "\n",
    "    GetJacobian(f::typeof(*), a::($t), b::Tracked) = a\n",
    "    GetJacobian(f::typeof(*), a::Tracked, b::($t)) = b\n",
    "\n",
    "    GetJacobian(f::typeof(/), a::($t), b::Tracked) = (-1)/b.val^2\n",
    "    GetJacobian(f::typeof(/), a::Tracked, b::($t)) = 1/b\n",
    "\n",
    "    GetJacobian(f::typeof(^), a::Tracked, b::($t)) = b*a.val^(b-1)\n",
    "    GetJacobian(f::typeof(^), a::($t), b::Tracked) = a^(b.val)*log(a)\n",
    "    \n",
    "    GetJacobian(f::typeof(sin), a::Tracked) = cos(a.val)\n",
    "    GetJacobian(f::typeof(cos), a::Tracked) = -sin(a.val)\n",
    "    end\n",
    "    )\n",
    "end\n",
    "\n",
    "\n",
    "function WithGradient(f, x, w::Set)\n",
    "    \n",
    "    # Overcharge the operators to create a computationnal graph as well as \n",
    "    # the intermediate jacobians for backpropagation at a later stage\n",
    "\n",
    "    global Nodes = deepcopy(w)\n",
    "    global Edges = IdDict()\n",
    "    global Jacobians = IdDict()\n",
    "\n",
    "    for op in (Symbol(+), Symbol(-), Symbol(*), Symbol(/), Symbol(^))\n",
    "        for t in (Symbol(Integer), Symbol(AbstractFloat))\n",
    "\n",
    "        eval(:(global function ($op)(a::T, b::Tracked) where {T <: ($t)}\n",
    "        Node = GenNode(Nodes)\n",
    "        J = GetJacobian(($op), a, b)\n",
    "        AddEdge(Edges, b.Node, Node)\n",
    "        AddJacobian(Jacobians, b.Node, Node, J)\n",
    "        return Tracked(($op)(a, b.val), Node) end))\n",
    "\n",
    "        eval(:(global function ($op)(a::Tracked, b::T) where {T <: ($t)}\n",
    "        Node = GenNode(Nodes)\n",
    "        J = GetJacobian(($op), a, b)\n",
    "        AddEdge(Edges, a.Node, Node)\n",
    "        AddJacobian(Jacobians, a.Node, Node, J)\n",
    "        return Tracked(($op)(a.val, b), Node) end))\n",
    "\n",
    "        eval(:(global function ($op)(a::Tracked, b::Tracked)\n",
    "        Node = GenNode(Nodes)\n",
    "        Ja = GetJacobian(($op), a, b.val)\n",
    "        AddEdge(Edges, a.Node, Node)\n",
    "        AddJacobian(Jacobians, a.Node, Node, Ja)\n",
    "        Jb = GetJacobian(($op), a.val, b)\n",
    "        AddEdge(Edges, b.Node, Node)\n",
    "        AddJacobian(Jacobians, b.Node, Node, Jb)\n",
    "        return Tracked(($op)(a.val, b.val), Node) end))\n",
    "\n",
    "        end\n",
    "\n",
    "    end\n",
    "\n",
    "    for op in (Symbol(sin), Symbol(cos))\n",
    "        eval(\n",
    "            :(\n",
    "            global function ($op)(a::Tracked)\n",
    "                Node = GenNode(Nodes)\n",
    "                J = GetJacobian(($op), a)\n",
    "                AddEdge(Edges, a.Node, Node)\n",
    "                AddJacobian(Jacobians, a.Node, Node, J)\n",
    "                return Tracked(($op)(a.val), Node) \n",
    "            end\n",
    "            )\n",
    "        )\n",
    "    end\n",
    "\n",
    "    y = Base.invokelatest(f, x)\n",
    "    return (y, Nodes, Edges, Jacobians)\n",
    "end\n"
   ]
  },
  {
   "cell_type": "markdown",
   "metadata": {},
   "source": []
  },
  {
   "cell_type": "markdown",
   "metadata": {},
   "source": [
    "## Backward Pass\n",
    "$$\\frac{d f \\circ g}{dx} = \\frac{d f}{d g} \\frac{dg}{dx}$$"
   ]
  },
  {
   "cell_type": "code",
   "execution_count": 3,
   "metadata": {},
   "outputs": [
    {
     "data": {
      "text/plain": [
       "Backprop (generic function with 1 method)"
      ]
     },
     "metadata": {},
     "output_type": "display_data"
    }
   ],
   "source": [
    "\n",
    "function Backprop(f, x, w)::IdDict\n",
    "    y, Nodes, Edges, Jacobians = WithGradient(f, x, w) # forward pass (intermediate jacobians are computed)\n",
    "    TopoSortNodes = KahnTopoSort(Nodes, Edges) \n",
    "    ChainedJacobians = IdDict{Any, Float64}(y.Node=>1)\n",
    "    for source in reverse(TopoSortNodes[1:end-1])\n",
    "        CJ = 0\n",
    "        sinks = get(Edges, source, false)\n",
    "        for sink in sinks\n",
    "            CJ += get(Jacobians, (source, sink), false) * get(ChainedJacobians, sink, false)\n",
    "        end\n",
    "        merge!(ChainedJacobians, IdDict(source=>CJ))\n",
    "    end\n",
    "    Gradients = IdDict([source=>get(ChainedJacobians, source, false) for source in keys(ChainedJacobians) if source in w])\n",
    "    return Gradients\n",
    "end"
   ]
  },
  {
   "cell_type": "markdown",
   "metadata": {},
   "source": []
  },
  {
   "cell_type": "code",
   "execution_count": 4,
   "metadata": {},
   "outputs": [
    {
     "name": "stdout",
     "output_type": "stream",
     "text": [
      "IdDict(12345 => 56.20829561241092)\n",
      "IdDict(12345 => -0.26237485370392877)\n"
     ]
    },
    {
     "name": "stdout",
     "output_type": "stream",
     "text": [
      "IdDict(420 => 27.53002464314667, 7 => 3.0428042273213602)\n"
     ]
    }
   ],
   "source": [
    "oepli(w, x) = 2 * (((2*w + x) - w) * w) + sin(w^2)\n",
    "ID = 12345\n",
    "w = Tracked(7.0, ID)\n",
    "grads = Backprop(x -> oepli(w, x), 12.0, Set([ID])) # should be approx. 56.21\n",
    "println(grads)\n",
    "\n",
    "jutyp(w) = sin(w)^2\n",
    "ID = 12345\n",
    "w = Tracked(25.0, ID)\n",
    "grads = Backprop(_ -> jutyp(w), nothing, Set([ID])) # should be approx. -0.26\n",
    "println(grads)\n",
    "\n",
    "tyamelki(w1, w2) = (cos(w2)^3 * 4sin(w1))^2 + cos(w1*w2)^2\n",
    "w1 = Tracked(13.2, 420); w2 = Tracked(89, 007)\n",
    "grads = Backprop(_ -> tyamelki(w1, w2), nothing, Set([420, 007])) # should be approx. (27.53, 3.0428)\n",
    "println(grads)\n"
   ]
  }
 ],
 "metadata": {
  "kernelspec": {
   "display_name": "Julia 1.9.1",
   "language": "julia",
   "name": "julia-1.9"
  },
  "language_info": {
   "file_extension": ".jl",
   "mimetype": "application/julia",
   "name": "julia",
   "version": "1.9.1"
  },
  "orig_nbformat": 4
 },
 "nbformat": 4,
 "nbformat_minor": 2
}
