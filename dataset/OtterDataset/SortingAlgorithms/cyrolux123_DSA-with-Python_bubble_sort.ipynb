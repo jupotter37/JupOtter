{
 "cells": [
  {
   "cell_type": "code",
   "execution_count": 1,
   "metadata": {},
   "outputs": [
    {
     "name": "stdout",
     "output_type": "stream",
     "text": [
      "[-4, 10, 12, 56, 67]\n"
     ]
    }
   ],
   "source": [
    "numbers = [12, -4, 56, 67, 10]\n",
    "numbers.sort()  \n",
    "\n",
    "print(numbers)"
   ]
  },
  {
   "cell_type": "markdown",
   "metadata": {},
   "source": [
    "1. Compare an element with its next element and swap them if necessary."
   ]
  },
  {
   "cell_type": "code",
   "execution_count": 2,
   "metadata": {},
   "outputs": [
    {
     "data": {
      "text/plain": [
       "'\\nif lst[j] > lst[j + 1]:\\n    # swap elements       \\n    lst[j], lst[j + 1] = lst[j + 1], lst[j]\\n'"
      ]
     },
     "execution_count": 2,
     "metadata": {},
     "output_type": "execute_result"
    }
   ],
   "source": [
    "'''\n",
    "if lst[j] > lst[j + 1]:\n",
    "    # swap elements       \n",
    "    lst[j], lst[j + 1] = lst[j + 1], lst[j]\n",
    "'''"
   ]
  },
  {
   "cell_type": "markdown",
   "metadata": {},
   "source": [
    "2. Repeat Step 1 for each element in the list using a loop."
   ]
  },
  {
   "cell_type": "code",
   "execution_count": 3,
   "metadata": {},
   "outputs": [
    {
     "data": {
      "text/plain": [
       "'\\nfor j in range(len(lst) - 1):\\n    if lst[j] > lst[j + 1]:\\n        lst[j], lst[j + 1] = lst[j + 1], lst[j]\\n'"
      ]
     },
     "execution_count": 3,
     "metadata": {},
     "output_type": "execute_result"
    }
   ],
   "source": [
    "'''\n",
    "for j in range(len(lst) - 1):\n",
    "    if lst[j] > lst[j + 1]:\n",
    "        lst[j], lst[j + 1] = lst[j + 1], lst[j]\n",
    "'''"
   ]
  },
  {
   "cell_type": "markdown",
   "metadata": {},
   "source": [
    "3. Repeat Step 2 for each element in the list."
   ]
  },
  {
   "cell_type": "code",
   "execution_count": 4,
   "metadata": {},
   "outputs": [
    {
     "data": {
      "text/plain": [
       "'for i in range(len(lst)):\\n\\n    for j in range(len(lst) - 1):\\n\\n        if lst[j] > lst[j + 1]:   \\n            lst[j], lst[j + 1] = lst[j + 1], lst[j]\\n'"
      ]
     },
     "execution_count": 4,
     "metadata": {},
     "output_type": "execute_result"
    }
   ],
   "source": [
    "'''for i in range(len(lst)):\n",
    "\n",
    "    for j in range(len(lst) - 1):\n",
    "\n",
    "        if lst[j] > lst[j + 1]:   \n",
    "            lst[j], lst[j + 1] = lst[j + 1], lst[j]\n",
    "'''"
   ]
  },
  {
   "cell_type": "code",
   "execution_count": 5,
   "metadata": {},
   "outputs": [
    {
     "name": "stdout",
     "output_type": "stream",
     "text": [
      "Unsorted List: [15, 16, 6, 8, 5]\n",
      "Sorted List: [5, 6, 8, 15, 16]\n"
     ]
    }
   ],
   "source": [
    "def bubble_sort(lst):\n",
    "\n",
    "    # outer loop to access each list element\n",
    "    for i in range(len(lst)):\n",
    "\n",
    "        # inner loop to compare list elements\n",
    "        for j in range(len(lst) - 1):\n",
    "\n",
    "            # swap elements if necessary\n",
    "            if lst[j] > lst[j + 1]:\n",
    "                lst[j], lst[j + 1] = lst[j + 1], lst[j]\n",
    "\n",
    "    return lst       \n",
    "\n",
    "data_list = [15, 16, 6, 8, 5]\n",
    "print(f\"Unsorted List: {data_list}\")\n",
    "\n",
    "sorted_list = bubble_sort(data_list)\n",
    "\n",
    "print(f\"Sorted List: {sorted_list}\")"
   ]
  },
  {
   "cell_type": "code",
   "execution_count": 6,
   "metadata": {},
   "outputs": [
    {
     "name": "stdout",
     "output_type": "stream",
     "text": [
      "[]\n"
     ]
    }
   ],
   "source": [
    "def bubble_sort(lst):\n",
    "    for i in range(len(lst)):\n",
    "        for j in range(len(lst) - 1):\n",
    "            if lst[j] > lst[j+1]:\n",
    "                lst[j], lst[j+1] = lst[j+1], lst[j]\n",
    "    return lst\n",
    "\n",
    "# take inputs and convert it to a list\n",
    "data_list = list(map(int, input().split()))\n",
    "\n",
    "# call the bubble sort function\n",
    "sorted_list = bubble_sort(data_list)\n",
    "\n",
    "# print the sorted list\n",
    "print(sorted_list)"
   ]
  },
  {
   "cell_type": "code",
   "execution_count": 7,
   "metadata": {},
   "outputs": [
    {
     "name": "stdout",
     "output_type": "stream",
     "text": [
      "[]\n"
     ]
    }
   ],
   "source": [
    "# Bubble Sort Algorithm in Descending Order\n",
    "\n",
    "def bubble_sort(lst):\n",
    "    for i in range(len(lst)):\n",
    "        for j in range(len(lst) - 1):\n",
    "            if lst[j] <= lst[j+1]:\n",
    "                lst[j], lst[j+1] = lst[j+1], lst[j]\n",
    "    return lst\n",
    "\n",
    "\n",
    "# take integer inputs and convert it to a list    \n",
    "data_list = list(map(int, input().split()))\n",
    "\n",
    "sorted_list = bubble_sort(data_list)\n",
    "print(sorted_list)"
   ]
  },
  {
   "cell_type": "markdown",
   "metadata": {},
   "source": [
    "Optimize Bubble Sort"
   ]
  },
  {
   "cell_type": "code",
   "execution_count": 8,
   "metadata": {},
   "outputs": [
    {
     "name": "stdout",
     "output_type": "stream",
     "text": [
      "[0, 4, 6, 45, 99]\n"
     ]
    }
   ],
   "source": [
    "# Bubble sort in ascending order\n",
    "def bubble_sort(data):\n",
    "\n",
    "    for i in range(len(data) - 1):\n",
    "        swapped = False\n",
    "        for j in range(len(data) - 1 - i):\n",
    "            if data[j] > data[j + 1]:\n",
    "                data[j], data[j+1] = data[j+1], data[j]\n",
    "                swapped = True\n",
    "        if not swapped:\n",
    "            break\n",
    "        \n",
    "    return data\n",
    "\n",
    "data_list = [4, 6, 99, 45, 0]\n",
    "\n",
    "sorted_list = bubble_sort(data_list)\n",
    "print(sorted_list)"
   ]
  },
  {
   "cell_type": "code",
   "execution_count": 9,
   "metadata": {},
   "outputs": [
    {
     "name": "stdout",
     "output_type": "stream",
     "text": [
      "[]\n"
     ]
    }
   ],
   "source": [
    "# Optimized bubble sort in desscending order\n",
    "\n",
    "def bubble_sort(lst):\n",
    "    # write your code here\n",
    "    for i in range(len(lst) - 1):\n",
    "        swapped = False\n",
    "        for j in range(len(lst) - 1 - i):\n",
    "            if lst[j] <= lst[j + 1]:\n",
    "                lst[j], lst[j + 1] = lst[j + 1], lst[j]\n",
    "                swapped = True\n",
    "        if not swapped:\n",
    "            break\n",
    "    return lst\n",
    "\n",
    "\n",
    "# take integer inputs and convert it to a list\n",
    "data_list = list(map(int, input().split()))\n",
    "\n",
    "sorted_list = bubble_sort(data_list)\n",
    "print(sorted_list)"
   ]
  },
  {
   "cell_type": "markdown",
   "metadata": {},
   "source": [
    "Use bubble sort for\n",
    "- Small datasets.\n",
    "- When simplicity is more important than efficiency.\n",
    "- When the data is already partially sorted."
   ]
  },
  {
   "cell_type": "markdown",
   "metadata": {},
   "source": [
    "When not to use bubble sort?\n",
    "- Avoid bubble sort for large datasets and performance-critical applications. In such cases, sorting algorithms like merge sort or quick sort are more suitable."
   ]
  }
 ],
 "metadata": {
  "kernelspec": {
   "display_name": "Python 3",
   "language": "python",
   "name": "python3"
  },
  "language_info": {
   "codemirror_mode": {
    "name": "ipython",
    "version": 3
   },
   "file_extension": ".py",
   "mimetype": "text/x-python",
   "name": "python",
   "nbconvert_exporter": "python",
   "pygments_lexer": "ipython3",
   "version": "3.12.4"
  }
 },
 "nbformat": 4,
 "nbformat_minor": 2
}
