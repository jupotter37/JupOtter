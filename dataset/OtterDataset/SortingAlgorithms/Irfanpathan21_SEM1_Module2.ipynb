{
 "cells": [
  {
   "cell_type": "markdown",
   "metadata": {},
   "source": [
    "# 1) Program to Print the Pattern of Asterisks\n",
    "\n",
    "#### Algorithm\n",
    "1. Start\n",
    "2. Take the number of rows as input.\n",
    "3. Use a nested loop to print the pattern.\n",
    "4. Print the pattern of asterisks accordingly.\n",
    "5. End"
   ]
  },
  {
   "cell_type": "code",
   "execution_count": null,
   "id": "asterisk_pattern",
   "metadata": {},
   "outputs": [],
   "source": [
    "# Program to print the pattern of asterisks in C\n",
    "#include <stdio.h>\n",
    "\n",
    "int main() {\n",
    "    int n;\n",
    "    printf(\"Enter number of rows: \");\n",
    "    scanf(\"%d\", &n);\n",
    "    for(int i = 1; i <= n; i++) {\n",
    "        for(int j = 1; j <= i; j++) {\n",
    "            printf(\"*\");\n",
    "        }\n",
    "        printf(\"\\n\");\n",
    "    }\n",
    "    return 0;\n",
    "}\n"
   ]
  },
  {
   "cell_type": "markdown",
   "metadata": {},
   "source": [
    "# 2) Program to Reverse the Digits of a Number Using While Loop\n",
    "\n",
    "#### Algorithm\n",
    "1. Start\n",
    "2. Take the number as input.\n",
    "3. Use a while loop to reverse the digits.\n",
    "4. Print the reversed number.\n",
    "5. End"
   ]
  },
  {
   "cell_type": "code",
   "execution_count": null,
   "id": "reverse_number",
   "metadata": {},
   "outputs": [],
   "source": [
    "# Program to reverse the digits of a number in C using while loop\n",
    "#include <stdio.h>\n",
    "\n",
    "int main() {\n",
    "    int num, reversed = 0;\n",
    "    printf(\"Enter a number: \");\n",
    "    scanf(\"%d\", &num);\n",
    "    while(num != 0) {\n",
    "        reversed = reversed * 10 + num % 10;\n",
    "        num = num / 10;\n",
    "    }\n",
    "    printf(\"Reversed number is: %d\\n\", reversed);\n",
    "    return 0;\n",
    "}\n"
   ]
  },
  {
   "cell_type": "markdown",
   "metadata": {},
   "source": [
    "# 3) Program to Calculate the Factorial of a Given Number\n",
    "\n",
    "#### Algorithm\n",
    "1. Start\n",
    "2. Take the number as input.\n",
    "3. Use a loop or recursive method to calculate the factorial.\n",
    "4. Print the factorial.\n",
    "5. End"
   ]
  },
  {
   "cell_type": "code",
   "execution_count": null,
   "id": "factorial_number",
   "metadata": {},
   "outputs": [],
   "source": [
    "# Program to calculate the factorial of a given number in C\n",
    "#include <stdio.h>\n",
    "\n",
    "int factorial(int n) {\n",
    "    if(n == 0 || n == 1) {\n",
    "        return 1;\n",
    "    }\n",
    "    return n * factorial(n - 1);\n",
    "}\n",
    "\n",
    "int main() {\n",
    "    int num;\n",
    "    printf(\"Enter a number: \");\n",
    "    scanf(\"%d\", &num);\n",
    "    printf(\"Factorial of %d is %d\\n\", num, factorial(num));\n",
    "    return 0;\n",
    "}\n"
   ]
  },
  {
   "cell_type": "markdown",
   "metadata": {},
   "source": [
    "# 4) Program to Print the Fibonacci Series\n",
    "\n",
    "#### Algorithm\n",
    "1. Start\n",
    "2. Take the number of terms as input.\n",
    "3. Use a loop to generate the Fibonacci series.\n",
    "4. Print the Fibonacci series.\n",
    "5. End"
   ]
  },
  {
   "cell_type": "code",
   "execution_count": null,
   "id": "fibonacci_series",
   "metadata": {},
   "outputs": [],
   "source": [
    "# Program to print the Fibonacci series in C\n",
    "#include <stdio.h>\n",
    "\n",
    "int main() {\n",
    "    int n;\n",
    "    printf(\"Enter the number of terms: \");\n",
    "    scanf(\"%d\", &n);\n",
    "    int a = 0, b = 1;\n",
    "    printf(\"Fibonacci series: \");\n",
    "    for(int i = 1; i <= n; i++) {\n",
    "        printf(\"%d \", a);\n",
    "        int next = a + b;\n",
    "        a = b;\n",
    "        b = next;\n",
    "    }\n",
    "    printf(\"\\n\");\n",
    "    return 0;\n",
    "}\n"
   ]
  },
  {
   "cell_type": "markdown",
   "metadata": {},
   "source": [
    "# 5) Program to Print the Area of a Square Using Function\n",
    "\n",
    "#### Algorithm\n",
    "1. Start\n",
    "2. Define a function to calculate the area of a square.\n",
    "3. Take the side length as input.\n",
    "4. Call the function and print the area.\n",
    "5. End"
   ]
  },
  {
   "cell_type": "code",
   "execution_count": null,
   "id": "area_of_square",
   "metadata": {},
   "outputs": [],
   "source": [
    "# Program to print the area of a square using function in C\n",
    "#include <stdio.h>\n",
    "\n",
    "float area_of_square(float side) {\n",
    "    return side * side;\n",
    "}\n",
    "\n",
    "int main() {\n",
    "    float side;\n",
    "    printf(\"Enter the side of the square: \");\n",
    "    scanf(\"%f\", &side);\n",
    "    printf(\"Area of the square is: %.2f\\n\", area_of_square(side));\n",
    "    return 0;\n",
    "}\n"
   ]
  },
  {
   "cell_type": "markdown",
   "metadata": {},
   "source": [
    "# 6) Program Using Recursive Function\n",
    "\n",
    "#### Algorithm\n",
    "1. Start\n",
    "2. Define a recursive function.\n",
    "3. Take the necessary input.\n",
    "4. Call the recursive function.\n",
    "5. End"
   ]
  },
  {
   "cell_type": "code",
   "execution_count": null,
   "id": "recursive_function",
   "metadata": {},
   "outputs": [],
   "source": [
    "# Program using recursive function in C\n",
    "#include <stdio.h>\n",
    "\n",
    "int factorial(int n) {\n",
    "    if(n == 0 || n == 1) {\n",
    "        return 1;\n",
    "    }\n",
    "    return n * factorial(n - 1);\n",
    "}\n",
    "\n",
    "int main() {\n",
    "    int num;\n",
    "    printf(\"Enter a number: \");\n",
    "    scanf(\"%d\", &num);\n",
    "    printf(\"Factorial of %d is %d\\n\", num, factorial(num));\n",
    "    return 0;\n",
    "}\n"
   ]
  },
  {
   "cell_type": "markdown",
   "metadata": {},
   "source": [
    "# 7) Program to Square Root and Absolute Value Using Function\n",
    "\n",
    "#### Algorithm\n",
    "1. Start\n",
    "2. Define a function for square root and absolute value.\n",
    "3. Take the number as input.\n",
    "4. Call the functions to calculate the square root and absolute value.\n",
    "5. Print the results.\n",
    "6. End"
   ]
  },
  {
   "cell_type": "code",
   "execution_count": null,
   "id": "sqrt_abs_function",
   "metadata": {},
   "outputs": [],
   "source": [
    "# Program to square root and absolute value using function in C\n",
    "#include <stdio.h>\n",
    "#include <math.h>\n",
    "\n",
    "void sqrt_and_abs(double num) {\n",
    "    printf(\"Square root: %.2f\\n\", sqrt(num));\n",
    "    printf(\"Absolute value: %.2f\\n\", fabs(num));\n",
    "}\n",
    "\n",
    "int main() {\n",
    "    double num;\n",
    "    printf(\"Enter a number: \");\n",
    "    scanf(\"%lf\", &num);\n",
    "    sqrt_and_abs(num);\n",
    "    return 0;\n",
    "}\n"
   ]
  },
  {
   "cell_type": "markdown",
   "metadata": {},
   "source": [
    "# 8) Program Using Goto Statement\n",
    "\n",
    "#### Algorithm\n",
    "1. Start\n",
    "2. Use a goto statement for a loop or flow control.\n",
    "3. Print the output accordingly.\n",
    "4. End"
   ]
  },
  {
   "cell_type": "code",
   "execution_count": null,
   "id": "goto_statement",
   "metadata": {},
   "outputs": [],
   "source": [
    "# Program using goto statement in C\n",
    "#include <stdio.h>\n",
    "\n",
    "int main() {\n",
    "    int i = 1;\n",
    "    start:\n",
    "    printf(\"%d\\n\", i);\n",
    "    i++;\n",
    "    if(i <= 5) goto start;\n",
    "    return 0;\n",
    "}\n"
   ]
  },
  {
   "cell_type": "markdown",
   "metadata": {},
   "source": [
    "# 9) Program to Print Roll No and Names of 10 Students Using Array\n",
    "\n",
    "#### Algorithm\n",
    "1. Start\n",
    "2. Declare arrays for roll numbers and names.\n",
    "3. Use a loop to print roll numbers and names of students.\n",
    "4. End"
   ]
  },
  {
   "cell_type": "code",
   "execution_count": null,
   "id": "students_roll_names",
   "metadata": {},
   "outputs": [],
   "source": [
    "# Program to print roll no and names of 10 students using array in C\n",
    "#include <stdio.h>\n",
    "\n",
    "int main() {\n",
    "    int roll_no[10] = {1, 2, 3, 4, 5, 6, 7, 8, 9, 10};\n",
    "    char *names[10] = {\"Student1\", \"Student2\", \"Student3\", \"Student4\", \"Student5\", \"Student6\", \"Student7\", \"Student8\", \"Student9\", \"Student10\"};\n",
    "    for(int i = 0; i < 10; i++) {\n",
    "        printf(\"Roll No: %d, Name: %s\\n\", roll_no[i], names[i]);\n",
    "    }\n",
    "    return 0;\n",
    "}\n"
   ]
  },
  {
   "cell_type": "markdown",
   "metadata": {},
   "source": [
    "# 10) Program to Sort the Elements of Array in Ascending or Descending Order\n",
    "\n",
    "#### Algorithm\n",
    "1. Start\n",
    "2. Take the array elements as input.\n",
    "3. Use sorting algorithms (Bubble Sort or Selection Sort) to sort the array.\n",
    "4. Print the sorted array.\n",
    "5. End"
   ]
  },
  {
   "cell_type": "code",
   "execution_count": null,
   "id": "sort_array",
   "metadata": {},
   "outputs": [],
   "source": [
    "# Program to sort the elements of an array in ascending order in C\n",
    "#include <stdio.h>\n",
    "\n",
    "int main() {\n",
    "    int arr[] = {5, 2, 9, 1, 5, 6};\n",
    "    int n = sizeof(arr)/sizeof(arr[0]);\n",
    "    for(int i = 0; i < n - 1; i++) {\n",
    "        for(int j = 0; j < n - i - 1; j++) {\n",
    "            if(arr[j] > arr[j + 1]) {\n",
    "                int temp = arr[j];\n",
    "                arr[j] = arr[j + 1];\n",
    "                arr[j + 1] = temp;\n",
    "            }\n",
    "        }\n",
    "    }\n",
    "    printf(\"Sorted array: \");\n",
    "    for(int i = 0; i < n; i++) {\n",
    "        printf(\"%d \", arr[i]);\n",
    "    }\n",
    "    printf(\"\\n\");\n",
    "    return 0;\n",
    "}\n"
   ]
  }
 ]
}
