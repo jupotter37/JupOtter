{
 "cells": [
  {
   "attachments": {},
   "cell_type": "markdown",
   "metadata": {},
   "source": [
    "# Sorting\n",
    "\n",
    "Armed with Big-Oh notation, now we will design and examine a more substantial algorithm, one to perform a fundamental task for computers: sorting.\n",
    "\n",
    "A quick search for sorting algorithms will reveal many of them: [Wikipedia - Sorting Algorithm](https://en.wikipedia.org/wiki/Sorting_algorithm)"
   ]
  },
  {
   "attachments": {},
   "cell_type": "markdown",
   "metadata": {},
   "source": [
    "## Our purpose in studying sorting\n",
    "\n",
    "Sorting algorithms are crucial and fundamentally applicable to computing in general, but for us, we will use them as an opportunity think about different problem solving strategies, and to hone our algorithm analysis ability.\n",
    "\n",
    "After a first pass at solving the sorting problem, we will see later on in this module, after accumulating some powerful analysis tools, that by applying a different paradigm towards algorithm design, we are able to make inroads in the efficiency of our algorithm."
   ]
  },
  {
   "attachments": {},
   "cell_type": "markdown",
   "metadata": {},
   "source": [
    "## The Sorting Problem\n",
    "\n",
    "> Given a sequence of $n$ numbers <$a_1$, $a_2$,...,$a_n$>, return a permutation of the input sequence <$a_1'$, $a_2'$,...,$a_n'$> such that $a_1' \\leq a_2' \\leq ... \\leq a_n'$."
   ]
  },
  {
   "attachments": {},
   "cell_type": "markdown",
   "metadata": {},
   "source": [
    "If you were to stop and design an algorithm to solve this problem yourself, you may invent one of the many algorithms listed on Wikipedia, or you may invent something new, completely your own. There are many ways to solve every problem. Our goal as algorithm designers is to design the most efficient algorithm possible for any given problem. Although, I will admit, our first goal is usually just to get a working algorithm for the problem at hand!\n"
   ]
  },
  {
   "attachments": {},
   "cell_type": "markdown",
   "metadata": {},
   "source": [
    "### Sorting Algorithm Proposal\n",
    "\n",
    "Let's start by thinking about the desired output. What is true about the element $a_1'$ with respect to all other elements? I think you'll agree that it must be the smallest.\n",
    "\n",
    "Given an unsorted list, we can get one step closer to a sorted list by finding the smallest element in the list and swapping it into the first position.\n",
    "\n",
    "Now that the smallest element is in its place we can think about the next step. Just as before, we know that $a_2'$ is the second smallest element in the list, except now we know that the smallest element is already in the first position. Therefore we can find the second smallest element in as the smallest element in the list from the second position to the end. Once we find it, swap it into position.\n",
    "\n",
    "Now you get the idea. You may have gotten it already and I gone on too far! We continue this process until we work our way through the entire list. To put it succincly, for every position, we select the element that belongs there and swap it into place. This algorithm is called **Selection Sort**."
   ]
  },
  {
   "attachments": {},
   "cell_type": "markdown",
   "metadata": {},
   "source": [
    "### Implementation\n",
    "\n",
    "We can implement Selection Sort with a couple of nested for loops. The outer loop will iterate over each position and the inner loop selects the element that belongs there so that it can be swapped into place."
   ]
  },
  {
   "cell_type": "code",
   "execution_count": 2,
   "metadata": {},
   "outputs": [
    {
     "name": "stdout",
     "output_type": "stream",
     "text": [
      "[2, 1, 4, 3, 9]\n",
      "[1, 2, 4, 3, 9]\n",
      "[1, 2, 4, 3, 9]\n",
      "[1, 2, 3, 4, 9]\n",
      "[1, 2, 3, 4, 9]\n"
     ]
    },
    {
     "data": {
      "text/plain": [
       "[1, 2, 3, 4, 9]"
      ]
     },
     "execution_count": 2,
     "metadata": {},
     "output_type": "execute_result"
    }
   ],
   "source": [
    "def selection_sort(lst):\n",
    "    # For every position in the list\n",
    "    for position in range(len(lst)):\n",
    "        print(lst)\n",
    "\n",
    "        # find the minimum element from that position to the end\n",
    "        minimum_element_index = position \n",
    "        for index in range(position,len(lst)):\n",
    "            element = lst[index]\n",
    "            # if the current element is smaller than the smallest found so far\n",
    "            if element < lst[minimum_element_index]:\n",
    "                # update the minimum element index\n",
    "                minimum_element_index = index\n",
    "\n",
    "        # and swap it into position\n",
    "        lst[position], lst[minimum_element_index] = lst[minimum_element_index], lst[position]\n",
    "    return lst\n",
    "\n",
    "selection_sort([2, 1, 4, 3, 9])"
   ]
  },
  {
   "attachments": {},
   "cell_type": "markdown",
   "metadata": {},
   "source": [
    "### Analysis\n",
    "\n",
    "What is the runtime of Selection Sort?\n",
    "\n",
    "As we did for linear search, we could annotate and count up the total number of instructions, but this would be overkill. We would end up with many constants that will be dropped in the end so we'll focus instead on what matters, the overall behavior.\n",
    "\n",
    "How should we consider this?\n",
    "\n",
    "One valid way would be to consider the instruction(s) that will be executed the most and then to calculate the number of times that it will be executed in the worst possible case.\n",
    "\n",
    "For selection sort above, that would be the conditional within the inner `for` loop.\n"
   ]
  },
  {
   "attachments": {},
   "cell_type": "markdown",
   "metadata": {},
   "source": [
    "\n",
    "#### How many times will it be executed?\n",
    "\n",
    "For the first iteration of the algorithm, it will execute $n$ times as the inner `for` loop will iterate from 0 to the end of the list.\n",
    "\n",
    "At the next iteration, position moves forward to $1$ and it will be executed $n-1$ times.\n",
    "\n",
    "The next iteration, $n-2$, and so on.\n",
    "\n",
    "We can thus write the work $W(n)$ of the algorithm as follows:\n"
   ]
  },
  {
   "attachments": {},
   "cell_type": "markdown",
   "metadata": {},
   "source": [
    "\n",
    "$ \n",
    "\\begin{align}\n",
    "W(n) &= n + (n - 1) + (n - 2) + ... + 3 + 2 + 1 \\\\\n",
    "&= \\sum_{i=1}^n i  \\\\\n",
    "&= \\frac{n(n+1)}{2} \\\\\n",
    "&\\in \\Theta(n^2).\n",
    "\\end{align}\n",
    "$"
   ]
  },
  {
   "attachments": {},
   "cell_type": "markdown",
   "metadata": {},
   "source": [
    "### Prove the Above\n",
    "\n",
    "Why is it true that:\n",
    "\n",
    "$$\n",
    "\\frac{n(n+1)}{2} \\in \\Theta(n^2).\n",
    "$$\n",
    "\n",
    "Prove it using the techniques presented in the previous notebook. Then watch the video for this section."
   ]
  }
 ],
 "metadata": {
  "kernelspec": {
   "display_name": "Python 3.9.6 64-bit",
   "language": "python",
   "name": "python3"
  },
  "language_info": {
   "codemirror_mode": {
    "name": "ipython",
    "version": 3
   },
   "file_extension": ".py",
   "mimetype": "text/x-python",
   "name": "python",
   "nbconvert_exporter": "python",
   "pygments_lexer": "ipython3",
   "version": "3.9.6"
  },
  "orig_nbformat": 4,
  "vscode": {
   "interpreter": {
    "hash": "aee8b7b246df8f9039afb4144a1f6fd8d2ca17a180786b69acc140d282b71a49"
   }
  }
 },
 "nbformat": 4,
 "nbformat_minor": 2
}
