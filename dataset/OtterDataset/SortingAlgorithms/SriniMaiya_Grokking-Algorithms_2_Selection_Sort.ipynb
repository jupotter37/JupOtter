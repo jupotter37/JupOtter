{
 "cells": [
  {
   "cell_type": "markdown",
   "metadata": {},
   "source": [
    "# Selection sort\n",
    "\n",
    "- Is an in-place comparison sorting algorithm.\n",
    "- Divides the input list into sorted sublist(left to right) and rest of the unsorted sublist.\n",
    "<br>\n",
    "<br>\n",
    "\n",
    "- Starts with an empty sorted list.\n",
    "    - When the least element of the input list is found:\n",
    "        * Add the element to the sorted list.\n",
    "        * Pop the element from the input list.\n",
    "    - return sorted list\n",
    "\n",
    "Sorted list         |\tUnsorted list    |\tLeast element in unsorted list|\n",
    ":-------------------|-------------------:|:------------------------------:|\n",
    "()\t                |(11, 25, 12, 22, 64)|\t11                            |\n",
    "(11)\t            |(25, 12, 22, 64)    |\t12                            |\n",
    "(11, 12)\t        |(25, 22, 64)\t     |  22                            |\n",
    "(11, 12, 22)\t    |(25, 64)            |\t25                            |\n",
    "(11, 12, 22, 25)    |\t(64)\t         |  64                            |\n",
    "(11, 12, 22, 25, 64)|\t()               |                                |\n",
    "\n",
    "### Time Complexity\n",
    "\n",
    "||Time complexity|\n",
    "|:--:|:--:|\n",
    "|Worst-case performance |$O(n^2)$ comparisons<br />$O(n)$ swaps |\n",
    "|Best-case performance|$O(n^2)$ comparisons<br />$O(1)$ swaps|\n",
    "|Average performance|$O(n^2)$ comparisons<br />$O(n)$ swaps|\n",
    "\n",
    "* Eventhough with a sorted list, due to the in-place comaprison of the selection sort, to verify the list the algorithm must traverse the n elements n times. Thus rendering $O(n^2)$ comparisons.\n",
    "\n",
    "    <!-- - i.e,\n",
    "        - $ O(n)*O(n-1)*O(n-2)....O(1) = O(n*1/2 n)$ -->"
   ]
  },
  {
   "cell_type": "code",
   "execution_count": 2,
   "metadata": {},
   "outputs": [],
   "source": [
    "def find_smallest(arr):\n",
    "    smallest = arr[0]\n",
    "    smallest_index = 0\n",
    "    for i in range(1, len(arr)):\n",
    "        if arr[i] < smallest:\n",
    "            smallest = arr[i]\n",
    "            smallest_index = i\n",
    "    return smallest_index\n"
   ]
  },
  {
   "cell_type": "code",
   "execution_count": 5,
   "metadata": {},
   "outputs": [],
   "source": [
    "def selection_sort(arr):\n",
    "    new_arr = []\n",
    "    for i in range(len(arr)):\n",
    "        smallest_index = find_smallest(arr=arr)\n",
    "        new_arr.append(arr.pop(smallest_index))\n",
    "    return new_arr\n",
    "        "
   ]
  },
  {
   "cell_type": "code",
   "execution_count": 6,
   "metadata": {},
   "outputs": [
    {
     "name": "stdout",
     "output_type": "stream",
     "text": [
      "[-2, 0, 0, 1, 2, 3, 4, 5, 22, 44]\n"
     ]
    }
   ],
   "source": [
    "print(selection_sort([1,2,4,5,0,0,-2,3,44,22]))"
   ]
  },
  {
   "cell_type": "code",
   "execution_count": null,
   "metadata": {},
   "outputs": [],
   "source": []
  },
  {
   "cell_type": "markdown",
   "metadata": {},
   "source": []
  }
 ],
 "metadata": {
  "kernelspec": {
   "display_name": "Python 3",
   "language": "python",
   "name": "python3"
  },
  "language_info": {
   "codemirror_mode": {
    "name": "ipython",
    "version": 3
   },
   "file_extension": ".py",
   "mimetype": "text/x-python",
   "name": "python",
   "nbconvert_exporter": "python",
   "pygments_lexer": "ipython3",
   "version": "3.10.6"
  },
  "orig_nbformat": 4
 },
 "nbformat": 4,
 "nbformat_minor": 2
}
