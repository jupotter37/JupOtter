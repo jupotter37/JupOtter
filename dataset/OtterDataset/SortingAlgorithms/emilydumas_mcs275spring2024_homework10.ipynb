{
 "cells": [
  {
   "cell_type": "markdown",
   "metadata": {},
   "source": [
    "# MCS 275 Spring 2024 Homework 10\n",
    "\n",
    "* Course Instructor: Emily Dumas\n"
   ]
  },
  {
   "cell_type": "markdown",
   "metadata": {},
   "source": [
    "### Deadline\n",
    "This homework assignment must be submitted in Gradescope by **Noon central time on Tuesday March 26, 2024**.\n",
    "\n",
    "### Collaboration\n",
    "\n",
    "**Collaboration is prohibited**, and while working on this you should only consult the resources (books, online, etc.) listed below.\n",
    "\n",
    "### Content\n",
    "\n",
    "This assignment corresponds to Worksheet 10 and is about `matplotlib`.\n",
    "\n",
    "### Resources you may consult\n",
    "\n",
    "The materials you may refer to for this homework are:\n",
    "* **Most likely useful**\n",
    "\n",
    "    * [Worksheet 10](https://www.dumas.io/teaching/2024/spring/mcs275/nbview/worksheets/worksheet10.html)\n",
    "    * [Worksheet 10 Solutions](https://www.dumas.io/teaching/2024/spring/mcs275/nbview/worksheets/worksheet10soln.html) - This link will work once the solutions are posted\n",
    "    * [Lecture 23 - Julia sets](http://dumas.io/teaching/2024/spring/mcs275/slides/lecture23.html)\n",
    "    * [Lecture 24 - matploblib 1](http://dumas.io/teaching/2024/spring/mcs275/slides/lecture24.html)\n",
    "    * [Lecture 25 - matplotlib 2](http://dumas.io/teaching/2024/spring/mcs275/slides/lecture25.html)\n",
    "    * [Lecture 26 - databases (and a little matplotlib)](http://dumas.io/teaching/2024/spring/mcs275/slides/lecture26.html)\n",
    "    * [VanderPlas](https://jakevdp.github.io/PythonDataScienceHandbook/):\n",
    "        * Chapter 2 covers numpy\n",
    "        * Chapter 4 covers matplotlib\n",
    "    * [Course sample code repo](https://github.com/emilydumas/mcs275spring2024/blob/main/samplecode/)\n",
    "        * Especially [/numpy_matplotlib/](https://github.com/emilydumas/mcs275spring2024/blob/main/samplecode/numpy_matplotlib/)\n",
    "* **Allowed, but less likely to be useful:**\n",
    "    * Any of the MCS 275 lecture materials, worksheets, previous homework assignments, or solutions to these, if posted on the course Blackboard site.\n",
    "    * Slides from any lecture of my [MCS 260 course from Fall 2021](https://www.dumas.io/teaching/2021/fall/mcs260/).\n",
    "    * Any lecture video posted on the [MCS 275 Blackboard site](https://uic.blackboard.com/ultra/courses/_267469_1/outline)\n",
    "    * Any textbook listed on the course blackboard site under \"Textbooks\"\n",
    "\n",
    "\n",
    "### Point distribution\n",
    "\n",
    "This homework assignment has two problems.  The grading breakdown is:\n",
    "\n",
    "| Points | Item |\n",
    "| --- | --- |\n",
    "| 4 | Autograder syntax checks (problem 1) |\n",
    "| 5 | Problem 2 |\n",
    "| 5 | Problem 3 |\n",
    "| **14** | Total |\n",
    "\n",
    "### What to do if you're stuck\n",
    "\n",
    "Ask your instructor or TA a question by email, in office hours, or on discord."
   ]
  },
  {
   "cell_type": "markdown",
   "metadata": {},
   "source": [
    "## Problem 2: Sort timing plots\n",
    "\n",
    "\n",
    "Here are links to two CSV files you should download:\n",
    "* [timing-random.csv](https://www.dumas.io/teaching/2024/spring/mcs275/data/timing-random.csv)\n",
    "* [timing-nearlysorted.csv](https://www.dumas.io/teaching/2024/spring/mcs275/data/timing-nearlysorted.csv)\n",
    "\n",
    "Each one contains timing data for three sorting algorithms:\n",
    "* The `mergesort` we wrote in class\n",
    "* The `quicksort` we wrote in class\n",
    "* Python's built-in sorting algorithm\n",
    "\n",
    "Each row of file `timing-random.csv` shows the time taken by each algorithm to sort a list that is randomly shuffled.  The first column of the file, `n`, is the length of the list for that test.\n",
    "\n",
    "The file `timing-nearlysorted.csv` is similar, but for those tests the list used is in \"nearly sorted order\".\n",
    "\n",
    "Write a Python script that does the following:\n",
    "* Reads both CSV files, making suitable numpy arrays to store the data\n",
    "* Makes two matplotlib plots:\n",
    "    - One showing the timing tests for the three algorithms with random data, with the length of the list on the x axis and the time taken to sort on the y axis.\n",
    "    - One showing the timing tests for the three algorithms with nearly sorted data (axes as above)\n",
    "* Saves the plots to `timing-plot-random.png` and `timing-plot-nearlysorted.png`.\n",
    "\n",
    "**In each plot** there should be a title, axes labels, a legend, and the data for each algorithm should appear in a different color.  Use dots as markers, and do **not** have the data points connected by lines.\n",
    "\n",
    "Choose limits on the `y` axis so that if one of the tests takes much longer than all the others, it doesn't prevent the other two from being seen in detail.  (It's OK if that means the long-running one goes off the top of the plot.)\n",
    "\n",
    "**Put your code in `hwk10prob2.py`.  Upload the code and both images `timing-plot-random.png` and `timing-plot-nearlysorted.png` to gradescope.**"
   ]
  },
  {
   "cell_type": "markdown",
   "metadata": {},
   "source": [
    "## Problem 3: Offset printing\n",
    "\n",
    "Work in `hwk10prob3.py`.\n",
    "\n",
    "Write a Python script to generate a plot as similar to the one below as you can manage.  Try to do it with as few `for` loops as you can manage, favoring `numpy` features instead.  (The code I used to generate it has no loops.)\n",
    "\n",
    "Hint: You should use `plt.scatter`.\n",
    "\n",
    "**Put your code in `hwk10prob3.py`.  Upload the code and a PNG image of your plot to gradescope.**\n",
    "\n",
    "![Scatter plot with dots of two colors and varying sizes](images/hw10-dots.png)\n",
    "\n"
   ]
  },
  {
   "cell_type": "markdown",
   "metadata": {},
   "source": [
    "### Revision history\n",
    "\n",
    "* 2024-03-14 Initial publication"
   ]
  }
 ],
 "metadata": {
  "kernelspec": {
   "display_name": "Python 3 (ipykernel)",
   "language": "python",
   "name": "python3"
  },
  "language_info": {
   "codemirror_mode": {
    "name": "ipython",
    "version": 3
   },
   "file_extension": ".py",
   "mimetype": "text/x-python",
   "name": "python",
   "nbconvert_exporter": "python",
   "pygments_lexer": "ipython3",
   "version": "3.10.12"
  }
 },
 "nbformat": 4,
 "nbformat_minor": 4
}
