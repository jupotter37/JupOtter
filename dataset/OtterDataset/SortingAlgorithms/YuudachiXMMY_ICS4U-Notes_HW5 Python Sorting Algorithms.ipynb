{
 "cells": [
  {
   "cell_type": "markdown",
   "metadata": {},
   "source": [
    "# ICS4U Homework 5 : Python Sorting Algorithms\n",
    "\n",
    "## ICS4U Coding Questions\n",
    "Try to code the following questions using an IDE of your choice.  You will save those files on your computer for future reference. \n",
    "\n",
    "Each question has:\n",
    "\n",
    "- A video of your teacher live coding and explaining the solution\n",
    "\n",
    "- The final code used in the video.\n",
    "\n",
    "Try your best to solve the problems yourself without looking at the solutions.\n",
    "\n",
    "Make sure you test your programs with multiple different inputs to ensure it is functioning properly.\n",
    "\n",
    "Treat these questions like Math homework (Do as many as you feel you need to do to feel comfortable with the material)"
   ]
  },
  {
   "cell_type": "markdown",
   "metadata": {},
   "source": [
    "# ICS4U Practice Question\n",
    "Name Your File:  `ICS4UnewListSort.py` \n",
    "\n",
    "Modify the selection sort algorithm so that instead of modifying the original list, it returns a new sorted list and leaves the original list passed to it untouched.\n",
    "\n",
    "Make sure to create a test program that checks to see if your function works by printing out both the new sorted list and the original list after the sort function has been run"
   ]
  },
  {
   "cell_type": "markdown",
   "metadata": {},
   "source": [
    "<br>\n",
    "\n",
    "# ICS4U Practice Question\n",
    "Name Your File:  `ICS4UfindMedian.py`\n",
    "\n",
    "Take a list of numbers and find the median. \n",
    "\n",
    "- The median is the middle number in an ordered list\n",
    "\n",
    "- If the list has an even # of elements, then the median is the average of the two middle values"
   ]
  },
  {
   "cell_type": "markdown",
   "metadata": {},
   "source": [
    "<br>\n",
    "\n",
    "# ICS4U Practice Question\n",
    "Name Your File:  `ICS4UradixSort.py`\n",
    "\n",
    "In the lesson, you were looking at visual representations of a few sorting algorithms on the website \n",
    "\n",
    "- https://visualgo.net/en/sorting\n",
    "\n",
    "One of the sorts, we didn’t discuss was the Radix Sort\n",
    "\n",
    "Its pretty straightforward to see what its doing.  I want you to write a function that implements that algorithm. \n",
    "\n",
    "- Use a 2D list to implement the digit “buckets”.\n",
    "\n",
    "- Each row of that list can represent each digit from 0 – 9"
   ]
  }
 ],
 "metadata": {
  "language_info": {
   "name": "python"
  }
 },
 "nbformat": 4,
 "nbformat_minor": 2
}
