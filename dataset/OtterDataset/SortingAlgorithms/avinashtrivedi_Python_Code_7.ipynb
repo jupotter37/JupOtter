{
 "cells": [
  {
   "cell_type": "code",
   "execution_count": 16,
   "metadata": {},
   "outputs": [],
   "source": [
    "# mylist: list of weights\n",
    "# lw: left weight, lw=0 initially\n",
    "# rw: right weight,rw=0 initially\n",
    "def balance(mylist,lw,rw):\n",
    "    # logically weight can be balanced only if sum of the weight is Even,\n",
    "    # eg. if sum is 10 then it can be divided into 5 and 5\n",
    "    # in case sum of the weight is ODD,dividing it into two equal integer is not possible\n",
    "    # Also, all input weights are integer,hence we can not introduce fractional weight.\n",
    "    \n",
    "    # Hence if sum of weights is ODD ,print False i.e balancing is not possible\n",
    "    if rw==0 and sum(mylist)%2==1:\n",
    "        print(False)\n",
    "        \n",
    "    # assign 1/2 of all weights to left weight (lw)\n",
    "    # and try to adjust same weights with the help of given weight inputs.\n",
    "    # send different dummy values to rw to distinguish it during recursive call.\n",
    "    \n",
    "    else:\n",
    "        if rw==0:\n",
    "            mylist.sort()\n",
    "            lw = sum(mylist)\n",
    "            mylist.insert(0,lw//2)\n",
    "            balance(mylist,lw,1) # recursive call \n",
    "        else:\n",
    "            if rw==2:\n",
    "                if lw in mylist:\n",
    "                    print(True)\n",
    "                    return True\n",
    "            # remove the weight from list if it is helping in balancing the weight\n",
    "            t = mylist.pop(0)\n",
    "            lw = lw - t\n",
    "            if lw<0:\n",
    "                print(False)\n",
    "                return False\n",
    "            elif lw==0:\n",
    "                print(True)\n",
    "                return True\n",
    "            balance(mylist,lw,2) # recursive call \n",
    "            \n",
    "            "
   ]
  },
  {
   "cell_type": "code",
   "execution_count": 17,
   "metadata": {},
   "outputs": [
    {
     "name": "stdout",
     "output_type": "stream",
     "text": [
      "True\n"
     ]
    }
   ],
   "source": [
    "balance([1,2,3],0,0) # function call with weight [1,2,3]  and left and right weight as 0 initially"
   ]
  },
  {
   "cell_type": "code",
   "execution_count": 18,
   "metadata": {},
   "outputs": [
    {
     "name": "stdout",
     "output_type": "stream",
     "text": [
      "False\n"
     ]
    }
   ],
   "source": [
    "balance([1,2,4],0,0) # function call with weight [1,2,4] and left and right weight as 0 initially"
   ]
  },
  {
   "cell_type": "code",
   "execution_count": 19,
   "metadata": {},
   "outputs": [
    {
     "name": "stdout",
     "output_type": "stream",
     "text": [
      "False\n"
     ]
    }
   ],
   "source": [
    "balance([4,4,2,8],0,0) # function call with weight [4,4,2,8]  and left and right weight as 0 initially"
   ]
  },
  {
   "cell_type": "code",
   "execution_count": 20,
   "metadata": {},
   "outputs": [
    {
     "name": "stdout",
     "output_type": "stream",
     "text": [
      "False\n"
     ]
    }
   ],
   "source": [
    "balance([1,2,3,4,5],0,0) # function call with weight [1,2,3,4,5]  and left and right weight as 0 initially"
   ]
  },
  {
   "cell_type": "code",
   "execution_count": 21,
   "metadata": {},
   "outputs": [
    {
     "name": "stdout",
     "output_type": "stream",
     "text": [
      "True\n"
     ]
    }
   ],
   "source": [
    "balance([1,2,4,4,5],0,0) # function call with weight [1,2,4,4,5]  and left and right weight as 0 initially"
   ]
  },
  {
   "cell_type": "code",
   "execution_count": 22,
   "metadata": {},
   "outputs": [
    {
     "name": "stdout",
     "output_type": "stream",
     "text": [
      "True\n"
     ]
    }
   ],
   "source": [
    "balance([2,2],0,0) # function call with weight [2,2]  and left and right weight as 0 initially"
   ]
  },
  {
   "cell_type": "code",
   "execution_count": null,
   "metadata": {},
   "outputs": [],
   "source": []
  },
  {
   "cell_type": "code",
   "execution_count": null,
   "metadata": {},
   "outputs": [],
   "source": []
  }
 ],
 "metadata": {
  "kernelspec": {
   "display_name": "Python 3",
   "language": "python",
   "name": "python3"
  },
  "language_info": {
   "codemirror_mode": {
    "name": "ipython",
    "version": 3
   },
   "file_extension": ".py",
   "mimetype": "text/x-python",
   "name": "python",
   "nbconvert_exporter": "python",
   "pygments_lexer": "ipython3",
   "version": "3.8.5"
  }
 },
 "nbformat": 4,
 "nbformat_minor": 4
}
