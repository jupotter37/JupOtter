{
 "cells": [
  {
   "cell_type": "markdown",
   "metadata": {},
   "source": [
    "\n",
    "### HW 12, EXERCISE 6\n",
    "\n",
    "Create a class called Time that takes two arguments (hours and minutes) and sets them as instance attributes. Then create a function that overloads the addition and equality operators so you can add the times together and then check if two instances are equal in time"
   ]
  },
  {
   "cell_type": "code",
   "execution_count": 20,
   "metadata": {},
   "outputs": [
    {
     "data": {
      "text/plain": [
       "True"
      ]
     },
     "execution_count": 20,
     "metadata": {},
     "output_type": "execute_result"
    }
   ],
   "source": [
    "class Time:\n",
    "    def __init__(self, hours, minutes):\n",
    "        self.hours = hours\n",
    "        self.minutes = minutes\n",
    "        self.total = self.hours * 60 + self.minutes\n",
    "    \n",
    "    def total_time(self, minutes):\n",
    "        self.hours = minutes // 60\n",
    "        self.minutes = minutes % 60\n",
    "        return Time(self.hours, self.minutes)\n",
    "    \n",
    "    def __repr__(self):\n",
    "        return f\"Time({self.hours}, {self.minutes})\"\n",
    "\n",
    "    def __add__(self, other):\n",
    "        if isinstance(other, Time):\n",
    "            total_minutes = self.total + other.total\n",
    "            return self.total_time(total_minutes)\n",
    "    \n",
    "    def __eq__(self, other):\n",
    "        if isinstance(other,Time):\n",
    "            if self.minutes == other.minutes and self.hours == self.hours:\n",
    "                return True\n",
    "        return False\n",
    "    \n",
    "    \n",
    "a = Time(1,65)\n",
    "b = Time(1,85)\n",
    "\n",
    "c = Time(4,30)\n",
    "a + b == c"
   ]
  },
  {
   "cell_type": "markdown",
   "metadata": {},
   "source": [
    "### HW 12, EXERCISE 7\n",
    "\n",
    "Create a function that creates an m by n matrix (m rows and n columns) filled with zeros."
   ]
  },
  {
   "cell_type": "code",
   "execution_count": null,
   "metadata": {},
   "outputs": [],
   "source": [
    "#"
   ]
  },
  {
   "cell_type": "markdown",
   "metadata": {},
   "source": [
    "### WEEK 4, LAB 2, EXERCISE 3\n",
    "\n",
    "Using recursion, create a function that finds the factorial of a number. Use the following formula.\n",
    "𝑛!=𝑛∗(𝑛−1)!\n",
    " \n",
    "0! = 1 when n == 0, return 1"
   ]
  },
  {
   "cell_type": "code",
   "execution_count": null,
   "metadata": {},
   "outputs": [],
   "source": []
  },
  {
   "cell_type": "markdown",
   "metadata": {},
   "source": [
    "### WEEK 4, LAB 3, EXERCISE 4\n",
    "\n",
    "Rewrite this code so that it is more efficient.\n"
   ]
  },
  {
   "cell_type": "code",
   "execution_count": 1,
   "metadata": {},
   "outputs": [
    {
     "data": {
      "text/plain": [
       "[0, 6, 12, 18, 24, 30, 36, 42, 48, 54, 60, 66, 72, 78, 84, 90, 96]"
      ]
     },
     "execution_count": 1,
     "metadata": {},
     "output_type": "execute_result"
    }
   ],
   "source": [
    "\n",
    "#lst = [i for i in range(100)]     \n",
    "\n",
    "def divisible_by_6(lst):\n",
    "    new_list = []\n",
    "    for i in lst:\n",
    "        if i % 2 == 0:\n",
    "            new_list.append(i)\n",
    "    final_list = []\n",
    "    for j in new_list:\n",
    "        if j % 3 == 0:\n",
    "            final_list.append(j)\n",
    "    return final_list\n",
    "\n",
    "divisible_by_6(lst)"
   ]
  },
  {
   "cell_type": "markdown",
   "metadata": {},
   "source": [
    "### WEEK 5, LAB 1, EXERCISE 3\n",
    "\n",
    "Create a function that takes a string, converts it to upper, sorts it and then take the ord() of each element of the string and adds it to a list. Output the final list.\n",
    "\n",
    "Once your function runs, optimize it to make it more efficient."
   ]
  },
  {
   "cell_type": "code",
   "execution_count": 25,
   "metadata": {},
   "outputs": [
    {
     "data": {
      "text/plain": [
       "[71, 73, 78, 82, 83, 84]"
      ]
     },
     "execution_count": 25,
     "metadata": {},
     "output_type": "execute_result"
    }
   ],
   "source": [
    "def some_func(arg):\n",
    "    return [ord(item) for item in sorted(arg.upper())]\n",
    "\n",
    "some_func('string')"
   ]
  },
  {
   "cell_type": "markdown",
   "metadata": {},
   "source": [
    "### WEEK 5, LAB 1, EXERCISE 4\n",
    "\n",
    "Create a recursive function that computers the powers of a number using the following equation:\n",
    "\n",
    "$$ x^{n} = x * x^{n-1} $$ "
   ]
  },
  {
   "cell_type": "code",
   "execution_count": null,
   "metadata": {},
   "outputs": [],
   "source": []
  },
  {
   "cell_type": "markdown",
   "metadata": {},
   "source": [
    "### WEEK 5, CLASS 1, EXERCISE 3\n",
    "\n",
    "Given the following list, find the first appearance of \"-------\"\n"
   ]
  },
  {
   "cell_type": "code",
   "execution_count": 41,
   "metadata": {},
   "outputs": [],
   "source": [
    "lst = ['walter mondale', 'al gore', 'joe biden', '------', 'kamala harris'"
   ]
  },
  {
   "cell_type": "code",
   "execution_count": 44,
   "metadata": {},
   "outputs": [
    {
     "name": "stdout",
     "output_type": "stream",
     "text": [
      "------\n"
     ]
    }
   ],
   "source": [
    "count = 0\n",
    "found = False\n",
    "x = '------'\n",
    "\n",
    "while not found:\n",
    "    if lst[count] == x:\n",
    "        print(lst[count])\n",
    "        found = True  # this one will stop it\n",
    "    count +=1  # this one will iterate through it"
   ]
  },
  {
   "cell_type": "markdown",
   "metadata": {},
   "source": [
    "### WEEK 5, LAB 2, EXERCISE 3\n",
    "\n",
    "Create a function called checker that takes a tuple of three values, checks if there's a pair of numbers and returns the 3rd (return the number that is not the same). If no doubles, return False. If there's a triple return the non-paired number and \"triple\" Use the code in the following cell to generate tuples.\n",
    "\n",
    "checker((2,3,2)) would return 3\n",
    "checker((1,2,3)) would return False\n",
    "checker((3,3,3)) would return 3, \"triple\""
   ]
  },
  {
   "cell_type": "code",
   "execution_count": null,
   "metadata": {},
   "outputs": [],
   "source": []
  },
  {
   "cell_type": "markdown",
   "metadata": {},
   "source": [
    "### WEEK 5, HW, EXERCISE 1\n",
    "\n",
    "Create a function that calculates the double factorial of an odd number. The double factorial of n is denoted by n!! and is the product of all odd integers up to and including n. You can do it using recursion (for bonus points) or any other method you can come up with."
   ]
  },
  {
   "cell_type": "code",
   "execution_count": null,
   "metadata": {},
   "outputs": [],
   "source": []
  },
  {
   "cell_type": "markdown",
   "metadata": {},
   "source": [
    "### WEEK 8, LAB 1, EXERCISE 1\n",
    "\n",
    "Create a function that takes a url, creates a GET request, executes it and then returns the content of the webpage."
   ]
  },
  {
   "cell_type": "code",
   "execution_count": null,
   "metadata": {},
   "outputs": [],
   "source": []
  },
  {
   "cell_type": "markdown",
   "metadata": {},
   "source": [
    "### WEEK 8, LAB 1, EXERCISE 2\n",
    "\n",
    "Create a function that takes two arguments (the content of a webpage and a html tag) and returns a list of all those tags from the webpage."
   ]
  },
  {
   "cell_type": "code",
   "execution_count": null,
   "metadata": {},
   "outputs": [],
   "source": []
  },
  {
   "cell_type": "markdown",
   "metadata": {},
   "source": [
    "### WEEK 8, HOMEWORK, EXERCISE 3\n",
    "\n",
    "Given a string s containing just the characters `'('`, `')'`, `'{'`, `'}'`, `'['` and `']'`, determine if the input string is valid.\n",
    "\n",
    "An input string is valid if:\n",
    "* Open brackets must be closed by the same type of brackets.\n",
    "* Open brackets must be closed in the correct order.\n",
    "\n",
    "test cases:\n",
    "```\n",
    "Input: s = \"()\"\n",
    "Output: True\n",
    "\n",
    "Input: s = \"()[]{}\"\n",
    "Output: True\n",
    "\n",
    "Input: s = \"(]\"\n",
    "Output: False\n",
    "\n",
    "Input: s = \"([)]\"  \n",
    "Output: False\n",
    "\n",
    "Input: s = \"{[]}\"\n",
    "Output: True\n",
    "```"
   ]
  },
  {
   "cell_type": "code",
   "execution_count": null,
   "metadata": {},
   "outputs": [],
   "source": []
  },
  {
   "cell_type": "code",
   "execution_count": null,
   "metadata": {},
   "outputs": [],
   "source": [
    "# complete the following function:\n",
    "# s = \"()[]{}\"\n",
    "def check_string(string):\n",
    "    \n",
    "    \n",
    "    \n",
    "    \n",
    "    \n",
    "\n",
    "# run the cell with the following code\n",
    "# to test your solution\n",
    "try:\n",
    "    assert(check_string(\"()\") == True)\n",
    "    assert(check_string(\"()[]{}\") == True)\n",
    "    assert(check_string(\"(]\") == False)\n",
    "    assert(check_string(\"([)]\") == False)\n",
    "#     bonus points:\n",
    "#     get this test case to work\n",
    "    assert(check_string(\"{[]}\") == True)\n",
    "    print(\"solution is correct\")\n",
    "except AssertionError:\n",
    "    print(\"solution is incorrect\")\n",
    "#    print(\"please check your code.\")"
   ]
  },
  {
   "cell_type": "markdown",
   "metadata": {},
   "source": [
    "### WEEK 5, CLASS 1, EXERCISE 3\n",
    "\n",
    "Given an array nums. We define a running sum of an array as runningSum[i] = sum(nums[0]…nums[i]).\n",
    "\n",
    "Return the running sum of nums.\n",
    "\n",
    "Example 1:\n",
    "\n",
    "Input: nums = [1,2,3,4]\n",
    "Output: [1,3,6,10]\n",
    "Explanation: Running sum is obtained as follows: [1, 1+2, 1+2+3, 1+2+3+4].\n",
    "Example 2:\n",
    "\n",
    "Input: nums = [1,1,1,1,1]\n",
    "Output: [1,2,3,4,5]\n",
    "Explanation: Running sum is obtained as follows: [1, 1+1, 1+1+1, 1+1+1+1, 1+1+1+1+1].\n",
    "Example 3:\n",
    "\n",
    "Input: nums = [3,1,2,10,1]\n",
    "Output: [3,4,6,16,17]"
   ]
  },
  {
   "cell_type": "markdown",
   "metadata": {},
   "source": []
  },
  {
   "cell_type": "markdown",
   "metadata": {},
   "source": [
    "### WEEK 12, CLASS 1, EXERCISE 1\n",
    "\n",
    "Given the array nums, for each nums[i] find out how many numbers in the array are smaller than it. That is, for each nums[i] you have to count the number of valid j's such that j != i and nums[j] < nums[i].\n",
    "\n",
    "Return the answer in an array.\n",
    "\n",
    "Example 1:\n",
    "```\n",
    "Input: nums = [8,1,2,2,3]\n",
    "Output: [4,0,1,1,3]\n",
    "Explanation: \n",
    "For nums[0]=8 there exist four smaller numbers than it (1, 2, 2 and 3). \n",
    "For nums[1]=1 does not exist any smaller number than it.\n",
    "For nums[2]=2 there exist one smaller number than it (1). \n",
    "For nums[3]=2 there exist one smaller number than it (1). \n",
    "For nums[4]=3 there exist three smaller numbers than it (1, 2 and 2).\n",
    "```\n",
    "Example 2:\n",
    "```\n",
    "Input: nums = [6,5,4,8]\n",
    "Output: [2,1,0,3]\n",
    "```\n",
    "Example 3:\n",
    "```\n",
    "Input: nums = [7,7,7,7]\n",
    "Output: [0,0,0,0]\n",
    "```\n"
   ]
  },
  {
   "cell_type": "code",
   "execution_count": null,
   "metadata": {},
   "outputs": [],
   "source": [
    "#"
   ]
  },
  {
   "cell_type": "markdown",
   "metadata": {},
   "source": [
    "### WEEK 12, CLASS 2, EXERCISE \n",
    "\n",
    "You are given an m x n integer grid accounts where accounts[i][j] is the amount of money the i-th customer has in the j-th bank. Return the wealth that the richest customer has.\n",
    "\n",
    "A customer's wealth is the amount of money they have in all their bank accounts. The richest customer is the customer that has the maximum wealth.\n",
    "\n",
    "Example 1:\n",
    "```\n",
    "Input: accounts = [[1,2,3],[3,2,1]]\n",
    "Output: 6\n",
    "Explanation:\n",
    "1st customer has wealth = 1 + 2 + 3 = 6\n",
    "2nd customer has wealth = 3 + 2 + 1 = 6\n",
    "Both customers are considered the richest with a wealth of 6 each, so return 6.\n",
    "```\n",
    "Example 2:\n",
    "```\n",
    "Input: accounts = [[1,5],[7,3],[3,5]]\n",
    "Output: 10\n",
    "Explanation: \n",
    "1st customer has wealth = 6\n",
    "2nd customer has wealth = 10 \n",
    "3rd customer has wealth = 8\n",
    "The 2nd customer is the richest with a wealth of 10.\n",
    "```\n",
    "Example 3:\n",
    "```\n",
    "Input: accounts = [[2,8,7],[7,1,3],[1,9,5]]\n",
    "Output: 17\n",
    "```"
   ]
  },
  {
   "cell_type": "code",
   "execution_count": null,
   "metadata": {},
   "outputs": [],
   "source": [
    "#"
   ]
  },
  {
   "cell_type": "markdown",
   "metadata": {},
   "source": [
    "### WEEK 12, CLASS 2, EXERCISE\n",
    "\n",
    "Given an array nums of integers, return how many of them contain an even number of digits. \n",
    "\n",
    "Example 1:\n",
    "```\n",
    "Input: nums = [12,345,2,6,7896]\n",
    "Output: 2\n",
    "Explanation: \n",
    "12 contains 2 digits (even number of digits). \n",
    "345 contains 3 digits (odd number of digits). \n",
    "2 contains 1 digit (odd number of digits). \n",
    "6 contains 1 digit (odd number of digits). \n",
    "7896 contains 4 digits (even number of digits). \n",
    "Therefore only 12 and 7896 contain an even number of digits.\n",
    "```\n",
    "\n",
    "Example 2:\n",
    "```\n",
    "Input: nums = [555,901,482,1771]\n",
    "Output: 1 \n",
    "Explanation: \n",
    "Only 1771 contains an even number of digits.\n",
    "```"
   ]
  },
  {
   "cell_type": "code",
   "execution_count": null,
   "metadata": {},
   "outputs": [],
   "source": [
    "#"
   ]
  },
  {
   "cell_type": "markdown",
   "metadata": {},
   "source": [
    "### WEEK 12, CLASS 3, EXERCISE 1\n",
    "\n",
    "Given a sorted array of distinct integers and a target value, return the index if the target is found. If not, return the index where it would be if it were inserted in order.\n",
    "\n",
    "Example 1:\n",
    "```\n",
    "Input: nums = [1,3,5,6], target = 5\n",
    "Output: 2\n",
    "\n",
    "```\n",
    "Example 2:\n",
    "```\n",
    "Input: nums = [1,3,5,6], target = 2\n",
    "Output: 1\n",
    "```\n",
    "Example 3:\n",
    "```\n",
    "Input: nums = [1,3,5,6], target = 7\n",
    "Output: 4\n",
    "```\n",
    "Example 4:\n",
    "```\n",
    "Input: nums = [1,3,5,6], target = 0\n",
    "Output: 0\n",
    "```\n",
    "Example 5:\n",
    "```\n",
    "Input: nums = [1], target = 0\n",
    "Output: 0\n",
    "```"
   ]
  },
  {
   "cell_type": "code",
   "execution_count": null,
   "metadata": {},
   "outputs": [],
   "source": [
    "#"
   ]
  },
  {
   "cell_type": "markdown",
   "metadata": {},
   "source": [
    "### WEEK 12, CLASS 3, EXERCISE 2\n",
    "\n",
    "\n",
    "Determine whether an integer is a palindrome. An integer is a palindrome when it reads the same backward as forward.\n",
    "\n",
    "\n",
    "\n",
    "Example 1\n",
    "```\n",
    "Input: x = 121\n",
    "Output: true\n",
    "```\n",
    "Example 2\n",
    "```\n",
    "Input: x = -121\n",
    "Output: false\n",
    "Explanation: From left to right, it reads -121. From right to left, it becomes 121-. Therefore it is not a palindrome.\n",
    "```\n",
    "Example 3\n",
    "```\n",
    "Input: x = 10\n",
    "Output: false\n",
    "Explanation: Reads 01 from right to left. Therefore it is not a palindrome.\n",
    "```\n",
    "Example 4\n",
    "```\n",
    "Input: x = -101\n",
    "Output: false\n",
    "```"
   ]
  },
  {
   "cell_type": "code",
   "execution_count": null,
   "metadata": {},
   "outputs": [],
   "source": []
  },
  {
   "cell_type": "markdown",
   "metadata": {},
   "source": [
    "# leetcode question\n",
    "\n",
    "Given two integers a < b, return the sum of the values between a and b.\n",
    "\n",
    "Input: a = -4, b = 2\n",
    "Output: -7\n",
    "Explanation: -4 - 3 - 2 - 1 - 0 + 1 + 2 = -7"
   ]
  },
  {
   "cell_type": "code",
   "execution_count": null,
   "metadata": {},
   "outputs": [],
   "source": [
    "#"
   ]
  },
  {
   "cell_type": "markdown",
   "metadata": {},
   "source": [
    "Sorting Algorithms\n",
    "\n"
   ]
  },
  {
   "cell_type": "markdown",
   "metadata": {},
   "source": [
    "O(n log n): There was a mix-up at the printer's office, and our phone book had all its pages inserted in a random order. Fix the ordering so that it's correct by looking at the first name on each page and then putting that page in the appropriate spot in a new, empty phone book.\n"
   ]
  },
  {
   "cell_type": "code",
   "execution_count": null,
   "metadata": {},
   "outputs": [],
   "source": [
    "O(1), O(n), O(nlogn), O(n^2)"
   ]
  },
  {
   "cell_type": "code",
   "execution_count": null,
   "metadata": {},
   "outputs": [],
   "source": [
    "x = [1,2,3]\n",
    "\n",
    "#O(1)\n",
    "x[0]\n",
    "\n",
    "#O(n^2)\n",
    "for i in x:\n",
    "    for j in x:\n",
    "        pass\n",
    "\n",
    "x = [1,2,35,6,7,4,3433,667,8]"
   ]
  },
  {
   "cell_type": "code",
   "execution_count": 2,
   "metadata": {},
   "outputs": [
    {
     "name": "stdout",
     "output_type": "stream",
     "text": [
      "2\n",
      "9\n"
     ]
    }
   ],
   "source": [
    "import math\n",
    "\n",
    "x = [1,2,3,5,9,12,34,56,58,60,74] # 3^2 -> 9\n",
    "\n",
    "# O(1)\n",
    "x[0]\n",
    "\n",
    "# O(n)\n",
    "for i in x:\n",
    "    pass\n",
    "\n",
    "# O(n^2)\n",
    "for i in x:\n",
    "    for j in x:\n",
    "        pass\n",
    "    \n",
    "# O(log n) BINARY SEARCH\n",
    "looking_for = 58\n",
    "found = False\n",
    "high = len(x) - 1\n",
    "low = 0\n",
    "count = 0\n",
    "while not found:\n",
    "    count += 1\n",
    "    middle = (high + low) // 2\n",
    "    if looking_for == x[middle]:\n",
    "        found = True\n",
    "    elif looking_for > x[middle]:\n",
    "        low = middle + 1 \n",
    "        # split the list now starting at the mid + 1\n",
    "    else:\n",
    "        high = middle - 1\n",
    "        # split the list now ending at the mid - 1\n",
    "        \n",
    "print(count)\n",
    "\n",
    "counter = 0\n",
    "while x[counter] != 58:\n",
    "    counter += 1\n",
    "counter += 1\n",
    "    \n",
    "print(counter)"
   ]
  },
  {
   "cell_type": "code",
   "execution_count": null,
   "metadata": {},
   "outputs": [],
   "source": []
  }
 ],
 "metadata": {
  "kernelspec": {
   "display_name": "Python 3",
   "language": "python",
   "name": "python3"
  },
  "language_info": {
   "codemirror_mode": {
    "name": "ipython",
    "version": 3
   },
   "file_extension": ".py",
   "mimetype": "text/x-python",
   "name": "python",
   "nbconvert_exporter": "python",
   "pygments_lexer": "ipython3",
   "version": "3.8.3"
  }
 },
 "nbformat": 4,
 "nbformat_minor": 4
}
