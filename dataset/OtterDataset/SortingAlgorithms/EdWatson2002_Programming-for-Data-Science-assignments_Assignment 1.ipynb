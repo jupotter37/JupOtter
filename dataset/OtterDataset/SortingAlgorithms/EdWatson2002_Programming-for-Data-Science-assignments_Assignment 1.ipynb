{
 "cells": [
  {
   "cell_type": "markdown",
   "id": "d53b6aa6",
   "metadata": {},
   "source": [
    "# Assignment 1\n",
    "\n",
    "## Question 1\n",
    "\n",
    "### 1(a)\n",
    "\n",
    "This algorithm works by iterating through both arrays, comparing elements between the arrays and writing the smallest to an output array. We start by comparing the first elements in each array and writing the smallest to the output array. Then, we compare the second element of the array which had the smaller first element to the first element in the other array and write the smallest to the output array. We repeat this process, moving one step through the array which had the smaller element in the last step until one of the arrays is exhausted. Then, we append the rest of the non-exhausted array to the output array and return it.\n",
    "\n",
    "Pseudocode:\n",
    "\n",
    "Given **sorted** arrays A and B,\n",
    "\n",
    "`merge(A,B):`\n",
    "1. SET output to an empty array\n",
    "2. SET ai to 0\n",
    "3. SET bi to 0\n",
    "4. WHILE ai < length(A) AND bi < length(B):\n",
    "    1. IF A[ai] < B[bi]:\n",
    "        1. APPEND A[ai] to output\n",
    "        2. INCREMENT ai\n",
    "    2. ELSE: \n",
    "        1. APPEND B[bi] to output\n",
    "        2. INCREMENT bi\n",
    "5. IF ai equals length(A):\n",
    "    1. APPEND remainder of b to output\n",
    "6. ELSE:\n",
    "    1. APPEND remainder of a to output\n",
    "7. RETURN output\n",
    "\n",
    "If A has length $n_1$ and B has length $n_2$, this algorithm does at most $n_1 + n_2$ comparisons because the while loop ends when either array is exhausted. Thus, this algorithm runs in $O(n_1 + n_2)$ time"
   ]
  },
  {
   "cell_type": "code",
   "execution_count": 1,
   "id": "3cf9d235",
   "metadata": {},
   "outputs": [],
   "source": [
    "def merge(a,b):\n",
    "\n",
    "    out = []\n",
    "    ai = 0\n",
    "    bi = 0\n",
    "\n",
    "    while ai < len(a) and bi < len(b):\n",
    "\n",
    "        if a[ai] < b[bi]:\n",
    "            out.append(a[ai])\n",
    "            ai+=1\n",
    "\n",
    "        else:\n",
    "            out.append(b[bi])\n",
    "            bi+=1\n",
    "\n",
    "    if ai == len(a):\n",
    "        out.extend(b[bi:len(b)])\n",
    "    \n",
    "    else:\n",
    "        out.extend(a[ai:len(a)])\n",
    "\n",
    "    return(out)"
   ]
  },
  {
   "cell_type": "markdown",
   "id": "a4b49c79",
   "metadata": {},
   "source": [
    "Now let's test the algorithm."
   ]
  },
  {
   "cell_type": "code",
   "execution_count": 7,
   "id": "c7f83e5c",
   "metadata": {},
   "outputs": [
    {
     "name": "stdout",
     "output_type": "stream",
     "text": [
      "[1, 2, 3, 3, 4, 5, 6, 7]\n",
      "[1, 2, 4, 6, 7, 8]\n",
      "[-4, -2, 0, 2, 4, 5]\n",
      "[0, 1]\n",
      "[0, 1]\n",
      "[-1, -1, -1, 0, 0, 0, 0, 0, 0, 0, 1, 1, 1]\n"
     ]
    }
   ],
   "source": [
    "print(merge([1,3,3,6,7],[2,4,5])) #expected result: [1,2,3,3,4,5,6,7]\n",
    "print(merge([1,7,8],[2,4,6])) #expected result: [1,2,4,6,7,8]\n",
    "print(merge([-4,-2,0],[2,4,5])) #expected result: [-4,-2,0,2,4,5]\n",
    "print(merge([0],[1])) #expected result: [0,1]\n",
    "print(merge([1],[0])) #expected result: [0,1]\n",
    "print(merge([0,0,0,0,0,0,0],[-1,-1,-1,1,1,1])) #expected result: [-1,-1,-1,0,0,0,0,0,0,1,1,1]"
   ]
  },
  {
   "cell_type": "markdown",
   "id": "60fac083",
   "metadata": {},
   "source": [
    "From these tests, the algorithm appears valid.\n",
    "\n",
    "### 1(b)\n",
    "\n",
    "The `mergesort` algorithm splits its input array in half (if the array has an odd number of elements, the second half has one more element than the first) and calls itself on the two halves. It then calls `merge` on the two outputs of these recursive calls. As a base case, the algorithm returns its input array if the length of the array is 1.\n",
    "\n",
    "Pseudocode:\n",
    "\n",
    "Given an array, A:\n",
    "\n",
    "`mergesort(A)`\n",
    "1. IF length(A) equals 1:\n",
    "    1. RETURN A\n",
    "2. ELSE:\n",
    "    1. RETURN merge( mergesort(first half of A), mergesort(second half of A) ) "
   ]
  },
  {
   "cell_type": "code",
   "execution_count": 5,
   "id": "b31cd26c",
   "metadata": {},
   "outputs": [],
   "source": [
    "def mergesort(a):\n",
    "    n = len(a)\n",
    "    if n == 1:\n",
    "        return(a)\n",
    "    \n",
    "    else:\n",
    "        return(merge(mergesort(a[0:n//2]), mergesort(a[n//2:n])))"
   ]
  },
  {
   "cell_type": "markdown",
   "id": "0a3f08b7",
   "metadata": {},
   "source": [
    "We test again."
   ]
  },
  {
   "cell_type": "code",
   "execution_count": 6,
   "id": "cb1ec5c0",
   "metadata": {},
   "outputs": [
    {
     "name": "stdout",
     "output_type": "stream",
     "text": [
      "[1, 2, 3, 4, 5, 6]\n",
      "[1, 2, 3, 4, 5, 6, 7]\n",
      "[1]\n",
      "[1, 2, 3, 4, 5]\n",
      "[1, 2, 3, 4, 5]\n",
      "[-100000, -1, -1, 0, 0, 0, 0, 1, 4, 5, 5, 100000]\n"
     ]
    }
   ],
   "source": [
    "print(mergesort([3,1,4,6,2,5])) #expected result: [1,2,3,4,5,6]\n",
    "print(mergesort([3,1,4,6,2,5,7])) #expected result: [1,2,3,4,5,6,7]\n",
    "print(mergesort([1])) #expected result: [1]\n",
    "print(mergesort([1,2,3,4,5])) #expected result: [1,2,3,4,5]\n",
    "print(mergesort([5,4,3,2,1])) #expected result: [1,2,3,4,5]\n",
    "print(mergesort([-100000,-1,0,5,100000,0,1,4,5,0,0,-1])) #expected result: [-100000,-1,-1,0,0,0,0,1,4,5,5,100000]"
   ]
  },
  {
   "cell_type": "markdown",
   "id": "c02f2bb3",
   "metadata": {},
   "source": [
    "The algorithm appears valid\n",
    "\n",
    "### 1(c)\n",
    "\n",
    "Assuming that `merge` works correctly, we can prove that `mergesort` is valid by induction over input length, $n$.\n",
    "\n",
    "1. **Base case:** For $n=1$, the array has only one element and thus is sorted trivially.\n",
    "2. **Assumption**: We assume that `mergesort` works for all $n < k$ for some $k \\geq 2$.\n",
    "3. **Inductive step**: We want to show that `mergesort` works for $k+1$. For $n = k + 1$, `mergesort` splits the input array into two arrays with length at most $\\left \\lceil \\frac{k+1}{2} \\right \\rceil < k$, since $k+1 \\geq 3$. Since both arrays have length less than k, `mergesort` sorts them correctly by assumption and as we are assuming `merge` also works (i.e. it returns a sorted array consisting of the elements of two sorted input arrays), we have that `mergesort` works for $k+1$\n",
    "4. Thus, `mergesort` works for all $n \\geq 1$\n",
    "\n",
    "### 1(d)\n",
    "\n",
    "Assuming that $n$ is even, `mergesort` splits its input array in half and calls itself on those halves. Each half takes $T(n/2)$ comparisons to sort and then the two sorted halves must be merged together which we know takes at most $n/2 + n/2 = n$ comparisons. Thus we have that $T(n) \\leq 2T(n/2) + n$ for all even $n \\geq 2$.\n",
    "\n",
    "Proof by induction that $T(n) \\leq n\\log_2n$ for all $n \\in  \\{ {2^{k}: k\\in \\mathbb{N}}  \\}$:\n",
    "1. **Base case**: for n = 1, $T(1) = 0$ because this is the base case of the `mergesort` algorithm. Also $1 \\log_2 1 = 0$ so our base case holds\n",
    "2. **Assumption**: We assume that there exists $m \\in  \\{ {2^{k}: k\\in \\mathbb{N}}  \\}$ such that $T(n) \\leq n\\log_2n$ holds for all $n < m$ with $n \\in  \\{ {2^{k}: k\\in \\mathbb{N}}  \\}$\n",
    "3. **Inductive step**: Let $m=2^{k}$, then by assumption, $T(m) = T(2^k) \\leq m\\log_2m = 2^k \\log_2 2^k = k \\cdot 2^k$. We want to show that our inequality holds for $n = 2^{k+1}$ i.e. $T(2^{k+1}) \\leq (k+1) \\cdot 2^{k+1}$. By the recurrence inequality above, we have that $$T(2^{k+1}) \\leq 2T(2^k) + 2^{k+1}$$. Then, by our assumption on $T(2^{k})$, we have $$T(2^{k+1}) \\leq 2 \\cdot k \\cdot 2^k + 2^{k+1}$$ $$\\Rightarrow T(2^{k+1}) \\leq k \\cdot 2^{k+1} + 2^{k+1}$$ $$\\Rightarrow T(2^{k+1}) \\leq (k+1) \\cdot 2^{k+1}$$\n",
    "4. Thus, the inequality holds for all $n \\in  \\{ {2^{k}: k\\in \\mathbb{N}}  \\}$\n",
    "\n",
    "### 1(e)\n",
    "\n",
    "Both sorting algorithms use a recursive divide and conquer strategy, where `mergesort` splits the input in half, but `quicksort ` can split the array in any ratio. In the worst case scenario, `mergesort`, which is $O(n\\log n)$, is more efficient than `quicksort`, which is $O(n^2)$. There are ways to make `quicksort` more efficient, for example by taking the pivot to be the median of the elements of the input array. This then makes `quicksort` $O(n\\log n)$, so on par with `mergesort`. In terms of space complexity, `quicksort` is more efficient because it works \"in-place\" whereas `mergesort` stores its output in an external array because the `merge` function must store its output in a 3rd array separate from either input array."
   ]
  }
 ],
 "metadata": {
  "kernelspec": {
   "display_name": "Python 3 (ipykernel)",
   "language": "python",
   "name": "python3"
  },
  "language_info": {
   "codemirror_mode": {
    "name": "ipython",
    "version": 3
   },
   "file_extension": ".py",
   "mimetype": "text/x-python",
   "name": "python",
   "nbconvert_exporter": "python",
   "pygments_lexer": "ipython3",
   "version": "3.9.13"
  }
 },
 "nbformat": 4,
 "nbformat_minor": 5
}
