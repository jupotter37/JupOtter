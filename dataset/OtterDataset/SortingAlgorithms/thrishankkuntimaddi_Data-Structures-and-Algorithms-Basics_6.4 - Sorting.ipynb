{
  "nbformat": 4,
  "nbformat_minor": 0,
  "metadata": {
    "colab": {
      "provenance": [],
      "authorship_tag": "ABX9TyN7zUH7DUeKLfIVuPRFyTDA",
      "include_colab_link": true
    },
    "kernelspec": {
      "name": "python3",
      "display_name": "Python 3"
    },
    "language_info": {
      "name": "python"
    }
  },
  "cells": [
    {
      "cell_type": "markdown",
      "metadata": {
        "id": "view-in-github",
        "colab_type": "text"
      },
      "source": [
        "<a href=\"https://colab.research.google.com/github/Thrishankkuntimaddi/Data-Structures-and-Algorithms-Basics-/blob/main/6%20-%204%20-%20Sorting.ipynb\" target=\"_parent\"><img src=\"https://colab.research.google.com/assets/colab-badge.svg\" alt=\"Open In Colab\"/></a>"
      ]
    },
    {
      "cell_type": "markdown",
      "source": [
        "# Heap Sort\n",
        "\n",
        "- can be seen as an optimization over selection sort\n",
        "\n",
        "- Two steps\n",
        "\n",
        "    - build a maxHeap\n",
        "\n",
        "    - Repeatedly swap root with last node, reduce heap size by 1, and heapify\n",
        "\n",
        "- Time complexity : O(n * logn)\n",
        "\n",
        "- Auxiliary Space : O(1)\n",
        "\n",
        "- Not stable\n",
        "\n",
        "- used in Hybrid sorting algorithms like Intro Sort"
      ],
      "metadata": {
        "id": "1CUtyL6Zn4Ma"
      }
    },
    {
      "cell_type": "code",
      "execution_count": null,
      "metadata": {
        "colab": {
          "base_uri": "https://localhost:8080/"
        },
        "id": "iIp-ifZyn0rO",
        "outputId": "b7d9f1bc-88ec-4295-d1a7-af142e42590e"
      },
      "outputs": [
        {
          "output_type": "stream",
          "name": "stdout",
          "text": [
            "[50, 20, 10, 4, 15]\n"
          ]
        }
      ],
      "source": [
        "# Step 1 : Build a maxHeap\n",
        "\n",
        "def maxheapify(arr, n, i):\n",
        "    largest = i\n",
        "    l = 2 * i + 1\n",
        "    r = 2 * i + 2\n",
        "\n",
        "    if l < n and arr[i] < arr[l]:\n",
        "        largest = l\n",
        "\n",
        "    if r < n and arr[largest] < arr[r]:\n",
        "        largest = r\n",
        "\n",
        "    if largest != i:\n",
        "        arr[i], arr[largest] = arr[largest], arr[i]\n",
        "        maxheapify(arr, n, largest)\n",
        "\n",
        "def buildHeap(arr):                        # Build Heap Tree from List\n",
        "    n = len(arr)\n",
        "    for i in range(n//2, -1, -1):\n",
        "        maxheapify(arr, n, i)\n",
        "\n",
        "arr = [50, 20, 10, 4, 15]\n",
        "buildHeap(arr)\n",
        "print(arr)"
      ]
    },
    {
      "cell_type": "code",
      "source": [
        "# Heap Sort\n",
        "\n",
        "def heapsprt(arr):\n",
        "    n = len(arr)\n",
        "    buildHeap(arr)\n",
        "\n",
        "    for i in range(n-1, 0, -1):\n",
        "        arr[i], arr[0] = arr[0], arr[i]\n",
        "        maxheapify(arr, i, 0)\n",
        "\n",
        "arr = [50, 20, 10, 4, 15]\n",
        "heapsprt(arr)\n",
        "print(arr)\n",
        "\n",
        "# Time Complexity ; O(n * logn)"
      ],
      "metadata": {
        "colab": {
          "base_uri": "https://localhost:8080/"
        },
        "id": "pQBN98VOopG0",
        "outputId": "e693b7de-aff9-4031-9a25-3ba1da69857f"
      },
      "execution_count": null,
      "outputs": [
        {
          "output_type": "stream",
          "name": "stdout",
          "text": [
            "[4, 10, 15, 20, 50]\n"
          ]
        }
      ]
    }
  ]
}
