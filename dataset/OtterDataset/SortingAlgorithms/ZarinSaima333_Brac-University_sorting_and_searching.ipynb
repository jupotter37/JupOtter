{
  "nbformat": 4,
  "nbformat_minor": 0,
  "metadata": {
    "colab": {
      "provenance": [],
      "authorship_tag": "ABX9TyPLyRRVlkoe5H3gJbFs+2Wz",
      "include_colab_link": true
    },
    "kernelspec": {
      "name": "python3",
      "display_name": "Python 3"
    },
    "language_info": {
      "name": "python"
    }
  },
  "cells": [
    {
      "cell_type": "markdown",
      "metadata": {
        "id": "view-in-github",
        "colab_type": "text"
      },
      "source": [
        "<a href=\"https://colab.research.google.com/github/ZarinSaima333/Brac-University/blob/main/sorting_and_searching.ipynb\" target=\"_parent\"><img src=\"https://colab.research.google.com/assets/colab-badge.svg\" alt=\"Open In Colab\"/></a>"
      ]
    },
    {
      "cell_type": "code",
      "execution_count": null,
      "metadata": {
        "id": "0PDXLJNJS9N0"
      },
      "outputs": [],
      "source": [
        "# Searching Linear / Binary / Ternary Search\n",
        "# n^2 sorting algo (Insertion Sort, Selection Sort, Bubble Sort)\n",
        "# Merge Sort"
      ]
    },
    {
      "cell_type": "markdown",
      "source": [
        "#Searching Algorithms"
      ],
      "metadata": {
        "id": "N368tsBh0wKN"
      }
    },
    {
      "cell_type": "code",
      "source": [
        "#linear Search O(n)\n",
        "def linear_Search(arr,target):\n",
        "  for i in range(0,len(arr),1):\n",
        "    if arr[i]==target:\n",
        "      return i\n",
        "  return -1\n",
        "print(linear_Search([1,7,4,9],9))"
      ],
      "metadata": {
        "colab": {
          "base_uri": "https://localhost:8080/"
        },
        "id": "39Sbp0f7OWUl",
        "outputId": "4cd6e621-11ea-4861-a088-1ed27aaba8f5"
      },
      "execution_count": null,
      "outputs": [
        {
          "output_type": "stream",
          "name": "stdout",
          "text": [
            "3\n"
          ]
        }
      ]
    },
    {
      "cell_type": "code",
      "source": [
        "#binary search\n",
        "#question 1\n",
        "\n",
        "def Binary_Search(arr,target):\n",
        "  start=0\n",
        "  end=len(arr)-1\n",
        "  if arr[0]<arr[len(arr)-1]:\n",
        "    Flag_asc=True\n",
        "\n",
        "  if Flag_asc==True:\n",
        "\n",
        "    while start<=end:\n",
        "\n",
        "      mid=start+(end-start)//2\n",
        "\n",
        "      if arr[mid]==target:\n",
        "        return mid\n",
        "      elif target<arr[mid]:\n",
        "        end=mid-1\n",
        "      elif target>arr[mid]:\n",
        "        start=mid+1\n",
        "    return -1\n",
        "\n",
        "  else:\n",
        "    while start<=end:\n",
        "\n",
        "      mid=start+(end-start)/2\n",
        "\n",
        "      if mid==target:\n",
        "        return mid\n",
        "      elif mid<target:\n",
        "        end=mid-1\n",
        "      elif mid>target:\n",
        "        start=mid+1\n",
        "\n",
        "    return -1\n",
        "\n",
        "x=Binary_Search([1,2,5,7,9,24],target=7)\n",
        "\n",
        "print(x)\n",
        "\n",
        "#avg and worst case-O(logn) (*2or/2)\n",
        "#best case shb searching er jonnoi O(1)"
      ],
      "metadata": {
        "colab": {
          "base_uri": "https://localhost:8080/"
        },
        "id": "mzZv6ZF7ZQ1l",
        "outputId": "7804ecf7-dd1c-407c-dcc7-7c40b4fabef1"
      },
      "execution_count": null,
      "outputs": [
        {
          "output_type": "stream",
          "name": "stdout",
          "text": [
            "3\n"
          ]
        }
      ]
    },
    {
      "cell_type": "code",
      "source": [
        "#Ternary Search\n",
        "\n",
        "def Ternary_Search(arr,target):\n",
        "  start=0\n",
        "  end=len(arr)-1\n",
        "  while start<=end:\n",
        "    mid1=start+(end-start)\n",
        "    mid2=end-(end-start)\n",
        "\n",
        "    if arr[mid1]==target:\n",
        "      return mid1\n",
        "    elif arr[mid2]==target:\n",
        "      return mid2\n",
        "    elif target<arr[mid1]:\n",
        "      end=mid1-1\n",
        "    elif target>arr[mid2]:\n",
        "      start=mid2+1\n",
        "    else:\n",
        "      start=mid1+1\n",
        "      end=mid2-1\n",
        "  return -1\n",
        "\n",
        "x=Ternary_Search([-4,-2,1,4,6,8,9,10],8)\n",
        "print(x)\n",
        "\n",
        "#avg and worst case-O(log3n) (*3or/3) top to bottom or bottom to top\n",
        "#best case shb searching er jonnoi O(1)"
      ],
      "metadata": {
        "colab": {
          "base_uri": "https://localhost:8080/"
        },
        "id": "GW1kLQ_lgfPI",
        "outputId": "0cf567b3-3fa4-4828-bb94-0536449c884c"
      },
      "execution_count": null,
      "outputs": [
        {
          "output_type": "stream",
          "name": "stdout",
          "text": [
            "5\n"
          ]
        }
      ]
    },
    {
      "cell_type": "markdown",
      "source": [
        "# BINARY SEARCH (GOGGLE ,MICROSOFT, AMAZON PROBLEMS)"
      ],
      "metadata": {
        "id": "hdfgin4C_3c8"
      }
    },
    {
      "cell_type": "code",
      "source": [
        "#question2\n",
        "\n",
        "# ceiling number of a array\n",
        "#smallest number of an array greater or equal to target\n",
        "#intuition if target found ==target or start\n",
        "#explanation khatay\n",
        "\n",
        "def Ceiling_BS(arr,target):\n",
        "  start=0\n",
        "  end=len(arr)-1\n",
        "  if target>arr[len(arr)-1]:\n",
        "    return \"Ans not found\"\n",
        "  while start<=end:\n",
        "    mid=start+(end-start)//2\n",
        "\n",
        "    if arr[mid]==target:\n",
        "      return target\n",
        "    elif arr[mid]>target:\n",
        "      end=mid-1\n",
        "    elif arr[mid]<target:\n",
        "      start=mid+1\n",
        "\n",
        "  return arr[start]\n",
        "\n",
        "print(Ceiling_BS([1,5,8,9,10,56,89],target=90))"
      ],
      "metadata": {
        "colab": {
          "base_uri": "https://localhost:8080/"
        },
        "id": "iRdRCs_6AMSp",
        "outputId": "41a6a092-e6b3-4245-e0de-5b2f5f73363f"
      },
      "execution_count": null,
      "outputs": [
        {
          "output_type": "stream",
          "name": "stdout",
          "text": [
            "Ans not found\n"
          ]
        }
      ]
    },
    {
      "cell_type": "code",
      "source": [
        "#question 3\n",
        "\n",
        "# floor number of a array\n",
        "#greatest number of an array smaller or equal to target\n",
        "#intuition if target found ==target or end\n",
        "#explanation khatay\n",
        "\n",
        "def Ceiling_BS(arr,target):\n",
        "  start=0\n",
        "  end=len(arr)-1\n",
        "  if target<arr[0]:\n",
        "    return \"Ans not found\"\n",
        "  while start<=end:\n",
        "    mid=start+(end-start)//2\n",
        "\n",
        "    if arr[mid]==target:\n",
        "      return target\n",
        "    elif arr[mid]>target:\n",
        "      end=mid-1\n",
        "    elif arr[mid]<target:\n",
        "      start=mid+1\n",
        "\n",
        "  return arr[end]\n",
        "\n",
        "print(Ceiling_BS([1,5,8,9,10,56,89],target=90))"
      ],
      "metadata": {
        "colab": {
          "base_uri": "https://localhost:8080/"
        },
        "id": "5q87rRpvK6Iw",
        "outputId": "50503d6c-1a10-4b01-b4a8-5395fa07b3c5"
      },
      "execution_count": null,
      "outputs": [
        {
          "output_type": "stream",
          "name": "stdout",
          "text": [
            "89\n"
          ]
        }
      ]
    },
    {
      "cell_type": "code",
      "source": [
        "#question 4\n",
        "#finding the range of the target\n",
        "\n",
        "def find_range(arr,target):\n",
        "  ans=[-1,-1]\n",
        "  start_idx=Search(arr,target,True)\n",
        "\n",
        "  if start_idx!=-1:\n",
        "    end_idx=Search(arr,target,False)\n",
        "    ans[0]=start_idx\n",
        "    ans[1]=end_idx\n",
        "    return ans\n",
        "\n",
        "  return ans\n",
        "\n",
        "def Search(arr,target,findStartIdx):\n",
        "  ans=-1 #if given such val which is not in the list\n",
        "  start=0\n",
        "  end=len(arr)-1\n",
        "\n",
        "  while start<=end:\n",
        "\n",
        "      mid=start+(end-start)//2\n",
        "\n",
        "      if target<arr[mid]:\n",
        "        end=mid-1\n",
        "      elif target>arr[mid]:\n",
        "        start=mid+1\n",
        "      elif arr[mid]==target:\n",
        "        ans=mid\n",
        "        if findStartIdx:\n",
        "          end=mid-1\n",
        "        else:\n",
        "          start=mid+1\n",
        "  print(end,start)\n",
        "  return ans\n",
        "\n",
        "print(find_range([5,7,7,7,7,8,8,10],target=7))\n",
        "\n",
        "#confusion chilo j mid last e to different o ashte pare. last mid to target nao hote pare\n",
        "#no prob cz target er equal holei dhorbo ans"
      ],
      "metadata": {
        "colab": {
          "base_uri": "https://localhost:8080/"
        },
        "id": "zDyIaSzlMH_r",
        "outputId": "94b3c7a8-9e8f-4457-c357-c0e91556d024"
      },
      "execution_count": null,
      "outputs": [
        {
          "output_type": "stream",
          "name": "stdout",
          "text": [
            "0 1\n",
            "4 5\n",
            "[1, 4]\n"
          ]
        }
      ]
    },
    {
      "cell_type": "code",
      "source": [
        "#question 5\n",
        "#infinity array\n",
        "#each time array digun korbo\n",
        "#len func use korle cheating\n",
        "#problem hocche jkhn target array er baire r notun array j create kortese oita dhortesena\n",
        "\n",
        "def find_ele_on_infintyArray(arr,target):\n",
        "  start=0\n",
        "  end=1\n",
        "  while arr[end]<target:\n",
        "    new_start=end+1\n",
        "    end=end+(end-start+1)*2\n",
        "    start=new_start\n",
        "    a= binarySearch(arr,start,end,target)\n",
        "    if arr[a]==target:\n",
        "      return a\n",
        "  return -1\n",
        "def binarySearch(arr,start,end,target):\n",
        "\n",
        "  while start<=end:\n",
        "\n",
        "    mid=start+(end-start)//2\n",
        "\n",
        "    if arr[mid]==target:\n",
        "      return mid\n",
        "    elif target<arr[mid]:\n",
        "      end=mid-1\n",
        "    elif target>arr[mid]:\n",
        "      start=mid+1\n",
        "  return -1\n",
        "print(find_ele_on_infintyArray([1,6,8,9,60,80,89,90,120,200,230,250,310],target=7))"
      ],
      "metadata": {
        "colab": {
          "base_uri": "https://localhost:8080/"
        },
        "id": "g-Ez7jxLbOcp",
        "outputId": "d1af3ba5-7d67-4030-c1c5-747ee28e1168"
      },
      "execution_count": null,
      "outputs": [
        {
          "output_type": "stream",
          "name": "stdout",
          "text": [
            "-1\n"
          ]
        }
      ]
    },
    {
      "cell_type": "code",
      "source": [
        "#question- 6\n",
        "#find pivot or peak on a bitonic/ mountain array (asc+dsc)\n",
        "#intuition is ekdm sheshe e,s,m shb pivot k point korbe\n",
        "\n",
        "def findPivot(arr):\n",
        "  start=0\n",
        "  end=len(arr)-1\n",
        "  while start<end: #why not start<=end cz mid+1 pabo na\n",
        "    mid=start+(end-start)//2\n",
        "\n",
        "    if arr[mid]<arr[mid+1]:\n",
        "      start=mid+1 #boror dike jabe\n",
        "    elif arr[mid]>arr[mid+1]:\n",
        "      end=mid #wht not mid -1: cause ans e haray jabe\n",
        "\n",
        "  return (arr[start],start)\n",
        "\n",
        "print(findPivot([1,3,4,6,7,3,2,0]))\n",
        "\n",
        "\n"
      ],
      "metadata": {
        "colab": {
          "base_uri": "https://localhost:8080/"
        },
        "id": "NcQ5bhWQUz74",
        "outputId": "30a51d26-e858-4707-adc8-a7e6e295e334"
      },
      "execution_count": null,
      "outputs": [
        {
          "output_type": "stream",
          "name": "stdout",
          "text": [
            "(7, 4)\n"
          ]
        }
      ]
    },
    {
      "cell_type": "code",
      "source": [
        "#question 6.1\n",
        "#reverse_bitonic_array\n",
        "#dcs+acs\n",
        "\n",
        "def findMin(arr):\n",
        "  start=0\n",
        "  end=len(arr)-1\n",
        "  while start<end: #why not start<=end cz mid+1 pabo na\n",
        "    mid=start+(end-start)//2\n",
        "\n",
        "    if arr[mid]>arr[mid+1]:\n",
        "      start=mid+1 #boror dike jabe\n",
        "    elif arr[mid]<arr[mid+1]:\n",
        "      end=mid #wht not mid -1: cause ans e haray jabe\n",
        "\n",
        "  return (arr[start],start)\n",
        "\n",
        "print(findMin([11,10,9,8,7,3,4,5,6,7,12]))\n"
      ],
      "metadata": {
        "colab": {
          "base_uri": "https://localhost:8080/"
        },
        "id": "LPK869X1KhTG",
        "outputId": "b4cd9f69-c059-490d-d7b6-c8d472749980"
      },
      "execution_count": null,
      "outputs": [
        {
          "output_type": "stream",
          "name": "stdout",
          "text": [
            "(3, 5)\n"
          ]
        }
      ]
    },
    {
      "cell_type": "code",
      "source": [
        "b=\"23 2 19 3 7 11 5 13\"\n",
        "a=b.split(\" \")\n",
        "for i in range(len(a)):\n",
        "  a[i]=int(a[i])\n",
        "print(a)\n",
        "#Roza is too happyyy"
      ],
      "metadata": {
        "colab": {
          "base_uri": "https://localhost:8080/"
        },
        "id": "-OidkqPHR4L1",
        "outputId": "f61fd984-5f18-44b1-fe44-48a9d52fff5b"
      },
      "execution_count": null,
      "outputs": [
        {
          "output_type": "stream",
          "name": "stdout",
          "text": [
            "[23, 2, 19, 3, 7, 11, 5, 13]\n"
          ]
        }
      ]
    },
    {
      "cell_type": "code",
      "source": [
        "#question- 7\n",
        "\n",
        "#find target on a bitonic/ mountain array (asc+dsc)\n",
        "#step-1: find pivot -intuition is ekdm sheshe e,s,m shb pivot k point korbe\n",
        "#step-2:part two array (asc and dsc)\n",
        "#if not acsending oredered array find in decsending ordered array\n",
        "\n",
        "\n",
        "\n",
        "def Find_ele_on_bitonic_array(arr,target):\n",
        "  pivot= findPivot(arr)\n",
        "\n",
        "  asc_array=OrderAgnostic_binarySearch(arr,0,pivot,target)\n",
        "  #print(pivot,asc_array)\n",
        "  if asc_array==-1:\n",
        "   dsc_array=OrderAgnostic_binarySearch(arr,pivot+1,len(arr)-1,target)\n",
        "   return dsc_array\n",
        "  return asc_array\n",
        "\n",
        "\n",
        "\n",
        "def findPivot(arr):\n",
        "  start=0\n",
        "  end=len(arr)-1\n",
        "  while start<end: #why not start<=end cz mid+1 pabo na\n",
        "    mid=start+(end-start)//2\n",
        "\n",
        "    if arr[mid]<arr[mid+1]:\n",
        "      start=mid+1 #boror dike jabe\n",
        "    elif arr[mid]>arr[mid+1]:\n",
        "      end=mid #wht not mid -1: cause ans e haray jabe\n",
        "\n",
        "  return start\n",
        "\n",
        "\n",
        "\n",
        "\n",
        "def OrderAgnostic_binarySearch(arr,start,end,target):\n",
        "\n",
        "  if arr[start]<arr[end]:\n",
        "    Flag_asc=True\n",
        "  else:\n",
        "    Flag_asc=False\n",
        "\n",
        "  if Flag_asc==True:\n",
        "\n",
        "    while start<=end:\n",
        "\n",
        "      mid=start+(end-start)//2\n",
        "\n",
        "      if arr[mid]==target:\n",
        "        return mid\n",
        "      elif target<arr[mid]:\n",
        "        end=mid-1\n",
        "      elif target>arr[mid]:\n",
        "        start=mid+1\n",
        "    return -1\n",
        "\n",
        "  else:\n",
        "    while start<=end:\n",
        "\n",
        "      mid=start+(end-start)//2\n",
        "\n",
        "      if arr[mid]==target:\n",
        "        return mid\n",
        "      elif arr[mid]<target:\n",
        "        end=mid-1\n",
        "      elif arr[mid]>target:\n",
        "        start=mid+1\n",
        "\n",
        "    return -1\n",
        "\n",
        "\n",
        "\n",
        "print(Find_ele_on_bitonic_array([1,3,4,6,7,3,2,0],target=0))"
      ],
      "metadata": {
        "colab": {
          "base_uri": "https://localhost:8080/"
        },
        "id": "5vBtYI1Hchtf",
        "outputId": "86b999ba-f146-479f-83f3-976a3df71b13"
      },
      "execution_count": null,
      "outputs": [
        {
          "output_type": "stream",
          "name": "stdout",
          "text": [
            "4 -1\n",
            "7\n"
          ]
        }
      ]
    },
    {
      "cell_type": "code",
      "source": [
        "#Question 8\n",
        "#Rotated Array (asc+asc)\n",
        "#...to be continued"
      ],
      "metadata": {
        "id": "D5tUL51en8Iz"
      },
      "execution_count": null,
      "outputs": []
    },
    {
      "cell_type": "markdown",
      "source": [
        "# Sorting Algorithms"
      ],
      "metadata": {
        "id": "UVu39pkJp7dm"
      }
    },
    {
      "cell_type": "code",
      "source": [
        "#Bubble_sort\n",
        "#O(n^2)\n",
        "#in place\n",
        "#stable\n",
        "\n",
        "# i er kono kaaj nai j r j-1 pointer hishebe kaaj kortese\n",
        "\n",
        "def bubbleSort(arr):\n",
        "  for i in range(0,len(arr),1):\n",
        "    swap=False\n",
        "    for j in range(1,len(arr)-i,1):\n",
        "      if arr[j]<arr[j-1]:\n",
        "        temp=arr[j]\n",
        "        arr[j]=arr[j-1]\n",
        "        arr[j-1]=temp\n",
        "        swap=True\n",
        "\n",
        "    if swap!=True:\n",
        "      break\n",
        "\n",
        "  return arr\n",
        "print(bubbleSort([4,9,5,7,9,2,80]))"
      ],
      "metadata": {
        "colab": {
          "base_uri": "https://localhost:8080/"
        },
        "id": "aSaBkRFCqB1k",
        "outputId": "ebf34f33-ebac-473c-f885-8d5ab4cdcc46"
      },
      "execution_count": null,
      "outputs": [
        {
          "output_type": "stream",
          "name": "stdout",
          "text": [
            "[2, 4, 5, 7, 9, 9, 80]\n"
          ]
        }
      ]
    },
    {
      "cell_type": "code",
      "source": [
        "#Selection Sort\n",
        "#shb O(n^2)\n",
        "#unstable in place\n",
        "\n",
        "def SelectionSort(arr):\n",
        "  for i in range(0,len(arr),1):\n",
        "    max=arr[0]\n",
        "    for j in range(0,len(arr)-i-1,1):\n",
        "      if arr[j]>max:\n",
        "        max_idx=j\n",
        "        max=arr[j]\n",
        "\n",
        "    arr[max_idx],arr[len(arr)-1-i]=arr[len(arr)-1-i],arr[max_idx]\n",
        "\n",
        "  print(arr)\n",
        "\n",
        "SelectionSort([4,9,5,7,9,2,80,1])"
      ],
      "metadata": {
        "colab": {
          "base_uri": "https://localhost:8080/"
        },
        "id": "C1FaVPaHbTfc",
        "outputId": "cce75ce8-6371-4d65-9a72-ab48ca4a7b7c"
      },
      "execution_count": null,
      "outputs": [
        {
          "output_type": "stream",
          "name": "stdout",
          "text": [
            "[1, 2, 4, 5, 7, 9, 9, 80]\n"
          ]
        }
      ]
    },
    {
      "cell_type": "code",
      "source": [
        "#insertion_sort\n",
        "#O(n^2),stable,in place\n",
        "\n",
        "def InsertionSort(arr):\n",
        "  for i in range(0,len(arr)-1,1):\n",
        "    for j in range(i+1,0,-1):\n",
        "      if arr[j]<arr[j-1]:\n",
        "        arr[j],arr[j-1]=arr[j-1],arr[j]\n",
        "      else:\n",
        "        break\n",
        "  return arr\n",
        "print(InsertionSort([4,9,5,7,9,2,80]))"
      ],
      "metadata": {
        "id": "QiFKoEtJfjbe",
        "colab": {
          "base_uri": "https://localhost:8080/"
        },
        "outputId": "4b6dfd35-5de6-45af-e67e-cad32aba9f6e"
      },
      "execution_count": null,
      "outputs": [
        {
          "output_type": "stream",
          "name": "stdout",
          "text": [
            "[2, 4, 5, 7, 9, 9, 80]\n"
          ]
        }
      ]
    },
    {
      "cell_type": "code",
      "source": [
        "#merge sort\n",
        "#O(nlogn), Stable, out\n",
        "\n",
        "\n",
        "def merge(a, b):\n",
        "  i=0\n",
        "  j=0\n",
        "  k=0\n",
        "  SortedList=[0]*(len(a)+len(b))\n",
        "  while(i<len(a) and j<len(b)): #O(n)\n",
        "    if a[i]<b[j]:\n",
        "      SortedList[k]=a[i]\n",
        "      i+=1\n",
        "      k+=1\n",
        "    elif b[j]<a[i]:\n",
        "      SortedList[k]=b[j]\n",
        "      j+=1\n",
        "      k+=1\n",
        "    elif a[i]==b[j]:\n",
        "      SortedList[k]=a[i]\n",
        "      i+=1\n",
        "      k+=1\n",
        "  while(i<len(a)):\n",
        "    SortedList[k]=a[i]\n",
        "    i+=1\n",
        "    k+=1\n",
        "\n",
        "  while(j<len(b)):\n",
        "    SortedList[k]=b[j]\n",
        "    j+=1\n",
        "    k+=1\n",
        "\n",
        "  return SortedList\n",
        "\n",
        "\n",
        "def mergeSort(arr):\n",
        "    if len(arr) <= 1:\n",
        "        return arr\n",
        "    else:\n",
        "        mid = len(arr)//2\n",
        "        a1 = mergeSort(arr[:mid])\n",
        "        a2 = mergeSort(arr[mid:])\n",
        "        return merge(a1, a2)\n",
        "\n",
        "print(mergeSort([57,87,90,6,89]))"
      ],
      "metadata": {
        "colab": {
          "base_uri": "https://localhost:8080/"
        },
        "id": "WxrWGM4mIvmD",
        "outputId": "a4a905d8-04e2-4c88-f188-1bd707def05f"
      },
      "execution_count": null,
      "outputs": [
        {
          "output_type": "stream",
          "name": "stdout",
          "text": [
            "[6, 57, 87, 89, 90]\n"
          ]
        }
      ]
    },
    {
      "cell_type": "code",
      "source": [
        "#finding max using merge sort\n",
        "#O(nlogn)\n",
        "\n",
        "def find_max(arr, start, end):\n",
        "    if start == end:\n",
        "        return arr[start]\n",
        "\n",
        "    mid = (start + end) // 2\n",
        "    max_left = find_max(arr, start, mid)\n",
        "    max_right = find_max(arr, mid + 1, end)\n",
        "\n",
        "    return max(max_left, max_right)\n",
        "\n",
        "# Example usage\n",
        "arr = [4, 9, 2, 7, 5, 1, 8, 3, 6]\n",
        "max_value = find_max(arr, 0, len(arr) - 1)\n",
        "print(\"Maximum value:\", max_value)"
      ],
      "metadata": {
        "colab": {
          "base_uri": "https://localhost:8080/"
        },
        "id": "dqqihic1GgIE",
        "outputId": "d0f01fd1-2f17-448a-a6a2-20893fcbf669"
      },
      "execution_count": null,
      "outputs": [
        {
          "output_type": "stream",
          "name": "stdout",
          "text": [
            "Maximum value: 9\n"
          ]
        }
      ]
    },
    {
      "cell_type": "code",
      "source": [
        "#quick sort\n",
        "#O(n^2) in place, unstable\n",
        "\n",
        "#start,end for swapping\n",
        "#low and high for the range ,main thing\n",
        "\n",
        "#after each pass pivot is placed in the right position\n",
        "#start end theke boro hbe\n",
        "# low....end,start,.....high\n",
        "\n",
        "\n",
        "def QuickSort(arr,low,high):\n",
        "  if low>=high:\n",
        "    return\n",
        "\n",
        "  start=low\n",
        "  end=high\n",
        "  mid=start+(end-start)//2\n",
        "  pivot=arr[mid]\n",
        "\n",
        "  while(start<=end):\n",
        "\n",
        "    while arr[start]<pivot:\n",
        "      start+=1\n",
        "    while arr[end]>pivot:\n",
        "      end-=1\n",
        "\n",
        "    if start<=end:\n",
        "      temp=arr[start]\n",
        "      arr[start]=arr[end]\n",
        "      arr[end]=temp\n",
        "\n",
        "      start+=1\n",
        "      end-=1\n",
        "\n",
        "  QuickSort(arr,low,end)\n",
        "  QuickSort(arr,start,high)\n",
        "\n",
        "  return arr\n",
        "\n",
        "\n",
        "\n",
        "arr=[4,9,5,7,9,2,80]\n",
        "low=0\n",
        "high=len(arr)-1\n",
        "print(QuickSort(arr,low,high))\n"
      ],
      "metadata": {
        "colab": {
          "base_uri": "https://localhost:8080/"
        },
        "id": "YWgXrEX2KB3L",
        "outputId": "04934c58-f9bf-4e30-c166-ca1f31add3d2"
      },
      "execution_count": null,
      "outputs": [
        {
          "output_type": "stream",
          "name": "stdout",
          "text": [
            "[2, 4, 5, 7, 9, 9, 80]\n"
          ]
        }
      ]
    },
    {
      "cell_type": "markdown",
      "source": [
        "In summary, QuickSort is typically favored for its average-case time complexity and in-place operation, making it a good choice for most scenarios. MergeSort, on the other hand, is preferred when stability or worst-case time complexity is a priority, although it requires additional space. Ultimately, the choice between the two algorithms depends on the specific requirements and constraints of your problem."
      ],
      "metadata": {
        "id": "Emmlh7AhDPnZ"
      }
    },
    {
      "cell_type": "markdown",
      "source": [
        "In this scenario where the available memory is limited and the dataset is very large, the more suitable choice would be Quick Sort.\n",
        "\n",
        "Quick Sort is an in-place sorting algorithm, which means it doesn't require additional memory proportional to the size of the dataset. It sorts the elements within the given memory space, making it more memory-efficient compared to Merge Sort.\n",
        "\n",
        "On the other hand, Merge Sort requires additional memory to store temporary arrays during the merging process. This additional memory usage can be a constraint when the available memory is limited.\n",
        "\n",
        "Therefore, Quick Sort is preferred in situations with limited memory, as it minimizes the memory requirements and allows for efficient sorting of large datasets.\n",
        "\n",
        "\n",
        "\n",
        "\n"
      ],
      "metadata": {
        "id": "vlAFuvIaPd5F"
      }
    },
    {
      "cell_type": "code",
      "source": [
        "#Count sort\n",
        "#O(n+k),out, unstable\n",
        "\n",
        "def CountSort(arr):\n",
        "  max_val=arr[0]\n",
        "  for i in range(len(arr)):\n",
        "    if arr[i]>max_val:\n",
        "      max_val=arr[i]\n",
        "\n",
        "  min_val=arr[0]\n",
        "  for i in range(len(arr)):\n",
        "    if arr[i]<min_val:\n",
        "      min_val=arr[i]\n",
        "\n",
        "  # Calculate the range of input values\n",
        "  len_of_count_arr = max_val -min_val + 1\n",
        "  # Create a count array with size equal to the value range\n",
        "  count = [0] * len_of_count_arr\n",
        "\n",
        "  # Count the occurrences of each element in the input array\n",
        "  #minus er kaaj o ekbare kore dilam\n",
        "  for i in arr:\n",
        "      count[i-min_val] += 1\n",
        "\n",
        "  print(count)\n",
        "\n",
        "  result = []\n",
        "  for i in range(len(count)):\n",
        "      while count[i] > 0:\n",
        "        result.append(i + min_val)\n",
        "        count[i] -= 1\n",
        "\n",
        "\n",
        "  print(count)\n",
        "\n",
        "  return result\n",
        "\n",
        "arr = [2, 5, 3,8, 3,9]\n",
        "sorted_arr = CountSort(arr)\n",
        "print(sorted_arr)\n",
        "\n"
      ],
      "metadata": {
        "colab": {
          "base_uri": "https://localhost:8080/"
        },
        "id": "y2rIKd0LJjvs",
        "outputId": "58cbab05-4961-422e-813e-c80f743212e8"
      },
      "execution_count": null,
      "outputs": [
        {
          "output_type": "stream",
          "name": "stdout",
          "text": [
            "[1, 2, 0, 1, 0, 0, 1, 1]\n",
            "[0, 0, 0, 0, 0, 0, 0, 0]\n",
            "[2, 3, 3, 5, 8, 9]\n"
          ]
        }
      ]
    },
    {
      "cell_type": "code",
      "source": [
        "def count_sort(arr):\n",
        "    # Find the maximum value in the array\n",
        "    max_value = max(arr)\n",
        "\n",
        "    # Create a count array with size (max_value + 1) and initialize it to zeros\n",
        "    count = [0] * (max_value + 1)\n",
        "\n",
        "    # Count the occurrences of each element in the input array\n",
        "    for num in arr:\n",
        "        count[num] += 1\n",
        "\n",
        "    # Place each element in its correct position in the output array\n",
        "    output = []\n",
        "    for i in range(len(count)):\n",
        "        while count[i] > 0:\n",
        "            output.append(i)\n",
        "            count[i] -= 1\n",
        "\n",
        "    return output\n",
        "\n",
        "\n",
        "arr = [2, 5, 3,8, 3,9]\n",
        "sorted_arr = CountSort(arr)\n",
        "print(sorted_arr)\n"
      ],
      "metadata": {
        "id": "WuZhKgfPNVDV"
      },
      "execution_count": null,
      "outputs": []
    },
    {
      "cell_type": "code",
      "source": [
        "def count_sort_with_negative_floats(arr):\n",
        "    # Find the minimum and maximum values in the array\n",
        "    min_value = min(arr)\n",
        "    max_value = max(arr)\n",
        "\n",
        "    # Determine the range of values, including negative and positive numbers\n",
        "    range_size = int(max_value - min_value + 1)\n",
        "\n",
        "    # Create a counting array with a size equal to the range\n",
        "    counting_array = [0] * range_size\n",
        "\n",
        "    # Adjust indexing to accommodate negative values\n",
        "    adjusted_index = lambda x: int(x - min_value)\n",
        "\n",
        "    # Count the occurrences of each element\n",
        "    for num in arr:\n",
        "        counting_array[adjusted_index(num)] += 1\n",
        "\n",
        "    # Perform cumulative sum on the counting array\n",
        "    for i in range(1, range_size):\n",
        "        counting_array[i] += counting_array[i - 1]\n",
        "\n",
        "    # Create a sorted array\n",
        "    sorted_array = [0] * len(arr)\n",
        "    for num in arr:\n",
        "        index = counting_array[adjusted_index(num)] - 1\n",
        "        sorted_array[index] = num\n",
        "        counting_array[adjusted_index(num)] -= 1\n",
        "\n",
        "    return sorted_array\n",
        "\n",
        "# Example usage\n",
        "numbers = [2, 5, 1.2, 6.7, 1.7, 9.3, 2.2, 7.7, 0, -4, -5.1, 2, 5, 5.2]\n",
        "sorted_numbers = count_sort_with_negative_floats(numbers)\n",
        "print(sorted_numbers)"
      ],
      "metadata": {
        "colab": {
          "base_uri": "https://localhost:8080/"
        },
        "id": "wHQxar5XLCZS",
        "outputId": "e40f896e-9d7e-4b9b-f990-3092b0c99244"
      },
      "execution_count": null,
      "outputs": [
        {
          "output_type": "stream",
          "name": "stdout",
          "text": [
            "[-5.1, -4, 0, 1.7, 1.2, 2, 2.2, 2, 5.2, 5, 5, 6.7, 7.7, 9.3]\n"
          ]
        }
      ]
    },
    {
      "cell_type": "markdown",
      "source": [
        "# Karatsuba (Multiplication Algorithm)\n"
      ],
      "metadata": {
        "id": "2ug-EVFi1CcW"
      }
    },
    {
      "cell_type": "code",
      "source": [
        "#karatsubah\n",
        "def Karatsuba(x,y):\n",
        "  if x<10 and y<10:\n",
        "    return x*y\n",
        "\n",
        "  length=max(len(str(x)),len(str(y)))\n",
        "  power=length//2\n",
        "  ce=10**power\n",
        "\n",
        "  xl=x//ce\n",
        "  xr=x%ce\n",
        "  yl=y//ce\n",
        "  yr=y%ce\n",
        "\n",
        "  a=Karatsuba(xl,yl)\n",
        "  b=Karatsuba(xr,yr)\n",
        "  c=Karatsuba((xl+xr),(yl+yr))\n",
        "\n",
        "  return (a*(10**length)+(c-a-b)*(10**power)+b)\n",
        "\n",
        "print(Karatsuba(1234,5678))"
      ],
      "metadata": {
        "id": "PDx8gI9l1Han",
        "colab": {
          "base_uri": "https://localhost:8080/"
        },
        "outputId": "8862f732-b751-4c2d-93a2-19dafc9b73b4"
      },
      "execution_count": null,
      "outputs": [
        {
          "output_type": "stream",
          "name": "stdout",
          "text": [
            "11686652\n"
          ]
        }
      ]
    },
    {
      "cell_type": "code",
      "source": [
        "def Karatsuba(x, y):\n",
        "    if x < 10 and y < 10:\n",
        "        return x * y\n",
        "\n",
        "    length = max(len(str(x)), len(str(y)))\n",
        "    power = length // 2\n",
        "    ce = 10 ** power\n",
        "\n",
        "    xl = x // ce\n",
        "    xr = x % ce\n",
        "    yl = y // ce\n",
        "    yr = y % ce\n",
        "\n",
        "    a = Karatsuba(xl, yl)\n",
        "    b = Karatsuba(xr, yr)\n",
        "    c = Karatsuba((xl + xr), (yl + yr))\n",
        "\n",
        "    return (a * (10 ** (2 * power)) + (c - a - b) * (10 ** power) + b)\n",
        "\n",
        "print(Karatsuba(1234, 5678))\n",
        "#O(n^log3)=O(n^1.59)"
      ],
      "metadata": {
        "colab": {
          "base_uri": "https://localhost:8080/"
        },
        "id": "Sk_cuGLv-xXJ",
        "outputId": "6bd63010-c1a1-4fa7-bae0-b008d49aa09e"
      },
      "execution_count": null,
      "outputs": [
        {
          "output_type": "stream",
          "name": "stdout",
          "text": [
            "7006652\n"
          ]
        }
      ]
    },
    {
      "cell_type": "markdown",
      "source": [
        "#Invertion Count\n"
      ],
      "metadata": {
        "id": "T6gUHyx9nQAr"
      }
    },
    {
      "cell_type": "code",
      "source": [
        "#brute force O(n^2)\n",
        "# Here this is a reverse sorted array and the inversion pairs are:\n",
        "# {99,80} ; {99,23} ; {99,4} ; {80,23} ; {80,4} ; {23,4}\n",
        "\n",
        "\n",
        "def InvertionCount_wBruteForce(arr):\n",
        "  inv_count=0\n",
        "  for i in range(0,len(arr),1):\n",
        "    for j in range(i,len(arr)):\n",
        "      if arr[i]>arr[j]:\n",
        "        inv_count+=1\n",
        "  return inv_count\n",
        "\n",
        "\n",
        "arr = [99,80,23,4]\n",
        "print(InvertionCount_wBruteForce(arr))"
      ],
      "metadata": {
        "colab": {
          "base_uri": "https://localhost:8080/"
        },
        "id": "zOSaAsgXnSWu",
        "outputId": "976ae120-17c0-49d9-e4f8-0e8b0a4e4b97"
      },
      "execution_count": null,
      "outputs": [
        {
          "output_type": "stream",
          "name": "stdout",
          "text": [
            "6\n"
          ]
        }
      ]
    },
    {
      "cell_type": "code",
      "source": [
        "#ivertion count using merge sort"
      ],
      "metadata": {
        "id": "GOPTqkADLrzn"
      },
      "execution_count": null,
      "outputs": []
    }
  ]
}