{
 "cells": [
  {
   "cell_type": "markdown",
   "metadata": {},
   "source": [
    "# Part XIX: Algorithms <a id=\"19-algorithms\"></a>"
   ]
  },
  {
   "cell_type": "markdown",
   "metadata": {},
   "source": [
    "1. [Time Complexity and Big O Notation](#time-complexity-and-big-o-notation)\n",
    "    - [Time Complexity](#time-complexity)\n",
    "    - [Big O Notation](#big-o-notation)\n",
    "    - [Common Data Structure Time Complexities](#common-data-structure-time-complexities)\n",
    "2. [Sorting Algorithms](#sorting-algorithms)\n",
    "    - [Bubble Sort](#bubble-sort)\n",
    "    - [Insertion Sort](#insertion-sort)\n",
    "    - [Selection Sort](#selection-sort)\n",
    "    - [Quick Sort](#quick-sort)\n",
    "    - [Merge Sort](#merge-sort)\n",
    "    - [Heap Sort](#heap-sort)\n",
    "    - [Counting Sort](#counting-sort)\n",
    "    - [Radix Sort](#radix-sort)\n",
    "    - [Common Sorting Algorithms Time Complexities](#common-sorting-algorithms-time-complexities)\n",
    "3. [Searching Algorithms](#searching-algorithms)\n",
    "    - [Linear Search](#linear-search)\n",
    "    - [Binary Search](#binary-search)\n",
    "4. [Graph Algorithms](#graph-algorithms)\n",
    "    - [Depth-First Search (DFS)](#depth-first-search)\n",
    "        - [Preorder, Inorder, Postorder Traversal](#preorder-inorder-postorder)\n",
    "    - [Breadth-First Search (BFS)](#breadth-first-search)\n",
    "    - [Dijkstra's Algorithm](#dijkstras)\n",
    "    - [Bellman-Ford Algorithm](#bellman-ford)\n",
    "5. [Problem Solving Methods](#problem-solving-methods)\n",
    "    - [Two Pointers](#two-pointers)\n",
    "    - [Sliding Window](#sliding-window)\n",
    "    - [Divide and Conquer](#divide-and-conquer)\n",
    "    - [Recursion](#recursion)\n",
    "    - [Dynamic Programming](#dynamic-programming)\n",
    "    - [Greedy Algorithms](#greedy-algorithms)\n",
    "    - [Backtracking](#backtracking)"
   ]
  },
  {
   "cell_type": "markdown",
   "metadata": {},
   "source": [
    "## 1. Time Complexity and Big O Notation <a id=\"time-complexity-and-big-o-notation\"></a>\n",
    "\n",
    "_Time complexity_ and _Big O_ notation are foundational concepts in computer science, particularly in the analysis of algorithms. They are used to describe the performance of algorithms and the amount of time they take to run as a function of the size of their input."
   ]
  },
  {
   "cell_type": "markdown",
   "metadata": {},
   "source": [
    "### Time Complexity <a id=\"time-complexity\"></a>\n",
    "\n",
    "_Time complexity_ is a measure of the amount of computational time that an algorithm takes to complete as a function of the length of the input. It gives us an idea of the growth rate of the runtime of an algorithm as the size of input data increases. Time complexity is important because it helps us to predict the scalability of an algorithm and to determine whether it is practical for large datasets.\n",
    "\n",
    "There are several types of time complexity measures, including:\n",
    "\n",
    "- **Worst-case time complexity (Big O notation)**: The maximum amount of time an algorithm could take to complete, regardless of the input size.\n",
    "- **Average-case time complexity (𝛀 omega notation)**: The expected amount of time an algorithm will take to complete, over all possible inputs of a given size.\n",
    "- **Best-case time complexity (𝚯 theta notation)**: The minimum amount of time an algorithm could take to complete, which usually occurs under ideal conditions."
   ]
  },
  {
   "cell_type": "markdown",
   "metadata": {},
   "source": [
    "### Big O Notation <a id=\"big-o-notation\"></a>\n",
    "\n",
    "_Big O_ notation is a mathematical notation used to describe the upper bound of the time complexity of an algorithm. It expresses the worst-case scenario of an algorithm's growth rate, allowing us to compare the efficiency of different algorithms regardless of hardware or software differences. Big O notation focuses on the main factor that affects the growth rate, ignoring constants and smaller terms, which become negligible as the input size grows.\n",
    "\n",
    "Here are some common Big O notations and their meanings:\n",
    "\n",
    "- **O(1)**: Constant time - The execution time of the algorithm does not change with the size of the input data set.\n",
    "- **O(log n)**: Logarithmic time - The execution time of the algorithm increases logarithmically as the input data set size increases.\n",
    "- **O(n)**: Linear time - The execution time increases linearly with the increase in input data set size.\n",
    "- **O(n log n)**: Linearithmic time - The execution time increases linearly and logarithmically with the increase in input data set size. Many efficient sorting algorithms have this time complexity.\n",
    "- **O(n^2)**: Quadratic time - The execution time increases quadratically with the increase in input data set size. This is common in algorithms that involve nested iterations over the data set.\n",
    "- **O(2^n)**: Exponential time - The execution time doubles with each addition to the input data set size. This is often seen in algorithms that generate all subsets of a set.\n",
    "- **O(n!)**: Factorial time - The execution time grows factorially with the increase in input data set size. This is typical in algorithms that generate all permutations of a set."
   ]
  },
  {
   "cell_type": "markdown",
   "metadata": {},
   "source": [
    "### Common Data Structure Time Complexities <a id=\"common-data-structure-time-complexities\"></a>\n",
    "\n",
    "Here are the time complexities for common data structures:\n",
    "\n",
    "| Data Structure         | Access    | Search    | Insertion | Deletion  | Remarks                      |\n",
    "|------------------------|-----------|-----------|-----------|-----------|------------------------------|\n",
    "| Array (Dynamic)        | O(1)      | O(n)      | O(n)      | O(n)      | Worst case for insertion/deletion due to resizing and copying. |\n",
    "| Array (Fixed Size)     | O(1)      | O(n)      | N/A       | N/A       | Size is fixed; cannot insert or delete. |\n",
    "| Singly Linked List     | O(n)      | O(n)      | O(1)      | O(1)      | Assuming insertion/deletion at the head. |\n",
    "| Doubly Linked List     | O(n)      | O(n)      | O(1)      | O(1)      | Assuming insertion/deletion at the head/tail. |\n",
    "| Stack                  | O(n)      | O(n)      | O(1)      | O(1)      | Access is O(n) since you need to pop n-1 elements to access the nth. |\n",
    "| Queue                  | O(n)      | O(n)      | O(1)      | O(1)      | Enqueue is O(1), dequeue is O(1); accessing arbitrary elements is O(n). |\n",
    "| Deque (Double-Ended Queue) | O(n)   | O(n)      | O(1)      | O(1)      | Insertion and deletion are O(1) at both ends. |\n",
    "| Hash Table (Unsorted)  | N/A       | O(1)      | O(1)      | O(1)      | Average case; worst-case is O(n) if a collision occurs. |\n",
    "| Binary Search Tree     | O(log n)  | O(log n)  | O(log n)  | O(log n)  | Average case for balanced tree; worst-case is O(n) if unbalanced. |\n",
    "| Balanced Tree (AVL, Red-Black Tree) | O(log n) | O(log n) | O(log n)  | O(log n)  | Maintains balance to ensure O(log n) operations. |\n",
    "| Heap (Binary)          | O(1)      | O(n)      | O(log n)  | O(log n)  | Min/Max value is O(1); finding arbitrary values is O(n). |"
   ]
  },
  {
   "cell_type": "markdown",
   "metadata": {},
   "source": [
    "## 2. Sorting Algorithms <a id=\"sorting-algorithms\"></a>\n",
    "\n",
    "_Sorting algorithms_ are used to rearrange a list of elements into a particular order, such as numerical, lexicographical, or some other order. Sorting is a fundamental operation in computer science and is used in a wide variety of applications, including searching, data analysis, and database operations.\n",
    "\n",
    "There are many different sorting algorithms, each with its own advantages and disadvantages. The choice of sorting algorithm depends on the size of the data set, the nature of the data, and the available resources. Here are some common sorting algorithms:"
   ]
  },
  {
   "cell_type": "markdown",
   "metadata": {},
   "source": [
    "### Bubble Sort <a id=\"bubble-sort\"></a>\n",
    "\n",
    "_Bubble Sort_ is a simple sorting algorithm that repeatedly steps through the list, compares adjacent elements, and swaps them if they are in the wrong order. The pass through the list is repeated until the list is sorted. The algorithm is named for the way smaller elements \"bubble\" to the top of the list (beginning of the list) because, during each pass, the largest unsorted element bubbles up to its correct position.\n",
    "\n",
    "_How Bubble Sort Works:_\n",
    "\n",
    "1. **Starting from the first index**, compare the current element with the next element.\n",
    "2. **Swap** if the current element is greater than the next element.\n",
    "3. **Move to the next element** and repeat the process until the end of the array.\n",
    "4. After each pass, the largest element among the unsorted elements bubbles up to its correct position, reducing the range of the next pass by one.\n",
    "5. Repeat the steps until no swaps are needed, indicating that the list is sorted.\n",
    "\n",
    "_Complexity:_\n",
    "\n",
    "- **Time Complexity**:\n",
    "  - **Best Case**: _O(n)_ when the array is already sorted, and the algorithm makes a pass to check.\n",
    "  - **Average Case**: _O(n^2)_ for unsorted or partially sorted arrays.\n",
    "  - **Worst Case**: _O(n^2)_ when the array is sorted in reverse order.\n",
    "- **Space Complexity**: _O(1)_ since it only uses a constant amount of extra space for swapping."
   ]
  },
  {
   "cell_type": "code",
   "execution_count": 1,
   "metadata": {},
   "outputs": [
    {
     "name": "stdout",
     "output_type": "stream",
     "text": [
      "Bubble sort: [11, 12, 22, 25, 34, 64, 90]\n"
     ]
    }
   ],
   "source": [
    "def bubble_sort(arr):\n",
    "    n = len(arr)\n",
    "    for i in range(n):\n",
    "        # Flag to detect any swap\n",
    "        swapped = False\n",
    "        # Last i elements are already in place\n",
    "        for j in range(0, n - i - 1):\n",
    "            # Swap if the element found is greater than the next element\n",
    "            if arr[j] > arr[j + 1]:\n",
    "                arr[j], arr[j + 1] = arr[j + 1], arr[j]\n",
    "                swapped = True\n",
    "        # If no two elements were swapped by inner loop, then break\n",
    "        if not swapped:\n",
    "            break\n",
    "    return arr\n",
    "\n",
    "\n",
    "# Example usage\n",
    "arr = [64, 34, 25, 12, 22, 11, 90]\n",
    "bubble_sort(arr)\n",
    "print(\"Bubble sort:\", arr)"
   ]
  },
  {
   "cell_type": "markdown",
   "metadata": {},
   "source": [
    "### Insertion Sort <a id=\"insertion-sort\"></a>\n",
    "\n",
    "_Insertion Sort_ is a simple and intuitive sorting algorithm that builds the final sorted array (or list) one item at a time. It is much less efficient on large lists than more advanced algorithms such as quicksort, heapsort, or merge sort. However, its simplicity and the fact that it makes minimal number of swaps makes it efficient for small data sets and nearly sorted arrays. Moreover, it's stable, meaning that it maintains the relative order of equal elements.\n",
    "\n",
    "_How Insertion Sort Works:_\n",
    "\n",
    "The algorithm divides the input list into two parts: the sublist of items already sorted (which is built up from left to right at the front of the list), and the sublist of items remaining to be sorted that occupy the rest of the list. Initially, the sorted sublist is just the first element of the list. The algorithm proceeds by removing one element from the remaining sublist and inserting it into the correct position within the sorted sublist, repeating until no elements remain in the unsorted sublist.\n",
    "\n",
    "Here are the steps for insertion sort:\n",
    "\n",
    "1. Consider the first element to be sorted and the rest to be unsorted.\n",
    "2. Take the first element in the unsorted segment and scan backward into the sorted segment for the correct position to insert the element.\n",
    "3. Repeat step 2 for all elements in the unsorted segment.\n",
    "\n",
    "_Complexity:_\n",
    "\n",
    "- **Time Complexity**:\n",
    "    - **Best-case time complexity**: _O(n)_, which occurs when the array is already sorted. In this case, the algorithm only needs to make one comparison per element.\n",
    "    - **Average and worst-case time complexity**: _O(n^2)_, due to the nested loops, where n is the number of items being sorted. The worst case occurs when the array is sorted in reverse order.\n",
    "- **Space complexity**: _O(1)_, because it only requires a fixed amount of extra storage space."
   ]
  },
  {
   "cell_type": "code",
   "execution_count": 2,
   "metadata": {},
   "outputs": [
    {
     "name": "stdout",
     "output_type": "stream",
     "text": [
      "Insertion sort: [5, 6, 11, 12, 13]\n"
     ]
    }
   ],
   "source": [
    "def insertion_sort(arr):\n",
    "    # Traverse through 1 to len(arr)\n",
    "    for i in range(1, len(arr)):\n",
    "        key = arr[i]\n",
    "        # Move elements of arr[0..i-1], that are greater than key, to one position ahead of their current position\n",
    "        j = i - 1\n",
    "        while j >= 0 and key < arr[j]:\n",
    "            arr[j + 1] = arr[j]\n",
    "            j -= 1\n",
    "        arr[j + 1] = key\n",
    "    return arr\n",
    "\n",
    "\n",
    "# Example usage\n",
    "arr = [12, 11, 13, 5, 6]\n",
    "insertion_sort(arr)\n",
    "print(\"Insertion sort:\", arr)"
   ]
  },
  {
   "cell_type": "markdown",
   "metadata": {},
   "source": [
    "### Selection Sort <a id=\"selection-sort\"></a>\n",
    "\n",
    "_Selection Sort_ is a straightforward and intuitive sorting algorithm. The algorithm divides the input list into two parts: a sorted sublist of items which is built up from left to right at the front (left) of the list, and a sublist of the remaining unsorted items that occupy the rest of the list. Initially, the sorted sublist is empty and the unsorted sublist is the entire input list. The algorithm proceeds by finding the smallest (or largest, depending on sorting order) element in the unsorted sublist, swapping it with the leftmost unsorted element (putting it in sorted order), and moving the sublist boundaries one element to the right.\n",
    "\n",
    "_How Selection Sort Works:_\n",
    "\n",
    "1. **Start with the first element in the array** as the minimum (or maximum for descending order) value. This element is considered as part of the unsorted section of the array.\n",
    "2. **Scan the rest of the array** using a loop to find the minimum (or maximum) element in the unsorted section of the array.\n",
    "3. **After completing the scan**, swap the minimum (or maximum) found in the unsorted portion with the first element of the unsorted portion.\n",
    "4. **Move the boundary** of the unsorted portion one step to the right, effectively increasing the size of the sorted portion by one and decreasing the size of the unsorted portion by one.\n",
    "5. **Repeat the process** for each element in the array until the entire array is sorted.\n",
    "\n",
    "_Complexity:_\n",
    "\n",
    "- **Time Complexity**:\n",
    "    - **Worst-case performance**: _O(n^2)_ comparisons and swaps, where _n_ is the number of elements in the array. This is because for each element in the array, you perform _n-1_ comparisons the first time, _n-2_ the next time, and so on.\n",
    "    - **Best-case performance**: _O(n^2)_ comparisons, but _O(1)_ swaps. The best-case time complexity is the same as the worst-case time complexity because even if the array is already sorted, you still need to compare each element to find the minimum.\n",
    "    - **Average performance**: _O(n^2)_ comparisons and swaps.\n",
    "- **Space complexity**: _O(1)_, because it only requires a constant amount of extra storage space for temporary variables, regardless of the size of the input array."
   ]
  },
  {
   "cell_type": "code",
   "execution_count": 3,
   "metadata": {},
   "outputs": [
    {
     "name": "stdout",
     "output_type": "stream",
     "text": [
      "Selection sort: [11, 12, 22, 25, 64]\n"
     ]
    }
   ],
   "source": [
    "def selection_sort(arr):\n",
    "    # Traverse through all array elements\n",
    "    for i in range(len(arr)):\n",
    "        # Find the minimum element in the remaining unsorted array\n",
    "        min_idx = i\n",
    "        for j in range(i + 1, len(arr)):\n",
    "            if arr[min_idx] > arr[j]:\n",
    "                min_idx = j\n",
    "        # Swap the found minimum element with the first element of the unsorted section\n",
    "        arr[i], arr[min_idx] = arr[min_idx], arr[i]\n",
    "    return arr\n",
    "\n",
    "\n",
    "# Example usage\n",
    "arr = [64, 25, 12, 22, 11]\n",
    "selection_sort(arr)\n",
    "print(\"Selection sort:\", arr)"
   ]
  },
  {
   "cell_type": "markdown",
   "metadata": {},
   "source": [
    "### Quick Sort <a id=\"quick-sort\"></a>\n",
    "\n",
    "_Quick Sort_ is a highly efficient sorting algorithm and is based on the divide-and-conquer principle. It is able to sort large datasets significantly faster than similar algorithms, such as bubble sort, selection sort, and insertion sort, especially when the data is random. Quick Sort is also known as \"partition-exchange sort.\"\n",
    "\n",
    "_How Quick Sort Works:_\n",
    "\n",
    "1. **Choose a \"pivot\" element** from the array. The choice of pivot can vary—common methods include choosing the first element, the last element, the median element, or a random element.\n",
    "\n",
    "2. **Partition the array** into two sub-arrays:\n",
    "   - Elements less than or equal to the pivot.\n",
    "   - Elements greater than the pivot.\n",
    "\n",
    "   The partitioning step rearranges the array so that all elements with values less than the pivot come before the pivot, while all elements with values greater than the pivot come after it. After this step, the pivot is in its final position.\n",
    "\n",
    "3. **Recursively apply the above steps** to the sub-array of elements with smaller values and the sub-array of elements with greater values.\n",
    "\n",
    "The recursion ends when the sub-array has fewer than two elements, meaning that the entire array becomes sorted.\n",
    "\n",
    "_Complexity:_\n",
    "\n",
    "- **Time Complexity**:\n",
    "   - **Best and Average Case**: The time complexity of Quick Sort is _O(n log n)_ in the best and average cases. These cases occur when the pivot element divides the list into two roughly equal halves, leading to a logarithmic number of levels of recursion.\n",
    "   - **Worst Case**: The worst-case time complexity of Quick Sort is _O(n^2)_. This scenario occurs when the pivot element is the smallest or largest element of the list, leading to one sub-array with _n-1_ elements and the other with _0_ elements, which results in quadratic performance. However, this worst-case scenario can be mitigated with good pivot selection strategies.\n",
    "- **Space Complexity**: _O(log n)_ in the best case due to the space used on the stack during recursion. In the worst case, it can grow to _O(n)_, depending on the implementation of the algorithm and the depth of the recursion stack."
   ]
  },
  {
   "cell_type": "code",
   "execution_count": 4,
   "metadata": {},
   "outputs": [
    {
     "name": "stdout",
     "output_type": "stream",
     "text": [
      "Quick sort in place: [1, 5, 7, 8, 9, 10]\n"
     ]
    }
   ],
   "source": [
    "# Quick sort in place (more efficient in terms of memory)\n",
    "\n",
    "\n",
    "def quick_sort(arr, low, high):\n",
    "    if low < high:\n",
    "        # pi is partitioning index, arr[pi] is now at right place\n",
    "        pi = partition(arr, low, high)\n",
    "\n",
    "        # Separately sort elements before partition and after partition\n",
    "        quick_sort(arr, low, pi - 1)\n",
    "        quick_sort(arr, pi + 1, high)\n",
    "\n",
    "\n",
    "def partition(arr, low, high):\n",
    "    pivot = arr[high]  # pivot\n",
    "    i = (\n",
    "        low - 1\n",
    "    )  # Index of smaller element and indicates the right position of pivot found so far\n",
    "\n",
    "    for j in range(low, high):\n",
    "        # If current element is smaller than the pivot\n",
    "        if arr[j] < pivot:\n",
    "            i = i + 1\n",
    "            arr[i], arr[j] = arr[j], arr[i]\n",
    "\n",
    "    arr[i + 1], arr[high] = arr[high], arr[i + 1]\n",
    "    return i + 1\n",
    "\n",
    "\n",
    "# Example usage\n",
    "arr = [10, 7, 8, 9, 1, 5]\n",
    "n = len(arr)\n",
    "quick_sort(arr, 0, n - 1)\n",
    "print(\"Quick sort in place:\", arr)"
   ]
  },
  {
   "cell_type": "code",
   "execution_count": 5,
   "metadata": {},
   "outputs": [
    {
     "name": "stdout",
     "output_type": "stream",
     "text": [
      "Quick sort: [1, 1, 2, 3, 6, 8, 10]\n"
     ]
    }
   ],
   "source": [
    "# Recursive implementation of the quick sort algorithm\n",
    "\n",
    "\n",
    "def quick_sort(arr):\n",
    "    # Base case: arrays with 0 or 1 element are already sorted\n",
    "    if len(arr) <= 1:\n",
    "        return arr\n",
    "\n",
    "    # Recursive case\n",
    "    pivot = arr[len(arr) // 2]\n",
    "\n",
    "    left = [x for x in arr if x < pivot]  # All elements less than pivot\n",
    "    middle = [x for x in arr if x == pivot]  # All elements equal to pivot\n",
    "    right = [x for x in arr if x > pivot]  # All elements greater than pivot\n",
    "\n",
    "    return quick_sort(left) + middle + quick_sort(right)\n",
    "\n",
    "\n",
    "# Example usage\n",
    "arr = [3, 6, 8, 10, 1, 2, 1]\n",
    "sorted_arr = quick_sort(arr)\n",
    "print(\"Quick sort:\", sorted_arr)"
   ]
  },
  {
   "cell_type": "markdown",
   "metadata": {},
   "source": [
    "### Merge Sort <a id=\"merge-sort\"></a>\n",
    "\n",
    "_Merge Sort_ is a divide-and-conquer algorithm that divides the input array into two halves, recursively sorts the two halves, and then merges the two sorted halves. The main advantage of Merge Sort is its consistent _O(n log n)_ performance for sorting, making it efficient for large datasets. It's also stable, which means it preserves the input order of equal elements in the sorted output, an important property for certain applications.\n",
    "\n",
    "_How Merge Sort Works:_\n",
    "\n",
    "1. **Divide**: The array is divided into two halves (sub-arrays), and this process is repeated for each half until there are sub-arrays that can no longer be divided - essentially, when a sub-array has only one element.\n",
    "2. **Conquer**: Each pair of elements is then merged back together in a sorted order. This step is recursively applied, merging smaller sorted arrays into larger sorted arrays until the whole array is merged and sorted.\n",
    "3. **Merge**: The merging of two sorted arrays is accomplished through a merge function. This function compares the elements of the arrays and inserts the smaller element into the resulting array, continuing this process until all elements in the two arrays have been merged.\n",
    "\n",
    "_Complexity:_\n",
    "\n",
    "- **Time Complexity**: _O(n log n)_, where _n_ is the number of elements in the array. This time complexity arises because the array is split into halves (which takes _log n_ splits), and each split requires merging an n-length list.\n",
    "- **Space Complexity**: _O(n)_, due to the temporary arrays used in the merge step."
   ]
  },
  {
   "cell_type": "code",
   "execution_count": 6,
   "metadata": {},
   "outputs": [
    {
     "name": "stdout",
     "output_type": "stream",
     "text": [
      "Merge sort: [5, 6, 7, 11, 12, 13]\n"
     ]
    }
   ],
   "source": [
    "def merge_sort(arr):\n",
    "    if len(arr) > 1:\n",
    "        mid = len(arr) // 2  # Finding the mid of the array\n",
    "        L = arr[:mid]  # Dividing the array elements into 2 halves\n",
    "        R = arr[mid:]\n",
    "\n",
    "        merge_sort(L)  # Sorting the first half\n",
    "        merge_sort(R)  # Sorting the second half\n",
    "\n",
    "        i = j = k = 0\n",
    "\n",
    "        # Copy data to temp arrays L[] and R[]\n",
    "        while i < len(L) and j < len(R):\n",
    "            if L[i] < R[j]:\n",
    "                arr[k] = L[i]\n",
    "                i += 1\n",
    "            else:\n",
    "                arr[k] = R[j]\n",
    "                j += 1\n",
    "            k += 1\n",
    "\n",
    "        # Checking if any element was left\n",
    "        while i < len(L):\n",
    "            arr[k] = L[i]\n",
    "            i += 1\n",
    "            k += 1\n",
    "\n",
    "        while j < len(R):\n",
    "            arr[k] = R[j]\n",
    "            j += 1\n",
    "            k += 1\n",
    "\n",
    "\n",
    "# Example usage\n",
    "arr = [12, 11, 13, 5, 6, 7]\n",
    "merge_sort(arr)\n",
    "print(\"Merge sort:\", arr)"
   ]
  },
  {
   "cell_type": "markdown",
   "metadata": {},
   "source": [
    "### Heap Sort <a id=\"heap-sort\"></a>\n",
    "\n",
    "_Heap Sort_ is a comparison-based sorting algorithm that uses a binary heap data structure to create a sorted array. Unlike other sorting algorithms like bubble sort, selection sort, and insertion sort, heap sort has a better worst-case time complexity of _O(n log n)_. The key idea behind heap sort is to first transform the list into a max heap (or min heap, depending on the sorting order required), a complete binary tree where the largest (or smallest) element is at the root. The algorithm then repeatedly removes the largest (or smallest) element from the heap and rebuilds the heap, until all elements are removed from the heap and inserted into the array in sorted order.\n",
    "\n",
    "_How Heap Sort Works:_\n",
    "\n",
    "1. **Build a Max Heap (or Min Heap)** from the input data. In a Max Heap, the largest element is at the root. The heap is represented as an array, where for any given index i, its children are at indices 2i+1 and 2i+2.\n",
    "\n",
    "2. **Heapify**: The process of reshaping a binary tree into a Heap data structure. Each parent node is recursively checked and made sure that the parent node is larger (or smaller) than the child nodes.\n",
    "\n",
    "3. **Sort**:\n",
    "   - The root of the heap (the largest or smallest element) is swapped with the last element of the heap.\n",
    "   - Reduce the size of the heap by 1, effectively removing the last element from the heap.\n",
    "   - Heapify the root of the tree.\n",
    "   - Repeat the above steps until the heap size is 1.\n",
    "\n",
    "_Complexity:_\n",
    "\n",
    "- **Time Complexity**: The time complexity of Heap Sort is _O(n log n)_ in all cases. This is because the initial build of the heap is _O(n)_, and each of the _n_ removals of the largest remaining element from the heap and subsequent heapify is _O(log n)_.\n",
    "- **Space Complexity**: _O(1)_, as Heap Sort sorts the array in place with only a constant amount of extra storage space."
   ]
  },
  {
   "cell_type": "code",
   "execution_count": 7,
   "metadata": {},
   "outputs": [
    {
     "name": "stdout",
     "output_type": "stream",
     "text": [
      "Heap sort: [5, 6, 7, 11, 12, 13]\n"
     ]
    }
   ],
   "source": [
    "def heapify(arr, n, i):\n",
    "    largest = i  # Initialize largest as root\n",
    "    l = 2 * i + 1  # left = 2*i + 1\n",
    "    r = 2 * i + 2  # right = 2*i + 2\n",
    "\n",
    "    # See if left child of root exists and is greater than root\n",
    "    if l < n and arr[l] > arr[largest]:\n",
    "        largest = l\n",
    "\n",
    "    # See if right child of root exists and is greater than root\n",
    "    if r < n and arr[r] > arr[largest]:\n",
    "        largest = r\n",
    "\n",
    "    # Change root, if needed\n",
    "    if largest != i:\n",
    "        arr[i], arr[largest] = arr[largest], arr[i]  # swap\n",
    "\n",
    "        # Heapify the root.\n",
    "        heapify(arr, n, largest)\n",
    "\n",
    "\n",
    "def heapSort(arr):\n",
    "    n = len(arr)\n",
    "\n",
    "    # Build a maxheap.\n",
    "    for i in range(n // 2 - 1, -1, -1):\n",
    "        heapify(arr, n, i)\n",
    "\n",
    "    # One by one extract elements\n",
    "    for i in range(n - 1, 0, -1):\n",
    "        arr[i], arr[0] = arr[0], arr[i]  # swap\n",
    "        heapify(arr, i, 0)\n",
    "\n",
    "\n",
    "# Example usage\n",
    "arr = [12, 11, 13, 5, 6, 7]\n",
    "heapSort(arr)\n",
    "print(\"Heap sort:\", arr)"
   ]
  },
  {
   "cell_type": "markdown",
   "metadata": {},
   "source": [
    "### Counting Sort <a id=\"counting-sort\"></a>\n",
    "\n",
    "_Counting Sort_ is a non-comparison-based sorting algorithm that sorts the elements of an array by counting the number of occurrences of each unique element in the array. The algorithm then uses these counts to determine the position of each element in the output array. Counting Sort works best when the range of potential items in the input array (the difference between the maximum and minimum elements) is not significantly larger than the number of items. It is often used as a subroutine in more complex sorting algorithms, like Radix Sort, for sorting digits.\n",
    "\n",
    "_How Counting Sort Works:_\n",
    "\n",
    "1. **Find the Range**: Determine the minimum and maximum values in the input array.\n",
    "2. **Count Occurrences**: Create a count array to store the count of each unique value in the input array. The size of the count array is determined by the range of input values.\n",
    "3. **Cumulative Count**: Modify the count array by adding the sum of the previous counts. This step transforms the count array into a cumulative count array, which indicates the position of each element in the sorted array.\n",
    "4. **Place the Elements**: Iterate through the input array, place each element in its correct position in the output array using the cumulative count array, and decrease the count by one for each element processed.\n",
    "5. **Copy to Original Array** (optional): If sorting needs to be done in-place, the sorted elements from the output array can be copied back to the original array.\n",
    "\n",
    "_Complexity:_\n",
    "\n",
    "- **Time Complexity**: The time complexity of Counting Sort is _O(n + k)_, where _n_ is the number of elements in the input array, and _k_ is the range of the input. The efficiency of Counting Sort depends heavily on the value of _k_ (the difference between the maximum and minimum elements in the array).\n",
    "- **Space Complexity**: _O(k)_, where _k_ is the range of the input. Additional space is required for the count array and the output array."
   ]
  },
  {
   "cell_type": "code",
   "execution_count": 8,
   "metadata": {},
   "outputs": [
    {
     "name": "stdout",
     "output_type": "stream",
     "text": [
      "Counting sort: [1, 2, 2, 3, 3, 4, 8]\n"
     ]
    }
   ],
   "source": [
    "def counting_sort(arr):\n",
    "    # Find the maximum element in the array\n",
    "    max_val = max(arr)\n",
    "    min_val = min(arr)\n",
    "    range_of_elements = max_val - min_val + 1\n",
    "\n",
    "    # Create count array and initialize all elements to 0\n",
    "    count = [0] * range_of_elements\n",
    "    output = [0] * len(arr)\n",
    "\n",
    "    # Store the count of each element in count array\n",
    "    for i in range(0, len(arr)):\n",
    "        count[arr[i] - min_val] += 1\n",
    "\n",
    "    # Change count[i] so that count[i] contains the actual position\n",
    "    # of this element in the output array\n",
    "    for i in range(1, len(count)):\n",
    "        count[i] += count[i - 1]\n",
    "\n",
    "    # Build the output array\n",
    "    for i in range(len(arr) - 1, -1, -1):\n",
    "        output[count[arr[i] - min_val] - 1] = arr[i]\n",
    "        count[arr[i] - min_val] -= 1\n",
    "\n",
    "    # Copy the sorted elements into the original array\n",
    "    for i in range(0, len(arr)):\n",
    "        arr[i] = output[i]\n",
    "\n",
    "\n",
    "# Example usage\n",
    "arr = [4, 2, 2, 8, 3, 3, 1]\n",
    "counting_sort(arr)\n",
    "print(\"Counting sort:\", arr)"
   ]
  },
  {
   "cell_type": "markdown",
   "metadata": {},
   "source": [
    "### Radix Sort <a id=\"radix-sort\"></a>\n",
    "\n",
    "_Radix Sort_ is a non-comparison-based sorting algorithm that sorts numbers by processing individual digits. Unlike other sorting algorithms that compare entire numbers to each other, Radix Sort processes the integers digit by digit, starting from the least significant digit (LSD) to the most significant digit (MSD), or vice versa, depending on the implementation. It uses counting sort (or sometimes other stable sort algorithms) as a subroutine to sort the elements based on each digit.\n",
    "\n",
    "Because it processes digits and not the whole numbers, Radix Sort has unique characteristics and performance considerations.\n",
    "\n",
    "_How Radix Sort Works:_\n",
    "\n",
    "1. **Counting Sort by Digit**: Radix Sort works by performing multiple passes of Counting Sort, one for each digit. In each pass, it sorts the numbers based on the current digit being considered, starting from the least significant digit (LSD strategy) or the most significant digit (MSD strategy).\n",
    "   \n",
    "2. **Stable Sorting**: It's crucial that the sorting algorithm used for sorting digits is stable. A stable sort ensures that two items with the same value are ordered in the same sequence as they appear in the input. This property is essential for preserving the order of digits sorted in previous iterations as Radix Sort progresses through each digit.\n",
    "\n",
    "3. **Repeat for Each Digit**: After sorting by the least significant digit, the algorithm moves to the next digit and performs a sort on that digit, taking into account the stability of elements sorted in previous passes. This process repeats, moving through digits, until the most significant digit is sorted.\n",
    "\n",
    "_Complexity:_\n",
    "\n",
    "- **Time Complexity**: The time complexity of Radix Sort is _O(d(n + k))_, where:\n",
    "  - _n_ is the number of elements,\n",
    "  - _k_ is the range of the input (the number of distinct digits or keys),\n",
    "  - _d_ is the number of digits in the longest number.\n",
    "\n",
    "  The efficiency of Radix Sort can be very good if the number of digits (_d_) is relatively small compared to the input size (_n_).\n",
    "\n",
    "- **Space Complexity**: _O(n + k)_, due to the storage needed for the counting process (in Counting Sort) and the queue or temporary array used for collecting digits."
   ]
  },
  {
   "cell_type": "code",
   "execution_count": 9,
   "metadata": {},
   "outputs": [
    {
     "name": "stdout",
     "output_type": "stream",
     "text": [
      "Radix sort: [1, 23, 45, 121, 432, 564, 788]\n"
     ]
    }
   ],
   "source": [
    "def counting_sort_for_radix(input_list, place):\n",
    "    size = len(input_list)\n",
    "    output = [0] * size\n",
    "    count = [0] * 10\n",
    "\n",
    "    # Calculate count of elements\n",
    "    for i in range(size):\n",
    "        index = input_list[i] // place\n",
    "        count[index % 10] += 1\n",
    "\n",
    "    # Calculate cumulative count\n",
    "    for i in range(1, 10):\n",
    "        count[i] += count[i - 1]\n",
    "\n",
    "    # Place the elements in sorted order\n",
    "    i = size - 1\n",
    "    while i >= 0:\n",
    "        index = input_list[i] // place\n",
    "        output[count[index % 10] - 1] = input_list[i]\n",
    "        count[index % 10] -= 1\n",
    "        i -= 1\n",
    "\n",
    "    for i in range(size):\n",
    "        input_list[i] = output[i]\n",
    "\n",
    "\n",
    "def radix_sort(input_list):\n",
    "    # Find the maximum number to know the number of digits\n",
    "    max_num = max(input_list)\n",
    "    place = 1\n",
    "    # Apply counting sort to sort elements based on place value\n",
    "    while max_num // place > 0:\n",
    "        counting_sort_for_radix(input_list, place)\n",
    "        place *= 10\n",
    "\n",
    "\n",
    "# Example usage\n",
    "arr = [121, 432, 564, 23, 1, 45, 788]\n",
    "radix_sort(arr)\n",
    "print(\"Radix sort:\", arr)"
   ]
  },
  {
   "cell_type": "markdown",
   "metadata": {},
   "source": [
    "### Common Sorting Algorithms Time Complexities <a id=\"common-sorting-algorithms-time-complexities\"></a>\n",
    "\n",
    "Here are the time complexities for common sorting algorithms:\n",
    "\n",
    "| Algorithm              | Best      | Average   | Worst     | Space     | Stable    | Notes |\n",
    "|------------------------|-----------|-----------|-----------|-----------|-----------|-------|\n",
    "| Bubble Sort            | O(n)      | O(n^2)    | O(n^2)    | O(1)      | Yes       |       |\n",
    "| Insertion Sort         | O(n)      | O(n^2)    | O(n^2)    | O(1)      | Yes       |       |\n",
    "| Selection Sort         | O(n^2)    | O(n^2)    | O(n^2)    | O(1)      | No        |       |\n",
    "| Quick Sort             | O(n log n)| O(n log n)| O(n^2)    | O(log n)  | No        | Quicksort is usually done in place with O(log n) stack space. |\n",
    "| Merge Sort             | O(n log n)| O(n log n)| O(n log n)| O(n)      | Yes       |       |\n",
    "| Heap Sort              | O(n log n)| O(n log n)| O(n log n)| O(1)      | No        |       |\n",
    "| Counting Sort          | O(n + k)  | O(n + k)  | O(n + k)  | O(n + k)  | Yes       | k is the range of the non-negative key values. |\n",
    "| Radix Sort             | O(nk)     | O(nk)     | O(nk)     | O(n + k)  | Yes       | k is the number of passes of the sort. |\n",
    "\n",
    "Stability: A sorting algorithm is said to be stable if two objects with equal keys appear in the same order in sorted output as they appear in the input array."
   ]
  },
  {
   "cell_type": "markdown",
   "metadata": {},
   "source": [
    "## 3. Searching Algorithms <a id=\"searching-algorithms\"></a>\n",
    "\n",
    "_Searching algorithms_ are designed to retrieve information or find an element from a data structure. The efficiency of a searching algorithm is crucial, especially when dealing with large datasets. There are various searching algorithms, each with its own strengths and weaknesses. The most commonly discussed searching algorithms are Linear Search and Binary Search."
   ]
  },
  {
   "cell_type": "markdown",
   "metadata": {},
   "source": [
    "### Linear Search <a id=\"linear-search\"></a>\n",
    "\n",
    "_Linear Search_, also known as Sequential Search, is the simplest searching algorithm. It scans each element in the list sequentially to find a match with the target value.\n",
    "\n",
    "_How Linear Search Works:_\n",
    "\n",
    "1. Start from the first element of the array.\n",
    "2. Compare the current element with the target value.\n",
    "3. If the current element matches the target value, return the index of the element.\n",
    "4. If the current element does not match, move to the next element.\n",
    "5. Repeat steps 2-4 until the element is found or the end of the array is reached.\n",
    "6. If the element is not found, return an indication that the search was unsuccessful (e.g., -1).\n",
    "\n",
    "_Complexity:_\n",
    "\n",
    "- **Time Complexity**: _O(n)_, where _n_ is the number of elements in the array. In the worst case, the algorithm scans the entire array.\n",
    "- **Space Complexity**: _O(1)_, since it requires a constant amount of space."
   ]
  },
  {
   "cell_type": "code",
   "execution_count": 10,
   "metadata": {},
   "outputs": [
    {
     "name": "stdout",
     "output_type": "stream",
     "text": [
      "Element found at index: 3\n"
     ]
    }
   ],
   "source": [
    "def linear_search(arr, x):\n",
    "    for i in range(len(arr)):\n",
    "        if arr[i] == x:\n",
    "            return i\n",
    "    return -1\n",
    "\n",
    "\n",
    "# Example usage\n",
    "arr = [2, 3, 4, 10, 40]\n",
    "x = 10\n",
    "print(\"Element found at index:\", linear_search(arr, x))"
   ]
  },
  {
   "cell_type": "markdown",
   "metadata": {},
   "source": [
    "### Binary Search <a id=\"binary-search\"></a>\n",
    "\n",
    "_Binary Search_ is a much faster algorithm than Linear Search but requires that the array be sorted beforehand. It works by repeatedly dividing in half the portion of the list that could contain the item, until narrowing down the possible locations to just one.\n",
    "\n",
    "_How Binary Search Works:_\n",
    "\n",
    "1. Determine the middle element of the array.\n",
    "2. If the middle element is equal to the target value, the search is complete.\n",
    "3. If the target value is less than the middle element, repeat the search on the left half of the array.\n",
    "4. If the target value is greater than the middle element, repeat the search on the right half of the array.\n",
    "5. Continue this process until the element is found or the subarray becomes empty.\n",
    "6. If the element is not found, return an indication of failure.\n",
    "\n",
    "_Complexity_:\n",
    "\n",
    "- **Time Complexity**: _O(log n)_, where n is the number of elements in the array. This is because the algorithm splits the search area by half with each step.\n",
    "- **Space Complexity**: _O(1)_ for iterative implementations and _O(log n)_ for recursive implementations due to the call stack."
   ]
  },
  {
   "cell_type": "code",
   "execution_count": 11,
   "metadata": {},
   "outputs": [
    {
     "name": "stdout",
     "output_type": "stream",
     "text": [
      "Element found at index: 3\n"
     ]
    }
   ],
   "source": [
    "def binary_search(arr, x):\n",
    "    low, high = 0, len(arr) - 1\n",
    "    while low <= high:\n",
    "        mid = low + (high - low) // 2  # To avoid overflow\n",
    "        # Check if x is present at mid\n",
    "        if arr[mid] == x:\n",
    "            return mid\n",
    "        # If x is greater, ignore left half\n",
    "        elif arr[mid] < x:\n",
    "            low = mid + 1\n",
    "        # If x is smaller, ignore right half\n",
    "        else:\n",
    "            high = mid - 1\n",
    "    # If we reach here, the element was not present\n",
    "    return -1\n",
    "\n",
    "\n",
    "# Example usage\n",
    "arr = [2, 3, 4, 10, 40]\n",
    "x = 10\n",
    "print(\"Element found at index:\", binary_search(arr, x))"
   ]
  },
  {
   "cell_type": "markdown",
   "metadata": {},
   "source": [
    "## 4. Graph Algorithms <a id=\"graph-algorithms\"></a>\n",
    "\n",
    "_Graph algorithms_ are a set of instructions for traversing, searching, and manipulating graphs. Graphs are a fundamental data structure in computer science and are used to model a wide variety of problems, including computer networks, social networks, transportation networks, and more. There are many different types of graph algorithms, each with its own set of applications and use cases."
   ]
  },
  {
   "cell_type": "markdown",
   "metadata": {},
   "source": [
    "### Depth-First Search (DFS) <a id=\"depth-first-search\"></a>\n",
    "\n",
    "_Depth-First Search_ (DFS) is a fundamental algorithm used to explore nodes and edges of a graph. It's a recursive algorithm that uses the idea of backtracking. It involves exhaustive searches of all the nodes by going ahead, if possible, else by backtracking.\n",
    "\n",
    "_Here’s how DFS works:_\n",
    "\n",
    "1. **Start by picking a node** (starting node) and mark the node as visited.\n",
    "2. **Explore an adjacent unvisited node**, mark it as visited, and recursively apply the same process to the newly visited node.\n",
    "3. **Backtrack** to explore other unvisited nodes and repeat the process until all nodes are visited or the specific condition is met.\n",
    "\n",
    "DFS can be implemented using recursion or with a stack. The recursive approach directly leverages the function call stack, while the iterative approach uses an explicit stack data structure to hold nodes to visit next.\n",
    "\n",
    "_Properties:_\n",
    "\n",
    "- DFS explores as deep as possible along each branch before backtracking, making it useful for checking connectivity and finding paths in a maze or puzzle.\n",
    "- It can be used to generate a maze or solve puzzles where you need to find a feasible path.\n",
    "- DFS is also a basis for many algorithms like Topological Sorting, Finding Connected Components, and Solving Puzzles such as the 8 queens problem.\n",
    "\n",
    "_Complexity:_\n",
    "\n",
    "- **Time Complexity**: _O(V + E)_ for an adjacency list representation, where _V_ is the number of vertices and _E_ is the number of edges. In the case of an adjacency matrix representation, the time complexity is _O(V^2)_.\n",
    "- **Space Complexity**: _O(V)_ due to the storage needed for the visited mark and the stack or recursion stack."
   ]
  },
  {
   "cell_type": "code",
   "execution_count": 12,
   "metadata": {},
   "outputs": [
    {
     "name": "stdout",
     "output_type": "stream",
     "text": [
      "A\n",
      "B\n",
      "D\n",
      "E\n",
      "G\n",
      "C\n",
      "F\n"
     ]
    }
   ],
   "source": [
    "graph = {\n",
    "    \"A\": [\"B\", \"C\"],\n",
    "    \"B\": [\"D\", \"E\"],\n",
    "    \"C\": [\"F\"],\n",
    "    \"D\": [],\n",
    "    \"E\": [\"G\"],\n",
    "    \"F\": [],\n",
    "    \"G\": [],\n",
    "}\n",
    "\n",
    "visited = set()  # Set to keep track of visited nodes.\n",
    "\n",
    "\n",
    "def dfs(visited, graph, node):  # Function for DFS\n",
    "    if node not in visited:\n",
    "        print(node)\n",
    "        visited.add(node)\n",
    "        for neighbour in graph[node]:\n",
    "            dfs(visited, graph, neighbour)\n",
    "\n",
    "\n",
    "# Driver Code\n",
    "dfs(visited, graph, \"A\")"
   ]
  },
  {
   "cell_type": "markdown",
   "metadata": {},
   "source": [
    "#### Preorder, Inorder, Postorder Traversal <a id=\"preorder-inorder-postorder\"></a>\n",
    "\n",
    "In the context of trees, DFS can be used to traverse the nodes in different orders, such as Preorder, Inorder, and Postorder. These traversals are used to visit each node in a tree exactly once, and they differ in the order in which they visit the nodes.\n",
    "\n",
    "- **Preorder Traversal**: In a Preorder traversal, the nodes are recursively visited in this order: root, left, right. This means that the root node is visited first, then the left subtree, and finally the right subtree.\n",
    "\n",
    "- **Inorder Traversal**: In an Inorder traversal, the nodes are recursively visited in this order: left, root, right. This means that the left subtree is visited first, then the root node, and finally the right subtree.\n",
    "\n",
    "- **Postorder Traversal**: In a Postorder traversal, the nodes are recursively visited in this order: left, right, root. This means that the left subtree is visited first, then the right subtree, and finally the root node."
   ]
  },
  {
   "cell_type": "code",
   "execution_count": 13,
   "metadata": {},
   "outputs": [
    {
     "name": "stdout",
     "output_type": "stream",
     "text": [
      "Preorder traversal:\n",
      "A B D E C F \n",
      "Inorder traversal:\n",
      "D B E A F C \n",
      "Postorder traversal:\n",
      "D E B F C A "
     ]
    }
   ],
   "source": [
    "def preorder_traversal(root):\n",
    "    if root:\n",
    "        print(root.value, end=\" \")\n",
    "        preorder_traversal(root.left)\n",
    "        preorder_traversal(root.right)\n",
    "\n",
    "\n",
    "def inorder_traversal(root):\n",
    "    if root:\n",
    "        inorder_traversal(root.left)\n",
    "        print(root.value, end=\" \")\n",
    "        inorder_traversal(root.right)\n",
    "\n",
    "\n",
    "def postorder_traversal(root):\n",
    "    if root:\n",
    "        postorder_traversal(root.left)\n",
    "        postorder_traversal(root.right)\n",
    "        print(root.value, end=\" \")\n",
    "\n",
    "\n",
    "class TreeNode:\n",
    "    def __init__(self, value):\n",
    "        self.value = value\n",
    "        self.left = None\n",
    "        self.right = None\n",
    "\n",
    "\n",
    "# Example tree\n",
    "root = TreeNode(\"A\")\n",
    "root.left = TreeNode(\"B\")\n",
    "root.right = TreeNode(\"C\")\n",
    "root.left.left = TreeNode(\"D\")\n",
    "root.left.right = TreeNode(\"E\")\n",
    "root.right.left = TreeNode(\"F\")\n",
    "\n",
    "print(\"Preorder traversal:\")\n",
    "preorder_traversal(root)\n",
    "\n",
    "print(\"\\nInorder traversal:\")\n",
    "inorder_traversal(root)\n",
    "\n",
    "print(\"\\nPostorder traversal:\")\n",
    "postorder_traversal(root)"
   ]
  },
  {
   "cell_type": "markdown",
   "metadata": {},
   "source": [
    "### Breadth-First Search (BFS) <a id=\"breadth-first-search\"></a>\n",
    "\n",
    "_Breadth-First Search_ (BFS) is a fundamental algorithm for searching or traversing tree or graph data structures. It explores the neighbor nodes at the present depth prior to moving on to the nodes at the next depth level. BFS is particularly useful for finding the shortest path on unweighted graphs, as it guarantees the minimum number of edges that must be traversed to reach a node from the starting point.\n",
    "\n",
    "_How BFS Works:_\n",
    "\n",
    "1. **Start at the Selected Node**: This node is usually given as the \"start\" in the problem statement. If not, any node can be chosen as the starting point.\n",
    "\n",
    "2. **Explore Neighbors**: Visit all the adjacent nodes of the starting node. For graph data structures, an adjacency list or matrix can be used to find neighbors.\n",
    "\n",
    "3. **Mark as Visited**: Each visited node is marked to prevent revisiting and to keep track of visited nodes.\n",
    "\n",
    "4. **Use a Queue**: BFS uses a queue to keep track of the nodes that need to be explored. Nodes are dequeued (removed from the queue) at each step of the algorithm, and their unvisited neighbors are enqueued (added to the queue).\n",
    "\n",
    "5. **Repeat Until Queue is Empty**: The process continues until there are no more nodes to visit (i.e., the queue is empty).\n",
    "\n",
    "_Properties of BFS:_\n",
    "\n",
    "- **Level by Level Traversal**: BFS traverses the graph level by level, moving from one level of depth to the next.\n",
    "- **Shortest Path**: In unweighted graphs, BFS finds the shortest path from the start node to every other node in terms of the number of edges.\n",
    "- **Non-Recursive**: Unlike Depth-First Search (DFS), BFS is non-recursive and uses a queue to manage the nodes that need to be explored.\n",
    "- **Detecting Cycles**: BFS can be used to detect cycles in an undirected graph.\n",
    "\n",
    "_Complexity:_\n",
    "\n",
    "- **Time Complexity**: _O(V + E)_, where _V_ is the number of vertices and _E_ is the number of edges in the graph. This is because every vertex and every edge will be explored in the worst case.\n",
    "- **Space Complexity**: _O(V)_, as it needs to store the visitation status of nodes and the queue, which in the worst case might need to hold all vertices."
   ]
  },
  {
   "cell_type": "code",
   "execution_count": 14,
   "metadata": {},
   "outputs": [
    {
     "name": "stdout",
     "output_type": "stream",
     "text": [
      "BFS traversal starting from vertex 'A':\n",
      "A B C D E F G "
     ]
    }
   ],
   "source": [
    "from collections import deque\n",
    "\n",
    "graph = {\n",
    "    \"A\": [\"B\", \"C\"],\n",
    "    \"B\": [\"D\", \"E\"],\n",
    "    \"C\": [\"F\"],\n",
    "    \"D\": [],\n",
    "    \"E\": [\"G\"],\n",
    "    \"F\": [],\n",
    "    \"G\": [],\n",
    "}\n",
    "\n",
    "\n",
    "def bfs(graph, start):\n",
    "    visited = set()  # Set to keep track of visited nodes.\n",
    "    queue = deque([start])  # Initialize a queue\n",
    "\n",
    "    while queue:\n",
    "        vertex = queue.popleft()  # Remove from queue\n",
    "        if vertex not in visited:\n",
    "            visited.add(vertex)\n",
    "            print(vertex, end=\" \")\n",
    "\n",
    "            # Add neighbors of the current vertex to the queue\n",
    "            for neighbor in graph[vertex]:\n",
    "                if neighbor not in visited:\n",
    "                    queue.append(neighbor)\n",
    "\n",
    "\n",
    "# Example usage\n",
    "print(\"BFS traversal starting from vertex 'A':\")\n",
    "bfs(graph, \"A\")"
   ]
  },
  {
   "cell_type": "markdown",
   "metadata": {},
   "source": [
    "### Dijkstra's Algorithm <a id=\"dijkstras\"></a>\n",
    "\n",
    "_Dijkstra's algorithm_ is a famous graph search algorithm that solves the shortest path problem for a graph with non-negative edge weights, producing a shortest path tree. This algorithm is widely used in networking for finding the shortest path between nodes in a network, such as the Internet routing protocols, and for solving various problems in geographical mapping, planning, and logistics.\n",
    "\n",
    "_How Dijkstra's Algorithm Works:_\n",
    "\n",
    "The algorithm operates on the principle of relaxation, where an approximation to the correct distance is gradually replaced by more accurate values until the shortest distance is reached.\n",
    "\n",
    "1. **Initialization**: Start with the initial node and assign it a distance of zero. For all other nodes, set the initial distance to infinity. Keep a priority queue (or a min-heap) of all nodes in the graph, where the key of each node is its distance from the starting node.\n",
    "\n",
    "2. **Relaxation**: Update the distance to each neighboring vertex of the current node. If the sum of the distance to the current node and the weight of the edge to a neighbor is less than the known distance to this neighbor, update the neighbor's distance with the smaller value. After updating the distances, if there was a change, reorder the priority queue.\n",
    "\n",
    "3. **Choosing the next node**: From the priority queue, select and remove the node with the smallest distance (initially, this will be the starting node) and mark it as visited. This step guarantees that each node is processed exactly once and that when a node is reached, the shortest distance to it has already been found.\n",
    "\n",
    "4. **Repeat**: Repeat the relaxation process for all unvisited neighbors of the current node. Continue selecting and removing the next closest node from the priority queue, marking it as visited, and performing relaxation on its neighbors.\n",
    "\n",
    "5. **Termination**: The algorithm terminates when the priority queue becomes empty, meaning all reachable nodes have been visited and the shortest path to each has been determined.\n",
    "\n",
    "_Properties:_\n",
    "\n",
    "- Dijkstra's algorithm can find the shortest path from a starting node to all other nodes in the graph, not just a single destination.\n",
    "- The algorithm assumes that all edge weights are non-negative. This is because, with negative edge weights, a shorter path could potentially be found after a node has already been considered and marked as visited.\n",
    "- The performance of Dijkstra's algorithm can be significantly improved with a min-priority queue, typically implemented with a binary heap, Fibonacci heap, or other specialized heap structures.\n",
    "\n",
    "_Complexity:_\n",
    "\n",
    "- **Time Complexity**:\n",
    "  - With a simple min-priority queue, it is _O(V^2)_, where _V_ is the number of vertices.\n",
    "  - With a binary heap as the priority queue, it is _O((V + E) \\log V)_, where _E_ is the number of edges.\n",
    "  - With a Fibonacci heap, the time complexity improves to _O(V \\log V + E)_.\n",
    "- **Space Complexity**: _O(V)_ for the priority queue and _O(V + E)_ for the graph."
   ]
  },
  {
   "cell_type": "code",
   "execution_count": 15,
   "metadata": {},
   "outputs": [
    {
     "name": "stdout",
     "output_type": "stream",
     "text": [
      "{'A': 0, 'B': 1, 'C': 3, 'D': 4}\n"
     ]
    }
   ],
   "source": [
    "import heapq\n",
    "\n",
    "\n",
    "def dijkstra(graph, start):\n",
    "    # Initial distances are set to infinity\n",
    "    distances = {vertex: float(\"infinity\") for vertex in graph}\n",
    "    # The distance from start to itself is, of course, zero\n",
    "    distances[start] = 0\n",
    "\n",
    "    # Priority queue: stores vertices in the format (distance, vertex)\n",
    "    pq = [(0, start)]\n",
    "\n",
    "    while pq:\n",
    "        # Vertex with the smallest distance\n",
    "        current_distance, current_vertex = heapq.heappop(pq)\n",
    "\n",
    "        # Nodes can get added to the priority queue multiple times.\n",
    "        # We only process a vertex the first time we remove it from the priority queue.\n",
    "        if current_distance > distances[current_vertex]:\n",
    "            continue\n",
    "\n",
    "        for neighbor, weight in graph[current_vertex].items():\n",
    "            distance = current_distance + weight\n",
    "\n",
    "            # Only consider this new path if it's better than any path we've\n",
    "            # already found\n",
    "            if distance < distances[neighbor]:\n",
    "                distances[neighbor] = distance\n",
    "                heapq.heappush(pq, (distance, neighbor))\n",
    "\n",
    "    return distances\n",
    "\n",
    "\n",
    "# Example graph represented as an adjacency list\n",
    "graph = {\n",
    "    \"A\": {\"B\": 1, \"C\": 4},\n",
    "    \"B\": {\"A\": 1, \"C\": 2, \"D\": 5},\n",
    "    \"C\": {\"A\": 4, \"B\": 2, \"D\": 1},\n",
    "    \"D\": {\"B\": 5, \"C\": 1},\n",
    "}\n",
    "\n",
    "print(dijkstra(graph, \"A\"))"
   ]
  },
  {
   "cell_type": "markdown",
   "metadata": {},
   "source": [
    "### Bellman-Ford Algorithm <a id=\"bellman-ford\"></a>\n",
    "\n",
    "The _Bellman-Ford algorithm_ is a graph search algorithm that calculates the shortest paths from a single source vertex to all other vertices in a weighted digraph (directed graph). Unlike Dijkstra's algorithm, which only works with graphs without negative weight edges, the Bellman-Ford algorithm can handle graphs with negative edge weights, making it more versatile for certain applications. The algorithm can also detect negative weight cycles in the graph.\n",
    "\n",
    "_How the Bellman-Ford Algorithm Works:_\n",
    "\n",
    "1. **Initialization**: Start with the initial node and assign it a distance of zero. For all other nodes, set the initial distance to infinity.\n",
    "\n",
    "2. **Edge Relaxation**: Relax all the edges of the graph. For each edge _U -> V_ with weight _W_, if the distance to the destination node _V_ can be shortened by taking the edge _U -> V_, update the distance to _V_ to the new lower value (_distance[U] + W_). This step is repeated _|V| - 1_ times, where _|V|_ is the number of vertices in the graph.\n",
    "\n",
    "3. **Check for Negative Weight Cycles**: After _|V| - 1_ iterations, all shortest paths are found. However, if any edge can still be relaxed, it means there is a negative weight cycle in the graph. Such cycles can reduce the path length indefinitely, making it impossible to find the shortest path. The algorithm checks for this condition and reports if a negative cycle exists.\n",
    "\n",
    "_Properties:_\n",
    "\n",
    "- The Bellman-Ford algorithm is slower than Dijkstra's algorithm but more versatile, as it can handle graphs with negative weight edges and detect negative weight cycles.\n",
    "- It's particularly useful in applications like network routing protocols where not just the shortest paths but also the presence of negative cycles (indicative of routing loops) are of interest.\n",
    "\n",
    "_Complexity:_\n",
    "\n",
    "- **Time Complexity**: _O(VE)_, where _V_ is the number of vertices and _E_ is the number of edges in the graph. This is because, in the worst case, each edge is processed _|V| - 1_ times.\n",
    "- **Space Complexity**: _O(V)_, due to the storage needed for the distance table and predecessor table."
   ]
  },
  {
   "cell_type": "code",
   "execution_count": 16,
   "metadata": {},
   "outputs": [
    {
     "name": "stdout",
     "output_type": "stream",
     "text": [
      "{'A': 0, 'B': -1, 'C': 2, 'D': -2, 'E': 1}\n"
     ]
    }
   ],
   "source": [
    "def bellman_ford(graph, source):\n",
    "    # Step 1: Initialize distances from source to all vertices as infinite\n",
    "    # and distance to the source itself as 0\n",
    "    distance = {vertex: float(\"infinity\") for vertex in graph}\n",
    "    distance[source] = 0\n",
    "\n",
    "    # Step 2: Relax all edges |V| - 1 times\n",
    "    for _ in range(len(graph) - 1):\n",
    "        for u in graph:\n",
    "            for v, w in graph[u].items():\n",
    "                if distance[u] + w < distance[v]:\n",
    "                    distance[v] = distance[u] + w\n",
    "\n",
    "    # Step 3: Check for negative-weight cycles\n",
    "    for u in graph:\n",
    "        for v, w in graph[u].items():\n",
    "            if distance[u] + w < distance[v]:\n",
    "                print(\"Graph contains a negative weight cycle\")\n",
    "                return None\n",
    "\n",
    "    return distance\n",
    "\n",
    "\n",
    "# Example graph represented as an adjacency list\n",
    "graph = {\n",
    "    \"A\": {\"B\": -1, \"C\": 4},\n",
    "    \"B\": {\"C\": 3, \"D\": 2, \"E\": 2},\n",
    "    \"C\": {},\n",
    "    \"D\": {\"B\": 1, \"C\": 5},\n",
    "    \"E\": {\"D\": -3},\n",
    "}\n",
    "\n",
    "print(bellman_ford(graph, \"A\"))"
   ]
  },
  {
   "cell_type": "markdown",
   "metadata": {},
   "source": [
    "## 5. Problem Solving Methods <a id=\"problem-solving-methods\"></a>\n",
    "\n",
    "Problem-solving methods in the context of algorithms and programming involve strategies and approaches for tackling computational problems. These methods are foundational to developing efficient and effective solutions for a wide range of challenges in computer science and software development."
   ]
  },
  {
   "cell_type": "markdown",
   "metadata": {},
   "source": [
    "### Two Pointers <a id=\"two-pointers\"></a>\n",
    "\n",
    "_The Two Pointers technique_ is a strategy that uses two pointers to solve problems that involve arrays or lists. The technique is often used to optimize brute-force solutions by reducing the time complexity of the algorithm.\n",
    "\n",
    "_How the Two Pointers Technique Works:_\n",
    "\n",
    "1. **Initialization**: Initialize two pointers, usually at the start and end of the array or list.\n",
    "\n",
    "2. **Iterative Approach**: Use a while loop or a for loop to iterate through the array or list. The pointers are moved based on the problem's requirements.\n",
    "\n",
    "3. **Pointer Movement**: The pointers can be moved in different ways, such as:\n",
    "   - **Same Direction**: Both pointers move in the same direction, usually towards each other or away from each other.\n",
    "   - **Opposite Direction**: One pointer moves forward while the other moves backward.\n",
    "\n",
    "4. **Termination**: The loop terminates when the pointers meet or cross each other, or when a specific condition is met.\n",
    "\n",
    "_Properties:_\n",
    "\n",
    "- The Two Pointers technique is often used to solve problems that involve searching, sorting, or manipulating arrays or lists.\n",
    "- It's particularly useful for problems that require finding a pair of elements that satisfy a specific condition, such as finding a pair of numbers that sum to a target value.\n",
    "\n",
    "_Complexity:_\n",
    "\n",
    "- The time complexity of the Two Pointers technique is often _O(n)_, where _n_ is the number of elements in the array or list. This is because the pointers usually traverse the array or list once.\n",
    "\n",
    "_Example Problems:_\n",
    "\n",
    "- **Finding a pair with a given sum in a sorted array**: Given a sorted array and a sum, find if there's a pair of elements that adds up to the sum. The solution involves placing one pointer at the beginning, another at the end, and moving them towards each other based on the sum of their corresponding elements.\n",
    "- **Determining if a linked list has a cycle**: Using two pointers at different speeds (slow and fast), you can determine if a linked list has a cycle if the fast pointer meets the slow pointer.\n",
    "- **Removing duplicates from a sorted array**: Place one pointer at the first element and another at the second element. As you move the second pointer, you check for duplicates with the first pointer and move elements as needed to remove duplicates."
   ]
  },
  {
   "cell_type": "code",
   "execution_count": 17,
   "metadata": {},
   "outputs": [
    {
     "name": "stdout",
     "output_type": "stream",
     "text": [
      "Pair found at indices: (1, 3)\n"
     ]
    }
   ],
   "source": [
    "# Find the pair of elements in the array that sum to the target\n",
    "\n",
    "\n",
    "def findPair(arr, target):\n",
    "    left, right = 0, len(arr) - 1\n",
    "    while left < right:\n",
    "        current_sum = arr[left] + arr[right]\n",
    "        if current_sum == target:\n",
    "            return (left, right)\n",
    "        elif current_sum < target:\n",
    "            left += 1\n",
    "        else:\n",
    "            right -= 1\n",
    "    return None\n",
    "\n",
    "\n",
    "# Example usage\n",
    "arr = [1, 2, 3, 4, 6]\n",
    "target = 6\n",
    "print(\"Pair found at indices:\", findPair(arr, target))"
   ]
  },
  {
   "cell_type": "markdown",
   "metadata": {},
   "source": [
    "### Sliding Window <a id=\"sliding-window\"></a>\n",
    "\n",
    "_The Sliding Window technique_ is a strategy for solving problems that involve arrays, lists, or strings. It involves creating a window that slides over the array or list to find a solution, usually by keeping track of a subset of elements within the window.\n",
    "\n",
    "_How the Sliding Window Technique Works:_\n",
    "\n",
    "1. **Initialization**: Initialize the window with the first _k_ elements of the array or list, where _k_ is the size of the window.\n",
    "\n",
    "2. **Iterative Approach**: Use a while loop or a for loop to iterate through the array or list. The window is moved based on the problem's requirements.\n",
    "\n",
    "3. **Window Movement**: The window can be moved in different ways, such as:\n",
    "   - **Fixed Size**: The window moves by one element at a time.\n",
    "   - **Variable Size**: The window expands or contracts based on the problem's requirements.\n",
    "\n",
    "4. **Termination**: The loop terminates when the window reaches the end of the array or list, or when a specific condition is met.\n",
    "\n",
    "_Properties:_\n",
    "\n",
    "- The Sliding Window technique is often used to solve problems that involve finding a subset of elements that satisfy a specific condition, such as finding the maximum sum of _k_ consecutive elements in an array.\n",
    "\n",
    "_Complexity:_\n",
    "\n",
    "- The time complexity of the Sliding Window technique is often _O(n)_, where _n_ is the number of elements in the array or list. This is because the window usually traverses the array or list once.\n",
    "\n",
    "_Example Problems:_\n",
    "\n",
    "- **Maximum Sum Subarray of Size K**: Given an array of integers and a number k, find the maximum sum of any contiguous subarray of size k.\n",
    "- **Longest Substring Without Repeating Characters**: Given a string, find the length of the longest substring without repeating characters.\n",
    "- **Smallest Subarray with a Given Sum**: Given an array of positive integers and a target sum, find the length of the smallest contiguous subarray whose sum is greater than or equal to the target sum."
   ]
  },
  {
   "cell_type": "code",
   "execution_count": 18,
   "metadata": {},
   "outputs": [
    {
     "name": "stdout",
     "output_type": "stream",
     "text": [
      "Maximum sum of a subarray of size K: 9\n"
     ]
    }
   ],
   "source": [
    "# Find the maximum sum of a subarray of a fixed size k\n",
    "\n",
    "\n",
    "def maxSumSubarrayOfSizeK(arr, k):\n",
    "    max_sum = 0\n",
    "    window_sum = 0\n",
    "    window_start = 0\n",
    "\n",
    "    for window_end in range(len(arr)):\n",
    "        window_sum += arr[window_end]  # Add the next element to the window\n",
    "\n",
    "        # Slide the window, we don't need to slide if we've not hit the required window size of 'k'\n",
    "        if window_end >= k - 1:\n",
    "            max_sum = max(max_sum, window_sum)\n",
    "            window_sum -= arr[\n",
    "                window_start\n",
    "            ]  # Subtract the element going out of the window\n",
    "            window_start += 1  # Slide the window ahead\n",
    "\n",
    "    return max_sum\n",
    "\n",
    "\n",
    "# Example usage\n",
    "arr = [2, 1, 5, 1, 3, 2]\n",
    "k = 3\n",
    "print(\"Maximum sum of a subarray of size K:\", maxSumSubarrayOfSizeK(arr, k))"
   ]
  },
  {
   "cell_type": "markdown",
   "metadata": {},
   "source": [
    "### Divide and Conquer <a id=\"divide-and-conquer\"></a>\n",
    "\n",
    "_The Divide and Conquer technique_ is a strategy for solving problems that involves breaking a problem into smaller subproblems, solving the subproblems independently, and then combining their solutions to solve the original problem.\n",
    "\n",
    "_How the Divide and Conquer Technique Works:_\n",
    "\n",
    "1. **Divide**: Break the problem into smaller subproblems that are similar to the original problem but smaller in size.\n",
    "\n",
    "2. **Conquer**: Recursively solve the subproblems. If the subproblems are small enough, solve them directly.\n",
    "\n",
    "3. **Combine**: Combine the solutions of the subproblems to solve the original problem.\n",
    "\n",
    "_Properties:_\n",
    "\n",
    "- The Divide and Conquer technique is often used to solve problems that can be broken down into smaller, similar subproblems, such as sorting, searching, and optimization problems.\n",
    "\n",
    "_Complexity:_\n",
    "\n",
    "- The time complexity of the Divide and Conquer technique depends on the problem being solved. In general, it's often _O(n log n)_ for sorting and searching problems, where _n_ is the number of elements in the input.\n",
    "\n",
    "_Example Problems:_\n",
    "\n",
    "- **Merge Sort**: A sorting algorithm that uses the Divide and Conquer technique to sort an array by breaking it into smaller subarrays, sorting the subarrays, and then merging them back together.\n",
    "- **Quick Sort**: A sorting algorithm that uses the Divide and Conquer technique to sort an array by selecting a \"pivot\" element, partitioning the array into two subarrays, and then recursively sorting the subarrays.\n",
    "- **Binary Search**: A searching algorithm that uses the Divide and Conquer technique to find a target value in a sorted array by repeatedly dividing the search interval in half."
   ]
  },
  {
   "cell_type": "code",
   "execution_count": 19,
   "metadata": {},
   "outputs": [
    {
     "name": "stdout",
     "output_type": "stream",
     "text": [
      "Maximum contiguous sum is 7\n"
     ]
    }
   ],
   "source": [
    "# Maximum sum of a subarray of any size\n",
    "\n",
    "\n",
    "def maxCrossingSum(arr, l, m, h):\n",
    "    # Include elements on left of mid\n",
    "    sm = 0\n",
    "    left_sum = float(\"-inf\")\n",
    "\n",
    "    for i in range(m, l - 1, -1):\n",
    "        sm = sm + arr[i]\n",
    "        if sm > left_sum:\n",
    "            left_sum = sm\n",
    "\n",
    "    # Include elements on right of mid\n",
    "    sm = 0\n",
    "    right_sum = float(\"-inf\")\n",
    "    for i in range(m + 1, h + 1):\n",
    "        sm = sm + arr[i]\n",
    "        if sm > right_sum:\n",
    "            right_sum = sm\n",
    "\n",
    "    # Return sum of elements on left and right of mid\n",
    "    return left_sum + right_sum\n",
    "\n",
    "\n",
    "def maxSubArraySum(arr, l, h):\n",
    "    # Base Case: Only one element\n",
    "    if l == h:\n",
    "        return arr[l]\n",
    "\n",
    "    # Find middle point\n",
    "    m = (l + h) // 2\n",
    "\n",
    "    # Return maximum of following three possible cases\n",
    "    return max(\n",
    "        maxSubArraySum(arr, l, m),  # Maximum subarray sum in left half\n",
    "        maxSubArraySum(arr, m + 1, h),  # Maximum subarray sum in right half\n",
    "        maxCrossingSum(\n",
    "            arr, l, m, h\n",
    "        ),  # Maximum subarray sum such that the subarray crosses the midpoint\n",
    "    )\n",
    "\n",
    "\n",
    "# Example usage\n",
    "arr = [-2, -5, 6, -2, -3, 1, 5, -6]\n",
    "n = len(arr)\n",
    "max_sum = maxSubArraySum(arr, 0, n - 1)\n",
    "print(\"Maximum contiguous sum is\", max_sum)"
   ]
  },
  {
   "cell_type": "markdown",
   "metadata": {},
   "source": [
    "### Recursion <a id=\"recursion\"></a>\n",
    "\n",
    "_Recursion_ is a programming technique in which a function calls itself to solve a problem. It's a powerful and elegant way to solve problems that can be broken down into smaller, similar subproblems.\n",
    "\n",
    "_How Recursion Works:_\n",
    "\n",
    "1. **Base Case**: The recursion stops when a specific condition is met. This is called the base case and is essential to prevent infinite recursion.\n",
    "\n",
    "2. **Recursive Case**: The function calls itself with a smaller input, moving closer to the base case.\n",
    "\n",
    "3. **Termination**: The recursion terminates when the base case is reached, and the function returns a value.\n",
    "\n",
    "_Properties:_\n",
    "\n",
    "- Recursion is often used to solve problems that can be broken down into smaller, similar subproblems, such as tree and graph traversal, sorting, and searching problems.\n",
    "- Recursive calls can be more memory-intensive than iterative solutions due to the overhead of maintaining the call stack. For deep recursion, this can lead to significant performance penalties.\n",
    "- Excessive recursion can lead to a stack overflow error if the recursion goes too deep.\n",
    "\n",
    "_Complexity:_\n",
    "\n",
    "- The time complexity of a recursive algorithm depends on the problem being solved. In general, it's often _O(2^n)_ for problems that involve generating all subsets or permutations of a set, and _O(n!)_ for problems that involve generating all permutations of a set.\n",
    "- The space complexity of a recursive algorithm depends on the maximum depth of the recursion. In general, it's often _O(n)_ for problems that involve tree or graph traversal, and _O(n)_ for problems that involve generating all subsets or permutations of a set.\n",
    "\n",
    "_Example Problems:_\n",
    "\n",
    "- **Factorial**: The factorial of a non-negative integer _n_ is the product of all positive integers less than or equal to _n_. It's often defined recursively as _n! = n * (n - 1)!_ with a base case of _0! = 1_.\n",
    "- **Fibonacci Sequence**: The Fibonacci sequence is a series of numbers in which each number is the sum of the two preceding ones. It's often defined recursively as _fib(n) = fib(n - 1) + fib(n - 2)_ with base cases of _fib(0) = 0_ and _fib(1) = 1_.\n",
    "- **Tree Traversal**: Recursion is often used to traverse trees, such as in Preorder, Inorder, and Postorder traversals."
   ]
  },
  {
   "cell_type": "code",
   "execution_count": 20,
   "metadata": {},
   "outputs": [
    {
     "name": "stdout",
     "output_type": "stream",
     "text": [
      "120\n"
     ]
    }
   ],
   "source": [
    "# Factorial of a number using recursion\n",
    "\n",
    "\n",
    "def factorial(n):\n",
    "    # Base case: factorial of 0 is 1\n",
    "    if n == 0:\n",
    "        return 1\n",
    "    # Recursive step: n! = n * (n-1)!\n",
    "    else:\n",
    "        return n * factorial(n - 1)\n",
    "\n",
    "\n",
    "# Example usage\n",
    "print(factorial(5))  # Output: 120"
   ]
  },
  {
   "cell_type": "markdown",
   "metadata": {},
   "source": [
    "### Dynamic Programming <a id=\"dynamic-programming\"></a>\n",
    "\n",
    "_Dynamic Programming (DP)_ is a method for solving complex problems by breaking them down into simpler subproblems. It's particularly useful for optimization problems, such as finding the shortest path, the longest common subsequence, or the minimum cost.\n",
    "\n",
    "_How Dynamic Programming Works:_\n",
    "\n",
    "1. **Overlapping Subproblems**: Identify and solve the subproblems that are repeated multiple times. This is a key feature of dynamic programming and is often the reason for its efficiency.\n",
    "\n",
    "2. **Optimal Substructure**: Ensure that the problem can be broken down into smaller, similar subproblems, and that the optimal solution to the original problem can be constructed from the optimal solutions of its subproblems.\n",
    "\n",
    "3. **Memoization or Tabulation**: Use memoization (top-down) or tabulation (bottom-up) to store the results of subproblems and reuse them when needed. This avoids redundant calculations and improves the efficiency of the algorithm.\n",
    "\n",
    "_Properties:_\n",
    "\n",
    "- Dynamic Programming is often used to solve optimization problems that can be broken down into smaller, similar subproblems, such as finding the shortest path, the longest common subsequence, or the minimum cost.\n",
    "- The efficiency of dynamic programming depends on the presence of overlapping subproblems and optimal substructure. If these properties are not present, dynamic programming may not be the best approach.\n",
    "- Dynamic programming can be implemented using either a top-down approach (memoization) or a bottom-up approach (tabulation).\n",
    "\n",
    "_Complexity:_\n",
    "\n",
    "- The time complexity of a dynamic programming algorithm depends on the problem being solved. In general, it's often _O(n^2)_ for problems that involve finding the longest common subsequence, and _O(n^3)_ for problems that involve finding the shortest path in a graph.\n",
    "- The space complexity of a dynamic programming algorithm depends on the maximum size of the memoization table or tabulation table. In general, it's often _O(n)_ for problems that involve finding the longest common subsequence, and _O(n^2)_ for problems that involve finding the shortest path in a graph.\n",
    "\n",
    "_Example Problems:_\n",
    "\n",
    "- **Fibonacci Sequence**: The Fibonacci sequence can be solved using dynamic programming to avoid redundant calculations of the same subproblems.\n",
    "- **Longest Common Subsequence**: Given two strings, find the length of the longest subsequence present in both of them.\n",
    "- **Shortest Path in a Graph**: Find the shortest path from a source node to a destination node in a weighted graph."
   ]
  },
  {
   "cell_type": "code",
   "execution_count": 21,
   "metadata": {},
   "outputs": [
    {
     "name": "stdout",
     "output_type": "stream",
     "text": [
      "55\n"
     ]
    }
   ],
   "source": [
    "# Memoization example: Fibonacci numbers\n",
    "\n",
    "\n",
    "def fib_memo(n, memo={}):\n",
    "    if n in memo:\n",
    "        return memo[n]\n",
    "    if n <= 2:\n",
    "        return 1\n",
    "    memo[n] = fib_memo(n - 1, memo) + fib_memo(n - 2, memo)\n",
    "    return memo[n]\n",
    "\n",
    "\n",
    "# Example usage\n",
    "print(fib_memo(10))  # Output: 55"
   ]
  },
  {
   "cell_type": "code",
   "execution_count": 22,
   "metadata": {},
   "outputs": [
    {
     "name": "stdout",
     "output_type": "stream",
     "text": [
      "55\n"
     ]
    }
   ],
   "source": [
    "# Tabulation example: Fibonacci numbers\n",
    "\n",
    "\n",
    "def fib_tab(n):\n",
    "    if n <= 2:\n",
    "        return 1\n",
    "    fib_table = [0] * (n + 1)\n",
    "    fib_table[1] = 1\n",
    "    fib_table[2] = 1\n",
    "    for i in range(3, n + 1):\n",
    "        fib_table[i] = fib_table[i - 1] + fib_table[i - 2]\n",
    "    return fib_table[n]\n",
    "\n",
    "\n",
    "# Example usage\n",
    "print(fib_tab(10))  # Output: 55"
   ]
  },
  {
   "cell_type": "markdown",
   "metadata": {},
   "source": [
    "### Greedy Algorithms <a id=\"greedy-algorithms\"></a>\n",
    "\n",
    "_Greedy algorithms_ are a class of algorithms that make a series of choices, each of which is the best at the moment, with the hope that the series of best choices will lead to an optimal solution. Greedy algorithms are often used to solve optimization problems, such as finding the shortest path, the minimum spanning tree, or the minimum cost.\n",
    "\n",
    "_How Greedy Algorithms Work:_\n",
    "\n",
    "1. **Initialization**: Start with an empty solution and a set of choices.\n",
    "\n",
    "2. **Greedy Choice**: Make the best choice at the moment, based on the problem's requirements. This choice is often made based on a specific criterion, such as the smallest weight, the shortest distance, or the highest value.\n",
    "\n",
    "3. **Feasibility**: Check if the choice is feasible and does not violate any constraints. If the choice is feasible, add it to the solution.\n",
    "\n",
    "4. **Termination**: The algorithm terminates when all choices have been made and the solution is complete.\n",
    "\n",
    "_Properties:_\n",
    "\n",
    "- Greedy algorithms are often used to solve optimization problems that can be broken down into a series of choices, such as finding the shortest path, the minimum spanning tree, or the minimum cost.\n",
    "- Greedy algorithms are often simple to implement and can be more efficient than other algorithms for certain problems. However, they do not always guarantee an optimal solution.\n",
    "\n",
    "_Complexity:_\n",
    "\n",
    "- The time complexity of a greedy algorithm depends on the problem being solved. In general, it's often _O(n log n)_ for problems that involve sorting, and _O(n)_ for problems that involve finding the shortest path or the minimum spanning tree.\n",
    "- The space complexity of a greedy algorithm depends on the maximum size of the data structures used to store the choices and the solution. In general, it's often _O(n)_ for problems that involve sorting, and _O(n^2)_ for problems that involve finding the shortest path or the minimum spanning tree.\n",
    "\n",
    "_Example Problems:_\n",
    "\n",
    "- **Kruskal’s and Prim’s Algorithms**: Used for finding the Minimum Spanning Tree (MST) of a graph, where the goal is to connect all points with the minimum total weighting.\n",
    "- **Dijkstra’s Algorithm**: For finding the shortest path from a single source to all other vertices in a graph with non-negative edge paths.\n",
    "- **Huffman Coding**: Used for data compression, Huffman coding builds a variable-length prefix code based on the frequencies of the characters in the data set.\n",
    "- **Fractional Knapsack Problem**: Unlike the 0/1 Knapsack problem, fractional knapsack allows breaking items to fit into the bag, maximizing total value."
   ]
  },
  {
   "cell_type": "code",
   "execution_count": 23,
   "metadata": {},
   "outputs": [
    {
     "name": "stdout",
     "output_type": "stream",
     "text": [
      "Maximum value in knapsack = 240.0\n"
     ]
    }
   ],
   "source": [
    "# Fractional knapsack problem\n",
    "\n",
    "\n",
    "def fractional_knapsack(value, weight, capacity):\n",
    "    # Indexes of items sorted by value/weight ratio\n",
    "    index = list(range(len(value)))\n",
    "    ratio = [v / w for v, w in zip(value, weight)]\n",
    "    index.sort(key=lambda i: ratio[i], reverse=True)\n",
    "\n",
    "    max_value = 0\n",
    "    for i in index:\n",
    "        if weight[i] <= capacity:\n",
    "            max_value += value[i]\n",
    "            capacity -= weight[i]\n",
    "        else:\n",
    "            max_value += value[i] * (capacity / weight[i])\n",
    "            break\n",
    "    return max_value\n",
    "\n",
    "\n",
    "# Example usage\n",
    "value = [60, 100, 120]\n",
    "weight = [10, 20, 30]\n",
    "capacity = 50\n",
    "print(\"Maximum value in knapsack =\", fractional_knapsack(value, weight, capacity))"
   ]
  },
  {
   "cell_type": "markdown",
   "metadata": {},
   "source": [
    "### Backtracking <a id=\"backtracking\"></a>\n",
    "\n",
    "_Backtracking_ is a general algorithmic technique that incrementally builds candidates to the solutions and abandons a candidate (\"backtracks\") as soon as it determines that the candidate cannot possibly be completed to a valid solution. It's often used to solve problems that involve finding all possible solutions to a problem, such as finding all permutations, combinations, or subsets of a set.\n",
    "\n",
    "_How Backtracking Works:_\n",
    "\n",
    "Backtracking algorithms try to build a solution to a computational problem incrementally, one piece at a time. Whenever the algorithm realizes that the current solution cannot be completed to a valid solution, it removes the last component added to the solution and tries another path.\n",
    "\n",
    "This technique is often applied to solve constraint satisfaction problems such as puzzles, combinatorial problems, and parsing. Common examples include the N-Queens problem, solving mazes, crossword puzzles, and many types of optimization problems.\n",
    "\n",
    "_Key Concepts:_\n",
    "\n",
    "- **Decision Tree**: Backtracking algorithms conceptually build a decision tree, where each node represents a partial solution. Traversing the tree involves making a series of decisions that gradually complete a solution.\n",
    "- **Pruning**: The process of eliminating branches from the decision tree based on constraints and conditions, without fully exploring them, is known as pruning. This is crucial for the efficiency of backtracking algorithms, as it significantly reduces the search space.\n",
    "- **State Space Tree**: This is a representation of all possible states (or partial states) of the solution. Backtracking traverses this tree by exploring child nodes (possible continuations of a partial solution) depth-first.\n",
    "\n",
    "_Steps in Backtracking Algorithms:_\n",
    "\n",
    "1. **Choose**: Select a candidate element to add to the current solution.\n",
    "2. **Constrain**: Check if the current candidate violates any constraints. If it does, abandon this candidate and backtrack.\n",
    "3. **Goal**: Check if the current solution satisfies the problem's goal. If it does, accept this solution.\n",
    "4. **Backtrack**: If the current candidate does not lead to a solution, remove it and try another candidate.\n",
    "\n",
    "_Properties:_\n",
    "\n",
    "- Backtracking is often used to solve problems that involve finding all possible solutions to a problem, such as finding all permutations, combinations, or subsets of a set.\n",
    "- Backtracking is often implemented using recursion, and it can be more memory-intensive than other algorithms due to the overhead of maintaining the call stack.\n",
    "\n",
    "_Complexity:_\n",
    "\n",
    "- The time complexity of a backtracking algorithm depends on the problem being solved. In general, it's often _O(n!)_ for problems that involve generating all permutations of a set, and _O(2^n)_ for problems that involve generating all subsets of a set.\n",
    "- The space complexity of a backtracking algorithm depends on the maximum depth of the recursion. In general, it's often _O(n)_ for problems that involve generating all permutations of a set, and _O(n)_ for problems that involve generating all subsets of a set.\n",
    "\n",
    "_Example Problems:_\n",
    "\n",
    "- **N-Queens Problem**: Given an _n x n_ chessboard, place _n_ queens on the board such that no two queens attack each other.\n",
    "- **Sudoku Solver**: Given a partially filled 9x9 grid, fill the grid with digits such that each row, column, and 3x3 subgrid contains all the digits from 1 to 9.\n",
    "- **Generating All Subsets**: Given a set of distinct integers, generate all possible subsets (the power set) of the set.\n",
    "- **Generating All Permutations**: Given a collection of distinct integers, generate all possible permutations of the integers."
   ]
  },
  {
   "cell_type": "code",
   "execution_count": 24,
   "metadata": {},
   "outputs": [
    {
     "name": "stdout",
     "output_type": "stream",
     "text": [
      "[0, 0, 1, 0]\n",
      "[1, 0, 0, 0]\n",
      "[0, 0, 0, 1]\n",
      "[0, 1, 0, 0]\n"
     ]
    },
    {
     "data": {
      "text/plain": [
       "True"
      ]
     },
     "execution_count": 24,
     "metadata": {},
     "output_type": "execute_result"
    }
   ],
   "source": [
    "# N-Queens problem\n",
    "\n",
    "\n",
    "def is_safe(board, row, col, n):\n",
    "    # Check this row on left side\n",
    "    for i in range(col):\n",
    "        if board[row][i] == 1:\n",
    "            return False\n",
    "\n",
    "    # Check upper diagonal on left side\n",
    "    for i, j in zip(range(row, -1, -1), range(col, -1, -1)):\n",
    "        if board[i][j] == 1:\n",
    "            return False\n",
    "\n",
    "    # Check lower diagonal on left side\n",
    "    for i, j in zip(range(row, n, 1), range(col, -1, -1)):\n",
    "        if board[i][j] == 1:\n",
    "            return False\n",
    "\n",
    "    return True\n",
    "\n",
    "\n",
    "def solve_nq_util(board, col, n):\n",
    "    if col >= n:\n",
    "        return True\n",
    "\n",
    "    for i in range(n):\n",
    "        if is_safe(board, i, col, n):\n",
    "            board[i][col] = 1\n",
    "            if solve_nq_util(board, col + 1, n):\n",
    "                return True\n",
    "            board[i][col] = 0  # Backtrack\n",
    "\n",
    "    return False\n",
    "\n",
    "\n",
    "def solve_n_queens(n):\n",
    "    board = [[0 for _ in range(n)] for _ in range(n)]\n",
    "    if not solve_nq_util(board, 0, n):\n",
    "        print(\"Solution does not exist\")\n",
    "        return False\n",
    "    for line in board:\n",
    "        print(line)\n",
    "    return True\n",
    "\n",
    "\n",
    "# Example usage\n",
    "n = 4\n",
    "solve_n_queens(n)"
   ]
  }
 ],
 "metadata": {
  "kernelspec": {
   "display_name": "Python 3",
   "language": "python",
   "name": "python3"
  },
  "language_info": {
   "codemirror_mode": {
    "name": "ipython",
    "version": 3
   },
   "file_extension": ".py",
   "mimetype": "text/x-python",
   "name": "python",
   "nbconvert_exporter": "python",
   "pygments_lexer": "ipython3",
   "version": "3.11.7"
  }
 },
 "nbformat": 4,
 "nbformat_minor": 2
}
