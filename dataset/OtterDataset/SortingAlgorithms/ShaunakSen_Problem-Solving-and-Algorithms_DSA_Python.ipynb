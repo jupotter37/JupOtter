{
 "cells": [
  {
   "cell_type": "markdown",
   "source": "<a href=\"https://colab.research.google.com/github/ShaunakSen/problem-solving-with-code/blob/master/DSA_Python.ipynb\" target=\"_parent\"><img src=\"https://colab.research.google.com/assets/colab-badge.svg\" alt=\"Open In Colab\"/></a>",
   "metadata": {
    "id": "view-in-github",
    "colab_type": "text",
    "cell_id": "c94da0aa-c1ae-419e-8476-9522bb880cdc",
    "deepnote_cell_type": "markdown",
    "deepnote_cell_height": 69.96875
   }
  },
  {
   "cell_type": "markdown",
   "source": "## Data Structures and Algorithms in Python\n\n> Based on the tutorial by [LucidProgramming](https://www.youtube.com/playlist?list=PL5tcWHG-UPH112e7AN7C-fwDVPVrt0wpV)",
   "metadata": {
    "id": "PR0PvfQmRbYl",
    "cell_id": "00001-0e1649b4-3d3e-4639-8221-deaafad72c06",
    "deepnote_cell_type": "markdown",
    "deepnote_cell_height": 122.34375
   }
  },
  {
   "cell_type": "markdown",
   "source": "### Stack",
   "metadata": {
    "id": "6_zAw3fmRtXo",
    "cell_id": "00002-85d586bb-159f-4ed0-b419-9ea5248e9174",
    "deepnote_cell_type": "markdown",
    "deepnote_cell_height": 61.953125
   }
  },
  {
   "cell_type": "code",
   "metadata": {
    "id": "fzeIjTYzQvRv",
    "outputId": "f7127aa3-a496-4161-c224-950f4f0b7601",
    "colab": {
     "base_uri": "https://localhost:8080/",
     "height": 119
    },
    "cell_id": "00003-dd70501d-2d9e-438d-9187-e24a7553d632",
    "deepnote_cell_type": "code",
    "deepnote_cell_height": 855.15625
   },
   "source": "class Stack():\n    def __init__(self):\n        ## init an empty list\n        self.items = []\n\n    def push(self, item):\n        ## push item into slef.items\n        self.items.append(item)\n    \n    def pop(self):\n        ## pop out the top item\n        return self.items.pop()\n\n    def is_empty(self):\n        ## check if stack is empty\n        return self.items == []\n    \n    def peek(self):\n        ## view top elem without popping\n        if not self.is_empty():\n            return self.items[-1]\n        return None\n\n    def get_stack(self):\n        ## return the items\n        return self.items\n\ns = Stack()\nprint (s.is_empty())\nprint (s.peek())\ns.push(\"A\")\ns.push(\"B\")\ns.push(\"C\")\nprint (s.pop())\nprint (s.is_empty())\nprint (s.get_stack())\nprint (s.peek())",
   "execution_count": null,
   "outputs": [
    {
     "output_type": "stream",
     "text": "True\nNone\nC\nFalse\n['A', 'B']\nB\n",
     "name": "stdout"
    }
   ]
  },
  {
   "cell_type": "markdown",
   "source": "### Parenthesis Balance Detection\n\n```\n\nUse a stack to check whether or not a string\nhas balanced usage of parenthesis.\nExample:\n    (), ()(), (({[]}))  <- Balanced.\n    ((), {{{)}], [][]]] <- Not Balanced.\nBalanced Example: {[]}\nNon-Balanced Example: (()\nNon-Balanced Example: ))\n\n```\n\nThe logic here is to iterate over the symbols. If it is an opening parenthesis push into stack. If it is a closing one, we pop the top elem from the stack and check if the elem is a match.. We continue to do this and at the end, the stack should be empty. Also if at a stage stack is empty and we dont have any elem to match with, its also unbalanced (case: `}}`)\n\nFor eg: `{[]}`\n\n```\nPusk { -> Push [ -> ]: pop out the top elem: [ and match with ] -> }: pop out the top elem: { and match with } \n```",
   "metadata": {
    "id": "ZP2Dep8Q2Yyt",
    "cell_id": "00004-2f9080fc-439e-426c-8d93-3c37f44517c8",
    "deepnote_cell_type": "markdown",
    "deepnote_cell_height": 464.28125
   }
  },
  {
   "cell_type": "code",
   "metadata": {
    "id": "fEMZROkDSm4F",
    "outputId": "8d53f8cc-39ab-4296-f244-dd7e0b9f3b4b",
    "colab": {
     "base_uri": "https://localhost:8080/",
     "height": 51
    },
    "cell_id": "00005-564659ff-4823-4c21-9e47-883dd43213aa",
    "deepnote_cell_type": "code",
    "deepnote_cell_height": 1390.328125
   },
   "source": "class Stack():\n    def __init__(self):\n        ## init an empty list\n        self.items = []\n\n    def push(self, item):\n        ## push item into slef.items\n        self.items.append(item)\n    \n    def pop(self):\n        ## pop out the top item\n        return self.items.pop()\n\n    def is_empty(self):\n        ## check if stack is empty\n        return self.items == []\n    \n    def peek(self):\n        ## view top elem without popping\n        if not self.is_empty():\n            return self.items[-1]\n        return None\n\n    def get_stack(self):\n        ## return the items\n        return self.items\n\ndef is_match(p1, p2):\n    if p1 == \"(\" and p2 == \")\":\n        return True\n    elif p1 == \"{\" and p2 == \"}\":\n        return True\n    elif p1 == \"[\" and p2 == \"]\":\n        return True\n    else:\n        return False\n\n\ndef is_paren_balanced(paren_string):\n\n    s = Stack() # init a stack\n    is_balanced = True\n    index = 0\n\n    while index < len(paren_string) and is_balanced:\n        # get the symbol\n        paren = paren_string[index]\n        # if opening paren, push into stack\n        if paren in \"[({\":\n            s.push(paren)\n        else:\n            # if stack is empty it cant be matched, return False\n            if s.is_empty():\n                is_balanced = False\n            else:\n                # pop top elem\n                top = s.pop()\n                ## check for match\n                if not is_match(top, paren):\n                    is_balanced = False\n        # move to next symbol\n        index += 1\n    # if stack is empty and is_balanced is set to true\n    if s.is_empty() and is_balanced:\n        return True\n    else:\n        return False\n\nprint (is_paren_balanced(\"{(((([]))))}\"))   \n\nprint (is_paren_balanced(\"))\"))   ",
   "execution_count": null,
   "outputs": [
    {
     "output_type": "stream",
     "text": "True\nFalse\n",
     "name": "stdout"
    }
   ]
  },
  {
   "cell_type": "markdown",
   "source": "### Int to Binary using stack",
   "metadata": {
    "cell_id": "ac4ffc1f926f4ae9a5254d2f95ea0bd9",
    "tags": [],
    "deepnote_cell_type": "markdown",
    "deepnote_cell_height": 61.953125
   }
  },
  {
   "cell_type": "code",
   "metadata": {
    "cell_id": "fc9492a33121482b8d7c08cba599beb7",
    "tags": [],
    "deepnote_to_be_reexecuted": false,
    "source_hash": "8df51fb1",
    "execution_start": 1651820709271,
    "deepnote_cell_type": "code",
    "deepnote_cell_height": 530.953125
   },
   "source": "class Stack():\n    def __init__(self):\n        ## init an empty list\n        self.items = []\n\n    def push(self, item):\n        ## push item into slef.items\n        self.items.append(item)\n    \n    def pop(self):\n        ## pop out the top item\n        return self.items.pop()\n\n    def is_empty(self):\n        ## check if stack is empty\n        return self.items == []\n    \n    def peek(self):\n        ## view top elem without popping\n        if not self.is_empty():\n            return self.items[-1]\n        return None\n\n    def get_stack(self):\n        ## return the items\n        return self.items",
   "execution_count": null,
   "outputs": []
  },
  {
   "cell_type": "code",
   "metadata": {
    "cell_id": "a9d75b7a1de740559e7215655f389e67",
    "tags": [],
    "deepnote_to_be_reexecuted": false,
    "source_hash": "aa4b19eb",
    "execution_start": 1651820980874,
    "execution_millis": 6,
    "deepnote_cell_type": "code",
    "deepnote_cell_height": 433.296875,
    "deepnote_output_heights": [
     null,
     21.1875
    ]
   },
   "source": "def int_to_binary(num):\n    s = Stack()\n    final_str = \"\"\n    while num >= 1:\n        rem = num%2\n        s.push(rem)\n        num=num//2\n\n    print(s.get_stack())\n\n    while not s.is_empty():\n        final_str += str(s.pop())\n    return final_str\n\nint_to_binary(2)\n",
   "execution_count": null,
   "outputs": [
    {
     "name": "stdout",
     "text": "[0, 1]\n",
     "output_type": "stream"
    },
    {
     "output_type": "execute_result",
     "execution_count": 11,
     "data": {
      "text/plain": "'10'"
     },
     "metadata": {}
    }
   ]
  },
  {
   "cell_type": "markdown",
   "source": "## Linked Lists\n\n> https://www.youtube.com/playlist?list=PL5tcWHG-UPH112e7AN7C-fwDVPVrt0wpV\n\n---\n\nLL is a collection of linked nodes\n\nEvery node has:\n\n1. Data\n2. Pointer to the next node\n\n`HEAD` is a pointer that points to the current node - initially it points to the starting node\n\nBut as we traverse, `HEAD` moves one by one...\n\nThe last node points to `NULL`\n\n![](https://i.imgur.com/A2MRfe2.png)\n\n![](https://i.imgur.com/88LdCn7.png)\n\n\n### Insertion\n\n- add elem to end (append)\n\n- add elem to start (insert)\n\n- add elem after given elem\n",
   "metadata": {
    "cell_id": "dd72a3b0b7454080ae8d8216a5a93447",
    "tags": [],
    "deepnote_cell_type": "markdown",
    "deepnote_cell_height": 1210.265625
   }
  },
  {
   "cell_type": "code",
   "metadata": {
    "cell_id": "b4c36f3feb924d26b198fa6e8d753a9c",
    "tags": [],
    "deepnote_to_be_reexecuted": false,
    "source_hash": "f40c33eb",
    "execution_start": 1652375829760,
    "execution_millis": 3,
    "owner_user_id": "a7a3883e-865f-47ed-8be0-6b6e2a6517cb",
    "deepnote_cell_type": "code",
    "deepnote_cell_height": 1754.953125
   },
   "source": "class Node:\n    def __init__(self, data):\n        self.data = data\n        self.next = None\n\nclass LinkedList:\n    def __init__(self, node=None):\n        ### can be initialized st head points to None or \n        ### head can point to a given node\n        self.head = node\n\n    def display(self):\n\n        temp = self.head\n\n        if temp is None:\n            print ('Empty list')\n            return\n\n        while temp is not None:\n            print (temp.data)\n            temp = temp.next \n\n        return\n\n    def append(self, node):\n        ## if list is empty\n        if self.head is None:\n            self.head = node\n            print (f'Done appending {node.data} to list')\n            self.display()\n            return\n\n        ## create a temp pointer\n        temp = self.head\n\n        ## move temp to last node\n        while temp.next is not None:\n            temp = temp.next\n\n        ## insert\n        temp.next = node\n        node.next = None\n\n        print (f'Done appending {node.data} to list')\n        self.display()\n        return\n\n    def insert(self, node):\n        ### if list is empty\n        if self.head is None:\n            self.head = node\n            print (f'Done inserting {node.data} to list')\n            self.display()\n            return\n\n        ### the new node should point to head\n        node.next = self.head\n        ### reset head\n        self.head = node\n        print (f'Done inserting {node.data} to list')\n        self.display()\n        return\n\n\n    def insertAfter(self, node, data):\n\n        ### if empty list, simply insert at beginning\n        if self.head is None:\n            self.head = node\n            print (f'Done inserting {node.data} to list')\n            self.display()\n            return\n\n        ### init a temp pointer\n        temp = self.head\n        while temp:\n            if temp.data == data:\n                ### if node is found\n                temp2 = temp.next\n                temp.next = node\n                node.next = temp2\n                print (f'Done inserting {node.data} to list')\n                self.display()\n                return\n            ### inc temp\n            temp = temp.next\n        \n        print (f'Could not find node with {data}')\n\n        return\n\n\n",
   "outputs": [],
   "execution_count": null
  },
  {
   "cell_type": "code",
   "metadata": {
    "cell_id": "e4702e43ebeb4131b3f1df4b03acdffe",
    "tags": [],
    "deepnote_to_be_reexecuted": false,
    "source_hash": "f6c493ac",
    "execution_start": 1652375864806,
    "execution_millis": 0,
    "deepnote_cell_type": "code",
    "deepnote_cell_height": 134.953125
   },
   "source": "llist = LinkedList()\nn1 = Node(1)\nn2 = Node(2) \nn3 = Node(3)",
   "outputs": [],
   "execution_count": null
  },
  {
   "cell_type": "code",
   "metadata": {
    "cell_id": "2d7f532d80204e2e9378b9c1673bccf0",
    "tags": [],
    "deepnote_to_be_reexecuted": false,
    "source_hash": "99ceda78",
    "execution_start": 1652375864814,
    "execution_millis": 0,
    "deepnote_cell_type": "code",
    "deepnote_cell_height": 134.953125
   },
   "source": "n1.next = n2\nn2.next = n3\n\nllist.head = n1",
   "outputs": [],
   "execution_count": null
  },
  {
   "cell_type": "code",
   "metadata": {
    "cell_id": "15d89effbe984e1e850f39376e87f1ee",
    "tags": [],
    "deepnote_to_be_reexecuted": false,
    "source_hash": "8968e0cc",
    "execution_start": 1652375864861,
    "execution_millis": 21,
    "deepnote_cell_type": "code",
    "deepnote_cell_height": 118.125,
    "deepnote_output_heights": [
     21.1875
    ]
   },
   "source": "llist.head == n1",
   "outputs": [
    {
     "output_type": "execute_result",
     "execution_count": 9,
     "data": {
      "text/plain": "True"
     },
     "metadata": {}
    }
   ],
   "execution_count": null
  },
  {
   "cell_type": "code",
   "metadata": {
    "cell_id": "4a1281532b9d4b6fb43cc7437d505534",
    "tags": [],
    "deepnote_to_be_reexecuted": false,
    "source_hash": "5b455458",
    "execution_start": 1652375865633,
    "execution_millis": 378,
    "deepnote_cell_type": "code",
    "deepnote_cell_height": 149.53125,
    "deepnote_output_heights": [
     21.1875
    ]
   },
   "source": "llist.display()",
   "outputs": [
    {
     "name": "stdout",
     "text": "1\n2\n3\n",
     "output_type": "stream"
    }
   ],
   "execution_count": null
  },
  {
   "cell_type": "code",
   "metadata": {
    "cell_id": "237d73939a7a49c197b5c8bfa624934a",
    "tags": [],
    "deepnote_to_be_reexecuted": false,
    "source_hash": "ffceb93a",
    "execution_start": 1652375873155,
    "execution_millis": 5,
    "deepnote_cell_type": "code",
    "deepnote_cell_height": 223.9375
   },
   "source": "n4 = Node(4)\n\nllist.insertAfter(n4,3)",
   "outputs": [
    {
     "name": "stdout",
     "text": "Done inserting 4 to list\n1\n2\n3\n4\n",
     "output_type": "stream"
    }
   ],
   "execution_count": null
  },
  {
   "cell_type": "code",
   "metadata": {
    "cell_id": "fcbe1c685f15447ea6adb2d8f74bdcd0",
    "tags": [],
    "deepnote_to_be_reexecuted": false,
    "source_hash": "9c4d880f",
    "execution_start": 1652375886849,
    "execution_millis": 7,
    "deepnote_cell_type": "code",
    "deepnote_cell_height": 166.328125
   },
   "source": "llist = LinkedList()\nn1 = Node(1)\nllist.insertAfter(n1, 1)",
   "outputs": [
    {
     "name": "stdout",
     "text": "Done inserting 1 to list\n1\n",
     "output_type": "stream"
    }
   ],
   "execution_count": null
  },
  {
   "cell_type": "markdown",
   "source": "## Binary Search\n\n> https://www.programiz.com/dsa/binary-search\n\n---\n\n",
   "metadata": {
    "cell_id": "92ddee0f14134337990e25c877a71fe3",
    "tags": [],
    "deepnote_cell_type": "markdown",
    "deepnote_cell_height": 123.34375
   }
  },
  {
   "cell_type": "markdown",
   "source": "Binary Search Algorithm can be implemented in two ways which are discussed below.\n\n1. terative Method\n2. Recursive Method\n\nThe recursive method follows the divide and conquer approach.\n\nThe general steps for both methods are discussed below.\n\n",
   "metadata": {
    "cell_id": "937e7e00976149338379577c8a72703b",
    "tags": [],
    "deepnote_cell_type": "markdown",
    "deepnote_cell_height": 186.9375
   }
  },
  {
   "cell_type": "code",
   "metadata": {
    "id": "fd9PZ3_9JKcC",
    "cell_id": "00006-b41d6d5c-7818-46e7-be9d-23e7673fab25",
    "deepnote_to_be_reexecuted": false,
    "source_hash": "aa9e75e5",
    "execution_start": 1651741212193,
    "execution_millis": 3,
    "deepnote_cell_type": "code",
    "deepnote_cell_height": 404.953125
   },
   "source": "def binary_search(arr, x, low, high):\n    if low > high:\n        return False\n\n    mid = (low + high)//2\n\n    print (low, high, mid)\n\n    if arr[mid] == x:\n        return mid\n\n    if arr[mid] > x:\n        high = mid-1\n        return binary_search(arr, x, low, high)\n\n    else:\n        low=mid+1\n        return binary_search(arr, x, low, high)\n",
   "execution_count": null,
   "outputs": []
  },
  {
   "cell_type": "code",
   "metadata": {
    "cell_id": "0056104168a545c58d9a7b370e8c2861",
    "tags": [],
    "deepnote_to_be_reexecuted": false,
    "source_hash": "f52094d9",
    "execution_start": 1651741212822,
    "execution_millis": 549,
    "deepnote_cell_type": "code",
    "deepnote_cell_height": 255.703125,
    "deepnote_output_heights": [
     null,
     21.1875
    ]
   },
   "source": "array = [3, 4, 5, 6, 7, 8, 9]\nx = 23\n\nbinary_search(array, x, 0, len(array)-1)",
   "execution_count": null,
   "outputs": [
    {
     "name": "stdout",
     "text": "0 6 3\n4 6 5\n6 6 6\n",
     "output_type": "stream"
    },
    {
     "output_type": "execute_result",
     "execution_count": 10,
     "data": {
      "text/plain": "False"
     },
     "metadata": {}
    }
   ]
  },
  {
   "cell_type": "code",
   "metadata": {
    "cell_id": "c9c8e94257a347898add2ba408c578aa",
    "tags": [],
    "deepnote_to_be_reexecuted": false,
    "source_hash": "f0741615",
    "execution_start": 1651741503980,
    "execution_millis": 0,
    "deepnote_cell_type": "code",
    "deepnote_cell_height": 314.953125
   },
   "source": "def binary_search_iterative(arr, x, low, high):\n\n    while low <= high:\n        mid = (low+high)//2\n        if arr[mid] == x:\n            return mid\n        if arr[mid] > x:\n            high = mid-1\n        else:\n            low = mid+1\n\n    return False\n\n",
   "execution_count": null,
   "outputs": []
  },
  {
   "cell_type": "code",
   "metadata": {
    "cell_id": "09942f88e0aa43f98ad3d6e1a9521be7",
    "tags": [],
    "deepnote_to_be_reexecuted": false,
    "source_hash": "6ba0fa8b",
    "execution_start": 1651741504965,
    "execution_millis": 6,
    "deepnote_cell_type": "code",
    "deepnote_cell_height": 136.125,
    "deepnote_output_heights": [
     21.1875
    ]
   },
   "source": "x = 4\nbinary_search_iterative(array, x, 0, len(array)-1)",
   "execution_count": null,
   "outputs": [
    {
     "output_type": "execute_result",
     "execution_count": 14,
     "data": {
      "text/plain": "1"
     },
     "metadata": {}
    }
   ]
  },
  {
   "cell_type": "markdown",
   "source": "### Greedy Algorithm\n\n> https://www.programiz.com/dsa/greedy-algorithm\n\n---\n\n```\nProblem: You have to make a change of an amount using the smallest possible number of coins.\nAmount: $18\n\nAvailable coins are\n  $5 coin\n  $2 coin\n  $1 coin\nThere is no limit to the number of each coin you can use.\n```\n\n![](https://i.imgur.com/yDy3dm6.png)",
   "metadata": {
    "cell_id": "4fe545ed36454b24aab26e63fbd52acf",
    "tags": [],
    "deepnote_cell_type": "markdown",
    "deepnote_cell_height": 891.703125
   }
  },
  {
   "cell_type": "markdown",
   "source": "### Greedy Algorithm - Selection Sort\n\n> https://www.programiz.com/dsa/selection-sort\n\n---\n\nSelection sort is a sorting algorithm that selects the smallest element from an unsorted list in each iteration and places that element at the beginning of the unsorted list.\n\n",
   "metadata": {
    "cell_id": "e8ef1058061342d4bfbe0d4445ccfc1a",
    "tags": [],
    "deepnote_cell_type": "markdown",
    "deepnote_cell_height": 160.140625
   }
  },
  {
   "cell_type": "code",
   "metadata": {
    "cell_id": "31d86021dc24445499ac5436ca539afd",
    "tags": [],
    "deepnote_to_be_reexecuted": false,
    "source_hash": "122ac941",
    "execution_start": 1651770092685,
    "execution_millis": 3,
    "deepnote_cell_type": "code",
    "deepnote_cell_height": 422.96875
   },
   "source": "def selection_sort(arr):\n\n    ### for each elem, look at the remaining unsorted elems\n    for i in range(len(arr) - 1):\n\n        ### initial value of current min index\n        curr_min_idx = i\n\n        ### look at the remaining unsorted array\n        for j in range(i, len(arr)):\n            ### update current min index\n            if arr[j] < arr[curr_min_idx]:\n                curr_min_idx = j\n        \n        ### swap elem at pos i and curr_min_idx\n        temp = arr[i]\n        arr[i] = arr[curr_min_idx]\n        arr[curr_min_idx] = temp\n\n    return arr",
   "execution_count": null,
   "outputs": []
  },
  {
   "cell_type": "code",
   "metadata": {
    "cell_id": "d23a940aa0394fcbb3c0b56072a4100f",
    "tags": [],
    "deepnote_to_be_reexecuted": false,
    "source_hash": "951451bf",
    "execution_start": 1651764697951,
    "execution_millis": 35,
    "deepnote_cell_type": "code",
    "deepnote_cell_height": 154.125,
    "deepnote_output_heights": [
     21.1875
    ]
   },
   "source": "arr = [20,12,10,15,2]\n\nselection_sort(arr)",
   "execution_count": null,
   "outputs": [
    {
     "output_type": "execute_result",
     "execution_count": 3,
     "data": {
      "text/plain": "[2, 10, 12, 15, 20]"
     },
     "metadata": {}
    }
   ]
  },
  {
   "cell_type": "markdown",
   "source": "### Coin change problem - Recursive\n\n> https://leetcode.com/problems/coin-change/\n\n---\n\n__base case__\n\nWhen the remaining amount is in one of the available coins, increment total count and return it\n\nIf at any stage the remaining amt <= 0 return a big no (num coins reqd to get this change)\n\nFor a given amount and list of coins\n\nWe need to check what is the num of moves for each coin - and then pick out the minm from these\n\n\n",
   "metadata": {
    "cell_id": "34ab158c9f694708a83fbeadcb2dcfa6",
    "tags": [],
    "deepnote_cell_type": "markdown",
    "deepnote_cell_height": 283.296875
   }
  },
  {
   "cell_type": "code",
   "metadata": {
    "cell_id": "75db596adfc64509aede56be33e68eae",
    "tags": [],
    "deepnote_to_be_reexecuted": false,
    "source_hash": "a651e3ac",
    "execution_start": 1651818162453,
    "execution_millis": 0,
    "deepnote_cell_type": "code",
    "deepnote_cell_height": 296.953125
   },
   "source": "def coin_change(coins, amount, total):\n    print (amount, total)\n    if amount <= 0:\n        return 1000\n    if amount in coins:\n        return total + 1\n    all_cases = []\n    for change in coins:\n        # print ('Starting recursion tree with:', change)\n        all_cases.append(coin_change(coins, amount-change, total+1))\n\n    return min(all_cases)\n",
   "execution_count": null,
   "outputs": []
  },
  {
   "cell_type": "code",
   "metadata": {
    "cell_id": "80b53fdffb704872935f700e21071d81",
    "tags": [],
    "deepnote_to_be_reexecuted": false,
    "source_hash": "82f67667",
    "execution_start": 1651818183154,
    "execution_millis": 410,
    "deepnote_cell_type": "code",
    "deepnote_cell_height": 393.75,
    "deepnote_output_heights": [
     null,
     21.1875
    ]
   },
   "source": "coin_change([4, 3], 9, 0)",
   "execution_count": null,
   "outputs": [
    {
     "name": "stdout",
     "text": "9 0\n5 1\n1 2\n-3 3\n-2 3\n2 2\n-2 3\n-1 3\n6 1\n2 2\n-2 3\n-1 3\n3 2\n",
     "output_type": "stream"
    },
    {
     "output_type": "execute_result",
     "execution_count": 4,
     "data": {
      "text/plain": "3"
     },
     "metadata": {}
    }
   ]
  },
  {
   "cell_type": "code",
   "metadata": {
    "cell_id": "5fcef7b9d675473d9e8c8e565e60362d",
    "tags": [],
    "deepnote_cell_type": "code",
    "deepnote_cell_height": 101.953125
   },
   "source": "10, 1 -> 9, 2, 8, 3\n9, 1\n6, 1",
   "execution_count": null,
   "outputs": []
  },
  {
   "cell_type": "code",
   "metadata": {
    "cell_id": "0f9bd4a1202c4adb9e55e8a95409af28",
    "tags": [],
    "deepnote_cell_type": "code",
    "deepnote_cell_height": 65.953125
   },
   "source": "",
   "execution_count": null,
   "outputs": []
  },
  {
   "cell_type": "markdown",
   "source": "<a style='text-decoration:none;line-height:16px;display:flex;color:#5B5B62;padding:10px;justify-content:end;' href='https://deepnote.com?utm_source=created-in-deepnote-cell&projectId=c9f7b205-46e2-4f7d-8027-1722d788f5d8' target=\"_blank\">\n<img alt='Created in deepnote.com' style='display:inline;max-height:16px;margin:0px;margin-right:7.5px;' src='data:image/svg+xml;base64,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' > </img>\nCreated in <span style='font-weight:600;margin-left:4px;'>Deepnote</span></a>",
   "metadata": {
    "tags": [],
    "created_in_deepnote_cell": true,
    "deepnote_cell_type": "markdown"
   }
  }
 ],
 "nbformat": 4,
 "nbformat_minor": 0,
 "metadata": {
  "colab": {
   "name": "DSA-Python.ipynb",
   "provenance": [],
   "collapsed_sections": [],
   "authorship_tag": "ABX9TyNaHn/GGzx4Oi3QC4GwKvBI",
   "include_colab_link": true
  },
  "kernelspec": {
   "name": "python3",
   "display_name": "Python 3"
  },
  "deepnote_notebook_id": "38926652-8403-48ee-bd2f-44558f994bb1",
  "deepnote": {},
  "deepnote_execution_queue": []
 }
}