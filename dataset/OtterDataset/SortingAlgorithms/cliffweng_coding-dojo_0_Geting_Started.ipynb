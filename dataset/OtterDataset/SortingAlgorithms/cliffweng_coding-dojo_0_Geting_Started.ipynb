{
 "cells": [
  {
   "cell_type": "markdown",
   "metadata": {},
   "source": [
    "## Getting Started\n",
    "\n",
    "[Contest Rules](http://www.usaco.org/index.php?page=instructions)\n",
    "[Training](https://train.usaco.org)\n",
    "[]()\n",
    "\n",
    "### Input and Output\n",
    "https://darrenyao.com/usacobook/cpp.pdf#page=33\n",
    "#### Sample Submission\n",
    "In USACO, input is read from a file called problemname.in, and printing output\n",
    "to a file called problemname.out."
   ]
  },
  {
   "cell_type": "code",
   "execution_count": 13,
   "metadata": {},
   "outputs": [],
   "source": [
    "\"\"\"\n",
    "ID: weng.cl1\n",
    "LANG: PYTHON3\n",
    "TASK: sample\n",
    "\"\"\"\n",
    "fin = open ('sample.in', 'r')\n",
    "fout = open ('sample.out', 'w')\n",
    "\n",
    "## Do something here\n",
    "\n",
    "fout.write ('OK')\n",
    "fout.close()"
   ]
  },
  {
   "cell_type": "markdown",
   "metadata": {},
   "source": [
    "Read one line and remove the newline **fin.readline()**"
   ]
  },
  {
   "cell_type": "code",
   "execution_count": 14,
   "metadata": {},
   "outputs": [
    {
     "name": "stdout",
     "output_type": "stream",
     "text": [
      "1\n",
      ",\n",
      "2\n"
     ]
    }
   ],
   "source": [
    "fin = open ('sample.in', 'r')\n",
    "l = fin.readline().strip()\n",
    "## loop through each character\n",
    "for c in l.strip():\n",
    "    print(c)"
   ]
  },
  {
   "cell_type": "markdown",
   "metadata": {},
   "source": [
    "Read all lines into a list of strings **fin.readlines()**"
   ]
  },
  {
   "cell_type": "code",
   "execution_count": 16,
   "metadata": {},
   "outputs": [
    {
     "name": "stdout",
     "output_type": "stream",
     "text": [
      "1\n",
      "2\n",
      "13\n",
      "14\n",
      "15\n",
      "26\n",
      "26\n",
      "28\n",
      "29\n"
     ]
    }
   ],
   "source": [
    "fin = open ('sample.in', 'r')\n",
    "lines = fin.readlines()\n",
    "for l in lines:\n",
    "    ## split strings \n",
    "    for i in l.strip().split(\",\"):\n",
    "        print(i)"
   ]
  },
  {
   "cell_type": "markdown",
   "metadata": {},
   "source": [
    "### Big O Notation and Complexity Calculations"
   ]
  },
  {
   "cell_type": "code",
   "execution_count": 19,
   "metadata": {},
   "outputs": [
    {
     "name": "stdout",
     "output_type": "stream",
     "text": [
      "3553\n"
     ]
    }
   ],
   "source": [
    "n = 100\n",
    "total=0\n",
    "\n",
    "def simple(n):\n",
    "     return 34 * n + 153\n",
    "\n",
    "## Time order O(1)\n",
    "print(simple(100))\n",
    "\n",
    "## Time order O(n)\n",
    "for i in range(n):\n",
    "    simple(n)"
   ]
  },
  {
   "cell_type": "markdown",
   "metadata": {},
   "source": [
    "The following code is O(n^2 + nm), because it consists of two blocks of complexity O(n^2) and O(nm), and neither of them is a lower order function with respect to the other."
   ]
  },
  {
   "cell_type": "code",
   "execution_count": 21,
   "metadata": {},
   "outputs": [],
   "source": [
    "n = 1000\n",
    "m = 500\n",
    "s = 0\n",
    "for i in range(n):\n",
    "    for j in range(n):\n",
    "        s += i*j\n",
    "for i in range(n):\n",
    "    for j in range(m):\n",
    "        s += i*j"
   ]
  },
  {
   "cell_type": "markdown",
   "metadata": {},
   "source": [
    "#### Other common Complexity\n",
    "- Mathematical formulas that just calculate an answer: O(1)\n",
    "- Unordered set/map: O(1) per operation\n",
    "- Binary search: O(log n)\n",
    "- Ordered set/map or priority queue: O(log n) per operation\n",
    "- Prime factorization of an integer, or checking primality or compositeness of an integer: O(sqrt(n))\n",
    "- Reading in n items of input: O(n)\n",
    "- Iterating through an array or a list of n elements: O(n)\n",
    "- Sorting: usually O(n log n) for default sorting algorithms (mergesort and quicksort used in sorted())\n",
    "- Iterating through all subsets of size k of the input elements: O(n^k). For example, iterating through all triplets is O(n^3).\n",
    "- Iterating through all subsets: O(2^n)\n",
    "- Iterating through all permutations: O(n!)"
   ]
  },
  {
   "cell_type": "code",
   "execution_count": null,
   "metadata": {},
   "outputs": [],
   "source": []
  }
 ],
 "metadata": {
  "kernelspec": {
   "display_name": "Python 3",
   "language": "python",
   "name": "python3"
  },
  "language_info": {
   "codemirror_mode": {
    "name": "ipython",
    "version": 3
   },
   "file_extension": ".py",
   "mimetype": "text/x-python",
   "name": "python",
   "nbconvert_exporter": "python",
   "pygments_lexer": "ipython3",
   "version": "3.8.6"
  }
 },
 "nbformat": 4,
 "nbformat_minor": 4
}
