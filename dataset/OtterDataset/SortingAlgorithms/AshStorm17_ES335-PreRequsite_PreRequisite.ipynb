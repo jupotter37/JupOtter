{
 "cells": [
  {
   "cell_type": "code",
   "execution_count": 1,
   "id": "23e8a59c",
   "metadata": {},
   "outputs": [],
   "source": [
    "import numpy as np\n",
    "import matplotlib.pyplot as plt\n",
    "import pandas as pd"
   ]
  },
  {
   "cell_type": "code",
   "execution_count": 2,
   "id": "4d95e7d2",
   "metadata": {},
   "outputs": [],
   "source": [
    "import random\n",
    "from timeit import timeit"
   ]
  },
  {
   "cell_type": "code",
   "execution_count": 3,
   "id": "94d99dca",
   "metadata": {},
   "outputs": [],
   "source": [
    "import jax.numpy as jnp\n",
    "import sympy as sp"
   ]
  },
  {
   "cell_type": "markdown",
   "id": "1bd80405",
   "metadata": {},
   "source": [
    "### Q1"
   ]
  },
  {
   "cell_type": "markdown",
   "id": "fa6f0c7a",
   "metadata": {},
   "source": [
    "Given matrices $A_{n \\times k}$ and $B_{k \\times m}$, their product matrix $C = AB$ results in a matrix $C_{n \\times m}$.\n",
    "\n",
    "Each element of matrix $C_{n \\times m}$ is computed as:\n",
    "$$\n",
    "C_{ij} = \\sum_{r=1}^{k} A_{ir} B_{rj}\n",
    "$$\n",
    "\n",
    "Each cell in $C$ requires $k$ multiplications and $(k-1)$ additions.\n",
    "There are total $n \\times m$ cells in $C$.\n",
    "\n",
    "$$\n",
    "Additions = n \\times m \\times (k-1)\n",
    "\\\\\n",
    "Multiplications = n \\times m \\times k\n",
    "$$"
   ]
  },
  {
   "cell_type": "markdown",
   "id": "8d721f78",
   "metadata": {},
   "source": [
    "### Q2"
   ]
  },
  {
   "cell_type": "code",
   "execution_count": 4,
   "id": "f646e94f",
   "metadata": {},
   "outputs": [],
   "source": [
    "n, k, m = 5,9,8\n",
    "A = [[random.random() for _ in range(k)] for _ in range(n)]\n",
    "B = [[random.random() for _ in range(m)] for _ in range(k)]"
   ]
  },
  {
   "cell_type": "code",
   "execution_count": 5,
   "id": "ff1c0bff",
   "metadata": {},
   "outputs": [],
   "source": [
    "def matrix_multiply_list(A, B):\n",
    "    n = len(A)\n",
    "    k = len(A[0])\n",
    "    m = len(B[0])\n",
    "    C = [[0 for _ in range(m)] for _ in range(n)]\n",
    "    \n",
    "    for i in range(n):\n",
    "        for j in range(m):\n",
    "            for r in range(k):\n",
    "                C[i][j] += A[i][r] * B[r][j]\n",
    "                \n",
    "    return C;"
   ]
  },
  {
   "cell_type": "code",
   "execution_count": 6,
   "id": "5711b2e3",
   "metadata": {},
   "outputs": [],
   "source": [
    "def matrix_multiply_np(A, B):\n",
    "    A_np = np.array(A)\n",
    "    B_np = np.array(B)\n",
    "    \n",
    "    C_np = C_np = np.dot(A_np, B_np)\n",
    "    \n",
    "    return C_np;"
   ]
  },
  {
   "cell_type": "code",
   "execution_count": 7,
   "id": "6cc392be",
   "metadata": {},
   "outputs": [
    {
     "name": "stdout",
     "output_type": "stream",
     "text": [
      "Multiplication using list of list took 0.026359 seconds\n",
      "Multiplication using numpy took 0.005967 seconds\n"
     ]
    }
   ],
   "source": [
    "time1 = timeit('matrix_multiply_list(A, B)', globals=globals(), number=1000)\n",
    "time2 = timeit('matrix_multiply_np(A, B)', globals=globals(), number=1000)\n",
    "\n",
    "print(f\"Multiplication using list of list took {time1:.6f} seconds\")\n",
    "print(f\"Multiplication using numpy took {time2:.6f} seconds\")"
   ]
  },
  {
   "cell_type": "markdown",
   "id": "2af9bff0",
   "metadata": {},
   "source": [
    "As is clearly seen the approach Matrix Multiplication is fatser using $Numpy$ than using $List \\space of  \\space List$ approach"
   ]
  },
  {
   "cell_type": "markdown",
   "id": "a67665cb",
   "metadata": {},
   "source": [
    "### Q3"
   ]
  },
  {
   "cell_type": "markdown",
   "id": "a40d0660",
   "metadata": {},
   "source": [
    "In the given approach to find the minimum element in the array we need to iterate once over the entire list which is of complexity $O(n)$\n",
    "If we have to find median which is approximately finding the $(n/2)^{\\text{th}}$ smallest element which will have complexity\n",
    "$$\n",
    "O(n) + O(n) \\space ... \\space n/2 \\space times\n",
    "\\\\\n",
    "= O(n \\times n/2)\n",
    "$$\n",
    "Hence the complexity is of the order of $O(n^2)$"
   ]
  },
  {
   "cell_type": "code",
   "execution_count": 8,
   "id": "271d5a2b",
   "metadata": {},
   "outputs": [
    {
     "name": "stdout",
     "output_type": "stream",
     "text": [
      "Naive Median: 490\n"
     ]
    }
   ],
   "source": [
    "def naive_median(arr):\n",
    "    n = len(arr)\n",
    "    half_len = n // 2\n",
    "    for i in range(half_len):\n",
    "        max_index = arr.index(max(arr))\n",
    "        arr.pop(max_index)\n",
    "    return max(arr)\n",
    "\n",
    "arr = np.random.randint(0, 1000, size=1000).tolist()\n",
    "print(f\"Naive Median: {naive_median(arr[:])}\")"
   ]
  },
  {
   "cell_type": "markdown",
   "id": "b9780582",
   "metadata": {},
   "source": [
    "A better method would include sorting the whole list which will take $O(n \\space logn)$ time\n",
    "Then we could find the median i.e the $(n/2)^{\\text{th}}$ smallest element at index $n/2$\n",
    "Overall Complexity of the approach:\n",
    "$$\n",
    "O(n \\space logn) + O(1)\n",
    "= O(n \\space logn)\n",
    "$$"
   ]
  },
  {
   "cell_type": "markdown",
   "id": "90f64aa9",
   "metadata": {},
   "source": [
    "One such sorting algorithm that sorts the array in $O(n \\space logn)$ time is $QuickSort$"
   ]
  },
  {
   "cell_type": "code",
   "execution_count": 9,
   "id": "efc59534",
   "metadata": {},
   "outputs": [
    {
     "name": "stdout",
     "output_type": "stream",
     "text": [
      "Quickselect Median: 482.5\n"
     ]
    }
   ],
   "source": [
    "import numpy as np\n",
    "\n",
    "def partition(arr, low, high):\n",
    "    x = low\n",
    "    \n",
    "    for j in range(low + 1, high + 1):\n",
    "        if arr[j] < arr[low]:\n",
    "            x += 1\n",
    "            \n",
    "    arr[low], arr[x] = arr[x], arr[low]\n",
    "\n",
    "    i = low\n",
    "    j = high\n",
    "    \n",
    "    while i < x and j > x:\n",
    "        if arr[i] < arr[x]:\n",
    "            i += 1\n",
    "        elif arr[j] > arr[x]:\n",
    "            j -= 1\n",
    "        else:\n",
    "            arr[i], arr[j] = arr[j], arr[i]\n",
    "            i += 1\n",
    "            j -= 1\n",
    "\n",
    "    return x\n",
    "\n",
    "def quickSort(arr, low, high):\n",
    "    if low < high:\n",
    "        pivot_index = partition(arr, low, high)\n",
    "        quickSort(arr, low, pivot_index - 1)\n",
    "        quickSort(arr, pivot_index + 1, high)\n",
    "\n",
    "def quick_median(arr):\n",
    "    n = len(arr)\n",
    "    quickSort(arr, 0, n - 1)\n",
    "    if n % 2 == 1:\n",
    "        return arr[n // 2]\n",
    "    else:\n",
    "        return 0.5 * (arr[n // 2 - 1] + arr[n // 2])\n",
    "\n",
    "\n",
    "arr = np.random.randint(0, 1000, size=1000).tolist()\n",
    "print(f\"Quickselect Median: {quick_median(arr[:])}\")"
   ]
  },
  {
   "cell_type": "code",
   "execution_count": 10,
   "id": "f96ff433",
   "metadata": {},
   "outputs": [
    {
     "name": "stdout",
     "output_type": "stream",
     "text": [
      "Naive method time: 0.004209 seconds\n",
      "Quickselect method time: 0.000008 seconds\n",
      "NumPy method time: 0.000257 seconds\n"
     ]
    }
   ],
   "source": [
    "arr = np.random.randint(0, 1000, size=1000).tolist()\n",
    "\n",
    "# Naive method\n",
    "naive_time = timeit(lambda: naive_median(arr), number=10)\n",
    "print(f\"Naive method time: {naive_time:.6f} seconds\")\n",
    "\n",
    "# Quickselect method\n",
    "quickselect_time = timeit(lambda: quick_median(arr), number=10)\n",
    "print(f\"Quickselect method time: {quickselect_time:.6f} seconds\")\n",
    "\n",
    "# NumPy method\n",
    "numpy_time = timeit(lambda: np.median(arr), number=10)\n",
    "print(f\"NumPy method time: {numpy_time:.6f} seconds\")"
   ]
  },
  {
   "cell_type": "markdown",
   "id": "a0c1ebea",
   "metadata": {},
   "source": [
    "It is obseverved that the naive approach takes more time then when median is found using numpy\n",
    "<br>\n",
    "However finding the median takes less time using the method to sort the array first then using numpy"
   ]
  },
  {
   "cell_type": "markdown",
   "id": "e6107583",
   "metadata": {},
   "source": [
    "### Q4"
   ]
  },
  {
   "cell_type": "markdown",
   "id": "3d203de1",
   "metadata": {},
   "source": [
    "The gradient of the function f:\n",
    "$$\n",
    "x^2 y + y^3 sin(x)\n",
    "$$\n",
    "is $\\nabla f$ given by:\n",
    "$$\n",
    "(2xy + y^3 cos(x),\\space x^2 + 3y^2 sin(x))\n",
    "$$"
   ]
  },
  {
   "cell_type": "markdown",
   "id": "2eed4b1e",
   "metadata": {},
   "source": [
    "### Q5"
   ]
  },
  {
   "cell_type": "code",
   "execution_count": 11,
   "id": "10df16d9",
   "metadata": {},
   "outputs": [
    {
     "name": "stdout",
     "output_type": "stream",
     "text": [
      "Random x values: [ 1.4900088 -8.006279  -2.1367955  7.8835654  1.9313312]\n",
      "Random y values: [ 1.4900088 -8.006279  -2.1367955  7.8835654  1.9313312]\n",
      "JAX computed gradient with respect to x for array: [  4.7072077 206.0592     14.363743  109.8082      4.918711 ]\n",
      "JAX computed gradient with respect to y for array: [   8.858783 -125.97515    -6.99568   248.52083    14.200729]\n"
     ]
    }
   ],
   "source": [
    "from jax import grad, random, vmap\n",
    "\n",
    "def f(x, y):\n",
    "    return x**2 * y + y**3 * jnp.sin(x)\n",
    "\n",
    "df_dx = grad(f, argnums=0)\n",
    "df_dy = grad(f, argnums=1)\n",
    "df_dx_vmap = vmap(df_dx, in_axes=(0, 0))\n",
    "df_dy_vmap = vmap(df_dy, in_axes=(0, 0))\n",
    "\n",
    "key = random.PRNGKey(0)\n",
    "x_vals = random.uniform(key, shape=(5,), minval=-10.0, maxval=10.0)\n",
    "y_vals = random.uniform(key, shape=(5,), minval=-10.0, maxval=10.0)\n",
    "grad_x_vals = df_dx_vmap(x_vals, y_vals)\n",
    "grad_y_vals = df_dy_vmap(x_vals, y_vals)\n",
    "\n",
    "print(\"Random x values:\", x_vals)\n",
    "print(\"Random y values:\", y_vals)\n",
    "print(\"JAX computed gradient with respect to x for array:\", grad_x_vals)\n",
    "print(\"JAX computed gradient with respect to y for array:\", grad_y_vals)"
   ]
  },
  {
   "cell_type": "markdown",
   "id": "67440744",
   "metadata": {},
   "source": [
    "### Q6"
   ]
  },
  {
   "cell_type": "code",
   "execution_count": 12,
   "id": "71062138",
   "metadata": {},
   "outputs": [
    {
     "name": "stdout",
     "output_type": "stream",
     "text": [
      "Symbolic Gradient:\n",
      "[2*x*y + y**3*cos(x), x**2 + 3*y**2*sin(x)]\n",
      "\n",
      "Point (x, y): (0.7116, 0.3291)\n",
      "Symbolic Gradient:   [0.49541782237006304, 0.7185532392280589]\n",
      "Analytical Gradient: [0.49541782 0.71855324]\n",
      "Difference:          [0. 0.]\n",
      "\n",
      "Point (x, y): (0.5728, 0.7959)\n",
      "Symbolic Gradient:   [1.3353718314172816, 1.3579582810605704]\n",
      "Analytical Gradient: [1.33537183 1.35795828]\n",
      "Difference:          [0. 0.]\n",
      "\n",
      "Point (x, y): (0.5906, 0.9667)\n",
      "Symbolic Gradient:   [1.8921318229609443, 1.9099893963591401]\n",
      "Analytical Gradient: [1.89213182 1.9099894 ]\n",
      "Difference:          [0. 0.]\n",
      "\n",
      "Point (x, y): (0.8534, 0.5590)\n",
      "Symbolic Gradient:   [1.0688424904718772, 1.4345802290775442]\n",
      "Analytical Gradient: [1.06884249 1.43458023]\n",
      "Difference:          [ 0.00000000e+00 -2.22044605e-16]\n",
      "\n",
      "Point (x, y): (0.8256, 0.6976)\n",
      "Symbolic Gradient:   [1.3821281678542812, 1.7546410295661221]\n",
      "Analytical Gradient: [1.38212817 1.75464103]\n",
      "Difference:          [0. 0.]\n"
     ]
    }
   ],
   "source": [
    "x, y = sp.symbols('x y')\n",
    "f = x**2 * y + y**3 * sp.sin(x)\n",
    "grad_f = [sp.diff(f, var) for var in (x, y)]\n",
    "\n",
    "print(\"Symbolic Gradient:\")\n",
    "print(grad_f)\n",
    "\n",
    "def analytical_gradient(x, y):\n",
    "    df_dx = 2 * x * y + y**3 * np.cos(x)\n",
    "    df_dy = x**2 + 3 * y**2 * np.sin(x)\n",
    "    return np.array([df_dx, df_dy])\n",
    "\n",
    "test_points = [(np.random.rand(), np.random.rand()) for _ in range(5)]\n",
    "\n",
    "for point in test_points:\n",
    "    x_val, y_val = point\n",
    "    grad_analytical = analytical_gradient(x_val, y_val)\n",
    "    grad_symbolic = [float(g.evalf(subs={x: x_val, y: y_val})) for g in grad_f]\n",
    "    \n",
    "    print(f\"\\nPoint (x, y): ({x_val:.4f}, {y_val:.4f})\")\n",
    "    print(f\"Symbolic Gradient:   {grad_symbolic}\")\n",
    "    print(f\"Analytical Gradient: {grad_analytical}\")\n",
    "    print(f\"Difference:          {np.array(grad_symbolic) - grad_analytical}\")"
   ]
  },
  {
   "cell_type": "markdown",
   "id": "b023e785",
   "metadata": {},
   "source": [
    "Since the analytical gradient is almost the same as the actually computed gradient i.e (symbolic - analytical) is tending to 0.\n",
    "<br>\n",
    "Hence our analytical gradient thus computed is verified."
   ]
  },
  {
   "cell_type": "markdown",
   "id": "676efecd",
   "metadata": {},
   "source": [
    "### Q7"
   ]
  },
  {
   "cell_type": "code",
   "execution_count": 13,
   "id": "33686f54",
   "metadata": {},
   "outputs": [],
   "source": [
    "student_records = {\n",
    "    2022: {\n",
    "        \"Branch 1\": {\n",
    "            3: {\n",
    "                \"Name\": \"Spider\",\n",
    "                \"Marks\": {\n",
    "                    \"Maths\": 93,\n",
    "                    \"English\": 77,\n",
    "                    \"Science\": 96\n",
    "                }\n",
    "            },\n",
    "            7: {\n",
    "                \"Name\": \"Ant\",\n",
    "                \"Marks\": {\n",
    "                    \"Maths\": 90,\n",
    "                    \"English\": 80,\n",
    "                    \"Science\": 88\n",
    "                }\n",
    "            }\n",
    "        },\n",
    "        \"Branch 2\": {\n",
    "            4: {\n",
    "                \"Name\": \"Croc\",\n",
    "                \"Marks\": {\n",
    "                    \"Maths\": 95,\n",
    "                    \"English\": 75,\n",
    "                    \"Science\": 82\n",
    "                }\n",
    "            }\n",
    "        }\n",
    "    },\n",
    "    2023: {\n",
    "        \"Branch 1\": {\n",
    "            3: {\n",
    "                \"Name\": \"Beetle\",\n",
    "                \"Marks\": {\n",
    "                    \"Maths\": 85,\n",
    "                    \"English\": 78,\n",
    "                    \"Science\": 91\n",
    "                }\n",
    "            }\n",
    "        },\n",
    "        \"Branch 2\": {\n",
    "            5: {\n",
    "                \"Name\": \"Rat\",\n",
    "                \"Marks\": {\n",
    "                    \"Maths\": 88,\n",
    "                    \"English\": 82,\n",
    "                    \"Science\": 90\n",
    "                }\n",
    "            }\n",
    "        }\n",
    "    },\n",
    "    2024: {\n",
    "        \"Branch 1\": {\n",
    "            9: {\n",
    "                \"Name\": \"Snake\",\n",
    "                \"Marks\": {\n",
    "                    \"Maths\": 92,\n",
    "                    \"English\": 80,\n",
    "                    \"Science\": 89\n",
    "                }\n",
    "            }\n",
    "        },\n",
    "        \"Branch 2\": {\n",
    "            4: {\n",
    "                \"Name\": \"Eagle\",\n",
    "                \"Marks\": {\n",
    "                    \"Maths\": 87,\n",
    "                    \"English\": 77,\n",
    "                    \"Science\": 84\n",
    "                }\n",
    "            }\n",
    "        }\n",
    "    },\n",
    "    2025: {\n",
    "        \"Branch 1\": {\n",
    "            12: {\n",
    "                \"Name\": \"Vulture\",\n",
    "                \"Marks\": {\n",
    "                    \"Maths\": 91,\n",
    "                    \"English\": 83,\n",
    "                    \"Science\": 87\n",
    "                }\n",
    "            }\n",
    "        },\n",
    "        \"Branch 2\": {\n",
    "            1: {\n",
    "                \"Name\": \"Crow\",\n",
    "                \"Marks\": {\n",
    "                    \"Maths\": 90,\n",
    "                    \"English\": 79,\n",
    "                    \"Science\": 85\n",
    "                }\n",
    "            }\n",
    "        }\n",
    "    }\n",
    "}"
   ]
  },
  {
   "cell_type": "markdown",
   "id": "e0011cc3",
   "metadata": {},
   "source": [
    "### Q8"
   ]
  },
  {
   "cell_type": "code",
   "execution_count": 14,
   "id": "f7b3ef3a",
   "metadata": {},
   "outputs": [],
   "source": [
    "class Marks:\n",
    "    def __init__(self, maths, english, science):\n",
    "        self.maths = maths\n",
    "        self.english = english\n",
    "        self.science = science\n",
    "\n",
    "    def __repr__(self):\n",
    "        return f\"{{Maths: {self.maths}, English: {self.english}, Science: {self.science}}}\"\n",
    "\n",
    "class Student:\n",
    "    def __init__(self, name, marks):\n",
    "        self.name = name\n",
    "        self.marks = marks\n",
    "\n",
    "    def __repr__(self):\n",
    "        return f\"{{Name: {self.name}, Marks: {self.marks}}}\"\n",
    "\n",
    "class Branch:\n",
    "    def __init__(self):\n",
    "        self.students = {}\n",
    "\n",
    "    def add_student(self, roll_number, name, marks):\n",
    "        self.students[roll_number] = Student(name, marks)\n",
    "\n",
    "    def __repr__(self):\n",
    "        return f\"{self.students}\"\n",
    "\n",
    "class Year:\n",
    "    def __init__(self):\n",
    "        self.branches = {}\n",
    "\n",
    "    def add_branch(self, branch_name, branch):\n",
    "        self.branches[branch_name] = branch\n",
    "\n",
    "    def __repr__(self):\n",
    "        return f\"{self.branches}\"\n",
    "\n",
    "class StudentRecords:\n",
    "    def __init__(self):\n",
    "        self.years = {}\n",
    "\n",
    "    def add_year(self, year, year_data):\n",
    "        self.years[year] = year_data\n",
    "\n",
    "    def __repr__(self):\n",
    "        return f\"student_records = {self.years}\""
   ]
  },
  {
   "cell_type": "code",
   "execution_count": 15,
   "id": "7e99dc79",
   "metadata": {},
   "outputs": [
    {
     "name": "stdout",
     "output_type": "stream",
     "text": [
      "student_records = {2022: {'Branch 1': {1: {Name: Spider, Marks: {Maths: 93, English: 77, Science: 96}}, 2: {Name: Ant, Marks: {Maths: 90, English: 80, Science: 88}}}, 'Branch 2': {1: {Name: Croc, Marks: {Maths: 95, English: 75, Science: 82}}}}, 2023: {'Branch 1': {1: {Name: Beetle, Marks: {Maths: 85, English: 78, Science: 91}}}, 'Branch 2': {1: {Name: Rat, Marks: {Maths: 88, English: 82, Science: 90}}}}, 2024: {'Branch 1': {1: {Name: Snake, Marks: {Maths: 92, English: 80, Science: 89}}}, 'Branch 2': {1: {Name: Eagle, Marks: {Maths: 87, English: 77, Science: 84}}}}, 2025: {'Branch 1': {1: {Name: Vulture, Marks: {Maths: 91, English: 83, Science: 87}}}, 'Branch 2': {1: {Name: Crow, Marks: {Maths: 90, English: 79, Science: 85}}}}}\n"
     ]
    }
   ],
   "source": [
    "records = StudentRecords()\n",
    "\n",
    "# Data for 2022\n",
    "year_2022 = Year()\n",
    "branch_1_2022 = Branch()\n",
    "branch_1_2022.add_student(1, \"Spider\", Marks(93, 77, 96))\n",
    "branch_1_2022.add_student(2, \"Ant\", Marks(90, 80, 88))\n",
    "branch_2_2022 = Branch()\n",
    "branch_2_2022.add_student(1, \"Croc\", Marks(95, 75, 82))\n",
    "year_2022.add_branch(\"Branch 1\", branch_1_2022)\n",
    "year_2022.add_branch(\"Branch 2\", branch_2_2022)\n",
    "records.add_year(2022, year_2022)\n",
    "\n",
    "# Data for 2023\n",
    "year_2023 = Year()\n",
    "branch_1_2023 = Branch()\n",
    "branch_1_2023.add_student(1, \"Beetle\", Marks(85, 78, 91))\n",
    "branch_2_2023 = Branch()\n",
    "branch_2_2023.add_student(1, \"Rat\", Marks(88, 82, 90))\n",
    "year_2023.add_branch(\"Branch 1\", branch_1_2023)\n",
    "year_2023.add_branch(\"Branch 2\", branch_2_2023)\n",
    "records.add_year(2023, year_2023)\n",
    "\n",
    "# Data for 2024\n",
    "year_2024 = Year()\n",
    "branch_1_2024 = Branch()\n",
    "branch_1_2024.add_student(1, \"Snake\", Marks(92, 80, 89))\n",
    "branch_2_2024 = Branch()\n",
    "branch_2_2024.add_student(1, \"Eagle\", Marks(87, 77, 84))\n",
    "year_2024.add_branch(\"Branch 1\", branch_1_2024)\n",
    "year_2024.add_branch(\"Branch 2\", branch_2_2024)\n",
    "records.add_year(2024, year_2024)\n",
    "\n",
    "# Data for 2025\n",
    "year_2025 = Year()\n",
    "branch_1_2025 = Branch()\n",
    "branch_1_2025.add_student(1, \"Vulture\", Marks(91, 83, 87))\n",
    "branch_2_2025 = Branch()\n",
    "branch_2_2025.add_student(1, \"Crow\", Marks(90, 79, 85))\n",
    "year_2025.add_branch(\"Branch 1\", branch_1_2025)\n",
    "year_2025.add_branch(\"Branch 2\", branch_2_2025)\n",
    "records.add_year(2025, year_2025)\n",
    "\n",
    "print(records)"
   ]
  },
  {
   "cell_type": "markdown",
   "id": "fdf954b7",
   "metadata": {},
   "source": [
    "### Q9"
   ]
  },
  {
   "cell_type": "markdown",
   "id": "630bc11f",
   "metadata": {},
   "source": [
    "$$\n",
    "y = x\n",
    "$$"
   ]
  },
  {
   "cell_type": "code",
   "execution_count": 16,
   "id": "2427bda5",
   "metadata": {},
   "outputs": [
    {
     "data": {
      "image/png": "[encoded data removed]",
      "text/plain": [
       "<Figure size 600x400 with 1 Axes>"
      ]
     },
     "metadata": {},
     "output_type": "display_data"
    }
   ],
   "source": [
    "x = np.arange(0.5, 100.0, 0.5)\n",
    "y = x\n",
    "\n",
    "plt.figure(figsize=(6, 4))\n",
    "plt.plot(x, y, label='x = y', color='blue')\n",
    "plt.xlabel('x')\n",
    "plt.ylabel('y')\n",
    "plt.title('Plot of the function x = y')\n",
    "plt.grid(True)\n",
    "plt.legend()\n",
    "plt.show()"
   ]
  },
  {
   "cell_type": "markdown",
   "id": "45dc08c8",
   "metadata": {},
   "source": [
    "$$\n",
    "y = x ^ 2\n",
    "$$"
   ]
  },
  {
   "cell_type": "code",
   "execution_count": 17,
   "id": "739a5c8d",
   "metadata": {},
   "outputs": [
    {
     "data": {
      "image/png": "[encoded data removed]",
      "text/plain": [
       "<Figure size 600x400 with 1 Axes>"
      ]
     },
     "metadata": {},
     "output_type": "display_data"
    }
   ],
   "source": [
    "x = np.arange(0.5, 100.0, 0.5)\n",
    "y = np.power(x,2)\n",
    "\n",
    "plt.figure(figsize=(6, 4))\n",
    "plt.plot(x, y, label='x = y', color='blue')\n",
    "plt.xlabel('x')\n",
    "plt.ylabel('y')\n",
    "plt.title('Plot of the function x = y')\n",
    "plt.grid(True)\n",
    "plt.legend()\n",
    "plt.show()"
   ]
  },
  {
   "cell_type": "markdown",
   "id": "4c180974",
   "metadata": {},
   "source": [
    "$$\n",
    "y = \\frac{x^3}{100}\n",
    "$$"
   ]
  },
  {
   "cell_type": "code",
   "execution_count": 18,
   "id": "173d0204",
   "metadata": {},
   "outputs": [
    {
     "data": {
      "image/png": "[encoded data removed]",
      "text/plain": [
       "<Figure size 600x400 with 1 Axes>"
      ]
     },
     "metadata": {},
     "output_type": "display_data"
    }
   ],
   "source": [
    "x = np.arange(0.5, 100.0, 0.5)\n",
    "y = np.power(x,3) / 100\n",
    "\n",
    "plt.figure(figsize=(6, 4))\n",
    "plt.plot(x, y, label='x = y', color='blue')\n",
    "plt.xlabel('x')\n",
    "plt.ylabel('y')\n",
    "plt.title('Plot of the function x = y')\n",
    "plt.grid(True)\n",
    "plt.legend()\n",
    "plt.show()"
   ]
  },
  {
   "cell_type": "markdown",
   "id": "55ef7b95",
   "metadata": {},
   "source": [
    "$$\n",
    "y = sin(x)\n",
    "$$"
   ]
  },
  {
   "cell_type": "code",
   "execution_count": 19,
   "id": "26606445",
   "metadata": {},
   "outputs": [
    {
     "data": {
      "image/png": "[encoded data removed]",
      "text/plain": [
       "<Figure size 600x400 with 1 Axes>"
      ]
     },
     "metadata": {},
     "output_type": "display_data"
    }
   ],
   "source": [
    "x = np.arange(0.5, 100.0, 0.5)\n",
    "y = np.sin(x)\n",
    "\n",
    "plt.figure(figsize=(6, 4))\n",
    "plt.plot(x, y, label='x = y', color='blue')\n",
    "plt.xlabel('x')\n",
    "plt.ylabel('y')\n",
    "plt.title('Plot of the function x = y')\n",
    "plt.grid(True)\n",
    "plt.legend()\n",
    "plt.show()"
   ]
  },
  {
   "cell_type": "markdown",
   "id": "f5df8339",
   "metadata": {},
   "source": [
    "$$\n",
    "y = \\frac{\\sin(x)}{x}\n",
    "$$"
   ]
  },
  {
   "cell_type": "code",
   "execution_count": 20,
   "id": "53917be2",
   "metadata": {},
   "outputs": [
    {
     "data": {
      "image/png": "[encoded data removed]",
      "text/plain": [
       "<Figure size 600x400 with 1 Axes>"
      ]
     },
     "metadata": {},
     "output_type": "display_data"
    }
   ],
   "source": [
    "x = np.arange(0.5, 100.0, 0.5)\n",
    "y = np.sin(x) / x\n",
    "\n",
    "plt.figure(figsize=(6, 4))\n",
    "plt.plot(x, y, label='x = y', color='blue')\n",
    "plt.xlabel('x')\n",
    "plt.ylabel('y')\n",
    "plt.title('Plot of the function x = y')\n",
    "plt.grid(True)\n",
    "plt.legend()\n",
    "plt.show()"
   ]
  },
  {
   "cell_type": "markdown",
   "id": "cb871731",
   "metadata": {},
   "source": [
    "$$\n",
    "y = log x\n",
    "$$"
   ]
  },
  {
   "cell_type": "code",
   "execution_count": 21,
   "id": "22261920",
   "metadata": {},
   "outputs": [
    {
     "data": {
      "image/png": "[encoded data removed]",
      "text/plain": [
       "<Figure size 600x400 with 1 Axes>"
      ]
     },
     "metadata": {},
     "output_type": "display_data"
    }
   ],
   "source": [
    "x = np.arange(0.5, 100.0, 0.5)\n",
    "y = np.log(x)\n",
    "\n",
    "plt.figure(figsize=(6, 4))\n",
    "plt.plot(x, y, label='x = y', color='blue')\n",
    "plt.xlabel('x')\n",
    "plt.ylabel('y')\n",
    "plt.title('Plot of the function x = y')\n",
    "plt.grid(True)\n",
    "plt.legend()\n",
    "plt.show()"
   ]
  },
  {
   "cell_type": "markdown",
   "id": "10e3109b",
   "metadata": {},
   "source": [
    "$$\n",
    "y = e ^ x\n",
    "$$"
   ]
  },
  {
   "cell_type": "code",
   "execution_count": 22,
   "id": "223b00c3",
   "metadata": {},
   "outputs": [
    {
     "data": {
      "image/png": "[encoded data removed]",
      "text/plain": [
       "<Figure size 600x400 with 1 Axes>"
      ]
     },
     "metadata": {},
     "output_type": "display_data"
    }
   ],
   "source": [
    "x = np.arange(0.5, 100.0, 0.5)\n",
    "y = np.exp(x)\n",
    "\n",
    "plt.figure(figsize=(6, 4))\n",
    "plt.plot(x, y, label='x = y', color='blue')\n",
    "plt.xlabel('x')\n",
    "plt.ylabel('y')\n",
    "plt.title('Plot of the function x = y')\n",
    "plt.grid(True)\n",
    "plt.legend()\n",
    "plt.show()"
   ]
  },
  {
   "cell_type": "markdown",
   "id": "0751a7d4",
   "metadata": {},
   "source": [
    "### Q10"
   ]
  },
  {
   "cell_type": "code",
   "execution_count": 23,
   "id": "e1ef8e62",
   "metadata": {},
   "outputs": [],
   "source": [
    "matrix = np.random.uniform(1, 2, (20, 5))\n",
    "\n",
    "df = pd.DataFrame(matrix, columns=['a', 'b', 'c', 'd', 'e'])"
   ]
  },
  {
   "cell_type": "code",
   "execution_count": 24,
   "id": "a335d2ee",
   "metadata": {},
   "outputs": [
    {
     "name": "stdout",
     "output_type": "stream",
     "text": [
      "Column with the highest standard deviation:\n",
      "c\n"
     ]
    }
   ],
   "source": [
    "std_devs = df.std()\n",
    "max_std_column = std_devs.idxmax()\n",
    "print(\"Column with the highest standard deviation:\")\n",
    "print(max_std_column)"
   ]
  },
  {
   "cell_type": "code",
   "execution_count": 25,
   "id": "40876829",
   "metadata": {},
   "outputs": [
    {
     "name": "stdout",
     "output_type": "stream",
     "text": [
      "Row with the lowest mean:\n",
      "a    1.284012\n",
      "b    1.621072\n",
      "c    1.049242\n",
      "d    1.100916\n",
      "e    1.156082\n",
      "Name: 5, dtype: float64\n"
     ]
    }
   ],
   "source": [
    "means = df.mean(axis=1)\n",
    "min_mean_row_index = means.idxmin()\n",
    "print(\"Row with the lowest mean:\")\n",
    "print(df.iloc[min_mean_row_index])"
   ]
  },
  {
   "cell_type": "markdown",
   "id": "f00dad56",
   "metadata": {},
   "source": [
    "### Q11"
   ]
  },
  {
   "cell_type": "code",
   "execution_count": 26,
   "id": "6a5afda8",
   "metadata": {},
   "outputs": [],
   "source": [
    "matrix = np.random.uniform(1, 2, (20, 5))\n",
    "\n",
    "df = pd.DataFrame(matrix, columns=['a', 'b', 'c', 'd', 'e'])\n",
    "df['f'] = df['a'] + df['b'] + df['c'] + df['d'] + df['e']\n",
    "df['g'] = df['f'].apply(lambda x: 'LT8' if x < 8 else 'GT8')"
   ]
  },
  {
   "cell_type": "code",
   "execution_count": 27,
   "id": "7ae82cc1",
   "metadata": {},
   "outputs": [
    {
     "name": "stdout",
     "output_type": "stream",
     "text": [
      "Number of rows where the value in column 'g' is 'LT8': 16\n"
     ]
    }
   ],
   "source": [
    "num_lt8 = df[df['g'] == 'LT8'].shape[0]\n",
    "print(f\"Number of rows where the value in column 'g' is 'LT8': {num_lt8}\")"
   ]
  },
  {
   "cell_type": "code",
   "execution_count": 28,
   "id": "46ee27c9",
   "metadata": {},
   "outputs": [
    {
     "name": "stdout",
     "output_type": "stream",
     "text": [
      "Standard deviation of column 'f' for rows where the value in column 'g' is 'LT8': 0.44016739902665414\n",
      "Standard deviation of column 'f' for rows where the value in column 'g' is 'GT8': 0.10841361110057288\n"
     ]
    }
   ],
   "source": [
    "std_dev_lt8 = df[df['g'] == 'LT8']['f'].std()\n",
    "print(f\"Standard deviation of column 'f' for rows where the value in column 'g' is 'LT8': {std_dev_lt8}\")\n",
    "\n",
    "std_dev_gt8 = df[df['g'] == 'GT8']['f'].std()\n",
    "print(f\"Standard deviation of column 'f' for rows where the value in column 'g' is 'GT8': {std_dev_gt8}\")"
   ]
  },
  {
   "cell_type": "markdown",
   "id": "8db82369",
   "metadata": {},
   "source": [
    "### Q12"
   ]
  },
  {
   "cell_type": "markdown",
   "id": "d4e547ce",
   "metadata": {},
   "source": [
    "Broadcasting helps to perform operations on arrays of different shape.\n",
    "<br>\n",
    "Numpy automatically adjusts the shape of the two arrays to perform the operation"
   ]
  },
  {
   "cell_type": "code",
   "execution_count": 29,
   "id": "d7fc0d51",
   "metadata": {},
   "outputs": [
    {
     "name": "stdout",
     "output_type": "stream",
     "text": [
      "Matrix:\n",
      "[[1 2 3]\n",
      " [4 5 6]\n",
      " [7 8 9]]\n",
      "\n",
      "Vector:\n",
      "[10 20 30]\n",
      "\n",
      "Result of matrix + vector (broadcasting):\n",
      "[[11 22 33]\n",
      " [14 25 36]\n",
      " [17 28 39]]\n"
     ]
    }
   ],
   "source": [
    "matrix = np.array([[1, 2, 3],\n",
    "                   [4, 5, 6],\n",
    "                   [7, 8, 9]])\n",
    "\n",
    "\n",
    "vector = np.array([10, 20, 30])\n",
    "\n",
    "result = matrix + vector\n",
    "\n",
    "print(\"Matrix:\")\n",
    "print(matrix)\n",
    "\n",
    "print(\"\\nVector:\")\n",
    "print(vector)\n",
    "\n",
    "print(\"\\nResult of matrix + vector (broadcasting):\")\n",
    "print(result)"
   ]
  },
  {
   "cell_type": "markdown",
   "id": "3924a231",
   "metadata": {},
   "source": [
    "In above code the size of the vector is changed from $1 \\times 3$ to $3 \\times 3$ to make it compatible with the matrix to perform addition."
   ]
  },
  {
   "cell_type": "markdown",
   "id": "a442c1bc",
   "metadata": {},
   "source": [
    "### Q13"
   ]
  },
  {
   "cell_type": "code",
   "execution_count": 30,
   "id": "2e4df456",
   "metadata": {},
   "outputs": [],
   "source": [
    "def custom_argmin(arr):    \n",
    "    min_index = 0\n",
    "    min_value = arr[0]\n",
    "    \n",
    "    for i in range(1, len(arr)):\n",
    "        if arr[i] < min_value:\n",
    "            min_value = arr[i]\n",
    "            min_index = i\n",
    "            \n",
    "    return min_index"
   ]
  },
  {
   "cell_type": "code",
   "execution_count": 31,
   "id": "a15fae53",
   "metadata": {},
   "outputs": [
    {
     "name": "stdout",
     "output_type": "stream",
     "text": [
      "Custom argmin result: 1\n",
      "NumPy argmin result: 1\n"
     ]
    }
   ],
   "source": [
    "# Testing the function\n",
    "array = np.array([3, 1, 4, 1, 5, 9, 2, 6, 5, 3, 5])\n",
    "\n",
    "result_custom = custom_argmin(array)\n",
    "print(f\"Custom argmin result: {result_custom}\")\n",
    "\n",
    "result_numpy = np.argmin(array)\n",
    "print(f\"NumPy argmin result: {result_numpy}\")"
   ]
  },
  {
   "cell_type": "markdown",
   "id": "9eeca2af",
   "metadata": {},
   "source": [
    "Hence the answer is the same"
   ]
  }
 ],
 "metadata": {
  "kernelspec": {
   "display_name": "Python 3 (ipykernel)",
   "language": "python",
   "name": "python3"
  },
  "language_info": {
   "codemirror_mode": {
    "name": "ipython",
    "version": 3
   },
   "file_extension": ".py",
   "mimetype": "text/x-python",
   "name": "python",
   "nbconvert_exporter": "python",
   "pygments_lexer": "ipython3",
   "version": "3.11.4"
  }
 },
 "nbformat": 4,
 "nbformat_minor": 5
}
