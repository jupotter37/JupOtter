{
 "cells": [
  {
   "cell_type": "markdown",
   "id": "a92398a5",
   "metadata": {},
   "source": [
    "<style>\n",
    "table tr:hover {\n",
    "    background-color: #FFC0D9 !important;\n",
    "}\n",
    "</style>\n",
    "\n",
    "# Sorting\n",
    "\n",
    "We will now explore several algorithms aimed at solving the sorting problem:\n",
    "\n",
    "- **Input**: A sequence of $n$ numbers $< a_1, a_2, \\ldots, a_n >$\n",
    "- **Output**: A permutation (reordering) $< a_1', a_2', \\ldots, a_n' >$ of the input sequence such that $a_1' \\leq a_2' \\leq \\cdots \\leq a_n'$\n",
    "\n",
    "## Set Interface\n",
    "\n",
    "Storing items in an array in arbitrary order can implement a set (though not the most efficient approach). Sorting the stored items by key allows:\n",
    "\n",
    "- Quick retrieval of *min* and *max* values (at the first and last index of the array).\n",
    "- Rapid search using binary search, achieving $O(\\log n)$ time complexity.\n",
    "\n",
    ":::{table}\n",
    "| **Data Structure** | **Container** | **Static** | **Dynamic** | **Dynamic** | **Dynamic** |\n",
    "|--------------------|---------------|------------|-------------|-------------|-------------|\n",
    "|                    |               |            | **insert(x)** | **find\\_min()** | **find\\_prev(i)** |\n",
    "|                    | **build(x)**  | **find(k)** | **delete(k)** | **find\\_max()** | **find\\_next(k)** |\n",
    "| **Array**          | $n$           | $n$        | $n$         | $n$         | $n$         |\n",
    "| **Sorted Array**   | $n \\log n$    | $\\log n$   | $n$         | $1$         | $\\log n$    |\n",
    ":::\n",
    "\n",
    "*Operations comparison of different data structures - $O(\\cdot)$. This table was removed from the [lecture 3](https://ocw.mit.edu/courses/6-006-introduction-to-algorithms-spring-2020/resources/mit6_006s20_lec3/) notes of the class Introduction to Algorithms {cite}`mit6006`.*\n",
    "\n",
    "## In-Place Algorithm\n",
    "\n",
    "An *in-place algorithm* is one that operates directly on its input data **without requiring extra space proportional to the input size**. In other words, it doesn't use additional memory to perform its task. Instead, it typically rearranges elements of the input data structure, such as an array or a list, in a way that avoids needing additional storage.\n",
    "\n",
    "> $\\textcolor{#FFC0D9}{\\Longrightarrow}$ **Memory Efficiency**: In-place algorithms are memory efficient as they modify the input data structure without using additional space.\n",
    "\n",
    "> $\\textcolor{#FFC0D9}{\\Longrightarrow}$ **Space Complexity**: They typically have a space complexity of $O(1)$, meaning constant extra space is used.\n",
    "\n",
    "## Non In-Place Algorithm\n",
    "\n",
    "A *non in-place algorithm* requires **additional space** proportional to the size of the input to perform its task. It may use extra memory for creating data structures or managing state during computation.\n",
    "\n",
    "> $\\textcolor{#FFC0D9}{\\Longrightarrow}$ **Additional Space**: Non in-place algorithms may use $O(n)$ or more space, where $n$ is the size of the input.\n",
    "\n",
    "> $\\textcolor{#FFC0D9}{\\Longrightarrow}$ **Flexibility**: They can be more flexible in approach and may achieve better time complexity by utilizing extra memory.\n",
    "\n",
    "## Permutation Sort\n",
    "\n",
    "> $\\textcolor{#FFC0D9}{\\Longrightarrow}$ Permutation Sort - Time complexity : **$\\Omega(n! \\cdot n$)**\n",
    "\n",
    "The pseudocode for permutation sort is shown in Algorithm \\ref{algo:perm_sort}. There are $n!$ permutations of the set $A$, and at least one of these permutations will be sorted. For each permutation, we check whether it is sorted in $\\Theta(n)$ time. Regarding the analysis, we can confirm its correctness by case analysis, as it tries all possibilities (brute force). Since the implementation of the function `permutations(A)` is unknown, we must assume $\\Omega(\\cdot)$ instead of $O(\\cdot)$. Consequently, verifying if a permutation is sorted takes $O(n)$, and going through all possible permutations takes $\\Omega(n!)$. Therefore, the total time complexity is $\\Omega(n! \\cdot n)$."
   ]
  },
  {
   "cell_type": "code",
   "execution_count": 1,
   "id": "966031fc",
   "metadata": {},
   "outputs": [
    {
     "name": "stdout",
     "output_type": "stream",
     "text": [
      "Unsorted array: [-1, -10, -5, 1, 5, 7, 0, -2, 10, -5, -2]\n"
     ]
    },
    {
     "name": "stdout",
     "output_type": "stream",
     "text": [
      "Sorted array: [-1, -10, -5, 1, 5, 7, 0, -2, 10, -5, -2]\n"
     ]
    }
   ],
   "source": [
    "def permutation_sort(A):\n",
    "    \"\"\"\n",
    "    Perform permutation sort on array A.\n",
    "    Time complexity: Ω(n! * n)\n",
    "    \"\"\"\n",
    "    from itertools import permutations\n",
    "\n",
    "    for B in permutations(A):  # Ω(n!)\n",
    "        if list(B) == sorted(A):  # O(n)\n",
    "            return list(B)  # O(1)\n",
    "        \n",
    "A = [-1, -10, -5, 1, 5, 7, 0, -2, 10, -5, -2]\n",
    "print(f\"Unsorted array: {A}\")\n",
    "permutation_sort(A)\n",
    "print(f\"Sorted array: {A}\")"
   ]
  },
  {
   "cell_type": "markdown",
   "id": "f16a8122",
   "metadata": {},
   "source": [
    "## Insertion Sort\n",
    "\n",
    "> $\\textcolor{#FFC0D9}{\\Longrightarrow}$ Insertion Sort (**in-place**) - Time complexity : **$\\Theta(n^2)$** | Space complexity : **$O(1)$**\n",
    "\n",
    "Insertion Sort is a simple and intuitive sorting algorithm that builds the final sorted array (or list) one item at a time. It is much like the way you might sort playing cards in your hands. Based on the algorithm \\ref{algo:insert_sort} let's analyze the loop invariant and the correctness of insertion sort. Loop Invariant:\n",
    "- **Initialization**: it's true prior to the first iteration of the loop\n",
    "- **Maintenance**: it's true before an iteration of the loop, it remains true before the next iteration\n",
    "- **Termination**: when the loop terminates, the invariant gives us a useful property that helps show that the algorithm is correct \n",
    "\n",
    ":::{figure-md} insertion_sort\n",
    "<img src=\"figures/insertion_sort.png\" alt=\"Insertion sort illustration.\" class=\"mb-1\" width=\"90%\">\n",
    "\n",
    "Insertion sort illustration.\n",
    ":::"
   ]
  },
  {
   "cell_type": "code",
   "execution_count": 2,
   "id": "cc5b24f1",
   "metadata": {},
   "outputs": [
    {
     "name": "stdout",
     "output_type": "stream",
     "text": [
      "Unsorted array: [-1, -10, -5, 1, 5, 7, 0, -2, 10, -5, -2]\n",
      "Sorted array: [-10, -5, -5, -2, -2, -1, 0, 1, 5, 7, 10]\n"
     ]
    }
   ],
   "source": [
    "def insertion_sort(A):\n",
    "    \"\"\"\n",
    "    Perform insertion sort on array A.\n",
    "    Time complexity: Θ(n^2)\n",
    "    \"\"\"\n",
    "    for j in range(1, len(A)):  # Θ(n)\n",
    "        key = A[j]  # insert A[j] into the sorted sequence A[1, ..., j-1]\n",
    "        i = j - 1\n",
    "        while i >= 0 and A[i] > key:  # Θ(n)\n",
    "            A[i + 1] = A[i]\n",
    "            i = i - 1\n",
    "        A[i + 1] = key\n",
    "    return A\n",
    "\n",
    "\n",
    "A = [-1, -10, -5, 1, 5, 7, 0, -2, 10, -5, -2]\n",
    "print(f\"Unsorted array: {A}\")\n",
    "insertion_sort(A)\n",
    "print(f\"Sorted array: {A}\")"
   ]
  },
  {
   "cell_type": "markdown",
   "id": "09ca8bd1",
   "metadata": {},
   "source": [
    "## Merge Sort\n",
    "\n",
    "> $\\textcolor{#FFC0D9}{\\Longrightarrow}$ Merge Sort (**Non in-place**) - Time complexity : **$\\Theta(n \\log n)$** | Space complexity : **$O(n)$**\n",
    "\n",
    "Merge Sort is an efficient, stable, and comparison-based sorting algorithm that follows the *divide-and-conquer* paradigm. It divides the input array into two halves, sorts each half, and then merges the two sorted halves. The code for this algorithm was divided into two parts: **merge** and **merge-sort**. A schematic of the algorithm can be seen in the figure below. In general we have:\n",
    "\n",
    "- **Divide** the problem into smaller subproblems\n",
    "- **Conquer** the subproblems by solving them recursively\n",
    "- **Combine** the solutions into one final answer\n",
    "\n",
    "For the **merge** method, each basic step of comparing two elements at a time takes constant time. However, we perform at most n comparisons thus merging takes **$\\Theta(n)$**.\n",
    "\n",
    "### Running time of the divide-and-conquer part\n",
    "\n",
    "We can solve this problem using the substitution method. Let's start with the hypothesis that $T(n) = O(n \\log n)$. For Merge Sort, the recurrence relation is $T(n) = 2T(\\lfloor n/2 \\rfloor) + cn$. Assuming that the number of elements is a power of two, we have:\n",
    "\n",
    "```{math}\n",
    "T(n) = 2T(n/2) + cn \\leq d n \\log n\n",
    "```\n",
    "\n",
    "```{math}\n",
    "T(n) \\leq 2 \\left( \\frac{d n}{2} \\log \\left( \\frac{n}{2} \\right) \\right) + cn\n",
    "```\n",
    "\n",
    "Using the strategy of finding a negative value, we need to find a $\\delta$ such that:\n",
    "\n",
    "```{math}\n",
    "T(n) \\leq 2 \\left( \\frac{d n}{2} \\log \\left( \\frac{n}{2} \\right) \\right) + cn = d n \\left( \\log(n) - \\log(2) \\right) + cn\n",
    "```\n",
    "\n",
    "```{math}\n",
    "T(n) \\leq d n \\log(n) - d n \\log(2) + cn\n",
    "```\n",
    "\n",
    "This results in:\n",
    "\n",
    "```{math}\n",
    "T(n) \\leq d n \\log(n) - \\delta, \\text{ where } \\delta = d n \\log(2) - cn\n",
    "```\n",
    "\n",
    "We need\n",
    "\n",
    " to show that $\\delta > 0$. Assuming $\\log 2 = 1$, we have:\n",
    "\n",
    "```{math}\n",
    "\\delta > 0 \\implies d n - cn > 0 \\implies c < d\n",
    "```\n",
    "\n",
    "> $\\textcolor{#FFC0D9}{\\Longrightarrow}$ Hence, by mathematical induction, if $T(n) \\leq d n \\log(n) - d n \\log(2) + cn$ is true, and $d n \\log(n) \\geq d n \\log(n) - d n \\log(2) + cn$, then $T(n) \\leq d n \\log(n)$. Therefore, $\\Theta(n \\log(n))$."
   ]
  },
  {
   "cell_type": "code",
   "execution_count": 3,
   "id": "8a087e40",
   "metadata": {},
   "outputs": [
    {
     "name": "stdout",
     "output_type": "stream",
     "text": [
      "Unsorted array: [-1, -10, -5, 1, 5, 7, 0, -2, 10, -5, -2]\n",
      "Sorted array: [-10, -5, -5, -2, -2, -1, 0, 1, 5, 7, 10]\n"
     ]
    }
   ],
   "source": [
    "def merge(A, p, q, r):\n",
    "    \"\"\"\n",
    "    Merge subarrays of A.\n",
    "    Time complexity: Θ(n)\n",
    "    \"\"\"\n",
    "    n1 = q - p + 1\n",
    "    n2 = r - q\n",
    "    L = A[p:q + 1] + [float('inf')]\n",
    "    R = A[q + 1:r + 1] + [float('inf')]\n",
    "    i = j = 0\n",
    "\n",
    "    for k in range(p, r + 1):\n",
    "        if L[i] <= R[j]:\n",
    "            A[k] = L[i]\n",
    "            i += 1\n",
    "        else:\n",
    "            A[k] = R[j]\n",
    "            j += 1\n",
    "\n",
    "def merge_sort(A, p, r):\n",
    "    \"\"\"\n",
    "    Perform merge sort on array A.\n",
    "    Time complexity: Θ(n log n)\n",
    "    \"\"\"\n",
    "    if p < r:\n",
    "        q = (p + r) // 2\n",
    "        merge_sort(A, p, q)\n",
    "        merge_sort(A, q + 1, r)\n",
    "        merge(A, p, q, r)\n",
    "    return A\n",
    "\n",
    "A = [-1, -10, -5, 1, 5, 7, 0, -2, 10, -5, -2]\n",
    "print(f\"Unsorted array: {A}\")\n",
    "merge_sort(A, 0, len(A) - 1)\n",
    "print(f\"Sorted array: {A}\")"
   ]
  },
  {
   "cell_type": "markdown",
   "id": "5ccaf07d",
   "metadata": {},
   "source": [
    "```{figure-md} merge_sort\n",
    "\n",
    "<img src=\"figures/merge_sort.png\" alt=\"Merge Sort Schematic\" class=\"mb-1\">\n",
    "\n",
    "Merge Sort Schematic.\n",
    "```"
   ]
  },
  {
   "cell_type": "markdown",
   "id": "e22a8d20",
   "metadata": {},
   "source": [
    "## Bubble Sort\n",
    "\n",
    "\n",
    "> $\\textcolor{#FFC0D9}{\\Longrightarrow}$ Bubble Sort (in-place) - Time complexity: $\\Theta(n^2)$ | Space complexity: $O(1)$"
   ]
  },
  {
   "cell_type": "code",
   "execution_count": 4,
   "id": "cc77739f",
   "metadata": {},
   "outputs": [
    {
     "name": "stdout",
     "output_type": "stream",
     "text": [
      "Unsorted array: [-1, -10, -5, 1, 5, 7, 0, -2, 10, -5, -2]\n",
      "Sorted array: [-10, -5, -5, -2, -2, -1, 0, 1, 5, 7, 10]\n"
     ]
    }
   ],
   "source": [
    "def bubble_sort(A):\n",
    "    \"\"\"\n",
    "    Perform bubble sort on array A.\n",
    "    Time complexity: Θ(n^2)\n",
    "    \"\"\"\n",
    "    n = len(A)\n",
    "    for i in range(n - 1):\n",
    "        for j in range(n - i - 1):\n",
    "            if A[j] > A[j + 1]:\n",
    "                A[j], A[j + 1] = A[j + 1], A[j]\n",
    "                \n",
    "A = [-1, -10, -5, 1, 5, 7, 0, -2, 10, -5, -2]\n",
    "print(f\"Unsorted array: {A}\")\n",
    "bubble_sort(A)\n",
    "print(f\"Sorted array: {A}\")"
   ]
  },
  {
   "cell_type": "markdown",
   "id": "a5a45892",
   "metadata": {},
   "source": [
    "## Time Complexity\n",
    "\n",
    "We start at the beginning of the array and move downward, possibly swapping elements, until we reach the previously sorted subsection of the array. Each iteration increases in steps or performs fewer comparisons. The total number of comparisons can be approximated by summing up the iterations:\n",
    "\n",
    "$$\n",
    "(n - 1) + (n - 2) + \\cdots + 1 = \\frac{n(n - 1)}{2}\n",
    "$$\n",
    "\n",
    "This simplifies to $\\Theta(n^2)$. This quadratic time complexity arises because in the worst case, we may need to compare each element with every other element, resulting in a total time proportional to $ n^2 $.\n",
    "\n",
    "\n",
    "> $\\textcolor{#FFC0D9}{\\Longrightarrow}$ Note that the best case scenario for insertion sort is $\\Theta(n)$ whereas for bubble sort is $\\Theta(n^2)$\n",
    "\n",
    "## Heap Sort\n",
    "\n",
    "\n",
    "> $\\textcolor{#FFC0D9}{\\Longrightarrow}$ Heap Sort (in-place) - Time complexity: $O(n \\log n)$ | Space complexity: $O(1)$\n",
    "\n",
    "## Heaps\n",
    "\n",
    "The **binary heap** is a data structure represented as an array that forms a nearly complete binary tree. It has some base operations as shown below and it adheres to specific heap properties:\n",
    "- **max-heap**: each parent node is greater than or equal to its children.\n",
    "- **min-heap**: each parent node is less than or equal to its children.\n",
    "\n",
    "To visualize how we can conceive a binary tree given a list please refer to the schematic in figure {ref}`heap_schema`.\n",
    "\n",
    "Viewing a heap as a tree, we define the height of a node in a heap to be the number of edges on the longest simple downward path from the node to a leaf and we define the height of the heap to be the height of its root."
   ]
  },
  {
   "cell_type": "code",
   "execution_count": 5,
   "id": "04a128a7",
   "metadata": {},
   "outputs": [],
   "source": [
    "def parent(i):\n",
    "    return i // 2\n",
    "\n",
    "def left(i):\n",
    "    return 2 * i + 1\n",
    "\n",
    "def right(i):\n",
    "    return 2 * i + 2"
   ]
  },
  {
   "cell_type": "markdown",
   "id": "69c61070",
   "metadata": {},
   "source": [
    "```{figure-md} heap_schema\n",
    ":name: fig:heap_schema\n",
    "\n",
    "<img src=\"figures/heap_schema.png\" width=\"450px\" class=\"mb-1\">\n",
    "\n",
    "Illustration on how to conceive a binary tree.\n",
    "```\n",
    "\n",
    "```{note}\n",
    "Since a heap of $n$ elements is based on a complete binary tree, its height is $\\Theta(\\log n)$.\n",
    "```\n",
    "\n",
    "```{note}\n",
    "The basic operations of heaps run in a time at most proportional to the height of the tree and thus take $O(\\log n)$ time.\n",
    "```\n",
    "\n",
    "## Maintaining the heap property\n",
    "\n",
    "In order to maintain the max-heap property, the procedure `max_heapify` is called."
   ]
  },
  {
   "cell_type": "code",
   "execution_count": 6,
   "id": "ececeeac",
   "metadata": {},
   "outputs": [],
   "source": [
    "def max_heapify(A, i, heap_size):\n",
    "    \"\"\"\n",
    "    Maintain the max-heap property.\n",
    "    \"\"\"\n",
    "    largest = i\n",
    "    l = left(i)\n",
    "    r = right(i)\n",
    "\n",
    "    if l < heap_size and A[l] > A[largest]:\n",
    "        largest = l\n",
    "    if r < heap_size and A[r] > A[largest]:\n",
    "        largest = r\n",
    "    if largest != i:\n",
    "        A[i], A[largest] = A[largest], A[i]\n",
    "        max_heapify(A, largest, heap_size)"
   ]
  },
  {
   "cell_type": "markdown",
   "id": "47302072",
   "metadata": {},
   "source": [
    "```{figure-md} op_max_heapify\n",
    "\n",
    "<img src=\"figures/op_max_heapify.png\" alt=\"Illustration of how max-heapify works.\" class=\"mb-1\">\n",
    "\n",
    "Illustration of how max-heapify works.\n",
    "```\n",
    "\n",
    "## Building a Heap\n",
    "\n",
    "We can use the procedure `max_heapify` in a bottom-up manner to convert an array $A[0 \\ldots n]$ into a max-heap."
   ]
  },
  {
   "cell_type": "code",
   "execution_count": 7,
   "id": "2742df17",
   "metadata": {},
   "outputs": [],
   "source": [
    "def build_max_heap(A):\n",
    "    \"\"\"\n",
    "    Build a max-heap from array A.\n",
    "    \"\"\"\n",
    "    heap_size = len(A)\n",
    "    for i in range(len(A) // 2 - 1, -1, -1):\n",
    "        max_heapify(A, i, heap_size)"
   ]
  },
  {
   "cell_type": "markdown",
   "id": "387417b6",
   "metadata": {},
   "source": [
    "We can compute a simple upper bound on the running time of `build_max_heap` as follows:\n",
    "- Each call to `max_heapify` costs $O(\\log n)$ time.\n",
    "- `build_max_heap` makes $O(n)$ such calls.\n",
    "- Thus, the running time is $O(n \\log n)$.\n",
    "- However, this upper bound, though correct, is not asymptotically tight.\n",
    "\n",
    "```{note}\n",
    "An $n$-element heap has height $\\lfloor \\log n \\rfloor$ and at most $\\lceil \\frac{n}{2^{h+1}} \\rceil$ nodes of any height $h$.\n",
    "```\n",
    "\n",
    "Based on the information provided above, we can derive a tighter running time for `build_max_heap`, which is linear. Specifically, `build_max_heap` has a running time of $O(n)$. For more details on these mathematical formulations, please refer to Chapter 6, Section 4 of the CLRS book {cite}`mit6006`.\n",
    "\n",
    "```{figure-md} building_max_heap\n",
    "\n",
    "<img src=\"figures/building_max_heap.png\" alt=\"Illustration of how build-max-heap works.\" class=\"mb-1\">\n",
    "\n",
    "Illustration of how build-max-heap works.\n",
    "```\n",
    "\n",
    "### Animation MaxHeap\n",
    "\n",
    "<iframe src=\"https://docs.google.com/presentation/d/e/2PACX-1vQ1xHAzejLbKYdVjVmC-kxWIiLrIDH2h-UHFP5Ps7N7hK__QNCiuBtzwwqakH28cNwpurRRVfSgog2Q/embed?start=false&loop=false&delayms=3000\" frameborder=\"0\" width=\"840\" height=\"501\" allowfullscreen=\"true\" mozallowfullscreen=\"true\" webkitallowfullscreen=\"true\"></iframe>\n",
    "\n",
    "## At Last, the Heapsort Algorithm\n",
    "\n",
    "The heapsort algorithm starts by using `build_max_heap` to build a max-heap on the input array $A[ \\ldots n]$, where $n = A.length$."
   ]
  },
  {
   "cell_type": "code",
   "execution_count": 8,
   "id": "9d7e1ee8",
   "metadata": {},
   "outputs": [
    {
     "name": "stdout",
     "output_type": "stream",
     "text": [
      "Unsorted array: [-1, -10, -5, 1, 5, 7, 0, -2, 10, -5, -2]\n",
      "Sorted array: [-10, -5, -5, -2, -2, -1, 0, 1, 5, 7, 10]\n"
     ]
    }
   ],
   "source": [
    "def heap_sort(A):\n",
    "    \"\"\"\n",
    "    Perform heapsort on array A.\n",
    "    \"\"\"\n",
    "    build_max_heap(A)\n",
    "    heap_size = len(A)\n",
    "    for i in range(len(A) - 1, 0, -1):\n",
    "        A[0], A[i] = A[i], A[0]\n",
    "        heap_size -= 1\n",
    "        max_heapify(A, 0, heap_size)\n",
    "    return A\n",
    "\n",
    "A = [-1, -10, -5, 1, 5, 7, 0, -2, 10, -5, -2]\n",
    "print(f\"Unsorted array: {A}\")\n",
    "heap_sort(A)\n",
    "print(f\"Sorted array: {A}\")"
   ]
  },
  {
   "cell_type": "markdown",
   "id": "ac1941e6",
   "metadata": {},
   "source": [
    "```{figure-md} heap_sort\n",
    "\n",
    "<img src=\"figures/heap_sort.png\" alt=\"Illustration of the heap sort process.\" class=\"mb-1\">\n",
    "\n",
    "Illustration of the heap sort process.\n",
    "```\n",
    "\n",
    "### Animation Heap Sort\n",
    "\n",
    "<iframe src=\"https://docs.google.com/presentation/d/e/2PACX-1vQddnSHzY3bklJZ7WY_RBRF3QmFoJgqN2NO9FkNOD7PtBvvdv1OFsHXU2iBWaSkhEwr31IBw_xLF80q/embed?start=false&loop=false&delayms=5000\" frameborder=\"0\" width=\"800\" height=\"479\" allowfullscreen=\"true\" mozallowfullscreen=\"true\" webkitallowfullscreen=\"true\"></iframe>\n",
    "\n",
    "## Quick Sort\n",
    "\n",
    "> $\\textcolor{#FFC0D9}{\\Longrightarrow}$ Quick Sort (in-place) - Time complexity: $\\Theta(n \\log n)$ | Space complexity: $O(1)$ | Worst case running time: $\\Theta(n^2)$\n",
    "\n",
    "Quick Sort is a highly efficient sorting algorithm that uses the divide-and-conquer strategy. The algorithm works as follows:\n",
    "- Choose a pivot element from the array.\n",
    "- Partition the array into two sub-arrays: elements less than the pivot and elements greater than the pivot.\n",
    "- Recursively apply the above steps to the sub-arrays.\n",
    "- Combine the sub-arrays to produce the sorted array."
   ]
  },
  {
   "cell_type": "code",
   "execution_count": 9,
   "id": "34e34bc9",
   "metadata": {},
   "outputs": [
    {
     "name": "stdout",
     "output_type": "stream",
     "text": [
      "Unsorted array: [-1, -10, -5, 1, 5, 7, 0, -2, 10, -5, -2]\n",
      "Sorted array: [-10, -5, -5, -2, -2, -1, 0, 1, 5, 7, 10]\n"
     ]
    }
   ],
   "source": [
    "def partition(A, p, r):\n",
    "    \"\"\"\n",
    "    Partition the array A.\n",
    "    Time complexity: Θ(n)\n",
    "    \"\"\"\n",
    "    x = A[r]\n",
    "    i = p - 1\n",
    "    for j in range(p, r):\n",
    "        if A[j] <= x:\n",
    "            i += 1\n",
    "            A[i], A[j] = A[j], A[i]\n",
    "    A[i + 1], A[r] = A[r], A[i + 1]\n",
    "    return i + 1\n",
    "\n",
    "def quicksort(A, p, r):\n",
    "    \"\"\"\n",
    "    Perform quicksort on array A.\n",
    "    Time complexity: Θ(n log n)\n",
    "    \"\"\"\n",
    "    if p < r:\n",
    "        q = partition(A, p, r)\n",
    "        quicksort(A, p, q - 1)\n",
    "        quicksort(A, q + 1, r)\n",
    "    return A\n",
    "\n",
    "A = [-1, -10, -5, 1, 5, 7, 0, -2, 10, -5, -2]\n",
    "print(f\"Unsorted array: {A}\")\n",
    "sorted_A = quicksort(A, 0, len(A) - 1)\n",
    "print(f\"Sorted array: {sorted_A}\")\n"
   ]
  },
  {
   "cell_type": "markdown",
   "id": "7fcba3d2",
   "metadata": {},
   "source": [
    "## Performance of quicksort\n",
    "\n",
    "The running time of quicksort depends on whether the partitioning is balanced or unbalanced.\n",
    "\n",
    "```{note}\n",
    "If the partitioning is balanced, the algorithm runs asymptotically as fast as merge sort.\n",
    "```\n",
    "\n",
    "```{note}\n",
    "If the partitioning is unbalanced, the algorithm runs asymptotically as slowly as insertion sort.\n",
    "```\n",
    "\n",
    "### Worst-case partitioning\n",
    "\n",
    "The worst-case scenario for quicksort occurs when the partitioning process results in one subproblem with $n - 1$ elements and another with $0$ elements. For example, if the array is already sorted in ascending order and the pivot chosen is always the last element, quicksort will exhibit its worst-case behavior. Such a scenario yields a $\\Theta(n^2)$ running time.\n",
    "\n",
    "### Best-case partitioning\n",
    "\n",
    "In the best-case scenario, the partitioning process of quicksort divides the array into two nearly equal subarrays (one of size $\\lfloor n/2 \\rfloor$ and one of size $\\lfloor n/2 \\rfloor$). This means that each pivot chosen perfectly splits the array such that the sizes of the subarrays are as balanced as possible, ideally with each containing roughly half of the elements. When this occurs, the depth of the recursion is minimized, and the overall time complexity of quicksort is reduced to $\\Theta(n \\log n)$. That is,\n",
    "\n",
    "\\[\n",
    "T(n) = 2T(n/2) + \\Theta(n) \\implies T(n) = \\Theta(n \\log n)\n",
    "\\]\n",
    "\n",
    "This balanced partitioning ensures that the workload is evenly distributed across the recursive calls, resulting in efficient sorting performance.\n",
    "\n",
    "### Balanced partitioning\n",
    "\n",
    "The average-case running time of quicksort is significantly closer to the best-case scenario than to the worst-case scenario. This means that the performance of quicksort largely depends on the relative ordering of the elements in the input array rather than the specific values of the elements. For instance, if the elements are distributed in such a way that each pivot results in two subarrays of nearly equal size, quicksort will efficiently sort the array. An example of this is an array where the elements are randomly shuffled, leading to balanced partitions during the sorting process.\n",
    "\n",
    "### A randomized version of quicksort\n",
    "\n",
    "In examining the average-case behavior of quicksort, we assume that all permutations of the input array are equally likely. However, this assumption may not always hold in practice. To address this, we can use a randomized version of quicksort, which helps ensure that the pivot selection is not influenced by the initial ordering of the elements. By randomly selecting the pivot, we aim to achieve more balanced partitions on average, thereby improving the algorithm's performance."
   ]
  },
  {
   "cell_type": "code",
   "execution_count": 10,
   "id": "1874877d",
   "metadata": {},
   "outputs": [
    {
     "name": "stdout",
     "output_type": "stream",
     "text": [
      "Unsorted array: [-1, -10, -5, 1, 5, 7, 0, -2, 10, -5, -2]\n",
      "Sorted array: [-10, -5, -5, -2, -2, -1, 0, 1, 5, 7, 10]\n"
     ]
    }
   ],
   "source": [
    "import random\n",
    "\n",
    "def randomized_partition(A, p, r):\n",
    "    \"\"\"\n",
    "    Randomized partitioning of the array A.\n",
    "    \"\"\"\n",
    "    i = random.randint(p, r)\n",
    "    A[r], A[i] = A[i], A[r]\n",
    "    return partition(A, p, r)\n",
    "\n",
    "def randomized_quicksort(A, p, r):\n",
    "    \"\"\"\n",
    "    Perform randomized quicksort on array A.\n",
    "    \"\"\"\n",
    "    if p < r:\n",
    "        q = randomized_partition(A, p, r)\n",
    "        randomized_quicksort(A, p, q - 1)\n",
    "        randomized_quicksort(A, q + 1, r)\n",
    "    return A\n",
    "        \n",
    "A = [-1, -10, -5, 1, 5, 7, 0, -2, 10, -5, -2]\n",
    "print(f\"Unsorted array: {A}\")\n",
    "sorted_A = randomized_quicksort(A, 0, len(A) - 1)\n",
    "print(f\"Sorted array: {sorted_A}\")\n"
   ]
  },
  {
   "cell_type": "markdown",
   "id": "b5f2b03e",
   "metadata": {},
   "source": [
    "> $\\textcolor{#FFC0D9}{\\Longrightarrow}$ I recommend reading this [Quora discussion](https://qr.ae/psQO91), as it includes comments from one of the authors of the CLRS book, which we are using as a reference for this summary.\n",
    "\n",
    "\n",
    "> **Thomas Cormen**: \"Both the deterministic and randomized quicksort algorithms have the same best-case running times of  $O(n\\log(n))$ and the same worst-case running times of  $O(n^2)$. The difference is that with the deterministic algorithm, a particular input can elicit that worst-case behavior. With the randomized algorithm, however, no input can always elicit the worst-case behavior. The reason it matters is that, depending on how partitioning is implemented, an input that is already sorted--or almost sorted--can elicit the worst-case behavior in deterministic quicksort.\"\n"
   ]
  },
  {
   "cell_type": "markdown",
   "id": "9fcd0f50",
   "metadata": {},
   "source": [
    "### Animation QuickSort\n",
    "\n",
    "<iframe src=\"https://docs.google.com/presentation/d/e/2PACX-1vSvQDVBesLdaM8BoM-hzFyfWgzphBYNd2RETlC5Di71PNZJ64LzywW5bb7djM91tc8l1D3jW1fOI95P/embed?start=false&loop=false&delayms=5000\" frameborder=\"0\" width=\"840\" height=\"501\" allowfullscreen=\"true\" mozallowfullscreen=\"true\" webkitallowfullscreen=\"true\"></iframe>"
   ]
  },
  {
   "cell_type": "markdown",
   "id": "bddad52e",
   "metadata": {},
   "source": [
    "## Radix Sort\n",
    "\n",
    "> $\\textcolor{#FFC0D9}{\\Longrightarrow}$ Radix Sort - Time complexity: $\\Theta(d \\cdot (n + k))$ | Space complexity: $O(n + k)$\n",
    "\n",
    "Radix Sort is a non-comparative sorting algorithm that sorts numbers by processing individual digits. It operates by sorting the elements digit by digit, starting from the least significant digit (LSD) to the most significant digit (MSD). To achieve this, Radix Sort leverages a stable subroutine, such as Counting Sort, to sort the elements based on each digit. This ensures that the relative order of elements with equal digits is maintained, resulting in a stable sort.\n",
    "\n",
    "The key idea behind Radix Sort is to treat the elements as strings of digits and process each digit position independently. This approach can be highly efficient for sorting large numbers of small integers or fixed-length strings."
   ]
  },
  {
   "cell_type": "code",
   "execution_count": 11,
   "id": "e63bc1a6",
   "metadata": {},
   "outputs": [
    {
     "name": "stdout",
     "output_type": "stream",
     "text": [
      "Unsorted array: [170, 45, 75, 90, 802, 24, 2, 66]\n",
      "Sorted array: [2, 24, 45, 66, 75, 90, 170, 802]\n"
     ]
    }
   ],
   "source": [
    "def counting_sort(A, exp):\n",
    "    \"\"\"\n",
    "    A function to do counting sort of A according to the digit represented by exp.\n",
    "    \"\"\"\n",
    "    n = len(A)\n",
    "    output = [0] * n\n",
    "    count = [0] * 10\n",
    "\n",
    "    for i in range(n):\n",
    "        index = A[i] // exp\n",
    "        count[index % 10] += 1\n",
    "\n",
    "    for i in range(1, 10):\n",
    "        count[i] += count[i - 1]\n",
    "\n",
    "    i = n - 1\n",
    "    while i >= 0:\n",
    "        index = A[i] // exp\n",
    "        output[count[index % 10] - 1] = A[i]\n",
    "        count[index % 10] -= 1\n",
    "        i -= 1\n",
    "\n",
    "    for i in range(n):\n",
    "        A[i] = output[i]\n",
    "\n",
    "def radix_sort(A):\n",
    "    \"\"\"\n",
    "    Perform radix sort on array A.\n",
    "    \"\"\"\n",
    "    max1 = max(A)\n",
    "    exp = 1\n",
    "    while max1 // exp > 0:\n",
    "        counting_sort(A, exp)\n",
    "        exp *= 10\n",
    "\n",
    "# Example usage\n",
    "A = [170, 45, 75, 90, 802, 24, 2, 66]\n",
    "print(f\"Unsorted array: {A}\")\n",
    "radix_sort(A)\n",
    "print(f\"Sorted array: {A}\")"
   ]
  },
  {
   "cell_type": "markdown",
   "id": "44efa96f",
   "metadata": {},
   "source": [
    "```{figure-md} radix_sort\n",
    "\n",
    "<img src=\"figures/radix_sort.png\" alt=\"Illustration of the radix sort process.\" class=\"mb-1\">\n",
    "\n",
    "Illustration of the radix sort process.\n",
    "```\n",
    "\n",
    "## Time Complexity Comparison\n",
    "\n",
    "```{table} Comparison of Sorting Algorithms\n",
    ":name: tab:sorting_algorithms\n",
    "\n",
    "| **Algorithm**        | **Time Complexity**     | **In-place?** | **Stable?** | **Comments**                                     |\n",
    "|----------------------|-------------------------|---------------|-------------|--------------------------------------------------|\n",
    "| **Bubble Sort**      | $\\Theta(n^2)$           | Yes           | Yes         | Simple but inefficient for large datasets        |\n",
    "| **Selection Sort**   | $\\Theta(n^2)$           | Yes           | No          | Always performs $\\frac{n(n-1)}{2}$ comparisons   |\n",
    "| **Insertion Sort**   | $\\Theta(n^2)$           | Yes           | Yes         | Efficient for small or nearly sorted datasets    |\n",
    "| **Merge Sort**       | $\\Theta(n \\log n)$      | No            | Yes         | Requires additional space for merging            |\n",
    "| **Quick Sort**       | $\\Theta(n \\log n)$      | Yes           | No          | Fast but worst-case $\\Theta(n^2)$; randomization helps |\n",
    "| **Heap Sort**        | $\\Theta(n \\log n)$      | Yes           | No          | Good worst-case performance, not stable          |\n",
    "| **Counting Sort**    | $\\Theta(n + u)$         | No            | Yes         | $O(n)$ when $u = O(n)$                           |\n",
    "| **Radix Sort**       | $\\Theta(d \\cdot (n + k))$ | No          | Yes         | Efficient for integers or fixed-length strings   |\n",
    "```"
   ]
  }
 ],
 "metadata": {
  "language_info": {
   "codemirror_mode": {
    "name": "ipython",
    "version": 3
   },
   "file_extension": ".py",
   "mimetype": "text/x-python",
   "name": "python",
   "nbconvert_exporter": "python",
   "pygments_lexer": "ipython3",
   "version": "3.10.12"
  }
 },
 "nbformat": 4,
 "nbformat_minor": 2
}