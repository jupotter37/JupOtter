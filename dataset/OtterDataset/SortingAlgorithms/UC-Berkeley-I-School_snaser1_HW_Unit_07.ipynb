{
 "cells": [
  {
   "cell_type": "markdown",
   "id": "012782d6",
   "metadata": {},
   "source": [
    "## Week 7 Assignment - DATASCI200 Introduction to Data Science Programming, UC Berkeley MIDS"
   ]
  },
  {
   "cell_type": "markdown",
   "id": "bd55edc0",
   "metadata": {},
   "source": [
    "Write code in this Jupyter Notebook to solve the following problems. Please upload this **Notebook** with your solutions to your GitHub repository and gradescope.\n",
    "\n",
    "Assignment due date: 11:59PM PT the night before the Week 8 Live Session."
   ]
  },
  {
   "cell_type": "markdown",
   "id": "4c3f0e68",
   "metadata": {},
   "source": [
    "## Objectives:\n",
    "\n",
    "- Demonstrate how to define classes\n",
    "- Design and implement class objects and class interactions\n",
    "- Understand how to call methods from both inside and outside of classes\n",
    "- Understand how to set internal attribute within a class"
   ]
  },
  {
   "cell_type": "markdown",
   "id": "2060565c",
   "metadata": {},
   "source": [
    "## General Guidelines:\n",
    "\n",
    "- All calculations need to be done in the classes (that includes any formatting of the output)\n",
    "- Name your classes exactly as written in the problem statement\n",
    "- Do NOT make separate input() statements. The classes will be passed the input as shown in the examples\n",
    "- The examples are using the '>>>' as the command entered into a Jupyter coding cell with the example output shown below it. \n",
    "- The examples given are samples of how we will test/grade your code. Please ensure your classes output the same information\n",
    "- Inputs to classes and methods do need to be validated or checked where the problem or examples specifically state to check for inputs. Otherwise, you can assume that the correct input will be sent as shown in the examples.\n",
    "- Docstrings and comments in your code are strongly suggested but won't be graded\n",
    "- In each code block, do NOT delete the ### comment at the top of a cell (it's needed for the auto-grading!)\n",
    "  - Do NOT print or put other statements in the grading cells. The autograder will fail - if this happens please delete those statments and re-submit \n",
    "  - You will get 80 points from the autograder for this assignment and 20 points will be hidden. That is, passing all of the visible tests will give you 80 points. Make sure you are meeting the requirements of the problem to get the other 20 points.\n",
    "  - You may upload and run the autograder as many times as needed in your time window to get full points\n",
    "  - The assignment needs to be named HW_Unit_07.ipynb to be graded from the autograder!\n",
    "  - The examples given are samples of how we will test/grade your code. Please ensure your code outputs the same information.\n",
    "    - In addition to the given example, the autograder will test other examples\n",
    "    - Each autograder test tells you what input it is using\n",
    "  - Once complete, the autograder will show each tests, if that test is passed or failed, and your total score\n",
    "  - The autograder fails for a couple of reasons:\n",
    "    - Your code crashes with that input (for example: `Test Failed: string index out of range`)\n",
    "    - Your code output does not match the 'correct' output (for example: `Test Failed: '1 2 3 2 1' != '1 4 6 4 1'`)"
   ]
  },
  {
   "cell_type": "markdown",
   "id": "d11d8b28",
   "metadata": {},
   "source": [
    "## 7-1 Deck of Cards (50 points)\n",
    "\n",
    "Please design two classes in this notebook as follows:\n",
    "\n",
    "1\\. Please create a class called **PlayingCard**. (20 points)<br>\n",
    "This class should have: <br>\n",
    "- An attribute, \"rank\" that takes a value of \"2\", \"3\", \"4\", \"5\", \"6\", \"7\", \"8\", \"9\", \"10\", \"J\", \"Q\", \"K\", or \"A\"<br>\n",
    "- An attribute, \"suit\" that takes a value of \"♠\" \"♥\" \"♦\" or \"♣\". (If you don't know how to make these characters you can cut and paste from this block)<br>  \n",
    "- An __init__ method that:\n",
    "    -  Accepts as parameters a specific rank (as a string) and suit (as a string).\n",
    "    -  **Raise a TypeError** with \"Invalid rank!\" or \"Invalid suit!\" when a rank or suit is not valid.\n",
    "- The ```__str__``` and ```__repr__``` methods to display the cards correctly (as shown below in the examples)\n",
    "\n",
    "2\\. Please create a class called **Deck**. (30 points)<br>\n",
    "This class should have: <br>\n",
    "- An attribute, \"cards\", that holds a list of PlayingCard objects. <br>\n",
    "- An __init__ method that: \n",
    "\n",
    "    - By default stores a full deck of 52 playing card (with proper numbers and suits) in the \"cards\" list. Each cards will be  of the class PlayingCard above<br>\n",
    "    - Allows the user to specify a specific suit of the 4 (\"♠\" \"♥\" \"♦\" or \"♣\"). In this case, the program should only populate the deck with the 13 cards of that suit.\n",
    "    - After the cards object is initialized, call the \"shuffle_deck()\" function (below).<br>\n",
    "    \n",
    "- A \"shuffle_deck()\" method that randomly changes the order of cards in the deck.<br>\n",
    "    - Import the random library to 'shuffle' the deck: https://docs.python.org/3.9/library/random.html#random.shuffle\n",
    "    - Please import it at the top of your block instead of inside the class / methods.\n",
    "\n",
    "- A \"deal_card(card_count)\" method that:\n",
    "    - **Removes** the first `card_count` cards from the deck and **returns** them as a **list**.<br>\n",
    "    - If the deck doesnt have the `card_count` number of cards left to deal, **return** the message `Cannot deal <x> cards. The deck only has <y> cards left!` (do not raise an exception or print inside the method).\n",
    "    \n",
    "\n",
    "Example:\n",
    "```\n",
    ">>> card1 = PlayingCard(\"A\", \"♠\")\n",
    ">>> print(card1)\n",
    "A of ♠\n",
    "\n",
    ">>> card2 = PlayingCard(\"15\", \"♠\")\n",
    "< error stack >\n",
    "TypeError: Invalid rank!\n",
    "\n",
    ">>> card2 = PlayingCard(\"10\", \"bunnies\")\n",
    "< error stack >\n",
    "TypeError: Invalid suit!\n",
    "\n",
    ">>> deck1 = Deck()\n",
    ">>> print(deck1.cards)\n",
    "[K of ♠, A of ♥, 6 of ♣, 7 of ♠, J of ♦, 6 of ♠, Q of ♦, 5 of ♣, 10 of ♦, 2 of ♥, 8 of ♣, 8 of ♦, 4 of ♦, 7 of ♦, 3 of ♣, K of ♣, 9 of ♠, 4 of ♥, 10 of ♥, 10 of ♣, A of ♠, 9 of ♥, 7 of ♥, 9 of ♣, 7 of ♣, 5 of ♠, 3 of ♦, 10 of ♠, Q of ♥, J of ♣, 5 of ♥, K of ♥, K of ♦, 2 of ♠, 8 of ♠, Q of ♣, 3 of ♠, 6 of ♥, 6 of ♦, A of ♣, A of ♦, 3 of ♥, J of ♠, 4 of ♣, 5 of ♦, 2 of ♦, 4 of ♠, 2 of ♣, Q of ♠, J of ♥, 8 of ♥, 9 of ♦] \n",
    "\n",
    ">>> deck2 = Deck('♠')\n",
    ">>> deck2.shuffle_deck()\n",
    ">>> deck2.cards\n",
    "[A of ♠, 10 of ♠, 3 of ♠, 7 of ♠, 5 of ♠, 4 of ♠, 8 of ♠, J of ♠, 9 of ♠, Q of ♠, 6 of ♠, 2 of ♠, K of ♠]\n",
    "\n",
    ">>> hand = deck2.deal_card(7)\n",
    ">>> hand\n",
    "[A of ♠, 10 of ♠, 3 of ♠, 7 of ♠, 5 of ♠, 4 of ♠, 8 of ♠]\n",
    "\n",
    ">>> deck2.deal_card(7)\n",
    "'Cannot deal 7 cards. The deck only has 6 cards left!'\n",
    "```"
   ]
  },
  {
   "cell_type": "code",
   "execution_count": 116,
   "id": "755b576b",
   "metadata": {},
   "outputs": [],
   "source": [
    "# Q7-1 Grading Tag:\n",
    "\n",
    "class PlayingCard:\n",
    "    \n",
    "    def __init__(self, rank, suit):\n",
    "        self.rank = None\n",
    "        self.suit = None\n",
    "\n",
    "        if suit not in [\"♠\", \"♥\", \"♦\", \"♣\"]:\n",
    "            raise TypeError(\"Invalid suit!\")   \n",
    "\n",
    "        elif rank not in [2, 3, 4, 5, 6, 7, 8, 9, 10, \"J\", \"Q\", \"K\", \"A\"]:\n",
    "            raise TypeError(\"Invalid rank!\")\n",
    "            return\n",
    "\n",
    "        self.rank = rank\n",
    "        self.suit = suit\n",
    "\n",
    "    def __repr__(self):\n",
    "        return f\"{self.rank} of {self.suit}\"\n",
    "\n",
    "    def __str__(self):\n",
    "        return f\"{self.rank} of {self.suit}\"\n",
    "\n",
    "class Deck:\n",
    "   \n",
    "    def __init__(self, suit = None):\n",
    "        self.cards = []\n",
    "        if suit == None:\n",
    "            for n_suit in [\"♠\", \"♥\", \"♦\", \"♣\"]:\n",
    "                for rank in [2, 3, 4, 5, 6, 7, 8, 9, 10, \"J\", \"Q\", \"K\", \"A\"]:\n",
    "                    self.cards.append(PlayingCard(rank, n_suit))\n",
    "\n",
    "        else:\n",
    "            for rank in [2, 3, 4, 5, 6, 7, 8, 9, 10, \"J\", \"Q\", \"K\", \"A\"]:\n",
    "                self.cards.append(PlayingCard(rank, suit))\n",
    "\n",
    "        self.shuffle_deck()\n",
    "\n",
    "    def shuffle_deck(self):\n",
    "        import random\n",
    "        random.shuffle(self.cards)\n",
    "\n",
    "    def deal_card(self, card_count):\n",
    "        if card_count > len(self.cards):\n",
    "            return f\"Cannot deal {card_count} cards. The deck only has {len(self.cards)} cards left!\"\n",
    "        else:\n",
    "            dealt = self.cards[:card_count]\n",
    "            del self.cards[:card_count]\n",
    "            return dealt          \n",
    "                    \n",
    "    def __str__(self):\n",
    "        return (self.cards)"
   ]
  },
  {
   "cell_type": "code",
   "execution_count": 117,
   "id": "a7b533d5",
   "metadata": {},
   "outputs": [
    {
     "name": "stdout",
     "output_type": "stream",
     "text": [
      "A of ♠\n"
     ]
    },
    {
     "ename": "TypeError",
     "evalue": "Invalid rank!",
     "output_type": "error",
     "traceback": [
      "\u001b[0;31m---------------------------------------------------------------------------\u001b[0m",
      "\u001b[0;31mTypeError\u001b[0m                                 Traceback (most recent call last)",
      "\u001b[0;32m/var/folders/lf/rw9c03t53gx_4g_gl7hrjk0m0000gn/T/ipykernel_927/997133986.py\u001b[0m in \u001b[0;36m<module>\u001b[0;34m\u001b[0m\n\u001b[1;32m      2\u001b[0m \u001b[0mprint\u001b[0m\u001b[0;34m(\u001b[0m\u001b[0mcard1\u001b[0m\u001b[0;34m)\u001b[0m\u001b[0;34m\u001b[0m\u001b[0;34m\u001b[0m\u001b[0m\n\u001b[1;32m      3\u001b[0m \u001b[0;34m\u001b[0m\u001b[0m\n\u001b[0;32m----> 4\u001b[0;31m \u001b[0mcard2\u001b[0m \u001b[0;34m=\u001b[0m \u001b[0mPlayingCard\u001b[0m\u001b[0;34m(\u001b[0m\u001b[0;34m\"4\"\u001b[0m\u001b[0;34m,\u001b[0m \u001b[0;34m\"♠\"\u001b[0m\u001b[0;34m)\u001b[0m\u001b[0;34m\u001b[0m\u001b[0;34m\u001b[0m\u001b[0m\n\u001b[0m\u001b[1;32m      5\u001b[0m \u001b[0mcard2\u001b[0m \u001b[0;34m=\u001b[0m \u001b[0mPlayingCard\u001b[0m\u001b[0;34m(\u001b[0m\u001b[0;34m\"2\"\u001b[0m\u001b[0;34m,\u001b[0m \u001b[0;34m\"B\"\u001b[0m\u001b[0;34m)\u001b[0m\u001b[0;34m\u001b[0m\u001b[0;34m\u001b[0m\u001b[0m\n\u001b[1;32m      6\u001b[0m \u001b[0;34m\u001b[0m\u001b[0m\n",
      "\u001b[0;32m/var/folders/lf/rw9c03t53gx_4g_gl7hrjk0m0000gn/T/ipykernel_927/1560244339.py\u001b[0m in \u001b[0;36m__init__\u001b[0;34m(self, rank, suit)\u001b[0m\n\u001b[1;32m     11\u001b[0m \u001b[0;34m\u001b[0m\u001b[0m\n\u001b[1;32m     12\u001b[0m         \u001b[0;32melif\u001b[0m \u001b[0mrank\u001b[0m \u001b[0;32mnot\u001b[0m \u001b[0;32min\u001b[0m \u001b[0;34m[\u001b[0m\u001b[0;36m2\u001b[0m\u001b[0;34m,\u001b[0m \u001b[0;36m3\u001b[0m\u001b[0;34m,\u001b[0m \u001b[0;36m4\u001b[0m\u001b[0;34m,\u001b[0m \u001b[0;36m5\u001b[0m\u001b[0;34m,\u001b[0m \u001b[0;36m6\u001b[0m\u001b[0;34m,\u001b[0m \u001b[0;36m7\u001b[0m\u001b[0;34m,\u001b[0m \u001b[0;36m8\u001b[0m\u001b[0;34m,\u001b[0m \u001b[0;36m9\u001b[0m\u001b[0;34m,\u001b[0m \u001b[0;36m10\u001b[0m\u001b[0;34m,\u001b[0m \u001b[0;34m\"J\"\u001b[0m\u001b[0;34m,\u001b[0m \u001b[0;34m\"Q\"\u001b[0m\u001b[0;34m,\u001b[0m \u001b[0;34m\"K\"\u001b[0m\u001b[0;34m,\u001b[0m \u001b[0;34m\"A\"\u001b[0m\u001b[0;34m]\u001b[0m\u001b[0;34m:\u001b[0m\u001b[0;34m\u001b[0m\u001b[0;34m\u001b[0m\u001b[0m\n\u001b[0;32m---> 13\u001b[0;31m             \u001b[0;32mraise\u001b[0m \u001b[0mTypeError\u001b[0m\u001b[0;34m(\u001b[0m\u001b[0;34m\"Invalid rank!\"\u001b[0m\u001b[0;34m)\u001b[0m\u001b[0;34m\u001b[0m\u001b[0;34m\u001b[0m\u001b[0m\n\u001b[0m\u001b[1;32m     14\u001b[0m             \u001b[0;32mreturn\u001b[0m\u001b[0;34m\u001b[0m\u001b[0;34m\u001b[0m\u001b[0m\n\u001b[1;32m     15\u001b[0m \u001b[0;34m\u001b[0m\u001b[0m\n",
      "\u001b[0;31mTypeError\u001b[0m: Invalid rank!"
     ]
    }
   ],
   "source": [
    "card1 = PlayingCard(\"A\", \"♠\")\n",
    "print(card1)\n",
    "\n",
    "card2 = PlayingCard(\"4\", \"♠\")\n",
    "card2 = PlayingCard(\"2\", \"B\")\n",
    "\n",
    "deck1 = Deck()\n",
    "print(deck1.cards)\n",
    "\n",
    "deck2 = Deck('♠')\n",
    "deck2.shuffle_deck()\n",
    "deck2.cards\n",
    "\n",
    "hand = deck2.deal_card(7)\n",
    "hand\n",
    "\n",
    "deck2.deal_card(10)"
   ]
  },
  {
   "cell_type": "code",
   "execution_count": 118,
   "id": "7a509b61",
   "metadata": {},
   "outputs": [
    {
     "name": "stdout",
     "output_type": "stream",
     "text": [
      "A of ♠\n"
     ]
    }
   ],
   "source": [
    "card1 = PlayingCard(\"A\", \"♠\")\n",
    "print(card1)"
   ]
  },
  {
   "cell_type": "code",
   "execution_count": 119,
   "id": "08dd6244",
   "metadata": {},
   "outputs": [
    {
     "ename": "TypeError",
     "evalue": "Invalid rank!",
     "output_type": "error",
     "traceback": [
      "\u001b[0;31m---------------------------------------------------------------------------\u001b[0m",
      "\u001b[0;31mTypeError\u001b[0m                                 Traceback (most recent call last)",
      "\u001b[0;32m/var/folders/lf/rw9c03t53gx_4g_gl7hrjk0m0000gn/T/ipykernel_927/3809813281.py\u001b[0m in \u001b[0;36m<module>\u001b[0;34m\u001b[0m\n\u001b[0;32m----> 1\u001b[0;31m \u001b[0mcard2\u001b[0m \u001b[0;34m=\u001b[0m \u001b[0mPlayingCard\u001b[0m\u001b[0;34m(\u001b[0m\u001b[0;34m\"4\"\u001b[0m\u001b[0;34m,\u001b[0m \u001b[0;34m\"♣\"\u001b[0m\u001b[0;34m)\u001b[0m\u001b[0;34m\u001b[0m\u001b[0;34m\u001b[0m\u001b[0m\n\u001b[0m",
      "\u001b[0;32m/var/folders/lf/rw9c03t53gx_4g_gl7hrjk0m0000gn/T/ipykernel_927/1560244339.py\u001b[0m in \u001b[0;36m__init__\u001b[0;34m(self, rank, suit)\u001b[0m\n\u001b[1;32m     11\u001b[0m \u001b[0;34m\u001b[0m\u001b[0m\n\u001b[1;32m     12\u001b[0m         \u001b[0;32melif\u001b[0m \u001b[0mrank\u001b[0m \u001b[0;32mnot\u001b[0m \u001b[0;32min\u001b[0m \u001b[0;34m[\u001b[0m\u001b[0;36m2\u001b[0m\u001b[0;34m,\u001b[0m \u001b[0;36m3\u001b[0m\u001b[0;34m,\u001b[0m \u001b[0;36m4\u001b[0m\u001b[0;34m,\u001b[0m \u001b[0;36m5\u001b[0m\u001b[0;34m,\u001b[0m \u001b[0;36m6\u001b[0m\u001b[0;34m,\u001b[0m \u001b[0;36m7\u001b[0m\u001b[0;34m,\u001b[0m \u001b[0;36m8\u001b[0m\u001b[0;34m,\u001b[0m \u001b[0;36m9\u001b[0m\u001b[0;34m,\u001b[0m \u001b[0;36m10\u001b[0m\u001b[0;34m,\u001b[0m \u001b[0;34m\"J\"\u001b[0m\u001b[0;34m,\u001b[0m \u001b[0;34m\"Q\"\u001b[0m\u001b[0;34m,\u001b[0m \u001b[0;34m\"K\"\u001b[0m\u001b[0;34m,\u001b[0m \u001b[0;34m\"A\"\u001b[0m\u001b[0;34m]\u001b[0m\u001b[0;34m:\u001b[0m\u001b[0;34m\u001b[0m\u001b[0;34m\u001b[0m\u001b[0m\n\u001b[0;32m---> 13\u001b[0;31m             \u001b[0;32mraise\u001b[0m \u001b[0mTypeError\u001b[0m\u001b[0;34m(\u001b[0m\u001b[0;34m\"Invalid rank!\"\u001b[0m\u001b[0;34m)\u001b[0m\u001b[0;34m\u001b[0m\u001b[0;34m\u001b[0m\u001b[0m\n\u001b[0m\u001b[1;32m     14\u001b[0m             \u001b[0;32mreturn\u001b[0m\u001b[0;34m\u001b[0m\u001b[0;34m\u001b[0m\u001b[0m\n\u001b[1;32m     15\u001b[0m \u001b[0;34m\u001b[0m\u001b[0m\n",
      "\u001b[0;31mTypeError\u001b[0m: Invalid rank!"
     ]
    }
   ],
   "source": [
    "card2 = PlayingCard(\"4\", \"♣\")"
   ]
  },
  {
   "cell_type": "code",
   "execution_count": 120,
   "id": "2e963d9e",
   "metadata": {},
   "outputs": [
    {
     "ename": "TypeError",
     "evalue": "Invalid suit!",
     "output_type": "error",
     "traceback": [
      "\u001b[0;31m---------------------------------------------------------------------------\u001b[0m",
      "\u001b[0;31mTypeError\u001b[0m                                 Traceback (most recent call last)",
      "\u001b[0;32m/var/folders/lf/rw9c03t53gx_4g_gl7hrjk0m0000gn/T/ipykernel_927/3020593719.py\u001b[0m in \u001b[0;36m<module>\u001b[0;34m\u001b[0m\n\u001b[0;32m----> 1\u001b[0;31m \u001b[0mcard2\u001b[0m \u001b[0;34m=\u001b[0m \u001b[0mPlayingCard\u001b[0m\u001b[0;34m(\u001b[0m\u001b[0;34m\"2\"\u001b[0m\u001b[0;34m,\u001b[0m \u001b[0;34m\"B\"\u001b[0m\u001b[0;34m)\u001b[0m\u001b[0;34m\u001b[0m\u001b[0;34m\u001b[0m\u001b[0m\n\u001b[0m",
      "\u001b[0;32m/var/folders/lf/rw9c03t53gx_4g_gl7hrjk0m0000gn/T/ipykernel_927/1560244339.py\u001b[0m in \u001b[0;36m__init__\u001b[0;34m(self, rank, suit)\u001b[0m\n\u001b[1;32m      8\u001b[0m \u001b[0;34m\u001b[0m\u001b[0m\n\u001b[1;32m      9\u001b[0m         \u001b[0;32mif\u001b[0m \u001b[0msuit\u001b[0m \u001b[0;32mnot\u001b[0m \u001b[0;32min\u001b[0m \u001b[0;34m[\u001b[0m\u001b[0;34m\"♠\"\u001b[0m\u001b[0;34m,\u001b[0m \u001b[0;34m\"♥\"\u001b[0m\u001b[0;34m,\u001b[0m \u001b[0;34m\"♦\"\u001b[0m\u001b[0;34m,\u001b[0m \u001b[0;34m\"♣\"\u001b[0m\u001b[0;34m]\u001b[0m\u001b[0;34m:\u001b[0m\u001b[0;34m\u001b[0m\u001b[0;34m\u001b[0m\u001b[0m\n\u001b[0;32m---> 10\u001b[0;31m             \u001b[0;32mraise\u001b[0m \u001b[0mTypeError\u001b[0m\u001b[0;34m(\u001b[0m\u001b[0;34m\"Invalid suit!\"\u001b[0m\u001b[0;34m)\u001b[0m\u001b[0;34m\u001b[0m\u001b[0;34m\u001b[0m\u001b[0m\n\u001b[0m\u001b[1;32m     11\u001b[0m \u001b[0;34m\u001b[0m\u001b[0m\n\u001b[1;32m     12\u001b[0m         \u001b[0;32melif\u001b[0m \u001b[0mrank\u001b[0m \u001b[0;32mnot\u001b[0m \u001b[0;32min\u001b[0m \u001b[0;34m[\u001b[0m\u001b[0;36m2\u001b[0m\u001b[0;34m,\u001b[0m \u001b[0;36m3\u001b[0m\u001b[0;34m,\u001b[0m \u001b[0;36m4\u001b[0m\u001b[0;34m,\u001b[0m \u001b[0;36m5\u001b[0m\u001b[0;34m,\u001b[0m \u001b[0;36m6\u001b[0m\u001b[0;34m,\u001b[0m \u001b[0;36m7\u001b[0m\u001b[0;34m,\u001b[0m \u001b[0;36m8\u001b[0m\u001b[0;34m,\u001b[0m \u001b[0;36m9\u001b[0m\u001b[0;34m,\u001b[0m \u001b[0;36m10\u001b[0m\u001b[0;34m,\u001b[0m \u001b[0;34m\"J\"\u001b[0m\u001b[0;34m,\u001b[0m \u001b[0;34m\"Q\"\u001b[0m\u001b[0;34m,\u001b[0m \u001b[0;34m\"K\"\u001b[0m\u001b[0;34m,\u001b[0m \u001b[0;34m\"A\"\u001b[0m\u001b[0;34m]\u001b[0m\u001b[0;34m:\u001b[0m\u001b[0;34m\u001b[0m\u001b[0;34m\u001b[0m\u001b[0m\n",
      "\u001b[0;31mTypeError\u001b[0m: Invalid suit!"
     ]
    }
   ],
   "source": [
    "card2 = PlayingCard(\"2\", \"B\")"
   ]
  },
  {
   "cell_type": "code",
   "execution_count": 121,
   "id": "674d2283",
   "metadata": {},
   "outputs": [
    {
     "name": "stdout",
     "output_type": "stream",
     "text": [
      "[9 of ♣, 7 of ♦, 7 of ♣, J of ♦, 4 of ♥, J of ♣, 5 of ♦, 4 of ♣, 6 of ♦, 8 of ♣, 5 of ♠, K of ♣, 7 of ♥, 3 of ♣, 5 of ♣, 9 of ♠, Q of ♥, 2 of ♦, 8 of ♦, K of ♥, 10 of ♥, 8 of ♠, 3 of ♦, Q of ♣, 5 of ♥, 2 of ♥, A of ♦, 10 of ♣, 6 of ♣, J of ♠, 6 of ♥, 6 of ♠, 8 of ♥, A of ♥, A of ♣, K of ♦, 3 of ♠, 4 of ♠, 9 of ♦, 10 of ♦, 3 of ♥, 10 of ♠, Q of ♠, 2 of ♠, 7 of ♠, A of ♠, Q of ♦, 2 of ♣, K of ♠, 9 of ♥, 4 of ♦, J of ♥]\n"
     ]
    }
   ],
   "source": [
    "deck1 = Deck()\n",
    "print(deck1.cards)"
   ]
  },
  {
   "cell_type": "code",
   "execution_count": 122,
   "id": "67b65549",
   "metadata": {},
   "outputs": [
    {
     "data": {
      "text/plain": [
       "[6 of ♠,\n",
       " Q of ♠,\n",
       " 9 of ♠,\n",
       " 2 of ♠,\n",
       " 3 of ♠,\n",
       " 8 of ♠,\n",
       " A of ♠,\n",
       " J of ♠,\n",
       " 4 of ♠,\n",
       " 7 of ♠,\n",
       " 10 of ♠,\n",
       " 5 of ♠,\n",
       " K of ♠]"
      ]
     },
     "execution_count": 122,
     "metadata": {},
     "output_type": "execute_result"
    }
   ],
   "source": [
    "deck2 = Deck('♠')\n",
    "deck2.shuffle_deck()\n",
    "deck2.cards"
   ]
  },
  {
   "cell_type": "code",
   "execution_count": 123,
   "id": "a26d47d5",
   "metadata": {},
   "outputs": [
    {
     "data": {
      "text/plain": [
       "[6 of ♠, Q of ♠, 9 of ♠, 2 of ♠, 3 of ♠, 8 of ♠, A of ♠]"
      ]
     },
     "execution_count": 123,
     "metadata": {},
     "output_type": "execute_result"
    }
   ],
   "source": [
    "hand = deck2.deal_card(7)\n",
    "hand"
   ]
  },
  {
   "cell_type": "code",
   "execution_count": 124,
   "id": "7a571386",
   "metadata": {},
   "outputs": [
    {
     "data": {
      "text/plain": [
       "'Cannot deal 10 cards. The deck only has 6 cards left!'"
      ]
     },
     "execution_count": 124,
     "metadata": {},
     "output_type": "execute_result"
    }
   ],
   "source": [
    "deck2.deal_card(10)"
   ]
  },
  {
   "cell_type": "markdown",
   "id": "3428a122",
   "metadata": {},
   "source": [
    "## 7-2 Sorting Marbles (50 points)\n",
    "\n",
    "In a particular board game, there is exactly one row and it comprises N spaces, numbered 0 through N - 1 from left to right. There are also N marbles, numbered 0 through N - 1, initially placed in some arbitrary order. After that, there are two moves available that only can be done one at a time:\n",
    "\n",
    "- Switch: Switch the marbles in positions 0 and 1.\n",
    "- Rotate: Move the marble in position 0 to position N - 1, and move all other marbles one space to the left (one index lower).\n",
    "\n",
    "The objective is to arrange the marbles in order, with each marble i in position i.\n",
    "\n",
    "1\\. Write a class, **MarblesBoard**, to represent the game above. (25 points) \n",
    "- Write an `__init__` function that takes a starting sequence of marbles (the number of each marble listed in the positions from 0 to N - 1). (Notice in the sequence all the marbles are different numbers and are sequential numbered but not in order!)\n",
    "- Next, write `switch()` and `rotate()` methods to simulate the player's moves as described above. \n",
    "- Write a method, `is_solved()`, that returns True if the marbles are in the correct order or False otherwise.\n",
    "- Additionally, write `__str__` and `__repr__` methods to display the current state of the board. \n",
    "\n",
    "Your class should behave like the following example:\n",
    "```\n",
    ">>> board = MarblesBoard((3,6,7,4,1,0,8,2,5)) \n",
    ">>> board \n",
    "3 6 7 4 1 0 8 2 5 \n",
    ">>> board.switch() \n",
    ">>> board \n",
    "6 3 7 4 1 0 8 2 5 \n",
    ">>> board.rotate() \n",
    ">>> board \n",
    "3 7 4 1 0 8 2 5 6 \n",
    ">>> board.switch() \n",
    ">>> board \n",
    "7 3 4 1 0 8 2 5 6\n",
    "```\n",
    "\n",
    "2\\. Write a second class, **Solver**, that actually plays the MarblesGame. (25 points)\n",
    "- Write an `__init__` method that takes a MarblesBoard class in its initializer and stores it in an attribute: `board`. \n",
    "- Write a `solve()` method:\n",
    "  - Which repeatedly calls the switch() or the rotate() method of the given MarblesBoard until the game is solved. \n",
    "  - Before the first switch or rotate, make a **list** of **tuples** with the starting tuple of `('start', <board starting state>)`\n",
    "  - After each step ('switch' or 'rotate'), append to the  above **list** a tuple of: \n",
    "    - What step ('switch' or 'rotate') was performed. Remember, you can only do one switch or one rotate per step!\n",
    "    - The state of the board \n",
    "  - Return the above list as output to this method.\n",
    "  - You are to come up with your own algorithm for solving the marbles game. Before you write your solve() method, you may want to practice solving some small versions of the marbles game yourself.\n",
    "  - Your Solver should strive to make the algorithm reasonably efficient and strive to be the fastest runtime. (10 points are awarded based on algorithm efficiency)\n",
    "\n",
    "Below is an example:\n",
    "```\n",
    ">>> board2 = MarblesBoard((1,3,0,2))\n",
    ">>> solver = Solver(board2)\n",
    ">>> solver.solve()\n",
    "[('start', 1 3 0 2),\n",
    " ('rotate', 3 0 2 1),\n",
    " ('rotate', 0 2 1 3),\n",
    " ('rotate', 2 1 3 0),\n",
    " ('switch', 1 2 3 0),\n",
    " ('rotate', 2 3 0 1),\n",
    " ('rotate', 3 0 1 2),\n",
    " ('rotate', 0 1 2 3)]\n",
    "```\n",
    "\n",
    "You may be interested to know that your program is a variation of a well-known sorting algorithm called bubble sort. Bubble sort would normally be used on a list of items, not on a rotating track, but adapting your algorithm to this setting could be straight-forward."
   ]
  },
  {
   "cell_type": "code",
   "execution_count": 211,
   "id": "1c9ee04d",
   "metadata": {},
   "outputs": [],
   "source": [
    "# Q7-2 Grading Tag:\n",
    "\n",
    "class MarblesBoard:\n",
    "\n",
    "    def __init__(self, sequence):\n",
    "        self.sequence = list(sequence)\n",
    "        \n",
    "    def switch(self):\n",
    "        temp = self.sequence[0]\n",
    "        self.sequence[0] = self.sequence[1]\n",
    "        self.sequence[1] = temp\n",
    "        \n",
    "    def rotate(self):\n",
    "        temp = self.sequence[0]\n",
    "        for i in range(1, len(self.sequence)):\n",
    "            self.sequence[i-1] = self.sequence[i]\n",
    "\n",
    "        self.sequence[-1] = temp\n",
    "        \n",
    "    def is_solved(self):\n",
    "\n",
    "        for i in range(len(self.sequence)):\n",
    "            if i != self.sequence[i]:\n",
    "                return False\n",
    "        return True\n",
    "    \n",
    "    def __str__(self):\n",
    "\n",
    "        return ' '.join(list(map(str,self.sequence)))\n",
    "    \n",
    "    def __repr__(self):\n",
    "        return ' '.join(list(map(str,self.sequence)))\n",
    "\n",
    "class Solver:\n",
    "\n",
    "    def __init__(self, board):\n",
    "        self.board = board\n",
    "        \n",
    "    def solve(self):\n",
    "\n",
    "        steps = [('start', str(self.board).strip(\"[ ]\"))]\n",
    "        while not self.board.is_solved():\n",
    "\n",
    "            if self.board.sequence[0] > self.board.sequence[1] and self.board.sequence[0] != len(self.board.sequence) - 1:\n",
    "                self.board.switch()\n",
    "                steps.append(('switch', str(self.board).strip(\"[ ]\")))\n",
    "                                  \n",
    "            else:\n",
    "                \n",
    "                self.board.rotate()\n",
    "                steps.append(('rotate', str(self.board).strip(\"[ ]\")))\n",
    "                \n",
    "        return steps"
   ]
  },
  {
   "cell_type": "code",
   "execution_count": 212,
   "id": "f5c4e43c",
   "metadata": {},
   "outputs": [
    {
     "data": {
      "text/plain": [
       "3 6 7 4 1 0 8 2 5"
      ]
     },
     "execution_count": 212,
     "metadata": {},
     "output_type": "execute_result"
    }
   ],
   "source": [
    "board = MarblesBoard((3,6,7,4,1,0,8,2,5)) \n",
    "board "
   ]
  },
  {
   "cell_type": "code",
   "execution_count": 213,
   "id": "83f13516",
   "metadata": {},
   "outputs": [
    {
     "data": {
      "text/plain": [
       "6 3 7 4 1 0 8 2 5"
      ]
     },
     "execution_count": 213,
     "metadata": {},
     "output_type": "execute_result"
    }
   ],
   "source": [
    "board.switch() \n",
    "board"
   ]
  },
  {
   "cell_type": "code",
   "execution_count": 214,
   "id": "60c847bb",
   "metadata": {},
   "outputs": [
    {
     "data": {
      "text/plain": [
       "3 7 4 1 0 8 2 5 6"
      ]
     },
     "execution_count": 214,
     "metadata": {},
     "output_type": "execute_result"
    }
   ],
   "source": [
    "board.rotate() \n",
    "board "
   ]
  },
  {
   "cell_type": "code",
   "execution_count": 215,
   "id": "b04c6742",
   "metadata": {},
   "outputs": [
    {
     "data": {
      "text/plain": [
       "7 3 4 1 0 8 2 5 6"
      ]
     },
     "execution_count": 215,
     "metadata": {},
     "output_type": "execute_result"
    }
   ],
   "source": [
    "board.switch() \n",
    "board "
   ]
  },
  {
   "cell_type": "code",
   "execution_count": 216,
   "id": "13e3a58a",
   "metadata": {},
   "outputs": [
    {
     "data": {
      "text/plain": [
       "[('start', '1 3 0 2'),\n",
       " ('rotate', '3 0 2 1'),\n",
       " ('rotate', '0 2 1 3'),\n",
       " ('rotate', '2 1 3 0'),\n",
       " ('switch', '1 2 3 0'),\n",
       " ('rotate', '2 3 0 1'),\n",
       " ('rotate', '3 0 1 2'),\n",
       " ('rotate', '0 1 2 3')]"
      ]
     },
     "execution_count": 216,
     "metadata": {},
     "output_type": "execute_result"
    }
   ],
   "source": [
    "board2 = MarblesBoard((1,3,0,2))\n",
    "solver = Solver(board2)\n",
    "solver.solve()"
   ]
  }
 ],
 "metadata": {
  "kernelspec": {
   "display_name": "Python 3 (ipykernel)",
   "language": "python",
   "name": "python3"
  },
  "language_info": {
   "codemirror_mode": {
    "name": "ipython",
    "version": 3
   },
   "file_extension": ".py",
   "mimetype": "text/x-python",
   "name": "python",
   "nbconvert_exporter": "python",
   "pygments_lexer": "ipython3",
   "version": "3.9.13"
  }
 },
 "nbformat": 4,
 "nbformat_minor": 5
}
