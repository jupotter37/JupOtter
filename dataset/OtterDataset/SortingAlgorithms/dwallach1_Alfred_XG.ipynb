
# coding: utf-8

# In[1]:


get_ipython().system('pip install xgboost -U')
get_ipython().system('pip install scipy -U')
get_ipython().system('pip install scikit-learn -U')


# In[6]:


import numpy as np 
import pandas as pd
import pickle
from sklearn.model_selection import train_test_split
import xgboost as xgb
from sklearn.metrics import confusion_matrix
from sklearn.metrics import accuracy_score
from sklearn.metrics import classification_report
import matplotlib.pyplot as plt


# In[7]:


#Pickling Supplies
# base dir "/jaa-bucket2/"
#gcs_pickle(data, "/jaa-bucket2/quora/Quora_featured")
#gcs_unpickle("/jaa-bucket2/quora/Quora_featured")
get_ipython().system('pip install gcsfs')
import gcsfs
def gcs_pickle(self,directory):
  fs = gcsfs.GCSFileSystem()
  with fs.open(directory, 'wb') as f:
      pickle.dump(self, f)
def gcs_unpickle(directory):
  fs = gcsfs.GCSFileSystem()
  with fs.open(directory, 'rb') as f:
      element = pickle.load(f)
  return element


# In[25]:


df = pd.read_pickle("Quora_featured")
#df = df.iloc[:10000,:]


# In[26]:


df.columns = pd.Series(df.columns).apply(str)
cols=pd.Series(df.columns)
cols[-300:]=[str(col) + '_q2' for col in cols[-300:]]
df.columns = cols


# In[27]:


df.drop(['question1', 'question2'], axis=1, inplace=True)
df = df[pd.notnull(df['cosine_distance'])]
df = df[pd.notnull(df['jaccard_distance'])]

X = df.loc[:, df.columns != 'is_duplicate']
y = df.loc[:, df.columns == 'is_duplicate']
X_train, X_test, y_train, y_test = train_test_split(X, y, test_size=0.3, random_state=0)


# In[ ]:


booster = xgb.XGBClassifier(max_depth=50, n_estimators=80, learning_rate=0.1, colsample_bytree=.7, gamma=0, reg_alpha=4, objective='binary:logistic', silent=0, subsample=0.8)
model = booster.fit(X_train, y_train.values.ravel()) 


# In[29]:


prediction = model.predict(X_test)
cm = confusion_matrix(y_test, prediction)  
print(cm)  
print('Accuracy', accuracy_score(y_test, prediction))
print(classification_report(y_test, prediction))


# In[30]:


imp = pd.DataFrame(model.feature_importances_)
imp.index = X.columns
imp =imp.sort_values(by= 0, ascending=False)
imp.head(15)
imp.tail(15)


# In[31]:


#pickle.dump(model, open("xgb_pickle.dat", "wb"))


# In[33]:


#loaded_model = pickle.load(open("xgb_pickle.dat", "rb"))


# In[34]:


gcs_pickle(model, "/jaa-bucket2/quora/xgb_pickle")
gcs_pickle(X_train, "/jaa-bucket2/quora/X_train")
gcs_pickle(X_test, "/jaa-bucket2/quora/X_test")
gcs_pickle(y_test, "/jaa-bucket2/quora/y_test")
gcs_pickle(y_train, "/jaa-bucket2/quora/y_train")


# In[35]:


X_train = X_train.iloc[:,-600:].copy()
X_test = X_test.iloc[:,-600:].copy()


# In[ ]:


booster = xgb.XGBClassifier(max_depth=50, n_estimators=80, learning_rate=0.1, colsample_bytree=.7, gamma=0, reg_alpha=4, objective='binary:logistic', silent=0, subsample=0.8)
model = booster.fit(X_train, y_train.values.ravel()) 


# In[ ]:


prediction = model.predict(X_test)
cm = confusion_matrix(y_test, prediction)  
print(cm)  
print('Accuracy', accuracy_score(y_test, prediction))
print(classification_report(y_test, prediction))


# In[ ]:


gcs_pickle(model, "/jaa-bucket2/quora/xgb_W2V_only")


# In[ ]:


model

