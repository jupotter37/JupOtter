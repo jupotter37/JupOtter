{
 "cells": [
  {
   "cell_type": "markdown",
   "metadata": {},
   "source": [
    "<center><img src=\"https://github.com/aaron-clarusway/fullstack/blob/master/itf-logo.png?raw=true\"  alt=\"alt text\" width=\"200\"/></center>\n",
    "<br>\n",
    "<h1><p style=\"text-align: center; color:darkblue\">Python Basic</p><h1>\n",
    "<center><h1>Workshop - 2</h1></center>\n",
    "<p><img align=\"right\"\n",
    "  src=\"https://secure.meetupstatic.com/photos/event/3/1/b/9/600_488352729.jpeg\"  width=\"15px\"></p>\n",
    "<br>\n",
    "\n",
    "\n",
    "# Subject: Collections - Control Flow Statements"
   ]
  },
  {
   "cell_type": "markdown",
   "metadata": {},
   "source": [
    "## Coding Challenge-1 : Find the Largest Number\n",
    "\n",
    "Purpose of the this coding challenge is to solve a simple sorting problem in Python.\n",
    "\n",
    "### Learning Outcomes\n",
    "\n",
    "At the end of the this coding challenge, students will be able to;\n",
    "\n",
    "- get a basic understanding of sorting algorithms.\n",
    "- demonstrate their knowledge of lists in python\n",
    "- implement loops to solve the problems in python\n",
    "- get a better understanding of computational thinking concepts\n",
    "\n",
    "### Problem Statement\n",
    "  \n",
    "- Write a python code that finds the largest number among the ``n`` numbers given by the user as input.\n",
    "\n",
    "- First, take `n` from the user, then take `n` numbers one by one and select-print the largest one.\n",
    "\n",
    "- It is forbidden to use ``max()`` function.  \n",
    "\n",
    "- Indicate which computational thinking concepts have you used.\n",
    "\n",
    "- Example for user inputs and respective outputs\n",
    "\n",
    "```text\n",
    "Input                Output\n",
    "---------------:     -------------------------:\n",
    "n = 5, 1 2 3 4 5     The largest number is:  5\n",
    "n = 3, 67 85 19      The largest number is:  85\n",
    "```"
   ]
  },
  {
   "cell_type": "markdown",
   "metadata": {},
   "source": [
    "### Solution :"
   ]
  },
  {
   "cell_type": "code",
   "execution_count": 4,
   "metadata": {
    "scrolled": true
   },
   "outputs": [
    {
     "name": "stdout",
     "output_type": "stream",
     "text": [
      "How many numbers will you enter?7\n",
      "Please enter the number: 6\n",
      "Please enter the number: 6\n",
      "Please enter the number: 6\n",
      "Please enter the number: 6\n",
      "Please enter the number: 6\n",
      "Please enter the number: 6\n",
      "Please enter the number: 65\n",
      "The largest number is :  65\n"
     ]
    }
   ],
   "source": []
  },
  {
   "cell_type": "code",
   "execution_count": 1,
   "metadata": {},
   "outputs": [
    {
     "ename": "SyntaxError",
     "evalue": "invalid character in identifier (<ipython-input-1-e329307d9bf5>, line 2)",
     "output_type": "error",
     "traceback": [
      "\u001b[1;36m  File \u001b[1;32m\"<ipython-input-1-e329307d9bf5>\"\u001b[1;36m, line \u001b[1;32m2\u001b[0m\n\u001b[1;33m    n=int(input(“How many numbers will you enter?“))\u001b[0m\n\u001b[1;37m                   ^\u001b[0m\n\u001b[1;31mSyntaxError\u001b[0m\u001b[1;31m:\u001b[0m invalid character in identifier\n"
     ]
    }
   ],
   "source": [
    "list1=[]\n",
    "n=int(input(“How many numbers will you enter?“))\n",
    "for i in range(1,n+1):\n",
    "    x=int(input(“Please enter the number: “))\n",
    "    list1.append(x)\n",
    "print(“The largest number is: “,sorted(list1)[-1])"
   ]
  },
  {
   "cell_type": "code",
   "execution_count": 6,
   "metadata": {},
   "outputs": [
    {
     "ename": "SyntaxError",
     "evalue": "invalid syntax (<ipython-input-6-411967a6933f>, line 17)",
     "output_type": "error",
     "traceback": [
      "\u001b[1;36m  File \u001b[1;32m\"<ipython-input-6-411967a6933f>\"\u001b[1;36m, line \u001b[1;32m17\u001b[0m\n\u001b[1;33m    print(\"num1,num2,num3,arasında en büyük: \" enbuyuk)\u001b[0m\n\u001b[1;37m                                               ^\u001b[0m\n\u001b[1;31mSyntaxError\u001b[0m\u001b[1;31m:\u001b[0m invalid syntax\n"
     ]
    }
   ],
   "source": [
    "#sayi1 = 10\n",
    "#sayi2 = 14\n",
    "#sayi3 = 12\n",
    "\n",
    "# Değerlerin kullanıcı tarafından girilmesini istiyorsanız\n",
    "num1 = float(input(\"Birinci sayıyı girin: \"))\n",
    "num2 = float(input(\"İkinci Sayıyı girin: \"))\n",
    "num3 = float(input(\"Üçüncü sayıyı girin: \"))\n",
    "\n",
    "if (sayi1 >= sayi2) and (sayi1 >= sayi3):\n",
    "   enbuyuk = num1\n",
    "elif (sayi2 >= sayi1) and (sayi2 >= sayi3):\n",
    "   enbuyuk = sayi2\n",
    "else:\n",
    "   largest = sayi3\n",
    "\n",
    "print(\"num1,num2,num3,arasında en büyük: \" enbuyuk)"
   ]
  },
  {
   "cell_type": "code",
   "execution_count": 1,
   "metadata": {},
   "outputs": [
    {
     "name": "stdout",
     "output_type": "stream",
     "text": [
      "How many numbers will you enter? 5\n",
      "Please enter the number: 85\n",
      "Please enter the number: 45\n",
      "Please enter the number: 65\n",
      "Please enter the number: 45\n",
      "Please enter the number: 75\n",
      "The largest number is :  85\n"
     ]
    }
   ],
   "source": [
    "count=0\n",
    "array=[]\n",
    "size = int(input(\"How many numbers will you enter? \"))\n",
    "while count < size:\n",
    "    number= int(input('Please enter the number: '))\n",
    "    array.append(number)\n",
    "    count = count +1\n",
    "\n",
    "largest = array[0]\n",
    "for i in array:\n",
    "    if i > largest:\n",
    "        largest = i\n",
    "\n",
    "print(\"The largest number is : \", largest)"
   ]
  },
  {
   "cell_type": "code",
   "execution_count": null,
   "metadata": {},
   "outputs": [
    {
     "name": "stdout",
     "output_type": "stream",
     "text": [
      "How amany numbers will you enter? :65\n",
      "Please enter the number: 15\n"
     ]
    }
   ],
   "source": [
    "n =int(input(\"How amany numbers will you enter? :\"))\n",
    "num_list = []\n",
    "\n",
    "for i in range(n):\n",
    "    num = int(input(\"Please enter the number: \"))\n",
    "    num_list.append(num)\n",
    "        \n",
    "sorted_list = sorted(num_list)\n",
    "print(\"The largest number is :\", sorted_list[n-1])"
   ]
  },
  {
   "cell_type": "code",
   "execution_count": null,
   "metadata": {},
   "outputs": [],
   "source": [
    "n = int(input(\"How many numbers will you enter? \"))\n",
    "num_list = []\n",
    "for i in range(n) :\n",
    "    num = int(input(\"Please enter the number: \"))\n",
    "    num_list.append(num)\n",
    "sorted_list = sorted(num_list)\n",
    "print(\"The largest number is: \", sorted_list[n-1])\n"
   ]
  },
  {
   "cell_type": "markdown",
   "metadata": {},
   "source": [
    "## Coding Challenge-2 : Group Anagrams\n",
    "\n",
    "Purpose of the this coding challenge is to solve a grouping algorithm in Python.\n",
    "\n",
    "### Learning Outcomes\n",
    "\n",
    "At the end of the this coding challenge, students will be able to;\n",
    "\n",
    "- get a basic understanding of grouping algorithms.\n",
    "- demonstrate their knowledge of lists, dicts in python\n",
    "- implement loops to solve the problems in python\n",
    "- get a better understanding of computational thinking concepts\n",
    "\n",
    "### Problem Statement\n",
    "  \n",
    "- Given a list of strings, group anagrams together.\n",
    "\n",
    "- Example:\n",
    "\n",
    "**Input:**\n",
    "```\n",
    "[\"eat\", \"tea\", \"tan\", \"ate\", \"nat\", \"bat\"],\n",
    "Output:\n",
    "[\n",
    "  [\"ate\",\"eat\",\"tea\"],\n",
    "  [\"nat\",\"tan\"],\n",
    "  [\"bat\"]\n",
    "]\n",
    "```\n",
    "Note:\n",
    "All inputs will be in lowercase.\n",
    "The order of your output does not matter."
   ]
  },
  {
   "cell_type": "markdown",
   "metadata": {},
   "source": [
    "### Solution :"
   ]
  },
  {
   "cell_type": "code",
   "execution_count": 5,
   "metadata": {},
   "outputs": [
    {
     "name": "stdout",
     "output_type": "stream",
     "text": [
      "[['eat', 'tea', 'ate'], ['tan', 'nat'], ['bat'], ['cat', 'tac']]\n"
     ]
    }
   ],
   "source": [
    "strs = [\"eat\", \"tea\", \"tan\", \"ate\", \"nat\", \"bat\", \"cat\", \"tac\"]"
   ]
  },
  {
   "cell_type": "code",
   "execution_count": null,
   "metadata": {},
   "outputs": [],
   "source": [
    "liste=[“eat”, “tea”, “tan”, “ate”, “nat”, “bat”]\n",
    "sorted_list=[]\n",
    "sonuc=[]\n",
    "for i in liste:\n",
    "  if sorted(i) not in sorted_list:\n",
    "    sorted_list.append(sorted(i))\n",
    "for a in range(len(sorted_list)):\n",
    "  sonuc.append([i for i in liste if sorted(i)==sorted_list[a]])"
   ]
  },
  {
   "cell_type": "code",
   "execution_count": 2,
   "metadata": {},
   "outputs": [],
   "source": [
    "strs = [\"eat\", \"tea\", \"tan\", \"ate\", \"nat\", \"bat\", \"cat\", \"tac\"]\n",
    "anag = {}\n",
    "for i in strs:\n",
    "    element = \"\".join(sorted(i))\n",
    "    if element in anag:\n",
    "        anag[element].append(i)\n",
    "    else:\n",
    "        anag[element] = [i]\n",
    "print(list(anag.values()))"
   ]
  },
  {
   "cell_type": "code",
   "execution_count": 3,
   "metadata": {},
   "outputs": [
    {
     "ename": "TypeError",
     "evalue": "list indices must be integers or slices, not str",
     "output_type": "error",
     "traceback": [
      "\u001b[1;31m---------------------------------------------------------------------------\u001b[0m",
      "\u001b[1;31mTypeError\u001b[0m                                 Traceback (most recent call last)",
      "\u001b[1;32m<ipython-input-3-924b616ed90b>\u001b[0m in \u001b[0;36m<module>\u001b[1;34m\u001b[0m\n\u001b[0;32m      6\u001b[0m         \u001b[0manag\u001b[0m\u001b[1;33m[\u001b[0m\u001b[0melement\u001b[0m\u001b[1;33m]\u001b[0m\u001b[1;33m.\u001b[0m\u001b[0mappend\u001b[0m\u001b[1;33m(\u001b[0m\u001b[0mi\u001b[0m\u001b[1;33m)\u001b[0m\u001b[1;33m\u001b[0m\u001b[1;33m\u001b[0m\u001b[0m\n\u001b[0;32m      7\u001b[0m     \u001b[1;32melse\u001b[0m\u001b[1;33m:\u001b[0m\u001b[1;33m\u001b[0m\u001b[1;33m\u001b[0m\u001b[0m\n\u001b[1;32m----> 8\u001b[1;33m         \u001b[0manag\u001b[0m\u001b[1;33m[\u001b[0m\u001b[0melement\u001b[0m\u001b[1;33m]\u001b[0m \u001b[1;33m=\u001b[0m \u001b[1;33m[\u001b[0m\u001b[0mi\u001b[0m\u001b[1;33m]\u001b[0m\u001b[1;33m\u001b[0m\u001b[1;33m\u001b[0m\u001b[0m\n\u001b[0m",
      "\u001b[1;31mTypeError\u001b[0m: list indices must be integers or slices, not str"
     ]
    }
   ],
   "source": [
    "strs = [\"eat\", \"tea\", \"tan\", \"ate\", \"nat\", \"bat\", \"cat\", \"tac\"]\n",
    "anag = []\n",
    "for i in strs:\n",
    "    element = \"\".join(sorted(i))\n",
    "    if element in anag:\n",
    "        anag[element].append(i)\n",
    "    else:\n",
    "        anag[element] = [i]"
   ]
  },
  {
   "cell_type": "code",
   "execution_count": null,
   "metadata": {},
   "outputs": [],
   "source": []
  },
  {
   "cell_type": "code",
   "execution_count": null,
   "metadata": {},
   "outputs": [],
   "source": []
  },
  {
   "cell_type": "markdown",
   "metadata": {},
   "source": [
    "## Coding Challenge - 3: Calculating the Amount of Water to be Trapped on Terrain\n",
    "\n",
    "The purpose of this coding challenge is to write a program that calculates the amount of water that can be contained within the generated holes.\n",
    "\n",
    "### Learning Outcomes\n",
    "\n",
    "At the end of this coding challenge, students will be able to;\n",
    "\n",
    "- analyze a problem, identify, and apply programming knowledge for appropriate solution.\n",
    "\n",
    "- design, implement `while` loops effectively in Python to solve the given problem.\n",
    "\n",
    "- control loops effectively by using `if` and `control` statements.\n",
    "\n",
    "- demonstrate their knowledge of algorithmic design principles by using solving the problem effectively.\n",
    "\n",
    "### Problem Statement\n",
    "\n",
    "- Given an array of non-negative integers representing an elevation map as shown below where the width of each bar is 1, compute how much water will be trapped on terrain after raining. To clarify further, the black boxes represents terrain and its height, and the blue boxes represents the water that could be trapped on the terrain.\n",
    "\n",
    "![image](./image.png)\n",
    "\n",
    "- User can enter as many numbers as they want to represent elevation of the terrain.\n",
    "\n",
    "- You can assume all the inputs are valid, thus you don't have to do an input check.\n",
    "\n",
    "- At the end of the program write a comment that indicates which computational thinking heuristics you have used and how you used them.\n",
    "\n",
    "- Example of user inputs and respective outputs.\n",
    "\n",
    "```text\n",
    "Inputs\n",
    "------------------------------\n",
    "Type 'ok' when you are done: 5\n",
    "Type 'ok' when you are done: 4\n",
    "Type 'ok' when you are done: 5\n",
    "Type 'ok' when you are done: ok\n",
    "\n",
    "Output\n",
    "------\n",
    "1\n",
    "\n",
    "Inputs\n",
    "------------------------------\n",
    "Type 'ok' when you are done: 2\n",
    "Type 'ok' when you are done: 1\n",
    "Type 'ok' when you are done: 2\n",
    "Type 'ok' when you are done: 3\n",
    "Type 'ok' when you are done: 2\n",
    "Type 'ok' when you are done: 3\n",
    "Type 'ok' when you are done: ok\n",
    "\n",
    "Output\n",
    "------\n",
    "2\n",
    "\n",
    "Inputs\n",
    "------------------------------\n",
    "Type 'ok' when you are done: 6\n",
    "Type 'ok' when you are done: 5\n",
    "Type 'ok' when you are done: 8\n",
    "Type 'ok' when you are done: 9\n",
    "Type 'ok' when you are done: 2\n",
    "Type 'ok' when you are done: 4\n",
    "Type 'ok' when you are done: 3\n",
    "Type 'ok' when you are done: 6\n",
    "Type 'ok' when you are done: ok\n",
    "\n",
    "Output\n",
    "------\n",
    "10\n",
    "```"
   ]
  },
  {
   "cell_type": "markdown",
   "metadata": {},
   "source": [
    "### Solution :"
   ]
  },
  {
   "cell_type": "code",
   "execution_count": 7,
   "metadata": {},
   "outputs": [
    {
     "name": "stdout",
     "output_type": "stream",
     "text": [
      "Type 'ok' when you are done: 4\n",
      "Type 'ok' when you are done: 3\n",
      "Type 'ok' when you are done: 6\n",
      "Type 'ok' when you are done: 0\n",
      "Type 'ok' when you are done: 1\n",
      "Type 'ok' when you are done: 0\n",
      "Type 'ok' when you are done: 2\n",
      "Type 'ok' when you are done: ok\n",
      "\n",
      "Rain-trapped area :  6\n"
     ]
    }
   ],
   "source": []
  },
  {
   "cell_type": "code",
   "execution_count": null,
   "metadata": {},
   "outputs": [],
   "source": [
    "\n",
    "# initialize the list of an integer array representing the elevation, and set it to empty\n",
    "height = []\n",
    "# Unless user types `ok`, get input of numbers from the user\n",
    "while True:\n",
    "    num = input(\"Type 'ok' when you are done: \")\n",
    "    # if the input is not equal to `ok`, add the input number to the height array\n",
    "    if num != \"ok\":\n",
    "        height.append(int(num))\n",
    "    # if the input equals to `ok`, get out of the while loop\n",
    "    else:\n",
    "        break\n",
    "# initialize areas which holds total amount of water to be trapped, and set to 0\n",
    "areas = 0\n",
    "# initialize maximum left and right, and set to 0\n",
    "max_l = max_r = 0\n",
    "# initialize left, and set to 0\n",
    "l = 0\n",
    "# initialize right and set to the last index of the input array\n",
    "r = len(height)-1\n",
    "# unless the current position of the height on left\n",
    "# is not greater than the one on right, run the loop\n",
    "while l < r:\n",
    "    # if the current position on left is lower than the right,\n",
    "    # max level on left determines the amount of water to be trapped.\n",
    "    if height[l] < height[r]:\n",
    "        # if the current height on left is greater than max height on left\n",
    "        # then the water not to be trapped, and set the max height to the new max\n",
    "        if height[l] > max_l:\n",
    "            max_l = height[l]\n",
    "        # otherwise, add the amount of water to be trapped.\n",
    "        else:\n",
    "            areas += max_l - height[l]\n",
    "        # increase current position on left by one\n",
    "        l += 1\n",
    "    # if the current position on left is higher than the right,\n",
    "    # max level on right determines the amount of water to be trapped.\n",
    "    else:\n",
    "        # if the current height on right is greater than max height on height\n",
    "        # then the water not to be trapped, and set the max height to the new max\n",
    "        if height[r] > max_r:\n",
    "            max_r = height[r]\n",
    "        # otherwise, add the amount of water to be trapped.\n",
    "        else:\n",
    "            areas += max_r - height[r]\n",
    "        # decrease current position on right by one\n",
    "        r -= 1\n",
    "# print the amount of water to be trapped\n",
    "print(\"\\nRain-trapped area : \", areas)"
   ]
  },
  {
   "cell_type": "code",
   "execution_count": null,
   "metadata": {},
   "outputs": [],
   "source": []
  },
  {
   "cell_type": "code",
   "execution_count": null,
   "metadata": {},
   "outputs": [],
   "source": []
  },
  {
   "cell_type": "code",
   "execution_count": null,
   "metadata": {},
   "outputs": [],
   "source": []
  },
  {
   "cell_type": "code",
   "execution_count": null,
   "metadata": {},
   "outputs": [],
   "source": []
  }
 ],
 "metadata": {
  "kernelspec": {
   "display_name": "Python 3",
   "language": "python",
   "name": "python3"
  },
  "language_info": {
   "codemirror_mode": {
    "name": "ipython",
    "version": 3
   },
   "file_extension": ".py",
   "mimetype": "text/x-python",
   "name": "python",
   "nbconvert_exporter": "python",
   "pygments_lexer": "ipython3",
   "version": "3.8.5"
  }
 },
 "nbformat": 4,
 "nbformat_minor": 2
}
