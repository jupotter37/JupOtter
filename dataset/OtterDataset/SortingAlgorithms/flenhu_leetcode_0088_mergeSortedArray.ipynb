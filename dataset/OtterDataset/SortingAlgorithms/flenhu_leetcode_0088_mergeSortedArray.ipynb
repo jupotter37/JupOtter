{
 "cells": [
  {
   "cell_type": "markdown",
   "id": "835c632c",
   "metadata": {},
   "source": [
    "#### [Python <img src=\"../../assets/pythonLogo.png\" alt=\"py logo\" style=\"height: 1em; vertical-align: sub;\">](../README.md) | Easy 🟢 | [Two Pointers](README.md)\n",
    "# [88. Merge Sorted Array](https://leetcode.com/problems/merge-sorted-array/description/)"
   ]
  },
  {
   "cell_type": "markdown",
   "id": "b9441082",
   "metadata": {},
   "source": [
    "You are given two integer arrays `nums1` and `nums2`, sorted in **non-decreasing order**, and two integers `m` and `n`, representing the number of elements in `nums1` and `nums2` respectively.\n",
    "\n",
    "**Merge** `nums1` and `nums2` into a single array sorted in **non-decreasing order**.\n",
    "\n",
    "The final sorted array should not be returned by the function, but instead be stored inside the array `nums1`. To accommodate this, `nums1` has a length of `m` + `n`, where the first `m` elements denote the elements that should be merged, and the last `n` elements are set to 0 and should be ignored. `nums2` has a length of `n`.\n",
    "\n",
    "#### Example 1:\n",
    "> **Input:** `nums1 = [1,2,3,0,0,0], m = 3, nums2 = [2,5,6], n = 3`  \n",
    "> **Output:** `[1,2,2,3,5,6]`  \n",
    "> **Explanation:** The arrays we are merging are `[1,2,3]` and `[2,5,6]`.  \n",
    "> The result of the merge is `[1,2,2,3,5,6]` with the underlined elements coming from `nums1`.\n",
    "\n",
    "#### Example 2:\n",
    "> **Input:** `nums1 = [1], m = 1, nums2 = [], n = 0`  \n",
    "> **Output:** `[1]`  \n",
    "> **Explanation:** The arrays we are merging are `[1]` and `[]`.  \n",
    "> The result of the merge is `[1]`.\n",
    "\n",
    "#### Example 3:\n",
    "> **Input:** `nums1 = [0], m = 0, nums2 = [1], n = 1`  \n",
    "> **Output:** `[1]`  \n",
    "> **Explanation:** The arrays we are merging are `[]` and `[1]`.   \n",
    "> The result of the merge is `[1]`.  \n",
    "> Note that because `m = 0`, there are no elements in `nums1`. \n",
    "> The 0 is only there to ensure the merge result can fit in `nums1`.\n",
    "\n",
    "#### Constraints:\n",
    "- `nums1.length == m + n`\n",
    "- `nums2.length == n`\n",
    "- `0 <= m, n <= 200`\n",
    "- `1 <= m + n <= 200`\n",
    "- $-10^9 \\leq$ `nums1[i], nums2[j]`$\\leq 10^9$\n"
   ]
  },
  {
   "cell_type": "markdown",
   "id": "5a871415",
   "metadata": {},
   "source": [
    "## Problem Explanation\n",
    "- This problem involves merging two sorted integer arrays (`nums1` and `nums2`) into one sorted array in non-decreasing order.\n",
    "- The challenge is to perform the merge in-place within `nums1`, which has a size large enough to hold the combined elements of `nums1` and `nums2`, with the last `n` elements of `nums1` initially set to $0$ to accomodate the elements of `nums2`\n",
    "\n",
    "***"
   ]
  },
  {
   "cell_type": "markdown",
   "id": "66c83cb9",
   "metadata": {},
   "source": [
    "# Approach 1: Three Pointers (Start from the End) \n",
    "## Intuition\n",
    "- The key idea is to fill `nums1` from the end, utilizing the unused space to accomodate the merge.\n",
    "- This approach avoids overwriting elements in `nums1` that have not yet been merged.\n",
    "- By starting from th end, we ensure that the merging process does not interfere with the elements that are yet to be considered.\n",
    "\n",
    "## Algorithm\n",
    "1. **Initialize three pointers:**\n",
    "    - Let `i` be the last element of the merge area in `nums1` (`m-1`).\n",
    "    - Let `j` be the last element of `nums2` (`n-1`).\n",
    "    - Let `k` be the end of `nums1` (`m+n-1`).\n",
    "2. While both `i` (for `nums1`) and `j` (for `nums2`) are within their array bounds:\n",
    "    - Compare the elements pointed by `i` and `j`.\n",
    "    - Place the large element in the position pointed by `k` and decrement the respective pointer (`i` or `j`) along with `k`.\n",
    "3. If `j` is still within bounds (indicating remaining elements in `nums2`), copy these elements to the beginning of `nums1`."
   ]
  },
  {
   "cell_type": "markdown",
   "id": "7888762a",
   "metadata": {},
   "source": [
    "## Code Implementation"
   ]
  },
  {
   "cell_type": "code",
   "execution_count": 1,
   "id": "e1d254e7",
   "metadata": {},
   "outputs": [],
   "source": [
    "from typing import List\n",
    "\n",
    "class Solution:\n",
    "    def merge(self, nums1: List[int], m: int, nums2: List[int], n: int) -> None:\n",
    "        # Pointers for nums1, nums2, and the end of the merged array\n",
    "        i, j, k = m - 1, n - 1, m + n - 1\n",
    "        \n",
    "        # Merge in reverse order\n",
    "        while i >= 0 and j >= 0:\n",
    "            if nums1[i] > nums2[j]:\n",
    "                nums1[k] = nums1[i]\n",
    "                i -= 1\n",
    "            else:\n",
    "                nums1[k] = nums2[j]\n",
    "                j -= 1\n",
    "            k -= 1\n",
    "        \n",
    "        # If any elements are left in nums2, copy them\n",
    "        nums1[:j + 1] = nums2[:j + 1]"
   ]
  },
  {
   "cell_type": "markdown",
   "id": "ce05a3cf",
   "metadata": {},
   "source": [
    "### Testing"
   ]
  },
  {
   "cell_type": "code",
   "execution_count": 2,
   "id": "4c5194cc",
   "metadata": {},
   "outputs": [
    {
     "name": "stdout",
     "output_type": "stream",
     "text": [
      "Initial nums1: [1, 2, 3], nums2: [2, 5, 6]\n",
      "nums1 after merge: [1, 2, 2, 3, 5, 6]\n",
      "Expected: [1, 2, 2, 3, 5, 6], Got: [1, 2, 2, 3, 5, 6]\n",
      "✅ Test case passed!\n",
      "\n",
      "Initial nums1: [1], nums2: []\n",
      "nums1 after merge: [1]\n",
      "Expected: [1], Got: [1]\n",
      "✅ Test case passed!\n",
      "\n",
      "Initial nums1: [1, 3, 5], nums2: [2, 4, 6]\n",
      "nums1 after merge: [1, 2, 3, 4, 5, 6]\n",
      "Expected: [1, 2, 3, 4, 5, 6], Got: [1, 2, 3, 4, 5, 6]\n",
      "✅ Test case passed!\n",
      "\n"
     ]
    }
   ],
   "source": [
    "def test_merge(solution, nums1, m, nums2, n, expected):\n",
    "    # Capture the initial state before the merge\n",
    "    initial_nums1 = nums1[:m]  # This will only consider the relevant part of nums1 based on m\n",
    "    print(f\"Initial nums1: {initial_nums1}, nums2: {nums2}\")\n",
    "    solution.merge(nums1, m, nums2, n)\n",
    "    result = nums1\n",
    "    print(f\"nums1 after merge: {result}\")\n",
    "    print(f\"Expected: {expected}, Got: {result}\")\n",
    "    assert result == expected, \"Failed the test case.\"\n",
    "    print(\"✅ Test case passed!\\n\")\n",
    "\n",
    "# Instance of the solution\n",
    "sol = Solution()\n",
    "\n",
    "# Test cases\n",
    "test_merge(sol, [1,2,3,0,0,0], 3, [2,5,6], 3, [1,2,2,3,5,6])\n",
    "test_merge(sol, [1], 1, [], 0, [1])\n",
    "# Test case that will work correctly with both solutions\n",
    "test_merge(sol, [1,3,5,0,0,0], 3, [2,4,6], 3, [1,2,3,4,5,6])\n"
   ]
  },
  {
   "cell_type": "markdown",
   "id": "8a5df28b",
   "metadata": {},
   "source": [
    "## Complexity Analysis\n",
    "- ### Time Complexity: $O(m + n)$\n",
    "    - Each element in both `nums1` and `nums2` is looked at exactly once (in the worst case), which makes the time complexity linear in the size of the input arrays.\n",
    "\n",
    "- ### Space Complexity: $O(1)$\n",
    "    - Since the merge is performed in-place in `nums1`, which uses no additional space beyond the input arrays, the space complexity is constant.\n",
    "***"
   ]
  },
  {
   "cell_type": "markdown",
   "id": "32c95f2b",
   "metadata": {},
   "source": [
    "# Approach 2: Merge & sort\n",
    "## Intuition\n",
    "- The merge and sort approach is another straightforward method that directly follows the problem's requirements. \n",
    "- Instead of meticulously placing elements from `nums2` into `nums1` in their correct positions, this approach first combines both arrays and then sorts the entire `nums1` array.\n",
    "- While it might not be the most efficient in terms of sorting algorithms, it uses the built-in sort functionality to simplify the implementation.\n",
    "\n",
    "\n",
    "## Algorithm\n",
    "1. Copy all elements from `nums2` into the end of `nums1`, which initially contains placeholder values (zeros) for those elements.\n",
    "2. Using a sorting algorithm to sort `nums1` in non-decreasing order."
   ]
  },
  {
   "cell_type": "markdown",
   "id": "b72bd6fa",
   "metadata": {},
   "source": [
    "## Code Implementation"
   ]
  },
  {
   "cell_type": "code",
   "execution_count": 3,
   "id": "3fe51c83",
   "metadata": {},
   "outputs": [],
   "source": [
    "class Solution2:\n",
    "    def merge(self, nums1: List[int], m: int, nums2: List[int], n: int) -> None:\n",
    "        \"\"\"\n",
    "        Merges nums2 into nums1 and sorts the resulting array in-place.\n",
    "        \"\"\"\n",
    "        # Step 1: Merge nums2 into the correct position in nums1\n",
    "        for i in range(n):\n",
    "            nums1[m + i] = nums2[i]\n",
    "        \n",
    "        # Step 2: Sort the combined array in-place\n",
    "        nums1.sort()"
   ]
  },
  {
   "cell_type": "code",
   "execution_count": 4,
   "id": "8196bc7a",
   "metadata": {},
   "outputs": [],
   "source": [
    "class Solution2:\n",
    "    def merge(self, nums1: List[int], m: int, nums2: List[int], n: int) -> None:\n",
    "        \"\"\"\n",
    "        Do not return anything, modify nums1 in-place instead.\n",
    "        \"\"\"\n",
    "        # Write the elements of num2 into the end of nums1.\n",
    "        for i in range(n):\n",
    "            nums1[i + m] = nums2[i]\n",
    "        \n",
    "        # Sort nums1 list in-place.\n",
    "        nums1.sort()"
   ]
  },
  {
   "cell_type": "markdown",
   "id": "71e77680",
   "metadata": {},
   "source": [
    "- This implementation is concise and takes advantage of Python's efficient built-in sorting method. \n",
    "- However, it doesn't fully exploit the fact that nums1 and nums2 are already sorted, which could lead to more optimized solutions."
   ]
  },
  {
   "cell_type": "markdown",
   "id": "7512d81c",
   "metadata": {},
   "source": [
    "### Testing"
   ]
  },
  {
   "cell_type": "code",
   "execution_count": 5,
   "id": "0875c53f",
   "metadata": {},
   "outputs": [
    {
     "name": "stdout",
     "output_type": "stream",
     "text": [
      "Initial nums1: [1, 2, 3], nums2: [2, 5, 6]\n",
      "nums1 after merge: [1, 2, 2, 3, 5, 6]\n",
      "Expected: [1, 2, 2, 3, 5, 6], Got: [1, 2, 2, 3, 5, 6]\n",
      "✅ Test case passed!\n",
      "\n",
      "Initial nums1: [1], nums2: []\n",
      "nums1 after merge: [1]\n",
      "Expected: [1], Got: [1]\n",
      "✅ Test case passed!\n",
      "\n",
      "Initial nums1: [1, 3, 5], nums2: [2, 4, 6]\n",
      "nums1 after merge: [1, 2, 3, 4, 5, 6]\n",
      "Expected: [1, 2, 3, 4, 5, 6], Got: [1, 2, 3, 4, 5, 6]\n",
      "✅ Test case passed!\n",
      "\n"
     ]
    }
   ],
   "source": [
    "# Instance of the solution 2\n",
    "sol2 = Solution2()\n",
    "\n",
    "# Test cases\n",
    "test_merge(sol2, [1,2,3,0,0,0], 3, [2,5,6], 3, [1,2,2,3,5,6])\n",
    "test_merge(sol2, [1], 1, [], 0, [1])  \n",
    "test_merge(sol2, [1,3,5,0,0,0], 3, [2,4,6], 3, [1,2,3,4,5,6])\n"
   ]
  },
  {
   "cell_type": "markdown",
   "id": "f7f36336",
   "metadata": {},
   "source": [
    "## Complexity Analysis\n",
    "- ### Time Complexity: $O((n+m)log(n+m))$\n",
    "    - The time complexity is dominated by the sorting step.\n",
    "    - Since the merge step is $O(n)$, and the sort step is $O((n+m)log(n+m))$, the overall time complexity becomes $O((n+m)log(n+m))$.\n",
    "\n",
    "- ### Space Complexity: $O(1)$\n",
    "    - This approach modifies `nums1` in-place. The space used by the sorting algorithm isn't considered a part of the space complexity.\n",
    "***"
   ]
  },
  {
   "cell_type": "markdown",
   "id": "7a0b9cba",
   "metadata": {},
   "source": [
    "# Approach 3: Three Pointers (Start from the Beginning)\n",
    "## Intuition\n",
    "- This method involves using two pointers to track the current elements of `nums1` and `nums2` being considered for merging and a third pointer to track the position in `nums1` where the next element should be placed.\n",
    "- The key idea is to iterate through both arrays from the beginning, comparing their elements and placing the smaller one into the correct position within `nums1`.\n",
    "\n",
    "## Algorithm\n",
    "1. Copy the first `m` elements of `nums1` into a temporary array. This is so that we can avoid the overwriting of elements in `nums1` that have not yet been compared.\n",
    "2. Initialize two pointers, `p1` and `p2`, at the start of the temporary array `nums1_copy` and `nums2`, to track the current elements being compared.\n",
    "3. Iterate over `nums1`, using a pointer `p` that runs from `0` to `m+n-1`:\n",
    "    - If `p2` has reached the end of `nums2` or if the current element in `nums1_copy` is less than or equal to the current element in `nums2` (and also if `p1` has not reached the end of its array), place the `nums1_copy[p1]` element in `nums1[p]` and increment `p1`.\n",
    "    - Otherwise, place the `nums2[p2]` element in `nums1[p]` and increment `p2`."
   ]
  },
  {
   "cell_type": "markdown",
   "id": "05501dab",
   "metadata": {},
   "source": [
    "## Code Implementation"
   ]
  },
  {
   "cell_type": "code",
   "execution_count": 6,
   "id": "bd0da828",
   "metadata": {},
   "outputs": [],
   "source": [
    "class Solution3:\n",
    "    def merge(self, nums1: List[int], m: int, nums2: List[int], n: int) -> None:\n",
    "        # Step 1: Make a copy of the first m elements of nums1\n",
    "        nums1_copy = nums1[:m]\n",
    "\n",
    "        # Step 2: Initialize the pointers for nums1_copy and nums2\n",
    "        p1 = 0\n",
    "        p2 = 0\n",
    "\n",
    "        # Step 3: Merge the elements of nums1_copy and nums2 into nums1\n",
    "        for p in range(n + m):\n",
    "            # Check if there are still elements to compare in nums1_copy and nums2\n",
    "            if p2 >= n or (p1 < m and nums1_copy[p1] <= nums2[p2]): \n",
    "                # If there are no more elements in nums2 or the current element in nums1_copy is smaller\n",
    "                nums1[p] = nums1_copy[p1]\n",
    "                p1 += 1\n",
    "            else:\n",
    "                # Else, the current element in nums2 is smaller\n",
    "                nums1[p] = nums2[p2]\n",
    "                p2 += 1"
   ]
  },
  {
   "cell_type": "markdown",
   "id": "59a5875c",
   "metadata": {},
   "source": [
    "### Testing"
   ]
  },
  {
   "cell_type": "code",
   "execution_count": 7,
   "id": "faf6b2c5",
   "metadata": {},
   "outputs": [
    {
     "name": "stdout",
     "output_type": "stream",
     "text": [
      "Initial nums1: [1, 2, 3], nums2: [2, 5, 6]\n",
      "nums1 after merge: [1, 2, 2, 3, 5, 6]\n",
      "Expected: [1, 2, 2, 3, 5, 6], Got: [1, 2, 2, 3, 5, 6]\n",
      "✅ Test case passed!\n",
      "\n",
      "Initial nums1: [1], nums2: []\n",
      "nums1 after merge: [1]\n",
      "Expected: [1], Got: [1]\n",
      "✅ Test case passed!\n",
      "\n",
      "Initial nums1: [1, 3, 5], nums2: [2, 4, 6]\n",
      "nums1 after merge: [1, 2, 3, 4, 5, 6]\n",
      "Expected: [1, 2, 3, 4, 5, 6], Got: [1, 2, 3, 4, 5, 6]\n",
      "✅ Test case passed!\n",
      "\n"
     ]
    }
   ],
   "source": [
    "# Instance of the solution 3\n",
    "sol3 = Solution3()\n",
    "\n",
    "# Test cases\n",
    "test_merge(sol3, [1,2,3,0,0,0], 3, [2,5,6], 3, [1,2,2,3,5,6])\n",
    "test_merge(sol3, [1], 1, [], 0, [1])  \n",
    "test_merge(sol3, [1,3,5,0,0,0], 3, [2,4,6], 3, [1,2,3,4,5,6])\n"
   ]
  },
  {
   "cell_type": "markdown",
   "id": "5bb3712e",
   "metadata": {},
   "source": [
    "## Complexity Analysis\n",
    "- ### Time Complexity: $O(n+m)$\n",
    "    - The algorithm iterates through the length of `nums1` and `num2`, comparing and merging elements in a single pass, which leads to a linear time complexity relative to the size of the inputs.\n",
    "\n",
    "- ### Space Complexity: $O(m)$\n",
    "    - Additional space is used to store a copy of the initial segment of `nums1` that participates in the merge. This space is proportional to the number of elements `m` being merged from `nums1`.\n",
    "***"
   ]
  },
  {
   "cell_type": "markdown",
   "id": "c2fc0044",
   "metadata": {},
   "source": [
    "# Conclusion\n",
    "\n",
    "### Approach 1: Three Pointers (Start from the End)\n",
    "- **Concept:** This approach utilizes two pointers to traverse `nums1` and `num2` from the end, plus a third pointer for the current position in the merged array, also from the end. This method uses the provided space within `nums1` to directly merge the arrays without additional space.\n",
    "- **Efficiency:** This approach is highly efficient in both time and space, since it doesn't require additional storage and also takes advantage of the sorted order of both arrays to minimize the amount of operations.\n",
    "\n",
    "### Approach 2: Merge and sort\n",
    "- **Concept:** This approach merges `nums2` into `nums1` at the positions of the zeros in `nums1` and then sorts the entire `nums1` array. This approach is pretty straight-forward and leverages built-in sorting functions.\n",
    "- **Efficiency:** While this approach is simpler to implement, its efficiency is lower due to the sorting step, making it $O((n+m)log(n+m))$ in time complexity, which isn't optimal compared to directly merging sorted arrays.\n",
    "\n",
    "### Approach 3: Three Pointers (Start from the Beginning)\n",
    "- **Concept:** Similar to the first approach but starts merging from the beginning of the arrays. It involves copying the initial segment of `nums1` to avoid overwriting and uses two pointers to track the current elements being compared in `nums1` and `nums2`.\n",
    "- **Efficiency:** Offers a linear time complexity of $O(n+m)$, but requires $O(m)$ extra space for the copy of the initial segment of `nums1`, which makes it slightly less space-efficient than the approach that starts from the end.\n",
    "\n",
    "### Last word\n",
    "- Considering both time and space efficiency, the **Three Pointers (Start from the End)** approach emerges as the most efficient solution for this problem. \n",
    "- It directly addresses the challenge of merging two sorted arrays in-place, without requiring additional space beyond the input arrays themselves. \n",
    "- This method cleverly utilizes the fact that nums1 has sufficient space to accommodate nums2 and performs the merge operation in reverse order, eliminating the need for extra storage or a subsequent sorting step."
   ]
  }
 ],
 "metadata": {
  "kernelspec": {
   "display_name": "Python 3 (ipykernel)",
   "language": "python",
   "name": "python3"
  },
  "language_info": {
   "codemirror_mode": {
    "name": "ipython",
    "version": 3
   },
   "file_extension": ".py",
   "mimetype": "text/x-python",
   "name": "python",
   "nbconvert_exporter": "python",
   "pygments_lexer": "ipython3",
   "version": "3.10.4"
  }
 },
 "nbformat": 4,
 "nbformat_minor": 5
}
