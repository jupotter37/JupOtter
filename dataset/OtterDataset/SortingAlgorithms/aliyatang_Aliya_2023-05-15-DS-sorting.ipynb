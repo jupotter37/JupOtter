{
 "cells": [
  {
   "attachments": {},
   "cell_type": "markdown",
   "metadata": {},
   "source": [
    "# Sorting Algorithms\n",
    "> Working with Data Structures and manipulating data.\n",
    "\n",
    "- toc: true\n",
    "- categories: []\n",
    "- type: pbl\n",
    "- week: 34"
   ]
  },
  {
   "attachments": {},
   "cell_type": "markdown",
   "metadata": {},
   "source": [
    "[wget link](https://raw.githubusercontent.com/nighthawkcoders/APCSP/master/_notebooks/2023-05-15-DS-sorting.ipynb)"
   ]
  },
  {
   "cell_type": "code",
   "execution_count": 2,
   "metadata": {},
   "outputs": [
    {
     "name": "stdout",
     "output_type": "stream",
     "text": [
      "Random List\n",
      "[7, 52, 49, 3, 10, 41, 97, 99, 54, 7]\n"
     ]
    }
   ],
   "source": [
    "import random\n",
    "\n",
    "numbers = []\n",
    "for i in range(10):\n",
    "    numbers.append(random.randint(0,100))\n",
    "print(\"Random List\")\n",
    "print(numbers)"
   ]
  },
  {
   "attachments": {},
   "cell_type": "markdown",
   "metadata": {},
   "source": [
    "# Warm Up\n",
    "\n",
    "> Discuss with a partner... \n",
    "What are some strategies you would use to sort this list? (Don't worry about writing code for now)\n",
    "- panda commands like ascend and descend\n",
    "- could do long way by comparing each values in the list, move around lower/higher value"
   ]
  },
  {
   "attachments": {},
   "cell_type": "markdown",
   "metadata": {},
   "source": [
    "# Explore\n",
    "\n",
    "Get into groups of 3\n",
    "\n",
    "We will be focusing on 4 algorithms today.\n",
    "\n",
    "We will look at the first one together, Bubble Sort\n",
    "\n",
    "Bubble Sort: Compares the numbers and the list and switches them around based on if they are higher or lower. It may have to go through the list multiple times to completely sort. For example, it first compares 75 and 17, and since 75 is greater than 17 they are swapped. \n",
    "\n",
    "![](images/bubble-sort.png)\n",
    "\n",
    "What is happening with this sort?\n",
    "\n",
    "In your groups you will each choose to be an expert on a sorting algorithm. Merge, Selection, and Insertion.\n",
    "Take about 5 minutes to read about your algorsithm (Geek for Geeks linked below) and be ready to explain it to your other group members. \n",
    "\n",
    "[Merge](https://www.geeksforgeeks.org/merge-sort/#)\n",
    "Keep on halving the data until its individual numbers. Then sort the numbers individually, then put everything back together. \n",
    "\n",
    "[Selection](https://www.geeksforgeeks.org/selection-sort/)\n",
    "Keep on finding minimums OR maximums and swapping them to the front OR back, repspectively, until it is all sorted. It finds a minimum value by comparing the first index and another value. If the other value is smaller than the first index, swap. \n",
    "\n",
    "[Insertion](https://www.geeksforgeeks.org/insertion-sort/)\n",
    "builds final sorted list/array one item at a time from taking and comparing numbers from the unsorted part, similar to bubble but keeps track of unsorted and sorted parts. "
   ]
  },
  {
   "attachments": {},
   "cell_type": "markdown",
   "metadata": {},
   "source": [
    "## Practice\n",
    "\n",
    "[75, 17, 46, 80, 67, 45, 69, 79, 40, 0]\n",
    "\n",
    "How would you sort this list with... \n",
    "- Bubble Sort: Compare the values that are next to each other. First, 75 and 17, since 75 is greater than 17 swap them. Now, 75 and 46, 75 is greater than 46 so swap. Now 75 and 80, and since its not it stays. Now 80 and 67, and since 80 is greater than 67 it swaps. It continues this and cycles through the data multiple times until everything is sorted. \n",
    "- Selection Sort: First, compare 75 and 17, since 17 is smaller, swap their index. Now 46, 80, 67... all the way to 0. And since 0 is smaller than 17, swap. Continue this until alll the minimums are in order. \n",
    "\n",
    "[88, 39, 53, 39, 58, 43, 74, 81, 71, 51]\n",
    "\n",
    "How would you sort this list with... \n",
    "- Merge Sort: First, split the data so all the numbers are in indivudal lists. Then compare the values of all the lists and sort them individually. Then concatenate all of the lists in order back together. \n",
    "- Insertion Sort: First compares 88 and 39, and since 88 is greater than 39 they are swapped. Now 39 is in the sorted part. Compare 88 and the next value. 88 is greater than 53, so swap, and 53 is greater than 39 in the sorted part so it goes after 39 and before 88. Now compare 88 and 58, 88 is greater than 58, so swap it, then move 58 to the sorted section and compare it to the values there. \n"
   ]
  },
  {
   "attachments": {},
   "cell_type": "markdown",
   "metadata": {},
   "source": [
    "# Sorting Words\n",
    "> Sorting strings works in the same way as integers. Using your expertise algorithm, sort the following list of random words."
   ]
  },
  {
   "cell_type": "code",
   "execution_count": 3,
   "metadata": {},
   "outputs": [
    {
     "name": "stdout",
     "output_type": "stream",
     "text": [
      "Random List\n",
      "['unsealed', 'farrago', 'uncontradictedly', 'tetrahydric', 'shuttance', 'unordinate', 'scyphostoma', 'kibei', 'guideress', 'megascopic']\n"
     ]
    },
    {
     "name": "stderr",
     "output_type": "stream",
     "text": [
      "[nltk_data] Downloading package words to /Users/aliyatang/nltk_data...\n",
      "[nltk_data]   Package words is already up-to-date!\n"
     ]
    }
   ],
   "source": [
    "import nltk\n",
    "import random\n",
    "\n",
    "nltk.download('words')  # Download the word list (only required once)\n",
    "\n",
    "from nltk.corpus import words\n",
    "\n",
    "english_words = words.words()\n",
    "#print(len(english_words))  # Prints the number of words in the list\n",
    "\n",
    "# You can now use the 'english_words' list in your code\n",
    "\n",
    "words = []\n",
    "for i in range(10):\n",
    "    words.append(english_words[random.randint(0,len(english_words))])\n",
    "print(\"Random List\")\n",
    "print(words)"
   ]
  },
  {
   "attachments": {},
   "cell_type": "markdown",
   "metadata": {},
   "source": [
    "## Discuss \n",
    "Answer the following with your group.\n",
    "\n",
    "- When should you use each algorithm? What makes an algorithm the right choice?\n",
    "- Given the following lists...\n",
    "    - [0, 2, 6, 4, 8, 10] INSERTION SORT, very short list, and only need to swap the 6 and 4. OR BUBBLE SORT, but it would have to cylce around one more time\n",
    "    - [Elephant, Banana, Cat, Dog, Apple] SELECTION SORT, only have one motion because Apple and Elephant are the only ones need to be swapped. Since they are in the front and the back, just swap and done. \n",
    "    - [29, 13, 83, 47, 32, 78, 100, 60, 65, 15, 24, 9, 40, 68, 53, 8, 90, 58, 39, 32, 34, 91, 74, 94, 49, 87, 34, 87, 23, 17, 27, 2, 38, 58, 84, 15, 9, 46, 74, 40, 44, 8, 55, 28, 81, 92, 81, 88, 53, 38, 19, 21, 9, 54, 21, 67, 3, 41, 3, 74, 13, 71, 70, 45, 5, 36, 80, 64, 97, 86, 73, 74, 94, 79, 49, 32, 20, 68, 64, 69, 1, 77, 31, 56, 100, 80, 48, 75, 85, 93, 67, 57, 26, 56, 43, 53, 59, 28, 67, 50] MERGE SORT, relatively long list, it has good time complexity and is fast at sorting large lists\n",
    "    \n",
    "Select the algorithm you believe is best for each, explain. See above"
   ]
  },
  {
   "attachments": {},
   "cell_type": "markdown",
   "metadata": {},
   "source": [
    "## HACKS\n",
    "> Provided below is a Bubble Sort Algorithm sorting a list of dictionaries based off of selected key.\n",
    "\n",
    "- Now it's time to do some coding...\n",
    "\n",
    "- Run code and then research and answer these questions...\n",
    "Is a list and/or dictionary in python considered a primitive or collection type?  Why?\n",
    "\n",
    "- collection type because it can hold multiple values and is more complex than a primitive type like an integer or a string\n",
    "\n",
    "Is the list passed into bubble sort \"pass-by-value\" or \"pass-by-reference? Describe why in relation to output.\n",
    "- \"pass-by-reference\" because changes made to the list within the function affect the original list, leading to a modified output\n",
    "\n",
    "- Implement new cell(s) and/or organize cells to do the following.\n",
    "    - Create your own list\n",
    "    - Use your expertise sorting algorithm (selection, insertion, merge). Note, I got my bubble sort from Geek for Geeks and made modifications. Each student in a group should have a unique algorithm.\n",
    "    - Test your list with my bubble sort\n",
    "    - Test my list with your new sort\n",
    "    - Research analysis on sorting: comparisons, swaps, time.  Build this into your hacks.\n",
    "    - Find a better way to print the data, key first, then other elements in viewable form.\n",
    "\n",
    "Use the code below to help guide your adventure"
   ]
  },
  {
   "cell_type": "code",
   "execution_count": 35,
   "metadata": {},
   "outputs": [
    {
     "name": "stdout",
     "output_type": "stream",
     "text": [
      "Original\n",
      "[{'name': 'Max', 'age': 6, 'species': 'dog'}, {'name': 'Luca', 'age': 2, 'species': 'cat'}, {'name': 'Blue', 'age': 3, 'species': 'bird'}, {'name': 'Maisy', 'age': 13, 'species': 'dog'}]\n",
      "name\n",
      "[{'name': 'Blue', 'age': 3, 'species': 'bird'}, {'name': 'Luca', 'age': 2, 'species': 'cat'}, {'name': 'Maisy', 'age': 13, 'species': 'dog'}, {'name': 'Max', 'age': 6, 'species': 'dog'}]\n",
      "age\n",
      "[{'name': 'Luca', 'age': 2, 'species': 'cat'}, {'name': 'Blue', 'age': 3, 'species': 'bird'}, {'name': 'Max', 'age': 6, 'species': 'dog'}, {'name': 'Maisy', 'age': 13, 'species': 'dog'}]\n",
      "species\n",
      "[{'name': 'Blue', 'age': 3, 'species': 'bird'}, {'name': 'Luca', 'age': 2, 'species': 'cat'}, {'name': 'Max', 'age': 6, 'species': 'dog'}, {'name': 'Maisy', 'age': 13, 'species': 'dog'}]\n"
     ]
    }
   ],
   "source": [
    "\"\"\"\n",
    "* Creator: Nighthawk Coding Society\n",
    "Bubble Sort of a List of Dictionaries with optimizations, every key in row 0 is used to sort and resort list.\n",
    "\"\"\"\n",
    "\n",
    "# bubble sorts a list of dictionaries, base off of provided key\n",
    "def bubbleSort(list, key):\n",
    "    n = len(list) - 1  # list are indexed 0 to n-1, len is n\n",
    "    \n",
    "    # Traverse through list with i index\n",
    "    for i in range(n):\n",
    "        swapped = False  # optimize code, so it exits if now swaps on inner loop\n",
    "\n",
    "        # Inner traversal using j index\n",
    "        for j in range(n-i):  # n-i as positions on right are in order in bubble\n",
    " \n",
    "            # Swap if the element KeyN is greater KeyN1\n",
    "            keyN = list[j].get(key)\n",
    "            keyN1 = list[j+1].get(key)\n",
    "            if keyN > keyN1:\n",
    "                swapped = True\n",
    "                list[j], list[j + 1] = list[j + 1], list[j]  # single line swap\n",
    "         \n",
    "        if not swapped:  # if no swaps on inner pass, list is sorted\n",
    "            return  # exit function\n",
    "    \n",
    "\n",
    "if __name__ == \"__main__\":\n",
    "    # list/dictionary sample\n",
    "    list_of_pets = [\n",
    "    {\"name\": \"Max\", \"age\": 6, \"species\": \"dog\"},\n",
    "    {\"name\": \"Luca\", \"age\": 2, \"species\": \"cat\"},\n",
    "    {\"name\": \"Blue\", \"age\": 3, \"species\": \"bird\"},\n",
    "    {\"name\": \"Maisy\", \"age\": 13, \"species\": \"dog\"}\n",
    "    ]\n",
    "    \n",
    "    # assuming uniform keys, pick 1st row as source of keys\n",
    "    key_row = list_of_pets[0]\n",
    "\n",
    "    # print list as defined\n",
    "    print(\"Original\")\n",
    "    print(list_of_pets)\n",
    "    \n",
    "    for key in key_row:  # finds each key in the row\n",
    "        print(key)\n",
    "        bubbleSort(list_of_pets, key)  # sort list of people\n",
    "        print(list_of_pets)"
   ]
  },
  {
   "cell_type": "code",
   "execution_count": 37,
   "metadata": {},
   "outputs": [
    {
     "name": "stdout",
     "output_type": "stream",
     "text": [
      "My list (insertion sort)\n",
      "Original:\n",
      "[{'name': 'Risa', 'age': 18, 'city': 'New York'}, {'name': 'John', 'age': 63, 'city': 'Eugene'}, {'name': 'Shekar', 'age': 18, 'city': 'San Francisco'}, {'name': 'Ryan', 'age': 21, 'city': 'Los Angeles'}]\n",
      "Sorted:\n",
      "[{'name': 'John', 'age': 63, 'city': 'Eugene'}, {'name': 'Risa', 'age': 18, 'city': 'New York'}, {'name': 'Ryan', 'age': 21, 'city': 'Los Angeles'}, {'name': 'Shekar', 'age': 18, 'city': 'San Francisco'}]\n"
     ]
    }
   ],
   "source": [
    "\"\"\"\n",
    "* Creator: Nighthawk Coding Society\n",
    "Bubble Sort of a List with optimizations\n",
    "\"\"\"\n",
    "\n",
    "# sorting algorithm (Insertion Sort)\n",
    "def insertionSort(arr, key):\n",
    "    n = len(arr)\n",
    "    for i in range(1, n):\n",
    "        current = arr[i]\n",
    "        j = i - 1\n",
    "        while j >= 0 and arr[j][key] > current[key]:\n",
    "            arr[j + 1] = arr[j]\n",
    "            j -= 1\n",
    "        arr[j + 1] = current\n",
    "\n",
    "if __name__ == \"__main__\":\n",
    "    # list/dictionary sample\n",
    "    list_of_people = [\n",
    "    {\"name\": \"Risa\", \"age\": 18, \"city\": \"New York\"},\n",
    "    {\"name\": \"John\", \"age\": 63, \"city\": \"Eugene\"},\n",
    "    {\"name\": \"Shekar\", \"age\": 18, \"city\": \"San Francisco\"},\n",
    "    {\"name\": \"Ryan\", \"age\": 21, \"city\": \"Los Angeles\"}\n",
    "    ]\n",
    "    \n",
    "    print(\"My list (insertion sort)\")\n",
    "    print(\"Original:\")\n",
    "    print(list_of_people)\n",
    "\n",
    "    insertionSort(list_of_people, \"name\")\n",
    "\n",
    "    print(\"Sorted:\")\n",
    "    print(list_of_people)\n"
   ]
  },
  {
   "attachments": {},
   "cell_type": "markdown",
   "metadata": {},
   "source": [
    "Insertion sort\n",
    "Comparisons:\n",
    "- comparisons are made to determine the correct position of an element within the sorted portion of the list, number of comparisons is proportional to the total number of elements being sorted\n",
    "- worst-case scenario: makes n^2/2 comparisons, n is the number of elements in the list\n",
    "- best-case scenario: makes n - 1 comparisons (input list is already sorted)\n",
    "\n",
    "Swaps:\n",
    "- swaps are made to move elements to their correct positions within the sorted portion of the list, number of swaps in depends on the number of inversions, or elements that are out of place, in the initial list\n",
    "- worst-case scenario: makes n^2/2 swaps.\n",
    "- best-case scenario: makes no swaps (input list is already sorted)\n",
    "\n",
    "Time Complexity:\n",
    "- indicates that the time taken to sort the list grows quadratically as the list size increases\n",
    "- average and worst-case: O(n^2)\n",
    "- best-case: O(n) (input list is already sorted)"
   ]
  },
  {
   "attachments": {},
   "cell_type": "markdown",
   "metadata": {},
   "source": [
    "### Printing Data Better"
   ]
  },
  {
   "cell_type": "code",
   "execution_count": 44,
   "metadata": {},
   "outputs": [
    {
     "name": "stdout",
     "output_type": "stream",
     "text": [
      "My list (Insertion Sort)\n",
      "Original:\n",
      "• Name: Risa\n",
      "  Age: 18\n",
      "  City: New York\n",
      "• Name: John\n",
      "  Age: 63\n",
      "  City: Eugene\n",
      "• Name: Shekar\n",
      "  Age: 18\n",
      "  City: San Francisco\n",
      "• Name: Ryan\n",
      "  Age: 21\n",
      "  City: Los Angeles\n",
      "\n",
      "Sorted:\n",
      "• Name: John\n",
      "  Age: 63\n",
      "  City: Eugene\n",
      "• Name: Risa\n",
      "  Age: 18\n",
      "  City: New York\n",
      "• Name: Ryan\n",
      "  Age: 21\n",
      "  City: Los Angeles\n",
      "• Name: Shekar\n",
      "  Age: 18\n",
      "  City: San Francisco\n"
     ]
    }
   ],
   "source": [
    "def insertionSort(arr, key):\n",
    "    n = len(arr)\n",
    "    for i in range(1, n):\n",
    "        current = arr[i]\n",
    "        j = i - 1\n",
    "        while j >= 0 and arr[j][key] > current[key]:\n",
    "            arr[j + 1] = arr[j]\n",
    "            j -= 1\n",
    "        arr[j + 1] = current\n",
    "\n",
    "if __name__ == \"__main__\":\n",
    "    # List/Dictionary Sample\n",
    "    list_of_people = [\n",
    "        {\"name\": \"Risa\", \"age\": 18, \"city\": \"New York\"},\n",
    "        {\"name\": \"John\", \"age\": 63, \"city\": \"Eugene\"},\n",
    "        {\"name\": \"Shekar\", \"age\": 18, \"city\": \"San Francisco\"},\n",
    "        {\"name\": \"Ryan\", \"age\": 21, \"city\": \"Los Angeles\"}\n",
    "    ]\n",
    "    \n",
    "    print(\"My list (Insertion Sort)\")\n",
    "    print(\"Original:\")\n",
    "    for person in list_of_people:\n",
    "        print(\"• Name:\", person[\"name\"])\n",
    "        print(\"  Age:\", person[\"age\"])\n",
    "        print(\"  City:\", person[\"city\"])\n",
    "\n",
    "    print()\n",
    "    insertionSort(list_of_people, \"name\")\n",
    "\n",
    "    print(\"Sorted:\")\n",
    "    for person in list_of_people:\n",
    "        print(\"• Name:\", person[\"name\"])\n",
    "        print(\"  Age:\", person[\"age\"])\n",
    "        print(\"  City:\", person[\"city\"])\n"
   ]
  }
 ],
 "metadata": {
  "kernelspec": {
   "display_name": "base",
   "language": "python",
   "name": "python3"
  },
  "language_info": {
   "codemirror_mode": {
    "name": "ipython",
    "version": 3
   },
   "file_extension": ".py",
   "mimetype": "text/x-python",
   "name": "python",
   "nbconvert_exporter": "python",
   "pygments_lexer": "ipython3",
   "version": "3.9.12"
  },
  "orig_nbformat": 4
 },
 "nbformat": 4,
 "nbformat_minor": 2
}
