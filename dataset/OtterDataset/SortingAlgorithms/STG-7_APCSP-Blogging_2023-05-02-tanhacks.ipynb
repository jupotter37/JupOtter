{
 "cells": [
  {
   "attachments": {},
   "cell_type": "markdown",
   "metadata": {},
   "source": [
    "# Building Simulation/Interaction HACKS\n",
    "> Finishing all the Building Simulation/Interaction HACKS and doing the Extra Credit\n",
    "- toc: true \n",
    "- badges: true\n",
    "- comments: true\n",
    "- categories: [jupyter, week-28]"
   ]
  },
  {
   "attachments": {},
   "cell_type": "markdown",
   "metadata": {},
   "source": [
    "# (0.1 points) Create a visual or written description. Objective is to compare lists and dictionaries.\n",
    "\n"
   ]
  },
  {
   "attachments": {},
   "cell_type": "markdown",
   "metadata": {},
   "source": [
    "## Written Description to compare Lists and Dictionaries (With Code Example)\n",
    "\n",
    "Lists and dictionaries are two commonly used data structures in programming, each with their own unique characteristics and purposes.\n",
    "\n",
    "A list is an ordered collection of values or objects that can be accessed by their index, which is an integer starting from zero. Lists are mutable, which means their contents can be changed by adding, removing, or modifying elements. A list is typically represented by square brackets [] in Python.\n",
    "\n",
    "On the other hand, a dictionary is an unordered collection of key-value pairs, where each key is unique and maps to a value. Dictionaries are mutable and can be changed by adding, removing, or modifying key-value pairs. A dictionary is typically represented by curly braces {} in Python.\n",
    "\n",
    "To visualize the difference between lists and dictionaries, imagine a library. The books on the shelves can be thought of as a list, where each book is identified by its position in the list. In contrast, a librarian's catalog of the books can be thought of as a dictionary, where each book is identified by its unique call number.\n",
    "\n",
    "Here is an example in Python:"
   ]
  },
  {
   "cell_type": "code",
   "execution_count": 10,
   "metadata": {},
   "outputs": [
    {
     "name": "stdout",
     "output_type": "stream",
     "text": [
      "apple\n",
      "John\n"
     ]
    }
   ],
   "source": [
    "# Example of a list\n",
    "fruits = [\"apple\", \"banana\", \"cherry\"]\n",
    "print(fruits[0])   # Output: \"apple\"\n",
    "\n",
    "# Example of a dictionary\n",
    "person = {\"name\": \"John\", \"age\": 30, \"city\": \"New York\"}\n",
    "print(person[\"name\"])   # Output: \"John\""
   ]
  },
  {
   "attachments": {},
   "cell_type": "markdown",
   "metadata": {},
   "source": [
    "In the above example, fruits is a list with three elements, where \"apple\" is at index 0. person is a dictionary with three key-value pairs, where \"name\" maps to \"John\"."
   ]
  },
  {
   "attachments": {},
   "cell_type": "markdown",
   "metadata": {},
   "source": [
    "# (0.3 points) Create your own dictionary/list and use sorting algorithms to perform operations on them. (Use playlist maker as an example of what we expect ~ Make something creative and useful)\n",
    "\n"
   ]
  },
  {
   "attachments": {},
   "cell_type": "markdown",
   "metadata": {},
   "source": [
    "## Dictionary of NFL teams with their win-loss records and a List of players with their stats"
   ]
  },
  {
   "cell_type": "code",
   "execution_count": 4,
   "metadata": {},
   "outputs": [],
   "source": [
    "# Define a dictionary of NFL teams with their win-loss records\n",
    "nfl_teams = {\n",
    "    \"Arizona Cardinals\": [10, 7],\n",
    "    \"Atlanta Falcons\": [3, 14],\n",
    "    \"Baltimore Ravens\": [9, 8],\n",
    "    \"Buffalo Bills\": [11, 6],\n",
    "    \"Carolina Panthers\": [5, 12],\n",
    "    \"Chicago Bears\": [6, 11],\n",
    "    \"Cincinnati Bengals\": [10, 7],\n",
    "    \"Cleveland Browns\": [7, 10],\n",
    "    \"Dallas Cowboys\": [8, 9],\n",
    "    \"Denver Broncos\": [7, 10],\n",
    "    \"Detroit Lions\": [2, 15],\n",
    "    \"Green Bay Packers\": [13, 4],\n",
    "    \"Houston Texans\": [4, 13],\n",
    "    \"Indianapolis Colts\": [9, 8],\n",
    "    \"Jacksonville Jaguars\": [3, 14],\n",
    "    \"Kansas City Chiefs\": [12, 5],\n",
    "    \"Las Vegas Raiders\": [10, 7],\n",
    "    \"Los Angeles Chargers\": [9, 8],\n",
    "    \"Los Angeles Rams\": [12, 5],\n",
    "    \"Miami Dolphins\": [9, 8],\n",
    "    \"Minnesota Vikings\": [8, 9],\n",
    "    \"New England Patriots\": [10, 7],\n",
    "    \"New Orleans Saints\": [9, 8],\n",
    "    \"New York Giants\": [4, 13],\n",
    "    \"New York Jets\": [2, 15],\n",
    "    \"Philadelphia Eagles\": [9, 8],\n",
    "    \"Pittsburgh Steelers\": [9, 8],\n",
    "    \"San Francisco 49ers\": [10, 7],\n",
    "    \"Seattle Seahawks\": [7, 10],\n",
    "    \"Tampa Bay Buccaneers\": [13, 4],\n",
    "    \"Tennessee Titans\": [12, 5],\n",
    "    \"Washington Football Team\": [7, 10]\n",
    "}\n",
    "\n",
    "# Define a list of players with their stats\n",
    "nfl_players = [\n",
    "    {\"name\": \"Tom Brady\", \"team\": \"Tampa Bay Buccaneers\", \"position\": \"Quarterback\", \"passing yards\": 4657},\n",
    "    {\"name\": \"Patrick Mahomes\", \"team\": \"Kansas City Chiefs\", \"position\": \"Quarterback\", \"passing yards\": 5028},\n",
    "    {\"name\": \"Josh Allen\", \"team\": \"Buffalo Bills\", \"position\": \"Quarterback\", \"passing yards\": 4544},\n",
    "    {\"name\": \"Derrick Henry\", \"team\": \"Tennessee Titans\", \"position\": \"Running Back\", \"rushing yards\": 2027},\n",
    "    {\"name\": \"Stefon Diggs\", \"team\": \"Buffalo Bills\", \"position\": \"Wide Receiver\", \"receiving yards\": 1535},\n",
    "    {\"name\": \"Aaron Donald\", \"team\": \"Los Angeles Rams\", \"position\": \"Defensive Tackle\", \"sacks\": 13.5},\n",
    "    {\"name\": \"T.J. Watt\", \"team\": \"Pittsburgh Steelers\", \"position\": \"Outside Linebacker\", \"sacks\": 15},\n",
    "    {\"name\": \"Jalen Ramsey\", \"team\": \"Los Angeles Rams\", \"position\": \"Cornerback\", \"interceptions\": 3},\n",
    "    {\"name\": \"Justin Herbert\", \"team\": \"Los Angeles Chargers\", \"position\": \"Quarterback\", \"passing yards\": 5963},\n",
    "]"
   ]
  },
  {
   "attachments": {},
   "cell_type": "markdown",
   "metadata": {},
   "source": [
    "## Bubble Sort\n",
    "Bubble sort is a simple sorting algorithm that repeatedly swaps adjacent elements if they are in the wrong order. Here's an example of using bubble sort to sort the NFL teams by their win-loss records:"
   ]
  },
  {
   "cell_type": "code",
   "execution_count": 5,
   "metadata": {},
   "outputs": [
    {
     "name": "stdout",
     "output_type": "stream",
     "text": [
      "[('Green Bay Packers', [13, 4]), ('Tampa Bay Buccaneers', [13, 4]), ('Kansas City Chiefs', [12, 5]), ('Los Angeles Rams', [12, 5]), ('Tennessee Titans', [12, 5]), ('Buffalo Bills', [11, 6]), ('Arizona Cardinals', [10, 7]), ('Cincinnati Bengals', [10, 7]), ('Las Vegas Raiders', [10, 7]), ('New England Patriots', [10, 7]), ('San Francisco 49ers', [10, 7]), ('Baltimore Ravens', [9, 8]), ('Indianapolis Colts', [9, 8]), ('Los Angeles Chargers', [9, 8]), ('Miami Dolphins', [9, 8]), ('New Orleans Saints', [9, 8]), ('Philadelphia Eagles', [9, 8]), ('Pittsburgh Steelers', [9, 8]), ('Dallas Cowboys', [8, 9]), ('Minnesota Vikings', [8, 9]), ('Cleveland Browns', [7, 10]), ('Denver Broncos', [7, 10]), ('Seattle Seahawks', [7, 10]), ('Washington Football Team', [7, 10]), ('Chicago Bears', [6, 11]), ('Carolina Panthers', [5, 12]), ('Houston Texans', [4, 13]), ('New York Giants', [4, 13]), ('Atlanta Falcons', [3, 14]), ('Jacksonville Jaguars', [3, 14]), ('Detroit Lions', [2, 15]), ('New York Jets', [2, 15])]\n"
     ]
    }
   ],
   "source": [
    "# Sort the NFL teams by their win-loss records using bubble sort\n",
    "nfl_teams_list = list(nfl_teams.items())\n",
    "for i in range(len(nfl_teams_list)):\n",
    "    for j in range(len(nfl_teams_list) - i - 1):\n",
    "        if nfl_teams_list[j][1][0] < nfl_teams_list[j + 1][1][0]:\n",
    "            nfl_teams_list[j], nfl_teams_list[j + 1] = nfl_teams_list[j + 1], nfl_teams_list[j]\n",
    "\n",
    "print(nfl_teams_list)"
   ]
  },
  {
   "attachments": {},
   "cell_type": "markdown",
   "metadata": {},
   "source": [
    "## Merge Sort\n",
    "\n",
    "Merge sort is a divide-and-conquer sorting algorithm that divides an array into two halves, recursively sorts each half, and then merges the sorted halves back together. Here's an example of using merge sort to sort the NFL players by their passing yards:"
   ]
  },
  {
   "cell_type": "code",
   "execution_count": 8,
   "metadata": {},
   "outputs": [
    {
     "name": "stdout",
     "output_type": "stream",
     "text": [
      "[{'name': 'Stefon Diggs', 'team': 'Buffalo Bills', 'position': 'Wide Receiver', 'receiving yards': 1535}, {'name': 'Derrick Henry', 'team': 'Tennessee Titans', 'position': 'Running Back', 'rushing yards': 2027}, {'name': 'Justin Herbert', 'team': 'Los Angeles Chargers', 'position': 'Quarterback', 'passing yards': 5963}, {'name': 'Josh Allen', 'team': 'Buffalo Bills', 'position': 'Quarterback', 'passing yards': 4544}, {'name': 'Patrick Mahomes', 'team': 'Kansas City Chiefs', 'position': 'Quarterback', 'passing yards': 5028}, {'name': 'Tom Brady', 'team': 'Tampa Bay Buccaneers', 'position': 'Quarterback', 'passing yards': 4657}, {'name': 'T.J. Watt', 'team': 'Pittsburgh Steelers', 'position': 'Outside Linebacker', 'sacks': 15}, {'name': 'Aaron Donald', 'team': 'Los Angeles Rams', 'position': 'Defensive Tackle', 'sacks': 13.5}, {'name': 'Jalen Ramsey', 'team': 'Los Angeles Rams', 'position': 'Cornerback', 'interceptions': 3}]\n"
     ]
    }
   ],
   "source": [
    "# Sort the NFL players by their passing yards using merge sort\n",
    "def merge_sort(arr, key):\n",
    "    if len(arr) > 1:\n",
    "        mid = len(arr) // 2\n",
    "        left_half = arr[:mid]\n",
    "        right_half = arr[mid:]\n",
    "        \n",
    "        merge_sort(left_half, key)\n",
    "        merge_sort(right_half, key)\n",
    "        \n",
    "        i = j = k = 0\n",
    "        \n",
    "        while i < len(left_half) and j < len(right_half):\n",
    "            if left_half[i][key] > right_half[j][key]:\n",
    "                arr[k] = left_half[i]\n",
    "                i += 1\n",
    "            else:\n",
    "                arr[k] = right_half[j]\n",
    "                j += 1\n",
    "            k += 1\n",
    "            \n",
    "        while i < len(left_half):\n",
    "            arr[k] = left_half[i]\n",
    "            i += 1\n",
    "            k += 1\n",
    "            \n",
    "        while j < len(right_half):\n",
    "            arr[k] = right_half[j]\n",
    "            j += 1\n",
    "            k += 1\n",
    "\n",
    "merge_sort(nfl_players, \"position\")\n",
    "print(nfl_players)"
   ]
  },
  {
   "attachments": {},
   "cell_type": "markdown",
   "metadata": {},
   "source": [
    "## Quick Sort\n",
    "\n",
    "Quick sort is another divide-and-conquer sorting algorithm that works by partitioning an array into two sub-arrays based on a pivot element, and then recursively sorting the sub-arrays. Here's an example of using quick sort to sort the NFL teams by their win-loss records"
   ]
  },
  {
   "cell_type": "code",
   "execution_count": 9,
   "metadata": {},
   "outputs": [
    {
     "name": "stdout",
     "output_type": "stream",
     "text": [
      "[('Tampa Bay Buccaneers', [13, 4]), ('Green Bay Packers', [13, 4]), ('Tennessee Titans', [12, 5]), ('Los Angeles Rams', [12, 5]), ('Kansas City Chiefs', [12, 5]), ('Buffalo Bills', [11, 6]), ('Arizona Cardinals', [10, 7]), ('San Francisco 49ers', [10, 7]), ('Cincinnati Bengals', [10, 7]), ('Las Vegas Raiders', [10, 7]), ('New England Patriots', [10, 7]), ('Indianapolis Colts', [9, 8]), ('Miami Dolphins', [9, 8]), ('Baltimore Ravens', [9, 8]), ('Los Angeles Chargers', [9, 8]), ('New Orleans Saints', [9, 8]), ('Philadelphia Eagles', [9, 8]), ('Pittsburgh Steelers', [9, 8]), ('Minnesota Vikings', [8, 9]), ('Dallas Cowboys', [8, 9]), ('Washington Football Team', [7, 10]), ('Seattle Seahawks', [7, 10]), ('Cleveland Browns', [7, 10]), ('Denver Broncos', [7, 10]), ('Chicago Bears', [6, 11]), ('Carolina Panthers', [5, 12]), ('Houston Texans', [4, 13]), ('New York Giants', [4, 13]), ('Jacksonville Jaguars', [3, 14]), ('Atlanta Falcons', [3, 14]), ('New York Jets', [2, 15]), ('Detroit Lions', [2, 15])]\n"
     ]
    }
   ],
   "source": [
    "# Sort the NFL teams by their win-loss records using quick sort\n",
    "def quick_sort(arr, low, high):\n",
    "    if low < high:\n",
    "        pivot = arr[high][1][0]\n",
    "        i = low - 1\n",
    "        for j in range(low, high):\n",
    "            if arr[j][1][0] > pivot:\n",
    "                i += 1\n",
    "                arr[i], arr[j] = arr[j], arr[i]\n",
    "        i += 1\n",
    "        arr[i], arr[high] = arr[high], arr[i]\n",
    "        \n",
    "        quick_sort(arr, low, i - 1)\n",
    "        quick_sort(arr, i + 1, high)\n",
    "        \n",
    "nfl_teams_list = list(nfl_teams.items())\n",
    "quick_sort(nfl_teams_list, 0, len(nfl_teams_list) - 1)\n",
    "print(nfl_teams_list)"
   ]
  },
  {
   "attachments": {},
   "cell_type": "markdown",
   "metadata": {},
   "source": [
    "# (0.3 points) Build your own simulation such as a random number generator or slot machine (Try using a list!)\n",
    "\n"
   ]
  },
  {
   "attachments": {},
   "cell_type": "markdown",
   "metadata": {},
   "source": [
    "## NBA simulation using a list\n",
    "This simulation uses a list of NBA teams and their win-loss records to simulate a playoff series between the teams. The simulate_game function simulates a single game between two teams, and the simulate_series function"
   ]
  },
  {
   "cell_type": "code",
   "execution_count": 13,
   "metadata": {},
   "outputs": [
    {
     "name": "stdout",
     "output_type": "stream",
     "text": [
      "The Brooklyn Nets are the NBA champions!\n"
     ]
    }
   ],
   "source": [
    "import random\n",
    "\n",
    "# Create a list of NBA teams and their win-loss records\n",
    "nba_teams = [\n",
    "    {'team': 'Brooklyn Nets', 'wins': 45, 'losses': 27},\n",
    "    {'team': 'Milwaukee Bucks', 'wins': 46, 'losses': 26},\n",
    "    {'team': 'Philadelphia 76ers', 'wins': 49, 'losses': 23},\n",
    "    {'team': 'New York Knicks', 'wins': 41, 'losses': 31},\n",
    "    {'team': 'Atlanta Hawks', 'wins': 41, 'losses': 31},\n",
    "    {'team': 'Miami Heat', 'wins': 40, 'losses': 32},\n",
    "    {'team': 'Boston Celtics', 'wins': 36, 'losses': 36},\n",
    "    {'team': 'Washington Wizards', 'wins': 34, 'losses': 38},\n",
    "    {'team': 'Indiana Pacers', 'wins': 34, 'losses': 38},\n",
    "    {'team': 'Charlotte Hornets', 'wins': 33, 'losses': 39},\n",
    "    {'team': 'Chicago Bulls', 'wins': 31, 'losses': 41},\n",
    "    {'team': 'Toronto Raptors', 'wins': 27, 'losses': 45},\n",
    "    {'team': 'Cleveland Cavaliers', 'wins': 22, 'losses': 50},\n",
    "    {'team': 'Orlando Magic', 'wins': 21, 'losses': 51},\n",
    "    {'team': 'Detroit Pistons', 'wins': 20, 'losses': 52},\n",
    "]\n",
    "\n",
    "# Simulate a game between two teams\n",
    "def simulate_game(team1, team2):\n",
    "    team1_wins = 0\n",
    "    team2_wins = 0\n",
    "    for i in range(7):\n",
    "        score1 = random.randint(80, 120)\n",
    "        score2 = random.randint(80, 120)\n",
    "        if score1 > score2:\n",
    "            team1_wins += 1\n",
    "        else:\n",
    "            team2_wins += 1\n",
    "    if team1_wins > team2_wins:\n",
    "        return team1\n",
    "    else:\n",
    "        return team2\n",
    "\n",
    "# Simulate a playoff series between two teams\n",
    "def simulate_series(team1, team2):\n",
    "    team1_wins = 0\n",
    "    team2_wins = 0\n",
    "    while team1_wins < 4 and team2_wins < 4:\n",
    "        winner = simulate_game(team1, team2)\n",
    "        if winner == team1:\n",
    "            team1_wins += 1\n",
    "        else:\n",
    "            team2_wins += 1\n",
    "    if team1_wins > team2_wins:\n",
    "        return team1\n",
    "    else:\n",
    "        return team2\n",
    "\n",
    "# Simulate the NBA playoffs\n",
    "playoff_teams = nba_teams[:8]\n",
    "while len(playoff_teams) > 1:\n",
    "    winners = []\n",
    "    for i in range(0, len(playoff_teams), 2):\n",
    "        team1 = playoff_teams[i]\n",
    "        team2 = playoff_teams[i+1]\n",
    "        winner = simulate_series(team1, team2)\n",
    "        winners.append(winner)\n",
    "    playoff_teams = winners\n",
    "\n",
    "# Print the winner of the NBA playoffs\n",
    "print(\"The \" + playoff_teams[0]['team'] + \" are the NBA champions!\")"
   ]
  },
  {
   "attachments": {},
   "cell_type": "markdown",
   "metadata": {},
   "source": [
    "## Cricket Simulation using a list"
   ]
  },
  {
   "cell_type": "code",
   "execution_count": 23,
   "metadata": {},
   "outputs": [
    {
     "name": "stdout",
     "output_type": "stream",
     "text": [
      "India is the ICC champion!\n"
     ]
    }
   ],
   "source": [
    "import random\n",
    "\n",
    "# Create a list of ICC cricket teams and their win-loss records\n",
    "icc_teams = [\n",
    "    {'team': 'India', 'wins': 54, 'losses': 31},\n",
    "    {'team': 'England', 'wins': 56, 'losses': 34},\n",
    "    {'team': 'Australia', 'wins': 64, 'losses': 42},\n",
    "    {'team': 'South Africa', 'wins': 43, 'losses': 36},\n",
    "    {'team': 'New Zealand', 'wins': 36, 'losses': 30},\n",
    "    {'team': 'Pakistan', 'wins': 49, 'losses': 41},\n",
    "    {'team': 'West Indies', 'wins': 38, 'losses': 45},\n",
    "    {'team': 'Sri Lanka', 'wins': 41, 'losses': 49},\n",
    "    {'team': 'Bangladesh', 'wins': 31, 'losses': 58},\n",
    "    {'team': 'Zimbabwe', 'wins': 11, 'losses': 28},\n",
    "    {'team': 'Ireland', 'wins': 9, 'losses': 16},\n",
    "    {'team': 'Afghanistan', 'wins': 5, 'losses': 9},\n",
    "    {'team': 'Netherlands', 'wins': 0, 'losses': 2},\n",
    "]\n",
    "\n",
    "# Simulate a cricket match between two teams\n",
    "def simulate_match(team1, team2):\n",
    "    team1_runs = 0\n",
    "    team2_runs = 0\n",
    "    for i in range(50):\n",
    "        ball = random.randint(0, 6)\n",
    "        team1_runs += ball\n",
    "        ball = random.randint(0, 6)\n",
    "        team2_runs += ball\n",
    "    if team1_runs > team2_runs:\n",
    "        return team1\n",
    "    else:\n",
    "        return team2\n",
    "\n",
    "# Simulate an ICC tournament\n",
    "tournament_teams = icc_teams[:10]\n",
    "while len(tournament_teams) > 1:\n",
    "    winners = []\n",
    "    for i in range(0, len(tournament_teams)-1, 2):\n",
    "        team1 = tournament_teams[i]\n",
    "        team2 = tournament_teams[i+1]\n",
    "        winner = simulate_match(team1, team2)\n",
    "        winners.append(winner)\n",
    "    if len(tournament_teams) % 2 != 0:\n",
    "        winners.append(tournament_teams[-1])\n",
    "    tournament_teams = winners\n",
    "\n",
    "# Print the winner of the ICC tournament\n",
    "print(tournament_teams[0]['team'] + \" is the ICC champion!\")"
   ]
  },
  {
   "attachments": {},
   "cell_type": "markdown",
   "metadata": {},
   "source": [
    "# (0.2 points) Report Kahoot Score out of ten, and what resources you will be using to study lists/simulations/dictionaries further if you feel necessary.\n",
    "\n",
    "My Kahoot Score: 7/10 \n",
    "\n",
    "If necessary, I will use the following resources to study lists/simulations/dictionaries: \n",
    "\n",
    "Python documentation - The official documentation for Python provides detailed explanations and examples of how to use lists, dictionaries, and other built-in data types. It also includes information on how to create and work with simulations in Python.\n",
    "\n",
    "College Board\n",
    "\n",
    "Practice - The best way to learn and improve your skills is through practice. \n",
    "\n",
    "\n",
    "\n"
   ]
  },
  {
   "attachments": {},
   "cell_type": "markdown",
   "metadata": {},
   "source": [
    "# EXTRA 0.1 to get full 1/1 score for any simulation that is truly impressive (incorporates UI and thorough written description of your code and it's application to the real world. You will get this point if we believe that you have a genuine understanding of our lesson.\n"
   ]
  },
  {
   "attachments": {},
   "cell_type": "markdown",
   "metadata": {},
   "source": [
    "Simulation: Traffic flow simulation\n",
    "\n",
    "Description:\n",
    "\n",
    "The simulation will be designed to simulate traffic flow on a busy highway, taking into account factors such as the number of vehicles, their speeds, and the amount of space available on the road. The simulation will be built using Python programming language, and it will have a graphical user interface that allows the user to adjust the parameters of the simulation and view the results.\n",
    "\n",
    "The simulation will be divided into two parts: the back-end, which will handle the calculations and data processing, and the front-end, which will handle the user interface. The back-end will use a combination of object-oriented programming and simulation algorithms to simulate the flow of traffic. The front-end will use a Python GUI framework such as Tkinter or PyQT to create a user interface that allows the user to interact with the simulation.\n",
    "\n",
    "At the start of the simulation, the user will be prompted to enter the parameters of the simulation, such as the number of vehicles, their speeds, and the size of the road. Once the user has entered the parameters, the simulation will begin. The back-end will create a number of vehicle objects, each with its own speed, acceleration, and braking capabilities. The vehicle objects will be placed on the road, and the simulation will begin running.\n",
    "\n",
    "During the simulation, the back-end will update the position of each vehicle based on its current speed, acceleration, and braking. The back-end will also calculate the distance between each vehicle and its neighbors, and adjust the speed of each vehicle accordingly. If a vehicle gets too close to the vehicle in front of it, it will slow down or stop. If a vehicle has enough space in front of it, it will accelerate.\n",
    "\n",
    "The front-end will display the results of the simulation to the user in real-time, using a graphical representation of the road and the vehicles. The user will be able to pause and resume the simulation, adjust the parameters, and view statistics such as the average speed of the vehicles and the number of accidents that occur.\n",
    "\n",
    "Applications:\n",
    "\n",
    "The traffic flow simulation has many real-world applications. Traffic engineers and city planners can use the simulation to test different traffic scenarios and determine the best way to manage traffic flow on busy roads. The simulation can also be used to train new drivers, by allowing them to practice driving in a virtual environment that mimics real-world traffic conditions. In addition, the simulation can be used by law enforcement agencies to study the causes of accidents and develop strategies to reduce the number of accidents on the road.\n",
    "\n",
    "Conclusion:\n",
    "\n",
    "In summary, the traffic flow simulation is an impressive simulation that could be applied to the real world in a variety of ways. By simulating traffic flow on a busy highway, the simulation can help traffic engineers, city planners, and law enforcement agencies make informed decisions about managing traffic and reducing the number of accidents on the road."
   ]
  },
  {
   "cell_type": "code",
   "execution_count": 24,
   "metadata": {},
   "outputs": [
    {
     "name": "stdout",
     "output_type": "stream",
     "text": [
      "[69.62, 152.89, 180.86, 240.08, 286.69, 342.36, 386.96, 439.61, 464.57, 532.84, 566.34, 627.07, 667.64, 697.67, 739.29, 810.5, 842.52, 900.14, 957.38, 977.38]\n",
      "[92.62, 210.2, 219.86, 289.27, 336.28, 398.66, 440.22, 497.93, 501.57, 589.14, 609.88, 682.35, 715.82, 729.67, 765.29, 858.68, 876.52, 944.14, 9.63, 3.38]\n",
      "[116.62, 267.16, 259.86, 338.06, 386.87, 454.6, 493.1, 555.91, 539.57, 645.08, 654.41, 737.28, 763.58, 761.04, 792.29, 906.44, 911.52, 987.69, 61.49, 30.38]\n",
      "[141.62, 323.77, 300.86, 386.44, 438.46, 510.18, 546.98, 613.54, 578.57, 700.66, 699.95, 791.83, 810.93, 791.78, 820.29, 953.79, 947.52, 30.77, 112.96, 58.38]\n",
      "[167.62, 380.02, 342.86, 434.41, 491.05, 565.41, 601.86, 670.83, 618.57, 755.88, 746.48, 846.02, 857.86, 821.87, 849.29, 0.71, 982.97, 74.86, 164.05, 87.38]\n",
      "[194.62, 435.92, 385.86, 483.38, 544.65, 620.27, 657.74, 727.76, 659.57, 810.74, 794.02, 899.85, 904.35, 851.29, 877.6, 48.64, 17.85, 119.95, 214.74, 117.38]\n",
      "[222.62, 491.46, 429.86, 533.34, 599.24, 674.77, 714.63, 784.35, 701.57, 865.24, 842.55, 953.3, 950.42, 880.03, 905.2, 96.14, 53.73, 166.03, 265.04, 148.38]\n",
      "[251.62, 546.65, 474.86, 584.31, 654.83, 728.89, 772.51, 840.58, 744.57, 919.37, 892.09, 6.37, 996.05, 908.08, 932.08, 143.23, 90.61, 213.12, 314.94, 180.38]\n",
      "[281.62, 601.47, 520.86, 636.28, 711.42, 782.66, 831.39, 896.46, 788.57, 973.13, 941.22, 60.45, 41.25, 935.41, 958.21, 189.89, 128.49, 261.21, 364.44, 213.38]\n",
      "[312.62, 655.92, 567.86, 689.25, 769.01, 836.04, 891.27, 951.97, 833.57, 26.52, 989.94, 114.16, 87.44, 962.01, 983.58, 236.12, 167.37, 310.29, 413.54, 247.38]\n",
      "[344.62, 710.01, 615.86, 743.21, 827.61, 889.06, 950.82, 7.13, 878.13, 80.91, 38.26, 167.49, 134.64, 987.86, 8.17, 281.92, 207.25, 360.38, 462.23, 282.38]\n",
      "[377.62, 763.72, 664.86, 798.18, 885.86, 943.07, 10.03, 63.29, 922.23, 134.93, 87.57, 220.45, 182.84, 12.94, 33.75, 327.28, 248.13, 411.46, 510.51, 318.38]\n",
      "[411.62, 817.07, 714.86, 854.15, 943.76, 996.71, 68.9, 120.45, 965.89, 188.58, 137.88, 273.03, 230.62, 37.22, 60.33, 372.21, 290.01, 463.55, 558.37, 355.38]\n",
      "[446.62, 870.04, 765.86, 911.11, 1.32, 49.98, 127.43, 178.6, 9.08, 241.86, 189.2, 325.23, 277.98, 60.67, 87.91, 416.68, 332.89, 516.64, 605.82, 393.38]\n",
      "[482.62, 922.63, 817.86, 967.73, 58.54, 104.26, 185.63, 236.42, 53.28, 294.76, 241.51, 377.05, 324.92, 83.27, 116.49, 460.71, 376.77, 570.72, 652.85, 432.38]\n",
      "[519.62, 974.84, 870.86, 23.99, 115.4, 159.53, 243.48, 293.88, 98.47, 347.28, 294.83, 428.48, 371.43, 106.88, 146.07, 504.28, 421.65, 625.81, 699.45, 472.38]\n",
      "[557.62, 26.67, 923.48, 81.25, 171.92, 215.8, 300.98, 351.0, 144.67, 399.43, 349.14, 479.52, 417.51, 131.48, 176.66, 547.4, 467.53, 681.89, 745.62, 513.38]\n",
      "[595.09, 79.5, 975.72, 139.52, 228.08, 273.07, 358.13, 407.77, 191.86, 451.19, 404.45, 530.17, 463.16, 157.08, 208.24, 590.05, 514.41, 738.98, 791.35, 555.38]\n",
      "[632.03, 133.33, 27.58, 198.78, 283.88, 331.34, 414.94, 464.19, 240.06, 502.56, 460.77, 580.43, 508.37, 183.68, 240.82, 632.23, 562.29, 795.72, 836.65, 598.38]\n",
      "[668.43, 186.79, 80.44, 258.78, 339.32, 390.61, 471.39, 520.25, 289.25, 553.54, 518.08, 630.29, 553.14, 211.28, 274.4, 673.94, 611.17, 852.1, 881.51, 642.38]\n",
      "[704.28, 239.87, 134.3, 318.78, 394.41, 450.61, 527.49, 575.96, 339.45, 604.13, 576.39, 679.74, 597.46, 239.89, 308.98, 715.16, 661.05, 908.13, 925.93, 687.38]\n",
      "[739.57, 292.58, 189.16, 378.78, 449.13, 510.61, 583.23, 631.31, 390.64, 654.33, 635.71, 728.8, 641.34, 269.49, 344.57, 755.91, 711.93, 963.8, 969.89, 733.38]\n",
      "[774.3, 344.9, 245.02, 438.78, 504.85, 570.61, 638.61, 686.29, 442.84, 704.13, 695.71, 777.44, 684.75, 300.09, 381.15, 796.16, 763.81, 19.11, 13.4, 780.38]\n",
      "[808.44, 396.85, 301.88, 498.78, 561.57, 630.61, 693.64, 740.91, 496.03, 753.53, 755.71, 825.68, 727.7, 331.69, 418.73, 835.91, 815.31, 74.06, 57.91, 828.38]\n",
      "[842.01, 448.41, 359.74, 558.45, 619.29, 690.27, 748.3, 795.17, 550.23, 802.52, 815.71, 873.5, 770.19, 364.3, 457.31, 875.16, 866.41, 128.65, 103.41, 877.38]\n",
      "[874.97, 499.58, 418.6, 617.78, 678.01, 749.61, 802.59, 849.06, 605.42, 851.1, 875.37, 920.9, 812.21, 397.9, 496.89, 913.91, 917.13, 182.87, 149.92, 927.38]\n",
      "[907.33, 550.36, 478.46, 676.77, 737.73, 808.6, 856.51, 902.57, 661.62, 899.27, 934.7, 967.88, 853.75, 432.5, 537.47, 952.13, 967.45, 236.72, 197.43, 978.38]\n",
      "[939.08, 600.75, 538.46, 735.43, 797.73, 867.26, 910.07, 955.71, 718.81, 947.03, 993.7, 14.43, 894.81, 468.1, 579.06, 989.83, 17.37, 290.2, 245.94, 30.38]\n",
      "[970.19, 650.74, 598.46, 793.74, 857.73, 925.57, 963.25, 8.48, 777.01, 994.37, 52.35, 61.98, 935.39, 504.7, 621.64, 27.01, 68.29, 343.31, 294.03, 83.38]\n",
      "[0.66, 700.33, 658.46, 853.06, 917.73, 983.54, 16.05, 62.25, 836.2, 41.28, 110.67, 110.53, 975.47, 542.31, 663.75, 63.64, 120.22, 396.04, 341.71, 137.38]\n",
      "[32.13, 749.52, 718.46, 913.06, 977.73, 41.17, 68.48, 117.01, 895.06, 89.2, 168.64, 160.09, 15.05, 580.91, 705.39, 101.27, 173.14, 448.39, 388.97, 192.38]\n",
      "[64.6, 798.3, 778.46, 972.72, 37.4, 98.45, 120.52, 172.78, 953.58, 138.11, 226.27, 209.24, 55.63, 620.51, 746.54, 139.91, 227.06, 500.36, 435.81, 248.38]\n",
      "[98.07, 846.67, 838.46, 32.05, 96.73, 155.38, 172.18, 229.54, 11.75, 188.03, 283.55, 257.98, 97.21, 661.11, 787.21, 179.54, 281.99, 551.94, 482.22, 305.38]\n",
      "[132.54, 894.62, 898.13, 92.05, 155.72, 211.96, 224.84, 285.96, 70.93, 238.94, 340.48, 306.31, 139.79, 702.72, 827.39, 220.18, 337.91, 603.14, 528.2, 363.38]\n",
      "[168.0, 942.16, 957.46, 151.72, 214.38, 268.18, 278.5, 342.01, 130.93, 290.86, 397.06, 354.23, 183.38, 745.32, 867.07, 261.81, 394.83, 653.94, 573.74, 422.38]\n",
      "[204.47, 989.28, 16.45, 211.05, 272.69, 324.05, 333.16, 397.72, 190.93, 343.77, 453.28, 401.73, 227.96, 788.92, 906.25, 304.44, 452.76, 704.35, 618.85, 482.38]\n",
      "[241.94, 35.98, 76.45, 270.05, 330.67, 379.56, 388.82, 453.06, 250.93, 397.69, 509.15, 448.81, 273.54, 833.52, 944.92, 348.08, 511.68, 754.37, 663.51, 542.38]\n",
      "[278.88, 82.24, 136.45, 328.7, 388.29, 434.71, 445.48, 508.04, 310.93, 452.6, 564.66, 495.47, 320.12, 879.12, 983.07, 392.71, 571.6, 803.98, 707.72, 602.38]\n",
      "[315.27, 129.51, 196.45, 387.02, 445.57, 489.5, 503.14, 562.66, 370.93, 508.52, 619.81, 541.69, 367.7, 925.73, 20.69, 438.35, 631.6, 853.19, 751.48, 662.38]\n",
      "[351.12, 177.78, 256.45, 444.99, 502.5, 543.93, 560.45, 616.91, 430.93, 565.43, 674.6, 587.49, 416.28, 971.9, 59.32, 484.98, 691.6, 902.0, 794.79, 722.38]\n",
      "[386.4, 227.04, 316.45, 502.61, 559.08, 597.98, 617.41, 670.79, 490.93, 623.35, 729.03, 632.85, 465.86, 17.64, 98.94, 532.61, 751.6, 950.39, 837.63, 782.38]\n",
      "[421.12, 277.31, 376.45, 559.89, 615.31, 651.67, 674.02, 724.31, 550.93, 682.26, 783.08, 677.76, 515.04, 64.38, 139.57, 581.25, 811.6, 998.38, 880.01, 842.38]\n",
      "[455.27, 328.58, 436.45, 616.82, 671.18, 704.98, 730.28, 777.44, 610.93, 742.18, 836.77, 722.23, 563.81, 112.12, 181.19, 630.88, 871.6, 45.94, 921.91, 902.38]\n",
      "[488.83, 380.84, 496.45, 673.4, 726.69, 757.92, 786.19, 830.21, 670.93, 802.18, 890.08, 766.26, 612.18, 160.86, 223.82, 681.52, 931.27, 94.51, 963.34, 962.38]\n",
      "[521.79, 434.11, 556.45, 729.63, 781.84, 810.48, 841.73, 882.59, 730.93, 862.18, 943.02, 809.82, 660.12, 210.6, 267.44, 733.15, 990.6, 144.07, 4.28, 22.38]\n",
      "[554.14, 488.37, 616.45, 785.5, 836.63, 862.66, 896.92, 934.59, 790.93, 922.18, 995.58, 852.93, 707.65, 261.34, 312.07, 785.78, 49.6, 193.23, 44.73, 82.38]\n",
      "[585.88, 543.64, 676.45, 841.01, 891.05, 914.46, 951.74, 986.21, 850.93, 982.18, 47.76, 895.57, 754.76, 311.68, 357.7, 838.04, 109.59, 241.99, 84.7, 142.38]\n",
      "[616.99, 599.91, 736.45, 896.16, 945.11, 965.87, 6.2, 37.44, 910.93, 41.84, 100.94, 937.75, 801.45, 361.63, 404.32, 889.91, 169.59, 290.33, 125.66, 202.38]\n",
      "[647.45, 657.17, 796.45, 950.95, 998.79, 16.89, 60.29, 89.66, 970.6, 101.17, 155.12, 979.45, 847.71, 411.18, 451.95, 941.4, 229.59, 338.27, 167.62, 262.38]\n",
      "[677.26, 715.44, 856.45, 5.37, 52.11, 67.52, 114.01, 142.89, 29.93, 160.17, 210.3, 20.67, 893.53, 460.32, 500.57, 992.49, 289.59, 385.78, 210.58, 322.38]\n",
      "[708.07, 774.71, 916.11, 59.43, 105.05, 117.76, 167.36, 195.75, 89.93, 218.82, 265.12, 62.89, 938.92, 509.06, 550.2, 43.2, 349.59, 432.87, 254.54, 382.38]\n",
      "[739.87, 834.71, 975.45, 113.12, 157.61, 167.59, 220.34, 248.22, 149.93, 277.14, 319.57, 106.11, 983.87, 557.39, 599.42, 94.9, 409.59, 479.54, 299.5, 442.38]\n",
      "[772.68, 894.71, 34.44, 166.43, 209.79, 217.03, 272.94, 300.31, 209.93, 335.11, 373.66, 150.33, 28.37, 605.3, 648.23, 147.61, 469.59, 525.78, 345.46, 502.38]\n",
      "[806.49, 954.37, 94.43, 219.37, 261.58, 267.47, 325.15, 352.02, 269.93, 392.74, 427.38, 194.1, 73.87, 652.8, 696.64, 201.32, 529.26, 571.59, 392.42, 562.38]\n",
      "[841.3, 13.7, 154.43, 271.93, 313.0, 318.9, 376.99, 403.35, 329.93, 450.02, 480.72, 237.42, 120.37, 699.87, 744.63, 256.02, 588.59, 616.96, 440.38, 622.38]\n",
      "[875.53, 73.7, 214.43, 324.11, 364.02, 371.34, 428.43, 454.28, 389.93, 506.95, 533.69, 280.27, 167.88, 746.52, 792.21, 311.73, 647.58, 661.89, 489.34, 682.38]\n",
      "[909.18, 133.7, 274.43, 375.91, 414.65, 423.39, 479.49, 504.82, 449.93, 563.53, 586.28, 322.65, 216.38, 792.74, 839.37, 368.43, 706.24, 706.37, 539.3, 742.38]\n",
      "[942.23, 193.7, 334.43, 427.32, 464.88, 475.06, 530.16, 554.97, 509.93, 619.75, 638.49, 364.56, 265.88, 838.53, 886.1, 426.14, 764.55, 750.41, 590.26, 802.38]\n",
      "[974.68, 253.7, 394.43, 478.34, 514.72, 526.34, 580.43, 604.71, 569.93, 675.62, 690.32, 406.0, 316.39, 883.88, 932.4, 484.85, 822.52, 793.99, 642.23, 862.38]\n",
      "[6.51, 313.7, 454.43, 528.97, 564.15, 577.24, 630.31, 654.06, 629.93, 731.13, 741.76, 446.95, 367.89, 928.79, 978.27, 544.55, 880.15, 837.11, 695.19, 922.38]\n",
      "[39.35, 373.7, 514.43, 579.2, 613.19, 627.73, 679.78, 702.99, 689.93, 786.28, 792.81, 487.41, 420.39, 973.26, 23.71, 604.55, 937.43, 879.77, 749.15, 982.38]\n",
      "[73.18, 433.7, 574.1, 629.04, 661.81, 677.84, 728.85, 751.52, 749.93, 841.07, 843.47, 527.38, 473.89, 17.28, 70.15, 664.55, 994.36, 921.96, 804.11, 42.38]\n",
      "[108.01, 493.7, 633.43, 678.48, 710.02, 727.54, 777.51, 799.64, 809.93, 895.5, 893.74, 566.85, 527.02, 62.29, 117.58, 724.55, 50.94, 963.67, 858.7, 102.38]\n",
      "[143.84, 553.7, 692.43, 727.51, 757.82, 776.85, 825.76, 847.34, 869.93, 949.55, 943.61, 605.81, 579.77, 108.31, 166.02, 784.22, 108.52, 4.91, 912.94, 162.38]\n",
      "[180.68, 613.7, 751.08, 776.13, 805.19, 825.74, 873.6, 894.63, 929.93, 3.24, 993.08, 644.26, 632.15, 155.32, 215.45, 843.55, 165.75, 47.14, 966.8, 222.38]\n",
      "[218.51, 673.7, 809.4, 824.34, 852.15, 874.23, 921.02, 941.49, 989.59, 57.92, 42.14, 682.19, 684.14, 203.34, 265.89, 902.54, 222.63, 90.38, 20.29, 282.38]\n",
      "[257.34, 733.7, 867.37, 872.14, 898.68, 922.3, 968.02, 987.92, 48.93, 112.25, 92.2, 719.59, 735.75, 252.35, 317.33, 961.2, 279.16, 133.15, 74.78, 342.38]\n",
      "[297.18, 793.7, 924.99, 919.52, 944.78, 969.96, 14.59, 33.92, 107.92, 166.2, 143.27, 756.45, 786.96, 302.37, 369.76, 19.51, 335.34, 175.46, 130.27, 402.38]\n",
      "[338.01, 853.7, 982.27, 966.47, 990.45, 17.2, 60.73, 80.93, 166.58, 219.78, 195.33, 792.78, 837.79, 353.38, 421.82, 78.83, 391.16, 217.29, 186.76, 462.38]\n",
      "[379.84, 913.7, 39.2, 13.0, 35.68, 64.02, 106.44, 128.93, 224.89, 272.99, 248.39, 830.1, 888.23, 405.4, 473.49, 138.83, 446.62, 258.65, 244.25, 522.38]\n",
      "[422.67, 973.37, 95.78, 59.1, 80.46, 110.41, 151.71, 177.93, 282.86, 325.82, 302.46, 868.43, 938.27, 458.41, 524.77, 198.83, 501.72, 299.52, 302.74, 582.38]\n",
      "[466.51, 32.7, 152.01, 104.77, 124.8, 156.36, 196.54, 227.93, 340.49, 378.27, 357.52, 907.75, 987.91, 512.43, 575.66, 258.83, 556.46, 339.9, 362.23, 642.38]\n",
      "[509.88, 92.7, 207.88, 150.0, 168.69, 201.89, 240.92, 278.93, 397.77, 430.35, 413.58, 948.07, 37.14, 567.45, 626.16, 318.83, 610.83, 379.79, 422.23, 702.38]\n",
      "[552.8, 152.7, 263.39, 194.79, 212.13, 246.97, 284.85, 330.94, 454.7, 482.04, 470.65, 987.9, 87.38, 622.1, 676.27, 378.83, 664.84, 419.17, 482.23, 762.38]\n",
      "[595.25, 212.7, 318.54, 239.13, 255.1, 291.61, 328.33, 383.94, 511.28, 533.34, 528.71, 27.23, 138.61, 676.38, 725.97, 438.83, 718.48, 459.56, 542.23, 822.38]\n",
      "[637.23, 272.7, 373.33, 283.01, 297.61, 335.8, 372.8, 437.94, 567.5, 584.25, 586.43, 67.55, 190.85, 730.3, 775.27, 498.83, 771.74, 500.94, 602.23, 882.38]\n",
      "[678.73, 332.7, 427.75, 326.45, 339.64, 379.54, 418.28, 492.94, 623.37, 634.77, 643.8, 108.88, 244.09, 783.85, 824.17, 558.83, 824.62, 543.33, 662.23, 942.38]\n",
      "[719.75, 392.7, 481.81, 369.42, 381.2, 422.82, 464.76, 548.95, 678.88, 684.89, 700.82, 151.21, 298.32, 837.02, 872.66, 618.83, 877.13, 586.71, 722.23, 2.38]\n",
      "[760.28, 452.7, 535.5, 411.93, 422.28, 465.64, 512.24, 605.95, 734.03, 734.62, 757.5, 194.53, 353.56, 889.82, 920.74, 678.83, 929.26, 631.1, 781.9, 62.38]\n",
      "[800.32, 512.7, 588.81, 453.96, 462.88, 507.99, 560.71, 663.95, 788.82, 783.94, 813.82, 238.86, 409.79, 942.24, 968.39, 738.83, 981.01, 676.48, 841.23, 122.38]\n",
      "[839.86, 572.7, 641.75, 495.52, 502.98, 551.35, 610.19, 722.95, 843.25, 832.85, 869.78, 284.18, 467.03, 994.27, 15.63, 798.83, 32.36, 722.87, 900.22, 182.38]\n",
      "[878.89, 632.7, 694.31, 536.6, 544.08, 595.7, 660.67, 782.95, 897.3, 881.36, 925.39, 330.51, 525.27, 45.93, 63.87, 858.49, 84.72, 770.25, 958.88, 242.38]\n",
      "[917.41, 692.37, 746.49, 577.2, 586.18, 641.05, 712.14, 842.95, 950.99, 929.46, 980.64, 377.83, 583.16, 97.19, 113.11, 917.83, 138.08, 818.64, 17.19, 302.38]\n",
      "[955.42, 751.7, 798.29, 617.3, 629.28, 687.4, 764.62, 902.95, 4.3, 977.14, 35.52, 426.16, 640.71, 148.07, 163.35, 976.82, 192.44, 866.61, 76.51, 362.38]\n",
      "[992.89, 810.69, 849.7, 656.9, 673.38, 734.76, 818.1, 962.62, 58.62, 24.4, 91.41, 475.49, 697.9, 198.55, 214.59, 35.48, 247.79, 914.16, 136.51, 422.38]\n",
      "[29.83, 869.35, 900.72, 696.0, 718.48, 783.11, 872.57, 21.95, 112.56, 72.66, 148.3, 525.81, 754.75, 248.63, 265.44, 95.13, 304.15, 961.3, 196.51, 482.38]\n",
      "[67.78, 927.66, 951.35, 734.58, 764.58, 832.46, 926.68, 81.95, 166.14, 121.92, 206.18, 577.14, 811.25, 298.32, 315.9, 155.13, 361.51, 8.01, 256.51, 542.38]\n",
      "[106.72, 985.64, 1.58, 772.65, 811.68, 882.81, 980.42, 141.95, 219.34, 172.18, 265.07, 629.46, 867.4, 347.6, 365.96, 215.13, 418.52, 55.72, 316.51, 602.38]\n",
      "[146.66, 43.26, 52.82, 810.19, 859.78, 934.16, 33.79, 201.95, 272.16, 223.44, 324.95, 682.79, 923.18, 396.48, 415.62, 275.13, 475.18, 104.43, 376.51, 662.38]\n",
      "[186.1, 100.54, 105.05, 848.73, 908.88, 985.13, 88.16, 261.95, 324.61, 275.7, 384.95, 737.11, 978.61, 444.95, 464.88, 335.13, 531.48, 154.14, 436.51, 722.38]\n",
      "[225.04, 157.47, 158.29, 888.27, 958.98, 35.7, 143.53, 321.62, 376.68, 328.95, 444.95, 792.44, 33.68, 493.01, 513.73, 395.13, 587.43, 204.85, 496.51, 782.38]\n",
      "[263.46, 214.05, 212.52, 928.81, 8.68, 87.27, 199.89, 380.95, 428.36, 383.21, 504.95, 847.4, 89.75, 540.65, 562.17, 455.13, 643.02, 256.56, 556.51, 842.38]\n",
      "[301.36, 270.28, 267.76, 968.86, 59.38, 139.84, 257.26, 439.94, 479.65, 438.47, 564.95, 902.0, 146.82, 587.87, 610.2, 515.13, 698.26, 309.27, 616.51, 902.38]\n",
      "[338.73, 326.15, 323.99, 8.41, 111.08, 193.41, 315.63, 498.6, 530.56, 494.73, 624.95, 956.24, 204.89, 634.66, 657.81, 575.13, 753.13, 362.98, 676.51, 962.38]\n",
      "[375.57, 381.66, 379.87, 48.96, 163.78, 247.98, 375.0, 556.91, 581.07, 551.99, 684.95, 10.1, 263.96, 681.03, 705.01, 635.13, 807.63, 417.69, 736.51, 22.38]\n",
      "[411.86, 436.81, 435.39, 90.5, 217.48, 303.55, 435.0, 614.89, 631.18, 610.25, 744.62, 64.97, 323.96, 726.97, 751.78, 695.13, 861.77, 473.4, 796.17, 82.38]\n",
      "[447.6, 491.6, 490.55, 133.05, 272.18, 360.12, 495.0, 672.51, 680.9, 669.51, 803.95, 120.84, 383.96, 772.47, 798.12, 755.13, 915.54, 530.11, 855.5, 142.38]\n",
      "[484.35, 546.02, 545.35, 176.6, 327.88, 417.69, 555.0, 729.79, 730.22, 729.51, 862.95, 177.7, 443.96, 817.54, 844.03, 815.13, 968.94, 587.82, 914.5, 202.38]\n",
      "[522.09, 600.08, 599.79, 221.15, 384.59, 476.26, 615.0, 786.72, 779.12, 789.51, 921.6, 235.57, 503.96, 862.15, 889.5, 875.13, 21.96, 646.53, 973.15, 262.38]\n",
      "[560.83, 653.76, 653.85, 266.7, 442.29, 535.83, 675.0, 843.3, 827.62, 849.51, 979.92, 294.43, 563.96, 906.33, 934.54, 934.8, 75.99, 706.24, 31.47, 322.38]\n"
     ]
    }
   ],
   "source": [
    "import random\n",
    "\n",
    "# Define the parameters of the simulation\n",
    "num_vehicles = 20\n",
    "road_length = 1000\n",
    "max_speed = 60\n",
    "min_speed = 20\n",
    "time_step = 1\n",
    "\n",
    "class Vehicle:\n",
    "    def __init__(self, position):\n",
    "        self.position = position\n",
    "        self.speed = random.randint(min_speed, max_speed)\n",
    "        self.acceleration = 0\n",
    "        self.length = 5\n",
    "        self.brake_deceleration = 20\n",
    "    \n",
    "    def update(self, front_vehicle_distance):\n",
    "        # Update the speed of the vehicle based on the distance to the vehicle in front of it\n",
    "        if front_vehicle_distance is None or front_vehicle_distance > self.speed:\n",
    "            self.acceleration = 1\n",
    "        elif front_vehicle_distance <= self.speed:\n",
    "            self.acceleration = -self.brake_deceleration / max(self.speed, 1)\n",
    "        else:\n",
    "            self.acceleration = 0\n",
    "            \n",
    "        # Update the position of the vehicle based on its speed and acceleration\n",
    "        self.speed += self.acceleration * time_step\n",
    "        self.speed = max(min(self.speed, max_speed), 0)\n",
    "        self.position += self.speed * time_step\n",
    "        \n",
    "        # Wrap the vehicle around if it goes off the end of the road\n",
    "        if self.position > road_length:\n",
    "            self.position -= road_length\n",
    "        \n",
    "    def __str__(self):\n",
    "        return f\"Vehicle at position {self.position} with speed {self.speed}\"\n",
    "\n",
    "# Create a list of vehicles\n",
    "vehicles = []\n",
    "for i in range(num_vehicles):\n",
    "    position = (i + 1) * (road_length / (num_vehicles + 1))\n",
    "    vehicle = Vehicle(position)\n",
    "    vehicles.append(vehicle)\n",
    "\n",
    "# Simulate the traffic flow\n",
    "for i in range(100):\n",
    "    # Update the position of each vehicle\n",
    "    for j, vehicle in enumerate(vehicles):\n",
    "        front_vehicle_distance = None\n",
    "        if j < num_vehicles - 1:\n",
    "            front_vehicle_distance = vehicles[j+1].position - vehicle.position - vehicle.length\n",
    "        vehicle.update(front_vehicle_distance)\n",
    "        \n",
    "    # Print the positions of the vehicles\n",
    "    positions = [round(vehicle.position, 2) for vehicle in vehicles]\n",
    "    print(positions)"
   ]
  },
  {
   "attachments": {},
   "cell_type": "markdown",
   "metadata": {},
   "source": [
    "This code defines a Vehicle class that represents a single vehicle on the road, with properties such as its position, speed, acceleration, and length. The update method of the Vehicle class calculates the new position and speed of the vehicle based on its acceleration and the distance to the vehicle in front of it. The simulte loop updates the position of each vehicle for a fixed number of time steps, and prints the positions of the vehicles at each time step.\n",
    "\n",
    "This is a basic simulation that can be built upon to add more advanced algorithms for vehicle behavior and a graphical user interface."
   ]
  }
 ],
 "metadata": {
  "kernelspec": {
   "display_name": "Python 3",
   "language": "python",
   "name": "python3"
  },
  "language_info": {
   "codemirror_mode": {
    "name": "ipython",
    "version": 3
   },
   "file_extension": ".py",
   "mimetype": "text/x-python",
   "name": "python",
   "nbconvert_exporter": "python",
   "pygments_lexer": "ipython3",
   "version": "3.10.11"
  },
  "orig_nbformat": 4
 },
 "nbformat": 4,
 "nbformat_minor": 2
}
