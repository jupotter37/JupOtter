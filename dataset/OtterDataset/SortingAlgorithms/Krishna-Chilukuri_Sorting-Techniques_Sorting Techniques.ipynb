{
 "cells": [
  {
   "cell_type": "markdown",
   "metadata": {},
   "source": [
    "# <center>Sorting Techniques</center>"
   ]
  },
  {
   "cell_type": "markdown",
   "metadata": {},
   "source": [
    "Sorting techniques are used to rearrange a given list of elements as needed. There are several sorting techniques available. Some of them are:\n",
    "<ol>\n",
    "<li>Bubble Sort</li>\n",
    "<li>Insertion Sort</li>\n",
    "<li>Quick Sort</li>\n",
    "</ol>"
   ]
  },
  {
   "cell_type": "markdown",
   "metadata": {},
   "source": [
    "<u>Stability of a Sorting Technique</u>: A sorting algorithm is said to be stable if two objects with equal keys(values) appear in the same order in sorted output as they appear in the input unsorted array.<br>\n",
    "<img src=\"./stability_of_technique.png\"/>"
   ]
  },
  {
   "cell_type": "markdown",
   "metadata": {},
   "source": [
    "The following is the table which depicts the time and space complexities of different sorting techniques in <b>Big O</b> notation:\n",
    "<table>\n",
    "<tr>\n",
    "<th rowspan=\"2\">Technique</th>\n",
    "<th colspan=\"3\">Time Complexities</th>\n",
    "<th rowspan=\"2\">Space Complexity</th>\n",
    "<th rowspan=\"2\">Stability</th>\n",
    "<th rowspan=\"2\">Method Used</th>\n",
    "</tr>\n",
    "<tr>\n",
    "<th>Best Case</th>\n",
    "<th>Average Case</th>\n",
    "<th>Worst Case</th>\n",
    "</tr>\n",
    "<tr>\n",
    "<td>Bubble Sort</td>\n",
    "<td>n</td>\n",
    "<td>n<sup>2</sup></td>\n",
    "<td>n<sup>2</sup></td>\n",
    "<td>1</td>\n",
    "<td>Yes</td>\n",
    "<td>Swapping</td>\n",
    "</tr>\n",
    "<tr>\n",
    "<td>Insertion Sort</td>\n",
    "<td>n</td>\n",
    "<td>n<sup>2</sup></td>\n",
    "<td>n<sup>2</sup></td>\n",
    "<td>1</td>\n",
    "<td>Yes</td>\n",
    "<td>Insertion</td>\n",
    "</tr>\n",
    "<tr>\n",
    "<td>Quick Sort</td>\n",
    "<td>n * log(n)</td>\n",
    "<td>n * log(n)</td>\n",
    "<td>n<sup>2</sup></td>\n",
    "<td>log(n)</td>\n",
    "<td>No</td>\n",
    "<td>Partitioning (Divide & Conquer)</td>\n",
    "</tr>\n",
    "</table>"
   ]
  },
  {
   "cell_type": "markdown",
   "metadata": {},
   "source": [
    "<b><h3>Bubble Sort:</h3></b>"
   ]
  },
  {
   "cell_type": "markdown",
   "metadata": {},
   "source": [
    "* It is also referred to as <b>\"Sinking sort\"</b>.\n",
    "* It is the simplest sorting technique that works by repeatedly swapping the adjacent elements if they are in the wrong order.\n",
    "* The sorting is done from left and comparisions is done with elements.\n",
    "* After one iteration, the largest element is moved to the right most end."
   ]
  },
  {
   "cell_type": "markdown",
   "metadata": {},
   "source": [
    "<h4>Advantages:</h4>"
   ]
  },
  {
   "cell_type": "markdown",
   "metadata": {},
   "source": [
    "* Easy to implement\n",
    "* Efficient for small data sets\n",
    "* No additional memory is needed. [the sorting is done in the same list]\n",
    "* Stable sorting technique"
   ]
  },
  {
   "cell_type": "markdown",
   "metadata": {},
   "source": [
    "<h4>Disadvantages:</h4>"
   ]
  },
  {
   "cell_type": "markdown",
   "metadata": {},
   "source": [
    "* It has a worst case time complexity of <b>O(N<sup>2</sup>)</b> => It is very slow for large data sets.\n",
    "* This is not suitable for large data sets. Even for 100 items, it is very slow when compared to other techniques like quick sort, insertion sort\n",
    "<br>"
   ]
  },
  {
   "cell_type": "markdown",
   "metadata": {},
   "source": [
    "<b><h3>Insertion Sort:</h3></b>"
   ]
  },
  {
   "cell_type": "markdown",
   "metadata": {},
   "source": [
    "* It is a simple sorting algorithm that builds the final sorted list one item at a time by comparisions.\n",
    "* In this technique, the list is divided into 2 parts:<ol><li>A sorted part</li><li>An unsorted part</li></ol>\n",
    "* An element from the unsorted part is picked and placed in the correct position in the sorted part"
   ]
  },
  {
   "cell_type": "markdown",
   "metadata": {},
   "source": [
    "<h4>Advantages:</h4>"
   ]
  },
  {
   "cell_type": "markdown",
   "metadata": {},
   "source": [
    "* Easy to implement\n",
    "* Efficient for small data sets\n",
    "* If data is almost sorted, then it can be faster than merge sort.\n",
    "* No additional memory is needed. [the sorting is done in the same list]\n",
    "* Stable sorting technique"
   ]
  },
  {
   "cell_type": "markdown",
   "metadata": {},
   "source": [
    "<h4>Disadvantages:</h4>"
   ]
  },
  {
   "cell_type": "markdown",
   "metadata": {},
   "source": [
    "* It has a worst case time complexity of <b>O(N<sup>2</sup>)</b> => It is very slow for large data sets.\n",
    "* Insertion sort has a lot of swaps, which can make it slow.<br>"
   ]
  },
  {
   "cell_type": "markdown",
   "metadata": {},
   "source": [
    "<b><h3>Quick Sort:</h3></b>"
   ]
  },
  {
   "cell_type": "markdown",
   "metadata": {},
   "source": [
    "* It is a divide and conquer algorithm that picks an element as a pivot and partitions the given list into 2 sub lists around that pivot in its correct position in the sorted array.\n",
    "* There are several choices to pick the pivot:<ol><li>Pick the first element</li><li>Pick the last element</li><li>Pick the middle element</li><li>Pick a random element</i></ol>\n",
    "* "
   ]
  },
  {
   "cell_type": "markdown",
   "metadata": {},
   "source": [
    "<h4>Advantages:</h4>"
   ]
  },
  {
   "cell_type": "markdown",
   "metadata": {},
   "source": [
    "* It is efficient on large data sets. It is slightly faster than merge sort and heap sort for randomized data particularly on large distributions.\n",
    "* It has a low overhead, as it only requires a small amount of memory to function."
   ]
  },
  {
   "cell_type": "markdown",
   "metadata": {},
   "source": [
    "<h4>Disadvantages:</h4>"
   ]
  },
  {
   "cell_type": "markdown",
   "metadata": {},
   "source": [
    "* The worst case time complexity is O(N<sup>2</sup>) => Result of choosing a bad pivot.\n",
    "* It is not efficient for small data sets.\n",
    "* It is not a stable sorting technique."
   ]
  },
  {
   "cell_type": "markdown",
   "metadata": {},
   "source": []
  }
 ],
 "metadata": {
  "language_info": {
   "name": "python"
  },
  "orig_nbformat": 4
 },
 "nbformat": 4,
 "nbformat_minor": 2
}
