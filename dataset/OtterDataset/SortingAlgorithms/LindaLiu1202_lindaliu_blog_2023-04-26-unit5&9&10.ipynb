{
 "cells": [
  {
   "attachments": {},
   "cell_type": "markdown",
   "metadata": {},
   "source": [
    "# Unit 5, 9 & 10"
   ]
  },
  {
   "attachments": {},
   "cell_type": "markdown",
   "metadata": {},
   "source": [
    "## Unit 5 Hack (Putting it all together):\n",
    "Demonstrate the usage of classes and core concepts of unit 5\n",
    "\n",
    "Create a class and tester method which incorporates all core ideas taught in this post <br>\n",
    "Class which has a constructor which sets at least 1 public and 1 private attribute (incorporate “this” keyword)<br>\n",
    "Class which has public and private attributes and methods<br>\n",
    "Class which has at least 1 static attribute<br>\n",
    "Class which has getters and setters for at least 1 private attribute<br>\n",
    "Make sure to create a tester method that verifies that your class is working and shows the getters and setters working"
   ]
  },
  {
   "cell_type": "code",
   "execution_count": 7,
   "metadata": {},
   "outputs": [
    {
     "name": "stdout",
     "output_type": "stream",
     "text": [
      "student 1 name: Emily\n",
      "student 2 name: Alice\n",
      "student 1 id: 3\n",
      "student 2 id: 4\n",
      "student 1 new name: Katie\n",
      "student count: 4\n"
     ]
    }
   ],
   "source": [
    "public class Student {\n",
    "    private String name;\n",
    "    private int id;\n",
    "    private static int SID = 0; //static \n",
    "    \n",
    "        public Student(String name){ \n",
    "            this.name = name;\n",
    "            this.id = ++SID; \n",
    "        }\n",
    "    \n",
    "        public String getName(){\n",
    "            return name;\n",
    "        }\n",
    "\n",
    "        public int getID(){\n",
    "            return id;\n",
    "        }\n",
    "\n",
    "        public void setName(String newName){\n",
    "            this.name = newName;\n",
    "        }\n",
    "        \n",
    "        public String toString(){\n",
    "            return getName() + getID();\n",
    "        }\n",
    "    \n",
    "        public static int getCount(){\n",
    "            return SID;\n",
    "        }\n",
    "\n",
    "    \n",
    "        public static void main(String[] args){\n",
    "    \n",
    "        \n",
    "\n",
    "        }\n",
    "    }\n",
    "    \n",
    "    Student.main(null);"
   ]
  },
  {
   "attachments": {},
   "cell_type": "markdown",
   "metadata": {},
   "source": [
    "## Hack 2 (Putting it all together):\n",
    "Demonstrate the usage of inheritance, polymorphism and overriding methods\n",
    "\n",
    "Create a parent class of your choice <br>\n",
    "Create 2 subclasses from that parent superclass<br>\n",
    "incorporate some data and atleast one method into each class, using super keyword<br>\n",
    "Override superclass method in the subclasses<br>\n",
    "Use a tester method to create objects from the superclass that take on the forms of the subclasses, and print some outputs"
   ]
  },
  {
   "cell_type": "code",
   "execution_count": 62,
   "metadata": {},
   "outputs": [],
   "source": [
    "public class Person {\n",
    "private String name;\n",
    "    public Person(String name){\n",
    "        this.name = name;\n",
    "    }\n",
    "\n",
    "    public String getName(){\n",
    "        return name;\n",
    "    }\n",
    "\n",
    "    public void job() {\n",
    "        System.out.println(\"Work\");\n",
    "    }\n",
    "\n",
    "}"
   ]
  },
  {
   "cell_type": "code",
   "execution_count": 63,
   "metadata": {},
   "outputs": [
    {
     "name": "stdout",
     "output_type": "stream",
     "text": [
      "Emily\n",
      "Learn\n"
     ]
    }
   ],
   "source": [
    "class Student extends Person {\n",
    "\n",
    "    public Student(String name){\n",
    "        super(name);\n",
    "    }\n",
    "\n",
    "    @Override\n",
    "    public void job() {\n",
    "        System.out.println(\"Learn\");\n",
    "    }\n",
    "\n",
    "\n",
    "    public static void main(String[] args) {\n",
    "        Student student1 = new Student(\"Emily\");\n",
    "        System.out.println(student1.getName());\n",
    "        student1.job();     \n",
    "    }\n",
    "}\n",
    "\n",
    "Student.main(null);"
   ]
  },
  {
   "cell_type": "code",
   "execution_count": 65,
   "metadata": {},
   "outputs": [
    {
     "name": "stdout",
     "output_type": "stream",
     "text": [
      "Alice\n",
      "Teach\n"
     ]
    }
   ],
   "source": [
    "class Teacher extends Person {\n",
    "\n",
    "    public Teacher(String name){\n",
    "        super(name);\n",
    "    }\n",
    "\n",
    "    @Override\n",
    "    public void job() {\n",
    "        System.out.println(\"Teach\");\n",
    "    }\n",
    "\n",
    "\n",
    "    public static void main(String[] args) {\n",
    "        Teacher teacher1 = new Teacher(\"Alice\");\n",
    "        System.out.println(teacher1.getName());\n",
    "        teacher1.job();     \n",
    "    }\n",
    "}\n",
    "\n",
    "Teacher.main(null);"
   ]
  },
  {
   "attachments": {},
   "cell_type": "markdown",
   "metadata": {},
   "source": [
    "## Hacks\n",
    "Create your own recursive algorithm of any type. Options include\n",
    "\n",
    "Fibonacci, or factorial, although this is pretty basic <br>\n",
    "A more advanced version of this would be to create your own searching or sorting algorithm that utilizes recursive"
   ]
  },
  {
   "cell_type": "code",
   "execution_count": 67,
   "metadata": {},
   "outputs": [
    {
     "name": "stdout",
     "output_type": "stream",
     "text": [
      "6\n"
     ]
    }
   ],
   "source": [
    "public class Factorial {\n",
    "    public static int factorial(int n) {\n",
    "        if (n == 0) {\n",
    "            return 1;\n",
    "        } else {\n",
    "            return n * factorial(n - 1);\n",
    "        }\n",
    "    }\n",
    "\n",
    "    public static void main(String[] args) {\n",
    "        System.out.println(factorial(3)); //1*2*3\n",
    "    }\n",
    "}\n",
    "\n",
    "Factorial.main(null);"
   ]
  }
 ],
 "metadata": {
  "kernelspec": {
   "display_name": "Java",
   "language": "java",
   "name": "java"
  },
  "language_info": {
   "name": "java"
  },
  "orig_nbformat": 4
 },
 "nbformat": 4,
 "nbformat_minor": 2
}
