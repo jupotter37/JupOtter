{
 "cells": [
  {
   "cell_type": "markdown",
   "metadata": {},
   "source": [
    "# Lists"
   ]
  },
  {
   "cell_type": "markdown",
   "metadata": {},
   "source": [
    "**In this notebook, we cover the following subjects:**\n",
    "- Iterable Objects;\n",
    "- List Indexing and Slicing;\n",
    "- Mutability;\n",
    "- Operations;\n",
    "- List Methods;\n",
    "- List Functions;\n",
    "- List and Strings.\n",
    "___________________________________________________________________________________________________________________________"
   ]
  },
  {
   "cell_type": "code",
   "execution_count": null,
   "metadata": {
    "tags": []
   },
   "outputs": [],
   "source": [
    "# To enable type hints for lists, we need to import the following:\n",
    "from typing import List"
   ]
  },
  {
   "cell_type": "markdown",
   "metadata": {},
   "source": [
    "In this notebook, we will deepen our knowledge about **lists**. It is possible that you will see some of the concepts that were explained in notebook 5 (for loop), but it is always good to revisit these ideas for reinforcement."
   ]
  },
  {
   "cell_type": "markdown",
   "metadata": {},
   "source": [
    "## <span style=\"color:#4169E1\">Iterable Objects</span>\n",
    "\n",
    "\n",
    "When you can loop over (i.e., iterate through) an object, accessing each element of this object, we speak of an **iterable**. You can think of an iterable object as a container that holds multiple items, and you have the ability to inspect each item in a systematic way."
   ]
  },
  {
   "cell_type": "markdown",
   "metadata": {},
   "source": [
    "So far, we have explored various data types, and it's important to note that while some of these data types are iterable, others are not:\n",
    "\n",
    "| Data Type      | Iterable |\n",
    "|:--------------:|:--------:|\n",
    "| Lists      |   Yes    |\n",
    "| Strings    |   Yes    |\n",
    "| Tuples         |   Yes    |\n",
    "| Sets           |   Yes    |\n",
    "| Dictionaries   |   Yes    |\n",
    "| Integers   |    No    |\n",
    "| Floats     |    No    |\n",
    "| Booleans   |    No    |\n",
    "| None (NoneType)|    No    |\n",
    "| Custom Objects | It depends (can be made iterable) |\n",
    "\n",
    "If some of these data types are new to you, don’t worry; these will be explained in other notebooks."
   ]
  },
  {
   "cell_type": "markdown",
   "metadata": {},
   "source": [
    "#### <span style=\"color:#B22222\">An Example: Strings</span>\n",
    "\n",
    "As the table suggests, [strings][string] are iterable. However, you might be wondering how. If you look closely at a string, it is simply a collection of characters. To come back to our previous analogy, the string can be viewed as a container, with each character being an item within that container. Let's look at an example.\n",
    "\n",
    "[string]:https://programming-pybook.github.io/introProgramming/chapters/strings.html"
   ]
  },
  {
   "cell_type": "code",
   "execution_count": null,
   "metadata": {
    "tags": []
   },
   "outputs": [],
   "source": [
    "favourite_movie_character = \"Rubeus Hagrid\""
   ]
  },
  {
   "cell_type": "markdown",
   "metadata": {},
   "source": [
    "Here, we created a new variable and assigned the string \"Rubeus Hagrid\" to it. How can we access the individual elements?\n",
    "\n",
    "1. **Indexing**\n",
    "\n",
    "Assume you just want to know the first letter of the character’s name. Python allows you to do this through **indexing**, where you can select one of the characters in a string. Indexing can be done on many, but not all, iterables, including sequences like [strings][string], [lists][list], and [tuples][tuple], as well as [dictionaries][dict] using keys. It works as follows:\n",
    "\n",
    "[dict]:https://programming-pybook.github.io/introProgramming/chapters/dictionaries.html\n",
    "[tuple]:https://programming-pybook.github.io/introProgramming/chapters/tuples.html\n",
    "[list]:https://programming-pybook.github.io/introProgramming/chapters/lists.html\n",
    "[string]:https://programming-pybook.github.io/introProgramming/chapters/strings.html"
   ]
  },
  {
   "cell_type": "code",
   "execution_count": null,
   "metadata": {},
   "outputs": [],
   "source": [
    "print(favourite_movie_character[0])"
   ]
  },
  {
   "cell_type": "markdown",
   "metadata": {
    "tags": []
   },
   "source": [
    "We can also assign the result to a new variable:"
   ]
  },
  {
   "cell_type": "code",
   "execution_count": null,
   "metadata": {
    "tags": []
   },
   "outputs": [],
   "source": [
    "first_letter_of_favourite_movie_character = favourite_movie_character[0]\n",
    "\n",
    "print(first_letter_of_favourite_movie_character)"
   ]
  },
  {
   "cell_type": "markdown",
   "metadata": {},
   "source": [
    "The expression in square brackets is called an **index** and it only takes integer values. The index indicates which element in the sequence you want (hence the name). The first element in an iterable is obtained by index 0.\n",
    "\n",
    "| 0 | 1 | 2 | 3 | 4 |\n",
    "|---|---|---|---|---|\n",
    "| D | o | b | b | y |"
   ]
  },
  {
   "cell_type": "code",
   "execution_count": null,
   "metadata": {},
   "outputs": [],
   "source": [
    "info = \"Dobby\"[0]\n",
    "print(info)"
   ]
  },
  {
   "cell_type": "markdown",
   "metadata": {},
   "source": [
    "<div class=\"alert\" style=\"background-color: #ffecb3; color: #856404;\">\n",
    "    <b>Note</b> <br>\n",
    "    Strings are <b>immutable</b>, meaning it is not possible to change an existing string. You <b>must</b> create a\n",
    "    new string if you want to change an existing one. \n",
    "</div>"
   ]
  },
  {
   "cell_type": "markdown",
   "metadata": {},
   "source": [
    "In Python, you are also allowed to do **negative indexing**. What will the following cell print?"
   ]
  },
  {
   "cell_type": "code",
   "execution_count": null,
   "metadata": {
    "tags": []
   },
   "outputs": [],
   "source": [
    "info = \"Dobby\"[-1]\n",
    "print(info)"
   ]
  },
  {
   "cell_type": "markdown",
   "metadata": {},
   "source": [
    "You can access elements from the back using negative indexing, where `-1` corresponds to the last element.\n",
    "\n",
    "| -5 | -4 | -3 | -2 | -1 |\n",
    "|---|---|---|---|---|\n",
    "| D | o | b | b | y |"
   ]
  },
  {
   "cell_type": "markdown",
   "metadata": {},
   "source": [
    "2. **Slicing**\n",
    "\n",
    "You might like to obtain a segment of a sequence, rather than accessing just a single element. This is where **slicing** comes in, allowing you to extract segments (i.e, slices) from many iterables, such as strings, lists, and tuples. The syntax looks as follows:\n",
    "\n",
    "```python\n",
    "slice = sequence[start:stop:step]\n",
    "```\n",
    "\n",
    "- *sequence*: A string, list, tuple, or any other iterable that supports indexing.\n",
    "- *start*: The inclusive index where the slice begins.\n",
    "- *stop*: The exclusive index where the slice ends.\n",
    "- *step*: The step size between elements in the slice, default is 1.\n",
    "\n",
    "Let's demonstrate slicing with strings. First, we assign the string \"Artificial Intelligence\" to a variable."
   ]
  },
  {
   "cell_type": "code",
   "execution_count": null,
   "metadata": {
    "tags": []
   },
   "outputs": [],
   "source": [
    "ai_str: str = \"Artificial Intelligence\""
   ]
  },
  {
   "cell_type": "markdown",
   "metadata": {},
   "source": [
    "We can obtain the segment \"Intelligence\" as follows:"
   ]
  },
  {
   "cell_type": "code",
   "execution_count": null,
   "metadata": {
    "tags": []
   },
   "outputs": [],
   "source": [
    "intelligence_str: str = ai_str[11:]\n",
    "\n",
    "print(intelligence_str)"
   ]
  },
  {
   "cell_type": "markdown",
   "metadata": {},
   "source": [
    "<div class=\"alert\" style=\"background-color: #ffecb3; color: #856404;\">\n",
    "    <b>Note</b> <br>\n",
    "    The above code snippet works by slicing the string stored in ai_str. Notice that we use <code>[11:]</code>, meaning that we <b>start</b> from the value at the <b>11th</b> index and go <b>untill the end</b> of the string.\n",
    "</div>"
   ]
  },
  {
   "cell_type": "markdown",
   "metadata": {},
   "source": [
    "Now, let's think. What will be the output of the following code cells?"
   ]
  },
  {
   "cell_type": "code",
   "execution_count": null,
   "metadata": {
    "tags": []
   },
   "outputs": [],
   "source": [
    "slice_ai_str: str = ai_str[:10]\n",
    "\n",
    "print(slice_ai_str)"
   ]
  },
  {
   "cell_type": "code",
   "execution_count": null,
   "metadata": {
    "tags": []
   },
   "outputs": [],
   "source": [
    "slice_ai_str: str = ai_str[:10:-1]\n",
    "\n",
    "print(slice_ai_str)"
   ]
  },
  {
   "cell_type": "code",
   "execution_count": null,
   "metadata": {
    "tags": []
   },
   "outputs": [],
   "source": [
    "slice_ai_str: str = ai_str[::-2]\n",
    "\n",
    "print(slice_ai_str)"
   ]
  },
  {
   "cell_type": "code",
   "execution_count": null,
   "metadata": {
    "tags": []
   },
   "outputs": [],
   "source": [
    "slice_ai_str: str = ai_str[:11:2]\n",
    "\n",
    "print(slice_ai_str)"
   ]
  },
  {
   "cell_type": "markdown",
   "metadata": {},
   "source": [
    "## <span style=\"color:#4169E1\">List Indexing and Slicing</span>\n",
    "\n",
    "\n",
    "**Lists** are a data type that hold a collection of elements or items, where the elements can be of **any data type** (even other lists). Lists can also contain **duplicate** elements."
   ]
  },
  {
   "cell_type": "markdown",
   "metadata": {},
   "source": [
    "Lists can be recognized by their square brackets `[]`, and the syntax is as follows:\n",
    "\n",
    "```python\n",
    "list_name: list = [element1, element2, element3, ...]\n",
    "```"
   ]
  },
  {
   "cell_type": "markdown",
   "metadata": {},
   "source": [
    "The items in a list are **ordered** as each item corresponds to a position (i.e., index). Therefore, similar to strings, **indexing** and **slicing** can be applied to lists. Let's look as some examples."
   ]
  },
  {
   "cell_type": "code",
   "execution_count": null,
   "metadata": {
    "tags": []
   },
   "outputs": [],
   "source": [
    "characters: List[str] = [\"Harry\", \"Ron\", \"Hermione\", \"Malfoy\", \"Voldemort\"]"
   ]
  },
  {
   "cell_type": "code",
   "execution_count": null,
   "metadata": {
    "tags": []
   },
   "outputs": [],
   "source": [
    "# What will the following print statements result in?\n",
    "print(characters[0])\n",
    "print(characters[-1])\n",
    "print(characters[1:3])\n",
    "print(characters[1::2])"
   ]
  },
  {
   "cell_type": "markdown",
   "metadata": {},
   "source": [
    "<details>\n",
    "  <summary style=\"cursor: pointer; background-color: #d4edda; padding: 10px; border-radius: 5px; color: #155724; font-weight: bold;\">\n",
    "    Q: What would be the output if I print <code>characters[-1 :-1])</code>\n",
    "  </summary>\n",
    "<div style=\"background-color: #f4fdf7; padding: 12px; margin-top: 8px; border-radius: 6px; border: 1px solid #b7e4c7; color: #155724;\">\n",
    "  The output would be <code>[]</code> (an empty list) because we slice the characters list starting from -1 (the last element) until -1. But remember that the \"stop\" parameter for slicing is excluded. Therefore, we start from the last element and go until the last element, but that element  is actually excluded. That is why ultimately we get an empty list.go until the last element, but that element  is actually excluded. That is why ultimately we get an empty list.\n",
    "</div>\n",
    "\n",
    "</details>"
   ]
  },
  {
   "cell_type": "markdown",
   "metadata": {},
   "source": [
    "<div class=\"alert\" style=\"background-color: #ffecb3; color: #856404;\">\n",
    "    <b>Note</b><br>\n",
    "Remember, the typehint for a <code>list</code> is: <br>\n",
    "    <code>variable: List[data type of values in the list]</code><br>\n",
    "    \n",
    "It is possible to store values in a list which has different data types. In that case, just use the <code>any</code> keyword.\n",
    "</div>"
   ]
  },
  {
   "cell_type": "markdown",
   "metadata": {},
   "source": [
    "## <span style=\"color:#4169E1\">Mutability</span>\n",
    "\n",
    "\n",
    "Unlike strings, lists are [mutable][mutable], meaning you can modify an existing list. The syntax we use for this is very similar to indexing and slicing.\n",
    "\n",
    "[mutable]:https://programming-pybook.github.io/introProgramming/chapters/lists.html#lists-are-mutable"
   ]
  },
  {
   "cell_type": "markdown",
   "metadata": {},
   "source": [
    "First, we define an initial list."
   ]
  },
  {
   "cell_type": "code",
   "execution_count": null,
   "metadata": {
    "tags": []
   },
   "outputs": [],
   "source": [
    "pets: List[str] = [\"Dog\", \"Cat\", \"Fish\", \"Lion\", \"Bird\", \"Rabbit\", \"Hamster\"]"
   ]
  },
  {
   "cell_type": "markdown",
   "metadata": {},
   "source": [
    "Oops! We made a mistake because lions aren’t really pets, so we want to replace it with a turtle.\n",
    "\n",
    "We first need to find the index of the string `“Lion”`. Although the list is short, there’s a simple **list method** that can help us, which is especially useful when working with longer lists: `.index()`. We’ll discuss more list methods later in the notebook."
   ]
  },
  {
   "cell_type": "code",
   "execution_count": null,
   "metadata": {
    "tags": []
   },
   "outputs": [],
   "source": [
    "print(pets.index(\"Lion\"))"
   ]
  },
  {
   "cell_type": "markdown",
   "metadata": {},
   "source": [
    "The output shows that the string `\"Lion\"` is located at index 3. Now, we want to replace it with the string `\"Turtle\"`."
   ]
  },
  {
   "cell_type": "code",
   "execution_count": null,
   "metadata": {
    "tags": []
   },
   "outputs": [],
   "source": [
    "pets[3] = \"Turtle\""
   ]
  },
  {
   "cell_type": "markdown",
   "metadata": {},
   "source": [
    "What will happen if we print the list again?"
   ]
  },
  {
   "cell_type": "code",
   "execution_count": null,
   "metadata": {
    "tags": []
   },
   "outputs": [],
   "source": [
    "print(pets)"
   ]
  },
  {
   "cell_type": "markdown",
   "metadata": {},
   "source": [
    "Indeed, the string `\"Lion\"` is replaced with `\"Turtle\"`. We can even mutate a segment."
   ]
  },
  {
   "cell_type": "code",
   "execution_count": null,
   "metadata": {
    "tags": []
   },
   "outputs": [],
   "source": [
    "pets[:2] = [\"Snake\", \"Pig\"]"
   ]
  },
  {
   "cell_type": "markdown",
   "metadata": {},
   "source": [
    "What will the output be?"
   ]
  },
  {
   "cell_type": "code",
   "execution_count": null,
   "metadata": {
    "tags": []
   },
   "outputs": [],
   "source": [
    "print(pets)"
   ]
  },
  {
   "cell_type": "markdown",
   "metadata": {},
   "source": [
    "#### <span style=\"color:#B22222\">The <code>in</code> Operator</span>"
   ]
  },
  {
   "cell_type": "markdown",
   "metadata": {},
   "source": [
    "In addition to modifying the list, we can also use the `in` operator to check if certain elements are in the list. The result is a boolean value, which is handy, especially when dealing with longer lists."
   ]
  },
  {
   "cell_type": "code",
   "execution_count": null,
   "metadata": {
    "tags": []
   },
   "outputs": [],
   "source": [
    "print(\"Snake\" in pets)"
   ]
  },
  {
   "cell_type": "markdown",
   "metadata": {},
   "source": [
    "<div class=\"alert\" style=\"background-color: #ffecb3; color: #856404;\">\n",
    "    <b>Note</b> <br>\n",
    "    The <code>in </code> operator can also be used on <b>strings</b>.\n",
    "</div>"
   ]
  },
  {
   "cell_type": "markdown",
   "metadata": {},
   "source": [
    "These boolean expressions can be used to determine the flow of your program."
   ]
  },
  {
   "cell_type": "code",
   "execution_count": null,
   "metadata": {
    "tags": []
   },
   "outputs": [],
   "source": [
    "if \"Lion\" in pets:\n",
    "    print(\"A lion as a pet? Are you sure?\")\n",
    "else:\n",
    "    print(\"Luckily, lions aren't allowed as pets—they're far too dangerous!\")"
   ]
  },
  {
   "cell_type": "markdown",
   "metadata": {},
   "source": [
    "Now, with everything we've learned so far, we can create more advanced boolean expressions. What will be the output of this cell?"
   ]
  },
  {
   "cell_type": "code",
   "execution_count": null,
   "metadata": {},
   "outputs": [],
   "source": [
    "boolean_exp: bool = ((\"VU Amsterdam\"[:2] == \"VU\") or (10 ** 2 == 1000)) and (\"v\" in \"obvious\") and (not (4 > 9 or 8 < 2))\n",
    "print(boolean_exp)"
   ]
  },
  {
   "cell_type": "markdown",
   "metadata": {
    "tags": []
   },
   "source": [
    "## <span style=\"color:#4169E1\">Operations</span>\n",
    "\n",
    "\n",
    "Remember, operators can also be used on non-numeric data types, such as lists."
   ]
  },
  {
   "cell_type": "code",
   "execution_count": null,
   "metadata": {
    "tags": []
   },
   "outputs": [],
   "source": [
    "# Applying the + operator\n",
    "\n",
    "a : List[int] = [1, 2, 3]\n",
    "b : List[int] = [4, 5, 6]\n",
    "c : List[int] = a + b\n",
    "\n",
    "print(c)"
   ]
  },
  {
   "cell_type": "code",
   "execution_count": null,
   "metadata": {
    "tags": []
   },
   "outputs": [],
   "source": [
    "# And the * operator\n",
    "\n",
    "a : List[int] = [1, 2, 3] * 5\n",
    "\n",
    "print(a)"
   ]
  },
  {
   "cell_type": "markdown",
   "metadata": {},
   "source": [
    "## <span style=\"color:#4169E1\">List Methods</span>\n",
    "\n",
    "\n",
    "In Python, there are many methods that operate on lists. However, it might take some time to learn these methods by heart but luckily the `dir()` function makes this process a lot easier."
   ]
  },
  {
   "cell_type": "markdown",
   "metadata": {},
   "source": [
    "#### <span style=\"color:#B22222\">The <code>dir()</code> Function</span>\n"
   ]
  },
  {
   "cell_type": "markdown",
   "metadata": {},
   "source": [
    "The [`dir()`][panda] function returns all the attributes and methods that you can use on an object. For example:\n",
    "\n",
    "[panda]: https://www.w3schools.com/python/ref_func_dir.asp"
   ]
  },
  {
   "cell_type": "code",
   "execution_count": null,
   "metadata": {
    "tags": []
   },
   "outputs": [],
   "source": [
    "a_list: List[int] = [1, 2, 3]\n",
    "\n",
    "print(dir(a_list))"
   ]
  },
  {
   "cell_type": "markdown",
   "metadata": {},
   "source": [
    "You can also pass the data type itself as an argument to the dir function."
   ]
  },
  {
   "cell_type": "code",
   "execution_count": null,
   "metadata": {
    "tags": []
   },
   "outputs": [],
   "source": [
    "print(dir(list))"
   ]
  },
  {
   "cell_type": "markdown",
   "metadata": {},
   "source": [
    "#### <span style=\"color:#B22222\">The <code>help()</code> Function</span>\n",
    "\n",
    "\n",
    "It might still be a bit unclear what you can do with the output of the [`dir()`][car] function. Thankfully, the methods in Python are often clearly named, suggesting their functionality. To understand the usage of the methods, the [`help()`][panda] funtion can be used. Let's use the [`.append()`][gecko] method as an example.\n",
    "\n",
    "[panda]: https://www.geeksforgeeks.org/help-function-in-python/\n",
    "[car]: https://www.w3schools.com/python/ref_func_dir.asp\n",
    "[gecko]: https://www.w3schools.com/python/ref_list_append.asp"
   ]
  },
  {
   "cell_type": "code",
   "execution_count": null,
   "metadata": {
    "tags": []
   },
   "outputs": [],
   "source": [
    "help(list.append)"
   ]
  },
  {
   "cell_type": "markdown",
   "metadata": {},
   "source": [
    "The output of the [`help()`][panda] function is extremely helpful. First of all, it explains the usage of the method in plain English, namely to append an object to the end of a list. Secondly, it shows you all the parameters a method has. We'll deconstruct its components.\n",
    "\n",
    "- *self*: The *self* parameter refers to an **instance** of the object and is, when you call the method, automatically passed by Python. Don’t worry too much about self for now; it will be explained in more detail in the notebook on classes and methods.\n",
    "- *object*: The object parameter is something you provide when you call the method, as it represents the element you want to add to your list.\n",
    "- */*: The parameters before the `/` symbol are what we call **positional-only parameters**. This means you have to pass the arguments in the specific order defined by the function’s definition. The `/` symbol itself is not a parameter.\n",
    "\n",
    "[panda]: https://www.geeksforgeeks.org/help-function-in-python/"
   ]
  },
  {
   "cell_type": "markdown",
   "metadata": {},
   "source": [
    "<div class=\"alert\" style=\"background-color: #ffecb3; color: #856404;\">\n",
    "    <b>Note</b> <br>\n",
    "    In Python, the <code>dir()</code> and <code>help()</code> functions can be applied to any object, module, class, function, or data type. Together, these functions provide a clear overview of their documentation, attributes, and methods.\n",
    "</div>"
   ]
  },
  {
   "cell_type": "markdown",
   "metadata": {
    "tags": []
   },
   "source": [
    "#### <span style=\"color:#B22222\">Some Methods</span>\n",
    "\n",
    "Let's look at some list methods. "
   ]
  },
  {
   "cell_type": "markdown",
   "metadata": {},
   "source": [
    "1. **The <code>.append</code> Method**\n",
    "\n",
    "As mentioned above, we use the [`.append()`][gecko] method when we want to insert an element at **the end** of a list. We first initialise the list `sports`.\n",
    "\n",
    "[gecko]: https://www.w3schools.com/python/ref_list_append.asp"
   ]
  },
  {
   "cell_type": "code",
   "execution_count": null,
   "metadata": {
    "tags": []
   },
   "outputs": [],
   "source": [
    "sports: List[str] = [\"football\", \"hockey\", \"tennis\"]\n",
    "\n",
    "print(sports)"
   ]
  },
  {
   "cell_type": "markdown",
   "metadata": {},
   "source": [
    "Since this list is quite short, we should add a sport."
   ]
  },
  {
   "cell_type": "code",
   "execution_count": null,
   "metadata": {
    "tags": []
   },
   "outputs": [],
   "source": [
    "sports.append(\"baseball\")"
   ]
  },
  {
   "cell_type": "markdown",
   "metadata": {},
   "source": [
    "When we print the list again, we see that the new item is added to the list."
   ]
  },
  {
   "cell_type": "code",
   "execution_count": null,
   "metadata": {
    "tags": []
   },
   "outputs": [],
   "source": [
    "print(sports)"
   ]
  },
  {
   "cell_type": "markdown",
   "metadata": {},
   "source": [
    "2. **The <code>.insert()</code> Method**\n",
    "\n",
    "But what if you want to insert it somewhere else in the list? Well, then you can use [`.insert()`][lizard].\n",
    "\n",
    "[lizard]: https://www.w3schools.com/python/ref_list_insert.asp"
   ]
  },
  {
   "cell_type": "code",
   "execution_count": null,
   "metadata": {
    "tags": []
   },
   "outputs": [],
   "source": [
    "sports.insert(2, \"swimming\")\n",
    "\n",
    "print(sports)"
   ]
  },
  {
   "cell_type": "code",
   "execution_count": null,
   "metadata": {
    "tags": []
   },
   "outputs": [],
   "source": [
    "# What will happen when we use insert() outside the index bounds?\n",
    "\n",
    "sports.insert(12, \"skating\")\n",
    "\n",
    "print(sports)"
   ]
  },
  {
   "cell_type": "markdown",
   "metadata": {},
   "source": [
    "3. **Deleting: <code>.remove()</code> and <code>pop</code>**\n",
    "\n",
    "There are several ways to remove elements from a list, but the most common are [`.remove()`][rat] and [`.pop()`][parrot].\n",
    "\n",
    "The [`.remove()`][rat] method:\n",
    "- Removes the **first** occurrence of a specific value from the list.\n",
    "- It does not return the removed element, only removes it.\n",
    "- If the value does not exist in the list, it raises a `ValueError`.\n",
    "\n",
    "**Use case:** When you want to remove an item by its value rather than by its index.\n",
    "\n",
    "[rat]: https://www.w3schools.com/python/python_lists_remove.asp\n",
    "[parrot]: https://www.w3schools.com/python/ref_list_pop.asp"
   ]
  },
  {
   "cell_type": "code",
   "execution_count": null,
   "metadata": {
    "tags": []
   },
   "outputs": [],
   "source": [
    "sports.remove(\"tennis\")\n",
    "\n",
    "print(sports)"
   ]
  },
  {
   "cell_type": "code",
   "execution_count": null,
   "metadata": {
    "tags": []
   },
   "outputs": [],
   "source": [
    "# What happens if you have multiple elements of the same value in a list and you use remove()?\n",
    "\n",
    "a_list: List[int] = [1, 1, 2, 3, 1, 8, 7]\n",
    "print(a_list)\n",
    "\n",
    "a_list.remove(1)\n",
    "print(a_list)"
   ]
  },
  {
   "cell_type": "markdown",
   "metadata": {},
   "source": [
    "As mentioned above, the `.remove()` method will only remove the **first** occurence of a specific value from a list. If you would like to remove **all** occurences, consider using a `while loop` combined with the `.remove()` method. Alternatively, you can check out the [`filter()` method][f].\n",
    "\n",
    "[f]: https://www.geeksforgeeks.org/filter-in-python/"
   ]
  },
  {
   "cell_type": "markdown",
   "metadata": {},
   "source": [
    "The `.pop()` method:\n",
    "\n",
    "- Removes and returns an element from the list based on its index. (default is the last element if no index is provided)\n",
    "- If the index is out of range, it raises an `IndexError`.\n",
    "\n",
    "**Use case:** When you want to remove an item by its index and you might want to use the removed value."
   ]
  },
  {
   "cell_type": "code",
   "execution_count": null,
   "metadata": {
    "tags": []
   },
   "outputs": [],
   "source": [
    "popped_element = sports.pop(0)\n",
    "\n",
    "print(sports)\n",
    "print(popped_element)"
   ]
  },
  {
   "cell_type": "code",
   "execution_count": null,
   "metadata": {
    "tags": []
   },
   "outputs": [],
   "source": [
    "# What happens if you use pop with no parameter?\n",
    "\n",
    "sports.pop()\n",
    "print(sports)"
   ]
  },
  {
   "cell_type": "markdown",
   "metadata": {},
   "source": [
    "Remember, if no index is provided, the defualts is to pop the last element."
   ]
  },
  {
   "cell_type": "markdown",
   "metadata": {},
   "source": [
    "4. **Copying: <code>.copy()</code> and <code>=</code>**"
   ]
  },
  {
   "cell_type": "markdown",
   "metadata": {},
   "source": [
    "There are two main ways to copy the contents of one list into another:\n",
    "\n",
    "- Using the [`.copy()`][car] method.\n",
    "- Using the `=` operator.\n",
    "\n",
    "However, these two methods behave differently. Let’s explore the differences in the following examples.\n",
    "\n",
    "[car]: https://www.w3schools.com/python/ref_list_copy.asp"
   ]
  },
  {
   "cell_type": "code",
   "execution_count": null,
   "metadata": {
    "tags": []
   },
   "outputs": [],
   "source": [
    "felines: List[str] = [\"lion\", \"jaguar\", \"ocelot\", \"lynx\", \"panther\", \"tiger\", \"cheetah\", \"cougar\"]"
   ]
  },
  {
   "cell_type": "code",
   "execution_count": null,
   "metadata": {
    "tags": []
   },
   "outputs": [],
   "source": [
    "# Using .copy()\n",
    "\n",
    "cats: List[str] = felines.copy()\n",
    "print(cats)"
   ]
  },
  {
   "cell_type": "code",
   "execution_count": null,
   "metadata": {
    "tags": []
   },
   "outputs": [],
   "source": [
    "# Using =\n",
    "\n",
    "cats1: List[str] = felines\n",
    "print(cats1)"
   ]
  },
  {
   "cell_type": "markdown",
   "metadata": {},
   "source": [
    "Aren’t these the same though? Well, let’s see what happens if we change the original `felines` list. Do you think the copied lists will be affected or not when we apply the `.append()` method?"
   ]
  },
  {
   "cell_type": "code",
   "execution_count": null,
   "metadata": {
    "tags": []
   },
   "outputs": [],
   "source": [
    "felines.append(\"domestic cat\")\n",
    "\n",
    "print(\"Copied List: \", cats)\n",
    "print(\"Assigned List: \", cats1)"
   ]
  },
  {
   "cell_type": "markdown",
   "metadata": {},
   "source": [
    "Therefore, if you use the `=` operator, the new list will be updated every time the original list is updated (i.e., [aliasing][aliasing]). However, if you use `.copy()`, the copied list becomes a separate object that will not be modified when the original list changes.\n",
    "\n",
    "[aliasing]:https://programming-pybook.github.io/introProgramming/chapters/lists.html#aliasing"
   ]
  },
  {
   "cell_type": "markdown",
   "metadata": {},
   "source": [
    "5. **The `.extend()` Method**\n",
    "\n",
    "You can also extend one list with another one by using [`.extend()`][ant].\n",
    "\n",
    "[ant]: https://www.w3schools.com/python/ref_list_extend.asp"
   ]
  },
  {
   "cell_type": "code",
   "execution_count": null,
   "metadata": {
    "tags": []
   },
   "outputs": [],
   "source": [
    "subjects1: List[str] = ['data science', 'computer science', 'programming', 'statistics']\n",
    "subjects2: List[str] = ['software engineering', 'artificial intelligence']\n",
    "\n",
    "subjects1.extend(subjects2)\n",
    "\n",
    "print(subjects1)\n",
    "print(subjects2)"
   ]
  },
  {
   "cell_type": "markdown",
   "metadata": {},
   "source": [
    "<details>\n",
    "  <summary style=\"cursor: pointer; background-color: #d4edda; padding: 10px; border-radius: 5px; color: #155724; font-weight: bold;\">\n",
    "    Q: What will be the outputs of the bellow code snippet?\n",
    "  </summary>\n",
    "<div style=\"background-color: #f4fdf7; padding: 12px; margin-top: 8px; border-radius: 6px; border: 1px solid #b7e4c7; color: #155724;\">\n",
    "   The <b>first print</b> will show <code>[1, 2, 3, 4, 5, 6]</code> since we extend list_1 with list_2. In other words, we add list_2 into the end of list_1. Notice, that here we did not create a new variable to store the extended list.<br>\n",
    "    The <b>second print</b> will show <code>[4, 5, 6]</code> since that just prints list_2.<br>\n",
    "    Then we have an aesthetic print :)<br>\n",
    "    <b>Lastly, we print</b> <code>['a', 'b', 'c', 'd', 'e', 'f']</code>. Notice that in order to use the <code>+</code> operator, we assigned the value of <code>list_3 + list_4</code> to a new variable.\n",
    "    \n",
    "</div>\n",
    "</details>"
   ]
  },
  {
   "cell_type": "code",
   "execution_count": null,
   "metadata": {},
   "outputs": [],
   "source": [
    "# Think before you run it :)\n",
    "\n",
    "list_1: List[int] = [1, 2, 3]\n",
    "list_2: List[int] = [4, 5, 6]\n",
    "\n",
    "list_1.extend(list_2)\n",
    "print(list_1)\n",
    "print(list_2)\n",
    "\n",
    "print('---------')\n",
    "\n",
    "list_3: List[str] = ['a', 'b', 'c']\n",
    "list_4: List[str] = ['d', 'e', 'f']\n",
    "\n",
    "list_34 = list_3 + list_4\n",
    "print(list_34)"
   ]
  },
  {
   "cell_type": "markdown",
   "metadata": {},
   "source": [
    "6. **The `.sort()` Method**\n",
    "\n",
    "For some operations, it can be handy to have your list of elements sorted. To do this, you can use [`.sort()`][shark].\n",
    "\n",
    "When applied to a list of strings it uses alphabetical order and when the elements are integers or floats it goes from low to high.\n",
    "\n",
    "[shark]: https://www.w3schools.com/python/ref_list_sort.asp"
   ]
  },
  {
   "cell_type": "code",
   "execution_count": null,
   "metadata": {
    "tags": []
   },
   "outputs": [],
   "source": [
    "a_list_of_num: List[int] = [8, 5, 7, 2, 9, 10]\n",
    "a_list_of_num.sort()\n",
    "\n",
    "print(a_list_of_num)"
   ]
  },
  {
   "cell_type": "code",
   "execution_count": null,
   "metadata": {
    "tags": []
   },
   "outputs": [],
   "source": [
    "subjects: List[str] = ['data science', 'computer science', 'programming', 'statistics', 'software engineering', 'artificial intelligence']\n",
    "subjects.sort()\n",
    "\n",
    "print(subjects)"
   ]
  },
  {
   "cell_type": "markdown",
   "metadata": {},
   "source": [
    "## <span style=\"color:#4169E1\">List Functions</span>\n",
    "\n",
    "Now, we’ll explore some functions you can use on lists. We start with a list of numbers."
   ]
  },
  {
   "cell_type": "code",
   "execution_count": null,
   "metadata": {
    "tags": []
   },
   "outputs": [],
   "source": [
    "even_numbers: List[int] = [2, 4, 6, 8, 10]"
   ]
  },
  {
   "cell_type": "markdown",
   "metadata": {},
   "source": [
    "1. **The [`sum()`][panda] Function**: adds up the elements of a list and returns the sum.\n",
    "\n",
    "[panda]: https://www.w3schools.com/python/ref_func_sum.asp"
   ]
  },
  {
   "cell_type": "code",
   "execution_count": null,
   "metadata": {
    "tags": []
   },
   "outputs": [],
   "source": [
    "sum_even_numbers = sum(even_numbers)\n",
    "print(sum_even_numbers)"
   ]
  },
  {
   "cell_type": "markdown",
   "metadata": {},
   "source": [
    "2. **The [`len()`][sajt] Function**: returns the length of the list.\n",
    "\n",
    "[sajt]: https://www.w3schools.com/python/ref_func_len.asp"
   ]
  },
  {
   "cell_type": "code",
   "execution_count": null,
   "metadata": {
    "tags": []
   },
   "outputs": [],
   "source": [
    "len_even_numbers = len(even_numbers)\n",
    "print(len_even_numbers)"
   ]
  },
  {
   "cell_type": "markdown",
   "metadata": {},
   "source": [
    "3. **The [`min()`][sajt] Function**: returns minimum number of a list.\n",
    "\n",
    "[sajt]: https://www.w3schools.com/python/ref_func_min.asp"
   ]
  },
  {
   "cell_type": "code",
   "execution_count": null,
   "metadata": {
    "tags": []
   },
   "outputs": [],
   "source": [
    "min_even_numbers = min(even_numbers)\n",
    "print(min_even_numbers)"
   ]
  },
  {
   "cell_type": "markdown",
   "metadata": {},
   "source": [
    "4. **The [`max()`][alma] Function**: returns maximum number of a list.\n",
    "\n",
    "[alma]: https://www.w3schools.com/python/ref_func_max.asp"
   ]
  },
  {
   "cell_type": "code",
   "execution_count": null,
   "metadata": {
    "tags": []
   },
   "outputs": [],
   "source": [
    "max_even_numbers = max(even_numbers)\n",
    "print(max_even_numbers)"
   ]
  },
  {
   "cell_type": "markdown",
   "metadata": {},
   "source": [
    "## <span style=\"color:#4169E1\">List and Strings</span>\n",
    "\n",
    "\n",
    "Although they may seem similar, a list of characters is not the same as a string.\n",
    "\n",
    "You can use the `list()` to convert a string to a list. This will result in a list of individual characters as its elements."
   ]
  },
  {
   "cell_type": "code",
   "execution_count": null,
   "metadata": {
    "tags": []
   },
   "outputs": [],
   "source": [
    "ai_str: str = \"Artificial Intelligence\"\n",
    "print(ai_str)\n",
    "print(type(ai_str))"
   ]
  },
  {
   "cell_type": "code",
   "execution_count": null,
   "metadata": {
    "tags": []
   },
   "outputs": [],
   "source": [
    "ai_list: List[str] = list(ai_str)\n",
    "print(ai_list)\n",
    "print(type(ai_list))"
   ]
  },
  {
   "cell_type": "markdown",
   "metadata": {},
   "source": [
    "<div class=\"alert\" style=\"background-color: #ffecb3; color: #856404;\">\n",
    "    <b>Note</b> <br>\n",
    "    As <code>list</code> is the name of a built-in function, it should be avoided as a variable name.\n",
    "</div>"
   ]
  },
  {
   "cell_type": "markdown",
   "metadata": {},
   "source": [
    "To convert a string to a list of words, you can use the [`.split()`][snake] method.\n",
    "\n",
    "[snake]: https://www.w3schools.com/python/ref_string_split.asp"
   ]
  },
  {
   "cell_type": "code",
   "execution_count": null,
   "metadata": {
    "tags": []
   },
   "outputs": [],
   "source": [
    "claim: str = 'Data science is younger than computer science or not?'\n",
    "\n",
    "words: List[str] = claim.split()\n",
    "print(words)"
   ]
  },
  {
   "cell_type": "markdown",
   "metadata": {},
   "source": [
    "You can also split on a specific character. To do this, you use an optional argument called the **delimiter**."
   ]
  },
  {
   "cell_type": "code",
   "execution_count": null,
   "metadata": {
    "tags": []
   },
   "outputs": [],
   "source": [
    "big_word: str = 'Multi-language-programming'\n",
    "\n",
    "words: List[str] = big_word.split('-')\n",
    "print(words)"
   ]
  },
  {
   "cell_type": "markdown",
   "metadata": {},
   "source": [
    "There is also an inverse of the `split()` operation, namely the `join()`function."
   ]
  },
  {
   "cell_type": "code",
   "execution_count": null,
   "metadata": {
    "tags": []
   },
   "outputs": [],
   "source": [
    "words: List[str] = ['Data', 'science', 'is', 'fun!']\n",
    "\n",
    "sentence : str = ' '.join(words)\n",
    "print(sentence)"
   ]
  },
  {
   "cell_type": "markdown",
   "metadata": {
    "tags": []
   },
   "source": [
    "## <span style=\"color:#3CB371\">Exercises</span>"
   ]
  },
  {
   "cell_type": "markdown",
   "metadata": {},
   "source": [
    "Let's practice! Mind that each exercise is designed with multiple levels to help you progressively build your skills. <span style=\"color:darkorange;\"><strong>Level 1</strong></span> is the foundational level, designed to be straightforward so that everyone can successfully complete it. In <span style=\"color:darkorange;\"><strong>Level 2</strong></span>, we step it up a notch, expecting you to use more complex concepts or combine them in new ways. Finally, in <span style=\"color:darkorange;\"><strong>Level 3</strong></span>, we get closest to exam level questions, but we may use some concepts that are not covered in this notebook. However, in programming, you often encounter situations where you’re unsure how to proceed. Fortunately, you can often solve these problems by starting to work on them and figuring things out as you go. Practicing this skill is extremely helpful, so we highly recommend completing these exercises.\n",
    "\n",
    "For each of the exercises, make sure to add a `docstring` and `type hints`, and **do not** import any libraries unless specified otherwise.\n",
    "<br>"
   ]
  },
  {
   "cell_type": "markdown",
   "metadata": {},
   "source": [
    "### Exercise 1\n",
    "\n",
    "<span style=\"color:darkorange;\"><strong>Level 1</strong>:</span> Write a Python function called `reverse_string()` that takes a string as input and returns the reverse of the string. Make sure to use the return statement. Additionally, print the result outside of the function.\n",
    "\n",
    "**Input example:** you pass this in a function call.\n",
    "\n",
    "```python\n",
    "input_string: str = \"Python\"\n",
    "```\n",
    "\n",
    "**Output example:**\n",
    "\n",
    "```python\n",
    "\"nohtyP\"\n",
    "```"
   ]
  },
  {
   "cell_type": "code",
   "execution_count": null,
   "metadata": {
    "tags": []
   },
   "outputs": [],
   "source": [
    "# TODO."
   ]
  },
  {
   "cell_type": "markdown",
   "metadata": {},
   "source": [
    "<span style=\"color:darkorange;\"><strong>Level 2</strong>:</span> Modify the `reverse_string` function to create `reverse_string_and_check_palindrome()`. This new function should take a string as input, reverse it, and return `True` if the reversed string is a palindrome (reads the same forwards and backwards), and `False` otherwise. Use the return statement, and print the result outside of the function.\n",
    "\n",
    "**Input example:** you pass this in a function call.\n",
    "\n",
    "```python\n",
    "input_string: str = \"racecar\"\n",
    "```\n",
    "\n",
    "**Output example:**\n",
    "\n",
    "```python\n",
    "True\n",
    "```"
   ]
  },
  {
   "cell_type": "code",
   "execution_count": null,
   "metadata": {},
   "outputs": [],
   "source": [
    "# TODO."
   ]
  },
  {
   "cell_type": "markdown",
   "metadata": {},
   "source": [
    "<span style=\"color:darkorange;\"><strong>Level 3</strong>:</span> Modify the `reverse_string_and_check_palindrome()` function to:\n",
    "\n",
    "- **ignore case sensitivity** (Convert all letters to lowercase or uppercase to make comparison case-insensitive.)\n",
    "- **and non-alphanumeric characters** (Filter out characters like punctuation, spaces, and special symbols so that only letters and digits are considered.)\n",
    "\n",
    "when checking if the input string is a palindrome. \n",
    "\n",
    "**Input example:** you pass this in a function call.\n",
    "\n",
    "```python\n",
    "input_string:str = \"A man, a plan, a canal: Panama\"\n",
    "```\n",
    "\n",
    "**Output example:**\n",
    "\n",
    "```python\n",
    "True\n",
    "```\n",
    "\n"
   ]
  },
  {
   "cell_type": "code",
   "execution_count": null,
   "metadata": {},
   "outputs": [],
   "source": [
    "# TODO."
   ]
  },
  {
   "cell_type": "markdown",
   "metadata": {
    "tags": []
   },
   "source": [
    "### Exercise 2\n",
    "\n",
    "<span style=\"color:darkorange;\"><strong>Level 1</strong>:</span> Create a Python function named `find_longest_word()` that accepts a sentence as input and **returns** the longest word within that sentence. Use a `while` loop (or a `for` loop if that’s more familiar to you). In case there are several words of the same maximum length, return the first one that appears. Remember to use the return statement to provide the result. Additionally, print the result outside of the function. Assume that words are separated by spaces, and there are no punctuation marks.\n",
    "\n",
    "**Example input**: you pass this in a function call.\n",
    "```python\n",
    "input_sentence: str = \"The quick brown fox jumps over the lazy dog\"\n",
    "```\n",
    "\n",
    "**Example output**:\n",
    "```python\n",
    "\"quick\"\n",
    "```"
   ]
  },
  {
   "cell_type": "code",
   "execution_count": null,
   "metadata": {},
   "outputs": [],
   "source": [
    "# TODO."
   ]
  },
  {
   "cell_type": "markdown",
   "metadata": {},
   "source": [
    "<span style=\"color:darkorange;\"><strong>Level 2</strong>:</span>  Modify the `find_longest_word()` function to take a sentence as input and return a list of all the longest words in the sentence. If there are multiple words with the same longest length, include all of them in the list. Make sure to use the return statement. Additionally, print the result outside of the function.\n",
    "\n",
    "**Example input**: you pass this in a function call.\n",
    "```python\n",
    "input_sentence: str = \"The quick brown fox jumps over the lazy dog\"\n",
    "```\n",
    "\n",
    "**Example output**:\n",
    "```python\n",
    "[\"quick\", \"brown\", \"jumps\"]\n",
    "```"
   ]
  },
  {
   "cell_type": "code",
   "execution_count": null,
   "metadata": {},
   "outputs": [],
   "source": [
    "# TODO."
   ]
  },
  {
   "cell_type": "markdown",
   "metadata": {},
   "source": [
    "<span style=\"color:darkorange;\"><strong>Level 3</strong>:</span> Modify the `find_longest_word()` function to accept multiple sentences as input and return a dictionary where:\n",
    "\n",
    "- The keys are the sentences, and\n",
    "- The values are lists of all the longest words for each sentence (just like in Level 2).\n",
    "\n",
    "**Additional Constraints:**\n",
    "\n",
    "- The function should handle cases where sentences have different numbers of words.\n",
    "- If multiple sentences have words of the same maximum length, list all such words for each sentence.\n",
    "- Ensure that punctuation is correctly handled (i.e., remove any punctuation marks from words before checking their lengths).\n",
    "\n",
    "**Example input**: you pass this in a function call.\n",
    "```python\n",
    "input_sentences: List[str] = [\n",
    "    \"The quick brown fox jumps over the lazy dog\",\n",
    "    \"A faster fox and a smarter dog will win\",\n",
    "    \"Some punctuation, like commas, need to be removed!\"\n",
    "]\n",
    "```\n",
    "\n",
    "**Example output**:\n",
    "```python\n",
    "{\n",
    "    'The quick brown fox jumps over the lazy dog': \n",
    "['quick', 'brown', 'jumps'], \n",
    "    'A faster fox and a smarter dog will win': \n",
    "['smarter'], \n",
    "    'Some punctuation, like commas, need to be removed!':\n",
    "['punctuation']\n",
    "}\n",
    "```"
   ]
  },
  {
   "cell_type": "code",
   "execution_count": null,
   "metadata": {},
   "outputs": [],
   "source": [
    "# TODO."
   ]
  },
  {
   "cell_type": "markdown",
   "metadata": {
    "tags": []
   },
   "source": [
    "### Exercise 3\n",
    "\n",
    "<span style=\"color:darkorange;\"><strong>Level 1</strong>:</span> Write a Python function called `find_median()` that takes a list of **sorted** numbers as input and returns the median value. \n",
    "\n",
    "The median is the middle value in a **sorted** list of numbers. If the list has an even number of elements, return the average of the two middle values. Make sure to use the return statement. Additionally, print the result outside of the function.\n",
    "\n",
    "**Example input**: you pass this in a function call.\n",
    "```python\n",
    "number_list: List[int] = [1, 2, 3, 6]\n",
    "```\n",
    "\n",
    "**Example output**:\n",
    "```python\n",
    "2.5\n",
    "```"
   ]
  },
  {
   "cell_type": "code",
   "execution_count": null,
   "metadata": {
    "tags": []
   },
   "outputs": [],
   "source": [
    "# TODO."
   ]
  },
  {
   "cell_type": "markdown",
   "metadata": {},
   "source": [
    "<span style=\"color:darkorange;\"><strong>Level 2</strong>:</span>  Modify the `find_median()` function and ensure that the function works correctly even if the input list is **not** sorted. Make sure to use the return statement. Additionally, print the result outside of the function.\n",
    "\n",
    "**Example input**: you pass this in a function call.\n",
    "```python\n",
    "number_list: List[int] = [3, 1, 6, 2]\n",
    "```\n",
    "\n",
    "**Example output**:\n",
    "```python\n",
    "2.5\n",
    "```"
   ]
  },
  {
   "cell_type": "code",
   "execution_count": null,
   "metadata": {
    "tags": []
   },
   "outputs": [],
   "source": [
    "# TODO."
   ]
  },
  {
   "cell_type": "markdown",
   "metadata": {},
   "source": [
    "<span style=\"color:darkorange;\"><strong>Level 3</strong>:</span>  Instead of using a built-in sorting function, implement your own sorting algorithm, namely [BubbleSort][bubble]. Write a second function named `bubble_sort()` and call it within `find_median()`. Before you implement BubbleSort, make sure to get familiar with [looping over lists][for_loop] and the `range()` function. Make sure to use the return statement. Additionally, print the result outside of the function.\n",
    "\n",
    "<img src=\"assets/bubble.gif\" width=300 height=200>\n",
    "\n",
    "[bubble]: https://www.youtube.com/watch?v=xli_FI7CuzA\n",
    "[for_loop]:https://programming-pybook.github.io/introProgramming/chapters/lists.html#traversing-a-list"
   ]
  },
  {
   "cell_type": "code",
   "execution_count": null,
   "metadata": {},
   "outputs": [],
   "source": [
    "# TODO."
   ]
  },
  {
   "cell_type": "markdown",
   "metadata": {},
   "source": [
    "___________________________________________________________________________________________________________________________\n",
    "\n",
    "*Material for the VU Amsterdam course “Introduction to Python Programming” for BSc Artificial Intelligence students. These notebooks are created using the following sources:*\n",
    "1. [Learning Python by Doing][learning python]: This book, developed by teachers of TU/e Eindhoven and VU Amsterdam, is the main source for the course materials. Code snippets or text explanations from the book may be used in the notebooks, sometimes with slight adjustments.\n",
    "2. [Think Python][think python]\n",
    "3. [GeekForGeeks][geekforgeeks]\n",
    "\n",
    "[learning python]: https://programming-pybook.github.io/introProgramming/intro.html\n",
    "[think python]: https://greenteapress.com/thinkpython2/html/\n",
    "[geekforgeeks]: https://www.geeksforgeeks.org"
   ]
  }
 ],
 "metadata": {
  "kernelspec": {
   "display_name": "Python 3 (ipykernel)",
   "language": "python",
   "name": "python3"
  },
  "language_info": {
   "codemirror_mode": {
    "name": "ipython",
    "version": 3
   },
   "file_extension": ".py",
   "mimetype": "text/x-python",
   "name": "python",
   "nbconvert_exporter": "python",
   "pygments_lexer": "ipython3",
   "version": "3.11.4"
  },
  "vscode": {
   "interpreter": {
    "hash": "9451767feaf7925185bf37009af3205aec0103dc88a66dc09d267eb54aa4b1c3"
   }
  }
 },
 "nbformat": 4,
 "nbformat_minor": 4
}
