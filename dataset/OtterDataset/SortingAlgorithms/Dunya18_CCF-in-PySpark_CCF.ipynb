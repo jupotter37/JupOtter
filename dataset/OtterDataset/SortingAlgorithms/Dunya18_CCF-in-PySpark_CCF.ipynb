{
 "cells": [
  {
   "cell_type": "markdown",
   "metadata": {
    "application/vnd.databricks.v1+cell": {
     "cellMetadata": {},
     "inputWidgets": {},
     "nuid": "0f4746ca-784b-4ec2-b237-c9e1706951be",
     "showTitle": true,
     "title": "1. The problem"
    }
   },
   "source": [
    "Graphs serve as fundamental models for representing intricate systems like social networks, transportation grids, and biological networks. Among the core challenges in graph analysis lies the computation of connected components. A connected component comprises vertices that are pairwise connected by paths within the graph. These components find diverse applications, including community detection, network segmentation, and anomaly identification.\n"
   ]
  },
  {
   "cell_type": "markdown",
   "metadata": {
    "application/vnd.databricks.v1+cell": {
     "cellMetadata": {},
     "inputWidgets": {},
     "nuid": "0199753f-b2cd-4734-8cf9-bb237b418850",
     "showTitle": true,
     "title": "1.1 Problem formulation"
    }
   },
   "source": [
    "Our project draws insights from the research outlined in the paper \"CCF: Fast and scalable connected component computation in MapReduce\" (2014) authored by H. Kardes, S. Agrawal, X. Wang, and A. Sun.\n",
    "The authors identify a common challenge in existing algorithms designed for computing connected components within graphs. They note that these algorithms often face limitations, either due to their sluggish performance or their high memory requirements, particularly when dealing with extensive graph datasets. To address this issue, the authors propose a new approach called CCF (Connected Component Finder), which aims to provide a more efficient and scalable solution for analyzing large-scale graphs.\n",
    "Let's consider a different graph G with vertices V={A,B,C,D,E,F} and edges E={e1,e2,e3,e4,e5,e6,e7}. Here's how the components are arranged:\n",
    "\n",
    "Component 1 (C1): {A,B,C,D}\n",
    "Component 2 (C2): {E,F}\n",
    "\n",
    "These components adhere to the conditions C1∪C2=VC1∪C2=V and C1∩C2=∅C1∩C2=∅.\n",
    "Now, applying the Connected Component Finder (CCF) module to this graph yields the following output:\n",
    "\n",
    "(B,A),(C,A),(D,A),(F,E),(B,A),(C,A),(D,A),(F,E)\n",
    "\n",
    "In this output:\n",
    "\n",
    "Nodes A,B,C,A,B,C, and DD belong to Component 1, with ComponentID A.\n",
    "Nodes EE and FF form Component 2, with ComponentID E."
   ]
  },
  {
   "cell_type": "markdown",
   "metadata": {
    "application/vnd.databricks.v1+cell": {
     "cellMetadata": {},
     "inputWidgets": {},
     "nuid": "459a549b-41fc-4434-844f-fa8793e36a77",
     "showTitle": true,
     "title": "2 Implementation"
    }
   },
   "source": [
    "\n",
    "The CCF-Iterate job aims to create a mapping between each node and its corresponding componentID. It operates through a series of iterations until all components are identified. This job consists of two main phases:\n",
    "\n",
    "Map Phase: This phase extracts the links between nodes by emitting key-value and value-key pairs to ensure bidirectional link coverage.\n",
    "Reduce Phase: Here, the key-value pairs returned by the map phase are processed. They are grouped by key, and the new key is determined based on the minimum value associated with each key.\n",
    "\n",
    "The CCF-Dedup job resolves the issue of duplicate elements in the output of the CCF-Iterate job. By removing duplicates, this job enhances the efficiency of CCF-Iterate in terms of both speed and I/O overhead.\n",
    "\n",
    "In the CCF-Iterate with Secondary Sorting algorithm, a more efficient approach is implemented. By employing secondary sorting, the need for two iterations is eliminated, simplifying the algorithm and enhancing performance. The map phase remains the same as in the first CCF-Iterate. However, in the reduce phase, only one iteration is performed due to secondary sorting, which involves sorting the values associated with each key in ascending order. This sorting reduces the number of comparisons needed to create new tuples, thereby improving algorithm performance. After sorting, filtering is done on the (key, value) pairs, retaining only those where the key value is greater than the minimum value. Then, new tuples are returned by associating the smallest value with all other values of the same key directly, without additional comparisons."
   ]
  },
  {
   "cell_type": "markdown",
   "metadata": {
    "application/vnd.databricks.v1+cell": {
     "cellMetadata": {},
     "inputWidgets": {},
     "nuid": "51c6dc91-1e31-477a-9ab5-f444a761f9e9",
     "showTitle": true,
     "title": "2.1 Initialization"
    }
   },
   "source": [
    "This code initializes a SparkContext for distributed data processing and defines the path to the data directory. Then, it lists the files and directories within that directory using dbutils.fs.ls(). This setup enables efficient distributed data analysis and processing on large-scale datasets using Spark."
   ]
  },
  {
   "cell_type": "code",
   "execution_count": null,
   "metadata": {
    "application/vnd.databricks.v1+cell": {
     "cellMetadata": {
      "byteLimit": 2048000,
      "rowLimit": 10000
     },
     "inputWidgets": {},
     "nuid": "0af86ecc-13dd-436a-ace6-8aba50e20e07",
     "showTitle": false,
     "title": ""
    }
   },
   "outputs": [],
   "source": [
    "%python\n",
    "from pyspark import SparkContext, SparkConf\n",
    "sc = SparkContext.getOrCreate()"
   ]
  },
  {
   "cell_type": "code",
   "execution_count": null,
   "metadata": {
    "application/vnd.databricks.v1+cell": {
     "cellMetadata": {
      "byteLimit": 2048000,
      "rowLimit": 10000
     },
     "inputWidgets": {},
     "nuid": "edc90b2d-3ad7-4a22-be39-321d8d19a4e5",
     "showTitle": false,
     "title": ""
    }
   },
   "outputs": [
    {
     "name": "stdout",
     "output_type": "stream",
     "text": [
      "Out[2]: [FileInfo(path='dbfs:/FileStore/tables/A-1.txt', name='A-1.txt', size=74, modificationTime=1707265050000),\n",
      " FileInfo(path='dbfs:/FileStore/tables/A-2.txt', name='A-2.txt', size=74, modificationTime=1707265200000),\n",
      " FileInfo(path='dbfs:/FileStore/tables/A-3.txt', name='A-3.txt', size=74, modificationTime=1707265479000),\n",
      " FileInfo(path='dbfs:/FileStore/tables/A.txt', name='A.txt', size=74, modificationTime=1707265040000),\n",
      " FileInfo(path='dbfs:/FileStore/tables/B.txt', name='B.txt', size=77, modificationTime=1707265629000),\n",
      " FileInfo(path='dbfs:/FileStore/tables/BigData/', name='BigData/', size=0, modificationTime=0),\n",
      " FileInfo(path='dbfs:/FileStore/tables/movies_1_.csv', name='movies_1_.csv', size=494431, modificationTime=1707141680000),\n",
      " FileInfo(path='dbfs:/FileStore/tables/ratings_1_-1.csv', name='ratings_1_-1.csv', size=2483723, modificationTime=1707141830000),\n",
      " FileInfo(path='dbfs:/FileStore/tables/ratings_1_.csv', name='ratings_1_.csv', size=2483723, modificationTime=1707141801000),\n",
      " FileInfo(path='dbfs:/FileStore/tables/web_Google.txt', name='web_Google.txt', size=75380115, modificationTime=1708204379000)]"
     ]
    }
   ],
   "source": [
    "%python\n",
    "pathToData = \"/FileStore/tables/\"\n",
    "dbutils.fs.ls(pathToData)"
   ]
  },
  {
   "cell_type": "markdown",
   "metadata": {
    "application/vnd.databricks.v1+cell": {
     "cellMetadata": {},
     "inputWidgets": {},
     "nuid": "b4af20cc-0808-44f1-b65c-811e6f8d7fe9",
     "showTitle": true,
     "title": "2.2 Import and clean data"
    }
   },
   "source": [
    "In this code snippet, we perform initial data preprocessing tasks on a dataset named \"web_Google.txt\" using the Apache Spark framework. The file is described as containing data for the Google web graph, which comprises web pages and their hyperlink connections. This dataset aligns with the definition provided, where nodes represent web pages and edges represent hyperlinks between them. It's emphasized that the dataset is substantial, implying it contains a significant number of web pages and links. Initially, we load the dataset using SparkContext (sc). Then, we filter out any lines containing \"#\" characters, assuming they represent headers or comments. Following this, each line is split by the tab character (\"\\t\") to extract key-value pairs, where each pair denotes an edge in a graph. These pairs are subsequently converted from strings to integers using the int() function. Ultimately, the resulting RDD (r) contains tuples of integers representing edges between web pages, facilitating further graph analysis tasks within the Spark framework."
   ]
  },
  {
   "cell_type": "code",
   "execution_count": null,
   "metadata": {
    "application/vnd.databricks.v1+cell": {
     "cellMetadata": {
      "byteLimit": 2048000,
      "rowLimit": 10000
     },
     "inputWidgets": {},
     "nuid": "d4ea4eee-d413-4b20-8565-3cae2af9c7a2",
     "showTitle": false,
     "title": ""
    }
   },
   "outputs": [],
   "source": [
    "%python\n",
    "#Load the dataset\n",
    "raw_data = sc.textFile(pathToData+\"/web_Google.txt\")\n",
    "#Clean the data by removing the headers\n",
    "data = raw_data.filter(lambda x : \"#\" not in x)\n",
    "#Split the data to (key,value) and convert string to int \n",
    "r =  data.map(lambda x : x.split(\"\\t\")).map(lambda x: (int(x[0]), int(x[1]))) \n",
    "#r.collect()[:4]\n",
    "#Create the rdd\n",
    "#L = [(1, 2), (2, 3), (2, 4), (4, 5), (6, 7), (7, 8)]\n",
    "#r = sc.parallelize(L)\n",
    "#r.collect()\n"
   ]
  },
  {
   "cell_type": "markdown",
   "metadata": {
    "application/vnd.databricks.v1+cell": {
     "cellMetadata": {},
     "inputWidgets": {},
     "nuid": "637fcb40-8715-4d5e-bb17-351119eed343",
     "showTitle": true,
     "title": "2.3 CCF-Iterate"
    }
   },
   "source": [
    "Map phase:\n",
    "map_ccf: This function maps each edge (a, b) to both (a, b) and (b, a), ensuring that each node appears in the adjacency list of the other."
   ]
  },
  {
   "cell_type": "code",
   "execution_count": null,
   "metadata": {
    "application/vnd.databricks.v1+cell": {
     "cellMetadata": {
      "byteLimit": 2048000,
      "rowLimit": 10000
     },
     "inputWidgets": {},
     "nuid": "9f531803-66a0-4333-93aa-c00c01dd601d",
     "showTitle": false,
     "title": ""
    }
   },
   "outputs": [],
   "source": [
    "%python\n",
    "# MAP Function : emits both < a; b >, and < b; a > pairs so that a should be in the adjacency list of b and vice versa\n",
    "def map_ccf(rdd):\n",
    "    rdd = rdd.flatMap(lambda x: [(x[0], x[1]), (x[1], x[0])])\n",
    "    return rdd"
   ]
  },
  {
   "cell_type": "markdown",
   "metadata": {
    "application/vnd.databricks.v1+cell": {
     "cellMetadata": {},
     "inputWidgets": {},
     "nuid": "e555cef7-62b5-48c5-bb69-06da13cb1058",
     "showTitle": false,
     "title": ""
    }
   },
   "source": [
    "Reduce phase\n",
    "It first groups the edges by key (node) and converts the values to lists.\n",
    "Then, it finds the minimum value in each adjacency list and emits pairs (node, min_value) for nodes whose IDs are greater than the minimum value.\n",
    "It emits pairs (value, min_value) for each value in the adjacency lists, excluding the minimum value.\n",
    "It keeps track of the number of new pairs created.\n",
    "Finally, it merges the emitted pairs."
   ]
  },
  {
   "cell_type": "code",
   "execution_count": null,
   "metadata": {
    "application/vnd.databricks.v1+cell": {
     "cellMetadata": {
      "byteLimit": 2048000,
      "rowLimit": 10000
     },
     "inputWidgets": {},
     "nuid": "876fca95-c861-4e1b-989a-c275d112f8a0",
     "showTitle": false,
     "title": ""
    }
   },
   "outputs": [],
   "source": [
    "new_pairs_count = 0\n",
    "def CFF(rdd):\n",
    "    # get the adjaceny list for each node\n",
    "    AL = rdd.groupByKey().mapValues(list).partitionBy(100).cache()\n",
    "    # get the minimum value from each adjaceny list\n",
    "    rdd_min = AL.map(lambda x: (x[0], x[1], min(x[1])))\n",
    "    # get rid of actual node < minimum value\n",
    "    rdd_min = rdd_min.filter(lambda x: x[0] > x[2])\n",
    "    # remove the component id from values list\n",
    "    rdd_min = rdd_min.map(lambda x: (x[0], [val for val in x[1] if val != x[2]], x[2]))\n",
    "    # emit the actual node with the new component id\n",
    "    emit_key = rdd_min.map(lambda x: (x[0], x[2]))\n",
    "    # emit the values with the new component id\n",
    "    emit_values = rdd_min.flatMap(lambda x: [(val, x[2]) for val in x[1]])\n",
    "    # keep track of number of pairs created\n",
    "    new_pairs_count = emit_values.count()\n",
    "    # merge both the emit\n",
    "    emit_merge = emit_key.union(emit_values)\n",
    "\n",
    "    return emit_merge, new_pairs_count"
   ]
  },
  {
   "cell_type": "markdown",
   "metadata": {
    "application/vnd.databricks.v1+cell": {
     "cellMetadata": {},
     "inputWidgets": {},
     "nuid": "4c6dc932-24a3-4bb6-a338-23890f6ae9ee",
     "showTitle": true,
     "title": "2.4 CCF_Dedup"
    }
   },
   "source": [
    "\n",
    "CCF_Dedup: This function removes duplicates from the output of CCF-Iterate by grouping pairs and taking unique keys.\n"
   ]
  },
  {
   "cell_type": "code",
   "execution_count": null,
   "metadata": {
    "application/vnd.databricks.v1+cell": {
     "cellMetadata": {
      "byteLimit": 2048000,
      "rowLimit": 10000
     },
     "inputWidgets": {},
     "nuid": "cdd470e1-4232-43a4-95af-00e20844ec96",
     "showTitle": false,
     "title": ""
    }
   },
   "outputs": [],
   "source": [
    "%python\n",
    "# CCF-Dedup\n",
    "def CCF_Dedup(ccf_output):\n",
    "    dedup = ccf_output.map(lambda x: ((x[0], x[1]), 0))\n",
    "    dedup = dedup.groupByKey().mapValues(list)\n",
    "    dedup = dedup.map(lambda x: (x[0][0], x[0][1]))\n",
    "    return dedup"
   ]
  },
  {
   "cell_type": "markdown",
   "metadata": {
    "application/vnd.databricks.v1+cell": {
     "cellMetadata": {},
     "inputWidgets": {},
     "nuid": "1fb41283-2e2d-4898-9a23-824566e3e057",
     "showTitle": false,
     "title": ""
    }
   },
   "source": [
    "main_1 function implements CCF-Iterate with deduplication.\n",
    "It iterates until no new pairs are generated and return the resulting RDD along with the distribution of new pairs generated in each iteration.\n"
   ]
  },
  {
   "cell_type": "code",
   "execution_count": null,
   "metadata": {
    "application/vnd.databricks.v1+cell": {
     "cellMetadata": {
      "byteLimit": 2048000,
      "rowLimit": 10000
     },
     "inputWidgets": {},
     "nuid": "51b75c15-3a1d-4420-964d-b1f65aa2fb75",
     "showTitle": false,
     "title": ""
    }
   },
   "outputs": [],
   "source": [
    "%python\n",
    "#Main function\n",
    "def main_1(r):\n",
    "    new_pairs_count = 1\n",
    "    i = 0\n",
    "    size_distribution_plot = []\n",
    "    while new_pairs_count > 0:\n",
    "        print('iteration : %d' %(i))\n",
    "        r_map = map_ccf(r)\n",
    "        emit_merge,new_pairs_count = CFF(r_map)\n",
    "        r = CCF_Dedup(emit_merge)\n",
    "        size_distribution_plot.append([new_pairs_count,i])\n",
    "        i += 1\n",
    "        print('Pairs generated : : %d' %(new_pairs_count))\n",
    "    else :\n",
    "        return r,size_distribution_plot"
   ]
  },
  {
   "cell_type": "markdown",
   "metadata": {
    "application/vnd.databricks.v1+cell": {
     "cellMetadata": {},
     "inputWidgets": {},
     "nuid": "0ce224aa-5760-4230-99d3-b2ab7c191779",
     "showTitle": false,
     "title": ""
    }
   },
   "source": [
    "We measure the execution time using the time module. we record the starting time before executing the function (main_1(r)) and then we calculate the elapsed time after the function completes. Finally, we print the elapsed time to the console."
   ]
  },
  {
   "cell_type": "code",
   "execution_count": null,
   "metadata": {
    "application/vnd.databricks.v1+cell": {
     "cellMetadata": {
      "byteLimit": 2048000,
      "rowLimit": 10000
     },
     "inputWidgets": {},
     "nuid": "a74e12b8-5ef2-4200-af3e-3ab7906d36f7",
     "showTitle": false,
     "title": ""
    }
   },
   "outputs": [
    {
     "name": "stdout",
     "output_type": "stream",
     "text": [
      "iteration : 0\n",
      "Pairs generated : : 8552232\n",
      "iteration : 1\n",
      "Pairs generated : : 4758451\n",
      "iteration : 2\n",
      "Pairs generated : : 3278772\n",
      "iteration : 3\n",
      "Pairs generated : : 3888454\n",
      "iteration : 4\n",
      "Pairs generated : : 1905323\n",
      "iteration : 5\n",
      "Pairs generated : : 86783\n",
      "iteration : 6\n",
      "Pairs generated : : 1318\n",
      "iteration : 7\n",
      "Pairs generated : : 0\n",
      "Time spent:1433.2793982028961 s\n"
     ]
    }
   ],
   "source": [
    "import time\n",
    "start_1 = time.time()\n",
    "rdd, size_distribution_plot = main_1(r)\n",
    "end_1 = time.time()\n",
    "timespent_1 = (end_1 - start_1)\n",
    "print('Time spent:%s s' % (timespent_1))"
   ]
  },
  {
   "cell_type": "markdown",
   "metadata": {
    "application/vnd.databricks.v1+cell": {
     "cellMetadata": {},
     "inputWidgets": {},
     "nuid": "64d9ab09-4f19-443a-aefa-6a52c3143681",
     "showTitle": true,
     "title": "2.5 CFF_secondary_sorting"
    }
   },
   "source": [
    "\n",
    "Similar to CFF, but after sorting each adjacency list, it directly emits the minimum value without iterating twice.\n",
    "It emits pairs (value, min_value) for each value in the adjacency lists, excluding the minimum value.\n",
    "It keeps track of the number of new pairs created.\n",
    "Finally, it merges the emitted pairs.\n",
    "\n"
   ]
  },
  {
   "cell_type": "markdown",
   "metadata": {
    "application/vnd.databricks.v1+cell": {
     "cellMetadata": {},
     "inputWidgets": {},
     "nuid": "fe7952b4-0b49-4cc1-b4f9-31101488bf9d",
     "showTitle": false,
     "title": ""
    }
   },
   "source": [
    "The CCF-Iterate secondary sorting algorithm iterates over key-value pairs of an RDD, selecting pairs where the key is greater than the minimum value. It then returns tuples of the minimum key-value pairs and new tuples by associating the smallest values from each partition with all other values in the same partition, using a secondary sorting technique to improve performance. This process is repeated until the NewPair (number of new tuples returned) equals 0."
   ]
  },
  {
   "cell_type": "code",
   "execution_count": null,
   "metadata": {
    "application/vnd.databricks.v1+cell": {
     "cellMetadata": {
      "byteLimit": 2048000,
      "rowLimit": 10000
     },
     "inputWidgets": {},
     "nuid": "2b05b664-7d64-4e8d-9632-066ce349e9d8",
     "showTitle": false,
     "title": ""
    }
   },
   "outputs": [],
   "source": [
    "%python\n",
    "new_pairs_count = 0\n",
    "def CFF_secondary_sorting(rdd):\n",
    "    # generates adjacency lists for each node \n",
    "    AL = rdd.groupByKey().mapValues(list).partitionBy(100).cache() \n",
    "    # sort the adjaceny lists \n",
    "    Sorted_AL = AL.map(lambda x: (x[0], sorted(x[1])))\n",
    "    #get the min value for each list then get rid of the nodes inferior than the min value found\n",
    "    componentID = Sorted_AL.map(lambda x: (x[0], x[1], x[1][0])).filter(lambda x: x[0] > x[2]) \n",
    "    #remove the min from the list of values\n",
    "    valueList = componentID.map(lambda x: (x[0], x[1][1:], x[2]))\n",
    "    #first we emit the original node with the componenetID\n",
    "    emit_key = valueList.map(lambda x: (x[0], x[2]))\n",
    "    #then we emit the rest of the values in the list\n",
    "    emit_value = valueList.flatMap(lambda x: [(val, x[2]) for val in x[1]])\n",
    "    #keep the number of pairs created\n",
    "    new_pairs_count = emit_value.count()\n",
    "    #finnaly we return all the values\n",
    "    emit_merge = emit_key.union(emit_value) \n",
    "\n",
    "    return new_pairs_count, emit_merge"
   ]
  },
  {
   "cell_type": "markdown",
   "metadata": {
    "application/vnd.databricks.v1+cell": {
     "cellMetadata": {},
     "inputWidgets": {},
     "nuid": "c964ae91-a767-488f-b459-54c558f374c1",
     "showTitle": false,
     "title": ""
    }
   },
   "source": [
    "main_2 function implements CCF-Iterate with secondary sorting and deduplication.\n",
    "It iterates until no new pairs are generated and return the resulting RDD along with the distribution of new pairs generated in each iteration."
   ]
  },
  {
   "cell_type": "code",
   "execution_count": null,
   "metadata": {
    "application/vnd.databricks.v1+cell": {
     "cellMetadata": {
      "byteLimit": 2048000,
      "rowLimit": 10000
     },
     "inputWidgets": {},
     "nuid": "4ab4d031-6e37-43a9-8fee-e05981eb8ca1",
     "showTitle": false,
     "title": ""
    }
   },
   "outputs": [],
   "source": [
    "%python\n",
    "#Main function\n",
    "def main_2(r):\n",
    "    new_pairs_count = 1\n",
    "    i = 0\n",
    "    size_distribution_plot_2 = []\n",
    "    while new_pairs_count > 0:\n",
    "        print('iteration : %d' %(i))\n",
    "        r_map = map_ccf(r)\n",
    "        new_pairs_count, emit_merge = CFF_secondary_sorting(r_map)\n",
    "        r = CCF_Dedup(emit_merge)\n",
    "        size_distribution_plot_2.append([new_pairs_count,i])\n",
    "        i += 1\n",
    "        print('Pairs generated : : %d' %(new_pairs_count))\n",
    "    else :\n",
    "        return r,size_distribution_plot_2\n"
   ]
  },
  {
   "cell_type": "markdown",
   "metadata": {
    "application/vnd.databricks.v1+cell": {
     "cellMetadata": {},
     "inputWidgets": {},
     "nuid": "aae7b7ee-7689-4a12-89fb-efb3e9b65140",
     "showTitle": false,
     "title": ""
    }
   },
   "source": [
    "We measure the execution time using the time module. We record the starting time before executing the function (main_2(r)) and then we calculate the elapsed time after the function completes. Finally, we print the elapsed time to the console."
   ]
  },
  {
   "cell_type": "code",
   "execution_count": null,
   "metadata": {
    "application/vnd.databricks.v1+cell": {
     "cellMetadata": {
      "byteLimit": 2048000,
      "rowLimit": 10000
     },
     "inputWidgets": {},
     "nuid": "da22ca89-df78-4710-9666-c305c5eaa656",
     "showTitle": false,
     "title": ""
    }
   },
   "outputs": [
    {
     "name": "stdout",
     "output_type": "stream",
     "text": [
      "iteration : 0\n",
      "Pairs generated : : 8670951\n",
      "iteration : 1\n",
      "Pairs generated : : 4821525\n",
      "iteration : 2\n",
      "Pairs generated : : 3278772\n",
      "iteration : 3\n",
      "Pairs generated : : 3888454\n",
      "iteration : 4\n",
      "Pairs generated : : 1905323\n",
      "iteration : 5\n",
      "Pairs generated : : 86783\n",
      "iteration : 6\n",
      "Pairs generated : : 1318\n",
      "iteration : 7\n",
      "Pairs generated : : 0\n",
      "Time spent:1136.4478619098663 s\n"
     ]
    }
   ],
   "source": [
    "%python\n",
    "import time\n",
    "start_2 = time.time()\n",
    "rdd, size_distribution_plot_2 = main_2(r)\n",
    "end_2 = time.time()\n",
    "timespent_2 = (end_2 - start_2)\n",
    "print('Time spent:%s s' % (timespent_2))"
   ]
  },
  {
   "cell_type": "code",
   "execution_count": null,
   "metadata": {
    "application/vnd.databricks.v1+cell": {
     "cellMetadata": {
      "byteLimit": 2048000,
      "rowLimit": 10000
     },
     "inputWidgets": {},
     "nuid": "492f8f59-adf7-4006-957e-8554da969caa",
     "showTitle": false,
     "title": ""
    }
   },
   "outputs": [
    {
     "name": "stdout",
     "output_type": "stream",
     "text": [
      "Python interpreter will be restarted.\n",
      "Collecting networkx[default]\n",
      "  Downloading networkx-3.2.1-py3-none-any.whl (1.6 MB)\n",
      "Requirement already satisfied: pandas>=1.4 in /databricks/python3/lib/python3.9/site-packages (from networkx[default]) (1.4.2)\n",
      "Collecting scipy!=1.11.0,!=1.11.1,>=1.9\n",
      "  Downloading scipy-1.12.0-cp39-cp39-manylinux_2_17_x86_64.manylinux2014_x86_64.whl (38.5 MB)\n",
      "Requirement already satisfied: matplotlib>=3.5 in /databricks/python3/lib/python3.9/site-packages (from networkx[default]) (3.5.1)\n",
      "Collecting numpy>=1.22\n",
      "  Downloading numpy-1.26.4-cp39-cp39-manylinux_2_17_x86_64.manylinux2014_x86_64.whl (18.2 MB)\n",
      "Requirement already satisfied: packaging>=20.0 in /databricks/python3/lib/python3.9/site-packages (from matplotlib>=3.5->networkx[default]) (21.3)\n",
      "Requirement already satisfied: python-dateutil>=2.7 in /databricks/python3/lib/python3.9/site-packages (from matplotlib>=3.5->networkx[default]) (2.8.2)\n",
      "Requirement already satisfied: fonttools>=4.22.0 in /databricks/python3/lib/python3.9/site-packages (from matplotlib>=3.5->networkx[default]) (4.25.0)\n",
      "Requirement already satisfied: kiwisolver>=1.0.1 in /databricks/python3/lib/python3.9/site-packages (from matplotlib>=3.5->networkx[default]) (1.3.2)\n",
      "Requirement already satisfied: pyparsing>=2.2.1 in /databricks/python3/lib/python3.9/site-packages (from matplotlib>=3.5->networkx[default]) (3.0.4)\n",
      "Requirement already satisfied: cycler>=0.10 in /databricks/python3/lib/python3.9/site-packages (from matplotlib>=3.5->networkx[default]) (0.11.0)\n",
      "Requirement already satisfied: pillow>=6.2.0 in /databricks/python3/lib/python3.9/site-packages (from matplotlib>=3.5->networkx[default]) (9.0.1)\n",
      "Requirement already satisfied: pytz>=2020.1 in /databricks/python3/lib/python3.9/site-packages (from pandas>=1.4->networkx[default]) (2021.3)\n",
      "Requirement already satisfied: six>=1.5 in /databricks/python3/lib/python3.9/site-packages (from python-dateutil>=2.7->matplotlib>=3.5->networkx[default]) (1.16.0)\n",
      "Installing collected packages: numpy, scipy, networkx\n",
      "  Attempting uninstall: numpy\n",
      "    Found existing installation: numpy 1.21.5\n",
      "    Not uninstalling numpy at /databricks/python3/lib/python3.9/site-packages, outside environment /local_disk0/.ephemeral_nfs/envs/pythonEnv-3e8ed812-bc6c-4a5d-8f15-ee7f0c11536e\n",
      "    Can't uninstall 'numpy'. No files were found to uninstall.\n",
      "  Attempting uninstall: scipy\n",
      "    Found existing installation: scipy 1.7.3\n",
      "    Not uninstalling scipy at /databricks/python3/lib/python3.9/site-packages, outside environment /local_disk0/.ephemeral_nfs/envs/pythonEnv-3e8ed812-bc6c-4a5d-8f15-ee7f0c11536e\n",
      "    Can't uninstall 'scipy'. No files were found to uninstall.\n",
      "Successfully installed networkx-3.2.1 numpy-1.26.4 scipy-1.12.0\n",
      "Python interpreter will be restarted.\n"
     ]
    }
   ],
   "source": [
    "%python\n",
    "pip install networkx[default]"
   ]
  },
  {
   "cell_type": "markdown",
   "metadata": {
    "application/vnd.databricks.v1+cell": {
     "cellMetadata": {},
     "inputWidgets": {},
     "nuid": "45923560-0fcc-4784-85eb-3ee79969f5b9",
     "showTitle": false,
     "title": "Results comparaison"
    }
   },
   "source": [
    "#Results Comparison"
   ]
  },
  {
   "cell_type": "markdown",
   "metadata": {
    "application/vnd.databricks.v1+cell": {
     "cellMetadata": {},
     "inputWidgets": {},
     "nuid": "1ae1b1e8-6dd5-4266-b135-2a8c0fc2acc2",
     "showTitle": true,
     "title": "1. Number of new pairs per iteration for CCF-Iterate"
    }
   },
   "source": [
    "The graph describes how the number of newly generated pairs changes with each iteration. Initially, as the algorithm progresses, there is a significant reduction in the number of new pairs, indicating efficient identification and labeling of connected components. However, a subtle uptick in new pairs occurs between the third and fourth iterations (2,3). This minor increase could be attributed to the existence of small disconnected subgraphs or isolated nodes within the input graph, which require additional iterations to converge to their final labels. Overall, the graph demonstrates the iterative nature of the algorithm, steadily refining the component identification process with each iteration."
   ]
  },
  {
   "cell_type": "code",
   "execution_count": null,
   "metadata": {
    "application/vnd.databricks.v1+cell": {
     "cellMetadata": {
      "byteLimit": 2048000,
      "rowLimit": 10000
     },
     "inputWidgets": {},
     "nuid": "99452686-8d16-4141-964e-b6c63def0770",
     "showTitle": false,
     "title": ""
    }
   },
   "outputs": [
    {
     "name": "stdout",
     "output_type": "stream",
     "text": [
      "Out[13]: Text(0.5, 0, 'itération')"
     ]
    },
    {
     "data": {
      "image/png": "[encoded data removed]"
     },
     "metadata": {
      "application/vnd.databricks.v1+output": {
       "addedWidgets": {},
       "arguments": {},
       "data": "data:image/png;base64,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\n",
       "datasetInfos": [],
       "metadata": {},
       "removedWidgets": [],
       "type": "image"
      }
     },
     "output_type": "display_data"
    }
   ],
   "source": [
    "%python\n",
    "import networkx as nx\n",
    "import matplotlib.pyplot as plt\n",
    "#ccf_naive\n",
    "pairs = [pair[0] for pair in size_distribution_plot]\n",
    "iterations = [it[1] for it in size_distribution_plot]\n",
    "plt.plot(iterations,pairs)\n",
    "plt.ylabel(\"Pairs count\")\n",
    "plt.xlabel(\"itération\")\n",
    "\n"
   ]
  },
  {
   "cell_type": "markdown",
   "metadata": {
    "application/vnd.databricks.v1+cell": {
     "cellMetadata": {},
     "inputWidgets": {},
     "nuid": "81e93db3-6eec-4900-bd0b-85217dfeb5d2",
     "showTitle": true,
     "title": "2. Number of new pairs generated per iteration for the CCF-Iterate algorithm "
    }
   },
   "source": [
    "The number of new pairs generated per iteration is the same for both the CCF-Iterate algorithm with secondary sorting and the CCF-Iterate algorithm without secondary sorting, it suggests that the additional overhead introduced by the secondary sorting approach did not significantly impact the generation of new pairs. This could imply that the graph structure or dataset characteristics did not benefit greatly from the secondary sorting optimization, or that other factors may have influenced the performance. Further analysis and experimentation may be needed to determine the exact reason for the similar results."
   ]
  },
  {
   "cell_type": "code",
   "execution_count": null,
   "metadata": {
    "application/vnd.databricks.v1+cell": {
     "cellMetadata": {
      "byteLimit": 2048000,
      "rowLimit": 10000
     },
     "inputWidgets": {},
     "nuid": "12b8ae10-59f9-465d-ae7c-fd1f83889e8c",
     "showTitle": false,
     "title": ""
    }
   },
   "outputs": [
    {
     "name": "stdout",
     "output_type": "stream",
     "text": [
      "Out[18]: Text(0.5, 0, 'itération')"
     ]
    },
    {
     "data": {
      "image/png": "[encoded data removed]"
     },
     "metadata": {
      "application/vnd.databricks.v1+output": {
       "addedWidgets": {},
       "arguments": {},
       "data": "data:image/png;base64,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\n",
       "datasetInfos": [],
       "metadata": {},
       "removedWidgets": [],
       "type": "image"
      }
     },
     "output_type": "display_data"
    }
   ],
   "source": [
    "%python\n",
    "import networkx as nx\n",
    "import matplotlib.pyplot as plt\n",
    "#ccf_stored\n",
    "pairs_2 = [pair[0] for pair in size_distribution_plot_2]\n",
    "iterations_2 = [it[1] for it in size_distribution_plot_2]\n",
    "plt.plot(iterations_2,pairs_2)\n",
    "plt.ylabel(\"Pairs count\")\n",
    "plt.xlabel(\"iteration\")\n"
   ]
  },
  {
   "cell_type": "markdown",
   "metadata": {
    "application/vnd.databricks.v1+cell": {
     "cellMetadata": {},
     "inputWidgets": {},
     "nuid": "877c2427-21fb-441d-a697-3199c81376f2",
     "showTitle": true,
     "title": "3. Number of iterations and runtime"
    }
   },
   "source": [
    "This code generates a comparative table between the CCF naive approach and the CCF Secondary Sorting approach, presenting performance metrics such as the number of iterations and the runtime. The results indicate that both the CCF naive approach and the CCF Secondary Sorting approach required the same number of iterations, suggesting a similar convergence rate in identifying connected components. However, there is a slight difference in runtime, with the CCF Secondary Sorting approach demonstrating a slightly faster execution time compared to the CCF naive approach. This difference may be attributed to the optimization introduced by the secondary sorting technique, which enhances the efficiency of the algorithm's execution. Overall, while both approaches achieved the same outcome in terms of iterations, the secondary sorting approach exhibited slightly better runtime performance, highlighting its effectiveness in reducing computation time."
   ]
  },
  {
   "cell_type": "code",
   "execution_count": null,
   "metadata": {
    "application/vnd.databricks.v1+cell": {
     "cellMetadata": {
      "byteLimit": 2048000,
      "rowLimit": 10000
     },
     "inputWidgets": {},
     "nuid": "de94a2e3-7daf-4475-a37c-77dde219025b",
     "showTitle": false,
     "title": ""
    }
   },
   "outputs": [
    {
     "data": {
      "image/png": "[encoded data removed]"
     },
     "metadata": {
      "application/vnd.databricks.v1+output": {
       "addedWidgets": {},
       "arguments": {},
       "data": "data:image/png;base64,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\n",
       "datasetInfos": [],
       "metadata": {},
       "removedWidgets": [],
       "type": "image"
      }
     },
     "output_type": "display_data"
    }
   ],
   "source": [
    "#Performance comparaison \n",
    "#import packages\n",
    "import pandas as pd\n",
    "import matplotlib.pyplot as plt\n",
    "\n",
    "fig, ax =plt.subplots(1,1)\n",
    "data=[[size_distribution_plot[-1][1],timespent_1],\n",
    "      [size_distribution_plot_2[-1][1],timespent_2]]\n",
    "column_labels=[\"# of iterations\", \"Run time (sec)\"]\n",
    "\n",
    "#creating a 2-dimensional dataframe out of the given data\n",
    "df=pd.DataFrame(data,columns=column_labels)\n",
    "\n",
    "ax.axis('tight') #turns off the axis lines and labels\n",
    "ax.axis('off') #changes x and y axis limits such that all data is shown\n",
    "\n",
    "#plotting data\n",
    "table = ax.table(cellText=df.values,\n",
    "        colLabels=df.columns,\n",
    "        rowLabels=[\"CCF naive\",\"CCF Sencondary Sorting\"],\n",
    "        rowColours =['#A0CBE2'] * 2,\n",
    "        colColours =['#FFB6C1'] * 2,\n",
    "        loc=\"center\")\n",
    "table.set_fontsize(14)\n",
    "table.scale(1,2)\n",
    "plt.show()"
   ]
  },
  {
   "cell_type": "markdown",
   "metadata": {
    "application/vnd.databricks.v1+cell": {
     "cellMetadata": {},
     "inputWidgets": {},
     "nuid": "afbce001-fd0c-489a-94e0-2d9dc1845004",
     "showTitle": false,
     "title": ""
    }
   },
   "source": [
    "This code snippet visualizes a graph by iterating through its edges, adding them to a graph object, and then drawing the graph with colored nodes based on uniqueness. We tested it on a small graph."
   ]
  },
  {
   "cell_type": "code",
   "execution_count": null,
   "metadata": {
    "application/vnd.databricks.v1+cell": {
     "cellMetadata": {
      "byteLimit": 2048000,
      "rowLimit": 10000
     },
     "inputWidgets": {},
     "nuid": "fa4b53a9-d374-425c-897d-d618e6fe85d7",
     "showTitle": false,
     "title": ""
    }
   },
   "outputs": [
    {
     "data": {
      "image/png": "[encoded data removed]"
     },
     "metadata": {
      "application/vnd.databricks.v1+output": {
       "addedWidgets": {},
       "arguments": {},
       "data": "data:image/png;base64,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\n",
       "datasetInfos": [],
       "metadata": {},
       "removedWidgets": [],
       "type": "image"
      }
     },
     "output_type": "display_data"
    }
   ],
   "source": [
    "%python\n",
    "G = nx.Graph()\n",
    "for edge in r.collect():\n",
    "  G.add_edge(edge[0],edge[1])\n",
    "\n",
    "unique_node = r.map(lambda x : x[1]).distinct().collect()\n",
    "\n",
    "nx.draw(G,node_color=['#A0CBE2' if node in unique_node else '#FFB6C1' for node in G.nodes()], with_labels=True)\n",
    "plt.show()"
   ]
  },
  {
   "cell_type": "markdown",
   "metadata": {
    "application/vnd.databricks.v1+cell": {
     "cellMetadata": {},
     "inputWidgets": {},
     "nuid": "a33f3d06-3464-43fd-a6cb-d9ace463ba45",
     "showTitle": true,
     "title": "4. Connected component size distribution"
    }
   },
   "source": [
    "The provided graph represents the distribution of connected component sizes in a given dataset. Each point on the graph corresponds to a connected component, with the x-axis indicating the size (number of nodes) of each component and the y-axis representing the frequency or count of components of that size. The plot reveals that the majority of connected components are relatively small, with a concentration of data points towards the lower end of the size spectrum. This suggests that there are numerous small connected components in the dataset, while larger components are less frequent. Overall, the graph provides insight into the size distribution of connected components within the dataset, highlighting the prevalence of smaller components.\n"
   ]
  },
  {
   "cell_type": "code",
   "execution_count": null,
   "metadata": {
    "application/vnd.databricks.v1+cell": {
     "cellMetadata": {
      "byteLimit": 2048000,
      "rowLimit": 10000
     },
     "inputWidgets": {},
     "nuid": "8db65897-29c2-42a2-9df7-0c9b0a0b47d6",
     "showTitle": false,
     "title": ""
    }
   },
   "outputs": [
    {
     "data": {
      "image/png": "[encoded data removed]"
     },
     "metadata": {
      "application/vnd.databricks.v1+output": {
       "addedWidgets": {},
       "arguments": {},
       "data": "data:image/png;base64,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\n",
       "datasetInfos": [],
       "metadata": {},
       "removedWidgets": [],
       "type": "image"
      }
     },
     "output_type": "display_data"
    }
   ],
   "source": [
    "#Connected component size distribution\n",
    "plt.figure(figsize=(10,8))\n",
    "cc = r.map(lambda x: (x[1], x[0])).groupByKey().mapValues(list)\n",
    "cc = cc.map(lambda x: (len(x[1]), 1))\n",
    "cc = cc.reduceByKey(lambda x,y: x+y)\n",
    "X = cc.map(lambda x: x[0]).collect()\n",
    "Y = cc.map(lambda x: x[1]).collect()\n",
    "plt.plot(X, Y, 'rx')\n",
    "\n",
    "plt.xscale(\"log\")\n",
    "plt.xlabel(\"Count\")\n",
    "plt.xlim(left=1)  \n",
    "\n",
    "plt.yscale(\"log\")\n",
    "plt.ylabel(\"Size\")\n",
    "plt.ylim(bottom=1)  \n",
    "\n",
    "plt.title('Connected component size distribution')\n",
    "plt.grid(True)"
   ]
  },
  {
   "cell_type": "markdown",
   "metadata": {
    "application/vnd.databricks.v1+cell": {
     "cellMetadata": {},
     "inputWidgets": {},
     "nuid": "c1713009-77c5-4e01-bb15-37cfe44e737a",
     "showTitle": true,
     "title": "Conclusion"
    }
   },
   "source": [
    "CCF Naive and CCF with Secondary Sorting are two variations of the Connected Component Finder algorithm. While CCF Naive follows a straightforward approach, iterating over key-value pairs to identify connected components, CCF with Secondary Sorting enhances performance by incorporating secondary sorting techniques. This optimization reduces the number of iterations required for convergence, leading to improved runtime performance."
   ]
  }
 ],
 "metadata": {
  "application/vnd.databricks.v1+notebook": {
   "dashboards": [],
   "language": "python",
   "notebookMetadata": {
    "pythonIndentUnit": 4
   },
   "notebookName": "CCF",
   "widgets": {}
  },
  "language_info": {
   "name": "python"
  }
 },
 "nbformat": 4,
 "nbformat_minor": 0
}
