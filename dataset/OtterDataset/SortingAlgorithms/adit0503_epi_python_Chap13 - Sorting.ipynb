{
 "cells": [
  {
   "cell_type": "markdown",
   "metadata": {},
   "source": [
    "# Chapter 13 : Sorting\n",
    "1. Compute the intersection of two sorted arrays \n",
    "2. Merge two sorted arrays \n",
    "3. Remove first-name duplicates \n",
    "4. Smallest nonconstructible value \n",
    "5. Render a calendar \n",
    "6. Merging intervals \n",
    "7. Compute the union of intervals \n",
    "8. Partitioning and sorting an array with many repeated entries \n",
    "9. Team photo day—1 \n",
    "10. Implement a fast sorting algorithm for lists \n",
    "11. Compute a salary threshold "
   ]
  },
  {
   "cell_type": "code",
   "execution_count": 1,
   "metadata": {},
   "outputs": [],
   "source": [
    "import random, bisect, sys"
   ]
  },
  {
   "cell_type": "markdown",
   "metadata": {},
   "source": [
    "### 13.0 Sort Students by GPA"
   ]
  },
  {
   "cell_type": "code",
   "execution_count": null,
   "metadata": {},
   "outputs": [],
   "source": [
    "#O(nlogn)\n",
    "\n",
    "class Student(object):\n",
    "    def __init__(self, name, gpa):\n",
    "        self.name = name\n",
    "        self.gpa = gpa\n",
    "    \n",
    "    def __lt__(self, other):\n",
    "        return self.name < other.name"
   ]
  },
  {
   "cell_type": "code",
   "execution_count": null,
   "metadata": {},
   "outputs": [],
   "source": [
    "students = [Student('A',4.0),Student('B',3.0),Student('C',2.0),Student('D',1.0)]"
   ]
  },
  {
   "cell_type": "code",
   "execution_count": null,
   "metadata": {},
   "outputs": [],
   "source": [
    "byName = sorted(students)\n",
    "[stu.name for stu in byName]"
   ]
  },
  {
   "cell_type": "code",
   "execution_count": null,
   "metadata": {},
   "outputs": [],
   "source": [
    "byGpa = sorted(students, key=lambda student:student.gpa)\n",
    "[stu.name for stu in byGpa]"
   ]
  },
  {
   "cell_type": "markdown",
   "metadata": {},
   "source": [
    "### [13.1 Compute the Intersection of Two Sorted Arrays](https://leetcode.com/problems/intersection-of-two-arrays/)"
   ]
  },
  {
   "cell_type": "code",
   "execution_count": null,
   "metadata": {},
   "outputs": [],
   "source": [
    "class IntersectionArrays:\n",
    "    \n",
    "    #O(n*m)\n",
    "    def compute1(self, nums1, nums2):\n",
    "        set1 = set(nums1)\n",
    "        set2 = set(nums2)\n",
    "        \n",
    "        return list(set1 & set2)\n",
    "    \n",
    "    #O(n*m)\n",
    "    def compute2(self, nums1, nums2):\n",
    "        return [n1 for i,n1 in enumerate(nums1) if (i==0 or n1!=nums1[i-1]) and n1 in nums2]\n",
    "    \n",
    "    #O(nlogm)\n",
    "    def compute3(self, nums1, nums2):\n",
    "        def isPresent(k):\n",
    "            i = bisect.bisect_left(nums2, k)\n",
    "            return i<len(nums2) and nums2[i] == k\n",
    "        \n",
    "        return [n1 for i,n1 in enumerate(nums1) if (i==0 or n1!=nums1[i-1]) and isPresent(n1)]\n",
    "    \n",
    "    #O(n+m)\n",
    "    def compute4(self, nums1, nums2):\n",
    "        res = []\n",
    "        n,m = len(nums1), len(nums2)\n",
    "        i,j = 0, 0\n",
    "        while(i<n and j<m):\n",
    "            if nums1[i] == nums2[j]:\n",
    "                if i==0 or nums1[i]!=nums1[i-1]:\n",
    "                    res.append(nums1[i])\n",
    "                i += 1\n",
    "                j += 1\n",
    "            elif nums1[i] < nums2[j]:\n",
    "                i += 1\n",
    "            else:\n",
    "                j += 1\n",
    "        return res\n",
    "    \n",
    "    #O(n+m)\n",
    "    def compute5(self, nums1, nums2):\n",
    "        res = []\n",
    "        n,m = len(nums1), len(nums2)\n",
    "        i,j = 0, 0\n",
    "        while(i<n and j<m):\n",
    "            if nums1[i] == nums2[j]:\n",
    "                res.append(nums1[i])\n",
    "                i += 1\n",
    "                j += 1\n",
    "            elif nums1[i] < nums2[j]:\n",
    "                i += 1\n",
    "            else:\n",
    "                j += 1\n",
    "        return res"
   ]
  },
  {
   "cell_type": "code",
   "execution_count": null,
   "metadata": {},
   "outputs": [],
   "source": [
    "IA = IntersectionArrays()\n",
    "\n",
    "Nums1 = sorted([random.randint(1,10) for _ in range(14)])\n",
    "Nums2 = sorted([random.randint(1,10) for _ in range(16)])\n",
    "print(Nums1,Nums2)\n",
    "\n",
    "print(IA.compute5(Nums1,Nums2))"
   ]
  },
  {
   "cell_type": "markdown",
   "metadata": {},
   "source": [
    "### [13.2 Merge Two Sorted Arrays](https://leetcode.com/problems/merge-sorted-array/)"
   ]
  },
  {
   "cell_type": "code",
   "execution_count": null,
   "metadata": {},
   "outputs": [],
   "source": [
    "class MergeArrays:\n",
    "    \n",
    "    #O(n+m)\n",
    "    def sorted1(self, nums1, n, nums2, m):\n",
    "        k = n+m-1\n",
    "        i,j = n-1,m-1\n",
    "        while(i>-1 or j>-1):\n",
    "            n1 = nums1[i] if i>-1 else -sys.maxsize\n",
    "            n2 = nums2[j] if j>-1 else -sys.maxsize\n",
    "            \n",
    "            if n1>n2:\n",
    "                nums1[k] = n1\n",
    "                i -= 1\n",
    "            else:\n",
    "                nums1[k] = n2\n",
    "                j -= 1\n",
    "            k -= 1\n",
    "        return nums1\n",
    "    \n",
    "    def sorted2(self, nums1, n, nums2, m):\n",
    "        k = n+m-1\n",
    "        i,j = n-1,m-1\n",
    "        while(i>-1 and j>-1):\n",
    "            if nums1[i]>nums2[j]:\n",
    "                nums1[k] = nums1[i]\n",
    "                i-=1\n",
    "            else:\n",
    "                nums1[k] = nums2[j]\n",
    "                j -= 1\n",
    "            k -= 1\n",
    "        while(j>-1):\n",
    "            nums1[k] = nums2[j]\n",
    "            j -= 1\n",
    "            k -= 1\n",
    "        return nums1"
   ]
  },
  {
   "cell_type": "code",
   "execution_count": null,
   "metadata": {},
   "outputs": [],
   "source": [
    "MA = MergeArrays()\n",
    "\n",
    "nums1 = sorted(random.randint(-100, 100) for _ in range(random.randrange(15)))\n",
    "nums2 = sorted(random.randint(-100, 100) for _ in range(random.randrange(15)))\n",
    "n,m  = len(nums1), len(nums2)\n",
    "nums1.extend([0]*len(nums2))\n",
    "\n",
    "print(nums1, nums2)\n",
    "print(MA.sorted2(nums1, n, nums2, m))"
   ]
  },
  {
   "cell_type": "markdown",
   "metadata": {},
   "source": [
    "### 13.3 Remove First-Name Duplicates"
   ]
  },
  {
   "cell_type": "code",
   "execution_count": null,
   "metadata": {},
   "outputs": [],
   "source": [
    "class RemoveDuplicates:\n",
    "    \n",
    "    #O(n)\n",
    "    def firstNames1(self, S):\n",
    "        temp = {}\n",
    "        for s in S:\n",
    "            temp[s[0]] = temp.get(s[0],[])+[s[1]]\n",
    "        \n",
    "        res = []\n",
    "        for k,v in temp.items():\n",
    "            res.append((k,v[0]))\n",
    "        return res\n",
    "    \n",
    "    #O(nlogn)\n",
    "    def firstNames2(self, S):\n",
    "        S = sorted(S)\n",
    "        i = 1\n",
    "        for s in S[1:]:\n",
    "            if s[0] != S[i-1][0]:\n",
    "                S[i] = s\n",
    "                i += 1\n",
    "        del S[i:]\n",
    "        return S"
   ]
  },
  {
   "cell_type": "code",
   "execution_count": null,
   "metadata": {},
   "outputs": [],
   "source": [
    "RD = RemoveDuplicates()\n",
    "\n",
    "S = [('Ian', 'Botham'), ('David', 'Gower'), ('Ian', 'Bell'), ('Ian', 'Chappell')]\n",
    "RD.firstNames2(S)"
   ]
  },
  {
   "cell_type": "markdown",
   "metadata": {},
   "source": [
    "###  13.4 Smallest NonConstructible Value"
   ]
  },
  {
   "cell_type": "code",
   "execution_count": null,
   "metadata": {},
   "outputs": [],
   "source": [
    "class SmallestValue:\n",
    "    \n",
    "    #O(nlogn)\n",
    "    def compute1(self, nums):\n",
    "        val = 0\n",
    "        for n in sorted(nums):\n",
    "            if n>val+1:\n",
    "                break\n",
    "            val += n\n",
    "        return val+1"
   ]
  },
  {
   "cell_type": "code",
   "execution_count": null,
   "metadata": {},
   "outputs": [],
   "source": [
    "SV = SmallestValue()\n",
    "\n",
    "Nums = [random.randint(1,10) for _ in range(random.randrange(15))]\n",
    "print(sorted(Nums))\n",
    "print(SV.compute1(Nums))"
   ]
  },
  {
   "cell_type": "markdown",
   "metadata": {},
   "source": [
    "### 13.5 Render a Calender"
   ]
  },
  {
   "cell_type": "code",
   "execution_count": null,
   "metadata": {},
   "outputs": [],
   "source": [
    "class MaximumOverlap:\n",
    "    \n",
    "    #O(n)\n",
    "    def find1(self, intervals):\n",
    "        points = []\n",
    "        for n in intervals:\n",
    "            points.extend([(n[0],0),(n[1],1)])\n",
    "        points.sort()\n",
    "        val,maxval = 0,0\n",
    "        for p in points:\n",
    "            if not p[1]:\n",
    "                val += 1\n",
    "                maxval = max(maxval,val)\n",
    "            else:\n",
    "                val -= 1\n",
    "        return maxval"
   ]
  },
  {
   "cell_type": "code",
   "execution_count": null,
   "metadata": {},
   "outputs": [],
   "source": [
    "MO = MaximumOverlap()\n",
    "\n",
    "Nums = [(1,5),(6,10),(11,13),(14,15),(2,7),(8,9),(12,15),(4,5),(9,17)]\n",
    "MO.find1(Nums)"
   ]
  },
  {
   "cell_type": "markdown",
   "metadata": {},
   "source": [
    "### Variant5: 1. Maximum Bandwidth Usage"
   ]
  },
  {
   "cell_type": "code",
   "execution_count": null,
   "metadata": {},
   "outputs": [],
   "source": [
    "class Variant5:\n",
    "    \n",
    "    def variant1(self, intervals, bandwidths):\n",
    "        n = len(bandwidths)\n",
    "        points = []\n",
    "        for i in range(n):\n",
    "            points.extend([(intervals[i][0],bandwidths[i],0),(intervals[i][1],bandwidths[i],1)])\n",
    "        points.sort()\n",
    "        \n",
    "        maxB,B = 0,0\n",
    "        for p in points:\n",
    "            if not p[2]:\n",
    "                B += p[1]\n",
    "            else:\n",
    "                maxB = max(maxB, B)\n",
    "                B -= p[1]\n",
    "        return maxB"
   ]
  },
  {
   "cell_type": "code",
   "execution_count": null,
   "metadata": {},
   "outputs": [],
   "source": [
    "V5 = Variant5()\n",
    "\n",
    "INTERVAL = [[(10,50),(15,30),(20,40),(45,70)],[(10,50),(15,30),(20,40),(25,70)],[(1,30),(31,60),(61,120),(1,20),(21,40),(41,60),(61,120),(1,60),(61,120)]]\n",
    "BANDWIDTH = [[20,5,10,45],[20,5,10,15],[2,4,3,2,4,5,3,4,4]]\n",
    "\n",
    "for interval,bandwidth in zip(INTERVAL,BANDWIDTH):\n",
    "    print(V5.variant1(interval,bandwidth))"
   ]
  },
  {
   "cell_type": "markdown",
   "metadata": {},
   "source": [
    "### [13.6 Merging Intervals](https://leetcode.com/problems/insert-interval/)"
   ]
  },
  {
   "cell_type": "code",
   "execution_count": null,
   "metadata": {},
   "outputs": [],
   "source": [
    "class MergingIntervals:\n",
    "    \n",
    "    #O(n)\n",
    "    def merge1(self, intervals, new):\n",
    "        i,res = 0,[]\n",
    "        while(i<len(intervals) and new[0] > intervals[i][1]):\n",
    "            res.append(intervals[i])\n",
    "            i += 1\n",
    "        while(i<len(intervals) and new[1]>=intervals[i][0]):\n",
    "            new[0] = min(new[0],intervals[i][0])\n",
    "            new[1] = max(new[1],intervals[i][1])\n",
    "            i += 1\n",
    "        return res + [new] + intervals[i:]"
   ]
  },
  {
   "cell_type": "code",
   "execution_count": null,
   "metadata": {},
   "outputs": [],
   "source": [
    "MI = MergingIntervals()\n",
    "\n",
    "INTERVALS = [[-4,-1],[0,2],[3,6],[7,9],[11,12],[14,17]]\n",
    "NEW = [1,8]\n",
    "\n",
    "MI.merge1(INTERVALS,NEW)"
   ]
  },
  {
   "cell_type": "markdown",
   "metadata": {},
   "source": [
    "### [13.7 Compute the Union of Intervals](https://leetcode.com/problems/merge-intervals/)"
   ]
  },
  {
   "cell_type": "code",
   "execution_count": 2,
   "metadata": {},
   "outputs": [],
   "source": [
    "class UnionIntervals:\n",
    "    \n",
    "    def merge1(self, intervals):\n",
    "        intervals.sort(key=lambda x:x[0])\n",
    "        res = [intervals[0]]\n",
    "        \n",
    "        for interval in intervals:\n",
    "            if intervals and (interval[0]<=res[-1][1]):\n",
    "                if interval[1]>=res[-1][1]:\n",
    "                    res[-1][1] = interval[1]\n",
    "            else:\n",
    "                res.append(interval)\n",
    "        \n",
    "        return res"
   ]
  },
  {
   "cell_type": "code",
   "execution_count": 3,
   "metadata": {},
   "outputs": [
    {
     "name": "stdout",
     "output_type": "stream",
     "text": [
      "[[1, 6], [8, 10], [15, 18]]\n",
      "[[1, 5]]\n"
     ]
    }
   ],
   "source": [
    "UI = UnionIntervals()\n",
    "\n",
    "INTERVALS = [[[1,3],[2,6],[8,10],[15,18]], [[1,4],[4,5]]]\n",
    "for INTERVAL in INTERVALS:\n",
    "    print(UI.merge1(INTERVAL))"
   ]
  },
  {
   "cell_type": "code",
   "execution_count": null,
   "metadata": {},
   "outputs": [],
   "source": []
  }
 ],
 "metadata": {
  "kernelspec": {
   "display_name": "Python 3",
   "language": "python",
   "name": "python3"
  },
  "language_info": {
   "codemirror_mode": {
    "name": "ipython",
    "version": 3
   },
   "file_extension": ".py",
   "mimetype": "text/x-python",
   "name": "python",
   "nbconvert_exporter": "python",
   "pygments_lexer": "ipython3",
   "version": "3.8.5"
  }
 },
 "nbformat": 4,
 "nbformat_minor": 4
}
