{
 "cells": [
  {
   "cell_type": "markdown",
   "source": [
    "# Get Started with .NET Interactive Notebooks\r\n",
    "\r\n",
    "Welcome to .NET Interactive Notebooks. Notebooks are comprised of cells. Hover over each cell to see a cell tool bar appear on the top right of the cell. There are two types of cells.\r\n",
    "\r\n",
    "## Markdown Cells\r\n",
    "\r\n",
    "* Markdown cells display content like this one!\r\n",
    "\r\n",
    "* Double click on a markdown cell to start editing. Double click on this cell to check out the markdown.\r\n",
    "\r\n",
    "* Click the checkmark on the cell tool bar or press `Ctrl+Enter` (`Cmd+Enter`) to stop editing a markdown cell.\r\n",
    "\r\n",
    "## Code cells\r\n",
    "\r\n",
    "* Code cells contain code that can be run.\r\n",
    "\r\n",
    "* Hover over code cell to reveal a play button the left side.\r\n",
    "\r\n",
    "* Click the play button or press `Ctrl+Alt+Enter` (`Cmd+Opt+Enter`) to run a code cell.\r\n",
    "\r\n",
    "* You will explore more about them as you keep reading."
   ],
   "metadata": {
    "dotnet_interactive": {
     "language": "csharp"
    }
   }
  },
  {
   "cell_type": "markdown",
   "source": [
    "# Quick Start Guide to Markdown \r\n",
    "\r\n",
    "Markdown is a lightweight markup language for creating formatted text. Lets see some of the things you can do with it!\r\n",
    "\r\n",
    "To learn more, see [Basic Syntax | Markdown](https://www.markdownguide.org/basic-syntax/) and [Extended Syntax | Markdown](https://www.markdownguide.org/extended-syntax/).\r\n"
   ],
   "metadata": {}
  },
  {
   "cell_type": "markdown",
   "source": [
    "## Text\r\n",
    "\r\n",
    "Use \\# for headings, like\r\n",
    "\r\n",
    "\\# Heading 1\r\n",
    "\r\n",
    "\\#\\# Heading 2\r\n",
    "\r\n",
    "\\#\\#\\# Heading 3\r\n",
    "\r\n",
    "etc\r\n",
    "\r\n",
    "normal, **bold**, *italic*, ***bold and italic***\r\n",
    "> a block quote\r\n",
    ">> a nested block quote"
   ],
   "metadata": {}
  },
  {
   "cell_type": "markdown",
   "source": [
    "## Organizating Information\r\n",
    "\r\n",
    "An ordered list:\r\n",
    "1. Introduction\r\n",
    "2. Body\r\n",
    "    1. Body 1\r\n",
    "    2. Body 2\r\n",
    "3. Conclusion\r\n",
    "\r\n",
    "An unordered list:\r\n",
    "- Spatula\r\n",
    "- Charcoal\r\n",
    "- Meats\r\n",
    "    - Patty\r\n",
    "    - Ribs\r\n",
    "- Condiments\r\n",
    "\r\n",
    "A table\r\n",
    "\r\n",
    "| Sorting algorithm | Time complexity | Stable ? |\r\n",
    "| ----------- | ----------- | ----- |\r\n",
    "| Bubble sort | $O(n^2)$ | Yes |\r\n",
    "| Selection sort | $O(n^2)$ | No |\r\n",
    "| Merge sort | $O(n \\log n)$ | Yes |\r\n",
    "| Quicksort | $O(n \\log n)$ | No |"
   ],
   "metadata": {}
  },
  {
   "cell_type": "markdown",
   "source": [
    "## Code\r\n",
    "\r\n",
    "Writing code inline: `val maxFn = fn (a, b) => if a > b then a else b`\r\n",
    "\r\n",
    "A code block:\r\n",
    "```\r\n",
    "{\r\n",
    "  \"firstName\": \"John\",\r\n",
    "  \"lastName\": \"Smith\",\r\n",
    "  \"age\": 25\r\n",
    "}\r\n",
    "```"
   ],
   "metadata": {}
  },
  {
   "cell_type": "markdown",
   "source": [
    "## Math\r\n",
    "\r\n",
    "An inline math equation using LaTeX: $1 + x \\leq e^x, \\forall x \\in \\mathbb{R}$\r\n",
    "\r\n",
    "Block math equations using LaTeX:\r\n",
    "$$\r\n",
    "\\begin{align*}\r\n",
    "&\\text{argmin}_{w, \\xi_1, \\cdots, \\xi_m} & &||w||^2 + C \\sum_i \\xi_i \\\\\r\n",
    "&\\text{ s.t. } & & (y_i w \\cdot x_i \\geq 1 - \\xi_i) \\land (\\xi_i \\geq 0), \\forall i\r\n",
    "\\end{align*}\r\n",
    "$$"
   ],
   "metadata": {}
  },
  {
   "cell_type": "markdown",
   "source": [
    "# Running Code in .NET Interactive Notebooks\r\n",
    "\r\n",
    "Code cells support C\\#, F\\#, Javascript, HTML, SQL, Powershell. You can change the language of a cell either using the button found on the bottom right corner of each cell or using magic commands (see below).\r\n",
    "\r\n",
    "Run the cells to see their output!"
   ],
   "metadata": {}
  },
  {
   "cell_type": "code",
   "execution_count": null,
   "source": [
    "Console.WriteLine(\"Hello World\");"
   ],
   "outputs": [],
   "metadata": {
    "dotnet_interactive": {
     "language": "csharp"
    }
   }
  },
  {
   "cell_type": "markdown",
   "source": [
    "### Displaying Output"
   ],
   "metadata": {}
  },
  {
   "cell_type": "code",
   "execution_count": null,
   "source": [
    "// Using trailing expression with no semicolon, only at the end of code cell\r\n",
    "\r\n",
    "var x = 5;\r\n",
    "x"
   ],
   "outputs": [],
   "metadata": {
    "dotnet_interactive": {
     "language": "csharp"
    }
   }
  },
  {
   "cell_type": "code",
   "execution_count": null,
   "source": [
    "// Using Display method, can be placed anywhere\r\n",
    "\r\n",
    "x.Display();\r\n",
    "\r\n",
    "var y = 10;"
   ],
   "outputs": [],
   "metadata": {
    "dotnet_interactive": {
     "language": "csharp"
    }
   }
  },
  {
   "cell_type": "code",
   "execution_count": null,
   "source": [
    "// Updating displayed output\r\n",
    "\r\n",
    "var initialPrompt = \"Let's eat some fruit!\";\r\n",
    "var displayedOutput = initialPrompt.Display();\r\n",
    "var fruits = new[] { \"apple\", \"orange\", \"coconut\", \"pear\", \"peach\" };\r\n",
    "\r\n",
    "foreach (var fruit in fruits)\r\n",
    "{\r\n",
    "    System.Threading.Thread.Sleep(1000);\r\n",
    "    displayedOutput.Update($\"I'm eating {fruit}.\");\r\n",
    "}\r\n",
    "\r\n",
    "System.Threading.Thread.Sleep(1000);\r\n",
    "displayedOutput.Update(\"I finished eating all the fruits.\");"
   ],
   "outputs": [],
   "metadata": {
    "dotnet_interactive": {
     "language": "csharp"
    }
   }
  },
  {
   "cell_type": "code",
   "execution_count": null,
   "source": [
    "// An example of variable sharing between different language\r\n",
    "\r\n",
    "// magic command to set the language to c#\r\n",
    "#!csharp\r\n",
    "\r\n",
    "var s = \"a string created in C#\";\r\n",
    "\r\n",
    "// magic command to set the language to f#\r\n",
    "#!fsharp\r\n",
    "\r\n",
    "// magic command to access the variable s from csharp\r\n",
    "#!share --from csharp s\r\n",
    "\r\n",
    "sprintf \"accessed in fsharp: %s\" s"
   ],
   "outputs": [],
   "metadata": {
    "dotnet_interactive": {
     "language": "csharp"
    }
   }
  },
  {
   "cell_type": "markdown",
   "source": [
    "## Exploring and Visualizing Data\r\n",
    "\r\n",
    "Let's first get our data, which will be a sample housing data."
   ],
   "metadata": {}
  },
  {
   "cell_type": "code",
   "execution_count": null,
   "source": [
    "#i \"nuget:https://pkgs.dev.azure.com/dnceng/public/_packaging/dotnet5/nuget/v3/index.json\" \r\n",
    "#i \"nuget:https://pkgs.dev.azure.com/dnceng/public/_packaging/dotnet-tools/nuget/v3/index.json\" \r\n",
    "\r\n",
    "#r \"nuget:Microsoft.Data.Analysis,0.2.0\""
   ],
   "outputs": [],
   "metadata": {
    "dotnet_interactive": {
     "language": "csharp"
    }
   }
  },
  {
   "cell_type": "code",
   "execution_count": null,
   "source": [
    "using System.IO;\r\n",
    "using System.Net.Http;\r\n",
    "using Microsoft.Data.Analysis;\r\n",
    "using System.Collections.Generic;\r\n",
    "\r\n",
    "string housingPath = \"housing.csv\";\r\n",
    "\r\n",
    "if (!File.Exists(housingPath))\r\n",
    "{\r\n",
    "    var contents = await new HttpClient()\r\n",
    "        .GetStringAsync(\"https://raw.githubusercontent.com/ageron/handson-ml2/master/datasets/housing/housing.csv\");\r\n",
    "        \r\n",
    "    File.WriteAllText(\"housing.csv\", contents);\r\n",
    "}\r\n",
    "\r\n",
    "var housingData = DataFrame.LoadCsv(housingPath);"
   ],
   "outputs": [],
   "metadata": {
    "dotnet_interactive": {
     "language": "csharp"
    }
   }
  },
  {
   "cell_type": "markdown",
   "source": [
    "### Visualizing Data using SandDance"
   ],
   "metadata": {}
  },
  {
   "cell_type": "code",
   "execution_count": null,
   "source": [
    "#r \"nuget:Microsoft.DotNet.Interactive.ExtensionLab,*-*\""
   ],
   "outputs": [],
   "metadata": {
    "dotnet_interactive": {
     "language": "csharp"
    }
   }
  },
  {
   "cell_type": "code",
   "execution_count": null,
   "source": [
    "using System.IO;\r\n",
    "using System.Net.Http;\r\n",
    "using Microsoft.Data.Analysis;\r\n",
    "using Microsoft.ML;\r\n",
    "using System.Collections.Generic;\r\n",
    "\r\n",
    "string housingPath = \"housing.csv\";\r\n",
    "\r\n",
    "if (!File.Exists(housingPath))\r\n",
    "{\r\n",
    "    var contents = await new HttpClient()\r\n",
    "        .GetStringAsync(\"https://raw.githubusercontent.com/ageron/handson-ml2/master/datasets/housing/housing.csv\");\r\n",
    "        \r\n",
    "    File.WriteAllText(\"housing.csv\", contents);\r\n",
    "}\r\n",
    "\r\n",
    "var housingData = DataFrame.LoadCsv(housingPath);\r\n",
    "\r\n",
    "housingData.ExploreWithSandDance().Display();"
   ],
   "outputs": [],
   "metadata": {
    "dotnet_interactive": {
     "language": "csharp"
    }
   }
  },
  {
   "cell_type": "markdown",
   "source": [
    "### Plotting with XPlot"
   ],
   "metadata": {}
  },
  {
   "cell_type": "code",
   "execution_count": null,
   "source": [
    "#r \"nuget: XPlot.Plotly.Interactive, *-*\"\r\n",
    "using Microsoft.Data.Analysis;\r\n",
    "using XPlot.Plotly;"
   ],
   "outputs": [],
   "metadata": {
    "dotnet_interactive": {
     "language": "csharp"
    }
   }
  },
  {
   "cell_type": "code",
   "execution_count": null,
   "source": [
    "var valueAgainstIncome = new Scatter\r\n",
    "{\r\n",
    "    name = \"Open\",\r\n",
    "    x = housingData.Columns[7],\r\n",
    "    y = housingData.Columns[8],\r\n",
    "    mode = \"markers\"\r\n",
    "};\r\n",
    "\r\n",
    "var chart = Chart.Plot(valueAgainstIncome);\r\n",
    "chart.WithTitle(\"Median Income vs Median House Value\");\r\n",
    "display(chart);"
   ],
   "outputs": [],
   "metadata": {
    "dotnet_interactive": {
     "language": "csharp"
    }
   }
  }
 ],
 "metadata": {
  "kernelspec": {
   "display_name": ".NET (C#)",
   "language": "C#",
   "name": ".net-csharp"
  },
  "language_info": {
   "name": "C#"
  }
 },
 "nbformat": 4,
 "nbformat_minor": 2
}