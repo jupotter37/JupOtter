{
 "cells": [
  {
   "cell_type": "code",
   "execution_count": 1,
   "metadata": {},
   "outputs": [],
   "source": [
    "from bs4 import BeautifulSoup as soup\n",
    "from urllib.request import urlopen as ureq\n",
    "from selenium import webdriver\n",
    "import time\n",
    "import re"
   ]
  },
  {
   "cell_type": "code",
   "execution_count": 2,
   "metadata": {},
   "outputs": [],
   "source": [
    "url = 'https://programs.usask.ca/engineering/first-year/index.php#Year14144creditunits'"
   ]
  },
  {
   "cell_type": "code",
   "execution_count": 3,
   "metadata": {},
   "outputs": [],
   "source": [
    "chrome_options = webdriver.ChromeOptions()\n",
    "chrome_options.add_argument('--ignore-certificate-errors')\n",
    "chrome_options.add_argument('--incognito')\n",
    "chrome_options.add_argument('--headless')\n",
    "\n",
    "driver = webdriver.Chrome(\"C:\\\\Users\\\\jerry\\\\Downloads\\\\chromedriver\", options=chrome_options)"
   ]
  },
  {
   "cell_type": "code",
   "execution_count": 4,
   "metadata": {},
   "outputs": [],
   "source": [
    "driver.get(url)\n",
    "time.sleep(3)"
   ]
  },
  {
   "cell_type": "markdown",
   "metadata": {},
   "source": [
    "# 1. Collect course link texts for webdriver to click on"
   ]
  },
  {
   "cell_type": "code",
   "execution_count": 5,
   "metadata": {},
   "outputs": [],
   "source": [
    "page_html = driver.page_source"
   ]
  },
  {
   "cell_type": "code",
   "execution_count": 6,
   "metadata": {
    "scrolled": false
   },
   "outputs": [
    {
     "data": {
      "text/plain": [
       "['GE 102.2',\n",
       " 'GE 112.1',\n",
       " 'GE 122.2',\n",
       " 'GE 132.1',\n",
       " 'GE 142.2',\n",
       " 'GE 152.1',\n",
       " 'CMPT 142.3',\n",
       " 'MATH 133.4',\n",
       " 'PHYS 152.1',\n",
       " 'CHEM 142.1',\n",
       " 'GEOL 102.1',\n",
       " 'BIOL 102.1',\n",
       " 'GE 103.1',\n",
       " 'GE 123.3',\n",
       " 'GE 133.2',\n",
       " 'GE 143.2',\n",
       " 'GE 153.2',\n",
       " 'GE 163.2',\n",
       " 'CHEM 146.3',\n",
       " 'MATH 134.3',\n",
       " 'PHYS 156.3',\n",
       " 'CMPT 146.3',\n",
       " 'ME 113.3',\n",
       " 'CHE 113.3',\n",
       " 'CE 271.2']"
      ]
     },
     "execution_count": 6,
     "metadata": {},
     "output_type": "execute_result"
    }
   ],
   "source": [
    "link_texts = re.findall(\"[A-Z]+ [0-9]{3}\\.[0-9]\", page_html)\n",
    "\n",
    "link_texts = list(dict.fromkeys(link_texts))\n",
    "\n",
    "link_texts"
   ]
  },
  {
   "cell_type": "code",
   "execution_count": 7,
   "metadata": {},
   "outputs": [
    {
     "data": {
      "text/plain": [
       "25"
      ]
     },
     "execution_count": 7,
     "metadata": {},
     "output_type": "execute_result"
    }
   ],
   "source": [
    "len(link_texts)"
   ]
  },
  {
   "cell_type": "markdown",
   "metadata": {},
   "source": [
    "# 2. Test run - try to scrape the first course"
   ]
  },
  {
   "cell_type": "code",
   "execution_count": 8,
   "metadata": {
    "scrolled": true
   },
   "outputs": [
    {
     "data": {
      "text/plain": [
       "'<html><head>\\n    <meta charset=\"UTF-8\">\\n    <title>\\n       Introduction to Engineering I (GE 102) - Course Catalogue | University of\\n      Saskatchewan\\n    </title>\\n    <meta content=\"This course includes two concurrent modules.  Module 1 introduces students to the profession of engineering and life as an engineering student.  The course will allow students to learn, apply and reflect upon strategies for success in engineering in areas including: well-being, group dynamics, conflict resolution, time management, goal setting, planning, studying, problem solving and academic honesty.  Module 2 introduces students to important aspects of the culture and worldviews of Indigenous Peoples and contextualizes the engineering profession within those worldviews.  The course will introduce students to the engineer’s legal and moral duty to consult with affected communities and examples of historical and contemporary influences of Indigenous worldviews on technology and engineering design.  There is also discussion about the importance of inclusion of, and respect for, all people.\\n\" name=\"description\">\\n    <meta http-equiv=\"X-UA-Compatible\" content=\"IE=edge\">\\n    <meta http-equiv=\"Content-Type\" content=\"text/html; charset=UTF-8\">\\n    <meta name=\"viewport\" content=\"width=device-width, initial-scale=1.0, maximum-scale=1.0, user-scalable=no\">\\n    <link rel=\"canonical\" href=\"https://catalogue.usask.ca/GE-102\">\\n     <!-- Limestone CSS -->\\n    <link href=\"//usaskcdn.ca/limestone/latest/css/limestone.min.css\" rel=\"stylesheet\">\\n    <link rel=\"icon\" type=\"image/x-icon\" href=\"/favicon.ico\">\\n    <!-- IE8 support -->\\n    <!--[if lt IE 9]>\\n      <link href=\"//usaskcdn.ca/limestone/1.0.0/css/ie.css\" rel=\"stylesheet\" />\\n      <script src=\"//usaskcdn.ca/limestone/1.0.0/js/ie.js\"></script>\\n    <![endif]-->\\n      </head>\\n\\n  <body id=\"top\" style=\"\">\\n        <header class=\"uofs-header\">\\n      <div class=\"uofs-header-masthead affix-top\" role=\"banner\">\\n        <a class=\"uofs-header-crest full\" href=\"//www.usask.ca/\">University of Saskatchewan</a>\\n        <a class=\"uofs-header-sitename-parent\" href=\"https://programs.usask.ca\">Course and Program Catalogue</a>\\n        <a class=\"uofs-header-sitename\" href=\"/\">Courses</a>\\n      </div>\\n    </header>\\n    <div class=\"uofs-page\">\\n  <header class=\"uofs-page-header\">\\n    <div class=\"container-fluid\">\\n      <h1 class=\"uofs-page-title\">\\n        GE 102.2\\n      </h1>\\n      <p class=\"lead\">Introduction to Engineering I</p>\\n    </div>\\n  </header>\\n  <div class=\"container-fluid\">\\n    <div class=\"row\">\\n      <div class=\"col-sm-3 uofs-page-sidebar\">\\n        <nav class=\"uofs-page-nav uofs-page-nav-side hidden-xs affix-top\" role=\"complementary\">\\n          <ul class=\"nav nav-pills nav-stacked\">\\n            <li><a href=\"#Description\">Description</a></li>\\n            <li><a href=\"#Upcomingclassofferings\">Upcoming class offerings</a></li>\\n            <li><a href=\"#Syllabi\">Syllabi</a></li>\\n            <li><a href=\"#Resources\">Resources</a></li>\\n          <li class=\"uofs-backtotop\"><a href=\"#top\"><i class=\"uofs-icon uofs-icon-arrow-up\"></i> Top</a></li></ul>\\n        </nav>\\n      </div>\\n      <div class=\"col-sm-9 uofs-page-content\" id=\"content\" role=\"main\">\\n        <section class=\"uofs-section \" id=\"section-0\">\\n          <div class=\"uofs-subsection\" id=\"section-0-subsection-0\">\\n            <p>\\n              <strong>Subject:</strong>\\n              <a href=\"https://catalogue.usask.ca/?subj_code=GE\">General Engineering</a>\\n              <br>\\n              <strong>Credit units:</strong>\\n              2<br>  <strong>Offered:</strong>\\n              Either Term 1 or Term 2<br> <strong>Weekly hours:</strong> 1.5 Lecture hours and 1.5 Practicum/Lab hours<br> <strong>College:</strong>\\n              Engineering<br>\\n              <strong>Department:</strong> Engineering (Dean\\'s Office)\\n            </p>\\n\\n                      </div>\\n        </section>\\n        <section class=\"uofs-section \" id=\"Description\">\\n          <h1>Description</h1>\\n          <div class=\"uofs-subsection\" id=\"Description-subsection-0\">\\n            <p>This course includes two concurrent modules.  Module 1 introduces students to the profession of engineering and life as an engineering student.  The course will allow students to learn, apply and reflect upon strategies for success in engineering in areas including: well-being, group dynamics, conflict resolution, time management, goal setting, planning, studying, problem solving and academic honesty.  Module 2 introduces students to important aspects of the culture and worldviews of Indigenous Peoples and contextualizes the engineering profession within those worldviews.  The course will introduce students to the engineer’s legal and moral duty to consult with affected communities and examples of historical and contemporary influences of Indigenous worldviews on technology and engineering design.  There is also discussion about the importance of inclusion of, and respect for, all people.\\n</p>\\n            <p><b>Restriction(s):</b> Restricted to students in the College of Engineering.<br>\\n<b>Prerequisite(s) or Corequisite(s):</b> BIOL 102.1; GEOL 102.1; PHYS 152.1; and CHEM 142.1.<br></p>\\n          </div>\\n        </section>\\n\\n        <section class=\"uofs-section \" id=\"Upcomingclassofferings\">\\n          <h1 class=\"\">Upcoming class offerings</h1>\\n          <div class=\"uofs-subsection\" id=\"Upcomingclassofferings-subsection-0\">\\n            <p>\\n              For full details about upcoming courses, refer to the class search\\n              tool or, if you are a current student, the registration channel in\\n              PAWS.\\n            </p>\\n            <ul class=\"list-inline uofs-cta-list\">\\n              <li>\\n                <a class=\"btn btn-primary \" href=\"https://pawnss.usask.ca/ban/bwckschd.p_disp_dyn_sched\" target=\"_self\">Class search</a>\\n              </li>\\n              <li>\\n                <a class=\"btn btn-primary \" href=\"http://paws.usask.ca/go/registration\" target=\"_self\">\\n                  Registration channel</a>\\n              </li>\\n            </ul>\\n          </div>\\n        </section>\\n\\n        <section class=\"uofs-section \" id=\"Syllabi\">\\n          <h1 class=\"\">Syllabi</h1>\\n          <div class=\"uofs-subsection\" id=\"Syllabi-subsection-0\">\\n                        <p>The syllabus is a public document that provides detail about a class, such as the schedule of activities, learning outcomes, and weighting of assignments and examinations. </p>\\n            <p>Once an instructor has made their syllabus publicly available on USask’s Learning Management System, it will appear below.  Please note that the examples provided below do not represent a complete set of current or previous syllabus material. Rather, they are presented solely for the purpose of indicating what may be required for a given class. Unless otherwise specifically stated on the content, the copyright for all materials in each course belongs to the instructor whose name is associated with that course. The syllabus is the intellectual property of instructors or the university.</p>\\n            <p class=\"text-muted\">\\n              <em>For more information, visit the <a href=\"https://policies.usask.ca/policies/academic-affairs/academic-courses.php#ClassSyllabus\">Academic Courses Policy</a> , the <a href=\"https://teaching.usask.ca/classes/syllabus.php\">Syllabus page for instructors</a> , or for students your <a href=\"https://students.usask.ca/academics/advisors.php\">Academic Advising office</a>.</em>\\n            </p>\\n            <div id=\"fn-ocw-syllabus\" data-subject=\"GE\" data-cnum=\"102\"><div class=\"alert alert-info\"><p>There is currently no Syllabus / Public content available for GE 102.</p></div></div>\\n                      </div>\\n        </section>\\n\\n        <section class=\"uofs-section \" id=\"Resources\">\\n          <h1 class=\"\">Resources</h1>\\n          <div class=\"uofs-subsection\" id=\"Resources-subsection-0\">\\n            <ul>\\n              <li>\\n                <a href=\"https://shop.usask.ca/CourseSearch/?course%5B0%5D=UOFS,202105,GE,GE102&amp;search_type=class\">Bookstore Textbook Search</a>\\n              </li>\\n              <li>\\n                <a href=\"http://sundog.usask.ca/search/r?SEARCH=GE+102#\">Library Reserves Search</a>\\n              </li>\\n              <li>\\n                <a href=\"https://studentlearning.usask.ca/tutorRegistry/search?subject=GE&amp;code=102\">Hire a Tutor Search</a>\\n              </li>\\n            </ul>\\n          </div>\\n        </section>\\n      </div>\\n    </div>\\n  </div>\\n</div>\\n    <footer class=\"uofs-footer\">\\n      <div class=\"container-fluid\">\\n        <!-- Optional supplementary footer links (e.g. Contact, etc.) -->\\n\\n        <!-- U of S logo, copyright, disclaimer and privacy - DO NOT REMOVE -->\\n        <a class=\"uofs-footer-logo\" href=\"//www.usask.ca/\">University of Saskatchewan</a>\\n        <p class=\"uofs-copyright\">\\n          © University of Saskatchewan <br>\\n          <a href=\"//www.usask.ca/disclaimer.php\">Disclaimer</a> |\\n          <a href=\"//www.usask.ca/privacy.php\">Privacy</a>\\n        </p>\\n      </div>\\n    </footer>\\n    <!-- Matomo -->\\n<script async=\"\" src=\"https://www.google-analytics.com/analytics.js\"></script><script type=\"text/javascript\" async=\"\" defer=\"\" src=\"//analytics.usask.ca/piwik/matomo.js\"></script><script type=\"text/javascript\">\\n  var _paq = window._paq || [];\\n  /* tracker methods like \"setCustomDimension\" should be called before \"trackPageView\" */\\n  _paq.push([\"trackPageView\"]);\\n  _paq.push([\"enableLinkTracking\"]);\\n  (function() {\\n    var u = \"//analytics.usask.ca/piwik/\";\\n    _paq.push([\"setTrackerUrl\", u + \"matomo.php\"]);\\n    _paq.push([\"setSiteId\", \"16\"]);\\n    var d = document,\\n      g = d.createElement(\"script\"),\\n      s = d.getElementsByTagName(\"script\")[0];\\n    g.type = \"text/javascript\";\\n    g.async = true;\\n    g.defer = true;\\n    g.src = u + \"matomo.js\";\\n    s.parentNode.insertBefore(g, s);\\n  })();\\n</script>\\n<noscript><p>\\n    <img\\n      src=\"//analytics.usask.ca/piwik/matomo.php?idsite=16&amp;rec=1\"\\n      style=\"border:0;\"\\n      alt=\"\"\\n    /></p\\n></noscript>\\n<!-- End Matomo Code -->\\n\\n    <!-- Google Analytics -->\\n<script>\\n  (function(i, s, o, g, r, a, m) {\\n    i[\"GoogleAnalyticsObject\"] = r;\\n    (i[r] =\\n      i[r] ||\\n      function() {\\n        (i[r].q = i[r].q || []).push(arguments);\\n      }),\\n      (i[r].l = 1 * new Date());\\n    (a = s.createElement(o)), (m = s.getElementsByTagName(o)[0]);\\n    a.async = 1;\\n    a.src = g;\\n    m.parentNode.insertBefore(a, m);\\n  })(\\n    window,\\n    document,\\n    \"script\",\\n    \"https://www.google-analytics.com/analytics.js\",\\n    \"ga\"\\n  );\\n\\n  ga(\"create\", \"UA-11973977-13\", \"auto\");\\n  ga(\"create\", \"UA-32373875-1\", \"auto\", \"programs\");\\n  ga(\"programs.send\", \"pageview\");\\n  ga(\"send\", \"pageview\");\\n</script>\\n<!-- End Google Analytics -->\\n\\n        <!-- jQuery (necessary for Limestone\\'s JavaScript plugins) -->\\n    <script src=\"//ajax.googleapis.com/ajax/libs/jquery/1.11.0/jquery.min.js\"></script>\\n    <!-- Limestone Javascript -->\\n    <script src=\"//usaskcdn.ca/limestone/latest/js/limestone.min.js\"></script>\\n    \\n<script src=\"/syllabus.js\"></script>\\n  \\n\\n</body></html>'"
      ]
     },
     "execution_count": 8,
     "metadata": {},
     "output_type": "execute_result"
    }
   ],
   "source": [
    "link = driver.find_element_by_link_text(link_texts[0])\n",
    "link.click()\n",
    "time.sleep(2)\n",
    "driver.page_source"
   ]
  },
  {
   "cell_type": "code",
   "execution_count": 9,
   "metadata": {},
   "outputs": [],
   "source": [
    "page_soup = soup(driver.page_source, 'lxml')"
   ]
  },
  {
   "cell_type": "code",
   "execution_count": 14,
   "metadata": {},
   "outputs": [
    {
     "data": {
      "text/plain": [
       "'GE 102'"
      ]
     },
     "execution_count": 14,
     "metadata": {},
     "output_type": "execute_result"
    }
   ],
   "source": [
    "page_soup.find(\"h1\", {\"class\": \"uofs-page-title\"}).text.strip()[:-2]"
   ]
  },
  {
   "cell_type": "code",
   "execution_count": 13,
   "metadata": {},
   "outputs": [
    {
     "data": {
      "text/plain": [
       "'Introduction to Engineering I'"
      ]
     },
     "execution_count": 13,
     "metadata": {},
     "output_type": "execute_result"
    }
   ],
   "source": [
    "page_soup.find(\"p\", {\"class\": \"lead\"}).text.strip()"
   ]
  },
  {
   "cell_type": "code",
   "execution_count": 21,
   "metadata": {},
   "outputs": [
    {
     "data": {
      "text/plain": [
       "'This course includes two concurrent modules.  Module 1 introduces students to the profession of engineering and life as an engineering student.  The course will allow students to learn, apply and reflect upon strategies for success in engineering in areas including: well-being, group dynamics, conflict resolution, time management, goal setting, planning, studying, problem solving and academic honesty.  Module 2 introduces students to important aspects of the culture and worldviews of Indigenous Peoples and contextualizes the engineering profession within those worldviews.  The course will introduce students to the engineer’s legal and moral duty to consult with affected communities and examples of historical and contemporary influences of Indigenous worldviews on technology and engineering design.  There is also discussion about the importance of inclusion of, and respect for, all people.'"
      ]
     },
     "execution_count": 21,
     "metadata": {},
     "output_type": "execute_result"
    }
   ],
   "source": [
    "page_soup.findAll(\"div\", {\"class\": \"uofs-subsection\"})[1].find(\"p\").text.strip()"
   ]
  },
  {
   "cell_type": "code",
   "execution_count": 22,
   "metadata": {},
   "outputs": [],
   "source": [
    "driver.back()"
   ]
  },
  {
   "cell_type": "markdown",
   "metadata": {},
   "source": [
    "# 3. Test run successful. Implement automation script to scrape all courses"
   ]
  },
  {
   "cell_type": "code",
   "execution_count": 23,
   "metadata": {
    "scrolled": false
   },
   "outputs": [
    {
     "name": "stdout",
     "output_type": "stream",
     "text": [
      "Scraped  GE 102\n",
      "Scraped  GE 112\n",
      "Scraped  GE 122\n",
      "Scraped  GE 132\n",
      "Scraped  GE 142\n",
      "Scraped  GE 152\n",
      "Scraped  CMPT 142\n",
      "Scraped  MATH 133\n",
      "Scraped  PHYS 152\n",
      "Scraped  CHEM 142\n",
      "Scraped  GEOL 102\n",
      "Scraped  BIOL 102\n",
      "Scraped  GE 103\n",
      "Scraped  GE 123\n",
      "Scraped  GE 133\n",
      "Scraped  GE 143\n",
      "Scraped  GE 153\n",
      "Scraped  GE 163\n",
      "Scraped  CHEM 146\n",
      "Scraped  MATH 134\n",
      "Scraped  PHYS 156\n",
      "Scraped  CMPT 146\n",
      "Scraped  ME 113\n",
      "Scraped  CHE 113\n",
      "Scraped  CE 271\n",
      "Finished scraping 25 courses\n"
     ]
    }
   ],
   "source": [
    "from selenium.common.exceptions import NoSuchElementException\n",
    "\n",
    "course_codes = []\n",
    "course_names = []\n",
    "course_descs = []\n",
    "counter = 0\n",
    "\n",
    "for link_text in link_texts:\n",
    "    \n",
    "    #go to course page\n",
    "    try:\n",
    "        link = driver.find_element_by_partial_link_text(link_text)\n",
    "    except NoSuchElementException:\n",
    "        print(\"no link for {}\".format(link_text))\n",
    "        continue\n",
    "        \n",
    "    time.sleep(2)\n",
    "    link.click()    \n",
    "    time.sleep(2)\n",
    "    page_soup = soup(driver.page_source, 'lxml')\n",
    "    \n",
    "    #scrape data\n",
    "    course_codes.append(page_soup.find(\"h1\", {\"class\": \"uofs-page-title\"}).text.strip()[:-2])\n",
    "    course_names.append(page_soup.find(\"p\", {\"class\": \"lead\"}).text.strip())\n",
    "    course_descs.append(page_soup.findAll(\"div\", {\"class\": \"uofs-subsection\"})[1].find(\"p\").text.strip())\n",
    "    \n",
    "    print(\"Scraped \", page_soup.find(\"h1\", {\"class\": \"uofs-page-title\"}).text.strip()[:-2])\n",
    "    counter += 1\n",
    "    \n",
    "    driver.back()\n",
    "    time.sleep(2)\n",
    "    \n",
    "print(\"Finished scraping {} courses\".format(counter))"
   ]
  },
  {
   "cell_type": "markdown",
   "metadata": {},
   "source": [
    "# 4. Inspect, clean, and write to CSV"
   ]
  },
  {
   "cell_type": "code",
   "execution_count": 24,
   "metadata": {},
   "outputs": [
    {
     "data": {
      "text/plain": [
       "['GE 102',\n",
       " 'GE 112',\n",
       " 'GE 122',\n",
       " 'GE 132',\n",
       " 'GE 142',\n",
       " 'GE 152',\n",
       " 'CMPT 142',\n",
       " 'MATH 133',\n",
       " 'PHYS 152',\n",
       " 'CHEM 142',\n",
       " 'GEOL 102',\n",
       " 'BIOL 102',\n",
       " 'GE 103',\n",
       " 'GE 123',\n",
       " 'GE 133',\n",
       " 'GE 143',\n",
       " 'GE 153',\n",
       " 'GE 163',\n",
       " 'CHEM 146',\n",
       " 'MATH 134',\n",
       " 'PHYS 156',\n",
       " 'CMPT 146',\n",
       " 'ME 113',\n",
       " 'CHE 113',\n",
       " 'CE 271']"
      ]
     },
     "execution_count": 24,
     "metadata": {},
     "output_type": "execute_result"
    }
   ],
   "source": [
    "course_codes"
   ]
  },
  {
   "cell_type": "code",
   "execution_count": 25,
   "metadata": {},
   "outputs": [
    {
     "data": {
      "text/plain": [
       "['Introduction to Engineering I',\n",
       " 'Engineering Discipline Experience',\n",
       " 'Engineering Mechanics I',\n",
       " 'Engineering Communications I',\n",
       " 'Design I',\n",
       " 'Electrical Circuits I',\n",
       " 'Introduction to Computer Science for Engineers',\n",
       " 'Engineering Mathematics I',\n",
       " 'Introduction to Atoms and Nuclei for Engineering',\n",
       " 'Global Impact of Chemistry for Engineering',\n",
       " 'Introduction to Geology for Engineering',\n",
       " 'Nature for Engineering',\n",
       " 'Introduction to Engineering II',\n",
       " 'Engineering Mechanics II',\n",
       " 'Engineering Communication II',\n",
       " 'Design II',\n",
       " 'Electrical Circuits II',\n",
       " 'Process Engineering',\n",
       " 'General Chemistry for Engineering',\n",
       " 'Engineering Mathematics II',\n",
       " 'Electromagnetism and Waves for Engineering',\n",
       " 'Principles of Computer Science for Engineers',\n",
       " 'Engineering Analysis I',\n",
       " 'Unit Operations in Chemical Process Engineering',\n",
       " 'Spring Surveying Camp']"
      ]
     },
     "execution_count": 25,
     "metadata": {},
     "output_type": "execute_result"
    }
   ],
   "source": [
    "course_names"
   ]
  },
  {
   "cell_type": "code",
   "execution_count": 26,
   "metadata": {
    "scrolled": true
   },
   "outputs": [
    {
     "data": {
      "text/plain": [
       "['This course includes two concurrent modules.  Module 1 introduces students to the profession of engineering and life as an engineering student.  The course will allow students to learn, apply and reflect upon strategies for success in engineering in areas including: well-being, group dynamics, conflict resolution, time management, goal setting, planning, studying, problem solving and academic honesty.  Module 2 introduces students to important aspects of the culture and worldviews of Indigenous Peoples and contextualizes the engineering profession within those worldviews.  The course will introduce students to the engineer’s legal and moral duty to consult with affected communities and examples of historical and contemporary influences of Indigenous worldviews on technology and engineering design.  There is also discussion about the importance of inclusion of, and respect for, all people.',\n",
       " 'This course will provide students with an opportunity to have a meaningful experience for engineering programs offered at the University of Saskatchewan. Students will attend lectures, seminars, and/or laboratory experiences for a total of 6 hours per day for each of the five days.  Students will work individually and/or in groups to perform course activities.',\n",
       " 'This course considers particle dynamics and begins with particle kinematics under arbitrary acceleration.  Particle kinetics is then addressed including force-acceleration, work-energy, and impulse-momentum principles.  A series of practical laboratories are designed to help the student apply the principles of dynamics to practical problems.',\n",
       " 'This course introduces students to written Technical Communication and to Drawing & Sketching.  The Technical Communication I module focuses on developing students’ communication awareness in the areas of referencing, coherency, and editing.  The Drawing & Sketching module focuses on 2D and 3D isometric and orthographic drawings, as well as dimensioning and scaling.',\n",
       " 'This course introduces students to Engineering Design.  The Design I course focuses on the early stages of design characterized by problem identification, acceptance, definition, and characterization.  This will include the determination of design functions, criteria/objectives and constraints/requirements.  Students will engage in a group project to identify and characterize an engineering design problem of their own choosing.',\n",
       " 'This course includes two concurrent modules.  Module 1 introduces students to basic properties of direct-current electrical circuits: voltage, current, resistance and power.  Students will learn to analyze series and parallel resistive direct-current circuits by applying: Kirchoff’s laws, Ohm’s law, mesh and node analysis, superposition and Thevenin’s and Norton’s Theorems.  Module 2 introduces students to computation and programming using Matlab.  Students will learn the Matlab interface and how to conduct I/O, plot data in 2 and 3 dimensions and solve linear systems using matrix data types.  Students will apply programming skills to create programs and user-defined functions. Students will be introduced to advanced features available in Matlab.',\n",
       " 'Introduces essential computer science and computer programming concepts and principles, with application to problems relevant to all Engineering disciplines. Presents the context in which computational problem solving is done, including historical and elementary technical aspects. Emphasizes fundamental programming constructs, including data and data types, variables and expressions, conditional branching, repetition, functions, recursion, as well as data structures such as strings, lists, and dictionaries. Presents searching and sorting algorithms as an introduction to concepts in computer science.  Emphasis throughout on the practice of basic skills needed for writing robust software, including formal design processes and documentation, internal code documentation, testing, and debugging.',\n",
       " 'An introduction to foundational concepts and tools in calculus, linear algebra, and statistics that are essential to engineering. Topics include basic integration techniques, limits and continuity, derivatives and their applications, matrix operations and linear transformations, linear regression, and graphing data on various scales.',\n",
       " 'Provides a brief introduction to quantum physics, atomic physics and nuclear physics for students of engineering.  Topics include evidence for wave-particle duality of photons and electrons, blackbody radiation, photoelectric effect, Compton effect, line spectra, atomic models, nuclear models, radioactivity, nuclear fission and fusion.',\n",
       " 'The course is intended as a brief introduction to general chemistry topics with emphasis on the greenhouse effect utilizing both qualitative and quantitative aspects of chemistry to investigate this global issue.  You will learn practical applications of chemistry through course material and laboratory experiments.',\n",
       " 'Introductory exploration of the Earth system for engineering students.  The aim of the course is to provide students with an appreciation of global and local-scale geological processes and the influence of these processes on the Earth system through geologic time. Key topics will include plate tectonics, geologic time, the rock cycle, weathering and erosion, geologic hazards, mineral resources, and Earth science careers. Students will learn practical applications of rock and mineral identification through laboratory activities.',\n",
       " 'Human activity is altering environments and biodiversity with profound effects on ecosystems. This course will explore foundational principles of ecology and the causes, consequences and solutions to questions about anthropogenic changes in biodiversity and ecosystems.',\n",
       " 'This course introduces the history and scope of the engineering profession, including the concepts of professionalism and ethics.  Students will discover the academic and career options available to them and will set out their career goals and a plan to reach them.  Students will also complete health and safety training relevant to engineering practice.',\n",
       " 'This course is an introduction to statics for particles and rigid bodies in two and three dimensions.  Applications involving the analyses of simple trusses, frames, and machines are introduced.  Dry friction is also introduced.  A series of practical laboratories are designed to help the student apply the principles of statics to practical problems.',\n",
       " 'This course introduces students to oral technical communication (including teaching), CAD, poster presentations, and technical research.  The Technical Communication II module focuses on developing oral communication skills and self/peer teaching abilities.  The CAD module introduces students to AuotCAD and basic CAD skills.  The Technical Communication III module focuses on report editing and technical poster presentation, while the Research module introduces students to literature reviews, and basic data analyses of data sets from real research labs.',\n",
       " 'This course introduces students to Engineering Design, building on the Design I course. Design II focuses on the later stages of conceptual design characterized by ideation, concept evaluation, and concept selection.  In groups, students will undertake one of a set of design problems from a variety of engineering disciplines, including multidisciplinary problems. Ultimately, students will implement a proof of concept of their solution, and they will present their progress in a Design Recommendation Report.',\n",
       " 'This course focuses on the analysis of basic alternating-current (AC) electrical circuits and the calculation of the flow of real, reactive and apparent power. There is also exploration of other electrical engineering topics, including electrical safety, power distribution systems, batteries and energy storage, electric motors and generators, and renewable power generation systems.',\n",
       " 'This course presents the concepts of process engineering and applies them to a wide array of systems. Basic process engineering tools are developed in the first half of the course that are then used to solve complex process systems in the second half. The course is designed to appeal to many sectors of the engineering profession. Examples are taken from many process systems including, but not limited to: manufacturing; geological systems; health care; food production; environmental systems; financial systems; biological systems; water treatment; and unit operations.',\n",
       " 'The course is intended to provide Engineering students with a fundamental understanding of core Chemistry concepts including equilibria and chemical thermodynamics. These goals are achieved and exemplified using an overarching theme of the role of carbon dioxide in the global climate change crisis.',\n",
       " 'This course is a continuation of Engineering Mathematics I. Topics include integration techniques and applications, dot products and cross products for vectors, polar coordinates, and complex numbers.',\n",
       " 'Provides an introduction to electromagnetism, oscillations and waves.  Topics include electric fields and potentials, electric conductivities, magnetic fields, Lorentz force, inductance, superposition and interference of waves, electromagnetic waves.',\n",
       " 'Introduces computer science principles and strategies for writing correct, efficient, robust, maintainable software. Presents principles and implementations of linear data structures including stacks, queues, and linked-lists, as well as recursive data structures including binary trees, and binary search trees.  Introduces algorithm analysis to determine time and space requirements, including best-case and worst-case behaviour. Presents abstract data types as implemented using object-oriented programming. Emphasizes principles of software design, development, and testing, and practical development strategies, including defensive programming, version control, and good coding style.',\n",
       " 'This course introduces mathematical tools and techniques used to solve mechanical engineering problems. Topics include: intermediate linear algebra, numerical methods for linear systems of equations, solving nonlinear equations, and numerical integration and differentiation. Centre of gravity and centroids, moments of inertia, and vibrations are also introduced. Applications to engineering problems are stressed. The laboratory content consists of two components: numerical modelling and introductory training in parametric solid modelling software.',\n",
       " 'This course is designed to introduce first year students to the building block of chemical engineering processes: the unit operation. The fundamentals of chemical plant design, process flow diagrams, and unit operations will be illustrated both by lecture and by laboratory experiments. The lecture component will focus on full-scale equipment used in industry and, in parallel, experiments using some of that same equipment will be undertaken at the bench-scale. A bench-scale batch chemical plant will be built along with a paper-design of a full-scale plant. The course will culminate in a field trip to an industrial plant.',\n",
       " 'Basic introduction to the use and adjustments of survey equipment, and the associated field work and data interpretation required for engineering projects.']"
      ]
     },
     "execution_count": 26,
     "metadata": {},
     "output_type": "execute_result"
    }
   ],
   "source": [
    "course_descs"
   ]
  },
  {
   "cell_type": "code",
   "execution_count": 27,
   "metadata": {},
   "outputs": [
    {
     "data": {
      "text/plain": [
       "['GE 102',\n",
       " 'GE 112',\n",
       " 'GE 122',\n",
       " 'GE 132',\n",
       " 'GE 142',\n",
       " 'GE 152',\n",
       " 'CMPT 142',\n",
       " 'MATH 133',\n",
       " 'PHYS 152',\n",
       " 'CHEM 142',\n",
       " 'GEOL 102',\n",
       " 'BIOL 102',\n",
       " 'GE 103',\n",
       " 'GE 123',\n",
       " 'GE 133',\n",
       " 'GE 143',\n",
       " 'GE 153',\n",
       " 'GE 163',\n",
       " 'CHEM 146',\n",
       " 'MATH 134',\n",
       " 'PHYS 156',\n",
       " 'ME 113']"
      ]
     },
     "execution_count": 27,
     "metadata": {},
     "output_type": "execute_result"
    }
   ],
   "source": [
    "#the two last courses and the fourth last course are not taken by mech eng students\n",
    "irrelevant_codes = [\"CMPT 146\", \"CHE 113\", \"CE 271\"]\n",
    "\n",
    "mech_codes = []\n",
    "mech_names = []\n",
    "mech_descs = []\n",
    "\n",
    "for i in range(len(course_codes)):\n",
    "    if course_codes[i] not in irrelevant_codes:\n",
    "        mech_codes.append(course_codes[i])\n",
    "        mech_names.append(course_names[i])\n",
    "        mech_descs.append(course_descs[i])\n",
    "        \n",
    "mech_codes"
   ]
  },
  {
   "cell_type": "code",
   "execution_count": 29,
   "metadata": {},
   "outputs": [
    {
     "data": {
      "text/plain": [
       "['Introduction to Engineering I',\n",
       " 'Engineering Discipline Experience',\n",
       " 'Engineering Mechanics I',\n",
       " 'Engineering Communications I',\n",
       " 'Design I',\n",
       " 'Electrical Circuits I',\n",
       " 'Introduction to Computer Science for Engineers',\n",
       " 'Engineering Mathematics I',\n",
       " 'Introduction to Atoms and Nuclei for Engineering',\n",
       " 'Global Impact of Chemistry for Engineering',\n",
       " 'Introduction to Geology for Engineering',\n",
       " 'Nature for Engineering',\n",
       " 'Introduction to Engineering II',\n",
       " 'Engineering Mechanics II',\n",
       " 'Engineering Communication II',\n",
       " 'Design II',\n",
       " 'Electrical Circuits II',\n",
       " 'Process Engineering',\n",
       " 'General Chemistry for Engineering',\n",
       " 'Engineering Mathematics II',\n",
       " 'Electromagnetism and Waves for Engineering',\n",
       " 'Engineering Analysis I']"
      ]
     },
     "execution_count": 29,
     "metadata": {},
     "output_type": "execute_result"
    }
   ],
   "source": [
    "mech_names"
   ]
  },
  {
   "cell_type": "code",
   "execution_count": 31,
   "metadata": {
    "scrolled": true
   },
   "outputs": [
    {
     "data": {
      "text/plain": [
       "['This course includes two concurrent modules.  Module 1 introduces students to the profession of engineering and life as an engineering student.  The course will allow students to learn, apply and reflect upon strategies for success in engineering in areas including: well-being, group dynamics, conflict resolution, time management, goal setting, planning, studying, problem solving and academic honesty.  Module 2 introduces students to important aspects of the culture and worldviews of Indigenous Peoples and contextualizes the engineering profession within those worldviews.  The course will introduce students to the engineer’s legal and moral duty to consult with affected communities and examples of historical and contemporary influences of Indigenous worldviews on technology and engineering design.  There is also discussion about the importance of inclusion of, and respect for, all people.',\n",
       " 'This course will provide students with an opportunity to have a meaningful experience for engineering programs offered at the University of Saskatchewan. Students will attend lectures, seminars, and/or laboratory experiences for a total of 6 hours per day for each of the five days.  Students will work individually and/or in groups to perform course activities.',\n",
       " 'This course considers particle dynamics and begins with particle kinematics under arbitrary acceleration.  Particle kinetics is then addressed including force-acceleration, work-energy, and impulse-momentum principles.  A series of practical laboratories are designed to help the student apply the principles of dynamics to practical problems.',\n",
       " 'This course introduces students to written Technical Communication and to Drawing & Sketching.  The Technical Communication I module focuses on developing students’ communication awareness in the areas of referencing, coherency, and editing.  The Drawing & Sketching module focuses on 2D and 3D isometric and orthographic drawings, as well as dimensioning and scaling.',\n",
       " 'This course introduces students to Engineering Design.  The Design I course focuses on the early stages of design characterized by problem identification, acceptance, definition, and characterization.  This will include the determination of design functions, criteria/objectives and constraints/requirements.  Students will engage in a group project to identify and characterize an engineering design problem of their own choosing.',\n",
       " 'This course includes two concurrent modules.  Module 1 introduces students to basic properties of direct-current electrical circuits: voltage, current, resistance and power.  Students will learn to analyze series and parallel resistive direct-current circuits by applying: Kirchoff’s laws, Ohm’s law, mesh and node analysis, superposition and Thevenin’s and Norton’s Theorems.  Module 2 introduces students to computation and programming using Matlab.  Students will learn the Matlab interface and how to conduct I/O, plot data in 2 and 3 dimensions and solve linear systems using matrix data types.  Students will apply programming skills to create programs and user-defined functions. Students will be introduced to advanced features available in Matlab.',\n",
       " 'Introduces essential computer science and computer programming concepts and principles, with application to problems relevant to all Engineering disciplines. Presents the context in which computational problem solving is done, including historical and elementary technical aspects. Emphasizes fundamental programming constructs, including data and data types, variables and expressions, conditional branching, repetition, functions, recursion, as well as data structures such as strings, lists, and dictionaries. Presents searching and sorting algorithms as an introduction to concepts in computer science.  Emphasis throughout on the practice of basic skills needed for writing robust software, including formal design processes and documentation, internal code documentation, testing, and debugging.',\n",
       " 'An introduction to foundational concepts and tools in calculus, linear algebra, and statistics that are essential to engineering. Topics include basic integration techniques, limits and continuity, derivatives and their applications, matrix operations and linear transformations, linear regression, and graphing data on various scales.',\n",
       " 'Provides a brief introduction to quantum physics, atomic physics and nuclear physics for students of engineering.  Topics include evidence for wave-particle duality of photons and electrons, blackbody radiation, photoelectric effect, Compton effect, line spectra, atomic models, nuclear models, radioactivity, nuclear fission and fusion.',\n",
       " 'The course is intended as a brief introduction to general chemistry topics with emphasis on the greenhouse effect utilizing both qualitative and quantitative aspects of chemistry to investigate this global issue.  You will learn practical applications of chemistry through course material and laboratory experiments.',\n",
       " 'Introductory exploration of the Earth system for engineering students.  The aim of the course is to provide students with an appreciation of global and local-scale geological processes and the influence of these processes on the Earth system through geologic time. Key topics will include plate tectonics, geologic time, the rock cycle, weathering and erosion, geologic hazards, mineral resources, and Earth science careers. Students will learn practical applications of rock and mineral identification through laboratory activities.',\n",
       " 'Human activity is altering environments and biodiversity with profound effects on ecosystems. This course will explore foundational principles of ecology and the causes, consequences and solutions to questions about anthropogenic changes in biodiversity and ecosystems.',\n",
       " 'This course introduces the history and scope of the engineering profession, including the concepts of professionalism and ethics.  Students will discover the academic and career options available to them and will set out their career goals and a plan to reach them.  Students will also complete health and safety training relevant to engineering practice.',\n",
       " 'This course is an introduction to statics for particles and rigid bodies in two and three dimensions.  Applications involving the analyses of simple trusses, frames, and machines are introduced.  Dry friction is also introduced.  A series of practical laboratories are designed to help the student apply the principles of statics to practical problems.',\n",
       " 'This course introduces students to oral technical communication (including teaching), CAD, poster presentations, and technical research.  The Technical Communication II module focuses on developing oral communication skills and self/peer teaching abilities.  The CAD module introduces students to AuotCAD and basic CAD skills.  The Technical Communication III module focuses on report editing and technical poster presentation, while the Research module introduces students to literature reviews, and basic data analyses of data sets from real research labs.',\n",
       " 'This course introduces students to Engineering Design, building on the Design I course. Design II focuses on the later stages of conceptual design characterized by ideation, concept evaluation, and concept selection.  In groups, students will undertake one of a set of design problems from a variety of engineering disciplines, including multidisciplinary problems. Ultimately, students will implement a proof of concept of their solution, and they will present their progress in a Design Recommendation Report.',\n",
       " 'This course focuses on the analysis of basic alternating-current (AC) electrical circuits and the calculation of the flow of real, reactive and apparent power. There is also exploration of other electrical engineering topics, including electrical safety, power distribution systems, batteries and energy storage, electric motors and generators, and renewable power generation systems.',\n",
       " 'This course presents the concepts of process engineering and applies them to a wide array of systems. Basic process engineering tools are developed in the first half of the course that are then used to solve complex process systems in the second half. The course is designed to appeal to many sectors of the engineering profession. Examples are taken from many process systems including, but not limited to: manufacturing; geological systems; health care; food production; environmental systems; financial systems; biological systems; water treatment; and unit operations.',\n",
       " 'The course is intended to provide Engineering students with a fundamental understanding of core Chemistry concepts including equilibria and chemical thermodynamics. These goals are achieved and exemplified using an overarching theme of the role of carbon dioxide in the global climate change crisis.',\n",
       " 'This course is a continuation of Engineering Mathematics I. Topics include integration techniques and applications, dot products and cross products for vectors, polar coordinates, and complex numbers.',\n",
       " 'Provides an introduction to electromagnetism, oscillations and waves.  Topics include electric fields and potentials, electric conductivities, magnetic fields, Lorentz force, inductance, superposition and interference of waves, electromagnetic waves.',\n",
       " 'This course introduces mathematical tools and techniques used to solve mechanical engineering problems. Topics include: intermediate linear algebra, numerical methods for linear systems of equations, solving nonlinear equations, and numerical integration and differentiation. Centre of gravity and centroids, moments of inertia, and vibrations are also introduced. Applications to engineering problems are stressed. The laboratory content consists of two components: numerical modelling and introductory training in parametric solid modelling software.']"
      ]
     },
     "execution_count": 31,
     "metadata": {},
     "output_type": "execute_result"
    }
   ],
   "source": [
    "mech_descs"
   ]
  },
  {
   "cell_type": "code",
   "execution_count": 32,
   "metadata": {},
   "outputs": [],
   "source": [
    "import pandas as pd\n",
    "\n",
    "df = pd.DataFrame({\n",
    "    \n",
    "    \"Course Number\": mech_codes,\n",
    "    \"Course Name\": mech_names,\n",
    "    \"Course Description\": mech_descs    \n",
    "    \n",
    "})\n",
    "\n",
    "df.to_csv('USaskatchewan_Engineeering_Common_First_Year_Courses.csv', index = False)\n"
   ]
  },
  {
   "cell_type": "code",
   "execution_count": 34,
   "metadata": {
    "scrolled": true
   },
   "outputs": [
    {
     "data": {
      "text/plain": [
       "22"
      ]
     },
     "execution_count": 34,
     "metadata": {},
     "output_type": "execute_result"
    }
   ],
   "source": [
    "len(mech_codes)"
   ]
  },
  {
   "cell_type": "code",
   "execution_count": null,
   "metadata": {},
   "outputs": [],
   "source": [
    "driver.quit()"
   ]
  }
 ],
 "metadata": {
  "kernelspec": {
   "display_name": "Python 3",
   "language": "python",
   "name": "python3"
  },
  "language_info": {
   "codemirror_mode": {
    "name": "ipython",
    "version": 3
   },
   "file_extension": ".py",
   "mimetype": "text/x-python",
   "name": "python",
   "nbconvert_exporter": "python",
   "pygments_lexer": "ipython3",
   "version": "3.8.5"
  }
 },
 "nbformat": 4,
 "nbformat_minor": 4
}
