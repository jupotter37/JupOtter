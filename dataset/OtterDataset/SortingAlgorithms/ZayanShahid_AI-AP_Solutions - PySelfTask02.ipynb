{
 "cells": [
  {
   "cell_type": "markdown",
   "metadata": {},
   "source": [
    "## Solutions: Python Self Task 2 - AP & AI\n",
    "<hr>"
   ]
  },
  {
   "cell_type": "markdown",
   "metadata": {},
   "source": [
    "<b>Problem Definition:</b>\n",
    "\n",
    "    Aim: Sorting Techniques (Selection Sort, Bubble Sort, Insertion Sort)\n",
    "    Problem Feature: Ascending and Descending order \n",
    "    Variables: Integer or float Array/List \n",
    "    Input and Output: \n",
    "        User-Input: Inputs 5 Student GPA and stores them in an Array or List \n",
    "        Expected-Output:\n",
    "        - Display GPA in actual order \n",
    "        - Display GPA in ascending or descending order"
   ]
  },
  {
   "cell_type": "markdown",
   "metadata": {},
   "source": [
    "<b>Py-Self-Task2 Solutions:</b>\n",
    "\n",
    "    - Solution 1: Sorting using List or Array Python Built-in Function \n",
    "    - Solution 2: Sorting using List Built-in Method \n",
    "    - Solution 3: Sorting using List Built-in Method and User-defined function\n",
    "                Input: info = [['Ahmad', 3.8], ['Rizwan', 3.68], ['Bilal', 3.9], ['Khalil', 3.7]]\n",
    "                Output: sorts the list with nested second element \n",
    "    - Solution 4: Sorting using Selection sort \n",
    "    - Solution 5: Sorting using Bubble sort\n",
    "    - Solution 6: Sorting using Insertion sort\n",
    "    - Solution 7: Bubble sort using User-defined function\n",
    "    - Solution 8: Using Modules \n",
    "        - example:\n",
    "            - from sorting_tech import selection_sort, bubble_sort, insertion_sort\n",
    "            - selection_sort(gpa)\n",
    "            - bubble_sort(gpa)\n",
    "            - insertion_sort(gpa)"
   ]
  },
  {
   "cell_type": "markdown",
   "metadata": {},
   "source": [
    "<b>Py-Self-Task2 Solutions restrictions:</b>\n",
    "    \n",
    "    - Inputs 5 Student GPA and stores them in an Array or List (using while loop)\n",
    "    - Solution 1 to Solution 3:\n",
    "      Sorting in ascending and descending order (permanent)\n",
    "    - Solution 4 to Solution 6:\n",
    "      Sorting using (Nested while loops, Nested for loops)\n",
    "    - Solution 7 and 8:\n",
    "      Accept parameter and return output\n",
    "    - Comparison of sorting techniques (Selection, Bubble, Insertion)"
   ]
  },
  {
   "cell_type": "code",
   "execution_count": null,
   "metadata": {},
   "outputs": [],
   "source": []
  },
  {
   "cell_type": "markdown",
   "metadata": {},
   "source": [
    "#### Input Data "
   ]
  },
  {
   "cell_type": "markdown",
   "metadata": {},
   "source": [
    "<b>Desired Solutions</b>  "
   ]
  },
  {
   "cell_type": "code",
   "execution_count": 1,
   "metadata": {},
   "outputs": [
    {
     "name": "stdin",
     "output_type": "stream",
     "text": [
      "Enter the GPA of Student 1: 3.5\n",
      "Enter the GPA of Student 2: 2.0\n",
      "Enter the GPA of Student 3: 3.8\n",
      "Enter the GPA of Student 4: 1.9\n",
      "Enter the GPA of Student 5: 3.9\n"
     ]
    }
   ],
   "source": [
    "gpa_list = []\n",
    "\n",
    "i = 0\n",
    "while i < 5:\n",
    "    gpa = float(input(f'Enter the GPA of Student {i+1}:'))\n",
    "    gpa_list.append(gpa)\n",
    "    i += 1"
   ]
  },
  {
   "cell_type": "code",
   "execution_count": 2,
   "metadata": {},
   "outputs": [
    {
     "name": "stdout",
     "output_type": "stream",
     "text": [
      "[3.5, 2.0, 3.8, 1.9, 3.9]\n"
     ]
    }
   ],
   "source": [
    "print(gpa_list)"
   ]
  },
  {
   "cell_type": "markdown",
   "metadata": {},
   "source": [
    "<b>or</b>"
   ]
  },
  {
   "cell_type": "code",
   "execution_count": 3,
   "metadata": {},
   "outputs": [
    {
     "name": "stdin",
     "output_type": "stream",
     "text": [
      "Enter the GPA of Student 1: 2.9\n",
      "Enter the GPA of Student 2: 3.4\n",
      "Enter the GPA of Student 3: 4.0\n",
      "Enter the GPA of Student 4: 2.4\n",
      "Enter the GPA of Student 5: 1.7\n"
     ]
    }
   ],
   "source": [
    "import array as arr\n",
    "gpa_array = arr.array('f', [])\n",
    "\n",
    "j = 0\n",
    "while j < 5:\n",
    "    gpa = float(input(f'Enter the GPA of Student {j+1}:'))\n",
    "    gpa_array.append(gpa)\n",
    "    j += 1"
   ]
  },
  {
   "cell_type": "code",
   "execution_count": 4,
   "metadata": {},
   "outputs": [
    {
     "name": "stdout",
     "output_type": "stream",
     "text": [
      "array('f', [2.9000000953674316, 3.4000000953674316, 4.0, 2.4000000953674316, 1.7000000476837158])\n"
     ]
    }
   ],
   "source": [
    "print(gpa_array)"
   ]
  },
  {
   "cell_type": "code",
   "execution_count": null,
   "metadata": {},
   "outputs": [],
   "source": []
  },
  {
   "cell_type": "markdown",
   "metadata": {},
   "source": [
    "<b>Optional Solutions</b>"
   ]
  },
  {
   "cell_type": "code",
   "execution_count": 6,
   "metadata": {},
   "outputs": [
    {
     "name": "stdin",
     "output_type": "stream",
     "text": [
      "Enter total Student GPA List Elements: 5\n",
      "Enter the GPA of Student 1: 2.9\n",
      "Enter the GPA of Student 2: 3.7\n",
      "Enter the GPA of Student 3: 1.9\n",
      "Enter the GPA of Student 4: 2.8\n",
      "Enter the GPA of Student 5: 4.0\n"
     ]
    }
   ],
   "source": [
    "gpa_list = []\n",
    "\n",
    "total_gpa_list = int(input('Enter total Student GPA List Elements:'))\n",
    "\n",
    "i = 0\n",
    "while i < total_gpa_list:\n",
    "    gpa = float(input(f'Enter the GPA of Student {i+1}:'))\n",
    "    gpa_list.append(gpa)\n",
    "    i += 1"
   ]
  },
  {
   "cell_type": "code",
   "execution_count": 7,
   "metadata": {},
   "outputs": [
    {
     "name": "stdout",
     "output_type": "stream",
     "text": [
      "[2.9, 3.7, 1.9, 2.8, 4.0]\n"
     ]
    }
   ],
   "source": [
    "print(gpa_list)"
   ]
  },
  {
   "cell_type": "markdown",
   "metadata": {},
   "source": [
    "<b>or</b>"
   ]
  },
  {
   "cell_type": "code",
   "execution_count": 8,
   "metadata": {},
   "outputs": [
    {
     "name": "stdin",
     "output_type": "stream",
     "text": [
      "Enter the GPA of Student 1: 3.0\n",
      "Enter the GPA of Student 2: 4.0\n",
      "Enter the GPA of Student 3: 2.0\n",
      "Enter the GPA of Student 4: 1.0\n",
      "Enter the GPA of Student 5: 3.5\n"
     ]
    }
   ],
   "source": [
    "gpa_list = []\n",
    "\n",
    "for i in range(5):\n",
    "    gpa = float(input(f'Enter the GPA of Student {i+1}:'))\n",
    "    gpa_list.append(gpa)"
   ]
  },
  {
   "cell_type": "code",
   "execution_count": 9,
   "metadata": {},
   "outputs": [
    {
     "name": "stdout",
     "output_type": "stream",
     "text": [
      "[3.0, 4.0, 2.0, 1.0, 3.5]\n"
     ]
    }
   ],
   "source": [
    "print(gpa_list)"
   ]
  },
  {
   "cell_type": "markdown",
   "metadata": {},
   "source": [
    "<b>or</b>"
   ]
  },
  {
   "cell_type": "code",
   "execution_count": 10,
   "metadata": {},
   "outputs": [
    {
     "name": "stdin",
     "output_type": "stream",
     "text": [
      "Enter total Student GPA List Elements: 5\n",
      "Enter the GPA of Student 1: 1.9\n",
      "Enter the GPA of Student 2: 2.9\n",
      "Enter the GPA of Student 3: 3.8\n",
      "Enter the GPA of Student 4: 3.5\n",
      "Enter the GPA of Student 5: 2.8\n"
     ]
    }
   ],
   "source": [
    "gpa_list = []\n",
    "\n",
    "total_gpa_list = int(input('Enter total Student GPA List Elements:'))\n",
    "\n",
    "for i in range(total_gpa_list):\n",
    "    gpa = float(input(f'Enter the GPA of Student {i+1}:'))\n",
    "    gpa_list.append(gpa)"
   ]
  },
  {
   "cell_type": "code",
   "execution_count": 11,
   "metadata": {},
   "outputs": [
    {
     "name": "stdout",
     "output_type": "stream",
     "text": [
      "[1.9, 2.9, 3.8, 3.5, 2.8]\n"
     ]
    }
   ],
   "source": [
    "print(gpa_list)"
   ]
  },
  {
   "cell_type": "markdown",
   "metadata": {},
   "source": [
    "<b>or</b>"
   ]
  },
  {
   "cell_type": "code",
   "execution_count": 12,
   "metadata": {},
   "outputs": [
    {
     "name": "stdin",
     "output_type": "stream",
     "text": [
      "Enter total Student GPA List Elements: 5\n",
      "Enter the GPA of Student 1: 2.0\n",
      "Enter the GPA of Student 2: 4.8\n",
      "Enter the GPA of Student 3: 3.7\n",
      "Enter the GPA of Student 4: 2.9\n",
      "Enter the GPA of Student 5: 4.0\n"
     ]
    }
   ],
   "source": [
    "gpa_list = []\n",
    "\n",
    "total_gpa_list = int(input('Enter total Student GPA List Elements:'))\n",
    "\n",
    "for i in range(total_gpa_list):\n",
    "    gpa_list.append(float(input(f'Enter the GPA of Student {i+1}:')))"
   ]
  },
  {
   "cell_type": "code",
   "execution_count": 13,
   "metadata": {},
   "outputs": [
    {
     "name": "stdout",
     "output_type": "stream",
     "text": [
      "[2.0, 4.8, 3.7, 2.9, 4.0]\n"
     ]
    }
   ],
   "source": [
    "print(gpa_list)"
   ]
  },
  {
   "cell_type": "markdown",
   "metadata": {},
   "source": [
    "<b>or</b>"
   ]
  },
  {
   "cell_type": "code",
   "execution_count": 14,
   "metadata": {},
   "outputs": [
    {
     "name": "stdin",
     "output_type": "stream",
     "text": [
      "Enter the GPA of Student 1: 2.0\n",
      "Enter the GPA of Student 2: 3.9\n",
      "Enter the GPA of Student 3: 2.5\n",
      "Enter the GPA of Student 4: 3.5\n",
      "Enter the GPA of Student 5: 2.4\n"
     ]
    }
   ],
   "source": [
    "gpa_list = [float(input(f'Enter the GPA of Student {i+1}:')) for i in range(5)]"
   ]
  },
  {
   "cell_type": "code",
   "execution_count": 15,
   "metadata": {},
   "outputs": [
    {
     "name": "stdout",
     "output_type": "stream",
     "text": [
      "[2.0, 3.9, 2.5, 3.5, 2.4]\n"
     ]
    }
   ],
   "source": [
    "print(gpa_list)"
   ]
  },
  {
   "cell_type": "markdown",
   "metadata": {},
   "source": [
    "<b>or</b>"
   ]
  },
  {
   "cell_type": "code",
   "execution_count": 16,
   "metadata": {},
   "outputs": [
    {
     "name": "stdin",
     "output_type": "stream",
     "text": [
      "Enter total Student GPA List Elements: 5\n",
      "Enter the GPA of Student 1: 2.9\n",
      "Enter the GPA of Student 2: 3.2\n",
      "Enter the GPA of Student 3: 3.1\n",
      "Enter the GPA of Student 4: 2.1\n",
      "Enter the GPA of Student 5: 4.0\n"
     ]
    }
   ],
   "source": [
    "total_gpa_list = int(input('Enter total Student GPA List Elements:'))\n",
    "\n",
    "gpa_list = [float(input(f'Enter the GPA of Student {i+1}:')) for i in range(total_gpa_list)]"
   ]
  },
  {
   "cell_type": "code",
   "execution_count": 17,
   "metadata": {},
   "outputs": [
    {
     "name": "stdout",
     "output_type": "stream",
     "text": [
      "[2.9, 3.2, 3.1, 2.1, 4.0]\n"
     ]
    }
   ],
   "source": [
    "print(gpa_list)"
   ]
  },
  {
   "cell_type": "markdown",
   "metadata": {},
   "source": [
    "<b>or</b>"
   ]
  },
  {
   "cell_type": "code",
   "execution_count": 18,
   "metadata": {},
   "outputs": [
    {
     "name": "stdin",
     "output_type": "stream",
     "text": [
      "Enter the GPA of Student 1: 3.9\n",
      "Enter the GPA of Student 2: 5\n"
     ]
    },
    {
     "name": "stdout",
     "output_type": "stream",
     "text": [
      "Invalid GPA\n"
     ]
    },
    {
     "name": "stdin",
     "output_type": "stream",
     "text": [
      "Enter the GPA of Student 3: 3.5\n",
      "Enter the GPA of Student 4: 2.0\n",
      "Enter the GPA of Student 5: 6\n"
     ]
    },
    {
     "name": "stdout",
     "output_type": "stream",
     "text": [
      "Invalid GPA\n"
     ]
    }
   ],
   "source": [
    "gpa_list = []\n",
    "\n",
    "i = 0\n",
    "while i < 5:\n",
    "    gpa = float(input(f'Enter the GPA of Student {i+1}:'))\n",
    "    if gpa >= 0.0 and gpa <= 4.0: \n",
    "        gpa_list.append(gpa)\n",
    "    else:\n",
    "        print('Invalid GPA')\n",
    "    i += 1"
   ]
  },
  {
   "cell_type": "code",
   "execution_count": 19,
   "metadata": {},
   "outputs": [
    {
     "name": "stdout",
     "output_type": "stream",
     "text": [
      "[3.9, 3.5, 2.0]\n"
     ]
    }
   ],
   "source": [
    "print(gpa_list)"
   ]
  },
  {
   "cell_type": "markdown",
   "metadata": {},
   "source": [
    "<b>or</b>"
   ]
  },
  {
   "cell_type": "code",
   "execution_count": 20,
   "metadata": {},
   "outputs": [
    {
     "name": "stdin",
     "output_type": "stream",
     "text": [
      "Enter total Student GPA List Elements: 5\n",
      "Enter the GPA of Student 1: 3.8\n",
      "Enter the GPA of Student 2: 3.7\n",
      "Enter the GPA of Student 3: 2.6\n",
      "Enter the GPA of Student 4: 3.4\n",
      "Enter the GPA of Student 5: 4.0\n"
     ]
    }
   ],
   "source": [
    "gpa_list = []\n",
    "\n",
    "total_gpa_list = int(input('Enter total Student GPA List Elements:'))\n",
    "\n",
    "for i in range(total_gpa_list):\n",
    "    gpa = float(input(f'Enter the GPA of Student {i+1}:'))\n",
    "    if gpa >= 0.0 and gpa <= 4.0: \n",
    "        gpa_list.append(gpa)\n",
    "    else:\n",
    "        print('Invalid GPA')"
   ]
  },
  {
   "cell_type": "code",
   "execution_count": 21,
   "metadata": {},
   "outputs": [
    {
     "name": "stdout",
     "output_type": "stream",
     "text": [
      "[3.8, 3.7, 2.6, 3.4, 4.0]\n"
     ]
    }
   ],
   "source": [
    "print(gpa_list)"
   ]
  },
  {
   "cell_type": "markdown",
   "metadata": {},
   "source": [
    "<b>or</b>"
   ]
  },
  {
   "cell_type": "code",
   "execution_count": 22,
   "metadata": {},
   "outputs": [
    {
     "name": "stdin",
     "output_type": "stream",
     "text": [
      "Enter total Student GPA List Elements: 5\n",
      "Enter the GPA of Student 1: 2.9\n",
      "Enter the GPA of Student 2: 3.5\n",
      "Enter the GPA of Student 3: 7.9\n"
     ]
    },
    {
     "name": "stdout",
     "output_type": "stream",
     "text": [
      "Invalid GPA\n"
     ]
    },
    {
     "name": "stdin",
     "output_type": "stream",
     "text": [
      "Enter the GPA of Student 3: 2.7\n",
      "Enter the GPA of Student 4: 10\n"
     ]
    },
    {
     "name": "stdout",
     "output_type": "stream",
     "text": [
      "Invalid GPA\n"
     ]
    },
    {
     "name": "stdin",
     "output_type": "stream",
     "text": [
      "Enter the GPA of Student 4: 2.8\n",
      "Enter the GPA of Student 5: 4.0\n"
     ]
    }
   ],
   "source": [
    "gpa_list = []\n",
    "\n",
    "i = int(input('Enter total Student GPA List Elements:'))\n",
    "\n",
    "j = 1\n",
    "while i > 0:\n",
    "    gpa = float(input(f'Enter the GPA of Student {j}:'))\n",
    "    if gpa >= 0.0 and gpa <= 4.0: \n",
    "        gpa_list.append(gpa)\n",
    "        i -= 1\n",
    "    else:\n",
    "        print('Invalid GPA')\n",
    "        j -= 1\n",
    "    j += 1"
   ]
  },
  {
   "cell_type": "code",
   "execution_count": 23,
   "metadata": {},
   "outputs": [
    {
     "name": "stdout",
     "output_type": "stream",
     "text": [
      "[2.9, 3.5, 2.7, 2.8, 4.0]\n"
     ]
    }
   ],
   "source": [
    "print(gpa_list)"
   ]
  },
  {
   "cell_type": "code",
   "execution_count": null,
   "metadata": {},
   "outputs": [],
   "source": []
  },
  {
   "cell_type": "markdown",
   "metadata": {},
   "source": [
    "#### Solution 1: Sorting using List or Array Python Built-in Function"
   ]
  },
  {
   "cell_type": "code",
   "execution_count": 24,
   "metadata": {},
   "outputs": [
    {
     "data": {
      "text/plain": [
       "\u001b[1;31mSignature:\u001b[0m \u001b[0msorted\u001b[0m\u001b[1;33m(\u001b[0m\u001b[0miterable\u001b[0m\u001b[1;33m,\u001b[0m \u001b[1;33m/\u001b[0m\u001b[1;33m,\u001b[0m \u001b[1;33m*\u001b[0m\u001b[1;33m,\u001b[0m \u001b[0mkey\u001b[0m\u001b[1;33m=\u001b[0m\u001b[1;32mNone\u001b[0m\u001b[1;33m,\u001b[0m \u001b[0mreverse\u001b[0m\u001b[1;33m=\u001b[0m\u001b[1;32mFalse\u001b[0m\u001b[1;33m)\u001b[0m\u001b[1;33m\u001b[0m\u001b[1;33m\u001b[0m\u001b[0m\n",
       "\u001b[1;31mDocstring:\u001b[0m\n",
       "Return a new list containing all items from the iterable in ascending order.\n",
       "\n",
       "A custom key function can be supplied to customize the sort order, and the\n",
       "reverse flag can be set to request the result in descending order.\n",
       "\u001b[1;31mType:\u001b[0m      builtin_function_or_method\n"
      ]
     },
     "metadata": {},
     "output_type": "display_data"
    }
   ],
   "source": [
    "sorted?"
   ]
  },
  {
   "cell_type": "code",
   "execution_count": 25,
   "metadata": {},
   "outputs": [
    {
     "name": "stdout",
     "output_type": "stream",
     "text": [
      "GPA List in actual order: [2.9, 3.5, 2.7, 2.8, 4.0]\n"
     ]
    }
   ],
   "source": [
    "print('GPA List in actual order:', gpa_list)"
   ]
  },
  {
   "cell_type": "code",
   "execution_count": 26,
   "metadata": {},
   "outputs": [
    {
     "name": "stdout",
     "output_type": "stream",
     "text": [
      "GPA List in ascending order : [2.7, 2.8, 2.9, 3.5, 4.0]\n",
      "GPA List in descending order: [4.0, 3.5, 2.9, 2.8, 2.7]\n"
     ]
    }
   ],
   "source": [
    "asc_gpa_list1 = sorted(gpa_list)\n",
    "desc_gpa_list1 = sorted(gpa_list, reverse=True)\n",
    "\n",
    "print('GPA List in ascending order :', asc_gpa_list1)\n",
    "print('GPA List in descending order:', desc_gpa_list1)"
   ]
  },
  {
   "cell_type": "code",
   "execution_count": null,
   "metadata": {},
   "outputs": [],
   "source": []
  },
  {
   "cell_type": "markdown",
   "metadata": {},
   "source": [
    "#### Solution 2: Sorting using List Built-in Method"
   ]
  },
  {
   "cell_type": "code",
   "execution_count": 27,
   "metadata": {},
   "outputs": [
    {
     "data": {
      "text/plain": [
       "\u001b[1;31mSignature:\u001b[0m \u001b[0mlist\u001b[0m\u001b[1;33m.\u001b[0m\u001b[0msort\u001b[0m\u001b[1;33m(\u001b[0m\u001b[0mself\u001b[0m\u001b[1;33m,\u001b[0m \u001b[1;33m/\u001b[0m\u001b[1;33m,\u001b[0m \u001b[1;33m*\u001b[0m\u001b[1;33m,\u001b[0m \u001b[0mkey\u001b[0m\u001b[1;33m=\u001b[0m\u001b[1;32mNone\u001b[0m\u001b[1;33m,\u001b[0m \u001b[0mreverse\u001b[0m\u001b[1;33m=\u001b[0m\u001b[1;32mFalse\u001b[0m\u001b[1;33m)\u001b[0m\u001b[1;33m\u001b[0m\u001b[1;33m\u001b[0m\u001b[0m\n",
       "\u001b[1;31mDocstring:\u001b[0m\n",
       "Sort the list in ascending order and return None.\n",
       "\n",
       "The sort is in-place (i.e. the list itself is modified) and stable (i.e. the\n",
       "order of two equal elements is maintained).\n",
       "\n",
       "If a key function is given, apply it once to each list item and sort them,\n",
       "ascending or descending, according to their function values.\n",
       "\n",
       "The reverse flag can be set to sort in descending order.\n",
       "\u001b[1;31mType:\u001b[0m      method_descriptor\n"
      ]
     },
     "metadata": {},
     "output_type": "display_data"
    }
   ],
   "source": [
    "list.sort?"
   ]
  },
  {
   "cell_type": "code",
   "execution_count": 28,
   "metadata": {},
   "outputs": [],
   "source": [
    "asc_gpa_list2 = gpa_list.copy()\n",
    "desc_gpa_list2 = gpa_list[:]"
   ]
  },
  {
   "cell_type": "code",
   "execution_count": 29,
   "metadata": {},
   "outputs": [],
   "source": [
    "asc_gpa_list2.sort()\n",
    "desc_gpa_list2.sort(reverse=True)"
   ]
  },
  {
   "cell_type": "code",
   "execution_count": 30,
   "metadata": {},
   "outputs": [
    {
     "name": "stdout",
     "output_type": "stream",
     "text": [
      "GPA List in actual order ...: [2.9, 3.5, 2.7, 2.8, 4.0]\n",
      "GPA List in ascending order : [2.7, 2.8, 2.9, 3.5, 4.0]\n",
      "GPA List in descending order: [4.0, 3.5, 2.9, 2.8, 2.7]\n"
     ]
    }
   ],
   "source": [
    "print('GPA List in actual order ...:', gpa_list)\n",
    "\n",
    "print('GPA List in ascending order :', asc_gpa_list2)\n",
    "print('GPA List in descending order:', desc_gpa_list2)"
   ]
  },
  {
   "cell_type": "code",
   "execution_count": null,
   "metadata": {},
   "outputs": [],
   "source": []
  },
  {
   "cell_type": "code",
   "execution_count": 31,
   "metadata": {},
   "outputs": [],
   "source": [
    "data = asc_gpa_list2.sort()"
   ]
  },
  {
   "cell_type": "code",
   "execution_count": 32,
   "metadata": {},
   "outputs": [
    {
     "data": {
      "text/plain": [
       "NoneType"
      ]
     },
     "execution_count": 32,
     "metadata": {},
     "output_type": "execute_result"
    }
   ],
   "source": [
    "type(data)"
   ]
  },
  {
   "cell_type": "code",
   "execution_count": null,
   "metadata": {},
   "outputs": [],
   "source": []
  },
  {
   "cell_type": "markdown",
   "metadata": {},
   "source": [
    "#### Solution 3: Sorting using List Built-in Method and User-defined function"
   ]
  },
  {
   "cell_type": "markdown",
   "metadata": {},
   "source": [
    "    Input: info = [['Ahmad', 3.8], ['Rizwan', 3.68], ['Bilal', 3.9], ['Khalil', 3.7]]\n",
    "    Output: sorts the list with nested second element "
   ]
  },
  {
   "cell_type": "code",
   "execution_count": 33,
   "metadata": {},
   "outputs": [],
   "source": [
    "info = [['Ahmad', 3.8], ['Rizwan', 3.68], ['Bilal', 3.9], ['Khalil', 3.7]]"
   ]
  },
  {
   "cell_type": "code",
   "execution_count": 34,
   "metadata": {},
   "outputs": [
    {
     "data": {
      "text/plain": [
       "\u001b[1;31mSignature:\u001b[0m \u001b[0mlist\u001b[0m\u001b[1;33m.\u001b[0m\u001b[0msort\u001b[0m\u001b[1;33m(\u001b[0m\u001b[0mself\u001b[0m\u001b[1;33m,\u001b[0m \u001b[1;33m/\u001b[0m\u001b[1;33m,\u001b[0m \u001b[1;33m*\u001b[0m\u001b[1;33m,\u001b[0m \u001b[0mkey\u001b[0m\u001b[1;33m=\u001b[0m\u001b[1;32mNone\u001b[0m\u001b[1;33m,\u001b[0m \u001b[0mreverse\u001b[0m\u001b[1;33m=\u001b[0m\u001b[1;32mFalse\u001b[0m\u001b[1;33m)\u001b[0m\u001b[1;33m\u001b[0m\u001b[1;33m\u001b[0m\u001b[0m\n",
       "\u001b[1;31mDocstring:\u001b[0m\n",
       "Sort the list in ascending order and return None.\n",
       "\n",
       "The sort is in-place (i.e. the list itself is modified) and stable (i.e. the\n",
       "order of two equal elements is maintained).\n",
       "\n",
       "If a key function is given, apply it once to each list item and sort them,\n",
       "ascending or descending, according to their function values.\n",
       "\n",
       "The reverse flag can be set to sort in descending order.\n",
       "\u001b[1;31mType:\u001b[0m      method_descriptor\n"
      ]
     },
     "metadata": {},
     "output_type": "display_data"
    }
   ],
   "source": [
    "list.sort?"
   ]
  },
  {
   "cell_type": "code",
   "execution_count": 35,
   "metadata": {},
   "outputs": [
    {
     "data": {
      "text/plain": [
       "'Ahmad'"
      ]
     },
     "execution_count": 35,
     "metadata": {},
     "output_type": "execute_result"
    }
   ],
   "source": [
    "info[0][0]"
   ]
  },
  {
   "cell_type": "code",
   "execution_count": 36,
   "metadata": {},
   "outputs": [
    {
     "data": {
      "text/plain": [
       "3.8"
      ]
     },
     "execution_count": 36,
     "metadata": {},
     "output_type": "execute_result"
    }
   ],
   "source": [
    "info[0][1]"
   ]
  },
  {
   "cell_type": "code",
   "execution_count": 37,
   "metadata": {},
   "outputs": [
    {
     "data": {
      "text/plain": [
       "3.8"
      ]
     },
     "execution_count": 37,
     "metadata": {},
     "output_type": "execute_result"
    }
   ],
   "source": [
    "info[0][-1]"
   ]
  },
  {
   "cell_type": "code",
   "execution_count": 38,
   "metadata": {},
   "outputs": [],
   "source": [
    "def second_elem(value):\n",
    "    return value[1]"
   ]
  },
  {
   "cell_type": "code",
   "execution_count": 39,
   "metadata": {},
   "outputs": [],
   "source": [
    "asc_gpa_list3 = info[:]\n",
    "desc_gpa_list3 = info[:]"
   ]
  },
  {
   "cell_type": "code",
   "execution_count": 40,
   "metadata": {},
   "outputs": [],
   "source": [
    "# second_elem(info)     # ['Rizwan', 3.68]"
   ]
  },
  {
   "cell_type": "code",
   "execution_count": 41,
   "metadata": {},
   "outputs": [],
   "source": [
    "# second_elem(info[0])  # 3.8"
   ]
  },
  {
   "cell_type": "code",
   "execution_count": 42,
   "metadata": {},
   "outputs": [],
   "source": [
    "asc_gpa_list3.sort(key=second_elem)\n",
    "desc_gpa_list3.sort(key=second_elem, reverse=True)"
   ]
  },
  {
   "cell_type": "code",
   "execution_count": 43,
   "metadata": {},
   "outputs": [
    {
     "name": "stdout",
     "output_type": "stream",
     "text": [
      "GPA List in actual order ...: [['Ahmad', 3.8], ['Rizwan', 3.68], ['Bilal', 3.9], ['Khalil', 3.7]]\n",
      "GPA List in ascending order : [['Rizwan', 3.68], ['Khalil', 3.7], ['Ahmad', 3.8], ['Bilal', 3.9]]\n",
      "GPA List in descending order: [['Bilal', 3.9], ['Ahmad', 3.8], ['Khalil', 3.7], ['Rizwan', 3.68]]\n"
     ]
    }
   ],
   "source": [
    "print('GPA List in actual order ...:', info)\n",
    "\n",
    "print('GPA List in ascending order :', asc_gpa_list3)\n",
    "print('GPA List in descending order:', desc_gpa_list3)"
   ]
  },
  {
   "cell_type": "markdown",
   "metadata": {},
   "source": [
    "<b>Optional Solutions</b>"
   ]
  },
  {
   "cell_type": "code",
   "execution_count": 44,
   "metadata": {},
   "outputs": [],
   "source": [
    "asc_gpa = info[:]\n",
    "desc_gpa = info[:]"
   ]
  },
  {
   "cell_type": "code",
   "execution_count": 45,
   "metadata": {},
   "outputs": [],
   "source": [
    "asc_gpa.sort(key=lambda val: val[1])                 # sort by GPA - Ascending order\n",
    "desc_gpa.sort(key=lambda val: val[1], reverse=True)  # sort by GPA - Descending order"
   ]
  },
  {
   "cell_type": "code",
   "execution_count": 46,
   "metadata": {},
   "outputs": [
    {
     "name": "stdout",
     "output_type": "stream",
     "text": [
      "GPA List in actual order ...: [['Ahmad', 3.8], ['Rizwan', 3.68], ['Bilal', 3.9], ['Khalil', 3.7]]\n",
      "GPA List in ascending order : [['Rizwan', 3.68], ['Khalil', 3.7], ['Ahmad', 3.8], ['Bilal', 3.9]]\n",
      "GPA List in descending order: [['Bilal', 3.9], ['Ahmad', 3.8], ['Khalil', 3.7], ['Rizwan', 3.68]]\n"
     ]
    }
   ],
   "source": [
    "print('GPA List in actual order ...:', info)\n",
    "\n",
    "print('GPA List in ascending order :', asc_gpa)\n",
    "print('GPA List in descending order:', desc_gpa)"
   ]
  },
  {
   "cell_type": "code",
   "execution_count": null,
   "metadata": {},
   "outputs": [],
   "source": []
  },
  {
   "cell_type": "code",
   "execution_count": 47,
   "metadata": {},
   "outputs": [
    {
     "name": "stdout",
     "output_type": "stream",
     "text": [
      "[['Ahmad', 3.8], ['Rizwan', 3.68], ['Bilal', 3.9], ['Khalil', 3.7]]\n"
     ]
    }
   ],
   "source": [
    "print(info)"
   ]
  },
  {
   "cell_type": "code",
   "execution_count": 48,
   "metadata": {},
   "outputs": [
    {
     "data": {
      "text/plain": [
       "[['Ahmad', 3.8], ['Bilal', 3.9], ['Khalil', 3.7], ['Rizwan', 3.68]]"
      ]
     },
     "execution_count": 48,
     "metadata": {},
     "output_type": "execute_result"
    }
   ],
   "source": [
    "sorted(info)                # sort by Alphabetical order - Ascending order"
   ]
  },
  {
   "cell_type": "code",
   "execution_count": 49,
   "metadata": {},
   "outputs": [
    {
     "data": {
      "text/plain": [
       "[['Rizwan', 3.68], ['Khalil', 3.7], ['Bilal', 3.9], ['Ahmad', 3.8]]"
      ]
     },
     "execution_count": 49,
     "metadata": {},
     "output_type": "execute_result"
    }
   ],
   "source": [
    "sorted(info, reverse=True)  # sort by Alphabetical order - Descending order"
   ]
  },
  {
   "cell_type": "code",
   "execution_count": 50,
   "metadata": {},
   "outputs": [
    {
     "data": {
      "text/plain": [
       "[['Rizwan', 3.68], ['Khalil', 3.7], ['Ahmad', 3.8], ['Bilal', 3.9]]"
      ]
     },
     "execution_count": 50,
     "metadata": {},
     "output_type": "execute_result"
    }
   ],
   "source": [
    "sorted(info, key=lambda value: value[1])                 # sort by GPA - Ascending order"
   ]
  },
  {
   "cell_type": "code",
   "execution_count": 51,
   "metadata": {},
   "outputs": [
    {
     "data": {
      "text/plain": [
       "[['Bilal', 3.9], ['Ahmad', 3.8], ['Khalil', 3.7], ['Rizwan', 3.68]]"
      ]
     },
     "execution_count": 51,
     "metadata": {},
     "output_type": "execute_result"
    }
   ],
   "source": [
    "sorted(info, key=lambda value: value[1], reverse=True)   # sort by GPA - Descending order"
   ]
  },
  {
   "cell_type": "code",
   "execution_count": 52,
   "metadata": {},
   "outputs": [
    {
     "data": {
      "text/plain": [
       "[['Ahmad', 3.8], ['Bilal', 3.9], ['Rizwan', 3.68], ['Khalil', 3.7]]"
      ]
     },
     "execution_count": 52,
     "metadata": {},
     "output_type": "execute_result"
    }
   ],
   "source": [
    "sorted(info, key=lambda value: len(value[0]))                 # sort by Name length - Ascending order"
   ]
  },
  {
   "cell_type": "code",
   "execution_count": 53,
   "metadata": {},
   "outputs": [
    {
     "data": {
      "text/plain": [
       "[['Rizwan', 3.68], ['Khalil', 3.7], ['Ahmad', 3.8], ['Bilal', 3.9]]"
      ]
     },
     "execution_count": 53,
     "metadata": {},
     "output_type": "execute_result"
    }
   ],
   "source": [
    "sorted(info, key=lambda value: len(value[0]), reverse=True)   # sort by Name length - Descending order"
   ]
  },
  {
   "cell_type": "code",
   "execution_count": null,
   "metadata": {},
   "outputs": [],
   "source": []
  },
  {
   "cell_type": "code",
   "execution_count": null,
   "metadata": {},
   "outputs": [],
   "source": []
  },
  {
   "cell_type": "markdown",
   "metadata": {},
   "source": [
    "Sorting HOW TO: https://docs.python.org/3/howto/sorting.html"
   ]
  },
  {
   "cell_type": "code",
   "execution_count": 54,
   "metadata": {},
   "outputs": [
    {
     "name": "stdout",
     "output_type": "stream",
     "text": [
      "[2.9, 3.5, 2.7, 2.8, 4.0]\n"
     ]
    }
   ],
   "source": [
    "print(gpa_list)"
   ]
  },
  {
   "cell_type": "markdown",
   "metadata": {},
   "source": [
    "# Selection Sort"
   ]
  },
  {
   "cell_type": "markdown",
   "metadata": {},
   "source": [
    "#### Solution 4: Sorting using Selection sort"
   ]
  },
  {
   "cell_type": "code",
   "execution_count": 55,
   "metadata": {},
   "outputs": [],
   "source": [
    "# Method 1 - Selection Sort "
   ]
  },
  {
   "cell_type": "code",
   "execution_count": 56,
   "metadata": {},
   "outputs": [],
   "source": [
    "lst1 = gpa_list[:]"
   ]
  },
  {
   "cell_type": "code",
   "execution_count": 57,
   "metadata": {},
   "outputs": [],
   "source": [
    "for i in range(0, len(lst1) - 1):\n",
    "    min_index = i\n",
    "    for j in range(i + 1, len(lst1)):\n",
    "        if lst1[j] < lst1[min_index]:\n",
    "            min_index = j\n",
    "    if min_index != i:\n",
    "        lst1[i], lst1[min_index] = lst1[min_index], lst1[i]"
   ]
  },
  {
   "cell_type": "code",
   "execution_count": 58,
   "metadata": {},
   "outputs": [
    {
     "name": "stdout",
     "output_type": "stream",
     "text": [
      "GPA List in actual order ..: [2.9, 3.5, 2.7, 2.8, 4.0]\n",
      "GPA List in ascending order: [2.7, 2.8, 2.9, 3.5, 4.0]\n"
     ]
    }
   ],
   "source": [
    "print('GPA List in actual order ..:', gpa_list)\n",
    "print('GPA List in ascending order:', lst1)    "
   ]
  },
  {
   "cell_type": "code",
   "execution_count": null,
   "metadata": {},
   "outputs": [],
   "source": []
  },
  {
   "cell_type": "code",
   "execution_count": 59,
   "metadata": {},
   "outputs": [],
   "source": [
    "# Method 2 - Selection Sort "
   ]
  },
  {
   "cell_type": "code",
   "execution_count": 60,
   "metadata": {},
   "outputs": [],
   "source": [
    "lst2 = gpa_list[:]"
   ]
  },
  {
   "cell_type": "code",
   "execution_count": 61,
   "metadata": {},
   "outputs": [],
   "source": [
    "for i in range(0, len(lst2)):\n",
    "    min_index = i\n",
    "    for j in range(i + 1, len(lst2)):\n",
    "        if lst2[j] < lst2[min_index]:\n",
    "            min_index = j\n",
    "    lst2[i], lst2[min_index] = lst2[min_index], lst2[i]"
   ]
  },
  {
   "cell_type": "code",
   "execution_count": 62,
   "metadata": {},
   "outputs": [
    {
     "name": "stdout",
     "output_type": "stream",
     "text": [
      "GPA List in actual order ..: [2.9, 3.5, 2.7, 2.8, 4.0]\n",
      "GPA List in ascending order: [2.7, 2.8, 2.9, 3.5, 4.0]\n"
     ]
    }
   ],
   "source": [
    "print('GPA List in actual order ..:', gpa_list)\n",
    "print('GPA List in ascending order:', lst2) "
   ]
  },
  {
   "cell_type": "code",
   "execution_count": null,
   "metadata": {},
   "outputs": [],
   "source": []
  },
  {
   "cell_type": "code",
   "execution_count": 63,
   "metadata": {},
   "outputs": [],
   "source": [
    "# Method 3 - Selection Sort "
   ]
  },
  {
   "cell_type": "code",
   "execution_count": 64,
   "metadata": {},
   "outputs": [],
   "source": [
    "lst3 = gpa_list[:]"
   ]
  },
  {
   "cell_type": "code",
   "execution_count": 65,
   "metadata": {},
   "outputs": [],
   "source": [
    "i = 0\n",
    "while i < len(lst3):\n",
    "    min_index = i\n",
    "    j = i + 1\n",
    "    while j < len(lst3):\n",
    "        if lst3[j] < lst3[min_index]:\n",
    "            min_index = j\n",
    "        j += 1\n",
    "    lst3[i], lst3[min_index] = lst3[min_index], lst3[i]\n",
    "    i += 1"
   ]
  },
  {
   "cell_type": "code",
   "execution_count": 66,
   "metadata": {},
   "outputs": [
    {
     "name": "stdout",
     "output_type": "stream",
     "text": [
      "GPA List in actual order ..: [2.9, 3.5, 2.7, 2.8, 4.0]\n",
      "GPA List in ascending order: [2.7, 2.8, 2.9, 3.5, 4.0]\n"
     ]
    }
   ],
   "source": [
    "print('GPA List in actual order ..:', gpa_list)\n",
    "print('GPA List in ascending order:', lst3) "
   ]
  },
  {
   "cell_type": "code",
   "execution_count": null,
   "metadata": {},
   "outputs": [],
   "source": []
  },
  {
   "cell_type": "code",
   "execution_count": 67,
   "metadata": {},
   "outputs": [],
   "source": [
    "# Method 4 - Selection Sort "
   ]
  },
  {
   "cell_type": "code",
   "execution_count": 68,
   "metadata": {},
   "outputs": [],
   "source": [
    "lst4 = gpa_list[:]"
   ]
  },
  {
   "cell_type": "code",
   "execution_count": 69,
   "metadata": {},
   "outputs": [],
   "source": [
    "for i in range(0, len(lst4)):\n",
    "    min_index = i\n",
    "    for j in range(i + 1, len(lst4)):\n",
    "        if lst4[j] < lst4[min_index]:\n",
    "            min_index = j\n",
    "    temp = lst4[i]\n",
    "    lst4[i] = lst4[min_index] \n",
    "    lst4[min_index] = temp"
   ]
  },
  {
   "cell_type": "code",
   "execution_count": 70,
   "metadata": {},
   "outputs": [
    {
     "name": "stdout",
     "output_type": "stream",
     "text": [
      "GPA List in actual order ..: [2.9, 3.5, 2.7, 2.8, 4.0]\n",
      "GPA List in ascending order: [2.7, 2.8, 2.9, 3.5, 4.0]\n"
     ]
    }
   ],
   "source": [
    "print('GPA List in actual order ..:', gpa_list)\n",
    "print('GPA List in ascending order:', lst4) "
   ]
  },
  {
   "cell_type": "code",
   "execution_count": null,
   "metadata": {},
   "outputs": [],
   "source": []
  },
  {
   "cell_type": "code",
   "execution_count": 71,
   "metadata": {},
   "outputs": [],
   "source": [
    "# Selection Sort - descending order"
   ]
  },
  {
   "cell_type": "code",
   "execution_count": 72,
   "metadata": {},
   "outputs": [],
   "source": [
    "desc_gpa1 = gpa_list[:]"
   ]
  },
  {
   "cell_type": "code",
   "execution_count": 73,
   "metadata": {},
   "outputs": [],
   "source": [
    "for i in range(0, len(desc_gpa1) - 1):\n",
    "    max_index = i\n",
    "    for j in range(i + 1, len(desc_gpa1)):\n",
    "        if desc_gpa1[j] > desc_gpa1[max_index]:\n",
    "            max_index = j\n",
    "    if max_index != i:\n",
    "        desc_gpa1[i], desc_gpa1[max_index] = desc_gpa1[max_index], desc_gpa1[i]"
   ]
  },
  {
   "cell_type": "code",
   "execution_count": 74,
   "metadata": {},
   "outputs": [
    {
     "name": "stdout",
     "output_type": "stream",
     "text": [
      "GPA List in actual order ...: [2.9, 3.5, 2.7, 2.8, 4.0]\n",
      "GPA List in descending order: [4.0, 3.5, 2.9, 2.8, 2.7]\n"
     ]
    }
   ],
   "source": [
    "print('GPA List in actual order ...:', gpa_list)\n",
    "print('GPA List in descending order:', desc_gpa1) "
   ]
  },
  {
   "cell_type": "code",
   "execution_count": null,
   "metadata": {},
   "outputs": [],
   "source": []
  },
  {
   "cell_type": "markdown",
   "metadata": {},
   "source": [
    "# Bubble Sort "
   ]
  },
  {
   "cell_type": "markdown",
   "metadata": {},
   "source": [
    "#### Solution 5: Sorting using Bubble sort"
   ]
  },
  {
   "cell_type": "code",
   "execution_count": 76,
   "metadata": {},
   "outputs": [],
   "source": [
    "# Method 1 - Bubble Sort "
   ]
  },
  {
   "cell_type": "code",
   "execution_count": 77,
   "metadata": {},
   "outputs": [],
   "source": [
    "lst5 = gpa_list[:]"
   ]
  },
  {
   "cell_type": "code",
   "execution_count": 78,
   "metadata": {},
   "outputs": [],
   "source": [
    "for i in range(0, len(lst5) - 1):\n",
    "    for j in range(0, len(lst5) - i - 1):\n",
    "        if lst5[j] > lst5[j + 1]:\n",
    "            lst5[j], lst5[j + 1] = lst5[j + 1], lst5[j]"
   ]
  },
  {
   "cell_type": "code",
   "execution_count": 79,
   "metadata": {},
   "outputs": [
    {
     "name": "stdout",
     "output_type": "stream",
     "text": [
      "GPA List in actual order ..: [2.9, 3.5, 2.7, 2.8, 4.0]\n",
      "GPA List in ascending order: [2.7, 2.8, 2.9, 3.5, 4.0]\n"
     ]
    }
   ],
   "source": [
    "print('GPA List in actual order ..:', gpa_list)\n",
    "print('GPA List in ascending order:', lst5)     "
   ]
  },
  {
   "cell_type": "code",
   "execution_count": null,
   "metadata": {},
   "outputs": [],
   "source": []
  },
  {
   "cell_type": "code",
   "execution_count": 80,
   "metadata": {},
   "outputs": [],
   "source": [
    "# Method 2 - Bubble Sort "
   ]
  },
  {
   "cell_type": "code",
   "execution_count": 81,
   "metadata": {},
   "outputs": [],
   "source": [
    "lst6 = gpa_list[:]"
   ]
  },
  {
   "cell_type": "code",
   "execution_count": 82,
   "metadata": {},
   "outputs": [],
   "source": [
    "# Optimized Bubble Sort \n",
    "for i in range(0, len(lst6) - 1):\n",
    "    flag = True\n",
    "    for j in range(0, len(lst6) - i - 1):\n",
    "        if lst6[j] > lst6[j + 1]:\n",
    "            lst6[j], lst6[j + 1] = lst6[j + 1], lst6[j]\n",
    "            flag = False\n",
    "    if flag:\n",
    "        break"
   ]
  },
  {
   "cell_type": "code",
   "execution_count": 83,
   "metadata": {},
   "outputs": [
    {
     "name": "stdout",
     "output_type": "stream",
     "text": [
      "GPA List in actual order ..: [2.9, 3.5, 2.7, 2.8, 4.0]\n",
      "GPA List in ascending order: [2.7, 2.8, 2.9, 3.5, 4.0]\n"
     ]
    }
   ],
   "source": [
    "print('GPA List in actual order ..:', gpa_list)\n",
    "print('GPA List in ascending order:', lst6)     "
   ]
  },
  {
   "cell_type": "code",
   "execution_count": null,
   "metadata": {},
   "outputs": [],
   "source": []
  },
  {
   "cell_type": "code",
   "execution_count": 84,
   "metadata": {},
   "outputs": [],
   "source": [
    "# Method 3 - Bubble Sort "
   ]
  },
  {
   "cell_type": "code",
   "execution_count": 85,
   "metadata": {},
   "outputs": [],
   "source": [
    "lst7 = gpa_list[:]"
   ]
  },
  {
   "cell_type": "code",
   "execution_count": 86,
   "metadata": {},
   "outputs": [],
   "source": [
    "i = 0\n",
    "while i < len(lst7) - 1:\n",
    "    flag = True\n",
    "    j = 0 \n",
    "    while j < len(lst7) - i - 1:\n",
    "        if lst7[j] > lst7[j + 1]:\n",
    "            lst7[j], lst7[j + 1] = lst7[j + 1], lst7[j]\n",
    "            flag = False\n",
    "        j += 1\n",
    "    if flag:\n",
    "        break\n",
    "    i += 1"
   ]
  },
  {
   "cell_type": "code",
   "execution_count": 87,
   "metadata": {},
   "outputs": [
    {
     "name": "stdout",
     "output_type": "stream",
     "text": [
      "GPA List in actual order ..: [2.9, 3.5, 2.7, 2.8, 4.0]\n",
      "GPA List in ascending order: [2.7, 2.8, 2.9, 3.5, 4.0]\n"
     ]
    }
   ],
   "source": [
    "print('GPA List in actual order ..:', gpa_list)\n",
    "print('GPA List in ascending order:', lst7)   "
   ]
  },
  {
   "cell_type": "code",
   "execution_count": null,
   "metadata": {},
   "outputs": [],
   "source": []
  },
  {
   "cell_type": "code",
   "execution_count": 88,
   "metadata": {},
   "outputs": [],
   "source": [
    "# Method 4 - - Bubble Sort "
   ]
  },
  {
   "cell_type": "code",
   "execution_count": 89,
   "metadata": {},
   "outputs": [],
   "source": [
    "lst8 = gpa_list[:]"
   ]
  },
  {
   "cell_type": "code",
   "execution_count": 90,
   "metadata": {},
   "outputs": [],
   "source": [
    "swapped = True\n",
    "while swapped:\n",
    "    swapped = False\n",
    "    for j in range(0, len(lst8) - 1):\n",
    "        if lst8[j] > lst8[j + 1]:\n",
    "            lst8[j], lst8[j + 1] = lst8[j + 1], lst8[j]\n",
    "            swapped = True"
   ]
  },
  {
   "cell_type": "code",
   "execution_count": 91,
   "metadata": {},
   "outputs": [
    {
     "name": "stdout",
     "output_type": "stream",
     "text": [
      "GPA List in actual order ..: [2.9, 3.5, 2.7, 2.8, 4.0]\n",
      "GPA List in ascending order: [2.7, 2.8, 2.9, 3.5, 4.0]\n"
     ]
    }
   ],
   "source": [
    "print('GPA List in actual order ..:', gpa_list)\n",
    "print('GPA List in ascending order:', lst8)     "
   ]
  },
  {
   "cell_type": "code",
   "execution_count": null,
   "metadata": {},
   "outputs": [],
   "source": []
  },
  {
   "cell_type": "code",
   "execution_count": 92,
   "metadata": {},
   "outputs": [],
   "source": [
    "# Bubble Sort - descending order"
   ]
  },
  {
   "cell_type": "code",
   "execution_count": 93,
   "metadata": {},
   "outputs": [],
   "source": [
    "desc_gpa2 = gpa_list[:]"
   ]
  },
  {
   "cell_type": "code",
   "execution_count": 94,
   "metadata": {},
   "outputs": [],
   "source": [
    "for i in range(0, len(desc_gpa2) - 1):\n",
    "    flag = True\n",
    "    for j in range(0, len(desc_gpa2) - i - 1):\n",
    "        if desc_gpa2[j] < desc_gpa2[j + 1]:\n",
    "            desc_gpa2[j], desc_gpa2[j + 1] = desc_gpa2[j + 1], desc_gpa2[j]\n",
    "            flag = False\n",
    "    if flag:\n",
    "        break"
   ]
  },
  {
   "cell_type": "code",
   "execution_count": 95,
   "metadata": {},
   "outputs": [
    {
     "name": "stdout",
     "output_type": "stream",
     "text": [
      "GPA List in actual order ...: [2.9, 3.5, 2.7, 2.8, 4.0]\n",
      "GPA List in descending order: [4.0, 3.5, 2.9, 2.8, 2.7]\n"
     ]
    }
   ],
   "source": [
    "print('GPA List in actual order ...:', gpa_list)\n",
    "print('GPA List in descending order:', desc_gpa2) "
   ]
  },
  {
   "cell_type": "code",
   "execution_count": null,
   "metadata": {},
   "outputs": [],
   "source": []
  },
  {
   "cell_type": "markdown",
   "metadata": {},
   "source": [
    "# Insertion Sort "
   ]
  },
  {
   "cell_type": "markdown",
   "metadata": {},
   "source": [
    "#### Solution 6: Sorting using Insertion sort"
   ]
  },
  {
   "cell_type": "code",
   "execution_count": 96,
   "metadata": {},
   "outputs": [],
   "source": [
    "# Method 1 - Insertion Sort "
   ]
  },
  {
   "cell_type": "code",
   "execution_count": 97,
   "metadata": {},
   "outputs": [],
   "source": [
    "lst9 = gpa_list[:]"
   ]
  },
  {
   "cell_type": "code",
   "execution_count": 98,
   "metadata": {},
   "outputs": [],
   "source": [
    "for i in range(1, len(lst9)):\n",
    "    temp = lst9[i]\n",
    "    k = 0\n",
    "    for j in range(i - 1, -2, -1):\n",
    "        k = j\n",
    "        if lst9[j] > temp:\n",
    "            lst9[j + 1] = lst9[j]\n",
    "        else:\n",
    "            break\n",
    "    lst9[k + 1] = temp"
   ]
  },
  {
   "cell_type": "code",
   "execution_count": 99,
   "metadata": {},
   "outputs": [
    {
     "name": "stdout",
     "output_type": "stream",
     "text": [
      "GPA List in actual order ..: [2.9, 3.5, 2.7, 2.8, 4.0]\n",
      "GPA List in ascending order: [2.7, 2.8, 2.9, 3.5, 4.0]\n"
     ]
    }
   ],
   "source": [
    "print('GPA List in actual order ..:', gpa_list)\n",
    "print('GPA List in ascending order:', lst9)      # 65 steps "
   ]
  },
  {
   "cell_type": "code",
   "execution_count": null,
   "metadata": {},
   "outputs": [],
   "source": []
  },
  {
   "cell_type": "code",
   "execution_count": 100,
   "metadata": {},
   "outputs": [],
   "source": [
    "# Method 2 - Insertion Sort "
   ]
  },
  {
   "cell_type": "code",
   "execution_count": 101,
   "metadata": {},
   "outputs": [],
   "source": [
    "lst10 = gpa_list[:]"
   ]
  },
  {
   "cell_type": "code",
   "execution_count": 102,
   "metadata": {},
   "outputs": [],
   "source": [
    "i = 1\n",
    "while i < len(lst10):\n",
    "    temp = lst10[i]\n",
    "    j = i - 1       \n",
    "    while j >= 0 and temp < lst10[j]:\n",
    "        lst10[j + 1] = lst10[j]\n",
    "        j -= 1\n",
    "    lst10[j + 1] = temp\n",
    "    i += 1"
   ]
  },
  {
   "cell_type": "code",
   "execution_count": 103,
   "metadata": {},
   "outputs": [
    {
     "name": "stdout",
     "output_type": "stream",
     "text": [
      "GPA List in actual order ..: [2.9, 3.5, 2.7, 2.8, 4.0]\n",
      "GPA List in ascending order: [2.7, 2.8, 2.9, 3.5, 4.0]\n"
     ]
    }
   ],
   "source": [
    "print('GPA List in actual order ..:', gpa_list)\n",
    "print('GPA List in ascending order:', lst10)     # 50 steps "
   ]
  },
  {
   "cell_type": "code",
   "execution_count": null,
   "metadata": {},
   "outputs": [],
   "source": []
  },
  {
   "cell_type": "code",
   "execution_count": 104,
   "metadata": {},
   "outputs": [],
   "source": [
    "# Method 3 - Insertion Sort "
   ]
  },
  {
   "cell_type": "code",
   "execution_count": 105,
   "metadata": {},
   "outputs": [],
   "source": [
    "lst11 = gpa_list[:]"
   ]
  },
  {
   "cell_type": "code",
   "execution_count": 106,
   "metadata": {},
   "outputs": [],
   "source": [
    "for i in range(1, len(lst11)):\n",
    "    temp = lst11[i]\n",
    "    j = i - 1       \n",
    "    while j >= 0 and temp < lst11[j]:\n",
    "        lst11[j + 1] = lst11[j]\n",
    "        j -= 1\n",
    "    lst11[j + 1] = temp"
   ]
  },
  {
   "cell_type": "code",
   "execution_count": 107,
   "metadata": {},
   "outputs": [
    {
     "name": "stdout",
     "output_type": "stream",
     "text": [
      "GPA List in actual order ..: [2.9, 3.5, 2.7, 2.8, 4.0]\n",
      "GPA List in ascending order: [2.7, 2.8, 2.9, 3.5, 4.0]\n"
     ]
    }
   ],
   "source": [
    "print('GPA List in actual order ..:', gpa_list)\n",
    "print('GPA List in ascending order:', lst11)     # 45 steps"
   ]
  },
  {
   "cell_type": "code",
   "execution_count": null,
   "metadata": {},
   "outputs": [],
   "source": []
  },
  {
   "cell_type": "code",
   "execution_count": 108,
   "metadata": {},
   "outputs": [],
   "source": [
    "# Method 4 - Insertion Sort "
   ]
  },
  {
   "cell_type": "code",
   "execution_count": 109,
   "metadata": {},
   "outputs": [],
   "source": [
    "lst12 = gpa_list[:]"
   ]
  },
  {
   "cell_type": "code",
   "execution_count": 110,
   "metadata": {},
   "outputs": [],
   "source": [
    "for i in range(1, len(lst12)):\n",
    "    temp = lst12[i]\n",
    "    j = i     \n",
    "    while j > 0 and temp < lst12[j - 1]:\n",
    "        lst12[j] = lst12[j - 1]\n",
    "        j -= 1\n",
    "    lst12[j] = temp"
   ]
  },
  {
   "cell_type": "code",
   "execution_count": 111,
   "metadata": {},
   "outputs": [
    {
     "name": "stdout",
     "output_type": "stream",
     "text": [
      "GPA List in actual order ..: [2.9, 3.5, 2.7, 2.8, 4.0]\n",
      "GPA List in ascending order: [2.7, 2.8, 2.9, 3.5, 4.0]\n"
     ]
    }
   ],
   "source": [
    "print('GPA List in actual order ..:', gpa_list)\n",
    "print('GPA List in ascending order:', lst12)     # 45 steps "
   ]
  },
  {
   "cell_type": "code",
   "execution_count": null,
   "metadata": {},
   "outputs": [],
   "source": []
  },
  {
   "cell_type": "code",
   "execution_count": 112,
   "metadata": {},
   "outputs": [],
   "source": [
    "# Insertion Sort - descending order"
   ]
  },
  {
   "cell_type": "code",
   "execution_count": 113,
   "metadata": {},
   "outputs": [],
   "source": [
    "desc_gpa3 = gpa_list[:] "
   ]
  },
  {
   "cell_type": "code",
   "execution_count": 114,
   "metadata": {},
   "outputs": [],
   "source": [
    "for i in range(1, len(desc_gpa3)):\n",
    "    temp = desc_gpa3[i]\n",
    "    j = i - 1       \n",
    "    while j >= 0 and temp > desc_gpa3[j]:\n",
    "        desc_gpa3[j + 1] = desc_gpa3[j]\n",
    "        j -= 1\n",
    "    desc_gpa3[j + 1] = temp"
   ]
  },
  {
   "cell_type": "code",
   "execution_count": 115,
   "metadata": {},
   "outputs": [
    {
     "name": "stdout",
     "output_type": "stream",
     "text": [
      "GPA List in actual order ...: [2.9, 3.5, 2.7, 2.8, 4.0]\n",
      "GPA List in descending order: [4.0, 3.5, 2.9, 2.8, 2.7]\n"
     ]
    }
   ],
   "source": [
    "print('GPA List in actual order ...:', gpa_list)\n",
    "print('GPA List in descending order:', desc_gpa3)"
   ]
  },
  {
   "cell_type": "code",
   "execution_count": null,
   "metadata": {},
   "outputs": [],
   "source": []
  },
  {
   "cell_type": "code",
   "execution_count": null,
   "metadata": {},
   "outputs": [],
   "source": []
  },
  {
   "cell_type": "markdown",
   "metadata": {},
   "source": [
    "#### Solution 7: Bubble sort using User-defined function"
   ]
  },
  {
   "cell_type": "code",
   "execution_count": 116,
   "metadata": {},
   "outputs": [],
   "source": [
    "def bubble_sort(lst):\n",
    "    for i in range(len(lst) - 1):\n",
    "        flag = True\n",
    "        for j in range(len(lst) - i - 1):\n",
    "            if lst[j] > lst[j + 1]:\n",
    "                lst[j], lst[j + 1] = lst[j + 1], lst[j]\n",
    "                flag = False\n",
    "        if flag:\n",
    "            break\n",
    "    return lst"
   ]
  },
  {
   "cell_type": "code",
   "execution_count": 117,
   "metadata": {},
   "outputs": [],
   "source": [
    "sorted_gpa_list1 = bubble_sort(gpa_list[:])"
   ]
  },
  {
   "cell_type": "code",
   "execution_count": 118,
   "metadata": {},
   "outputs": [
    {
     "name": "stdout",
     "output_type": "stream",
     "text": [
      "GPA List in actual order ...: [2.9, 3.5, 2.7, 2.8, 4.0]\n",
      "GPA List in reverse order ..: [4.0, 2.8, 2.7, 3.5, 2.9]\n",
      "GPA List in ascending order : [2.7, 2.8, 2.9, 3.5, 4.0]\n",
      "GPA List in descending order: [4.0, 3.5, 2.9, 2.8, 2.7]\n"
     ]
    }
   ],
   "source": [
    "print('GPA List in actual order ...:', gpa_list)\n",
    "print('GPA List in reverse order ..:', gpa_list[::-1])\n",
    "print('GPA List in ascending order :', sorted_gpa_list1)\n",
    "print('GPA List in descending order:', sorted_gpa_list1[::-1])"
   ]
  },
  {
   "cell_type": "code",
   "execution_count": 119,
   "metadata": {},
   "outputs": [],
   "source": [
    "sorted_info = bubble_sort(info[:])"
   ]
  },
  {
   "cell_type": "code",
   "execution_count": 120,
   "metadata": {},
   "outputs": [
    {
     "name": "stdout",
     "output_type": "stream",
     "text": [
      "Info List in actual order ...: [['Ahmad', 3.8], ['Rizwan', 3.68], ['Bilal', 3.9], ['Khalil', 3.7]]\n",
      "Info List in reverse order ..: [['Khalil', 3.7], ['Bilal', 3.9], ['Rizwan', 3.68], ['Ahmad', 3.8]]\n",
      "Info List in ascending order : [['Ahmad', 3.8], ['Bilal', 3.9], ['Khalil', 3.7], ['Rizwan', 3.68]]\n",
      "Info List in descending order: [['Rizwan', 3.68], ['Khalil', 3.7], ['Bilal', 3.9], ['Ahmad', 3.8]]\n"
     ]
    }
   ],
   "source": [
    "print('Info List in actual order ...:', info)\n",
    "print('Info List in reverse order ..:', info[::-1])\n",
    "print('Info List in ascending order :', sorted_info)\n",
    "print('Info List in descending order:', sorted_info[::-1])"
   ]
  },
  {
   "cell_type": "code",
   "execution_count": 121,
   "metadata": {},
   "outputs": [],
   "source": [
    "sorted_values = bubble_sort([3, 6, 2, 7, 8, 4])"
   ]
  },
  {
   "cell_type": "code",
   "execution_count": 122,
   "metadata": {},
   "outputs": [
    {
     "name": "stdout",
     "output_type": "stream",
     "text": [
      "[2, 3, 4, 6, 7, 8]\n"
     ]
    }
   ],
   "source": [
    "print(sorted_values)"
   ]
  },
  {
   "cell_type": "code",
   "execution_count": 123,
   "metadata": {},
   "outputs": [],
   "source": [
    "sorted_ch1 = bubble_sort(['D', 'B', 'F', 'A', 'C', 'E'])"
   ]
  },
  {
   "cell_type": "code",
   "execution_count": 124,
   "metadata": {},
   "outputs": [
    {
     "name": "stdout",
     "output_type": "stream",
     "text": [
      "['A', 'B', 'C', 'D', 'E', 'F']\n"
     ]
    }
   ],
   "source": [
    "print(sorted_ch1)"
   ]
  },
  {
   "cell_type": "code",
   "execution_count": 125,
   "metadata": {},
   "outputs": [],
   "source": [
    "sorted_ch2 = bubble_sort(['D', 'b', 'F', 'A', 'C', 'e'])"
   ]
  },
  {
   "cell_type": "code",
   "execution_count": 126,
   "metadata": {},
   "outputs": [
    {
     "name": "stdout",
     "output_type": "stream",
     "text": [
      "['A', 'C', 'D', 'F', 'b', 'e']\n"
     ]
    }
   ],
   "source": [
    "print(sorted_ch2)"
   ]
  },
  {
   "cell_type": "code",
   "execution_count": null,
   "metadata": {},
   "outputs": [],
   "source": []
  },
  {
   "cell_type": "markdown",
   "metadata": {},
   "source": [
    "#### Solution 8: Using Modules"
   ]
  },
  {
   "cell_type": "markdown",
   "metadata": {},
   "source": [
    "    - example:\n",
    "            - from sorting_tech import selection_sort, bubble_sort, insertion_sort\n",
    "            - selection_sort(gpa)\n",
    "            - bubble_sort(gpa)\n",
    "            - insertion_sort(gpa)"
   ]
  },
  {
   "cell_type": "code",
   "execution_count": 127,
   "metadata": {},
   "outputs": [],
   "source": [
    "import import_ipynb     # .ipynb"
   ]
  },
  {
   "cell_type": "code",
   "execution_count": 128,
   "metadata": {},
   "outputs": [],
   "source": [
    "# import sorting_tech   # custom module "
   ]
  },
  {
   "cell_type": "code",
   "execution_count": 129,
   "metadata": {},
   "outputs": [],
   "source": [
    "# from sorting_tech import selection_sort, bubble_sort, insertion_sort   # custom module "
   ]
  },
  {
   "cell_type": "code",
   "execution_count": 130,
   "metadata": {},
   "outputs": [
    {
     "name": "stdout",
     "output_type": "stream",
     "text": [
      "importing Jupyter notebook from sorting_tech.ipynb\n"
     ]
    }
   ],
   "source": [
    "import sorting_tech as st  # custom module "
   ]
  },
  {
   "cell_type": "code",
   "execution_count": 131,
   "metadata": {},
   "outputs": [],
   "source": [
    "s_sorting = st.selection_sort([4.0, 3.0, 2.0, 3.6, 2.5])"
   ]
  },
  {
   "cell_type": "code",
   "execution_count": 132,
   "metadata": {},
   "outputs": [
    {
     "name": "stdout",
     "output_type": "stream",
     "text": [
      "[2.0, 2.5, 3.0, 3.6, 4.0]\n"
     ]
    }
   ],
   "source": [
    "print(s_sorting)"
   ]
  },
  {
   "cell_type": "code",
   "execution_count": null,
   "metadata": {},
   "outputs": [],
   "source": []
  },
  {
   "cell_type": "code",
   "execution_count": 133,
   "metadata": {},
   "outputs": [
    {
     "name": "stdout",
     "output_type": "stream",
     "text": [
      "[2.9, 3.5, 2.7, 2.8, 4.0]\n"
     ]
    }
   ],
   "source": [
    "print(gpa_list)"
   ]
  },
  {
   "cell_type": "code",
   "execution_count": 134,
   "metadata": {},
   "outputs": [],
   "source": [
    "b_sorting = st.bubble_sort(gpa_list[:])"
   ]
  },
  {
   "cell_type": "code",
   "execution_count": 135,
   "metadata": {},
   "outputs": [
    {
     "name": "stdout",
     "output_type": "stream",
     "text": [
      "[2.7, 2.8, 2.9, 3.5, 4.0]\n"
     ]
    }
   ],
   "source": [
    "print(b_sorting)"
   ]
  },
  {
   "cell_type": "code",
   "execution_count": null,
   "metadata": {},
   "outputs": [],
   "source": []
  },
  {
   "cell_type": "code",
   "execution_count": 136,
   "metadata": {},
   "outputs": [],
   "source": [
    "i_sorting = st.insertion_sort([4.0, 3.0, 2.0, 3.6, 2.5])"
   ]
  },
  {
   "cell_type": "code",
   "execution_count": 137,
   "metadata": {},
   "outputs": [
    {
     "name": "stdout",
     "output_type": "stream",
     "text": [
      "[2.0, 2.5, 3.0, 3.6, 4.0]\n"
     ]
    }
   ],
   "source": [
    "print(i_sorting)"
   ]
  },
  {
   "cell_type": "code",
   "execution_count": null,
   "metadata": {},
   "outputs": [],
   "source": []
  },
  {
   "cell_type": "code",
   "execution_count": null,
   "metadata": {},
   "outputs": [],
   "source": []
  },
  {
   "cell_type": "markdown",
   "metadata": {},
   "source": [
    "# The Significance of Time Complexity"
   ]
  },
  {
   "cell_type": "markdown",
   "metadata": {},
   "source": [
    "This task covers two different ways to measure the <b>runtime</b> of sorting algorithms:\n",
    "\n",
    "- For a practical point of view, you’ll measure the runtime of the implementations using the <code>timeit</code> module.\n",
    "- For a more theoretical perspective, you’ll measure the runtime complexity of the algorithms using <i>Big O notation</i>."
   ]
  },
  {
   "cell_type": "code",
   "execution_count": 138,
   "metadata": {},
   "outputs": [],
   "source": [
    "from timeit import repeat\n",
    "# Link: timeit - https://docs.python.org/3/library/timeit.html#module-timeit \n",
    "\n",
    "def run_sorting_algorithm(algorithm, array):\n",
    "    \n",
    "    stup_code = f\"from __main__ import {algorithm}\"   # or \"\"\"from __main__ import algorithm\"\"\"\n",
    "    test_code = f\"{algorithm}({array})\"               # or \"\"\"algorithm(array)\"\"\"\n",
    "\n",
    "    # 'stmt'  which is the statement you want to measure\n",
    "    # 'setup' which is the code that you run before running the 'stmt'\n",
    "    #         We generally use this to import the required modules for our code\n",
    "    \n",
    "    # Execute the code ten different times and return the time\n",
    "    # in seconds that each execution took\n",
    "    \n",
    "    times = repeat(setup = stup_code, stmt = test_code, repeat = 3, number = 10)\n",
    "\n",
    "    print(f\"Algorithm: {algorithm}. Minimum execution time: {min(times)}\")"
   ]
  },
  {
   "cell_type": "markdown",
   "metadata": {},
   "source": [
    "<i>Note: A common misconception is that you should find the average time of each run of the algorithm instead of selecting the single shortest time. Time measurements are noisy because the system runs other processes concurrently. The shortest time is always the least noisy, making it the best representation of the algorithm’s true runtime.</i>"
   ]
  },
  {
   "cell_type": "code",
   "execution_count": 148,
   "metadata": {},
   "outputs": [],
   "source": [
    "# selection sort \n",
    "def selection_sort(arr):\n",
    "    n = len(arr)\n",
    "    for i in range(0, n - 1):\n",
    "        min_index = i\n",
    "        for j in range(i + 1, n):\n",
    "            if arr[j] < arr[min_index]:\n",
    "                min_index = j\n",
    "        if min_index != i:\n",
    "            arr[i], arr[min_index] = arr[min_index], arr[i]\n",
    "    return arr"
   ]
  },
  {
   "cell_type": "code",
   "execution_count": 149,
   "metadata": {},
   "outputs": [],
   "source": [
    "# bubble sort\n",
    "def bubble_sort(arr):\n",
    "    n = len(arr)\n",
    "    for i in range(0, n - 1):\n",
    "        flag = True\n",
    "        for j in range(0, n - i - 1):\n",
    "            if arr[j] > arr[j + 1]:\n",
    "                arr[j], arr[j + 1] = arr[j + 1], arr[j]\n",
    "                flag = False\n",
    "        if flag:\n",
    "            break\n",
    "    return arr"
   ]
  },
  {
   "cell_type": "code",
   "execution_count": 150,
   "metadata": {},
   "outputs": [],
   "source": [
    "# insertion sort\n",
    "def insertion_sort(arr):\n",
    "    for i in range(1, len(arr)):\n",
    "        key_item = arr[i]\n",
    "        j = i - 1       \n",
    "        while j >= 0 and arr[j] > key_item:\n",
    "            arr[j + 1] = arr[j]\n",
    "            j = j - 1\n",
    "        arr[j + 1] = key_item\n",
    "    return arr"
   ]
  },
  {
   "cell_type": "code",
   "execution_count": 151,
   "metadata": {},
   "outputs": [],
   "source": [
    "sorted_algo = sorted"
   ]
  },
  {
   "cell_type": "code",
   "execution_count": 152,
   "metadata": {},
   "outputs": [
    {
     "name": "stdout",
     "output_type": "stream",
     "text": [
      "Algorithm: sorted_algo. Minimum execution time: 0.018787799999699928\n"
     ]
    }
   ],
   "source": [
    "from random import randint\n",
    "ARRAY_LENGTH = 10000\n",
    "\n",
    "if __name__ == \"__main__\":\n",
    "    random_list = [randint(0, 1000) for i in range(ARRAY_LENGTH)]\n",
    "    \n",
    "    run_sorting_algorithm(algorithm = 'sorted_algo', array = random_list)"
   ]
  },
  {
   "cell_type": "markdown",
   "metadata": {},
   "source": [
    "<i>Remember that the time in seconds of every experiment depends in part on the hardware you use</i>."
   ]
  },
  {
   "cell_type": "code",
   "execution_count": 153,
   "metadata": {},
   "outputs": [
    {
     "name": "stdout",
     "output_type": "stream",
     "text": [
      "Algorithm: selection_sort. Minimum execution time: 82.51413020000109\n"
     ]
    }
   ],
   "source": [
    "from random import randint\n",
    "ARRAY_LENGTH = 10000\n",
    "\n",
    "if __name__ == \"__main__\":\n",
    "    random_list = [randint(0, 1000) for i in range(ARRAY_LENGTH)]\n",
    "    \n",
    "    run_sorting_algorithm(algorithm = 'selection_sort', array = random_list)"
   ]
  },
  {
   "cell_type": "markdown",
   "metadata": {},
   "source": [
    "It took 83 seconds to sort the array with ten thousand elements. This represents the fastest execution out of the ten repetitions that <code>run_sorting_algorithm()</code> runs. Executing this script multiple times will produce similar results."
   ]
  },
  {
   "cell_type": "markdown",
   "metadata": {},
   "source": [
    "<i>Note: A single execution of selection sort took 83 seconds, but the algorithm ran ten times using timeit.repeat(). This means that you should expect your code to take around 83 * 10 = 830 seconds to run, assuming you have similar hardware characteristics. Slower machines may take much longer to finish.</i>"
   ]
  },
  {
   "cell_type": "markdown",
   "metadata": {},
   "source": [
    "<code>\n",
    "Algorithm: selection_sort. Minimum execution time: 82.51413020000109\n",
    "Algorithm: bubble_sort. Minimum execution time: 68.735260200001\n",
    "Algorithm: insertion_sort. Minimum execution time: 31.1497653\n",
    "</code>"
   ]
  },
  {
   "cell_type": "code",
   "execution_count": null,
   "metadata": {},
   "outputs": [],
   "source": []
  },
  {
   "cell_type": "code",
   "execution_count": null,
   "metadata": {},
   "outputs": [],
   "source": []
  },
  {
   "cell_type": "markdown",
   "metadata": {},
   "source": [
    "@mrizwanse"
   ]
  },
  {
   "cell_type": "markdown",
   "metadata": {},
   "source": [
    "#### Happy Learning 😊"
   ]
  }
 ],
 "metadata": {
  "kernelspec": {
   "display_name": "Python 3",
   "language": "python",
   "name": "python3"
  },
  "language_info": {
   "codemirror_mode": {
    "name": "ipython",
    "version": 3
   },
   "file_extension": ".py",
   "mimetype": "text/x-python",
   "name": "python",
   "nbconvert_exporter": "python",
   "pygments_lexer": "ipython3",
   "version": "3.8.3"
  }
 },
 "nbformat": 4,
 "nbformat_minor": 4
}
