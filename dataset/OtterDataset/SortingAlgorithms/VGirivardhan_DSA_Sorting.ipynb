{
 "cells": [
  {
   "cell_type": "markdown",
   "id": "edcb3b2f",
   "metadata": {},
   "source": [
    "### Bubble Sort\n",
    "Bubble Sort is the simplest sorting algorithm that works by repeatedly swapping the adjacent elements if they are in the wrong order. This algorithm is not suitable for large data sets as its average and worst-case time complexity is quite high."
   ]
  },
  {
   "cell_type": "code",
   "execution_count": 2,
   "id": "50f6a826",
   "metadata": {},
   "outputs": [
    {
     "name": "stdout",
     "output_type": "stream",
     "text": [
      "Enter list values with seperated by space:3 5 10 20 4\n",
      "3 4 5 10 20\n"
     ]
    }
   ],
   "source": [
    "def bubblesort(l):\n",
    "    n=len(l)\n",
    "    for i in range(n-1):\n",
    "        swapped=False\n",
    "        for j in range(n-i-1):\n",
    "            if l[j]>l[j+1]:\n",
    "                l[j],l[j+1]=l[j+1],l[j]\n",
    "                swapped=True\n",
    "        if swapped ==False:\n",
    "            return\n",
    "lst=[int(x) for x in input(\"Enter list values with seperated by space:\").split()]\n",
    "bubblesort(lst)\n",
    "print(*lst)"
   ]
  },
  {
   "cell_type": "markdown",
   "id": "9029ab24",
   "metadata": {},
   "source": [
    "Given an Integer N and a list arr. Sort the array using bubble sort algorithm.\n",
    "Example 1:\n",
    "\n",
    "Input: \n",
    "N = 5\n",
    "arr[] = {4, 1, 3, 9, 7}\n",
    "Output: \n",
    "1 3 4 7 9\n",
    "Example 2:\n",
    "\n",
    "Input:\n",
    "N = 10 \n",
    "arr[] = {10, 9, 8, 7, 6, 5, 4, 3, 2, 1}\n",
    "Output: \n",
    "1 2 3 4 5 6 7 8 9 10\n",
    "\n",
    "Your Task: \n",
    "You don't have to read input or print anything. Your task is to complete the function bubblesort() which takes the array and it's size as input and sorts the array using bubble sort algorithm.\n",
    "\n",
    "Expected Time Complexity: O(N^2).\n",
    "Expected Auxiliary Space: O(1).\n",
    "\n",
    "Constraints:\n",
    "1 <= N <= 103\n",
    "1 <= arr[i] <= 103"
   ]
  },
  {
   "cell_type": "code",
   "execution_count": 3,
   "id": "f6226a42",
   "metadata": {},
   "outputs": [
    {
     "name": "stdout",
     "output_type": "stream",
     "text": [
      "1\n",
      "5\n",
      "4 1 3 9 7\n",
      "1 3 4 7 9 \n"
     ]
    }
   ],
   "source": [
    "#User function Template for python3\n",
    "\n",
    "class Solution:\n",
    "    #Function to sort the array using bubble sort algorithm.\n",
    "    def bubbleSort(self,arr, n):\n",
    "        for i in range(n-1):\n",
    "            swapped=False\n",
    "            for j in range(n-i-1):\n",
    "                if arr[j]>arr[j+1]:\n",
    "                    arr[j],arr[j+1]=arr[j+1],arr[j]\n",
    "                    swapped =True\n",
    "            if swapped ==False:\n",
    "                return\n",
    "\n",
    "\n",
    "#{ \n",
    " # Driver Code Starts\n",
    "#Initial Template for Python 3\n",
    "\n",
    "\n",
    "\n",
    "if __name__=='__main__':\n",
    "    t = int(input())\n",
    "    for i in range(t):\n",
    "        n = int(input())\n",
    "        arr = list(map(int, input().strip().split()))\n",
    "        ob = Solution()\n",
    "        ob.bubbleSort(arr, n)\n",
    "        for i in arr:\n",
    "            print(i,end=' ')\n",
    "        print()\n",
    "\n",
    "# } Driver Code Ends"
   ]
  },
  {
   "cell_type": "markdown",
   "id": "c6f9b478",
   "metadata": {},
   "source": [
    "### Selection Sort\n",
    "The selection sort algorithm sorts an array by repeatedly finding the minimum element (considering ascending order) from unsorted part and putting it at the beginning. The algorithm maintains two subarrays in a given array.\n",
    "\n",
    "1) The subarray which is already sorted.\n",
    "\n",
    "2) Remaining subarray which is unsorted. In every iteration of selection sort, the minimum element (considering ascending order) from the unsorted subarray is picked and moved to the sorted subarray."
   ]
  },
  {
   "cell_type": "code",
   "execution_count": 4,
   "id": "e8b5dbbe",
   "metadata": {},
   "outputs": [
    {
     "name": "stdout",
     "output_type": "stream",
     "text": [
      "Enter list values with seperated by space:3 5 10 20 40\n",
      "3 5 10 20 40\n"
     ]
    }
   ],
   "source": [
    "def selectionsort(l):\n",
    "    n=len(l)\n",
    "    for i in range(n-1):\n",
    "        min_ind=i\n",
    "        for j in range(i+1,n):\n",
    "            if l[j]<l[min_ind]:\n",
    "                min_ind=j\n",
    "        l[i],l[min_ind]=l[min_ind],l[i]\n",
    "lst=[int(x) for x in input(\"Enter list values with seperated by space:\").split()]\n",
    "selectionsort(lst)\n",
    "print(*lst)"
   ]
  },
  {
   "cell_type": "code",
   "execution_count": null,
   "id": "a9bc1ee4",
   "metadata": {},
   "outputs": [],
   "source": [
    "Insertion Sort\n",
    "EasyAccuracy: 66.61%Submissions: 120K+Points: 2\n",
    "Three 90 Challenge Extended On Popular Demand! Don't Miss Out Now \n",
    "\n",
    "banner\n",
    "The task is to complete the insert() function which is used to implement Insertion Sort.\n",
    "\n",
    "\n",
    "Example 1:\n",
    "\n",
    "Input:\n",
    "N = 5\n",
    "arr[] = { 4, 1, 3, 9, 7}\n",
    "Output:\n",
    "1 3 4 7 9\n",
    "Example 2:\n",
    "\n",
    "Input:\n",
    "N = 10\n",
    "arr[] = {10, 9, 8, 7, 6, 5, 4, 3, 2, 1}\n",
    "Output:\n",
    "1 2 3 4 5 6 7 8 9 10\n",
    "\n",
    "Your Task: \n",
    "You don't have to read input or print anything. Your task is to complete the function insert() and insertionSort() where insert() takes the array, it's size and an index i and insertionSort() uses insert function to sort the array in ascending order using insertion sort algorithm. \n",
    "\n",
    "Expected Time Complexity: O(N*N).\n",
    "Expected Auxiliary Space: O(1).\n",
    "\n",
    "\n",
    "Constraints:\n",
    "1 <= N <= 1000\n",
    "1 <= arr[i] <= 1000"
   ]
  },
  {
   "cell_type": "code",
   "execution_count": 5,
   "id": "cb97c3f5",
   "metadata": {},
   "outputs": [
    {
     "name": "stdout",
     "output_type": "stream",
     "text": [
      "1\n",
      "10\n",
      "10 9 8 7 6 5 4 3 2 1\n",
      "1 2 3 4 5 6 7 8 9 10 \n"
     ]
    }
   ],
   "source": [
    "#Sort the array using insertion sort\n",
    "\n",
    "class Solution:\n",
    "    def insert(self, alist, index, n):\n",
    "        pass\n",
    "        \n",
    "    #Function to sort the list using insertion sort algorithm.    \n",
    "    def insertionSort(self, alist, n):\n",
    "        for i in range(1,n):\n",
    "            x=alist[i]\n",
    "            j=i-1\n",
    "            while j>=0 and x<alist[j]:\n",
    "                alist[j+1]=alist[j]\n",
    "                j=j-1\n",
    "            alist[j+1]=x\n",
    "        \n",
    "\n",
    "\n",
    "#{ \n",
    " # Driver Code Starts\n",
    "\n",
    "if __name__==\"__main__\":\n",
    "    t=int(input())\n",
    "    for i in range(t):\n",
    "        n=int(input())\n",
    "        arr=list(map(int,input().split()))\n",
    "    \n",
    "        Solution().insertionSort(arr,n)\n",
    "    \n",
    "        for i in range(n):\n",
    "            print(arr[i],end=\" \")\n",
    "    \n",
    "        print()\n",
    "# } Driver Code Ends"
   ]
  },
  {
   "cell_type": "markdown",
   "id": "ad411a15",
   "metadata": {},
   "source": [
    "### Merge Sort Algorithm\n",
    " \n",
    "\n",
    "The Merge Sort algorithm is a sorting algorithm that is based on the Divide and Conquer paradigm. In this algorithm, the array is initially divided into two equal halves and then they are combined in a sorted manner.\n",
    "\n",
    "### Merge Sort Working Process:\n",
    "Think of it as a recursive algorithm continuously splits the array in half until it cannot be further divided. This means that if the array becomes empty or has only one element left, the dividing will stop, i.e. it is the base case to stop the recursion. If the array has multiple elements, split the array into halves and recursively invoke the merge sort on each of the halves. Finally, when both halves are sorted, the merge operation is applied. Merge operation is the process of taking two smaller sorted arrays and combining them to eventually make a larger one.\n",
    "\n",
    " \n",
    "\n",
    "###Algorithm:\n",
    "step 1: start\n",
    "\n",
    "step 2: declare array and left, right, mid variable\n",
    "\n",
    "step 3: perform merge function.\n",
    "    if left > right\n",
    "        return\n",
    "    mid= (left+right)/2\n",
    "    mergesort(array, left, mid)\n",
    "    mergesort(array, mid+1, right)\n",
    "    merge(array, left, mid, right)\n",
    "\n",
    "step 4: Stop\n",
    "\n",
    "###Follow the steps below the solve the problem:\n",
    "\n",
    "MergeSort(arr[], l,  r)\n",
    "If r > l\n",
    "\n",
    "Find the middle point to divide the array into two halves: \n",
    "middle m = l + (r – l)/2\n",
    "Call mergeSort for first half:   \n",
    "Call mergeSort(arr, l, m)\n",
    "Call mergeSort for second half:\n",
    "Call mergeSort(arr, m + 1, r)\n",
    "Merge the two halves sorted in steps 2 and 3:\n",
    "Call merge(arr, l, m, r)"
   ]
  },
  {
   "cell_type": "code",
   "execution_count": 4,
   "id": "881bd221",
   "metadata": {},
   "outputs": [
    {
     "name": "stdout",
     "output_type": "stream",
     "text": [
      "Enter list values separated by space:90 50 70 60 40\n",
      "Sorted list: 40 50 60 70 90\n"
     ]
    }
   ],
   "source": [
    "def mergesort(a, l, r):\n",
    "    if l < r:\n",
    "        mid = (l + r) // 2\n",
    "        mergesort(a, l, mid)\n",
    "        mergesort(a, mid + 1, r)\n",
    "        merge(a, l, mid, r)\n",
    "        \n",
    "def merge(a, low, mid, high):\n",
    "    left = a[low:mid + 1]\n",
    "    right = a[mid + 1:high + 1]\n",
    "    i, j, k = 0, 0, low\n",
    "    while i < len(left) and j < len(right):\n",
    "        if left[i] <= right[j]:\n",
    "            a[k] = left[i]\n",
    "            i += 1\n",
    "        else:\n",
    "            a[k] = right[j]\n",
    "            j += 1\n",
    "        k += 1\n",
    "    while i < len(left):\n",
    "        a[k] = left[i]\n",
    "        i += 1\n",
    "        k += 1\n",
    "    while j < len(right):\n",
    "        a[k] = right[j]\n",
    "        j += 1\n",
    "        k += 1\n",
    "        \n",
    "lst = [int(x) for x in input(\"Enter list values separated by space:\").split()]\n",
    "n = len(lst) \n",
    "mergesort(lst, 0, n - 1)\n",
    "print(\"Sorted list:\", *lst) \n"
   ]
  },
  {
   "cell_type": "code",
   "execution_count": 3,
   "id": "cb3e12fd",
   "metadata": {},
   "outputs": [
    {
     "name": "stdout",
     "output_type": "stream",
     "text": [
      "Enter list values with seperated by space:10 40 50 11\n",
      "10 11 40 50\n"
     ]
    }
   ],
   "source": [
    "def mergesort(a,l,r):\n",
    "    if l<r:\n",
    "        mid=(l+r)//2\n",
    "        mergesort(a,l,mid)\n",
    "        mergesort(a,mid+1,r)\n",
    "        merge(a,l,mid,r)\n",
    "def merge(a,low,mid,high):\n",
    "    left=a[low:mid+1]\n",
    "    right=a[mid+1:high+1]\n",
    "    i,j,k=0,0,low\n",
    "    \n",
    "    while i<len(left) and j<len(right):\n",
    "        if left[i]<right[j]:\n",
    "            a[k]=left[i]\n",
    "            i+=1\n",
    "            k+=1\n",
    "        else:\n",
    "            a[k]=right[j]\n",
    "            j+=1\n",
    "            k+=1\n",
    "    while(i<len(left)):\n",
    "        a[k]=left[i]\n",
    "        i+=1\n",
    "        k+=1\n",
    "    while(j<len(right)):\n",
    "        a[k]=right[j]\n",
    "        j+=1\n",
    "        k+=1\n",
    "lst=[int(x) for x in input(\"Enter list values with seperated by space:\").split()]\n",
    "n=len(lst)-1\n",
    "mergesort(lst,0,n)\n",
    "print(*lst)"
   ]
  },
  {
   "cell_type": "markdown",
   "id": "a25e5252",
   "metadata": {},
   "source": [
    "### Union of Two sorted Array"
   ]
  },
  {
   "cell_type": "code",
   "execution_count": 7,
   "id": "a0f47deb",
   "metadata": {},
   "outputs": [
    {
     "name": "stdout",
     "output_type": "stream",
     "text": [
      "Enter list values separated by space:2 20 20 40\n",
      "Enter list values separated by space:1 10 20\n",
      "1 2 10 20 40 "
     ]
    }
   ],
   "source": [
    "def printunion(a,b):\n",
    "    i,j=0,0\n",
    "    while i<len(a) and j<len(b):\n",
    "        if i>0 and a[i]==a[i-1]:\n",
    "            i+=1\n",
    "        elif j>0 and b[j]==b[j-1]:\n",
    "            j+=1\n",
    "        elif a[i]<b[j]:\n",
    "            print(a[i],end=\" \")\n",
    "            i+=1\n",
    "        elif a[i]>b[j]:\n",
    "            print(b[j],end=\" \")\n",
    "            j+=1\n",
    "        else:\n",
    "            print(a[i],end=\" \")\n",
    "            i+=1\n",
    "            j+=1\n",
    "    while i<len(a):\n",
    "        if i>0 and a[i]!=a[i-1]:\n",
    "            print(a[i],end=\" \")\n",
    "        i+=1\n",
    "    while j<len(b):\n",
    "        if j>0 and b[j]!=b[j-1]:\n",
    "            print(b[j],end=\" \")\n",
    "        j+=1\n",
    "\n",
    "lst1 = [int(x) for x in input(\"Enter list values separated by space:\").split()]\n",
    "lst2 = [int(x) for x in input(\"Enter list values separated by space:\").split()]\n",
    "printunion(lst1,lst2)\n"
   ]
  },
  {
   "cell_type": "markdown",
   "id": "0afa563c",
   "metadata": {},
   "source": [
    "### Intersection of Two Arrays"
   ]
  },
  {
   "cell_type": "code",
   "execution_count": 8,
   "id": "cb61de16",
   "metadata": {},
   "outputs": [
    {
     "name": "stdout",
     "output_type": "stream",
     "text": [
      "Enter list values separated by space:10 20 30 40 50\n",
      "Enter list values separated by space:20 30\n",
      "20 30 "
     ]
    }
   ],
   "source": [
    "### Naive Approach\n",
    "def intersection(a,b):\n",
    "    for i in range(len(a)):\n",
    "        if i>0 and a[i]==a[i-1]:\n",
    "            continue \n",
    "        for j in range(len(b)):\n",
    "            if a[i]==b[j]:\n",
    "                print(a[i],end=\" \")\n",
    "lst1 = [int(x) for x in input(\"Enter list values separated by space:\").split()]\n",
    "lst2 = [int(x) for x in input(\"Enter list values separated by space:\").split()]\n",
    "intersection(lst1,lst2)"
   ]
  },
  {
   "cell_type": "code",
   "execution_count": 9,
   "id": "ae43750d",
   "metadata": {},
   "outputs": [
    {
     "name": "stdout",
     "output_type": "stream",
     "text": [
      "Enter list values separated by space:10 20 30 40 50\n",
      "Enter list values separated by space:20 30\n",
      "20 30 "
     ]
    }
   ],
   "source": [
    "### Efficient Approach\n",
    "def intersecton(a,b):\n",
    "    i,j=0,0\n",
    "    while i<len(a) and j<len(b):\n",
    "        if i>0 and a[i]==a[i-1]:\n",
    "            i+=1\n",
    "            continue\n",
    "        elif a[i]<b[j]:\n",
    "            i+=1\n",
    "        elif a[i]>b[j]:\n",
    "            j+=1\n",
    "        else:\n",
    "            print(a[i],end=\" \")\n",
    "            i+=1\n",
    "            j+=1\n",
    "lst1 = [int(x) for x in input(\"Enter list values separated by space:\").split()]\n",
    "lst2 = [int(x) for x in input(\"Enter list values separated by space:\").split()]\n",
    "intersection(lst1,lst2)            "
   ]
  },
  {
   "cell_type": "markdown",
   "id": "ca13a959",
   "metadata": {},
   "source": [
    "### Count Inversions in Array\n",
    "Inversion Count for an array indicates – how far (or close) the array is from being sorted. If the array is already sorted, then the inversion count is 0, but if the array is sorted in reverse order, the inversion count is the maximum. \n",
    "\n",
    "Given an array a[]. The task is to find the inversion count of a[]. Where two elements a[i] and a[j] form an inversion if a[i] > a[j] and i < j."
   ]
  },
  {
   "cell_type": "code",
   "execution_count": 10,
   "id": "367c2ca9",
   "metadata": {},
   "outputs": [
    {
     "name": "stdout",
     "output_type": "stream",
     "text": [
      "Enter list values separated by space:8 4 2 1\n",
      "Count Inversions of Array is 6\n"
     ]
    }
   ],
   "source": [
    "### Naive approach\n",
    "def inversion(a):\n",
    "    count=0\n",
    "    for i in range(len(a)-1):\n",
    "        for j in range(1,len(a)):\n",
    "            if a[i]>a[j]:\n",
    "                count+=1\n",
    "    return count\n",
    "lst1 = [int(x) for x in input(\"Enter list values separated by space:\").split()]\n",
    "print(\"Count Inversions of Array is {}\".format(inversion(lst1)))"
   ]
  },
  {
   "cell_type": "code",
   "execution_count": 3,
   "id": "37e1d1be",
   "metadata": {},
   "outputs": [
    {
     "name": "stdout",
     "output_type": "stream",
     "text": [
      "Enter list values separated by space:1 20 6 4 5\n",
      "Count Inversions of Array is 5\n"
     ]
    }
   ],
   "source": [
    "def countInv(a):\n",
    "    n = len(a)\n",
    "    temp_arr = [0] * n\n",
    "    return mergeSortCount(a, temp_arr, 0, n - 1)\n",
    "\n",
    "def mergeSortCount(a, temp_arr, l, r):\n",
    "    res = 0\n",
    "    if l < r:\n",
    "        m = (l + r) // 2\n",
    "        res += mergeSortCount(a, temp_arr, l, m)\n",
    "        res += mergeSortCount(a, temp_arr, m + 1, r)\n",
    "        res += merge(a, temp_arr, l, m, r)\n",
    "    return res\n",
    "\n",
    "def merge(a, temp_arr, low, mid, high):\n",
    "    left = a[low:mid + 1]\n",
    "    right = a[mid + 1:high + 1]\n",
    "    res, i, j, k = 0, 0, 0, low\n",
    "    while i < len(left) and j < len(right):\n",
    "        if left[i] <= right[j]:\n",
    "            temp_arr[k] = left[i]\n",
    "            i += 1\n",
    "        else:\n",
    "            temp_arr[k] = right[j]\n",
    "            j += 1\n",
    "            res += len(left) - i\n",
    "        k += 1\n",
    "    while i < len(left):\n",
    "        temp_arr[k] = left[i]\n",
    "        i += 1\n",
    "        k += 1\n",
    "    while j < len(right):\n",
    "        temp_arr[k] = right[j]\n",
    "        j += 1\n",
    "        k += 1\n",
    "    for l in range(low, high + 1):\n",
    "        a[l] = temp_arr[l]\n",
    "    return res\n",
    "\n",
    "lst1 = [int(x) for x in input(\"Enter list values separated by space:\").split()]\n",
    "print(\"Count Inversions of Array is\", countInv(lst1))\n"
   ]
  },
  {
   "cell_type": "code",
   "execution_count": 1,
   "id": "c9121e4f",
   "metadata": {},
   "outputs": [
    {
     "name": "stdout",
     "output_type": "stream",
     "text": [
      "Enter list values separated by space:1 20 6 4 5\n",
      "Count Inversions of Array is 5\n"
     ]
    }
   ],
   "source": [
    "def countInv(a):\n",
    "    n = len(a)\n",
    "    temp_arr = [0] * n\n",
    "    return mergeSortCount(a, temp_arr, 0, n - 1)\n",
    "\n",
    "def mergeSortCount(arr, temp_arr, left, right):\n",
    "    inv_count = 0\n",
    "\n",
    "    if left < right:\n",
    "        mid = (left + right) // 2\n",
    "        inv_count += mergeSortCount(arr, temp_arr, left, mid)\n",
    "        inv_count += mergeSortCount(arr, temp_arr, mid + 1, right)\n",
    "        inv_count += merge(arr, temp_arr, left, mid, right)\n",
    "\n",
    "    return inv_count\n",
    "\n",
    "def merge(arr, temp_arr, left, mid, right):\n",
    "    i = left\n",
    "    j = mid + 1\n",
    "    k = left\n",
    "    inv_count = 0\n",
    "\n",
    "    while i <= mid and j <= right:\n",
    "        if arr[i] <= arr[j]:\n",
    "            temp_arr[k] = arr[i]\n",
    "            k += 1\n",
    "            i += 1\n",
    "        else:\n",
    "            temp_arr[k] = arr[j]\n",
    "            inv_count += (mid - i + 1)\n",
    "            k += 1\n",
    "            j += 1\n",
    "\n",
    "    while i <= mid:\n",
    "        temp_arr[k] = arr[i]\n",
    "        k += 1\n",
    "        i += 1\n",
    "\n",
    "    while j <= right:\n",
    "        temp_arr[k] = arr[j]\n",
    "        k += 1\n",
    "        j += 1\n",
    "\n",
    "    for l in range(left, right + 1):\n",
    "        arr[l] = temp_arr[l]\n",
    "\n",
    "    return inv_count\n",
    "\n",
    "lst1 = [int(x) for x in input(\"Enter list values separated by space:\").split()]\n",
    "print(\"Count Inversions of Array is\", countInv(lst1))\n"
   ]
  },
  {
   "cell_type": "markdown",
   "id": "9ef5f63a",
   "metadata": {},
   "source": [
    "### Count Inversions\n",
    "\n",
    "Given an array of integers. Find the Inversion Count in the array. \n",
    "\n",
    "Inversion Count: For an array, inversion count indicates how far (or close) the array is from being sorted. If the array is already sorted then the inversion count is 0.\n",
    "If an array is sorted in the reverse order then the inversion count is the maximum. \n",
    "Formally, two elements a[i] and a[j] form an inversion if a[i] > a[j] and i < j.\n",
    " \n",
    "\n",
    "Example 1:\n",
    "\n",
    "Input: N = 5, arr[] = {2, 4, 1, 3, 5}\n",
    "Output: 3\n",
    "Explanation: The sequence 2, 4, 1, 3, 5 \n",
    "has three inversions (2, 1), (4, 1), (4, 3).\n",
    "Example 2:\n",
    "\n",
    "Input: N = 5\n",
    "arr[] = {2, 3, 4, 5, 6}\n",
    "Output: 0\n",
    "Explanation: As the sequence is already \n",
    "sorted so there is no inversion count.\n",
    "Example 3:\n",
    "\n",
    "Input: N = 3, arr[] = {10, 10, 10}\n",
    "Output: 0\n",
    "Explanation: As all the elements of array \n",
    "are same, so there is no inversion count.\n",
    "Your Task:\n",
    "\n",
    "You don't need to read input or print anything.\n",
    "Your task is to complete the function inversionCount() which takes the array arr[] and the size of the array as inputs and returns the inversion count of the given array.\n",
    "\n",
    "Expected Time Complexity: O(NLogN).\n",
    "Expected Auxiliary Space: O(N).\n",
    "\n",
    "Constraints:\n",
    "1 ≤ N ≤ 5*105\n",
    "1 ≤ arr[i] ≤ 1018"
   ]
  },
  {
   "cell_type": "code",
   "execution_count": 2,
   "id": "baf25c41",
   "metadata": {},
   "outputs": [
    {
     "name": "stdout",
     "output_type": "stream",
     "text": [
      "5\n",
      "2 4 1 3 5\n",
      "3\n"
     ]
    }
   ],
   "source": [
    "def inversionCount(arr, n):\n",
    "    return merge_sort_and_count(arr, 0, n - 1)\n",
    "\n",
    "def merge_sort_and_count(arr, left, right):\n",
    "    count = 0\n",
    "\n",
    "    if left < right:\n",
    "        mid = (left + right) // 2\n",
    "\n",
    "        count += merge_sort_and_count(arr, left, mid)\n",
    "        count += merge_sort_and_count(arr, mid + 1, right)\n",
    "        count += merge_and_count(arr, left, mid, right)\n",
    "\n",
    "    return count\n",
    "\n",
    "def merge_and_count(arr, left, mid, right):\n",
    "    count = 0\n",
    "    temp = []\n",
    "\n",
    "    i, j = left, mid + 1\n",
    "\n",
    "    while i <= mid and j <= right:\n",
    "        if arr[i] <= arr[j]:\n",
    "            temp.append(arr[i])\n",
    "            i += 1\n",
    "        else:\n",
    "            temp.append(arr[j])\n",
    "            count += mid - i + 1\n",
    "            j += 1\n",
    "\n",
    "    temp.extend(arr[i:mid + 1])\n",
    "    temp.extend(arr[j:right + 1])\n",
    "    arr[left:right + 1] = temp\n",
    "\n",
    "    return count\n",
    "\n",
    "# Driver code\n",
    "if __name__ == '__main__':\n",
    "    n = int(input())\n",
    "    arr = list(map(int, input().strip().split()))\n",
    "    print(inversionCount(arr, n))\n"
   ]
  },
  {
   "cell_type": "code",
   "execution_count": 1,
   "id": "d3bf44ed",
   "metadata": {},
   "outputs": [
    {
     "name": "stdout",
     "output_type": "stream",
     "text": [
      "Enter list values separated by space:1 50 80 70 30 90 60\n",
      "Enter index value:1\n",
      "[1, 30, 50, 60, 80, 70, 90]\n"
     ]
    }
   ],
   "source": [
    "def partition(arr,ind):\n",
    "    n=len(arr)\n",
    "    arr[ind],arr[n-1]=arr[n-1],arr[ind]\n",
    "    temp=[]\n",
    "    for i in arr:\n",
    "        if i<=arr[n-1]:\n",
    "            temp.append(i)\n",
    "    for x in arr:\n",
    "        if x>arr[n-1]:\n",
    "            temp.append(x)\n",
    "    arr[:]=temp[:]\n",
    "    return arr\n",
    "lst1 = [int(x) for x in input(\"Enter list values separated by space:\").split()]\n",
    "index=int(input(\"Enter index value:\"))\n",
    "print(partition(lst1,index))"
   ]
  },
  {
   "cell_type": "markdown",
   "id": "350eaa8d",
   "metadata": {},
   "source": [
    "### Lomuto’s Partition Scheme:\n",
    "\n",
    "This algorithm works by assuming the pivot element as the last element. If any other element is given as a pivot element then swap it first with the last element. Now initialize two variables i as low and j also low,  iterate over the array and increment i when arr[j] <= pivot and swap arr[i] with arr[j] otherwise increment only j. After coming out from the loop swap arr[i] with arr[hi]. This i stores the pivot element."
   ]
  },
  {
   "cell_type": "code",
   "execution_count": 8,
   "id": "a15e2566",
   "metadata": {},
   "outputs": [
    {
     "name": "stdout",
     "output_type": "stream",
     "text": [
      "Enter list values separated by space:10 80 30 90 50 70\n",
      "([10, 30, 50, 70, 80, 90], 3)\n"
     ]
    }
   ],
   "source": [
    "def lomutoPartition(arr, l, h):\n",
    "    pivot=arr[h]\n",
    "    i=l-1\n",
    "    for j in range(l,h):\n",
    "        if arr[j]<=pivot:\n",
    "            i+=1\n",
    "            arr[i],arr[j]=arr[j],arr[i]\n",
    "    arr[i+1],arr[h]=arr[h],arr[i+1]\n",
    "    return arr,i+1\n",
    "lst1 = [int(x) for x in input(\"Enter list values separated by space:\").split()]\n",
    "n=len(lst1)\n",
    "print(lomutoPartition(lst1, 0, n-1))"
   ]
  },
  {
   "cell_type": "markdown",
   "id": "9f1d7773",
   "metadata": {},
   "source": [
    "### Hoare’s Partition Scheme:\n",
    "Hoare’s Partition Scheme works by initializing two indexes that start at two ends, the two indexes move toward each other until an inversion is (A smaller value on the left side and greater value on the right side) found. When an inversion is found, two values are swapped and the process is repeated."
   ]
  },
  {
   "cell_type": "code",
   "execution_count": 6,
   "id": "dba6790e",
   "metadata": {},
   "outputs": [
    {
     "name": "stdout",
     "output_type": "stream",
     "text": [
      "Enter list values separated by space:8 4 7 9 3 10 5\n",
      "([5, 4, 7, 3, 9, 10, 8], 3)\n"
     ]
    }
   ],
   "source": [
    "def hoarePartition(arr, l, h):\n",
    "    pivot = arr[l]\n",
    "    i = l - 1\n",
    "    j = h + 1\n",
    "    \n",
    "    while True:\n",
    "        i += 1\n",
    "        while arr[i] < pivot:\n",
    "            i += 1\n",
    "        j -= 1\n",
    "        while arr[j] > pivot:\n",
    "            j -= 1\n",
    "        if i >= j:\n",
    "            return arr, j  # Return both partitioned array and pivot index\n",
    "        arr[i], arr[j] = arr[j], arr[i]\n",
    "        \n",
    "lst1 = [int(x) for x in input(\"Enter list values separated by space:\").split()]\n",
    "n = len(lst1)\n",
    "print(hoarePartition(lst1, 0, n - 1))\n"
   ]
  },
  {
   "cell_type": "markdown",
   "id": "22069b75",
   "metadata": {},
   "source": [
    "### Quick Sort using Lomuto Partition\n",
    "\n",
    "Like Merge Sort, QuickSort is a Divide and Conquer algorithm. It picks an element as a pivot and partitions the given array around the picked pivot. There are many different versions of quickSort that pick pivot in different ways. \n",
    "\n",
    "Always pick the first element as a pivot.\n",
    "Always pick the last element as a pivot (implemented below)\n",
    "Pick a random element as a pivot.\n",
    "Pick median as the pivot.\n",
    "The key process in quickSort is a partition(). The target of partitions is, given an array and an element x of an array as the pivot, put x at its correct position in a sorted array and put all smaller elements (smaller than x) before x, and put all greater elements (greater than x) after x. All this should be done in linear time."
   ]
  },
  {
   "cell_type": "code",
   "execution_count": 7,
   "id": "170ac6f9",
   "metadata": {},
   "outputs": [
    {
     "name": "stdout",
     "output_type": "stream",
     "text": [
      "Enter list values separated by space:8 4 7 9 3 10 5\n",
      "[3, 4, 5, 7, 8, 9, 10]\n"
     ]
    }
   ],
   "source": [
    "def lomutopartition(a,l,h):\n",
    "    pivot=a[h]\n",
    "    i=l-1\n",
    "    for j in range(l,h):\n",
    "        if a[j]<=pivot:\n",
    "            i+=1\n",
    "            a[i],a[j]=a[j],a[i]\n",
    "    a[i+1],a[h]=a[h],a[i+1]\n",
    "    return i+1\n",
    "def quicksort(a,l,h):\n",
    "    if l<h:\n",
    "        p=lomutopartition(a,l,h)\n",
    "        quicksort(a,l,p-1)\n",
    "        quicksort(a,p+1,h)\n",
    "    return a\n",
    "lst1 = [int(x) for x in input(\"Enter list values separated by space:\").split()]\n",
    "n=len(lst1)\n",
    "print(quicksort(lst1, 0, n-1))       \n"
   ]
  },
  {
   "cell_type": "markdown",
   "id": "77b4ca59",
   "metadata": {},
   "source": [
    "### Quick Sort using Hoare's Partition"
   ]
  },
  {
   "cell_type": "code",
   "execution_count": 2,
   "id": "59377e61",
   "metadata": {},
   "outputs": [
    {
     "name": "stdout",
     "output_type": "stream",
     "text": [
      "Enter list values separated by space:8 4  7 9 3 10 5\n",
      "[3, 4, 5, 7, 8, 9, 10]\n"
     ]
    }
   ],
   "source": [
    "def hoarsePartition(arr, l, h):\n",
    "    pivot = arr[l]\n",
    "\n",
    "    i = l - 1\n",
    "    j = h + 1\n",
    "\n",
    "    while True:\n",
    "\n",
    "        i = i + 1\n",
    "        while arr[i] < pivot:\n",
    "            i = i + 1\n",
    "\n",
    "        j = j - 1\n",
    "        while arr[j] > pivot:\n",
    "            j = j - 1\n",
    "\n",
    "        if i >= j:\n",
    "            return j\n",
    "\n",
    "        arr[i], arr[j] = arr[j], arr[i]\n",
    "\n",
    "\n",
    "def qSort(arr, l, h):\n",
    "    if l < h:\n",
    "        p = hoarsePartition(arr, l, h)\n",
    "        qSort(arr, l, p)\n",
    "        qSort(arr, p + 1, h)\n",
    "    return arr\n",
    "\n",
    "lst1 = [int(x) for x in input(\"Enter list values separated by space:\").split()]\n",
    "n=len(lst1)\n",
    "print(qSort(lst1, 0, n-1))       "
   ]
  },
  {
   "cell_type": "markdown",
   "id": "33b2e338",
   "metadata": {},
   "source": [
    "## Heap Sort\n",
    "\n",
    "Heap sort is a comparison based sorting technique based on Binary Heap data structure. It is similar to selection sort where we first find the maximum element and place the maximum element at the end. We repeat the same process for remaining elements.\n",
    "\n",
    "### What is Binary Heap?\n",
    "Let us first define a Complete Binary Tree. A complete binary tree is a binary tree in which every level, except possibly the last, is completely filled, and all nodes are as far left as possible (Source Wikipedia).\n",
    "\n",
    "A Binary Heap is a Complete Binary Tree where items are stored in a special order such that value in a parent node is greater(or smaller) than the values in its two children nodes. The former is called as max heap and the latter is called min heap. The heap can be represented by binary tree or array.\n",
    "\n",
    "Array based representation for Binary Heap: Since a Binary Heap is a Complete Binary Tree, it can be easily represented as array and array based representation is space efficient. If the parent node is stored at index I, the left child can be calculated by 2 * I + 1 and right child by 2 * I + 2 (assuming the indexing starts at 0).\n",
    "\n",
    "Heap Sort Algorithm for sorting an array in increasing order:\n",
    " \n",
    "\n",
    "Build a max heap from the input data.\n",
    "At this point, the largest item is stored at the root of the heap. Replace it with the last item of the heap followed by reducing the size of heap by 1. Finally, heapify the root of tree.\n",
    "Repeat above steps while size of heap is greater than 1.\n",
    "\n",
    "\n",
    "### How to build the heap?\n",
    "Heapify procedure can be applied to a node only if its children nodes are heapified. So the heapification must be performed in the bottom up order."
   ]
  },
  {
   "cell_type": "markdown",
   "id": "4c3d0503",
   "metadata": {},
   "source": [
    "Input data: [4, 10, 3, 5, 1]\n",
    "         4(0)\n",
    "        /   \\\n",
    "     10(1)   3(2)\n",
    "    /   \\\n",
    " 5(3)    1(4)\n",
    "\n",
    "The numbers in bracket represent the indices in the array \n",
    "representation of data.\n",
    "\n",
    "Applying heapify procedure to index 1:\n",
    "         4(0)\n",
    "        /   \\\n",
    "    10(1)    3(2)\n",
    "    /   \\\n",
    "5(3)    1(4)\n",
    "\n",
    "Applying heapify procedure to index 0:\n",
    "        10(0)\n",
    "        /  \\\n",
    "     5(1)  3(2)\n",
    "    /   \\\n",
    " 4(3)    1(4)\n",
    "\n",
    "The heapify procedure calls itself recursively to build heap\n",
    "in top down manner."
   ]
  },
  {
   "cell_type": "code",
   "execution_count": 3,
   "id": "4cbe7183",
   "metadata": {},
   "outputs": [
    {
     "name": "stdout",
     "output_type": "stream",
     "text": [
      "Enter list values separated by space:10 8 6 47 53 \n",
      "Sorted array is\n",
      "6 8 10 47 53 "
     ]
    }
   ],
   "source": [
    "# Python program for implementation of heap Sort\n",
    "\n",
    "\n",
    "\n",
    "def heapify(arr, n, i):\n",
    "\tlargest = i # Initialize largest as root\n",
    "\tl = 2 * i + 1 # left = 2*i + 1\n",
    "\tr = 2 * i + 2 # right = 2*i + 2\n",
    "\n",
    "\n",
    "\tif l < n and arr[largest] < arr[l]:\n",
    "\t\tlargest = l\n",
    "\n",
    "\n",
    "\tif r < n and arr[largest] < arr[r]:\n",
    "\t\tlargest = r\n",
    "\n",
    "\n",
    "\tif largest != i:\n",
    "\t\t(arr[i], arr[largest]) = (arr[largest], arr[i]) # swap\n",
    "\n",
    "\n",
    "\t\theapify(arr, n, largest)\n",
    "\n",
    "\n",
    "\n",
    "def heapSort(arr):\n",
    "\tn = len(arr)\n",
    "\n",
    "\n",
    "\tfor i in range(n // 2 - 1, -1, -1):\n",
    "\t\theapify(arr, n, i)\n",
    "\n",
    "\n",
    "\tfor i in range(n - 1, 0, -1):\n",
    "\t\t(arr[i], arr[0]) = (arr[0], arr[i]) # swap\n",
    "\t\theapify(arr, i, 0)\n",
    "\n",
    "\n",
    "# Driver code to test above\n",
    "\n",
    "arr = [int(x) for x in input(\"Enter list values separated by space:\").split()]\n",
    "heapSort(arr)\n",
    "n = len(arr)\n",
    "print('Sorted array is')\n",
    "for i in range(n):\n",
    "\tprint(arr[i],end=\" \")"
   ]
  },
  {
   "cell_type": "code",
   "execution_count": 6,
   "id": "50c55b91",
   "metadata": {},
   "outputs": [
    {
     "name": "stdout",
     "output_type": "stream",
     "text": [
      "Enter list values separated by space: 10 15 50 4 20\n",
      "Sorted Array is:\n",
      "4 10 15 20 50 "
     ]
    }
   ],
   "source": [
    "def heapsort(arr):\n",
    "    n=len(arr)\n",
    "    for i in range(n//2-1,-1,-1):\n",
    "        heapify(arr,n,i)\n",
    "    for i in range(n-1,0,-1):\n",
    "        arr[i],arr[0]=arr[0],arr[i]\n",
    "        heapify(arr,i,0)\n",
    "        \n",
    "def heapify(arr,n,i):\n",
    "    largest=i\n",
    "    l=2*i+1\n",
    "    r=2*i+2\n",
    "    if l<n and arr[largest]<arr[l]:\n",
    "        largest=l\n",
    "    if r<n and arr[largest]<arr[r]:\n",
    "        largest=r\n",
    "    if largest!=i:\n",
    "        arr[largest],arr[i]=arr[i],arr[largest]\n",
    "        heapify(arr,n,largest)\n",
    "        \n",
    "arr = [int(x) for x in input(\"Enter list values separated by space: \").split()]\n",
    "heapsort(arr)\n",
    "print(\"Sorted Array is:\")\n",
    "for i in arr:\n",
    "    print(i,end=\" \")"
   ]
  }
 ],
 "metadata": {
  "kernelspec": {
   "display_name": "Python 3 (ipykernel)",
   "language": "python",
   "name": "python3"
  },
  "language_info": {
   "codemirror_mode": {
    "name": "ipython",
    "version": 3
   },
   "file_extension": ".py",
   "mimetype": "text/x-python",
   "name": "python",
   "nbconvert_exporter": "python",
   "pygments_lexer": "ipython3",
   "version": "3.9.13"
  }
 },
 "nbformat": 4,
 "nbformat_minor": 5
}
