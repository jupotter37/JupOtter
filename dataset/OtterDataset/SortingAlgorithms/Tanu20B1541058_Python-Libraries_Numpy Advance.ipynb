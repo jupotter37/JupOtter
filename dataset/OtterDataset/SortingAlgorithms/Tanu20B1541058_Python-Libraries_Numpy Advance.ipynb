{
 "cells": [
  {
   "cell_type": "markdown",
   "id": "61e50b9f",
   "metadata": {},
   "source": [
    "# Numpy"
   ]
  },
  {
   "cell_type": "markdown",
   "id": "b1d5e59a",
   "metadata": {},
   "source": [
    "NumPy stands for Numerical Python.<br>\n",
    "NumPy is a Python library used for working with arrays.\n"
   ]
  },
  {
   "cell_type": "markdown",
   "id": "e8c59c74",
   "metadata": {},
   "source": [
    "# Why Use NumPy?"
   ]
  },
  {
   "cell_type": "raw",
   "id": "c65609e4",
   "metadata": {},
   "source": [
    "In Python we have lists that serve the purpose of arrays, but they are slow to process.\n",
    "\n",
    "NumPy aims to provide an array object that is up to 50x faster than traditional Python lists.\n",
    "\n",
    "The array object in NumPy is called ndarray, it provides a lot of supporting functions that make working with ndarray very easy.\n",
    "\n",
    "Arrays are very frequently used in data science, where speed and resources are very important."
   ]
  },
  {
   "cell_type": "markdown",
   "id": "801049b4",
   "metadata": {},
   "source": [
    "# Why is NumPy Faster Than Lists?"
   ]
  },
  {
   "cell_type": "raw",
   "id": "3cc356ce",
   "metadata": {},
   "source": [
    "NumPy arrays are stored at one continuous place in memory unlike lists, so processes can access and manipulate them very efficiently.\n",
    "\n",
    "This behavior is called locality of reference in computer science.\n",
    "\n",
    "This is the main reason why NumPy is faster than lists. Also it is optimized to work with latest CPU architectures."
   ]
  },
  {
   "cell_type": "markdown",
   "id": "261cd571",
   "metadata": {},
   "source": [
    "# Which Language is NumPy written in?"
   ]
  },
  {
   "cell_type": "markdown",
   "id": "87529b71",
   "metadata": {},
   "source": [
    "NumPy is a Python library and is written partially in Python, but most of the parts that require fast computation are written in C or C++.\n",
    "\n"
   ]
  },
  {
   "cell_type": "markdown",
   "id": "50ed93ed",
   "metadata": {},
   "source": [
    "# Table of Contents"
   ]
  },
  {
   "cell_type": "raw",
   "id": "3b657b66",
   "metadata": {},
   "source": [
    "1. Converting a List to an array\n",
    "2. Arange Function\n",
    "3. Multidimensional Array\n",
    "4. Size Function\n",
    "5. Shape Function\n",
    "6. Dtype Function\n",
    "7. Ndim Function\n",
    "8. Zeros and Ones Function\n",
    "9. Eye Function\n",
    "10. Empty Function\n",
    "11. Random Functions:\n",
    "-----a) np.random.rand\n",
    "-----b) np.random.randint\n",
    "-----c) np.random.randn\n",
    "12. Reshape function\n",
    "13. Linspace Function\n",
    "14. Flatten Function\n",
    "15. Logspace Function\n",
    "16. Copy Function\n",
    "17. arr.max() , arr.min() , arr.sum() functions\n",
    "18. Seed function\n",
    "19. Sorting in numpy array\n",
    "20. Mathematical Operation in Numpy\n",
    "-----a) Addition\n",
    "-----b) Substraction\n",
    "-----c) Multiplication\n",
    "-----d) Division\n",
    "-----e) Matrix Multiplication\n",
    "-----f) Power\n",
    "21. Percentile Function\n",
    "22. Mean, Variance and Standard Deviation\n",
    "23. Filtering an numpy array\n",
    "24. Transposing an array\n",
    "25. Where function\n",
    "26. Merging Arrays\n",
    "-----a) Using Concatenate\n",
    "-----b) Using vstack and hstack\n",
    "27. Splitting Arrays\n",
    "28. Turning Pictures into Numpy arrays"
   ]
  },
  {
   "cell_type": "code",
   "execution_count": 1,
   "id": "b3120714",
   "metadata": {},
   "outputs": [],
   "source": [
    "import numpy as np"
   ]
  },
  {
   "cell_type": "markdown",
   "id": "50df57c0",
   "metadata": {},
   "source": [
    "# 1. Coverting a List to Array"
   ]
  },
  {
   "cell_type": "code",
   "execution_count": 2,
   "id": "4f58e9fd",
   "metadata": {},
   "outputs": [
    {
     "name": "stdout",
     "output_type": "stream",
     "text": [
      "<class 'list'>\n",
      "<class 'numpy.ndarray'>\n"
     ]
    }
   ],
   "source": [
    "lst = [1,2,3,4]\n",
    "print(type(lst))\n",
    "arr = np.array(lst)\n",
    "print(type(arr))\n"
   ]
  },
  {
   "cell_type": "code",
   "execution_count": 5,
   "id": "4e10784b",
   "metadata": {},
   "outputs": [
    {
     "name": "stdout",
     "output_type": "stream",
     "text": [
      "[[1 2 3 4]]\n"
     ]
    }
   ],
   "source": [
    "arr = np.array(lst, ndmin = 2)\n",
    "print(arr)"
   ]
  },
  {
   "cell_type": "markdown",
   "id": "3204437b",
   "metadata": {},
   "source": [
    "# 2. Arrange function"
   ]
  },
  {
   "cell_type": "markdown",
   "id": "b9a082e7",
   "metadata": {},
   "source": [
    "The arange([start,] stop[, step,][, dtype]) : Returns an array with evenly spaced elements as per the interval. The interval mentioned is half-opened i.e. [Start, Stop)"
   ]
  },
  {
   "cell_type": "code",
   "execution_count": 7,
   "id": "7469f2e0",
   "metadata": {},
   "outputs": [
    {
     "data": {
      "text/plain": [
       "array([1, 3, 5, 7, 9])"
      ]
     },
     "execution_count": 7,
     "metadata": {},
     "output_type": "execute_result"
    }
   ],
   "source": [
    "arr = np.arange(1, 10, 2)\n",
    "arr"
   ]
  },
  {
   "cell_type": "markdown",
   "id": "c792583e",
   "metadata": {},
   "source": [
    "# 3. Multidimensional Array"
   ]
  },
  {
   "cell_type": "code",
   "execution_count": 8,
   "id": "bb21084e",
   "metadata": {},
   "outputs": [
    {
     "data": {
      "text/plain": [
       "array([[1, 2, 3],\n",
       "       [4, 5, 6],\n",
       "       [7, 8, 9]])"
      ]
     },
     "execution_count": 8,
     "metadata": {},
     "output_type": "execute_result"
    }
   ],
   "source": [
    "arr = np.array([[1,2,3],[4,5,6],[7,8,9]])\n",
    "\n",
    "arr"
   ]
  },
  {
   "cell_type": "markdown",
   "id": "c2dc02be",
   "metadata": {},
   "source": [
    "# 4. Size Function"
   ]
  },
  {
   "cell_type": "markdown",
   "id": "7c416dc6",
   "metadata": {},
   "source": [
    "In Python, numpy.size() function count the number of elements along a given axis (0 - Rows | 1 - Columns)"
   ]
  },
  {
   "cell_type": "code",
   "execution_count": 9,
   "id": "463891ba",
   "metadata": {},
   "outputs": [
    {
     "name": "stdout",
     "output_type": "stream",
     "text": [
      "Total :  12\n",
      "Rows  :  4\n",
      "Cols  :  3\n"
     ]
    },
    {
     "data": {
      "text/plain": [
       "array([[1, 2, 3],\n",
       "       [4, 5, 6],\n",
       "       [7, 8, 9],\n",
       "       [1, 2, 3]])"
      ]
     },
     "execution_count": 9,
     "metadata": {},
     "output_type": "execute_result"
    }
   ],
   "source": [
    "arr = np.array([[1,2,3],[4,5,6],[7,8,9],[1,2,3]])\n",
    "\n",
    "print('Total : ', arr.size)\n",
    "print('Rows  : ', np.size(arr,0))\n",
    "print('Cols  : ', np.size(arr,1))\n",
    "\n",
    "arr"
   ]
  },
  {
   "cell_type": "markdown",
   "id": "4e1edde5",
   "metadata": {},
   "source": [
    "# 5. Shape Function"
   ]
  },
  {
   "cell_type": "markdown",
   "id": "64e2d017",
   "metadata": {},
   "source": [
    "The shape of an array can be defined as the number of elements in each dimension. Dimension is the number of indices or subscripts, that we require in order to specify an individual element of an array."
   ]
  },
  {
   "cell_type": "code",
   "execution_count": 10,
   "id": "d0119455",
   "metadata": {},
   "outputs": [
    {
     "name": "stdout",
     "output_type": "stream",
     "text": [
      "(4, 3)\n",
      "(4, 3)\n"
     ]
    }
   ],
   "source": [
    "arr = np.array([[1,2,3],[4,5,6],[7,8,9],[1,2,3]])\n",
    "\n",
    "print((np.size(arr,0),np.size(arr,1)))\n",
    "\n",
    "print(arr.shape)"
   ]
  },
  {
   "cell_type": "markdown",
   "id": "93d43152",
   "metadata": {},
   "source": [
    "# 6. Dtype Function"
   ]
  },
  {
   "cell_type": "markdown",
   "id": "1156ea54",
   "metadata": {},
   "source": [
    "Every ndarray has an associated data type (dtype) object. This data type object (dtype) informs us about the layout of the array. This means it gives us information about:"
   ]
  },
  {
   "cell_type": "raw",
   "id": "8f97638a",
   "metadata": {},
   "source": [
    ".Type of the data (integer, float, Python object, etc.)\n",
    ".Size of the data (number of bytes)\n",
    ".The byte order of the data (little-endian or big-endian)\n",
    ".If the data type is a sub-array, what is its shape and data type?"
   ]
  },
  {
   "cell_type": "code",
   "execution_count": 11,
   "id": "3da97d52",
   "metadata": {},
   "outputs": [
    {
     "name": "stdout",
     "output_type": "stream",
     "text": [
      "int32\n",
      "float64\n"
     ]
    }
   ],
   "source": [
    "arr1 = np.array([1,2,3,1,2,3])\n",
    "arr2 = np.array([1.2,3.1,2.3])\n",
    "\n",
    "\n",
    "print(arr1.dtype)\n",
    "print(arr2.dtype)"
   ]
  },
  {
   "cell_type": "markdown",
   "id": "24f78f54",
   "metadata": {},
   "source": [
    "# 7. Ndim Function"
   ]
  },
  {
   "cell_type": "markdown",
   "id": "d88afd75",
   "metadata": {},
   "source": [
    "numpy.ndarray.ndim() function return the number of dimensions of an array."
   ]
  },
  {
   "cell_type": "code",
   "execution_count": 12,
   "id": "c99b718a",
   "metadata": {},
   "outputs": [
    {
     "name": "stdout",
     "output_type": "stream",
     "text": [
      "1\n",
      "2\n",
      "3\n"
     ]
    }
   ],
   "source": [
    "arr1 = np.array([1,2,3,1,2,3])\n",
    "arr2 = np.array([[1,2,3],[1,2,3]])\n",
    "\n",
    "print(arr1.ndim)\n",
    "print(arr2.ndim)\n",
    "\n",
    "arr3 = np.array(arr1, ndmin = 3)\n",
    "print(arr3.ndim)\n"
   ]
  },
  {
   "cell_type": "markdown",
   "id": "189f65ca",
   "metadata": {},
   "source": [
    "# 8. Zeros Function"
   ]
  },
  {
   "cell_type": "markdown",
   "id": "f56b3efb",
   "metadata": {},
   "source": [
    "The numpy.zeros() function returns a new array of given shape and type, with zeros. Syntax:\n",
    "\n",
    "numpy.zeros(shape, dtype = None)"
   ]
  },
  {
   "cell_type": "code",
   "execution_count": 13,
   "id": "f2062365",
   "metadata": {},
   "outputs": [
    {
     "name": "stdout",
     "output_type": "stream",
     "text": [
      "[[0 0 0 0 0]\n",
      " [0 0 0 0 0]\n",
      " [0 0 0 0 0]]\n"
     ]
    }
   ],
   "source": [
    "arr = np.zeros(shape = (3,5), dtype = int)\n",
    "\n",
    "print(arr)"
   ]
  },
  {
   "cell_type": "markdown",
   "id": "15b48408",
   "metadata": {},
   "source": [
    "# Ones Function"
   ]
  },
  {
   "cell_type": "markdown",
   "id": "60d0fa70",
   "metadata": {},
   "source": [
    "The numpy.ones() function returns a new array of given shape and type, with ones.\n",
    "\n",
    "Syntax: numpy.ones(shape, dtype = None)"
   ]
  },
  {
   "cell_type": "code",
   "execution_count": 14,
   "id": "1522dfe6",
   "metadata": {},
   "outputs": [
    {
     "name": "stdout",
     "output_type": "stream",
     "text": [
      "[[1 1 1 1 1]\n",
      " [1 1 1 1 1]\n",
      " [1 1 1 1 1]]\n"
     ]
    }
   ],
   "source": [
    "arr = np.ones(shape = (3,5), dtype = int)\n",
    "\n",
    "print(arr)"
   ]
  },
  {
   "cell_type": "markdown",
   "id": "d23731b1",
   "metadata": {},
   "source": [
    "# 9. Eye Function"
   ]
  },
  {
   "cell_type": "markdown",
   "id": "192c8201",
   "metadata": {},
   "source": [
    "The eye tool returns a 2-D array with 1’s as the diagonal and 0’s elsewhere. The diagonal can be main, upper, or lower depending on the optional parameter k."
   ]
  },
  {
   "cell_type": "code",
   "execution_count": 15,
   "id": "4940374e",
   "metadata": {},
   "outputs": [
    {
     "data": {
      "text/plain": [
       "array([[1, 0, 0, 0],\n",
       "       [0, 1, 0, 0],\n",
       "       [0, 0, 1, 0],\n",
       "       [0, 0, 0, 1]])"
      ]
     },
     "execution_count": 15,
     "metadata": {},
     "output_type": "execute_result"
    }
   ],
   "source": [
    "np.eye(4, dtype = int)"
   ]
  },
  {
   "cell_type": "markdown",
   "id": "4d393093",
   "metadata": {},
   "source": [
    "# 10. Empty Function"
   ]
  },
  {
   "cell_type": "markdown",
   "id": "bc6e625b",
   "metadata": {},
   "source": [
    "Return am empty array of given shape and type"
   ]
  },
  {
   "cell_type": "code",
   "execution_count": 18,
   "id": "e359a4d0",
   "metadata": {},
   "outputs": [
    {
     "data": {
      "text/plain": [
       "array([[1665962024,        300,         64,          0,          0],\n",
       "       [         0,          0,          0,          0,    7209057],\n",
       "       [1714971749,  811742009,  878786404,  862073700,  825637170],\n",
       "       [1697801785,  929118515,  926101602, 1701066294, 1664234549],\n",
       "       [ 912472369, 1698128944,  946091107,  825832037, 1701131312]])"
      ]
     },
     "execution_count": 18,
     "metadata": {},
     "output_type": "execute_result"
    }
   ],
   "source": [
    "arr = np.empty(shape = (5,5), dtype = int)\n",
    "arr"
   ]
  },
  {
   "cell_type": "markdown",
   "id": "43be39b9",
   "metadata": {},
   "source": [
    "# 11. Random Functions"
   ]
  },
  {
   "cell_type": "markdown",
   "id": "5d66abf0",
   "metadata": {},
   "source": [
    "# a) np.random.rand"
   ]
  },
  {
   "cell_type": "markdown",
   "id": "6bf2f00a",
   "metadata": {},
   "source": [
    "The numpy.random.rand() function creates an array of specified shape and fills it with random values."
   ]
  },
  {
   "cell_type": "code",
   "execution_count": 19,
   "id": "ef96b0c0",
   "metadata": {},
   "outputs": [
    {
     "data": {
      "text/plain": [
       "array([[0.80613162, 0.58995533, 0.25997067, 0.42742569],\n",
       "       [0.10603055, 0.07815986, 0.56122874, 0.64334788],\n",
       "       [0.29637378, 0.15443326, 0.71901324, 0.04897515]])"
      ]
     },
     "execution_count": 19,
     "metadata": {},
     "output_type": "execute_result"
    }
   ],
   "source": [
    "np.random.rand(3,4)"
   ]
  },
  {
   "cell_type": "markdown",
   "id": "6a6d0a15",
   "metadata": {},
   "source": [
    "# b) np.random.randint"
   ]
  },
  {
   "cell_type": "markdown",
   "id": "ab7c6cf7",
   "metadata": {},
   "source": [
    "numpy.random.randint() is one of the function for doing random sampling in numpy. It returns an array of specified shape and fills it with random integers from low (inclusive) to high (exclusive), i.e. in the interval [low, high)."
   ]
  },
  {
   "cell_type": "code",
   "execution_count": 20,
   "id": "6db6b46e",
   "metadata": {},
   "outputs": [
    {
     "data": {
      "text/plain": [
       "array([5, 1, 7, 5, 8, 2, 7, 8, 8, 4])"
      ]
     },
     "execution_count": 20,
     "metadata": {},
     "output_type": "execute_result"
    }
   ],
   "source": [
    "np.random.randint(low = 1, high = 10, size = 10)"
   ]
  },
  {
   "cell_type": "markdown",
   "id": "d0f0e0db",
   "metadata": {},
   "source": [
    "# c) np.random.randn"
   ]
  },
  {
   "cell_type": "markdown",
   "id": "b9757835",
   "metadata": {},
   "source": [
    "The numpy.random.randn() function creates an array of specified shape and fills it with random values as per standard normal distribution."
   ]
  },
  {
   "cell_type": "code",
   "execution_count": 22,
   "id": "cefa4850",
   "metadata": {},
   "outputs": [
    {
     "data": {
      "image/png": "[encoded data removed]",
      "text/plain": [
       "<Figure size 432x288 with 1 Axes>"
      ]
     },
     "metadata": {
      "needs_background": "light"
     },
     "output_type": "display_data"
    }
   ],
   "source": [
    "import matplotlib.pyplot as plt\n",
    "\n",
    "%matplotlib inline\n",
    "\n",
    "plt.hist(np.random.randn(10000000), bins = 1000);"
   ]
  },
  {
   "cell_type": "markdown",
   "id": "215be7ca",
   "metadata": {},
   "source": [
    "# 12. Reshape function - will not alter the original data"
   ]
  },
  {
   "cell_type": "markdown",
   "id": "190d1cfa",
   "metadata": {},
   "source": [
    "The numpy.reshape() function shapes an array without changing the data of the array.<br> It should be noted that the product if the rows and columns should be same"
   ]
  },
  {
   "cell_type": "code",
   "execution_count": 23,
   "id": "6c037d7d",
   "metadata": {},
   "outputs": [
    {
     "name": "stdout",
     "output_type": "stream",
     "text": [
      "(3, 4)\n",
      "(4, 3)\n",
      "(6, 2)\n"
     ]
    }
   ],
   "source": [
    "arr = np.random.randint(1,15,(3,4))\n",
    "\n",
    "print(arr.shape)\n",
    "arr = arr.reshape(4,3)\n",
    "print(arr.shape)\n",
    "arr = arr.reshape(6,2)\n",
    "print(arr.shape)"
   ]
  },
  {
   "cell_type": "markdown",
   "id": "23f41830",
   "metadata": {},
   "source": [
    "# 13. Linspace Function"
   ]
  },
  {
   "cell_type": "markdown",
   "id": "11ddf3c5",
   "metadata": {},
   "source": [
    "The numpy.linspace() function returns number spaces evenly w.r.t interval. Similar to numpy.arange() function but instead of step it uses sample number."
   ]
  },
  {
   "cell_type": "markdown",
   "id": "ca18f663",
   "metadata": {},
   "source": [
    "Parameters :"
   ]
  },
  {
   "cell_type": "markdown",
   "id": "ae6857f4",
   "metadata": {},
   "source": [
    "-> start : [optional] start of interval range. By default start = 0<br>\n",
    "-> stop : end of interval range<br>\n",
    "-> restep : If True, return (samples, step). By default restep = False<br>\n",
    "-> num : [int, optional] No. of samples to generate<br>\n",
    "-> dtype : type of output array<br>"
   ]
  },
  {
   "cell_type": "code",
   "execution_count": 25,
   "id": "378de2f4",
   "metadata": {},
   "outputs": [
    {
     "data": {
      "text/plain": [
       "array([ 1.  ,  3.25,  5.5 ,  7.75, 10.  ])"
      ]
     },
     "execution_count": 25,
     "metadata": {},
     "output_type": "execute_result"
    }
   ],
   "source": [
    "np.linspace(1,10,5)"
   ]
  },
  {
   "cell_type": "markdown",
   "id": "dd72bf7c",
   "metadata": {},
   "source": [
    "# 14. Flatten Function"
   ]
  },
  {
   "cell_type": "markdown",
   "id": "6a7fc54b",
   "metadata": {},
   "source": [
    "ndarray.flatten() function return a copy of the array collapsed into one dimension."
   ]
  },
  {
   "cell_type": "code",
   "execution_count": 26,
   "id": "76fa2213",
   "metadata": {},
   "outputs": [
    {
     "name": "stdout",
     "output_type": "stream",
     "text": [
      "(3, 4)\n",
      "[[10 14  3 10]\n",
      " [ 4 14 11 13]\n",
      " [ 1  4 14  6]]\n",
      "--------------------\n",
      "(12,)\n",
      "[10 14  3 10  4 14 11 13  1  4 14  6]\n"
     ]
    }
   ],
   "source": [
    "arr = np.random.randint(1,15,(3,4))\n",
    "\n",
    "print(arr.shape)\n",
    "print(arr)\n",
    "print('-'*20)\n",
    "arr = arr.flatten()\n",
    "print(arr.shape)\n",
    "print(arr)"
   ]
  },
  {
   "cell_type": "markdown",
   "id": "ce6ad613",
   "metadata": {},
   "source": [
    "# 15. Logspace Function"
   ]
  },
  {
   "cell_type": "markdown",
   "id": "c721e8ea",
   "metadata": {},
   "source": [
    "The numpy.logspace() function returns number spaces evenly w.r.t interval on a log scale."
   ]
  },
  {
   "cell_type": "markdown",
   "id": "ee48ac5c",
   "metadata": {},
   "source": [
    "Parameters :"
   ]
  },
  {
   "cell_type": "markdown",
   "id": "0edd5bc4",
   "metadata": {},
   "source": [
    "-> start : [float] start(base ** start) of interval range.<br>\n",
    "-> stop : [float] end(base ** stop) of interval range<br>\n",
    "-> endpoint : [boolean, optional]If True, stop is the last sample. By default, True<br>\n",
    "-> num : [int, optional] No. of samples to generate<br>\n",
    "-> base : [float, optional] Base of log scale. By default, equals 10.0<br>\n",
    "-> dtype : type of output array"
   ]
  },
  {
   "cell_type": "code",
   "execution_count": 27,
   "id": "fd90212c",
   "metadata": {},
   "outputs": [
    {
     "name": "stdout",
     "output_type": "stream",
     "text": [
      "[  100.           166.81005372   278.25594022   464.15888336\n",
      "   774.26368268  1291.54966501  2154.43469003  3593.8136638\n",
      "  5994.84250319 10000.        ]\n",
      "--------------------\n",
      "[ 4.          4.66611616  5.44316     6.34960421  7.4069977   8.64047791\n",
      " 10.0793684  11.75787594 13.71590373 16.        ]\n"
     ]
    }
   ],
   "source": [
    "print(np.logspace(2,4,10))\n",
    "print('-'*20)\n",
    "print(np.logspace(2,4,10, base = 2))"
   ]
  },
  {
   "cell_type": "markdown",
   "id": "0349acfe",
   "metadata": {},
   "source": [
    "# 16. Copy function"
   ]
  },
  {
   "cell_type": "markdown",
   "id": "c6773f92",
   "metadata": {},
   "source": [
    "If we normally use the equals sign then the **id** of both the numpy array will be same, so we need to use to copy function"
   ]
  },
  {
   "cell_type": "code",
   "execution_count": 28,
   "id": "5a71569c",
   "metadata": {},
   "outputs": [
    {
     "name": "stdout",
     "output_type": "stream",
     "text": [
      "[ 5  8  5  4  2 10  9  5 12 11] 1290206765968\n",
      "[ 5  8  5  4  2 10  9  5 12 11] 1290206765968\n",
      "--------------------------------------------------\n",
      "[13  7 13  6  6  1 10  6 11 13] 1290206766928\n",
      "[13  7 13  6  6  1 10  6 11 13] 1290190454576\n"
     ]
    }
   ],
   "source": [
    "arr1 = np.random.randint(1,15,10)\n",
    "\n",
    "arr2 = arr1\n",
    "\n",
    "print(arr1, id(arr1))\n",
    "print(arr2, id(arr2))\n",
    "\n",
    "print('-'*50)\n",
    "\n",
    "arr1 = np.random.randint(1,15,10)\n",
    "arr2 = np.copy(arr1)\n",
    "\n",
    "print(arr1, id(arr1))\n",
    "print(arr2, id(arr2))"
   ]
  },
  {
   "cell_type": "markdown",
   "id": "8ad70893",
   "metadata": {},
   "source": [
    "# 17. arr.max() , arr.min() , arr.sum() functions"
   ]
  },
  {
   "cell_type": "markdown",
   "id": "e09dd9e1",
   "metadata": {},
   "source": [
    "arr.max() will give us the maximum element present in the array<br>\n",
    "arr.min() will give us the minimun element present in the array<br>\n",
    "arr.sum() will give us the sum of all the elements present in the array<br>"
   ]
  },
  {
   "cell_type": "code",
   "execution_count": 29,
   "id": "78df92a7",
   "metadata": {},
   "outputs": [
    {
     "name": "stdout",
     "output_type": "stream",
     "text": [
      "--------------------\n",
      "[[23 23 10 19 26]\n",
      " [22 12  6  4  8]\n",
      " [29 20 27  6 11]]\n",
      "--------------------\n",
      "MAX :  29\n",
      "MIN :  4\n",
      "SUM :  246\n"
     ]
    }
   ],
   "source": [
    "arr = np.random.randint(1,30,(3,5))\n",
    "\n",
    "print('-'*20)\n",
    "print(arr)\n",
    "print('-'*20)\n",
    "\n",
    "print('MAX : ', arr.max())\n",
    "print('MIN : ', arr.min())\n",
    "print('SUM : ', arr.sum())"
   ]
  },
  {
   "cell_type": "markdown",
   "id": "d66b3cee",
   "metadata": {},
   "source": [
    "We can use the axis parameter to get the max, min and sum of a particular column or row"
   ]
  },
  {
   "cell_type": "markdown",
   "id": "191fe2b4",
   "metadata": {},
   "source": [
    "axis=0 is for the column<br>\n",
    "axis=1 is for the row<br>"
   ]
  },
  {
   "cell_type": "code",
   "execution_count": 30,
   "id": "490c7ac4",
   "metadata": {},
   "outputs": [
    {
     "name": "stdout",
     "output_type": "stream",
     "text": [
      "--------------------\n",
      "[[26 25 11  3 15]\n",
      " [ 4 10 27  6 10]\n",
      " [14 15  8 22 25]]\n",
      "--------------------\n"
     ]
    }
   ],
   "source": [
    "arr = np.random.randint(1,30,(3,5))\n",
    "\n",
    "print('-'*20)\n",
    "print(arr)\n",
    "print('-'*20)"
   ]
  },
  {
   "cell_type": "markdown",
   "id": "528752c2",
   "metadata": {},
   "source": [
    "# For columns"
   ]
  },
  {
   "cell_type": "code",
   "execution_count": 31,
   "id": "e3cd8da3",
   "metadata": {},
   "outputs": [
    {
     "name": "stdout",
     "output_type": "stream",
     "text": [
      "MAX :  [26 25 27 22 25]\n",
      "MIN :  [ 4 10  8  3 10]\n",
      "SUM :  [44 50 46 31 50]\n"
     ]
    }
   ],
   "source": [
    "print('MAX : ', arr.max(axis = 0))\n",
    "print('MIN : ', arr.min(axis = 0))\n",
    "print('SUM : ', arr.sum(axis = 0))"
   ]
  },
  {
   "cell_type": "markdown",
   "id": "7d33e98e",
   "metadata": {},
   "source": [
    "# Fow rows"
   ]
  },
  {
   "cell_type": "code",
   "execution_count": 32,
   "id": "98617178",
   "metadata": {},
   "outputs": [
    {
     "name": "stdout",
     "output_type": "stream",
     "text": [
      "MAX :  [26 27 25]\n",
      "MIN :  [3 4 8]\n",
      "SUM :  [80 57 84]\n"
     ]
    }
   ],
   "source": [
    "print('MAX : ', arr.max(axis = 1))\n",
    "print('MIN : ', arr.min(axis = 1))\n",
    "print('SUM : ', arr.sum(axis = 1))"
   ]
  },
  {
   "cell_type": "markdown",
   "id": "ef64bf57",
   "metadata": {},
   "source": [
    "# 18. Seed Function"
   ]
  },
  {
   "cell_type": "markdown",
   "id": "f8dc4b98",
   "metadata": {},
   "source": [
    "random() function is used to generate random numbers in Python. Not actually random, rather this is used to generate pseudo-random numbers. That implies that these randomly generated numbers can be determined. random() function generates numbers for some values. This value is also called seed value."
   ]
  },
  {
   "cell_type": "markdown",
   "id": "a1fa2b5b",
   "metadata": {},
   "source": [
    "Syntax : random.seed( l, version )<br>"
   ]
  },
  {
   "cell_type": "markdown",
   "id": "2317373c",
   "metadata": {},
   "source": [
    "Parameter :"
   ]
  },
  {
   "cell_type": "markdown",
   "id": "86179e0e",
   "metadata": {},
   "source": [
    "l : Any seed value used to produce a random number.<br>\n",
    "version : A integer used to specify how to convert l in a integer."
   ]
  },
  {
   "cell_type": "code",
   "execution_count": 33,
   "id": "7c6cd2d1",
   "metadata": {},
   "outputs": [
    {
     "data": {
      "text/plain": [
       "array([[9, 4, 9, 9, 1],\n",
       "       [6, 4, 6, 8, 7],\n",
       "       [1, 5, 8, 9, 2]])"
      ]
     },
     "execution_count": 33,
     "metadata": {},
     "output_type": "execute_result"
    }
   ],
   "source": [
    "np.random.seed(3)\n",
    "\n",
    "arr = np.random.randint(1,10,(3,5))\n",
    "\n",
    "arr"
   ]
  },
  {
   "cell_type": "markdown",
   "id": "0e7ef08d",
   "metadata": {},
   "source": [
    "# 19. Sorting Function"
   ]
  },
  {
   "cell_type": "markdown",
   "id": "c3ba562e",
   "metadata": {},
   "source": [
    "numpy.sort() : This function returns a sorted copy of an array."
   ]
  },
  {
   "cell_type": "markdown",
   "id": "5115c3b4",
   "metadata": {},
   "source": [
    "Parameters :"
   ]
  },
  {
   "cell_type": "markdown",
   "id": "8214ac7e",
   "metadata": {},
   "source": [
    "arr : Array to be sorted.<br>\n",
    "axis : Axis along which we need array to be started.<br>\n",
    "order : This argument specifies which fields to compare first.<br>\n",
    "kind : [‘quicksort’{default}, ‘mergesort’, ‘heapsort’]Sorting algorithm.<br>"
   ]
  },
  {
   "cell_type": "code",
   "execution_count": 35,
   "id": "e84d9a37",
   "metadata": {},
   "outputs": [
    {
     "name": "stdout",
     "output_type": "stream",
     "text": [
      "---------------\n",
      "[[9 4 9 9 1]\n",
      " [6 4 6 8 7]\n",
      " [1 5 8 9 2]]\n",
      "---------------\n",
      "[[1 4 9 9 9]\n",
      " [4 6 6 7 8]\n",
      " [1 2 5 8 9]]\n",
      "---------------\n",
      "[[1 4 6 8 1]\n",
      " [6 4 8 9 2]\n",
      " [9 5 9 9 7]]\n",
      "---------------\n",
      "[[1 1 2 4 4]\n",
      " [5 6 6 7 8]\n",
      " [8 9 9 9 9]]\n",
      "---------------\n"
     ]
    }
   ],
   "source": [
    "np.random.seed(3)\n",
    "arr = np.random.randint(1,10,(3,5))\n",
    "\n",
    "\n",
    "print('-'*15)\n",
    "print(arr)\n",
    "print('-'*15)\n",
    "print(np.sort(arr, axis = 1))\n",
    "print('-'*15)\n",
    "print(np.sort(arr, axis = 0))\n",
    "print('-'*15)\n",
    "\n",
    "arr = np.reshape(np.sort(arr.flatten()), arr.shape)\n",
    "print(arr)\n",
    "print('-'*15)"
   ]
  },
  {
   "cell_type": "markdown",
   "id": "a42a525b",
   "metadata": {},
   "source": [
    "We can choose which type of sort we want to perform"
   ]
  },
  {
   "cell_type": "code",
   "execution_count": 36,
   "id": "7c26c1f6",
   "metadata": {},
   "outputs": [
    {
     "name": "stdout",
     "output_type": "stream",
     "text": [
      "[[1 1 2 4 4]\n",
      " [5 6 6 7 8]\n",
      " [8 9 9 9 9]]\n"
     ]
    }
   ],
   "source": [
    "print(np.sort(arr, axis = 0, kind = 'mergesort'))"
   ]
  },
  {
   "cell_type": "markdown",
   "id": "6b20741c",
   "metadata": {},
   "source": [
    "# 20. Mathematical Operations"
   ]
  },
  {
   "cell_type": "markdown",
   "id": "0cba16c1",
   "metadata": {},
   "source": [
    "# a) Addition"
   ]
  },
  {
   "cell_type": "code",
   "execution_count": 37,
   "id": "fadd86ac",
   "metadata": {},
   "outputs": [
    {
     "name": "stdout",
     "output_type": "stream",
     "text": [
      "---------------\n",
      "[[9 4 9 9 1]\n",
      " [6 4 6 8 7]\n",
      " [1 5 8 9 2]]\n",
      "---------------\n",
      "[[10  5 10 10  2]\n",
      " [ 7  5  7  9  8]\n",
      " [ 2  6  9 10  3]]\n",
      "---------------\n"
     ]
    }
   ],
   "source": [
    "np.random.seed(3)\n",
    "\n",
    "arr = np.random.randint(1,10,(3,5))\n",
    "\n",
    "print('-' * 15)\n",
    "print(arr)\n",
    "print('-' * 15)\n",
    "print(arr + 1)\n",
    "print('-' * 15)"
   ]
  },
  {
   "cell_type": "markdown",
   "id": "55906f78",
   "metadata": {},
   "source": [
    "# b) Substraction"
   ]
  },
  {
   "cell_type": "code",
   "execution_count": 38,
   "id": "b347a7c8",
   "metadata": {},
   "outputs": [
    {
     "name": "stdout",
     "output_type": "stream",
     "text": [
      "---------------\n",
      "[[9 4 9 9 1]\n",
      " [6 4 6 8 7]\n",
      " [1 5 8 9 2]]\n",
      "---------------\n",
      "[[8 3 8 8 0]\n",
      " [5 3 5 7 6]\n",
      " [0 4 7 8 1]]\n",
      "---------------\n"
     ]
    }
   ],
   "source": [
    "print('-' * 15)\n",
    "print(arr)\n",
    "print('-' * 15)\n",
    "print(arr - 1)\n",
    "print('-' * 15)"
   ]
  },
  {
   "cell_type": "markdown",
   "id": "b0f6a12c",
   "metadata": {},
   "source": [
    "# c) Multiplication"
   ]
  },
  {
   "cell_type": "code",
   "execution_count": 39,
   "id": "9b00a239",
   "metadata": {},
   "outputs": [
    {
     "name": "stdout",
     "output_type": "stream",
     "text": [
      "---------------\n",
      "[[9 4 9 9 1]\n",
      " [6 4 6 8 7]\n",
      " [1 5 8 9 2]]\n",
      "---------------\n",
      "[[18  8 18 18  2]\n",
      " [12  8 12 16 14]\n",
      " [ 2 10 16 18  4]]\n",
      "---------------\n"
     ]
    }
   ],
   "source": [
    "print('-' * 15)\n",
    "print(arr)\n",
    "print('-' * 15)\n",
    "print(arr * 2)\n",
    "print('-' * 15)"
   ]
  },
  {
   "cell_type": "markdown",
   "id": "c192b7f7",
   "metadata": {},
   "source": [
    "# d) Division"
   ]
  },
  {
   "cell_type": "code",
   "execution_count": 40,
   "id": "1e9295ff",
   "metadata": {},
   "outputs": [
    {
     "name": "stdout",
     "output_type": "stream",
     "text": [
      "---------------\n",
      "[[9 4 9 9 1]\n",
      " [6 4 6 8 7]\n",
      " [1 5 8 9 2]]\n",
      "---------------\n",
      "[[4.5 2.  4.5 4.5 0.5]\n",
      " [3.  2.  3.  4.  3.5]\n",
      " [0.5 2.5 4.  4.5 1. ]]\n",
      "---------------\n"
     ]
    }
   ],
   "source": [
    "print('-' * 15)\n",
    "print(arr)\n",
    "print('-' * 15)\n",
    "print(arr / 2)\n",
    "print('-' * 15)"
   ]
  },
  {
   "cell_type": "markdown",
   "id": "8130a113",
   "metadata": {},
   "source": [
    "# e) Matrix Multiplication"
   ]
  },
  {
   "cell_type": "markdown",
   "id": "6edc9758",
   "metadata": {},
   "source": [
    "For Matrix Multiplication we either use the"
   ]
  },
  {
   "cell_type": "markdown",
   "id": "23afe5db",
   "metadata": {},
   "source": [
    "dot function or<br>\n",
    "the @ symbol"
   ]
  },
  {
   "cell_type": "code",
   "execution_count": 41,
   "id": "d9db31a4",
   "metadata": {},
   "outputs": [
    {
     "name": "stdout",
     "output_type": "stream",
     "text": [
      "[[ 25  78]\n",
      " [ 45 108]]\n",
      "------------\n",
      "[[ 25  78]\n",
      " [ 45 108]]\n"
     ]
    }
   ],
   "source": [
    "np.random.seed(3)\n",
    "\n",
    "arr1 = np.random.randint(1,10,(2,2))\n",
    "arr2 = np.random.randint(1,10,(2,2))\n",
    "\n",
    "print(arr1.dot(arr2))\n",
    "print('-'*12)\n",
    "print(arr1@arr2)"
   ]
  },
  {
   "cell_type": "markdown",
   "id": "b86e4918",
   "metadata": {},
   "source": [
    "# f) Power"
   ]
  },
  {
   "cell_type": "code",
   "execution_count": 42,
   "id": "6a8cfdbc",
   "metadata": {},
   "outputs": [
    {
     "name": "stdout",
     "output_type": "stream",
     "text": [
      "[[9 4 9 9 1]\n",
      " [6 4 6 8 7]\n",
      " [1 5 8 9 2]]\n",
      "---------------\n",
      "[[81 16 81 81  1]\n",
      " [36 16 36 64 49]\n",
      " [ 1 25 64 81  4]]\n"
     ]
    }
   ],
   "source": [
    "print(arr)\n",
    "print('-'*15)\n",
    "print(arr ** 2)"
   ]
  },
  {
   "cell_type": "markdown",
   "id": "2a6b4da9",
   "metadata": {},
   "source": [
    "# 21. Percentile Function"
   ]
  },
  {
   "cell_type": "markdown",
   "id": "12b57cfd",
   "metadata": {},
   "source": [
    "numpy.percentile()function used to compute the nth percentile of the given data (array elements) along the specified axis."
   ]
  },
  {
   "cell_type": "code",
   "execution_count": 43,
   "id": "f6d2c76c",
   "metadata": {},
   "outputs": [
    {
     "name": "stdout",
     "output_type": "stream",
     "text": [
      "[9 4 9 9 1 6 4 6 8 7]\n",
      "[1 4 4 6 6 7 8 9 9 9]\n",
      "6.5\n"
     ]
    }
   ],
   "source": [
    "np.random.seed(3)\n",
    "\n",
    "arr = np.random.randint(1,10,10)\n",
    "print(arr)\n",
    "\n",
    "arr = np.sort(arr)\n",
    "print(arr)\n",
    "\n",
    "print(np.percentile(arr, 50))"
   ]
  },
  {
   "cell_type": "markdown",
   "id": "bf4c8a2e",
   "metadata": {},
   "source": [
    "# 22. Mean, Variance and Standard deviation"
   ]
  },
  {
   "cell_type": "markdown",
   "id": "91413b49",
   "metadata": {},
   "source": [
    "In NumPy, we can compute the mean, standard deviation, and variance of a given array along the second axis by two approaches first is by using inbuilt functions and second is by the formulas of the mean, standard deviation, and variance"
   ]
  },
  {
   "cell_type": "markdown",
   "id": "4b278c3c",
   "metadata": {},
   "source": [
    "Using numpy.mean(), numpy.std(), numpy.var()"
   ]
  },
  {
   "cell_type": "code",
   "execution_count": 44,
   "id": "fa8dd7c8",
   "metadata": {},
   "outputs": [
    {
     "name": "stdout",
     "output_type": "stream",
     "text": [
      "[1 5 8 9 2 7 3 3 2 4]\n",
      "4.4\n",
      "6.839999999999999\n",
      "2.6153393661244038\n"
     ]
    }
   ],
   "source": [
    "arr = np.random.randint(1,10,10)\n",
    "\n",
    "print(arr)\n",
    "print(arr.mean())\n",
    "print(arr.var())\n",
    "print(arr.std())"
   ]
  },
  {
   "cell_type": "markdown",
   "id": "be35a583",
   "metadata": {},
   "source": [
    "# 23. Filtering an numpy array"
   ]
  },
  {
   "cell_type": "code",
   "execution_count": 45,
   "id": "bd3a4afc",
   "metadata": {},
   "outputs": [
    {
     "name": "stdout",
     "output_type": "stream",
     "text": [
      "[1 2 3 4 5 6 7 8 9]\n",
      "[ True  True  True  True False False False False False]\n",
      "[1 2 3 4]\n"
     ]
    }
   ],
   "source": [
    "arr = np.arange(1,10)\n",
    "\n",
    "print(arr)\n",
    "print(arr < 5)\n",
    "print(arr[arr < 5])"
   ]
  },
  {
   "cell_type": "markdown",
   "id": "c731335e",
   "metadata": {},
   "source": [
    "We can store this into a new variable if we need this filtered array"
   ]
  },
  {
   "cell_type": "markdown",
   "id": "cdddc3e9",
   "metadata": {},
   "source": [
    "If we want to replace all the values above 5 with 10 we can even do that"
   ]
  },
  {
   "cell_type": "markdown",
   "id": "a3fee788",
   "metadata": {},
   "source": [
    "# 24 Transposing an array"
   ]
  },
  {
   "cell_type": "markdown",
   "id": "42695331",
   "metadata": {},
   "source": [
    "With the help of Numpy ndarray.T object, we can make a Transpose of an array having dimension greater than or equal to 2."
   ]
  },
  {
   "cell_type": "code",
   "execution_count": 46,
   "id": "2722ccf5",
   "metadata": {},
   "outputs": [
    {
     "name": "stdout",
     "output_type": "stream",
     "text": [
      "[[ 6  9 15  2 11]\n",
      " [ 8 12  2 16 17]\n",
      " [ 6 18 15  1  1]]\n",
      "--------------------\n",
      "[[ 6  8  6]\n",
      " [ 9 12 18]\n",
      " [15  2 15]\n",
      " [ 2 16  1]\n",
      " [11 17  1]]\n"
     ]
    }
   ],
   "source": [
    "arr = np.random.randint(1,20,(3,5))\n",
    "\n",
    "print(arr)\n",
    "print('-'*20)\n",
    "print(arr.T)"
   ]
  },
  {
   "cell_type": "markdown",
   "id": "de23c2a5",
   "metadata": {},
   "source": [
    "# 25. Where function"
   ]
  },
  {
   "cell_type": "markdown",
   "id": "55646bcb",
   "metadata": {},
   "source": [
    "The numpy.where() function returns the indices of elements in an input array where the given condition is satisfied."
   ]
  },
  {
   "cell_type": "markdown",
   "id": "9a390971",
   "metadata": {},
   "source": [
    "Syntax :numpy.where(condition[, x, y]) Parameters: condition : When True, yield x, otherwise yield y. x, y : Values from which to choose. x, y and condition need to be broadcastable to some shape."
   ]
  },
  {
   "cell_type": "markdown",
   "id": "f5c97c39",
   "metadata": {},
   "source": [
    "Returns: out : [ndarray or tuple of ndarrays] If both x and y are specified, the output array contains elements of x where condition is True, and elements from y elsewhere."
   ]
  },
  {
   "cell_type": "markdown",
   "id": "91f64e76",
   "metadata": {},
   "source": [
    "If only condition is given, return the tuple condition.nonzero(), the indices where condition is True."
   ]
  },
  {
   "cell_type": "code",
   "execution_count": 47,
   "id": "da61495c",
   "metadata": {},
   "outputs": [
    {
     "data": {
      "text/plain": [
       "array([19, 64, 38, 57, 57, 72, 38, 47, 34,  2])"
      ]
     },
     "execution_count": 47,
     "metadata": {},
     "output_type": "execute_result"
    }
   ],
   "source": [
    "arr = np.random.randint(1,100,10)\n",
    "arr"
   ]
  },
  {
   "cell_type": "markdown",
   "id": "e6c6904c",
   "metadata": {},
   "source": [
    "So now if we are having an even number let's convert it into 100 and the ones which are odd we leave it to the way it is"
   ]
  },
  {
   "cell_type": "code",
   "execution_count": 48,
   "id": "ae64730d",
   "metadata": {},
   "outputs": [
    {
     "name": "stdout",
     "output_type": "stream",
     "text": [
      "[19 64 38 57 57 72 38 47 34  2]\n",
      "['19' 'even' 'even' '57' '57' 'even' 'even' '47' 'even' 'even']\n",
      "['odd' '64' '38' 'odd' 'odd' '72' '38' 'odd' '34' '2']\n",
      "['odd' 'even' 'even' 'odd' 'odd' 'even' 'even' 'odd' 'even' 'even']\n"
     ]
    }
   ],
   "source": [
    "print(arr)\n",
    "\n",
    "print(np.where(arr%2==0, 'even',arr))\n",
    "print(np.where(arr%2!=0, 'odd',arr))\n",
    "\n",
    "arr1 = np.where(arr%2==0, 'even',arr)\n",
    "arr1 = np.where(arr%2!=0, 'odd',arr1)\n",
    "\n",
    "print(arr1)"
   ]
  },
  {
   "cell_type": "markdown",
   "id": "36734ce7",
   "metadata": {},
   "source": [
    "# 26. Merging Arrays"
   ]
  },
  {
   "cell_type": "markdown",
   "id": "d14208a8",
   "metadata": {},
   "source": [
    "# a) Concatenate"
   ]
  },
  {
   "cell_type": "markdown",
   "id": "01b2f1d8",
   "metadata": {},
   "source": [
    "We can perform the concatenation operation using the concatenate() function. With this function, arrays are concatenated either row-wise or column-wise, given that they have equal rows or columns respectively. Column-wise concatenation can be done by equating axis to 1 as an argument in the function."
   ]
  },
  {
   "cell_type": "code",
   "execution_count": 49,
   "id": "3ade1d0e",
   "metadata": {},
   "outputs": [
    {
     "name": "stdout",
     "output_type": "stream",
     "text": [
      "[[6 6 8 5]\n",
      " [4 1 1 1]]\n",
      "---------------\n",
      "[[1 3 3 8]\n",
      " [1 6 1 2]]\n",
      "------------------------------\n",
      "[[6 6 8 5]\n",
      " [4 1 1 1]\n",
      " [1 3 3 8]\n",
      " [1 6 1 2]]\n",
      "------------------------------\n",
      "[[6 6 8 5 1 3 3 8]\n",
      " [4 1 1 1 1 6 1 2]]\n"
     ]
    }
   ],
   "source": [
    "arr1 = np.random.randint(1,10,(2,4))\n",
    "arr2 = np.random.randint(1,10,(2,4))\n",
    "\n",
    "print(arr1)\n",
    "print('-'*15)\n",
    "print(arr2)\n",
    "\n",
    "print('-'*30)\n",
    "print(np.concatenate((arr1,arr2), axis = 0))\n",
    "print('-'*30)\n",
    "print(np.concatenate((arr1,arr2), axis = 1))"
   ]
  },
  {
   "cell_type": "markdown",
   "id": "8420b9da",
   "metadata": {},
   "source": [
    "# b) Vstack and Hstack"
   ]
  },
  {
   "cell_type": "markdown",
   "id": "634a66ce",
   "metadata": {},
   "source": [
    "numpy.hstack() function is used to stack the sequence of input arrays horizontally (i.e. column wise) to make a single array."
   ]
  },
  {
   "cell_type": "code",
   "execution_count": 50,
   "id": "537a3245",
   "metadata": {},
   "outputs": [
    {
     "name": "stdout",
     "output_type": "stream",
     "text": [
      "[[5 2 3 3]\n",
      " [5 9 1 7]]\n",
      "---------------\n",
      "[[1 5 2 6]\n",
      " [2 9 9 8]]\n",
      "---------------\n",
      "[[5 2 3 3 1 5 2 6]\n",
      " [5 9 1 7 2 9 9 8]]\n"
     ]
    }
   ],
   "source": [
    "arr1 = np.random.randint(1,10,(2,4))\n",
    "arr2 = np.random.randint(1,10,(2,4))\n",
    "\n",
    "print(arr1)\n",
    "print('-'*15)\n",
    "print(arr2)\n",
    "print('-'*15)\n",
    "\n",
    "print(np.hstack((arr1,arr2)))"
   ]
  },
  {
   "cell_type": "markdown",
   "id": "e2445a0b",
   "metadata": {},
   "source": [
    "numpy.vstack() function is used to stack the sequence of input arrays vertically to make a single array."
   ]
  },
  {
   "cell_type": "code",
   "execution_count": 51,
   "id": "5f58d3e7",
   "metadata": {},
   "outputs": [
    {
     "name": "stdout",
     "output_type": "stream",
     "text": [
      "[[5 2 3 3]\n",
      " [5 9 1 7]]\n",
      "---------------\n",
      "[[1 5 2 6]\n",
      " [2 9 9 8]]\n",
      "---------------\n",
      "[[5 2 3 3]\n",
      " [5 9 1 7]\n",
      " [1 5 2 6]\n",
      " [2 9 9 8]]\n"
     ]
    }
   ],
   "source": [
    "print(arr1)\n",
    "print('-'*15)\n",
    "print(arr2)\n",
    "print('-'*15)\n",
    "\n",
    "print(np.vstack((arr1,arr2)))"
   ]
  },
  {
   "cell_type": "markdown",
   "id": "6a418140",
   "metadata": {},
   "source": [
    "# 27. Splitting Arrays"
   ]
  },
  {
   "cell_type": "code",
   "execution_count": 52,
   "id": "d79bf0ed",
   "metadata": {},
   "outputs": [
    {
     "name": "stdout",
     "output_type": "stream",
     "text": [
      "[[1 1 2 8]\n",
      " [9 8 5 1]\n",
      " [1 5 4 1]\n",
      " [9 3 8 3]]\n"
     ]
    }
   ],
   "source": [
    "arr = np.random.randint(1,10,(4,4))\n",
    "\n",
    "print(arr)"
   ]
  },
  {
   "cell_type": "markdown",
   "id": "7caa7f5c",
   "metadata": {},
   "source": [
    "numpy.vsplit() function split an array into multiple sub-arrays vertically (row-wise). vsplit is equivalent to split with axis=0 (default), the array is always split along the first axis regardless of the array dimension."
   ]
  },
  {
   "cell_type": "code",
   "execution_count": 53,
   "id": "1d8bcf89",
   "metadata": {},
   "outputs": [
    {
     "data": {
      "text/plain": [
       "[array([[1, 1, 2, 8],\n",
       "        [9, 8, 5, 1]]),\n",
       " array([[1, 5, 4, 1],\n",
       "        [9, 3, 8, 3]])]"
      ]
     },
     "execution_count": 53,
     "metadata": {},
     "output_type": "execute_result"
    }
   ],
   "source": [
    "np.vsplit(arr, 2)"
   ]
  },
  {
   "cell_type": "markdown",
   "id": "9e422b45",
   "metadata": {},
   "source": [
    "numpy.hsplit() function split an array into multiple sub-arrays horizontally (column-wise). hsplit is equivalent to split with axis=1, the array is always split along the second axis regardless of the array dimension."
   ]
  },
  {
   "cell_type": "code",
   "execution_count": 54,
   "id": "188610cb",
   "metadata": {},
   "outputs": [
    {
     "data": {
      "text/plain": [
       "[array([[1, 1],\n",
       "        [9, 8],\n",
       "        [1, 5],\n",
       "        [9, 3]]),\n",
       " array([[2, 8],\n",
       "        [5, 1],\n",
       "        [4, 1],\n",
       "        [8, 3]])]"
      ]
     },
     "execution_count": 54,
     "metadata": {},
     "output_type": "execute_result"
    }
   ],
   "source": [
    "np.hsplit(arr, 2)"
   ]
  },
  {
   "cell_type": "markdown",
   "id": "39a96d6d",
   "metadata": {},
   "source": [
    "# 28. Turning Pics into Numpy arrays"
   ]
  },
  {
   "cell_type": "markdown",
   "id": "b845dda9",
   "metadata": {},
   "source": [
    "Once we can turn this picture into an numpy array we can perform operations on that and pass the array even for some machine learning algorithms which will be benefitial for us"
   ]
  },
  {
   "cell_type": "markdown",
   "id": "d3024cc8",
   "metadata": {},
   "source": [
    "We will be using imread function here which belongs from the matplotlib class"
   ]
  },
  {
   "cell_type": "code",
   "execution_count": 57,
   "id": "64e3a1ed",
   "metadata": {},
   "outputs": [
    {
     "data": {
      "text/plain": [
       "(667, 1000, 3)"
      ]
     },
     "execution_count": 57,
     "metadata": {},
     "output_type": "execute_result"
    }
   ],
   "source": [
    "from matplotlib.image import imread\n",
    "\n",
    "img = imread('daisy.jpg')\n",
    "\n",
    "img.shape\n",
    "#img"
   ]
  },
  {
   "cell_type": "code",
   "execution_count": null,
   "id": "7b214235",
   "metadata": {},
   "outputs": [],
   "source": []
  }
 ],
 "metadata": {
  "kernelspec": {
   "display_name": "Python 3 (ipykernel)",
   "language": "python",
   "name": "python3"
  },
  "language_info": {
   "codemirror_mode": {
    "name": "ipython",
    "version": 3
   },
   "file_extension": ".py",
   "mimetype": "text/x-python",
   "name": "python",
   "nbconvert_exporter": "python",
   "pygments_lexer": "ipython3",
   "version": "3.9.7"
  }
 },
 "nbformat": 4,
 "nbformat_minor": 5
}
