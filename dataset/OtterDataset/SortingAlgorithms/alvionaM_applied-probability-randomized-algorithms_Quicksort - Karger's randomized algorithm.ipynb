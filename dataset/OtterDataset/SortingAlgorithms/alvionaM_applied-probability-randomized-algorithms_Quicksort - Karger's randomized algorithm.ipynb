{
 "cells": [
  {
   "cell_type": "markdown",
   "metadata": {},
   "source": [
    "# Applied Probability and Randomized Algorithms: Quicksort algorithm and Karger's randomized algorithm\n",
    "\n",
    "Alviona Mancho | p3200098@aueb.gr"
   ]
  },
  {
   "cell_type": "markdown",
   "metadata": {},
   "source": [
    "## Preliminaries"
   ]
  },
  {
   "cell_type": "code",
   "execution_count": 70,
   "metadata": {},
   "outputs": [],
   "source": [
    "import random\n",
    "import math"
   ]
  },
  {
   "cell_type": "markdown",
   "metadata": {},
   "source": [
    "## Quicksort"
   ]
  },
  {
   "cell_type": "markdown",
   "metadata": {},
   "source": [
    "Quicksort is an efficient, general-purpose sorting algorithm. It was developed by British computer scientist Tony Hoare in 1959 and published in 1961.\n",
    "\n",
    "Quicksort is a divide-and-conquer algorithm. It works by selecting a 'pivot' element from the array and partitioning the other elements into two sub-arrays, according to whether they are less than or greater than the pivot. The sub-arrays are then sorted recursively. This can be done in-place, requiring small additional amounts of memory to perform the sorting.\n",
    "\n",
    "Mathematical analysis of quicksort shows that, on average, the algorithm takes $\\mathcal{O}(n\\log {n})$ comparisons to sort n items. In the worst case, it makes $\\mathcal{O}(n^2)$ comparisons.\n",
    "\n",
    "[Read More](https://en.wikipedia.org/wiki/Quicksort)"
   ]
  },
  {
   "cell_type": "markdown",
   "metadata": {},
   "source": [
    "### Implementation"
   ]
  },
  {
   "cell_type": "markdown",
   "metadata": {},
   "source": [
    "#### Auxilliary swap function"
   ]
  },
  {
   "cell_type": "code",
   "execution_count": 71,
   "metadata": {},
   "outputs": [],
   "source": [
    "def swap(array, i, j):\n",
    "    temp = array[i]\n",
    "    array[i] = array[j]\n",
    "    array[j] = temp"
   ]
  },
  {
   "cell_type": "markdown",
   "metadata": {},
   "source": [
    "#### Partition"
   ]
  },
  {
   "cell_type": "markdown",
   "metadata": {},
   "source": [
    "Partition is the key function in Quicksort.\n",
    "\n",
    "- First we have to choose a pivot element. \n",
    "- Then, we place the pivot element in its final position by moving all elements that are $\\leq pivot$ to the left and all the elements that are  $> pivot$ to the right.\n",
    "\n",
    "In this implementation the first element serves as 'pivot'.\n",
    "\n",
    "Here is an example:\n",
    "\n",
    "\n",
    "<div align=\"center\">\n",
    "    <img alt=\"Partition\" src=\"https://media.geeksforgeeks.org/wp-content/uploads/20221115132720/recursiontreedrawio.png\" height=\"500\">\n",
    "</div>"
   ]
  },
  {
   "cell_type": "code",
   "execution_count": 72,
   "metadata": {},
   "outputs": [],
   "source": [
    "def partition(array, p, r, comparisons_hist, i_hist):\n",
    "    pivot = array[p] # using the first element as pivot\n",
    "    i = p\n",
    "    for j in range(p+1, r+1):\n",
    "        comparisons_hist[i_hist] += 1\n",
    "        if array[j] <= pivot:\n",
    "            i = i+1\n",
    "            swap(array, i, j)\n",
    "    swap(array, i, p)\n",
    "    q = i\n",
    "    return q"
   ]
  },
  {
   "cell_type": "markdown",
   "metadata": {},
   "source": [
    "#### Quicksort"
   ]
  },
  {
   "cell_type": "code",
   "execution_count": 73,
   "metadata": {},
   "outputs": [],
   "source": [
    "def quicksort(array, p, r, comparisons_hist, i_hist):\n",
    "    if p < r:\n",
    "        q = partition (array, p, r, comparisons_hist, i_hist)\n",
    "        quicksort (array, p, q-1, comparisons_hist, i_hist)\n",
    "        quicksort (array, q+1, r, comparisons_hist, i_hist)"
   ]
  },
  {
   "cell_type": "markdown",
   "metadata": {},
   "source": [
    "### Simulation"
   ]
  },
  {
   "cell_type": "markdown",
   "metadata": {},
   "source": [
    "We are going to execute the algorithm a large number of times and estimate the average number of comparisons required to sort a random permutation. Then we are going to compare this with the theoretical upper bound for the average case complexity of Quicksort.\n",
    "\n",
    "More specifically, we are going to execute the algorithm 100 times providing as input a random permutation of the numbers 1,2,..,50 where each possible permutation has equal probability."
   ]
  },
  {
   "cell_type": "markdown",
   "metadata": {},
   "source": [
    "Here is a simple function that given a sequence (i.e. 1,2,..,50 in our case) it returns a random permutation of the sequence, where all permutations are equiprobable. \n",
    "\n",
    "The way this is achieved is that in each step it randomly chooses a position within the sequence, takes the element in that position, removes it from the old sequence and then appends it in a new sequence (empty at first). In this way, each permutation occurs with probability $\\frac{1}{n!}$."
   ]
  },
  {
   "cell_type": "code",
   "execution_count": 74,
   "metadata": {},
   "outputs": [],
   "source": [
    "def rand_permutation(sequence):\n",
    "    sequence_cpy = sequence.copy()\n",
    "    iters = len(sequence_cpy)\n",
    "    permutation = []\n",
    "\n",
    "    for i in range(iters) :\n",
    "        j = random.randint(0, len(sequence_cpy)-1)\n",
    "        permutation.append(sequence_cpy[j])\n",
    "        sequence_cpy.pop(j)\n",
    "        \n",
    "    return permutation"
   ]
  },
  {
   "cell_type": "markdown",
   "metadata": {},
   "source": [
    "Now we can estimate the average number of comparisons required to sort a random permutation of 1,2,..,50. As stated above, we are going to execute the algorithm 100 times."
   ]
  },
  {
   "cell_type": "code",
   "execution_count": 143,
   "metadata": {},
   "outputs": [
    {
     "name": "stdout",
     "output_type": "stream",
     "text": [
      "Average number of comparisons per run: 254.09\n",
      "Theoretical upper bound for average case complexity of Quicksort = O(nlogn), where nlogn = 282.19\n",
      "Theoretical upper bound for worst case complexity of Quicksort = O(n^2), where n^2 =  2500.00\n"
     ]
    }
   ],
   "source": [
    "n = 50\n",
    "iters = 100\n",
    "\n",
    "# Define the sequence of numbers we are going to use\n",
    "sequence = list(range(1, n+1))\n",
    "\n",
    "# Initialiaze a list for the number of comparisons that will be made in each run of the algorithm\n",
    "comparisons_hist = [0]*iters\n",
    "\n",
    "for i in range(iters):\n",
    "    # Construct a random permutation of the initial sequence of numbers\n",
    "    array = rand_permutation(sequence)\n",
    "\n",
    "    # Use Quicksort to sort this permutation of numbers\n",
    "    quicksort(array, 0, n-1, comparisons_hist, i)\n",
    "\n",
    "# Calculate the average number of comparisons per run\n",
    "average = sum(comparisons_hist)/len(comparisons_hist)\n",
    "print(\"Average number of comparisons per run: {0:.2f}\".format(average))\n",
    "\n",
    "# Compare with the theoretical upper bound for average case complexity of Quicksort\n",
    "print(\"Theoretical upper bound for average case complexity of Quicksort = O(nlogn), where nlogn = {0:.2f}\".format(n*math.log(n,2)))\n",
    "\n",
    "# Compare with the theoretical upper bound for worst case complexity of Quicksort\n",
    "print(\"Theoretical upper bound for worst case complexity of Quicksort = O(n^2), where n^2 =  {0:.2f}\".format(n**2))"
   ]
  },
  {
   "cell_type": "markdown",
   "metadata": {},
   "source": [
    "Indeed the average number of comparisons per run agrees with the theoretical upper bound for the average case complexity of the algorithm."
   ]
  },
  {
   "cell_type": "markdown",
   "metadata": {},
   "source": [
    "## Karger's Algorithm"
   ]
  },
  {
   "cell_type": "markdown",
   "metadata": {},
   "source": [
    "Karger's algorithm is a randomized algorithm to compute a minimum cut of a connected graph. It was invented by David Karger and first published in 1993.\n",
    "\n",
    "The idea of the algorithm is based on the concept of contraction of an edge $(u,v)$ in an undirected graph $G=(V,E)$. Informally speaking, the contraction of an edge merges the nodes $u$ and $v$ into one, reducing the total number of nodes of the graph by one. All other edges connecting either $u$ or $v$ are \"reattached\" to the merged node, effectively producing a multigraph. Karger's basic algorithm iteratively contracts randomly chosen edges until only two nodes remain; those nodes represent a cut in the original graph. By iterating this basic algorithm a sufficient number of times, a minimum cut can be found with high probability (i.e. <i>Probability Amplification</i>).\n",
    "\n",
    "---\n",
    "\n",
    "$$\n",
    "\\begin{align*}\n",
    "&\\textbf{Procedure Contract}(G = (V, E)): \\\\\n",
    "&\\quad \\text{While } |V| > 2: \\\\\n",
    "&\\quad \\quad \\text{Choose } e \\in E \\text{ uniformly at random.} \\\\\n",
    "&\\quad \\quad G \\leftarrow G / e \\\\\n",
    "&\\text{Return the only cut in } G.\n",
    "\\end{align*}\n",
    "$$\n",
    "\n",
    "---\n",
    "\n",
    "[Read more](https://en.wikipedia.org/wiki/Karger%27s_algorithm)\n"
   ]
  },
  {
   "cell_type": "markdown",
   "metadata": {},
   "source": [
    "### Implementation"
   ]
  },
  {
   "cell_type": "markdown",
   "metadata": {},
   "source": [
    "This implementation uses two lists, V and E, for the vertices/nodes and the edges respectively. \n",
    "\n",
    "- Each vertex/node of the graph is a string: e.g. ```'a', 'b', ...```\n",
    "\n",
    "- Each edge is a list itself: e.g. ```['a', 'b']```"
   ]
  },
  {
   "cell_type": "code",
   "execution_count": 65,
   "metadata": {},
   "outputs": [],
   "source": [
    "def karger_min_cut(V,E):\n",
    "    n = len(V)\n",
    "\n",
    "    for i in range(n-2):   # the goal is to be left with 2 vertices so n-2 iterations are required (in each iteration the number of vertices reduces by 1)\n",
    "        m = len(E)\n",
    "\n",
    "        # Pick a random edge\n",
    "        edge_index = random.randint(0, m-1)\n",
    "        edge = E[edge_index]\n",
    "        u = edge[0]\n",
    "        v = edge[1]\n",
    "\n",
    "        # Contraction:\n",
    "        # Create a super vertex consisting of the vertices u, v of the edge selected above (i.e. merge u and v)\n",
    "        super_vertex = u + v\n",
    "        print(\"\\tContraction {0}: {1}\".format(i+1, u+v))\n",
    "\n",
    "        edges_to_remove = []\n",
    "        edges_to_append = []\n",
    "        \n",
    "        # All other edges connecting either u or v are \"reattached\" to the super vertex\n",
    "        for e in E:\n",
    "            if u in e and v in e:\n",
    "                edges_to_remove.append(e)\n",
    "            elif u in e:\n",
    "                new_edge = e.copy()\n",
    "                new_edge.remove(u)\n",
    "                new_edge.append(super_vertex)\n",
    "                edges_to_remove.append(e)\n",
    "                edges_to_append.append(new_edge)\n",
    "            elif v in e:\n",
    "                new_edge = e.copy()\n",
    "                new_edge.remove(v)\n",
    "                new_edge.append(super_vertex)\n",
    "                edges_to_remove.append(e)\n",
    "                edges_to_append.append(new_edge)\n",
    "\n",
    "        # Update the edges (E) of the graph after contraction\n",
    "        for edge in edges_to_remove:\n",
    "            E.remove(edge)\n",
    "        \n",
    "        for edge in edges_to_append:\n",
    "            E.append(edge)\n",
    "\n",
    "        # Update the vertices (V) of the graph after contraction \n",
    "        V.append(super_vertex)\n",
    "        V.remove(u)\n",
    "        V.remove(v)\n",
    "\n",
    "    # Return the final graph \n",
    "    return V, E"
   ]
  },
  {
   "cell_type": "markdown",
   "metadata": {},
   "source": [
    "### Simulation"
   ]
  },
  {
   "cell_type": "markdown",
   "metadata": {},
   "source": [
    "We are going to run the algorithm 20 times, and from the 20 results we will obtain, we are going to choose the smallest min-cut. \n",
    "\n",
    "- As we know, the probability of the algorithm failing to find the min-cut is  $\\leq 1 - \\frac{2}{n*(n-1)}$\n",
    "\n",
    "- So with 20 independent executions, the probability becomes $\\leq ( 1 - \\frac{2}{n*(n-1)})^{20}$\n",
    "\n",
    "The graph we are going to use is the following:\n",
    "\n",
    "<div align=\"center\">\n",
    "    <img src=\"images/graph_for_karger_alg.png\" alt=\"Graph\" style=\"height:200px;\">\n",
    "</div>\n",
    "\n",
    "This graph has $n = 8$ vertices and $m = 14$ edges. Hence, the probability of the algorithm failing to find the min-cut within 20 executions is $\\leq ( 1 - \\frac{2}{n*(n-1)})^{20} = ( 1 - \\frac{2}{8*(8-1)})^{20} \\approx 0.48 $\n",
    "\n",
    "Note that this graph has a unique min-cut: $\\{(B,E), (D,G)\\}$ of size 2."
   ]
  },
  {
   "cell_type": "code",
   "execution_count": 66,
   "metadata": {},
   "outputs": [
    {
     "name": "stdout",
     "output_type": "stream",
     "text": [
      "\n",
      "Iteration 1:\n",
      "\tContraction 1: ad\n",
      "\tContraction 2: bad\n",
      "\tContraction 3: fg\n",
      "\tContraction 4: cbad\n",
      "\tContraction 5: efg\n",
      "\tContraction 6: cbadefg\n",
      "\n",
      "\tV = ['h', 'cbadefg']\n",
      "\tE = [['h', 'cbadefg'], ['h', 'cbadefg'], ['h', 'cbadefg']]\n",
      "\n",
      "Iteration 2:\n",
      "\tContraction 1: ef\n",
      "\tContraction 2: gh\n",
      "\tContraction 3: ac\n",
      "\tContraction 4: bef\n",
      "\tContraction 5: dac\n",
      "\tContraction 6: ghbef\n",
      "\n",
      "\tV = ['dac', 'ghbef']\n",
      "\tE = [['dac', 'ghbef'], ['dac', 'ghbef'], ['dac', 'ghbef'], ['dac', 'ghbef']]\n",
      "\n",
      "Iteration 3:\n",
      "\tContraction 1: eh\n",
      "\tContraction 2: bd\n",
      "\tContraction 3: cbd\n",
      "\tContraction 4: ehcbd\n",
      "\tContraction 5: gehcbd\n",
      "\tContraction 6: fgehcbd\n",
      "\n",
      "\tV = ['a', 'fgehcbd']\n",
      "\tE = [['a', 'fgehcbd'], ['a', 'fgehcbd'], ['a', 'fgehcbd']]\n",
      "\n",
      "Iteration 4:\n",
      "\tContraction 1: ac\n",
      "\tContraction 2: fh\n",
      "\tContraction 3: efh\n",
      "\tContraction 4: bd\n",
      "\tContraction 5: acbd\n",
      "\tContraction 6: gacbd\n",
      "\n",
      "\tV = ['efh', 'gacbd']\n",
      "\tE = [['efh', 'gacbd'], ['efh', 'gacbd'], ['efh', 'gacbd'], ['efh', 'gacbd']]\n",
      "\n",
      "Iteration 5:\n",
      "\tContraction 1: fg\n",
      "\tContraction 2: ab\n",
      "\tContraction 3: efg\n",
      "\tContraction 4: hefg\n",
      "\tContraction 5: cd\n",
      "\tContraction 6: abhefg\n",
      "\n",
      "\tV = ['cd', 'abhefg']\n",
      "\tE = [['cd', 'abhefg'], ['cd', 'abhefg'], ['cd', 'abhefg'], ['cd', 'abhefg'], ['cd', 'abhefg']]\n",
      "\n",
      "Iteration 6:\n",
      "\tContraction 1: dg\n",
      "\tContraction 2: bc\n",
      "\tContraction 3: ebc\n",
      "\tContraction 4: dgebc\n",
      "\tContraction 5: fh\n",
      "\tContraction 6: adgebc\n",
      "\n",
      "\tV = ['fh', 'adgebc']\n",
      "\tE = [['fh', 'adgebc'], ['fh', 'adgebc'], ['fh', 'adgebc'], ['fh', 'adgebc']]\n",
      "\n",
      "Iteration 7:\n",
      "\tContraction 1: fg\n",
      "\tContraction 2: hfg\n",
      "\tContraction 3: bd\n",
      "\tContraction 4: hfgbd\n",
      "\tContraction 5: ehfgbd\n",
      "\tContraction 6: cehfgbd\n",
      "\n",
      "\tV = ['a', 'cehfgbd']\n",
      "\tE = [['a', 'cehfgbd'], ['a', 'cehfgbd'], ['a', 'cehfgbd']]\n",
      "\n",
      "Iteration 8:\n",
      "\tContraction 1: be\n",
      "\tContraction 2: gh\n",
      "\tContraction 3: cbe\n",
      "\tContraction 4: dgh\n",
      "\tContraction 5: adgh\n",
      "\tContraction 6: cbeadgh\n",
      "\n",
      "\tV = ['f', 'cbeadgh']\n",
      "\tE = [['f', 'cbeadgh'], ['f', 'cbeadgh'], ['f', 'cbeadgh']]\n",
      "\n",
      "Iteration 9:\n",
      "\tContraction 1: ef\n",
      "\tContraction 2: cd\n",
      "\tContraction 3: bef\n",
      "\tContraction 4: hbef\n",
      "\tContraction 5: ghbef\n",
      "\tContraction 6: acd\n",
      "\n",
      "\tV = ['ghbef', 'acd']\n",
      "\tE = [['ghbef', 'acd'], ['ghbef', 'acd'], ['ghbef', 'acd'], ['ghbef', 'acd']]\n",
      "\n",
      "Iteration 10:\n",
      "\tContraction 1: ef\n",
      "\tContraction 2: bc\n",
      "\tContraction 3: ad\n",
      "\tContraction 4: bcad\n",
      "\tContraction 5: gef\n",
      "\tContraction 6: hgef\n",
      "\n",
      "\tV = ['bcad', 'hgef']\n",
      "\tE = [['bcad', 'hgef'], ['bcad', 'hgef']]\n",
      "\n",
      "Iteration 11:\n",
      "\tContraction 1: ac\n",
      "\tContraction 2: ef\n",
      "\tContraction 3: dg\n",
      "\tContraction 4: bac\n",
      "\tContraction 5: efdg\n",
      "\tContraction 6: bacefdg\n",
      "\n",
      "\tV = ['h', 'bacefdg']\n",
      "\tE = [['h', 'bacefdg'], ['h', 'bacefdg'], ['h', 'bacefdg']]\n",
      "\n",
      "Iteration 12:\n",
      "\tContraction 1: ab\n",
      "\tContraction 2: eab\n",
      "\tContraction 3: deab\n",
      "\tContraction 4: cdeab\n",
      "\tContraction 5: gcdeab\n",
      "\tContraction 6: fgcdeab\n",
      "\n",
      "\tV = ['h', 'fgcdeab']\n",
      "\tE = [['h', 'fgcdeab'], ['h', 'fgcdeab'], ['h', 'fgcdeab']]\n",
      "\n",
      "Iteration 13:\n",
      "\tContraction 1: dg\n",
      "\tContraction 2: adg\n",
      "\tContraction 3: badg\n",
      "\tContraction 4: cbadg\n",
      "\tContraction 5: ef\n",
      "\tContraction 6: hef\n",
      "\n",
      "\tV = ['cbadg', 'hef']\n",
      "\tE = [['cbadg', 'hef'], ['cbadg', 'hef'], ['cbadg', 'hef'], ['cbadg', 'hef']]\n",
      "\n",
      "Iteration 14:\n",
      "\tContraction 1: eg\n",
      "\tContraction 2: ab\n",
      "\tContraction 3: cab\n",
      "\tContraction 4: heg\n",
      "\tContraction 5: dheg\n",
      "\tContraction 6: fdheg\n",
      "\n",
      "\tV = ['cab', 'fdheg']\n",
      "\tE = [['cab', 'fdheg'], ['cab', 'fdheg'], ['cab', 'fdheg'], ['cab', 'fdheg']]\n",
      "\n",
      "Iteration 15:\n",
      "\tContraction 1: gh\n",
      "\tContraction 2: cd\n",
      "\tContraction 3: ef\n",
      "\tContraction 4: bcd\n",
      "\tContraction 5: ghef\n",
      "\tContraction 6: abcd\n",
      "\n",
      "\tV = ['ghef', 'abcd']\n",
      "\tE = [['ghef', 'abcd'], ['ghef', 'abcd']]\n",
      "\n",
      "Iteration 16:\n",
      "\tContraction 1: bd\n",
      "\tContraction 2: abd\n",
      "\tContraction 3: gh\n",
      "\tContraction 4: egh\n",
      "\tContraction 5: abdegh\n",
      "\tContraction 6: fabdegh\n",
      "\n",
      "\tV = ['c', 'fabdegh']\n",
      "\tE = [['c', 'fabdegh'], ['c', 'fabdegh'], ['c', 'fabdegh']]\n",
      "\n",
      "Iteration 17:\n",
      "\tContraction 1: fg\n",
      "\tContraction 2: ab\n",
      "\tContraction 3: eab\n",
      "\tContraction 4: ceab\n",
      "\tContraction 5: hfg\n",
      "\tContraction 6: dceab\n",
      "\n",
      "\tV = ['hfg', 'dceab']\n",
      "\tE = [['hfg', 'dceab'], ['hfg', 'dceab'], ['hfg', 'dceab'], ['hfg', 'dceab']]\n",
      "\n",
      "Iteration 18:\n",
      "\tContraction 1: ac\n",
      "\tContraction 2: ef\n",
      "\tContraction 3: bac\n",
      "\tContraction 4: dbac\n",
      "\tContraction 5: gdbac\n",
      "\tContraction 6: hef\n",
      "\n",
      "\tV = ['gdbac', 'hef']\n",
      "\tE = [['gdbac', 'hef'], ['gdbac', 'hef'], ['gdbac', 'hef'], ['gdbac', 'hef']]\n",
      "\n",
      "Iteration 19:\n",
      "\tContraction 1: ad\n",
      "\tContraction 2: bad\n",
      "\tContraction 3: cbad\n",
      "\tContraction 4: eg\n",
      "\tContraction 5: heg\n",
      "\tContraction 6: fheg\n",
      "\n",
      "\tV = ['cbad', 'fheg']\n",
      "\tE = [['cbad', 'fheg'], ['cbad', 'fheg']]\n",
      "\n",
      "Iteration 20:\n",
      "\tContraction 1: gh\n",
      "\tContraction 2: ab\n",
      "\tContraction 3: cab\n",
      "\tContraction 4: dcab\n",
      "\tContraction 5: egh\n",
      "\tContraction 6: fegh\n",
      "\n",
      "\tV = ['dcab', 'fegh']\n",
      "\tE = [['dcab', 'fegh'], ['dcab', 'fegh']]\n",
      "\n",
      "---------------------------  Karger's randomized algorithm  ---------------------------\n",
      "> Min-cut found: [['bcad', 'hgef'], ['bcad', 'hgef']]\n",
      "> Min-cut size: 2\n"
     ]
    }
   ],
   "source": [
    "# Construct the graph (i.e. define V and E)\n",
    "V = ['a', 'b', 'c', 'd', 'e', 'f', 'g', 'h']    # Vertices\n",
    "E = []                                          # Edges\n",
    "\n",
    "# Automate the construction by observing that the graph consists of two cliques (K_4)\n",
    "cliques = []\n",
    "cliques.append(['a', 'b', 'c', 'd'])\n",
    "cliques.append(['e', 'f', 'g', 'h'])\n",
    "for clique in cliques:\n",
    "    for i in range(len(clique)):\n",
    "        for j in range(i+1, len(clique)):\n",
    "            E.append([clique[i], clique[j]])\n",
    "E.append(['b', 'e'])\n",
    "E.append(['d', 'g'])\n",
    "\n",
    "\n",
    "\n",
    "# Perform 20 iterations and keep the minimum cut as the final result\n",
    "iters = 20\n",
    "min_cut = E\n",
    "min_cut_size = len(E)\n",
    "\n",
    "for i in range(iters):\n",
    "    print(\"\\nIteration {0}:\".format(i+1))\n",
    "\n",
    "    V_final, E_final = karger_min_cut(V.copy(), E.copy())\n",
    "    \n",
    "    print(\"\\n\\tV = {0}\".format(V_final))\n",
    "    print(\"\\tE = {0}\".format(E_final))\n",
    "\n",
    "    if len(E_final) < len(min_cut):\n",
    "        min_cut = E_final\n",
    "        min_cut_size = len(E_final)\n",
    "\n",
    "print(\"\\n---------------------------  Karger's randomized algorithm  ---------------------------\")\n",
    "print(\"> Min-cut found: {0}\".format(min_cut))\n",
    "print(\"> Min-cut size: {0}\".format(min_cut_size))"
   ]
  },
  {
   "cell_type": "markdown",
   "metadata": {},
   "source": [
    "Indeed, the algorithm managed to find the min-cut within 20 executions. \n",
    "\n",
    "The interesting fact here is that it managed to find it not just 1 but 4 times within these specific 20 executions! (Iteration: 10, 15, 19, 20)\n",
    "\n",
    "Of course this can vary, but what all possible groups of 20 executions have in common is that the overall probability of success (i.e. the probability of at least one of them ending in success) is $\\approx 1-0.48 = 0.52 > \\frac{1}{2}$"
   ]
  }
 ],
 "metadata": {
  "kernelspec": {
   "display_name": "Python 3",
   "language": "python",
   "name": "python3"
  },
  "language_info": {
   "codemirror_mode": {
    "name": "ipython",
    "version": 3
   },
   "file_extension": ".py",
   "mimetype": "text/x-python",
   "name": "python",
   "nbconvert_exporter": "python",
   "pygments_lexer": "ipython3",
   "version": "3.10.9"
  }
 },
 "nbformat": 4,
 "nbformat_minor": 2
}
