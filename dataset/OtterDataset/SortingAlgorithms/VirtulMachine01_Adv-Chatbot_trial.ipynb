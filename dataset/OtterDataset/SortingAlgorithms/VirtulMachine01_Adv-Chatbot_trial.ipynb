{
 "cells": [
  {
   "cell_type": "code",
   "execution_count": 2,
   "metadata": {},
   "outputs": [
    {
     "name": "stdout",
     "output_type": "stream",
     "text": [
      "Select the sorting algorithm you want to learn:\n",
      "1. Bubble Sort\n",
      "2. Quick Sort\n",
      "3. Merge Sort\n",
      "4. Insertion Sort\n",
      "5. Selection Sort\n"
     ]
    }
   ],
   "source": [
    "def select_algorithm():\n",
    "    sorting_algorithms = [\"Bubble Sort\", \"Quick Sort\", \"Merge Sort\", \"Insertion Sort\", \"Selection Sort\"]\n",
    "    print(\"Select the sorting algorithm you want to learn:\")\n",
    "    for i, algo in enumerate(sorting_algorithms, 1):\n",
    "        print(f\"{i}. {algo}\")\n",
    "    choice = int(input(\"Enter the number of your choice: \"))\n",
    "    return sorting_algorithms[choice - 1]\n",
    "\n",
    "selected_algorithm = select_algorithm()\n"
   ]
  },
  {
   "cell_type": "code",
   "execution_count": 3,
   "metadata": {},
   "outputs": [
    {
     "data": {
      "text/plain": [
       "'Bubble Sort'"
      ]
     },
     "execution_count": 3,
     "metadata": {},
     "output_type": "execute_result"
    }
   ],
   "source": [
    "selected_algorithm"
   ]
  },
  {
   "cell_type": "code",
   "execution_count": 4,
   "metadata": {},
   "outputs": [],
   "source": [
    "import os\n",
    "from dotenv import load_dotenv\n",
    "from langchain_groq import ChatGroq\n",
    "\n",
    "load_dotenv()\n",
    "\n",
    "## Load the Groq API\n",
    "os.environ['GROQ_API_KEY'] = os.getenv(\"GROQ_API_KEY\")\n",
    "# llm=ChatGroq(model_name = \"llama-3.2-11b-text-preview\")\n",
    "llm=ChatGroq(model_name = \"llama-3.1-70b-versatile\")\n"
   ]
  },
  {
   "cell_type": "code",
   "execution_count": 5,
   "metadata": {},
   "outputs": [],
   "source": [
    "response = llm.invoke(f\"Give a brief introduction of 5-6 lines about the {str(selected_algorithm)} algorithm.\")"
   ]
  },
  {
   "cell_type": "code",
   "execution_count": 6,
   "metadata": {},
   "outputs": [
    {
     "name": "stdout",
     "output_type": "stream",
     "text": [
      "The Bubble Sort algorithm is a simple sorting technique that works by repeatedly swapping adjacent elements if they are in the wrong order. This process continues until no more swaps are needed, indicating that the list is sorted. Bubble Sort is a comparison-based sorting algorithm that has a time complexity of O(n^2) in the worst and average cases. Although it is not efficient for large datasets, Bubble Sort is often taught in introductory programming courses due to its simplicity. The algorithm is stable, meaning that the order of equal elements is preserved. It is best suited for small datasets or educational purposes.\n"
     ]
    }
   ],
   "source": [
    "print(response.content)"
   ]
  },
  {
   "cell_type": "code",
   "execution_count": 7,
   "metadata": {},
   "outputs": [
    {
     "name": "stdout",
     "output_type": "stream",
     "text": [
      "Question:  Here's a Socratic question for a student learning Bubble Sort:\n",
      "\n",
      "\"Now that we've walked through the Bubble Sort algorithm, let's think about its behavior. Suppose we have an array that is already partially sorted. For example, the first half of the array is sorted in ascending order, but the second half is still unsorted. What do you think will happen to the number of passes the algorithm needs to make through the array to fully sort it, compared to if the entire array were unsorted?\"\n"
     ]
    }
   ],
   "source": [
    "def generate_question(algorithm, previous_answers=[]):\n",
    "    # Dynamically generate a question based on the student's progress\n",
    "    prompt = f\"You are a teaching assistant for sorting algorithms. The student is learning {algorithm}. Generate a Socratic question that is appropriate to their current understanding.\"\n",
    "    if previous_answers:\n",
    "        prompt += \" The student has answered the following so far: \" + str(previous_answers)\n",
    "    \n",
    "    response = llm.invoke(prompt)\n",
    "    return response.content\n",
    "\n",
    "question = generate_question(selected_algorithm)\n",
    "print(\"Question: \", question)\n"
   ]
  },
  {
   "cell_type": "code",
   "execution_count": 8,
   "metadata": {},
   "outputs": [
    {
     "name": "stdout",
     "output_type": "stream",
     "text": [
      "Follow-up:  The student has demonstrated a good understanding of the Bubble Sort algorithm's behavior and its limitations. They correctly identified that the algorithm does not recognize sorted segments and will continue checking every element, which means the number of passes will remain the same.\n",
      "\n",
      "However, there is an opportunity to further explore the concept of optimizing the algorithm and to encourage critical thinking. Here's a follow-up question:\n",
      "\n",
      "\"Great job understanding the behavior of Bubble Sort. You mentioned that the algorithm doesn't recognize sorted segments. Suppose we were to modify the Bubble Sort algorithm to take advantage of the fact that the first half of the array is already sorted. How could we modify the algorithm to reduce the number of passes or comparisons it makes? For example, could we use this knowledge to adjust the starting or ending point of our passes, or to avoid unnecessary comparisons?\"\n",
      "\n",
      "This follow-up question encourages the student to think creatively about optimizing the algorithm and to consider how the properties of the input data can be used to improve performance. It also provides an opportunity to discuss the trade-offs between different algorithmic approaches and the importance of considering the specific characteristics of the problem being solved.\n"
     ]
    }
   ],
   "source": [
    "def analyze_answer(algorithm, question, user_answer):\n",
    "    # Ask the LLM to analyze the answer and decide next step\n",
    "    prompt = f\"As a Socratic teacher, analyze the student's response to this question: '{question}' The student answered: '{user_answer}'. Based on this, generate a follow-up question or provide feedback.\"\n",
    "    \n",
    "    response = llm.invoke(prompt)\n",
    "    return response.content\n",
    "\n",
    "user_answer = input(\"Your Answer: \")\n",
    "follow_up = analyze_answer(selected_algorithm, question, user_answer)\n",
    "print(\"Follow-up: \", follow_up)\n"
   ]
  },
  {
   "cell_type": "code",
   "execution_count": 9,
   "metadata": {},
   "outputs": [
    {
     "name": "stdout",
     "output_type": "stream",
     "text": [
      "Next step:  The student's answer is correct. Bubble Sort will continue making multiple passes through the entire array, even if a portion of it is already sorted, because it doesn't recognize sorted segments. The number of swaps may decrease in the sorted portion, but the number of passes will remain the same.\n",
      "\n",
      "Here's a more complex question:\n",
      "\n",
      "\"Now that we've understood how Bubble Sort behaves with partially sorted arrays, let's think about its performance in the worst-case scenario. Suppose we have a large array that's sorted in descending order. How would you optimize the Bubble Sort algorithm to take advantage of this specific arrangement, and what would be the resulting time complexity?\"\n"
     ]
    }
   ],
   "source": [
    "def socratic_followup(question, user_answer):\n",
    "    prompt = f\"The question was: '{question}'. The student answered: '{user_answer}'. If the answer was wrong, generate a simpler, guiding question. If it was correct, generate the next more complex question.\"\n",
    "    \n",
    "    response = llm.invoke(prompt)\n",
    "    return response.content\n",
    "\n",
    "simplified_question_or_feedback = socratic_followup(question, user_answer)\n",
    "print(\"Next step: \", simplified_question_or_feedback)\n"
   ]
  },
  {
   "cell_type": "code",
   "execution_count": 10,
   "metadata": {},
   "outputs": [
    {
     "name": "stdout",
     "output_type": "stream",
     "text": [
      "Question:  Here's a Socratic question for a student learning Bubble Sort:\n",
      "\n",
      "\"Imagine we're using Bubble Sort to sort an array of numbers in ascending order. In the first pass through the array, we compare each pair of adjacent elements and swap them if they're in the wrong order. \n",
      "\n",
      "What happens to the largest element in the array after this first pass is complete?\"\n",
      "\n",
      "This question encourages the student to think about the specific steps involved in the Bubble Sort algorithm and how they affect the array. It also helps them understand the key insight behind Bubble Sort: that each pass through the array 'bubbles up' the largest (or smallest) element to its correct position.\n",
      "Next Question/Feedback:  Since the student's answer was not provided, I will assume it was incorrect. \n",
      "\n",
      "A simpler guiding question could be: \n",
      "\n",
      "\"Imagine you have two adjacent numbers in the array, 5 and 8. If you are sorting in ascending order, which number will be in the first position after the comparison?\" \n",
      "\n",
      "This question helps the student understand the basic comparison and swapping process involved in the Bubble Sort algorithm. Once they understand this, you can guide them back to the original question or move on to more complex questions.\n",
      "Question:  Here's a Socratic question for a student learning Bubble Sort, considering their current understanding:\n",
      "\n",
      "\"Imagine we're using Bubble Sort to sort an array of numbers in ascending order. After the first pass through the array, we've 'bubbled up' the largest element to the end of the array. Now, as we start the second pass, do we need to compare the last element (the largest one we've already positioned) with any other elements in the second pass, or can we exclude it from the comparison?\"\n",
      "Next Question/Feedback:  Since the student's answer is not provided, let's assume the student answered incorrectly. A guiding question to help them understand the concept better could be:\n",
      "\n",
      "\"Think about it this way: we've already placed the largest element at the correct position (at the end of the array) in the first pass. If we compare it with other elements in the second pass, would that change its position or is it already in its correct place?\"\n",
      "\n",
      "If the student answered correctly, a more complex question could be:\n",
      "\n",
      "\"Consider an optimization for Bubble Sort. If the inner loop doesn't make any swaps during a pass, that means the array is already sorted. How can we use this information to terminate the algorithm early, reducing unnecessary iterations and improving performance?\"\n",
      "Question:  Here's another Socratic question for a student learning Bubble Sort, considering their current understanding:\n",
      "\n",
      "\"Imagine we're using Bubble Sort to sort an array of numbers in ascending order. We've completed a few passes through the array and noticed that in the most recent pass, no swaps were needed - all the elements were already in their correct order. Given that Bubble Sort continues to make passes through the array until no more swaps are needed, what can we conclude about the array at this point, and how does this relate to the stopping condition for the Bubble Sort algorithm?\"\n"
     ]
    }
   ],
   "source": [
    "previous_answers = []\n",
    "while True:\n",
    "    question = generate_question(selected_algorithm, previous_answers)\n",
    "    print(\"Question: \", question)\n",
    "    \n",
    "    user_answer = input(\"Your Answer: \")\n",
    "    feedback_or_next_question = socratic_followup(question, user_answer)\n",
    "    print(\"Next Question/Feedback: \", feedback_or_next_question)\n",
    "    \n",
    "    previous_answers.append((question, user_answer))\n",
    "    \n",
    "    # Exit condition for the loop (e.g., when a full understanding is reached)\n",
    "    if \"Congratulations\" in feedback_or_next_question:\n",
    "        break\n"
   ]
  },
  {
   "cell_type": "code",
   "execution_count": null,
   "metadata": {},
   "outputs": [],
   "source": []
  }
 ],
 "metadata": {
  "kernelspec": {
   "display_name": "chatenv",
   "language": "python",
   "name": "python3"
  },
  "language_info": {
   "codemirror_mode": {
    "name": "ipython",
    "version": 3
   },
   "file_extension": ".py",
   "mimetype": "text/x-python",
   "name": "python",
   "nbconvert_exporter": "python",
   "pygments_lexer": "ipython3",
   "version": "3.12.2"
  }
 },
 "nbformat": 4,
 "nbformat_minor": 2
}
