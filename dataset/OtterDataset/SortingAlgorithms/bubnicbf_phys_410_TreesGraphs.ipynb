{
 "cells": [
  {
   "cell_type": "markdown",
   "metadata": {},
   "source": [
    "cf. [`stackoverflow` How to Implement a Binary Tree?](https://stackoverflow.com/questions/2598437/how-to-implement-a-binary-tree)"
   ]
  },
  {
   "cell_type": "code",
   "execution_count": 4,
   "metadata": {
    "collapsed": true
   },
   "outputs": [],
   "source": [
    "# binary tree\n",
    "class Node:\n",
    "    def __init__(self,val):\n",
    "        self.l=None\n",
    "        self.r=None\n",
    "        self.v=val\n",
    "\n",
    "class Tree:\n",
    "    def __init__(self):\n",
    "        self.root = None\n",
    "        \n",
    "    def getRoot(self):\n",
    "        return self.root\n",
    "    \n",
    "    def add(self, val):\n",
    "        if (self.root == None):\n",
    "            self.root = Node(val)\n",
    "        else:\n",
    "            self._add(val, self.root)\n",
    "            \n",
    "    def _add(self, val, node):\n",
    "        if(val <node.v):\n",
    "            if (node.l != None):\n",
    "                self._add(val, node.l)\n",
    "            else:\n",
    "                node.l = Node(val)\n",
    "        else:\n",
    "            if(node.r !=None):\n",
    "                self._add(val, node.r)\n",
    "            else:\n",
    "                node.r = Node(val)\n",
    "                    \n",
    "    def find(self, val):\n",
    "        if(self.root != None):\n",
    "            return self._find(val, self.root) \n",
    "        else:\n",
    "            return None\n",
    "        \n",
    "    def _find(self, val, node):\n",
    "        if (val== node.v):\n",
    "            return node\n",
    "        elif(val < node.v and node.l !=None):\n",
    "            self._find(val, node.l)\n",
    "        elif(val >node.v and node.r !=None):\n",
    "            self._find(val, node.r)\n",
    "                \n",
    "    def deleteTree(self):\n",
    "        # garbage collector will do this for us \n",
    "        self.root =None\n",
    "            \n",
    "    def printTree(self):\n",
    "        if (self.root != None):\n",
    "            self._printTree(self.root)\n",
    "                \n",
    "    def _printTree(self, node):\n",
    "        if (node!= None):\n",
    "            self._printTree(node.l)\n",
    "            print str(node.v) + ' '\n",
    "            self._printTree(node.r)\n",
    "                \n"
   ]
  },
  {
   "cell_type": "code",
   "execution_count": 6,
   "metadata": {
    "collapsed": false
   },
   "outputs": [
    {
     "name": "stdout",
     "output_type": "stream",
     "text": [
      "0 \n",
      "2 \n",
      "3 \n",
      "4 \n",
      "8 \n",
      "3\n",
      "None\n"
     ]
    }
   ],
   "source": [
    "tree = Tree()\n",
    "tree.add(3)\n",
    "tree.add(4)\n",
    "tree.add(0)\n",
    "tree.add(8)\n",
    "tree.add(2)\n",
    "tree.printTree()\n",
    "print (tree.find(3)).v\n",
    "print tree.find(10)\n",
    "tree.deleteTree()\n",
    "tree.printTree()\n"
   ]
  },
  {
   "cell_type": "markdown",
   "metadata": {},
   "source": [
    "From [Rahul's](https://stackoverflow.com/users/4040998/rahul) answer, I got to this tutorial:  [6.13. Search Tree Implementation](http://interactivepython.org/runestone/static/pythonds/Trees/SearchTreeImplementation.html)\n"
   ]
  },
  {
   "cell_type": "markdown",
   "metadata": {},
   "source": [
    "I went back to the beginning of [Problem Solving with Algorithms and Data Structures using Python](http://interactivepython.org/runestone/static/pythonds/index.html).  \n",
    "\n",
    "I started here, with [6.4. List of Lists Representation](http://interactivepython.org/runestone/static/pythonds/Trees/ListofListsRepresentation.html)"
   ]
  },
  {
   "cell_type": "code",
   "execution_count": 8,
   "metadata": {
    "collapsed": true
   },
   "outputs": [],
   "source": [
    "myTree = ['a', # root \n",
    "            ['b', # left subtree \n",
    "                ['d', [], []],\n",
    "                ['e', [], []] ],\n",
    "                 ['c', # right subtree \n",
    "                    ['f', [], []], \n",
    "                     []]]"
   ]
  },
  {
   "cell_type": "code",
   "execution_count": 9,
   "metadata": {
    "collapsed": false
   },
   "outputs": [
    {
     "data": {
      "text/plain": [
       "['a', ['b', ['d', [], []], ['e', [], []]], ['c', ['f', [], []], []]]"
      ]
     },
     "execution_count": 9,
     "metadata": {},
     "output_type": "execute_result"
    }
   ],
   "source": [
    "myTree"
   ]
  },
  {
   "cell_type": "markdown",
   "metadata": {},
   "source": [
    "Nice features of list of lists approach: \n",
    "- stucture of a list representing subtree adheres to structre defined for a tree; structure itself is recursive!\n",
    "- is that it generalizes to a tree that has many subtrees.  In case, where tree is more than a binary tree, another subtree is just another list.  "
   ]
  },
  {
   "cell_type": "code",
   "execution_count": 10,
   "metadata": {
    "collapsed": false
   },
   "outputs": [
    {
     "name": "stdout",
     "output_type": "stream",
     "text": [
      "['a', ['b', ['d', [], []], ['e', [], []]], ['c', ['f', [], []], []]]\n",
      "('left subtree = ', ['b', ['d', [], []], ['e', [], []]])\n",
      "('root = ', 'a')\n",
      "('right subtree = ', ['c', ['f', [], []], []])\n"
     ]
    }
   ],
   "source": [
    "print(myTree)\n",
    "print('left subtree = ', myTree[1])\n",
    "print('root = ', myTree[0])\n",
    "print('right subtree = ', myTree[2])"
   ]
  },
  {
   "cell_type": "code",
   "execution_count": 11,
   "metadata": {
    "collapsed": true
   },
   "outputs": [],
   "source": [
    "def BinaryTree(r):\n",
    "    \"\"\" @name  BinaryTree\n",
    "        @brief  Construct list with root node and 2 empty sublists fo children \n",
    "    \"\"\"\n",
    "    return [r, [], []]"
   ]
  },
  {
   "cell_type": "code",
   "execution_count": 13,
   "metadata": {
    "collapsed": true
   },
   "outputs": [],
   "source": [
    "def insertLeft(root, newBranch):\n",
    "    \"\"\" @name  insertLeft\n",
    "    \"\"\"  \n",
    "    t = root.pop(1) # remove element indexed at i=1 and return it (in this case, to t)\n",
    "    if len(t) > 1:  # should be another binary tree with root and 2 children\n",
    "        root.insert(1,[newBranch,t,[]])  # \n",
    "    else:\n",
    "        root.insert(1,[newBranch,[],[]])\n",
    "    return root"
   ]
  },
  {
   "cell_type": "code",
   "execution_count": 12,
   "metadata": {
    "collapsed": false
   },
   "outputs": [
    {
     "name": "stdout",
     "output_type": "stream",
     "text": [
      "0\n"
     ]
    }
   ],
   "source": [
    "# Miscellaneous\n",
    "child = []\n",
    "print(len(child))"
   ]
  },
  {
   "cell_type": "code",
   "execution_count": 14,
   "metadata": {
    "collapsed": true
   },
   "outputs": [],
   "source": [
    "def insertRight(root,newBranch):\n",
    "    t = root.pop(2)\n",
    "    if len(t) > 1:\n",
    "        root.insert(2,[newBranch,[],t])\n",
    "    else:\n",
    "        root.insert(2,[newBranch,[],[]])\n",
    "    return root"
   ]
  },
  {
   "cell_type": "markdown",
   "metadata": {},
   "source": [
    "To round out this set of tree-making functions, write a couple of access functions for getting and setting the root value, as well as getting the left or right subtrees.  "
   ]
  },
  {
   "cell_type": "code",
   "execution_count": 16,
   "metadata": {
    "collapsed": false
   },
   "outputs": [],
   "source": [
    "def getRootVal(root):\n",
    "    return root[0]\n",
    "\n",
    "def setRootVal(root, newVal):\n",
    "    root[0] = newVal\n",
    "\n",
    "def getLeftChild(root):\n",
    "    return root[1]\n",
    "\n",
    "def getRightChild(root):\n",
    "    return root[2]"
   ]
  },
  {
   "cell_type": "code",
   "execution_count": 18,
   "metadata": {
    "collapsed": false
   },
   "outputs": [
    {
     "name": "stdout",
     "output_type": "stream",
     "text": [
      "[3, [], []]\n",
      "[3, [4, [], []], []]\n",
      "[3, [5, [4, [], []], []], []]\n",
      "[3, [5, [4, [], []], []], [6, [], []]]\n",
      "[3, [5, [4, [], []], []], [7, [], [6, [], []]]]\n"
     ]
    }
   ],
   "source": [
    "r = BinaryTree(3)\n",
    "print(r)\n",
    "insertLeft(r,4)\n",
    "print(r)\n",
    "insertLeft(r,5)\n",
    "print(r)\n",
    "insertRight(r,6)\n",
    "print(r)\n",
    "insertRight(r,7)\n",
    "print(r)"
   ]
  },
  {
   "cell_type": "code",
   "execution_count": 19,
   "metadata": {
    "collapsed": false
   },
   "outputs": [
    {
     "name": "stdout",
     "output_type": "stream",
     "text": [
      "[5, [4, [], []], []]\n"
     ]
    }
   ],
   "source": [
    "l = getLeftChild(r)\n",
    "print(l)"
   ]
  },
  {
   "cell_type": "code",
   "execution_count": 20,
   "metadata": {
    "collapsed": false
   },
   "outputs": [
    {
     "name": "stdout",
     "output_type": "stream",
     "text": [
      "[3, [9, [4, [], []], []], [7, [], [6, [], []]]]\n"
     ]
    }
   ],
   "source": [
    "setRootVal(l,9)\n",
    "print(r)\n"
   ]
  },
  {
   "cell_type": "code",
   "execution_count": 21,
   "metadata": {
    "collapsed": false
   },
   "outputs": [
    {
     "name": "stdout",
     "output_type": "stream",
     "text": [
      "[3, [9, [11, [4, [], []], []], []], [7, [], [6, [], []]]]\n"
     ]
    }
   ],
   "source": [
    "insertLeft(l,11)\n",
    "print(r)"
   ]
  },
  {
   "cell_type": "code",
   "execution_count": 22,
   "metadata": {
    "collapsed": false
   },
   "outputs": [
    {
     "name": "stdout",
     "output_type": "stream",
     "text": [
      "[6, [], []]\n"
     ]
    }
   ],
   "source": [
    "print(getRightChild(getRightChild(r)))"
   ]
  },
  {
   "cell_type": "markdown",
   "metadata": {},
   "source": [
    "** Self Check **  \n",
    "\n",
    "*Q-26*"
   ]
  },
  {
   "cell_type": "code",
   "execution_count": 23,
   "metadata": {
    "collapsed": false
   },
   "outputs": [
    {
     "data": {
      "text/plain": [
       "['d', ['e', [], []], []]"
      ]
     },
     "execution_count": 23,
     "metadata": {},
     "output_type": "execute_result"
    }
   ],
   "source": [
    "x = BinaryTree('a')\n",
    "insertLeft(x,'b')\n",
    "insertRight(x, 'c')\n",
    "insertRight(getRightChild(x),'d')\n",
    "insertLeft(getRightChild(getRightChild(x)),'e')"
   ]
  },
  {
   "cell_type": "code",
   "execution_count": 24,
   "metadata": {
    "collapsed": false
   },
   "outputs": [
    {
     "name": "stdout",
     "output_type": "stream",
     "text": [
      "['a', ['b', [], []], ['c', [], ['d', ['e', [], []], []]]]\n"
     ]
    }
   ],
   "source": [
    "print(x)"
   ]
  },
  {
   "cell_type": "code",
   "execution_count": 25,
   "metadata": {
    "collapsed": false
   },
   "outputs": [
    {
     "data": {
      "text/plain": [
       "['c', ['e', [], []], ['f', [], []]]"
      ]
     },
     "execution_count": 25,
     "metadata": {},
     "output_type": "execute_result"
    }
   ],
   "source": [
    "x = BinaryTree('a')\n",
    "insertLeft(x, 'd')\n",
    "insertLeft(x, 'b')\n",
    "insertRight(x,'f')\n",
    "insertRight(x,'c')\n",
    "insertLeft( getRightChild(x), 'e')"
   ]
  },
  {
   "cell_type": "code",
   "execution_count": 26,
   "metadata": {
    "collapsed": false
   },
   "outputs": [
    {
     "name": "stdout",
     "output_type": "stream",
     "text": [
      "['a', ['b', ['d', [], []], []], ['c', ['e', [], []], ['f', [], []]]]\n"
     ]
    }
   ],
   "source": [
    "print(x)"
   ]
  },
  {
   "cell_type": "markdown",
   "metadata": {},
   "source": [
    "## Nodes and References, Sec. 6.5 of Problem Solving with Algorithms and Data Structures  "
   ]
  },
  {
   "cell_type": "code",
   "execution_count": 27,
   "metadata": {
    "collapsed": true
   },
   "outputs": [],
   "source": [
    "class BinaryTree:\n",
    "    def __init__(self, rootObj):\n",
    "        self.key = rootObj\n",
    "        self.leftChild = None\n",
    "        self.rightChild = None\n",
    "    \n",
    "    def insertLeft(self, newNode):\n",
    "        if self.leftChild == None:\n",
    "            self.leftChild = BinaryTree(newNode)\n",
    "        else:\n",
    "            t = BinaryTree(newNode)\n",
    "            t.leftChild = self.leftChild\n",
    "            self.leftChild = t\n",
    "            \n",
    "    def insertRight(self, newNode):\n",
    "        if self.rightChild == None:\n",
    "            self.rightChild = BinaryTree(newNode)\n",
    "        else:\n",
    "            t = BinaryTree(newNode)\n",
    "            t.rightChild = self.rightChild\n",
    "            self.rightChild = t\n",
    "            \n",
    "    def getRightChild(self):\n",
    "        return self.rightChild\n",
    "    \n",
    "    def getLeftChild(self):\n",
    "        return self.leftChild\n",
    "    \n",
    "    def setRootVal(self,obj):\n",
    "        self.key = obj\n",
    "        \n",
    "    def getRootVal(self):\n",
    "        return self.key\n",
    "    \n",
    "    "
   ]
  },
  {
   "cell_type": "code",
   "execution_count": 30,
   "metadata": {
    "collapsed": false
   },
   "outputs": [
    {
     "name": "stdout",
     "output_type": "stream",
     "text": [
      "a\n",
      "None\n",
      "<__main__.BinaryTree instance at 0x7f0f306a57e8>\n",
      "b\n"
     ]
    }
   ],
   "source": [
    "r = BinaryTree('a')\n",
    "print(r.getRootVal())\n",
    "print(r.getLeftChild())\n",
    "r.insertLeft('b')\n",
    "print(r.getLeftChild())\n",
    "print(r.getLeftChild().getRootVal())\n",
    "r.insertRight('c')"
   ]
  },
  {
   "cell_type": "markdown",
   "metadata": {},
   "source": [
    "## Parse Tree; 6.6 Parse Tree  \n",
    "\n",
    "1st. tokenize expression string (i.e. breakup each term in an expression string as a token so to create a list of tokens).  The different kinds of tokens will say whether to create a new tree, finished an expression, leaf node, or if it'll have left and right child.  \n",
    "\n",
    "Initially, start out with parse tree that consists of empty root node.  "
   ]
  },
  {
   "cell_type": "code",
   "execution_count": 33,
   "metadata": {
    "collapsed": false
   },
   "outputs": [],
   "source": [
    "from __future__ import print_function\n",
    "\n",
    "class BinaryTree:\n",
    "    \"\"\" @name  BinaryTree\n",
    "        @brief  Recursive implementation of Binary Tree, using links and nodes approach.  \n",
    "        \n",
    "        @note  Modified to allow for trees to be constructed from other trees rather than \n",
    "                always creating a new tree in the insertLeft or insertRight \"\"\"\n",
    "    def __init__(self,rootObj):\n",
    "        self.key = rootObj\n",
    "        self.leftChild = None\n",
    "        self.rightChild = None\n",
    "        \n",
    "    def insertLeft(self,newNode):\n",
    "        if isinstance(newNode, BinaryTree):\n",
    "            t = newNode\n",
    "        else:\n",
    "            t= BinaryTree(newNode)\n",
    "        \n",
    "        if self.leftChild is not None:\n",
    "            t.left = self.leftChild\n",
    "            \n",
    "        self.leftChild = t\n",
    "        \n",
    "    def insertRight(self, newNode):\n",
    "        if isinstance(newNode, BinaryTree):\n",
    "            t = newNode\n",
    "        else:\n",
    "            t = BinaryTree(newNode)\n",
    "            \n",
    "        if self.rightChild is not None:\n",
    "            t.right = self.rightChild\n",
    "        self.rightChild = t\n",
    "        \n",
    "    def isLeaf(self):\n",
    "        return ((not self.leftChild) and (not self.rightChild))\n",
    "    \n",
    "    def getRightChild(self):\n",
    "        return self.rightChild\n",
    "    \n",
    "    def getLeftChild(self):\n",
    "        return self.leftChild\n",
    "    \n",
    "    def setRootVal(self,obj):\n",
    "        self.key = obj\n",
    "        \n",
    "    def getRootVal(self,):\n",
    "        return self.key\n",
    "    \n",
    "    def inorder(self):\n",
    "        if self.leftChild:\n",
    "            self.leftChild.inorder()\n",
    "        print(self.key)\n",
    "        if self.rightChild:\n",
    "            self.rightChild.inorder()\n",
    "            \n",
    "    def postorder(self):\n",
    "        if self.leftChild:\n",
    "            self.leftChild.postorder()\n",
    "        if self.rightChild:\n",
    "            self.rightChild.postorder()\n",
    "        print(self.key)\n",
    "        \n",
    "    def preorder(self):\n",
    "        print(self.key)\n",
    "        if self.leftChild:\n",
    "            self.leftChild.preorder()\n",
    "        if self.rightChild:\n",
    "            self.rightChild.preorder()\n",
    "            \n",
    "    def printexp(self):\n",
    "        if self.leftChild:\n",
    "            print('(', end=' ')\n",
    "            self.leftChild.printexp()\n",
    "        print(self.key, end=' ')\n",
    "        if self.rightChild:\n",
    "            self.rightChild.printexp()\n",
    "            print(')', end=' ')\n",
    "            \n",
    "    def postordereval(self):\n",
    "        opers = {'+':operator.add, '-':operator.sub, '*':operator.mul, '/':operator.truediv}\n",
    "        res1 = None\n",
    "        res2 = None\n",
    "        if self.leftChild:\n",
    "            res1 = self.leftChild.postordereval()  #// \\label{peleft}\n",
    "        if self.rightChild:\n",
    "            res2 = self.rightChild.postoreval() # // \\label{peright}\n",
    "        if res1 and res2:\n",
    "            return opers[self.key](res1,res2) #// \\label{peeval}\n",
    "        else:\n",
    "            return self.key\n",
    "        \n",
    "    "
   ]
  },
  {
   "cell_type": "code",
   "execution_count": 35,
   "metadata": {
    "collapsed": true
   },
   "outputs": [],
   "source": [
    "# stack.py,\n",
    "# cf. https://github.com/bnmnetp/pythonds/blob/master/basic/stack.py\n",
    "\n",
    "class Stack:\n",
    "    def __init__(self):\n",
    "        self.items = []\n",
    "        \n",
    "    def isEmpty(self):\n",
    "        return self.items == []\n",
    "    \n",
    "    def push(self, item):\n",
    "        self.items.append(item)\n",
    "        \n",
    "    def pop(self):\n",
    "        return self.items.pop()\n",
    "    \n",
    "    def peek(self):\n",
    "        return self.items[len(self.items)-1]\n",
    "    \n",
    "    def size(self):\n",
    "        return len(self.items)\n",
    "    "
   ]
  },
  {
   "cell_type": "code",
   "execution_count": 36,
   "metadata": {
    "collapsed": true
   },
   "outputs": [],
   "source": [
    "def buildParseTree(fpexp):\n",
    "    \"\"\" @name  buildParseTree\n",
    "        @param fpexp - string with a mathematical expression (assumed to be correct)\n",
    "    \"\"\"\n",
    "    fplist = fpexp.split()\n",
    "    pStack = Stack()\n",
    "    eTree  = BinaryTree('')\n",
    "    pStack.push(eTree)\n",
    "    currentTree = eTree\n",
    "    for i in fplist:\n",
    "        if i == '(':  # create new node as left child of root; make current node this new child\n",
    "            currentTree.insertLeft('')\n",
    "            pStack.push(currentTree)\n",
    "            currentTree=currentTree.getLeftChild()\n",
    "        elif i not in ['+','-','*','/',')']:  # case of a number; set root value of current node to number and go back up the tree to the parent \n",
    "            currentTree.setRootVal(int(i))  \n",
    "            parent = pStack.pop()\n",
    "            currentTree=parent\n",
    "        elif i in ['+', '-','*','/']: # set root value of current node to this operator and add new node as right child; new right child becomes current node\n",
    "            currentTree.setRootVal(i)\n",
    "            currentTree.insertRight('')\n",
    "            pStack.push(currentTree)\n",
    "            currentTree = currentTree.getRightChild()\n",
    "        elif i ==')': # make parent of operator current node  \n",
    "            currentTree= pStack.pop()\n",
    "        else:\n",
    "            raise ValueError\n",
    "    return eTree\n",
    "            "
   ]
  },
  {
   "cell_type": "code",
   "execution_count": 38,
   "metadata": {
    "collapsed": false
   },
   "outputs": [],
   "source": [
    "pt = buildParseTree(\"( ( 10 + 5 ) * 3 )\")"
   ]
  },
  {
   "cell_type": "code",
   "execution_count": 39,
   "metadata": {
    "collapsed": false
   },
   "outputs": [
    {
     "name": "stdout",
     "output_type": "stream",
     "text": [
      "10\n",
      "5\n",
      "+\n",
      "3\n",
      "*\n"
     ]
    }
   ],
   "source": [
    "pt.postorder()"
   ]
  },
  {
   "cell_type": "markdown",
   "metadata": {},
   "source": [
    "As we have done with past recursive algorithms, we'll begin the design for the recursive evaluation function by identifying the base case.  \n",
    "\n",
    "A natural base case for recursive algorithms that operate on trees is to check for a leaf node.  "
   ]
  },
  {
   "cell_type": "code",
   "execution_count": 43,
   "metadata": {
    "collapsed": false
   },
   "outputs": [
    {
     "data": {
      "text/plain": [
       "<function operator.truediv>"
      ]
     },
     "execution_count": 43,
     "metadata": {},
     "output_type": "execute_result"
    }
   ],
   "source": [
    "# https://docs.python.org/2/library/operator.html\n",
    "# Standard operators as functions  \n",
    "import operator\n",
    "\n",
    "# operator.add(a,b) return a+b\n",
    "operator.add  \n",
    "\n",
    "# operator.div(a,b) return a/b when __future__.division is not in effect.  This is also known as \"classic\" division\n",
    "operator.div\n",
    "\n",
    "# operator.truediv(a,b) return a/b when __future__.division is in effect.  This is also known as \"true\" division.\n",
    "operator.truediv"
   ]
  },
  {
   "cell_type": "code",
   "execution_count": 44,
   "metadata": {
    "collapsed": true
   },
   "outputs": [],
   "source": [
    "def evaluate(parseTree):\n",
    "    opers = {'+':operator.add, '-':operator.sub, '*':operator.mul, '/':operator.truediv}\n",
    "    \n",
    "    leftC  = parseTree.getLeftChild()\n",
    "    rightC = parseTree.getRightChild()\n",
    "    \n",
    "    if leftC and rightC:  # recursive step that moves function toward base case \n",
    "        fn = opers[parseTree.getRootVal()]\n",
    "        return fn(evaluate(leftC),evaluate(rightC))  # recursive call effectively moves us down the tree, toward a leaf node\n",
    "    else: # base case, check for a leaf node; in parse tree, leaf nodes will always be operands \n",
    "        return parseTree.getRootVal()"
   ]
  },
  {
   "cell_type": "code",
   "execution_count": 45,
   "metadata": {
    "collapsed": false
   },
   "outputs": [
    {
     "data": {
      "text/plain": [
       "45"
      ]
     },
     "execution_count": 45,
     "metadata": {},
     "output_type": "execute_result"
    }
   ],
   "source": [
    "evaluate(pt)"
   ]
  },
  {
   "cell_type": "markdown",
   "metadata": {},
   "source": [
    "##  Tree Traversals, 6.7 Tree Traversals  "
   ]
  },
  {
   "cell_type": "code",
   "execution_count": 46,
   "metadata": {
    "collapsed": true
   },
   "outputs": [],
   "source": [
    "def preorder(tree):\n",
    "    if tree:\n",
    "        print(tree.getRootVal())\n",
    "        preorder(tree.getLeftChild())\n",
    "        preorder(tree.getRightChild())\n",
    "        \n",
    "        "
   ]
  },
  {
   "cell_type": "code",
   "execution_count": 47,
   "metadata": {
    "collapsed": false
   },
   "outputs": [
    {
     "name": "stdout",
     "output_type": "stream",
     "text": [
      "a\n",
      "b\n",
      "c\n"
     ]
    }
   ],
   "source": [
    "preorder(r)"
   ]
  },
  {
   "cell_type": "code",
   "execution_count": 48,
   "metadata": {
    "collapsed": true
   },
   "outputs": [],
   "source": [
    "def postorder(tree):\n",
    "    if tree != None:\n",
    "        postorder(tree.getLeftChild())\n",
    "        postorder(tree.getRightChild())\n",
    "        print(tree.getRootVal())"
   ]
  },
  {
   "cell_type": "code",
   "execution_count": 49,
   "metadata": {
    "collapsed": true
   },
   "outputs": [],
   "source": [
    "def postordereval(tree):\n",
    "    opers = {'+':operator.add, '-':operator.sub, '*':operator.mul, '/':operator.truediv}\n",
    "    res1=None\n",
    "    res2=None\n",
    "    if tree:\n",
    "        res1 = postordereval(tree.getLeftChild())\n",
    "        res2=postordereval(tree.getRightChild())\n",
    "        if res1 and res2:\n",
    "            return opers[tree.getRootVal()](res1,res2)\n",
    "        else:\n",
    "            return tree.getRootVal()"
   ]
  },
  {
   "cell_type": "code",
   "execution_count": 50,
   "metadata": {
    "collapsed": true
   },
   "outputs": [],
   "source": [
    "def inorder(tree):\n",
    "    if tree != None:\n",
    "        inorder(tree.getLeftChild())\n",
    "        print(tree.getRootVal())\n",
    "        inorder(tree.getRightChild())"
   ]
  },
  {
   "cell_type": "code",
   "execution_count": 51,
   "metadata": {
    "collapsed": true
   },
   "outputs": [],
   "source": [
    "def printexp(tree):\n",
    "    eVal = \"\"\n",
    "    if tree:\n",
    "        sVal = '(' + printexp(tree.getLeftChild())\n",
    "        sVal = sVal + str(Tree.getRootVal())\n",
    "        sVal = sVal + printexp(tree.getRightChild())+')'\n",
    "    return sVal"
   ]
  },
  {
   "cell_type": "code",
   "execution_count": null,
   "metadata": {
    "collapsed": true
   },
   "outputs": [],
   "source": [
    "# delMin() returns item with minimum key value, removing item from the heap"
   ]
  },
  {
   "cell_type": "markdown",
   "metadata": {},
   "source": [
    "### Binary Heap `binheap.py`  \n",
    "\n",
    "cf. [` pythonds/trees/binheap.py`](https://github.com/bnmnetp/pythonds/blob/master/trees/binheap.py)\n"
   ]
  },
  {
   "cell_type": "code",
   "execution_count": 64,
   "metadata": {
    "collapsed": false
   },
   "outputs": [],
   "source": [
    "# this heap takes key value pairs, we'll assume that keys are integers\n",
    "\n",
    "class BinHeap:\n",
    "    def __init__(self):\n",
    "        self.heapList = [0]  # 1-based counting  \n",
    "        self.currentSize = 0\n",
    "        \n",
    "    def buildHeap(self,alist):\n",
    "        \"\"\" @fn  buildHeap(self,alist)\n",
    "            &brief  builds a new heap from a list of keys\n",
    "        \"\"\"\n",
    "        i = len(alist) // 2 # integer division is // \n",
    "        self.currentSize = len(alist)\n",
    "        self.heapList = [0] + alist[:]\n",
    "        print(len(self.heapList),i)\n",
    "        while (i>0):\n",
    "            print(self.heapList, i )\n",
    "            self.percDown(i)\n",
    "            i=i-1\n",
    "        print(self.heapList,i)\n",
    "        \n",
    "    def percDown(self,i):\n",
    "        while(i*2) <= self.currentSize:  # check with i*2 because we need to know if i has children or not\n",
    "            mc = self.minChild(i)\n",
    "            if self.heapList[i] > self.heapList[mc]: # violates heap order property that parent is less than child in value\n",
    "                tmp = self.heapList[i] \n",
    "                self.heapList[i] = self.heapList[mc] # do the switch between them\n",
    "                self.heapList[mc] = tmp\n",
    "            i = mc # check now the children of the child of i\n",
    "    \n",
    "    def minChild(self,i):\n",
    "        \"\"\" @fn  minChild\n",
    "            @brief  finding the minimum amongst the children of parent ith node \n",
    "        \"\"\"\n",
    "        if i * 2 + 1 > self.currentSize:\n",
    "            return i * 2\n",
    "        else:\n",
    "            if self.heapList[i*2] < self.heapList[i * 2 + 1]:\n",
    "                return i * 2\n",
    "            else:\n",
    "                return i * 2 + 1\n",
    "            \n",
    "    def percUp(self,i):\n",
    "        while i // 2 > 0:  # i // 2 is integer division (node of parent of ith node)\n",
    "            if self.heapList[i] < self.heapList[i//2]:  # violates heap order property\n",
    "                tmp = self.heapList[i//2] # parent is now tmp\n",
    "                self.heapList[i//2]= self.heapList[i]  # percolate up the ith node to where its parent was\n",
    "                self.heapList[i] = tmp # put parent in where i was \n",
    "            i = i // 2 # keep doing this check for heap order property violations\n",
    "            \n",
    "    def insert(self,k):\n",
    "        \"\"\" @fn  insert\n",
    "            @brief  adds new item to the heap \n",
    "        \"\"\"\n",
    "\n",
    "        self.heapList.append(k)\n",
    "        self.currentSize = self.currentSize + 1 \n",
    "        self.percUp(self.currentSize)  # check for heap order property violations\n",
    "        \n",
    "    def delMin(self):\n",
    "        \"\"\" @fn  delMin\n",
    "            @brief  returns item with minimum key value, leaving item in the heap \n",
    "            \n",
    "            @note  Since heap order property requires root of tree be smallest item in tree, finding the minimum\n",
    "                    item is easy.  Hard part is restoring full compliance with heap structure and heap order property.\n",
    "        \"\"\"\n",
    "        retval = self.heapList[1]\n",
    "        self.heapList[1] = self.heapList[self.currentSize]\n",
    "        self.currentSize = self.currentSize - 1 # take last item in list and move it to root position\n",
    "        self.heapList.pop()\n",
    "        self.percDown(1)\n",
    "        return retval\n",
    "    \n",
    "    def isEmpty(self):\n",
    "        \"\"\" @fn  isEmpty\n",
    "            @brief  returns true if the heap is empty, false otherwise\n",
    "        \"\"\"\n",
    "        if currentSize == 0:\n",
    "            return True\n",
    "        else:\n",
    "            return False\n",
    "    \n",
    "    "
   ]
  },
  {
   "cell_type": "code",
   "execution_count": 65,
   "metadata": {
    "collapsed": false
   },
   "outputs": [
    {
     "name": "stdout",
     "output_type": "stream",
     "text": [
      "2\n",
      "[0]\n",
      "[0, 5]\n",
      "[0, 5, 7]\n",
      "[0, 3, 7, 5]\n",
      "[0, 3, 7, 5, 11]\n"
     ]
    }
   ],
   "source": [
    "print( 5 // 2 )\n",
    "bh = BinHeap()\n",
    "print(bh.heapList)\n",
    "bh.insert(5)\n",
    "print(bh.heapList)\n",
    "bh.insert(7)\n",
    "print(bh.heapList)\n",
    "bh.insert(3)\n",
    "print(bh.heapList)\n",
    "bh.insert(11)\n",
    "print(bh.heapList)\n",
    "\n"
   ]
  },
  {
   "cell_type": "code",
   "execution_count": 66,
   "metadata": {
    "collapsed": false
   },
   "outputs": [
    {
     "name": "stdout",
     "output_type": "stream",
     "text": [
      "3\n",
      "5\n",
      "7\n",
      "11\n"
     ]
    }
   ],
   "source": [
    "print(bh.delMin())\n",
    "print(bh.delMin())\n",
    "print(bh.delMin())\n",
    "print(bh.delMin())\n"
   ]
  },
  {
   "cell_type": "markdown",
   "metadata": {},
   "source": [
    "# Binary Heap Implementation; 6.10. Binary Heap Implmentation\n",
    "## The Structure Property 6.10.1 The Structure Property  \n",
    "\n",
    "In order to make our heap work efficiently, take advantage of the logarithmic nature of the binary tree, to represent our heap.  In order to guarantee logarithmic performance, keep tree balanced.  \n",
    "\n",
    "A balanced binary tree has roughly the same number of nodes in the left and right subtrees of the root.  \n",
    "\n",
    "In our heap implementation, we keep the tree balanced by creating a **complete binary tree**.  A complete binary tree is a tree in which each level has all of its nodes.  Exception to this is the bottom level of the tree, which we fill in from left to right.  \n",
    "\n",
    "Another interesting property of a complete tree is that we can represent it using a single list.  \n",
    "\n",
    "cf. https://courses.cs.washington.edu/courses/cse373/06sp/handouts/lecture10.pdf  \n",
    "\n",
    "** heap order property** - \n",
    "- every node is less than or equal to its children \n",
    "- or every node is greater than or equal to its children  \n",
    "\n",
    "and so the root node is always the smallest node, or the largest, depending on the heap order.  \n",
    "\n",
    "With heap order property, each *path* is sorted, but the subtrees are not sorted (necessarily) relative to each other.  \n",
    "\n",
    "### Complexity  \n",
    "\n",
    "*Assertion*: build heap in $O(n)$.  \n",
    "\n",
    "Key to understanding the proof is you can build the heap in $O(n)$ because remember, that the $\\log{n}$ factor is derived from height of the tree.  For most of the work in `buildHeap`, tree is shorter than $\\log{n}$.  \n",
    "\n",
    "Using fact that you can build a heap from a list in $O(n)$ time, you'll construct sorting algorithm that uses heap and sorts a list in $O(n\\log{n})$ as exercise at the end.  "
   ]
  },
  {
   "cell_type": "markdown",
   "metadata": {},
   "source": [
    "cf. [Why is Binary Heap Preferred over BST for Priority Queue?](http://www.geeksforgeeks.org/why-is-binary-heap-preferred-over-bst-for-priority-queue/)  \n",
    "\n",
    "Priority Queue wants\n",
    "1. Get top priority element (get minimum or maximum)\n",
    "2. insert an element\n",
    "3. remove top priority element\n",
    "4. decrease key\n",
    "\n",
    "binary heap's time complexities:\n",
    "1. O(1)\n",
    "2. O($\\log{n}$)\n",
    "3. O($\\log{n}$)\n",
    "4. O($\\log{n}$)\n",
    "\n",
    "cf. [Time Complexity of building a heap](http://www.geeksforgeeks.org/time-complexity-of-building-a-heap/)\n",
    "\n",
    "build heap in $O(n)$.  \n",
    "\n",
    "It's not $O(n\\log{n})$ even though heapify costs $O(\\log{n})$\n",
    "\n",
    "observe heapify run time depends on height of tree $h$, (which is equal to $\\log{n}$, and heights of most subtrees are small.  \n",
    "\n",
    "$T(n) = \\sum_{h=0}^{\\log{n}} \\frac{n}{2^{h+1} }$\n",
    "\n"
   ]
  },
  {
   "cell_type": "markdown",
   "metadata": {},
   "source": [
    "# Binary Search Trees, 6.11 Binary Search Trees, 6.13. Search Tree Implementation  \n",
    "\n",
    "From wikipedia, the binary search tree property states that the key in each node must be greater than or equal to any key stored in the left sub-tree, and less than or equal to any key stored in the right sub-tree.  \n",
    "\n",
    "From [6.13. Search Tree Implementation](http://interactivepython.org/runestone/static/pythonds/Trees/SearchTreeImplementation.html), binary search tree property (**bst property**), that keys that are less than the parent are found in the left subtree, and keys that are greater than the parent are found in the right subtree.  \n",
    "\n",
    "Because we must be able to create and work with a binary search tree that's empty, our implementation will use 2 classes.  \n",
    "\n",
    "The `BinarySearchTree` has reference to `TreeNode` that is the root of the binary search tree.  \"In most cases, the external methods defined in outer class simply check to see if tree is empty\".  If there are nodes in the tree, the request is just passed on to a private method defined in the `BinarySearchTree` class that takes the root as a parameter.  \n",
    "\n",
    "In the case where the tree is empty or we want to delete the key at the root of the tree, we must take special action.  \n",
    "\n"
   ]
  },
  {
   "cell_type": "code",
   "execution_count": 69,
   "metadata": {
    "collapsed": false
   },
   "outputs": [
    {
     "name": "stdout",
     "output_type": "stream",
     "text": [
      "/home/topolo/PropD/CompPhys/crack\n",
      "['crack.ipynb', '.ipynb_checkpoints', 'TreesGraphs.ipynb', 'recursion.py', 'trees_arbres']\n"
     ]
    }
   ],
   "source": [
    "import os, sys\n",
    "print( os.getcwd() )\n",
    "print(os.listdir( os.getcwd() ))"
   ]
  },
  {
   "cell_type": "code",
   "execution_count": 72,
   "metadata": {
    "collapsed": false
   },
   "outputs": [],
   "source": [
    "sys.path.insert(0, os.getcwd() + '/trees_arbres/')\n",
    "from bst import BinarySearchTree, TreeNode"
   ]
  },
  {
   "cell_type": "code",
   "execution_count": 78,
   "metadata": {
    "collapsed": false
   },
   "outputs": [
    {
     "name": "stdout",
     "output_type": "stream",
     "text": [
      "0\n",
      "None\n",
      "0\n",
      "1\n",
      "<bst.TreeNode instance at 0x7f0f35b8cef0>\n",
      "3\n",
      "red\n",
      "None\n",
      "None\n",
      "None\n",
      "0\n",
      "1\n"
     ]
    }
   ],
   "source": [
    "mytree = BinarySearchTree()\n",
    "print( mytree.length() )\n",
    "print( mytree.root )\n",
    "print( mytree.size)\n",
    "\n",
    "mytree[3] = \"red\"\n",
    "print( mytree.length() )\n",
    "print( mytree.root )\n",
    "print( mytree.root.key )\n",
    "print( mytree.root.payload )\n",
    "print( mytree.root.leftChild )\n",
    "print( mytree.root.rightChild )\n",
    "print( mytree.root.parent )\n",
    "print( mytree.root.balanceFactor )\n",
    "print( mytree.size)\n"
   ]
  },
  {
   "cell_type": "code",
   "execution_count": 79,
   "metadata": {
    "collapsed": false
   },
   "outputs": [
    {
     "name": "stdout",
     "output_type": "stream",
     "text": [
      "2\n",
      "<bst.TreeNode instance at 0x7f0f35b8cef0>\n",
      "3\n",
      "red\n",
      "None\n",
      "<bst.TreeNode instance at 0x7f0f3052c950>\n",
      "None\n",
      "0\n",
      "2\n"
     ]
    }
   ],
   "source": [
    "mytree[4] = \"blue\"\n",
    "print( mytree.length() )\n",
    "print( mytree.root )\n",
    "print( mytree.root.key )\n",
    "print( mytree.root.payload )\n",
    "print( mytree.root.leftChild )\n",
    "print( mytree.root.rightChild )\n",
    "print( mytree.root.parent )\n",
    "print( mytree.root.balanceFactor )\n",
    "print( mytree.size)"
   ]
  },
  {
   "cell_type": "code",
   "execution_count": 80,
   "metadata": {
    "collapsed": false
   },
   "outputs": [
    {
     "name": "stdout",
     "output_type": "stream",
     "text": [
      "3\n",
      "<bst.TreeNode instance at 0x7f0f35b8cef0>\n",
      "3\n",
      "red\n",
      "None\n",
      "<bst.TreeNode instance at 0x7f0f3052c950>\n",
      "None\n",
      "0\n",
      "3\n"
     ]
    }
   ],
   "source": [
    "mytree[6] = \"yellow\"\n",
    "print( mytree.length() )\n",
    "print( mytree.root )\n",
    "print( mytree.root.key )\n",
    "print( mytree.root.payload )\n",
    "print( mytree.root.leftChild )\n",
    "print( mytree.root.rightChild )\n",
    "print( mytree.root.parent )\n",
    "print( mytree.root.balanceFactor )\n",
    "print( mytree.size)"
   ]
  },
  {
   "cell_type": "code",
   "execution_count": 81,
   "metadata": {
    "collapsed": false
   },
   "outputs": [
    {
     "name": "stdout",
     "output_type": "stream",
     "text": [
      "4\n",
      "<bst.TreeNode instance at 0x7f0f35b8cef0>\n",
      "3\n",
      "red\n",
      "<bst.TreeNode instance at 0x7f0f305188c0>\n",
      "<bst.TreeNode instance at 0x7f0f3052c950>\n",
      "None\n",
      "0\n",
      "4\n"
     ]
    }
   ],
   "source": [
    "mytree[2] = \"at\"\n",
    "print( mytree.length() )\n",
    "print( mytree.root )\n",
    "print( mytree.root.key )\n",
    "print( mytree.root.payload )\n",
    "print( mytree.root.leftChild )\n",
    "print( mytree.root.rightChild )\n",
    "print( mytree.root.parent )\n",
    "print( mytree.root.balanceFactor )\n",
    "print( mytree.size)"
   ]
  },
  {
   "cell_type": "code",
   "execution_count": 82,
   "metadata": {
    "collapsed": false
   },
   "outputs": [
    {
     "name": "stdout",
     "output_type": "stream",
     "text": [
      "yellow\n"
     ]
    }
   ],
   "source": [
    "print(mytree[6])"
   ]
  },
  {
   "cell_type": "code",
   "execution_count": 83,
   "metadata": {
    "collapsed": false
   },
   "outputs": [
    {
     "name": "stdout",
     "output_type": "stream",
     "text": [
      "at\n"
     ]
    }
   ],
   "source": [
    "print(mytree[2])"
   ]
  },
  {
   "cell_type": "markdown",
   "metadata": {},
   "source": [
    "cf. [6.14. Search Tree Analysis](http://interactivepython.org/runestone/static/pythonds/Trees/SearchTreeAnalysis.html) \n",
    "\n",
    "$n = $ number of nodes in the tree  \n",
    "$h = $ height of tree is going to be, $h=\\log_2{n}$  \n",
    "$2^h = n$  "
   ]
  },
  {
   "cell_type": "markdown",
   "metadata": {},
   "source": [
    "# AVL Tree, Adelson-Velskii, Landis, cf. 6.15. Balanced Binary Search Trees  \n",
    "automatically makes sure tree remains balanced.  \n",
    "\n",
    "For each node, \n",
    "$$\n",
    "\\text{balanceFactor} = \\text{height}(\\text{leftSubTree}) - \\text{height}(\\text{rightSubTree})  = h(\\text{leftSubTree}) - h(\\text{rightSubTree})\n",
    "$$  \n",
    "\n",
    "For purposes of implementing an AVL tree, and gaining the benefit of having a balanced tree, we'll define a tree to be in balance if the balance factor is $-1,0,1$.  \n",
    "\n"
   ]
  },
  {
   "cell_type": "code",
   "execution_count": 85,
   "metadata": {
    "collapsed": false
   },
   "outputs": [],
   "source": [
    "from bst import BinarySearchTree, TreeNode"
   ]
  },
  {
   "cell_type": "code",
   "execution_count": 86,
   "metadata": {
    "collapsed": true
   },
   "outputs": [],
   "source": [
    "class AVLTree(BinarySearchTree):\n",
    "    \"\"\"\n",
    "    @brief Implement a binary search tree with the following interface\n",
    "    @details functions:\n",
    "                __contains__(y) <==> y in x\n",
    "                __getitem__(y) <==> x[y]\n",
    "                __init__()\n",
    "                __len__() <==> len(x)\n",
    "                __setitem__(k,v) <==> x[k] = v\n",
    "                clear()\n",
    "                get(k)\n",
    "                has_key(k)\n",
    "                items()\n",
    "                keys()\n",
    "                values()\n",
    "                put(k,v)\n",
    "    \"\"\"\n",
    "    def _put(self,key,val,currentNode):\n",
    "        if key < currentNode.key:\n",
    "            if currentNode.hasLeftChild():\n",
    "                self._put(key,val,currentNode.leftChild)\n",
    "            else: # current Node doesn't have a left child\n",
    "                currentNode.leftChild = TreeNode(key,val,parent=currentNode)\n",
    "                self.updateBalance(currentNode.leftChild)\n",
    "        else:\n",
    "            if currentNode.hasRightChild():\n",
    "                self._put(key,val,currentNode.rightChild)\n",
    "            else:\n",
    "                currentNode.rightChild = TreeNode(key,val,parent=currentNode)\n",
    "                self.updateBalance(currentNode.rightChild)\n",
    "    \n",
    "    def updateBalance(self,node):\n",
    "        if node.balanceFactor > 1 or node.balanceFactor < -1:\n",
    "            self.rebalance(node)\n",
    "            return\n",
    "        if node.parent != None:\n",
    "            if node.isLeftChild():\n",
    "                node.parent.balanceFactor += 1 \n",
    "            elif node.isRightChild():\n",
    "                node.parent.balanceFactor -= 1\n",
    "                \n",
    "            if node.parent.balanceFactor != 0: # then algorithm continues to work its way up tree toward root\n",
    "                self.updateBalance(node.parent)\n",
    "                \n",
    "    def rebalance(self,node):\n",
    "        if node.balanceFactor <0:\n",
    "            if node.rightChild.balanceFactor >0:\n",
    "                # Do an LR Rotation\n",
    "                self.rotateRight(node.rightChild)\n",
    "                self.rotateLeft(node)\n",
    "            else:\n",
    "                # single left\n",
    "                self.rotateLeft(node)\n",
    "        elif node.balanceFactor > 0:\n",
    "            if node.leftChild.balanceFactor <0:\n",
    "                # Do a RL Rotation\n",
    "                self.rotateLeft(node.leftChild)\n",
    "                self.rotateRight(node)\n",
    "            else:\n",
    "                # single right\n",
    "                self.rotateRight(node)\n",
    "    \n",
    "    def rotateLeft(self,rotRoot): # left rotation around the subtree rooted at rotRoot\n",
    "        \"\"\" @fn rotateLeft\n",
    "            @brief left rotation around subtree rooted at rotRoot \n",
    "        \"\"\" \n",
    "        newRoot = rotRoot.rightChild # promote right child to be root of the subtree\n",
    "        rotRoot.rightChild = newRoot.leftChild  # replace right child of old root with left child of new \n",
    "        # next step is to adjust the parent pointers of the 2 nodes\n",
    "        if newRoot.leftChild != None: # if new root B already had left child, then make it right child of new left child A\n",
    "            newRoot.leftChild.parent = rotRoot\n",
    "        newRoot.parent = rotRoot.parent \n",
    "        if rotRoot.isRoot():\n",
    "            self.root = newRoot\n",
    "        else:\n",
    "            if rotRoot.isLeftChild():\n",
    "                rotRoot.parent.leftChild = newRoot\n",
    "            else:\n",
    "                rotRoot.parent.rightChild = newRoot\n",
    "        newRoot.leftChild = rotRoot # move old root to be leftchild of new root\n",
    "        rotRoot.parent = newRoot\n",
    "        rotRoot.balanceFactor = rotRoot.balanceFactor + 1 - min(newRoot.balanceFactor,0)\n",
    "        newRoot.balanceFactor = newRoot.balanceFactor + 1 - max(rotRoot.balanceFactor, 0)\n",
    "        \n",
    "    def rotateRight(self,rotRoot):\n",
    "        newRoot = rotRoot.leftChild # promote left child of rotRoot to be root of the subtree\n",
    "        rotRoot.leftChild = newRoot.rightChild # replace left child of old root with right child of new \n",
    "        # next step is to adjust the parent pointers of the 2 nodes \n",
    "        if newRoot.rightChild != None: # then make it the left child of new right child \n",
    "            newRoot.rightChild.parent = rotRoot\n",
    "        newRoot.parent = rotRoot.parent\n",
    "        if rotRoot.isRoot():\n",
    "            self.root = newRoot\n",
    "        else:\n",
    "            if rotRoot.isRightChild():\n",
    "                rotRoot.parent.rightChild = newRoot\n",
    "            else:\n",
    "                rotRoot.parent.leftChild = newRoot\n",
    "        newRoot.rightChild = rotRoot # move old root to be right child of new root \n",
    "        rotRoot.parent = newRoot\n",
    "        rotRoot.balanceFactor = rotRoot.balanceFactor - 1 - max(newRoot.balanceFactor,0) # \n",
    "        newRoot.balanceFactor = newRoot.balanceFactor - 1 + min(rotRoot.balanceFactor,0)\n",
    "        \n",
    "        "
   ]
  },
  {
   "cell_type": "code",
   "execution_count": 1,
   "metadata": {
    "collapsed": false
   },
   "outputs": [
    {
     "name": "stdout",
     "output_type": "stream",
     "text": [
      "/home/topolo/PropD/CompPhys/crack\n",
      "['crack.ipynb', '.ipynb_checkpoints', 'TreesGraphs.ipynb', 'recursion.py', 'BigO.ipynb', 'trees_arbres', 'DataStruct.ipynb']\n"
     ]
    }
   ],
   "source": [
    "import os, sys\n",
    "print( os.getcwd() )\n",
    "print(os.listdir( os.getcwd() ))"
   ]
  },
  {
   "cell_type": "markdown",
   "metadata": {},
   "source": [
    "# Binary Tree \n",
    "\n",
    "cf. [Binary Tree | Set 1 (Introduction)](http://www.geeksforgeeks.org/binary-tree-set-1-introduction/)"
   ]
  },
  {
   "cell_type": "code",
   "execution_count": 2,
   "metadata": {
    "collapsed": true
   },
   "outputs": [],
   "source": [
    "sys.path.insert(0, os.getcwd() + '/trees_arbres/')\n",
    "from binaryTree import binaryTree"
   ]
  },
  {
   "cell_type": "code",
   "execution_count": 3,
   "metadata": {
    "collapsed": true
   },
   "outputs": [],
   "source": [
    "root = binaryTree(1)\n",
    "root.insertl(2)\n",
    "root.insertr(3)\n",
    "root.insertl(4)\n",
    "root.l.insertr(5)"
   ]
  },
  {
   "cell_type": "code",
   "execution_count": 4,
   "metadata": {
    "collapsed": false
   },
   "outputs": [
    {
     "name": "stdout",
     "output_type": "stream",
     "text": [
      "2\n",
      "4\n",
      "5\n",
      "1\n",
      "3\n"
     ]
    }
   ],
   "source": [
    "root.inorder()"
   ]
  },
  {
   "cell_type": "code",
   "execution_count": 5,
   "metadata": {
    "collapsed": false
   },
   "outputs": [
    {
     "name": "stdout",
     "output_type": "stream",
     "text": [
      "1\n",
      "2\n",
      "4\n",
      "5\n",
      "3\n"
     ]
    }
   ],
   "source": [
    "root.preorder()"
   ]
  },
  {
   "cell_type": "code",
   "execution_count": 6,
   "metadata": {
    "collapsed": false
   },
   "outputs": [
    {
     "name": "stdout",
     "output_type": "stream",
     "text": [
      "2\n",
      "4\n",
      "5\n",
      "3\n",
      "1\n"
     ]
    }
   ],
   "source": [
    "root.postorder()"
   ]
  },
  {
   "cell_type": "code",
   "execution_count": 7,
   "metadata": {
    "collapsed": false
   },
   "outputs": [
    {
     "name": "stdout",
     "output_type": "stream",
     "text": [
      "4\n",
      "2\n",
      "5\n",
      "1\n",
      "3\n",
      "1\n",
      "4\n",
      "2\n",
      "5\n",
      "3\n",
      "4\n",
      "2\n",
      "5\n",
      "3\n",
      "1\n"
     ]
    }
   ],
   "source": [
    "root=binaryTree(1)\n",
    "root.insertl(2)\n",
    "root.insertr(3)\n",
    "root.l.insertl(4)\n",
    "root.l.insertr(5)\n",
    "root.inorder()\n",
    "root.preorder()\n",
    "root.postorder()"
   ]
  },
  {
   "cell_type": "code",
   "execution_count": 8,
   "metadata": {
    "collapsed": false
   },
   "outputs": [
    {
     "name": "stdout",
     "output_type": "stream",
     "text": [
      "4\n",
      "2\n",
      "5\n",
      "1\n",
      "3\n",
      "1\n",
      "4\n",
      "2\n",
      "5\n",
      "3\n",
      "4\n",
      "2\n",
      "5\n",
      "3\n",
      "1\n"
     ]
    }
   ],
   "source": [
    "root=binaryTree(1)\n",
    "root.l=binaryTree(2)\n",
    "root.r=binaryTree(3)\n",
    "root.l.l=binaryTree(4)\n",
    "root.l.r =binaryTree(5)\n",
    "root.inorder()\n",
    "root.preorder()\n",
    "root.postorder()"
   ]
  },
  {
   "cell_type": "markdown",
   "metadata": {},
   "source": [
    "### Time Complexity of Binary Search , O(n)\n",
    "\n",
    "$O(n)$  \n",
    "\n",
    "Complexity function $T(n)$ - for all problem where tree traversal is involved, can be defined as:  \n",
    "$T(n) = T(k) + T(n-k+1) + c$  \n",
    "where $k$ is number of nodes on 1 side of root, and $n-k-1$ on the other side  \n",
    "\n",
    "Auxiliary Space: If we don't consider size of stack for function calls, then $O(1)$, otherwise $O(n)$.  "
   ]
  },
  {
   "cell_type": "code",
   "execution_count": null,
   "metadata": {
    "collapsed": true
   },
   "outputs": [],
   "source": []
  }
 ],
 "metadata": {
  "kernelspec": {
   "display_name": "Python 2",
   "language": "python",
   "name": "python2"
  },
  "language_info": {
   "codemirror_mode": {
    "name": "ipython",
    "version": 2
   },
   "file_extension": ".py",
   "mimetype": "text/x-python",
   "name": "python",
   "nbconvert_exporter": "python",
   "pygments_lexer": "ipython2",
   "version": "2.7.11"
  }
 },
 "nbformat": 4,
 "nbformat_minor": 0
}
