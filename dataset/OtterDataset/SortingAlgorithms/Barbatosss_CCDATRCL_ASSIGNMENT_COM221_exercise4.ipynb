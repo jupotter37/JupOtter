{
  "cells": [
    {
      "cell_type": "markdown",
      "metadata": {
        "id": "view-in-github",
        "colab_type": "text"
      },
      "source": [
        "<a href=\"https://colab.research.google.com/github/Barbatosss/CCDATRCL_ASSIGNMENT_COM221/blob/main/exercise4.ipynb\" target=\"_parent\"><img src=\"https://colab.research.google.com/assets/colab-badge.svg\" alt=\"Open In Colab\"/></a>"
      ]
    },
    {
      "cell_type": "markdown",
      "metadata": {
        "id": "fCO3VeNzvGDc"
      },
      "source": [
        "# Exercise 4"
      ]
    },
    {
      "cell_type": "markdown",
      "metadata": {
        "id": "UCFGr2qPKONg"
      },
      "source": [
        "#### Pre-defined sorting algorithms"
      ]
    },
    {
      "cell_type": "code",
      "execution_count": 154,
      "metadata": {
        "id": "dXWXOLWtKONg"
      },
      "outputs": [],
      "source": [
        "def mergeSort(array):\n",
        "    steps = 0\n",
        "    if len(array) > 1:\n",
        "\n",
        "      #  r is the point where the array is divided into two subarrays\n",
        "      r = len(array)//2\n",
        "      L = array[:r]\n",
        "      M = array[r:]\n",
        "      steps += 1\n",
        "\n",
        "      # Sort the two halves\n",
        "      steps += mergeSort(L)\n",
        "      steps += mergeSort(M)\n",
        "\n",
        "      i = j = k = 0\n",
        "\n",
        "      # Until we reach either end of either L or M, pick larger among\n",
        "      # elements L and M and place them in the correct position at A[p..r]\n",
        "      while i < len(L) and j < len(M):\n",
        "        steps += 1\n",
        "        if L[i] < M[j]:\n",
        "          array[k] = L[i]\n",
        "          i += 1\n",
        "        else:\n",
        "          array[k] = M[j]\n",
        "          j += 1\n",
        "        k += 1\n",
        "\n",
        "      # When we run out of elements in either L or M,\n",
        "      # pick up the remaining elements and put in A[p..r]\n",
        "      while i < len(L):\n",
        "          steps += 1\n",
        "          array[k] = L[i]\n",
        "          i += 1\n",
        "          k += 1\n",
        "      while j < len(M):\n",
        "          steps += 1\n",
        "          array[k] = M[j]\n",
        "          j += 1\n",
        "          k += 1\n",
        "\n",
        "    return steps\n",
        "\n",
        "# Print the array\n",
        "def printList(array):\n",
        "    for i in range(len(array)):\n",
        "        print(array[i], end=\" \")\n",
        "    print()"
      ]
    },
    {
      "cell_type": "code",
      "execution_count": 155,
      "metadata": {
        "id": "OB-JMVxvKONi"
      },
      "outputs": [],
      "source": [
        "def countingSort(array):\n",
        "    size = len(array)\n",
        "    output = [0] * size\n",
        "\n",
        "    # Initialize count array\n",
        "    count = [0] * 10\n",
        "\n",
        "    # Store the count of each elements in count array\n",
        "    for i in range(0, size):\n",
        "        count[array[i]] += 1\n",
        "\n",
        "    # Store the cummulative count\n",
        "    for i in range(1, 10):\n",
        "        count[i] += count[i - 1]\n",
        "\n",
        "    # Find the index of each element of the original array in count array\n",
        "    # place the elements in output array\n",
        "    i = size - 1\n",
        "    while i >= 0:\n",
        "        output[count[array[i]] - 1] = array[i]\n",
        "        count[array[i]] -= 1\n",
        "        i -= 1\n",
        "\n",
        "    # Copy the sorted elements into original array\n",
        "    for i in range(0, size):\n",
        "        array[i] = output[i]"
      ]
    },
    {
      "cell_type": "code",
      "execution_count": 156,
      "metadata": {
        "id": "VXaukk4_KONj"
      },
      "outputs": [],
      "source": [
        "def insertionSort(array):\n",
        "  swaps = 0\n",
        "  for step in range(1, len(array)):\n",
        "      key = array[step]\n",
        "      j = step - 1\n",
        "\n",
        "      # Compare key with each element on the left of it until an element smaller than it is found\n",
        "      # For descending order, change key<array[j] to key>array[j].\n",
        "      while j >= 0 and key < array[j]:\n",
        "          array[j + 1] = array[j]\n",
        "          j = j - 1\n",
        "          swaps += 1\n",
        "\n",
        "      # Place key at after the element just smaller than it.\n",
        "      array[j + 1] = key\n",
        "  return swaps"
      ]
    },
    {
      "cell_type": "code",
      "execution_count": 157,
      "metadata": {
        "id": "b4yWHH1nKONj"
      },
      "outputs": [],
      "source": [
        "# Bubble sort in Python\n",
        "def bubbleSort(array):\n",
        "  counter = 0\n",
        "  # loop to access each array element\n",
        "  for i in range(len(array)):\n",
        "\n",
        "    # loop to compare array elements\n",
        "    for j in range(0, len(array) - i - 1):\n",
        "\n",
        "      # compare two adjacent elements\n",
        "      # change > to < to sort in descending order\n",
        "      if array[j] > array[j + 1]:\n",
        "\n",
        "        # swapping elements if elements\n",
        "        # are not in the intended order\n",
        "        temp = array[j]\n",
        "        array[j] = array[j+1]\n",
        "        array[j+1] = temp\n",
        "        counter += 1\n",
        "  return counter"
      ]
    },
    {
      "cell_type": "markdown",
      "metadata": {
        "id": "6j9PZVsyvGDe"
      },
      "source": [
        "#### 1. Sort your **student number** in **ascending order**\n",
        "\n",
        "Example:\n",
        "\n",
        "**Input: 2022123456**\n",
        "\n",
        "**Output: 0122223456**"
      ]
    },
    {
      "cell_type": "code",
      "execution_count": 158,
      "metadata": {
        "id": "UuNMRCm3vGDe",
        "colab": {
          "base_uri": "https://localhost:8080/"
        },
        "outputId": "0558ed81-46f6-4700-b8d0-e9f19019d005"
      },
      "outputs": [
        {
          "output_type": "stream",
          "name": "stdout",
          "text": [
            "[0, 0, 0, 0, 1, 2, 2, 2, 3, 3]\n"
          ]
        }
      ],
      "source": [
        "id = [2,0,2,2,1,0,3,3,0,0]\n",
        "countingSort(id)\n",
        "print(id)"
      ]
    },
    {
      "cell_type": "markdown",
      "metadata": {
        "id": "felukBjnvGDf"
      },
      "source": [
        "#### 2. Sort the **dates** in **ascending order**.\n",
        "\n",
        "dates = [\"12-25-2023\", birthday, \"01-01-2023\"]\n",
        "\n",
        "Enter your birthday in the birthday variable."
      ]
    },
    {
      "cell_type": "code",
      "execution_count": 159,
      "metadata": {
        "id": "f8xQ3N0jvGDg",
        "colab": {
          "base_uri": "https://localhost:8080/"
        },
        "outputId": "661a7758-05dd-4895-a3bf-3246c50a9ebd"
      },
      "outputs": [
        {
          "output_type": "stream",
          "name": "stdout",
          "text": [
            "['12-25-2023', '09-17-2004', '01-01-2023']\n",
            "updated dates:  ['09-17-2004', '01-01-2023', '12-25-2023']\n"
          ]
        }
      ],
      "source": [
        "birthday = \"09-17-2004\"\n",
        "dates = [\"12-25-2023\", birthday, \"01-01-2023\"]\n",
        "\n",
        "print(dates)\n",
        "\n",
        "def date_arrange(date_str):\n",
        "    from datetime import datetime\n",
        "    return datetime.strptime(date_str, \"%m-%d-%Y\")\n",
        "\n",
        "date_update = [date_arrange(date) for date in dates]\n",
        "\n",
        "bubbleSort(date_update)\n",
        "date_sorted = [date.strftime(\"%m-%d-%Y\") for date in date_update]\n",
        "\n",
        "print(\"updated dates: \", date_sorted)"
      ]
    },
    {
      "cell_type": "markdown",
      "metadata": {
        "id": "IFDPeGZxvGDg"
      },
      "source": [
        "#### 3. Count the **total number of swaps** to sort the list below using **Bubble Sort**\n",
        "\n",
        "|3|2|5|1|4|\n",
        "|---|----|---|---|---|"
      ]
    },
    {
      "cell_type": "code",
      "execution_count": 160,
      "metadata": {
        "id": "b1ppwLcevGDg",
        "outputId": "0d690f9f-f193-44f2-8a58-f36764266423",
        "colab": {
          "base_uri": "https://localhost:8080/"
        }
      },
      "outputs": [
        {
          "output_type": "stream",
          "name": "stdout",
          "text": [
            "5\n"
          ]
        }
      ],
      "source": [
        "bubbles = [3, 2, 5, 1, 4]\n",
        "\n",
        "totalswaps = bubbleSort(bubbles)\n",
        "print(totalswaps)"
      ]
    },
    {
      "cell_type": "markdown",
      "metadata": {
        "id": "iO2UusQWvGDi"
      },
      "source": [
        "#### 4. Count the **total number of steps** to sort the list below using **Insertion Sort**\n",
        "\n",
        "\n",
        "|6|2|5|7|4|1|8|9|3|\n",
        "|---|---|---|---|---|---|---|---|---|"
      ]
    },
    {
      "cell_type": "code",
      "execution_count": 161,
      "metadata": {
        "id": "vq1PYEjmvGDi",
        "outputId": "f10114b7-3180-4e5e-e238-1a486c00274a",
        "colab": {
          "base_uri": "https://localhost:8080/"
        }
      },
      "outputs": [
        {
          "output_type": "stream",
          "name": "stdout",
          "text": [
            "16\n"
          ]
        }
      ],
      "source": [
        "insertion = [6, 2, 5, 7, 4, 1, 8, 9, 3]\n",
        "\n",
        "numberofsteps = insertionSort(insertion)\n",
        "print(numberofsteps)"
      ]
    },
    {
      "cell_type": "markdown",
      "metadata": {
        "id": "jpfNCCdbvGDj"
      },
      "source": [
        "#### 5. Given the list below:\n",
        "\n",
        "\n",
        "|7|5|4|3|2|5|1|8|\n",
        "|---|---|---|---|---|---|---|---|\n",
        "\n",
        "Using **merge sort** and **counting sort**\n",
        "\n",
        "Determine which sorting algorithm is faster by counting the total number of steps for each algorithm\n"
      ]
    },
    {
      "cell_type": "code",
      "execution_count": 162,
      "metadata": {
        "id": "2YVK17cSvGDj",
        "outputId": "a3066d99-e27f-4118-e05b-d3fc69af9f6a",
        "colab": {
          "base_uri": "https://localhost:8080/"
        }
      },
      "outputs": [
        {
          "output_type": "stream",
          "name": "stdout",
          "text": [
            "Merge sort steps: 31\n",
            "Counting sort steps: 24\n",
            "Counting sort is faster\n"
          ]
        }
      ],
      "source": [
        "def countingSort(array):\n",
        "    steps = 0\n",
        "    size = len(array)\n",
        "    output = [0] * size\n",
        "\n",
        "    count = [0] * 9\n",
        "\n",
        "    for i in range(0, size):\n",
        "        count[array[i]] += 1\n",
        "        steps += 1\n",
        "\n",
        "    for i in range(1, 9):\n",
        "        count[i] += count[i - 1]\n",
        "        steps += 1\n",
        "\n",
        "    i = size - 1\n",
        "    while i >= 0:\n",
        "        output[count[array[i]] - 1] = array[i]\n",
        "        count[array[i]] -= 1\n",
        "        i -= 1\n",
        "        steps += 1\n",
        "\n",
        "    # Copy the sorted elements into original array\n",
        "    for i in range(0, size):\n",
        "        array[i] = output[i]\n",
        "\n",
        "    return steps\n",
        "fast = [7, 5, 4, 3, 2, 5, 1, 8]\n",
        "merge_steps = mergeSort(fast)\n",
        "counting_steps = countingSort(fast)\n",
        "\n",
        "print('Merge sort steps:', merge_steps)\n",
        "print('Counting sort steps:', counting_steps)\n",
        "\n",
        "if merge_steps < counting_steps:\n",
        "    print(\"Merge sort is faster\")\n",
        "else:\n",
        "    print(\"Counting sort is faster\")"
      ]
    }
  ],
  "metadata": {
    "colab": {
      "provenance": [],
      "include_colab_link": true
    },
    "kernelspec": {
      "display_name": "Python 3",
      "language": "python",
      "name": "python3"
    },
    "language_info": {
      "codemirror_mode": {
        "name": "ipython",
        "version": 3
      },
      "file_extension": ".py",
      "mimetype": "text/x-python",
      "name": "python",
      "nbconvert_exporter": "python",
      "pygments_lexer": "ipython3",
      "version": "3.11.4"
    },
    "orig_nbformat": 4
  },
  "nbformat": 4,
  "nbformat_minor": 0
}