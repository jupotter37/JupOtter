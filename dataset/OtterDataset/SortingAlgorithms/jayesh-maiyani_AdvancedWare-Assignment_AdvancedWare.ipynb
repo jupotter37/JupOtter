{
 "cells": [
  {
   "cell_type": "markdown",
   "id": "7dd02b9d",
   "metadata": {},
   "source": [
    "### 1. Write a program to GET random data of an user and write it in a File named users.csv. Each GET request must have an interval time of 1 second and append the information in a comma separated format. You can use any open source mock rest api endpoints available on the internet or use Random Data API\n",
    "\n",
    "(https://random-data-api.com/documentation). [2 marks]\n",
    "\n",
    "#### Ex. Dataset in File (with comma separation)\n"
   ]
  },
  {
   "cell_type": "code",
   "execution_count": 1,
   "id": "83ca4dc7",
   "metadata": {},
   "outputs": [],
   "source": [
    "import requests\n",
    "import time\n",
    "import csv\n",
    "import pandas as pd"
   ]
  },
  {
   "cell_type": "code",
   "execution_count": 6,
   "id": "fa68f258",
   "metadata": {},
   "outputs": [],
   "source": [
    "def generate_random_user_data(num_users, interval):\n",
    "    url = \"https://random-data-api.com/api/v2/users?limit=1\"\n",
    "    with open(\"users.csv\", \"a\") as f:\n",
    "        writer = csv.writer(f)\n",
    "        writer.writerow([\"id\", \"username\", \"first_name\", \"last_name\", \"email\", \"gender\", \"phone_number\"])\n",
    "        for i in range(num_users):\n",
    "            response = requests.get(url)\n",
    "            data = response.json()\n",
    "            row = [data[\"id\"], data[\"username\"], data[\"first_name\"], data[\"last_name\"], data[\"email\"], data[\"gender\"], data[\"phone_number\"]]\n",
    "            writer.writerow(row)\n",
    "            time.sleep(interval)"
   ]
  },
  {
   "cell_type": "code",
   "execution_count": 7,
   "id": "e4ac1a98",
   "metadata": {},
   "outputs": [
    {
     "name": "stdout",
     "output_type": "stream",
     "text": [
      "Enter Number of random users : 20\n",
      "Enter interval time between two user requests in seconds : 1\n"
     ]
    }
   ],
   "source": [
    "num_users = int(input(\"Enter Number of random users : \"))\n",
    "interval = int(input(\"Enter interval time between two user requests in seconds : \"))\n",
    "generate_random_user_data(num_users, interval)"
   ]
  },
  {
   "cell_type": "markdown",
   "id": "770c059e",
   "metadata": {},
   "source": [
    "### A. Write a program to read users.csv and create users-sorted.csv by applying sorting algorithm on firstName / Name / Username (Field of your choice based on your dataset) \n",
    "\n",
    "[4 marks]"
   ]
  },
  {
   "cell_type": "code",
   "execution_count": 8,
   "id": "bffe9cc8",
   "metadata": {},
   "outputs": [],
   "source": [
    "def sort_csv(file_path, sort_field):\n",
    "    df = pd.read_csv(file_path)\n",
    "    df = df.sort_values(by=[sort_field])\n",
    "    df.to_csv(\"users-sorted.csv\", index=False)"
   ]
  },
  {
   "cell_type": "code",
   "execution_count": 9,
   "id": "a9f70526",
   "metadata": {},
   "outputs": [],
   "source": [
    "sort_csv(\"users.csv\", \"first_name\")"
   ]
  },
  {
   "cell_type": "markdown",
   "id": "a3e3c3c9",
   "metadata": {},
   "source": [
    "### B. Write a program to Input Id or Username of an user and return the details of that user in the output of the program \n",
    "\n",
    "[4 marks]"
   ]
  },
  {
   "cell_type": "code",
   "execution_count": 10,
   "id": "8ae2dd4a",
   "metadata": {},
   "outputs": [],
   "source": [
    "def get_user_details(user_id_or_username):\n",
    "    df = pd.read_csv(\"users-sorted.csv\")\n",
    "    user = df[(df[\"id\"] == user_id_or_username) | (df[\"username\"] == user_id_or_username)]\n",
    "    return user.to_dict(orient=\"records\")[0]"
   ]
  },
  {
   "cell_type": "code",
   "execution_count": 11,
   "id": "c3da40ac",
   "metadata": {},
   "outputs": [
    {
     "name": "stdout",
     "output_type": "stream",
     "text": [
      "Enter the User id or Username:4848\n",
      "{'id': '4848', 'username': 'rodrigo.reilly', 'first_name': 'Rodrigo', 'last_name': 'Reilly', 'email': 'rodrigo.reilly@email.com', 'gender': 'Non-binary', 'phone_number': '+973 379-437-2512 x9135'}\n"
     ]
    }
   ],
   "source": [
    "user_id_or_username = input(\"Enter the User id or Username:\")\n",
    "user_details = get_user_details(user_id_or_username)\n",
    "print(user_details)"
   ]
  },
  {
   "cell_type": "code",
   "execution_count": 12,
   "id": "48f07b8b",
   "metadata": {},
   "outputs": [
    {
     "name": "stdout",
     "output_type": "stream",
     "text": [
      "Enter the User id or Username:rodrigo.reilly\n",
      "{'id': '4848', 'username': 'rodrigo.reilly', 'first_name': 'Rodrigo', 'last_name': 'Reilly', 'email': 'rodrigo.reilly@email.com', 'gender': 'Non-binary', 'phone_number': '+973 379-437-2512 x9135'}\n"
     ]
    }
   ],
   "source": [
    "user_id_or_username = input(\"Enter the User id or Username:\")\n",
    "user_details = get_user_details(user_id_or_username)\n",
    "print(user_details)"
   ]
  }
 ],
 "metadata": {
  "kernelspec": {
   "display_name": "Python 3",
   "language": "python",
   "name": "python3"
  },
  "language_info": {
   "codemirror_mode": {
    "name": "ipython",
    "version": 3
   },
   "file_extension": ".py",
   "mimetype": "text/x-python",
   "name": "python",
   "nbconvert_exporter": "python",
   "pygments_lexer": "ipython3",
   "version": "3.8.8"
  },
  "latex_envs": {
   "LaTeX_envs_menu_present": true,
   "autoclose": false,
   "autocomplete": true,
   "bibliofile": "biblio.bib",
   "cite_by": "apalike",
   "current_citInitial": 1,
   "eqLabelWithNumbers": true,
   "eqNumInitial": 1,
   "hotkeys": {
    "equation": "Ctrl-E",
    "itemize": "Ctrl-I"
   },
   "labels_anchors": false,
   "latex_user_defs": false,
   "report_style_numbering": false,
   "user_envs_cfg": false
  }
 },
 "nbformat": 4,
 "nbformat_minor": 5
}
