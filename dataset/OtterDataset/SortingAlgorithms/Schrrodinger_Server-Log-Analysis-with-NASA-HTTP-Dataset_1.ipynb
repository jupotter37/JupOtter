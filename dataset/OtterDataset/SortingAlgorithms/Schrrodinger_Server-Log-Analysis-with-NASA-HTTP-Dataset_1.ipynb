{
 "cells": [
  {
   "cell_type": "code",
   "execution_count": 1,
   "id": "34beac81",
   "metadata": {
    "is_executing": true
   },
   "outputs": [
    {
     "name": "stdout",
     "output_type": "stream",
     "text": [
      "Defaulting to user installation because normal site-packages is not writeable\n",
      "Requirement already satisfied: pyspark in c:\\users\\lethi\\appdata\\roaming\\python\\python39\\site-packages (3.5.3)\n",
      "Requirement already satisfied: py4j==0.10.9.7 in c:\\users\\lethi\\appdata\\roaming\\python\\python39\\site-packages (from pyspark) (0.10.9.7)\n",
      "Note: you may need to restart the kernel to use updated packages.\n"
     ]
    }
   ],
   "source": [
    "pip install pyspark"
   ]
  },
  {
   "cell_type": "code",
   "execution_count": 45,
   "id": "12e667a1f69643f0",
   "metadata": {
    "collapsed": false,
    "is_executing": true
   },
   "outputs": [],
   "source": [
    "import pandas as pd\n",
    "import os\n",
    "import re\n",
    "import sys\n",
    "from pyspark.sql import SparkSession\n",
    "import gzip\n",
    "\n",
    "os.environ['PYSPARK_PYTHON'] = sys.executable\n",
    "os.environ['PYSPARK_DRIVER_PYTHON'] = sys.executable"
   ]
  },
  {
   "cell_type": "markdown",
   "id": "63f326ee32fcb46b",
   "metadata": {
    "collapsed": false
   },
   "source": [
    "<h1>Loading and Viewing the NASA Log Dataset</h1>"
   ]
  },
  {
   "cell_type": "code",
   "execution_count": 46,
   "id": "5120ffe7d1cb1031",
   "metadata": {
    "ExecuteTime": {
     "end_time": "2024-10-17T07:18:00.588383800Z",
     "start_time": "2024-10-17T04:11:52.048541Z"
    },
    "collapsed": false
   },
   "outputs": [],
   "source": [
    "spark = SparkSession.builder \\\n",
    "    .appName(\"MyApp\") \\\n",
    "    .getOrCreate()\n",
    "\n",
    "sc = spark.sparkContext"
   ]
  },
  {
   "cell_type": "code",
   "execution_count": 47,
   "id": "4199b038",
   "metadata": {
    "ExecuteTime": {
     "end_time": "2024-10-17T07:18:00.588383800Z",
     "start_time": "2024-10-17T04:11:52.154534Z"
    }
   },
   "outputs": [],
   "source": [
    "def combine_log_files(file1, file2, output_file):\n",
    "    with open(output_file, 'wb') as outfile:\n",
    "        for filename in [file1, file2]:\n",
    "            with open(filename, 'rb') as infile:\n",
    "                outfile.write(infile.read())"
   ]
  },
  {
   "cell_type": "code",
   "execution_count": 48,
   "id": "847c60ad",
   "metadata": {
    "ExecuteTime": {
     "end_time": "2024-10-17T07:18:00.588383800Z",
     "start_time": "2024-10-17T04:11:52.187001Z"
    }
   },
   "outputs": [
    {
     "name": "stdout",
     "output_type": "stream",
     "text": [
      "Files access_log_Jul95.txt and access_log_Aug95.txt have been combined into access_log_JulAug_95.txt\n"
     ]
    }
   ],
   "source": [
    "# File names with .txt extension\n",
    "july_log = \"access_log_Jul95.txt\"\n",
    "august_log = \"access_log_Aug95.txt\"\n",
    "combined_log = \"access_log_JulAug_95.txt\"\n",
    "\n",
    "# Combine the files\n",
    "combine_log_files(july_log, august_log, combined_log)\n",
    "\n",
    "print(f\"Files {july_log} and {august_log} have been combined into {combined_log}\")"
   ]
  },
  {
   "cell_type": "code",
   "execution_count": 49,
   "id": "63daa3381e32d3ff",
   "metadata": {
    "ExecuteTime": {
     "end_time": "2024-10-17T07:18:00.588383800Z",
     "start_time": "2024-10-17T04:11:53.111726Z"
    },
    "collapsed": false
   },
   "outputs": [
    {
     "name": "stdout",
     "output_type": "stream",
     "text": [
      "access_log_JulAug_95.txt\n"
     ]
    }
   ],
   "source": [
    "import glob\n",
    "\n",
    "raw_data_file = 'access_log_JulAug_95.txt'\n",
    "\n",
    "print(raw_data_file)"
   ]
  },
  {
   "cell_type": "markdown",
   "id": "c5ce6f3bb7f788ea",
   "metadata": {
    "collapsed": false
   },
   "source": [
    "<h3>Taking a look at the metadata of our dataframe</h3>"
   ]
  },
  {
   "cell_type": "code",
   "execution_count": 50,
   "id": "424678a440ae2b5c",
   "metadata": {
    "ExecuteTime": {
     "end_time": "2024-10-17T07:18:00.638149300Z",
     "start_time": "2024-10-17T04:11:53.166007Z"
    },
    "collapsed": false
   },
   "outputs": [
    {
     "name": "stdout",
     "output_type": "stream",
     "text": [
      "root\n",
      " |-- value: string (nullable = true)\n",
      "\n"
     ]
    }
   ],
   "source": [
    "base_df = spark.read.text(\"access_log_JulAug_95.txt\")\n",
    "base_df.printSchema()"
   ]
  },
  {
   "cell_type": "code",
   "execution_count": 51,
   "id": "4c9d3b2789337243",
   "metadata": {
    "ExecuteTime": {
     "end_time": "2024-10-17T07:18:00.641656500Z",
     "start_time": "2024-10-17T04:11:53.542197Z"
    },
    "collapsed": false
   },
   "outputs": [
    {
     "data": {
      "text/plain": [
       "pyspark.sql.dataframe.DataFrame"
      ]
     },
     "execution_count": 51,
     "metadata": {},
     "output_type": "execute_result"
    }
   ],
   "source": [
    "type(base_df)"
   ]
  },
  {
   "cell_type": "markdown",
   "id": "d6aa127c04fed0ed",
   "metadata": {
    "collapsed": false
   },
   "source": [
    "*Below is the conversion of the DataFrame to an RDD.*"
   ]
  },
  {
   "cell_type": "code",
   "execution_count": 52,
   "id": "abd9f8a7496ed252",
   "metadata": {
    "ExecuteTime": {
     "end_time": "2024-10-17T07:18:00.641656500Z",
     "start_time": "2024-10-17T04:11:53.587843Z"
    },
    "collapsed": false
   },
   "outputs": [
    {
     "data": {
      "text/plain": [
       "pyspark.rdd.RDD"
      ]
     },
     "execution_count": 52,
     "metadata": {},
     "output_type": "execute_result"
    }
   ],
   "source": [
    "base_df_rdd = base_df.rdd\n",
    "type(base_df_rdd)"
   ]
  },
  {
   "cell_type": "markdown",
   "id": "e6fa88f81be5038b",
   "metadata": {
    "collapsed": false
   },
   "source": [
    "<h3>Viewing sample data in our dataframe</h3>"
   ]
  },
  {
   "cell_type": "code",
   "execution_count": 53,
   "id": "2b99e7c8417639e3",
   "metadata": {
    "ExecuteTime": {
     "end_time": "2024-10-17T07:18:00.641656500Z",
     "start_time": "2024-10-17T04:11:53.810052Z"
    },
    "collapsed": false
   },
   "outputs": [
    {
     "name": "stdout",
     "output_type": "stream",
     "text": [
      "+-----------------------------------------------------------------------------------------------------------------------+\n",
      "|value                                                                                                                  |\n",
      "+-----------------------------------------------------------------------------------------------------------------------+\n",
      "|199.72.81.55 - - [01/Jul/1995:00:00:01 -0400] \"GET /history/apollo/ HTTP/1.0\" 200 6245                                 |\n",
      "|unicomp6.unicomp.net - - [01/Jul/1995:00:00:06 -0400] \"GET /shuttle/countdown/ HTTP/1.0\" 200 3985                      |\n",
      "|199.120.110.21 - - [01/Jul/1995:00:00:09 -0400] \"GET /shuttle/missions/sts-73/mission-sts-73.html HTTP/1.0\" 200 4085   |\n",
      "|burger.letters.com - - [01/Jul/1995:00:00:11 -0400] \"GET /shuttle/countdown/liftoff.html HTTP/1.0\" 304 0               |\n",
      "|199.120.110.21 - - [01/Jul/1995:00:00:11 -0400] \"GET /shuttle/missions/sts-73/sts-73-patch-small.gif HTTP/1.0\" 200 4179|\n",
      "|burger.letters.com - - [01/Jul/1995:00:00:12 -0400] \"GET /images/NASA-logosmall.gif HTTP/1.0\" 304 0                    |\n",
      "|burger.letters.com - - [01/Jul/1995:00:00:12 -0400] \"GET /shuttle/countdown/video/livevideo.gif HTTP/1.0\" 200 0        |\n",
      "|205.212.115.106 - - [01/Jul/1995:00:00:12 -0400] \"GET /shuttle/countdown/countdown.html HTTP/1.0\" 200 3985             |\n",
      "|d104.aa.net - - [01/Jul/1995:00:00:13 -0400] \"GET /shuttle/countdown/ HTTP/1.0\" 200 3985                               |\n",
      "|129.94.144.152 - - [01/Jul/1995:00:00:13 -0400] \"GET / HTTP/1.0\" 200 7074                                              |\n",
      "+-----------------------------------------------------------------------------------------------------------------------+\n",
      "only showing top 10 rows\n",
      "\n"
     ]
    }
   ],
   "source": [
    "base_df.show(10, truncate=False)"
   ]
  },
  {
   "cell_type": "markdown",
   "id": "5db2e362db4345cd",
   "metadata": {
    "collapsed": false
   },
   "source": [
    "*It can be seen as above, our data needs to be wrangled and parsed*"
   ]
  },
  {
   "cell_type": "markdown",
   "id": "c3a6aeb31811971c",
   "metadata": {
    "collapsed": false
   },
   "source": [
    "*Accessing data from an RDD is somewhat different. The following RDD illustrates how the data representation varies.*"
   ]
  },
  {
   "cell_type": "code",
   "execution_count": 54,
   "id": "8821654a03be6746",
   "metadata": {
    "ExecuteTime": {
     "end_time": "2024-10-17T07:18:00.641656500Z",
     "start_time": "2024-10-17T04:11:54.122051Z"
    },
    "collapsed": false
   },
   "outputs": [
    {
     "data": {
      "text/plain": [
       "[Row(value='199.72.81.55 - - [01/Jul/1995:00:00:01 -0400] \"GET /history/apollo/ HTTP/1.0\" 200 6245'),\n",
       " Row(value='unicomp6.unicomp.net - - [01/Jul/1995:00:00:06 -0400] \"GET /shuttle/countdown/ HTTP/1.0\" 200 3985'),\n",
       " Row(value='199.120.110.21 - - [01/Jul/1995:00:00:09 -0400] \"GET /shuttle/missions/sts-73/mission-sts-73.html HTTP/1.0\" 200 4085'),\n",
       " Row(value='burger.letters.com - - [01/Jul/1995:00:00:11 -0400] \"GET /shuttle/countdown/liftoff.html HTTP/1.0\" 304 0'),\n",
       " Row(value='199.120.110.21 - - [01/Jul/1995:00:00:11 -0400] \"GET /shuttle/missions/sts-73/sts-73-patch-small.gif HTTP/1.0\" 200 4179'),\n",
       " Row(value='burger.letters.com - - [01/Jul/1995:00:00:12 -0400] \"GET /images/NASA-logosmall.gif HTTP/1.0\" 304 0'),\n",
       " Row(value='burger.letters.com - - [01/Jul/1995:00:00:12 -0400] \"GET /shuttle/countdown/video/livevideo.gif HTTP/1.0\" 200 0'),\n",
       " Row(value='205.212.115.106 - - [01/Jul/1995:00:00:12 -0400] \"GET /shuttle/countdown/countdown.html HTTP/1.0\" 200 3985'),\n",
       " Row(value='d104.aa.net - - [01/Jul/1995:00:00:13 -0400] \"GET /shuttle/countdown/ HTTP/1.0\" 200 3985'),\n",
       " Row(value='129.94.144.152 - - [01/Jul/1995:00:00:13 -0400] \"GET / HTTP/1.0\" 200 7074')]"
      ]
     },
     "execution_count": 54,
     "metadata": {},
     "output_type": "execute_result"
    }
   ],
   "source": [
    "base_df_sample = base_df.limit(10)\n",
    "base_df_sample.collect()"
   ]
  },
  {
   "cell_type": "markdown",
   "id": "b856ebbeb59a984f",
   "metadata": {
    "collapsed": false
   },
   "source": [
    "<h1>Data Wrangling</h1>"
   ]
  },
  {
   "cell_type": "markdown",
   "id": "fdb7dabe4ad320de",
   "metadata": {
    "collapsed": false
   },
   "source": [
    "<h3>Data Understanding</h3>"
   ]
  },
  {
   "cell_type": "markdown",
   "id": "2186b3df7c04047",
   "metadata": {
    "collapsed": false
   },
   "source": [
    "*The data shown above follows the <u>Common Log Format</u>.*"
   ]
  },
  {
   "cell_type": "markdown",
   "id": "549c227b9928a8b3",
   "metadata": {
    "collapsed": false
   },
   "source": [
    "*The fields are: <b>remotehost&nbsp;&nbsp;&nbsp;&nbsp;rfc931&nbsp;&nbsp;&nbsp;&nbsp;authuser&nbsp;&nbsp;&nbsp;&nbsp;[date]&nbsp;&nbsp;&nbsp;&nbsp;\"request\"&nbsp;&nbsp;&nbsp;&nbsp;status&nbsp;&nbsp;&nbsp;&nbsp;bytes</b>*\n"
   ]
  },
  {
   "cell_type": "markdown",
   "id": "e2484b9fc56b68da",
   "metadata": {
    "collapsed": false
   },
   "source": [
    "| Field      | Meaning                                                                                  |\n",
    "|------------|------------------------------------------------------------------------------------------|\n",
    "| remotehost | Remote hostname (or IP number if DNS hostname is not available or if DNSLookup is off). |\n",
    "| rfc931     | The remote logname of the user if at all it is present.                                 |\n",
    "| authuser   | The username of the remote user after authentication by the HTTP server.                |\n",
    "| [date]     | Date and time of the request.                                                           |\n",
    "| \"request\"  | The request, exactly as it came from the browser or client.                             |\n",
    "| status     | The HTTP status code the server sent back to the client.                                |\n",
    "| bytes      | The number of bytes (Content-Length) transferred to the client.                         |\n"
   ]
  },
  {
   "cell_type": "code",
   "execution_count": 55,
   "id": "1a8f0364982f06ba",
   "metadata": {
    "ExecuteTime": {
     "end_time": "2024-10-17T07:18:00.641656500Z",
     "start_time": "2024-10-17T04:11:54.255743Z"
    },
    "collapsed": false
   },
   "outputs": [
    {
     "name": "stdout",
     "output_type": "stream",
     "text": [
      "(3461612, 1)\n"
     ]
    }
   ],
   "source": [
    "print((base_df.count(), len(base_df.columns)))"
   ]
  },
  {
   "cell_type": "code",
   "execution_count": 56,
   "id": "dcebb8d8",
   "metadata": {
    "ExecuteTime": {
     "end_time": "2024-10-17T07:18:00.641656500Z",
     "start_time": "2024-10-17T04:11:54.966148Z"
    }
   },
   "outputs": [
    {
     "data": {
      "text/plain": [
       "['199.72.81.55 - - [01/Jul/1995:00:00:01 -0400] \"GET /history/apollo/ HTTP/1.0\" 200 6245',\n",
       " 'unicomp6.unicomp.net - - [01/Jul/1995:00:00:06 -0400] \"GET /shuttle/countdown/ HTTP/1.0\" 200 3985',\n",
       " '199.120.110.21 - - [01/Jul/1995:00:00:09 -0400] \"GET /shuttle/missions/sts-73/mission-sts-73.html HTTP/1.0\" 200 4085',\n",
       " 'burger.letters.com - - [01/Jul/1995:00:00:11 -0400] \"GET /shuttle/countdown/liftoff.html HTTP/1.0\" 304 0',\n",
       " '199.120.110.21 - - [01/Jul/1995:00:00:11 -0400] \"GET /shuttle/missions/sts-73/sts-73-patch-small.gif HTTP/1.0\" 200 4179',\n",
       " 'burger.letters.com - - [01/Jul/1995:00:00:12 -0400] \"GET /images/NASA-logosmall.gif HTTP/1.0\" 304 0',\n",
       " 'burger.letters.com - - [01/Jul/1995:00:00:12 -0400] \"GET /shuttle/countdown/video/livevideo.gif HTTP/1.0\" 200 0',\n",
       " '205.212.115.106 - - [01/Jul/1995:00:00:12 -0400] \"GET /shuttle/countdown/countdown.html HTTP/1.0\" 200 3985',\n",
       " 'd104.aa.net - - [01/Jul/1995:00:00:13 -0400] \"GET /shuttle/countdown/ HTTP/1.0\" 200 3985',\n",
       " '129.94.144.152 - - [01/Jul/1995:00:00:13 -0400] \"GET / HTTP/1.0\" 200 7074',\n",
       " 'unicomp6.unicomp.net - - [01/Jul/1995:00:00:14 -0400] \"GET /shuttle/countdown/count.gif HTTP/1.0\" 200 40310',\n",
       " 'unicomp6.unicomp.net - - [01/Jul/1995:00:00:14 -0400] \"GET /images/NASA-logosmall.gif HTTP/1.0\" 200 786',\n",
       " 'unicomp6.unicomp.net - - [01/Jul/1995:00:00:14 -0400] \"GET /images/KSC-logosmall.gif HTTP/1.0\" 200 1204',\n",
       " 'd104.aa.net - - [01/Jul/1995:00:00:15 -0400] \"GET /shuttle/countdown/count.gif HTTP/1.0\" 200 40310',\n",
       " 'd104.aa.net - - [01/Jul/1995:00:00:15 -0400] \"GET /images/NASA-logosmall.gif HTTP/1.0\" 200 786']"
      ]
     },
     "execution_count": 56,
     "metadata": {},
     "output_type": "execute_result"
    }
   ],
   "source": [
    "sample_logs = [item['value'] for item in base_df.take(15)]\n",
    "sample_logs"
   ]
  },
  {
   "cell_type": "markdown",
   "id": "41b381c0",
   "metadata": {},
   "source": [
    "### Extracting host names"
   ]
  },
  {
   "cell_type": "code",
   "execution_count": 57,
   "id": "1018dd7c",
   "metadata": {
    "ExecuteTime": {
     "end_time": "2024-10-17T07:18:00.641656500Z",
     "start_time": "2024-10-17T04:11:55.080232Z"
    }
   },
   "outputs": [
    {
     "data": {
      "text/plain": [
       "['199.72.81.55',\n",
       " 'unicomp6.unicomp.net',\n",
       " '199.120.110.21',\n",
       " 'burger.letters.com',\n",
       " '199.120.110.21',\n",
       " 'burger.letters.com',\n",
       " 'burger.letters.com',\n",
       " '205.212.115.106',\n",
       " 'd104.aa.net',\n",
       " '129.94.144.152',\n",
       " 'unicomp6.unicomp.net',\n",
       " 'unicomp6.unicomp.net',\n",
       " 'unicomp6.unicomp.net',\n",
       " 'd104.aa.net',\n",
       " 'd104.aa.net']"
      ]
     },
     "execution_count": 57,
     "metadata": {},
     "output_type": "execute_result"
    }
   ],
   "source": [
    "host_pattern = r'(^\\S+\\.[\\S+\\.]+\\S+)\\s'\n",
    "hosts = [re.search(host_pattern, item).group(1)\n",
    "           if re.search(host_pattern, item)\n",
    "           else 'no match'\n",
    "           for item in sample_logs]\n",
    "hosts"
   ]
  },
  {
   "cell_type": "markdown",
   "id": "352da4be",
   "metadata": {},
   "source": [
    "### Extracting timestamps"
   ]
  },
  {
   "cell_type": "code",
   "execution_count": 58,
   "id": "7db17214",
   "metadata": {
    "ExecuteTime": {
     "end_time": "2024-10-17T07:18:00.641656500Z",
     "start_time": "2024-10-17T04:11:55.115867Z"
    }
   },
   "outputs": [
    {
     "data": {
      "text/plain": [
       "['01/Jul/1995:00:00:01 -0400',\n",
       " '01/Jul/1995:00:00:06 -0400',\n",
       " '01/Jul/1995:00:00:09 -0400',\n",
       " '01/Jul/1995:00:00:11 -0400',\n",
       " '01/Jul/1995:00:00:11 -0400',\n",
       " '01/Jul/1995:00:00:12 -0400',\n",
       " '01/Jul/1995:00:00:12 -0400',\n",
       " '01/Jul/1995:00:00:12 -0400',\n",
       " '01/Jul/1995:00:00:13 -0400',\n",
       " '01/Jul/1995:00:00:13 -0400',\n",
       " '01/Jul/1995:00:00:14 -0400',\n",
       " '01/Jul/1995:00:00:14 -0400',\n",
       " '01/Jul/1995:00:00:14 -0400',\n",
       " '01/Jul/1995:00:00:15 -0400',\n",
       " '01/Jul/1995:00:00:15 -0400']"
      ]
     },
     "execution_count": 58,
     "metadata": {},
     "output_type": "execute_result"
    }
   ],
   "source": [
    "ts_pattern = r'\\[(\\d{2}/\\w{3}/\\d{4}:\\d{2}:\\d{2}:\\d{2} -\\d{4})]'\n",
    "timestamps = [re.search(ts_pattern, item).group(1) for item in sample_logs]\n",
    "timestamps"
   ]
  },
  {
   "cell_type": "markdown",
   "id": "6f99267a",
   "metadata": {},
   "source": [
    "### Extracting HTTP Request Method, URIs and Protocol"
   ]
  },
  {
   "cell_type": "code",
   "execution_count": 59,
   "id": "9639f50b",
   "metadata": {
    "ExecuteTime": {
     "end_time": "2024-10-17T07:18:00.641656500Z",
     "start_time": "2024-10-17T04:11:55.170806Z"
    }
   },
   "outputs": [
    {
     "data": {
      "text/plain": [
       "[('GET', '/history/apollo/', 'HTTP/1.0'),\n",
       " ('GET', '/shuttle/countdown/', 'HTTP/1.0'),\n",
       " ('GET', '/shuttle/missions/sts-73/mission-sts-73.html', 'HTTP/1.0'),\n",
       " ('GET', '/shuttle/countdown/liftoff.html', 'HTTP/1.0'),\n",
       " ('GET', '/shuttle/missions/sts-73/sts-73-patch-small.gif', 'HTTP/1.0'),\n",
       " ('GET', '/images/NASA-logosmall.gif', 'HTTP/1.0'),\n",
       " ('GET', '/shuttle/countdown/video/livevideo.gif', 'HTTP/1.0'),\n",
       " ('GET', '/shuttle/countdown/countdown.html', 'HTTP/1.0'),\n",
       " ('GET', '/shuttle/countdown/', 'HTTP/1.0'),\n",
       " ('GET', '/', 'HTTP/1.0'),\n",
       " ('GET', '/shuttle/countdown/count.gif', 'HTTP/1.0'),\n",
       " ('GET', '/images/NASA-logosmall.gif', 'HTTP/1.0'),\n",
       " ('GET', '/images/KSC-logosmall.gif', 'HTTP/1.0'),\n",
       " ('GET', '/shuttle/countdown/count.gif', 'HTTP/1.0'),\n",
       " ('GET', '/images/NASA-logosmall.gif', 'HTTP/1.0')]"
      ]
     },
     "execution_count": 59,
     "metadata": {},
     "output_type": "execute_result"
    }
   ],
   "source": [
    "method_uri_protocol_pattern = r'\\\"(\\S+)\\s(\\S+)\\s*(\\S*)\\\"'\n",
    "method_uri_protocol = [re.search(method_uri_protocol_pattern, item).groups()\n",
    "               if re.search(method_uri_protocol_pattern, item)\n",
    "               else 'no match'\n",
    "              for item in sample_logs]\n",
    "method_uri_protocol"
   ]
  },
  {
   "cell_type": "markdown",
   "id": "ba0674f18333d85d",
   "metadata": {},
   "source": [
    "### Extracting HTTP Status Code\n"
   ]
  },
  {
   "cell_type": "code",
   "execution_count": 60,
   "id": "e06855d7b0c89374",
   "metadata": {
    "ExecuteTime": {
     "end_time": "2024-10-17T07:18:00.641656500Z",
     "start_time": "2024-10-17T04:11:55.215932Z"
    }
   },
   "outputs": [
    {
     "name": "stdout",
     "output_type": "stream",
     "text": [
      "['200', '200', '200', '304', '200', '304', '200', '200', '200', '200', '200', '200', '200', '200', '200']\n"
     ]
    }
   ],
   "source": [
    "status_pattern = r'\\s(\\d{3})\\s'\n",
    "status = [re.search(status_pattern, item).group(1) for item in sample_logs]\n",
    "print(status)"
   ]
  },
  {
   "cell_type": "markdown",
   "id": "69a004a9",
   "metadata": {},
   "source": [
    "### Extracting HTTP Response Content Size"
   ]
  },
  {
   "cell_type": "code",
   "execution_count": 61,
   "id": "7502d30a",
   "metadata": {
    "ExecuteTime": {
     "end_time": "2024-10-17T07:18:00.641656500Z",
     "start_time": "2024-10-17T04:11:55.277212Z"
    }
   },
   "outputs": [
    {
     "name": "stdout",
     "output_type": "stream",
     "text": [
      "['6245', '3985', '4085', '0', '4179', '0', '0', '3985', '3985', '7074', '40310', '786', '1204', '40310', '786']\n"
     ]
    }
   ],
   "source": [
    "content_size_pattern = r'\\s(\\d+)$'\n",
    "content_size = [re.search(content_size_pattern, item).group(1) for item in sample_logs]\n",
    "print(content_size)"
   ]
  },
  {
   "cell_type": "markdown",
   "id": "109f97feb0f68f57",
   "metadata": {},
   "source": [
    "### Combine"
   ]
  },
  {
   "cell_type": "code",
   "execution_count": 62,
   "id": "960a17fbebcbf2a1",
   "metadata": {
    "ExecuteTime": {
     "end_time": "2024-10-17T07:18:00.641656500Z",
     "start_time": "2024-10-17T04:11:55.322809Z"
    }
   },
   "outputs": [
    {
     "name": "stdout",
     "output_type": "stream",
     "text": [
      "+--------------------+--------------------+------+--------------------+--------+------+------------+\n",
      "|                host|           timestamp|method|            endpoint|protocol|status|content_size|\n",
      "+--------------------+--------------------+------+--------------------+--------+------+------------+\n",
      "|        199.72.81.55|01/Jul/1995:00:00...|   GET|    /history/apollo/|HTTP/1.0|   200|        6245|\n",
      "|unicomp6.unicomp.net|01/Jul/1995:00:00...|   GET| /shuttle/countdown/|HTTP/1.0|   200|        3985|\n",
      "|      199.120.110.21|01/Jul/1995:00:00...|   GET|/shuttle/missions...|HTTP/1.0|   200|        4085|\n",
      "|  burger.letters.com|01/Jul/1995:00:00...|   GET|/shuttle/countdow...|HTTP/1.0|   304|           0|\n",
      "|      199.120.110.21|01/Jul/1995:00:00...|   GET|/shuttle/missions...|HTTP/1.0|   200|        4179|\n",
      "|  burger.letters.com|01/Jul/1995:00:00...|   GET|/images/NASA-logo...|HTTP/1.0|   304|           0|\n",
      "|  burger.letters.com|01/Jul/1995:00:00...|   GET|/shuttle/countdow...|HTTP/1.0|   200|           0|\n",
      "|     205.212.115.106|01/Jul/1995:00:00...|   GET|/shuttle/countdow...|HTTP/1.0|   200|        3985|\n",
      "|         d104.aa.net|01/Jul/1995:00:00...|   GET| /shuttle/countdown/|HTTP/1.0|   200|        3985|\n",
      "|      129.94.144.152|01/Jul/1995:00:00...|   GET|                   /|HTTP/1.0|   200|        7074|\n",
      "+--------------------+--------------------+------+--------------------+--------+------+------------+\n",
      "only showing top 10 rows\n",
      "\n",
      "(3461612, 7)\n"
     ]
    }
   ],
   "source": [
    "from pyspark.sql.functions import regexp_extract\n",
    "\n",
    "logs_df = base_df.select(regexp_extract('value', host_pattern, 1).alias('host'),\n",
    "                         regexp_extract('value', ts_pattern, 1).alias('timestamp'),\n",
    "                         regexp_extract('value', method_uri_protocol_pattern, 1).alias('method'),\n",
    "                         regexp_extract('value', method_uri_protocol_pattern, 2).alias('endpoint'),\n",
    "                         regexp_extract('value', method_uri_protocol_pattern, 3).alias('protocol'),\n",
    "                         regexp_extract('value', status_pattern, 1).cast('integer').alias('status'),\n",
    "                         regexp_extract('value', content_size_pattern, 1).cast('integer').alias('content_size'))\n",
    "logs_df.show(10, truncate=True)\n",
    "print((logs_df.count(), len(logs_df.columns)))"
   ]
  },
  {
   "cell_type": "markdown",
   "id": "890123a950ace923",
   "metadata": {},
   "source": [
    "### Findings missing values"
   ]
  },
  {
   "cell_type": "code",
   "execution_count": 63,
   "id": "80aa251c52cdc04c",
   "metadata": {
    "ExecuteTime": {
     "end_time": "2024-10-17T07:18:00.641656500Z",
     "start_time": "2024-10-17T04:11:56.014463Z"
    }
   },
   "outputs": [
    {
     "data": {
      "text/plain": [
       "0"
      ]
     },
     "execution_count": 63,
     "metadata": {},
     "output_type": "execute_result"
    }
   ],
   "source": [
    "(base_df.filter(base_df['value'].isNull()).count())"
   ]
  },
  {
   "cell_type": "code",
   "execution_count": 64,
   "id": "7fb26c2f78e9102d",
   "metadata": {
    "ExecuteTime": {
     "end_time": "2024-10-17T07:18:00.641656500Z",
     "start_time": "2024-10-17T04:11:56.828302Z"
    }
   },
   "outputs": [
    {
     "data": {
      "text/plain": [
       "33904"
      ]
     },
     "execution_count": 64,
     "metadata": {},
     "output_type": "execute_result"
    }
   ],
   "source": [
    "bad_rows_df = logs_df.filter(logs_df['host'].isNull()| \n",
    "                             logs_df['timestamp'].isNull() | \n",
    "                             logs_df['method'].isNull() |\n",
    "                             logs_df['endpoint'].isNull() |\n",
    "                             logs_df['status'].isNull() |\n",
    "                             logs_df['content_size'].isNull()|\n",
    "                             logs_df['protocol'].isNull())\n",
    "bad_rows_df.count()"
   ]
  },
  {
   "cell_type": "markdown",
   "id": "394972e35fb58f12",
   "metadata": {},
   "source": [
    "As you can see the result, in this dataset we have over 33K missing values"
   ]
  },
  {
   "cell_type": "markdown",
   "id": "37688211d0559de5",
   "metadata": {},
   "source": [
    "### Finding null counts"
   ]
  },
  {
   "cell_type": "code",
   "execution_count": 65,
   "id": "f79ad49a992c9722",
   "metadata": {
    "ExecuteTime": {
     "end_time": "2024-10-17T07:18:00.641656500Z",
     "start_time": "2024-10-17T04:12:03.575826Z"
    }
   },
   "outputs": [
    {
     "data": {
      "text/plain": [
       "['host',\n",
       " 'timestamp',\n",
       " 'method',\n",
       " 'endpoint',\n",
       " 'protocol',\n",
       " 'status',\n",
       " 'content_size']"
      ]
     },
     "execution_count": 65,
     "metadata": {},
     "output_type": "execute_result"
    }
   ],
   "source": [
    "logs_df.columns"
   ]
  },
  {
   "cell_type": "code",
   "execution_count": 66,
   "id": "bf41c87c9831ab25",
   "metadata": {
    "ExecuteTime": {
     "end_time": "2024-10-17T07:18:00.641656500Z",
     "start_time": "2024-10-17T04:12:03.614946Z"
    }
   },
   "outputs": [
    {
     "name": "stdout",
     "output_type": "stream",
     "text": [
      "+----+---------+------+--------+--------+------+------------+\n",
      "|host|timestamp|method|endpoint|protocol|status|content_size|\n",
      "+----+---------+------+--------+--------+------+------------+\n",
      "|   0|        0|     0|       0|       0|     0|       33904|\n",
      "+----+---------+------+--------+--------+------+------------+\n",
      "\n"
     ]
    }
   ],
   "source": [
    "from pyspark.sql.functions import col\n",
    "from pyspark.sql.functions import sum as spark_sum\n",
    "def count_null(col_name):\n",
    "    return spark_sum(col(col_name).isNull().cast('integer')).alias(col_name)\n",
    "# Build up a list of column expressions, one per column.\n",
    "exprs = [count_null(col_name) for col_name in logs_df.columns]\n",
    "\n",
    "# Run the aggregation. The *exprs converts the list of expressions into\n",
    "# variable function arguments.\n",
    "logs_df.agg(*exprs).show()"
   ]
  },
  {
   "cell_type": "markdown",
   "id": "bd86004dcdaf1d81",
   "metadata": {},
   "source": [
    "### Handling nulls in HTTP status"
   ]
  },
  {
   "cell_type": "code",
   "execution_count": 67,
   "id": "30c304904ac3da18",
   "metadata": {
    "ExecuteTime": {
     "end_time": "2024-10-17T07:18:00.641656500Z",
     "start_time": "2024-10-17T04:12:09.766128Z"
    }
   },
   "outputs": [
    {
     "data": {
      "text/plain": [
       "0"
      ]
     },
     "execution_count": 67,
     "metadata": {},
     "output_type": "execute_result"
    }
   ],
   "source": [
    "null_status_df = base_df.filter(~base_df['value'].rlike(r'\\s(\\d{3})\\s'))\n",
    "null_status_df.count()"
   ]
  },
  {
   "cell_type": "code",
   "execution_count": 25,
   "id": "ec048e3e8dcb85fb",
   "metadata": {
    "ExecuteTime": {
     "end_time": "2024-10-17T07:18:00.641656500Z",
     "start_time": "2024-10-17T04:12:12.356477Z"
    }
   },
   "outputs": [
    {
     "name": "stdout",
     "output_type": "stream",
     "text": [
      "+----+---------+------+--------+--------+------+------------+\n",
      "|host|timestamp|method|endpoint|protocol|status|content_size|\n",
      "+----+---------+------+--------+--------+------+------------+\n",
      "|   0|        0|     0|       0|       0|     0|       33904|\n",
      "+----+---------+------+--------+--------+------+------------+\n",
      "\n"
     ]
    }
   ],
   "source": [
    "exprs = [count_null(col_name) for col_name in logs_df.columns]\n",
    "logs_df.agg(*exprs).show()"
   ]
  },
  {
   "cell_type": "markdown",
   "id": "ee7354dce2d19ae2",
   "metadata": {},
   "source": [
    "### Handling nulls in HTTP content size"
   ]
  },
  {
   "cell_type": "code",
   "execution_count": 68,
   "id": "f91a37007d4232dd",
   "metadata": {
    "ExecuteTime": {
     "end_time": "2024-10-17T07:18:00.641656500Z",
     "start_time": "2024-10-17T04:12:18.622325Z"
    }
   },
   "outputs": [
    {
     "data": {
      "text/plain": [
       "33904"
      ]
     },
     "execution_count": 68,
     "metadata": {},
     "output_type": "execute_result"
    }
   ],
   "source": [
    "null_content_size_df = base_df.filter(~base_df['value'].rlike(r'\\s\\d+$'))\n",
    "null_content_size_df.count()"
   ]
  },
  {
   "cell_type": "code",
   "execution_count": 69,
   "id": "8b544b6497f011ba",
   "metadata": {
    "ExecuteTime": {
     "end_time": "2024-10-17T07:18:00.641656500Z",
     "start_time": "2024-10-17T04:12:20.613041Z"
    }
   },
   "outputs": [
    {
     "data": {
      "text/plain": [
       "[Row(value='dd15-062.compuserve.com - - [01/Jul/1995:00:01:12 -0400] \"GET /news/sci.space.shuttle/archive/sci-space-shuttle-22-apr-1995-40.txt HTTP/1.0\" 404 -'),\n",
       " Row(value='dynip42.efn.org - - [01/Jul/1995:00:02:14 -0400] \"GET /software HTTP/1.0\" 302 -'),\n",
       " Row(value='ix-or10-06.ix.netcom.com - - [01/Jul/1995:00:02:40 -0400] \"GET /software/winvn HTTP/1.0\" 302 -'),\n",
       " Row(value='ix-or10-06.ix.netcom.com - - [01/Jul/1995:00:03:24 -0400] \"GET /software HTTP/1.0\" 302 -'),\n",
       " Row(value='link097.txdirect.net - - [01/Jul/1995:00:05:06 -0400] \"GET /shuttle HTTP/1.0\" 302 -'),\n",
       " Row(value='ix-war-mi1-20.ix.netcom.com - - [01/Jul/1995:00:05:13 -0400] \"GET /shuttle/missions/sts-78/news HTTP/1.0\" 302 -'),\n",
       " Row(value='ix-war-mi1-20.ix.netcom.com - - [01/Jul/1995:00:05:58 -0400] \"GET /shuttle/missions/sts-72/news HTTP/1.0\" 302 -'),\n",
       " Row(value='netport-27.iu.net - - [01/Jul/1995:00:10:19 -0400] \"GET /pub/winvn/readme.txt HTTP/1.0\" 404 -'),\n",
       " Row(value='netport-27.iu.net - - [01/Jul/1995:00:10:28 -0400] \"GET /pub/winvn/readme.txt HTTP/1.0\" 404 -'),\n",
       " Row(value='dynip38.efn.org - - [01/Jul/1995:00:10:50 -0400] \"GET /software HTTP/1.0\" 302 -')]"
      ]
     },
     "execution_count": 69,
     "metadata": {},
     "output_type": "execute_result"
    }
   ],
   "source": [
    "null_content_size_df.take(10)"
   ]
  },
  {
   "cell_type": "code",
   "execution_count": 70,
   "id": "f361a6732980e72b",
   "metadata": {
    "ExecuteTime": {
     "end_time": "2024-10-17T07:18:00.641656500Z",
     "start_time": "2024-10-17T04:12:20.717923Z"
    }
   },
   "outputs": [],
   "source": [
    "#fix rows with null content_size\n",
    "logs_df = logs_df.na.fill({'content_size':0})"
   ]
  },
  {
   "cell_type": "code",
   "execution_count": 71,
   "id": "2107e5d299acae76",
   "metadata": {
    "ExecuteTime": {
     "end_time": "2024-10-17T07:18:00.641656500Z",
     "start_time": "2024-10-17T04:12:20.763935Z"
    }
   },
   "outputs": [
    {
     "name": "stdout",
     "output_type": "stream",
     "text": [
      "+----+---------+------+--------+--------+------+------------+\n",
      "|host|timestamp|method|endpoint|protocol|status|content_size|\n",
      "+----+---------+------+--------+--------+------+------------+\n",
      "|   0|        0|     0|       0|       0|     0|           0|\n",
      "+----+---------+------+--------+--------+------+------------+\n",
      "\n"
     ]
    }
   ],
   "source": [
    "exprs = [count_null(col_name) for col_name in logs_df.columns]\n",
    "logs_df.agg(*exprs).show()"
   ]
  },
  {
   "cell_type": "markdown",
   "id": "e737a033",
   "metadata": {},
   "source": [
    "### Solve value is \" \""
   ]
  },
  {
   "cell_type": "code",
   "execution_count": 72,
   "id": "92bd39d0",
   "metadata": {},
   "outputs": [
    {
     "name": "stdout",
     "output_type": "stream",
     "text": [
      "Column 'host' has 137934 unique values.\n",
      "Column 'timestamp' has 2075520 unique values.\n",
      "Column 'method' has 5 unique values.\n",
      "Column 'endpoint' has 31030 unique values.\n",
      "Column 'protocol' has 6 unique values.\n",
      "Column 'status' has 8 unique values.\n",
      "Column 'content_size' has 16502 unique values.\n"
     ]
    }
   ],
   "source": [
    "# check \" \" of each column\n",
    "# Check unique values for each column\n",
    "columns = ['host', 'timestamp', 'method', 'endpoint', 'protocol', 'status', 'content_size']\n",
    "\n",
    "for col in columns:\n",
    "    count = logs_df.select(col).distinct().count()\n",
    "    print(f\"Column '{col}' has {count} unique values.\")\n"
   ]
  },
  {
   "cell_type": "code",
   "execution_count": 73,
   "id": "0ec47c21",
   "metadata": {},
   "outputs": [
    {
     "name": "stdout",
     "output_type": "stream",
     "text": [
      "+---------------+-------+\n",
      "|         method|  count|\n",
      "+---------------+-------+\n",
      "|           POST|    222|\n",
      "|           HEAD|   7915|\n",
      "|            GET|3451720|\n",
      "|               |   1753|\n",
      "|�|\u0005\u0011t\u0003�9ð'À|\u0005\u0011u|      2|\n",
      "+---------------+-------+\n",
      "\n"
     ]
    }
   ],
   "source": [
    "# Group by 'method' column and count occurrences of each method\n",
    "method_counts = logs_df.groupBy(\"method\").count()\n",
    "\n",
    "# Show the counts of each method\n",
    "method_counts.show()"
   ]
  },
  {
   "cell_type": "code",
   "execution_count": 75,
   "id": "4183a9ef",
   "metadata": {},
   "outputs": [
    {
     "name": "stdout",
     "output_type": "stream",
     "text": [
      "+-------------+-------+\n",
      "|     protocol|  count|\n",
      "+-------------+-------+\n",
      "|             |   6599|\n",
      "|    HTTP/V1.0|    279|\n",
      "|     HTTP/1.0|3454716|\n",
      "|STS-69</a><p>|      4|\n",
      "|       HTTP/*|     13|\n",
      "|            a|      1|\n",
      "+-------------+-------+\n",
      "\n"
     ]
    }
   ],
   "source": [
    "# Group by 'method' column and count occurrences of each method\n",
    "method_counts = logs_df.groupBy(\"protocol\").count()\n",
    "\n",
    "# Show the counts of each method\n",
    "method_counts.show()"
   ]
  },
  {
   "cell_type": "code",
   "execution_count": 76,
   "id": "9af1798d",
   "metadata": {},
   "outputs": [
    {
     "name": "stdout",
     "output_type": "stream",
     "text": [
      "Influence of invalid 'method' values: 0.05%\n",
      "Influence of invalid 'protocol' values: 0.20%\n"
     ]
    }
   ],
   "source": [
    "from pyspark.sql import functions as F\n",
    "# Calculate the total count of rows\n",
    "total_count = logs_df.count()\n",
    "\n",
    "# Count the number of rows with invalid 'method' values\n",
    "invalid_method_count = logs_df.filter((F.col(\"method\") == \"\") | (F.col(\"method\").rlike(\"[^A-Za-z]\"))).count()\n",
    "invalid_protocol_count = logs_df.filter((F.col(\"protocol\") == \"\") | (F.col(\"protocol\").rlike(\"[^HTTP/\\\\.\\\\d]\"))).count()\n",
    "\n",
    "# Calculate the proportion of invalid values\n",
    "method_influence = (invalid_method_count / total_count) * 100\n",
    "protocol_influence = (invalid_protocol_count / total_count) * 100\n",
    "\n",
    "print(f\"Influence of invalid 'method' values: {method_influence:.2f}%\")\n",
    "print(f\"Influence of invalid 'protocol' values: {protocol_influence:.2f}%\")\n"
   ]
  },
  {
   "cell_type": "code",
   "execution_count": 77,
   "id": "9cf3388e",
   "metadata": {},
   "outputs": [
    {
     "name": "stdout",
     "output_type": "stream",
     "text": [
      "+--------------------+--------------------+-----------+\n",
      "|           timestamp|invalid_method_count|total_count|\n",
      "+--------------------+--------------------+-----------+\n",
      "|01/Jul/1995:00:00...|                   0|          1|\n",
      "|01/Jul/1995:00:07...|                   0|          1|\n",
      "|01/Jul/1995:00:11...|                   0|          1|\n",
      "|01/Jul/1995:00:23...|                   0|          1|\n",
      "|01/Jul/1995:00:27...|                   0|          2|\n",
      "|01/Jul/1995:00:29...|                   0|          2|\n",
      "|01/Jul/1995:00:31...|                   0|          1|\n",
      "|01/Jul/1995:00:58...|                   0|          1|\n",
      "|01/Jul/1995:00:58...|                   0|          2|\n",
      "|01/Jul/1995:01:00...|                   0|          1|\n",
      "|01/Jul/1995:01:00...|                   0|          4|\n",
      "|01/Jul/1995:01:03...|                   0|          1|\n",
      "|01/Jul/1995:01:10...|                   0|          1|\n",
      "|01/Jul/1995:01:22...|                   0|          1|\n",
      "|01/Jul/1995:01:23...|                   0|          1|\n",
      "|01/Jul/1995:01:27...|                   0|          1|\n",
      "|01/Jul/1995:01:28...|                   0|          1|\n",
      "|01/Jul/1995:01:30...|                   0|          1|\n",
      "|01/Jul/1995:01:37...|                   0|          2|\n",
      "|01/Jul/1995:01:44...|                   0|          1|\n",
      "+--------------------+--------------------+-----------+\n",
      "only showing top 20 rows\n",
      "\n"
     ]
    }
   ],
   "source": [
    "# Count occurrences of valid and invalid methods by timestamp or other categorical variables\n",
    "logs_df.groupBy(\"timestamp\").agg(\n",
    "    F.sum(F.when((F.col(\"method\") == \"\") | (F.col(\"method\").rlike(\"[^A-Za-z]\")), 1).otherwise(0)).alias(\"invalid_method_count\"),\n",
    "    F.count(\"*\").alias(\"total_count\")\n",
    ").show()\n"
   ]
  },
  {
   "cell_type": "code",
   "execution_count": 78,
   "id": "9daefb3f",
   "metadata": {},
   "outputs": [
    {
     "name": "stdout",
     "output_type": "stream",
     "text": [
      "+-------+------------------+------------------+\n",
      "|summary|            status|      content_size|\n",
      "+-------+------------------+------------------+\n",
      "|  count|              1755|              1755|\n",
      "|   mean|216.88888888888889| 2471.460398860399|\n",
      "| stddev| 52.17349649220348|27412.156425211648|\n",
      "|    min|               200|                 0|\n",
      "|    max|               404|           1121554|\n",
      "+-------+------------------+------------------+\n",
      "\n"
     ]
    }
   ],
   "source": [
    "# Filtering rows with invalid methods\n",
    "invalid_rows_df = logs_df.filter((F.col(\"method\") == \"\") | (F.col(\"method\").rlike(\"[^A-Za-z]\")))\n",
    "\n",
    "# Check statistics of other columns for invalid rows\n",
    "invalid_rows_df.describe(['status', 'content_size']).show()\n"
   ]
  },
  {
   "cell_type": "code",
   "execution_count": 79,
   "id": "5ad2c6bd",
   "metadata": {},
   "outputs": [
    {
     "data": {
      "image/png": "[encoded data removed]",
      "text/plain": [
       "<Figure size 640x480 with 1 Axes>"
      ]
     },
     "metadata": {},
     "output_type": "display_data"
    }
   ],
   "source": [
    "import matplotlib.pyplot as plt\n",
    "\n",
    "# Collecting counts to visualize\n",
    "valid_count = total_count - invalid_method_count\n",
    "counts = [valid_count, invalid_method_count]\n",
    "\n",
    "labels = ['Valid Methods', 'Invalid Methods']\n",
    "plt.pie(counts, labels=labels, autopct='%1.1f%%', startangle=140)\n",
    "plt.axis('equal')\n",
    "plt.title('Proportion of Valid vs Invalid Method Entries')\n",
    "plt.show()\n"
   ]
  },
  {
   "cell_type": "code",
   "execution_count": 80,
   "id": "b705e5b2",
   "metadata": {},
   "outputs": [
    {
     "data": {
      "image/png": "[encoded data removed]",
      "text/plain": [
       "<Figure size 800x600 with 1 Axes>"
      ]
     },
     "metadata": {},
     "output_type": "display_data"
    }
   ],
   "source": [
    "import matplotlib.pyplot as plt\n",
    "\n",
    "# Data for valid vs invalid 'protocol' counts (based on your earlier provided counts)\n",
    "valid_protocol_count = 3454716  # Number of valid protocol entries (HTTP/1.0, HTTP/1.1, etc.)\n",
    "invalid_protocol_count = 6599 + 279 + 4 + 13 + 1  # Sum of invalid protocol entries (based on observed values)\n",
    "\n",
    "# Creating labels and values for the pie chart\n",
    "labels = ['Valid Protocol', 'Invalid Protocol']\n",
    "counts = [valid_protocol_count, invalid_protocol_count]\n",
    "\n",
    "# Plotting the pie chart\n",
    "plt.figure(figsize=(8, 6))\n",
    "plt.pie(counts, labels=labels, autopct='%1.1f%%', startangle=140, colors=['skyblue', 'lightcoral'])\n",
    "plt.axis('equal')\n",
    "plt.title('Proportion of Valid vs Invalid Protocol Entries')\n",
    "plt.show()\n"
   ]
  },
  {
   "cell_type": "markdown",
   "id": "d6db7c5a67bb2bfb",
   "metadata": {},
   "source": [
    "### Handling temporal fields (Timestamp)"
   ]
  },
  {
   "cell_type": "code",
   "execution_count": 31,
   "id": "16384292a651fe15",
   "metadata": {
    "ExecuteTime": {
     "end_time": "2024-10-17T07:18:00.641656500Z",
     "start_time": "2024-10-17T04:12:25.822719Z"
    }
   },
   "outputs": [],
   "source": [
    "from pyspark.sql.functions import udf\n",
    "\n",
    "month_map = {\n",
    "  'Jan': 1, 'Feb': 2, 'Mar':3, 'Apr':4, 'May':5, 'Jun':6, 'Jul':7,\n",
    "  'Aug':8,  'Sep': 9, 'Oct':10, 'Nov': 11, 'Dec': 12\n",
    "}\n",
    "\n",
    "def parse_clf_time(text):\n",
    "    \"\"\" Convert Common Log time format into a Python datetime object\n",
    "    Args:\n",
    "        text (str): date and time in Apache time format [dd/mmm/yyyy:hh:mm:ss (+/-)zzzz]\n",
    "    Returns:\n",
    "        a string suitable for passing to CAST('timestamp')\n",
    "    \"\"\"\n",
    "    # NOTE: We're ignoring the time zones here, might need to be handled depending on the problem you are solving\n",
    "    return \"{0:04d}-{1:02d}-{2:02d} {3:02d}:{4:02d}:{5:02d}\".format(\n",
    "      int(text[7:11]),\n",
    "      month_map[text[3:6]],\n",
    "      int(text[0:2]),\n",
    "      int(text[12:14]),\n",
    "      int(text[15:17]),\n",
    "      int(text[18:20]))"
   ]
  },
  {
   "cell_type": "code",
   "execution_count": 32,
   "id": "f7a793362f220cbb",
   "metadata": {
    "ExecuteTime": {
     "end_time": "2024-10-17T07:18:00.641656500Z",
     "start_time": "2024-10-17T04:12:25.907053Z"
    }
   },
   "outputs": [
    {
     "data": {
      "text/plain": [
       "['01/Jul/1995:00:00:01 -0400',\n",
       " '01/Jul/1995:00:00:06 -0400',\n",
       " '01/Jul/1995:00:00:09 -0400',\n",
       " '01/Jul/1995:00:00:11 -0400',\n",
       " '01/Jul/1995:00:00:11 -0400']"
      ]
     },
     "execution_count": 32,
     "metadata": {},
     "output_type": "execute_result"
    }
   ],
   "source": [
    "sample_ts = [item['timestamp'] for item in logs_df.select('timestamp').take(5)]\n",
    "sample_ts"
   ]
  },
  {
   "cell_type": "code",
   "execution_count": 33,
   "id": "cf61f3b57c2183a3",
   "metadata": {
    "ExecuteTime": {
     "end_time": "2024-10-17T07:18:00.641656500Z",
     "start_time": "2024-10-17T04:12:26.016273Z"
    }
   },
   "outputs": [
    {
     "data": {
      "text/plain": [
       "['1995-07-01 00:00:01',\n",
       " '1995-07-01 00:00:06',\n",
       " '1995-07-01 00:00:09',\n",
       " '1995-07-01 00:00:11',\n",
       " '1995-07-01 00:00:11']"
      ]
     },
     "execution_count": 33,
     "metadata": {},
     "output_type": "execute_result"
    }
   ],
   "source": [
    "[parse_clf_time(item) for item in sample_ts]"
   ]
  },
  {
   "cell_type": "code",
   "execution_count": 34,
   "id": "b5e310b9",
   "metadata": {},
   "outputs": [
    {
     "data": {
      "text/plain": [
       "[('host', 'string'),\n",
       " ('timestamp', 'string'),\n",
       " ('method', 'string'),\n",
       " ('endpoint', 'string'),\n",
       " ('protocol', 'string'),\n",
       " ('status', 'int'),\n",
       " ('content_size', 'int')]"
      ]
     },
     "execution_count": 34,
     "metadata": {},
     "output_type": "execute_result"
    }
   ],
   "source": [
    "logs_df.dtypes"
   ]
  },
  {
   "cell_type": "code",
   "execution_count": 35,
   "id": "6ff32db4",
   "metadata": {},
   "outputs": [
    {
     "name": "stdout",
     "output_type": "stream",
     "text": [
      "+--------------------+------+--------------------+--------+------+------------+-------------------+\n",
      "|                host|method|            endpoint|protocol|status|content_size|               time|\n",
      "+--------------------+------+--------------------+--------+------+------------+-------------------+\n",
      "|        199.72.81.55|   GET|    /history/apollo/|HTTP/1.0|   200|        6245|1995-07-01 00:00:01|\n",
      "|unicomp6.unicomp.net|   GET| /shuttle/countdown/|HTTP/1.0|   200|        3985|1995-07-01 00:00:06|\n",
      "|      199.120.110.21|   GET|/shuttle/missions...|HTTP/1.0|   200|        4085|1995-07-01 00:00:09|\n",
      "|  burger.letters.com|   GET|/shuttle/countdow...|HTTP/1.0|   304|           0|1995-07-01 00:00:11|\n",
      "|      199.120.110.21|   GET|/shuttle/missions...|HTTP/1.0|   200|        4179|1995-07-01 00:00:11|\n",
      "|  burger.letters.com|   GET|/images/NASA-logo...|HTTP/1.0|   304|           0|1995-07-01 00:00:12|\n",
      "|  burger.letters.com|   GET|/shuttle/countdow...|HTTP/1.0|   200|           0|1995-07-01 00:00:12|\n",
      "|     205.212.115.106|   GET|/shuttle/countdow...|HTTP/1.0|   200|        3985|1995-07-01 00:00:12|\n",
      "|         d104.aa.net|   GET| /shuttle/countdown/|HTTP/1.0|   200|        3985|1995-07-01 00:00:13|\n",
      "|      129.94.144.152|   GET|                   /|HTTP/1.0|   200|        7074|1995-07-01 00:00:13|\n",
      "+--------------------+------+--------------------+--------+------+------------+-------------------+\n",
      "only showing top 10 rows\n",
      "\n"
     ]
    }
   ],
   "source": [
    "udf_parse_time = udf(parse_clf_time)\n",
    "\n",
    "logs_df = logs_df.select('*', udf_parse_time(logs_df['timestamp']).cast('timestamp').alias('time')).drop('timestamp')\n",
    "logs_df.show(10, truncate=True)"
   ]
  },
  {
   "cell_type": "code",
   "execution_count": 36,
   "id": "38a7b268",
   "metadata": {},
   "outputs": [
    {
     "name": "stdout",
     "output_type": "stream",
     "text": [
      "root\n",
      " |-- host: string (nullable = true)\n",
      " |-- method: string (nullable = true)\n",
      " |-- endpoint: string (nullable = true)\n",
      " |-- protocol: string (nullable = true)\n",
      " |-- status: integer (nullable = true)\n",
      " |-- content_size: integer (nullable = false)\n",
      " |-- time: timestamp (nullable = true)\n",
      "\n"
     ]
    }
   ],
   "source": [
    "logs_df.printSchema()"
   ]
  },
  {
   "cell_type": "code",
   "execution_count": 37,
   "id": "e37d64e9",
   "metadata": {},
   "outputs": [
    {
     "data": {
      "text/html": [
       "<div>\n",
       "<style scoped>\n",
       "    .dataframe tbody tr th:only-of-type {\n",
       "        vertical-align: middle;\n",
       "    }\n",
       "\n",
       "    .dataframe tbody tr th {\n",
       "        vertical-align: top;\n",
       "    }\n",
       "\n",
       "    .dataframe thead th {\n",
       "        text-align: right;\n",
       "    }\n",
       "</style>\n",
       "<table border=\"1\" class=\"dataframe\">\n",
       "  <thead>\n",
       "    <tr style=\"text-align: right;\">\n",
       "      <th></th>\n",
       "      <th>host</th>\n",
       "      <th>method</th>\n",
       "      <th>endpoint</th>\n",
       "      <th>protocol</th>\n",
       "      <th>status</th>\n",
       "      <th>content_size</th>\n",
       "      <th>time</th>\n",
       "    </tr>\n",
       "  </thead>\n",
       "  <tbody>\n",
       "    <tr>\n",
       "      <th>0</th>\n",
       "      <td>199.72.81.55</td>\n",
       "      <td>GET</td>\n",
       "      <td>/history/apollo/</td>\n",
       "      <td>HTTP/1.0</td>\n",
       "      <td>200</td>\n",
       "      <td>6245</td>\n",
       "      <td>1995-07-01 00:00:01</td>\n",
       "    </tr>\n",
       "    <tr>\n",
       "      <th>1</th>\n",
       "      <td>unicomp6.unicomp.net</td>\n",
       "      <td>GET</td>\n",
       "      <td>/shuttle/countdown/</td>\n",
       "      <td>HTTP/1.0</td>\n",
       "      <td>200</td>\n",
       "      <td>3985</td>\n",
       "      <td>1995-07-01 00:00:06</td>\n",
       "    </tr>\n",
       "    <tr>\n",
       "      <th>2</th>\n",
       "      <td>199.120.110.21</td>\n",
       "      <td>GET</td>\n",
       "      <td>/shuttle/missions/sts-73/mission-sts-73.html</td>\n",
       "      <td>HTTP/1.0</td>\n",
       "      <td>200</td>\n",
       "      <td>4085</td>\n",
       "      <td>1995-07-01 00:00:09</td>\n",
       "    </tr>\n",
       "    <tr>\n",
       "      <th>3</th>\n",
       "      <td>burger.letters.com</td>\n",
       "      <td>GET</td>\n",
       "      <td>/shuttle/countdown/liftoff.html</td>\n",
       "      <td>HTTP/1.0</td>\n",
       "      <td>304</td>\n",
       "      <td>0</td>\n",
       "      <td>1995-07-01 00:00:11</td>\n",
       "    </tr>\n",
       "    <tr>\n",
       "      <th>4</th>\n",
       "      <td>199.120.110.21</td>\n",
       "      <td>GET</td>\n",
       "      <td>/shuttle/missions/sts-73/sts-73-patch-small.gif</td>\n",
       "      <td>HTTP/1.0</td>\n",
       "      <td>200</td>\n",
       "      <td>4179</td>\n",
       "      <td>1995-07-01 00:00:11</td>\n",
       "    </tr>\n",
       "  </tbody>\n",
       "</table>\n",
       "</div>"
      ],
      "text/plain": [
       "                   host method  \\\n",
       "0          199.72.81.55    GET   \n",
       "1  unicomp6.unicomp.net    GET   \n",
       "2        199.120.110.21    GET   \n",
       "3    burger.letters.com    GET   \n",
       "4        199.120.110.21    GET   \n",
       "\n",
       "                                          endpoint  protocol  status  \\\n",
       "0                                 /history/apollo/  HTTP/1.0     200   \n",
       "1                              /shuttle/countdown/  HTTP/1.0     200   \n",
       "2     /shuttle/missions/sts-73/mission-sts-73.html  HTTP/1.0     200   \n",
       "3                  /shuttle/countdown/liftoff.html  HTTP/1.0     304   \n",
       "4  /shuttle/missions/sts-73/sts-73-patch-small.gif  HTTP/1.0     200   \n",
       "\n",
       "   content_size                time  \n",
       "0          6245 1995-07-01 00:00:01  \n",
       "1          3985 1995-07-01 00:00:06  \n",
       "2          4085 1995-07-01 00:00:09  \n",
       "3             0 1995-07-01 00:00:11  \n",
       "4          4179 1995-07-01 00:00:11  "
      ]
     },
     "execution_count": 37,
     "metadata": {},
     "output_type": "execute_result"
    }
   ],
   "source": [
    "logs_df.limit(5).toPandas()"
   ]
  },
  {
   "cell_type": "code",
   "execution_count": 38,
   "id": "ba3db981f2aff5c6",
   "metadata": {
    "ExecuteTime": {
     "end_time": "2024-10-17T07:18:00.648166700Z",
     "start_time": "2024-10-17T04:12:29.004746Z"
    }
   },
   "outputs": [
    {
     "data": {
      "text/plain": [
       "DataFrame[host: string, method: string, endpoint: string, protocol: string, status: int, content_size: int, time: timestamp]"
      ]
     },
     "execution_count": 38,
     "metadata": {},
     "output_type": "execute_result"
    }
   ],
   "source": [
    "logs_df.cache()"
   ]
  },
  {
   "cell_type": "markdown",
   "id": "c6e4aeadf1817c2f",
   "metadata": {},
   "source": [
    "## DATA ANALYSIS "
   ]
  },
  {
   "cell_type": "markdown",
   "id": "42f5452770ec22f5",
   "metadata": {},
   "source": [
    "### Content size statistics"
   ]
  },
  {
   "cell_type": "code",
   "execution_count": 39,
   "id": "ca78b3e078793e75",
   "metadata": {
    "ExecuteTime": {
     "end_time": "2024-10-17T07:18:00.648166700Z",
     "start_time": "2024-10-17T04:12:29.105930Z"
    }
   },
   "outputs": [
    {
     "data": {
      "text/html": [
       "<div>\n",
       "<style scoped>\n",
       "    .dataframe tbody tr th:only-of-type {\n",
       "        vertical-align: middle;\n",
       "    }\n",
       "\n",
       "    .dataframe tbody tr th {\n",
       "        vertical-align: top;\n",
       "    }\n",
       "\n",
       "    .dataframe thead th {\n",
       "        text-align: right;\n",
       "    }\n",
       "</style>\n",
       "<table border=\"1\" class=\"dataframe\">\n",
       "  <thead>\n",
       "    <tr style=\"text-align: right;\">\n",
       "      <th></th>\n",
       "      <th>summary</th>\n",
       "      <th>content_size</th>\n",
       "    </tr>\n",
       "  </thead>\n",
       "  <tbody>\n",
       "    <tr>\n",
       "      <th>0</th>\n",
       "      <td>count</td>\n",
       "      <td>3461612</td>\n",
       "    </tr>\n",
       "    <tr>\n",
       "      <th>1</th>\n",
       "      <td>mean</td>\n",
       "      <td>18928.844398216785</td>\n",
       "    </tr>\n",
       "    <tr>\n",
       "      <th>2</th>\n",
       "      <td>stddev</td>\n",
       "      <td>73031.47260949262</td>\n",
       "    </tr>\n",
       "    <tr>\n",
       "      <th>3</th>\n",
       "      <td>min</td>\n",
       "      <td>0</td>\n",
       "    </tr>\n",
       "    <tr>\n",
       "      <th>4</th>\n",
       "      <td>max</td>\n",
       "      <td>6823936</td>\n",
       "    </tr>\n",
       "  </tbody>\n",
       "</table>\n",
       "</div>"
      ],
      "text/plain": [
       "  summary        content_size\n",
       "0   count             3461612\n",
       "1    mean  18928.844398216785\n",
       "2  stddev   73031.47260949262\n",
       "3     min                   0\n",
       "4     max             6823936"
      ]
     },
     "execution_count": 39,
     "metadata": {},
     "output_type": "execute_result"
    }
   ],
   "source": [
    "content_size_summary_df = logs_df.describe(['content_size'])\n",
    "content_size_summary_df.toPandas()"
   ]
  },
  {
   "cell_type": "code",
   "execution_count": 40,
   "id": "a5be212ecadc6760",
   "metadata": {
    "ExecuteTime": {
     "end_time": "2024-10-17T07:18:00.648166700Z",
     "start_time": "2024-10-17T04:12:48.441192Z"
    }
   },
   "outputs": [
    {
     "data": {
      "text/html": [
       "<div>\n",
       "<style scoped>\n",
       "    .dataframe tbody tr th:only-of-type {\n",
       "        vertical-align: middle;\n",
       "    }\n",
       "\n",
       "    .dataframe tbody tr th {\n",
       "        vertical-align: top;\n",
       "    }\n",
       "\n",
       "    .dataframe thead th {\n",
       "        text-align: right;\n",
       "    }\n",
       "</style>\n",
       "<table border=\"1\" class=\"dataframe\">\n",
       "  <thead>\n",
       "    <tr style=\"text-align: right;\">\n",
       "      <th></th>\n",
       "      <th>min_content_size</th>\n",
       "      <th>max_content_size</th>\n",
       "      <th>mean_content_size</th>\n",
       "      <th>std_content_size</th>\n",
       "      <th>count_content_size</th>\n",
       "    </tr>\n",
       "  </thead>\n",
       "  <tbody>\n",
       "    <tr>\n",
       "      <th>0</th>\n",
       "      <td>0</td>\n",
       "      <td>6823936</td>\n",
       "      <td>18928.844398</td>\n",
       "      <td>73031.472609</td>\n",
       "      <td>3461612</td>\n",
       "    </tr>\n",
       "  </tbody>\n",
       "</table>\n",
       "</div>"
      ],
      "text/plain": [
       "   min_content_size  max_content_size  mean_content_size  std_content_size  \\\n",
       "0                 0           6823936       18928.844398      73031.472609   \n",
       "\n",
       "   count_content_size  \n",
       "0             3461612  "
      ]
     },
     "execution_count": 40,
     "metadata": {},
     "output_type": "execute_result"
    }
   ],
   "source": [
    "from pyspark.sql import functions as F\n",
    "\n",
    "(logs_df.agg(F.min(logs_df['content_size']).alias('min_content_size'),\n",
    "             F.max(logs_df['content_size']).alias('max_content_size'),\n",
    "             F.mean(logs_df['content_size']).alias('mean_content_size'),\n",
    "             F.stddev(logs_df['content_size']).alias('std_content_size'),\n",
    "             F.count(logs_df['content_size']).alias('count_content_size'))\n",
    "        .toPandas())"
   ]
  },
  {
   "cell_type": "markdown",
   "id": "722768d7af9a9430",
   "metadata": {},
   "source": [
    "### HTTP Status Code Analysis"
   ]
  },
  {
   "cell_type": "code",
   "execution_count": 41,
   "id": "15af5a606cb9335a",
   "metadata": {
    "ExecuteTime": {
     "end_time": "2024-10-17T07:18:00.648166700Z",
     "start_time": "2024-10-17T04:12:48.725982Z"
    }
   },
   "outputs": [
    {
     "name": "stdout",
     "output_type": "stream",
     "text": [
      "Total distinct HTTP status codes:  8\n"
     ]
    }
   ],
   "source": [
    "status_freq_df = (logs_df\n",
    "                     .groupBy('status')\n",
    "                     .count()\n",
    "                     .sort('status')\n",
    "                     .cache())\n",
    "\n",
    "print('Total distinct HTTP status codes: ',status_freq_df.count())"
   ]
  },
  {
   "cell_type": "code",
   "execution_count": 43,
   "id": "12e713d3",
   "metadata": {},
   "outputs": [
    {
     "name": "stdout",
     "output_type": "stream",
     "text": [
      "Total content_size:  16502\n"
     ]
    }
   ],
   "source": [
    "content_freq_df = (logs_df\n",
    "                     .groupBy('content_size')\n",
    "                     .count()\n",
    "                     .sort('content_size')\n",
    "                     .cache())\n",
    "\n",
    "print('Total content_size: ',content_freq_df.count())\n"
   ]
  },
  {
   "cell_type": "code",
   "execution_count": null,
   "id": "11fd116a",
   "metadata": {},
   "outputs": [
    {
     "name": "stdout",
     "output_type": "stream",
     "text": [
      "Total method:  5\n",
      "Unique method names: ['', 'GET', 'HEAD', 'POST', \"�|\\x05\\x11t\\x03�9ð'À|\\x05\\x11u\"]\n"
     ]
    }
   ],
   "source": [
    "method_freq_df = (logs_df\n",
    "                     .groupBy('method')\n",
    "                     .count()\n",
    "                     .sort('method')\n",
    "                     .cache())\n",
    "\n",
    "print('Total method: ',method_freq_df.count())\n",
    "# Display unique method names\n",
    "unique_methods = method_freq_df.select(\"method\").rdd.flatMap(lambda x: x).collect()\n",
    "print(\"Unique method names:\", unique_methods)\n"
   ]
  },
  {
   "cell_type": "code",
   "execution_count": null,
   "id": "ae44c37a",
   "metadata": {},
   "outputs": [
    {
     "name": "stdout",
     "output_type": "stream",
     "text": [
      "+---------------+-------+\n",
      "|         method|  count|\n",
      "+---------------+-------+\n",
      "|           POST|    222|\n",
      "|           HEAD|   7915|\n",
      "|            GET|3451720|\n",
      "|               |   1753|\n",
      "|�|\u0005\u0011t\u0003�9ð'À|\u0005\u0011u|      2|\n",
      "+---------------+-------+\n",
      "\n"
     ]
    }
   ],
   "source": [
    "# Group by 'method' column and count occurrences of each method\n",
    "method_counts = logs_df.groupBy(\"method\").count()\n",
    "\n",
    "# Show the counts of each method\n",
    "method_counts.show()\n"
   ]
  },
  {
   "cell_type": "code",
   "execution_count": null,
   "id": "7029514a3b97c557",
   "metadata": {
    "ExecuteTime": {
     "end_time": "2024-10-17T07:18:00.648166700Z",
     "start_time": "2024-10-17T04:12:49.149074Z"
    }
   },
   "outputs": [
    {
     "data": {
      "text/html": [
       "<div>\n",
       "<style scoped>\n",
       "    .dataframe tbody tr th:only-of-type {\n",
       "        vertical-align: middle;\n",
       "    }\n",
       "\n",
       "    .dataframe tbody tr th {\n",
       "        vertical-align: top;\n",
       "    }\n",
       "\n",
       "    .dataframe thead th {\n",
       "        text-align: right;\n",
       "    }\n",
       "</style>\n",
       "<table border=\"1\" class=\"dataframe\">\n",
       "  <thead>\n",
       "    <tr style=\"text-align: right;\">\n",
       "      <th></th>\n",
       "      <th>status</th>\n",
       "      <th>count</th>\n",
       "    </tr>\n",
       "  </thead>\n",
       "  <tbody>\n",
       "    <tr>\n",
       "      <th>0</th>\n",
       "      <td>200</td>\n",
       "      <td>3100524</td>\n",
       "    </tr>\n",
       "    <tr>\n",
       "      <th>2</th>\n",
       "      <td>304</td>\n",
       "      <td>266773</td>\n",
       "    </tr>\n",
       "    <tr>\n",
       "      <th>1</th>\n",
       "      <td>302</td>\n",
       "      <td>73070</td>\n",
       "    </tr>\n",
       "    <tr>\n",
       "      <th>5</th>\n",
       "      <td>404</td>\n",
       "      <td>20899</td>\n",
       "    </tr>\n",
       "    <tr>\n",
       "      <th>4</th>\n",
       "      <td>403</td>\n",
       "      <td>225</td>\n",
       "    </tr>\n",
       "    <tr>\n",
       "      <th>6</th>\n",
       "      <td>500</td>\n",
       "      <td>65</td>\n",
       "    </tr>\n",
       "    <tr>\n",
       "      <th>7</th>\n",
       "      <td>501</td>\n",
       "      <td>41</td>\n",
       "    </tr>\n",
       "    <tr>\n",
       "      <th>3</th>\n",
       "      <td>400</td>\n",
       "      <td>15</td>\n",
       "    </tr>\n",
       "  </tbody>\n",
       "</table>\n",
       "</div>"
      ],
      "text/plain": [
       "   status    count\n",
       "0     200  3100524\n",
       "2     304   266773\n",
       "1     302    73070\n",
       "5     404    20899\n",
       "4     403      225\n",
       "6     500       65\n",
       "7     501       41\n",
       "3     400       15"
      ]
     },
     "execution_count": 41,
     "metadata": {},
     "output_type": "execute_result"
    }
   ],
   "source": [
    "status_freq_pd_df = (status_freq_df\n",
    "                         .toPandas()\n",
    "                         .sort_values(by=['count'],\n",
    "                                      ascending=False))\n",
    "status_freq_pd_df"
   ]
  },
  {
   "cell_type": "code",
   "execution_count": null,
   "id": "5e31b7e9",
   "metadata": {},
   "outputs": [],
   "source": [
    "method_pd_df = (status_freq_df\n",
    "                         .toPandas()\n",
    "                         .sort_values(by=['count'],\n",
    "                                      ascending=False))\n",
    "method_pd_df"
   ]
  },
  {
   "cell_type": "code",
   "execution_count": null,
   "id": "f3dcab69",
   "metadata": {},
   "outputs": [
    {
     "name": "stdout",
     "output_type": "stream",
     "text": [
      "Defaulting to user installation because normal site-packages is not writeableNote: you may need to restart the kernel to use updated packages.\n",
      "\n",
      "Requirement already satisfied: seaborn in c:\\users\\lethi\\appdata\\roaming\\python\\python39\\site-packages (0.13.2)\n",
      "Requirement already satisfied: numpy!=1.24.0,>=1.20 in c:\\users\\lethi\\appdata\\roaming\\python\\python39\\site-packages (from seaborn) (2.0.2)\n",
      "Requirement already satisfied: pandas>=1.2 in c:\\users\\lethi\\appdata\\roaming\\python\\python39\\site-packages (from seaborn) (2.2.3)\n",
      "Requirement already satisfied: matplotlib!=3.6.1,>=3.4 in c:\\users\\lethi\\appdata\\roaming\\python\\python39\\site-packages (from seaborn) (3.9.2)\n",
      "Requirement already satisfied: contourpy>=1.0.1 in c:\\users\\lethi\\appdata\\roaming\\python\\python39\\site-packages (from matplotlib!=3.6.1,>=3.4->seaborn) (1.3.0)\n",
      "Requirement already satisfied: cycler>=0.10 in c:\\users\\lethi\\appdata\\roaming\\python\\python39\\site-packages (from matplotlib!=3.6.1,>=3.4->seaborn) (0.12.1)\n",
      "Requirement already satisfied: fonttools>=4.22.0 in c:\\users\\lethi\\appdata\\roaming\\python\\python39\\site-packages (from matplotlib!=3.6.1,>=3.4->seaborn) (4.54.1)\n",
      "Requirement already satisfied: kiwisolver>=1.3.1 in c:\\users\\lethi\\appdata\\roaming\\python\\python39\\site-packages (from matplotlib!=3.6.1,>=3.4->seaborn) (1.4.7)\n",
      "Requirement already satisfied: packaging>=20.0 in c:\\users\\lethi\\appdata\\roaming\\python\\python39\\site-packages (from matplotlib!=3.6.1,>=3.4->seaborn) (24.1)\n",
      "Requirement already satisfied: pillow>=8 in c:\\users\\lethi\\appdata\\roaming\\python\\python39\\site-packages (from matplotlib!=3.6.1,>=3.4->seaborn) (10.4.0)\n",
      "Requirement already satisfied: pyparsing>=2.3.1 in c:\\users\\lethi\\appdata\\roaming\\python\\python39\\site-packages (from matplotlib!=3.6.1,>=3.4->seaborn) (3.2.0)\n",
      "Requirement already satisfied: python-dateutil>=2.7 in c:\\users\\lethi\\appdata\\roaming\\python\\python39\\site-packages (from matplotlib!=3.6.1,>=3.4->seaborn) (2.9.0.post0)\n",
      "Requirement already satisfied: importlib-resources>=3.2.0 in c:\\users\\lethi\\appdata\\roaming\\python\\python39\\site-packages (from matplotlib!=3.6.1,>=3.4->seaborn) (6.4.5)\n",
      "Requirement already satisfied: pytz>=2020.1 in c:\\users\\lethi\\appdata\\roaming\\python\\python39\\site-packages (from pandas>=1.2->seaborn) (2024.2)\n",
      "Requirement already satisfied: tzdata>=2022.7 in c:\\users\\lethi\\appdata\\roaming\\python\\python39\\site-packages (from pandas>=1.2->seaborn) (2024.2)\n",
      "Requirement already satisfied: zipp>=3.1.0 in c:\\users\\lethi\\appdata\\roaming\\python\\python39\\site-packages (from importlib-resources>=3.2.0->matplotlib!=3.6.1,>=3.4->seaborn) (3.20.2)\n",
      "Requirement already satisfied: six>=1.5 in c:\\users\\lethi\\appdata\\roaming\\python\\python39\\site-packages (from python-dateutil>=2.7->matplotlib!=3.6.1,>=3.4->seaborn) (1.16.0)\n"
     ]
    }
   ],
   "source": [
    "pip install seaborn"
   ]
  },
  {
   "cell_type": "code",
   "execution_count": null,
   "id": "27ba43044d62016b",
   "metadata": {
    "ExecuteTime": {
     "end_time": "2024-10-17T07:18:00.648166700Z",
     "start_time": "2024-10-17T05:06:23.221957Z"
    }
   },
   "outputs": [
    {
     "data": {
      "text/plain": [
       "<seaborn.axisgrid.FacetGrid at 0x205102f1a00>"
      ]
     },
     "execution_count": 43,
     "metadata": {},
     "output_type": "execute_result"
    },
    {
     "data": {
      "image/png": "[encoded data removed]",
      "text/plain": [
       "<Figure size 511.111x500 with 1 Axes>"
      ]
     },
     "metadata": {},
     "output_type": "display_data"
    }
   ],
   "source": [
    "import matplotlib.pyplot as plt\n",
    "import seaborn as sns\n",
    "import numpy as np\n",
    "%matplotlib inline\n",
    "\n",
    "sns.catplot(x='status', y='count', data=status_freq_pd_df, \n",
    "            kind='bar', order=status_freq_pd_df['status'])"
   ]
  },
  {
   "cell_type": "code",
   "execution_count": null,
   "id": "584a0e04177252a5",
   "metadata": {},
   "outputs": [
    {
     "name": "stdout",
     "output_type": "stream",
     "text": [
      "+------+-------+------------------+\n",
      "|status|  count|        log(count)|\n",
      "+------+-------+------------------+\n",
      "|   200|3100524|14.947081687429097|\n",
      "|   302|  73070|11.199173164785263|\n",
      "|   304| 266773|12.494153388502301|\n",
      "|   400|     15|  2.70805020110221|\n",
      "|   403|    225|  5.41610040220442|\n",
      "|   404|  20899| 9.947456589918252|\n",
      "|   500|     65| 4.174387269895637|\n",
      "|   501|     41| 3.713572066704308|\n",
      "+------+-------+------------------+\n",
      "\n"
     ]
    }
   ],
   "source": [
    "log_freq_df = status_freq_df.withColumn('log(count)', F.log(status_freq_df['count']))\n",
    "log_freq_df.show()"
   ]
  },
  {
   "cell_type": "code",
   "execution_count": null,
   "id": "66226ca3",
   "metadata": {},
   "outputs": [
    {
     "data": {
      "text/plain": [
       "<seaborn.axisgrid.FacetGrid at 0x2052d895430>"
      ]
     },
     "execution_count": 45,
     "metadata": {},
     "output_type": "execute_result"
    },
    {
     "data": {
      "image/png": "[encoded data removed]",
      "text/plain": [
       "<Figure size 511.111x500 with 1 Axes>"
      ]
     },
     "metadata": {},
     "output_type": "display_data"
    }
   ],
   "source": [
    "log_freq_pd_df = (log_freq_df\n",
    "                    .toPandas()\n",
    "                    .sort_values(by=['log(count)'],\n",
    "                                 ascending=False))\n",
    "sns.catplot(x='status', y='log(count)', data=log_freq_pd_df, \n",
    "            kind='bar', order=status_freq_pd_df['status'])"
   ]
  },
  {
   "cell_type": "markdown",
   "id": "4f01aa7e",
   "metadata": {},
   "source": [
    "### Analyzing frequent hosts"
   ]
  },
  {
   "cell_type": "code",
   "execution_count": null,
   "id": "c26144c1",
   "metadata": {},
   "outputs": [
    {
     "name": "stdout",
     "output_type": "stream",
     "text": [
      "+--------------------+-----+\n",
      "|host                |count|\n",
      "+--------------------+-----+\n",
      "|piweba3y.prodigy.com|21988|\n",
      "|piweba4y.prodigy.com|16437|\n",
      "|piweba1y.prodigy.com|12825|\n",
      "|edams.ksc.nasa.gov  |11964|\n",
      "|163.206.89.4        |9697 |\n",
      "|news.ti.com         |8161 |\n",
      "|www-d1.proxy.aol.com|8047 |\n",
      "|alyssa.prodigy.com  |8037 |\n",
      "|                    |7660 |\n",
      "|siltb10.orl.mmc.com |7573 |\n",
      "+--------------------+-----+\n",
      "\n"
     ]
    }
   ],
   "source": [
    "host_sum_df =(logs_df\n",
    "               .groupBy('host')\n",
    "               .count()\n",
    "               .sort('count', ascending=False).limit(10))\n",
    "\n",
    "host_sum_df.show(truncate=False)"
   ]
  },
  {
   "cell_type": "code",
   "execution_count": null,
   "id": "7b543c77",
   "metadata": {},
   "outputs": [
    {
     "data": {
      "text/plain": [
       "''"
      ]
     },
     "execution_count": 47,
     "metadata": {},
     "output_type": "execute_result"
    }
   ],
   "source": [
    "host_sum_df = host_sum_df.toPandas()\n",
    "host_sum_df.iloc[8]['host']"
   ]
  },
  {
   "cell_type": "markdown",
   "id": "2bc5a669",
   "metadata": {},
   "source": [
    "#### Dislay top 20 frequent endpoints"
   ]
  },
  {
   "cell_type": "code",
   "execution_count": null,
   "id": "2a1770cf",
   "metadata": {},
   "outputs": [
    {
     "data": {
      "text/html": [
       "<div>\n",
       "<style scoped>\n",
       "    .dataframe tbody tr th:only-of-type {\n",
       "        vertical-align: middle;\n",
       "    }\n",
       "\n",
       "    .dataframe tbody tr th {\n",
       "        vertical-align: top;\n",
       "    }\n",
       "\n",
       "    .dataframe thead th {\n",
       "        text-align: right;\n",
       "    }\n",
       "</style>\n",
       "<table border=\"1\" class=\"dataframe\">\n",
       "  <thead>\n",
       "    <tr style=\"text-align: right;\">\n",
       "      <th></th>\n",
       "      <th>endpoint</th>\n",
       "      <th>count</th>\n",
       "    </tr>\n",
       "  </thead>\n",
       "  <tbody>\n",
       "    <tr>\n",
       "      <th>0</th>\n",
       "      <td>/images/NASA-logosmall.gif</td>\n",
       "      <td>208714</td>\n",
       "    </tr>\n",
       "    <tr>\n",
       "      <th>1</th>\n",
       "      <td>/images/KSC-logosmall.gif</td>\n",
       "      <td>164970</td>\n",
       "    </tr>\n",
       "    <tr>\n",
       "      <th>2</th>\n",
       "      <td>/images/MOSAIC-logosmall.gif</td>\n",
       "      <td>127908</td>\n",
       "    </tr>\n",
       "    <tr>\n",
       "      <th>3</th>\n",
       "      <td>/images/USA-logosmall.gif</td>\n",
       "      <td>127074</td>\n",
       "    </tr>\n",
       "    <tr>\n",
       "      <th>4</th>\n",
       "      <td>/images/WORLD-logosmall.gif</td>\n",
       "      <td>125925</td>\n",
       "    </tr>\n",
       "    <tr>\n",
       "      <th>5</th>\n",
       "      <td>/images/ksclogo-medium.gif</td>\n",
       "      <td>121572</td>\n",
       "    </tr>\n",
       "    <tr>\n",
       "      <th>6</th>\n",
       "      <td>/ksc.html</td>\n",
       "      <td>83909</td>\n",
       "    </tr>\n",
       "    <tr>\n",
       "      <th>7</th>\n",
       "      <td>/images/launch-logo.gif</td>\n",
       "      <td>76006</td>\n",
       "    </tr>\n",
       "    <tr>\n",
       "      <th>8</th>\n",
       "      <td>/history/apollo/images/apollo-logo1.gif</td>\n",
       "      <td>68896</td>\n",
       "    </tr>\n",
       "    <tr>\n",
       "      <th>9</th>\n",
       "      <td>/shuttle/countdown/</td>\n",
       "      <td>64736</td>\n",
       "    </tr>\n",
       "    <tr>\n",
       "      <th>10</th>\n",
       "      <td>/</td>\n",
       "      <td>63171</td>\n",
       "    </tr>\n",
       "    <tr>\n",
       "      <th>11</th>\n",
       "      <td>/images/ksclogosmall.gif</td>\n",
       "      <td>61393</td>\n",
       "    </tr>\n",
       "    <tr>\n",
       "      <th>12</th>\n",
       "      <td>/shuttle/missions/missions.html</td>\n",
       "      <td>47315</td>\n",
       "    </tr>\n",
       "    <tr>\n",
       "      <th>13</th>\n",
       "      <td>/images/launchmedium.gif</td>\n",
       "      <td>40687</td>\n",
       "    </tr>\n",
       "    <tr>\n",
       "      <th>14</th>\n",
       "      <td>/htbin/cdt_main.pl</td>\n",
       "      <td>39871</td>\n",
       "    </tr>\n",
       "    <tr>\n",
       "      <th>15</th>\n",
       "      <td>/shuttle/missions/sts-69/mission-sts-69.html</td>\n",
       "      <td>31574</td>\n",
       "    </tr>\n",
       "    <tr>\n",
       "      <th>16</th>\n",
       "      <td>/shuttle/countdown/liftoff.html</td>\n",
       "      <td>29865</td>\n",
       "    </tr>\n",
       "    <tr>\n",
       "      <th>17</th>\n",
       "      <td>/icons/menu.xbm</td>\n",
       "      <td>29190</td>\n",
       "    </tr>\n",
       "    <tr>\n",
       "      <th>18</th>\n",
       "      <td>/shuttle/missions/sts-69/sts-69-patch-small.gif</td>\n",
       "      <td>29118</td>\n",
       "    </tr>\n",
       "    <tr>\n",
       "      <th>19</th>\n",
       "      <td>/icons/blank.xbm</td>\n",
       "      <td>28852</td>\n",
       "    </tr>\n",
       "  </tbody>\n",
       "</table>\n",
       "</div>"
      ],
      "text/plain": [
       "                                           endpoint   count\n",
       "0                        /images/NASA-logosmall.gif  208714\n",
       "1                         /images/KSC-logosmall.gif  164970\n",
       "2                      /images/MOSAIC-logosmall.gif  127908\n",
       "3                         /images/USA-logosmall.gif  127074\n",
       "4                       /images/WORLD-logosmall.gif  125925\n",
       "5                        /images/ksclogo-medium.gif  121572\n",
       "6                                         /ksc.html   83909\n",
       "7                           /images/launch-logo.gif   76006\n",
       "8           /history/apollo/images/apollo-logo1.gif   68896\n",
       "9                               /shuttle/countdown/   64736\n",
       "10                                                /   63171\n",
       "11                         /images/ksclogosmall.gif   61393\n",
       "12                  /shuttle/missions/missions.html   47315\n",
       "13                         /images/launchmedium.gif   40687\n",
       "14                               /htbin/cdt_main.pl   39871\n",
       "15     /shuttle/missions/sts-69/mission-sts-69.html   31574\n",
       "16                  /shuttle/countdown/liftoff.html   29865\n",
       "17                                  /icons/menu.xbm   29190\n",
       "18  /shuttle/missions/sts-69/sts-69-patch-small.gif   29118\n",
       "19                                 /icons/blank.xbm   28852"
      ]
     },
     "execution_count": 48,
     "metadata": {},
     "output_type": "execute_result"
    }
   ],
   "source": [
    "paths_df = (logs_df\n",
    "            .groupBy('endpoint')\n",
    "            .count()\n",
    "            .sort('count', ascending=False).limit(20))\n",
    "paths_pd_df = paths_df.toPandas()\n",
    "paths_pd_df"
   ]
  },
  {
   "cell_type": "markdown",
   "id": "7e17e03c",
   "metadata": {},
   "source": [
    "#### Top 10 error endpoints"
   ]
  },
  {
   "cell_type": "code",
   "execution_count": null,
   "id": "7f2c0312",
   "metadata": {},
   "outputs": [
    {
     "name": "stdout",
     "output_type": "stream",
     "text": [
      "+---------------------------------------+-----+\n",
      "|endpoint                               |count|\n",
      "+---------------------------------------+-----+\n",
      "|/images/NASA-logosmall.gif             |40082|\n",
      "|/images/KSC-logosmall.gif              |23763|\n",
      "|/images/MOSAIC-logosmall.gif           |15245|\n",
      "|/images/USA-logosmall.gif              |15142|\n",
      "|/images/WORLD-logosmall.gif            |14773|\n",
      "|/images/ksclogo-medium.gif             |13559|\n",
      "|/images/launch-logo.gif                |8806 |\n",
      "|/history/apollo/images/apollo-logo1.gif|7489 |\n",
      "|/                                      |6296 |\n",
      "|/images/ksclogosmall.gif               |5669 |\n",
      "+---------------------------------------+-----+\n",
      "\n"
     ]
    }
   ],
   "source": [
    "not200_df = (logs_df\n",
    "               .filter(logs_df['status'] != 200))\n",
    "\n",
    "error_endpoints_freq_df = (not200_df\n",
    "                               .groupBy('endpoint')\n",
    "                               .count()\n",
    "                               .sort('count', ascending=False)\n",
    "                               .limit(10)\n",
    "                          )\n",
    "\n",
    "error_endpoints_freq_df.show(truncate=False)"
   ]
  },
  {
   "cell_type": "markdown",
   "id": "7c4ecd56",
   "metadata": {},
   "source": [
    "#### Total number of Unique Hosts"
   ]
  },
  {
   "cell_type": "code",
   "execution_count": null,
   "id": "77c8b06e",
   "metadata": {},
   "outputs": [
    {
     "data": {
      "text/plain": [
       "137934"
      ]
     },
     "execution_count": 50,
     "metadata": {},
     "output_type": "execute_result"
    }
   ],
   "source": [
    "unique_host_count = (logs_df.select('host').distinct().count())\n",
    "unique_host_count"
   ]
  },
  {
   "cell_type": "markdown",
   "id": "b556d7aa",
   "metadata": {},
   "source": [
    "#### Number of unique daily hosts"
   ]
  },
  {
   "cell_type": "code",
   "execution_count": null,
   "id": "141f20cc",
   "metadata": {},
   "outputs": [
    {
     "name": "stdout",
     "output_type": "stream",
     "text": [
      "+--------------------+---+\n",
      "|host                |day|\n",
      "+--------------------+---+\n",
      "|199.72.81.55        |1  |\n",
      "|unicomp6.unicomp.net|1  |\n",
      "|199.120.110.21      |1  |\n",
      "|burger.letters.com  |1  |\n",
      "|199.120.110.21      |1  |\n",
      "+--------------------+---+\n",
      "only showing top 5 rows\n",
      "\n"
     ]
    }
   ],
   "source": [
    "host_day_df = logs_df.select(logs_df.host, \n",
    "                             F.dayofmonth('time').alias('day'))\n",
    "host_day_df.show(5, truncate=False)"
   ]
  },
  {
   "cell_type": "code",
   "execution_count": null,
   "id": "bd3b671d",
   "metadata": {},
   "outputs": [
    {
     "name": "stdout",
     "output_type": "stream",
     "text": [
      "+-----------------------+---+\n",
      "|host                   |day|\n",
      "+-----------------------+---+\n",
      "|129.94.144.152         |1  |\n",
      "|slip1.yab.com          |1  |\n",
      "|205.184.190.47         |1  |\n",
      "|204.120.34.71          |1  |\n",
      "|ppp3_130.bekkoame.or.jp|1  |\n",
      "+-----------------------+---+\n",
      "only showing top 5 rows\n",
      "\n"
     ]
    }
   ],
   "source": [
    "host_day_distinct_df = (host_day_df\n",
    "                          .dropDuplicates())\n",
    "host_day_distinct_df.show(5, truncate=False)"
   ]
  },
  {
   "cell_type": "markdown",
   "id": "8cb000d4",
   "metadata": {},
   "source": [
    "#### Average number of daily requests per host"
   ]
  },
  {
   "cell_type": "code",
   "execution_count": null,
   "id": "4cafe246",
   "metadata": {},
   "outputs": [
    {
     "data": {
      "text/html": [
       "<div>\n",
       "<style scoped>\n",
       "    .dataframe tbody tr th:only-of-type {\n",
       "        vertical-align: middle;\n",
       "    }\n",
       "\n",
       "    .dataframe tbody tr th {\n",
       "        vertical-align: top;\n",
       "    }\n",
       "\n",
       "    .dataframe thead th {\n",
       "        text-align: right;\n",
       "    }\n",
       "</style>\n",
       "<table border=\"1\" class=\"dataframe\">\n",
       "  <thead>\n",
       "    <tr style=\"text-align: right;\">\n",
       "      <th></th>\n",
       "      <th>day</th>\n",
       "      <th>total_reqs</th>\n",
       "      <th>total_hosts</th>\n",
       "      <th>avg_reqs</th>\n",
       "    </tr>\n",
       "  </thead>\n",
       "  <tbody>\n",
       "    <tr>\n",
       "      <th>0</th>\n",
       "      <td>1</td>\n",
       "      <td>98710</td>\n",
       "      <td>7610</td>\n",
       "      <td>12.971091</td>\n",
       "    </tr>\n",
       "    <tr>\n",
       "      <th>1</th>\n",
       "      <td>2</td>\n",
       "      <td>60265</td>\n",
       "      <td>4858</td>\n",
       "      <td>12.405311</td>\n",
       "    </tr>\n",
       "    <tr>\n",
       "      <th>2</th>\n",
       "      <td>3</td>\n",
       "      <td>130972</td>\n",
       "      <td>10238</td>\n",
       "      <td>12.792733</td>\n",
       "    </tr>\n",
       "    <tr>\n",
       "      <th>3</th>\n",
       "      <td>4</td>\n",
       "      <td>130009</td>\n",
       "      <td>9411</td>\n",
       "      <td>13.814579</td>\n",
       "    </tr>\n",
       "    <tr>\n",
       "      <th>4</th>\n",
       "      <td>5</td>\n",
       "      <td>126468</td>\n",
       "      <td>9640</td>\n",
       "      <td>13.119087</td>\n",
       "    </tr>\n",
       "    <tr>\n",
       "      <th>5</th>\n",
       "      <td>6</td>\n",
       "      <td>133380</td>\n",
       "      <td>10133</td>\n",
       "      <td>13.162933</td>\n",
       "    </tr>\n",
       "    <tr>\n",
       "      <th>6</th>\n",
       "      <td>7</td>\n",
       "      <td>144595</td>\n",
       "      <td>10048</td>\n",
       "      <td>14.390426</td>\n",
       "    </tr>\n",
       "    <tr>\n",
       "      <th>7</th>\n",
       "      <td>8</td>\n",
       "      <td>99024</td>\n",
       "      <td>7112</td>\n",
       "      <td>13.923510</td>\n",
       "    </tr>\n",
       "    <tr>\n",
       "      <th>8</th>\n",
       "      <td>9</td>\n",
       "      <td>95730</td>\n",
       "      <td>6699</td>\n",
       "      <td>14.290193</td>\n",
       "    </tr>\n",
       "    <tr>\n",
       "      <th>9</th>\n",
       "      <td>10</td>\n",
       "      <td>134108</td>\n",
       "      <td>8532</td>\n",
       "      <td>15.718237</td>\n",
       "    </tr>\n",
       "    <tr>\n",
       "      <th>10</th>\n",
       "      <td>11</td>\n",
       "      <td>141653</td>\n",
       "      <td>8786</td>\n",
       "      <td>16.122581</td>\n",
       "    </tr>\n",
       "    <tr>\n",
       "      <th>11</th>\n",
       "      <td>12</td>\n",
       "      <td>130607</td>\n",
       "      <td>8135</td>\n",
       "      <td>16.054948</td>\n",
       "    </tr>\n",
       "    <tr>\n",
       "      <th>12</th>\n",
       "      <td>13</td>\n",
       "      <td>170683</td>\n",
       "      <td>9567</td>\n",
       "      <td>17.840807</td>\n",
       "    </tr>\n",
       "    <tr>\n",
       "      <th>13</th>\n",
       "      <td>14</td>\n",
       "      <td>143981</td>\n",
       "      <td>9302</td>\n",
       "      <td>15.478499</td>\n",
       "    </tr>\n",
       "    <tr>\n",
       "      <th>14</th>\n",
       "      <td>15</td>\n",
       "      <td>104379</td>\n",
       "      <td>7126</td>\n",
       "      <td>14.647628</td>\n",
       "    </tr>\n",
       "    <tr>\n",
       "      <th>15</th>\n",
       "      <td>16</td>\n",
       "      <td>104507</td>\n",
       "      <td>7143</td>\n",
       "      <td>14.630687</td>\n",
       "    </tr>\n",
       "    <tr>\n",
       "      <th>16</th>\n",
       "      <td>17</td>\n",
       "      <td>133969</td>\n",
       "      <td>8840</td>\n",
       "      <td>15.154864</td>\n",
       "    </tr>\n",
       "    <tr>\n",
       "      <th>17</th>\n",
       "      <td>18</td>\n",
       "      <td>120528</td>\n",
       "      <td>8262</td>\n",
       "      <td>14.588235</td>\n",
       "    </tr>\n",
       "    <tr>\n",
       "      <th>18</th>\n",
       "      <td>19</td>\n",
       "      <td>104832</td>\n",
       "      <td>7237</td>\n",
       "      <td>14.485560</td>\n",
       "    </tr>\n",
       "    <tr>\n",
       "      <th>19</th>\n",
       "      <td>20</td>\n",
       "      <td>99556</td>\n",
       "      <td>7072</td>\n",
       "      <td>14.077489</td>\n",
       "    </tr>\n",
       "    <tr>\n",
       "      <th>20</th>\n",
       "      <td>21</td>\n",
       "      <td>120169</td>\n",
       "      <td>8036</td>\n",
       "      <td>14.953833</td>\n",
       "    </tr>\n",
       "    <tr>\n",
       "      <th>21</th>\n",
       "      <td>22</td>\n",
       "      <td>93029</td>\n",
       "      <td>6828</td>\n",
       "      <td>13.624634</td>\n",
       "    </tr>\n",
       "    <tr>\n",
       "      <th>22</th>\n",
       "      <td>23</td>\n",
       "      <td>97296</td>\n",
       "      <td>6797</td>\n",
       "      <td>14.314551</td>\n",
       "    </tr>\n",
       "    <tr>\n",
       "      <th>23</th>\n",
       "      <td>24</td>\n",
       "      <td>116811</td>\n",
       "      <td>7946</td>\n",
       "      <td>14.700604</td>\n",
       "    </tr>\n",
       "    <tr>\n",
       "      <th>24</th>\n",
       "      <td>25</td>\n",
       "      <td>120020</td>\n",
       "      <td>8333</td>\n",
       "      <td>14.402976</td>\n",
       "    </tr>\n",
       "    <tr>\n",
       "      <th>25</th>\n",
       "      <td>26</td>\n",
       "      <td>90457</td>\n",
       "      <td>6741</td>\n",
       "      <td>13.418929</td>\n",
       "    </tr>\n",
       "    <tr>\n",
       "      <th>26</th>\n",
       "      <td>27</td>\n",
       "      <td>94503</td>\n",
       "      <td>6846</td>\n",
       "      <td>13.804119</td>\n",
       "    </tr>\n",
       "    <tr>\n",
       "      <th>27</th>\n",
       "      <td>28</td>\n",
       "      <td>82617</td>\n",
       "      <td>6090</td>\n",
       "      <td>13.566010</td>\n",
       "    </tr>\n",
       "    <tr>\n",
       "      <th>28</th>\n",
       "      <td>29</td>\n",
       "      <td>67988</td>\n",
       "      <td>4825</td>\n",
       "      <td>14.090777</td>\n",
       "    </tr>\n",
       "    <tr>\n",
       "      <th>29</th>\n",
       "      <td>30</td>\n",
       "      <td>80641</td>\n",
       "      <td>5265</td>\n",
       "      <td>15.316429</td>\n",
       "    </tr>\n",
       "    <tr>\n",
       "      <th>30</th>\n",
       "      <td>31</td>\n",
       "      <td>90125</td>\n",
       "      <td>5913</td>\n",
       "      <td>15.241840</td>\n",
       "    </tr>\n",
       "  </tbody>\n",
       "</table>\n",
       "</div>"
      ],
      "text/plain": [
       "    day  total_reqs  total_hosts   avg_reqs\n",
       "0     1       98710         7610  12.971091\n",
       "1     2       60265         4858  12.405311\n",
       "2     3      130972        10238  12.792733\n",
       "3     4      130009         9411  13.814579\n",
       "4     5      126468         9640  13.119087\n",
       "5     6      133380        10133  13.162933\n",
       "6     7      144595        10048  14.390426\n",
       "7     8       99024         7112  13.923510\n",
       "8     9       95730         6699  14.290193\n",
       "9    10      134108         8532  15.718237\n",
       "10   11      141653         8786  16.122581\n",
       "11   12      130607         8135  16.054948\n",
       "12   13      170683         9567  17.840807\n",
       "13   14      143981         9302  15.478499\n",
       "14   15      104379         7126  14.647628\n",
       "15   16      104507         7143  14.630687\n",
       "16   17      133969         8840  15.154864\n",
       "17   18      120528         8262  14.588235\n",
       "18   19      104832         7237  14.485560\n",
       "19   20       99556         7072  14.077489\n",
       "20   21      120169         8036  14.953833\n",
       "21   22       93029         6828  13.624634\n",
       "22   23       97296         6797  14.314551\n",
       "23   24      116811         7946  14.700604\n",
       "24   25      120020         8333  14.402976\n",
       "25   26       90457         6741  13.418929\n",
       "26   27       94503         6846  13.804119\n",
       "27   28       82617         6090  13.566010\n",
       "28   29       67988         4825  14.090777\n",
       "29   30       80641         5265  15.316429\n",
       "30   31       90125         5913  15.241840"
      ]
     },
     "execution_count": 53,
     "metadata": {},
     "output_type": "execute_result"
    }
   ],
   "source": [
    "daily_hosts_df = (host_day_distinct_df\n",
    "                     .groupBy('day')\n",
    "                     .count()\n",
    "                     .select(col(\"day\"), \n",
    "                                      col(\"count\").alias(\"total_hosts\")))\n",
    "\n",
    "total_daily_reqests_df = (logs_df\n",
    "                              .select(F.dayofmonth(\"time\")\n",
    "                                          .alias(\"day\"))\n",
    "                              .groupBy(\"day\")\n",
    "                              .count()\n",
    "                              .select(col(\"day\"), \n",
    "                                      col(\"count\").alias(\"total_reqs\")))\n",
    "\n",
    "avg_daily_reqests_per_host_df = total_daily_reqests_df.join(daily_hosts_df, 'day')\n",
    "avg_daily_reqests_per_host_df = (avg_daily_reqests_per_host_df\n",
    "                                    .withColumn('avg_reqs', col('total_reqs') / col('total_hosts'))\n",
    "                                    .sort(\"day\"))\n",
    "avg_daily_reqests_per_host_df = avg_daily_reqests_per_host_df.toPandas()\n",
    "avg_daily_reqests_per_host_df"
   ]
  },
  {
   "cell_type": "code",
   "execution_count": null,
   "id": "ccb40e30",
   "metadata": {},
   "outputs": [
    {
     "data": {
      "image/png": "[encoded data removed]",
      "text/plain": [
       "<Figure size 761.111x500 with 1 Axes>"
      ]
     },
     "metadata": {},
     "output_type": "display_data"
    }
   ],
   "source": [
    "c = sns.catplot(x='day', y='avg_reqs', \n",
    "                data=avg_daily_reqests_per_host_df, \n",
    "                kind='point', height=5, aspect=1.5)"
   ]
  },
  {
   "cell_type": "code",
   "execution_count": null,
   "id": "0aad3de6",
   "metadata": {},
   "outputs": [
    {
     "name": "stdout",
     "output_type": "stream",
     "text": [
      "Defaulting to user installation because normal site-packages is not writeable\n",
      "Collecting scikit-learn\n",
      "  Downloading scikit_learn-1.5.2-cp39-cp39-win_amd64.whl.metadata (13 kB)\n",
      "Requirement already satisfied: numpy>=1.19.5 in c:\\users\\lethi\\appdata\\roaming\\python\\python39\\site-packages (from scikit-learn) (2.0.2)\n",
      "Requirement already satisfied: scipy>=1.6.0 in c:\\users\\lethi\\appdata\\roaming\\python\\python39\\site-packages (from scikit-learn) (1.13.1)\n",
      "Requirement already satisfied: joblib>=1.2.0 in c:\\users\\lethi\\appdata\\roaming\\python\\python39\\site-packages (from scikit-learn) (1.4.2)\n",
      "Collecting threadpoolctl>=3.1.0 (from scikit-learn)\n",
      "  Using cached threadpoolctl-3.5.0-py3-none-any.whl.metadata (13 kB)\n",
      "Downloading scikit_learn-1.5.2-cp39-cp39-win_amd64.whl (11.0 MB)\n",
      "   ---------------------------------------- 0.0/11.0 MB ? eta -:--:--\n",
      "    --------------------------------------- 0.3/11.0 MB ? eta -:--:--\n",
      "   --- ------------------------------------ 1.0/11.0 MB 3.1 MB/s eta 0:00:04\n",
      "   ------ --------------------------------- 1.8/11.0 MB 3.6 MB/s eta 0:00:03\n",
      "   -------- ------------------------------- 2.4/11.0 MB 3.4 MB/s eta 0:00:03\n",
      "   ------------ --------------------------- 3.4/11.0 MB 3.7 MB/s eta 0:00:03\n",
      "   --------------- ------------------------ 4.2/11.0 MB 3.7 MB/s eta 0:00:02\n",
      "   ------------------ --------------------- 5.0/11.0 MB 3.7 MB/s eta 0:00:02\n",
      "   -------------------- ------------------- 5.8/11.0 MB 3.7 MB/s eta 0:00:02\n",
      "   ------------------------ --------------- 6.8/11.0 MB 3.8 MB/s eta 0:00:02\n",
      "   ---------------------------- ----------- 7.9/11.0 MB 3.9 MB/s eta 0:00:01\n",
      "   -------------------------------- ------- 8.9/11.0 MB 4.0 MB/s eta 0:00:01\n",
      "   ----------------------------------- ---- 9.7/11.0 MB 3.9 MB/s eta 0:00:01\n",
      "   -------------------------------------- - 10.5/11.0 MB 4.0 MB/s eta 0:00:01\n",
      "   ---------------------------------------- 11.0/11.0 MB 3.9 MB/s eta 0:00:00\n",
      "Using cached threadpoolctl-3.5.0-py3-none-any.whl (18 kB)\n",
      "Installing collected packages: threadpoolctl, scikit-learn\n",
      "Successfully installed scikit-learn-1.5.2 threadpoolctl-3.5.0\n",
      "Note: you may need to restart the kernel to use updated packages.\n"
     ]
    }
   ],
   "source": [
    "pip install scikit-learn"
   ]
  },
  {
   "cell_type": "markdown",
   "id": "db670c6a",
   "metadata": {},
   "source": [
    "### Machine learning segmentation model"
   ]
  },
  {
   "cell_type": "code",
   "execution_count": null,
   "id": "d1c581fc",
   "metadata": {},
   "outputs": [],
   "source": [
    "from pyspark.ml.feature import VectorAssembler, StandardScaler\n",
    "from pyspark.ml.clustering import KMeans, BisectingKMeans\n",
    "from pyspark.ml.evaluation import ClusteringEvaluator\n",
    "from pyspark.ml.feature import PCA\n",
    "from sklearn.metrics import silhouette_score\n",
    "import numpy as np\n",
    "\n",
    "class WebLogML:\n",
    "    def __init__(self, logs_df):\n",
    "        self.logs_df = logs_df\n",
    "        self.feature_columns = None\n",
    "        self.model = None\n",
    "        self.scaler = None\n",
    "        \n",
    "    def extract_features(self):\n",
    "        \"\"\"Extract and prepare features for machine learning\"\"\"\n",
    "        # Create behavioral features\n",
    "        user_features = self.logs_df.groupBy('host').agg(\n",
    "            # Volume metrics\n",
    "            F.count('*').alias('total_requests'),\n",
    "            F.countDistinct('endpoint').alias('unique_pages'),\n",
    "            \n",
    "            # Time-based features\n",
    "            F.countDistinct(F.hour('time')).alias('active_hours'),\n",
    "            F.countDistinct(F.dayofmonth('time')).alias('active_days'),\n",
    "            \n",
    "            # Performance metrics\n",
    "            F.avg('content_size').alias('avg_content_size'),\n",
    "            F.stddev('content_size').alias('std_content_size'),\n",
    "            \n",
    "            # Error metrics\n",
    "            F.sum(F.when(F.col('status') >= 400, 1).otherwise(0)).alias('error_count'),\n",
    "            \n",
    "            # Session metrics\n",
    "            F.avg(F.unix_timestamp('time')\n",
    "                  .cast('double')).alias('avg_timestamp')\n",
    "        )\n",
    "        \n",
    "        # Calculate derived features\n",
    "        user_features = user_features.withColumn(\n",
    "            'error_rate',\n",
    "            F.col('error_count') / F.col('total_requests')\n",
    "        ).withColumn(\n",
    "            'requests_per_day',\n",
    "            F.col('total_requests') / F.col('active_days')\n",
    "        )\n",
    "        \n",
    "        self.feature_columns = [\n",
    "            'total_requests',\n",
    "            'unique_pages',\n",
    "            'active_hours',\n",
    "            'avg_content_size',\n",
    "            'std_content_size',\n",
    "            'error_rate',\n",
    "            'requests_per_day'\n",
    "        ]\n",
    "        \n",
    "        return user_features\n",
    "    \n",
    "    def prepare_ml_features(self, user_features):\n",
    "        \"\"\"Prepare features for machine learning\"\"\"\n",
    "        # Assemble features into vector\n",
    "        assembler = VectorAssembler(\n",
    "            inputCols=self.feature_columns,\n",
    "            outputCol='raw_features'\n",
    "        )\n",
    "        \n",
    "        # Scale features\n",
    "        scaler = StandardScaler(\n",
    "            inputCol='raw_features',\n",
    "            outputCol='scaled_features',\n",
    "            withStd=True,\n",
    "            withMean=True\n",
    "        )\n",
    "        \n",
    "        # Dimensionality reduction with PCA\n",
    "        pca = PCA(\n",
    "            k=3,\n",
    "            inputCol='scaled_features',\n",
    "            outputCol='features'\n",
    "        )\n",
    "        \n",
    "        # Transform data\n",
    "        vectorized = assembler.transform(user_features)\n",
    "        scaled = scaler.fit(vectorized).transform(vectorized)\n",
    "        features = pca.fit(scaled).transform(scaled)\n",
    "        \n",
    "        return features\n",
    "    \n",
    "    def train_kmeans(self, features, k=4):\n",
    "        \"\"\"Train K-means clustering model\"\"\"\n",
    "        kmeans = KMeans(\n",
    "            k=k,\n",
    "            seed=42,\n",
    "            featuresCol='features',\n",
    "            predictionCol='segment'\n",
    "        )\n",
    "        \n",
    "        self.model = kmeans.fit(features)\n",
    "        return self.model\n",
    "    \n",
    "    def evaluate_model(self, features):\n",
    "        \"\"\"Evaluate clustering model\"\"\"\n",
    "        predictions = self.model.transform(features)\n",
    "        \n",
    "        # Calculate silhouette score\n",
    "        evaluator = ClusteringEvaluator(\n",
    "            predictionCol='segment',\n",
    "            featuresCol='features',\n",
    "            metricName='silhouette'\n",
    "        )\n",
    "        silhouette = evaluator.evaluate(predictions)\n",
    "        \n",
    "        # Calculate within-cluster sum of squares\n",
    "        wssse = self.model.computeCost(features)\n",
    "        \n",
    "        # Calculate cluster sizes\n",
    "        cluster_sizes = predictions.groupBy('segment').count().toPandas()\n",
    "        \n",
    "        return {\n",
    "            'silhouette_score': silhouette,\n",
    "            'wssse': wssse,\n",
    "            'cluster_sizes': cluster_sizes\n",
    "        }\n",
    "    \n",
    "    def analyze_clusters(self, features):\n",
    "        \"\"\"Analyze cluster characteristics\"\"\"\n",
    "        predictions = self.model.transform(features)\n",
    "        \n",
    "        # Calculate cluster centers\n",
    "        centers = pd.DataFrame(\n",
    "            self.model.clusterCenters(),\n",
    "            columns=self.feature_columns\n",
    "        )\n",
    "        \n",
    "        # Calculate feature importance\n",
    "        feature_importance = pd.DataFrame({\n",
    "            'feature': self.feature_columns,\n",
    "            'importance': np.abs(centers).mean(axis=0)\n",
    "        }).sort_values('importance', ascending=False)\n",
    "        \n",
    "        # Analyze cluster separation\n",
    "        cluster_separation = self.calculate_cluster_separation(centers)\n",
    "        \n",
    "        return {\n",
    "            'centers': centers,\n",
    "            'feature_importance': feature_importance,\n",
    "            'cluster_separation': cluster_separation\n",
    "        }\n",
    "    \n",
    "    def calculate_cluster_separation(self, centers):\n",
    "        \"\"\"Calculate separation between clusters\"\"\"\n",
    "        n_clusters = len(centers)\n",
    "        separation = np.zeros((n_clusters, n_clusters))\n",
    "        \n",
    "        for i in range(n_clusters):\n",
    "            for j in range(n_clusters):\n",
    "                separation[i,j] = np.linalg.norm(\n",
    "                    centers.iloc[i] - centers.iloc[j]\n",
    "                )\n",
    "        \n",
    "        return pd.DataFrame(\n",
    "            separation,\n",
    "            index=range(n_clusters),\n",
    "            columns=range(n_clusters)\n",
    "        )\n",
    "\n",
    "def train_and_analyze_ml_model(logs_df):\n",
    "    \"\"\"Complete machine learning pipeline\"\"\"\n",
    "    # Initialize ML pipeline\n",
    "    ml_pipeline = WebLogML(logs_df)\n",
    "    \n",
    "    # Extract features\n",
    "    print(\"Extracting features...\")\n",
    "    user_features = ml_pipeline.extract_features()\n",
    "    \n",
    "    # Prepare features for ML\n",
    "    print(\"Preparing features for machine learning...\")\n",
    "    ml_features = ml_pipeline.prepare_ml_features(user_features)\n",
    "    \n",
    "    # Train model\n",
    "    print(\"Training K-means model...\")\n",
    "    model = ml_pipeline.train_kmeans(ml_features)\n",
    "    \n",
    "    # Evaluate model\n",
    "    print(\"Evaluating model...\")\n",
    "    evaluation = ml_pipeline.evaluate_model(ml_features)\n",
    "    print(f\"Silhouette Score: {evaluation['silhouette_score']:.3f}\")\n",
    "    print(f\"WSSSE: {evaluation['wssse']:.3f}\")\n",
    "    \n",
    "    # Analyze clusters\n",
    "    print(\"Analyzing clusters...\")\n",
    "    analysis = ml_pipeline.analyze_clusters(ml_features)\n",
    "    \n",
    "    return {\n",
    "        'model': model,\n",
    "        'evaluation': evaluation,\n",
    "        'analysis': analysis,\n",
    "        'features': ml_features\n",
    "    }"
   ]
  },
  {
   "cell_type": "code",
   "execution_count": null,
   "id": "5993edf9",
   "metadata": {},
   "outputs": [],
   "source": [
    "# Alternative clustering algorithms\n",
    "def train_alternative_models(features):\n",
    "    models = {\n",
    "        'kmeans': KMeans(k=4),\n",
    "        'bisecting_kmeans': BisectingKMeans(k=4),\n",
    "        'gaussian_mixture': GaussianMixture(k=4)\n",
    "    }\n",
    "    \n",
    "    results = {}\n",
    "    for name, model in models.items():\n",
    "        model_fit = model.fit(features)\n",
    "        results[name] = {\n",
    "            'model': model_fit,\n",
    "            'evaluation': evaluate_model(model_fit, features)\n",
    "        }\n",
    "    return results"
   ]
  },
  {
   "cell_type": "code",
   "execution_count": null,
   "id": "51ee60f7",
   "metadata": {},
   "outputs": [],
   "source": [
    "def detect_anomalies(features):\n",
    "    # Isolation Forest for anomaly detection\n",
    "    from sklearn.ensemble import IsolationForest\n",
    "    \n",
    "    iso_forest = IsolationForest(contamination=0.1)\n",
    "    anomalies = iso_forest.fit_predict(features)\n",
    "    return anomalies"
   ]
  },
  {
   "cell_type": "code",
   "execution_count": null,
   "id": "7f4f2210",
   "metadata": {},
   "outputs": [],
   "source": [
    "def predict_user_behavior(historical_data):\n",
    "    # Time series prediction\n",
    "    from prophet import Prophet\n",
    "    \n",
    "    model = Prophet()\n",
    "    model.fit(historical_data)\n",
    "    future = model.make_future_dataframe(periods=30)\n",
    "    forecast = model.predict(future)\n",
    "    return forecast"
   ]
  },
  {
   "cell_type": "code",
   "execution_count": null,
   "id": "d1fdc885",
   "metadata": {},
   "outputs": [
    {
     "data": {
      "image/png": "[encoded data removed]",
      "text/plain": [
       "<Figure size 1500x500 with 2 Axes>"
      ]
     },
     "metadata": {},
     "output_type": "display_data"
    }
   ],
   "source": [
    "from sklearn.cluster import KMeans\n",
    "from sklearn.metrics import silhouette_samples, silhouette_score\n",
    "import pandas as pd\n",
    "\n",
    "def plot_model_performance(avg_daily_reqests_per_host_df):\n",
    "    # Prepare data for clustering\n",
    "    X = avg_daily_reqests_per_host_df[['avg_reqs', 'total_reqs', 'total_hosts']]\n",
    "    \n",
    "    # Perform k-means clustering\n",
    "    n_clusters = 4  # You can adjust this number\n",
    "    kmeans = KMeans(n_clusters=n_clusters, random_state=42)\n",
    "    cluster_labels = kmeans.fit_predict(X)\n",
    "    \n",
    "    # Calculate silhouette scores\n",
    "    silhouette_avg = silhouette_score(X, cluster_labels)\n",
    "    silhouette_values = silhouette_samples(X, cluster_labels)\n",
    "    \n",
    "    # Create evaluation data\n",
    "    cluster_silhouettes = pd.DataFrame({\n",
    "        'segment': range(n_clusters),\n",
    "        'silhouette': [np.mean(silhouette_values[cluster_labels == i]) \n",
    "                      for i in range(n_clusters)]\n",
    "    })\n",
    "    \n",
    "    cluster_sizes = pd.DataFrame({\n",
    "        'segment': range(n_clusters),\n",
    "        'count': [np.sum(cluster_labels == i) for i in range(n_clusters)]\n",
    "    })\n",
    "    \n",
    "    # Create plots\n",
    "    fig, (ax1, ax2) = plt.subplots(1, 2, figsize=(15, 5))\n",
    "    \n",
    "    # Silhouette score by cluster\n",
    "    sns.barplot(x='segment', y='silhouette', \n",
    "               data=cluster_silhouettes, ax=ax1)\n",
    "    ax1.set_title('Silhouette Score by Cluster')\n",
    "    ax1.set_xlabel('Cluster')\n",
    "    ax1.set_ylabel('Silhouette Score')\n",
    "    \n",
    "    # Cluster sizes\n",
    "    sns.barplot(x='segment', y='count', \n",
    "               data=cluster_sizes, ax=ax2)\n",
    "    ax2.set_title('Cluster Sizes')\n",
    "    ax2.set_xlabel('Cluster')\n",
    "    ax2.set_ylabel('Number of Days')\n",
    "    \n",
    "    plt.tight_layout()\n",
    "    plt.show()\n",
    "    \n",
    "    return {\n",
    "        'cluster_silhouettes': cluster_silhouettes,\n",
    "        'cluster_sizes': cluster_sizes,\n",
    "        'overall_silhouette': silhouette_avg\n",
    "    }\n",
    "\n",
    "# Call the function\n",
    "results = plot_model_performance(avg_daily_reqests_per_host_df)"
   ]
  },
  {
   "cell_type": "code",
   "execution_count": null,
   "id": "29273f4e",
   "metadata": {},
   "outputs": [
    {
     "name": "stdout",
     "output_type": "stream",
     "text": [
      "\n",
      "=== Model Performance Summary ===\n",
      "Number of Segments: 4\n",
      "Largest Segment Size: 14\n",
      "Overall Silhouette Score: 0.597\n",
      "Within-Cluster Sum of Squares: 1761939757.943\n"
     ]
    }
   ],
   "source": [
    "def generate_summary_stats(kmeans, X, cluster_labels, silhouette_avg):\n",
    "    # Calculate WSSSE\n",
    "    wssse = kmeans.inertia_\n",
    "    \n",
    "    # Get cluster sizes\n",
    "    unique, counts = np.unique(cluster_labels, return_counts=True)\n",
    "    \n",
    "    stats = {\n",
    "        'total_segments': len(unique),\n",
    "        'largest_segment': counts.max(),\n",
    "        'silhouette_score': silhouette_avg,\n",
    "        'wssse': wssse\n",
    "    }\n",
    "    \n",
    "    # Print summary\n",
    "    print(\"\\n=== Model Performance Summary ===\")\n",
    "    print(f\"Number of Segments: {stats['total_segments']}\")\n",
    "    print(f\"Largest Segment Size: {stats['largest_segment']}\")\n",
    "    print(f\"Overall Silhouette Score: {stats['silhouette_score']:.3f}\")\n",
    "    print(f\"Within-Cluster Sum of Squares: {stats['wssse']:.3f}\")\n",
    "    \n",
    "    return stats\n",
    "\n",
    "# First perform clustering\n",
    "def perform_clustering(df):\n",
    "    # Prepare data for clustering\n",
    "    X = df[['avg_reqs', 'total_reqs', 'total_hosts']]\n",
    "    \n",
    "    # Perform k-means clustering\n",
    "    n_clusters = 4  # You can adjust this number\n",
    "    kmeans = KMeans(n_clusters=n_clusters, random_state=42)\n",
    "    cluster_labels = kmeans.fit_predict(X)\n",
    "    \n",
    "    # Calculate silhouette score\n",
    "    silhouette_avg = silhouette_score(X, cluster_labels)\n",
    "    \n",
    "    return kmeans, X, cluster_labels, silhouette_avg\n",
    "\n",
    "# Run the analysis\n",
    "kmeans, X, cluster_labels, silhouette_avg = perform_clustering(avg_daily_reqests_per_host_df)\n",
    "stats = generate_summary_stats(kmeans, X, cluster_labels, silhouette_avg)"
   ]
  },
  {
   "cell_type": "code",
   "execution_count": null,
   "id": "ae9fb8a9",
   "metadata": {},
   "outputs": [
    {
     "name": "stdout",
     "output_type": "stream",
     "text": [
      "\n",
      "Segment 0 Profile:\n",
      "Type: Regular Days\n",
      "Size: 11 days\n",
      "Characteristics:\n",
      "- Average Requests per Host: 14.41\n",
      "- Total Requests: 127003.73\n",
      "- Unique Hosts: 8864.18\n",
      "\n",
      "Segment 1 Profile:\n",
      "Type: Regular Days\n",
      "Size: 14 days\n",
      "Characteristics:\n",
      "- Average Requests per Host: 14.17\n",
      "- Total Requests: 95386.14\n",
      "- Unique Hosts: 6748.50\n",
      "\n",
      "Segment 2 Profile:\n",
      "Type: Regular Days\n",
      "Size: 2 days\n",
      "Characteristics:\n",
      "- Average Requests per Host: 13.25\n",
      "- Total Requests: 64126.50\n",
      "- Unique Hosts: 4841.50\n",
      "\n",
      "Segment 3 Profile:\n",
      "Type: Regular Days\n",
      "Size: 4 days\n",
      "Characteristics:\n",
      "- Average Requests per Host: 15.96\n",
      "- Total Requests: 150228.00\n",
      "- Unique Hosts: 9425.75\n"
     ]
    },
    {
     "data": {
      "image/png": "[encoded data removed]",
      "text/plain": [
       "<Figure size 1500x500 with 3 Axes>"
      ]
     },
     "metadata": {},
     "output_type": "display_data"
    }
   ],
   "source": [
    "def generate_segment_profiles(kmeans, X, cluster_labels):\n",
    "    # Get cluster centers and convert to DataFrame\n",
    "    centers = pd.DataFrame(\n",
    "        kmeans.cluster_centers_,\n",
    "        columns=['avg_reqs', 'total_reqs', 'total_hosts']\n",
    "    )\n",
    "    \n",
    "    # Get cluster sizes\n",
    "    sizes = pd.Series(cluster_labels).value_counts().sort_index()\n",
    "    \n",
    "    profiles = []\n",
    "    \n",
    "    for segment in range(len(centers)):\n",
    "        center = centers.iloc[segment]\n",
    "        size = sizes[segment]\n",
    "        \n",
    "        profile = {\n",
    "            'segment': segment,\n",
    "            'size': size,\n",
    "            'characteristics': {\n",
    "                'avg_requests': center['avg_reqs'],\n",
    "                'total_requests': center['total_reqs'],\n",
    "                'unique_hosts': center['total_hosts']\n",
    "            }\n",
    "        }\n",
    "        \n",
    "        # Determine segment type based on characteristics\n",
    "        if center['avg_reqs'] > centers['avg_reqs'].mean() * 1.5:\n",
    "            profile['type'] = 'High Traffic Days'\n",
    "        elif center['total_hosts'] > centers['total_hosts'].mean() * 1.5:\n",
    "            profile['type'] = 'High User Days'\n",
    "        elif center['total_reqs'] > centers['total_reqs'].mean() * 1.5:\n",
    "            profile['type'] = 'Peak Activity Days'\n",
    "        else:\n",
    "            profile['type'] = 'Regular Days'\n",
    "        \n",
    "        profiles.append(profile)\n",
    "        \n",
    "        # Print profile summary\n",
    "        print(f\"\\nSegment {segment} Profile:\")\n",
    "        print(f\"Type: {profile['type']}\")\n",
    "        print(f\"Size: {profile['size']} days\")\n",
    "        print(\"Characteristics:\")\n",
    "        print(f\"- Average Requests per Host: {profile['characteristics']['avg_requests']:.2f}\")\n",
    "        print(f\"- Total Requests: {profile['characteristics']['total_requests']:.2f}\")\n",
    "        print(f\"- Unique Hosts: {profile['characteristics']['unique_hosts']:.2f}\")\n",
    "    \n",
    "    return profiles\n",
    "\n",
    "# Use previous clustering results to generate profiles\n",
    "profiles = generate_segment_profiles(kmeans, X, cluster_labels)\n",
    "\n",
    "# Optional: Create visualization of segment characteristics\n",
    "def visualize_segment_profiles(profiles):\n",
    "    # Convert profiles to DataFrame for easier plotting\n",
    "    prof_df = pd.DataFrame([\n",
    "        {\n",
    "            'segment': p['segment'],\n",
    "            'type': p['type'],\n",
    "            'size': p['size'],\n",
    "            'avg_requests': p['characteristics']['avg_requests'],\n",
    "            'total_requests': p['characteristics']['total_requests'],\n",
    "            'unique_hosts': p['characteristics']['unique_hosts']\n",
    "        }\n",
    "        for p in profiles\n",
    "    ])\n",
    "    \n",
    "    # Create visualization\n",
    "    fig, axes = plt.subplots(1, 3, figsize=(15, 5))\n",
    "    \n",
    "    # Plot key metrics by segment\n",
    "    sns.barplot(data=prof_df, x='segment', y='avg_requests', ax=axes[0])\n",
    "    axes[0].set_title('Average Requests by Segment')\n",
    "    \n",
    "    sns.barplot(data=prof_df, x='segment', y='total_requests', ax=axes[1])\n",
    "    axes[1].set_title('Total Requests by Segment')\n",
    "    \n",
    "    sns.barplot(data=prof_df, x='segment', y='unique_hosts', ax=axes[2])\n",
    "    axes[2].set_title('Unique Hosts by Segment')\n",
    "    \n",
    "    plt.tight_layout()\n",
    "    plt.show()\n",
    "    \n",
    "    return prof_df\n",
    "\n",
    "# Create visualization\n",
    "segment_df = visualize_segment_profiles(profiles)"
   ]
  }
 ],
 "metadata": {
  "kernelspec": {
   "display_name": "Python 3",
   "language": "python",
   "name": "python3"
  },
  "language_info": {
   "codemirror_mode": {
    "name": "ipython",
    "version": 3
   },
   "file_extension": ".py",
   "mimetype": "text/x-python",
   "name": "python",
   "nbconvert_exporter": "python",
   "pygments_lexer": "ipython3",
   "version": "3.9.0"
  }
 },
 "nbformat": 4,
 "nbformat_minor": 5
}
