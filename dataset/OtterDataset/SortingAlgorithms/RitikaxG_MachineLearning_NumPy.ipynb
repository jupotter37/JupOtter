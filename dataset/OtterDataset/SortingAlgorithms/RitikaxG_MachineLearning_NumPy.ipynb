{
 "cells": [
  {
   "cell_type": "markdown",
   "id": "d3fa0713",
   "metadata": {},
   "source": [
    "## NumPy"
   ]
  },
  {
   "cell_type": "code",
   "execution_count": 1,
   "id": "216b2b9d",
   "metadata": {},
   "outputs": [],
   "source": [
    "import numpy as np "
   ]
  },
  {
   "cell_type": "markdown",
   "id": "5b934bb7",
   "metadata": {},
   "source": [
    "#### 1. Converting a List to Array"
   ]
  },
  {
   "cell_type": "code",
   "execution_count": 6,
   "id": "94125621",
   "metadata": {},
   "outputs": [
    {
     "name": "stdout",
     "output_type": "stream",
     "text": [
      "<class 'list'>\n",
      "<class 'numpy.ndarray'>\n"
     ]
    }
   ],
   "source": [
    "lst = [1,2,3,4]\n",
    "print(type(lst))\n",
    "\n",
    "arr = np.array(lst)\n",
    "print(type(arr))"
   ]
  },
  {
   "cell_type": "code",
   "execution_count": 10,
   "id": "d4dccd76",
   "metadata": {},
   "outputs": [
    {
     "name": "stdout",
     "output_type": "stream",
     "text": [
      "[1 2 3 4]\n",
      "[[1 2 3 4]]\n"
     ]
    }
   ],
   "source": [
    "# 1-D array\n",
    "arr = np.array(lst,ndmin = 1)\n",
    "print(arr)\n",
    "# 2-D array\n",
    "arr = np.array(lst,ndmin = 2)\n",
    "print(arr)"
   ]
  },
  {
   "cell_type": "markdown",
   "id": "52f39892",
   "metadata": {},
   "source": [
    "#### 2. Arange Function\n",
    "The arange([start,] stop[,step,][,dtype]) : Returns an array with evenly spaced \n",
    "elements as per the interval.\n",
    "The interval mentioned is half-opened i.e [Start, Stop]"
   ]
  },
  {
   "cell_type": "code",
   "execution_count": 12,
   "id": "21b74193",
   "metadata": {},
   "outputs": [
    {
     "name": "stdout",
     "output_type": "stream",
     "text": [
      "[1 2 3 4 5 6 7 8 9]\n",
      "[1 3 5 7 9]\n"
     ]
    }
   ],
   "source": [
    "arr = np.arange(1,10)\n",
    "print(arr)\n",
    "arr = np.arange(1,10,2)\n",
    "print(arr)"
   ]
  },
  {
   "cell_type": "markdown",
   "id": "8d8e9b17",
   "metadata": {},
   "source": [
    "#### 3. Multidimensional Array"
   ]
  },
  {
   "cell_type": "code",
   "execution_count": 13,
   "id": "09fd517b",
   "metadata": {},
   "outputs": [
    {
     "name": "stdout",
     "output_type": "stream",
     "text": [
      "[[1 2 3]\n",
      " [4 5 6]\n",
      " [7 8 9]]\n"
     ]
    }
   ],
   "source": [
    "arr = np.array([[1,2,3],\n",
    "               [4,5,6],\n",
    "               [7,8,9]])\n",
    "print(arr)"
   ]
  },
  {
   "cell_type": "markdown",
   "id": "7b28af23",
   "metadata": {},
   "source": [
    "#### 4. Size Function\n",
    "In Python, numpy.size() function count the number of elements along\n",
    "a given axis (0 - Rows | 1 - Columns)"
   ]
  },
  {
   "cell_type": "code",
   "execution_count": 19,
   "id": "82800942",
   "metadata": {},
   "outputs": [
    {
     "name": "stdout",
     "output_type": "stream",
     "text": [
      "[[ 1  2  3]\n",
      " [ 4  5  6]\n",
      " [ 7  8  9]\n",
      " [10 11 12]]\n",
      "Total no of elements: 12\n",
      "No of Rows          : 4\n",
      "No of Columns       : 3\n"
     ]
    }
   ],
   "source": [
    "arr = np.array([[1,2,3],\n",
    "               [4,5,6],\n",
    "               [7,8,9],\n",
    "               [10,11,12]])\n",
    "print(arr)\n",
    "print('Total no of elements:',arr.size)\n",
    "print('No of Rows          :',np.size(arr,0))\n",
    "print('No of Columns       :',np.size(arr,1))"
   ]
  },
  {
   "cell_type": "markdown",
   "id": "82d7e689",
   "metadata": {},
   "source": [
    "#### 5. Shape Function\n",
    "The shape of an array can be defined as the number of elements in each dimension.\n",
    "Dimension is the number of indices or subscripts, that we require in order to \n",
    "specify an individual element of an array."
   ]
  },
  {
   "cell_type": "code",
   "execution_count": 22,
   "id": "dfebb485",
   "metadata": {},
   "outputs": [
    {
     "name": "stdout",
     "output_type": "stream",
     "text": [
      "(4, 3)\n",
      "(4, 3)\n"
     ]
    }
   ],
   "source": [
    "arr = np.array([[1,2,3],\n",
    "               [4,5,6],\n",
    "               [7,8,9],\n",
    "               [10,11,12]])\n",
    "print((np.size(arr,0),np.size(arr,1)))\n",
    "print(arr.shape)"
   ]
  },
  {
   "cell_type": "markdown",
   "id": "8d471924",
   "metadata": {},
   "source": [
    "#### 6. Dtype Function\n",
    "Every ndarray has an associated data type (dtype) object. This data type object (dtype) informs us about the layout of the array. This means it gives us information about:\n",
    "  - Type of the data(integer, float, Python object,etc.)\n",
    "  - Size of the data (number of bytes)\n",
    "  - The byte order of the data (little-endian or big-endian)\n",
    "  - If the data type is a sub-array, what is its shape and data type?"
   ]
  },
  {
   "cell_type": "code",
   "execution_count": 24,
   "id": "82831279",
   "metadata": {},
   "outputs": [
    {
     "name": "stdout",
     "output_type": "stream",
     "text": [
      "int64\n",
      "float64\n"
     ]
    }
   ],
   "source": [
    "arr = np.array([[1,2,3],\n",
    "               [4,5,6],\n",
    "               [7,8,9],\n",
    "               [10,11,12]])\n",
    "arr1 = np.array([1.5,2.9,7.8])\n",
    "print(arr.dtype)\n",
    "print(arr1.dtype)"
   ]
  },
  {
   "cell_type": "markdown",
   "id": "fb2aa0e4",
   "metadata": {},
   "source": [
    "#### Ndim Function\n",
    "numpy.ndarray.ndim() function return the number of dimensions of an array."
   ]
  },
  {
   "cell_type": "code",
   "execution_count": 30,
   "id": "89ea1a7e",
   "metadata": {},
   "outputs": [
    {
     "name": "stdout",
     "output_type": "stream",
     "text": [
      "1\n",
      "2\n",
      "[[[[1 2 3 4 6 5 4 3]]]]\n",
      "4\n"
     ]
    }
   ],
   "source": [
    "arr1 = np.array([1,2,3,4,6,5,4,3])\n",
    "arr2 = np.array([[1,2,3],\n",
    "               [4,5,6]])\n",
    "print(arr1.ndim)\n",
    "print(arr2.ndim)\n",
    "# Changing dim of an array\n",
    "arr3 = np.array(arr1,ndmin=4)\n",
    "print(arr3)\n",
    "print(arr3.ndim)"
   ]
  },
  {
   "cell_type": "markdown",
   "id": "e0519dad",
   "metadata": {},
   "source": [
    "#### 8. Zeros Function\n",
    "The numpy.zeros() function returns a new array of given shape and type,with zeros. Syntax:\n",
    "numpy.zeros(shape,dtype=None)"
   ]
  },
  {
   "cell_type": "code",
   "execution_count": 33,
   "id": "00096b5f",
   "metadata": {},
   "outputs": [
    {
     "name": "stdout",
     "output_type": "stream",
     "text": [
      "[[0. 0. 0. 0.]\n",
      " [0. 0. 0. 0.]\n",
      " [0. 0. 0. 0.]]\n",
      "float64\n",
      "[[0 0 0 0]\n",
      " [0 0 0 0]\n",
      " [0 0 0 0]]\n",
      "int64\n"
     ]
    }
   ],
   "source": [
    "arr = np.zeros(shape= (3,4))\n",
    "print(arr)\n",
    "print(arr.dtype)\n",
    "arr = np.zeros(shape= (3,4), dtype = int)\n",
    "print(arr)\n",
    "print(arr.dtype)"
   ]
  },
  {
   "cell_type": "markdown",
   "id": "9ec5ae68",
   "metadata": {},
   "source": [
    "#### Ones Function\n",
    "the numpy.ones() function returns a new array of given shape and type,with ones.\n",
    "- Syntax : numpy.ones(shape,dtype=None)"
   ]
  },
  {
   "cell_type": "code",
   "execution_count": 34,
   "id": "99254ad9",
   "metadata": {},
   "outputs": [
    {
     "name": "stdout",
     "output_type": "stream",
     "text": [
      "[[1. 1. 1. 1.]\n",
      " [1. 1. 1. 1.]\n",
      " [1. 1. 1. 1.]]\n",
      "float64\n",
      "[[1 1 1 1]\n",
      " [1 1 1 1]\n",
      " [1 1 1 1]]\n",
      "int64\n"
     ]
    }
   ],
   "source": [
    "arr = np.ones(shape= (3,4))\n",
    "print(arr)\n",
    "print(arr.dtype)\n",
    "arr = np.ones(shape= (3,4), dtype = int)\n",
    "print(arr)\n",
    "print(arr.dtype)"
   ]
  },
  {
   "cell_type": "markdown",
   "id": "e6fa128d",
   "metadata": {},
   "source": [
    "#### 9. Eye Function\n",
    "The eye tool returns a 2-D array with 1's as the diagonal and 0's elsewhere.\n",
    "The diagonal can be main, upper or lower depending on the optional parameter k."
   ]
  },
  {
   "cell_type": "code",
   "execution_count": 38,
   "id": "9cb8d53c",
   "metadata": {},
   "outputs": [
    {
     "name": "stdout",
     "output_type": "stream",
     "text": [
      "[[1. 0. 0.]\n",
      " [0. 1. 0.]\n",
      " [0. 0. 1.]]\n",
      "[[1 0]\n",
      " [0 1]]\n"
     ]
    }
   ],
   "source": [
    "arr = np.eye(3)\n",
    "print(arr)\n",
    "arr = np.eye(2, dtype = int)\n",
    "print(arr)"
   ]
  },
  {
   "cell_type": "markdown",
   "id": "f14dc4c7",
   "metadata": {},
   "source": [
    "#### 10. Empty Function\n",
    "Return a new array of given shape and type, with random values."
   ]
  },
  {
   "cell_type": "code",
   "execution_count": 44,
   "id": "1ba4528b",
   "metadata": {},
   "outputs": [
    {
     "name": "stdout",
     "output_type": "stream",
     "text": [
      "[[0. 0. 0. 0. 0.]\n",
      " [0. 0. 0. 0. 0.]\n",
      " [0. 0. 0. 0. 0.]\n",
      " [0. 0. 0. 0. 0.]\n",
      " [0. 0. 0. 0. 0.]]\n"
     ]
    }
   ],
   "source": [
    "arr = np.empty(shape = (5,5))\n",
    "print(arr)"
   ]
  },
  {
   "cell_type": "markdown",
   "id": "8a67a2fd",
   "metadata": {},
   "source": [
    "### 11. Random Functions"
   ]
  },
  {
   "cell_type": "markdown",
   "id": "f14c5487",
   "metadata": {},
   "source": [
    "#### a) np.random.rand\n",
    "The numpy.random.rand() function creates an array of specified shape and fills it with random values."
   ]
  },
  {
   "cell_type": "code",
   "execution_count": 45,
   "id": "13d7e651",
   "metadata": {},
   "outputs": [
    {
     "name": "stdout",
     "output_type": "stream",
     "text": [
      "[[0.36717962 0.99877031 0.60587173 0.49743464]\n",
      " [0.87346598 0.4879659  0.34925715 0.0575547 ]\n",
      " [0.05464496 0.6069213  0.12843143 0.51766472]]\n"
     ]
    }
   ],
   "source": [
    "arr = np.random.rand(3,4)\n",
    "print(arr) # Random nos have range 0 to 1"
   ]
  },
  {
   "cell_type": "markdown",
   "id": "1413378b",
   "metadata": {},
   "source": [
    "#### b) np.random.randint\n",
    "numpy.random.randint() is one of the function for doing random sampling in numpy.\n",
    "It returns an array of specified shape and fills it with random integers from low\n",
    "(inclusive) to high(exclusive), i.e. in the interval (low,high)."
   ]
  },
  {
   "cell_type": "code",
   "execution_count": 47,
   "id": "ae42db08",
   "metadata": {},
   "outputs": [
    {
     "name": "stdout",
     "output_type": "stream",
     "text": [
      "[4 9 1 5 7 6 9 3 8 5]\n"
     ]
    }
   ],
   "source": [
    "arr = np.random.randint(low = 1, high =10, size =10)\n",
    "print(arr)"
   ]
  },
  {
   "cell_type": "markdown",
   "id": "2893ebc2",
   "metadata": {},
   "source": [
    "#### c) np.random.randn\n",
    "The numpy.random.randn() function creates an array of specified shape and fills it with random values as per standard normal distribution."
   ]
  },
  {
   "cell_type": "code",
   "execution_count": 57,
   "id": "9e213c94",
   "metadata": {},
   "outputs": [
    {
     "name": "stdout",
     "output_type": "stream",
     "text": [
      "[-1.10872833e+00  1.49677967e+00  9.23097692e-01  3.31331984e-01\n",
      " -1.56691401e+00 -1.12492213e+00  1.07099918e+00  6.09101818e-01\n",
      " -1.37772083e+00 -2.50734359e-01  6.90448323e-01 -1.28226339e+00\n",
      " -1.71137893e+00 -5.00303784e-01 -1.97702550e-01 -1.85006490e-01\n",
      " -6.28765127e-01 -2.02840476e+00  1.22029938e-01  1.57314553e-01\n",
      " -2.30447616e+00 -1.70249172e+00 -7.46574538e-01 -5.73360491e-01\n",
      " -7.17829975e-01 -5.27776302e-02 -5.66906000e-01 -6.46519111e-02\n",
      " -1.24009257e+00  3.79730812e-02 -5.83741687e-01  2.57709342e-01\n",
      "  1.14317480e+00  1.11765279e+00 -8.23529435e-01 -1.88325549e+00\n",
      " -6.25515086e-01  4.11681531e-01  6.58507289e-01  1.05203213e+00\n",
      "  3.68999141e-02 -3.40910587e-01  5.50226615e-01 -1.92419353e+00\n",
      "  1.03514146e+00  1.23885921e-01 -1.19540851e+00  5.33618637e-01\n",
      " -1.62228973e+00  4.65687227e-02 -3.76954179e-01  9.37410004e-01\n",
      "  1.10382846e+00 -1.83044348e+00 -3.19947139e-01  1.60883918e+00\n",
      "  4.83619644e-01  7.86160076e-01 -5.67179338e-01 -1.03085488e+00\n",
      "  6.04002835e-01 -1.17888060e+00 -8.60406162e-01 -4.87414977e-01\n",
      " -1.86617521e-01  8.89638043e-01  7.94360207e-01 -1.05051967e+00\n",
      " -2.10385166e+00  1.29891473e-01 -1.24787885e+00 -1.26142604e+00\n",
      " -8.12940218e-01 -5.00300517e-01  1.75460690e-01  1.64937242e+00\n",
      "  6.27275922e-01  1.33588698e+00  3.10691091e-01 -8.22434782e-01\n",
      " -2.97034980e+00 -8.46072169e-01 -5.89163489e-01  1.89341893e-02\n",
      " -2.69236264e+00  9.29091605e-02  1.77741103e+00 -9.86372647e-01\n",
      " -1.35731332e+00  1.47834331e+00 -1.32486745e-01  8.19772714e-01\n",
      " -7.35431633e-02  7.16136870e-01  7.89942301e-01 -7.56854451e-01\n",
      "  8.83179746e-01 -1.80192681e-01  1.07853825e+00 -6.74984604e-01\n",
      " -6.74761407e-01 -3.88222416e-02  8.49984367e-01 -7.22491339e-02\n",
      " -1.29980564e+00 -5.36918045e-02 -4.96005257e-01 -4.45301350e-01\n",
      " -4.00765527e-01  7.79146339e-02 -1.03860228e+00  5.36236561e-01\n",
      "  2.00670400e-02 -1.23520837e+00 -2.49650180e-01 -4.46258612e-01\n",
      "  1.41561269e+00  1.23695504e-01  1.88736406e+00 -1.05229037e+00\n",
      "  2.05292669e+00  2.63994458e-01  1.50585126e+00  8.14145298e-01\n",
      " -2.19997671e-01 -1.06190491e+00  2.97430605e-01  5.83286228e-01\n",
      " -1.02327989e-01  6.28045062e-01 -5.06003356e-01 -1.09239383e-01\n",
      " -3.40746115e-01 -1.42729323e+00  1.54070014e-01 -1.34316674e+00\n",
      " -3.43271316e-01 -1.65255647e+00 -1.64710481e+00  3.95154723e-01\n",
      "  3.25284275e-01  1.03826860e+00 -2.14251971e+00  1.42370828e+00\n",
      "  6.04869264e-01  1.67708538e-01  4.67975094e-01  8.67138113e-02\n",
      "  6.17699982e-01 -8.27477208e-01 -7.87687257e-01  3.92403580e-01\n",
      "  1.72848321e+00 -2.73132890e-01 -2.18375213e-01 -1.51100277e+00\n",
      " -1.79408226e-01 -6.26061100e-01 -8.24012990e-01 -4.83538499e-01\n",
      " -2.61002262e+00 -4.01230142e-01  6.99726127e-01  4.38031708e-01\n",
      "  6.38211463e-01  1.87779817e-01  1.40232620e+00 -2.38391755e+00\n",
      "  6.15625028e-01  4.24290803e-01 -4.24088949e-01 -1.17830135e+00\n",
      " -5.29413460e-01 -1.45649809e+00 -4.79546115e-01  1.04140876e+00\n",
      "  2.56457700e-01 -5.78652533e-01 -1.72775244e-01 -1.80865871e+00\n",
      " -1.16406602e+00 -9.20100718e-01 -9.04003110e-02 -1.29661081e-01\n",
      "  4.41339105e-01  7.49087944e-01 -1.53508621e+00  1.56864545e-01\n",
      "  1.23901458e+00 -1.13119849e+00  2.23509624e+00 -2.01523006e+00\n",
      " -1.03694559e+00 -1.55319105e+00  5.99395594e-01 -5.94438676e-01\n",
      " -7.54145197e-01 -1.22820783e+00 -5.56084405e-01  3.73809721e-01\n",
      "  1.15826639e+00 -7.81135718e-01 -4.99186193e-01  2.06239097e+00\n",
      "  1.65269492e-01  2.50340602e-01 -1.89633354e+00 -3.37995592e-01\n",
      " -1.72272327e+00  1.24987202e+00  1.14443037e+00  1.60206767e-01\n",
      "  4.67816162e-01  2.48714471e-01 -1.22170337e+00  9.18596894e-01\n",
      " -1.30191108e+00  1.85616029e-01 -7.59082809e-01 -6.57555945e-02\n",
      " -1.13420175e+00 -7.01842128e-01 -1.30792766e-01  1.20817392e+00\n",
      "  3.03206352e+00 -1.45141885e+00  2.25486984e-01  4.25068053e-01\n",
      "  1.22791390e-01 -7.58820364e-01 -1.13010387e-01  6.20671064e-01\n",
      "  1.20248993e-01 -5.02646425e-01 -4.66950237e-02  8.88794374e-02\n",
      " -2.59447486e+00 -1.18641164e+00  8.54482755e-02  6.52756290e-01\n",
      " -4.38817825e-01  9.44392414e-01 -1.35907219e+00 -8.95259919e-01\n",
      "  4.36425106e-01 -1.08948349e-01  4.89916130e-01  3.17855405e-01\n",
      "  1.41256190e+00 -1.25682992e+00  1.46473977e-01  2.64179027e-01\n",
      " -8.85978603e-02  5.46905686e-01 -8.36614140e-01  6.94457163e-02\n",
      "  7.49735484e-01 -1.60597203e+00 -5.44692519e-01 -5.30933067e-02\n",
      " -9.77646246e-01  2.03283298e-01  2.82749292e-01 -2.47902917e-01\n",
      "  1.26682573e+00 -1.15001734e+00 -1.15316189e-01  1.33232708e+00\n",
      "  4.76680489e-01  3.20094753e-01  4.68157196e-01  7.91200053e-01\n",
      " -6.32629208e-01 -8.24530217e-01 -6.27023045e-01 -6.30871957e-01\n",
      "  8.73588948e-01 -1.85160393e+00  2.15816904e+00  2.74330807e-01\n",
      " -1.69862214e-01 -4.24051082e-01  9.25654995e-01  3.62861149e-01\n",
      " -1.71812832e+00 -2.02935679e+00  1.04105629e+00 -7.22930404e-01\n",
      "  2.75398722e-01  2.55139045e-01 -2.22220310e-01 -1.50324323e+00\n",
      "  1.04298493e+00  3.64925323e-01 -6.93339827e-01 -7.87250808e-01\n",
      "  1.02421538e+00 -9.65251990e-02  4.78307166e-01 -6.49991649e-01\n",
      "  1.54413471e-01 -1.05597044e+00  1.42254103e+00 -1.58652671e+00\n",
      " -8.67373031e-01 -1.64650539e+00  2.06560720e-01 -2.46454288e-01\n",
      " -2.01153955e-01  2.28123498e-01 -1.28439886e+00  1.10931192e+00\n",
      "  4.23446120e-01  1.32502581e+00  6.72577830e-01 -6.58179696e-01\n",
      " -1.26174872e+00 -4.74411323e-01  3.19533509e-01  4.75013996e-02\n",
      "  4.12971117e-01  5.28513240e-01  1.77633529e-01  4.77919473e-01\n",
      "  1.26810504e+00  7.16823884e-01 -2.57144493e-01 -1.91936512e-01\n",
      " -5.98344865e-02  1.26401433e-01 -2.37749762e-01  1.44975399e+00\n",
      " -2.20051355e+00 -2.10745486e-01 -9.46195938e-01  1.86903471e+00\n",
      "  2.97995420e-01  1.09409752e+00 -7.38586376e-01  3.46241118e-01\n",
      " -2.10350463e-01  2.14272306e+00 -1.13610994e-01  6.92326433e-01\n",
      "  6.63905849e-01 -2.28125981e-01  3.66163897e-01  9.57960451e-01\n",
      "  8.64308607e-02 -6.86234413e-01  6.33898119e-01 -8.87512997e-01\n",
      " -5.02062292e-01  1.41132941e-01 -1.45989658e+00  1.27530356e+00\n",
      "  5.91954359e-01 -4.11074863e-01  1.36458223e+00  1.33221349e+00\n",
      " -1.65765057e+00 -2.00882144e-01  5.69850403e-01 -7.91820751e-01\n",
      "  1.03112370e+00 -9.43636606e-01 -2.52196241e+00 -6.52157121e-01\n",
      "  8.64823290e-01 -7.18831121e-01 -3.65158991e-01  2.41546599e+00\n",
      "  8.47772901e-01 -1.16157924e+00 -5.59391577e-01  3.27234756e-01\n",
      "  8.44833134e-02 -6.99342534e-01 -1.03393354e+00 -1.68247594e-01\n",
      " -1.47270287e+00 -7.25624573e-01 -4.34365851e-02  4.40061522e-01\n",
      "  2.88804434e+00 -1.79211740e+00 -1.02410723e+00  1.12309503e+00\n",
      " -7.91695286e-01 -5.69859061e-01  1.48737476e+00  1.02901597e+00\n",
      " -7.88481710e-01  7.73924314e-01 -8.16614581e-02  6.28720693e-01\n",
      " -2.56581194e-01 -1.10955794e+00 -6.24092898e-01 -3.52066275e-01\n",
      " -2.50868483e-01 -4.52945729e-01 -4.79553959e-01 -3.80520308e-01\n",
      " -5.56600412e-02 -1.11697681e+00 -1.53920519e+00  2.04725196e+00\n",
      " -4.94732605e-01 -1.17164923e+00 -1.42894379e+00  1.01126090e+00\n",
      " -2.42882864e-01  2.46227450e-01 -1.33151086e-01 -1.15894044e-01\n",
      " -1.31869238e+00  1.07523830e+00 -8.02526963e-01 -2.27515235e-01\n",
      " -5.24450653e-01  2.71976759e-01  1.60338150e+00  1.49046210e+00\n",
      "  7.46847175e-02 -1.50997519e+00  4.86824693e-01  9.75834231e-01\n",
      " -5.28739954e-01  7.95102305e-01  2.03244304e+00  5.58620592e-01\n",
      " -1.26864803e-02 -7.63706499e-01  2.08134317e-01 -5.40042762e-01\n",
      " -1.31459549e+00 -5.50454751e-01 -1.13912524e+00  3.14673980e-01\n",
      "  4.20520156e-01 -1.90705440e+00 -1.30718735e+00  3.24831843e-01\n",
      "  1.40226555e+00  5.77402591e-01 -8.90715384e-01  1.14621634e+00\n",
      "  1.49909561e+00 -2.69198332e+00  2.32992864e+00 -1.15411352e-01\n",
      "  8.67793042e-01 -1.13424404e+00 -9.08803533e-01 -1.88415558e-01\n",
      " -2.39303185e-01 -1.58208577e+00  2.77010505e-02  6.04850177e-01\n",
      "  1.94273304e+00 -9.95277165e-01  1.00454474e+00  2.58386151e-01\n",
      "  5.63685610e-01  2.60367646e-02  1.44031986e+00  9.02893730e-01\n",
      " -1.42002885e+00  1.93963643e+00  1.75139943e+00  1.03409646e+00\n",
      " -2.03786382e-01  7.92988740e-01 -5.14648074e-01  1.31693987e+00\n",
      "  9.19169673e-01 -2.03472551e-01  2.32150657e-01 -3.61062727e-01\n",
      "  1.10148039e+00 -8.38655557e-01 -1.13024173e+00 -8.71072843e-01\n",
      "  6.42201521e-01  9.94137619e-01  1.85771000e+00 -1.07422542e+00\n",
      "  2.53405831e-03 -1.07028131e+00 -7.29814405e-02 -5.90208588e-01\n",
      " -1.27882734e+00 -2.62208869e-01 -8.24095828e-01  5.18390745e-01\n",
      "  7.93482165e-01  6.56133468e-01 -2.29319957e-01 -1.67922161e+00\n",
      "  1.10475293e+00 -3.80628572e-01  4.46951936e-01  9.36491012e-01\n",
      " -5.31041607e-01  5.04356995e-01 -2.18846462e-01  9.05840018e-01\n",
      "  5.63196976e-01  1.32813900e-01  1.42779448e+00  7.48569880e-01\n",
      "  1.25551561e+00 -2.90409924e-01 -1.25850104e+00  5.52222826e-01\n",
      " -2.74043123e-01  3.44522422e-01 -9.39770511e-01  1.95431929e+00\n",
      " -1.32583890e-01 -1.03676322e+00  2.10668148e+00  1.49991847e+00\n",
      "  5.70538402e-01 -1.18243058e-02 -1.21790334e+00  1.21723252e+00\n",
      "  8.76969021e-01  9.63087498e-01 -1.52949244e+00 -1.61421933e+00\n",
      "  2.19362778e+00 -1.20684558e-01 -2.20745811e-01  1.31183694e-01\n",
      " -5.32836748e-01 -1.14170522e-01 -4.37325661e-01  1.50045576e+00\n",
      "  5.95817731e-01 -1.74083260e-01  1.22286675e+00 -7.33743986e-01\n",
      " -8.45719692e-02 -8.70333028e-01  5.31603883e-01  1.19385218e+00\n",
      " -1.15170589e+00 -6.96068319e-01 -3.31292525e-02  9.38491369e-02\n",
      " -1.69718979e+00  1.45265846e+00 -3.58830150e-01 -2.15716178e-01\n",
      " -2.19593298e-01 -1.65380432e+00 -6.52625314e-01  8.15870552e-01\n",
      " -1.36770843e+00  2.78488963e-01  3.47145472e-01 -1.44595236e+00\n",
      "  2.39568218e+00 -1.30314982e+00  1.72035786e-02 -7.65615140e-01\n",
      "  5.08246992e-01 -1.09720365e+00  8.13766966e-01 -5.78067601e-02\n",
      "  1.23847013e-02 -7.40934520e-02 -3.75719077e-01 -6.67991136e-01\n",
      "  7.95314793e-01 -4.75208168e-01  4.42125436e-02 -9.58772057e-01\n",
      " -9.04260718e-01  4.32622068e-01  8.22841602e-01 -1.83971067e-01\n",
      " -1.04218016e+00 -1.17513123e+00  1.90009481e+00  3.36891966e-01\n",
      "  5.62607466e-01  8.20086614e-01 -5.46467520e-02 -5.88430904e-01\n",
      " -1.40950408e+00 -4.81766479e-01  2.06141783e-01  1.86099987e+00\n",
      " -6.93292512e-01  4.88487003e-01  1.88603805e+00  6.44836432e-01\n",
      "  7.19452493e-01 -1.08886915e+00 -2.84545101e-01 -6.06125093e-01\n",
      "  7.51713078e-01 -7.78930387e-01 -2.29608752e-01  3.40409539e-01\n",
      "  1.33355408e-01 -7.97713872e-01  4.68683421e-01  5.66040454e-01\n",
      "  1.08684696e+00 -3.88351045e-01 -5.18991726e-01  5.97537612e-01\n",
      " -1.08556940e-01 -1.18852572e-01 -8.57632453e-01 -5.15744915e-01\n",
      " -8.57797357e-01  3.05251767e-01 -4.10484527e-01  2.78929812e-02\n",
      "  1.34723666e+00 -1.08820952e+00  1.28234417e+00  1.87258592e+00\n",
      " -1.44229354e+00 -4.82728554e-01  7.44417125e-01  4.63557978e-01\n",
      " -1.43884615e+00 -5.94006116e-01  4.36669097e-02 -1.14611080e+00\n",
      "  1.32238378e+00  7.36979596e-01  4.25235217e-01  1.58863921e+00\n",
      " -2.36297782e+00 -1.04669509e+00  5.25160999e-01 -1.71809974e+00\n",
      "  4.51289857e-01  5.62740468e-01 -1.16730661e+00  7.63864735e-01\n",
      "  3.74612080e-01 -6.91893215e-01  3.96427340e-02 -1.55239012e+00\n",
      " -2.46762581e-01 -9.69380755e-01  6.62015170e-01  3.53392570e-01\n",
      "  4.33196131e-01 -5.87552686e-01  9.99388708e-01  1.61617672e+00\n",
      "  5.82137007e-01  9.58490838e-01  6.10687300e-01  1.02327150e+00\n",
      " -2.80500830e-01  5.72925690e-01 -7.28486558e-01 -6.46499736e-01\n",
      " -2.11702366e-01  1.29793218e-01 -2.82025731e-01  3.38076240e-01\n",
      " -1.20171126e+00 -2.09778383e-01 -3.04769053e-02 -1.20501833e+00\n",
      "  4.07374496e-01  7.69669946e-01 -3.78349326e-01 -1.14613027e+00\n",
      " -1.10826584e+00  6.58555324e-01  2.65890518e-01  1.06201581e+00\n",
      "  9.76658234e-02 -3.61078440e-02  6.27101147e-01 -4.00436384e-01\n",
      " -1.45595594e+00  1.28025715e+00 -1.22639642e+00 -1.02152646e+00\n",
      "  5.50949364e-01 -1.68108030e+00  9.68114776e-01 -6.48021457e-01\n",
      "  4.30513863e-01  1.01423324e-01  1.70565009e-01 -1.00260266e+00\n",
      "  7.30353228e-01  1.55382376e+00 -1.05513217e-01  1.38086838e+00\n",
      " -1.00974738e+00  4.41964256e-01  2.02257992e+00  7.55543009e-01\n",
      "  1.42986025e-01  1.71931419e+00  1.14114909e+00  1.59927754e+00\n",
      " -9.02725880e-03 -1.73399142e-01  1.27939983e+00  1.28576507e+00\n",
      "  2.36799093e+00  2.47420861e-01 -2.92204160e-01 -2.57427417e-01\n",
      "  8.67291537e-02  8.88893232e-02  1.48707609e+00  3.02821543e-01\n",
      " -1.06429043e+00 -7.86760147e-01  1.09153528e+00  6.39110758e-01\n",
      "  1.07266672e+00 -6.33226673e-01  2.09195082e+00 -6.88433122e-01\n",
      "  4.59571600e-01  2.55829720e-01  8.77209734e-01 -7.90298174e-01\n",
      "  2.14798181e-01  4.56567128e-01  8.00491040e-01 -4.18358492e-01\n",
      " -3.51260372e-01  2.14387633e-01  1.36888226e-01 -2.16249143e-02\n",
      " -2.95573136e-01  1.13056737e+00 -1.37154122e+00  9.11428160e-01\n",
      " -8.51973539e-01  1.46986274e+00  1.43318054e-01 -9.85335452e-01\n",
      "  1.95551577e+00 -1.81390658e+00 -3.85185235e-01 -2.16502522e+00\n",
      "  1.09333350e-02  6.90488567e-01  4.29975477e-01 -2.28793846e+00\n",
      "  4.45098910e-01  4.35363848e-01  4.00728901e-01 -9.21971153e-02\n",
      " -4.59774971e-01  9.22473790e-02  5.45032437e-01 -2.09444209e-01\n",
      "  5.39482092e-01 -1.47416512e+00  3.39483854e-01  1.81504877e+00\n",
      " -5.83982184e-01 -9.76760196e-01 -1.50771967e+00 -5.24128909e-02\n",
      "  1.10263481e+00  9.11906625e-01 -2.60888848e-01  5.11411343e-01\n",
      " -3.82243248e-01 -9.04611919e-01 -1.81564811e-01 -2.66080123e-01\n",
      " -3.20973431e-01 -6.45738913e-02  1.02568899e-01  1.67328783e+00\n",
      "  1.93904131e-01 -9.13147836e-01  1.39729545e-01 -2.05621073e+00\n",
      " -9.20438429e-01 -1.06340024e-01 -1.25713054e+00 -1.38799518e-01\n",
      " -1.29386081e+00  5.75854341e-01 -1.11943446e+00  1.56262736e+00\n",
      "  3.20091072e-01 -1.68999439e+00  5.39966526e-01 -1.72709869e+00\n",
      "  2.51549707e-01 -1.88253718e+00 -7.65421102e-01  1.34962825e-01\n",
      "  1.20748385e+00  9.22751753e-01 -1.38513364e+00 -8.65299882e-01\n",
      " -1.90882795e+00  3.07197890e-01 -1.44908374e+00  4.45096668e-02\n",
      " -4.41100943e-02  2.94912046e-01  1.28627093e-01 -8.17676889e-01\n",
      " -1.13923203e-01  5.39692960e-01 -6.00523819e-01 -4.55457092e-01\n",
      " -1.77334064e+00 -1.14424588e+00 -3.26088958e-01 -8.43908739e-02\n",
      " -7.36220938e-01  1.08323724e+00  8.84394978e-01  7.47932560e-01\n",
      " -1.64377398e-01 -3.78793879e-01  5.14692735e-01 -1.31442351e-01\n",
      "  1.96764463e+00 -8.01761689e-01  6.15687059e-01  7.22165721e-01\n",
      " -6.52115910e-01 -5.88629858e-01 -5.05008034e-01 -1.00856737e+00\n",
      " -8.60361271e-01  5.15412768e-01 -1.41893687e-01  6.05719311e-01\n",
      " -5.73135271e-01 -5.25256468e-01  3.99483297e-01 -6.99019255e-01\n",
      "  8.63358266e-01  1.87630470e-01  8.68469252e-01 -5.89486363e-01\n",
      " -1.88149936e-01 -1.60333014e+00  6.30136368e-02  3.16304482e+00\n",
      " -1.80703949e-01 -1.32478881e+00 -1.18533304e+00 -2.94023162e-01\n",
      "  2.00228634e-01  1.28369734e-02  9.15472416e-02 -7.48556908e-02\n",
      "  2.60961075e+00 -1.87224411e-01  4.72405214e-01 -2.97244123e-02\n",
      " -8.05890707e-01  1.47757760e+00 -2.22965844e-01 -1.14153442e+00\n",
      "  1.40053632e+00  3.54784978e-01 -8.21968612e-01  3.82337223e-01\n",
      "  3.10629885e-01  3.61207611e-01 -8.46794078e-02 -9.24844839e-01\n",
      " -4.57280220e-02 -5.50065346e-01  7.61230392e-01 -9.13484245e-01\n",
      "  6.44749473e-01 -1.34467681e-01  4.61131457e-01 -1.17300229e+00\n",
      " -2.57475757e-01 -1.36521228e+00  8.96036343e-01 -8.47449696e-01\n",
      " -1.11221644e+00 -2.27709810e+00  1.17468836e+00 -1.71578362e+00\n",
      "  2.21734223e-01  9.26384391e-01  9.07644512e-02 -9.08007206e-02\n",
      "  2.55207332e-01  4.45227954e-01 -2.44797401e-01 -6.70740039e-01\n",
      "  9.96610426e-01 -1.62320908e+00 -3.72586877e-01  8.95222108e-01\n",
      " -3.08231062e-01 -3.17200901e-01  4.77391041e-01 -9.32172543e-01\n",
      " -4.32851181e-01 -4.82432218e-01 -1.01584206e-01 -7.36759758e-01\n",
      " -2.41807905e-01 -6.05986193e-01  3.48237204e-01  1.34114386e-01\n",
      " -6.28290590e-01 -9.33481303e-01  5.02240637e-01 -1.90551007e-01\n",
      "  7.43613060e-01 -6.37033927e-01 -1.00471678e+00  1.17011850e+00\n",
      "  5.92643835e-01 -1.13365638e+00  2.72668417e+00 -9.14864664e-01\n",
      "  1.19528537e+00 -1.22696314e+00 -5.53156141e-01 -1.38183460e-01\n",
      "  7.29793992e-01  1.45256041e+00  1.19526241e-01 -6.75084495e-01\n",
      " -1.53685559e-01  6.45066556e-01  1.48609067e+00  4.14549035e-04\n",
      "  3.34256963e-01 -1.38118161e+00  1.10209014e-01  3.65133099e-01\n",
      " -2.92241339e-01  1.63786179e+00  1.63306219e+00 -2.91541329e+00\n",
      "  6.49546834e-01 -9.51238801e-01 -2.29641343e-01 -4.82312382e-01\n",
      "  1.10658262e-01  3.18039895e-01 -1.77848984e+00 -5.33288954e-02\n",
      "  1.32900287e+00 -2.13445186e+00 -1.17515238e+00 -6.15632016e-01\n",
      " -1.69155947e+00  4.51539313e-01 -1.35551948e+00  1.62336324e+00\n",
      "  5.25747309e-01 -5.25909893e-02 -9.31239098e-01  9.24349106e-01\n",
      "  1.53834513e+00 -2.05457933e+00 -6.10668496e-02 -4.27085476e-02\n",
      " -7.06572259e-01 -5.16227741e-01  1.11861199e+00  3.56595503e-01\n",
      "  4.47932278e-01  4.68535276e-01  2.13230784e+00  2.30434376e-01\n",
      "  8.08045623e-01  1.52395477e+00 -1.08879431e+00 -1.21725503e+00\n",
      "  7.72499766e-01  1.24385415e+00 -1.01078278e-02  1.30883113e+00\n",
      " -2.33192110e+00 -3.75320716e-01 -8.68062238e-01 -1.55982608e+00]\n"
     ]
    }
   ],
   "source": [
    "arr = np.random.randn(1000)\n",
    "print(arr)"
   ]
  },
  {
   "cell_type": "code",
   "execution_count": 70,
   "id": "dcb144fd",
   "metadata": {},
   "outputs": [
    {
     "data": {
      "text/plain": [
       "(array([106., 100.,  92.,  89.,  95., 114.,  97.,  95., 129.,  83.,  96.,\n",
       "         91., 105., 111.,  88.,  85.,  88., 114.,  88., 123., 111.,  84.,\n",
       "         97., 117.,  92., 100., 105., 118., 110.,  77., 109., 104., 109.,\n",
       "         97., 112.,  90.,  78., 102., 104.,  96.,  85., 100.,  98., 109.,\n",
       "        115.,  87., 105.,  86., 104., 105., 112., 113., 119.,  96.,  99.,\n",
       "        107., 104.,  87.,  87.,  99.,  97.,  85.,  99.,  89.,  88.,  92.,\n",
       "         99.,  96., 105., 112.,  97.,  92., 116., 100., 102., 101.,  93.,\n",
       "         96.,  92.,  97., 114.,  91., 123., 111., 101.,  86.,  78., 118.,\n",
       "        103.,  99.,  92., 106., 117., 119., 103.,  90., 106.,  77.,  97.,\n",
       "        103.]),\n",
       " array([1.37891254e-04, 1.01356462e-02, 2.01334012e-02, 3.01311561e-02,\n",
       "        4.01289111e-02, 5.01266660e-02, 6.01244210e-02, 7.01221759e-02,\n",
       "        8.01199309e-02, 9.01176858e-02, 1.00115441e-01, 1.10113196e-01,\n",
       "        1.20110951e-01, 1.30108706e-01, 1.40106461e-01, 1.50104216e-01,\n",
       "        1.60101970e-01, 1.70099725e-01, 1.80097480e-01, 1.90095235e-01,\n",
       "        2.00092990e-01, 2.10090745e-01, 2.20088500e-01, 2.30086255e-01,\n",
       "        2.40084010e-01, 2.50081765e-01, 2.60079520e-01, 2.70077275e-01,\n",
       "        2.80075030e-01, 2.90072785e-01, 3.00070540e-01, 3.10068295e-01,\n",
       "        3.20066050e-01, 3.30063805e-01, 3.40061560e-01, 3.50059315e-01,\n",
       "        3.60057070e-01, 3.70054824e-01, 3.80052579e-01, 3.90050334e-01,\n",
       "        4.00048089e-01, 4.10045844e-01, 4.20043599e-01, 4.30041354e-01,\n",
       "        4.40039109e-01, 4.50036864e-01, 4.60034619e-01, 4.70032374e-01,\n",
       "        4.80030129e-01, 4.90027884e-01, 5.00025639e-01, 5.10023394e-01,\n",
       "        5.20021149e-01, 5.30018904e-01, 5.40016659e-01, 5.50014414e-01,\n",
       "        5.60012169e-01, 5.70009924e-01, 5.80007678e-01, 5.90005433e-01,\n",
       "        6.00003188e-01, 6.10000943e-01, 6.19998698e-01, 6.29996453e-01,\n",
       "        6.39994208e-01, 6.49991963e-01, 6.59989718e-01, 6.69987473e-01,\n",
       "        6.79985228e-01, 6.89982983e-01, 6.99980738e-01, 7.09978493e-01,\n",
       "        7.19976248e-01, 7.29974003e-01, 7.39971758e-01, 7.49969513e-01,\n",
       "        7.59967268e-01, 7.69965023e-01, 7.79962778e-01, 7.89960532e-01,\n",
       "        7.99958287e-01, 8.09956042e-01, 8.19953797e-01, 8.29951552e-01,\n",
       "        8.39949307e-01, 8.49947062e-01, 8.59944817e-01, 8.69942572e-01,\n",
       "        8.79940327e-01, 8.89938082e-01, 8.99935837e-01, 9.09933592e-01,\n",
       "        9.19931347e-01, 9.29929102e-01, 9.39926857e-01, 9.49924612e-01,\n",
       "        9.59922367e-01, 9.69920122e-01, 9.79917877e-01, 9.89915631e-01,\n",
       "        9.99913386e-01]),\n",
       " <BarContainer object of 100 artists>)"
      ]
     },
     "execution_count": 70,
     "metadata": {},
     "output_type": "execute_result"
    },
    {
     "data": {
      "image/png": "[encoded data removed]",
      "text/plain": [
       "<Figure size 640x480 with 1 Axes>"
      ]
     },
     "metadata": {},
     "output_type": "display_data"
    }
   ],
   "source": [
    "import matplotlib.pyplot as plt\n",
    "%matplotlib inline\n",
    "plt.hist(arr,bins=10)\n",
    "plt.hist(arr,bins=20)\n",
    "plt.hist(arr,bins=100)\n",
    " # Standard Normal Distn"
   ]
  },
  {
   "cell_type": "markdown",
   "id": "4ec76c37",
   "metadata": {},
   "source": [
    "#### 12. Reshape Function - will not alter the original data\n",
    "The numpy.reshape() function shapes an array without changing the data of the array. <br>\n",
    "It should be noted that the product of the rows and columns should be same"
   ]
  },
  {
   "cell_type": "code",
   "execution_count": 73,
   "id": "e726637c",
   "metadata": {},
   "outputs": [
    {
     "name": "stdout",
     "output_type": "stream",
     "text": [
      "[[ 1 10  1 13]\n",
      " [ 3  2 13  2]\n",
      " [ 7  2  3 12]]\n",
      "(3, 4)\n",
      "[[ 1 10  1]\n",
      " [13  3  2]\n",
      " [13  2  7]\n",
      " [ 2  3 12]]\n",
      "(4, 3)\n",
      "[[ 1 10]\n",
      " [ 1 13]\n",
      " [ 3  2]\n",
      " [13  2]\n",
      " [ 7  2]\n",
      " [ 3 12]]\n",
      "(6, 2)\n"
     ]
    }
   ],
   "source": [
    "arr = np.random.randint(1,15,(3,4))\n",
    "print(arr)\n",
    "print(arr.shape)\n",
    "\n",
    "arr = arr.reshape(4,3)\n",
    "print(arr)\n",
    "print(arr.shape)\n",
    "\n",
    "\n",
    "arr = arr.reshape(6,2)\n",
    "print(arr)\n",
    "print(arr.shape)"
   ]
  },
  {
   "cell_type": "markdown",
   "id": "09e9a6e3",
   "metadata": {},
   "source": [
    "#### 13. Linspace Function\n",
    "The numpy.linspace() function returns number spaces evenly w.r.t interval. Similar to numpy.arange() function but instead of step it uses sample number.\n",
    "\n",
    "* Parameters:\n",
    " - -> start : [optional]start of interval range. By default start = 0\n",
    " - -> stop : end of interval range\n",
    " - -> restep : If True, return (samples, step). By default restep = False\n",
    " - -> num : [int, optional] No. of samples to generate\n",
    " - -> dtype : type of output array"
   ]
  },
  {
   "cell_type": "code",
   "execution_count": 75,
   "id": "fe683008",
   "metadata": {},
   "outputs": [
    {
     "name": "stdout",
     "output_type": "stream",
     "text": [
      "[ 1.    3.25  5.5   7.75 10.  ]\n"
     ]
    }
   ],
   "source": [
    "arr = np.linspace(1,10,5) # All values are equidistant from each other\n",
    "print(arr)"
   ]
  },
  {
   "cell_type": "markdown",
   "id": "d3c7b2c3",
   "metadata": {},
   "source": [
    "#### 14. Flatten Function\n",
    "ndarray.flatten() function return a copy of the array collapsed into one dimension."
   ]
  },
  {
   "cell_type": "code",
   "execution_count": 83,
   "id": "b9aa0eb9",
   "metadata": {},
   "outputs": [
    {
     "name": "stdout",
     "output_type": "stream",
     "text": [
      "[[ 8 10 14  5]\n",
      " [12  3 10 12]\n",
      " [ 8  2 12  1]]\n",
      "(3, 4)\n",
      "2\n",
      "----------------------------------------\n",
      "[ 8 10 14  5 12  3 10 12  8  2 12  1]\n",
      "(12,)\n",
      "1\n"
     ]
    }
   ],
   "source": [
    "arr = np.random.randint(1,15,(3,4))\n",
    "print(arr)\n",
    "print(arr.shape)\n",
    "print(arr.ndim)\n",
    "print(\"----------------------------------------\")\n",
    "arr = arr.flatten()\n",
    "print(arr)\n",
    "print(arr.shape)\n",
    "print(arr.ndim)"
   ]
  },
  {
   "cell_type": "markdown",
   "id": "65d2c6d8",
   "metadata": {},
   "source": [
    "#### 15. Logspace Function\n",
    "The numpy.logspace() function returns number spaces evenly w.r.t interval on a log scale.\n",
    "\n",
    "Parameters :\n",
    "\n",
    "- -> start : [float] start(base ** start) of interval range.\n",
    "- -> stop : [float] end(base ** stop) of interval range\n",
    "- -> endpoint : [boolean, optional]If True, stop is the last sample. By default, True\n",
    "- -> num : [int, optional] No. of samples to generate\n",
    "- -> base : [float, optional] Base of log scale. By default, equals 10.0\n",
    "- -> dtype : type of output array"
   ]
  },
  {
   "cell_type": "code",
   "execution_count": 85,
   "id": "ec269304",
   "metadata": {},
   "outputs": [
    {
     "name": "stdout",
     "output_type": "stream",
     "text": [
      "[  100.           166.81005372   278.25594022   464.15888336\n",
      "   774.26368268  1291.54966501  2154.43469003  3593.8136638\n",
      "  5994.84250319 10000.        ]\n",
      "[ 4.          4.66611616  5.44316     6.34960421  7.4069977   8.64047791\n",
      " 10.0793684  11.75787594 13.71590373 16.        ]\n"
     ]
    }
   ],
   "source": [
    "arr = np.logspace(2,4,10)\n",
    "print(arr)\n",
    "arr = np.logspace(2,4,10, base =2)\n",
    "print(arr)"
   ]
  },
  {
   "cell_type": "markdown",
   "id": "c6dc6b2d",
   "metadata": {},
   "source": [
    "#### Copy Function\n",
    "If we normally use the equals sign then the **id** of both the numpy array will be same, so we need to use to copy function\n",
    "\n"
   ]
  },
  {
   "cell_type": "code",
   "execution_count": 93,
   "id": "797cc415",
   "metadata": {},
   "outputs": [
    {
     "name": "stdout",
     "output_type": "stream",
     "text": [
      "[12  5 10  1  4 10 10 12  3  7] 5908500944\n",
      "[ 5 11  6 10 11 13  2 13 10  5] 5908500944\n",
      "------------------------------------------\n",
      "[10  8  3  3  6  4  9  1  5  5] 5908501040\n",
      "[ 5 11  6 10 11 13  2 13 10  5] 5907118384\n"
     ]
    }
   ],
   "source": [
    "arr1 = np.random.randint(1,15,10)\n",
    "arr2 = arr1\n",
    "print(arr2,id(arr1))\n",
    "print(arr3,id(arr2))\n",
    "print('-'*42)\n",
    "arr1 = np.random.randint(1,15,10)\n",
    "arr2 = np.copy(arr1)\n",
    "print(arr2,id(arr1))\n",
    "print(arr3,id(arr2))"
   ]
  },
  {
   "cell_type": "markdown",
   "id": "86853fb5",
   "metadata": {},
   "source": [
    "#### 17. arr.max() , arr.min() , arr.sum() functions\n",
    "\n",
    "- arr.max() will give us the maximum element present in the array\n",
    "- arr.min() will give us the minimun element present in the array\n",
    "- arr.sum() will give us the sum of all the elements present in the array"
   ]
  },
  {
   "cell_type": "code",
   "execution_count": 101,
   "id": "7335ee8a",
   "metadata": {},
   "outputs": [
    {
     "name": "stdout",
     "output_type": "stream",
     "text": [
      "[[ 4  6  1  4  3]\n",
      " [ 3  3  7  3  6]\n",
      " [ 1 14  3  5 13]]\n",
      "--------------------\n",
      "MAX        : 14\n",
      "MIN        : 1\n",
      "SUM        : 76\n"
     ]
    }
   ],
   "source": [
    "arr = np.random.randint(1,15,(3,5))\n",
    "print(arr)\n",
    "print('-'*20)\n",
    "print('MAX        :',arr.max())\n",
    "print('MIN        :',arr.min())\n",
    "print('SUM        :',arr.sum())"
   ]
  },
  {
   "cell_type": "markdown",
   "id": "39b2f296",
   "metadata": {},
   "source": [
    "* We can use the axis parameter to get the max, min and sum of a particular column or row\n",
    "\n",
    "  - axis=0 is for the column\n",
    "  - axis=1 is for the row\n"
   ]
  },
  {
   "cell_type": "markdown",
   "id": "ff476452",
   "metadata": {},
   "source": [
    "##### For columns"
   ]
  },
  {
   "cell_type": "code",
   "execution_count": 103,
   "id": "26395e05",
   "metadata": {},
   "outputs": [
    {
     "name": "stdout",
     "output_type": "stream",
     "text": [
      "MAX        : [ 4 14  7  5 13]\n",
      "MIN        : [1 3 1 3 3]\n",
      "SUM        : [ 8 23 11 12 22]\n"
     ]
    }
   ],
   "source": [
    "print('MAX        :',arr.max(axis=0))\n",
    "print('MIN        :',arr.min(axis=0))\n",
    "print('SUM        :',arr.sum(axis=0))"
   ]
  },
  {
   "cell_type": "markdown",
   "id": "af22e567",
   "metadata": {},
   "source": [
    "##### For Rows"
   ]
  },
  {
   "cell_type": "code",
   "execution_count": 104,
   "id": "cc79d620",
   "metadata": {},
   "outputs": [
    {
     "name": "stdout",
     "output_type": "stream",
     "text": [
      "MAX        : [ 6  7 14]\n",
      "MIN        : [1 3 1]\n",
      "SUM        : [18 22 36]\n"
     ]
    }
   ],
   "source": [
    "print('MAX        :',arr.max(axis=1))\n",
    "print('MIN        :',arr.min(axis=1))\n",
    "print('SUM        :',arr.sum(axis=1))"
   ]
  },
  {
   "cell_type": "markdown",
   "id": "7e5897ba",
   "metadata": {},
   "source": [
    "### 18. Seed Function\n",
    "random() function is used to generate random numbers in Python. Not actually random, rather this is used to generate pseudo-random numbers. That implies that these randomly generated numbers can be determined. random() function generates numbers for some values. This value is also called seed value.\n",
    "\n",
    "* Syntax : random.seed( l, version )<br>\n",
    "\n",
    "* Parameter :\n",
    "\n",
    "  - l : Any seed value used to produce a random number.\n",
    "  - version : A integer used to specify how to convert l in a integer."
   ]
  },
  {
   "cell_type": "code",
   "execution_count": 118,
   "id": "de1a6baf",
   "metadata": {},
   "outputs": [
    {
     "name": "stdout",
     "output_type": "stream",
     "text": [
      "[[9 4 9 9 1]\n",
      " [6 4 6 8 7]\n",
      " [1 5 8 9 2]]\n"
     ]
    }
   ],
   "source": [
    "# Random numbers that can be determined\n",
    "# Every time on executing the cell gives the same value\n",
    "# Used for unifprmity\n",
    "np.random.seed(3)\n",
    "arr = np.random.randint(1,10,(3,5))\n",
    "print(arr)"
   ]
  },
  {
   "cell_type": "code",
   "execution_count": 117,
   "id": "08372dc8",
   "metadata": {},
   "outputs": [
    {
     "name": "stdout",
     "output_type": "stream",
     "text": [
      "[[7 3 3 2 4]\n",
      " [6 9 2 9 8]\n",
      " [9 2 1 6 5]]\n"
     ]
    }
   ],
   "source": [
    "arr = np.random.randint(1,10,(3,5))\n",
    "print(arr)"
   ]
  },
  {
   "cell_type": "markdown",
   "id": "afeb63e0",
   "metadata": {},
   "source": [
    "#### 19. Sorting Function\n",
    "numpy.sort() : This function returns a sorted copy of an array.\n",
    "\n",
    "* Parameters :\n",
    "\n",
    "    - arr : Array to be sorted.\n",
    "    - axis : Axis along which we need array to be started.\n",
    "    - order : This argument specifies which fields to compare first.\n",
    "    - kind : [‘quicksort’{default}, ‘mergesort’, ‘heapsort’]Sorting algorithm."
   ]
  },
  {
   "cell_type": "code",
   "execution_count": 133,
   "id": "55e2a2b7",
   "metadata": {},
   "outputs": [
    {
     "name": "stdout",
     "output_type": "stream",
     "text": [
      "[[9 4 9 9 1]\n",
      " [6 4 6 8 7]\n",
      " [1 5 8 9 2]]\n",
      "---------SORTED ARRAY----------\n",
      "-----------ROW-WISE------------\n",
      "[[1 4 9 9 9]\n",
      " [4 6 6 7 8]\n",
      " [1 2 5 8 9]]\n",
      "---------COLUMN-WISE-----------\n",
      "[[1 4 6 8 1]\n",
      " [6 4 8 9 2]\n",
      " [9 5 9 9 7]]\n",
      "--------------------------------\n",
      "[[1 1 2 4 4]\n",
      " [5 6 6 7 8]\n",
      " [8 9 9 9 9]]\n"
     ]
    }
   ],
   "source": [
    "np.random.seed(3)\n",
    "arr = np.random.randint(1,10,(3,5))\n",
    "print(arr)\n",
    "print('---------SORTED ARRAY----------')\n",
    "print('-----------ROW-WISE------------')\n",
    "print(np.sort(arr,axis=1)) \n",
    "print('---------COLUMN-WISE-----------')\n",
    "print(np.sort(arr,axis=0,kind = 'mergesort'))\n",
    "print('-'*32)\n",
    "arr = np.reshape(np.sort(arr.flatten()),arr.shape)\n",
    "print(arr)"
   ]
  },
  {
   "cell_type": "markdown",
   "id": "966e5d5f",
   "metadata": {},
   "source": [
    "### 20. Mathematical Operations\n"
   ]
  },
  {
   "cell_type": "markdown",
   "id": "4bded4f4",
   "metadata": {},
   "source": [
    "#### a) Addition"
   ]
  },
  {
   "cell_type": "code",
   "execution_count": 139,
   "id": "e032d07f",
   "metadata": {},
   "outputs": [
    {
     "name": "stdout",
     "output_type": "stream",
     "text": [
      "[[9 4 9 9 1]\n",
      " [6 4 6 8 7]\n",
      " [1 5 8 9 2]]\n",
      "-------ADD--------\n",
      "[[10  5 10 10  2]\n",
      " [ 7  5  7  9  8]\n",
      " [ 2  6  9 10  3]]\n"
     ]
    }
   ],
   "source": [
    "np.random.seed(3)\n",
    "arr = np.random.randint(1,10,(3,5))\n",
    "print(arr)\n",
    "print('-------ADD--------')\n",
    "print(arr+1)\n"
   ]
  },
  {
   "cell_type": "markdown",
   "id": "81e1d0f9",
   "metadata": {},
   "source": [
    "#### b) Substraction"
   ]
  },
  {
   "cell_type": "code",
   "execution_count": 140,
   "id": "4a37ec04",
   "metadata": {},
   "outputs": [
    {
     "name": "stdout",
     "output_type": "stream",
     "text": [
      "[[9 4 9 9 1]\n",
      " [6 4 6 8 7]\n",
      " [1 5 8 9 2]]\n",
      "-------SUBTRACT--------\n",
      "[[8 3 8 8 0]\n",
      " [5 3 5 7 6]\n",
      " [0 4 7 8 1]]\n"
     ]
    }
   ],
   "source": [
    "np.random.seed(3)\n",
    "arr = np.random.randint(1,10,(3,5))\n",
    "print(arr)\n",
    "print('-------SUBTRACT--------')\n",
    "print(arr-1)\n"
   ]
  },
  {
   "cell_type": "markdown",
   "id": "313838a9",
   "metadata": {},
   "source": [
    "#### c) Multiplication"
   ]
  },
  {
   "cell_type": "code",
   "execution_count": 142,
   "id": "535afdb9",
   "metadata": {},
   "outputs": [
    {
     "name": "stdout",
     "output_type": "stream",
     "text": [
      "[[9 4 9 9 1]\n",
      " [6 4 6 8 7]\n",
      " [1 5 8 9 2]]\n",
      "-------MULTIPLY--------\n",
      "[[18  8 18 18  2]\n",
      " [12  8 12 16 14]\n",
      " [ 2 10 16 18  4]]\n"
     ]
    }
   ],
   "source": [
    "np.random.seed(3)\n",
    "arr = np.random.randint(1,10,(3,5))\n",
    "print(arr)\n",
    "print('-------MULTIPLY--------')\n",
    "print(arr*2)"
   ]
  },
  {
   "cell_type": "markdown",
   "id": "14dc2924",
   "metadata": {},
   "source": [
    "#### d) Division"
   ]
  },
  {
   "cell_type": "code",
   "execution_count": 147,
   "id": "c5a41dad",
   "metadata": {},
   "outputs": [
    {
     "name": "stdout",
     "output_type": "stream",
     "text": [
      "[[9 4 9 9 1]\n",
      " [6 4 6 8 7]\n",
      " [1 5 8 9 2]]\n",
      "-------DIVIDE--------\n",
      "[[4.5 2.  4.5 4.5 0.5]\n",
      " [3.  2.  3.  4.  3.5]\n",
      " [0.5 2.5 4.  4.5 1. ]]\n",
      "----INTEGER DIVISION----\n",
      "[[4 2 4 4 0]\n",
      " [3 2 3 4 3]\n",
      " [0 2 4 4 1]]\n"
     ]
    }
   ],
   "source": [
    "np.random.seed(3)\n",
    "arr = np.random.randint(1,10,(3,5))\n",
    "print(arr)\n",
    "print('-------DIVIDE--------')\n",
    "print(arr/2)\n",
    "print('----INTEGER DIVISION----')\n",
    "print(arr//2) "
   ]
  },
  {
   "cell_type": "markdown",
   "id": "992455d4",
   "metadata": {},
   "source": [
    "#### e) Matrix Multiplication\n",
    "For Matrix Multiplication we either use the\n",
    "* dot function or\n",
    "* the @ symbol"
   ]
  },
  {
   "cell_type": "code",
   "execution_count": 208,
   "id": "83548b24",
   "metadata": {},
   "outputs": [
    {
     "name": "stdout",
     "output_type": "stream",
     "text": [
      "[[9 4]\n",
      " [9 9]]\n",
      "--------------------\n",
      "[[1 6]\n",
      " [4 6]]\n",
      "--------------------\n",
      "[[ 25  78]\n",
      " [ 45 108]]\n",
      "--------------------\n",
      "[[63 58]\n",
      " [90 70]]\n",
      "--------------------\n",
      "[[63 58]\n",
      " [90 70]]\n"
     ]
    }
   ],
   "source": [
    "np.random.seed(3)\n",
    "arr1 = np.random.randint(1,10,(2,2))\n",
    "arr2 = np.random.randint(1,10,(2,2))\n",
    "print(arr1)\n",
    "print('-'*20)\n",
    "print(arr2)\n",
    "print('-'*20)\n",
    "print(arr1.dot(arr2))\n",
    "print('-'*20)\n",
    "print(arr2.dot(arr1))\n",
    "print('-'*20)\n",
    "print(arr2@arr1)"
   ]
  },
  {
   "cell_type": "markdown",
   "id": "ecdd29da",
   "metadata": {},
   "source": [
    "#### f) Power"
   ]
  },
  {
   "cell_type": "code",
   "execution_count": 152,
   "id": "b4387a82",
   "metadata": {},
   "outputs": [
    {
     "name": "stdout",
     "output_type": "stream",
     "text": [
      "[[9 4 9 9 1]\n",
      " [6 4 6 8 7]\n",
      " [1 5 8 9 2]]\n",
      "---------POWER---------\n",
      "[[81 16 81 81  1]\n",
      " [36 16 36 64 49]\n",
      " [ 1 25 64 81  4]]\n"
     ]
    }
   ],
   "source": [
    "print(arr)\n",
    "print('---------POWER---------')\n",
    "print(arr ** 2)"
   ]
  },
  {
   "cell_type": "markdown",
   "id": "2ab34ae4",
   "metadata": {},
   "source": [
    "### 21. Percentile Function\n",
    "numpy.percentile()function used to compute the nth percentile of the given data (array elements) along the specified axis."
   ]
  },
  {
   "cell_type": "code",
   "execution_count": 159,
   "id": "ead6282b",
   "metadata": {},
   "outputs": [
    {
     "name": "stdout",
     "output_type": "stream",
     "text": [
      "[9 4 9 9 1 6 4 6 8 7]\n",
      "------SORTED ARRAY------\n",
      "[1 4 4 6 6 7 8 9 9 9]\n",
      "------PERCENTILE-------\n",
      "6.5\n"
     ]
    }
   ],
   "source": [
    "np.random.seed(3)\n",
    "arr = np.random.randint(1,10,10)\n",
    "print(arr)\n",
    "print('------SORTED ARRAY------')\n",
    "arr = np.sort(arr)\n",
    "print(arr)\n",
    "print('------PERCENTILE-------')\n",
    "print(np.percentile(arr,50))"
   ]
  },
  {
   "cell_type": "markdown",
   "id": "8c12f86a",
   "metadata": {},
   "source": [
    "### 22. Mean, Variance and Standard deviation\n",
    "In NumPy, we can compute the mean, standard deviation, and variance of a given array along the second axis by two approaches first is by using inbuilt functions and second is by the formulas of the mean, standard deviation, and variance.\n",
    "\n",
    "Using numpy.mean(), numpy.std(), numpy.var()"
   ]
  },
  {
   "cell_type": "code",
   "execution_count": 163,
   "id": "e2c84c18",
   "metadata": {},
   "outputs": [
    {
     "name": "stdout",
     "output_type": "stream",
     "text": [
      "[9 4 9 9 1 6 4 6 8 7]\n",
      "---------MEAN---------\n",
      "6.3\n",
      "--------VARIANCE--------\n",
      "6.410000000000001\n",
      "---------S.T.D----------\n",
      "2.5317977802344327\n"
     ]
    }
   ],
   "source": [
    "np.random.seed(3)\n",
    "arr = np.random.randint(1,10,10)\n",
    "print(arr)\n",
    "print('---------MEAN---------')\n",
    "print(arr.mean())\n",
    "print('--------VARIANCE--------')\n",
    "print(arr.var())\n",
    "print('---------S.T.D----------')\n",
    "print(arr.std())"
   ]
  },
  {
   "cell_type": "markdown",
   "id": "2f8447fd",
   "metadata": {},
   "source": [
    "### 23. Filtering an numpy array"
   ]
  },
  {
   "cell_type": "code",
   "execution_count": 170,
   "id": "faa7d91d",
   "metadata": {},
   "outputs": [
    {
     "name": "stdout",
     "output_type": "stream",
     "text": [
      "[1 2 3 4 5 6 7 8 9]\n",
      "[ True  True  True  True False False False False False]\n",
      "[1 2 3 4]\n"
     ]
    }
   ],
   "source": [
    "arr = np.arange(1,10)\n",
    "print(arr)\n",
    "print(arr<5)\n",
    "print(arr[arr<5])"
   ]
  },
  {
   "cell_type": "code",
   "execution_count": 174,
   "id": "b135fbe6",
   "metadata": {},
   "outputs": [
    {
     "name": "stdout",
     "output_type": "stream",
     "text": [
      "[10 10 10 10  5  6  7  8  9]\n"
     ]
    }
   ],
   "source": [
    "# Filtered Output\n",
    "# Take all the value < 5 and replace them with 10\n",
    "arr[arr<5] = 10\n",
    "print(arr)"
   ]
  },
  {
   "cell_type": "markdown",
   "id": "d53ea31e",
   "metadata": {},
   "source": [
    "### 24 Transposing an array\n",
    "With the help of Numpy ndarray.T object, we can make a Transpose of an array having dimension greater than or equal to 2."
   ]
  },
  {
   "cell_type": "code",
   "execution_count": 176,
   "id": "f88469bd",
   "metadata": {},
   "outputs": [
    {
     "name": "stdout",
     "output_type": "stream",
     "text": [
      "[[ 2 16 17  6 18]\n",
      " [15  1  1 10 19]\n",
      " [ 6  8  6 15  2]]\n",
      "--------TRANSPOSE-----------\n",
      "[[ 2 15  6]\n",
      " [16  1  8]\n",
      " [17  1  6]\n",
      " [ 6 10 15]\n",
      " [18 19  2]]\n"
     ]
    }
   ],
   "source": [
    "arr = np.random.randint(1,20,[3,5])\n",
    "print(arr)\n",
    "print('--------TRANSPOSE-----------')\n",
    "print(arr.T)"
   ]
  },
  {
   "cell_type": "markdown",
   "id": "8612060e",
   "metadata": {},
   "source": [
    "### 25. Where function\n",
    "The numpy.where() function returns the indices of elements in an input array where the given condition is satisfied.\n",
    "\n",
    "Syntax :numpy.where(condition[, x, y]) Parameters: condition : When True, yield x, otherwise yield y. x, y : Values from which to choose. x, y and condition need to be broadcastable to some shape.\n",
    "\n",
    "Returns: out : [ndarray or tuple of ndarrays] If both x and y are specified, the output array contains elements of x where condition is True, and elements from y elsewhere.\n",
    "\n",
    "If only condition is given, return the tuple condition.nonzero(), the indices where condition is True."
   ]
  },
  {
   "cell_type": "code",
   "execution_count": 181,
   "id": "1bf29c15",
   "metadata": {},
   "outputs": [
    {
     "name": "stdout",
     "output_type": "stream",
     "text": [
      "[56 12 85 11 81 77 69 45 45 20]\n",
      "[100 100  85  11  81  77  69  45  45 100]\n",
      "['even' 'even' '85' '11' '81' '77' '69' '45' '45' 'even']\n",
      "['odd' 'odd' '85' '11' '81' '77' '69' '45' '45' 'odd']\n"
     ]
    }
   ],
   "source": [
    "arr = np.random.randint(1,100,10)\n",
    "print(arr)\n",
    "# Replace all those values where arr%2==0\n",
    "arr = np.where(arr%2==0,100,arr)\n",
    "print(arr)\n",
    "# Replace values where n%2==0 with 'even'\n",
    "arr1 = np.where(arr%2==0,'even',arr)\n",
    "print(arr1)\n",
    "arr2 = np.where(arr%2==0,'odd',arr1)\n",
    "print(arr2)"
   ]
  },
  {
   "cell_type": "markdown",
   "id": "e37bcbeb",
   "metadata": {},
   "source": [
    "### 26. Merging Arrays"
   ]
  },
  {
   "cell_type": "markdown",
   "id": "4c67f98a",
   "metadata": {},
   "source": [
    "#### a) Concatenate\n",
    "We can perform the concatenation operation using the concatenate() function. With this function, arrays are concatenated either row-wise or column-wise, given that they have equal rows or columns respectively. Column-wise concatenation can be done by equating axis to 1 as an argument in the function."
   ]
  },
  {
   "cell_type": "code",
   "execution_count": 188,
   "id": "b4f53e76",
   "metadata": {},
   "outputs": [
    {
     "name": "stdout",
     "output_type": "stream",
     "text": [
      "[[7 8 2 6]\n",
      " [8 6 8 3]]\n",
      "--------------------\n",
      "[[7 5 9 5]\n",
      " [4 9 6 7]]\n",
      "-------CONCATINATED ARRAY(ROW-WISE)-------\n",
      "[[7 8 2 6]\n",
      " [8 6 8 3]\n",
      " [7 5 9 5]\n",
      " [4 9 6 7]]\n",
      "-----CONCATINATED ARRAY(COLUMN-WISE)-------\n",
      "[[7 8 2 6 7 5 9 5]\n",
      " [8 6 8 3 4 9 6 7]]\n"
     ]
    }
   ],
   "source": [
    "arr1 = np.random.randint(1,10,(2,4))\n",
    "arr2 = np.random.randint(1,10,(2,4))\n",
    "print(arr1)\n",
    "print('-'*20)\n",
    "print(arr2)\n",
    "print('-------CONCATINATED ARRAY(ROW-WISE)-------')\n",
    "print(np.concatenate((arr1,arr2),axis=0))\n",
    "print('-----CONCATINATED ARRAY(COLUMN-WISE)-------')\n",
    "print(np.concatenate((arr1,arr2),axis=1))"
   ]
  },
  {
   "cell_type": "markdown",
   "id": "f043f96a",
   "metadata": {},
   "source": [
    "#### b) Vstack and Hstack\n",
    "numpy.hstack() function is used to stack the sequence of input arrays horizontally (i.e. column wise) to make a single array."
   ]
  },
  {
   "cell_type": "code",
   "execution_count": 192,
   "id": "010ca900",
   "metadata": {},
   "outputs": [
    {
     "name": "stdout",
     "output_type": "stream",
     "text": [
      "[[6 7 2 6]\n",
      " [4 7 9 6]]\n",
      "---------------------------\n",
      "[[7 8 1 3]\n",
      " [2 7 3 3]]\n",
      "-----------hstack-----------\n",
      "[[6 7 2 6 7 8 1 3]\n",
      " [4 7 9 6 2 7 3 3]]\n",
      "-----------vstack-----------\n",
      "[[6 7 2 6]\n",
      " [4 7 9 6]\n",
      " [7 8 1 3]\n",
      " [2 7 3 3]]\n"
     ]
    }
   ],
   "source": [
    "arr1 = np.random.randint(1,10,(2,4))\n",
    "arr2 = np.random.randint(1,10,(2,4))\n",
    "print(arr1)\n",
    "print('-'*27)\n",
    "print(arr2)\n",
    "print('-----------hstack-----------')\n",
    "print(np.hstack((arr1,arr2)))\n",
    "print('-----------vstack-----------')\n",
    "print(np.vstack((arr1,arr2)))"
   ]
  },
  {
   "cell_type": "markdown",
   "id": "45b9f82c",
   "metadata": {},
   "source": [
    "numpy.vstack() function is used to stack the sequence of input arrays vertically to make a single array."
   ]
  },
  {
   "cell_type": "markdown",
   "id": "0246f6f2",
   "metadata": {},
   "source": [
    "\n",
    "### 27. Splitting Arrays"
   ]
  },
  {
   "cell_type": "code",
   "execution_count": 193,
   "id": "bbca3dc1",
   "metadata": {},
   "outputs": [
    {
     "name": "stdout",
     "output_type": "stream",
     "text": [
      "[[6 8 2 5]\n",
      " [8 4 2 3]\n",
      " [4 2 6 5]\n",
      " [6 3 5 2]]\n"
     ]
    }
   ],
   "source": [
    "arr = np.random.randint(1,10,(4,4))\n",
    "print(arr)"
   ]
  },
  {
   "cell_type": "markdown",
   "id": "2546e589",
   "metadata": {},
   "source": [
    "numpy.vsplit() function split an array into multiple sub-arrays vertically (row-wise). vsplit is equivalent to split with axis=0 (default), the array is always split along the first axis regardless of the array dimension."
   ]
  },
  {
   "cell_type": "code",
   "execution_count": 194,
   "id": "4abe40de",
   "metadata": {},
   "outputs": [
    {
     "data": {
      "text/plain": [
       "[array([[6, 8, 2, 5],\n",
       "        [8, 4, 2, 3]]),\n",
       " array([[4, 2, 6, 5],\n",
       "        [6, 3, 5, 2]])]"
      ]
     },
     "execution_count": 194,
     "metadata": {},
     "output_type": "execute_result"
    }
   ],
   "source": [
    "np.vsplit(arr,2)"
   ]
  },
  {
   "cell_type": "markdown",
   "id": "6af0ee2e",
   "metadata": {},
   "source": [
    "numpy.hsplit() function split an array into multiple sub-arrays horizontally (column-wise). hsplit is equivalent to split with axis=1, the array is always split along the second axis regardless of the array dimension."
   ]
  },
  {
   "cell_type": "code",
   "execution_count": 195,
   "id": "1f5440a3",
   "metadata": {},
   "outputs": [
    {
     "data": {
      "text/plain": [
       "[array([[6, 8],\n",
       "        [8, 4],\n",
       "        [4, 2],\n",
       "        [6, 3]]),\n",
       " array([[2, 5],\n",
       "        [2, 3],\n",
       "        [6, 5],\n",
       "        [5, 2]])]"
      ]
     },
     "execution_count": 195,
     "metadata": {},
     "output_type": "execute_result"
    }
   ],
   "source": [
    "np.hsplit(arr,2)"
   ]
  },
  {
   "cell_type": "markdown",
   "id": "712a333f",
   "metadata": {},
   "source": [
    "### 28. Turning Pics into Numpy arrays\n",
    "\n",
    "This is picture we are having right here\n",
    "\n",
    "Once we can turn this picture into an numpy array we can perform operations on that and pass the array even for some machine learning algorithms which will be benefitial for us\n",
    "\n",
    "We will be using imread function here which belongs from the matplotlib class\n"
   ]
  },
  {
   "cell_type": "code",
   "execution_count": 203,
   "id": "fba34385",
   "metadata": {},
   "outputs": [],
   "source": [
    "# Read the image\n",
    "from matplotlib.image import imread"
   ]
  },
  {
   "cell_type": "code",
   "execution_count": 205,
   "id": "1c82024b",
   "metadata": {},
   "outputs": [
    {
     "data": {
      "text/plain": [
       "(1024, 768, 3)"
      ]
     },
     "execution_count": 205,
     "metadata": {},
     "output_type": "execute_result"
    }
   ],
   "source": [
    "img = imread('Ritika.jpeg')\n",
    "img.shape\n",
    "# No of pixels in height,No of pixels in width, RGB"
   ]
  },
  {
   "cell_type": "code",
   "execution_count": 207,
   "id": "becc48ca",
   "metadata": {},
   "outputs": [
    {
     "data": {
      "text/plain": [
       "255"
      ]
     },
     "execution_count": 207,
     "metadata": {},
     "output_type": "execute_result"
    }
   ],
   "source": [
    "np.max(img)"
   ]
  },
  {
   "cell_type": "code",
   "execution_count": null,
   "id": "86c2a0a0",
   "metadata": {},
   "outputs": [],
   "source": []
  }
 ],
 "metadata": {
  "kernelspec": {
   "display_name": "Python 3 (ipykernel)",
   "language": "python",
   "name": "python3"
  },
  "language_info": {
   "codemirror_mode": {
    "name": "ipython",
    "version": 3
   },
   "file_extension": ".py",
   "mimetype": "text/x-python",
   "name": "python",
   "nbconvert_exporter": "python",
   "pygments_lexer": "ipython3",
   "version": "3.11.5"
  }
 },
 "nbformat": 4,
 "nbformat_minor": 5
}
