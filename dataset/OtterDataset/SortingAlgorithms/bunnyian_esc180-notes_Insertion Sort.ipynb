{
 "cells": [
  {
   "cell_type": "markdown",
   "metadata": {},
   "source": [
    "# Insertion Sort\n",
    "Insertion Sort can be looked at as a small modification of Merge Sort. Instead of breaking the list up in two halves, we'll break it up into `1` and `n-1` elements:"
   ]
  },
  {
   "cell_type": "code",
   "execution_count": 1,
   "metadata": {
    "collapsed": true
   },
   "outputs": [],
   "source": [
    "def merge(L1, L2):\n",
    "    '''Return the sorted version of L1 + L2\n",
    "    \n",
    "    Arguments:\n",
    "    L1, L2 -- lists of floats\n",
    "    '''\n",
    "    \n",
    "    if len(L1) == 0:\n",
    "        return L2[:]\n",
    "    \n",
    "    if len(L2) == 0:\n",
    "        return L1[:]\n",
    "    \n",
    "    if L1[0] < L2[0]:\n",
    "        return [L1[0]] + merge(L1[1:], L2)\n",
    "    else:\n",
    "        return [L2[0]] + merge(L1, L2[:])\n",
    "    \n",
    "def insertion_sort(L):\n",
    "    '''Return a sorted version of lis\n",
    "    \n",
    "    '''\n",
    "    #base case\n",
    "    if len(L) <= 1:  \n",
    "        return L[:] #return a copy of L\n",
    "                      #need to return a copy in case the user wants to modify\n",
    "                      #the original lis and also modify the copy; so they \n",
    "                      #need to be kept separated\n",
    "    \n",
    "    #Sort the first half, sort the second half, and then merge the two halves!\n",
    "    mid = 1 # split into 1 and n-1 parts\n",
    "    return merge(insertion_sort(L[:mid]), insertion_sort(L[mid:]))"
   ]
  },
  {
   "cell_type": "markdown",
   "metadata": {},
   "source": [
    "Let's look at an example of a run of `insertion_sort`:\n",
    "\n",
    "\n",
    "                   [3]   -> [3]\n",
    "                    |\n",
    "                [20, 3]  ->merge([20], [3]) -> [3, 20]\n",
    "                  |\n",
    "             [4, 20, 3]  ->merge([4], [3, 20]) -> [3, 4, 20]\n",
    "                 |\n",
    "          [2, 4, 20, 3]  ->merge([2], [3, 4, 20]) -> [2, 3, 4, 20]\n",
    "               |\n",
    "      [10, 2, 4, 20, 3]  ->merge([10], [2, 3, 4, 20]) \n",
    "                               ->[2, 3, 4, 10, 20]\n",
    "\n",
    "\n",
    "\n",
    "The reason this sort is called `insertion_sort` is that the `merge` *inserts* `L[0]` into `L[1:]` so that the resultant list is sorted.\n",
    "\n",
    "## Complexity of Insertion Sort\n",
    "\n",
    "\n",
    "Let's look at the call tree for Insertion Sort\n",
    "\n",
    "\n",
    "                                  n. of ops merge takes\n",
    "              [(1)]              k\n",
    "                |\n",
    "              [(2)]              2\n",
    "                |            \n",
    "              .....\n",
    "              .....\n",
    "                |\n",
    "             [(n-2)]            k(n-2)\n",
    "                | \n",
    "            [ (n-1) ]           k(n-1)\n",
    "                |\n",
    "           [   (n)    ]          kn\n",
    "\n",
    "\n",
    "(We are using the usual notation of `[  (m)  ]` as a list of length `m`.)\n",
    " \n",
    "\n",
    "Like in MergeSort, not every call takes the same amount of time/operations: the `merge()` takes $\\mathcal{O}(\\text{len(L)})$ operations like before. Again, let's assume that `merge()` takes $k\\text{len(L)}$ operations.\n",
    "\n",
    "In total, we'll have $kn+k(n-1)+k(n-2)+...+2k = k(n+(n-1)+...+2)  = k((\\sum_{i=1}^n i)-1) = kn(n+1)/2-1$, which is $\\mathcal{O}(n^2)$. The small change we made caused the sorting algorithm to be $\\mathcal{O}(n^2)$ rather than $\\mathcal{O}(n\\log(n))$.\n",
    "                  "
   ]
  }
 ],
 "metadata": {
  "kernelspec": {
   "display_name": "Python 3",
   "language": "python",
   "name": "python3"
  },
  "language_info": {
   "codemirror_mode": {
    "name": "ipython",
    "version": 2
   },
   "file_extension": ".py",
   "mimetype": "text/x-python",
   "name": "python",
   "nbconvert_exporter": "python",
   "pygments_lexer": "ipython2",
   "version": "2.7.12"
  }
 },
 "nbformat": 4,
 "nbformat_minor": 0
}
