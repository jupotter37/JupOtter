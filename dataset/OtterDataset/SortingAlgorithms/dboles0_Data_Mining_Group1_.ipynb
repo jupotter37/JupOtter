{
 "cells": [
  {
   "cell_type": "markdown",
   "metadata": {},
   "source": [
    "## Local Import\n",
    "\n",
    "* working localy trim the data to ensure you can work with it locally <br\\>*(my computer does not have sufficient local memory to join all tables so I use appropriate attributes)*\n",
    "\n",
    "attempted stratagy (merge pd_df until memory bound then print to file)"
   ]
  },
  {
   "cell_type": "code",
   "execution_count": 1,
   "metadata": {},
   "outputs": [],
   "source": [
    "import json, csv, os\n",
    "import pandas as pd\n",
    "\n",
    "\n",
    "def JSON_to_dataFrame(file): \n",
    "    \n",
    "    fp = open(file, encoding=\"utf8\")\n",
    "    json_obj = [ json.loads(x) for x in fp.readlines() ] \n",
    "    df = pd.DataFrame(json_obj)\n",
    "    fp.close\n",
    "    return df\n"
   ]
  },
  {
   "cell_type": "code",
   "execution_count": 2,
   "metadata": {},
   "outputs": [],
   "source": [
    "root_path = \"/Users/2015mbp16gb256gb/Documents/school/Fall_2019/4502-Data_Mining/Group_Project/Group1/yelp_dataset/\"\n",
    "rbu_path = root_path + \"rbu_merge.json\"\n",
    "filtered_merge_path = root_path + \"filtered_merge.json\""
   ]
  },
  {
   "cell_type": "markdown",
   "metadata": {},
   "source": [
    "## Reviewing Business File"
   ]
  },
  {
   "cell_type": "code",
   "execution_count": null,
   "metadata": {},
   "outputs": [],
   "source": [
    "import sys\n",
    "try: \n",
    "    !{sys.executable} -m pip install plotly --upgrade\n",
    "    !{sys.executable} -m pip install geopandas==0.3.0\n",
    "    !{sys.executable} -m pip install pyshp==1.2.10\n",
    "    !{sys.executable} -m pip install shapely==1.6.3\n",
    "    !{sys.executable} -m pip install \"notebook>=5.3\" \"ipywidgets>=7.2\"\n",
    "    !{sys.executable} -m pip install chart_studio\n",
    "    !{sys.executable} -m pip install plotly-geo\n",
    "    !{sys.executable} -m pip install folium\n",
    "except: \n",
    "    print(\"already installed\")"
   ]
  },
  {
   "cell_type": "code",
   "execution_count": 3,
   "metadata": {},
   "outputs": [
    {
     "name": "stdout",
     "output_type": "stream",
     "text": [
      "running plotly = 4.2.1\n"
     ]
    }
   ],
   "source": [
    "import matplotlib.pyplot as plt \n",
    "%matplotlib inline\n",
    "import numpy as np\n",
    "\n",
    "# clustering imports\n",
    "from sklearn.preprocessing import StandardScaler\n",
    "from sklearn.cluster import KMeans\n",
    "\n",
    "\n",
    "# plotly imports \n",
    "import plotly\n",
    "from plotly import __version__\n",
    "print('running plotly = {}'.format(__version__))\n",
    "from plotly.offline import download_plotlyjs, init_notebook_mode, plot, iplot\n",
    "\n",
    "import plotly.graph_objects as go\n",
    "\n",
    "from sklearn.decomposition import PCA "
   ]
  },
  {
   "cell_type": "code",
   "execution_count": 4,
   "metadata": {},
   "outputs": [
    {
     "data": {
      "text/html": [
       "        <script type=\"text/javascript\">\n",
       "        window.PlotlyConfig = {MathJaxConfig: 'local'};\n",
       "        if (window.MathJax) {MathJax.Hub.Config({SVG: {font: \"STIX-Web\"}});}\n",
       "        if (typeof require !== 'undefined') {\n",
       "        require.undef(\"plotly\");\n",
       "        requirejs.config({\n",
       "            paths: {\n",
       "                'plotly': ['https://cdn.plot.ly/plotly-latest.min']\n",
       "            }\n",
       "        });\n",
       "        require(['plotly'], function(Plotly) {\n",
       "            window._Plotly = Plotly;\n",
       "        });\n",
       "        }\n",
       "        </script>\n",
       "        "
      ]
     },
     "metadata": {},
     "output_type": "display_data"
    }
   ],
   "source": [
    "init_notebook_mode(connected=True)"
   ]
  },
  {
   "cell_type": "code",
   "execution_count": 5,
   "metadata": {},
   "outputs": [
    {
     "name": "stdout",
     "output_type": "stream",
     "text": [
      "CPU times: user 4.04 s, sys: 362 ms, total: 4.4 s\n",
      "Wall time: 4.44 s\n"
     ]
    }
   ],
   "source": [
    "%%time\n",
    "\n",
    "business_df = JSON_to_dataFrame(root_path + \"business.json\")\n",
    "business_df['text'] = business_df['state'] + ', ' + business_df['city']"
   ]
  },
  {
   "cell_type": "markdown",
   "metadata": {},
   "source": [
    "### Reviewing The Buiness Data"
   ]
  },
  {
   "cell_type": "code",
   "execution_count": 35,
   "metadata": {},
   "outputs": [
    {
     "data": {
      "text/plain": [
       "state\n",
       "AB      8012\n",
       "AK         2\n",
       "AL         3\n",
       "AR         1\n",
       "AZ     56686\n",
       "BAS        1\n",
       "BC         1\n",
       "CA        19\n",
       "CON        1\n",
       "CT         3\n",
       "DOW        1\n",
       "DUR        1\n",
       "FL         4\n",
       "GA         2\n",
       "IL      1932\n",
       "NC     14720\n",
       "NE         2\n",
       "NJ         1\n",
       "NM         1\n",
       "NV     36312\n",
       "NY        22\n",
       "OH     14697\n",
       "ON     33412\n",
       "PA     11216\n",
       "QC      9219\n",
       "SC      1162\n",
       "TN         1\n",
       "TX         6\n",
       "UT         1\n",
       "VA         2\n",
       "VT         2\n",
       "WA         3\n",
       "WI      5154\n",
       "XGL        1\n",
       "XGM        4\n",
       "XWY        2\n",
       "Name: state, dtype: int64"
      ]
     },
     "execution_count": 35,
     "metadata": {},
     "output_type": "execute_result"
    }
   ],
   "source": [
    "# find the amount of states in the dataset\n",
    "business_df.groupby('state').state.count()"
   ]
  },
  {
   "cell_type": "markdown",
   "metadata": {},
   "source": [
    "* since the majority of the data is found in 11 States lets cluster to see how dence the data is"
   ]
  },
  {
   "cell_type": "markdown",
   "metadata": {},
   "source": [
    "### Kmeans Attempt"
   ]
  },
  {
   "cell_type": "markdown",
   "metadata": {},
   "source": [
    "* Kmeans can be sensative to outliers but most of the information is naturally clumped so we dont have to worry "
   ]
  },
  {
   "cell_type": "code",
   "execution_count": 36,
   "metadata": {},
   "outputs": [],
   "source": [
    "# transform the data \n",
    "\n",
    "coordinates_df = business_df[['longitude','latitude']].copy()\n",
    "\n",
    "pca = PCA(n_components=2)\n",
    "coordinates = pca.fit_transform(coordinates_df)"
   ]
  },
  {
   "cell_type": "markdown",
   "metadata": {},
   "source": [
    "*using the elbow method to find k*"
   ]
  },
  {
   "cell_type": "code",
   "execution_count": 38,
   "metadata": {},
   "outputs": [
    {
     "data": {
      "image/png": "[encoded data removed]",
      "text/plain": [
       "<Figure size 432x288 with 1 Axes>"
      ]
     },
     "metadata": {
      "needs_background": "light"
     },
     "output_type": "display_data"
    }
   ],
   "source": [
    "Sum_of_squared_distances = []\n",
    "K = 15\n",
    "\n",
    "for k in range(1, K):\n",
    "    km = KMeans(n_clusters=k)\n",
    "    km = km.fit(coordinates)\n",
    "    Sum_of_squared_distances.append(km.inertia_)\n",
    "    \n",
    "plt.plot(Sum_of_squared_distances, 'bx-')\n",
    "plt.xlabel('k')\n",
    "plt.ylabel('Sum_of_squared_distances')\n",
    "plt.title('Elbow Method For Optimal k')\n",
    "plt.show()"
   ]
  },
  {
   "cell_type": "markdown",
   "metadata": {},
   "source": [
    "*We will still try 11 to see how the data splits up*"
   ]
  },
  {
   "cell_type": "code",
   "execution_count": 71,
   "metadata": {},
   "outputs": [],
   "source": [
    "#Train model\n",
    "n_clusters = 11\n",
    "kmeans = KMeans(n_clusters=n_clusters).fit(coordinates)"
   ]
  },
  {
   "cell_type": "code",
   "execution_count": 65,
   "metadata": {},
   "outputs": [],
   "source": [
    "business_df['labels'] = pd.DataFrame(kmeans.labels_)"
   ]
  },
  {
   "cell_type": "markdown",
   "metadata": {},
   "source": [
    "*Lets see what states connecto to clusters*"
   ]
  },
  {
   "cell_type": "code",
   "execution_count": 66,
   "metadata": {},
   "outputs": [],
   "source": [
    "groupby_lables = business_df.groupby('labels').agg(lambda x:x.value_counts().index[0])"
   ]
  },
  {
   "cell_type": "code",
   "execution_count": 79,
   "metadata": {},
   "outputs": [],
   "source": [
    "state_lables = list(groupby_lables['state'])"
   ]
  },
  {
   "cell_type": "code",
   "execution_count": 68,
   "metadata": {
    "scrolled": true
   },
   "outputs": [
    {
     "data": {
      "text/plain": [
       "\"\\nfig = go.Figure(data=go.Scattergeo(\\n        lon = business_df['longitude'],\\n        lat = business_df['latitude'],\\n        text = business_df['text'],\\n        mode = 'markers',\\n        marker_color = business_df['lables'],\\n        ))\\n\\nfig.update_layout(\\n        title = 'US Cluster<br>(hover for spicific informaiton)',\\n        geo_scope='usa',\\n    )\\nfig.show()\\n\""
      ]
     },
     "execution_count": 68,
     "metadata": {},
     "output_type": "execute_result"
    }
   ],
   "source": [
    "# let's plot cluster information for nationwide visualization\n",
    "\n",
    "import plotly.graph_objects as go\n",
    "'''\n",
    "fig = go.Figure(data=go.Scattergeo(\n",
    "        lon = business_df['longitude'],\n",
    "        lat = business_df['latitude'],\n",
    "        text = business_df['text'],\n",
    "        mode = 'markers',\n",
    "        marker_color = business_df['lables'],\n",
    "        ))\n",
    "\n",
    "fig.update_layout(\n",
    "        title = 'US Cluster<br>(hover for spicific informaiton)',\n",
    "        geo_scope='usa',\n",
    "    )\n",
    "fig.show()\n",
    "'''"
   ]
  },
  {
   "cell_type": "markdown",
   "metadata": {},
   "source": [
    "![img](map.png)"
   ]
  },
  {
   "cell_type": "markdown",
   "metadata": {},
   "source": [
    "#### Lets investigate the review count and start of each of the clusters "
   ]
  },
  {
   "cell_type": "code",
   "execution_count": 93,
   "metadata": {},
   "outputs": [
    {
     "name": "stdout",
     "output_type": "stream",
     "text": [
      "national_stars_mean =  3.585626839867296\n",
      "national_review_mean =  33.53896235378409\n"
     ]
    }
   ],
   "source": [
    "national_review_mean = business_df[\"review_count\"].mean()\n",
    "national_stars_mean = business_df[\"stars\"].mean()\n",
    "print(\"national_stars_mean = \", national_stars_mean)\n",
    "print(\"national_review_mean = \", national_review_mean)"
   ]
  },
  {
   "cell_type": "code",
   "execution_count": 110,
   "metadata": {},
   "outputs": [
    {
     "name": "stdout",
     "output_type": "stream",
     "text": [
      "Star's mean per cluster = \n",
      "AZ 3.7578270684071056\n",
      "NV 3.696218730219886\n",
      "AZ 3.6479632816982215\n",
      "QC 3.634898312418866\n",
      "WI 3.610895696006204\n",
      "PA 3.577598502406846\n",
      "NC 3.539541619443395\n",
      "OH 3.505374880936182\n",
      "IL 3.4647850854479545\n",
      "AB 3.3856143856143857\n",
      "ON 3.3563926872325784\n",
      "\n",
      "Review_count's mean per cluster = \n",
      "NV 61.79425929493354\n",
      "AZ 37.28854647168515\n",
      "AZ 33.03576209600306\n",
      "NC 26.116861856189395\n",
      "WI 25.130283055447848\n",
      "PA 25.06141914779818\n",
      "ON 22.77672720744442\n",
      "IL 21.219057483169344\n",
      "OH 21.129133215403456\n",
      "QC 19.03147987884033\n",
      "AB 12.08066933066933\n",
      "\n",
      "Ratio of closed businesses per cluster = \n",
      "OH = 0.14648251462784057\n",
      "NC = 0.15627754690844986\n",
      "PA = 0.15920841504724548\n",
      "AZ = 0.16140753490151083\n",
      "AB = 0.16458541458541454\n",
      "QC = 0.17265253137170056\n",
      "AZ = 0.18183007818889652\n",
      "WI = 0.18301667312911984\n",
      "NV = 0.1858436304593114\n",
      "IL = 0.20041429311237702\n",
      "ON = 0.20606804105203314\n",
      "\n",
      "Count per cluster = \n",
      "--AZ-- business_id     30567\n",
      "name            30567\n",
      "address         30567\n",
      "city            30567\n",
      "state           30567\n",
      "postal_code     30567\n",
      "latitude        30567\n",
      "longitude       30567\n",
      "stars           30567\n",
      "review_count    30567\n",
      "is_open         30567\n",
      "attributes      26192\n",
      "categories      30492\n",
      "hours           24640\n",
      "text            30567\n",
      "lables          30567\n",
      "labels          30567\n",
      "dtype: int64\n",
      "--PA-- business_id     11218\n",
      "name            11218\n",
      "address         11218\n",
      "city            11218\n",
      "state           11218\n",
      "postal_code     11218\n",
      "latitude        11218\n",
      "longitude       11218\n",
      "stars           11218\n",
      "review_count    11218\n",
      "is_open         11218\n",
      "attributes       9737\n",
      "categories      11199\n",
      "hours            8327\n",
      "text            11218\n",
      "lables          11218\n",
      "labels          11218\n",
      "dtype: int64\n",
      "--AB-- business_id     8008\n",
      "name            8008\n",
      "address         8008\n",
      "city            8008\n",
      "state           8008\n",
      "postal_code     8008\n",
      "latitude        8008\n",
      "longitude       8008\n",
      "stars           8008\n",
      "review_count    8008\n",
      "is_open         8008\n",
      "attributes      6401\n",
      "categories      7994\n",
      "hours           5880\n",
      "text            8008\n",
      "lables          8008\n",
      "labels          8008\n",
      "dtype: int64\n",
      "--NV-- business_id     36337\n",
      "name            36337\n",
      "address         36337\n",
      "city            36337\n",
      "state           36337\n",
      "postal_code     36337\n",
      "latitude        36337\n",
      "longitude       36337\n",
      "stars           36337\n",
      "review_count    36337\n",
      "is_open         36337\n",
      "attributes      30961\n",
      "categories      36238\n",
      "hours           28294\n",
      "text            36337\n",
      "lables          36337\n",
      "labels          36337\n",
      "dtype: int64\n",
      "--WI-- business_id     5158\n",
      "name            5158\n",
      "address         5158\n",
      "city            5158\n",
      "state           5158\n",
      "postal_code     5158\n",
      "latitude        5158\n",
      "longitude       5158\n",
      "stars           5158\n",
      "review_count    5158\n",
      "is_open         5158\n",
      "attributes      4515\n",
      "categories      5151\n",
      "hours           4199\n",
      "text            5158\n",
      "lables          5158\n",
      "labels          5158\n",
      "dtype: int64\n",
      "--QC-- business_id     9244\n",
      "name            9244\n",
      "address         9244\n",
      "city            9244\n",
      "state           9244\n",
      "postal_code     9244\n",
      "latitude        9244\n",
      "longitude       9244\n",
      "stars           9244\n",
      "review_count    9244\n",
      "is_open         9244\n",
      "attributes      8250\n",
      "categories      9214\n",
      "hours           6587\n",
      "text            9244\n",
      "lables          9244\n",
      "labels          9244\n",
      "dtype: int64\n",
      "--NC-- business_id     15882\n",
      "name            15882\n",
      "address         15882\n",
      "city            15882\n",
      "state           15882\n",
      "postal_code     15882\n",
      "latitude        15882\n",
      "longitude       15882\n",
      "stars           15882\n",
      "review_count    15882\n",
      "is_open         15882\n",
      "attributes      13544\n",
      "categories      15842\n",
      "hours           12314\n",
      "text            15882\n",
      "lables          15882\n",
      "labels          15882\n",
      "dtype: int64\n",
      "--ON-- business_id     33421\n",
      "name            33421\n",
      "address         33421\n",
      "city            33421\n",
      "state           33421\n",
      "postal_code     33421\n",
      "latitude        33421\n",
      "longitude       33421\n",
      "stars           33421\n",
      "review_count    33421\n",
      "is_open         33421\n",
      "attributes      27879\n",
      "categories      33351\n",
      "hours           24306\n",
      "text            33421\n",
      "lables          33421\n",
      "labels          33421\n",
      "dtype: int64\n",
      "--OH-- business_id     14698\n",
      "name            14698\n",
      "address         14698\n",
      "city            14698\n",
      "state           14698\n",
      "postal_code     14698\n",
      "latitude        14698\n",
      "longitude       14698\n",
      "stars           14698\n",
      "review_count    14698\n",
      "is_open         14698\n",
      "attributes      12604\n",
      "categories      14666\n",
      "hours           11144\n",
      "text            14698\n",
      "lables          14698\n",
      "labels          14698\n",
      "dtype: int64\n",
      "--IL-- business_id     1931\n",
      "name            1931\n",
      "address         1931\n",
      "city            1931\n",
      "state           1931\n",
      "postal_code     1931\n",
      "latitude        1931\n",
      "longitude       1931\n",
      "stars           1931\n",
      "review_count    1931\n",
      "is_open         1931\n",
      "attributes      1671\n",
      "categories      1926\n",
      "hours           1433\n",
      "text            1931\n",
      "lables          1931\n",
      "labels          1931\n",
      "dtype: int64\n",
      "--AZ-- business_id     26145\n",
      "name            26145\n",
      "address         26145\n",
      "city            26145\n",
      "state           26145\n",
      "postal_code     26145\n",
      "latitude        26145\n",
      "longitude       26145\n",
      "stars           26145\n",
      "review_count    26145\n",
      "is_open         26145\n",
      "attributes      22019\n",
      "categories      26054\n",
      "hours           20655\n",
      "text            26145\n",
      "lables          26145\n",
      "labels          26145\n",
      "dtype: int64\n"
     ]
    }
   ],
   "source": [
    "def sortSecond(val): \n",
    "    return val[1] \n",
    "\n",
    "review_count = []\n",
    "rating_stars = []\n",
    "ratio_open_close = []\n",
    "count = []\n",
    "for n in range(n_clusters):\n",
    "    indexes = business_df[business_df[\"labels\"] != n].index\n",
    "    temp = business_df.copy()\n",
    "    temp.drop(indexes, inplace=True)\n",
    "    rating_stars.append((n, temp[\"stars\"].mean()))\n",
    "    review_count.append((n, temp[\"review_count\"].mean()))\n",
    "    count.append((n, temp.count()))\n",
    "    ratio_open_close.append((n, 1 - temp[\"is_open\"].sum() / temp[\"is_open\"].count() ))\n",
    "\n",
    "print(\"Star's mean per cluster = \")\n",
    "rating_stars.sort(key = sortSecond, reverse = True)\n",
    "for i, value in rating_stars: \n",
    "    print(state_lables[i], value)\n",
    "    \n",
    "review_count.sort(key = sortSecond, reverse = True)\n",
    "print(\"\\nReview_count's mean per cluster = \")\n",
    "for i, value in review_count: \n",
    "    print(state_lables[i], value) \n",
    "    \n",
    "ratio_open_close.sort(key = sortSecond)    \n",
    "print(\"\\nRatio of closed businesses per cluster = \")\n",
    "for i, value in ratio_open_close: \n",
    "    print(state_lables[i], \"=\", value) \n",
    "    \n",
    "print(\"\\nCount per cluster = \")\n",
    "for i, value in count: \n",
    "    print(\"--\"+state_lables[i]+\"--\",value)"
   ]
  },
  {
   "cell_type": "markdown",
   "metadata": {},
   "source": [
    "*********\n",
    "### Merging Files\n",
    "* merge review, business, and user. Clean format to ensure no merge conflicts"
   ]
  },
  {
   "cell_type": "code",
   "execution_count": null,
   "metadata": {},
   "outputs": [],
   "source": [
    "%%time\n",
    "\n",
    "review_df = JSON_to_dataFrame(root_path + \"review.json\")\n",
    "business_df = JSON_to_dataFrame(root_path + \"business.json\")\n",
    "user_df = JSON_to_dataFrame(root_path + \"user.json\")\n",
    "# tip_df = JSON_to_dataFrame(root_path + \"tip.json\")                     /not used\n",
    "# checkin_df = JSON_to_dataFrame(root_path + \"checkin.json\")             /not used"
   ]
  },
  {
   "cell_type": "code",
   "execution_count": null,
   "metadata": {},
   "outputs": [],
   "source": [
    "# utility function to make a dict of columns with table name added\n",
    "# used for the renaming of column names\n",
    "def make_columns(lst, base):\n",
    "    ret = {}\n",
    "    for i in lst:\n",
    "        ret[i] = base + '_' + i\n",
    "    return ret"
   ]
  },
  {
   "cell_type": "code",
   "execution_count": null,
   "metadata": {},
   "outputs": [],
   "source": [
    "# return dataframe with column names updated to \"table + _column_name\"\n",
    "def process_df(a_df, table): \n",
    "\n",
    "    col_list = [i for i in a_df]\n",
    "    new_dict = make_columns(col_list, table)\n",
    "    return a_df.rename(columns=new_dict)"
   ]
  },
  {
   "cell_type": "code",
   "execution_count": null,
   "metadata": {},
   "outputs": [],
   "source": [
    "%%time\n",
    "\n",
    "# review col = ['business_id', 'cool', 'date', 'funny', 'review_id', 'stars', 'text', 'useful', 'user_id']\n",
    "\n",
    "# ***Update review_df*** \n",
    "review_drop = ['cool','funny']\n",
    "review_df = review_df.drop(review_drop, axis=1)\n",
    "\n",
    "review_df = process_df(review_df, 'review')"
   ]
  },
  {
   "cell_type": "code",
   "execution_count": null,
   "metadata": {},
   "outputs": [],
   "source": [
    "%%time\n",
    "\n",
    "# business col = \n",
    "# ['address','attributes','business_id','categories','city','hours','is_open',              \n",
    "# 'latitude','longitude','name','postal_code','review_count','stars','state']                              \n",
    "\n",
    "# ***Update business_df***\n",
    "business_drop = ['address', 'attributes', 'categories','city', 'postal_code']\n",
    "business_df = business_df.drop(business_drop, axis=1)\n",
    "\n",
    "business_df = process_df(business_df, 'business')"
   ]
  },
  {
   "cell_type": "code",
   "execution_count": null,
   "metadata": {},
   "outputs": [],
   "source": [
    "%%time\n",
    "\n",
    "rb_merge = pd.merge(review_df, business_df, left_on='review_business_id', right_on='business_business_id', how='inner')"
   ]
  },
  {
   "cell_type": "code",
   "execution_count": null,
   "metadata": {},
   "outputs": [],
   "source": [
    "%%time\n",
    "\n",
    "# user col = \n",
    "# ['average_stars','compliment_cool','compliment_cute','compliment_funny','compliment_hot','compliment_list',           \n",
    "# 'compliment_more','compliment_note','compliment_photos','compliment_plain','compliment_profile','compliment_writer', \n",
    "# 'cool','elite','fans','friends','funny','name','review_count','useful','user_id','yelping_since']   \n",
    "\n",
    "# ***Update _user_df***\n",
    "user_drop = ['average_stars','compliment_cool','compliment_cute','compliment_funny','compliment_hot','compliment_list','compliment_more','compliment_note','compliment_photos','compliment_plain','compliment_profile','compliment_writer','cool', 'elite', 'fans','friends','funny']\n",
    "user_df = user_df.drop(user_drop, axis=1)\n",
    "\n",
    "user_df = process_df(user_df, 'user')"
   ]
  },
  {
   "cell_type": "code",
   "execution_count": null,
   "metadata": {},
   "outputs": [],
   "source": [
    "%%time\n",
    "\n",
    "rbu_merge = pd.merge(rb_merge, user_df, left_on='review_user_id', right_on='user_user_id', how='inner')"
   ]
  },
  {
   "cell_type": "code",
   "execution_count": null,
   "metadata": {},
   "outputs": [],
   "source": [
    "%%time\n",
    "\n",
    "rbu_drop = ['review_business_id','review_user_id', 'business_hours']\n",
    "rbu_merge = rbu_merge.drop(rbu_drop, axis=1)\n"
   ]
  },
  {
   "cell_type": "markdown",
   "metadata": {},
   "source": [
    "## Filter Data to prepare for converstion back to json\n",
    "* (Drop all states that are not AZ)"
   ]
  },
  {
   "cell_type": "code",
   "execution_count": null,
   "metadata": {},
   "outputs": [],
   "source": [
    "rbu_merge.shape"
   ]
  },
  {
   "cell_type": "code",
   "execution_count": null,
   "metadata": {},
   "outputs": [],
   "source": [
    "filtered_merge = rbu_merge[rbu_merge['business_state'] == 'AZ'].copy()"
   ]
  },
  {
   "cell_type": "code",
   "execution_count": null,
   "metadata": {},
   "outputs": [],
   "source": [
    "filtered_merge.shape"
   ]
  },
  {
   "cell_type": "markdown",
   "metadata": {},
   "source": [
    "*********\n",
    "### Writing Merged DataFrame Back To Json"
   ]
  },
  {
   "cell_type": "code",
   "execution_count": null,
   "metadata": {},
   "outputs": [],
   "source": [
    "def df_to_json(df, path):\n",
    "    new_dict = {}\n",
    "    num_col = len([i for i in df])\n",
    "\n",
    "    with open(r'{}'.format(path), 'w') as writer: \n",
    "\n",
    "        for row in df.itertuples():\n",
    "            \n",
    "            for idx, col in enumerate(df): \n",
    "                if type(row[idx+1]) == int: \n",
    "                    new_dict[col] = int(row[idx+1])\n",
    "                if type(row[idx+1]) == float: \n",
    "                    new_dict[col] = float(row[idx+1])\n",
    "                else: \n",
    "                    new_dict[col] = str(row[idx+1])\n",
    "                \n",
    "            writer.write(json.dumps(new_dict) + '\\n')\n",
    "            new_dict = {}         \n",
    "\n"
   ]
  },
  {
   "cell_type": "code",
   "execution_count": null,
   "metadata": {},
   "outputs": [],
   "source": [
    "%%time\n",
    "\n",
    "df_to_json(filtered_merge, filtered_merge_path)"
   ]
  },
  {
   "cell_type": "markdown",
   "metadata": {},
   "source": [
    "****\n",
    "### Open \"filtered_merge\" file for further processing"
   ]
  },
  {
   "cell_type": "code",
   "execution_count": 10,
   "metadata": {},
   "outputs": [
    {
     "name": "stdout",
     "output_type": "stream",
     "text": [
      "CPU times: user 39.4 s, sys: 6.66 s, total: 46.1 s\n",
      "Wall time: 45.7 s\n"
     ]
    }
   ],
   "source": [
    "%%time\n",
    "\n",
    "review_df = JSON_to_dataFrame(filtered_merge_path)"
   ]
  },
  {
   "cell_type": "markdown",
   "metadata": {},
   "source": [
    "### Take a look at the clustered AZ informaiton"
   ]
  },
  {
   "cell_type": "code",
   "execution_count": 11,
   "metadata": {},
   "outputs": [],
   "source": [
    "def make_unique(df, col1, col2): \n",
    "    unique = []\n",
    "    booliens = []\n",
    "\n",
    "    for (x,y) in zip(df[col1], df[col2]):\n",
    "        if (x,y) not in unique:\n",
    "            booliens.append(True)\n",
    "            unique.append((x,y))\n",
    "        else:\n",
    "            booliens.append(False)\n",
    "\n",
    "    return booliens"
   ]
  },
  {
   "cell_type": "code",
   "execution_count": 12,
   "metadata": {},
   "outputs": [],
   "source": [
    "booliens = []\n",
    "\n",
    "arg1 = 'business_longitude'\n",
    "arg2 = 'business_latitude'\n",
    "booliens = make_unique(review_df, arg1, arg2)"
   ]
  },
  {
   "cell_type": "code",
   "execution_count": 13,
   "metadata": {},
   "outputs": [
    {
     "data": {
      "text/plain": [
       "[True, True, True, True, True]"
      ]
     },
     "execution_count": 13,
     "metadata": {},
     "output_type": "execute_result"
    }
   ],
   "source": [
    "booliens[:5]"
   ]
  },
  {
   "cell_type": "code",
   "execution_count": 14,
   "metadata": {},
   "outputs": [],
   "source": [
    "unique_values = pd.Series(booliens)"
   ]
  },
  {
   "cell_type": "code",
   "execution_count": 15,
   "metadata": {},
   "outputs": [],
   "source": [
    "unique_review_df = review_df[unique_values]"
   ]
  },
  {
   "cell_type": "code",
   "execution_count": 149,
   "metadata": {},
   "outputs": [],
   "source": [
    "# transform the data \n",
    "max_unique1 = unique_review_df[unique_review_df['business_is_open'] == '0'].copy()\n",
    "max_unique = max_unique1[max_unique1['business_stars'] <= 2.5].copy()\n",
    "\n",
    "coordinates_df = max_unique[['business_longitude','business_latitude']].copy()\n",
    "\n",
    "pca = PCA(n_components=2)\n",
    "coordinates = pca.fit_transform(coordinates_df)"
   ]
  },
  {
   "cell_type": "code",
   "execution_count": null,
   "metadata": {},
   "outputs": [],
   "source": [
    "# use the elbow method to find k\n",
    "Sum_of_squared_distances = []\n",
    "K = 15\n",
    "\n",
    "for k in range(1,15):\n",
    "    km = KMeans(n_clusters=k)\n",
    "    km = km.fit(coordinates)\n",
    "    Sum_of_squared_distances.append(km.inertia_)"
   ]
  },
  {
   "cell_type": "code",
   "execution_count": null,
   "metadata": {},
   "outputs": [],
   "source": [
    "print(len(Sum_of_squared_distances))"
   ]
  },
  {
   "cell_type": "code",
   "execution_count": null,
   "metadata": {},
   "outputs": [],
   "source": [
    "plt.plot(Sum_of_squared_distances, 'bx-')\n",
    "plt.xlabel('k')\n",
    "plt.ylabel('Sum_of_squared_distances')\n",
    "plt.title('Elbow Method For Optimal k')\n",
    "plt.show()"
   ]
  },
  {
   "cell_type": "code",
   "execution_count": 150,
   "metadata": {},
   "outputs": [],
   "source": [
    "#Train model\n",
    "kmeans = KMeans(n_clusters=3).fit(coordinates)"
   ]
  },
  {
   "cell_type": "code",
   "execution_count": 18,
   "metadata": {},
   "outputs": [],
   "source": [
    "unique_review_df = pd.DataFrame(unique_review_df)"
   ]
  },
  {
   "cell_type": "code",
   "execution_count": 152,
   "metadata": {},
   "outputs": [],
   "source": [
    "max_unique['lables'] = pd.DataFrame(kmeans.labels_)"
   ]
  },
  {
   "cell_type": "code",
   "execution_count": 160,
   "metadata": {},
   "outputs": [
    {
     "data": {
      "text/html": [
       "<div>\n",
       "<style scoped>\n",
       "    .dataframe tbody tr th:only-of-type {\n",
       "        vertical-align: middle;\n",
       "    }\n",
       "\n",
       "    .dataframe tbody tr th {\n",
       "        vertical-align: top;\n",
       "    }\n",
       "\n",
       "    .dataframe thead th {\n",
       "        text-align: right;\n",
       "    }\n",
       "</style>\n",
       "<table border=\"1\" class=\"dataframe\">\n",
       "  <thead>\n",
       "    <tr style=\"text-align: right;\">\n",
       "      <th></th>\n",
       "      <th>review_review_id</th>\n",
       "      <th>review_stars</th>\n",
       "      <th>review_useful</th>\n",
       "      <th>review_text</th>\n",
       "      <th>review_date</th>\n",
       "      <th>business_business_id</th>\n",
       "      <th>business_name</th>\n",
       "      <th>business_state</th>\n",
       "      <th>business_latitude</th>\n",
       "      <th>business_longitude</th>\n",
       "      <th>business_stars</th>\n",
       "      <th>business_review_count</th>\n",
       "      <th>business_is_open</th>\n",
       "      <th>user_user_id</th>\n",
       "      <th>user_name</th>\n",
       "      <th>user_review_count</th>\n",
       "      <th>user_yelping_since</th>\n",
       "      <th>user_useful</th>\n",
       "      <th>lables</th>\n",
       "    </tr>\n",
       "  </thead>\n",
       "  <tbody>\n",
       "    <tr>\n",
       "      <td>5</td>\n",
       "      <td>7wyuK194Zjyoy0vhDvOjGw</td>\n",
       "      <td>3.0</td>\n",
       "      <td>5</td>\n",
       "      <td>I was not planning on coming here but my frien...</td>\n",
       "      <td>2014-04-07 22:02:31</td>\n",
       "      <td>f6mQYyU_ga0DVRuRZhkmfQ</td>\n",
       "      <td>Margaritaville</td>\n",
       "      <td>AZ</td>\n",
       "      <td>33.533773</td>\n",
       "      <td>-112.261718</td>\n",
       "      <td>2.5</td>\n",
       "      <td>178</td>\n",
       "      <td>0</td>\n",
       "      <td>tH0uKD-vNwMoEc3Xk3Cbdg</td>\n",
       "      <td>Cathy</td>\n",
       "      <td>1184</td>\n",
       "      <td>2012-07-31 13:17:28</td>\n",
       "      <td>7176</td>\n",
       "      <td>2.0</td>\n",
       "    </tr>\n",
       "    <tr>\n",
       "      <td>142</td>\n",
       "      <td>npThCBQYv__bV08PlHzknQ</td>\n",
       "      <td>3.0</td>\n",
       "      <td>8</td>\n",
       "      <td>Was getting my car washed next door and wanted...</td>\n",
       "      <td>2011-06-10 14:55:33</td>\n",
       "      <td>z8Em-bhZI3Mmspml7tj6tg</td>\n",
       "      <td>Dickey's Barbecue Pit</td>\n",
       "      <td>AZ</td>\n",
       "      <td>33.581501</td>\n",
       "      <td>-111.923393</td>\n",
       "      <td>2.5</td>\n",
       "      <td>96</td>\n",
       "      <td>0</td>\n",
       "      <td>QJI9OSEn6ujRCtrX06vs1w</td>\n",
       "      <td>J</td>\n",
       "      <td>1982</td>\n",
       "      <td>2007-03-19 18:15:32</td>\n",
       "      <td>14163</td>\n",
       "      <td>0.0</td>\n",
       "    </tr>\n",
       "    <tr>\n",
       "      <td>208</td>\n",
       "      <td>IUZmjI_Mx9kBeW5iyvS06g</td>\n",
       "      <td>4.0</td>\n",
       "      <td>3</td>\n",
       "      <td>Located in the very popular Tempe Marketplace,...</td>\n",
       "      <td>2013-03-19 13:55:11</td>\n",
       "      <td>WEoivlVObGE03PiWvVvXYA</td>\n",
       "      <td>Cadillac Ranch</td>\n",
       "      <td>AZ</td>\n",
       "      <td>33.433211</td>\n",
       "      <td>-111.903337</td>\n",
       "      <td>2.5</td>\n",
       "      <td>175</td>\n",
       "      <td>0</td>\n",
       "      <td>QJI9OSEn6ujRCtrX06vs1w</td>\n",
       "      <td>J</td>\n",
       "      <td>1982</td>\n",
       "      <td>2007-03-19 18:15:32</td>\n",
       "      <td>14163</td>\n",
       "      <td>0.0</td>\n",
       "    </tr>\n",
       "    <tr>\n",
       "      <td>213</td>\n",
       "      <td>l4jQlakHPHszkdIXXeeaYg</td>\n",
       "      <td>4.0</td>\n",
       "      <td>4</td>\n",
       "      <td>I just became a member here and workout at two...</td>\n",
       "      <td>2013-03-08 13:56:47</td>\n",
       "      <td>fercXJpucosaQr-1NdlSSg</td>\n",
       "      <td>Gold's Gym</td>\n",
       "      <td>AZ</td>\n",
       "      <td>33.620211</td>\n",
       "      <td>-111.896269</td>\n",
       "      <td>2.5</td>\n",
       "      <td>75</td>\n",
       "      <td>0</td>\n",
       "      <td>QJI9OSEn6ujRCtrX06vs1w</td>\n",
       "      <td>J</td>\n",
       "      <td>1982</td>\n",
       "      <td>2007-03-19 18:15:32</td>\n",
       "      <td>14163</td>\n",
       "      <td>1.0</td>\n",
       "    </tr>\n",
       "    <tr>\n",
       "      <td>221</td>\n",
       "      <td>4QMgZM_K0tx1FLQJrtMXtA</td>\n",
       "      <td>3.0</td>\n",
       "      <td>2</td>\n",
       "      <td>One of my 'go to' spots for a quick lunch.  Mo...</td>\n",
       "      <td>2013-01-19 12:54:41</td>\n",
       "      <td>yJLxYFLB0W94yvDsVL2sbg</td>\n",
       "      <td>Jack-In-the Box</td>\n",
       "      <td>AZ</td>\n",
       "      <td>33.495272</td>\n",
       "      <td>-111.907954</td>\n",
       "      <td>2.5</td>\n",
       "      <td>29</td>\n",
       "      <td>0</td>\n",
       "      <td>QJI9OSEn6ujRCtrX06vs1w</td>\n",
       "      <td>J</td>\n",
       "      <td>1982</td>\n",
       "      <td>2007-03-19 18:15:32</td>\n",
       "      <td>14163</td>\n",
       "      <td>0.0</td>\n",
       "    </tr>\n",
       "    <tr>\n",
       "      <td>...</td>\n",
       "      <td>...</td>\n",
       "      <td>...</td>\n",
       "      <td>...</td>\n",
       "      <td>...</td>\n",
       "      <td>...</td>\n",
       "      <td>...</td>\n",
       "      <td>...</td>\n",
       "      <td>...</td>\n",
       "      <td>...</td>\n",
       "      <td>...</td>\n",
       "      <td>...</td>\n",
       "      <td>...</td>\n",
       "      <td>...</td>\n",
       "      <td>...</td>\n",
       "      <td>...</td>\n",
       "      <td>...</td>\n",
       "      <td>...</td>\n",
       "      <td>...</td>\n",
       "      <td>...</td>\n",
       "    </tr>\n",
       "    <tr>\n",
       "      <td>1986844</td>\n",
       "      <td>G4J4enDxPwYF0fY4qFuW3A</td>\n",
       "      <td>1.0</td>\n",
       "      <td>1</td>\n",
       "      <td>Placed an order on January 26, 2014. Received ...</td>\n",
       "      <td>2015-02-03 19:03:33</td>\n",
       "      <td>RiHMAqbJRqJ-Yeso1H8doQ</td>\n",
       "      <td>Pro Gold Prospecting</td>\n",
       "      <td>AZ</td>\n",
       "      <td>33.594954</td>\n",
       "      <td>-112.299602</td>\n",
       "      <td>1.0</td>\n",
       "      <td>3</td>\n",
       "      <td>0</td>\n",
       "      <td>55Kqu5AAHB5XSchRraUdGQ</td>\n",
       "      <td>Daniel</td>\n",
       "      <td>2</td>\n",
       "      <td>2015-02-03 19:02:30</td>\n",
       "      <td>1</td>\n",
       "      <td>NaN</td>\n",
       "    </tr>\n",
       "    <tr>\n",
       "      <td>1986908</td>\n",
       "      <td>RRjxBdqhd0_IiCSE-D9uFw</td>\n",
       "      <td>4.0</td>\n",
       "      <td>2</td>\n",
       "      <td>I have never resigned at an apartment complex ...</td>\n",
       "      <td>2013-01-28 21:19:03</td>\n",
       "      <td>MwIe6m4s1KKbvUM79gHGNA</td>\n",
       "      <td>Centrado Apartment Homes</td>\n",
       "      <td>AZ</td>\n",
       "      <td>33.406600</td>\n",
       "      <td>-111.899255</td>\n",
       "      <td>2.0</td>\n",
       "      <td>3</td>\n",
       "      <td>0</td>\n",
       "      <td>3livNlcrK2-4WyJ9o0LT-w</td>\n",
       "      <td>L</td>\n",
       "      <td>3</td>\n",
       "      <td>2013-01-28 21:18:06</td>\n",
       "      <td>6</td>\n",
       "      <td>NaN</td>\n",
       "    </tr>\n",
       "    <tr>\n",
       "      <td>1992307</td>\n",
       "      <td>c0Ml8joOYqkQTPtLutI6Bw</td>\n",
       "      <td>4.0</td>\n",
       "      <td>0</td>\n",
       "      <td>Read your contract. My lifetime is a what I si...</td>\n",
       "      <td>2015-05-04 14:20:53</td>\n",
       "      <td>xLgQg3IVuj8XoBuxU0uT9A</td>\n",
       "      <td>Jenny Craig Weight Loss Centres</td>\n",
       "      <td>AZ</td>\n",
       "      <td>33.517258</td>\n",
       "      <td>-112.065010</td>\n",
       "      <td>2.0</td>\n",
       "      <td>3</td>\n",
       "      <td>0</td>\n",
       "      <td>E_Vpt7-YmVUCsib7NOd0GQ</td>\n",
       "      <td>Deborah</td>\n",
       "      <td>2</td>\n",
       "      <td>2013-09-02 14:58:23</td>\n",
       "      <td>0</td>\n",
       "      <td>NaN</td>\n",
       "    </tr>\n",
       "    <tr>\n",
       "      <td>2035235</td>\n",
       "      <td>rC37ZYZdvNsOX77GKxxPYQ</td>\n",
       "      <td>1.0</td>\n",
       "      <td>7</td>\n",
       "      <td>I ordered  6 of an   item that was advertised ...</td>\n",
       "      <td>2013-01-08 00:44:52</td>\n",
       "      <td>VRWUZddjHwK5XDeIGc7mMA</td>\n",
       "      <td>Allegro Medical</td>\n",
       "      <td>AZ</td>\n",
       "      <td>33.450430</td>\n",
       "      <td>-111.911381</td>\n",
       "      <td>1.0</td>\n",
       "      <td>5</td>\n",
       "      <td>0</td>\n",
       "      <td>I4X0Et760WB71FlsJ8_N3A</td>\n",
       "      <td>Jon</td>\n",
       "      <td>18</td>\n",
       "      <td>2009-10-05 17:47:18</td>\n",
       "      <td>37</td>\n",
       "      <td>NaN</td>\n",
       "    </tr>\n",
       "    <tr>\n",
       "      <td>2067058</td>\n",
       "      <td>R59xMVVceRbkrE3eW7WBxA</td>\n",
       "      <td>1.0</td>\n",
       "      <td>9</td>\n",
       "      <td>HORRIBLE EXPERIENCE... EXTREMELY UNPROFESSIONA...</td>\n",
       "      <td>2009-10-13 21:13:26</td>\n",
       "      <td>g_W9HM5KgCxeeralD-rzjQ</td>\n",
       "      <td>Hunter III Homes</td>\n",
       "      <td>AZ</td>\n",
       "      <td>33.447485</td>\n",
       "      <td>-112.075653</td>\n",
       "      <td>1.0</td>\n",
       "      <td>4</td>\n",
       "      <td>0</td>\n",
       "      <td>0d6Wr07nFq-bgRXj0-_btg</td>\n",
       "      <td>Nathan</td>\n",
       "      <td>7</td>\n",
       "      <td>2009-10-13 20:51:41</td>\n",
       "      <td>19</td>\n",
       "      <td>NaN</td>\n",
       "    </tr>\n",
       "  </tbody>\n",
       "</table>\n",
       "<p>1564 rows × 19 columns</p>\n",
       "</div>"
      ],
      "text/plain": [
       "               review_review_id  review_stars review_useful  \\\n",
       "5        7wyuK194Zjyoy0vhDvOjGw           3.0             5   \n",
       "142      npThCBQYv__bV08PlHzknQ           3.0             8   \n",
       "208      IUZmjI_Mx9kBeW5iyvS06g           4.0             3   \n",
       "213      l4jQlakHPHszkdIXXeeaYg           4.0             4   \n",
       "221      4QMgZM_K0tx1FLQJrtMXtA           3.0             2   \n",
       "...                         ...           ...           ...   \n",
       "1986844  G4J4enDxPwYF0fY4qFuW3A           1.0             1   \n",
       "1986908  RRjxBdqhd0_IiCSE-D9uFw           4.0             2   \n",
       "1992307  c0Ml8joOYqkQTPtLutI6Bw           4.0             0   \n",
       "2035235  rC37ZYZdvNsOX77GKxxPYQ           1.0             7   \n",
       "2067058  R59xMVVceRbkrE3eW7WBxA           1.0             9   \n",
       "\n",
       "                                               review_text  \\\n",
       "5        I was not planning on coming here but my frien...   \n",
       "142      Was getting my car washed next door and wanted...   \n",
       "208      Located in the very popular Tempe Marketplace,...   \n",
       "213      I just became a member here and workout at two...   \n",
       "221      One of my 'go to' spots for a quick lunch.  Mo...   \n",
       "...                                                    ...   \n",
       "1986844  Placed an order on January 26, 2014. Received ...   \n",
       "1986908  I have never resigned at an apartment complex ...   \n",
       "1992307  Read your contract. My lifetime is a what I si...   \n",
       "2035235  I ordered  6 of an   item that was advertised ...   \n",
       "2067058  HORRIBLE EXPERIENCE... EXTREMELY UNPROFESSIONA...   \n",
       "\n",
       "                 review_date    business_business_id  \\\n",
       "5        2014-04-07 22:02:31  f6mQYyU_ga0DVRuRZhkmfQ   \n",
       "142      2011-06-10 14:55:33  z8Em-bhZI3Mmspml7tj6tg   \n",
       "208      2013-03-19 13:55:11  WEoivlVObGE03PiWvVvXYA   \n",
       "213      2013-03-08 13:56:47  fercXJpucosaQr-1NdlSSg   \n",
       "221      2013-01-19 12:54:41  yJLxYFLB0W94yvDsVL2sbg   \n",
       "...                      ...                     ...   \n",
       "1986844  2015-02-03 19:03:33  RiHMAqbJRqJ-Yeso1H8doQ   \n",
       "1986908  2013-01-28 21:19:03  MwIe6m4s1KKbvUM79gHGNA   \n",
       "1992307  2015-05-04 14:20:53  xLgQg3IVuj8XoBuxU0uT9A   \n",
       "2035235  2013-01-08 00:44:52  VRWUZddjHwK5XDeIGc7mMA   \n",
       "2067058  2009-10-13 21:13:26  g_W9HM5KgCxeeralD-rzjQ   \n",
       "\n",
       "                           business_name business_state  business_latitude  \\\n",
       "5                         Margaritaville             AZ          33.533773   \n",
       "142                Dickey's Barbecue Pit             AZ          33.581501   \n",
       "208                       Cadillac Ranch             AZ          33.433211   \n",
       "213                           Gold's Gym             AZ          33.620211   \n",
       "221                      Jack-In-the Box             AZ          33.495272   \n",
       "...                                  ...            ...                ...   \n",
       "1986844             Pro Gold Prospecting             AZ          33.594954   \n",
       "1986908         Centrado Apartment Homes             AZ          33.406600   \n",
       "1992307  Jenny Craig Weight Loss Centres             AZ          33.517258   \n",
       "2035235                  Allegro Medical             AZ          33.450430   \n",
       "2067058                 Hunter III Homes             AZ          33.447485   \n",
       "\n",
       "         business_longitude  business_stars business_review_count  \\\n",
       "5               -112.261718             2.5                   178   \n",
       "142             -111.923393             2.5                    96   \n",
       "208             -111.903337             2.5                   175   \n",
       "213             -111.896269             2.5                    75   \n",
       "221             -111.907954             2.5                    29   \n",
       "...                     ...             ...                   ...   \n",
       "1986844         -112.299602             1.0                     3   \n",
       "1986908         -111.899255             2.0                     3   \n",
       "1992307         -112.065010             2.0                     3   \n",
       "2035235         -111.911381             1.0                     5   \n",
       "2067058         -112.075653             1.0                     4   \n",
       "\n",
       "        business_is_open            user_user_id user_name user_review_count  \\\n",
       "5                      0  tH0uKD-vNwMoEc3Xk3Cbdg     Cathy              1184   \n",
       "142                    0  QJI9OSEn6ujRCtrX06vs1w         J              1982   \n",
       "208                    0  QJI9OSEn6ujRCtrX06vs1w         J              1982   \n",
       "213                    0  QJI9OSEn6ujRCtrX06vs1w         J              1982   \n",
       "221                    0  QJI9OSEn6ujRCtrX06vs1w         J              1982   \n",
       "...                  ...                     ...       ...               ...   \n",
       "1986844                0  55Kqu5AAHB5XSchRraUdGQ    Daniel                 2   \n",
       "1986908                0  3livNlcrK2-4WyJ9o0LT-w         L                 3   \n",
       "1992307                0  E_Vpt7-YmVUCsib7NOd0GQ   Deborah                 2   \n",
       "2035235                0  I4X0Et760WB71FlsJ8_N3A       Jon                18   \n",
       "2067058                0  0d6Wr07nFq-bgRXj0-_btg    Nathan                 7   \n",
       "\n",
       "          user_yelping_since user_useful  lables  \n",
       "5        2012-07-31 13:17:28        7176     2.0  \n",
       "142      2007-03-19 18:15:32       14163     0.0  \n",
       "208      2007-03-19 18:15:32       14163     0.0  \n",
       "213      2007-03-19 18:15:32       14163     1.0  \n",
       "221      2007-03-19 18:15:32       14163     0.0  \n",
       "...                      ...         ...     ...  \n",
       "1986844  2015-02-03 19:02:30           1     NaN  \n",
       "1986908  2013-01-28 21:18:06           6     NaN  \n",
       "1992307  2013-09-02 14:58:23           0     NaN  \n",
       "2035235  2009-10-05 17:47:18          37     NaN  \n",
       "2067058  2009-10-13 20:51:41          19     NaN  \n",
       "\n",
       "[1564 rows x 19 columns]"
      ]
     },
     "execution_count": 160,
     "metadata": {},
     "output_type": "execute_result"
    }
   ],
   "source": [
    "max_unique"
   ]
  },
  {
   "cell_type": "code",
   "execution_count": 161,
   "metadata": {},
   "outputs": [
    {
     "ename": "ValueError",
     "evalue": "cannot convert float NaN to integer",
     "output_type": "error",
     "traceback": [
      "\u001b[0;31m---------------------------------------------------------------------------\u001b[0m",
      "\u001b[0;31mValueError\u001b[0m                                Traceback (most recent call last)",
      "\u001b[0;32m<ipython-input-161-a5b77934b938>\u001b[0m in \u001b[0;36m<module>\u001b[0;34m\u001b[0m\n\u001b[1;32m     18\u001b[0m         \u001b[0mcolor\u001b[0m \u001b[0;34m=\u001b[0m \u001b[0;34m-\u001b[0m\u001b[0;36m1\u001b[0m\u001b[0;34m\u001b[0m\u001b[0;34m\u001b[0m\u001b[0m\n\u001b[1;32m     19\u001b[0m     \u001b[0;32melse\u001b[0m\u001b[0;34m:\u001b[0m\u001b[0;34m\u001b[0m\u001b[0;34m\u001b[0m\u001b[0m\n\u001b[0;32m---> 20\u001b[0;31m         \u001b[0mcolor\u001b[0m \u001b[0;34m=\u001b[0m \u001b[0mint\u001b[0m\u001b[0;34m(\u001b[0m\u001b[0mcolor\u001b[0m\u001b[0;34m)\u001b[0m\u001b[0;34m\u001b[0m\u001b[0;34m\u001b[0m\u001b[0m\n\u001b[0m\u001b[1;32m     21\u001b[0m \u001b[0;34m\u001b[0m\u001b[0m\n\u001b[1;32m     22\u001b[0m     folium.CircleMarker(\n",
      "\u001b[0;31mValueError\u001b[0m: cannot convert float NaN to integer"
     ]
    }
   ],
   "source": [
    "import folium\n",
    " \n",
    "PHOENIX_AZ = (33.447485, -112.075653)\n",
    " \n",
    "# for speed purposes\n",
    "\n",
    "\n",
    "colors = ['#000000', '#cc0099', '#3186cc']\n",
    "\n",
    "  \n",
    "# create empty map zoomed in on San Francisco\n",
    "m = folium.Map(location=PHOENIX_AZ, zoom_start=10)\n",
    "\n",
    "\n",
    "# add a marker for every record in the filtered data, use a clustered view\n",
    "for lat, lon, color in zip(max_unique['business_latitude'], max_unique['business_longitude'], max_unique['lables']):\n",
    "    if (str(color) == \"NaN\"): \n",
    "        color = -1\n",
    "    else: \n",
    "        color = int(color)\n",
    "    \n",
    "    folium.CircleMarker(\n",
    "        [lat, lon],\n",
    "        radius=1,\n",
    "        popup=color,\n",
    "        color=colors[int(color)],\n",
    "        fill=True,\n",
    "        ).add_to(m) \n",
    "\n",
    "m\n"
   ]
  },
  {
   "cell_type": "markdown",
   "metadata": {},
   "source": [
    "********"
   ]
  },
  {
   "cell_type": "markdown",
   "metadata": {},
   "source": [
    "## Unit Test"
   ]
  },
  {
   "cell_type": "code",
   "execution_count": null,
   "metadata": {},
   "outputs": [],
   "source": [
    "test_in_path = root_path + 'test.json' \n",
    "\n",
    "test_df = JSON_to_dataFrame(test_in_path)"
   ]
  },
  {
   "cell_type": "code",
   "execution_count": null,
   "metadata": {},
   "outputs": [],
   "source": [
    "%%time\n",
    "\n",
    "test_out_path = root_path + 'test_out.json' \n",
    "\n",
    "parse_DataFrame1(test_df, test_out_path)"
   ]
  },
  {
   "cell_type": "code",
   "execution_count": null,
   "metadata": {},
   "outputs": [],
   "source": [
    "test2_df = JSON_to_dataFrame(test_out_path)"
   ]
  },
  {
   "cell_type": "code",
   "execution_count": null,
   "metadata": {},
   "outputs": [],
   "source": [
    "def test_DataFrame_to_Json(a_df_1, a_df_2): \n",
    "    \n",
    "    df_list_1 = []\n",
    "    df_list_2 = []\n",
    "    catch_list = []\n",
    "    \n",
    "    for row in a_df_1.itertuples():\n",
    "            \n",
    "            for idx, col in enumerate(a_df_1):\n",
    "                df_list_1.append((type(row[idx]), col))\n",
    "                \n",
    "    for row_2 in a_df_2.itertuples():\n",
    "            \n",
    "            for idx_2, col_2 in enumerate(a_df_2):\n",
    "                df_list_2.append((type(row[idx_2]), col_2))\n",
    "                \n",
    "    for x,y in zip(df_list_1, df_list_2): \n",
    "        if x != y: \n",
    "            catch_list.append((x, y))\n",
    "            \n",
    "    for i in catch_list: \n",
    "        print(i)             # dataFrams have different types"
   ]
  },
  {
   "cell_type": "code",
   "execution_count": null,
   "metadata": {},
   "outputs": [],
   "source": [
    "def JSON_to_dataFrame_2(file): \n",
    "    \n",
    "    fp = open(file, encoding=\"utf8\")\n",
    "    json_obj = [ json.loads(x) for x in fp.readlines() [-500000:]] \n",
    "    df = pd.DataFrame(json_obj)\n",
    "    fp.close\n",
    "    return df"
   ]
  },
  {
   "cell_type": "code",
   "execution_count": null,
   "metadata": {},
   "outputs": [],
   "source": [
    "df1 = JSON_to_dataFrame_2(rbu_path)"
   ]
  },
  {
   "cell_type": "code",
   "execution_count": null,
   "metadata": {},
   "outputs": [],
   "source": [
    "# smaller scale test on business set\n",
    "test_DataFrame_to_Json(rbu_merge, rbu_complete_df)"
   ]
  },
  {
   "cell_type": "code",
   "execution_count": null,
   "metadata": {},
   "outputs": [],
   "source": [
    "# test on full merged data set\n",
    "test_DataFrame_to_Json(rbu_merge, rbu_complete_df)"
   ]
  },
  {
   "cell_type": "markdown",
   "metadata": {},
   "source": [
    "## Functions to check file given error message"
   ]
  },
  {
   "cell_type": "code",
   "execution_count": null,
   "metadata": {},
   "outputs": [],
   "source": [
    "check_input_output(test_in_path, test_out_path, log_path)"
   ]
  },
  {
   "cell_type": "code",
   "execution_count": null,
   "metadata": {},
   "outputs": [],
   "source": [
    "def check_input_output(a_test_in_path, a_test_out_path, a_log_path):\n",
    "    line_count = 0\n",
    "    char_count = 0\n",
    "    save1 = \"\"\n",
    "    save2 = []\n",
    "    cnt1 = 0\n",
    "    cnt2 = 0\n",
    "    \n",
    "    with open(a_test_in_path, 'r') as read1, open(a_test_out_path, 'r') as read2: \n",
    "        for x, y in zip(read1, read2):\n",
    "            x = x.strip()\n",
    "            y = y.strip()\n",
    "            \n",
    "            in_line = x.split()\n",
    "            out_line = y.split()\n",
    "            for word1, word2 in zip(in_line, out_line):\n",
    "                \n",
    "                save2.append(word1)\n",
    "                \n",
    "                if cnt1 > 5:\n",
    "                    save2.pop(0)\n",
    "                cnt1 = cnt1 + 1\n",
    "\n",
    "            \n",
    "                word_list = list(word2)\n",
    "                \n",
    "                for char in word_list: \n",
    "                    save1 = save1 + char\n",
    "                    if cnt2 > 70: \n",
    "                        save1 = save1[1:]\n",
    "                    \n",
    "                    if char_count == 139: \n",
    "                        print(save1)\n",
    "                        print(\" \".join(save2))\n",
    "                        \n",
    "                    char_count = char_count + 1\n",
    "                    cnt2 += 1\n",
    "                \n",
    "            line_count = line_count + 1\n",
    "\n",
    "\n",
    "            "
   ]
  },
  {
   "cell_type": "code",
   "execution_count": null,
   "metadata": {},
   "outputs": [],
   "source": [
    "with open(test_out_path, 'r') as reader: \n",
    "    for i in reader: \n",
    "        print(i)"
   ]
  },
  {
   "cell_type": "markdown",
   "metadata": {},
   "source": [
    "****\n",
    "## GCP Import\n",
    "* login cradentaials provided to work with yelp_db database"
   ]
  },
  {
   "cell_type": "code",
   "execution_count": null,
   "metadata": {},
   "outputs": [],
   "source": [
    "import sys\n",
    "!{sys.executable} -m pip install PyMySQL"
   ]
  },
  {
   "cell_type": "markdown",
   "metadata": {},
   "source": [
    "### MySql Server is nessisary to connect to GCP\n",
    "* https://dev.mysql.com/downloads/mysql/"
   ]
  },
  {
   "cell_type": "code",
   "execution_count": null,
   "metadata": {},
   "outputs": [],
   "source": [
    "import pymysql, os, sys, json\n",
    "from IPython.display import clear_output\n",
    "import multiprocessing as mp"
   ]
  },
  {
   "cell_type": "code",
   "execution_count": null,
   "metadata": {},
   "outputs": [],
   "source": [
    "# read json file\n",
    "file = \"Group1/review.json\"\n",
    "\n",
    "json_data = open(file, encoding=\"utf8\")\n",
    "json_obj = [json.loads(x) for x in json_data.readlines()]\n"
   ]
  },
  {
   "cell_type": "code",
   "execution_count": null,
   "metadata": {},
   "outputs": [],
   "source": [
    "num = len(json_obj)\n",
    "print(num)"
   ]
  },
  {
   "cell_type": "code",
   "execution_count": null,
   "metadata": {},
   "outputs": [],
   "source": [
    "# validate data before inserting\n",
    "# TODO: check if string is the right type \n",
    "# TODO: check for duplicate data\n",
    "# TODO: check for bad formats (date)\n",
    "\n",
    "def validate_string(val): \n",
    "    if val != None: \n",
    "            if type(val) is int: \n",
    "                return str(val).encode('utf-8')\n",
    "            else: \n",
    "                return val\n",
    "            "
   ]
  },
  {
   "cell_type": "markdown",
   "metadata": {},
   "source": [
    "### Processing takes to long so I used multiprocessing to speed up importing to host\n",
    "* executing insert into gcp is atomic\n",
    "\n",
    "this will take over 4 days to import one table!"
   ]
  },
  {
   "cell_type": "code",
   "execution_count": null,
   "metadata": {},
   "outputs": [],
   "source": [
    "def insert_review(cursor, item, lock): \n",
    "          \n",
    "    review_id = validate_string(item['review_id'])\n",
    "    business_id = validate_string(item['business_id'])\n",
    "    cool = validate_string(item['cool'])\n",
    "    date = validate_string(item['date'])\n",
    "    funny = validate_string(item['funny'])\n",
    "    stars = validate_string(item['stars'])\n",
    "    text = validate_string(item['text'])\n",
    "    useful = validate_string(item['useful'])\n",
    "    user_id = validate_string(item['user_id'])\n",
    "    \n",
    "    query = \"INSERT INTO review(review_id,business_id,cool,date,funny,stars,text,useful,user_id) VALUES(%s,%s,%s,%s,%s,%s,%s,%s,%s)\"\n",
    "    args = (review_id, business_id, cool, date, funny, stars, text, useful, user_id)\n",
    "    lock.acquire()\n",
    "    cursor.execute(query, args)\n",
    "    lock.release()\n",
    "    \n",
    "    clear_output()\n",
    "    cnt.value = cnt.value + 1\n",
    "    print(cnt.value)\n",
    "    \n",
    "    "
   ]
  },
  {
   "cell_type": "code",
   "execution_count": null,
   "metadata": {},
   "outputs": [],
   "source": [
    "# connect to GCP MySql db insert data into review table\n",
    "con = pymysql.connect(host = '104.198.65.208', user='root', password = 'hackme', db = 'yelp_db')\n",
    "\n",
    "cnt = mp.Value('i', 0)\n",
    "lock = mp.Lock()\n",
    "pool = mp.Pool()\n",
    "\n",
    "\n",
    "try: \n",
    "    with con.cursor() as cursor:\n",
    "        \n",
    "        # parse json data to SQL\n",
    "        # use map to update each row in GCP\n",
    "        result = pool.map([ insert_review(cursor, item, lock) for item in json_obj ])\n",
    "            \n",
    "finally:\n",
    "    con.commit()\n",
    "    con.close()\n",
    "    "
   ]
  }
 ],
 "metadata": {
  "kernelspec": {
   "display_name": "Python 3",
   "language": "python",
   "name": "python3"
  },
  "language_info": {
   "codemirror_mode": {
    "name": "ipython",
    "version": 3
   },
   "file_extension": ".py",
   "mimetype": "text/x-python",
   "name": "python",
   "nbconvert_exporter": "python",
   "pygments_lexer": "ipython3",
   "version": "3.7.4"
  }
 },
 "nbformat": 4,
 "nbformat_minor": 2
}
