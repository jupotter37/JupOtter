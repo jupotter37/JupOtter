{
 "cells": [
  {
   "attachments": {},
   "cell_type": "markdown",
   "metadata": {},
   "source": [
    "# Sorting card "
   ]
  },
  {
   "attachments": {},
   "cell_type": "markdown",
   "metadata": {},
   "source": [
    "sorting based on len of word "
   ]
  },
  {
   "cell_type": "code",
   "execution_count": 1,
   "metadata": {},
   "outputs": [
    {
     "name": "stdout",
     "output_type": "stream",
     "text": [
      "['we', 'are', 'hello', 'world', 'sorting', 'learning']\n"
     ]
    }
   ],
   "source": [
    "test = [ \"hello\", \"world\", \"we\", 'are', 'learning', 'sorting']\n",
    "\n",
    "lensorted = [i for i in sorted(test, key=lambda x: len(x))]\n",
    "print(lensorted)"
   ]
  },
  {
   "attachments": {},
   "cell_type": "markdown",
   "metadata": {},
   "source": [
    "sorting based off num of vowels in word "
   ]
  },
  {
   "cell_type": "code",
   "execution_count": 3,
   "metadata": {},
   "outputs": [
    {
     "name": "stdout",
     "output_type": "stream",
     "text": [
      "['world', 'we', 'hello', 'are', 'sorting', 'learning']\n"
     ]
    },
    {
     "data": {
      "text/plain": [
       "2"
      ]
     },
     "execution_count": 3,
     "metadata": {},
     "output_type": "execute_result"
    }
   ],
   "source": [
    "test = [ \"hello\", \"world\", \"we\", 'are', 'learning', 'sorting']\n",
    "def countVowels(string):\n",
    "    vowels = set(['a', 'e', 'i', 'o', 'u'])\n",
    "    count = 0\n",
    "    for i in string:\n",
    "        if i in vowels:\n",
    "            count += 1\n",
    "    return count\n",
    "\n",
    "Vowelsorted = [i for i in sorted(test, key=lambda x: countVowels(x))]\n",
    "print(Vowelsorted)\n",
    "\n",
    "countVowels('hello')"
   ]
  },
  {
   "attachments": {},
   "cell_type": "markdown",
   "metadata": {},
   "source": [
    "a more concise way by gpt3"
   ]
  },
  {
   "cell_type": "code",
   "execution_count": 4,
   "metadata": {},
   "outputs": [
    {
     "name": "stdout",
     "output_type": "stream",
     "text": [
      "['world', 'we', 'hello', 'are', 'sorting', 'learning']\n"
     ]
    }
   ],
   "source": [
    "words = [\"hello\", \"world\", \"we\", 'are', 'learning', 'sorting']\n",
    "\n",
    "def count_vowels(word):\n",
    "    return sum([1 for char in word if char.lower() in 'aeiou'])\n",
    "\n",
    "sorted_words = sorted(words, key=count_vowels)\n",
    "\n",
    "print(sorted_words)\n"
   ]
  },
  {
   "attachments": {},
   "cell_type": "markdown",
   "metadata": {},
   "source": [
    "## inversions\n",
    "\n",
    "An important concept in sorting is inversions. An inversion in a sequence is defined as a pair of elements that are out of order with respect to the ordering relation. To understand this idea better, let's consider our earlier string example, where the ordering relation was defined by the length of the string:\n",
    "\n",
    "[“are”, “we”, “sorting”, “hello”, “world”, “learning”]\n",
    "[“are”, “we”, “sorting”, “hello”, “world”, “learning”]\n",
    "\n",
    "Clearly, the above list is not sorted according to the lengths of strings, but what if you had to define a metric for how “out of sort” it was? Inversions provide a way to define that. In the above unsorted list, we have the following inversions:\n",
    "\n",
    "(“are”, “we”)\n",
    "(“are”, “we”), \n",
    "(“sorting”, “hello”)\n",
    "(“sorting”, “hello”), and \n",
    "(“sorting”, “world”)\n",
    "(“sorting”, “world”)\n",
    "\n",
    "The more inversions present, the more out of order the list is. In fact, the concept of inversions introduces an alternative definition of sorting: Given a sequence of elements with n inversions, a sorting algorithm is a sequence of operations that reduces inversions to 0."
   ]
  },
  {
   "attachments": {},
   "cell_type": "markdown",
   "metadata": {},
   "source": [
    "## stability \n",
    "of sorting algorithms. The key feature of a stable sorting algorithm is that it will preserve the order of equal elements. In our earlier string example with the string length ordering comparison, our original sequence was \n",
    "[“hello”, “world”, “we”, “are”, “learning, “sorting”]\n",
    "[“hello”, “world”, “we”, “are”, “learning, “sorting”]\n",
    "\n",
    "There are two valid sorts for this sequence:\n",
    "\n",
    "[“we”, “are”, “hello”, “world”, “sorting”, “learning”]\n",
    "[“we”, “are”, “hello”, “world”, “sorting”, “learning”]\n",
    "[“we”, “are”, “world”, “hello”, “sorting”, “learning”]\n",
    "[“we”, “are”, “world”, “hello”, “sorting”, “learning”]\n",
    "We consider (1) to be a stable sort since the equal elements “hello” and “world” are kept in the same relative order as the original sequence."
   ]
  },
  {
   "attachments": {},
   "cell_type": "markdown",
   "metadata": {},
   "source": [
    "selection sort O(N^2) time and constant space comp. so it is not that great"
   ]
  },
  {
   "cell_type": "code",
   "execution_count": 8,
   "metadata": {},
   "outputs": [
    {
     "name": "stdout",
     "output_type": "stream",
     "text": [
      "[1, 3, 3, 4, 9, 65]\n"
     ]
    }
   ],
   "source": [
    "# selection sort [in place modification return nothing]\n",
    "def sortColors(nums):\n",
    "\n",
    "    for i in range(len(nums)):\n",
    "        min_index = i # we assume the current number is the smallest unless we find a smaller one in the rest of the list\n",
    "        for j in range(i + 1, len(nums)):\n",
    "            # Update minimum index\n",
    "            if nums[j] < nums[min_index]:\n",
    "                min_index = j\n",
    "\n",
    "        # Swap current index with minimum element in rest of list\n",
    "        nums[min_index], nums[i] = nums[i], nums[min_index]\n",
    "\n",
    "nums = [3,4,1,9,65,3]\n",
    "sortColors(nums)\n",
    "print(nums)"
   ]
  },
  {
   "attachments": {},
   "cell_type": "markdown",
   "metadata": {},
   "source": [
    "## Bubble Sort\n",
    "Report Issue\n",
    "Conceptually, bubble sort is an implementation of a rather simple idea. Suppose we have a collection of integers that we want to sort in ascending order. Bubble sort proceeds to consider two adjacent elements at a time. If these two adjacent elements are out of order (in this case, the left element is strictly greater than the right element), bubble sort will swap them. It then proceeds to the next pair of adjacent elements. In the first pass of bubble sort, it will process every set of adjacent elements in the collection once, making swaps as necessary. The core idea of bubble sort is it will repeat this process until no more swaps are made in a single pass, which means the list is sorted."
   ]
  },
  {
   "cell_type": "code",
   "execution_count": 12,
   "metadata": {},
   "outputs": [
    {
     "name": "stdout",
     "output_type": "stream",
     "text": [
      "[1, 3, 3, 4, 9, 65]\n"
     ]
    }
   ],
   "source": [
    "def bubblesort(nums):\n",
    "    has_swapped = True\n",
    "    while has_swapped: # if no swap has occured nums is sorted\n",
    "        has_swapped = False\n",
    "        for i in range(len(nums) - 1):\n",
    "            if nums[i] > nums[i + 1]:\n",
    "                nums[i], nums[i + 1] = nums[i + 1], nums[i]\n",
    "                has_swapped = True\n",
    "\n",
    "nums = [3,4,1,9,65,3]\n",
    "bubblesort(nums)\n",
    "print(nums)"
   ]
  },
  {
   "attachments": {},
   "cell_type": "markdown",
   "metadata": {},
   "source": [
    "## Insertion Sort"
   ]
  },
  {
   "cell_type": "code",
   "execution_count": 9,
   "metadata": {},
   "outputs": [],
   "source": [
    "class Solution:\n",
    "    def insertion_sort(lst):\n",
    "        \"\"\"\n",
    "        Mutates elements in lst by inserting out of place elements into appropriate\n",
    "        index repeatedly until lst is sorted\n",
    "        \"\"\"\n",
    "        for i in range(1, len(lst)):\n",
    "            current_index = i\n",
    "\n",
    "            while current_index > 0 and lst[current_index - 1] > lst[current_index]:\n",
    "                # Swap elements that are out of order\n",
    "                lst[current_index], lst[current_index - 1] = lst[current_index - 1], lst[current_index]\n",
    "                current_index -= 1"
   ]
  },
  {
   "attachments": {},
   "cell_type": "markdown",
   "metadata": {},
   "source": [
    "1636. Sort Array by Increasing Frequency\n",
    "\n",
    "Given an array of integers nums, sort the array in increasing order based on the frequency of the values. If multiple values have the same frequency, sort them in decreasing order.\n",
    "\n",
    "Return the sorted array."
   ]
  },
  {
   "attachments": {},
   "cell_type": "markdown",
   "metadata": {},
   "source": [
    "## Sorting based on 2 criteria\n",
    "GPT explanation of problem below\n",
    "- Yes, that's one way to think about it. The key function is used to transform each element in the input list into a corresponding element in the output list. In this case, the key function transforms each element x into a tuple (count[x], -x).\n",
    "\n",
    "Then, the sorted function compares the tuples corresponding to each pair of elements in the input list and orders the input list based on those comparisons. When two tuples are compared, the first element of each tuple is compared first. If the first elements are different, then the comparison is done based on the first element only. However, if the first elements are the same, then the comparison is done based on the second element (i.e., the tiebreaker).\n",
    "\n",
    "So in the case of nums = [2,3,1,3,2], the input list is transformed into a list of tuples [(2, -2), (2, -3), (1, -1), (2, -3), (2, -2)] based on the key function. When the sorted function compares the tuples (2, -2) and (2, -3), it sees that the first elements of both tuples are the same (i.e., 2), so it uses the second element (i.e., -2 and -3) as the tiebreaker. Since -2 is less than -3, the tuple (2, -2) comes before the tuple (2, -3) in the sorted list.\n",
    "\n",
    "Similarly, the tuple (2, -2) comes after the tuple (2, -3) when compared, so it appears later in the sorted list. This is why 2 appears at the end of the sorted list instead of in the middle as it would if we sorted based on frequency alone. "
   ]
  },
  {
   "cell_type": "code",
   "execution_count": 55,
   "metadata": {},
   "outputs": [
    {
     "data": {
      "text/plain": [
       "[5, -1, 4, 4, -6, -6, 1, 1, 1]"
      ]
     },
     "execution_count": 55,
     "metadata": {},
     "output_type": "execute_result"
    }
   ],
   "source": [
    "from collections import Counter\n",
    "def frequencySort(nums):\n",
    "    count = Counter(nums)\n",
    "    return sorted(nums, key = lambda x: (count[x], -x)) \n",
    "\n",
    "\n",
    "nums = [-1,1,-6,4,5,-6,1,4,1]\n",
    "frequencySort(nums) "
   ]
  },
  {
   "attachments": {},
   "cell_type": "markdown",
   "metadata": {},
   "source": [
    "# Sorting with tuples and reverse=True is very risky and you should not do it \n",
    "\n",
    "the comments in this example i had to go through explain in more detail"
   ]
  },
  {
   "cell_type": "code",
   "execution_count": null,
   "metadata": {},
   "outputs": [],
   "source": [
    "# beats 54% in time and 45% in space\n",
    "# this problem was ez but i kept getting an error due to how the sorted function works\n",
    "# essentially if you have a tuple of criteria for which you are sorting in a lambda function, you should not use \n",
    "# the reverse=True arg. this is because in our tuple we have a sorting heirarchy and using reverse=True\n",
    "# will reverse that entire heirarchy.\n",
    "# i did sorted(F.keys(), key=lambda x: (F[x], x), reverse=True)[:k] \n",
    "# what this did was sorted first by frequency (which is right) then by lexi order (good so far) and then we \n",
    "# reverse. so now we sort by descending freq (good still) and reverse lexi order (this is where it breaks)\n",
    "\n",
    "# it breaks bc we want normal lexi order (not reverse) and we want descending freq at the same time\n",
    "# reverse=True breaks this badly \n",
    "\n",
    "# lesson here is if you use a tuple for sorting criteria, do not use reverse at all if possible. it can mess things \n",
    "# up un unpredictable ways. instead use a negative if you need to such as -F[x]\n",
    "\n",
    "class Solution:\n",
    "    def topKFrequent(self, words: List[str], k: int) -> List[str]:\n",
    "        \n",
    "        F = Counter(words)\n",
    "        ret = sorted(F.keys(), key=lambda x: (-F[x], x))[:k]\n",
    "        return ret"
   ]
  },
  {
   "cell_type": "markdown",
   "metadata": {},
   "source": [
    "Insertion sort dry run"
   ]
  },
  {
   "cell_type": "code",
   "execution_count": 9,
   "metadata": {},
   "outputs": [
    {
     "name": "stdout",
     "output_type": "stream",
     "text": [
      "[1, 2, 3, 5, 6, 7, 8, 9, 10]\n"
     ]
    }
   ],
   "source": [
    "\n",
    "lst = [7, 3, 2, 5, 6, 10, 9, 8, 1]\n",
    "\n",
    "def selection_sort(lst):\n",
    "    mn = 0 # index of min\n",
    "    \n",
    "    for i in range(len(lst)):\n",
    "        # \"i\" will serve as the curr index\n",
    "        mn_idx = i\n",
    "        mn_num = float(\"inf\")\n",
    "        for j in range(i, len(lst)):\n",
    "            if lst[j] < mn_num:\n",
    "                mn_num = lst[j]\n",
    "                mn_idx = j\n",
    "        # we now have mn and mn idx\n",
    "        # swap and move on\n",
    "        lst[i], lst[mn_idx] = lst[mn_idx], lst[i]\n",
    "\n",
    "selection_sort(lst)\n",
    "print(lst)\n"
   ]
  },
  {
   "cell_type": "code",
   "execution_count": null,
   "metadata": {},
   "outputs": [],
   "source": [
    "# my dry run was more or less the official way to do it \n",
    "\n",
    "class Solution:\n",
    "    def selection_sort(self, lst: List[int]) -> None:\n",
    "        \"\"\"\n",
    "        Mutates lst so that it is sorted via selecting the minimum element and\n",
    "        swapping it with the corresponding index\n",
    "        \"\"\"\n",
    "        for i in range(len(lst)):\n",
    "            min_index = i\n",
    "            for j in range(i + 1, len(lst)):\n",
    "                # Update minimum index\n",
    "                if lst[j] < lst[min_index]:\n",
    "                    min_index = j\n",
    "\n",
    "            # Swap current index with minimum element in rest of list\n",
    "            lst[min_index], lst[i] = lst[i], lst[min_index]"
   ]
  }
 ],
 "metadata": {
  "kernelspec": {
   "display_name": "Python 3",
   "language": "python",
   "name": "python3"
  },
  "language_info": {
   "codemirror_mode": {
    "name": "ipython",
    "version": 3
   },
   "file_extension": ".py",
   "mimetype": "text/x-python",
   "name": "python",
   "nbconvert_exporter": "python",
   "pygments_lexer": "ipython3",
   "version": "3.12.0"
  },
  "orig_nbformat": 4
 },
 "nbformat": 4,
 "nbformat_minor": 2
}
