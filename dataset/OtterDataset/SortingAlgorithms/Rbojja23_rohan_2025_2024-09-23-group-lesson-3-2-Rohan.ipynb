{
 "cells": [
  {
   "cell_type": "markdown",
   "metadata": {},
   "source": [
    "# Group Lesson 3.2\n",
    "#### Created by: Nikhil Maturi, Rohan Bojja, Neil Chandra, Yash Parikh"
   ]
  },
  {
   "attachments": {},
   "cell_type": "markdown",
   "metadata": {},
   "source": [
    "## Integers"
   ]
  },
  {
   "cell_type": "code",
   "execution_count": 31,
   "metadata": {
    "vscode": {
     "languageId": "javascript"
    }
   },
   "outputs": [
    {
     "data": {
      "application/javascript": "let DogAge = 99;\nlet CatAge = 101;\nlet seconds_alive = 109020390;\n\n// Arithmetic Operations\nconsole.log(\"DogAge\", DogAge);\nconsole.log(\"CatAge\", CatAge);\nconsole.log(\"-\".repeat(50));\nconsole.log(\"Arithmetic Operations:\");\nconsole.log(\"DogAge + CatAge =\", DogAge + CatAge); // addition\nconsole.log(\"DogAge - CatAge =\", DogAge - CatAge); // subtraction\nconsole.log(\"DogAge * CatAge =\", DogAge * CatAge); // multiplication\nconsole.log(\"DogAge / CatAge =\", DogAge / CatAge); // division\nconsole.log(\"DogAge^CatAge =\", Math.pow(DogAge, CatAge)); // exponentiation\nconsole.log(\"-\".repeat(50));\n\n// Counting\nconsole.log(\"Counting:\");\nfor (let i = 0; i < 10; i++) {\n    console.log(`Dog Age + ${i} =`, DogAge + i);\n}\n",
      "text/plain": [
       "<IPython.core.display.Javascript object>"
      ]
     },
     "metadata": {},
     "output_type": "display_data"
    }
   ],
   "source": [
    "%%js\n",
    "let DogAge = 99;\n",
    "let CatAge = 101;\n",
    "let seconds_alive = 109020390;\n",
    "\n",
    "// Arithmetic Operations\n",
    "console.log(\"DogAge\", DogAge);\n",
    "console.log(\"CatAge\", CatAge);\n",
    "console.log(\"-\".repeat(50));\n",
    "console.log(\"Arithmetic Operations:\");\n",
    "console.log(\"DogAge + CatAge =\", DogAge + CatAge); // addition\n",
    "console.log(\"DogAge - CatAge =\", DogAge - CatAge); // subtraction\n",
    "console.log(\"DogAge * CatAge =\", DogAge * CatAge); // multiplication\n",
    "console.log(\"DogAge / CatAge =\", DogAge / CatAge); // division\n",
    "console.log(\"DogAge^CatAge =\", Math.pow(DogAge, CatAge)); // exponentiation\n",
    "console.log(\"-\".repeat(50));\n",
    "\n",
    "// Counting\n",
    "console.log(\"Counting:\");\n",
    "for (let i = 0; i < 10; i++) {\n",
    "    console.log(`Dog Age + ${i} =`, DogAge + i);\n",
    "}"
   ]
  },
  {
   "cell_type": "markdown",
   "metadata": {},
   "source": [
    "<div id=\"output\"></div>\n",
    "\n",
    "<script>\n",
    "// JavaScript variables\n",
    "let DogAge = 99;\n",
    "let CatAge = 101;\n",
    "let seconds_alive = 109020390;\n",
    "\n",
    "// Select the output element\n",
    "let outputElement = document.getElementById(\"output\");\n",
    "\n",
    "// Directly update the HTML for each operation\n",
    "outputElement.innerHTML = `\n",
    "  <p>DogAge: ${DogAge}</p>\n",
    "  <p>CatAge: ${CatAge}</p>\n",
    "  <p>${\"-\".repeat(50)}</p>\n",
    "  <p>Arithmetic Operations:</p>\n",
    "  <p>DogAge + CatAge = ${DogAge + CatAge}</p>\n",
    "  <p>DogAge - CatAge = ${DogAge - CatAge}</p>\n",
    "  <p>DogAge * CatAge = ${DogAge * CatAge}</p>\n",
    "  <p>DogAge / CatAge = ${DogAge / CatAge}</p>\n",
    "  <p>DogAge^CatAge = ${Math.pow(DogAge, CatAge)}</p>\n",
    "  <p>${\"-\".repeat(50)}</p>\n",
    "  <p>Counting:</p>\n",
    "`;\n",
    "\n",
    "// Counting loop\n",
    "for (let i = 0; i < 10; i++) {\n",
    "    outputElement.innerHTML += `<p>Dog Age + ${i} = ${DogAge + i}</p>`;\n",
    "}\n",
    "</script>"
   ]
  },
  {
   "attachments": {},
   "cell_type": "markdown",
   "metadata": {},
   "source": [
    "## Floats"
   ]
  },
  {
   "cell_type": "code",
   "execution_count": 32,
   "metadata": {
    "vscode": {
     "languageId": "javascript"
    }
   },
   "outputs": [
    {
     "data": {
      "application/javascript": "let numberOfChocolatePieces = 4.5;\nlet numberOfFruitPieces = 7/2;\n\nconsole.log(\"Number of Chocolate Pieces\", numberOfChocolatePieces);\nconsole.log(\"Number of Fruit Pieces\", numberOfFruitPieces);\nconsole.log(\"Number of Chocolate Pieces and Number of Fruit Pieces\", numberOfChocolatePieces + numberOfFruitPieces);\n",
      "text/plain": [
       "<IPython.core.display.Javascript object>"
      ]
     },
     "metadata": {},
     "output_type": "display_data"
    }
   ],
   "source": [
    "%%js\n",
    "let numberOfChocolatePieces = 4.5;\n",
    "let numberOfFruitPieces = 7/2;\n",
    "\n",
    "console.log(\"Number of Chocolate Pieces\", numberOfChocolatePieces);\n",
    "console.log(\"Number of Fruit Pieces\", numberOfFruitPieces);\n",
    "console.log(\"Number of Chocolate Pieces and Number of Fruit Pieces\", numberOfChocolatePieces + numberOfFruitPieces);"
   ]
  },
  {
   "attachments": {},
   "cell_type": "markdown",
   "metadata": {},
   "source": [
    "<div id=\"output1\"></div>\n",
    "\n",
    "<script>\n",
    "// JavaScript variables\n",
    "let numberOfChocolatePieces = 4.5;\n",
    "let numberOfFruitPieces = 7 / 2;\n",
    "\n",
    "// Select the output element\n",
    "let outputElement1 = document.getElementById(\"output1\");\n",
    "\n",
    "// Display the output\n",
    "outputElement1.innerHTML += `\n",
    "  <p>Number of Chocolate Pieces: ${numberOfChocolatePieces}</p>\n",
    "  <p>Number of Fruit Pieces: ${numberOfFruitPieces}</p>\n",
    "  <p>Total Pieces (Chocolate + Fruit): ${numberOfChocolatePieces + numberOfFruitPieces}</p>\n",
    "`;\n",
    "</script>"
   ]
  },
  {
   "attachments": {},
   "cell_type": "markdown",
   "metadata": {},
   "source": [
    "## Strings"
   ]
  },
  {
   "cell_type": "code",
   "execution_count": 33,
   "metadata": {
    "vscode": {
     "languageId": "javascript"
    }
   },
   "outputs": [
    {
     "data": {
      "application/javascript": "let firstName = \"John\";\nlet lastName = \"Doe\";\nlet laugh = \"Ha\";\nlet fruit = \"Watermelon\";\nlet fruitWithSpace = \"   Watermelon   \";\n\n\nconsole.log(\"Concatenation:\");\nconsole.log(\"First name and Last Name:\", firstName + \" \" + lastName); \nconsole.log(\"-\".repeat(50));\n\n\nconsole.log(\"Repetition:\");\nconsole.log(laugh.repeat(4)); \nconsole.log(\"-\".repeat(50));\n\n\nconsole.log(\"Indexing:\");\nconsole.log(fruit.slice(0, 5)); \nconsole.log(\"-\".repeat(50));\n\n\nconsole.log(\"Length of String:\");\nconsole.log(firstName.length); \nconsole.log(\"-\".repeat(50));\n\n\nconsole.log(\"Changing Letter Format:\");\nconsole.log(firstName.toUpperCase());\nconsole.log(firstName[0].toUpperCase() + firstName.slice(1).toLowerCase());\nconsole.log(\"-\".repeat(50));\n\n\nconsole.log(\"Removing whitespace:\");\nconsole.log(fruitWithSpace.trim());\n",
      "text/plain": [
       "<IPython.core.display.Javascript object>"
      ]
     },
     "metadata": {},
     "output_type": "display_data"
    }
   ],
   "source": [
    "%%js\n",
    "let firstName = \"John\";\n",
    "let lastName = \"Doe\";\n",
    "let laugh = \"Ha\";\n",
    "let fruit = \"Watermelon\";\n",
    "let fruitWithSpace = \"   Watermelon   \";\n",
    "\n",
    "\n",
    "console.log(\"Concatenation:\");\n",
    "console.log(\"First name and Last Name:\", firstName + \" \" + lastName); \n",
    "console.log(\"-\".repeat(50));\n",
    "\n",
    "\n",
    "console.log(\"Repetition:\");\n",
    "console.log(laugh.repeat(4)); \n",
    "console.log(\"-\".repeat(50));\n",
    "\n",
    "\n",
    "console.log(\"Indexing:\");\n",
    "console.log(fruit.slice(0, 5)); \n",
    "console.log(\"-\".repeat(50));\n",
    "\n",
    "\n",
    "console.log(\"Length of String:\");\n",
    "console.log(firstName.length); \n",
    "console.log(\"-\".repeat(50));\n",
    "\n",
    "\n",
    "console.log(\"Changing Letter Format:\");\n",
    "console.log(firstName.toUpperCase());\n",
    "console.log(firstName[0].toUpperCase() + firstName.slice(1).toLowerCase());\n",
    "console.log(\"-\".repeat(50));\n",
    "\n",
    "\n",
    "console.log(\"Removing whitespace:\");\n",
    "console.log(fruitWithSpace.trim());"
   ]
  },
  {
   "attachments": {},
   "cell_type": "markdown",
   "metadata": {},
   "source": [
    "<div id=\"output2\"></div>\n",
    "\n",
    "<script>\n",
    "// JavaScript variables\n",
    "let firstName = \"John\";\n",
    "let lastName = \"Doe\";\n",
    "let laugh = \"Ha\";\n",
    "let fruit = \"Watermelon\";\n",
    "let fruitWithSpace = \"   Watermelon   \";\n",
    "\n",
    "// Select the output element\n",
    "let outputElement2 = document.getElementById(\"output2\");\n",
    "\n",
    "// Display the output\n",
    "outputElement2.innerHTML = `\n",
    "  <p><strong>Concatenation:</strong></p>\n",
    "  <p>First name and Last Name: ${firstName + \" \" + lastName}</p>\n",
    "  <p>${\"-\".repeat(50)}</p>\n",
    "  \n",
    "  <p><strong>Repetition:</strong></p>\n",
    "  <p>${laugh.repeat(4)}</p>\n",
    "  <p>${\"-\".repeat(50)}</p>\n",
    "  \n",
    "  <p><strong>Indexing:</strong></p>\n",
    "  <p>${fruit.slice(0, 5)}</p>\n",
    "  <p>${\"-\".repeat(50)}</p>\n",
    "  \n",
    "  <p><strong>Length of String:</strong></p>\n",
    "  <p>${firstName.length}</p>\n",
    "  <p>${\"-\".repeat(50)}</p>\n",
    "  \n",
    "  <p><strong>Changing Letter Format:</strong></p>\n",
    "  <p>${firstName.toUpperCase()}</p>\n",
    "  <p>${firstName[0].toUpperCase() + firstName.slice(1).toLowerCase()}</p>\n",
    "  <p>${\"-\".repeat(50)}</p>\n",
    "  \n",
    "  <p><strong>Removing whitespace:</strong></p>\n",
    "  <p>${fruitWithSpace.trim()}</p>\n",
    "`;\n",
    "</script>"
   ]
  },
  {
   "attachments": {},
   "cell_type": "markdown",
   "metadata": {},
   "source": [
    "## Lists "
   ]
  },
  {
   "cell_type": "code",
   "execution_count": 34,
   "metadata": {
    "vscode": {
     "languageId": "javascript"
    }
   },
   "outputs": [
    {
     "data": {
      "application/javascript": "// Lists in JavaScript (arrays)\nlet candy = [\"Jolly Rancher\", \"Kit Kat\", \"Starburst\", \"Nerds\", \"Nerd Clusters\"];\nconsole.log(candy);\nconsole.log(\"-\".repeat(50));\n\n// Appending (Adding items to the list)\nconsole.log(\"Appending i.e. Adding Items to the List:\");\ncandy.push(\"Laffy Taffy\");  // Adds item to the end of the list\nconsole.log(candy);\nconsole.log(\"-\".repeat(50));\n\n// Removing element from list\nconsole.log(\"Removing Element from List:\");\nlet index = candy.indexOf(\"Kit Kat\");\nif (index !== -1) candy.splice(index, 1); // Removes \"Kit Kat\" if it exists\nconsole.log(candy);\nconsole.log(\"-\".repeat(50));\n\n// Sorting the list\nconsole.log(\"Sorts lists:\");\ncandy.sort(); // removes task of writing sorting algorithm from scratch with high computational efficiency, n log n.\nconsole.log(\"Post sort list:\", candy);\n\n// Duplicating (copying) the list\nlet candy_copy = [...candy]; // Creates a shallow copy of the list\nconsole.log(\"Candy copy:\", candy_copy);\n",
      "text/plain": [
       "<IPython.core.display.Javascript object>"
      ]
     },
     "metadata": {},
     "output_type": "display_data"
    }
   ],
   "source": [
    "%%js\n",
    "// Lists in JavaScript (arrays)\n",
    "let candy = [\"Jolly Rancher\", \"Kit Kat\", \"Starburst\", \"Nerds\", \"Nerd Clusters\"];\n",
    "console.log(candy);\n",
    "console.log(\"-\".repeat(50));\n",
    "\n",
    "// Appending (Adding items to the list)\n",
    "console.log(\"Appending i.e. Adding Items to the List:\");\n",
    "candy.push(\"Laffy Taffy\");  // Adds item to the end of the list\n",
    "console.log(candy);\n",
    "console.log(\"-\".repeat(50));\n",
    "\n",
    "// Removing element from list\n",
    "console.log(\"Removing Element from List:\");\n",
    "let index = candy.indexOf(\"Kit Kat\");\n",
    "if (index !== -1) candy.splice(index, 1); // Removes \"Kit Kat\" if it exists\n",
    "console.log(candy);\n",
    "console.log(\"-\".repeat(50));\n",
    "\n",
    "// Sorting the list\n",
    "console.log(\"Sorts lists:\");\n",
    "candy.sort(); // removes task of writing sorting algorithm from scratch with high computational efficiency, n log n.\n",
    "console.log(\"Post sort list:\", candy);\n",
    "\n",
    "// Duplicating (copying) the list\n",
    "let candy_copy = [...candy]; // Creates a shallow copy of the list\n",
    "console.log(\"Candy copy:\", candy_copy);"
   ]
  },
  {
   "attachments": {},
   "cell_type": "markdown",
   "metadata": {},
   "source": [
    "<div id=\"output3\"></div>\n",
    "\n",
    "<script>\n",
    "// Lists in JavaScript (arrays)\n",
    "let candy = [\"Jolly Rancher\", \"Kit Kat\", \"Starburst\", \"Nerds\", \"Nerd Clusters\"];\n",
    "\n",
    "// Select the output element\n",
    "let outputElement3 = document.getElementById(\"output3\");\n",
    "\n",
    "// Display the initial list\n",
    "outputElement3.innerHTML = `\n",
    "  <p><strong>Initial List:</strong> ${candy.join(\", \")}</p>\n",
    "  <p>${\"-\".repeat(50)}</p>\n",
    "`;\n",
    "\n",
    "// Appending (Adding items to the list)\n",
    "candy.push(\"Laffy Taffy\");  // Adds item to the end of the list\n",
    "outputElement3.innerHTML += `\n",
    "  <p><strong>Appending (Adding Items to the List):</strong></p>\n",
    "  <p>${candy.join(\", \")}</p>\n",
    "  <p>${\"-\".repeat(50)}</p>\n",
    "`;\n",
    "\n",
    "// Removing element from list\n",
    "let index = candy.indexOf(\"Kit Kat\");\n",
    "if (index !== -1) candy.splice(index, 1); // Removes \"Kit Kat\" if it exists\n",
    "outputElement3.innerHTML += `\n",
    "  <p><strong>Removing Element from List (Kit Kat):</strong></p>\n",
    "  <p>${candy.join(\", \")}</p>\n",
    "  <p>${\"-\".repeat(50)}</p>\n",
    "`;\n",
    "\n",
    "// Sorting the list\n",
    "candy.sort(); // Sorts the list alphabetically\n",
    "outputElement3.innerHTML += `\n",
    "  <p><strong>Sorted List:</strong></p>\n",
    "  <p>${candy.join(\", \")}</p>\n",
    "  <p>${\"-\".repeat(50)}</p>\n",
    "`;\n",
    "\n",
    "// Duplicating (copying) the list\n",
    "let candy_copy = [...candy]; // Creates a shallow copy of the list\n",
    "outputElement3.innerHTML += `\n",
    "  <p><strong>Copied List:</strong></p>\n",
    "  <p>${candy_copy.join(\", \")}</p>\n",
    "`;\n",
    "</script>"
   ]
  },
  {
   "attachments": {},
   "cell_type": "markdown",
   "metadata": {},
   "source": [
    "## Tuples"
   ]
  },
  {
   "cell_type": "code",
   "execution_count": 35,
   "metadata": {
    "vscode": {
     "languageId": "javascript"
    }
   },
   "outputs": [
    {
     "data": {
      "application/javascript": "let myTuple = [8, 12];  // Arrays are used in place of tuples in JavaScript\nconsole.log(\"Tuple:\", myTuple);\nconsole.log(\"-\".repeat(50));\n\n// Length of the array\nconsole.log(\"Length:\");\nconsole.log(myTuple.length);\nconsole.log(\"-\".repeat(50));\n\n// Unpacking\nlet [x, y] = myTuple;\nconsole.log(\"x:\", x);\nconsole.log(\"y:\", y);\nconsole.log(\"-\".repeat(50));\n\n// Repetition\nconsole.log(\"Repetition:\");\nconsole.log([...myTuple, ...myTuple, ...myTuple]); // Repeating array elements\nconsole.log(\"-\".repeat(50));\n\n// Min, Max, Sum\nconsole.log(\"Minimum:\");\nconsole.log(Math.min(...myTuple));\nconsole.log(\"Maximum:\");\nconsole.log(Math.max(...myTuple));\nconsole.log(\"Summation:\");\nconsole.log(myTuple.reduce((a, b) => a + b, 0)); // Summing elements of array\nconsole.log(\"-\".repeat(50));\n\n\n\nprint(\"Minimum:\")\nprint(min(myTuple))\nprint(\"Maximum:\")\nprint(max(myTuple))\nprint(\"Summation:\")\nprint(sum(myTuple))\nprint(\"-\"*50)\n",
      "text/plain": [
       "<IPython.core.display.Javascript object>"
      ]
     },
     "metadata": {},
     "output_type": "display_data"
    }
   ],
   "source": [
    "%%js\n",
    "let myTuple = [8, 12];  // Arrays are used in place of tuples in JavaScript\n",
    "console.log(\"Tuple:\", myTuple);\n",
    "console.log(\"-\".repeat(50));\n",
    "\n",
    "// Length of the array\n",
    "console.log(\"Length:\");\n",
    "console.log(myTuple.length);\n",
    "console.log(\"-\".repeat(50));\n",
    "\n",
    "// Unpacking\n",
    "let [x, y] = myTuple;\n",
    "console.log(\"x:\", x);\n",
    "console.log(\"y:\", y);\n",
    "console.log(\"-\".repeat(50));\n",
    "\n",
    "// Repetition\n",
    "console.log(\"Repetition:\");\n",
    "console.log([...myTuple, ...myTuple, ...myTuple]); // Repeating array elements\n",
    "console.log(\"-\".repeat(50));\n",
    "\n",
    "// Min, Max, Sum\n",
    "console.log(\"Minimum:\");\n",
    "console.log(Math.min(...myTuple));\n",
    "console.log(\"Maximum:\");\n",
    "console.log(Math.max(...myTuple));\n",
    "console.log(\"Summation:\");\n",
    "console.log(myTuple.reduce((a, b) => a + b, 0)); // Summing elements of array\n",
    "console.log(\"-\".repeat(50));\n",
    "\n",
    "\n",
    "\n",
    "print(\"Minimum:\")\n",
    "print(min(myTuple))\n",
    "print(\"Maximum:\")\n",
    "print(max(myTuple))\n",
    "print(\"Summation:\")\n",
    "print(sum(myTuple))\n",
    "print(\"-\"*50)"
   ]
  },
  {
   "attachments": {},
   "cell_type": "markdown",
   "metadata": {},
   "source": [
    "<div id=\"output4\"></div>\n",
    "\n",
    "<script>\n",
    "// Arrays are used in place of tuples in JavaScript\n",
    "let myTuple = [8, 12];\n",
    "\n",
    "// Select the output element\n",
    "let outputElement4 = document.getElementById(\"output4\");\n",
    "\n",
    "// Display the initial tuple (array)\n",
    "outputElement4.innerHTML = `\n",
    "  <p><strong>Tuple:</strong> [${myTuple.join(\", \")}]</p>\n",
    "  <p>${\"-\".repeat(50)}</p>\n",
    "`;\n",
    "\n",
    "// Length of the array\n",
    "outputElement4.innerHTML += `\n",
    "  <p><strong>Length:</strong> ${myTuple.length}</p>\n",
    "  <p>${\"-\".repeat(50)}</p>\n",
    "`;\n",
    "\n",
    "// Unpacking\n",
    "let [x, y] = myTuple;\n",
    "outputElement4.innerHTML += `\n",
    "  <p><strong>Unpacking:</strong></p>\n",
    "  <p>x: ${x}</p>\n",
    "  <p>y: ${y}</p>\n",
    "  <p>${\"-\".repeat(50)}</p>\n",
    "`;\n",
    "\n",
    "// Repetition\n",
    "outputElement4.innerHTML += `\n",
    "  <p><strong>Repetition:</strong> [${[...myTuple, ...myTuple, ...myTuple].join(\", \")}]</p>\n",
    "  <p>${\"-\".repeat(50)}</p>\n",
    "`;\n",
    "\n",
    "// Min, Max, Sum\n",
    "outputElement4.innerHTML += `\n",
    "  <p><strong>Minimum:</strong> ${Math.min(...myTuple)}</p>\n",
    "  <p><strong>Maximum:</strong> ${Math.max(...myTuple)}</p>\n",
    "  <p><strong>Summation:</strong> ${myTuple.reduce((a, b) => a + b, 0)}</p>\n",
    "  <p>${\"-\".repeat(50)}</p>\n",
    "`;\n",
    "</script>"
   ]
  }
 ],
 "metadata": {
  "kernelspec": {
   "display_name": "venv",
   "language": "python",
   "name": "python3"
  },
  "language_info": {
   "codemirror_mode": {
    "name": "ipython",
    "version": 3
   },
   "file_extension": ".py",
   "mimetype": "text/x-python",
   "name": "python",
   "nbconvert_exporter": "python",
   "pygments_lexer": "ipython3",
   "version": "3.12.5"
  },
  "orig_nbformat": 4,
  "vscode": {
   "interpreter": {
    "hash": "72756fa0984efdc44fb8517b692d10defb2e78cf8a4e51ca5670a6eeef22a31e"
   }
  }
 },
 "nbformat": 4,
 "nbformat_minor": 2
}
