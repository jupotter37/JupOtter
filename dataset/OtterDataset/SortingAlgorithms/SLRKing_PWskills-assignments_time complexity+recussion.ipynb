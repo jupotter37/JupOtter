{
 "cells": [
  {
   "cell_type": "markdown",
   "metadata": {},
   "source": [
    "Find time complexity of below code blocks :\n",
    "Problem 1 :\n",
    "def quicksort(arr):\n",
    "if len(arr) <= 1:\n",
    "return arr\n",
    "pivot = arr[len(arr) // 2]\n",
    "left = [x for x in arr if x < pivot]\n",
    "middle = [x for x in arr if x == pivot]\n",
    "right = [x for x in arr if x > pivot]\n",
    "return quicksort(left) + middle + quicksort(right)"
   ]
  },
  {
   "cell_type": "markdown",
   "metadata": {},
   "source": [
    "The given code block represents the quicksort algorithm\n",
    "which is a popular sorting algorithm based on the divide-and-conquer strategy.\n",
    "\n",
    "\n",
    "1. Base Case:\n",
    "   - If the length of the input array arr is less than or equal to 1, the function returns the array as is.\n",
    "   - This is the base case for the recursion.\n",
    "   - The time complexity for this part is constant, denoted as O(1).\n",
    "\n",
    "2. Partitioning:\n",
    "   - The algorithm selects a pivot element (in this case, the middle element of the array).\n",
    "   - It then partitions the array into three subarrays:\n",
    "     - `left`: Contains elements less than the pivot.\n",
    "     - `middle`: Contains elements equal to the pivot.\n",
    "     - `right`: Contains elements greater than the pivot.\n",
    "   - The partitioning step takes O(n) time, where n is the size of the input array.\n",
    "\n",
    "3. Recursion:\n",
    "   - The function recursively calls itself on the `left` and `right` subarrays.\n",
    "   - The recurrence relation for the time complexity is:\n",
    "     T(n) = 2T(n/2) + O(n)\n",
    "     (Two recursive calls on subarrays of size n/2 and linear work for partitioning)\n",
    "   - By applying the Master Theorem, we find that the time complexity of the recursive part is O(n \\log n).\n",
    "\n",
    "4. Combining Results:\n",
    "   - The final result is obtained by concatenating the sorted `left`, `middle`, and `right` subarrays.\n",
    "   - The concatenation step takes O(n) time.\n",
    "\n",
    "5. Overall Time Complexity:\n",
    "   - Combining all the steps, the overall time complexity of the quicksort algorithm is:\n",
    "     T(n) = O(n) + O(n \\log n) + O(n) = O(n \\log n)\n",
    "\n",
    "Therefore, the time complexity of the given quicksort implementation is O(n \\log n). It is an efficient sorting algorithm for large datasets and is widely used in practice."
   ]
  },
  {
   "cell_type": "markdown",
   "metadata": {},
   "source": [
    "2] def nested_loop_example(matrix):\n",
    "rows, cols = len(matrix), len(matrix[0])\n",
    "total = 0\n",
    "for i in range(rows):\n",
    "for j in range(cols):\n",
    "total += matrix[i][j]\n",
    "return total"
   ]
  },
  {
   "cell_type": "markdown",
   "metadata": {},
   "source": [
    "The given code defines a function called `nested_loop_example(matrix)` that computes the sum of all elements in a 2D matrix. \n",
    "1. Input:\n",
    "   - The input to the function is a 2D matrix represented as a list of lists.\n",
    "   - The matrix has rows and columns.\n",
    "\n",
    "2. Nested Loops:\n",
    "   - The function uses two nested loops to iterate through each element of the matrix.\n",
    "   - The outer loop iterates over the rows, and the inner loop iterates over the columns.\n",
    "   - For each element, the total sum is updated.\n",
    "\n",
    "3. Work Done Inside the Loops:\n",
    "   - The work done inside the inner loop (computing the sum) is constant time.\n",
    "   - Therefore, the time complexity of the inner loop is O(1).\n",
    "\n",
    "4. Total Work:\n",
    "   - Since the inner loop runs for each element in the matrix, the total work done is proportional to the number of elements in the matrix.\n",
    "   - If the matrix has n rows and m columns, the total number of elements is n \\times m.\n",
    "   - Hence, the overall time complexity is O(n \\times m).\n",
    "\n",
    "5. Summary:\n",
    "   - The time complexity of the `nested_loop_example` function is O(n \\times m), where n is the number of rows and m is the number of columns in the input matrix.\n"
   ]
  },
  {
   "cell_type": "code",
   "execution_count": null,
   "metadata": {},
   "outputs": [],
   "source": [
    " '''       def example_function(arr):\n",
    "        result = 0\n",
    "        for element in arr:\n",
    "        result += element\n",
    "        return result"
   ]
  },
  {
   "cell_type": "markdown",
   "metadata": {},
   "source": [
    "The given code defines a function called `example_function(arr)` that computes the sum of all elements in an input array `arr`. Let's analyze its time complexity.\n",
    "\n",
    "1. Input:\n",
    "   - The input to the function is an array (list) represented by `arr`.\n",
    "\n",
    "2. Loop Iteration:\n",
    "   - The function uses a loop to iterate through each element in the array.\n",
    "   - For each element, the total sum (`result`) is updated.\n",
    "\n",
    "3. Work Done Inside the Loop:\n",
    "   - The work done inside the loop (adding an element to the result) is constant time.\n",
    "   - Therefore, the time complexity of the loop is O(1).\n",
    "\n",
    "4. Total Work:\n",
    "   - Since the loop runs for each element in the array, the total work done is proportional to the number of elements in the array.\n",
    "   - If the array has n elements, the overall time complexity is O(n).\n",
    "\n",
    "5. **Summary**:\n",
    "   - The time complexity of the `example_function` is O(n), where n is the size of the input array.\n",
    "\n",
    "This algorithm efficiently computes the sum of all elements in the array by visiting each element exactly once. "
   ]
  },
  {
   "cell_type": "code",
   "execution_count": null,
   "metadata": {},
   "outputs": [],
   "source": [
    "'''    def longest_increasing_subsequence(nums):\n",
    "    n = len(nums)\n",
    "    lis = [1] * n\n",
    "    for i in range(1, n):\n",
    "    for j in range(0, i):\n",
    "    if nums[i] > nums[j] and lis[i] < lis[j] + 1:\n",
    "    lis[i] = lis[j] + 1\n",
    "    return max(lis)"
   ]
  },
  {
   "cell_type": "markdown",
   "metadata": {},
   "source": [
    "The given code defines a function called `longest_increasing_subsequence(nums)` that computes the length of the **longest increasing subsequence** (LIS) in an input list of integers `nums`. Let's analyze its time complexity.\n",
    "\n",
    "1. Input:\n",
    "   - The input to the function is a list of integers represented by `nums`.\n",
    "\n",
    "2. Dynamic Programming Approach:\n",
    "   - The function uses dynamic programming to find the LIS.\n",
    "   - It initializes an array `lis` of the same length as `nums`, where each element represents the length of the LIS ending at that position.\n",
    "   - Initially, all elements of `lis` are set to 1 (since each element is a valid LIS of length 1 by itself).\n",
    "   - The goal is to update `lis[i]` for each index `i` such that it represents the length of the LIS ending at position `i`.\n",
    "\n",
    "3. Nested Loops:\n",
    "   - The function uses two nested loops:\n",
    "     - The outer loop iterates from index 1 to `n-1` (where `n` is the length of `nums`).\n",
    "     - The inner loop iterates from index 0 to `i-1`.\n",
    "   - For each pair of indices `(i, j)`, the algorithm checks if `nums[i]` is greater than `nums[j]` and if `lis[i]` can be improved by extending the LIS ending at `j`.\n",
    "   - If both conditions are met, `lis[i]` is updated to `lis[j] + 1`.\n",
    "\n",
    "4. Work Done Inside the Loops:\n",
    "   - The work done inside the inner loop (updating `lis[i]`) is constant time.\n",
    "   - Therefore, the time complexity of the inner loop is O(1).\n",
    "\n",
    "5. Total Work:\n",
    "   - Since the inner loop runs for each pair of indices `(i, j)`, the total work done is proportional to the number of pairs.\n",
    "   - The total number of pairs is approximately {n(n-1)}{2}.\n",
    "   - Hence, the overall time complexity is O(n^2).\n",
    "\n",
    "6. Summary:\n",
    "   - The time complexity of the `longest_increasing_subsequence` function is O(n^2), where `n` is the size of the input list `nums`.\n",
    "\n",
    "   "
   ]
  },
  {
   "cell_type": "code",
   "execution_count": null,
   "metadata": {},
   "outputs": [],
   "source": [
    "  '''      def mysterious_function(arr):\n",
    "        n = len(arr)\n",
    "        result = 0\n",
    "        for i in range(n):\n",
    "        for j in range(i, n):\n",
    "        result += arr[i] * arr[j]\n",
    "        return result"
   ]
  },
  {
   "cell_type": "markdown",
   "metadata": {},
   "source": [
    "The given code defines a function called `mysterious_function(arr)` that computes the sum of all possible products of pairs of elements from the input array `arr`. \n",
    "\n",
    "1. Input:\n",
    "   - The input to the function is an array (list) represented by `arr`.\n",
    "\n",
    "2. Nested Loops:\n",
    "   - The function uses two nested loops:\n",
    "     - The outer loop iterates from index 0 to `n-1`, where `n` is the length of `arr`.\n",
    "     - The inner loop iterates from the current outer loop index to `n-1`.\n",
    "   - For each pair of indices `(i, j)`, the algorithm computes the product of `arr[i]` and `arr[j]` and adds it to the `result`.\n",
    "\n",
    "3. Work Done Inside the Loops:\n",
    "   - The work done inside the inner loop (computing the product and adding it to the result) is constant time.\n",
    "   - Therefore, the time complexity of the inner loop is O(1).\n",
    "\n",
    "4. Total Work:\n",
    "   - Since the inner loop runs for each pair of indices `(i, j)`, the total work done is proportional to the number of pairs.\n",
    "   - The total number of pairs is approximately {n(n+1)}{2} (considering both the upper and lower triangular part of the matrix of pairs).\n",
    "   - Hence, the overall time complexity is approximately O(n^2).\n",
    "\n",
    "5. Summary:\n",
    "   - The time complexity of the `mysterious_function` is O(n^2), where `n` is the size of the input array.\n",
    "   - This algorithm efficiently computes the sum of all possible products of pairs of elements in the array but may not be optimal for very large input arrays.\n"
   ]
  },
  {
   "cell_type": "markdown",
   "metadata": {},
   "source": [
    "Solve the following problems on recursion Write a recursive function to calculate the sum of digits of a given positive integer.\n",
    "sum_of_digits(123) -> 6"
   ]
  },
  {
   "cell_type": "code",
   "execution_count": 12,
   "metadata": {},
   "outputs": [
    {
     "name": "stdout",
     "output_type": "stream",
     "text": [
      "The sum of digits of 123 is 6.\n"
     ]
    }
   ],
   "source": [
    "def sum_of_digits(n):\n",
    "  \n",
    "    if n < 10:\n",
    "        return n\n",
    "    else:\n",
    "        last_digit = n % 10 #this will give you remainder\n",
    "\n",
    "        remaining_digits = n // 10\n",
    "\n",
    "\n",
    "        return last_digit + sum_of_digits(remaining_digits)\n",
    "        \n",
    "number = 123\n",
    "result = sum_of_digits(number)\n",
    "print(f\"The sum of digits of {number} is {result}.\")\n"
   ]
  },
  {
   "cell_type": "markdown",
   "metadata": {},
   "source": [
    "Fibonacci Series\n",
    "Write a recursive function to generate the first n numbers of the Fibonacci series.\n",
    "fibonacci_series(6) -> [0, 1, 1, 2, 3, 5]"
   ]
  },
  {
   "cell_type": "code",
   "execution_count": 14,
   "metadata": {},
   "outputs": [
    {
     "name": "stdout",
     "output_type": "stream",
     "text": [
      "The first 6 numbs of the Fibonacci series are [0, 1, 1, 2, 3, 5]\n"
     ]
    }
   ],
   "source": [
    "def fibonacci_series(n):\n",
    "\n",
    "    if n<=0:\n",
    "        return []\n",
    "    elif n==1:\n",
    "        return [0]\n",
    "    elif n==2:\n",
    "        return [0,1]\n",
    "    else:\n",
    "        fib_nums=fibonacci_series(n-1)\n",
    "        next_fib=fib_nums[-1]+fib_nums[-2]\n",
    "        fib_nums.append(next_fib)\n",
    "        return fib_nums\n",
    "\n",
    "n=6\n",
    "fibonacci_result=fibonacci_series(n)\n",
    "print(f\"The first {n} numbs of the Fibonacci series are\", fibonacci_result)"
   ]
  },
  {
   "cell_type": "markdown",
   "metadata": {},
   "source": [
    "Subset Sum\n",
    "Given a set of positive integers and a target sum, write a recursive function to determine if there exists a subset\n",
    "of the integers that adds up to the target sum.\n",
    "subset_sum([3, 34, 4, 12, 5, 2], 9) -> True"
   ]
  },
  {
   "cell_type": "code",
   "execution_count": 22,
   "metadata": {},
   "outputs": [
    {
     "name": "stdout",
     "output_type": "stream",
     "text": [
      "Is there a subset that adds up to 9? True\n"
     ]
    }
   ],
   "source": [
    "def subset_sum(nums, target, index=0):\n",
    "    '''\n",
    "        nums (list): List of positive integers.\n",
    "        target (int): Target sum.\n",
    "        index (int, optional): Current index in the list. Defaults to 0.'''\n",
    "\n",
    "    if target == 0:\n",
    "        return True\n",
    "    if index >= len(nums):\n",
    "        return False\n",
    "    \n",
    "    # Include the current number in the subset\n",
    "    if nums[index] <= target:\n",
    "        if subset_sum(nums, target - nums[index], index + 1):\n",
    "            return True\n",
    "    \n",
    "    # Exclude the current number from the subset\n",
    "    return subset_sum(nums, target, index + 1)\n",
    "\n",
    "# Example usage\n",
    "numbers = [3, 34, 4, 12, 5, 2]\n",
    "target_sum = 9\n",
    "result = subset_sum(numbers, target_sum)\n",
    "print(f\"Is there a subset that adds up to {target_sum}? {result}\")\n"
   ]
  },
  {
   "cell_type": "markdown",
   "metadata": {},
   "source": [
    "Word Break\n",
    "Given a non-empty string and a dictionary of words, write a recursive function to determine if the string can be\n",
    "segmented into a space-separated sequence of dictionary words.\n",
    "word_break( leetcode , [ leet , code ]) -> True"
   ]
  },
  {
   "cell_type": "code",
   "execution_count": 24,
   "metadata": {},
   "outputs": [
    {
     "name": "stdout",
     "output_type": "stream",
     "text": [
      "Can 'leetcode' be segmented into dictionary words? True\n"
     ]
    }
   ],
   "source": [
    "def word_break(s, word_dict):\n",
    "    \"\"\"\n",
    "    \n",
    "    Args:\n",
    "        s (str): The input string.\n",
    "        word_dict (set): A set of dictionary words.\n",
    "\n",
    "    \"\"\"\n",
    "    if not s:\n",
    "        return True\n",
    "    \n",
    "    for i in range(1, len(s) + 1):\n",
    "        prefix = s[:i]\n",
    "        if prefix in word_dict and word_break(s[i:], word_dict):\n",
    "            return True\n",
    "    \n",
    "    return False\n",
    "\n",
    "# Example usage\n",
    "input_string = \"leetcode\"\n",
    "dictionary_words = {\"leet\", \"code\"}\n",
    "result = word_break(input_string, dictionary_words)\n",
    "print(f\"Can '{input_string}' be segmented into dictionary words? {result}\")\n"
   ]
  },
  {
   "cell_type": "markdown",
   "metadata": {},
   "source": [
    "N-Queens\n",
    "Implement a recursive function to solve the N Queens problem, where you have to place N queens on an N×N\n",
    "chessboard in such a way that no two queens threaten each other.\n",
    "n_queens(4)"
   ]
  },
  {
   "cell_type": "code",
   "execution_count": 31,
   "metadata": {},
   "outputs": [
    {
     "name": "stdout",
     "output_type": "stream",
     "text": [
      "0 1 0 0\n",
      "0 0 0 1\n",
      "1 0 0 0\n",
      "0 0 1 0\n"
     ]
    }
   ],
   "source": [
    "def is_safe(board, row, col, n):\n",
    "    \"\"\"\n",
    "  \n",
    "        board (list): The current board configuration.\n",
    "        row (int): Row index.\n",
    "        col (int): Column index.\n",
    "        n (int): Board size (N).\n",
    "\n",
    "    \"\"\"\n",
    "    # Check the same column\n",
    "    for i in range(row):\n",
    "        if board[i][col] == 1:\n",
    "            return False\n",
    "\n",
    "    # Check upper left diagonal\n",
    "    for i, j in zip(range(row, -1, -1), range(col, -1, -1)):\n",
    "        if board[i][j] == 1:\n",
    "            return False\n",
    "\n",
    "    # Check upper right diagonal\n",
    "    for i, j in zip(range(row, -1, -1), range(col, n)):\n",
    "        if board[i][j] == 1:\n",
    "            return False\n",
    "\n",
    "    return True\n",
    "\n",
    "def solve_n_queens_util(board, row, n):\n",
    "    \"\"\"\n",
    "   \n",
    "        board (list): The current board configuration.\n",
    "        row (int): Current row index.\n",
    "        n (int): Board size (N).\n",
    "\n",
    "    \"\"\"\n",
    "    if row == n:\n",
    "        # All queens are placed successfully\n",
    "        return True\n",
    "\n",
    "    for col in range(n):\n",
    "        if is_safe(board, row, col, n):\n",
    "            board[row][col] = 1\n",
    "            if solve_n_queens_util(board, row + 1, n):\n",
    "                return True\n",
    "            board[row][col] = 0\n",
    "\n",
    "    return False\n",
    "\n",
    "def solve_n_queens(n):\n",
    "    \"\"\"\n",
    "  \n",
    "        n (int): Board size (N).\n",
    "    \"\"\"\n",
    "    board = [[0] * n for _ in range(n)]\n",
    "    if solve_n_queens_util(board, 0, n):\n",
    "        for row in board:\n",
    "            print(\" \".join(str(cell) for cell in row))\n",
    "    else:\n",
    "        print(\"No solution exists.\")\n",
    "\n",
    "# Example usage\n",
    "solve_n_queens(4)\n"
   ]
  },
  {
   "cell_type": "markdown",
   "metadata": {},
   "source": []
  },
  {
   "cell_type": "code",
   "execution_count": null,
   "metadata": {},
   "outputs": [],
   "source": []
  }
 ],
 "metadata": {
  "kernelspec": {
   "display_name": "Python 3",
   "language": "python",
   "name": "python3"
  },
  "language_info": {
   "codemirror_mode": {
    "name": "ipython",
    "version": 3
   },
   "file_extension": ".py",
   "mimetype": "text/x-python",
   "name": "python",
   "nbconvert_exporter": "python",
   "pygments_lexer": "ipython3",
   "version": "3.11.9"
  },
  "orig_nbformat": 4
 },
 "nbformat": 4,
 "nbformat_minor": 2
}
