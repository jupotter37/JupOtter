{
 "cells": [
  {
   "cell_type": "code",
   "execution_count": 62,
   "metadata": {},
   "outputs": [
    {
     "name": "stdout",
     "output_type": "stream",
     "text": [
      "[1 4 3]\n",
      "2\n",
      "[1 2 3 4 5 6 7 8]\n",
      "[4 6 8]\n",
      "(9,)\n",
      "[[1 2 5 6]\n",
      " [3 4 7 8]]\n",
      "[1 3 4]\n",
      "[74 16 56 34 64 65 12 12 57 73]\n",
      "32\n"
     ]
    }
   ],
   "source": [
    "import numpy as np\n",
    "\n",
    "a1 = np.array([1, 4, 3])\n",
    "print(a1)\n",
    "\n",
    "a2 = np.array([[1, 2, 3], [4, 5, 6]])\n",
    "print(a2.ndim)\n",
    "\n",
    "arr = np.array([1, 2, 3, 4, 5, 6, 7, 8, 9])\n",
    "print(arr[0:-1])\n",
    "print(arr[3:8:2])\n",
    "print(arr.shape)\n",
    "\n",
    "arr2 = np.array([[1,2],[3,4]])\n",
    "arr3 = np.array([[5,6],[7,8]])\n",
    "print(np.concatenate((arr2, arr3), axis=1))\n",
    "\n",
    "print(np.sort(a1))\n",
    "\n",
    "np.random.seed(35)\n",
    "\n",
    "random_numbers = np.random.randint(1, 100, 10)\n",
    "print(random_numbers)\n",
    "\n",
    "a = np.array([1, 2, 3])\n",
    "b = np.array([4,5,6])\n",
    "result = np.dot(a, b)\n",
    "print(result) \n"
   ]
  },
  {
   "cell_type": "code",
   "execution_count": 63,
   "metadata": {},
   "outputs": [
    {
     "name": "stdout",
     "output_type": "stream",
     "text": [
      "[ 1  2  3  4  5  6  7  8  9 10]\n",
      "55\n",
      "5.5\n",
      "2.8722813232690143\n"
     ]
    }
   ],
   "source": [
    "import numpy as np\n",
    "\n",
    "# Creating the array\n",
    "arr1 = np.array([1, 2,3,4,5,6,7,8,9,10])\n",
    "print(arr1)\n",
    "\n",
    "array_sum = np.sum(arr1)\n",
    "print(array_sum)\n",
    "array_mean = np.mean(arr1)\n",
    "print(array_mean)\n",
    "array_std = np.std(arr1)\n",
    "print(array_std)"
   ]
  }
 ],
 "metadata": {
  "kernelspec": {
   "display_name": "Python 3",
   "language": "python",
   "name": "python3"
  },
  "language_info": {
   "codemirror_mode": {
    "name": "ipython",
    "version": 3
   },
   "file_extension": ".py",
   "mimetype": "text/x-python",
   "name": "python",
   "nbconvert_exporter": "python",
   "pygments_lexer": "ipython3",
   "version": "3.12.6"
  }
 },
 "nbformat": 4,
 "nbformat_minor": 2
}
