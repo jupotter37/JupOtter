{
  "nbformat": 4,
  "nbformat_minor": 0,
  "metadata": {
    "colab": {
      "provenance": [],
      "authorship_tag": "ABX9TyPf5hneqJ/h7xqpGzuH3Ebp",
      "include_colab_link": true
    },
    "kernelspec": {
      "name": "python3",
      "display_name": "Python 3"
    },
    "language_info": {
      "name": "python"
    }
  },
  "cells": [
    {
      "cell_type": "markdown",
      "metadata": {
        "id": "view-in-github",
        "colab_type": "text"
      },
      "source": [
        "<a href=\"https://colab.research.google.com/github/DEEPAK-RAMGIRI/2203A51216_DAA/blob/main/LAB_003.ipynb\" target=\"_parent\"><img src=\"https://colab.research.google.com/assets/colab-badge.svg\" alt=\"Open In Colab\"/></a>"
      ]
    },
    {
      "cell_type": "markdown",
      "source": [
        "#WEEK ASSIGNMENT 01\n",
        "\n",
        "\n"
      ],
      "metadata": {
        "id": "CHgqlpGgRTJl"
      }
    },
    {
      "cell_type": "markdown",
      "source": [
        "08/08/2024"
      ],
      "metadata": {
        "id": "AXPK6gxGRYt8"
      }
    },
    {
      "cell_type": "markdown",
      "source": [
        "#DAA ASSIGNMENT NEELIMA"
      ],
      "metadata": {
        "id": "hJpOj0XERb2N"
      }
    },
    {
      "cell_type": "markdown",
      "source": [
        "* Q1: Imagine you work for a large logistics company that handles a high volume of package deliveries on a daily basis. The company's success hinges on ensuring that packages are delivered to their respective destinations efficiently and on time. To solve this problem, you create a program that can quickly process and classify packages based on their destination."
      ],
      "metadata": {
        "id": "S41X_qqORkI9"
      }
    },
    {
      "cell_type": "code",
      "source": [
        "#Bubble Sort\n",
        "#Dynamically taking the values\n",
        "#Time Complexcity O(N^2)\n",
        "def function1(a):\n",
        "  for i in range(len(a)):\n",
        "    for j in range (len(a)-1):\n",
        "      if a[j] > a[j+1]:\n",
        "        temp=a[j+1]\n",
        "        a[j+1]=a[j]\n",
        "        a[j]=temp\n",
        "  return a\n",
        "a=[]\n",
        "for i in range(4):\n",
        "  print(\"Enter the Details of\",i+1,\"th person.\")\n",
        "  name=input(\"Enter the name of the Delivary Holder: \")\n",
        "  city=input(\"Enter the name of the City name: \")\n",
        "  a.append(int(input(\"Enter the Delivay Address Distance: \")))\n",
        "  print()\n",
        "print(\"Sorted Distance are:\",function1(a))\n",
        "#Test"
      ],
      "metadata": {
        "colab": {
          "base_uri": "https://localhost:8080/"
        },
        "id": "BSzqqs-ERi1s",
        "outputId": "45038227-90c1-465e-f563-7c688a39fd8f"
      },
      "execution_count": 10,
      "outputs": [
        {
          "output_type": "stream",
          "name": "stdout",
          "text": [
            "Enter the Details of 1 th person.\n",
            "Enter the name of the Delivary Holder: Deepak\n",
            "Enter the name of the City name: NZB\n",
            "Enter the Delivay Address Distance: 170\n",
            "\n",
            "Enter the Details of 2 th person.\n",
            "Enter the name of the Delivary Holder: Uday\n",
            "Enter the name of the City name: Nalgonda\n",
            "Enter the Delivay Address Distance: 160\n",
            "\n",
            "Enter the Details of 3 th person.\n",
            "Enter the name of the Delivary Holder: Srujan\n",
            "Enter the name of the City name: HanmaKonda\n",
            "Enter the Delivay Address Distance: 20\n",
            "\n",
            "Enter the Details of 4 th person.\n",
            "Enter the name of the Delivary Holder: Jayesh\n",
            "Enter the name of the City name: HYD\n",
            "Enter the Delivay Address Distance: 150\n",
            "\n",
            "Sorted Distance are: [20, 150, 160, 170]\n"
          ]
        }
      ]
    },
    {
      "cell_type": "markdown",
      "source": [
        "* Q 2: Imagine you are working for a retail store that sells a wide variety of products. The store has a vast inventory with thousands of items, and it's becoming challenging for the employees to manage and locate products efficiently. Customers often ask for specific items, and employees need to find them quickly. The sorting program's primary goal is to organize the products in the inventory systematically, allowing for faster and easier access to items when needed. Implement an efficient sorting algorithm to arrange the products based on product IDs."
      ],
      "metadata": {
        "id": "BNsqVt9KVElJ"
      }
    },
    {
      "cell_type": "code",
      "source": [
        "#Insertion Sort\n",
        "#Time Complexcity O(n^2)\n",
        "def function1(a):\n",
        "  for i in range(len(a)):\n",
        "    key=a[i]\n",
        "    j=i-1\n",
        "    while j>=0 and key<a[j]:\n",
        "      a[j + 1] = a[j]\n",
        "      j -= 1\n",
        "    a[j + 1] = key\n",
        "  return a\n",
        "a=[]\n",
        "for i in range(12):\n",
        "  Product_name=input(\"Enter the Product name: \")\n",
        "  a.append(input(\"Enter the Product Id: \"))\n",
        "print(\"Sorted Producted Id's:\",function1(a))\n",
        "#Test Case: 87, 67, 21, 59, 99, 46, 84, 32, 43, 12, 90, 23"
      ],
      "metadata": {
        "colab": {
          "base_uri": "https://localhost:8080/"
        },
        "id": "tN0kEUlbVEUR",
        "outputId": "609bce47-813a-47ff-d469-4d5ddec88a46"
      },
      "execution_count": null,
      "outputs": [
        {
          "output_type": "stream",
          "name": "stdout",
          "text": [
            "Enter the Product name: A\n",
            "Enter the Product Id: 87\n",
            "Enter the Product name: B\n",
            "Enter the Product Id: 67\n",
            "Enter the Product name: C\n",
            "Enter the Product Id: 21\n",
            "Enter the Product name: D\n",
            "Enter the Product Id: 59\n",
            "Enter the Product name: E\n",
            "Enter the Product Id: 99\n",
            "Enter the Product name: F\n",
            "Enter the Product Id: 46\n",
            "Enter the Product name: G\n",
            "Enter the Product Id: 84\n",
            "Enter the Product name: H\n",
            "Enter the Product Id: 32\n",
            "Enter the Product name: I\n",
            "Enter the Product Id: 43\n",
            "Enter the Product name: J\n",
            "Enter the Product Id: 12\n",
            "Enter the Product name: K\n",
            "Enter the Product Id: 90\n",
            "Enter the Product name: L\n",
            "Enter the Product Id: 23\n",
            "Sorted Producted Id's: ['12', '21', '23', '32', '43', '46', '59', '67', '84', '87', '90', '99']\n"
          ]
        }
      ]
    },
    {
      "cell_type": "markdown",
      "source": [
        "* Q3: Imagine you're working for a large online marketplace company that facilitates the\n",
        "buying and selling of various products. As part of the order processing system, the\n",
        "company receives thousands of new orders every minute from customers all around\n",
        "the world. To ensure efficient and timely order fulfillment, the orders need to be\n",
        "sorted based on various criteria before they can be processed and shipped.Some customers may request advanced shipping or have urgent requirements.\n",
        "So, implement an application to arrange the Orders based on priority Number."
      ],
      "metadata": {
        "id": "sVkj14nHWoC5"
      }
    },
    {
      "cell_type": "code",
      "source": [
        "#Selection Sort\n",
        "#Time Complexcity O(N^2)\n",
        "def selection_sort(a):\n",
        "    for i in range(len(a)-1):\n",
        "        index = i\n",
        "        for j in range(i+1, len(a)):\n",
        "            if a[index]['priority'] > a[j]['priority']:\n",
        "                index = j\n",
        "        a[i], a[index] = a[index], a[i]\n",
        "    return a\n",
        "\n",
        "a = eval(input(\"Enter the list with name and priority: \"))\n",
        "\n",
        "print(\"Sorted names With the Priority:\",selection_sort(a))\n",
        "#Test Cases :[{\"name\": \"Deepak\", \"priority\": 12},{\"name\": \"Jayesh\", \"priority\": 21},{\"name\": \"Rishik\", \"priority\": 23},{\"name\": \"Srujan\", \"priority\": 32},{\"name\": \"Kartheek\", \"priority\": 43},{\"name\": \"Suman\", \"priority\": 46},{\"name\": \"Naruto\", \"priority\": 59},{\"name\": \"Hinata\", \"priority\": 67},{\"name\": \"JaK Sparrow\", \"priority\": 84},{\"name\": \"Thor\", \"priority\": 99}]"
      ],
      "metadata": {
        "colab": {
          "base_uri": "https://localhost:8080/"
        },
        "id": "-GDQdTrdKMV8",
        "outputId": "6b9e105e-efc2-4d16-e155-2a34a36bb5e9"
      },
      "execution_count": null,
      "outputs": [
        {
          "output_type": "stream",
          "name": "stdout",
          "text": [
            "Enter the list with name and priority: [{\"name\": \"Deepak\", \"priority\": 12},{\"name\": \"Jayesh\", \"priority\": 21},{\"name\": \"Rishik\", \"priority\": 23},{\"name\": \"Srujan\", \"priority\": 32},{\"name\": \"Kartheek\", \"priority\": 43},{\"name\": \"Suman\", \"priority\": 46},{\"name\": \"Naruto\", \"priority\": 59},{\"name\": \"Hinata\", \"priority\": 67},{\"name\": \"JaK Sparrow\", \"priority\": 84},{\"name\": \"Thor\", \"priority\": 99}]\n",
            "Sorted names With the Priority: [{'name': 'Deepak', 'priority': 12}, {'name': 'Jayesh', 'priority': 21}, {'name': 'Rishik', 'priority': 23}, {'name': 'Srujan', 'priority': 32}, {'name': 'Kartheek', 'priority': 43}, {'name': 'Suman', 'priority': 46}, {'name': 'Naruto', 'priority': 59}, {'name': 'Hinata', 'priority': 67}, {'name': 'JaK Sparrow', 'priority': 84}, {'name': 'Thor', 'priority': 99}]\n"
          ]
        }
      ]
    },
    {
      "cell_type": "markdown",
      "source": [
        "# DAA ASSIGNMENT SURESH"
      ],
      "metadata": {
        "id": "TVuzXlPQbvje"
      }
    },
    {
      "cell_type": "markdown",
      "source": [
        "* Q 4: In an online bookstore, there are thousands of books available for purchase. The bookstore's website allows customers to search for books based on various criteria, such as title, author, publication date, and price. if a customer searches for books by a specific title and price, the program can arrange the search results by price, from low to high or vice versa, based on the customer's preference"
      ],
      "metadata": {
        "id": "PWoqZJ_ib6fj"
      }
    },
    {
      "cell_type": "code",
      "source": [
        "#Bubble Sort\n",
        "#Dynamically taking the values\n",
        "#Time Complexcity O(N^2)\n",
        "def function1(a):\n",
        "  for i in range(len(a)):\n",
        "    for j in range (len(a)-1):\n",
        "      if a[j]['Price'] > a[j+1]['Price']:\n",
        "        temp=a[j+1]\n",
        "        a[j+1]=a[j]\n",
        "        a[j]=temp\n",
        "  return a\n",
        "a= eval(input(\"Enter the Title, Author, PublicationDate,Price\"))\n",
        "print(\"Sorted Prices With Books are:\",function1(a))\n",
        "#Test case[{'Title':'A','Author': 'AA','PoD':'21-01-200','Price':2000},{'Title':'B','Author': 'BB','PoD':'26-02-2010','Price':150},{'Title':'C','Author': 'CC','PoD':'26-12-2014','Price':300},{'Title':'D','Author': 'DD','PoD':'26-02-2013','Price':420}]"
      ],
      "metadata": {
        "id": "MPVHtv5cb2pi",
        "colab": {
          "base_uri": "https://localhost:8080/"
        },
        "outputId": "cc7a361f-a78e-4465-ddd1-cb473092acde"
      },
      "execution_count": 2,
      "outputs": [
        {
          "output_type": "stream",
          "name": "stdout",
          "text": [
            "Enter the Title, Author, PublicationDate,Price[{'Title':'A','Author': 'AA','PoD':'21-01-200','Price':2000},{'Title':'B','Author': 'BB','PoD':'26-02-2010','Price':150},{'Title':'C','Author': 'CC','PoD':'26-12-2014','Price':300},{'Title':'D','Author': 'DD','PoD':'26-02-2013','Price':420}]\n",
            "Sorted Prices With Books are: [{'Title': 'B', 'Author': 'BB', 'PoD': '26-02-2010', 'Price': 150}, {'Title': 'C', 'Author': 'CC', 'PoD': '26-12-2014', 'Price': 300}, {'Title': 'D', 'Author': 'DD', 'PoD': '26-02-2013', 'Price': 420}, {'Title': 'A', 'Author': 'AA', 'PoD': '21-01-200', 'Price': 2000}]\n"
          ]
        }
      ]
    },
    {
      "cell_type": "markdown",
      "source": [
        "* Q5: Courier and logistics companies handle a massive volume of packages daily. These packages need to be efficiently sorted and routed to their destinations to ensure timely and accurate deliveries. Each package typically has a unique barcode that contains essential information like the recipient's address, delivery method, and tracking number. So, implement an application to arrange the packages based on tracking numbers"
      ],
      "metadata": {
        "id": "UYxNiiaz1_v5"
      }
    },
    {
      "cell_type": "code",
      "execution_count": 8,
      "metadata": {
        "id": "s9L2PwcARMm2",
        "colab": {
          "base_uri": "https://localhost:8080/"
        },
        "outputId": "62d17698-6856-48d1-dd06-1a1f6482d3a4"
      },
      "outputs": [
        {
          "output_type": "stream",
          "name": "stdout",
          "text": [
            "Enter the Address, Delivery Method,Tracking Number: [{'Address':'Nzb','DeliveryMethod': 'Express','TrackingNumber': 2000},{'Address':'Hyd','DeliveryMethod': 'Standard','TrackingNumber': 1500},{'Address':'ARMOOR','DeliveryMethod': 'Express','TrackingNumber': 3000},{'Address':'Bodhan','DeliveryMethod': 'Standdard','TrackingNumber': 4200}]\n",
            "Sorted Producted Id's: [{'Address': 'Hyd', 'DeliveryMethod': 'Standard', 'TrackingNumber': 1500}, {'Address': 'Nzb', 'DeliveryMethod': 'Express', 'TrackingNumber': 2000}, {'Address': 'ARMOOR', 'DeliveryMethod': 'Express', 'TrackingNumber': 3000}, {'Address': 'Bodhan', 'DeliveryMethod': 'Standdard', 'TrackingNumber': 4200}]\n"
          ]
        }
      ],
      "source": [
        "#Insertion Sort\n",
        "#Time Complexcity O(n^2)\n",
        "def function1(a):\n",
        "  for i in range(len(a)):\n",
        "    key=a[i]\n",
        "    j=i-1\n",
        "    while j>=0 and key['TrackingNumber'] < a[j]['TrackingNumber']:\n",
        "      a[j + 1] = a[j]\n",
        "      j -= 1\n",
        "    a[j + 1] = key\n",
        "  return a\n",
        "a=eval(input(\"Enter the Address, Delivery Method,Tracking Number: \"))\n",
        "print(\"Sorted Producted Id's:\",function1(a))\n",
        "#Test case[{'Address':'Nzb','DeliveryMethod': 'Express','TrackingNumber': 2000},{'Address':'Hyd','DeliveryMethod': 'Standard','TrackingNumber': 1500},{'Address':'ARMOOR','DeliveryMethod': 'Express','TrackingNumber': 3000},{'Address':'Bodhan','DeliveryMethod': 'Standdard','TrackingNumber': 4200}]"
      ]
    },
    {
      "cell_type": "markdown",
      "source": [
        "* Q6: Imagine you are working for a large online marketplace like Amazon or eBay. One of the critical functionalities of such platforms is to display products to customers in a way that is relevant, helpful, and easy to navigate. Customers can browse through thousands or even millions of products, and Many users prefer to see products sorted by price, either in ascending or descending order. This allows them to find thecheapest or most expensive products within their budget. So, implement an application to arrange the products based on price."
      ],
      "metadata": {
        "id": "BUiCMpw-6It4"
      }
    },
    {
      "cell_type": "code",
      "source": [
        "#Selection Sort\n",
        "#Time Complexcity O(N^2)\n",
        "def selection_sort(a):\n",
        "    for i in range(len(a)-1):\n",
        "        index = i\n",
        "        for j in range(i+1, len(a)):\n",
        "            if a[index]['Price'] > a[j]['Price']:\n",
        "                index = j\n",
        "        a[i], a[index] = a[index], a[i]\n",
        "    return a\n",
        "\n",
        "a = eval(input(\"Enter the list with Product Name and Price: \"))\n",
        "\n",
        "print(\"Sorted names With the Priority:\",selection_sort(a))\n",
        "#Test Case: [{'Product Name':'Shoes','Price':500},{'Product Name':'Phone','Price':8000},{'Product Name':'Earpods','Price':7000},{'Product Name':'Belt','Price':450}]"
      ],
      "metadata": {
        "colab": {
          "base_uri": "https://localhost:8080/"
        },
        "id": "HYuJaa-Y599S",
        "outputId": "e4b62361-5023-4e45-df27-47015640ef97"
      },
      "execution_count": 15,
      "outputs": [
        {
          "output_type": "stream",
          "name": "stdout",
          "text": [
            "Enter the list with Product Name and Price: [{'Product Name':'Shoes','Price':500},{'Product Name':'Phone','Price':8000},{'Product Name':'Earpods','Price':7000},{'Product Name':'Belt','Price':450}]\n",
            "Sorted names With the Priority: [{'Product Name': 'Belt', 'Price': 450}, {'Product Name': 'Shoes', 'Price': 500}, {'Product Name': 'Earpods', 'Price': 7000}, {'Product Name': 'Phone', 'Price': 8000}]\n"
          ]
        }
      ]
    }
  ]
}