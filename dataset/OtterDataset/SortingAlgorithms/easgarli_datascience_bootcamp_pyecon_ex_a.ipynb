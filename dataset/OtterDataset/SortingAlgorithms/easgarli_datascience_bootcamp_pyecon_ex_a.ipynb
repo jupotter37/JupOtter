{
 "cells": [
  {
   "cell_type": "markdown",
   "metadata": {},
   "source": [
    "# Exercises A\n",
    "_Version: February 14, 2022, see_ [PyEcon.org](https://pyecon.org)."
   ]
  },
  {
   "cell_type": "markdown",
   "metadata": {},
   "source": [
    "### Exercise 1\n",
    "Create a function which takes a vector $v=(v_1, \\dots ,v_n)$ and returns the Vandermonde matrix $V$:\n",
    "$$\n",
    "V = \\left(\\begin{array}{ccccc}\n",
    "1 & v_1 & v_1^2 & \\dots & v_1^{n-1}\\\\\n",
    "1 & v_2 & v_2^2 & \\dots & v_2^{n-1}\\\\\n",
    "\\vdots & \\vdots & \\vdots & \\vdots & \\vdots\\\\\n",
    "1 & v_n & v_n^2 & \\dots & v_n^{n-1}\\\\\n",
    "\\end{array} \\right)\n",
    "$$"
   ]
  },
  {
   "cell_type": "code",
   "execution_count": null,
   "metadata": {},
   "outputs": [],
   "source": [
    "# Enter your codes here...\n",
    "import numpy as np"
   ]
  },
  {
   "cell_type": "markdown",
   "metadata": {},
   "source": [
    "### Exercise 2\n",
    "\n",
    "Create a function which takes a vector $v=(v_1, \\dots ,v_n)$ and returns the mean and the sum of the vector.\n",
    "\n",
    "1. Solve the task by using NumPy.\n",
    "2. Solve the task without importing modules."
   ]
  },
  {
   "cell_type": "code",
   "execution_count": null,
   "metadata": {},
   "outputs": [],
   "source": []
  },
  {
   "cell_type": "markdown",
   "metadata": {},
   "source": [
    "### Exercise 3\n",
    "\n",
    "Use NumPy to check if the following vectors are linearly independent:\n",
    "\n",
    "$$\n",
    "v_1=\n",
    "\\left( \\begin{array}{c} 0 \\\\ 1 \\\\ 2 \\\\ 1 \\end{array} \\right),\n",
    "\\ v_2=\n",
    "\\left( \\begin{array}{c} 4 \\\\ 2 \\\\ 2 \\\\ 2 \\end{array} \\right),\n",
    "\\ v_3=\n",
    " \\left( \\begin{array}{c} 1 \\\\ 0 \\\\ 3 \\\\  0\\end{array} \\right),\n",
    "\\ v_4=\n",
    " \\left( \\begin{array}{c} 1 \\\\ 0 \\\\ 0 \\\\ 0 \\end{array} \\right).\n",
    "$$"
   ]
  },
  {
   "cell_type": "code",
   "execution_count": null,
   "metadata": {},
   "outputs": [],
   "source": []
  },
  {
   "cell_type": "markdown",
   "metadata": {},
   "source": [
    "### Exercise 4\n",
    "\n",
    "Create a function which sorts the vector $v=(v_1, \\dots ,v_n)$ without using the built-in `array.sort()` function and visualize the result in a graph."
   ]
  },
  {
   "cell_type": "code",
   "execution_count": null,
   "metadata": {},
   "outputs": [],
   "source": []
  },
  {
   "cell_type": "markdown",
   "metadata": {},
   "source": [
    "### Exercise 5\n",
    "\n",
    "Determine the intersection of the straight line $g$ and the plane $E$:\n",
    "\n",
    "$$g: \\vec{x}=\\left ( \\begin{array}{c} 2 \\\\ 3 \\\\ 0 \\end{array} \\right) +t\\left ( \\begin{array}{c} 1 \\\\ -2 \\\\ 2 \\end{array} \\right), \\quad t \\in \\mathbb{R},$$\n",
    "$$E: \\vec{x}= \\left ( \\begin{array}{c} 9 \\\\ 0 \\\\ 0 \\end{array} \\right) + r\\left ( \\begin{array}{c} -9 \\\\ 4.5 \\\\ 0 \\end{array} \\right) +s\\left ( \\begin{array}{c} -9 \\\\ 0 \\\\ 4.5 \\end{array} \\right), \\quad r,s\\in \\mathbb{R}.$$\n",
    "\n",
    "_Hint: You might want to refresh your knowledge of the parametric form at, for example,_ https://en.wikipedia.org/wiki/Line-plane_intersection."
   ]
  },
  {
   "cell_type": "code",
   "execution_count": null,
   "metadata": {},
   "outputs": [],
   "source": []
  },
  {
   "cell_type": "markdown",
   "metadata": {
    "collapsed": false,
    "inputHidden": false,
    "outputHidden": false
   },
   "source": [
    "### Exercise 6: Sorting algorithms\n",
    "\n",
    "Sorting algorithms are algorithms that put elements of a list in a certain order. Efficient sorting is important for optimizing the efficiency of complex algorithms. There are different sorting algorithms which differ in time complexity.\n",
    "\n",
    "1. Implement a function which uses _Bubblesort_ to sort a randomly generated list (numbers) in numerical order.\n",
    "2. Implement a function which uses _Quicksort_ achieve the same goal.\n",
    "\n",
    "_Hint: Inform yourself about the two different sorting algorithms first, for example,_\n",
    "https://en.wikipedia.org/wiki/Bubble_sort _and_ https://en.wikipedia.org/wiki/Quicksort."
   ]
  },
  {
   "cell_type": "code",
   "execution_count": null,
   "metadata": {},
   "outputs": [],
   "source": [
    "import random\n",
    "\n",
    "numbers = []\n",
    "for i in range(100):\n",
    "    numbers.append(random.randint(-10000, 10000))"
   ]
  },
  {
   "cell_type": "markdown",
   "metadata": {
    "collapsed": false,
    "inputHidden": false,
    "outputHidden": false
   },
   "source": [
    "### Exercise 7: Numerical differentiation\n",
    "\n",
    "1. Create a function which estimates the derivative of the function $f$ at the position $x=3$. You can use the simple finite difference formula:\n",
    "\n",
    "    $$\n",
    "    f'(x)=\\lim_{h \\rightarrow 0} \\dfrac{f(x+h) - f(x)}{h}\n",
    "    $$\n",
    "\n",
    "    The derivative function in Python should take the function to be derived, the position $x$ and the distance $h$ as arguments.\n",
    "\n",
    "\n",
    "2. Create a function which estimates the gradient of a scalar function $g: \\mathbb{R}^{n}\\rightarrow \\mathbb{R}$. The arguments of the gradient function should be the function $g$, the dimension $n$, the vector $v$ where the gradient shall be estimated and the distance $h$. Check your gradient function on the given function $g$ and vector $v$.\n",
    "\n",
    "3. Create a function which returns an approximation of the Hessian matrix $h$ of the function $g$ at $v$:\n",
    "  $$\n",
    "  H_{g}(v) := \\left( \\dfrac{\\partial^{2} g}{\\partial v_{i} \\partial v_{j}} (v) \\right)_{i, j=1, \\ldots, n}\n",
    "  $$\n",
    "  You can use the following identity:\n",
    "  $$\n",
    "  \\dfrac{\\partial}{\\partial y}\\left(\\dfrac{\\partial g}{\\partial x}\\right)(v) =\\lim_{h \\rightarrow 0}\\dfrac{\\dfrac{\\partial g}{\\partial x}(x, y+h, z)-\\dfrac{\\partial g}{\\partial x}(x, y, z)}{h}\\\\\n",
    " =\\lim_{h \\rightarrow 0} \\dfrac{\\dfrac{g(x+h,y+h,z)-g(x,y+h,z)}{h}-\\dfrac{g(x+h, y, z)-g(x, y, z)}{h}}{h}\\\\\n",
    " =\\lim_{h \\rightarrow 0}\\dfrac{g(x+h, y+h, z)-g(x, y+h, z)-g(x+h, y, z)+g(x, y, z)}{h^{2}}\n",
    "  $$"
   ]
  },
  {
   "cell_type": "code",
   "execution_count": null,
   "metadata": {},
   "outputs": [],
   "source": [
    "import numpy as np\n",
    "\n",
    "\n",
    "def f(x):\n",
    "    return x**2\n",
    "\n",
    "\n",
    "def g(v):\n",
    "    return np.sin(v[0]) * v[1] + np.exp(v[2])\n",
    "\n",
    "\n",
    "v = np.array([2., 3., 1.])"
   ]
  },
  {
   "cell_type": "markdown",
   "metadata": {
    "collapsed": false,
    "inputHidden": false,
    "outputHidden": false
   },
   "source": [
    "### Exercise 8: Numerical integration\n",
    "\n",
    "Create a function to approximate an integral of the function $f$ in the interval $(a, b)$. You can divide the area into $n$ equal width rectangles and add these up by using the formula:\n",
    "$$\n",
    "\\int_{a}^{b}f(x) \\approx \\dfrac{b-a}{n}\\left(f(x_{1})+f(x_{2})+...+f(x_{n})\\right)\n",
    "$$\n",
    "Where $x_{i}$ is given by $x_{i}=\\dfrac{(b-a)}{n} \\cdot i+a$.\n",
    "Check your integral approximation on the given function $f$ in the interval (1,4)."
   ]
  },
  {
   "cell_type": "code",
   "execution_count": null,
   "metadata": {},
   "outputs": [],
   "source": [
    "def f(x):\n",
    "    return x**3 + 2 * x**2 + 1"
   ]
  }
 ],
 "metadata": {
  "kernelspec": {
   "display_name": "Python 3",
   "language": "python",
   "name": "python3"
  },
  "language_info": {
   "codemirror_mode": {
    "name": "ipython",
    "version": 3
   },
   "file_extension": ".py",
   "mimetype": "text/x-python",
   "name": "python",
   "nbconvert_exporter": "python",
   "pygments_lexer": "ipython3",
   "version": "3.6.6"
  }
 },
 "nbformat": 4,
 "nbformat_minor": 2
}
