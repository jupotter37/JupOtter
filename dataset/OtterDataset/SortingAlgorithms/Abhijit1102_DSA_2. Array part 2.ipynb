{
 "cells": [
  {
   "cell_type": "markdown",
   "id": "60113a21",
   "metadata": {},
   "source": [
    "## Binary Search in Array"
   ]
  },
  {
   "cell_type": "code",
   "execution_count": 47,
   "id": "5c40364b",
   "metadata": {},
   "outputs": [
    {
     "data": {
      "text/plain": [
       "3"
      ]
     },
     "execution_count": 47,
     "metadata": {},
     "output_type": "execute_result"
    }
   ],
   "source": [
    "def binary_search(arr, elt):\n",
    "    low = 0\n",
    "    high = len(arr) - 1\n",
    "\n",
    "    while low <= high:\n",
    "        mid = (low + high) // 2\n",
    "        guess = arr[mid]\n",
    "\n",
    "        if guess == elt:\n",
    "            return mid\n",
    "        elif guess < elt:\n",
    "            low = mid + 1\n",
    "        else:\n",
    "            high = mid - 1\n",
    "\n",
    "    return -1\n",
    "\n",
    "# Example usage:\n",
    "arr = [1, 3, 5, 7, 9, 11, 13]\n",
    "elt = 7\n",
    "\n",
    "result = binary_search(arr, elt)\n",
    "result"
   ]
  },
  {
   "cell_type": "markdown",
   "id": "5713f373",
   "metadata": {},
   "source": [
    "## Recusion in Binary Search"
   ]
  },
  {
   "cell_type": "code",
   "execution_count": 44,
   "id": "591b3da6",
   "metadata": {},
   "outputs": [
    {
     "data": {
      "text/plain": [
       "3"
      ]
     },
     "execution_count": 44,
     "metadata": {},
     "output_type": "execute_result"
    }
   ],
   "source": [
    "def binary_search(arr, target):\n",
    "    def search(low, high):\n",
    "        if low > high:\n",
    "            return -1\n",
    "\n",
    "        mid = (low + high) // 2\n",
    "        guess = arr[mid]\n",
    "\n",
    "        if guess == target:\n",
    "            return mid\n",
    "        elif guess < target:\n",
    "            return search(mid + 1, high)\n",
    "        else:\n",
    "            return search(low, mid - 1)\n",
    "\n",
    "    return search(0, len(arr) - 1)\n",
    "\n",
    "binary_search(arr, elt)\n"
   ]
  },
  {
   "cell_type": "markdown",
   "id": "3b6bcdca",
   "metadata": {},
   "source": [
    "## Recurence Relationship ( binary Search)"
   ]
  },
  {
   "cell_type": "markdown",
   "id": "1d91ef7e",
   "metadata": {},
   "source": [
    "$$T(n) = { 1 : n=1 }\n",
    "            -- T(n/2)+C : n>1$$"
   ]
  },
  {
   "cell_type": "markdown",
   "id": "d39ab9b4",
   "metadata": {},
   "source": [
    "The time complexity, denoted as T(n), of binary search is O(log n), where n represents the number of elements in the sorted array being searched.\n",
    "\n",
    "In each iteration of the binary search algorithm, the search range is divided in half. This means that with every comparison, the size of the remaining search range is halved. As a result, the number of iterations required to find the target element grows logarithmically with the size of the input.\n",
    "\n",
    "Since binary search eliminates half of the remaining search range at each step, the maximum number of iterations needed to find the target element is proportional to the logarithm (base 2) of the size of the array. Hence, the time complexity of binary search is logarithmic, or O(log n).\n",
    "\n",
    "This logarithmic time complexity makes binary search highly efficient for large arrays. For example, even for an array with 1,000,000 elements, binary search would require at most 20 comparisons to find the target element.\n"
   ]
  },
  {
   "cell_type": "markdown",
   "id": "e6dcd35f",
   "metadata": {},
   "source": [
    "## Implementation of Binary Search"
   ]
  },
  {
   "cell_type": "code",
   "execution_count": null,
   "id": "0b0e7084",
   "metadata": {},
   "outputs": [],
   "source": [
    "def binarySearch(arr,i,j,x):\n",
    "    while i <= j:\n",
    "        mid =i +(j-i)//2\n",
    "        if arr[mid] == x:\n",
    "            return mid\n",
    "        elif arr[mid] < x:\n",
    "            return binarySearch(arr, mid+1, j, x)\n",
    "        else:\n",
    "            return binarySearch(arr, mid-1,j, x)\n",
    "    else: \n",
    "        return -1\n",
    "    \n",
    "arr = [2,5,10,14,18,22,27,35,40,59]\n",
    "x = 10\n",
    "i = 0\n",
    "j = len(arr) -1\n",
    "result = binarySearch(arr,i,j,x)\n",
    "print(\"Searching index position\", result)"
   ]
  },
  {
   "cell_type": "code",
   "execution_count": null,
   "id": "217e5a49",
   "metadata": {},
   "outputs": [],
   "source": []
  },
  {
   "cell_type": "code",
   "execution_count": null,
   "id": "ffad2530",
   "metadata": {},
   "outputs": [],
   "source": []
  },
  {
   "cell_type": "markdown",
   "id": "754ff477",
   "metadata": {},
   "source": [
    "## Interview Problem in Binary Search"
   ]
  },
  {
   "cell_type": "markdown",
   "id": "a6b9b311",
   "metadata": {},
   "source": [
    "## Priblem : Find position of First infinite\n"
   ]
  },
  {
   "cell_type": "raw",
   "id": "726a2ad4",
   "metadata": {},
   "source": [
    "arr = [20, -30, 0, 5, 7, 0, 29, infinit, infinit, infinit ... infinit upto(n-1)]"
   ]
  },
  {
   "cell_type": "code",
   "execution_count": null,
   "id": "5297bd60",
   "metadata": {},
   "outputs": [],
   "source": [
    "Solution : if arr(i) = \"infi\"\n",
    "                 or =  return i\n",
    "    ## time complexity O(n)"
   ]
  },
  {
   "cell_type": "code",
   "execution_count": null,
   "id": "974c0a1a",
   "metadata": {},
   "outputs": [],
   "source": []
  },
  {
   "cell_type": "markdown",
   "id": "9743a4f7",
   "metadata": {},
   "source": [
    "## Search 2D matrix "
   ]
  },
  {
   "cell_type": "raw",
   "id": "2d8372b4",
   "metadata": {},
   "source": [
    "row1 = [1 ,3, 5, 7]\n",
    "row2 = [10, 11, 16, 20]\n",
    "row = [23, 30, 34, 60]\n",
    "\n",
    "mxn = 3x4"
   ]
  },
  {
   "cell_type": "code",
   "execution_count": 1,
   "id": "3d8c3bcb",
   "metadata": {},
   "outputs": [],
   "source": [
    "target = 3"
   ]
  },
  {
   "cell_type": "markdown",
   "id": "825e3838",
   "metadata": {},
   "source": [
    "## Brut force search everry elements O(mXn)"
   ]
  },
  {
   "cell_type": "raw",
   "id": "f761faa1",
   "metadata": {},
   "source": [
    "row major form : [1, 3, 5, 7, 10, 11, 16, 20, 23, 30, 34, 60]"
   ]
  },
  {
   "cell_type": "code",
   "execution_count": null,
   "id": "9ec47110",
   "metadata": {},
   "outputs": [],
   "source": [
    "mid = lw + up - lw//2"
   ]
  },
  {
   "cell_type": "code",
   "execution_count": 3,
   "id": "3273704c",
   "metadata": {},
   "outputs": [],
   "source": [
    "mid = 0 + (11-0)//2"
   ]
  },
  {
   "cell_type": "code",
   "execution_count": 4,
   "id": "7ba88795",
   "metadata": {},
   "outputs": [
    {
     "data": {
      "text/plain": [
       "5"
      ]
     },
     "execution_count": 4,
     "metadata": {},
     "output_type": "execute_result"
    }
   ],
   "source": [
    "mid"
   ]
  },
  {
   "cell_type": "code",
   "execution_count": 8,
   "id": "ff33d9f1",
   "metadata": {},
   "outputs": [
    {
     "data": {
      "text/plain": [
       "1"
      ]
     },
     "execution_count": 8,
     "metadata": {},
     "output_type": "execute_result"
    }
   ],
   "source": [
    "row = 5//4 # n=4\n",
    "row"
   ]
  },
  {
   "cell_type": "code",
   "execution_count": 7,
   "id": "b5d590ab",
   "metadata": {},
   "outputs": [
    {
     "data": {
      "text/plain": [
       "1"
      ]
     },
     "execution_count": 7,
     "metadata": {},
     "output_type": "execute_result"
    }
   ],
   "source": [
    "column = 5%4\n",
    "column"
   ]
  },
  {
   "cell_type": "code",
   "execution_count": 29,
   "id": "6707d118",
   "metadata": {},
   "outputs": [],
   "source": [
    "## Function defination\n",
    "def search_2d(matrix, target):\n",
    "    m = len(matrix)\n",
    "    if m ==  0:\n",
    "        return False\n",
    "    n = len(matrix[0])\n",
    "    \n",
    "    left, right = 0, m*n-1\n",
    "    while left <= right:\n",
    "        mid =  left + (right -left)//2\n",
    "        mid_element =  matrix[mid//n][mid%n]\n",
    "        if target == mid_element:\n",
    "            return True\n",
    "        elif target < mid_element:\n",
    "            right = mid -1\n",
    "        else:\n",
    "            left = mid +1\n",
    "    return False     "
   ]
  },
  {
   "cell_type": "code",
   "execution_count": 34,
   "id": "3a5344a5",
   "metadata": {},
   "outputs": [
    {
     "data": {
      "text/plain": [
       "True"
      ]
     },
     "execution_count": 34,
     "metadata": {},
     "output_type": "execute_result"
    }
   ],
   "source": [
    "matrix =[[1,3,5,7], [10,11,16,20], [23,30,34,60]]\n",
    "target = 60\n",
    "\n",
    "result = search_2d(matrix, target)\n",
    "result"
   ]
  },
  {
   "cell_type": "code",
   "execution_count": 11,
   "id": "a45b88ca",
   "metadata": {},
   "outputs": [
    {
     "data": {
      "text/plain": [
       "4"
      ]
     },
     "execution_count": 11,
     "metadata": {},
     "output_type": "execute_result"
    }
   ],
   "source": [
    "len(matrix[1])\n",
    "        "
   ]
  },
  {
   "cell_type": "code",
   "execution_count": 3,
   "id": "f4d33bed",
   "metadata": {},
   "outputs": [
    {
     "name": "stdout",
     "output_type": "stream",
     "text": [
      "3.10.9 (tags/v3.10.9:1dd9be6, Dec  6 2022, 20:01:21) [MSC v.1934 64 bit (AMD64)]\n"
     ]
    }
   ],
   "source": [
    "import sys\n",
    "\n",
    "python_version = sys.version\n",
    "print(python_version)\n"
   ]
  },
  {
   "cell_type": "markdown",
   "id": "f1d30eba",
   "metadata": {},
   "source": [
    "## Ternary Search"
   ]
  },
  {
   "cell_type": "raw",
   "id": "c0cc2825",
   "metadata": {},
   "source": [
    "mid1 = l + (r-l)//3 \n",
    "mid2 = r - (r-l)//3"
   ]
  },
  {
   "cell_type": "markdown",
   "id": "385cc914",
   "metadata": {},
   "source": [
    "## Recurence Relation In Ternary Search"
   ]
  },
  {
   "cell_type": "raw",
   "id": "d7d48611",
   "metadata": {},
   "source": [
    "T(n) = 1 :n =1\n",
    "    or T(n/3)+c n>1\n",
    "\n",
    "T(n) = T(n/3^2) + C\n"
   ]
  },
  {
   "cell_type": "markdown",
   "id": "1ee25a9a",
   "metadata": {},
   "source": [
    "## Implementation of ternary serach"
   ]
  },
  {
   "cell_type": "code",
   "execution_count": 1,
   "id": "4e094d05",
   "metadata": {},
   "outputs": [],
   "source": [
    "def ternarysearch(l, r, x, arr):\n",
    "    if l <= r:\n",
    "        mid1 = l + (r - l) // 3\n",
    "        mid2 = r - (r - l) // 3\n",
    "\n",
    "        if x == arr[mid1]:\n",
    "            return mid1\n",
    "        elif x == arr[mid2]:\n",
    "            return mid2\n",
    "        elif x < arr[mid1]:\n",
    "            return ternarysearch(l, mid1 - 1, x, arr)\n",
    "        elif x > arr[mid2]:\n",
    "            return ternarysearch(mid2 + 1, r, x, arr)\n",
    "        else:\n",
    "            return ternarysearch(mid1 + 1, mid2 - 1, x, arr)\n",
    "\n",
    "    return -1\n"
   ]
  },
  {
   "cell_type": "code",
   "execution_count": 5,
   "id": "4a50ea1a",
   "metadata": {},
   "outputs": [],
   "source": [
    "arr = [1,2,3,4,5,6,7,8,9,10]"
   ]
  },
  {
   "cell_type": "code",
   "execution_count": 10,
   "id": "c664bbe9",
   "metadata": {},
   "outputs": [],
   "source": [
    "l = 0\n",
    "r= len(arr)-1\n",
    "x= 18"
   ]
  },
  {
   "cell_type": "code",
   "execution_count": 11,
   "id": "0b93fae3",
   "metadata": {},
   "outputs": [
    {
     "data": {
      "text/plain": [
       "-1"
      ]
     },
     "execution_count": 11,
     "metadata": {},
     "output_type": "execute_result"
    }
   ],
   "source": [
    "ternarysearch(l,r,x,arr)"
   ]
  },
  {
   "cell_type": "markdown",
   "id": "a09181fb",
   "metadata": {},
   "source": [
    "## Sorting in an Array\n",
    "\n",
    "- Sorting Agorithm intio two parts\n",
    "- 1. `Comparison based` : based on Value\n",
    "      - Within the Value: Selection, Bubble sort, insertion, quick sort, mergre sort, heap sort\n",
    "- 2. `Non-Comparison Based` : count sort, Radix sort, bucket sort"
   ]
  },
  {
   "cell_type": "markdown",
   "id": "37eea9aa",
   "metadata": {},
   "source": [
    "## Stable and Unstable sirting algorithms"
   ]
  },
  {
   "cell_type": "markdown",
   "id": "6f14d546",
   "metadata": {},
   "source": [
    "### `Stable` : Relative order should be maintain after applying sorting algorithm"
   ]
  },
  {
   "cell_type": "raw",
   "id": "89ab897d",
   "metadata": {},
   "source": [
    "[4^a, 3, 6, 4^b] -> [3, 4a, 4b, 6] ## Stable sort\n",
    "[4^a, 3, 6, 4^b] -> [3, 4b, 4a, 6] ## Unstable sort"
   ]
  },
  {
   "cell_type": "markdown",
   "id": "5ba3d50f",
   "metadata": {},
   "source": [
    "## Quick Sort\n",
    "- Selection sort\n",
    "- Quick sort\n",
    "- Heap sort are unstable sort"
   ]
  },
  {
   "cell_type": "code",
   "execution_count": 12,
   "id": "1e805f6b",
   "metadata": {},
   "outputs": [],
   "source": [
    "arr = [20, 10, 12, 17, 27, 42, 39]"
   ]
  },
  {
   "cell_type": "code",
   "execution_count": null,
   "id": "27c78249",
   "metadata": {},
   "outputs": [],
   "source": []
  },
  {
   "cell_type": "code",
   "execution_count": null,
   "id": "03b08b87",
   "metadata": {},
   "outputs": [],
   "source": []
  },
  {
   "cell_type": "code",
   "execution_count": null,
   "id": "4ed39963",
   "metadata": {},
   "outputs": [],
   "source": []
  },
  {
   "cell_type": "code",
   "execution_count": null,
   "id": "dac3dbd1",
   "metadata": {},
   "outputs": [],
   "source": []
  },
  {
   "cell_type": "code",
   "execution_count": null,
   "id": "d36f3062",
   "metadata": {},
   "outputs": [],
   "source": []
  },
  {
   "cell_type": "code",
   "execution_count": null,
   "id": "6d4dca30",
   "metadata": {},
   "outputs": [],
   "source": []
  },
  {
   "cell_type": "code",
   "execution_count": null,
   "id": "29eb7fad",
   "metadata": {},
   "outputs": [],
   "source": []
  }
 ],
 "metadata": {
  "kernelspec": {
   "display_name": "Python 3 (ipykernel)",
   "language": "python",
   "name": "python3"
  },
  "language_info": {
   "codemirror_mode": {
    "name": "ipython",
    "version": 3
   },
   "file_extension": ".py",
   "mimetype": "text/x-python",
   "name": "python",
   "nbconvert_exporter": "python",
   "pygments_lexer": "ipython3",
   "version": "3.10.9"
  }
 },
 "nbformat": 4,
 "nbformat_minor": 5
}
