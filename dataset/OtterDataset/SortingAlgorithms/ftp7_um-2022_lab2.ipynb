{
 "cells": [
  {
   "cell_type": "markdown",
   "source": [
    "<img width=\"100%\" align=\"center\" src=\"https://www.kindpng.com/picc/m/709-7094657_thumb-image-universiti-malaya-logo-png-transparent-png.png\">\n",
    "<h1 align=\"center\">WIA2005 ALGORITHM DESIGN AND ANALYSIS</h1>\n",
    "<h1 align=\"center\">LAB-2</h1>\n",
    "<h3 align=\"center\" border=\"3px\">Team 1, Occ 4</h3>\n",
    "<table align=\"center\">\n",
    "  <tr>\n",
    "    <th>Name</th>\n",
    "    <th>Matric</th>\n",
    "  </tr>\n",
    "  <tr>\n",
    "    <td>Fadjar Soengkono</td>\n",
    "    <td>S2000808</td>\n",
    "  </tr>\n",
    "  <tr>\n",
    "    <td>Zahid Fajri Ramadhan </td>\n",
    "    <td>17216872</td>\n",
    "  </tr>\n",
    "  <tr>\n",
    "    <td>Muhammad Rafi Azhar Salman</td>\n",
    "    <td>S2003599</td>\n",
    "  </tr>\n",
    "  <tr>\n",
    "    <td>Huang Ruixin</td>\n",
    "    <td>S2011472</td>\n",
    "  </tr>\n",
    "  <tr>\n",
    "    <td>Samiul Hoque Sami</td>\n",
    "    <td>S2014442</td>\n",
    "  </tr>\n",
    "  <tr>\n",
    "    <td>Leiheng Qin</td>\n",
    "    <td>S2005744</td>\n",
    "  </tr>\n",
    "</table>\n"
   ],
   "metadata": {
    "collapsed": false,
    "pycharm": {
     "name": "#%% md\n"
    }
   }
  },
  {
   "cell_type": "markdown",
   "source": [
    " # Lab Viva - Sorting Algorithms and String Matching Algorithms"
   ],
   "metadata": {
    "collapsed": false,
    "pycharm": {
     "name": "#%% md\n"
    }
   }
  },
  {
   "cell_type": "markdown",
   "source": [
    "## PART 1 – Implement the sorting algorithm"
   ],
   "metadata": {
    "collapsed": false,
    "pycharm": {
     "name": "#%% md\n"
    }
   }
  },
  {
   "cell_type": "markdown",
   "source": [
    "### a) Counting Sort"
   ],
   "metadata": {
    "collapsed": false,
    "pycharm": {
     "name": "#%% md\n"
    }
   }
  },
  {
   "cell_type": "markdown",
   "source": [
    "#### Pseudocode:"
   ],
   "metadata": {
    "collapsed": false,
    "pycharm": {
     "name": "#%% md\n"
    }
   }
  },
  {
   "cell_type": "markdown",
   "source": [
    "```\n",
    "countingSort(array, size)\n",
    "  max <- find largest element in array\n",
    "  initialize count array with all zeros\n",
    "  for j <- 0 to size\n",
    "    find the total count of each unique element and\n",
    "    store the count at jth index in count array\n",
    "  for i <- 1 to max\n",
    "    find the cumulative sum and store it in count array itself\n",
    "  for j <- size down to 1\n",
    "    restore the elements to array\n",
    "    decrease count of each element restored by 1\n",
    "```"
   ],
   "metadata": {
    "collapsed": false,
    "pycharm": {
     "name": "#%% md\n"
    }
   }
  },
  {
   "cell_type": "markdown",
   "source": [
    "#### Source Code:"
   ],
   "metadata": {
    "collapsed": false,
    "pycharm": {
     "name": "#%% md\n"
    }
   }
  },
  {
   "cell_type": "code",
   "execution_count": 19,
   "outputs": [
    {
     "name": "stdout",
     "output_type": "stream",
     "text": [
      "Sorted Array is:  [16, 23, 30, 44, 51, 62, 84, 95]\n"
     ]
    }
   ],
   "source": [
    "def countingSort(Array):\n",
    "    maximum = int(max(Array))  # store maximum element of array in maximum\n",
    "    minimum = int(min(Array))  # store minimum element of array in minimum\n",
    "    element_range = maximum - minimum + 1\n",
    "    length = len(Array)  # store length of array in length variable\n",
    "    CountedArray = [0 for X in range(element_range)]  # set Counted_Array from 0 to element_range\n",
    "    OutputArray = [0 for X in range(length)]  # set Output_Array from 0 to length\n",
    "    for X in range(0, length):\n",
    "        CountedArray[Array[X]-minimum] += 1  # increase Counted_Array[with particular indexing] by 1\n",
    "    for X in range(1, len(CountedArray)):\n",
    "        CountedArray[X] += CountedArray[X-1]  # store the cumulative sum into the counted_array\n",
    "    for X in range(length-1, -1, -1):\n",
    "        OutputArray[CountedArray[Array[X] - minimum] - 1] = Array[X]\n",
    "        CountedArray[Array[X] - minimum] -= 1  # decrease Counted_Array[with particular indexing] by 1\n",
    "    for X in range(0, length):\n",
    "        Array[X] = OutputArray[X]  # store all the elements of Output_Array in Array\n",
    "    return Array  # return the Sorted Array\n",
    "\n",
    "# main program execute:\n",
    "Array = [16, 30, 95, 51, 84, 23, 62, 44]      \n",
    "print(\"Sorted Array is: \", countingSort(Array))  # call the Counting_Sort function and print the return value of function (Sorted Array)\n"
   ],
   "metadata": {
    "collapsed": false,
    "pycharm": {
     "name": "#%%\n"
    }
   }
  },
  {
   "cell_type": "markdown",
   "source": [
    "#### Source Code (simpler version):"
   ],
   "metadata": {
    "collapsed": false,
    "pycharm": {
     "name": "#%% md\n"
    }
   }
  },
  {
   "cell_type": "code",
   "execution_count": 20,
   "outputs": [
    {
     "name": "stdout",
     "output_type": "stream",
     "text": [
      "[-2, 2, 2, 4, 5, 7]\n"
     ]
    }
   ],
   "source": [
    "def count_sort(arr):\n",
    "    min_element = int(min(arr))\n",
    "    max_element = int(max(arr))\n",
    "    range_of_element = max_element - min_element + 1\n",
    "    count_arr = [0 for _ in range(range_of_element)]\n",
    "    for value in arr:\n",
    "        count_arr[value - min_element] += 1\n",
    "\n",
    "    arrayIndex = 0\n",
    "    for i in range(0, range_of_element, 1):\n",
    "        while (count_arr[i] > 0):\n",
    "            arr[arrayIndex] = i + min_element\n",
    "            count_arr[i] -= 1\n",
    "            arrayIndex += 1\n",
    "    print(arr)\n",
    "\n",
    "\n",
    "array = [5, 2, 7, 4, -2, 2]\n",
    "count_sort(array)"
   ],
   "metadata": {
    "collapsed": false,
    "pycharm": {
     "name": "#%%\n"
    }
   }
  },
  {
   "cell_type": "markdown",
   "source": [],
   "metadata": {
    "collapsed": false,
    "pycharm": {
     "name": "#%% md\n"
    }
   }
  },
  {
   "cell_type": "markdown",
   "source": [
    "#### Comprehension:"
   ],
   "metadata": {
    "collapsed": false,
    "pycharm": {
     "name": "#%% md\n"
    }
   }
  },
  {
   "cell_type": "markdown",
   "source": [
    "Counting Sort does not sort the input by comparing the input items, hence it is clearly not a comparison sort algorithm.\n",
    "\n",
    "A counting sort is a sorting method that uses keys that fall inside a certain range. It operates by determining the number of items with unique key values (kind of hashing). The location of each object in the output sequence is then calculated using arithmetic."
   ],
   "metadata": {
    "collapsed": false,
    "pycharm": {
     "name": "#%% md\n"
    }
   }
  },
  {
   "cell_type": "markdown",
   "source": [
    "#### Time Complexity:"
   ],
   "metadata": {
    "collapsed": false,
    "pycharm": {
     "name": "#%% md\n"
    }
   }
  },
  {
   "cell_type": "markdown",
   "source": [
    "It takes O(n+k) time to compute the array: It first iterates an input array of size n in O(n), then iterates the array in O(k) – making the total time O(n+k).\n",
    "It sorts the input by iterating the input array and performs a few rudimentary operations in each iteration after computing the array. As a result, the actual sort procedure takes O(n). Counting sort takes O(n+k) time to complete: O(n + k) + O(n) = O(2n + k) = O(n + k)"
   ],
   "metadata": {
    "collapsed": false,
    "pycharm": {
     "name": "#%% md\n"
    }
   }
  },
  {
   "cell_type": "markdown",
   "source": [
    "### b) Radix Sort"
   ],
   "metadata": {
    "collapsed": false,
    "pycharm": {
     "name": "#%% md\n"
    }
   }
  },
  {
   "cell_type": "markdown",
   "source": [
    "#### Pseudocode:"
   ],
   "metadata": {
    "collapsed": false,
    "pycharm": {
     "name": "#%% md\n"
    }
   }
  },
  {
   "cell_type": "markdown",
   "source": [
    "```\n",
    "radixSort(array)\n",
    "  d <- maximum number of digits in the largest element\n",
    "  create d buckets of size 0-9\n",
    "  for i <- 0 to d\n",
    "    sort the elements according to ith place digits using countingSort\n",
    "\n",
    "countingSort(array, d)\n",
    "  max <- find largest element among dth place elements\n",
    "  initialize count array with all zeros\n",
    "  for j <- 0 to size\n",
    "    find the total count of each unique digit in dth place of elements and\n",
    "    store the count at jth index in count array\n",
    "  for i <- 1 to max\n",
    "    find the cumulative sum and store it in count array itself\n",
    "  for j <- size down to 1\n",
    "    restore the elements to array\n",
    "    decrease count of each element restored by 1\n",
    "```"
   ],
   "metadata": {
    "collapsed": false,
    "pycharm": {
     "name": "#%% md\n"
    }
   }
  },
  {
   "cell_type": "markdown",
   "source": [
    "#### Source Code:"
   ],
   "metadata": {
    "collapsed": false,
    "pycharm": {
     "name": "#%% md\n"
    }
   }
  },
  {
   "cell_type": "code",
   "execution_count": 21,
   "outputs": [
    {
     "name": "stdout",
     "output_type": "stream",
     "text": [
      "[16, 30, 95, 51, 84, 23, 62, 44]\n",
      "\n",
      "     First sorting \n",
      "[0, 0, 0, 0, 0, 44, 0, 0]\n",
      "[0, 0, 62, 0, 0, 44, 0, 0]\n",
      "[0, 0, 62, 23, 0, 44, 0, 0]\n",
      "[0, 0, 62, 23, 84, 44, 0, 0]\n",
      "[0, 51, 62, 23, 84, 44, 0, 0]\n",
      "[0, 51, 62, 23, 84, 44, 95, 0]\n",
      "[30, 51, 62, 23, 84, 44, 95, 0]\n",
      "\n",
      "   new digit places sorting\n",
      "[30, 51, 62, 23, 84, 44, 95, 16]\n",
      "[16, 0, 0, 0, 0, 0, 0, 0]\n",
      "[16, 0, 0, 0, 0, 0, 0, 95]\n",
      "[16, 0, 0, 44, 0, 0, 0, 95]\n",
      "[16, 0, 0, 44, 0, 0, 84, 95]\n",
      "[16, 23, 0, 44, 0, 0, 84, 95]\n",
      "[16, 23, 0, 44, 0, 62, 84, 95]\n",
      "[16, 23, 0, 44, 51, 62, 84, 95]\n",
      "\n",
      "   new digit places sorting\n",
      "[16, 23, 30, 44, 51, 62, 84, 95]\n",
      "Final result\n",
      "[16, 23, 30, 44, 51, 62, 84, 95]\n"
     ]
    }
   ],
   "source": [
    "def maximumplaces(array):\n",
    "    max_num = max(array)\n",
    "#method to find maximum digit place for the maximum number and repeat the sorting\n",
    "                                #iteration base on the digit place\n",
    "\n",
    "\n",
    "    place = 1\n",
    "    while max_num // place > 0:\n",
    "        radixsort(array, place)                         #O(d)\n",
    "        place *= 10                              #O(d) = value of d ,k is the maximum possible value, then d would be O(logb(k))\n",
    "#repeated for each iteration so for each iteration ( O(n) + O(k) +  0(n) +  0(n) )\n",
    "\n",
    "def radixsort(array, place):\n",
    "    sizenum = len(array)\n",
    "    output = [0] * sizenum\n",
    "    count = [0] * 10            #range of num in 0-9\n",
    "    for i in range(0, sizenum):\n",
    "        index = array[i] // place      #putting element into the places. We know that for this the\n",
    "        count[index % 10] += 1              #end of this loop is n+1,therefore it TC is O(n)\n",
    "\n",
    "\n",
    "    for i in range(1, 10):             #calculate the i + i-1\n",
    "        count[i] += count[i - 1]            #O(k)\n",
    "\n",
    "\n",
    "    i = sizenum - 1\n",
    "    while i >= 0:                                   #0(n )\n",
    "\n",
    "        if i == 0:\n",
    "            print(\"\")\n",
    "            print(\"   new digit places sorting\")\n",
    "\n",
    "\n",
    "        index = array[i] // place\n",
    "        output[count[index % 10] - 1] = array[i]            #sorting\n",
    "        count[index % 10] -= 1\n",
    "        i -= 1\n",
    "        print(output)   #printing sorting for each number in an iteration\n",
    "\n",
    "\n",
    "    for i in range(0, sizenum):\n",
    "        array[i] = output[i]                #0(n)\n",
    "\n",
    "#end of loop\n",
    "#therefore the time complexity is O(d)x( O(n) + O(k) +  0(n) +  0(n) )   = O(d(n+k)))\n",
    "\n",
    "\n",
    "\n",
    "\n",
    "\n",
    "data = [16, 30, 95, 51, 84, 23, 62, 44]\n",
    "\n",
    "print(data)\n",
    "print(\"\")\n",
    "print(\"     First sorting \")\n",
    "maximumplaces(data)\n",
    "\n",
    "print(\"Final result\")\n",
    "print(data)"
   ],
   "metadata": {
    "collapsed": false,
    "pycharm": {
     "name": "#%%\n"
    }
   }
  },
  {
   "cell_type": "markdown",
   "source": [
    "#### Comprehension:"
   ],
   "metadata": {
    "collapsed": false,
    "pycharm": {
     "name": "#%% md\n"
    }
   }
  },
  {
   "cell_type": "markdown",
   "source": [
    "Radix sort is a number sorting algorithm that sorts integers by their digit locations. It works by using the digits' place value. It doesn't compare the integers, unlike most other sorting algorithms like Merge Sort, Insertion Sort, and Bubble Sort.\n",
    "\n",
    "To sort the digits, Radix sort employs a subroutine that uses a reliable sorting technique. As a subroutine, we've utilized a counting sort version that sorts the digits in each location using the radix. Counting sort is a reliable sorting algorithm that performs well in the real world.\n",
    "\n",
    "The Least Significant Digit (LSD) is sorted first, followed by the Most Significant Digit(MSD). Radix sort may also be used to process digits from MSD."
   ],
   "metadata": {
    "collapsed": false,
    "pycharm": {
     "name": "#%% md\n"
    }
   }
  },
  {
   "cell_type": "markdown",
   "source": [
    "#### Time Complexity:"
   ],
   "metadata": {
    "collapsed": false,
    "pycharm": {
     "name": "#%% md\n"
    }
   }
  },
  {
   "cell_type": "markdown",
   "source": [
    "Radix Sort's performance is determined by the stable sorting algorithm used to sort the digits.\n",
    "\n",
    "The Radix Sort was used to sort an array of n integers in base b. The basis in our situation is ten. The Counting Sort has been used c times, where c is the number of digits. Radix Sort's temporal complexity thus becomes O(c * (n + b)).\n",
    "\n",
    "Because we utilized a variant of Counting Sort as a subroutine, the space complexity is O(n + b)."
   ],
   "metadata": {
    "collapsed": false,
    "pycharm": {
     "name": "#%% md\n"
    }
   }
  },
  {
   "cell_type": "markdown",
   "source": [
    "### d) Shell Sort"
   ],
   "metadata": {
    "collapsed": false,
    "pycharm": {
     "name": "#%% md\n"
    }
   }
  },
  {
   "cell_type": "markdown",
   "source": [
    "#### Pseudocode:"
   ],
   "metadata": {
    "collapsed": false,
    "pycharm": {
     "name": "#%% md\n"
    }
   }
  },
  {
   "cell_type": "markdown",
   "source": [
    "```\n",
    "shellSort(array, size)\n",
    "  for interval i <- size/2n down to 1\n",
    "    for each interval \"i\" in array\n",
    "        sort all the elements at interval \"i\"\n",
    "end shellSort\n",
    "```"
   ],
   "metadata": {
    "collapsed": false,
    "pycharm": {
     "name": "#%% md\n"
    }
   }
  },
  {
   "cell_type": "markdown",
   "source": [
    "#### Source Code:"
   ],
   "metadata": {
    "collapsed": false,
    "pycharm": {
     "name": "#%% md\n"
    }
   }
  },
  {
   "cell_type": "code",
   "execution_count": 22,
   "outputs": [
    {
     "name": "stdout",
     "output_type": "stream",
     "text": [
      "Sorted Array in Ascending Order:\n",
      "[16, 23, 30, 44, 51, 62, 84, 95]\n"
     ]
    }
   ],
   "source": [
    "def shellSort(array, n):\n",
    "\n",
    "    # Rearrange elements at each n/2, n/4, n/8, ... intervals\n",
    "    interval = n // 2\n",
    "    while interval > 0:\n",
    "        for i in range(interval, n):\n",
    "            temp = array[i]\n",
    "            j = i\n",
    "            while j >= interval and array[j - interval] > temp:\n",
    "                array[j] = array[j - interval]\n",
    "                j -= interval\n",
    "\n",
    "            array[j] = temp\n",
    "        interval //= 2\n",
    "\n",
    "\n",
    "data = [16, 30, 95, 51, 84, 23, 62, 44]\n",
    "size = len(data)\n",
    "shellSort(data, size)\n",
    "print('Sorted Array in Ascending Order:')\n",
    "print(data)"
   ],
   "metadata": {
    "collapsed": false,
    "pycharm": {
     "name": "#%%\n"
    }
   }
  },
  {
   "cell_type": "markdown",
   "source": [
    "#### Comprehension:"
   ],
   "metadata": {
    "collapsed": false,
    "pycharm": {
     "name": "#%% md\n"
    }
   }
  },
  {
   "cell_type": "markdown",
   "source": [
    "Shell sort is an extremely efficient sorting algorithm that is based on the Insertion sorting method. In general, the procedure divides a large set into smaller subsets, which are subsequently sorted using the Insertion sort algorithm.\n",
    "\n",
    "However, it is not clear how it creates the subgroups. As one might imagine, it does not chose nearby items to build a subset. Shell sort, on the other hand, creates subsets using the interval or gap method. If we have the gap I, for example, it signifies that one subset will contain the components that are separated by I positions.\n",
    "\n",
    "To begin with, the algorithm sorts the elements that are far apart. Then, when the distance narrows, closer items are compared. Some items that aren't in the right place can be repositioned faster this way than if we built subsets out of surrounding elements."
   ],
   "metadata": {
    "collapsed": false,
    "pycharm": {
     "name": "#%% md\n"
    }
   }
  },
  {
   "cell_type": "markdown",
   "source": [
    "#### Time Complexity:"
   ],
   "metadata": {
    "collapsed": false,
    "pycharm": {
     "name": "#%% md\n"
    }
   }
  },
  {
   "cell_type": "markdown",
   "source": [
    "With medium-sized lists, the Shell sort algorithm is generally quite efficient. The time complexity fluctuates between O(N) and $O(N^2)$, but the difficulty is difficult to quantify since it depends so much on the gap sequence.\n",
    "\n",
    "With O(1) auxiliary space, the worst-case space complexity is O(N)."
   ],
   "metadata": {
    "collapsed": false,
    "pycharm": {
     "name": "#%% md\n"
    }
   }
  },
  {
   "cell_type": "markdown",
   "source": [
    "## PART 2 – Implement the String Matching Algorithm"
   ],
   "metadata": {
    "collapsed": false,
    "pycharm": {
     "name": "#%% md\n"
    }
   }
  },
  {
   "cell_type": "markdown",
   "source": [
    "### a) Rabin-karp Algorithm"
   ],
   "metadata": {
    "collapsed": false,
    "pycharm": {
     "name": "#%% md\n"
    }
   }
  },
  {
   "cell_type": "markdown",
   "source": [
    "#### Pseudocode:"
   ],
   "metadata": {
    "collapsed": false,
    "pycharm": {
     "name": "#%% md\n"
    }
   }
  },
  {
   "cell_type": "markdown",
   "source": [
    "```\n",
    "n = length of Text\n",
    "m = length of Pattern\n",
    "h1 = Pattern.hash\n",
    "for s=0 to (n-m+1):\n",
    "        h2 = Text[s:s + m].hash\n",
    "        if h1 != h2:\n",
    "            continue\n",
    "        else:\n",
    "            checkindex = 0\n",
    "            for i =0 to m:\n",
    "                if Text[s + i] != Pattern[i]:\n",
    "                    break\n",
    "                else:\n",
    "                    checkindex + 1\n",
    "            if checkindex = m:\n",
    "                print(s)\n",
    "```"
   ],
   "metadata": {
    "collapsed": false,
    "pycharm": {
     "name": "#%% md\n"
    }
   }
  },
  {
   "cell_type": "markdown",
   "source": [
    "#### Source Code:"
   ],
   "metadata": {
    "collapsed": false,
    "pycharm": {
     "name": "#%% md\n"
    }
   }
  },
  {
   "cell_type": "code",
   "execution_count": 23,
   "outputs": [
    {
     "name": "stdout",
     "output_type": "stream",
     "text": [
      "pattern is in index:  7\n"
     ]
    }
   ],
   "source": [
    "def rabin_karp(Text, Pattern):\n",
    "    n = len(Text)\n",
    "    m = len(Pattern)\n",
    "    r = 17  # set a number for carry\n",
    "    def my_hash(text):\n",
    "        hashnum = 0\n",
    "        for i in range(len(text)):\n",
    "            hashnum = hashnum * r + ord(text[i])\n",
    "        # h = pow(r, len(text) - 1)  # the number for minus later\n",
    "        return hashnum\n",
    "    #get the hash of pattern and text\n",
    "    patternhash = my_hash(Pattern)\n",
    "    texthash = my_hash(Text[0:m])\n",
    "    #search\n",
    "    h = pow(r, m - 1)  # the number for minus later\n",
    "    for index in range(0, n-m+1):#loop for search, where s is equal to the start point\n",
    "        if patternhash != texthash:\n",
    "            if (index+m)<=n:\n",
    "                texthash=(texthash-ord(Text[index])*h)*r+ord(Text[index+m])#minus the first char's hash number, add new char's hash number\n",
    "            continue\n",
    "        else:#the case that patternhash is equal to texthash\n",
    "            #check the\n",
    "            k = 0 #k is used for checking if pattern equal to text\n",
    "            for i in range(0, m):\n",
    "                if Text[index + i] != Pattern[i]:\n",
    "                    break\n",
    "                else:\n",
    "                    k += 1\n",
    "            if k == m:\n",
    "                print(\"pattern is in index: \", index)\n",
    "rabin_karp(\"algo-t4g1\",\"g1\")"
   ],
   "metadata": {
    "collapsed": false,
    "pycharm": {
     "name": "#%%\n"
    }
   }
  },
  {
   "cell_type": "markdown",
   "source": [
    "#### Source Code (simpler version):"
   ],
   "metadata": {
    "collapsed": false,
    "pycharm": {
     "name": "#%% md\n"
    }
   }
  },
  {
   "cell_type": "code",
   "execution_count": 29,
   "outputs": [
    {
     "name": "stdout",
     "output_type": "stream",
     "text": [
      "7\n"
     ]
    }
   ],
   "source": [
    "def rabinkarp(Text, Pattern):\n",
    "    n = len(Text)\n",
    "    m = len(Pattern)\n",
    "    h1 = hash(Pattern)\n",
    "    for s in range(0, n-m+1):#loop for search, where s is equal to the start point\n",
    "        h2 = hash(Text[s:s + m])\n",
    "        if h1 != h2:\n",
    "            continue\n",
    "        else:#the case of equal hash\n",
    "            k = 0 #k is used for checking if pattern equal to text\n",
    "            for i in range(0, m):\n",
    "                if Text[s + i] != Pattern[i]:\n",
    "                    break\n",
    "                else:\n",
    "                    k += 1\n",
    "            if k == m:\n",
    "                print(s)\n",
    "rabinkarp(\"algo-t4g1\",\"g1\")\n",
    "              # g1 and 1g they will have same"
   ],
   "metadata": {
    "collapsed": false,
    "pycharm": {
     "name": "#%%\n"
    }
   }
  },
  {
   "cell_type": "markdown",
   "source": [
    "#### Comprehension:"
   ],
   "metadata": {
    "collapsed": false,
    "pycharm": {
     "name": "#%% md\n"
    }
   }
  },
  {
   "cell_type": "markdown",
   "source": [
    "The Rabin Karp algorithm is based on the notion of using hashing to discover a pattern in a text. We must generate a hash of the pattern at the start of the method, which will be utilized later in the algorithm. This is referred to as fingerprint computation."
   ],
   "metadata": {
    "collapsed": false,
    "pycharm": {
     "name": "#%% md\n"
    }
   }
  },
  {
   "cell_type": "markdown",
   "source": [
    "#### Time Complexity:"
   ],
   "metadata": {
    "collapsed": false,
    "pycharm": {
     "name": "#%% md\n"
    }
   }
  },
  {
   "cell_type": "markdown",
   "source": [
    "The crucial point to remember about the pre-processing stage is that it has a time complexity of O(m), while iteration over the text takes O(n), giving the whole approach a time complexity of O(m+n).\n",
    "\n",
    "In the worst-case situation, this algorithm's temporal complexity is O(m(n-m+1)). However, this approach has an average time complexity of O(n+m)."
   ],
   "metadata": {
    "collapsed": false,
    "pycharm": {
     "name": "#%% md\n"
    }
   }
  },
  {
   "cell_type": "markdown",
   "source": [
    "### b) KMP Algorithm"
   ],
   "metadata": {
    "collapsed": false,
    "pycharm": {
     "name": "#%% md\n"
    }
   }
  },
  {
   "cell_type": "markdown",
   "source": [
    "#### Pseudocode:"
   ],
   "metadata": {
    "collapsed": false,
    "pycharm": {
     "name": "#%% md\n"
    }
   }
  },
  {
   "cell_type": "markdown",
   "source": [
    "```\n",
    " function KMPSearch() with parameter pattern and text\n",
    " Set m = len(pattern)\n",
    " Set n = len(text)\n",
    " Set i = 0\n",
    " Set j = 0\n",
    " Set lps = [0]\n",
    " Call function computeArray()\n",
    " while i < n:\n",
    " if pat[j] equal to txt[i]:\n",
    "increment i by 1\n",
    "increment j by 1\n",
    " if j equal to m:\n",
    "set j = lps[j - 1]\n",
    " elif i < n and pat[j] not equal to txt[i]:\n",
    "if j != 0:\n",
    "set j = lps[j - 1]\n",
    "else:\n",
    "increment i by 1\n",
    "\n",
    "Define function computeArray() with parameter pattern, m, and lps\n",
    " set i = 1\n",
    " set j = 0\n",
    " set lps[0] = 0\n",
    " while (i less than m){\n",
    "if (pattern[i] equal to pattern[j]):\n",
    " set lps[i] = j\n",
    "increment i by 1\n",
    " increment j by 1\n",
    "else:\n",
    " if j is not equal to 0:\n",
    "set j = lps[j-1]\n",
    " else:\n",
    "set lps[i] =0\n",
    " increment i by 1\n",
    "}\n",
    "```"
   ],
   "metadata": {
    "collapsed": false,
    "pycharm": {
     "name": "#%% md\n"
    }
   }
  },
  {
   "cell_type": "markdown",
   "source": [
    "#### Source Code:"
   ],
   "metadata": {
    "collapsed": false,
    "pycharm": {
     "name": "#%% md\n"
    }
   }
  },
  {
   "cell_type": "code",
   "execution_count": 25,
   "outputs": [
    {
     "name": "stdout",
     "output_type": "stream",
     "text": [
      "[0, 0, 0, 0]\n",
      "Pattern found in index  0\n",
      "Pattern found in index  10\n"
     ]
    }
   ],
   "source": [
    "def kmp_matcher(string, pattern):\n",
    "    n = len(string)\n",
    "    m = len(pattern)\n",
    "    lps = compute_prefix(pattern)\n",
    "    print(lps)\n",
    "    j = 0                                                     # number of characters matched\n",
    "    for i in range(n):                                      # scan the text from left to right\n",
    "        while j > 0 and string[i]!= pattern[j]:\n",
    "            j = lps[j-1]                                      # next character does not match\n",
    "        if string[i] == pattern[j]:\n",
    "            j += 1                                            # next character matches\n",
    "        if j == m:                                            # is all of pattern matched?\n",
    "            print(\"Pattern found in index \", (i-(j-1)))\n",
    "            j=lps[j-1]                                      # look for the next match\n",
    "\n",
    "\n",
    "def compute_prefix(pattern):\n",
    "    m = len(pattern)\n",
    "    lps = [0]*m\n",
    "    k = 0                                                     # number of character and suffix\n",
    "    for i in range(1, m):\n",
    "        while k > 0 and pattern[k] != pattern[i]:\n",
    "            k = lps[k-1]                                      # find previous suffix\n",
    "        if pattern[k] == pattern[i]:\n",
    "            k += 1                                            # next character and lps value\n",
    "        lps[i] = k                                            # store k in lps[]\n",
    "    return lps\n",
    "\n",
    "string = \"algorisfunalgoisgreat\"\n",
    "pattern = \"algo\"\n",
    "kmp_matcher(string, pattern)\n"
   ],
   "metadata": {
    "collapsed": false,
    "pycharm": {
     "name": "#%%\n"
    }
   }
  },
  {
   "cell_type": "markdown",
   "source": [],
   "metadata": {
    "collapsed": false,
    "pycharm": {
     "name": "#%% md\n"
    }
   }
  },
  {
   "cell_type": "markdown",
   "source": [
    "The idea of the Knuth-Morris-Pratt algorithm is the calculation of shift table which provides us with the information where we should search for our pattern candidates.\n",
    "\n",
    "The KMP matching method takes use of the pattern's degenerating feature (patterns with the same sub-patterns appearing more than once in the pattern) to reduce the worst-case complexity to O. (n). The essential premise of KMP's method is that anytime we identify a mismatch (after a few matches), we already know some of the characters in the following window's content. We use this knowledge to prevent matching characters that we know will match in any case.\n",
    "\n",
    "We used <https://liveexample.pearsoncmg.com/dsanimation/StringMatchKMPFail.html> to visualise the algorithm (failure function).\n",
    "\n",
    "KMP is efficient when we know that the pattern may have have an arguably a lot  of suffix that is also a prefix, for example the the string \"t4g1**********t4g1rrrrrrrrt4g1*****t4g1\". "
   ],
   "metadata": {
    "collapsed": false,
    "pycharm": {
     "name": "#%% md\n"
    }
   }
  },
  {
   "cell_type": "code",
   "execution_count": 26,
   "metadata": {
    "id": "dCpURoZH1Yuh",
    "colab": {
     "base_uri": "https://localhost:8080/"
    },
    "outputId": "5b1a76d6-daa2-442c-c770-1fe1f61c1132",
    "pycharm": {
     "name": "#%%\n"
    }
   },
   "outputs": [
    {
     "name": "stdout",
     "output_type": "stream",
     "text": [
      "[0, 0, 0, 0]\n",
      "Pattern found in index  0\n",
      "Pattern found in index  10\n"
     ]
    }
   ],
   "source": [
    "def kmp_matcher(string, pattern):\n",
    "    n = len(string)\n",
    "    m = len(pattern)\n",
    "    lps = compute_prefix(pattern)\n",
    "    print(lps)\n",
    "    j = 0                                                     # number of characters matched\n",
    "    for i in range(n):                                      # scan the text from left to right\n",
    "        while j > 0 and string[i]!= pattern[j]:\n",
    "            j = lps[j-1]                                      # next character does not match\n",
    "        if string[i] == pattern[j]:\n",
    "            j += 1                                            # next character matches\n",
    "        if j == m:                                            # is all of pattern matched?\n",
    "            print(\"Pattern found in index \", (i-(j-1)))\n",
    "            j=lps[j-1]                                      # look for the next match\n",
    "\n",
    "\n",
    "def compute_prefix(pattern):\n",
    "    m = len(pattern)\n",
    "    lps = [0]*m\n",
    "    k = 0                                                     # number of character and suffix\n",
    "    for i in range(1, m):\n",
    "        while k > 0 and pattern[k] != pattern[i]:\n",
    "            k = lps[k-1]                                      # find previous suffix\n",
    "        if pattern[k] == pattern[i]:\n",
    "            k += 1                                            # next character and lps value\n",
    "        lps[i] = k                                            # store k in lps[]\n",
    "    return lps\n",
    "\n",
    "string = \"algorisfunalgoisgreat\"\n",
    "pattern = \"algo\"\n",
    "kmp_matcher(string, pattern)\n"
   ]
  },
  {
   "cell_type": "markdown",
   "metadata": {
    "collapsed": false,
    "id": "UW8DZc2b1Yuh",
    "pycharm": {
     "name": "#%% md\n"
    }
   },
   "source": [
    "#### Comprehension:"
   ]
  },
  {
   "cell_type": "markdown",
   "metadata": {
    "collapsed": false,
    "id": "DJU8oZ_E1Yui",
    "pycharm": {
     "name": "#%% md\n"
    }
   },
   "source": [
    "The idea of the Knuth-Morris-Pratt algorithm is the calculation of shift table which provides us with the information where we should search for our pattern candidates.\n",
    "\n",
    "The KMP matching method takes use of the pattern's degenerating feature (patterns with the same sub-patterns appearing more than once in the pattern) to reduce the worst-case complexity to O. (n). The essential premise of KMP's method is that anytime we identify a mismatch (after a few matches), we already know some of the characters in the following window's content. We use this knowledge to prevent matching characters that we know will match in any case.\n",
    "\n",
    "We used <https://liveexample.pearsoncmg.com/dsanimation/StringMatchKMPFail.html> to visualise the algorithm (failure function).\n",
    "\n",
    "KMP is efficient when we know that the pattern may have have an arguably a lot  of suffix that is also a prefix, for example the the string \"t4g1**********t4g1rrrrrrrrt4g1*****t4g1\". "
   ]
  },
  {
   "cell_type": "markdown",
   "metadata": {
    "collapsed": false,
    "id": "Mv5mIgXa1Yuj",
    "pycharm": {
     "name": "#%% md\n"
    }
   },
   "source": [
    "#### Time Complexity:"
   ]
  },
  {
   "cell_type": "markdown",
   "metadata": {
    "collapsed": false,
    "id": "5QKO-bLv1Yuj",
    "pycharm": {
     "name": "#%% md\n"
    }
   },
   "source": [
    "In terms of input size, KMP is linear O(N). The failure function is computed linearly in the size of the pattern (the \"needle\"), and the search is linear in the size of the text (the \"haystack\").\n",
    "\n",
    "The proof's fundamental point is that the algorithm maintains a state in each phase (which is essentially an index into the needle). The number of times the state is changed is obviously related to the running time. When we process a letter, we reduce the state a certain number of times (sometimes zero, sometimes a lot), and then increment it by one. Because the state never drops below zero, the total number of times it is increased by 1 is equal to the number of letters processed, and the total number of times it is decremented must be at most equal to the total number of times it is incremented. As a result, the total number of times the state changes is at most twice the number of times the state changes.\n",
    "\n",
    "As a result, the total number of state changes is no more than twice the number of letters in the input."
   ]
  },
  {
   "cell_type": "markdown",
   "metadata": {
    "collapsed": false,
    "id": "adc37bJ61Yuj",
    "pycharm": {
     "name": "#%% md\n"
    }
   },
   "source": [
    "### c) TRIES Algorithm"
   ]
  },
  {
   "cell_type": "markdown",
   "metadata": {
    "collapsed": false,
    "id": "TfA6a6gH1Yuk",
    "pycharm": {
     "name": "#%% md\n"
    }
   },
   "source": [
    "#### Pseudocode:"
   ]
  },
  {
   "cell_type": "markdown",
   "metadata": {
    "collapsed": false,
    "id": "QUaYA-s91Yuk",
    "pycharm": {
     "name": "#%% md\n"
    }
   },
   "source": [
    "```\n",
    "void insert(String s)\n",
    "{\n",
    "    for(every char in string s)\n",
    "    {\n",
    "        if(child node belonging to current char is null)\n",
    "        {\n",
    "            child node=new Node();\n",
    "        }\n",
    "        current_node=child_node;\n",
    "    }\n",
    "}\n",
    "\n",
    "boolean check(String s)\n",
    "{\n",
    "    for(every char in String s)\n",
    "    {\n",
    "        if(child node is null)\n",
    "        {\n",
    "            return false;\n",
    "        }\n",
    "    }\n",
    "    return true;\n",
    "}\n",
    "```"
   ]
  },
  {
   "cell_type": "markdown",
   "metadata": {
    "collapsed": false,
    "id": "kX7ivYAR1Yuk",
    "pycharm": {
     "name": "#%% md\n"
    }
   },
   "source": [
    "#### Source Code:"
   ]
  },
  {
   "cell_type": "code",
   "execution_count": 27,
   "metadata": {
    "id": "pBe4ydFX1Yul",
    "colab": {
     "base_uri": "https://localhost:8080/"
    },
    "outputId": "cbd25097-aebe-4273-ec5f-3eb76646310f",
    "pycharm": {
     "name": "#%%\n"
    }
   },
   "outputs": [
    {
     "name": "stdout",
     "output_type": "stream",
     "text": [
      "algo is in the Trie.\n"
     ]
    }
   ],
   "source": [
    "def insert(word):\n",
    "  for i in range(len(word)):      #loop for the step again after slice\n",
    "      node = root\n",
    "      for letter in word:         #loop for every letter\n",
    "        if letter not in node:\n",
    "          node[letter] = {}       #create new node\n",
    "        node = node[letter]\n",
    "        node[letter] = True       #set the node for every letter to true\n",
    "      word=word[1:]               #slice the front letter by 1\n",
    "\n",
    "def search(find):\n",
    "  node = root\n",
    "  for letter in find:             #loop for every letter\n",
    "    if letter not in node:\n",
    "      return False                #check if the letter is not in trie\n",
    "    node = node[letter]\n",
    "  return True                     #the word is in trie\n",
    "\n",
    "root = {}\n",
    "word = \"algorisfunalgoisgreat\"\n",
    "insert(word)\n",
    "\n",
    "find = \"algo\"\n",
    "if search(find) == bool(True):\n",
    "  print(find, \"is in the Trie.\")\n",
    "if search(find) == bool(False):\n",
    "  print(find, \"is not in the Trie.\")"
   ]
  },
  {
   "cell_type": "markdown",
   "metadata": {
    "collapsed": false,
    "id": "eRzrQBdT1Yul",
    "pycharm": {
     "name": "#%% md\n"
    }
   },
   "source": [
    "#### Comprehension:"
   ]
  },
  {
   "cell_type": "markdown",
   "metadata": {
    "collapsed": false,
    "id": "M9wXz_Wz1Yul",
    "pycharm": {
     "name": "#%% md\n"
    }
   },
   "source": [
    "Tries are a very unique and valuable data structure that is based on a string's prefix. They're used to symbolize data \"retrieval,\" thus the term Trie.\n",
    "\n",
    "A Trie is a unique data structure for storing texts that may be seen as a graph. It is made up of nodes and edges. Each node has a maximum of 26 children, with edges connecting each parent node to its offspring. Each of the 26 letters of the English alphabet is represented by one of these 26 points. For each edge, a distinct edge is maintained.\n",
    "\n"
   ]
  },
  {
   "cell_type": "markdown",
   "metadata": {
    "collapsed": false,
    "id": "gw8Fse1d1Yum",
    "pycharm": {
     "name": "#%% md\n"
    }
   },
   "source": [
    "#### Time Complexity:"
   ]
  },
  {
   "cell_type": "markdown",
   "metadata": {
    "collapsed": false,
    "id": "b3giZIhR1Yum",
    "pycharm": {
     "name": "#%% md\n"
    }
   },
   "source": [
    "The complexity of making a trie is O(W*L), where W is the number of words and L is the average length of a word: for each of the W words in the set, you must execute L lookups on average.\n",
    "\n",
    "The same is true when searching up words later: for each of the W words, you do L steps.\n",
    "\n",
    "Hash insertions and lookups have the same difficulty: for the total complexity of O(W*L), you must check equality for each word, which takes O(L)."
   ]
  }
 ],
 "metadata": {
  "colab": {
   "collapsed_sections": [],
   "name": "lab2.ipynb",
   "provenance": []
  },
  "kernelspec": {
   "display_name": "Python 3",
   "language": "python",
   "name": "python3"
  },
  "language_info": {
   "codemirror_mode": {
    "name": "ipython",
    "version": 2
   },
   "file_extension": ".py",
   "mimetype": "text/x-python",
   "name": "python",
   "nbconvert_exporter": "python",
   "pygments_lexer": "ipython2",
   "version": "2.7.6"
  }
 },
 "nbformat": 4,
 "nbformat_minor": 0
}