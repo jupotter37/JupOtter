{
 "cells": [
  {
   "cell_type": "markdown",
   "metadata": {},
   "source": [
    "## Tier 1. Module 3: Basic Algorithms and Data Structures\n",
    "\n",
    "## Topic 4 - Sorting algorithms\n",
    "\n",
    "## Homework"
   ]
  },
  {
   "cell_type": "markdown",
   "metadata": {},
   "source": [
    "### Task 1"
   ]
  },
  {
   "cell_type": "markdown",
   "metadata": {},
   "source": [
    "Python has two built-in sorting functions: sorted and sort. Python sort functions use Timsort, a hybrid sorting algorithm that combines merge sort and insertion sort.\n",
    "\n",
    "Compare three sorting algorithms: merge, insertion, and Timsort in terms of execution time. The analysis should be supported by empirical data obtained by testing algorithms on different data sets. Empirically test theoretical estimates of the complexity of algorithms, for example, by sorting on large arrays. To measure the execution time of algorithms, use the timeit module.\n",
    "\n",
    "Show that the combination of merge sort and insertion sort makes the Timsort algorithm much more efficient, and it is for this reason that programmers, in most cases, use Python's built-in algorithms rather than coding them themselves. Draw conclusions."
   ]
  },
  {
   "cell_type": "markdown",
   "metadata": {},
   "source": [
    "1.1 - Merge sort algorithm"
   ]
  },
  {
   "cell_type": "code",
   "execution_count": 40,
   "metadata": {},
   "outputs": [],
   "source": [
    "def merge_sort(arr: list) -> list:\n",
    "    \"\"\"\n",
    "    A recursive function that splits an array (list or tuple) into\n",
    "    two halves and then joins them sorted with an outer function\n",
    "\n",
    "    :param arr: an array to be sorted\n",
    "    :return: merged and sorted list\n",
    "    \"\"\"\n",
    "    if len(arr) <= 1:\n",
    "        return arr\n",
    "\n",
    "    mid = len(arr) // 2\n",
    "    left_half = merge_sort(arr[:mid])\n",
    "    right_half = merge_sort(arr[mid:])\n",
    "\n",
    "    return merge(left_half, right_half)\n",
    "\n",
    "\n",
    "def merge(left: list, right: list) -> list:\n",
    "    \"\"\"\n",
    "    A function to merge two separate lists into one sorted list\n",
    "\n",
    "    :params left & right: two lists to be merged\n",
    "    :return: merged and sorted list\n",
    "    \"\"\"\n",
    "    merged = []\n",
    "    left_idx, right_idx = 0, 0\n",
    "\n",
    "    while left_idx < len(left) and right_idx < len(right):\n",
    "        if left[left_idx] < right[right_idx]:\n",
    "            merged.append(left[left_idx])\n",
    "            left_idx += 1\n",
    "        else:\n",
    "            merged.append(right[right_idx])\n",
    "            right_idx += 1\n",
    "\n",
    "    merged.extend(left[left_idx:])\n",
    "    merged.extend(right[right_idx:])\n",
    "\n",
    "    return merged"
   ]
  },
  {
   "cell_type": "markdown",
   "metadata": {},
   "source": [
    "1.2 - Insertion sorting algorithm"
   ]
  },
  {
   "cell_type": "code",
   "execution_count": 41,
   "metadata": {},
   "outputs": [],
   "source": [
    "def insertion_sort(arr: list) -> list:\n",
    "    \"\"\"\n",
    "    A function to sort an array (list or tuple) using the insertion\n",
    "    sort method\n",
    "\n",
    "    :param arr: an array to be sorted\n",
    "    :return: sorted array\n",
    "    \"\"\"\n",
    "    for i in range(1, len(arr)):\n",
    "        key = arr[i]\n",
    "        j = i - 1\n",
    "        while j >= 0 and key < arr[j]:\n",
    "            arr[j + 1] = arr[j]\n",
    "            j -= 1\n",
    "        arr[j + 1] = key\n",
    "\n",
    "    return arr"
   ]
  },
  {
   "cell_type": "markdown",
   "metadata": {},
   "source": [
    "1.3 - Random test array generation function"
   ]
  },
  {
   "cell_type": "code",
   "execution_count": 42,
   "metadata": {},
   "outputs": [],
   "source": [
    "import random\n",
    "\n",
    "\n",
    "def generate_data(size: int) -> list:\n",
    "    return [random.randint(0, 1000) for _ in range(size)]"
   ]
  },
  {
   "cell_type": "markdown",
   "metadata": {},
   "source": [
    "1.4 - Algorithm testing function"
   ]
  },
  {
   "cell_type": "code",
   "execution_count": 43,
   "metadata": {},
   "outputs": [],
   "source": [
    "import timeit\n",
    "\n",
    "\n",
    "def test_algorithms(algorithms: dict, data_sizes: list) -> dict:\n",
    "    \"\"\"\n",
    "    Function for testing sorting algorithms on randomly generated lists of\n",
    "    numbers\n",
    "\n",
    "    :param algorithms: a dictionary, where the keys are algorithm names, and\n",
    "    the values are functions or methods with an implemented sorting algorithm\n",
    "    :param data_sizes: a list of integer values representing the length of\n",
    "    random arrays to be generated for testing algorithms\n",
    "    :return: a dictionary with algorithm names as keys and times spent sorting\n",
    "    random arrays as values\n",
    "    \"\"\"\n",
    "    results = {}\n",
    "    for algo_name, algo_func in algorithms.items():\n",
    "        results[algo_name] = {}\n",
    "        for size in data_sizes:\n",
    "            data = generate_data(size)\n",
    "            time_taken = timeit.timeit(lambda: algo_func(data.copy()), number=10)\n",
    "            results[algo_name][size] = time_taken\n",
    "    return results"
   ]
  },
  {
   "cell_type": "markdown",
   "metadata": {},
   "source": [
    "1.5 - Testing algorithms"
   ]
  },
  {
   "cell_type": "code",
   "execution_count": 44,
   "metadata": {},
   "outputs": [
    {
     "name": "stdout",
     "output_type": "stream",
     "text": [
      "Algorithm: Merge Sort\n",
      "Data size: 100     Time taken: 0.001393 seconds\n",
      "Data size: 1000    Time taken: 0.018338 seconds\n",
      "Data size: 10000   Time taken: 0.237893 seconds\n",
      "\n",
      "Algorithm: Insertion Sort\n",
      "Data size: 100     Time taken: 0.001766 seconds\n",
      "Data size: 1000    Time taken: 0.241139 seconds\n",
      "Data size: 10000   Time taken: 22.663815 seconds\n",
      "\n",
      "Algorithm: Timsort (Python built-in)\n",
      "Data size: 100     Time taken: 0.000036 seconds\n",
      "Data size: 1000    Time taken: 0.000431 seconds\n",
      "Data size: 10000   Time taken: 0.011314 seconds\n",
      "\n"
     ]
    }
   ],
   "source": [
    "algorithms = {\n",
    "    \"Merge Sort\": merge_sort,\n",
    "    \"Insertion Sort\": insertion_sort,\n",
    "    \"Timsort (Python built-in)\": sorted,\n",
    "}\n",
    "data_sizes = [100, 1000, 10000]\n",
    "\n",
    "results = test_algorithms(algorithms, data_sizes)\n",
    "for algo, timings in results.items():\n",
    "    print(f\"Algorithm: {algo}\")\n",
    "    for size, time_taken in timings.items():\n",
    "        print(f\"Data size: {size:<7} Time taken: {time_taken:.6f} seconds\")\n",
    "    print()"
   ]
  },
  {
   "cell_type": "markdown",
   "metadata": {},
   "source": [
    "### Conclusions:\n"
   ]
  },
  {
   "cell_type": "markdown",
   "metadata": {},
   "source": [
    "1. Initialization\n",
    "\n",
    "As can be seen from the test results, merge sort is significantly faster than insertion sort, and TimSort is faster than merge sort. But it is worth paying attention to the same result of sorting a small array using merge and inserts. Although the first algorithm has a linear-logarithmic time complexity of $O(n \\cdot log_2(n))$ and the second has a quadratic $O(x^2)$ time complexity, the execution time should differ by an order of $\\left( \\frac{100 ^ 2}{100 \\cdot log_2{100}} = 15 \\right)$ , but constant factors such as initialization of recursive functions eat away all the benefits of mergesort on small datasets.\n",
    "\n",
    "TimSort significantly outperformed the first two algorithms even on a small array, this is because it is implemented in Python in C programming language, while the merge and insertion sort functions are written directly in Python.\n",
    "\n",
    "2. Scalability\n",
    "\n",
    "As expected, the sorting time increases with the size of the data set, for merge sort the growth follows a linear-logarithmic progression $\\left( \\frac{10.000 \\cdot log_2{10.000}}{100 \\cdot log_2{100}} = 200 \\ approx. \\right)$.\n",
    "\n",
    "TimSort, on the other hand, has a hybrid nature and combines insertion and merge sorting, so when moving from a small to a medium array, the time complexity increases according to a linear-logarithmic progression, and before moving to a large array, the dependence is more like a quadratic one, but the core of the algorithm is still 22 times faster than merge sort, not least because of the C programming language implementation."
   ]
  },
  {
   "cell_type": "markdown",
   "metadata": {},
   "source": [
    "### Task 2"
   ]
  },
  {
   "cell_type": "markdown",
   "metadata": {},
   "source": [
    "Given `k` sorted lists of integers. Your task is to combine them into one sorted list. When completing the task, you can rely on the merging sorting algorithm from the summary. Implement a `merge_k_lists` function that takes as input a list of sorted lists and returns a sorted list."
   ]
  },
  {
   "cell_type": "markdown",
   "metadata": {},
   "source": [
    "2.1 - Merge functions of sorted lists"
   ]
  },
  {
   "cell_type": "code",
   "execution_count": 54,
   "metadata": {},
   "outputs": [],
   "source": [
    "#%%timeit\n",
    "def merge_k_lists(lists: list[list, list]) -> list:\n",
    "    \"\"\"\n",
    "    Function to merge sorted arrays (lists or tuples)\n",
    "\n",
    "    :param lists: a list that includes other lists (or tuples) to\n",
    "    be merged using an outer function\n",
    "    :return: merged and sorted list\n",
    "    \"\"\"\n",
    "    if not lists:\n",
    "        return []\n",
    "\n",
    "    while len(lists) > 1:\n",
    "        merged = []\n",
    "        for i in range(0, len(lists), 2):\n",
    "            if i + 1 < len(lists):\n",
    "                merged.append(merge(lists[i], lists[i + 1]))\n",
    "            else:\n",
    "                merged.append(lists[i])\n",
    "        lists = merged\n",
    "\n",
    "    return lists[0]"
   ]
  },
  {
   "cell_type": "markdown",
   "metadata": {},
   "source": [
    "2.2 - Testing"
   ]
  },
  {
   "cell_type": "code",
   "execution_count": 55,
   "metadata": {},
   "outputs": [
    {
     "name": "stdout",
     "output_type": "stream",
     "text": [
      "Sorted list: [1, 1, 2, 3, 4, 4, 5, 6]\n"
     ]
    }
   ],
   "source": [
    "lists = [[1, 4, 5], [1, 3, 4], [2, 6]]\n",
    "merged_list = merge_k_lists(lists)\n",
    "print(\"Sorted list:\", merged_list)"
   ]
  }
 ],
 "metadata": {
  "kernelspec": {
   "display_name": "Python 3",
   "language": "python",
   "name": "python3"
  },
  "language_info": {
   "codemirror_mode": {
    "name": "ipython",
    "version": 3
   },
   "file_extension": ".py",
   "mimetype": "text/x-python",
   "name": "python",
   "nbconvert_exporter": "python",
   "pygments_lexer": "ipython3",
   "version": "3.12.3"
  }
 },
 "nbformat": 4,
 "nbformat_minor": 2
}
