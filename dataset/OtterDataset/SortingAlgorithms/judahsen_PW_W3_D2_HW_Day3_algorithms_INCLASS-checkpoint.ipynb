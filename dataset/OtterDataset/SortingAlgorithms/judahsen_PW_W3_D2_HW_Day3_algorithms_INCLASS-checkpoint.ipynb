{
 "cells": [
  {
   "cell_type": "markdown",
   "metadata": {},
   "source": [
    "# Algorithms, Binary Search & Linked Lists"
   ]
  },
  {
   "cell_type": "markdown",
   "metadata": {},
   "source": [
    "## Tasks Today:\n",
    " \n",
    "1) <b>In-Place Algorithms</b> <br>\n",
    " &nbsp;&nbsp;&nbsp;&nbsp; a) Syntax <br>\n",
    " &nbsp;&nbsp;&nbsp;&nbsp; a) Out of Place Algorithm <br>\n",
    " &nbsp;&nbsp;&nbsp;&nbsp; b) In-Class Exercise #1 <br>\n",
    "2) <b>Two Pointers</b> <br>\n",
    "3) <b>Linked Lists</b> <br>\n",
    "4) <b>Merge Sort</b> <br>\n",
    " &nbsp;&nbsp;&nbsp;&nbsp; a) Video on Algorithms <br>\n",
    " &nbsp;&nbsp;&nbsp;&nbsp; b) How it Works <br>\n",
    "5) <b>Exercises</b> <br>\n",
    " &nbsp;&nbsp;&nbsp;&nbsp; a) Exercise #1 - Reverse a List in Place Using an In-Place Algorithm <br>\n",
    " &nbsp;&nbsp;&nbsp;&nbsp; b) Exercise #2 - Find Distinct Words <br>\n",
    " &nbsp;&nbsp;&nbsp;&nbsp; c) Exercise #3 - Write a program to implement a Linear Search Algorithm. <br>"
   ]
  },
  {
   "cell_type": "markdown",
   "metadata": {},
   "source": [
    "## In-Place Algorithms"
   ]
  },
  {
   "cell_type": "markdown",
   "metadata": {},
   "source": [
    "#### Syntax"
   ]
  },
  {
   "cell_type": "code",
   "execution_count": 3,
   "metadata": {},
   "outputs": [
    {
     "name": "stdout",
     "output_type": "stream",
     "text": [
      "First - [1, 2, 3]\n",
      "After- [3, 2, 1]\n"
     ]
    }
   ],
   "source": [
    "#in place algo means that which modifys the main list \n",
    "#Example:\n",
    "# some_list = [5,4,3,2,1]\n",
    "# print(sorted(some_list))\n",
    "# print(some_list)\n",
    "\n",
    "def swap(arr, a, b, c):\n",
    "    tempa = arr[a]\n",
    "    tempc = arr[c]\n",
    "    arr[a] = tempc\n",
    "    arr[c] = tempa\n",
    "    \n",
    "def swap_de(arr, a, b, c):\n",
    "    arr[a], arr[b], arr[c] = arr[c], arr[b], arr[a]\n",
    "    \n",
    "exp_list = [1, 2, 3]\n",
    "print(f\"First - {exp_list}\")\n",
    "\n",
    "#swap(exp_list, 0, 1, 2)\n",
    "swap_de(exp_list, 0, 1, 2)\n",
    "print(f\"After- {exp_list}\")\n",
    "\n"
   ]
  },
  {
   "cell_type": "markdown",
   "metadata": {},
   "source": [
    "#### Out of Place Algorithm"
   ]
  },
  {
   "cell_type": "code",
   "execution_count": 4,
   "metadata": {},
   "outputs": [
    {
     "name": "stdout",
     "output_type": "stream",
     "text": [
      "[4, 700, 456, 20, 234, 0]\n"
     ]
    }
   ],
   "source": [
    "# out of place needs a place to store the values and changes then present that permanantly changed list\n",
    "# #Example:\n",
    "# print(some_list.sort())\n",
    "# print(some_list)\n",
    "# The only difference here is we're going to make, modify, and return a copy.\n",
    "def swap_de(arr, a, b, c):\n",
    "    copy = arr[:]\n",
    "    copy[a], copy[b], copy[c] = copy[c], copy[b], copy[a]  \n",
    "    return copy\n",
    "ex_list = [4, 20, 456, 700, 234, 0]\n",
    "print(swap_de(ex_list, 1, 2, 3))"
   ]
  },
  {
   "cell_type": "markdown",
   "metadata": {},
   "source": [
    "#### In-Class Exercise #1 <br>\n",
    "<p>Write a function that takes in four arguments (list, index1, index2, index3), and swaps those three positions in the list passed in.</p>"
   ]
  },
  {
   "cell_type": "code",
   "execution_count": 6,
   "metadata": {},
   "outputs": [
    {
     "name": "stdout",
     "output_type": "stream",
     "text": [
      "First - [10, 4, 3, 8, 4, 2, 6]\n",
      "After- [3, 10, 4, 8, 4, 2, 6]\n"
     ]
    }
   ],
   "source": [
    "l_1 = [10, 4, 3, 8, 4, 2, 6]\n",
    "\n",
    "def swap(arr, a, b, c):\n",
    "    tempa = arr[a]\n",
    "    tempc = arr[c]\n",
    "    arr[a] = tempc\n",
    "    arr[c] = tempa\n",
    "    \n",
    "def swap_de(arr, a, b, c):\n",
    "    arr[a], arr[b], arr[c] = arr[c], arr[a], arr[b]\n",
    "    \n",
    "exp_list = l_1\n",
    "print(f\"First - {exp_list}\")\n",
    "\n",
    "#swap(exp_list, 0, 1, 2)\n",
    "swap_de(exp_list, 0, 1, 2)\n",
    "print(f\"After- {exp_list}\")\n"
   ]
  },
  {
   "cell_type": "markdown",
   "metadata": {},
   "source": [
    "## Two Pointers"
   ]
  },
  {
   "cell_type": "markdown",
   "metadata": {},
   "source": [
    "#### Syntax"
   ]
  },
  {
   "cell_type": "code",
   "execution_count": 8,
   "metadata": {},
   "outputs": [
    {
     "name": "stdout",
     "output_type": "stream",
     "text": [
      "on your left- 0\t and to your right-6\n",
      "on your left- 1\t and to your right-5\n",
      "on your left- 2\t and to your right-4\n",
      "[3, 10, 4, 8, 4, 2, 6]\n",
      "on your left- 0\t and to your right-4\n",
      "on your left- 1\t and to your right-3\n",
      "[5, 4, 3, 2, 1]\n",
      "on your left- 0\t and to your right-4\n",
      "on your left- 1\t and to your right-3\n",
      "['e', 'd', 'c', 'b', 'a']\n"
     ]
    }
   ],
   "source": [
    "# arr[a], arr[b] = arr[b], arr[a]\n",
    "\n",
    "def dos_point(arr):\n",
    "    left = 0\n",
    "    right = len(arr) - 1\n",
    "    while left < right:\n",
    "        print(f\"on your left- {left}\\t and to your right-{right}\")\n",
    "        arr[left], arr[right] = arr[right], arr[left]\n",
    "        left += 1\n",
    "        right -= 1\n",
    "    return arr\n",
    "dos_point(l_1)\n",
    "print(l_1)\n",
    "\n",
    "o_list = [1, 2, 3, 4, 5]\n",
    "dos_point(o_list)\n",
    "print(o_list)\n",
    "\n",
    "a_list = ['a', 'b', 'c', 'd', 'e']\n",
    "dos_point(a_list)\n",
    "print(a_list)"
   ]
  },
  {
   "cell_type": "markdown",
   "metadata": {},
   "source": [
    "#### Video of Algorithms <br>\n",
    "<p>Watch the video about algorithms.</p>\n",
    "\n",
    "https://www.youtube.com/watch?v=Q9HjeFD62Uk\n",
    "\n",
    "https://www.youtube.com/watch?v=kPRA0W1kECg\n",
    "\n",
    "https://www.youtube.com/watch?v=ZZuD6iUe3Pc"
   ]
  },
  {
   "cell_type": "markdown",
   "metadata": {},
   "source": [
    "# Sorting Algorithms"
   ]
  },
  {
   "cell_type": "markdown",
   "metadata": {},
   "source": [
    "#### Bubble Sort\n",
    "\n",
    "Worst Case: O(n^2) Time - O(1) Space"
   ]
  },
  {
   "cell_type": "code",
   "execution_count": null,
   "metadata": {},
   "outputs": [],
   "source": []
  },
  {
   "cell_type": "markdown",
   "metadata": {},
   "source": [
    "##### Insertion Sort\n",
    "\n",
    "Worst Case: O(n^2) time - O(1)space"
   ]
  },
  {
   "cell_type": "code",
   "execution_count": 9,
   "metadata": {},
   "outputs": [
    {
     "ename": "SyntaxError",
     "evalue": "invalid syntax (3306871496.py, line 7)",
     "output_type": "error",
     "traceback": [
      "\u001b[1;36m  Cell \u001b[1;32mIn[9], line 7\u001b[1;36m\u001b[0m\n\u001b[1;33m    while j > 0 arr[j] < arr[j + 1]:\u001b[0m\n\u001b[1;37m                ^\u001b[0m\n\u001b[1;31mSyntaxError\u001b[0m\u001b[1;31m:\u001b[0m invalid syntax\n"
     ]
    }
   ],
   "source": [
    "def swapper(arr, a, b):\n",
    "    arr[a], arr[b] = arr[b], arr[a]\n",
    "    \n",
    "def ins_sort(arr):\n",
    "    for i in range(len(arr)):\n",
    "        j = i\n",
    "        while j > 0 arr[j] < arr[j + 1]:\n",
    "            sapper(arr, j, j +1)\n",
    "            j -= 1\n",
    "            \n",
    "print(f\"Before - {num_list3}\")\n",
    "ins_sort(num_list3)\n",
    "print(f\"After - {num_list3}\")"
   ]
  },
  {
   "cell_type": "markdown",
   "metadata": {},
   "source": [
    "## Merge Sort"
   ]
  },
  {
   "cell_type": "markdown",
   "metadata": {},
   "source": [
    "#### How it Works"
   ]
  },
  {
   "cell_type": "code",
   "execution_count": 16,
   "metadata": {},
   "outputs": [
    {
     "name": "stdout",
     "output_type": "stream",
     "text": [
      "[2, 5, 3, 67, 98, 43, 0, 8]\n",
      "split, split,split....\n",
      "split, split,split....\n",
      "split, split,split....\n",
      "split, split,split....\n",
      "Merging .. .... [2]\n",
      "split, split,split....\n",
      "Merging .. .... [5]\n",
      "Merging .. .... [2, 5]\n",
      "split, split,split....\n",
      "split, split,split....\n",
      "Merging .. .... [3]\n",
      "split, split,split....\n",
      "Merging .. .... [67]\n",
      "Merging .. .... [3, 67]\n",
      "Merging .. .... [2, 3, 5, 67]\n",
      "split, split,split....\n",
      "split, split,split....\n",
      "split, split,split....\n",
      "Merging .. .... [98]\n",
      "split, split,split....\n",
      "Merging .. .... [43]\n",
      "Merging .. .... [43, 98]\n",
      "split, split,split....\n",
      "split, split,split....\n",
      "Merging .. .... [0]\n",
      "split, split,split....\n",
      "Merging .. .... [8]\n",
      "Merging .. .... [0, 8]\n",
      "Merging .. .... [0, 8, 43, 98]\n",
      "Merging .. .... [0, 2, 3, 5, 8, 43, 67, 98]\n",
      "[0, 2, 3, 5, 8, 43, 67, 98]\n"
     ]
    }
   ],
   "source": [
    "# Split list as far as you can, use three pointers to put it back in order, repeat\n",
    "\n",
    "# 1: split and kep splitting\n",
    "# 2: merge from left to right each group together\n",
    "# 3: while merging, orde matters\n",
    "# 4: keep going\n",
    "\n",
    "num_list3 = [2, 5, 3, 67, 98, 43, 0, 8]\n",
    "def merge_sort(arr):\n",
    "    print('split, split,split....')\n",
    "#step 1:\n",
    "    if len(arr) > 1:\n",
    "        mid = len(arr) // 2 #easy/common way to grab the middle of a list\n",
    "        lefthalf = arr[:mid]\n",
    "        righthalf = arr[mid:]\n",
    "        \n",
    "        #call function recursively to continu performing splits as needed\n",
    "        # Then we'll merge\n",
    "        merge_sort(lefthalf)\n",
    "        merge_sort(righthalf)\n",
    "        \n",
    "#end1\n",
    "#step 2\n",
    "    #compare left and right:\n",
    "    #3 pointers\n",
    "        i, j, k = 0, 0, 0\n",
    "        while i < len(lefthalf) and j < len(righthalf):\n",
    "            if lefthalf[i] < righthalf[j]:\n",
    "                arr[k] = lefthalf[i]\n",
    "                i += 1\n",
    "    #            k += 1\n",
    "            else:\n",
    "                arr[k] = righthalf[j]\n",
    "                j += 1\n",
    "            k += 1\n",
    "#end 2\n",
    "#step 3\n",
    "\n",
    "    # Order Matters\n",
    "        while i < len(lefthalf):\n",
    "            arr[k] = lefthalf[i]\n",
    "            i += 1\n",
    "            k += 1\n",
    "        while j< len(righthalf):\n",
    "            arr[k] = righthalf[j]\n",
    "            j += 1\n",
    "            k += 1\n",
    "#end 3\n",
    "\n",
    "#step 4\n",
    "    print(f\"Merging .. .... {arr}\")\n",
    "#end 4\n",
    "\n",
    "num_list3 = [2, 5, 3, 67, 98, 43, 0, 8]\n",
    "print(num_list3)\n",
    "merge_sort(num_list3)\n",
    "print(num_list3)"
   ]
  },
  {
   "cell_type": "markdown",
   "metadata": {},
   "source": [
    "# Binary Search\n",
    "\n",
    "The Binary Search algorithm works by finding the number in the middle of a given array and comparing it to the target. Given that the array is sorted\n",
    "\n",
    "* The worst case run time for this algorithm is `O(log(n))`"
   ]
  },
  {
   "cell_type": "code",
   "execution_count": 20,
   "metadata": {},
   "outputs": [
    {
     "name": "stdout",
     "output_type": "stream",
     "text": [
      " Found Target(12) at index --> 3\n"
     ]
    }
   ],
   "source": [
    "nums = [0, 4, 8, 12, 30, 35, 45, 56, 67, 78, 89, 94, 105]\n",
    "def bin_search(arr, target):\n",
    "    left = 0\n",
    "    right = len(arr)-1\n",
    "    while left <= right:\n",
    "        mid = (left + right) // 2\n",
    "        maybe_target = arr[mid]\n",
    "        if target == maybe_target:\n",
    "            return f\" Found Target({target}) at index --> {mid}\"\n",
    "        elif target < maybe_target:\n",
    "            right = mid - 1\n",
    "        elif target > maybe_target:\n",
    "            left = mid + 1\n",
    "    return f\" Your target is NOT in this list!\"\n",
    "print(bin_search(nums, 12))"
   ]
  },
  {
   "cell_type": "markdown",
   "metadata": {},
   "source": [
    "# Exercises"
   ]
  },
  {
   "cell_type": "markdown",
   "metadata": {},
   "source": [
    "### Exercise #1 <br>\n",
    "<p>Reverse the list below in-place using an in-place algorithm.<br>For extra credit: Reverse the strings at the same time.</p>"
   ]
  },
  {
   "cell_type": "code",
   "execution_count": 8,
   "metadata": {},
   "outputs": [
    {
     "name": "stdout",
     "output_type": "stream",
     "text": [
      "['.', 'ecnetnes', 'a', 'si', 'siht']\n"
     ]
    }
   ],
   "source": [
    "\n",
    "def swap_ed(arr,a,b,c,d,e,):\n",
    "    arr[a],arr[b],arr[c],arr[d],arr[e] = arr[e][::-1],arr[d][::-1],arr[c][::-1],arr[b][::-1],arr[a][::-1]\n",
    "    \n",
    "words = ['this' , 'is', 'a', 'sentence', '.']\n",
    "swap_ed(words,0,1,2,3,4)\n",
    "print(words)\n",
    "#extracredit-output ['.', 'ecnetnes', 'a', 'si','siht']"
   ]
  },
  {
   "cell_type": "markdown",
   "metadata": {},
   "source": [
    "### Exercise #2 <br>\n",
    "<p>Create a function that counts how many distinct words are in the string below, then outputs a dictionary with the words as the key and the value as the amount of times that word appears in the string.<br>Should output:<br>{'a': 5,<br>\n",
    " 'abstract': 1,<br>\n",
    " 'an': 3,<br>\n",
    " 'array': 2, ... etc...</p>"
   ]
  },
  {
   "cell_type": "code",
   "execution_count": 30,
   "metadata": {},
   "outputs": [
    {
     "name": "stdout",
     "output_type": "stream",
     "text": [
      "8\n",
      "4\n",
      "5\n",
      "10\n",
      "1\n",
      "5\n",
      "2\n",
      "10\n",
      "1\n",
      "5\n",
      "1\n",
      "8\n",
      "10\n",
      "8\n",
      "5\n",
      "10\n",
      "8\n",
      "4\n",
      "5\n",
      "10\n",
      "1\n",
      "5\n",
      "8\n",
      "10\n",
      "8\n",
      "5\n",
      "10\n",
      "2\n",
      "5\n",
      "8\n",
      "10\n",
      "4\n",
      "1\n",
      "3\n",
      "10\n",
      "3\n",
      "4\n",
      "5\n",
      "8\n",
      "3\n",
      "10\n",
      "2\n",
      "5\n",
      "2\n",
      "None\n"
     ]
    }
   ],
   "source": [
    "#a_text = 'In computing, a hash table hash map is a data structure which implements an associative array abstract data type, a structure that can map keys to values. A hash table uses a hash function to compute an index into an array of buckets or slots from which the desired value can be found'\n",
    "\n",
    "the_text = \"the dog went to the vet to get his shots lol\"\n",
    "\n",
    "this_dict = {}\n",
    "\n",
    "def count_words(the_text):\n",
    "    the_text.split(\" \") # used the .split() to seprate the strings seperator = \" \" no maxsplit\n",
    "    for word in the_text:\n",
    "        key = the_text.count(word)\n",
    "        print(key)\n",
    "# ref S_cart {} code\n",
    "#     key = \n",
    "#     value = the_text.count(num)\n",
    "#     this_dict[key]=value\n",
    "#     print(this_dict)\n",
    "\n",
    "\n",
    "print(count_words(the_text))"
   ]
  },
  {
   "cell_type": "code",
   "execution_count": null,
   "metadata": {},
   "outputs": [],
   "source": [
    "# test Code "
   ]
  },
  {
   "cell_type": "markdown",
   "metadata": {},
   "source": [
    "## Exercise #3\n",
    "\n",
    "Write a program to implement a Linear Search Algorithm. Also in a comment, write the Time Complexity of the following algorithm.\n",
    "\n",
    "#### Hint: Linear Searching will require searching a list for a given number. "
   ]
  },
  {
   "cell_type": "code",
   "execution_count": 39,
   "metadata": {},
   "outputs": [
    {
     "name": "stdout",
     "output_type": "stream",
     "text": [
      "t\n",
      "-1\n"
     ]
    }
   ],
   "source": [
    "\n",
    "def search(arr,n, x):\n",
    "    \n",
    "    for i in range(0,n):\n",
    "        if (arr[i] == x):\n",
    "            return arr[i]\n",
    "    return -1\n",
    "arr = [\"f\",\"h\",\"j\",\"t\"]\n",
    "print(search(arr,len(arr),\"t\"))\n",
    "print(search(arr,len(arr),\"r\"))"
   ]
  }
 ],
 "metadata": {
  "kernelspec": {
   "display_name": "Python 3 (ipykernel)",
   "language": "python",
   "name": "python3"
  },
  "language_info": {
   "codemirror_mode": {
    "name": "ipython",
    "version": 3
   },
   "file_extension": ".py",
   "mimetype": "text/x-python",
   "name": "python",
   "nbconvert_exporter": "python",
   "pygments_lexer": "ipython3",
   "version": "3.11.5"
  }
 },
 "nbformat": 4,
 "nbformat_minor": 2
}
