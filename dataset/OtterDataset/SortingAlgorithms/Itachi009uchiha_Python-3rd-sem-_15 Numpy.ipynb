{
 "cells": [
  {
   "cell_type": "markdown",
   "metadata": {},
   "source": [
    "<h4>15 Numpy</h4>\n",
    "<h5>> NumPy is a Python library used for working with arrays.\n",
    "<br/>> It also has functions for working in domain of linear algebra, fourier transform, and matrices.\n",
    "<br/>> NumPy was created in 2005 by Travis Oliphant. It is an open source project and you can use it freely.\n",
    "<br/>> NumPy stands for Numerical Python.\n",
    "<br/>> In Python we have lists that serve the purpose of arrays, but they are slow to process.\n",
    "<br/>> NumPy aims to provide an array object that is up to 50x faster than traditional Python lists.\n",
    "<br/>> The array object in NumPy is called \"ndarray\", it provides a lot of supporting functions that make working with \"ndarray\" very easy.\n",
    "<br/>> Arrays are very frequently used in data science, where speed and resources are very important.\n",
    "<br/>> NumPy arrays are stored at one continuous place in memory unlike lists, so processes can access and manipulate them very efficiently.\n",
    "<br/>> This is the main reason why NumPy is faster than lists. Also it is optimized to work with latest CPU architectures.\n",
    "<br/>> We can install Numpy using the following command in the command prompt: \n",
    "<br/> >>> pip install numpy\n",
    "<br/>> For using numpy we need to use the following statement: \n",
    "<br/> >>> import numpy or import numpy as np\n",
    "</h5>"
   ]
  },
  {
   "cell_type": "code",
   "execution_count": null,
   "metadata": {},
   "outputs": [],
   "source": [
    "# for installing numpy (only to be run once)\n",
    "pip install numpy"
   ]
  },
  {
   "cell_type": "code",
   "execution_count": 11,
   "metadata": {},
   "outputs": [
    {
     "name": "stdout",
     "output_type": "stream",
     "text": [
      "['1' '2' '3' 'A' 'B'] <class 'numpy.ndarray'>\n",
      "['10' '20' '30' 'A' 'B'] <class 'numpy.ndarray'>\n"
     ]
    }
   ],
   "source": [
    "# Creating a numpy array from a list\n",
    "import numpy as np\n",
    "ar=np.array([1,2,3,\"A\",\"B\"])\n",
    "print(ar,type(ar))\n",
    "# Creating a numpy array from a tuple\n",
    "ar=np.array((10,20,30,\"A\",\"B\"))\n",
    "print(ar,type(ar))"
   ]
  },
  {
   "cell_type": "markdown",
   "metadata": {},
   "source": [
    "<h4>01 Dimensions in a Numpy array</h4>\n",
    "<h5>> A dimension in arrays is one level of array depth (nested arrays).\n",
    "<br/>> We can create Numpy arrays with any number of dimensions.\n",
    "<br/>> 0-D Arrays: Also known as Scalars, are the elements in an array. Each value in an array is a 0-D array.\n",
    "<br/>> 1-D Arrays: An array that has 0-D arrays as its elements is called uni-dimensional or 1-D array. These are the most common and basic arrays.\n",
    "<br/>> 2-D Arrays: An array that has 1-D arrays as its elements is called a 2-D array. These are often used to represent matrix or 2nd order tensors.\n",
    "</h5>"
   ]
  },
  {
   "cell_type": "code",
   "execution_count": 21,
   "metadata": {},
   "outputs": [
    {
     "name": "stdout",
     "output_type": "stream",
     "text": [
      "100\n",
      "[1 2 3 4 5]\n",
      "1 2 3 4 5 \n",
      "['1' '2' '3' '4' '5']\n",
      "['A' 'B' 'C' 'D' 'E']\n"
     ]
    }
   ],
   "source": [
    "# 0-D Array\n",
    "import numpy as np\n",
    "ar=np.array(100) # ar is now a 0-D array so we cannot use for-in loop\n",
    "print(ar)\n",
    "# 1-D Array\n",
    "ar=np.array([1,2,3,4,5]) \n",
    "# we can use for-in loop to access individual elements\n",
    "print(ar)\n",
    "for n in ar:\n",
    "    print(n,end=\" \")\n",
    "# 2-D Array\n",
    "print()\n",
    "ar=np.array([[1,2,3,4,5],[\"A\",\"B\",\"C\",\"D\",\"E\"]])\n",
    "for n in ar:\n",
    "    print(n)"
   ]
  },
  {
   "cell_type": "markdown",
   "metadata": {},
   "source": [
    "<h4>02 Checking the number of dimensions</h4>\n",
    "<h5> We can know the number of dimensions using \"ndim\" attribute\n",
    "</h5>"
   ]
  },
  {
   "cell_type": "code",
   "execution_count": 25,
   "metadata": {},
   "outputs": [
    {
     "name": "stdout",
     "output_type": "stream",
     "text": [
      "a.ndim= 0\n",
      "b.ndim= 1\n",
      "c.ndim= 2\n",
      "d.ndim= 3\n"
     ]
    }
   ],
   "source": [
    "# using \"ndim\" attribute\n",
    "import numpy as np\n",
    "a=np.array(100)\n",
    "b=np.array([1,2,3,4,5])\n",
    "c=np.array([[1,2,3],[4,5,6]])\n",
    "d=np.array([[[10,20,30],[40,50,60]],[[70,80,90],[100,110,120]]])\n",
    "print(\"a.ndim=\",a.ndim)\n",
    "print(\"b.ndim=\",b.ndim)\n",
    "print(\"c.ndim=\",c.ndim)\n",
    "print(\"d.ndim=\",d.ndim)"
   ]
  },
  {
   "cell_type": "markdown",
   "metadata": {},
   "source": [
    "<h4>03 Indexing in Numpy arrays</h4>\n",
    "<h5>> We use [index] to access the numpy array elements\n",
    "<br/>> We can use [row,col] notation also when accessing 2-D array elements\n",
    "<br/>> We can use +ve as well as -ve indexing\n",
    "</h5>"
   ]
  },
  {
   "cell_type": "code",
   "execution_count": 32,
   "metadata": {},
   "outputs": [
    {
     "name": "stdout",
     "output_type": "stream",
     "text": [
      "[1 2 3 4]\n",
      "4\n",
      "6\n",
      "ar[0] or [-4] = 1\n",
      "ar[1] or [-3] = 2\n",
      "ar[2] or [-2] = 3\n",
      "ar[3] or [-1] = 4\n"
     ]
    }
   ],
   "source": [
    "import numpy as np\n",
    "ar=np.array([1,2,3,4])\n",
    "print(ar)\n",
    "print(ar[3]) # 4\n",
    "ar=np.array([[1,2,3],[4,5,6],[7,8,9]])\n",
    "print(ar[1,2]) # 6\n",
    "ar=np.array([1,2,3,4])\n",
    "i=0\n",
    "n=len(ar)\n",
    "for i in range(n):\n",
    "    print(\"ar[{}] or [{}] = {}\".format(i,i-n,ar[i]))"
   ]
  },
  {
   "cell_type": "markdown",
   "metadata": {},
   "source": [
    "<h4>04 Slicing in Numpy arrays</h4>\n",
    "<h5>> While slicing 2-D arrays we need to use the following notation:\n",
    "<br/>> ndarray[row,col]\n",
    "<br/>> ndarray[rowindexstart : rowindexend, colindexstart : colindexend]\n",
    "</h5>"
   ]
  },
  {
   "cell_type": "code",
   "execution_count": 2,
   "metadata": {},
   "outputs": [
    {
     "name": "stdout",
     "output_type": "stream",
     "text": [
      "[1 2 3 4 5 6 7 8 9]\n",
      "[2 3 4 5]\n",
      "[[5 6]\n",
      " [8 9]]\n"
     ]
    }
   ],
   "source": [
    "import numpy as np\n",
    "ar=np.array(range(1,10))\n",
    "print(ar) #[1 2 3 4 5 6 7 8 9]\n",
    "print(ar[1:5:1]) #[2 3 4 5]\n",
    "l1=[\n",
    "    [1,2,3],\n",
    "    [4,5,6],\n",
    "    [7,8,9]\n",
    "]\n",
    "ar=np.array(l1)\n",
    "#slicing bottom four elements [[5,6][8,9]]\n",
    "print(ar[1:3,1:3])"
   ]
  },
  {
   "cell_type": "markdown",
   "metadata": {},
   "source": [
    "<h4>05 Data Types in NumPy</h4>\n",
    "<h5>We can specify the data type of the elements inserted in a Numpy array\n",
    "<br/> Following are some data types that we can use with Numpy arrays:\n",
    "<br/> >>> int - integer\n",
    "<br/> >>> bool - boolean\n",
    "<br/> >>> float - float\n",
    "<br/> >>> object - object\n",
    "<br/> >>> str - string\n",
    "<br/> Syntax: numpy.array(collection_object,dtype=data_type_name)\n",
    "</h5>"
   ]
  },
  {
   "cell_type": "code",
   "execution_count": 25,
   "metadata": {},
   "outputs": [
    {
     "name": "stdout",
     "output_type": "stream",
     "text": [
      "['1' '2' '3' '4' '5'] <U1\n",
      "<class 'numpy.str_'>\n"
     ]
    }
   ],
   "source": [
    "# Using a list of integers and 'dtype' to convert the list elements\n",
    "# into string and then create the numpy array \n",
    "import numpy as np\n",
    "l1=[1,2,3,4,5]\n",
    "ar1=np.array(l1,dtype=str)\n",
    "print(ar1,ar1.dtype)\n",
    "print(type(ar1[0]))"
   ]
  },
  {
   "cell_type": "markdown",
   "metadata": {},
   "source": [
    "<h4>06 Using astype() to convert data types</h4>\n",
    "<h5>> We can change the data type of the elements of an existing Numpy array to other data type using astype()\n",
    "<br/>> Syntax: new_array=numpy_array.astype(new_data_type_name)\n",
    "</h5>"
   ]
  },
  {
   "cell_type": "code",
   "execution_count": 41,
   "metadata": {},
   "outputs": [
    {
     "name": "stdout",
     "output_type": "stream",
     "text": [
      "[10 20 30 40 50] int32\n",
      "['10' '20' '30' '40' '50'] <U11\n",
      "[10. 20. 30. 40. 50.] float64\n"
     ]
    }
   ],
   "source": [
    "import numpy as np\n",
    "l1=[10,20,30,40,50]\n",
    "ar1=np.array(l1)\n",
    "print(ar1,ar1.dtype)\n",
    "ar2=ar1.astype(str)\n",
    "print(ar2,ar2.dtype)\n",
    "ar3=ar1.astype(\"float\")\n",
    "print(ar3,ar3.dtype)"
   ]
  },
  {
   "cell_type": "markdown",
   "metadata": {},
   "source": [
    "<h4>07 Shallow copy and Deep copy</h4>\n",
    "<h5>Shallow copy: changes done to either objects are relfected on both objects as both are reference to same memory location.Shallow copy can be created as follows:\n",
    "<br/>>>> numpy_array_copy=numpy_array_original\n",
    "<br/>>>> numpy_array_copy=numpy_array_original.view()\n",
    "<br>>>>>> when using view() although the addresses of original and copy objects are different, even then the changes take place is both.\n",
    "<br/>Deep copy: changes done to one object is not reflected in other as their addresses are different. Deep copy can be created as follows:\n",
    "<br/>>>> numpy_array_copy=nump_array_original.copy()\n",
    "<br/>>>> numpy_array_copy=numpy.array(nump_array_original)\n",
    "</h5>"
   ]
  },
  {
   "cell_type": "code",
   "execution_count": 69,
   "metadata": {},
   "outputs": [
    {
     "name": "stdout",
     "output_type": "stream",
     "text": [
      "id(ar1)= 2363099557264 id(ar2)= 2363099557264\n",
      "id(ar1)= 2363099557264 id(ar3)= 2363225558352\n",
      "[111   2   3   4   5] [111   2   3   4   5] [111   2   3   4   5]\n"
     ]
    }
   ],
   "source": [
    "# Shallow copy using assignment operator as well as view()\n",
    "import numpy as np\n",
    "ar1=np.array([1,2,3,4,5])\n",
    "ar2=ar1 # shallow copy\n",
    "ar3=ar1.view() # shallow copy\n",
    "print(\"id(ar1)=\",id(ar1),\"id(ar2)=\",id(ar2))\n",
    "print(\"id(ar1)=\",id(ar1),\"id(ar3)=\",id(ar3)) \n",
    "# addresses are different but both are connected\n",
    "ar2[0]=111 # changes done in ar2 is reflected in ar1,ar2 and ar3\n",
    "print(ar1,ar2,ar3)"
   ]
  },
  {
   "cell_type": "code",
   "execution_count": 67,
   "metadata": {},
   "outputs": [
    {
     "name": "stdout",
     "output_type": "stream",
     "text": [
      "2363225566992 2363225571216 2363225570256\n",
      "[111  20  30  40  50] [10 20 30 40 50] [10 20 30 40 50]\n",
      "[111  20  30  40  50] [222  20  30  40  50] [10 20 30 40 50]\n",
      "[111  20  30  40  50] [222  20  30  40  50] [333  20  30  40  50]\n"
     ]
    }
   ],
   "source": [
    "# Deep copy using numpy.array() and copy() methods\n",
    "import numpy as np\n",
    "ar1=np.array([10,20,30,40,50])\n",
    "ar2=np.array(ar1) # deep copy\n",
    "ar3=ar1.copy() # deep copy\n",
    "print(id(ar1),id(ar2),id(ar3)) # all addresses are different\n",
    "ar1[0]=111 # changes done in ar1 is not reflected in ar2 and ar3\n",
    "print(ar1,ar2,ar3)\n",
    "ar2[0]=222 # changes done in ar2 is not reflected in ar1 and ar3\n",
    "print(ar1,ar2,ar3)\n",
    "ar3[0]=333 # changes done in ar3 is not reflected in ar1 and ar2\n",
    "print(ar1,ar2,ar3)"
   ]
  },
  {
   "cell_type": "markdown",
   "metadata": {},
   "source": [
    "<h4>08 shape: to view the dimensions of a Numpy array</h4>\n",
    "<h5>> shape property helps us to get the dimensions of the numpy array\n",
    "<br/>> It returns a tuple where number of elements in the tuple represents the number of dimensions and each element in the tuple represents number of elements present in each dimension\n",
    "</h5>"
   ]
  },
  {
   "cell_type": "code",
   "execution_count": 82,
   "metadata": {},
   "outputs": [
    {
     "name": "stdout",
     "output_type": "stream",
     "text": [
      "[10 20 30]\n",
      "(3,)\n",
      "[[1 2 3]\n",
      " [4 5 6]\n",
      " [7 8 9]]\n",
      "(3, 3)\n"
     ]
    }
   ],
   "source": [
    "import numpy as np\n",
    "ar1=np.array([10,20,30])\n",
    "print(ar1)\n",
    "print(ar1.shape) \n",
    "# (3,) it means there is only 1 dimension and there are 3 elements\n",
    "# in that dimension\n",
    "ar2=np.array([[1,2,3],[4,5,6],[7,8,9]])\n",
    "print(ar2)\n",
    "print(ar2.shape)\n",
    "# (3, 3) it means there are 2 dimensions and \n",
    "# in each dimension there are 3 elements each"
   ]
  },
  {
   "cell_type": "markdown",
   "metadata": {},
   "source": [
    "<h4>09 reshape(): to change the dimensions of a Numpy array</h4>\n",
    "<h5>reshape() returns a numpy array with specified dimensions\n",
    "<br/>>> It can take virtually any number of arguments\n",
    "<br/>>> Each input argument can only be integer value\n",
    "<br/>>> The number of input arguments represents the number of dimensions and argument value represents number of elements present in each dimension\n",
    "<br/>>> The product of the input arguments should be equal to the number elements present in the numpy array object or else reshaping will not work\n",
    "<br/>>> We can provide -1 to only one of the dimensions, so that python by itself can decide the number of elements for that dimension\n",
    "<br/>>> If we are using only one dimension and put its value to -1 then the multi-dimension array is flattened to a single dimension array\n",
    "</h5>"
   ]
  },
  {
   "cell_type": "code",
   "execution_count": 91,
   "metadata": {},
   "outputs": [
    {
     "name": "stdout",
     "output_type": "stream",
     "text": [
      "[1 2 3 4 5 6 7 8 9]\n",
      "(9,)\n",
      "[[1 2 3]\n",
      " [4 5 6]\n",
      " [7 8 9]] (3, 3)\n"
     ]
    }
   ],
   "source": [
    "# Using reshape() to build a 3x3 array from an array of 9 elements\n",
    "import numpy as np\n",
    "ar1=np.array([1,2,3,4,5,6,7,8,9])\n",
    "print(ar1)\n",
    "print(ar1.shape)\n",
    "# (9,) there is only 1 dimension with 9 elements\n",
    "ar2=ar1.reshape(3,3) \n",
    "# calling reshape() returns the reshaped object\n",
    "# reshaping ar1 to have 2 dimensions and\n",
    "# there will be 3 elements in each dimension\n",
    "print(ar2,ar2.shape)\n"
   ]
  },
  {
   "cell_type": "code",
   "execution_count": 95,
   "metadata": {},
   "outputs": [
    {
     "name": "stdout",
     "output_type": "stream",
     "text": [
      "[1 2 3 4 5 6 7 8 9] (9,)\n",
      "[[1 2 3]\n",
      " [4 5 6]\n",
      " [7 8 9]] (3, 3)\n",
      "[1 2 3 4 5 6 7 8 9] (9,)\n"
     ]
    }
   ],
   "source": [
    "# Using -1 as a dimension value in reshape()\n",
    "import numpy as np\n",
    "ar1=np.array([1,2,3,4,5,6,7,8,9])\n",
    "print(ar1,ar1.shape)\n",
    "ar2=ar1.reshape(3,-1)\n",
    "# while reshaping python will use 3 as the second argument as\n",
    "# we have specified it as -1\n",
    "print(ar2,ar2.shape)\n",
    "ar3=ar2.reshape(-1) # flattening the array to single dimension\n",
    "print(ar3,ar3.shape)"
   ]
  },
  {
   "cell_type": "markdown",
   "metadata": {},
   "source": [
    "<h4>10 Iterating through a Numpy array</h4>\n",
    "<h5>> In a multi dimension array we need nested for loops to iterate through each element in a multi-dimensional array\n",
    "<br/>> We can use nditer(numpy_array) method to iterate through each element in a mutli-dimensional array using a single for loop\n",
    "</h5>"
   ]
  },
  {
   "cell_type": "code",
   "execution_count": 104,
   "metadata": {},
   "outputs": [
    {
     "name": "stdout",
     "output_type": "stream",
     "text": [
      "(3, 3)\n",
      "[1 2 3]\n",
      "[4 5 6]\n",
      "[7 8 9]\n",
      "1\n",
      "2\n",
      "3\n",
      "4\n",
      "5\n",
      "6\n",
      "7\n",
      "8\n",
      "9\n"
     ]
    }
   ],
   "source": [
    "import numpy as np\n",
    "ar1=np.array([1,2,3,4,5,6,7,8,9]).reshape(3,3)\n",
    "print(ar1.shape)\n",
    "for n in ar1: # the array is accessed row wise\n",
    "    print(n)\n",
    "for n in np.nditer(ar1): # individual elements are accessed\n",
    "    print(n)"
   ]
  },
  {
   "cell_type": "markdown",
   "metadata": {},
   "source": [
    "<h4>11(a) Joining Numpy arrays</h4>\n",
    "<h5>> Using: concatenate((ar1,ar2,...,arn),axis=0)\n",
    "<br/>>> Join a sequence of arrays along an existing axis.\n",
    "<br/>>> Concatenation can only be done with arrays with same dimensions.\n",
    "<br/> >>> If axis is None,arrays are flattened before use. Default is 0.\n",
    "<br/>>>> axis=0 for concatenating vertically (row-wise) (by default), here the number of columns in all the source arrays should be same. \n",
    "<br/>>>>>> In the resultant array the number of rows will increase but the number columns will remain the same.\n",
    "<br/>>>> axis=1 for concatenating horizontally (column-wise), here the number of rows in all the source arrays should be same.\n",
    "<br/>>>>>> In the resultant array the number of columns will increase but the number rows will remain the same.\n",
    "</h5>"
   ]
  },
  {
   "cell_type": "code",
   "execution_count": 9,
   "metadata": {},
   "outputs": [
    {
     "name": "stdout",
     "output_type": "stream",
     "text": [
      "ar1:  1 (3,)\n",
      "ar2:  1 (4,)\n",
      "[10 20 30 40 50 60 70]\n"
     ]
    }
   ],
   "source": [
    "# Concatenating 1-D array of same dimension but different sizes\n",
    "import numpy as np\n",
    "ar1=np.array([10,20,30])\n",
    "ar2=np.array([40,50,60,70])\n",
    "print(\"ar1: \",ar1.ndim,ar1.shape)\n",
    "print(\"ar2: \",ar2.ndim,ar2.shape)\n",
    "# same dimensions but different shapes\n",
    "ar3=np.concatenate((ar1,ar2))\n",
    "print(ar3)"
   ]
  },
  {
   "cell_type": "code",
   "execution_count": 26,
   "metadata": {},
   "outputs": [
    {
     "name": "stdout",
     "output_type": "stream",
     "text": [
      "ar1:  2 (2, 4)\n",
      "ar2:  2 (1, 4)\n",
      "ar3:  2 (3, 4)\n",
      "[[ 1  2  3  4]\n",
      " [ 5  6  7  8]\n",
      " [10 20 30 40]]\n"
     ]
    }
   ],
   "source": [
    "# Using concatenate() function for vertical stacking\n",
    "# axis=0 for concatenating vertically (row-wise) (by default), \n",
    "# here the number of columns in all the source arrays should be same.\n",
    "import numpy as np\n",
    "l1=[\n",
    "    [1,2,3,4],\n",
    "    [5,6,7,8]\n",
    "]\n",
    "l2=[\n",
    "    [10,20,30,40]\n",
    "]\n",
    "ar1=np.array(l1)\n",
    "ar2=np.array(l2)\n",
    "print(\"ar1: \",ar1.ndim,ar1.shape)\n",
    "print(\"ar2: \",ar2.ndim,ar2.shape)\n",
    "ar3=np.concatenate((ar1,ar2),axis=0) \n",
    "# axis=0 for conctenating vertically (by default)\n",
    "# so the number of columns in ar1 and ar2 should be same\n",
    "print(\"ar3: \",ar3.ndim,ar3.shape)\n",
    "print(ar3)\n",
    "# in result number of columns are same but number rows have increased"
   ]
  },
  {
   "cell_type": "code",
   "execution_count": 25,
   "metadata": {},
   "outputs": [
    {
     "name": "stdout",
     "output_type": "stream",
     "text": [
      "ar1:  2 (2, 4)\n",
      "ar2:  2 (2, 2)\n",
      "ar3:  2 (2, 6)\n",
      "[[ 1  2  3  4 10 20]\n",
      " [ 5  6  7  8 30 40]]\n"
     ]
    }
   ],
   "source": [
    "# Using concatenate() function for horizontal stacking\n",
    "# axis=1 for concatenating horizontally (column-wise), \n",
    "# here the number of rows in all the source arrays should be same.\n",
    "import numpy as np\n",
    "l1=[\n",
    "    [1,2,3,4],\n",
    "    [5,6,7,8]\n",
    "]\n",
    "l2=[\n",
    "    [10,20],\n",
    "    [30,40]\n",
    "]\n",
    "ar1=np.array(l1)\n",
    "ar2=np.array(l2)\n",
    "print(\"ar1: \",ar1.ndim,ar1.shape)\n",
    "print(\"ar2: \",ar2.ndim,ar2.shape)\n",
    "ar3=np.concatenate((ar1,ar2),axis=1) \n",
    "# axis=1 for conctenating horizontally\n",
    "# so the number of rows in ar1 and ar2 should be same\n",
    "print(\"ar3: \",ar3.ndim,ar3.shape)\n",
    "print(ar3)\n",
    "# in result number of rows are same but number columns have increased"
   ]
  },
  {
   "cell_type": "markdown",
   "metadata": {},
   "source": [
    "<h4>11(b) Joining Numpy arrays</h4>\n",
    "<h5>> Using: stack((ar1,ar2,...),axis=0)\n",
    "<br/>>> Join a sequence of arrays along a new axis of the resultant array\n",
    "<br/>>> The dimensions and shape of the source arrays should be exactly same\n",
    "<br/>>> The resultant stacked array has one more dimension than the source arrays\n",
    "<br/>>>> axis=0: it performs column-wise pairing (by default)\n",
    "<br/>>>>>> taking each vertical column at a time from each array and place them column-wise in the resultant array\n",
    "<br/>>>> axis=1: it performs row-wise pairing\n",
    "<br/>>>>>> taking each horizontal row at a time from each array and place them row-wise in the resultant array\n",
    "</h5>"
   ]
  },
  {
   "cell_type": "code",
   "execution_count": 38,
   "metadata": {},
   "outputs": [
    {
     "name": "stdout",
     "output_type": "stream",
     "text": [
      "ar1:  1 (3,)\n",
      "ar2:  1 (3,)\n",
      "ar3:  2 (2, 3)\n",
      "[[10 20 30]\n",
      " [40 50 60]]\n"
     ]
    }
   ],
   "source": [
    "# Using stack() function for stacking 1-D arrays\n",
    "# The resultant array will be a 2-D array (source dimension + 1 dimension)\n",
    "# axis=0 it performs column-wise pairing (by default)\n",
    "# taking each vertical column at a time from each array and \n",
    "# place them column-wise in the resultant array\n",
    "import numpy as np\n",
    "ar1=np.array([10,20,30])\n",
    "ar2=np.array([40,50,60])\n",
    "print(\"ar1: \",ar1.ndim,ar1.shape)\n",
    "print(\"ar2: \",ar2.ndim,ar2.shape)\n",
    "ar3=np.stack((ar1,ar2)) # axis=0\n",
    "print(\"ar3: \",ar3.ndim,ar3.shape)\n",
    "print(ar3)"
   ]
  },
  {
   "cell_type": "code",
   "execution_count": 37,
   "metadata": {},
   "outputs": [
    {
     "name": "stdout",
     "output_type": "stream",
     "text": [
      "ar1:  2 (2, 4)\n",
      "ar2:  2 (2, 4)\n",
      "ar3:  3 (2, 2, 4)\n",
      "[[[ 1  2  3  4]\n",
      "  [ 5  6  7  8]]\n",
      "\n",
      " [[10 20 30 40]\n",
      "  [50 60 70 80]]]\n"
     ]
    }
   ],
   "source": [
    "# Using stack() function for stacking 2-D arrays\n",
    "# axis=0: it performs column-wise pairing \n",
    "# taking each vertical column at a time from each array \n",
    "# and place them column-wise in the resultant array\n",
    "# dimensions and shape of source arrays should be same\n",
    "import numpy as np\n",
    "l1=[\n",
    "    [1,2,3,4],\n",
    "    [5,6,7,8]\n",
    "]\n",
    "l2=[\n",
    "    [10,20,30,40],\n",
    "    [50,60,70,80],\n",
    "]\n",
    "ar1=np.array(l1)\n",
    "ar2=np.array(l2)\n",
    "print(\"ar1: \",ar1.ndim,ar1.shape)\n",
    "print(\"ar2: \",ar2.ndim,ar2.shape)\n",
    "ar3=np.stack((ar1,ar2),axis=0) \n",
    "print(\"ar3: \",ar3.ndim,ar3.shape)\n",
    "print(ar3)"
   ]
  },
  {
   "cell_type": "code",
   "execution_count": 32,
   "metadata": {},
   "outputs": [
    {
     "name": "stdout",
     "output_type": "stream",
     "text": [
      "ar1:  2 (2, 4)\n",
      "ar2:  2 (2, 4)\n",
      "ar3:  3 (2, 2, 4)\n",
      "[[[ 1  2  3  4]\n",
      "  [10 20 30 40]]\n",
      "\n",
      " [[ 5  6  7  8]\n",
      "  [50 60 70 80]]]\n"
     ]
    }
   ],
   "source": [
    "# Using stack() for 2-D arrays\n",
    "# axis=1: it performs row-wise pairing\n",
    "# taking each horizontal row at a time from each array and \n",
    "# place them row-wise in the resultant array\n",
    "l1=[\n",
    "    [1,2,3,4],\n",
    "    [5,6,7,8]\n",
    "]\n",
    "l2=[\n",
    "    [10,20,30,40],\n",
    "    [50,60,70,80],\n",
    "]\n",
    "ar1=np.array(l1)\n",
    "ar2=np.array(l2)\n",
    "print(\"ar1: \",ar1.ndim,ar1.shape)\n",
    "print(\"ar2: \",ar2.ndim,ar2.shape)\n",
    "ar3=np.stack((ar1,ar2),axis=1)\n",
    "print(\"ar3: \",ar3.ndim,ar3.shape)\n",
    "print(ar3)"
   ]
  },
  {
   "cell_type": "markdown",
   "metadata": {},
   "source": [
    "<h4>11(c) Joining Numpy arrays</h4>\n",
    "<h5>> Using: hstack((ar1,ar2,...))\n",
    "<br/>>> Stack arrays in sequence horizontally (column wise)\n",
    "<br/>>> All the source arrays should be of same number of rows.\n",
    "<br/>>> Each row from each source array is arranged from left to right and placed in the resultant array\n",
    "</h5>"
   ]
  },
  {
   "cell_type": "code",
   "execution_count": 3,
   "metadata": {},
   "outputs": [
    {
     "name": "stdout",
     "output_type": "stream",
     "text": [
      "ar1= 1 (3,)\n",
      "[10 20 30]\n",
      "ar2= 1 (3,)\n",
      "[40 50 60]\n",
      "ar3= 1 (6,)\n",
      "[10 20 30 40 50 60]\n"
     ]
    }
   ],
   "source": [
    "# Using hstack() to stack along rows on 1-D array\n",
    "import numpy as np\n",
    "ar1=np.array([10,20,30])\n",
    "ar2=np.array([40,50,60])\n",
    "print(\"ar1=\",ar1.ndim,ar1.shape)\n",
    "print(ar1)\n",
    "print(\"ar2=\",ar2.ndim,ar2.shape)\n",
    "print(ar2)\n",
    "ar3=np.hstack((ar1,ar2))\n",
    "print(\"ar3=\",ar3.ndim,ar3.shape)\n",
    "print(ar3)"
   ]
  },
  {
   "cell_type": "code",
   "execution_count": 12,
   "metadata": {},
   "outputs": [
    {
     "name": "stdout",
     "output_type": "stream",
     "text": [
      "ar1= 2 (2, 4)\n",
      "[[  1   2   3 100]\n",
      " [  4   5   6 200]]\n",
      "ar2= 2 (2, 3)\n",
      "[[ 7  8  9]\n",
      " [10 11 12]]\n",
      "ar3= 2 (2, 7)\n",
      "[[  1   2   3 100   7   8   9]\n",
      " [  4   5   6 200  10  11  12]]\n"
     ]
    }
   ],
   "source": [
    "# Using hstack() to stack along rows on 2-D array\n",
    "import numpy as np\n",
    "l1=[\n",
    "    [1,2,3,100],\n",
    "    [4,5,6,200]\n",
    "]\n",
    "l2=[\n",
    "    [7,8,9],    \n",
    "    [10,11,12],\n",
    "]\n",
    "ar1=np.array(l1)\n",
    "ar2=np.array(l2)\n",
    "print(\"ar1=\",ar1.ndim,ar1.shape)\n",
    "print(ar1)\n",
    "print(\"ar2=\",ar2.ndim,ar2.shape)\n",
    "print(ar2)\n",
    "ar3=np.hstack((ar1,ar2))\n",
    "print(\"ar3=\",ar3.ndim,ar3.shape)\n",
    "print(ar3)"
   ]
  },
  {
   "cell_type": "markdown",
   "metadata": {},
   "source": [
    "<h4>11(d) Joining Numpy arrays</h4>\n",
    "<h5>> Using: vstack((ar1,ar2,...))\n",
    "<br/>>> Stack arrays in sequence vertically (row wise).\n",
    "<br/>>> All the source arrays should be of same number of columns.\n",
    "<br/>>> Each entire source array is arranged from top to bottom and placed in the resultant array\n",
    "</h5>"
   ]
  },
  {
   "cell_type": "code",
   "execution_count": 15,
   "metadata": {},
   "outputs": [
    {
     "name": "stdout",
     "output_type": "stream",
     "text": [
      "ar1= 1 (3,)\n",
      "[10 20 30]\n",
      "ar2= 1 (3,)\n",
      "[40 50 60]\n",
      "ar3= 2 (2, 3)\n",
      "[[10 20 30]\n",
      " [40 50 60]]\n"
     ]
    }
   ],
   "source": [
    "# Using vstack() to stack along rows on 1-D array\n",
    "import numpy as np\n",
    "ar1=np.array([10,20,30])\n",
    "ar2=np.array([40,50,60])\n",
    "print(\"ar1=\",ar1.ndim,ar1.shape)\n",
    "print(ar1)\n",
    "print(\"ar2=\",ar2.ndim,ar2.shape)\n",
    "print(ar2)\n",
    "ar3=np.vstack((ar1,ar2))\n",
    "print(\"ar3=\",ar3.ndim,ar3.shape)\n",
    "print(ar3)"
   ]
  },
  {
   "cell_type": "code",
   "execution_count": 18,
   "metadata": {},
   "outputs": [
    {
     "name": "stdout",
     "output_type": "stream",
     "text": [
      "ar1= 2 (3, 3)\n",
      "[[  1   2   3]\n",
      " [  4   5   6]\n",
      " [100 200 300]]\n",
      "ar2= 2 (2, 3)\n",
      "[[ 7  8  9]\n",
      " [10 11 12]]\n",
      "ar3= 2 (5, 3)\n",
      "[[  1   2   3]\n",
      " [  4   5   6]\n",
      " [100 200 300]\n",
      " [  7   8   9]\n",
      " [ 10  11  12]]\n"
     ]
    }
   ],
   "source": [
    "# Using vstack() to stack along rows on 2-D array\n",
    "import numpy as np\n",
    "l1=[\n",
    "    [1,2,3],\n",
    "    [4,5,6],\n",
    "    [100,200,300]\n",
    "]\n",
    "l2=[\n",
    "    [7,8,9],    \n",
    "    [10,11,12],\n",
    "]\n",
    "ar1=np.array(l1)\n",
    "ar2=np.array(l2)\n",
    "print(\"ar1=\",ar1.ndim,ar1.shape)\n",
    "print(ar1)\n",
    "print(\"ar2=\",ar2.ndim,ar2.shape)\n",
    "print(ar2)\n",
    "ar3=np.vstack((ar1,ar2))\n",
    "print(\"ar3=\",ar3.ndim,ar3.shape)\n",
    "print(ar3)"
   ]
  },
  {
   "cell_type": "markdown",
   "metadata": {},
   "source": [
    "<h4>12 Splitting Numpy arrays</h4>\n",
    "<h5>> Using: numpy.array_split(array,number_of_splits,axis=0)\n",
    "<br/>>> Split an array into multiple sub-arrays\n",
    "<br/>>> It returns a list of numpy arrays (ndarray)\n",
    "<br/>>> If number of splits are more than the number of elements in the source array then it inserts empty ndarrays in the resultant list\n",
    "<br/>>> axis=0 (default), it splits along columns, in 2-D arrays all the column elements from each row is considered while creating the splits\n",
    "<br/>>> axis=1 , it splits along rows, in 2-D arrays all the row elements along each column is considered while creating the splits \n",
    "</h5>"
   ]
  },
  {
   "cell_type": "code",
   "execution_count": 38,
   "metadata": {},
   "outputs": [
    {
     "name": "stdout",
     "output_type": "stream",
     "text": [
      "ar1= 1 (9,)\n",
      "[1 2 3 4 5 6 7 8 9]\n",
      "[array([1, 2, 3]), array([4, 5]), array([6, 7]), array([8, 9])] <class 'list'>\n"
     ]
    }
   ],
   "source": [
    "# Using array_split() to split a 1-D array\n",
    "import numpy as np\n",
    "ar1=np.array([1,2,3,4,5,6,7,8,9])\n",
    "print(\"ar1=\",ar1.ndim,ar1.shape)\n",
    "print(ar1)\n",
    "ar2=np.array_split(ar1,4)\n",
    "print(ar2,type(ar2))"
   ]
  },
  {
   "cell_type": "code",
   "execution_count": 32,
   "metadata": {},
   "outputs": [
    {
     "name": "stdout",
     "output_type": "stream",
     "text": [
      "ar1= 2 (3, 3)\n",
      "[[1 2 3]\n",
      " [4 5 6]\n",
      " [7 8 9]]\n",
      "[array([[1, 2, 3],\n",
      "       [4, 5, 6]]), array([[7, 8, 9]])] <class 'list'>\n"
     ]
    }
   ],
   "source": [
    "# Using array_split() to split a 2-D array with axis=0\n",
    "import numpy as np\n",
    "l1=[\n",
    "    [1,2,3],\n",
    "    [4,5,6],\n",
    "    [7,8,9]\n",
    "]\n",
    "ar1=np.array(l1)\n",
    "print(\"ar1=\",ar1.ndim,ar1.shape)\n",
    "print(ar1)\n",
    "ar2=np.array_split(ar1,2)\n",
    "print(ar2,type(ar2))"
   ]
  },
  {
   "cell_type": "code",
   "execution_count": 35,
   "metadata": {},
   "outputs": [
    {
     "name": "stdout",
     "output_type": "stream",
     "text": [
      "ar1= 2 (3, 3)\n",
      "[[1 2 3]\n",
      " [4 5 6]\n",
      " [7 8 9]]\n",
      "[array([[1, 2],\n",
      "       [4, 5],\n",
      "       [7, 8]]), array([[3],\n",
      "       [6],\n",
      "       [9]])] <class 'list'>\n"
     ]
    }
   ],
   "source": [
    "# Using array_split() to split a 2-D array with axis=1\n",
    "import numpy as np\n",
    "l1=[\n",
    "    [1,2,3],\n",
    "    [4,5,6],\n",
    "    [7,8,9]\n",
    "]\n",
    "ar1=np.array(l1)\n",
    "print(\"ar1=\",ar1.ndim,ar1.shape)\n",
    "print(ar1)\n",
    "ar2=np.array_split(ar1,2,axis=1)\n",
    "print(ar2,type(ar2))"
   ]
  },
  {
   "cell_type": "markdown",
   "metadata": {},
   "source": [
    "<h4>13 Searching in Numpy arrays</h4>\n",
    "<h5>> Using: numpy.where(condition_using_numpy_array)\n",
    "<br/>>> Searching the numpy array for values\n",
    "<br/>>> It returns a tuple containing the indexes where the search result has come true\n",
    "<br/>>> For 2-D arrays it returns the intersection points of row and column indexes where the conditions are met in the 2-D array\n",
    "</h5>"
   ]
  },
  {
   "cell_type": "code",
   "execution_count": 41,
   "metadata": {},
   "outputs": [
    {
     "name": "stdout",
     "output_type": "stream",
     "text": [
      "ar1= 1 (9,)\n",
      "[1 2 3 4 5 6 7 8 9]\n",
      "(array([1, 3, 5, 7], dtype=int64),) <class 'tuple'>\n"
     ]
    }
   ],
   "source": [
    "# Using where() to perform searching in 1-Darray\n",
    "import numpy as np\n",
    "l1=[1,2,3,4,5,6,7,8,9]\n",
    "ar1=np.array(l1)\n",
    "print(\"ar1=\",ar1.ndim,ar1.shape)\n",
    "print(ar1)\n",
    "res=np.where(ar1%2==0) #searching for even values in ar1\n",
    "print(res,type(res))"
   ]
  },
  {
   "cell_type": "code",
   "execution_count": 43,
   "metadata": {},
   "outputs": [
    {
     "name": "stdout",
     "output_type": "stream",
     "text": [
      "ar1= 2 (3, 3)\n",
      "[[1 2 3]\n",
      " [4 5 6]\n",
      " [7 8 9]]\n",
      "(array([1], dtype=int64), array([1], dtype=int64)) <class 'tuple'>\n"
     ]
    }
   ],
   "source": [
    "# Using where() to perform searching in 2-D array\n",
    "import numpy as np\n",
    "l1=[\n",
    "    [1,2,3],\n",
    "    [4,5,6],\n",
    "    [7,8,9]\n",
    "]\n",
    "ar1=np.array(l1)\n",
    "print(\"ar1=\",ar1.ndim,ar1.shape)\n",
    "print(ar1)\n",
    "res=np.where(ar1==5)\n",
    "print(res,type(res))"
   ]
  },
  {
   "cell_type": "markdown",
   "metadata": {},
   "source": [
    "<h4>14 Sorting in Numpy arrays</h4>\n",
    "<h5>> Using: sort(array,kind)\n",
    "<br/>>> Sorts the array in ascending order\n",
    "<br/>>> \"kind\" is the sorting algorithm used, any of the following types can be specified: 'quicksort', 'mergesort', 'heapsort', 'stable'\n",
    "<br/>>> The default is kind='quicksort'\n",
    "</h5>"
   ]
  },
  {
   "cell_type": "code",
   "execution_count": 48,
   "metadata": {},
   "outputs": [
    {
     "name": "stdout",
     "output_type": "stream",
     "text": [
      "[10  9  8  7]\n",
      "[ 7  8  9 10]\n"
     ]
    }
   ],
   "source": [
    "# Using numpy.sort() to sort an array\n",
    "import numpy as np\n",
    "ar1=np.array([10,9,8,7])\n",
    "print(ar1)\n",
    "ar1.sort()\n",
    "print(ar1)"
   ]
  },
  {
   "cell_type": "markdown",
   "metadata": {},
   "source": [
    "<h4>15 Applying filter on Numpy arrays</h4>\n",
    "<h5>> Applying a filter would return an array of only those elements where the filter condition is satisfied\n",
    "<br/>>> We first create a list of boolean values L1 and use that list object with the array, i.e array[L1], this would generate a array of only those elements on whose index positions boolean True is present in the list L1\n",
    "<br/>>> We can create a boolean list from an array by using conditional operator on the array and store the resultant list containing boolean values in a list object.\n",
    "</h5>"
   ]
  },
  {
   "cell_type": "code",
   "execution_count": 55,
   "metadata": {},
   "outputs": [
    {
     "name": "stdout",
     "output_type": "stream",
     "text": [
      "[True, False, True, False, True] <class 'list'>\n",
      "[1 2 3 4 5] <class 'numpy.ndarray'>\n",
      "[1 3 5] <class 'numpy.ndarray'>\n",
      "[False False  True  True  True] <class 'numpy.ndarray'>\n"
     ]
    }
   ],
   "source": [
    "# Applying filter on array\n",
    "import numpy as np\n",
    "l1=[True,False,True,False,True]\n",
    "print(l1,type(l1))\n",
    "ar1=np.array([1,2,3,4,5])\n",
    "print(ar1,type(ar1))\n",
    "ar2=ar1[l1]\n",
    "print(ar2,type(ar2))\n",
    "ar3=ar1>2\n",
    "print(ar3,type(ar3))"
   ]
  },
  {
   "cell_type": "markdown",
   "metadata": {},
   "source": [
    "<h4>16 Random Numbers in NumPy</h4>\n",
    "<h5>> NumPy offers the random module to work with random numbers.\n",
    "<br>> code: from numpy import random\n",
    "<hr/>\n",
    "<br/>> (i) random.randint(low, high=None, size=None)\n",
    "<br/>> Returns random integers from `low` (inclusive) to `high` (exclusive).\n",
    "</h5>"
   ]
  },
  {
   "cell_type": "code",
   "execution_count": 6,
   "metadata": {},
   "outputs": [
    {
     "name": "stdout",
     "output_type": "stream",
     "text": [
      "19\n",
      "[ 6 17 13 15  1  9 10  0 12  5]\n",
      "[[18  3 16]\n",
      " [ 8  4 18]\n",
      " [10  0  5]]\n"
     ]
    }
   ],
   "source": [
    "# Using random.randint(low, high=None, size=None)\n",
    "import numpy as np\n",
    "from numpy import random\n",
    "# generating one random integer number between 0 and 19\n",
    "print(random.randint(20))\n",
    "# generating a list of 10 random integers between 0 and 19\n",
    "print(random.randint(low=0,high=20,size=10))\n",
    "# generating a two dimensional list of 9 random integers between 0 to 19\n",
    "print(random.randint(low=0,high=20,size=(3,3)))"
   ]
  },
  {
   "cell_type": "markdown",
   "metadata": {},
   "source": [
    "<h5>> (ii) random.rand(d0,d1,...dn)\n",
    "<br/>> Returns a random float value from 0 to 1\n",
    "<br/>> We can specify the numnber of elements to be generated\n",
    "</h5>"
   ]
  },
  {
   "cell_type": "code",
   "execution_count": 10,
   "metadata": {},
   "outputs": [
    {
     "name": "stdout",
     "output_type": "stream",
     "text": [
      "0.9795662737927455\n",
      "[0.68611811 0.61400313 0.50764958 0.88279581 0.71209232]\n",
      "[[0.53657014 0.33633317 0.12553613]\n",
      " [0.01199755 0.66786174 0.31036203]\n",
      " [0.95227151 0.39982013 0.44062707]]\n"
     ]
    }
   ],
   "source": [
    "import numpy\n",
    "from numpy import random\n",
    "# generating one random floating point number from 0 to 1 \n",
    "print(random.rand())\n",
    "# generating one random floating point number from 0 to 1 \n",
    "# a list of 'n' number of elements\n",
    "print(random.rand(5))\n",
    "# generating one random floating point number from 0 to 1 \n",
    "# a list of 'n x m' elements\n",
    "print(random.rand(3,3))"
   ]
  },
  {
   "cell_type": "markdown",
   "metadata": {},
   "source": [
    "<h5>> (iii) random.choice(list,size=None)\n",
    "<br/>> Returns a randomly selected value from the given list\n",
    "</h5>"
   ]
  },
  {
   "cell_type": "code",
   "execution_count": 18,
   "metadata": {},
   "outputs": [
    {
     "name": "stdout",
     "output_type": "stream",
     "text": [
      "70\n",
      "[[60 50]\n",
      " [10 50]]\n"
     ]
    }
   ],
   "source": [
    "import numpy\n",
    "from numpy import random\n",
    "l1=[10,20,30,40,50,60,70,80,90]\n",
    "# selecting any one number randomly from the list l1\n",
    "print(random.choice(l1))\n",
    "# selecting numbers randomly from the list l1 and forming a 2x2 list\n",
    "print(random.choice(l1,size=(2,2)))"
   ]
  }
 ],
 "metadata": {
  "kernelspec": {
   "display_name": "Python 3.10.7 64-bit",
   "language": "python",
   "name": "python3"
  },
  "language_info": {
   "codemirror_mode": {
    "name": "ipython",
    "version": 3
   },
   "file_extension": ".py",
   "mimetype": "text/x-python",
   "name": "python",
   "nbconvert_exporter": "python",
   "pygments_lexer": "ipython3",
   "version": "3.10.7"
  },
  "orig_nbformat": 4,
  "vscode": {
   "interpreter": {
    "hash": "205b98b4d1985d493ef88a03e013826e686053393df5367dcc6e26039158c4c1"
   }
  }
 },
 "nbformat": 4,
 "nbformat_minor": 2
}
