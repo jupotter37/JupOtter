{
 "cells": [
  {
   "cell_type": "markdown",
   "metadata": {},
   "source": [
    "Chapter 5\n",
    "SORTING ALGORITHMS"
   ]
  },
  {
   "cell_type": "markdown",
   "metadata": {},
   "source": [
    "exchange operation"
   ]
  },
  {
   "cell_type": "code",
   "execution_count": 3,
   "metadata": {},
   "outputs": [
    {
     "name": "stdout",
     "output_type": "stream",
     "text": [
      "[10, 20]\n",
      "[20, 10]\n"
     ]
    }
   ],
   "source": [
    "def swap1(S, x, y):\n",
    "    S[x], S[y] = S[y], S[x]\n",
    "S = [10, 20]\n",
    "print(S)\n",
    "swap1(S, 0, 1)\n",
    "print(S)"
   ]
  },
  {
   "cell_type": "markdown",
   "metadata": {},
   "source": [
    "bubble sort"
   ]
  },
  {
   "cell_type": "code",
   "execution_count": 15,
   "metadata": {},
   "outputs": [
    {
     "name": "stdout",
     "output_type": "stream",
     "text": [
      "Pass 1:\n",
      "[30, 50, 40, 10, 20]\n",
      "[30, 40, 50, 10, 20]\n",
      "[30, 40, 10, 50, 20]\n",
      "[30, 40, 10, 20, 50]\n",
      "Pass 2:\n",
      "[30, 40, 10, 20, 50]\n",
      "[30, 10, 40, 20, 50]\n",
      "[30, 10, 20, 40, 50]\n",
      "Pass 3:\n",
      "[10, 30, 20, 40, 50]\n",
      "[10, 20, 30, 40, 50]\n",
      "Pass 4:\n",
      "[10, 20, 30, 40, 50]\n",
      "Pass 5:\n",
      "Swap count: 8\n",
      "Sorted list: [10, 20, 30, 40, 50]\n"
     ]
    }
   ],
   "source": [
    "def bubble_sort(S):\n",
    "    n = len(S)\n",
    "    swap_count = 0\n",
    "    for i in range(n):\n",
    "        print(f\"Pass {i + 1}:\")\n",
    "        for j in range(n - 1 - i):\n",
    "            if S[j] > S[j + 1]:\n",
    "                S[j], S[j + 1] = S[j + 1], S[j]\n",
    "                swap_count += 1\n",
    "            print(S)  # Print the list after each potential swap\n",
    "    print(\"Swap count:\", swap_count)\n",
    "    return S\n",
    "\n",
    "S = [50, 30, 40, 10, 20]\n",
    "bubble_sort(S)\n",
    "print(\"Sorted list:\", S)\n"
   ]
  },
  {
   "cell_type": "markdown",
   "metadata": {},
   "source": [
    "selection sort"
   ]
  },
  {
   "cell_type": "code",
   "execution_count": 8,
   "metadata": {},
   "outputs": [
    {
     "name": "stdout",
     "output_type": "stream",
     "text": [
      "[] [50, 30, 40, 10, 20]\n",
      "[10] [50, 30, 40, 20]\n",
      "[10, 20] [50, 30, 40]\n",
      "[10, 20, 30] [50, 40]\n",
      "[10, 20, 30, 40] [50]\n",
      "[10, 20, 30, 40, 50]\n",
      "[]\n"
     ]
    }
   ],
   "source": [
    "def selectinsort1(S):\n",
    "    R = []\n",
    "    while len(S) > 0:\n",
    "        print(R, S)\n",
    "        smallest = S.index(min(S))\n",
    "        R.append(S[smallest])\n",
    "        S.pop(smallest)\n",
    "    return R\n",
    "S = [50, 30, 40, 10, 20]\n",
    "R = selectinsort1(S)\n",
    "print(R)\n",
    "print(S)"
   ]
  },
  {
   "cell_type": "code",
   "execution_count": 16,
   "metadata": {},
   "outputs": [
    {
     "name": "stdout",
     "output_type": "stream",
     "text": [
      "Pass 1: [50, 30, 40, 10, 20]\n",
      "Swapping elements at indices 0 and 3: [10, 30, 40, 50, 20]\n",
      "Pass 2: [10, 30, 40, 50, 20]\n",
      "Swapping elements at indices 1 and 4: [10, 20, 40, 50, 30]\n",
      "Pass 3: [10, 20, 40, 50, 30]\n",
      "Swapping elements at indices 2 and 4: [10, 20, 30, 50, 40]\n",
      "Pass 4: [10, 20, 30, 50, 40]\n",
      "Swapping elements at indices 3 and 4: [10, 20, 30, 40, 50]\n",
      "Sorted list: [10, 20, 30, 40, 50]\n"
     ]
    }
   ],
   "source": [
    "def selectinsort2(S):\n",
    "    n = len(S)\n",
    "    for i in range(n - 1):\n",
    "        print(f\"Pass {i + 1}: {S}\")\n",
    "        smallest = i\n",
    "        for j in range(i + 1, n):\n",
    "            if S[j] < S[smallest]:\n",
    "                smallest = j\n",
    "        S[i], S[smallest] = S[smallest], S[i]\n",
    "        print(f\"Swapping elements at indices {i} and {smallest}: {S}\")\n",
    "        \n",
    "S = [50, 30, 40, 10, 20]\n",
    "selectinsort2(S)\n",
    "print(\"Sorted list:\", S)\n"
   ]
  },
  {
   "cell_type": "code",
   "execution_count": 1,
   "metadata": {},
   "outputs": [
    {
     "name": "stdout",
     "output_type": "stream",
     "text": [
      "[50, 30, 40, 10, 20]\n",
      "1\n",
      "[30, 50, 40, 10, 20]\n",
      "2\n",
      "[30, 40, 50, 10, 20]\n",
      "5\n",
      "[10, 30, 40, 50, 20]\n",
      "8\n",
      "[10, 20, 30, 40, 50]\n"
     ]
    }
   ],
   "source": [
    "def insertionsort2(S):\n",
    "    n = len(S)\n",
    "    R = []\n",
    "    count = 0\n",
    "    for i in range(1, n):\n",
    "        print(S)\n",
    "        x = S[i]\n",
    "        j = i - 1\n",
    "        while j >= 0 and S[j] > x:\n",
    "            count += 1\n",
    "            S[j + 1] = S[j]\n",
    "            j -= 1\n",
    "        print(count)\n",
    "        S[j + 1] = x\n",
    "S = [50, 30, 40, 10, 20]\n",
    "insertionsort2(S)\n",
    "print(S)"
   ]
  },
  {
   "cell_type": "markdown",
   "metadata": {},
   "source": [
    "Pair Programming"
   ]
  },
  {
   "cell_type": "code",
   "execution_count": 13,
   "metadata": {},
   "outputs": [
    {
     "name": "stdout",
     "output_type": "stream",
     "text": [
      "True\n"
     ]
    }
   ],
   "source": [
    "def is_anagram(str1, str2):\n",
    "    if len(str1.lower()) != len(str2.lower()):\n",
    "        return False\n",
    "    \n",
    "    sorted_str1= \"\".join(sorted(str1))\n",
    "    sorted_str2= \"\".join(sorted(str2))\n",
    "    return sorted_str1 == sorted_str2\n",
    "\n",
    "print(is_anagram('LISTEN', 'SILENT'))"
   ]
  },
  {
   "cell_type": "markdown",
   "metadata": {},
   "source": [
    "bubble Sort - anagram"
   ]
  },
  {
   "cell_type": "code",
   "execution_count": 35,
   "metadata": {},
   "outputs": [
    {
     "name": "stdout",
     "output_type": "stream",
     "text": [
      "True\n"
     ]
    }
   ],
   "source": [
    "def is_anagram(str1, str2):\n",
    "    \n",
    "    def bubble_sort(lst):\n",
    "        n = len(lst)\n",
    "        for i in range(n-1):\n",
    "            if lst[i] > lst[i+1]:\n",
    "                lst[i], lst[i+1] = lst[i+1], lst[i]\n",
    "            return lst\n",
    "        str1 = bubble_sort(lst)\n",
    "        str2 = bubble_sort(lst)\n",
    "    \n",
    "    return str1 != str2\n",
    "\n",
    "print(is_anagram('SILENCE', 'LISTEN'))"
   ]
  },
  {
   "cell_type": "markdown",
   "metadata": {},
   "source": [
    "insertion anagram"
   ]
  },
  {
   "cell_type": "code",
   "execution_count": 12,
   "metadata": {},
   "outputs": [
    {
     "name": "stdout",
     "output_type": "stream",
     "text": [
      "SILENT and LISTEN are anagram\n"
     ]
    }
   ],
   "source": [
    "def is_anagram(str1, str2):\n",
    "    \n",
    "    def insertion_sort(lst):\n",
    "        for i in range(1, len(lst)):\n",
    "            key = lst[i]\n",
    "            j = i - 1\n",
    "            while j >= 0 and key < lst[j]:\n",
    "                lst[j + 1] = lst[j]\n",
    "                j -= 1\n",
    "            lst[j + 1] = key\n",
    "        return lst\n",
    "    \n",
    "    lst1 = list(str1)\n",
    "    lst2 = list(str2)\n",
    "\n",
    "    sorted_lst1 = insertion_sort(lst1)\n",
    "    sorted_lst2 = insertion_sort(lst2)\n",
    "    \n",
    "    return sorted_lst1 == sorted_lst2\n",
    "\n",
    "str1, str2 = 'SILENT', 'LISTEN'\n",
    "\n",
    "if is_anagram(str1, str2):\n",
    "    print(f'{str1} and {str2} are anagram')\n",
    "else: \n",
    "    print(f'{str1} and {str2} are not anagram')\n"
   ]
  }
 ],
 "metadata": {
  "kernelspec": {
   "display_name": "Python 3",
   "language": "python",
   "name": "python3"
  },
  "language_info": {
   "codemirror_mode": {
    "name": "ipython",
    "version": 3
   },
   "file_extension": ".py",
   "mimetype": "text/x-python",
   "name": "python",
   "nbconvert_exporter": "python",
   "pygments_lexer": "ipython3",
   "version": "3.12.3"
  }
 },
 "nbformat": 4,
 "nbformat_minor": 2
}
