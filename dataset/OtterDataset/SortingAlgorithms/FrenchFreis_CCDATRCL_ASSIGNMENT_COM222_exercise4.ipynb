{
  "cells": [
    {
      "cell_type": "markdown",
      "metadata": {
        "id": "fCO3VeNzvGDc"
      },
      "source": [
        "# Exercise 4"
      ]
    },
    {
      "cell_type": "markdown",
      "metadata": {
        "id": "UCFGr2qPKONg"
      },
      "source": [
        "#### Pre-defined sorting algorithms"
      ]
    },
    {
      "cell_type": "code",
      "execution_count": 48,
      "metadata": {
        "id": "dXWXOLWtKONg"
      },
      "outputs": [],
      "source": [
        "def mergeSort(array):\n",
        "    if len(array) > 1:\n",
        "\n",
        "        #  r is the point where the array is divided into two subarrays\n",
        "        r = len(array)//2\n",
        "        L = array[:r]\n",
        "        M = array[r:]\n",
        "\n",
        "        # Sort the two halves\n",
        "        mergeSort(L)\n",
        "        mergeSort(M)\n",
        "\n",
        "        i = j = k = 0\n",
        "\n",
        "        # Until we reach either end of either L or M, pick larger among\n",
        "        # elements L and M and place them in the correct position at A[p..r]\n",
        "        while i < len(L) and j < len(M):\n",
        "            if L[i] < M[j]:\n",
        "                array[k] = L[i]\n",
        "                i += 1\n",
        "            else:\n",
        "                array[k] = M[j]\n",
        "                j += 1\n",
        "            k += 1\n",
        "\n",
        "        # When we run out of elements in either L or M,\n",
        "        # pick up the remaining elements and put in A[p..r]\n",
        "        while i < len(L):\n",
        "            array[k] = L[i]\n",
        "            i += 1\n",
        "            k += 1\n",
        "\n",
        "        while j < len(M):\n",
        "            array[k] = M[j]\n",
        "            j += 1\n",
        "            k += 1\n",
        "\n",
        "# Print the array\n",
        "def printList(array):\n",
        "    for i in range(len(array)):\n",
        "        print(array[i], end=\" \")\n",
        "    print()"
      ]
    },
    {
      "cell_type": "code",
      "execution_count": 49,
      "metadata": {
        "id": "OB-JMVxvKONi"
      },
      "outputs": [],
      "source": [
        "def countingSort(array):\n",
        "    size = len(array)\n",
        "    output = [0] * size\n",
        "\n",
        "    # Initialize count array\n",
        "    count = [0] * 10\n",
        "\n",
        "    # Store the count of each elements in count array\n",
        "    for i in range(0, size):\n",
        "        count[array[i]] += 1\n",
        "\n",
        "    # Store the cummulative count\n",
        "    for i in range(1, 10):\n",
        "        count[i] += count[i - 1]\n",
        "\n",
        "    # Find the index of each element of the original array in count array\n",
        "    # place the elements in output array\n",
        "    i = size - 1\n",
        "    while i >= 0:\n",
        "        output[count[array[i]] - 1] = array[i]\n",
        "        count[array[i]] -= 1\n",
        "        i -= 1\n",
        "\n",
        "    # Copy the sorted elements into original array\n",
        "    for i in range(0, size):\n",
        "        array[i] = output[i]"
      ]
    },
    {
      "cell_type": "code",
      "execution_count": 50,
      "metadata": {
        "id": "VXaukk4_KONj"
      },
      "outputs": [],
      "source": [
        "def insertionSort(array):\n",
        "\n",
        "    for step in range(1, len(array)):\n",
        "        key = array[step]\n",
        "        j = step - 1\n",
        "\n",
        "        # Compare key with each element on the left of it until an element smaller than it is found\n",
        "        # For descending order, change key<array[j] to key>array[j].\n",
        "        while j >= 0 and key < array[j]:\n",
        "            array[j + 1] = array[j]\n",
        "            j = j - 1\n",
        "\n",
        "        # Place key at after the element just smaller than it.\n",
        "        array[j + 1] = key"
      ]
    },
    {
      "cell_type": "code",
      "execution_count": 51,
      "metadata": {
        "id": "b4yWHH1nKONj"
      },
      "outputs": [],
      "source": [
        "# Bubble sort in Python\n",
        "def bubbleSort(array):\n",
        "\n",
        "  # loop to access each array element\n",
        "  for i in range(len(array)):\n",
        "\n",
        "    # loop to compare array elements\n",
        "    for j in range(0, len(array) - i - 1):\n",
        "\n",
        "      # compare two adjacent elements\n",
        "      # change > to < to sort in descending order\n",
        "      if array[j] > array[j + 1]:\n",
        "\n",
        "        # swapping elements if elements\n",
        "        # are not in the intended order\n",
        "        temp = array[j]\n",
        "        array[j] = array[j+1]\n",
        "        array[j+1] = temp"
      ]
    },
    {
      "cell_type": "markdown",
      "metadata": {
        "id": "6j9PZVsyvGDe"
      },
      "source": [
        "#### 1. Sort your **student number** in **ascending order**\n",
        "\n",
        "Example:\n",
        "\n",
        "**Input: 2022123456**\n",
        "\n",
        "**Output: 0122223456**"
      ]
    },
    {
      "cell_type": "code",
      "execution_count": 52,
      "metadata": {
        "id": "UuNMRCm3vGDe",
        "outputId": "92270531-27c2-46a9-a185-a730804f3e90",
        "colab": {
          "base_uri": "https://localhost:8080/"
        }
      },
      "outputs": [
        {
          "output_type": "stream",
          "name": "stdout",
          "text": [
            "0 0 0 1 2 2 2 2 4 5 \n"
          ]
        }
      ],
      "source": [
        "input = [2, 0, 2, 2, 1, 0, 2, 5, 0, 4]\n",
        "\n",
        "countingSort(input)\n",
        "\n",
        "printList(input)\n"
      ]
    },
    {
      "cell_type": "markdown",
      "metadata": {
        "id": "felukBjnvGDf"
      },
      "source": [
        "#### 2. Sort the **dates** in **ascending order**.\n",
        "\n",
        "dates = [\"12-25-2023\", birthday, \"01-01-2023\"]\n",
        "\n",
        "Enter your birthday in the birthday variable."
      ]
    },
    {
      "cell_type": "code",
      "execution_count": 53,
      "metadata": {
        "id": "f8xQ3N0jvGDg",
        "colab": {
          "base_uri": "https://localhost:8080/"
        },
        "outputId": "ad701c3e-c0f5-4340-bc6e-fdf97a959910"
      },
      "outputs": [
        {
          "output_type": "stream",
          "name": "stdout",
          "text": [
            "02-18-2004\n",
            "01-01-2023\n",
            "12-25-2023\n"
          ]
        }
      ],
      "source": [
        "def convert_date(dates):\n",
        "    date = dates.split(\"-\")\n",
        "    return int(date[2] + date[0] + date[1])\n",
        "\n",
        "def bubbleSort(array):\n",
        "    for i in range(len(array)):\n",
        "        for j in range(0, len(array) - i - 1):\n",
        "            if convert_date(array[j]) > convert_date(array[j + 1]):\n",
        "                temp = array[j]\n",
        "                array[j] = array[j + 1]\n",
        "                array[j + 1] = temp\n",
        "\n",
        "\n",
        "birthday = \"02-18-2004\"\n",
        "\n",
        "dates = [\"12-25-2023\", birthday, \"01-01-2023\"]\n",
        "\n",
        "bubbleSort(dates)\n",
        "\n",
        "for date in dates:\n",
        "    print(date)"
      ]
    },
    {
      "cell_type": "markdown",
      "metadata": {
        "id": "IFDPeGZxvGDg"
      },
      "source": [
        "#### 3. Count the **total number of swaps** to sort the list below using **Bubble Sort**\n",
        "\n",
        "|3|2|5|1|4|\n",
        "|---|----|---|---|---|"
      ]
    },
    {
      "cell_type": "code",
      "execution_count": 54,
      "metadata": {
        "id": "b1ppwLcevGDg",
        "outputId": "36f68622-08fc-4da8-c8cd-24457cb94b10",
        "colab": {
          "base_uri": "https://localhost:8080/"
        }
      },
      "outputs": [
        {
          "output_type": "stream",
          "name": "stdout",
          "text": [
            "Sorted:\n",
            "1 2 3 4 5 \n",
            "Number of Swaps - 5\n"
          ]
        }
      ],
      "source": [
        "def bubbleSortwithSwaps(array):\n",
        "  swaps = 0\n",
        "\n",
        "  for i in range(len(array)):\n",
        "\n",
        "    for j in range(0, len(array) - i - 1):\n",
        "\n",
        "      if array[j] > array[j + 1]:\n",
        "\n",
        "        temp = array[j]\n",
        "        array[j] = array[j+1]\n",
        "        array[j+1] = temp\n",
        "\n",
        "        swaps += 1\n",
        "\n",
        "  return swaps\n",
        "\n",
        "input = [3,2,5,1,4]\n",
        "\n",
        "totalswaps = bubbleSortwithSwaps(input)\n",
        "\n",
        "print(\"Sorted:\")\n",
        "printList(input)\n",
        "\n",
        "print(\"Number of Swaps -\", totalswaps)"
      ]
    },
    {
      "cell_type": "markdown",
      "metadata": {
        "id": "iO2UusQWvGDi"
      },
      "source": [
        "#### 4. Count the **total number of steps** to sort the list below using **Insertion Sort**\n",
        "\n",
        "\n",
        "|6|2|5|7|4|1|8|9|3|\n",
        "|---|---|---|---|---|---|---|---|---|"
      ]
    },
    {
      "cell_type": "code",
      "execution_count": 55,
      "metadata": {
        "id": "vq1PYEjmvGDi",
        "outputId": "e9419dd5-5e80-4ad9-a71f-e932582779e2",
        "colab": {
          "base_uri": "https://localhost:8080/"
        }
      },
      "outputs": [
        {
          "output_type": "stream",
          "name": "stdout",
          "text": [
            "Sorted:\n",
            "1 2 3 4 5 6 7 8 9 \n",
            "Number of Steps: 16\n"
          ]
        }
      ],
      "source": [
        "def insertionSortwithSteps(array):\n",
        "    steps = 0\n",
        "\n",
        "    for step in range(1, len(array)):\n",
        "        key = array[step]\n",
        "        j = step - 1\n",
        "\n",
        "        while j >= 0 and key < array[j]:\n",
        "            array[j + 1] = array[j]\n",
        "            j = j - 1\n",
        "\n",
        "            steps += 1\n",
        "\n",
        "        array[j + 1] = key\n",
        "\n",
        "    return steps\n",
        "\n",
        "\n",
        "input = [6, 2, 5, 7, 4, 1, 8, 9, 3]\n",
        "\n",
        "stepsvalue = insertionSortwithSteps(input)\n",
        "\n",
        "print(\"Sorted:\")\n",
        "printList(input)\n",
        "\n",
        "print(\"Number of Steps:\", stepsvalue)\n"
      ]
    },
    {
      "cell_type": "markdown",
      "metadata": {
        "id": "jpfNCCdbvGDj"
      },
      "source": [
        "#### 5. Given the list below:\n",
        "\n",
        "\n",
        "|7|5|4|3|2|5|1|8|\n",
        "|---|---|---|---|---|---|---|---|\n",
        "\n",
        "Using **merge sort** and **counting sort**\n",
        "\n",
        "Determine which sorting algorithm is faster by counting the total number of steps for each algorithm\n"
      ]
    },
    {
      "cell_type": "code",
      "execution_count": 56,
      "metadata": {
        "id": "2YVK17cSvGDj",
        "outputId": "f227cee9-2fe0-4766-a828-8545f880707e",
        "colab": {
          "base_uri": "https://localhost:8080/"
        }
      },
      "outputs": [
        {
          "output_type": "stream",
          "name": "stdout",
          "text": [
            "Merge Sort - Sorted Array:\n",
            "1 2 3 4 5 5 7 8 \n",
            "Merge Sort - Total Steps: 8\n",
            "\n",
            "Counting Sort - Sorted Array:\n",
            "1 2 3 4 5 5 7 8 \n",
            "Counting Sort - Total Steps: 24\n",
            "\n",
            "Merge sort is faster\n"
          ]
        }
      ],
      "source": [
        "def countingSortwithSteps(array):\n",
        "    size = len(array)\n",
        "    output = [0] * size\n",
        "    count = [0] * (max(array) + 1)\n",
        "\n",
        "    steps = 0\n",
        "\n",
        "    for i in range(0, size):\n",
        "        count[array[i]] += 1\n",
        "        steps += 1\n",
        "\n",
        "    for i in range(1, max(array) + 1):\n",
        "        count[i] += count[i - 1]\n",
        "        steps += 1\n",
        "\n",
        "    i = size - 1\n",
        "    while i >= 0:\n",
        "        output[count[array[i]] - 1] = array[i]\n",
        "        count[array[i]] -= 1\n",
        "        i -= 1\n",
        "        steps += 1\n",
        "\n",
        "    for i in range(0, size):\n",
        "        array[i] = output[i]\n",
        "\n",
        "    return steps\n",
        "\n",
        "def mergeSortwithSteps(array):\n",
        "    if len(array) > 1:\n",
        "        r = len(array) // 2\n",
        "        L = array[:r]\n",
        "        M = array[r:]\n",
        "\n",
        "        steps = 0\n",
        "\n",
        "        mergeSortwithSteps(L)\n",
        "        mergeSortwithSteps(M)\n",
        "\n",
        "        i = j = k = 0\n",
        "\n",
        "        while i < len(L) and j < len(M):\n",
        "            if L[i] < M[j]:\n",
        "                array[k] = L[i]\n",
        "                i += 1\n",
        "            else:\n",
        "                array[k] = M[j]\n",
        "                j += 1\n",
        "            k += 1\n",
        "            steps += 1\n",
        "\n",
        "        while i < len(L):\n",
        "            array[k] = L[i]\n",
        "            i += 1\n",
        "            k += 1\n",
        "            steps += 1\n",
        "\n",
        "        while j < len(M):\n",
        "            array[k] = M[j]\n",
        "            j += 1\n",
        "            k += 1\n",
        "            steps += 1\n",
        "\n",
        "        return steps\n",
        "\n",
        "input = [7, 5, 4, 3, 2, 5, 1, 8]\n",
        "\n",
        "merge_sort = input.copy()\n",
        "counting_sort = input.copy()\n",
        "\n",
        "mergeSort_steps = mergeSortwithSteps(merge_sort)\n",
        "countingSort_steps = countingSortwithSteps(counting_sort)\n",
        "\n",
        "print(\"Merge Sort - Sorted Array:\")\n",
        "printList(merge_sort)\n",
        "print(\"Merge Sort - Total Steps:\", mergeSort_steps)\n",
        "\n",
        "print(\"\\nCounting Sort - Sorted Array:\")\n",
        "printList(counting_sort)\n",
        "print(\"Counting Sort - Total Steps:\", countingSort_steps)\n",
        "\n",
        "print()\n",
        "\n",
        "if mergeSort_steps < countingSort_steps:\n",
        "    print(\"Merge sort is faster\")\n",
        "else:\n",
        "    print(\"counting sort is faster\")"
      ]
    }
  ],
  "metadata": {
    "colab": {
      "provenance": []
    },
    "kernelspec": {
      "display_name": "Python 3",
      "language": "python",
      "name": "python3"
    },
    "language_info": {
      "codemirror_mode": {
        "name": "ipython",
        "version": 3
      },
      "file_extension": ".py",
      "mimetype": "text/x-python",
      "name": "python",
      "nbconvert_exporter": "python",
      "pygments_lexer": "ipython3",
      "version": "3.11.4"
    },
    "orig_nbformat": 4
  },
  "nbformat": 4,
  "nbformat_minor": 0
}