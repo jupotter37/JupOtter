{
 "cells": [
  {
   "cell_type": "raw",
   "metadata": {},
   "source": [
    "Steve Depp \n",
    "432 - 55\n",
    "Mini Programming Assignment 5: "
   ]
  },
  {
   "cell_type": "code",
   "execution_count": 1,
   "metadata": {},
   "outputs": [],
   "source": [
    "import numpy as np\n",
    "import time\n",
    "import pandas as pd\n",
    "import math\n",
    "import matplotlib.pyplot as plt"
   ]
  },
  {
   "cell_type": "code",
   "execution_count": 2,
   "metadata": {},
   "outputs": [],
   "source": [
    "np.random.seed(seed=42)"
   ]
  },
  {
   "cell_type": "raw",
   "metadata": {},
   "source": [
    "Dictionary data structure uses hashing in the back-end and we will test that in this assignment."
   ]
  },
  {
   "cell_type": "raw",
   "metadata": {},
   "source": [
    "Create a list of 100 names, each from 10 randomly chosen characters.\n",
    "Store these names as you generate them in an unsorted array."
   ]
  },
  {
   "cell_type": "code",
   "execution_count": 3,
   "metadata": {},
   "outputs": [],
   "source": [
    "letters = list('abcdefghijklmnopqrstuvwxyz')\n",
    "names = []\n",
    "for i in range(100):\n",
    "    names.append(''.join(np.random.choice(letters, 10, replace=False)))"
   ]
  },
  {
   "cell_type": "raw",
   "metadata": {},
   "source": [
    "Ensure there are no duplicates in the names list."
   ]
  },
  {
   "cell_type": "code",
   "execution_count": 4,
   "metadata": {},
   "outputs": [
    {
     "name": "stdout",
     "output_type": "stream",
     "text": [
      "True , there are no dups in this array of 100 names.\n"
     ]
    }
   ],
   "source": [
    "print(len(names) == len(set(names)), ', there are no dups in this array of', len(names), 'names.')"
   ]
  },
  {
   "cell_type": "raw",
   "metadata": {},
   "source": [
    "Define binary_search and linear_search and quicksort algoritms."
   ]
  },
  {
   "cell_type": "raw",
   "metadata": {},
   "source": [
    "Binary search commences at the middle of the list length and then cuts the list in half and searches the half into which the item is located.  Each time it cuts the list in half it eliminates half the length from searchable distance.  Cutting half sequentially is the reverse of exponent 2, which is why binary search operates in log2 time."
   ]
  },
  {
   "cell_type": "code",
   "execution_count": 5,
   "metadata": {},
   "outputs": [],
   "source": [
    "def binary_search(list, item):\n",
    "    low = 0\n",
    "    high = len (list)-1\n",
    "    while low <= high:\n",
    "        mid = (low + high) // 2\n",
    "        guess = list[mid]\n",
    "        if guess == item:\n",
    "            return mid\n",
    "        if guess > item:\n",
    "            high = mid - 1\n",
    "        else:\n",
    "            low = mid + 1\n",
    "    return None"
   ]
  },
  {
   "cell_type": "raw",
   "metadata": {},
   "source": [
    "Linear search commences at the first element and never cuts out any of the distance, but simply travels the entire distance from zero to the end of the list. "
   ]
  },
  {
   "cell_type": "code",
   "execution_count": 6,
   "metadata": {},
   "outputs": [],
   "source": [
    "def linear_search(list_param, item):\n",
    "    i = 0\n",
    "    high = len(list_param)-1\n",
    "    while i <= high:\n",
    "        if list_param[i] == item:\n",
    "            return i\n",
    "        else:\n",
    "            i +=1\n",
    "    return i"
   ]
  },
  {
   "cell_type": "raw",
   "metadata": {},
   "source": [
    "Quicksort function:\n",
    "\n",
    "Checks if the array length is 1 or 0 = base case\n",
    "If not the base case\n",
    "    start with the first element as pivot\n",
    "    list comprehension to split the array into 2 segments of items \n",
    "        'less' than or equal to the pivot\n",
    "        'greater' than the pivot\n",
    "    a return calls quicksort recursively on each of the 2 segments\n",
    "        carrying into the call stack \n",
    "        until both calls return to the base case"
   ]
  },
  {
   "cell_type": "code",
   "execution_count": 7,
   "metadata": {},
   "outputs": [],
   "source": [
    "def quick_sort(array): \n",
    "    if len(array) < 2:\n",
    "        # Base case: arrays with 0 or 1 element are already “sorted.”\n",
    "        return array \n",
    "    else: \n",
    "        # Recursive case\n",
    "        pivot = array[0]\n",
    "        # Sub-array of all the elements less than the pivot\n",
    "        less = [i for i in array[1:] if i <= pivot]\n",
    "        # Sub-array of all the elements greater than the pivot \n",
    "        greater = [i for i in array[1:] if i > pivot] \n",
    "        return quick_sort(less) + [pivot] + quick_sort(greater) "
   ]
  },
  {
   "cell_type": "raw",
   "metadata": {},
   "source": [
    "Bubble sort:\n",
    "    makes i=n passes through the array for each element in the array\n",
    "    on each pass, the algorithm successively moves the largest of \n",
    "    2 adjacent elements to the right\n",
    "    until the largest element is at the right.\n",
    "    and then it starts over.\n",
    "    thus on each successive pass i is decremented by 1\n",
    "    Big O time is on average O(n**2)"
   ]
  },
  {
   "cell_type": "code",
   "execution_count": 8,
   "metadata": {},
   "outputs": [],
   "source": [
    "def bubble_sort(alist):\n",
    "    for passnum in range(len(alist)-1,0,-1):\n",
    "        for i in range(passnum):\n",
    "            if alist[i]>alist[i+1]:\n",
    "                temp = alist[i]\n",
    "                alist[i] = alist[i+1]\n",
    "                alist[i+1] = temp\n",
    "    return alist"
   ]
  },
  {
   "cell_type": "raw",
   "metadata": {},
   "source": [
    "Select 5 names at random from names.\n",
    "    for loop repeats 5 times\n",
    "    numpy random provides an integer between 0-99 to index each loop\n",
    "    appends that indexed value from names list"
   ]
  },
  {
   "cell_type": "code",
   "execution_count": 9,
   "metadata": {},
   "outputs": [
    {
     "data": {
      "text/plain": [
       "['zjimhudfxy', 'qdhxcwpgso', 'ywrbloxcua', 'iyrujgxtkd', 'wplozefvcu']"
      ]
     },
     "execution_count": 9,
     "metadata": {},
     "output_type": "execute_result"
    }
   ],
   "source": [
    "five_names = []\n",
    "for i in range(5):\n",
    "    five_names.append(names[np.random.randint(100)])\n",
    "five_names"
   ]
  },
  {
   "cell_type": "raw",
   "metadata": {},
   "source": [
    "Lookup/search any five names from this unsorted array using linear search, and capture the time.\n",
    "    timer started\n",
    "    linear search is called for each name in five_names \n",
    "    via for loop and indexing into five names via variable i\n",
    "    timer stopped\n",
    "    net time assigned to a variable for later use"
   ]
  },
  {
   "cell_type": "code",
   "execution_count": 10,
   "metadata": {},
   "outputs": [
    {
     "name": "stdout",
     "output_type": "stream",
     "text": [
      "32\n",
      "35\n",
      "94\n",
      "13\n",
      "64\n"
     ]
    },
    {
     "data": {
      "text/plain": [
       "0.0002760887145996094"
      ]
     },
     "execution_count": 10,
     "metadata": {},
     "output_type": "execute_result"
    }
   ],
   "source": [
    "search_array_start = time.time()\n",
    "for i in range(len(five_names)):\n",
    "    print(linear_search(names, five_names[i]))\n",
    "search_array_end = time.time()\n",
    "search_array_time = search_array_end - search_array_start\n",
    "search_array_time"
   ]
  },
  {
   "cell_type": "raw",
   "metadata": {},
   "source": [
    "Now store the above 100 names in a dictionary data structure.\n",
    "    dictionary comprehension \n",
    "    collects \n",
    "        names as key and \n",
    "        enumerated as values"
   ]
  },
  {
   "cell_type": "code",
   "execution_count": 11,
   "metadata": {},
   "outputs": [
    {
     "data": {
      "text/plain": [
       "{'iqayljnbxf': 0,\n",
       " 'skhmyfradb': 1,\n",
       " 'pvmreizkjf': 2,\n",
       " 'rwcfazgtki': 3,\n",
       " 'fntoubdpzi': 4,\n",
       " 'mqpdfbvwik': 5,\n",
       " 'apnhsylvij': 6,\n",
       " 'ubldnpjqor': 7,\n",
       " 'ipdmujohsw': 8,\n",
       " 'snrjgmhxcp': 9,\n",
       " 'nfeqpodjcz': 10,\n",
       " 'gvjbmtkqox': 11,\n",
       " 'fumjlvwtgk': 12,\n",
       " 'iyrujgxtkd': 13,\n",
       " 'hpsjlxvkbr': 14,\n",
       " 'nypzdestcl': 15,\n",
       " 'ekyzwjvsxi': 16,\n",
       " 'syxzibrjnu': 17,\n",
       " 'ypdcmgjkzv': 18,\n",
       " 'ihbckfaxgy': 19,\n",
       " 'nfrlicquop': 20,\n",
       " 'zidfxrtgqn': 21,\n",
       " 'tfzlwachno': 22,\n",
       " 'bzvjtyhops': 23,\n",
       " 'haqxrbzfmk': 24,\n",
       " 'yxadcpwesb': 25,\n",
       " 'hnrpsaeiyb': 26,\n",
       " 'pjgbwihcds': 27,\n",
       " 'svwygizbdm': 28,\n",
       " 'jzykgrhlwe': 29,\n",
       " 'pnhljudfge': 30,\n",
       " 'smfvglbphk': 31,\n",
       " 'zjimhudfxy': 32,\n",
       " 'cikvgxrpwl': 33,\n",
       " 'mgnafjlebv': 34,\n",
       " 'qdhxcwpgso': 35,\n",
       " 'yrxekfivum': 36,\n",
       " 'phrukxbvmd': 37,\n",
       " 'cmpkrgaxnt': 38,\n",
       " 'qjgmtoaunl': 39,\n",
       " 'xyibvgcnpt': 40,\n",
       " 'dxrptvcgfs': 41,\n",
       " 'tjgpqmdxew': 42,\n",
       " 'pkoxebqvil': 43,\n",
       " 'lbtuwpeqix': 44,\n",
       " 'stkgcxuiqy': 45,\n",
       " 'wioqcymabp': 46,\n",
       " 'brlwcuopfd': 47,\n",
       " 'lxzhedvqsa': 48,\n",
       " 'sbdlnejfzx': 49,\n",
       " 'ijtgmkeyud': 50,\n",
       " 'nokdjuplzq': 51,\n",
       " 'ifhtoyesvk': 52,\n",
       " 'mpgornkqah': 53,\n",
       " 'sctaqxolfe': 54,\n",
       " 'ckosprtdnz': 55,\n",
       " 'ljpqemoinb': 56,\n",
       " 'zfrvlgnahw': 57,\n",
       " 'wnohdziqja': 58,\n",
       " 'dmtcsxbzag': 59,\n",
       " 'lmdfxoenvq': 60,\n",
       " 'vsyihekfwt': 61,\n",
       " 'wrhmbxfsck': 62,\n",
       " 'xgwbrfvcmz': 63,\n",
       " 'wplozefvcu': 64,\n",
       " 'luganbemdk': 65,\n",
       " 'uyapgdvmtr': 66,\n",
       " 'dgvnjkleio': 67,\n",
       " 'zcrxnuhiav': 68,\n",
       " 'wrcmhuvnly': 69,\n",
       " 'mhypveixbs': 70,\n",
       " 'umzyjrsfdp': 71,\n",
       " 'jsmdwyvgne': 72,\n",
       " 'ahwmbrejkv': 73,\n",
       " 'ejbydgtcpx': 74,\n",
       " 'lckesmygfw': 75,\n",
       " 'earvmzdsxt': 76,\n",
       " 'owahevqmrx': 77,\n",
       " 'hmbptqdgaz': 78,\n",
       " 'oaphuckgfm': 79,\n",
       " 'xwpksqfiet': 80,\n",
       " 'mjysrpkivd': 81,\n",
       " 'bgcsnzrmxt': 82,\n",
       " 'yxhjgudpqm': 83,\n",
       " 'punctiqaev': 84,\n",
       " 'zfguecmndi': 85,\n",
       " 'ngusohcjlw': 86,\n",
       " 'xpqhbfdnjz': 87,\n",
       " 'akgtrdosqv': 88,\n",
       " 'gjahbqyxzt': 89,\n",
       " 'fmxyeslkgi': 90,\n",
       " 'yicpbruneo': 91,\n",
       " 'nfwkmtvoau': 92,\n",
       " 'hadfxzyrsb': 93,\n",
       " 'ywrbloxcua': 94,\n",
       " 'rvnoaizgwk': 95,\n",
       " 'zkbqsufcxy': 96,\n",
       " 'icqmnjpokb': 97,\n",
       " 'xjgpnhmzws': 98,\n",
       " 'mvrxuahzdl': 99}"
      ]
     },
     "execution_count": 11,
     "metadata": {},
     "output_type": "execute_result"
    }
   ],
   "source": [
    "names_dict = { i : j for j, i in enumerate(names) }\n",
    "names_dict"
   ]
  },
  {
   "cell_type": "code",
   "execution_count": 12,
   "metadata": {},
   "outputs": [
    {
     "data": {
      "text/plain": [
       "['zjimhudfxy', 'qdhxcwpgso', 'ywrbloxcua', 'iyrujgxtkd', 'wplozefvcu']"
      ]
     },
     "execution_count": 12,
     "metadata": {},
     "output_type": "execute_result"
    }
   ],
   "source": [
    "five_names"
   ]
  },
  {
   "cell_type": "raw",
   "metadata": {},
   "source": [
    "Search for the same five names in the dictionary.\n",
    "    start the timer\n",
    "    for loop for the length of five_names\n",
    "        looks up each name as dictionary key \n",
    "        prints the value associated with that key\n",
    "    stop the timer\n",
    "    stores the net time for later use"
   ]
  },
  {
   "cell_type": "code",
   "execution_count": 13,
   "metadata": {},
   "outputs": [
    {
     "name": "stdout",
     "output_type": "stream",
     "text": [
      "32\n",
      "35\n",
      "94\n",
      "13\n",
      "64\n"
     ]
    },
    {
     "data": {
      "text/plain": [
       "0.0004971027374267578"
      ]
     },
     "execution_count": 13,
     "metadata": {},
     "output_type": "execute_result"
    }
   ],
   "source": [
    "search_dict_start = time.time()\n",
    "for i in range(len(five_names)):\n",
    "    print(names_dict.get(five_names[i]))\n",
    "search_dict_end = time.time()\n",
    "search_dict_time = search_dict_end - search_dict_start\n",
    "search_dict_time"
   ]
  },
  {
   "cell_type": "raw",
   "metadata": {},
   "source": [
    "Capture the time that took to lookup the names using linear search and then using dictionary, draw a graph to show the difference.\n",
    "Establish an empty dictionary to keep search times, then assign key: value pairs for array, dict, and their difference. Plot via pyplot bar."
   ]
  },
  {
   "cell_type": "code",
   "execution_count": 14,
   "metadata": {},
   "outputs": [
    {
     "data": {
      "text/plain": [
       "([<matplotlib.axis.XTick at 0x1215ca6d8>,\n",
       "  <matplotlib.axis.XTick at 0x1215b1fd0>,\n",
       "  <matplotlib.axis.XTick at 0x1215b1cc0>],\n",
       " <a list of 3 Text xticklabel objects>)"
      ]
     },
     "execution_count": 14,
     "metadata": {},
     "output_type": "execute_result"
    },
    {
     "data": {
      "image/png": "[encoded data removed]",
      "text/plain": [
       "<Figure size 432x288 with 1 Axes>"
      ]
     },
     "metadata": {
      "needs_background": "light"
     },
     "output_type": "display_data"
    }
   ],
   "source": [
    "timer_dict={}\n",
    "timer_dict['array'] = search_array_time\n",
    "timer_dict['dict'] = search_dict_time\n",
    "timer_dict['array-dict time diff'] = search_array_time - search_dict_time\n",
    "plt.bar(range(len(timer_dict)), list(timer_dict.values()), align='center')\n",
    "plt.xticks(range(len(timer_dict)), list(timer_dict.keys()))"
   ]
  },
  {
   "cell_type": "raw",
   "metadata": {},
   "source": [
    "Now sort the array (use any sorting algorithm that you have learned so far and justify why are you using it)"
   ]
  },
  {
   "cell_type": "raw",
   "metadata": {},
   "source": [
    "Justifying quick over bubble sort for this case:\n",
    "\n",
    "Average case, quick sort is faster than bubble sort, moving at n(logn) time versus n**2 time.  However when the list is sorted, quicksort will continue to recurse where bubble sort will finish after running throught the list once. So quicksort should take log2(n) longer than bubblesort n bigO time for sorted list. \n",
    "\n",
    "Thus, choosing quicksort for this case since the list is not nearly sorted already."
   ]
  },
  {
   "cell_type": "code",
   "execution_count": 21,
   "metadata": {},
   "outputs": [],
   "source": [
    "names_sorted = quick_sort(names)"
   ]
  },
  {
   "cell_type": "raw",
   "metadata": {},
   "source": [
    "Pick the names from this array that are at 10th, 30th, 50th, 70th, 90th, and 100th positions, store them in a temporary array somewhere for later use."
   ]
  },
  {
   "cell_type": "code",
   "execution_count": 22,
   "metadata": {},
   "outputs": [
    {
     "data": {
      "text/plain": [
       "['dgvnjkleio',\n",
       " 'ipdmujohsw',\n",
       " 'ngusohcjlw',\n",
       " 'stkgcxuiqy',\n",
       " 'ypdcmgjkzv',\n",
       " 'zkbqsufcxy']"
      ]
     },
     "execution_count": 22,
     "metadata": {},
     "output_type": "execute_result"
    }
   ],
   "source": [
    "indexes = 9,29,49,69,89,99\n",
    "six_names = [ names_sorted[i] for i in indexes ]\n",
    "six_names"
   ]
  },
  {
   "cell_type": "raw",
   "metadata": {},
   "source": [
    "Now search for these six names in the main array (one by one) using linear search, then binary search and capture the time it takes using both algorithms."
   ]
  },
  {
   "cell_type": "code",
   "execution_count": 23,
   "metadata": {},
   "outputs": [
    {
     "name": "stdout",
     "output_type": "stream",
     "text": [
      "9\n",
      "9\n",
      "29\n",
      "29\n",
      "49\n",
      "49\n",
      "69\n",
      "69\n",
      "89\n",
      "89\n",
      "99\n",
      "99\n"
     ]
    },
    {
     "data": {
      "text/html": [
       "<div>\n",
       "<style scoped>\n",
       "    .dataframe tbody tr th:only-of-type {\n",
       "        vertical-align: middle;\n",
       "    }\n",
       "\n",
       "    .dataframe tbody tr th {\n",
       "        vertical-align: top;\n",
       "    }\n",
       "\n",
       "    .dataframe thead th {\n",
       "        text-align: right;\n",
       "    }\n",
       "</style>\n",
       "<table border=\"1\" class=\"dataframe\">\n",
       "  <thead>\n",
       "    <tr style=\"text-align: right;\">\n",
       "      <th></th>\n",
       "      <th>linear</th>\n",
       "      <th>binary</th>\n",
       "    </tr>\n",
       "  </thead>\n",
       "  <tbody>\n",
       "    <tr>\n",
       "      <th>9</th>\n",
       "      <td>0.000052</td>\n",
       "      <td>0.000024</td>\n",
       "    </tr>\n",
       "    <tr>\n",
       "      <th>29</th>\n",
       "      <td>0.000124</td>\n",
       "      <td>0.000039</td>\n",
       "    </tr>\n",
       "    <tr>\n",
       "      <th>49</th>\n",
       "      <td>0.000327</td>\n",
       "      <td>0.000046</td>\n",
       "    </tr>\n",
       "    <tr>\n",
       "      <th>69</th>\n",
       "      <td>0.000040</td>\n",
       "      <td>0.000021</td>\n",
       "    </tr>\n",
       "    <tr>\n",
       "      <th>89</th>\n",
       "      <td>0.000019</td>\n",
       "      <td>0.000011</td>\n",
       "    </tr>\n",
       "    <tr>\n",
       "      <th>99</th>\n",
       "      <td>0.000038</td>\n",
       "      <td>0.000028</td>\n",
       "    </tr>\n",
       "  </tbody>\n",
       "</table>\n",
       "</div>"
      ],
      "text/plain": [
       "      linear    binary\n",
       "9   0.000052  0.000024\n",
       "29  0.000124  0.000039\n",
       "49  0.000327  0.000046\n",
       "69  0.000040  0.000021\n",
       "89  0.000019  0.000011\n",
       "99  0.000038  0.000028"
      ]
     },
     "execution_count": 23,
     "metadata": {},
     "output_type": "execute_result"
    }
   ],
   "source": [
    "lin_time=[]\n",
    "bin_time=[]\n",
    "for i in range(len(six_names)):\n",
    "    lin_start = time.time()\n",
    "    print(linear_search(names_sorted, six_names[i]))\n",
    "    lin_end = time.time()\n",
    "    lin_time.append(lin_end-lin_start)\n",
    "    bin_start = time.time()\n",
    "    print(binary_search(names_sorted, six_names[i]))\n",
    "    bin_end = time.time()\n",
    "    bin_time.append(bin_end-bin_start)\n",
    "timer_data = {'linear':lin_time, 'binary': bin_time}\n",
    "timer = pd.DataFrame(data=timer_data, index=indexes)\n",
    "timer"
   ]
  },
  {
   "cell_type": "raw",
   "metadata": {},
   "source": [
    "Draw another graph comparing times of linear search, binary search and dictionary search that took to search for the five names"
   ]
  },
  {
   "cell_type": "code",
   "execution_count": 24,
   "metadata": {},
   "outputs": [
    {
     "data": {
      "text/plain": [
       "<matplotlib.axes._subplots.AxesSubplot at 0x121b2c240>"
      ]
     },
     "execution_count": 24,
     "metadata": {},
     "output_type": "execute_result"
    },
    {
     "data": {
      "image/png": "[encoded data removed]",
      "text/plain": [
       "<Figure size 432x288 with 1 Axes>"
      ]
     },
     "metadata": {
      "needs_background": "light"
     },
     "output_type": "display_data"
    }
   ],
   "source": [
    "timer.plot.bar()"
   ]
  },
  {
   "cell_type": "raw",
   "metadata": {},
   "source": [
    "Now look up for these names in the dictionary and capture the time\n",
    "Draw another graph comparing times of linear search, binary search and dictionary search that took to search for the five names."
   ]
  },
  {
   "cell_type": "code",
   "execution_count": 25,
   "metadata": {},
   "outputs": [
    {
     "name": "stdout",
     "output_type": "stream",
     "text": [
      "67\n",
      "8\n",
      "86\n",
      "45\n",
      "18\n",
      "96\n"
     ]
    },
    {
     "data": {
      "text/html": [
       "<div>\n",
       "<style scoped>\n",
       "    .dataframe tbody tr th:only-of-type {\n",
       "        vertical-align: middle;\n",
       "    }\n",
       "\n",
       "    .dataframe tbody tr th {\n",
       "        vertical-align: top;\n",
       "    }\n",
       "\n",
       "    .dataframe thead th {\n",
       "        text-align: right;\n",
       "    }\n",
       "</style>\n",
       "<table border=\"1\" class=\"dataframe\">\n",
       "  <thead>\n",
       "    <tr style=\"text-align: right;\">\n",
       "      <th></th>\n",
       "      <th>linear</th>\n",
       "      <th>binary</th>\n",
       "      <th>dict</th>\n",
       "    </tr>\n",
       "  </thead>\n",
       "  <tbody>\n",
       "    <tr>\n",
       "      <th>9</th>\n",
       "      <td>0.000052</td>\n",
       "      <td>0.000024</td>\n",
       "      <td>0.000047</td>\n",
       "    </tr>\n",
       "    <tr>\n",
       "      <th>29</th>\n",
       "      <td>0.000124</td>\n",
       "      <td>0.000039</td>\n",
       "      <td>0.000019</td>\n",
       "    </tr>\n",
       "    <tr>\n",
       "      <th>49</th>\n",
       "      <td>0.000327</td>\n",
       "      <td>0.000046</td>\n",
       "      <td>0.000034</td>\n",
       "    </tr>\n",
       "    <tr>\n",
       "      <th>69</th>\n",
       "      <td>0.000040</td>\n",
       "      <td>0.000021</td>\n",
       "      <td>0.000032</td>\n",
       "    </tr>\n",
       "    <tr>\n",
       "      <th>89</th>\n",
       "      <td>0.000019</td>\n",
       "      <td>0.000011</td>\n",
       "      <td>0.000011</td>\n",
       "    </tr>\n",
       "    <tr>\n",
       "      <th>99</th>\n",
       "      <td>0.000038</td>\n",
       "      <td>0.000028</td>\n",
       "      <td>0.000032</td>\n",
       "    </tr>\n",
       "  </tbody>\n",
       "</table>\n",
       "</div>"
      ],
      "text/plain": [
       "      linear    binary      dict\n",
       "9   0.000052  0.000024  0.000047\n",
       "29  0.000124  0.000039  0.000019\n",
       "49  0.000327  0.000046  0.000034\n",
       "69  0.000040  0.000021  0.000032\n",
       "89  0.000019  0.000011  0.000011\n",
       "99  0.000038  0.000028  0.000032"
      ]
     },
     "execution_count": 25,
     "metadata": {},
     "output_type": "execute_result"
    }
   ],
   "source": [
    "dict_time = []\n",
    "for i in range(len(six_names)):\n",
    "    dict_start = time.time()\n",
    "    print(names_dict.get(six_names[i]))\n",
    "    dict_end = time.time()\n",
    "    dict_time.append(dict_end-dict_start)\n",
    "timer_data = {'linear':lin_time, 'binary': bin_time, 'dict': dict_time}\n",
    "timer = pd.DataFrame(data=timer_data, index=indexes)\n",
    "timer"
   ]
  },
  {
   "cell_type": "raw",
   "metadata": {},
   "source": [
    "Use Python (matplotlib or Seaborn) or JavaScript (D3) visualization tools to illustrate algorithm performance. "
   ]
  },
  {
   "cell_type": "code",
   "execution_count": 26,
   "metadata": {},
   "outputs": [
    {
     "data": {
      "text/plain": [
       "<matplotlib.axes._subplots.AxesSubplot at 0x121c207b8>"
      ]
     },
     "execution_count": 26,
     "metadata": {},
     "output_type": "execute_result"
    },
    {
     "data": {
      "image/png": "[encoded data removed]",
      "text/plain": [
       "<Figure size 432x288 with 1 Axes>"
      ]
     },
     "metadata": {
      "needs_background": "light"
     },
     "output_type": "display_data"
    }
   ],
   "source": [
    "timer.plot.bar()"
   ]
  },
  {
   "cell_type": "raw",
   "metadata": {},
   "source": [
    "Executive summary:\n",
    "Linear search moves at linear O(n), binary at log O(log n), and dictionary hash at constant O(1) time. For a sorted list, we should expect that linear finds the 9 faster than 89, but binary finds them with equal speed but faster than linear. Dictionary as a hash should find numbers more quickly than either binary or linear.  Binary requires the list to be sorted to achieve any searching. A dictionary requires an array which carries its own limitations; if the array has volatile lengths, and needs resizing that may increase the overall cost of dictionaries for storing data. "
   ]
  }
 ],
 "metadata": {
  "kernelspec": {
   "display_name": "Python 3",
   "language": "python",
   "name": "python3"
  },
  "language_info": {
   "codemirror_mode": {
    "name": "ipython",
    "version": 3
   },
   "file_extension": ".py",
   "mimetype": "text/x-python",
   "name": "python",
   "nbconvert_exporter": "python",
   "pygments_lexer": "ipython3",
   "version": "3.7.3"
  }
 },
 "nbformat": 4,
 "nbformat_minor": 2
}
