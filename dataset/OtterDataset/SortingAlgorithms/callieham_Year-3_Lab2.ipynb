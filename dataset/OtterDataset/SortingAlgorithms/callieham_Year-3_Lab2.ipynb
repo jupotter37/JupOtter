{
 "cells": [
  {
   "cell_type": "markdown",
   "metadata": {},
   "source": [
    "## Scientific Computation Lab 2"
   ]
  },
  {
   "cell_type": "markdown",
   "metadata": {},
   "source": [
    "#### Task 1: Timing code"
   ]
  },
  {
   "cell_type": "markdown",
   "metadata": {},
   "source": [
    "There are a few different approaches for timing code in Python.\n",
    "You can use the *time* function in the time module as below:"
   ]
  },
  {
   "cell_type": "code",
   "execution_count": 1,
   "metadata": {},
   "outputs": [
    {
     "name": "stdout",
     "output_type": "stream",
     "text": [
      "dt =  0.018893957138061523\n"
     ]
    }
   ],
   "source": [
    "import numpy as np\n",
    "import time\n",
    "X = list(np.random.randint(1,1000,800)) \n",
    "t1 = time.time()\n",
    "y = np.sin(np.outer(X,X))\n",
    "t2 = time.time()\n",
    "print(\"dt = \",t2-t1)"
   ]
  },
  {
   "cell_type": "markdown",
   "metadata": {},
   "source": [
    "And you can also use the timeit function:"
   ]
  },
  {
   "cell_type": "code",
   "execution_count": 2,
   "metadata": {},
   "outputs": [
    {
     "name": "stdout",
     "output_type": "stream",
     "text": [
      "14 ms ± 157 µs per loop (mean ± std. dev. of 7 runs, 100 loops each)\n"
     ]
    }
   ],
   "source": [
    "timeit np.sin(np.outer(X,X))"
   ]
  },
  {
   "cell_type": "markdown",
   "metadata": {},
   "source": [
    "There are a few important points to be aware of when working with timing functions. First, different timers can have different resolutions, i.e. the smallest $\\Delta t$ that can be measured can depend on the timing function used. Second, for very fast operations, timing results can vary substantially from one run to the next and averaging over several runs (as timeit does) can provide more reliable results. Finally, the resolution of a timing function can depend on the operating system you are using. You should check that you can reliably measure times below 1e-3 seconds with time.time(). If you cannot, you should try one or more of the other timers available in the time module (e.g. time.perf_counter_ns()). See https://docs.python.org/3/library/time.html#functions and https://docs.python.org/3/library/timeit.html for more information."
   ]
  },
  {
   "cell_type": "markdown",
   "metadata": {},
   "source": [
    "You will now investigate how the wall-time for sorting algorithms depends on the list length. Functions for merge and insertion sorts are below."
   ]
  },
  {
   "cell_type": "code",
   "execution_count": null,
   "metadata": {
    "scrolled": true
   },
   "outputs": [],
   "source": [
    "def isort(X):\n",
    "    \"\"\"Sort X using insertion sort algorithm and return sorted array\n",
    "    \"\"\"\n",
    "\n",
    "    S = X.copy()\n",
    "\n",
    "    for i,x in enumerate(X[1:],1):\n",
    "        #place x appropriately in partially sorted array, S\n",
    "        for j in range(i-1,-1,-1):\n",
    "            if S[j+1]<S[j]:\n",
    "                S[j],S[j+1] = S[j+1],S[j]\n",
    "            else:\n",
    "                break\n",
    "    return S\n",
    "\n",
    "def merge(L,R):\n",
    "    \"\"\"Merge 2 sorted lists provided as input\n",
    "    into a single sorted list\n",
    "    \"\"\"\n",
    "    M = [] #Merged list, initially empty\n",
    "    indL,indR = 0,0 #start indices\n",
    "    nL,nR = len(L),len(R)\n",
    "\n",
    "    #Add one element to M per iteration until an entire sublist\n",
    "    #has been added\n",
    "    for i in range(nL+nR):\n",
    "        if L[indL]<R[indR]:\n",
    "            M.append(L[indL])\n",
    "            indL = indL + 1\n",
    "            if indL>=nL:\n",
    "                M.extend(R[indR:])\n",
    "                break\n",
    "        else:\n",
    "            M.append(R[indR])\n",
    "            indR = indR + 1\n",
    "            if indR>=nR:\n",
    "                M.extend(L[indL:])\n",
    "                break\n",
    "    return M\n",
    "\n",
    "def mergesort(X):\n",
    "    \"\"\"Given a unsorted list, sort list using\n",
    "    merge sort algorithm and return sorted list\n",
    "    \"\"\"\n",
    "\n",
    "    n = len(X)\n",
    "\n",
    "    if n==1:\n",
    "        return X\n",
    "    else:\n",
    "        L = mergesort(X[:n//2])\n",
    "        R = mergesort(X[n//2:])\n",
    "        return merge(L,R)"
   ]
  },
  {
   "cell_type": "markdown",
   "metadata": {},
   "source": [
    "1) How much does the wall-time for insertion sort increase when the length of the initial, unsorted list is doubled? What do you expect? Try a few different list lengths."
   ]
  },
  {
   "cell_type": "code",
   "execution_count": 1,
   "metadata": {},
   "outputs": [],
   "source": [
    "#Add code below\n",
    "#X = list(np.random.randint(1,2*N,N)) #Uncomment and use as needed"
   ]
  },
  {
   "cell_type": "markdown",
   "metadata": {},
   "source": [
    "Add answer here:"
   ]
  },
  {
   "cell_type": "markdown",
   "metadata": {},
   "source": [
    "2) Now carry out a similar examination of the mergesort code. Note that it can be difficult to find good agreement with the theoretical cost with this approach where $N$ is simply doubled, and it is better to examine the variation of cost with $N$ more carefully than what we did for insertion sort."
   ]
  },
  {
   "cell_type": "code",
   "execution_count": 2,
   "metadata": {},
   "outputs": [],
   "source": [
    "#Add code below\n",
    "#X = list(np.random.randint(1,2*N,N)) #Uncomment and use as needed"
   ]
  },
  {
   "cell_type": "markdown",
   "metadata": {},
   "source": [
    "Add answer here:"
   ]
  },
  {
   "cell_type": "markdown",
   "metadata": {},
   "source": [
    "3) Iterative merge sort\n",
    "\n",
    "We have seen that both recursive and iterative implementations of binary search are possible. What about merge sort? Write an outline for what an iterative implementation of merge sort would look like. For convenience, assume that the length of the input is $2^N$ where $N$ is a positive integer. I am not asking you to write the code now, but if you are unsure about your answers, that may be a worthwhile \"extra\" exercise."
   ]
  },
  {
   "cell_type": "markdown",
   "metadata": {},
   "source": [
    "Add answer here:"
   ]
  },
  {
   "cell_type": "markdown",
   "metadata": {},
   "source": [
    "####  Task 2: Setting up a word count\n",
    "In this task, you will place the words from a text file into a Python dictionary so that word counts for specified words can be quickly extracted. The cell below will read in the file (if the notebook and the text file, *words.txt*, are in the same folder)."
   ]
  },
  {
   "cell_type": "code",
   "execution_count": null,
   "metadata": {},
   "outputs": [],
   "source": [
    "infile = open('words.txt','r')\n",
    "A = infile.read()\n",
    "#Remove punctuation\n",
    "A = A.replace(',','')\n",
    "A = A.replace('?','')\n",
    "A = A.replace('.','')\n",
    "A = A.replace('!','')\n",
    "A = A.lower() #Convert to all lowercase\n",
    "words = A.split() #List (mostly) containing the words in the file\n",
    "print(words[:4])\n",
    "infile.close()"
   ]
  },
  {
   "cell_type": "markdown",
   "metadata": {},
   "source": [
    "1) Fill the dictionary below so that each word in *words* is stored as a key and the corresponding value is the number of times the word appears in the list"
   ]
  },
  {
   "cell_type": "code",
   "execution_count": null,
   "metadata": {},
   "outputs": [],
   "source": [
    "D = {} #Initializes empty dictionary\n",
    "#Add code below"
   ]
  },
  {
   "cell_type": "markdown",
   "metadata": {},
   "source": [
    "2) Using your dictionary, look up how many times the word \"rudie\" appears in the file "
   ]
  },
  {
   "cell_type": "code",
   "execution_count": null,
   "metadata": {},
   "outputs": [],
   "source": [
    "#Add code here"
   ]
  },
  {
   "cell_type": "markdown",
   "metadata": {},
   "source": [
    "3) In general (i.e. not specifically for this file) what are the time complexities for a) creating the dictionary and b) looking up a word count?"
   ]
  },
  {
   "cell_type": "markdown",
   "metadata": {},
   "source": [
    "Add answer here:"
   ]
  }
 ],
 "metadata": {
  "kernelspec": {
   "display_name": "Python 3 (ipykernel)",
   "language": "python",
   "name": "python3"
  },
  "language_info": {
   "codemirror_mode": {
    "name": "ipython",
    "version": 3
   },
   "file_extension": ".py",
   "mimetype": "text/x-python",
   "name": "python",
   "nbconvert_exporter": "python",
   "pygments_lexer": "ipython3",
   "version": "3.11.1"
  }
 },
 "nbformat": 4,
 "nbformat_minor": 2
}
