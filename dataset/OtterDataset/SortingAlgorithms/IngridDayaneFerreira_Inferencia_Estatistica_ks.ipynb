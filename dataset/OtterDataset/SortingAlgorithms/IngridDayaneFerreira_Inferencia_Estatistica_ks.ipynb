{
 "cells": [
  {
   "cell_type": "code",
   "execution_count": 1,
   "metadata": {},
   "outputs": [
    {
     "name": "stdout",
     "output_type": "stream",
     "text": [
      "D = 0.07122127599925354\n",
      "p-value = 0.47633303663375737\n"
     ]
    }
   ],
   "source": [
    "import numpy as np\n",
    "from scipy.stats import norm  # Usaremos a scipy apenas para a CDF da normal\n",
    "\n",
    "def kolmogorov_smirnov(data, dist='norm', args=()):\n",
    "   \n",
    "    n = len(data)\n",
    "    data_sorted = np.sort(data)\n",
    "\n",
    "    # Função de distribuição cumulativa empírica\n",
    "    cdf_emp = np.arange(1, n+1) / n\n",
    "\n",
    "    # Função de distribuição cumulativa teórica\n",
    "    cdf_theo = norm.cdf(data_sorted, *args)  # Para a distribuição normal\n",
    "\n",
    "    # Calcular a estatística de teste D\n",
    "    D = np.max(np.abs(cdf_emp - cdf_theo))\n",
    "\n",
    "    # Cálculo aproximado do valor-p para grandes amostras\n",
    "    z = np.sqrt(n) * D\n",
    "    p_value = 2 * norm.sf(z)\n",
    "\n",
    "    return D, p_value\n",
    "\n",
    "data = np.random.randn(100)\n",
    "D, p_value = kolmogorov_smirnov(data)\n",
    "print(\"D =\", D)\n",
    "print(\"p-value =\", p_value)"
   ]
  },
  {
   "cell_type": "code",
   "execution_count": 2,
   "metadata": {},
   "outputs": [
    {
     "name": "stdout",
     "output_type": "stream",
     "text": [
      "Os dados são provavelmente provenientes de uma distribuição normal\n"
     ]
    }
   ],
   "source": [
    "import numpy as np\n",
    "from scipy import stats\n",
    "\n",
    "# data = np.random.randn(100)\n",
    "\n",
    "D, p_value = stats.kstest(data, 'norm')\n",
    "\n",
    "# Interpretação os resultados\n",
    "alpha = 0.05\n",
    "if p_value > alpha:\n",
    "    print('Os dados são provavelmente provenientes de uma distribuição normal')\n",
    "else:\n",
    "    print('Os dados provavelmente não são provenientes de uma distribuição normal')"
   ]
  }
 ],
 "metadata": {
  "kernelspec": {
   "display_name": "Python 3",
   "language": "python",
   "name": "python3"
  },
  "language_info": {
   "codemirror_mode": {
    "name": "ipython",
    "version": 3
   },
   "file_extension": ".py",
   "mimetype": "text/x-python",
   "name": "python",
   "nbconvert_exporter": "python",
   "pygments_lexer": "ipython3",
   "version": "3.12.6"
  }
 },
 "nbformat": 4,
 "nbformat_minor": 2
}
