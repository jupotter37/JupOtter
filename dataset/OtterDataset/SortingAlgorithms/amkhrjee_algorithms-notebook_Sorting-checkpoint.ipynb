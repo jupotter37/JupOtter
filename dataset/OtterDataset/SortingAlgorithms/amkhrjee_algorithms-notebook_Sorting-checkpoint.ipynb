{
 "cells": [
  {
   "cell_type": "markdown",
   "id": "dffa0715-cedd-456f-9a67-cc867da99203",
   "metadata": {},
   "source": [
    "# Sorting Algorithms\n",
    "This notebook aims to be a reference manual to different kinds of sorting algorithms. \n",
    "\n",
    "This notebook should be used for academic purposes only. \n",
    "\n",
    "We shall start with the simplest of the algorthims and slowly make our way to the more involved ones. "
   ]
  },
  {
   "cell_type": "code",
   "execution_count": 27,
   "id": "223b5bdc-9417-4f92-99e5-ec4df66c38f2",
   "metadata": {},
   "outputs": [
    {
     "name": "stdout",
     "output_type": "stream",
     "text": [
      "Sample array =  [44, 90, 81, 86, 75, 33, 14, 50, 28, 88]\n"
     ]
    }
   ],
   "source": [
    "# Sample Data\n",
    "import random\n",
    "arr = [random.randint(0, 100) for _ in range(10)]\n",
    "print(\"Sample array = \", arr)"
   ]
  },
  {
   "cell_type": "markdown",
   "id": "6ea4d950-131e-4438-979d-22b017bc314c",
   "metadata": {},
   "source": [
    "## 0. Bogosort\n",
    "As the name suggests, it is a \"bogous\" sort that is more of a running joke than an algorithm. It has a complexity of $O(n!)$. It simply checks all permutations of the array until it's sorted."
   ]
  },
  {
   "cell_type": "code",
   "execution_count": 36,
   "id": "0322aa2c-831d-4e85-985d-bd074a8c498d",
   "metadata": {},
   "outputs": [
    {
     "name": "stdout",
     "output_type": "stream",
     "text": [
      "[14, 28, 33, 44, 50, 75, 81, 86, 88, 90]\n"
     ]
    }
   ],
   "source": [
    "    def bogosort(arr):\n",
    "        sorted = False\n",
    "        while not sorted:\n",
    "            for i in range(1, len(arr)):\n",
    "                if arr[i-1] > arr[i]:\n",
    "                    random.shuffle(arr)\n",
    "                    break\n",
    "            sorted = True\n",
    "        return arr\n",
    "print(arr)"
   ]
  },
  {
   "cell_type": "markdown",
   "id": "7fbd76ac-1748-4df2-8fd8-7e79a63f6037",
   "metadata": {},
   "source": [
    "## 1.  Bubble Sort\n",
    "Bubble sort is the simplest of the sorting algorithms. It is also very inefficient, at least for noiseless sorting applications. \n",
    "This algorithm simply goes over the array $n$ times as the smallest values 'bubble up' from the rest of the array elements. It stops when all the items are sorted."
   ]
  },
  {
   "cell_type": "code",
   "execution_count": 32,
   "id": "38609d9a-2744-40f1-b775-22a848466ffb",
   "metadata": {},
   "outputs": [
    {
     "name": "stdout",
     "output_type": "stream",
     "text": [
      "[14, 28, 33, 44, 50, 75, 81, 86, 88, 90]\n"
     ]
    }
   ],
   "source": [
    "def bubblesort(arr):\n",
    "    n = len(arr)\n",
    "    for i in range(n):\n",
    "        for j in range(n-i-1):\n",
    "            if arr[j] > arr[j+1]:\n",
    "                arr[j], arr[j+1] = arr[j+1], arr[j]\n",
    "                \n",
    "bubblesort(arr)\n",
    "print(arr)"
   ]
  },
  {
   "cell_type": "markdown",
   "id": "12388bea-78f2-4e75-b17f-6fdbd3592d0f",
   "metadata": {},
   "source": [
    "Bubble sort is a $O(n^2)$ in-place sorting algorithm. "
   ]
  },
  {
   "cell_type": "markdown",
   "id": "69c9668d-df55-4f56-ae0a-3bad5dffb5ef",
   "metadata": {},
   "source": [
    "## 2. Selection Sort\n",
    "Selection sort \"selects\" the  minimum/maximum element from the array and places them in the sorted array. "
   ]
  },
  {
   "cell_type": "code",
   "execution_count": 30,
   "id": "8a1611d3-4056-4bb6-83ce-0fe836620033",
   "metadata": {},
   "outputs": [
    {
     "name": "stdout",
     "output_type": "stream",
     "text": [
      "[14, 28, 33, 44, 50, 75, 81, 86, 88, 90]\n"
     ]
    }
   ],
   "source": [
    "def selectionsort(arr):\n",
    "    n = len(arr)\n",
    "    for i in range(n):\n",
    "        max = -float('inf')\n",
    "        for j in range(n - i):\n",
    "            if arr[j] > max:\n",
    "                max = arr[j]\n",
    "                max_index = j\n",
    "        arr[max_index], arr[n - i - 1] = arr[n - i - 1], arr[max_index]\n",
    "\n",
    "selectionsort(arr)\n",
    "print(arr)"
   ]
  },
  {
   "cell_type": "markdown",
   "id": "06f5029e-2d53-4099-9c7f-88d09c1722cb",
   "metadata": {},
   "source": [
    "Selection sort is also an $O(n^2)$ in-place sort."
   ]
  },
  {
   "cell_type": "markdown",
   "id": "c79872bc-86c0-4830-9ea1-9044588702ef",
   "metadata": {},
   "source": [
    "## 3. Insertion sort\n",
    "Insertion sort \"inserts\" appropriate values to an already sorted array. As an inital case, it assumes that the first element is already sorted."
   ]
  },
  {
   "cell_type": "code",
   "execution_count": 34,
   "id": "af195ed9-37a1-45a8-930b-01d2fce56b36",
   "metadata": {},
   "outputs": [
    {
     "name": "stdout",
     "output_type": "stream",
     "text": [
      "[14, 28, 33, 44, 50, 75, 81, 86, 88, 90]\n"
     ]
    }
   ],
   "source": [
    "def insertionsort(arr):\n",
    "    n = len(arr)\n",
    "    for i in range(1, n):\n",
    "        if arr[i] < arr[i-1]:\n",
    "            arr[i], arr[i-1] = arr[i-1], arr[i]\n",
    "\n",
    "insertionsort(arr)\n",
    "print(arr)    "
   ]
  },
  {
   "cell_type": "markdown",
   "id": "7c27e9ff-41b6-450f-bd40-0f04f2babe98",
   "metadata": {},
   "source": [
    "This is also an $O(n^2)$ algorithm."
   ]
  },
  {
   "cell_type": "markdown",
   "id": "9400ab76-17f1-4aa3-ab80-7b93a0954324",
   "metadata": {},
   "source": [
    "## 4. Merge Sort\n",
    "This is a classic divide-and-conquer algorithm that divides the array into two subarrays at each stage. \n",
    "This algorithm has the following recurrence relation: $$T(n) = 2T(n/2) + O(n)$$\n",
    "\n",
    "Using Master's theorem, we can solve this recurrence to be $O(n \\log n)$, thus making this our first logartithmic time algorithm here. In fact, this is the lower bound for sorting algorithms."
   ]
  },
  {
   "cell_type": "code",
   "execution_count": 47,
   "id": "406fa60d-624e-4bdc-8eb7-bee8742bc18d",
   "metadata": {},
   "outputs": [
    {
     "name": "stdout",
     "output_type": "stream",
     "text": [
      "[14, 28, 33, 44, 50, 75, 81, 86, 88, 90]\n"
     ]
    }
   ],
   "source": [
    "def merge(left, right):\n",
    "    merged = []\n",
    "    i = 0\n",
    "    j = 0\n",
    "    while i < len(left) and j < len(right):\n",
    "        if left[i] <= right[j]:\n",
    "            merged.append(left[i])\n",
    "            i += 1\n",
    "        else:\n",
    "            merged.append(right[j])\n",
    "            j += 1\n",
    "            \n",
    "    while i < len(left):\n",
    "        merged.append(left[i])\n",
    "        i += 1\n",
    "    while j < len(right):\n",
    "        merged.append(right[j])\n",
    "        j += 1\n",
    "        \n",
    "    return merged\n",
    "    \n",
    "def mergesort(arr):\n",
    "    if len(arr) == 1:\n",
    "        return arr\n",
    "    mid = len(arr) // 2\n",
    "    left_half = arr[:mid]\n",
    "    right_half = arr[mid:]\n",
    "\n",
    "    left_half = mergesort(left_half)\n",
    "    right_half = mergesort(right_half)\n",
    "    return merge(left_half, right_half)\n",
    "\n",
    "mergesort(arr)\n",
    "print(arr)"
   ]
  }
 ],
 "metadata": {
  "kernelspec": {
   "display_name": "Python 3 (ipykernel)",
   "language": "python",
   "name": "python3"
  },
  "language_info": {
   "codemirror_mode": {
    "name": "ipython",
    "version": 3
   },
   "file_extension": ".py",
   "mimetype": "text/x-python",
   "name": "python",
   "nbconvert_exporter": "python",
   "pygments_lexer": "ipython3",
   "version": "3.10.6"
  }
 },
 "nbformat": 4,
 "nbformat_minor": 5
}
