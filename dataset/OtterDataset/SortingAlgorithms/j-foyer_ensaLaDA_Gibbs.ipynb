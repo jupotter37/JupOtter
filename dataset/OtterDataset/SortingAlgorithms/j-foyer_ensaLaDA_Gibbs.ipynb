{
 "cells": [
  {
   "cell_type": "markdown",
   "id": "dangerous-success",
   "metadata": {},
   "source": [
    "## Load data and packages"
   ]
  },
  {
   "cell_type": "code",
<<<<<<< HEAD
   "execution_count": 1398,
=======
   "execution_count": 1,
   "id": "surrounded-archive",
>>>>>>> 7a4cfcec940c1052c16163e11e152ea382ec6cf9
   "metadata": {},
   "outputs": [],
   "source": [
    "import random\n",
    "import numpy as np\n",
    "import scanpy as sc\n",
    "import anndata as an\n",
    "import scipy.stats as st\n",
    "from scipy.spatial import KDTree\n",
    "import math\n",
    "from numba import njit\n",
    "from numba import jit\n",
    "from typing import *\n",
    "\n",
    "import matplotlib.pyplot as plt\n",
    "from matplotlib import rcParams\n",
    "\n",
    "rcParams[\"figure.facecolor\"] = \"white\"\n",
    "\n",
    "DEBUG = False"
   ]
  },
  {
   "cell_type": "code",
<<<<<<< HEAD
   "execution_count": 1399,
=======
   "execution_count": 1047,
   "id": "patient-travel",
>>>>>>> 7a4cfcec940c1052c16163e11e152ea382ec6cf9
   "metadata": {},
   "outputs": [],
   "source": [
    "def prepare_data(adata : an.AnnData, select_hvg : bool = True)-> an.AnnData:\n",
    "    adata.var_names_make_unique()\n",
    "    if select_hvg:\n",
    "        sc.pp.log1p(adata)\n",
    "        sc.pp.highly_variable_genes(adata)\n",
    "        adata = adata[:,adata.var.highly_variable_genes.values]\n",
    "        adata.X = (np.exp(adata.X) -1).round(0)\n",
    "    return adata"
   ]
  },
  {
   "cell_type": "code",
<<<<<<< HEAD
   "execution_count": 1400,
   "metadata": {},
=======
   "execution_count": 1048,
   "id": "silent-mexican",
   "metadata": {
    "scrolled": false
   },
>>>>>>> 7a4cfcec940c1052c16163e11e152ea382ec6cf9
   "outputs": [
    {
     "name": "stdout",
     "output_type": "stream",
     "text": [
      "AnnData object with n_obs × n_vars = 100 × 50\n",
      "    obs: 'spot'\n",
      "    var: 'gene'\n",
      "    uns: 'info'\n",
      "    obsm: 'spatial', 'theta'\n",
      "    varm: 'phi'\n"
     ]
    }
   ],
   "source": [
    "path = \"/Users/juliafoyer/Documents/Skolarbete/Masters_thesis/Scripts/spatial-data-synth/20210402100654897026-synth-data.h5ad\"\n",
    "adata = an.read_h5ad(path)\n",
    "print(adata)\n",
    "adata = prepare_data(adata,select_hvg=False)"
   ]
  },
  {
   "cell_type": "code",
<<<<<<< HEAD
   "execution_count": 1450,
   "metadata": {},
   "outputs": [
    {
     "name": "stderr",
     "output_type": "stream",
     "text": [
      "INFO:lda:n_documents: 100\n",
      "INFO:lda:vocab_size: 50\n",
      "INFO:lda:n_words: 10346\n",
      "INFO:lda:n_topics: 3\n",
      "INFO:lda:n_iter: 1500\n",
      "WARNING:lda:all zero column in document-term matrix found\n",
      "INFO:lda:<0> log likelihood: -44331\n",
      "INFO:lda:<10> log likelihood: -39607\n",
      "INFO:lda:<20> log likelihood: -38624\n",
      "INFO:lda:<30> log likelihood: -37909\n",
      "INFO:lda:<40> log likelihood: -37618\n",
      "INFO:lda:<50> log likelihood: -37325\n",
      "INFO:lda:<60> log likelihood: -37367\n",
      "INFO:lda:<70> log likelihood: -37579\n",
      "INFO:lda:<80> log likelihood: -37177\n",
      "INFO:lda:<90> log likelihood: -36957\n",
      "INFO:lda:<100> log likelihood: -36764\n",
      "INFO:lda:<110> log likelihood: -36485\n",
      "INFO:lda:<120> log likelihood: -36632\n",
      "INFO:lda:<130> log likelihood: -36647\n",
      "INFO:lda:<140> log likelihood: -36862\n",
      "INFO:lda:<150> log likelihood: -36498\n",
      "INFO:lda:<160> log likelihood: -36680\n",
      "INFO:lda:<170> log likelihood: -36434\n",
      "INFO:lda:<180> log likelihood: -36423\n",
      "INFO:lda:<190> log likelihood: -35910\n",
      "INFO:lda:<200> log likelihood: -36185\n",
      "INFO:lda:<210> log likelihood: -36374\n",
      "INFO:lda:<220> log likelihood: -36226\n",
      "INFO:lda:<230> log likelihood: -36174\n",
      "INFO:lda:<240> log likelihood: -35654\n",
      "INFO:lda:<250> log likelihood: -35769\n",
      "INFO:lda:<260> log likelihood: -35668\n",
      "INFO:lda:<270> log likelihood: -35319\n",
      "INFO:lda:<280> log likelihood: -35604\n",
      "INFO:lda:<290> log likelihood: -35692\n",
      "INFO:lda:<300> log likelihood: -35668\n",
      "INFO:lda:<310> log likelihood: -35560\n",
      "INFO:lda:<320> log likelihood: -35774\n",
      "INFO:lda:<330> log likelihood: -36054\n",
      "INFO:lda:<340> log likelihood: -35652\n",
      "INFO:lda:<350> log likelihood: -35683\n",
      "INFO:lda:<360> log likelihood: -35708\n",
      "INFO:lda:<370> log likelihood: -35681\n",
      "INFO:lda:<380> log likelihood: -35499\n",
      "INFO:lda:<390> log likelihood: -35695\n",
      "INFO:lda:<400> log likelihood: -35973\n",
      "INFO:lda:<410> log likelihood: -35891\n",
      "INFO:lda:<420> log likelihood: -35986\n",
      "INFO:lda:<430> log likelihood: -36170\n",
      "INFO:lda:<440> log likelihood: -36459\n",
      "INFO:lda:<450> log likelihood: -36314\n",
      "INFO:lda:<460> log likelihood: -36217\n",
      "INFO:lda:<470> log likelihood: -36229\n",
      "INFO:lda:<480> log likelihood: -36093\n",
      "INFO:lda:<490> log likelihood: -35943\n",
      "INFO:lda:<500> log likelihood: -35920\n",
      "INFO:lda:<510> log likelihood: -35796\n",
      "INFO:lda:<520> log likelihood: -35994\n",
      "INFO:lda:<530> log likelihood: -35986\n",
      "INFO:lda:<540> log likelihood: -35732\n",
      "INFO:lda:<550> log likelihood: -35593\n",
      "INFO:lda:<560> log likelihood: -35664\n",
      "INFO:lda:<570> log likelihood: -35649\n",
      "INFO:lda:<580> log likelihood: -35640\n",
      "INFO:lda:<590> log likelihood: -35546\n",
      "INFO:lda:<600> log likelihood: -35397\n",
      "INFO:lda:<610> log likelihood: -35536\n",
      "INFO:lda:<620> log likelihood: -35644\n",
      "INFO:lda:<630> log likelihood: -35455\n",
      "INFO:lda:<640> log likelihood: -35589\n",
      "INFO:lda:<650> log likelihood: -35401\n",
      "INFO:lda:<660> log likelihood: -35580\n",
      "INFO:lda:<670> log likelihood: -35772\n",
      "INFO:lda:<680> log likelihood: -35905\n",
      "INFO:lda:<690> log likelihood: -35824\n",
      "INFO:lda:<700> log likelihood: -36187\n",
      "INFO:lda:<710> log likelihood: -36028\n",
      "INFO:lda:<720> log likelihood: -36009\n",
      "INFO:lda:<730> log likelihood: -35755\n",
      "INFO:lda:<740> log likelihood: -36050\n",
      "INFO:lda:<750> log likelihood: -36153\n",
      "INFO:lda:<760> log likelihood: -35861\n",
      "INFO:lda:<770> log likelihood: -35667\n",
      "INFO:lda:<780> log likelihood: -35857\n",
      "INFO:lda:<790> log likelihood: -35624\n",
      "INFO:lda:<800> log likelihood: -35887\n",
      "INFO:lda:<810> log likelihood: -35685\n",
      "INFO:lda:<820> log likelihood: -35621\n",
      "INFO:lda:<830> log likelihood: -35929\n",
      "INFO:lda:<840> log likelihood: -35842\n",
      "INFO:lda:<850> log likelihood: -35591\n",
      "INFO:lda:<860> log likelihood: -35709\n",
      "INFO:lda:<870> log likelihood: -35597\n",
      "INFO:lda:<880> log likelihood: -35706\n",
      "INFO:lda:<890> log likelihood: -35385\n",
      "INFO:lda:<900> log likelihood: -35420\n",
      "INFO:lda:<910> log likelihood: -35761\n",
      "INFO:lda:<920> log likelihood: -35840\n",
      "INFO:lda:<930> log likelihood: -35805\n",
      "INFO:lda:<940> log likelihood: -35773\n",
      "INFO:lda:<950> log likelihood: -35894\n",
      "INFO:lda:<960> log likelihood: -35882\n",
      "INFO:lda:<970> log likelihood: -35608\n",
      "INFO:lda:<980> log likelihood: -35654\n",
      "INFO:lda:<990> log likelihood: -35702\n",
      "INFO:lda:<1000> log likelihood: -35502\n",
      "INFO:lda:<1010> log likelihood: -35252\n",
      "INFO:lda:<1020> log likelihood: -35205\n",
      "INFO:lda:<1030> log likelihood: -35518\n",
      "INFO:lda:<1040> log likelihood: -35418\n",
      "INFO:lda:<1050> log likelihood: -35373\n",
      "INFO:lda:<1060> log likelihood: -35539\n",
      "INFO:lda:<1070> log likelihood: -35573\n",
      "INFO:lda:<1080> log likelihood: -35536\n",
      "INFO:lda:<1090> log likelihood: -35913\n",
      "INFO:lda:<1100> log likelihood: -35876\n",
      "INFO:lda:<1110> log likelihood: -36150\n",
      "INFO:lda:<1120> log likelihood: -36118\n",
      "INFO:lda:<1130> log likelihood: -36027\n",
      "INFO:lda:<1140> log likelihood: -35691\n",
      "INFO:lda:<1150> log likelihood: -35517\n",
      "INFO:lda:<1160> log likelihood: -35621\n",
      "INFO:lda:<1170> log likelihood: -35783\n",
      "INFO:lda:<1180> log likelihood: -35683\n",
      "INFO:lda:<1190> log likelihood: -35848\n",
      "INFO:lda:<1200> log likelihood: -35781\n",
      "INFO:lda:<1210> log likelihood: -35836\n",
      "INFO:lda:<1220> log likelihood: -35758\n",
      "INFO:lda:<1230> log likelihood: -35892\n",
      "INFO:lda:<1240> log likelihood: -35824\n",
      "INFO:lda:<1250> log likelihood: -35708\n",
      "INFO:lda:<1260> log likelihood: -35397\n",
      "INFO:lda:<1270> log likelihood: -35461\n",
      "INFO:lda:<1280> log likelihood: -35454\n",
      "INFO:lda:<1290> log likelihood: -35197\n",
      "INFO:lda:<1300> log likelihood: -35347\n",
      "INFO:lda:<1310> log likelihood: -35411\n",
      "INFO:lda:<1320> log likelihood: -35766\n",
      "INFO:lda:<1330> log likelihood: -35969\n",
      "INFO:lda:<1340> log likelihood: -36006\n",
      "INFO:lda:<1350> log likelihood: -36019\n",
      "INFO:lda:<1360> log likelihood: -35998\n",
      "INFO:lda:<1370> log likelihood: -36100\n",
      "INFO:lda:<1380> log likelihood: -36003\n",
      "INFO:lda:<1390> log likelihood: -36071\n",
      "INFO:lda:<1400> log likelihood: -35995\n",
      "INFO:lda:<1410> log likelihood: -35986\n",
      "INFO:lda:<1420> log likelihood: -36226\n",
      "INFO:lda:<1430> log likelihood: -36277\n",
      "INFO:lda:<1440> log likelihood: -36225\n",
      "INFO:lda:<1450> log likelihood: -36092\n",
      "INFO:lda:<1460> log likelihood: -35864\n",
      "INFO:lda:<1470> log likelihood: -36155\n",
      "INFO:lda:<1480> log likelihood: -35840\n",
      "INFO:lda:<1490> log likelihood: -35564\n",
      "INFO:lda:<1499> log likelihood: -35814\n"
     ]
    }
   ],
   "source": [
    "import lda\n",
    "model = lda.LDA(n_topics=3, n_iter=1500, random_state=1)\n",
    "model.fit(adata.X.astype(np.int))  # model.fit_transform(X) is also available\n",
    "topic_word = model.topic_word_  # model.components_ also works"
=======
   "execution_count": 1061,
   "id": "surgical-irrigation",
   "metadata": {},
   "outputs": [],
   "source": [
    "from sklearn.decomposition import LatentDirichletAllocation as LDA\n",
    "\n",
    "lda = LDA(n_components=3,max_iter=2000).fit(adata.X)\n"
   ]
  },
  {
   "cell_type": "code",
   "execution_count": 1056,
   "id": "motivated-belarus",
   "metadata": {},
   "outputs": [
    {
     "data": {
      "text/plain": [
       "(100, 10)"
      ]
     },
     "execution_count": 1056,
     "metadata": {},
     "output_type": "execute_result"
    }
   ],
   "source": [
    "theta_test.shape"
   ]
  },
  {
   "cell_type": "code",
   "execution_count": null,
   "id": "heated-folks",
   "metadata": {},
   "outputs": [],
   "source": [
    "theta_test = lda.fit_transform(adata.X)"
>>>>>>> 7a4cfcec940c1052c16163e11e152ea382ec6cf9
   ]
  },
  {
   "cell_type": "code",
<<<<<<< HEAD
   "execution_count": 1456,
=======
   "execution_count": 1059,
   "id": "fifty-arkansas",
>>>>>>> 7a4cfcec940c1052c16163e11e152ea382ec6cf9
   "metadata": {},
   "outputs": [
    {
     "data": {
<<<<<<< HEAD
      "image/png": "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\n",
=======
      "image/png": "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\n",
>>>>>>> 7a4cfcec940c1052c16163e11e152ea382ec6cf9
      "text/plain": [
       "<Figure size 432x288 with 1 Axes>"
      ]
     },
     "metadata": {},
     "output_type": "display_data"
    }
   ],
   "source": [
<<<<<<< HEAD
    "plt.imshow(model.doc_topic_.reshape(side_length,side_length,3))\n",
    "plt.title(\"Theta values (in RGB space) across tissue\")\n",
    "plt.show()\n"
=======
    "plt.imshow(theta_test.reshape(10,10,3))\n",
    "plt.title(\"Theta values (in RGB space) across tissue\")\n",
    "plt.show()"
>>>>>>> 7a4cfcec940c1052c16163e11e152ea382ec6cf9
   ]
  },
  {
   "cell_type": "code",
<<<<<<< HEAD
   "execution_count": 1401,
=======
   "execution_count": 307,
   "id": "precise-syracuse",
>>>>>>> 7a4cfcec940c1052c16163e11e152ea382ec6cf9
   "metadata": {},
   "outputs": [
    {
     "data": {
      "image/png": "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\n",
      "text/plain": [
       "<Figure size 432x288 with 1 Axes>"
      ]
     },
     "metadata": {},
     "output_type": "display_data"
    }
   ],
   "source": [
    "side_length = adata.uns[\"info\"][\"side_length\"]\n",
    "plt.imshow(adata.obsm[\"theta\"].reshape(side_length,side_length,3))\n",
    "plt.title(\"Theta values (in RGB space) across tissue\")\n",
    "plt.show()\n"
   ]
  },
  {
   "cell_type": "code",
<<<<<<< HEAD
   "execution_count": 1402,
=======
   "execution_count": 563,
   "id": "ethical-graduate",
>>>>>>> 7a4cfcec940c1052c16163e11e152ea382ec6cf9
   "metadata": {},
   "outputs": [],
   "source": [
    "X = adata.X\n",
    "spots = adata.obs_names\n",
    "genes = adata.var_names\n",
    "n_spots = len(adata.obs_names)\n",
    "n_genes = len(adata.var_names)"
   ]
  },
  {
   "cell_type": "markdown",
   "id": "neural-scheduling",
   "metadata": {},
   "source": [
    "## Assign random factors"
   ]
  },
  {
   "cell_type": "code",
<<<<<<< HEAD
   "execution_count": 1403,
=======
   "execution_count": 564,
   "id": "mounted-brooklyn",
>>>>>>> 7a4cfcec940c1052c16163e11e152ea382ec6cf9
   "metadata": {},
   "outputs": [],
   "source": [
    "def assign_random(adata, K):\n",
    "    \"\"\" Assigns a random factor in range(K) to each\n",
    "    UMI.\n",
    "\n",
    "    Parameters:\n",
    "    ----------\n",
    "    adata: an.AnnData\n",
    "        anndata object to study\n",
    "    K: int\n",
    "        number of topics\n",
    "    \n",
    "    Returns:\n",
    "    ----------\n",
    "    A list of lists (one for each spot), containing\n",
    "    a random factor for each UMI.\n",
    "    \"\"\"\n",
    "    umi_factor_list = []\n",
    "    all_n_umis = adata.X.sum(axis=1)\n",
    "    for n_UMIs in all_n_umis:\n",
    "        factors = np.random.randint(low = 0,\n",
    "                                    high = K,\n",
    "                                    size = int(n_UMIs))\n",
    "        umi_factor_list.append(factors)\n",
    "    return umi_factor_list"
   ]
  },
  {
   "cell_type": "code",
<<<<<<< HEAD
   "execution_count": 1404,
=======
   "execution_count": 565,
   "id": "prepared-colorado",
>>>>>>> 7a4cfcec940c1052c16163e11e152ea382ec6cf9
   "metadata": {},
   "outputs": [],
   "source": [
    "# this is for testing purpose\n",
    "def get_gene_identity(adata):\n",
    "    \"\"\" add short description here\n",
    "    \n",
    "    Parameters:\n",
    "    ----------\n",
    "    \"\"\"\n",
    "    n_spots,n_genes = adata.shape\n",
    "    gene_id_list = []\n",
    "    X = adata.X\n",
    "    for spot in range(n_spots):\n",
    "        gene_id_list.append([])\n",
    "        for gene in range(n_genes):\n",
    "            gene_id_list[spot] += [gene] *int(X[spot,gene])\n",
    "    return gene_id_list"
   ]
  },
  {
   "cell_type": "markdown",
   "id": "unnecessary-sphere",
   "metadata": {},
   "source": [
    "## Get IDs and count matrices"
   ]
  },
  {
   "cell_type": "code",
<<<<<<< HEAD
   "execution_count": 1405,
=======
   "execution_count": 1148,
   "id": "white-construction",
>>>>>>> 7a4cfcec940c1052c16163e11e152ea382ec6cf9
   "metadata": {},
   "outputs": [],
   "source": [
    "def get_ids_dt_wt(adata: an.AnnData,\n",
    "                  umi_factors: List[np.ndarray],\n",
    "                  K: int,\n",
    "                  alpha = 0.1,\n",
    "                  beta = 0.1)->Tuple[np.ndarray,np.ndarray,np.ndarray]:\n",
    "    \"\"\" add short description here\n",
    "    \n",
    "    Parameters:\n",
    "    ----------\n",
    "    adata : an.AnnData\n",
    "        anndata object to study\n",
    "    umi_factors. List[np.ndarray]\n",
    "        List of arrays. Element j in list i represents\n",
    "        topic that word j belongs to in spot i\n",
    "    K: int\n",
    "        number of topics\n",
    "\n",
    "    Returns:\n",
    "    --------\n",
    "    \n",
    "    \"\"\"\n",
    "    \n",
    "    n_spots, n_genes = adata.X.shape\n",
    "    X = adata.X\n",
    "    ids = []\n",
    "    dt = np.zeros((n_spots, K)) + alpha\n",
    "    wt = np.zeros((K, n_genes)) + beta\n",
    "    \n",
    "    for spot in range(n_spots):\n",
    "        ids_spot = []\n",
    "        spot_list = umi_factors[spot].tolist()\n",
    "        start = 0\n",
    "        end = 0\n",
    "        for gene in range(n_genes):\n",
    "            n_umis = int(X[spot, gene])\n",
    "            ids_spot += [gene] * n_umis\n",
    "            end += n_umis\n",
    "            for factor in range(K):\n",
    "                wt[factor, gene] += spot_list[start: end].count(factor)\n",
    "            start = end\n",
    "        ids.append(ids_spot)\n",
    "        for factor in range(K):\n",
    "            dt[spot, factor] = spot_list.count(factor)\n",
    "    return ids, dt, wt"
   ]
  },
  {
   "cell_type": "code",
<<<<<<< HEAD
   "execution_count": 1406,
=======
   "execution_count": 567,
   "id": "foster-monaco",
>>>>>>> 7a4cfcec940c1052c16163e11e152ea382ec6cf9
   "metadata": {},
   "outputs": [],
   "source": [
    "# this is for testing purpose\n",
    "def get_ids_dt_wt_test(gene_ids: List[List[int]],\n",
    "                  umi_factors: List[np.ndarray],\n",
    "                  n_genes: int,\n",
    "                  K: int)->Tuple[np.ndarray,np.ndarray,np.ndarray]:\n",
    "    \"\"\" add short description here\n",
    "    \n",
    "    Parameters:\n",
    "    ----------\n",
    "    \"\"\"\n",
    "    \n",
    "    n_spots = len(gene_ids)\n",
    "    dt = np.zeros((n_spots, K))\n",
    "    wt = np.zeros((K, n_genes))\n",
    "    \n",
    "    for spot in range(n_spots):\n",
    "        for gene,factor in zip(gene_ids[spot],umi_factors[spot]):\n",
    "            dt[spot,factor] += 1\n",
    "            wt[factor,gene] += 1\n",
    "    \n",
    "    return dt,wt\n",
    "        "
   ]
  },
  {
   "cell_type": "code",
<<<<<<< HEAD
   "execution_count": 1407,
=======
   "execution_count": 568,
   "id": "ordered-corruption",
>>>>>>> 7a4cfcec940c1052c16163e11e152ea382ec6cf9
   "metadata": {},
   "outputs": [],
   "source": [
    "umi_factors = assign_random(adata, 3)\n",
    "gene_ids = get_gene_identity(adata)\n",
    "assert len(umi_factors) == len(gene_ids)"
   ]
  },
  {
   "cell_type": "code",
<<<<<<< HEAD
   "execution_count": 1408,
=======
   "execution_count": 569,
   "id": "bottom-venture",
>>>>>>> 7a4cfcec940c1052c16163e11e152ea382ec6cf9
   "metadata": {},
   "outputs": [],
   "source": [
    "# test to see whether proposed implementation\n",
    "# gives equal result as my attempt\n",
    "n_spots,n_genes = adata.shape\n",
    "ids,dt,wt = get_ids_dt_wt(adata,umi_factors,3)\n",
    "dt_test,wt_test = get_ids_dt_wt_test(gene_ids,umi_factors,n_genes,3)\n",
    "\n",
    "assert np.all(dt_test==dt)\n",
    "assert np.all(wt_test == wt)"
   ]
  },
  {
   "cell_type": "code",
<<<<<<< HEAD
   "execution_count": 1409,
=======
   "execution_count": 570,
   "id": "compressed-creator",
>>>>>>> 7a4cfcec940c1052c16163e11e152ea382ec6cf9
   "metadata": {},
   "outputs": [],
   "source": [
    "ids, dt, wt = get_ids_dt_wt(adata, umi_factors, 3)"
   ]
  },
  {
   "cell_type": "code",
<<<<<<< HEAD
   "execution_count": 1410,
=======
   "execution_count": 571,
   "id": "attended-background",
>>>>>>> 7a4cfcec940c1052c16163e11e152ea382ec6cf9
   "metadata": {},
   "outputs": [],
   "source": [
    "assert(np.all(np.sum(dt,axis=1) == np.sum(X,axis=1))), \"total UMI's in spot and dt rowsums must be equal\""
   ]
  },
  {
   "cell_type": "markdown",
   "id": "overall-shakespeare",
   "metadata": {},
   "source": [
    "## Functions for calculating theta and phi"
   ]
  },
  {
   "cell_type": "code",
<<<<<<< HEAD
   "execution_count": 1411,
=======
   "execution_count": 572,
   "id": "seven-gnome",
>>>>>>> 7a4cfcec940c1052c16163e11e152ea382ec6cf9
   "metadata": {},
   "outputs": [],
   "source": [
    "def get_theta(dt):\n",
    "    \"\"\" add short description here\n",
    "    \n",
    "    Parameters:\n",
    "    ----------\n",
    "    \"\"\"\n",
    "    theta = dt / dt.sum(axis=1, keepdims=True)\n",
    "    return theta"
   ]
  },
  {
   "cell_type": "code",
   "execution_count": 573,
   "id": "hungarian-stockholm",
   "metadata": {},
   "outputs": [],
   "source": [
    "# Longer function for testing.\n",
    "def get_theta_test(dt):\n",
    "    \"\"\" add short description here\n",
    "    \n",
    "    Parameters:\n",
    "    ----------\n",
    "    \"\"\"\n",
    "    n_spots, K = dt.shape\n",
    "    theta = np.zeros((n_spots, K))\n",
    "    for spot in range(n_spots):\n",
    "        for factor in range(K):\n",
    "            theta[spot, factor] = dt[spot, factor] / np.sum(dt, axis=1)[spot]\n",
    "    return theta"
   ]
  },
  {
   "cell_type": "code",
<<<<<<< HEAD
   "execution_count": 1412,
=======
   "execution_count": 574,
   "id": "solved-penguin",
>>>>>>> 7a4cfcec940c1052c16163e11e152ea382ec6cf9
   "metadata": {},
   "outputs": [],
   "source": [
    "theta = get_theta(dt)\n",
    "theta_test = get_theta_test(dt)\n",
    "assert np.all(theta_test==theta)"
   ]
  },
  {
   "cell_type": "code",
<<<<<<< HEAD
   "execution_count": 1413,
=======
   "execution_count": 575,
   "id": "confused-excerpt",
>>>>>>> 7a4cfcec940c1052c16163e11e152ea382ec6cf9
   "metadata": {},
   "outputs": [],
   "source": [
    "def get_phi(wt): # I don't use this...\n",
    "    phi = wt/wt.sum(axis=1, keepdims=True)\n",
    "    return phi"
   ]
  },
  {
   "cell_type": "code",
<<<<<<< HEAD
   "execution_count": 1414,
=======
   "execution_count": 576,
   "id": "theoretical-jenny",
>>>>>>> 7a4cfcec940c1052c16163e11e152ea382ec6cf9
   "metadata": {},
   "outputs": [],
   "source": [
    "phi = get_phi(wt)"
   ]
  },
  {
   "cell_type": "markdown",
   "id": "informational-athletics",
   "metadata": {},
   "source": [
    "## Get neighbours and graph edges"
   ]
  },
  {
   "cell_type": "code",
<<<<<<< HEAD
   "execution_count": 1415,
=======
   "execution_count": 577,
   "id": "rapid-induction",
>>>>>>> 7a4cfcec940c1052c16163e11e152ea382ec6cf9
   "metadata": {},
   "outputs": [],
   "source": [
    "def findKNN(adata: an.AnnData,\n",
    "            n_neighbours: int,\n",
    "            max_distance: float)->Tuple[List[np.ndarray],List[np.ndarray]]:\n",
    "    \"\"\" add short description here\n",
    "    \n",
    "    Parameters:\n",
    "    ----------\n",
    "    \"\"\"\n",
    "    kd = KDTree(adata.obsm[\"spatial\"])\n",
    "    dist,indx = kd.query(adata.obsm[\"spatial\"],\n",
    "                         k = n_neighbours + 1,\n",
    "                         distance_upper_bound = max_distance, #I added this\n",
    "                        )\n",
    "    return dist, indx"
   ]
  },
  {
   "cell_type": "code",
<<<<<<< HEAD
   "execution_count": 1416,
   "metadata": {},
   "outputs": [],
   "source": [
    "dist, indx = findKNN(adata,4,max_distance = 1.2)"
=======
   "execution_count": 578,
   "id": "stainless-dynamics",
   "metadata": {},
   "outputs": [],
   "source": [
    "dist, indx = findKNN(adata, 4, max_distance = 1.1)"
   ]
  },
  {
   "cell_type": "markdown",
   "id": "similar-equivalent",
   "metadata": {},
   "source": [
    "For some reason A put max_distance = 0.3. That results in no neighbours at all, so the output only contains lists including the spot looking for neighbours to, i.e., one element per list. I changed to 1.1. That makes sense to me when I look at the dist output without upper bound."
>>>>>>> 7a4cfcec940c1052c16163e11e152ea382ec6cf9
   ]
  },
  {
   "cell_type": "code",
<<<<<<< HEAD
   "execution_count": 1417,
=======
   "execution_count": 579,
   "id": "democratic-flood",
>>>>>>> 7a4cfcec940c1052c16163e11e152ea382ec6cf9
   "metadata": {},
   "outputs": [],
   "source": [
    "def remove_false_neighbours(dist, indx, eps = 300):\n",
    "    \"\"\" add short description here\n",
    "    \n",
    "    Parameters:\n",
    "    ----------\n",
    "    \"\"\"\n",
    "    dist_sel = []\n",
    "    indx_sel = []\n",
    "    for i in range(len(dist)):\n",
    "        dist_sel.append([])\n",
    "        indx_sel.append([])\n",
    "        for j in range(len(dist[i])):\n",
    "            if dist[i][j] < eps:\n",
    "                dist_sel[i].append(dist[i][j])\n",
    "                indx_sel[i].append(indx[i][j])\n",
    "        dist_sel[i] = np.array(dist_sel[i])\n",
    "        indx_sel[i] = np.array(indx_sel[i])\n",
    "    return np.array(dist_sel, dtype=object), np.array(indx_sel, dtype=object)"
   ]
  },
  {
   "cell_type": "code",
<<<<<<< HEAD
   "execution_count": 1418,
=======
   "execution_count": 582,
   "id": "global-manor",
>>>>>>> 7a4cfcec940c1052c16163e11e152ea382ec6cf9
   "metadata": {},
   "outputs": [],
   "source": [
    "# for test purposes\n",
    "def remove_false_neighbours_test(dist,indx):\n",
    "    \"\"\" add short description here\n",
    "    \n",
    "    Parameters:\n",
    "    ----------\n",
    "    \"\"\"\n",
    "    nbr_filter = lambda xs,ds : [x for x,d in zip(xs,ds) if not np.isinf(d)]\n",
    "    new_idx = [nbr_filter(i,d) for i,d in zip(indx,dist)]\n",
    "    new_dist = [nbr_filter(d,d) for d in dist]\n",
    "    return new_dist,new_idx"
   ]
  },
  {
   "cell_type": "code",
<<<<<<< HEAD
   "execution_count": 1419,
=======
   "execution_count": 584,
   "id": "cosmetic-projector",
>>>>>>> 7a4cfcec940c1052c16163e11e152ea382ec6cf9
   "metadata": {},
   "outputs": [],
   "source": [
    "dist_sel_test,indx_sel_test = remove_false_neighbours_test(dist,indx)\n",
    "dist_sel, indx_sel = remove_false_neighbours(dist, indx)"
   ]
  },
  {
   "cell_type": "code",
<<<<<<< HEAD
   "execution_count": 1420,
=======
   "execution_count": 589,
   "id": "surprised-basement",
>>>>>>> 7a4cfcec940c1052c16163e11e152ea382ec6cf9
   "metadata": {},
   "outputs": [],
   "source": [
    "# to test if same results are given\n",
    "for d,d_test,i,i_test in zip(dist_sel,dist_sel_test,indx_sel,indx_sel_test):\n",
    "    assert np.all(d == np.array(d_test))\n",
    "    assert np.all(i == np.array(i_test))\n",
    "    "
   ]
  },
  {
   "cell_type": "code",
<<<<<<< HEAD
   "execution_count": 1421,
=======
   "execution_count": 590,
   "id": "stretch-honor",
>>>>>>> 7a4cfcec940c1052c16163e11e152ea382ec6cf9
   "metadata": {},
   "outputs": [],
   "source": [
    "def get_E(indx_sel):\n",
    "    \"\"\" add short description here\n",
    "    \n",
    "    Parameters:\n",
    "    ----------\n",
    "    \"\"\"\n",
    "    edges = 0\n",
    "    for i in indx_sel:\n",
    "        edges += len(i) - 1\n",
    "    edges = edges / 2\n",
    "    return edges"
   ]
  },
  {
   "cell_type": "code",
<<<<<<< HEAD
   "execution_count": 1422,
=======
   "execution_count": 591,
   "id": "protecting-camel",
>>>>>>> 7a4cfcec940c1052c16163e11e152ea382ec6cf9
   "metadata": {},
   "outputs": [],
   "source": [
    "def get_E_test(indx_sel: List[int])->int:\n",
    "    \"\"\" add short description here\n",
    "    \n",
    "    Parameters:\n",
    "    ----------\n",
    "    \"\"\"\n",
    "    # make list to hold neighbor index pairs\n",
    "    indx_tuples = []\n",
    "    # iterate over neibhorhoods\n",
    "    for spot,nbrhd in enumerate(indx_sel):\n",
    "        # iterate over neihbors in neighborhood\n",
    "        for nbr in nbrhd[1::]:\n",
    "            # make a pair (spot,neibhor)\n",
    "            pair = [spot,nbr]\n",
    "            # sort pair to store edges the same way\n",
    "            # (a,b) and (b,a) will now be (a,b) and (a,b)\n",
    "            pair.sort()\n",
    "            # store pair, convert to tuple\n",
    "            indx_tuples.append(tuple(pair))\n",
    "    # apply set to pair list to remove duplicates\n",
    "    # will only hold unique edges now\n",
    "    indx_tuples = set(indx_tuples)\n",
    "    # return length\n",
    "    return len(indx_tuples)"
   ]
  },
  {
   "cell_type": "code",
<<<<<<< HEAD
   "execution_count": 1423,
=======
   "execution_count": 592,
   "id": "continent-retention",
>>>>>>> 7a4cfcec940c1052c16163e11e152ea382ec6cf9
   "metadata": {},
   "outputs": [],
   "source": [
    "E = get_E(indx_sel)\n",
    "E_test = get_E_test(indx_sel)\n",
    "#assert E == E_test"
   ]
  },
  {
   "cell_type": "markdown",
   "id": "permanent-research",
   "metadata": {},
   "source": [
    "## Get first lambda and l_dd"
   ]
  },
  {
   "cell_type": "code",
<<<<<<< HEAD
   "execution_count": 1424,
=======
   "execution_count": 593,
   "id": "wireless-alert",
>>>>>>> 7a4cfcec940c1052c16163e11e152ea382ec6cf9
   "metadata": {},
   "outputs": [],
   "source": [
    "@njit(parallel=False)\n",
    "def bhattacharyya_distance(p: np.ndarray,\n",
    "                           q: np.ndarray,\n",
    "                           X: np.ndarray)->float:\n",
    "    \"\"\" add short description here\n",
    "    \n",
    "    Parameters:\n",
    "    ----------\n",
    "    p: np.ndarray\n",
    "        a probability distribution, e.g., a theta vector\n",
    "    q: np.ndarray'\n",
    "        another probability distribution, e.g., a theta vector\n",
    "    X: np.ndarray\n",
    "        the domain of the distributions\n",
    "    \n",
    "    Returns:\n",
    "    --------\n",
    "    the bhattacharyya distance (float) between the two\n",
    "    distributions p and q.\n",
    "    \n",
    "    \"\"\"\n",
    "    BC = 0\n",
    "    for x in range(X):\n",
    "        BC += math.sqrt(p[x]*q[x])\n",
    "    DB = - math.log(BC)\n",
    "    return DB"
   ]
  },
  {
   "cell_type": "code",
<<<<<<< HEAD
   "execution_count": 1425,
=======
   "execution_count": 606,
   "id": "standard-access",
>>>>>>> 7a4cfcec940c1052c16163e11e152ea382ec6cf9
   "metadata": {},
   "outputs": [],
   "source": [
    "lambda0 = float(np.random.gamma(0.01, 0.01, 1)) # The 1 seems to be unnecessary here."
   ]
  },
  {
   "cell_type": "markdown",
   "id": "passive-adelaide",
   "metadata": {},
   "source": [
    "Har dubbelkollat funktioner ner hit."
   ]
  },
  {
   "cell_type": "code",
<<<<<<< HEAD
   "execution_count": 1426,
=======
   "execution_count": 243,
   "id": "dated-bargain",
>>>>>>> 7a4cfcec940c1052c16163e11e152ea382ec6cf9
   "metadata": {},
   "outputs": [],
   "source": [
    "def first_edge_influence(lambda0: float,\n",
    "                         theta: np.ndarray,\n",
    "                         indx_sel: List[np.ndarray],\n",
    "                         K: int)->np.ndarray:\n",
    "    \n",
    "    \"\"\" add short description here\n",
    "    \n",
    "    Parameters:\n",
    "    ----------\n",
    "    lambda0: float\n",
    "    theta: np.ndarray\n",
    "    indx_sel: List[np.ndarray]\n",
    "    K: int\n",
    "    \n",
    "    Returns:\n",
    "    ----------\n",
    "    np.ndarray\n",
    "    \"\"\"\n",
    "    \n",
    "    edge_influence = []\n",
    "    n_spots = len(indx_sel)\n",
    "    for spot in range(n_spots):\n",
    "        p = theta[0]\n",
    "        influences = []\n",
    "        neighbours = indx_sel[spot][1::]\n",
    "        for neighbour in neighbours:\n",
    "            q = theta[neighbour]\n",
    "            influences.append(np.random.exponential(lambda0 + bhattacharyya_distance(p, q, K)))\n",
    "        edge_influence.append(influences)\n",
    "    return np.array(edge_influence, dtype=object)"
   ]
  },
  {
   "cell_type": "code",
<<<<<<< HEAD
   "execution_count": 1427,
=======
   "execution_count": 544,
   "id": "inner-wisconsin",
>>>>>>> 7a4cfcec940c1052c16163e11e152ea382ec6cf9
   "metadata": {
    "scrolled": true
   },
   "outputs": [],
   "source": [
    "edge_influence = first_edge_influence(lambda0, theta, indx_sel, 3)"
   ]
  },
  {
   "cell_type": "markdown",
   "id": "logical-madrid",
   "metadata": {},
   "source": [
    "## Functions for Gibbs sampling of variables"
   ]
  },
  {
   "cell_type": "code",
<<<<<<< HEAD
   "execution_count": 1428,
   "metadata": {},
   "outputs": [
    {
     "data": {
      "text/plain": [
       "0.0030444193057779585"
      ]
     },
     "execution_count": 1428,
     "metadata": {},
     "output_type": "execute_result"
    }
   ],
   "source": [
    "edge_influence[0][0]"
   ]
  },
  {
   "cell_type": "code",
   "execution_count": 1429,
=======
   "execution_count": 245,
   "id": "wound-tackle",
>>>>>>> 7a4cfcec940c1052c16163e11e152ea382ec6cf9
   "metadata": {},
   "outputs": [],
   "source": [
    "def sample_edge_influence(edge_influence: np.ndarray,\n",
    "                          lambda_parameter: float,\n",
    "                          theta: np.ndarray,\n",
    "                          indx_sel: List[np.ndarray],\n",
    "                          K: int)->None:\n",
    "    \n",
    "    \n",
    "    n_spots = len(indx_sel)\n",
    "    X = K\n",
    "    for spot in range(n_spots):\n",
    "        p = theta[spot]\n",
    "        index = 1\n",
    "        n_neighbours = len(indx_sel[spot][1::])\n",
    "        for index in range(n_neighbours):\n",
    "            neighbour = indx_sel[spot][index+1]\n",
    "            q = theta[neighbour]\n",
    "            edge_influence[spot][index] = np.random.exponential(lambda_parameter + bhattacharyya_distance(p, q, X))"
   ]
  },
  {
   "cell_type": "code",
<<<<<<< HEAD
   "execution_count": 1430,
=======
   "execution_count": 82,
   "id": "comic-original",
>>>>>>> 7a4cfcec940c1052c16163e11e152ea382ec6cf9
   "metadata": {},
   "outputs": [],
   "source": [
    "def sample_lambda(E: int,\n",
    "                  edge_influence: float,\n",
    "                  lambda_a = 0.01,\n",
    "                  lambda_b = 0.01):\n",
    "    \n",
    "    \"\"\" add short description here\n",
    "    \n",
    "    Parameters:\n",
    "    ----------\n",
    "    \"\"\"\n",
    "    \n",
    "    sum_edge_influences = 0\n",
    "    for edge in edge_influence:\n",
    "        sum_edge_influences += sum(edge)\n",
    "    shape = lambda_a + E\n",
    "    rate = 1 / (lambda_b + sum_edge_influences)\n",
    "    lambda_parameter = np.random.gamma(shape, rate, 1)\n",
    "    return lambda_parameter"
   ]
  },
  {
   "cell_type": "code",
<<<<<<< HEAD
   "execution_count": 1431,
=======
   "execution_count": 545,
   "id": "endangered-quantity",
>>>>>>> 7a4cfcec940c1052c16163e11e152ea382ec6cf9
   "metadata": {},
   "outputs": [],
   "source": [
    "lambda_parameter = sample_lambda(E, edge_influence)"
   ]
  },
  {
   "cell_type": "code",
<<<<<<< HEAD
   "execution_count": 1432,
=======
   "execution_count": 1163,
   "id": "eligible-liverpool",
>>>>>>> 7a4cfcec940c1052c16163e11e152ea382ec6cf9
   "metadata": {},
   "outputs": [],
   "source": [
    "def draw_new_factor(umi_factors,\n",
    "                    ids,\n",
    "                    spot,\n",
    "                    w,\n",
    "                    dt,\n",
    "                    wt,\n",
    "                    theta,\n",
    "                    K,\n",
    "                    beta = 10):\n",
    "    \n",
    "    \"\"\" add short description here\n",
    "    \n",
    "    Parameters:\n",
    "    ----------\n",
    "    \"\"\"\n",
    "    factor0 = umi_factors[spot][w]\n",
    "    gene_id = ids[spot][w]\n",
    "    dt[spot, factor0] -= 1 # spots x topics\n",
    "    wt[factor0, gene_id] -= 1 # factor x genes\n",
    "    \n",
    "    left = theta[spot,:]\n",
    "    # old\n",
    "    #right = (wt[:,gene_id] + beta) / (wt.sum(axis=0)[gene_id] + K * beta)\n",
    "    # new\n",
    "    right = (wt[:,gene_id] + beta)\n",
    "    right /= right.sum()\n",
    "    pvals = left*right\n",
    "    pvals = pvals / pvals.sum()\n",
    "    \n",
    "    factor1 = np.argmax(np.random.multinomial(1,pvals))\n",
    "    dt[spot, factor1] +=  1\n",
    "    wt[factor1, gene_id] += 1\n",
    "    umi_factors[spot][w] = factor1"
   ]
  },
  {
<<<<<<< HEAD
   "cell_type": "code",
   "execution_count": 1433,
   "metadata": {},
   "outputs": [],
   "source": [
    "def draw_new_factor_2(umi_factors,\n",
    "                    ids,\n",
    "                    spot,\n",
    "                    w,\n",
    "                    dt,\n",
    "                    wt,\n",
    "                    theta,\n",
    "                    K,\n",
    "                    alpha = 1,\n",
    "                    beta = 0.1):\n",
    "    \n",
    "    \"\"\" add short description here\n",
    "    \n",
    "    Parameters:\n",
    "    ----------\n",
    "    \"\"\"\n",
    "    factor0 = umi_factors[spot][w]\n",
    "    gene_id = ids[spot][w]\n",
    "    dt[spot, factor0] -= 1 # spots x topics\n",
    "    wt[factor0, gene_id] -= 1 # factor x genes\n",
    "    \n",
    "    left = dt[spot,:] + alpha\n",
    "    left /= left.sum()\n",
    "    # old\n",
    "    #right = (wt[:,gene_id] + beta) / (wt.sum(axis=0)[gene_id] + K * beta)\n",
    "    # new\n",
    "    right = (wt[:,gene_id] + beta)\n",
    "    right /= right.sum()\n",
    "    pvals = left*right\n",
    "    pvals = pvals / pvals.sum()\n",
    "    \n",
    "    factor1 = np.argmax(np.random.multinomial(1,pvals))\n",
    "    \n",
    "    dt[spot, factor1] +=  1\n",
    "    wt[factor1, gene_id] += 1\n",
    "    umi_factors[spot][w] = factor1"
   ]
  },
  {
   "cell_type": "code",
   "execution_count": 1434,
   "metadata": {},
   "outputs": [],
   "source": [
    "draw_new_factor(umi_factors, ids, 0, 0, dt, wt, theta, 3)"
   ]
  },
  {
=======
>>>>>>> 7a4cfcec940c1052c16163e11e152ea382ec6cf9
   "cell_type": "markdown",
   "id": "christian-architecture",
   "metadata": {},
   "source": [
    "## Metropolis-Hastings sampling of theta"
   ]
  },
  {
   "cell_type": "code",
<<<<<<< HEAD
   "execution_count": 1435,
=======
   "execution_count": 36,
   "id": "opposed-fairy",
>>>>>>> 7a4cfcec940c1052c16163e11e152ea382ec6cf9
   "metadata": {},
   "outputs": [],
   "source": [
    "# we need to do MH at each step of the gibbs sampling\n",
    "# I've suggested a new solution below\n",
    "def metr_hast(theta, indx_sel, edge_influence, lambda_parameter, iterations = 1000):\n",
    "    \n",
    "    # Prepare proposal distribution    \n",
    "    dist_g = lambda x: np.random.dirichlet(x)\n",
    "\n",
    "    n_spots, X = theta.shape\n",
    "    \n",
    "    # Metropolis-Hastings sampling\n",
    "    for it in range(iterations):\n",
    "        for spot in range(n_spots):\n",
    "            log_a_prob0 = 0 # Cannot use from last Gibbs iteration, because there will be new edge_infl and lambdas.\n",
    "            log_a_prob1 = 0\n",
    "            p0 = theta[spot]\n",
    "            p1 = dist_g(np.sum(theta, axis=0)) \n",
    "            neighbours = indx_sel[spot][1:]\n",
    "            index = 0\n",
    "            for neighbour in neighbours:\n",
    "                q = theta[neighbour]\n",
    "                log_edge_potential0 = - Bhatt_dist(p0,q,X) * edge_influence[spot][index] # Double check\n",
    "                log_edge_potential1 = - Bhatt_dist(p1,q,X) * edge_influence[spot][index]\n",
    "                log_a_prob0 += log_edge_potential0\n",
    "                log_a_prob1 += log_edge_potential1\n",
    "                index += 1\n",
    "            a_prob = min(1, np.exp(log_a_prob1 - log_a_prob0)) \n",
    "#            print(a_prob) # This is really large. Maybe that's normal because everything is better than random?\n",
    "            if np.random.random() < a_prob:\n",
    "                p0 = p1\n",
    "            theta[spot] = p0"
   ]
  },
  {
   "cell_type": "code",
<<<<<<< HEAD
   "execution_count": 1436,
=======
   "execution_count": 614,
   "id": "pending-vector",
>>>>>>> 7a4cfcec940c1052c16163e11e152ea382ec6cf9
   "metadata": {},
   "outputs": [],
   "source": [
    "def metropolis_hastings_old(spot,\n",
    "                        theta,\n",
    "                        dt,\n",
    "                        indx_sel,\n",
    "                        alpha_orig,\n",
    "                        edge_influence,\n",
    "                        n_iter = 1000):\n",
    "    \n",
    "    n_topics = theta.shape[1]\n",
    "    accepted = 0\n",
    "    gamma = 0.001\n",
    "    \n",
    "    def log_target_dist(theta_eval):\n",
    "        l_prob = 0\n",
<<<<<<< HEAD
    "        for k,nbr in enumerate(indx_sel[spot][1::]):\n",
    "            #l_prob -=  edge_influence[spot][k]*\\\n",
    "            #bhattacharyya_distance(theta_eval,theta[nbr],n_topics)\n",
    "            l_prob -=  gamma *  bhattacharyya_distance(theta_eval,theta[nbr],n_topics)\n",
=======
    "        for k,nbr in enumerate(indx_sel[spot][1::]): # going through all neighbours, k=counter\n",
    "            l_prob -=  edge_influence[spot][k]*\\\n",
    "            bhattacharyya_distance(theta_eval,theta[nbr],n_topics)\n",
>>>>>>> 7a4cfcec940c1052c16163e11e152ea382ec6cf9
    "        return l_prob\n",
    "    \n",
    "    proposal_dist = st.dirichlet(alpha_orig + dt[spot,:])\n",
    "    \n",
    "    old_theta = theta[spot,:]\n",
    "    old_log_proposal = proposal_dist.logpdf(old_theta)\n",
    "    old_log_target = log_target_dist(old_theta)\n",
    "            \n",
    "    for it in range(n_iter):\n",
    "        new_theta = proposal_dist.rvs()[0]\n",
    "        new_log_proposal = proposal_dist.logpdf(new_theta)\n",
    "        new_log_target = log_target_dist(new_theta)\n",
    "        log_u = new_log_target + old_log_proposal - old_log_target - new_log_proposal\n",
    "        u = np.exp(log_u)\n",
    "        a = min(u,1)\n",
    "        if np.random.random() < a:\n",
    "            old_theta = new_theta\n",
    "            old_log_proposal = new_log_proposal\n",
    "            old_log_target = new_log_target\n",
    "            \n",
    "            accepted += 1\n",
    "        \n",
    "    if DEBUG: print(\"Fraction of accepted proposals : {}\".format(accepted / n_iter))\n",
    "            \n",
    "    return old_theta"
   ]
  },
  {
   "cell_type": "code",
<<<<<<< HEAD
   "execution_count": 1437,
   "metadata": {},
   "outputs": [],
   "source": [
    "from scipy.special import loggamma as lgamma"
   ]
  },
  {
   "cell_type": "code",
   "execution_count": 1438,
=======
   "execution_count": 615,
   "id": "basic-material",
   "metadata": {},
   "outputs": [],
   "source": [
    "def Gibbs(umi_factors,\n",
    "          ids,\n",
    "          dt,\n",
    "          wt,\n",
    "          theta,\n",
    "          K, iterations,\n",
    "          edge_influence,\n",
    "          lambda_parameter,\n",
    "          indx_sel,\n",
    "          E,\n",
    "          beta = 0.1):\n",
    "\n",
    "    alpha_orig = np.ones(K)\n",
    "    for it in range(iterations):\n",
    "        for spot in range(len(umi_factors)):\n",
    "            for w in range(len(umi_factors[spot])):\n",
    "                draw_new_factor(umi_factors, ids, spot, w, dt, wt, theta, K)\n",
    "                sample_edge_influence(edge_influence, lambda_parameter, theta, indx_sel, K)\n",
    "                lambda_parameter = sample_lambda(E, edge_influence, lambda_a = 0.01, lambda_b = 0.01)\n",
    "                theta[spot,:] = metropolis_hastings(spot,theta,dt,indx_sel,alpha_orig,edge_influence,n_iter =20)\n",
    "                "
   ]
  },
  {
   "cell_type": "markdown",
   "id": "honest-jason",
>>>>>>> 7a4cfcec940c1052c16163e11e152ea382ec6cf9
   "metadata": {},
   "source": [
<<<<<<< HEAD
    "def metropolis_hastings(spot,\n",
    "                        theta,\n",
    "                        dt,\n",
    "                        indx_sel,\n",
    "                        alpha_orig,\n",
    "                        edge_influence,\n",
    "                        n_iter = 1000):\n",
    "    \n",
    "    n_topics = theta.shape[1]\n",
    "    accepted = 0\n",
    "    gamma = 0.001\n",
    "    \n",
    "    def log_target_dist(theta_eval):\n",
    "        l_prob = 0\n",
    "        for k,nbr in enumerate(indx_sel[spot][1::]):\n",
    "            #l_prob -=  edge_influence[spot][k]*\\\n",
    "            #bhattacharyya_distance(theta_eval,theta[nbr],n_topics)\n",
    "            l_prob -=  gamma *bhattacharyya_distance(theta_eval,theta[nbr],n_topics)\n",
    "        return l_prob\n",
    "    \n",
    "    Ns = dt[spot,:]\n",
    "    alpha_prime = alpha_orig + Ns\n",
    "    proposal_dist = st.dirichlet(alpha_prime)\n",
    "    \n",
    "    old_theta = theta[spot,:]\n",
    "    old_log_prob = log_target_dist(old_theta) + (np.log(old_theta)*Ns).sum()\n",
    "            \n",
    "    for it in range(n_iter):\n",
    "        new_theta = proposal_dist.rvs()[0]\n",
    "        #new_log_proposal = proposal_dist.logpdf(new_theta)\n",
    "        new_log_prob = log_target_dist(new_theta) + (np.log(new_theta)*Ns).sum()\n",
    "        log_u = new_log_prob - old_log_prob\n",
    "        u = np.exp(log_u)\n",
    "        a = min(u,1)\n",
    "        if np.random.random() < a:\n",
    "            old_theta = new_theta.copy()\n",
    "           # old_log_proposal = new_log_proposal\n",
    "            old_log_prob = new_log_prob\n",
    "            \n",
    "            accepted += 1\n",
    "        \n",
    "    if DEBUG: print(\"Fraction of accepted proposals : {}\".format(accepted / n_iter))\n",
    "            \n",
    "    return old_theta"
=======
    "## Gibbs sampling"
>>>>>>> 7a4cfcec940c1052c16163e11e152ea382ec6cf9
   ]
  },
  {
   "cell_type": "code",
<<<<<<< HEAD
   "execution_count": 1439,
   "metadata": {},
   "outputs": [],
   "source": [
    "#%%time\n",
    "#for ii in range(100):\n",
    "#    metropolis_hastings(0,theta,dt,indx_sel,np.ones(theta.shape[1]),edge_influence,n_iter=1000)"
   ]
  },
  {
   "cell_type": "markdown",
   "metadata": {},
   "source": [
    "## Gibbs sampling"
=======
   "execution_count": 983,
   "id": "small-surname",
   "metadata": {},
   "outputs": [],
   "source": [
    "def draw_new_factor_without_theta(umi_factors,\n",
    "                    ids,\n",
    "                    spot,\n",
    "                    w,\n",
    "                    dt,\n",
    "                    wt,\n",
    "                    K,\n",
    "                    alpha = 50,\n",
    "                    beta = 50):\n",
    "    \n",
    "    \"\"\" add short description here\n",
    "    \n",
    "    Parameters:\n",
    "    ----------\n",
    "    \"\"\"\n",
    "    factor0 = umi_factors[spot][w]\n",
    "    gene_id = ids[spot][w]\n",
    "    dt[spot, factor0] -= 1 # spots x topics\n",
    "    wt[factor0, gene_id] -= 1 # factor x genes\n",
    "    \n",
    "    left = dt.sum(axis=0) + alpha\n",
    "    left /= left.sum()\n",
    "    right = wt[:,gene_id] + beta\n",
    "    right /= right.sum()\n",
    "    pvals = left*right\n",
    "    pvals = pvals / pvals.sum()\n",
    "\n",
    "    factor1 = np.argmax(np.random.multinomial(1,pvals))\n",
    "    dt[spot, factor1] +=  1\n",
    "    wt[factor1, gene_id] += 1\n",
    "    umi_factors[spot][w] = factor1"
>>>>>>> 7a4cfcec940c1052c16163e11e152ea382ec6cf9
   ]
  },
  {
   "cell_type": "code",
<<<<<<< HEAD
   "execution_count": 1440,
=======
   "execution_count": 984,
   "id": "palestinian-slave",
>>>>>>> 7a4cfcec940c1052c16163e11e152ea382ec6cf9
   "metadata": {},
   "outputs": [],
   "source": [
    "def Gibbs_without_MH(umi_factors,\n",
    "          ids,\n",
    "          dt,\n",
    "          wt,\n",
    "          K, iterations):\n",
    "\n",
    "    for it in range(iterations):\n",
    "        print(\"\\r Iteration: {}\".format(it),end=\"\")\n",
    "        for spot in range(len(umi_factors)):\n",
    "            for w in range(len(umi_factors[spot])):\n",
<<<<<<< HEAD
    "                draw_new_factor_2(umi_factors, ids, spot, w, dt, wt, theta, K)\n",
    "                #sample_edge_influence(edge_influence, lambda_parameter, theta, indx_sel, K)\n",
    "                #lambda_parameter = sample_lambda(E, edge_influence, lambda_a = 0.01, lambda_b = 0.01)\n",
    "                #theta[spot,:] = metropolis_hastings(spot,theta,dt,indx_sel,alpha_orig,edge_influence,n_iter =10)\n",
    "        #print(theta.sum(axis=0)) \n",
    "    theta = dt + 0.01\n",
    "    theta /= theta.sum(axis=1,keepdims = True)"
=======
    "                draw_new_factor_without_theta(umi_factors, ids, spot, w, dt, wt, K)\n",
    "    theta = get_theta(dt)\n",
    "               # sample_edge_influence(edge_influence, lambda_parameter, theta, indx_sel, K)\n",
    "               # lambda_parameter = sample_lambda(E, edge_influence, lambda_a = 0.01, lambda_b = 0.01)\n",
    "    return theta"
>>>>>>> 7a4cfcec940c1052c16163e11e152ea382ec6cf9
   ]
  },
  {
   "cell_type": "code",
<<<<<<< HEAD
   "execution_count": 1441,
   "metadata": {
    "scrolled": true
   },
=======
   "execution_count": 1146,
   "id": "bigger-gasoline",
   "metadata": {},
   "outputs": [],
   "source": [
    "def gibbsSampling():\n",
    "    for d, doc in enumerate(ids):\n",
    "        for index, w in enumerate(doc):\n",
    "            z = umi_factors[d][index]\n",
    "            dt[d, z] -= 1\n",
    "            wt[z, w] -= 1\n",
    "            nz[z] -= 1\n",
    "            pz = np.divide(np.multiply(dt[d, :], wt[:, w]), nz)\n",
    "            z = np.random.multinomial(1, (pz / pz.sum())).argmax()\n",
    "            umi_factors[d][index] = z \n",
    "            dt[d, z] += 1\n",
    "            wt[z, w] += 1\n",
    "            nz[z] += 1"
   ]
  },
  {
   "cell_type": "code",
   "execution_count": 1164,
   "id": "friendly-settle",
   "metadata": {},
   "outputs": [
    {
     "name": "stdout",
     "output_type": "stream",
     "text": [
      "AnnData object with n_obs × n_vars = 100 × 50\n",
      "    obs: 'spot'\n",
      "    var: 'gene'\n",
      "    uns: 'info'\n",
      "    obsm: 'spatial', 'theta'\n",
      "    varm: 'phi'\n"
     ]
    }
   ],
   "source": [
    "path = \"/Users/juliafoyer/Documents/Skolarbete/Masters_thesis/Scripts/spatial-data-synth/20210402100654897026-synth-data.h5ad\"\n",
    "adata = an.read_h5ad(path)\n",
    "print(adata)\n",
    "adata = prepare_data(adata,select_hvg=False)\n",
    "\n",
    "umi_factors = assign_random(adata, 3)\n",
    "\n",
    "n_spots,n_genes = adata.shape\n",
    "ids,dt,wt = get_ids_dt_wt(adata,umi_factors,3)\n",
    "\n",
    "theta = get_theta(dt)\n",
    "\n",
    "n_genes = len(adata.var_names)\n",
    "K = 3\n",
    "alpha = 5\n",
    "beta = 0.1\n",
    "nz = dt.sum(axis=0)"
   ]
  },
  {
   "cell_type": "code",
   "execution_count": 1166,
   "id": "moving-astrology",
   "metadata": {},
>>>>>>> 7a4cfcec940c1052c16163e11e152ea382ec6cf9
   "outputs": [
    {
     "name": "stdout",
     "output_type": "stream",
     "text": [
<<<<<<< HEAD
      " Iteration: 4999CPU times: user 33min 46s, sys: 1min 5s, total: 34min 51s\n",
      "Wall time: 33min 27s\n"
=======
      "CPU times: user 1min 34s, sys: 360 ms, total: 1min 35s\n",
      "Wall time: 1min 35s\n"
>>>>>>> 7a4cfcec940c1052c16163e11e152ea382ec6cf9
     ]
    }
   ],
   "source": [
    "%%time\n",
<<<<<<< HEAD
    "DEBUG = False\n",
    "Gibbs(umi_factors, ids, dt, wt, theta, 3, 5000, edge_influence, lambda_parameter, indx_sel, E)"
=======
    "for i in range(0, 500):\n",
    "    gibbsSampling()"
>>>>>>> 7a4cfcec940c1052c16163e11e152ea382ec6cf9
   ]
  },
  {
   "cell_type": "code",
<<<<<<< HEAD
   "execution_count": 1442,
=======
   "execution_count": 1165,
   "id": "underlying-dimension",
>>>>>>> 7a4cfcec940c1052c16163e11e152ea382ec6cf9
   "metadata": {},
   "outputs": [
    {
     "data": {
<<<<<<< HEAD
      "image/png": "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\n",
      "text/plain": [
       "<Figure size 1440x720 with 2 Axes>"
=======
      "image/png": "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\n",
      "text/plain": [
       "<Figure size 432x288 with 1 Axes>"
>>>>>>> 7a4cfcec940c1052c16163e11e152ea382ec6cf9
      ]
     },
     "metadata": {},
     "output_type": "display_data"
    }
   ],
   "source": [
<<<<<<< HEAD
    "fig,ax = plt.subplots(1,2,figsize = (20,10))\n",
    "\n",
    "ax[0].imshow(adata.obsm[\"theta\"].reshape(10,10,3))\n",
    "ax[1].imshow(theta.reshape(10,10,3))\n",
    "plt.show()"
=======
    "theta_new = get_theta(dt)\n",
    "side_length = adata.uns[\"info\"][\"side_length\"]\n",
    "plt.imshow(theta_new.reshape(side_length,side_length,3))\n",
    "plt.title(\"Theta values (in RGB space) across tissue\")\n",
    "plt.show()"
   ]
  },
  {
   "cell_type": "code",
   "execution_count": 617,
   "id": "ambient-government",
   "metadata": {},
   "outputs": [
    {
     "data": {
      "image/png": "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\n",
      "text/plain": [
       "<Figure size 432x288 with 1 Axes>"
      ]
     },
     "metadata": {},
     "output_type": "display_data"
    }
   ],
   "source": [
    "side_length = adata.uns[\"info\"][\"side_length\"]\n",
    "plt.imshow(adata.obsm[\"theta\"].reshape(side_length,side_length,3))\n",
    "plt.title(\"Theta values (in RGB space) across tissue\")\n",
    "plt.show()"
   ]
  },
  {
   "cell_type": "code",
   "execution_count": 1135,
   "id": "crazy-guatemala",
   "metadata": {},
   "outputs": [
    {
     "name": "stdout",
     "output_type": "stream",
     "text": [
      "AnnData object with n_obs × n_vars = 100 × 50\n",
      "    obs: 'spot'\n",
      "    var: 'gene'\n",
      "    uns: 'info'\n",
      "    obsm: 'spatial', 'theta'\n",
      "    varm: 'phi'\n"
     ]
    }
   ],
   "source": [
    "path = \"/Users/juliafoyer/Documents/Skolarbete/Masters_thesis/Scripts/spatial-data-synth/20210402100654897026-synth-data.h5ad\"\n",
    "adata = an.read_h5ad(path)\n",
    "print(adata)\n",
    "adata = prepare_data(adata,select_hvg=False)\n",
    "\n",
    "umi_factors = assign_random(adata, 3)\n",
    "gene_ids = get_gene_identity(adata)\n",
    "assert len(umi_factors) == len(gene_ids)\n",
    "\n",
    "n_spots,n_genes = adata.shape\n",
    "ids,dt,wt = get_ids_dt_wt(adata,umi_factors,3)\n",
    "dt_test,wt_test = get_ids_dt_wt_test(gene_ids,umi_factors,n_genes,3)\n",
    "assert np.all(dt_test==dt)\n",
    "assert np.all(wt_test == wt)\n",
    "assert(np.all(np.sum(dt,axis=1) == np.sum(X,axis=1))), \"total UMI's in spot and dt rowsums must be equal\"\n",
    "\n",
    "theta = get_theta(dt)\n",
    "theta_test = get_theta_test(dt)\n",
    "assert np.all(theta_test==theta)\n",
    "\n",
    "lambda0 = float(np.random.gamma(0.01, 0.01, 1)) # The 1 seems to be unnecessary here.\n",
    "edge_influence = first_edge_influence(lambda0, theta, indx_sel, 3)\n",
    "lambda_parameter = sample_lambda(E, edge_influence)\n",
    "\n",
    "nz = dt.sum(axis=0)"
>>>>>>> 7a4cfcec940c1052c16163e11e152ea382ec6cf9
   ]
  }
 ],
 "metadata": {
  "kernelspec": {
   "display_name": "Python 3",
   "language": "python",
   "name": "python3"
  },
  "language_info": {
   "codemirror_mode": {
    "name": "ipython",
    "version": 3
   },
   "file_extension": ".py",
   "mimetype": "text/x-python",
   "name": "python",
   "nbconvert_exporter": "python",
   "pygments_lexer": "ipython3",
   "version": "3.7.9"
  }
 },
 "nbformat": 4,
 "nbformat_minor": 5
}
