{
 "cells": [
  {
   "cell_type": "markdown",
   "metadata": {},
   "source": [
    "# Bozosort"
   ]
  },
  {
   "cell_type": "markdown",
   "metadata": {},
   "source": [
    "Here's a somewhat silly sorting algorithm, usually called Bozosort.\n",
    "\n",
    "The idea is very simple: take the list, check if it's sorted, and of it's not, swap two random elements of the list. Proceed like that until the list becomes sorted."
   ]
  },
  {
   "cell_type": "code",
   "execution_count": 1,
   "metadata": {
    "collapsed": false
   },
   "outputs": [
    {
     "name": "stdout",
     "output_type": "stream",
     "text": [
      "[1, 2, 4, 5, 10, 12]\n"
     ]
    }
   ],
   "source": [
    "import random\n",
    "def is_sorted_nondecreasing(L):\n",
    "    for i in range(len(L)-1):\n",
    "        if L[i] > L[i+1]:\n",
    "            return False\n",
    "    return True\n",
    "\n",
    "\n",
    "def bozosort(L):\n",
    "    while not is_sorted_nondecreasing(L):\n",
    "        i, j = int(len(L)*random.random()), int(len(L)*random.random())\n",
    "        L[i], L[j] = L[j], L[i]\n",
    "        \n",
    "        \n",
    "L = [5, 4, 1, 2, 10, 12]\n",
    "bozosort(L)\n",
    "print(L)        "
   ]
  },
  {
   "cell_type": "markdown",
   "metadata": {},
   "source": [
    "#### Runtime Complexity of Bozosort\n",
    "\n",
    "In the very worst case, Bozosort runs forever -- we could get really unlucky, and keep swapping elements 0 and 1 forever, for example.\n",
    "\n",
    "We can talk instead about how long Bozosort will take on average. The analysis is not actually easy, but roughly speaking, we can hope that we'll go through every permutation of the list once, on average (we'll come back to some permutations many times, and we will sort the list before getting to some other permutations). There are $n!$ permutations of a list of length $n$ in total, so we can estimate that on average, Bozosort takes $\\mathcal{O}(n!)$ time.\n",
    "\n",
    "(Note that actually, `is_sorted_nondecreasing()` takes $\\mathcal{O}(n)$ time every time, so saying the runtime is $\\mathcal{O}(n\\times n!) \\approx \\mathcal{O}((n+1)!)$ is more correct, but it doesn't really make a difference since $n!$ is so large.)"
   ]
  }
 ],
 "metadata": {
  "kernelspec": {
   "display_name": "Python 3",
   "language": "python",
   "name": "python3"
  },
  "language_info": {
   "codemirror_mode": {
    "name": "ipython",
    "version": 3
   },
   "file_extension": ".py",
   "mimetype": "text/x-python",
   "name": "python",
   "nbconvert_exporter": "python",
   "pygments_lexer": "ipython3",
   "version": "3.4.3"
  }
 },
 "nbformat": 4,
 "nbformat_minor": 0
}
