{
 "cells": [
  {
   "attachments": {},
   "cell_type": "markdown",
   "metadata": {},
   "source": [
    "# Video 3.17-18 Hacks"
   ]
  },
  {
   "attachments": {},
   "cell_type": "markdown",
   "metadata": {},
   "source": [
    "# Notes \n",
    "\n",
    "|Vocab|Definition|\n",
    "|---|---|\n",
    "|Problem| a description of a task that may or may not be able to be solved through the use of an algorithm. An instance of a problem includes a specific input. One example of this type of problem is a sorting problem.|\n",
    "|Decision problem |a problem with a binary answer (yes or no). An optimization problem is a problem with the objective of finding the BEST solution amongst many possibilities to solve a problem.|\n",
    "|Algorithm's efficiency|determined through formal or mathematical reasoning.|"
   ]
  },
  {
   "attachments": {},
   "cell_type": "markdown",
   "metadata": {},
   "source": [
    "- An algorithm is a process or set of rules to be followed in calculations or other problem-solving operations.\n",
    "\n",
    "# There are four different types of algorithms.\n",
    "\n",
    "- 1 step: The first step consists of an integer being multiplied by a variable 'n'. An example of this could be 5 * n.\n",
    "\n",
    "    Linear\n",
    "\n",
    "- 2 step: A two-step algorithm consists of an integer to the power of the variable 'n'.\n",
    "\n",
    "    Exponential\n",
    "\n",
    "- 3 step: A three-step algorithm is an algorithm where there is a variable multiplied by an integer, all to the power of 2.\n",
    "\n",
    "    Square\n",
    "\n",
    "- 4 step: A four-step algorithm is a variable factorial. For instance, 5! = 5 4 3 2 1 = 120.\n",
    "\n",
    "    Factorial\n",
    "\n",
    "# Run Times\n",
    "\n",
    "- We can categorize the run time of an algorithm according to how the number of steps increases as the input size increases. Does it always take the same amount of time? That's a constant increase, a very fast run time. Does it always require looking at every possible permutation of the input? That's an exponential increase, a very slow run time. Most run times are somewhere between.\n",
    "\n",
    "    Constant Time\n",
    "\n",
    "- When an algorithm runs in constant time, it means that it always takes a fixed number of steps, no matter how large the input size increases.\n",
    "\n",
    "    Linear Time\n",
    "\n",
    "- When an algorithm grows in linear time, its number of steps increases in direct proportion to the input size.\n",
    "\n",
    "    Quadratic Time\n",
    "\n",
    "- When an algorithm grows in quadratic time, its steps increase in proportion to the input size squared. Several list sorting algorithms run in quadratic time, like selection sort. That algorithm starts from the front of the list, then keeps finding the next smallest value in the list and swapping it with the current value.\n",
    "\n",
    "    Exponential Time\n",
    "\n",
    "- When an algorithm grows in superpolynomial time, its number of steps increases faster than a polynomial function of the input size. An algorithm often requires superpolynomial time when it must look at every permutation of values.\n",
    "\n",
    "- Polynomial time describes any run time that does not increase faster than n^k which includes Constant time, Quadratic time, and other higher degree polynomials. Superpolynomial time describes any run time that does increase faster than n^k which includes Exponential time and factorial time. So polynomial is considered reasonable.\n",
    "\n",
    "# What is a decidable problem?\n",
    "\n",
    "- These are problems for which algorithms can be written to solve/produce a correct output for all possible inputs.\n",
    "\n",
    "# What is an undecidable problem?\n",
    "\n",
    "- These are problems for which no algorithms can be built that can provide a correct yes or no answer. Undecidable problems may have some instances of algorithmic solutions, but there are no algorithmic solutions that can solve all instances of the problem.\n",
    "\n",
    "# Vocabulary\n",
    "\n",
    "- Undecidable problem:problems for which no algorithms can be built that can provide a correct yes or no answer or a solution\n",
    "Decidable problem:problems for which algorthms could be written to solve/produce a correct output for all inputs."
   ]
  },
  {
   "attachments": {},
   "cell_type": "markdown",
   "metadata": {},
   "source": [
    "# Hack 1 \n",
    "\n",
    "Please write a short 1-2 sentence explanation describing the difference between decidable and undecidable problems. Make sure to provide at least one example of each.\n",
    "\n",
    "Decidable problems can be use to design an algorithm unlike undecidable problems that cannot give an algorithm. If any decision problem has a correct algorithm that runs for finite amount of time, then the problem is decidable. Undecidable problems have no algorithm that gives correct output in finite time."
   ]
  },
  {
   "attachments": {},
   "cell_type": "markdown",
   "metadata": {},
   "source": [
    "# Decidable problem example"
   ]
  },
  {
   "cell_type": "code",
   "execution_count": 1,
   "metadata": {},
   "outputs": [
    {
     "name": "stdout",
     "output_type": "stream",
     "text": [
      "greater than 5\n"
     ]
    }
   ],
   "source": [
    "num = 10  #set number equal to random value \n",
    "if num > 5: # if the number is greater than 10 \n",
    "    print(\"greater than 5\") #print \n",
    "else: # if less than 10 \n",
    "    print(\"not greater than 5\") # print"
   ]
  },
  {
   "attachments": {},
   "cell_type": "markdown",
   "metadata": {},
   "source": [
    "# Undecidable problem example"
   ]
  },
  {
   "cell_type": "code",
   "execution_count": 2,
   "metadata": {},
   "outputs": [],
   "source": [
    "num = 1\n",
    "while num == 0: \n",
    "  print(num)\n",
    "  num = num + 1"
   ]
  },
  {
   "attachments": {},
   "cell_type": "markdown",
   "metadata": {},
   "source": [
    "while num == 0: the number will never equal 0 since it is set to 1, therefore, this is undecidable"
   ]
  },
  {
   "attachments": {},
   "cell_type": "markdown",
   "metadata": {},
   "source": [
    "# Hack 2\n",
    "\n",
    "Which of the following is a 3 step algorithm?\n",
    "\n",
    "A. 2 x 6 x 8\n",
    "\n",
    "B. 4^5\n",
    "\n",
    "<mark>C. (3 x 8)^2</mark>\n",
    "\n",
    "D. None of the above\n",
    "\n",
    "E. All of the above\n",
    "\n",
    "EXPLANATION: C is a 3 step algorithm because a variable is being multiplied to an integer, all to the power of two, fitting the criteria of a 3 step algorithm."
   ]
  },
  {
   "attachments": {},
   "cell_type": "markdown",
   "metadata": {},
   "source": [
    "# Hack 3\n",
    "\n",
    "Rewrite this JavaScript Code in a More Efficient Way (Hint: Use Binary Search)"
   ]
  },
  {
   "cell_type": "code",
   "execution_count": 8,
   "metadata": {},
   "outputs": [
    {
     "ename": "SyntaxError",
     "evalue": "invalid syntax (2994650908.py, line 1)",
     "output_type": "error",
     "traceback": [
      "\u001b[0;36m  Input \u001b[0;32mIn [8]\u001b[0;36m\u001b[0m\n\u001b[0;31m    function peak_finder(array){\u001b[0m\n\u001b[0m             ^\u001b[0m\n\u001b[0;31mSyntaxError\u001b[0m\u001b[0;31m:\u001b[0m invalid syntax\n"
     ]
    }
   ],
   "source": [
    "function peak_finder(array){\n",
    "  let counter = 0\n",
    "  let peak = 0\n",
    "  let peak_index =0\n",
    "  while (counter <= array.length){\n",
    "    console.log(counter)\n",
    "  if (counter === 0){\n",
    "    if (a[0]>=a[1]){\n",
    "      peak = a[0]\n",
    "      peak_index = counter\n",
    "      counter = array.length\n",
    "      return `The ${counter-1} indexed number, ${peak} is a peak`\n",
    "    }else{\n",
    "      counter+=1\n",
    "    }\n",
    "  }else if(counter === array.length-1){\n",
    "     if (a[array.length-1] >= a[array.length-2]){\n",
    "     peak = a[array.length-1]\n",
    "     peak_index = counter\n",
    "     counter = array.length\n",
    "     return `The ${counter-1} indexed number, ${peak} is a peak`\n",
    "     }\n",
    "   }else{\n",
    "      if (a[counter]> a[counter+1] && a[counter]> a[counter-1]){\n",
    "      peak = a[counter]\n",
    "      peak_index = counter\n",
    "      counter = array.length\n",
    "      return `The ${counter-1} indexed number, ${peak} is a peak`\n",
    "    }else{\n",
    "      counter += 1\n",
    "    }\n",
    "  }\n",
    "}\n",
    "}"
   ]
  },
  {
   "attachments": {},
   "cell_type": "markdown",
   "metadata": {},
   "source": [
    "#  My Hack 3 answer"
   ]
  },
  {
   "cell_type": "code",
   "execution_count": null,
   "metadata": {},
   "outputs": [],
   "source": [
    "function peak_finder(array){\n",
    "    let counter = 0\n",
    "    let peak = 0\n",
    "    let peak_index =0\n",
    "\n",
    "    recurse(peak_finder);\n",
    "    // function code\n",
    "}\n",
    "\n",
    "recurse();"
   ]
  },
  {
   "attachments": {},
   "cell_type": "markdown",
   "metadata": {},
   "source": [
    "# Recursive function research and example \n",
    "\n",
    "I was a bit confused on how to rewrite this code in a more efficient way. Now I understand that I would use a recursion to print the outputs in reverse. To learn more about recursion, I took some notes while researching more about it.\n",
    "\n",
    "# Notes \n",
    "\n",
    "- A recursive function is a function that calls itself. You essentially create a loop with a function. As you can imagine, these can be tricky functions to write. You do not want your code to run forever.\n",
    "\n",
    "- Similar to a loop, a recursive function will be controlled by a condition. Once the condition is met, the function stops calling itself, which stops the loop. This is how you can create a function that calls itself without it running forever.\n",
    "\n",
    "- Although a recursive function acts like a loop, it is executed by the computer differently. So, some algorithms are more efficient in a loop and others benefit from a recursive function. But before we look at how to use a recursive function, you need to know how to write one."
   ]
  },
  {
   "cell_type": "code",
   "execution_count": null,
   "metadata": {},
   "outputs": [],
   "source": [
    "# basic structure of recursive function\n",
    "FUNCTION name\n",
    "  IF condition THEN\n",
    "    RETURN result\n",
    "  ELSE\n",
    "    CALL FUNCTION name\n",
    "END FUNCTION"
   ]
  },
  {
   "cell_type": "code",
   "execution_count": null,
   "metadata": {},
   "outputs": [],
   "source": [
    "# Recursive Function Example in Python\n",
    "\n",
    "def factorialFunction(numberToMultiply):\n",
    " if numberToMultiply == 1 :\n",
    "  return 1\n",
    " else :\n",
    "  return numberToMultiply * factorialFunction(numberToMultiply - 1)\n",
    " \n",
    "result = factorialFunction(3)\n",
    "\n",
    "print(result)\n",
    "\n",
    "//Outputs: 6"
   ]
  },
  {
   "cell_type": "code",
   "execution_count": null,
   "metadata": {},
   "outputs": [],
   "source": [
    "# a loop rewritten as recursively\n",
    "def recursiveFunction(number) :\n",
    "  if (number % 2) == 0 :\n",
    "    return number\n",
    "  else:\n",
    "    print(\"That number is not even. Please enter a new number:\")\n",
    "    recursiveFunction(int(input()))\n",
    " \n",
    "print(\"Enter and even number:\")\n",
    "i = recursiveFunction(int(input()))"
   ]
  },
  {
   "attachments": {},
   "cell_type": "markdown",
   "metadata": {},
   "source": [
    "# Hack 4\n",
    "Rewrite this Python Code in a More Efficient Way\n",
    "\n"
   ]
  },
  {
   "cell_type": "code",
   "execution_count": 10,
   "metadata": {},
   "outputs": [
    {
     "name": "stdout",
     "output_type": "stream",
     "text": [
      "[0, 1, 2, 3, 4, 5, 6, 7, 8, 9]\n"
     ]
    }
   ],
   "source": [
    "def merge_sort(data):\n",
    "    if len(data) <= 1:\n",
    "        return\n",
    "    \n",
    "    mid = len(data) // 2\n",
    "    left_data = data[:mid]\n",
    "    right_data = data[mid:]\n",
    "    \n",
    "    merge_sort(left_data)\n",
    "    merge_sort(right_data)\n",
    "    \n",
    "    left_index = 0\n",
    "    right_index = 0\n",
    "    data_index = 0\n",
    "    \n",
    "    while left_index < len(left_data) and right_index < len(right_data):\n",
    "        if left_data[left_index] < right_data[right_index]:\n",
    "            data[data_index] = left_data[left_index]\n",
    "            left_index += 1\n",
    "        else:\n",
    "            data[data_index] = right_data[right_index]\n",
    "            right_index += 1\n",
    "        data_index += 1\n",
    "    \n",
    "    if left_index < len(left_data):\n",
    "        del data[data_index:]\n",
    "        data += left_data[left_index:]\n",
    "    elif right_index < len(right_data):\n",
    "        del data[data_index:]\n",
    "        data += right_data[right_index:]\n",
    "    \n",
    "if __name__ == '__main__':\n",
    "    data = [9, 1, 7, 6, 2, 8, 5, 3, 4, 0]\n",
    "    merge_sort(data)\n",
    "    print(data)"
   ]
  },
  {
   "attachments": {},
   "cell_type": "markdown",
   "metadata": {},
   "source": [
    "# My Hack 4 answer "
   ]
  },
  {
   "cell_type": "code",
   "execution_count": 12,
   "metadata": {},
   "outputs": [
    {
     "name": "stdout",
     "output_type": "stream",
     "text": [
      "unsorted data: [9, 1, 7, 6, 2, 8, 5, 3, 4, 0]\n",
      "sorted data [0, 1, 2, 3, 4, 5, 6, 7, 8, 9]\n"
     ]
    }
   ],
   "source": [
    "data = [9, 1, 7, 6, 2, 8, 5, 3, 4, 0] # unsorted/not in order list of numbers \n",
    "\n",
    "print(\"unsorted data:\", data) # unsorted data \n",
    "\n",
    "data.sort()  # sort function to sort through data \n",
    "\n",
    "print(\"sorted data\", data) # sorted data "
   ]
  },
  {
   "attachments": {},
   "cell_type": "markdown",
   "metadata": {},
   "source": [
    "I found that using the sort() function was an easier algorithm as it quickly sorts through the list and prints data in order. Since I used the sort() function, I avoided using statements or while loops."
   ]
  },
  {
   "attachments": {},
   "cell_type": "markdown",
   "metadata": {},
   "source": [
    "# Hack 5 \n",
    "\n",
    "Rewrite this Python Code in a more efficient way\n"
   ]
  },
  {
   "cell_type": "code",
   "execution_count": null,
   "metadata": {},
   "outputs": [],
   "source": [
    "def heap_permutation(data, n):\n",
    "    if n == 1:\n",
    "        print(data)\n",
    "        return\n",
    "    \n",
    "    for i in range(n):\n",
    "        heap_permutation(data, n - 1)\n",
    "        if n % 2 == 0:\n",
    "            data[i], data[n-1] = data[n-1], data[i]\n",
    "        else:\n",
    "            data[0], data[n-1] = data[n-1], data[0]\n",
    "    \n",
    "if __name__ == '__main__':\n",
    "    data = [1, 2, 3]\n",
    "    heap_permutation(data, len(data))"
   ]
  },
  {
   "attachments": {},
   "cell_type": "markdown",
   "metadata": {},
   "source": [
    "#  My Hack 5 Answer"
   ]
  },
  {
   "cell_type": "code",
   "execution_count": 16,
   "metadata": {},
   "outputs": [
    {
     "name": "stdout",
     "output_type": "stream",
     "text": [
      "[(1, 2, 3)]\n",
      "[(1, 3, 2)]\n",
      "[(2, 1, 3)]\n",
      "[(2, 3, 1)]\n",
      "[(3, 1, 2)]\n",
      "[(3, 2, 1)]\n"
     ]
    }
   ],
   "source": [
    "\n",
    "from itertools import permutations # using library function \n",
    "  \n",
    "perm = permutations([1, 2, 3], 3) # 3 on outside the bracket is all the permutations of the length 3\n",
    "  \n",
    " \n",
    "for i in list(perm): \n",
    "    print ([i]) # print the obtained permutations"
   ]
  },
  {
   "attachments": {},
   "cell_type": "markdown",
   "metadata": {},
   "source": [
    "To use the permutations function (returns the number of permutations that are possible for a specified number of objects in a given set), I imported the itertools module.\n",
    "\n",
    "In this function, it takes a list as an input and returns an object list of tuples ( finite ordered list of elements). The list of tuples that is returned contains all permutations in a list form.\n",
    "\n",
    "I used the list [1,2,3] from the example above and set a parameter of 3 which would be the length of the permutation since there are 3 numbers. \n",
    "\n",
    "I then used a for loop to loop through all possible permutations. "
   ]
  }
 ],
 "metadata": {
  "kernelspec": {
   "display_name": "Python 3",
   "language": "python",
   "name": "python3"
  },
  "language_info": {
   "codemirror_mode": {
    "name": "ipython",
    "version": 3
   },
   "file_extension": ".py",
   "mimetype": "text/x-python",
   "name": "python",
   "nbconvert_exporter": "python",
   "pygments_lexer": "ipython3",
   "version": "3.8.10 (default, Jun 22 2022, 20:18:18) \n[GCC 9.4.0]"
  },
  "orig_nbformat": 4,
  "vscode": {
   "interpreter": {
    "hash": "916dbcbb3f70747c44a77c7bcd40155683ae19c65e1c03b4aa3499c5328201f1"
   }
  }
 },
 "nbformat": 4,
 "nbformat_minor": 2
}
