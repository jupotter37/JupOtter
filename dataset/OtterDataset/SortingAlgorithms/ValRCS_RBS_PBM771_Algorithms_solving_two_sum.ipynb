{
 "cells": [
  {
   "cell_type": "markdown",
   "metadata": {
    "id": "cZqyEJ6-yly7"
   },
   "source": [
    "# Two Sum problem\n",
    "\n",
    "<img src=\"https://raw.githubusercontent.com/ValRCS/RBS_PBM771_Algorithms/refs/heads/main/imgs/balance_two_sum.jpg\" width=\"400\">\n",
    "\n",
    "## Lecture Plan\n",
    "\n",
    "1. Introduction to the Two Sum problem\n",
    "2. Two Sum to 0 problem\n",
    "3. Two Sum problem\n",
    "4. Brute Force Solution\n",
    "5. Tools for improving the solution\n",
    "6. Better Solution(s)\n",
    "7. Complexity Analysis\n",
    "8. Three Sum problem and beyond\n",
    "9. Application of Two Sum problem to other problems\n",
    "10. Summary\n",
    "\n",
    "## Introduction to the Two Sum problem\n",
    "\n",
    "Two Sum problem is a classic algorithmic interview question. It's one of the problems frequently used to test the candidate's problem-solving skills. The problem is also a good example of the importance of understanding the problem and the constraints before jumping into the solution.\n",
    "\n",
    "## Two Sum to 0 problem\n",
    "\n",
    "Given an array of integers, return indices of the two numbers such that they add up to 0.\n",
    "\n",
    "This is the simplified version of the problem. \n",
    "\n",
    "Still it can be useful to start with this problem as an introduction before trying the generalized Two Sum problem.\n",
    "\n",
    "### Real-World Applications of simpler Two Sum to 0 problem\n",
    "1. **Financial Analysis**:\n",
    "   - Identify credits and debits that cancel each other out.\n",
    "2. **Error Checking**:\n",
    "   - Find offsetting errors in numerical datasets.\n",
    "3. **Physics Simulations**:\n",
    "   - Match forces or velocities that cancel out to achieve equilibrium.\n",
    "4. **Game Development**:\n",
    "   - Detect offsetting moves or scores (e.g., balancing gameplay).\n",
    "\n",
    "### Example of sum to 0 problem\n",
    "\n",
    "```\n",
    "Input: [7,-2, 1, 2, 4, 7, 11], 0\n",
    "\n",
    "Output: [1, 3]  because  -2 + 2 = 0 (who knew?) and as usual indices are 0-based\n",
    "```\n"
   ]
  },
  {
   "cell_type": "markdown",
   "metadata": {},
   "source": [
    "### Ideas to solve the Two Sum to 0 problem\n",
    "\n",
    "1. **Brute Force**:\n",
    "   - Compare each element with every other element.\n",
    "\n",
    "2. **Sorting**:\n",
    "    - Sort the array and use two pointers. How would this work?\n",
    "\n",
    "3. **Trading Memory for Speed**:\n",
    "    - Use additional memory to speed up the search. Think about it."
   ]
  },
  {
   "cell_type": "markdown",
   "metadata": {
    "id": "-xIIITnQyly-"
   },
   "source": [
    "## Genereal Two Sum Problem Definition\n",
    "\n",
    "Given an array of integers, return indices of the two numbers such that they add up to a specific target.\n",
    "\n",
    "The Two Sum problem is a common coding problem in computer programming. Given an array of integers and a target integer, the problem requires finding two numbers in the array that add up to the target integer. The solution to the problem involves finding the indices of the two numbers in the array that add up to the target integer.\n",
    "\n",
    "For example, consider the following array of integers: [2, 7, 11, 15]. If the target integer is 9, then the solution to the Two Sum problem would be the indices of the two numbers that add up to 9, which are 0 and 1 (since 2 + 7 = 9).\n",
    "\n",
    "The Two Sum problem can be solved in several ways, including using brute force algorithms, hashing, or two-pointers techniques. The problem is often used as a benchmark to compare the efficiency and performance of different programming algorithms."
   ]
  },
  {
   "cell_type": "markdown",
   "metadata": {
    "id": "f0v-JuC8yly-"
   },
   "source": [
    "## Brute Force Solution\n",
    "\n",
    "### Brute Force Implementation"
   ]
  },
  {
   "cell_type": "code",
   "execution_count": 1,
   "metadata": {
    "id": "QOyJqvpCyly_"
   },
   "outputs": [],
   "source": [
    "def two_sum_brute(nums, target=0):\n",
    "    \"\"\"\n",
    "    Given an array of integers nums and an integer target, return indices of the two numbers such that\n",
    "    they add up to target. Brute force solution.\n",
    "    \"\"\"\n",
    "    n = len(nums)\n",
    "    for i in range(n):\n",
    "        for j in range(i+1, n): # notice we start from i+1, because we don't want to use the same element twice\n",
    "            if nums[i] + nums[j] == target:\n",
    "                return [i, j]\n",
    "    # So O(n*(n-1)) -> O(n^2-n) -> still O(n^2) time complexity\n",
    "    # return None by default\n",
    "    return []"
   ]
  },
  {
   "cell_type": "code",
   "execution_count": 24,
   "metadata": {},
   "outputs": [],
   "source": [
    "# let's modify it to return ALL pairs of indices that sum up to target\n",
    "def two_sum_brute_all(nums, target=0):\n",
    "    \"\"\"\n",
    "    Given an array of integers nums and an integer target, return ALL pairs of indices of the two numbers such that\n",
    "    they add up to target\n",
    "    \"\"\"\n",
    "    n = len(nums)\n",
    "    pairs = []\n",
    "    for i in range(n):\n",
    "        for j in range(i+1, n): # notice we start from i+1, because we don't want to use the same element twice\n",
    "            if nums[i] + nums[j] == target:\n",
    "                pairs.append([i, j]) # we assume this is O(1)\n",
    "    return pairs\n"
   ]
  },
  {
   "cell_type": "code",
   "execution_count": 25,
   "metadata": {},
   "outputs": [
    {
     "name": "stdout",
     "output_type": "stream",
     "text": [
      "Found 50 pairs that sum up to 101\n"
     ]
    }
   ],
   "source": [
    "# let's test all pair finder on range of 1 to 100\n",
    "n_100 = list(range(1, 101))\n",
    "# let's find target 101\n",
    "solutions = two_sum_brute_all(n_100, 101)\n",
    "# how many\n",
    "print(f\"Found {len(solutions)} pairs that sum up to 101\")"
   ]
  },
  {
   "cell_type": "code",
   "execution_count": 2,
   "metadata": {
    "colab": {
     "base_uri": "https://localhost:8080/"
    },
    "id": "zZNRzFoiyuBy",
    "outputId": "75c00113-05a2-4277-d4f0-03515a892e3c"
   },
   "outputs": [
    {
     "data": {
      "text/plain": [
       "[1, 2]"
      ]
     },
     "execution_count": 2,
     "metadata": {},
     "output_type": "execute_result"
    }
   ],
   "source": [
    "my_list =  [2, 7, 11, 15]\n",
    "two_sum_brute(my_list, 18)"
   ]
  },
  {
   "cell_type": "code",
   "execution_count": 3,
   "metadata": {},
   "outputs": [
    {
     "data": {
      "text/plain": [
       "[60, 23, 93, 74, 38, 25, 92, 52, 96, 91]"
      ]
     },
     "execution_count": 3,
     "metadata": {},
     "output_type": "execute_result"
    }
   ],
   "source": [
    "# let's do some 10 random numbers\n",
    "import random\n",
    "random.seed(2024)\n",
    "my_list = random.sample(range(100), 10)\n",
    "my_list"
   ]
  },
  {
   "cell_type": "code",
   "execution_count": 4,
   "metadata": {},
   "outputs": [
    {
     "data": {
      "text/plain": [
       "[4, 6]"
      ]
     },
     "execution_count": 4,
     "metadata": {},
     "output_type": "execute_result"
    }
   ],
   "source": [
    "# let's look for 130\n",
    "two_sum_brute(my_list, 130)"
   ]
  },
  {
   "cell_type": "code",
   "execution_count": 5,
   "metadata": {
    "colab": {
     "base_uri": "https://localhost:8080/"
    },
    "id": "1OmMrpjkzCCR",
    "outputId": "9b2c3567-c4b4-4553-c055-b8558dd51d67"
   },
   "outputs": [
    {
     "data": {
      "text/plain": [
       "[]"
      ]
     },
     "execution_count": 5,
     "metadata": {},
     "output_type": "execute_result"
    }
   ],
   "source": [
    "two_sum_brute(my_list, 318) # so no solution"
   ]
  },
  {
   "cell_type": "code",
   "execution_count": 6,
   "metadata": {},
   "outputs": [
    {
     "data": {
      "text/plain": [
       "[]"
      ]
     },
     "execution_count": 6,
     "metadata": {},
     "output_type": "execute_result"
    }
   ],
   "source": [
    "# let's check 0 sum\n",
    "two_sum_brute(my_list)"
   ]
  },
  {
   "cell_type": "code",
   "execution_count": null,
   "metadata": {
    "id": "obG58WY7zPJD"
   },
   "outputs": [],
   "source": []
  },
  {
   "cell_type": "code",
   "execution_count": null,
   "metadata": {
    "colab": {
     "base_uri": "https://localhost:8080/"
    },
    "id": "gmhpRW2SzEuX",
    "outputId": "bd3ea29d-4c7b-498d-98dc-346a70935751"
   },
   "outputs": [],
   "source": [
    "import random\n",
    "# set seed\n",
    "random.seed(2024)\n",
    "# we are using list comprehension to generate a list of 1000 random numbers between 1 and 10_000\n",
    "random_list_1k = [random.randint(1,10_000) for _ in range(1_000)]\n",
    "random_list_1k[:10]\n",
    "random_10k = [random.randint(1,100_000) for _ in range(10_000)]"
   ]
  },
  {
   "cell_type": "code",
   "execution_count": 8,
   "metadata": {
    "colab": {
     "base_uri": "https://localhost:8080/"
    },
    "id": "GjLU8WCozWU9",
    "outputId": "3b4b5c1d-4cbf-4fdb-9079-989655b1e021"
   },
   "outputs": [
    {
     "data": {
      "text/plain": [
       "[150, 696]"
      ]
     },
     "execution_count": 8,
     "metadata": {},
     "output_type": "execute_result"
    }
   ],
   "source": [
    "two_sum_brute(random_list_1k, 1000)\n",
    "# again we get a tuple of indices that sum up to 1000"
   ]
  },
  {
   "cell_type": "code",
   "execution_count": 9,
   "metadata": {
    "colab": {
     "base_uri": "https://localhost:8080/"
    },
    "id": "PGfaLyNUzraG",
    "outputId": "d6cb60dc-11e8-46a8-dea2-814935352d05"
   },
   "outputs": [
    {
     "data": {
      "text/plain": [
       "(474, 526, 1000)"
      ]
     },
     "execution_count": 9,
     "metadata": {},
     "output_type": "execute_result"
    }
   ],
   "source": [
    "random_list_1k[150], random_list_1k[696], random_list_1k[150] + random_list_1k[696]"
   ]
  },
  {
   "cell_type": "code",
   "execution_count": 10,
   "metadata": {},
   "outputs": [
    {
     "data": {
      "text/plain": [
       "[131, 876]"
      ]
     },
     "execution_count": 10,
     "metadata": {},
     "output_type": "execute_result"
    }
   ],
   "source": [
    "two_sum_brute(random_10k, 5000)"
   ]
  },
  {
   "cell_type": "code",
   "execution_count": 11,
   "metadata": {
    "colab": {
     "base_uri": "https://localhost:8080/"
    },
    "id": "Akz9q9TV0HSO",
    "outputId": "c23fe492-a0a6-47e0-8137-15bea9c0abd6"
   },
   "outputs": [
    {
     "name": "stdout",
     "output_type": "stream",
     "text": [
      "6.82 ms ± 522 μs per loop (mean ± std. dev. of 7 runs, 100 loops each)\n"
     ]
    }
   ],
   "source": [
    "%%timeit\n",
    "two_sum_brute(random_list_1k, 1000)"
   ]
  },
  {
   "cell_type": "code",
   "execution_count": 12,
   "metadata": {},
   "outputs": [
    {
     "name": "stdout",
     "output_type": "stream",
     "text": [
      "63.9 ms ± 3.68 ms per loop (mean ± std. dev. of 7 runs, 10 loops each)\n"
     ]
    }
   ],
   "source": [
    "%%timeit\n",
    "two_sum_brute(random_10k, 5000)"
   ]
  },
  {
   "cell_type": "code",
   "execution_count": 13,
   "metadata": {},
   "outputs": [
    {
     "data": {
      "text/plain": [
       "([97025, 55630, 63806, 12096, 38163, 87690, 60468, 45301, 53187, 7387],\n",
       " [72737, 26351, 21383, 67111, 15278, 47382, 93498, 62405, 98723, 95928])"
      ]
     },
     "execution_count": 13,
     "metadata": {},
     "output_type": "execute_result"
    }
   ],
   "source": [
    "# let's see first 10 and last 10 of random_10k\n",
    "random_10k[:10], random_10k[-10:]"
   ]
  },
  {
   "cell_type": "code",
   "execution_count": 14,
   "metadata": {},
   "outputs": [
    {
     "data": {
      "text/plain": [
       "192953"
      ]
     },
     "execution_count": 14,
     "metadata": {},
     "output_type": "execute_result"
    }
   ],
   "source": [
    "# let's add first and last together\n",
    "random_10k[0] + random_10k[-1]"
   ]
  },
  {
   "cell_type": "code",
   "execution_count": 15,
   "metadata": {},
   "outputs": [
    {
     "data": {
      "text/plain": [
       "[0, 9999]"
      ]
     },
     "execution_count": 15,
     "metadata": {},
     "output_type": "execute_result"
    }
   ],
   "source": [
    "# let's find it if there is another solution\n",
    "two_sum_brute(random_10k, random_10k[0] + random_10k[-1])"
   ]
  },
  {
   "cell_type": "code",
   "execution_count": 16,
   "metadata": {},
   "outputs": [
    {
     "name": "stdout",
     "output_type": "stream",
     "text": [
      "456 μs ± 9.9 μs per loop (mean ± std. dev. of 7 runs, 1,000 loops each)\n"
     ]
    }
   ],
   "source": [
    "%%timeit\n",
    "two_sum_brute(random_10k, 192953)"
   ]
  },
  {
   "cell_type": "code",
   "execution_count": 17,
   "metadata": {},
   "outputs": [
    {
     "data": {
      "text/plain": [
       "(95928, 98723, 194651)"
      ]
     },
     "execution_count": 17,
     "metadata": {},
     "output_type": "execute_result"
    }
   ],
   "source": [
    "# so the worst case scenario would be the last two elements\n",
    "# let's find the sum of the last two elements\n",
    "random_10k[-1], random_10k[-2], random_10k[-1] + random_10k[-2]"
   ]
  },
  {
   "cell_type": "code",
   "execution_count": 19,
   "metadata": {},
   "outputs": [
    {
     "data": {
      "text/plain": [
       "[333, 1093]"
      ]
     },
     "execution_count": 19,
     "metadata": {},
     "output_type": "execute_result"
    }
   ],
   "source": [
    "# so let's check for duplicate solutions\n",
    "two_sum_brute(random_10k, random_10k[-1] + random_10k[-2]) # so random_10k[-1] + random_10k[-2]\n"
   ]
  },
  {
   "cell_type": "code",
   "execution_count": 20,
   "metadata": {},
   "outputs": [
    {
     "data": {
      "text/plain": [
       "[53, 4915]"
      ]
     },
     "execution_count": 20,
     "metadata": {},
     "output_type": "execute_result"
    }
   ],
   "source": [
    "# let's check -3 and -1 for duplicates\n",
    "two_sum_brute(random_10k, random_10k[-3] + random_10k[-1]) # so random_10k[-3] + random_10k[-1]"
   ]
  },
  {
   "cell_type": "code",
   "execution_count": 22,
   "metadata": {},
   "outputs": [
    {
     "name": "stdout",
     "output_type": "stream",
     "text": [
      "58324 154252 [64, 7987]\n",
      "76149 172077 [5, 7875]\n",
      "83739 179667 [0, 8794]\n",
      "9980 105908 [1, 4965]\n",
      "2645 98573 [16, 6035]\n",
      "96184 192112 [333, 4380]\n",
      "1459 97387 [17, 5759]\n",
      "39394 135322 [4, 7906]\n",
      "86216 182144 [72, 6592]\n",
      "89670 185598 [81, 4505]\n",
      "26440 122368 [12, 2406]\n",
      "79776 175704 [27, 9571]\n",
      "12724 108652 [7, 5033]\n",
      "61545 157473 [13, 4009]\n",
      "43605 139533 [14, 3684]\n",
      "28647 124575 [2, 1895]\n",
      "57027 152955 [6, 8861]\n",
      "30540 126468 [2, 2636]\n",
      "12266 108194 [3, 8633]\n",
      "67769 163697 [46, 4768]\n",
      "72737 168665 [13, 1872]\n",
      "26351 122279 [58, 7392]\n",
      "21383 117311 [7, 4004]\n",
      "67111 163039 [99, 7750]\n",
      "15278 111206 [4, 9369]\n",
      "47382 143310 [37, 4547]\n",
      "93498 189426 [87, 1549]\n",
      "62405 158333 [53, 4915]\n",
      "98723 194651 [333, 1093]\n"
     ]
    }
   ],
   "source": [
    "# let's check last ten elements vs -1\n",
    "for n in random_10k[-30:-1]: # so I am going through last 10 elements except the last one\n",
    "    print(n, random_10k[-1] + n, two_sum_brute(random_10k, random_10k[-1] + n))"
   ]
  },
  {
   "cell_type": "code",
   "execution_count": 27,
   "metadata": {},
   "outputs": [
    {
     "name": "stdout",
     "output_type": "stream",
     "text": [
      "23.8 ms ± 832 μs per loop (mean ± std. dev. of 7 runs, 10 loops each)\n"
     ]
    }
   ],
   "source": [
    "%%timeit\n",
    "# now let's time find all pairs\n",
    "two_sum_brute_all(random_list_1k, 1000)"
   ]
  },
  {
   "cell_type": "code",
   "execution_count": 28,
   "metadata": {},
   "outputs": [
    {
     "name": "stdout",
     "output_type": "stream",
     "text": [
      "2.59 s ± 214 ms per loop (mean ± std. dev. of 7 runs, 1 loop each)\n"
     ]
    }
   ],
   "source": [
    "%%timeit\n",
    "two_sum_brute_all(random_10k, 5000)"
   ]
  },
  {
   "cell_type": "markdown",
   "metadata": {
    "id": "ebeqHrTkylzA"
   },
   "source": [
    "### Complexity of Brute Force\n",
    "\n",
    "The function two_sum takes an array of integers nums and a target integer target as input and returns a list of indices of the two numbers that add up to the target. The function uses two nested loops to check every possible pair of numbers in the array. If the sum of a pair equals the target, the function returns the indices of the pair.\n",
    "\n",
    "The time complexity of this brute force solution is O(n^2), where n is the length of the input array. Therefore, this solution is not very efficient for large arrays.\n",
    "\n",
    "Space complexity is O(1) since we are not using any extra arrays, any other data structures that are dependent on number of elements(n)."
   ]
  },
  {
   "cell_type": "markdown",
   "metadata": {
    "id": "Dg8isoGnylzA"
   },
   "source": [
    "## Pointers Solution\n",
    "\n",
    "The Two Sum problem can also be solved using the two-pointers technique. The idea is to use two pointers, one at the beginning of the array and the other at the end of the array, and then move the pointers towards each other until the sum of the values at the two pointers equals the target.\n",
    "\n",
    "\n",
    "### Pointers Implementation"
   ]
  },
  {
   "cell_type": "code",
   "execution_count": null,
   "metadata": {
    "id": "N6uGBihPylzA"
   },
   "outputs": [],
   "source": [
    "def two_sum_with_pointers(nums, target):\n",
    "    \"\"\"\n",
    "    Given an array of integers nums and an integer target, return indices of the two numbers such that\n",
    "    they add up to target. Two-pointer solution.\n",
    "    Assumptions: nums is sorted!!!\n",
    "    \"\"\"\n",
    "    n = len(nums)\n",
    "    left, right = 0, n-1 # so we start from the beginning and the end\n",
    "    while left < right:\n",
    "        total = nums[left] + nums[right]\n",
    "        if total == target:\n",
    "            # if we needed ALL solutions, we could store them in a list here\n",
    "            return [left, right]\n",
    "        elif total < target:\n",
    "            left += 1\n",
    "        else:\n",
    "            right -= 1\n",
    "    # nothing found\n",
    "    return []"
   ]
  },
  {
   "cell_type": "code",
   "execution_count": 30,
   "metadata": {
    "colab": {
     "base_uri": "https://localhost:8080/"
    },
    "id": "TaoI_ZWj09Dv",
    "outputId": "3e57a206-f11e-4a02-ce2e-bf24ac73612c"
   },
   "outputs": [
    {
     "data": {
      "text/plain": [
       "[]"
      ]
     },
     "execution_count": 30,
     "metadata": {},
     "output_type": "execute_result"
    }
   ],
   "source": [
    "two_sum_with_pointers(my_list, 18)"
   ]
  },
  {
   "cell_type": "code",
   "execution_count": 31,
   "metadata": {
    "colab": {
     "base_uri": "https://localhost:8080/"
    },
    "id": "SuuGxpj71BjX",
    "outputId": "b4715b55-b4ec-42bd-d37f-ab1bb1fa7aee"
   },
   "outputs": [
    {
     "data": {
      "text/plain": [
       "[]"
      ]
     },
     "execution_count": 31,
     "metadata": {},
     "output_type": "execute_result"
    }
   ],
   "source": [
    "two_sum_with_pointers(my_list, 9018)"
   ]
  },
  {
   "cell_type": "code",
   "execution_count": 32,
   "metadata": {
    "colab": {
     "base_uri": "https://localhost:8080/"
    },
    "id": "7zvtzRbx1Kgz",
    "outputId": "0a7a5087-d1dc-44d0-ed05-e9df744657f9"
   },
   "outputs": [
    {
     "data": {
      "text/plain": [
       "[]"
      ]
     },
     "execution_count": 32,
     "metadata": {},
     "output_type": "execute_result"
    }
   ],
   "source": [
    "# not a good idea to try this on unsorted\n",
    "two_sum_with_pointers(random_list_1k, 1000)\n",
    "# so we got no answer, when we know we do have an answer\n",
    "# because we did not make the correct choice at some decision\n",
    "# so we should consider sorting the list"
   ]
  },
  {
   "cell_type": "code",
   "execution_count": null,
   "metadata": {},
   "outputs": [
    {
     "name": "stdout",
     "output_type": "stream",
     "text": [
      "Indices: 4, 86\n"
     ]
    },
    {
     "data": {
      "text/plain": [
       "(50, 950, 1000)"
      ]
     },
     "execution_count": 33,
     "metadata": {},
     "output_type": "execute_result"
    }
   ],
   "source": [
    "sorted_1k = sorted(random_list_1k) # again O(n log n) - timsort\n",
    "a,b = two_sum_with_pointers(sorted_1k, 1000)\n",
    "print(f\"Indices: {a}, {b}\")\n",
    "sorted_1k[a], sorted_1k[b], sorted_1k[a] + sorted_1k[b]"
   ]
  },
  {
   "cell_type": "markdown",
   "metadata": {
    "id": "LFLg-SLfylzB"
   },
   "source": [
    "### Complexity of Pointers Solution\n",
    "\n",
    "The function two_sum takes an array of integers nums and a target integer target as input and returns a list of indices of the two numbers that add up to the target. The function initializes two pointers, left and right, at the beginning and end of the array, respectively. It then compares the sum of the values at the two pointers with the target. If the sum equals the target, the function returns the indices of the two pointers. If the sum is less than the target, the left pointer is incremented, and if the sum is greater than the target, the right pointer is decremented. The function continues moving the pointers until it finds a pair that adds up to the target or until the pointers cross each other.\n",
    "\n",
    "The time complexity of this two-pointer solution is O(n) assuming the list is sorted, where n is the length of the input array. Therefore, this solution is more efficient than the brute force solution for large arrays.\n",
    "\n",
    "As soon as we add the required to sort the list we go down to O(n log n)"
   ]
  },
  {
   "cell_type": "markdown",
   "metadata": {
    "id": "cQkpcMd0ylzB"
   },
   "source": [
    "### Extra Requirements for Two Pointers Solution\n",
    "\n",
    "The two-pointer technique can be used to solve the Two Sum problem if the input array is sorted. The idea is to use two pointers, one at the beginning of the array and the other at the end of the array, and then move the pointers towards each other until the sum of the values at the two pointers equals the target.\n",
    "\n",
    "However, if the input array is not sorted, the two-pointer technique may not work correctly. For example, consider the following input array: [3, 4, 2, 7, 5] and the target integer 9. If we use the two-pointer technique on this unsorted array, we may not find a solution even though the solution exists (i.e., 2 and 7 add up to 9). This is because the two-pointer technique relies on the fact that the input array is sorted, which allows us to move the pointers in a specific way.\n",
    "\n",
    "Therefore, if the input array is not sorted, we need to sort the array first before applying the two-pointer technique. The time complexity of sorting the array is O(n log n), where n is the length of the input array. After sorting the array, the two-pointer technique can be used to solve the Two Sum problem with a time complexity of O(n), where n is the length of the sorted array."
   ]
  },
  {
   "cell_type": "code",
   "execution_count": null,
   "metadata": {
    "id": "e0Pi3n3eylzC"
   },
   "outputs": [],
   "source": [
    "def two_sum_sorted(nums, target):\n",
    "    \"\"\"\n",
    "    Given an array of integers nums and an integer target, return indices of the two numbers such that\n",
    "    they add up to target. Two-pointer solution with sorting.\n",
    "    \"\"\"\n",
    "    # Sort the input array\n",
    "    nums_sorted = sorted(nums) # so this uses timsort which is O(n log n)\n",
    "    # also we are using additional O(n) space since we keep the OG array nums\n",
    "    \n",
    "    # Initialize two pointers at the beginning and end of the array\n",
    "    left, right = 0, len(nums_sorted) - 1\n",
    "    \n",
    "    # Move the pointers towards each other until the sum of the values at the two pointers equals the target\n",
    "    while left < right:\n",
    "        curr_sum = nums_sorted[left] + nums_sorted[right]\n",
    "        if curr_sum == target:\n",
    "            # Find the indices of the values in the original unsorted array\n",
    "            index1 = nums.index(nums_sorted[left]) # # this would  e O(n) - linear lookup\n",
    "            # TODO create dictionary of indices first hand otherwise we are going to have O(n^2) time complexity\n",
    "            # index2 = nums.index(nums_sorted[right], index1 + 1) # starting search on index1+1 might not work\n",
    "            index2 = nums.index(nums_sorted[right])\n",
    "            # the above operations are going to cost some time - linear lookup so \n",
    "            # 2 x O(n) - crucially the number of lookups is not dependent on n\n",
    "            # think of these as placed at the very end of the function\n",
    "            return [index1, index2]\n",
    "        elif curr_sum < target:\n",
    "            left += 1\n",
    "        else:\n",
    "            right -= 1\n",
    "    \n",
    "    # If no solution is found, return an empty list\n",
    "    return []"
   ]
  },
  {
   "cell_type": "code",
   "execution_count": 20,
   "metadata": {
    "colab": {
     "base_uri": "https://localhost:8080/"
    },
    "id": "KfDRm2UA2LQ3",
    "outputId": "4dde782a-1774-4b00-dc5c-9d445f7ffa71"
   },
   "outputs": [
    {
     "name": "stdout",
     "output_type": "stream",
     "text": [
      "Indices: 564, 569\n"
     ]
    },
    {
     "data": {
      "text/plain": [
       "(50, 950, 1000)"
      ]
     },
     "execution_count": 20,
     "metadata": {},
     "output_type": "execute_result"
    }
   ],
   "source": [
    "a,b = two_sum_sorted(random_list_1k, 1000)\n",
    "print(f\"Indices: {a}, {b}\")\n",
    "random_list_1k[a], random_list_1k[b], random_list_1k[a] + random_list_1k[b]"
   ]
  },
  {
   "cell_type": "code",
   "execution_count": 21,
   "metadata": {
    "id": "Vz3az1W45MF8"
   },
   "outputs": [
    {
     "name": "stdout",
     "output_type": "stream",
     "text": [
      "271 µs ± 20 µs per loop (mean ± std. dev. of 7 runs, 1,000 loops each)\n"
     ]
    }
   ],
   "source": [
    "%%timeit\n",
    "two_sum_sorted(random_list_1k, 1000)"
   ]
  },
  {
   "cell_type": "code",
   "execution_count": 27,
   "metadata": {},
   "outputs": [
    {
     "name": "stdout",
     "output_type": "stream",
     "text": [
      "145 ms ± 11.8 ms per loop (mean ± std. dev. of 7 runs, 10 loops each)\n"
     ]
    }
   ],
   "source": [
    "%%timeit\n",
    "two_sum_brute(random_10k, 5000)"
   ]
  },
  {
   "cell_type": "code",
   "execution_count": null,
   "metadata": {
    "id": "C3njn_YY4oqT"
   },
   "outputs": [],
   "source": [
    "# so hint we can store some values to speed up our calculation\n",
    "# so we would utilize ability of hash table (called dictionary in Python)\n",
    "# to do O(1) storage and O(1) lookups - meaning no change in speed on million or billion items"
   ]
  },
  {
   "cell_type": "code",
   "execution_count": null,
   "metadata": {
    "id": "raNcagWn5fOx"
   },
   "outputs": [],
   "source": [
    "# so idea is not to do the same calculation again"
   ]
  },
  {
   "cell_type": "markdown",
   "metadata": {
    "id": "7wnLCoLgylzC"
   },
   "source": [
    "## Hashing Solution\n",
    "\n",
    "The Two Sum problem can also be solved using hashing. The idea is to use a hash table (dictionary in Python) to store the values in the input array as keys and their indices as values. Then, for each value in the input array, we check if the complement (i.e., the difference between the target and the current value) exists in the hash table. If the complement exists, we have found a solution, and we return the indices of the current value and its complement.\n",
    "\n",
    "### Hashing Implementation"
   ]
  },
  {
   "cell_type": "code",
   "execution_count": 34,
   "metadata": {
    "id": "7WLKTGDfylzD"
   },
   "outputs": [],
   "source": [
    "def two_sum_hashing(nums, target):\n",
    "    \"\"\"\n",
    "    Given an array of integers nums and an integer target, return indices of the two numbers such that\n",
    "    they add up to target. Hashing solution.\n",
    "    \"\"\"\n",
    "    hash_table = {} # so dictionary in Python\n",
    "    for i in range(len(nums)):  # enumerate would be more Pythonic\n",
    "        complement = target - nums[i]\n",
    "        if complement in hash_table: # key part this is O(1) look, this would O(n) in a list\n",
    "        # if we had used a list instead then looking up complement would be O(n) and our solution would be as bad brute\n",
    "        # it would be worse because space with no good reason\n",
    "            return [hash_table[complement], i] # so order might matter but usually does not # again O(1) lookup !\n",
    "        hash_table[nums[i]] = i # crucially we spend O(1) to save the reverse lookup in the hash table\n",
    "\n",
    "    return [] "
   ]
  },
  {
   "cell_type": "code",
   "execution_count": 39,
   "metadata": {},
   "outputs": [],
   "source": [
    "# let's modify our hashing solution to return all pairs we want only unique pairs so we will use set\n",
    "# also we will store the pairs in sorted order\n",
    "def two_sum_hashing_all(nums, target):\n",
    "    \"\"\"\n",
    "    Given an array of integers nums and an integer target, return ALL pairs of indices of the two numbers such that\n",
    "    they add up to target. Hashing solution.\n",
    "    \"\"\"\n",
    "    hash_table = {} # so dictionary in Python\n",
    "    pairs = set()\n",
    "    for i in range(len(nums)):  # enumerate would be more Pythonic\n",
    "        complement = target - nums[i]\n",
    "        if complement in hash_table: # key part this is O(1) look, this would O(n) in a list\n",
    "        # if we had used a list instead then looking up complement would be O(n) and our solution would be as bad brute\n",
    "        # it would be worse because space with no good reason\n",
    "            pairs.add(tuple(sorted([hash_table[complement], i]))) # so order might matter but usually does not # again O(1) lookup !\n",
    "        hash_table[nums[i]] = i # crucially we spend O(1) to save the reverse lookup in the hash table\n",
    "\n",
    "    return list(pairs)"
   ]
  },
  {
   "cell_type": "code",
   "execution_count": 35,
   "metadata": {},
   "outputs": [
    {
     "name": "stdout",
     "output_type": "stream",
     "text": [
      "Indices: 564, 569\n"
     ]
    },
    {
     "data": {
      "text/plain": [
       "(50, 950, 1000)"
      ]
     },
     "execution_count": 35,
     "metadata": {},
     "output_type": "execute_result"
    }
   ],
   "source": [
    "# lets see it on 1k\n",
    "a,b = two_sum_hashing(random_list_1k, 1000)\n",
    "print(f\"Indices: {a}, {b}\")\n",
    "random_list_1k[a], random_list_1k[b], random_list_1k[a] + random_list_1k[b]"
   ]
  },
  {
   "cell_type": "code",
   "execution_count": 36,
   "metadata": {},
   "outputs": [
    {
     "name": "stdout",
     "output_type": "stream",
     "text": [
      "Indices: 131, 876\n"
     ]
    },
    {
     "data": {
      "text/plain": [
       "(3583, 1417, 5000)"
      ]
     },
     "execution_count": 36,
     "metadata": {},
     "output_type": "execute_result"
    }
   ],
   "source": [
    "# how about on 10k\n",
    "a,b = two_sum_hashing(random_10k, 5000)\n",
    "print(f\"Indices: {a}, {b}\")\n",
    "random_10k[a], random_10k[b], random_10k[a] + random_10k[b]"
   ]
  },
  {
   "cell_type": "code",
   "execution_count": 37,
   "metadata": {},
   "outputs": [
    {
     "name": "stdout",
     "output_type": "stream",
     "text": [
      "57.6 μs ± 1.84 μs per loop (mean ± std. dev. of 7 runs, 10,000 loops each)\n"
     ]
    }
   ],
   "source": [
    "%%timeit\n",
    "two_sum_hashing(random_list_1k, 1000)"
   ]
  },
  {
   "cell_type": "code",
   "execution_count": 38,
   "metadata": {},
   "outputs": [
    {
     "name": "stdout",
     "output_type": "stream",
     "text": [
      "96.6 μs ± 2.85 μs per loop (mean ± std. dev. of 7 runs, 10,000 loops each)\n"
     ]
    }
   ],
   "source": [
    "%%timeit\n",
    "two_sum_hashing(random_10k, 5000)"
   ]
  },
  {
   "cell_type": "code",
   "execution_count": 40,
   "metadata": {},
   "outputs": [
    {
     "name": "stdout",
     "output_type": "stream",
     "text": [
      "Found 26 pairs that sum up to 194651\n"
     ]
    }
   ],
   "source": [
    "# let's find all solutions to target being equal to sum of last two elements in 10k\n",
    "solutions = two_sum_hashing_all(random_10k, random_10k[-1] + random_10k[-2])\n",
    "# how many\n",
    "print(f\"Found {len(solutions)} pairs that sum up to {random_10k[-1] + random_10k[-2]}\")"
   ]
  },
  {
   "cell_type": "code",
   "execution_count": null,
   "metadata": {},
   "outputs": [],
   "source": [
    "# Hypothesis: we have so many solutions due to birthday paradox\n",
    "# Docs: https://en.wikipedia.org/wiki/Birthday_problem"
   ]
  },
  {
   "cell_type": "markdown",
   "metadata": {
    "id": "zDHJv8t1ylzD"
   },
   "source": [
    "The function two_sum takes an array of integers nums and a target integer target as input and returns a list of indices of the two numbers that add up to the target. The function initializes an empty hash table hash_table and then loops through the input array. For each value in the array, the function computes its complement (i.e., the difference between the target and the value) and checks if the complement exists in the hash table. If the complement exists, the function returns the indices of the current value and its complement. If the complement does not exist, the function adds the current value and its index to the hash table. The time complexity of this hashing solution is O(n), where n is the length of the input array.\n",
    "\n",
    "Note that if there are duplicate values in the input array, the hashing solution will still work correctly. The hash table will store the last index of each value in the array, so the function will always return the correct indices of the two numbers that add up to the target."
   ]
  },
  {
   "cell_type": "markdown",
   "metadata": {
    "id": "hAHNgky2ylzD"
   },
   "source": [
    "### Space Complexity of Hashing Solution\n",
    "\n",
    "The space complexity of the hashing solution for the Two Sum problem is O(n), where n is the length of the input array. This is because the solution uses a hash table (dictionary in Python) to store the values in the input array as keys and their indices as values. The size of the hash table is proportional to the number of values in the input array, which is n. Therefore, the space complexity of the hashing solution is O(n).\n",
    "\n",
    "In the worst case, all the values in the input array are unique, so the size of the hash table is equal to the length of the input array. In this case, the space complexity is O(n). However, in the best case, the input array contains only one or two values that add up to the target, so the size of the hash table is very small. In this case, the space complexity is much smaller than O(n).\n",
    "\n",
    "Note that the space complexity of the hashing solution is higher than the space complexity of the two-pointer solution, which is O(1) because it does not require any extra data structures. However, the hashing solution has a better time complexity of O(n) compared to the two-pointer solution with sorting, which has a time complexity of O(n log n). Therefore, the choice of the solution depends on the requirements of the specific problem."
   ]
  },
  {
   "cell_type": "markdown",
   "metadata": {
    "id": "xNQQrXkcylzE"
   },
   "source": [
    "### Key Idea - Hashing - Trading Space for Time\n",
    "\n",
    "The primary idea behind the hashing solution for the Two Sum problem is trading space complexity for time complexity. The hashing solution uses a hash table (dictionary in Python) to store the values in the input array as keys and their indices as values. This allows the solution to find the complement of each value in constant time on average, resulting in a time complexity of O(n).\n",
    "\n",
    "However, this comes at the cost of a higher space complexity, which is O(n) in the worst case, where n is the length of the input array. The size of the hash table is proportional to the number of values in the input array, which is n. Therefore, the hashing solution trades space complexity for time complexity.\n",
    "\n",
    "In contrast, the two-pointer solution does not require any extra data structures, resulting in a space complexity of O(1). However, the time complexity of the two-pointer solution depends on the sorting algorithm used to sort the input array. If an efficient sorting algorithm is used, the time complexity can be O(n log n) in the worst case.\n",
    "\n",
    "Therefore, the choice between the two solutions depends on the requirements of the specific problem. If space is not a concern and a fast solution is required, the hashing solution may be a better choice. If space is limited or the input array is already sorted, the two-pointer solution may be a better choice."
   ]
  },
  {
   "cell_type": "markdown",
   "metadata": {},
   "source": [
    "## List implementation of two sum\n",
    "\n",
    "We can implement the two sum problem using list as well. The problem is that we would need space equivalent to the maximum number in the list. This is not a good solution if the maximum number is very large.\n",
    "\n",
    "For that reason dictionary is a better solution."
   ]
  },
  {
   "cell_type": "code",
   "execution_count": 41,
   "metadata": {},
   "outputs": [],
   "source": [
    "# so list solution is not going to work because\n",
    "# Python allows negative indexing for lists \n",
    "# but we need to store the compliment as the key\n",
    "# thus we might get a false positive when we get a negative complement and our list gets us some value\n",
    "# so we need to use a dictionary\n",
    "# def two_sum_hashing_list(nums, target):\n",
    "#     \"\"\"\n",
    "#     Given an array of integers nums and an integer target, return indices of the two numbers such that\n",
    "#     they add up to target. Hashing solution with list.\n",
    "#     \"\"\"\n",
    "\n",
    "#     my_list = [None] * (max(nums)+1) # so using more space than hashing\n",
    "#     print(f\"Size of my_list: {len(my_list)}\")\n",
    "#     for i in range(len(nums)):  # enumerate would be more Pythonic\n",
    "#         complement = target - nums[i] # THIS could be negative, so in Python we would look from the end\n",
    "# this negative indexing would potentially break the solution\n",
    "#         if my_list[complement] is not None: # key part this is O(n) look\n",
    "#             print(f\"Complement: {complement}, i: {i}\")\n",
    "#         # if we had used a list instead then looking up complement would be O(n) and our solution would be as bad brute\n",
    "#         # it would be worse because space with no good reason\n",
    "#             return [nums.index(complement), i] # so order might matter but usually does not\n",
    "#         my_list[complement] = i # crucially we spend O(1) to save the reverse lookup in the hash table\n",
    "\n",
    "#     return []\n",
    "\n",
    "# # let's try on 1k\n",
    "# a,b = two_sum_hashing_list(random_list_1k, 1000)\n",
    "# print(f\"Indices: {a}, {b}\")\n",
    "# random_list_1k[a], random_list_1k[b], random_list_1k[a] + random_list_1k[b]"
   ]
  },
  {
   "cell_type": "markdown",
   "metadata": {
    "id": "JPq0GFArylzE"
   },
   "source": [
    "### Two Sum - LeetCode\n",
    "\n",
    "https://leetcode.com/problems/two-sum/"
   ]
  },
  {
   "cell_type": "markdown",
   "metadata": {},
   "source": [
    "## Two Sum - Finding All Pairs\n",
    "\n",
    "How much extra complexity would be there to implement the solution to find all pairs that add up to the target?\n",
    "\n",
    "Would anything much change in the solution?\n",
    "\n",
    "We would simply need to store all pairs that add up to the target. We can do that by storing the pairs in a list or possibly a dictionary.\n",
    "\n",
    "What would be the time complexity of the solution?\n",
    "\n",
    "### Complexity of Finding All Pairs\n",
    "\n",
    "1. If we are using hashing, the time complexity would be O(n) to find all pairs that add up to the target. It only takes O(1) time to add a pair to the dictionary. And we do it at most n/2 times. So the time complexity would be O(n).\n",
    "\n",
    "2. If we are using two pointers, the time complexity would be O(n log n) to sort the array and O(n) to find all pairs that add up to the target. So the time complexity would be O(n log n). Again cost of sorting is higher than the cost of finding all pairs.\n",
    "\n",
    "3. Brute force solution would be O(n^2) to find all pairs that add up to the target. So the time complexity would be O(n^2). Again cost is O(1) to add a specific pair to the list. At most we can have n/2 pairs that add up to the target."
   ]
  },
  {
   "cell_type": "markdown",
   "metadata": {},
   "source": [
    "## Two Sum - Streaming Input\n",
    "\n",
    "What if the input is a stream of numbers and we need to find the pairs that add up to the target?\n",
    "\n",
    "That is we do not know the size of the input in advance. It keeps coming in a stream.\n",
    "\n",
    "### Using prexisting solutions\n",
    "\n",
    "The hashing solution is already a streaming solution. We can keep adding the numbers to the dictionary as they come in the stream.\n"
   ]
  },
  {
   "cell_type": "markdown",
   "metadata": {
    "id": "8nrj4Z8lylzE"
   },
   "source": [
    "## Three Sum - Description\n",
    "\n",
    "Given an array of integers nums and an integer target, return indices of the three numbers such that they add up to target."
   ]
  },
  {
   "cell_type": "markdown",
   "metadata": {
    "id": "C7EiFDnQylzE"
   },
   "source": [
    "The Three Sum problem can also be generalized to a target sum other than zero. The problem requires finding all unique triplets in an array of integers that add up to a given target integer.\n",
    "\n",
    "Formally, given an array nums of n integers and a target integer target, the generalized Three Sum problem requires finding all unique triplets (nums[i], nums[j], nums[k]) such that i < j < k(might note be required depending on problem statement, whether we require indexes to be sorted) and nums[i] + nums[j] + nums[k] = target. The solution to the problem involves returning a list of all unique triplets that satisfy this condition.\n",
    "\n",
    "For example, consider the following array of integers and target sum: nums = [-1, 0, 1, 2, -1, -4], target = 0. The solution to the generalized Three Sum problem would be the list of unique triplets that add up to the target sum, which is [-1, 0, 1] and [-1, -1, 2].\n",
    "\n",
    "The generalized Three Sum problem can be solved using a variety of techniques, including brute force algorithms, hashing, and two-pointers techniques. However, the choice of the algorithm may depend on the specific requirements of the problem, such as the size of the input array and the range of the input values. The generalized Three Sum problem can be useful in a variety of applications, such as finding pairs of stocks that add up to a certain price or finding combinations of items that satisfy a certain cost or weight limit."
   ]
  },
  {
   "cell_type": "markdown",
   "metadata": {
    "id": "nNobwAVPylzF"
   },
   "source": [
    "### Three Sum Brute Force - Implementation"
   ]
  },
  {
   "cell_type": "code",
   "execution_count": 42,
   "metadata": {
    "id": "bQnJQXGfylzF"
   },
   "outputs": [],
   "source": [
    "\n",
    "def three_sum_brute(nums, target):\n",
    "    \"\"\"\n",
    "    Given an array of integers nums and a target integer target, return a list of all unique triplets (nums[i], nums[j], nums[k])\n",
    "    such that i < j < k and nums[i] + nums[j] + nums[k] = target. Brute force solution.\n",
    "    \"\"\"\n",
    "    result = [] # so potentially space requirement would be the maximum number of unique triplets that sum up to target\n",
    "    for i in range(len(nums)):\n",
    "        for j in range(i+1, len(nums)):\n",
    "            for k in range(j+1, len(nums)):\n",
    "                if nums[i] + nums[j] + nums[k] == target:\n",
    "                    triplet = sorted([nums[i], nums[j], nums[k]])\n",
    "                    if triplet not in result: # also checking whether something exists in a list is potentially O(list size) operation\n",
    "                        result.append(triplet) # have to be careful append should be O(1)\n",
    "                        # however shift operation at the beginning of the list is going to be O(n)\n",
    "                        # because list is array like\n",
    "                        # if list was doubly linked-list we could insert at either end\n",
    "    return result"
   ]
  },
  {
   "cell_type": "code",
   "execution_count": 49,
   "metadata": {
    "colab": {
     "base_uri": "https://localhost:8080/"
    },
    "id": "nbcRuFFE_kDy",
    "outputId": "50ac24d2-8d40-4fbb-b9d6-e4859f986995"
   },
   "outputs": [
    {
     "data": {
      "text/plain": [
       "[482, 187, 746, 593, 312]"
      ]
     },
     "execution_count": 49,
     "metadata": {},
     "output_type": "execute_result"
    }
   ],
   "source": [
    "random.seed(2024)\n",
    "random_100 = [random.randint(1,1_000) for _ in range(100)]\n",
    "random_100[:5]"
   ]
  },
  {
   "cell_type": "code",
   "execution_count": 50,
   "metadata": {
    "colab": {
     "base_uri": "https://localhost:8080/"
    },
    "id": "Q6sq507R_uGb",
    "outputId": "1c56f971-97c6-4550-fc01-af0421120a8c"
   },
   "outputs": [
    {
     "name": "stdout",
     "output_type": "stream",
     "text": [
      "We got 65 solutions\n"
     ]
    }
   ],
   "source": [
    "solutions_3sum = three_sum_brute(random_100, 1_000)\n",
    "print(f\"We got {len(solutions_3sum)} solutions\")"
   ]
  },
  {
   "cell_type": "code",
   "execution_count": 51,
   "metadata": {},
   "outputs": [
    {
     "data": {
      "text/plain": [
       "([20, 115, 865], 1000)"
      ]
     },
     "execution_count": 51,
     "metadata": {},
     "output_type": "execute_result"
    }
   ],
   "source": [
    "# let's print the last one\n",
    "solutions_3sum[-1], sum(solutions_3sum[-1])"
   ]
  },
  {
   "cell_type": "markdown",
   "metadata": {
    "id": "jEl7ZeDyylzF"
   },
   "source": [
    "### Three Sum Solution - Time Complexity\n",
    "\n",
    "The three_sum function takes an array of integers nums and a target integer target as input and returns a list of all unique triplets that add up to the target. The function uses a brute force algorithm that involves iterating through all possible combinations of three elements in the input array and checking if their sum is equal to the target.\n",
    "\n",
    "For each triplet that satisfies the condition, the function sorts the triplet in ascending order and adds it to the result list only if it is not already in the list. This ensures that the function returns a list of unique triplets.\n",
    "\n",
    "The time complexity of this brute force solution is O(n^3), where n is the length of the input array. The space complexity of the solution is also O(n^3) because the function stores all possible triplets that satisfy the condition in the result list."
   ]
  },
  {
   "cell_type": "markdown",
   "metadata": {
    "id": "JIA-_4QtylzF"
   },
   "source": [
    "## Three Sum Pointer Solution\n",
    "\n",
    "The Three Sum problem can also be solved using two-pointer techniques. The idea is to sort the input array and then use two pointers to find all unique triplets that add up to the target. The function three_sum takes an array of integers nums and a target integer target as input and returns a list of all unique triplets that add up to the target.\n",
    "\n",
    "The Three Sum problem can also be solved using the two-pointers technique, which can reduce the time complexity to O(n^2) in the worst case. The idea is to sort the input array and then use two pointers to scan the array. The first pointer, i, iterates through the array, and for each i, we use two additional pointers, j and k, to scan the remaining subarray for pairs that add up to the target value.\n",
    "\n"
   ]
  },
  {
   "cell_type": "markdown",
   "metadata": {
    "id": "tiAjpXJHylzF"
   },
   "source": [
    "### Three Sum Pointer Solution - Implementation\n",
    "\n"
   ]
  },
  {
   "cell_type": "code",
   "execution_count": null,
   "metadata": {
    "id": "wMBs_vIxylzF"
   },
   "outputs": [],
   "source": [
    "def three_sum_pointers(nums, target):\n",
    "    \"\"\"\n",
    "    Given an array of integers nums and a target integer target, return a list of all unique triplets (nums[i], nums[j], nums[k])\n",
    "    such that i < j < k and nums[i] + nums[j] + nums[k] = target. Two-pointer solution with sorting.\n",
    "    \"\"\"\n",
    "    numbers = sorted(nums) # this keeps the original list - again O(n log n)\n",
    "    # if the original order is important\n",
    "    # we would use sorted_nums = sorted(nums)\n",
    "    # then we would need to look up actual indexes like we used in the two sum pointer solution\n",
    "    result = []\n",
    "    for i in range(len(numbers)):\n",
    "        # Skip duplicates\n",
    "        if i > 0 and numbers[i] == numbers[i-1]:\n",
    "            continue\n",
    "        j, k = i+1, len(numbers)-1\n",
    "        while j < k:\n",
    "            curr_sum = numbers[i] + numbers[j] + numbers[k]\n",
    "            if curr_sum == target:\n",
    "                result.append([numbers[i], numbers[j], numbers[k]]) # so potentially using extra space\n",
    "                # if we did not want to save all results\n",
    "                # we would return the indexes here\n",
    "                # Skip duplicates\n",
    "                while j < k and numbers[j] == numbers[j+1]:\n",
    "                    j += 1\n",
    "                while j < k and numbers[k] == numbers[k-1]:\n",
    "                    k -= 1\n",
    "                j += 1\n",
    "                k -= 1\n",
    "            elif curr_sum < target:\n",
    "                j += 1\n",
    "            else:\n",
    "                k -= 1\n",
    "    return result"
   ]
  },
  {
   "cell_type": "code",
   "execution_count": 54,
   "metadata": {},
   "outputs": [
    {
     "name": "stdout",
     "output_type": "stream",
     "text": [
      "We got 65 solutions\n"
     ]
    }
   ],
   "source": [
    "# let's try it on \n",
    "solution = three_sum_pointers(random_100, 1_000)\n",
    "print(f\"We got {len(solution)} solutions\")\n"
   ]
  },
  {
   "cell_type": "code",
   "execution_count": 55,
   "metadata": {},
   "outputs": [
    {
     "data": {
      "text/plain": [
       "([327, 334, 339], 1000)"
      ]
     },
     "execution_count": 55,
     "metadata": {},
     "output_type": "execute_result"
    }
   ],
   "source": [
    "# last solution\n",
    "solution[-1], sum(solution[-1])"
   ]
  },
  {
   "cell_type": "markdown",
   "metadata": {
    "id": "bsJPoJloylzG"
   },
   "source": [
    "The three_sum function takes an array of integers nums and a target integer target as input and returns a list of all unique triplets that add up to the target. The function first sorts the input array and then initializes two pointers, j and k, at the beginning and end of the remaining subarray for each value of i. The function moves the pointers towards each other until the sum of the values at the three pointers equals the target.\n",
    "\n",
    "If the function finds a solution, it adds the triplet to the result list and skips any duplicates. The function then moves the pointers towards each other until they either cross or reach values that are different from their current values.\n",
    "\n",
    "The time complexity of the two-pointer solution is O(n^2), where n is the length of the input array, due to the sorting step and the two-pointer traversal of the array. The space complexity of the solution is O(n) due to the result list.\n",
    "\n",
    "\n",
    "See also: https://www.geeksforgeeks.org/find-a-triplet-that-sum-to-a-given-value/"
   ]
  },
  {
   "cell_type": "markdown",
   "metadata": {
    "id": "1maKB166ylzG"
   },
   "source": [
    "## Three Sum - Hashing Solution\n",
    "\n",
    "The Three Sum problem can also be solved using hashing, similar to the Two Sum problem. The idea is to use a hash table (dictionary in Python) to store the values in the input array as keys and their indices as values. Then, for each value in the input array, we check if there are two other values in the hash table whose sum with the current value equals the target value. If such values exist, we have found a solution, and we return the triplet of values.\n",
    "\n",
    "### Three Sum Hashing Solution - Implementation\n",
    "\n"
   ]
  },
  {
   "cell_type": "code",
   "execution_count": 56,
   "metadata": {
    "id": "uzGm5CVAylzG"
   },
   "outputs": [],
   "source": [
    "def three_sum_hashing(nums, target):\n",
    "    \"\"\"\n",
    "    Given an array of integers nums and a target integer target, return a list of all unique triplets (nums[i], nums[j], nums[k])\n",
    "    such that i < j < k and nums[i] + nums[j] + nums[k] = target. Hashing solution.\n",
    "    \"\"\"\n",
    "    result = []\n",
    "    for i in range(len(nums)):\n",
    "        hash_table = {} # so we rebuilt hash table for each i\n",
    "        for j in range(i+1, len(nums)):\n",
    "            complement = target - nums[i] - nums[j]\n",
    "            if complement in hash_table:\n",
    "                triplet = sorted([nums[i], nums[j], complement])\n",
    "                if triplet not in result:\n",
    "                    result.append(triplet)\n",
    "            hash_table[nums[j]] = j\n",
    "    return result"
   ]
  },
  {
   "cell_type": "code",
   "execution_count": 57,
   "metadata": {},
   "outputs": [
    {
     "name": "stdout",
     "output_type": "stream",
     "text": [
      "We got 65 solutions\n"
     ]
    },
    {
     "data": {
      "text/plain": [
       "([20, 115, 865], 1000)"
      ]
     },
     "execution_count": 57,
     "metadata": {},
     "output_type": "execute_result"
    }
   ],
   "source": [
    "# let's test it\n",
    "solution = three_sum_hashing(random_100, 1_000)\n",
    "print(f\"We got {len(solution)} solutions\")\n",
    "# last one\n",
    "solution[-1], sum(solution[-1])"
   ]
  },
  {
   "cell_type": "markdown",
   "metadata": {
    "id": "sNI6_jxzylzG"
   },
   "source": [
    "### Three Sum Hashing Solution - Time Complexity\n",
    "\n",
    "The three_sum function takes an array of integers nums and a target integer target as input and returns a list of all unique triplets that add up to the target. The function initializes two pointers, i and j, at the beginning of the array, and for each i and j, the function creates a hash table that stores the values and their indices in the remaining subarray. The function then computes the complement of the sum of nums[i] and nums[j] and checks if it exists in the hash table. If the complement exists, the function adds the triplet of values to the result list only if it is not already in the list.\n",
    "\n",
    "The time complexity of the hashing solution is O(n^2) in the worst case because the function iterates through all possible pairs of values in the input array and checks if their complement exists in the hash table. The space complexity of the solution is O(n) due to the hash table and the result list.\n",
    "\n",
    "\n",
    "\n"
   ]
  },
  {
   "cell_type": "markdown",
   "metadata": {
    "id": "wVh_38NeylzG"
   },
   "source": [
    "## Three Sum Approaches Comparison\n",
    "\n",
    "The two-pointer approach has a time complexity of O(n^2) and a space complexity of O(1), which makes it more efficient in terms of space than the hashing approach. However, the two-pointer approach requires the input array to be sorted, which may not be feasible in some cases, especially when the input is constantly changing. Also, the two-pointer approach may not be able to handle duplicates in the input array without additional modifications to the algorithm.\n",
    "\n",
    "On the other hand, the hashing approach has a time complexity of O(n^2) and a space complexity of O(n), which makes it less efficient in terms of space than the two-pointer approach. However, the hashing approach does not require the input array to be sorted, and it can handle duplicates in the input array without any additional modifications to the algorithm.\n",
    "\n",
    "Therefore, if the input array is already sorted, or if sorting the input array is acceptable and the space available is limited, the two-pointer approach may be more preferable. On the other hand, if the input array is not sorted, or if handling duplicates is important and space is not a concern, the hashing approach may be more preferable. Ultimately, the choice of the approach depends on the requirements and constraints of the specific problem."
   ]
  },
  {
   "cell_type": "markdown",
   "metadata": {
    "id": "sxftUK2ZylzJ"
   },
   "source": [
    "## Links to Three Sum Problem\n",
    "\n",
    "* https://en.wikipedia.org/wiki/3SUM\n",
    "* https://www.geeksforgeeks.org/find-a-triplet-that-sum-to-a-given-value/\n",
    "* https://www.leetcode.com/problems/3sum/\n",
    "\n"
   ]
  },
  {
   "cell_type": "markdown",
   "metadata": {
    "id": "kDX2W1n1ylzJ"
   },
   "source": [
    "## Generalized Problem\n",
    "\n",
    "The Three Sum problem is a special case of the generalized k-Sum problem, which involves finding all unique k-tuples that add up to a target value. The generalized k-Sum problem can be solved using a variety of techniques, including brute force algorithms, hashing, and two-pointers techniques. However, the choice of the algorithm may depend on the specific requirements of the problem, such as the size of the input array and the range of the input values. The generalized k-Sum problem can be useful in a variety of applications, such as finding pairs of stocks that add up to a certain price or finding combinations of items that satisfy a certain cost or weight limit."
   ]
  },
  {
   "cell_type": "markdown",
   "metadata": {
    "id": "AivQiOPQylzJ"
   },
   "source": [
    "## Recursive Solution to k-sum problem\n",
    "\n",
    "The Generalized k-Sum problem is a variant of the Three Sum problem that requires finding all unique k-tuples of elements in an array of integers that add up to a given target integer. This problem can be solved using a recursive approach that reduces the k-Sum problem to the (k-1)-Sum problem, and so on, until we reach the Two Sum problem, which can be solved efficiently using hashing.\n",
    "\n"
   ]
  },
  {
   "cell_type": "code",
   "execution_count": 1,
   "metadata": {
    "id": "MMBlrSjwylzJ"
   },
   "outputs": [],
   "source": [
    "def k_sum_recursive(nums, target, k):\n",
    "    \"\"\"\n",
    "    Given an array of integers nums, a target integer target, and a value k, return a list of all unique k-tuples of elements\n",
    "    in nums that add up to target. Recursive solution.\n",
    "    \"\"\"\n",
    "    if k == 2:  # Base case (Two Sum)\n",
    "        return two_sum(nums, target)\n",
    "    result = []\n",
    "    for i in range(len(nums)):\n",
    "        if i > 0 and nums[i] == nums[i-1]:  # Skip duplicates\n",
    "            continue\n",
    "        sub_results = k_sum_recursive(nums[i+1:], target-nums[i], k-1)\n",
    "        for sub_result in sub_results:\n",
    "            result.append([nums[i]] + sub_result)\n",
    "    return result\n",
    "\n",
    "\n",
    "def two_sum(nums, target):\n",
    "    \"\"\"\n",
    "    Given an array of integers nums and a target integer target, return a list of all unique pairs (nums[i], nums[j])\n",
    "    such that nums[i] + nums[j] = target. Hashing solution.\n",
    "    \"\"\"\n",
    "    result = []\n",
    "    hash_table = {}\n",
    "    for i in range(len(nums)):\n",
    "        complement = target - nums[i]\n",
    "        if complement in hash_table:\n",
    "            pair = sorted([nums[i], complement])\n",
    "            if pair not in result:\n",
    "                result.append(pair)\n",
    "        hash_table[nums[i]] = i\n",
    "    return result"
   ]
  },
  {
   "cell_type": "code",
   "execution_count": 13,
   "metadata": {
    "colab": {
     "base_uri": "https://localhost:8080/"
    },
    "id": "oG__daMoDE7r",
    "outputId": "5644bb03-1f64-4df4-8d6f-0970bc3723bd"
   },
   "outputs": [
    {
     "data": {
      "text/plain": [
       "[8, 3, 5, 2, 6, 4, 9, 10, 1, 7]"
      ]
     },
     "execution_count": 13,
     "metadata": {},
     "output_type": "execute_result"
    }
   ],
   "source": [
    "import random\n",
    "random.seed(2024)\n",
    "random_10 = random.sample(list(range(1,11)), 10)\n",
    "random_10"
   ]
  },
  {
   "cell_type": "code",
   "execution_count": 33,
   "metadata": {
    "colab": {
     "base_uri": "https://localhost:8080/"
    },
    "id": "UcAedT-_DvfK",
    "outputId": "5c36ed29-85c7-4e1b-9f24-b12f1ef71de4"
   },
   "outputs": [
    {
     "data": {
      "text/plain": [
       "[2, 1, 2, 10, 8, 7, 1, 9, 5, 9]"
      ]
     },
     "execution_count": 33,
     "metadata": {},
     "output_type": "execute_result"
    }
   ],
   "source": [
    "random.choices(list(range(1,11)), k=10) # this might get you duplicates"
   ]
  },
  {
   "cell_type": "code",
   "execution_count": 12,
   "metadata": {
    "colab": {
     "base_uri": "https://localhost:8080/"
    },
    "id": "86eSobojD-gG",
    "outputId": "4843a867-4cc2-46b1-b5ed-31c4fa58ce7b"
   },
   "outputs": [
    {
     "data": {
      "text/plain": [
       "[6, 7]"
      ]
     },
     "execution_count": 12,
     "metadata": {},
     "output_type": "execute_result"
    }
   ],
   "source": [
    "two_sum_brute(random_10, 19)"
   ]
  },
  {
   "cell_type": "code",
   "execution_count": 35,
   "metadata": {
    "colab": {
     "base_uri": "https://localhost:8080/"
    },
    "id": "OX4qthhoEKcJ",
    "outputId": "2e603370-e4d8-4a5e-9faa-14598c5cf45e"
   },
   "outputs": [
    {
     "data": {
      "text/plain": [
       "[[4, 7, 8],\n",
       " [1, 8, 10],\n",
       " [5, 6, 8],\n",
       " [2, 8, 9],\n",
       " [3, 7, 9],\n",
       " [2, 7, 10],\n",
       " [4, 5, 10],\n",
       " [4, 6, 9],\n",
       " [3, 6, 10]]"
      ]
     },
     "execution_count": 35,
     "metadata": {},
     "output_type": "execute_result"
    }
   ],
   "source": [
    "three_sum_brute(random_10, 19)"
   ]
  },
  {
   "cell_type": "code",
   "execution_count": 10,
   "metadata": {
    "colab": {
     "base_uri": "https://localhost:8080/"
    },
    "id": "zWUm6HfmEPC3",
    "outputId": "d1a0a432-ff86-4b75-c400-958bbe48cc6d"
   },
   "outputs": [
    {
     "data": {
      "text/plain": [
       "[[8, 3, 2, 6],\n",
       " [8, 3, 1, 7],\n",
       " [8, 5, 2, 4],\n",
       " [8, 6, 1, 4],\n",
       " [3, 5, 2, 9],\n",
       " [3, 5, 1, 10],\n",
       " [3, 5, 4, 7],\n",
       " [3, 2, 4, 10],\n",
       " [3, 6, 1, 9],\n",
       " [5, 6, 1, 7],\n",
       " [5, 4, 1, 9],\n",
       " [2, 6, 1, 10],\n",
       " [2, 6, 4, 7],\n",
       " [2, 9, 1, 7]]"
      ]
     },
     "execution_count": 10,
     "metadata": {},
     "output_type": "execute_result"
    }
   ],
   "source": [
    "k_sum_recursive(random_10, k=4, target=19)"
   ]
  },
  {
   "cell_type": "code",
   "execution_count": 39,
   "metadata": {
    "colab": {
     "base_uri": "https://localhost:8080/"
    },
    "id": "EZr_XffbEe7Q",
    "outputId": "c3546bbb-b87c-4c12-8524-9991bfb4e4de"
   },
   "outputs": [
    {
     "data": {
      "text/plain": [
       "[[8, 1, 5, 2, 3],\n",
       " [7, 1, 5, 2, 4],\n",
       " [7, 1, 6, 2, 3],\n",
       " [1, 5, 6, 3, 4],\n",
       " [1, 9, 2, 3, 4]]"
      ]
     },
     "execution_count": 39,
     "metadata": {},
     "output_type": "execute_result"
    }
   ],
   "source": [
    "k_sum_recursive(random_10, k=5, target=19)"
   ]
  },
  {
   "cell_type": "code",
   "execution_count": 40,
   "metadata": {
    "colab": {
     "base_uri": "https://localhost:8080/"
    },
    "id": "ApgXhjNJEh4K",
    "outputId": "3f090702-b223-4d61-83a0-96f2092874b5"
   },
   "outputs": [
    {
     "data": {
      "text/plain": [
       "[]"
      ]
     },
     "execution_count": 40,
     "metadata": {},
     "output_type": "execute_result"
    }
   ],
   "source": [
    "k_sum_recursive(random_10, k=6, target=19)"
   ]
  },
  {
   "cell_type": "code",
   "execution_count": 41,
   "metadata": {
    "colab": {
     "base_uri": "https://localhost:8080/"
    },
    "id": "RZpsO1zKElnG",
    "outputId": "d24da562-80bc-4018-b447-eb86d1b07b0d"
   },
   "outputs": [
    {
     "data": {
      "text/plain": [
       "[[8, 7, 1, 5, 3, 6],\n",
       " [8, 7, 1, 9, 2, 3],\n",
       " [8, 7, 6, 2, 3, 4],\n",
       " [8, 1, 5, 9, 3, 4],\n",
       " [8, 1, 5, 2, 4, 10],\n",
       " [8, 1, 9, 6, 2, 4],\n",
       " [8, 1, 6, 2, 3, 10],\n",
       " [7, 1, 5, 9, 2, 6],\n",
       " [7, 1, 5, 4, 3, 10],\n",
       " [7, 1, 9, 6, 3, 4],\n",
       " [7, 1, 6, 2, 4, 10],\n",
       " [7, 5, 9, 2, 3, 4],\n",
       " [1, 5, 9, 2, 3, 10],\n",
       " [5, 6, 2, 4, 3, 10]]"
      ]
     },
     "execution_count": 41,
     "metadata": {},
     "output_type": "execute_result"
    }
   ],
   "source": [
    "k_sum_recursive(random_10, k=6, target=30)"
   ]
  },
  {
   "cell_type": "code",
   "execution_count": 42,
   "metadata": {
    "colab": {
     "base_uri": "https://localhost:8080/"
    },
    "id": "sFej9DTHEr7x",
    "outputId": "b2bf05ed-901d-4b33-fca0-025a270e583d"
   },
   "outputs": [
    {
     "data": {
      "text/plain": [
       "[[8, 7, 1, 5, 2, 3, 4], [1, 5, 9, 6, 2, 3, 4]]"
      ]
     },
     "execution_count": 42,
     "metadata": {},
     "output_type": "execute_result"
    }
   ],
   "source": [
    "k_sum_recursive(random_10, k=7, target=30) # so first 8 values add up to 36 so 30 is impossible"
   ]
  },
  {
   "cell_type": "code",
   "execution_count": 43,
   "metadata": {
    "colab": {
     "base_uri": "https://localhost:8080/"
    },
    "id": "KDlxteaTE2NX",
    "outputId": "dbab97fa-4b14-4593-ce0e-6def4b3bc8d5"
   },
   "outputs": [
    {
     "data": {
      "text/plain": [
       "[[8, 7, 1, 5, 2, 4, 3, 10],\n",
       " [8, 7, 1, 9, 6, 2, 3, 4],\n",
       " [1, 5, 9, 6, 2, 4, 3, 10]]"
      ]
     },
     "execution_count": 43,
     "metadata": {},
     "output_type": "execute_result"
    }
   ],
   "source": [
    "k_sum_recursive(random_10, k=8, target=40)"
   ]
  },
  {
   "cell_type": "code",
   "execution_count": 44,
   "metadata": {
    "colab": {
     "base_uri": "https://localhost:8080/"
    },
    "id": "5pK1xi6aE81_",
    "outputId": "2ea2abc1-27f6-46dd-84b0-5936300bc1f8"
   },
   "outputs": [
    {
     "data": {
      "text/plain": [
       "[[8, 7, 1, 5, 9, 6, 2, 3, 4]]"
      ]
     },
     "execution_count": 44,
     "metadata": {},
     "output_type": "execute_result"
    }
   ],
   "source": [
    "k_sum_recursive(random_10, k=9, target=45)"
   ]
  },
  {
   "cell_type": "code",
   "execution_count": 45,
   "metadata": {
    "colab": {
     "base_uri": "https://localhost:8080/"
    },
    "id": "KGUsl5ZBFAVZ",
    "outputId": "26d9b876-deb4-4eb9-e5f8-1c8589ea0500"
   },
   "outputs": [
    {
     "data": {
      "text/plain": [
       "[[8, 7, 1, 5, 9, 6, 2, 4, 3, 10]]"
      ]
     },
     "execution_count": 45,
     "metadata": {},
     "output_type": "execute_result"
    }
   ],
   "source": [
    "k_sum_recursive(random_10, k=10, target=55)"
   ]
  },
  {
   "cell_type": "code",
   "execution_count": null,
   "metadata": {
    "id": "QfPr2SrXFCh2"
   },
   "outputs": [],
   "source": []
  },
  {
   "cell_type": "markdown",
   "metadata": {
    "id": "t4HocP-CylzJ"
   },
   "source": [
    "### K-sum recursive solution - complexity analysis\n",
    "\n",
    "The k_sum function takes an array of integers nums, a target integer target, and a value k as input and returns a list of all unique k-tuples of elements in nums that add up to target. The function uses a recursive approach that reduces the k-Sum problem to the (k-1)-Sum problem by iterating through the elements in the input array and recursively calling k_sum on the remaining subarray with a reduced target and value of k-1.\n",
    "\n",
    "If k is equal to 2, the function calls the two_sum function, which uses a hash table to efficiently find all unique pairs of elements in the input array that add up to the target. The two_sum function returns a list of all unique pairs that satisfy the condition.\n",
    "\n",
    "The time complexity of the recursive solution is O(n^(k-1)), where n is the length of the input array, due to the recursive calls to k_sum. The space complexity of the solution is O(n^k) in the worst case because the function stores all possible k-tuples that satisfy the condition in the result list."
   ]
  },
  {
   "cell_type": "markdown",
   "metadata": {
    "id": "Z4uL9COVylzJ"
   },
   "source": [
    "### K-sum iterative solution\n",
    "\n",
    "The k-Sum problem can also be solved iteratively, without using recursion. The idea is to use dynamic programming to solve the problem by building up the solution for larger k-tuples from the solution for smaller (k-1)-tuples. The solution for the k-tuple is then computed by iterating through the elements in the input array and adding the current element to each of the (k-1)-tuples in the solution for the (k-1)-tuple."
   ]
  },
  {
   "cell_type": "code",
   "execution_count": null,
   "metadata": {
    "id": "ATVrUfjkylzK"
   },
   "outputs": [],
   "source": [
    "def k_sum_iterative(nums, target, k):\n",
    "    \"\"\"\n",
    "    Given an array of integers nums, a target integer target, and a value k, return a list of all unique k-tuples of elements\n",
    "    in nums that add up to target. Iterative solution.\n",
    "    \"\"\"\n",
    "    nums.sort()\n",
    "    dp = {(0, 0): [[] for _ in range(k+1)]}  # Base case (k=0, target=0)\n",
    "    for num in nums:\n",
    "        for i in reversed(range(1, k+1)):\n",
    "            for j in reversed(range(num, target+1)):\n",
    "                if (i-1, j-num) in dp:\n",
    "                    for lst in dp[(i-1, j-num)]:\n",
    "                        if lst and lst[-1] > num:\n",
    "                            continue\n",
    "                        dp[(i, j)] = dp.get((i, j), []) + [lst+[num]]\n",
    "    return dp.get((k, target), [])"
   ]
  },
  {
   "cell_type": "markdown",
   "metadata": {
    "id": "aa3SpBa-ylzK"
   },
   "source": [
    "### K-sum iterative solution - complexity analysis\n",
    "\n",
    "The k_sum function takes an array of integers nums, a target integer target, and a value k as input and returns a list of all unique k-tuples of elements in nums that add up to target. The function first sorts the input array and then initializes a dynamic programming dictionary dp that stores the solutions for smaller k-tuples and targets. The base case is when k=0 and target=0, in which case the function returns an empty list.\n",
    "\n",
    "The function then iterates through the input array and builds up the solution for larger k-tuples from the solution for smaller (k-1)-tuples. The function uses nested loops to iterate over the values of i, j, and num, where i represents the size of the k-tuple, j represents the target sum, and num represents the current element in the input array. For each i, j, and num, the function checks if there is a solution for the (i-1)-tuple and (j-num) target in the dp dictionary. If such a solution exists, the function adds the current num to each of the solutions and stores the result in the dp dictionary for the k-tuple and target sum.\n",
    "\n",
    "The function returns the list of solutions for the k-tuple and target sum, which is stored in the dp dictionary at the (k, target) key.\n",
    "\n",
    "The time complexity of the iterative solution is O(kn^2t), where n is the length of the input array and t is the target sum, due to the nested loops and the use of the dp dictionary. The space complexity of the solution is also O(kn^2t) due to the dp dictionary."
   ]
  },
  {
   "cell_type": "markdown",
   "metadata": {},
   "source": [
    "## 4 Sum Problem\n",
    "\n",
    "We an use hashing on pairs to solve the 4 sum problem. The idea is to use a hash table to store the sum of all pairs of elements in the input array as keys and the indices of the pairs as values. Then, for each pair of elements in the input array, we check if there are two other elements in the hash table whose sum with the current pair equals the target value. If such elements exist, we have found a solution, and we return the quadruplet of elements.\n",
    "\n",
    "This would require O(n^2) space and O(n^2) time complexity. That will be preferably to O(n^4) complexity of brute force solution."
   ]
  },
  {
   "cell_type": "code",
   "execution_count": 60,
   "metadata": {},
   "outputs": [
    {
     "name": "stdout",
     "output_type": "stream",
     "text": [
      "We got 290 solutions\n"
     ]
    },
    {
     "data": {
      "text/plain": [
       "((325, 42, 518, 115), 1000)"
      ]
     },
     "execution_count": 60,
     "metadata": {},
     "output_type": "execute_result"
    }
   ],
   "source": [
    "# so 4 sum problem using hashing time\n",
    "def get_4_sum(nums, target):\n",
    "    # first build hash table\n",
    "    hash_table = {}\n",
    "    for i in range(len(nums)):\n",
    "        for j in range(i+1, len(nums)):\n",
    "            sum_ij = nums[i] + nums[j]\n",
    "            if sum_ij not in hash_table:\n",
    "                hash_table[sum_ij] = []\n",
    "            hash_table[sum_ij].append([i, j])# no need to sort i,j since it is already sorted due to indexing\n",
    "\n",
    "    # so we spent O(n^2) to build the hash table of size O(n^2)\n",
    "    result = []\n",
    "    for i in range(len(nums)):\n",
    "        for j in range(i+1, len(nums)):\n",
    "            complement = target - nums[i] - nums[j]\n",
    "            if complement in hash_table:\n",
    "                for pair in hash_table[complement]:\n",
    "                    if pair[0] > j: # so we are checking that we are not using the same element twice\n",
    "                        result.append((nums[i], nums[j], nums[pair[0]], nums[pair[1]]))\n",
    "    return result\n",
    "\n",
    "# test on 100\n",
    "random.seed(2024)\n",
    "random_100 = [random.randint(1,1_000) for _ in range(100)]\n",
    "solution = get_4_sum(random_100, 1_000)\n",
    "print(f\"We got {len(solution)} solutions\")\n",
    "# last one\n",
    "solution[-1], sum(solution[-1])"
   ]
  },
  {
   "cell_type": "code",
   "execution_count": 61,
   "metadata": {},
   "outputs": [
    {
     "name": "stdout",
     "output_type": "stream",
     "text": [
      "We got 723234 solutions\n"
     ]
    }
   ],
   "source": [
    "# how about 1k values up to 10k\n",
    "random_1k = [random.randint(1,10_000) for _ in range(1_000)]\n",
    "solution = get_4_sum(random_1k, 10_000)\n",
    "print(f\"We got {len(solution)} solutions\")"
   ]
  },
  {
   "cell_type": "code",
   "execution_count": 62,
   "metadata": {},
   "outputs": [
    {
     "data": {
      "text/plain": [
       "[(9941, 8, 1, 50),\n",
       " (3779, 3868, 1, 2352),\n",
       " (3779, 3868, 1795, 558),\n",
       " (3779, 3868, 1059, 1294),\n",
       " (3779, 3868, 136, 2217)]"
      ]
     },
     "execution_count": 62,
     "metadata": {},
     "output_type": "execute_result"
    }
   ],
   "source": [
    "# let's see sample of 5 solutions\n",
    "solution[:5]"
   ]
  },
  {
   "cell_type": "code",
   "execution_count": 65,
   "metadata": {},
   "outputs": [
    {
     "data": {
      "text/plain": [
       "[(2583, 1561, 3062, 2794),\n",
       " (2136, 872, 6138, 854),\n",
       " (495, 4289, 813, 4403),\n",
       " (3318, 2665, 2325, 1692),\n",
       " (2940, 725, 5780, 555)]"
      ]
     },
     "execution_count": 65,
     "metadata": {},
     "output_type": "execute_result"
    }
   ],
   "source": [
    "# lets get a true sample\n",
    "random.seed(2024)\n",
    "solutions_sample = random.choices(solution, k=5)\n",
    "solutions_sample"
   ]
  },
  {
   "cell_type": "markdown",
   "metadata": {},
   "source": [
    "## Open research question on k-sum problem\n",
    "\n",
    "Is there a general solution that is better than O(n^ceil(k/2)) for k-sum problem?\n",
    "\n"
   ]
  },
  {
   "cell_type": "markdown",
   "metadata": {
    "id": "Ywh4vyJ1ylzK"
   },
   "source": [
    "## Key Takeaways\n",
    "\n",
    "* **Brute force** is a common technique used to solve problems involving subproblems. It involves solving the problem by trying all possible combinations of the input values. This technique is usually the first approach to solving a problem, but it is not always the most efficient approach. The time complexity of the brute force approach is usually O(n^k), where n is the length of the input array and k is the size of the subproblem. The space complexity of the brute force approach is usually O(n^k), where n is the length of the input array and k is the size of the subproblem.\n",
    "\n",
    "*  **Two-pointer technique** is a common technique used to solve problems involving sorted arrays. It involves using two pointers, one at the beginning of the array and one at the end of the array, and moving the pointers towards each other until the sum of the values at the two pointers equals the target.\n",
    "*  **Hashing** is a common technique used to solve problems involving unsorted arrays. It involves using a hash table to store the values in the array and their indices. When a value is encountered, its complement is calculated and checked against the hash table to see if it exists. If it does, the indices of the two values are returned.\n",
    "*  **Sorting** is a common technique used to solve problems involving sorted arrays. It involves sorting the array and then using the two-pointer technique to solve the problem.\n",
    "*  **Recursion** is a common technique used to solve problems involving subproblems. It involves breaking down the problem into smaller subproblems and solving the subproblems recursively. The base case of the recursion is the smallest subproblem that can be solved without further recursion.\n",
    "*  **Dynamic programming** is a common technique used to solve problems involving subproblems. It involves breaking down the problem into smaller subproblems and solving the subproblems iteratively. The base case of the recursion is the smallest subproblem that can be solved without further recursion.\n"
   ]
  },
  {
   "cell_type": "markdown",
   "metadata": {},
   "source": [
    "## Application of Two Sum Problem and K Sum Problem\n",
    "\n",
    "The **Two Sum** problem and its generalization, the **k-Sum** problem, have a variety of real-world applications across domains such as finance, cryptography, data analysis, and artificial intelligence. Here are some key applications:\n",
    "\n",
    "---\n",
    "\n",
    "### **1. Financial Transactions and Fraud Detection**\n",
    "- **Problem**: Identify suspicious transactions where pairs (or sets) of amounts sum to a specific total, indicating possible fraud or money laundering.\n",
    "- **Example**: \n",
    "  - Detect whether a series of payments adds up to a flagged suspicious amount.\n",
    "  - Analyze a set of transactions to find patterns, such as splitting a large payment into smaller ones.\n",
    "- **Use Case**: Banks use this to trace fraudulent activity or enforce anti-money laundering regulations.\n",
    "\n",
    "---\n",
    "\n",
    "### **2. E-Commerce and Discounts**\n",
    "- **Problem**: Identify combinations of items that fit within a specific budget or match a discount offer.\n",
    "- **Example**:\n",
    "  - A customer wants to spend exactly $50. An application suggests two items whose prices sum up to this amount.\n",
    "  - Calculate the optimal set of items under a \"Buy 3 for $X\" promotion.\n",
    "- **Use Case**: Personalized shopping recommendations and dynamic pricing.\n",
    "\n",
    "---\n",
    "\n",
    "### **3. Cryptography**\n",
    "- **Problem**: Analyze sums of numbers to detect patterns or find specific properties (e.g., collisions).\n",
    "- **Example**:\n",
    "  - **Subset Sum Problem**: Closely related to k-Sum, this is a foundational problem in cryptography used to design and analyze secure cryptographic systems.\n",
    "  - Breaking encryption schemes that rely on number-theoretic hardness (e.g., knapsack-based cryptography).\n",
    "- **Use Case**: Strengthening encryption algorithms and detecting vulnerabilities.\n",
    "\n",
    "---\n",
    "\n",
    "### **4. Data Analysis and Pattern Recognition**\n",
    "- **Problem**: Detect patterns in numerical datasets where combinations of numbers satisfy certain criteria.\n",
    "- **Example**:\n",
    "  - Identify subsets of data points that meet specific aggregate thresholds, such as environmental readings that together indicate a phenomenon (e.g., temperature, pressure, and humidity sums predicting storms).\n",
    "  - Social network analysis: Detect groups of users whose interactions meet specific thresholds.\n",
    "- **Use Case**: Predictive modeling and anomaly detection.\n",
    "\n",
    "---\n",
    "\n",
    "### **5. Logistics and Resource Allocation**\n",
    "- **Problem**: Allocate resources or fill containers (knapsack problems) by finding combinations that match exact constraints.\n",
    "- **Example**:\n",
    "  - Combine shipments to maximize container space while ensuring no overloading.\n",
    "  - Assign workers to tasks based on specific capacity requirements.\n",
    "- **Use Case**: Supply chain optimization and task scheduling.\n",
    "\n",
    "---\n",
    "\n",
    "### **6. Game Development**\n",
    "- **Problem**: Solve puzzles or scenarios where numerical combinations are key to progression.\n",
    "- **Example**:\n",
    "  - In role-playing games (RPGs), finding the right combination of resources (e.g., attack and defense points) to defeat a target.\n",
    "  - Implementing game mechanics like card games, where certain cards add up to achieve specific effects.\n",
    "- **Use Case**: Enhancing gameplay mechanics and AI in games.\n",
    "\n",
    "---\n",
    "\n",
    "### **7. Biology and Chemistry**\n",
    "- **Problem**: Match numerical data points in experiments to identify meaningful combinations.\n",
    "- **Example**:\n",
    "  - Identify chemical compounds where the sum of atomic weights matches a desired molecular weight.\n",
    "  - In genomics, find gene combinations that together lead to a specific phenotype.\n",
    "- **Use Case**: Drug discovery and genetic research.\n",
    "\n",
    "---\n",
    "\n",
    "### **8. Machine Learning and Feature Selection**\n",
    "- **Problem**: Identify subsets of features or data points that collectively satisfy a condition.\n",
    "- **Example**:\n",
    "  - Feature selection for models by finding combinations of features that optimize performance metrics.\n",
    "  - Analyze correlations among multiple variables in high-dimensional datasets.\n",
    "- **Use Case**: Data preprocessing and dimensionality reduction.\n",
    "\n",
    "---\n",
    "\n",
    "### **9. Event Planning and Group Formation**\n",
    "- **Problem**: Form groups of participants that meet specific criteria.\n",
    "- **Example**:\n",
    "  - Split attendees into groups where each group's combined skills or preferences match the event's requirements.\n",
    "  - Allocate resources or participants to teams to balance capabilities or costs.\n",
    "- **Use Case**: Planning events, team-building exercises, or optimizing seating arrangements.\n",
    "\n",
    "---\n",
    "\n",
    "### **10. Subset Sum and Resource Optimization**\n",
    "- **General k-Sum Application**:\n",
    "  - Extend the problem to larger sets (\\(k \\geq 3\\)) for resource optimization tasks, such as finding sets of numbers (resources) that exactly fulfill a requirement.\n",
    "- **Example**:\n",
    "  - In **budgeting**, find subsets of expenses that meet a total budget.\n",
    "  - In **project management**, select subsets of tasks that fit within specific time or resource constraints.\n",
    "- **Use Case**: Budget management, project scheduling, and decision-making.\n",
    "\n",
    "---\n",
    "\n",
    "### **11. Portfolio Balancing in Finance**\n",
    "- **Problem**: Identify subsets of investments that meet a specific portfolio value.\n",
    "- **Example**:\n",
    "  - Find combinations of stock prices or bond values that achieve a desired target investment sum.\n",
    "- **Use Case**: Financial planning and algorithmic trading.\n",
    "\n",
    "---\n",
    "\n",
    "### **12. Medical Diagnosis**\n",
    "- **Problem**: Combine patient data to identify symptoms or factors that lead to a specific diagnosis.\n",
    "- **Example**:\n",
    "  - Analyze combinations of medical test results that together match the pattern of a disease or condition.\n",
    "- **Use Case**: Decision support systems in healthcare.\n",
    "\n",
    "---\n",
    "\n",
    "### Summary Table \n",
    "\n",
    "| **Domain**           | **Use Case**                                                   |\n",
    "|-----------------------|---------------------------------------------------------------|\n",
    "| Finance               | Fraud detection, portfolio balancing                          |\n",
    "| E-commerce            | Budget-based recommendations, discounts                      |\n",
    "| Cryptography          | Subset sum problem, secure encryption analysis                |\n",
    "| Data Analysis         | Pattern recognition, anomaly detection                       |\n",
    "| Logistics             | Resource allocation, container packing                       |\n",
    "| Game Development      | RPG mechanics, puzzles                                       |\n",
    "| Biology and Chemistry | Molecular weight matching, gene combinations                 |\n",
    "| Machine Learning      | Feature selection, correlation analysis                      |\n",
    "| Event Planning        | Group formation, seating arrangements                        |\n",
    "| Resource Optimization | Subset sum, budgeting                                        |\n",
    "| Healthcare            | Medical diagnosis, pattern analysis in symptoms              |\n",
    "\n",
    "There are many more applications of the Two Sum and k-Sum problems across various fields.\n",
    "\n",
    "Think of your own domain or area of interest and consider how these problems could be applied to solve challenges or optimize processes in that context."
   ]
  },
  {
   "cell_type": "markdown",
   "metadata": {
    "id": "a_w_SymfylzK"
   },
   "source": [
    "## References\n",
    "\n",
    "* https://people.csail.mit.edu/virgi/6.s078/lecture9.pdf\n",
    "* https://cs.stackexchange.com/questions/2973/generalised-3sum-k-sum-problem - JeffE provides a good explanation of the k-sum problem. His solution avoids hashing.\n",
    "\n",
    "## Different Problem - Subset Sum problem - for another time\n",
    "\n",
    "* https://en.wikipedia.org/wiki/Subset_sum_problem\n",
    "\n",
    "Problem Statement\n",
    "Given a set (or array) of integers and a target sum T, determine whether any subset of the integers sums to T.\n",
    "\n",
    "### Key Characteristics\n",
    "* Subset Selection: Any subset of any size can be chosen.\n",
    "* Decision Problem: The classic version is a decision problem (yes/no answer), asking if such a subset exists.\n",
    "* Focus on Existence: Does not necessarily find all such subsets (though variations exist that do).\n",
    "Input Size: Typically works with a single array of 𝑛 integers.\n",
    " \n",
    "\n",
    "### Differences from Two Sum\n",
    "\n",
    "* Subset Selection: Two Sum focuses on pairs of elements, while Subset Sum considers subsets of any size. This leads to a more complex search space.\n",
    "* Complexity: Subset Sum is NP-complete, meaning it is likely not solvable in polynomial time. In other words in general case we have exponential time complexity. Ugh!\n",
    "* Decision Problem: Two Sum often asks for the indices of the pair that sums to the target, while Subset Sum focuses on existence."
   ]
  }
 ],
 "metadata": {
  "colab": {
   "provenance": []
  },
  "gpuClass": "standard",
  "kernelspec": {
   "display_name": "venv",
   "language": "python",
   "name": "python3"
  },
  "language_info": {
   "codemirror_mode": {
    "name": "ipython",
    "version": 3
   },
   "file_extension": ".py",
   "mimetype": "text/x-python",
   "name": "python",
   "nbconvert_exporter": "python",
   "pygments_lexer": "ipython3",
   "version": "3.12.1"
  },
  "orig_nbformat": 4
 },
 "nbformat": 4,
 "nbformat_minor": 0
}
