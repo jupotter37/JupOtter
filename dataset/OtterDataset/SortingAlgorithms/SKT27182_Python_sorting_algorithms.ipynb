{
 "cells": [
  {
   "attachments": {},
   "cell_type": "markdown",
   "metadata": {},
   "source": [
    "<h2 id=\"Contents\">Contents<a href=\"#Contents\"></a></h2>\n",
    "        <ol>\n",
    "        <li><a href=\"https://realpython.com/sorting-algorithms-python/\">Sorting Algorithms</a></li>\n",
    "<li><a class=\"\" href=\"#Timing-the-code\">Timing the code</a></li>\n",
    "<ol><li><a class=\"\" href=\"#Measuring-Efficiency-With-Big-O-Notation\">Measuring Efficiency With Big O Notation</a></li>\n",
    "</ol><li><a class=\"\" href=\"#The-Bubble-Sort-Algorithm\">The Bubble Sort Algorithm</a></li>\n",
    "<ol><li><a class=\"\" href=\"#Measuring-Bubble-Sort%E2%80%99s-Big-O-Runtime-Complexity\">Measuring Bubble Sort’s Big O Runtime Complexity</a></li>\n",
    "</ol><li><a class=\"\" href=\"#The-Insertion-Sort-Algorithm\">The Insertion Sort Algorithm</a></li>\n",
    "<ol><li><a class=\"\" href=\"#Measuring-Insertion-Sort%E2%80%99s-Big-O-Runtime-Complexity\">Measuring Insertion Sort’s Big O Runtime Complexity</a></li>\n",
    "</ol><li><a class=\"\" href=\"#The-Merge-Sort-Algorithm\">The Merge Sort Algorithm</a></li>\n",
    "<ol><li><a class=\"\" href=\"#Measuring-Merge-Sort%E2%80%99s-Big-O-Complexity\">Measuring Merge Sort’s Big O Complexity</a></li>\n",
    "</ol><li><a class=\"\" href=\"#The-Quicksort-Algorithm\">The Quicksort Algorithm</a></li>\n",
    "<ol><li><a class=\"\" href=\"#Selecting-the-pivot-Element\">Selecting the pivot Element</a></li>\n",
    "<li><a class=\"\" href=\"#Measuring-Quicksort%E2%80%99s-Big-O-Complexity\">Measuring Quicksort’s Big O Complexity</a></li>\n",
    "<li><a class=\"\" href=\"#Analyzing-the-Strengths-and-Weaknesses-of-Quicksort\">Analyzing the Strengths and Weaknesses of Quicksort</a></li>\n",
    "</ol><li><a class=\"\" href=\"#The-Timsort-Algorithm\">The Timsort Algorithm</a></li>\n",
    "<ol><li><a class=\"\" href=\"#Modified-Insertion-Sort\">Modified Insertion Sort</a></li>\n",
    "<li><a class=\"\" href=\"#Time-sort\">Time sort</a></li>\n",
    "<li><a class=\"\" href=\"#Measuring-Timsort%E2%80%99s-Big-O-Complexity\">Measuring Timsort’s Big O Complexity</a></li>\n",
    "<li><a class=\"\" href=\"#Analyzing-the-Strengths-and-Weaknesses-of-Timsort\">Analyzing the Strengths and Weaknesses of Timsort</a></li>\n",
    "</ol><li><a class=\"\" href=\"#Comparision\">Comparision</a></li>\n",
    "</ol>"
   ]
  },
  {
   "attachments": {},
   "cell_type": "markdown",
   "metadata": {},
   "source": [
    "# [Sorting Algorithms](https://realpython.com/sorting-algorithms-python/)"
   ]
  },
  {
   "attachments": {},
   "cell_type": "markdown",
   "metadata": {},
   "source": [
    "- Sorting can be used to solve multiple problems\n",
    "\n",
    "1. Searching:  Searching for an item on a list works much faster if the list is sorted.\n",
    "\n",
    "2. Selection: Selecting items from a list based on their relationship to the rest of the items is easier with sorted data. For example, finding the kth-largest or smallest value, or finding the median value of the list, is much easier when the values are in ascending or descending order.\n",
    "\n",
    "3. Duplicates: Finding duplicate values on a list can be done very quickly when the list is sorted.\n",
    "\n",
    "4. Distribution: Analyzing the frequency distribution of items on a list is very fast if the list is sorted."
   ]
  },
  {
   "attachments": {},
   "cell_type": "markdown",
   "metadata": {},
   "source": [
    "# Timing the code"
   ]
  },
  {
   "cell_type": "code",
   "execution_count": 41,
   "metadata": {},
   "outputs": [],
   "source": [
    "from random import randint\n",
    "\n",
    "from timeit import repeat\n",
    "\n",
    "\n",
    "def run_sorting_algorithm(algorithm, array):\n",
    "\n",
    "    # Set up the context and prepare the call to the specified\n",
    "    # algorithm using the supplied array. Only import the\n",
    "    # algorithm function if it's not the built-in `sorted()`.\n",
    "    setup_code = f\"from __main__ import {algorithm}\" if algorithm != \"sorted\" else \"\"\n",
    "\n",
    "    stmt = f\"{algorithm}({array})\"\n",
    "\n",
    "\n",
    "    # Execute the code ten different times and return the time\n",
    "    # in seconds that each execution took\n",
    "    times = repeat(setup=setup_code, stmt=stmt, repeat=3, number=10)\n",
    "\n",
    "\n",
    "    # Finally, display the name of the algorithm and the\n",
    "    # minimum time it took to run\n",
    "\n",
    "    print(f\"Algorithm: {algorithm}. Minimum execution time: {min(times)}\")"
   ]
  },
  {
   "attachments": {},
   "cell_type": "markdown",
   "metadata": {},
   "source": [
    "## Measuring Efficiency With Big O Notation\n",
    "\n",
    "The time in seconds required to run different algorithms can be influenced by several unrelated factors, including processor speed or available memory. Big O, on the other hand, provides a platform to express runtime complexity in hardware-agnostic terms. \n",
    "\n",
    "With Big O, you express complexity in terms of how quickly your algorithm’s runtime grows relative to the size of the input, especially as the input grows arbitrarily large."
   ]
  },
  {
   "attachments": {},
   "cell_type": "markdown",
   "metadata": {},
   "source": [
    "# The Bubble Sort Algorithm"
   ]
  },
  {
   "attachments": {},
   "cell_type": "markdown",
   "metadata": {},
   "source": [
    "Bubble Sort is one of the most straightforward sorting algorithms. Its name comes from the way the algorithm works: With every new pass, the largest element in the list “bubbles up” toward its correct position.\n",
    "\n",
    "Bubble sort consists of making multiple passes through a list, comparing elements one by one, and swapping adjacent items that are out of order. "
   ]
  },
  {
   "cell_type": "code",
   "execution_count": 27,
   "metadata": {},
   "outputs": [],
   "source": [
    "def bubble_sort(array):\n",
    "\n",
    "    n = len(array)\n",
    "\n",
    "\n",
    "    for i in range(n):\n",
    "\n",
    "        # Create a flag that will allow the function to\n",
    "        # terminate early if there's nothing left to sort\n",
    "        already_sorted = True\n",
    "\n",
    "\n",
    "        # Start looking at each item of the list one by one,\n",
    "        # comparing it with its adjacent value. With each\n",
    "        # iteration, the portion of the array that you look at\n",
    "        # shrinks because the remaining items have already been\n",
    "        # sorted.\n",
    "        for j in range(n - i - 1):\n",
    "            \n",
    "\n",
    "            if array[j] > array[j + 1]:\n",
    "\n",
    "                # If the item you're looking at is greater than its\n",
    "                # adjacent value, then swap them\n",
    "                array[j], array[j + 1] = array[j + 1], array[j]\n",
    "\n",
    "\n",
    "                # Since you had to swap two elements,\n",
    "                # set the `already_sorted` flag to `False` so the\n",
    "                # algorithm doesn't finish prematurely\n",
    "                already_sorted = False\n",
    "\n",
    "            # print(array)\n",
    "\n",
    "\n",
    "        # If there were no swaps during the last iteration,\n",
    "        # the array is already sorted, and you can terminate\n",
    "        if already_sorted:\n",
    "\n",
    "            break\n",
    "\n",
    "\n",
    "    return array"
   ]
  },
  {
   "cell_type": "code",
   "execution_count": 28,
   "metadata": {},
   "outputs": [
    {
     "data": {
      "text/plain": [
       "[1, 2, 3, 4, 5, 6, 7, 8, 9, 10]"
      ]
     },
     "execution_count": 28,
     "metadata": {},
     "output_type": "execute_result"
    }
   ],
   "source": [
    "bubble_sort([10,9,8,7,6,5,4,3,2,1])"
   ]
  },
  {
   "attachments": {},
   "cell_type": "markdown",
   "metadata": {},
   "source": [
    "- Since this implementation sorts the array in ascending order, each step “bubbles” the largest element to the end of the array. This means that each iteration takes fewer steps than the previous iteration because a continuously larger portion of the array is sorted."
   ]
  },
  {
   "attachments": {},
   "cell_type": "markdown",
   "metadata": {},
   "source": [
    "- Notice how j initially goes from the first element in the list to the element immediately before the last. During the second iteration, j runs until two items from the last, then three items from the last, and so on. At the end of each iteration, the end portion of the list will be sorted."
   ]
  },
  {
   "attachments": {},
   "cell_type": "markdown",
   "metadata": {},
   "source": [
    "**Note:** The already_sorted flag is an optimization to the algorithm, and it’s not required in a fully functional bubble sort implementation. However, it allows the function to save unnecessary steps if the list ends up wholly sorted before the loops have finished. "
   ]
  },
  {
   "attachments": {},
   "cell_type": "markdown",
   "metadata": {},
   "source": [
    "<Center><a href=\"https://files.realpython.com/media/python-sorting-algorithms-bubble-sort.216ab9a52018.png\" target=\"_blank\"><img loading=\"lazy\" class=\"img-fluid mx-auto d-block w-50\" src=\"https://files.realpython.com/media/python-sorting-algorithms-bubble-sort.216ab9a52018.png\" srcset=\"https://robocrop.realpython.net/?url=https%3A//files.realpython.com/media/python-sorting-algorithms-bubble-sort.216ab9a52018.png&amp;w=187&amp;sig=e4eb5111ee32da5a5b811de28341eb9ad1fe0a8f 187w, https://robocrop.realpython.net/?url=https%3A//files.realpython.com/media/python-sorting-algorithms-bubble-sort.216ab9a52018.png&amp;w=375&amp;sig=782505f827c4d3cc5b65e38c66021c8e2aed4738 375w, https://files.realpython.com/media/python-sorting-algorithms-bubble-sort.216ab9a52018.png 750w\" sizes=\"75vw\" alt=\"Bubble Sort Algorithm\" data-asset=\"2279\" width=\"750\" height=\"1725\"></a></Center>"
   ]
  },
  {
   "attachments": {},
   "cell_type": "markdown",
   "metadata": {},
   "source": [
    "## Measuring Bubble Sort’s Big O Runtime Complexity\n",
    "\n",
    "Your implementation of bubble sort consists of two nested for loops in which the algorithm performs n - 1 comparisons, then n - 2 comparisons, and so on until the final comparison is done. This comes at a total of (n - 1) + (n - 2) + (n - 3) + … + 2 + 1 = n(n-1)/2 comparisons, which can also be written as ½$n^2$ - ½n.\n",
    "\n",
    "You learned earlier that Big O focuses on how the runtime grows in comparison to the size of the input. That means that, in order to turn the above equation into the Big O complexity of the algorithm, you need to remove the constants because they don’t change with the input size.\n",
    "\n",
    "Doing so simplifies the notation to n2 - n. Since $n^2$ grows much faster than n, this last term can be dropped as well, leaving bubble sort with an average- and worst-case complexity of $\\boldsymbol{O(n^2)}$.\n",
    "\n",
    "In cases where the algorithm receives an array that’s already sorted—and assuming the implementation includes the already_sorted flag optimization explained before—the runtime complexity will come down to a much better O(n) because the algorithm will not need to visit any element more than once.\n",
    "\n",
    "O(n), then, is the best-case runtime complexity of bubble sort. But keep in mind that best cases are an exception, and you should focus on the average case when comparing different algorithms.\n"
   ]
  },
  {
   "attachments": {},
   "cell_type": "markdown",
   "metadata": {},
   "source": [
    "***"
   ]
  },
  {
   "attachments": {},
   "cell_type": "markdown",
   "metadata": {},
   "source": [
    "# The Insertion Sort Algorithm"
   ]
  },
  {
   "attachments": {},
   "cell_type": "markdown",
   "metadata": {},
   "source": [
    "- Like bubble sort, the insertion sort algorithm is straightforward to implement and understand. But unlike bubble sort, it builds the sorted list one element at a time by comparing each item with the rest of the list and inserting it into its correct position. This “insertion” procedure gives the algorithm its name."
   ]
  },
  {
   "attachments": {},
   "cell_type": "markdown",
   "metadata": {},
   "source": [
    "- An excellent analogy to explain insertion sort is the way you would sort a deck of cards. Imagine that you’re holding a group of cards in your hands, and you want to arrange them in order. You’d start by comparing a single card step by step with the rest of the cards until you find its correct position. At that point, you’d insert the card in the correct location and start over with a new card, repeating until all the cards in your hand were sorted."
   ]
  },
  {
   "cell_type": "code",
   "execution_count": 25,
   "metadata": {},
   "outputs": [],
   "source": [
    "def insertion_sort(array):\n",
    "\n",
    "    # Loop from the second element of the array until\n",
    "    # the last element\n",
    "\n",
    "    for i in range(1, len(array)):\n",
    "\n",
    "        # This is the element we want to position in its\n",
    "        # correct place\n",
    "        key_item = array[i]\n",
    "\n",
    "\n",
    "        # Initialize the variable that will be used to\n",
    "        # find the correct position of the element referenced\n",
    "        # by `key_item`\n",
    "        j = i - 1\n",
    "\n",
    "\n",
    "        # Run through the list of items (the left\n",
    "        # portion of the array) and find the correct position\n",
    "        # of the element referenced by `key_item`. Do this only\n",
    "        # if `key_item` is smaller than its adjacent values.\n",
    "        while j >= 0 and array[j] > key_item:\n",
    "\n",
    "            # Shift the value one position to the left\n",
    "            # and reposition j to point to the next element\n",
    "            # (from right to left)\n",
    "            array[j + 1] = array[j]\n",
    "            j -= 1\n",
    "\n",
    "            # print(array, i , j)\n",
    "\n",
    "\n",
    "        # When you finish shifting the elements, you can position\n",
    "        # `key_item` in its correct location\n",
    "        array[j + 1] = key_item\n",
    "\n",
    "    return array"
   ]
  },
  {
   "cell_type": "code",
   "execution_count": 26,
   "metadata": {},
   "outputs": [
    {
     "data": {
      "text/plain": [
       "[1, 2, 3, 4, 5, 6, 7, 8, 9, 10]"
      ]
     },
     "execution_count": 26,
     "metadata": {},
     "output_type": "execute_result"
    }
   ],
   "source": [
    "insertion_sort([10,9,8,7,6,5,4,3,2,1])"
   ]
  },
  {
   "attachments": {},
   "cell_type": "markdown",
   "metadata": {},
   "source": [
    "**Note:** Unlike bubble sort, this implementation of insertion sort constructs the sorted list by pushing smaller items to the left. "
   ]
  },
  {
   "attachments": {},
   "cell_type": "markdown",
   "metadata": {},
   "source": [
    "<Center><img loading=\"lazy\" class=\"img-fluid mx-auto d-block w-50\" src=\"https://files.realpython.com/media/python-sorting-algorithms-insertion-sort.a102f819b3d7.png\" srcset=\"https://robocrop.realpython.net/?url=https%3A//files.realpython.com/media/python-sorting-algorithms-insertion-sort.a102f819b3d7.png&amp;w=189&amp;sig=3577a49e9a97a0146b8a419f106dc754aa07541d 189w, https://robocrop.realpython.net/?url=https%3A//files.realpython.com/media/python-sorting-algorithms-insertion-sort.a102f819b3d7.png&amp;w=379&amp;sig=61527b8a83feddc4fbf307aefd31ad874b07e35c 379w, https://files.realpython.com/media/python-sorting-algorithms-insertion-sort.a102f819b3d7.png 759w\" sizes=\"75vw\" alt=\"Insertion Sort Algorithm\" data-asset=\"2278\" width=\"759\" height=\"1125\"></Center>"
   ]
  },
  {
   "attachments": {},
   "cell_type": "markdown",
   "metadata": {},
   "source": [
    "## Measuring Insertion Sort’s Big O Runtime Complexity\n",
    "\n",
    "Similar to your bubble sort implementation, the insertion sort algorithm has a couple of nested loops that go over the list. The inner loop is pretty efficient because it only goes through the list until it finds the correct position of an element. That said, the algorithm still has an $\\boldsymbol{O(n^2)}$ runtime complexity on the average case.\n",
    "\n",
    "The worst case happens when the supplied array is sorted in reverse order. In this case, the inner loop has to execute every comparison to put every element in its correct position. This still gives you an $\\boldsymbol{O(n^2)}$ runtime complexity.\n",
    "\n",
    "The best case happens when the supplied array is already sorted. Here, the inner loop is never executed, resulting in an O(n) runtime complexity, just like the best case of bubble sort.\n",
    "\n",
    "Although bubble sort and insertion sort have the same Big O runtime complexity, in practice, insertion sort is considerably more efficient than bubble sort. If you look at the implementation of both algorithms, then you can see how insertion sort has to make fewer comparisons to sort the list."
   ]
  },
  {
   "attachments": {},
   "cell_type": "markdown",
   "metadata": {},
   "source": [
    "***"
   ]
  },
  {
   "attachments": {},
   "cell_type": "markdown",
   "metadata": {},
   "source": [
    "# The Merge Sort Algorithm"
   ]
  },
  {
   "attachments": {},
   "cell_type": "markdown",
   "metadata": {},
   "source": [
    "In the case of merge sort, the divide-and-conquer approach divides the set of input values into two equal-sized parts, sorts each half recursively, and finally merges these two sorted parts into a single sorted list.\n",
    "\n",
    "The implementation of the merge sort algorithm needs two different pieces:\n",
    "\n",
    "1. A function that recursively splits the input in half\n",
    "2. A function that merges both halves, producing a sorted array\n"
   ]
  },
  {
   "cell_type": "code",
   "execution_count": 29,
   "metadata": {},
   "outputs": [],
   "source": [
    "def merge(left, right):\n",
    "\n",
    "    # If the first array is empty, then nothing needs\n",
    "    # to be merged, and you can return the second array as the result\n",
    "    if len(left) == 0:\n",
    "\n",
    "        return right\n",
    "\n",
    "\n",
    "    # If the second array is empty, then nothing needs\n",
    "    # to be merged, and you can return the first array as the result\n",
    "    if len(right) == 0:\n",
    "\n",
    "        return left\n",
    "\n",
    "\n",
    "    result = []\n",
    "\n",
    "    index_left = index_right = 0\n",
    "\n",
    "    # Now go through both arrays until all the elements\n",
    "    # make it into the resultant array\n",
    "    while len(result) < len(left) + len(right):\n",
    "\n",
    "        # The elements need to be sorted to add them to the\n",
    "        # resultant array, so you need to decide whether to get\n",
    "        # the next element from the first or the second array\n",
    "        if left[index_left] <= right[index_right]:\n",
    "\n",
    "            result.append(left[index_left])\n",
    "\n",
    "            index_left += 1\n",
    "\n",
    "        else:\n",
    "\n",
    "            result.append(right[index_right])\n",
    "\n",
    "            index_right += 1\n",
    "\n",
    "\n",
    "        # If you reach the end of either array, then you can\n",
    "        # add the remaining elements from the other array to\n",
    "        # the result and break the loop\n",
    "        if index_right == len(right):\n",
    "\n",
    "            result += left[index_left:]\n",
    "\n",
    "            break\n",
    "\n",
    "\n",
    "        if index_left == len(left):\n",
    "\n",
    "            result += right[index_right:]\n",
    "\n",
    "            break\n",
    "\n",
    "\n",
    "    return result"
   ]
  },
  {
   "attachments": {},
   "cell_type": "markdown",
   "metadata": {},
   "source": [
    "- With the above function in place, the only missing piece is a function that recursively splits the input array in half and uses merge() to produce the final result:"
   ]
  },
  {
   "cell_type": "code",
   "execution_count": 30,
   "metadata": {},
   "outputs": [],
   "source": [
    "def merge_sort(array):\n",
    "\n",
    "    # If the input array contains fewer than two elements,\n",
    "    # then return it as the result of the function\n",
    "    if len(array) < 2:\n",
    "\n",
    "        return array\n",
    "\n",
    "\n",
    "    midpoint = len(array) // 2\n",
    "\n",
    "    # Sort the array by recursively splitting the input\n",
    "    # into two equal halves, sorting each half and merging them\n",
    "    # together into the final result\n",
    "\n",
    "    return merge(\n",
    "\n",
    "        left=merge_sort(array[:midpoint]),\n",
    "\n",
    "        right=merge_sort(array[midpoint:]))"
   ]
  },
  {
   "cell_type": "code",
   "execution_count": 33,
   "metadata": {},
   "outputs": [
    {
     "data": {
      "text/plain": [
       "[2, 4, 5, 6, 8]"
      ]
     },
     "execution_count": 33,
     "metadata": {},
     "output_type": "execute_result"
    }
   ],
   "source": [
    "merge_sort([8, 2, 6, 4, 5])"
   ]
  },
  {
   "attachments": {},
   "cell_type": "markdown",
   "metadata": {},
   "source": [
    "<Center><img loading=\"lazy\" class=\"img-fluid mx-auto d-block \" src=\"https://files.realpython.com/media/python-sorting-algorithms-merge-sort.d6b5c7dec9ef.png\" srcset=\"https://robocrop.realpython.net/?url=https%3A//files.realpython.com/media/python-sorting-algorithms-merge-sort.d6b5c7dec9ef.png&amp;w=425&amp;sig=9fa277eae0029ee60e3f2e98eae87c681d5c1da4 425w, https://robocrop.realpython.net/?url=https%3A//files.realpython.com/media/python-sorting-algorithms-merge-sort.d6b5c7dec9ef.png&amp;w=851&amp;sig=54c49f27a8be08b67009b3a2daf7c9e93e7e7593 851w, https://files.realpython.com/media/python-sorting-algorithms-merge-sort.d6b5c7dec9ef.png 1703w\" sizes=\"75vw\" alt=\"Merge Sort Algorithm\" data-asset=\"2280\" width=\"1703\" height=\"1339\"></Center>"
   ]
  },
  {
   "attachments": {},
   "cell_type": "markdown",
   "metadata": {},
   "source": [
    "## Measuring Merge Sort’s Big O Complexity\n",
    "\n",
    "To analyze the complexity of merge sort, you can look at its two steps separately:\n",
    "\n",
    "- merge() has a linear runtime. It receives two arrays whose combined length is at most n (the length of the original input array), and it combines both arrays by looking at each element at most once. This leads to a runtime complexity of O(n).\n",
    "\n",
    "- The second step splits the input array recursively and calls merge() for each half. Since the array is halved until a single element remains, the total number of halving operations performed by this function is $\\boldsymbol{log_2n}$. Since merge() is called for each half, we get a total runtime of $\\boldsymbol{O(n log_2n)}$.\n",
    "\n",
    "\n",
    "Interestingly, $\\boldsymbol{O(n log_2n)}$ is the best possible worst-case runtime that can be achieved by a sorting algorithm."
   ]
  },
  {
   "attachments": {},
   "cell_type": "markdown",
   "metadata": {},
   "source": [
    "**Drawbacks** of merge sort:\n",
    "\n",
    "1. for small lists, the time cost of the recursion allows algorithms such as bubble sort and insertion sort to be faster.\n",
    "\n",
    "2. Another drawback of merge sort is that it creates copies of the array when calling itself recursively. It also creates a new list inside merge() to sort and return both input halves. This makes merge sort use much more memory than bubble sort and insertion sort, which are both able to sort the list in place. "
   ]
  },
  {
   "attachments": {},
   "cell_type": "markdown",
   "metadata": {},
   "source": [
    "***"
   ]
  },
  {
   "attachments": {},
   "cell_type": "markdown",
   "metadata": {},
   "source": [
    "# The Quicksort Algorithm"
   ]
  },
  {
   "attachments": {},
   "cell_type": "markdown",
   "metadata": {},
   "source": [
    "Just like merge sort, the Quicksort algorithm applies the divide-and-conquer principle to divide the input array into two lists, the first with small items and the second with large items. The algorithm then sorts both lists recursively until the resultant list is completely sorted."
   ]
  },
  {
   "attachments": {},
   "cell_type": "markdown",
   "metadata": {},
   "source": [
    "Dividing the input list is referred to as partitioning the list. Quicksort first selects a pivot element and partitions the list around the pivot, putting every smaller element into a low array and every larger element into a high array."
   ]
  },
  {
   "attachments": {},
   "cell_type": "markdown",
   "metadata": {},
   "source": [
    "Putting every element from the low list to the left of the pivot and every element from the high list to the right positions the pivot precisely where it needs to be in the final sorted list. This means that the function can now recursively apply the same procedure to low and then high until the entire list is sorted."
   ]
  },
  {
   "cell_type": "code",
   "execution_count": 35,
   "metadata": {},
   "outputs": [],
   "source": [
    "from random import randint\n",
    "\n",
    "\n",
    "def quicksort(array):\n",
    "\n",
    "    # If the input array contains fewer than two elements,\n",
    "    # then return it as the result of the function\n",
    "    if len(array) < 2:\n",
    "\n",
    "        return array\n",
    "\n",
    "\n",
    "    low, same, high = [], [], []\n",
    "\n",
    "\n",
    "    # Select your `pivot` element randomly\n",
    "    pivot = array[randint(0, len(array) - 1)]\n",
    "\n",
    "\n",
    "    for item in array:\n",
    "\n",
    "        # Elements that are smaller than the `pivot` go to\n",
    "        # the `low` list. Elements that are larger than\n",
    "        # `pivot` go to the `high` list. Elements that are\n",
    "        # equal to `pivot` go to the `same` list.\n",
    "        if item < pivot:\n",
    "\n",
    "            low.append(item)\n",
    "\n",
    "        elif item == pivot:\n",
    "\n",
    "            same.append(item)\n",
    "\n",
    "        elif item > pivot:\n",
    "\n",
    "            high.append(item)\n",
    "\n",
    "\n",
    "    # The final result combines the sorted `low` list\n",
    "    # with the `same` list and the sorted `high` list\n",
    "    return quicksort(low) + same + quicksort(high)"
   ]
  },
  {
   "cell_type": "code",
   "execution_count": 36,
   "metadata": {},
   "outputs": [
    {
     "data": {
      "text/plain": [
       "[2, 4, 5, 6, 8]"
      ]
     },
     "execution_count": 36,
     "metadata": {},
     "output_type": "execute_result"
    }
   ],
   "source": [
    "quicksort([8, 2, 6, 4, 5])"
   ]
  },
  {
   "attachments": {},
   "cell_type": "markdown",
   "metadata": {},
   "source": [
    "<Center><img loading=\"lazy\" class=\"img-fluid mx-auto d-block \" src=\"https://files.realpython.com/media/Python_Sorting_Algorithms_-_Quick_Sort.ee6dbe24f0d3.jpeg\" srcset=\"https://robocrop.realpython.net/?url=https%3A//files.realpython.com/media/Python_Sorting_Algorithms_-_Quick_Sort.ee6dbe24f0d3.jpeg&amp;w=204&amp;sig=07722e1ddd50e1667b59779d043329208b0f4dce 204w, https://robocrop.realpython.net/?url=https%3A//files.realpython.com/media/Python_Sorting_Algorithms_-_Quick_Sort.ee6dbe24f0d3.jpeg&amp;w=408&amp;sig=b564c0f1f7b7c95b6a0aeb89e2f48bcfc0f8b92e 408w, https://files.realpython.com/media/Python_Sorting_Algorithms_-_Quick_Sort.ee6dbe24f0d3.jpeg 817w\" sizes=\"75vw\" alt=\"Quick Sort Algorithm\" data-asset=\"2281\" width=\"817\" height=\"528\"></Center>"
   ]
  },
  {
   "attachments": {},
   "cell_type": "markdown",
   "metadata": {},
   "source": [
    "**Note:** Above pivot element is selected randomly, it's a coincidence that it is every time the middle one"
   ]
  },
  {
   "attachments": {},
   "cell_type": "markdown",
   "metadata": {},
   "source": [
    "## Selecting the pivot Element\n",
    "\n",
    "Why does the implementation above select the pivot element randomly? Wouldn’t it be the same to consistently select the first or last element of the input list?\n",
    "\n",
    "Because of how the Quicksort algorithm works, the number of recursion levels depends on where pivot ends up in each partition. In the best-case scenario, the algorithm consistently picks the median element as the pivot. That would make each generated subproblem exactly half the size of the previous problem, leading to at most $\\boldsymbol{log_2n}$ levels.\n",
    "\n",
    "On the other hand, if the algorithm consistently picks either the smallest or largest element of the array as the pivot, then the generated partitions will be as unequal as possible, leading to n-1 recursion levels. That would be the worst-case scenario for Quicksort.\n",
    "\n",
    "As you can see, Quicksort’s efficiency often depends on the pivot selection. If the input array is unsorted, then using the first or last element as the pivot will work the same as a random element. But if the input array is sorted or almost sorted, using the first or last element as the pivot could lead to a worst-case scenario. Selecting the pivot at random makes it more likely Quicksort will select a value closer to the median and finish faster.\n",
    "\n",
    "Another option for selecting the pivot is to find the median value of the array and force the algorithm to use it as the pivot. This can be done in O(n) time. Although the process is little bit more involved, using the median value as the pivot for Quicksort guarantees you will have the best-case Big O scenario.\n"
   ]
  },
  {
   "attachments": {},
   "cell_type": "markdown",
   "metadata": {},
   "source": [
    "## Measuring Quicksort’s Big O Complexity\n",
    "\n",
    "With Quicksort, the input list is partitioned in linear time, O(n), and this process repeats recursively an average of $\\boldsymbol{log_2n}$ times. This leads to a final complexity of $\\boldsymbol{O(n log_2n)}$.\n",
    "\n",
    "That said, remember the discussion about how the selection of the pivot affects the runtime of the algorithm. The O(n) best-case scenario happens when the selected pivot is close to the median of the array, and an O($n^2$) scenario happens when the pivot is the smallest or largest value of the array.\n",
    "\n",
    "Theoretically, if the algorithm focuses first on finding the median value and then uses it as the pivot element, then the worst-case complexity will come down to $\\boldsymbol{O(n log_2n)}$. The median of an array can be found in linear time, and using it as the pivot guarantees the Quicksort portion of the code will perform in $\\boldsymbol{O(n log_2n)}$.\n",
    "\n",
    "By using the median value as the pivot, you end up with a final runtime of O(n) + $\\boldsymbol{O(n log_2n)}$. You can simplify this down to $\\boldsymbol{O(n log_2n)}$ because the logarithmic portion grows much faster than the linear portion."
   ]
  },
  {
   "attachments": {},
   "cell_type": "markdown",
   "metadata": {},
   "source": [
    "## Analyzing the Strengths and Weaknesses of Quicksort\n",
    "\n",
    "True to its name, Quicksort is very fast. Although its worst-case scenario is theoretically O(n2), in practice, a good implementation of Quicksort beats most other sorting implementations. Also, just like merge sort, Quicksort is straightforward to parallelize.\n",
    "\n",
    "One of Quicksort’s main disadvantages is the lack of a guarantee that it will achieve the average runtime complexity. Although worst-case scenarios are rare, certain applications can’t afford to risk poor performance, so they opt for algorithms that stay within O(n log2n) regardless of the input.\n",
    "\n",
    "Just like merge sort, Quicksort also trades off memory space for speed. This may become a limitation for sorting larger lists."
   ]
  },
  {
   "attachments": {},
   "cell_type": "markdown",
   "metadata": {},
   "source": [
    "# The Timsort Algorithm"
   ]
  },
  {
   "attachments": {},
   "cell_type": "markdown",
   "metadata": {},
   "source": [
    "The Timsort algorithm is considered a hybrid sorting algorithm because it employs a best-of-both-worlds combination of insertion sort and merge sort. Timsort is near and dear to the Python community because it was created by Tim Peters in 2002 to be used as the standard sorting algorithm of the Python language."
   ]
  },
  {
   "attachments": {},
   "cell_type": "markdown",
   "metadata": {},
   "source": [
    "The main characteristic of Timsort is that it takes advantage of already-sorted elements that exist in most real-world datasets. These are called natural runs. The algorithm then iterates over the list, collecting the elements into runs and merging them into a single sorted list."
   ]
  },
  {
   "attachments": {},
   "cell_type": "markdown",
   "metadata": {},
   "source": [
    "## Modified Insertion Sort"
   ]
  },
  {
   "cell_type": "code",
   "execution_count": 38,
   "metadata": {},
   "outputs": [],
   "source": [
    "# The first step in implementing Timsort is modifying the implementation of insertion_sort() from before\n",
    "\n",
    "def insertion_sort(array, left=0, right=None):\n",
    "\n",
    "    if right is None:\n",
    "\n",
    "        right = len(array) - 1\n",
    "\n",
    "\n",
    "    # Loop from the element indicated by\n",
    "    # `left` until the element indicated by `right`\n",
    "    for i in range(left + 1, right + 1):\n",
    "\n",
    "        # This is the element we want to position in its\n",
    "        # correct place\n",
    "        key_item = array[i]\n",
    "\n",
    "\n",
    "        # Initialize the variable that will be used to\n",
    "        # find the correct position of the element referenced\n",
    "        # by `key_item`\n",
    "        j = i - 1\n",
    "\n",
    "\n",
    "        # Run through the list of items (the left\n",
    "        # portion of the array) and find the correct position\n",
    "        # of the element referenced by `key_item`. Do this only\n",
    "        # if the `key_item` is smaller than its adjacent values.\n",
    "        while j >= left and array[j] > key_item:\n",
    "\n",
    "            # Shift the value one position to the left\n",
    "            # and reposition `j` to point to the next element\n",
    "            # (from right to left)\n",
    "            array[j + 1] = array[j]\n",
    "\n",
    "            j -= 1\n",
    "\n",
    "\n",
    "        # When you finish shifting the elements, position\n",
    "        # the `key_item` in its correct location\n",
    "        array[j + 1] = key_item\n",
    "\n",
    "\n",
    "    return array"
   ]
  },
  {
   "cell_type": "code",
   "execution_count": 39,
   "metadata": {},
   "outputs": [
    {
     "data": {
      "text/plain": [
       "[2, 4, 5, 6, 8]"
      ]
     },
     "execution_count": 39,
     "metadata": {},
     "output_type": "execute_result"
    }
   ],
   "source": [
    "insertion_sort([8, 2, 6, 4, 5])"
   ]
  },
  {
   "attachments": {},
   "cell_type": "markdown",
   "metadata": {},
   "source": [
    "**Note:** This modified implementation adds a couple of parameters, left and right, that indicate which portion of the array should be sorted. This allows the Timsort algorithm to sort a portion of the array in place. "
   ]
  },
  {
   "attachments": {},
   "cell_type": "markdown",
   "metadata": {},
   "source": [
    "## Time sort"
   ]
  },
  {
   "cell_type": "code",
   "execution_count": 40,
   "metadata": {},
   "outputs": [],
   "source": [
    "def timsort(array):\n",
    "\n",
    "    min_run = 32\n",
    "\n",
    "    n = len(array)\n",
    "\n",
    "\n",
    "    # Start by slicing and sorting small portions of the\n",
    "    # input array. The size of these slices is defined by\n",
    "    # your `min_run` size.\n",
    "    for i in range(0, n, min_run):\n",
    "\n",
    "        insertion_sort(array, i, min((i + min_run - 1), n - 1))\n",
    "\n",
    "\n",
    "    # Now you can start merging the sorted slices.\n",
    "    # Start from `min_run`, doubling the size on\n",
    "    # each iteration until you surpass the length of\n",
    "    # the array.\n",
    "    size = min_run\n",
    "\n",
    "    while size < n:\n",
    "\n",
    "        # Determine the arrays that will\n",
    "        # be merged together\n",
    "        for start in range(0, n, size * 2):\n",
    "\n",
    "            # Compute the `midpoint` (where the first array ends\n",
    "            # and the second starts) and the `endpoint` (where\n",
    "            # the second array ends)\n",
    "            midpoint = start + size - 1\n",
    "\n",
    "            end = min((start + size * 2 - 1), (n-1))\n",
    "\n",
    "\n",
    "            # Merge the two subarrays.\n",
    "            # The `left` array should go from `start` to\n",
    "            # `midpoint + 1`, while the `right` array should\n",
    "            # go from `midpoint + 1` to `end + 1`.\n",
    "            merged_array = merge(\n",
    "\n",
    "                left=array[start:midpoint + 1],\n",
    "\n",
    "                right=array[midpoint + 1:end + 1])\n",
    "\n",
    "\n",
    "            # Finally, put the merged array back into\n",
    "            # your array\n",
    "            array[start:start + len(merged_array)] = merged_array\n",
    "\n",
    "\n",
    "        # Each iteration should double the size of your arrays\n",
    "        size *= 2\n",
    "\n",
    "\n",
    "    return array"
   ]
  },
  {
   "attachments": {},
   "cell_type": "markdown",
   "metadata": {},
   "source": [
    "## Measuring Timsort’s Big O Complexity\n",
    "\n",
    "On average, the complexity of Timsort is $\\boldsymbol{O(n log_2n)}$, just like merge sort and Quicksort. The logarithmic part comes from doubling the size of the run to perform each linear merge operation.\n",
    "\n",
    "However, Timsort performs exceptionally well on already-sorted or close-to-sorted lists, leading to a best-case scenario of O(n). In this case, Timsort clearly beats merge sort and matches the best-case scenario for Quicksort. But the worst case for Timsort is also $\\boldsymbol{O(n log_2n)}$, which surpasses Quicksort’s O($n^2$)."
   ]
  },
  {
   "attachments": {},
   "cell_type": "markdown",
   "metadata": {},
   "source": [
    "## Analyzing the Strengths and Weaknesses of Timsort\n",
    "\n",
    "The main disadvantage of Timsort is its complexity. Despite implementing a very simplified version of the original algorithm, it still requires much more code because it relies on both insertion_sort() and merge().\n",
    "\n",
    "One of Timsort’s advantages is its ability to predictably perform in O(n log2n) regardless of the structure of the input array. Contrast that with Quicksort, which can degrade down to O(n2). Timsort is also very fast for small arrays because the algorithm turns into a single insertion sort.\n",
    "\n",
    "For real-world usage, in which it’s common to sort arrays that already have some preexisting order, Timsort is a great option. Its adaptability makes it an excellent choice for sorting arrays of any length.\n"
   ]
  },
  {
   "attachments": {},
   "cell_type": "markdown",
   "metadata": {},
   "source": [
    "# Comparision"
   ]
  },
  {
   "cell_type": "code",
   "execution_count": 43,
   "metadata": {},
   "outputs": [],
   "source": [
    "ARRAY_LENGTH = 10000"
   ]
  },
  {
   "attachments": {},
   "cell_type": "markdown",
   "metadata": {},
   "source": [
    "- For not sorted array"
   ]
  },
  {
   "cell_type": "code",
   "execution_count": 53,
   "metadata": {},
   "outputs": [
    {
     "name": "stdout",
     "output_type": "stream",
     "text": [
      "Algorithm: bubble_sort. Minimum execution time: 46.933141358000285\n",
      "Algorithm: insertion_sort. Minimum execution time: 21.226660159998573\n",
      "Algorithm: merge_sort. Minimum execution time: 0.3230658510001376\n",
      "Algorithm: quicksort. Minimum execution time: 0.08212754700070946\n",
      "Algorithm: timsort. Minimum execution time: 0.28299197199885384\n"
     ]
    }
   ],
   "source": [
    "array = [randint(0, 1000) for i in range(ARRAY_LENGTH)]\n",
    "\n",
    "# Call each of the functions\n",
    "run_sorting_algorithm(algorithm=\"bubble_sort\", array=array)\n",
    "\n",
    "run_sorting_algorithm(algorithm=\"insertion_sort\", array=array)\n",
    "\n",
    "run_sorting_algorithm(algorithm=\"merge_sort\", array=array)\n",
    "\n",
    "run_sorting_algorithm(algorithm=\"quicksort\", array=array)\n",
    "\n",
    "run_sorting_algorithm(algorithm=\"timsort\", array=array)"
   ]
  },
  {
   "attachments": {},
   "cell_type": "markdown",
   "metadata": {},
   "source": [
    "- For already sorted array"
   ]
  },
  {
   "cell_type": "code",
   "execution_count": 52,
   "metadata": {},
   "outputs": [
    {
     "name": "stdout",
     "output_type": "stream",
     "text": [
      "Algorithm: bubble_sort. Minimum execution time: 0.005544698997255182\n",
      "Algorithm: insertion_sort. Minimum execution time: 0.010042686997621786\n",
      "Algorithm: merge_sort. Minimum execution time: 0.20336739699996542\n",
      "Algorithm: quicksort. Minimum execution time: 0.15180434900321416\n",
      "Algorithm: timsort. Minimum execution time: 0.12971683599971584\n"
     ]
    }
   ],
   "source": [
    "array = [i for i in range(ARRAY_LENGTH)]\n",
    "\n",
    "# Call each of the functions\n",
    "run_sorting_algorithm(algorithm=\"bubble_sort\", array=array)\n",
    "\n",
    "run_sorting_algorithm(algorithm=\"insertion_sort\", array=array)\n",
    "\n",
    "run_sorting_algorithm(algorithm=\"merge_sort\", array=array)\n",
    "\n",
    "run_sorting_algorithm(algorithm=\"quicksort\", array=array)\n",
    "\n",
    "run_sorting_algorithm(algorithm=\"timsort\", array=array)"
   ]
  },
  {
   "cell_type": "code",
   "execution_count": null,
   "metadata": {},
   "outputs": [],
   "source": []
  }
 ],
 "metadata": {
  "kernelspec": {
   "display_name": "my_env",
   "language": "python",
   "name": "python3"
  },
  "language_info": {
   "codemirror_mode": {
    "name": "ipython",
    "version": 3
   },
   "file_extension": ".py",
   "mimetype": "text/x-python",
   "name": "python",
   "nbconvert_exporter": "python",
   "pygments_lexer": "ipython3",
   "version": "3.10.6 (main, Nov 14 2022, 16:10:14) [GCC 11.3.0]"
  },
  "orig_nbformat": 4,
  "vscode": {
   "interpreter": {
    "hash": "883925ad5274a5221e91c803bb1760502f89cbbc1f3c478126dc340e17a6050f"
   }
  }
 },
 "nbformat": 4,
 "nbformat_minor": 2
}
