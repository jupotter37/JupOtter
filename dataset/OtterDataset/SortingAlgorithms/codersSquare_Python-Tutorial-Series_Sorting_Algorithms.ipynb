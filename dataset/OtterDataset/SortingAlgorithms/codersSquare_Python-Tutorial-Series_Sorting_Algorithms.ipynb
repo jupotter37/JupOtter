{
 "cells": [
  {
   "cell_type": "markdown",
   "id": "ad29f0a6",
   "metadata": {},
   "source": [
    "# Bubble Sort"
   ]
  },
  {
   "cell_type": "markdown",
   "id": "ee63cf93",
   "metadata": {},
   "source": [
    "Bubble Sort is a simple sorting algorithm that repeatedly steps through the list, compares adjacent elements, and swaps them if they are in the wrong order. The pass through the list is repeated until the list is sorted. The name \"Bubble Sort\" comes from the way smaller elements \"bubble\" to the top of the list during each pass.\n",
    "\n",
    "Here's a basic explanation of how Bubble Sort works:\n",
    "\n",
    "1. Start at the beginning of the list.\n",
    "2. Compare the first two elements. If the first element is greater than the second element, swap them.\n",
    "3. Move to the next pair of elements (second and third), and repeat the comparison and swap if necessary.\n",
    "4. Continue this process, moving through the entire list one pair at a time.\n",
    "5. After completing one pass through the list, the largest element will \"bubble up\" to its correct position at the end of the list.\n",
    "6. Repeat steps 1-5 for the remaining elements in the list, each time the largest unsorted element will bubble up to its correct position.\n",
    "7. Continue this process until the entire list is sorted.\n",
    "\n",
    "Bubble Sort is not efficient for large lists, as it has a time complexity of O(n^2), making it impractical for large datasets. However, it is relatively simple to understand and implement, making it useful for educational purposes or for sorting small lists.\n",
    "\n",
    "**The advantage of bubble sort over other sorting techniques:**\n",
    "\n",
    "- The built-in ability to detect whether the list is sorted efficiently is the only advantage of bubble sort over other sorting techniques.\n",
    "- When the list is already sorted (which is the best-case scenario), the complexity of bubble sort is only O(n).\n",
    "- It is faster than other in case of sorted array and consumes less time to describe whether the input array is sorted or not."
   ]
  },
  {
   "cell_type": "markdown",
   "id": "eee100bf",
   "metadata": {},
   "source": [
    "### Best and Worst Case Time and Space Complexity:\n",
    "#### Time Complexity:\n",
    "**Best Case:** O(n) - When the list is already sorted, and the algorithm needs to make only one pass through the list to confirm it's sorted.\n",
    "\n",
    "**Worst Case:** O(n^2) - When the list is in reverse order, and the algorithm requires maximum passes and swaps to sort it.\n",
    "\n",
    "\n",
    "**Space Complexity:** O(1) - Bubble Sort sorts the list **in place**, without requiring any additional space proportional to the size of the input list."
   ]
  },
  {
   "cell_type": "markdown",
   "id": "f726c394",
   "metadata": {},
   "source": [
    "### Naive Approach"
   ]
  },
  {
   "cell_type": "code",
   "execution_count": 1,
   "id": "b7664544",
   "metadata": {},
   "outputs": [],
   "source": [
    "def bubbleSort(l):\n",
    "    # Get the length of the list\n",
    "    n = len(l)\n",
    "    \n",
    "    # Outer loop: Iterate over each element in the list except the last one\n",
    "    for i in range(n-1):\n",
    "        \n",
    "        # Inner loop: Traverse the list from the beginning to the end of the unsorted portion\n",
    "        for j in range(n-i-1):\n",
    "            \n",
    "            # Compare adjacent elements and swap them if they are in the wrong order\n",
    "            if l[j] > l[j+1]:\n",
    "                l[j], l[j+1] = l[j+1], l[j]  # Swap the elements\n",
    "                \n",
    "    return l  # Return the sorted list\n"
   ]
  },
  {
   "cell_type": "code",
   "execution_count": 2,
   "id": "68080869",
   "metadata": {},
   "outputs": [
    {
     "name": "stdout",
     "output_type": "stream",
     "text": [
      "Original list: [64, 25, 12, 22, 11]\n",
      "Sorted list: [11, 12, 22, 25, 64]\n",
      "\n",
      "Original list: ['banana', 'apple', 'orange', 'grape', 'pineapple']\n",
      "Sorted list: ['apple', 'banana', 'grape', 'orange', 'pineapple']\n",
      "\n",
      "Original list: [3.14, 2.71, 1.618, 0.577, 1.414]\n",
      "Sorted list: [0.577, 1.414, 1.618, 2.71, 3.14]\n"
     ]
    }
   ],
   "source": [
    "# Example 1: Sorting a list of integers\n",
    "arr1 = [64, 25, 12, 22, 11]\n",
    "print(\"Original list:\", arr1)\n",
    "sorted_arr1 = bubbleSort(arr1)\n",
    "print(\"Sorted list:\", sorted_arr1)\n",
    "\n",
    "# Example 2: Sorting a list of strings\n",
    "arr2 = ['banana', 'apple', 'orange', 'grape', 'pineapple']\n",
    "print(\"\\nOriginal list:\", arr2)\n",
    "sorted_arr2 = bubbleSort(arr2)\n",
    "print(\"Sorted list:\", sorted_arr2)\n",
    "\n",
    "# Example 3: Sorting a list of floating-point numbers\n",
    "arr3 = [3.14, 2.71, 1.618, 0.577, 1.414]\n",
    "print(\"\\nOriginal list:\", arr3)\n",
    "sorted_arr3 = bubbleSort(arr3)\n",
    "print(\"Sorted list:\", sorted_arr3)\n"
   ]
  },
  {
   "cell_type": "markdown",
   "id": "5e32fd0e",
   "metadata": {},
   "source": [
    "This implementation follows the naive approach of Bubble Sort, which involves nested loops to compare and swap adjacent elements until the list is sorted. While simple to understand, this approach has a time complexity of O(n^2), making it inefficient for large lists."
   ]
  },
  {
   "cell_type": "markdown",
   "id": "d6b3c2fe",
   "metadata": {},
   "source": [
    "### Optimized Bubble Sort implementation"
   ]
  },
  {
   "cell_type": "code",
   "execution_count": 3,
   "id": "ceb629b4",
   "metadata": {},
   "outputs": [
    {
     "name": "stdout",
     "output_type": "stream",
     "text": [
      "Original list: [64, 25, 12, 22, 11]\n",
      "Sorted list: [11, 12, 22, 25, 64]\n",
      "\n",
      "Original list: ['banana', 'apple', 'orange', 'grape', 'pineapple']\n",
      "Sorted list: ['apple', 'banana', 'grape', 'orange', 'pineapple']\n",
      "\n",
      "Original list: [3.14, 2.71, 1.618, 0.577, 1.414]\n",
      "Sorted list: [0.577, 1.414, 1.618, 2.71, 3.14]\n"
     ]
    }
   ],
   "source": [
    "\n",
    "def bubbleSort(l):\n",
    "    n = len(l)\n",
    "    for i in range(n-1):\n",
    "        swapped = False\n",
    "        for j in range(n-i-1):\n",
    "            if l[j] > l[j+1]:\n",
    "                l[j], l[j+1] = l[j+1], l[j]\n",
    "                swapped = True\n",
    "        # If no two elements were swapped in the inner loop, the list is already sorted\n",
    "        if not swapped:\n",
    "            break\n",
    "    return l\n",
    "\n",
    "# Examples\n",
    "arr1 = [64, 25, 12, 22, 11]\n",
    "print(\"Original list:\", arr1)\n",
    "sorted_arr1 = bubbleSort(arr1)\n",
    "print(\"Sorted list:\", sorted_arr1)\n",
    "\n",
    "arr2 = ['banana', 'apple', 'orange', 'grape', 'pineapple']\n",
    "print(\"\\nOriginal list:\", arr2)\n",
    "sorted_arr2 = bubbleSort(arr2)\n",
    "print(\"Sorted list:\", sorted_arr2)\n",
    "\n",
    "arr3 = [3.14, 2.71, 1.618, 0.577, 1.414]\n",
    "print(\"\\nOriginal list:\", arr3)\n",
    "sorted_arr3 = bubbleSort(arr3)\n",
    "print(\"Sorted list:\", sorted_arr3)\n"
   ]
  },
  {
   "cell_type": "markdown",
   "id": "f4c5b30e",
   "metadata": {},
   "source": [
    "**In this optimized version of Bubble Sort:**\n",
    "\n",
    "A swapped flag is used to keep track of whether any elements were swapped in the inner loop.\n",
    "\n",
    "If no elements were swapped in an entire pass through the list, it means the list is already sorted, and the function terminates early. \n",
    "\n",
    "This optimization helps in cases where the list is already sorted or nearly sorted, reducing unnecessary iterations."
   ]
  },
  {
   "cell_type": "markdown",
   "id": "731530d4",
   "metadata": {},
   "source": [
    "# Selection Sort"
   ]
  },
  {
   "cell_type": "markdown",
   "id": "89fedd94",
   "metadata": {},
   "source": [
    "Selection Sort is a simple sorting algorithm that divides the input list into two portions: sorted and unsorted. It repeatedly selects the smallest (or largest) element from the unsorted portion and swaps it with the first element of the unsorted portion, thereby expanding the sorted portion. This process continues until the entire list is sorted."
   ]
  },
  {
   "cell_type": "markdown",
   "id": "9acf2caa",
   "metadata": {},
   "source": [
    "Selection Sort works by dividing the input list into two portions: sorted and unsorted. \n",
    "\n",
    "Here's how the algorithm works:\n",
    "\n",
    "1. **Initialization**: Start with the entire list considered as unsorted.\n",
    "  \n",
    "2. **Selection of Smallest Element**: Iterate through the unsorted portion of the list to find the smallest element. \n",
    "\n",
    "3. **Swap**: Once the smallest element is found, swap it with the first element of the unsorted portion. \n",
    "\n",
    "4. **Expansion of Sorted Portion**: Move the boundary of the sorted portion by one position to the right.\n",
    "\n",
    "5. **Repeat**: Continue these steps until the entire list is sorted.\n",
    "\n",
    "Here's a step-by-step breakdown:\n",
    "\n",
    "- **Pass 1**: Find the smallest element in the entire list and swap it with the first element.\n",
    "- **Pass 2**: Find the smallest element in the remaining unsorted portion (excluding the first element) and swap it with the second element.\n",
    "- **Pass 3**: Repeat this process, finding the smallest element in the remaining unsorted portion and swapping it with the appropriate element in the sorted portion.\n",
    "- **Continue**: Continue these passes until the entire list is sorted.\n",
    "\n",
    "At the end of the algorithm, the list will be sorted in ascending order, with the smallest element at the beginning and the largest element at the end. \n",
    "\n",
    "Selection Sort is not the most efficient sorting algorithm, especially for large datasets, as it has a time complexity of O(n^2) in both best and worst cases. However, it's simple to understand and implement, making it useful for educational purposes or for sorting small lists."
   ]
  },
  {
   "cell_type": "code",
   "execution_count": 4,
   "id": "ef82dcf7",
   "metadata": {},
   "outputs": [],
   "source": [
    "def selectionSort(l):\n",
    "    \"\"\"\n",
    "    Sorts a list in ascending order using Selection Sort algorithm.\n",
    "    \n",
    "    Parameters:\n",
    "    l (list): The list to be sorted.\n",
    "    \n",
    "    Returns:\n",
    "    list: The sorted list.\n",
    "    \"\"\"\n",
    "    n = len(l)\n",
    "    for i in range(n-1):\n",
    "        min_index = i\n",
    "        for j in range(i+1, n):\n",
    "            if l[j] < l[min_index]:\n",
    "                min_index = j\n",
    "        l[min_index], l[i] = l[i], l[min_index]  # Swap the smallest element with the first element of unsorted portion\n",
    "    return l\n"
   ]
  },
  {
   "cell_type": "code",
   "execution_count": 5,
   "id": "b812df59",
   "metadata": {},
   "outputs": [
    {
     "name": "stdout",
     "output_type": "stream",
     "text": [
      "Original list: [64, 25, 12, 22, 11]\n",
      "Sorted list: [11, 12, 22, 25, 64]\n",
      "\n",
      "Original list: ['banana', 'apple', 'orange', 'grape', 'pineapple']\n",
      "Sorted list: ['apple', 'banana', 'grape', 'orange', 'pineapple']\n",
      "\n",
      "Original list: [3.14, 2.71, 1.618, 0.577, 1.414]\n",
      "Sorted list: [0.577, 1.414, 1.618, 2.71, 3.14]\n"
     ]
    }
   ],
   "source": [
    "# Example 1: Sorting a list of integers\n",
    "arr1 = [64, 25, 12, 22, 11]\n",
    "print(\"Original list:\", arr1)\n",
    "sorted_arr1 = selectionSort(arr1.copy())  # Making a copy to preserve the original list\n",
    "print(\"Sorted list:\", sorted_arr1)\n",
    "\n",
    "# Example 2: Sorting a list of strings\n",
    "arr2 = ['banana', 'apple', 'orange', 'grape', 'pineapple']\n",
    "print(\"\\nOriginal list:\", arr2)\n",
    "sorted_arr2 = selectionSort(arr2.copy())\n",
    "print(\"Sorted list:\", sorted_arr2)\n",
    "\n",
    "# Example 3: Sorting a list of floating-point numbers\n",
    "arr3 = [3.14, 2.71, 1.618, 0.577, 1.414]\n",
    "print(\"\\nOriginal list:\", arr3)\n",
    "sorted_arr3 = selectionSort(arr3.copy())\n",
    "print(\"Sorted list:\", sorted_arr3)\n"
   ]
  },
  {
   "cell_type": "markdown",
   "id": "a89bf332",
   "metadata": {},
   "source": [
    "### Best and Worst Case Time and Space Complexity:\n",
    "\n",
    "#### Time Complexity:\n",
    "\n",
    "- **Best Case**: O(n^2) - Same as the worst-case scenario. Even if the list is already sorted, the algorithm still needs to iterate through the list to confirm it's sorted.\n",
    "- **Worst Case:** O(n^2) - Occurs when the list is in reverse order, and the algorithm requires maximum comparisons and swaps to sort it.\n",
    "\n",
    "**Space Complexity:** O(1) - Selection Sort sorts the list in place, without requiring any additional space proportional to the size of the input list."
   ]
  },
  {
   "cell_type": "markdown",
   "id": "35f61050",
   "metadata": {},
   "source": []
  },
  {
   "cell_type": "code",
   "execution_count": null,
   "id": "f89c835b",
   "metadata": {},
   "outputs": [],
   "source": []
  }
 ],
 "metadata": {
  "kernelspec": {
   "display_name": "Python 3 (ipykernel)",
   "language": "python",
   "name": "python3"
  },
  "language_info": {
   "codemirror_mode": {
    "name": "ipython",
    "version": 3
   },
   "file_extension": ".py",
   "mimetype": "text/x-python",
   "name": "python",
   "nbconvert_exporter": "python",
   "pygments_lexer": "ipython3",
   "version": "3.9.13"
  }
 },
 "nbformat": 4,
 "nbformat_minor": 5
}
