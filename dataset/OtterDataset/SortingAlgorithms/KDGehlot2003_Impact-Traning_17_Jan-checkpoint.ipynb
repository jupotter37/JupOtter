{
 "cells": [
  {
   "cell_type": "markdown",
   "id": "705eb262",
   "metadata": {},
   "source": [
    "# Searching Technique in python\n",
    "- Python supports two types of searching technique:\n",
    "    1. Linear Search\n",
    "    2. Binary Search\n",
    "## 1. Linear Search\n",
    "- In the linear search we are going the compare key element with the each and every element present in the list.\n",
    "- If the element found then it will return the index position of the corresponding element.\n",
    "- If the element is not available then it will return -1 (that -1 is indecated as element not found).\n",
    "- In the linear search we are going to compare each and every element with the key so this algorithm will take more time and time complexity also more.\n",
    "\n",
    "## 2. Binary Search\n",
    "- In the binary search first we have to sort the element\n",
    "- Calculate low and high values.\n",
    "- That is Low = 0 and high = len(l)-1\n",
    "- Calculate the mid index position that is (low + high)/2\n",
    "- Based on the mid position Find out the middle value in the list then compare middle value with the key value If middle value is less the key value then implement the low if middle value is greater then the key value then dicrement high value with 1. if two condition are not satisfied that will be indicated as then middle and key value both are equal then return the index position.\n",
    "- If the element is not available then this algorithm will return -1."
   ]
  },
  {
   "cell_type": "code",
   "execution_count": 3,
   "id": "77b00f5a",
   "metadata": {},
   "outputs": [
    {
     "name": "stdout",
     "output_type": "stream",
     "text": [
      "2 3 5 4 6 3 4 5 \n",
      "3\n",
      "Element found at  1 Index Position\n"
     ]
    }
   ],
   "source": [
    "def linear_search(l,key):\n",
    "    for p in range(len(l)):\n",
    "        if l[p]==key:\n",
    "            return p\n",
    "    return -1\n",
    "\n",
    "l = list(map(int,input().split()))\n",
    "key = int(input())\n",
    "s = linear_search(l,key)\n",
    "if s==-1:\n",
    "    print(\"Element Not Found...\")\n",
    "else:\n",
    "    print(\"Element found at \",s,\"Index Position\")"
   ]
  },
  {
   "cell_type": "code",
   "execution_count": 32,
   "id": "781916cb",
   "metadata": {},
   "outputs": [
    {
     "name": "stdout",
     "output_type": "stream",
     "text": [
      "2 3 4 5 7 1\n",
      "1\n",
      "Element found at 0 index Position\n"
     ]
    }
   ],
   "source": [
    "def binary_search(l,key):\n",
    "    l.sort()\n",
    "    low = 0\n",
    "    high = len(l) - 1 \n",
    "    while(low<=high):\n",
    "        mid = (low+high)//2\n",
    "        if l[mid]<key:\n",
    "            low = mid+1\n",
    "        elif l[mid]>key:\n",
    "            high = mid-1\n",
    "        else:\n",
    "            return mid\n",
    "    return -1 \n",
    "\n",
    "l = list(map(int,input().split()))\n",
    "key = int(input())\n",
    "s = binary_search(l,key)\n",
    "\n",
    "if s==-1:\n",
    "    print('Element Not found')\n",
    "else:\n",
    "    print(\"Element found at\",s,\"index Position\")"
   ]
  },
  {
   "cell_type": "markdown",
   "id": "44796021",
   "metadata": {},
   "source": [
    "---\n",
    "# Sorting Algorithm in python\n",
    "- Python supports diiferent (7) sorting algorithm:\n",
    "    1. Bubble Sort\n",
    "    2. Selection Sort\n",
    "    3. Insertion Sort\n",
    "    4. Merge Sort\n",
    "    5. Quick Sort\n",
    "    6. Radix Sort (Frequency sort)\n",
    "    7. Heap Sort\n",
    "    \n",
    "## 1. Bubble Sort\n",
    "- Bubble sort worst sorting algorithm as compare to other algorithm.\n",
    "- In the bubble sort we have to compare the adjacent element if the element is not sorted then we have to sort.\n",
    "- Bubble sort will arrange the elements in ascending or descending order\n",
    "- For ascending order we have to use (>) and for descending order we have to use (<).\n",
    "\n",
    "<img src=\"bubble_sort.jpg\"/>\n",
    "\n",
    "## 2. Selection Sort\n",
    "- In the selection sort the first element will be considered as minimum element in the list then remaining all element will be compare to first element.\n",
    "- If any element is less than the minimum value then exchange the index position of the minimum index.\n",
    "- After all comparison then the minimum value will be moved to first location.\n",
    "\n",
    "<img src=\"selection_sort.jpg\"/>\n",
    "\n",
    "## 3. Merge Sort\n",
    "- Merge sort works on the principle of divide and conquer.\n",
    "- First we have to divide the list in two equal parts that is len(l)/2. This division id possible until the length = 1.\n",
    "- For dividing the element into equal parts we are using recursion technique.\n",
    "- During comparison we are going to compare left side value with right side value. If left side value is less than right side value then left side value will come first if condition false right side value wil come first.\n",
    "\n",
    "<img src=\"merge_sort.jpg\"/>\n",
    "\n",
    "## 4. Inserstion Sort\n",
    "- \n",
    "\n",
    "<img src=\"insertion_sort.jpg\"/>\n"
   ]
  },
  {
   "cell_type": "code",
   "execution_count": 45,
   "id": "3a97bc44",
   "metadata": {},
   "outputs": [
    {
     "name": "stdout",
     "output_type": "stream",
     "text": [
      "9 8 7 6 5 4 3 2 1\n",
      "Before Sorting [9, 8, 7, 6, 5, 4, 3, 2, 1]\n",
      "step 1 : [8, 7, 6, 5, 4, 3, 2, 1, 9]\n",
      "step 2 : [7, 6, 5, 4, 3, 2, 1, 8, 9]\n",
      "step 3 : [6, 5, 4, 3, 2, 1, 7, 8, 9]\n",
      "step 4 : [5, 4, 3, 2, 1, 6, 7, 8, 9]\n",
      "step 5 : [4, 3, 2, 1, 5, 6, 7, 8, 9]\n",
      "step 6 : [3, 2, 1, 4, 5, 6, 7, 8, 9]\n",
      "step 7 : [2, 1, 3, 4, 5, 6, 7, 8, 9]\n",
      "step 8 : [1, 2, 3, 4, 5, 6, 7, 8, 9]\n",
      "After Sorting [1, 2, 3, 4, 5, 6, 7, 8, 9]\n"
     ]
    }
   ],
   "source": [
    "# WAP for implementation of bubble sort with function aproach.\n",
    "\n",
    "def bubble_sort(l):\n",
    "    for p in range(len(l)-1):\n",
    "        for q in range(len(l)-1):\n",
    "            if l[q]>l[q+1]:\n",
    "                l[q],l[q+1]=l[q+1],l[q]\n",
    "        print(\"step\",p+1,\":\",l)\n",
    "    return l\n",
    "\n",
    "l = list(map(int,input().split()))\n",
    "print(\"Before Sorting\",l)\n",
    "s = bubble_sort(l)\n",
    "print(\"After Sorting\",s)"
   ]
  },
  {
   "cell_type": "code",
   "execution_count": 46,
   "id": "341adc70",
   "metadata": {},
   "outputs": [
    {
     "name": "stdout",
     "output_type": "stream",
     "text": [
      "hi abc a rama\n",
      "Before Sorting ['hi', 'abc', 'a', 'rama']\n",
      "step 1 : ['hi', 'a', 'abc', 'rama']\n",
      "step 2 : ['a', 'hi', 'abc', 'rama']\n",
      "step 3 : ['a', 'hi', 'abc', 'rama']\n",
      "After Sorting ['a', 'hi', 'abc', 'rama']\n"
     ]
    }
   ],
   "source": [
    "# WAP for implementation of bubble sort with function aproach.\n",
    "\n",
    "def bubble_sort(l):\n",
    "    for p in range(len(l)-1):\n",
    "        for q in range(len(l)-1):\n",
    "            if len(l[q])>len(l[q+1]):\n",
    "                l[q],l[q+1]=l[q+1],l[q]\n",
    "        print(\"step\",p+1,\":\",l)\n",
    "    return l\n",
    "\n",
    "l = list(map(str,input().split()))\n",
    "print(\"Before Sorting\",l)\n",
    "s = bubble_sort(l)\n",
    "print(\"After Sorting\",s)"
   ]
  },
  {
   "cell_type": "code",
   "execution_count": 49,
   "id": "bb5df33c",
   "metadata": {},
   "outputs": [
    {
     "name": "stdout",
     "output_type": "stream",
     "text": [
      "9 4 1 8 3 5\n",
      "Before Sorting:  [9, 4, 1, 8, 3, 5]\n",
      "[1, 4, 9, 8, 3, 5]\n",
      "[1, 3, 9, 8, 4, 5]\n",
      "[1, 3, 4, 8, 9, 5]\n",
      "[1, 3, 4, 5, 9, 8]\n",
      "[1, 3, 4, 5, 8, 9]\n",
      "[1, 3, 4, 5, 8, 9]\n",
      "After Sorting:  [1, 3, 4, 5, 8, 9]\n"
     ]
    }
   ],
   "source": [
    "def selection_sort(l):\n",
    "    for p in range(len(l)):\n",
    "        min_index = p\n",
    "        for q in range(p+1,len(l)):\n",
    "            if l[min_index]>l[q]:\n",
    "                min_index = q\n",
    "        l[min_index],l[p] = l[p],l[min_index]\n",
    "        print(l)\n",
    "    return l\n",
    "\n",
    "l = list(map(int,input().split()))\n",
    "print(\"Before Sorting: \",l)\n",
    "s = selection_sort(l)\n",
    "print(\"After Sorting: \",s)"
   ]
  },
  {
   "cell_type": "code",
   "execution_count": 54,
   "id": "09c9d590",
   "metadata": {},
   "outputs": [
    {
     "name": "stdout",
     "output_type": "stream",
     "text": [
      "Before Sorting:  [40, 60, 30, 50, 10, 20]\n",
      "After Sorting:  [10, 20, 30, 40, 50, 60]\n"
     ]
    }
   ],
   "source": [
    "# 40 60 30 50 10 20\n",
    "# 3 1 9 2 7 5\n",
    "\n",
    "\n",
    "def merge(left,right):\n",
    "    merged=[]\n",
    "    i = 0\n",
    "    j = 0\n",
    "    while ((i<len(left)) and (j<len(right))):\n",
    "        if (left[i]<right[j]):\n",
    "            merged.append(left[i])\n",
    "            i = i+1\n",
    "        else:\n",
    "            merged.append(right[j])\n",
    "            j = j+1\n",
    "    merged = merged + left[i:] + right[j:]\n",
    "    return merged\n",
    "    \n",
    "def merge_sort(l):    # 40 60 30 50 10 20\n",
    "    if (len(l)==1):\n",
    "        return l\n",
    "    else:\n",
    "        mid = len(l)//2\n",
    "        left = merge_sort(l[:mid])   # 30 40 60\n",
    "#         print(left) \n",
    "        right = merge_sort(l[mid:])     # 10 20 50\n",
    "#         print(right)\n",
    "        \n",
    "        \n",
    "    return merge(left,right)\n",
    "    \n",
    "l = [40, 60, 30, 50, 10, 20]\n",
    "print(\"Before Sorting: \",l)\n",
    "s = merge_sort(l)\n",
    "print(\"After Sorting: \",s)"
   ]
  },
  {
   "cell_type": "code",
   "execution_count": 55,
   "id": "1ea6b3f2",
   "metadata": {},
   "outputs": [
    {
     "name": "stdout",
     "output_type": "stream",
     "text": [
      "Before Sorting:  [5, 4, 1, 2, 3]\n",
      "[4, 5, 1, 2, 3]\n",
      "[1, 4, 5, 2, 3]\n",
      "[1, 2, 4, 5, 3]\n",
      "[1, 2, 3, 4, 5]\n",
      "After Sorting:  [1, 2, 3, 4, 5]\n"
     ]
    }
   ],
   "source": [
    "def insertion_sort(l):\n",
    "    for p in range(1,len(l)):\n",
    "        key=l[p]\n",
    "        q=p-1\n",
    "        while((q>=0) and (key<l[q])):\n",
    "            l[q+1]=l[q]\n",
    "            q=q-1\n",
    "        l[q+1]=key\n",
    "        print(l)\n",
    "        \n",
    "    return l\n",
    "\n",
    "l = [5,4,1,2,3]\n",
    "print(\"Before Sorting: \",l)\n",
    "r = insertion_sort(l)\n",
    "print(\"After Sorting: \",r)\n"
   ]
  },
  {
   "cell_type": "code",
   "execution_count": null,
   "id": "bd15e2ff",
   "metadata": {},
   "outputs": [],
   "source": []
  }
 ],
 "metadata": {
  "kernelspec": {
   "display_name": "Python 3 (ipykernel)",
   "language": "python",
   "name": "python3"
  },
  "language_info": {
   "codemirror_mode": {
    "name": "ipython",
    "version": 3
   },
   "file_extension": ".py",
   "mimetype": "text/x-python",
   "name": "python",
   "nbconvert_exporter": "python",
   "pygments_lexer": "ipython3",
   "version": "3.11.5"
  }
 },
 "nbformat": 4,
 "nbformat_minor": 5
}
