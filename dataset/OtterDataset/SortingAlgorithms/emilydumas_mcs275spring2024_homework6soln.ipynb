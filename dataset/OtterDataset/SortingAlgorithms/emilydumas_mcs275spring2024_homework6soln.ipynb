{
 "cells": [
  {
   "cell_type": "markdown",
   "metadata": {},
   "source": [
    "# MCS 275 Spring 2024 Homework 6 Solutions\n",
    "\n",
    "* Course Instructor: Emily Dumas"
   ]
  },
  {
   "cell_type": "markdown",
   "metadata": {},
   "source": [
    "## Problem 2: Existing pivot indices\n",
    "\n",
    "Work in `hwk6prob2.py`.\n",
    "\n",
    "Recall that in our implementation of `quicksort`, we wrote a `partition` function that uses the last element of the list (or portion thereof) as a pivot.  However, as we discussed, one can partition a list using any item as a pivot.  In worksheet 6 you explored this a bit.\n",
    "\n",
    "Now, sometimes it may happen that a list is *already* partitioned at a certain index.  For example, if we consider the list"
   ]
  },
  {
   "cell_type": "code",
   "execution_count": 19,
   "metadata": {},
   "outputs": [],
   "source": [
    "L       = [6, 7, 8, 22, 9, 20, 5, 1, 23, 43, 71, 63]\n",
    "# index :  0  1  2   3  4   5  6  7   8   9  10  11"
   ]
  },
  {
   "cell_type": "markdown",
   "metadata": {},
   "source": [
    "Then we can see it is already partitioned at index 8 (i.e. `L[8]=23` is bigger than everything before it, and less than or equal to everything after it).\n",
    "\n",
    "Similarly the example list above is also already partitioned at index 9, as you can check.\n",
    "\n",
    "Write a function"
   ]
  },
  {
   "cell_type": "code",
   "execution_count": null,
   "metadata": {},
   "outputs": [],
   "source": [
    "def already_partitioned_indices(L):"
   ]
  },
  {
   "cell_type": "markdown",
   "metadata": {},
   "source": [
    "that takes a list `L` whose items support comparison, and which returns a list of all the indices `i` such that `L` is already partitioned with pivot `L[i]`.\n",
    "\n",
    "The list `L` should not be modified by calling this function.\n",
    "\n",
    "Sample return values:"
   ]
  },
  {
   "cell_type": "code",
   "execution_count": 25,
   "metadata": {},
   "outputs": [
    {
     "data": {
      "text/plain": [
       "[8, 9]"
      ]
     },
     "execution_count": 25,
     "metadata": {},
     "output_type": "execute_result"
    }
   ],
   "source": [
    "already_partitioned_indices([6,7,8,22,9,20,5,1,23,43,71,63])"
   ]
  },
  {
   "cell_type": "code",
   "execution_count": 35,
   "metadata": {},
   "outputs": [
    {
     "data": {
      "text/plain": [
       "[3]"
      ]
     },
     "execution_count": 35,
     "metadata": {},
     "output_type": "execute_result"
    }
   ],
   "source": [
    "already_partitioned_indices([15,8,4,16,42,23])"
   ]
  },
  {
   "cell_type": "code",
   "execution_count": 36,
   "metadata": {},
   "outputs": [
    {
     "data": {
      "text/plain": [
       "[0, 1, 2, 3, 4, 5]"
      ]
     },
     "execution_count": 36,
     "metadata": {},
     "output_type": "execute_result"
    }
   ],
   "source": [
    "already_partitioned_indices([2,4,8,16,32,64])"
   ]
  },
  {
   "cell_type": "markdown",
   "metadata": {},
   "source": [
    "### Solution"
   ]
  },
  {
   "cell_type": "markdown",
   "metadata": {},
   "source": [
    "The basic test is to see if `L[i]` is larger than every element of `L[:i]` and equal to the smallest element of `L[i:]`.  There are lots of ways to do that.  We exhibit an efficient method that only makes two passes through the list.\n",
    "\n",
    "(For anyone curious or knowledegable about analysis of algorithms, there's a straightforward $O(n^2)$ algorithm, whereas this is a much more efficient $O(n)$ algorithm.)"
   ]
  },
  {
   "cell_type": "code",
   "execution_count": 31,
   "metadata": {},
   "outputs": [],
   "source": [
    "def already_partitioned_indices(L):\n",
    "    \"\"\"\n",
    "    Return all indices `i` such that `L` is already\n",
    "    partitioned at `L[i]`.\n",
    "    \"\"\"\n",
    "    n = len(L)\n",
    "    # forward_maxes[i] will hold max(L[:i+1])\n",
    "    # initially it's a copy of L\n",
    "    forward_maxes = L[:] \n",
    "    # backward_mins[i] will hold min(L[i:])\n",
    "    # initially it's a copy of L\n",
    "    backward_mins = L[:]\n",
    "    # Fill forward_maxes with one pass through L \n",
    "    for i in range(n):\n",
    "        if i and forward_maxes[i-1] > L[i]:\n",
    "            forward_maxes[i] = forward_maxes[i-1]\n",
    "    # Fill backward_mins with one pass through L\n",
    "    # (from right to left)\n",
    "    for i in reversed(range(n)):\n",
    "        if i+1 < n and L[i] > backward_mins[i+1]:\n",
    "            backward_mins[i] = backward_mins[i+1]\n",
    "    # An index i is already partitioned if two\n",
    "    # conditions hold:\n",
    "    # (1) L[i] is bigger than the max of L[:i]\n",
    "    # (2) L[i] is equal to the min of L[i:]\n",
    "    # These are equivalent to\n",
    "    # (1) L[i] is greater than forward_maxes[i-1]\n",
    "    # (2) L[i] is equal to backward_mins[i]\n",
    "    return [ i for i in range(n) if \n",
    "                (i==0 or (L[i] > forward_maxes[i-1])) # (1)\n",
    "                and\n",
    "                L[i] == backward_mins[i] ] # (2)\n",
    "    "
   ]
  },
  {
   "cell_type": "markdown",
   "metadata": {},
   "source": [
    "## Problem 3: Quicksort using existing pivot info\n",
    "\n",
    "Work in `hwk6prob3.py`.\n",
    "\n",
    "Be sure to read problem 2 first.\n",
    "\n",
    "The function `already_partitioned_indices` you wrote in problem 2 probably takes as long to run as sorting the list `L`, and for that reason you wouldn't want to use it as part of a sorting algorithm.\n",
    "\n",
    "However, imagine you were given a list `L` and also given some information about indices where it is already partitioned, e.g. you might be asked\n",
    "\n",
    "> \"I have a list `L`.  It has 100 elements, and I happen to know that it is already partitioned at indices 4 and 62.\"\n",
    "\n",
    "Write a version of quicksort that takes advantage of this kind of information as follows:  Any time the usual `quicksort` would call `partition`, this \"hinted\" version of quicksort will first check to see if there is an index where we already know the list is partitioned that can be used instead.  If not, it falls back to calling `partition` as usual.\n",
    "\n",
    "Use the following function name, argument list, and docstring:"
   ]
  },
  {
   "cell_type": "code",
   "execution_count": null,
   "metadata": {},
   "outputs": [],
   "source": [
    "def hinted_quicksort(L,start=0,end=None,known_pivot_indices=[]):\n",
    "    \"\"\"\n",
    "    In-place quicksort that operates on the part of `L`\n",
    "    between index `start` and index `end`, not including\n",
    "    the latter.  If omitted, `start` is taken to be the \n",
    "    start of the list, and `end` is taken to be beyond \n",
    "    the end of the list.\n",
    "\n",
    "    If given, the optional `known_pivot_indices` should be a\n",
    "    list of indices in `L` at which the list is known to \n",
    "    already be partitioned.  There is no guarantee that every\n",
    "    such index is included in that argument, nor that all the\n",
    "    indices given lie between `start` and `end`.\n",
    "    \"\"\""
   ]
  },
  {
   "cell_type": "markdown",
   "metadata": {},
   "source": [
    "You're welcome to freely use of any of the code from `sorts.py` or worksheet 6 as a starting point for your answer.\n",
    "\n",
    "Remember, **do not call `already_partitioned_indices` in your answer to problem 3**.  This problem does not involve *finding* already partitioned indices, but rather it focuses on *using* that kind of information as part of a sorting process."
   ]
  },
  {
   "cell_type": "code",
   "execution_count": 62,
   "metadata": {},
   "outputs": [],
   "source": [
    "# Taken from sorts.py (comments abbreviated)\n",
    "def partition(L, start, end):\n",
    "    \"\"\"\n",
    "    Partition the part of list `L` between indices `start` and `end`\n",
    "    (including `start` but not including `end`) in place, using the\n",
    "    item at index `end-1` as the pivot.\n",
    "    Returns the index where the pivot is after partitioning.\n",
    "    \"\"\"\n",
    "    # scan through `L[start:end]` looking for small items\n",
    "    dst = start\n",
    "    pivot = L[end - 1]\n",
    "\n",
    "    for src in range(start, end):\n",
    "        if L[src] < pivot:\n",
    "            L[src], L[dst] = L[dst], L[src]\n",
    "            dst += 1\n",
    "    L[end - 1], L[dst] = L[dst], L[end - 1]\n",
    "    return dst\n",
    "\n",
    "def hinted_quicksort(L,start=0,end=None,known_pivot_indices=[]):\n",
    "    \"\"\"\n",
    "    In-place quicksort that operates on the part of `L`\n",
    "    between index `start` and index `end`, not including\n",
    "    the latter.  If omitted, `start` is taken to be the \n",
    "    start of the list, and `end` is taken to be beyond \n",
    "    the end of the list.\n",
    "\n",
    "    If given, the optional `known_pivot_indices` should be a\n",
    "    list of indices in `L` at which the list is known to \n",
    "    already be partitioned.  There is no guarantee that every\n",
    "    such index is included in that argument, nor that all the\n",
    "    indices given lie between `start` and `end`.\n",
    "    \"\"\"\n",
    "    # fill in default value of end\n",
    "    if end == None:\n",
    "        end = len(L)\n",
    "\n",
    "    if end - start <= 1: # already sorted\n",
    "        return \n",
    "\n",
    "    # search for known pivot we can use, preferring one close\n",
    "    # to the middle of this part of the list if possible\n",
    "    m = (start + end)//2  # ideal pivot: middle\n",
    "    k = None # best already partitioned index found so far\n",
    "    for i in known_pivot_indices:\n",
    "        if i >= start and i < end: # i lies in the right range\n",
    "            if k == None or abs(i-m) < abs(k-m):\n",
    "                # i is either the first we've seen \n",
    "                # or it's closer to the middle than the\n",
    "                # previous best.  Use it.\n",
    "                k = i\n",
    "\n",
    "    # if no existing partitioned index is found, create one    \n",
    "    if k == None:\n",
    "        k = partition(L, start, end)\n",
    "\n",
    "    # CRITICALLY, after partitioning a part of the list \n",
    "    # that doesn't contain any of the already\n",
    "    # partitioned indices in `known_pivot_indices`,\n",
    "    # all the indices in that list are still valid,\n",
    "    # i.e. the list is still partitioned at them.\n",
    "\n",
    "    # recursion\n",
    "    hinted_quicksort(L, start, k, known_pivot_indices)\n",
    "    hinted_quicksort(L, k + 1, end, known_pivot_indices)\n",
    "\n",
    "    # return\n",
    "    return"
   ]
  },
  {
   "cell_type": "markdown",
   "metadata": {},
   "source": [
    "### Revision history\n",
    "\n",
    "* 2024-02-23 Initial publication"
   ]
  }
 ],
 "metadata": {
  "kernelspec": {
   "display_name": "Python 3 (ipykernel)",
   "language": "python",
   "name": "python3"
  },
  "language_info": {
   "codemirror_mode": {
    "name": "ipython",
    "version": 3
   },
   "file_extension": ".py",
   "mimetype": "text/x-python",
   "name": "python",
   "nbconvert_exporter": "python",
   "pygments_lexer": "ipython3",
   "version": "3.10.12"
  }
 },
 "nbformat": 4,
 "nbformat_minor": 4
}
