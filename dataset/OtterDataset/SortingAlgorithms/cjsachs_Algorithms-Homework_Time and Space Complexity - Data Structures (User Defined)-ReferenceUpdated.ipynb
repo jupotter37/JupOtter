{
 "cells": [
  {
   "cell_type": "markdown",
   "source": [
    "# Time/Space Complexity - Intro to Data Structures (User Defined)\n",
    "\n",
    "### Topics to discuss today:\n",
    "\n",
    "<ul>\n",
    "    <li>Time and Space Complexity - What is it/How do we measure it</li>\n",
    "    <li>Asymptotic Analysis</li>\n",
    "    <li><strong>Data Structures</strong></li>\n",
    "    <li>Some of the popular sorting algorithms</li>\n",
    "</ul>\n",
    "\n",
    "### Data Structures to discuss:\n",
    "- Arrays\n",
    "- Stacks\n",
    "- Queues\n",
    "- Linked Lists\n",
    "    - Singly Linked Lists\n",
    "    - Traversing A Linked List\n",
    "    - Finding a node in a linked list\n",
    "    - Adding to a linked list\n"
   ],
   "metadata": {}
  },
  {
   "cell_type": "markdown",
   "source": [
    "## Time and Space Complexity\n",
    "\n",
    "#### What is it?\n",
    "\n",
    "Time and space complexity is the measure of how much time a given action(function) will take to solve a problem. In the same fashion, we determine how much a given data structure will need in terms of memory allocation. A problem can have multiple solutions and finding the optimal solution for the problem needs to be analyzed in time and space.\n",
    "\n",
    "#### How do we measure Time and Space Complexity?\n",
    "\n",
    "In order to measure time and space complexity we use Asymptotic analysis. The reason for this is because we need a way to measure different algorithms (functions) based on the size of their inputs in a mathmatical way. For example, we could have a function that is computed as f(n) and another that is g(n^2). All things around the function staying constant, the only thing that changes is the size of the input. Below is the chart that shows the different Asymptotic analysis formats. "
   ],
   "metadata": {}
  },
  {
   "cell_type": "markdown",
   "source": [
    "<table style=\"text-align:center;\" class=\"table table-bordered\">\n",
    "<tbody><tr>\n",
    "<td>constant</td>\n",
    "<td>−</td>\n",
    "<td>Ο(1)</td>\n",
    "</tr>\n",
    "<tr>\n",
    "<td>logarithmic</td>\n",
    "<td>−</td>\n",
    "<td>Ο(log n)</td>\n",
    "</tr>\n",
    "<tr>\n",
    "<td>linear</td>\n",
    "<td>−</td>\n",
    "<td>Ο(n)</td>\n",
    "</tr>\n",
    "<tr>\n",
    "<td>Linear Logarithmic</td>\n",
    "<td>−</td>\n",
    "<td>Ο(n log n)</td>\n",
    "</tr>\n",
    "<tr>\n",
    "<td>quadratic</td>\n",
    "<td>−</td>\n",
    "<td>Ο(n<sup>2</sup>)</td>\n",
    "</tr>\n",
    "<tr>\n",
    "<td>cubic</td>\n",
    "<td>−</td>\n",
    "<td>Ο(n<sup>3</sup>)</td>\n",
    "</tr>\n",
    "<tr>\n",
    "<td>polynomial</td>\n",
    "<td>−</td>\n",
    "<td>n<sup>Ο(1)</sup></td>\n",
    "</tr>\n",
    "<tr>\n",
    "<td>exponential</td>\n",
    "<td>−</td>\n",
    "<td>2<sup>Ο(n)</sup></td>\n",
    "</tr>\n",
    "</tbody></table>"
   ],
   "metadata": {}
  },
  {
   "cell_type": "code",
   "execution_count": null,
   "source": [
    "# Time/Space Complexity\r\n",
    "\r\n",
    "# Big-O notation: worst-case performance: O(__)\r\n",
    "# Theta notation: average case performane: Θ(__)\r\n",
    "# Omega notation: best case performance: Ω(__)"
   ],
   "outputs": [],
   "metadata": {}
  },
  {
   "cell_type": "code",
   "execution_count": 5,
   "source": [
    "# as we use Asymptotic Analysis to analyze the time and/or space complexity of our code\r\n",
    "# we simplify out things taht do not exponentially increase the complexity of our worse-performing piece of code\r\n",
    "# in other words:\r\n",
    "# n*n = n**2\r\n",
    "\r\n",
    "# for loop\r\n",
    "steps = 0 # counts the number of steps\r\n",
    "for i in range(10): # O(n) linear time complexity for a single for loop\r\n",
    "    steps += 1\r\n",
    "\r\n",
    "print(f\"single for loop through range({x}): {steps} steps\")\r\n",
    "\r\n",
    "# nested for loop - linear process occuring in ful each step of a linear process -> n*n -> O(n^2)\r\n",
    "steps = 0 # counts the number of steps\r\n",
    "x = 10\r\n",
    "for i in range(x): # O(n) linear time complexity for a single for loop\r\n",
    "    for i in range(x): # O(n)\r\n",
    "        steps += 1\r\n",
    "\r\n",
    "print(f\"nested for loop through range({x}: {steps} steps\")\r\n",
    "\r\n",
    "# two seperate for loops\r\n",
    "steps = 0 # counts the number of steps\r\n",
    "x = 10\r\n",
    "for i in range(x): # O(n) linear time complexity for a single for loop\r\n",
    "    steps += 1\r\n",
    "for i in range(x): # O(n)\r\n",
    "    steps += 1\r\n",
    "\r\n",
    "print(f\"nested for loop through range({x}: {steps} steps\")\r\n",
    "\r\n",
    "\r\n"
   ],
   "outputs": [
    {
     "output_type": "stream",
     "name": "stdout",
     "text": [
      "single for loop through range(10): 10 steps\n",
      "nested for loop through range(10: 100 steps\n",
      "nested for loop through range(10: 20 steps\n"
     ]
    }
   ],
   "metadata": {}
  },
  {
   "cell_type": "code",
   "execution_count": null,
   "source": [
    "# A good example of a specific choice made to increase efficiency\r\n",
    "# It is in my cart?\r\n",
    "\r\n",
    "# My cart is a list of procucts. I want to keep it a list so that I can have duplicates or sort iot.\r\n",
    "# I can do two things here:\r\n",
    "#1. the simpler but less efficient solution\r\n",
    "\r\n",
    "my_cart = [x for x in range(100)]\r\n",
    "print(my_cart)\r\n",
    "if 77 in my_cart: # membership test in a list -> O(n)\r\n",
    "    print(\"hello\")\r\n",
    "\r\n",
    "# assuming my cart exists\r\n",
    "# and I want to add something to it\r\n",
    "if 99 in my_cart:\r\n",
    "    print(\"hello\")\r\n",
    "else:\r\n",
    "    my_cart.append(\"woo\")\r\n",
    "\r\n",
    "\r\n",
    "#2. we can make a choice to use more memory to reduce our time complexity\r\n",
    "# a membership test in a set is a constant time operation\r\n",
    "# so, if I maintain a cart set in addition to my cart list, I can make my checking process overall O(1)\r\n",
    "my_cart = [x for x in range(100)]\r\n",
    "cart_set = set(my_cart) # O(n) additional memory to maintain this set\r\n",
    "\r\n",
    "# my process once the cart exists\r\n",
    "if 99 in cart_set:\r\n",
    "    print(\"hello\")\r\n",
    "else:\r\n",
    "    my_cart.append(99)\r\n",
    "    cart_set.add(99)\r\n",
    "\r\n",
    "# by maintaining a cart set alongside my cart list, I've transferred some of the workload of my code\r\n",
    "# from the runtime (time complexity went from O(n) to O(1)) to the memory (memory space used went from n to 2n)"
   ],
   "outputs": [],
   "metadata": {}
  },
  {
   "cell_type": "markdown",
   "source": [
    "## Arrays"
   ],
   "metadata": {}
  },
  {
   "cell_type": "markdown",
   "source": [
    "In python we benefit from the dynamic array which means the block of memory will expand as needed for the given input to the array. In traditional arrays (depending on the type of operating system) we will usually store our inputs in 4 or 8 consecutive blocks of memory. Below is a diagram of how that looks under the hood:\n",
    "\n",
    "<img src=\"http://www.mathcs.emory.edu/~cheung/Courses/170/Syllabus/09/FIGS/array02x.gif\" style=\"height:250px; width:350px;\">"
   ],
   "metadata": {}
  },
  {
   "cell_type": "markdown",
   "source": [
    "## Which in python looks like this:"
   ],
   "metadata": {}
  },
  {
   "cell_type": "code",
   "execution_count": null,
   "source": [],
   "outputs": [],
   "metadata": {}
  },
  {
   "cell_type": "markdown",
   "source": [
    "### Let's take a look at some of the time and space analysis of arrays"
   ],
   "metadata": {}
  },
  {
   "cell_type": "code",
   "execution_count": null,
   "source": [
    "# Indexing an Array(list)\r\n",
    " # Constant Time and Space - O(1)\r\n",
    "\r\n",
    "# Searching through an array(list)\r\n",
    "# Linear Time - O(n) Constant Space - O(1)\r\n",
    "\r\n",
    "    \r\n",
    "# Copying an array\r\n",
    "# Linear Time - O(n) AND Linear Space - O(n)\r\n",
    "\r\n",
    "\r\n",
    "# Setting an index in an array(list)\r\n",
    "# Constant Time AND Constant Space - O(1)\r\n"
   ],
   "outputs": [],
   "metadata": {}
  },
  {
   "cell_type": "markdown",
   "source": [
    "## Stacks and Queues\n",
    "\n",
    "** Stacks ** as the name suggests is a data structure that allows for data to follow the Last In First Out priciple(LIFO). Think of a stack of pancakes for example. To get the first pancake you would  start with the top and go down.\n",
    "\n",
    "##### Searching through a stack will be Linear Time O(n) - Constant Space O(1)\n",
    "##### Selecting the last item will be done in Constant Time O(1) - Constant Space O(1)\n",
    "##### Adding to the stack should take Constant Time O(1) - Constant Space O(1)\n",
    "\n",
    "** Queues ** are similar but in this case follow the First In First Out principle(FIFO). Think of this as a line in a black friday sale. The first person camped out for the big screen tv is the first to get it.\n",
    "\n",
    "##### Searching through a queue will be Linear Time O(n) - Constant Space O(1)\n",
    "##### Selecting the first item will be done in Constant Time O(1) - Constant Space O(1)\n",
    "##### Adding to the queue should take Constant Time O(1) - Constant Space O(1)"
   ],
   "metadata": {}
  },
  {
   "cell_type": "code",
   "execution_count": null,
   "source": [],
   "outputs": [],
   "metadata": {}
  },
  {
   "cell_type": "markdown",
   "source": [
    "## Linked List (Data Structure)\n",
    "\n",
    "A linked list is created by using the node class. We create a Node object and create another class to use this node object. We pass the appropriate values thorugh the node object to point the to the next data elements.\n",
    "\n",
    "There are some advantages and disadvantages with this data structure. **Advantages** Linked Lists can save memory because they can be flexibile with memory management which saves memory. **Disadvantages** Finding or adding to the list requires traversing the entire list."
   ],
   "metadata": {}
  },
  {
   "cell_type": "code",
   "execution_count": null,
   "source": [
    "# A Complete Implementation of a linkedlist\n",
    "\n",
    "# 2 components to this solution -- A Node Class and the LinkedList class\n",
    "\n",
    "class Node():\n",
    "    def __init__(self,value):\n",
    "        self.value = value\n",
    "        self.next = None\n",
    "        \n",
    "class LinkedList():\n",
    "    def __init__(self):\n",
    "        self.head = None\n",
    "        \n",
    "    def pushOn(self,new_value):\n",
    "        new_node = Node(new_value)\n",
    "        new_node.next = self.head\n",
    "        self.head = new_node\n",
    "    def insertAfter(self,prev_node,new_value):\n",
    "        # Check if the previous node even exists\n",
    "        if prev_node is None:\n",
    "            print(\"The given previous node must not be empty!\")\n",
    "            return\n",
    "        # IF the Node is not empty then create a new node\n",
    "        new_node = Node(new_value)\n",
    "        \n",
    "        # Update the previous node's next pointer to point to the new value\n",
    "        new_node.next = prev_node.next\n",
    "        \n",
    "        # Update the previous node to point to the new node's value\n",
    "        prev_node.next = new_node\n",
    "    \n",
    "    # This method will append a new node to the END of the linkedlist\n",
    "    def append(self,new_value):\n",
    "        # Create New Node with a new value\n",
    "        new_node = Node(new_value)\n",
    "        \n",
    "        #Check if the LinkedList is empty\n",
    "        #And if it is, make THIS new node the head node(beginning of the list)\n",
    "        if self.head is None:\n",
    "            self.head = new_node\n",
    "            \n",
    "        #BUT if the list is NOT empty - traverse to the end\n",
    "        # and add the NEW value to the end of the list\n",
    "        \n",
    "        last = self.head\n",
    "        \n",
    "        #While last.next is not None -> continue to loop until we find a None value\n",
    "        while(last.next):\n",
    "            last = last.next\n",
    "        # Change current last node value to point to the NEW value\n",
    "        last.next = new_node\n",
    "        \n",
    "    def traverse(self):\n",
    "        temp = self.head\n",
    "        # while temp is NOT None -> keep looping through the links until you reach a None Value\n",
    "        while(temp):\n",
    "            print(temp.value)\n",
    "            temp = temp.next\n",
    "            \n",
    "weekdays_links = LinkedList()\n",
    "\n",
    "# Insert a new day into the list\n",
    "weekdays_links.pushOn('Mon')\n",
    "weekdays_links.append('Tues')\n",
    "weekdays_links.append('Thurs')\n",
    "weekdays_links.insertAfter(weekdays_links.head.next,\"Wed\")\n",
    "weekdays_links.traverse()"
   ],
   "outputs": [],
   "metadata": {}
  }
 ],
 "metadata": {
  "kernelspec": {
   "name": "python3",
   "display_name": "Python 3.9.6 64-bit"
  },
  "language_info": {
   "codemirror_mode": {
    "name": "ipython",
    "version": 3
   },
   "file_extension": ".py",
   "mimetype": "text/x-python",
   "name": "python",
   "nbconvert_exporter": "python",
   "pygments_lexer": "ipython3",
   "version": "3.9.6"
  },
  "interpreter": {
   "hash": "57990f1ad2ea89c67ddae7f31d40c478205c5912da0fccfb7c5cfbb2b8bf17ad"
  }
 },
 "nbformat": 4,
 "nbformat_minor": 2
}