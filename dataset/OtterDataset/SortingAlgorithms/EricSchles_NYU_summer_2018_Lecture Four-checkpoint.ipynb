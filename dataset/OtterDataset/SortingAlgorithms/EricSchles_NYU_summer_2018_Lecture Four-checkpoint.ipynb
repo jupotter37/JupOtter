{
 "cells": [
  {
   "cell_type": "markdown",
   "metadata": {},
   "source": [
    "# The power of Recursion - sorting, multiplication\n",
    "\n",
    "Last lecture we saw the power of recursion.  Now we'll see even more examples!\n",
    "\n",
    "Today's lecture will focus on:\n",
    "\n",
    "* sorting\n",
    "    * merge sort\n",
    "    * quick sort\n",
    "* multiplication\n",
    "    * karatsuba multiplication\n",
    "    \n",
    "\n",
    "## What is sorting?\n",
    "\n",
    "Sorting a list means putting the elements in increasing or decreasing order.  Nothing fancy here.  Turns out this is really hard to do efficiently.  So lots of folks have worked really hard on figuring this out."
   ]
  },
  {
   "cell_type": "code",
   "execution_count": 3,
   "metadata": {},
   "outputs": [
    {
     "name": "stdout",
     "output_type": "stream",
     "text": [
      "[10, 9, 8, 7, 6, 5, 4, 3, 2, 1]\n",
      "[1, 2, 3, 4, 5, 6, 7, 8, 9, 10]\n"
     ]
    }
   ],
   "source": [
    "listing = list(range(10,0,-1))\n",
    "print(listing)\n",
    "listing.sort()\n",
    "print(listing)"
   ]
  },
  {
   "cell_type": "code",
   "execution_count": 4,
   "metadata": {},
   "outputs": [
    {
     "name": "stdout",
     "output_type": "stream",
     "text": [
      "[8, 20, 2, 14, 2, 0, 20, 19, 5, 9]\n",
      "[0, 2, 2, 5, 8, 9, 14, 19, 20, 20]\n"
     ]
    }
   ],
   "source": [
    "import random\n",
    "\n",
    "listing = [random.randint(0,20) for _ in range(10)]\n",
    "print(listing)\n",
    "listing.sort()\n",
    "print(listing)"
   ]
  },
  {
   "cell_type": "code",
   "execution_count": 20,
   "metadata": {},
   "outputs": [
    {
     "name": "stdout",
     "output_type": "stream",
     "text": [
      "[10, 9, 8, 7, 6, 5, 4, 3, 2, 10, 5]\n"
     ]
    },
    {
     "data": {
      "text/plain": [
       "[2, 3, 4, 5, 5, 6, 7, 8, 9, 10, 10]"
      ]
     },
     "execution_count": 20,
     "metadata": {},
     "output_type": "execute_result"
    }
   ],
   "source": [
    "def merge(list_one, list_two):\n",
    "    final_list = []\n",
    "    index_one, index_two = 0, 0\n",
    "    while index_one < len(list_one) and index_two < len(list_two):\n",
    "        if list_one[index_one] < list_two[index_two]:\n",
    "            final_list.append(list_one[index_one])\n",
    "            index_one += 1\n",
    "        else:\n",
    "            final_list.append(list_two[index_two])\n",
    "            index_two += 1\n",
    "    while index_one < len(list_one):\n",
    "        final_list.append(list_one[index_one])\n",
    "        index_one += 1\n",
    "    while index_two < len(list_two):\n",
    "        final_list.append(list_two[index_two])\n",
    "        index_two += 1\n",
    "    return final_list\n",
    "\n",
    "\n",
    "def mergesort(listing):\n",
    "    if len(listing) <= 1:\n",
    "        return listing\n",
    "    else:\n",
    "        mid_point = len(listing)//2\n",
    "        left_list = mergesort(listing[:mid_point])\n",
    "        right_list = mergesort(listing[mid_point:])\n",
    "        return merge(left_list, right_list)\n",
    "\n",
    "\n",
    "listing = list(range(10, 1, -1)) + [10] + [5]\n",
    "print(listing)\n",
    "mergesort(listing)"
   ]
  },
  {
   "cell_type": "markdown",
   "metadata": {},
   "source": [
    "Here we see our first sorting algorithm `mergesort` - it has a running of time `O(n log n)`.  Which is pretty great!  Mergesort can be a little confusing to understand.  Let's start by understanding the merge step in isolation."
   ]
  },
  {
   "cell_type": "code",
   "execution_count": 22,
   "metadata": {},
   "outputs": [
    {
     "data": {
      "text/plain": [
       "[6, 5, 4, 3, 2, 10, 9, 8, 7]"
      ]
     },
     "execution_count": 22,
     "metadata": {},
     "output_type": "execute_result"
    }
   ],
   "source": [
    "def merge(list_one, list_two):\n",
    "    final_list = []\n",
    "    index_one, index_two = 0, 0\n",
    "    while index_one < len(list_one) and index_two < len(list_two):\n",
    "        if list_one[index_one] < list_two[index_two]:\n",
    "            final_list.append(list_one[index_one])\n",
    "            index_one += 1\n",
    "        else:\n",
    "            final_list.append(list_two[index_two])\n",
    "            index_two += 1\n",
    "    while index_one < len(list_one):\n",
    "        final_list.append(list_one[index_one])\n",
    "        index_one += 1\n",
    "    while index_two < len(list_two):\n",
    "        final_list.append(list_two[index_two])\n",
    "        index_two += 1\n",
    "    return final_list\n",
    "\n",
    "listing = list(range(10, 1, -1))\n",
    "mid_point = len(listing)//2\n",
    "\n",
    "merge(listing[:mid_point], listing[mid_point:])"
   ]
  },
  {
   "cell_type": "markdown",
   "metadata": {},
   "source": [
    "So clearly the merge step, kind of orders our arrays and merges them together.  Next let's look at how the recursion effects this."
   ]
  },
  {
   "cell_type": "code",
   "execution_count": 29,
   "metadata": {},
   "outputs": [
    {
     "name": "stdout",
     "output_type": "stream",
     "text": [
      "[10, 9, 8, 7, 6, 5, 4, 3, 2]\n",
      "[10, 9, 8, 7]\n",
      "[10, 9]\n",
      "[10]\n",
      "[9]\n",
      "[9, 10]\n",
      "[8, 7]\n",
      "[8]\n",
      "[7]\n",
      "[7, 8]\n",
      "[7, 8, 9, 10]\n",
      "[6, 5, 4, 3, 2]\n",
      "[6, 5]\n",
      "[6]\n",
      "[5]\n",
      "[5, 6]\n",
      "[4, 3, 2]\n",
      "[4]\n",
      "[3, 2]\n",
      "[3]\n",
      "[2]\n",
      "[2, 3]\n",
      "[2, 3, 4]\n",
      "[2, 3, 4, 5, 6]\n",
      "[2, 3, 4, 5, 6, 7, 8, 9, 10]\n"
     ]
    },
    {
     "data": {
      "text/plain": [
       "[2, 3, 4, 5, 6, 7, 8, 9, 10]"
      ]
     },
     "execution_count": 29,
     "metadata": {},
     "output_type": "execute_result"
    }
   ],
   "source": [
    "def merge(list_one, list_two):\n",
    "    final_list = []\n",
    "    index_one, index_two = 0, 0\n",
    "    while index_one < len(list_one) and index_two < len(list_two):\n",
    "        if list_one[index_one] < list_two[index_two]:\n",
    "            final_list.append(list_one[index_one])\n",
    "            index_one += 1\n",
    "        else:\n",
    "            final_list.append(list_two[index_two])\n",
    "            index_two += 1\n",
    "    while index_one < len(list_one):\n",
    "        final_list.append(list_one[index_one])\n",
    "        index_one += 1\n",
    "    while index_two < len(list_two):\n",
    "        final_list.append(list_two[index_two])\n",
    "        index_two += 1\n",
    "    return final_list\n",
    "\n",
    "\n",
    "def mergesort(listing):\n",
    "    print(listing)\n",
    "    if len(listing) <= 1:\n",
    "        return listing\n",
    "    else:\n",
    "        mid_point = len(listing)//2\n",
    "        left_list = mergesort(listing[:mid_point])\n",
    "        right_list = mergesort(listing[mid_point:])\n",
    "        result = merge(left_list, right_list)\n",
    "        print(result)\n",
    "        return result\n",
    "\n",
    "listing = list(range(10, 1, -1))\n",
    "mergesort(listing)"
   ]
  },
  {
   "cell_type": "markdown",
   "metadata": {},
   "source": [
    "It might be a little hard to understand what's happening here, but basically the recursive steps unravel the list until it is a bunch of little single element lists and then each of this little lists is stitched back together with the merge routinue.\n",
    "\n",
    "What usually appears unclear, is how does the algorithm know what to stitch back up and how?  Well it turns out when you strip things down, you can make certain assumptions:\n",
    "\n",
    "1. The element in one singleton list will be either bigger, smaller or the same size as the element in the other singleton list.\n",
    "2. The assumptions for singleton lists can be replaced by arrays, assuming all the elements within each list to be merged are themselves sorted.\n",
    "\n",
    "To really understand this, let's look at how merge works with two already sorted lists.\n"
   ]
  },
  {
   "cell_type": "code",
   "execution_count": 30,
   "metadata": {},
   "outputs": [
    {
     "data": {
      "text/plain": [
       "[1, 2, 3, 3, 4, 4, 5, 6]"
      ]
     },
     "execution_count": 30,
     "metadata": {},
     "output_type": "execute_result"
    }
   ],
   "source": [
    "def merge(list_one, list_two):\n",
    "    final_list = []\n",
    "    index_one, index_two = 0, 0\n",
    "    while index_one < len(list_one) and index_two < len(list_two):\n",
    "        if list_one[index_one] < list_two[index_two]:\n",
    "            final_list.append(list_one[index_one])\n",
    "            index_one += 1\n",
    "        else:\n",
    "            final_list.append(list_two[index_two])\n",
    "            index_two += 1\n",
    "    while index_one < len(list_one):\n",
    "        final_list.append(list_one[index_one])\n",
    "        index_one += 1\n",
    "    while index_two < len(list_two):\n",
    "        final_list.append(list_two[index_two])\n",
    "        index_two += 1\n",
    "    return final_list\n",
    "\n",
    "list_one = list(range(1, 5))\n",
    "list_two = list(range(3, 7))\n",
    "\n",
    "merge(list_one, list_two)"
   ]
  },
  {
   "cell_type": "code",
   "execution_count": 5,
   "metadata": {},
   "outputs": [
    {
     "data": {
      "text/plain": [
       "[154, 223]"
      ]
     },
     "execution_count": 5,
     "metadata": {},
     "output_type": "execute_result"
    }
   ],
   "source": [
    "import random\n",
    "\n",
    "def merge(list_one, list_two):\n",
    "    final_list = []\n",
    "    index_one, index_two = 0, 0\n",
    "    while index_one < len(list_one) and index_two < len(list_two):\n",
    "        if list_one[index_one] < list_two[index_two]:\n",
    "            final_list.append(list_one[index_one])\n",
    "            index_one += 1\n",
    "        else:\n",
    "            final_list.append(list_two[index_two])\n",
    "            index_two += 1\n",
    "    while index_one < len(list_one):\n",
    "        final_list.append(list_one[index_one])\n",
    "        index_one += 1\n",
    "    while index_two < len(list_two):\n",
    "        final_list.append(list_two[index_two])\n",
    "        index_two += 1\n",
    "    return final_list\n",
    "\n",
    "\n",
    "def to_singleton(listing):\n",
    "    return [[elem] for elem in listing]\n",
    "\n",
    "listing = [random.randint(0,1000) for _ in range(15)]\n",
    "singletons = to_singleton(listing)\n",
    "merge(singletons[0], singletons[1])\n",
    "# todo - finish out the iterative version of this"
   ]
  },
  {
   "cell_type": "markdown",
   "metadata": {},
   "source": [
    "As you can clearly see, the lists successfully get merged in \"overall\" sorted order.  So now it should be clear how the algorithm works - It bootstraps itself.\n",
    "\n",
    "1. it breaks everything down, because it assumes in the worst case nothing is sorted. \n",
    "2. it creates tiny little lists that it knows are sorted and then stitches them together.\n",
    "3. once it knows all the little lists are stitched together correctly it stitches larger and larger lists together until there is only one list.\n",
    "\n",
    "Now let's look at quicksort!"
   ]
  },
  {
   "cell_type": "code",
   "execution_count": 6,
   "metadata": {},
   "outputs": [
    {
     "data": {
      "text/plain": [
       "[1, 2]"
      ]
     },
     "execution_count": 6,
     "metadata": {},
     "output_type": "execute_result"
    }
   ],
   "source": [
    "[1] + [2]"
   ]
  },
  {
   "cell_type": "code",
   "execution_count": 7,
   "metadata": {},
   "outputs": [
    {
     "data": {
      "text/plain": [
       "[1, 2, 3, 4]"
      ]
     },
     "execution_count": 7,
     "metadata": {},
     "output_type": "execute_result"
    }
   ],
   "source": [
    "list_one = [1,2]\n",
    "list_two = [3,4]\n",
    "list_one + list_two"
   ]
  },
  {
   "cell_type": "code",
   "execution_count": 31,
   "metadata": {},
   "outputs": [
    {
     "data": {
      "text/plain": [
       "[2, 3, 4, 5, 6, 7, 8, 9, 10]"
      ]
     },
     "execution_count": 31,
     "metadata": {},
     "output_type": "execute_result"
    }
   ],
   "source": [
    "def quick_sort(alist):\n",
    "    if len(alist) <= 1:\n",
    "        return alist\n",
    "    else:\n",
    "        less = []\n",
    "        equal = []\n",
    "        greater = []\n",
    "        \n",
    "        pivot = alist[0]\n",
    "        \n",
    "        for i in alist:\n",
    "            if i < pivot:\n",
    "                less.append(i)\n",
    "            elif i == pivot:\n",
    "                equal.append(i)\n",
    "            else:\n",
    "                greater.append(i)\n",
    "        return quick_sort(less)+equal+quick_sort(greater)\n",
    "    \n",
    "listing = list(range(10, 1, -1))\n",
    "quick_sort(listing)"
   ]
  },
  {
   "cell_type": "markdown",
   "metadata": {},
   "source": [
    "The `quicksort` algorithm is pretty close to the merge sort algorithm - the fundamental structure is the same:\n",
    "\n",
    "1. break up our lists until little lists with recursion\n",
    "2. stitch everything back together once the smaller lists are all sorted\n",
    "\n",
    "The big difference here is how the recursion happens.  Quicksort introduces the idea of a \"pivot\" element so the algorithm keeps track of this for each step when it's deciding where to put things - in the left sublist or the right sublist.  \n",
    "\n",
    "This \"tends\" to lead to performance improvements, but not always.  When we choose our pivot well, we _do_ get a performance improvement, but when we choose it poorly, we don't.\n",
    "\n",
    "So what's a good pivot and what's a bad pivot?\n",
    "\n",
    "A good pivot is one that splits our left and right sublists as equally as possible.  Notice here we choose the first value of our passed in list as the pivot.  So as we get closer and closer to a sorted list, this is an increasingly worse choice.\n",
    "\n",
    "For highly non-sorted lists, of course this is fine, because it's essentially random.  But as we gain more and more information about our list, choosing the first element will mean we are going to do worse and worse.\n",
    "\n",
    "So how do we improve?  By recovering that randomness of course!"
   ]
  },
  {
   "cell_type": "code",
   "execution_count": 12,
   "metadata": {},
   "outputs": [
    {
     "data": {
      "text/plain": [
       "13"
      ]
     },
     "execution_count": 12,
     "metadata": {},
     "output_type": "execute_result"
    }
   ],
   "source": [
    "from random import choice\n",
    "\n",
    "listing = list(range(20))\n",
    "choice(listing)"
   ]
  },
  {
   "cell_type": "code",
   "execution_count": 32,
   "metadata": {},
   "outputs": [
    {
     "data": {
      "text/plain": [
       "[2, 3, 4, 5, 6, 7, 8, 9, 10]"
      ]
     },
     "execution_count": 32,
     "metadata": {},
     "output_type": "execute_result"
    }
   ],
   "source": [
    "from random import choice\n",
    "\n",
    "def quick_sort(alist):\n",
    "    if len(alist) <= 1:\n",
    "        return alist\n",
    "    else:\n",
    "        less = []\n",
    "        equal = []\n",
    "        greater = []\n",
    "        \n",
    "        pivot = choice(alist)\n",
    "        \n",
    "        for i in alist:\n",
    "            if i < pivot:\n",
    "                less.append(i)\n",
    "            elif i == pivot:\n",
    "                equal.append(i)\n",
    "            else:\n",
    "                greater.append(i)\n",
    "        return quick_sort(less)+equal+quick_sort(greater)\n",
    "    \n",
    "listing = list(range(10, 1, -1))\n",
    "quick_sort(listing)"
   ]
  },
  {
   "cell_type": "markdown",
   "metadata": {},
   "source": [
    "The choice function, which we get from the random module allows us to choose a random element the entire time.  This means as we continue to move towards a more ordered set or lists, we retain our intelligent choosing of our pivot.  Or at least we guarantee we don't choose the worst pivot, most of the time.\n",
    "\n",
    "It's only a one line change, but it makes a ton of difference in practice.\n",
    "\n",
    "# Recursion is pretty cool - what else can it do?!\n",
    "\n",
    "So we've talked about multiplication a little so far -\n",
    "\n",
    "Remember this terrible example from lecture one?"
   ]
  },
  {
   "cell_type": "code",
   "execution_count": 14,
   "metadata": {},
   "outputs": [
    {
     "data": {
      "text/plain": [
       "12"
      ]
     },
     "execution_count": 14,
     "metadata": {},
     "output_type": "execute_result"
    }
   ],
   "source": [
    "# TODO multiplication 2\n",
    "def multiply_two(a, b):\n",
    "    result = 0\n",
    "    for _ in range(0, b):\n",
    "        result += a\n",
    "    return result\n",
    "\n",
    "multiply_two(3, 4)"
   ]
  },
  {
   "cell_type": "markdown",
   "metadata": {},
   "source": [
    "While it \"works\", at least for integers, as we saw in lecture 3, it doesn't even work all the time!!! (Like when we deal with floating point numbers).  \n",
    "\n",
    "But if this isn't the \"right\" thing to do, what could be?  Well turns out we can apply recursion to this problem too and we'll get a surprisingly power and fast solution.\n",
    "\n",
    "## Enter Karatsuba Multiplication\n",
    "\n",
    "This might be my favorite algorithm.  Mostly because it taught me something I didn't think I could possibly learn:\n",
    "\n",
    "A new way to do multiplication.\n",
    "\n",
    "With out further a do!"
   ]
  },
  {
   "cell_type": "code",
   "execution_count": null,
   "metadata": {},
   "outputs": [],
   "source": [
    "54 * 13 = 162 + 540"
   ]
  },
  {
   "cell_type": "code",
   "execution_count": 13,
   "metadata": {},
   "outputs": [
    {
     "name": "stdout",
     "output_type": "stream",
     "text": [
      "True\n",
      "True\n",
      "True\n",
      "True\n",
      "True\n"
     ]
    }
   ],
   "source": [
    "import math\n",
    "\n",
    "\n",
    "def karatsuba(x, y):\n",
    "    len_x, len_y = len(str(x)), len(str(y))\n",
    "    if len_x == 1 or len_y == 1:\n",
    "        return x * y\n",
    "    else:\n",
    "        exp = min(int(math.ceil(len_x/2)), int(math.ceil(len_y/2)))\n",
    "        mid_x = len_x-exp\n",
    "        mid_y = len_y-exp\n",
    "        a,b = str(x)[:mid_x], str(x)[mid_x:]\n",
    "        a,b = int(a), int(b)\n",
    "        c,d = str(y)[:mid_y], str(y)[mid_y:]\n",
    "        c,d = int(c), int(d)\n",
    "        first_term = karatsuba(a, c)\n",
    "        third_term = karatsuba(b, d)\n",
    "        second_term = karatsuba(a+b, c+d) - first_term - third_term\n",
    "        return math.pow(10, 2*exp)*first_term + math.pow(10, exp)*second_term + third_term\n",
    "\n",
    "    \n",
    "multiply = karatsuba\n",
    "print(50*50 == multiply(50,50))\n",
    "print(25*25 == multiply(25,25))\n",
    "print(1151*1151 == multiply(1151,1151))\n",
    "print(251*251 == multiply(251,251))\n",
    "print(151*202 == multiply(151,202))"
   ]
  },
  {
   "cell_type": "markdown",
   "metadata": {},
   "source": [
    "So how much better does Karatsuba multiplication do, before we even bother with understanding it - "
   ]
  },
  {
   "cell_type": "code",
   "execution_count": 42,
   "metadata": {},
   "outputs": [
    {
     "name": "stdout",
     "output_type": "stream",
     "text": [
      "(0.0010613916635513305, 3.754181861877442e-05)\n",
      "(0.00043017495493454297, 1.0590719833501964e-05)\n"
     ]
    }
   ],
   "source": [
    "import random\n",
    "import time\n",
    "import statistics as st\n",
    "\n",
    "result_iter = []\n",
    "result_karat = []\n",
    "for _ in range(10000):\n",
    "    first = random.randint(10000, 50000)\n",
    "    second = random.randint(10000, 50000)\n",
    "    start = time.time()\n",
    "    multiply_two(first, second)\n",
    "    result_iter.append(time.time() - start)\n",
    "    start = time.time()\n",
    "    multiply(first, second)\n",
    "    result_karat.append(time.time() - start)\n",
    "\n",
    "print((st.mean(result_iter), st.mean(result_karat)))\n",
    "print((st.stdev(result_iter), st.stdev(result_karat)))"
   ]
  },
  {
   "cell_type": "code",
   "execution_count": 15,
   "metadata": {},
   "outputs": [
    {
     "name": "stdout",
     "output_type": "stream",
     "text": [
      "(1.0086917877197266e-05, 1.6711950302124023e-05)\n",
      "(7.515855787131397e-06, 3.0263598094286423e-05)\n"
     ]
    }
   ],
   "source": [
    "import random\n",
    "import time\n",
    "import statistics as st\n",
    "\n",
    "result_iter = []\n",
    "result_karat = []\n",
    "for _ in range(10000):\n",
    "    first = random.randint(100, 500)\n",
    "    second = random.randint(100, 500)\n",
    "    start = time.time()\n",
    "    multiply_two(first, second)\n",
    "    result_iter.append(time.time() - start)\n",
    "    start = time.time()\n",
    "    multiply(first, second)\n",
    "    result_karat.append(time.time() - start)\n",
    "\n",
    "print((st.mean(result_iter), st.mean(result_karat)))\n",
    "print((st.stdev(result_iter), st.stdev(result_karat)))"
   ]
  },
  {
   "cell_type": "markdown",
   "metadata": {},
   "source": [
    "For small numbers, the timing will obviously be comparable.  But!  As the magnitude of our numbers increases the iterative approach begins to suffer as illustrated above.  So, now we have a good sense that recursive solution is certainly faster!"
   ]
  }
 ],
 "metadata": {
  "kernelspec": {
   "display_name": "Python 3",
   "language": "python",
   "name": "python3"
  },
  "language_info": {
   "codemirror_mode": {
    "name": "ipython",
    "version": 3
   },
   "file_extension": ".py",
   "mimetype": "text/x-python",
   "name": "python",
   "nbconvert_exporter": "python",
   "pygments_lexer": "ipython3",
   "version": "3.6.3"
  }
 },
 "nbformat": 4,
 "nbformat_minor": 2
}
