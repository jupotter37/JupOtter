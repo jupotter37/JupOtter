{
 "cells": [
  {
   "attachments": {},
   "cell_type": "markdown",
   "metadata": {},
   "source": [
    "# Generics\n",
    "\n",
    "## Generic class"
   ]
  },
  {
   "cell_type": "code",
   "execution_count": 6,
   "metadata": {
    "dotnet_interactive": {
     "language": "csharp"
    },
    "polyglot_notebook": {
     "kernelName": "csharp"
    },
    "vscode": {
     "languageId": "polyglot-notebook"
    }
   },
   "outputs": [
    {
     "name": "stdout",
     "output_type": "stream",
     "text": [
      "Item added to the repository.\r\n"
     ]
    }
   ],
   "source": [
    "public class Repository<T>\n",
    "{\n",
    "    private List<T> items = new List<T>();\n",
    "\n",
    "    public void Add(T item)\n",
    "    {\n",
    "        items.Add(item);\n",
    "        Console.WriteLine(\"Item added to the repository.\");\n",
    "    }\n",
    "\n",
    "    public void Remove(T item)\n",
    "    {\n",
    "        items.Remove(item);\n",
    "        Console.WriteLine(\"Item removed from the repository.\");\n",
    "    }\n",
    "\n",
    "    public void PrintAll()\n",
    "    {\n",
    "        foreach (var item in items)\n",
    "        {\n",
    "            Console.WriteLine(item.ToString());\n",
    "        }\n",
    "    }\n",
    "}\n",
    "\n",
    "public record Person2(string Name, int Age);\n",
    "\n",
    "var repository = new Repository<Person2>();\n",
    "repository.Add(new Person2(\"Antony\", 33));"
   ]
  },
  {
   "attachments": {},
   "cell_type": "markdown",
   "metadata": {},
   "source": [
    "## Generic method"
   ]
  },
  {
   "cell_type": "code",
   "execution_count": 7,
   "metadata": {
    "dotnet_interactive": {
     "language": "csharp"
    },
    "polyglot_notebook": {
     "kernelName": "csharp"
    },
    "vscode": {
     "languageId": "polyglot-notebook"
    }
   },
   "outputs": [],
   "source": [
    "public static void Swap<T>(ref T a, ref T b)\n",
    "{\n",
    "    T temp = a;\n",
    "    a = b;\n",
    "    b = temp;\n",
    "}\n",
    "\n",
    "public record Person2(string Name, int Age);\n",
    "var person1 = new Person2(\"Andres\", 20);\n",
    "var person2 = new Person2(\"Camilo\", 20);\n",
    "Swap<Person2>(ref person1, ref person2);"
   ]
  },
  {
   "attachments": {},
   "cell_type": "markdown",
   "metadata": {},
   "source": [
    "## Generic interface"
   ]
  },
  {
   "cell_type": "code",
   "execution_count": 8,
   "metadata": {
    "dotnet_interactive": {
     "language": "csharp"
    },
    "polyglot_notebook": {
     "kernelName": "csharp"
    },
    "vscode": {
     "languageId": "polyglot-notebook"
    }
   },
   "outputs": [],
   "source": [
    "public interface IRepository<TKey, TValue> where TValue : IComparable<TKey>\n",
    "{\n",
    "    TValue GetByKey(TKey key);\n",
    "    void Add(TKey key, TValue value);\n",
    "    void Remove(TKey key);\n",
    "    void PrintAll();\n",
    "}"
   ]
  },
  {
   "attachments": {},
   "cell_type": "markdown",
   "metadata": {},
   "source": [
    "### Some Built in generic interfaces"
   ]
  },
  {
   "cell_type": "code",
   "execution_count": 9,
   "metadata": {
    "dotnet_interactive": {
     "language": "csharp"
    },
    "polyglot_notebook": {
     "kernelName": "csharp"
    },
    "vscode": {
     "languageId": "polyglot-notebook"
    }
   },
   "outputs": [
    {
     "name": "stdout",
     "output_type": "stream",
     "text": [
      "1\n",
      "2\n",
      "3\n",
      "4\n",
      "5\n"
     ]
    }
   ],
   "source": [
    "IEnumerable<int> numbers = new List<int> { 1, 2, 3, 4, 5 };\n",
    "foreach (int number in numbers)\n",
    "{\n",
    "    Console.WriteLine(number);\n",
    "}"
   ]
  },
  {
   "cell_type": "code",
   "execution_count": 10,
   "metadata": {
    "dotnet_interactive": {
     "language": "csharp"
    },
    "polyglot_notebook": {
     "kernelName": "csharp"
    },
    "vscode": {
     "languageId": "polyglot-notebook"
    }
   },
   "outputs": [
    {
     "name": "stdout",
     "output_type": "stream",
     "text": [
      "2\r\n"
     ]
    }
   ],
   "source": [
    "ICollection<string> names = new List<string>();\n",
    "names.Add(\"John\");\n",
    "names.Add(\"Jane\");\n",
    "Console.WriteLine(names.Count);"
   ]
  },
  {
   "cell_type": "code",
   "execution_count": 11,
   "metadata": {
    "dotnet_interactive": {
     "language": "csharp"
    },
    "polyglot_notebook": {
     "kernelName": "csharp"
    },
    "vscode": {
     "languageId": "polyglot-notebook"
    }
   },
   "outputs": [
    {
     "name": "stdout",
     "output_type": "stream",
     "text": [
      "88.9\r\n"
     ]
    }
   ],
   "source": [
    "IList<double> grades = new List<double> { 90.5, 85.2, 92.7 };\n",
    "grades.Insert(1, 88.9);\n",
    "double secondGrade = grades[1];\n",
    "Console.WriteLine(secondGrade);"
   ]
  },
  {
   "attachments": {},
   "cell_type": "markdown",
   "metadata": {},
   "source": [
    "## Constraints"
   ]
  },
  {
   "cell_type": "code",
   "execution_count": 12,
   "metadata": {
    "dotnet_interactive": {
     "language": "csharp"
    },
    "polyglot_notebook": {
     "kernelName": "csharp"
    },
    "vscode": {
     "languageId": "polyglot-notebook"
    }
   },
   "outputs": [],
   "source": [
    "// public interface IRepository<T> : IDisposable\n",
    "// {\n",
    "// \tvoid Add(T newEntity);\n",
    "// }\n",
    "\n",
    "// public class SqlRepository<T> : IRepository<T> where T : class, IEntity\n",
    "// {\n",
    "// \tDbContext _ctx;\n",
    "//     DbSet<T> _set;\n",
    "    \n",
    "//     public SqlRepository(DbContext ctx)\n",
    "//     {\n",
    "//     \t_ctx = ctx;\n",
    "//         _set = _ctx.Set<T>();\n",
    "//     }\n",
    "\n",
    "// \tpublic void Add(T newEntity)\n",
    "//     {\n",
    "//     \tif(newEntity.IsValid())\n",
    "//         {\n",
    "//         \t_set.Add(newEntity);\n",
    "//         }\n",
    "//     }\n",
    "// }"
   ]
  },
  {
   "cell_type": "code",
   "execution_count": 94,
   "metadata": {
    "dotnet_interactive": {
     "language": "csharp"
    },
    "polyglot_notebook": {
     "kernelName": "csharp"
    },
    "vscode": {
     "languageId": "polyglot-notebook"
    }
   },
   "outputs": [
    {
     "name": "stdout",
     "output_type": "stream",
     "text": [
      "Hello, world!\n",
      "Hello, world!\n"
     ]
    }
   ],
   "source": [
    "public interface ILogger\n",
    "{\n",
    "    void Log(string message);\n",
    "}\n",
    "\n",
    "public class Logger<T> where T : ILogger\n",
    "{\n",
    "    private T logger;\n",
    "\n",
    "    public Logger(T logger)\n",
    "    {\n",
    "        this.logger = logger;\n",
    "    }\n",
    "\n",
    "    public void LogMessage(string message)\n",
    "    {\n",
    "        logger.Log(message);\n",
    "    }\n",
    "}\n",
    "\n",
    "public struct ConsoleLogger : ILogger\n",
    "{\n",
    "    public void Log(string message)\n",
    "    {\n",
    "        Console.WriteLine(message);\n",
    "    }\n",
    "}\n",
    "\n",
    "Logger<ConsoleLogger> logger = new Logger<ConsoleLogger>(new ConsoleLogger());\n",
    "logger.LogMessage(\"Hello, world!\");\n",
    "\n",
    "var logger2 = new ConsoleLogger();\n",
    "logger.LogMessage(\"Hello, world!\");"
   ]
  },
  {
   "attachments": {},
   "cell_type": "markdown",
   "metadata": {},
   "source": [
    "### Exercise\n",
    "\n",
    "Write a generic sorting algorithm that can sort in ascending order an array of any type. The algorithm should use the IComparable interface to compare elements and arrange them."
   ]
  },
  {
   "cell_type": "code",
   "execution_count": 95,
   "metadata": {
    "dotnet_interactive": {
     "language": "csharp"
    },
    "polyglot_notebook": {
     "kernelName": "csharp"
    },
    "vscode": {
     "languageId": "polyglot-notebook"
    }
   },
   "outputs": [
    {
     "data": {
      "text/html": [
       "<div><div></div><div></div><div><strong>Installed Packages</strong><ul><li><span>Dumpify, 0.5.4</span></li></ul></div></div>"
      ]
     },
     "metadata": {},
     "output_type": "display_data"
    }
   ],
   "source": [
    "#r \"nuget: Dumpify\"\n",
    "\n",
    "using Dumpify;\n",
    "\n",
    "public static class GenericSorter\n",
    "{\n",
    "    public static void Sort<T>(T[] array) where T : IComparable<T>\n",
    "    {\n",
    "        for (int i = 0; i < array.Length - 1; i++)\n",
    "        {\n",
    "            for (int j = i + 1; j < array.Length; j++)\n",
    "            {\n",
    "                if (array[i].CompareTo(array[j]) > 0)\n",
    "                {\n",
    "                    // Swap elements\n",
    "                    T temp = array[i];\n",
    "                    array[i] = array[j];\n",
    "                    array[j] = temp;\n",
    "                }\n",
    "            }\n",
    "        }\n",
    "    }\n",
    "}\n",
    "\n",
    "int[] numbers = { 5, 2, 8, 1, 9 };\n",
    "GenericSorter.Sort(numbers);\n",
    "numbers.Dump();\n",
    "\n",
    "string[] names = { \"John\", \"Alice\", \"Bob\", \"David\" };\n",
    "GenericSorter.Sort(names);\n",
    "names.Dump();"
   ]
  },
  {
   "attachments": {},
   "cell_type": "markdown",
   "metadata": {},
   "source": [
    "## Contravariance and Covariance \n",
    "\n",
    "Covariance example"
   ]
  },
  {
   "cell_type": "code",
   "execution_count": 3,
   "metadata": {
    "dotnet_interactive": {
     "language": "csharp"
    },
    "polyglot_notebook": {
     "kernelName": "csharp"
    },
    "vscode": {
     "languageId": "polyglot-notebook"
    }
   },
   "outputs": [],
   "source": [
    "public class Account{ }\n",
    "public class CheckingAccount: Account{ }\n",
    "public class SavingAccount: Account{ }\n",
    "\n",
    "IEnumerable<CheckingAccount> derivedAccounts = new List<CheckingAccount>(); \n",
    "IEnumerable<Account> accounts = derivedAccounts;\n",
    "// There is no need to use Cast<T>() like in   derivedAccounts.Cast<Account>()\n",
    "\n",
    "public interface IRepository<in T>{}\n",
    "public class Repository<T> : IRepository<T>{}\n",
    "IRepository<CheckingAccount> derivedAccountsRepo = new Repository<CheckingAccount>();\n",
    "//IRepository<Account> accountsRepo = derivedAccountsRepo;\n",
    "\n",
    "IRepository<Account> accountsRepo1 = new Repository<Account>();\n",
    "IRepository<CheckingAccount> derivedAccountsRepo1 = accountsRepo1;"
   ]
  },
  {
   "attachments": {},
   "cell_type": "markdown",
   "metadata": {},
   "source": [
    "Contravariance example"
   ]
  },
  {
   "cell_type": "code",
   "execution_count": 4,
   "metadata": {
    "dotnet_interactive": {
     "language": "csharp"
    },
    "polyglot_notebook": {
     "kernelName": "csharp"
    },
    "vscode": {
     "languageId": "polyglot-notebook"
    }
   },
   "outputs": [
    {
     "name": "stdout",
     "output_type": "stream",
     "text": [
      "Both checking accounts belongs to same Person!\r\n"
     ]
    }
   ],
   "source": [
    "    \n",
    "public record Account(string SSN);\n",
    "public record CheckingAccount(string Name, string SSN): Account(SSN);\n",
    "public record SavingAccount(string Name, string SSN) : Account(SSN);\n",
    "\n",
    "class AccountComparer : IComparer<Account> {\n",
    "   public int Compare(Account x, Account y) {\n",
    "      return string.CompareOrdinal(x.SSN, y.SSN);\n",
    "   }\n",
    "}\n",
    "\n",
    "IComparer<Account> comparer1 = new AccountComparer();\n",
    "IComparer<CheckingAccount> comparer2 = comparer1;\n",
    "if (comparer2.Compare(new CheckingAccount(\"Sam\", \"14543CX\"), \n",
    "                    new CheckingAccount(\"Paul\",\"14543CX\")) == 0) {\n",
    "    Console.WriteLine(\"Both checking accounts belongs to same Person!\");\n",
    "}   "
   ]
  },
  {
   "attachments": {},
   "cell_type": "markdown",
   "metadata": {},
   "source": [
    "## Generics with nullable constraint"
   ]
  },
  {
   "cell_type": "code",
   "execution_count": 1,
   "metadata": {
    "dotnet_interactive": {
     "language": "csharp"
    },
    "polyglot_notebook": {
     "kernelName": "csharp"
    },
    "vscode": {
     "languageId": "polyglot-notebook"
    }
   },
   "outputs": [],
   "source": [
    "public class EmployeeRepository<T> where T : class\n",
    "{\n",
    "    public Dictionary<int, T> _employees = new Dictionary<int, T>();\n",
    "\n",
    "    public void AddEmployee(int id, T employee)\n",
    "    {\n",
    "        _employees[id] = employee;\n",
    "    }\n",
    "\n",
    "    public T GetEmployeeById(int id)\n",
    "    {\n",
    "        if (_employees.TryGetValue(id, out T employee))\n",
    "        {\n",
    "            return employee;\n",
    "        }\n",
    "\n",
    "        return null;\n",
    "    }\n",
    "}\n",
    "\n",
    "public class Employee\n",
    "{\n",
    "    public int Id {get; set;}\n",
    "    public string Name {get; set;}\n",
    "    public string Department {get; set;}\n",
    "}\n",
    "\n",
    "var repository = new EmployeeRepository<Employee>();\n",
    "\n",
    "// Add some employees to the repository\n",
    "repository.AddEmployee(1, new Employee { Id = 1, Name = \"John Doe\", Department = \"Engineering\" });\n",
    "repository.AddEmployee(2, new Employee { Id = 2, Name = \"Jane Smith\", Department = \"Marketing\" });\n",
    "repository.AddEmployee(3, null);\n",
    "var employess = repository._employees;\n"
   ]
  },
  {
   "attachments": {},
   "cell_type": "markdown",
   "metadata": {},
   "source": [
    "## Exercise\n",
    "Considering the advantages of using Covariance and contravariance, there is a general Repository implementation that I would like to use with some helper methods like WriteAllToConsole and AddManagers; that way we can avoid code repetition; I need to add support to use covariance and contravariance and take advantage of their capabilities when trying to reuse created repositories to execute common logic.\n",
    "For the second part, create the Repository class using Reflection, you can use Employee, Person or Manager as type parameters."
   ]
  },
  {
   "cell_type": "code",
   "execution_count": 2,
   "metadata": {
    "dotnet_interactive": {
     "language": "csharp"
    },
    "polyglot_notebook": {
     "kernelName": "csharp"
    },
    "vscode": {
     "languageId": "polyglot-notebook"
    }
   },
   "outputs": [
    {
     "data": {
      "text/html": [
       "<div><div></div><div></div><div><strong>Installed Packages</strong><ul><li><span>Dumpify, 0.5.4</span></li></ul></div></div>"
      ]
     },
     "metadata": {},
     "output_type": "display_data"
    },
    {
     "name": "stdout",
     "output_type": "stream",
     "text": [
      "Employee:        Employee       \n",
      "┌─────────┬──────────┐\n",
      "│ Name    │ Value    │\n",
      "├─────────┼──────────┤\n",
      "│ Company │ \"Toyota\" │\n",
      "│ Id      │ 4        │\n",
      "│ Name    │ \"Louis\"  │\n",
      "│ Age     │ 30       │\n",
      "└─────────┴──────────┘\n",
      "\n",
      "Employee:        Employee       \n",
      "┌─────────┬──────────┐\n",
      "│ Name    │ Value    │\n",
      "├─────────┼──────────┤\n",
      "│ Company │ \"Toyota\" │\n",
      "│ Id      │ 5        │\n",
      "│ Name    │ \"Louis\"  │\n",
      "│ Age     │ 30       │\n",
      "└─────────┴──────────┘\n",
      "\n"
     ]
    }
   ],
   "source": [
    "#r \"nuget: Dumpify\"\n",
    "\n",
    "using Dumpify;\n",
    "\n",
    "public interface IEntity\n",
    "{\n",
    "    int Id { get; init; }\n",
    "}\n",
    "\n",
    "public record Person(int Id, string Name, int Age) : IEntity;\n",
    "public record Employee(int Id, string Name, int Age, string Company)\n",
    " : Person(Id, Name, Age);\n",
    "\n",
    " public record Manager(int Id, string Name, int Age, string Company, int Ternure)\n",
    " : Employee(Id, Name, Age, Company);\n",
    "\n",
    "public interface IRepository<T> \n",
    "{\n",
    "    void Add (T newEntity);\n",
    "    T FindById (int id);\n",
    "    IList<T> RetrieveAll();\n",
    "}\n",
    "\n",
    "public class Repository<T> : IRepository<T> where T : IEntity\n",
    "{\n",
    "    private IList<T> _items;\n",
    "\n",
    "    public Repository() => _items = new List<T>();\n",
    "\n",
    "    public void Add (T newEntity) => _items.Add(newEntity);\n",
    "\n",
    "    public T FindById (int id)\n",
    "    {\n",
    "        for(var i = 0; i < _items.Count(); i++)\n",
    "        {\n",
    "            if(id == _items[i].Id)\n",
    "            {\n",
    "                return _items[i];\n",
    "            }\n",
    "        }\n",
    "\n",
    "        return default(T);\n",
    "    }\n",
    "\n",
    "    public IList<T> RetrieveAll() => _items;\n",
    "}\n",
    "\n",
    "private static void WriteAllToConsole(IRepository<IEntity> repository)\n",
    "{\n",
    "    var items = repository.RetrieveAll();\n",
    "    foreach(var item in items)\n",
    "    {\n",
    "        item.Dump();\n",
    "    }\n",
    "}\n",
    "\n",
    "private static void WriteEmployesToConsole(IRepository<Employee> repository)\n",
    "{\n",
    "    var items = repository.RetrieveAll();\n",
    "    foreach(var item in items)\n",
    "    {\n",
    "        Console.Write(\"Employee: \");\n",
    "        item.Dump();\n",
    "    }\n",
    "}\n",
    "\n",
    "private static void AddManagers(IRepository<Manager> repository)\n",
    "{\n",
    "    repository.Add(new Manager(6, \"Frank\", 30, \"Toyosa\", 2));\n",
    "    repository.Add(new Manager(7, \"Robert\", 30, \"Toyosa\", 2));\n",
    "}\n",
    "\n",
    "private static void AddEmployees(IRepository<Employee> repository)\n",
    "{\n",
    "    repository.Add(new Employee(4, \"Louis\", 30, \"Toyota\"));\n",
    "    repository.Add(new Employee(5, \"Louis\", 30, \"Toyota\"));\n",
    ";}\n",
    "\n",
    "var mike = new Person(1, \"Mike\", 40);\n",
    "var raul = new Person(2, \"Raul\", 50);\n",
    "\n",
    "var employeeRepo = new Repository<Employee>();\n",
    "//personRepo.Add(mike); // With this specific repository, we can't add a less derived object. This is fine\n",
    "AddEmployees(employeeRepo);\n",
    "WriteEmployesToConsole(employeeRepo);\n",
    "\n",
    "// AddManagers(employeeRepo) //This does not work;\n",
    "// WriteAllToConsole(employeeRepo) // This does not work;"
   ]
  }
 ],
 "metadata": {
  "language_info": {
   "name": "python"
  },
  "orig_nbformat": 4
 },
 "nbformat": 4,
 "nbformat_minor": 2
}
