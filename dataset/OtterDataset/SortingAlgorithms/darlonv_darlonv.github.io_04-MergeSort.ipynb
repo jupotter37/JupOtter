{
 "cells": [
  {
   "cell_type": "markdown",
   "metadata": {
    "slideshow": {
     "slide_type": "slide"
    }
   },
   "source": [
    "# Merge Sort"
   ]
  },
  {
   "cell_type": "markdown",
   "metadata": {
    "slideshow": {
     "slide_type": "fragment"
    }
   },
   "source": [
    "<!-- ## Introdução -->\n",
    "\n",
    "O algoritmo **Merge Sort** utiliza a estratégia *dividir para conquistar*."
   ]
  },
  {
   "cell_type": "markdown",
   "metadata": {
    "slideshow": {
     "slide_type": "slide"
    }
   },
   "source": [
    "<!-- ## Funcionamento -->\n",
    "\n",
    "O algoritmo de ordenação **Merge Sort** opera em duas fases. A primeira consiste em dividir o conjunto de dados em duas partes recursivamente, até que existe apenas um elemento no conjunto. A segunda, consiste em agrupar (*merge*) os conjuntos, mantendo os dados ordenados enquanto agrupa."
   ]
  },
  {
   "cell_type": "markdown",
   "metadata": {
    "slideshow": {
     "slide_type": "subslide"
    }
   },
   "source": [
    "Figura: Exemplo Merge Sort\n",
    "![Merge Sort](https://upload.wikimedia.org/wikipedia/commons/6/60/Mergesort_algorithm_diagram.png)\n",
    "Fonte: [Wikimedia Commons](https://commons.wikimedia.org/wiki/File:Mergesort_algorithm_diagram.png)"
   ]
  },
  {
   "cell_type": "markdown",
   "metadata": {
    "slideshow": {
     "slide_type": "skip"
    }
   },
   "source": [
    "Figura: Exemplo Merge Sort\n",
    "![Merge Sort gif](https://upload.wikimedia.org/wikipedia/commons/4/4c/MergeSort_2.gif)  \n",
    "Fonte: [Wikimedia Commons](https://commons.wikimedia.org/wiki/File:MergeSort_2.gif)  "
   ]
  },
  {
   "cell_type": "markdown",
   "metadata": {
    "slideshow": {
     "slide_type": "subslide"
    }
   },
   "source": [
    "Figura: Exemplo Merge Sort\n",
    "![Merge Sort gif2](https://upload.wikimedia.org/wikipedia/commons/c/cc/Merge-sort-example-300px.gif)  "
   ]
  },
  {
   "cell_type": "markdown",
   "metadata": {
    "slideshow": {
     "slide_type": "subslide"
    }
   },
   "source": [
    "<!-- ## Implementação -->"
   ]
  },
  {
   "cell_type": "markdown",
   "metadata": {
    "slideshow": {
     "slide_type": "fragment"
    }
   },
   "source": [
    "**Exemplo** \n",
    "\n",
    "```python\n",
    "def mergeSort(lista):\n",
    "    if len(lista) < 2: return lista\n",
    "    meio = len(lista) // 2\n",
    "    return merge(mergeSort(lista[:meio]), mergeSort(lista[meio:]))\n",
    "```"
   ]
  },
  {
   "cell_type": "code",
   "execution_count": null,
   "metadata": {
    "slideshow": {
     "slide_type": "skip"
    }
   },
   "outputs": [],
   "source": []
  },
  {
   "cell_type": "markdown",
   "metadata": {
    "slideshow": {
     "slide_type": "subslide"
    }
   },
   "source": [
    "```python\n",
    "def merge(lEsq, lDir):\n",
    "    lResult = []\n",
    "    while lEsq or lDir:\n",
    "        if len(lEsq) and len(lDir):\n",
    "            if lEsq[0] < lDir[0]:\n",
    "                lResult.append(lEsq.pop(0))\n",
    "            else:\n",
    "                lResult.append(lDir.pop(0))\n",
    "        if not len(lEsq):\n",
    "            if len(lDir): lResult.append(lDir.pop(0))\n",
    "        if not len(lDir):\n",
    "            if len(lEsq): lResult.append(lEsq.pop(0))\n",
    "    return lResult\n",
    "```"
   ]
  },
  {
   "cell_type": "code",
   "execution_count": null,
   "metadata": {
    "slideshow": {
     "slide_type": "skip"
    }
   },
   "outputs": [],
   "source": []
  },
  {
   "cell_type": "markdown",
   "metadata": {
    "slideshow": {
     "slide_type": "subslide"
    }
   },
   "source": [
    "**Exemplo**\n",
    "\n",
    "```python\n",
    "dados = [2, 5, 8, 4, 1, 3, 9, 7, 6, 0]\n",
    "\n",
    "print('Antes:', dados)\n",
    "dados=mergeSort(dados)\n",
    "print('Depois:', dados)\n",
    "```"
   ]
  },
  {
   "cell_type": "code",
   "execution_count": null,
   "metadata": {
    "slideshow": {
     "slide_type": "skip"
    }
   },
   "outputs": [],
   "source": []
  },
  {
   "cell_type": "markdown",
   "metadata": {
    "slideshow": {
     "slide_type": "slide"
    }
   },
   "source": [
    "## Referências\n",
    "[Python Brasil. Merge Sorts](https://wiki.python.org.br/MergeSort)   \n",
    "[FEOFILOFF, P. Notas de Aulas](https://www.ime.usp.br/~pf/analise_de_algoritmos/aulas/mergsrt.html)  \n",
    "[TOPTAL. Sorting Algorithms.](https://www.toptal.com/developers/sorting-algorithms)  "
   ]
  },
  {
   "cell_type": "markdown",
   "metadata": {},
   "source": [
    " "
   ]
  }
 ],
 "metadata": {
  "kernelspec": {
   "display_name": "Python 3",
   "language": "python",
   "name": "python3"
  },
  "language_info": {
   "codemirror_mode": {
    "name": "ipython",
    "version": 3
   },
   "file_extension": ".py",
   "mimetype": "text/x-python",
   "name": "python",
   "nbconvert_exporter": "python",
   "pygments_lexer": "ipython3",
   "version": "3.6.8"
  }
 },
 "nbformat": 4,
 "nbformat_minor": 2
}
