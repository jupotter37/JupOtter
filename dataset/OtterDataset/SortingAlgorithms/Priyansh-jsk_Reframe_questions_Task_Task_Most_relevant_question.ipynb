{
  "nbformat": 4,
  "nbformat_minor": 0,
  "metadata": {
    "colab": {
      "provenance": []
    },
    "kernelspec": {
      "name": "python3",
      "display_name": "Python 3"
    },
    "language_info": {
      "name": "python"
    }
  },
  "cells": [
    {
      "cell_type": "code",
      "execution_count": null,
      "metadata": {
        "id": "NjssxitWJIWA"
      },
      "outputs": [],
      "source": [
        "# !pip install cohere"
      ]
    },
    {
      "cell_type": "code",
      "source": [
        "import cohere\n",
        "import pandas as pd\n",
        "from sklearn.metrics.pairwise import cosine_similarity"
      ],
      "metadata": {
        "id": "OBwMMm-eJLXH"
      },
      "execution_count": null,
      "outputs": []
    },
    {
      "cell_type": "code",
      "source": [
        "cohere_api_key = 'JnjaFppEzMkScqrf********'\n",
        "co = cohere.Client(cohere_api_key)"
      ],
      "metadata": {
        "id": "gMC6VW8tJLvT"
      },
      "execution_count": null,
      "outputs": []
    },
    {
      "cell_type": "code",
      "source": [
        "def get_embeddings(questions):\n",
        "    response = co.embed(\n",
        "        model='embed-english-v2.0',\n",
        "        texts=questions\n",
        "    )\n",
        "    return response.embeddings"
      ],
      "metadata": {
        "id": "WIe8ZDz2JN-y"
      },
      "execution_count": null,
      "outputs": []
    },
    {
      "cell_type": "code",
      "source": [
        "dataset_path = '/content/questions_task.xlsx'"
      ],
      "metadata": {
        "id": "FYsNBDOKJOCs"
      },
      "execution_count": null,
      "outputs": []
    },
    {
      "cell_type": "code",
      "source": [
        "questions_df = pd.read_excel(dataset_path)"
      ],
      "metadata": {
        "id": "7uvRv2GYKiV1"
      },
      "execution_count": null,
      "outputs": []
    },
    {
      "cell_type": "code",
      "source": [
        "questions = questions_df['questions'].tolist()\n",
        "questions"
      ],
      "metadata": {
        "colab": {
          "base_uri": "https://localhost:8080/"
        },
        "id": "bMpZALDfKiYK",
        "outputId": "42daa989-69be-4a00-ff4d-22cd3f56a991"
      },
      "execution_count": null,
      "outputs": [
        {
          "output_type": "execute_result",
          "data": {
            "text/plain": [
              "['What is the difference between an array and a linked list?',\n",
              " 'Explain different types of tree traversals and implement them.',\n",
              " 'What is a binary search tree (BST)? How do you perform insert, delete, and search operations in it?',\n",
              " 'Describe the various sorting algorithms and their time complexities (e.g., Quick Sort, Merge Sort, Bubble Sort, etc.).',\n",
              " 'Explain the difference between depth-first search (DFS) and breadth-first search (BFS).',\n",
              " 'What is dynamic programming? Give an example of a problem that can be solved using dynamic programming.',\n",
              " 'Explain the concept of a heap and how a priority queue is implemented using a heap.',\n",
              " 'What is a hash table, and how does it work?',\n",
              " \"Explain the concept of graph traversal algorithms like Dijkstra's and Bellman-Ford algorithms.\",\n",
              " 'How do you detect and remove a loop in a linked list?',\n",
              " 'What are stack and queue data structures? Provide examples of where each is used.',\n",
              " 'Explain the sliding window technique with an example.',\n",
              " 'What is a trie data structure, and what are its applications?',\n",
              " 'Describe the Knuth-Morris-Pratt (KMP) pattern-matching algorithm.',\n",
              " 'What is the difference between a greedy algorithm and dynamic programming?',\n",
              " 'How can you find the longest increasing subsequence in an array?',\n",
              " 'Explain the two-pointer technique with examples.',\n",
              " 'What is a segment tree, and how do you use it for range queries?',\n",
              " 'How do you reverse a linked list? Explain both iterative and recursive methods.',\n",
              " 'What is memoization, and how is it different from tabulation in dynamic programming?']"
            ]
          },
          "metadata": {},
          "execution_count": 7
        }
      ]
    },
    {
      "cell_type": "code",
      "source": [
        "dataset_embeddings = get_embeddings(questions)"
      ],
      "metadata": {
        "id": "dVa582rzJOEV"
      },
      "execution_count": null,
      "outputs": []
    },
    {
      "cell_type": "code",
      "source": [
        "def find_most_relevant_question(user_input):\n",
        "    user_embedding = get_embeddings([user_input])[0]\n",
        "    similarities = cosine_similarity([user_embedding], dataset_embeddings)\n",
        "    most_similar_index = similarities[0].argmax()\n",
        "    return questions[most_similar_index]"
      ],
      "metadata": {
        "id": "qf6AZPjeJU83"
      },
      "execution_count": null,
      "outputs": []
    },
    {
      "cell_type": "code",
      "source": [
        "while True:\n",
        "    user_input = input(\"\\nEnter your question or type 'exit' to leave chatbot!!: \").strip()\n",
        "\n",
        "    if user_input.lower() == 'exit':\n",
        "        print(\"Thank you for using our bot. Have a great day!\")\n",
        "        break\n",
        "    most_relevant_question = find_most_relevant_question(user_input)\n",
        "    print(f\"\\nMost matching question from the dataset: {most_relevant_question}\")"
      ],
      "metadata": {
        "colab": {
          "base_uri": "https://localhost:8080/"
        },
        "id": "ZR4J6hXjJU_A",
        "outputId": "a2831ee0-a489-4783-ba44-cbe70325360c"
      },
      "execution_count": null,
      "outputs": [
        {
          "output_type": "stream",
          "name": "stdout",
          "text": [
            "\n",
            "Enter your question or type 'exit' to leave chatbot!!: How to use hash map? what is the process\n",
            "\n",
            "Most matching question from the dataset: What is a hash table, and how does it work?\n",
            "\n",
            "Enter your question or type 'exit' to leave chatbot!!: can you give examp of two-pointe\n",
            "\n",
            "Most matching question from the dataset: Explain the two-pointer technique with examples.\n",
            "\n",
            "Enter your question or type 'exit' to leave chatbot!!: Is array and LL is same?\n",
            "\n",
            "Most matching question from the dataset: What is the difference between an array and a linked list?\n",
            "\n",
            "Enter your question or type 'exit' to leave chatbot!!: what is pointer?\n",
            "\n",
            "Most matching question from the dataset: Explain the two-pointer technique with examples.\n",
            "\n",
            "Enter your question or type 'exit' to leave chatbot!!: what is stack?\n",
            "\n",
            "Most matching question from the dataset: What are stack and queue data structures? Provide examples of where each is used.\n",
            "\n",
            "Enter your question or type 'exit' to leave chatbot!!: what is single linked list?\n",
            "\n",
            "Most matching question from the dataset: What is the difference between an array and a linked list?\n",
            "\n",
            "Enter your question or type 'exit' to leave chatbot!!: what is supervided ml ?\n",
            "\n",
            "Most matching question from the dataset: Explain the sliding window technique with an example.\n",
            "\n",
            "Enter your question or type 'exit' to leave chatbot!!: exit\n",
            "Thank you for using our bot. Have a great day!\n"
          ]
        }
      ]
    },
    {
      "cell_type": "code",
      "source": [],
      "metadata": {
        "id": "vIE3ga1KJOI_"
      },
      "execution_count": null,
      "outputs": []
    }
  ]
}