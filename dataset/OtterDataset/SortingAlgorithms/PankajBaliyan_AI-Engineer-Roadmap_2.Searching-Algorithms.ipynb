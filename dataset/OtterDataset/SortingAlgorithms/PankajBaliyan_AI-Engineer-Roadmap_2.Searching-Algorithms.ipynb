{
 "cells": [
  {
   "cell_type": "markdown",
   "metadata": {},
   "source": [
    "Searching Techniques Algorithms"
   ]
  },
  {
   "cell_type": "markdown",
   "metadata": {},
   "source": [
    "Linear Search"
   ]
  },
  {
   "cell_type": "code",
   "metadata": {
    "ExecuteTime": {
     "end_time": "2024-12-05T17:24:41.927429Z",
     "start_time": "2024-12-05T17:24:41.923733Z"
    }
   },
   "source": [
    "# Searching Algorithm\n",
    "\n",
    "# Linear Search\n",
    "# Definition: Linear search is a searching algorithm that finds the position of a target value within a list.\n",
    "# It sequentially checks each element of the list for the target value until a match is found or until all the elements have been searched.\n",
    "def linearSearch(arr, x):\n",
    "    for i in range(len(arr)):\n",
    "        if arr[i] == x:\n",
    "            return i\n",
    "    return -1\n",
    "\n",
    "arr = [1, 2, 3, 4, 5]\n",
    "x = 3\n",
    "result = linearSearch(arr, x)\n",
    "print(result)"
   ],
   "outputs": [
    {
     "name": "stdout",
     "output_type": "stream",
     "text": [
      "2\n"
     ]
    }
   ],
   "execution_count": 5
  },
  {
   "cell_type": "markdown",
   "metadata": {},
   "source": [
    "Binary Search"
   ]
  },
  {
   "cell_type": "code",
   "execution_count": null,
   "metadata": {},
   "outputs": [],
   "source": [
    "# Binary Search (iterative)\n",
    "# Definition: Binary search is a searching algorithm that finds the position of a target value within a sorted array.\n",
    "# It compares the target value to the middle element of the array and eliminates half of the remaining elements based on the comparison.\n",
    "def binarySearch(arr, x):\n",
    "    low = 0\n",
    "    high = len(arr) - 1\n",
    "    while low <= high:\n",
    "        mid = (low + high) // 2\n",
    "        if arr[mid] < x:\n",
    "            low = mid + 1\n",
    "        elif arr[mid] > x:\n",
    "            high = mid - 1\n",
    "        else:\n",
    "            return mid\n",
    "    return -1\n",
    "\n",
    "arr = [1, 2, 3, 4, 5]\n",
    "x = 3\n",
    "result = binarySearch(arr, x)\n",
    "print(result)\n",
    "\n",
    "# // is used for floor division, which means it rounds down to the nearest whole number\n",
    "# result = 10 // 3\n",
    "# print(result)  # Output: 3\n",
    "# result = 11 // 3\n",
    "# print(result)  # Output: 3\n",
    "\n",
    "\n",
    "# Binary Search (recursive)\n",
    "def binarySearchRecursive(arr, x, low, high):\n",
    "    if low <= high:\n",
    "        mid = (low + high) // 2\n",
    "        if arr[mid] < x:\n",
    "            return binarySearchRecursive(arr, x, mid + 1, high)\n",
    "        elif arr[mid] > x:\n",
    "            return binarySearchRecursive(arr, x, low, mid - 1)\n",
    "        else:\n",
    "            return mid\n",
    "    return -1\n",
    "\n",
    "arr = [1, 2, 3, 4, 5]\n",
    "x = 3\n",
    "result = binarySearchRecursive(arr, x, 0, len(arr) - 1)\n",
    "print(result)\n",
    "\n",
    "# Hashing sorting Algorithm\n",
    "def hashSearch(arr, x):\n",
    "    hashTable = {}\n",
    "    for i in range(len(arr)):\n",
    "        if arr[i] not in hashTable:\n",
    "            hashTable[arr[i]] = i\n",
    "    if x in hashTable:\n",
    "        return hashTable[x]\n",
    "    return -1\n",
    "\n",
    "arr = [1, 2, 3, 4, 5]\n",
    "x = 3\n",
    "result = hashSearch(arr, x)\n",
    "print(result)"
   ]
  }
 ],
 "metadata": {
  "kernelspec": {
   "display_name": "base",
   "language": "python",
   "name": "python3"
  },
  "language_info": {
   "name": "python",
   "version": "3.11.7"
  }
 },
 "nbformat": 4,
 "nbformat_minor": 2
}
