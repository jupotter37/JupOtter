{
 "cells": [
  {
   "cell_type": "markdown",
   "metadata": {},
   "source": [
    "# CS506 - Spring 2018 - Homework 0\n",
    "# Introducing Python"
   ]
  },
  {
   "cell_type": "code",
   "execution_count": 1,
   "metadata": {},
   "outputs": [
    {
     "data": {
      "text/plain": [
       "'\\n    CS506 Spring 2018 - Homework 0\\n    Introducing Python\\n    author: Weixuan Jiang\\n    ------------------------------------------\\n'"
      ]
     },
     "execution_count": 1,
     "metadata": {},
     "output_type": "execute_result"
    }
   ],
   "source": [
    "\"\"\"\n",
    "    CS506 Spring 2018 - Homework 0\n",
    "    Introducing Python\n",
    "    author: Weixuan Jiang\n",
    "    ------------------------------------------\n",
    "\"\"\""
   ]
  },
  {
   "cell_type": "code",
   "execution_count": 14,
   "metadata": {},
   "outputs": [],
   "source": [
    "\"\"\"\n",
    "Import python packages here.\n",
    "\"\"\"\n",
    "import csv\n",
    "import timeit\n",
    "import numpy as np\n",
    "from numpy import array\n",
    "import matplotlib.pyplot as plt"
   ]
  },
  {
   "cell_type": "markdown",
   "metadata": {},
   "source": [
    "a) Convert the .csv file 'data.csv' into a list of lists, such that each row of the file is a list. ** (2 pts) **  \n",
    "\n",
    "The function import_data should receive as input the name of a .csv file and output the requested list of lists. For the purpose of this exercise assume that each row in the .csv file contains a list of float numbers. Each row of the csv file should be converted into a list in python. That is, if a row has 4 numbers, you need to create a list of length 4 containing these numbers. At the end you need to have a list containing all these lists, i.e. a list that contains all the values of the .csv file. Your output should have a format similar to the following:  [[1343, 8474], [2550, 4954, 4494, 7637],[3467,5671,...] "
   ]
  },
  {
   "cell_type": "code",
   "execution_count": 3,
   "metadata": {},
   "outputs": [],
   "source": [
    "\"\"\"\n",
    "The function import_data should receive as input the name of a .csv file and output a list of lists.\n",
    "\n",
    "For the purpose of this exercise assume that each row in the .csv file contains a list of float numbers. \n",
    "Each row of the csv file should be converted into a list in python. That is, if a row has 4 numbers, you need to create\n",
    "a list of length 4 containing these number.\n",
    "At the end you need to have a list containing all these lists, i.e. a list that contains all the values of the .csv \n",
    "file.\n",
    "Your output should be similar to the following: \n",
    "[[1343.6424, 8474.3373], [7637.7461, 2550.6902, 4954.3508, 4494.9106],.....]\n",
    "\"\"\"\n",
    "\n",
    "def import_data(filename):\n",
    "    big_list = []\n",
    "    file = csv.reader(open(\"E:\\\\CS506\\\\s2018-hw0-jweixuan\\\\\"+filename))\n",
    "    for row in file:\n",
    "        big_list.append(row)\n",
    "\n",
    "    return big_list\n",
    "\n",
    "\n",
    "filename = 'data.csv'\n",
    "data = import_data(filename)\n"
   ]
  },
  {
   "cell_type": "markdown",
   "metadata": {},
   "source": [
    "b) Code the algorithms i) **insertion sort**, ii) **merge sort**. ** (4 pts) **\n",
    "\n",
    "In order to code merge sort you need to use recursion otherwise you will not receive any points.\n",
    "In case you use any code available online you need to provide a reference to the source. "
   ]
  },
  {
   "cell_type": "code",
   "execution_count": 4,
   "metadata": {},
   "outputs": [
    {
     "name": "stdout",
     "output_type": "stream",
     "text": [
      "[254, 290, 305, 2165, 2216, 2287, 3812, 4221, 4378, 4453, 4958, 5414, 7215, 9014, 9391, 9452]\n"
     ]
    }
   ],
   "source": [
    "\"\"\"\n",
    "The function insertion_sort should receive as input a list and output the same list, only sorted in ascending order.\n",
    "Use the recommended input to test that your algorithm runs correctly. Feel free to provide your own tests.\n",
    "\"\"\"\n",
    "\n",
    "def insertion_sort(alist):\n",
    "    for index in range(1,len(alist)):\n",
    "        ele = alist[index]\n",
    "        j = index-1\n",
    "        while j >= 0:\n",
    "            if alist[j] > ele:\n",
    "                alist[j+1] = alist[j]\n",
    "                alist[j] = ele\n",
    "            j -= 1\n",
    "    return alist\n",
    "\n",
    "alist = [4453, 7215, 2287, 9452, 9014, 305, 254, 5414, 9391, 3812, 2165, 4221, 290, 2216, 4378, 4958]\n",
    "alist = insertion_sort(alist)\n",
    "print(alist)"
   ]
  },
  {
   "cell_type": "code",
   "execution_count": 5,
   "metadata": {},
   "outputs": [
    {
     "name": "stdout",
     "output_type": "stream",
     "text": [
      "[254, 290, 305, 2165, 2216, 2287, 3812, 4221, 4378, 4453, 4958, 5414, 7215, 9014, 9391, 9452]\n"
     ]
    }
   ],
   "source": [
    "\"\"\"\n",
    "The function merge_sort should receive as input a list and output the same list, only sorted in ascending order.\n",
    "Use the recommended input to test that your algorithm runs correctly. Feel free to provide your own tests.\n",
    "\"\"\"\n",
    "\n",
    "def merge(left,right):\n",
    "    i,j = 0,0\n",
    "    result = []\n",
    "    while i < len(left) and j < len(right):\n",
    "        if left[i] <= right[j]:\n",
    "            result.append(left[i])\n",
    "            i += 1\n",
    "        else:\n",
    "            result.append(right[j])\n",
    "            j += 1\n",
    "    result += left[i:]\n",
    "    result += right[j:]\n",
    "    return result\n",
    "\n",
    "def merge_sort(alist):\n",
    "    if len(alist) <= 1:\n",
    "        return alist\n",
    "    \n",
    "    num = int(len(alist) / 2)\n",
    "    left = merge_sort(alist[:num])\n",
    "    right = merge_sort(alist[num:])\n",
    "    \n",
    "    return merge(left,right)\n",
    "\n",
    "    \n",
    "alist = [4453, 7215, 2287, 9452, 9014, 305, 254, 5414, 9391, 3812, 2165, 4221, 290, 2216, 4378, 4958]\n",
    "alist = merge_sort(alist)\n",
    "print(alist)"
   ]
  },
  {
   "cell_type": "markdown",
   "metadata": {},
   "source": [
    "Before moving to the next step run both algorithms for all inputs of the data.csv file, i.e. all lists in the list of lists and confirm that all the outputs are correct.\n",
    "\n",
    "c) Perform profiling using the python library timeit. **(2 pts) **\n",
    "\n",
    "You need to store for each sorting algorithm, the size of the input dataset and the time that the algorithm requires to do the sorting in seconds. More information on the timeit library can be found [here](https://docs.python.org/2/library/timeit.html)  "
   ]
  },
  {
   "cell_type": "code",
   "execution_count": 21,
   "metadata": {},
   "outputs": [
    {
     "name": "stdout",
     "output_type": "stream",
     "text": [
      "Merge algorithm -- the size of input: [2, 4, 8, 16, 32, 64, 128, 256, 512, 1024, 2048, 4096, 8192, 16384, 32768]\n",
      "Merge algorithm -- the time cost    : [1.9593408524087863e-05, 3.3122190870926715e-05, 7.83736354605935e-05, 0.00017960624745683162, 0.0003979328021159745, 0.0009171581345981394, 0.002077834350075136, 0.004561532166917459, 0.009906800685257622, 0.02103772291002315, 0.044485435099431925, 0.09611639977674713, 0.25231458803909845, 0.4493519713300884, 0.9689752367303299]\n",
      "insertion algorithm -- the size of input: [2, 4, 8, 16, 32, 64, 128, 256, 512, 1024, 2048, 4096, 8192, 16384, 32768]\n",
      "insertion algorithm -- the time cost    : [7.930665560706984e-06, 7.930665560706984e-06, 2.0059918369952356e-05, 6.717740143358242e-05, 0.0002397860025666887, 0.0012605092979356414, 0.0038337769838108215, 0.015446603762484301, 0.06314862346971495, 0.2751884932572466, 1.0659896677425422, 4.270526194988179, 17.42683961115472, 70.26213695046317, 284.1605759155955]\n"
     ]
    }
   ],
   "source": [
    "ins_size = []\n",
    "meg_size = []\n",
    "\n",
    "ins_time = []\n",
    "meg_time = []\n",
    "\n",
    "\n",
    "data = import_data(filename)\n",
    "for row in data:\n",
    "    meg_size.append(len(row))\n",
    "    t = timeit.timeit(\"merge_sort(row)\", setup=\"from __main__ import merge_sort, row\",number=3)\n",
    "    meg_time.append(t)\n",
    "\n",
    "print(\"Merge algorithm -- the size of input:\", meg_size)\n",
    "print(\"Merge algorithm -- the time cost    :\", meg_time)\n",
    "\n",
    "data = import_data(filename)\n",
    "for row in data:\n",
    "    ins_size.append(len(row))\n",
    "    t = timeit.timeit(\"insertion_sort(row)\", setup=\"from __main__ import insertion_sort, row\",number=2)\n",
    "    ins_time.append(t)\n",
    "\n",
    "\n",
    "print(\"insertion algorithm -- the size of input:\", ins_size)\n",
    "print(\"insertion algorithm -- the time cost    :\", ins_time)\n",
    "    \n"
   ]
  },
  {
   "cell_type": "markdown",
   "metadata": {},
   "source": [
    "d) Plot the performance of the algorithms for all inputs using matplotlib.pyplot. **(2 pts) **\n",
    "\n",
    "In order to do so you need to create one figure that shows the performance of both. The x-axis will be the input size, while the y-axis will be the time in seconds of the algorithms. Your figure needs to contain i) a title, ii) labels on the axes, iii) a legend.\n",
    "\n",
    "Note that you might need to use the '%matplotlib inline' command at the beginning in order for the plots to show."
   ]
  },
  {
   "cell_type": "code",
   "execution_count": 27,
   "metadata": {},
   "outputs": [
    {
     "data": {
      "image/png": "[encoded data removed]",
      "text/plain": [
       "<matplotlib.figure.Figure at 0x19e8875de10>"
      ]
     },
     "metadata": {},
     "output_type": "display_data"
    },
    {
     "data": {
      "image/png": "[encoded data removed]",
      "text/plain": [
       "<matplotlib.figure.Figure at 0x19e8875dc18>"
      ]
     },
     "metadata": {},
     "output_type": "display_data"
    },
    {
     "data": {
      "image/png": "[encoded data removed]",
      "text/plain": [
       "<matplotlib.figure.Figure at 0x19e88746e48>"
      ]
     },
     "metadata": {},
     "output_type": "display_data"
    }
   ],
   "source": [
    "meg_x = array(meg_size)\n",
    "meg_y = array(meg_time)\n",
    "ins_x = array(ins_size)\n",
    "ins_y = array(ins_time)\n",
    "\n",
    "merge = plt.plot(meg_size,meg_time)\n",
    "plt.xlabel('size of input')\n",
    "plt.ylabel('time cost')\n",
    "plt.title('Merge algorithm')\n",
    "plt.show()\n",
    "\n",
    "\n",
    "insert = plt.plot(ins_size,ins_time)\n",
    "plt.xlabel('size of input')\n",
    "plt.ylabel('time cost')\n",
    "plt.title('Insert algorithm')\n",
    "plt.show()\n",
    "\n",
    "\n",
    "\n",
    "l1,l2 = plt.plot(meg_x,meg_y,ins_x,ins_y)\n",
    "plt.setp(l1, color='g') #merge\n",
    "plt.setp(l2, color='r') #insert\n",
    "plt.legend(('Merge','Insert'),loc = 'upper right')\n",
    "\n",
    "\n",
    "plt.xlabel('size of input')\n",
    "plt.ylabel('time cost')\n",
    "plt.title('The performance of Insert and Merge algorithm')\n",
    "plt.show()"
   ]
  },
  {
   "cell_type": "markdown",
   "metadata": {},
   "source": [
    "Please report any interesting observations. Are the results what you would expect? ** (1 pt) **"
   ]
  },
  {
   "cell_type": "markdown",
   "metadata": {
    "collapsed": true
   },
   "source": [
    "This results are my expect.\n",
    "This two diagrams all show linear increase.\n",
    "Although both of the time costs will increase along with data increase when dealing with a data set, Merge algorithm's time cost increase really slow compared with Insertion algorithm.\n",
    "When the data set is small, the time costs of merge and insert algorithm are in no big difference. But when the data set is really big, the speed of Merge algorithm is several times faster than Insertion algorithm."
   ]
  }
 ],
 "metadata": {
  "kernelspec": {
   "display_name": "Python 3",
   "language": "python",
   "name": "python3"
  },
  "language_info": {
   "codemirror_mode": {
    "name": "ipython",
    "version": 3
   },
   "file_extension": ".py",
   "mimetype": "text/x-python",
   "name": "python",
   "nbconvert_exporter": "python",
   "pygments_lexer": "ipython3",
   "version": "3.6.1"
  }
 },
 "nbformat": 4,
 "nbformat_minor": 2
}
