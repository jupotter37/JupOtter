{
 "cells": [
  {
   "metadata": {},
   "cell_type": "markdown",
   "source": "# Sorting Algorithms",
   "id": "7eb9f6eade14ba5e"
  },
  {
   "metadata": {},
   "cell_type": "markdown",
   "source": "## Bubble Sort",
   "id": "c94d30154490754c"
  },
  {
   "metadata": {
    "ExecuteTime": {
     "end_time": "2024-08-16T12:35:49.685438Z",
     "start_time": "2024-08-16T12:35:49.683431Z"
    }
   },
   "cell_type": "code",
   "source": [
    "def bubble_sort(array):\n",
    "  list_length = len(array)\n",
    "  is_sorted = False\n",
    "  while not is_sorted:\n",
    "    is_sorted = True\n",
    "    for i in range(list_length-1):\n",
    "      if array[i] > array[i+1]:\n",
    "        array[i] , array[i+1] = array[i+1] , array[i]\n",
    "        is_sorted = False\n",
    "    list_length -= 1\n",
    "  return array\n",
    "\n"
   ],
   "id": "48905229eccf7377",
   "outputs": [],
   "execution_count": 29
  },
  {
   "metadata": {
    "ExecuteTime": {
     "end_time": "2024-08-16T12:35:50.042932Z",
     "start_time": "2024-08-16T12:35:50.040514Z"
    }
   },
   "cell_type": "code",
   "source": "bubble_sort([5, 7, 9, 1, 4, 2])",
   "id": "aaeaa80423b83863",
   "outputs": [
    {
     "data": {
      "text/plain": [
       "[1, 2, 4, 5, 7, 9]"
      ]
     },
     "execution_count": 30,
     "metadata": {},
     "output_type": "execute_result"
    }
   ],
   "execution_count": 30
  },
  {
   "metadata": {},
   "cell_type": "markdown",
   "source": "## Selection Sort",
   "id": "9730409c87380f98"
  },
  {
   "metadata": {
    "ExecuteTime": {
     "end_time": "2024-08-16T12:36:18.428087Z",
     "start_time": "2024-08-16T12:36:18.424594Z"
    }
   },
   "cell_type": "code",
   "source": [
    "def selection_sort(array):\n",
    "  list_length = len(array)\n",
    "  for i in range(list_length - 1):\n",
    "    # Set lowest to the element of the list located at index i\n",
    "    lowest = array[i]\n",
    "    index = i\n",
    "    # Iterate again over the list starting on the next position of the i variable\n",
    "    for j in range(i+1, list_length):\n",
    "      # Compare whether the element of the list located at index j is smaller than lowest\n",
    "      if array[j] < lowest:\n",
    "        index = j\n",
    "        lowest = array[j]\n",
    "    array[i] , array[index] = array[index] , array[i]\n",
    "  return array\n"
   ],
   "id": "4a98850920b9daa3",
   "outputs": [],
   "execution_count": 34
  },
  {
   "metadata": {
    "ExecuteTime": {
     "end_time": "2024-08-16T12:36:18.757308Z",
     "start_time": "2024-08-16T12:36:18.753990Z"
    }
   },
   "cell_type": "code",
   "source": [
    "\n",
    "my_list = [6, 2, 9, 7, 4, 8] \n",
    "selection_sort(my_list)\n",
    "print(my_list)"
   ],
   "id": "d39a6f5f5aa466ba",
   "outputs": [
    {
     "name": "stdout",
     "output_type": "stream",
     "text": [
      "[2, 4, 6, 7, 8, 9]\n"
     ]
    }
   ],
   "execution_count": 35
  },
  {
   "metadata": {
    "ExecuteTime": {
     "end_time": "2024-08-16T12:36:19.706230Z",
     "start_time": "2024-08-16T12:36:19.703373Z"
    }
   },
   "cell_type": "code",
   "source": "print(selection_sort([5, 7, 9, 1, 4, 2]))",
   "id": "85ed9daf756fd989",
   "outputs": [
    {
     "name": "stdout",
     "output_type": "stream",
     "text": [
      "[1, 2, 4, 5, 7, 9]\n"
     ]
    }
   ],
   "execution_count": 36
  },
  {
   "metadata": {},
   "cell_type": "markdown",
   "source": "## Merge Sort",
   "id": "e2419cf97c2061b0"
  },
  {
   "metadata": {
    "ExecuteTime": {
     "end_time": "2024-08-16T12:38:53.738268Z",
     "start_time": "2024-08-16T12:38:53.734340Z"
    }
   },
   "cell_type": "code",
   "source": [
    "def merge_sort(array):\n",
    "    if len(array) > 1: \n",
    "        mid = len(array)//2\n",
    "        left_half = array[:mid]\n",
    "        right_half = array[mid:]\n",
    "        \n",
    "        merge_sort(left_half)\n",
    "        merge_sort(right_half)\n",
    " \n",
    "        i = j = k = 0\n",
    " \n",
    "        while i < len(left_half) and j < len(right_half):\n",
    "            if left_half[i] < right_half[j]:\n",
    "                array[k] = left_half[i]                \n",
    "                i += 1\n",
    "            else:\n",
    "                array[k] = right_half[j]\n",
    "                j += 1\n",
    "            k += 1\n",
    "            \n",
    "        while i < len(left_half):\n",
    "            array[k] = left_half[i]\n",
    "            i += 1\n",
    "            k += 1\n",
    " \n",
    "        while j < len(right_half):\n",
    "            array[k] = right_half[j]\n",
    "            j += 1\n",
    "            k += 1"
   ],
   "id": "5bba6a324c8e0d70",
   "outputs": [],
   "execution_count": 41
  },
  {
   "metadata": {
    "ExecuteTime": {
     "end_time": "2024-08-16T12:36:49.483917Z",
     "start_time": "2024-08-16T12:36:49.480643Z"
    }
   },
   "cell_type": "code",
   "source": [
    "my_list = [35,22,90,4,50,20,30,40,1]\n",
    "merge_sort(my_list)\n",
    "print(my_list)"
   ],
   "id": "203cf97b3be3ec8c",
   "outputs": [
    {
     "name": "stdout",
     "output_type": "stream",
     "text": [
      "[1, 4, 20, 22, 30, 35, 40, 50, 90]\n"
     ]
    }
   ],
   "execution_count": 38
  },
  {
   "metadata": {},
   "cell_type": "code",
   "outputs": [],
   "execution_count": null,
   "source": "",
   "id": "3e8ba1b6d2826a18"
  },
  {
   "metadata": {},
   "cell_type": "markdown",
   "source": [
    "Implementing the quicksort algorithm\n",
    "In this exercise, you will implement the quicksort algorithm to sort a list of numbers.\n",
    "\n",
    "In the first step, you will implement the partition() function, which returns the index of the pivot after having processed the list of numbers so that all the elements that are to the left of the pivot are less than the pivot and all the elements that are to the right of the pivot are greater than the pivot.\n",
    "\n",
    "In the second step, you will implement the quicksort() function, which will call the partition() function"
   ],
   "id": "549ab21a2e7f4ef4"
  },
  {
   "metadata": {
    "ExecuteTime": {
     "end_time": "2024-08-16T12:37:10.170891Z",
     "start_time": "2024-08-16T12:37:10.167755Z"
    }
   },
   "cell_type": "code",
   "source": [
    "def partition(array, first_index, last_index):\n",
    "  pivot = my_list[first_index]\n",
    "  left_pointer = first_index + 1\n",
    "  right_pointer = last_index\n",
    " \n",
    "  while True:\n",
    "    # Iterate until the value pointed by left_pointer is greater than pivot or left_pointer is greater than last_index\n",
    "    while array[left_pointer] < pivot and left_pointer < last_index:\n",
    "      left_pointer += 1\n",
    "    \n",
    "    while array[right_pointer] > pivot and right_pointer >= first_index:\n",
    "      right_pointer -= 1 \n",
    "    if left_pointer >= right_pointer:\n",
    "        break\n",
    "    # Swap the values for the elements located at the left_pointer and right_pointer\n",
    "    array[left_pointer], array[right_pointer] =  array[right_pointer],  array[left_pointer]\n",
    "   \n",
    "  array[first_index], array[right_pointer] = array[right_pointer], array[first_index]\n",
    "  return right_pointer"
   ],
   "id": "6bd50b649d0aaa49",
   "outputs": [],
   "execution_count": 39
  },
  {
   "metadata": {},
   "cell_type": "markdown",
   "source": "## Quick Sort",
   "id": "c32118de9fdf97e6"
  },
  {
   "metadata": {
    "ExecuteTime": {
     "end_time": "2024-08-16T12:37:20.478195Z",
     "start_time": "2024-08-16T12:37:20.474271Z"
    }
   },
   "cell_type": "code",
   "source": [
    "def quicksort(array, first_index, last_index):\n",
    "  if first_index < last_index:\n",
    "    # Call the partition() function with the appropriate parameters\n",
    "    partition_index = partition(array, first_index, last_index)\n",
    "    # Call quicksort() on the elements to the left of the partition\n",
    "    quicksort(array, first_index , partition_index)\n",
    "    quicksort(array, partition_index + 1, last_index)\n",
    "    \n",
    "my_list = [6, 2, 9, 7] \n",
    "quicksort(my_list, 0, len(my_list) - 1)\n",
    "print(my_list)"
   ],
   "id": "1a7a88c29b87d4f1",
   "outputs": [
    {
     "name": "stdout",
     "output_type": "stream",
     "text": [
      "[2, 6, 7, 9]\n"
     ]
    }
   ],
   "execution_count": 40
  },
  {
   "metadata": {},
   "cell_type": "code",
   "outputs": [],
   "execution_count": null,
   "source": "",
   "id": "df70db15b14698bc"
  }
 ],
 "metadata": {
  "kernelspec": {
   "display_name": "Python 3",
   "language": "python",
   "name": "python3"
  },
  "language_info": {
   "codemirror_mode": {
    "name": "ipython",
    "version": 2
   },
   "file_extension": ".py",
   "mimetype": "text/x-python",
   "name": "python",
   "nbconvert_exporter": "python",
   "pygments_lexer": "ipython2",
   "version": "2.7.6"
  }
 },
 "nbformat": 4,
 "nbformat_minor": 5
}
