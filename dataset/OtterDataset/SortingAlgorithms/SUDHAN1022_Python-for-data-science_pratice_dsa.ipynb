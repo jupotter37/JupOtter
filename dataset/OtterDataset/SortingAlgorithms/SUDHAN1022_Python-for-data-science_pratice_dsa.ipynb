{
  "nbformat": 4,
  "nbformat_minor": 0,
  "metadata": {
    "colab": {
      "provenance": [],
      "authorship_tag": "ABX9TyMbxv07BNpuBY/dgSexRqEC",
      "include_colab_link": true
    },
    "kernelspec": {
      "name": "python3",
      "display_name": "Python 3"
    },
    "language_info": {
      "name": "python"
    }
  },
  "cells": [
    {
      "cell_type": "markdown",
      "metadata": {
        "id": "view-in-github",
        "colab_type": "text"
      },
      "source": [
        "<a href=\"https://colab.research.google.com/github/SUDHAN1022/Python-for-data-science/blob/main/pratice_dsa.ipynb\" target=\"_parent\"><img src=\"https://colab.research.google.com/assets/colab-badge.svg\" alt=\"Open In Colab\"/></a>"
      ]
    },
    {
      "cell_type": "markdown",
      "source": [
        "# **Hash table**"
      ],
      "metadata": {
        "id": "oR-plzTqKBvO"
      }
    },
    {
      "cell_type": "code",
      "execution_count": null,
      "metadata": {
        "id": "cn9-vwCPJ6vm"
      },
      "outputs": [],
      "source": [
        "#def get_hash(key):\n",
        "  #h=0\n",
        "  #for char in key:\n",
        "   # h=h+ord(char)\n",
        "  #return h%100"
      ]
    },
    {
      "cell_type": "code",
      "source": [
        "class hashtable:\n",
        "  def __init__(self) -> None:\n",
        "    self.MAX=100\n",
        "    self.arr=[None for i in range(self.MAX)]\n",
        "\n",
        "  def get_hash(self,key):\n",
        "    h=0\n",
        "    for char in key:\n",
        "      h+=ord(char)\n",
        "    return h%100\n",
        "\n",
        "  def __setitem__(self,key,val):\n",
        "    h=self.get_hash(key)\n",
        "    self.arr[h]=val\n",
        "\n",
        "  def __getitem__(self,key):\n",
        "    h=self.get_hash(key)\n",
        "    return self.arr[h]\n",
        "\n",
        "  def __delitem__(self,key):\n",
        "    h=self.get_hash(key)\n",
        "    self.arr[h]=None"
      ],
      "metadata": {
        "id": "wYjQ8FDPNJ7N"
      },
      "execution_count": null,
      "outputs": []
    },
    {
      "cell_type": "code",
      "source": [
        "t=hashtable()\n",
        "t[\"march 6\"]=130\n",
        "t[\"march 9\"]=30\n",
        "t[\"march 15\"]=10"
      ],
      "metadata": {
        "id": "3XCVtZAQOXzI"
      },
      "execution_count": null,
      "outputs": []
    },
    {
      "cell_type": "code",
      "source": [
        "del t[\"march 9\"]"
      ],
      "metadata": {
        "id": "zSJQV9r3TSg1"
      },
      "execution_count": null,
      "outputs": []
    },
    {
      "cell_type": "code",
      "source": [
        "t.arr"
      ],
      "metadata": {
        "colab": {
          "base_uri": "https://localhost:8080/"
        },
        "id": "UuGx-LRVRYoe",
        "outputId": "6f5e8f3a-c1bd-4f12-e213-ea4a95eaf5fe"
      },
      "execution_count": null,
      "outputs": [
        {
          "output_type": "execute_result",
          "data": {
            "text/plain": [
              "[None,\n",
              " None,\n",
              " None,\n",
              " None,\n",
              " None,\n",
              " None,\n",
              " None,\n",
              " None,\n",
              " None,\n",
              " 130,\n",
              " None,\n",
              " None,\n",
              " None,\n",
              " None,\n",
              " None,\n",
              " None,\n",
              " None,\n",
              " None,\n",
              " None,\n",
              " None,\n",
              " None,\n",
              " None,\n",
              " None,\n",
              " None,\n",
              " None,\n",
              " None,\n",
              " None,\n",
              " None,\n",
              " None,\n",
              " None,\n",
              " None,\n",
              " None,\n",
              " None,\n",
              " None,\n",
              " None,\n",
              " None,\n",
              " None,\n",
              " None,\n",
              " None,\n",
              " None,\n",
              " None,\n",
              " None,\n",
              " None,\n",
              " None,\n",
              " None,\n",
              " None,\n",
              " None,\n",
              " None,\n",
              " None,\n",
              " None,\n",
              " None,\n",
              " None,\n",
              " None,\n",
              " None,\n",
              " None,\n",
              " None,\n",
              " None,\n",
              " 10,\n",
              " None,\n",
              " None,\n",
              " None,\n",
              " None,\n",
              " None,\n",
              " None,\n",
              " None,\n",
              " None,\n",
              " None,\n",
              " None,\n",
              " None,\n",
              " None,\n",
              " None,\n",
              " None,\n",
              " None,\n",
              " None,\n",
              " None,\n",
              " None,\n",
              " None,\n",
              " None,\n",
              " None,\n",
              " None,\n",
              " None,\n",
              " None,\n",
              " None,\n",
              " None,\n",
              " None,\n",
              " None,\n",
              " None,\n",
              " None,\n",
              " None,\n",
              " None,\n",
              " None,\n",
              " None,\n",
              " None,\n",
              " None,\n",
              " None,\n",
              " None,\n",
              " None,\n",
              " None,\n",
              " None,\n",
              " None]"
            ]
          },
          "metadata": {},
          "execution_count": 35
        }
      ]
    },
    {
      "cell_type": "markdown",
      "source": [
        "# Collision handling in HASH Table"
      ],
      "metadata": {
        "id": "taSQ7kCMhK2g"
      }
    },
    {
      "cell_type": "code",
      "source": [
        "\n",
        "class hashtable:\n",
        "  def __init__(self):\n",
        "    self.Max=10\n",
        "    self.arr=[[] for i in range (self.Max)]\n",
        "\n",
        "  def get_hash(self,key):\n",
        "    hash=0\n",
        "    for char in key:\n",
        "      hash=hash+ord(char)\n",
        "    return hash%self.Max\n",
        "\n",
        "  def __getitem__(self,key):\n",
        "    h=self.get_hash(key)\n",
        "    for element in self.arr[h]:\n",
        "      if element[0]==key:\n",
        "        return element[1]\n",
        "\n",
        "  def __setitem__(self,key,val):\n",
        "    h=self.get_hash(key)\n",
        "    found=False\n",
        "    for idx,element in enumerate(self.arr[h]):\n",
        "      if len(element)==2 and element[0]==key:\n",
        "        self.arr[h][idx]=(key,val)\n",
        "        found=True\n",
        "        break\n",
        "    if not found:\n",
        "      self.arr[h].append((key,val))\n",
        "\n",
        "  def __delitem__(self,key):\n",
        "    h=self.get_hash(key)\n",
        "    for idx,element in enumerate(self.arr[h]):\n",
        "      if element[0]==key:\n",
        "        del self.arr[h][idx]"
      ],
      "metadata": {
        "id": "JVCvNBcyTYlg"
      },
      "execution_count": null,
      "outputs": []
    },
    {
      "cell_type": "code",
      "source": [
        "t=hashtable()"
      ],
      "metadata": {
        "id": "m2TJ7Zq8lJTe"
      },
      "execution_count": null,
      "outputs": []
    },
    {
      "cell_type": "code",
      "source": [
        "t[\"march 6\"]=120\n",
        "t[\"march 6\"]=13\n",
        "t[\"march 8\"]=67\n",
        "t[\"march 9\"]=4\n",
        "t[\"march 17\"]=459"
      ],
      "metadata": {
        "id": "vfXPuGg1rrpa"
      },
      "execution_count": null,
      "outputs": []
    },
    {
      "cell_type": "code",
      "source": [
        "t[\"march 6\"]"
      ],
      "metadata": {
        "colab": {
          "base_uri": "https://localhost:8080/"
        },
        "id": "oE-xS4Gelbqv",
        "outputId": "3f570a64-1426-444e-fb14-a96abda89ed7"
      },
      "execution_count": null,
      "outputs": [
        {
          "output_type": "execute_result",
          "data": {
            "text/plain": [
              "13"
            ]
          },
          "metadata": {},
          "execution_count": 104
        }
      ]
    },
    {
      "cell_type": "code",
      "source": [
        "t.arr"
      ],
      "metadata": {
        "colab": {
          "base_uri": "https://localhost:8080/"
        },
        "id": "PdfHLhKVtbUU",
        "outputId": "d1bf12b2-2413-4a57-8a1a-6553b2c85a66"
      },
      "execution_count": null,
      "outputs": [
        {
          "output_type": "execute_result",
          "data": {
            "text/plain": [
              "[[],\n",
              " [('march 8', 67)],\n",
              " [('march 9', 4)],\n",
              " [],\n",
              " [],\n",
              " [],\n",
              " [],\n",
              " [],\n",
              " [],\n",
              " [('march 6', 13), ('march 17', 459)]]"
            ]
          },
          "metadata": {},
          "execution_count": 105
        }
      ]
    },
    {
      "cell_type": "code",
      "source": [
        "del t[\"march 17\"]"
      ],
      "metadata": {
        "id": "RRC-rbZWwOSP"
      },
      "execution_count": null,
      "outputs": []
    },
    {
      "cell_type": "code",
      "source": [
        "t.arr"
      ],
      "metadata": {
        "colab": {
          "base_uri": "https://localhost:8080/"
        },
        "id": "Ab6JeqH7wXY3",
        "outputId": "5f145e24-47da-4931-d797-65f5f64bd29a"
      },
      "execution_count": null,
      "outputs": [
        {
          "output_type": "execute_result",
          "data": {
            "text/plain": [
              "[[],\n",
              " [('march 8', 67)],\n",
              " [('march 9', 4)],\n",
              " [],\n",
              " [],\n",
              " [],\n",
              " [],\n",
              " [],\n",
              " [],\n",
              " [('march 6', 13)]]"
            ]
          },
          "metadata": {},
          "execution_count": 107
        }
      ]
    },
    {
      "cell_type": "markdown",
      "source": [
        "# HASH TABLE LINEAR PROBEING"
      ],
      "metadata": {
        "id": "XbfzIciqB_tM"
      }
    },
    {
      "cell_type": "code",
      "source": [
        "class hashtable:\n",
        "  def __init__(self) -> None:\n",
        "    self.MAX=10\n",
        "    self.arr=[[] for i in range(self.MAX)]\n",
        "\n",
        "  def get_hash(self,key):\n",
        "    h=0\n",
        "    for char in key:\n",
        "      h+=ord(char)\n",
        "    return h%self.MAX\n",
        "\n",
        "  def __setitem__(self,key,val):\n",
        "    h=self.get_hash(key)\n",
        "    found=False\n",
        "    for idx,element in enumerate(self.arr[h]):\n",
        "      if len(element)==2 and element[0]==key:\n",
        "        self.arr[h][idx]=(key,val)\n",
        "        found=True\n",
        "        break\n",
        "    if not found:\n",
        "      self.arr[h].append((key,val))\n",
        "\n",
        "  def __getitem__(self,key):\n",
        "    h=self.get_hash(key)\n",
        "    for element in self.arr[h]:\n",
        "      if element[0]==key:\n",
        "        return element[1]\n",
        "\n",
        "  def __delitem__(self,key):\n",
        "    h=self.get_hash(key)\n",
        "    for idx,element in enumerate(self.arr[h]):\n",
        "      if element[0]==key:\n",
        "        del self.arr[h][idx]\n"
      ],
      "metadata": {
        "id": "olHGIFDMCHrP"
      },
      "execution_count": null,
      "outputs": []
    },
    {
      "cell_type": "code",
      "source": [
        "t=hashtable()"
      ],
      "metadata": {
        "id": "Dj1o-tvQFLxv"
      },
      "execution_count": null,
      "outputs": []
    },
    {
      "cell_type": "code",
      "source": [
        "t[\"march 6\"]=120\n",
        "t[\"march 6\"]=13\n",
        "t[\"march 8\"]=67\n",
        "t[\"march 9\"]=4\n",
        "t[\"march 17\"]=459"
      ],
      "metadata": {
        "id": "HdH8blHPFPT_"
      },
      "execution_count": null,
      "outputs": []
    },
    {
      "cell_type": "code",
      "source": [
        "t.get_hash(\"march 6\")"
      ],
      "metadata": {
        "colab": {
          "base_uri": "https://localhost:8080/"
        },
        "id": "agrHbgG4FSew",
        "outputId": "a9d9a8b4-5c13-4565-f5c2-e06b30999e7b"
      },
      "execution_count": null,
      "outputs": [
        {
          "output_type": "execute_result",
          "data": {
            "text/plain": [
              "9"
            ]
          },
          "metadata": {},
          "execution_count": 32
        }
      ]
    },
    {
      "cell_type": "code",
      "source": [
        "t.get_hash(\"march 17\")"
      ],
      "metadata": {
        "colab": {
          "base_uri": "https://localhost:8080/"
        },
        "id": "ihz4CT5iFgrO",
        "outputId": "14d3ae40-b6c3-47a2-d7e4-658869603a9f"
      },
      "execution_count": null,
      "outputs": [
        {
          "output_type": "execute_result",
          "data": {
            "text/plain": [
              "9"
            ]
          },
          "metadata": {},
          "execution_count": 33
        }
      ]
    },
    {
      "cell_type": "code",
      "source": [
        "t.arr"
      ],
      "metadata": {
        "colab": {
          "base_uri": "https://localhost:8080/"
        },
        "id": "S99vR1T3Jz2x",
        "outputId": "7609303e-5b52-419c-d96f-733c8d5b0646"
      },
      "execution_count": null,
      "outputs": [
        {
          "output_type": "execute_result",
          "data": {
            "text/plain": [
              "[[],\n",
              " [('march 8', 67)],\n",
              " [('march 9', 4)],\n",
              " [],\n",
              " [],\n",
              " [],\n",
              " [],\n",
              " [],\n",
              " [],\n",
              " [('march 6', 13), ('march 17', 459)]]"
            ]
          },
          "metadata": {},
          "execution_count": 34
        }
      ]
    },
    {
      "cell_type": "code",
      "source": [
        "del t[\"march 17\"]"
      ],
      "metadata": {
        "id": "f8tBVR7KJ0TG"
      },
      "execution_count": null,
      "outputs": []
    },
    {
      "cell_type": "code",
      "source": [
        "t.arr"
      ],
      "metadata": {
        "colab": {
          "base_uri": "https://localhost:8080/"
        },
        "id": "vjDTg77GKriL",
        "outputId": "3b1ff5fc-d4d2-4061-d431-4fd0e47520eb"
      },
      "execution_count": null,
      "outputs": [
        {
          "output_type": "execute_result",
          "data": {
            "text/plain": [
              "[[],\n",
              " [('march 8', 67)],\n",
              " [('march 9', 4)],\n",
              " [],\n",
              " [],\n",
              " [],\n",
              " [],\n",
              " [],\n",
              " [],\n",
              " [('march 6', 13)]]"
            ]
          },
          "metadata": {},
          "execution_count": 36
        }
      ]
    },
    {
      "cell_type": "markdown",
      "source": [
        "STACK"
      ],
      "metadata": {
        "id": "rr4gLc_YMs_i"
      }
    },
    {
      "cell_type": "code",
      "source": [
        "s=[]\n",
        "s.append(1)\n",
        "s.append(2)\n",
        "s.append(3)\n",
        "s.append(4)"
      ],
      "metadata": {
        "id": "BUW_L1PaKtDN"
      },
      "execution_count": null,
      "outputs": []
    },
    {
      "cell_type": "code",
      "source": [
        "s.pop()"
      ],
      "metadata": {
        "colab": {
          "base_uri": "https://localhost:8080/"
        },
        "id": "3rUkt_sQS-Bl",
        "outputId": "644e651c-6cbc-44b0-8896-f6b8e592c889"
      },
      "execution_count": null,
      "outputs": [
        {
          "output_type": "execute_result",
          "data": {
            "text/plain": [
              "4"
            ]
          },
          "metadata": {},
          "execution_count": 40
        }
      ]
    },
    {
      "cell_type": "code",
      "source": [
        "s"
      ],
      "metadata": {
        "colab": {
          "base_uri": "https://localhost:8080/"
        },
        "id": "ohIAQQ9RT2DC",
        "outputId": "ea6280ef-8c3f-4113-fb59-0888c6b0546e"
      },
      "execution_count": null,
      "outputs": [
        {
          "output_type": "execute_result",
          "data": {
            "text/plain": [
              "[1, 2, 3]"
            ]
          },
          "metadata": {},
          "execution_count": 41
        }
      ]
    },
    {
      "cell_type": "code",
      "source": [
        "from collections import deque\n",
        "stack=deque()"
      ],
      "metadata": {
        "id": "-ZyWQTbtUvFo"
      },
      "execution_count": null,
      "outputs": []
    },
    {
      "cell_type": "code",
      "source": [
        "stack.append(\"luffy\")\n",
        "stack.append(\"zoro\")\n",
        "stack.append(\"nami\")\n",
        "stack.append(\"sanji\")\n",
        "stack"
      ],
      "metadata": {
        "colab": {
          "base_uri": "https://localhost:8080/"
        },
        "id": "y1K7MdYUVBr1",
        "outputId": "89703d08-350c-4d54-e7ce-2e14f0ec7a8c"
      },
      "execution_count": null,
      "outputs": [
        {
          "output_type": "execute_result",
          "data": {
            "text/plain": [
              "deque(['luffy', 'zoro', 'nami', 'sanji'])"
            ]
          },
          "metadata": {},
          "execution_count": 47
        }
      ]
    },
    {
      "cell_type": "code",
      "source": [
        "class stack:\n",
        "  def __init__(self):\n",
        "    self.container=deque()\n",
        "  def push(self,val):\n",
        "    self.container.append(val)\n",
        "  def peek(self):\n",
        "    return self.container[-1]\n",
        "  def pop(self):\n",
        "    return self.container.pop()\n",
        "  def is_empty(self):\n",
        "    return self.container==0\n",
        "  def size(self):\n",
        "    return len(self.container)\n"
      ],
      "metadata": {
        "id": "2zr7pz6AVDGC"
      },
      "execution_count": null,
      "outputs": []
    },
    {
      "cell_type": "code",
      "source": [
        "s=stack()"
      ],
      "metadata": {
        "id": "6vZeAO3hVmCL"
      },
      "execution_count": null,
      "outputs": []
    },
    {
      "cell_type": "code",
      "source": [
        "s.push(5)"
      ],
      "metadata": {
        "id": "VYvK6jroXKaZ"
      },
      "execution_count": null,
      "outputs": []
    },
    {
      "cell_type": "code",
      "source": [
        "s.peek()"
      ],
      "metadata": {
        "colab": {
          "base_uri": "https://localhost:8080/"
        },
        "id": "ea8KS_69XORp",
        "outputId": "841e91b7-7e7b-4736-9823-61700288065b"
      },
      "execution_count": null,
      "outputs": [
        {
          "output_type": "execute_result",
          "data": {
            "text/plain": [
              "5"
            ]
          },
          "metadata": {},
          "execution_count": 58
        }
      ]
    },
    {
      "cell_type": "code",
      "source": [
        "s.pop()"
      ],
      "metadata": {
        "colab": {
          "base_uri": "https://localhost:8080/"
        },
        "id": "FS8jo2cSXO2K",
        "outputId": "ca971d21-1590-407e-9ce0-87b643d09988"
      },
      "execution_count": null,
      "outputs": [
        {
          "output_type": "execute_result",
          "data": {
            "text/plain": [
              "5"
            ]
          },
          "metadata": {},
          "execution_count": 59
        }
      ]
    },
    {
      "cell_type": "code",
      "source": [
        "s.push(78)\n",
        "s.push(34)\n",
        "s.push(24)"
      ],
      "metadata": {
        "id": "3_7ccROSXcgj"
      },
      "execution_count": null,
      "outputs": []
    },
    {
      "cell_type": "code",
      "source": [
        "s.peek()"
      ],
      "metadata": {
        "colab": {
          "base_uri": "https://localhost:8080/"
        },
        "id": "OvmSCYFpXdCn",
        "outputId": "5efe2db0-2ca2-41b4-d7b1-affc4a425545"
      },
      "execution_count": null,
      "outputs": [
        {
          "output_type": "execute_result",
          "data": {
            "text/plain": [
              "24"
            ]
          },
          "metadata": {},
          "execution_count": 62
        }
      ]
    },
    {
      "cell_type": "code",
      "source": [
        "s.pop()"
      ],
      "metadata": {
        "colab": {
          "base_uri": "https://localhost:8080/"
        },
        "id": "WfKQA-wRXkSD",
        "outputId": "84ec3a67-8a15-4040-8130-8b5fd4866dd9"
      },
      "execution_count": null,
      "outputs": [
        {
          "output_type": "execute_result",
          "data": {
            "text/plain": [
              "24"
            ]
          },
          "metadata": {},
          "execution_count": 63
        }
      ]
    },
    {
      "cell_type": "code",
      "source": [
        "s.size()"
      ],
      "metadata": {
        "colab": {
          "base_uri": "https://localhost:8080/"
        },
        "id": "R_DVpE6QXn65",
        "outputId": "3ed44af8-f98a-477d-9378-78b12d12f8b9"
      },
      "execution_count": null,
      "outputs": [
        {
          "output_type": "execute_result",
          "data": {
            "text/plain": [
              "2"
            ]
          },
          "metadata": {},
          "execution_count": 64
        }
      ]
    },
    {
      "cell_type": "markdown",
      "source": [
        "QUEUE"
      ],
      "metadata": {
        "id": "E4iVewEXXrN9"
      }
    },
    {
      "cell_type": "code",
      "source": [
        "from collections import deque\n",
        "\n",
        "class queue:\n",
        "\n",
        "  def __init__(self):\n",
        "    self.buffer=deque()\n",
        "\n",
        "  def enqueue(self,val):\n",
        "    self.buffer.appendleft(val)\n",
        "\n",
        "  def dequeue(self):\n",
        "    return self.buffer.pop()\n",
        "\n",
        "  def is_empty(self):\n",
        "    return len(self.buffer)==0\n",
        "\n",
        "  def size(self):\n",
        "    return len(self.buffer)"
      ],
      "metadata": {
        "id": "K3uPiFDbXpzF"
      },
      "execution_count": null,
      "outputs": []
    },
    {
      "cell_type": "code",
      "source": [
        "pq=queue()"
      ],
      "metadata": {
        "id": "39uUxDR6bTTB"
      },
      "execution_count": null,
      "outputs": []
    },
    {
      "cell_type": "code",
      "source": [
        "pq.enqueue({\n",
        "    \"company:wall mart\",\n",
        "    \"timestamp: 10 May,11:00 AM\",\n",
        "    \"price: 131.0\"\n",
        "})\n",
        "pq.enqueue({\n",
        "    \"company:wall mart\",\n",
        "    \"timestamp: 10 May,11:01 AM\",\n",
        "    \"price: 133.9\"\n",
        "})\n",
        "pq.enqueue({\n",
        "    \"company:wall mart\",\n",
        "    \"timestamp: 10 May,11:02 AM\",\n",
        "    \"price: 135.2\"\n",
        "})"
      ],
      "metadata": {
        "id": "bUJJLnQ-bV4F"
      },
      "execution_count": null,
      "outputs": []
    },
    {
      "cell_type": "code",
      "source": [
        "pq.buffer"
      ],
      "metadata": {
        "colab": {
          "base_uri": "https://localhost:8080/"
        },
        "id": "dBK6hgwFcGWx",
        "outputId": "6fa6ddc8-0c39-48d3-8934-bb144ff48d60"
      },
      "execution_count": null,
      "outputs": [
        {
          "output_type": "execute_result",
          "data": {
            "text/plain": [
              "deque([{'company:wall mart', 'price: 135.2', 'timestamp: 10 May,11:02 AM'},\n",
              "       {'company:wall mart', 'price: 133.9', 'timestamp: 10 May,11:01 AM'},\n",
              "       {'company:wall mart', 'price: 131.0', 'timestamp: 10 May,11:00 AM'}])"
            ]
          },
          "metadata": {},
          "execution_count": 5
        }
      ]
    },
    {
      "cell_type": "markdown",
      "source": [
        "# TREE"
      ],
      "metadata": {
        "id": "B9fIW1bBnVK3"
      }
    },
    {
      "cell_type": "code",
      "source": [
        "class TreeNode:\n",
        "\n",
        "  def __init__(self,data) -> None:\n",
        "    self.data=data\n",
        "    self.children=[]\n",
        "    self.parent=None\n",
        "\n",
        "  def add_child(self,child):\n",
        "    child.parent=self\n",
        "    self.children.append(child)\n",
        "\n",
        "  def print_tree(self):\n",
        "    spaces=\" \" * self.get_level()*6\n",
        "    prefix=spaces+'|___' if self.parent else \"\"\n",
        "\n",
        "    print(prefix+self.data)\n",
        "    if self.children:\n",
        "      for child in self.children:\n",
        "        child.print_tree()\n",
        "\n",
        "  def get_level(self):\n",
        "    level=0\n",
        "    p=self.parent\n",
        "    while p:\n",
        "      level+=1\n",
        "      p=p.parent\n",
        "\n",
        "    return level\n",
        "\n",
        "\n",
        "def build_product_tree():\n",
        "  root=TreeNode(\"Electronics\")\n",
        "\n",
        "  laptop=TreeNode(\"Laptop\")\n",
        "  laptop.add_child(TreeNode(\"HP\"))\n",
        "  laptop.add_child(TreeNode(\"Mac\"))\n",
        "  laptop.add_child(TreeNode(\"Lenovo\"))\n",
        "\n",
        "  mobile=TreeNode(\"Mobile\")\n",
        "  mobile.add_child(TreeNode(\"samsung\"))\n",
        "  mobile.add_child(TreeNode(\"apple\"))\n",
        "  mobile.add_child(TreeNode(\"vivo\"))\n",
        "\n",
        "  tv=TreeNode(\"Tv\")\n",
        "  tv.add_child(TreeNode(\"LG\"))\n",
        "  tv.add_child(TreeNode(\"Onida\"))\n",
        "  tv.add_child(TreeNode(\"sony\"))\n",
        "\n",
        "\n",
        "  root.add_child(laptop)\n",
        "  root.add_child(mobile)\n",
        "  root.add_child(tv)\n",
        "\n",
        "\n",
        "\n",
        "  return root\n",
        "\n",
        "\n",
        "\n",
        "if __name__==\"__main__\":\n",
        "  root=build_product_tree()\n",
        "  root.print_tree()\n",
        "\n",
        "  pass\n",
        "\n",
        "\n",
        "\n"
      ],
      "metadata": {
        "colab": {
          "base_uri": "https://localhost:8080/"
        },
        "id": "wh3qNslNnSTT",
        "outputId": "d4de5d29-c8e0-4438-e711-ca3022d9ca92"
      },
      "execution_count": null,
      "outputs": [
        {
          "output_type": "stream",
          "name": "stdout",
          "text": [
            "Electronics\n",
            "      |___Laptop\n",
            "            |___HP\n",
            "            |___Mac\n",
            "            |___Lenovo\n",
            "      |___Mobile\n",
            "            |___samsung\n",
            "            |___apple\n",
            "            |___vivo\n",
            "      |___Tv\n",
            "            |___LG\n",
            "            |___Onida\n",
            "            |___sony\n"
          ]
        }
      ]
    },
    {
      "cell_type": "code",
      "source": [
        "class TreeNode:\n",
        "  def __init__(self,data):\n",
        "    self.data=data\n",
        "    self.children=[]\n",
        "    self.parent=None\n",
        "\n",
        "  def add_child(self,child):\n",
        "    child.parent=self\n",
        "    self.children.append(child)\n",
        "\n",
        "\n",
        "  def print_tree(self):\n",
        "    spaces=\" \" * self.get_level() * 6\n",
        "    prefix=spaces + \"|__\"  if self.parent else \"\"\n",
        "    print(prefix+self.data)\n",
        "    if self.children:\n",
        "      for child in self.children:\n",
        "        child.print_tree()\n",
        "\n",
        "  def get_level(self):\n",
        "    level=0\n",
        "    p=self.parent\n",
        "    while p:\n",
        "      level+=1\n",
        "      p=p.parent\n",
        "\n",
        "    return level\n",
        "\n",
        "def build_product_tree():\n",
        "  root=TreeNode(\"Electronics\")\n",
        "\n",
        "  laptop=TreeNode(\"Laptop\")\n",
        "  laptop.add_child(TreeNode(\"HP\"))\n",
        "  laptop.add_child(TreeNode(\"DELL\"))\n",
        "  laptop.add_child(TreeNode(\"LENOVO\"))\n",
        "\n",
        "\n",
        "  cellphone=TreeNode(\"Cellphone\")\n",
        "  cellphone.add_child(TreeNode(\"SAMSUNG\"))\n",
        "  cellphone.add_child(TreeNode(\"REDMI\"))\n",
        "  cellphone.add_child(TreeNode(\"APPLE\"))\n",
        "\n",
        "  tv=TreeNode(\"TV\")\n",
        "  tv.add_child(TreeNode(\"ONIDA\"))\n",
        "  tv.add_child(TreeNode(\"SONY\"))\n",
        "  tv.add_child(TreeNode(\"ONE PLUS\"))\n",
        "\n",
        "\n",
        "\n",
        "  root.add_child(laptop)\n",
        "  root.add_child(cellphone)\n",
        "  root.add_child(tv)\n",
        "\n",
        "  return root\n",
        "\n",
        "\n",
        "\n",
        "\n",
        "if __name__==\"__main__\":\n",
        "  root=build_product_tree()\n",
        "  root.print_tree()\n"
      ],
      "metadata": {
        "colab": {
          "base_uri": "https://localhost:8080/"
        },
        "id": "8rNTPdcb3MfM",
        "outputId": "bc760cbd-64d7-4e3d-cb8d-fadd903aa01a"
      },
      "execution_count": null,
      "outputs": [
        {
          "output_type": "stream",
          "name": "stdout",
          "text": [
            "Electronics\n",
            "      |__Laptop\n",
            "            |__HP\n",
            "            |__DELL\n",
            "            |__LENOVO\n",
            "      |__Cellphone\n",
            "            |__SAMSUNG\n",
            "            |__REDMI\n",
            "            |__APPLE\n",
            "      |__TV\n",
            "            |__ONIDA\n",
            "            |__SONY\n",
            "            |__ONE PLUS\n"
          ]
        }
      ]
    },
    {
      "cell_type": "markdown",
      "source": [
        "# BINARY TREE"
      ],
      "metadata": {
        "id": "uiz6zmxvm_09"
      }
    },
    {
      "cell_type": "code",
      "source": [
        "class Binarysearchtree:\n",
        "  def __init__(self,data) -> None:\n",
        "    self.data=data\n",
        "    self.left=None\n",
        "    self.right=None\n",
        "\n",
        "  def add_child(self,data):\n",
        "    if data==self.data:\n",
        "      return\n",
        "    #Left side\n",
        "    if data < self.data:\n",
        "      if self.left:\n",
        "        self.left.add_child(data)\n",
        "      else:\n",
        "        self.left=Binarysearchtree(data)\n",
        "    #Right side\n",
        "    else:\n",
        "      if data > self.data:\n",
        "        if self.right:\n",
        "          self.right.add_child(data)\n",
        "        else:\n",
        "          self.right=Binarysearchtree(data)\n",
        "\n",
        "  def in_order_traversal(self):\n",
        "    elements=[]\n",
        "    if self.left:\n",
        "      elements=elements+self.left.in_order_traversal()\n",
        "\n",
        "    elements.append(self.data)\n",
        "    if self.right:\n",
        "      elements=elements+self.right.in_order_traversal()\n",
        "\n",
        "    return elements\n",
        "\n",
        "\n",
        "def build_tree(elements):\n",
        "  root=Binarysearchtree(elements[0])\n",
        "\n",
        "  for i in range(1,len(elements)):\n",
        "    root.add_child(elements[i])\n",
        "\n",
        "\n",
        "  return root\n",
        "\n",
        "\n",
        "\n",
        "if __name__ == \"__main__\":\n",
        "    numbers = [17, 4, 1, 20, 23, 18, 34]\n",
        "    number_tree = build_tree(numbers)\n",
        "    print(number_tree.in_order_traversal())\n"
      ],
      "metadata": {
        "id": "cXJ1B40L3vlb",
        "colab": {
          "base_uri": "https://localhost:8080/"
        },
        "outputId": "6c64662c-fcc1-4b25-8385-ad0f8ca8100a"
      },
      "execution_count": null,
      "outputs": [
        {
          "output_type": "stream",
          "name": "stdout",
          "text": [
            "[1, 4, 17, 18, 20, 23, 34]\n"
          ]
        }
      ]
    },
    {
      "cell_type": "code",
      "source": [
        "class Binarysearchtree:\n",
        "  def __init__(self,data):\n",
        "    self.data=data\n",
        "    self.left=None\n",
        "    self.right=None\n",
        "\n",
        "  def add_child(self,data):\n",
        "    if data==self.data:\n",
        "      return\n",
        "      #left side\n",
        "    if data < self.data:\n",
        "      if self.left:\n",
        "        self.left.add_child(data)\n",
        "      else:\n",
        "        self.left=Binarysearchtree(data)\n",
        "        #right side\n",
        "    else:\n",
        "      if self.right:\n",
        "        self.right.add_child(data)\n",
        "      else:\n",
        "        self.right=Binarysearchtree(data)\n",
        "\n",
        "  def in_order_traversal(self):\n",
        "    elements=[]\n",
        "    if self.left:\n",
        "      elements=elements+self.left.in_order_traversal()\n",
        "\n",
        "    elements.append(self.data)\n",
        "\n",
        "    if self.right:\n",
        "      elements=elements+self.right.in_order_traversal()\n",
        "\n",
        "    return elements\n",
        "\n",
        "  def pre_order_traversal(self):\n",
        "    elements=[]\n",
        "    elements.append(self.data)\n",
        "\n",
        "    if self.left:\n",
        "      elements+=self.left.pre_order_traversal()\n",
        "\n",
        "    if self.right:\n",
        "      elements+=self.right.pre_order_traversal()\n",
        "\n",
        "    return elements\n",
        "\n",
        "\n",
        "  def post_order_traversal(self):\n",
        "    elements=[]\n",
        "\n",
        "    if self.left:\n",
        "      elements+=self.left.pre_order_traversal()\n",
        "\n",
        "    if self.right:\n",
        "      elements+=self.right.pre_order_traversal()\n",
        "\n",
        "    elements.append(self.data)\n",
        "\n",
        "    return elements\n",
        "\n",
        "  def search(self,val):\n",
        "    if self.data==val:\n",
        "      return True\n",
        "    #if val < self.data na its left side\n",
        "    if val < self.data:\n",
        "      if self.left:\n",
        "        return self.left.search(val)\n",
        "      else:\n",
        "        return False\n",
        "    #if val > self.data na its right side\n",
        "    if val > self.data:\n",
        "      if self.right:\n",
        "        return self.right.search(val)\n",
        "      else:\n",
        "        return False\n",
        "\n",
        "  def find_max(self):\n",
        "    if self.right is None:\n",
        "      return self.data\n",
        "    return self.right.find_max()\n",
        "\n",
        "  def find_min(self):\n",
        "    if self.left is None:\n",
        "      return self.data\n",
        "    return self.left.find_min()\n",
        "\n",
        "  def calculate_sum(self):\n",
        "    left_sum=self.left.calculate_sum() if self.left else 0\n",
        "    right_sum=self.right.calculate_sum() if self.right else 0\n",
        "    return self.data + left_sum + right_sum\n",
        "\n",
        "\n",
        "\n",
        "\n",
        "\n",
        "def build_tree(elements):\n",
        "  root=Binarysearchtree(elements[0])\n",
        "\n",
        "  for i in range(1,len(elements)):\n",
        "    root.add_child(elements[i])\n",
        "\n",
        "\n",
        "  return root\n",
        "\n",
        "if  __name__==\"__main__\":\n",
        "  numbers=[17, 4, 1, 20, 23, 18, 34]\n",
        "  number_tree=build_tree(numbers)\n",
        "  print(number_tree.in_order_traversal())\n",
        "  print(number_tree.pre_order_traversal())\n",
        "  print(number_tree.post_order_traversal())\n",
        "  print(number_tree.find_max())\n",
        "  print(number_tree.find_min())\n",
        "  print(number_tree.calculate_sum())"
      ],
      "metadata": {
        "colab": {
          "base_uri": "https://localhost:8080/"
        },
        "id": "QxQKiK5g4DaN",
        "outputId": "2405e170-a6fe-4524-9c50-839b7a5610b3"
      },
      "execution_count": null,
      "outputs": [
        {
          "output_type": "stream",
          "name": "stdout",
          "text": [
            "[1, 4, 17, 18, 20, 23, 34]\n",
            "[17, 4, 1, 20, 18, 23, 34]\n",
            "[4, 1, 20, 18, 23, 34, 17]\n",
            "34\n",
            "1\n",
            "117\n"
          ]
        }
      ]
    },
    {
      "cell_type": "code",
      "source": [
        "from sre_constants import IN_IGNORE\n",
        "class Binarysearchtree:\n",
        "  def __init__(self,data) -> None:\n",
        "    self.data=data\n",
        "    self.left=None\n",
        "    self.right=None\n",
        "\n",
        "  def add_child(self,data):\n",
        "    if data==self.data:\n",
        "      return\n",
        "    #left side\n",
        "    if data < self.data:\n",
        "      if self.left:\n",
        "        self.left.add_child(data)\n",
        "      else:\n",
        "        self.left=Binarysearchtree(data)\n",
        "    else:#right side\n",
        "      if self.right:\n",
        "        self.right.add_child(data)\n",
        "      else:\n",
        "        self.right=Binarysearchtree(data)\n",
        "\n",
        "  def search(self,val):\n",
        "    if self.data==val:\n",
        "      return True\n",
        "    # if val < self.data it left side\n",
        "    if val < self.data:\n",
        "      if self.left:\n",
        "        return self.left.search(val)\n",
        "      else:\n",
        "        return False\n",
        "    # if val > self.data it right side\n",
        "    if val > self.data:\n",
        "      if self.right:\n",
        "        return self.right.search(val)\n",
        "      else:\n",
        "        return False\n",
        "\n",
        "  def find_max(self):\n",
        "    if self.right is None:\n",
        "      return self.data\n",
        "    return self.right.find_max()\n",
        "\n",
        "  def find_min(self):\n",
        "    if self.left is None:\n",
        "      return self.data\n",
        "    return self.left.find_min()\n",
        "\n",
        "\n",
        "\n",
        "  def in_order_traversal(self):\n",
        "    elements=[]\n",
        "\n",
        "    if self.left:\n",
        "      elements+=self.left.in_order_traversal()\n",
        "\n",
        "    elements.append(self.data)\n",
        "\n",
        "    if self.right:\n",
        "      elements+=self.right.in_order_traversal()\n",
        "\n",
        "    return elements\n",
        "\n",
        "  def pre_order_traversal(self):\n",
        "    elements=[]\n",
        "    elements.append(self.data)\n",
        "    if self.left:\n",
        "      elements+=self.left.in_order_traversal()\n",
        "    if self.right:\n",
        "      elements+=self.right.in_order_traversal()\n",
        "    return elements\n",
        "\n",
        "  def delete(self,val):\n",
        "    #Left side\n",
        "    if val < self.data:\n",
        "      if self.left:\n",
        "        self.left=self.left.delete(val)\n",
        "      else:\n",
        "        return None\n",
        "    #Right Side\n",
        "    elif val > self.data:\n",
        "      if self.right:\n",
        "        self.right=self.right.delete(val)\n",
        "\n",
        "    else:\n",
        "      if self.left is None and self.right is None:\n",
        "        return None\n",
        "      if self.left is None:\n",
        "        return self.right\n",
        "      if self.right is None:\n",
        "        return self.right\n",
        "\n",
        "\n",
        "      min_val=self.right.find_min()\n",
        "      self.data=min_val\n",
        "      self.right=self.right.delete(min_val)\n",
        "\n",
        "    return self\n",
        "\n",
        "\n",
        "def build_tree(elements):\n",
        "  print(\"Before deleteing  \",elements)\n",
        "  root=Binarysearchtree(elements[0])\n",
        "\n",
        "  for i in range(1,len(elements)):\n",
        "    root.add_child(elements[i])\n",
        "\n",
        "  return root\n",
        "\n",
        "if __name__==\"__main__\":\n",
        "  numbers=[17,4,1,20,9,23,18,34]\n",
        "  number_tree=build_tree(numbers)\n",
        "  number_tree.delete(20)\n",
        "  print(\"After deleteing 20 \",number_tree.in_order_traversal())\n",
        "\n",
        "\n",
        "  number_tree=build_tree([17,4,1,20,9,23,18,34])\n",
        "  number_tree.delete(9)\n",
        "  print(\"After deleteing 9 \",number_tree.in_order_traversal())\n",
        "\n",
        "  number_tree=build_tree([17,4,1,20,9,23,18,34])\n",
        "  number_tree.delete(17)\n",
        "  print(\"After deleteing 17 \",number_tree.in_order_traversal())"
      ],
      "metadata": {
        "id": "wQvqxCpBBF9_",
        "colab": {
          "base_uri": "https://localhost:8080/"
        },
        "outputId": "a86dfa25-d47e-4f5a-aee3-6017d2adf222"
      },
      "execution_count": null,
      "outputs": [
        {
          "output_type": "stream",
          "name": "stdout",
          "text": [
            "Before deleteing   [17, 4, 1, 20, 9, 23, 18, 34]\n",
            "After deleteing 20  [1, 4, 9, 17, 18, 23, 34]\n",
            "Before deleteing   [17, 4, 1, 20, 9, 23, 18, 34]\n",
            "After deleteing 9  [1, 4, 17, 18, 20, 23, 34]\n",
            "Before deleteing   [17, 4, 1, 20, 9, 23, 18, 34]\n",
            "After deleteing 17  [1, 4, 9, 18, 20, 23, 34]\n"
          ]
        }
      ]
    },
    {
      "cell_type": "markdown",
      "source": [
        "# GRAPH"
      ],
      "metadata": {
        "id": "DXMbBenhj27K"
      }
    },
    {
      "cell_type": "code",
      "source": [
        "class graph:\n",
        "  def __init__(self,edges) -> None:\n",
        "    self.edges=edges\n",
        "    self.graph_dict={}\n",
        "    for start,end in self.edges:\n",
        "      if start in self.graph_dict:\n",
        "        self.graph_dict[start].append(end)\n",
        "      else:\n",
        "        self.graph_dict[start]=[end]\n",
        "    print(\"Graph_dict:\",self.graph_dict)\n",
        "\n",
        "\n",
        "  def get_paths(self,start,end,path=[]):\n",
        "    path=path + [start]\n",
        "\n",
        "    if start==end:\n",
        "      return [path]\n",
        "\n",
        "    if start not in self.graph_dict:\n",
        "      return []\n",
        "\n",
        "    paths=[]\n",
        "\n",
        "    for node in self.graph_dict[start]:\n",
        "      if node not in path:\n",
        "        new_paths=self.get_paths(node,end,path)\n",
        "        for p in new_paths:\n",
        "          paths.append(p)\n",
        "\n",
        "    return paths\n",
        "\n",
        "\n",
        "  def get_shortest_path(self,start,end,path=[]):\n",
        "    path= path + [start]\n",
        "\n",
        "    if start==end:\n",
        "      return path\n",
        "\n",
        "    if start not in self.graph_dict:\n",
        "      return None\n",
        "\n",
        "    shortest_path=None\n",
        "\n",
        "    for node in self.graph_dict[start]:\n",
        "      if node not in path:\n",
        "        sp=self.get_shortest_path(node,end,path)\n",
        "        if sp:\n",
        "          if shortest_path is None  or len(sp) < len(shortest_path):\n",
        "            shortest_path=sp\n",
        "\n",
        "    return shortest_path\n",
        "\n",
        "\n",
        "\n",
        "if __name__==\"__main__\":\n",
        "  routes=[\n",
        "      (\"Mumbai\",\"Paris\"),\n",
        "      (\"Mumbai\",\"Dubai\"),\n",
        "      (\"Paris\",\"Dubai\"),\n",
        "      (\"Paris\",\"Newyork\"),\n",
        "      (\"Dubai\",\"Newyork\"),\n",
        "      (\"Newyork\",\"Chennai\"),\n",
        "\n",
        "  ]\n",
        "\n",
        "  route_graph=graph(routes)\n",
        "\n",
        "\n",
        "  start=\"Paris\"\n",
        "\n",
        "  end=\"Newyork\"\n",
        "\n",
        "  print(f\"shortest_path between {start} and {end}\",route_graph.get_shortest_path(start,end))"
      ],
      "metadata": {
        "colab": {
          "base_uri": "https://localhost:8080/"
        },
        "id": "mS-Ye-pbqGTi",
        "outputId": "25a638ce-6112-4a08-af1a-1a9e645fa834"
      },
      "execution_count": null,
      "outputs": [
        {
          "output_type": "stream",
          "name": "stdout",
          "text": [
            "Graph_dict: {'Mumbai': ['Paris', 'Dubai'], 'Paris': ['Dubai', 'Newyork'], 'Dubai': ['Newyork'], 'Newyork': ['Chennai']}\n",
            "shortest_path between Paris and Newyork ['Paris', 'Newyork']\n"
          ]
        }
      ]
    },
    {
      "cell_type": "markdown",
      "source": [
        "# SEARCHING"
      ],
      "metadata": {
        "id": "evQWSFf7B5UF"
      }
    },
    {
      "cell_type": "code",
      "source": [
        "#LINEAR SEARCH\n",
        "def Linear_Search(numbers_list,number_to_find):\n",
        "  for index,element in enumerate(numbers_list):\n",
        "    if element==number_to_find:\n",
        "      return index\n",
        "\n",
        "  return -1\n",
        "\n",
        "\n",
        "\n",
        "if __name__==\"__main__\":\n",
        "  numbers_list=[12,15,17,19,21,24,45,67]\n",
        "  number_to_find=24\n",
        "\n",
        "  index=Linear_Search(numbers_list,number_to_find)\n",
        "  print(f\"Number foun at index {index} using linear search\")"
      ],
      "metadata": {
        "colab": {
          "base_uri": "https://localhost:8080/"
        },
        "id": "JeyDe142B9np",
        "outputId": "f731d3fa-50c8-4d87-8fa2-b2cad6691504"
      },
      "execution_count": null,
      "outputs": [
        {
          "output_type": "stream",
          "name": "stdout",
          "text": [
            "Number foun at index 5 using linear search\n"
          ]
        }
      ]
    },
    {
      "cell_type": "markdown",
      "source": [
        "BINARY SEARCH"
      ],
      "metadata": {
        "id": "Md-W9OT-Fc3-"
      }
    },
    {
      "cell_type": "code",
      "source": [
        "def Binary_search(numbers_list,number_to_find):\n",
        "  left_index=0\n",
        "  right_index=len(numbers_list)-1\n",
        "  mid_index=0\n",
        "\n",
        "  while left_index <= right_index:\n",
        "\n",
        "      mid_index=(left_index + right_index)//2\n",
        "      mid_number=numbers_list[mid_index]\n",
        "\n",
        "      if number_to_find==mid_number:\n",
        "        return mid_index\n",
        "\n",
        "      if mid_number < number_to_find:\n",
        "        left_index=mid_index + 1\n",
        "      else:\n",
        "        right_index=mid_index -1\n",
        "\n",
        "  return -1\n",
        "\n",
        "def Binary_search_rescursive(numbers_list,number_to_find,left_index,right_index):\n",
        "  if right_index < left_index:\n",
        "    return -1\n",
        "\n",
        "  mid_index=(left_index+right_index)//2\n",
        "  if mid_index >= len(numbers_list) or mid_index < 0:\n",
        "    return -1\n",
        "\n",
        "  mid_index=(left_index+right_index)//2\n",
        "  mid_number=numbers_list[mid_index]\n",
        "\n",
        "  if number_to_find==mid_number:\n",
        "    return mid_index\n",
        "\n",
        "  if mid_number < number_to_find:\n",
        "    left_index=mid_index+1\n",
        "  else:\n",
        "    right_index=mid_index-1\n",
        "\n",
        "  return   Binary_search_rescursive(numbers_list,number_to_find,left_index,right_index)\n",
        "\n",
        "\n",
        "\n",
        "\n",
        "if __name__==\"__main__\":\n",
        "\n",
        "  numbers_list=[12,15,17,19,21,24,45,67]\n",
        "  number_to_find=42\n",
        "\n",
        "  index=Binary_search_rescursive(numbers_list,number_to_find,0,len(numbers_list))\n",
        "  print(f\"Number foun at index {index} using Binary Search in Recursive Method\")"
      ],
      "metadata": {
        "colab": {
          "base_uri": "https://localhost:8080/"
        },
        "id": "4GTAR_N_FcGg",
        "outputId": "49dd1ae3-ad51-47fa-c367-c114be41c938"
      },
      "execution_count": null,
      "outputs": [
        {
          "output_type": "stream",
          "name": "stdout",
          "text": [
            "Number foun at index -1 using Binary Search in Recursive Method\n"
          ]
        }
      ]
    },
    {
      "cell_type": "markdown",
      "source": [
        "# SORTING ALGORITHMS"
      ],
      "metadata": {
        "id": "tfsNf_HMTykd"
      }
    },
    {
      "cell_type": "markdown",
      "source": [
        "BUBBLE SORTING"
      ],
      "metadata": {
        "id": "OgwlPLWPT2bL"
      }
    },
    {
      "cell_type": "code",
      "source": [
        "def bubble_sort(elements):\n",
        "  size=len(elements)\n",
        "  for i in range(size-1):\n",
        "    swapped=False\n",
        "    for j in range(size-1-i):\n",
        "      if elements[j] > elements[j+1]:\n",
        "        tmp=elements[j]\n",
        "        elements[j]=elements[j+1]\n",
        "        elements[j+1]=tmp\n",
        "        swapped=True\n",
        "    if not swapped:\n",
        "      break\n",
        "\n",
        "\n",
        "\n",
        "if __name__==\"__main__\":\n",
        "  #elements=[38,9,29,7,2,15,28]\n",
        "  elements=[1,2,3,4,5]\n",
        "\n",
        "  bubble_sort(elements)\n",
        "\n",
        "  print(elements)\n"
      ],
      "metadata": {
        "colab": {
          "base_uri": "https://localhost:8080/"
        },
        "id": "s3DkRPYTT5Vv",
        "outputId": "379be08e-3406-4236-deba-1902d731d779"
      },
      "execution_count": null,
      "outputs": [
        {
          "output_type": "stream",
          "name": "stdout",
          "text": [
            "[1, 2, 3, 4, 5]\n"
          ]
        }
      ]
    },
    {
      "cell_type": "code",
      "source": [
        "def bubble_sort(elements,key=None):\n",
        "  size=len(elements)\n",
        "\n",
        "  for i in range(size-1):\n",
        "    swapped =False\n",
        "    for j in range(size-1-i):\n",
        "      a=elements[j][key]\n",
        "      b=elements[j+1][key]\n",
        "      if a > b:\n",
        "        temp=elements[j]\n",
        "        elements[j]=elements[j+1]\n",
        "        elements[j+1]=temp\n",
        "        swapped=True\n",
        "    if not swapped:\n",
        "      break\n",
        "\n",
        "if __name__==\"__main__\":\n",
        "  elements = [\n",
        "        { 'name': 'mona',   'transaction_amount': 1000, 'device': 'iphone-10'},\n",
        "        { 'name': 'dhaval', 'transaction_amount': 400,  'device': 'google pixel'},\n",
        "        { 'name': 'kathy',  'transaction_amount': 200,  'device': 'vivo'},\n",
        "        { 'name': 'aamir',  'transaction_amount': 800,  'device': 'iphone-8'},\n",
        "    ]\n",
        "\n",
        "  bubble_sort(elements,key=\"name\")\n",
        "  print(elements)\n"
      ],
      "metadata": {
        "colab": {
          "base_uri": "https://localhost:8080/"
        },
        "id": "OtxGT6czbENL",
        "outputId": "4907979d-7909-4452-80db-e3a54f058263"
      },
      "execution_count": null,
      "outputs": [
        {
          "output_type": "stream",
          "name": "stdout",
          "text": [
            "[{'name': 'aamir', 'transaction_amount': 800, 'device': 'iphone-8'}, {'name': 'dhaval', 'transaction_amount': 400, 'device': 'google pixel'}, {'name': 'kathy', 'transaction_amount': 200, 'device': 'vivo'}, {'name': 'mona', 'transaction_amount': 1000, 'device': 'iphone-10'}]\n"
          ]
        }
      ]
    },
    {
      "cell_type": "markdown",
      "source": [
        "# SELECTION SORT"
      ],
      "metadata": {
        "id": "xOfLdsT4XqJg"
      }
    },
    {
      "cell_type": "code",
      "source": [
        "def find_min(arr):\n",
        "  size=len(arr)\n",
        "  min =100\n",
        "  for i in range(size):\n",
        "    if arr[i]< min:\n",
        "      min=arr[i]\n",
        "  return min\n",
        "\n",
        "\n",
        "def selection_sort(arr):\n",
        "  size=len(arr)\n",
        "  for i in range(size-1):\n",
        "    mid_index=i\n",
        "    for j in range(mid_index+1,size):\n",
        "      if arr[j] < arr[mid_index]:\n",
        "        mid_index=j\n",
        "\n",
        "    if i!=mid_index:\n",
        "      arr[i],arr[mid_index]=arr[mid_index],arr[i]\n",
        "\n",
        "if __name__==\"__main__\":\n",
        "  elements=[21,38,29,2,4,25,11,32,9]\n",
        "  selection_sort(elements)\n",
        "  print(elements)"
      ],
      "metadata": {
        "colab": {
          "base_uri": "https://localhost:8080/"
        },
        "id": "cHonnZ1dXusT",
        "outputId": "260283ab-c152-4a80-bcd4-e8c4c3f6ba00"
      },
      "execution_count": null,
      "outputs": [
        {
          "output_type": "stream",
          "name": "stdout",
          "text": [
            "[2, 4, 9, 11, 21, 25, 29, 32, 38]\n"
          ]
        }
      ]
    },
    {
      "cell_type": "code",
      "source": [
        "def multilevel_selection_sort(elements,sort_by_list):\n",
        "  for sort_by in sort_by_list[-1::-1]:\n",
        "    for  x in range(len(elements)):\n",
        "      mid_index=x\n",
        "      for y in range(mid_index+1,len(elements)):\n",
        "        if elements[y][sort_by] < elements[mid_index][sort_by]:\n",
        "          mid_index=y\n",
        "      if x!=mid_index:\n",
        "        elements[x],elements[mid_index] = elements[mid_index] ,elements[x]\n",
        "\n",
        "\n",
        "\n",
        "\n",
        "if __name__==\"__main__\":\n",
        "  elements=[\n",
        "    {'First Name': 'Raj', 'Last Name': 'Nayyar'},\n",
        "    {'First Name': 'Suraj', 'Last Name': 'Sharma'},\n",
        "    {'First Name': 'Karan', 'Last Name': 'Kumar'},\n",
        "    {'First Name': 'Jade', 'Last Name': 'Canary'},\n",
        "    {'First Name': 'Raj', 'Last Name': 'Thakur'},\n",
        "    {'First Name': 'Raj', 'Last Name': 'Sharma'},\n",
        "    {'First Name': 'Kiran', 'Last Name': 'Kamla'},\n",
        "    {'First Name': 'Armaan', 'Last Name': 'Kumar'},\n",
        "    {'First Name': 'Jaya', 'Last Name': 'Sharma'},\n",
        "    {'First Name': 'Ingrid', 'Last Name': 'Galore'},\n",
        "    {'First Name': 'Jaya', 'Last Name': 'Seth'},\n",
        "    {'First Name': 'Armaan', 'Last Name': 'Dadra'},\n",
        "    {'First Name': 'Ingrid', 'Last Name': 'Maverick'},\n",
        "    {'First Name': 'Aahana', 'Last Name': 'Arora'}]\n",
        "  print(f'Given unsorted array:', *elements, sep='\\n')\n",
        "  multilevel_selection_sort(\n",
        "  elements, ['First Name', 'Last Name'])\n",
        "  print(f'Array after Multi-Level Sorting:', *elements, sep='\\n')\n"
      ],
      "metadata": {
        "colab": {
          "base_uri": "https://localhost:8080/"
        },
        "id": "QIFfU0wHhCsb",
        "outputId": "fe137f42-129e-4056-9ec0-83d6ab9aa061"
      },
      "execution_count": null,
      "outputs": [
        {
          "output_type": "stream",
          "name": "stdout",
          "text": [
            "Given unsorted array:\n",
            "{'First Name': 'Raj', 'Last Name': 'Nayyar'}\n",
            "{'First Name': 'Suraj', 'Last Name': 'Sharma'}\n",
            "{'First Name': 'Karan', 'Last Name': 'Kumar'}\n",
            "{'First Name': 'Jade', 'Last Name': 'Canary'}\n",
            "{'First Name': 'Raj', 'Last Name': 'Thakur'}\n",
            "{'First Name': 'Raj', 'Last Name': 'Sharma'}\n",
            "{'First Name': 'Kiran', 'Last Name': 'Kamla'}\n",
            "{'First Name': 'Armaan', 'Last Name': 'Kumar'}\n",
            "{'First Name': 'Jaya', 'Last Name': 'Sharma'}\n",
            "{'First Name': 'Ingrid', 'Last Name': 'Galore'}\n",
            "{'First Name': 'Jaya', 'Last Name': 'Seth'}\n",
            "{'First Name': 'Armaan', 'Last Name': 'Dadra'}\n",
            "{'First Name': 'Ingrid', 'Last Name': 'Maverick'}\n",
            "{'First Name': 'Aahana', 'Last Name': 'Arora'}\n",
            "Array after Multi-Level Sorting:\n",
            "{'First Name': 'Aahana', 'Last Name': 'Arora'}\n",
            "{'First Name': 'Armaan', 'Last Name': 'Dadra'}\n",
            "{'First Name': 'Armaan', 'Last Name': 'Kumar'}\n",
            "{'First Name': 'Ingrid', 'Last Name': 'Galore'}\n",
            "{'First Name': 'Ingrid', 'Last Name': 'Maverick'}\n",
            "{'First Name': 'Jade', 'Last Name': 'Canary'}\n",
            "{'First Name': 'Jaya', 'Last Name': 'Seth'}\n",
            "{'First Name': 'Jaya', 'Last Name': 'Sharma'}\n",
            "{'First Name': 'Karan', 'Last Name': 'Kumar'}\n",
            "{'First Name': 'Kiran', 'Last Name': 'Kamla'}\n",
            "{'First Name': 'Raj', 'Last Name': 'Sharma'}\n",
            "{'First Name': 'Raj', 'Last Name': 'Nayyar'}\n",
            "{'First Name': 'Raj', 'Last Name': 'Thakur'}\n",
            "{'First Name': 'Suraj', 'Last Name': 'Sharma'}\n"
          ]
        }
      ]
    },
    {
      "cell_type": "markdown",
      "source": [
        "Inseration Sort"
      ],
      "metadata": {
        "id": "7JIBwgmmcthZ"
      }
    },
    {
      "cell_type": "code",
      "source": [
        "def insertion_sort(elements):\n",
        "  for i in range(1,len(elements)):\n",
        "    anchor =elements[i]\n",
        "    j=i-1\n",
        "    while j>=0 and anchor<elements[j]:\n",
        "      elements[j+1]=elements[j]\n",
        "      j=j-1\n",
        "\n",
        "    elements[j+1]=anchor\n",
        "\n",
        "\n",
        "\n",
        "if __name__==\"__main__\":\n",
        "  elements=[11,9,29,7,2,15,28]\n",
        "  insertion_sort(elements)\n",
        "  print(elements)"
      ],
      "metadata": {
        "colab": {
          "base_uri": "https://localhost:8080/"
        },
        "id": "6_I_wPihlaT6",
        "outputId": "9bed1d00-7cbc-435a-aa01-f33c7c8a94f1"
      },
      "execution_count": null,
      "outputs": [
        {
          "output_type": "stream",
          "name": "stdout",
          "text": [
            "[2, 7, 9, 11, 15, 28, 29]\n"
          ]
        }
      ]
    },
    {
      "cell_type": "markdown",
      "source": [
        "Merge Sort"
      ],
      "metadata": {
        "id": "MQhrEpppdnr6"
      }
    },
    {
      "cell_type": "code",
      "source": [
        "def merge_sort(arr):\n",
        "  if len(arr)<=1:\n",
        "    return arr\n",
        "  mid=len(arr)//2\n",
        "  left=arr[:mid]\n",
        "  right=arr[mid:]\n",
        "\n",
        "  merge_sort(left)\n",
        "  merge_sort(right)\n",
        "\n",
        "  merge_two_sorted_arr(left,right,arr)\n",
        "\n",
        "def merge_two_sorted_arr(a,b,arr):\n",
        "  sorted_list=[]\n",
        "  len_a=len(a)\n",
        "  len_b=len(b)\n",
        "  i=j=k=0\n",
        "\n",
        "  while i <len_a and j <len_b:\n",
        "    if a[i] <= b[j]:\n",
        "      arr[k]=a[i]\n",
        "      i+=1\n",
        "      k+=1\n",
        "    else:\n",
        "       arr[k]=b[j]\n",
        "       j+=1\n",
        "       k+=1\n",
        "\n",
        "  while i <len_a:\n",
        "    arr[k]=a[i]\n",
        "    i+=1\n",
        "    k+=1\n",
        "\n",
        "  while j <len_b:\n",
        "    arr[k]=b[j]\n",
        "    j+=1\n",
        "    k+=1\n",
        "\n",
        "\n",
        "if __name__==\"__main__\":\n",
        "  arr=[10,3,15,7,8,23,98,29]\n",
        "  merge_sort(arr)\n",
        "  print(arr)"
      ],
      "metadata": {
        "colab": {
          "base_uri": "https://localhost:8080/"
        },
        "id": "kcwQHnltdqlX",
        "outputId": "60261bd2-bbd4-4d0e-9c3c-6f1ad5700b39"
      },
      "execution_count": null,
      "outputs": [
        {
          "output_type": "stream",
          "name": "stdout",
          "text": [
            "[3, 7, 8, 10, 15, 23, 29, 98]\n"
          ]
        }
      ]
    },
    {
      "cell_type": "markdown",
      "source": [
        "# SHELL SORT"
      ],
      "metadata": {
        "id": "LDOE7yTyf7zJ"
      }
    },
    {
      "cell_type": "code",
      "source": [
        "def shell_sort(arr):\n",
        "  size=len(arr)\n",
        "  gap=size//2\n",
        "\n",
        "  while gap>0:\n",
        "    for i in range(gap,size):\n",
        "      anchor=arr[i]\n",
        "      j=i\n",
        "      while j>=gap and arr[j-gap] > anchor:\n",
        "        arr[j]=arr[j-gap]\n",
        "        j-=gap\n",
        "        arr[j]=anchor\n",
        "    gap=gap//2\n",
        "\n",
        "\n",
        "if __name__==\"__main__\":\n",
        "  arr=[21,38,29,17,4,25,11,32,9]\n",
        "  shell_sort(arr)\n",
        "  print(arr)"
      ],
      "metadata": {
        "colab": {
          "base_uri": "https://localhost:8080/"
        },
        "id": "pI3okYlpf7Hd",
        "outputId": "63beb359-a877-477e-b28c-985be7a92b99"
      },
      "execution_count": null,
      "outputs": [
        {
          "output_type": "stream",
          "name": "stdout",
          "text": [
            "[4, 9, 11, 17, 21, 25, 29, 32, 38]\n"
          ]
        }
      ]
    },
    {
      "cell_type": "markdown",
      "source": [
        "#  Recursion"
      ],
      "metadata": {
        "id": "Lxj6TqFzx3FT"
      }
    },
    {
      "cell_type": "code",
      "source": [
        "def find_sum(n):\n",
        "  sum=0\n",
        "  for i in range(1,n+1):\n",
        "    sum=sum+i\n",
        "  return sum\n",
        "\n",
        "if __name__==\"__main__\":\n",
        "  print(find_sum(5))"
      ],
      "metadata": {
        "colab": {
          "base_uri": "https://localhost:8080/"
        },
        "id": "DKUSQ_RWx7EF",
        "outputId": "49fc0264-31eb-43f6-e653-a5f2640fc3bc"
      },
      "execution_count": null,
      "outputs": [
        {
          "output_type": "stream",
          "name": "stdout",
          "text": [
            "15\n"
          ]
        }
      ]
    },
    {
      "cell_type": "code",
      "source": [
        "def find_sum(n):\n",
        "  if n==1:\n",
        "    return n\n",
        "  return n + find_sum(n-1)\n",
        "\n",
        "if __name__==\"__main__\":\n",
        "  print(find_sum(5))"
      ],
      "metadata": {
        "colab": {
          "base_uri": "https://localhost:8080/"
        },
        "id": "jyGciD8P1VVN",
        "outputId": "bf302c3b-2831-43cc-a71d-4ee6571b7eb1"
      },
      "execution_count": null,
      "outputs": [
        {
          "output_type": "stream",
          "name": "stdout",
          "text": [
            "15\n"
          ]
        }
      ]
    },
    {
      "cell_type": "code",
      "source": [
        "def fib(n):\n",
        "  if n==0 or n==1:\n",
        "    return n\n",
        "  return fib(n-1) +fib(n-2)\n",
        "\n",
        "\n",
        "if __name__==\"__main__\":\n",
        "  print(fib(6))"
      ],
      "metadata": {
        "colab": {
          "base_uri": "https://localhost:8080/"
        },
        "id": "_Ba6oq-r1iC_",
        "outputId": "b776709c-73d3-4d2a-c88a-a2cc400cc191"
      },
      "execution_count": null,
      "outputs": [
        {
          "output_type": "stream",
          "name": "stdout",
          "text": [
            "8\n"
          ]
        }
      ]
    },
    {
      "cell_type": "code",
      "source": [
        "print(\"THANKYOU\")"
      ],
      "metadata": {
        "colab": {
          "base_uri": "https://localhost:8080/"
        },
        "id": "N9vsY9Go69r5",
        "outputId": "0d85af46-a15d-4c71-a7a8-803918f2fd90"
      },
      "execution_count": 3,
      "outputs": [
        {
          "output_type": "stream",
          "name": "stdout",
          "text": [
            "THANKYOU\n"
          ]
        }
      ]
    },
    {
      "cell_type": "markdown",
      "source": [
        "# THANK YOU\n"
      ],
      "metadata": {
        "id": "oRw0lEeN67c5"
      }
    }
  ]
}