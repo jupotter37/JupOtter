{
 "cells": [
  {
   "cell_type": "markdown",
   "metadata": {},
   "source": [
    "This jupyter is to show how good different sorting algorithms works"
   ]
  },
  {
   "cell_type": "code",
   "execution_count": 10,
   "metadata": {},
   "outputs": [],
   "source": [
    "list_to_sort = [66, 48, 43, 52, 33, 40, 64, 33, 7, 14, 49, 67, 51, 68, 31, 19, 5, 32, 17, 12, 97, 75, 86, 99, 70, 29, 76, 88, 16, 37, 94]"
   ]
  },
  {
   "cell_type": "markdown",
   "metadata": {},
   "source": [
    "### 1) BogoSort: This is basically sorting randomly the values until they are sorted"
   ]
  },
  {
   "cell_type": "markdown",
   "metadata": {},
   "source": [
    "This algorithm has 2 parts. The first one is sorting in the only one good propetie"
   ]
  },
  {
   "cell_type": "code",
   "execution_count": 7,
   "metadata": {},
   "outputs": [
    {
     "name": "stdout",
     "output_type": "stream",
     "text": [
      "Original list: [64, 88, 76, 97, 94]\n",
      "Attempt numbers: 1\n",
      "[94, 88, 97, 64, 76]\n",
      "Attempt numbers: 2\n",
      "[97, 76, 88, 64, 94]\n",
      "Attempt numbers: 3\n",
      "[64, 94, 76, 97, 88]\n",
      "Attempt numbers: 4\n",
      "[94, 97, 76, 64, 88]\n",
      "Attempt numbers: 5\n",
      "[94, 88, 97, 64, 76]\n",
      "Attempt numbers: 6\n",
      "[94, 76, 64, 88, 97]\n",
      "Attempt numbers: 7\n",
      "[94, 88, 97, 76, 64]\n",
      "Attempt numbers: 8\n",
      "[64, 88, 76, 94, 97]\n",
      "Attempt numbers: 9\n",
      "[64, 97, 88, 94, 76]\n",
      "Sorted after 61 attempts\n",
      "Sorted list: [64, 76, 88, 94, 97]\n"
     ]
    }
   ],
   "source": [
    "import random\n",
    "\n",
    "def is_sorted(arr):\n",
    "    for i in range(len(arr) - 1):\n",
    "        if arr[i] > arr[i + 1]:\n",
    "            return False\n",
    "    return True\n",
    "\n",
    "def bogo_sort(arr):\n",
    "    attempts = 0 \n",
    "    while not is_sorted(arr):\n",
    "        random.shuffle(arr) \n",
    "        attempts += 1\n",
    "        if attempts // 10 == 0:\n",
    "            print(f'Attempt numbers: {attempts}')\n",
    "            print(arr)\n",
    "    print(f\"Sorted after {attempts} attempts\")\n",
    "    return arr\n",
    "\n",
    "print(\"Original list:\", list_to_sort[:5]) # ONLY 5 NUMBER SO IT DOESN'T TAKE SO LONG\n",
    "sorted_arr = bogo_sort(list_to_sort[:5])\n",
    "print(\"Sorted list:\", sorted_arr[:5])\n"
   ]
  },
  {
   "cell_type": "markdown",
   "metadata": {},
   "source": [
    "## 2) _Bubble Sort_ : \n",
    "This algorithm compares adjacent elements and swaps them if they are in the wrong order. It continues moving larger elements to the right, \"bubbling\" them up to their correct position with each pass through the list. After each pass, the largest unsorted element is placed at the end of the list, forming a growing sorted section."
   ]
  },
  {
   "cell_type": "code",
   "execution_count": 2,
   "metadata": {},
   "outputs": [
    {
     "name": "stdout",
     "output_type": "stream",
     "text": [
      "Original list: [66, 48, 43, 52, 33, 40, 64, 7, 14, 49]\n",
      "Attempt number: 1\n",
      "[48, 43, 52, 33, 40, 64, 7, 14, 49, 66]\n",
      "Attempt number: 2\n",
      "[43, 48, 33, 40, 52, 7, 14, 49, 64, 66]\n",
      "Attempt number: 3\n",
      "[43, 33, 40, 48, 7, 14, 49, 52, 64, 66]\n",
      "Attempt number: 4\n",
      "[33, 40, 43, 7, 14, 48, 49, 52, 64, 66]\n",
      "Attempt number: 5\n",
      "[33, 40, 7, 14, 43, 48, 49, 52, 64, 66]\n",
      "Attempt number: 6\n",
      "[33, 7, 14, 40, 43, 48, 49, 52, 64, 66]\n",
      "Attempt number: 7\n",
      "[7, 14, 33, 40, 43, 48, 49, 52, 64, 66]\n",
      "Attempt number: 8\n",
      "[7, 14, 33, 40, 43, 48, 49, 52, 64, 66]\n",
      "Sorted after 8 attempts\n",
      "Sorted list: [7, 14, 33, 40, 43, 48, 49, 52, 64, 66]\n"
     ]
    }
   ],
   "source": [
    "def bubble_sort(arr):\n",
    "    attempts = 0\n",
    "    n = len(arr)\n",
    "    while True:\n",
    "        attempts += 1\n",
    "        changes = False\n",
    "        for i in range(n - 1):\n",
    "            current = arr[i]\n",
    "            next_value = arr[i+1]\n",
    "            if current > next_value:\n",
    "                arr[i] = next_value\n",
    "                arr[i+1] = current\n",
    "                changes = True\n",
    "        print(f'Attempt number: {attempts}')\n",
    "        print(arr)\n",
    "        if not changes:\n",
    "            break\n",
    "    print(f\"Sorted after {attempts} attempts\")\n",
    "    return arr\n",
    "\n",
    "print(\"Original list:\", list_to_sort[:10])\n",
    "sorted_arr = bubble_sort(list_to_sort[:10])\n",
    "print(\"Sorted list:\", sorted_arr[:10])         "
   ]
  },
  {
   "cell_type": "markdown",
   "metadata": {},
   "source": [
    "## 3) _Insertion Sort_: \n",
    "It is a simple sorting algorithm that builds the sorted list one element at a time by comparing the current element with the already sorted portion and shifting larger elements to the right to insert the current element in the correct position. It starts with the second element and iterates through the list until all elements are sorted. The time complexity is O(n) in the best case (when the list is already sorted), and O(n²) in both the average and worst cases (when elements are in random or reverse order). The space complexity is O(1) since it is an in-place algorithm."
   ]
  },
  {
   "cell_type": "markdown",
   "metadata": {},
   "source": [
    "For this one I first tried to solved it without thinking about it, without looking up things in google or anything realted, just using the things I remember (like in some interviews i've been in). However, after this first try I solved it by using internet too. You can see the big difference between them, which shows how much I still have to learn."
   ]
  },
  {
   "cell_type": "code",
   "execution_count": 16,
   "metadata": {},
   "outputs": [
    {
     "name": "stdout",
     "output_type": "stream",
     "text": [
      "Original list: [66, 48, 43, 52, 33, 40, 64, 7, 14, 49]\n",
      "For i = 1 then list is: [48, 66, 43, 52, 33, 40, 64, 7, 14, 49]\n",
      "For i = 2 then list is: [43, 48, 66, 52, 33, 40, 64, 7, 14, 49]\n",
      "For i = 3 then list is: [43, 48, 52, 66, 33, 40, 64, 7, 14, 49]\n",
      "For i = 4 then list is: [33, 43, 48, 52, 66, 40, 64, 7, 14, 49]\n",
      "For i = 5 then list is: [33, 40, 43, 48, 52, 66, 64, 7, 14, 49]\n",
      "For i = 6 then list is: [33, 40, 43, 48, 52, 64, 66, 7, 14, 49]\n",
      "For i = 7 then list is: [7, 33, 40, 43, 48, 52, 64, 66, 14, 49]\n",
      "For i = 8 then list is: [7, 14, 33, 40, 43, 48, 52, 64, 66, 49]\n",
      "For i = 9 then list is: [7, 14, 33, 40, 43, 48, 49, 52, 64, 66]\n",
      "Sorted list: [7, 14, 33, 40, 43, 48, 49, 52, 64, 66]\n"
     ]
    }
   ],
   "source": [
    "def insertion_sort(arr):\n",
    "    n = len(arr)\n",
    "    for i in range(1, n):\n",
    "        previous = arr[i-1]\n",
    "        current = arr[i]\n",
    "        if current < previous: # Si identifica que es mnor que su antecesor, entra en un loop\n",
    "            for j in range(i-1, -1, -1): #the first -1 is it avoid i = j, the second 1 is to get all the way to 0, and the 3rd 1 is to do it backwards\n",
    "                if j == 0 and arr[j] > arr[i]: # case when j gets to the end of the list\n",
    "                    curr_number = arr.pop(i)\n",
    "                    arr.insert(0, curr_number)\n",
    "                    break\n",
    "                elif arr[j-1] < arr[i] and arr[j] > arr[i]:\n",
    "                    curr_number = arr.pop(i)\n",
    "                    arr.insert(j, curr_number)\n",
    "                    break\n",
    "        print(f'For i = {i} then list is: {arr}')\n",
    "    return arr\n",
    "\n",
    "print(\"Original list:\", list_to_sort[:10])\n",
    "sorted_arr = insertion_sort(list_to_sort[:10])\n",
    "print(\"Sorted list:\", sorted_arr[:10])         "
   ]
  },
  {
   "cell_type": "code",
   "execution_count": 15,
   "metadata": {},
   "outputs": [
    {
     "name": "stdout",
     "output_type": "stream",
     "text": [
      "Original list: [66, 48, 43, 52, 33, 40, 64, 7, 14, 49]\n",
      "For i = 1, the list is: [48, 66, 43, 52, 33, 40, 64, 7, 14, 49]\n",
      "For i = 2, the list is: [43, 48, 66, 52, 33, 40, 64, 7, 14, 49]\n",
      "For i = 3, the list is: [43, 48, 52, 66, 33, 40, 64, 7, 14, 49]\n",
      "For i = 4, the list is: [33, 43, 48, 52, 66, 40, 64, 7, 14, 49]\n",
      "For i = 5, the list is: [33, 40, 43, 48, 52, 66, 64, 7, 14, 49]\n",
      "For i = 6, the list is: [33, 40, 43, 48, 52, 64, 66, 7, 14, 49]\n",
      "For i = 7, the list is: [7, 33, 40, 43, 48, 52, 64, 66, 14, 49]\n",
      "For i = 8, the list is: [7, 14, 33, 40, 43, 48, 52, 64, 66, 49]\n",
      "For i = 9, the list is: [7, 14, 33, 40, 43, 48, 49, 52, 64, 66]\n",
      "Sorted list: [7, 14, 33, 40, 43, 48, 49, 52, 64, 66]\n"
     ]
    }
   ],
   "source": [
    "def insertion_sort(arr):\n",
    "    n = len(arr)\n",
    "    for i in range(1, n):\n",
    "        current = arr[i]\n",
    "        j = i - 1\n",
    "    \n",
    "        while j >= 0 and arr[j] > current:\n",
    "            arr[j + 1] = arr[j]\n",
    "            j -= 1\n",
    "        \n",
    "        arr[j + 1] = current\n",
    "\n",
    "        print(f'For i = {i}, the list is: {arr}')\n",
    "    \n",
    "    return arr\n",
    "\n",
    "print(\"Original list:\", list_to_sort[:10])\n",
    "sorted_arr = insertion_sort(list_to_sort[:10])\n",
    "print(\"Sorted list:\", sorted_arr[:10]) \n"
   ]
  },
  {
   "cell_type": "markdown",
   "metadata": {},
   "source": [
    "## 4) _Merge Sort_ : \n",
    "It is a sorting algorithm that works by breaking an array into smaller pieces and then putting them back together in order. It keeps splitting the list in half until each piece has just one element, then it merges those pieces by comparing them and sorting as it goes. The cool thing is, no matter what, it always takes about O(n log n) time because splitting the list takes log n steps and merging everything back takes n steps at each level. The downside is it uses extra space, about O(n), since it creates new arrays to hold the split-up parts while sorting."
   ]
  },
  {
   "cell_type": "markdown",
   "metadata": {},
   "source": [
    "4.a) Basic attempt: Using 2 different functions"
   ]
  },
  {
   "cell_type": "code",
   "execution_count": 29,
   "metadata": {},
   "outputs": [
    {
     "name": "stdout",
     "output_type": "stream",
     "text": [
      "Original list: [66, 48, 43, 52, 33, 40, 64, 7, 14, 49, 67, 51, 68, 31, 19, 5, 32, 17, 12, 97]\n",
      "Sorted list: [5, 7, 12, 14, 17, 19, 31, 32, 33, 40, 43, 48, 49, 51, 52, 64, 66, 67, 68, 97]\n"
     ]
    }
   ],
   "source": [
    "def merge_sort(arr):\n",
    "    if len(arr)<= 1:\n",
    "        return arr\n",
    "\n",
    "    # Step 1) spliting the arrays into smaller pieces (iteration)\n",
    "    mid = len(arr)//2\n",
    "    left  = merge_sort(arr[:mid])\n",
    "    right = merge_sort(arr[mid:])\n",
    "\n",
    "    # Step 2) Merge all the parts\n",
    "\n",
    "    sorted = merge(left, right)\n",
    "    return sorted\n",
    "\n",
    "def merge(left_arr, right_arr):\n",
    "    i = 0\n",
    "    j = 0\n",
    "    sort_arr = []\n",
    "    # Setp 3) Sort them while you merge them\n",
    "    while i < len(left_arr) and j < len(right_arr): # We go trhough every number to check the smaller one\n",
    "        if left_arr[i] >= right_arr[j]:\n",
    "            sort_arr.append(right_arr[j])\n",
    "            j+=1\n",
    "        else:\n",
    "            sort_arr.append(left_arr[i])\n",
    "            i+=1\n",
    "    # If we run out of numbers in one list, we just add the entire other list to the arrays as it comes (already sorted)\n",
    "    sort_arr.extend(left_arr[i:]) \n",
    "    sort_arr.extend(right_arr[j:])\n",
    "    return sort_arr\n",
    "\n",
    "\n",
    "print(\"Original list:\", list_to_sort[:20])\n",
    "sorted_arr = merge_sort(list_to_sort[:20])\n",
    "print(\"Sorted list:\", sorted_arr[:20]) \n",
    "\n"
   ]
  },
  {
   "cell_type": "markdown",
   "metadata": {},
   "source": [
    "4.b) Use only one function, this one is bettter than 4.a"
   ]
  },
  {
   "cell_type": "code",
   "execution_count": null,
   "metadata": {},
   "outputs": [
    {
     "name": "stdout",
     "output_type": "stream",
     "text": [
      "Original list: [66, 48, 43, 52, 33, 40, 64, 7, 14, 49]\n",
      "Sorted list:   [7, 14, 33, 40, 43, 48, 49, 52, 64, 66]\n"
     ]
    }
   ],
   "source": [
    "def merge_sort(arr):\n",
    "    if len(arr) <= 1:\n",
    "        return arr\n",
    "    mid = len(arr) // 2\n",
    "    left_half = merge_sort(arr[:mid])\n",
    "    right_half = merge_sort(arr[mid:])\n",
    "\n",
    "    i = j = 0\n",
    "    merged = []\n",
    "\n",
    "    while i < len(left_half) and j < len(right_half):\n",
    "        if left_half[i] < right_half[j]:\n",
    "            merged.append(left_half[i])\n",
    "            i += 1\n",
    "        else:\n",
    "            merged.append(right_half[j])\n",
    "            j += 1\n",
    "\n",
    "    merged.extend(left_half[i:])\n",
    "    merged.extend(right_half[j:])\n",
    "\n",
    "    return merged\n",
    "\n",
    "print(\"Original list:\", list_to_sort[:10])\n",
    "sorted_arr = merge_sort(list_to_sort[:10])\n",
    "print(\"Sorted list:  \", sorted_arr[:10]) \n"
   ]
  },
  {
   "cell_type": "markdown",
   "metadata": {},
   "source": [
    "# 5) _Quick Sort_: \n"
   ]
  },
  {
   "cell_type": "markdown",
   "metadata": {},
   "source": [
    "The QuickSort algorithm is an efficient sorting method based on the divide-and-conquer technique. It works by selecting a pivot element from the list and partitioning the elements into two sublists: those smaller than the pivot and those greater than or equal to it. Then, it recursively applies the same process to the sublists. The average-case time complexity of QuickSort is O(n logn), as it repeatedly divides the list into roughly equal halves. However, in the worst case, when the partitions are unbalanced, its complexity is O(n^2), which occurs if the largest or smallest element is always chosen as the pivot. The space complexity is O(n logn), as it requires additional space for the recursion stack. It is an in-place algorithm (it does not require significant extra space beyond the recursive calls) and is very efficient in practice, especially for large datasets."
   ]
  },
  {
   "cell_type": "markdown",
   "metadata": {},
   "source": [
    "a) Basic trial using append and no List Comprehension"
   ]
  },
  {
   "cell_type": "code",
   "execution_count": 12,
   "metadata": {},
   "outputs": [
    {
     "name": "stdout",
     "output_type": "stream",
     "text": [
      "Original list: [66, 48, 43, 52, 33, 40, 64, 33, 7, 14]\n",
      "Sorted list: [7, 14, 33, 33, 40, 43, 48, 52, 64, 66]\n"
     ]
    }
   ],
   "source": [
    "def quick_sort(arr):\n",
    "\n",
    "    if len(arr) <= 1:\n",
    "        return arr\n",
    "    pivot   = arr[-1]\n",
    "    repeat   = 0\n",
    "    left    = []\n",
    "    right   = []\n",
    "    for num in arr:\n",
    "        if num < pivot:\n",
    "            left.append(num)\n",
    "        elif num > pivot:\n",
    "            right.append(num)\n",
    "        else:\n",
    "            repeat+=1\n",
    "    sorted_left     = quick_sort(left)\n",
    "    sorted_right    = quick_sort(right)\n",
    "    merged = []\n",
    "    merged.extend(sorted_left)\n",
    "    merged.extend([pivot] * repeat)\n",
    "    merged.extend(sorted_right)\n",
    "\n",
    "    return merged\n",
    "\n",
    "print(\"Original list:\", list_to_sort[:10])\n",
    "sorted_arr = quick_sort(list_to_sort[:10])\n",
    "print(\"Sorted list:\", sorted_arr[:10]) \n",
    "\n",
    "\n",
    "\n"
   ]
  },
  {
   "cell_type": "markdown",
   "metadata": {},
   "source": [
    "5.b) Better trial with List Comprehension"
   ]
  },
  {
   "cell_type": "code",
   "execution_count": null,
   "metadata": {},
   "outputs": [
    {
     "name": "stdout",
     "output_type": "stream",
     "text": [
      "Original list: [66, 48, 43, 52, 33, 40, 64, 33, 7, 14]\n",
      "Sorted list:   [7, 14, 33, 33, 40, 43, 48, 52, 64, 66]\n"
     ]
    }
   ],
   "source": [
    "def quick_sort(arr):\n",
    "    if len(arr) <= 1:\n",
    "        return arr\n",
    "    else:\n",
    "        pivot = arr[0]\n",
    "        less = [x for x in arr[1:] if x < pivot]\n",
    "        equal = [x for x in arr if x == pivot]\n",
    "        greater = [x for x in arr[1:] if x > pivot]\n",
    "        return quick_sort(less) + equal + quick_sort(greater)\n",
    "\n",
    "\n",
    "print(\"Original list:\", list_to_sort[:10])\n",
    "sorted_arr = quick_sort(list_to_sort[:10])\n",
    "print(\"Sorted list:  \", sorted_arr[:10]) "
   ]
  },
  {
   "cell_type": "code",
   "execution_count": null,
   "metadata": {},
   "outputs": [],
   "source": []
  }
 ],
 "metadata": {
  "kernelspec": {
   "display_name": "base",
   "language": "python",
   "name": "python3"
  },
  "language_info": {
   "codemirror_mode": {
    "name": "ipython",
    "version": 3
   },
   "file_extension": ".py",
   "mimetype": "text/x-python",
   "name": "python",
   "nbconvert_exporter": "python",
   "pygments_lexer": "ipython3",
   "version": "3.11.7"
  }
 },
 "nbformat": 4,
 "nbformat_minor": 2
}
