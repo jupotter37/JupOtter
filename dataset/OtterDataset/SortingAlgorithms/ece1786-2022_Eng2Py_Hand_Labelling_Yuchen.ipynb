{
  "nbformat": 4,
  "nbformat_minor": 0,
  "metadata": {
    "colab": {
      "provenance": [],
      "collapsed_sections": [
        "Nk-xbZ6Wutz4",
        "oK99CZKqu6sH",
        "xeSnGAxxvBuT",
        "rUkKPIfNvW4B",
        "pu-_shDYvc8V",
        "X-3MAHQkwgNC",
        "MbEUhoOMwm6J",
        "DEo2uJDBw2tv",
        "BmgO0Nbww_Nd",
        "1tUTISjXxn4B",
        "EJznhvFtxyQj",
        "o41VGh6ayCd8",
        "ycmt6R0-yFp3",
        "vwQNalcTmFDR",
        "RvlcIoWKmLzY",
        "7xXjeqZDmNXx",
        "q4w5pA3imSd6",
        "KG1PRJn_mUbj",
        "fKshogDZmW39",
        "LB3mdjA_maxk",
        "1MVCOIy8hM22"
      ],
      "machine_shape": "hm"
    },
    "kernelspec": {
      "name": "python3",
      "display_name": "Python 3"
    },
    "language_info": {
      "name": "python"
    },
    "widgets": {
      "application/vnd.jupyter.widget-state+json": {
        "e83f7823411848618864e1a121b10802": {
          "model_module": "@jupyter-widgets/controls",
          "model_name": "HBoxModel",
          "model_module_version": "1.5.0",
          "state": {
            "_dom_classes": [],
            "_model_module": "@jupyter-widgets/controls",
            "_model_module_version": "1.5.0",
            "_model_name": "HBoxModel",
            "_view_count": null,
            "_view_module": "@jupyter-widgets/controls",
            "_view_module_version": "1.5.0",
            "_view_name": "HBoxView",
            "box_style": "",
            "children": [
              "IPY_MODEL_42cd4d83fb2b4cae94786ab511456837",
              "IPY_MODEL_2993eccf43754c7f9bdc9bc8f09e13eb",
              "IPY_MODEL_2002e23f147940109293e0ce0daf5840"
            ],
            "layout": "IPY_MODEL_1f74a4b94d0f42de8aa61a23ccef41ff"
          }
        },
        "42cd4d83fb2b4cae94786ab511456837": {
          "model_module": "@jupyter-widgets/controls",
          "model_name": "HTMLModel",
          "model_module_version": "1.5.0",
          "state": {
            "_dom_classes": [],
            "_model_module": "@jupyter-widgets/controls",
            "_model_module_version": "1.5.0",
            "_model_name": "HTMLModel",
            "_view_count": null,
            "_view_module": "@jupyter-widgets/controls",
            "_view_module_version": "1.5.0",
            "_view_name": "HTMLView",
            "description": "",
            "description_tooltip": null,
            "layout": "IPY_MODEL_a3ee18f98e944be197f57ad3626c670e",
            "placeholder": "​",
            "style": "IPY_MODEL_2a7269b89a6545269bde77692631a46f",
            "value": "Downloading: 100%"
          }
        },
        "2993eccf43754c7f9bdc9bc8f09e13eb": {
          "model_module": "@jupyter-widgets/controls",
          "model_name": "FloatProgressModel",
          "model_module_version": "1.5.0",
          "state": {
            "_dom_classes": [],
            "_model_module": "@jupyter-widgets/controls",
            "_model_module_version": "1.5.0",
            "_model_name": "FloatProgressModel",
            "_view_count": null,
            "_view_module": "@jupyter-widgets/controls",
            "_view_module_version": "1.5.0",
            "_view_name": "ProgressView",
            "bar_style": "success",
            "description": "",
            "description_tooltip": null,
            "layout": "IPY_MODEL_4324edce38484bea8e742be202af8ba3",
            "max": 1477,
            "min": 0,
            "orientation": "horizontal",
            "style": "IPY_MODEL_b0bc1f6b13cf4eb8ab0de30979bec737",
            "value": 1477
          }
        },
        "2002e23f147940109293e0ce0daf5840": {
          "model_module": "@jupyter-widgets/controls",
          "model_name": "HTMLModel",
          "model_module_version": "1.5.0",
          "state": {
            "_dom_classes": [],
            "_model_module": "@jupyter-widgets/controls",
            "_model_module_version": "1.5.0",
            "_model_name": "HTMLModel",
            "_view_count": null,
            "_view_module": "@jupyter-widgets/controls",
            "_view_module_version": "1.5.0",
            "_view_name": "HTMLView",
            "description": "",
            "description_tooltip": null,
            "layout": "IPY_MODEL_4ff38de991274694a5d90df70b899d0e",
            "placeholder": "​",
            "style": "IPY_MODEL_49c494534d29455f8f58ab174421ff06",
            "value": " 1.48k/1.48k [00:00&lt;00:00, 48.6kB/s]"
          }
        },
        "1f74a4b94d0f42de8aa61a23ccef41ff": {
          "model_module": "@jupyter-widgets/base",
          "model_name": "LayoutModel",
          "model_module_version": "1.2.0",
          "state": {
            "_model_module": "@jupyter-widgets/base",
            "_model_module_version": "1.2.0",
            "_model_name": "LayoutModel",
            "_view_count": null,
            "_view_module": "@jupyter-widgets/base",
            "_view_module_version": "1.2.0",
            "_view_name": "LayoutView",
            "align_content": null,
            "align_items": null,
            "align_self": null,
            "border": null,
            "bottom": null,
            "display": null,
            "flex": null,
            "flex_flow": null,
            "grid_area": null,
            "grid_auto_columns": null,
            "grid_auto_flow": null,
            "grid_auto_rows": null,
            "grid_column": null,
            "grid_gap": null,
            "grid_row": null,
            "grid_template_areas": null,
            "grid_template_columns": null,
            "grid_template_rows": null,
            "height": null,
            "justify_content": null,
            "justify_items": null,
            "left": null,
            "margin": null,
            "max_height": null,
            "max_width": null,
            "min_height": null,
            "min_width": null,
            "object_fit": null,
            "object_position": null,
            "order": null,
            "overflow": null,
            "overflow_x": null,
            "overflow_y": null,
            "padding": null,
            "right": null,
            "top": null,
            "visibility": null,
            "width": null
          }
        },
        "a3ee18f98e944be197f57ad3626c670e": {
          "model_module": "@jupyter-widgets/base",
          "model_name": "LayoutModel",
          "model_module_version": "1.2.0",
          "state": {
            "_model_module": "@jupyter-widgets/base",
            "_model_module_version": "1.2.0",
            "_model_name": "LayoutModel",
            "_view_count": null,
            "_view_module": "@jupyter-widgets/base",
            "_view_module_version": "1.2.0",
            "_view_name": "LayoutView",
            "align_content": null,
            "align_items": null,
            "align_self": null,
            "border": null,
            "bottom": null,
            "display": null,
            "flex": null,
            "flex_flow": null,
            "grid_area": null,
            "grid_auto_columns": null,
            "grid_auto_flow": null,
            "grid_auto_rows": null,
            "grid_column": null,
            "grid_gap": null,
            "grid_row": null,
            "grid_template_areas": null,
            "grid_template_columns": null,
            "grid_template_rows": null,
            "height": null,
            "justify_content": null,
            "justify_items": null,
            "left": null,
            "margin": null,
            "max_height": null,
            "max_width": null,
            "min_height": null,
            "min_width": null,
            "object_fit": null,
            "object_position": null,
            "order": null,
            "overflow": null,
            "overflow_x": null,
            "overflow_y": null,
            "padding": null,
            "right": null,
            "top": null,
            "visibility": null,
            "width": null
          }
        },
        "2a7269b89a6545269bde77692631a46f": {
          "model_module": "@jupyter-widgets/controls",
          "model_name": "DescriptionStyleModel",
          "model_module_version": "1.5.0",
          "state": {
            "_model_module": "@jupyter-widgets/controls",
            "_model_module_version": "1.5.0",
            "_model_name": "DescriptionStyleModel",
            "_view_count": null,
            "_view_module": "@jupyter-widgets/base",
            "_view_module_version": "1.2.0",
            "_view_name": "StyleView",
            "description_width": ""
          }
        },
        "4324edce38484bea8e742be202af8ba3": {
          "model_module": "@jupyter-widgets/base",
          "model_name": "LayoutModel",
          "model_module_version": "1.2.0",
          "state": {
            "_model_module": "@jupyter-widgets/base",
            "_model_module_version": "1.2.0",
            "_model_name": "LayoutModel",
            "_view_count": null,
            "_view_module": "@jupyter-widgets/base",
            "_view_module_version": "1.2.0",
            "_view_name": "LayoutView",
            "align_content": null,
            "align_items": null,
            "align_self": null,
            "border": null,
            "bottom": null,
            "display": null,
            "flex": null,
            "flex_flow": null,
            "grid_area": null,
            "grid_auto_columns": null,
            "grid_auto_flow": null,
            "grid_auto_rows": null,
            "grid_column": null,
            "grid_gap": null,
            "grid_row": null,
            "grid_template_areas": null,
            "grid_template_columns": null,
            "grid_template_rows": null,
            "height": null,
            "justify_content": null,
            "justify_items": null,
            "left": null,
            "margin": null,
            "max_height": null,
            "max_width": null,
            "min_height": null,
            "min_width": null,
            "object_fit": null,
            "object_position": null,
            "order": null,
            "overflow": null,
            "overflow_x": null,
            "overflow_y": null,
            "padding": null,
            "right": null,
            "top": null,
            "visibility": null,
            "width": null
          }
        },
        "b0bc1f6b13cf4eb8ab0de30979bec737": {
          "model_module": "@jupyter-widgets/controls",
          "model_name": "ProgressStyleModel",
          "model_module_version": "1.5.0",
          "state": {
            "_model_module": "@jupyter-widgets/controls",
            "_model_module_version": "1.5.0",
            "_model_name": "ProgressStyleModel",
            "_view_count": null,
            "_view_module": "@jupyter-widgets/base",
            "_view_module_version": "1.2.0",
            "_view_name": "StyleView",
            "bar_color": null,
            "description_width": ""
          }
        },
        "4ff38de991274694a5d90df70b899d0e": {
          "model_module": "@jupyter-widgets/base",
          "model_name": "LayoutModel",
          "model_module_version": "1.2.0",
          "state": {
            "_model_module": "@jupyter-widgets/base",
            "_model_module_version": "1.2.0",
            "_model_name": "LayoutModel",
            "_view_count": null,
            "_view_module": "@jupyter-widgets/base",
            "_view_module_version": "1.2.0",
            "_view_name": "LayoutView",
            "align_content": null,
            "align_items": null,
            "align_self": null,
            "border": null,
            "bottom": null,
            "display": null,
            "flex": null,
            "flex_flow": null,
            "grid_area": null,
            "grid_auto_columns": null,
            "grid_auto_flow": null,
            "grid_auto_rows": null,
            "grid_column": null,
            "grid_gap": null,
            "grid_row": null,
            "grid_template_areas": null,
            "grid_template_columns": null,
            "grid_template_rows": null,
            "height": null,
            "justify_content": null,
            "justify_items": null,
            "left": null,
            "margin": null,
            "max_height": null,
            "max_width": null,
            "min_height": null,
            "min_width": null,
            "object_fit": null,
            "object_position": null,
            "order": null,
            "overflow": null,
            "overflow_x": null,
            "overflow_y": null,
            "padding": null,
            "right": null,
            "top": null,
            "visibility": null,
            "width": null
          }
        },
        "49c494534d29455f8f58ab174421ff06": {
          "model_module": "@jupyter-widgets/controls",
          "model_name": "DescriptionStyleModel",
          "model_module_version": "1.5.0",
          "state": {
            "_model_module": "@jupyter-widgets/controls",
            "_model_module_version": "1.5.0",
            "_model_name": "DescriptionStyleModel",
            "_view_count": null,
            "_view_module": "@jupyter-widgets/base",
            "_view_module_version": "1.2.0",
            "_view_name": "StyleView",
            "description_width": ""
          }
        },
        "ad9bfdb307fb45c8bef5db3b4f7dac8f": {
          "model_module": "@jupyter-widgets/controls",
          "model_name": "HBoxModel",
          "model_module_version": "1.5.0",
          "state": {
            "_dom_classes": [],
            "_model_module": "@jupyter-widgets/controls",
            "_model_module_version": "1.5.0",
            "_model_name": "HBoxModel",
            "_view_count": null,
            "_view_module": "@jupyter-widgets/controls",
            "_view_module_version": "1.5.0",
            "_view_name": "HBoxView",
            "box_style": "",
            "children": [
              "IPY_MODEL_0fcf361a6c3141919cb9173ec637a74b",
              "IPY_MODEL_7b44998529124618a06103a7435be905",
              "IPY_MODEL_1db35b00ff324f8691d9c071f9754b7f"
            ],
            "layout": "IPY_MODEL_be11b4f2a434477c8ec03306c9be04d3"
          }
        },
        "0fcf361a6c3141919cb9173ec637a74b": {
          "model_module": "@jupyter-widgets/controls",
          "model_name": "HTMLModel",
          "model_module_version": "1.5.0",
          "state": {
            "_dom_classes": [],
            "_model_module": "@jupyter-widgets/controls",
            "_model_module_version": "1.5.0",
            "_model_name": "HTMLModel",
            "_view_count": null,
            "_view_module": "@jupyter-widgets/controls",
            "_view_module_version": "1.5.0",
            "_view_name": "HTMLView",
            "description": "",
            "description_tooltip": null,
            "layout": "IPY_MODEL_d36a5df08ba34a25b08f838582339b87",
            "placeholder": "​",
            "style": "IPY_MODEL_049ad29433824445b9dd7ed353c9f4bf",
            "value": "Downloading: 100%"
          }
        },
        "7b44998529124618a06103a7435be905": {
          "model_module": "@jupyter-widgets/controls",
          "model_name": "FloatProgressModel",
          "model_module_version": "1.5.0",
          "state": {
            "_dom_classes": [],
            "_model_module": "@jupyter-widgets/controls",
            "_model_module_version": "1.5.0",
            "_model_name": "FloatProgressModel",
            "_view_count": null,
            "_view_module": "@jupyter-widgets/controls",
            "_view_module_version": "1.5.0",
            "_view_name": "ProgressView",
            "bar_style": "success",
            "description": "",
            "description_tooltip": null,
            "layout": "IPY_MODEL_255c899afd13433d9fb13a261b1b0014",
            "max": 703051,
            "min": 0,
            "orientation": "horizontal",
            "style": "IPY_MODEL_f0205d60acc64a9eaad9ec5c82542d5c",
            "value": 703051
          }
        },
        "1db35b00ff324f8691d9c071f9754b7f": {
          "model_module": "@jupyter-widgets/controls",
          "model_name": "HTMLModel",
          "model_module_version": "1.5.0",
          "state": {
            "_dom_classes": [],
            "_model_module": "@jupyter-widgets/controls",
            "_model_module_version": "1.5.0",
            "_model_name": "HTMLModel",
            "_view_count": null,
            "_view_module": "@jupyter-widgets/controls",
            "_view_module_version": "1.5.0",
            "_view_name": "HTMLView",
            "description": "",
            "description_tooltip": null,
            "layout": "IPY_MODEL_937eb295374b438ab437901e9111154e",
            "placeholder": "​",
            "style": "IPY_MODEL_8e81906fdf704b2f9fc6ece91f2fff9d",
            "value": " 703k/703k [00:00&lt;00:00, 7.30MB/s]"
          }
        },
        "be11b4f2a434477c8ec03306c9be04d3": {
          "model_module": "@jupyter-widgets/base",
          "model_name": "LayoutModel",
          "model_module_version": "1.2.0",
          "state": {
            "_model_module": "@jupyter-widgets/base",
            "_model_module_version": "1.2.0",
            "_model_name": "LayoutModel",
            "_view_count": null,
            "_view_module": "@jupyter-widgets/base",
            "_view_module_version": "1.2.0",
            "_view_name": "LayoutView",
            "align_content": null,
            "align_items": null,
            "align_self": null,
            "border": null,
            "bottom": null,
            "display": null,
            "flex": null,
            "flex_flow": null,
            "grid_area": null,
            "grid_auto_columns": null,
            "grid_auto_flow": null,
            "grid_auto_rows": null,
            "grid_column": null,
            "grid_gap": null,
            "grid_row": null,
            "grid_template_areas": null,
            "grid_template_columns": null,
            "grid_template_rows": null,
            "height": null,
            "justify_content": null,
            "justify_items": null,
            "left": null,
            "margin": null,
            "max_height": null,
            "max_width": null,
            "min_height": null,
            "min_width": null,
            "object_fit": null,
            "object_position": null,
            "order": null,
            "overflow": null,
            "overflow_x": null,
            "overflow_y": null,
            "padding": null,
            "right": null,
            "top": null,
            "visibility": null,
            "width": null
          }
        },
        "d36a5df08ba34a25b08f838582339b87": {
          "model_module": "@jupyter-widgets/base",
          "model_name": "LayoutModel",
          "model_module_version": "1.2.0",
          "state": {
            "_model_module": "@jupyter-widgets/base",
            "_model_module_version": "1.2.0",
            "_model_name": "LayoutModel",
            "_view_count": null,
            "_view_module": "@jupyter-widgets/base",
            "_view_module_version": "1.2.0",
            "_view_name": "LayoutView",
            "align_content": null,
            "align_items": null,
            "align_self": null,
            "border": null,
            "bottom": null,
            "display": null,
            "flex": null,
            "flex_flow": null,
            "grid_area": null,
            "grid_auto_columns": null,
            "grid_auto_flow": null,
            "grid_auto_rows": null,
            "grid_column": null,
            "grid_gap": null,
            "grid_row": null,
            "grid_template_areas": null,
            "grid_template_columns": null,
            "grid_template_rows": null,
            "height": null,
            "justify_content": null,
            "justify_items": null,
            "left": null,
            "margin": null,
            "max_height": null,
            "max_width": null,
            "min_height": null,
            "min_width": null,
            "object_fit": null,
            "object_position": null,
            "order": null,
            "overflow": null,
            "overflow_x": null,
            "overflow_y": null,
            "padding": null,
            "right": null,
            "top": null,
            "visibility": null,
            "width": null
          }
        },
        "049ad29433824445b9dd7ed353c9f4bf": {
          "model_module": "@jupyter-widgets/controls",
          "model_name": "DescriptionStyleModel",
          "model_module_version": "1.5.0",
          "state": {
            "_model_module": "@jupyter-widgets/controls",
            "_model_module_version": "1.5.0",
            "_model_name": "DescriptionStyleModel",
            "_view_count": null,
            "_view_module": "@jupyter-widgets/base",
            "_view_module_version": "1.2.0",
            "_view_name": "StyleView",
            "description_width": ""
          }
        },
        "255c899afd13433d9fb13a261b1b0014": {
          "model_module": "@jupyter-widgets/base",
          "model_name": "LayoutModel",
          "model_module_version": "1.2.0",
          "state": {
            "_model_module": "@jupyter-widgets/base",
            "_model_module_version": "1.2.0",
            "_model_name": "LayoutModel",
            "_view_count": null,
            "_view_module": "@jupyter-widgets/base",
            "_view_module_version": "1.2.0",
            "_view_name": "LayoutView",
            "align_content": null,
            "align_items": null,
            "align_self": null,
            "border": null,
            "bottom": null,
            "display": null,
            "flex": null,
            "flex_flow": null,
            "grid_area": null,
            "grid_auto_columns": null,
            "grid_auto_flow": null,
            "grid_auto_rows": null,
            "grid_column": null,
            "grid_gap": null,
            "grid_row": null,
            "grid_template_areas": null,
            "grid_template_columns": null,
            "grid_template_rows": null,
            "height": null,
            "justify_content": null,
            "justify_items": null,
            "left": null,
            "margin": null,
            "max_height": null,
            "max_width": null,
            "min_height": null,
            "min_width": null,
            "object_fit": null,
            "object_position": null,
            "order": null,
            "overflow": null,
            "overflow_x": null,
            "overflow_y": null,
            "padding": null,
            "right": null,
            "top": null,
            "visibility": null,
            "width": null
          }
        },
        "f0205d60acc64a9eaad9ec5c82542d5c": {
          "model_module": "@jupyter-widgets/controls",
          "model_name": "ProgressStyleModel",
          "model_module_version": "1.5.0",
          "state": {
            "_model_module": "@jupyter-widgets/controls",
            "_model_module_version": "1.5.0",
            "_model_name": "ProgressStyleModel",
            "_view_count": null,
            "_view_module": "@jupyter-widgets/base",
            "_view_module_version": "1.2.0",
            "_view_name": "StyleView",
            "bar_color": null,
            "description_width": ""
          }
        },
        "937eb295374b438ab437901e9111154e": {
          "model_module": "@jupyter-widgets/base",
          "model_name": "LayoutModel",
          "model_module_version": "1.2.0",
          "state": {
            "_model_module": "@jupyter-widgets/base",
            "_model_module_version": "1.2.0",
            "_model_name": "LayoutModel",
            "_view_count": null,
            "_view_module": "@jupyter-widgets/base",
            "_view_module_version": "1.2.0",
            "_view_name": "LayoutView",
            "align_content": null,
            "align_items": null,
            "align_self": null,
            "border": null,
            "bottom": null,
            "display": null,
            "flex": null,
            "flex_flow": null,
            "grid_area": null,
            "grid_auto_columns": null,
            "grid_auto_flow": null,
            "grid_auto_rows": null,
            "grid_column": null,
            "grid_gap": null,
            "grid_row": null,
            "grid_template_areas": null,
            "grid_template_columns": null,
            "grid_template_rows": null,
            "height": null,
            "justify_content": null,
            "justify_items": null,
            "left": null,
            "margin": null,
            "max_height": null,
            "max_width": null,
            "min_height": null,
            "min_width": null,
            "object_fit": null,
            "object_position": null,
            "order": null,
            "overflow": null,
            "overflow_x": null,
            "overflow_y": null,
            "padding": null,
            "right": null,
            "top": null,
            "visibility": null,
            "width": null
          }
        },
        "8e81906fdf704b2f9fc6ece91f2fff9d": {
          "model_module": "@jupyter-widgets/controls",
          "model_name": "DescriptionStyleModel",
          "model_module_version": "1.5.0",
          "state": {
            "_model_module": "@jupyter-widgets/controls",
            "_model_module_version": "1.5.0",
            "_model_name": "DescriptionStyleModel",
            "_view_count": null,
            "_view_module": "@jupyter-widgets/base",
            "_view_module_version": "1.2.0",
            "_view_name": "StyleView",
            "description_width": ""
          }
        },
        "20c0e45ee87f4b9db5f61e6af328b688": {
          "model_module": "@jupyter-widgets/controls",
          "model_name": "HBoxModel",
          "model_module_version": "1.5.0",
          "state": {
            "_dom_classes": [],
            "_model_module": "@jupyter-widgets/controls",
            "_model_module_version": "1.5.0",
            "_model_name": "HBoxModel",
            "_view_count": null,
            "_view_module": "@jupyter-widgets/controls",
            "_view_module_version": "1.5.0",
            "_view_name": "HBoxView",
            "box_style": "",
            "children": [
              "IPY_MODEL_ebeb1689f99c4798a6d59a8c4e198b3c",
              "IPY_MODEL_28d70443efda4ba0ad71bc86eaba8234",
              "IPY_MODEL_fda9eb55bb0044d889687bef9fc030b7"
            ],
            "layout": "IPY_MODEL_3add65d077244517bb2ff42a823c38b0"
          }
        },
        "ebeb1689f99c4798a6d59a8c4e198b3c": {
          "model_module": "@jupyter-widgets/controls",
          "model_name": "HTMLModel",
          "model_module_version": "1.5.0",
          "state": {
            "_dom_classes": [],
            "_model_module": "@jupyter-widgets/controls",
            "_model_module_version": "1.5.0",
            "_model_name": "HTMLModel",
            "_view_count": null,
            "_view_module": "@jupyter-widgets/controls",
            "_view_module_version": "1.5.0",
            "_view_name": "HTMLView",
            "description": "",
            "description_tooltip": null,
            "layout": "IPY_MODEL_cc8c209a58104035bdee79c92c5b3b97",
            "placeholder": "​",
            "style": "IPY_MODEL_845a8e2167de4d7c97a474e2bcacb30e",
            "value": "Downloading: 100%"
          }
        },
        "28d70443efda4ba0ad71bc86eaba8234": {
          "model_module": "@jupyter-widgets/controls",
          "model_name": "FloatProgressModel",
          "model_module_version": "1.5.0",
          "state": {
            "_dom_classes": [],
            "_model_module": "@jupyter-widgets/controls",
            "_model_module_version": "1.5.0",
            "_model_name": "FloatProgressModel",
            "_view_count": null,
            "_view_module": "@jupyter-widgets/controls",
            "_view_module_version": "1.5.0",
            "_view_name": "ProgressView",
            "bar_style": "success",
            "description": "",
            "description_tooltip": null,
            "layout": "IPY_MODEL_5b52e3450a2f488cb9c208ebf1c5d66c",
            "max": 294364,
            "min": 0,
            "orientation": "horizontal",
            "style": "IPY_MODEL_33c310003f2d4155965df705efd3ea15",
            "value": 294364
          }
        },
        "fda9eb55bb0044d889687bef9fc030b7": {
          "model_module": "@jupyter-widgets/controls",
          "model_name": "HTMLModel",
          "model_module_version": "1.5.0",
          "state": {
            "_dom_classes": [],
            "_model_module": "@jupyter-widgets/controls",
            "_model_module_version": "1.5.0",
            "_model_name": "HTMLModel",
            "_view_count": null,
            "_view_module": "@jupyter-widgets/controls",
            "_view_module_version": "1.5.0",
            "_view_name": "HTMLView",
            "description": "",
            "description_tooltip": null,
            "layout": "IPY_MODEL_4448a591f46a49d08ebdb0fc96e271e9",
            "placeholder": "​",
            "style": "IPY_MODEL_b7a81ec452914b69a40ca2bac6799231",
            "value": " 294k/294k [00:00&lt;00:00, 3.71MB/s]"
          }
        },
        "3add65d077244517bb2ff42a823c38b0": {
          "model_module": "@jupyter-widgets/base",
          "model_name": "LayoutModel",
          "model_module_version": "1.2.0",
          "state": {
            "_model_module": "@jupyter-widgets/base",
            "_model_module_version": "1.2.0",
            "_model_name": "LayoutModel",
            "_view_count": null,
            "_view_module": "@jupyter-widgets/base",
            "_view_module_version": "1.2.0",
            "_view_name": "LayoutView",
            "align_content": null,
            "align_items": null,
            "align_self": null,
            "border": null,
            "bottom": null,
            "display": null,
            "flex": null,
            "flex_flow": null,
            "grid_area": null,
            "grid_auto_columns": null,
            "grid_auto_flow": null,
            "grid_auto_rows": null,
            "grid_column": null,
            "grid_gap": null,
            "grid_row": null,
            "grid_template_areas": null,
            "grid_template_columns": null,
            "grid_template_rows": null,
            "height": null,
            "justify_content": null,
            "justify_items": null,
            "left": null,
            "margin": null,
            "max_height": null,
            "max_width": null,
            "min_height": null,
            "min_width": null,
            "object_fit": null,
            "object_position": null,
            "order": null,
            "overflow": null,
            "overflow_x": null,
            "overflow_y": null,
            "padding": null,
            "right": null,
            "top": null,
            "visibility": null,
            "width": null
          }
        },
        "cc8c209a58104035bdee79c92c5b3b97": {
          "model_module": "@jupyter-widgets/base",
          "model_name": "LayoutModel",
          "model_module_version": "1.2.0",
          "state": {
            "_model_module": "@jupyter-widgets/base",
            "_model_module_version": "1.2.0",
            "_model_name": "LayoutModel",
            "_view_count": null,
            "_view_module": "@jupyter-widgets/base",
            "_view_module_version": "1.2.0",
            "_view_name": "LayoutView",
            "align_content": null,
            "align_items": null,
            "align_self": null,
            "border": null,
            "bottom": null,
            "display": null,
            "flex": null,
            "flex_flow": null,
            "grid_area": null,
            "grid_auto_columns": null,
            "grid_auto_flow": null,
            "grid_auto_rows": null,
            "grid_column": null,
            "grid_gap": null,
            "grid_row": null,
            "grid_template_areas": null,
            "grid_template_columns": null,
            "grid_template_rows": null,
            "height": null,
            "justify_content": null,
            "justify_items": null,
            "left": null,
            "margin": null,
            "max_height": null,
            "max_width": null,
            "min_height": null,
            "min_width": null,
            "object_fit": null,
            "object_position": null,
            "order": null,
            "overflow": null,
            "overflow_x": null,
            "overflow_y": null,
            "padding": null,
            "right": null,
            "top": null,
            "visibility": null,
            "width": null
          }
        },
        "845a8e2167de4d7c97a474e2bcacb30e": {
          "model_module": "@jupyter-widgets/controls",
          "model_name": "DescriptionStyleModel",
          "model_module_version": "1.5.0",
          "state": {
            "_model_module": "@jupyter-widgets/controls",
            "_model_module_version": "1.5.0",
            "_model_name": "DescriptionStyleModel",
            "_view_count": null,
            "_view_module": "@jupyter-widgets/base",
            "_view_module_version": "1.2.0",
            "_view_name": "StyleView",
            "description_width": ""
          }
        },
        "5b52e3450a2f488cb9c208ebf1c5d66c": {
          "model_module": "@jupyter-widgets/base",
          "model_name": "LayoutModel",
          "model_module_version": "1.2.0",
          "state": {
            "_model_module": "@jupyter-widgets/base",
            "_model_module_version": "1.2.0",
            "_model_name": "LayoutModel",
            "_view_count": null,
            "_view_module": "@jupyter-widgets/base",
            "_view_module_version": "1.2.0",
            "_view_name": "LayoutView",
            "align_content": null,
            "align_items": null,
            "align_self": null,
            "border": null,
            "bottom": null,
            "display": null,
            "flex": null,
            "flex_flow": null,
            "grid_area": null,
            "grid_auto_columns": null,
            "grid_auto_flow": null,
            "grid_auto_rows": null,
            "grid_column": null,
            "grid_gap": null,
            "grid_row": null,
            "grid_template_areas": null,
            "grid_template_columns": null,
            "grid_template_rows": null,
            "height": null,
            "justify_content": null,
            "justify_items": null,
            "left": null,
            "margin": null,
            "max_height": null,
            "max_width": null,
            "min_height": null,
            "min_width": null,
            "object_fit": null,
            "object_position": null,
            "order": null,
            "overflow": null,
            "overflow_x": null,
            "overflow_y": null,
            "padding": null,
            "right": null,
            "top": null,
            "visibility": null,
            "width": null
          }
        },
        "33c310003f2d4155965df705efd3ea15": {
          "model_module": "@jupyter-widgets/controls",
          "model_name": "ProgressStyleModel",
          "model_module_version": "1.5.0",
          "state": {
            "_model_module": "@jupyter-widgets/controls",
            "_model_module_version": "1.5.0",
            "_model_name": "ProgressStyleModel",
            "_view_count": null,
            "_view_module": "@jupyter-widgets/base",
            "_view_module_version": "1.2.0",
            "_view_name": "StyleView",
            "bar_color": null,
            "description_width": ""
          }
        },
        "4448a591f46a49d08ebdb0fc96e271e9": {
          "model_module": "@jupyter-widgets/base",
          "model_name": "LayoutModel",
          "model_module_version": "1.2.0",
          "state": {
            "_model_module": "@jupyter-widgets/base",
            "_model_module_version": "1.2.0",
            "_model_name": "LayoutModel",
            "_view_count": null,
            "_view_module": "@jupyter-widgets/base",
            "_view_module_version": "1.2.0",
            "_view_name": "LayoutView",
            "align_content": null,
            "align_items": null,
            "align_self": null,
            "border": null,
            "bottom": null,
            "display": null,
            "flex": null,
            "flex_flow": null,
            "grid_area": null,
            "grid_auto_columns": null,
            "grid_auto_flow": null,
            "grid_auto_rows": null,
            "grid_column": null,
            "grid_gap": null,
            "grid_row": null,
            "grid_template_areas": null,
            "grid_template_columns": null,
            "grid_template_rows": null,
            "height": null,
            "justify_content": null,
            "justify_items": null,
            "left": null,
            "margin": null,
            "max_height": null,
            "max_width": null,
            "min_height": null,
            "min_width": null,
            "object_fit": null,
            "object_position": null,
            "order": null,
            "overflow": null,
            "overflow_x": null,
            "overflow_y": null,
            "padding": null,
            "right": null,
            "top": null,
            "visibility": null,
            "width": null
          }
        },
        "b7a81ec452914b69a40ca2bac6799231": {
          "model_module": "@jupyter-widgets/controls",
          "model_name": "DescriptionStyleModel",
          "model_module_version": "1.5.0",
          "state": {
            "_model_module": "@jupyter-widgets/controls",
            "_model_module_version": "1.5.0",
            "_model_name": "DescriptionStyleModel",
            "_view_count": null,
            "_view_module": "@jupyter-widgets/base",
            "_view_module_version": "1.2.0",
            "_view_name": "StyleView",
            "description_width": ""
          }
        },
        "068c40540b894ef4b29f472e96b3aa13": {
          "model_module": "@jupyter-widgets/controls",
          "model_name": "HBoxModel",
          "model_module_version": "1.5.0",
          "state": {
            "_dom_classes": [],
            "_model_module": "@jupyter-widgets/controls",
            "_model_module_version": "1.5.0",
            "_model_name": "HBoxModel",
            "_view_count": null,
            "_view_module": "@jupyter-widgets/controls",
            "_view_module_version": "1.5.0",
            "_view_name": "HBoxView",
            "box_style": "",
            "children": [
              "IPY_MODEL_5c5e0605794d476da08143a260e54e2a",
              "IPY_MODEL_dd16cbddd64e45f9bcab1a430cf66e0e",
              "IPY_MODEL_85c28b3f9d62439b92931927200b51a7"
            ],
            "layout": "IPY_MODEL_acce645691db43878d9534c7f7b66f49"
          }
        },
        "5c5e0605794d476da08143a260e54e2a": {
          "model_module": "@jupyter-widgets/controls",
          "model_name": "HTMLModel",
          "model_module_version": "1.5.0",
          "state": {
            "_dom_classes": [],
            "_model_module": "@jupyter-widgets/controls",
            "_model_module_version": "1.5.0",
            "_model_name": "HTMLModel",
            "_view_count": null,
            "_view_module": "@jupyter-widgets/controls",
            "_view_module_version": "1.5.0",
            "_view_name": "HTMLView",
            "description": "",
            "description_tooltip": null,
            "layout": "IPY_MODEL_0d3cc95d755f4265977ac2379caf3cb5",
            "placeholder": "​",
            "style": "IPY_MODEL_fd2f6b09d8c74709808aba9d57ee962d",
            "value": "Downloading: 100%"
          }
        },
        "dd16cbddd64e45f9bcab1a430cf66e0e": {
          "model_module": "@jupyter-widgets/controls",
          "model_name": "FloatProgressModel",
          "model_module_version": "1.5.0",
          "state": {
            "_dom_classes": [],
            "_model_module": "@jupyter-widgets/controls",
            "_model_module_version": "1.5.0",
            "_model_name": "FloatProgressModel",
            "_view_count": null,
            "_view_module": "@jupyter-widgets/controls",
            "_view_module_version": "1.5.0",
            "_view_name": "ProgressView",
            "bar_style": "success",
            "description": "",
            "description_tooltip": null,
            "layout": "IPY_MODEL_1ee4afd60506446e8ba64667134f76ed",
            "max": 2,
            "min": 0,
            "orientation": "horizontal",
            "style": "IPY_MODEL_47c626b64a184288b8437cef359f9429",
            "value": 2
          }
        },
        "85c28b3f9d62439b92931927200b51a7": {
          "model_module": "@jupyter-widgets/controls",
          "model_name": "HTMLModel",
          "model_module_version": "1.5.0",
          "state": {
            "_dom_classes": [],
            "_model_module": "@jupyter-widgets/controls",
            "_model_module_version": "1.5.0",
            "_model_name": "HTMLModel",
            "_view_count": null,
            "_view_module": "@jupyter-widgets/controls",
            "_view_module_version": "1.5.0",
            "_view_name": "HTMLView",
            "description": "",
            "description_tooltip": null,
            "layout": "IPY_MODEL_9a2d297e5f8b497ba63767d6ebf86216",
            "placeholder": "​",
            "style": "IPY_MODEL_8432c80751544b70b5161a171e5a0891",
            "value": " 2.00/2.00 [00:00&lt;00:00, 87.9B/s]"
          }
        },
        "acce645691db43878d9534c7f7b66f49": {
          "model_module": "@jupyter-widgets/base",
          "model_name": "LayoutModel",
          "model_module_version": "1.2.0",
          "state": {
            "_model_module": "@jupyter-widgets/base",
            "_model_module_version": "1.2.0",
            "_model_name": "LayoutModel",
            "_view_count": null,
            "_view_module": "@jupyter-widgets/base",
            "_view_module_version": "1.2.0",
            "_view_name": "LayoutView",
            "align_content": null,
            "align_items": null,
            "align_self": null,
            "border": null,
            "bottom": null,
            "display": null,
            "flex": null,
            "flex_flow": null,
            "grid_area": null,
            "grid_auto_columns": null,
            "grid_auto_flow": null,
            "grid_auto_rows": null,
            "grid_column": null,
            "grid_gap": null,
            "grid_row": null,
            "grid_template_areas": null,
            "grid_template_columns": null,
            "grid_template_rows": null,
            "height": null,
            "justify_content": null,
            "justify_items": null,
            "left": null,
            "margin": null,
            "max_height": null,
            "max_width": null,
            "min_height": null,
            "min_width": null,
            "object_fit": null,
            "object_position": null,
            "order": null,
            "overflow": null,
            "overflow_x": null,
            "overflow_y": null,
            "padding": null,
            "right": null,
            "top": null,
            "visibility": null,
            "width": null
          }
        },
        "0d3cc95d755f4265977ac2379caf3cb5": {
          "model_module": "@jupyter-widgets/base",
          "model_name": "LayoutModel",
          "model_module_version": "1.2.0",
          "state": {
            "_model_module": "@jupyter-widgets/base",
            "_model_module_version": "1.2.0",
            "_model_name": "LayoutModel",
            "_view_count": null,
            "_view_module": "@jupyter-widgets/base",
            "_view_module_version": "1.2.0",
            "_view_name": "LayoutView",
            "align_content": null,
            "align_items": null,
            "align_self": null,
            "border": null,
            "bottom": null,
            "display": null,
            "flex": null,
            "flex_flow": null,
            "grid_area": null,
            "grid_auto_columns": null,
            "grid_auto_flow": null,
            "grid_auto_rows": null,
            "grid_column": null,
            "grid_gap": null,
            "grid_row": null,
            "grid_template_areas": null,
            "grid_template_columns": null,
            "grid_template_rows": null,
            "height": null,
            "justify_content": null,
            "justify_items": null,
            "left": null,
            "margin": null,
            "max_height": null,
            "max_width": null,
            "min_height": null,
            "min_width": null,
            "object_fit": null,
            "object_position": null,
            "order": null,
            "overflow": null,
            "overflow_x": null,
            "overflow_y": null,
            "padding": null,
            "right": null,
            "top": null,
            "visibility": null,
            "width": null
          }
        },
        "fd2f6b09d8c74709808aba9d57ee962d": {
          "model_module": "@jupyter-widgets/controls",
          "model_name": "DescriptionStyleModel",
          "model_module_version": "1.5.0",
          "state": {
            "_model_module": "@jupyter-widgets/controls",
            "_model_module_version": "1.5.0",
            "_model_name": "DescriptionStyleModel",
            "_view_count": null,
            "_view_module": "@jupyter-widgets/base",
            "_view_module_version": "1.2.0",
            "_view_name": "StyleView",
            "description_width": ""
          }
        },
        "1ee4afd60506446e8ba64667134f76ed": {
          "model_module": "@jupyter-widgets/base",
          "model_name": "LayoutModel",
          "model_module_version": "1.2.0",
          "state": {
            "_model_module": "@jupyter-widgets/base",
            "_model_module_version": "1.2.0",
            "_model_name": "LayoutModel",
            "_view_count": null,
            "_view_module": "@jupyter-widgets/base",
            "_view_module_version": "1.2.0",
            "_view_name": "LayoutView",
            "align_content": null,
            "align_items": null,
            "align_self": null,
            "border": null,
            "bottom": null,
            "display": null,
            "flex": null,
            "flex_flow": null,
            "grid_area": null,
            "grid_auto_columns": null,
            "grid_auto_flow": null,
            "grid_auto_rows": null,
            "grid_column": null,
            "grid_gap": null,
            "grid_row": null,
            "grid_template_areas": null,
            "grid_template_columns": null,
            "grid_template_rows": null,
            "height": null,
            "justify_content": null,
            "justify_items": null,
            "left": null,
            "margin": null,
            "max_height": null,
            "max_width": null,
            "min_height": null,
            "min_width": null,
            "object_fit": null,
            "object_position": null,
            "order": null,
            "overflow": null,
            "overflow_x": null,
            "overflow_y": null,
            "padding": null,
            "right": null,
            "top": null,
            "visibility": null,
            "width": null
          }
        },
        "47c626b64a184288b8437cef359f9429": {
          "model_module": "@jupyter-widgets/controls",
          "model_name": "ProgressStyleModel",
          "model_module_version": "1.5.0",
          "state": {
            "_model_module": "@jupyter-widgets/controls",
            "_model_module_version": "1.5.0",
            "_model_name": "ProgressStyleModel",
            "_view_count": null,
            "_view_module": "@jupyter-widgets/base",
            "_view_module_version": "1.2.0",
            "_view_name": "StyleView",
            "bar_color": null,
            "description_width": ""
          }
        },
        "9a2d297e5f8b497ba63767d6ebf86216": {
          "model_module": "@jupyter-widgets/base",
          "model_name": "LayoutModel",
          "model_module_version": "1.2.0",
          "state": {
            "_model_module": "@jupyter-widgets/base",
            "_model_module_version": "1.2.0",
            "_model_name": "LayoutModel",
            "_view_count": null,
            "_view_module": "@jupyter-widgets/base",
            "_view_module_version": "1.2.0",
            "_view_name": "LayoutView",
            "align_content": null,
            "align_items": null,
            "align_self": null,
            "border": null,
            "bottom": null,
            "display": null,
            "flex": null,
            "flex_flow": null,
            "grid_area": null,
            "grid_auto_columns": null,
            "grid_auto_flow": null,
            "grid_auto_rows": null,
            "grid_column": null,
            "grid_gap": null,
            "grid_row": null,
            "grid_template_areas": null,
            "grid_template_columns": null,
            "grid_template_rows": null,
            "height": null,
            "justify_content": null,
            "justify_items": null,
            "left": null,
            "margin": null,
            "max_height": null,
            "max_width": null,
            "min_height": null,
            "min_width": null,
            "object_fit": null,
            "object_position": null,
            "order": null,
            "overflow": null,
            "overflow_x": null,
            "overflow_y": null,
            "padding": null,
            "right": null,
            "top": null,
            "visibility": null,
            "width": null
          }
        },
        "8432c80751544b70b5161a171e5a0891": {
          "model_module": "@jupyter-widgets/controls",
          "model_name": "DescriptionStyleModel",
          "model_module_version": "1.5.0",
          "state": {
            "_model_module": "@jupyter-widgets/controls",
            "_model_module_version": "1.5.0",
            "_model_name": "DescriptionStyleModel",
            "_view_count": null,
            "_view_module": "@jupyter-widgets/base",
            "_view_module_version": "1.2.0",
            "_view_name": "StyleView",
            "description_width": ""
          }
        },
        "fa4b61772fce4c19b47c74277ba9577a": {
          "model_module": "@jupyter-widgets/controls",
          "model_name": "HBoxModel",
          "model_module_version": "1.5.0",
          "state": {
            "_dom_classes": [],
            "_model_module": "@jupyter-widgets/controls",
            "_model_module_version": "1.5.0",
            "_model_name": "HBoxModel",
            "_view_count": null,
            "_view_module": "@jupyter-widgets/controls",
            "_view_module_version": "1.5.0",
            "_view_name": "HBoxView",
            "box_style": "",
            "children": [
              "IPY_MODEL_c7bc12d917234e54a5bdb8cb8f6b57e2",
              "IPY_MODEL_e08fb0b6f81546b383622d6f60fd3cc5",
              "IPY_MODEL_5b455c3415b34a5ba6492fdcbaa42195"
            ],
            "layout": "IPY_MODEL_9e5cc975e9e04aa0bac42d84a38ac3e9"
          }
        },
        "c7bc12d917234e54a5bdb8cb8f6b57e2": {
          "model_module": "@jupyter-widgets/controls",
          "model_name": "HTMLModel",
          "model_module_version": "1.5.0",
          "state": {
            "_dom_classes": [],
            "_model_module": "@jupyter-widgets/controls",
            "_model_module_version": "1.5.0",
            "_model_name": "HTMLModel",
            "_view_count": null,
            "_view_module": "@jupyter-widgets/controls",
            "_view_module_version": "1.5.0",
            "_view_name": "HTMLView",
            "description": "",
            "description_tooltip": null,
            "layout": "IPY_MODEL_90ab1cb4967b4f1295c968bd478c5583",
            "placeholder": "​",
            "style": "IPY_MODEL_a1d820aa989945f49c8bbcb1b6785fe9",
            "value": "Downloading: 100%"
          }
        },
        "e08fb0b6f81546b383622d6f60fd3cc5": {
          "model_module": "@jupyter-widgets/controls",
          "model_name": "FloatProgressModel",
          "model_module_version": "1.5.0",
          "state": {
            "_dom_classes": [],
            "_model_module": "@jupyter-widgets/controls",
            "_model_module_version": "1.5.0",
            "_model_name": "FloatProgressModel",
            "_view_count": null,
            "_view_module": "@jupyter-widgets/controls",
            "_view_module_version": "1.5.0",
            "_view_name": "ProgressView",
            "bar_style": "success",
            "description": "",
            "description_tooltip": null,
            "layout": "IPY_MODEL_42b13832acb44c67877d6b67fd3a25ff",
            "max": 12512,
            "min": 0,
            "orientation": "horizontal",
            "style": "IPY_MODEL_250f553163694e0c9f6d6f3ddaa0040f",
            "value": 12512
          }
        },
        "5b455c3415b34a5ba6492fdcbaa42195": {
          "model_module": "@jupyter-widgets/controls",
          "model_name": "HTMLModel",
          "model_module_version": "1.5.0",
          "state": {
            "_dom_classes": [],
            "_model_module": "@jupyter-widgets/controls",
            "_model_module_version": "1.5.0",
            "_model_name": "HTMLModel",
            "_view_count": null,
            "_view_module": "@jupyter-widgets/controls",
            "_view_module_version": "1.5.0",
            "_view_name": "HTMLView",
            "description": "",
            "description_tooltip": null,
            "layout": "IPY_MODEL_f64adf8e34214c8fb40ab54e8c76ab3f",
            "placeholder": "​",
            "style": "IPY_MODEL_151e71627e6a46cb86b0e542782d6a78",
            "value": " 12.5k/12.5k [00:00&lt;00:00, 468kB/s]"
          }
        },
        "9e5cc975e9e04aa0bac42d84a38ac3e9": {
          "model_module": "@jupyter-widgets/base",
          "model_name": "LayoutModel",
          "model_module_version": "1.2.0",
          "state": {
            "_model_module": "@jupyter-widgets/base",
            "_model_module_version": "1.2.0",
            "_model_name": "LayoutModel",
            "_view_count": null,
            "_view_module": "@jupyter-widgets/base",
            "_view_module_version": "1.2.0",
            "_view_name": "LayoutView",
            "align_content": null,
            "align_items": null,
            "align_self": null,
            "border": null,
            "bottom": null,
            "display": null,
            "flex": null,
            "flex_flow": null,
            "grid_area": null,
            "grid_auto_columns": null,
            "grid_auto_flow": null,
            "grid_auto_rows": null,
            "grid_column": null,
            "grid_gap": null,
            "grid_row": null,
            "grid_template_areas": null,
            "grid_template_columns": null,
            "grid_template_rows": null,
            "height": null,
            "justify_content": null,
            "justify_items": null,
            "left": null,
            "margin": null,
            "max_height": null,
            "max_width": null,
            "min_height": null,
            "min_width": null,
            "object_fit": null,
            "object_position": null,
            "order": null,
            "overflow": null,
            "overflow_x": null,
            "overflow_y": null,
            "padding": null,
            "right": null,
            "top": null,
            "visibility": null,
            "width": null
          }
        },
        "90ab1cb4967b4f1295c968bd478c5583": {
          "model_module": "@jupyter-widgets/base",
          "model_name": "LayoutModel",
          "model_module_version": "1.2.0",
          "state": {
            "_model_module": "@jupyter-widgets/base",
            "_model_module_version": "1.2.0",
            "_model_name": "LayoutModel",
            "_view_count": null,
            "_view_module": "@jupyter-widgets/base",
            "_view_module_version": "1.2.0",
            "_view_name": "LayoutView",
            "align_content": null,
            "align_items": null,
            "align_self": null,
            "border": null,
            "bottom": null,
            "display": null,
            "flex": null,
            "flex_flow": null,
            "grid_area": null,
            "grid_auto_columns": null,
            "grid_auto_flow": null,
            "grid_auto_rows": null,
            "grid_column": null,
            "grid_gap": null,
            "grid_row": null,
            "grid_template_areas": null,
            "grid_template_columns": null,
            "grid_template_rows": null,
            "height": null,
            "justify_content": null,
            "justify_items": null,
            "left": null,
            "margin": null,
            "max_height": null,
            "max_width": null,
            "min_height": null,
            "min_width": null,
            "object_fit": null,
            "object_position": null,
            "order": null,
            "overflow": null,
            "overflow_x": null,
            "overflow_y": null,
            "padding": null,
            "right": null,
            "top": null,
            "visibility": null,
            "width": null
          }
        },
        "a1d820aa989945f49c8bbcb1b6785fe9": {
          "model_module": "@jupyter-widgets/controls",
          "model_name": "DescriptionStyleModel",
          "model_module_version": "1.5.0",
          "state": {
            "_model_module": "@jupyter-widgets/controls",
            "_model_module_version": "1.5.0",
            "_model_name": "DescriptionStyleModel",
            "_view_count": null,
            "_view_module": "@jupyter-widgets/base",
            "_view_module_version": "1.2.0",
            "_view_name": "StyleView",
            "description_width": ""
          }
        },
        "42b13832acb44c67877d6b67fd3a25ff": {
          "model_module": "@jupyter-widgets/base",
          "model_name": "LayoutModel",
          "model_module_version": "1.2.0",
          "state": {
            "_model_module": "@jupyter-widgets/base",
            "_model_module_version": "1.2.0",
            "_model_name": "LayoutModel",
            "_view_count": null,
            "_view_module": "@jupyter-widgets/base",
            "_view_module_version": "1.2.0",
            "_view_name": "LayoutView",
            "align_content": null,
            "align_items": null,
            "align_self": null,
            "border": null,
            "bottom": null,
            "display": null,
            "flex": null,
            "flex_flow": null,
            "grid_area": null,
            "grid_auto_columns": null,
            "grid_auto_flow": null,
            "grid_auto_rows": null,
            "grid_column": null,
            "grid_gap": null,
            "grid_row": null,
            "grid_template_areas": null,
            "grid_template_columns": null,
            "grid_template_rows": null,
            "height": null,
            "justify_content": null,
            "justify_items": null,
            "left": null,
            "margin": null,
            "max_height": null,
            "max_width": null,
            "min_height": null,
            "min_width": null,
            "object_fit": null,
            "object_position": null,
            "order": null,
            "overflow": null,
            "overflow_x": null,
            "overflow_y": null,
            "padding": null,
            "right": null,
            "top": null,
            "visibility": null,
            "width": null
          }
        },
        "250f553163694e0c9f6d6f3ddaa0040f": {
          "model_module": "@jupyter-widgets/controls",
          "model_name": "ProgressStyleModel",
          "model_module_version": "1.5.0",
          "state": {
            "_model_module": "@jupyter-widgets/controls",
            "_model_module_version": "1.5.0",
            "_model_name": "ProgressStyleModel",
            "_view_count": null,
            "_view_module": "@jupyter-widgets/base",
            "_view_module_version": "1.2.0",
            "_view_name": "StyleView",
            "bar_color": null,
            "description_width": ""
          }
        },
        "f64adf8e34214c8fb40ab54e8c76ab3f": {
          "model_module": "@jupyter-widgets/base",
          "model_name": "LayoutModel",
          "model_module_version": "1.2.0",
          "state": {
            "_model_module": "@jupyter-widgets/base",
            "_model_module_version": "1.2.0",
            "_model_name": "LayoutModel",
            "_view_count": null,
            "_view_module": "@jupyter-widgets/base",
            "_view_module_version": "1.2.0",
            "_view_name": "LayoutView",
            "align_content": null,
            "align_items": null,
            "align_self": null,
            "border": null,
            "bottom": null,
            "display": null,
            "flex": null,
            "flex_flow": null,
            "grid_area": null,
            "grid_auto_columns": null,
            "grid_auto_flow": null,
            "grid_auto_rows": null,
            "grid_column": null,
            "grid_gap": null,
            "grid_row": null,
            "grid_template_areas": null,
            "grid_template_columns": null,
            "grid_template_rows": null,
            "height": null,
            "justify_content": null,
            "justify_items": null,
            "left": null,
            "margin": null,
            "max_height": null,
            "max_width": null,
            "min_height": null,
            "min_width": null,
            "object_fit": null,
            "object_position": null,
            "order": null,
            "overflow": null,
            "overflow_x": null,
            "overflow_y": null,
            "padding": null,
            "right": null,
            "top": null,
            "visibility": null,
            "width": null
          }
        },
        "151e71627e6a46cb86b0e542782d6a78": {
          "model_module": "@jupyter-widgets/controls",
          "model_name": "DescriptionStyleModel",
          "model_module_version": "1.5.0",
          "state": {
            "_model_module": "@jupyter-widgets/controls",
            "_model_module_version": "1.5.0",
            "_model_name": "DescriptionStyleModel",
            "_view_count": null,
            "_view_module": "@jupyter-widgets/base",
            "_view_module_version": "1.2.0",
            "_view_name": "StyleView",
            "description_width": ""
          }
        }
      }
    },
    "accelerator": "GPU",
    "gpuClass": "standard"
  },
  "cells": [
    {
      "cell_type": "code",
      "source": [
        " !pip install torch"
      ],
      "metadata": {
        "colab": {
          "base_uri": "https://localhost:8080/"
        },
        "id": "5jbLgeRReSvJ",
        "outputId": "f77a68df-51cf-48d5-9232-1ed45f2af787"
      },
      "execution_count": 2,
      "outputs": [
        {
          "output_type": "stream",
          "name": "stdout",
          "text": [
            "Looking in indexes: https://pypi.org/simple, https://us-python.pkg.dev/colab-wheels/public/simple/\n",
            "Requirement already satisfied: torch in /usr/local/lib/python3.8/dist-packages (1.12.1+cu113)\n",
            "Requirement already satisfied: typing-extensions in /usr/local/lib/python3.8/dist-packages (from torch) (4.1.1)\n"
          ]
        }
      ]
    },
    {
      "cell_type": "code",
      "execution_count": 3,
      "metadata": {
        "colab": {
          "base_uri": "https://localhost:8080/"
        },
        "id": "JJy5aDZfbAkb",
        "outputId": "18f09fa2-215e-4855-9fbd-8b2f8c56c9a4"
      },
      "outputs": [
        {
          "output_type": "stream",
          "name": "stdout",
          "text": [
            "Looking in indexes: https://pypi.org/simple, https://us-python.pkg.dev/colab-wheels/public/simple/\n",
            "Collecting datasets\n",
            "  Downloading datasets-2.7.1-py3-none-any.whl (451 kB)\n",
            "\u001b[K     |████████████████████████████████| 451 kB 4.8 MB/s \n",
            "\u001b[?25hCollecting transformers\n",
            "  Downloading transformers-4.25.1-py3-none-any.whl (5.8 MB)\n",
            "\u001b[K     |████████████████████████████████| 5.8 MB 65.8 MB/s \n",
            "\u001b[?25hRequirement already satisfied: pyyaml>=5.1 in /usr/local/lib/python3.8/dist-packages (from datasets) (6.0)\n",
            "Collecting responses<0.19\n",
            "  Downloading responses-0.18.0-py3-none-any.whl (38 kB)\n",
            "Collecting multiprocess\n",
            "  Downloading multiprocess-0.70.14-py38-none-any.whl (132 kB)\n",
            "\u001b[K     |████████████████████████████████| 132 kB 99.5 MB/s \n",
            "\u001b[?25hRequirement already satisfied: packaging in /usr/local/lib/python3.8/dist-packages (from datasets) (21.3)\n",
            "Requirement already satisfied: aiohttp in /usr/local/lib/python3.8/dist-packages (from datasets) (3.8.3)\n",
            "Requirement already satisfied: requests>=2.19.0 in /usr/local/lib/python3.8/dist-packages (from datasets) (2.23.0)\n",
            "Requirement already satisfied: numpy>=1.17 in /usr/local/lib/python3.8/dist-packages (from datasets) (1.21.6)\n",
            "Requirement already satisfied: tqdm>=4.62.1 in /usr/local/lib/python3.8/dist-packages (from datasets) (4.64.1)\n",
            "Requirement already satisfied: fsspec[http]>=2021.11.1 in /usr/local/lib/python3.8/dist-packages (from datasets) (2022.11.0)\n",
            "Requirement already satisfied: pyarrow>=6.0.0 in /usr/local/lib/python3.8/dist-packages (from datasets) (9.0.0)\n",
            "Requirement already satisfied: pandas in /usr/local/lib/python3.8/dist-packages (from datasets) (1.3.5)\n",
            "Collecting huggingface-hub<1.0.0,>=0.2.0\n",
            "  Downloading huggingface_hub-0.11.1-py3-none-any.whl (182 kB)\n",
            "\u001b[K     |████████████████████████████████| 182 kB 92.4 MB/s \n",
            "\u001b[?25hCollecting xxhash\n",
            "  Downloading xxhash-3.1.0-cp38-cp38-manylinux_2_17_x86_64.manylinux2014_x86_64.whl (212 kB)\n",
            "\u001b[K     |████████████████████████████████| 212 kB 64.6 MB/s \n",
            "\u001b[?25hRequirement already satisfied: dill<0.3.7 in /usr/local/lib/python3.8/dist-packages (from datasets) (0.3.6)\n",
            "Requirement already satisfied: frozenlist>=1.1.1 in /usr/local/lib/python3.8/dist-packages (from aiohttp->datasets) (1.3.3)\n",
            "Requirement already satisfied: async-timeout<5.0,>=4.0.0a3 in /usr/local/lib/python3.8/dist-packages (from aiohttp->datasets) (4.0.2)\n",
            "Requirement already satisfied: multidict<7.0,>=4.5 in /usr/local/lib/python3.8/dist-packages (from aiohttp->datasets) (6.0.2)\n",
            "Requirement already satisfied: attrs>=17.3.0 in /usr/local/lib/python3.8/dist-packages (from aiohttp->datasets) (22.1.0)\n",
            "Requirement already satisfied: aiosignal>=1.1.2 in /usr/local/lib/python3.8/dist-packages (from aiohttp->datasets) (1.3.1)\n",
            "Requirement already satisfied: yarl<2.0,>=1.0 in /usr/local/lib/python3.8/dist-packages (from aiohttp->datasets) (1.8.1)\n",
            "Requirement already satisfied: charset-normalizer<3.0,>=2.0 in /usr/local/lib/python3.8/dist-packages (from aiohttp->datasets) (2.1.1)\n",
            "Requirement already satisfied: filelock in /usr/local/lib/python3.8/dist-packages (from huggingface-hub<1.0.0,>=0.2.0->datasets) (3.8.0)\n",
            "Requirement already satisfied: typing-extensions>=3.7.4.3 in /usr/local/lib/python3.8/dist-packages (from huggingface-hub<1.0.0,>=0.2.0->datasets) (4.1.1)\n",
            "Requirement already satisfied: pyparsing!=3.0.5,>=2.0.2 in /usr/local/lib/python3.8/dist-packages (from packaging->datasets) (3.0.9)\n",
            "Requirement already satisfied: urllib3!=1.25.0,!=1.25.1,<1.26,>=1.21.1 in /usr/local/lib/python3.8/dist-packages (from requests>=2.19.0->datasets) (1.24.3)\n",
            "Requirement already satisfied: certifi>=2017.4.17 in /usr/local/lib/python3.8/dist-packages (from requests>=2.19.0->datasets) (2022.9.24)\n",
            "Requirement already satisfied: chardet<4,>=3.0.2 in /usr/local/lib/python3.8/dist-packages (from requests>=2.19.0->datasets) (3.0.4)\n",
            "Requirement already satisfied: idna<3,>=2.5 in /usr/local/lib/python3.8/dist-packages (from requests>=2.19.0->datasets) (2.10)\n",
            "Collecting urllib3!=1.25.0,!=1.25.1,<1.26,>=1.21.1\n",
            "  Downloading urllib3-1.25.11-py2.py3-none-any.whl (127 kB)\n",
            "\u001b[K     |████████████████████████████████| 127 kB 65.8 MB/s \n",
            "\u001b[?25hCollecting tokenizers!=0.11.3,<0.14,>=0.11.1\n",
            "  Downloading tokenizers-0.13.2-cp38-cp38-manylinux_2_17_x86_64.manylinux2014_x86_64.whl (7.6 MB)\n",
            "\u001b[K     |████████████████████████████████| 7.6 MB 52.3 MB/s \n",
            "\u001b[?25hRequirement already satisfied: regex!=2019.12.17 in /usr/local/lib/python3.8/dist-packages (from transformers) (2022.6.2)\n",
            "Requirement already satisfied: python-dateutil>=2.7.3 in /usr/local/lib/python3.8/dist-packages (from pandas->datasets) (2.8.2)\n",
            "Requirement already satisfied: pytz>=2017.3 in /usr/local/lib/python3.8/dist-packages (from pandas->datasets) (2022.6)\n",
            "Requirement already satisfied: six>=1.5 in /usr/local/lib/python3.8/dist-packages (from python-dateutil>=2.7.3->pandas->datasets) (1.15.0)\n",
            "Installing collected packages: urllib3, xxhash, tokenizers, responses, multiprocess, huggingface-hub, transformers, datasets\n",
            "  Attempting uninstall: urllib3\n",
            "    Found existing installation: urllib3 1.24.3\n",
            "    Uninstalling urllib3-1.24.3:\n",
            "      Successfully uninstalled urllib3-1.24.3\n",
            "Successfully installed datasets-2.7.1 huggingface-hub-0.11.1 multiprocess-0.70.14 responses-0.18.0 tokenizers-0.13.2 transformers-4.25.1 urllib3-1.25.11 xxhash-3.1.0\n"
          ]
        }
      ],
      "source": [
        "!pip install datasets transformers"
      ]
    },
    {
      "cell_type": "code",
      "source": [
        "from google.colab import drive\n",
        "drive.mount('/content/drive')\n",
        "%cd /content/drive/MyDrive/ECE1786_Project/"
      ],
      "metadata": {
        "colab": {
          "base_uri": "https://localhost:8080/"
        },
        "id": "Sv4Thby1dUHo",
        "outputId": "8a2b4844-4312-4e97-f53e-490e59056eeb"
      },
      "execution_count": 4,
      "outputs": [
        {
          "output_type": "stream",
          "name": "stdout",
          "text": [
            "Mounted at /content/drive\n",
            "/content/drive/.shortcut-targets-by-id/1xRc8WnihQYZ-NqUh9-SHkHVkkk4-RtFd/ECE1786_Project\n"
          ]
        }
      ]
    },
    {
      "cell_type": "code",
      "source": [
        "import torch\n",
        "from pathlib import Path\n",
        "model_path = Path('/content/drive/MyDrive/ECE1786_Project/code_t5_finetuned_sorting.pt')\n",
        "model= torch.load(model_path)"
      ],
      "metadata": {
        "id": "9H-un24edZO5"
      },
      "execution_count": 5,
      "outputs": []
    },
    {
      "cell_type": "code",
      "source": [
        "from transformers import AutoTokenizer\n",
        "tokenizer = AutoTokenizer.from_pretrained(\"Salesforce/codet5-base\")"
      ],
      "metadata": {
        "colab": {
          "base_uri": "https://localhost:8080/",
          "height": 177,
          "referenced_widgets": [
            "e83f7823411848618864e1a121b10802",
            "42cd4d83fb2b4cae94786ab511456837",
            "2993eccf43754c7f9bdc9bc8f09e13eb",
            "2002e23f147940109293e0ce0daf5840",
            "1f74a4b94d0f42de8aa61a23ccef41ff",
            "a3ee18f98e944be197f57ad3626c670e",
            "2a7269b89a6545269bde77692631a46f",
            "4324edce38484bea8e742be202af8ba3",
            "b0bc1f6b13cf4eb8ab0de30979bec737",
            "4ff38de991274694a5d90df70b899d0e",
            "49c494534d29455f8f58ab174421ff06",
            "ad9bfdb307fb45c8bef5db3b4f7dac8f",
            "0fcf361a6c3141919cb9173ec637a74b",
            "7b44998529124618a06103a7435be905",
            "1db35b00ff324f8691d9c071f9754b7f",
            "be11b4f2a434477c8ec03306c9be04d3",
            "d36a5df08ba34a25b08f838582339b87",
            "049ad29433824445b9dd7ed353c9f4bf",
            "255c899afd13433d9fb13a261b1b0014",
            "f0205d60acc64a9eaad9ec5c82542d5c",
            "937eb295374b438ab437901e9111154e",
            "8e81906fdf704b2f9fc6ece91f2fff9d",
            "20c0e45ee87f4b9db5f61e6af328b688",
            "ebeb1689f99c4798a6d59a8c4e198b3c",
            "28d70443efda4ba0ad71bc86eaba8234",
            "fda9eb55bb0044d889687bef9fc030b7",
            "3add65d077244517bb2ff42a823c38b0",
            "cc8c209a58104035bdee79c92c5b3b97",
            "845a8e2167de4d7c97a474e2bcacb30e",
            "5b52e3450a2f488cb9c208ebf1c5d66c",
            "33c310003f2d4155965df705efd3ea15",
            "4448a591f46a49d08ebdb0fc96e271e9",
            "b7a81ec452914b69a40ca2bac6799231",
            "068c40540b894ef4b29f472e96b3aa13",
            "5c5e0605794d476da08143a260e54e2a",
            "dd16cbddd64e45f9bcab1a430cf66e0e",
            "85c28b3f9d62439b92931927200b51a7",
            "acce645691db43878d9534c7f7b66f49",
            "0d3cc95d755f4265977ac2379caf3cb5",
            "fd2f6b09d8c74709808aba9d57ee962d",
            "1ee4afd60506446e8ba64667134f76ed",
            "47c626b64a184288b8437cef359f9429",
            "9a2d297e5f8b497ba63767d6ebf86216",
            "8432c80751544b70b5161a171e5a0891",
            "fa4b61772fce4c19b47c74277ba9577a",
            "c7bc12d917234e54a5bdb8cb8f6b57e2",
            "e08fb0b6f81546b383622d6f60fd3cc5",
            "5b455c3415b34a5ba6492fdcbaa42195",
            "9e5cc975e9e04aa0bac42d84a38ac3e9",
            "90ab1cb4967b4f1295c968bd478c5583",
            "a1d820aa989945f49c8bbcb1b6785fe9",
            "42b13832acb44c67877d6b67fd3a25ff",
            "250f553163694e0c9f6d6f3ddaa0040f",
            "f64adf8e34214c8fb40ab54e8c76ab3f",
            "151e71627e6a46cb86b0e542782d6a78"
          ]
        },
        "id": "37eXwkpEeJF-",
        "outputId": "2be43995-641f-465b-e732-e33fbd964df4"
      },
      "execution_count": 6,
      "outputs": [
        {
          "output_type": "display_data",
          "data": {
            "text/plain": [
              "Downloading:   0%|          | 0.00/1.48k [00:00<?, ?B/s]"
            ],
            "application/vnd.jupyter.widget-view+json": {
              "version_major": 2,
              "version_minor": 0,
              "model_id": "e83f7823411848618864e1a121b10802"
            }
          },
          "metadata": {}
        },
        {
          "output_type": "display_data",
          "data": {
            "text/plain": [
              "Downloading:   0%|          | 0.00/703k [00:00<?, ?B/s]"
            ],
            "application/vnd.jupyter.widget-view+json": {
              "version_major": 2,
              "version_minor": 0,
              "model_id": "ad9bfdb307fb45c8bef5db3b4f7dac8f"
            }
          },
          "metadata": {}
        },
        {
          "output_type": "display_data",
          "data": {
            "text/plain": [
              "Downloading:   0%|          | 0.00/294k [00:00<?, ?B/s]"
            ],
            "application/vnd.jupyter.widget-view+json": {
              "version_major": 2,
              "version_minor": 0,
              "model_id": "20c0e45ee87f4b9db5f61e6af328b688"
            }
          },
          "metadata": {}
        },
        {
          "output_type": "display_data",
          "data": {
            "text/plain": [
              "Downloading:   0%|          | 0.00/2.00 [00:00<?, ?B/s]"
            ],
            "application/vnd.jupyter.widget-view+json": {
              "version_major": 2,
              "version_minor": 0,
              "model_id": "068c40540b894ef4b29f472e96b3aa13"
            }
          },
          "metadata": {}
        },
        {
          "output_type": "display_data",
          "data": {
            "text/plain": [
              "Downloading:   0%|          | 0.00/12.5k [00:00<?, ?B/s]"
            ],
            "application/vnd.jupyter.widget-view+json": {
              "version_major": 2,
              "version_minor": 0,
              "model_id": "fa4b61772fce4c19b47c74277ba9577a"
            }
          },
          "metadata": {}
        }
      ]
    },
    {
      "cell_type": "code",
      "source": [
        "import pandas as pd\n",
        "Test = pd.read_csv('Test.csv')"
      ],
      "metadata": {
        "id": "Fiaw_e0UdQVa"
      },
      "execution_count": 7,
      "outputs": []
    },
    {
      "cell_type": "markdown",
      "source": [
        "# Hand-Labelling the Results (Qualitative Results)"
      ],
      "metadata": {
        "id": "789gQk8AfJHH"
      }
    },
    {
      "cell_type": "markdown",
      "source": [
        "Metric A: Pass if the generated code has the correct syntax and completes the task of the input, otherwise, fail\n",
        "\n",
        "Metric B: Pass if the generated code has the correct syntax of the sorting algorithm even if it does not complete the task, otherwise, fail\n"
      ],
      "metadata": {
        "id": "AmjcNlg2fY17"
      }
    },
    {
      "cell_type": "markdown",
      "source": [
        "Metric A: pass: 22, fail: 29\n",
        "\n",
        "Metric B: pass: 29, fail: 22"
      ],
      "metadata": {
        "id": "kNvMsYMsqh_R"
      }
    },
    {
      "cell_type": "code",
      "source": [
        "def Eng2Py(i):\n",
        "  sample_input = Test[\"text\"][i-1]\n",
        "  print('#sample_input:', sample_input, '\\n')\n",
        "  input_ids = tokenizer(sample_input, return_tensors='pt').input_ids.to(model.device)\n",
        "  outputs = model.generate(input_ids, max_new_tokens=500)\n",
        "  print('#generated output:')\n",
        "  print(tokenizer.decode(outputs[0], skip_special_tokens=True))"
      ],
      "metadata": {
        "id": "YLH5OcDLZepl"
      },
      "execution_count": 12,
      "outputs": []
    },
    {
      "cell_type": "markdown",
      "source": [
        "## Sample 1"
      ],
      "metadata": {
        "id": "b2e3K0uPfHbZ"
      }
    },
    {
      "cell_type": "code",
      "source": [
        "Eng2Py(1)"
      ],
      "metadata": {
        "colab": {
          "base_uri": "https://localhost:8080/"
        },
        "id": "9tFZAhZBdtbY",
        "outputId": "9049e374-72ee-4ba9-ff87-6ec30db044eb"
      },
      "execution_count": 12,
      "outputs": [
        {
          "output_type": "stream",
          "name": "stdout",
          "text": [
            "#sample_input: 2 Write python code to sort an array in descending order using bubble sort \n",
            "\n",
            "#generated output:\n",
            "def bubbleSort(array):\n",
            "    swapped = False\n",
            "    for i in range(len(array)-1,0,-1):\n",
            "        if array[i]>array[i+1]:\n",
            "            array[i], array[i+1] = array[i+1], array[i]\n",
            "                swapped= True\n",
            "        if swapped:\n",
            "            swapped=False\n",
            "        else:\n",
            "            swapped=False\n",
            "        return array\n",
            "arr = [9,4,3,5,6,1,2,7]\n",
            "print(bubbleSort(arr))\n",
            "\n",
            "\n",
            "\n",
            "\n",
            "\n",
            "\n",
            "\n",
            "\n"
          ]
        }
      ]
    },
    {
      "cell_type": "markdown",
      "source": [
        "(a) Based on metric A, the sample considers a failed sample. The generated code has the incorrect syntax of the sorting algorithm. Compared to the true label, it misses a for loop and also has the wrong indent in some lines.\n",
        "\n",
        "(b) Label for metric A: 0\n",
        "\n",
        "(c) Based on metric B, the sample considers a failed sample. Since the generated code has an error in the sorting algorithm, it will not pass Metric B.\n",
        "\n",
        "(d) Label for metric B: 0"
      ],
      "metadata": {
        "id": "x5Wh8e2RfSbd"
      }
    },
    {
      "cell_type": "markdown",
      "source": [
        "## Sample 2"
      ],
      "metadata": {
        "id": "B7cK-y6Vuf9U"
      }
    },
    {
      "cell_type": "code",
      "source": [
        "Eng2Py(2)"
      ],
      "metadata": {
        "colab": {
          "base_uri": "https://localhost:8080/"
        },
        "outputId": "f420714d-13c5-4efe-e3a8-bf1fce0a99ed",
        "id": "C3YHvMAsuf9g"
      },
      "execution_count": 13,
      "outputs": [
        {
          "output_type": "stream",
          "name": "stdout",
          "text": [
            "#sample_input: 4 write a python program to check if any value appears at least twice in the array using Bubble Sort Algorithm \n",
            "\n",
            "#generated output:\n",
            "def bubbleSort(array):\n",
            "    swapped = False\n",
            "    for i in range(len(array)-1,0,-1):\n",
            "        if array[i]>array[swapped]:\n",
            "            array[i], array[swapped] = array[swapped], array[i+1]\n",
            "                swapped= True\n",
            "        if swapped:\n",
            "            swapped=False\n",
            "        else:\n",
            "            swapped=False\n",
            "        for i in range(0,-1,-1):\n",
            "            array[i], array[i+1]\n",
            "                swapped=False\n",
            "    return array\n",
            "arr = [1,2,3,1]\n",
            "arr = bubbleSort(arr)\n",
            "for i in range(len(arr)-1):\n",
            "    if arr[i] == arr[i+1]:\n",
            "        print(\"A value appears at least twice in the array\")\n",
            "        break\n",
            "    else:\n",
            "        if (i+1 == len(arr)-1):\n",
            "            print(\"No value appear twice in the array\")\n",
            "\n",
            "\n",
            "\n",
            "\n",
            "\n",
            "\n",
            "\n",
            "\n"
          ]
        }
      ]
    },
    {
      "cell_type": "markdown",
      "source": [
        "(a) Based on metric A, the sample considers a failed sample. The generated code has the incorrect syntax of the sorting algorithm. Compared to the true label, it misses a for loop and also has the wrong indent in some lines.\n",
        "\n",
        "(b) Label for metric A: 0\n",
        "\n",
        "(c) Based on metric B, the sample considers a failed sample. Since the generated code has an error in the sorting algorithm, it will not pass Metric B.\n",
        "\n",
        "(d) Label for metric B: 0"
      ],
      "metadata": {
        "id": "A5XG20ruuf9h"
      }
    },
    {
      "cell_type": "markdown",
      "source": [
        "## Sample 3"
      ],
      "metadata": {
        "id": "Nk-xbZ6Wutz4"
      }
    },
    {
      "cell_type": "code",
      "source": [
        "Eng2Py(3)"
      ],
      "metadata": {
        "colab": {
          "base_uri": "https://localhost:8080/"
        },
        "outputId": "2be3fb39-ae93-4591-fbb6-8af54e23dcb4",
        "id": "2s-5H1L0utz6"
      },
      "execution_count": 14,
      "outputs": [
        {
          "output_type": "stream",
          "name": "stdout",
          "text": [
            "#sample_input: 13 Write python code to determine the element that appears more than ⌊n / 2⌋ times in an array using Selection Sort assuming that this element always exists in the array \n",
            "\n",
            "#generated output:\n",
            "def selectionSort(array):\n",
            "    for i in range(len(array)-1):\n",
            "        min_idx = i\n",
            "        for idx in range(i + 1, len(array)):\n",
            "            if array[idx] < array[min_idx]:\n",
            "                min_idx = idx\n",
            "        array[i], array[min_idx] = array[min_idx], array[i]\n",
            "    return array\n",
            "arr = [2,2,2,2,2,2,2,2,2,1,1,1,1,1,1,1,1,1,1,1,1,1,2]\n",
            "arr = selectionSort(arr)\n",
            "print(arr[len(arr)//2])\n",
            "\n",
            "\n",
            "\n",
            "\n",
            "\n",
            "\n",
            "\n",
            "\n",
            "\n"
          ]
        }
      ]
    },
    {
      "cell_type": "markdown",
      "source": [
        "(a) Based on metric A, the sample considers a passed sample. The generated code has the correct syntax of the sorting algorithm and can run without error. It also completes the task of the input.\n",
        "\n",
        "(b) Label for metric A: 1\n",
        "\n",
        "(c) Based on metric B, the sample considers a passed sample. Since the generated code has passed metric A with correct sorting algorithm, it will also pass metric B.\n",
        "\n",
        "(d) Label for metric B: 1"
      ],
      "metadata": {
        "id": "MpHUQbWEutz6"
      }
    },
    {
      "cell_type": "markdown",
      "source": [
        "## Sample 4"
      ],
      "metadata": {
        "id": "oK99CZKqu6sH"
      }
    },
    {
      "cell_type": "code",
      "source": [
        "Eng2Py(4)"
      ],
      "metadata": {
        "colab": {
          "base_uri": "https://localhost:8080/"
        },
        "outputId": "5455db04-a4eb-4034-85ce-60d8a1f3e92e",
        "id": "n8qlESFPu6sI"
      },
      "execution_count": 15,
      "outputs": [
        {
          "output_type": "stream",
          "name": "stdout",
          "text": [
            "#sample_input: 15 Use the Selection Sort algorithm to find the third distinct maximum number in an array in python \n",
            "\n",
            "#generated output:\n",
            "def selectionSort(array):\n",
            "    for i in range(len(array)-1):\n",
            "        min_idx = i\n",
            "        for idx in range(i + 1, len(array)):\n",
            "            if array[idx] < array[min_idx]:\n",
            "                min_idx = idx\n",
            "        array[i], array[min_idx] = array[min_idx], array[i]\n",
            "    return array\n",
            "arr = [2,2,3,1]\n",
            "arr = selectionSort(arr)\n",
            "count = 1\n",
            "prev = arr[0]\n",
            "for i in range(len(arr)):\n",
            "    if arr[i]!= prev:\n",
            "        count += 1\n",
            "        prev = arr[i]\n",
            "        if count == 3:\n",
            "            print(arr[i])\n",
            "\n",
            "\n",
            "\n",
            "\n",
            "\n",
            "\n",
            "\n",
            "\n"
          ]
        }
      ]
    },
    {
      "cell_type": "markdown",
      "source": [
        "(a) Based on metric A, the sample considers a passed sample. The generated code has the correct syntax of the sorting algorithm and can run without error. It also completes the task of the input.\n",
        "\n",
        "(b) Label for metric A: 1\n",
        "\n",
        "(c) Based on metric B, the sample considers a passed sample. Since the generated code has passed metric A with correct sorting algorithm, it will also pass metric B.\n",
        "\n",
        "(d) Label for metric B: 1"
      ],
      "metadata": {
        "id": "9BITZGcZu6sI"
      }
    },
    {
      "cell_type": "markdown",
      "source": [
        "## Sample 5"
      ],
      "metadata": {
        "id": "xeSnGAxxvBuT"
      }
    },
    {
      "cell_type": "code",
      "source": [
        "Eng2Py(5)"
      ],
      "metadata": {
        "colab": {
          "base_uri": "https://localhost:8080/"
        },
        "outputId": "6bcf7b22-7b05-4b7b-81ca-2a3e5a5ad573",
        "id": "YHefTgACvBuU"
      },
      "execution_count": 72,
      "outputs": [
        {
          "output_type": "stream",
          "name": "stdout",
          "text": [
            "#sample_input: 24 Write python code to check if any value appears at least two times in an array using Insertion Sort \n",
            "\n",
            "#generated output:\n",
            "def insertionSort(array):\n",
            "    for i in range(1, len(array)):\n",
            "        key = array[i]\n",
            "        j = i-1\n",
            "        while array[j] > key and j >= 0:\n",
            "            array[j+1] = array[j]\n",
            "            j -= 1\n",
            "        array[j+1] = key\n",
            "    return array\n",
            "arr = [1,2,3,1]\n",
            "arr = insertionSort(arr)\n",
            "for i in range(len(arr)-1):\n",
            "    if arr[i] == arr[i+1]:\n",
            "        print(\"A value appears at least twice in the array\")\n",
            "        break\n",
            "    else:\n",
            "        if (i+1 == len(arr)-1):\n",
            "            print(\"No value appear twice in the array\")\n",
            "\n",
            "\n",
            "\n",
            "\n",
            "\n",
            "\n",
            "\n",
            "\n",
            "\n"
          ]
        }
      ]
    },
    {
      "cell_type": "markdown",
      "source": [
        "(a) Based on metric A, the sample considers a passed sample. The generated code has the correct syntax of the sorting algorithm and can run without error. It also completes the task of the input.\n",
        "\n",
        "(b) Label for metric A: 1\n",
        "\n",
        "(c) Based on metric B, the sample considers a passed sample. Since the generated code has passed metric A with correct sorting algorithm, it will also pass metric B.\n",
        "\n",
        "(d) Label for metric B: 1"
      ],
      "metadata": {
        "id": "hKJFLXGVvBuV"
      }
    },
    {
      "cell_type": "markdown",
      "source": [
        "## Sample 6"
      ],
      "metadata": {
        "id": "JF7L-OJbvMUh"
      }
    },
    {
      "cell_type": "code",
      "source": [
        "Eng2Py(6)"
      ],
      "metadata": {
        "colab": {
          "base_uri": "https://localhost:8080/"
        },
        "outputId": "23e94b36-9241-43e4-9b94-fe5a2fcbd467",
        "id": "QtHvcZFavMUi"
      },
      "execution_count": 73,
      "outputs": [
        {
          "output_type": "stream",
          "name": "stdout",
          "text": [
            "#sample_input: 26 write a python program that uses insertion sort algorithm to find three element in an array whose product is the highest \n",
            "\n",
            "#generated output:\n",
            "def insertionSort(array):\n",
            "    for i in range(len(array)-1):\n",
            "        min_idx = i\n",
            "        for idx in range(i + 1, len(array)):\n",
            "            if array[idx] < array[min_idx]:\n",
            "                min_idx = idx\n",
            "        array[i], array[min_idx] = array[min_idx], array[i]\n",
            "    return array\n",
            "arr = [1,2,3,4]\n",
            "arr = insertionSort(arr)\n",
            "print(max(arr[-1] * arr[-2] * arr[-3], arr[0] * arr[1] * arr[-1]))\n",
            "\n",
            "\n",
            "\n",
            "\n",
            "\n",
            "\n",
            "\n",
            "\n"
          ]
        }
      ]
    },
    {
      "cell_type": "markdown",
      "source": [
        "(a) Based on metric A, the sample considers a failed sample. The generated code has the correct syntax and can run without error to complete the task. However, the sorting algorithm generated is not insertion sort, it is actually selection sort. Since the wrong algorithm is generated, it will not pass Metric A.\n",
        "\n",
        "(b) Label for metric A: 0\n",
        "\n",
        "(c) Based on metric B, the sample considers a failed sample. Since the generated code does not have correct sorting algorithm, it will not pass metric B.\n",
        "\n",
        "(d) Label for metric B: 0"
      ],
      "metadata": {
        "id": "hc-ZlR4ivMUi"
      }
    },
    {
      "cell_type": "markdown",
      "source": [
        "## Sample 7"
      ],
      "metadata": {
        "id": "rUkKPIfNvW4B"
      }
    },
    {
      "cell_type": "code",
      "source": [
        "Eng2Py(7)"
      ],
      "metadata": {
        "colab": {
          "base_uri": "https://localhost:8080/"
        },
        "outputId": "d7dbc10d-909a-41d6-f1fc-cc9d6991c4c6",
        "id": "4ybn9f9nvW4C"
      },
      "execution_count": 18,
      "outputs": [
        {
          "output_type": "stream",
          "name": "stdout",
          "text": [
            "#sample_input: 35 write python code to determine the third distinct maximum number in this array using shell sort algorithm \n",
            "\n",
            "#generated output:\n",
            "import math\n",
            "def shellSort(array):\n",
            "    n = len(array)\n",
            "    k = int(math.log2(n))\n",
            "    interval = 2**k -1\n",
            "    while interval > 0:\n",
            "        for i in range(interval, n):\n",
            "            temp = array[i]\n",
            "            j = i\n",
            "            while j >= interval and array[j - interval] > temp:\n",
            "                array[j] = array[j - interval]\n",
            "                j -= interval\n",
            "            array[j] = temp\n",
            "        k -= 1\n",
            "        interval = 2**k -1\n",
            "    return array\n",
            "arr = [2,2,3,1]\n",
            "arr = shellSort(arr)\n",
            "count = 1\n",
            "prev = arr[0]\n",
            "for i in range(len(arr)):\n",
            "    if arr[i]!= prev:\n",
            "        count += 1\n",
            "        prev = arr[i]\n",
            "        if count == 3:\n",
            "            print(arr[i])\n",
            "\n",
            "\n",
            "\n",
            "\n",
            "\n",
            "\n",
            "\n"
          ]
        }
      ]
    },
    {
      "cell_type": "markdown",
      "source": [
        "(a) Based on metric A, the sample considers a passed sample. The generated code has the correct syntax of the sorting algorithm and can run without error. It also completes the task of the input.\n",
        "\n",
        "(b) Label for metric A: 1\n",
        "\n",
        "(c) Based on metric B, the sample considers a passed sample. Since the generated code has passed metric A with correct sorting algorithm, it will also pass metric B.\n",
        "\n",
        "(d) Label for metric B: 1"
      ],
      "metadata": {
        "id": "0hcuTXC4vW4C"
      }
    },
    {
      "cell_type": "markdown",
      "source": [
        "## Sample 8"
      ],
      "metadata": {
        "id": "pu-_shDYvc8V"
      }
    },
    {
      "cell_type": "code",
      "source": [
        "Eng2Py(8)"
      ],
      "metadata": {
        "colab": {
          "base_uri": "https://localhost:8080/"
        },
        "outputId": "49072e62-0089-4cf6-d790-6c07a3031ebd",
        "id": "Xedwnq7uvc8W"
      },
      "execution_count": 19,
      "outputs": [
        {
          "output_type": "stream",
          "name": "stdout",
          "text": [
            "#sample_input: 37 Write a shell sort based Python program to determine the biggest perimeter of a triangle with a non-zero area built from three of these lengths \n",
            "\n",
            "#generated output:\n",
            "import math\n",
            "def shellSort(array):\n",
            "    n = len(array)\n",
            "    k = int(math.log2(n))\n",
            "    interval = 2**k -1\n",
            "    while interval > 0:\n",
            "        for i in range(interval, n):\n",
            "            temp = array[i]\n",
            "            j = i\n",
            "            while j >= interval and array[j - interval] > temp:\n",
            "                array[j] = array[j - interval]\n",
            "                j -= interval\n",
            "            array[j] = temp\n",
            "        k -= 1\n",
            "        interval = 2**k -1\n",
            "    return array\n",
            "arr = [2,1,2]\n",
            "arr = shellSort(arr)[::-1]\n",
            "for i in range(len(arr)-2):\n",
            "    if arr[i] + arr[i+1] > arr[i+2]:\n",
            "        print(arr[i] + arr[i+1] + arr[i+2])\n",
            "\n",
            "\n",
            "\n",
            "\n",
            "\n",
            "\n",
            "\n",
            "\n"
          ]
        }
      ]
    },
    {
      "cell_type": "markdown",
      "source": [
        "(a) Based on metric A, the sample considers a passed sample. The generated code has the correct syntax of the sorting algorithm and can run without error. It also completes the task of the input.\n",
        "\n",
        "(b) Label for metric A: 1\n",
        "\n",
        "(c) Based on metric B, the sample considers a passed sample. Since the generated code has passed metric A with correct sorting algorithm, it will also pass metric B.\n",
        "\n",
        "(d) Label for metric B: 1"
      ],
      "metadata": {
        "id": "SQx1CO4Jvc8X"
      }
    },
    {
      "cell_type": "markdown",
      "source": [
        "## Sample 9"
      ],
      "metadata": {
        "id": "1vCNVn0Xvi4B"
      }
    },
    {
      "cell_type": "code",
      "source": [
        "Eng2Py(9)"
      ],
      "metadata": {
        "colab": {
          "base_uri": "https://localhost:8080/"
        },
        "outputId": "12abffaf-2927-4981-a367-c5daa8a638bc",
        "id": "eckJOb46vi4B"
      },
      "execution_count": 20,
      "outputs": [
        {
          "output_type": "stream",
          "name": "stdout",
          "text": [
            "#sample_input: 46 Use heap sort algorithm to find three numbers whose product is maximum in a given array \n",
            "\n",
            "#generated output:\n",
            "def heapify(array, n, i):\n",
            "    smallest = i\n",
            "    l = 2 * i + 1\n",
            "    r = 2 * i + 2\n",
            "    if l < n and array[i] < array[l]:\n",
            "        smallest = l\n",
            "    if smallest!= i:\n",
            "        array[i], array[smallest] = array[smallest], array[i]\n",
            "        heapify(array, n, smallest)\n",
            "    return array\n",
            "arr = [1,2,3,4]\n",
            "arr = heapSort(arr)\n",
            "print(max(arr[-1] * arr[-2] * arr[-3], arr[0] * arr[1] * arr[-1]))\n",
            "\n",
            "\n",
            "\n",
            "\n",
            "\n",
            "\n",
            "\n"
          ]
        }
      ]
    },
    {
      "cell_type": "markdown",
      "source": [
        "(a) Based on metric A, the sample considers a failed sample. The generated code misses the main function of heap sort and some other conditions. Since the wrong algorithm is generated, it will not pass Metric A.\n",
        "\n",
        "(b) Label for metric A: 0\n",
        "\n",
        "(c) Based on metric B, the sample considers a failed sample. Since the generated code does not have correct sorting algorithm, it will not pass metric B.\n",
        "\n",
        "(d) Label for metric B: 0"
      ],
      "metadata": {
        "id": "UBgltNKGvi4C"
      }
    },
    {
      "cell_type": "markdown",
      "source": [
        "## Sample 10"
      ],
      "metadata": {
        "id": "a-hNvP6vvp9Q"
      }
    },
    {
      "cell_type": "code",
      "source": [
        "Eng2Py(10)"
      ],
      "metadata": {
        "colab": {
          "base_uri": "https://localhost:8080/"
        },
        "outputId": "d2c48c23-0979-4355-86e4-59dbbf933beb",
        "id": "0x_QmHQSvp9Q"
      },
      "execution_count": 21,
      "outputs": [
        {
          "output_type": "stream",
          "name": "stdout",
          "text": [
            "#sample_input: 48 Write a python program that uses heap sort to print an array of each number's squares sorted in non-decreasing order from a specified array \n",
            "\n",
            "#generated output:\n",
            "def heapify(array, n, i):\n",
            "    smallest = i\n",
            "    l = 2 * i + 1\n",
            "    r = 2 * i + 2\n",
            "    if l < n and array[i] < array[l]:\n",
            "        smallest = l\n",
            "    if smallest!= i:\n",
            "        array[i], array[smallest] = array[smallest], array[i]\n",
            "        heapify(array, n, smallest)\n",
            "    return array\n",
            "arr = [-2,-1,0,3,4]\n",
            "for i in range(len(arr)):\n",
            "    arr[i] *= arr[i]\n",
            "print(heapSort(arr))\n",
            "\n",
            "\n",
            "\n",
            "\n",
            "\n",
            "\n"
          ]
        }
      ]
    },
    {
      "cell_type": "markdown",
      "source": [
        "(a) Based on metric A, the sample considers a failed sample. The generated code misses the main function of heap sort and some other conditions. Since the wrong algorithm is generated, it will not pass Metric A.\n",
        "\n",
        "(b) Label for metric A: 0\n",
        "\n",
        "(c) Based on metric B, the sample considers a failed sample. Since the generated code does not have correct sorting algorithm, it will not pass metric B.\n",
        "\n",
        "(d) Label for metric B: 0"
      ],
      "metadata": {
        "id": "LauFtxcyvp9R"
      }
    },
    {
      "cell_type": "markdown",
      "source": [
        "## Sample 11"
      ],
      "metadata": {
        "id": "jLVIRffDvuht"
      }
    },
    {
      "cell_type": "code",
      "source": [
        "Eng2Py(11)"
      ],
      "metadata": {
        "colab": {
          "base_uri": "https://localhost:8080/"
        },
        "outputId": "26704d5a-643d-4fd7-f188-f1b0318aa24b",
        "id": "dLRm_JfPvuhu"
      },
      "execution_count": 22,
      "outputs": [
        {
          "output_type": "stream",
          "name": "stdout",
          "text": [
            "#sample_input: 57 Write a Python programme to use merge sort to determine the biggest perimeter of a triangle with a non-zero area generated from three of these lengths \n",
            "\n",
            "#generated output:\n",
            "def mergeSort(nums):\n",
            "    if len(nums)==1:\n",
            "        return nums\n",
            "    mid = (len(nums)-1) // 2\n",
            "    lst1 = mergeSort(nums[:mid+1])\n",
            "    lst2 = mergeSort(nums[mid+1:])\n",
            "    result = merge(lst1, lst2)\n",
            "    return result\n",
            "def merge(lst1, lst2):\n",
            "    lst = []\n",
            "    i = 0\n",
            "    j = 0\n",
            "    while(i<=len(lst1)-1 and j<=len(lst2)-1):\n",
            "        if lst1[i]<lst2[j]:\n",
            "            lst.append(lst1[i])\n",
            "            i+=1\n",
            "        else:\n",
            "            lst.append(lst2[j])\n",
            "            j+=1\n",
            "    return lst\n",
            "arr = [2,1,2]\n",
            "arr = mergeSort(arr)[::-1]\n",
            "for i in range(len(arr)-2):\n",
            "    if arr[i] + arr[i+1] > arr[i+2]:\n",
            "        print(arr[i] + arr[i+1] + arr[i+2])\n",
            "\n",
            "\n",
            "\n",
            "\n",
            "\n",
            "\n",
            "\n"
          ]
        }
      ]
    },
    {
      "cell_type": "markdown",
      "source": [
        "(a) Based on metric A, the sample considers a failed sample. The generated code misses an if and else clause near the end of merge sort. Since the wrong algorithm is generated, it will not pass Metric A.\n",
        "\n",
        "(b) Label for metric A: 0\n",
        "\n",
        "(c) Based on metric B, the sample considers a failed sample. Since the generated code does not have correct sorting algorithm, it will not pass metric B.\n",
        "\n",
        "(d) Label for metric B: 0"
      ],
      "metadata": {
        "id": "fRGiqgOvvuhv"
      }
    },
    {
      "cell_type": "markdown",
      "source": [
        "## Sample 12"
      ],
      "metadata": {
        "id": "0bnNWuxTvzHr"
      }
    },
    {
      "cell_type": "code",
      "source": [
        "Eng2Py(12)"
      ],
      "metadata": {
        "colab": {
          "base_uri": "https://localhost:8080/"
        },
        "outputId": "1b1f2c30-b0da-4b1e-e08c-4a0520aa9294",
        "id": "MfA1RenFvzHs"
      },
      "execution_count": 23,
      "outputs": [
        {
          "output_type": "stream",
          "name": "stdout",
          "text": [
            "#sample_input: 59 write a merge sort-based Python programme to find the mean of the remaining integers after the smallest 5% and largest 5% of the array's elements have been eliminated \n",
            "\n",
            "#generated output:\n",
            "def mergeSort(nums):\n",
            "    if len(nums)==1:\n",
            "        return nums\n",
            "    mid = (len(nums)-1) // 2\n",
            "    lst1 = mergeSort(nums[:mid+1])\n",
            "    lst2 = mergeSort(nums[mid+1:])\n",
            "    result = merge(lst1, lst2)\n",
            "    return result\n",
            "def merge(lst1, lst2):\n",
            "    lst = []\n",
            "    i = 0\n",
            "    j = 0\n",
            "    while(i<=len(lst1)-1 and j<=len(lst2)-1):\n",
            "        if lst1[i]<lst2[j]:\n",
            "            lst.append(lst1[i])\n",
            "            i+=1\n",
            "        else:\n",
            "            lst.append(lst2[j])\n",
            "            j+=1\n",
            "    return lst\n",
            "arr = [1,3,3,2,2,2,2,2,2,2,2,2,2,2,2,2,2,2,2,2,2,2,2,2,2,2,3,3,3,1]\n",
            "arr = mergeSort(arr)\n",
            "start = int(len(arr)*5/100)\n",
            "arr2 = arr[start:len(arr)-start]\n",
            "print(sum(arr2)/len(arr2))\n",
            "\n",
            "\n",
            "\n",
            "\n",
            "\n",
            "\n",
            "\n",
            "\n"
          ]
        }
      ]
    },
    {
      "cell_type": "markdown",
      "source": [
        "(a) Based on metric A, the sample considers a failed sample. The generated code misses an if and else clause near the end of merge sort. Since the wrong algorithm is generated, it will not pass Metric A.\n",
        "\n",
        "(b) Label for metric A: 0\n",
        "\n",
        "(c) Based on metric B, the sample considers a failed sample. Since the generated code does not have correct sorting algorithm, it will not pass metric B.\n",
        "\n",
        "(d) Label for metric B: 0"
      ],
      "metadata": {
        "id": "NHfatWS3vzHt"
      }
    },
    {
      "cell_type": "markdown",
      "source": [
        "## Sample 13"
      ],
      "metadata": {
        "id": "rDOzaCGHwGm1"
      }
    },
    {
      "cell_type": "code",
      "source": [
        "Eng2Py(13)"
      ],
      "metadata": {
        "colab": {
          "base_uri": "https://localhost:8080/"
        },
        "outputId": "69f37484-a105-4acc-b533-d83154344ce7",
        "id": "lmtF4jR6wGm1"
      },
      "execution_count": 84,
      "outputs": [
        {
          "output_type": "stream",
          "name": "stdout",
          "text": [
            "#sample_input: 68 Write a python program that uses quick sort to print an array of each number's squares arranged in non-decreasing order from a specified array \n",
            "\n",
            "#generated output:\n",
            "def quickSort(array):\n",
            "    n = len(array)\n",
            "    is_Sorted = 0\n",
            "    while is_Sorted == 0:\n",
            "        is_Sorted = 1\n",
            "        temp = 0\n",
            "        for i in range(1, n-1, 2):\n",
            "            if array[i] > array[i+1]:\n",
            "                array[i], array[i+1] = array[i+1], array[i]\n",
            "                is_Sorted = 0\n",
            "                 \n",
            "        for i in range(0, n-1, 2):\n",
            "            if array[i] > array[i+1]:\n",
            "                array[i], array[i+1] = array[i+1], array[i]\n",
            "                is_Sorted = 0\n",
            "     \n",
            "    return array\n",
            "arr = [-2,-1,0,3,4]\n",
            "arr = quickSort(arr)\n",
            "print(arr[::-1])\n",
            "\n",
            "\n",
            "\n",
            "\n",
            "\n",
            "\n"
          ]
        }
      ]
    },
    {
      "cell_type": "markdown",
      "source": [
        "(a) Based on metric A, the sample considers a failed sample. The generated code has the correct syntax and can run without error to complete the task. However, the sorting algorithm generated is not quick sort, it is actually brick sort. Since the wrong algorithm is generated, it will not pass Metric A.\n",
        "\n",
        "(b) Label for metric A: 0\n",
        "\n",
        "(c) Based on metric B, the sample considers a failed sample. Since the generated code does not have correct sorting algorithm, it will not pass metric B.\n",
        "\n",
        "(d) Label for metric B: 0"
      ],
      "metadata": {
        "id": "CRyClGG9wGm1"
      }
    },
    {
      "cell_type": "markdown",
      "source": [
        "## Sample 14"
      ],
      "metadata": {
        "id": "X-3MAHQkwgNC"
      }
    },
    {
      "cell_type": "code",
      "source": [
        "Eng2Py(14)"
      ],
      "metadata": {
        "colab": {
          "base_uri": "https://localhost:8080/"
        },
        "outputId": "c1ed0170-abf2-4bd4-dd5e-cc4eabefc4a0",
        "id": "fYHofWtnwgND"
      },
      "execution_count": 25,
      "outputs": [
        {
          "output_type": "stream",
          "name": "stdout",
          "text": [
            "#sample_input: 70 write a quick sort function in python to determine the number of numbers in the array that are smaller than each entry \n",
            "\n",
            "#generated output:\n",
            "def quickSort(array):\n",
            "    if len(array)> 1:\n",
            "        pivot=array.pop()\n",
            "        grtr_lst, equal_lst, smlr_lst = [], [pivot], []\n",
            "        for item in array:\n",
            "            if item == pivot:\n",
            "                equal_lst.append(item)\n",
            "            elif item > pivot:\n",
            "                grtr_lst.append(item)\n",
            "            else:\n",
            "                smlr_lst.append(item)\n",
            "        return (quickSort(smlr_lst) + equal_lst + quickSort(grtr_lst))\n",
            "    else:\n",
            "        return array\n",
            "arr = [6,5,4,8]\n",
            "arr2 = quickSort(arr.copy())\n",
            "print([arr2.index(i) for i in arr])\n",
            "\n",
            "\n",
            "\n",
            "\n",
            "\n",
            "\n",
            "\n"
          ]
        }
      ]
    },
    {
      "cell_type": "markdown",
      "source": [
        "(a) Based on metric A, the sample considers a passed sample. The generated code has the correct syntax of the sorting algorithm and can run without error. It also completes the task of the input.\n",
        "\n",
        "(b) Label for metric A: 1\n",
        "\n",
        "(c) Based on metric B, the sample considers a passed sample. Since the generated code has passed metric A with correct sorting algorithm, it will also pass metric B.\n",
        "\n",
        "(d) Label for metric B: 1"
      ],
      "metadata": {
        "id": "QM79qcn6wgNE"
      }
    },
    {
      "cell_type": "markdown",
      "source": [
        "## Sample 15"
      ],
      "metadata": {
        "id": "MbEUhoOMwm6J"
      }
    },
    {
      "cell_type": "code",
      "source": [
        "Eng2Py(15)"
      ],
      "metadata": {
        "colab": {
          "base_uri": "https://localhost:8080/"
        },
        "outputId": "c64dbc3f-8d55-4e0e-e62e-43dfd6e02cc0",
        "id": "ZD0jURiSwm6K"
      },
      "execution_count": 26,
      "outputs": [
        {
          "output_type": "stream",
          "name": "stdout",
          "text": [
            "#sample_input: 71 write python code to sort an array in ascending order using counting sort algorithm \n",
            "\n",
            "#generated output:\n",
            "def countSort(array):\n",
            "    i_lower_bound, upper_bound = min(array), max(array)\n",
            "    lower_bound = i_lower_bound\n",
            "    if i_lower_bound < 0:\n",
            "        lb = abs(i_lower_bound)\n",
            "        array = [item + lb for item in array]\n",
            "        lower_bound, upper_bound = min(array), max(array)\n",
            "    counter_array = [0]*(upper_bound-lower_bound+1)\n",
            "    for item in array:\n",
            "        counter_array[item-lower_bound] += 1\n",
            "    pos = 0\n",
            "    for idx, item in enumerate(counter_array):\n",
            "        num = idx + lower_bound\n",
            "        for i in range(item):\n",
            "            array[pos] = num\n",
            "            pos += 1\n",
            "    if i_lower_bound < 0:\n",
            "        lb = abs(i_lower_bound)\n",
            "        array = [item - lb for item in array]\n",
            "    return array\n",
            "arr = [9,4,3,5,6,1,2,7]\n",
            "print(countSort(arr))\n",
            "\n",
            "\n",
            "\n",
            "\n",
            "\n",
            "\n",
            "\n"
          ]
        }
      ]
    },
    {
      "cell_type": "markdown",
      "source": [
        "(a) Based on metric A, the sample considers a passed sample. The generated code has the correct syntax of the sorting algorithm and can run without error. It also completes the task of the input.\n",
        "\n",
        "(b) Label for metric A: 1\n",
        "\n",
        "(c) Based on metric B, the sample considers a passed sample. Since the generated code has passed metric A with correct sorting algorithm, it will also pass metric B.\n",
        "\n",
        "(d) Label for metric B: 1"
      ],
      "metadata": {
        "id": "yB34Ex7kwm6L"
      }
    },
    {
      "cell_type": "markdown",
      "source": [
        "## Sample 16"
      ],
      "metadata": {
        "id": "DEo2uJDBw2tv"
      }
    },
    {
      "cell_type": "code",
      "source": [
        "Eng2Py(16)"
      ],
      "metadata": {
        "colab": {
          "base_uri": "https://localhost:8080/"
        },
        "outputId": "26c95943-5fc4-437c-df4f-94b0baf12078",
        "id": "VBPzwuz8w2t5"
      },
      "execution_count": 27,
      "outputs": [
        {
          "output_type": "stream",
          "name": "stdout",
          "text": [
            "#sample_input: 73 write python code to find the element that appears more than ⌊n / 2⌋ times in an array using counting sort assuming that this element always exists in the array \n",
            "\n",
            "#generated output:\n",
            "def countSort(array):\n",
            "    i_lower_bound, upper_bound = min(array), max(array)\n",
            "    lower_bound = i_lower_bound\n",
            "    if i_lower_bound < 0:\n",
            "        lb = abs(i_lower_bound)\n",
            "        array = [item + lb for item in array]\n",
            "        lower_bound, upper_bound = min(array), max(array)\n",
            "    counter_array = [0]*(upper_bound-lower_bound+1)\n",
            "    for item in array:\n",
            "        counter_array[item-lower_bound] += 1\n",
            "    pos = 0\n",
            "    for idx, item in enumerate(counter_array):\n",
            "        num = idx + lower_bound\n",
            "        for i in range(item):\n",
            "            array[pos] = num\n",
            "            pos += 1\n",
            "    if i_lower_bound < 0:\n",
            "        lb = abs(i_lower_bound)\n",
            "        array = [item - lb for item in array]\n",
            "    return array\n",
            "arr = [2,2,1,1,1,2,2]\n",
            "arr = countSort(arr)\n",
            "print(arr[len(arr)//2])\n",
            "\n",
            "\n",
            "\n",
            "\n",
            "\n",
            "\n",
            "\n",
            "\n"
          ]
        }
      ]
    },
    {
      "cell_type": "markdown",
      "source": [
        "(a) Based on metric A, the sample considers a passed sample. The generated code has the correct syntax of the sorting algorithm and can run without error. It also completes the task of the input.\n",
        "\n",
        "(b) Label for metric A: 1\n",
        "\n",
        "(c) Based on metric B, the sample considers a passed sample. Since the generated code has passed metric A with correct sorting algorithm, it will also pass metric B.\n",
        "\n",
        "(d) Label for metric B: 1"
      ],
      "metadata": {
        "id": "ep2pK2ZBw2t5"
      }
    },
    {
      "cell_type": "markdown",
      "source": [
        "## Sample 17"
      ],
      "metadata": {
        "id": "W_YAVP-1w6gs"
      }
    },
    {
      "cell_type": "code",
      "source": [
        "Eng2Py(17)"
      ],
      "metadata": {
        "colab": {
          "base_uri": "https://localhost:8080/"
        },
        "outputId": "a8cdbe76-a220-4095-9f28-e45d7b10ec9c",
        "id": "mz7ElS2Rw6gs"
      },
      "execution_count": 28,
      "outputs": [
        {
          "output_type": "stream",
          "name": "stdout",
          "text": [
            "#sample_input: 82 Write a python program to use the radix sort algorithm to sort an array in descending order \n",
            "\n",
            "#generated output:\n",
            "import itertools\n",
            "def radixSort(array):\n",
            "    n = len(array)\n",
            "    isSorted = 0\n",
            "    while isSorted == 0:\n",
            "        isSorted = 1\n",
            "        temp = 0\n",
            "        for i in range(1, n-1, 2):\n",
            "            if array[i] > array[i+1]:\n",
            "                array[i], array[i+1] = array[i+1], array[i]\n",
            "                isSorted = 0\n",
            "                 \n",
            "        for i in range(0, n-1, 2):\n",
            "            if array[i] > array[i+1]:\n",
            "                array[i], array[i+1] = array[i+1], array[i]\n",
            "                isSorted = 0\n",
            "     \n",
            "    return array\n",
            "arr = [9,4,3,5,6,1,2,7]\n",
            "print(radixSort(arr))\n",
            "\n",
            "\n",
            "\n",
            "\n",
            "\n",
            "\n",
            "\n"
          ]
        }
      ]
    },
    {
      "cell_type": "markdown",
      "source": [
        "(a) Based on metric A, the sample considers a failed sample. The generated code has the correct syntax and can run without error to complete the task. However, the sorting algorithm generated is not radix sort, it is actually brick sort. Since the wrong algorithm is generated, it will not pass Metric A.\n",
        "\n",
        "(b) Label for metric A: 0\n",
        "\n",
        "(c) Based on metric B, the sample considers a failed sample. Since the generated code does not have correct sorting algorithm, it will not pass metric B.\n",
        "\n",
        "(d) Label for metric B: 0"
      ],
      "metadata": {
        "id": "bbQado56w6gt"
      }
    },
    {
      "cell_type": "markdown",
      "source": [
        "## Sample 18"
      ],
      "metadata": {
        "id": "BmgO0Nbww_Nd"
      }
    },
    {
      "cell_type": "code",
      "source": [
        "Eng2Py(18)"
      ],
      "metadata": {
        "colab": {
          "base_uri": "https://localhost:8080/"
        },
        "outputId": "daac9f55-6a76-4235-8583-fdc952a5c0e5",
        "id": "eeFB-crZw_Ne"
      },
      "execution_count": 29,
      "outputs": [
        {
          "output_type": "stream",
          "name": "stdout",
          "text": [
            "#sample_input: 84 write a python program that uses Radix Sort algorithm to determine if any value appears at least twice in the array. \n",
            "\n",
            "#generated output:\n",
            "import itertools\n",
            "def radixSort(array):\n",
            "    min_num = min(array)\n",
            "    if min_num < 0:\n",
            "        lb = abs(min_num)\n",
            "        array = [item + lb for item in array]\n",
            "    n_digits = len(str(max(array)))\n",
            "    for dgt in range(n_digits):\n",
            "        buckets = [[] for i in range(10)]\n",
            "        for num in array:\n",
            "            idx = (num // (10**dgt)) % 10\n",
            "            buckets[idx].append(num)\n",
            "        array = list(itertools.chain(*buckets))\n",
            "    if min_num < 0:\n",
            "        lb = abs(min_num)\n",
            "        array = [item - lb for item in array]\n",
            "    return array\n",
            "arr = [1,2,3,1]\n",
            "arr = radixSort(arr)\n",
            "for i in range(len(arr)-1):\n",
            "    if arr[i] == arr[i+1]:\n",
            "        print(\"A value appears at least twice in the array\")\n",
            "        break\n",
            "    else:\n",
            "        if (i+1 == len(arr)-1):\n",
            "            print(\"No value appear twice in the array\")\n",
            "\n",
            "\n",
            "\n",
            "\n",
            "\n",
            "\n",
            "\n"
          ]
        }
      ]
    },
    {
      "cell_type": "markdown",
      "source": [
        "(a) Based on metric A, the sample considers a passed sample. The generated code has the correct syntax of the sorting algorithm and can run without error. It also completes the task of the input.\n",
        "\n",
        "(b) Label for metric A: 1\n",
        "\n",
        "(c) Based on metric B, the sample considers a passed sample. Since the generated code has passed metric A with correct sorting algorithm, it will also pass metric B.\n",
        "\n",
        "(d) Label for metric B: 1"
      ],
      "metadata": {
        "id": "eTDnHug4w_Ne"
      }
    },
    {
      "cell_type": "markdown",
      "source": [
        "## Sample 19"
      ],
      "metadata": {
        "id": "DEH_uGb1xkBC"
      }
    },
    {
      "cell_type": "code",
      "source": [
        "Eng2Py(19)"
      ],
      "metadata": {
        "colab": {
          "base_uri": "https://localhost:8080/"
        },
        "outputId": "bb5d9216-9885-4010-90ac-7c0886f70aeb",
        "id": "asTcLva1xkBD"
      },
      "execution_count": 30,
      "outputs": [
        {
          "output_type": "stream",
          "name": "stdout",
          "text": [
            "#sample_input: 93 Write python code to find the element that appears more than ⌊n / 2⌋ times in an array using bucket sort, assume that this element always exists in the array \n",
            "\n",
            "#generated output:\n",
            "def bucketSort(array):\n",
            "    largest = max(array)\n",
            "    size = largest/size\n",
            "    buckets = [[] for i in range(size)]\n",
            "    for i in range(size):\n",
            "        index = int(array[i]/size)\n",
            "        if index!= length:\n",
            "            buckets[index].append(array[i])\n",
            "        else:\n",
            "            buckets[length - 1].append(array[i])\n",
            "    return buckets\n",
            "arr = [2,2,1,1,1,1,2,2,2,2,2]\n",
            "arr = bucketSort(arr)\n",
            "print(arr[len(arr)//2])\n",
            "\n",
            "\n",
            "\n",
            "\n",
            "\n",
            "\n",
            "\n",
            "\n"
          ]
        }
      ]
    },
    {
      "cell_type": "markdown",
      "source": [
        "(a) Based on metric A, the sample considers a failed sample. The generated code only contains part of bucket sort and half of them are missing. Since the wrong algorithm is generated, it will not pass Metric A.\n",
        "\n",
        "(b) Label for metric A: 0\n",
        "\n",
        "(c) Based on metric B, the sample considers a failed sample. Since the generated code does not have correct sorting algorithm, it will not pass metric B.\n",
        "\n",
        "(d) Label for metric B: 0"
      ],
      "metadata": {
        "id": "nqox6aTrxkBD"
      }
    },
    {
      "cell_type": "markdown",
      "source": [
        "## Sample 20"
      ],
      "metadata": {
        "id": "1tUTISjXxn4B"
      }
    },
    {
      "cell_type": "code",
      "source": [
        "Eng2Py(20)"
      ],
      "metadata": {
        "colab": {
          "base_uri": "https://localhost:8080/"
        },
        "outputId": "fc63b2eb-5641-4d17-d6ea-1f2345293075",
        "id": "pknu0F4ixn4B"
      },
      "execution_count": 31,
      "outputs": [
        {
          "output_type": "stream",
          "name": "stdout",
          "text": [
            "#sample_input: 95 write a python program to use bucket sort to identify the third distinct maximum number in a given array \n",
            "\n",
            "#generated output:\n",
            "def bucketSort(array):\n",
            "    largest = max(array)\n",
            "    length = len(array)\n",
            "    size = largest/length\n",
            "    buckets = [[] for i in range(length)]\n",
            "    for i in range(length):\n",
            "        index = int(array[i]/size)\n",
            "        if index!= length:\n",
            "            buckets[index].append(array[i])\n",
            "        else:\n",
            "            buckets[length - 1].append(array[i])\n",
            "    for i in range(len(array)):\n",
            "        buckets[i] = sorted(buckets[i])\n",
            "    result = []\n",
            "    for i in range(length):\n",
            "        result = result + buckets[i]\n",
            "    return result\n",
            "arr = [2,2,3,1]\n",
            "arr = bucketSort(arr)\n",
            "count = 1\n",
            "prev = arr[0]\n",
            "for i in range(len(arr)):\n",
            "    if arr[i]!= prev:\n",
            "        count += 1\n",
            "        prev = arr[i]\n",
            "        if count == 3:\n",
            "            print(arr[i])\n",
            "\n",
            "\n",
            "\n",
            "\n",
            "\n",
            "\n",
            "\n"
          ]
        }
      ]
    },
    {
      "cell_type": "markdown",
      "source": [
        "(a) Based on metric A, the sample considers a passed sample. The generated code has the correct syntax of the sorting algorithm and can run without error. It also completes the task of the input.\n",
        "\n",
        "(b) Label for metric A: 1\n",
        "\n",
        "(c) Based on metric B, the sample considers a passed sample. Since the generated code has passed metric A with correct sorting algorithm, it will also pass metric B.\n",
        "\n",
        "(d) Label for metric B: 1"
      ],
      "metadata": {
        "id": "_M06KLm_xn4C"
      }
    },
    {
      "cell_type": "markdown",
      "source": [
        "## Sample 21"
      ],
      "metadata": {
        "id": "HCaXdNRvxrRh"
      }
    },
    {
      "cell_type": "code",
      "source": [
        "Eng2Py(21)"
      ],
      "metadata": {
        "colab": {
          "base_uri": "https://localhost:8080/"
        },
        "outputId": "d4637241-7fce-4a20-8d7e-53921a03b297",
        "id": "Bvp4DbF3xrRh"
      },
      "execution_count": 32,
      "outputs": [
        {
          "output_type": "stream",
          "name": "stdout",
          "text": [
            "#sample_input: 104 Write a python program that uses the Random Pivot Quick Sort to determine if any value appears in the array at least twice \n",
            "\n",
            "#generated output:\n",
            "import random\n",
            "\n",
            "\n",
            "def partition(A, left_index, right_index):\n",
            "    pivot = A[left_index]\n",
            "    i = left_index + 1\n",
            "    for j in range(left_index + 1, right_index):\n",
            "        if A[j] < pivot:\n",
            "            A[j], A[i] = A[i], A[j]\n",
            "            i += 1\n",
            "    A[left_index], A[i - 1] = A[i - 1], A[left_index]\n",
            "    return i - 1\n",
            "\n",
            "def quick_sort_random(A, left, right):\n",
            "    if left < right:\n",
            "        pivot = random.randint(left, right - 1)\n",
            "        A[pivot], A[left] = (A[left], A[pivot])\n",
            "        pivot_index = partition(A, left, right)\n",
            "        quick_sort_random(A, left, pivot_index)\n",
            "        quick_sort_random(A, pivot_index + 1, right)\n",
            "arr = [1,2,3,1]\n",
            "quick_sort_random(arr, 0, len(arr)-1)\n",
            "for i in range(len(arr)-1):\n",
            "    if arr[i] == arr[i+1]:\n",
            "        print(\"A value appears in the array\")\n",
            "        break\n",
            "    else:\n",
            "        if (i+1 == len(arr)-1):\n",
            "            print(\"No value appear in the array\")\n",
            "\n",
            "\n",
            "\n",
            "\n",
            "\n",
            "\n",
            "\n"
          ]
        }
      ]
    },
    {
      "cell_type": "markdown",
      "source": [
        "(a) Based on metric A, the sample considers a failed sample. The generated code has the correct syntax of the sorting algorithm and can run without error. However, it does not return the expected result when we run the code, which means there is some semantic error with the problem part of the generated code.\n",
        "\n",
        "(b) Label for metric A: 0\n",
        "\n",
        "(c) Based on metric B, the sample considers a passed sample. Since the generated code has passed metric A with correct sorting algorithm, it will also pass metric B.\n",
        "\n",
        "(d) Label for metric B: 1"
      ],
      "metadata": {
        "id": "Ne9OM1YoxrRi"
      }
    },
    {
      "cell_type": "markdown",
      "source": [
        "## Sample 22"
      ],
      "metadata": {
        "id": "EJznhvFtxyQj"
      }
    },
    {
      "cell_type": "code",
      "source": [
        "Eng2Py(22)"
      ],
      "metadata": {
        "colab": {
          "base_uri": "https://localhost:8080/"
        },
        "outputId": "e03268c0-7bec-4aa8-cac1-d7e76fef0f72",
        "id": "UDwFEirZxyQj"
      },
      "execution_count": 33,
      "outputs": [
        {
          "output_type": "stream",
          "name": "stdout",
          "text": [
            "#sample_input: 106 Write a python program that uses the Random Pivot Quick Sort to locate the three values in an array whose product is the highest. \n",
            "\n",
            "#generated output:\n",
            "import random\n",
            "\n",
            "\n",
            "def partition(A, left_index, right_index):\n",
            "    pivot = A[left_index]\n",
            "    i = left_index + 1\n",
            "    for j in range(left_index + 1, right_index):\n",
            "        if A[j] < pivot:\n",
            "            A[j], A[i] = A[i], A[j]\n",
            "            i += 1\n",
            "    A[left_index], A[i - 1] = A[i - 1], A[left_index]\n",
            "    return i - 1\n",
            "\n",
            "def quick_sort_random(A, left, right):\n",
            "    if left < right:\n",
            "        pivot = random.randint(left, right - 1)\n",
            "        A[pivot], A[left] = (A[left], A[pivot])\n",
            "        pivot_index = partition(A, left, right)\n",
            "        quick_sort_random(A, left, pivot_index)\n",
            "        quick_sort_random(A, pivot_index + 1, right)\n",
            "\n",
            "arr = [1,2,3,4]\n",
            "quick_sort_random(arr, 0, len(arr))\n",
            "print(max(arr[-1] * arr[-2] * arr[-3], arr[0] * arr[1] * arr[-1]))\n",
            "\n",
            "\n",
            "\n",
            "\n",
            "\n",
            "\n"
          ]
        }
      ]
    },
    {
      "cell_type": "markdown",
      "source": [
        "(a) Based on metric A, the sample considers a passed sample. The generated code has the correct syntax of the sorting algorithm and can run without error. It also completes the task of the input.\n",
        "\n",
        "(b) Label for metric A: 1\n",
        "\n",
        "(c) Based on metric B, the sample considers a passed sample. Since the generated code has passed metric A with correct sorting algorithm, it will also pass metric B.\n",
        "\n",
        "(d) Label for metric B: 1"
      ],
      "metadata": {
        "id": "uX8D2v4NxyQk"
      }
    },
    {
      "cell_type": "markdown",
      "source": [
        "## Sample 23"
      ],
      "metadata": {
        "id": "F7NzeBzbx1KW"
      }
    },
    {
      "cell_type": "code",
      "source": [
        "Eng2Py(23)"
      ],
      "metadata": {
        "colab": {
          "base_uri": "https://localhost:8080/"
        },
        "outputId": "9483ac75-9515-4de6-f9a8-93d13d213959",
        "id": "hkXrAoe2x1KW"
      },
      "execution_count": 34,
      "outputs": [
        {
          "output_type": "stream",
          "name": "stdout",
          "text": [
            "#sample_input: 115 Write a python program to use recursive bubble sort to identify the third distinct maximum number in an array \n",
            "\n",
            "#generated output:\n",
            "def rec_bubble_sort(list_data: list, length: int = 0) -> list:\n",
            "    length = length or len(list_data)\n",
            "    swap = False\n",
            "    for i in range(length - 1):\n",
            "        if list_data[i] > list_data[i + 1]:\n",
            "            list_data[i], list_data[i + 1] = list_data[i + 1], list_data[i]\n",
            "            swap = True\n",
            "\n",
            "\n",
            "\n",
            "    return list_data if not swap else rec_bubble_sort(list_data, length - 1)\n",
            "\n",
            "arr = [2,2,3,1]\n",
            "arr = rec_bubble_sort(arr)\n",
            "count = 1\n",
            "prev = arr[0]\n",
            "for i in range(len(arr)-1):\n",
            "    if arr[i]!= prev:\n",
            "        count += 1\n",
            "        prev = arr[i]\n",
            "        if count == 3:\n",
            "            print(arr[i])\n",
            "\n",
            "\n",
            "\n",
            "\n",
            "\n",
            "\n",
            "\n"
          ]
        }
      ]
    },
    {
      "cell_type": "markdown",
      "source": [
        "(a) Based on metric A, the sample considers a failed sample. The generated code has the correct syntax of the sorting algorithm and can run without error. However, it does not return the expected result when we run the code, which means there is some semantic error with the problem part of the generated code.\n",
        "\n",
        "(b) Label for metric A: 0\n",
        "\n",
        "(c) Based on metric B, the sample considers a passed sample. Since the generated code has passed metric A with correct sorting algorithm, it will also pass metric B.\n",
        "\n",
        "(d) Label for metric B: 1"
      ],
      "metadata": {
        "id": "nSzIqd6Ex1KW"
      }
    },
    {
      "cell_type": "markdown",
      "source": [
        "## Sample 24"
      ],
      "metadata": {
        "id": "o41VGh6ayCd8"
      }
    },
    {
      "cell_type": "code",
      "source": [
        "Eng2Py(24)"
      ],
      "metadata": {
        "colab": {
          "base_uri": "https://localhost:8080/"
        },
        "outputId": "61b9127f-3ec9-44c7-c498-46e46447ccfb",
        "id": "7KDkt_38yCd9"
      },
      "execution_count": 35,
      "outputs": [
        {
          "output_type": "stream",
          "name": "stdout",
          "text": [
            "#sample_input: 117 write a python program that uses recursive bubble sort to discover the biggest perimeter of a triangle with a non-zero area generated from three of these lengths \n",
            "\n",
            "#generated output:\n",
            "def rec_bubble_sort(list_data: list, length: int = 0) -> list:\n",
            "    length = length or len(list_data)\n",
            "    swap = False\n",
            "    for i in range(length - 1):\n",
            "        if list_data[i] > list_data[i + 1]:\n",
            "            list_data[i], list_data[i + 1] = list_data[i + 1], list_data[i]\n",
            "            swap = True\n",
            "\n",
            "\n",
            "\n",
            "    return list_data if not swap else rec_bubble_sort(list_data, length - 1)\n",
            "\n",
            "arr = [2,1,2]\n",
            "arr = rec_bubble_sort(arr)[::-1]\n",
            "for i in range(len(arr)-2):\n",
            "    if arr[i] + arr[i+1] > arr[i+2]:\n",
            "        print(arr[i] + arr[i+1] + arr[i+2])\n",
            "\n",
            "\n",
            "\n",
            "\n",
            "\n",
            "\n",
            "\n"
          ]
        }
      ]
    },
    {
      "cell_type": "markdown",
      "source": [
        "(a) Based on metric A, the sample considers a passed sample. The generated code has the correct syntax of the sorting algorithm and can run without error. It also completes the task of the input.\n",
        "\n",
        "(b) Label for metric A: 1\n",
        "\n",
        "(c) Based on metric B, the sample considers a passed sample. Since the generated code has passed metric A with correct sorting algorithm, it will also pass metric B.\n",
        "\n",
        "(d) Label for metric B: 1"
      ],
      "metadata": {
        "id": "DrLZFsK3yCd9"
      }
    },
    {
      "cell_type": "markdown",
      "source": [
        "## Sample 25"
      ],
      "metadata": {
        "id": "ycmt6R0-yFp3"
      }
    },
    {
      "cell_type": "code",
      "source": [
        "Eng2Py(25)"
      ],
      "metadata": {
        "colab": {
          "base_uri": "https://localhost:8080/"
        },
        "outputId": "71a27f2e-5054-41c4-abea-a0409740d5ec",
        "id": "pIIgXRYUyFp3"
      },
      "execution_count": 36,
      "outputs": [
        {
          "output_type": "stream",
          "name": "stdout",
          "text": [
            "#sample_input: 126 write a python program using recursive quick sort to find the three numbers in an array whose product is the highest. \n",
            "\n",
            "#generated output:\n",
            "def rec_quick_sort(nums_list: list) -> list:\n",
            "    if len(nums_list) <= 1:\n",
            "        return nums_list\n",
            "    else:\n",
            "        return (rec_quick_sort([el for el in nums_list[1:] if el <= nums_list[0]]) + [nums_list[0]] + rec_quick_sort([el for el in nums_list[1:] if el > nums_list[0]]))\n",
            "\n",
            "arr = [1,2,3,4]\n",
            "arr = rec_quick_sort(arr)\n",
            "print(max(arr[-1] * arr[-2] * arr[-3], arr[0] * arr[1] * arr[-1]))\n",
            "\n",
            "\n",
            "\n",
            "\n",
            "\n",
            "\n",
            "\n",
            "\n"
          ]
        }
      ]
    },
    {
      "cell_type": "markdown",
      "source": [
        "(a) Based on metric A, the sample considers a passed sample. The generated code has the correct syntax of the sorting algorithm and can run without error. It also completes the task of the input.\n",
        "\n",
        "(b) Label for metric A: 1\n",
        "\n",
        "(c) Based on metric B, the sample considers a passed sample. Since the generated code has passed metric A with correct sorting algorithm, it will also pass metric B.\n",
        "\n",
        "(d) Label for metric B: 1"
      ],
      "metadata": {
        "id": "upT4RA-byFp4"
      }
    },
    {
      "cell_type": "markdown",
      "source": [
        "## Sample 26"
      ],
      "metadata": {
        "id": "vrZdYvyTyI1T"
      }
    },
    {
      "cell_type": "code",
      "source": [
        "Eng2Py(26)"
      ],
      "metadata": {
        "colab": {
          "base_uri": "https://localhost:8080/"
        },
        "outputId": "f532f741-7b90-4ecc-9cf7-d9838ddc6353",
        "id": "ijAoezPSyI1T"
      },
      "execution_count": 37,
      "outputs": [
        {
          "output_type": "stream",
          "name": "stdout",
          "text": [
            "#sample_input: 128 write a python program that uses recursive quick sort to print an array of each number's squares sorted in non-decreasing order from a given array. \n",
            "\n",
            "#generated output:\n",
            "def quickSortRecursive(array):\n",
            "    n = len(array)\n",
            "    for i in range(0, n-1):\n",
            "        if array[i] > array[i+1]:\n",
            "            array[i], array[i+1] = array[i+1], array[i]\n",
            "            i+= 1\n",
            "    return array\n",
            "arr = [-2,-1,0,3,4]\n",
            "for i in range(len(arr)):\n",
            "    arr[i], arr[i] = arr[i]\n",
            "print(quickSortRecursive(arr))\n",
            "\n",
            "\n",
            "\n",
            "\n",
            "\n",
            "\n",
            "\n"
          ]
        }
      ]
    },
    {
      "cell_type": "markdown",
      "source": [
        "(a) Based on metric A, the sample considers a failed sample. The generated code does not match the correct recursive quick sort and the problem part has the wrong syntax too. Since both the algorithm and the problem part are not correct, it will not pass Metric A.\n",
        "\n",
        "(b) Label for metric A: 0\n",
        "\n",
        "(c) Based on metric B, the sample considers a failed sample. Since the generated code does not have correct sorting algorithm, it will not pass metric B.\n",
        "\n",
        "(d) Label for metric B: 0"
      ],
      "metadata": {
        "id": "gKQIaJCiyI1U"
      }
    },
    {
      "cell_type": "markdown",
      "source": [
        "## Sample 27"
      ],
      "metadata": {
        "id": "yaNvBFFzyOqV"
      }
    },
    {
      "cell_type": "code",
      "source": [
        "Eng2Py(27)"
      ],
      "metadata": {
        "colab": {
          "base_uri": "https://localhost:8080/"
        },
        "outputId": "b00606b0-05bc-42cf-9477-52fb8917932c",
        "id": "7mCFHz5GyOqW"
      },
      "execution_count": 38,
      "outputs": [
        {
          "output_type": "stream",
          "name": "stdout",
          "text": [
            "#sample_input: 137 write a python program that uses strand sort and three of these lengths to get the biggest perimeter of a triangle with a non-zero area. \n",
            "\n",
            "#generated output:\n",
            "import operator\n",
            "def strand_sort(num_arr: list, reverse: bool = False, solution: list = None) -> list:\n",
            "    if not num_arr:\n",
            "        return solution\n",
            "    strand_sort(num_arr, reverse: bool = False, solution: list = None)\n",
            "    if not reverse:\n",
            "        return solution\n",
            "    sublist = [num_arr.pop(0)]\n",
            "    for i in range(1, len(num_arr)):\n",
            "        if num_arr[i] <= num_arr:\n",
            "            num_arr[i] += 1\n",
            "    return solution\n",
            "\n",
            "\n",
            "arr = [2,1,2]\n",
            "arr = strand_sort(arr)[::-1]\n",
            "for i in range(len(arr)-2):\n",
            "    if arr[i] + arr[i+1] > arr[i+2]:\n",
            "        print(arr[i] + arr[i+1] + arr[i+2])\n",
            "\n",
            "\n",
            "\n",
            "\n",
            "\n",
            "\n",
            "\n"
          ]
        }
      ]
    },
    {
      "cell_type": "markdown",
      "source": [
        "(a) Based on metric A, the sample considers a failed sample. The generated code has wrong syntax and does not match the correct strand sort. Since both the algorithm and the problem part are not correct, it will not pass Metric A.\n",
        "\n",
        "(b) Label for metric A: 0\n",
        "\n",
        "(c) Based on metric B, the sample considers a failed sample. Since the generated code does not have correct sorting algorithm, it will not pass metric B.\n",
        "\n",
        "(d) Label for metric B: 0"
      ],
      "metadata": {
        "id": "VoCeC_x0yOqW"
      }
    },
    {
      "cell_type": "markdown",
      "source": [
        "## Sample 28"
      ],
      "metadata": {
        "id": "ck4_t1bJyT09"
      }
    },
    {
      "cell_type": "code",
      "source": [
        "Eng2Py(28)"
      ],
      "metadata": {
        "colab": {
          "base_uri": "https://localhost:8080/"
        },
        "outputId": "84a93038-151a-4a08-9137-76a8c1c94b82",
        "id": "R0R7y9LWyT0-"
      },
      "execution_count": 39,
      "outputs": [
        {
          "output_type": "stream",
          "name": "stdout",
          "text": [
            "#sample_input: 139 Write a python program that uses strand sort to eliminate the least 5% and largest 5% of the array's members to determine the mean of the remaining integers. \n",
            "\n",
            "#generated output:\n",
            "import operator\n",
            "def strand_sort(num_arr: list, reverse: bool = False, solution: list = None) -> list:\n",
            "    if not num_arr:\n",
            "        return solution\n",
            "    strand_sort(num_arr, reverse: bool = False, solution: list = None)\n",
            "    if not reverse:\n",
            "        return solution\n",
            "    sublist = [num_arr.pop(0)]\n",
            "    for k, item in enumerate(num_arr):\n",
            "        if not sublist:\n",
            "            sublist.append(item)\n",
            "            num_arr.pop(k)\n",
            "\n",
            "\n",
            "    if not solution:\n",
            "        solution.append(item)\n",
            "    else:\n",
            "        return solution\n",
            "\n",
            "arr = [1,3,3,2,2,2,2,2,2,2,2,2,2,2,2,2,2,2,3,3,1]\n",
            "arr = strand_sort(arr)\n",
            "start = int(len(arr)*5/100)\n",
            "arr2 = arr[start:len(arr)-start]\n",
            "print(sum(arr2)/len(arr2))\n",
            "\n",
            "\n",
            "\n",
            "\n",
            "\n",
            "\n",
            "\n"
          ]
        }
      ]
    },
    {
      "cell_type": "markdown",
      "source": [
        "(a) Based on metric A, the sample considers a failed sample. The generated code has wrong syntax and does not match the correct strand sort. Since the algorithm is not correct, it will not pass Metric A.\n",
        "\n",
        "(b) Label for metric A: 0\n",
        "\n",
        "(c) Based on metric B, the sample considers a failed sample. Since the generated code does not have correct sorting algorithm, it will not pass metric B.\n",
        "\n",
        "(d) Label for metric B: 0"
      ],
      "metadata": {
        "id": "g5AZMGeZyT0_"
      }
    },
    {
      "cell_type": "markdown",
      "source": [
        "## Sample 72"
      ],
      "metadata": {
        "id": "1t7_3RValyAf"
      }
    },
    {
      "cell_type": "code",
      "source": [
        "Eng2Py(72)"
      ],
      "metadata": {
        "colab": {
          "base_uri": "https://localhost:8080/"
        },
        "id": "gi0ThvZblyAg",
        "outputId": "9c4931b9-9031-43f0-d097-c6c6024585d4"
      },
      "execution_count": 40,
      "outputs": [
        {
          "output_type": "stream",
          "name": "stdout",
          "text": [
            "#sample_input: write a python program for Strand Sort \n",
            "\n",
            "#generated output:\n",
            "def strandSort(strand):\n",
            "    n = len(strand)\n",
            "    is_Sorted = 0\n",
            "    while is_Sorted == 0:\n",
            "        is_Sorted = 1\n",
            "        temp = 0\n",
            "        for i in range(1, n-1, 2):\n",
            "            if strand[i] > strand[i+1]:\n",
            "                strand[i], strand[i+1] = strand[i+1], strand[i]\n",
            "                is_Sorted = 0\n",
            "                 \n",
            "        for i in range(1, n-1, 2):\n",
            "                if not _is_Sorted == 0:\n",
            "                is_Sorted = 0\n",
            "        break\n",
            "            break\n",
            "    return strandSort(strand(strand(strand))\n",
            "\n",
            "\n",
            "\n",
            "arr = [9,4,3,5,6,1,2,7]\n",
            "print(strandSort(arr))\n",
            "\n",
            "\n",
            "\n",
            "\n",
            "\n",
            "\n"
          ]
        }
      ]
    },
    {
      "cell_type": "markdown",
      "source": [
        "(a) Based on metric A, the sample considers a failed sample. The generated code has wrong syntax and does not match the correct strand sort. Since the algorithm is not correct, it will not pass Metric A.\n",
        "\n",
        "(b) Label for metric A: 0\n",
        "\n",
        "(c) Based on metric B, the sample considers a failed sample. Since the generated code does not have correct sorting algorithm, it will not pass metric B.\n",
        "\n",
        "(d) Label for metric B: 0"
      ],
      "metadata": {
        "id": "Om4E3zmLlyAg"
      }
    },
    {
      "cell_type": "markdown",
      "source": [
        "## Sample 73"
      ],
      "metadata": {
        "id": "vwQNalcTmFDR"
      }
    },
    {
      "cell_type": "code",
      "source": [
        "Eng2Py(73)"
      ],
      "metadata": {
        "colab": {
          "base_uri": "https://localhost:8080/"
        },
        "id": "RCozzDakmFDR",
        "outputId": "cfd95d85-04cf-4caa-8546-b2b9ba29bf37"
      },
      "execution_count": 41,
      "outputs": [
        {
          "output_type": "stream",
          "name": "stdout",
          "text": [
            "#sample_input: write a python function for Pancake Sort \n",
            "\n",
            "#generated output:\n",
            "def pancake_sort(nums_list):\n",
            "    arr_len = len(nums_list)\n",
            "    while arr_len > 1:\n",
            "        mi = nums_list.index(max(nums_list[0:arr_len]))\n",
            "        nums_list = nums_list[mi::-1] + nums_list[mi+1:len(nums_list)]\n",
            "        nums_list = nums_list[arr_len-1::-1] + nums_list[arr_len:len(nums_list)]\n",
            "        arr_len -= 1\n",
            "    return nums_list\n",
            "\n",
            "\n",
            "arr = [9,4,3,5,6,1,2,7]\n",
            "print(pancake_sort(arr))\n",
            "\n",
            "\n",
            "\n",
            "\n",
            "\n",
            "\n",
            "\n",
            "\n"
          ]
        }
      ]
    },
    {
      "cell_type": "markdown",
      "source": [
        "(a) Based on metric A, the sample considers a passed sample. The generated code has the correct syntax of the sorting algorithm and can run without error. It also completes the task of the input.\n",
        "\n",
        "(b) Label for metric A: 1\n",
        "\n",
        "(c) Based on metric B, the sample considers a passed sample. Since the generated code has passed metric A with correct sorting algorithm, it will also pass metric B.\n",
        "\n",
        "(d) Label for metric B: 1"
      ],
      "metadata": {
        "id": "wF1MIPC4mFDS"
      }
    },
    {
      "cell_type": "markdown",
      "source": [
        "## Sample 74"
      ],
      "metadata": {
        "id": "iYiSiYv2mGsW"
      }
    },
    {
      "cell_type": "code",
      "source": [
        "Eng2Py(74)"
      ],
      "metadata": {
        "colab": {
          "base_uri": "https://localhost:8080/"
        },
        "id": "kTuapXWRmGsX",
        "outputId": "b942e398-9381-47e5-9877-cc618b7eccff"
      },
      "execution_count": 42,
      "outputs": [
        {
          "output_type": "stream",
          "name": "stdout",
          "text": [
            "#sample_input: write a python program for Iterative Quick Sort \n",
            "\n",
            "#generated output:\n",
            "def partition(arr,low,high):\n",
            "    if low < 0:\n",
            "        lb = abs(low)\n",
            "        i = abs(i)\n",
            "        grtr_lst,high = partition(arr,low,high):\n",
            "        if low < 0:\n",
            "            lb = abs(high)\n",
            "            arr_lst.append(low)\n",
            "            i += 1\n",
            "        else:\n",
            "            arr_lst.append(high)\n",
            "            high = abs(high)\n",
            "        low = low\n",
            "        low = abs(high)\n",
            "        low = abs(high)\n",
            "        if low < 0:\n",
            "            lb = abs(low)\n",
            "            low = abs(high)\n",
            "        high = abs(high)\n",
            "        if low < 0:\n",
            "            lb = abs(high)\n",
            "            low = abs(high)\n",
            "            low = abs(low)\n",
            "            low = abs(high)\n",
            "            low = abs(high)\n",
            "            high = abs(high)\n",
            "            arr_lst.append(l)\n",
            "    return arr\n",
            "\n",
            "arr = [9,4,3,5,6,1,2,7]\n",
            "quickSortIterative(arr, low, high)\n",
            "print(arr)\n",
            "\n",
            "\n",
            "\n",
            "\n",
            "\n"
          ]
        }
      ]
    },
    {
      "cell_type": "markdown",
      "source": [
        "(a) Based on metric A, the sample considers a failed sample. The generated code has wrong syntax and misses the main function of iterative quick sort. Since the algorithm is not correct, it will not pass Metric A.\n",
        "\n",
        "(b) Label for metric A: 0\n",
        "\n",
        "(c) Based on metric B, the sample considers a failed sample. Since the generated code does not have correct sorting algorithm, it will not pass metric B.\n",
        "\n",
        "(d) Label for metric B: 0"
      ],
      "metadata": {
        "id": "6gVaZST1mGsX"
      }
    },
    {
      "cell_type": "markdown",
      "source": [
        "## Sample 75"
      ],
      "metadata": {
        "id": "MeDHcTKDmJ4s"
      }
    },
    {
      "cell_type": "code",
      "source": [
        "Eng2Py(75)"
      ],
      "metadata": {
        "colab": {
          "base_uri": "https://localhost:8080/"
        },
        "id": "MDficq6imJ4t",
        "outputId": "4267c43c-6288-4572-8406-698b7d08b3fa"
      },
      "execution_count": 43,
      "outputs": [
        {
          "output_type": "stream",
          "name": "stdout",
          "text": [
            "#sample_input: write a python function for Binary Insertion Sort \n",
            "\n",
            "#generated output:\n",
            "def binary_search(arr, val, start, end):\n",
            "    if start == end:\n",
            "        return start\n",
            " \n",
            "    mid = int((start+end)/2)\n",
            "    if arr[mid] < val:\n",
            "        return binary_search(arr, val, mid+1, end)\n",
            "    else:\n",
            "        return start+1\n",
            "    if start > end:\n",
            "        return start\n",
            " \n",
            "    mid = int((start+end)/2)\n",
            "    if arr[mid] > val:\n",
            "        return binary_search(arr, val, start, mid-1)\n",
            "    else:\n",
            "        return mid\n",
            " \n",
            "def bin_insertion_sort(arr):\n",
            "    if arr[mid] < val:\n",
            "        return arr\n",
            "\n",
            "\n",
            "arr = [6,5,4,8]\n",
            "arr2 = bin_insertion_sort(arr.copy())\n",
            "print([arr2.index(i) for i in arr])\n",
            "\n",
            "\n",
            "\n",
            "\n",
            "\n",
            "\n",
            "\n"
          ]
        }
      ]
    },
    {
      "cell_type": "markdown",
      "source": [
        "(a) Based on metric A, the sample considers a failed sample. The generated code has wrong syntax and does not match the correct binary insertion sort. Since the algorithm is not correct, it will not pass Metric A.\n",
        "\n",
        "(b) Label for metric A: 0\n",
        "\n",
        "(c) Based on metric B, the sample considers a failed sample. Since the generated code does not have correct sorting algorithm, it will not pass metric B.\n",
        "\n",
        "(d) Label for metric B: 0"
      ],
      "metadata": {
        "id": "MOfTTpwmmJ4t"
      }
    },
    {
      "cell_type": "markdown",
      "source": [
        "## Sample 76"
      ],
      "metadata": {
        "id": "RvlcIoWKmLzY"
      }
    },
    {
      "cell_type": "code",
      "source": [
        "Eng2Py(76)"
      ],
      "metadata": {
        "colab": {
          "base_uri": "https://localhost:8080/"
        },
        "id": "nB0LcA_7mLzY",
        "outputId": "9cbedfc4-e4cd-47ca-bee3-dff2bca5f20d"
      },
      "execution_count": 44,
      "outputs": [
        {
          "output_type": "stream",
          "name": "stdout",
          "text": [
            "#sample_input: write a python program for Iterative Merge Sort \n",
            "\n",
            "#generated output:\n",
            "def merge(left, right):\n",
            "    if not len(left) or not len(right):\n",
            "        return left or right\n",
            " \n",
            "    result = []\n",
            "    i, j = 0, 0\n",
            "    while (len(result) < len(left) + len(right)):\n",
            "        if left[i] < right[j]:\n",
            "            result.append(left[i])\n",
            "            i+= 1\n",
            "        else:\n",
            "            result.append(right[j])\n",
            "            j+= 1\n",
            "        if i == len(left) or j == len(right):\n",
            "            result.extend(left[i:] or right[j:])\n",
            "            break\n",
            " \n",
            "    return result\n",
            " \n",
            "def iter_merge_sort(list):\n",
            "    if len(list) < 2:\n",
            "        return list\n",
            " \n",
            "    middle = int(len(list)/2)\n",
            "    left = iter_merge_sort(list[:middle])\n",
            "    right = iter_merge_sort(list[middle:])\n",
            " \n",
            "    return merge(left, right)\n",
            "\n",
            "arr = [9,4,3,5,6,1,2,7]\n",
            "print(iter_merge_sort(arr))\n",
            "\n",
            "\n",
            "\n",
            "\n",
            "\n",
            "\n"
          ]
        }
      ]
    },
    {
      "cell_type": "markdown",
      "source": [
        "(a) Based on metric A, the sample considers a passed sample. The generated code has the correct syntax of the sorting algorithm and can run without error. It also completes the task of the input.\n",
        "\n",
        "(b) Label for metric A: 1\n",
        "\n",
        "(c) Based on metric B, the sample considers a passed sample. Since the generated code has passed metric A with correct sorting algorithm, it will also pass metric B.\n",
        "\n",
        "(d) Label for metric B: 1"
      ],
      "metadata": {
        "id": "xt-i2f4dmLzY"
      }
    },
    {
      "cell_type": "markdown",
      "source": [
        "## Sample 77"
      ],
      "metadata": {
        "id": "7xXjeqZDmNXx"
      }
    },
    {
      "cell_type": "code",
      "source": [
        "Eng2Py(77)"
      ],
      "metadata": {
        "colab": {
          "base_uri": "https://localhost:8080/"
        },
        "id": "dtqsZ1HHmNXx",
        "outputId": "22a90ee0-1cf8-45fc-e905-04ca96e834b5"
      },
      "execution_count": 45,
      "outputs": [
        {
          "output_type": "stream",
          "name": "stdout",
          "text": [
            "#sample_input: write a python program for Comb Sort \n",
            "\n",
            "#generated output:\n",
            "def getNextGap(gap):\n",
            "    gap = (gap * 10)//13\n",
            "    if gap < 1:\n",
            "        return 1\n",
            "    return gap\n",
            "  \n",
            "def combSort(arr):\n",
            "    n = len(arr)\n",
            "    gap = n\n",
            "    swapped = True\n",
            "    while gap!=1 or swapped == 1:\n",
            "        gap = getNextGap(gap)\n",
            "        swapped = False\n",
            "        for i in range(0, n-gap):\n",
            "            if arr[i] > arr[i + gap]:\n",
            "                arr[i], arr[i + gap]=arr[i + gap], arr[i]\n",
            "                swapped = True\n",
            "    return arr\n",
            "\n",
            "\n",
            "arr = [9,4,3,5,6,1,2,7]\n",
            "print(combSort(arr))\n",
            "\n",
            "\n",
            "\n",
            "\n",
            "\n",
            "\n",
            "\n"
          ]
        }
      ]
    },
    {
      "cell_type": "markdown",
      "source": [
        "(a) Based on metric A, the sample considers a passed sample. The generated code has the correct syntax of the sorting algorithm and can run without error. It also completes the task of the input.\n",
        "\n",
        "(b) Label for metric A: 1\n",
        "\n",
        "(c) Based on metric B, the sample considers a passed sample. Since the generated code has passed metric A with correct sorting algorithm, it will also pass metric B.\n",
        "\n",
        "(d) Label for metric B: 1"
      ],
      "metadata": {
        "id": "yIQeRQlFmNXy"
      }
    },
    {
      "cell_type": "markdown",
      "source": [
        "## Sample 78"
      ],
      "metadata": {
        "id": "-DtF4683mPfI"
      }
    },
    {
      "cell_type": "code",
      "source": [
        "Eng2Py(78)"
      ],
      "metadata": {
        "colab": {
          "base_uri": "https://localhost:8080/"
        },
        "id": "aqGqIOOXmPfI",
        "outputId": "7a09f12f-d32f-4a13-d220-5b797113de39"
      },
      "execution_count": 46,
      "outputs": [
        {
          "output_type": "stream",
          "name": "stdout",
          "text": [
            "#sample_input: write a python program for Pigeonhole Sort \n",
            "\n",
            "#generated output:\n",
            "def pigeonhole_sort(a):\n",
            "    my_min = min(a)\n",
            "    my_max = max(a)\n",
            "    size = my_max - my_min + 1\n",
            "  \n",
            "    holes = [0] * size\n",
            "  \n",
            "    for x in a:\n",
            "        assert type(x) is int, \"integers only please\"\n",
            "        holes[x - my_min] += 1\n",
            "  \n",
            "    i = 0\n",
            "    for count in range(size):\n",
            "        while holes[count] > 0:\n",
            "            holes[count] -= 1\n",
            "            a[i] = count + my_min\n",
            "            i += 1\n",
            "    return a\n",
            "\n",
            "\n",
            "arr = [6,5,4,8]\n",
            "arr2 = pigeonhole_sort(arr.copy())\n",
            "print([arr2.index(i) for i in arr])\n",
            "\n",
            "\n",
            "\n",
            "\n",
            "\n",
            "\n",
            "\n",
            "\n",
            "\n"
          ]
        }
      ]
    },
    {
      "cell_type": "markdown",
      "source": [
        "(a) Based on metric A, the sample considers a failed sample. The generated code has the correct syntax of the sorting algorithm and can run without error. However, the code contains problem part which is not proposed in the input. Since the code generates more than we want, it will not pass Metric A.\n",
        "\n",
        "(b) Label for metric A: 0\n",
        "\n",
        "(c) Based on metric B, the sample considers a passed sample. Since the generated code has correct sorting algorithm, it will pass metric B.\n",
        "\n",
        "(d) Label for metric B: 1"
      ],
      "metadata": {
        "id": "UPfox01imPfI"
      }
    },
    {
      "cell_type": "markdown",
      "source": [
        "## Sample 79"
      ],
      "metadata": {
        "id": "w7wGhAVimQ6g"
      }
    },
    {
      "cell_type": "code",
      "source": [
        "Eng2Py(79)"
      ],
      "metadata": {
        "colab": {
          "base_uri": "https://localhost:8080/"
        },
        "id": "X2MY0bNLmQ6h",
        "outputId": "d8fdb9d0-85a0-4d5a-e325-a6935cfb69b1"
      },
      "execution_count": 47,
      "outputs": [
        {
          "output_type": "stream",
          "name": "stdout",
          "text": [
            "#sample_input: write a python program for Cocktail Sort \n",
            "\n",
            "#generated output:\n",
            "def cocktailSort(a):\n",
            "    n = len(a)\n",
            "    swapped = True\n",
            "    start = 0\n",
            "    end = n-1\n",
            "    while (swapped == True):\n",
            "        swapped = False\n",
            "        for i in range(start, end):\n",
            "            if (a[i] > a[i + 1]):\n",
            "                a[i], a[i + 1] = a[i + 1], a[i]\n",
            "                swapped = True\n",
            " \n",
            "        if (swapped == False):\n",
            "            break\n",
            " \n",
            "        swapped = False\n",
            "        end = end-1\n",
            "\n",
            "\n",
            "        for i in range(end-1, start-1, -1):\n",
            "            if (a[i] > a[i + 1]):\n",
            "                a[i], a[i + 1] = a[i + 1], a[i]\n",
            "                swapped = True\n",
            "\n",
            "\n",
            "        start = start + 1\n",
            "\n",
            "\n",
            "arr = [9,4,3,5,6,1,2,7]\n",
            "cocktailSort(arr)\n",
            "print(arr[::-1])\n",
            "\n",
            "\n",
            "\n",
            "\n",
            "\n",
            "\n",
            "\n"
          ]
        }
      ]
    },
    {
      "cell_type": "markdown",
      "source": [
        "(a) Based on metric A, the sample considers a failed sample. The generated code has the correct syntax of the sorting algorithm and can run without error. However, the code contains problem part which is not proposed in the input. Since the code generates more than we want, it will not pass Metric A.\n",
        "\n",
        "(b) Label for metric A: 0\n",
        "\n",
        "(c) Based on metric B, the sample considers a passed sample. Since the generated code has correct sorting algorithm, it will pass metric B.\n",
        "\n",
        "(d) Label for metric B: 1"
      ],
      "metadata": {
        "id": "mdx0smxxmQ6h"
      }
    },
    {
      "cell_type": "markdown",
      "source": [
        "## Sample 80"
      ],
      "metadata": {
        "id": "q4w5pA3imSd6"
      }
    },
    {
      "cell_type": "code",
      "source": [
        "Eng2Py(80)"
      ],
      "metadata": {
        "colab": {
          "base_uri": "https://localhost:8080/"
        },
        "id": "43Yi4Wq5mSd6",
        "outputId": "46efe6e0-c696-4244-82cf-752e39ef77d6"
      },
      "execution_count": 48,
      "outputs": [
        {
          "output_type": "stream",
          "name": "stdout",
          "text": [
            "#sample_input: write a python program for Gnome Sort \n",
            "\n",
            "#generated output:\n",
            "def gnomeSort(arr):\n",
            "    n = len(arr)\n",
            "    index = 0\n",
            "    while index < n:\n",
            "        if index == 0:\n",
            "            index = index + 1\n",
            "        if arr[index] >= arr[index - 1]:\n",
            "            index = index + 1\n",
            "        else:\n",
            "            arr[index], arr[index-1] = arr[index-1], arr[index]\n",
            "            index = index - 1\n",
            " \n",
            "    return arr\n",
            "\n",
            "\n",
            "arr = [9,4,3,5,6,1,2,7]\n",
            "print(gnomeSort(arr))\n",
            "\n",
            "\n",
            "\n",
            "\n",
            "\n",
            "\n",
            "\n"
          ]
        }
      ]
    },
    {
      "cell_type": "markdown",
      "source": [
        "(a) Based on metric A, the sample considers a passed sample. The generated code has the correct syntax of the sorting algorithm and can run without error. It also completes the task of the input.\n",
        "\n",
        "(b) Label for metric A: 1\n",
        "\n",
        "(c) Based on metric B, the sample considers a passed sample. Since the generated code has passed metric A with correct sorting algorithm, it will also pass metric B.\n",
        "\n",
        "(d) Label for metric B: 1"
      ],
      "metadata": {
        "id": "2T4WnYiumSd6"
      }
    },
    {
      "cell_type": "markdown",
      "source": [
        "## Sample 81"
      ],
      "metadata": {
        "id": "KG1PRJn_mUbj"
      }
    },
    {
      "cell_type": "code",
      "source": [
        "Eng2Py(81)"
      ],
      "metadata": {
        "colab": {
          "base_uri": "https://localhost:8080/"
        },
        "id": "EI_9094SmUbk",
        "outputId": "1e3d1b0f-956f-4407-a32c-f6afa8188cf6"
      },
      "execution_count": 49,
      "outputs": [
        {
          "output_type": "stream",
          "name": "stdout",
          "text": [
            "#sample_input: write a python program for Brick Sort \n",
            "\n",
            "#generated output:\n",
            "def BrickSort(l):\n",
            "    n = len(l)\n",
            "    is_Sorted = 0\n",
            "    while is_Sorted == 0:\n",
            "        is_Sorted = 1\n",
            "        temp = 0\n",
            "        for i in range(1, n-1, 2):\n",
            "            if l[i] > l[i+1]:\n",
            "                l[i], l[i+1] = l[i+1], l[i]\n",
            "                is_Sorted = 0\n",
            "                 \n",
            "        for i in range(0, n-1, 2):\n",
            "            if l[i] > l[i+1]:\n",
            "                l[i], l[i+1] = l[i+1], l[i]\n",
            "                is_Sorted = 0\n",
            "     \n",
            "    return l\n",
            "\n",
            "\n",
            "arr = [9,4,3,5,6,1,2,7]\n",
            "print(BrickSort(arr))\n",
            "\n",
            "\n",
            "\n",
            "\n",
            "\n",
            "\n",
            "\n"
          ]
        }
      ]
    },
    {
      "cell_type": "markdown",
      "source": [
        "(a) Based on metric A, the sample considers a passed sample. The generated code has the correct syntax of the sorting algorithm and can run without error. It also completes the task of the input.\n",
        "\n",
        "(b) Label for metric A: 1\n",
        "\n",
        "(c) Based on metric B, the sample considers a passed sample. Since the generated code has passed metric A with correct sorting algorithm, it will also pass metric B.\n",
        "\n",
        "(d) Label for metric B: 1"
      ],
      "metadata": {
        "id": "13W3OHmImUbk"
      }
    },
    {
      "cell_type": "markdown",
      "source": [
        "## Sample 82"
      ],
      "metadata": {
        "id": "fKshogDZmW39"
      }
    },
    {
      "cell_type": "code",
      "source": [
        "Eng2Py(82)"
      ],
      "metadata": {
        "colab": {
          "base_uri": "https://localhost:8080/"
        },
        "id": "ZFdvrCJTmW3-",
        "outputId": "9b56ca10-3a85-4686-83bf-b65319bd4ae6"
      },
      "execution_count": 50,
      "outputs": [
        {
          "output_type": "stream",
          "name": "stdout",
          "text": [
            "#sample_input: write a python program for Odd-Even Sort \n",
            "\n",
            "#generated output:\n",
            "def oddEvenSort(arr):\n",
            "    n = len(arr)\n",
            "    isSorted = 0\n",
            "    while isSorted == 0:\n",
            "        isSorted = 1\n",
            "        temp = 0\n",
            "        for i in range(1, n-1, 2):\n",
            "            if arr[i] > arr[i+1]:\n",
            "                arr[i], arr[i+1] = arr[i+1], arr[i]\n",
            "                isSorted = 0\n",
            "                 \n",
            "        for i in range(0, n-1, 2):\n",
            "            if arr[i] > arr[i+1]:\n",
            "                arr[i], arr[i+1] = arr[i+1], arr[i]\n",
            "                isSorted = 0\n",
            "     \n",
            "    return arr\n",
            "\n",
            "\n",
            "arr = [9,4,3,5,6,1,2,7]\n",
            "print(oddEvenSort(arr))\n",
            "\n",
            "\n",
            "\n",
            "\n",
            "\n",
            "\n"
          ]
        }
      ]
    },
    {
      "cell_type": "markdown",
      "source": [
        "(a) Based on metric A, the sample considers a passed sample. The generated code has the correct syntax of the sorting algorithm and can run without error. It also completes the task of the input.\n",
        "\n",
        "(b) Label for metric A: 1\n",
        "\n",
        "(c) Based on metric B, the sample considers a passed sample. Since the generated code has passed metric A with correct sorting algorithm, it will also pass metric B.\n",
        "\n",
        "(d) Label for metric B: 1"
      ],
      "metadata": {
        "id": "_frbclwRmW3-"
      }
    },
    {
      "cell_type": "markdown",
      "source": [
        "## Sample 83"
      ],
      "metadata": {
        "id": "Up5jADaxmYjb"
      }
    },
    {
      "cell_type": "code",
      "source": [
        "Eng2Py(83)"
      ],
      "metadata": {
        "colab": {
          "base_uri": "https://localhost:8080/"
        },
        "id": "QVDz6CNrmYjb",
        "outputId": "9b59da12-66ee-45ae-9d44-99e15b8e998e"
      },
      "execution_count": 51,
      "outputs": [
        {
          "output_type": "stream",
          "name": "stdout",
          "text": [
            "#sample_input: write a python program for Permutation Sort \n",
            "\n",
            "#generated output:\n",
            "import random\n",
            "\n",
            "def is_sorted(l):\n",
            "    n = len(l)\n",
            "    for i in range(0, n-1):\n",
            "        if (l[i] > l[i+1] ):\n",
            "            return False\n",
            "    return True\n",
            " \n",
            "def shuffle(l):\n",
            "    n = len(l)\n",
            "    for i in range (0,n):\n",
            "        r = random.randint(0,n-1)\n",
            "        l[i], l[r] = l[r], l[i]\n",
            " \n",
            "def PermutationSort(l):\n",
            "    n = len(l)\n",
            "    while (is_sorted(l)== False):\n",
            "        shuffle(l)\n",
            "    return l\n",
            "\n",
            "arr = [6,5,4,8]\n",
            "arr2 = PermutationSort(arr.copy())\n",
            "print([arr2.index(i) for i in arr])\n",
            "\n",
            "\n",
            "\n",
            "\n",
            "\n",
            "\n"
          ]
        }
      ]
    },
    {
      "cell_type": "markdown",
      "source": [
        "(a) Based on metric A, the sample considers a failed sample. The generated code has the correct syntax of the sorting algorithm and can run without error. However, the code contains problem part which is not proposed in the input. Since the code generates more than we want, it will not pass Metric A.\n",
        "\n",
        "(b) Label for metric A: 0\n",
        "\n",
        "(c) Based on metric B, the sample considers a passed sample. Since the generated code has correct sorting algorithm, it will pass metric B.\n",
        "\n",
        "(d) Label for metric B: 1"
      ],
      "metadata": {
        "id": "eMKUu9SdmYjb"
      }
    },
    {
      "cell_type": "markdown",
      "source": [
        "## Sample 84"
      ],
      "metadata": {
        "id": "LB3mdjA_maxk"
      }
    },
    {
      "cell_type": "code",
      "source": [
        "Eng2Py(84)"
      ],
      "metadata": {
        "colab": {
          "base_uri": "https://localhost:8080/"
        },
        "id": "QN2VWaVNmaxl",
        "outputId": "8acbd733-333c-4d5f-9b18-e9005cfaa135"
      },
      "execution_count": 52,
      "outputs": [
        {
          "output_type": "stream",
          "name": "stdout",
          "text": [
            "#sample_input: write a python program for Bogo Sort \n",
            "\n",
            "#generated output:\n",
            "import random\n",
            "\n",
            "def is_sorted(l):\n",
            "    n = len(l)\n",
            "    for i in range(0, n-1):\n",
            "        if (l[i] > l[i+1] ):\n",
            "            return False\n",
            "    return True\n",
            " \n",
            "def shuffle(l):\n",
            "    n = len(l)\n",
            "    for i in range (0,n):\n",
            "        r = random.randint(0,n-1)\n",
            "        l[i], l[r] = l[r], l[i]\n",
            " \n",
            "def BogoSort(l):\n",
            "    n = len(l)\n",
            "    while (is_sorted(l)== False):\n",
            "        shuffle(l)\n",
            "    return l\n",
            "\n",
            "arr = [9,4,3,5,6,1,2,7]\n",
            "print(BogoSort(arr))\n",
            "\n",
            "\n",
            "\n",
            "\n",
            "\n"
          ]
        }
      ]
    },
    {
      "cell_type": "markdown",
      "source": [
        "(a) Based on metric A, the sample considers a passed sample. The generated code has the correct syntax of the sorting algorithm and can run without error. It also completes the task of the input.\n",
        "\n",
        "(b) Label for metric A: 1\n",
        "\n",
        "(c) Based on metric B, the sample considers a passed sample. Since the generated code has passed metric A with correct sorting algorithm, it will also pass metric B.\n",
        "\n",
        "(d) Label for metric B: 1"
      ],
      "metadata": {
        "id": "pJ3UQrIkmaxl"
      }
    },
    {
      "cell_type": "markdown",
      "source": [
        "## Sample 85"
      ],
      "metadata": {
        "id": "xq_ug6Rfmc1-"
      }
    },
    {
      "cell_type": "code",
      "source": [
        "Eng2Py(85)"
      ],
      "metadata": {
        "colab": {
          "base_uri": "https://localhost:8080/"
        },
        "id": "Q9ddZVTumc1_",
        "outputId": "c3ae19c3-d14c-40ff-b51a-ba23eda2c99e"
      },
      "execution_count": 53,
      "outputs": [
        {
          "output_type": "stream",
          "name": "stdout",
          "text": [
            "#sample_input: write a python program for Cycle Sort \n",
            "\n",
            "#generated output:\n",
            "def cycleSort(array):\n",
            "    for cycleStart in range(0, len(array) - 1):\n",
            "        if array[cycleStart] < array[cycleStart]:\n",
            "            array[cycleStart] = array[cycleStart], array[cycleStart]\n",
            "    return array\n",
            "arr = [9,4,3,5,6,1,2,7]\n",
            "print(cycleSort(arr))\n",
            "\n",
            "\n",
            "\n",
            "\n",
            "\n",
            "\n"
          ]
        }
      ]
    },
    {
      "cell_type": "markdown",
      "source": [
        "(a) Based on metric A, the sample considers a failed sample. The generated code has wrong syntax and does not match the correct cycle sort. Since the algorithm is not correct, it will not pass Metric A.\n",
        "\n",
        "(b) Label for metric A: 0\n",
        "\n",
        "(c) Based on metric B, the sample considers a failed sample. Since the generated code does not have correct sorting algorithm, it will not pass metric B.\n",
        "\n",
        "(d) Label for metric B: 0"
      ],
      "metadata": {
        "id": "e0jre0Aymc1_"
      }
    },
    {
      "cell_type": "markdown",
      "source": [
        "## Sample 86"
      ],
      "metadata": {
        "id": "VYAjYuMYmiad"
      }
    },
    {
      "cell_type": "code",
      "source": [
        "Eng2Py(86)"
      ],
      "metadata": {
        "colab": {
          "base_uri": "https://localhost:8080/"
        },
        "id": "485SN3vUmiad",
        "outputId": "739ff908-ee60-47f4-c5b0-0049c7a3f23a"
      },
      "execution_count": 13,
      "outputs": [
        {
          "output_type": "stream",
          "name": "stdout",
          "text": [
            "#sample_input: write a python program for Recursive Insertion Sort \n",
            "\n",
            "#generated output:\n",
            "def insertionSortRecursive(A, n):\n",
            "    if n <= 1:\n",
            "        return\n",
            " \n",
            "    insertionSortRecursive(A, n - 1)\n",
            " \n",
            "    last = A[n - 1]\n",
            "    j = n - 2\n",
            " \n",
            "    while (j >= 0 and A[j] > last):\n",
            "        A[j + 1] = A[j]\n",
            "        j = j - 1\n",
            "    A[j + 1] = last\n",
            "\n",
            "arr = [9,4,3,5,6,1,2,7]\n",
            "insertionSortRecursive(arr, len(arr))\n",
            "print(arr)\n",
            "\n",
            "\n",
            "\n",
            "\n",
            "\n"
          ]
        }
      ]
    },
    {
      "cell_type": "markdown",
      "source": [
        "(a) Based on metric A, the sample considers a passed sample. The generated code has the correct syntax of the sorting algorithm and can run without error. It also completes the task of the input.\n",
        "\n",
        "(b) Label for metric A: 1\n",
        "\n",
        "(c) Based on metric B, the sample considers a passed sample. Since the generated code has passed metric A with correct sorting algorithm, it will also pass metric B.\n",
        "\n",
        "(d) Label for metric B: 1"
      ],
      "metadata": {
        "id": "sUI66C5vmiae"
      }
    },
    {
      "cell_type": "markdown",
      "source": [
        "## Sample 87"
      ],
      "metadata": {
        "id": "8yqk7fxKMCrN"
      }
    },
    {
      "cell_type": "code",
      "source": [
        "Eng2Py(87)"
      ],
      "metadata": {
        "colab": {
          "base_uri": "https://localhost:8080/"
        },
        "id": "Xbf-Ni7cMCrO",
        "outputId": "782666be-15ee-4904-fa83-8ee13f2296d5"
      },
      "execution_count": 55,
      "outputs": [
        {
          "output_type": "stream",
          "name": "stdout",
          "text": [
            "#sample_input: write a python program for Stooge Sort \n",
            "\n",
            "#generated output:\n",
            "def stoogesort(array, l, h):\n",
            " if l >= h:\n",
            "  return\n",
            "\n",
            " if array[l]>array[h]:\n",
            "  t = array[l]\n",
            "  array[l] = array[h]\n",
            "  array[h] = t\n",
            " \n",
            " if h-l+1 > 2:\n",
            "  t = (int)((h-l+1)/3)\n",
            " \n",
            "  stoogesort(array, l, (h-t))\n",
            " \n",
            "  stoogesort(array, l+t, (h))\n",
            " \n",
            "  stoogesort(array, l, (h-t))\n",
            " \n",
            "  stoogesort(array, l, (h-t))\n",
            " \n",
            "  stoogesort(array, l, (h-t))\n",
            " \n",
            "  stoogesort(array, l, (h-t))\n",
            " \n",
            "  stoogesort(array, l, (h-t))\n",
            " \n",
            "  stoogesort(array, l, (h-t))\n",
            " \n",
            "  stoogesort(array, l, (h-t))\n",
            " \n",
            "  stoogesort(array, l, (h-t))\n",
            " \n",
            "  stoogesort(array, l, (h-t))\n",
            " \n",
            "  stoogesort(array, l, (h-t))\n",
            " \n",
            "  stoogesort(array, l, (h-t))\n",
            " \n",
            "  stoogesort(array, l, (h-t))\n",
            " \n",
            "  stoogesort(array, l, (h-t))\n",
            "\n",
            "\n",
            "\n",
            "\n"
          ]
        }
      ]
    },
    {
      "cell_type": "markdown",
      "source": [
        "(a) Based on metric A, the sample considers a failed sample. The generated code has wrong syntax and does not match the correct stoogge sort. Since the algorithm is not correct, it will not pass Metric A.\n",
        "\n",
        "(b) Label for metric A: 0\n",
        "\n",
        "(c) Based on metric B, the sample considers a failed sample. Since the generated code does not have correct sorting algorithm, it will not pass metric B.\n",
        "\n",
        "(d) Label for metric B: 0"
      ],
      "metadata": {
        "id": "RRRpH6wkMCrO"
      }
    },
    {
      "cell_type": "markdown",
      "source": [
        "## Sample 88"
      ],
      "metadata": {
        "id": "o2PQe84bMTxO"
      }
    },
    {
      "cell_type": "code",
      "source": [
        "Eng2Py(88)"
      ],
      "metadata": {
        "colab": {
          "base_uri": "https://localhost:8080/"
        },
        "id": "Dk2cTxVpMTxO",
        "outputId": "80196f0c-32a6-48f8-e55a-01e1ff9403d9"
      },
      "execution_count": 56,
      "outputs": [
        {
          "output_type": "stream",
          "name": "stdout",
          "text": [
            "#sample_input: 87 Code for finding the second distinct largest number in an array using Heap Sort \n",
            "\n",
            "#generated output:\n",
            "def heapify(array, n, i):\n",
            "    smallest = i\n",
            "    l = 2 * i + 1\n",
            "    r = 2 * i + 2\n",
            "    if l < n and array[i] < array[l]:\n",
            "        smallest = l\n",
            "    if smallest!= i:\n",
            "        array[i], array[smallest] = array[smallest], array[i]\n",
            "        heapify(array, n, smallest)\n",
            "    return array\n",
            "arr = [2,2,3,1]\n",
            "arr = heapSort(arr)\n",
            "count = 1\n",
            "prev = arr[0]\n",
            "for i in range(len(arr)-1):\n",
            "    if arr[i] < arr[i+1]:\n",
            "        count += 1\n",
            "        array[i], arr[i+1] = arr[i+1], arr[i]\n",
            "        heapify(array, n, smallest)\n",
            "    return arr\n",
            "\n",
            "arr = [2,2,3,1]\n",
            "arr = heapSort(arr)\n",
            "count = 1\n",
            "prev = arr[0]\n",
            "for i in range(len(arr)-1):\n",
            "    if arr[i]!= prev:\n",
            "        count += 1\n",
            "        prev = arr[i]\n",
            "        if count == 3:\n",
            "            print(arr[i])\n",
            "\n",
            "\n",
            "\n",
            "\n",
            "\n",
            "\n",
            "\n",
            "\n"
          ]
        }
      ]
    },
    {
      "cell_type": "markdown",
      "source": [
        "(a) Based on metric A, the sample considers a failed sample. The generated code has wrong syntax and does not match the correct heap sort. Also the problem part is finding the third distinct largest number in an array which is not the input asked. Since both the algorithm and the problem part are not correct, it will not pass Metric A.\n",
        "\n",
        "(b) Label for metric A: 0\n",
        "\n",
        "(c) Based on metric B, the sample considers a failed sample. Since the generated code does not have correct sorting algorithm, it will not pass metric B.\n",
        "\n",
        "(d) Label for metric B: 0"
      ],
      "metadata": {
        "id": "CXfYpTdeMTxO"
      }
    },
    {
      "cell_type": "markdown",
      "source": [
        "## Sample 89"
      ],
      "metadata": {
        "id": "ubq0Udq2hHF1"
      }
    },
    {
      "cell_type": "code",
      "source": [
        "Eng2Py(89)"
      ],
      "metadata": {
        "colab": {
          "base_uri": "https://localhost:8080/"
        },
        "outputId": "214fe526-68ec-4723-9574-300a4efd211c",
        "id": "E3kATh0UhHF7"
      },
      "execution_count": 57,
      "outputs": [
        {
          "output_type": "stream",
          "name": "stdout",
          "text": [
            "#sample_input: 88 Write a program to find two integers that have minimum sum using odd-even sort \n",
            "\n",
            "#generated output:\n",
            "def oddEvenSort(arr):\n",
            "    n = len(arr)\n",
            "    isSorted = 0\n",
            "    while isSorted == 0:\n",
            "        isSorted = 1\n",
            "        temp = 0\n",
            "        for i in range(1, n-1, 2):\n",
            "            if arr[i] > arr[i+1]:\n",
            "                arr[i], arr[i+1] = arr[i+1], arr[i]\n",
            "                isSorted = 0\n",
            "                 \n",
            "        for i in range(0, n-1, 2):\n",
            "            if arr[i] > arr[i+1]:\n",
            "                arr[i], arr[i+1] = arr[i+1], arr[i]\n",
            "                isSorted = 0\n",
            "     \n",
            "    return arr\n",
            "\n",
            "arr = [1,2,3,4]\n",
            "arr = oddEvenSort(arr)[::-1]\n",
            "for i in range(len(arr)-1):\n",
            "    if arr[i] + arr[i+1] > arr[i+2]:\n",
            "        print(arr[i])\n",
            "\n",
            "\n",
            "\n",
            "\n",
            "\n",
            "\n",
            "\n"
          ]
        }
      ]
    },
    {
      "cell_type": "markdown",
      "source": [
        "(a) Based on metric A, the sample considers a failed sample. The generated code has the correct syntax of the sorting algorithm but the problem part is not the input asked. Since the problem part is not correct, it will not pass Metric A.\n",
        "\n",
        "(b) Label for metric A: 0\n",
        "\n",
        "(c) Based on metric B, the sample considers a passed sample. Since the generated code has correct sorting algorithm, it will pass metric B.\n",
        "\n",
        "(d) Label for metric B: 1"
      ],
      "metadata": {
        "id": "7CO9eQKThHF-"
      }
    },
    {
      "cell_type": "markdown",
      "source": [
        "## Sample 90"
      ],
      "metadata": {
        "id": "1MVCOIy8hM22"
      }
    },
    {
      "cell_type": "code",
      "source": [
        "Eng2Py(90)"
      ],
      "metadata": {
        "colab": {
          "base_uri": "https://localhost:8080/"
        },
        "outputId": "6e3589ca-a84d-4581-a0dc-c9ca6256ac35",
        "id": "FxswH7UShM23"
      },
      "execution_count": 58,
      "outputs": [
        {
          "output_type": "stream",
          "name": "stdout",
          "text": [
            "#sample_input: 89 Using Bogo Sort to find the middle integer of the array, assume the length is odd \n",
            "\n",
            "#generated output:\n",
            "import random\n",
            "\n",
            "def is_sorted(l):\n",
            "    n = len(l)\n",
            "    for i in range(0, n-1):\n",
            "        if (l[i] > l[i+1] ):\n",
            "            return False\n",
            "    return True\n",
            " \n",
            "def shuffle(l):\n",
            "    n = len(l)\n",
            "    for i in range (0,n):\n",
            "        r = random.randint(0,n-1)\n",
            "        l[i], l[r] = l[r], l[i]\n",
            " \n",
            "def BogoSort(l):\n",
            "    n = len(l)\n",
            "    while (is_sorted(l)== False):\n",
            "        shuffle(l)\n",
            "    return l\n",
            "\n",
            "arr = [2,2,1,1,2,3,4]\n",
            "arr = BogoSort(arr)\n",
            "print(arr[len(arr)//2])\n",
            "\n",
            "\n",
            "\n",
            "\n",
            "\n",
            "\n"
          ]
        }
      ]
    },
    {
      "cell_type": "markdown",
      "source": [
        "(a) Based on metric A, the sample considers a failed sample. The generated code has the correct syntax of the sorting algorithm and it return the correct answer as asked.\n",
        "\n",
        "(b) Label for metric A: 1\n",
        "\n",
        "(c) Based on metric B, the sample considers a passed sample. Since the generated code has correct sorting algorithm, it will pass metric B.\n",
        "\n",
        "(d) Label for metric B: 1"
      ],
      "metadata": {
        "id": "BklJGPAthM23"
      }
    },
    {
      "cell_type": "markdown",
      "source": [
        "## Sample 91"
      ],
      "metadata": {
        "id": "LWtO4w0JhQhn"
      }
    },
    {
      "cell_type": "code",
      "source": [
        "Eng2Py(91)"
      ],
      "metadata": {
        "colab": {
          "base_uri": "https://localhost:8080/"
        },
        "outputId": "7609c41e-aedc-4c3b-cdae-215b0092be52",
        "id": "gSMHMaQwhQho"
      },
      "execution_count": 59,
      "outputs": [
        {
          "output_type": "stream",
          "name": "stdout",
          "text": [
            "#sample_input: 90 python program to find the largest integer that appears at most twice in an array using bucket sort \n",
            "\n",
            "#generated output:\n",
            "def bucketSort(array):\n",
            "    largest = max(array)\n",
            "    size = largest/size\n",
            "    buckets = [[] for i in range(size)]\n",
            "    for i in range(size):\n",
            "        index = int(array[i]/size)\n",
            "        if index!= length:\n",
            "            buckets[index].append(array[i])\n",
            "        else:\n",
            "            buckets[length - 1].append(array[i])\n",
            "    return buckets\n",
            "arr = [1,2,3,1]\n",
            "arr = bucketSort(arr)\n",
            "for i in range(len(arr)-1):\n",
            "    if arr[i] == arr[i+1]:\n",
            "        print(\"A value appears at least twice in the array\")\n",
            "        break\n",
            "    else:\n",
            "        if (i+1 == len(arr)-1):\n",
            "            print(\"No value appear twice in the array\")\n",
            "\n",
            "\n",
            "\n",
            "\n",
            "\n",
            "\n",
            "\n",
            "\n",
            "\n",
            "\n"
          ]
        }
      ]
    },
    {
      "cell_type": "markdown",
      "source": [
        "(a) Based on metric A, the sample considers a failed sample. The generated code has wrong syntax and does not match the correct bucket sort. Also the problem part is finding the largest integer that appears at most twice in an array which is not the input asked. Since both the algorithm and the problem part are not correct, it will not pass Metric A.\n",
        "\n",
        "(b) Label for metric A: 0\n",
        "\n",
        "(c) Based on metric B, the sample considers a failed sample. Since the generated code does not have correct sorting algorithm, it will not pass metric B.\n",
        "\n",
        "(d) Label for metric B: 0"
      ],
      "metadata": {
        "id": "zy_PEkUbhQho"
      }
    },
    {
      "cell_type": "markdown",
      "source": [
        "## Sample 92"
      ],
      "metadata": {
        "id": "NCFMcLg0hSaI"
      }
    },
    {
      "cell_type": "code",
      "source": [
        "Eng2Py(92)"
      ],
      "metadata": {
        "colab": {
          "base_uri": "https://localhost:8080/"
        },
        "outputId": "75c79421-1c9f-4c11-afca-802b116eed84",
        "id": "Dphv-J9-hSaJ"
      },
      "execution_count": 60,
      "outputs": [
        {
          "output_type": "stream",
          "name": "stdout",
          "text": [
            "#sample_input: 91 write code to sort the squares of each element of an array in descending order using Permutation Sort \n",
            "\n",
            "#generated output:\n",
            "import random\n",
            "\n",
            "def is_sorted(l):\n",
            "    n = len(l)\n",
            "    for i in range(0, n-1):\n",
            "        if (l[i] > l[i+1] ):\n",
            "            return False\n",
            "    return True\n",
            " \n",
            "def shuffle(l):\n",
            "    n = len(l)\n",
            "    for i in range (0,n):\n",
            "        r = random.randint(0,n-1)\n",
            "        l[i], l[r] = l[r], l[i]\n",
            " \n",
            "def PermutationSort(l):\n",
            "    n = len(l)\n",
            "    while (is_sorted(l)== False):\n",
            "        shuffle(l)\n",
            "    return l\n",
            "\n",
            "arr = [-2,-1,0,3,4]\n",
            "for i in range(len(arr)):\n",
            "    arr[i] *= arr[i]\n",
            "print(PermutationSort(arr))\n",
            "\n",
            "\n",
            "\n",
            "\n",
            "\n",
            "\n",
            "\n"
          ]
        }
      ]
    },
    {
      "cell_type": "markdown",
      "source": [
        "(a) Based on metric A, the sample considers a failed sample. The generated code has the correct syntax of the sorting algorithm but the problem part is not the input asked. Since the problem part is not correct, it will not pass Metric A.\n",
        "\n",
        "(b) Label for metric A: 0\n",
        "\n",
        "(c) Based on metric B, the sample considers a passed sample. Since the generated code has correct sorting algorithm, it will pass metric B.\n",
        "\n",
        "(d) Label for metric B: 1"
      ],
      "metadata": {
        "id": "SRT7G4ZghSaJ"
      }
    },
    {
      "cell_type": "markdown",
      "source": [
        "## Sample 93"
      ],
      "metadata": {
        "id": "gS7avCWbhd8H"
      }
    },
    {
      "cell_type": "code",
      "source": [
        "Eng2Py(93)"
      ],
      "metadata": {
        "colab": {
          "base_uri": "https://localhost:8080/"
        },
        "outputId": "be9ddc11-c84e-476d-fe8c-564457a99d17",
        "id": "ryM5pvrihd8O"
      },
      "execution_count": 61,
      "outputs": [
        {
          "output_type": "stream",
          "name": "stdout",
          "text": [
            "#sample_input: 92 using Cycle Sort, sort an input array and print the third maximum element \n",
            "\n",
            "#generated output:\n",
            "def cycleSort(array):\n",
            "    pos = 0\n",
            "    while pos < len(array) and pos!= len(array)-1:\n",
            "        pos = pos + 1\n",
            "        array[pos], array[pos] = array[pos], array[pos]\n",
            "            pos += 1\n",
            "    if pos == len(array) - 1:\n",
            "            pos += 1\n",
            "       \n",
            "        array[pos], array[pos] = array[pos], array[pos]\n",
            "            pos += 1\n",
            "    return array\n",
            "arr = [2,2,3,1]\n",
            "arr = cycleSort(arr)\n",
            "print(arr[len(arr)//3])\n",
            "\n",
            "\n",
            "\n",
            "\n",
            "\n",
            "\n",
            "\n",
            "\n"
          ]
        }
      ]
    },
    {
      "cell_type": "markdown",
      "source": [
        "(a) Based on metric A, the sample considers a failed sample. The generated code has wrong syntax and does not match the correct cycle sort. Also the problem part is not the input asked. Since both the algorithm and the problem part are not correct, it will not pass Metric A.\n",
        "\n",
        "(b) Label for metric A: 0\n",
        "\n",
        "(c) Based on metric B, the sample considers a failed sample. Since the generated code does not have correct sorting algorithm, it will not pass metric B.\n",
        "\n",
        "(d) Label for metric B: 0"
      ],
      "metadata": {
        "id": "vyZTqOcLhd8O"
      }
    },
    {
      "cell_type": "markdown",
      "source": [
        "## Sample 94"
      ],
      "metadata": {
        "id": "RQIDTxRfpvRZ"
      }
    },
    {
      "cell_type": "code",
      "source": [
        "Eng2Py(94)"
      ],
      "metadata": {
        "colab": {
          "base_uri": "https://localhost:8080/"
        },
        "outputId": "b38223cb-88da-42ba-a0d8-5b15d6e71d07",
        "id": "cijSnEPHpvRl"
      },
      "execution_count": 62,
      "outputs": [
        {
          "output_type": "stream",
          "name": "stdout",
          "text": [
            "#sample_input: 93 code for removing the smallest number of the list and printing it in non-increasing order by using radix sort \n",
            "\n",
            "#generated output:\n",
            "import itertools\n",
            "def radixSort(list):\n",
            "    min_num = min(list)\n",
            "    if min_num < 0:\n",
            "        lb = abs(min_num)\n",
            "        list = [item + lb for item in list]\n",
            "    n_digits = len(str(max(list)))\n",
            "    for dgt in range(n_digits):\n",
            "        buckets = [[] for i in range(10)]\n",
            "        for num in list:\n",
            "            idx = (num // (10**dgt)) % 10\n",
            "            buckets[idx].append(num)\n",
            "        list = list[i]\n",
            "    return list\n",
            "arr = [1,2,3,4]\n",
            "print(radixSort(arr))\n",
            "\n",
            "\n",
            "\n",
            "\n",
            "\n",
            "\n",
            "\n"
          ]
        }
      ]
    },
    {
      "cell_type": "markdown",
      "source": [
        "(a) Based on metric A, the sample considers a failed sample. The generated code has wrong syntax and does not match the correct radix sort. Also the problem part is not the input asked. Since both the algorithm and the problem part are not correct, it will not pass Metric A.\n",
        "\n",
        "(b) Label for metric A: 0\n",
        "\n",
        "(c) Based on metric B, the sample considers a failed sample. Since the generated code does not have correct sorting algorithm, it will not pass metric B.\n",
        "\n",
        "(d) Label for metric B: 0"
      ],
      "metadata": {
        "id": "EYA5FS_LpvRl"
      }
    }
  ]
}