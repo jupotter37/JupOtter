{
  "nbformat": 4,
  "nbformat_minor": 0,
  "metadata": {
    "colab": {
      "provenance": [],
      "authorship_tag": "ABX9TyOXW6iuSZqqUbjnR9lwTEkR",
      "include_colab_link": true
    },
    "kernelspec": {
      "name": "python3",
      "display_name": "Python 3"
    },
    "language_info": {
      "name": "python"
    }
  },
  "cells": [
    {
      "cell_type": "markdown",
      "metadata": {
        "id": "view-in-github",
        "colab_type": "text"
      },
      "source": [
        "<a href=\"https://colab.research.google.com/github/Idaogah/DEV_ML_AI/blob/main/Big_O_notation.ipynb\" target=\"_parent\"><img src=\"https://colab.research.google.com/assets/colab-badge.svg\" alt=\"Open In Colab\"/></a>"
      ]
    },
    {
      "cell_type": "markdown",
      "source": [
        "## Big-O-Notation\n",
        "\n",
        "Big-O notation helps to measure the time complexity (performance) or space complexity (memory usage) of an algorithm, which is crucial in determining how an algorithm scales with larger input sizes.\n",
        "For example, in JavaScript, as in any other programming language, Big-O notation is applied by analyzing the behavior of the code as input increases.\n",
        "\n",
        "Below, I explain how you can apply Big-O notation in JavaScript:\n",
        "1. **Analyze the Code's Time Complexity:**\n",
        "Check how the time taken by the code increases as the size of the input increases. You can do this by counting how many times the operations (loops, recursions, etc.) run for different inputs.\n",
        "\n",
        "2. **Identify Common Time Complexities:**\n",
        "- **O(1): Constant time -** The algorithm's runtime is independent of the input size.\n",
        "- **O(n): Linear time -** The runtime grows linearly with input size.\n",
        "- **O(n²): Quadratic time -** Nested loops that iterate over the input lead to this.\n",
        "- **O(log n): Logarithmic time -** Algorithms that divide the problem space in half each time (e.g., binary search).\n",
        "- **O(n log n): Log-linear time -** This complexity often appears in more efficient sorting algorithms, like merge sort or quicksort.\n",
        "3. **Big-O Example with Code**\n",
        "- Below are examples of how different time complexities manifest in JavaScript code:\n",
        "\n",
        "- **O(1) - Constant Time Complexity:**\n",
        "Regardless of the input size, the code below takes the same amount of time:"
      ],
      "metadata": {
        "id": "H9o01pFwJYwV"
      }
    },
    {
      "cell_type": "code",
      "source": [
        "function getFirstElement(arr) {\n",
        "    return arr[0];  // Accessing the first element takes constant time\n",
        "}\n"
      ],
      "metadata": {
        "id": "Qv7tmFCKMOFR"
      },
      "execution_count": null,
      "outputs": []
    },
    {
      "cell_type": "markdown",
      "source": [
        "- **O(n) - Linear Time Complexity:**\n",
        "Time complexity increases proportionally with the input size:"
      ],
      "metadata": {
        "id": "V4OoEzxYMXFc"
      }
    },
    {
      "cell_type": "code",
      "source": [
        "function printElements(arr) {\n",
        "    for (let i = 0; i < arr.length; i++) {\n",
        "        console.log(arr[i]);  // Iterating over the entire array\n",
        "    }\n",
        "}\n"
      ],
      "metadata": {
        "id": "Q7rPcbfdMfLe"
      },
      "execution_count": null,
      "outputs": []
    },
    {
      "cell_type": "markdown",
      "source": [
        "- **O(n²) - Quadratic Time Complexity:**\n",
        "Typically occurs with nested loops:"
      ],
      "metadata": {
        "id": "8hE6nmdIMj7E"
      }
    },
    {
      "cell_type": "code",
      "source": [
        "function printAllPairs(arr) {\n",
        "    for (let i = 0; i < arr.length; i++) {\n",
        "        for (let j = 0; j < arr.length; j++) {\n",
        "            console.log(arr[i], arr[j]);  // Nested loop leads to O(n²)\n",
        "        }\n",
        "    }\n",
        "}\n"
      ],
      "metadata": {
        "id": "Bbb4aIiLMv0T"
      },
      "execution_count": null,
      "outputs": []
    },
    {
      "cell_type": "markdown",
      "source": [
        "- **O(log n) - Logarithmic Time Complexity:**\n",
        "Usually seen in algorithms that reduce the problem size by half, such as binary search:"
      ],
      "metadata": {
        "id": "sXVLRhD0M0TW"
      }
    },
    {
      "cell_type": "code",
      "source": [
        "function binarySearch(arr, target) {\n",
        "    let left = 0;\n",
        "    let right = arr.length - 1;\n",
        "\n",
        "    while (left <= right) {\n",
        "        let mid = Math.floor((left + right) / 2);\n",
        "\n",
        "        if (arr[mid] === target) {\n",
        "            return mid;  // Found the target\n",
        "        } else if (arr[mid] < target) {\n",
        "            left = mid + 1;  // Search right half\n",
        "        } else {\n",
        "            right = mid - 1;  // Search left half\n",
        "        }\n",
        "    }\n",
        "    return -1;  // Not found\n",
        "}\n"
      ],
      "metadata": {
        "id": "z0TBe7p-M9oc"
      },
      "execution_count": null,
      "outputs": []
    },
    {
      "cell_type": "markdown",
      "source": [
        "- **O(n log n) - Log-Linear Time Complexity:**\n",
        "This is common with efficient sorting algorithms like quicksort:"
      ],
      "metadata": {
        "id": "Cob6SeeeNC1J"
      }
    },
    {
      "cell_type": "code",
      "source": [
        "function quickSort(arr) {\n",
        "    if (arr.length <= 1) return arr;\n",
        "\n",
        "    let pivot = arr[Math.floor(arr.length / 2)];\n",
        "    let left = arr.filter(x => x < pivot);\n",
        "    let right = arr.filter(x => x > pivot);\n",
        "\n",
        "    return [...quickSort(left), pivot, ...quickSort(right)];\n",
        "}\n"
      ],
      "metadata": {
        "id": "jR0PSDmyNOyw"
      },
      "execution_count": null,
      "outputs": []
    },
    {
      "cell_type": "markdown",
      "source": [
        "4. **Space Complexity:**\n",
        "You can also use Big O notation to measure memory usage. Analyze how much extra memory your algorithm uses as the input grows.\n",
        "\n",
        "- For instance, the space complexity of an iterative function that doesn’t allocate extra memory (besides a few variables) is O(1).\n",
        "Recursive algorithms, depending on the depth of the recursion, may have O(n) space complexity because of the stack used by recursion.\n",
        "5. **Measuring Time in Practice:**\n",
        "You can use _`console.time()`_ and _`console.timeEnd()`_ in JavaScript to measure the time taken by your code in practice, but Big O notation is more about theoretical limits rather than real-time performance:"
      ],
      "metadata": {
        "id": "rzsHbUDRNUug"
      }
    },
    {
      "cell_type": "code",
      "source": [
        "console.time(\"Loop Time\");\n",
        "for (let i = 0; i < 1000000; i++) {\n",
        "    // Do some computation\n",
        "}\n",
        "console.timeEnd(\"Loop Time\");\n"
      ],
      "metadata": {
        "id": "B06Iv6yOOVYl"
      },
      "execution_count": null,
      "outputs": []
    },
    {
      "cell_type": "markdown",
      "source": [
        "**Summary:**\n",
        "\n",
        "- Analyze the structure of your algorithm, looking at loops, recursion, and operations to determine time complexity.\n",
        "- Match the observed patterns in your code to common Big O complexities like O(1), O(n), O(n²), O(log n), etc.\n",
        "- Test performance with real inputs, but use Big O for general growth analysis."
      ],
      "metadata": {
        "id": "OuUUyWnQOuw-"
      }
    }
  ]
}