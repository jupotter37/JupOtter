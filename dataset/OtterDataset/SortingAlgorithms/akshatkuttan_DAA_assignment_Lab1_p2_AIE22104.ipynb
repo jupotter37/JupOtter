{
 "cells": [
  {
   "cell_type": "markdown",
   "id": "0da6bf73",
   "metadata": {},
   "source": [
    "# Lab1 part 2"
   ]
  },
  {
   "cell_type": "markdown",
   "id": "f94b231a",
   "metadata": {},
   "source": [
    "Q1"
   ]
  },
  {
   "cell_type": "code",
   "execution_count": 1,
   "id": "8f107706",
   "metadata": {},
   "outputs": [],
   "source": [
    "import time\n",
    "import random\n",
    "import matplotlib.pyplot as plt"
   ]
  },
  {
   "cell_type": "code",
   "execution_count": 2,
   "id": "fc00a86f",
   "metadata": {},
   "outputs": [],
   "source": [
    "# Bubble Sort\n",
    "def bubble_sort(arr):\n",
    "    n = len(arr)\n",
    "    for i in range(n):\n",
    "        for j in range(0, n-i-1):\n",
    "            if arr[j] > arr[j+1]:\n",
    "                arr[j], arr[j+1] = arr[j+1], arr[j]"
   ]
  },
  {
   "cell_type": "code",
   "execution_count": 3,
   "id": "22a699c0",
   "metadata": {},
   "outputs": [],
   "source": [
    "# Selection Sort\n",
    "def selection_sort(arr):\n",
    "    n = len(arr)\n",
    "    for i in range(n):\n",
    "        min_index = i\n",
    "        for j in range(i+1, n):\n",
    "            if arr[j] < arr[min_index]:\n",
    "                min_index = j\n",
    "        arr[i], arr[min_index] = arr[min_index], arr[i]"
   ]
  },
  {
   "cell_type": "code",
   "execution_count": 4,
   "id": "34451bea",
   "metadata": {},
   "outputs": [],
   "source": [
    "# Insertion Sort\n",
    "def insertion_sort(arr):\n",
    "    n = len(arr)\n",
    "    for i in range(1, n):\n",
    "        key = arr[i]\n",
    "        j = i - 1\n",
    "        while j >= 0 and arr[j] > key:\n",
    "            arr[j + 1] = arr[j]\n",
    "            j -= 1\n",
    "        arr[j + 1] = key"
   ]
  },
  {
   "cell_type": "code",
   "execution_count": 5,
   "id": "55b56f29",
   "metadata": {},
   "outputs": [],
   "source": [
    "# Merge Sort\n",
    "def merge_sort(arr):\n",
    "    if len(arr) > 1:\n",
    "        mid = len(arr) // 2\n",
    "        L = arr[:mid]\n",
    "        R = arr[mid:]\n",
    "\n",
    "        merge_sort(L)\n",
    "        merge_sort(R)\n",
    "\n",
    "        i = j = k = 0\n",
    "\n",
    "        while i < len(L) and j < len(R):\n",
    "            if L[i] < R[j]:\n",
    "                arr[k] = L[i]\n",
    "                i += 1\n",
    "            else:\n",
    "                arr[k] = R[j]\n",
    "                j += 1\n",
    "            k += 1\n",
    "\n",
    "        while i < len(L):\n",
    "            arr[k] = L[i]\n",
    "            i += 1\n",
    "            k += 1\n",
    "\n",
    "        while j < len(R):\n",
    "            arr[k] = R[j]\n",
    "            j += 1\n",
    "            k += 1"
   ]
  },
  {
   "cell_type": "code",
   "execution_count": 6,
   "id": "b9b97211",
   "metadata": {},
   "outputs": [],
   "source": [
    "# Quick Sort\n",
    "def partition(arr, low, high):\n",
    "    pivot = arr[high]\n",
    "    i = low - 1\n",
    "    for j in range(low, high):\n",
    "        if arr[j] < pivot:\n",
    "            i += 1\n",
    "            arr[i], arr[j] = arr[j], arr[i]\n",
    "    arr[i + 1], arr[high] = arr[high], arr[i + 1]\n",
    "    return i + 1\n",
    "\n",
    "def quick_sort(arr, low, high):\n",
    "    if low < high:\n",
    "        pi = partition(arr, low, high)\n",
    "        quick_sort(arr, low, pi - 1)\n",
    "        quick_sort(arr, pi + 1, high)"
   ]
  },
  {
   "cell_type": "code",
   "execution_count": 7,
   "id": "a86c995b",
   "metadata": {},
   "outputs": [],
   "source": [
    "# Bucket Sort\n",
    "def bucket_sort(arr):\n",
    "    buckets = [[] for _ in range(10)]\n",
    "    for num in arr:\n",
    "        index = num // 1000\n",
    "        buckets[index].append(num)\n",
    "    sorted_arr = []\n",
    "    for bucket in buckets:\n",
    "        sorted_arr.extend(sorted(bucket))\n",
    "    return sorted_arr"
   ]
  },
  {
   "cell_type": "code",
   "execution_count": 8,
   "id": "0f0f2c05",
   "metadata": {},
   "outputs": [],
   "source": [
    "# Heap Sort\n",
    "def heapify(arr, n, i):\n",
    "    largest = i\n",
    "    l = 2 * i + 1\n",
    "    r = 2 * i + 2\n",
    "    if l < n and arr[l] > arr[largest]:\n",
    "        largest = l\n",
    "    if r < n and arr[r] > arr[largest]:\n",
    "        largest = r\n",
    "    if largest != i:\n",
    "        arr[i], arr[largest] = arr[largest], arr[i]\n",
    "        heapify(arr, n, largest)\n",
    "\n",
    "def heap_sort(arr):\n",
    "    n = len(arr)\n",
    "    for i in range(n // 2 - 1, -1, -1):\n",
    "        heapify(arr, n, i)\n",
    "    for i in range(n - 1, 0, -1):\n",
    "        arr[i], arr[0] = arr[0], arr[i]\n",
    "        heapify(arr, i, 0)"
   ]
  },
  {
   "cell_type": "code",
   "execution_count": 9,
   "id": "0dd2efaf",
   "metadata": {},
   "outputs": [],
   "source": [
    "# Radix Sort\n",
    "def counting_sort(arr, exp):\n",
    "    n = len(arr)\n",
    "    output = [0] * n\n",
    "    count = [0] * 10\n",
    "\n",
    "    for i in range(n):\n",
    "        index = arr[i] // exp\n",
    "        count[index % 10] += 1\n",
    "\n",
    "    for i in range(1, 10):\n",
    "        count[i] += count[i - 1]\n",
    "\n",
    "    i = n - 1\n",
    "    while i >= 0:\n",
    "        index = arr[i] // exp\n",
    "        output[count[index % 10] - 1] = arr[i]\n",
    "        count[index % 10] -= 1\n",
    "        i -= 1\n",
    "\n",
    "    i = 0\n",
    "    for i in range(n):\n",
    "        arr[i] = output[i]\n",
    "\n",
    "def radix_sort(arr):\n",
    "    max_num = max(arr)\n",
    "    exp = 1\n",
    "    while max_num // exp > 0:\n",
    "        counting_sort(arr, exp)\n",
    "        exp *= 10"
   ]
  },
  {
   "cell_type": "code",
   "execution_count": 10,
   "id": "534b3739",
   "metadata": {},
   "outputs": [
    {
     "data": {
      "image/png": "[encoded data removed]",
      "text/plain": [
       "<Figure size 1000x600 with 1 Axes>"
      ]
     },
     "metadata": {},
     "output_type": "display_data"
    }
   ],
   "source": [
    "random_numbers = [random.randint(1, 10000) for _ in range(1000)]\n",
    "sorting_algorithms = {\n",
    "    \"Bubble Sort\": bubble_sort,\n",
    "    \"Selection Sort\": selection_sort,\n",
    "    \"Insertion Sort\": insertion_sort,\n",
    "    \"Merge Sort\": merge_sort,\n",
    "    \"Quick Sort\": lambda arr: quick_sort(arr, 0, len(arr) - 1),\n",
    "    \"Bucket Sort\": bucket_sort,\n",
    "    \"Heap Sort\": heap_sort,\n",
    "    \"Radix Sort\": radix_sort\n",
    "}\n",
    "\n",
    "execution_times = {}\n",
    "for algorithm_name, algorithm in sorting_algorithms.items():\n",
    "    arr_copy = random_numbers.copy()\n",
    "    start_time = time.time()\n",
    "    algorithm(arr_copy)\n",
    "    end_time = time.time()\n",
    "    execution_times[algorithm_name] = end_time - start_time\n",
    "\n",
    "\n",
    "plt.figure(figsize=(10, 6))\n",
    "plt.bar(execution_times.keys(), execution_times.values())\n",
    "plt.xlabel('Sorting Algorithm')\n",
    "plt.ylabel('Time (s)')\n",
    "plt.title('Time taken by Sorting Algorithms')\n",
    "plt.xticks(rotation=45, ha='right')\n",
    "plt.tight_layout()\n",
    "plt.show()"
   ]
  },
  {
   "cell_type": "markdown",
   "id": "db63d0e7",
   "metadata": {},
   "source": [
    "Q2"
   ]
  },
  {
   "cell_type": "code",
   "execution_count": 11,
   "id": "617c70a1",
   "metadata": {},
   "outputs": [
    {
     "name": "stdout",
     "output_type": "stream",
     "text": [
      "Sorted Lists:\n",
      "[9, 10, 80, 85, 94]\n",
      "[3, 11, 32, 41, 66]\n",
      "[63, 68, 70, 87, 88]\n",
      "\n",
      "Merged and Sorted List:\n",
      "[3, 9, 10, 11, 32, 41, 63, 66, 68, 70, 80, 85, 87, 88, 94]\n"
     ]
    }
   ],
   "source": [
    "import heapq\n",
    "\n",
    "def merge_sorted_lists(lists):\n",
    "    merged_list = []\n",
    "    heap = []\n",
    "\n",
    "   \n",
    "    for i, lst in enumerate(lists):\n",
    "        if lst:\n",
    "            heapq.heappush(heap, (lst[0], i, 0))\n",
    "\n",
    "    while heap:\n",
    "        val, lst_index, elem_index = heapq.heappop(heap)\n",
    "        merged_list.append(val)\n",
    "\n",
    "        \n",
    "        if elem_index + 1 < len(lists[lst_index]):\n",
    "            heapq.heappush(heap, (lists[lst_index][elem_index + 1], lst_index, elem_index + 1))\n",
    "\n",
    "    return merged_list\n",
    "\n",
    "\n",
    "m = 3 \n",
    "n = 5 \n",
    "\n",
    "# Generating sample sorted lists\n",
    "sorted_lists = []\n",
    "for _ in range(m):\n",
    "    sorted_lists.append(sorted(random.sample(range(1, 100), n)))\n",
    "\n",
    "print(\"Sorted Lists:\")\n",
    "for lst in sorted_lists:\n",
    "    print(lst)\n",
    "\n",
    "print(\"\\nMerged and Sorted List:\")\n",
    "result = merge_sorted_lists(sorted_lists)\n",
    "print(result)"
   ]
  },
  {
   "cell_type": "code",
   "execution_count": null,
   "id": "40dfe6fd",
   "metadata": {},
   "outputs": [],
   "source": []
  }
 ],
 "metadata": {
  "kernelspec": {
   "display_name": "Python 3 (ipykernel)",
   "language": "python",
   "name": "python3"
  },
  "language_info": {
   "codemirror_mode": {
    "name": "ipython",
    "version": 3
   },
   "file_extension": ".py",
   "mimetype": "text/x-python",
   "name": "python",
   "nbconvert_exporter": "python",
   "pygments_lexer": "ipython3",
   "version": "3.11.5"
  }
 },
 "nbformat": 4,
 "nbformat_minor": 5
}
