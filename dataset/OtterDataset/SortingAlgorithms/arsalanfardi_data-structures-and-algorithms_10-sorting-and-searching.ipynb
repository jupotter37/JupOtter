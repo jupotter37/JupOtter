{
 "cells": [
  {
   "cell_type": "markdown",
   "metadata": {},
   "source": [
    "#### Sorting Algorithms\n",
    "\n",
    "##### Bubble Sort\n",
    "**O($n^2$) time** | **O(1) space**\n",
    "- Start at the beginning of the array and swap the first two elements if first is > second\n",
    "- Proceed to next pair, and so on, until your reach the end of the array\n",
    "- Now do the second element of the array, taking into consideration that the last element (n-1-i) has now been sorted\n",
    "- Repeat process until entire array has been swept"
   ]
  },
  {
   "cell_type": "code",
   "execution_count": 3,
   "metadata": {},
   "outputs": [
    {
     "name": "stdout",
     "output_type": "stream",
     "text": [
      "[1, 4, 5, 8, 9, 12, 22]\n"
     ]
    }
   ],
   "source": [
    "from typing import List\n",
    "\n",
    "def bubble_sort(arr: List[float]) -> List[float]:\n",
    "  for i in range(len(arr) - 1):  # range(len(arr)) works but will repeat one time more than needed\n",
    "    for j in range(len(arr) - 1 - i):\n",
    "      if arr[j] > arr[j + 1]:\n",
    "        arr[j], arr[j + 1] = arr[j + 1], arr[j]\n",
    "\n",
    "  return arr\n",
    "\n",
    "arr = [8, 1, 12, 9, 4, 22, 5]\n",
    "bubble_sort(arr)\n",
    "print(arr)"
   ]
  },
  {
   "cell_type": "markdown",
   "metadata": {},
   "source": [
    "##### Selection Sort\n",
    "**O($n^2$) time** | **O(1) space**\n",
    "- Find the smallest element using a linear scan and move it to the front (swapping it with the front element)\n",
    "- Find the second smallest element and so on by again doing a linear scan\n",
    "- Continue until all elements are in place"
   ]
  },
  {
   "cell_type": "code",
   "execution_count": 1,
   "metadata": {},
   "outputs": [
    {
     "name": "stdout",
     "output_type": "stream",
     "text": [
      "[1, 4, 5, 8, 9, 12, 22]\n"
     ]
    }
   ],
   "source": [
    "from typing import List\n",
    "\n",
    "def selection_sort(arr: List[float]) -> List[float]:\n",
    "  for i in range(len(arr) - 1):\n",
    "    min = i\n",
    "    # Find minimum\n",
    "    for j in range(i + 1, len(arr)):\n",
    "      min = j if arr[j] < arr[min] else min\n",
    "    \n",
    "    # Put min at the correct position\n",
    "    arr[i], arr[min] = arr[min], arr[i]\n",
    "  \n",
    "  return arr\n",
    "\n",
    "arr = [8, 1, 12, 9, 4, 22, 5]\n",
    "selection_sort(arr)\n",
    "print(arr)"
   ]
  },
  {
   "cell_type": "markdown",
   "metadata": {},
   "source": [
    "##### Insertion Sort\n",
    "**O($n^2$) time (worst case)** | **O(n) time (best case)** | **O(1) space**\n",
    "- Examine each element and compare it to its left neighbour\n",
    "- If it's not in the correct position (i.e. is smaller than its left neighbour), insert it in the correct position\n",
    "\n",
    "Notes:\n",
    "- Best case occurs when the array is already sorted\n",
    "- Similar to sorting a hand of cards"
   ]
  },
  {
   "cell_type": "code",
   "execution_count": 12,
   "metadata": {},
   "outputs": [
    {
     "name": "stdout",
     "output_type": "stream",
     "text": [
      "[1, 4, 5, 8, 9, 12, 22]\n"
     ]
    }
   ],
   "source": [
    "from typing import List\n",
    "\n",
    "def insertion_sort(arr: List[float]) -> List[float]:\n",
    "  for i in range(1, len(arr)):\n",
    "    # Compare to left neighbour\n",
    "    j = i\n",
    "    while j > 0 and arr[j] < arr[j - 1]:\n",
    "      arr[j], arr[j - 1] = arr[j - 1], arr[j]\n",
    "      j -= 1\n",
    "  \n",
    "  return arr\n",
    "\n",
    "\n",
    "arr = [8, 1, 12, 9, 4, 22, 5]\n",
    "insertion_sort(arr)\n",
    "print(arr)"
   ]
  },
  {
   "cell_type": "markdown",
   "metadata": {},
   "source": [
    "##### Merge Sort\n",
    "**O(nlog n) time** | **O(n) space**\n",
    "- Divide and conquer algorithm\n",
    "- **Stable** sort algorithm\n",
    "- Two functions involved:\n",
    "  - **merge_sort** to divide the array until the size becomes one\n",
    "  - **merge** for merging two halves\n",
    "- Divide the array in half while l < r, eventually you are merging just two single element arrays\n",
    "- Loop through the left and right arrays and compare values, adding the lower one to the original array\n",
    "- Merge any remaining elements in the left and right arrays\n",
    "\n",
    "See [here](https://www.khanacademy.org/computing/computer-science/algorithms/merge-sort/a/analysis-of-merge-sort) for an explanation of merge sort time complexity."
   ]
  },
  {
   "cell_type": "code",
   "execution_count": 25,
   "metadata": {},
   "outputs": [
    {
     "name": "stdout",
     "output_type": "stream",
     "text": [
      "[1, 4, 5, 8, 9, 12, 22]\n"
     ]
    }
   ],
   "source": [
    "from typing import List\n",
    "\n",
    "def merge_sort(arr: List[float]) -> List[float]:\n",
    "  if len(arr) > 1:\n",
    "    mid = len(arr) // 2\n",
    "    L = arr[:mid]\n",
    "    R = arr[mid:]\n",
    "\n",
    "    merge_sort(L)\n",
    "    merge_sort(R)\n",
    "  \n",
    "    merge(arr, L, R)\n",
    "  \n",
    "  return arr\n",
    "\n",
    "def merge(arr: List[float], L: List[float], R: List[float]):\n",
    "  i = j = k = 0  # left, right and current\n",
    "\n",
    "  # Compare each element of left and right lists and merge\n",
    "  while i < len(L) and j < len(R):\n",
    "    if L[i] <= R[j]:\n",
    "      arr[k] = L[i]\n",
    "      i += 1\n",
    "    else:\n",
    "      arr[k] = R[j]\n",
    "      j += 1\n",
    "    \n",
    "    k += 1  # always increment current\n",
    "\n",
    "  # Copy any remaining elements over\n",
    "  while i < len(L):\n",
    "    arr[k] = L[i]\n",
    "    k += 1\n",
    "    i += 1\n",
    "  \n",
    "  while j < len(R):\n",
    "    arr[k] = R[j]\n",
    "    k += 1\n",
    "    j += 1\n",
    "\n",
    "arr = [8, 1, 12, 9, 4, 22, 5]\n",
    "merge_sort(arr)\n",
    "print(arr)\n",
    "  "
   ]
  },
  {
   "cell_type": "markdown",
   "metadata": {},
   "source": [
    "##### Quick Sort\n",
    "**O(nlog n) average time**  | **O($n^2$) worst-case time** | **O(logn) average space**\n",
    "- Divide and conquer algorithm\n",
    "- Pick a random pivot element (could be last or middle, etc. as well) and partition the array such that all all numbers which are less than the partition come before all elements that are greater than it\n",
    "- Repeatedly partition the array around an element to eventually sort it.\n",
    "- Worst case O($n^2$) because the partitioned element is not guaranteed to be the median."
   ]
  },
  {
   "cell_type": "code",
   "execution_count": 20,
   "metadata": {},
   "outputs": [
    {
     "name": "stdout",
     "output_type": "stream",
     "text": [
      "[1, 4, 5, 8, 9, 12, 22]\n"
     ]
    }
   ],
   "source": [
    "from typing import List\n",
    "\n",
    "def quick_sort(arr: List[float], l: int, r: int):\n",
    "  if l < r:\n",
    "    p = partition(arr, l, r)\n",
    "    quick_sort(arr, l, p - 1)\n",
    "    quick_sort(arr, p, r)\n",
    "\n",
    "def partition(arr, l, r):\n",
    "  pivot = arr[(r - l) // 2 + l]  # Pick middle element between l and r for pivot\n",
    "  \n",
    "  while l <= r:\n",
    "    while arr[l] < pivot: l += 1  # Look for an element larger than pivot on the left\n",
    "    while arr[r] > pivot: r -= 1  # Look for an element smaller than pivot on the right\n",
    "    \n",
    "    # Swap the elements\n",
    "    if l <= r:\n",
    "      arr[l], arr[r] = arr[r], arr[l]\n",
    "      l += 1\n",
    "      r -= 1\n",
    "\n",
    "  # Return the index of the pivot element after partitioning\n",
    "  return l\n",
    "\n",
    "arr = [8, 1, 12, 9, 4, 22, 5]\n",
    "quick_sort(arr, 0, len(arr) - 1)\n",
    "print(arr)\n",
    "  "
   ]
  },
  {
   "cell_type": "markdown",
   "metadata": {},
   "source": [
    "##### Counting Sort\n",
    "**O(n + k) time** | **O(n + k) space** where k is the range of values\n",
    "- To understand Radix sort, we must first cover counting sort:\n",
    "1. Create an array with a length equal to the total range (max_val + 1). This becomes the counts array.\n",
    "2. Count the number of occurrences of each number in the array and store the result in the counts array.\n",
    "3. Take the cumulative sum at each position in the counts array.\n",
    "4. Shift the counts array to the right (the last value will drop off).\n",
    "   - This now becomes the array of starting indexes for each value (referred to as position array below).\n",
    "5. Initialize a result array with the same size as the input array.\n",
    "6. Iterate through the input array and place the number into the result array at the index specified by the count array, incrementing the count array's index by 1 every time.\n",
    "\n",
    "- Counting sort is best when the range of numbers (k) is small, otherwise it will have a large space and time complexity (e.g. having the largest possible integer value will require storing an array corresponding size)\n",
    "- Counting sort is **stable** and **non-comparative**\n",
    "- Radix and count sort can only be used for **integers** or **strings** that are mapped to integer keys (basically like hashing)"
   ]
  },
  {
   "cell_type": "code",
   "execution_count": 3,
   "metadata": {},
   "outputs": [
    {
     "name": "stdout",
     "output_type": "stream",
     "text": [
      "[1, 4, 5, 8, 9, 12, 22]\n"
     ]
    }
   ],
   "source": [
    "from typing import List\n",
    "\n",
    "def counting_sort(arr: List[int]) -> List[int]:\n",
    "  # Initialize the counts array with a length equal to the total range (max val + 1)\n",
    "  counts = [0] * (max(arr) + 1)\n",
    "  \n",
    "  # Count the number of occurrences of each number in the input array\n",
    "  for num in arr:\n",
    "    counts[num] += 1\n",
    "  \n",
    "  # Calculate the cumulative sum\n",
    "  for i in range(1, len(counts)):\n",
    "    counts[i] += counts[i - 1]\n",
    "\n",
    "  # Right shift to get the position array\n",
    "  pos = [0] + counts[:-1]\n",
    "\n",
    "  # Initialize sorted result array\n",
    "  res = [0] * len(arr)\n",
    "\n",
    "  # Store numbers in the result corresponding to their start index in the position array\n",
    "  for num in arr:\n",
    "    res[pos[num]] = num\n",
    "    pos[num] += 1\n",
    "\n",
    "  # Copy res to original array\n",
    "  for i, num in enumerate(res):\n",
    "    arr[i] = num\n",
    "\n",
    "arr = [8, 1, 12, 9, 4, 22, 5]\n",
    "counting_sort(arr)\n",
    "print(arr)"
   ]
  },
  {
   "cell_type": "code",
   "execution_count": 2,
   "metadata": {},
   "outputs": [
    {
     "name": "stdout",
     "output_type": "stream",
     "text": [
      "[-8, -5, 1, 4, 5, 8, 9, 12, 22]\n"
     ]
    }
   ],
   "source": [
    "# Algorithm for working with negative values (subtract the min value to get the range and positions):\n",
    "from typing import List\n",
    "\n",
    "def counting_sort(arr: List[int]) -> List[int]:\n",
    "  min_ = min(arr)\n",
    "  max_ = max(arr)\n",
    "  counts = [0] * (max_ - min_ + 1)\n",
    "  \n",
    "  for num in arr:\n",
    "    counts[num - min_] += 1\n",
    "  \n",
    "  for i in range(1, len(counts)):\n",
    "    counts[i] += counts[i - 1]\n",
    "\n",
    "  pos = [0] + counts[:-1]\n",
    "\n",
    "  res = [0] * len(arr)\n",
    "\n",
    "  for num in arr:\n",
    "    res[pos[num - min_]] = num\n",
    "    pos[num - min_] += 1\n",
    "\n",
    "  # Copy res to original array\n",
    "  for i, num in enumerate(res):\n",
    "    arr[i] = num\n",
    "\n",
    "arr = [8, 1, -5, 12, 9, -8, 4, 22, 5]\n",
    "counting_sort(arr)\n",
    "print(arr)"
   ]
  },
  {
   "cell_type": "markdown",
   "metadata": {},
   "source": [
    "##### Radix Sort\n",
    "**O(d(n + b)) time** where d is the **number of passes** of the sorting algorithm and b is the base (e.g. base 10) | **O(n + b) space** \n",
    "- Radix sort is an optimization of counting sort which maintains a linear time complexity regardless of the range of numbers\n",
    "\n",
    "1. Sort the given array using counting sort using the last digit (tens place) of the array of numbers\n",
    "2. Repeat same procedure for all places of the digits (replacing with 0 if the place doesn't exist for a number)\n",
    "\n",
    "- Choosing a base comes down to making a trade off between time and space, a larger b implies a smaller d (or number of passes), however would result in larger arrays during the counting sort step."
   ]
  },
  {
   "cell_type": "code",
   "execution_count": 17,
   "metadata": {},
   "outputs": [
    {
     "name": "stdout",
     "output_type": "stream",
     "text": [
      "[-25, -1, 1, 1, 8, 9, 12, 56, 243, 4420]\n"
     ]
    }
   ],
   "source": [
    "import math\n",
    "from typing import List\n",
    "\n",
    "def get_digit(number: int, n: int):\n",
    "  \"\"\"Returns the nth digit of a number.\"\"\"\n",
    "  digit = abs(number) // 10**n % 10\n",
    "  return digit if number >= 0 else -digit\n",
    "\n",
    "def count_sort(arr: List[int], digit: int):\n",
    "  digit_arr = [get_digit(num, digit) for num in arr]\n",
    "  max_ = max(digit_arr)\n",
    "  min_ = min(digit_arr)\n",
    "  counts = [0] * (max_ - min_ + 1)\n",
    "\n",
    "  for num in digit_arr:\n",
    "    counts[num - min_] += 1\n",
    "  \n",
    "  for i in range(1, len(counts)):\n",
    "    counts[i] += counts[i - 1]\n",
    "  \n",
    "  pos = [0] + counts[:-1]\n",
    "\n",
    "  res = [0] * len(arr)\n",
    "  for i, num in enumerate(arr):\n",
    "    # Get position corresponding to the digit array value\n",
    "    res[pos[digit_arr[i] - min_]] = num\n",
    "    pos[digit_arr[i] - min_] += 1\n",
    "  \n",
    "  # Copy res to original array\n",
    "  for i, num in enumerate(res):\n",
    "    arr[i] = num\n",
    "\n",
    "def radix_sort(arr: List[int]):\n",
    "  abs_max = max(arr, key=abs)\n",
    "  # Number of digits in largest absolute value\n",
    "  d = int(math.log10(abs_max)) + 1\n",
    "  \n",
    "  for i in range(d):\n",
    "    count_sort(arr, i)\n",
    "  \n",
    "  return arr\n",
    "  \n",
    "arr = [8, 1, 12, -25, -1, 1, 9, 4420, 243, 56]\n",
    "radix_sort(arr)\n",
    "print(arr)\n"
   ]
  },
  {
   "cell_type": "markdown",
   "metadata": {},
   "source": [
    "##### Binary Search\n",
    "Look for an element x in a **sorted** array by first comparing x to the midpoint of the array. If x is less than the midpoint, then we search the left half of the array. If x is greater than the midpoint, we search the right. Repeat until we find x or the subarray has a size of 0."
   ]
  },
  {
   "cell_type": "code",
   "execution_count": 1,
   "metadata": {},
   "outputs": [
    {
     "name": "stdout",
     "output_type": "stream",
     "text": [
      "0\n",
      "0\n",
      "4\n",
      "4\n"
     ]
    }
   ],
   "source": [
    "from typing import List\n",
    "\n",
    "# Iterative\n",
    "def binary_search(arr: List[int], x: int):\n",
    "  low = 0\n",
    "  high = len(arr) - 1\n",
    "\n",
    "  while low < high:\n",
    "    mid = low + (high - low) // 2\n",
    "    if arr[mid] < x:\n",
    "      low = mid + 1\n",
    "    elif arr[mid] > x:\n",
    "      high = mid - 1\n",
    "    else:\n",
    "      return mid\n",
    "  \n",
    "  return -1\n",
    "\n",
    "# Recursive\n",
    "def rec_binary_search(arr: List[int], x: int, low: int, high: int):\n",
    "  if low > high:\n",
    "    return -1\n",
    "\n",
    "  mid = low + (high - low) // 2\n",
    "\n",
    "  if arr[mid] < x:\n",
    "    return rec_binary_search(arr, x, mid + 1, high)\n",
    "  elif arr[mid] > x:\n",
    "    return rec_binary_search(arr, x, low, mid - 1)\n",
    "  else:\n",
    "    return mid\n",
    "  \n",
    "\n",
    "arr = [12, 19, 23, 32, 45, 52]\n",
    "print(binary_search(arr, 12))\n",
    "print(rec_binary_search(arr, 12, 0, len(arr) - 1))\n",
    "print(binary_search(arr, 45))\n",
    "print(rec_binary_search(arr, 45, 0, len(arr) - 1))"
   ]
  },
  {
   "cell_type": "markdown",
   "metadata": {},
   "source": [
    "Below is a generalized binary search template for algorithm problems. Only three things need to be changed for each problem:\n",
    "- The left and right boundaries (include all values)\n",
    "- Decide the return value `left` or `left - 1`. Remember that after exiting the loop, `left` is the minimum index satisfying the condition\n",
    "- The condition function\n",
    "\n",
    "The search space will eventually shrink so that the minimum (left) is at the target. See this [question](https://leetcode.com/problems/first-bad-version/discuss/769685/Python-Clear-explanation-Powerful-Ultimate-Binary-Search-Template.-Solved-many-problems.) as an introductory example."
   ]
  },
  {
   "cell_type": "code",
   "execution_count": 7,
   "metadata": {},
   "outputs": [
    {
     "name": "stdout",
     "output_type": "stream",
     "text": [
      "-1\n",
      "5\n",
      "0\n"
     ]
    }
   ],
   "source": [
    "# Generalized template:\n",
    "def binary_search(array) -> int:\n",
    "    def condition(value) -> bool:\n",
    "        pass\n",
    "\n",
    "    left, right = 0, len(array)\n",
    "    while left < right:\n",
    "        mid = left + (right - left) // 2\n",
    "        if condition(mid):\n",
    "            right = mid\n",
    "        else:\n",
    "            left = mid + 1\n",
    "    return left\n",
    "\n",
    "# Example\n",
    "def ex_binary_search(array, target) -> int:\n",
    "    left, right = 0, len(array)\n",
    "    while left < right:\n",
    "        mid = left + (right - left) // 2\n",
    "        if array[mid] >= target:\n",
    "            right = mid\n",
    "        else:\n",
    "            left = mid + 1\n",
    "    # Watch out for index out of range error\n",
    "    return left if left < len(array) and array[left] == target else -1\n",
    "\n",
    "print(ex_binary_search([1, 4, 6, 18, 20, 23, 35], 45))\n",
    "print(ex_binary_search([1, 4, 6, 18, 20, 23, 35], 23))\n",
    "print(ex_binary_search([1, 4, 6, 18, 20, 23, 35], 1))"
   ]
  },
  {
   "cell_type": "markdown",
   "metadata": {},
   "source": [
    "#### Interview Questions\n",
    "\n",
    "**10.1 Sorted Merge**\n",
    "- Similar to merge sort but we merge backwards starting from the back of A\n",
    "- O(A + B) time and O(1) space"
   ]
  },
  {
   "cell_type": "code",
   "execution_count": 49,
   "metadata": {},
   "outputs": [
    {
     "name": "stdout",
     "output_type": "stream",
     "text": [
      "[0, 1, 2, 4, 8, 11, 12]\n"
     ]
    }
   ],
   "source": [
    "from typing import List\n",
    "\n",
    "def sorted_merge(a: List[int], b: List[int]):\n",
    "  i = len(list(filter(None, a))) - 1\n",
    "  j = len(b) - 1\n",
    "  k = -1\n",
    "\n",
    "  # While we're not at the end of b\n",
    "  while j >= 0:\n",
    "    # Ensure we haven't reached the end of A\n",
    "    if i >= 0 and a[i] >= b[j]:\n",
    "      a[k] = a[i]\n",
    "      i -= 1\n",
    "    # If we've reached the end of A, we will populate only from B\n",
    "    else:\n",
    "      a[k] = b[j]\n",
    "      j -= 1\n",
    "    k -= 1\n",
    "\n",
    "a = [1, 4, 8, 11, None, None, None]\n",
    "b = [0, 2, 12]\n",
    "sorted_merge(a, b)\n",
    "print(a)\n"
   ]
  },
  {
   "cell_type": "markdown",
   "metadata": {},
   "source": [
    "**10.2 Group Anagrams**\n",
    "- Sort each word and group anagrams by using a dictionary\n",
    "- Note: question does not specify to sort anagrams, only to group them\n",
    "- O(nslogs) time (where s is the length of the longest string) and O(n) space\n",
    "\n",
    "**Alternative**:\n",
    "Use a tuple of character counts as the dictionary keys - **O(ns)** time and O(n) space."
   ]
  },
  {
   "cell_type": "code",
   "execution_count": 63,
   "metadata": {},
   "outputs": [
    {
     "name": "stdout",
     "output_type": "stream",
     "text": [
      "['abc', 'bac', 'xyz', 'yxz', 'abcd']\n"
     ]
    }
   ],
   "source": [
    "from typing import List\n",
    "from collections import defaultdict\n",
    "\n",
    "def group_anagrams(words: List[str]):\n",
    "  d = defaultdict(list)  # Dictionary for storing groups of anagrams\n",
    "  for w in words:\n",
    "    key = \"\".join(sorted(w))\n",
    "    d[key].append(w)\n",
    "\n",
    "  i = 0\n",
    "  for key in d:\n",
    "    for anagram in d[key]:\n",
    "      words[i] = anagram\n",
    "      i += 1\n",
    "\n",
    "a = ['abc', 'xyz', 'bac', 'abcd', 'yxz']\n",
    "group_anagrams(a)\n",
    "print(a)"
   ]
  },
  {
   "cell_type": "code",
   "execution_count": 57,
   "metadata": {},
   "outputs": [
    {
     "name": "stdout",
     "output_type": "stream",
     "text": [
      "[['abc', 'bac'], ['xyz', 'yxz'], ['abcd']]\n"
     ]
    }
   ],
   "source": [
    "from typing import List\n",
    "from collections import defaultdict\n",
    "\n",
    "# Alternative solution with character counts\n",
    "def group_anagrams(words: List[str]):\n",
    "  d = defaultdict(list)  # Dictionary for storing groups of anagrams\n",
    "  for w in words:\n",
    "    counts = [0] * 26\n",
    "    for c in w:\n",
    "      counts[ord(c) - ord('a')] += 1\n",
    "    d[tuple(counts)].append(w)  # Tuple is hashable\n",
    "\n",
    "  return list(d.values())\n",
    "\n",
    "a = ['abc', 'xyz', 'bac', 'abcd', 'yxz']\n",
    "a = group_anagrams(a)\n",
    "print(a)"
   ]
  },
  {
   "cell_type": "markdown",
   "metadata": {},
   "source": [
    "**10.3 Search in Rotated Array**\n",
    "- Find the normally ordered side of the array, check if the target is in the range, if not search the other side.\n",
    "- Note: be careful with the = signs in this question\n",
    "- O(logn) time and O(1) space"
   ]
  },
  {
   "cell_type": "code",
   "execution_count": 45,
   "metadata": {},
   "outputs": [
    {
     "name": "stdout",
     "output_type": "stream",
     "text": [
      "8\n",
      "4\n"
     ]
    }
   ],
   "source": [
    "from typing import List\n",
    "\n",
    "def rotated_search(nums: List[int], target: int):\n",
    "  left, right = 0, len(nums) - 1\n",
    "\n",
    "  while left <= right:\n",
    "    mid = left + (right - left) // 2\n",
    "    if nums[mid] == target:\n",
    "      return mid\n",
    "    \n",
    "    # Left is normally ordered\n",
    "    if nums[left] <= nums[mid]:\n",
    "        if nums[left] <= target < nums[mid]:\n",
    "            right = mid - 1\n",
    "        else:\n",
    "            left = mid + 1\n",
    "\n",
    "    # Right is normally ordered\n",
    "    if nums[right] >= nums[mid]:\n",
    "        if nums[mid] < target <= nums[right]:\n",
    "            left = mid + 1\n",
    "        else:\n",
    "            right = mid - 1\n",
    "\n",
    "\n",
    "print(rotated_search([15, 16, 19, 20, 25, 1, 3, 4, 5, 7, 10, 14], 5))\n",
    "print(rotated_search([70, 75, 17, 18, 30, 31, 35, 60], 30))  \n"
   ]
  },
  {
   "cell_type": "markdown",
   "metadata": {},
   "source": [
    "**10.4 Sorted Search, No Size**\n",
    "- Find the approximate size of listy using an exponential backoff approach (increase by a factor of $2^n$ until we find the end)\n",
    "- Perform a regular binary search to find the target using the length using the approximate size\n",
    "- O(logn) time and O(1) space"
   ]
  },
  {
   "cell_type": "code",
   "execution_count": 53,
   "metadata": {},
   "outputs": [
    {
     "name": "stdout",
     "output_type": "stream",
     "text": [
      "496\n"
     ]
    }
   ],
   "source": [
    "# Imitation of a class with no size method \n",
    "class Listy:\n",
    "  def __init__(self, size: int):\n",
    "    self.size = size\n",
    "  \n",
    "  def element_at(self, index: int):\n",
    "    if index > self.size:\n",
    "      return -1\n",
    "    return index  # Return the same number as the index to keep it simple (maintains sorted order)\n",
    "\n",
    "def search_listy(listy: Listy, target: int):\n",
    "  # Find the approximate size of listy, or the point we pass the target, using exonential backoff (log n)\n",
    "  n = 0\n",
    "  while listy.element_at(2**n) != -1 and listy.element_at(2**n) < target:\n",
    "    n += 1\n",
    "\n",
    "  # Can start our search at 2^(n-1) because we know from exponential backoff the target must be between n-1 and the end (n)\n",
    "  l, r = 2**(n-1), 2**n\n",
    "  while l <= r:\n",
    "    mid = l + (r - l) // 2\n",
    "    if target > listy.element_at(mid):\n",
    "      l = mid + 1\n",
    "    elif target < listy.element_at(mid):\n",
    "      r = mid - 1\n",
    "    else:\n",
    "      return mid\n",
    "  \n",
    "  return -1\n",
    "\n",
    "print(search_listy(Listy(5000), 496))\n",
    "\n"
   ]
  },
  {
   "cell_type": "code",
   "execution_count": null,
   "metadata": {},
   "outputs": [],
   "source": []
  }
 ],
 "metadata": {
  "interpreter": {
   "hash": "297c3c4cf0ca7056ff00b85688658f2cdddba28ac874a998871452124f2c703a"
  },
  "kernelspec": {
   "display_name": "Python 3.9.5 ('base')",
   "language": "python",
   "name": "python3"
  },
  "language_info": {
   "codemirror_mode": {
    "name": "ipython",
    "version": 3
   },
   "file_extension": ".py",
   "mimetype": "text/x-python",
   "name": "python",
   "nbconvert_exporter": "python",
   "pygments_lexer": "ipython3",
   "version": "3.9.5"
  },
  "orig_nbformat": 4
 },
 "nbformat": 4,
 "nbformat_minor": 2
}
