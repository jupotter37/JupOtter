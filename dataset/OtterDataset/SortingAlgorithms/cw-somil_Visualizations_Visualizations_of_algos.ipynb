{
 "cells": [
  {
   "cell_type": "code",
   "execution_count": 1,
   "metadata": {},
   "outputs": [],
   "source": [
    "%matplotlib notebook\n",
    "import matplotlib\n",
    "import matplotlib.pyplot as plt\n",
    "import matplotlib.animation as animation\n",
    "import numpy as np\n",
    "import random\n",
    "from random import shuffle\n",
    "import math"
   ]
  },
  {
   "cell_type": "code",
   "execution_count": 2,
   "metadata": {},
   "outputs": [],
   "source": [
    "# You need to change the backend to store the files. So the backend is changed to Agg\n",
    "matplotlib.use(\"Agg\")\n",
    "\n",
    "# Download and install ImageMagick from here.\n",
    "\"\"\"https://imagemagick.org/script/download.php#windows\"\"\"\n",
    "\n",
    "Writer = animation.writers['imagemagick']\n",
    "writer = Writer(fps=15, metadata=dict(artist='Somil'), bitrate=1800)"
   ]
  },
  {
   "cell_type": "markdown",
   "metadata": {},
   "source": [
    "### Searching Algorithms\n",
    "\n",
    "#### Note: Only Linear Search works on any array, rest work in a sorted array\n",
    "\n",
    "### Linear Search"
   ]
  },
  {
   "cell_type": "code",
   "execution_count": 16,
   "metadata": {},
   "outputs": [],
   "source": [
    "# Linear Search Algorithm\n",
    "def linear_search(a,n):\n",
    "    ims = []\n",
    "    b = [i for i in range(len(a))]\n",
    "    for i in range(len(a)):\n",
    "        # If element == key\n",
    "        if(a[i] == n):\n",
    "            #Used for storing the plots inside ims. In fancier terms, called as Artist objects.\n",
    "            im = plt.bar(b,a,color='#4a148c', width = 0.7)\n",
    "            im[i].set_color('#ff8f00')\n",
    "            ims.append(im)\n",
    "            break\n",
    "        else:\n",
    "            im = plt.bar(b,a,color='#4a148c', width = 0.7)\n",
    "            im[i].set_color('#ff8f00')\n",
    "            ims.append(im)\n",
    "            \n",
    "    return ims"
   ]
  },
  {
   "cell_type": "code",
   "execution_count": 22,
   "metadata": {},
   "outputs": [],
   "source": [
    "# Create a blank figure where your plots will show up\n",
    "fig = plt.figure()\n",
    "ax = fig.add_subplot(1,1,1)\n",
    "ax.set_title(\"15 FPS  Linear Search  Elements:100\")\n",
    "a = [i for i in range(100)]\n",
    "n = 87\n",
    "ims = linear_search(a,n)\n",
    "\n",
    "# Module that handles the animation\n",
    "im_ani = animation.ArtistAnimation(fig, ims, interval=100, repeat=True,repeat_delay = 1000,blit=True)\n",
    "\n",
    "# To save this second animation with some metadata, use the following command:\n",
    "im_ani.save('lines.mp4', writer=writer)"
   ]
  },
  {
   "cell_type": "markdown",
   "metadata": {},
   "source": [
    "### I've added codes for Binary Search and Interpolation search. But they're so fast, the frames are not enough to create an animation"
   ]
  },
  {
   "cell_type": "code",
   "execution_count": 18,
   "metadata": {},
   "outputs": [],
   "source": [
    "def binary_search(a,n):\n",
    "    b = [i for i in range(len(a))]\n",
    "    ims = []\n",
    "    beg = 0\n",
    "    length = len(a)\n",
    "    end = length - 1\n",
    "    while(beg<=end):\n",
    "        mid = int((beg+end)/2)\n",
    "        if n == a[mid]:\n",
    "            im = plt.bar(b,a,color='blue')\n",
    "            im[mid].set_color('red')\n",
    "            plt.title(\"{} Found\".format(n))\n",
    "            ims.append(im)\n",
    "            break\n",
    "        elif n>a[mid]:\n",
    "            im = plt.bar(b,a,color='blue')\n",
    "            im[mid].set_color('red')\n",
    "            ims.append(im)\n",
    "            beg = mid + 1\n",
    "        elif n<a[mid]:\n",
    "            im = plt.bar(b,a,color='blue')\n",
    "            im[mid].set_color('red')\n",
    "            ims.append(im)\n",
    "            end = mid - 1\n",
    "            \n",
    "    return ims"
   ]
  },
  {
   "cell_type": "code",
   "execution_count": 19,
   "metadata": {},
   "outputs": [],
   "source": [
    "def interpolation_search(a,n):\n",
    "    b = [i for i in range(len(a))]\n",
    "    beg = 0\n",
    "    length = len(a)\n",
    "    end = length - 1\n",
    "    ims =[]\n",
    "    while beg<=end:\n",
    "        mid = beg + int((end - beg)*(n-a[beg])/(a[end]-a[beg]))\n",
    "        print(mid)\n",
    "        if a[mid] == n:\n",
    "            print(\"Found at {}\".format(mid))\n",
    "            im = plt.bar(b,a,color='blue')\n",
    "            im[mid].set_color('red')\n",
    "            plt.title(\"{} Found at location {}\".format(n,mid))\n",
    "            ims.append(im)\n",
    "            break\n",
    "        elif n>a[mid]:\n",
    "            beg = mid + 1\n",
    "            im = plt.bar(b,a,color='blue')\n",
    "            im[mid].set_color('red')\n",
    "            ims.append(im)\n",
    "        else:\n",
    "            end = mid - 1\n",
    "            im = plt.bar(b,a,color='blue')\n",
    "            im[mid].set_color('red')\n",
    "            ims.append(im)\n",
    "    return ims\n",
    "    "
   ]
  },
  {
   "cell_type": "markdown",
   "metadata": {},
   "source": [
    "## Sorting Algorithms\n",
    "\n",
    "## Bubble Sort"
   ]
  },
  {
   "cell_type": "code",
   "execution_count": 20,
   "metadata": {},
   "outputs": [],
   "source": [
    "def bubble_sort(a):\n",
    "    ims = []\n",
    "    n = len(a)\n",
    "    b = [i for i in range(n)]\n",
    "    for i in range(0,n):\n",
    "        for j in range(0,n-i-1):\n",
    "            if a[j]>a[j+1]:\n",
    "                a[j],a[j+1] = a[j+1],a[j]\n",
    "                im = plt.bar(b,a,color=\"#6a1b9a\")\n",
    "                ims.append(im)\n",
    "                \n",
    "    print(a)           \n",
    "    return ims"
   ]
  },
  {
   "cell_type": "code",
   "execution_count": 24,
   "metadata": {},
   "outputs": [
    {
     "name": "stdout",
     "output_type": "stream",
     "text": [
      "[0, 1, 2, 3, 4, 5, 6, 7, 8, 9, 10, 11, 12, 13, 14, 15, 16, 17, 18, 19, 20, 21, 22, 23, 24, 25, 26, 27, 28, 29]\n"
     ]
    }
   ],
   "source": [
    "a = [i for i in range(30)]\n",
    "shuffle(a)\n",
    "fig2 = plt.figure()\n",
    "ax = fig2.add_subplot(1,1,1)\n",
    "ax.set_title(\"15 FPS   Bubble Sort  Elements:30\")\n",
    "ims = bubble_sort(a)\n",
    "anim = animation.ArtistAnimation(fig2,ims,interval=20,repeat=True,blit=True)\n",
    "anim.save('bubble_sort.mp4', writer=writer)"
   ]
  },
  {
   "cell_type": "markdown",
   "metadata": {},
   "source": [
    "## Insertion Sort"
   ]
  },
  {
   "cell_type": "code",
   "execution_count": 3,
   "metadata": {},
   "outputs": [],
   "source": [
    "def insertion_sort(a):\n",
    "    n = len(a)\n",
    "    ims = []\n",
    "    b = [i for i in range(n)]\n",
    "    for i in range(1,n):\n",
    "        temp = a[i]\n",
    "        j = i - 1\n",
    "        while a[j]>temp and j>=0:\n",
    "            a[j+1] = a[j]\n",
    "            j -= 1\n",
    "        a[j+1] = temp\n",
    "        im = plt.bar(b,a,color=\"#6a1b9a\")\n",
    "        ims.append(im)\n",
    "    \n",
    "    print(a,len(ims))\n",
    "    return ims"
   ]
  },
  {
   "cell_type": "code",
   "execution_count": 4,
   "metadata": {},
   "outputs": [
    {
     "name": "stdout",
     "output_type": "stream",
     "text": [
      "[0, 1, 2, 3, 4, 5, 6, 7, 8, 9, 10, 11, 12, 13, 14, 15, 16, 17, 18, 19, 20, 21, 22, 23, 24, 25, 26, 27, 28, 29] 29\n"
     ]
    }
   ],
   "source": [
    "fig = plt.figure()\n",
    "ax = fig.add_subplot(1,1,1)\n",
    "ax.set_title(\"15 FPS   Insertion Sort  Elements:30\")\n",
    "\n",
    "a = [i for i in range(30)]\n",
    "shuffle(a)\n",
    "ims = insertion_sort(a)\n",
    "\n",
    "anim = animation.ArtistAnimation(fig,ims,interval=100,repeat=True)\n",
    "anim.save(\"insertion_sort.mp4\",writer=writer)\n",
    "# plt.show()"
   ]
  },
  {
   "cell_type": "markdown",
   "metadata": {},
   "source": [
    "## Selection Sort"
   ]
  },
  {
   "cell_type": "code",
   "execution_count": 6,
   "metadata": {},
   "outputs": [],
   "source": [
    "def smallest(a,k,n):\n",
    "    posi = k\n",
    "    small = a[k]\n",
    "    for i in range(k+1,n):\n",
    "        if small > a[i]:\n",
    "            small = a[i]\n",
    "            posi = i\n",
    "    return posi\n",
    "    \n",
    "def selection_sort(a):\n",
    "    n = len(a)\n",
    "    ims = []\n",
    "    b = [i for i in range(n)]\n",
    "    for i in range(n):\n",
    "        pos = smallest(a,i,n)\n",
    "        \n",
    "        a[pos],a[i] = a[i],a[pos]\n",
    "        \n",
    "        im = plt.bar(b,a,color=\"#6a1b9a\")\n",
    "        ims.append(im)\n",
    "        \n",
    "    return ims"
   ]
  },
  {
   "cell_type": "code",
   "execution_count": 7,
   "metadata": {},
   "outputs": [],
   "source": [
    "a = [i for i in range(30)]\n",
    "shuffle(a)\n",
    "\n",
    "fig = plt.figure()\n",
    "ax = fig.add_subplot(1,1,1)\n",
    "ims = selection_sort(a)\n",
    "\n",
    "plt.title(\"15 FPS Selection Sort Elements:30\")\n",
    "anim = animation.ArtistAnimation(fig,ims,interval=1000,repeat=True)\n",
    "\n",
    "anim.save(\"selection_sort.mp4\",writer=writer)"
   ]
  },
  {
   "cell_type": "markdown",
   "metadata": {},
   "source": [
    "### To be added:\n",
    "\n",
    "#### Merge Sort, Heap Sort, Shell Sort etc.\n",
    "#### More algorithms to be added soon.."
   ]
  }
 ],
 "metadata": {
  "kernelspec": {
   "display_name": "Python 3",
   "language": "python",
   "name": "python3"
  },
  "language_info": {
   "codemirror_mode": {
    "name": "ipython",
    "version": 3
   },
   "file_extension": ".py",
   "mimetype": "text/x-python",
   "name": "python",
   "nbconvert_exporter": "python",
   "pygments_lexer": "ipython3",
   "version": "3.5.4"
  }
 },
 "nbformat": 4,
 "nbformat_minor": 2
}
