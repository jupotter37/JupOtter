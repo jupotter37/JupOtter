{
 "cells": [
  {
   "cell_type": "markdown",
   "metadata": {},
   "source": [
    "# MSDS-432: Module 5 - Exploring Hashing  \n",
    "Jason Adam  \n",
    "\n",
    "## Imports"
   ]
  },
  {
   "cell_type": "code",
   "execution_count": 108,
   "metadata": {},
   "outputs": [
    {
     "name": "stdout",
     "output_type": "stream",
     "text": [
      "The blackcellmagic extension is already loaded. To reload it, use:\n",
      "  %reload_ext blackcellmagic\n"
     ]
    }
   ],
   "source": [
    "import functools\n",
    "from math import floor\n",
    "import random\n",
    "import string\n",
    "import time\n",
    "from typing import Tuple\n",
    "\n",
    "import matplotlib.pyplot as plt\n",
    "import numpy as np\n",
    "import pandas as pd\n",
    "\n",
    "%load_ext blackcellmagic"
   ]
  },
  {
   "cell_type": "code",
   "execution_count": 109,
   "metadata": {},
   "outputs": [],
   "source": [
    "class TimeFunc:\n",
    "    \"\"\"Decorator to return run time of function in seconds.\"\"\"\n",
    "    def __init__(self, func):\n",
    "        functools.update_wrapper(self, func)\n",
    "        self.func = func\n",
    "        self.func_time = 0\n",
    "        \n",
    "    def __call__(self, *args, **kwargs):\n",
    "        start_time = time.perf_counter()\n",
    "        result = self.func(*args, **kwargs)\n",
    "        end_time = time.perf_counter()\n",
    "        run_time = end_time - start_time\n",
    "        self.func_time = run_time\n",
    "        return result\n",
    "\n",
    "\n",
    "# Define Quicksort\n",
    "@TimeFunc\n",
    "def quick_sort(l: list) -> list:\n",
    "    \"\"\"Quicksort algorithm.\n",
    "    \n",
    "    Parameters\n",
    "    ----------\n",
    "    l: list\n",
    "        List of values to be sorted\n",
    "        \n",
    "    Returns\n",
    "    -------\n",
    "    list:\n",
    "        Sorted list\n",
    "    \"\"\"\n",
    "    if len(l) < 2:\n",
    "        return l\n",
    "    else:\n",
    "        pivot = l[0]\n",
    "        less: list = [i for i in l[1:] if i <= pivot]\n",
    "        greater: list = [i for i in l[1:] if i > pivot]\n",
    "        return quick_sort(less) + [pivot] + quick_sort(greater)\n",
    "\n",
    "    \n",
    "@TimeFunc\n",
    "def simple_search(sorted_array: list, item: str) -> Tuple[int, int]:\n",
    "    \"\"\"Perform a simple search on an array.\n",
    "    \n",
    "    Parameters\n",
    "    ----------\n",
    "    sorted_array: np.array\n",
    "        Sorted numpy array to be searched.\n",
    "    item: int\n",
    "        The value to search for in the array.\n",
    "        \n",
    "    Returns\n",
    "    -------\n",
    "    Tuple[int, int]\n",
    "        First value is the target item.\n",
    "        Second value is the number of steps to get\n",
    "        the target item.\n",
    "    \"\"\"\n",
    "    start = 0\n",
    "    steps = 0\n",
    "    while sorted_array[start] <= item:\n",
    "        guess = sorted_array[start]\n",
    "        if guess == item:\n",
    "            steps += 1\n",
    "            return start, steps\n",
    "        else:\n",
    "            steps += 1\n",
    "            start += 1\n",
    "    return None, None\n",
    "\n",
    "\n",
    "@TimeFunc\n",
    "def binary_search(sorted_array: list, item: str) -> Tuple[int, int]:\n",
    "    \"\"\"Perform Binary search on sorted array.\n",
    "    \n",
    "    Parameters\n",
    "    ----------\n",
    "    sorted_array: np.array\n",
    "        Sorted numpy array to be searched.\n",
    "    item: int\n",
    "        The value to search for in the array.\n",
    "        \n",
    "    Returns\n",
    "    -------\n",
    "    Tuple[int, int]\n",
    "        First value is the target item.\n",
    "        Second value is the number of steps to get\n",
    "        the target item.\n",
    "    \"\"\"\n",
    "    low: int = 0\n",
    "    high: int = len(sorted_array) - 1\n",
    "    steps: int = 0\n",
    "    while low <= high:\n",
    "        # Cut the list in half\n",
    "        mid: int = floor((low + high) / 2)\n",
    "        # Guess the midway point\n",
    "        guess: int = sorted_array[mid]\n",
    "        if guess == item:\n",
    "            steps += 1\n",
    "            return mid, steps\n",
    "        # If midway point is higher, make\n",
    "        # new high one less than mid-point\n",
    "        elif guess > item:\n",
    "            steps += 1\n",
    "            high = mid - 1\n",
    "        # If midway point lower, make\n",
    "        # new high one higher than mid-point\n",
    "        else:\n",
    "            steps += 1\n",
    "            low = mid + 1\n",
    "    return None, None\n"
   ]
  },
  {
   "cell_type": "markdown",
   "metadata": {},
   "source": [
    "## 1. Create Datasets  \n",
    "* Create a list of 100,000 names (randomly pick 10 characters e.g. abcdefghij, any order is fine, just make sure there are no duplicates in the name) and store those names in an unsorted list.  \n",
    "* Now store the above names in a set (https://docs.python.org/3.7/library/stdtypes.html ).  \n",
    "* Make a separate copy of the list and sort it using any sorting algorithm that you have learned so far and justify why are you using it. Capture the time it takes to sort the list."
   ]
  },
  {
   "cell_type": "code",
   "execution_count": 110,
   "metadata": {},
   "outputs": [],
   "source": [
    "random.seed(432)\n",
    "names: list = [\"\".join(random.choices(string.ascii_letters, k=10)) for _ in range(100000)]\n",
    "\n",
    "random.seed(432)\n",
    "names_unique: set = set(names)\n",
    "\n",
    "random.seed(432)\n",
    "names_sorted: list = quick_sort(names)\n",
    "\n",
    "ns_qs = quick_sort.func_time"
   ]
  },
  {
   "cell_type": "code",
   "execution_count": 111,
   "metadata": {},
   "outputs": [
    {
     "data": {
      "text/plain": [
       "['EIdPuKjPHI', 'AVlroLlIQX', 'ipLqUlPHfq', 'UYrVAuIpOP', 'LEwWcoEQht']"
      ]
     },
     "execution_count": 111,
     "metadata": {},
     "output_type": "execute_result"
    }
   ],
   "source": [
    "# Check Output - Unsorted\n",
    "names[0:5]"
   ]
  },
  {
   "cell_type": "code",
   "execution_count": 112,
   "metadata": {},
   "outputs": [
    {
     "name": "stdout",
     "output_type": "stream",
     "text": [
      "zYLNPofnMD\n",
      "SgrCfGVAll\n",
      "tnleXVRyaA\n",
      "TyjkEuDqlA\n",
      "RkfnUgTSFk\n"
     ]
    }
   ],
   "source": [
    "# Check Output - Set\n",
    "cnt = 0\n",
    "for i in names_unique:\n",
    "    if cnt == 5:\n",
    "        break\n",
    "    else:\n",
    "        print(i)\n",
    "        cnt += 1"
   ]
  },
  {
   "cell_type": "code",
   "execution_count": 113,
   "metadata": {},
   "outputs": [
    {
     "data": {
      "text/plain": [
       "['AADFLuZAlG', 'AAHNhpioaz', 'AAIApXFXRM', 'AAIBHDTwyN', 'AAIQeBxbGU']"
      ]
     },
     "execution_count": 113,
     "metadata": {},
     "output_type": "execute_result"
    }
   ],
   "source": [
    "# Check Output - Sorted\n",
    "names_sorted[0:5]"
   ]
  },
  {
   "cell_type": "markdown",
   "metadata": {},
   "source": [
    "I decided to use the quick sort algorithm as it was the most performant on arrays of random strings in the previous module."
   ]
  },
  {
   "cell_type": "markdown",
   "metadata": {},
   "source": [
    "## 2. Save Array Values  \n",
    "Pick the names from the unsorted array that are at 10,000th, 30,000th, 50,000th, 70,000th, 90,000th, and 100,000th positions, and store them in a temporary array somewhere for later use."
   ]
  },
  {
   "cell_type": "code",
   "execution_count": 114,
   "metadata": {},
   "outputs": [
    {
     "data": {
      "text/plain": [
       "['uftXjQTWqj',\n",
       " 'xfShFipKbI',\n",
       " 'YZpuwXehHO',\n",
       " 'VCVFSqBJXT',\n",
       " 'diIVlVBALv',\n",
       " 'HjsEnBmkcl']"
      ]
     },
     "execution_count": 114,
     "metadata": {},
     "output_type": "execute_result"
    }
   ],
   "source": [
    "picked_names: list = []\n",
    "idx = [10000, 30000, 50000, 70000, 90000, 100000]\n",
    "\n",
    "for i in idx:\n",
    "    picked_names.append(names[i-1])\n",
    "    \n",
    "picked_names"
   ]
  },
  {
   "cell_type": "markdown",
   "metadata": {},
   "source": [
    "## 3. Search for Names  \n",
    "Now search for these six names in each of the collections.  Use linear search for the unsorted list, binary search for the sorted list, and use the set.remove() (or the in keyword) builtin for the set.  Capture the time it takes using all three algorithms."
   ]
  },
  {
   "cell_type": "code",
   "execution_count": 115,
   "metadata": {},
   "outputs": [
    {
     "data": {
      "text/html": [
       "<div>\n",
       "<style scoped>\n",
       "    .dataframe tbody tr th:only-of-type {\n",
       "        vertical-align: middle;\n",
       "    }\n",
       "\n",
       "    .dataframe tbody tr th {\n",
       "        vertical-align: top;\n",
       "    }\n",
       "\n",
       "    .dataframe thead th {\n",
       "        text-align: right;\n",
       "    }\n",
       "</style>\n",
       "<table border=\"1\" class=\"dataframe\">\n",
       "  <thead>\n",
       "    <tr style=\"text-align: right;\">\n",
       "      <th></th>\n",
       "      <th>array_type</th>\n",
       "      <th>name</th>\n",
       "      <th>search_algo</th>\n",
       "      <th>search_time</th>\n",
       "    </tr>\n",
       "  </thead>\n",
       "  <tbody>\n",
       "    <tr>\n",
       "      <th>0</th>\n",
       "      <td>unsorted</td>\n",
       "      <td>uftXjQTWqj</td>\n",
       "      <td>simple_search</td>\n",
       "      <td>0.004142</td>\n",
       "    </tr>\n",
       "    <tr>\n",
       "      <th>1</th>\n",
       "      <td>sorted</td>\n",
       "      <td>uftXjQTWqj</td>\n",
       "      <td>binary_search</td>\n",
       "      <td>0.013902</td>\n",
       "    </tr>\n",
       "    <tr>\n",
       "      <th>2</th>\n",
       "      <td>set</td>\n",
       "      <td>uftXjQTWqj</td>\n",
       "      <td>set_remove</td>\n",
       "      <td>0.001197</td>\n",
       "    </tr>\n",
       "    <tr>\n",
       "      <th>3</th>\n",
       "      <td>unsorted</td>\n",
       "      <td>xfShFipKbI</td>\n",
       "      <td>simple_search</td>\n",
       "      <td>0.001882</td>\n",
       "    </tr>\n",
       "    <tr>\n",
       "      <th>4</th>\n",
       "      <td>sorted</td>\n",
       "      <td>xfShFipKbI</td>\n",
       "      <td>binary_search</td>\n",
       "      <td>0.009766</td>\n",
       "    </tr>\n",
       "    <tr>\n",
       "      <th>5</th>\n",
       "      <td>set</td>\n",
       "      <td>xfShFipKbI</td>\n",
       "      <td>set_remove</td>\n",
       "      <td>0.000488</td>\n",
       "    </tr>\n",
       "    <tr>\n",
       "      <th>6</th>\n",
       "      <td>unsorted</td>\n",
       "      <td>YZpuwXehHO</td>\n",
       "      <td>simple_search</td>\n",
       "      <td>0.000975</td>\n",
       "    </tr>\n",
       "    <tr>\n",
       "      <th>7</th>\n",
       "      <td>sorted</td>\n",
       "      <td>YZpuwXehHO</td>\n",
       "      <td>binary_search</td>\n",
       "      <td>0.011602</td>\n",
       "    </tr>\n",
       "    <tr>\n",
       "      <th>8</th>\n",
       "      <td>set</td>\n",
       "      <td>YZpuwXehHO</td>\n",
       "      <td>set_remove</td>\n",
       "      <td>0.000370</td>\n",
       "    </tr>\n",
       "    <tr>\n",
       "      <th>9</th>\n",
       "      <td>unsorted</td>\n",
       "      <td>VCVFSqBJXT</td>\n",
       "      <td>simple_search</td>\n",
       "      <td>0.000879</td>\n",
       "    </tr>\n",
       "    <tr>\n",
       "      <th>10</th>\n",
       "      <td>sorted</td>\n",
       "      <td>VCVFSqBJXT</td>\n",
       "      <td>binary_search</td>\n",
       "      <td>0.009242</td>\n",
       "    </tr>\n",
       "    <tr>\n",
       "      <th>11</th>\n",
       "      <td>set</td>\n",
       "      <td>VCVFSqBJXT</td>\n",
       "      <td>set_remove</td>\n",
       "      <td>0.000389</td>\n",
       "    </tr>\n",
       "    <tr>\n",
       "      <th>12</th>\n",
       "      <td>unsorted</td>\n",
       "      <td>diIVlVBALv</td>\n",
       "      <td>simple_search</td>\n",
       "      <td>0.000805</td>\n",
       "    </tr>\n",
       "    <tr>\n",
       "      <th>13</th>\n",
       "      <td>sorted</td>\n",
       "      <td>diIVlVBALv</td>\n",
       "      <td>binary_search</td>\n",
       "      <td>0.009624</td>\n",
       "    </tr>\n",
       "    <tr>\n",
       "      <th>14</th>\n",
       "      <td>set</td>\n",
       "      <td>diIVlVBALv</td>\n",
       "      <td>set_remove</td>\n",
       "      <td>0.000394</td>\n",
       "    </tr>\n",
       "    <tr>\n",
       "      <th>15</th>\n",
       "      <td>unsorted</td>\n",
       "      <td>HjsEnBmkcl</td>\n",
       "      <td>simple_search</td>\n",
       "      <td>0.000835</td>\n",
       "    </tr>\n",
       "    <tr>\n",
       "      <th>16</th>\n",
       "      <td>sorted</td>\n",
       "      <td>HjsEnBmkcl</td>\n",
       "      <td>binary_search</td>\n",
       "      <td>0.010444</td>\n",
       "    </tr>\n",
       "    <tr>\n",
       "      <th>17</th>\n",
       "      <td>set</td>\n",
       "      <td>HjsEnBmkcl</td>\n",
       "      <td>set_remove</td>\n",
       "      <td>0.000417</td>\n",
       "    </tr>\n",
       "  </tbody>\n",
       "</table>\n",
       "</div>"
      ],
      "text/plain": [
       "   array_type        name    search_algo  search_time\n",
       "0    unsorted  uftXjQTWqj  simple_search     0.004142\n",
       "1      sorted  uftXjQTWqj  binary_search     0.013902\n",
       "2         set  uftXjQTWqj     set_remove     0.001197\n",
       "3    unsorted  xfShFipKbI  simple_search     0.001882\n",
       "4      sorted  xfShFipKbI  binary_search     0.009766\n",
       "5         set  xfShFipKbI     set_remove     0.000488\n",
       "6    unsorted  YZpuwXehHO  simple_search     0.000975\n",
       "7      sorted  YZpuwXehHO  binary_search     0.011602\n",
       "8         set  YZpuwXehHO     set_remove     0.000370\n",
       "9    unsorted  VCVFSqBJXT  simple_search     0.000879\n",
       "10     sorted  VCVFSqBJXT  binary_search     0.009242\n",
       "11        set  VCVFSqBJXT     set_remove     0.000389\n",
       "12   unsorted  diIVlVBALv  simple_search     0.000805\n",
       "13     sorted  diIVlVBALv  binary_search     0.009624\n",
       "14        set  diIVlVBALv     set_remove     0.000394\n",
       "15   unsorted  HjsEnBmkcl  simple_search     0.000835\n",
       "16     sorted  HjsEnBmkcl  binary_search     0.010444\n",
       "17        set  HjsEnBmkcl     set_remove     0.000417"
      ]
     },
     "execution_count": 115,
     "metadata": {},
     "output_type": "execute_result"
    }
   ],
   "source": [
    "def search_names() -> pd.DataFrame:\n",
    "    times = {\n",
    "        \"array_type\": [],\n",
    "        \"name\": [],\n",
    "        \"search_algo\": [],\n",
    "        \"search_time\": [],\n",
    "    }\n",
    "\n",
    "    for name in picked_names:\n",
    "        # Simple Linear Search\n",
    "        simple_search(names, name)\n",
    "        times[\"array_type\"].append(\"unsorted\")\n",
    "        times[\"name\"].append(name)\n",
    "        times[\"search_algo\"].append(\"simple_search\")\n",
    "        times[\"search_time\"].append(simple_search.func_time * 1000)\n",
    "        # Binary Search\n",
    "        binary_search(names_sorted, name)\n",
    "        times[\"array_type\"].append(\"sorted\")\n",
    "        times[\"name\"].append(name)\n",
    "        times[\"search_algo\"].append(\"binary_search\")\n",
    "        times[\"search_time\"].append(binary_search.func_time * 1000)\n",
    "        # Set\n",
    "        start_time = time.perf_counter()\n",
    "        name in name_unique\n",
    "        end_time = time.perf_counter()\n",
    "        run_time = (end_time - start_time) * 1000\n",
    "        times[\"array_type\"].append(\"set\")\n",
    "        times[\"name\"].append(name)\n",
    "        times[\"search_algo\"].append(\"set_remove\")\n",
    "        times[\"search_time\"].append(run_time)\n",
    "\n",
    "    return pd.DataFrame(times)\n",
    "\n",
    "\n",
    "df = search_names()\n",
    "df"
   ]
  },
  {
   "cell_type": "markdown",
   "metadata": {},
   "source": [
    "## 4. Compare Times  \n",
    "Create a table and plot comparing times of linear search, binary search and set lookup for the six names using Python (matplotlib or Seaborn) or JavaScript (D3) visualization tools to illustrate algorithm performance."
   ]
  },
  {
   "cell_type": "code",
   "execution_count": 116,
   "metadata": {},
   "outputs": [
    {
     "data": {
      "text/html": [
       "<div>\n",
       "<style scoped>\n",
       "    .dataframe tbody tr th:only-of-type {\n",
       "        vertical-align: middle;\n",
       "    }\n",
       "\n",
       "    .dataframe tbody tr th {\n",
       "        vertical-align: top;\n",
       "    }\n",
       "\n",
       "    .dataframe thead th {\n",
       "        text-align: right;\n",
       "    }\n",
       "</style>\n",
       "<table border=\"1\" class=\"dataframe\">\n",
       "  <thead>\n",
       "    <tr style=\"text-align: right;\">\n",
       "      <th></th>\n",
       "      <th>search_algo</th>\n",
       "      <th>search_time</th>\n",
       "    </tr>\n",
       "  </thead>\n",
       "  <tbody>\n",
       "    <tr>\n",
       "      <th>0</th>\n",
       "      <td>binary_search</td>\n",
       "      <td>0.010763</td>\n",
       "    </tr>\n",
       "    <tr>\n",
       "      <th>1</th>\n",
       "      <td>set_remove</td>\n",
       "      <td>0.000542</td>\n",
       "    </tr>\n",
       "    <tr>\n",
       "      <th>2</th>\n",
       "      <td>simple_search</td>\n",
       "      <td>0.001586</td>\n",
       "    </tr>\n",
       "  </tbody>\n",
       "</table>\n",
       "</div>"
      ],
      "text/plain": [
       "     search_algo  search_time\n",
       "0  binary_search     0.010763\n",
       "1     set_remove     0.000542\n",
       "2  simple_search     0.001586"
      ]
     },
     "execution_count": 116,
     "metadata": {},
     "output_type": "execute_result"
    }
   ],
   "source": [
    "summarized_df = (\n",
    "    df.groupby([\"search_algo\"])\n",
    "    .agg(search_time=pd.NamedAgg(\"search_time\", \"mean\"))\n",
    "    .reset_index()\n",
    ")\n",
    "\n",
    "summarized_df"
   ]
  },
  {
   "cell_type": "code",
   "execution_count": 118,
   "metadata": {},
   "outputs": [
    {
     "data": {
      "text/plain": [
       "<matplotlib.axes._subplots.AxesSubplot at 0x122551390>"
      ]
     },
     "execution_count": 118,
     "metadata": {},
     "output_type": "execute_result"
    },
    {
     "data": {
      "image/png": "[encoded data removed]",
      "text/plain": [
       "<Figure size 720x360 with 1 Axes>"
      ]
     },
     "metadata": {
      "needs_background": "light"
     },
     "output_type": "display_data"
    }
   ],
   "source": [
    "summarized_df.plot.bar(\n",
    "    x=\"search_algo\",\n",
    "    y=\"search_time\",\n",
    "    figsize=(10, 5),\n",
    "    title=\"Average Search Time Comparison\",\n",
    ")"
   ]
  },
  {
   "cell_type": "markdown",
   "metadata": {},
   "source": [
    "## Executive Summary  \n",
    "Sets in python are implemented as hash maps which explains their lightning fast search speeds. I was previously unaware that this is how sets performed. I would definitely recommend utilizing sets in the future for quickly searching if a value exists at least once in a list of items. Converting a list to a set keeps only unique values, and we can quickly apply a lookup based on the hashed value. All hash functions have an average time complexity of $O(1)$ for searching, inserting, and deleting. This becomes extremely useful if our application has a need for extremely fast response times. It is inefficient to loop over a large list to find a value when we can convert it to a hash map and perform the lookup in near constant time. Our organization needs to ensure that we are using a hashing algorithm that reduces our chances of collisions (two different values hasing to same value). Fortunately for us, this is taken care of under the hood by python.  \n",
    "\n",
    "There are many practial applications that our company can utilize this fast lookup. Our website could utilize hash maps to cache search results by our users so that they can be served quickly on subsequent searches. We can also utilize hash maps to prevent duplicate entries. If a new user is registering with our website, can search a hash map for the email address provided to quickly let the user know if an account already exists.\n",
    "\n",
    "On a personal note, even though I used random seeds, I was getting some weird results when re-running my cell blocks. I can't quite figure out why my average search time on Binary Search was greater than the linear search???  I triple-checked my code, and I can't explain why the binary search on a sorted list performed worse than the linear search on an unsorted list.\n",
    "\n",
    "### Reference  \n",
    "[1] Bhargava, A. Y. (2016). Grokking algorithms: An illustrated guide for programmers and other curious people."
   ]
  }
 ],
 "metadata": {
  "kernelspec": {
   "display_name": "msds-432",
   "language": "python",
   "name": "msds-432"
  },
  "language_info": {
   "codemirror_mode": {
    "name": "ipython",
    "version": 3
   },
   "file_extension": ".py",
   "mimetype": "text/x-python",
   "name": "python",
   "nbconvert_exporter": "python",
   "pygments_lexer": "ipython3",
   "version": "3.8.3"
  }
 },
 "nbformat": 4,
 "nbformat_minor": 4
}
