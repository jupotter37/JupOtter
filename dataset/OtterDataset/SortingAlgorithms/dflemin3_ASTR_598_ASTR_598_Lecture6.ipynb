{
 "cells": [
  {
   "cell_type": "code",
   "execution_count": 1,
   "metadata": {
    "collapsed": true
   },
   "outputs": [],
   "source": [
    "# to be python 3 compatitible\n",
    "from __future__ import print_function, division\n",
    "\n",
    "import numpy as np\n",
    "import math"
   ]
  },
  {
   "cell_type": "markdown",
   "metadata": {},
   "source": [
    "# Mergesort Notes:\n",
    "\n",
    "- Mergesort ( O(NlogN))\n",
    "    - divide and conquer\n",
    "    - break down data structure into parts like a binary tree, then combine two, repeat up the tree until done\n",
    "    - a recursive algorithm\n",
    "    - good for datasets that are so huge, you can't fit them into memory (external sort)\n",
    "    - easily parallizable (sort little arrays on different cores)\n",
    "    - For comparing 2 arrays, a and b, you compare values to insert into 3rd array, c\n",
    "        - When you pull value from b, let's say b[0] < a[0], insert b[0] into c[0] then \n",
    "          you only increment b so next comparison is a[0] vs b[1] and so on\n",
    "    - Arrays don't have to be same length so if len(a) < len(b) and you've gone through all\n",
    "      of a, just insert rest of b to c"
   ]
  },
  {
   "cell_type": "markdown",
   "metadata": {},
   "source": [
    "# Stable sort notes:\n",
    "\n",
    "- If unsorted equal keys are ordered in a certain way, in a sorted list, their order would be preserved\n",
    "\n",
    "> Stable sorting algorithms maintain the relative order of records with equal keys (i.e. values). That is, a sorting algorithm is stable if whenever there are two records R and S with the same key and with R appearing before S in the original list, R will appear before S in the sorted list.\n",
    "\n",
    "- Mergesort is stable, heapsort is not!"
   ]
  },
  {
   "cell_type": "code",
   "execution_count": 43,
   "metadata": {
    "collapsed": false
   },
   "outputs": [],
   "source": [
    "def sort(a, low, high):\n",
    "    # Base case\n",
    "    if(high <= low):\n",
    "        return\n",
    "    \n",
    "    # Find the midpoint, then recursively sort\n",
    "    mid = low + int((high - low)/2)\n",
    "    sort(a, low, mid) # Sort left half\n",
    "    sort(a, mid+1, high) # Sort right half\n",
    "    \n",
    "    # Merge sorted low, high arrays\n",
    "    merge(a, low, mid, high)\n",
    "\n",
    "def merge(a, low, mid, high):\n",
    "    i = low\n",
    "    j = mid+1\n",
    "    k = i\n",
    "    \n",
    "    # Make a copy\n",
    "    aux = np.copy(a)\n",
    "    for k in range(low,high+1):\n",
    "        aux[k] = a[k]\n",
    "    \n",
    "    k = low\n",
    "    while(k <= high):\n",
    "        while((i <= mid) and (j <= high)):\n",
    "            if(aux[j] < aux[i]):\n",
    "                a[k] = aux[j]\n",
    "                j += 1\n",
    "                k += 1\n",
    "            else:\n",
    "                a[k] = aux[i]\n",
    "                i += 1\n",
    "                k += 1\n",
    "                \n",
    "        # Whichever is smaller array, copy it\n",
    "        while(i <= mid):\n",
    "            a[k] = aux[i]\n",
    "            i += 1\n",
    "            k += 1\n",
    "        while(j <= high):\n",
    "            a[k] = aux[j]\n",
    "            j += 1\n",
    "            k += 1\n",
    "            \n",
    "# Given an array a, sort it\n",
    "def mergesort(a):\n",
    "    sort(a,0,len(a)-1)\n",
    "    return a"
   ]
  },
  {
   "cell_type": "code",
   "execution_count": 46,
   "metadata": {
    "collapsed": false
   },
   "outputs": [],
   "source": [
    "a = np.random.rand(100)"
   ]
  },
  {
   "cell_type": "code",
   "execution_count": 47,
   "metadata": {
    "collapsed": false
   },
   "outputs": [
    {
     "data": {
      "text/plain": [
       "array([ 0.00272634,  0.0049886 ,  0.01742638,  0.01784453,  0.01972677,\n",
       "        0.0235347 ,  0.04052631,  0.05331865,  0.05400771,  0.06961595,\n",
       "        0.07164316,  0.07492515,  0.08549269,  0.08699997,  0.12726503,\n",
       "        0.13906317,  0.1559153 ,  0.1653172 ,  0.17724903,  0.18959856,\n",
       "        0.20101094,  0.20294481,  0.20983713,  0.21271444,  0.23125667,\n",
       "        0.25156994,  0.25364435,  0.26295128,  0.28823128,  0.31253649,\n",
       "        0.32837534,  0.32925827,  0.33397954,  0.34725975,  0.35676151,\n",
       "        0.37463226,  0.38880115,  0.3905468 ,  0.39567493,  0.40458879,\n",
       "        0.4048306 ,  0.40667194,  0.41350048,  0.4186292 ,  0.41874634,\n",
       "        0.42166253,  0.43166989,  0.43696667,  0.43930092,  0.44082798,\n",
       "        0.45710412,  0.4607769 ,  0.46552896,  0.46741871,  0.46770085,\n",
       "        0.47468981,  0.49156564,  0.49711307,  0.52657726,  0.52705555,\n",
       "        0.54245   ,  0.56805785,  0.57064109,  0.57159949,  0.57681374,\n",
       "        0.58557745,  0.60720722,  0.65448693,  0.65491653,  0.66019119,\n",
       "        0.67212255,  0.6800991 ,  0.68623258,  0.70848432,  0.72708568,\n",
       "        0.72740608,  0.76030137,  0.76782693,  0.76969333,  0.77710049,\n",
       "        0.78918107,  0.79026474,  0.79372393,  0.83884929,  0.84488055,\n",
       "        0.84585309,  0.84622902,  0.86398188,  0.86530086,  0.87674072,\n",
       "        0.88193975,  0.89056499,  0.89248986,  0.91844391,  0.9357574 ,\n",
       "        0.97306479,  0.97606337,  0.97885554,  0.99286489,  0.9936141 ])"
      ]
     },
     "execution_count": 47,
     "metadata": {},
     "output_type": "execute_result"
    }
   ],
   "source": [
    "mergesort(a)"
   ]
  },
  {
   "cell_type": "code",
   "execution_count": null,
   "metadata": {
    "collapsed": true
   },
   "outputs": [],
   "source": []
  },
  {
   "cell_type": "code",
   "execution_count": null,
   "metadata": {
    "collapsed": true
   },
   "outputs": [],
   "source": []
  }
 ],
 "metadata": {
  "kernelspec": {
   "display_name": "Python 2",
   "language": "python",
   "name": "python2"
  },
  "language_info": {
   "codemirror_mode": {
    "name": "ipython",
    "version": 2
   },
   "file_extension": ".py",
   "mimetype": "text/x-python",
   "name": "python",
   "nbconvert_exporter": "python",
   "pygments_lexer": "ipython2",
   "version": "2.7.11"
  }
 },
 "nbformat": 4,
 "nbformat_minor": 0
}
