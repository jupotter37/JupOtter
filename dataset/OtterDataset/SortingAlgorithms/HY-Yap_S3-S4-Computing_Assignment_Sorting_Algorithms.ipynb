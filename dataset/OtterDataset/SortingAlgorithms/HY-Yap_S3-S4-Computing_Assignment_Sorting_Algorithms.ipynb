{
 "cells": [
  {
   "cell_type": "markdown",
   "metadata": {},
   "source": [
    "# Assignment - [A03] Sorting Algorithms"
   ]
  },
  {
   "cell_type": "markdown",
   "metadata": {},
   "source": [
    "## Question 1\n",
    "### Bubble Sort\n",
    "\n",
    "Implement the **bubble sort** algorithm, which accepts a `list` as input and returns a `string`. This `string` should include the initial values of the list, followed by the updated list after each **outer iteration**, with each iteration separated by a newline character (\"`\\n`\").\n",
    "\n",
    "Refer to the example below for your reference before attempting the following questions."
   ]
  },
  {
   "cell_type": "code",
   "execution_count": 27,
   "metadata": {},
   "outputs": [
    {
     "name": "stdout",
     "output_type": "stream",
     "text": [
      "[3, 2, 1]\n",
      "[2, 1, 3]\n",
      "[1, 2, 3]\n",
      "[1, 2, 3]\n",
      "\n",
      "[3, 1, 2, 4]\n",
      "[1, 2, 3, 4]\n",
      "[1, 2, 3, 4]\n",
      "[1, 2, 3, 4]\n",
      "[1, 2, 3, 4]\n",
      "\n",
      "True\n",
      "True\n"
     ]
    }
   ],
   "source": [
    "def bubble_sort(lst):\n",
    "    result = str(lst) + \"\\n\"\n",
    "    for i in range(len(lst)):\n",
    "        for j in range(len(lst) - 1):\n",
    "            if lst[j] > lst[j + 1]:\n",
    "                lst[j], lst[j + 1] = lst[j + 1], lst[j]\n",
    "        result += str(lst) + \"\\n\"\n",
    "    return result\n",
    "    \n",
    "# test cases\n",
    "result_01 = bubble_sort([3, 2, 1])\n",
    "print(result_01)\n",
    "expected_01 = \"\"\"\n",
    "[3, 2, 1]\n",
    "[2, 1, 3]\n",
    "[1, 2, 3]\n",
    "[1, 2, 3]\n",
    "\"\"\"[1:]\n",
    "\n",
    "result_02 = bubble_sort([3, 1, 2, 4])\n",
    "print(result_02)\n",
    "expected_02 = \"\"\"\n",
    "[3, 1, 2, 4]\n",
    "[1, 2, 3, 4]\n",
    "[1, 2, 3, 4]\n",
    "[1, 2, 3, 4]\n",
    "[1, 2, 3, 4]\n",
    "\"\"\"[1:]\n",
    "\n",
    "print(result_01 == expected_01)\n",
    "print(result_02 == expected_02)\n"
   ]
  },
  {
   "cell_type": "markdown",
   "metadata": {},
   "source": [
    "## Question 2\n",
    "### Optimized Bubble Sort\n",
    "\n",
    "Implement the **optimized bubble sort** algorithm, which accepts a `list` as input and returns a `string`. This `string` should include the initial values of the list, followed by the updated list after each **outer iteration**, with each iteration separated by a newline character (\"`\\n`\")."
   ]
  },
  {
   "cell_type": "code",
   "execution_count": 32,
   "metadata": {},
   "outputs": [
    {
     "name": "stdout",
     "output_type": "stream",
     "text": [
      "[3, 2, 1]\n",
      "[2, 1, 3]\n",
      "[1, 2, 3]\n",
      "[1, 2, 3]\n",
      "\n",
      "[3, 1, 2, 4]\n",
      "[1, 2, 3, 4]\n",
      "[1, 2, 3, 4]\n",
      "\n",
      "True\n",
      "True\n"
     ]
    }
   ],
   "source": [
    "def opt_bs(lst):\n",
    "    result = str(lst) + \"\\n\"\n",
    "    for i in range(len(lst) - 1):\n",
    "        swapped = False\n",
    "        for j in range(len(lst) - i - 1):\n",
    "            if lst[j] > lst[j + 1]:\n",
    "                lst[j], lst[j + 1] = lst[j + 1], lst[j]\n",
    "                swapped = True\n",
    "        if not swapped:\n",
    "            break\n",
    "        result += str(lst) + \"\\n\"\n",
    "    \n",
    "    result += str(lst) + \"\\n\"\n",
    "    return result\n",
    "\n",
    "# test cases\n",
    "result_01 = opt_bs([3, 2, 1])\n",
    "print(result_01)\n",
    "expected_01 = \"\"\"\n",
    "[3, 2, 1]\n",
    "[2, 1, 3]\n",
    "[1, 2, 3]\n",
    "[1, 2, 3]\n",
    "\"\"\"[1:]\n",
    "\n",
    "result_02 = opt_bs([3, 1, 2, 4])\n",
    "print(result_02)\n",
    "expected_02 = \"\"\"\n",
    "[3, 1, 2, 4]\n",
    "[1, 2, 3, 4]\n",
    "[1, 2, 3, 4]\n",
    "\"\"\"[1:]\n",
    "\n",
    "print(result_01 == expected_01)\n",
    "print(result_02 == expected_02)\n"
   ]
  },
  {
   "cell_type": "markdown",
   "metadata": {},
   "source": [
    "## Question 3\n",
    "### Insertion sort\n",
    "\n",
    "Implement the **insertion** sort algorithm, which accepts a `list` as input and returns a `string`. This `string` should include the initial values of the list, followed by the updated list after each **outer iteration**, with each iteration separated by a newline character (\"`\\n`\")."
   ]
  },
  {
   "cell_type": "code",
   "execution_count": 40,
   "metadata": {},
   "outputs": [
    {
     "name": "stdout",
     "output_type": "stream",
     "text": [
      "[3, 2, 1]\n",
      "[2, 3, 1]\n",
      "[1, 2, 3]\n",
      "\n",
      "[3, 1, 2, 4]\n",
      "[1, 3, 2, 4]\n",
      "[1, 2, 3, 4]\n",
      "[1, 2, 3, 4]\n",
      "\n",
      "True\n",
      "True\n"
     ]
    }
   ],
   "source": [
    "def insertion_sort(lst):\n",
    "    result = str(lst) + \"\\n\"\n",
    "    for i in range(1, len(lst)):\n",
    "        curr = lst[i]\n",
    "        j = i-1\n",
    "        while j >= 0 and curr < lst[j]:\n",
    "            lst[j+1] = lst[j]\n",
    "            j -= 1\n",
    "        lst[j+1] = curr\n",
    "        result += str(lst) + \"\\n\"\n",
    "    return result\n",
    "\n",
    "# test cases\n",
    "result_01 = insertion_sort([3, 2, 1])\n",
    "print(result_01)\n",
    "expected_01 = \"\"\"\n",
    "[3, 2, 1]\n",
    "[2, 3, 1]\n",
    "[1, 2, 3]\n",
    "\"\"\"[1:]\n",
    "\n",
    "result_02 = insertion_sort([3, 1, 2, 4])\n",
    "print(result_02)\n",
    "expected_02 = \"\"\"\n",
    "[3, 1, 2, 4]\n",
    "[1, 3, 2, 4]\n",
    "[1, 2, 3, 4]\n",
    "[1, 2, 3, 4]\n",
    "\"\"\"[1:]\n",
    "\n",
    "print(result_01 == expected_01)\n",
    "print(result_02 == expected_02)\n"
   ]
  },
  {
   "cell_type": "markdown",
   "metadata": {},
   "source": [
    "## Question 4\n",
    "### Selection sort\n",
    "\n",
    "Implement the **selection sort** algorithm, which accepts a `list` as input and returns a `string`. This `string` should include the initial values of the list, followed by the updated list after each **outer iteration**, with each iteration separated by a newline character (\"`\\n`\")."
   ]
  },
  {
   "cell_type": "code",
   "execution_count": 42,
   "metadata": {},
   "outputs": [
    {
     "name": "stdout",
     "output_type": "stream",
     "text": [
      "[3, 2, 1]\n",
      "[1, 2, 3]\n",
      "[1, 2, 3]\n",
      "[1, 2, 3]\n",
      "\n",
      "[3, 1, 2, 4]\n",
      "[1, 3, 2, 4]\n",
      "[1, 2, 3, 4]\n",
      "[1, 2, 3, 4]\n",
      "[1, 2, 3, 4]\n",
      "\n",
      "True\n",
      "True\n"
     ]
    }
   ],
   "source": [
    "def selection_sort(lst):\n",
    "    result = str(lst) + \"\\n\"\n",
    "    # your code here\n",
    "    for i in range(len(lst)-1):\n",
    "        # find smallest value\n",
    "        min_index = i\n",
    "        for j in range(i+1, len(lst)):\n",
    "            if lst[j] < lst[min_index]:\n",
    "                min_index = j\n",
    "        # swap\n",
    "        lst[i], lst[min_index] = lst[min_index], lst[i]\n",
    "        result += str(lst) + \"\\n\"\n",
    "    result += str(lst) + \"\\n\"\n",
    "    return result\n",
    "\n",
    "# test cases\n",
    "result_01 = selection_sort([3, 2, 1])\n",
    "print(result_01)\n",
    "expected_01 = \"\"\"\n",
    "[3, 2, 1]\n",
    "[1, 2, 3]\n",
    "[1, 2, 3]\n",
    "[1, 2, 3]\n",
    "\"\"\"[1:]\n",
    "\n",
    "result_02 = selection_sort([3, 1, 2, 4])\n",
    "print(result_02)\n",
    "expected_02 = \"\"\"\n",
    "[3, 1, 2, 4]\n",
    "[1, 3, 2, 4]\n",
    "[1, 2, 3, 4]\n",
    "[1, 2, 3, 4]\n",
    "[1, 2, 3, 4]\n",
    "\"\"\"[1:]\n",
    "\n",
    "print(result_01 == expected_01)\n",
    "print(result_02 == expected_02)\n"
   ]
  },
  {
   "cell_type": "markdown",
   "metadata": {},
   "source": [
    "## Question 5\n",
    "### Merge Sort\n",
    "\n",
    "Implement the **merge sort** algorithm."
   ]
  },
  {
   "cell_type": "code",
   "execution_count": 44,
   "metadata": {},
   "outputs": [],
   "source": [
    "def merge(lst_a, lst_b):\n",
    "    lst_c = []\n",
    "    while len(lst_a) > 0 and len(lst_b) > 0:\n",
    "        lst_c.append(lst_a.pop(0) if lst_a[0] < lst_b[0] else lst_b.pop(0))\n",
    "    return lst_c + lst_a + lst_b\n",
    "\n",
    "def merge_sort(lst):\n",
    "    if len(lst) == 1:\n",
    "        return lst\n",
    "    else:\n",
    "        mid = len(lst) // 2\n",
    "        orig_left = lst[:mid]\n",
    "        orig_right = lst[mid:]\n",
    "\n",
    "        sorted_left = merge_sort(orig_left)\n",
    "        sorted_right = merge_sort(orig_right)\n",
    "\n",
    "        return merge(sorted_left, sorted_right)\n"
   ]
  },
  {
   "cell_type": "markdown",
   "metadata": {},
   "source": [
    "## Question 6\n",
    "### Quick Sort\n",
    "\n",
    "Implement the **quick sort** algorithm."
   ]
  },
  {
   "cell_type": "code",
   "execution_count": 43,
   "metadata": {},
   "outputs": [],
   "source": [
    "def quick_sort(lst):\n",
    "    if len(lst) <= 1:\n",
    "        return lst\n",
    "    else:\n",
    "        pivot = lst[0]\n",
    "        left, right = [], []\n",
    "\n",
    "        for item in lst[1:]:\n",
    "            if item <= pivot:\n",
    "                left.append(item)\n",
    "            else:\n",
    "                right.append(item)\n",
    "        \n",
    "        sorted_left = quick_sort(left)\n",
    "        sorted_right = quick_sort(right)\n",
    "\n",
    "        return sorted_left + [pivot] + sorted_right\n"
   ]
  }
 ],
 "metadata": {
  "kernelspec": {
   "display_name": "Python 3",
   "language": "python",
   "name": "python3"
  },
  "language_info": {
   "codemirror_mode": {
    "name": "ipython",
    "version": 3
   },
   "file_extension": ".py",
   "mimetype": "text/x-python",
   "name": "python",
   "nbconvert_exporter": "python",
   "pygments_lexer": "ipython3",
   "version": "3.12.1"
  }
 },
 "nbformat": 4,
 "nbformat_minor": 2
}
