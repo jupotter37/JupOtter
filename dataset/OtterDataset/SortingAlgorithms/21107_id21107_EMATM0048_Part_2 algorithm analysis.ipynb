{
 "cells": [
  {
   "cell_type": "markdown",
   "metadata": {},
   "source": [
    "# Part 2 Algorithm Analysis"
   ]
  },
  {
   "cell_type": "markdown",
   "metadata": {},
   "source": [
    "@author: Yibing Gong"
   ]
  },
  {
   "cell_type": "markdown",
   "metadata": {},
   "source": [
    "## codeblock1(input)\n",
    "In a \"for\" loop,we need to iterate through all the elements of the array, the code will be executed n times, the time it consumes varies with n, so the time complexity is ○(n)."
   ]
  },
  {
   "cell_type": "code",
   "execution_count": 1,
   "metadata": {},
   "outputs": [
    {
     "name": "stdout",
     "output_type": "stream",
     "text": [
      "1 2 4 6 9 10 14 15\n"
     ]
    }
   ],
   "source": [
    "a = input()  # Enter numbers separated by spaces"
   ]
  },
  {
   "cell_type": "code",
   "execution_count": 2,
   "metadata": {},
   "outputs": [
    {
     "name": "stdout",
     "output_type": "stream",
     "text": [
      "[1, 2, 4, 6, 9, 10, 14, 15]\n"
     ]
    }
   ],
   "source": [
    "data = [int(n) for n in a.split()]\n",
    "print(data)"
   ]
  },
  {
   "cell_type": "markdown",
   "metadata": {},
   "source": [
    "## codeblock2（sorting）\n",
    "In the codeblock below, the “while\" loop is nested inside the “for\" loop. In the \"while\" loop, j is subtracted by 1 each time, after that, i is getting closer to x. Assume that after n loops, i is greater than x, and the loop exits, which means that the code inside the \"while\" loop will be executed n times, so the time it consumes changes with n. Use ○(n) to represent the time complexity of the \"while\" loop. x+y=n, therefore: its time complexity is ○(n^2)."
   ]
  },
  {
   "cell_type": "code",
   "execution_count": 3,
   "metadata": {},
   "outputs": [],
   "source": [
    "def mysort(a, ascending=True):  # Insert sort, “a\" is a list array, ascending the order \"if ascending = True\", descending the order \" if ascending = False\"\n",
    "    len_a = len(a)\n",
    "    for i in range(1, len(a)):\n",
    "        x = a[i]\n",
    "        j = i\n",
    "        if ascending == False:\n",
    "            while j > 0 and a[j - 1] > x:  # descending the order\n",
    "                a[j] = a[j - 1]\n",
    "                j -= 1\n",
    "            a[j] = x\n",
    "        if ascending == True:\n",
    "            while j > 0 and a[j - 1] < x:  # ascending the order\n",
    "                a[j] = a[j - 1]\n",
    "                j -= 1\n",
    "            a[j] = x\n",
    "    return a"
   ]
  },
  {
   "cell_type": "markdown",
   "metadata": {},
   "source": [
    "## codeblock3（odd or even?）\n",
    "In a \"for\" loop,we need to iterate through all the elements of the array, the code will be executed n times, the time it consumes varies with n, so the time complexity is ○(n)."
   ]
  },
  {
   "cell_type": "code",
   "execution_count": 4,
   "metadata": {},
   "outputs": [],
   "source": [
    "odd = [n for n in data if n % 2 == 1]  # Iterate through the data and put all odd numbers into \"odd\""
   ]
  },
  {
   "cell_type": "markdown",
   "metadata": {},
   "source": [
    "Similarly, the time complexity is ○(n)."
   ]
  },
  {
   "cell_type": "code",
   "execution_count": 5,
   "metadata": {},
   "outputs": [],
   "source": [
    "even = [n for n in data if n % 2 == 0]  # Iterate through the data and put all even numbers into \"even\""
   ]
  },
  {
   "cell_type": "markdown",
   "metadata": {},
   "source": [
    "## codeblock4（output）\n",
    "there is no iteration, the complexity of the following codeblock will be ○(1)"
   ]
  },
  {
   "cell_type": "code",
   "execution_count": 6,
   "metadata": {},
   "outputs": [
    {
     "name": "stdout",
     "output_type": "stream",
     "text": [
      "[15, 9, 1, 2, 4, 6, 10, 14]\n"
     ]
    }
   ],
   "source": [
    "odd = mysort(odd, True)  # If odd then sort in descending order\n",
    "even = mysort(even, False)  # If even then sort in ascending order\n",
    "print(odd + even)  # Output in order"
   ]
  },
  {
   "cell_type": "markdown",
   "metadata": {},
   "source": [
    "## summary\n",
    "T(n)=n^2+3n+2 so that the complexity of the whole sorting algorithm is ○(n^2)."
   ]
  }
 ],
 "metadata": {
  "kernelspec": {
   "display_name": "Python 3",
   "language": "python",
   "name": "python3"
  },
  "language_info": {
   "codemirror_mode": {
    "name": "ipython",
    "version": 3
   },
   "file_extension": ".py",
   "mimetype": "text/x-python",
   "name": "python",
   "nbconvert_exporter": "python",
   "pygments_lexer": "ipython3",
   "version": "3.8.3"
  }
 },
 "nbformat": 4,
 "nbformat_minor": 4
}
