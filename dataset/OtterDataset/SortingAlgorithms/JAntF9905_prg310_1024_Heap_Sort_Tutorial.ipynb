{
 "cells": [
  {
   "cell_type": "markdown",
   "id": "36d8219d",
   "metadata": {},
   "source": [
    "# Heap Sort Algorithm\n",
    "\n",
    "This notebook provides a comprehensive explanation of the Heap Sort algorithm, with step-by-step descriptions, examples, and Python code implementation."
   ]
  },
  {
   "cell_type": "markdown",
   "id": "ec942a23",
   "metadata": {},
   "source": [
    "## Introduction to Heap Sort\n",
    "\n",
    "Heap Sort is a comparison-based sorting technique based on a binary heap data structure. It is similar to selection sort where we first find the maximum element and place it at the end of the array. We repeat the same process for the remaining elements.\n",
    "\n",
    "**Advantages**:\n",
    "\n",
    "- Efficient for sorting large data sets.\n",
    "- In-place sorting algorithm.\n",
    "\n",
    "**Disadvantages**:\n",
    "\n",
    "- Not a stable sort.\n",
    "\n",
    "Heap Sort is useful in applications where constant time retrieval of the maximum or minimum is needed, like priority queues."
   ]
  },
  {
   "cell_type": "markdown",
   "id": "d14100fb",
   "metadata": {},
   "source": [
    "## Heap Structure\n",
    "\n",
    "Heap is a special tree-based data structure that satisfies the **Heap Property**:\n",
    "\n",
    "- In a **Max-Heap**, for any given node I, the value of I is greater than or equal to its children.\n",
    "- In a **Min-Heap**, for any given node I, the value of I is less than or equal to its children.\n",
    "\n",
    "For Heap Sort, we generally use a Max-Heap to get elements in ascending order."
   ]
  },
  {
   "cell_type": "markdown",
   "id": "f1620df5",
   "metadata": {},
   "source": [
    "## Steps of Heap Sort\n",
    "\n",
    "1. **Build a Max-Heap** from the input data.\n",
    "2. **Extract the maximum element** from the heap and swap it with the last element in the heap.\n",
    "3. **Reduce the heap size** and heapify the root element to maintain the max heap property.\n",
    "4. **Repeat** until all elements are sorted."
   ]
  },
  {
   "cell_type": "markdown",
   "id": "0dc6adf9",
   "metadata": {},
   "source": [
    "## Python Code Implementation\n",
    "\n",
    "The following code demonstrates the implementation of the Heap Sort algorithm."
   ]
  },
  {
   "cell_type": "code",
   "execution_count": 1,
   "id": "2afcc386",
   "metadata": {},
   "outputs": [
    {
     "name": "stdout",
     "output_type": "stream",
     "text": [
      "Unsorted array: [12, 11, 13, 5, 6, 7]\n",
      "Sorted array: [5, 6, 7, 11, 12, 13]\n"
     ]
    }
   ],
   "source": [
    "# Function to heapify a subtree rooted at index i\n",
    "def heapify(arr, n, i):\n",
    "    largest = i  # Initialize largest as root\n",
    "    left = 2 * i + 1  # left = 2*i + 1\n",
    "    right = 2 * i + 2  # right = 2*i + 2\n",
    "\n",
    "    # If left child exists and is greater than root\n",
    "    if left < n and arr[i] < arr[left]:\n",
    "        largest = left\n",
    "\n",
    "    # If right child exists and is greater than largest\n",
    "    if right < n and arr[largest] < arr[right]:\n",
    "        largest = right\n",
    "\n",
    "    # Change root if needed\n",
    "    if largest != i:\n",
    "        arr[i], arr[largest] = arr[largest], arr[i]  # swap\n",
    "        # Heapify the root.\n",
    "        heapify(arr, n, largest)\n",
    "\n",
    "\n",
    "# The main function to sort an array of given size\n",
    "\n",
    "\n",
    "def heap_sort(arr):\n",
    "    n = len(arr)\n",
    "\n",
    "    # Build a maxheap.\n",
    "    for i in range(n // 2 - 1, -1, -1):\n",
    "        heapify(arr, n, i)\n",
    "\n",
    "    # Extract elements one by one\n",
    "    for i in range(n - 1, 0, -1):\n",
    "        arr[i], arr[0] = arr[0], arr[i]  # swap\n",
    "        heapify(arr, i, 0)\n",
    "\n",
    "\n",
    "# Example usage\n",
    "data = [12, 11, 13, 5, 6, 7]\n",
    "print(\"Unsorted array:\", data)\n",
    "heap_sort(data)\n",
    "print(\"Sorted array:\", data)"
   ]
  },
  {
   "cell_type": "markdown",
   "id": "9cd1a160",
   "metadata": {},
   "source": [
    "## Complexity Analysis\n",
    "\n",
    "- **Time Complexity**:\n",
    "  - Building the heap: $O(n)$\n",
    "  - Extracting elements: $O(n \\log n)$\n",
    "  - Overall: $O(n \\log n)$\n",
    "\n",
    "- **Space Complexity**: $O(1)$ (in-place sorting)\n",
    "\n",
    "Heap Sort is an efficient sorting algorithm, but it is not stable and does not preserve the relative order of equal elements."
   ]
  }
 ],
 "metadata": {
  "kernelspec": {
   "display_name": "Python 3",
   "language": "python",
   "name": "python3"
  },
  "language_info": {
   "codemirror_mode": {
    "name": "ipython",
    "version": 3
   },
   "file_extension": ".py",
   "mimetype": "text/x-python",
   "name": "python",
   "nbconvert_exporter": "python",
   "pygments_lexer": "ipython3",
   "version": "3.11.9"
  }
 },
 "nbformat": 4,
 "nbformat_minor": 5
}
