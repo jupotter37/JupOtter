{
 "cells": [
  {
   "cell_type": "markdown",
   "metadata": {},
   "source": [
    "## Merge Sorting  \n",
    "Merge Sort is a classic and efficient sorting algorithm that follows the divide-and-conquer paradigm.  \n",
    "\n",
    "Key Concepts of Merge Sort :-  \n",
    "- Divide: The list is recursively divided into two halves until each sublist contains a single element or is empty. This step essentially breaks down the problem into smaller, more manageable parts.    \n",
    "- Conquer (Sort and Merge): The sublists are then merged back together in a sorted order. This is done by comparing the elements of the sublists and arranging them in order. \n",
    "- Combine: The process of merging two sorted sublists to form a larger sorted list is the key operation in merge sort. The merge function repeatedly takes the smallest element from the front of each sublist and adds it to the new sorted list.  \n",
    "\n",
    "Detailed Steps  \n",
    "\n",
    "\n",
    "- Splitting:  \n",
    "Find the middle point of the list.\n",
    "Split the list into two halves.\n",
    "Recursively apply merge sort to each half.  \n",
    "  \n",
    "- Merging:  \n",
    "Create a new list to hold the sorted elements.\n",
    "Compare the first elements of both sublists.\n",
    "Append the smaller element to the new list and remove it from its sublist.\n",
    "Repeat the process until all elements from both sublists have been processed.\n",
    "If one sublist is empty before the other, append the remaining elements of the non-empty sublist to the new list."
   ]
  },
  {
   "cell_type": "code",
   "execution_count": 1,
   "metadata": {},
   "outputs": [
    {
     "name": "stdout",
     "output_type": "stream",
     "text": [
      "[1, 2, 3, 4]\n"
     ]
    }
   ],
   "source": [
    "def merge(list1, list2):  # --> Helper method for merge_sort function\n",
    "    combined = []\n",
    "    i = 0\n",
    "    j = 0\n",
    "    while i < len(list1) and j < len(list2):\n",
    "        if list1[i] < list2[j]:\n",
    "            combined.append(list1[i])\n",
    "            i += 1\n",
    "        else:\n",
    "            combined.append(list2[j])\n",
    "            j += 1\n",
    "    while i < len(list1):\n",
    "        combined.append(list1[i])\n",
    "        i += 1\n",
    "    while j < len(list2):\n",
    "        combined.append(list2[j])\n",
    "        j += 1\n",
    "    return combined    \n",
    "\n",
    "\n",
    "def merge_sort(my_list):\n",
    "    if len(my_list) == 1:\n",
    "        return my_list\n",
    "    mid_index = int(len(my_list)/2)\n",
    "    left = merge_sort(my_list[: mid_index])\n",
    "    right = merge_sort(my_list[mid_index: ])\n",
    "\n",
    "    return merge(left, right)\n",
    "    \n",
    "\n",
    "print(merge_sort([3, 1, 4, 2]))"
   ]
  },
  {
   "cell_type": "markdown",
   "metadata": {},
   "source": [
    "## Quick Sort\n",
    "\n",
    "Quick Sort is another popular and efficient sorting algorithm, known for its performance in practical applications. It also follows the divide-and-conquer approach but does so in a different manner compared to merge sort.  \n",
    "\n",
    "Key Concepts of Quick Sort  \n",
    "- Divide: The list is divided into two sublists based on a pivot element. The pivot is chosen, and elements are rearranged so that elements less than the pivot come before it, and elements greater come after it. This step partitions the list into two halves.  \n",
    "- Conquer: Recursively apply quick sort to the sublists formed by the partition step.  \n",
    "- Combine: Since the sorting is done in place, no additional merge step is needed. The list is sorted as the sublists are recursively sorted and combined.  \n",
    "\n",
    "Detailed Steps  \n",
    "\n",
    "- Choosing a Pivot:  \n",
    "Select a pivot element from the list. The choice of pivot can be crucial for performance (common strategies include choosing the first, last, middle, or a random element).\n",
    "  \n",
    "- Partitioning:  \n",
    "Rearrange the list such that all elements less than the pivot are on the left, and all elements greater than the pivot are on the right.\n",
    "The pivot is then in its final sorted position.\n",
    "\n",
    "- Recursive Sorting:  \n",
    "Recursively apply quick sort to the left and right sublists created by the partition step."
   ]
  },
  {
   "cell_type": "code",
   "execution_count": 2,
   "metadata": {},
   "outputs": [
    {
     "name": "stdout",
     "output_type": "stream",
     "text": [
      "[1, 2, 3, 4, 5, 6, 7]\n"
     ]
    }
   ],
   "source": [
    "def swap(my_list, index1, index2):  # Swap the elements at index1 and index2 in my_list\n",
    "    my_list[index1], my_list[index2] = my_list[index2], my_list[index1]\n",
    "\n",
    "def pivot(my_list, pivot_index, end_index):  # Helper method for quick_sort function\n",
    "    swap_index = pivot_index\n",
    "\n",
    "    for i in range(pivot_index + 1, end_index + 1):\n",
    "        if my_list[i] < my_list[pivot_index]:\n",
    "            swap_index += 1\n",
    "            swap(my_list, swap_index, i)\n",
    "    swap(my_list, pivot_index, swap_index)\n",
    "    return swap_index\n",
    "\n",
    "def quick_sort_helper(my_list, left, right):\n",
    "    if left < right:  # Get the pivot index and sort elements around it\n",
    "        pivot_index = pivot(my_list, left, right)  # Recursively sort the left and right parts\n",
    "        quick_sort_helper(my_list, left, pivot_index - 1)\n",
    "        quick_sort_helper(my_list, pivot_index + 1, right)\n",
    "    return my_list    \n",
    "\n",
    "def quick_sort(my_list):\n",
    "    return quick_sort_helper(my_list, 0, len(my_list) - 1)\n",
    "\n",
    "# Correctly place the parameters for the quick_sort call\n",
    "print(quick_sort([4, 6, 1, 7, 3, 2, 5]))\n"
   ]
  }
 ],
 "metadata": {
  "kernelspec": {
   "display_name": "Python 3",
   "language": "python",
   "name": "python3"
  },
  "language_info": {
   "codemirror_mode": {
    "name": "ipython",
    "version": 3
   },
   "file_extension": ".py",
   "mimetype": "text/x-python",
   "name": "python",
   "nbconvert_exporter": "python",
   "pygments_lexer": "ipython3",
   "version": "3.12.2"
  }
 },
 "nbformat": 4,
 "nbformat_minor": 2
}
