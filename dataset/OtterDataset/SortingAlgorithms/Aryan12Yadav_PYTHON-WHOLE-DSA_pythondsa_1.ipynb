{
 "cells": [
  {
   "cell_type": "markdown",
   "id": "008a1151",
   "metadata": {},
   "source": [
    "# 1 complexity"
   ]
  },
  {
   "cell_type": "markdown",
   "id": "4556f6cf",
   "metadata": {},
   "source": [
    "# Arrays"
   ]
  },
  {
   "cell_type": "code",
   "execution_count": 1,
   "id": "b9c83594",
   "metadata": {},
   "outputs": [
    {
     "name": "stdout",
     "output_type": "stream",
     "text": [
      "1789\n"
     ]
    }
   ],
   "source": [
    "\n",
    "# method definition of the sum function \n",
    "#  Time complexity: O(n)\n",
    "#  space complesxity : O(1)\n",
    "def summation(n):\n",
    "    sum_val = 0\n",
    "    for i in range(len(n)):\n",
    "        sum_val +=arr[i]\n",
    "    return sum_val\n",
    "\n",
    "#  Driver code\n",
    "\n",
    "arr = [2,36,37,7,3,2,346,788,568]\n",
    "result = summation(arr)\n",
    "print(result)"
   ]
  },
  {
   "cell_type": "code",
   "execution_count": 2,
   "id": "d2a67ea3",
   "metadata": {},
   "outputs": [
    {
     "data": {
      "text/plain": [
       "[3, 536, 4, 7886, 5]"
      ]
     },
     "execution_count": 2,
     "metadata": {},
     "output_type": "execute_result"
    }
   ],
   "source": [
    "arr = [3,536,7886,5]\n",
    "arr.insert(2,4)\n",
    "arr"
   ]
  },
  {
   "cell_type": "code",
   "execution_count": 3,
   "id": "4c8079de",
   "metadata": {},
   "outputs": [
    {
     "name": "stdout",
     "output_type": "stream",
     "text": [
      "[3, 536, 4, 7886, 5]\n"
     ]
    }
   ],
   "source": [
    "print(arr)"
   ]
  },
  {
   "cell_type": "code",
   "execution_count": 4,
   "id": "335c83d9",
   "metadata": {},
   "outputs": [],
   "source": [
    "arr.remove(536)"
   ]
  },
  {
   "cell_type": "code",
   "execution_count": 5,
   "id": "35384d4e",
   "metadata": {},
   "outputs": [
    {
     "data": {
      "text/plain": [
       "[3, 4, 7886, 5]"
      ]
     },
     "execution_count": 5,
     "metadata": {},
     "output_type": "execute_result"
    }
   ],
   "source": [
    "arr"
   ]
  },
  {
   "cell_type": "code",
   "execution_count": 6,
   "id": "2ad0ed14",
   "metadata": {},
   "outputs": [],
   "source": [
    "## Searching Algorithms\n",
    "arr = [53,45,3,6]\n",
    "target = 100\n",
    "## print -1 [ it indicates that the target values is not available in the array]\n",
    " "
   ]
  },
  {
   "cell_type": "code",
   "execution_count": 7,
   "id": "0122c65f",
   "metadata": {},
   "outputs": [
    {
     "name": "stdout",
     "output_type": "stream",
     "text": [
      "2\n"
     ]
    }
   ],
   "source": [
    "## Searching Algorithms\n",
    "# time complexity is O(n)\n",
    "# space complexity is O(1)\n",
    "def linearSearching(arr,target):\n",
    "    for i in range(len(arr)):\n",
    "        if (arr[i]==target):\n",
    "            return i\n",
    "    return -1\n",
    "## print -1 [ it indicates that the target values is not available in the array]\n",
    "#  driver code\n",
    "arr = [53,45,3,6]\n",
    "target = 3\n",
    "result = linearSearching(arr,target)\n",
    "print(result)\n",
    " "
   ]
  },
  {
   "cell_type": "code",
   "execution_count": 8,
   "id": "9b79e6c6",
   "metadata": {},
   "outputs": [
    {
     "name": "stdout",
     "output_type": "stream",
     "text": [
      "([390, 392], [45, 93, 839, 9])\n",
      "0.0\n"
     ]
    }
   ],
   "source": [
    "# even and odd printing\n",
    "import time\n",
    "even = []\n",
    "odd = []\n",
    "def even_odd(arr):\n",
    "    for i in arr:\n",
    "        if i%2 == 0:\n",
    "            even.append(i)\n",
    "        else:\n",
    "            odd.append(i)\n",
    "    \n",
    "    return even,odd \n",
    "\n",
    "#  time complexity is O(n)\n",
    "# space complexity is O(n)\n",
    "# driver code\n",
    "arr = [45,93,839,390,392,9]\n",
    "a = time.time()\n",
    "\n",
    "print(even_odd(arr))\n",
    "b = time.time()\n",
    "print(b-a)\n",
    "\n"
   ]
  },
  {
   "cell_type": "markdown",
   "id": "55ff8211",
   "metadata": {},
   "source": [
    "\n",
    "\n",
    "\n",
    "# 2D ARRAY"
   ]
  },
  {
   "cell_type": "code",
   "execution_count": 9,
   "id": "221175b3",
   "metadata": {},
   "outputs": [
    {
     "name": "stdout",
     "output_type": "stream",
     "text": [
      "primary diagonal is  473\n"
     ]
    },
    {
     "data": {
      "text/plain": [
       "('secondary diagonal is ', 477)"
      ]
     },
     "execution_count": 9,
     "metadata": {},
     "output_type": "execute_result"
    }
   ],
   "source": [
    "## function definition \n",
    "# time complexity : O(n^2)\n",
    "# space complexity : O(1)\n",
    "\n",
    "def diagonal_sum(arr):\n",
    "    n = len(arr)\n",
    "    primary_diagonal = 0\n",
    "    secondary_diagonal = 0\n",
    "    for i in range(n):\n",
    "        for j in range(n):\n",
    "            if i == j:\n",
    "                primary_diagonal +=arr[i][j]\n",
    "            if (i+j) == (n-1):\n",
    "                secondary_diagonal +=arr[i][j]\n",
    "    print(\"primary diagonal is \",primary_diagonal)\n",
    "    return \"secondary diagonal is \",secondary_diagonal\n",
    "    \n",
    "\n",
    "\n",
    "## driver code \n",
    "arr = [[3,63,2],[9,467,3],[8,94,3]]\n",
    "diagonal_sum(arr)"
   ]
  },
  {
   "cell_type": "raw",
   "id": "98ae6e62",
   "metadata": {},
   "source": [
    "properties of logarithmic \n",
    "Asymptotic Notations - Mthematiccal Ide/Indtution\n",
    "arrays -!D /2D Array\n",
    "Random access - Searchhing and Sorting\n",
    "Numerous oding problems [Linear Search, EvenOdd,Summation, DiagonalSum]\n",
    "Time and Space Complexity\n",
    "Binary Search , Sorting Algorithms\n",
    "Recursion (Can't miss this session)\n"
   ]
  },
  {
   "cell_type": "markdown",
   "id": "e5f0988f",
   "metadata": {},
   "source": [
    "# Recursion "
   ]
  },
  {
   "cell_type": "markdown",
   "id": "9828f890",
   "metadata": {},
   "source": [
    "### function calling itself  method definition\n"
   ]
  },
  {
   "cell_type": "code",
   "execution_count": 10,
   "id": "ff22b0f6",
   "metadata": {},
   "outputs": [
    {
     "name": "stdout",
     "output_type": "stream",
     "text": [
      "120\n"
     ]
    }
   ],
   "source": [
    "# factorial of the given function \n",
    "# method definition via the recursion \n",
    "def factorial(N):\n",
    "    if N<= 1:\n",
    "        return 1\n",
    "    else:\n",
    "        return N*factorial(N-1)\n",
    "    \n",
    "# driver condition\n",
    "print(factorial(5))"
   ]
  },
  {
   "cell_type": "markdown",
   "id": "ea45674d",
   "metadata": {},
   "source": [
    "## stare case "
   ]
  },
  {
   "cell_type": "code",
   "execution_count": 11,
   "id": "0bc1f0d9",
   "metadata": {},
   "outputs": [
    {
     "data": {
      "text/plain": [
       "8"
      ]
     },
     "execution_count": 11,
     "metadata": {},
     "output_type": "execute_result"
    }
   ],
   "source": [
    "class Solution :\n",
    "    \n",
    "    def climbstaire(self,n):\n",
    "        if n<=3:\n",
    "            return n\n",
    "    \n",
    "        return self.climbstaire(n-1) + self.climbstaire(n-2)\n",
    "\n",
    "obj = Solution()\n",
    "obj.climbstaire(5)"
   ]
  },
  {
   "cell_type": "markdown",
   "id": "db2dc10a",
   "metadata": {},
   "source": [
    "# recursion 2"
   ]
  },
  {
   "cell_type": "code",
   "execution_count": 12,
   "id": "1fc0e244",
   "metadata": {},
   "outputs": [
    {
     "name": "stdout",
     "output_type": "stream",
     "text": [
      "65536\n"
     ]
    }
   ],
   "source": [
    "def powerof(a,n):\n",
    "    if n==0:\n",
    "        return 1\n",
    "    return a*powerof(a,n-1)\n",
    "#  driver code\n",
    "print(powerof(2,16))"
   ]
  },
  {
   "cell_type": "code",
   "execution_count": 13,
   "id": "bb520d4f",
   "metadata": {},
   "outputs": [],
   "source": [
    "#  method definition \n",
    "def powerFind(a,n):\n",
    "#     base case condition\n",
    "    if n == 1:\n",
    "        return a\n",
    "#     recursive function calls\n",
    "    else:\n",
    "        mid = n//2\n",
    "        result = powerFind(a,mid)\n",
    "        finalResult = result * result\n",
    "\n",
    "#         checking wether the value of  n is even or odd\n",
    "        if n %2 == 0:\n",
    "            return finalResult\n",
    "        else :\n",
    "            return a * finalResult\n",
    "    \n",
    "#     driver code \n",
    "a = 2\n",
    "n = 16\n",
    "result = powerFind(a,n)"
   ]
  },
  {
   "cell_type": "code",
   "execution_count": 14,
   "id": "fc805fba",
   "metadata": {},
   "outputs": [
    {
     "data": {
      "text/plain": [
       "65536"
      ]
     },
     "execution_count": 14,
     "metadata": {},
     "output_type": "execute_result"
    }
   ],
   "source": [
    "result\n"
   ]
  },
  {
   "cell_type": "markdown",
   "id": "3bc52679",
   "metadata": {},
   "source": [
    "## Bublesort"
   ]
  },
  {
   "cell_type": "code",
   "execution_count": 48,
   "id": "aee1204d",
   "metadata": {},
   "outputs": [
    {
     "data": {
      "text/plain": [
       "[0, 1, 2, 3, 4, 6, 9]"
      ]
     },
     "execution_count": 48,
     "metadata": {},
     "output_type": "execute_result"
    }
   ],
   "source": [
    "aryy = [2,6,3,4,0,9,1]\n",
    "def Bubble_sort(arr):\n",
    "    for i in range(len(arr)-1,0,-1):\n",
    "        for j in range(i):\n",
    "            if arr[j]>arr[j+1]:\n",
    "                arr[j],arr[j+1] = arr[j+1],arr[j]\n",
    "    return arr           \n",
    "Bubble_sort(aryy)"
   ]
  },
  {
   "cell_type": "code",
   "execution_count": 46,
   "id": "50feff1c",
   "metadata": {},
   "outputs": [
    {
     "data": {
      "text/plain": [
       "[0, 1, 2, 3, 4, 6, 9]"
      ]
     },
     "execution_count": 46,
     "metadata": {},
     "output_type": "execute_result"
    }
   ],
   "source": [
    "aryy"
   ]
  },
  {
   "cell_type": "code",
   "execution_count": 22,
   "id": "54387e03",
   "metadata": {},
   "outputs": [
    {
     "name": "stdout",
     "output_type": "stream",
     "text": [
      "None\n"
     ]
    },
    {
     "data": {
      "text/plain": [
       "[-3, -1, 0, 2, 3, 3, 5, 36, 46]"
      ]
     },
     "execution_count": 22,
     "metadata": {},
     "output_type": "execute_result"
    }
   ],
   "source": [
    "my_array = [2,5,46,36,3,0,3,-1,-3]\n",
    "def my_bubble_sort(array):\n",
    "    \n",
    "    for i in range(len(array),0,-1):\n",
    "        \n",
    "        for j in range(i-1):\n",
    "            if array[j]>array[j+1]:\n",
    "                array[j],array[j+1] = array[j+1],array[j]\n",
    "                \n",
    "print(my_bubble_sort(my_array))\n",
    "my_array"
   ]
  },
  {
   "cell_type": "markdown",
   "id": "e8d46746",
   "metadata": {},
   "source": [
    "#### optimize bubbled sort "
   ]
  },
  {
   "cell_type": "code",
   "execution_count": 36,
   "id": "1e111672",
   "metadata": {},
   "outputs": [
    {
     "name": "stdout",
     "output_type": "stream",
     "text": [
      "the given array is already sorted.\n"
     ]
    },
    {
     "data": {
      "text/plain": [
       "[2, 5, 46, 36, 3, 0, 3, -1, -3]"
      ]
     },
     "execution_count": 36,
     "metadata": {},
     "output_type": "execute_result"
    }
   ],
   "source": [
    "arr_2 = [2,4,6,8,10]\n",
    "def optimized_bubbled_sort(arr):\n",
    "    sorted_flag = True\n",
    "    for i in range(len(arr),0,-1):\n",
    "        \n",
    "        for j in range(i-1):\n",
    "            if arr[j]>arr[j+1]:\n",
    "                sorted_flag = False\n",
    "                arr[j],arr[j+1] = arr[j+1],arr[j]\n",
    "                return \"s\"\n",
    "                \n",
    "    if sorted_flag:\n",
    "        return \"the given array is already sorted.\"\n",
    "    \n",
    "print(optimized_bubbled_sort(arr_2))\n",
    "my_array\n",
    "            "
   ]
  },
  {
   "cell_type": "markdown",
   "id": "741a7ef1",
   "metadata": {},
   "source": [
    "### selection sort"
   ]
  },
  {
   "cell_type": "code",
   "execution_count": 94,
   "id": "d65fa101",
   "metadata": {},
   "outputs": [
    {
     "name": "stdout",
     "output_type": "stream",
     "text": [
      "None\n"
     ]
    },
    {
     "data": {
      "text/plain": [
       "[-3, -1, 0, 2, 3, 3, 5, 36, 46]"
      ]
     },
     "execution_count": 94,
     "metadata": {},
     "output_type": "execute_result"
    }
   ],
   "source": [
    "my_array = [2,5,46,36,3,0,3,-1,-3]\n",
    "def selection_sort(arr):\n",
    "    \n",
    "    for i in range(len(arr)):\n",
    "        Min = i\n",
    "        for j in range(i+1,len(arr)):\n",
    "            if arr[j]<arr[Min]:\n",
    "                Min = j\n",
    "        arr[i],arr[Min] = arr[Min],arr[i]\n",
    "        \n",
    "print(selection_sort(my_array))\n",
    "my_array"
   ]
  },
  {
   "cell_type": "markdown",
   "id": "ece214a5",
   "metadata": {},
   "source": [
    "## inserting"
   ]
  },
  {
   "cell_type": "code",
   "execution_count": 120,
   "id": "93b89302",
   "metadata": {},
   "outputs": [
    {
     "name": "stdout",
     "output_type": "stream",
     "text": [
      "None\n"
     ]
    },
    {
     "data": {
      "text/plain": [
       "[-3, -1, 0, 2, 3, 3, 5, 36, 46]"
      ]
     },
     "execution_count": 120,
     "metadata": {},
     "output_type": "execute_result"
    }
   ],
   "source": [
    "my_array = [2,5,46,36,3,0,3,-1,-3]\n",
    "def inserting_sort(arr):\n",
    "    for i in range(1,len(arr)):\n",
    "        key = arr[i]\n",
    "        j = i-1        \n",
    "        \n",
    "        while (j>=0 and arr[j]>key):\n",
    "            arr[j+1] = arr[j]\n",
    "            j = j-1\n",
    "        arr[j+1] = key\n",
    "        \n",
    "print(inserting_sort(my_array)) \n",
    "my_array\n",
    "        "
   ]
  },
  {
   "cell_type": "markdown",
   "id": "dbe4f1ad",
   "metadata": {},
   "source": [
    "### search sort"
   ]
  },
  {
   "cell_type": "code",
   "execution_count": 131,
   "id": "508cbe43",
   "metadata": {},
   "outputs": [
    {
     "name": "stdout",
     "output_type": "stream",
     "text": [
      "Enter the input : -1\n",
      "-1\n"
     ]
    }
   ],
   "source": [
    "def search_sort(arr,n):\n",
    "    for i in range(len(arr)):\n",
    "        if arr[i] == n:\n",
    "            return i \n",
    "        \n",
    "        return -1\n",
    "    \n",
    "    \n",
    "my_array = [2,5,46,36,3,0,3,-1,-3]\n",
    "a = int(input(\"Enter the input : \"))\n",
    "print(search_sort(my_array,a))"
   ]
  },
  {
   "cell_type": "markdown",
   "id": "58673884",
   "metadata": {},
   "source": [
    "### binary_search_sort"
   ]
  },
  {
   "cell_type": "code",
   "execution_count": 135,
   "id": "535c7f7e",
   "metadata": {},
   "outputs": [
    {
     "name": "stdout",
     "output_type": "stream",
     "text": [
      "Enter the input : 3\n",
      "4\n"
     ]
    }
   ],
   "source": [
    "my_array = [2,5,46,36,3,0,3,-1,-3]\n",
    "def binary_search(arr,num):\n",
    "    left = 0\n",
    "    right = len(arr)-1\n",
    "    \n",
    "    while(left<=right):\n",
    "        mid = int(left + (right + left)/2)\n",
    "        if arr[mid] == num:\n",
    "            return mid\n",
    "        elif arr[mid]<num:\n",
    "            left = left +1\n",
    "        elif arr[mid]>num:\n",
    "            right -=1\n",
    "        return -1\n",
    "num = int(input(\"Enter the input : \"))\n",
    "print(binary_search(my_array,num))\n",
    "        "
   ]
  },
  {
   "cell_type": "code",
   "execution_count": 7,
   "id": "d5e4c7d5",
   "metadata": {},
   "outputs": [
    {
     "name": "stdout",
     "output_type": "stream",
     "text": [
      "1\n"
     ]
    }
   ],
   "source": [
    "def printRec(arr,SI):\n",
    "    \n",
    "    if SI >= len(arr):\n",
    "        printRec(arr,SI+1)\n",
    "        \n",
    "    print(arr[SI])\n",
    "        \n",
    "printRec([1,2,3,5],0)"
   ]
  },
  {
   "cell_type": "markdown",
   "id": "cd87e917",
   "metadata": {},
   "source": [
    "## tower of Hanoi"
   ]
  },
  {
   "cell_type": "code",
   "execution_count": 36,
   "id": "da1ae576",
   "metadata": {},
   "outputs": [
    {
     "name": "stdout",
     "output_type": "stream",
     "text": [
      "Enter the number of disk : 4\n",
      "move disk 1 form A to C\n",
      "move disk 2 from A to B\n",
      "move disk 1 form C to B\n",
      "move disk 3 from A to C\n",
      "move disk 1 form B to A\n",
      "move disk 2 from B to C\n",
      "move disk 1 form A to C\n",
      "move disk 4 from A to B\n",
      "move disk 1 form C to B\n",
      "move disk 2 from C to A\n",
      "move disk 1 form B to A\n",
      "move disk 3 from C to B\n",
      "move disk 1 form A to C\n",
      "move disk 2 from A to B\n",
      "move disk 1 form C to B\n"
     ]
    }
   ],
   "source": [
    "def tower_of_Hanoi(n,src,dest,Middle):\n",
    "    if n == 1:\n",
    "        print(\"move disk 1 form\",src,\"to\",dest)\n",
    "        return\n",
    "    tower_of_Hanoi(n-1,src,Middle,dest)\n",
    "    print(\"move disk\",n,\"from\",src, \"to\" , dest)\n",
    "    tower_of_Hanoi(n-1,Middle,dest,src)\n",
    "    \n",
    "    \n",
    "N = int(input(\"Enter the number of disk : \"))\n",
    "tower_of_Hanoi(N,\"A\",'B','C')"
   ]
  },
  {
   "cell_type": "code",
   "execution_count": 33,
   "id": "629edf1b",
   "metadata": {},
   "outputs": [
    {
     "name": "stdout",
     "output_type": "stream",
     "text": [
      "Enter the input : 4\n"
     ]
    },
    {
     "data": {
      "text/plain": [
       "15"
      ]
     },
     "execution_count": 33,
     "metadata": {},
     "output_type": "execute_result"
    }
   ],
   "source": [
    "def moves(n,s,d,a):\n",
    "    if n == 1:\n",
    "        return 1\n",
    "    return moves(n-1,s,a,d) +1+moves(n-1,a,d,s)\n",
    "n  = int(input(\"Enter the input : \"))\n",
    "moves(n,'s','d','a')"
   ]
  },
  {
   "cell_type": "code",
   "execution_count": 37,
   "id": "504b9439",
   "metadata": {},
   "outputs": [
    {
     "name": "stdout",
     "output_type": "stream",
     "text": [
      "Ente the input : 54,65,65,65,9,23,6,8\n",
      "[54, 65, 65, 65, 9, 23, 6, 8]\n"
     ]
    }
   ],
   "source": [
    "a = eval(input(\"Ente the input : \"))\n",
    "print([int(x) for x in a])"
   ]
  },
  {
   "cell_type": "code",
   "execution_count": 36,
   "id": "3e3f81da",
   "metadata": {},
   "outputs": [
    {
     "name": "stdout",
     "output_type": "stream",
     "text": [
      "1\n",
      "2\n",
      "3\n",
      "4\n"
     ]
    }
   ],
   "source": [
    "def printRec(arr,sI=0):\n",
    "#     base condition\n",
    "    if sI>=len(arr):\n",
    "        return\n",
    "    print(arr[sI])\n",
    "    \n",
    "    printRec(arr,sI+1)\n",
    "    \n",
    "printRec([1,2,3,4])"
   ]
  },
  {
   "cell_type": "markdown",
   "id": "6bfe6f42",
   "metadata": {},
   "source": [
    "##### find minimum using the recursion5"
   ]
  },
  {
   "cell_type": "code",
   "execution_count": 9,
   "id": "c4d939c3",
   "metadata": {},
   "outputs": [
    {
     "name": "stdout",
     "output_type": "stream",
     "text": [
      "-1\n"
     ]
    }
   ],
   "source": [
    "def find_min(arr,sI):\n",
    "    if sI>=len(arr):\n",
    "        return 999999999\n",
    "    \n",
    "    return min(arr[sI],find_min(arr,sI+1))\n",
    "\n",
    "print(find_min([1,4,2,-1],0))"
   ]
  },
  {
   "cell_type": "code",
   "execution_count": 16,
   "id": "f930188a",
   "metadata": {},
   "outputs": [
    {
     "name": "stdout",
     "output_type": "stream",
     "text": [
      "Enter the number of disk : 3\n",
      "move 1 disk from  A to B\n",
      "disk 2 moves from A to C\n",
      "move 1 disk from  B to C\n",
      "disk 3 moves from A to B\n",
      "move 1 disk from  C to A\n",
      "disk 2 moves from C to B\n",
      "move 1 disk from  A to B\n"
     ]
    }
   ],
   "source": [
    "def tower_of_hanoi(n,source,destination,middle):\n",
    "    if n == 1:\n",
    "        print(\"move 1 disk from \",source ,\"to\",destination)\n",
    "        return\n",
    "    tower_of_hanoi(n-1,source,middle,destination)\n",
    "    print(\"disk\",n ,\"moves\",\"from\",source ,\"to\",destination)\n",
    "\n",
    "    tower_of_hanoi(n-1,middle,destination,source)\n",
    "        \n",
    "N = int(input(\"Enter the number of disk : \"))\n",
    "tower_of_hanoi(N,\"A\",\"B\",\"C\")"
   ]
  },
  {
   "cell_type": "markdown",
   "id": "c98a1a03",
   "metadata": {},
   "source": [
    "### binary search using recurssion"
   ]
  },
  {
   "cell_type": "code",
   "execution_count": 24,
   "id": "e9923926",
   "metadata": {},
   "outputs": [
    {
     "data": {
      "text/plain": [
       "2"
      ]
     },
     "execution_count": 24,
     "metadata": {},
     "output_type": "execute_result"
    }
   ],
   "source": [
    "def binary_search(arr,left,right,num):\n",
    "    if left>right:\n",
    "        return -1\n",
    "    mid = int(left + (right -left)/2)\n",
    "    if arr[mid]== num:\n",
    "        return mid\n",
    "    elif arr[mid]>num:\n",
    "        return binary_search(arr,left,mid -1,num)\n",
    "    else:\n",
    "        return binary_search(arr,mid+1,right,num)\n",
    "\n",
    "binary_search([10,11,13,25,26,212,1123,1425],0,8,13)"
   ]
  },
  {
   "cell_type": "markdown",
   "id": "58b3d20d",
   "metadata": {},
   "source": [
    "#### array reversing"
   ]
  },
  {
   "cell_type": "code",
   "execution_count": 28,
   "id": "73360bb9",
   "metadata": {},
   "outputs": [
    {
     "name": "stdout",
     "output_type": "stream",
     "text": [
      "None\n"
     ]
    },
    {
     "data": {
      "text/plain": [
       "[2, 1, 5, 3]"
      ]
     },
     "execution_count": 28,
     "metadata": {},
     "output_type": "execute_result"
    }
   ],
   "source": [
    "def reverse_arr(arr):\n",
    "    i = 0\n",
    "    j = len(arr)-1\n",
    "    while i<j:\n",
    "        arr[i],arr[j]=arr[j],arr[i]\n",
    "        i = i+1\n",
    "        j = j-1\n",
    "\n",
    "        \n",
    "array = [3,5,1,2]\n",
    "print(reverse_arr(array))\n",
    "array"
   ]
  },
  {
   "cell_type": "code",
   "execution_count": 33,
   "id": "f28005e3",
   "metadata": {},
   "outputs": [
    {
     "name": "stdout",
     "output_type": "stream",
     "text": [
      "[12, 10, 8, 6, 4, 2]\n"
     ]
    }
   ],
   "source": [
    "def reverse_array(arr,sI,eI):\n",
    "    if sI >= eI:\n",
    "        return\n",
    "    \n",
    "    arr[sI],arr[eI]= arr[eI],arr[sI]\n",
    "    reverse_array(arr,sI+1,eI-1)\n",
    "    \n",
    "array = [2,4,6,8,10,12]\n",
    "reverse_array(array,0,len(array)-1)\n",
    "print(array)"
   ]
  },
  {
   "cell_type": "markdown",
   "id": "fba74950",
   "metadata": {},
   "source": [
    "### check palindrome using  two pointer approach"
   ]
  },
  {
   "cell_type": "code",
   "execution_count": 39,
   "id": "33672214",
   "metadata": {},
   "outputs": [
    {
     "data": {
      "text/plain": [
       "True"
      ]
     },
     "execution_count": 39,
     "metadata": {},
     "output_type": "execute_result"
    }
   ],
   "source": [
    "def check_palindrome(arr):\n",
    "    left= 0\n",
    "    right = len(arr)-1\n",
    "    while left<right:\n",
    "        arr[left],arr[right] = arr[right],arr[left]\n",
    "        if arr[left] != arr[right]:\n",
    "            return False\n",
    "        left +=1\n",
    "        right -=1\n",
    "    return True\n",
    "\n",
    "check_palindrome([1,2,3,4,3,2,1])"
   ]
  },
  {
   "cell_type": "code",
   "execution_count": 21,
   "id": "228bde9f",
   "metadata": {},
   "outputs": [
    {
     "name": "stdout",
     "output_type": "stream",
     "text": [
      "None\n"
     ]
    },
    {
     "data": {
      "text/plain": [
       "[4, 5, 1, 2, 3]"
      ]
     },
     "execution_count": 21,
     "metadata": {},
     "output_type": "execute_result"
    }
   ],
   "source": [
    "def rotate_arr(arr,k):\n",
    "    k = k%len(arr)\n",
    "    for i in range(k):\n",
    "        prev = arr[0]\n",
    "        curr = arr[0]\n",
    "        arr[0] = arr[len(arr)-1]\n",
    "        \n",
    "        j = 1\n",
    "        while j<len(arr):\n",
    "            curr = arr[j]\n",
    "            arr[j] = prev\n",
    "            prev = curr\n",
    "            j +=1\n",
    "            \n",
    "array = [1,2,3,4,5]\n",
    "print(rotate_arr(array,2))\n",
    "array\n"
   ]
  }
 ],
 "metadata": {
  "kernelspec": {
   "display_name": "Python 3 (ipykernel)",
   "language": "python",
   "name": "python3"
  },
  "language_info": {
   "codemirror_mode": {
    "name": "ipython",
    "version": 3
   },
   "file_extension": ".py",
   "mimetype": "text/x-python",
   "name": "python",
   "nbconvert_exporter": "python",
   "pygments_lexer": "ipython3",
   "version": "3.11.5"
  }
 },
 "nbformat": 4,
 "nbformat_minor": 5
}
