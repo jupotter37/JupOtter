{
 "cells": [
  {
   "cell_type": "code",
   "execution_count": 1,
   "metadata": {},
   "outputs": [],
   "source": [
    "#from google.colab import drive\n",
    "#drive.mount('/content/drive')"
   ]
  },
  {
   "cell_type": "code",
   "execution_count": 2,
   "metadata": {},
   "outputs": [],
   "source": [
    "import pandas as pd"
   ]
  },
  {
   "cell_type": "code",
   "execution_count": 3,
   "metadata": {},
   "outputs": [],
   "source": [
    "#data = pd.read_csv('/content/drive/My Drive/solar-forecasting/data/meteo_galicia.csv', sep=';', parse_dates=['fecha'], decimal=',',\n",
    "#                 infer_datetime_format=True, low_memory=False, index_col='fecha').sort_index()"
   ]
  },
  {
   "cell_type": "markdown",
   "metadata": {},
   "source": [
    "### Cargar datos"
   ]
  },
  {
   "cell_type": "code",
   "execution_count": 4,
   "metadata": {},
   "outputs": [],
   "source": [
    "data = pd.read_csv('./data/meteo_galicia.csv', sep=';', parse_dates=['fecha'], decimal=',',\n",
    "                 infer_datetime_format=True, low_memory=False, index_col='fecha').sort_index()"
   ]
  },
  {
   "cell_type": "code",
   "execution_count": 5,
   "metadata": {},
   "outputs": [
    {
     "data": {
      "text/html": [
       "<div>\n",
       "<style scoped>\n",
       "    .dataframe tbody tr th:only-of-type {\n",
       "        vertical-align: middle;\n",
       "    }\n",
       "\n",
       "    .dataframe tbody tr th {\n",
       "        vertical-align: top;\n",
       "    }\n",
       "\n",
       "    .dataframe thead th {\n",
       "        text-align: right;\n",
       "    }\n",
       "</style>\n",
       "<table border=\"1\" class=\"dataframe\">\n",
       "  <thead>\n",
       "    <tr style=\"text-align: right;\">\n",
       "      <th></th>\n",
       "      <th>estacionid</th>\n",
       "      <th>lat</th>\n",
       "      <th>lon</th>\n",
       "      <th>tamb</th>\n",
       "      <th>hum</th>\n",
       "      <th>pres</th>\n",
       "      <th>prec</th>\n",
       "      <th>rad</th>\n",
       "      <th>vvien</th>\n",
       "      <th>tipodered</th>\n",
       "    </tr>\n",
       "    <tr>\n",
       "      <th>fecha</th>\n",
       "      <th></th>\n",
       "      <th></th>\n",
       "      <th></th>\n",
       "      <th></th>\n",
       "      <th></th>\n",
       "      <th></th>\n",
       "      <th></th>\n",
       "      <th></th>\n",
       "      <th></th>\n",
       "      <th></th>\n",
       "    </tr>\n",
       "  </thead>\n",
       "  <tbody>\n",
       "    <tr>\n",
       "      <th>2019-01-01 00:10:00</th>\n",
       "      <td>20284</td>\n",
       "      <td>42.4044</td>\n",
       "      <td>-8.6730</td>\n",
       "      <td>5.4</td>\n",
       "      <td>0</td>\n",
       "      <td>1022.0</td>\n",
       "      <td>0.0</td>\n",
       "      <td>0.0</td>\n",
       "      <td>0.7</td>\n",
       "      <td>OFICIAL</td>\n",
       "    </tr>\n",
       "    <tr>\n",
       "      <th>2019-01-01 00:10:00</th>\n",
       "      <td>20233</td>\n",
       "      <td>42.3554</td>\n",
       "      <td>-7.0086</td>\n",
       "      <td>7.3</td>\n",
       "      <td>0</td>\n",
       "      <td>892.1</td>\n",
       "      <td>0.0</td>\n",
       "      <td>0.0</td>\n",
       "      <td>3.5</td>\n",
       "      <td>OFICIAL</td>\n",
       "    </tr>\n",
       "    <tr>\n",
       "      <th>2019-01-01 00:10:00</th>\n",
       "      <td>20218</td>\n",
       "      <td>43.1626</td>\n",
       "      <td>-7.2826</td>\n",
       "      <td>9.2</td>\n",
       "      <td>0</td>\n",
       "      <td>955.0</td>\n",
       "      <td>0.0</td>\n",
       "      <td>0.0</td>\n",
       "      <td>0.0</td>\n",
       "      <td>OFICIAL</td>\n",
       "    </tr>\n",
       "    <tr>\n",
       "      <th>2019-01-01 00:10:00</th>\n",
       "      <td>20217</td>\n",
       "      <td>42.7071</td>\n",
       "      <td>-7.0471</td>\n",
       "      <td>8.5</td>\n",
       "      <td>0</td>\n",
       "      <td>882.5</td>\n",
       "      <td>0.0</td>\n",
       "      <td>1.0</td>\n",
       "      <td>6.3</td>\n",
       "      <td>OFICIAL</td>\n",
       "    </tr>\n",
       "    <tr>\n",
       "      <th>2019-01-01 00:10:00</th>\n",
       "      <td>20221</td>\n",
       "      <td>43.5407</td>\n",
       "      <td>-7.0830</td>\n",
       "      <td>5.3</td>\n",
       "      <td>0</td>\n",
       "      <td>1027.0</td>\n",
       "      <td>0.0</td>\n",
       "      <td>0.0</td>\n",
       "      <td>2.8</td>\n",
       "      <td>OFICIAL</td>\n",
       "    </tr>\n",
       "    <tr>\n",
       "      <th>...</th>\n",
       "      <td>...</td>\n",
       "      <td>...</td>\n",
       "      <td>...</td>\n",
       "      <td>...</td>\n",
       "      <td>...</td>\n",
       "      <td>...</td>\n",
       "      <td>...</td>\n",
       "      <td>...</td>\n",
       "      <td>...</td>\n",
       "      <td>...</td>\n",
       "    </tr>\n",
       "    <tr>\n",
       "      <th>2019-06-01 19:40:00</th>\n",
       "      <td>20249</td>\n",
       "      <td>42.2987</td>\n",
       "      <td>-7.5907</td>\n",
       "      <td>25.0</td>\n",
       "      <td>0</td>\n",
       "      <td>909.0</td>\n",
       "      <td>0.0</td>\n",
       "      <td>402.0</td>\n",
       "      <td>2.0</td>\n",
       "      <td>OFICIAL</td>\n",
       "    </tr>\n",
       "    <tr>\n",
       "      <th>2019-06-01 19:40:00</th>\n",
       "      <td>20259</td>\n",
       "      <td>42.1630</td>\n",
       "      <td>-7.0896</td>\n",
       "      <td>27.0</td>\n",
       "      <td>0</td>\n",
       "      <td>922.0</td>\n",
       "      <td>0.0</td>\n",
       "      <td>374.0</td>\n",
       "      <td>3.0</td>\n",
       "      <td>OFICIAL</td>\n",
       "    </tr>\n",
       "    <tr>\n",
       "      <th>2019-06-01 19:40:00</th>\n",
       "      <td>20255</td>\n",
       "      <td>42.4631</td>\n",
       "      <td>-6.9295</td>\n",
       "      <td>30.0</td>\n",
       "      <td>0</td>\n",
       "      <td>NaN</td>\n",
       "      <td>0.0</td>\n",
       "      <td>378.0</td>\n",
       "      <td>0.0</td>\n",
       "      <td>OFICIAL</td>\n",
       "    </tr>\n",
       "    <tr>\n",
       "      <th>2019-06-01 19:40:00</th>\n",
       "      <td>20187</td>\n",
       "      <td>42.8760</td>\n",
       "      <td>-8.5594</td>\n",
       "      <td>28.0</td>\n",
       "      <td>0</td>\n",
       "      <td>988.0</td>\n",
       "      <td>0.0</td>\n",
       "      <td>419.0</td>\n",
       "      <td>3.0</td>\n",
       "      <td>OFICIAL</td>\n",
       "    </tr>\n",
       "    <tr>\n",
       "      <th>2019-06-01 19:40:00</th>\n",
       "      <td>20295</td>\n",
       "      <td>42.0786</td>\n",
       "      <td>-8.6794</td>\n",
       "      <td>25.0</td>\n",
       "      <td>0</td>\n",
       "      <td>963.0</td>\n",
       "      <td>0.0</td>\n",
       "      <td>26.0</td>\n",
       "      <td>0.0</td>\n",
       "      <td>OFICIAL</td>\n",
       "    </tr>\n",
       "  </tbody>\n",
       "</table>\n",
       "<p>2510008 rows × 10 columns</p>\n",
       "</div>"
      ],
      "text/plain": [
       "                     estacionid      lat     lon  tamb  hum    pres  prec  \\\n",
       "fecha                                                                       \n",
       "2019-01-01 00:10:00       20284  42.4044 -8.6730   5.4    0  1022.0   0.0   \n",
       "2019-01-01 00:10:00       20233  42.3554 -7.0086   7.3    0   892.1   0.0   \n",
       "2019-01-01 00:10:00       20218  43.1626 -7.2826   9.2    0   955.0   0.0   \n",
       "2019-01-01 00:10:00       20217  42.7071 -7.0471   8.5    0   882.5   0.0   \n",
       "2019-01-01 00:10:00       20221  43.5407 -7.0830   5.3    0  1027.0   0.0   \n",
       "...                         ...      ...     ...   ...  ...     ...   ...   \n",
       "2019-06-01 19:40:00       20249  42.2987 -7.5907  25.0    0   909.0   0.0   \n",
       "2019-06-01 19:40:00       20259  42.1630 -7.0896  27.0    0   922.0   0.0   \n",
       "2019-06-01 19:40:00       20255  42.4631 -6.9295  30.0    0     NaN   0.0   \n",
       "2019-06-01 19:40:00       20187  42.8760 -8.5594  28.0    0   988.0   0.0   \n",
       "2019-06-01 19:40:00       20295  42.0786 -8.6794  25.0    0   963.0   0.0   \n",
       "\n",
       "                       rad  vvien tipodered  \n",
       "fecha                                        \n",
       "2019-01-01 00:10:00    0.0    0.7   OFICIAL  \n",
       "2019-01-01 00:10:00    0.0    3.5   OFICIAL  \n",
       "2019-01-01 00:10:00    0.0    0.0   OFICIAL  \n",
       "2019-01-01 00:10:00    1.0    6.3   OFICIAL  \n",
       "2019-01-01 00:10:00    0.0    2.8   OFICIAL  \n",
       "...                    ...    ...       ...  \n",
       "2019-06-01 19:40:00  402.0    2.0   OFICIAL  \n",
       "2019-06-01 19:40:00  374.0    3.0   OFICIAL  \n",
       "2019-06-01 19:40:00  378.0    0.0   OFICIAL  \n",
       "2019-06-01 19:40:00  419.0    3.0   OFICIAL  \n",
       "2019-06-01 19:40:00   26.0    0.0   OFICIAL  \n",
       "\n",
       "[2510008 rows x 10 columns]"
      ]
     },
     "execution_count": 5,
     "metadata": {},
     "output_type": "execute_result"
    }
   ],
   "source": [
    "data"
   ]
  },
  {
   "cell_type": "markdown",
   "metadata": {},
   "source": [
    "### Eliminar columnas innecesarias"
   ]
  },
  {
   "cell_type": "code",
   "execution_count": 6,
   "metadata": {},
   "outputs": [],
   "source": [
    "data = data.drop(columns=['tipodered', 'hum', 'prec', 'vvien', 'pres'])"
   ]
  },
  {
   "cell_type": "code",
   "execution_count": 7,
   "metadata": {},
   "outputs": [
    {
     "data": {
      "text/plain": [
       "2510008"
      ]
     },
     "execution_count": 7,
     "metadata": {},
     "output_type": "execute_result"
    }
   ],
   "source": [
    "len(data)"
   ]
  },
  {
   "cell_type": "code",
   "execution_count": 8,
   "metadata": {},
   "outputs": [
    {
     "data": {
      "text/plain": [
       "estacionid        0\n",
       "lat               0\n",
       "lon               0\n",
       "tamb           2475\n",
       "rad           10847\n",
       "dtype: int64"
      ]
     },
     "execution_count": 8,
     "metadata": {},
     "output_type": "execute_result"
    }
   ],
   "source": [
    "data.isnull().sum()"
   ]
  },
  {
   "cell_type": "code",
   "execution_count": 9,
   "metadata": {},
   "outputs": [],
   "source": [
    "data = data.dropna()"
   ]
  },
  {
   "cell_type": "code",
   "execution_count": 10,
   "metadata": {},
   "outputs": [
    {
     "data": {
      "text/plain": [
       "2496903"
      ]
     },
     "execution_count": 10,
     "metadata": {},
     "output_type": "execute_result"
    }
   ],
   "source": [
    "len(data)"
   ]
  },
  {
   "cell_type": "code",
   "execution_count": 11,
   "metadata": {},
   "outputs": [
    {
     "data": {
      "text/plain": [
       "estacionid    0\n",
       "lat           0\n",
       "lon           0\n",
       "tamb          0\n",
       "rad           0\n",
       "dtype: int64"
      ]
     },
     "execution_count": 11,
     "metadata": {},
     "output_type": "execute_result"
    }
   ],
   "source": [
    "data.isnull().sum()"
   ]
  },
  {
   "cell_type": "markdown",
   "metadata": {},
   "source": [
    "#### Escalar"
   ]
  },
  {
   "cell_type": "code",
   "execution_count": 12,
   "metadata": {},
   "outputs": [],
   "source": [
    "class Scaler:\n",
    "    def fit(self, data):\n",
    "        self._min = data.min()\n",
    "        self._max = data.max()\n",
    "    \n",
    "    def normalize(self, data):\n",
    "        return (data - self._min) / (self._max - self._min)\n",
    "    \n",
    "    def denormalize(self, data):\n",
    "        return data*(self._max-self._min)+self._min"
   ]
  },
  {
   "cell_type": "code",
   "execution_count": 13,
   "metadata": {},
   "outputs": [],
   "source": [
    "tamb_scaler = Scaler()\n",
    "tamb_scaler.fit(data['tamb'])\n",
    "data['tamb'] = tamb_scaler.normalize(data['tamb'])\n",
    "\n",
    "rad_scaler = Scaler()\n",
    "rad_scaler.fit(data['rad'])\n",
    "data['rad'] = rad_scaler.normalize(data['rad'])"
   ]
  },
  {
   "cell_type": "code",
   "execution_count": 14,
   "metadata": {},
   "outputs": [
    {
     "data": {
      "text/html": [
       "<div>\n",
       "<style scoped>\n",
       "    .dataframe tbody tr th:only-of-type {\n",
       "        vertical-align: middle;\n",
       "    }\n",
       "\n",
       "    .dataframe tbody tr th {\n",
       "        vertical-align: top;\n",
       "    }\n",
       "\n",
       "    .dataframe thead th {\n",
       "        text-align: right;\n",
       "    }\n",
       "</style>\n",
       "<table border=\"1\" class=\"dataframe\">\n",
       "  <thead>\n",
       "    <tr style=\"text-align: right;\">\n",
       "      <th></th>\n",
       "      <th>estacionid</th>\n",
       "      <th>lat</th>\n",
       "      <th>lon</th>\n",
       "      <th>tamb</th>\n",
       "      <th>rad</th>\n",
       "    </tr>\n",
       "    <tr>\n",
       "      <th>fecha</th>\n",
       "      <th></th>\n",
       "      <th></th>\n",
       "      <th></th>\n",
       "      <th></th>\n",
       "      <th></th>\n",
       "    </tr>\n",
       "  </thead>\n",
       "  <tbody>\n",
       "    <tr>\n",
       "      <th>2019-01-01 00:10:00</th>\n",
       "      <td>20284</td>\n",
       "      <td>42.4044</td>\n",
       "      <td>-8.6730</td>\n",
       "      <td>0.470423</td>\n",
       "      <td>0.000000</td>\n",
       "    </tr>\n",
       "    <tr>\n",
       "      <th>2019-01-01 00:10:00</th>\n",
       "      <td>20233</td>\n",
       "      <td>42.3554</td>\n",
       "      <td>-7.0086</td>\n",
       "      <td>0.497183</td>\n",
       "      <td>0.000000</td>\n",
       "    </tr>\n",
       "    <tr>\n",
       "      <th>2019-01-01 00:10:00</th>\n",
       "      <td>20218</td>\n",
       "      <td>43.1626</td>\n",
       "      <td>-7.2826</td>\n",
       "      <td>0.523944</td>\n",
       "      <td>0.000000</td>\n",
       "    </tr>\n",
       "    <tr>\n",
       "      <th>2019-01-01 00:10:00</th>\n",
       "      <td>20217</td>\n",
       "      <td>42.7071</td>\n",
       "      <td>-7.0471</td>\n",
       "      <td>0.514085</td>\n",
       "      <td>0.000791</td>\n",
       "    </tr>\n",
       "    <tr>\n",
       "      <th>2019-01-01 00:10:00</th>\n",
       "      <td>20221</td>\n",
       "      <td>43.5407</td>\n",
       "      <td>-7.0830</td>\n",
       "      <td>0.469014</td>\n",
       "      <td>0.000000</td>\n",
       "    </tr>\n",
       "    <tr>\n",
       "      <th>...</th>\n",
       "      <td>...</td>\n",
       "      <td>...</td>\n",
       "      <td>...</td>\n",
       "      <td>...</td>\n",
       "      <td>...</td>\n",
       "    </tr>\n",
       "    <tr>\n",
       "      <th>2019-06-01 19:40:00</th>\n",
       "      <td>20249</td>\n",
       "      <td>42.2987</td>\n",
       "      <td>-7.5907</td>\n",
       "      <td>0.746479</td>\n",
       "      <td>0.317787</td>\n",
       "    </tr>\n",
       "    <tr>\n",
       "      <th>2019-06-01 19:40:00</th>\n",
       "      <td>20259</td>\n",
       "      <td>42.1630</td>\n",
       "      <td>-7.0896</td>\n",
       "      <td>0.774648</td>\n",
       "      <td>0.295652</td>\n",
       "    </tr>\n",
       "    <tr>\n",
       "      <th>2019-06-01 19:40:00</th>\n",
       "      <td>20255</td>\n",
       "      <td>42.4631</td>\n",
       "      <td>-6.9295</td>\n",
       "      <td>0.816901</td>\n",
       "      <td>0.298814</td>\n",
       "    </tr>\n",
       "    <tr>\n",
       "      <th>2019-06-01 19:40:00</th>\n",
       "      <td>20187</td>\n",
       "      <td>42.8760</td>\n",
       "      <td>-8.5594</td>\n",
       "      <td>0.788732</td>\n",
       "      <td>0.331225</td>\n",
       "    </tr>\n",
       "    <tr>\n",
       "      <th>2019-06-01 19:40:00</th>\n",
       "      <td>20295</td>\n",
       "      <td>42.0786</td>\n",
       "      <td>-8.6794</td>\n",
       "      <td>0.746479</td>\n",
       "      <td>0.020553</td>\n",
       "    </tr>\n",
       "  </tbody>\n",
       "</table>\n",
       "<p>2496903 rows × 5 columns</p>\n",
       "</div>"
      ],
      "text/plain": [
       "                     estacionid      lat     lon      tamb       rad\n",
       "fecha                                                               \n",
       "2019-01-01 00:10:00       20284  42.4044 -8.6730  0.470423  0.000000\n",
       "2019-01-01 00:10:00       20233  42.3554 -7.0086  0.497183  0.000000\n",
       "2019-01-01 00:10:00       20218  43.1626 -7.2826  0.523944  0.000000\n",
       "2019-01-01 00:10:00       20217  42.7071 -7.0471  0.514085  0.000791\n",
       "2019-01-01 00:10:00       20221  43.5407 -7.0830  0.469014  0.000000\n",
       "...                         ...      ...     ...       ...       ...\n",
       "2019-06-01 19:40:00       20249  42.2987 -7.5907  0.746479  0.317787\n",
       "2019-06-01 19:40:00       20259  42.1630 -7.0896  0.774648  0.295652\n",
       "2019-06-01 19:40:00       20255  42.4631 -6.9295  0.816901  0.298814\n",
       "2019-06-01 19:40:00       20187  42.8760 -8.5594  0.788732  0.331225\n",
       "2019-06-01 19:40:00       20295  42.0786 -8.6794  0.746479  0.020553\n",
       "\n",
       "[2496903 rows x 5 columns]"
      ]
     },
     "execution_count": 14,
     "metadata": {},
     "output_type": "execute_result"
    }
   ],
   "source": [
    "data"
   ]
  },
  {
   "cell_type": "markdown",
   "metadata": {},
   "source": [
    "### Obtener id de las estaciones"
   ]
  },
  {
   "cell_type": "code",
   "execution_count": 15,
   "metadata": {},
   "outputs": [
    {
     "data": {
      "text/plain": [
       "142"
      ]
     },
     "execution_count": 15,
     "metadata": {},
     "output_type": "execute_result"
    }
   ],
   "source": [
    "estaciones = [s for s in set(data['estacionid'])]\n",
    "\n",
    "len(estaciones)"
   ]
  },
  {
   "cell_type": "markdown",
   "metadata": {},
   "source": [
    "### Obtener datos de las estaciones\n",
    "\n",
    "**Las estaciones que no tienen registro de radiación son eliminadas**"
   ]
  },
  {
   "cell_type": "code",
   "execution_count": 16,
   "metadata": {},
   "outputs": [
    {
     "name": "stdout",
     "output_type": "stream",
     "text": [
      "CPU times: user 2.88 s, sys: 3.58 ms, total: 2.89 s\n",
      "Wall time: 2.98 s\n"
     ]
    }
   ],
   "source": [
    "%%time\n",
    "data_by_station = []\n",
    "\n",
    "for s in estaciones:\n",
    "    filter_station = data['estacionid'] == s\n",
    "    data_station = data[filter_station].drop(columns=['estacionid'])\n",
    "    d = data_station.describe()\n",
    "    if d.rad['max'] != 0:\n",
    "        data_by_station.append(data_station)"
   ]
  },
  {
   "cell_type": "code",
   "execution_count": 17,
   "metadata": {},
   "outputs": [
    {
     "data": {
      "text/plain": [
       "111"
      ]
     },
     "execution_count": 17,
     "metadata": {},
     "output_type": "execute_result"
    }
   ],
   "source": [
    "len(data_by_station)"
   ]
  },
  {
   "cell_type": "markdown",
   "metadata": {},
   "source": [
    "### Ajustar intervalos de tiempo\n",
    "\n",
    "**Ajuste de 1 hora**"
   ]
  },
  {
   "cell_type": "code",
   "execution_count": 18,
   "metadata": {},
   "outputs": [
    {
     "name": "stdout",
     "output_type": "stream",
     "text": [
      "CPU times: user 316 ms, sys: 6.47 ms, total: 323 ms\n",
      "Wall time: 323 ms\n"
     ]
    }
   ],
   "source": [
    "%%time\n",
    "data_by_station = [s.resample('1H').mean().ffill().bfill() for s in data_by_station]"
   ]
  },
  {
   "cell_type": "code",
   "execution_count": 19,
   "metadata": {},
   "outputs": [
    {
     "data": {
      "text/html": [
       "<div>\n",
       "<style scoped>\n",
       "    .dataframe tbody tr th:only-of-type {\n",
       "        vertical-align: middle;\n",
       "    }\n",
       "\n",
       "    .dataframe tbody tr th {\n",
       "        vertical-align: top;\n",
       "    }\n",
       "\n",
       "    .dataframe thead th {\n",
       "        text-align: right;\n",
       "    }\n",
       "</style>\n",
       "<table border=\"1\" class=\"dataframe\">\n",
       "  <thead>\n",
       "    <tr style=\"text-align: right;\">\n",
       "      <th></th>\n",
       "      <th>lat</th>\n",
       "      <th>lon</th>\n",
       "      <th>tamb</th>\n",
       "      <th>rad</th>\n",
       "    </tr>\n",
       "    <tr>\n",
       "      <th>fecha</th>\n",
       "      <th></th>\n",
       "      <th></th>\n",
       "      <th></th>\n",
       "      <th></th>\n",
       "    </tr>\n",
       "  </thead>\n",
       "  <tbody>\n",
       "    <tr>\n",
       "      <th>2019-01-01 01:00:00</th>\n",
       "      <td>43.3634</td>\n",
       "      <td>-8.4419</td>\n",
       "      <td>0.545070</td>\n",
       "      <td>0.000000</td>\n",
       "    </tr>\n",
       "    <tr>\n",
       "      <th>2019-01-01 02:00:00</th>\n",
       "      <td>43.3634</td>\n",
       "      <td>-8.4419</td>\n",
       "      <td>0.540141</td>\n",
       "      <td>0.000000</td>\n",
       "    </tr>\n",
       "    <tr>\n",
       "      <th>2019-01-01 03:00:00</th>\n",
       "      <td>43.3634</td>\n",
       "      <td>-8.4419</td>\n",
       "      <td>0.532394</td>\n",
       "      <td>0.000000</td>\n",
       "    </tr>\n",
       "    <tr>\n",
       "      <th>2019-01-01 04:00:00</th>\n",
       "      <td>43.3634</td>\n",
       "      <td>-8.4419</td>\n",
       "      <td>0.551056</td>\n",
       "      <td>0.000000</td>\n",
       "    </tr>\n",
       "    <tr>\n",
       "      <th>2019-01-01 05:00:00</th>\n",
       "      <td>43.3634</td>\n",
       "      <td>-8.4419</td>\n",
       "      <td>0.558803</td>\n",
       "      <td>0.000000</td>\n",
       "    </tr>\n",
       "    <tr>\n",
       "      <th>...</th>\n",
       "      <td>...</td>\n",
       "      <td>...</td>\n",
       "      <td>...</td>\n",
       "      <td>...</td>\n",
       "    </tr>\n",
       "    <tr>\n",
       "      <th>2019-06-01 15:00:00</th>\n",
       "      <td>43.3634</td>\n",
       "      <td>-8.4419</td>\n",
       "      <td>0.714789</td>\n",
       "      <td>0.672727</td>\n",
       "    </tr>\n",
       "    <tr>\n",
       "      <th>2019-06-01 16:00:00</th>\n",
       "      <td>43.3634</td>\n",
       "      <td>-8.4419</td>\n",
       "      <td>0.711268</td>\n",
       "      <td>0.632806</td>\n",
       "    </tr>\n",
       "    <tr>\n",
       "      <th>2019-06-01 17:00:00</th>\n",
       "      <td>43.3634</td>\n",
       "      <td>-8.4419</td>\n",
       "      <td>0.742958</td>\n",
       "      <td>0.548419</td>\n",
       "    </tr>\n",
       "    <tr>\n",
       "      <th>2019-06-01 18:00:00</th>\n",
       "      <td>43.3634</td>\n",
       "      <td>-8.4419</td>\n",
       "      <td>0.764085</td>\n",
       "      <td>0.471542</td>\n",
       "    </tr>\n",
       "    <tr>\n",
       "      <th>2019-06-01 19:00:00</th>\n",
       "      <td>43.3634</td>\n",
       "      <td>-8.4419</td>\n",
       "      <td>0.732394</td>\n",
       "      <td>0.296970</td>\n",
       "    </tr>\n",
       "  </tbody>\n",
       "</table>\n",
       "<p>3643 rows × 4 columns</p>\n",
       "</div>"
      ],
      "text/plain": [
       "                         lat     lon      tamb       rad\n",
       "fecha                                                   \n",
       "2019-01-01 01:00:00  43.3634 -8.4419  0.545070  0.000000\n",
       "2019-01-01 02:00:00  43.3634 -8.4419  0.540141  0.000000\n",
       "2019-01-01 03:00:00  43.3634 -8.4419  0.532394  0.000000\n",
       "2019-01-01 04:00:00  43.3634 -8.4419  0.551056  0.000000\n",
       "2019-01-01 05:00:00  43.3634 -8.4419  0.558803  0.000000\n",
       "...                      ...     ...       ...       ...\n",
       "2019-06-01 15:00:00  43.3634 -8.4419  0.714789  0.672727\n",
       "2019-06-01 16:00:00  43.3634 -8.4419  0.711268  0.632806\n",
       "2019-06-01 17:00:00  43.3634 -8.4419  0.742958  0.548419\n",
       "2019-06-01 18:00:00  43.3634 -8.4419  0.764085  0.471542\n",
       "2019-06-01 19:00:00  43.3634 -8.4419  0.732394  0.296970\n",
       "\n",
       "[3643 rows x 4 columns]"
      ]
     },
     "execution_count": 19,
     "metadata": {},
     "output_type": "execute_result"
    }
   ],
   "source": [
    "data_by_station[0]"
   ]
  },
  {
   "cell_type": "code",
   "execution_count": 20,
   "metadata": {},
   "outputs": [],
   "source": [
    "for d in data_by_station:\n",
    "    d['day']=[x.day for x in d.index]\n",
    "    d['month']=[x.month for x in d.index]\n",
    "    d['hour']=[x.hour for x in d.index]"
   ]
  },
  {
   "cell_type": "code",
   "execution_count": 21,
   "metadata": {},
   "outputs": [
    {
     "data": {
      "text/html": [
       "<div>\n",
       "<style scoped>\n",
       "    .dataframe tbody tr th:only-of-type {\n",
       "        vertical-align: middle;\n",
       "    }\n",
       "\n",
       "    .dataframe tbody tr th {\n",
       "        vertical-align: top;\n",
       "    }\n",
       "\n",
       "    .dataframe thead th {\n",
       "        text-align: right;\n",
       "    }\n",
       "</style>\n",
       "<table border=\"1\" class=\"dataframe\">\n",
       "  <thead>\n",
       "    <tr style=\"text-align: right;\">\n",
       "      <th></th>\n",
       "      <th>lat</th>\n",
       "      <th>lon</th>\n",
       "      <th>tamb</th>\n",
       "      <th>rad</th>\n",
       "      <th>day</th>\n",
       "      <th>month</th>\n",
       "      <th>hour</th>\n",
       "    </tr>\n",
       "    <tr>\n",
       "      <th>fecha</th>\n",
       "      <th></th>\n",
       "      <th></th>\n",
       "      <th></th>\n",
       "      <th></th>\n",
       "      <th></th>\n",
       "      <th></th>\n",
       "      <th></th>\n",
       "    </tr>\n",
       "  </thead>\n",
       "  <tbody>\n",
       "    <tr>\n",
       "      <th>2019-01-01 01:00:00</th>\n",
       "      <td>43.3634</td>\n",
       "      <td>-8.4419</td>\n",
       "      <td>0.545070</td>\n",
       "      <td>0.000000</td>\n",
       "      <td>1</td>\n",
       "      <td>1</td>\n",
       "      <td>1</td>\n",
       "    </tr>\n",
       "    <tr>\n",
       "      <th>2019-01-01 02:00:00</th>\n",
       "      <td>43.3634</td>\n",
       "      <td>-8.4419</td>\n",
       "      <td>0.540141</td>\n",
       "      <td>0.000000</td>\n",
       "      <td>1</td>\n",
       "      <td>1</td>\n",
       "      <td>2</td>\n",
       "    </tr>\n",
       "    <tr>\n",
       "      <th>2019-01-01 03:00:00</th>\n",
       "      <td>43.3634</td>\n",
       "      <td>-8.4419</td>\n",
       "      <td>0.532394</td>\n",
       "      <td>0.000000</td>\n",
       "      <td>1</td>\n",
       "      <td>1</td>\n",
       "      <td>3</td>\n",
       "    </tr>\n",
       "    <tr>\n",
       "      <th>2019-01-01 04:00:00</th>\n",
       "      <td>43.3634</td>\n",
       "      <td>-8.4419</td>\n",
       "      <td>0.551056</td>\n",
       "      <td>0.000000</td>\n",
       "      <td>1</td>\n",
       "      <td>1</td>\n",
       "      <td>4</td>\n",
       "    </tr>\n",
       "    <tr>\n",
       "      <th>2019-01-01 05:00:00</th>\n",
       "      <td>43.3634</td>\n",
       "      <td>-8.4419</td>\n",
       "      <td>0.558803</td>\n",
       "      <td>0.000000</td>\n",
       "      <td>1</td>\n",
       "      <td>1</td>\n",
       "      <td>5</td>\n",
       "    </tr>\n",
       "    <tr>\n",
       "      <th>...</th>\n",
       "      <td>...</td>\n",
       "      <td>...</td>\n",
       "      <td>...</td>\n",
       "      <td>...</td>\n",
       "      <td>...</td>\n",
       "      <td>...</td>\n",
       "      <td>...</td>\n",
       "    </tr>\n",
       "    <tr>\n",
       "      <th>2019-06-01 15:00:00</th>\n",
       "      <td>43.3634</td>\n",
       "      <td>-8.4419</td>\n",
       "      <td>0.714789</td>\n",
       "      <td>0.672727</td>\n",
       "      <td>1</td>\n",
       "      <td>6</td>\n",
       "      <td>15</td>\n",
       "    </tr>\n",
       "    <tr>\n",
       "      <th>2019-06-01 16:00:00</th>\n",
       "      <td>43.3634</td>\n",
       "      <td>-8.4419</td>\n",
       "      <td>0.711268</td>\n",
       "      <td>0.632806</td>\n",
       "      <td>1</td>\n",
       "      <td>6</td>\n",
       "      <td>16</td>\n",
       "    </tr>\n",
       "    <tr>\n",
       "      <th>2019-06-01 17:00:00</th>\n",
       "      <td>43.3634</td>\n",
       "      <td>-8.4419</td>\n",
       "      <td>0.742958</td>\n",
       "      <td>0.548419</td>\n",
       "      <td>1</td>\n",
       "      <td>6</td>\n",
       "      <td>17</td>\n",
       "    </tr>\n",
       "    <tr>\n",
       "      <th>2019-06-01 18:00:00</th>\n",
       "      <td>43.3634</td>\n",
       "      <td>-8.4419</td>\n",
       "      <td>0.764085</td>\n",
       "      <td>0.471542</td>\n",
       "      <td>1</td>\n",
       "      <td>6</td>\n",
       "      <td>18</td>\n",
       "    </tr>\n",
       "    <tr>\n",
       "      <th>2019-06-01 19:00:00</th>\n",
       "      <td>43.3634</td>\n",
       "      <td>-8.4419</td>\n",
       "      <td>0.732394</td>\n",
       "      <td>0.296970</td>\n",
       "      <td>1</td>\n",
       "      <td>6</td>\n",
       "      <td>19</td>\n",
       "    </tr>\n",
       "  </tbody>\n",
       "</table>\n",
       "<p>3643 rows × 7 columns</p>\n",
       "</div>"
      ],
      "text/plain": [
       "                         lat     lon      tamb       rad  day  month  hour\n",
       "fecha                                                                     \n",
       "2019-01-01 01:00:00  43.3634 -8.4419  0.545070  0.000000    1      1     1\n",
       "2019-01-01 02:00:00  43.3634 -8.4419  0.540141  0.000000    1      1     2\n",
       "2019-01-01 03:00:00  43.3634 -8.4419  0.532394  0.000000    1      1     3\n",
       "2019-01-01 04:00:00  43.3634 -8.4419  0.551056  0.000000    1      1     4\n",
       "2019-01-01 05:00:00  43.3634 -8.4419  0.558803  0.000000    1      1     5\n",
       "...                      ...     ...       ...       ...  ...    ...   ...\n",
       "2019-06-01 15:00:00  43.3634 -8.4419  0.714789  0.672727    1      6    15\n",
       "2019-06-01 16:00:00  43.3634 -8.4419  0.711268  0.632806    1      6    16\n",
       "2019-06-01 17:00:00  43.3634 -8.4419  0.742958  0.548419    1      6    17\n",
       "2019-06-01 18:00:00  43.3634 -8.4419  0.764085  0.471542    1      6    18\n",
       "2019-06-01 19:00:00  43.3634 -8.4419  0.732394  0.296970    1      6    19\n",
       "\n",
       "[3643 rows x 7 columns]"
      ]
     },
     "execution_count": 21,
     "metadata": {},
     "output_type": "execute_result"
    }
   ],
   "source": [
    "data_by_station[0]"
   ]
  },
  {
   "cell_type": "code",
   "execution_count": 22,
   "metadata": {},
   "outputs": [
    {
     "data": {
      "text/plain": [
       "array([0.        , 0.        , 0.        , ..., 0.54841897, 0.4715415 ,\n",
       "       0.2969697 ])"
      ]
     },
     "execution_count": 22,
     "metadata": {},
     "output_type": "execute_result"
    }
   ],
   "source": [
    "### rad\n",
    "data_by_station[0].values[:, -4]"
   ]
  },
  {
   "cell_type": "markdown",
   "metadata": {},
   "source": [
    "### Visualización"
   ]
  },
  {
   "cell_type": "code",
   "execution_count": 23,
   "metadata": {},
   "outputs": [],
   "source": [
    "import matplotlib.pyplot as plt\n",
    "import seaborn as sns\n",
    "\n",
    "sns.set(rc={'figure.figsize': (16, 6)})"
   ]
  },
  {
   "cell_type": "markdown",
   "metadata": {},
   "source": [
    "### Preparación de los datos para el entrenamiento de la red"
   ]
  },
  {
   "cell_type": "code",
   "execution_count": 24,
   "metadata": {},
   "outputs": [],
   "source": [
    "import numpy as np\n",
    "import tensorflow as tf\n",
    "\n",
    "# Se fija la semilla para generar valores aleatorios\n",
    "np.random.seed(1)\n",
    "tf.random.set_seed(1)"
   ]
  },
  {
   "cell_type": "markdown",
   "metadata": {},
   "source": [
    "#### Función para preparar los datos para una RNN"
   ]
  },
  {
   "cell_type": "code",
   "execution_count": 25,
   "metadata": {},
   "outputs": [],
   "source": [
    "def get_rnn_data(dataset, history_size=30, target_size=7):\n",
    "    start_index = history_size\n",
    "    end_index = len(dataset) - target_size\n",
    "    \n",
    "    data = []\n",
    "    labels = []\n",
    "    \n",
    "    for i in range(start_index, end_index):\n",
    "        indices = range(i - history_size, i, 1)\n",
    "        data.append(dataset[indices])\n",
    "        labels.append(dataset[i:i+target_size, -4])\n",
    "        \n",
    "    data = np.array(data)\n",
    "    labels = np.array(labels)\n",
    "    \n",
    "    return data, labels"
   ]
  },
  {
   "cell_type": "code",
   "execution_count": 26,
   "metadata": {},
   "outputs": [],
   "source": [
    "past_history = 23 # Pasar información de 23 horas anteriores\n",
    "forecast_horizon = 1 # Obtener nivel de radiacion para la siguiente hora"
   ]
  },
  {
   "cell_type": "code",
   "execution_count": 27,
   "metadata": {},
   "outputs": [
    {
     "name": "stdout",
     "output_type": "stream",
     "text": [
      "CPU times: user 7.64 s, sys: 151 ms, total: 7.79 s\n",
      "Wall time: 7.75 s\n"
     ]
    }
   ],
   "source": [
    "%%time\n",
    "data = [get_rnn_data(d.values, past_history, forecast_horizon) for d in data_by_station]"
   ]
  },
  {
   "cell_type": "code",
   "execution_count": 28,
   "metadata": {},
   "outputs": [
    {
     "data": {
      "text/plain": [
       "111"
      ]
     },
     "execution_count": 28,
     "metadata": {},
     "output_type": "execute_result"
    }
   ],
   "source": [
    "len(data)"
   ]
  },
  {
   "cell_type": "code",
   "execution_count": 29,
   "metadata": {},
   "outputs": [],
   "source": [
    "data_input = data[0][0]\n",
    "data_target = data[0][1]"
   ]
  },
  {
   "cell_type": "code",
   "execution_count": 30,
   "metadata": {},
   "outputs": [
    {
     "data": {
      "text/plain": [
       "(3619, 23, 7)"
      ]
     },
     "execution_count": 30,
     "metadata": {},
     "output_type": "execute_result"
    }
   ],
   "source": [
    "data_input.shape"
   ]
  },
  {
   "cell_type": "code",
   "execution_count": 31,
   "metadata": {},
   "outputs": [
    {
     "data": {
      "text/plain": [
       "(3619, 1)"
      ]
     },
     "execution_count": 31,
     "metadata": {},
     "output_type": "execute_result"
    }
   ],
   "source": [
    "data_target.shape"
   ]
  },
  {
   "cell_type": "code",
   "execution_count": 32,
   "metadata": {},
   "outputs": [
    {
     "data": {
      "text/plain": [
       "array([[  0.  ],\n",
       "       [  0.  ],\n",
       "       [  0.  ],\n",
       "       ...,\n",
       "       [800.5 ],\n",
       "       [693.75],\n",
       "       [596.5 ]])"
      ]
     },
     "execution_count": 32,
     "metadata": {},
     "output_type": "execute_result"
    }
   ],
   "source": [
    "rad_scaler.denormalize(data_target)"
   ]
  },
  {
   "cell_type": "code",
   "execution_count": 33,
   "metadata": {},
   "outputs": [
    {
     "data": {
      "text/plain": [
       "array([[0.        ],\n",
       "       [0.        ],\n",
       "       [0.        ],\n",
       "       ...,\n",
       "       [0.63280632],\n",
       "       [0.54841897],\n",
       "       [0.4715415 ]])"
      ]
     },
     "execution_count": 33,
     "metadata": {},
     "output_type": "execute_result"
    }
   ],
   "source": [
    "data_target"
   ]
  },
  {
   "cell_type": "code",
   "execution_count": 34,
   "metadata": {},
   "outputs": [
    {
     "name": "stdout",
     "output_type": "stream",
     "text": [
      "CPU times: user 6.86 s, sys: 3.08 s, total: 9.94 s\n",
      "Wall time: 9.96 s\n"
     ]
    }
   ],
   "source": [
    "%%time\n",
    "for i in range(1, len(data)):\n",
    "    data_input = np.concatenate((data_input, data[i][0]))\n",
    "    data_target = np.concatenate((data_target, data[i][1]))"
   ]
  },
  {
   "cell_type": "code",
   "execution_count": 35,
   "metadata": {},
   "outputs": [
    {
     "data": {
      "text/plain": [
       "(401335, 23, 7)"
      ]
     },
     "execution_count": 35,
     "metadata": {},
     "output_type": "execute_result"
    }
   ],
   "source": [
    "data_input.shape"
   ]
  },
  {
   "cell_type": "code",
   "execution_count": 36,
   "metadata": {},
   "outputs": [
    {
     "data": {
      "text/plain": [
       "(401335, 1)"
      ]
     },
     "execution_count": 36,
     "metadata": {},
     "output_type": "execute_result"
    }
   ],
   "source": [
    "data_target.shape"
   ]
  },
  {
   "cell_type": "markdown",
   "metadata": {},
   "source": [
    "#### GRU"
   ]
  },
  {
   "cell_type": "code",
   "execution_count": 37,
   "metadata": {},
   "outputs": [],
   "source": [
    "from tensorflow.keras.models import Sequential\n",
    "from tensorflow.keras.layers import GRU, Dense\n",
    "from tensorflow.keras.losses import mae\n",
    "from tensorflow.keras.callbacks import EarlyStopping"
   ]
  },
  {
   "cell_type": "code",
   "execution_count": 38,
   "metadata": {},
   "outputs": [],
   "source": [
    "earlyStopping = EarlyStopping(monitor='val_loss', mode='min', patience=3, restore_best_weights=True)"
   ]
  },
  {
   "cell_type": "code",
   "execution_count": 39,
   "metadata": {},
   "outputs": [],
   "source": [
    "from sklearn.model_selection import train_test_split"
   ]
  },
  {
   "cell_type": "code",
   "execution_count": 40,
   "metadata": {},
   "outputs": [
    {
     "name": "stdout",
     "output_type": "stream",
     "text": [
      "CPU times: user 112 ms, sys: 60 ms, total: 172 ms\n",
      "Wall time: 171 ms\n"
     ]
    }
   ],
   "source": [
    "%%time\n",
    "X_train, X_test, y_train, y_test = train_test_split(data_input, data_target, train_size=0.8)"
   ]
  },
  {
   "cell_type": "code",
   "execution_count": 41,
   "metadata": {},
   "outputs": [],
   "source": [
    "def rad_mae(x, y):\n",
    "    X = rad_scaler.denormalize(x)\n",
    "    Y = rad_scaler.denormalize(y)\n",
    "    \n",
    "    return mae(X, Y)"
   ]
  },
  {
   "cell_type": "code",
   "execution_count": 42,
   "metadata": {},
   "outputs": [
    {
     "name": "stdout",
     "output_type": "stream",
     "text": [
      "Model: \"sequential\"\n",
      "_________________________________________________________________\n",
      "Layer (type)                 Output Shape              Param #   \n",
      "=================================================================\n",
      "gru (GRU)                    (None, 300)               278100    \n",
      "_________________________________________________________________\n",
      "dense (Dense)                (None, 1)                 301       \n",
      "=================================================================\n",
      "Total params: 278,401\n",
      "Trainable params: 278,401\n",
      "Non-trainable params: 0\n",
      "_________________________________________________________________\n"
     ]
    }
   ],
   "source": [
    "model = Sequential([\n",
    "    GRU(300, input_shape=(X_train.shape[1], X_train.shape[2])),\n",
    "    Dense(forecast_horizon, activation='sigmoid')\n",
    "])\n",
    "\n",
    "model.compile(loss='mae', optimizer='adam', metrics=[rad_mae])\n",
    "\n",
    "model.summary()"
   ]
  },
  {
   "cell_type": "code",
   "execution_count": 43,
   "metadata": {},
   "outputs": [
    {
     "name": "stdout",
     "output_type": "stream",
     "text": [
      "Epoch 1/10\n",
      "1004/1004 [==============================] - 395s 394ms/step - loss: 0.0653 - rad_mae: 82.5943 - val_loss: 0.0208 - val_rad_mae: 26.3089\n",
      "Epoch 2/10\n",
      "1004/1004 [==============================] - 380s 378ms/step - loss: 0.0209 - rad_mae: 26.4102 - val_loss: 0.0237 - val_rad_mae: 30.0225\n",
      "Epoch 3/10\n",
      "1004/1004 [==============================] - 378s 377ms/step - loss: 0.0192 - rad_mae: 24.3458 - val_loss: 0.0180 - val_rad_mae: 22.7459\n",
      "Epoch 4/10\n",
      "1004/1004 [==============================] - 382s 380ms/step - loss: 0.0183 - rad_mae: 23.0932 - val_loss: 0.0174 - val_rad_mae: 21.9674\n",
      "Epoch 5/10\n",
      "1004/1004 [==============================] - 383s 381ms/step - loss: 0.0180 - rad_mae: 22.8271 - val_loss: 0.0187 - val_rad_mae: 23.6667\n",
      "Epoch 6/10\n",
      "1004/1004 [==============================] - 382s 381ms/step - loss: 0.0183 - rad_mae: 23.1460 - val_loss: 0.0182 - val_rad_mae: 23.0556\n",
      "Epoch 7/10\n",
      "1004/1004 [==============================] - 383s 381ms/step - loss: 0.0170 - rad_mae: 21.5445 - val_loss: 0.0172 - val_rad_mae: 21.7176\n",
      "Epoch 8/10\n",
      "1004/1004 [==============================] - 382s 381ms/step - loss: 0.0171 - rad_mae: 21.6044 - val_loss: 0.0180 - val_rad_mae: 22.7202\n",
      "Epoch 9/10\n",
      "1004/1004 [==============================] - 384s 383ms/step - loss: 0.0167 - rad_mae: 21.1882 - val_loss: 0.0171 - val_rad_mae: 21.5874\n",
      "Epoch 10/10\n",
      "1004/1004 [==============================] - 383s 382ms/step - loss: 0.0170 - rad_mae: 21.4922 - val_loss: 0.0167 - val_rad_mae: 21.1721\n",
      "CPU times: user 2h 46min 37s, sys: 1h 7min 31s, total: 3h 54min 9s\n",
      "Wall time: 1h 4min\n"
     ]
    }
   ],
   "source": [
    "%%time\n",
    "history = model.fit(X_train, y_train, epochs=10, batch_size=256, validation_split=0.2, callbacks=[earlyStopping])"
   ]
  },
  {
   "cell_type": "code",
   "execution_count": 44,
   "metadata": {},
   "outputs": [
    {
     "data": {
      "image/png": "[encoded data removed]",
      "text/plain": [
       "<Figure size 1152x432 with 1 Axes>"
      ]
     },
     "metadata": {},
     "output_type": "display_data"
    }
   ],
   "source": [
    "plt.plot(history.history['loss'], label='loss')\n",
    "plt.plot(history.history['val_loss'], label='val_loss')\n",
    "plt.legend()\n",
    "plt.show()"
   ]
  },
  {
   "cell_type": "code",
   "execution_count": 45,
   "metadata": {},
   "outputs": [
    {
     "name": "stdout",
     "output_type": "stream",
     "text": [
      "2509/2509 [==============================] - 71s 28ms/step - loss: 0.0163 - rad_mae: 20.5576\n"
     ]
    },
    {
     "data": {
      "text/plain": [
       "[0.0162510946393013, 20.55763053894043]"
      ]
     },
     "execution_count": 45,
     "metadata": {},
     "output_type": "execute_result"
    }
   ],
   "source": [
    "model.evaluate(X_test, y_test)"
   ]
  },
  {
   "cell_type": "code",
   "execution_count": 46,
   "metadata": {},
   "outputs": [
    {
     "data": {
      "text/plain": [
       "(80267, 1)"
      ]
     },
     "execution_count": 46,
     "metadata": {},
     "output_type": "execute_result"
    }
   ],
   "source": [
    "y_test.shape"
   ]
  },
  {
   "cell_type": "code",
   "execution_count": 47,
   "metadata": {},
   "outputs": [],
   "source": [
    "y_predicted = model.predict(X_test)"
   ]
  },
  {
   "cell_type": "code",
   "execution_count": 48,
   "metadata": {},
   "outputs": [],
   "source": [
    "YP = rad_scaler.denormalize(y_predicted)\n",
    "YT = rad_scaler.denormalize(y_test)"
   ]
  },
  {
   "cell_type": "code",
   "execution_count": 49,
   "metadata": {},
   "outputs": [
    {
     "data": {
      "image/png": "[encoded data removed]",
      "text/plain": [
       "<Figure size 1152x432 with 1 Axes>"
      ]
     },
     "metadata": {},
     "output_type": "display_data"
    }
   ],
   "source": [
    "plt.plot(YT)\n",
    "plt.plot(YP, color='salmon')\n",
    "plt.show()"
   ]
  },
  {
   "cell_type": "code",
   "execution_count": 50,
   "metadata": {},
   "outputs": [],
   "source": [
    "error = YT - YP"
   ]
  },
  {
   "cell_type": "code",
   "execution_count": 51,
   "metadata": {},
   "outputs": [
    {
     "data": {
      "image/png": "[encoded data removed]",
      "text/plain": [
       "<Figure size 1152x432 with 1 Axes>"
      ]
     },
     "metadata": {},
     "output_type": "display_data"
    }
   ],
   "source": [
    "plt.plot(error)\n",
    "plt.show()"
   ]
  },
  {
   "cell_type": "code",
   "execution_count": null,
   "metadata": {},
   "outputs": [],
   "source": []
  }
 ],
 "metadata": {
  "kernelspec": {
   "display_name": "Python 3",
   "language": "python",
   "name": "python3"
  },
  "language_info": {
   "codemirror_mode": {
    "name": "ipython",
    "version": 3
   },
   "file_extension": ".py",
   "mimetype": "text/x-python",
   "name": "python",
   "nbconvert_exporter": "python",
   "pygments_lexer": "ipython3",
   "version": "3.8.5"
  }
 },
 "nbformat": 4,
 "nbformat_minor": 4
}
