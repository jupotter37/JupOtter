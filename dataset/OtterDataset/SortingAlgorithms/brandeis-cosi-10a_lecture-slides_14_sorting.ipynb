{
 "cells": [
  {
   "cell_type": "markdown",
   "id": "1ee8a1d2",
   "metadata": {
    "slideshow": {
     "slide_type": "slide"
    }
   },
   "source": [
    "# Sorting\n",
    "\n",
    "<style>\n",
    "section.present > section.present { \n",
    "    max-height: 90%; \n",
    "    overflow-y: scroll;\n",
    "}\n",
    "</style>\n",
    "\n",
    "<small><a href=\"https://colab.research.google.com/github/brandeis-jdelfino/cosi-10a/blob/main/lectures/notebooks/14_sorting.ipynb\">Link to interactive slides on Google Colab</a></small>"
   ]
  },
  {
   "cell_type": "markdown",
   "id": "5b9ec3b0",
   "metadata": {
    "slideshow": {
     "slide_type": "slide"
    }
   },
   "source": [
    "# Announcements\n",
    "\n",
    "* PS5 due Tuesday, 11:59pm\n",
    "* PS4 grading will finish before the break\n",
    "* Please correct your quizzes! Corrections needed:\n",
    "   * Quiz 1: 4 / 49\n",
    "   * Quiz 2: 13 / 49\n",
    "   * Quiz 3: 13 / 49\n",
    "   * Quiz 4: 17 / 49\n",
    "   * Quiz 5: 24 / 49\n",
    "   * Quiz 6: 26 / 49\n",
    "   * Quiz 7: 34 / 49\n",
    "   * Minimum total regrades needed: **131**\n",
    "   * People who would lose one or more letter grades due to quizzes right now (through Quiz 7): **42** / 49\n"
   ]
  },
  {
   "cell_type": "markdown",
   "id": "601e8693",
   "metadata": {
    "slideshow": {
     "slide_type": "slide"
    }
   },
   "source": [
    "## 7 volunteers needed\n",
    "\n",
    "You'll need to stand at the front of the class, hold a piece of paper with a number on it, and compare your number to other numbers."
   ]
  },
  {
   "cell_type": "markdown",
   "id": "cdfcaecc",
   "metadata": {
    "slideshow": {
     "slide_type": "fragment"
    }
   },
   "source": [
    "## Please sort yourselves by the order of your numbers"
   ]
  },
  {
   "cell_type": "markdown",
   "id": "e211c2db",
   "metadata": {
    "slideshow": {
     "slide_type": "subslide"
    }
   },
   "source": [
    "## What happened? How did you sort yourselves?"
   ]
  },
  {
   "cell_type": "markdown",
   "id": "7a0fa9fe",
   "metadata": {
    "slideshow": {
     "slide_type": "notes"
    }
   },
   "source": [
    "Sort yourselves in the order of your numbers - lowest on stage right, highest on stage left.\n",
    "\n",
    "How did you do it?\n",
    "\n",
    "However you did - that's a sorting algorithm. "
   ]
  },
  {
   "cell_type": "markdown",
   "id": "54248906",
   "metadata": {
    "slideshow": {
     "slide_type": "notes"
    }
   },
   "source": [
    "You may think you surveyed multiple numbers at once, but you probably did them one at a time, quickly.\n",
    "\n",
    "A single computer processor generally can't compare multiple things at once. \n",
    "\n",
    "Complex comparisons are made up of many smaller, individual comparisons.\n",
    "\n",
    "Sorting algorithms range from simple to complex, but if you dig down far enough, they are all made up of a series of comparisons of 2 numbers.\n",
    "\n",
    "More complex sorting algorithms attempt to minimize the number of comparisons needed to sort a whole list."
   ]
  },
  {
   "cell_type": "markdown",
   "id": "fb3ac9ca",
   "metadata": {
    "slideshow": {
     "slide_type": "slide"
    }
   },
   "source": [
    "## Sorting algorithms\n",
    "\n",
    "Today we'll look at 2 of the simpler sorting algorithms:\n",
    "* Bubble sort\n",
    "* Insertion sort"
   ]
  },
  {
   "cell_type": "markdown",
   "id": "2fb91a16",
   "metadata": {
    "slideshow": {
     "slide_type": "subslide"
    }
   },
   "source": [
    "## Bubble sort\n",
    "\n",
    "1. Compare the first 2 elements in the list. \n",
    "   * If the first is larger than the second, swap them.\n",
    "2. Repeat for each pair of elements in the list - (2 and 3), (3 and 4), (4 and 5), and so on.\n",
    "3. Repeat steps 1 and 2 until no swaps were made for the entire list.\n",
    "\n",
    "It's called \"bubble sort\" because the next largest item is \"bubbled up\" to the end of list on each pass."
   ]
  },
  {
   "cell_type": "markdown",
   "id": "36b5c514",
   "metadata": {
    "slideshow": {
     "slide_type": "subslide"
    }
   },
   "source": [
    "## Insertion sort\n",
    "\n",
    "At a high level, the process is: \n",
    "1. Create a new list\n",
    "2. Insert the elements into it one at a time, putting them into their correct positions in the new list."
   ]
  },
  {
   "cell_type": "markdown",
   "id": "2b8aac72",
   "metadata": {
    "slideshow": {
     "slide_type": "subslide"
    }
   },
   "source": [
    "## Insertion sort\n",
    "\n",
    "More specifically:\n",
    "\n",
    "1. Create a new list\n",
    "2. Insert each element from the original list into the new list, using the following steps:  \n",
    "   2a. Compare the new element to the first element in the new list.\n",
    "      * If the new element is smaller, insert the smaller element just before the larger element.\n",
    "      * Otherwise, repeat step 2a with the next element from the new list.\n",
    "            \n",
    "   2b. If the new element is larger than all elements in the new list, insert it at the end.\n"
   ]
  },
  {
   "cell_type": "markdown",
   "id": "6ff4e6a4",
   "metadata": {
    "slideshow": {
     "slide_type": "slide"
    }
   },
   "source": [
    "## Thank you volunteers!"
   ]
  },
  {
   "cell_type": "markdown",
   "id": "e850720d",
   "metadata": {
    "slideshow": {
     "slide_type": "slide"
    }
   },
   "source": [
    "## Coding bubble sort\n",
    "\n",
    "Let's write code for bubble sort!\n",
    "\n",
    "1. Compare the first 2 elements in the list. \n",
    "   * If the right is larger than the left, swap them.\n",
    "2. Repeat for each pair of elements in the list - (2 and 3), (3 and 4), (4 and 5), and so on.\n",
    "3. Repeat steps 1 and 2 until no swaps were made for the entire list."
   ]
  },
  {
   "cell_type": "markdown",
   "id": "2b1d6a42",
   "metadata": {
    "slideshow": {
     "slide_type": "subslide"
    }
   },
   "source": [
    "First, the core part: walk through the list, compare each consecutive pair of numbers, and swap them if the first is larger."
   ]
  },
  {
   "cell_type": "code",
   "execution_count": null,
   "id": "e178316f",
   "metadata": {
    "execution": {
     "iopub.execute_input": "2023-11-26T15:44:31.378054Z",
     "iopub.status.busy": "2023-11-26T15:44:31.377727Z",
     "iopub.status.idle": "2023-11-26T15:44:31.395342Z",
     "shell.execute_reply": "2023-11-26T15:44:31.394457Z"
    },
    "slideshow": {
     "slide_type": ""
    }
   },
   "outputs": [],
   "source": [
    "data = [36, 83, 9, 54, 94, 20, 18, 84, 12, 56]\n",
    "# incorrect\n",
    "for i in range(len(data)-1):\n",
    "    if data[i] > data[i+1]:\n",
    "        # swap?\n",
    "        data[i] = data[i+1]\n",
    "        data[i+1] = data[i]\n",
    "        \n",
    "print(data)"
   ]
  },
  {
   "cell_type": "markdown",
   "id": "d1bb2ae3",
   "metadata": {
    "slideshow": {
     "slide_type": "subslide"
    }
   },
   "source": [
    "We need to use an intermediate, temporary variable to swap."
   ]
  },
  {
   "cell_type": "code",
   "execution_count": null,
   "id": "cac74a7e",
   "metadata": {
    "execution": {
     "iopub.execute_input": "2023-11-26T15:44:31.399343Z",
     "iopub.status.busy": "2023-11-26T15:44:31.399032Z",
     "iopub.status.idle": "2023-11-26T15:44:31.403695Z",
     "shell.execute_reply": "2023-11-26T15:44:31.403067Z"
    },
    "slideshow": {
     "slide_type": ""
    }
   },
   "outputs": [],
   "source": [
    "data = [36, 83, 9, 54, 94, 20, 18, 84, 12, 56]\n",
    "# correct\n",
    "for i in range(len(data)-1):\n",
    "    if data[i] > data[i+1]:\n",
    "        temp = data[i+1]\n",
    "        data[i+1] = data[i]\n",
    "        data[i] = temp\n",
    "        \n",
    "print(data)"
   ]
  },
  {
   "cell_type": "markdown",
   "id": "4e6ab5c4",
   "metadata": {
    "slideshow": {
     "slide_type": "subslide"
    }
   },
   "source": [
    "Now we need to do those passes until no swaps happen:"
   ]
  },
  {
   "cell_type": "code",
   "execution_count": null,
   "id": "584accef",
   "metadata": {
    "execution": {
     "iopub.execute_input": "2023-11-26T15:44:31.406999Z",
     "iopub.status.busy": "2023-11-26T15:44:31.406732Z",
     "iopub.status.idle": "2023-11-26T15:44:31.411247Z",
     "shell.execute_reply": "2023-11-26T15:44:31.410634Z"
    }
   },
   "outputs": [],
   "source": [
    "data = [36, 83, 9, 54, 94, 20, 18, 84, 12, 56]\n",
    "\n",
    "while True:\n",
    "    swapped = False\n",
    "    for i in range(len(data)-1):\n",
    "        if data[i] > data[i+1]:\n",
    "            temp = data[i+1]\n",
    "            data[i+1] = data[i]\n",
    "            data[i] = temp\n",
    "            swapped = True\n",
    "    if not swapped:\n",
    "        break\n",
    "print(data)"
   ]
  },
  {
   "cell_type": "markdown",
   "id": "6c313e2b",
   "metadata": {
    "slideshow": {
     "slide_type": "slide"
    }
   },
   "source": [
    "## Insertion sort\n",
    "\n",
    "1. Create a new list\n",
    "2. Insert each element from the original list into the new list, using the following steps:  \n",
    "   2a. Compare the new element to the first element in the new list.\n",
    "      * If the new element is smaller, insert it into the right of the first element.\n",
    "      * Otherwise, repeat step 2a with the next element in the new list.  \n",
    "            \n",
    "   2b. If the new element is larger than all elements in the new list, insert it at the end."
   ]
  },
  {
   "cell_type": "code",
   "execution_count": null,
   "id": "3eceddb7",
   "metadata": {
    "execution": {
     "iopub.execute_input": "2023-11-26T15:44:31.414134Z",
     "iopub.status.busy": "2023-11-26T15:44:31.413890Z",
     "iopub.status.idle": "2023-11-26T15:44:31.418032Z",
     "shell.execute_reply": "2023-11-26T15:44:31.417436Z"
    },
    "slideshow": {
     "slide_type": "subslide"
    }
   },
   "outputs": [],
   "source": [
    "data = [36, 83, 9, 54, 94, 20, 18, 84, 12, 56]\n",
    "sorted_data = []\n",
    "\n",
    "for num in data:\n",
    "    insertion_point = 0\n",
    "    while insertion_point < len(sorted_data) and num > sorted_data[insertion_point]:\n",
    "        insertion_point += 1\n",
    "    sorted_data.insert(insertion_point, num)\n",
    "\n",
    "print(sorted_data)"
   ]
  },
  {
   "cell_type": "markdown",
   "id": "b32a6a22",
   "metadata": {
    "slideshow": {
     "slide_type": "subslide"
    }
   },
   "source": [
    "## Sorting efficiency\n",
    "\n",
    "Both of these sorts are relatively **inefficient**: they require a lot of comparisons in order to sort the list. \n",
    "\n",
    "The sorting algorithm used by `.sort()` and `sorted()` is called \"[Timsort](https://en.wikipedia.org/wiki/Timsort)\" (named for Tim Peters, who wrote it for Python), and is significantly more efficient.\n",
    "\n",
    "The algorithm is relatively complex, and the theory behind why it is so efficient is even more complex.\n",
    "\n",
    "However, just like every other sorting algorithm, it's ultimately doing a series of comparisons of 2 values at a time.\n",
    "\n",
    "Luckily, we can use it without learning all those details."
   ]
  },
  {
   "cell_type": "markdown",
   "id": "574ccfb7",
   "metadata": {
    "slideshow": {
     "slide_type": "slide"
    }
   },
   "source": [
    "## Let's look at some more powerful ways to sort sequences in Python\n",
    "## Exercise\n",
    "\n",
    "Sort the words in a string alphabetically"
   ]
  },
  {
   "cell_type": "code",
   "execution_count": null,
   "id": "b1872edc",
   "metadata": {
    "execution": {
     "iopub.execute_input": "2023-11-26T15:44:31.421258Z",
     "iopub.status.busy": "2023-11-26T15:44:31.420840Z",
     "iopub.status.idle": "2023-11-26T15:44:31.424400Z",
     "shell.execute_reply": "2023-11-26T15:44:31.423872Z"
    },
    "slideshow": {
     "slide_type": "-"
    }
   },
   "outputs": [],
   "source": [
    "value = \"This note is about Bill Murray, a famous American actor.\"\n",
    "words = value.split()\n",
    "words.sort()\n",
    "print(' '.join(words))"
   ]
  },
  {
   "cell_type": "markdown",
   "id": "f6bb5ea4",
   "metadata": {
    "slideshow": {
     "slide_type": "fragment"
    }
   },
   "source": [
    "Hmm... case matters. We could lowercase the whole string before splitting..."
   ]
  },
  {
   "cell_type": "code",
   "execution_count": null,
   "id": "9ab560c2",
   "metadata": {
    "execution": {
     "iopub.execute_input": "2023-11-26T15:44:31.427344Z",
     "iopub.status.busy": "2023-11-26T15:44:31.427106Z",
     "iopub.status.idle": "2023-11-26T15:44:31.430582Z",
     "shell.execute_reply": "2023-11-26T15:44:31.430002Z"
    },
    "slideshow": {
     "slide_type": "subslide"
    }
   },
   "outputs": [],
   "source": [
    "value = \"This note is about Bill Murray, a famous American actor.\"\n",
    "value = value.lower()\n",
    "words = value.split()\n",
    "words.sort()\n",
    "print(' '.join(words))"
   ]
  },
  {
   "cell_type": "markdown",
   "id": "765845c0",
   "metadata": {
    "slideshow": {
     "slide_type": "subslide"
    }
   },
   "source": [
    "But what if we want to preserve the original case in our resulting string?"
   ]
  },
  {
   "cell_type": "markdown",
   "id": "aa22a86d",
   "metadata": {
    "slideshow": {
     "slide_type": "subslide"
    }
   },
   "source": [
    "## Telling `sort` how to sort\n",
    "\n",
    "By default, `sort()` orders the values by... the values.\n",
    "\n",
    "We can tell it to order them by something else, using the `key` parameter.\n",
    "\n",
    "The `key` parameter should be a **function** that returns the sort key for a given value."
   ]
  },
  {
   "cell_type": "code",
   "execution_count": null,
   "id": "551a4e97",
   "metadata": {
    "execution": {
     "iopub.execute_input": "2023-11-26T15:44:31.433635Z",
     "iopub.status.busy": "2023-11-26T15:44:31.433392Z",
     "iopub.status.idle": "2023-11-26T15:44:31.437509Z",
     "shell.execute_reply": "2023-11-26T15:44:31.436936Z"
    },
    "slideshow": {
     "slide_type": "subslide"
    }
   },
   "outputs": [],
   "source": [
    "def make_lower(v):\n",
    "    return v.lower()\n",
    "\n",
    "value = \"This note is about Bill Murray, a famous American actor.\"\n",
    "words = value.split()\n",
    "\n",
    "words.sort(key=make_lower)\n",
    "\n",
    "'''\n",
    "words.sort()\n",
    "# -->\n",
    "words[0] < words[1]\n",
    "\n",
    "words.sort(key=make_lower)\n",
    "# -->\n",
    "make_lower(words[0]) < make_lower(words[1])\n",
    "'''\n",
    "\n",
    "print(' '.join(words))\n",
    "\n"
   ]
  },
  {
   "cell_type": "markdown",
   "id": "2916f884",
   "metadata": {
    "slideshow": {
     "slide_type": "fragment"
    }
   },
   "source": [
    "Wait, what? Did we just pass a function as a parameter?\n",
    "\n",
    "Yes, yes we did."
   ]
  },
  {
   "cell_type": "markdown",
   "id": "09fa9930",
   "metadata": {
    "slideshow": {
     "slide_type": "slide"
    }
   },
   "source": [
    "# Functions are Objects\n",
    "\n",
    "Python has **first class functions**. \n",
    "\n",
    "This means that functions are objects, just like other types: `int`, `str`, `list`, `dict`, `set`, etc.\n",
    "\n",
    "They can be passed as arguments to other functions, assigned to variables, returned by other functions, and even stored in lists, dictionaries, and sets.\n",
    "\n",
    "We'll only use this concept for this specific sorting technique, but it is quite powerful and widely used in advanced programming."
   ]
  },
  {
   "cell_type": "markdown",
   "id": "21a2f80a",
   "metadata": {
    "slideshow": {
     "slide_type": "subslide"
    }
   },
   "source": [
    "## Back to sorting...\n",
    "\n",
    "In this example, our final answer uses the original, capitalized values.\n",
    "\n",
    "But the comparisons used to determine the overall order were done with the lowercase values."
   ]
  },
  {
   "cell_type": "code",
   "execution_count": null,
   "id": "ae390429",
   "metadata": {
    "execution": {
     "iopub.execute_input": "2023-11-26T15:44:31.440669Z",
     "iopub.status.busy": "2023-11-26T15:44:31.440424Z",
     "iopub.status.idle": "2023-11-26T15:44:31.444296Z",
     "shell.execute_reply": "2023-11-26T15:44:31.443675Z"
    },
    "slideshow": {
     "slide_type": "subslide"
    }
   },
   "outputs": [],
   "source": [
    "def make_lower(value):\n",
    "    return value.lower()\n",
    "\n",
    "value = \"This note is about Bill Murray, a famous American actor.\"\n",
    "words = value.split()\n",
    "\n",
    "words.sort(key=make_lower)\n",
    "print(' '.join(words))"
   ]
  },
  {
   "cell_type": "markdown",
   "id": "74235d69",
   "metadata": {
    "slideshow": {
     "slide_type": "subslide"
    }
   },
   "source": [
    "For another example, we'll sort the words by length:"
   ]
  },
  {
   "cell_type": "code",
   "execution_count": null,
   "id": "ae72fd08",
   "metadata": {
    "execution": {
     "iopub.execute_input": "2023-11-26T15:44:31.447356Z",
     "iopub.status.busy": "2023-11-26T15:44:31.447103Z",
     "iopub.status.idle": "2023-11-26T15:44:31.450924Z",
     "shell.execute_reply": "2023-11-26T15:44:31.450288Z"
    }
   },
   "outputs": [],
   "source": [
    "def get_len(value):\n",
    "    return len(value)\n",
    "\n",
    "value = \"This note is about Bill Murray, a famous American actor.\"\n",
    "words = value.split()\n",
    "\n",
    "words.sort(key=get_len)\n",
    "print(' '.join(words))"
   ]
  },
  {
   "cell_type": "markdown",
   "id": "ed21e420",
   "metadata": {
    "slideshow": {
     "slide_type": "subslide"
    }
   },
   "source": [
    "A little trick: because `len` is already a function, we actually don't need to define `get_len`, we can just use `len` directly:"
   ]
  },
  {
   "cell_type": "code",
   "execution_count": null,
   "id": "912108ba",
   "metadata": {
    "execution": {
     "iopub.execute_input": "2023-11-26T15:44:31.453964Z",
     "iopub.status.busy": "2023-11-26T15:44:31.453698Z",
     "iopub.status.idle": "2023-11-26T15:44:31.457263Z",
     "shell.execute_reply": "2023-11-26T15:44:31.456675Z"
    }
   },
   "outputs": [],
   "source": [
    "value = \"This note is about Bill Murray, a famous American actor.\"\n",
    "words = value.split()\n",
    "\n",
    "words.sort(key=len)\n",
    "print(' '.join(words))"
   ]
  },
  {
   "cell_type": "markdown",
   "id": "0767e7dd",
   "metadata": {
    "slideshow": {
     "slide_type": "subslide"
    }
   },
   "source": [
    "We could even sort by the 2nd letter of each word:"
   ]
  },
  {
   "cell_type": "code",
   "execution_count": null,
   "id": "7f422bb5",
   "metadata": {
    "execution": {
     "iopub.execute_input": "2023-11-26T15:44:31.460211Z",
     "iopub.status.busy": "2023-11-26T15:44:31.459953Z",
     "iopub.status.idle": "2023-11-26T15:44:31.463986Z",
     "shell.execute_reply": "2023-11-26T15:44:31.463388Z"
    }
   },
   "outputs": [],
   "source": [
    "def second_letter(value):\n",
    "    if len(value) > 1:\n",
    "        return value[1]\n",
    "    return value\n",
    "\n",
    "value = \"This note is about Bill Murray, a famous American actor.\"\n",
    "words = value.split()\n",
    "\n",
    "words.sort(key=second_letter)\n",
    "print(' '.join(words))"
   ]
  },
  {
   "cell_type": "markdown",
   "id": "a344c419",
   "metadata": {
    "slideshow": {
     "slide_type": "subslide"
    }
   },
   "source": [
    "# Sorting class instances\n",
    "\n",
    "We can use this new idea to easily sort class instances."
   ]
  },
  {
   "cell_type": "code",
   "execution_count": null,
   "id": "9e6405ad",
   "metadata": {
    "execution": {
     "iopub.execute_input": "2023-11-26T15:44:31.467263Z",
     "iopub.status.busy": "2023-11-26T15:44:31.466833Z",
     "iopub.status.idle": "2023-11-26T15:44:31.470511Z",
     "shell.execute_reply": "2023-11-26T15:44:31.469905Z"
    },
    "slideshow": {
     "slide_type": "subslide"
    }
   },
   "outputs": [],
   "source": [
    "class Book:\n",
    "    def __init__(self, title, word_count, author):\n",
    "        self.title = title\n",
    "        self.word_count = word_count\n",
    "        self.author = author\n",
    "\n",
    "    def format(self):\n",
    "        return f\"{self.title} ({self.word_count} words), by {self.author}\""
   ]
  },
  {
   "cell_type": "code",
   "execution_count": null,
   "id": "e8182520",
   "metadata": {
    "execution": {
     "iopub.execute_input": "2023-11-26T15:44:31.473442Z",
     "iopub.status.busy": "2023-11-26T15:44:31.473201Z",
     "iopub.status.idle": "2023-11-26T15:44:31.476788Z",
     "shell.execute_reply": "2023-11-26T15:44:31.476082Z"
    }
   },
   "outputs": [],
   "source": [
    "books = [\n",
    "    Book(\"War and Peace\", 561304, \"Leo Tolstoy\"),\n",
    "    Book(\"Harry Potter 1\", 77325, \"J. K. Rowling\"),\n",
    "    Book(\"The Golden Compass\", 112815, \"Philip Pullman\"),\n",
    "    Book(\"The Hobbit\", 95356, \"J. R. R. Tolkein\"),\n",
    "    Book(\"The Old Man and the Sea\", 26601, \"Ernest Hemingway\")\n",
    "]"
   ]
  },
  {
   "cell_type": "markdown",
   "id": "e114006e",
   "metadata": {
    "slideshow": {
     "slide_type": "subslide"
    }
   },
   "source": [
    "Previously, when we've needed to sort like this, we've created a list of 2-tuples, containing the sort value first, and the actual value second, then sorted that list.\n",
    "\n",
    "Example of sorting books by their length, \"the hard way\":"
   ]
  },
  {
   "cell_type": "code",
   "execution_count": null,
   "id": "369501e5",
   "metadata": {
    "execution": {
     "iopub.execute_input": "2023-11-26T15:44:31.479700Z",
     "iopub.status.busy": "2023-11-26T15:44:31.479441Z",
     "iopub.status.idle": "2023-11-26T15:44:31.483150Z",
     "shell.execute_reply": "2023-11-26T15:44:31.482614Z"
    }
   },
   "outputs": [],
   "source": [
    "sortable = []\n",
    "for book in books:\n",
    "    sortable.append((book.word_count, book))\n",
    "sortable.sort(reverse=True)\n",
    "\n",
    "#sorted_list = []\n",
    "for count, book in sortable:\n",
    "    print(book.format())\n"
   ]
  },
  {
   "cell_type": "markdown",
   "id": "b64d4f01",
   "metadata": {
    "slideshow": {
     "slide_type": "subslide"
    }
   },
   "source": [
    "Instead, we can define a function that returns the word count for a book, and use that as a sort key."
   ]
  },
  {
   "cell_type": "code",
   "execution_count": null,
   "id": "9e8fc309",
   "metadata": {
    "execution": {
     "iopub.execute_input": "2023-11-26T15:44:31.486226Z",
     "iopub.status.busy": "2023-11-26T15:44:31.485975Z",
     "iopub.status.idle": "2023-11-26T15:44:31.489678Z",
     "shell.execute_reply": "2023-11-26T15:44:31.489070Z"
    }
   },
   "outputs": [],
   "source": [
    "def get_wc(book):\n",
    "    return book.word_count\n",
    "\n",
    "books.sort(reverse=True, key=get_wc)\n",
    "for book in books:\n",
    "    print(book.format())"
   ]
  },
  {
   "cell_type": "markdown",
   "id": "4ecb6d50",
   "metadata": {
    "slideshow": {
     "slide_type": "subslide"
    }
   },
   "source": [
    "Similarly, we can define a sort key to sort by author's name."
   ]
  },
  {
   "cell_type": "code",
   "execution_count": null,
   "id": "451c523f",
   "metadata": {
    "execution": {
     "iopub.execute_input": "2023-11-26T15:44:31.492762Z",
     "iopub.status.busy": "2023-11-26T15:44:31.492364Z",
     "iopub.status.idle": "2023-11-26T15:44:31.495863Z",
     "shell.execute_reply": "2023-11-26T15:44:31.495285Z"
    }
   },
   "outputs": [],
   "source": [
    "def get_author(book):\n",
    "    return book.author\n",
    "\n",
    "books.sort(key=get_author)\n",
    "for book in books:\n",
    "    print(book.format())"
   ]
  },
  {
   "cell_type": "markdown",
   "id": "311f5535",
   "metadata": {
    "slideshow": {
     "slide_type": "subslide"
    }
   },
   "source": [
    "We could even sort by author's last name:"
   ]
  },
  {
   "cell_type": "code",
   "execution_count": null,
   "id": "5f125211",
   "metadata": {
    "execution": {
     "iopub.execute_input": "2023-11-26T15:44:31.498838Z",
     "iopub.status.busy": "2023-11-26T15:44:31.498583Z",
     "iopub.status.idle": "2023-11-26T15:44:31.502416Z",
     "shell.execute_reply": "2023-11-26T15:44:31.501792Z"
    }
   },
   "outputs": [],
   "source": [
    "def get_author_last_name(book):\n",
    "    return book.author.split()[-1]\n",
    "\n",
    "books.sort(key=get_author_last_name)\n",
    "for book in books:\n",
    "    print(book.format())"
   ]
  },
  {
   "cell_type": "markdown",
   "id": "f165720e",
   "metadata": {
    "slideshow": {
     "slide_type": "slide"
    }
   },
   "source": [
    "# Max/min\n",
    "\n",
    "The built-in methods `max` and `min` also take `key` parameters."
   ]
  },
  {
   "cell_type": "code",
   "execution_count": null,
   "id": "852cac85",
   "metadata": {
    "execution": {
     "iopub.execute_input": "2023-11-26T15:44:31.505476Z",
     "iopub.status.busy": "2023-11-26T15:44:31.505228Z",
     "iopub.status.idle": "2023-11-26T15:44:31.509106Z",
     "shell.execute_reply": "2023-11-26T15:44:31.508544Z"
    }
   },
   "outputs": [],
   "source": [
    "def get_wc(book):\n",
    "    return book.word_count\n",
    "\n",
    "highest = max(books, key=get_wc)\n",
    "lowest = min(books, key=get_wc)\n",
    "print(f\"Book with highest wordcount: {highest.format()}\")\n",
    "print(f\"Book with lowest wordcount: {lowest.format()}\")"
   ]
  },
  {
   "cell_type": "markdown",
   "id": "3d5a5d56",
   "metadata": {
    "slideshow": {
     "slide_type": "slide"
    }
   },
   "source": [
    "# Lambdas\n",
    "\n",
    "Some of you have seen sorting examples written with the `lambda` keyword, like this:"
   ]
  },
  {
   "cell_type": "code",
   "execution_count": null,
   "id": "c60d9c99",
   "metadata": {
    "execution": {
     "iopub.execute_input": "2023-11-26T15:44:31.512128Z",
     "iopub.status.busy": "2023-11-26T15:44:31.511716Z",
     "iopub.status.idle": "2023-11-26T15:44:31.515245Z",
     "shell.execute_reply": "2023-11-26T15:44:31.514733Z"
    }
   },
   "outputs": [],
   "source": [
    "books.sort(reverse=True, key=lambda book: book.word_count)\n",
    "for book in books:\n",
    "    print(book.format())"
   ]
  },
  {
   "cell_type": "code",
   "execution_count": null,
   "id": "1854cd19",
   "metadata": {
    "execution": {
     "iopub.execute_input": "2023-11-26T15:44:31.518111Z",
     "iopub.status.busy": "2023-11-26T15:44:31.517867Z",
     "iopub.status.idle": "2023-11-26T15:44:31.521510Z",
     "shell.execute_reply": "2023-11-26T15:44:31.520953Z"
    },
    "slideshow": {
     "slide_type": "subslide"
    }
   },
   "outputs": [],
   "source": [
    "books.sort(reverse=True, key=lambda book: book.word_count)\n",
    "for book in books:\n",
    "    print(book.format())"
   ]
  },
  {
   "cell_type": "markdown",
   "id": "bf8cf114",
   "metadata": {},
   "source": [
    "Is equivalent to:"
   ]
  },
  {
   "cell_type": "code",
   "execution_count": null,
   "id": "52b4b4a9",
   "metadata": {
    "execution": {
     "iopub.execute_input": "2023-11-26T15:44:31.524460Z",
     "iopub.status.busy": "2023-11-26T15:44:31.524219Z",
     "iopub.status.idle": "2023-11-26T15:44:31.527862Z",
     "shell.execute_reply": "2023-11-26T15:44:31.527257Z"
    },
    "slideshow": {
     "slide_type": ""
    }
   },
   "outputs": [],
   "source": [
    "def get_wc(book):\n",
    "    return book.word_count\n",
    "\n",
    "books.sort(reverse=True, key=get_wc)\n",
    "for book in books:\n",
    "    print(book.format())"
   ]
  },
  {
   "cell_type": "markdown",
   "id": "c8a50ee7",
   "metadata": {
    "slideshow": {
     "slide_type": "subslide"
    }
   },
   "source": [
    "This example uses a **lambda** to create a function inline, rather than needing to define it separately.\n",
    "\n",
    "A **lambda** is an **anonymous, inline function** that can contain a single expression. The return value is whatever the expression evaluates to.\n",
    "\n",
    "The syntax is:\n",
    "```\n",
    "lambda <arguments>: <expression>\n",
    "```"
   ]
  },
  {
   "cell_type": "markdown",
   "id": "e3053f5a",
   "metadata": {
    "slideshow": {
     "slide_type": "subslide"
    }
   },
   "source": [
    "Lambdas are similar to list comprehensions: they are a relatively advanced programming feature, and allow you to express complex ideas more concisely. \n",
    "\n",
    "You never have to use a lambda. You can always define a normal function. \n",
    "\n",
    "We're only covering them because they are very commonly (and conveniently) used to specify sort keys."
   ]
  },
  {
   "cell_type": "markdown",
   "id": "8e526c78",
   "metadata": {
    "slideshow": {
     "slide_type": "slide"
    }
   },
   "source": [
    "[Sorting practice on repl.it](https://replit.com/team/cosi-10a-fall23/Sorting-practice)"
   ]
  },
  {
   "cell_type": "code",
   "execution_count": null,
   "id": "09c03732",
   "metadata": {},
   "outputs": [],
   "source": []
  }
 ],
 "metadata": {
  "celltoolbar": "Slideshow",
  "kernelspec": {
   "display_name": "Python 3 (ipykernel)",
   "language": "python",
   "name": "python3"
  },
  "language_info": {
   "codemirror_mode": {
    "name": "ipython",
    "version": 3
   },
   "file_extension": ".py",
   "mimetype": "text/x-python",
   "name": "python",
   "nbconvert_exporter": "python",
   "pygments_lexer": "ipython3",
   "version": "3.10.9"
  }
 },
 "nbformat": 4,
 "nbformat_minor": 5
}
