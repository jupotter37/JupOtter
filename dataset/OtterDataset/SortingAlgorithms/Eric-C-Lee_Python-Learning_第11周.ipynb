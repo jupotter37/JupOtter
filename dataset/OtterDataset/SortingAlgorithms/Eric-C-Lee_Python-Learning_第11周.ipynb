#!/usr/bin/env python
# coding: utf-8

# 
# 
# 

# 练习1：编写一个函数print_max，接受任意数量的数作为参数，打印出其中的最大值。

# In[3]:


def print_max(*args):
    max_num=max(args)
    print(max_num)
print_max(1,3,3,3,32,3,21,32,1,423,45)


# 练习2：编写一个函数get_dict，接受任意数量的字符串作为参数，返回一个字典，其中键是字符串的长度，值是字符串的列表。

# In[8]:


def get_dict(*args):
    result_dict={}
    for string in args:
        length = len(string)
        if length not in result_dict:
            result_dict[length]=[string]
        else:
            result_dict[length].append(string)
    return result_dict
get_dict('trump','obama','hitler','putin','johnson')


# 练习3：编写程序，使用Lambda对元组列表进行排序。
# 

# In[10]:


tuples_list=[('English', 88),('Science', 90),('Maths',97),('Social sciences',82)]
tuples_list.sort(key=lambda x:x[1])
print(tuples_list)


# 练习4：编写程序，以使用Lambda查找给定字符串是否以给定字符开头。
# 

# In[15]:


starts_with=lambda string,char:string.startswith(char)
print(starts_with("Python","P"))
print(starts_with("Java","P"))
print(starts_with("Java","J"))


# 练习5：编写程序，使用map和lambda对两个给定列表的对应元素进行求和。

# In[16]:


list1=[1,2,3]
list2=[4,5,6]
result=list(map(lambda x,y:x+y,list1,list2))
print(result)


# 练习6：编写程序，使用filter和lambda过滤出列表中的奇数和偶数。

# In[25]:


full_list=[1,2,3,4,5,6,7,8,9,10]
偶数=list(filter(lambda x:x%2==0,full_list))
奇数=list(filter(lambda x:x%2!=0,full_list))
print("偶数:",偶数)
print("奇数:",奇数)


# In[ ]:




