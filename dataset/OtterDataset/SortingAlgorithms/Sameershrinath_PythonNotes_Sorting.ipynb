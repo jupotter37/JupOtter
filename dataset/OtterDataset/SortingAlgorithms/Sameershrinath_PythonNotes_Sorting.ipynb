{
 "cells": [
  {
   "cell_type": "markdown",
   "metadata": {},
   "source": [
    "\n",
    "# **<span style=\"color:blue\">Practical 8</span>**\n"
   ]
  },
  {
   "cell_type": "markdown",
   "metadata": {},
   "source": [
    "\n",
    "### Bubble Sort Algorithm\n",
    "\n",
    "Bubble Sort is a simple sorting algorithm that repeatedly steps through the list, compares adjacent elements, and swaps them if they are in the wrong order. The pass through the list is repeated until the list is sorted. The algorithm gets its name because smaller elements \"bubble\" to the top of the list.\n",
    "\n",
    "#### How Bubble Sort Works:\n",
    "1. Starting from the beginning of the list, compare the first two elements.\n",
    "2. If the first element is greater than the second, swap them.\n",
    "3. Move to the next pair of elements and repeat the comparison and swap if necessary.\n",
    "4. Continue this process for each pair of adjacent elements to the end of the list.\n",
    "5. After each pass through the list, the largest element will have \"bubbled\" to its correct position.\n",
    "6. Repeat the process for the remaining elements, excluding the last sorted elements, until no more swaps are needed.\n",
    "\n",
    "#### Example:\n",
    "Consider the array `[64, 34, 25, 12, 22, 11, 90]`:\n",
    "- First Pass: `[34, 25, 12, 22, 11, 64, 90]`\n",
    "- Second Pass: `[25, 12, 22, 11, 34, 64, 90]`\n",
    "- Third Pass: `[12, 22, 11, 25, 34, 64, 90]`\n",
    "- Fourth Pass: `[12, 11, 22, 25, 34, 64, 90]`\n",
    "- Fifth Pass: `[11, 12, 22, 25, 34, 64, 90]`\n",
    "\n",
    "After these passes, the array is sorted.\n",
    "\n",
    "#### Time Complexity:\n",
    "- **Best Case:** O(n) when the array is already sorted.\n",
    "- **Average Case:** O(n^2)\n",
    "- **Worst Case:** O(n^2)\n",
    "\n",
    "Bubble Sort is not suitable for large datasets as its average and worst-case time complexity is quite high."
   ]
  },
  {
   "cell_type": "code",
   "execution_count": 10,
   "metadata": {},
   "outputs": [
    {
     "name": "stdout",
     "output_type": "stream",
     "text": [
      "Sorted array is: [0, 11, 12, 22, 34, 35, 64]\n"
     ]
    }
   ],
   "source": [
    "def bubble_sort(arr):\n",
    "    n = len(arr)\n",
    "    for i in range(n-1):\n",
    "        for j in range(0, n-i-1):\n",
    "            if arr[j] > arr[j+1]:\n",
    "                arr[j], arr[j+1] = arr[j+1], arr[j]\n",
    "    return arr\n",
    "\n",
    "# Example usage\n",
    "arr = [64, 34, 35, 12, 22, 11, 0]\n",
    "sorted_arr = bubble_sort(arr)\n",
    "print(\"Sorted array is:\", sorted_arr)"
   ]
  },
  {
   "cell_type": "markdown",
   "metadata": {
    "vscode": {
     "languageId": "markdown"
    }
   },
   "source": [
    "### Quick Sort Algorithm\n",
    "\n",
    "Quick Sort is an efficient, in-place sorting algorithm that, on average, makes O(n log n) comparisons to sort an array of n elements. It is also known as partition-exchange sort. Quick Sort is a divide-and-conquer algorithm.\n",
    "\n",
    "#### How Quick Sort Works:\n",
    "1. **Divide:** Choose a pivot element from the array. The pivot can be any element; here, we often use the last element as the pivot.\n",
    "2. **Partition:** Rearrange the array elements so that all elements less than the pivot are on its left, and all elements greater than the pivot are on its right. The pivot is now in its final position.\n",
    "3. **Conquer:** Recursively apply the above steps to the sub-array of elements with smaller values and the sub-array of elements with greater values.\n",
    "\n",
    "#### Example:\n",
    "Consider the array `[10, 7, 8, 9, 1, 5]`:\n",
    "- Choose `5` as the pivot.\n",
    "- Partition the array into `[1, 5, 7, 8, 9, 10]` with `5` in its correct position.\n",
    "- Recursively apply the same steps to the sub-arrays `[1]` and `[7, 8, 9, 10]`.\n",
    "\n",
    "#### Time Complexity:\n",
    "- **Best Case:** O(n log n) when the pivot divides the array into two equal halves.\n",
    "- **Average Case:** O(n log n)\n",
    "- **Worst Case:** O(n^2) when the smallest or largest element is always chosen as the pivot.\n",
    "\n",
    "Quick Sort is generally faster in practice compared to other O(n log n) algorithms like Merge Sort and Heap Sort due to its in-place sorting and cache efficiency."
   ]
  },
  {
   "cell_type": "code",
   "execution_count": 11,
   "metadata": {},
   "outputs": [
    {
     "name": "stdout",
     "output_type": "stream",
     "text": [
      "Sorted array is: [0, 11, 12, 22, 25, 34, 64]\n"
     ]
    }
   ],
   "source": [
    "def quick_sort(arr):\n",
    "    if len(arr) <= 1:\n",
    "        return arr\n",
    "    else:\n",
    "        pivot = arr[len(arr) // 2]\n",
    "        left = [x for x in arr if x < pivot]\n",
    "        middle = [x for x in arr if x == pivot]\n",
    "        right = [x for x in arr if x > pivot]\n",
    "        return quick_sort(left) + middle + quick_sort(right)\n",
    "\n",
    "# Example usage\n",
    "arr = [0, 11, 12, 22, 25, 34, 64]\n",
    "sorted_arr = quick_sort(arr)\n",
    "print(\"Sorted array is:\", sorted_arr)"
   ]
  },
  {
   "cell_type": "markdown",
   "metadata": {
    "vscode": {
     "languageId": "markdown"
    }
   },
   "source": [
    "\n",
    "### Selection Sort Algorithm\n",
    "\n",
    "Selection Sort is a simple comparison-based sorting algorithm. It divides the input list into two parts: the sublist of items already sorted, which is built up from left to right at the front (left) of the list, and the sublist of items remaining to be sorted that occupy the rest of the list. Initially, the sorted sublist is empty, and the unsorted sublist is the entire input list. The algorithm proceeds by finding the smallest (or largest, depending on the sorting order) element from the unsorted sublist, swapping it with the leftmost unsorted element (putting it in sorted order), and moving the sublist boundaries one element to the right.\n",
    "\n",
    "#### How Selection Sort Works:\n",
    "1. Start with the first element as the minimum.\n",
    "2. Compare this minimum with the second element. If the second element is smaller, update the minimum.\n",
    "3. Continue this process for the entire list.\n",
    "4. After finding the minimum element in the list, swap it with the first element.\n",
    "5. Move to the next element and repeat the process for the remaining list.\n",
    "6. Continue until the entire list is sorted.\n",
    "\n",
    "#### Example:\n",
    "Consider the array `[64, 25, 12, 22, 11]`:\n",
    "- First Pass: `[11, 25, 12, 22, 64]` (11 is the smallest element)\n",
    "- Second Pass: `[11, 12, 25, 22, 64]` (12 is the next smallest element)\n",
    "- Third Pass: `[11, 12, 22, 25, 64]` (22 is the next smallest element)\n",
    "- Fourth Pass: `[11, 12, 22, 25, 64]` (25 is the next smallest element)\n",
    "\n",
    "After these passes, the array is sorted.\n",
    "\n",
    "#### Time Complexity:\n",
    "- **Best Case:** O(n^2)\n",
    "- **Average Case:** O(n^2)\n",
    "- **Worst Case:** O(n^2)\n",
    "\n",
    "Selection Sort is not suitable for large datasets as its average and worst-case time complexity is quite high. However, it is easy to understand and implement."
   ]
  },
  {
   "cell_type": "code",
   "execution_count": 13,
   "metadata": {},
   "outputs": [
    {
     "name": "stdout",
     "output_type": "stream",
     "text": [
      "Sorted array is: [0, 11, 22, 25, 34, 35, 64]\n"
     ]
    }
   ],
   "source": [
    "def selection_sort(arr):\n",
    "    n = len(arr)\n",
    "    for i in range(n):\n",
    "        min_idx = i\n",
    "        for j in range(i+1, n):\n",
    "            if arr[j] < arr[min_idx]:\n",
    "                min_idx = j\n",
    "        arr[i], arr[min_idx] = arr[min_idx], arr[i]\n",
    "    return arr\n",
    "\n",
    "# Example usage\n",
    "arr = [0, 11, 35, 22, 25, 34, 64]\n",
    "sorted_arr = selection_sort(arr)\n",
    "print(\"Sorted array is:\", sorted_arr)"
   ]
  },
  {
   "cell_type": "markdown",
   "metadata": {
    "vscode": {
     "languageId": "markdown"
    }
   },
   "source": [
    "### Insertion Sort Algorithm\n",
    "\n",
    "Insertion Sort is a simple and intuitive comparison-based sorting algorithm. It builds the final sorted array one item at a time. It is much less efficient on large lists than more advanced algorithms such as quicksort, heapsort, or merge sort.\n",
    "\n",
    "#### How Insertion Sort Works:\n",
    "1. Start with the second element (the first element is considered sorted).\n",
    "2. Compare the current element with the elements in the sorted portion of the array.\n",
    "3. Shift all the elements in the sorted portion that are greater than the current element to the right.\n",
    "4. Insert the current element into its correct position in the sorted portion.\n",
    "5. Move to the next element and repeat the process until the entire array is sorted.\n",
    "\n",
    "#### Example:\n",
    "Consider the array `[12, 11, 13, 5, 6]`:\n",
    "- First Pass: `[11, 12, 13, 5, 6]` (11 is inserted before 12)\n",
    "- Second Pass: `[11, 12, 13, 5, 6]` (13 is already in the correct position)\n",
    "- Third Pass: `[5, 11, 12, 13, 6]` (5 is inserted before 11)\n",
    "- Fourth Pass: `[5, 6, 11, 12, 13]` (6 is inserted before 11)\n",
    "\n",
    "After these passes, the array is sorted.\n",
    "\n",
    "#### Time Complexity:\n",
    "- **Best Case:** O(n) when the array is already sorted.\n",
    "- **Average Case:** O(n^2)\n",
    "- **Worst Case:** O(n^2)\n",
    "\n",
    "Insertion Sort is efficient for small datasets or arrays that are already mostly sorted. It is also stable, meaning that it maintains the relative order of equal elements."
   ]
  },
  {
   "cell_type": "code",
   "execution_count": 9,
   "metadata": {},
   "outputs": [
    {
     "name": "stdout",
     "output_type": "stream",
     "text": [
      "Sorted array is: [0, 11, 12, 22, 25, 34, 64]\n"
     ]
    }
   ],
   "source": [
    "def insertion_sort(arr):\n",
    "    for i in range(1, len(arr)):\n",
    "        key = arr[i]\n",
    "        j = i - 1\n",
    "        while j >= 0 and key < arr[j]:\n",
    "            arr[j + 1] = arr[j]\n",
    "            j -= 1\n",
    "        arr[j + 1] = key\n",
    "    return arr\n",
    "\n",
    "# Example usage\n",
    "arr = [0, 11, 12, 22, 25, 34, 64]\n",
    "sorted_arr = insertion_sort(arr)\n",
    "print(\"Sorted array is:\", sorted_arr)"
   ]
  },
  {
   "cell_type": "code",
   "execution_count": null,
   "metadata": {},
   "outputs": [],
   "source": []
  },
  {
   "cell_type": "code",
   "execution_count": null,
   "metadata": {},
   "outputs": [],
   "source": []
  }
 ],
 "metadata": {
  "kernelspec": {
   "display_name": "base",
   "language": "python",
   "name": "python3"
  },
  "language_info": {
   "codemirror_mode": {
    "name": "ipython",
    "version": 3
   },
   "file_extension": ".py",
   "mimetype": "text/x-python",
   "name": "python",
   "nbconvert_exporter": "python",
   "pygments_lexer": "ipython3",
   "version": "3.11.5"
  }
 },
 "nbformat": 4,
 "nbformat_minor": 2
}
