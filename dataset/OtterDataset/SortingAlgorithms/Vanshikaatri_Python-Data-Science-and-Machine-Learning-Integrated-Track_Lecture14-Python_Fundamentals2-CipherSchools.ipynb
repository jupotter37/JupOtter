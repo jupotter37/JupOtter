{
  "nbformat": 4,
  "nbformat_minor": 0,
  "metadata": {
    "colab": {
      "provenance": [],
      "toc_visible": true
    },
    "kernelspec": {
      "name": "python3",
      "display_name": "Python 3"
    },
    "language_info": {
      "name": "python"
    }
  },
  "cells": [
    {
      "cell_type": "markdown",
      "source": [
        "# Functions"
      ],
      "metadata": {
        "id": "_PeGExxt9VIk"
      }
    },
    {
      "cell_type": "markdown",
      "source": [
        "**definition** - A function is a block of resuable code that performs a specific task. functions help to modularize code, making it more organized and maintainable\n",
        "\n",
        "**Use Case in Real Life** - Functions can be used to calculate the total price of items in a shopping cart, including taxes and discounts. This keeps the code clean and organized by separating the calculation logic from the rest of applications."
      ],
      "metadata": {
        "id": "xvUa7KwF9aC6"
      }
    },
    {
      "cell_type": "code",
      "source": [
        "# Simple function\n",
        "def add_number(a,b):\n",
        "  \"\"\"Function to add two numbers\"\"\"\n",
        "  return a+b\n",
        "\n",
        "# calling the function\n",
        "print(add_number(2,3))"
      ],
      "metadata": {
        "colab": {
          "base_uri": "https://localhost:8080/"
        },
        "id": "UOsHAqY8-B9P",
        "outputId": "6a2d34eb-b5de-44f6-a7d7-7a45d8d2d3ee"
      },
      "execution_count": null,
      "outputs": [
        {
          "output_type": "stream",
          "name": "stdout",
          "text": [
            "5\n"
          ]
        }
      ]
    },
    {
      "cell_type": "code",
      "source": [
        "# Function with default arguements\n",
        "def greet(name, message=\"Hello\"):\n",
        "  \"\"\"Function to greet a person with default message\"\"\"\n",
        "  return f\"{message}, {name}\"\n",
        "\n",
        "print(greet(\"bob\"))\n",
        "print(greet(\"Alice\", \"Hi\"))"
      ],
      "metadata": {
        "colab": {
          "base_uri": "https://localhost:8080/"
        },
        "id": "L9ZtFvHE-RPH",
        "outputId": "0bb2df08-fb17-447f-f6dc-3cac9b733337"
      },
      "execution_count": null,
      "outputs": [
        {
          "output_type": "stream",
          "name": "stdout",
          "text": [
            "Hello, bob\n",
            "Hi, Alice\n"
          ]
        }
      ]
    },
    {
      "cell_type": "code",
      "source": [
        "# Function with variable length parameters:\n",
        "def sum_all(*args):\n",
        "  \"\"\"Function to sum all given arguements\"\"\"\n",
        "  return sum(args)\n",
        "\n",
        "print(sum_all(1,2,3,4,5))"
      ],
      "metadata": {
        "colab": {
          "base_uri": "https://localhost:8080/"
        },
        "id": "hbU-oyiL-q_k",
        "outputId": "7d6fba03-62fd-43cc-bb32-440e77388b2a"
      },
      "execution_count": null,
      "outputs": [
        {
          "output_type": "stream",
          "name": "stdout",
          "text": [
            "15\n"
          ]
        }
      ]
    },
    {
      "cell_type": "code",
      "source": [
        "# Function with keyword arguements(Dictionary arguements)\n",
        "def display_info(**kwargs):\n",
        "  \"\"\"Function to display information\"\"\"\n",
        "  for key, value in kwargs.items():\n",
        "    print(f\"{key}: {value}\")\n",
        "\n",
        "display_info(name=\"Alice\", age=30, city=\"New York\")"
      ],
      "metadata": {
        "colab": {
          "base_uri": "https://localhost:8080/"
        },
        "id": "6IAHgGKxAJxl",
        "outputId": "18fe00ff-c9bd-4b28-9d25-ffe585c1b3e4"
      },
      "execution_count": null,
      "outputs": [
        {
          "output_type": "stream",
          "name": "stdout",
          "text": [
            "name: Alice\n",
            "age: 30\n",
            "city: New York\n"
          ]
        }
      ]
    },
    {
      "cell_type": "code",
      "source": [
        "# Higher Order Function:\n",
        "def apply_function(func, x, y):\n",
        "  \"\"\"function to apply another function to given arguements\"\"\"\n",
        "  return func(x, y)\n",
        "\n",
        "def multiply(a,b):\n",
        "  return a*b\n",
        "\n",
        "# calling higher order function:\n",
        "print(apply_function(multiply, 6, 7))"
      ],
      "metadata": {
        "colab": {
          "base_uri": "https://localhost:8080/"
        },
        "id": "qIzt0NKvBanR",
        "outputId": "cef60c37-2216-4206-efd7-7edc8389060e"
      },
      "execution_count": null,
      "outputs": [
        {
          "output_type": "stream",
          "name": "stdout",
          "text": [
            "42\n"
          ]
        }
      ]
    },
    {
      "cell_type": "markdown",
      "source": [
        "# Lambda Expression"
      ],
      "metadata": {
        "id": "1ghdB0KGBeDg"
      }
    },
    {
      "cell_type": "markdown",
      "source": [
        "**Definition** - Lambda Expressions also known as anonoymous functions, are small, unnamed functions defined using the lambda keyowrd. They are often used for short, throwaway functions.\n",
        "\n",
        "**Use case in Real Life** - Lambda Expressions are commonly used in sorting algorithms where a custom sorting is needed. For example: sorting a list of tuples by the second element can be achieved using a lambda function."
      ],
      "metadata": {
        "id": "naoL66ZGBjMF"
      }
    },
    {
      "cell_type": "code",
      "source": [
        "# Simple Lambda Function\n",
        "square = lambda x: x**2\n",
        "\n",
        "# Calling the lambda function\n",
        "print(square(5))"
      ],
      "metadata": {
        "colab": {
          "base_uri": "https://localhost:8080/"
        },
        "id": "JywxstMyCOD2",
        "outputId": "b33745dc-65e8-4c0e-e771-6b6991fa2532"
      },
      "execution_count": null,
      "outputs": [
        {
          "output_type": "stream",
          "name": "stdout",
          "text": [
            "25\n"
          ]
        }
      ]
    },
    {
      "cell_type": "code",
      "source": [
        "# Lambda function in 'map'\n",
        "numbers = [1, 2, 3, 4, 5]\n",
        "squares = list(map(lambda x: x * x, numbers))\n",
        "\n",
        "# Displaying the result\n",
        "print(squares)"
      ],
      "metadata": {
        "colab": {
          "base_uri": "https://localhost:8080/"
        },
        "id": "1xXHbP8bCbgL",
        "outputId": "71fc0938-4359-411c-fb43-13f2aff1ff22"
      },
      "execution_count": null,
      "outputs": [
        {
          "output_type": "stream",
          "name": "stdout",
          "text": [
            "[1, 4, 9, 16, 25]\n"
          ]
        }
      ]
    },
    {
      "cell_type": "code",
      "source": [
        "# Lambda function in 'filter'\n",
        "numbers = [1,2,3,4,5,6]\n",
        "even_numbers = list(filter(lambda x: x % 2 == 0, numbers))\n",
        "\n",
        "# Displaying the result\n",
        "print(even_numbers)"
      ],
      "metadata": {
        "colab": {
          "base_uri": "https://localhost:8080/"
        },
        "id": "NCos0jyQCvAQ",
        "outputId": "42a4775a-fa24-46c9-f40c-1b340178c6dc"
      },
      "execution_count": null,
      "outputs": [
        {
          "output_type": "stream",
          "name": "stdout",
          "text": [
            "[2, 4, 6]\n"
          ]
        }
      ]
    },
    {
      "cell_type": "code",
      "source": [
        "# Lambda function in 'sorted'\n",
        "students = [(\"ALice\", 25), (\"Bob\", 20), (\"Charlie\", 23)]\n",
        "sorted_students = sorted(students, key = lambda student: student[1])\n",
        "\n",
        "# Displaying the result\n",
        "print(sorted_students)"
      ],
      "metadata": {
        "id": "kyBCSCttC39W"
      },
      "execution_count": null,
      "outputs": []
    },
    {
      "cell_type": "markdown",
      "source": [
        "# Error Handling"
      ],
      "metadata": {
        "id": "WpOYai4-DZo3"
      }
    },
    {
      "cell_type": "markdown",
      "source": [
        "**Definition** - Error handling in python is done using try, except,\n",
        "else and finally blocks. It allows you to handle expressions gracefully and ensure that the program continues to run.\n",
        "\n",
        "**Use Case in Real Life** - Error handling is crucial in web applications to handle unexpected situations, such as database connection errors or invalid user inputs. Proper error handling ensures that the application can provide meaningful error messages to users and recover from errors without crashing."
      ],
      "metadata": {
        "id": "jqsoOQlcDqkz"
      }
    },
    {
      "cell_type": "code",
      "source": [
        "# Basic Try-Except Block\n",
        "try:\n",
        "  # code that may raise an exception\n",
        "  result = 10 / 0\n",
        "except ZeroDivisionError:\n",
        "  # code to handle the expression\n",
        "  print(\"Cannot divide by zero!\")"
      ],
      "metadata": {
        "colab": {
          "base_uri": "https://localhost:8080/"
        },
        "id": "u1G5iRZXG3E8",
        "outputId": "32094526-a66b-4ba3-cff8-f36dbe2b93f2"
      },
      "execution_count": null,
      "outputs": [
        {
          "output_type": "stream",
          "name": "stdout",
          "text": [
            "Cannot divide by zero\n"
          ]
        }
      ]
    },
    {
      "cell_type": "code",
      "source": [
        "# Try-Except-Else block\n",
        "try:\n",
        "  # code that may raise an exception\n",
        "  result = 10 / 2\n",
        "except ZeroDivisionError:\n",
        "  # code to handle the expression\n",
        "  print(\"Cannot divide by zero!\")\n",
        "else:\n",
        "  # code to execute if no exception is raised\n",
        "  print(\"Division successful.\")"
      ],
      "metadata": {
        "colab": {
          "base_uri": "https://localhost:8080/"
        },
        "id": "fuDiS4v_HR9F",
        "outputId": "67d55ff4-9a2a-4f23-e75a-8b9bcdf3df3b"
      },
      "execution_count": null,
      "outputs": [
        {
          "output_type": "stream",
          "name": "stdout",
          "text": [
            "Division successful.\n"
          ]
        }
      ]
    },
    {
      "cell_type": "code",
      "source": [
        "# Try-Except-Finally block\n",
        "try:\n",
        "  # code that may raise an exception\n",
        "  result = 10 / 0\n",
        "except ZeroDivisionError:\n",
        "  # code to handle the expression\n",
        "  print(\"Cannot divide by zero!\")\n",
        "finally:\n",
        "  # code to execute regardless of exception\n",
        "  print(\"Execution completed.\")"
      ],
      "metadata": {
        "colab": {
          "base_uri": "https://localhost:8080/"
        },
        "id": "cEfUHS3GIMqe",
        "outputId": "3a7efeb1-727d-4ea5-e596-3dde5b67b4f8"
      },
      "execution_count": null,
      "outputs": [
        {
          "output_type": "stream",
          "name": "stdout",
          "text": [
            "Cannot divide by zero!\n",
            "Execution completed.\n"
          ]
        }
      ]
    },
    {
      "cell_type": "code",
      "source": [
        "# Handling Multiple Exceptions\n",
        "try:\n",
        "  # Code that may raise an exception\n",
        "  number = int(input(\"Enter a number: \"))\n",
        "  result = 10 / number\n",
        "except ValueError:\n",
        "  # code to handle the exception\n",
        "  print(\"Invalid input! Please enter a number\")\n",
        "except ZeroDivisionError:\n",
        "  # Code to handle the exception:\n",
        "  print(\"Cannot divide by zero!\")\n"
      ],
      "metadata": {
        "id": "zZPRYKSWIWpK",
        "colab": {
          "base_uri": "https://localhost:8080/"
        },
        "outputId": "28ee1f8b-b2d6-4c43-ab8b-cf922509a0c9"
      },
      "execution_count": 16,
      "outputs": [
        {
          "output_type": "stream",
          "name": "stdout",
          "text": [
            "Enter a number: 0\n",
            "Cannot divide by zero!\n"
          ]
        }
      ]
    },
    {
      "cell_type": "code",
      "source": [
        "# Raising Exceptions:\n",
        "def check_positive(number):\n",
        "  if number <= 0:\n",
        "    raise ValueError(\"Number must be positive\")\n",
        "\n",
        "try:\n",
        "  check_positive(-5)\n",
        "except ValueError as e:\n",
        "  print(e)"
      ],
      "metadata": {
        "colab": {
          "base_uri": "https://localhost:8080/"
        },
        "id": "Sc5lM8P6Jn8Z",
        "outputId": "5006f0a5-5abc-47a1-e58a-31d8e15bebbc"
      },
      "execution_count": 17,
      "outputs": [
        {
          "output_type": "stream",
          "name": "stdout",
          "text": [
            "Number must be positive\n"
          ]
        }
      ]
    }
  ]
}
