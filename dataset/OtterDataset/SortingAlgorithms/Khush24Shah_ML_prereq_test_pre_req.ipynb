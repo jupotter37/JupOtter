{
 "cells": [
  {
   "cell_type": "code",
   "execution_count": 1,
   "metadata": {},
   "outputs": [],
   "source": [
    "import numpy as np\n",
    "import pandas as pd\n",
    "import jax\n",
    "import jax.numpy as jnp\n",
    "import sympy as sym\n",
    "import matplotlib.pyplot as plt\n",
    "import time\n",
    "from copy import deepcopy"
   ]
  },
  {
   "cell_type": "markdown",
   "metadata": {},
   "source": [
    "# 1."
   ]
  },
  {
   "cell_type": "markdown",
   "metadata": {},
   "source": [
    "## Question:\n",
    "\n",
    "How many multiplications and additions do you need to perform a matrix multiplication between a (n, k) and (k, m) matrix? Explain."
   ]
  },
  {
   "cell_type": "markdown",
   "metadata": {},
   "source": [
    "## Answer:\n",
    "\n",
    "The number of multiplications is $(n \\times k \\times m)$ and the number of additions is $(n \\times m \\times (k-1))$."
   ]
  },
  {
   "cell_type": "markdown",
   "metadata": {},
   "source": [
    "## Explanation:\n",
    "\n",
    "The matrix multiplication is defined as:\n",
    "\n",
    "$$\n",
    "\\begin{bmatrix}\n",
    "a_{11} & a_{12} & \\cdots & a_{1k} \\\\\n",
    "a_{21} & a_{22} & \\cdots & a_{2k} \\\\\n",
    "\\vdots & \\vdots & \\ddots & \\vdots \\\\\n",
    "a_{n1} & a_{n2} & \\cdots & a_{nk}\n",
    "\\end{bmatrix}\n",
    "\\begin{bmatrix}\n",
    "b_{11} & b_{12} & \\cdots & b_{1m} \\\\\n",
    "b_{21} & b_{22} & \\cdots & b_{2m} \\\\\n",
    "\\vdots & \\vdots & \\ddots & \\vdots \\\\\n",
    "b_{k1} & b_{k2} & \\cdots & b_{km}\n",
    "\\end{bmatrix}\n",
    "=\n",
    "\\begin{bmatrix}\n",
    "c_{11} & c_{12} & \\cdots & c_{1m} \\\\\n",
    "c_{21} & c_{22} & \\cdots & c_{2m} \\\\\n",
    "\\vdots & \\vdots & \\ddots & \\vdots \\\\\n",
    "c_{n1} & c_{n2} & \\cdots & c_{nm}\n",
    "\\end{bmatrix}\n",
    "$$\n",
    "\n",
    "To perform a matrix multiplication between a $(n, k)$ matrix $A$ and a $(k, m)$ matrix $B$, resulting in a $(n, m)$ matrix $C$, you need to compute each element of the resulting matrix $C$. The element at the $i^{th}$ row and $j^{th}$ column of $C$, denoted as $C_{ij}$, is obtained by multiplying and summing elements from the $i^{th}$ row of matrix $A$ and the $j^{th}$ column of matrix B. Specifically:\n",
    "\n",
    "$$\n",
    "\\begin{align}\n",
    "C_{ij} &= \\sum_{l=1}^{k} A_{il} \\cdot B_{lj} \\\\\n",
    "&= A_{i1} \\cdot B_{1j} + A_{i2} \\cdot B_{2j} + \\cdots + A_{ik} \\cdot B_{kj}\n",
    "\\end{align}\n",
    "$$\n",
    "\n",
    "For each element of C, you need to perform $k$ multiplications and $(k-1)$ additions. Since there are $(n \\times m)$ elements in C, the total number of multiplications is $(n \\times k \\times m)$ and the total number of additions is $(n \\times m \\times (k-1))$."
   ]
  },
  {
   "cell_type": "markdown",
   "metadata": {},
   "source": [
    "# 2."
   ]
  },
  {
   "cell_type": "markdown",
   "metadata": {},
   "source": [
    "## Question:\n",
    "\n",
    "Write Python code to multiply the above two matrices. Solve using list of lists and then use numpy. Compare the timing of both solutions. Which one is faster? Why?"
   ]
  },
  {
   "cell_type": "markdown",
   "metadata": {},
   "source": [
    "## Answer:"
   ]
  },
  {
   "cell_type": "code",
   "execution_count": 2,
   "metadata": {},
   "outputs": [],
   "source": [
    "def matrix(n, k):\n",
    "    return [[k*i+j for j in range(k)] for i in range(n)]"
   ]
  },
  {
   "cell_type": "code",
   "execution_count": 3,
   "metadata": {},
   "outputs": [],
   "source": [
    "A = matrix(70, 75)\n",
    "B = matrix(75, 65)"
   ]
  },
  {
   "cell_type": "code",
   "execution_count": 4,
   "metadata": {},
   "outputs": [],
   "source": [
    "def matrix_mul(A, B):\n",
    "    if len(A[0]) != len(B):\n",
    "        return None\n",
    "    return [[sum(A[i][k]*B[k][j] for k in range(len(B))) for j in range(len(B[0]))] for i in range(len(A))]"
   ]
  },
  {
   "cell_type": "code",
   "execution_count": 5,
   "metadata": {},
   "outputs": [
    {
     "name": "stdout",
     "output_type": "stream",
     "text": [
      "1.5020458698272705\n",
      "0.03778672218322754\n"
     ]
    }
   ],
   "source": [
    "start = time.time()\n",
    "for _ in range(100):\n",
    "    matrix_mul(A, B)\n",
    "end = time.time()\n",
    "\n",
    "print(end - start)\n",
    "\n",
    "start = time.time()\n",
    "for _ in range(100):\n",
    "    np.matmul(A, B)\n",
    "end = time.time()\n",
    "\n",
    "print(end - start)"
   ]
  },
  {
   "cell_type": "markdown",
   "metadata": {},
   "source": [
    "Clearly, NumPy is faster. It's NumPy is implemented in C, which is well known for its speed. In addition, NumPy uses vectorization, which allows it to perform operations on multiple elements at once. This is much faster than performing operations on each element individually. For example, in the matrix multiplication, NumPy can compute each element of the resulting matrix $C$ by multiplying and summing the $i^{th}$ row of matrix $A$ and the $j^{th}$ column of matrix B in one operation. In contrast, the list of lists implementation needs to perform $k$ multiplications and $(k-1)$ additions for each element of $C$."
   ]
  },
  {
   "cell_type": "markdown",
   "metadata": {},
   "source": [
    "# 3."
   ]
  },
  {
   "cell_type": "markdown",
   "metadata": {},
   "source": [
    "## Question:\n",
    "\n",
    "Finding the highest element in a list requires one pass of the array. Finding the second highest element requires 2 passes of the the array. Using this method, what is the time complexity of finding the median of the array? Can you suggest a better method? Can you implement both these methods in Python and compare against numpy.median routine in terms of time?"
   ]
  },
  {
   "cell_type": "markdown",
   "metadata": {},
   "source": [
    "## Answer:\n",
    "\n",
    "The time complexity of finding the median of the array using the method described above is $\\text{O}(n^2)$.\n",
    "\n",
    "A better method is to first sort the array using quicksort (or any other sorting algorithm with $\\text{O}(n \\log n)$ time complexity) and then find the median. The time complexity of this method is $\\text{O}(n \\log n)$."
   ]
  },
  {
   "cell_type": "code",
   "execution_count": 6,
   "metadata": {},
   "outputs": [],
   "source": [
    "def median(nums):\n",
    "    length = len(nums)\n",
    "\n",
    "    if length == 1:\n",
    "        return nums[0]\n",
    "    \n",
    "    is_even = length % 2 == 0\n",
    "\n",
    "    m = nums[0]\n",
    "    idx = 0\n",
    "    \n",
    "    for _ in range(length//2 - 1):\n",
    "        for i in range(len(nums)):\n",
    "            if nums[i] >= m:\n",
    "                m = nums[i]\n",
    "                idx = i\n",
    "            \n",
    "        nums.pop(idx)\n",
    "        m = nums[0]\n",
    "        idx = 0\n",
    "\n",
    "    for i in range(len(nums)):\n",
    "        if nums[i] >= m:\n",
    "            m = nums[i]\n",
    "            idx = i\n",
    "    \n",
    "    nums.pop(idx)\n",
    "    idx = 0\n",
    "    \n",
    "    m1 = nums[0]\n",
    "\n",
    "    for i in range(len(nums)):\n",
    "        if nums[i] >= m1:\n",
    "            m1 = nums[i]\n",
    "            idx = i\n",
    "\n",
    "    if not is_even:\n",
    "        return m1\n",
    "\n",
    "    return (m + m1) / 2"
   ]
  },
  {
   "cell_type": "code",
   "execution_count": 7,
   "metadata": {},
   "outputs": [],
   "source": [
    "def quick_median(nums):\n",
    "    length = len(nums)\n",
    "\n",
    "    if length == 1:\n",
    "        return nums[0]\n",
    "    \n",
    "    is_even = length % 2 == 0\n",
    "    \n",
    "    nums.sort()\n",
    "\n",
    "    if not is_even:\n",
    "        return nums[length//2]\n",
    "    \n",
    "    return (nums[length//2] + nums[length//2 - 1]) / 2"
   ]
  },
  {
   "cell_type": "code",
   "execution_count": 8,
   "metadata": {},
   "outputs": [
    {
     "name": "stdout",
     "output_type": "stream",
     "text": [
      "14.455348014831543\n",
      "3.69461727142334\n",
      "4.579908847808838\n",
      "True True True\n",
      "True True True\n"
     ]
    }
   ],
   "source": [
    "a = [i for i in range(100)]\n",
    "A = [np.random.permutation(a).tolist() for _ in range(100000)]\n",
    "\n",
    "b = [i for i in range(101)]\n",
    "B = [np.random.permutation(b).tolist() for _ in range(100000)]\n",
    "\n",
    "results_a = [[], [], []]\n",
    "results_b = [[], [], []]\n",
    "\n",
    "start = time.time()\n",
    "for i in range(100000):\n",
    "    results_a[0].append(median(deepcopy(A[i])))\n",
    "    results_b[0].append(median(deepcopy(B[i])))\n",
    "end = time.time()\n",
    "\n",
    "print(end - start)\n",
    "\n",
    "start = time.time()\n",
    "for i in range(100000):\n",
    "    results_a[1].append(quick_median(deepcopy(A[i])))\n",
    "    results_b[1].append(quick_median(deepcopy(B[i])))\n",
    "end = time.time()\n",
    "\n",
    "print(end - start)\n",
    "\n",
    "start = time.time()\n",
    "for i in range(100000):\n",
    "    results_a[2].append(np.median(deepcopy(A[i])))\n",
    "    results_b[2].append(np.median(deepcopy(B[i])))\n",
    "end = time.time()\n",
    "\n",
    "print(end - start)\n",
    "\n",
    "# check if the results are the same\n",
    "results_a = np.array(results_a, dtype=np.float32)\n",
    "results_b = np.array(results_b, dtype=np.float32)\n",
    "\n",
    "print(np.all(results_a[0] == results_a[1]), np.all(results_a[0] == results_a[2]), np.all(results_a[1] == results_a[2]))\n",
    "print(np.all(results_b[0] == results_b[1]), np.all(results_b[0] == results_b[2]), np.all(results_b[1] == results_b[2]))"
   ]
  },
  {
   "cell_type": "markdown",
   "metadata": {},
   "source": [
    "# 4."
   ]
  },
  {
   "cell_type": "markdown",
   "metadata": {},
   "source": [
    "## Question:\n",
    "\n",
    "What is the gradient of the following function with respect to x and y?\n",
    "\n",
    "$$ x^2y + y^3\\sin(x) $$"
   ]
  },
  {
   "cell_type": "markdown",
   "metadata": {},
   "source": [
    "## Answer:\n",
    "\n",
    "$$\n",
    "\\begin{align*}\n",
    "&\\frac{\\partial f}{\\partial x} &= \\frac{\\partial}{\\partial x} (x^2y + y^3\\sin(x)) &= 2xy + y^3\\cos(x) \\\\\n",
    "&\\frac{\\partial f}{\\partial y} &= \\frac{\\partial}{\\partial y} (x^2y + y^3\\sin(x)) &= x^2 + 3y^2\\sin(x)\n",
    "\\end{align*}\n",
    "$$"
   ]
  },
  {
   "cell_type": "markdown",
   "metadata": {},
   "source": [
    "# 5."
   ]
  },
  {
   "cell_type": "markdown",
   "metadata": {},
   "source": [
    "## Question:\n",
    "\n",
    "Use `JAX` to confirm the gradient evaluated by your method matches the analytical solution corresponding to a few random values of x and y."
   ]
  },
  {
   "cell_type": "markdown",
   "metadata": {},
   "source": [
    "## Answer:"
   ]
  },
  {
   "cell_type": "code",
   "execution_count": 9,
   "metadata": {},
   "outputs": [],
   "source": [
    "def f(x, y):\n",
    "    return (x**2)*y + (y**3)*jnp.sin(x)\n",
    "\n",
    "def dfx(x, y):\n",
    "    return 2*x*y + (y**3)*jnp.cos(x)\n",
    "\n",
    "def dfy(x, y):\n",
    "    return x**2 + 3*(y**2)*jnp.sin(x)\n",
    "\n",
    "def gradient_jax(f, x, y):\n",
    "    return jnp.array([jax.grad(f, 0)(x, y), jax.grad(f, 1)(x, y)])"
   ]
  },
  {
   "cell_type": "code",
   "execution_count": 10,
   "metadata": {},
   "outputs": [
    {
     "name": "stderr",
     "output_type": "stream",
     "text": [
      "WARNING: All log messages before absl::InitializeLog() is called are written to STDERR\n",
      "I0000 00:00:1704281438.507288       1 tfrt_cpu_pjrt_client.cc:349] TfrtCpuClient created.\n"
     ]
    },
    {
     "data": {
      "text/plain": [
       "([8.322418212890625, 11.097652435302734],\n",
       " [8.322418212890625, 11.097652435302734])"
      ]
     },
     "execution_count": 10,
     "metadata": {},
     "output_type": "execute_result"
    }
   ],
   "source": [
    "[dfx(1., 2.).item(), dfy(1., 2.).item()], gradient_jax(f, 1., 2.).tolist()"
   ]
  },
  {
   "cell_type": "code",
   "execution_count": 11,
   "metadata": {},
   "outputs": [
    {
     "data": {
      "text/plain": [
       "([-1039.071533203125, 263.20635986328125],\n",
       " [-1039.071533203125, 263.20635986328125])"
      ]
     },
     "execution_count": 11,
     "metadata": {},
     "output_type": "execute_result"
    }
   ],
   "source": [
    "[dfx(-10., 10.).item(), dfy(-10., 10.).item()], gradient_jax(f, -10., 10.).tolist()"
   ]
  },
  {
   "cell_type": "code",
   "execution_count": 12,
   "metadata": {},
   "outputs": [
    {
     "data": {
      "text/plain": [
       "([0.0, 0.0], [0.0, 0.0])"
      ]
     },
     "execution_count": 12,
     "metadata": {},
     "output_type": "execute_result"
    }
   ],
   "source": [
    "[dfx(0., 0.).item(), dfy(0., 0.).item()], gradient_jax(f, 0., 0.).tolist()"
   ]
  },
  {
   "cell_type": "markdown",
   "metadata": {},
   "source": [
    "# 6."
   ]
  },
  {
   "cell_type": "markdown",
   "metadata": {},
   "source": [
    "## Question:\n",
    "\n",
    "Use `sympy` to confirm that you obtain the same gradient analytically."
   ]
  },
  {
   "cell_type": "markdown",
   "metadata": {},
   "source": [
    "## Answer:"
   ]
  },
  {
   "cell_type": "code",
   "execution_count": 13,
   "metadata": {},
   "outputs": [
    {
     "data": {
      "text/plain": [
       "(2*x*y + y**3*cos(x), x**2 + 3*y**2*sin(x))"
      ]
     },
     "execution_count": 13,
     "metadata": {},
     "output_type": "execute_result"
    }
   ],
   "source": [
    "x, y = sym.symbols('x y')\n",
    "f = (x**2)*y + (y**3)*sym.sin(x)\n",
    "\n",
    "sym.diff(f, x), sym.diff(f, y)"
   ]
  },
  {
   "cell_type": "markdown",
   "metadata": {},
   "source": [
    "# 7."
   ]
  },
  {
   "cell_type": "markdown",
   "metadata": {},
   "source": [
    "## Question:\n",
    "\n",
    "Create a Python nested dictionary to represent hierarchical information. We want to store record of students and their marks. Something like:\n",
    "\n",
    "1. 2022\n",
    "    1. Branch 1\n",
    "        1. Roll Number: 1, Name: N, Marks:\n",
    "            1. Maths: 100, English: 70 …\n",
    "    2. Branch 2\n",
    "2. 2023\n",
    "    1. Branch 1\n",
    "    2. Branch 2\n",
    "3. 2024\n",
    "    1. Branch 1\n",
    "    2. Branch 2\n",
    "4. 2025\n",
    "    1. Branch 1\n",
    "    2. Branch 2"
   ]
  },
  {
   "cell_type": "markdown",
   "metadata": {},
   "source": [
    "## Answer:"
   ]
  },
  {
   "cell_type": "code",
   "execution_count": 14,
   "metadata": {},
   "outputs": [],
   "source": [
    "main_dict =     {\n",
    "                2022:   { \n",
    "                        \"Branch 1\":     {   \n",
    "                                        1:      {\n",
    "                                                \"Roll Number\": 1, \n",
    "                                                \"Name\": \"N\", \n",
    "                                                \"Marks\":        {  \n",
    "                                                                \"Maths\": 100, \n",
    "                                                                \"English\": 70\n",
    "                                                                }\n",
    "                                                },\n",
    "                                        2:      {\n",
    "                                                \"Roll Number\": 2, \n",
    "                                                \"Name\": \"M\", \n",
    "                                                \"Marks\":        {\n",
    "                                                                \"Maths\": 90, \n",
    "                                                                \"English\": 80\n",
    "                                                                }\n",
    "                                                }\n",
    "                                        },\n",
    "                        \"Branch 2\":     {\n",
    "                                        1:      {\n",
    "                                                \"Roll Number\": 2, \n",
    "                                                \"Name\": \"M\", \n",
    "                                                \"Marks\":        {\n",
    "                                                                \"Maths\": 90, \n",
    "                                                                \"English\": 80\n",
    "                                                                }\n",
    "                                                },\n",
    "                                        2:      {\n",
    "                                                \"Roll Number\": 1, \n",
    "                                                \"Name\": \"N\", \n",
    "                                                \"Marks\":        {\n",
    "                                                                \"Maths\": 100, \n",
    "                                                                \"English\": 70\n",
    "                                                                }\n",
    "                                                }\n",
    "                                        }\n",
    "                        },\n",
    "                2023:   {\n",
    "                        \"Branch 1\":     {\n",
    "                                        1:      {\n",
    "                                                \"Roll Number\": 3, \n",
    "                                                \"Name\": \"O\", \n",
    "                                                \"Marks\":        {\n",
    "                                                                \"Maths\": 80, \n",
    "                                                                \"English\": 90\n",
    "                                                                }\n",
    "                                                },\n",
    "                                        2:      {\n",
    "                                                \"Roll Number\": 4, \n",
    "                                                \"Name\": \"P\", \n",
    "                                                \"Marks\":        {\n",
    "                                                                \"Maths\": 70, \n",
    "                                                                \"English\": 100\n",
    "                                                                }\n",
    "                                                }\n",
    "                                        },\n",
    "                        \"Branch 2\":     {\n",
    "                                        1:      {\n",
    "                                                \"Roll Number\": 4, \n",
    "                                                \"Name\": \"P\", \n",
    "                                                \"Marks\":        {\n",
    "                                                                \"Maths\": 70, \n",
    "                                                                \"English\": 100\n",
    "                                                                }\n",
    "                                                },\n",
    "                                        2:      {\n",
    "                                                \"Roll Number\": 3, \n",
    "                                                \"Name\": \"O\", \n",
    "                                                \"Marks\":        {\n",
    "                                                                \"Maths\": 80, \n",
    "                                                                \"English\": 90\n",
    "                                                                }\n",
    "                                                }\n",
    "                                        }\n",
    "                        },\n",
    "                2024:   {\n",
    "                        \"Branch 1\":     {\n",
    "                                        1:      {\n",
    "                                                \"Roll Number\": 5, \n",
    "                                                \"Name\": \"Q\", \n",
    "                                                \"Marks\":        {\n",
    "                                                                \"Maths\": 60, \n",
    "                                                                \"English\": 60\n",
    "                                                                }\n",
    "                                                },\n",
    "                                        2:      {\n",
    "                                                \"Roll Number\": 6, \n",
    "                                                \"Name\": \"R\", \n",
    "                                                \"Marks\":        {\n",
    "                                                                \"Maths\": 50, \n",
    "                                                                \"English\": 50\n",
    "                                                                }\n",
    "                                                }\n",
    "                                        },\n",
    "                        \"Branch 2\":     {\n",
    "                                        1:      {\n",
    "                                                \"Roll Number\": 6, \n",
    "                                                \"Name\": \"R\", \n",
    "                                                \"Marks\":        {\n",
    "                                                                \"Maths\": 50, \n",
    "                                                                \"English\": 50\n",
    "                                                                }\n",
    "                                                },\n",
    "                                        2:      {\n",
    "                                                \"Roll Number\": 5, \n",
    "                                                \"Name\": \"Q\", \n",
    "                                                \"Marks\":        {\n",
    "                                                                \"Maths\": 60, \n",
    "                                                                \"English\": 60\n",
    "                                                                }\n",
    "                                                }\n",
    "                                        }\n",
    "                        },\n",
    "                2025:   {\n",
    "                        \"Branch 1\":     {\n",
    "                                        1:      {\n",
    "                                                \"Roll Number\": 7, \n",
    "                                                \"Name\": \"S\", \n",
    "                                                \"Marks\":        {\n",
    "                                                                \"Maths\": 40, \n",
    "                                                                \"English\": 40\n",
    "                                                                }\n",
    "                                                },\n",
    "                                        2:      {\n",
    "                                                \"Roll Number\": 8, \n",
    "                                                \"Name\": \"T\", \n",
    "                                                \"Marks\":        {\n",
    "                                                                \"Maths\": 30, \n",
    "                                                                \"English\": 30\n",
    "                                                                }\n",
    "                                                }\n",
    "                                        },\n",
    "                        \"Branch 2\":     {\n",
    "                                        1:      {\n",
    "                                                \"Roll Number\": 8, \n",
    "                                                \"Name\": \"T\", \n",
    "                                                \"Marks\":        {\n",
    "                                                                \"Maths\": 30, \n",
    "                                                                \"English\": 30\n",
    "                                                                }\n",
    "                                                },\n",
    "                                        2:      {\n",
    "                                                \"Roll Number\": 7, \n",
    "                                                \"Name\": \"S\", \n",
    "                                                \"Marks\":        {\n",
    "                                                                \"Maths\": 40, \n",
    "                                                                \"English\": 40\n",
    "                                                                }\n",
    "                                                }\n",
    "                                        }\n",
    "                        }\n",
    "                }"
   ]
  },
  {
   "cell_type": "markdown",
   "metadata": {},
   "source": [
    "# 8."
   ]
  },
  {
   "cell_type": "markdown",
   "metadata": {},
   "source": [
    "## Question:\n",
    "\n",
    "Store the same information using Python classes. We have an overall database which is a list of year objects. Each year contains a list of branches. Each branch contains a list of students. Each student has some properties like name, roll number and has marks in some subjects."
   ]
  },
  {
   "cell_type": "code",
   "execution_count": 15,
   "metadata": {},
   "outputs": [
    {
     "data": {
      "text/plain": [
       "(Year(2022): [\n",
       " \tBranch 1: [\n",
       " \t\tRoll-Number(1), Name(N): [\n",
       " \t\t\tSubject(Maths): Marks(100), \n",
       " \t\t\tSubject(English): Marks(70)], \n",
       " \t\tRoll-Number(2), Name(M): [\n",
       " \t\t\tSubject(Maths): Marks(90), \n",
       " \t\t\tSubject(English): Marks(80)]], \n",
       " \tBranch 2: [\n",
       " \t\tRoll-Number(2), Name(M): [\n",
       " \t\t\tSubject(Maths): Marks(90), \n",
       " \t\t\tSubject(English): Marks(80)], \n",
       " \t\tRoll-Number(1), Name(N): [\n",
       " \t\t\tSubject(Maths): Marks(100), \n",
       " \t\t\tSubject(English): Marks(70)]]],\n",
       " Year(2023): [\n",
       " \tBranch 1: [\n",
       " \t\tRoll-Number(3), Name(O): [\n",
       " \t\t\tSubject(Maths): Marks(80), \n",
       " \t\t\tSubject(English): Marks(90)], \n",
       " \t\tRoll-Number(4), Name(P): [\n",
       " \t\t\tSubject(Maths): Marks(70), \n",
       " \t\t\tSubject(English): Marks(100)]], \n",
       " \tBranch 2: [\n",
       " \t\tRoll-Number(4), Name(P): [\n",
       " \t\t\tSubject(Maths): Marks(70), \n",
       " \t\t\tSubject(English): Marks(100)], \n",
       " \t\tRoll-Number(3), Name(O): [\n",
       " \t\t\tSubject(Maths): Marks(80), \n",
       " \t\t\tSubject(English): Marks(90)]]],\n",
       " Year(2024): [\n",
       " \tBranch 1: [\n",
       " \t\tRoll-Number(5), Name(Q): [\n",
       " \t\t\tSubject(Maths): Marks(60), \n",
       " \t\t\tSubject(English): Marks(60)], \n",
       " \t\tRoll-Number(6), Name(R): [\n",
       " \t\t\tSubject(Maths): Marks(50), \n",
       " \t\t\tSubject(English): Marks(50)]], \n",
       " \tBranch 2: [\n",
       " \t\tRoll-Number(6), Name(R): [\n",
       " \t\t\tSubject(Maths): Marks(50), \n",
       " \t\t\tSubject(English): Marks(50)], \n",
       " \t\tRoll-Number(5), Name(Q): [\n",
       " \t\t\tSubject(Maths): Marks(60), \n",
       " \t\t\tSubject(English): Marks(60)]]],\n",
       " Year(2025): [\n",
       " \tBranch 1: [\n",
       " \t\tRoll-Number(7), Name(S): [\n",
       " \t\t\tSubject(Maths): Marks(40), \n",
       " \t\t\tSubject(English): Marks(40)], \n",
       " \t\tRoll-Number(8), Name(T): [\n",
       " \t\t\tSubject(Maths): Marks(30), \n",
       " \t\t\tSubject(English): Marks(30)]], \n",
       " \tBranch 2: [\n",
       " \t\tRoll-Number(8), Name(T): [\n",
       " \t\t\tSubject(Maths): Marks(30), \n",
       " \t\t\tSubject(English): Marks(30)], \n",
       " \t\tRoll-Number(7), Name(S): [\n",
       " \t\t\tSubject(Maths): Marks(40), \n",
       " \t\t\tSubject(English): Marks(40)]]])"
      ]
     },
     "execution_count": 15,
     "metadata": {},
     "output_type": "execute_result"
    }
   ],
   "source": [
    "class Year:\n",
    "    def __init__(self, year):\n",
    "        self.year = year\n",
    "        self.branches = []\n",
    "\n",
    "    def __repr__(self):\n",
    "        return f\"Year({self.year}): {[branch for branch in self.branches]}\"\n",
    "\n",
    "    def add_branch(self, branch):\n",
    "        self.branches.append(branch)\n",
    "\n",
    "class Branch:\n",
    "    def __init__(self, name):\n",
    "        self.name = name\n",
    "        self.students = []\n",
    "\n",
    "    def __repr__(self):\n",
    "        return f\"\\n\\t{self.name}: {[student for student in self.students]}\"\n",
    "\n",
    "    def add_student(self, student):\n",
    "        self.students.append(student)\n",
    "\n",
    "class Student:\n",
    "    def __init__(self, roll, name):\n",
    "        self.roll = roll\n",
    "        self.name = name\n",
    "        self.marks = []\n",
    "\n",
    "    def __repr__(self):\n",
    "        return f\"\\n\\t\\tRoll-Number({self.roll}), Name({self.name}): {[marks for marks in self.marks]}\"\n",
    "\n",
    "    def add_marks(self, marks):\n",
    "        self.marks.append(marks)\n",
    "\n",
    "class Marks:\n",
    "    def __init__(self, subject, marks):\n",
    "        self.subject = subject\n",
    "        self.marks = marks\n",
    "\n",
    "    def __repr__(self):\n",
    "        return f\"\\n\\t\\t\\tSubject({self.subject}): Marks({self.marks})\"\n",
    "\n",
    "def create_year(year):\n",
    "    year_obj = Year(year)\n",
    "\n",
    "    for branch in main_dict[year]:\n",
    "        branch_obj = Branch(branch)\n",
    "\n",
    "        for student in main_dict[year][branch]:\n",
    "            student_obj = Student(main_dict[year][branch][student][\"Roll Number\"], main_dict[year][branch][student][\"Name\"])\n",
    "\n",
    "            for subject in main_dict[year][branch][student][\"Marks\"]:\n",
    "                marks_obj = Marks(subject, main_dict[year][branch][student][\"Marks\"][subject])\n",
    "                student_obj.add_marks(marks_obj)\n",
    "\n",
    "            branch_obj.add_student(student_obj)\n",
    "\n",
    "        year_obj.add_branch(branch_obj)\n",
    "\n",
    "    return year_obj\n",
    "\n",
    "year_2022 = create_year(2022)\n",
    "year_2023 = create_year(2023)\n",
    "year_2024 = create_year(2024)\n",
    "year_2025 = create_year(2025)\n",
    "\n",
    "year_2022, year_2023, year_2024, year_2025"
   ]
  },
  {
   "cell_type": "markdown",
   "metadata": {},
   "source": [
    "# 9."
   ]
  },
  {
   "cell_type": "markdown",
   "metadata": {},
   "source": [
    "## Question:\n",
    "\n",
    "Using matplotlib plot the following functions on the domain: x = 0.5 to 100.0 in steps of 0.5.\n",
    "\n",
    "1. $y = x$\n",
    "2. $y = x^2$\n",
    "3. $y = \\frac{x^3}{100}$\n",
    "4. $y = \\sin(x)$\n",
    "5. $y = \\frac{\\sin(x)}{x}$\n",
    "6. $y = \\log(x)$\n",
    "7. $y = e^x$"
   ]
  },
  {
   "cell_type": "markdown",
   "metadata": {},
   "source": [
    "## Answer:"
   ]
  },
  {
   "cell_type": "code",
   "execution_count": 16,
   "metadata": {},
   "outputs": [],
   "source": [
    "def y1(x):\n",
    "    return x\n",
    "\n",
    "def y2(x):\n",
    "    return x**2\n",
    "\n",
    "def y3(x):\n",
    "    return (x**3)/100\n",
    "\n",
    "def y4(x):\n",
    "    return np.sin(x)\n",
    "\n",
    "def y5(x):\n",
    "    return (np.sin(x))/x\n",
    "\n",
    "def y6(x):\n",
    "    return np.log(x)\n",
    "\n",
    "def y7(x):\n",
    "    return np.exp(x)\n",
    "\n",
    "y_funcs = {1: (y1, \"x\"), 2: (y2, \"x^2\"), 3: (y3, \"(x^3)/100\"), 4: (y4, \"sin(x)\"), 5: (y5, \"sin(x)/x\"), 6: (y6, \"log(x)\"), 7: (y7, \"e^x\")}"
   ]
  },
  {
   "cell_type": "code",
   "execution_count": 17,
   "metadata": {},
   "outputs": [
    {
     "data": {
      "image/png": "[encoded data removed]",
      "text/plain": [
       "<Figure size 640x480 with 1 Axes>"
      ]
     },
     "metadata": {},
     "output_type": "display_data"
    },
    {
     "data": {
      "image/png": "[encoded data removed]",
      "text/plain": [
       "<Figure size 640x480 with 1 Axes>"
      ]
     },
     "metadata": {},
     "output_type": "display_data"
    },
    {
     "data": {
      "image/png": "[encoded data removed]",
      "text/plain": [
       "<Figure size 640x480 with 1 Axes>"
      ]
     },
     "metadata": {},
     "output_type": "display_data"
    },
    {
     "data": {
      "image/png": "[encoded data removed]",
      "text/plain": [
       "<Figure size 640x480 with 1 Axes>"
      ]
     },
     "metadata": {},
     "output_type": "display_data"
    },
    {
     "data": {
      "image/png": "[encoded data removed]",
      "text/plain": [
       "<Figure size 640x480 with 1 Axes>"
      ]
     },
     "metadata": {},
     "output_type": "display_data"
    },
    {
     "data": {
      "image/png": "[encoded data removed]",
      "text/plain": [
       "<Figure size 640x480 with 1 Axes>"
      ]
     },
     "metadata": {},
     "output_type": "display_data"
    },
    {
     "data": {
      "image/png": "[encoded data removed]",
      "text/plain": [
       "<Figure size 640x480 with 1 Axes>"
      ]
     },
     "metadata": {},
     "output_type": "display_data"
    }
   ],
   "source": [
    "x = np.linspace(0.5, 100, 200)\n",
    "\n",
    "for i in range(1, 8):\n",
    "    plt.plot(x, y_funcs[i][0](x))\n",
    "    plt.title(f\"y = {y_funcs[i][1]}\")\n",
    "    plt.show()"
   ]
  },
  {
   "cell_type": "markdown",
   "metadata": {},
   "source": [
    "# 10."
   ]
  },
  {
   "cell_type": "markdown",
   "metadata": {},
   "source": [
    "## Question:\n",
    "\n",
    "Using numpy generate a matrix of size `20X5` containing random numbers drawn uniformly from the range of 1 to 2. Using Pandas create a dataframe out of this matrix. Name the columns of the dataframe as “a”, “b”, “c”, “d”, “e”. Find the column with the highest standard deviation. Find the row with the lowest mean."
   ]
  },
  {
   "cell_type": "markdown",
   "metadata": {},
   "source": [
    "## Answer:"
   ]
  },
  {
   "cell_type": "code",
   "execution_count": 18,
   "metadata": {},
   "outputs": [
    {
     "data": {
      "text/plain": [
       "array([[1.42173042, 1.82986172, 1.77523888, 1.1158004 , 1.26042568],\n",
       "       [1.62177381, 1.40456029, 1.46677565, 1.3965048 , 1.6895233 ],\n",
       "       [1.30118003, 1.79771884, 1.19403731, 1.96082481, 1.64923571],\n",
       "       [1.95526851, 1.17275404, 1.50601599, 1.43382864, 1.86488825],\n",
       "       [1.1162382 , 1.71144781, 1.77357567, 1.31551181, 1.28540397],\n",
       "       [1.11902921, 1.69826207, 1.73704231, 1.69449582, 1.91907291],\n",
       "       [1.388885  , 1.36751199, 1.05536874, 1.50878082, 1.28788112],\n",
       "       [1.18293509, 1.59342108, 1.26817858, 1.4900838 , 1.3344532 ],\n",
       "       [1.28478916, 1.97740128, 1.6160724 , 1.9958247 , 1.24179401],\n",
       "       [1.20115132, 1.53444383, 1.97069708, 1.35784461, 1.46172548],\n",
       "       [1.51060419, 1.21853   , 1.67614873, 1.16103345, 1.47549453],\n",
       "       [1.82408067, 1.38128993, 1.09330103, 1.99582936, 1.84873598],\n",
       "       [1.329251  , 1.29360752, 1.44181112, 1.43586746, 1.96290566],\n",
       "       [1.32691403, 1.92519773, 1.65721171, 1.47877507, 1.573991  ],\n",
       "       [1.70032773, 1.069284  , 1.33758874, 1.03905452, 1.59028304],\n",
       "       [1.79268431, 1.32715823, 1.6337868 , 1.52784189, 1.44588595],\n",
       "       [1.30272389, 1.23281168, 1.21148812, 1.29912753, 1.03096944],\n",
       "       [1.04600642, 1.84243278, 1.07106596, 1.55320527, 1.13651635],\n",
       "       [1.17932865, 1.1571543 , 1.37723175, 1.91430118, 1.94635579],\n",
       "       [1.17566792, 1.80322557, 1.30242165, 1.09498493, 1.35862631]])"
      ]
     },
     "execution_count": 18,
     "metadata": {},
     "output_type": "execute_result"
    }
   ],
   "source": [
    "mat = np.random.rand(20, 5) + 1\n",
    "\n",
    "mat"
   ]
  },
  {
   "cell_type": "code",
   "execution_count": 19,
   "metadata": {},
   "outputs": [
    {
     "data": {
      "text/html": [
       "<div>\n",
       "<style scoped>\n",
       "    .dataframe tbody tr th:only-of-type {\n",
       "        vertical-align: middle;\n",
       "    }\n",
       "\n",
       "    .dataframe tbody tr th {\n",
       "        vertical-align: top;\n",
       "    }\n",
       "\n",
       "    .dataframe thead th {\n",
       "        text-align: right;\n",
       "    }\n",
       "</style>\n",
       "<table border=\"1\" class=\"dataframe\">\n",
       "  <thead>\n",
       "    <tr style=\"text-align: right;\">\n",
       "      <th></th>\n",
       "      <th>a</th>\n",
       "      <th>b</th>\n",
       "      <th>c</th>\n",
       "      <th>d</th>\n",
       "      <th>e</th>\n",
       "    </tr>\n",
       "  </thead>\n",
       "  <tbody>\n",
       "    <tr>\n",
       "      <th>0</th>\n",
       "      <td>1.421730</td>\n",
       "      <td>1.829862</td>\n",
       "      <td>1.775239</td>\n",
       "      <td>1.115800</td>\n",
       "      <td>1.260426</td>\n",
       "    </tr>\n",
       "    <tr>\n",
       "      <th>1</th>\n",
       "      <td>1.621774</td>\n",
       "      <td>1.404560</td>\n",
       "      <td>1.466776</td>\n",
       "      <td>1.396505</td>\n",
       "      <td>1.689523</td>\n",
       "    </tr>\n",
       "    <tr>\n",
       "      <th>2</th>\n",
       "      <td>1.301180</td>\n",
       "      <td>1.797719</td>\n",
       "      <td>1.194037</td>\n",
       "      <td>1.960825</td>\n",
       "      <td>1.649236</td>\n",
       "    </tr>\n",
       "    <tr>\n",
       "      <th>3</th>\n",
       "      <td>1.955269</td>\n",
       "      <td>1.172754</td>\n",
       "      <td>1.506016</td>\n",
       "      <td>1.433829</td>\n",
       "      <td>1.864888</td>\n",
       "    </tr>\n",
       "    <tr>\n",
       "      <th>4</th>\n",
       "      <td>1.116238</td>\n",
       "      <td>1.711448</td>\n",
       "      <td>1.773576</td>\n",
       "      <td>1.315512</td>\n",
       "      <td>1.285404</td>\n",
       "    </tr>\n",
       "    <tr>\n",
       "      <th>5</th>\n",
       "      <td>1.119029</td>\n",
       "      <td>1.698262</td>\n",
       "      <td>1.737042</td>\n",
       "      <td>1.694496</td>\n",
       "      <td>1.919073</td>\n",
       "    </tr>\n",
       "    <tr>\n",
       "      <th>6</th>\n",
       "      <td>1.388885</td>\n",
       "      <td>1.367512</td>\n",
       "      <td>1.055369</td>\n",
       "      <td>1.508781</td>\n",
       "      <td>1.287881</td>\n",
       "    </tr>\n",
       "    <tr>\n",
       "      <th>7</th>\n",
       "      <td>1.182935</td>\n",
       "      <td>1.593421</td>\n",
       "      <td>1.268179</td>\n",
       "      <td>1.490084</td>\n",
       "      <td>1.334453</td>\n",
       "    </tr>\n",
       "    <tr>\n",
       "      <th>8</th>\n",
       "      <td>1.284789</td>\n",
       "      <td>1.977401</td>\n",
       "      <td>1.616072</td>\n",
       "      <td>1.995825</td>\n",
       "      <td>1.241794</td>\n",
       "    </tr>\n",
       "    <tr>\n",
       "      <th>9</th>\n",
       "      <td>1.201151</td>\n",
       "      <td>1.534444</td>\n",
       "      <td>1.970697</td>\n",
       "      <td>1.357845</td>\n",
       "      <td>1.461725</td>\n",
       "    </tr>\n",
       "    <tr>\n",
       "      <th>10</th>\n",
       "      <td>1.510604</td>\n",
       "      <td>1.218530</td>\n",
       "      <td>1.676149</td>\n",
       "      <td>1.161033</td>\n",
       "      <td>1.475495</td>\n",
       "    </tr>\n",
       "    <tr>\n",
       "      <th>11</th>\n",
       "      <td>1.824081</td>\n",
       "      <td>1.381290</td>\n",
       "      <td>1.093301</td>\n",
       "      <td>1.995829</td>\n",
       "      <td>1.848736</td>\n",
       "    </tr>\n",
       "    <tr>\n",
       "      <th>12</th>\n",
       "      <td>1.329251</td>\n",
       "      <td>1.293608</td>\n",
       "      <td>1.441811</td>\n",
       "      <td>1.435867</td>\n",
       "      <td>1.962906</td>\n",
       "    </tr>\n",
       "    <tr>\n",
       "      <th>13</th>\n",
       "      <td>1.326914</td>\n",
       "      <td>1.925198</td>\n",
       "      <td>1.657212</td>\n",
       "      <td>1.478775</td>\n",
       "      <td>1.573991</td>\n",
       "    </tr>\n",
       "    <tr>\n",
       "      <th>14</th>\n",
       "      <td>1.700328</td>\n",
       "      <td>1.069284</td>\n",
       "      <td>1.337589</td>\n",
       "      <td>1.039055</td>\n",
       "      <td>1.590283</td>\n",
       "    </tr>\n",
       "    <tr>\n",
       "      <th>15</th>\n",
       "      <td>1.792684</td>\n",
       "      <td>1.327158</td>\n",
       "      <td>1.633787</td>\n",
       "      <td>1.527842</td>\n",
       "      <td>1.445886</td>\n",
       "    </tr>\n",
       "    <tr>\n",
       "      <th>16</th>\n",
       "      <td>1.302724</td>\n",
       "      <td>1.232812</td>\n",
       "      <td>1.211488</td>\n",
       "      <td>1.299128</td>\n",
       "      <td>1.030969</td>\n",
       "    </tr>\n",
       "    <tr>\n",
       "      <th>17</th>\n",
       "      <td>1.046006</td>\n",
       "      <td>1.842433</td>\n",
       "      <td>1.071066</td>\n",
       "      <td>1.553205</td>\n",
       "      <td>1.136516</td>\n",
       "    </tr>\n",
       "    <tr>\n",
       "      <th>18</th>\n",
       "      <td>1.179329</td>\n",
       "      <td>1.157154</td>\n",
       "      <td>1.377232</td>\n",
       "      <td>1.914301</td>\n",
       "      <td>1.946356</td>\n",
       "    </tr>\n",
       "    <tr>\n",
       "      <th>19</th>\n",
       "      <td>1.175668</td>\n",
       "      <td>1.803226</td>\n",
       "      <td>1.302422</td>\n",
       "      <td>1.094985</td>\n",
       "      <td>1.358626</td>\n",
       "    </tr>\n",
       "  </tbody>\n",
       "</table>\n",
       "</div>"
      ],
      "text/plain": [
       "           a         b         c         d         e\n",
       "0   1.421730  1.829862  1.775239  1.115800  1.260426\n",
       "1   1.621774  1.404560  1.466776  1.396505  1.689523\n",
       "2   1.301180  1.797719  1.194037  1.960825  1.649236\n",
       "3   1.955269  1.172754  1.506016  1.433829  1.864888\n",
       "4   1.116238  1.711448  1.773576  1.315512  1.285404\n",
       "5   1.119029  1.698262  1.737042  1.694496  1.919073\n",
       "6   1.388885  1.367512  1.055369  1.508781  1.287881\n",
       "7   1.182935  1.593421  1.268179  1.490084  1.334453\n",
       "8   1.284789  1.977401  1.616072  1.995825  1.241794\n",
       "9   1.201151  1.534444  1.970697  1.357845  1.461725\n",
       "10  1.510604  1.218530  1.676149  1.161033  1.475495\n",
       "11  1.824081  1.381290  1.093301  1.995829  1.848736\n",
       "12  1.329251  1.293608  1.441811  1.435867  1.962906\n",
       "13  1.326914  1.925198  1.657212  1.478775  1.573991\n",
       "14  1.700328  1.069284  1.337589  1.039055  1.590283\n",
       "15  1.792684  1.327158  1.633787  1.527842  1.445886\n",
       "16  1.302724  1.232812  1.211488  1.299128  1.030969\n",
       "17  1.046006  1.842433  1.071066  1.553205  1.136516\n",
       "18  1.179329  1.157154  1.377232  1.914301  1.946356\n",
       "19  1.175668  1.803226  1.302422  1.094985  1.358626"
      ]
     },
     "execution_count": 19,
     "metadata": {},
     "output_type": "execute_result"
    }
   ],
   "source": [
    "df = pd.DataFrame(mat, columns=[\"a\", \"b\", \"c\", \"d\", \"e\"])\n",
    "\n",
    "df"
   ]
  },
  {
   "cell_type": "code",
   "execution_count": 20,
   "metadata": {},
   "outputs": [
    {
     "data": {
      "text/plain": [
       "('d', 16)"
      ]
     },
     "execution_count": 20,
     "metadata": {},
     "output_type": "execute_result"
    }
   ],
   "source": [
    "col_max_var = df.var().idxmax()\n",
    "\n",
    "row_min_mean = df.mean(axis=1).idxmin()\n",
    "\n",
    "col_max_var, row_min_mean"
   ]
  },
  {
   "cell_type": "markdown",
   "metadata": {},
   "source": [
    "# 11."
   ]
  },
  {
   "cell_type": "markdown",
   "metadata": {},
   "source": [
    "## Question:\n",
    "\n",
    "Add a new column to the dataframe called “f” which is the sum of the columns “a”, “b”, “c”, “d”, “e”. Create another column called “g”. The value in the column “g” should be “LT8” if the value in the column “f” is less than 8 and “GT8” otherwise. Find the number of rows in the dataframe where the value in the column “g” is “LT8”. Find the standard deviation of the column “f” for the rows where the value in the column “g” is “LT8” and “GT8” respectively."
   ]
  },
  {
   "cell_type": "markdown",
   "metadata": {},
   "source": [
    "## Answer:"
   ]
  },
  {
   "cell_type": "code",
   "execution_count": 21,
   "metadata": {},
   "outputs": [
    {
     "data": {
      "text/html": [
       "<div>\n",
       "<style scoped>\n",
       "    .dataframe tbody tr th:only-of-type {\n",
       "        vertical-align: middle;\n",
       "    }\n",
       "\n",
       "    .dataframe tbody tr th {\n",
       "        vertical-align: top;\n",
       "    }\n",
       "\n",
       "    .dataframe thead th {\n",
       "        text-align: right;\n",
       "    }\n",
       "</style>\n",
       "<table border=\"1\" class=\"dataframe\">\n",
       "  <thead>\n",
       "    <tr style=\"text-align: right;\">\n",
       "      <th></th>\n",
       "      <th>a</th>\n",
       "      <th>b</th>\n",
       "      <th>c</th>\n",
       "      <th>d</th>\n",
       "      <th>e</th>\n",
       "      <th>f</th>\n",
       "    </tr>\n",
       "  </thead>\n",
       "  <tbody>\n",
       "    <tr>\n",
       "      <th>0</th>\n",
       "      <td>1.421730</td>\n",
       "      <td>1.829862</td>\n",
       "      <td>1.775239</td>\n",
       "      <td>1.115800</td>\n",
       "      <td>1.260426</td>\n",
       "      <td>7.403057</td>\n",
       "    </tr>\n",
       "    <tr>\n",
       "      <th>1</th>\n",
       "      <td>1.621774</td>\n",
       "      <td>1.404560</td>\n",
       "      <td>1.466776</td>\n",
       "      <td>1.396505</td>\n",
       "      <td>1.689523</td>\n",
       "      <td>7.579138</td>\n",
       "    </tr>\n",
       "    <tr>\n",
       "      <th>2</th>\n",
       "      <td>1.301180</td>\n",
       "      <td>1.797719</td>\n",
       "      <td>1.194037</td>\n",
       "      <td>1.960825</td>\n",
       "      <td>1.649236</td>\n",
       "      <td>7.902997</td>\n",
       "    </tr>\n",
       "    <tr>\n",
       "      <th>3</th>\n",
       "      <td>1.955269</td>\n",
       "      <td>1.172754</td>\n",
       "      <td>1.506016</td>\n",
       "      <td>1.433829</td>\n",
       "      <td>1.864888</td>\n",
       "      <td>7.932755</td>\n",
       "    </tr>\n",
       "    <tr>\n",
       "      <th>4</th>\n",
       "      <td>1.116238</td>\n",
       "      <td>1.711448</td>\n",
       "      <td>1.773576</td>\n",
       "      <td>1.315512</td>\n",
       "      <td>1.285404</td>\n",
       "      <td>7.202177</td>\n",
       "    </tr>\n",
       "    <tr>\n",
       "      <th>5</th>\n",
       "      <td>1.119029</td>\n",
       "      <td>1.698262</td>\n",
       "      <td>1.737042</td>\n",
       "      <td>1.694496</td>\n",
       "      <td>1.919073</td>\n",
       "      <td>8.167902</td>\n",
       "    </tr>\n",
       "    <tr>\n",
       "      <th>6</th>\n",
       "      <td>1.388885</td>\n",
       "      <td>1.367512</td>\n",
       "      <td>1.055369</td>\n",
       "      <td>1.508781</td>\n",
       "      <td>1.287881</td>\n",
       "      <td>6.608428</td>\n",
       "    </tr>\n",
       "    <tr>\n",
       "      <th>7</th>\n",
       "      <td>1.182935</td>\n",
       "      <td>1.593421</td>\n",
       "      <td>1.268179</td>\n",
       "      <td>1.490084</td>\n",
       "      <td>1.334453</td>\n",
       "      <td>6.869072</td>\n",
       "    </tr>\n",
       "    <tr>\n",
       "      <th>8</th>\n",
       "      <td>1.284789</td>\n",
       "      <td>1.977401</td>\n",
       "      <td>1.616072</td>\n",
       "      <td>1.995825</td>\n",
       "      <td>1.241794</td>\n",
       "      <td>8.115882</td>\n",
       "    </tr>\n",
       "    <tr>\n",
       "      <th>9</th>\n",
       "      <td>1.201151</td>\n",
       "      <td>1.534444</td>\n",
       "      <td>1.970697</td>\n",
       "      <td>1.357845</td>\n",
       "      <td>1.461725</td>\n",
       "      <td>7.525862</td>\n",
       "    </tr>\n",
       "    <tr>\n",
       "      <th>10</th>\n",
       "      <td>1.510604</td>\n",
       "      <td>1.218530</td>\n",
       "      <td>1.676149</td>\n",
       "      <td>1.161033</td>\n",
       "      <td>1.475495</td>\n",
       "      <td>7.041811</td>\n",
       "    </tr>\n",
       "    <tr>\n",
       "      <th>11</th>\n",
       "      <td>1.824081</td>\n",
       "      <td>1.381290</td>\n",
       "      <td>1.093301</td>\n",
       "      <td>1.995829</td>\n",
       "      <td>1.848736</td>\n",
       "      <td>8.143237</td>\n",
       "    </tr>\n",
       "    <tr>\n",
       "      <th>12</th>\n",
       "      <td>1.329251</td>\n",
       "      <td>1.293608</td>\n",
       "      <td>1.441811</td>\n",
       "      <td>1.435867</td>\n",
       "      <td>1.962906</td>\n",
       "      <td>7.463443</td>\n",
       "    </tr>\n",
       "    <tr>\n",
       "      <th>13</th>\n",
       "      <td>1.326914</td>\n",
       "      <td>1.925198</td>\n",
       "      <td>1.657212</td>\n",
       "      <td>1.478775</td>\n",
       "      <td>1.573991</td>\n",
       "      <td>7.962090</td>\n",
       "    </tr>\n",
       "    <tr>\n",
       "      <th>14</th>\n",
       "      <td>1.700328</td>\n",
       "      <td>1.069284</td>\n",
       "      <td>1.337589</td>\n",
       "      <td>1.039055</td>\n",
       "      <td>1.590283</td>\n",
       "      <td>6.736538</td>\n",
       "    </tr>\n",
       "    <tr>\n",
       "      <th>15</th>\n",
       "      <td>1.792684</td>\n",
       "      <td>1.327158</td>\n",
       "      <td>1.633787</td>\n",
       "      <td>1.527842</td>\n",
       "      <td>1.445886</td>\n",
       "      <td>7.727357</td>\n",
       "    </tr>\n",
       "    <tr>\n",
       "      <th>16</th>\n",
       "      <td>1.302724</td>\n",
       "      <td>1.232812</td>\n",
       "      <td>1.211488</td>\n",
       "      <td>1.299128</td>\n",
       "      <td>1.030969</td>\n",
       "      <td>6.077121</td>\n",
       "    </tr>\n",
       "    <tr>\n",
       "      <th>17</th>\n",
       "      <td>1.046006</td>\n",
       "      <td>1.842433</td>\n",
       "      <td>1.071066</td>\n",
       "      <td>1.553205</td>\n",
       "      <td>1.136516</td>\n",
       "      <td>6.649227</td>\n",
       "    </tr>\n",
       "    <tr>\n",
       "      <th>18</th>\n",
       "      <td>1.179329</td>\n",
       "      <td>1.157154</td>\n",
       "      <td>1.377232</td>\n",
       "      <td>1.914301</td>\n",
       "      <td>1.946356</td>\n",
       "      <td>7.574372</td>\n",
       "    </tr>\n",
       "    <tr>\n",
       "      <th>19</th>\n",
       "      <td>1.175668</td>\n",
       "      <td>1.803226</td>\n",
       "      <td>1.302422</td>\n",
       "      <td>1.094985</td>\n",
       "      <td>1.358626</td>\n",
       "      <td>6.734926</td>\n",
       "    </tr>\n",
       "  </tbody>\n",
       "</table>\n",
       "</div>"
      ],
      "text/plain": [
       "           a         b         c         d         e         f\n",
       "0   1.421730  1.829862  1.775239  1.115800  1.260426  7.403057\n",
       "1   1.621774  1.404560  1.466776  1.396505  1.689523  7.579138\n",
       "2   1.301180  1.797719  1.194037  1.960825  1.649236  7.902997\n",
       "3   1.955269  1.172754  1.506016  1.433829  1.864888  7.932755\n",
       "4   1.116238  1.711448  1.773576  1.315512  1.285404  7.202177\n",
       "5   1.119029  1.698262  1.737042  1.694496  1.919073  8.167902\n",
       "6   1.388885  1.367512  1.055369  1.508781  1.287881  6.608428\n",
       "7   1.182935  1.593421  1.268179  1.490084  1.334453  6.869072\n",
       "8   1.284789  1.977401  1.616072  1.995825  1.241794  8.115882\n",
       "9   1.201151  1.534444  1.970697  1.357845  1.461725  7.525862\n",
       "10  1.510604  1.218530  1.676149  1.161033  1.475495  7.041811\n",
       "11  1.824081  1.381290  1.093301  1.995829  1.848736  8.143237\n",
       "12  1.329251  1.293608  1.441811  1.435867  1.962906  7.463443\n",
       "13  1.326914  1.925198  1.657212  1.478775  1.573991  7.962090\n",
       "14  1.700328  1.069284  1.337589  1.039055  1.590283  6.736538\n",
       "15  1.792684  1.327158  1.633787  1.527842  1.445886  7.727357\n",
       "16  1.302724  1.232812  1.211488  1.299128  1.030969  6.077121\n",
       "17  1.046006  1.842433  1.071066  1.553205  1.136516  6.649227\n",
       "18  1.179329  1.157154  1.377232  1.914301  1.946356  7.574372\n",
       "19  1.175668  1.803226  1.302422  1.094985  1.358626  6.734926"
      ]
     },
     "execution_count": 21,
     "metadata": {},
     "output_type": "execute_result"
    }
   ],
   "source": [
    "df[\"f\"] = df[\"a\"] + df[\"b\"] + df[\"c\"] + df[\"d\"] + df[\"e\"]\n",
    "\n",
    "df"
   ]
  },
  {
   "cell_type": "code",
   "execution_count": 22,
   "metadata": {},
   "outputs": [
    {
     "data": {
      "text/html": [
       "<div>\n",
       "<style scoped>\n",
       "    .dataframe tbody tr th:only-of-type {\n",
       "        vertical-align: middle;\n",
       "    }\n",
       "\n",
       "    .dataframe tbody tr th {\n",
       "        vertical-align: top;\n",
       "    }\n",
       "\n",
       "    .dataframe thead th {\n",
       "        text-align: right;\n",
       "    }\n",
       "</style>\n",
       "<table border=\"1\" class=\"dataframe\">\n",
       "  <thead>\n",
       "    <tr style=\"text-align: right;\">\n",
       "      <th></th>\n",
       "      <th>a</th>\n",
       "      <th>b</th>\n",
       "      <th>c</th>\n",
       "      <th>d</th>\n",
       "      <th>e</th>\n",
       "      <th>f</th>\n",
       "      <th>g</th>\n",
       "    </tr>\n",
       "  </thead>\n",
       "  <tbody>\n",
       "    <tr>\n",
       "      <th>0</th>\n",
       "      <td>1.421730</td>\n",
       "      <td>1.829862</td>\n",
       "      <td>1.775239</td>\n",
       "      <td>1.115800</td>\n",
       "      <td>1.260426</td>\n",
       "      <td>7.403057</td>\n",
       "      <td>LT8</td>\n",
       "    </tr>\n",
       "    <tr>\n",
       "      <th>1</th>\n",
       "      <td>1.621774</td>\n",
       "      <td>1.404560</td>\n",
       "      <td>1.466776</td>\n",
       "      <td>1.396505</td>\n",
       "      <td>1.689523</td>\n",
       "      <td>7.579138</td>\n",
       "      <td>LT8</td>\n",
       "    </tr>\n",
       "    <tr>\n",
       "      <th>2</th>\n",
       "      <td>1.301180</td>\n",
       "      <td>1.797719</td>\n",
       "      <td>1.194037</td>\n",
       "      <td>1.960825</td>\n",
       "      <td>1.649236</td>\n",
       "      <td>7.902997</td>\n",
       "      <td>LT8</td>\n",
       "    </tr>\n",
       "    <tr>\n",
       "      <th>3</th>\n",
       "      <td>1.955269</td>\n",
       "      <td>1.172754</td>\n",
       "      <td>1.506016</td>\n",
       "      <td>1.433829</td>\n",
       "      <td>1.864888</td>\n",
       "      <td>7.932755</td>\n",
       "      <td>LT8</td>\n",
       "    </tr>\n",
       "    <tr>\n",
       "      <th>4</th>\n",
       "      <td>1.116238</td>\n",
       "      <td>1.711448</td>\n",
       "      <td>1.773576</td>\n",
       "      <td>1.315512</td>\n",
       "      <td>1.285404</td>\n",
       "      <td>7.202177</td>\n",
       "      <td>LT8</td>\n",
       "    </tr>\n",
       "    <tr>\n",
       "      <th>5</th>\n",
       "      <td>1.119029</td>\n",
       "      <td>1.698262</td>\n",
       "      <td>1.737042</td>\n",
       "      <td>1.694496</td>\n",
       "      <td>1.919073</td>\n",
       "      <td>8.167902</td>\n",
       "      <td>GT8</td>\n",
       "    </tr>\n",
       "    <tr>\n",
       "      <th>6</th>\n",
       "      <td>1.388885</td>\n",
       "      <td>1.367512</td>\n",
       "      <td>1.055369</td>\n",
       "      <td>1.508781</td>\n",
       "      <td>1.287881</td>\n",
       "      <td>6.608428</td>\n",
       "      <td>LT8</td>\n",
       "    </tr>\n",
       "    <tr>\n",
       "      <th>7</th>\n",
       "      <td>1.182935</td>\n",
       "      <td>1.593421</td>\n",
       "      <td>1.268179</td>\n",
       "      <td>1.490084</td>\n",
       "      <td>1.334453</td>\n",
       "      <td>6.869072</td>\n",
       "      <td>LT8</td>\n",
       "    </tr>\n",
       "    <tr>\n",
       "      <th>8</th>\n",
       "      <td>1.284789</td>\n",
       "      <td>1.977401</td>\n",
       "      <td>1.616072</td>\n",
       "      <td>1.995825</td>\n",
       "      <td>1.241794</td>\n",
       "      <td>8.115882</td>\n",
       "      <td>GT8</td>\n",
       "    </tr>\n",
       "    <tr>\n",
       "      <th>9</th>\n",
       "      <td>1.201151</td>\n",
       "      <td>1.534444</td>\n",
       "      <td>1.970697</td>\n",
       "      <td>1.357845</td>\n",
       "      <td>1.461725</td>\n",
       "      <td>7.525862</td>\n",
       "      <td>LT8</td>\n",
       "    </tr>\n",
       "    <tr>\n",
       "      <th>10</th>\n",
       "      <td>1.510604</td>\n",
       "      <td>1.218530</td>\n",
       "      <td>1.676149</td>\n",
       "      <td>1.161033</td>\n",
       "      <td>1.475495</td>\n",
       "      <td>7.041811</td>\n",
       "      <td>LT8</td>\n",
       "    </tr>\n",
       "    <tr>\n",
       "      <th>11</th>\n",
       "      <td>1.824081</td>\n",
       "      <td>1.381290</td>\n",
       "      <td>1.093301</td>\n",
       "      <td>1.995829</td>\n",
       "      <td>1.848736</td>\n",
       "      <td>8.143237</td>\n",
       "      <td>GT8</td>\n",
       "    </tr>\n",
       "    <tr>\n",
       "      <th>12</th>\n",
       "      <td>1.329251</td>\n",
       "      <td>1.293608</td>\n",
       "      <td>1.441811</td>\n",
       "      <td>1.435867</td>\n",
       "      <td>1.962906</td>\n",
       "      <td>7.463443</td>\n",
       "      <td>LT8</td>\n",
       "    </tr>\n",
       "    <tr>\n",
       "      <th>13</th>\n",
       "      <td>1.326914</td>\n",
       "      <td>1.925198</td>\n",
       "      <td>1.657212</td>\n",
       "      <td>1.478775</td>\n",
       "      <td>1.573991</td>\n",
       "      <td>7.962090</td>\n",
       "      <td>LT8</td>\n",
       "    </tr>\n",
       "    <tr>\n",
       "      <th>14</th>\n",
       "      <td>1.700328</td>\n",
       "      <td>1.069284</td>\n",
       "      <td>1.337589</td>\n",
       "      <td>1.039055</td>\n",
       "      <td>1.590283</td>\n",
       "      <td>6.736538</td>\n",
       "      <td>LT8</td>\n",
       "    </tr>\n",
       "    <tr>\n",
       "      <th>15</th>\n",
       "      <td>1.792684</td>\n",
       "      <td>1.327158</td>\n",
       "      <td>1.633787</td>\n",
       "      <td>1.527842</td>\n",
       "      <td>1.445886</td>\n",
       "      <td>7.727357</td>\n",
       "      <td>LT8</td>\n",
       "    </tr>\n",
       "    <tr>\n",
       "      <th>16</th>\n",
       "      <td>1.302724</td>\n",
       "      <td>1.232812</td>\n",
       "      <td>1.211488</td>\n",
       "      <td>1.299128</td>\n",
       "      <td>1.030969</td>\n",
       "      <td>6.077121</td>\n",
       "      <td>LT8</td>\n",
       "    </tr>\n",
       "    <tr>\n",
       "      <th>17</th>\n",
       "      <td>1.046006</td>\n",
       "      <td>1.842433</td>\n",
       "      <td>1.071066</td>\n",
       "      <td>1.553205</td>\n",
       "      <td>1.136516</td>\n",
       "      <td>6.649227</td>\n",
       "      <td>LT8</td>\n",
       "    </tr>\n",
       "    <tr>\n",
       "      <th>18</th>\n",
       "      <td>1.179329</td>\n",
       "      <td>1.157154</td>\n",
       "      <td>1.377232</td>\n",
       "      <td>1.914301</td>\n",
       "      <td>1.946356</td>\n",
       "      <td>7.574372</td>\n",
       "      <td>LT8</td>\n",
       "    </tr>\n",
       "    <tr>\n",
       "      <th>19</th>\n",
       "      <td>1.175668</td>\n",
       "      <td>1.803226</td>\n",
       "      <td>1.302422</td>\n",
       "      <td>1.094985</td>\n",
       "      <td>1.358626</td>\n",
       "      <td>6.734926</td>\n",
       "      <td>LT8</td>\n",
       "    </tr>\n",
       "  </tbody>\n",
       "</table>\n",
       "</div>"
      ],
      "text/plain": [
       "           a         b         c         d         e         f    g\n",
       "0   1.421730  1.829862  1.775239  1.115800  1.260426  7.403057  LT8\n",
       "1   1.621774  1.404560  1.466776  1.396505  1.689523  7.579138  LT8\n",
       "2   1.301180  1.797719  1.194037  1.960825  1.649236  7.902997  LT8\n",
       "3   1.955269  1.172754  1.506016  1.433829  1.864888  7.932755  LT8\n",
       "4   1.116238  1.711448  1.773576  1.315512  1.285404  7.202177  LT8\n",
       "5   1.119029  1.698262  1.737042  1.694496  1.919073  8.167902  GT8\n",
       "6   1.388885  1.367512  1.055369  1.508781  1.287881  6.608428  LT8\n",
       "7   1.182935  1.593421  1.268179  1.490084  1.334453  6.869072  LT8\n",
       "8   1.284789  1.977401  1.616072  1.995825  1.241794  8.115882  GT8\n",
       "9   1.201151  1.534444  1.970697  1.357845  1.461725  7.525862  LT8\n",
       "10  1.510604  1.218530  1.676149  1.161033  1.475495  7.041811  LT8\n",
       "11  1.824081  1.381290  1.093301  1.995829  1.848736  8.143237  GT8\n",
       "12  1.329251  1.293608  1.441811  1.435867  1.962906  7.463443  LT8\n",
       "13  1.326914  1.925198  1.657212  1.478775  1.573991  7.962090  LT8\n",
       "14  1.700328  1.069284  1.337589  1.039055  1.590283  6.736538  LT8\n",
       "15  1.792684  1.327158  1.633787  1.527842  1.445886  7.727357  LT8\n",
       "16  1.302724  1.232812  1.211488  1.299128  1.030969  6.077121  LT8\n",
       "17  1.046006  1.842433  1.071066  1.553205  1.136516  6.649227  LT8\n",
       "18  1.179329  1.157154  1.377232  1.914301  1.946356  7.574372  LT8\n",
       "19  1.175668  1.803226  1.302422  1.094985  1.358626  6.734926  LT8"
      ]
     },
     "execution_count": 22,
     "metadata": {},
     "output_type": "execute_result"
    }
   ],
   "source": [
    "df[\"g\"] = df[\"f\"].apply(lambda x: \"LT8\" if x < 8 else \"GT8\")\n",
    "\n",
    "df"
   ]
  },
  {
   "cell_type": "code",
   "execution_count": 23,
   "metadata": {},
   "outputs": [
    {
     "data": {
      "text/plain": [
       "(17, 3)"
      ]
     },
     "execution_count": 23,
     "metadata": {},
     "output_type": "execute_result"
    }
   ],
   "source": [
    "df[df[\"g\"] == \"LT8\"].shape[0], df[df[\"g\"] == \"GT8\"].shape[0]"
   ]
  },
  {
   "cell_type": "code",
   "execution_count": 24,
   "metadata": {},
   "outputs": [
    {
     "data": {
      "text/plain": [
       "(0.5505700717661685, 0.026021976346916418)"
      ]
     },
     "execution_count": 24,
     "metadata": {},
     "output_type": "execute_result"
    }
   ],
   "source": [
    "df[df[\"g\"] == \"LT8\"][\"f\"].std(), df[df[\"g\"] == \"GT8\"][\"f\"].std()"
   ]
  },
  {
   "cell_type": "markdown",
   "metadata": {},
   "source": [
    "# 12."
   ]
  },
  {
   "cell_type": "markdown",
   "metadata": {},
   "source": [
    "## Question:\n",
    "\n",
    "Write a small piece of code to explain broadcasting in numpy."
   ]
  },
  {
   "cell_type": "markdown",
   "metadata": {},
   "source": [
    "## Answer:\n",
    "\n",
    "Broadcasting is a feature of NumPy that allows it to perform operations on arrays of different shapes. For example, if you add a scalar to an array, NumPy will add the scalar to each element of the array. Similarly, if you add a 1D array to a 2D array, NumPy will add the 1D array to each row of the 2D array."
   ]
  },
  {
   "cell_type": "code",
   "execution_count": 25,
   "metadata": {},
   "outputs": [
    {
     "data": {
      "text/plain": [
       "array([3, 4, 5])"
      ]
     },
     "execution_count": 25,
     "metadata": {},
     "output_type": "execute_result"
    }
   ],
   "source": [
    "a = np.array([1, 2, 3])\n",
    "b = 2\n",
    "\n",
    "a + b"
   ]
  },
  {
   "cell_type": "code",
   "execution_count": 26,
   "metadata": {},
   "outputs": [
    {
     "data": {
      "text/plain": [
       "array([[11, 22, 33],\n",
       "       [14, 25, 36]])"
      ]
     },
     "execution_count": 26,
     "metadata": {},
     "output_type": "execute_result"
    }
   ],
   "source": [
    "a = np.array([[1, 2, 3], [4, 5, 6]])\n",
    "b = np.array([10, 20, 30])\n",
    "\n",
    "a + b"
   ]
  },
  {
   "cell_type": "markdown",
   "metadata": {},
   "source": [
    "# 13."
   ]
  },
  {
   "cell_type": "markdown",
   "metadata": {},
   "source": [
    "## Question:\n",
    "\n",
    "Write a function to compute the argmin of a numpy array. The function should take a numpy array as input and return the index of the minimum element. You can use the np.argmin function to verify your solution."
   ]
  },
  {
   "cell_type": "markdown",
   "metadata": {},
   "source": [
    "## Answer:"
   ]
  },
  {
   "cell_type": "code",
   "execution_count": 27,
   "metadata": {},
   "outputs": [],
   "source": [
    "def argmin(x):\n",
    "    if len(x) == 1:\n",
    "        return 0\n",
    "    \n",
    "    m = x[0]\n",
    "    idx = 0\n",
    "\n",
    "    for i in range(1, len(x)):\n",
    "        if x[i] < m:\n",
    "            m = x[i]\n",
    "            idx = i\n",
    "\n",
    "    return idx"
   ]
  },
  {
   "cell_type": "code",
   "execution_count": 28,
   "metadata": {},
   "outputs": [
    {
     "data": {
      "text/plain": [
       "(0, 0)"
      ]
     },
     "execution_count": 28,
     "metadata": {},
     "output_type": "execute_result"
    }
   ],
   "source": [
    "argmin([1, 2, 3, 4, 5]), np.argmin([1, 2, 3, 4, 5])"
   ]
  },
  {
   "cell_type": "code",
   "execution_count": 29,
   "metadata": {},
   "outputs": [
    {
     "data": {
      "text/plain": [
       "(4, 4)"
      ]
     },
     "execution_count": 29,
     "metadata": {},
     "output_type": "execute_result"
    }
   ],
   "source": [
    "argmin([5, 4, 3, 2, 1]), np.argmin([5, 4, 3, 2, 1])"
   ]
  },
  {
   "cell_type": "code",
   "execution_count": 30,
   "metadata": {},
   "outputs": [
    {
     "data": {
      "text/plain": [
       "(0, 0)"
      ]
     },
     "execution_count": 30,
     "metadata": {},
     "output_type": "execute_result"
    }
   ],
   "source": [
    "argmin([1, 1, 1, 1, 1]), np.argmin([1, 1, 1, 1, 1])"
   ]
  },
  {
   "cell_type": "code",
   "execution_count": 31,
   "metadata": {},
   "outputs": [
    {
     "data": {
      "text/plain": [
       "(0, 0)"
      ]
     },
     "execution_count": 31,
     "metadata": {},
     "output_type": "execute_result"
    }
   ],
   "source": [
    "argmin([1, 2, 3, 2, 1]), np.argmin([1, 2, 3, 2, 1])"
   ]
  },
  {
   "cell_type": "code",
   "execution_count": 32,
   "metadata": {},
   "outputs": [
    {
     "data": {
      "text/plain": [
       "(2, 2)"
      ]
     },
     "execution_count": 32,
     "metadata": {},
     "output_type": "execute_result"
    }
   ],
   "source": [
    "argmin([4, 3, 1, 2, 3, 4]), np.argmin([4, 3, 1, 2, 3, 4])"
   ]
  }
 ],
 "metadata": {
  "kernelspec": {
   "display_name": "base",
   "language": "python",
   "name": "python3"
  },
  "language_info": {
   "codemirror_mode": {
    "name": "ipython",
    "version": 3
   },
   "file_extension": ".py",
   "mimetype": "text/x-python",
   "name": "python",
   "nbconvert_exporter": "python",
   "pygments_lexer": "ipython3",
   "version": "3.11.6"
  }
 },
 "nbformat": 4,
 "nbformat_minor": 2
}
