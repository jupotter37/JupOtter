{
 "cells": [
  {
   "cell_type": "markdown",
   "id": "e8d2b15f",
   "metadata": {},
   "source": [
    "# Sorting algorithms\n",
    "\n",
    "**A sorting algorithm** is an algorithm that puts elements of a list in order.\n",
    "\n",
    "- numerical order \n",
    "\n",
    "0, 2, 7, 8, 1, 3, 17, 10, 12 -> 0, 1, 2, 3, 7, 8, 10, 12, 17\n",
    "\n",
    "- lexicographical order\n",
    "\n",
    "a, c, n, b, b, c, a -> a, a, b, b, c, c, n "
   ]
  },
  {
   "cell_type": "markdown",
   "id": "ea347863",
   "metadata": {},
   "source": [
    "An array can be sorted in place or using additional memory.\n",
    "\n",
    "**Stable** sorting algorithms maintain the relative order of records with equal keys.\n",
    "\n",
    "![Title](img/stable_sort.png)\n",
    "\n"
   ]
  },
  {
   "cell_type": "markdown",
   "id": "e6cfe9fd",
   "metadata": {},
   "source": [
    "## Selection sort\n",
    "\n",
    "The array is divided into 2 parts: the left one is sorted, and the right one is not.\n",
    "\n",
    "At each step:\n",
    "\n",
    "- look for the minimum in the right part.\n",
    "\n",
    "- swap the minimum element with the first element of the right part.\n",
    "\n",
    "- shift the boundary by 1 to the right.\n"
   ]
  },
  {
   "cell_type": "markdown",
   "id": "1e5b9112",
   "metadata": {},
   "source": [
    "![Title](https://upload.wikimedia.org/wikipedia/commons/9/94/Selection-Sort-Animation.gif)"
   ]
  },
  {
   "cell_type": "markdown",
   "id": "1861240f",
   "metadata": {},
   "source": [
    "Worst-case: $O(n^{2})$ comparisons, $O(n)$ swaps\n",
    "\n",
    "Best-case: $O(n^{2})$\n",
    "\n",
    "Average: $O(n^{2})$\n",
    "\n",
    "In-place sorting, not stable"
   ]
  },
  {
   "cell_type": "code",
   "execution_count": 50,
   "id": "9984a788",
   "metadata": {},
   "outputs": [
    {
     "name": "stdout",
     "output_type": "stream",
     "text": [
      "Step: [0, 5, 2, 6, 9, 3, 1, 4, 8, 7]\n",
      "Step: [0, 1, 2, 6, 9, 3, 5, 4, 8, 7]\n",
      "Step: [0, 1, 2, 6, 9, 3, 5, 4, 8, 7]\n",
      "Step: [0, 1, 2, 3, 9, 6, 5, 4, 8, 7]\n",
      "Step: [0, 1, 2, 3, 4, 6, 5, 9, 8, 7]\n",
      "Step: [0, 1, 2, 3, 4, 5, 6, 9, 8, 7]\n",
      "Step: [0, 1, 2, 3, 4, 5, 6, 9, 8, 7]\n",
      "Step: [0, 1, 2, 3, 4, 5, 6, 7, 8, 9]\n",
      "Step: [0, 1, 2, 3, 4, 5, 6, 7, 8, 9]\n",
      "Step: [0, 1, 2, 3, 4, 5, 6, 7, 8, 9]\n"
     ]
    },
    {
     "data": {
      "text/plain": [
       "[0, 1, 2, 3, 4, 5, 6, 7, 8, 9]"
      ]
     },
     "execution_count": 50,
     "metadata": {},
     "output_type": "execute_result"
    }
   ],
   "source": [
    "def selection_sort(a):\n",
    "    n = len(a)\n",
    "    for i in range(n):\n",
    "        min_index = i\n",
    "        for j in range(i+1, n):\n",
    "            if a[j] < a[min_index]:\n",
    "                min_index = j\n",
    "        a[i], a[min_index] = a[min_index], a[i]\n",
    "        print(f'Step: {a}')\n",
    "        \n",
    "a = [8,5,2,6,9,3,1,4,0,7]\n",
    "selection_sort(a)\n",
    "a"
   ]
  },
  {
   "cell_type": "markdown",
   "id": "f4d00978",
   "metadata": {},
   "source": [
    "## Insertion sort\n",
    "\n",
    "\n",
    "The array is divided into 2 parts: the left one is sorted, and the right one is not.\n",
    "\n",
    "At each step:\n",
    "\n",
    "- take the next element in the right part.\n",
    "\n",
    "- place it in the correct position in the left part.\n"
   ]
  },
  {
   "cell_type": "markdown",
   "id": "492a7e95",
   "metadata": {},
   "source": [
    "![Title](https://upload.wikimedia.org/wikipedia/commons/8/81/Dsa_ins_sort.png)\n",
    "\n"
   ]
  },
  {
   "cell_type": "code",
   "execution_count": 51,
   "id": "d1646ee1",
   "metadata": {},
   "outputs": [
    {
     "name": "stdout",
     "output_type": "stream",
     "text": [
      "Step: [5, 8, 2, 6, 9, 3, 1, 4, 0, 7]\n",
      "Step: [2, 5, 8, 6, 9, 3, 1, 4, 0, 7]\n",
      "Step: [2, 5, 6, 8, 9, 3, 1, 4, 0, 7]\n",
      "Step: [2, 5, 6, 8, 9, 3, 1, 4, 0, 7]\n",
      "Step: [2, 3, 5, 6, 8, 9, 1, 4, 0, 7]\n",
      "Step: [1, 2, 3, 5, 6, 8, 9, 4, 0, 7]\n",
      "Step: [1, 2, 3, 4, 5, 6, 8, 9, 0, 7]\n",
      "Step: [0, 1, 2, 3, 4, 5, 6, 8, 9, 7]\n",
      "Step: [0, 1, 2, 3, 4, 5, 6, 7, 8, 9]\n"
     ]
    },
    {
     "data": {
      "text/plain": [
       "[0, 1, 2, 3, 4, 5, 6, 7, 8, 9]"
      ]
     },
     "execution_count": 51,
     "metadata": {},
     "output_type": "execute_result"
    }
   ],
   "source": [
    "def insertion_sort(a):\n",
    "    n = len(a)\n",
    "    for i in range(1,n):\n",
    "        curr_elem = a[i]\n",
    "        j = i - 1\n",
    "        while j >= 0 and curr_elem < a[j]:\n",
    "            a[j+1] = a[j]\n",
    "            j=j-1\n",
    "        a[j+1] = curr_elem\n",
    "        print(f'Step: {a}')\n",
    "        \n",
    "a = [8,5,2,6,9,3,1,4,0,7]\n",
    "insertion_sort(a)\n",
    "a"
   ]
  },
  {
   "cell_type": "markdown",
   "id": "fd4ce795",
   "metadata": {},
   "source": [
    "Worst-case: $O(n^{2})$\n",
    "\n",
    "Best-case: $O(n)$\n",
    "\n",
    "Average: $O(n^{2})$\n",
    "\n",
    "We can use binary search in the left part to find the insertion position; for large arrays; more cache misses than in linear search.\n",
    "\n",
    "In-place sorting, stable."
   ]
  },
  {
   "cell_type": "markdown",
   "id": "2ebfda3c",
   "metadata": {},
   "source": [
    "Running time of any sorting algorithm that uses comparisons - $\\Omega(NlogN)$"
   ]
  },
  {
   "cell_type": "markdown",
   "id": "40327aad",
   "metadata": {},
   "source": [
    "## Heap sort"
   ]
  },
  {
   "cell_type": "markdown",
   "id": "045312e2",
   "metadata": {},
   "source": [
    "- Build a heap on the input array\n",
    "\n",
    "- N-1 time take the maximum element from the heap and swap it with the first element of the right part of the array\n",
    "\n",
    "- SiftDown new element in root node\n",
    "\n",
    "![Title](img/heap_sort.png)\n",
    "\n",
    "Building a heap: $O(n)$\n",
    "\n",
    "Building a heap: $O(nlogn)$\n",
    "\n",
    "No best case, unstable, in-place\n"
   ]
  },
  {
   "cell_type": "code",
   "execution_count": 52,
   "id": "fd884018",
   "metadata": {},
   "outputs": [
    {
     "name": "stdout",
     "output_type": "stream",
     "text": [
      "[0, 1, 3, 2, 5, 4, 7, 9, 6, 8]\n",
      "0\n",
      "1\n",
      "2\n",
      "3\n",
      "4\n",
      "5\n",
      "6\n",
      "7\n",
      "8\n",
      "9\n"
     ]
    }
   ],
   "source": [
    "class BinMinHeap:\n",
    "    def SiftDown(self, i):\n",
    "        left = 2*i + 1\n",
    "        right = 2*i + 2\n",
    "        largest = i\n",
    "        if left < len(self.heap_array) and self.heap_array[left] < self.heap_array[i]:\n",
    "            largest = left\n",
    "        if right < len(self.heap_array) and self.heap_array[right] < self.heap_array[largest]:\n",
    "            largest = right\n",
    "        if largest!= i:\n",
    "            self.heap_array[i], self.heap_array[largest] = self.heap_array[largest], self.heap_array[i]\n",
    "            self.SiftDown(largest)\n",
    "            \n",
    "    def SiftUp(self, i):\n",
    "        while i > 0:\n",
    "            parent = (i-1)//2\n",
    "            if self.heap_array[i] > self.heap_array[parent]:\n",
    "                return\n",
    "            self.heap_array[i], self.heap_array[parent] = self.heap_array[parent], self.heap_array[i]\n",
    "            i = parent\n",
    "        \n",
    "    def __init__(self, array):\n",
    "        self.heap_array = array\n",
    "        for i in reversed(range(len(self.heap_array)//2)):\n",
    "            self.SiftDown(i)\n",
    "            \n",
    "    def add(self, element):\n",
    "        self.heap_array.append(element)\n",
    "        self.SiftUp(len(self.heap_array) - 1)\n",
    "        \n",
    "    def get_min(self):\n",
    "        min_elem = self.heap_array[0]\n",
    "        leaf_elem = self.heap_array.pop()\n",
    "        if self.heap_array:\n",
    "            self.heap_array[0] = leaf_elem \n",
    "            self.SiftDown(0)\n",
    "        return(min_elem)\n",
    "\n",
    "a = [9,8,7,6,5,4,3,2,1,0]\n",
    "\n",
    "bin_heap = BinMinHeap(a)\n",
    "print(bin_heap.heap_array)\n",
    "\n",
    "for i in range(len(a)):\n",
    "    print(bin_heap.get_min())"
   ]
  },
  {
   "cell_type": "markdown",
   "id": "949e5b04",
   "metadata": {},
   "source": [
    "## Merge sort\n",
    "\n",
    "1. Split the array into two parts\n",
    "\n",
    "2. Sort each part recursively\n",
    "\n",
    "3. Merge the sorted parts into one\n",
    "\n",
    "![Title](https://upload.wikimedia.org/wikipedia/commons/thumb/e/e6/Merge_sort_algorithm_diagram.svg/800px-Merge_sort_algorithm_diagram.svg.png)\n",
    "\n",
    "Stable.\n",
    "\n",
    "Merge sort can be implemented without recursion by dividing the input array into subarrays of small length.\n",
    "\n",
    "### Merging\n",
    "\n",
    "1. Select an array with the smallest first element\n",
    "\n",
    "2. Extract this element into the result array\n",
    "\n",
    "3. Continue until one of the arrays is empty\n",
    "\n",
    "4. Copy the rest of the second array to the end of the result array\n",
    "\n",
    "Worst case: $O(n+m)$\n",
    "\n",
    "Best case: $O(min(n,m))$\n",
    "\n",
    "\n",
    "![Title](img/merging.png)\n"
   ]
  },
  {
   "cell_type": "code",
   "execution_count": 53,
   "id": "ae33ef01",
   "metadata": {},
   "outputs": [
    {
     "name": "stdout",
     "output_type": "stream",
     "text": [
      "merging L: [9] and R:[8]\n",
      "merging L: [6] and R:[5]\n",
      "merging L: [7] and R:[5, 6]\n",
      "merging L: [8, 9] and R:[5, 6, 7]\n",
      "merging L: [4] and R:[3]\n",
      "merging L: [1] and R:[0]\n",
      "merging L: [2] and R:[0, 1]\n",
      "merging L: [3, 4] and R:[0, 1, 2]\n",
      "merging L: [5, 6, 7, 8, 9] and R:[0, 1, 2, 3, 4]\n"
     ]
    },
    {
     "data": {
      "text/plain": [
       "[0, 1, 2, 3, 4, 5, 6, 7, 8, 9]"
      ]
     },
     "execution_count": 53,
     "metadata": {},
     "output_type": "execute_result"
    }
   ],
   "source": [
    "def merge(a, l, m, r):\n",
    "    i = 0\n",
    "    j = 0\n",
    "    k = 0\n",
    "    L = a[l:m]\n",
    "    length_left = len(L)\n",
    "    R = a[m:r]\n",
    "    length_right = len(R)\n",
    "    print(f\"merging L: {L} and R:{R}\")\n",
    "    while i < length_left and j < length_right: \n",
    "        if L[i] <= R[j]:\n",
    "            a[l+k] = L[i]\n",
    "            i, k = i+1, k+1\n",
    "        else:\n",
    "            a[l+k] = R[j]\n",
    "            j, k = j+1, k+1\n",
    "            \n",
    "    while i < length_left:\n",
    "        a[l+k] = L[i]\n",
    "        i, k = i+1, k+1\n",
    "    while j < length_right:\n",
    "        a[l+k] = R[j]\n",
    "        j, k = j+1, k+1\n",
    "        \n",
    "def merge_sort(a, l, r):\n",
    "    if l >= r-1:\n",
    "        return\n",
    "    m = l + (r-l)//2\n",
    "    merge_sort(a, l, m)\n",
    "    merge_sort(a, m, r)\n",
    "    merge(a, l, m, r) \n",
    "\n",
    "a = [9,8,7,6,5,4,3,2,1,0]\n",
    "merge_sort(a, 0, len(a))\n",
    "a\n"
   ]
  },
  {
   "cell_type": "markdown",
   "id": "2175b4f6",
   "metadata": {},
   "source": [
    "Merge sort complexity\n",
    "\n",
    "$T(n) \\leq 2T(\\frac{n}{2}) + c \\cdot n  \\leq 4T(\\frac{n}{4}) + 2c \\cdot n \\leq ... \\leq  2^{k} \\cdot T(1) + k \\cdot c \\cdot n$,\n",
    "\n",
    "where $k = logn$\n",
    "\n",
    "$T(n) = O(nlogn)$\n",
    "\n",
    "$M = O(n)$, the size of the allocated memory is equal to the sum of the lengths of the merged arrays."
   ]
  },
  {
   "cell_type": "markdown",
   "id": "f8e916b9",
   "metadata": {},
   "source": [
    "## QuickSort"
   ]
  },
  {
   "cell_type": "markdown",
   "id": "e2765200",
   "metadata": {},
   "source": [
    "- Divide the array into 2 parts using the partition function:\n",
    "\n",
    "{elements from the left part} $\\leq$ {elements from the right part}\n",
    "\n",
    "- Apply this procedure recursively to the left and right parts.\n",
    "\n",
    "### Partition function\n",
    "\n",
    "0. In the input array A, select a pivot element\n",
    "\n",
    "1. Put the pivot in the n-1 position in A\n",
    "\n",
    "Repeat while $i<j$:\n",
    "\n",
    "    2. Set 2 pointers - i to the first element of the array and j to the element before the pivot element\n",
    "\n",
    "    3. Move i to the right until $A[i] < pivot$\n",
    "\n",
    "    4. Move j to the left until  $A[j] ≥ pivot$\n",
    "\n",
    "    5. Swap $A[i]$ and $A[j]$ if i<j\n",
    "    \n",
    "6. Swap $A[i]$ and $A[n-1]$ (pivot)\n",
    "\n",
    "![Title](img/partition.png)\n",
    "\n",
    "Best case: $O(n log n)$\n",
    "\n",
    "There is an equal number of elements, that are larger or smaller than the pivot - select the pivot as the mean.\n",
    "\n",
    "$T(n) \\leq 2T(\\frac{n}{2}) + c \\cdot n$\n",
    "\n",
    "\n",
    "\n",
    "\n",
    "Worst case - array is sorted: $O(n^{2})$\n",
    "\n",
    "![Title](img/qsort_worst.png)\n",
    "\n",
    "Average - $O(n log n)$\n",
    "\n",
    "### How to choose pivot element?\n",
    "\n",
    "- First element\n",
    "\n",
    "- Last element\n",
    "\n",
    "- Middle element\n",
    "\n",
    "- Random index\n",
    "\n",
    "- Median(first, middle, last)\n",
    "\n",
    "- Median of three random\n",
    "\n",
    "- Median of the whole array ($O(n)$)\n",
    "\n",
    " statistics.median:Qsort - unstable, in-place"
   ]
  },
  {
   "cell_type": "code",
   "execution_count": 1,
   "id": "f9637960",
   "metadata": {},
   "outputs": [
    {
     "data": {
      "text/plain": [
       "[0, 1, 2, 3, 4, 5, 6, 7, 8, 9]"
      ]
     },
     "execution_count": 1,
     "metadata": {},
     "output_type": "execute_result"
    }
   ],
   "source": [
    "import statistics\n",
    "def qsort(a, l, r):\n",
    "    if l >= r-1:\n",
    "        return\n",
    "    i, j = l, r-1\n",
    "    m = l + (r-l)//2\n",
    "    pivot = statistics.median([a[l], a[m], a[r-1]])\n",
    "    while i <= j:\n",
    "        while a[i] < pivot: i += 1\n",
    "        while a[j] > pivot: j -= 1\n",
    "        if i <= j:\n",
    "            a[i], a[j] = a[j], a[i]\n",
    "            i, j = i + 1, j - 1\n",
    "    qsort(a, l, j)\n",
    "    qsort(a, i, r)\n",
    "    \n",
    "a = [9,8,7,6,5,4,3,2,1,0]\n",
    "qsort(a, 0, len(a))\n",
    "a"
   ]
  },
  {
   "cell_type": "markdown",
   "id": "182eeec5",
   "metadata": {},
   "source": [
    "For all comparison based sorts : $O(nlogn)$\n",
    "\n",
    "\n",
    "Decision tree branches allow us to monitor the sorting algorithm's progress - binary tree.\n",
    "\n",
    "\n",
    "\n",
    "\n",
    "![Title](img/sorting_naive.png)\n",
    "\n",
    "\n",
    "\n",
    "n! possible orderings of an array with n elements -> n! leaves in the decision tree\n",
    "\n",
    "Tree height is at least log(n!)\n",
    "\n",
    "$n! = \\sqrt{2 \\pi n} \\cdot (\\frac{n}{e})^e \\cdot (1+\\Theta(\\frac{1}{n}))$\n",
    "\n",
    "$log(n!) = log( \\sqrt{2 \\pi n} \\cdot (\\frac{n}{e})^e \\cdot (1+\\Theta(\\frac{1}{n}))) = \\frac{1}{2}log(2\\pi n) + n log(\\frac{n}{e}) + log(1+\\Theta(\\frac{1}{n}) \\geq nlogn - nloge$\n"
   ]
  },
  {
   "cell_type": "markdown",
   "id": "9a3b9587",
   "metadata": {},
   "source": [
    "## Counting sort\n",
    "\n",
    "Non-comparison-based, integer sorting algorithm\n",
    "\n",
    "It is particularly efficient when the range of input values is small compared to the number of elements to be sorted.\n",
    "\n",
    "$O(n)$\n",
    "\n",
    "Stable sort\n",
    "\n",
    "1) Get $max$ element\n",
    "\n",
    "2) Allocate counting array of length $max$\n",
    "\n",
    "3) Count occurrences of all possible elements in an array\n",
    "\n",
    "![Title](img/counting_sort.png)\n",
    "\n"
   ]
  },
  {
   "cell_type": "markdown",
   "id": "3ee5c7f6",
   "metadata": {},
   "source": [
    "## Radix Sort\n",
    "\n",
    "- least significant digit\n",
    "\n",
    "- most significant digit\n",
    "\n",
    "Use counting sort to sort each digit\n",
    "\n",
    "$T(n) = O(k*n)$, where k - number of digits\n",
    "\n",
    "![Title](https://media.geeksforgeeks.org/wp-content/uploads/20230307194541/Radix-Sort-in-C-1-768.png)\n",
    "\n"
   ]
  }
 ],
 "metadata": {
  "kernelspec": {
   "display_name": "Python 3 (ipykernel)",
   "language": "python",
   "name": "python3"
  },
  "language_info": {
   "codemirror_mode": {
    "name": "ipython",
    "version": 3
   },
   "file_extension": ".py",
   "mimetype": "text/x-python",
   "name": "python",
   "nbconvert_exporter": "python",
   "pygments_lexer": "ipython3",
   "version": "3.9.13"
  }
 },
 "nbformat": 4,
 "nbformat_minor": 5
}
