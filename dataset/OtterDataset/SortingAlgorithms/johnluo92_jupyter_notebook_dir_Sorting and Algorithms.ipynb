{
 "cells": [
  {
   "cell_type": "code",
   "execution_count": 33,
   "metadata": {},
   "outputs": [
    {
     "name": "stdout",
     "output_type": "stream",
     "text": [
      "[4, 3, 2, 1] swapped '4' & '3' result: [3, 4, 2, 1]\n",
      "[3, 4, 2, 1] swapped '4' & '2' result: [3, 2, 4, 1]\n",
      "[3, 2, 4, 1] swapped '4' & '1' result: [3, 2, 1, 4]\n",
      "\n",
      "floated largest item *4* to the back in iteration: 0\n",
      "\n",
      "[3, 2, 1, 4] swapped '3' & '2' result: [2, 3, 1, 4]\n",
      "[2, 3, 1, 4] swapped '3' & '1' result: [2, 1, 3, 4]\n",
      "\n",
      "floated largest item *3* to the back in iteration: 1\n",
      "\n",
      "[2, 1, 3, 4] swapped '2' & '1' result: [1, 2, 3, 4]\n",
      "\n",
      "floated largest item *2* to the back in iteration: 2\n",
      "\n",
      "\n",
      "result: [1, 2, 3, 4]\n"
     ]
    }
   ],
   "source": [
    "### Bubble Sort ###\n",
    "''' bubble sort is a n^2 time complex sorting algorithm,\n",
    "    it loops through the array searching for a swap to place\n",
    "    the biggest item in the end of the list, returning the function\n",
    "    when there is no swap.'''\n",
    "\n",
    "def bubble_sort(arr):\n",
    "    def swap(i, j):\n",
    "        arr[i], arr[j] = arr[j], arr[i]\n",
    "\n",
    "    n = len(arr)\n",
    "    swapped = True\n",
    "    \n",
    "    x = -1\n",
    "    while swapped:\n",
    "        swapped = False\n",
    "        x = x + 1\n",
    "        for i in range(1, n-x):\n",
    "            if arr[i - 1] > arr[i]:\n",
    "                print(arr,end='')\n",
    "                swap(i - 1, i)\n",
    "                print(' swapped \\'{}\\' & \\'{}\\' result: {}'.format(arr[i],arr[i-1],arr))\n",
    "                swapped = True\n",
    "        if swapped:\n",
    "            print('\\nfloated largest item *{}* to the back in iteration: {}\\n'.format(arr[i],x))\n",
    "                    \n",
    "    return arr\n",
    "\n",
    "print('\\nresult:',bubble_sort([4,3,2,1]))"
   ]
  },
  {
   "cell_type": "code",
   "execution_count": 36,
   "metadata": {},
   "outputs": [
    {
     "name": "stdout",
     "output_type": "stream",
     "text": [
      "[4, 3, 2, 1] swapped '4' & '1' result: [1, 3, 2, 4]\n",
      "[1, 3, 2, 4] swapped '4' & '2' result: [1, 2, 3, 4]\n",
      "[1, 2, 3, 4] swapped '4' & '3' result: [1, 2, 3, 4]\n",
      "[1, 2, 3, 4] swapped '4' & '4' result: [1, 2, 3, 4]\n",
      "\n",
      "result: [1, 2, 3, 4]\n"
     ]
    }
   ],
   "source": [
    "### Selection Sort###\n",
    "''' selection sort is an n^2 time complex sorting algorithm,\n",
    "    it loops through the array n by n times in order to place\n",
    "    the smalled item to leftmost of the unsorted array, incrementing\n",
    "    the pointer to search for the next smallest item and thus it marks\n",
    "    the left side of the array sorted.'''\n",
    "\n",
    "def selection_sort(arr):        \n",
    "    for i in range(len(arr)):\n",
    "        minimum = i\n",
    "        \n",
    "        for j in range(i + 1, len(arr)):\n",
    "            # Select the smallest value\n",
    "            if arr[j] < arr[minimum]:\n",
    "                minimum = j\n",
    "\n",
    "        # Place it at the front of the \n",
    "        # sorted end of the array\n",
    "        print(arr,end='')\n",
    "        arr[minimum], arr[i] = arr[i], arr[minimum]\n",
    "        print(' swapped \\'{}\\' & \\'{}\\' result: {}'.format(arr[j],arr[i],arr))\n",
    "            \n",
    "    return arr\n",
    "\n",
    "print('\\nresult:',selection_sort([4,3,2,1]))"
   ]
  },
  {
   "cell_type": "code",
   "execution_count": 54,
   "metadata": {},
   "outputs": [
    {
     "name": "stdout",
     "output_type": "stream",
     "text": [
      "[4, 3, 2, 1]\n",
      "[3, 4, 2, 1]\n",
      "[2, 3, 4, 1]\n",
      "[1, 2, 3, 4]\n",
      "\n",
      "result: [1, 2, 3, 4]\n"
     ]
    }
   ],
   "source": [
    "### Insertion Sort ###\n",
    "\n",
    "def insertion_sort(arr):\n",
    "        \n",
    "    for i in range(len(arr)):\n",
    "        cursor = arr[i]\n",
    "        pos = i\n",
    "        while pos > 0 and arr[pos - 1] > cursor:\n",
    "            # Swap the number down the list\n",
    "            arr[pos] = arr[pos - 1]\n",
    "            pos -= 1\n",
    "        # Break and do the final swap\n",
    "        arr[pos] = cursor\n",
    "        print(arr)\n",
    "    return arr\n",
    "\n",
    "print('\\nresult:',insertion_sort([4,3,2,1]))"
   ]
  }
 ],
 "metadata": {
  "kernelspec": {
   "display_name": "Python 3",
   "language": "python",
   "name": "python3"
  },
  "language_info": {
   "codemirror_mode": {
    "name": "ipython",
    "version": 3
   },
   "file_extension": ".py",
   "mimetype": "text/x-python",
   "name": "python",
   "nbconvert_exporter": "python",
   "pygments_lexer": "ipython3",
   "version": "3.8.5"
  }
 },
 "nbformat": 4,
 "nbformat_minor": 4
}
