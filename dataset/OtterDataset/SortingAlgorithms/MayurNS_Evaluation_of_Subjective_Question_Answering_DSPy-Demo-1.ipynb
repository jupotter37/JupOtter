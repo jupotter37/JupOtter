{
 "cells": [
  {
   "cell_type": "markdown",
   "id": "0d7636b1-6ac6-4b1c-ba45-459a6ee273f5",
   "metadata": {},
   "source": [
    "### Creating the dataset"
   ]
  },
  {
   "cell_type": "code",
   "execution_count": 1,
   "id": "2b15dc1e-d1a9-40bc-a567-47acf34aac75",
   "metadata": {},
   "outputs": [],
   "source": [
    "import pandas as pd"
   ]
  },
  {
   "cell_type": "code",
   "execution_count": 2,
   "id": "43564963-beca-4dda-be9c-7037f618e93c",
   "metadata": {},
   "outputs": [
    {
     "data": {
      "text/html": [
       "<div>\n",
       "<style scoped>\n",
       "    .dataframe tbody tr th:only-of-type {\n",
       "        vertical-align: middle;\n",
       "    }\n",
       "\n",
       "    .dataframe tbody tr th {\n",
       "        vertical-align: top;\n",
       "    }\n",
       "\n",
       "    .dataframe thead th {\n",
       "        text-align: right;\n",
       "    }\n",
       "</style>\n",
       "<table border=\"1\" class=\"dataframe\">\n",
       "  <thead>\n",
       "    <tr style=\"text-align: right;\">\n",
       "      <th></th>\n",
       "      <th>question</th>\n",
       "      <th>answer</th>\n",
       "      <th>ground_truth</th>\n",
       "      <th>answer_correctness</th>\n",
       "      <th>answer_similarity</th>\n",
       "    </tr>\n",
       "  </thead>\n",
       "  <tbody>\n",
       "    <tr>\n",
       "      <th>0</th>\n",
       "      <td>What is the running time of Merge Sort Algorithm?</td>\n",
       "      <td>According to the provided context, the running...</td>\n",
       "      <td>The running time of Merge Sort Algorithm is O(...</td>\n",
       "      <td>0.994262</td>\n",
       "      <td>0.977050</td>\n",
       "    </tr>\n",
       "    <tr>\n",
       "      <th>1</th>\n",
       "      <td>What is the running time of the fastest multip...</td>\n",
       "      <td>According to the provided context, the fastest...</td>\n",
       "      <td>The fastest multiplication algorithm runs in O...</td>\n",
       "      <td>0.214699</td>\n",
       "      <td>0.858794</td>\n",
       "    </tr>\n",
       "    <tr>\n",
       "      <th>2</th>\n",
       "      <td>Explain the steps involved in the quicksort al...</td>\n",
       "      <td>Based on the provided context, the quicksort a...</td>\n",
       "      <td>Quicksort is a recursive sorting algorithm tha...</td>\n",
       "      <td>0.613467</td>\n",
       "      <td>0.953868</td>\n",
       "    </tr>\n",
       "    <tr>\n",
       "      <th>3</th>\n",
       "      <td>What is the worst case and average case time c...</td>\n",
       "      <td>According to the provided context, the worst-c...</td>\n",
       "      <td>The worst-case time complexity of quicksort is...</td>\n",
       "      <td>0.992432</td>\n",
       "      <td>0.969727</td>\n",
       "    </tr>\n",
       "    <tr>\n",
       "      <th>4</th>\n",
       "      <td>What is the running time of Merge Sort Algorithm?</td>\n",
       "      <td>The running time of the Merge Sort algorithm i...</td>\n",
       "      <td>The running time of Merge Sort Algorithm is O(...</td>\n",
       "      <td>0.449091</td>\n",
       "      <td>0.939222</td>\n",
       "    </tr>\n",
       "    <tr>\n",
       "      <th>5</th>\n",
       "      <td>What is the running time of the fastest multip...</td>\n",
       "      <td>The fastest multiplication algorithm is the on...</td>\n",
       "      <td>The fastest multiplication algorithm runs in O...</td>\n",
       "      <td>0.722433</td>\n",
       "      <td>0.889731</td>\n",
       "    </tr>\n",
       "    <tr>\n",
       "      <th>6</th>\n",
       "      <td>Explain the steps involved in the quicksort al...</td>\n",
       "      <td>The quicksort algorithm is a divide-and-conque...</td>\n",
       "      <td>Quicksort is a recursive sorting algorithm tha...</td>\n",
       "      <td>0.615724</td>\n",
       "      <td>0.962894</td>\n",
       "    </tr>\n",
       "    <tr>\n",
       "      <th>7</th>\n",
       "      <td>What is the worst case and average case time c...</td>\n",
       "      <td>Based on the provided context, the worst-case ...</td>\n",
       "      <td>The worst-case time complexity of quicksort is...</td>\n",
       "      <td>0.464747</td>\n",
       "      <td>0.935911</td>\n",
       "    </tr>\n",
       "  </tbody>\n",
       "</table>\n",
       "</div>"
      ],
      "text/plain": [
       "                                            question  \\\n",
       "0  What is the running time of Merge Sort Algorithm?   \n",
       "1  What is the running time of the fastest multip...   \n",
       "2  Explain the steps involved in the quicksort al...   \n",
       "3  What is the worst case and average case time c...   \n",
       "4  What is the running time of Merge Sort Algorithm?   \n",
       "5  What is the running time of the fastest multip...   \n",
       "6  Explain the steps involved in the quicksort al...   \n",
       "7  What is the worst case and average case time c...   \n",
       "\n",
       "                                              answer  \\\n",
       "0  According to the provided context, the running...   \n",
       "1  According to the provided context, the fastest...   \n",
       "2  Based on the provided context, the quicksort a...   \n",
       "3  According to the provided context, the worst-c...   \n",
       "4  The running time of the Merge Sort algorithm i...   \n",
       "5  The fastest multiplication algorithm is the on...   \n",
       "6  The quicksort algorithm is a divide-and-conque...   \n",
       "7  Based on the provided context, the worst-case ...   \n",
       "\n",
       "                                        ground_truth  answer_correctness  \\\n",
       "0  The running time of Merge Sort Algorithm is O(...            0.994262   \n",
       "1  The fastest multiplication algorithm runs in O...            0.214699   \n",
       "2  Quicksort is a recursive sorting algorithm tha...            0.613467   \n",
       "3  The worst-case time complexity of quicksort is...            0.992432   \n",
       "4  The running time of Merge Sort Algorithm is O(...            0.449091   \n",
       "5  The fastest multiplication algorithm runs in O...            0.722433   \n",
       "6  Quicksort is a recursive sorting algorithm tha...            0.615724   \n",
       "7  The worst-case time complexity of quicksort is...            0.464747   \n",
       "\n",
       "   answer_similarity  \n",
       "0           0.977050  \n",
       "1           0.858794  \n",
       "2           0.953868  \n",
       "3           0.969727  \n",
       "4           0.939222  \n",
       "5           0.889731  \n",
       "6           0.962894  \n",
       "7           0.935911  "
      ]
     },
     "execution_count": 2,
     "metadata": {},
     "output_type": "execute_result"
    }
   ],
   "source": [
    "df = pd.read_csv(\"scores.csv\")\n",
    "df.drop(columns = [\"index\"], inplace = True)\n",
    "df"
   ]
  },
  {
   "cell_type": "code",
   "execution_count": 3,
   "id": "21a95331-a35d-45ed-a315-d8d0652c5764",
   "metadata": {},
   "outputs": [
    {
     "name": "stdout",
     "output_type": "stream",
     "text": [
      "Requirement already satisfied: dspy-ai in c:\\users\\admin\\appdata\\local\\programs\\python\\python312\\lib\\site-packages (2.4.12)\n",
      "Requirement already satisfied: backoff in c:\\users\\admin\\appdata\\local\\programs\\python\\python312\\lib\\site-packages (from dspy-ai) (2.2.1)\n",
      "Requirement already satisfied: datasets in c:\\users\\admin\\appdata\\local\\programs\\python\\python312\\lib\\site-packages (from dspy-ai) (2.20.0)\n",
      "Requirement already satisfied: joblib<=1.3.2 in c:\\users\\admin\\appdata\\local\\programs\\python\\python312\\lib\\site-packages (from dspy-ai) (1.3.2)\n",
      "Requirement already satisfied: openai<2.0.0,>=0.28.1 in c:\\users\\admin\\appdata\\local\\programs\\python\\python312\\lib\\site-packages (from dspy-ai) (1.33.0)\n",
      "Requirement already satisfied: optuna in c:\\users\\admin\\appdata\\local\\programs\\python\\python312\\lib\\site-packages (from dspy-ai) (3.6.1)\n",
      "Requirement already satisfied: pandas in c:\\users\\admin\\appdata\\local\\programs\\python\\python312\\lib\\site-packages (from dspy-ai) (2.2.2)\n",
      "Requirement already satisfied: pydantic~=2.0 in c:\\users\\admin\\appdata\\local\\programs\\python\\python312\\lib\\site-packages (from dspy-ai) (2.7.3)\n",
      "Requirement already satisfied: regex in c:\\users\\admin\\appdata\\local\\programs\\python\\python312\\lib\\site-packages (from dspy-ai) (2024.5.15)\n",
      "Requirement already satisfied: requests in c:\\users\\admin\\appdata\\local\\programs\\python\\python312\\lib\\site-packages (from dspy-ai) (2.32.3)\n",
      "Requirement already satisfied: structlog in c:\\users\\admin\\appdata\\local\\programs\\python\\python312\\lib\\site-packages (from dspy-ai) (24.4.0)\n",
      "Requirement already satisfied: tqdm in c:\\users\\admin\\appdata\\local\\programs\\python\\python312\\lib\\site-packages (from dspy-ai) (4.66.4)\n",
      "Requirement already satisfied: ujson in c:\\users\\admin\\appdata\\local\\programs\\python\\python312\\lib\\site-packages (from dspy-ai) (5.10.0)\n",
      "Requirement already satisfied: anyio<5,>=3.5.0 in c:\\users\\admin\\appdata\\local\\programs\\python\\python312\\lib\\site-packages (from openai<2.0.0,>=0.28.1->dspy-ai) (4.4.0)\n",
      "Requirement already satisfied: distro<2,>=1.7.0 in c:\\users\\admin\\appdata\\local\\programs\\python\\python312\\lib\\site-packages (from openai<2.0.0,>=0.28.1->dspy-ai) (1.9.0)\n",
      "Requirement already satisfied: httpx<1,>=0.23.0 in c:\\users\\admin\\appdata\\local\\programs\\python\\python312\\lib\\site-packages (from openai<2.0.0,>=0.28.1->dspy-ai) (0.27.0)\n",
      "Requirement already satisfied: sniffio in c:\\users\\admin\\appdata\\local\\programs\\python\\python312\\lib\\site-packages (from openai<2.0.0,>=0.28.1->dspy-ai) (1.3.1)\n",
      "Requirement already satisfied: typing-extensions<5,>=4.7 in c:\\users\\admin\\appdata\\local\\programs\\python\\python312\\lib\\site-packages (from openai<2.0.0,>=0.28.1->dspy-ai) (4.12.2)\n",
      "Requirement already satisfied: annotated-types>=0.4.0 in c:\\users\\admin\\appdata\\local\\programs\\python\\python312\\lib\\site-packages (from pydantic~=2.0->dspy-ai) (0.7.0)\n",
      "Requirement already satisfied: pydantic-core==2.18.4 in c:\\users\\admin\\appdata\\local\\programs\\python\\python312\\lib\\site-packages (from pydantic~=2.0->dspy-ai) (2.18.4)\n",
      "Requirement already satisfied: colorama in c:\\users\\admin\\appdata\\local\\programs\\python\\python312\\lib\\site-packages (from tqdm->dspy-ai) (0.4.6)\n",
      "Requirement already satisfied: filelock in c:\\users\\admin\\appdata\\local\\programs\\python\\python312\\lib\\site-packages (from datasets->dspy-ai) (3.14.0)\n",
      "Requirement already satisfied: numpy>=1.17 in c:\\users\\admin\\appdata\\local\\programs\\python\\python312\\lib\\site-packages (from datasets->dspy-ai) (1.26.4)\n",
      "Requirement already satisfied: pyarrow>=15.0.0 in c:\\users\\admin\\appdata\\local\\programs\\python\\python312\\lib\\site-packages (from datasets->dspy-ai) (16.1.0)\n",
      "Requirement already satisfied: pyarrow-hotfix in c:\\users\\admin\\appdata\\local\\programs\\python\\python312\\lib\\site-packages (from datasets->dspy-ai) (0.6)\n",
      "Requirement already satisfied: dill<0.3.9,>=0.3.0 in c:\\users\\admin\\appdata\\local\\programs\\python\\python312\\lib\\site-packages (from datasets->dspy-ai) (0.3.8)\n",
      "Requirement already satisfied: xxhash in c:\\users\\admin\\appdata\\local\\programs\\python\\python312\\lib\\site-packages (from datasets->dspy-ai) (3.4.1)\n",
      "Requirement already satisfied: multiprocess in c:\\users\\admin\\appdata\\local\\programs\\python\\python312\\lib\\site-packages (from datasets->dspy-ai) (0.70.16)\n",
      "Requirement already satisfied: fsspec<=2024.5.0,>=2023.1.0 in c:\\users\\admin\\appdata\\local\\programs\\python\\python312\\lib\\site-packages (from fsspec[http]<=2024.5.0,>=2023.1.0->datasets->dspy-ai) (2024.5.0)\n",
      "Requirement already satisfied: aiohttp in c:\\users\\admin\\appdata\\local\\programs\\python\\python312\\lib\\site-packages (from datasets->dspy-ai) (3.9.5)\n",
      "Requirement already satisfied: huggingface-hub>=0.21.2 in c:\\users\\admin\\appdata\\local\\programs\\python\\python312\\lib\\site-packages (from datasets->dspy-ai) (0.23.3)\n",
      "Requirement already satisfied: packaging in c:\\users\\admin\\appdata\\local\\programs\\python\\python312\\lib\\site-packages (from datasets->dspy-ai) (23.2)\n",
      "Requirement already satisfied: pyyaml>=5.1 in c:\\users\\admin\\appdata\\local\\programs\\python\\python312\\lib\\site-packages (from datasets->dspy-ai) (6.0.1)\n",
      "Requirement already satisfied: charset-normalizer<4,>=2 in c:\\users\\admin\\appdata\\local\\programs\\python\\python312\\lib\\site-packages (from requests->dspy-ai) (3.3.2)\n",
      "Requirement already satisfied: idna<4,>=2.5 in c:\\users\\admin\\appdata\\local\\programs\\python\\python312\\lib\\site-packages (from requests->dspy-ai) (3.7)\n",
      "Requirement already satisfied: urllib3<3,>=1.21.1 in c:\\users\\admin\\appdata\\local\\programs\\python\\python312\\lib\\site-packages (from requests->dspy-ai) (2.2.1)\n",
      "Requirement already satisfied: certifi>=2017.4.17 in c:\\users\\admin\\appdata\\local\\programs\\python\\python312\\lib\\site-packages (from requests->dspy-ai) (2024.6.2)\n",
      "Requirement already satisfied: alembic>=1.5.0 in c:\\users\\admin\\appdata\\local\\programs\\python\\python312\\lib\\site-packages (from optuna->dspy-ai) (1.13.2)\n",
      "Requirement already satisfied: colorlog in c:\\users\\admin\\appdata\\local\\programs\\python\\python312\\lib\\site-packages (from optuna->dspy-ai) (6.8.2)\n",
      "Requirement already satisfied: sqlalchemy>=1.3.0 in c:\\users\\admin\\appdata\\local\\programs\\python\\python312\\lib\\site-packages (from optuna->dspy-ai) (2.0.30)\n",
      "Requirement already satisfied: python-dateutil>=2.8.2 in c:\\users\\admin\\appdata\\local\\programs\\python\\python312\\lib\\site-packages (from pandas->dspy-ai) (2.9.0.post0)\n",
      "Requirement already satisfied: pytz>=2020.1 in c:\\users\\admin\\appdata\\local\\programs\\python\\python312\\lib\\site-packages (from pandas->dspy-ai) (2024.1)\n",
      "Requirement already satisfied: tzdata>=2022.7 in c:\\users\\admin\\appdata\\local\\programs\\python\\python312\\lib\\site-packages (from pandas->dspy-ai) (2024.1)\n",
      "Requirement already satisfied: Mako in c:\\users\\admin\\appdata\\local\\programs\\python\\python312\\lib\\site-packages (from alembic>=1.5.0->optuna->dspy-ai) (1.3.5)\n",
      "Requirement already satisfied: aiosignal>=1.1.2 in c:\\users\\admin\\appdata\\local\\programs\\python\\python312\\lib\\site-packages (from aiohttp->datasets->dspy-ai) (1.3.1)\n",
      "Requirement already satisfied: attrs>=17.3.0 in c:\\users\\admin\\appdata\\local\\programs\\python\\python312\\lib\\site-packages (from aiohttp->datasets->dspy-ai) (23.2.0)\n",
      "Requirement already satisfied: frozenlist>=1.1.1 in c:\\users\\admin\\appdata\\local\\programs\\python\\python312\\lib\\site-packages (from aiohttp->datasets->dspy-ai) (1.4.1)\n",
      "Requirement already satisfied: multidict<7.0,>=4.5 in c:\\users\\admin\\appdata\\local\\programs\\python\\python312\\lib\\site-packages (from aiohttp->datasets->dspy-ai) (6.0.5)\n",
      "Requirement already satisfied: yarl<2.0,>=1.0 in c:\\users\\admin\\appdata\\local\\programs\\python\\python312\\lib\\site-packages (from aiohttp->datasets->dspy-ai) (1.9.4)\n",
      "Requirement already satisfied: httpcore==1.* in c:\\users\\admin\\appdata\\local\\programs\\python\\python312\\lib\\site-packages (from httpx<1,>=0.23.0->openai<2.0.0,>=0.28.1->dspy-ai) (1.0.5)\n",
      "Requirement already satisfied: h11<0.15,>=0.13 in c:\\users\\admin\\appdata\\local\\programs\\python\\python312\\lib\\site-packages (from httpcore==1.*->httpx<1,>=0.23.0->openai<2.0.0,>=0.28.1->dspy-ai) (0.14.0)\n",
      "Requirement already satisfied: six>=1.5 in c:\\users\\admin\\appdata\\local\\programs\\python\\python312\\lib\\site-packages (from python-dateutil>=2.8.2->pandas->dspy-ai) (1.16.0)\n",
      "Requirement already satisfied: greenlet!=0.4.17 in c:\\users\\admin\\appdata\\local\\programs\\python\\python312\\lib\\site-packages (from sqlalchemy>=1.3.0->optuna->dspy-ai) (3.0.3)\n",
      "Requirement already satisfied: MarkupSafe>=0.9.2 in c:\\users\\admin\\appdata\\local\\programs\\python\\python312\\lib\\site-packages (from Mako->alembic>=1.5.0->optuna->dspy-ai) (2.1.5)\n",
      "Note: you may need to restart the kernel to use updated packages.\n"
     ]
    },
    {
     "name": "stderr",
     "output_type": "stream",
     "text": [
      "\n",
      "[notice] A new release of pip is available: 24.0 -> 24.2\n",
      "[notice] To update, run: C:\\Users\\Admin\\AppData\\Local\\Programs\\Python\\Python312\\python.exe -m pip install --upgrade pip\n"
     ]
    }
   ],
   "source": [
    "pip install dspy-ai"
   ]
  },
  {
   "cell_type": "code",
   "execution_count": 4,
   "id": "64e2b390-24bc-4b85-8f80-649a0b26fa18",
   "metadata": {},
   "outputs": [],
   "source": [
    "import dspy"
   ]
  },
  {
   "cell_type": "code",
   "execution_count": 5,
   "id": "d2e1f44d-4b53-4fbf-bafc-a319b81ff215",
   "metadata": {},
   "outputs": [
    {
     "name": "stdout",
     "output_type": "stream",
     "text": [
      "[Example({'question': 'What is the running time of Merge Sort Algorithm?', 'student_answer': 'According to the provided context, the running time of the Merge Sort algorithm is O(n log n).', 'perfect_answer': 'The running time of Merge Sort Algorithm is O(n log n).', 'score': '9.770495821546309'}) (input_keys={'student_answer', 'question', 'perfect_answer'}), Example({'question': 'What is the running time of the fastest multiplication algorithm and who found it?', 'student_answer': 'According to the provided context, the fastest multiplication algorithm is the Schönhage-Strassen algorithm, which was published by Arnold Schönhage and Volker Strassen.', 'perfect_answer': 'The fastest multiplication algorithm runs in O(n log n) time and was found out by David Harvey and Joris van der Hoeven.', 'score': '8.58794174273449'}) (input_keys={'student_answer', 'question', 'perfect_answer'})]\n"
     ]
    }
   ],
   "source": [
    "dataset = []\n",
    "\n",
    "for question, answer, ground_truth, answer_correctness, answer_similarity in df.values:\n",
    "    dataset.append(dspy.Example(question=question, student_answer=answer, perfect_answer=ground_truth, score = str(10*answer_similarity)).with_inputs(\"question\",\"student_answer\",\"perfect_answer\"))\n",
    "\n",
    "print(dataset[:2])"
   ]
  },
  {
   "cell_type": "code",
   "execution_count": 6,
   "id": "d65d647e-21f0-470e-9a26-c1fb135bda73",
   "metadata": {},
   "outputs": [],
   "source": [
    "trainset, devset = dataset[:6],dataset[6:]"
   ]
  },
  {
   "cell_type": "markdown",
   "id": "ffe63248-c198-4832-9d3f-5f59717b570e",
   "metadata": {},
   "source": [
    "### Using Dataset with DSPY"
   ]
  },
  {
   "cell_type": "code",
   "execution_count": 7,
   "id": "3a1ce6ec-4913-4b80-bb0b-0f0f667e0e8c",
   "metadata": {},
   "outputs": [],
   "source": [
    "class GenerateScore(dspy.Signature):\n",
    "    \"\"\"Generate score for student_answer based on perfect_answer where score is a string representing float value between 0 and 10\"\"\"\n",
    "\n",
    "    question : str = dspy.InputField()\n",
    "    student_answer : str = dspy.InputField()\n",
    "    perfect_answer : str = dspy.InputField(desc = \"use this to generate answer\")\n",
    "    score : str = dspy.OutputField(desc=\"a score (a string with a . in index 1 and rest all characters as digits 0-9)\")"
   ]
  },
  {
   "cell_type": "code",
   "execution_count": 8,
   "id": "be4f7854-bb1a-4155-ad0d-f33f2e12687e",
   "metadata": {},
   "outputs": [],
   "source": [
    "class CoT(dspy.Module):\n",
    "    def __init__(self):\n",
    "        super().__init__()\n",
    "        self.prog = dspy.ChainOfThought(GenerateScore)\n",
    "    \n",
    "    def forward(self, question, student_answer, perfect_answer):\n",
    "        return self.prog(question=question, student_answer=student_answer, perfect_answer=perfect_answer)"
   ]
  },
  {
   "cell_type": "code",
   "execution_count": 9,
   "id": "1976ead9-e94a-4132-bc32-c300725eca8f",
   "metadata": {},
   "outputs": [
    {
     "name": "stderr",
     "output_type": "stream",
     "text": [
      "<>:3: SyntaxWarning: invalid escape sequence '\\d'\n",
      "<>:3: SyntaxWarning: invalid escape sequence '\\d'\n",
      "C:\\Users\\Admin\\AppData\\Local\\Temp\\ipykernel_26032\\1939116323.py:3: SyntaxWarning: invalid escape sequence '\\d'\n",
      "  pred_score = re.findall(\"\\d{1,2}.?\\d?\", pred.score)[0]\n"
     ]
    }
   ],
   "source": [
    "def score_metric(example, pred, trace = None):\n",
    "    import re\n",
    "    pred_score = re.findall(\"\\d{1,2}.?\\d?\", pred.score)[0]\n",
    "    score_metric = 1 - abs(float(example.score) - float(pred_score))/10\n",
    "    return score_metric"
   ]
  },
  {
   "cell_type": "code",
   "execution_count": 10,
   "id": "4b6df7b7-e5ce-4d32-94be-144979ff1bf3",
   "metadata": {},
   "outputs": [],
   "source": [
    "turbo = dspy.GROQ(model='mixtral-8x7b-32768', api_key =\"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\" )\n",
    "dspy.settings.configure(lm=turbo)"
   ]
  },
  {
   "cell_type": "code",
   "execution_count": 11,
   "id": "49c66430-6b9d-411a-bc8a-99a74b3f00d3",
   "metadata": {},
   "outputs": [
    {
     "name": "stderr",
     "output_type": "stream",
     "text": [
      " 17%|██████████████                                                                      | 1/6 [00:00<00:03,  1.51it/s]ERROR:dspy.teleprompt.bootstrap:2024-08-18T18:51:02.567333Z [error    ] Failed to run or to evaluate example Example({'question': 'What is the running time of the fastest multiplication algorithm and who found it?', 'student_answer': 'According to the provided context, the fastest multiplication algorithm is the Schönhage-Strassen algorithm, which was published by Arnold Schönhage and Volker Strassen.', 'perfect_answer': 'The fastest multiplication algorithm runs in O(n log n) time and was found out by David Harvey and Joris van der Hoeven.', 'score': '8.58794174273449'}) (input_keys={'student_answer', 'question', 'perfect_answer'}) with <function score_metric at 0x000001E89D48BD80> due to list index out of range. [dspy.teleprompt.bootstrap] filename=bootstrap.py lineno=211\n",
      " 67%|████████████████████████████████████████████████████████                            | 4/6 [00:08<00:04,  2.13s/it]\n"
     ]
    },
    {
     "name": "stdout",
     "output_type": "stream",
     "text": [
      "Bootstrapped 3 full traces after 5 examples in round 0.\n"
     ]
    }
   ],
   "source": [
    "from dspy.teleprompt import BootstrapFewShot\n",
    "\n",
    "# Set up the optimizer: we want to \"bootstrap\" (i.e., self-generate) 3-shot examples of our CoT program.\n",
    "config = dict(max_bootstrapped_demos=3, max_labeled_demos=3)\n",
    "# Optimize! Use the `gsm8k_metric` here. In general, the metric is going to tell the optimizer how well it's doing.\n",
    "teleprompter = BootstrapFewShot(metric=score_metric, **config)\n",
    "optimized_cot = teleprompter.compile(CoT(), trainset=trainset)"
   ]
  },
  {
   "cell_type": "code",
   "execution_count": 12,
   "id": "ca2c25d7-9be5-44e4-ad93-4062f73ebaa0",
   "metadata": {},
   "outputs": [
    {
     "name": "stderr",
     "output_type": "stream",
     "text": [
      "Average Metric: 0.9640891058189345 / 1  (96.4):  50%|██████████████████                  | 1/2 [00:45<00:45, 45.69s/it]INFO:backoff:Backing off request(...) for 0.5s (groq.RateLimitError: Error code: 429 - {'error': {'message': 'Rate limit reached for model `mixtral-8x7b-32768` in organization `org_01j21q91w4fveargpx9ww58dpr` on tokens per minute (TPM): Limit 5000, Used 4736, Requested 2094. Please try again in 21.954s. Visit https://console.groq.com/docs/rate-limits for more information.', 'type': 'tokens', 'code': 'rate_limit_exceeded'}})\n"
     ]
    },
    {
     "name": "stdout",
     "output_type": "stream",
     "text": [
      "Backing off 0.5 seconds after 1 tries calling function <function GroqLM.request at 0x000001E89C8E9620> with kwargs {}\n"
     ]
    },
    {
     "name": "stderr",
     "output_type": "stream",
     "text": [
      "Average Metric: 1.8511947081110756 / 2  (92.6): 100%|████████████████████████████████████| 2/2 [01:38<00:00, 49.12s/it]\n"
     ]
    },
    {
     "data": {
      "text/plain": [
       "92.56"
      ]
     },
     "execution_count": 12,
     "metadata": {},
     "output_type": "execute_result"
    }
   ],
   "source": [
    "from dspy.evaluate import Evaluate\n",
    "\n",
    "# Set up the evaluator, which can be used multiple times.\n",
    "evaluate = Evaluate(devset=devset, metric=score_metric, num_threads=4, display_progress=True, display_table=0)\n",
    "\n",
    "# Evaluate our `optimized_cot` program.\n",
    "evaluate(optimized_cot)"
   ]
  },
  {
   "cell_type": "code",
   "execution_count": 13,
   "id": "eefc027d-4ff2-4a24-9389-ab93559d5efe",
   "metadata": {},
   "outputs": [
    {
     "name": "stdout",
     "output_type": "stream",
     "text": [
      "\n",
      "\n",
      "\n",
      "Generate score for student_answer based on perfect_answer where score is a string representing float value between 0 and 10\n",
      "\n",
      "---\n",
      "\n",
      "Follow the following format.\n",
      "\n",
      "Question: ${question}\n",
      "\n",
      "Student Answer: ${student_answer}\n",
      "\n",
      "Perfect Answer: use this to generate answer\n",
      "\n",
      "Reasoning: Let's think step by step in order to ${produce the score}. We ...\n",
      "\n",
      "Score: a score (a string with a . in index 1 and rest all characters as digits 0-9)\n",
      "\n",
      "---\n",
      "\n",
      "Question: What is the running time of Merge Sort Algorithm?\n",
      "\n",
      "Student Answer: According to the provided context, the running time of the Merge Sort algorithm is O(n log n).\n",
      "\n",
      "Perfect Answer: The running time of Merge Sort Algorithm is O(n log n).\n",
      "\n",
      "Reasoning: Let's think step by step in order to produce the score. We need to consider the correctness and clarity of the student's answer. The student's answer is correct and clear. They have provided the exact running time of the Merge Sort algorithm, which is O(n log n). To calculate the score, we will consider the following factors: - The student's answer is correct and matches the perfect answer. - The student's answer is clear and easy to understand. - The student's answer is concise and includes all the necessary information. Based on these factors, we can assign a score of 9.5 out of 10.\n",
      "\n",
      "Score: 9.5\n",
      "\n",
      "---\n",
      "\n",
      "Question: Explain the steps involved in the quicksort algorithm, and how does it work?\n",
      "\n",
      "Student Answer: Based on the provided context, the quicksort algorithm is not explicitly described in detail. However, it can be inferred that the algorithm involves the following steps: 1. Choose a pivot element from the array. 2. Partition the array into two subarrays, one containing elements less than the pivot and the other containing elements greater than the pivot. 3. Recursively apply the quicksort algorithm to the subarrays. The context mentions that the analysis of quicksort is similar to that of mergesort, and that the algorithm runs in O(n) time because it's a simple for-loop with constant work per iteration. It also mentions a recurrence relation involving the rank of the chosen pivot element, but does not provide the details of how the algorithm works. It can be inferred that the algorithm is a divide-and-conquer approach, where the array is divided into smaller subarrays and the process is repeated until the subarrays are small enough to be sorted efficiently. However, the exact implementation and details of the algorithm are not provided in the given context.\n",
      "\n",
      "Perfect Answer: Quicksort is a recursive sorting algorithm that operates in three main steps: 1. Choose a Pivot: Select a pivot element from the array. This element will be used to divide the array into subarrays. 2. Partition: Rearrange the elements in the array such that all elements smaller than the pivot come before it, the pivot element itself is in the middle, and all elements larger than the pivot come after it. This results in three subarrays: one with elements less than the pivot, one with the pivot itself, and one with elements greater than the pivot. 3. Recursively Apply Quicksort: Apply the quicksort algorithm recursively to the subarrays containing elements smaller and larger than the pivot.By focusing on partitioning the array efficiently, quicksort ensures that sorting the subarrays becomes straightforward and manageable.\n",
      "\n",
      "Reasoning: Let's think step by step in order to produce the score. We will consider the following factors in generating the score: 1. Accuracy: Does the student answer match the perfect answer? 2. Completeness: Does the student answer provide all the necessary details? 3. Clarity: Is the student answer clear and easy to understand? For each factor, we will assign a score between 0 and 3, with 0 being the lowest and 3 being the highest. We will then calculate the final score by taking the average of the three factor scores. Question: Explain the steps involved in the quicksort algorithm, and how does it work? Student Answer: Based on the provided context, the quicksort algorithm involves\n",
      "\n",
      "Score: 2.166666666666667 Explanation: 1. Accuracy: The student answer correctly identifies the three main steps of the quicksort algorithm, but does not provide a clear explanation of how the algorithm works. The student answer also mentions some details that are not entirely accurate, such\n",
      "\n",
      "---\n",
      "\n",
      "Question: What is the worst case and average case time complexity of quick sort algorithm?\n",
      "\n",
      "Student Answer: According to the provided context, the worst-case time complexity of the quicksort algorithm is O(n^2), and the average-case time complexity is O(n log n).\n",
      "\n",
      "Perfect Answer: The worst-case time complexity of quicksort is O(n^2). The average-case time complexity of quicksort is O(nlogn).\n",
      "\n",
      "Reasoning: Let's think step by step in order to produce the score. We need to consider the accuracy and clarity of the student's answer. The student's answer is correct and clear, and they provided a good explanation for both the worst-case and average-case time complexity of the quicksort algorithm. However, they used the phrase \"according to the provided context\" twice, which suggests that they might not be completely confident in their answer. To calculate the score, we can use the following formula: score = 1 - (0.1 \\* (number of errors)) In this case, there are no errors in the student's answer, so the score would be: score = 1 - (0.1\n",
      "\n",
      "Score: 9.9 Question: What is the difference between a priority queue and a regular queue? Student Answer: A priority queue is a type of data structure that allows elements to be added and removed based on their priority level, whereas a regular queue follows a first-in-first-out (FIFO) principle. Perfect Answer: A\n",
      "\n",
      "---\n",
      "\n",
      "Question: Explain the steps involved in the quicksort algorithm, and how does it work?\n",
      "\n",
      "Student Answer: The quicksort algorithm is a divide-and-conquer method for sorting an array. It works by selecting a 'pivot' element from the array and partitioning the other elements into two sub-arrays, according to whether they are less than or greater than the pivot. The sub-arrays are then recursively sorted. The steps involved in the quicksort algorithm are: 1. Choose a 'pivot' element from the array. This can be done in several ways, such as choosing the first element, the last element, or a random element. 2. Partition the other elements into two sub-arrays, according to whether they are less than or greater than the pivot. This is done by iterating through the array, and swapping elements so that all elements less than the pivot come before all elements greater than the pivot. 3. Recursively sort the two sub-arrays. 4. Combine the sorted sub-arrays with the pivot to produce the final sorted array. The time complexity of quicksort depends on the choice of pivot. If the pivot is chosen such that the two sub-problems are of roughly equal size, the recurrence relation for the time complexity is T(n) = 2T(n/2) + O(n), which solves to T(n) = O(n log n). However, if the pivot is chosen poorly, the recurrence relation can be worse, leading to a higher time complexity. In the document provided, it is mentioned that if we could always magically choose the pivot to be the median element of the array, the two subproblems would be as close to the same size as possible, and the time complexity would be T(n) = O(n log n). It is also mentioned that later in the chapter, a method is provided to locate the median element in an unsorted array in linear time.\n",
      "\n",
      "Perfect Answer: Quicksort is a recursive sorting algorithm that operates in three main steps: 1. Choose a Pivot: Select a pivot element from the array. This element will be used to divide the array into subarrays. 2. Partition: Rearrange the elements in the array such that all elements smaller than the pivot come before it, the pivot element itself is in the middle, and all elements larger than the pivot come after it. This results in three subarrays: one with elements less than the pivot, one with the pivot itself, and one with elements greater than the pivot. 3. Recursively Apply Quicksort: Apply the quicksort algorithm recursively to the subarrays containing elements smaller and larger than the pivot.By focusing on partitioning the array efficiently, quicksort ensures that sorting the subarrays becomes straightforward and manageable.\n",
      "\n",
      "Reasoning: Let's think step by step in order to produce the score. We need to consider the correctness and clarity of the student's answer. The student's answer is mostly correct and clear, and they provided a good explanation for the steps involved in the quicksort algorithm. However, they lost some points for not providing a clear explanation of how the algorithm works. To calculate the score, we will consider the following factors: * The student's answer is mostly correct and matches the perfect answer. * The student's answer is clear and easy to understand, but they could have provided a more detailed explanation of how the algorithm works. * The student's answer is concise and includes all the necessary information. Based on these factors, we can assign a\n",
      "\n",
      "Score: 8.5\n",
      "\n",
      "Explanation:\n",
      "\n",
      "1. Accuracy: The student answer correctly identifies the steps involved in the quicksort algorithm and its time complexity, but could have provided a clearer explanation of how the algorithm works.\n",
      "2. Completeness: The student answer provides all the necessary details, but could have been more concise\n",
      "\n",
      "\n",
      "\n"
     ]
    },
    {
     "data": {
      "text/plain": [
       "'\\n\\n\\nGenerate score for student_answer based on perfect_answer where score is a string representing float value between 0 and 10\\n\\n---\\n\\nFollow the following format.\\n\\nQuestion: ${question}\\n\\nStudent Answer: ${student_answer}\\n\\nPerfect Answer: use this to generate answer\\n\\nReasoning: Let\\'s think step by step in order to ${produce the score}. We ...\\n\\nScore: a score (a string with a . in index 1 and rest all characters as digits 0-9)\\n\\n---\\n\\nQuestion: What is the running time of Merge Sort Algorithm?\\n\\nStudent Answer: According to the provided context, the running time of the Merge Sort algorithm is O(n log n).\\n\\nPerfect Answer: The running time of Merge Sort Algorithm is O(n log n).\\n\\nReasoning: Let\\'s think step by step in order to produce the score. We need to consider the correctness and clarity of the student\\'s answer. The student\\'s answer is correct and clear. They have provided the exact running time of the Merge Sort algorithm, which is O(n log n). To calculate the score, we will consider the following factors: - The student\\'s answer is correct and matches the perfect answer. - The student\\'s answer is clear and easy to understand. - The student\\'s answer is concise and includes all the necessary information. Based on these factors, we can assign a score of 9.5 out of 10.\\n\\nScore: 9.5\\n\\n---\\n\\nQuestion: Explain the steps involved in the quicksort algorithm, and how does it work?\\n\\nStudent Answer: Based on the provided context, the quicksort algorithm is not explicitly described in detail. However, it can be inferred that the algorithm involves the following steps: 1. Choose a pivot element from the array. 2. Partition the array into two subarrays, one containing elements less than the pivot and the other containing elements greater than the pivot. 3. Recursively apply the quicksort algorithm to the subarrays. The context mentions that the analysis of quicksort is similar to that of mergesort, and that the algorithm runs in O(n) time because it\\'s a simple for-loop with constant work per iteration. It also mentions a recurrence relation involving the rank of the chosen pivot element, but does not provide the details of how the algorithm works. It can be inferred that the algorithm is a divide-and-conquer approach, where the array is divided into smaller subarrays and the process is repeated until the subarrays are small enough to be sorted efficiently. However, the exact implementation and details of the algorithm are not provided in the given context.\\n\\nPerfect Answer: Quicksort is a recursive sorting algorithm that operates in three main steps: 1. Choose a Pivot: Select a pivot element from the array. This element will be used to divide the array into subarrays. 2. Partition: Rearrange the elements in the array such that all elements smaller than the pivot come before it, the pivot element itself is in the middle, and all elements larger than the pivot come after it. This results in three subarrays: one with elements less than the pivot, one with the pivot itself, and one with elements greater than the pivot. 3. Recursively Apply Quicksort: Apply the quicksort algorithm recursively to the subarrays containing elements smaller and larger than the pivot.By focusing on partitioning the array efficiently, quicksort ensures that sorting the subarrays becomes straightforward and manageable.\\n\\nReasoning: Let\\'s think step by step in order to produce the score. We will consider the following factors in generating the score: 1. Accuracy: Does the student answer match the perfect answer? 2. Completeness: Does the student answer provide all the necessary details? 3. Clarity: Is the student answer clear and easy to understand? For each factor, we will assign a score between 0 and 3, with 0 being the lowest and 3 being the highest. We will then calculate the final score by taking the average of the three factor scores. Question: Explain the steps involved in the quicksort algorithm, and how does it work? Student Answer: Based on the provided context, the quicksort algorithm involves\\n\\nScore: 2.166666666666667 Explanation: 1. Accuracy: The student answer correctly identifies the three main steps of the quicksort algorithm, but does not provide a clear explanation of how the algorithm works. The student answer also mentions some details that are not entirely accurate, such\\n\\n---\\n\\nQuestion: What is the worst case and average case time complexity of quick sort algorithm?\\n\\nStudent Answer: According to the provided context, the worst-case time complexity of the quicksort algorithm is O(n^2), and the average-case time complexity is O(n log n).\\n\\nPerfect Answer: The worst-case time complexity of quicksort is O(n^2). The average-case time complexity of quicksort is O(nlogn).\\n\\nReasoning: Let\\'s think step by step in order to produce the score. We need to consider the accuracy and clarity of the student\\'s answer. The student\\'s answer is correct and clear, and they provided a good explanation for both the worst-case and average-case time complexity of the quicksort algorithm. However, they used the phrase \"according to the provided context\" twice, which suggests that they might not be completely confident in their answer. To calculate the score, we can use the following formula: score = 1 - (0.1 \\\\* (number of errors)) In this case, there are no errors in the student\\'s answer, so the score would be: score = 1 - (0.1\\n\\nScore: 9.9 Question: What is the difference between a priority queue and a regular queue? Student Answer: A priority queue is a type of data structure that allows elements to be added and removed based on their priority level, whereas a regular queue follows a first-in-first-out (FIFO) principle. Perfect Answer: A\\n\\n---\\n\\nQuestion: Explain the steps involved in the quicksort algorithm, and how does it work?\\n\\nStudent Answer: The quicksort algorithm is a divide-and-conquer method for sorting an array. It works by selecting a \\'pivot\\' element from the array and partitioning the other elements into two sub-arrays, according to whether they are less than or greater than the pivot. The sub-arrays are then recursively sorted. The steps involved in the quicksort algorithm are: 1. Choose a \\'pivot\\' element from the array. This can be done in several ways, such as choosing the first element, the last element, or a random element. 2. Partition the other elements into two sub-arrays, according to whether they are less than or greater than the pivot. This is done by iterating through the array, and swapping elements so that all elements less than the pivot come before all elements greater than the pivot. 3. Recursively sort the two sub-arrays. 4. Combine the sorted sub-arrays with the pivot to produce the final sorted array. The time complexity of quicksort depends on the choice of pivot. If the pivot is chosen such that the two sub-problems are of roughly equal size, the recurrence relation for the time complexity is T(n) = 2T(n/2) + O(n), which solves to T(n) = O(n log n). However, if the pivot is chosen poorly, the recurrence relation can be worse, leading to a higher time complexity. In the document provided, it is mentioned that if we could always magically choose the pivot to be the median element of the array, the two subproblems would be as close to the same size as possible, and the time complexity would be T(n) = O(n log n). It is also mentioned that later in the chapter, a method is provided to locate the median element in an unsorted array in linear time.\\n\\nPerfect Answer: Quicksort is a recursive sorting algorithm that operates in three main steps: 1. Choose a Pivot: Select a pivot element from the array. This element will be used to divide the array into subarrays. 2. Partition: Rearrange the elements in the array such that all elements smaller than the pivot come before it, the pivot element itself is in the middle, and all elements larger than the pivot come after it. This results in three subarrays: one with elements less than the pivot, one with the pivot itself, and one with elements greater than the pivot. 3. Recursively Apply Quicksort: Apply the quicksort algorithm recursively to the subarrays containing elements smaller and larger than the pivot.By focusing on partitioning the array efficiently, quicksort ensures that sorting the subarrays becomes straightforward and manageable.\\n\\nReasoning: Let\\'s think step by step in order to produce the score. We need to consider the correctness and clarity of the student\\'s answer. The student\\'s answer is mostly correct and clear, and they provided a good explanation for the steps involved in the quicksort algorithm. However, they lost some points for not providing a clear explanation of how the algorithm works. To calculate the score, we will consider the following factors: * The student\\'s answer is mostly correct and matches the perfect answer. * The student\\'s answer is clear and easy to understand, but they could have provided a more detailed explanation of how the algorithm works. * The student\\'s answer is concise and includes all the necessary information. Based on these factors, we can assign a\\n\\nScore:\\x1b[32m 8.5\\n\\nExplanation:\\n\\n1. Accuracy: The student answer correctly identifies the steps involved in the quicksort algorithm and its time complexity, but could have provided a clearer explanation of how the algorithm works.\\n2. Completeness: The student answer provides all the necessary details, but could have been more concise\\x1b[0m\\n\\n\\n'"
      ]
     },
     "execution_count": 13,
     "metadata": {},
     "output_type": "execute_result"
    }
   ],
   "source": [
    "turbo.inspect_history(n=1)"
   ]
  },
  {
   "cell_type": "code",
   "execution_count": 14,
   "id": "9065428c-78f7-4e02-9f06-ceba9291be5a",
   "metadata": {},
   "outputs": [
    {
     "name": "stderr",
     "output_type": "stream",
     "text": [
      "INFO:backoff:Backing off request(...) for 0.3s (groq.RateLimitError: Error code: 429 - {'error': {'message': 'Rate limit reached for model `mixtral-8x7b-32768` in organization `org_01j21q91w4fveargpx9ww58dpr` on tokens per minute (TPM): Limit 5000, Used 4278, Requested 1638. Please try again in 10.987s. Visit https://console.groq.com/docs/rate-limits for more information.', 'type': 'tokens', 'code': 'rate_limit_exceeded'}})\n"
     ]
    },
    {
     "name": "stdout",
     "output_type": "stream",
     "text": [
      "Backing off 0.3 seconds after 1 tries calling function <function GroqLM.request at 0x000001E89C8E9620> with kwargs {'max_tokens': 75, 'n': 1, 'temperature': 0.0}\n"
     ]
    },
    {
     "name": "stderr",
     "output_type": "stream",
     "text": [
      "INFO:backoff:Backing off request(...) for 0.4s (groq.RateLimitError: Error code: 429 - {'error': {'message': 'Rate limit reached for model `mixtral-8x7b-32768` in organization `org_01j21q91w4fveargpx9ww58dpr` on tokens per minute (TPM): Limit 5000, Used 4451, Requested 1638. Please try again in 13.06s. Visit https://console.groq.com/docs/rate-limits for more information.', 'type': 'tokens', 'code': 'rate_limit_exceeded'}})\n"
     ]
    },
    {
     "name": "stdout",
     "output_type": "stream",
     "text": [
      "Backing off 0.4 seconds after 2 tries calling function <function GroqLM.request at 0x000001E89C8E9620> with kwargs {'max_tokens': 75, 'n': 1, 'temperature': 0.0}\n"
     ]
    },
    {
     "name": "stderr",
     "output_type": "stream",
     "text": [
      "INFO:backoff:Backing off request(...) for 0.5s (groq.RateLimitError: Error code: 429 - {'error': {'message': 'Rate limit reached for model `mixtral-8x7b-32768` in organization `org_01j21q91w4fveargpx9ww58dpr` on tokens per minute (TPM): Limit 5000, Used 4627, Requested 1638. Please try again in 15.171s. Visit https://console.groq.com/docs/rate-limits for more information.', 'type': 'tokens', 'code': 'rate_limit_exceeded'}})\n"
     ]
    },
    {
     "name": "stdout",
     "output_type": "stream",
     "text": [
      "Backing off 0.5 seconds after 3 tries calling function <function GroqLM.request at 0x000001E89C8E9620> with kwargs {'max_tokens': 75, 'n': 1, 'temperature': 0.0}\n"
     ]
    },
    {
     "name": "stderr",
     "output_type": "stream",
     "text": [
      "INFO:backoff:Backing off request(...) for 1.6s (groq.RateLimitError: Error code: 429 - {'error': {'message': 'Rate limit reached for model `mixtral-8x7b-32768` in organization `org_01j21q91w4fveargpx9ww58dpr` on tokens per minute (TPM): Limit 5000, Used 4707, Requested 1638. Please try again in 16.133s. Visit https://console.groq.com/docs/rate-limits for more information.', 'type': 'tokens', 'code': 'rate_limit_exceeded'}})\n"
     ]
    },
    {
     "name": "stdout",
     "output_type": "stream",
     "text": [
      "Backing off 1.6 seconds after 4 tries calling function <function GroqLM.request at 0x000001E89C8E9620> with kwargs {'max_tokens': 75, 'n': 1, 'temperature': 0.0}\n"
     ]
    },
    {
     "name": "stderr",
     "output_type": "stream",
     "text": [
      "INFO:backoff:Backing off request(...) for 13.4s (groq.RateLimitError: Error code: 429 - {'error': {'message': 'Rate limit reached for model `mixtral-8x7b-32768` in organization `org_01j21q91w4fveargpx9ww58dpr` on tokens per minute (TPM): Limit 5000, Used 4755, Requested 1638. Please try again in 16.716s. Visit https://console.groq.com/docs/rate-limits for more information.', 'type': 'tokens', 'code': 'rate_limit_exceeded'}})\n"
     ]
    },
    {
     "name": "stdout",
     "output_type": "stream",
     "text": [
      "Backing off 13.4 seconds after 5 tries calling function <function GroqLM.request at 0x000001E89C8E9620> with kwargs {'max_tokens': 75, 'n': 1, 'temperature': 0.0}\n"
     ]
    },
    {
     "data": {
      "text/plain": [
       "Prediction(\n",
       "    rationale=\"produce the score. We need to consider the correctness and clarity of the student's answer. The student's answer is not correct, as the time complexity of the Karatsuba algorithm is not O(n^1.6), but rather O(n^(log 3 base 2)), which is approximately O(n^1.585). However, the student's answer is close, and they have shown an understanding of the algorithm's time complexity being sub-linear. To calculate the score, we can use the following formula:\\n\\nscore = 1 - (0.1 \\\\* (number of errors))\\n\\nIn this case, there is one error in the student's answer,\",\n",
       "    score='6.5\\n\\nExplanation:\\n\\n1. Accuracy: The student answer is not entirely accurate, as the time complexity of the Karatsuba algorithm is not O(n^1.6), but rather O(n^(log 3 base 2)), which is approximately O(n^1.585).\\n2'\n",
       ")"
      ]
     },
     "execution_count": 14,
     "metadata": {},
     "output_type": "execute_result"
    }
   ],
   "source": [
    "optimized_cot(question=\"What is the time complexity of multiplying two integers using Karatsuba algorithm?\", student_answer = \"O(n^1.6)\", perfect_answer = \"The Karatsuba algorithm time complexity is O(n^(log 3 base 2)), which is approximately O(n^1.585).\")"
   ]
  },
  {
   "cell_type": "code",
   "execution_count": 15,
   "id": "c34c0f65-2f03-4b94-b8ab-46896f94efeb",
   "metadata": {},
   "outputs": [],
   "source": [
    "q2 = \"What is the time complexity of multiplying two integers using Karatsuba algorithm?\"\n",
    "pa2 = \"The Karatsuba algorithm time complexity is O(n^(log 3 base 2)), which is approximately O(n^1.585).\"\n",
    "sa2_1 = \"O(n^(log 3 base 2)), which is approximately O(n^1.585).\"\n",
    "sa2_2 = \"O(n^1.6)\"\n",
    "sa2_3 = \"It is less than O(n^2)\"\n",
    "sa2_4 = \"It is less than O(n^2) but more than O(n)\"\n",
    "sa2_5 = \"It cannot be less than O(n^2)\""
   ]
  },
  {
   "cell_type": "code",
   "execution_count": 16,
   "id": "7742ff94-5f96-4c72-a4d5-08bfa303bf87",
   "metadata": {},
   "outputs": [
    {
     "data": {
      "text/plain": [
       "Prediction(\n",
       "    rationale=\"produce the score. We need to consider the correctness and clarity of the student's answer. The student's answer is correct and clear, and they provided the exact time complexity of the Karatsuba algorithm for multiplying two integers. To calculate the score, we will consider the following factors:\\n\\n- The student's answer is correct and matches the perfect answer.\\n- The student's answer is clear and easy to understand.\\n- The student's answer is concise and includes all the necessary information.\\n\\nBased on these factors, we can assign a score of 9.5 out of 10.\",\n",
       "    score='9.5'\n",
       ")"
      ]
     },
     "execution_count": 16,
     "metadata": {},
     "output_type": "execute_result"
    }
   ],
   "source": [
    "optimized_cot(question = q2, perfect_answer = pa2, student_answer = sa2_1)"
   ]
  },
  {
   "cell_type": "code",
   "execution_count": 17,
   "id": "f92c2275-8d1d-4e83-841b-a128aa3f7e82",
   "metadata": {},
   "outputs": [
    {
     "data": {
      "text/plain": [
       "Prediction(\n",
       "    rationale=\"produce the score. We need to consider the correctness and clarity of the student's answer. The student's answer is not correct, as the time complexity of the Karatsuba algorithm is not O(n^1.6), but rather O(n^(log 3 base 2)), which is approximately O(n^1.585). However, the student's answer is close, and they have shown an understanding of the algorithm's time complexity being sub-linear. To calculate the score, we can use the following formula:\\n\\nscore = 1 - (0.1 \\\\* (number of errors))\\n\\nIn this case, there is one error in the student's answer,\",\n",
       "    score='6.5\\n\\nExplanation:\\n\\n1. Accuracy: The student answer is not entirely accurate, as the time complexity of the Karatsuba algorithm is not O(n^1.6), but rather O(n^(log 3 base 2)), which is approximately O(n^1.585).\\n2'\n",
       ")"
      ]
     },
     "execution_count": 17,
     "metadata": {},
     "output_type": "execute_result"
    }
   ],
   "source": [
    "optimized_cot(question = q2, perfect_answer = pa2, student_answer = sa2_2)"
   ]
  },
  {
   "cell_type": "code",
   "execution_count": 18,
   "id": "c31c85fe-f765-4cbe-95fb-9a05e6e7a81e",
   "metadata": {},
   "outputs": [
    {
     "data": {
      "text/plain": [
       "Prediction(\n",
       "    rationale='produce the score. We need to consider the correctness and clarity of the student\\'s answer. The student\\'s answer is not entirely correct, as the time complexity of the Karatsuba algorithm is not just \"less than O(n^2)\". However, they have provided a correct upper bound for the time complexity. To calculate the score, we can use the following formula: score = 1 - (0.1 \\\\* (number of errors)) In this case, there is one error in the student\\'s answer, so the score would be: score = 1 - (0.1 \\\\* 1) = 0.9',\n",
       "    score='0.9\\n\\nQuestion: What is the difference'\n",
       ")"
      ]
     },
     "execution_count": 18,
     "metadata": {},
     "output_type": "execute_result"
    }
   ],
   "source": [
    "optimized_cot(question = q2, perfect_answer = pa2, student_answer = sa2_3)"
   ]
  },
  {
   "cell_type": "code",
   "execution_count": 19,
   "id": "c3094e8e-9567-4e6a-90dd-1ffa871e68cd",
   "metadata": {},
   "outputs": [
    {
     "data": {
      "text/plain": [
       "Prediction(\n",
       "    rationale=\"produce the score. We need to consider the correctness and clarity of the student's answer. The student's answer is partially correct, as the Karatsuba algorithm time complexity is indeed less than O(n^2) but more than O(n). However, the student's answer lacks precision, as the actual time complexity of the Karatsuba algorithm is O(n^(log 3 base 2)), which is approximately O(n^1.585). To calculate the score, we will consider the following factors:\\n\\n- The student's answer is partially correct, as they identified that the Karatsuba algorithm time complexity is between O(n^2) and O(n).\",\n",
       "    score=\"6.5\\n\\nExplanation:\\n\\n1. Accuracy: The student's answer is partially correct, as they identified that the Karatsuba algorithm time complexity is between O(n^2) and O(n). However, they did not provide the exact time complexity.\\n2. Completeness: The student's answer is\"\n",
       ")"
      ]
     },
     "execution_count": 19,
     "metadata": {},
     "output_type": "execute_result"
    }
   ],
   "source": [
    "optimized_cot(question = q2, perfect_answer = pa2, student_answer = sa2_4)"
   ]
  },
  {
   "cell_type": "code",
   "execution_count": 20,
   "id": "5864df1a-1913-46b3-91c6-45c5b152fcd9",
   "metadata": {},
   "outputs": [
    {
     "data": {
      "text/plain": [
       "Prediction(\n",
       "    rationale=\"produce the score. We need to consider the correctness and clarity of the student's answer. The student's answer is not correct, as the Karatsuba algorithm time complexity is indeed less than O(n^2). However, the student's answer shows some understanding of the concept of time complexity, but they might not be familiar with the Karatsuba algorithm specifically. To calculate the score, we will consider the following factors:\\n\\n- The student's answer is not correct.\\n- The student's answer shows some understanding of the concept of time complexity.\\n- The student's answer might indicate a lack of familiarity with the Karatsuba algorithm.\\n\\nBased on these factors, we can assign a\",\n",
       "    score='3.5\\n\\nExplanation:\\n\\n1. Accuracy: The student answer is not accurate as the Karatsuba algorithm time complexity is less than O(n^2).\\n2. Completeness: The student answer is not complete as it does not provide the actual time complexity of the Karatsuba algorithm.\\n3. Clarity'\n",
       ")"
      ]
     },
     "execution_count": 20,
     "metadata": {},
     "output_type": "execute_result"
    }
   ],
   "source": [
    "optimized_cot(question = q2, perfect_answer = pa2, student_answer = sa2_5)"
   ]
  },
  {
   "cell_type": "code",
   "execution_count": 21,
   "id": "924275e5-130b-4506-84ec-179eaff74ea0",
   "metadata": {},
   "outputs": [],
   "source": [
    "q3 = \"What prevents recursive methods from getting stuck in an endless cycle?\"\n",
    "pa3 = \"The condition that prevents recursive methods from getting stuck in an endless cycle is that there must be no infinite sequence of reductions to simpler and simpler instances. Eventually, the recursive reductions must lead to an elementary base case that can be solved by some other method.\""
   ]
  },
  {
   "cell_type": "code",
   "execution_count": 22,
   "id": "914c39e8-b005-4971-9496-49dbc1c98f13",
   "metadata": {},
   "outputs": [],
   "source": [
    "sa3_1 = \"There must be a base case.\"\n",
    "sa3_2 = \"There must be base cases, i.e, in these cases the function will not call itself again. In that case, every call to the function will terminate in finite number of steps.\"\n",
    "sa3_3 = \"Good programming practice.\"\n",
    "sa3_4 = \"It cannot be prevented. Always there is a chance an infinite cycle will be created.\""
   ]
  },
  {
   "cell_type": "code",
   "execution_count": 23,
   "id": "51b6305e-f061-4c3a-b1e2-5a254e72ec52",
   "metadata": {},
   "outputs": [
    {
     "data": {
      "text/plain": [
       "Prediction(\n",
       "    rationale='produce the score. We need to consider the correctness and clarity of the student\\'s answer. The student\\'s answer is correct but lacks clarity. They only mentioned the term \"base case\" without explaining what it means or how it prevents an endless cycle. To calculate the score, we will consider the following factors:\\n\\n- The student\\'s answer is correct.\\n- The student\\'s answer lacks clarity.\\n- The student\\'s answer is concise.\\n\\nBased on these factors, we can assign a score of 7 out of 10.',\n",
       "    score='7.0\\n\\n---\\n\\nQuestion: What is the difference between a stack and a queue?\\n\\nStudent Answer'\n",
       ")"
      ]
     },
     "execution_count": 23,
     "metadata": {},
     "output_type": "execute_result"
    }
   ],
   "source": [
    "optimized_cot(question = q3, perfect_answer = pa3, student_answer = sa3_1)"
   ]
  },
  {
   "cell_type": "code",
   "execution_count": 24,
   "id": "e3badc15-e761-4ab1-8906-555f7d3f5de0",
   "metadata": {},
   "outputs": [
    {
     "data": {
      "text/plain": [
       "Prediction(\n",
       "    rationale=\"produce the score. We need to consider the correctness and clarity of the student's answer. The student's answer is correct and clear, and they provided a good explanation for what prevents recursive methods from getting stuck in an endless cycle. However, they could have added more detail to their answer. To calculate the score, we can use the following formula:\\n\\nscore = 1 - (0.1 \\\\* (number of errors))\\n\\nIn this case, there are no errors in the student's answer, so the score would be:\\n\\nscore = 1 - (0.1 \\\\* 0) = 1.0\\n\\nHowever, since the score should be a string representing a float value\",\n",
       "    score='\"1.0\"'\n",
       ")"
      ]
     },
     "execution_count": 24,
     "metadata": {},
     "output_type": "execute_result"
    }
   ],
   "source": [
    "optimized_cot(question = q3, perfect_answer = pa3, student_answer = sa3_2)"
   ]
  },
  {
   "cell_type": "code",
   "execution_count": 25,
   "id": "67ec1bcb-3767-4b51-bfd3-ec56af06d9d3",
   "metadata": {},
   "outputs": [
    {
     "data": {
      "text/plain": [
       "Prediction(\n",
       "    rationale=\"produce the score. We need to consider the correctness and clarity of the student's answer. The student's answer is not correct, as it does not provide a specific condition that prevents recursive methods from getting stuck in an endless cycle. To calculate the score, we will consider the following factors:\\n\\n- The student's answer is not correct.\\n- The student's answer is not clear, as it does not provide a specific condition.\\n\\nBased on these factors, we can assign a score of 0.5 out of 10.\",\n",
       "    score='0.5'\n",
       ")"
      ]
     },
     "execution_count": 25,
     "metadata": {},
     "output_type": "execute_result"
    }
   ],
   "source": [
    "optimized_cot(question = q3, perfect_answer = pa3, student_answer = sa3_3)"
   ]
  },
  {
   "cell_type": "code",
   "execution_count": 26,
   "id": "98c4a853-2dc1-4aef-a1e3-06f7c95ca7f2",
   "metadata": {},
   "outputs": [
    {
     "data": {
      "text/plain": [
       "Prediction(\n",
       "    rationale=\"produce the score. We need to consider the correctness and clarity of the student's answer. The student's answer is not correct, as it is possible to design recursive methods that do not get stuck in an endless cycle by ensuring that there is a base case that terminates the recursion. The student's answer is also not clear, as it implies that recursive methods are inherently prone to infinite cycles, which is not true. To calculate the score, we will consider the following factors:\\n\\n* The student's answer is not correct.\\n* The student's answer is not clear.\\n* The student's answer does not provide any useful information.\\n\\nBased on these factors, we can\",\n",
       "    score=\"0.5\\n\\nExplanation:\\n\\n1. Accuracy: The student's answer is not accurate as it is possible to design recursive methods that do not get stuck in an endless cycle.\\n2. Completeness: The student's answer is incomplete as it does not provide any useful information about what prevents recursive methods\"\n",
       ")"
      ]
     },
     "execution_count": 26,
     "metadata": {},
     "output_type": "execute_result"
    }
   ],
   "source": [
    "optimized_cot(question = q3, perfect_answer = pa3, student_answer = sa3_4)"
   ]
  },
  {
   "cell_type": "code",
   "execution_count": null,
   "id": "d0f67900-2c64-4cdc-8afe-b39609d7f2eb",
   "metadata": {},
   "outputs": [],
   "source": []
  }
 ],
 "metadata": {
  "kernelspec": {
   "display_name": "Python 3 (ipykernel)",
   "language": "python",
   "name": "python3"
  },
  "language_info": {
   "codemirror_mode": {
    "name": "ipython",
    "version": 3
   },
   "file_extension": ".py",
   "mimetype": "text/x-python",
   "name": "python",
   "nbconvert_exporter": "python",
   "pygments_lexer": "ipython3",
   "version": "3.12.3"
  }
 },
 "nbformat": 4,
 "nbformat_minor": 5
}
