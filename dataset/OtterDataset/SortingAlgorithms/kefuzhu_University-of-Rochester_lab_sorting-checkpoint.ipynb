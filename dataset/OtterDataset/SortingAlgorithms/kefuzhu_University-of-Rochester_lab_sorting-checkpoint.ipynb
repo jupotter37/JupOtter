{
 "cells": [
  {
   "cell_type": "markdown",
   "metadata": {
    "button": false,
    "new_sheet": false,
    "run_control": {
     "read_only": false
    }
   },
   "source": [
    "# Lab 11: Sorting"
   ]
  },
  {
   "cell_type": "markdown",
   "metadata": {
    "button": false,
    "new_sheet": false,
    "run_control": {
     "read_only": false
    }
   },
   "source": [
    "## <font color=DarkRed>Your Exercise: Analyse Sorting Algorithms.</font>\n",
    "\n",
    "Using random number generation (as I have done in class) use timing analysis to compare Bubblesort, InsertionSort, Selectionsort, Shellsort, Mergesort, Quicksort.\n",
    "\n",
    "This will require lists larger than 500 to get good timings. Adjust for your computer's capabilities. Provide meaningful plots of these results using Matplotlib."
   ]
  },
  {
   "cell_type": "markdown",
   "metadata": {
    "button": false,
    "new_sheet": false,
    "run_control": {
     "read_only": false
    }
   },
   "source": [
    "## <font color=green>Your Solution</font>\n",
    "\n",
    "*Use a variety of code, Markdown (text) cells below to create your solution. Nice outputs would be timing results, and even plots. You will be graded not only on correctness, but the clarity of your code, descriptive text and other output. Keep it succinct!*"
   ]
  },
  {
   "cell_type": "code",
   "execution_count": 106,
   "metadata": {},
   "outputs": [],
   "source": [
    "# Import library\n",
    "import random\n",
    "from random import choices\n",
    "import copy\n",
    "import timeit\n",
    "import pandas as pd\n",
    "import matplotlib.pyplot as plt\n",
    "\n",
    "testList = random.sample(range(100), 5)"
   ]
  },
  {
   "cell_type": "code",
   "execution_count": 98,
   "metadata": {},
   "outputs": [],
   "source": [
    "def bubbleSort(unsortlist):\n",
    "    '''\n",
    "    Perform bubble sort on an unordered list of numbers.\n",
    "    \n",
    "    Signature: Kefu Zhu\n",
    "    '''\n",
    "    # Make a deep copy of original list\n",
    "    alist = copy.deepcopy(unsortlist)\n",
    "    \n",
    "    # Initialize a boolean variable to track whether any swap operation has been doen to the rest of list \n",
    "    swap = True\n",
    "    # Initialize the boundary for sorting\n",
    "    rest_num = len(alist) - 1\n",
    "    # When there is at least one swap operation (the rest list is unsorted) and the boundary is still valid\n",
    "    while swap and rest_num > 0:\n",
    "        # Loop through every element in the rest list\n",
    "        for i in range(rest_num):\n",
    "            # Compare the adjacent elements, swap the larger one toward the end of the list\n",
    "            if alist[i] > alist[i+1]:\n",
    "                temp = alist[i]\n",
    "                alist[i] = alist[i+1]\n",
    "                alist[i+1] = temp\n",
    "        \n",
    "        # Decrement the boundary counter\n",
    "        rest_num -= 1\n",
    "    \n",
    "    return alist"
   ]
  },
  {
   "cell_type": "code",
   "execution_count": 108,
   "metadata": {},
   "outputs": [
    {
     "name": "stdout",
     "output_type": "stream",
     "text": [
      "Original List: [14, 36, 23, 65, 61]\n",
      "Sorted List: [14, 23, 36, 61, 65]\n"
     ]
    }
   ],
   "source": [
    "# Test the funtionality of bubble sort\n",
    "print(\"Original List: {}\".format(testList))\n",
    "print(\"Sorted List: {}\".format(bubbleSort(testList)))"
   ]
  },
  {
   "cell_type": "code",
   "execution_count": 99,
   "metadata": {},
   "outputs": [],
   "source": [
    "def insertionSort(unsortlist):\n",
    "    '''\n",
    "    Perform in-place insertion sort on an unsorted list of random numbers.\n",
    "    \n",
    "    Signature: Kefu Zhu\n",
    "    '''\n",
    "    # Make a deep copy of original list\n",
    "    alist = copy.deepcopy(unsortlist)\n",
    "    \n",
    "    # Loop through the list starting from position 1 (2nd element)\n",
    "    for index in range(1, len(alist)):\n",
    "        # Starting position\n",
    "        position = index\n",
    "        # Current value\n",
    "        current = alist[index]\n",
    "        \n",
    "        # If the current position is valid and the element before this position is greater than the current value\n",
    "        while position > 0 and alist[position-1] > current:\n",
    "            # Move the element before the position forward one step (Override the \"position\" element with \"position-1\" element)\n",
    "            alist[position] = alist[position-1]\n",
    "            # Decrement the position by 1\n",
    "            position -= 1\n",
    "        \n",
    "        # Reposition the current value to correct position\n",
    "        alist[position] = current\n",
    "    \n",
    "    return alist"
   ]
  },
  {
   "cell_type": "code",
   "execution_count": 109,
   "metadata": {},
   "outputs": [
    {
     "name": "stdout",
     "output_type": "stream",
     "text": [
      "Original List: [14, 36, 23, 65, 61]\n",
      "Sorted List: [14, 23, 36, 61, 65]\n"
     ]
    }
   ],
   "source": [
    "# Test the funtionality of selection sort\n",
    "print(\"Original List: {}\".format(testList))\n",
    "print(\"Sorted List: {}\".format(insertionSort(testList)))"
   ]
  },
  {
   "cell_type": "code",
   "execution_count": 100,
   "metadata": {},
   "outputs": [],
   "source": [
    "def selectionSort(unsortlist):\n",
    "    '''\n",
    "    Perform in-place selection sort on an unsorted list of random numbers.\n",
    "    \n",
    "    Signature: Kefu Zhu\n",
    "    '''\n",
    "    # Make a deep copy of original list\n",
    "    alist = copy.deepcopy(unsortlist)\n",
    "    \n",
    "    # Index to fill the largest element found for the rest of the list \n",
    "    # (We are finding largest element in each iteration and put it to the end of the list)\n",
    "    for i in range(len(alist)-1,0,-1):\n",
    "        # Initialize the default index of the largest element (Just pick the first element)\n",
    "        _max = 0\n",
    "        # Go through the rest of unsorted list and do pairwise comparison between the current value and the largest value found before\n",
    "        for j in range(1,i+1):\n",
    "            # If the current value is larger than the previous largest value\n",
    "            if alist[j] > alist[_max]:\n",
    "                # Set the current index to the index of the largest element\n",
    "                _max = j\n",
    "        # Swap the largest value and the last element in the unsorted part of the list\n",
    "        temp = alist[i]\n",
    "        alist[i] = alist[_max]\n",
    "        alist[_max] = temp\n",
    "    \n",
    "    return alist"
   ]
  },
  {
   "cell_type": "code",
   "execution_count": 110,
   "metadata": {},
   "outputs": [
    {
     "name": "stdout",
     "output_type": "stream",
     "text": [
      "Original List: [14, 36, 23, 65, 61]\n",
      "Sorted List: [14, 23, 36, 61, 65]\n"
     ]
    }
   ],
   "source": [
    "# Test the funtionality of selection sort\n",
    "print(\"Original List: {}\".format(testList))\n",
    "print(\"Sorted List: {}\".format(selectionSort(testList)))"
   ]
  },
  {
   "cell_type": "code",
   "execution_count": 101,
   "metadata": {},
   "outputs": [],
   "source": [
    "def shellSort(unsortlist):\n",
    "    '''\n",
    "    Perform shell sort on a list of random numbers\n",
    "    \n",
    "    Signature: Kefu Zhu\n",
    "    '''\n",
    "    \n",
    "    # Make a deep copy of original list\n",
    "    alist = copy.deepcopy(unsortlist)\n",
    " \n",
    "    # Start with a big gap, then reduce the gap\n",
    "    n = len(alist)\n",
    "    # Choose the initial gap size\n",
    "    gap = n//2\n",
    " \n",
    "    # When gap size is valid, perform the insertion sort on each sublist\n",
    "    while gap > 0:\n",
    "        # Normal insertion sort starting from here\n",
    "        for index in range(gap,n):\n",
    " \n",
    "            # save a[index] in temp and make a hole at position index\n",
    "            temp = alist[index]\n",
    " \n",
    "            # shift earlier gap-sorted elements up until the correct\n",
    "            position = index\n",
    "            while  position >= gap and alist[position-gap] >temp:\n",
    "                alist[position] = alist[position-gap]\n",
    "                position -= gap\n",
    " \n",
    "            # put temp (the original a[index]) in its correct location\n",
    "            alist[position] = temp\n",
    "        \n",
    "        # End of current insertion sort\n",
    "        \n",
    "        # Reduce the gap size\n",
    "        gap //= 2\n",
    "        \n",
    "    return alist"
   ]
  },
  {
   "cell_type": "code",
   "execution_count": 111,
   "metadata": {},
   "outputs": [
    {
     "name": "stdout",
     "output_type": "stream",
     "text": [
      "Original List: [14, 36, 23, 65, 61]\n",
      "Sorted List: [14, 23, 36, 61, 65]\n"
     ]
    }
   ],
   "source": [
    "# Test the funtionality of selection sort\n",
    "print(\"Original List: {}\".format(testList))\n",
    "print(\"Sorted List: {}\".format(shellSort(testList)))"
   ]
  },
  {
   "cell_type": "code",
   "execution_count": 116,
   "metadata": {},
   "outputs": [],
   "source": [
    "def mergeSort(unsortlist):\n",
    "    '''\n",
    "    Perform merge sort on a list of random numbers\n",
    "    \n",
    "    Signature: Kefu Zhu\n",
    "    '''\n",
    "    \n",
    "    # Make a deep copy of original list\n",
    "    alist = copy.deepcopy(unsortlist)\n",
    "    \n",
    "    # When the list length does not reach the base case scenario (Base case is we have sublist of length 1)\n",
    "    if len(alist) > 1:\n",
    "        mid = len(alist)//2\n",
    "        lefthalf = alist[:mid]\n",
    "        righthalf = alist[mid:]\n",
    "        \n",
    "        # Recursively call merge sort on left sublist and right sublist\n",
    "        # (continue breaking down sublist into smaller sublists, until the sublist only contain 1 element)\n",
    "        mergeSort(lefthalf)\n",
    "        mergeSort(righthalf)\n",
    "        \n",
    "        i = 0 # Index for left sublist\n",
    "        j = 0 # Index for right sublist\n",
    "        k = 0 # Index for original list\n",
    "        \n",
    "        # ** MERGE **\n",
    "        \n",
    "        # Merge the left sublist and right sublist\n",
    "        while i < len(lefthalf) and j < len(righthalf):\n",
    "            # If the current value in left sublist is smaller than the current value in right sublist\n",
    "            if lefthalf[i] < righthalf[j]:\n",
    "                # Put the value from left sublist into the correct kth position in original list\n",
    "                alist[k] = lefthalf[i]\n",
    "                # Increment the index pointer (i) for left sublist\n",
    "                i = i + 1\n",
    "            # If the current value in right sublist is smaller than or equal to the current value in left sublist\n",
    "            else:\n",
    "                # Put the value from right sublist into the correct kth position in original list\n",
    "                alist[k] = righthalf[j]\n",
    "                # Increment the index pointer (j) for right sublist\n",
    "                j = j + 1\n",
    "            # Increment the index pointer (k) for the original list\n",
    "            k = k + 1\n",
    "        \n",
    "        # When the above while loop is done, it means that all items from one of the sublist (left or right) have been put\n",
    "        # into the correct position in the original list\n",
    "        \n",
    "        # Therefore, start putting the rest of the items from the non-empty sublist (left or right) into the original list one by one\n",
    "        \n",
    "        # Left list is not empty\n",
    "        while i < len(lefthalf):\n",
    "            alist[k] = lefthalf[i]\n",
    "            i = i + 1\n",
    "            k = k + 1\n",
    "            \n",
    "        # Right list is not empty\n",
    "        while j < len(righthalf):\n",
    "            alist[k] = righthalf[j]\n",
    "            j = j + 1\n",
    "            k = k + 1\n",
    "    \n",
    "    return alist"
   ]
  },
  {
   "cell_type": "code",
   "execution_count": 117,
   "metadata": {},
   "outputs": [
    {
     "name": "stdout",
     "output_type": "stream",
     "text": [
      "Original List: [14, 36, 23, 65, 61]\n",
      "Sorted List: [14, 23, 36, 61, 65]\n"
     ]
    }
   ],
   "source": [
    "# Test the funtionality of selection sort\n",
    "print(\"Original List: {}\".format(testList))\n",
    "print(\"Sorted List: {}\".format(shellSort(testList)))"
   ]
  },
  {
   "cell_type": "code",
   "execution_count": 119,
   "metadata": {},
   "outputs": [
    {
     "name": "stdout",
     "output_type": "stream",
     "text": [
      "Runtime test on list size of 1000 is done.\n",
      "Runtime test on list size of 2000 is done.\n",
      "Runtime test on list size of 3000 is done.\n",
      "Runtime test on list size of 4000 is done.\n",
      "Runtime test on list size of 5000 is done.\n",
      "Runtime test on list size of 6000 is done.\n",
      "Runtime test on list size of 7000 is done.\n",
      "Runtime test on list size of 8000 is done.\n",
      "Runtime test on list size of 9000 is done.\n"
     ]
    }
   ],
   "source": [
    "# Time of repetitive evaluation\n",
    "test_times = 10\n",
    "# Create different size for testing\n",
    "test_runs = range(1000,10000,1000)\n",
    "# Create an empty dataframe to store test results, use the size of each test object as index\n",
    "test_results = pd.DataFrame(columns = ['BubbleSort','InsertionSort','SelectionSort','ShellSort','MergeSort'], index = test_runs)\n",
    "# Create different size of lists and dictionaries for evaluations\n",
    "for size in test_runs:\n",
    "    # Create a list of random numbers, prepare for evaluation\n",
    "    lst = [random.random() for i in range(size)]\n",
    "    # Timer object for each sorting algorithm\n",
    "    bubble_t = timeit.Timer(\"bubbleSort(alist)\", globals={\"bubbleSort\": bubbleSort, \"alist\": lst})\n",
    "    insertion_t = timeit.Timer(\"insertionSort(alist)\", globals={\"insertionSort\": insertionSort, \"alist\": lst})\n",
    "    selection_t = timeit.Timer(\"selectionSort(alist)\", globals={\"selectionSort\": selectionSort, \"alist\": lst})\n",
    "    shell_t = timeit.Timer(\"shellSort(alist)\", globals={\"shellSort\": shellSort, \"alist\": lst})\n",
    "    merge_t = timeit.Timer(\"mergeSort(alist)\", globals={\"mergeSort\": mergeSort, \"alist\": lst})\n",
    "    \n",
    "    # Evaluate each sorting algorithm runtime and store the result into dataframe\n",
    "    test_results['BubbleSort'][size] = bubble_t.timeit(test_times)\n",
    "    test_results['InsertionSort'][size] = insertion_t.timeit(test_times)\n",
    "    test_results['SelectionSort'][size] = selection_t.timeit(test_times)\n",
    "    test_results['ShellSort'][size] = shell_t.timeit(test_times)\n",
    "    test_results['MergeSort'][size] = merge_t.timeit(test_times)\n",
    "    print(\"Runtime test on list size of {} is done.\".format(size))"
   ]
  },
  {
   "cell_type": "code",
   "execution_count": 120,
   "metadata": {
    "scrolled": true
   },
   "outputs": [
    {
     "data": {
      "image/png": "[encoded data removed]",
      "text/plain": [
       "<matplotlib.figure.Figure at 0x1c8ad872438>"
      ]
     },
     "metadata": {},
     "output_type": "display_data"
    }
   ],
   "source": [
    "# Visualize the test results\n",
    "fig, ax = plt.subplots()\n",
    "# Set axis name\n",
    "plt.ylabel(\"Running Time (s)\")\n",
    "plt.xlabel(\"List Size ($N$)\")\n",
    "# Add test results\n",
    "ax.plot(test_results.index,test_results['BubbleSort'], label='Bubble Sort', color='blue')\n",
    "ax.plot(test_results.index,test_results['InsertionSort'], label='Insertion Sort', color='orange')\n",
    "ax.plot(test_results.index,test_results['SelectionSort'], label='Selection Sort', color='red')\n",
    "ax.plot(test_results.index,test_results['ShellSort'], label='Shell Sort', color='green')\n",
    "ax.plot(test_results.index,test_results['MergeSort'], label='Merge Sort', color='black')\n",
    "# Add legend\n",
    "legend = plt.legend(loc='upper left', fontsize='large')\n",
    "# Set plot size\n",
    "fig.set_size_inches(10,5)\n",
    "# Show\n",
    "plt.show()"
   ]
  },
  {
   "cell_type": "markdown",
   "metadata": {},
   "source": [
    "Both `Merge Sort` and `Shell Sort` seems to have constant close to zero runtime on the graph above. The reason is because the runtime of other algorithms escalate too fast as the list size $(N)$ increases. So the scale becomes too large for the runtime of `Merge Sort` and `Shell Sort`\n",
    "\n",
    "Now we only graph the runtime of `Merge Sort` and `Shell Sort`"
   ]
  },
  {
   "cell_type": "code",
   "execution_count": 121,
   "metadata": {},
   "outputs": [
    {
     "data": {
      "image/png": "[encoded data removed]",
      "text/plain": [
       "<matplotlib.figure.Figure at 0x1c8ad9390f0>"
      ]
     },
     "metadata": {},
     "output_type": "display_data"
    }
   ],
   "source": [
    "# Visualize the test results\n",
    "fig, ax = plt.subplots()\n",
    "# Set axis name\n",
    "plt.ylabel(\"Running Time (s)\")\n",
    "plt.xlabel(\"List Size ($N$)\")\n",
    "# Add test results\n",
    "ax.plot(test_results.index,test_results['ShellSort'], label='Shell Sort', color='green')\n",
    "ax.plot(test_results.index,test_results['MergeSort'], label='Merge Sort', color='black')\n",
    "# Add legend\n",
    "legend = plt.legend(loc='upper left', fontsize='large')\n",
    "# Set plot size\n",
    "fig.set_size_inches(10,5)\n",
    "# Show\n",
    "plt.show()"
   ]
  },
  {
   "cell_type": "markdown",
   "metadata": {},
   "source": [
    "**Conclusion**: It is clear to see that `Bubble Sort`, `Selection Sort` and `Insertion Sort` become very inefficient at sorting as the size of the list need to be sorted increases. While `Merge Sort` and `Shell Sort` have relative better performance compared to them."
   ]
  },
  {
   "cell_type": "code",
   "execution_count": null,
   "metadata": {},
   "outputs": [],
   "source": []
  }
 ],
 "metadata": {
  "kernelspec": {
   "display_name": "Python 3",
   "language": "python",
   "name": "python3"
  },
  "language_info": {
   "codemirror_mode": {
    "name": "ipython",
    "version": 3
   },
   "file_extension": ".py",
   "mimetype": "text/x-python",
   "name": "python",
   "nbconvert_exporter": "python",
   "pygments_lexer": "ipython3",
   "version": "3.6.4"
  }
 },
 "nbformat": 4,
 "nbformat_minor": 2
}
