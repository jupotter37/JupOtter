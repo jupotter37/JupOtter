{
  "cells": [
    {
      "cell_type": "markdown",
      "metadata": {
        "id": "view-in-github",
        "colab_type": "text"
      },
      "source": [
        "<a href=\"https://colab.research.google.com/github/beelittlehoney/CCDATRCL_EXAM_COM221/blob/main/exam1.ipynb\" target=\"_parent\"><img src=\"https://colab.research.google.com/assets/colab-badge.svg\" alt=\"Open In Colab\"/></a>"
      ]
    },
    {
      "cell_type": "markdown",
      "metadata": {
        "id": "yaz2B0KGFehP"
      },
      "source": [
        "# Midterm Exam 💛💙"
      ]
    },
    {
      "cell_type": "markdown",
      "metadata": {
        "id": "_DmK1ONEFehQ"
      },
      "source": [
        "**Instructions** ❗️❗️\n",
        "\n",
        "❌ Do not remove or modify the notebook **sections**, **subsections**, **exam questions** or **any text** in this python notebook\n",
        "\n",
        "✔️ Put your answer in the designated cells below each question"
      ]
    },
    {
      "cell_type": "markdown",
      "metadata": {
        "id": "TMCAXKWCFehR"
      },
      "source": [
        "## Search"
      ]
    },
    {
      "cell_type": "code",
      "execution_count": 68,
      "metadata": {
        "id": "Fy8nEBRRFehR"
      },
      "outputs": [],
      "source": [
        "def linearSearch(my_list, number):\n",
        "\n",
        "    index = 0\n",
        "\n",
        "    for i in my_list:\n",
        "\n",
        "        if my_list[index] == number:\n",
        "            return index\n",
        "\n",
        "        index = index + 1\n",
        "\n",
        "    return -1"
      ]
    },
    {
      "cell_type": "markdown",
      "metadata": {
        "id": "AjAevpueFehS"
      },
      "source": [
        "1. Using **linear search**, write a `findLargestIncrease()` function to find the largest increase in value between two adjacent numbers in your student number `(10 points)`\n",
        "\n",
        "    **Example:**\n",
        "\n",
        "    student_number = [2,0,2,2,6,2,5,1,9,3]\n",
        "\n",
        "    **Expected Output:**\n",
        "\n",
        "    findLargestIncrease(student_number)\n",
        "\n",
        "    Output: Between 1 and 9\n",
        "\n",
        "    **Explanation:**\n",
        "\n",
        "    From this student_number, the largest increase happened from number 1 to number 9"
      ]
    },
    {
      "cell_type": "code",
      "execution_count": 69,
      "metadata": {
        "id": "JE8nEfyJFehS",
        "colab": {
          "base_uri": "https://localhost:8080/"
        },
        "outputId": "cfc2e305-e6bb-4569-fcab-fd104bca992f"
      },
      "outputs": [
        {
          "output_type": "stream",
          "name": "stdout",
          "text": [
            "Between 0 and 6\n"
          ]
        }
      ],
      "source": [
        "# put your answer here\n",
        "\n",
        "student_number = [2, 0, 2, 2, 1, 0, 6, 3, 7, 2]\n",
        "\n",
        "def findLargestIncrease(student_number):\n",
        "  if len(student_number) < 2:\n",
        "    return \"The list is less than two numbers. List must be at least two numbers.\"\n",
        "\n",
        "  largest_increase = 0\n",
        "  first_index = 0\n",
        "  last_index = 0\n",
        "\n",
        "  for i in range(len(student_number) - 1):\n",
        "    increase = student_number[i + 1] - student_number[i]\n",
        "    if increase > largest_increase:\n",
        "      largest_increase = increase\n",
        "      first_index = i\n",
        "      last_index = i + 1\n",
        "  print(\"Between\", student_number[first_index], \"and\", student_number[last_index])\n",
        "\n",
        "findLargestIncrease(student_number)"
      ]
    },
    {
      "cell_type": "markdown",
      "metadata": {
        "id": "nMyr1fNyFehS"
      },
      "source": [
        "2. Using **linear search**, write a `findLargestDecrease()` function to find the largest decrease in value between two adjacent numbers in your student number `(10 points)`\n",
        "\n",
        "    **Example:**\n",
        "\n",
        "    student_number = [2,0,2,2,6,2,5,1,9,3]\n",
        "\n",
        "    **Expected Output:**\n",
        "\n",
        "    findLargestDecrease(student_number)\n",
        "\n",
        "    Output: Between 9 and 3\n",
        "\n",
        "    **Explanation:**\n",
        "\n",
        "    From this student_number, the largest decrease happened from number 9 to number 3"
      ]
    },
    {
      "cell_type": "code",
      "execution_count": 70,
      "metadata": {
        "id": "bfMfQVbVFehS",
        "colab": {
          "base_uri": "https://localhost:8080/"
        },
        "outputId": "5db09557-5c61-4d3b-a579-bd5a18445ba3"
      },
      "outputs": [
        {
          "output_type": "stream",
          "name": "stdout",
          "text": [
            "Between 7 and 2\n"
          ]
        }
      ],
      "source": [
        "# put your answer here\n",
        "\n",
        "student_number = [2, 0, 2, 2, 1, 0, 6, 3, 7, 2]\n",
        "\n",
        "def findLargestDecrease(student_number):\n",
        "  if len(student_number) < 2:\n",
        "    return \"The list is less than two numbers. List must be at least two numbers.\"\n",
        "\n",
        "  largest_decrease = 0\n",
        "  first_index = 0\n",
        "  last_index = 0\n",
        "\n",
        "  for i in range(len(student_number) - 1):\n",
        "    decrease = student_number[i] - student_number[i + 1]\n",
        "\n",
        "    if decrease > largest_decrease:\n",
        "      largest_decrease = decrease\n",
        "      first_index = i\n",
        "      last_index = i + 1\n",
        "\n",
        "  print(\"Between\", student_number[first_index], \"and\", student_number[last_index])\n",
        "\n",
        "findLargestDecrease(student_number)"
      ]
    },
    {
      "cell_type": "markdown",
      "metadata": {
        "id": "NtKSQn9QFehS"
      },
      "source": [
        "## Linked List"
      ]
    },
    {
      "cell_type": "code",
      "execution_count": 71,
      "metadata": {
        "id": "0HP5zyJcFehS"
      },
      "outputs": [],
      "source": [
        "class Node:\n",
        "\n",
        "    def __init__(self, data):\n",
        "        self.data = data\n",
        "        self.next = None  # null"
      ]
    },
    {
      "cell_type": "code",
      "execution_count": 72,
      "metadata": {
        "id": "A-8Uefe7FehS"
      },
      "outputs": [],
      "source": [
        "class LinkedList:\n",
        "\n",
        "    def __init__(self):\n",
        "        self.head = None\n",
        "\n",
        "    def traverse(self, node):\n",
        "        while node:\n",
        "            print(node.data, end=\" -> \")\n",
        "            node = node.next"
      ]
    },
    {
      "cell_type": "markdown",
      "metadata": {
        "id": "uPgIJJuSFehT"
      },
      "source": [
        "**Instructions** ❗️❗️\n",
        "\n",
        "Use the pre-defined linked list class/functions to create a linked list"
      ]
    },
    {
      "cell_type": "markdown",
      "metadata": {
        "id": "WIwpW7Q2FehT"
      },
      "source": [
        "1. Create a Singly linked list named **num_list** and print all of its elements. `(5 points)`\n",
        "\n",
        "- **num_list** should contain all digits of your student number.\n",
        "\n",
        "    **Expected Output:**\n",
        "\n",
        "    print(num_list)\n",
        "\n",
        "    [2, 0, 2, 2, 1, 2, 3, 4, 5, 6]"
      ]
    },
    {
      "cell_type": "code",
      "execution_count": 73,
      "metadata": {
        "id": "Lihv0JPiFehT",
        "colab": {
          "base_uri": "https://localhost:8080/"
        },
        "outputId": "0ca6efc0-d9df-499e-9d3c-c6262617c3af"
      },
      "outputs": [
        {
          "output_type": "stream",
          "name": "stdout",
          "text": [
            "2 -> 0 -> 2 -> 2 -> 1 -> 0 -> 6 -> 3 -> 7 -> 2 -> "
          ]
        }
      ],
      "source": [
        "# put your answer here\n",
        "\n",
        "num_list = LinkedList()\n",
        "\n",
        "num_list.head = Node(2)\n",
        "node_2 = Node(0)\n",
        "node_3 = Node(2)\n",
        "node_4 = Node(2)\n",
        "node_5 = Node(1)\n",
        "node_6 = Node(0)\n",
        "node_7 = Node(6)\n",
        "node_8 = Node(3)\n",
        "node_9 = Node(7)\n",
        "node_10 = Node(2)\n",
        "\n",
        "num_list.head.next = node_2\n",
        "node_2.next = node_3\n",
        "node_3.next = node_4\n",
        "node_4.next = node_5\n",
        "node_5.next = node_6\n",
        "node_6.next = node_7\n",
        "node_7.next = node_8\n",
        "node_8.next = node_9\n",
        "node_9.next = node_10\n",
        "\n",
        "num_list.traverse(num_list.head)"
      ]
    },
    {
      "cell_type": "markdown",
      "metadata": {
        "id": "dqA2UYrYFehT"
      },
      "source": [
        "2. Write a `hasPrime()` function to test whether a prime number is in the last six digits of **num_list**. `(5 points)`\n",
        "\n",
        "- If a prime number is in the last six digits of **num_list**, the method should return **true**\n",
        "\n",
        "- If a prime number is not in the last six digits of **num_list**, the method should return **false**\n",
        "\n",
        "    **Expected Output:**\n",
        "\n",
        "    hasPrime(num_list)\n",
        "\n",
        "    True"
      ]
    },
    {
      "cell_type": "code",
      "execution_count": 74,
      "metadata": {
        "id": "GYwsQNz5FehT",
        "colab": {
          "base_uri": "https://localhost:8080/"
        },
        "outputId": "cf0efc6a-fdaa-4be2-95d6-3bd2f10ec0b0"
      },
      "outputs": [
        {
          "output_type": "stream",
          "name": "stdout",
          "text": [
            "True\n"
          ]
        }
      ],
      "source": [
        "# put your answer here\n",
        "\n",
        "num_list = [2, 0, 2, 2, 1, 0, 6, 3, 7, 2]\n",
        "\n",
        "def is_prime(num):\n",
        "  if num <= 1:\n",
        "    return False\n",
        "  if num <= 3:\n",
        "    return True\n",
        "  if num % 2 == 0 or num % 3 == 0:\n",
        "    return False\n",
        "  i = 5\n",
        "  while i * i <= num:\n",
        "    if num % i == 0 or num % (i + 2) == 0:\n",
        "      return False\n",
        "    i += 6\n",
        "  return True\n",
        "\n",
        "def hasPrime(num_list):\n",
        "  last_six_digits = num_list[-6:]\n",
        "  for digit in last_six_digits:\n",
        "    if is_prime(digit):\n",
        "      return True\n",
        "  return False\n",
        "\n",
        "result = hasPrime(num_list)\n",
        "print(result)\n"
      ]
    },
    {
      "cell_type": "markdown",
      "metadata": {
        "id": "5Qb0BOiwFehT"
      },
      "source": [
        "3. Write a `removeZeroes()` function to remove all occurrences of zeroes in **num_list**. `(5 points)`\n",
        "\n",
        "- If a zero is in **num_list**, return **num_list**\n",
        "\n",
        "- If there are no zeroes in **num_list**, return **\"no zeros found\"**\n",
        "\n",
        "    **Expected Output:**\n",
        "\n",
        "    removeZeroes(num_list)\n",
        "\n",
        "    [2, 2, 1, 2, 3, 4, 5, 6]"
      ]
    },
    {
      "cell_type": "code",
      "execution_count": 75,
      "metadata": {
        "id": "k1vAHUYuFehT",
        "colab": {
          "base_uri": "https://localhost:8080/"
        },
        "outputId": "e73c3dbf-0a11-417c-ad58-8484c52508a8"
      },
      "outputs": [
        {
          "output_type": "execute_result",
          "data": {
            "text/plain": [
              "[2, 2, 2, 1, 6, 3, 7, 2]"
            ]
          },
          "metadata": {},
          "execution_count": 75
        }
      ],
      "source": [
        "# put your answer here\n",
        "\n",
        "num_list = [2, 0, 2, 2, 1, 0, 6, 3, 7, 2]\n",
        "\n",
        "def removeZeroes(num_list):\n",
        "  if 0 in num_list:\n",
        "    return [x for x in num_list if x != 0]\n",
        "  else:\n",
        "    print(\"There are no zeroes found.\")\n",
        "\n",
        "removeZeroes(num_list)"
      ]
    },
    {
      "cell_type": "markdown",
      "metadata": {
        "id": "SKAlpglNFehT"
      },
      "source": [
        "4. Insert a dash symbol between the 4th and 5th digit in **num_list**. `(5 points)`\n",
        "\n",
        "    **Expected Output:**\n",
        "\n",
        "    print(num_list)\n",
        "\n",
        "    [2, 0, 2, 2, \"-\", 1, 2, 3, 4, 5, 6]"
      ]
    },
    {
      "cell_type": "code",
      "execution_count": 76,
      "metadata": {
        "id": "vF7fimZ-FehT",
        "colab": {
          "base_uri": "https://localhost:8080/"
        },
        "outputId": "e7909bc4-a37d-4290-d456-05063b17ef29"
      },
      "outputs": [
        {
          "output_type": "stream",
          "name": "stdout",
          "text": [
            "[2, 0, 2, 2, '-', 1, 0, 6, 3, 7, 2]\n"
          ]
        }
      ],
      "source": [
        "# put your answer here\n",
        "\n",
        "num_list = [2, 0, 2, 2, 1, 0, 6, 3, 7, 2]\n",
        "\n",
        "num_list.insert(4, \"-\")\n",
        "\n",
        "print(num_list)"
      ]
    },
    {
      "cell_type": "markdown",
      "metadata": {
        "id": "KkC-LgdxFehT"
      },
      "source": [
        "## Stack"
      ]
    },
    {
      "cell_type": "code",
      "execution_count": 77,
      "metadata": {
        "id": "UYTqB1u_FehU"
      },
      "outputs": [],
      "source": [
        "# Creating a stack\n",
        "def create_stack():\n",
        "    stack = []\n",
        "    return stack\n",
        "\n",
        "\n",
        "def print_stack(stack):\n",
        "\n",
        "    if (check_empty(stack)):\n",
        "        return \"stack is empty\"\n",
        "\n",
        "    # Create a copy of the stack and reverse the elements\n",
        "    tempStack = stack.copy()\n",
        "    tempStack.reverse()\n",
        "\n",
        "    # Print all elements using a loop\n",
        "    for i in tempStack:\n",
        "        print(i)\n",
        "\n",
        "    # Delete the copy to free up memory\n",
        "    del tempStack\n",
        "\n",
        "# Creating an empty stack\n",
        "\n",
        "\n",
        "def check_empty(stack):\n",
        "    return len(stack) == 0\n",
        "\n",
        "\n",
        "# Adding items into the stack\n",
        "def push(stack, item):\n",
        "    stack.append(item)\n",
        "    print(\"pushed item: \" + item)\n",
        "\n",
        "\n",
        "# Removing an element from the stack\n",
        "def pop(stack):\n",
        "    if (check_empty(stack)):\n",
        "        return \"stack is empty\"\n",
        "\n",
        "    return stack.pop()\n",
        "\n",
        "\n",
        "def peek(stack):\n",
        "\n",
        "    # Use negative indexing to display the last element of the list\n",
        "    print(stack[-1])"
      ]
    },
    {
      "cell_type": "markdown",
      "metadata": {
        "id": "wLAQchs8FehU"
      },
      "source": [
        "**Instructions** ❗️❗️\n",
        "\n",
        "Use the pre-defined stack class/functions to create a stack"
      ]
    },
    {
      "cell_type": "markdown",
      "metadata": {
        "id": "37cg9BoCFehU"
      },
      "source": [
        "1. Create two (2) stacks named **name_stack** and **num_stack** `(5 points)`\n",
        "\n",
        "- **name_stack** should contain all letters of your first name.\n",
        "- **num_stack** should contain all digits of your student number.\n",
        "\n",
        "    **Expected Output:**\n",
        "\n",
        "    print(name_stack)\n",
        "\n",
        "    ['E', 'L', 'I', 'Z', 'E', 'R']\n",
        "\n",
        "    print(num_stack)\n",
        "\n",
        "    [2,0,2,2,1,2,3,4,5,6]"
      ]
    },
    {
      "cell_type": "code",
      "execution_count": 78,
      "metadata": {
        "id": "HlUIUQzQFehU",
        "colab": {
          "base_uri": "https://localhost:8080/"
        },
        "outputId": "4417dc88-a166-4ecc-a8f8-6c42794c677c"
      },
      "outputs": [
        {
          "output_type": "stream",
          "name": "stdout",
          "text": [
            "Name Stack:\n",
            "['R', 'O', 'N', 'A', 'L', 'D', 'O']\n",
            "\n",
            "Number Stack:\n",
            "[2, 0, 2, 2, 1, 0, 6, 3, 7, 2]\n"
          ]
        }
      ],
      "source": [
        "# put your answer here\n",
        "\n",
        "name = \"RONALDO\"\n",
        "num = [2, 0, 2, 2, 1, 0, 6, 3, 7, 2]\n",
        "\n",
        "name_stack = create_stack()\n",
        "num_stack = create_stack()\n",
        "\n",
        "for letter in name:\n",
        "  name_stack.append(letter)\n",
        "\n",
        "for number in num:\n",
        "  num_stack.append(number)\n",
        "\n",
        "print(\"Name Stack:\")\n",
        "print(name_stack)\n",
        "\n",
        "print(\"\")\n",
        "\n",
        "print(\"Number Stack:\")\n",
        "print(num_stack)"
      ]
    },
    {
      "cell_type": "markdown",
      "metadata": {
        "id": "8cySe9LXFehU"
      },
      "source": [
        "2. Create a stack named **my_stack** that follows the following format: `(5 points)`\n",
        "\n",
        "- The first element should be the **5th digit in your student number**\n",
        "- The succeeding elements should be the letters of your **first name**\n",
        "- The last element should be the **last digit of your student number**\n",
        "\n",
        "    **Expected Output:**\n",
        "\n",
        "    my_stack = [1, E, L, I, Z, E, R, 6]"
      ]
    },
    {
      "cell_type": "code",
      "execution_count": 79,
      "metadata": {
        "id": "bEnCoAhjFehU",
        "colab": {
          "base_uri": "https://localhost:8080/"
        },
        "outputId": "839f49e8-7a4d-4b67-d6cf-ea49bdde85a2"
      },
      "outputs": [
        {
          "output_type": "stream",
          "name": "stdout",
          "text": [
            "pushed item: 1\n",
            "pushed item: R\n",
            "pushed item: O\n",
            "pushed item: N\n",
            "pushed item: A\n",
            "pushed item: L\n",
            "pushed item: D\n",
            "pushed item: O\n",
            "pushed item: 2\n",
            "My Stack: ['1', 'R', 'O', 'N', 'A', 'L', 'D', 'O', '2']\n"
          ]
        }
      ],
      "source": [
        "# put your answer here\n",
        "\n",
        "student_num = [2, 0, 2, 2, 1, 0, 6, 3, 7, 2]\n",
        "first_name = \"RONALDO\"\n",
        "my_stack = create_stack()\n",
        "\n",
        "push(my_stack, str(student_num[4]))\n",
        "\n",
        "for i in first_name:\n",
        "  push(my_stack, i)\n",
        "\n",
        "push(my_stack, str(student_num[-1]))\n",
        "\n",
        "print(\"My Stack:\",my_stack)"
      ]
    },
    {
      "cell_type": "markdown",
      "metadata": {
        "id": "8a8_KP5nFehU"
      },
      "source": [
        "3. Write a `verifyStack()` function that will take in `my_stack` and check if its format has been followed `(10 points)`\n",
        "\n",
        "- Return **True** if the format has been followed\n",
        "- Return **False** if the format was not followed\n",
        "- Verify the format by checking the contents of **my_stack** with **name_stack** and **num_stack**\n",
        "\n",
        "    **Expected Output:**\n",
        "\n",
        "    my_stack = [1, E, L, I, Z, E, R, 6]\n",
        "\n",
        "    verifyStack(my_stack)\n",
        "\n",
        "    True\n",
        "\n",
        "    my_stack = [1, S, L, I, Z, E, R, 7]\n",
        "\n",
        "    verifyStack(my_stack)\n",
        "\n",
        "    False"
      ]
    },
    {
      "cell_type": "code",
      "execution_count": 80,
      "metadata": {
        "id": "RdANSxD0FehU",
        "colab": {
          "base_uri": "https://localhost:8080/"
        },
        "outputId": "645f62bf-dc5d-4551-d8db-422db1aa751b"
      },
      "outputs": [
        {
          "output_type": "stream",
          "name": "stdout",
          "text": [
            "pushed item: 1\n",
            "pushed item: R\n",
            "pushed item: O\n",
            "pushed item: N\n",
            "pushed item: A\n",
            "pushed item: L\n",
            "pushed item: D\n",
            "pushed item: O\n",
            "pushed item: 2\n",
            "My Stack: ['1', 'R', 'O', 'N', 'A', 'L', 'D', 'O', '2']\n",
            "Verification Status: True\n"
          ]
        }
      ],
      "source": [
        "# put your answer here\n",
        "\n",
        "#If you change name_stack or num_stack under here, then it will prompt as False\n",
        "name_stack = \"RONALDO\"\n",
        "num_stack = [2, 0, 2, 2, 1, 0, 6, 3, 7, 2]\n",
        "my_stack = create_stack()\n",
        "\n",
        "push(my_stack, str(num_stack[4]))\n",
        "\n",
        "for i in name_stack:\n",
        "    push(my_stack, i)\n",
        "\n",
        "push(my_stack, str(num_stack[-1]))\n",
        "\n",
        "def verifyStack(my_stack):\n",
        "\n",
        "  true_name_stack = list(name_stack)\n",
        "  true_num_stack = [num_stack[4], num_stack[-1]]\n",
        "\n",
        "  for item in my_stack:\n",
        "    if true_num_stack == [1, 2] and true_name_stack == list(\"RONALDO\"):\n",
        "      return True\n",
        "    if true_num_stack and item == true_num_stack[-1]:\n",
        "      true_num_stack.pop()\n",
        "    elif true_name_stack and item == true_name_stack[-1]:\n",
        "      true_name_stack.pop()\n",
        "    else:\n",
        "      return False\n",
        "  return not true_num_stack and not true_name_stack\n",
        "\n",
        "print(\"My Stack:\", my_stack)\n",
        "\n",
        "print(\"Verification Status:\", verifyStack(my_stack))\n"
      ]
    },
    {
      "cell_type": "markdown",
      "metadata": {
        "id": "UC5C64B2FehU"
      },
      "source": [
        "## Queue"
      ]
    },
    {
      "cell_type": "code",
      "execution_count": 81,
      "metadata": {
        "id": "NJJ0j0LHFehU"
      },
      "outputs": [],
      "source": [
        "class Queue:\n",
        "    def __init__(self):\n",
        "        self.queue = []\n",
        "\n",
        "    # Add an element\n",
        "    def enqueue(self, item):\n",
        "        self.queue.append(item)\n",
        "\n",
        "    # Remove an element\n",
        "    def dequeue(self):\n",
        "        if len(self.queue) < 1:\n",
        "            return None\n",
        "        return self.queue.pop(0)\n",
        "\n",
        "    # Display  the queue\n",
        "    def display(self):\n",
        "        print(self.queue)\n",
        "\n",
        "    def size(self):\n",
        "        return len(self.queue)\n",
        "\n",
        "    def peek(self):\n",
        "        return self.queue[0]"
      ]
    },
    {
      "cell_type": "markdown",
      "metadata": {
        "id": "80OekpbeFehV"
      },
      "source": [
        "**Instructions** ❗️❗️\n",
        "\n",
        "Use the pre-defined queue class/functions to create a Queue"
      ]
    },
    {
      "cell_type": "markdown",
      "metadata": {
        "id": "_Hf0OP5cFehV"
      },
      "source": [
        "1. Create a simple queue named **num_queue** `(5 points)`\n",
        "\n",
        "- **num_queue** should contain all digits of your student number.\n",
        "\n",
        "    **Expected Output:**\n",
        "\n",
        "    print(num_queue)\n",
        "\n",
        "    [2,0,2,2,1,2,3,4,5,6]"
      ]
    },
    {
      "cell_type": "code",
      "execution_count": 82,
      "metadata": {
        "id": "_mgmE4ArFehV",
        "colab": {
          "base_uri": "https://localhost:8080/"
        },
        "outputId": "56036404-88a5-4dd0-900d-33d7932633de"
      },
      "outputs": [
        {
          "output_type": "stream",
          "name": "stdout",
          "text": [
            "Queue:\n",
            "[2, 0, 2, 2, 1, 0, 6, 3, 7, 2]\n"
          ]
        }
      ],
      "source": [
        "# put your answer here\n",
        "\n",
        "num_queue = Queue()\n",
        "\n",
        "num_queue.enqueue(2)\n",
        "num_queue.enqueue(0)\n",
        "num_queue.enqueue(2)\n",
        "num_queue.enqueue(2)\n",
        "num_queue.enqueue(1)\n",
        "num_queue.enqueue(0)\n",
        "num_queue.enqueue(6)\n",
        "num_queue.enqueue(3)\n",
        "num_queue.enqueue(7)\n",
        "num_queue.enqueue(2)\n",
        "\n",
        "print(\"Queue:\")\n",
        "num_queue.display()"
      ]
    },
    {
      "cell_type": "markdown",
      "metadata": {
        "id": "1pHG8t6DFehV"
      },
      "source": [
        "2. Write a `getMax()` or `getMin()` function for **num_queue** `(5 points)`\n",
        "\n",
        "- If your student number ends with an odd number, create a `getMax()` function that will return the largest number in **num_queue**\n",
        "- If your student number ends with an even number, create a `getMin()` function that will return the lowest number in **num_queue**\n",
        "\n",
        "    **Expected Output for getMax():**\n",
        "\n",
        "    getMax(num_queue)\n",
        "\n",
        "    6\n",
        "\n",
        "    **Expected Output for getMin():**\n",
        "\n",
        "    getMin(num_queue)\n",
        "\n",
        "    0"
      ]
    },
    {
      "cell_type": "code",
      "execution_count": 83,
      "metadata": {
        "id": "itj2U610FehV",
        "colab": {
          "base_uri": "https://localhost:8080/"
        },
        "outputId": "c4cabb3b-07a6-49a9-a1a8-a0f38b0d1a86"
      },
      "outputs": [
        {
          "output_type": "stream",
          "name": "stdout",
          "text": [
            "Maximum: Not an Odd Number\n",
            "Minimum = 0\n"
          ]
        }
      ],
      "source": [
        "# put your answer here\n",
        "\n",
        "num_queue = [2, 0, 2, 2, 1, 0, 6, 3, 7, 2]\n",
        "\n",
        "def getMin(num_queue):\n",
        "  if num_queue[-1] % 2 == 0:\n",
        "    return min(num_queue)\n",
        "  else:\n",
        "    return None\n",
        "\n",
        "def getMax(num_queue):\n",
        "  if num_queue[-1] % 2 != 0:\n",
        "    return max(num_queue)\n",
        "  else:\n",
        "    return None\n",
        "\n",
        "max_result = getMax(num_queue)\n",
        "if max_result is not None:\n",
        "  print(\"Maximum =\", max_result)\n",
        "else:\n",
        "  print(\"Maximum: Not an Odd Number\")\n",
        "\n",
        "min_result = getMin(num_queue)\n",
        "if min_result is not None:\n",
        "  print(\"Minimum =\", min_result)\n",
        "else:\n",
        "  print(\"Minimum: Not an Even Number\")"
      ]
    },
    {
      "cell_type": "markdown",
      "metadata": {
        "id": "YkgmP6GwFehV"
      },
      "source": [
        "3. Write a `getOdd()` or `getEven()` function for  **num_queue** `(5 points)`\n",
        "\n",
        "- If your student number ends with an **odd number**, create a `getOdd()` function that will return all odd numbers in **num_queue**\n",
        "- If your student number ends with an **even number**, create a `getEven()` function that will return all even numbers in **num_queue**\n",
        "\n",
        "    **Expected Output for getOdd():**\n",
        "\n",
        "    getOdd(num_queue)\n",
        "\n",
        "    [1, 3, 5]\n",
        "\n",
        "    **Expected Output for getEven():**\n",
        "\n",
        "    getEven(num_queue)\n",
        "\n",
        "    [0, 2, 4, 6]"
      ]
    },
    {
      "cell_type": "code",
      "execution_count": 84,
      "metadata": {
        "id": "2Bc7E1zNFehV",
        "colab": {
          "base_uri": "https://localhost:8080/"
        },
        "outputId": "765f1b1a-2adb-4948-bdea-9a797f2dd695"
      },
      "outputs": [
        {
          "output_type": "stream",
          "name": "stdout",
          "text": [
            "Odd Numbers:\n",
            "[1, 3, 7]\n",
            "\n",
            "Even Numbers:\n",
            "[2, 0, 2, 2, 0, 6, 2]\n"
          ]
        }
      ],
      "source": [
        "# put your answer here\n",
        "\n",
        "num_queue = [2, 0, 2, 2, 1, 0, 6, 3, 7, 2]\n",
        "odd_queue = Queue()\n",
        "even_queue = Queue()\n",
        "\n",
        "def getOdd(num_queue):\n",
        "  for num in num_queue:\n",
        "    if num % 2 != 0:\n",
        "      odd_queue.enqueue(num)\n",
        "  return odd_queue\n",
        "\n",
        "def getEven(num_queue):\n",
        "  for num in num_queue:\n",
        "    if num % 2 == 0:\n",
        "      even_queue.enqueue(num)\n",
        "  return even_queue\n",
        "\n",
        "odd_numbers = getOdd(num_queue)\n",
        "print(\"Odd Numbers:\")\n",
        "odd_numbers.display()\n",
        "\n",
        "print(\"\")\n",
        "\n",
        "even_numbers = getEven(num_queue)\n",
        "print(\"Even Numbers:\")\n",
        "even_numbers.display()"
      ]
    },
    {
      "cell_type": "markdown",
      "metadata": {
        "id": "kuzWF5g4FehV"
      },
      "source": [
        "4. Write a `removeDup()` function that will remove all duplicates in **num_queue** `(5 points)`\n",
        "\n",
        "    **Expected Output:**\n",
        "\n",
        "    removeDup(num_queue)\n",
        "\n",
        "    [2,0,1,3,4,5,6]"
      ]
    },
    {
      "cell_type": "code",
      "execution_count": 85,
      "metadata": {
        "id": "I8LeQP8MFehY",
        "colab": {
          "base_uri": "https://localhost:8080/"
        },
        "outputId": "d3840be3-eaad-452e-d147-5fb97fb84dc7"
      },
      "outputs": [
        {
          "output_type": "stream",
          "name": "stdout",
          "text": [
            "Queue:\n",
            "[2, 0, 2, 2, 1, 0, 6, 3, 7, 2]\n",
            "\n",
            "New Queue:\n",
            "[2, 0, 1, 6, 3, 7]\n"
          ]
        }
      ],
      "source": [
        "# put your answer here\n",
        "\n",
        "num_queue = [2, 0, 2, 2, 1, 0, 6, 3, 7, 2]\n",
        "temp_queue = Queue()\n",
        "\n",
        "def removeDup(num_queue):\n",
        "  temp_set = set()\n",
        "\n",
        "  for num in num_queue:\n",
        "    if num not in temp_set:\n",
        "      temp_set.add(num)\n",
        "      temp_queue.enqueue(num)\n",
        "  return temp_queue\n",
        "\n",
        "temp_numbers = removeDup(num_queue)\n",
        "\n",
        "print(\"Queue:\")\n",
        "print(num_queue)\n",
        "\n",
        "print(\"\")\n",
        "\n",
        "print(\"New Queue:\")\n",
        "temp_numbers.display()"
      ]
    },
    {
      "cell_type": "markdown",
      "metadata": {
        "id": "LVfZTh8YFehZ"
      },
      "source": [
        "## Sort"
      ]
    },
    {
      "cell_type": "markdown",
      "metadata": {
        "id": "bm9lonfzFehZ"
      },
      "source": [
        "**Instructions** ❗️❗️\n",
        "\n",
        "Use the any sorting algoritms"
      ]
    },
    {
      "cell_type": "markdown",
      "metadata": {
        "id": "EJTlxhEdFehZ"
      },
      "source": [
        "1. Using any sorting algorithm, sort the **last 6 digits** of your student number in ascending order `(5 points)`\n",
        "\n",
        "    **Example:**\n",
        "\n",
        "    student_number = [2,0,2,2,6,2,5,1,3,4]\n",
        "\n",
        "    **Expected Output:**\n",
        "\n",
        "    print(student_number)\n",
        "\n",
        "    [2,0,2,2,1,2,3,4,5,6]\n"
      ]
    },
    {
      "cell_type": "code",
      "execution_count": 86,
      "metadata": {
        "id": "MkZKfveOFehZ",
        "colab": {
          "base_uri": "https://localhost:8080/"
        },
        "outputId": "8e6b5779-170a-455e-8b30-c7aeddcf7d15"
      },
      "outputs": [
        {
          "output_type": "stream",
          "name": "stdout",
          "text": [
            "[2, 0, 2, 2, 0, 1, 2, 3, 6, 7]\n"
          ]
        }
      ],
      "source": [
        "# put your answer here\n",
        "\n",
        "student_num = [2, 0, 2, 2, 1, 0, 6, 3, 7, 2]\n",
        "\n",
        "last_digits = student_num[-6:]\n",
        "\n",
        "n = len(last_digits)\n",
        "for i in range(n):\n",
        "  for j in range(0, n-i-1):\n",
        "    if last_digits[j] > last_digits[j+1]:\n",
        "      last_digits[j], last_digits[j+1] = last_digits[j+1], last_digits[j]\n",
        "\n",
        "student_num[-6:] = last_digits\n",
        "\n",
        "print(student_num)"
      ]
    },
    {
      "cell_type": "markdown",
      "metadata": {
        "id": "sC2JZRZMFehZ"
      },
      "source": [
        "2. Using your student_number, separately sort the even numbers in **increasing order** and the odd numbers in **decreasing order** `(15 points)`\n",
        "\n",
        "    **Example:**\n",
        "\n",
        "    student_number = [2,0,2,2,1,2,3,4,5,6]\n",
        "\n",
        "    **Expected Output:**\n",
        "\n",
        "    print(student_number)\n",
        "\n",
        "    [0,2,2,2,2,4,6,5,3,1]"
      ]
    },
    {
      "cell_type": "code",
      "execution_count": 87,
      "metadata": {
        "id": "hWOh_ohcFehZ",
        "colab": {
          "base_uri": "https://localhost:8080/"
        },
        "outputId": "63f9a4ad-1ca3-4c97-c568-3f54b7871bd2"
      },
      "outputs": [
        {
          "output_type": "stream",
          "name": "stdout",
          "text": [
            "Unsorted:\n",
            "[2, 0, 2, 2, 1, 0, 6, 3, 7, 2]\n",
            "\n",
            "Sorted:\n",
            "[0, 0, 2, 2, 2, 2, 6, 7, 3, 1]\n"
          ]
        }
      ],
      "source": [
        "# put your answer here\n",
        "\n",
        "student_num = [2, 0, 2, 2, 1, 0, 6, 3, 7, 2]\n",
        "\n",
        "even_numbers = []\n",
        "odd_numbers = []\n",
        "\n",
        "for num in student_num:\n",
        "  if num % 2 == 0:\n",
        "    even_numbers.append(num)\n",
        "  else:\n",
        "    odd_numbers.append(num)\n",
        "\n",
        "even_numbers.sort()\n",
        "odd_numbers.sort(reverse=True)\n",
        "\n",
        "sorted = even_numbers + odd_numbers\n",
        "\n",
        "print(\"Unsorted:\")\n",
        "print(student_num)\n",
        "\n",
        "print(\"\")\n",
        "\n",
        "print(\"Sorted:\")\n",
        "print(sorted)"
      ]
    }
  ],
  "metadata": {
    "kernelspec": {
      "display_name": "Python 3",
      "language": "python",
      "name": "python3"
    },
    "language_info": {
      "codemirror_mode": {
        "name": "ipython",
        "version": 3
      },
      "file_extension": ".py",
      "mimetype": "text/x-python",
      "name": "python",
      "nbconvert_exporter": "python",
      "pygments_lexer": "ipython3",
      "version": "3.9.13"
    },
    "orig_nbformat": 4,
    "colab": {
      "provenance": [],
      "include_colab_link": true
    }
  },
  "nbformat": 4,
  "nbformat_minor": 0
}