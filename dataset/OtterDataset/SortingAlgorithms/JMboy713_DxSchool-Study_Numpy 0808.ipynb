{
 "cells": [
  {
   "cell_type": "code",
   "execution_count": 1,
   "id": "f07dafc9",
   "metadata": {},
   "outputs": [],
   "source": [
    "import numpy as np"
   ]
  },
  {
   "cell_type": "code",
   "execution_count": 3,
   "id": "8f1b9029",
   "metadata": {
    "scrolled": true
   },
   "outputs": [
    {
     "name": "stdout",
     "output_type": "stream",
     "text": [
      "[1, 2, 3, 4, 5, 6, 7, 8, 9]\n",
      "[1 2 3 4 5 6 7 8 9]\n",
      "[[1 2 3]\n",
      " [4 5 6]\n",
      " [7 8 9]]\n"
     ]
    }
   ],
   "source": [
    "li=list(range(1,10)) # 1차원 배열 생성\n",
    "print(li)\n",
    "\n",
    "# list 를 이용해서 ndarray 생성\n",
    "ar=np.array(li)\n",
    "print(ar)\n",
    "\n",
    "matrix=np.array(li).reshape((3,3)) # 3행 3열의 매트릭스로 변경. \n",
    "print(matrix)"
   ]
  },
  {
   "cell_type": "code",
   "execution_count": 44,
   "id": "326e126c",
   "metadata": {},
   "outputs": [
    {
     "name": "stdout",
     "output_type": "stream",
     "text": [
      "[[1 2 3]\n",
      " [4 5 6]\n",
      " [7 8 9]]\n",
      "1\n",
      "1\n",
      "1\n",
      "[1 2 3]\n",
      "[1 2 3]\n",
      "[1 2 3]\n",
      "-----------\n",
      "[1 2 3]\n",
      "[1 4 7]\n",
      "[1 2 3]\n"
     ]
    }
   ],
   "source": [
    "'''\n",
    "matrix 형태\n",
    "[[1 2 3]\n",
    " [4 5 6]\n",
    " [7 8 9]]\n",
    " '''\n",
    "print(matrix)\n",
    "# 인덱싱 - 데이터 1개 가져오기\n",
    "data1= ar[0]\n",
    "print(data1)\n",
    "\n",
    "data2=matrix[0,0]\n",
    "data3=matrix[0][0]\n",
    "\n",
    "print(data2)\n",
    "print(data3)\n",
    "\n",
    "# 2차원 배열에서 행 하나 찾아오기\n",
    "row=matrix[0][:] \n",
    "row1=matrix[0]\n",
    "row2=matrix[0,:]\n",
    "print(row1)\n",
    "print(row)\n",
    "print(row2)\n",
    "print(\"-----------\")\n",
    "# 2차원 배열에서 열 하나 찾아오기\n",
    "column=matrix[:][0]\n",
    "col1=matrix[:,0]\n",
    "print(column)\n",
    "print(col1)\n",
    "col2=matrix[:][0]\n",
    "print(col2)"
   ]
  },
  {
   "cell_type": "markdown",
   "id": "030a4dce",
   "metadata": {},
   "source": [
    "* 일반 인덱싱 한 데이터는 파이썬의 기본 데이터와 동일하게 동작한다.\n",
    "* 파이썬의 scala data 는 일반적으로 immutable하다.\n",
    "* scalar data는 다른 변수에 대입할 떄 값을 복사해서 대입한다. \n",
    "    * 복사한 값을 바꾼다 해도 서로 영향을 주지 않는다.\n",
    "* 파이썬의 vector data 는 다른 변수에 대입할 때 참조를 복사해서 대입한다. \n"
   ]
  },
  {
   "cell_type": "code",
   "execution_count": 13,
   "id": "44c5c351",
   "metadata": {},
   "outputs": [
    {
     "name": "stdout",
     "output_type": "stream",
     "text": [
      "10\n",
      "[100, 2, 3]\n"
     ]
    }
   ],
   "source": [
    "a=10\n",
    "b=a\n",
    "b=20\n",
    "print(a)\n",
    "\n",
    "ax=[1,2,3]\n",
    "bx=ax\n",
    "bx[0]=100\n",
    "print(ax)\n",
    "\n",
    "\n",
    "# 예상 - 10, [100,2,3]"
   ]
  },
  {
   "cell_type": "markdown",
   "id": "2a6fe9e1",
   "metadata": {},
   "source": [
    "* row 는 scalar data 가 아니고 벡터데이터이다. \n",
    "* 벡터 데이터를 다른곳에 대입하면 참조가 복사된다.\n",
    "* 복사본을 수정하면 원본도 영향을 받는다.\n",
    "* scalar data - primitive, vector data - imprimitive"
   ]
  },
  {
   "cell_type": "markdown",
   "id": "b09874f8",
   "metadata": {},
   "source": [
    "# 파이썬의 데이터 복제\n",
    "* copy 모듈의 copy 와 deepcopy 모듈을 사용\n",
    "* 얕은 복사는 한번은 복제하지만 재귀적으로 수행하지 않음. - copy\n",
    "* 깊은 복사는 재귀적으로 복제를 수행 - deepcopy"
   ]
  },
  {
   "cell_type": "code",
   "execution_count": 21,
   "id": "6f401850",
   "metadata": {},
   "outputs": [
    {
     "name": "stdout",
     "output_type": "stream",
     "text": [
      "[1, 2, 3]\n",
      "[[1, 200, 3], [4, 5, 6]]\n",
      "[[1, 2, 3], [4, 5, 6]]\n"
     ]
    }
   ],
   "source": [
    "import copy\n",
    "\n",
    "li=[1,2,3]\n",
    "\n",
    "c=li.copy() # 얕은 복사\n",
    "c[0]=100 # 1차원 배열의 경우 원본에 영향을 주지 않는다.\n",
    "print(li)\n",
    "\n",
    "m=[[1,2,3],[4,5,6]]\n",
    "z=m.copy()\n",
    "z[0][1]=200\n",
    "print(m) # 2차원 배열의 경우 완전히 새로 만들어지는것이 아니다. \n",
    "\n",
    "\n",
    "\n",
    "# deepcopy\n",
    "\n",
    "m=[[1,2,3],[4,5,6]]\n",
    "z=copy.deepcopy(m)\n",
    "z[0][1]=200\n",
    "print(m) # 2차원 이상의 배열을 완전 복제를 하려면 deepcopy 를 사용해야 한다. \n"
   ]
  },
  {
   "cell_type": "markdown",
   "id": "014cd0bd",
   "metadata": {},
   "source": [
    "### 슬라이싱"
   ]
  },
  {
   "cell_type": "code",
   "execution_count": 37,
   "id": "82016070",
   "metadata": {},
   "outputs": [
    {
     "name": "stdout",
     "output_type": "stream",
     "text": [
      "[1, 2, 3]\n",
      "[1, 2, 3, 4, 5]\n",
      "[1 2 3]\n",
      "[100   2   3   4   5]\n"
     ]
    }
   ],
   "source": [
    "li=[1,2,3,4,5]\n",
    "c=li[0:3]\n",
    "# c와 li는 앞 3개의 데이터가 동일하지만 다른 공간의 데이터\n",
    "print(c)\n",
    "c[0]=100 # c 의 값을 변경해도 li에 영향이 없다. \n",
    "print(li)\n",
    "\n",
    "ar=np.array(li)\n",
    "d=ar[0:3]\n",
    "# ar의 참조를 복사. \n",
    "print(d)\n",
    "d[0]=100 # d 의 값을 수정하면 원본에 영향을 주게 된다. \n",
    "print(ar)\n",
    "\n"
   ]
  },
  {
   "cell_type": "markdown",
   "id": "1632be0f",
   "metadata": {},
   "source": [
    "## Fancy indexing"
   ]
  },
  {
   "cell_type": "markdown",
   "id": "44148aa4",
   "metadata": {},
   "source": [
    "* 인덱싱을 할 때 list 를 이용하는것."
   ]
  },
  {
   "cell_type": "code",
   "execution_count": 45,
   "id": "d17db913",
   "metadata": {},
   "outputs": [
    {
     "name": "stdout",
     "output_type": "stream",
     "text": [
      "[1 2 3 4 5]\n",
      "[1 2 3 4 5]\n"
     ]
    }
   ],
   "source": [
    "ar=np.array([1,2,3,4,5])\n",
    "f=ar[[0,2]]\n",
    "\n",
    "print(ar)\n",
    "f[0]=1004\n",
    "print(ar)"
   ]
  },
  {
   "cell_type": "markdown",
   "id": "24b6edf0",
   "metadata": {},
   "source": [
    "## boolean indexing\n",
    "* and or : 데이터를 가지고 연산을 수행\n",
    "    * 파이썬은 데이터가 없는 데이터 묶음, 0,None 을 False 로 간주 - Falsy\n",
    "* &,| : 비트 단위로 연산을 수행"
   ]
  },
  {
   "cell_type": "code",
   "execution_count": 55,
   "id": "24c9dbcb",
   "metadata": {},
   "outputs": [
    {
     "name": "stdout",
     "output_type": "stream",
     "text": [
      "[1 2 3 4]\n",
      "[1 7]\n"
     ]
    }
   ],
   "source": [
    "ar=np.array([1,2,3,4,5,6,7])\n",
    "\n",
    "result=ar[[True,True,True,True,False,False,False]]\n",
    "print(result)\n",
    "\n",
    "br=np.array([100,20,30,40,50,60,90])\n",
    "result=ar[br>=70]\n",
    "print(result)\n",
    "\n",
    "# result1=ar[(br>=70) or (br<60)]\n"
   ]
  },
  {
   "cell_type": "markdown",
   "id": "7db1705a",
   "metadata": {},
   "source": [
    "## ndarray 의 연산"
   ]
  },
  {
   "cell_type": "code",
   "execution_count": 63,
   "id": "01ef41c3",
   "metadata": {
    "scrolled": true
   },
   "outputs": [
    {
     "name": "stdout",
     "output_type": "stream",
     "text": [
      "[24  7  9 11 92]\n",
      "[3 4 5 6 7]\n",
      "[ 1  2  3  4  5  6  7  8  9 10]\n",
      "[[ 2  4  6  8 10]\n",
      " [ 7  9 11 13 15]]\n",
      "[[ 2  4  6  8 10]\n",
      " [ 7  9 11 13 15]]\n"
     ]
    }
   ],
   "source": [
    "ar=np.array([1,2,3,4,5])\n",
    "br=np.array([23,5,6,7,87])\n",
    "print(ar+br)\n",
    "print(ar+2)\n",
    "\n",
    "cr=np.array(range(1,11))\n",
    "print(cr)\n",
    "print(ar+cr.reshape(2,5))\n",
    "cr=cr.reshape((2,5))\n",
    "print(ar+cr)"
   ]
  },
  {
   "cell_type": "markdown",
   "id": "34d46287",
   "metadata": {},
   "source": [
    "### 논리 연산"
   ]
  },
  {
   "cell_type": "code",
   "execution_count": 69,
   "id": "70699d50",
   "metadata": {},
   "outputs": [
    {
     "name": "stdout",
     "output_type": "stream",
     "text": [
      "[False False  True False  True]\n",
      "[ True  True  True  True  True]\n",
      "[False False  True False  True]\n",
      "[False False  True False  True]\n"
     ]
    }
   ],
   "source": [
    "ar=np.array([1,2,3,4,500])\n",
    "br=np.array([23,5,False,7,0])\n",
    "\n",
    "print(ar>br)\n",
    "print(np.not_equal(ar,br))\n",
    "print(np.greater(ar,br))\n",
    "print(np.logical_xor(ar,br))"
   ]
  },
  {
   "cell_type": "code",
   "execution_count": 70,
   "id": "1a037d37",
   "metadata": {},
   "outputs": [
    {
     "name": "stdout",
     "output_type": "stream",
     "text": [
      "[ 24   7   3  11 500]\n"
     ]
    }
   ],
   "source": [
    "ar+=br\n",
    "print(ar)"
   ]
  },
  {
   "cell_type": "code",
   "execution_count": 73,
   "id": "2514583a",
   "metadata": {},
   "outputs": [
    {
     "name": "stdout",
     "output_type": "stream",
     "text": [
      "True\n",
      "False\n"
     ]
    },
    {
     "name": "stderr",
     "output_type": "stream",
     "text": [
      "/var/folders/jv/jrhq9b3j1r71dg847_hrmn_m0000gn/T/ipykernel_3487/1481110758.py:2: DeprecationWarning: elementwise comparison failed; this will raise an error in the future.\n",
      "  print([7,4] in ar)\n"
     ]
    }
   ],
   "source": [
    "print(24 in ar)\n",
    "print([7,4] in ar)"
   ]
  },
  {
   "cell_type": "markdown",
   "id": "9f82667b",
   "metadata": {},
   "source": [
    "### 벡터화된 함수 적용"
   ]
  },
  {
   "cell_type": "code",
   "execution_count": 79,
   "id": "52938efc",
   "metadata": {
    "scrolled": true
   },
   "outputs": [
    {
     "name": "stdout",
     "output_type": "stream",
     "text": [
      "[101 102 103 104 105]\n",
      "[101 102 103 104 105]\n"
     ]
    }
   ],
   "source": [
    "# 매개변수에 100을 더해서 리턴하는 함수\n",
    "\n",
    "def vectorizing(x):\n",
    "    return x+100\n",
    "ar=np.array([1,2,3,4,5])\n",
    "# print(vectorizing(ar))\n",
    "\n",
    "# 배열에 벡터화 된 함수를 적용\n",
    "vector_v=np.vectorize(vectorizing)\n",
    "print(vector_v(ar))\n",
    "\n",
    "print(np.vectorize(lambda i:i+100)(ar))"
   ]
  },
  {
   "cell_type": "markdown",
   "id": "c0ef1370",
   "metadata": {},
   "source": [
    "### Transpose"
   ]
  },
  {
   "cell_type": "code",
   "execution_count": 83,
   "id": "51338a35",
   "metadata": {},
   "outputs": [
    {
     "name": "stdout",
     "output_type": "stream",
     "text": [
      "[[ 1  2]\n",
      " [ 3  4]\n",
      " [ 5  6]\n",
      " [ 7  8]\n",
      " [ 9 10]]\n",
      "[[ 1  3  5  7  9]\n",
      " [ 2  4  6  8 10]]\n",
      "[[ 1  3  5  7  9]\n",
      " [ 2  4  6  8 10]]\n",
      "[[ 1  3  5  7  9]\n",
      " [ 2  4  6  8 10]]\n"
     ]
    }
   ],
   "source": [
    "matrix=np.array(range(1,11)).reshape((5,2))\n",
    "print(matrix)\n",
    "\n",
    "print(matrix.transpose())\n",
    "print(matrix.T)\n",
    "print(np.transpose(matrix))"
   ]
  },
  {
   "cell_type": "markdown",
   "id": "b8c0ae78",
   "metadata": {},
   "source": [
    "## permutation"
   ]
  },
  {
   "cell_type": "code",
   "execution_count": 92,
   "id": "3181077b",
   "metadata": {},
   "outputs": [
    {
     "name": "stdout",
     "output_type": "stream",
     "text": [
      "[ 1  2  3  4  5  6  7  8  9 10 11 12 13 14 15 16 17 18 19 20 21 22 23 24\n",
      " 25 26 27 28 29 30 31 32 33 34 35 36 37 38 39 40 41 42 43 44 45 46 47 48]\n",
      "----cards-------\n",
      "[ 1  2  3  4  5  6  7  8  9 10 11 12 13 14 15 16 17 18 19 20 21 22 23 24\n",
      " 25 26 27 28 29 30 31 32 33 34 35 36 37 38 39 40 41 42 43 44 45 46 47 48]\n",
      "[13 34  4 36 12 41  7 10 33 15 26 28 21 23 25 37 42 22 24  3 46 35 19 20\n",
      " 29 47  2 43 18 44 16 17 31  9 48  6  1 39 38 11 45  5  8 27 14 32 30 40]\n",
      "----permutation------\n",
      "None\n",
      "[ 8 11 13 14  7 25 10  5 31 28 36 32 12 21 29  6 46 24  3 19 33 17 22 26\n",
      " 41 18  2 20 30 38 15 42 27 45 40 35 37 48 34 44 47  4 43  1 16  9 23 39]\n",
      "----shuffle------\n"
     ]
    }
   ],
   "source": [
    "cards=np.array(range(1,49))\n",
    "print(cards)\n",
    "print(\"----cards-------\")\n",
    "result=np.random.permutation(cards)\n",
    "print(cards)\n",
    "print(result)\n",
    "print('----permutation------')\n",
    "print(np.random.shuffle(cards))\n",
    "print(cards)\n",
    "print('----shuffle------')\n"
   ]
  },
  {
   "cell_type": "markdown",
   "id": "f28964dd",
   "metadata": {},
   "source": [
    "## 기본통계함수"
   ]
  },
  {
   "cell_type": "code",
   "execution_count": 102,
   "id": "1164f2c8",
   "metadata": {},
   "outputs": [
    {
     "name": "stdout",
     "output_type": "stream",
     "text": [
      "[[10 20]\n",
      " [30 40]\n",
      " [50 60]]\n",
      "210\n",
      "18.708286933869708\n",
      "47.5\n",
      "[ 90 120]\n",
      "[ 30  70 110]\n",
      "[[ 30]\n",
      " [ 70]\n",
      " [110]]\n"
     ]
    }
   ],
   "source": [
    "matrix=np.array(range(10,61,10))\n",
    "matrix=matrix.reshape((3,2))\n",
    "print(matrix)\n",
    "print(matrix.sum())\n",
    "print(matrix.std(ddof=1)) # 표준편차에 자요도 1 적용. \n",
    "print(np.percentile(matrix,75)) #75 퍼센트에 해당하는 값 추출\n",
    "\n",
    "# 행단위와 열단위 합계\n",
    "print(matrix.sum(axis=0)) # 열단위 합\n",
    "print(matrix.sum(axis=1)) # 행단위 합\n",
    "print(matrix.sum(axis=1,keepdims=True)) # 행단위 합, 모양을 행단위 합으로 추출. "
   ]
  },
  {
   "cell_type": "code",
   "execution_count": 123,
   "id": "8e452291",
   "metadata": {},
   "outputs": [
    {
     "name": "stdout",
     "output_type": "stream",
     "text": [
      "5\n",
      "[[0]\n",
      " [0]]\n"
     ]
    }
   ],
   "source": [
    "print(np.argmax(matrix))\n",
    "matrix=matrix.reshape((2,3))\n",
    "print(np.diff(matrix,n=2))"
   ]
  },
  {
   "cell_type": "markdown",
   "id": "2451139f",
   "metadata": {},
   "source": [
    "### sort"
   ]
  },
  {
   "cell_type": "code",
   "execution_count": 131,
   "id": "11484e0e",
   "metadata": {},
   "outputs": [
    {
     "name": "stdout",
     "output_type": "stream",
     "text": [
      "Help on function sort in module numpy:\n",
      "\n",
      "sort(a, axis=-1, kind=None, order=None)\n",
      "    Return a sorted copy of an array.\n",
      "    \n",
      "    Parameters\n",
      "    ----------\n",
      "    a : array_like\n",
      "        Array to be sorted.\n",
      "    axis : int or None, optional\n",
      "        Axis along which to sort. If None, the array is flattened before\n",
      "        sorting. The default is -1, which sorts along the last axis.\n",
      "    kind : {'quicksort', 'mergesort', 'heapsort', 'stable'}, optional\n",
      "        Sorting algorithm. The default is 'quicksort'. Note that both 'stable'\n",
      "        and 'mergesort' use timsort or radix sort under the covers and, in general,\n",
      "        the actual implementation will vary with data type. The 'mergesort' option\n",
      "        is retained for backwards compatibility.\n",
      "    \n",
      "        .. versionchanged:: 1.15.0.\n",
      "           The 'stable' option was added.\n",
      "    \n",
      "    order : str or list of str, optional\n",
      "        When `a` is an array with fields defined, this argument specifies\n",
      "        which fields to compare first, second, etc.  A single field can\n",
      "        be specified as a string, and not all fields need be specified,\n",
      "        but unspecified fields will still be used, in the order in which\n",
      "        they come up in the dtype, to break ties.\n",
      "    \n",
      "    Returns\n",
      "    -------\n",
      "    sorted_array : ndarray\n",
      "        Array of the same type and shape as `a`.\n",
      "    \n",
      "    See Also\n",
      "    --------\n",
      "    ndarray.sort : Method to sort an array in-place.\n",
      "    argsort : Indirect sort.\n",
      "    lexsort : Indirect stable sort on multiple keys.\n",
      "    searchsorted : Find elements in a sorted array.\n",
      "    partition : Partial sort.\n",
      "    \n",
      "    Notes\n",
      "    -----\n",
      "    The various sorting algorithms are characterized by their average speed,\n",
      "    worst case performance, work space size, and whether they are stable. A\n",
      "    stable sort keeps items with the same key in the same relative\n",
      "    order. The four algorithms implemented in NumPy have the following\n",
      "    properties:\n",
      "    \n",
      "    =========== ======= ============= ============ ========\n",
      "       kind      speed   worst case    work space   stable\n",
      "    =========== ======= ============= ============ ========\n",
      "    'quicksort'    1     O(n^2)            0          no\n",
      "    'heapsort'     3     O(n*log(n))       0          no\n",
      "    'mergesort'    2     O(n*log(n))      ~n/2        yes\n",
      "    'timsort'      2     O(n*log(n))      ~n/2        yes\n",
      "    =========== ======= ============= ============ ========\n",
      "    \n",
      "    .. note:: The datatype determines which of 'mergesort' or 'timsort'\n",
      "       is actually used, even if 'mergesort' is specified. User selection\n",
      "       at a finer scale is not currently available.\n",
      "    \n",
      "    All the sort algorithms make temporary copies of the data when\n",
      "    sorting along any but the last axis.  Consequently, sorting along\n",
      "    the last axis is faster and uses less space than sorting along\n",
      "    any other axis.\n",
      "    \n",
      "    The sort order for complex numbers is lexicographic. If both the real\n",
      "    and imaginary parts are non-nan then the order is determined by the\n",
      "    real parts except when they are equal, in which case the order is\n",
      "    determined by the imaginary parts.\n",
      "    \n",
      "    Previous to numpy 1.4.0 sorting real and complex arrays containing nan\n",
      "    values led to undefined behaviour. In numpy versions >= 1.4.0 nan\n",
      "    values are sorted to the end. The extended sort order is:\n",
      "    \n",
      "      * Real: [R, nan]\n",
      "      * Complex: [R + Rj, R + nanj, nan + Rj, nan + nanj]\n",
      "    \n",
      "    where R is a non-nan real value. Complex values with the same nan\n",
      "    placements are sorted according to the non-nan part if it exists.\n",
      "    Non-nan values are sorted as before.\n",
      "    \n",
      "    .. versionadded:: 1.12.0\n",
      "    \n",
      "    quicksort has been changed to `introsort <https://en.wikipedia.org/wiki/Introsort>`_.\n",
      "    When sorting does not make enough progress it switches to\n",
      "    `heapsort <https://en.wikipedia.org/wiki/Heapsort>`_.\n",
      "    This implementation makes quicksort O(n*log(n)) in the worst case.\n",
      "    \n",
      "    'stable' automatically chooses the best stable sorting algorithm\n",
      "    for the data type being sorted.\n",
      "    It, along with 'mergesort' is currently mapped to\n",
      "    `timsort <https://en.wikipedia.org/wiki/Timsort>`_\n",
      "    or `radix sort <https://en.wikipedia.org/wiki/Radix_sort>`_\n",
      "    depending on the data type.\n",
      "    API forward compatibility currently limits the\n",
      "    ability to select the implementation and it is hardwired for the different\n",
      "    data types.\n",
      "    \n",
      "    .. versionadded:: 1.17.0\n",
      "    \n",
      "    Timsort is added for better performance on already or nearly\n",
      "    sorted data. On random data timsort is almost identical to\n",
      "    mergesort. It is now used for stable sort while quicksort is still the\n",
      "    default sort if none is chosen. For timsort details, refer to\n",
      "    `CPython listsort.txt <https://github.com/python/cpython/blob/3.7/Objects/listsort.txt>`_.\n",
      "    'mergesort' and 'stable' are mapped to radix sort for integer data types. Radix sort is an\n",
      "    O(n) sort instead of O(n log n).\n",
      "    \n",
      "    .. versionchanged:: 1.18.0\n",
      "    \n",
      "    NaT now sorts to the end of arrays for consistency with NaN.\n",
      "    \n",
      "    Examples\n",
      "    --------\n",
      "    >>> a = np.array([[1,4],[3,1]])\n",
      "    >>> np.sort(a)                # sort along the last axis\n",
      "    array([[1, 4],\n",
      "           [1, 3]])\n",
      "    >>> np.sort(a, axis=None)     # sort the flattened array\n",
      "    array([1, 1, 3, 4])\n",
      "    >>> np.sort(a, axis=0)        # sort along the first axis\n",
      "    array([[1, 1],\n",
      "           [3, 4]])\n",
      "    \n",
      "    Use the `order` keyword to specify a field to use when sorting a\n",
      "    structured array:\n",
      "    \n",
      "    >>> dtype = [('name', 'S10'), ('height', float), ('age', int)]\n",
      "    >>> values = [('Arthur', 1.8, 41), ('Lancelot', 1.9, 38),\n",
      "    ...           ('Galahad', 1.7, 38)]\n",
      "    >>> a = np.array(values, dtype=dtype)       # create a structured array\n",
      "    >>> np.sort(a, order='height')                        # doctest: +SKIP\n",
      "    array([('Galahad', 1.7, 38), ('Arthur', 1.8, 41),\n",
      "           ('Lancelot', 1.8999999999999999, 38)],\n",
      "          dtype=[('name', '|S10'), ('height', '<f8'), ('age', '<i4')])\n",
      "    \n",
      "    Sort by age, then height if ages are equal:\n",
      "    \n",
      "    >>> np.sort(a, order=['age', 'height'])               # doctest: +SKIP\n",
      "    array([('Galahad', 1.7, 38), ('Lancelot', 1.8999999999999999, 38),\n",
      "           ('Arthur', 1.8, 41)],\n",
      "          dtype=[('name', '|S10'), ('height', '<f8'), ('age', '<i4')])\n",
      "\n"
     ]
    }
   ],
   "source": [
    "help(np.sort)"
   ]
  },
  {
   "cell_type": "code",
   "execution_count": 138,
   "id": "6b66ca75",
   "metadata": {},
   "outputs": [
    {
     "name": "stdout",
     "output_type": "stream",
     "text": [
      "[10 11 20 24 30]\n",
      "[20 30 10 24 11]\n",
      "------------------\n",
      "[[10 60 80]\n",
      " [20 50 30]\n",
      " [15 32 29]]\n",
      "------------------\n",
      "[[10 60 80]\n",
      " [20 30 50]\n",
      " [15 29 32]]\n"
     ]
    }
   ],
   "source": [
    "ar=np.array([20,30,10,24,11])\n",
    "result=np.sort(ar) # 데이터를 정렬\n",
    "print(result)\n",
    "print(ar)\n",
    "\n",
    "# 2차원 배열에서 행에서의 정렬\n",
    "br=np.array([[10,60,80],[20,50,30],[15,32,29]])\n",
    "result1=np.sort(br,axis=1)\n",
    "print('------------------')\n",
    "print(br)\n",
    "print('------------------')\n",
    "print(result1)"
   ]
  },
  {
   "cell_type": "code",
   "execution_count": 156,
   "id": "cfd76df7",
   "metadata": {},
   "outputs": [
    {
     "name": "stdout",
     "output_type": "stream",
     "text": [
      "[[ 1  2  3  4  5]\n",
      " [ 6  7  8  9 10]\n",
      " [11 12 13 14 15]\n",
      " [16 17 18 19 20]\n",
      " [21 22 23 24 25]\n",
      " [26 27 28 29 30]\n",
      " [31 32 33 34 35]\n",
      " [36 37 38 39 40]\n",
      " [41 42 43 44 45]\n",
      " [46 47 48 49 50]]\n",
      "----------------\n",
      "[[ 1  2  3  4  5]\n",
      " [ 6  7  8  9 10]\n",
      " [11 12 13 14 15]\n",
      " [16 17 18 19 20]\n",
      " [21 22 23 24 25]\n",
      " [26 27 28 29 30]\n",
      " [31 32 33 34 35]]\n",
      "----------------\n",
      "[[36 37 38 39 40]\n",
      " [41 42 43 44 45]\n",
      " [46 47 48 49 50]]\n"
     ]
    }
   ],
   "source": [
    "matrix=np.array(range(1,51))\n",
    "matrix=matrix.reshape((10,5))\n",
    "print(matrix)\n",
    "print('----------------')\n",
    "sp=np.split(matrix,[7,10])\n",
    "print(sp[0])\n",
    "print('----------------')\n",
    "print(sp[1])"
   ]
  },
  {
   "cell_type": "code",
   "execution_count": 167,
   "id": "edcd9b65",
   "metadata": {},
   "outputs": [
    {
     "name": "stdout",
     "output_type": "stream",
     "text": [
      "(10, 5)\n",
      "[array([[ 1,  2,  3,  4,  5],\n",
      "       [ 6,  7,  8,  9, 10],\n",
      "       [11, 12, 13, 14, 15],\n",
      "       [16, 17, 18, 19, 20],\n",
      "       [21, 22, 23, 24, 25],\n",
      "       [26, 27, 28, 29, 30],\n",
      "       [31, 32, 33, 34, 35]]), array([[36, 37, 38, 39, 40],\n",
      "       [41, 42, 43, 44, 45],\n",
      "       [46, 47, 48, 49, 50]]), array([], shape=(0, 5), dtype=int64)]\n",
      "[[ 1  2  3  4  5]\n",
      " [ 6  7  8  9 10]\n",
      " [11 12 13 14 15]\n",
      " [16 17 18 19 20]\n",
      " [21 22 23 24 25]\n",
      " [26 27 28 29 30]\n",
      " [31 32 33 34 35]]\n"
     ]
    }
   ],
   "source": [
    "# 강사님 code\n",
    "x=range(1,51)\n",
    "ar=np.array(x)\n",
    "matrix=ar.reshape((10,5))\n",
    "\n",
    "print(matrix.shape)\n",
    "# train=int(matrix.shape[0]*0.7)\n",
    "# test=int(matrix.shape[0])\n",
    "cnt=matrix.shape[0]\n",
    "\n",
    "\n",
    "\n",
    "sp1=np.split(matrix,[int(cnt*0.7),int(cnt)])\n",
    "print(sp1)\n",
    "train_set=sp1[0]\n",
    "test_set=sp1[1]\n",
    "print(train_set)"
   ]
  },
  {
   "cell_type": "code",
   "execution_count": 141,
   "id": "b4c691f5",
   "metadata": {},
   "outputs": [
    {
     "name": "stdout",
     "output_type": "stream",
     "text": [
      "Help on function split in module numpy:\n",
      "\n",
      "split(ary, indices_or_sections, axis=0)\n",
      "    Split an array into multiple sub-arrays as views into `ary`.\n",
      "    \n",
      "    Parameters\n",
      "    ----------\n",
      "    ary : ndarray\n",
      "        Array to be divided into sub-arrays.\n",
      "    indices_or_sections : int or 1-D array\n",
      "        If `indices_or_sections` is an integer, N, the array will be divided\n",
      "        into N equal arrays along `axis`.  If such a split is not possible,\n",
      "        an error is raised.\n",
      "    \n",
      "        If `indices_or_sections` is a 1-D array of sorted integers, the entries\n",
      "        indicate where along `axis` the array is split.  For example,\n",
      "        ``[2, 3]`` would, for ``axis=0``, result in\n",
      "    \n",
      "          - ary[:2]\n",
      "          - ary[2:3]\n",
      "          - ary[3:]\n",
      "    \n",
      "        If an index exceeds the dimension of the array along `axis`,\n",
      "        an empty sub-array is returned correspondingly.\n",
      "    axis : int, optional\n",
      "        The axis along which to split, default is 0.\n",
      "    \n",
      "    Returns\n",
      "    -------\n",
      "    sub-arrays : list of ndarrays\n",
      "        A list of sub-arrays as views into `ary`.\n",
      "    \n",
      "    Raises\n",
      "    ------\n",
      "    ValueError\n",
      "        If `indices_or_sections` is given as an integer, but\n",
      "        a split does not result in equal division.\n",
      "    \n",
      "    See Also\n",
      "    --------\n",
      "    array_split : Split an array into multiple sub-arrays of equal or\n",
      "                  near-equal size.  Does not raise an exception if\n",
      "                  an equal division cannot be made.\n",
      "    hsplit : Split array into multiple sub-arrays horizontally (column-wise).\n",
      "    vsplit : Split array into multiple sub-arrays vertically (row wise).\n",
      "    dsplit : Split array into multiple sub-arrays along the 3rd axis (depth).\n",
      "    concatenate : Join a sequence of arrays along an existing axis.\n",
      "    stack : Join a sequence of arrays along a new axis.\n",
      "    hstack : Stack arrays in sequence horizontally (column wise).\n",
      "    vstack : Stack arrays in sequence vertically (row wise).\n",
      "    dstack : Stack arrays in sequence depth wise (along third dimension).\n",
      "    \n",
      "    Examples\n",
      "    --------\n",
      "    >>> x = np.arange(9.0)\n",
      "    >>> np.split(x, 3)\n",
      "    [array([0.,  1.,  2.]), array([3.,  4.,  5.]), array([6.,  7.,  8.])]\n",
      "    \n",
      "    >>> x = np.arange(8.0)\n",
      "    >>> np.split(x, [3, 5, 6, 10])\n",
      "    [array([0.,  1.,  2.]),\n",
      "     array([3.,  4.]),\n",
      "     array([5.]),\n",
      "     array([6.,  7.]),\n",
      "     array([], dtype=float64)]\n",
      "\n"
     ]
    }
   ],
   "source": [
    "help(np.split)"
   ]
  },
  {
   "cell_type": "code",
   "execution_count": 168,
   "id": "e97fd89d",
   "metadata": {},
   "outputs": [
    {
     "name": "stdout",
     "output_type": "stream",
     "text": [
      "[[ 1  2  3  4  5  6]\n",
      " [ 7  8  9 10 11 12]\n",
      " [13 14 15 16 17 18]\n",
      " [19 20 21 22 23 24]\n",
      " [25 26 27 28 29 30]\n",
      " [31 32 33 34 35 36]\n",
      " [37 38 39 40 41 42]\n",
      " [43 44 45 46 47 48]\n",
      " [49 50 51 52 53 54]\n",
      " [55 56 57 58 59 60]]\n",
      "----------------\n",
      "[[ 1  2  3  4  5  6]\n",
      " [ 7  8  9 10 11 12]\n",
      " [13 14 15 16 17 18]\n",
      " [19 20 21 22 23 24]\n",
      " [25 26 27 28 29 30]\n",
      " [31 32 33 34 35 36]\n",
      " [37 38 39 40 41 42]]\n",
      "----------------\n",
      "[[43 44 45 46 47 48]\n",
      " [49 50 51 52 53 54]\n",
      " [55 56 57 58 59 60]]\n"
     ]
    }
   ],
   "source": [
    "matrix=np.array(range(1,61))\n",
    "matrix=matrix.reshape((10,6))\n",
    "print(matrix)\n",
    "print('----------------')\n",
    "sp=np.split(matrix,[7,10])\n",
    "print(sp[0])\n",
    "print('----------------')\n",
    "print(sp[1])"
   ]
  },
  {
   "cell_type": "code",
   "execution_count": null,
   "id": "953e4b77",
   "metadata": {},
   "outputs": [],
   "source": []
  }
 ],
 "metadata": {
  "kernelspec": {
   "display_name": "Python 3 (ipykernel)",
   "language": "python",
   "name": "python3"
  },
  "language_info": {
   "codemirror_mode": {
    "name": "ipython",
    "version": 3
   },
   "file_extension": ".py",
   "mimetype": "text/x-python",
   "name": "python",
   "nbconvert_exporter": "python",
   "pygments_lexer": "ipython3",
   "version": "3.11.2"
  }
 },
 "nbformat": 4,
 "nbformat_minor": 5
}
