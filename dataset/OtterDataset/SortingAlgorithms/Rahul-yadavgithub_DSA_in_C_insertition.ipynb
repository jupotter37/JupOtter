{
 "cells": [
  {
   "cell_type": "markdown",
   "metadata": {},
   "source": [
    "Complexity \n",
    "\n",
    "1-> Best Case O(n)\n",
    "\n",
    "2-> Average Case O(n^2)\n",
    "\n",
    "3-> Worst Case O(n^2)"
   ]
  },
  {
   "cell_type": "markdown",
   "metadata": {},
   "source": [
    "Advantages \n",
    "\n",
    "1-> Stable Sorting algorithm\n",
    "\n",
    "2-> Efficient For small List and nearly Sorted list"
   ]
  },
  {
   "cell_type": "markdown",
   "metadata": {},
   "source": [
    "Disadvantages \n",
    "\n",
    "1-> not efficient for the ( merge Sort , quick sort)\n",
    "\n",
    "2-> Inefficient for large lists"
   ]
  }
 ],
 "metadata": {
  "language_info": {
   "name": "python"
  }
 },
 "nbformat": 4,
 "nbformat_minor": 2
}
