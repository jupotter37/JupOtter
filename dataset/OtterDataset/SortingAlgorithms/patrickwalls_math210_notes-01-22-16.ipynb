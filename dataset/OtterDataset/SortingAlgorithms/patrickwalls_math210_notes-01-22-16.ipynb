{
 "cells": [
  {
   "cell_type": "markdown",
   "metadata": {},
   "source": [
    "**IMPORTANT:** Make sure the kernel is set to Python 3\n",
    "\n",
    "---\n",
    "\n",
    "# MATH 210 Introduction to Mathematical Computing\n",
    "\n",
    "## January 22, 2016\n",
    "\n",
    "Today's Agenda:\n",
    "\n",
    "1. Built-in Functions\n",
    "    * For numbers: `abs` and `round`\n",
    "    * For lists and strings: `len`, `max`, `min`, `sorted`\n",
    "    * For lists of numbers: `sum`\n",
    "2. List Comprehensions\n",
    "3. List Methods\n",
    "4. Example: Sorting Algorithm\n",
    "5. Exercises\n",
    "\n",
    "Check out the Python 3 tutorial about [built-in functions](https://docs.python.org/3/library/functions.html), [list comprehensions](https://docs.python.org/3/tutorial/datastructures.html#list-comprehensions) and [list methods](https://docs.python.org/3/tutorial/datastructures.html#more-on-lists)."
   ]
  },
  {
   "cell_type": "markdown",
   "metadata": {},
   "source": [
    "## 1. Built-in Functions\n",
    "\n",
    "Python has several built-in functions available for us to use with numbers, lists and strings. See the [documentation](https://docs.python.org/3/library/functions.html) for more info."
   ]
  },
  {
   "cell_type": "markdown",
   "metadata": {},
   "source": [
    "### For Numbers\n",
    "\n",
    "For numbers (that is `int` and `float`), `abs(x)` returns the absolute value of $x$. Note that `abs(x)` is an `int` if $x$ is an `int`, and `abs(x)` is a float if $x$ is a `float`. There is also `round(x)` which returns the nearest integer (as an `int`)."
   ]
  },
  {
   "cell_type": "code",
   "execution_count": 1,
   "metadata": {
    "collapsed": false
   },
   "outputs": [
    {
     "data": {
      "text/plain": [
       "1"
      ]
     },
     "execution_count": 1,
     "metadata": {},
     "output_type": "execute_result"
    }
   ],
   "source": [
    "abs(-1)"
   ]
  },
  {
   "cell_type": "code",
   "execution_count": 2,
   "metadata": {
    "collapsed": false
   },
   "outputs": [
    {
     "data": {
      "text/plain": [
       "1.0"
      ]
     },
     "execution_count": 2,
     "metadata": {},
     "output_type": "execute_result"
    }
   ],
   "source": [
    "abs(-1.0)"
   ]
  },
  {
   "cell_type": "code",
   "execution_count": 3,
   "metadata": {
    "collapsed": false
   },
   "outputs": [
    {
     "data": {
      "text/plain": [
       "3.14159"
      ]
     },
     "execution_count": 3,
     "metadata": {},
     "output_type": "execute_result"
    }
   ],
   "source": [
    "abs(-3.14159)"
   ]
  },
  {
   "cell_type": "code",
   "execution_count": 4,
   "metadata": {
    "collapsed": false
   },
   "outputs": [
    {
     "data": {
      "text/plain": [
       "2"
      ]
     },
     "execution_count": 4,
     "metadata": {},
     "output_type": "execute_result"
    }
   ],
   "source": [
    "round(2.2)"
   ]
  },
  {
   "cell_type": "code",
   "execution_count": 5,
   "metadata": {
    "collapsed": false
   },
   "outputs": [
    {
     "data": {
      "text/plain": [
       "10"
      ]
     },
     "execution_count": 5,
     "metadata": {},
     "output_type": "execute_result"
    }
   ],
   "source": [
    "round(9.9)"
   ]
  },
  {
   "cell_type": "code",
   "execution_count": 6,
   "metadata": {
    "collapsed": false
   },
   "outputs": [
    {
     "data": {
      "text/plain": [
       "-3"
      ]
     },
     "execution_count": 6,
     "metadata": {},
     "output_type": "execute_result"
    }
   ],
   "source": [
    "round(-3.3)"
   ]
  },
  {
   "cell_type": "markdown",
   "metadata": {},
   "source": [
    "### For Lists and Strings\n",
    "\n",
    "For datatypes `list` and `string`, we have:\n",
    "\n",
    "* `len(x)` returns the length of $x$\n",
    "* `min(x)` returns the minimum value of $x$ (where strings are ordered alphabetically, and uppercase before lowercase)\n",
    "* `max(x)` returns the maximum value\n",
    "* `sorted(x)` returns the sorted list or the sorted list of characters"
   ]
  },
  {
   "cell_type": "code",
   "execution_count": 7,
   "metadata": {
    "collapsed": false
   },
   "outputs": [],
   "source": [
    "L =[9,3,4,8,5,6,7,4]"
   ]
  },
  {
   "cell_type": "code",
   "execution_count": 8,
   "metadata": {
    "collapsed": false
   },
   "outputs": [
    {
     "data": {
      "text/plain": [
       "8"
      ]
     },
     "execution_count": 8,
     "metadata": {},
     "output_type": "execute_result"
    }
   ],
   "source": [
    "len(L)"
   ]
  },
  {
   "cell_type": "code",
   "execution_count": 9,
   "metadata": {
    "collapsed": false
   },
   "outputs": [
    {
     "data": {
      "text/plain": [
       "3"
      ]
     },
     "execution_count": 9,
     "metadata": {},
     "output_type": "execute_result"
    }
   ],
   "source": [
    "min(L)"
   ]
  },
  {
   "cell_type": "code",
   "execution_count": 10,
   "metadata": {
    "collapsed": false
   },
   "outputs": [
    {
     "data": {
      "text/plain": [
       "9"
      ]
     },
     "execution_count": 10,
     "metadata": {},
     "output_type": "execute_result"
    }
   ],
   "source": [
    "max(L)"
   ]
  },
  {
   "cell_type": "code",
   "execution_count": 11,
   "metadata": {
    "collapsed": false
   },
   "outputs": [
    {
     "data": {
      "text/plain": [
       "[3, 4, 4, 5, 6, 7, 8, 9]"
      ]
     },
     "execution_count": 11,
     "metadata": {},
     "output_type": "execute_result"
    }
   ],
   "source": [
    "sorted(L)"
   ]
  },
  {
   "cell_type": "code",
   "execution_count": 12,
   "metadata": {
    "collapsed": false
   },
   "outputs": [],
   "source": [
    "my_name = 'Patrick'"
   ]
  },
  {
   "cell_type": "code",
   "execution_count": 13,
   "metadata": {
    "collapsed": false
   },
   "outputs": [
    {
     "data": {
      "text/plain": [
       "7"
      ]
     },
     "execution_count": 13,
     "metadata": {},
     "output_type": "execute_result"
    }
   ],
   "source": [
    "len(my_name)"
   ]
  },
  {
   "cell_type": "code",
   "execution_count": 14,
   "metadata": {
    "collapsed": false
   },
   "outputs": [
    {
     "data": {
      "text/plain": [
       "'P'"
      ]
     },
     "execution_count": 14,
     "metadata": {},
     "output_type": "execute_result"
    }
   ],
   "source": [
    "min(my_name)"
   ]
  },
  {
   "cell_type": "code",
   "execution_count": 15,
   "metadata": {
    "collapsed": false
   },
   "outputs": [
    {
     "data": {
      "text/plain": [
       "'t'"
      ]
     },
     "execution_count": 15,
     "metadata": {},
     "output_type": "execute_result"
    }
   ],
   "source": [
    "max(my_name)"
   ]
  },
  {
   "cell_type": "code",
   "execution_count": 16,
   "metadata": {
    "collapsed": false
   },
   "outputs": [
    {
     "data": {
      "text/plain": [
       "['P', 'a', 'c', 'i', 'k', 'r', 't']"
      ]
     },
     "execution_count": 16,
     "metadata": {},
     "output_type": "execute_result"
    }
   ],
   "source": [
    "sorted(my_name)"
   ]
  },
  {
   "cell_type": "markdown",
   "metadata": {},
   "source": [
    "### For Lists of Numbers\n",
    "\n",
    "The `sum` function returns the sum of a list of numbers:"
   ]
  },
  {
   "cell_type": "code",
   "execution_count": 17,
   "metadata": {
    "collapsed": false
   },
   "outputs": [
    {
     "data": {
      "text/plain": [
       "55"
      ]
     },
     "execution_count": 17,
     "metadata": {},
     "output_type": "execute_result"
    }
   ],
   "source": [
    "sum([1,2,3,4,5,6,7,8,9,10])"
   ]
  },
  {
   "cell_type": "code",
   "execution_count": 18,
   "metadata": {
    "collapsed": false
   },
   "outputs": [
    {
     "data": {
      "text/plain": [
       "385"
      ]
     },
     "execution_count": 18,
     "metadata": {},
     "output_type": "execute_result"
    }
   ],
   "source": [
    "sum([1,4,9,16,25,36,49,64,81,100])"
   ]
  },
  {
   "cell_type": "markdown",
   "metadata": {},
   "source": [
    "## 2. List Comprehensions"
   ]
  },
  {
   "cell_type": "markdown",
   "metadata": {},
   "source": [
    "We can create a list of squares $n^2$ for $1 \\leq n \\leq 10$ using a for loop and the append method:"
   ]
  },
  {
   "cell_type": "code",
   "execution_count": 19,
   "metadata": {
    "collapsed": false
   },
   "outputs": [
    {
     "name": "stdout",
     "output_type": "stream",
     "text": [
      "[1, 4, 9, 16, 25, 36, 49, 64, 81, 100]\n"
     ]
    }
   ],
   "source": [
    "squares_list = []\n",
    "for n in range(1,11):\n",
    "    squares_list.append( n ** 2 )\n",
    "print(squares_list)"
   ]
  },
  {
   "cell_type": "markdown",
   "metadata": {},
   "source": [
    "Python has a built-in syntax called a **list comprehension** which does the same thing in one beautifully succinct line:"
   ]
  },
  {
   "cell_type": "code",
   "execution_count": 20,
   "metadata": {
    "collapsed": false
   },
   "outputs": [
    {
     "name": "stdout",
     "output_type": "stream",
     "text": [
      "[1, 4, 9, 16, 25, 36, 49, 64, 81, 100]\n"
     ]
    }
   ],
   "source": [
    "squares = [ i ** 2 for i in range(1,11) ]\n",
    "print(squares)"
   ]
  },
  {
   "cell_type": "markdown",
   "metadata": {},
   "source": [
    "We can use `if` statements in our list comprehensions. For example, let's construct the list of cubes $n^3$ for $1 \\leq n \\leq 50$ where $n$ is a multiple of either 8 or 9."
   ]
  },
  {
   "cell_type": "code",
   "execution_count": 21,
   "metadata": {
    "collapsed": false
   },
   "outputs": [
    {
     "data": {
      "text/plain": [
       "[512, 729, 4096, 5832, 13824, 19683, 32768, 46656, 64000, 91125, 110592]"
      ]
     },
     "execution_count": 21,
     "metadata": {},
     "output_type": "execute_result"
    }
   ],
   "source": [
    "[ n**3 for n in range(1,50) if (n % 9 == 0 or n % 8 == 0) ]"
   ]
  },
  {
   "cell_type": "markdown",
   "metadata": {},
   "source": [
    "**Example.** Use a list comprehension to create:\n",
    "\n",
    "* a list of of length 20 where the entries alternate [1, -1, 1, -1, ... ]\n",
    "* a list of cubes $n^3$ for n from 10 to 20\n",
    "* a list of values $1/n$ for odd integers $n$ with $1 \\leq n \\leq 21$"
   ]
  },
  {
   "cell_type": "code",
   "execution_count": 22,
   "metadata": {
    "collapsed": false,
    "scrolled": true
   },
   "outputs": [
    {
     "data": {
      "text/plain": [
       "[1, -1, 1, -1, 1, -1, 1, -1, 1, -1, 1, -1, 1, -1, 1, -1, 1, -1, 1, -1]"
      ]
     },
     "execution_count": 22,
     "metadata": {},
     "output_type": "execute_result"
    }
   ],
   "source": [
    "[ (-1) ** n for n in range(0,20)]"
   ]
  },
  {
   "cell_type": "code",
   "execution_count": 23,
   "metadata": {
    "collapsed": false
   },
   "outputs": [
    {
     "data": {
      "text/plain": [
       "[1000, 1331, 1728, 2197, 2744, 3375, 4096, 4913, 5832, 6859, 8000]"
      ]
     },
     "execution_count": 23,
     "metadata": {},
     "output_type": "execute_result"
    }
   ],
   "source": [
    "[ n**3 for n in range(10,21) ]"
   ]
  },
  {
   "cell_type": "code",
   "execution_count": 24,
   "metadata": {
    "collapsed": false
   },
   "outputs": [
    {
     "data": {
      "text/plain": [
       "[1.0,\n",
       " 0.3333333333333333,\n",
       " 0.2,\n",
       " 0.14285714285714285,\n",
       " 0.1111111111111111,\n",
       " 0.09090909090909091,\n",
       " 0.07692307692307693,\n",
       " 0.06666666666666667,\n",
       " 0.058823529411764705,\n",
       " 0.05263157894736842,\n",
       " 0.047619047619047616]"
      ]
     },
     "execution_count": 24,
     "metadata": {},
     "output_type": "execute_result"
    }
   ],
   "source": [
    "[ 1/n for n in range(1,22,2) ]"
   ]
  },
  {
   "cell_type": "markdown",
   "metadata": {},
   "source": [
    "**Example.** Construct the list of primes from $1$ to $100$ using a list comprehension (and a function `is_prime` which tests if a number is prime)."
   ]
  },
  {
   "cell_type": "code",
   "execution_count": 25,
   "metadata": {
    "collapsed": true
   },
   "outputs": [],
   "source": [
    "def is_prime(n):\n",
    "    \"Determine if the positive integer n is a prime.\"\n",
    "    if n <= 1:\n",
    "        return False\n",
    "    # Check all divisors d <= n**0.5\n",
    "    for d in range(2,round( n** 0.5 ) + 1):\n",
    "        if n % d == 0:\n",
    "            return False\n",
    "    return True"
   ]
  },
  {
   "cell_type": "code",
   "execution_count": 26,
   "metadata": {
    "collapsed": false
   },
   "outputs": [
    {
     "name": "stdout",
     "output_type": "stream",
     "text": [
      "[2, 3, 5, 7, 11, 13, 17, 19, 23, 29, 31, 37, 41, 43, 47, 53, 59, 61, 67, 71, 73, 79, 83, 89, 97]\n"
     ]
    }
   ],
   "source": [
    "primes_up_to_100 = [ n for n in range(2,101) if is_prime(n) ]\n",
    "print(primes_up_to_100)"
   ]
  },
  {
   "cell_type": "markdown",
   "metadata": {},
   "source": [
    "## 3. List Methods\n",
    "\n",
    "In Python, an **object** is a collection of **attributes** and **methods**. Think of attributes as values associated with the object and methods as functions which can be applied to the object.\n",
    "\n",
    "A Python list is an object and is equipped with methods. We've already seen the `append` method. Here's a few more list methods: `append`, `remove`, `count`, `index` and `sort`.\n",
    "\n",
    "* `my_list.append(x)` appends element `x` to the end of `my_list`\n",
    "* `my_list.remove(x)` removes the first occurence of the element `x` from `my_list`\n",
    "* `my_list.count(x)` returns the number of occurences of the element `x` in `my_list`\n",
    "* `my_list.index(x)` returns the index in `my_list` of the first occurence of the element `x`\n",
    "* `my_list.sort()` sorts the items in the list"
   ]
  },
  {
   "cell_type": "code",
   "execution_count": 27,
   "metadata": {
    "collapsed": true
   },
   "outputs": [],
   "source": [
    "course_list = ['Math 210', 'Math 152', 'Math 255', 'Math 221']"
   ]
  },
  {
   "cell_type": "code",
   "execution_count": 28,
   "metadata": {
    "collapsed": false
   },
   "outputs": [
    {
     "name": "stdout",
     "output_type": "stream",
     "text": [
      "['Math 210', 'Math 152', 'Math 255', 'Math 221', 'Math 307']\n"
     ]
    }
   ],
   "source": [
    "course_list.append('Math 307')\n",
    "print(course_list)"
   ]
  },
  {
   "cell_type": "code",
   "execution_count": 29,
   "metadata": {
    "collapsed": false
   },
   "outputs": [
    {
     "name": "stdout",
     "output_type": "stream",
     "text": [
      "['Math 210', 'Math 255', 'Math 221', 'Math 307']\n"
     ]
    }
   ],
   "source": [
    "course_list.remove('Math 152')\n",
    "print(course_list)"
   ]
  },
  {
   "cell_type": "code",
   "execution_count": 30,
   "metadata": {
    "collapsed": false
   },
   "outputs": [
    {
     "name": "stdout",
     "output_type": "stream",
     "text": [
      "['Math 210', 'Math 255', 'Math 221', 'Math 307', 'Math 210']\n"
     ]
    }
   ],
   "source": [
    "course_list.append('Math 210')\n",
    "print(course_list)"
   ]
  },
  {
   "cell_type": "code",
   "execution_count": 31,
   "metadata": {
    "collapsed": false
   },
   "outputs": [
    {
     "data": {
      "text/plain": [
       "2"
      ]
     },
     "execution_count": 31,
     "metadata": {},
     "output_type": "execute_result"
    }
   ],
   "source": [
    "course_list.count('Math 210')"
   ]
  },
  {
   "cell_type": "code",
   "execution_count": 32,
   "metadata": {
    "collapsed": false
   },
   "outputs": [
    {
     "name": "stdout",
     "output_type": "stream",
     "text": [
      "['Math 255', 'Math 221', 'Math 307', 'Math 210']\n"
     ]
    }
   ],
   "source": [
    "course_list.remove('Math 210')\n",
    "print(course_list)"
   ]
  },
  {
   "cell_type": "code",
   "execution_count": 33,
   "metadata": {
    "collapsed": false
   },
   "outputs": [
    {
     "data": {
      "text/plain": [
       "1"
      ]
     },
     "execution_count": 33,
     "metadata": {},
     "output_type": "execute_result"
    }
   ],
   "source": [
    "course_list.count('Math 210')"
   ]
  },
  {
   "cell_type": "code",
   "execution_count": 34,
   "metadata": {
    "collapsed": true
   },
   "outputs": [],
   "source": [
    "numbers_list = [4,-1,3,-3,0,3,2]"
   ]
  },
  {
   "cell_type": "code",
   "execution_count": 35,
   "metadata": {
    "collapsed": false
   },
   "outputs": [
    {
     "data": {
      "text/plain": [
       "2"
      ]
     },
     "execution_count": 35,
     "metadata": {},
     "output_type": "execute_result"
    }
   ],
   "source": [
    "numbers_list.index(3)"
   ]
  },
  {
   "cell_type": "code",
   "execution_count": 36,
   "metadata": {
    "collapsed": false
   },
   "outputs": [
    {
     "name": "stdout",
     "output_type": "stream",
     "text": [
      "[-3, -1, 0, 2, 3, 3, 4]\n"
     ]
    }
   ],
   "source": [
    "numbers_list.sort()\n",
    "print(numbers_list)"
   ]
  },
  {
   "cell_type": "code",
   "execution_count": 37,
   "metadata": {
    "collapsed": false
   },
   "outputs": [
    {
     "data": {
      "text/plain": [
       "4"
      ]
     },
     "execution_count": 37,
     "metadata": {},
     "output_type": "execute_result"
    }
   ],
   "source": [
    "numbers_list.index(3)"
   ]
  },
  {
   "cell_type": "markdown",
   "metadata": {},
   "source": [
    "## 4. Example: Sorting Algorithms"
   ]
  },
  {
   "cell_type": "markdown",
   "metadata": {},
   "source": [
    "The [selection sort](https://en.wikipedia.org/wiki/Selection_sort) algorithm is one of the simplest (but least efficient) sorting algorithms. It works like this:\n",
    "\n",
    "1. Let L be a list of numbers\n",
    "2. Find the minimum in the list and call it x\n",
    "3. Swap the first element in the list with x (if x is strictly smaller)\n",
    "4. Repeat the steps above for the remaining list (after x)"
   ]
  },
  {
   "cell_type": "markdown",
   "metadata": {},
   "source": [
    "For example, let L = [3,4,1,0,-1,4,2]. Then:\n",
    "\n",
    "* Step 1: [-1,4,1,0,3,4,2] - Swapped -1 and 3\n",
    "* Step 2: [-1,0,1,4,3,4,2] - Swapped 0 and 4\n",
    "* Step 3: [-1,0,1,4,3,4,2] - Left 1 in place\n",
    "* Step 4: [-1,0,1,2,3,4,4] - Swapped 2 and 4\n",
    "* Step 5: [-1,0,1,2,3,4,4] - Left 3 in place\n",
    "* Step 6: [-1,0,1,2,3,4,4] - Left 4 in place"
   ]
  },
  {
   "cell_type": "markdown",
   "metadata": {},
   "source": [
    "Write a function called `selection_sort` which takes a list of integers and returns the sorted list using the selection sort algorithm."
   ]
  },
  {
   "cell_type": "code",
   "execution_count": 38,
   "metadata": {
    "collapsed": true
   },
   "outputs": [],
   "source": [
    "def selection_sort(L):\n",
    "    # Loop over the indices of the list\n",
    "    for i in range(0,len(L)):\n",
    "        # Find the minimum value in the sublist L[i:] which starts at index i\n",
    "        minimum = min(L[i:])\n",
    "        # Skip to the next index i if the minimum of the sublist L[i:] already occurs at index i\n",
    "        if L[i] != minimum:\n",
    "            # In order to swap the minimum value in L[i:] with the number L[i] at index i\n",
    "            # we find the index in the sublist L[i:] at which the minimum occurs and\n",
    "            # we add i because L[i:].index(minimum) returns the index in the sublist L[i:]\n",
    "            min_index = L[i:].index(minimum) + i\n",
    "            # Swap the value at index i with the minimum value\n",
    "            L[min_index] = L[i]\n",
    "            L[i] = minimum\n",
    "    return L"
   ]
  },
  {
   "cell_type": "code",
   "execution_count": 39,
   "metadata": {
    "collapsed": false
   },
   "outputs": [
    {
     "data": {
      "text/plain": [
       "[-6, -3, 0, 2, 2, 3, 5, 7, 8, 9, 9]"
      ]
     },
     "execution_count": 39,
     "metadata": {},
     "output_type": "execute_result"
    }
   ],
   "source": [
    "selection_sort([9,8,2,-3,5,-6,0,2,7,3,9])"
   ]
  },
  {
   "cell_type": "markdown",
   "metadata": {},
   "source": [
    "## 5. Exercises"
   ]
  },
  {
   "cell_type": "markdown",
   "metadata": {},
   "source": [
    "**Exercise.** Find the sum of all the integers $n \\leq 100$ which are multiples of either 3 or 8."
   ]
  },
  {
   "cell_type": "markdown",
   "metadata": {},
   "source": [
    "**Exercise.** Compute the partial sum of $$\\sum_{n=1}^{\\infty} \\frac{1}{n^2}$$ up to $n = 10000$. (See [Basel's Problem](https://en.wikipedia.org/wiki/Basel_problem).) Euler proved in 1734 that $$\\sum_{n=1}^{\\infty} \\frac{1}{n^2} = \\frac{\\pi^2}{6}$$"
   ]
  },
  {
   "cell_type": "markdown",
   "metadata": {},
   "source": [
    "**Exercise.** The Riemann zeta function $$\\zeta(s) = \\sum_{n=0} \\frac{1}{n^s}$$ is a mysterious and beautiful function in number theory. The special values $\\zeta(k)$ for $k$ odd are extremely hard (impossible?) to compute exactly. (See [Riemann zeta function](https://en.wikipedia.org/wiki/Riemann_zeta_function).)\n",
    "\n",
    "Approximate the value $\\zeta(3)$ by computing the partial sum $$\\sum_{n=1}^{1000} \\frac{1}{n^3}$$(This number is called [Apery's constant](https://en.wikipedia.org/wiki/Ap%C3%A9ry%27s_constant) and is known to be irrational however it is still unknown if it is transcendental.)"
   ]
  },
  {
   "cell_type": "markdown",
   "metadata": {},
   "source": [
    "**Exercise.** The [bubble sort](https://en.wikipedia.org/wiki/Bubble_sort) algorithm is a simple sorting algorithm which works as follows:\n",
    "\n",
    "* Let $L$ be a list of numbers\n",
    "* Starting at the beginning of the list, compare each pair of adjacent numbers and swap them if the next number is smaller than the previous\n",
    "* After the last pair is compared (and swapped if needed) return to the beginning of the list and repeat\n",
    "* When a pass through the list results in no swaps, the list is sorted\n",
    "\n",
    "For example, let L = [4,-2,3,0].\n",
    "\n",
    "* Pass 1\n",
    "    1. The list is [4,-2,3,0] and we compare 4 and -2. Since -2 is smaller, we swap [-2,4,3,0]\n",
    "    2. The list is [-2,4,3,0] and we compare 4 and 3. Since 3 is smaller, we swap [-2,3,4,0]\n",
    "    3. The list is [-2,3,4,0] and we compare 4 and 0. Since 0 is smaller, we swap [-2,3,0,4]\n",
    "    4. We reached the end of the list and start again\n",
    "* Pass 2\n",
    "    1. The list is [-2,3,0,4] and we compare -2 and 3. Since 3 is larger, we leave them in place\n",
    "    2. The list is [-2,3,0,4] and we compare 3 and 0. Since 0 is smaller, we swap [-2,0,3,4]\n",
    "    3. The list is [-2,0,3,4] and we compare 3 and 4. Since 4 is larger, we leave them in place\n",
    "    4. We reached the end of the list and start again\n",
    "* Pass 3\n",
    "    1. The list is [-2,0,3,4] and we compare -2 and 0. Since 0 is larger, we leave them in place\n",
    "    2. The list is [-2,0,3,4] and we compare 0 and 3. Since 3 is larger, we leave them in place\n",
    "    3. The list is [-2,0,3,4] and we compare 3 and 4. Since 4 is larger, we leave them in place\n",
    "    4. No swaps were made in that pass therefore we end the algorithm\n",
    "\n",
    "Write a function called `bubble_sort` which takes an list of numbers and returns the sorted list using the bubble sort algorithm."
   ]
  },
  {
   "cell_type": "markdown",
   "metadata": {},
   "source": [
    "**Exercise.** We can use nested list comprehensions to make lists of lists. For example, we can make a list of the divisors of $n$ for each $n \\leq 20$."
   ]
  },
  {
   "cell_type": "code",
   "execution_count": 40,
   "metadata": {
    "collapsed": false
   },
   "outputs": [
    {
     "data": {
      "text/plain": [
       "[[1],\n",
       " [1, 2],\n",
       " [1, 3],\n",
       " [1, 2, 4],\n",
       " [1, 5],\n",
       " [1, 2, 3, 6],\n",
       " [1, 7],\n",
       " [1, 2, 4, 8],\n",
       " [1, 3, 9],\n",
       " [1, 2, 5, 10],\n",
       " [1, 11],\n",
       " [1, 2, 3, 4, 6, 12],\n",
       " [1, 13],\n",
       " [1, 2, 7, 14],\n",
       " [1, 3, 5, 15],\n",
       " [1, 2, 4, 8, 16],\n",
       " [1, 17],\n",
       " [1, 2, 3, 6, 9, 18],\n",
       " [1, 19],\n",
       " [1, 2, 4, 5, 10, 20]]"
      ]
     },
     "execution_count": 40,
     "metadata": {},
     "output_type": "execute_result"
    }
   ],
   "source": [
    "[ [ d for d in range(1,n + 1) if n % d == 0 ] for n in range(1,21) ]"
   ]
  },
  {
   "cell_type": "markdown",
   "metadata": {},
   "source": [
    "Use the nested list comprehension above along with the built-in function `len` and the list method `count` to count the number of positive integers less than 500 that have exactly 6 divisors. **This should be a single line of Python code.** (Answer: 59)"
   ]
  }
 ],
 "metadata": {
  "kernelspec": {
   "display_name": "Python 3",
   "language": "python",
   "name": "python3"
  },
  "language_info": {
   "codemirror_mode": {
    "name": "ipython",
    "version": 3
   },
   "file_extension": ".py",
   "mimetype": "text/x-python",
   "name": "python",
   "nbconvert_exporter": "python",
   "pygments_lexer": "ipython3",
   "version": "3.4.3"
  }
 },
 "nbformat": 4,
 "nbformat_minor": 0
}
