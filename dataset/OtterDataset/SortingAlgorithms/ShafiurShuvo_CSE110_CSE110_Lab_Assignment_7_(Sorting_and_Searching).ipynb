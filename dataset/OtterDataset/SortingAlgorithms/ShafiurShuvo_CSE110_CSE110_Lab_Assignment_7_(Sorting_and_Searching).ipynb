{
 "cells": [
  {
   "cell_type": "markdown",
   "metadata": {
    "id": "oMYzsTcnHEll"
   },
   "source": [
    "# CSE110 Lab Assignment 7 on Sorting and Searching\n",
    "\n",
    "Write your name, Student ID and CSE110 section below:\n"
   ]
  },
  {
   "cell_type": "code",
   "execution_count": null,
   "metadata": {
    "id": "ljd7OxU2gvWb"
   },
   "outputs": [],
   "source": [
    "#STUDENT NAME: MD. Shafiur Rahman\n",
    "#STUDENT ID: 21201613\n",
    "#CSE110 SECTION: 15"
   ]
  },
  {
   "cell_type": "markdown",
   "metadata": {
    "id": "jT-t2zlnHEll"
   },
   "source": [
    "## Write the Python code for the following problems:\n",
    "**<font color='red'>[MUST MAINTAIN VARIABLE NAMING CONVENTIONS FOR ALL THE TASKS]</font>**\n",
    "\n",
    "### Task 1\n",
    "\n",
    "Suppose you have a list named my_list as given below. <br/>\n",
    "my_list = [10,1,20,3,6,2,5,11,15,2,12,14,17,18,29] <br/>\n",
    "Now use bubble sort to sort my_list into ascending order.\n",
    "\n",
    "**Output**<br/>\n",
    "[1, 2, 2, 3, 5, 6, 10, 11, 12, 14, 15, 17, 18, 20, 29]"
   ]
  },
  {
   "cell_type": "code",
   "execution_count": 1,
   "metadata": {
    "colab": {
     "base_uri": "https://localhost:8080/"
    },
    "id": "7qXVakLgHElm",
    "outputId": "157633ff-545a-4be0-9ff5-405cd25569f4"
   },
   "outputs": [
    {
     "name": "stdout",
     "output_type": "stream",
     "text": [
      "[1, 2, 2, 3, 5, 6, 10, 11, 12, 14, 15, 17, 18, 20, 29]\n"
     ]
    }
   ],
   "source": [
    "#todo - Bubble sort starts arranging the elements from the top\n",
    "\n",
    "my_list = [10,1,20,3,6,2,5,11,15,2,12,14,17,18,29]\n",
    "\n",
    "for i in range (len(my_list)-1):  \n",
    "    \n",
    "    for j in range (len(my_list)-i-1):  \n",
    "        if my_list[j] > my_list[j+1]:\n",
    "            \n",
    "            temp = my_list[j]\n",
    "            my_list[j] = my_list[j+1]\n",
    "            my_list[j+1] = temp\n",
    "            \n",
    "print(my_list)\n"
   ]
  },
  {
   "cell_type": "markdown",
   "metadata": {
    "id": "w1QgeWd2HElp"
   },
   "source": [
    "### Task 2\n",
    "\n",
    "Suppose you have a list named my_list as given below. <br/>\n",
    "my_list = [10,1,20,3,6,2,5,11,15,2,12,14,17,18,29] <br/>\n",
    "Now use selection sort to sort my_list into ascending order.\n",
    "\n",
    "**Output**<br/>\n",
    "[1, 2, 2, 3, 5, 6, 10, 11, 12, 14, 15, 17, 18, 20, 29]\n",
    "\n"
   ]
  },
  {
   "cell_type": "code",
   "execution_count": 2,
   "metadata": {
    "colab": {
     "base_uri": "https://localhost:8080/"
    },
    "id": "am0B_8ICHElq",
    "outputId": "ce4c04c6-395f-48ba-8292-c5ebc7f9020a"
   },
   "outputs": [
    {
     "name": "stdout",
     "output_type": "stream",
     "text": [
      "[1, 2, 2, 3, 5, 6, 10, 11, 12, 14, 15, 17, 18, 20, 29]\n"
     ]
    }
   ],
   "source": [
    "#todo Selection sort starts arranging the elements from the bottom\n",
    "\n",
    "my_list = [10,1,20,3,6,2,5,11,15,2,12,14,17,18,29]\n",
    "\n",
    "for i in range (len(my_list)):\n",
    "    min_index = i\n",
    "    \n",
    "    for j in range (i+1, (len(my_list))):\n",
    "        if my_list[j] < my_list[min_index]:\n",
    "            min_index = j\n",
    "            \n",
    "    temp = my_list[min_index]\n",
    "    my_list[min_index] = my_list[i]\n",
    "    my_list[i] = temp\n",
    "    \n",
    "print(my_list)\n"
   ]
  },
  {
   "cell_type": "markdown",
   "metadata": {
    "id": "j4ffr2CAHElt"
   },
   "source": [
    "### Task  3\n",
    "\n",
    "Suppose you have a list named my_list as given below <br/>\n",
    "my_list=[10,1,20,3,6,2,5,11,15,2,12,14,17,18,29] <br/>\n",
    "Now use any of the two sorting techniques you have used above to sort the list in descending order.\n",
    "\n",
    "**Output**<br/>\n",
    "[29, 20, 18, 17, 15, 14, 12, 11, 10, 6, 5, 3, 2, 2, 1]\n"
   ]
  },
  {
   "cell_type": "code",
   "execution_count": 3,
   "metadata": {
    "colab": {
     "base_uri": "https://localhost:8080/"
    },
    "id": "n2X3YR-_HElt",
    "outputId": "61838e23-8e12-42b5-ac1d-b0c10588a7d3"
   },
   "outputs": [
    {
     "name": "stdout",
     "output_type": "stream",
     "text": [
      "[29, 20, 18, 17, 15, 14, 12, 11, 10, 6, 5, 3, 2, 2, 1]\n"
     ]
    }
   ],
   "source": [
    "#todo - Bubble sort\n",
    "\n",
    "my_list=[10,1,20,3,6,2,5,11,15,2,12,14,17,18,29]\n",
    "\n",
    "for i in range (len(my_list)-1):  \n",
    "    \n",
    "    for j in range (len(my_list)-i-1):  \n",
    "        if my_list[j] < my_list[j+1]:\n",
    "            \n",
    "            temp = my_list[j]\n",
    "            my_list[j] = my_list[j+1]\n",
    "            my_list[j+1] = temp\n",
    "            \n",
    "print(my_list)"
   ]
  },
  {
   "cell_type": "markdown",
   "metadata": {
    "id": "9iYiiTWWHElw"
   },
   "source": [
    "### Task 4\n",
    "\n",
    "Suppose you have a sitting arrangement of the students who will give the final exam in a list. The list contains the last two digits of their student ID as given below.<br/>\n",
    "\n",
    "sitting_list = [10,30,20,70,11,15,22,16,58,100,12,56,70,80] <br/>\n",
    "\n",
    "Now you want to organize the sitting arrangement of the students in your own way. You decide to sort all the students in the even indices of the list in ascending order and all the students in the odd indices of the list in descending order.  <br/>\n",
    "\n",
    "So, write a python program that organizes the list for you in this way.<br/>\n",
    "\n",
    "\n",
    "**Sample Output**<br/>\n",
    "[10, 100, 11, 80, 12, 70, 20, 56, 22, 30, 58, 16, 70, 15]"
   ]
  },
  {
   "cell_type": "code",
   "execution_count": 4,
   "metadata": {},
   "outputs": [
    {
     "name": "stdout",
     "output_type": "stream",
     "text": [
      "[10, 100, 11, 80, 12, 70, 20, 56, 22, 30, 58, 16, 70, 15]\n"
     ]
    }
   ],
   "source": [
    "#todo\n",
    "\n",
    "sitting_list = [10,30,20,70,11,15,22,16,58,100,12,56,70,80]\n",
    "\n",
    "for i in range(0,len(sitting_list),2):\n",
    "    min_index = i\n",
    "    \n",
    "    for j in range(i,len(sitting_list),2):\n",
    "        if sitting_list[j] < sitting_list[min_index]:\n",
    "            min_index = j\n",
    "    \n",
    "    temp = sitting_list[min_index]\n",
    "    sitting_list[min_index] = sitting_list[i]\n",
    "    sitting_list[i] = temp\n",
    "\n",
    "for i in range(1,len(sitting_list),2):\n",
    "    max_index = i\n",
    "    \n",
    "    for j in range(i,len(sitting_list),2):\n",
    "        if sitting_list[j] > sitting_list[max_index]:\n",
    "            max_index = j\n",
    "    \n",
    "    temp = sitting_list[max_index]\n",
    "    sitting_list[max_index] = sitting_list[i]\n",
    "    sitting_list[i] = temp\n",
    "    \n",
    "print(sitting_list)"
   ]
  },
  {
   "cell_type": "markdown",
   "metadata": {
    "id": "oVR1Tsa0HElz"
   },
   "source": [
    "### Task 5\n",
    "\n",
    "Suppose a list contains marks earned in the courses CSE110, PHY111, and MAT110 of each student consecutively in a nested list form. Your task is to take a course name as input from the user and sort the list based on the marks obtained in that course in order to finally print the names of the students in descending order of marks obtained i.e. from the student who earned the highest marks to the student who earned the lowest. <br/>\n",
    "\n",
    "For example, the list may look like <br/>\n",
    "lst = [ [\"Alan\", 95, 87, 91], [\"Turing\", 92, 90, 83], [\"Elon\", 87, 92, 80], [\"Musk\", 85, 94, 90] ] <br/>\n",
    "where for each nested list, 1st index holds the name of the student, 2nd index is total marks earned in the CSE110 course, 3rd index is PHY111 marks and 4th index is MAT110 marks. \n",
    "\n",
    "=====================================================\n",
    "\n",
    "**Hint:**<br/>\n",
    "You may create a function for sorting, then call it every time when needed instead of rewriting the code.\n",
    "\n",
    "You may get the data in the individual lists from the given nested list.\n",
    "\n",
    "=====================================================\n",
    "\n",
    "**Sample Input 1**<br/>\n",
    "MAT110\n",
    "\n",
    "**Sample Output 1**<br/>\n",
    "Alan <br/>\n",
    "Musk <br/>\n",
    "Turing <br/>\n",
    "Elon\n",
    "\n",
    "**Explanation:**<br/>\n",
    "Here the user gives us \"MAT110\" as the course name. Now, the students Alan, Turing, Elon and Musk earned 91, 83, 80 and 90 marks respectively in this course. If we sort it, Alan got the highest marks of 91 followed by Musk with 90 marks and Turing with 83 marks. Among these 4 students, Elon obtained the lowest marks in the MAT110 course with 80 marks. All of these has been illustrated in our sample output.\n",
    "\n",
    "=====================================================\n",
    "\n",
    "**Sample Input 2**<br/>\n",
    "PHY111\n",
    "\n",
    "**Sample Output 2**<br/>\n",
    "Musk <br/>\n",
    "Elon <br/>\n",
    "Turing <br/>\n",
    "Alan"
   ]
  },
  {
   "cell_type": "code",
   "execution_count": 3,
   "metadata": {},
   "outputs": [
    {
     "name": "stdout",
     "output_type": "stream",
     "text": [
      "Enter a subject: mat110\n",
      "Alan\n",
      "Musk\n",
      "Turing\n",
      "Elon\n"
     ]
    }
   ],
   "source": [
    "sub = input('Enter a subject: ').upper()\n",
    "my_list = [ [\"Alan\", 95, 87, 91], [\"Turing\", 92, 90, 83], [\"Elon\", 87, 92, 80], [\"Musk\", 85, 94, 90] ]\n",
    "index = 0\n",
    "if sub == \"CSE110\":\n",
    "    index = 1\n",
    "elif sub == \"PHY111\":\n",
    "    index = 2\n",
    "elif sub == \"MAT110\":\n",
    "    index = 3\n",
    "    \n",
    "for i in range (len(my_list)):\n",
    "    max_index = i\n",
    "    \n",
    "    for j in range (i+1, (len(my_list))):\n",
    "        if my_list[j][index] > my_list[max_index][index]:\n",
    "            max_index = j\n",
    "            \n",
    "    print(my_list[max_index][0]) \n",
    "    \n",
    "    temp = my_list[max_index]\n",
    "    my_list[max_index] = my_list[i]\n",
    "    my_list[i] = temp\n"
   ]
  },
  {
   "cell_type": "code",
   "execution_count": 8,
   "metadata": {},
   "outputs": [
    {
     "name": "stdout",
     "output_type": "stream",
     "text": [
      "Enter a subject: phy111\n",
      "Musk\n",
      "Elon\n",
      "Turing\n",
      "Alan\n"
     ]
    }
   ],
   "source": [
    "#todo - using function\n",
    "\n",
    "def sort_by_number(sub):\n",
    "    index = 0\n",
    "    if sub == \"CSE110\":\n",
    "        index = 1\n",
    "    elif sub == \"PHY111\":\n",
    "        index = 2\n",
    "    elif sub == \"MAT110\":\n",
    "        index = 3\n",
    "    \n",
    "    for i in range (len(my_list)):\n",
    "    \n",
    "        max_index = i\n",
    "    \n",
    "        for j in range (i+1, (len(my_list))):\n",
    "            if my_list[j][index] > my_list[max_index][index]:\n",
    "                max_index = j\n",
    "            \n",
    "            \n",
    "        print(my_list[max_index][0])\n",
    "    \n",
    "        temp = my_list[max_index]\n",
    "        my_list[max_index] = my_list[i]\n",
    "        my_list[i] = temp \n",
    "            \n",
    "sub = input('Enter a subject: ').upper()\n",
    "my_list = [[\"Alan\", 95, 87, 91], [\"Turing\", 92, 90, 83], [\"Elon\", 87, 92, 80], [\"Musk\", 85, 94, 90]]\n",
    "sort_by_number(sub)"
   ]
  },
  {
   "cell_type": "markdown",
   "metadata": {
    "id": "B0Rqbyi4HEl2"
   },
   "source": [
    "### Task 6\n",
    "\n",
    "Suppose you have a list named my_list as given below. Your task is to sort the list in ascending order and print the count of numbers that have changed their positions in the process of sorting. <br/>\n",
    "\n",
    "my_list = [4, 2, 3, 1, 6, 5] <br/>\n",
    "\n",
    "Sorted list would be [1, 2, 3, 4, 5, 6] where 4 numbers (4, 1, 6 and 5) have changed their positions. Therefore our sample output here would be 4. Please check if your code is working correctly by changing the above list and using the knowledge given here to verify whether your code gives correct output for all different lists.\n",
    "\n",
    "\n",
    "**Sample Output for the above list**<br/>\n",
    "4"
   ]
  },
  {
   "cell_type": "code",
   "execution_count": 22,
   "metadata": {},
   "outputs": [
    {
     "name": "stdout",
     "output_type": "stream",
     "text": [
      "4\n"
     ]
    }
   ],
   "source": [
    "#todo\n",
    "\n",
    "my_list = [4,2,3,1,6,5]\n",
    "\n",
    "new = []\n",
    "for i in my_list:\n",
    "    new.append(i)\n",
    "# print(new)\n",
    "for i in range(len(new)): \n",
    "    min_value = i\n",
    "    for j in range(i+1, len(new)): \n",
    "        if new[j] < new[min_value]:\n",
    "            min_value = j\n",
    "            count += 1\n",
    "        \n",
    "    temp = new[i] \n",
    "    new[i] = new[min_value] \n",
    "    new[min_value] = temp \n",
    "    \n",
    "# print(new)\n",
    "count = 0\n",
    "for i in range(len(new)):\n",
    "    if my_list[i] != new[i]:\n",
    "        count += 1\n",
    "    \n",
    "print(count)"
   ]
  },
  {
   "cell_type": "markdown",
   "metadata": {
    "id": "iIH5n0sJHEl5"
   },
   "source": [
    "### Task 7\n",
    "\n",
    "Write a python program that takes two lists from the user, merges the two lists, sorts the resulting list, and then finds the median of the elements in the two lists.\n",
    "\n",
    "=====================================================\n",
    "\n",
    "\n",
    "**Sample Input 1**<br/>\n",
    "list_one = [1, 2, 1, 4] <br/>\n",
    "list_two = [5, 4, 1]\n",
    "\n",
    "\n",
    "**Sample Output 1**<br/>\n",
    "Sorted list = [1, 1, 1, 2, 4, 4, 5] <br/>\n",
    "Median = 2\n",
    "\n",
    "=====================================================\n",
    "\n",
    "\n",
    "**Sample Input 2**<br/>\n",
    "list_one = [1, 7, 9, 10] <br/>\n",
    "list_two = [2, 7, 6, 5]\n",
    "\n",
    "\n",
    "**Sample Output 2**<br/>\n",
    "Sorted list = [1, 2, 5, 6, 7, 7, 9, 10] <br/>\n",
    "Median = 6.5\n",
    "\n"
   ]
  },
  {
   "cell_type": "code",
   "execution_count": 40,
   "metadata": {},
   "outputs": [
    {
     "name": "stdout",
     "output_type": "stream",
     "text": [
      "Enter a list: [1, 7, 9, 10]\n",
      "Enter anoyher list: [2, 7, 6, 5]\n",
      "Sorted list = [1, 2, 5, 6, 7, 7, 9, 10]\n",
      "Median =  6.5\n"
     ]
    }
   ],
   "source": [
    "#todo\n",
    "\n",
    "list_one = input(\"Enter a list: \")\n",
    "list_one = list_one[1:-1]\n",
    "list_one = list_one.split(\", \")\n",
    "\n",
    "list_two = input(\"Enter anoyher list: \")\n",
    "list_two = list_two[1:-1]\n",
    "list_two = list_two.split(\", \")\n",
    "\n",
    "my_list = []\n",
    "\n",
    "for i in range(len(list_one)):\n",
    "    my_list.append(int(list_one[i]))\n",
    "\n",
    "for i in range(len(list_two)):\n",
    "    my_list.append(int(list_two[i]))\n",
    "\n",
    "for i in range (len(my_list)):\n",
    "    min_index = i\n",
    "    \n",
    "    for j in range (i+1, (len(my_list))):\n",
    "        if my_list[j] < my_list[min_index]:\n",
    "            min_index = j\n",
    "            \n",
    "    temp = my_list[min_index]\n",
    "    my_list[min_index] = my_list[i]\n",
    "    my_list[i] = temp\n",
    "    \n",
    "print(\"Sorted list =\",my_list)\n",
    "\n",
    "mid = len(my_list)// 2\n",
    "n = len(my_list) - 1\n",
    "if len(my_list) % 2 == 0:\n",
    "    med = (my_list[int(n/2)] + my_list[int((n/2)+1)]) / 2\n",
    "else:\n",
    "    med = my_list[int((n+1)/2)]\n",
    "\n",
    "print('Median = ',med)"
   ]
  },
  {
   "cell_type": "markdown",
   "metadata": {
    "id": "-XKiwBR1HEl8"
   },
   "source": [
    "### Task 8\n",
    "\n",
    "\n",
    "Write a python program that takes a list from user containing both positive and negative numbers. The program then finds two pairs of values whose summation is closest to zero.\n",
    "\n",
    "=====================================================\n",
    "\n",
    "**Sample Input 1**<br/>\n",
    "list_one = [-10, 15, 2, 4, -4, 7, -8] \n",
    "\n",
    "\n",
    "**Sample Output 1**<br/>\n",
    "Two pairs which have the smallest sum = 4 and -4\n",
    "\n",
    "=====================================================\n",
    "\n",
    "\n",
    "**Sample Input 2**<br/>\n",
    "list_one = [1, -8, 4, -7, -20, 26, 70, -85]\n",
    "\n",
    "\n",
    "**Sample Output 2**<br/>\n",
    "Two pairs which have the smallest sum = 4 and -7"
   ]
  },
  {
   "cell_type": "code",
   "execution_count": 8,
   "metadata": {
    "id": "5ORSGa5GHEl9"
   },
   "outputs": [
    {
     "name": "stdout",
     "output_type": "stream",
     "text": [
      "[1, -8, 4, -7, -20, 26, 70, -85]\n",
      "Two pairs which have the smallest sum = 4 and -7\n"
     ]
    }
   ],
   "source": [
    "#todo\n",
    "import math\n",
    "string1 = input()\n",
    "list1 = string1[1:-1].split(\", \")\n",
    "list2 = []\n",
    "value1 = 0\n",
    "value2 = 0\n",
    "min_diff = math.inf\n",
    "# print(list1)\n",
    "for i in range(0,len(list1),1):\n",
    "    list2.append(int(list1[i]))\n",
    "    \n",
    "# print(list2)\n",
    "for j in range(0,len(list2),1):\n",
    "    for k in range(0,len(list2),1):\n",
    "        if k == j:\n",
    "            continue\n",
    "        sum = list2[j]+list2[k]\n",
    "        diff = (sum-0)\n",
    "        if diff < 0:\n",
    "            diff = diff*(-1)\n",
    "        if diff < min_diff:\n",
    "            min_diff = diff\n",
    "            value1 = list2[j]\n",
    "            value2 = list2[k]\n",
    "\n",
    "print(\"Two pairs which have the smallest sum =\", value1, \"and\" ,value2)"
   ]
  },
  {
   "cell_type": "markdown",
   "metadata": {},
   "source": [
    "### Task 9\n",
    "\n",
    "You will be given a list of tuples where each tuple indicates a point i.e. (x, y) in a 2-dimensional coordinate system.\n",
    "\n",
    "You need to write a python program to find the minimum distance and the point that is closest to the origin i.e. (0,0)\n",
    "\n",
    "=====================================================\n",
    "\n",
    "**Hint:**<br/>\n",
    "\n",
    "The formula of distance = √((Δx)2+(Δy)2) <br/>\n",
    "As you are calculating the distance from the origin (0,0), you can simply use distance = √(x2+y2)\n",
    "\n",
    "You can create a list of distances from each point and sort that list using your personal favourite sorting algorithm.\n",
    "\n",
    "=====================================================\n",
    "\n",
    "**Sample Input 1**<br/>\n",
    "points = [(5,3), (2,9), (-2,7), (-3,-4), (0,6), (7,-2)]\n",
    "\n",
    "**Sample Output 1**<br/>\n",
    "Minimum distance = 5.0 <br/>\n",
    "Here the closest point is (-3,-4) which has a distance of 5.0 from the origin.\n",
    "\n",
    "=====================================================\n",
    "\n",
    "**Sample Input 2**<br/>\n",
    "points = [(1,7), (4,5), (-1,7), (-2,0), (1,1), (5,-1)]\n",
    "\n",
    "**Sample Output 2**<br/>\n",
    "Minimum distance = 1.4142135623730951 <br/>\n",
    "Here the closest point is (1,1) which has a distance of 1.4142135623730951 from the origin."
   ]
  },
  {
   "cell_type": "code",
   "execution_count": 14,
   "metadata": {},
   "outputs": [
    {
     "name": "stdout",
     "output_type": "stream",
     "text": [
      "Minimum distance = 5.0\n",
      "Here the closest point is (-3, -4) which has a distance of 5.0 from the origin.\n"
     ]
    }
   ],
   "source": [
    "points = [(5,3), (2,9), (-2,7), (-3,-4), (0,6), (7,-2)]\n",
    "list1=[]\n",
    "for i in points:\n",
    "  a,b=i\n",
    "  dis=(a**2+b**2) ** (1/2)\n",
    "  list1.append(dis)\n",
    "\n",
    "min = list1[0]\n",
    "for i in range(len(list1)):\n",
    "  c = list1[i]\n",
    "  if (c < min):\n",
    "    min = c\n",
    "    index = i\n",
    "print(f'Minimum distance = {min}')\n",
    "print(f'Here the closest point is {points[index]} which has a distance of {min} from the origin.')"
   ]
  }
 ],
 "metadata": {
  "colab": {
   "collapsed_sections": [],
   "name": "21201613_CSE110_Lab_Assignment_7.ipynb",
   "provenance": []
  },
  "kernelspec": {
   "display_name": "Python 3",
   "language": "python",
   "name": "python3"
  },
  "language_info": {
   "codemirror_mode": {
    "name": "ipython",
    "version": 3
   },
   "file_extension": ".py",
   "mimetype": "text/x-python",
   "name": "python",
   "nbconvert_exporter": "python",
   "pygments_lexer": "ipython3",
   "version": "3.8.8"
  }
 },
 "nbformat": 4,
 "nbformat_minor": 1
}
