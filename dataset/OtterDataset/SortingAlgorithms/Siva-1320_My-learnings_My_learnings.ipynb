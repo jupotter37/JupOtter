{
  "nbformat": 4,
  "nbformat_minor": 0,
  "metadata": {
    "colab": {
      "provenance": []
    },
    "kernelspec": {
      "name": "python3",
      "display_name": "Python 3"
    },
    "language_info": {
      "name": "python"
    }
  },
  "cells": [
    {
      "cell_type": "code",
      "execution_count": 1,
      "metadata": {
        "colab": {
          "base_uri": "https://localhost:8080/"
        },
        "id": "T-wyVAU1uibn",
        "outputId": "79bc6c76-2429-454a-9cda-843befd3849a"
      },
      "outputs": [
        {
          "output_type": "stream",
          "name": "stdout",
          "text": [
            "3.10.12 (main, Jul 29 2024, 16:56:48) [GCC 11.4.0]\n"
          ]
        }
      ],
      "source": [
        "import sys\n",
        "print(sys.version)\n"
      ]
    },
    {
      "cell_type": "markdown",
      "source": [
        "addition\n"
      ],
      "metadata": {
        "id": "By5f2GnqvLJ6"
      }
    },
    {
      "cell_type": "code",
      "source": [
        "#Addition of 2 numbers\n",
        "a=2\n",
        "b=3\n",
        "c=a+b\n",
        "print(\"c value is \",c)"
      ],
      "metadata": {
        "colab": {
          "base_uri": "https://localhost:8080/"
        },
        "id": "wrolc-axvV1-",
        "outputId": "aa5a9e91-83b5-427c-b871-7b3018415a3e"
      },
      "execution_count": 12,
      "outputs": [
        {
          "output_type": "stream",
          "name": "stdout",
          "text": [
            "c value is  5\n"
          ]
        }
      ]
    },
    {
      "cell_type": "code",
      "source": [
        "a=5\n",
        "c=a+b\n",
        "print(\"c value is \",c)"
      ],
      "metadata": {
        "colab": {
          "base_uri": "https://localhost:8080/"
        },
        "id": "uW45sXdTvde2",
        "outputId": "f98c0645-7591-47dc-a9fa-51fd01aab281"
      },
      "execution_count": 10,
      "outputs": [
        {
          "output_type": "stream",
          "name": "stdout",
          "text": [
            "c value is  8\n"
          ]
        }
      ]
    },
    {
      "cell_type": "code",
      "source": [
        "# prompt: am preparing for interview , explain all the important concepts with examples and programs\n",
        "\n",
        "# **1. Data Structures**\n",
        "\n",
        "# * Lists: Ordered, mutable sequences of elements.\n",
        "my_list = [1, 2, \"apple\", 3.14]\n",
        "print(my_list[2])  # Output: \"apple\"\n",
        "my_list.append(\"banana\")\n",
        "print(my_list)  # Output: [1, 2, \"apple\", 3.14, \"banana\"]\n",
        "\n",
        "# * Tuples: Ordered, immutable sequences of elements.\n",
        "my_tuple = (10, 20, \"orange\")\n",
        "print(my_tuple[0])  # Output: 10\n",
        "# my_tuple[1] = 30  # This would cause an error, tuples are immutable\n",
        "\n",
        "# * Dictionaries: Unordered collections of key-value pairs.\n",
        "my_dict = {\"name\": \"Alice\", \"age\": 30, \"city\": \"New York\"}\n",
        "print(my_dict[\"name\"])  # Output: \"Alice\"\n",
        "my_dict[\"profession\"] = \"Software Engineer\"\n",
        "print(my_dict)\n",
        "\n",
        "# * Sets: Unordered collections of unique elements.\n",
        "my_set = {1, 2, 3, 3, 4}  # Duplicates are automatically removed\n",
        "print(my_set)  # Output: {1, 2, 3, 4}\n",
        "my_set.add(5)\n",
        "print(my_set)  # Output: {1, 2, 3, 4, 5}\n",
        "\n",
        "# **2. Control Flow**\n",
        "\n",
        "# * Conditional Statements (if, elif, else):\n",
        "num = 15\n",
        "if num > 10:\n",
        "  print(\"Number is greater than 10\")\n",
        "elif num == 10:\n",
        "  print(\"Number is equal to 10\")\n",
        "else:\n",
        "  print(\"Number is less than 10\")\n",
        "\n",
        "# * Loops (for, while):\n",
        "for i in range(5):\n",
        "  print(i)  # Output: 0 1 2 3 4\n",
        "\n",
        "count = 0\n",
        "while count < 3:\n",
        "  print(\"Count:\", count)\n",
        "  count += 1\n",
        "\n",
        "# **3. Functions**\n",
        "\n",
        "def greet(name):\n",
        "  print(\"Hello,\", name + \"!\")\n",
        "\n",
        "greet(\"Bob\")  # Output: \"Hello, Bob!\"\n",
        "\n",
        "def add(x, y):\n",
        "  return x + y\n",
        "\n",
        "result = add(5, 7)\n",
        "print(result)  # Output: 12\n",
        "\n",
        "# **4. Object-Oriented Programming (OOP)**\n",
        "\n",
        "class Dog:\n",
        "  def __init__(self, name, breed):\n",
        "    self.name = name\n",
        "    self.breed = breed\n",
        "\n",
        "  def bark(self):\n",
        "    print(\"Woof!\")\n",
        "\n",
        "my_dog = Dog(\"Buddy\", \"Golden Retriever\")\n",
        "print(my_dog.name)  # Output: \"Buddy\"\n",
        "my_dog.bark()  # Output: \"Woof!\"\n",
        "\n",
        "# **5. Common Algorithms and Concepts**\n",
        "\n",
        "# * Sorting Algorithms (Bubble Sort, Merge Sort, Quick Sort, etc.)\n",
        "# * Searching Algorithms (Linear Search, Binary Search)\n",
        "# * Recursion\n",
        "# * Big O Notation (Time and Space Complexity)\n",
        "\n",
        "# **Example: Bubble Sort**\n",
        "\n",
        "def bubble_sort(arr):\n",
        "  n = len(arr)\n",
        "  for i in range(n - 1):\n",
        "    for j in range(0, n - i - 1):\n",
        "      if arr[j] > arr[j + 1]:\n",
        "        arr[j], arr[j + 1] = arr[j + 1], arr[j]\n",
        "\n",
        "numbers = [5, 3, 8, 6, 7, 2]\n",
        "bubble_sort(numbers)\n",
        "print(numbers)  # Output: [2, 3, 5, 6, 7, 8]\n",
        "\n",
        "# **Remember to practice coding regularly and focus on understanding the underlying concepts.**\n",
        "# **Good luck with your interview preparation!**\n"
      ],
      "metadata": {
        "id": "o24yDMfJvgUt"
      },
      "execution_count": null,
      "outputs": []
    },
    {
      "cell_type": "code",
      "source": [
        "if a>2:\n",
        "  print(\"a is greather than 2\")\n",
        ""
      ],
      "metadata": {
        "colab": {
          "base_uri": "https://localhost:8080/"
        },
        "id": "4xndM1E2zTtx",
        "outputId": "67cdf33a-d3f0-405b-abae-ce77f7eba21b"
      },
      "execution_count": 11,
      "outputs": [
        {
          "output_type": "stream",
          "name": "stdout",
          "text": [
            "a is greather than 2\n"
          ]
        }
      ]
    },
    {
      "cell_type": "code",
      "source": [
        "5%2"
      ],
      "metadata": {
        "colab": {
          "base_uri": "https://localhost:8080/"
        },
        "id": "15X2vxa2zphc",
        "outputId": "efed9180-7ca3-490f-9b64-d77e14b994ec"
      },
      "execution_count": 13,
      "outputs": [
        {
          "output_type": "execute_result",
          "data": {
            "text/plain": [
              "1"
            ]
          },
          "metadata": {},
          "execution_count": 13
        }
      ]
    },
    {
      "cell_type": "code",
      "source": [
        "#Floor division\n",
        "5//2"
      ],
      "metadata": {
        "colab": {
          "base_uri": "https://localhost:8080/"
        },
        "id": "UDh-LKWb2nk_",
        "outputId": "b072cf60-0862-48cc-835e-19b289643adc"
      },
      "execution_count": 20,
      "outputs": [
        {
          "output_type": "execute_result",
          "data": {
            "text/plain": [
              "2"
            ]
          },
          "metadata": {},
          "execution_count": 20
        }
      ]
    },
    {
      "cell_type": "code",
      "source": [
        "8//4"
      ],
      "metadata": {
        "colab": {
          "base_uri": "https://localhost:8080/"
        },
        "id": "KUFqrJQp2vdZ",
        "outputId": "aeeef007-f7a0-4712-adde-039aba2601a9"
      },
      "execution_count": 15,
      "outputs": [
        {
          "output_type": "execute_result",
          "data": {
            "text/plain": [
              "2"
            ]
          },
          "metadata": {},
          "execution_count": 15
        }
      ]
    },
    {
      "cell_type": "code",
      "source": [
        "9//4"
      ],
      "metadata": {
        "colab": {
          "base_uri": "https://localhost:8080/"
        },
        "id": "p0KzgIIB2zFI",
        "outputId": "3a0f6d2e-2af8-41c7-c64d-3c7676fa0f24"
      },
      "execution_count": 16,
      "outputs": [
        {
          "output_type": "execute_result",
          "data": {
            "text/plain": [
              "2"
            ]
          },
          "metadata": {},
          "execution_count": 16
        }
      ]
    },
    {
      "cell_type": "code",
      "source": [
        "13//4"
      ],
      "metadata": {
        "colab": {
          "base_uri": "https://localhost:8080/"
        },
        "id": "N3Xi904V21cV",
        "outputId": "3a28f711-f605-4737-eb63-dcad2e031e37"
      },
      "execution_count": 17,
      "outputs": [
        {
          "output_type": "execute_result",
          "data": {
            "text/plain": [
              "3"
            ]
          },
          "metadata": {},
          "execution_count": 17
        }
      ]
    },
    {
      "cell_type": "code",
      "source": [
        "#Exponential **\n",
        "\n",
        "2**2"
      ],
      "metadata": {
        "colab": {
          "base_uri": "https://localhost:8080/"
        },
        "id": "c1V0sD5H23QG",
        "outputId": "fcea798a-cc1d-4a06-b50a-c38a245f1d50"
      },
      "execution_count": 21,
      "outputs": [
        {
          "output_type": "execute_result",
          "data": {
            "text/plain": [
              "4"
            ]
          },
          "metadata": {},
          "execution_count": 21
        }
      ]
    },
    {
      "cell_type": "code",
      "source": [
        "d=3\n",
        "e=3\n",
        "\n",
        "if d==e:\n",
        "\n",
        "print(\"d and e are equal\")"
      ],
      "metadata": {
        "colab": {
          "base_uri": "https://localhost:8080/",
          "height": 106
        },
        "id": "z5Ie4zZM2-jq",
        "outputId": "071cef28-9bde-400f-bacf-a3caac4e0765"
      },
      "execution_count": 23,
      "outputs": [
        {
          "output_type": "error",
          "ename": "IndentationError",
          "evalue": "expected an indented block after 'if' statement on line 4 (<ipython-input-23-2b61d2c6b8ac>, line 6)",
          "traceback": [
            "\u001b[0;36m  File \u001b[0;32m\"<ipython-input-23-2b61d2c6b8ac>\"\u001b[0;36m, line \u001b[0;32m6\u001b[0m\n\u001b[0;31m    print(\"d and e are equal\")\u001b[0m\n\u001b[0m    ^\u001b[0m\n\u001b[0;31mIndentationError\u001b[0m\u001b[0;31m:\u001b[0m expected an indented block after 'if' statement on line 4\n"
          ]
        }
      ]
    },
    {
      "cell_type": "code",
      "source": [
        "d=3\n",
        "e=3\n",
        "\n",
        "if d==e:\n",
        "    # Indent the print statement to be part of the if block\n",
        "    print(\"d and e are equal\")"
      ],
      "metadata": {
        "colab": {
          "base_uri": "https://localhost:8080/"
        },
        "id": "iNAOkRIk3ueF",
        "outputId": "e1a27bf1-6960-42c7-ac81-222431725204"
      },
      "execution_count": 24,
      "outputs": [
        {
          "output_type": "stream",
          "name": "stdout",
          "text": [
            "d and e are equal\n"
          ]
        }
      ]
    },
    {
      "cell_type": "code",
      "source": [
        "is_greater = (10 > 5)\n",
        "print(is_greater)"
      ],
      "metadata": {
        "colab": {
          "base_uri": "https://localhost:8080/"
        },
        "id": "8ijNm7Rq3X5j",
        "outputId": "8c5428e1-87d8-4e26-dfac-a7bc739553a9"
      },
      "execution_count": 28,
      "outputs": [
        {
          "output_type": "stream",
          "name": "stdout",
          "text": [
            "True\n"
          ]
        }
      ]
    },
    {
      "cell_type": "code",
      "source": [
        "is_greater"
      ],
      "metadata": {
        "colab": {
          "base_uri": "https://localhost:8080/"
        },
        "id": "mVFbs4pI3-Fw",
        "outputId": "609e034b-37b4-423d-e4f4-373e1bff9a3e"
      },
      "execution_count": 26,
      "outputs": [
        {
          "output_type": "execute_result",
          "data": {
            "text/plain": [
              "True"
            ]
          },
          "metadata": {},
          "execution_count": 26
        }
      ]
    },
    {
      "cell_type": "code",
      "source": [],
      "metadata": {
        "id": "HVOzqo0S4Epr"
      },
      "execution_count": null,
      "outputs": []
    },
    {
      "cell_type": "markdown",
      "source": [
        "AND\n",
        "A B=C\n",
        "0 0 = 0\n",
        "\n",
        "0 1= 0\n",
        "\n",
        "1 0 =0\n",
        "\n",
        "1 1 =1"
      ],
      "metadata": {
        "id": "1HMzHbuW4oei"
      }
    },
    {
      "cell_type": "markdown",
      "source": [
        "or\n",
        "\n",
        "0 0 = 0\n",
        "\n",
        "0 1 =1\n",
        "\n",
        "1 0=1\n",
        "\n",
        "1 1 =0"
      ],
      "metadata": {
        "id": "d7nBJGac5Aw2"
      }
    },
    {
      "cell_type": "code",
      "source": [
        "a = input(\" enter the value of a: \")\n",
        "b=float(a)+5\n",
        "float(b)\n"
      ],
      "metadata": {
        "colab": {
          "base_uri": "https://localhost:8080/"
        },
        "id": "x9vCIbqR46t9",
        "outputId": "18710bc7-1047-4468-c676-209ce7fd529b"
      },
      "execution_count": 39,
      "outputs": [
        {
          "name": "stdout",
          "output_type": "stream",
          "text": [
            " enter the value of a: 4\n"
          ]
        },
        {
          "output_type": "execute_result",
          "data": {
            "text/plain": [
              "9.0"
            ]
          },
          "metadata": {},
          "execution_count": 39
        }
      ]
    },
    {
      "cell_type": "code",
      "source": [],
      "metadata": {
        "id": "UIQMZ2DN5uE5"
      },
      "execution_count": 39,
      "outputs": []
    },
    {
      "cell_type": "code",
      "source": [],
      "metadata": {
        "id": "lnogQiEw51Jc"
      },
      "execution_count": null,
      "outputs": []
    }
  ]
}