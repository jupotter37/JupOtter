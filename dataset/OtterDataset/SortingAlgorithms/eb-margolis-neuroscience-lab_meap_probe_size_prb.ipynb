{
 "cells": [
  {
   "cell_type": "markdown",
   "id": "08772d69-c7de-42b0-86c2-cb418ec8ebd5",
   "metadata": {},
   "source": [
    "## Create new probe.prb for small probe"
   ]
  },
  {
   "cell_type": "markdown",
   "id": "24841654-67f0-4277-abc1-dac3f1a2b039",
   "metadata": {},
   "source": [
    "This notebook contains code for generating the geometric coodinates for a square grid of a MED64 array to be used for the Spyking Circus spike sorting algorithm."
   ]
  },
  {
   "cell_type": "markdown",
   "id": "7764be5f-df45-4aaa-8b48-148bfeb679ed",
   "metadata": {},
   "source": [
    "\n",
    "Small array (0.7 x 0.7mm) - spacing: 100um; electrode size: 20 x 20um.\n",
    "\n",
    "Big array (1.0 x 1.0mm) - spacing: 150um; electrode size: 50 x 50um."
   ]
  },
  {
   "cell_type": "markdown",
   "id": "43ae7c6c-a59e-44ae-97a8-63e013071a7b",
   "metadata": {},
   "source": [
    "[Spyking Circus documentation for probe file](https://spyking-circus.readthedocs.io/en/latest/code/probe.html)\n",
    "\n",
    "```python\n",
    "# probe.prb file data is formated as dict as follows (example uses Big array):\n",
    "\n",
    "prb = {'geometry':  {\n",
    "               0: [0.0, 0.0],\n",
    "               1: [0.0, 150.0],\n",
    "               2: [0.0, 300.0],\n",
    "               3: [0.0, 450.0],\n",
    "               4: [0.0, 600.0],\n",
    "               5: [0.0, 750.0],\n",
    "               6: [0.0, 900.0],\n",
    "               7: [0.0, 1050.0],\n",
    "               8: [150.0, 0.0],\n",
    "               9: [150.0, 150.0],\n",
    "               10: [150.0, 300.0],\n",
    "               11: [150.0, 450.0],\n",
    "               12: [150.0, 600.0],\n",
    "               13: [150.0, 750.0],\n",
    "               14: [150.0, 900.0],\n",
    "               15: [150.0, 1050.0],\n",
    "               16: [300.0, 0.0],\n",
    "               17: [300.0, 150.0],\n",
    "               18: [300.0, 300.0],\n",
    "               19: [300.0, 450.0],\n",
    "               20: [300.0, 600.0],\n",
    "               21: [300.0, 750.0],\n",
    "               22: [300.0, 900.0],\n",
    "               23: [300.0, 1050.0],\n",
    "               24: [450.0, 0.0],\n",
    "               25: [450.0, 150.0],\n",
    "               26: [450.0, 300.0],\n",
    "               27: [450.0, 450.0],\n",
    "               28: [450.0, 600.0],\n",
    "               29: [450.0, 750.0],\n",
    "               30: [450.0, 900.0],\n",
    "               31: [450.0, 1050.0],\n",
    "               32: [600.0, 0.0],\n",
    "               33: [600.0, 150.0],\n",
    "               34: [600.0, 300.0],\n",
    "               35: [600.0, 450.0],\n",
    "               36: [600.0, 600.0],\n",
    "               37: [600.0, 750.0],\n",
    "               38: [600.0, 900.0],\n",
    "               39: [600.0, 1050.0],\n",
    "               40: [750.0, 0.0],\n",
    "               41: [750.0, 150.0],\n",
    "               42: [750.0, 300.0],\n",
    "               43: [750.0, 450.0],\n",
    "               44: [750.0, 600.0],\n",
    "               45: [750.0, 750.0],\n",
    "               46: [750.0, 900.0],\n",
    "               47: [750.0, 1050.0],\n",
    "               48: [900.0, 0.0],\n",
    "               49: [900.0, 150.0],\n",
    "               50: [900.0, 300.0],\n",
    "               51: [900.0, 450.0],\n",
    "               52: [900.0, 600.0],\n",
    "               53: [900.0, 750.0],\n",
    "               54: [900.0, 900.0],\n",
    "               55: [900.0, 1050.0],\n",
    "               56: [1050.0, 0.0],\n",
    "               57: [1050.0, 150.0],\n",
    "               58: [1050.0, 300.0],\n",
    "               59: [1050.0, 450.0],\n",
    "               60: [1050.0, 600.0],\n",
    "               61: [1050.0, 750.0],\n",
    "               62: [1050.0, 900.0],\n",
    "               63: [1050.0, 1050.0],\n",
    "           }\n",
    "      }\n",
    "```"
   ]
  },
  {
   "cell_type": "code",
   "execution_count": 2,
   "id": "58c01289-f796-4680-b1d9-28ac94ede5c8",
   "metadata": {},
   "outputs": [],
   "source": [
    "import numpy as np\n",
    "\n",
    "# create list of electrode spacings\n",
    "lg_dist = [float(n) for n in list(range(0, 1200, 150))]\n",
    "sm_dist = [float(n) for n in list(range(0, 800, 100))]\n",
    "\n",
    "# initialize dicts of probe geometry\n",
    "prb_sm = {'geometry': dict()}\n",
    "prb_lg = {'geometry': dict()}\n",
    "\n",
    "       \n",
    "for ch in range(64):   # prb['geometry'].keys():\n",
    "    row = int(np.floor(ch/8))\n",
    "    col =  ch % 8\n",
    "    prb_sm['geometry'][ch] = list([sm_dist[row] , sm_dist[col]])\n",
    "    prb_lg['geometry'][ch] = list([lg_dist[row] , lg_dist[col]])"
   ]
  },
  {
   "cell_type": "markdown",
   "id": "3374be49-7c16-4753-88ec-797db00a14ac",
   "metadata": {},
   "source": [
    "## Display new output that can be copied and pasted into the probe.prb file"
   ]
  },
  {
   "cell_type": "code",
   "execution_count": 3,
   "id": "e887b409-a887-431f-a37f-15ce8c0573ea",
   "metadata": {
    "tags": []
   },
   "outputs": [
    {
     "data": {
      "text/plain": [
       "{'geometry': {0: [0.0, 0.0],\n",
       "  1: [0.0, 100.0],\n",
       "  2: [0.0, 200.0],\n",
       "  3: [0.0, 300.0],\n",
       "  4: [0.0, 400.0],\n",
       "  5: [0.0, 500.0],\n",
       "  6: [0.0, 600.0],\n",
       "  7: [0.0, 700.0],\n",
       "  8: [100.0, 0.0],\n",
       "  9: [100.0, 100.0],\n",
       "  10: [100.0, 200.0],\n",
       "  11: [100.0, 300.0],\n",
       "  12: [100.0, 400.0],\n",
       "  13: [100.0, 500.0],\n",
       "  14: [100.0, 600.0],\n",
       "  15: [100.0, 700.0],\n",
       "  16: [200.0, 0.0],\n",
       "  17: [200.0, 100.0],\n",
       "  18: [200.0, 200.0],\n",
       "  19: [200.0, 300.0],\n",
       "  20: [200.0, 400.0],\n",
       "  21: [200.0, 500.0],\n",
       "  22: [200.0, 600.0],\n",
       "  23: [200.0, 700.0],\n",
       "  24: [300.0, 0.0],\n",
       "  25: [300.0, 100.0],\n",
       "  26: [300.0, 200.0],\n",
       "  27: [300.0, 300.0],\n",
       "  28: [300.0, 400.0],\n",
       "  29: [300.0, 500.0],\n",
       "  30: [300.0, 600.0],\n",
       "  31: [300.0, 700.0],\n",
       "  32: [400.0, 0.0],\n",
       "  33: [400.0, 100.0],\n",
       "  34: [400.0, 200.0],\n",
       "  35: [400.0, 300.0],\n",
       "  36: [400.0, 400.0],\n",
       "  37: [400.0, 500.0],\n",
       "  38: [400.0, 600.0],\n",
       "  39: [400.0, 700.0],\n",
       "  40: [500.0, 0.0],\n",
       "  41: [500.0, 100.0],\n",
       "  42: [500.0, 200.0],\n",
       "  43: [500.0, 300.0],\n",
       "  44: [500.0, 400.0],\n",
       "  45: [500.0, 500.0],\n",
       "  46: [500.0, 600.0],\n",
       "  47: [500.0, 700.0],\n",
       "  48: [600.0, 0.0],\n",
       "  49: [600.0, 100.0],\n",
       "  50: [600.0, 200.0],\n",
       "  51: [600.0, 300.0],\n",
       "  52: [600.0, 400.0],\n",
       "  53: [600.0, 500.0],\n",
       "  54: [600.0, 600.0],\n",
       "  55: [600.0, 700.0],\n",
       "  56: [700.0, 0.0],\n",
       "  57: [700.0, 100.0],\n",
       "  58: [700.0, 200.0],\n",
       "  59: [700.0, 300.0],\n",
       "  60: [700.0, 400.0],\n",
       "  61: [700.0, 500.0],\n",
       "  62: [700.0, 600.0],\n",
       "  63: [700.0, 700.0]}}"
      ]
     },
     "execution_count": 3,
     "metadata": {},
     "output_type": "execute_result"
    }
   ],
   "source": [
    "prb_sm"
   ]
  },
  {
   "cell_type": "code",
   "execution_count": 4,
   "id": "45f9d102-71ae-48c8-8eb0-76e20d55c584",
   "metadata": {},
   "outputs": [
    {
     "name": "stdout",
     "output_type": "stream",
     "text": [
      "{0: {'channels': [0, 1, 2, 3, 4, 5, 6, 7, 8, 9, 10, 11, 12, 13, 14, 15, 16, 17, 18, 19, 20, 21, 22, 23, 24, 25, 26, 27, 28, 29, 30, 31, 32, 33, 34, 35, 36, 37, 38, 39, 40, 41, 42, 43, 44, 45, 46, 47, 48, 49, 50, 51, 52, 53, 54, 55, 56, 57, 58, 59, 60, 61, 62, 63]}}\n"
     ]
    }
   ],
   "source": [
    "channel_groups = {0: {'channels': list(range(64))}}\n",
    "print(channel_groups)"
   ]
  },
  {
   "cell_type": "markdown",
   "id": "c3683b76-0f88-4036-87ed-d399b03159ec",
   "metadata": {},
   "source": [
    "## Create strings for full probe.prb file"
   ]
  },
  {
   "cell_type": "code",
   "execution_count": 5,
   "id": "66a0440d-cbd0-4776-8ecb-821e72b3863e",
   "metadata": {},
   "outputs": [],
   "source": [
    "spaces_per_tab = 4\n",
    "\n",
    "header = \"\"\"total_nb_channels = 64\n",
    "radius = 100\n",
    "channel_groups = {\"\"\" + \\\n",
    "f\"\\n{' ' * 1 * spaces_per_tab}0:\" + \\\n",
    "f\"\\n{' ' * 2 * spaces_per_tab}\" + \"{\" + \\\n",
    "f\"\\n{' ' * 3 * spaces_per_tab}'channels': \" + f\"{list(range(64))},\" + \\\n",
    "f\"\\n{' ' * 3 * spaces_per_tab}'geometry': \" + \"{\\n\"\n",
    "\n",
    "footer = f\"{' ' * 3 * spaces_per_tab}\" + \"}\" + \\\n",
    "f\"\\n{' ' * 2 * spaces_per_tab}\" + \"},\" + \\\n",
    "f\"\\n{' ' * 0 * spaces_per_tab}\" + \"}\""
   ]
  },
  {
   "cell_type": "code",
   "execution_count": 6,
   "id": "af4eee10-43cf-4e78-a566-50394439acfe",
   "metadata": {},
   "outputs": [],
   "source": [
    "geom_list = list()\n",
    "for line in [(k, v) for k,v in prb_sm['geometry'].items()]:\n",
    "    geom_line_str = f\"{' ' * 4 * spaces_per_tab}\" + f\"{line[0]}: \" + f\"{line[1]},\"\n",
    "    # print(geom_line_str)\n",
    "    geom_list.append(geom_line_str)\n",
    "geom_probe = \"\\n\".join(geom_list) + \"\\n\""
   ]
  },
  {
   "cell_type": "code",
   "execution_count": 7,
   "id": "390ff490-fa44-4126-bcdc-99538997cc05",
   "metadata": {
    "tags": []
   },
   "outputs": [
    {
     "name": "stdout",
     "output_type": "stream",
     "text": [
      "total_nb_channels = 64\n",
      "radius = 100\n",
      "channel_groups = {\n",
      "    0:\n",
      "        {\n",
      "            'channels': [0, 1, 2, 3, 4, 5, 6, 7, 8, 9, 10, 11, 12, 13, 14, 15, 16, 17, 18, 19, 20, 21, 22, 23, 24, 25, 26, 27, 28, 29, 30, 31, 32, 33, 34, 35, 36, 37, 38, 39, 40, 41, 42, 43, 44, 45, 46, 47, 48, 49, 50, 51, 52, 53, 54, 55, 56, 57, 58, 59, 60, 61, 62, 63],\n",
      "            'geometry': {\n",
      "                0: [0.0, 0.0],\n",
      "                1: [0.0, 100.0],\n",
      "                2: [0.0, 200.0],\n",
      "                3: [0.0, 300.0],\n",
      "                4: [0.0, 400.0],\n",
      "                5: [0.0, 500.0],\n",
      "                6: [0.0, 600.0],\n",
      "                7: [0.0, 700.0],\n",
      "                8: [100.0, 0.0],\n",
      "                9: [100.0, 100.0],\n",
      "                10: [100.0, 200.0],\n",
      "                11: [100.0, 300.0],\n",
      "                12: [100.0, 400.0],\n",
      "                13: [100.0, 500.0],\n",
      "                14: [100.0, 600.0],\n",
      "                15: [100.0, 700.0],\n",
      "                16: [200.0, 0.0],\n",
      "                17: [200.0, 100.0],\n",
      "                18: [200.0, 200.0],\n",
      "                19: [200.0, 300.0],\n",
      "                20: [200.0, 400.0],\n",
      "                21: [200.0, 500.0],\n",
      "                22: [200.0, 600.0],\n",
      "                23: [200.0, 700.0],\n",
      "                24: [300.0, 0.0],\n",
      "                25: [300.0, 100.0],\n",
      "                26: [300.0, 200.0],\n",
      "                27: [300.0, 300.0],\n",
      "                28: [300.0, 400.0],\n",
      "                29: [300.0, 500.0],\n",
      "                30: [300.0, 600.0],\n",
      "                31: [300.0, 700.0],\n",
      "                32: [400.0, 0.0],\n",
      "                33: [400.0, 100.0],\n",
      "                34: [400.0, 200.0],\n",
      "                35: [400.0, 300.0],\n",
      "                36: [400.0, 400.0],\n",
      "                37: [400.0, 500.0],\n",
      "                38: [400.0, 600.0],\n",
      "                39: [400.0, 700.0],\n",
      "                40: [500.0, 0.0],\n",
      "                41: [500.0, 100.0],\n",
      "                42: [500.0, 200.0],\n",
      "                43: [500.0, 300.0],\n",
      "                44: [500.0, 400.0],\n",
      "                45: [500.0, 500.0],\n",
      "                46: [500.0, 600.0],\n",
      "                47: [500.0, 700.0],\n",
      "                48: [600.0, 0.0],\n",
      "                49: [600.0, 100.0],\n",
      "                50: [600.0, 200.0],\n",
      "                51: [600.0, 300.0],\n",
      "                52: [600.0, 400.0],\n",
      "                53: [600.0, 500.0],\n",
      "                54: [600.0, 600.0],\n",
      "                55: [600.0, 700.0],\n",
      "                56: [700.0, 0.0],\n",
      "                57: [700.0, 100.0],\n",
      "                58: [700.0, 200.0],\n",
      "                59: [700.0, 300.0],\n",
      "                60: [700.0, 400.0],\n",
      "                61: [700.0, 500.0],\n",
      "                62: [700.0, 600.0],\n",
      "                63: [700.0, 700.0],\n",
      "            }\n",
      "        },\n",
      "}\n"
     ]
    }
   ],
   "source": [
    "print(header + geom_probe + footer)"
   ]
  },
  {
   "cell_type": "code",
   "execution_count": 8,
   "id": "d9151f6f-986f-4cb5-8ea3-930ce5bf1307",
   "metadata": {},
   "outputs": [],
   "source": [
    "with open(\"probe_new.prb\", \"w\") as text_file:\n",
    "    text_file.write(header +geom_probe + footer)"
   ]
  },
  {
   "cell_type": "code",
   "execution_count": null,
   "id": "2c291ec1-01d6-41bc-be11-57214708fe8e",
   "metadata": {},
   "outputs": [],
   "source": []
  }
 ],
 "metadata": {
  "kernelspec": {
   "display_name": "Python 3 (ipykernel)",
   "language": "python",
   "name": "python3"
  },
  "language_info": {
   "codemirror_mode": {
    "name": "ipython",
    "version": 3
   },
   "file_extension": ".py",
   "mimetype": "text/x-python",
   "name": "python",
   "nbconvert_exporter": "python",
   "pygments_lexer": "ipython3",
   "version": "3.10.2"
  }
 },
 "nbformat": 4,
 "nbformat_minor": 5
}
