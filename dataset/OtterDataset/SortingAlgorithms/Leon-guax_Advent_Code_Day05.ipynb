{
 "cells": [
  {
   "cell_type": "markdown",
   "id": "2a3267a0",
   "metadata": {},
   "source": [
    "## Part 1"
   ]
  },
  {
   "cell_type": "code",
   "execution_count": null,
   "id": "ada6def5",
   "metadata": {},
   "outputs": [],
   "source": [
    "def follows_rules(rules, manual):\n",
    "    for rule in rules:\n",
    "        early_page = manual.index(rule[0]) if rule[0] in manual else -1\n",
    "        late_page = manual.index(rule[1]) if rule[1] in manual else -1\n",
    "        if early_page == -1 or late_page == -1:\n",
    "            continue\n",
    "        if early_page > late_page:\n",
    "            return 0\n",
    "    return manual[len(manual) //2]"
   ]
  },
  {
   "cell_type": "code",
   "execution_count": null,
   "id": "ad83c05c",
   "metadata": {
    "scrolled": true
   },
   "outputs": [],
   "source": [
    "page_rules =[]\n",
    "middle_sum = 0\n",
    "with open('Day05_input.txt') as f:\n",
    "    is_rule = True\n",
    "    for line in f:\n",
    "        if is_rule and line =='\\n':\n",
    "            is_rule = False\n",
    "            continue\n",
    "        if is_rule:\n",
    "            rule = line.replace('\\n',\"\").split('|')\n",
    "            page_rules.append([int(rule[0]),int(rule[1])])\n",
    "        else:\n",
    "            manual = [int(n) for n in line.replace('\\n',\"\").split(',')]\n",
    "            middle_sum += follows_rules(page_rules, manual)\n",
    "\n",
    "print(middle_sum)"
   ]
  },
  {
   "cell_type": "markdown",
   "id": "19d01ba0",
   "metadata": {},
   "source": [
    "## Part 2"
   ]
  },
  {
   "cell_type": "code",
   "execution_count": null,
   "id": "21b2dadc",
   "metadata": {},
   "outputs": [],
   "source": [
    "def fix_page_order(rules, manual):\n",
    "    while not follows_rules(rules, manual):\n",
    "        for rule in rules:\n",
    "            early_page = manual.index(rule[0]) if rule[0] in manual else -1\n",
    "            late_page = manual.index(rule[1]) if rule[1] in manual else -1\n",
    "            if early_page == -1 or late_page == -1:\n",
    "                continue\n",
    "            \n",
    "            # easiest sorting algorithm to implement was switch sort\n",
    "            # Seems to work\n",
    "            if early_page > late_page:\n",
    "                manual[early_page]=rule[1]\n",
    "                manual[late_page] =rule[0]\n",
    "            \n",
    "    return manual[len(manual) //2]"
   ]
  },
  {
   "cell_type": "code",
   "execution_count": null,
   "id": "725d273e",
   "metadata": {},
   "outputs": [],
   "source": [
    "page_rules =[]\n",
    "middle_sum = 0\n",
    "with open('Day05_input.txt') as f:\n",
    "    is_rule = True\n",
    "    for line in f:\n",
    "        if line =='\\n':\n",
    "            is_rule = False\n",
    "            continue\n",
    "        if is_rule:\n",
    "            rule = line.replace('\\n',\"\").split('|')\n",
    "            page_rules.append([int(rule[0]),int(rule[1])])\n",
    "        else:\n",
    "            manual = [int(n) for n in line.replace('\\n',\"\").split(',')]\n",
    "            if not follows_rules(page_rules, manual):\n",
    "                middle_sum +=fix_page_order(page_rules, manual)\n",
    "\n",
    "\n",
    "print(middle_sum)"
   ]
  },
  {
   "cell_type": "code",
   "execution_count": null,
   "id": "9410f43d",
   "metadata": {},
   "outputs": [],
   "source": []
  }
 ],
 "metadata": {
  "kernelspec": {
   "display_name": "Python 3",
   "language": "python",
   "name": "python3"
  },
  "language_info": {
   "codemirror_mode": {
    "name": "ipython",
    "version": 3
   },
   "file_extension": ".py",
   "mimetype": "text/x-python",
   "name": "python",
   "nbconvert_exporter": "python",
   "pygments_lexer": "ipython3",
   "version": "3.11.0rc1"
  }
 },
 "nbformat": 4,
 "nbformat_minor": 5
}
