{
 "cells": [
  {
   "cell_type": "markdown",
   "metadata": {},
   "source": [
    "\n",
    "# <center>Python - Time Complexity, Big O, Space Complexity <a class=\"tocSkip\"></center>\n",
    "# <center>QTM 350: Data Science Computing <a class=\"tocSkip\"></center>    \n",
    "# <center>Davi Moreira <a class=\"tocSkip\"></center>"
   ]
  },
  {
   "cell_type": "markdown",
   "metadata": {},
   "source": [
    "## Introduction <a class=\"tocSkip\">\n",
    "<hr>\n",
    "\n",
    "\n",
    "This topic material is based on [Professor Mike Gelbart Algorithms and Data Structures course](https://github.com/UBC-MDS/DSCI_512_alg-data-struct). It was adapted for our purposes."
   ]
  },
  {
   "cell_type": "code",
   "execution_count": 1,
   "metadata": {},
   "outputs": [],
   "source": [
    "import numpy as np\n",
    "import pandas as pd\n",
    "\n",
    "import matplotlib.pyplot as plt"
   ]
  },
  {
   "cell_type": "markdown",
   "metadata": {},
   "source": [
    "## About this course topic"
   ]
  },
  {
   "cell_type": "markdown",
   "metadata": {},
   "source": [
    "### Demo 1: searching (list vs. set)\n",
    "\n",
    "- Common problem: is a certain value present in a collection of items?"
   ]
  },
  {
   "cell_type": "code",
   "execution_count": 2,
   "metadata": {},
   "outputs": [],
   "source": [
    "n = 10_000_000\n",
    "x = list(range(n))"
   ]
  },
  {
   "cell_type": "code",
   "execution_count": 6,
   "metadata": {},
   "outputs": [
    {
     "data": {
      "text/plain": [
       "False"
      ]
     },
     "execution_count": 6,
     "metadata": {},
     "output_type": "execute_result"
    }
   ],
   "source": [
    "-1 in x"
   ]
  },
  {
   "cell_type": "code",
   "execution_count": 7,
   "metadata": {},
   "outputs": [
    {
     "name": "stdout",
     "output_type": "stream",
     "text": [
      "42.1 ms ± 135 µs per loop (mean ± std. dev. of 7 runs, 10 loops each)\n"
     ]
    }
   ],
   "source": [
    "%timeit (-1 in x)"
   ]
  },
  {
   "cell_type": "code",
   "execution_count": 8,
   "metadata": {},
   "outputs": [],
   "source": [
    "x = set(range(n))"
   ]
  },
  {
   "cell_type": "code",
   "execution_count": 9,
   "metadata": {},
   "outputs": [
    {
     "data": {
      "text/plain": [
       "False"
      ]
     },
     "execution_count": 9,
     "metadata": {},
     "output_type": "execute_result"
    }
   ],
   "source": [
    "-1 in x"
   ]
  },
  {
   "cell_type": "code",
   "execution_count": 10,
   "metadata": {},
   "outputs": [
    {
     "name": "stdout",
     "output_type": "stream",
     "text": [
      "12.4 ns ± 0.153 ns per loop (mean ± std. dev. of 7 runs, 100,000,000 loops each)\n"
     ]
    }
   ],
   "source": [
    "%timeit (-1 in x)"
   ]
  },
  {
   "cell_type": "markdown",
   "metadata": {},
   "source": [
    "Questions we'll answer in this topic:\n",
    "\n",
    "- How could I have predicted this outcome?\n",
    "- What if I double the size of $n$: how much slower will the code be in each case? (Quantitative analysis)\n",
    "- Why did this happen? (not in detail)"
   ]
  },
  {
   "cell_type": "markdown",
   "metadata": {},
   "source": [
    "Note: we were cheating a little bit, because _creating_ the set takes longer than creating the list. However, as we can see, it's still fast."
   ]
  },
  {
   "cell_type": "markdown",
   "metadata": {},
   "source": [
    "### Demo 2: sorting (selection vs. quick)"
   ]
  },
  {
   "cell_type": "markdown",
   "metadata": {},
   "source": [
    "Aside: min vs. argmin"
   ]
  },
  {
   "cell_type": "code",
   "execution_count": 11,
   "metadata": {},
   "outputs": [],
   "source": [
    "x = [4.2, 98.2, 9.0, 0.1, 30, 2.5, 2.6]"
   ]
  },
  {
   "cell_type": "code",
   "execution_count": 12,
   "metadata": {},
   "outputs": [
    {
     "data": {
      "text/plain": [
       "0.1"
      ]
     },
     "execution_count": 12,
     "metadata": {},
     "output_type": "execute_result"
    }
   ],
   "source": [
    "min(x)  # Python min"
   ]
  },
  {
   "cell_type": "code",
   "execution_count": 13,
   "metadata": {},
   "outputs": [
    {
     "data": {
      "text/plain": [
       "0.1"
      ]
     },
     "execution_count": 13,
     "metadata": {},
     "output_type": "execute_result"
    }
   ],
   "source": [
    "np.min(x)  # Numpy min: generally better if working with Numpy arays"
   ]
  },
  {
   "cell_type": "code",
   "execution_count": 14,
   "metadata": {},
   "outputs": [
    {
     "data": {
      "text/plain": [
       "3"
      ]
     },
     "execution_count": 14,
     "metadata": {},
     "output_type": "execute_result"
    }
   ],
   "source": [
    "np.argmin(x)"
   ]
  },
  {
   "cell_type": "code",
   "execution_count": 15,
   "metadata": {},
   "outputs": [
    {
     "data": {
      "text/plain": [
       "0.1"
      ]
     },
     "execution_count": 15,
     "metadata": {},
     "output_type": "execute_result"
    }
   ],
   "source": [
    "x[3]"
   ]
  },
  {
   "cell_type": "markdown",
   "metadata": {},
   "source": [
    "Above: `np.argmin` gives us the _index of_ the smallest value.\n",
    "\n",
    "Now, back to the demo."
   ]
  },
  {
   "cell_type": "code",
   "execution_count": 17,
   "metadata": {},
   "outputs": [],
   "source": [
    "n = 20_000\n",
    "x = list(range(n))"
   ]
  },
  {
   "cell_type": "code",
   "execution_count": 26,
   "metadata": {},
   "outputs": [],
   "source": [
    "np.random.shuffle(x)"
   ]
  },
  {
   "cell_type": "code",
   "execution_count": 27,
   "metadata": {},
   "outputs": [
    {
     "data": {
      "text/plain": [
       "[3439, 14021, 3421, 17037, 4943, 329, 10116, 10308, 3331, 4718]"
      ]
     },
     "execution_count": 27,
     "metadata": {},
     "output_type": "execute_result"
    }
   ],
   "source": [
    "x[:10]"
   ]
  },
  {
   "cell_type": "code",
   "execution_count": 28,
   "metadata": {},
   "outputs": [],
   "source": [
    "for i in range(n):\n",
    "    min_ind = np.argmin(x[i:]) + i\n",
    "    x[i], x[min_ind] = x[min_ind], x[i] # swap"
   ]
  },
  {
   "cell_type": "code",
   "execution_count": 21,
   "metadata": {},
   "outputs": [
    {
     "data": {
      "text/plain": [
       "[0, 1, 2, 3, 4, 5, 6, 7, 8, 9]"
      ]
     },
     "execution_count": 21,
     "metadata": {},
     "output_type": "execute_result"
    }
   ],
   "source": [
    "x[:10]"
   ]
  },
  {
   "cell_type": "code",
   "execution_count": 29,
   "metadata": {},
   "outputs": [],
   "source": [
    "np.random.shuffle(x)"
   ]
  },
  {
   "cell_type": "code",
   "execution_count": 30,
   "metadata": {},
   "outputs": [
    {
     "data": {
      "text/plain": [
       "[9448, 6461, 11712, 18781, 15809, 4543, 6410, 19940, 11837, 3651]"
      ]
     },
     "execution_count": 30,
     "metadata": {},
     "output_type": "execute_result"
    }
   ],
   "source": [
    "x[:10]"
   ]
  },
  {
   "cell_type": "code",
   "execution_count": 31,
   "metadata": {},
   "outputs": [],
   "source": [
    "x.sort()"
   ]
  },
  {
   "cell_type": "code",
   "execution_count": 25,
   "metadata": {},
   "outputs": [
    {
     "data": {
      "text/plain": [
       "[0, 1, 2, 3, 4, 5, 6, 7, 8, 9]"
      ]
     },
     "execution_count": 25,
     "metadata": {},
     "output_type": "execute_result"
    }
   ],
   "source": [
    "x[:10]"
   ]
  },
  {
   "cell_type": "markdown",
   "metadata": {},
   "source": [
    "Questions we'll answer in this topic:\n",
    "\n",
    "- How could I have predicted this outcome?\n",
    "- What if I double the size of $n$, how much slower will the code be in each case? (Quantitative analysis)\n",
    "- Why did this happen? (not in detail)"
   ]
  },
  {
   "cell_type": "markdown",
   "metadata": {},
   "source": [
    "### Demo 3: batch operations (loop vs. vectorized)"
   ]
  },
  {
   "cell_type": "code",
   "execution_count": 40,
   "metadata": {},
   "outputs": [],
   "source": [
    "n = 10_000_000\n",
    "x = np.random.rand(n)\n",
    "y = np.zeros(n)"
   ]
  },
  {
   "cell_type": "code",
   "execution_count": 33,
   "metadata": {},
   "outputs": [
    {
     "data": {
      "text/plain": [
       "(10000000,)"
      ]
     },
     "execution_count": 33,
     "metadata": {},
     "output_type": "execute_result"
    }
   ],
   "source": [
    "x.shape"
   ]
  },
  {
   "cell_type": "code",
   "execution_count": 34,
   "metadata": {},
   "outputs": [
    {
     "data": {
      "text/plain": [
       "(10000000,)"
      ]
     },
     "execution_count": 34,
     "metadata": {},
     "output_type": "execute_result"
    }
   ],
   "source": [
    "y.shape"
   ]
  },
  {
   "cell_type": "code",
   "execution_count": 35,
   "metadata": {},
   "outputs": [
    {
     "data": {
      "text/plain": [
       "array([0.13816262, 0.54823717, 0.37849115, 0.88092095, 0.20233116,\n",
       "       0.05759176, 0.95448516, 0.26593302, 0.50587123, 0.73250165])"
      ]
     },
     "execution_count": 35,
     "metadata": {},
     "output_type": "execute_result"
    }
   ],
   "source": [
    "x[:10]"
   ]
  },
  {
   "cell_type": "code",
   "execution_count": 36,
   "metadata": {},
   "outputs": [
    {
     "data": {
      "text/plain": [
       "array([0., 0., 0., 0., 0., 0., 0., 0., 0., 0.])"
      ]
     },
     "execution_count": 36,
     "metadata": {},
     "output_type": "execute_result"
    }
   ],
   "source": [
    "y[:10]"
   ]
  },
  {
   "cell_type": "code",
   "execution_count": 41,
   "metadata": {},
   "outputs": [],
   "source": [
    "for i in range(n):\n",
    "    y[i] = x[i] * 2"
   ]
  },
  {
   "cell_type": "code",
   "execution_count": 42,
   "metadata": {},
   "outputs": [],
   "source": [
    "x = np.random.rand(n)\n",
    "y = np.zeros(n)"
   ]
  },
  {
   "cell_type": "code",
   "execution_count": 43,
   "metadata": {},
   "outputs": [],
   "source": [
    "y = x * 2"
   ]
  },
  {
   "cell_type": "markdown",
   "metadata": {},
   "source": [
    "Questions we'll answer in this topic:\n",
    "\n",
    "- How could I have predicted this outcome?\n",
    "- What if I double the size of $n$, how much slower will the code be in each case? (Quantitative analysis)\n",
    "- Why did this happen? (not in detail)"
   ]
  },
  {
   "cell_type": "markdown",
   "metadata": {},
   "source": [
    "In this topic our objective is to loarn about:\n",
    "    \n",
    "    1. Good Data Structure;\n",
    "    2. Good Algorithms;\n",
    "    3. Good Implementation;"
   ]
  },
  {
   "cell_type": "markdown",
   "metadata": {},
   "source": [
    "## Lecture learning objectives\n",
    "\n",
    "- Given code, determine the time and space complexity using Big-O notation.\n",
    "- Classify an algorithm into one of the common complexity classes (e.g. constant, logarithmic, linear, quadratic, etc.).\n",
    "- Contrast time and space complexity.\n",
    "- Measure the amount of time code in Python takes using `timeit` or the `time` library.\n",
    "- Maintain an awareness that choosing a good algorithm matters, sometimes _a lot_!"
   ]
  },
  {
   "cell_type": "markdown",
   "metadata": {},
   "source": [
    "## Motivation"
   ]
  },
  {
   "cell_type": "markdown",
   "metadata": {},
   "source": [
    "- For now, let's ask ourselves: \"if we double $n$, what happens to the number of steps?\""
   ]
  },
  {
   "cell_type": "markdown",
   "metadata": {},
   "source": [
    "### Examples from the above demos\n",
    "\n",
    "For each of the following, what happens to the runtime if we double $n$?\n",
    "\n",
    "**Operation:** Finding whether a number is in a list.\n",
    "<br><br><br><br><br><br>\n",
    "**Answer:** it doubles.\n",
    "<br>\n"
   ]
  },
  {
   "cell_type": "markdown",
   "metadata": {},
   "source": [
    "**Operation:** Finding whether a number is in a set.\n",
    "<br><br><br><br><br><br>\n",
    "**Answer:** it stays roughly the same.\n",
    "<br>"
   ]
  },
  {
   "cell_type": "markdown",
   "metadata": {},
   "source": [
    "**Operation:** Sorting with my code.\n",
    "<br><br><br><br><br><br>\n",
    "**Answer:** it quadruples (4x)\n",
    "<br><br>"
   ]
  },
  {
   "cell_type": "markdown",
   "metadata": {},
   "source": [
    "**Operation:** Sorting with `sort`.\n",
    "<br><br><br><br><br><br>\n",
    "**Answer:** it slightly more than doubles\n",
    "<br><br>"
   ]
  },
  {
   "cell_type": "markdown",
   "metadata": {},
   "source": [
    "**Operation:** Doubling an array with a loop.\n",
    "<br><br><br><br><br><br>\n",
    "**Answer:** it doubles\n",
    "<br><br>  \n",
    "  "
   ]
  },
  {
   "cell_type": "markdown",
   "metadata": {},
   "source": [
    "**Operation:** Doubling an array with numpy.\n",
    "<br><br><br><br><br><br>\n",
    "**Answer:** it doubles (but is much faster than with a loop!)\n",
    "<br><br>  \n",
    "\n",
    "  \n"
   ]
  },
  {
   "cell_type": "markdown",
   "metadata": {},
   "source": [
    "These scenarios form part of the roadmap of the topic - by the end we'll hopefully have explored most of them."
   ]
  },
  {
   "cell_type": "markdown",
   "metadata": {},
   "source": [
    "## Big O notation - intro\n",
    "\n",
    "- We will formalize time complexity using _Big O notation_. \n",
    "  - In addition to $O$, there is also $o$, $\\omega$, $\\Omega$, $\\theta$, $\\Theta$, and more. But Big O is the most common and we'll only discuss Big O.\n",
    "  - We will not go into the mathematical details but if you're interested, you can read about it online (e.g. the [Wikipedia article](https://en.wikipedia.org/wiki/Big_O_notation)).\n",
    "- The Big O tells us the **approximate number of steps** an algorithm performs **as a function of the input size** (i.e. $n$ above).\n"
   ]
  },
  {
   "cell_type": "markdown",
   "metadata": {},
   "source": [
    "### Importance in Data Science\n",
    "\n",
    "Big O notation is a mathematical notation that describes the limiting behavior of a function when the argument tends towards a particular value or infinity. In the context of data science and computer science, it is primarily used to classify algorithms according to their running time or space requirements (memory usage) under the assumption of large input size. The \"O\" in Big O notation stands for \"order of\", indicating the order of complexity of an algorithm.\n",
    "\n",
    "\n",
    "For data scientists, understanding Big O notation is crucial for several reasons:\n",
    "\n",
    "1. **Efficiency Analysis:** It allows data scientists to estimate the time and space efficiency of algorithms, particularly important when dealing with large datasets. Efficient algorithms can significantly reduce computational time and resource consumption.\n",
    "\n",
    "2. **Algorithm Selection:** By comparing the Big O notations of different algorithms, data scientists can choose the most appropriate algorithm for a given problem and dataset size. This choice is critical in ensuring that the data processing and analysis tasks are scalable.\n",
    "\n",
    "3. **Performance Optimization:** Understanding the Big O notation helps in identifying bottlenecks in existing algorithms and optimizing them for better performance.\n",
    "\n",
    "\n",
    "### Application in Data Science\n",
    "\n",
    "In data science, Big O notation helps in understanding the scalability of data processing, machine learning algorithms, and data manipulation tasks. It aids in making informed decisions about algorithm design and implementation, ensuring that the solutions are efficient and scalable as the data volume grows. Data scientists often need to balance the trade-off between the accuracy of a model and its computational efficiency, and Big O notation provides a framework for making such decisions."
   ]
  },
  {
   "cell_type": "markdown",
   "metadata": {},
   "source": [
    "### Simple examples demonstrating different Big O notations\n",
    "\n",
    "A simple way to estimate the efficiency of algorithms in terms of their time complexity\n",
    "\n",
    "### $O(1)$ - Constant Time\n",
    "Accessing the last element of a list is an example of an O(1) operation. It takes the same time regardless of the list's size.\n",
    "\n",
    "```python\n",
    "my_list = [1, 2, 3, 4, 5, 3, 2]\n",
    "\n",
    "def access_last_element(my_list):\n",
    "    return my_list[-1]\n",
    "```\n",
    "For our sample list `[1, 2, 3, 4, 5, 3, 2]`, accessing the last element yields `2`.\n",
    "\n",
    "### $O(n)$ - Linear Time\n",
    "Summing all elements in a list is an O(n) operation. The time taken is directly proportional to the list's size.\n",
    "\n",
    "```python\n",
    "def sum_elements(my_list):\n",
    "    total = 0\n",
    "    for element in my_list:\n",
    "        total += element\n",
    "    return total\n",
    "```\n",
    "For our sample list, the sum of the elements is `20`.\n",
    "\n",
    "### $O(n^2)$ - Quadratic Time\n",
    "Finding duplicates in a list is an example of an $O(n^2)$ operation. The time taken increases quadratically with the size of the input list.\n",
    "\n",
    "```python\n",
    "def find_duplicates(my_list):\n",
    "    duplicates = []\n",
    "    for i in range(len(my_list)):\n",
    "        for j in range(i + 1, len(my_list)):\n",
    "            if my_list[i] == my_list[j] and my_list[i] not in duplicates:\n",
    "                duplicates.append(my_list[i])\n",
    "    return duplicates\n",
    "```\n",
    "For our sample list, the duplicates found are `[2, 3]`.\n",
    "\n"
   ]
  },
  {
   "cell_type": "markdown",
   "metadata": {},
   "source": [
    "### Common runtimes\n",
    "\n",
    "| Big O  &nbsp; &nbsp; &nbsp; &nbsp; &nbsp; &nbsp; &nbsp; &nbsp; &nbsp; &nbsp;&nbsp; &nbsp; &nbsp; &nbsp; &nbsp; &nbsp; &nbsp;  &nbsp; &nbsp; &nbsp;&nbsp; &nbsp; &nbsp; &nbsp; &nbsp; &nbsp; |  name  | change in runtime if I double $n$? |\n",
    "|-------|--------|-------|\n",
    "| $O(1)$ | constant | same |\n",
    "| $O(\\log n)$ | logarithmic | increased by a constant |\n",
    "| $O(n)$ | linear | 2x | \n",
    "| $O(n \\log n)$ | linearithmic | roughly 2x | \n",
    "| $O(n^2)$ | quadratic | 4x |\n",
    "| $O(n^3)$ | cubic | 8x |\n",
    "| $O(n^k)$ | polynomial | increase by a factor of $2^k$ | \n",
    "| $O(2^n)$ | exponential | squared |\n",
    "\n",
    "- We write $O(f(n))$ for some function $f(n)$.\n",
    "- You get the doubling time by taking $f(2n)/f(n)$.\n",
    "- E.g. if $f(n)=n^3$, then $f(2n)/f(n)=(2n)^3/n^3=8$. \n",
    "  - So if you double $n$, the running time goes up 8x.\n",
    "- For $O(2^n)$, increasing $n$ by 1 causes the runtime to double!\n",
    "\n",
    "Note: these are **common** cases of big O, but this list is not exhaustive."
   ]
  },
  {
   "cell_type": "markdown",
   "metadata": {},
   "source": [
    "#### Back to the examples from earlier \n",
    "\n",
    "For each of the following, what is the time complexity in Big O notation?\n",
    "\n",
    "- Finding whether a number is in a list."
   ]
  },
  {
   "cell_type": "markdown",
   "metadata": {
    "tags": []
   },
   "source": [
    "> Answer: $O(n)$"
   ]
  },
  {
   "cell_type": "markdown",
   "metadata": {},
   "source": [
    "- Finding whether a number is in a set."
   ]
  },
  {
   "cell_type": "markdown",
   "metadata": {
    "tags": []
   },
   "source": [
    "> Answer: $O(1)$ (more on this next week)\n"
   ]
  },
  {
   "cell_type": "markdown",
   "metadata": {},
   "source": [
    "- Sorting with my code.\n"
   ]
  },
  {
   "cell_type": "markdown",
   "metadata": {
    "tags": []
   },
   "source": [
    "> Answer: $O(n^2)$"
   ]
  },
  {
   "cell_type": "markdown",
   "metadata": {},
   "source": [
    "- Sorting with `sort`.\n"
   ]
  },
  {
   "cell_type": "markdown",
   "metadata": {
    "tags": []
   },
   "source": [
    "> Answer: $O(n \\log n)$ (more on this next class)"
   ]
  },
  {
   "cell_type": "markdown",
   "metadata": {},
   "source": [
    "- Doubling with a loop.\n"
   ]
  },
  {
   "cell_type": "markdown",
   "metadata": {
    "tags": []
   },
   "source": [
    "> Answer: $O(n)$"
   ]
  },
  {
   "cell_type": "markdown",
   "metadata": {},
   "source": [
    "- Doubling with numpy."
   ]
  },
  {
   "cell_type": "markdown",
   "metadata": {
    "tags": []
   },
   "source": [
    "> Answer: $O(n)$"
   ]
  },
  {
   "cell_type": "markdown",
   "metadata": {},
   "source": [
    "### Constant factors are not important\n",
    "\n",
    "- In Big O notation, we ignore multiplicative constants.\n",
    "  - If an algorithm takes $2n$ steps, we write $O(n)$, not $O(2n$).\n",
    "  - We're interested in how the runtime grows, not the exact runtime.\n",
    "- In Big O notation, we ignore \"lower order\" terms, including additive constants.\n",
    "  - If the number of steps is $n+5$, we write $O(n)$ not $O(n+5)$\n",
    "  - If the number of steps is $n+\\log n$, we write $O(n)$ not $O(n+\\log n)$\n",
    "  - We're interested in the growth when $n$ is large.\n",
    "  - The lower order terms stop being important when $n$ is large. \n",
    "  - But they might be important when $n$ is small!\n",
    "- As such, Big O complexities can be misleading at times.\n",
    "  - Is code that runs in $O(\\log n)$ time faster than code that runs in $O(n)$ time?\n",
    "  - Not always! It depends on the details.\n",
    "  - $10000\\log n$ is more than $0.001n$ for small values of $n$.\n",
    "  - You will see an example of this phenomenon in lab 2."
   ]
  },
  {
   "cell_type": "markdown",
   "metadata": {},
   "source": [
    "## Time Complexity and Space Complexity\n",
    "\n",
    "In the context of analyzing algorithms, both time complexity and space complexity play crucial roles, offering insights into the efficiency of algorithms from different perspectives. While time complexity relates to the execution time of an algorithm as a function of the input size, space complexity concerns the amount of memory an algorithm needs to run to completion. Time and space complexities offer a comprehensive view of an algorithm's efficiency, guiding data scientists and engineers in making informed decisions to meet their application's performance and resource requirements.\n",
    "\n",
    "### Time Complexity\n",
    "\n",
    "Time complexity is a measure that gives us an idea of the growth rate of the runtime of an algorithm as the size of input data increases. It's crucial for understanding how scalable an algorithm is with respect to processing time. In a data-rich field like data science, where datasets can be enormous, knowing the time complexity helps in selecting algorithms that can handle large volumes of data efficiently.\n",
    "\n",
    "For example, an algorithm with a time complexity of $O(n)$ will take twice as long if the input size doubles, which is manageable. However, an algorithm with a time complexity of $O(2^n)$ will see its runtime double with each additional element in the input, becoming impractical for large datasets.\n",
    "\n",
    "### Space Complexity\n",
    "\n",
    "Space complexity, on the other hand, measures the total amount of memory that an algorithm requires as the input size grows. This includes both the space needed to store input data and any additional space required by the algorithm (temporary variables, call stack for recursive calls, etc.). In scenarios where memory is a limiting factor, understanding space complexity becomes as critical as understanding time complexity.\n",
    "\n",
    "For instance, an in-place sorting algorithm that sorts the data within the given array with minimal additional memory ($O(1)$ space complexity) is preferable in memory-constrained environments over an algorithm that requires space proportional to the size of the input data ($O(n)$ space complexity).\n",
    "\n",
    "### Differences and Usefulness\n",
    "\n",
    "**Differences:**\n",
    "- **Dimension of Analysis:** Time complexity measures the runtime of an algorithm, whereas space complexity measures the memory usage.\n",
    "- **Impact on Performance:** While both can affect the performance of an algorithm, time complexity often directly impacts user experience through execution speed. Space complexity impacts how much data can be processed or stored in memory at one time.\n",
    "- **Scalability Concerns:** Time complexity is often the first consideration for scalability, especially with large datasets. However, space complexity becomes equally important in environments with limited memory resources, like embedded systems or when processing extremely large datasets that do not fit in memory.\n",
    "\n",
    "**Usefulness:**\n",
    "- **Algorithm Selection:** Understanding both complexities helps in selecting the right algorithm for a given problem, balancing between execution speed and memory usage.\n",
    "- **Optimization:** By analyzing these complexities, one can identify bottlenecks in an algorithm and optimize either for speed or for memory usage, depending on the requirements of the application.\n",
    "- **System Design:** In system design, especially for large-scale systems, knowing the time and space complexities of algorithms can guide architectural decisions, such as choosing between different data processing strategies or storage solutions.\n",
    "\n"
   ]
  },
  {
   "cell_type": "markdown",
   "metadata": {},
   "source": [
    "## Visualizing time complexities "
   ]
  },
  {
   "cell_type": "code",
   "execution_count": 44,
   "metadata": {
    "jupyter": {
     "source_hidden": true
    },
    "tags": []
   },
   "outputs": [
    {
     "data": {
      "image/png": "[encoded data removed]",
      "text/plain": [
       "<Figure size 640x480 with 1 Axes>"
      ]
     },
     "metadata": {},
     "output_type": "display_data"
    }
   ],
   "source": [
    "n = np.arange(1, 30, 0.1)\n",
    "\n",
    "times = {\n",
    "    '$O(1)$': 0*n+1,\n",
    "    r'$O(\\log n)$': np.log(n),  # raw string literal\n",
    "    '$O(n)$': n,\n",
    "    r'$O(n \\log n)$': n*np.log(n),  # raw string literal\n",
    "    '$O(n^2)$': n**2.,\n",
    "    '$O(n^3)$': n**3.,\n",
    "    '$O(2^n)$': 2.**n\n",
    "}\n",
    "\n",
    "for name, t in times.items():\n",
    "    plt.plot(n, t, label=name)\n",
    "plt.legend();\n",
    "plt.xlabel('n');\n",
    "plt.ylabel('running time');"
   ]
  },
  {
   "cell_type": "markdown",
   "metadata": {},
   "source": [
    "It is also common to look at log-log plots:"
   ]
  },
  {
   "cell_type": "code",
   "execution_count": 45,
   "metadata": {
    "jupyter": {
     "source_hidden": true
    },
    "tags": []
   },
   "outputs": [
    {
     "data": {
      "image/png": "[encoded data removed]",
      "text/plain": [
       "<Figure size 640x480 with 1 Axes>"
      ]
     },
     "metadata": {},
     "output_type": "display_data"
    }
   ],
   "source": [
    "for name, t in times.items():\n",
    "    plt.loglog(n, t, label=name)\n",
    "plt.legend();\n",
    "plt.xlabel('n');\n",
    "plt.ylabel('running time');"
   ]
  },
  {
   "cell_type": "markdown",
   "metadata": {},
   "source": [
    "- Above: we see that $2^n$ (exponential) is by far the biggest! \n",
    "- Let's remove $2^n$ so we can see the rest of the log-log plot more clearly:"
   ]
  },
  {
   "cell_type": "code",
   "execution_count": 46,
   "metadata": {
    "jupyter": {
     "source_hidden": true
    },
    "tags": []
   },
   "outputs": [
    {
     "data": {
      "image/png": "[encoded data removed]",
      "text/plain": [
       "<Figure size 640x480 with 1 Axes>"
      ]
     },
     "metadata": {},
     "output_type": "display_data"
    }
   ],
   "source": [
    "for name, t in times.items():\n",
    "    if name != '$O(2^n)$':\n",
    "        plt.loglog(n, t, label=name)\n",
    "plt.legend();\n",
    "plt.xlabel('n');\n",
    "plt.ylabel('running time');"
   ]
  },
  {
   "cell_type": "markdown",
   "metadata": {},
   "source": [
    "In log-log plots, polynomials turn into straight lines, with slope equal to the exponent."
   ]
  },
  {
   "cell_type": "markdown",
   "metadata": {
    "tags": []
   },
   "source": [
    "## Example Big O analysis"
   ]
  },
  {
   "cell_type": "markdown",
   "metadata": {},
   "source": [
    "Find the time complexities of `f` and `g` below."
   ]
  },
  {
   "cell_type": "code",
   "execution_count": null,
   "metadata": {},
   "outputs": [],
   "source": [
    "def f(n):\n",
    "    for i in range(n):\n",
    "        for j in range(n):\n",
    "            print(i, j)"
   ]
  },
  {
   "cell_type": "code",
   "execution_count": null,
   "metadata": {},
   "outputs": [],
   "source": [
    "#%timeit f(2000)"
   ]
  },
  {
   "cell_type": "markdown",
   "metadata": {},
   "source": [
    "The function `f(n)` consists of a nested loop where both the outer and inner loops are controlled by the parameter `n`. The outer loop runs `n` times, and for each iteration of the outer loop, the inner loop also runs `n` times.\n",
    "\n",
    "For each iteration of the inner loop, a print statement is executed, which we consider as the basic unit of work done by the function. The total number of print operations will be `n * n`, as for every single iteration of the outer loop, the inner loop runs `n` times.\n",
    "\n",
    "This leads to a time complexity of $O(n^2)$, which is quadratic time complexity. In Big O notation, we are primarily interested in how the function scales with the input size, `n` in this case, rather than the specific number of operations performed. As `n` grows, the time it takes to run this function will grow proportionally to the square of `n`.\n",
    "\n",
    "Therefore, if `n` were to double, the runtime would increase by a factor of four, since $(2n)^2 = 4n^2$. This quadratic relationship indicates that the function `f(n)` may become inefficient for large values of `n`, as the number of operations will increase rapidly."
   ]
  },
  {
   "cell_type": "code",
   "execution_count": null,
   "metadata": {},
   "outputs": [],
   "source": [
    "def g(n):\n",
    "    for i in range(n):\n",
    "        print(i)\n",
    "    for j in range(n):\n",
    "        print(j)"
   ]
  },
  {
   "cell_type": "code",
   "execution_count": null,
   "metadata": {},
   "outputs": [],
   "source": [
    "#%timeit g(200_000)"
   ]
  },
  {
   "cell_type": "code",
   "execution_count": null,
   "metadata": {},
   "outputs": [],
   "source": [
    "# g(3)"
   ]
  },
  {
   "cell_type": "markdown",
   "metadata": {},
   "source": [
    "The function `g(n)` contains two separate loops that are not nested. Each loop runs independently for `n` iterations.\n",
    "\n",
    "1. The first loop iterates `n` times, printing values from `0` to `n-1`.\n",
    "\n",
    "2. After the first loop completes, the second loop starts and also iterates `n` times, again printing values from `0` to `n-1`.\n",
    "\n",
    "Since the loops are consecutive and not nested, the number of print operations for each loop is `n`, and the total number of print operations for the entire function is `n + n`, which simplifies to `2n`.\n",
    "\n",
    "However, when we express this in Big O notation, we drop constant coefficients and lower order terms because we are interested in the growth rate of the operation count as `n` becomes very large. Thus, the time complexity of the function `g(n)` is $O(n)$, indicating a linear relationship between the input size `n` and the execution time.\n",
    "\n",
    "This means that if the input size doubles, the runtime will also roughly double, making this function much more scalable for large values of `n` compared to a function with a time complexity of $O(n^2)$, like the one in the previous example."
   ]
  },
  {
   "cell_type": "markdown",
   "metadata": {},
   "source": [
    "### How to determine the complexity?\n",
    "\n",
    "- With raw Python code, we can often \"count the number of loops\"\n",
    "  - A loop $n$ times gives $O(n)$\n",
    "  - A nested loop gives $O(n^2$)\n",
    "  - etc\n",
    "- However, we have to think about the functions we're using. "
   ]
  },
  {
   "cell_type": "markdown",
   "metadata": {},
   "source": [
    "### What factors affect the runtime?\n",
    "\n",
    "- What affects the Big O?\n",
    "  - Typically, just the algorithm.\n",
    "- What affects the constant?\n",
    "  - The algorithm.\n",
    "    - Does it take $n$ steps or $2n$ steps or $100000n$ steps?\n",
    "    - How complicated is each step?\n",
    "  - The _implementation_.\n",
    "    - How fast is your programming language?\n",
    "    - How fast are your libraries (e.g. Numpy)?\n",
    "    - How fast is your laptop?\n",
    "    - Is there an opportunity for parallel computation?\n",
    "- The implementation issues are quite complicated. \n",
    "  - More on this later."
   ]
  },
  {
   "cell_type": "markdown",
   "metadata": {
    "tags": []
   },
   "source": [
    "## Lower order terms revisited \n",
    "\n",
    "Why is $O(n+\\log(n)+5)$ considered the same as $O(n)$?\n"
   ]
  },
  {
   "cell_type": "code",
   "execution_count": 47,
   "metadata": {},
   "outputs": [],
   "source": [
    "plt.rcParams['font.size'] = 16"
   ]
  },
  {
   "cell_type": "code",
   "execution_count": 48,
   "metadata": {
    "tags": []
   },
   "outputs": [
    {
     "data": {
      "image/png": "[encoded data removed]",
      "text/plain": [
       "<Figure size 640x480 with 1 Axes>"
      ]
     },
     "metadata": {},
     "output_type": "display_data"
    }
   ],
   "source": [
    "n = np.arange(1,10, 0.1)\n",
    "plt.plot(n, label=\"n\")\n",
    "plt.plot(n+np.log(n)+5, label=\"n + log(n) + 5\")\n",
    "plt.legend();"
   ]
  },
  {
   "cell_type": "markdown",
   "metadata": {},
   "source": [
    "- What you can see here is that $n+\\log(n)+5$ starts curved but soon becomes linear-looking.\n",
    "- We call the $\\log(n)$ and the $5$ \"lower order terms\" because the grow more slowly than the dominant term ($n$)."
   ]
  },
  {
   "cell_type": "markdown",
   "metadata": {},
   "source": [
    "### For small n, the lower-order terms matter"
   ]
  },
  {
   "cell_type": "markdown",
   "metadata": {},
   "source": [
    "- Consider an algorithm that takes $100\\sqrt{n}$ steps vs. an algorithm that takes $n$ steps.\n",
    "- According to big O, the second one is a faster growing function, meaning the code will be slower.\n",
    "- Let's plot it:"
   ]
  },
  {
   "cell_type": "code",
   "execution_count": 49,
   "metadata": {
    "tags": []
   },
   "outputs": [
    {
     "data": {
      "image/png": "[encoded data removed]",
      "text/plain": [
       "<Figure size 640x480 with 1 Axes>"
      ]
     },
     "metadata": {},
     "output_type": "display_data"
    }
   ],
   "source": [
    "n = np.arange(1,100000)\n",
    "plt.plot(n, label=\"n\")\n",
    "plt.plot(100*np.sqrt(n), label=\"sqrt(n)\")\n",
    "plt.legend();"
   ]
  },
  {
   "cell_type": "markdown",
   "metadata": {},
   "source": [
    "- That seems to be true, $n$ grows faster than $\\sqrt{n}$.\n",
    "- But what if we zoom in:"
   ]
  },
  {
   "cell_type": "code",
   "execution_count": 27,
   "metadata": {
    "tags": []
   },
   "outputs": [
    {
     "data": {
      "image/png": "[encoded data removed]",
      "text/plain": [
       "<Figure size 640x480 with 1 Axes>"
      ]
     },
     "metadata": {},
     "output_type": "display_data"
    }
   ],
   "source": [
    "n = np.arange(1,1000)\n",
    "plt.plot(n, label=\"n\")\n",
    "plt.plot(100*np.sqrt(n), label=\"sqrt(n)\")\n",
    "plt.legend();"
   ]
  },
  {
   "cell_type": "markdown",
   "metadata": {},
   "source": [
    "- Actually, at first, the $100\\sqrt{n}$ algorithm is slower! \n",
    "- So, we can't ignore the lower order terms all the time, we can just ignore them a lot of the time.\n",
    "- Big O analysis isn't the be-all and end-all. It's just often useful."
   ]
  },
  {
   "cell_type": "markdown",
   "metadata": {},
   "source": [
    "### Addition vs. multiplication\n",
    "\n",
    "- How is $n+\\log(n)$ different from $n\\log(n)$\n",
    "- The first is $O(n)$, what about the second?\n",
    "\n",
    "<br><br><br><br>\n",
    "\n",
    "- The second is $O(n\\log(n))$. \n",
    "- In Big O analysis, we keep the biggest **term**. \n",
    "  - Where \"terms\" are things being added together (not multiplied!)\n",
    "- In the first case, the biggest term is $n$.\n",
    "- In the second case, the biggest (and only) term is $n \\log(n)$."
   ]
  },
  {
   "cell_type": "markdown",
   "metadata": {},
   "source": [
    "<br><br><br>"
   ]
  },
  {
   "cell_type": "markdown",
   "metadata": {},
   "source": [
    "## Big O with two variables "
   ]
  },
  {
   "cell_type": "markdown",
   "metadata": {},
   "source": [
    "Consider this code:"
   ]
  },
  {
   "cell_type": "code",
   "execution_count": null,
   "metadata": {},
   "outputs": [],
   "source": [
    "def fun(n,m):\n",
    "    for i in range(n):\n",
    "        for j in range(m):\n",
    "            print(\"Hello\")"
   ]
  },
  {
   "cell_type": "markdown",
   "metadata": {},
   "source": [
    "What is the time complexity?"
   ]
  },
  {
   "cell_type": "markdown",
   "metadata": {},
   "source": [
    "- The time complexity here is $O(nm)$. \n",
    "- If $m=n$  then it would be $O(n^2)$. \n",
    "- Note that everything should be combined in one big O \n",
    "  - it should be $O(nm)$ and not $O(n)O(m)$. \n",
    "- Likewise with addition, one would write $O(n+m)$ and not $O(n)+O(m)$.\n",
    "- $O(nm+m)$ would be just $O(nm)$\n",
    "  - $nm+m=(n+1)m$ and we don't make a distinction between $n$ and $n+1$\n",
    "- $O(n^2+n+m)$ would be just $O(n^2+m)$\n",
    "- $O(n^2+nm + m)$ would be $O(n^2+nm)$. We can't throw away either term because we don't know which will end up being the \"dominant\" factor."
   ]
  },
  {
   "cell_type": "markdown",
   "metadata": {},
   "source": [
    "- Example: in a data analysis course you have datasets with $n$ rows and $d$ columns.\n",
    "- How long does `fit()` take for a decision tree? \n",
    "- At least $O(nd)$ because that's how long it takes to look at the dataset.\n",
    "  - Actually it takes longer than this!\n",
    "  - But decision tree is a bit harder to analyze than some classifiers you'll learn next week.\n",
    "  - The actual runtime is something like $O(mnd \\log n)$ for a depth-$m$ tree."
   ]
  },
  {
   "cell_type": "markdown",
   "metadata": {},
   "source": [
    "## Worst/best/average cases \n",
    "\n",
    "Consider this code:"
   ]
  },
  {
   "cell_type": "code",
   "execution_count": null,
   "metadata": {},
   "outputs": [],
   "source": [
    "def find_0(x):\n",
    "    for x_i in x:\n",
    "        if x_i == 0:\n",
    "            return True\n",
    "    return False"
   ]
  },
  {
   "cell_type": "markdown",
   "metadata": {},
   "source": [
    "- If $n$ is the length of `x`, the runtime here is $O(n)$\n",
    "- But is it always? What if we know `x[0]` is always 0, for any $n$? Then it's $O(1)$.\n",
    "- What if the $0$ could be anywhere? Then it's $n/2$ on average which is $O(n)$.\n",
    "- Sometimes algorithms have different _best case_, _worst case_ and _average case_ runtimes. \n",
    "- In this topic we won't go into this distinction. We're generally referring to the average case, which often is the same complexity as the worst cases anyway."
   ]
  },
  {
   "cell_type": "markdown",
   "metadata": {},
   "source": [
    "## Space complexity"
   ]
  },
  {
   "cell_type": "markdown",
   "metadata": {},
   "source": [
    "- If code takes too long to run, that might be a problem.\n",
    "- Another possible problem is running out of memory.\n",
    "  - Note: this is NOT the same as \"disk space\"."
   ]
  },
  {
   "cell_type": "code",
   "execution_count": 50,
   "metadata": {},
   "outputs": [
    {
     "data": {
      "text/plain": [
       "svmem(total=17179869184, available=3009757184, percent=82.5, used=5605228544, free=139591680, active=2882830336, inactive=2744467456, wired=2722398208)"
      ]
     },
     "execution_count": 50,
     "metadata": {},
     "output_type": "execute_result"
    }
   ],
   "source": [
    "import psutil\n",
    "psutil.virtual_memory()"
   ]
  },
  {
   "cell_type": "markdown",
   "metadata": {},
   "source": [
    "The `psutil` library in Python, which provides information about the virtual memory usage on your computer. Here's how to interpret the various fields:\n",
    "\n",
    "1. `total`: This is the total amount of physical memory (RAM) available on your machine. The value is given in bytes.\n",
    "\n",
    "2. `available`: This is the memory that can be given instantly to processes without the system going into swap. It is calculated by taking into account how much the operating system reserves for itself and may include memory that is in use but can be made available immediately if needed.\n",
    "\n",
    "3. `percent`: This represents the percentage of memory that is currently being used or in other words, how much memory is active or unavailable out of the total memory.\n",
    "\n",
    "4. `used`: This is the amount of memory that is currently being used by the operating system and all running processes.\n",
    "\n",
    "5. `free`: This is the amount of physical memory that is not being used by any process.\n",
    "\n",
    "6. `active`: This is the total amount of buffer or cached memory that is actively used by processes and the operating system.\n",
    "\n",
    "7. `inactive`: This is the amount of memory that is marked as not used.\n",
    "\n",
    "8. `wired`: This is memory that is marked to always stay in RAM. It is never moved to disk.\n",
    "\n",
    "For the specific values:\n",
    "\n",
    "- `total`: 17179869184 bytes (~17 GB)\n",
    "- `available`: 3814539264 bytes (~3.8 GB)\n",
    "- `percent`: 77.8% (indicating that 77.8% of your total memory is in use)\n",
    "- `used`: 6473400320 bytes (~6.47 GB)\n",
    "- `free`: 24100864 bytes (~24 MB)\n",
    "- `active`: 3806314496 bytes (~3.8 GB)\n",
    "- `inactive`: 3771367424 bytes (~3.77 GB)\n",
    "- `wired`: 2667085824 bytes (~2.67 GB)\n",
    "\n",
    "It appears that a substantial portion of my memory is used or reserved by processes (`active`), and a significant amount is `inactive` which could be used by other processes if necessary. The `free` memory is quite low, which is typical for modern operating systems that utilize as much RAM as possible for caching and other purposes to speed up the system's performance. The `wired` memory is likely being used by the system's kernel and by applications that have requested non-swappable memory. The `percent` indicates that you might be running many applications or dealing with large datasets, given that more than three-quarters of your RAM is in use."
   ]
  },
  {
   "cell_type": "markdown",
   "metadata": {},
   "source": [
    "- Apparently I have about 17 GB of RAM.\n",
    "- A number typically takes up 8 bytes, so I can store around 2 billion numbers.\n",
    "  - Actually less, because I have other stuff going on, not just Python.\n",
    "  - Plus, there's overhead from within Python.\n",
    "- If my code needs to store 2 billion numbers _at the same time_, I can't run it on my laptop. \n",
    "- We also analyze space complexity using Big O notation."
   ]
  },
  {
   "cell_type": "markdown",
   "metadata": {},
   "source": [
    "\n",
    "- With _time complexity_, we tend to think more about the _algorithms_.\n",
    "- With _space complexity_, we tend to think more about the _data structures_.\n",
    "\n"
   ]
  },
  {
   "cell_type": "markdown",
   "metadata": {},
   "source": [
    "**Example 1:**\n",
    "\n",
    "```python\n",
    "x = np.zeros(n)\n",
    "```\n",
    "\n",
    "<br><br><br>\n",
    "<br><br><br>\n",
    "Space complexity: $O(n)$\n",
    "\n"
   ]
  },
  {
   "cell_type": "markdown",
   "metadata": {},
   "source": [
    "When `np.zeros(n)` is called, it allocates memory for an array that can hold `n` elements. Each element in the array is a floating-point number (typically 8 bytes for a double-precision float, but this can vary). The space required for the array is directly proportional to the number of elements `n` that it needs to contain. Therefore, if the array size doubles, so does the memory requirement.\n",
    "\n",
    "The notation $O(n)$ describes that the space required grows linearly with the input size `n`. This means the relationship between the size of the input (`n`) and the amount of memory required (space complexity) is linear.\n"
   ]
  },
  {
   "cell_type": "markdown",
   "metadata": {},
   "source": [
    "**Example 2:**\n",
    "\n",
    "```python\n",
    "x = np.zeros((n,n))\n",
    "```\n",
    "\n",
    "<br><br><br>\n",
    "<br><br><br>\n",
    "Space complexity: $O(n^2)$\n",
    "\n"
   ]
  },
  {
   "cell_type": "markdown",
   "metadata": {},
   "source": [
    "Each element of this two-dimensional array requires a fixed amount of space, and since there are `n` rows and `n` columns, the total amount of space required is proportional to `n * n`, or `n^2`. The space complexity refers to how much memory the algorithm needs in relation to the input size. In this case, because the array is two-dimensional, the space required grows quadratically with the input `n`.\n",
    "\n",
    "We denote this space complexity as $O(n^2)$. It indicates that if you increase the size of `n`, the memory required increases by the square of that size. For example, if `n` is 10, you need space for 100 elements. If `n` is 100, you need space for 10,000 elements, and so on.\n"
   ]
  },
  {
   "cell_type": "markdown",
   "metadata": {},
   "source": [
    "**Example 3:**\n",
    "\n",
    "```python\n",
    "x = zeros((n,n,5))\n",
    "```\n",
    "\n",
    "<br><br><br>\n",
    "<br><br><br>\n",
    "Space complexity: $O(n^2)$\n",
    "\n"
   ]
  },
  {
   "cell_type": "markdown",
   "metadata": {},
   "source": [
    "This array consists of `n` two-dimensional arrays (or matrices), each of which is of size `n` by `5`. Thus, the total number of elements is `n * n * 5`. However, since Big O notation focuses on the rate of increase and not the exact number of operations, constants are typically ignored in the expression of complexity. The significant part is that the space needed scales with the square of `n`. The multiplication by `5` is a constant factor and does not change the order of growth in Big O terms.\n",
    "\n",
    "Although the array is technically three-dimensional, because one of the dimensions is a constant (5), the space complexity is not cubic but rather quadratic. Therefore, the space complexity is denoted as $O(n^2)$, which reflects the most significant factor in the space requirement as `n` becomes large.\n",
    "\n"
   ]
  },
  {
   "cell_type": "markdown",
   "metadata": {},
   "source": [
    "**Example 4:**\n",
    "\n",
    "```python\n",
    "x = zeros((n,n,n))\n",
    "```\n",
    "\n",
    "<br><br><br>\n",
    "<br><br><br>\n",
    "Space complexity: $O(n^3)$"
   ]
  },
  {
   "cell_type": "markdown",
   "metadata": {},
   "source": [
    "Since the array is a cube with each side of length `n`, the total number of elements in the array is `n * n * n`, which simplifies to `n^3`. Each element in the array is presumably a floating-point number which requires a fixed amount of space.\n",
    "\n",
    "With each increase in `n`, the space required for this array grows cubically, hence the space complexity is $O(n^3)$. This is a much faster growth rate compared to linear (O(n)) or quadratic (O(n^2)) space complexities. \n",
    "\n"
   ]
  },
  {
   "cell_type": "markdown",
   "metadata": {},
   "source": [
    "**Example 5:** \n",
    "\n",
    "You have $n$ users on your social network site, and you want to store a \"level of friendship\" between every pair of users.\n",
    "\n",
    "<br><br><br>\n",
    "<br><br><br>\n",
    "Space complexity: $O(n^2)$\n",
    "\n"
   ]
  },
  {
   "cell_type": "markdown",
   "metadata": {},
   "source": [
    "**Example 6:**\n",
    "\n",
    "You have $n$ users on your social network site, and you want to store who is friends with who.\n",
    "\n",
    "<br><br><br>\n",
    "<br><br><br>\n",
    "Space complexity: it depends! If each user only has a constant (independent of $n$) number of friends, then $O(n)$. But in the worst case it could be $O(n^2)$. \n",
    "\n",
    "\n"
   ]
  },
  {
   "cell_type": "code",
   "execution_count": 28,
   "metadata": {},
   "outputs": [
    {
     "name": "stdout",
     "output_type": "stream",
     "text": [
      "[NbConvertApp] Converting notebook _01-py-complexity-big-O.ipynb to html\n",
      "[NbConvertApp] Writing 355595 bytes to 01-py-complexity-big-O.html\n"
     ]
    }
   ],
   "source": [
    "!jupyter nbconvert _01-py-complexity-big-O.ipynb --to html --template classic --output 01-py-complexity-big-O.html"
   ]
  },
  {
   "cell_type": "markdown",
   "metadata": {},
   "source": [
    "# <center>Thank you!<a class=\"tocSkip\"></center>"
   ]
  }
 ],
 "metadata": {
  "kernelspec": {
   "display_name": "Python 3 (ipykernel)",
   "language": "python",
   "name": "python3"
  },
  "language_info": {
   "codemirror_mode": {
    "name": "ipython",
    "version": 3
   },
   "file_extension": ".py",
   "mimetype": "text/x-python",
   "name": "python",
   "nbconvert_exporter": "python",
   "pygments_lexer": "ipython3",
   "version": "3.12.2"
  },
  "toc": {
   "base_numbering": 1,
   "nav_menu": {},
   "number_sections": true,
   "sideBar": false,
   "skip_h1_title": false,
   "title_cell": "Table of Contents",
   "title_sidebar": "Contents",
   "toc_cell": false,
   "toc_position": {},
   "toc_section_display": true,
   "toc_window_display": false
  },
  "varInspector": {
   "cols": {
    "lenName": 16,
    "lenType": 16,
    "lenVar": 40
   },
   "kernels_config": {
    "python": {
     "delete_cmd_postfix": "",
     "delete_cmd_prefix": "del ",
     "library": "var_list.py",
     "varRefreshCmd": "print(var_dic_list())"
    },
    "r": {
     "delete_cmd_postfix": ") ",
     "delete_cmd_prefix": "rm(",
     "library": "var_list.r",
     "varRefreshCmd": "cat(var_dic_list()) "
    }
   },
   "types_to_exclude": [
    "module",
    "function",
    "builtin_function_or_method",
    "instance",
    "_Feature"
   ],
   "window_display": false
  }
 },
 "nbformat": 4,
 "nbformat_minor": 4
}
