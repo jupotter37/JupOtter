{
 "cells": [
  {
   "cell_type": "code",
   "execution_count": 1,
   "metadata": {},
   "outputs": [],
   "source": [
    "# Abdul Saboor\n",
    "# 20L-1113\n",
    "# BDS-6A"
   ]
  },
  {
   "cell_type": "code",
   "execution_count": 3,
   "metadata": {},
   "outputs": [
    {
     "name": "stdout",
     "output_type": "stream",
     "text": [
      "Number of Chickens: 10\n",
      "Number of Chickens: Too many\n"
     ]
    }
   ],
   "source": [
    "# Question 1\n",
    "\n",
    "def chickens(num):\n",
    "    if(num<11):\n",
    "        print(f\"Number of Chickens: {num}\")\n",
    "    else:\n",
    "        print(\"Number of Chickens: Too many\")\n",
    "\n",
    "chickens(10)\n",
    "chickens(11)"
   ]
  },
  {
   "cell_type": "code",
   "execution_count": 8,
   "metadata": {},
   "outputs": [
    {
     "data": {
      "text/plain": [
       "'intnce'"
      ]
     },
     "execution_count": 8,
     "metadata": {},
     "output_type": "execute_result"
    }
   ],
   "source": [
    "# Question 2\n",
    "\n",
    "def q2(arg):\n",
    "    if(len(arg)<4):\n",
    "        return \"\"\n",
    "    else:\n",
    "        return arg[0:3]+arg[-3:]\n",
    "\n",
    "q2('intelligence')"
   ]
  },
  {
   "cell_type": "code",
   "execution_count": 10,
   "metadata": {},
   "outputs": [
    {
     "data": {
      "text/plain": [
       "'o@@gle'"
      ]
     },
     "execution_count": 10,
     "metadata": {},
     "output_type": "execute_result"
    }
   ],
   "source": [
    "# Question 3\n",
    "\n",
    "# For a given string s, create a new string such that it replaces some characters of the string\n",
    "# with '@'. To replace, find the first character of the given string s. Now find all\n",
    "# occurrences of this first character in the string and replace them with '@'. Do not change\n",
    "# the first character itself.\n",
    "# e.g. 'Ooogle' create 'O@@gle'\n",
    "# Assume that the string is length 1 or more and take care of the word case.\n",
    "\n",
    "def q3(s):\n",
    "    first_char = s[0]\n",
    "    s = s.replace(first_char, '@')\n",
    "    s = first_char + s[1:]\n",
    "    return s\n",
    "\n",
    "q3('ooogle')"
   ]
  },
  {
   "cell_type": "code",
   "execution_count": 13,
   "metadata": {},
   "outputs": [
    {
     "data": {
      "text/plain": [
       "'aadul sbboor'"
      ]
     },
     "execution_count": 13,
     "metadata": {},
     "output_type": "execute_result"
    }
   ],
   "source": [
    "# Question 4\n",
    "\n",
    "def q4(arg1,arg2):\n",
    "    return f\"{arg1[0:1]}{arg2[1:2]}{arg1[2:]} {arg2[0:1]}{arg1[1:2]}{arg2[2:]}\"\n",
    "\n",
    "q4('beat','box')\n",
    "q4('abdul','saboor')"
   ]
  },
  {
   "cell_type": "code",
   "execution_count": 14,
   "metadata": {},
   "outputs": [
    {
     "name": "stdout",
     "output_type": "stream",
     "text": [
      "2\n"
     ]
    }
   ],
   "source": [
    "# Question 5\n",
    "\n",
    "def q5(arg):\n",
    "    count=0\n",
    "    for i in arg:\n",
    "        if(i[0]==i[-1]):\n",
    "            count+=1\n",
    "    return count\n",
    "\n",
    "print(q5(['abba','abcd','abcdb','abcdba']))"
   ]
  },
  {
   "cell_type": "code",
   "execution_count": 1,
   "metadata": {},
   "outputs": [
    {
     "data": {
      "text/plain": [
       "['aardvark', 'apple', 'mix', 'xanadu', 'xyz']"
      ]
     },
     "execution_count": 1,
     "metadata": {},
     "output_type": "execute_result"
    }
   ],
   "source": [
    "# Question 6\n",
    "\n",
    "# Given a list of strings, return a list with the strings in sorted order, except group all the\n",
    "# strings that begin with 'a' first.\n",
    "# e.g. ['mix', 'xyz', 'apple', 'xanadu', 'aardvark'] creates ['aardvark', 'apple', 'mix', 'xanadu',\n",
    "# 'xyz']\n",
    "\n",
    "def q6(arg):\n",
    "    a=[]\n",
    "    b=[]\n",
    "    for i in arg:\n",
    "        if(i[0]=='a'):\n",
    "            a.append(i)\n",
    "        else:\n",
    "            b.append(i)\n",
    "    a.sort()\n",
    "    b.sort()\n",
    "    return a+b\n",
    "\n",
    "q6(['mix', 'xyz', 'apple', 'xanadu', 'aardvark'])"
   ]
  },
  {
   "cell_type": "code",
   "execution_count": 1,
   "metadata": {},
   "outputs": [
    {
     "data": {
      "text/plain": [
       "[(2, 2), (1, 3), (3, 4, 5), (1, 7)]"
      ]
     },
     "execution_count": 1,
     "metadata": {},
     "output_type": "execute_result"
    }
   ],
   "source": [
    "# question 7\n",
    "\n",
    "# Given a list of non-empty tuples, return a list sorted in increasing order by the last\n",
    "# element in each tuple.\n",
    "# e.g. [(1, 7), (1, 3), (3, 4, 5), (2, 2)] creates [(2, 2), (1, 3), (3, 4, 5), (1, 7)]\n",
    "\n",
    "def q7(arg):\n",
    "    return sorted(arg,key=lambda x:x[-1])\n",
    "\n",
    "q7([(1, 7), (1, 3), (3, 4, 5), (2, 2)])"
   ]
  },
  {
   "cell_type": "code",
   "execution_count": 2,
   "metadata": {},
   "outputs": [
    {
     "data": {
      "text/plain": [
       "True"
      ]
     },
     "execution_count": 2,
     "metadata": {},
     "output_type": "execute_result"
    }
   ],
   "source": [
    "# Question 8\n",
    "\n",
    "# Given a string s, create a function to detect if it's a palindrome. A palindrome is a word,\n",
    "# phrase, number, or other sequence of characters that reads the same backward or forward.\n",
    "\n",
    "def q8(arg):\n",
    "    return arg==arg[::-1]\n",
    "\n",
    "q8('madam')"
   ]
  },
  {
   "cell_type": "code",
   "execution_count": 3,
   "metadata": {},
   "outputs": [
    {
     "data": {
      "text/plain": [
       "[1, 2, 3, 4, 5]"
      ]
     },
     "execution_count": 3,
     "metadata": {},
     "output_type": "execute_result"
    }
   ],
   "source": [
    "# Question 9\n",
    "\n",
    "# Given a nested list of integers, create a function to flatten the list to a single-level list.\n",
    "# For example, [[1, 2, 3], [4, 5]] will be flattened to [1, 2, 3, 4, 5].\n",
    "\n",
    "def q9(arg):\n",
    "    return [i for j in arg for i in j]\n",
    "\n",
    "q9([[1, 2, 3], [4, 5]])"
   ]
  },
  {
   "cell_type": "code",
   "execution_count": 4,
   "metadata": {},
   "outputs": [
    {
     "data": {
      "text/plain": [
       "[1, 2, 3, 4, 5]"
      ]
     },
     "execution_count": 4,
     "metadata": {},
     "output_type": "execute_result"
    }
   ],
   "source": [
    "# Question 10\n",
    "\n",
    "# Given two lists of integers, create a function to return a list that contains only the\n",
    "# elements that are common between the two lists (without duplicates). Make sure your\n",
    "# program works with lists of different sizes.\n",
    "\n",
    "def q10(arg1,arg2):\n",
    "    return list(set(arg1).intersection(arg2))\n",
    "\n",
    "q10([1,2,3,4,5],[1,2,3,4,5,6,7,8,9])"
   ]
  },
  {
   "cell_type": "code",
   "execution_count": 5,
   "metadata": {},
   "outputs": [
    {
     "data": {
      "text/plain": [
       "True"
      ]
     },
     "execution_count": 5,
     "metadata": {},
     "output_type": "execute_result"
    }
   ],
   "source": [
    "# Question 11\n",
    "\n",
    "# Given two strings, create a function to detect if they are anagrams. An anagram is a word,\n",
    "# phrase, or name formed by rearranging the letters of another, such as cinema, formed\n",
    "# from iceman.\n",
    "\n",
    "def q11(arg1,arg2):\n",
    "    return sorted(arg1)==sorted(arg2)\n",
    "\n",
    "q11('cinema','iceman')"
   ]
  },
  {
   "cell_type": "code",
   "execution_count": 6,
   "metadata": {},
   "outputs": [
    {
     "data": {
      "text/plain": [
       "4"
      ]
     },
     "execution_count": 6,
     "metadata": {},
     "output_type": "execute_result"
    }
   ],
   "source": [
    "# Question 12\n",
    "\n",
    "# Given a sorted list of integers, create a function to perform binary search on the list and\n",
    "# return the index of the target element. If the target element is not found, return -1.\n",
    "\n",
    "def q12(arg1,arg2):\n",
    "    if(arg2 in arg1):\n",
    "        return arg1.index(arg2)\n",
    "    else:\n",
    "        return -1\n",
    "\n",
    "q12([1,2,3,4,5,6,7,8,9],5)"
   ]
  },
  {
   "cell_type": "code",
   "execution_count": 8,
   "metadata": {},
   "outputs": [
    {
     "data": {
      "text/plain": [
       "[1, 2, 3, 4, 5, 6, 7, 8, 9]"
      ]
     },
     "execution_count": 8,
     "metadata": {},
     "output_type": "execute_result"
    }
   ],
   "source": [
    "# Question 13\n",
    "\n",
    "# Given a list of integers, create a function to sort the list using the merge sort algorithm.\n",
    "# The merge sort algorithm is a recursive sorting algorithm that works by breaking down\n",
    "# the list into smaller sub-lists and then recombining them in a sorted manner.\n",
    "\n",
    "def q13(arg):\n",
    "    if(len(arg)>1):\n",
    "        mid=len(arg)//2\n",
    "        left=arg[:mid]\n",
    "        right=arg[mid:]\n",
    "        q13(left)\n",
    "        q13(right)\n",
    "        i=j=k=0\n",
    "        while(i<len(left) and j<len(right)):\n",
    "            if(left[i]<right[j]):\n",
    "                arg[k]=left[i]\n",
    "                i+=1\n",
    "            else:\n",
    "                arg[k]=right[j]\n",
    "                j+=1\n",
    "            k+=1\n",
    "        while(i<len(left)):\n",
    "            arg[k]=left[i]\n",
    "            i+=1\n",
    "            k+=1\n",
    "        while(j<len(right)):\n",
    "            arg[k]=right[j]\n",
    "            j+=1\n",
    "            k+=1\n",
    "    return arg\n",
    "\n",
    "q13([9,8,7,6,5,4,3,2,1])"
   ]
  },
  {
   "cell_type": "code",
   "execution_count": 9,
   "metadata": {},
   "outputs": [
    {
     "data": {
      "text/plain": [
       "[1, 2, 3, 4, 5, 6, 7, 8, 9]"
      ]
     },
     "execution_count": 9,
     "metadata": {},
     "output_type": "execute_result"
    }
   ],
   "source": [
    "# Question 14\n",
    "\n",
    "# Given a list of integers, create a function to sort the list using the quick sort algorithm.\n",
    "# The quick sort algorithm is a recursive sorting algorithm that selects a pivot element from\n",
    "# the list and then partitions the other elements into two sub-lists, according to whether they\n",
    "# are less than or greater than the pivot.\n",
    "\n",
    "def q14(arg):\n",
    "    if(len(arg)>1):\n",
    "        pivot=arg[0]\n",
    "        left=[]\n",
    "        right=[]\n",
    "        for i in arg[1:]:\n",
    "            if(i<pivot):\n",
    "                left.append(i)\n",
    "            else:\n",
    "                right.append(i)\n",
    "        return q14(left)+[pivot]+q14(right)\n",
    "    else:\n",
    "        return arg\n",
    "\n",
    "q14([9,8,7,6,5,4,3,2,1])"
   ]
  },
  {
   "cell_type": "code",
   "execution_count": 10,
   "metadata": {},
   "outputs": [
    {
     "data": {
      "text/plain": [
       "{1: 1, 2: 3, 3: 1, 4: 1}"
      ]
     },
     "execution_count": 10,
     "metadata": {},
     "output_type": "execute_result"
    }
   ],
   "source": [
    "# Question 15\n",
    "\n",
    "# Given a list of integers, create a function to return a dictionary that contains the\n",
    "# frequency count of each element in the list. For example, the list [1, 2, 2, 3, 4, 2] would\n",
    "# return {1:1, 2:3, 3:1, 4:1}.\n",
    "\n",
    "def q15(arg):\n",
    "    return {i:arg.count(i) for i in arg}\n",
    "\n",
    "q15([1, 2, 2, 3, 4, 2])"
   ]
  },
  {
   "cell_type": "code",
   "execution_count": 13,
   "metadata": {},
   "outputs": [
    {
     "data": {
      "text/plain": [
       "4"
      ]
     },
     "execution_count": 13,
     "metadata": {},
     "output_type": "execute_result"
    }
   ],
   "source": [
    "# Question 16\n",
    "\n",
    "# Given a list of integers, create a function to return the count of distinct elements in the\n",
    "# list. For example, the list [1, 2, 2, 3, 4, 2] would return 4.\n",
    "\n",
    "def q16(arg):\n",
    "    return len(set(arg))\n",
    "\n",
    "q16([1, 2, 2, 3, 4, 2])"
   ]
  },
  {
   "cell_type": "code",
   "execution_count": 14,
   "metadata": {},
   "outputs": [
    {
     "data": {
      "text/plain": [
       "({1, 2, 3, 4, 5, 6, 7, 8, 9}, {1, 2, 3, 4})"
      ]
     },
     "execution_count": 14,
     "metadata": {},
     "output_type": "execute_result"
    }
   ],
   "source": [
    "# Question 17\n",
    "\n",
    "# Given two sets of integers, create a function to return the union and intersection of the\n",
    "# sets as a tuple of two sets. The union is the set of elements that appear in either set, while\n",
    "# the intersection is the set of elements that appear in both sets.\n",
    "\n",
    "def q17(arg1,arg2):\n",
    "    return (set(arg1).union(set(arg2)),set(arg1).intersection(set(arg2)))\n",
    "\n",
    "q17([1, 2, 2, 3, 4, 2],[1, 2, 2, 3, 4, 2, 5, 6, 7, 8, 9])"
   ]
  },
  {
   "cell_type": "code",
   "execution_count": 16,
   "metadata": {},
   "outputs": [
    {
     "data": {
      "text/plain": [
       "[1,\n",
       " 2,\n",
       " 3,\n",
       " 4,\n",
       " 5,\n",
       " 6,\n",
       " 7,\n",
       " 8,\n",
       " 9,\n",
       " 10,\n",
       " 11,\n",
       " 12,\n",
       " 13,\n",
       " 14,\n",
       " 15,\n",
       " 16,\n",
       " 17,\n",
       " 18,\n",
       " 19,\n",
       " 20,\n",
       " 21,\n",
       " 22,\n",
       " 23,\n",
       " 24,\n",
       " 25]"
      ]
     },
     "execution_count": 16,
     "metadata": {},
     "output_type": "execute_result"
    }
   ],
   "source": [
    "# Question 18\n",
    "\n",
    "# Given a dictionary, return a list of all the values in the dictionary, but without any\n",
    "# duplicates.\n",
    "\n",
    "def q18(arg):\n",
    "    return list(set(arg.values()))\n",
    "\n",
    "q18({'a':1,'b':2,'c':3,'d':4,'e':5,'f':6,'g':7,'h':8,'i':9,'j':10,'k':11,'l':12,'m':13,'n':14,'o':15,'p':16,'q':17,'r':18,'s':19,'t':20,'u':21,'v':22,'w':23,'x':24,'y':25,'z':25})"
   ]
  },
  {
   "cell_type": "code",
   "execution_count": 17,
   "metadata": {},
   "outputs": [
    {
     "data": {
      "text/plain": [
       "['y', 'z']"
      ]
     },
     "execution_count": 17,
     "metadata": {},
     "output_type": "execute_result"
    }
   ],
   "source": [
    "# Question 19\n",
    "\n",
    "# Given a dictionary, return the key(s) of the value(s) that appear most often. If there is a\n",
    "# tie, return all keys.\n",
    "\n",
    "def q19(arg):\n",
    "    return [i for i in arg if(arg[i]==max(arg.values()))]\n",
    "\n",
    "q19({'a':1,'b':2,'c':3,'d':4,'e':5,'f':6,'g':7,'h':8,'i':9,'j':10,'k':11,'l':12,'m':13,'n':14,'o':15,'p':16,'q':17,'r':18,'s':19,'t':20,'u':21,'v':22,'w':23,'x':24,'y':25,'z':25})"
   ]
  },
  {
   "cell_type": "code",
   "execution_count": 1,
   "metadata": {},
   "outputs": [
    {
     "data": {
      "text/plain": [
       "{'a': 1,\n",
       " 'b': 2,\n",
       " 'c': 3,\n",
       " 'd': 4,\n",
       " 'e': 5,\n",
       " 'f': 6,\n",
       " 'g': 7,\n",
       " 'h': 8,\n",
       " 'i': 9,\n",
       " 'j': 10,\n",
       " 'k': 11,\n",
       " 'l': 12,\n",
       " 'm': 13,\n",
       " 'n': 14,\n",
       " 'o': 15,\n",
       " 'p': 16,\n",
       " 'q': 17,\n",
       " 'r': 18,\n",
       " 's': 19,\n",
       " 't': 20,\n",
       " 'u': 21,\n",
       " 'v': 22,\n",
       " 'w': 23,\n",
       " 'x': 24,\n",
       " 'y': 25,\n",
       " 'z': 25}"
      ]
     },
     "execution_count": 1,
     "metadata": {},
     "output_type": "execute_result"
    }
   ],
   "source": [
    "# Question 20\n",
    "\n",
    "# Given two dictionaries d1 and d2, return a new dictionary which contains all the keys and\n",
    "# values from d1 and d2. If a key is in both dictionaries, the value from d1 takes\n",
    "# precedence.\n",
    "\n",
    "def q20(arg1,arg2):\n",
    "    return {**arg1,**arg2}\n",
    "\n",
    "q20({'a':1,'b':2,'c':3,'d':4,'e':5,'f':6,'g':7,'h':8,'i':9,'j':10,'k':11,'l':12,'m':13,'n':14,'o':15,'p':16,'q':17,'r':18,'s':19,'t':20,'u':21,'v':22,'w':23,'x':24,'y':25,'z':25},{'a':1,'b':2,'c':3,'d':4,'e':5,'f':6,'g':7,'h':8,'i':9,'j':10,'k':11,'l':12,'m':13,'n':14,'o':15,'p':16,'q':17,'r':18,'s':19,'t':20,'u':21,'v':22,'w':23,'x':24,'y':25,'z':25})"
   ]
  },
  {
   "cell_type": "code",
   "execution_count": 2,
   "metadata": {},
   "outputs": [
    {
     "data": {
      "text/plain": [
       "[{'a': 1,\n",
       "  'b': 2,\n",
       "  'c': 3,\n",
       "  'd': 4,\n",
       "  'e': 5,\n",
       "  'f': 6,\n",
       "  'g': 7,\n",
       "  'h': 8,\n",
       "  'i': 9,\n",
       "  'j': 10,\n",
       "  'k': 11,\n",
       "  'l': 12,\n",
       "  'm': 13,\n",
       "  'n': 14,\n",
       "  'o': 15,\n",
       "  'p': 16,\n",
       "  'q': 17,\n",
       "  'r': 18,\n",
       "  's': 19,\n",
       "  't': 20,\n",
       "  'u': 21,\n",
       "  'v': 22,\n",
       "  'w': 23,\n",
       "  'x': 24,\n",
       "  'y': 25,\n",
       "  'z': 25},\n",
       " {'a': 1,\n",
       "  'b': 2,\n",
       "  'c': 3,\n",
       "  'd': 4,\n",
       "  'e': 5,\n",
       "  'f': 6,\n",
       "  'g': 7,\n",
       "  'h': 8,\n",
       "  'i': 9,\n",
       "  'j': 10,\n",
       "  'k': 11,\n",
       "  'l': 12,\n",
       "  'm': 13,\n",
       "  'n': 14,\n",
       "  'o': 15,\n",
       "  'p': 16,\n",
       "  'q': 17,\n",
       "  'r': 18,\n",
       "  's': 19,\n",
       "  't': 20,\n",
       "  'u': 21,\n",
       "  'v': 22,\n",
       "  'w': 23,\n",
       "  'x': 24,\n",
       "  'y': 25,\n",
       "  'z': 25}]"
      ]
     },
     "execution_count": 2,
     "metadata": {},
     "output_type": "execute_result"
    }
   ],
   "source": [
    "# Question 21\n",
    "\n",
    "# Given a list of dictionaries and a key, return a new list that contains only the dictionaries\n",
    "# that have the given key.\n",
    "\n",
    "def q21(arg1,arg2):\n",
    "    return [i for i in arg1 if(arg2 in i.keys())]\n",
    "\n",
    "q21([{'a':1,'b':2,'c':3,'d':4,'e':5,'f':6,'g':7,'h':8,'i':9,'j':10,'k':11,'l':12,'m':13,'n':14,'o':15,'p':16,'q':17,'r':18,'s':19,'t':20,'u':21,'v':22,'w':23,'x':24,'y':25,'z':25},{'a':1,'b':2,'c':3,'d':4,'e':5,'f':6,'g':7,'h':8,'i':9,'j':10,'k':11,'l':12,'m':13,'n':14,'o':15,'p':16,'q':17,'r':18,'s':19,'t':20,'u':21,'v':22,'w':23,'x':24,'y':25,'z':25}], 'a')"
   ]
  },
  {
   "cell_type": "code",
   "execution_count": 3,
   "metadata": {},
   "outputs": [
    {
     "data": {
      "text/plain": [
       "[2]"
      ]
     },
     "execution_count": 3,
     "metadata": {},
     "output_type": "execute_result"
    }
   ],
   "source": [
    "# Question 22\n",
    "\n",
    "# Given a list, return the elements that are duplicated in the list. The returned list should\n",
    "# only contain the duplicated elements, without any duplicates.\n",
    "\n",
    "def q22(arg):\n",
    "    return list(set([i for i in arg if(arg.count(i)>1)]))\n",
    "\n",
    "q22([1, 2, 2, 3, 4, 2])"
   ]
  }
 ],
 "metadata": {
  "kernelspec": {
   "display_name": "base",
   "language": "python",
   "name": "python3"
  },
  "language_info": {
   "codemirror_mode": {
    "name": "ipython",
    "version": 3
   },
   "file_extension": ".py",
   "mimetype": "text/x-python",
   "name": "python",
   "nbconvert_exporter": "python",
   "pygments_lexer": "ipython3",
   "version": "3.10.8"
  },
  "orig_nbformat": 4,
  "vscode": {
   "interpreter": {
    "hash": "e40199dda8da9b508830e9cbab01b6adfc3e007bf238c8282f0c8d3ce75622cc"
   }
  }
 },
 "nbformat": 4,
 "nbformat_minor": 2
}
