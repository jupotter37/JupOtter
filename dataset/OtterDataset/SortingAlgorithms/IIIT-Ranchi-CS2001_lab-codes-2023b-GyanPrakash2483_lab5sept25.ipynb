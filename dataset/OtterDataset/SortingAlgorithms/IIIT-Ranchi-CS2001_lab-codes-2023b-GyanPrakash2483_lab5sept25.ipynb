{
 "cells": [
  {
   "cell_type": "markdown",
   "metadata": {},
   "source": [
    "1. Generate two tuples to represent two distinct points in space. (Three dimensional geometry). Determine the Euclidian distance between the two."
   ]
  },
  {
   "cell_type": "code",
   "execution_count": 2,
   "metadata": {},
   "outputs": [
    {
     "name": "stdout",
     "output_type": "stream",
     "text": [
      "Distance: 4.47213595499958\n"
     ]
    }
   ],
   "source": [
    "p1 = tuple(int(i) for i in input(\"Enter first point: \").split())\n",
    "p2 = tuple(int(i) for i in input(\"Enter second point: \").split())\n",
    "\n",
    "distance = ((p2[0] - p1[0])**2 + (p2[1] - p1[1])**2 + (p2[2] - p1[2])**2)**(1/2)\n",
    "\n",
    "print(\"Distance: \" + str(distance))\n"
   ]
  },
  {
   "cell_type": "markdown",
   "metadata": {},
   "source": [
    "2. Generate three lists using list comprehension. List of names, list of Roll nos and list of marks for Physics exam for all students of the class. Create a list of tuples using the zip function where each tuple carries individual student details. Sort the list of tuples using a sorted function by keeping Marks as the key for sorting.\n"
   ]
  },
  {
   "cell_type": "code",
   "execution_count": 13,
   "metadata": {},
   "outputs": [
    {
     "name": "stdout",
     "output_type": "stream",
     "text": [
      "Original students data: [('Gyan', 17, 100), ('Shubham', 18, 99)]\n",
      "Sorted students data: [('Shubham', 18, 99), ('Gyan', 17, 100)]\n"
     ]
    }
   ],
   "source": [
    "names = [n for n in input().split()]\n",
    "rolls = [int(roll) for roll in input().split()]\n",
    "marks = [int(mark) for mark in input().split()]\n",
    "\n",
    "student_data = list(zip(names, rolls, marks))\n",
    "print(\"Original students data: \" + str(student_data))\n",
    "sorted_student_data = sorted(student_data, key=lambda student: student[2])\n",
    "print(\"Sorted students data: \" + str(sorted_student_data))"
   ]
  },
  {
   "cell_type": "markdown",
   "metadata": {},
   "source": [
    "3. Redo question 2 without using zip and sorted functions."
   ]
  },
  {
   "cell_type": "code",
   "execution_count": 14,
   "metadata": {},
   "outputs": [
    {
     "name": "stdout",
     "output_type": "stream",
     "text": [
      "Original students data: [('Gyan', 17, 100), ('Shubham', 18, 99)]\n",
      "Sorted students data: [('Shubham', 18, 99), ('Gyan', 17, 100)]\n"
     ]
    }
   ],
   "source": [
    "names = [n for n in input().split()]\n",
    "rolls = [int(roll) for roll in input().split()]\n",
    "marks = [int(mark) for mark in input().split()]\n",
    "\n",
    "student_data = [(names[i], rolls[i], marks[i]) for i in range(0, len(rolls))]\n",
    "print(\"Original students data: \" + str(student_data))\n",
    "student_data.sort(key=lambda student: student[2])\n",
    "print(\"Sorted students data: \" + str(student_data))"
   ]
  },
  {
   "cell_type": "markdown",
   "metadata": {},
   "source": [
    "4. Enter a string. Determine the count of each letter present in the string using the concept of a dictionary."
   ]
  },
  {
   "cell_type": "code",
   "execution_count": 3,
   "metadata": {},
   "outputs": [
    {
     "name": "stdout",
     "output_type": "stream",
     "text": [
      "Letter Frequency: {'T': 1, 'o': 5, 'b': 2, 'e': 4, 'r': 1, 'n': 2, 't': 6, ',': 1, 'h': 2, 'a': 1, 'i': 2, 's': 2, 'q': 1, 'u': 1}\n"
     ]
    }
   ],
   "source": [
    "string = input(\"Enter the string: \")\n",
    "freq = dict()\n",
    "\n",
    "for l in string:\n",
    "    if(l == ' '):\n",
    "        continue\n",
    "    elif(freq.get(l, \"ERR_LETTER_NOT_EXIST\") == \"ERR_LETTER_NOT_EXIST\"):\n",
    "        freq[l] = 1\n",
    "    else:\n",
    "        freq[l] += 1\n",
    "\n",
    "print(\"Letter Frequency: \" + str(freq))"
   ]
  },
  {
   "cell_type": "markdown",
   "metadata": {},
   "source": [
    "5. Create a dictionary containing user-inputted names and marks (in percentage) for 5 students. Write a Python program that classifies these students into three categories: \"High Performers\" (marks ≥ 85), \"Average Performers\" (60 ≤ marks < 85), and \"Low Performers\" (marks < 60). The program should print the number of students in each category along with their names. Finally, identify and display the name of the student with the highest marks.\n"
   ]
  },
  {
   "cell_type": "code",
   "execution_count": 25,
   "metadata": {},
   "outputs": [
    {
     "name": "stdout",
     "output_type": "stream",
     "text": [
      "{'Student 1': 99, 'Student 2': 75, 'Student 3': 66, 'Student 4': 100, 'Student 5': 33}\n",
      "\n",
      "High Performers(2):\n",
      "{'Student 1': 99, 'Student 4': 100}\n",
      "\n",
      "Average Performers(2):\n",
      "{'Student 2': 75, 'Student 3': 66}\n",
      "\n",
      "Low Performers(1):\n",
      "{'Student 5': 33}\n",
      "\n",
      "Topper is Student 4 with 100 marks.\n"
     ]
    }
   ],
   "source": [
    "students = dict()\n",
    "for i in range(0, 5):\n",
    "    name = input(\"Enter name of student %d\" % (i + 1))\n",
    "    mark = int(input(\"Enter marks of student %d\" % (i + 1)))\n",
    "    students[name] = mark\n",
    "\n",
    "print(students)\n",
    "\n",
    "high_performers = dict()\n",
    "average_performers = dict()\n",
    "low_performers = dict()\n",
    "\n",
    "for key in students:\n",
    "    if(students[key] >= 85):\n",
    "        high_performers[key] = students[key]\n",
    "    elif(students[key] >= 60):\n",
    "        average_performers[key] = students[key]\n",
    "    else:\n",
    "        low_performers[key] = students[key]\n",
    "\n",
    "print(\"\\nHigh Performers(%d):\" % len(high_performers))\n",
    "print(high_performers)\n",
    "\n",
    "print(\"\\nAverage Performers(%d):\" % len(average_performers))\n",
    "print(average_performers)\n",
    "\n",
    "print(\"\\nLow Performers(%d):\" % len(low_performers))\n",
    "print(low_performers)\n",
    "\n",
    "topper = max(students, key=lambda key: students[key])\n",
    "print(\"\\nTopper is %s with %d marks.\" % (topper, students[topper]))"
   ]
  },
  {
   "cell_type": "markdown",
   "metadata": {},
   "source": [
    "6. Create a program that manages employee salaries in a company using a dictionary. The dictionary should contain at least 5 employees, with their names as keys and their respective salaries as values [take user input data]. Implement a sorting algorithm to arrange the employees in descending order based on their salaries without using any built-in sorting functions, and display the sorted list along with their salaries and rank (highest salary first and so on). [Hint: check the second parameter of the enumerate function].\n",
    "E.g., \n",
    "   1. Cummins: Rs. 5000\n",
    "   2. Head: Rs. 4500\n",
    "   3. Maxwell: Rs. 2500\n",
    "   4. Narine: Rs. 1100\n",
    "   5. Rashid: Rs. 890\n"
   ]
  },
  {
   "cell_type": "code",
   "execution_count": 41,
   "metadata": {},
   "outputs": [
    {
     "name": "stdout",
     "output_type": "stream",
     "text": [
      "1. Cummins: Rs. 5000\n",
      "2. Head: Rs. 4500\n",
      "3. Maxwell: Rs. 2500\n",
      "4. Narine: Rs. 1100\n",
      "5. Rashid: Rs. 890\n"
     ]
    }
   ],
   "source": [
    "# employees = {\n",
    "#     \"Head\": 4500,\n",
    "#     \"Narine\": 1100,\n",
    "#     \"Rashid\": 890,\n",
    "#     \"Maxwell\": 2500,\n",
    "#     \"Cummins\": 5000\n",
    "# }\n",
    "\n",
    "employees = dict()\n",
    "\n",
    "n = int(input(\"Enter number of employees: \"))\n",
    "for i in range(0, n):\n",
    "    name = input(\"Enter name of employee: \")\n",
    "    salary = int(input(\"Enter salary of %s: \" % name))\n",
    "    employees[name] = salary\n",
    "\n",
    "salary_order = list(employees.values())\n",
    "key_order = list(employees.keys())\n",
    "\n",
    "for i in range(0, len(employees)):\n",
    "    for j in range(i + 1, len(employees)):\n",
    "        if(salary_order[i] < salary_order[j]):\n",
    "            salary_order[i], salary_order[j] = salary_order[j], salary_order[i]\n",
    "            key_order[i], key_order[j] = key_order[j], key_order[i]\n",
    "\n",
    "\n",
    "sorted_employees = {key:employees[key] for key in key_order}\n",
    "for i, key in enumerate(sorted_employees):\n",
    "    print(str(i+1) + \". \" + key + \": \" + \"Rs. \" + str(sorted_employees[key]))"
   ]
  }
 ],
 "metadata": {
  "kernelspec": {
   "display_name": "Python 3",
   "language": "python",
   "name": "python3"
  },
  "language_info": {
   "codemirror_mode": {
    "name": "ipython",
    "version": 3
   },
   "file_extension": ".py",
   "mimetype": "text/x-python",
   "name": "python",
   "nbconvert_exporter": "python",
   "pygments_lexer": "ipython3",
   "version": "3.12.3"
  }
 },
 "nbformat": 4,
 "nbformat_minor": 2
}
