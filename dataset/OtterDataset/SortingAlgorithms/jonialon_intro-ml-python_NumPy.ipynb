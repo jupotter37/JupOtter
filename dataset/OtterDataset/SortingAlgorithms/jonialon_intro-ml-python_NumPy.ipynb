{
  "nbformat": 4,
  "nbformat_minor": 0,
  "metadata": {
    "colab": {
      "provenance": [],
      "authorship_tag": "ABX9TyNd7Ex7tUXLJQ0QiJWfl2/w",
      "include_colab_link": true
    },
    "kernelspec": {
      "name": "python3",
      "display_name": "Python 3"
    },
    "language_info": {
      "name": "python"
    }
  },
  "cells": [
    {
      "cell_type": "markdown",
      "metadata": {
        "id": "view-in-github",
        "colab_type": "text"
      },
      "source": [
        "<a href=\"https://colab.research.google.com/github/jonialon/intro-ml-python/blob/main/NumPy.ipynb\" target=\"_parent\"><img src=\"https://colab.research.google.com/assets/colab-badge.svg\" alt=\"Open In Colab\"/></a>"
      ]
    },
    {
      "cell_type": "code",
      "source": [
        "import numpy as np\n",
        "from IPython.core.interactiveshell import InteractiveShell\n",
        "InteractiveShell.ast_node_interactivity = 'last_expr_or_assign' # \"all\""
      ],
      "metadata": {
        "id": "eFN57D-_sor4"
      },
      "execution_count": null,
      "outputs": []
    },
    {
      "cell_type": "markdown",
      "source": [
        "# NumPy Array Basics"
      ],
      "metadata": {
        "id": "oQ2puWew9emH"
      }
    },
    {
      "cell_type": "markdown",
      "source": [
        "## Array Creation — from list"
      ],
      "metadata": {
        "id": "vc6IbzVNsvEg"
      }
    },
    {
      "cell_type": "code",
      "execution_count": null,
      "metadata": {
        "colab": {
          "base_uri": "https://localhost:8080/"
        },
        "id": "LZrhCgtHsMVh",
        "outputId": "d7f833d3-ff3f-4b38-8879-f43f27fb3524"
      },
      "outputs": [
        {
          "output_type": "execute_result",
          "data": {
            "text/plain": [
              "array([1, 2, 3, 4])"
            ]
          },
          "metadata": {},
          "execution_count": 2
        }
      ],
      "source": [
        "a = np.array([1, 2, 3, 4]) # from list"
      ]
    },
    {
      "cell_type": "code",
      "source": [
        "b = np.array([(1, 2, 3, 4), (0, 0, 0, 0)]) # 2D matrix from list of tuples"
      ],
      "metadata": {
        "colab": {
          "base_uri": "https://localhost:8080/"
        },
        "id": "fjq-KIQ7t1QN",
        "outputId": "3fd4128a-7318-4a66-c935-d0db454bfb4a"
      },
      "execution_count": null,
      "outputs": [
        {
          "output_type": "execute_result",
          "data": {
            "text/plain": [
              "array([[1, 2, 3, 4],\n",
              "       [0, 0, 0, 0]])"
            ]
          },
          "metadata": {},
          "execution_count": 3
        }
      ]
    },
    {
      "cell_type": "code",
      "source": [
        "c = np.arange(10, 30, 5)"
      ],
      "metadata": {
        "colab": {
          "base_uri": "https://localhost:8080/"
        },
        "id": "xRMLVRxsux6_",
        "outputId": "ddf773c0-0d97-499f-edd2-5eec60c1b74d"
      },
      "execution_count": null,
      "outputs": [
        {
          "output_type": "execute_result",
          "data": {
            "text/plain": [
              "array([10, 15, 20, 25])"
            ]
          },
          "metadata": {},
          "execution_count": 4
        }
      ]
    },
    {
      "cell_type": "code",
      "source": [
        "d = np.arange(15).reshape(3, 5)"
      ],
      "metadata": {
        "colab": {
          "base_uri": "https://localhost:8080/"
        },
        "id": "r1mlCiNuvH13",
        "outputId": "0fbf39af-b3b9-4c66-dd29-afdeb6fe68c8"
      },
      "execution_count": null,
      "outputs": [
        {
          "output_type": "execute_result",
          "data": {
            "text/plain": [
              "array([[ 0,  1,  2,  3,  4],\n",
              "       [ 5,  6,  7,  8,  9],\n",
              "       [10, 11, 12, 13, 14]])"
            ]
          },
          "metadata": {},
          "execution_count": 5
        }
      ]
    },
    {
      "cell_type": "markdown",
      "source": [
        "## Array Creation — zeros"
      ],
      "metadata": {
        "id": "qvyqyW4vvh_n"
      }
    },
    {
      "cell_type": "code",
      "source": [
        "e = np.zeros(4)"
      ],
      "metadata": {
        "colab": {
          "base_uri": "https://localhost:8080/"
        },
        "id": "PHdZ2tvkvlHX",
        "outputId": "bbdc7f15-2c7a-4abd-e601-e6aef550d530"
      },
      "execution_count": null,
      "outputs": [
        {
          "output_type": "execute_result",
          "data": {
            "text/plain": [
              "array([0., 0., 0., 0.])"
            ]
          },
          "metadata": {},
          "execution_count": 6
        }
      ]
    },
    {
      "cell_type": "code",
      "source": [
        "e.shape"
      ],
      "metadata": {
        "colab": {
          "base_uri": "https://localhost:8080/"
        },
        "id": "IEfTgnyHvsL7",
        "outputId": "f4e09ff5-aba9-4c21-8a18-22012f7ec619"
      },
      "execution_count": null,
      "outputs": [
        {
          "output_type": "execute_result",
          "data": {
            "text/plain": [
              "(4,)"
            ]
          },
          "metadata": {},
          "execution_count": 7
        }
      ]
    },
    {
      "cell_type": "code",
      "source": [
        "e.ndim # number of dimensions"
      ],
      "metadata": {
        "colab": {
          "base_uri": "https://localhost:8080/"
        },
        "id": "o2zmD3fYvtyf",
        "outputId": "fc5fc5d3-3c2f-40cb-f326-e80267bfe772"
      },
      "execution_count": null,
      "outputs": [
        {
          "output_type": "execute_result",
          "data": {
            "text/plain": [
              "1"
            ]
          },
          "metadata": {},
          "execution_count": 8
        }
      ]
    },
    {
      "cell_type": "code",
      "source": [
        "type(e)"
      ],
      "metadata": {
        "colab": {
          "base_uri": "https://localhost:8080/"
        },
        "id": "lk5UpszEvx23",
        "outputId": "465c72fb-1695-4f72-bb15-fc6130399216"
      },
      "execution_count": null,
      "outputs": [
        {
          "output_type": "execute_result",
          "data": {
            "text/plain": [
              "numpy.ndarray"
            ]
          },
          "metadata": {},
          "execution_count": 9
        }
      ]
    },
    {
      "cell_type": "code",
      "source": [
        "e.dtype"
      ],
      "metadata": {
        "colab": {
          "base_uri": "https://localhost:8080/"
        },
        "id": "m2XlUrPovzr_",
        "outputId": "06cf5a27-2674-471e-a987-0d076cc2e6fd"
      },
      "execution_count": null,
      "outputs": [
        {
          "output_type": "execute_result",
          "data": {
            "text/plain": [
              "dtype('float64')"
            ]
          },
          "metadata": {},
          "execution_count": 10
        }
      ]
    },
    {
      "cell_type": "markdown",
      "source": [
        "## Array Creation — ones"
      ],
      "metadata": {
        "id": "ySrztCn-wC2o"
      }
    },
    {
      "cell_type": "code",
      "source": [
        "f = np.ones((2, 3))"
      ],
      "metadata": {
        "colab": {
          "base_uri": "https://localhost:8080/"
        },
        "id": "g_v6NqrpwFdL",
        "outputId": "2c242a51-aefb-4727-c2c6-0123fe529931"
      },
      "execution_count": null,
      "outputs": [
        {
          "output_type": "execute_result",
          "data": {
            "text/plain": [
              "array([[1., 1., 1.],\n",
              "       [1., 1., 1.]])"
            ]
          },
          "metadata": {},
          "execution_count": 11
        }
      ]
    },
    {
      "cell_type": "code",
      "source": [
        "f.shape"
      ],
      "metadata": {
        "colab": {
          "base_uri": "https://localhost:8080/"
        },
        "id": "rb9S-gIcwIzI",
        "outputId": "93690ac5-3206-4590-bb63-940aebe8d4b6"
      },
      "execution_count": null,
      "outputs": [
        {
          "output_type": "execute_result",
          "data": {
            "text/plain": [
              "(2, 3)"
            ]
          },
          "metadata": {},
          "execution_count": 12
        }
      ]
    },
    {
      "cell_type": "code",
      "source": [
        "f.ndim # number of dimensions"
      ],
      "metadata": {
        "colab": {
          "base_uri": "https://localhost:8080/"
        },
        "id": "A6a5aLmvwP0x",
        "outputId": "9bd62010-51ae-4d25-9fc9-22a32da4ea38"
      },
      "execution_count": null,
      "outputs": [
        {
          "output_type": "execute_result",
          "data": {
            "text/plain": [
              "2"
            ]
          },
          "metadata": {},
          "execution_count": 13
        }
      ]
    },
    {
      "cell_type": "code",
      "source": [
        "type(f)"
      ],
      "metadata": {
        "colab": {
          "base_uri": "https://localhost:8080/"
        },
        "id": "6HEEhp9XwXnJ",
        "outputId": "8ffb5396-96cb-41dc-b04b-47ebe44b0605"
      },
      "execution_count": null,
      "outputs": [
        {
          "output_type": "execute_result",
          "data": {
            "text/plain": [
              "numpy.ndarray"
            ]
          },
          "metadata": {},
          "execution_count": 14
        }
      ]
    },
    {
      "cell_type": "code",
      "source": [
        "f.dtype"
      ],
      "metadata": {
        "colab": {
          "base_uri": "https://localhost:8080/"
        },
        "id": "hoEs3fytwZlh",
        "outputId": "03afd395-31d0-4c8b-bc0f-c6bbaa279557"
      },
      "execution_count": null,
      "outputs": [
        {
          "output_type": "execute_result",
          "data": {
            "text/plain": [
              "dtype('float64')"
            ]
          },
          "metadata": {},
          "execution_count": 15
        }
      ]
    },
    {
      "cell_type": "markdown",
      "source": [
        "## Array Creation — arange and linspace"
      ],
      "metadata": {
        "id": "T7kcUJTqwlQT"
      }
    },
    {
      "cell_type": "code",
      "source": [
        "x = np.arange(1, 10, 2)"
      ],
      "metadata": {
        "colab": {
          "base_uri": "https://localhost:8080/"
        },
        "id": "-DWnko45xCyJ",
        "outputId": "4e958678-6b2e-4a70-9e86-85cec2d0df63"
      },
      "execution_count": null,
      "outputs": [
        {
          "output_type": "execute_result",
          "data": {
            "text/plain": [
              "array([1, 3, 5, 7, 9])"
            ]
          },
          "metadata": {},
          "execution_count": 16
        }
      ]
    },
    {
      "cell_type": "code",
      "source": [
        "theta = np.linspace(0, np.pi, 3)"
      ],
      "metadata": {
        "colab": {
          "base_uri": "https://localhost:8080/"
        },
        "id": "-hnnm4-SxGHZ",
        "outputId": "b553b789-5581-4501-d3ff-8b6b337d8812"
      },
      "execution_count": null,
      "outputs": [
        {
          "output_type": "execute_result",
          "data": {
            "text/plain": [
              "array([0.        , 1.57079633, 3.14159265])"
            ]
          },
          "metadata": {},
          "execution_count": 17
        }
      ]
    },
    {
      "cell_type": "markdown",
      "source": [
        "## Array Attributes\n",
        "\n",
        "**ndim** — number of dimensions  \n",
        "**shape** — size of each dimension  \n",
        "**size** — total size of the array (number of elements)  \n",
        "**dtype** — data type of the array  \n",
        "**itemsize** — size of each array element in bytes  \n",
        "**nbytes** — total size of the array in bytes = **size** * **itemsize**  \n"
      ],
      "metadata": {
        "id": "NBNuEPbF6F1C"
      }
    },
    {
      "cell_type": "markdown",
      "source": [
        "## Array Indexing: Accessing Single Elements"
      ],
      "metadata": {
        "id": "r1o0fE583K7S"
      }
    },
    {
      "cell_type": "code",
      "source": [
        "x1 = np.array([5, 0, 3, 3, 7, 9])"
      ],
      "metadata": {
        "colab": {
          "base_uri": "https://localhost:8080/"
        },
        "id": "yc81jI4n3PLK",
        "outputId": "f3f1dcde-3f45-4f01-9473-32ee9a402715"
      },
      "execution_count": null,
      "outputs": [
        {
          "output_type": "execute_result",
          "data": {
            "text/plain": [
              "array([5, 0, 3, 3, 7, 9])"
            ]
          },
          "metadata": {},
          "execution_count": 18
        }
      ]
    },
    {
      "cell_type": "code",
      "source": [
        "x1[0]"
      ],
      "metadata": {
        "colab": {
          "base_uri": "https://localhost:8080/"
        },
        "id": "ducmTzd73XGJ",
        "outputId": "59dd0203-edfd-44ed-dfbd-e0dac9a9f165"
      },
      "execution_count": null,
      "outputs": [
        {
          "output_type": "execute_result",
          "data": {
            "text/plain": [
              "5"
            ]
          },
          "metadata": {},
          "execution_count": 19
        }
      ]
    },
    {
      "cell_type": "code",
      "source": [
        "x1[4]"
      ],
      "metadata": {
        "colab": {
          "base_uri": "https://localhost:8080/"
        },
        "id": "h9PRvfvc3ZXh",
        "outputId": "ec571153-0ba0-46f0-ad63-3d7c787d6857"
      },
      "execution_count": null,
      "outputs": [
        {
          "output_type": "execute_result",
          "data": {
            "text/plain": [
              "7"
            ]
          },
          "metadata": {},
          "execution_count": 20
        }
      ]
    },
    {
      "cell_type": "code",
      "source": [
        "x1[-1]"
      ],
      "metadata": {
        "colab": {
          "base_uri": "https://localhost:8080/"
        },
        "id": "zpaAG1A03c2A",
        "outputId": "cf5c5d19-de17-413c-b91d-8e1c48b6000c"
      },
      "execution_count": null,
      "outputs": [
        {
          "output_type": "execute_result",
          "data": {
            "text/plain": [
              "9"
            ]
          },
          "metadata": {},
          "execution_count": 21
        }
      ]
    },
    {
      "cell_type": "code",
      "source": [
        "x1[-2]"
      ],
      "metadata": {
        "colab": {
          "base_uri": "https://localhost:8080/"
        },
        "id": "oYenU05w3gAQ",
        "outputId": "9619cbf9-3842-4ced-a6f9-70edfe8462de"
      },
      "execution_count": null,
      "outputs": [
        {
          "output_type": "execute_result",
          "data": {
            "text/plain": [
              "7"
            ]
          },
          "metadata": {},
          "execution_count": 22
        }
      ]
    },
    {
      "cell_type": "code",
      "source": [
        "x2 = np.array(\n",
        "    [[3, 5, 2, 4],\n",
        "     [7, 6, 8, 8],\n",
        "     [1, 6, 7, 7]])"
      ],
      "metadata": {
        "colab": {
          "base_uri": "https://localhost:8080/"
        },
        "id": "9tchH56E3pYJ",
        "outputId": "88425c28-a377-45a8-9347-b6afe36f798e"
      },
      "execution_count": null,
      "outputs": [
        {
          "output_type": "execute_result",
          "data": {
            "text/plain": [
              "array([[3, 5, 2, 4],\n",
              "       [7, 6, 8, 8],\n",
              "       [1, 6, 7, 7]])"
            ]
          },
          "metadata": {},
          "execution_count": 23
        }
      ]
    },
    {
      "cell_type": "code",
      "source": [
        "x2[0, 0]"
      ],
      "metadata": {
        "colab": {
          "base_uri": "https://localhost:8080/"
        },
        "id": "PTSzwcb9326C",
        "outputId": "c119dcf4-67dd-4a90-a0b1-5a3d7f1aaf20"
      },
      "execution_count": null,
      "outputs": [
        {
          "output_type": "execute_result",
          "data": {
            "text/plain": [
              "3"
            ]
          },
          "metadata": {},
          "execution_count": 24
        }
      ]
    },
    {
      "cell_type": "code",
      "source": [
        "x2[2, 0]"
      ],
      "metadata": {
        "colab": {
          "base_uri": "https://localhost:8080/"
        },
        "id": "jiyzuwzA35eR",
        "outputId": "cd5233ba-f5ff-46b8-8160-7f50f03b8554"
      },
      "execution_count": null,
      "outputs": [
        {
          "output_type": "execute_result",
          "data": {
            "text/plain": [
              "1"
            ]
          },
          "metadata": {},
          "execution_count": 25
        }
      ]
    },
    {
      "cell_type": "code",
      "source": [
        "x2[2, -1]"
      ],
      "metadata": {
        "colab": {
          "base_uri": "https://localhost:8080/"
        },
        "id": "mXA4NSQu37XB",
        "outputId": "c32c7843-15b1-4b1a-a907-326812e4c2db"
      },
      "execution_count": null,
      "outputs": [
        {
          "output_type": "execute_result",
          "data": {
            "text/plain": [
              "7"
            ]
          },
          "metadata": {},
          "execution_count": 26
        }
      ]
    },
    {
      "cell_type": "code",
      "source": [
        "x2[0, 0] = 12\n",
        "x2"
      ],
      "metadata": {
        "colab": {
          "base_uri": "https://localhost:8080/"
        },
        "id": "DmDDhyBQ4AlC",
        "outputId": "03840d62-3702-45c4-d5d4-63f84ca43aa3"
      },
      "execution_count": null,
      "outputs": [
        {
          "output_type": "execute_result",
          "data": {
            "text/plain": [
              "array([[12,  5,  2,  4],\n",
              "       [ 7,  6,  8,  8],\n",
              "       [ 1,  6,  7,  7]])"
            ]
          },
          "metadata": {},
          "execution_count": 27
        }
      ]
    },
    {
      "cell_type": "markdown",
      "source": [
        "## Array Slicing  \n",
        "\n",
        "```\n",
        "x[start : stop : step ]\n",
        "```\n",
        "\n",
        "default start — 0  \n",
        "default end — len(x) - 1  \n",
        "default step — 1"
      ],
      "metadata": {
        "id": "e5bADYpLz9-Z"
      }
    },
    {
      "cell_type": "code",
      "source": [
        "x = np.arange(10)"
      ],
      "metadata": {
        "colab": {
          "base_uri": "https://localhost:8080/"
        },
        "id": "5jO_gv-50BWW",
        "outputId": "bfae24b0-acaf-4c0c-d105-fdc689db81bb"
      },
      "execution_count": null,
      "outputs": [
        {
          "output_type": "execute_result",
          "data": {
            "text/plain": [
              "array([0, 1, 2, 3, 4, 5, 6, 7, 8, 9])"
            ]
          },
          "metadata": {},
          "execution_count": 28
        }
      ]
    },
    {
      "cell_type": "code",
      "source": [
        "x[:5]  # first five elements"
      ],
      "metadata": {
        "colab": {
          "base_uri": "https://localhost:8080/"
        },
        "id": "Yz0fQJFu2Wpn",
        "outputId": "ad265239-b87e-4431-c992-09f05400544c"
      },
      "execution_count": null,
      "outputs": [
        {
          "output_type": "execute_result",
          "data": {
            "text/plain": [
              "array([0, 1, 2, 3, 4])"
            ]
          },
          "metadata": {},
          "execution_count": 29
        }
      ]
    },
    {
      "cell_type": "code",
      "source": [
        "x[5:]  # elements after index 5"
      ],
      "metadata": {
        "colab": {
          "base_uri": "https://localhost:8080/"
        },
        "id": "lWjKIIiu2Zyv",
        "outputId": "4d5f014f-9ae7-4ede-b1d7-4290290b864d"
      },
      "execution_count": null,
      "outputs": [
        {
          "output_type": "execute_result",
          "data": {
            "text/plain": [
              "array([5, 6, 7, 8, 9])"
            ]
          },
          "metadata": {},
          "execution_count": 30
        }
      ]
    },
    {
      "cell_type": "code",
      "source": [
        "x[4:7]  # middle sub-array"
      ],
      "metadata": {
        "colab": {
          "base_uri": "https://localhost:8080/"
        },
        "id": "B3QsPuOU2cUn",
        "outputId": "b00cba1f-38c0-4631-9b3e-64db9f8ba20b"
      },
      "execution_count": null,
      "outputs": [
        {
          "output_type": "execute_result",
          "data": {
            "text/plain": [
              "array([4, 5, 6])"
            ]
          },
          "metadata": {},
          "execution_count": 31
        }
      ]
    },
    {
      "cell_type": "code",
      "source": [
        "x[::2]  # every other element"
      ],
      "metadata": {
        "colab": {
          "base_uri": "https://localhost:8080/"
        },
        "id": "a4fYMt5T2ebn",
        "outputId": "6e9c54e9-4f40-4dae-fe19-7f464d7f2784"
      },
      "execution_count": null,
      "outputs": [
        {
          "output_type": "execute_result",
          "data": {
            "text/plain": [
              "array([0, 2, 4, 6, 8])"
            ]
          },
          "metadata": {},
          "execution_count": 32
        }
      ]
    },
    {
      "cell_type": "code",
      "source": [
        "x[1::2]  # every other element, starting at index 1"
      ],
      "metadata": {
        "colab": {
          "base_uri": "https://localhost:8080/"
        },
        "id": "joqMT9zE2gwp",
        "outputId": "745dcea1-38ef-437d-e2e8-2a15bdab3457"
      },
      "execution_count": null,
      "outputs": [
        {
          "output_type": "execute_result",
          "data": {
            "text/plain": [
              "array([1, 3, 5, 7, 9])"
            ]
          },
          "metadata": {},
          "execution_count": 33
        }
      ]
    },
    {
      "cell_type": "code",
      "source": [
        "x[::-1]  # all elements, reversed"
      ],
      "metadata": {
        "colab": {
          "base_uri": "https://localhost:8080/"
        },
        "id": "Ja33cpf72omf",
        "outputId": "962694a9-459d-4941-f138-e9c4e1078e8a"
      },
      "execution_count": null,
      "outputs": [
        {
          "output_type": "execute_result",
          "data": {
            "text/plain": [
              "array([9, 8, 7, 6, 5, 4, 3, 2, 1, 0])"
            ]
          },
          "metadata": {},
          "execution_count": 34
        }
      ]
    },
    {
      "cell_type": "code",
      "source": [
        "x[5::-2]  # reversed every other from index 5"
      ],
      "metadata": {
        "colab": {
          "base_uri": "https://localhost:8080/"
        },
        "id": "QQ22h_Lc2p_n",
        "outputId": "d1823f5f-2636-440e-c5fe-8a8f2bd2b778"
      },
      "execution_count": null,
      "outputs": [
        {
          "output_type": "execute_result",
          "data": {
            "text/plain": [
              "array([5, 3, 1])"
            ]
          },
          "metadata": {},
          "execution_count": 35
        }
      ]
    },
    {
      "cell_type": "markdown",
      "source": [
        "## Multi-dimensional subarrays"
      ],
      "metadata": {
        "id": "cBl-2u0a2x1I"
      }
    },
    {
      "cell_type": "code",
      "source": [
        "x2"
      ],
      "metadata": {
        "colab": {
          "base_uri": "https://localhost:8080/"
        },
        "id": "B8lBVp5_22HI",
        "outputId": "ea819d77-7b99-4ca1-c029-d7454371898b"
      },
      "execution_count": null,
      "outputs": [
        {
          "output_type": "execute_result",
          "data": {
            "text/plain": [
              "array([[12,  5,  2,  4],\n",
              "       [ 7,  6,  8,  8],\n",
              "       [ 1,  6,  7,  7]])"
            ]
          },
          "metadata": {},
          "execution_count": 36
        }
      ]
    },
    {
      "cell_type": "code",
      "source": [
        "x2[:2, :3]  # two rows, three columns"
      ],
      "metadata": {
        "colab": {
          "base_uri": "https://localhost:8080/"
        },
        "id": "u2nLHoUl4PmC",
        "outputId": "109616e9-3bda-4e23-e02d-b3ab899f131e"
      },
      "execution_count": null,
      "outputs": [
        {
          "output_type": "execute_result",
          "data": {
            "text/plain": [
              "array([[12,  5,  2],\n",
              "       [ 7,  6,  8]])"
            ]
          },
          "metadata": {},
          "execution_count": 37
        }
      ]
    },
    {
      "cell_type": "code",
      "source": [
        "x2[:3, ::2]  # all rows, every other column"
      ],
      "metadata": {
        "colab": {
          "base_uri": "https://localhost:8080/"
        },
        "id": "sXeHckxK4UPh",
        "outputId": "e1c0639d-45d4-46aa-f73e-7fbb5022c58b"
      },
      "execution_count": null,
      "outputs": [
        {
          "output_type": "execute_result",
          "data": {
            "text/plain": [
              "array([[12,  2],\n",
              "       [ 7,  8],\n",
              "       [ 1,  7]])"
            ]
          },
          "metadata": {},
          "execution_count": 38
        }
      ]
    },
    {
      "cell_type": "code",
      "source": [
        "x2[::-1, ::-1] # reverse subarray dimensions together"
      ],
      "metadata": {
        "colab": {
          "base_uri": "https://localhost:8080/"
        },
        "id": "yIAejQHh4WdS",
        "outputId": "f076deae-e3a8-4f2d-aa91-ed6c95b3d0dc"
      },
      "execution_count": null,
      "outputs": [
        {
          "output_type": "execute_result",
          "data": {
            "text/plain": [
              "array([[ 7,  7,  6,  1],\n",
              "       [ 8,  8,  6,  7],\n",
              "       [ 4,  2,  5, 12]])"
            ]
          },
          "metadata": {},
          "execution_count": 39
        }
      ]
    },
    {
      "cell_type": "markdown",
      "source": [
        "## Subarrays as no-copy views"
      ],
      "metadata": {
        "id": "nGkYCU924oPy"
      }
    },
    {
      "cell_type": "code",
      "source": [
        "x2\n",
        "print(x2)"
      ],
      "metadata": {
        "colab": {
          "base_uri": "https://localhost:8080/"
        },
        "id": "Xwt-Ilhm4sAr",
        "outputId": "fc1a7161-cf8d-46eb-adc7-89ad4761f63c"
      },
      "execution_count": null,
      "outputs": [
        {
          "output_type": "stream",
          "name": "stdout",
          "text": [
            "[[12  5  2  4]\n",
            " [ 7  6  8  8]\n",
            " [ 1  6  7  7]]\n"
          ]
        }
      ]
    },
    {
      "cell_type": "code",
      "source": [
        "x2_sub = x2[:2, :2]\n",
        "print(x2_sub)"
      ],
      "metadata": {
        "colab": {
          "base_uri": "https://localhost:8080/"
        },
        "id": "egZE_tFP4twS",
        "outputId": "061392d1-12ba-4444-cba9-f83868ad059e"
      },
      "execution_count": null,
      "outputs": [
        {
          "output_type": "stream",
          "name": "stdout",
          "text": [
            "[[12  5]\n",
            " [ 7  6]]\n"
          ]
        }
      ]
    },
    {
      "cell_type": "code",
      "source": [
        "x2_sub[0, 0] = 99\n",
        "print(x2_sub)"
      ],
      "metadata": {
        "colab": {
          "base_uri": "https://localhost:8080/"
        },
        "id": "LnofR3p742Ca",
        "outputId": "ce3bb90b-054e-4b18-a38c-f8bb4df9e195"
      },
      "execution_count": null,
      "outputs": [
        {
          "output_type": "stream",
          "name": "stdout",
          "text": [
            "[[99  5]\n",
            " [ 7  6]]\n"
          ]
        }
      ]
    },
    {
      "cell_type": "code",
      "source": [
        "print(x2)"
      ],
      "metadata": {
        "colab": {
          "base_uri": "https://localhost:8080/"
        },
        "id": "eRypij_644yq",
        "outputId": "d1e0ec5a-adee-48f6-a74b-0af3029ad75f"
      },
      "execution_count": null,
      "outputs": [
        {
          "output_type": "stream",
          "name": "stdout",
          "text": [
            "[[99  5  2  4]\n",
            " [ 7  6  8  8]\n",
            " [ 1  6  7  7]]\n"
          ]
        }
      ]
    },
    {
      "cell_type": "markdown",
      "source": [
        "## Creating copies of arrays"
      ],
      "metadata": {
        "id": "rNi04ofy5SAF"
      }
    },
    {
      "cell_type": "code",
      "source": [
        "x2_sub_copy = x2[:2, :2].copy()\n",
        "print(x2_sub_copy)"
      ],
      "metadata": {
        "colab": {
          "base_uri": "https://localhost:8080/"
        },
        "id": "EzFCiUNQ5VH8",
        "outputId": "c273d7e2-614e-4084-d4db-dfbef16be49a"
      },
      "execution_count": null,
      "outputs": [
        {
          "output_type": "stream",
          "name": "stdout",
          "text": [
            "[[99  5]\n",
            " [ 7  6]]\n"
          ]
        }
      ]
    },
    {
      "cell_type": "code",
      "source": [
        "x2_sub_copy[0, 0] = 42\n",
        "print(x2_sub_copy)"
      ],
      "metadata": {
        "colab": {
          "base_uri": "https://localhost:8080/"
        },
        "id": "QZwScM0y5aD9",
        "outputId": "299ef3a5-eea8-41d4-e8bc-a0bca7c3c228"
      },
      "execution_count": null,
      "outputs": [
        {
          "output_type": "stream",
          "name": "stdout",
          "text": [
            "[[42  5]\n",
            " [ 7  6]]\n"
          ]
        }
      ]
    },
    {
      "cell_type": "code",
      "source": [
        "print(x2)"
      ],
      "metadata": {
        "colab": {
          "base_uri": "https://localhost:8080/"
        },
        "id": "rhDMaZcp5chO",
        "outputId": "08d8de86-3fec-4bcf-c69f-a54fdca6b6b0"
      },
      "execution_count": null,
      "outputs": [
        {
          "output_type": "stream",
          "name": "stdout",
          "text": [
            "[[99  5  2  4]\n",
            " [ 7  6  8  8]\n",
            " [ 1  6  7  7]]\n"
          ]
        }
      ]
    },
    {
      "cell_type": "markdown",
      "source": [
        "## Reshaping of Arrays"
      ],
      "metadata": {
        "id": "kmk0KyJ45gVm"
      }
    },
    {
      "cell_type": "code",
      "source": [
        "grid = np.arange(1, 10).reshape((3, 3))\n",
        "print(grid)"
      ],
      "metadata": {
        "colab": {
          "base_uri": "https://localhost:8080/"
        },
        "id": "O2DoHQVZ5isf",
        "outputId": "b9fdec54-4fce-4a27-eb0f-4b37b79ee1d2"
      },
      "execution_count": null,
      "outputs": [
        {
          "output_type": "stream",
          "name": "stdout",
          "text": [
            "[[1 2 3]\n",
            " [4 5 6]\n",
            " [7 8 9]]\n"
          ]
        }
      ]
    },
    {
      "cell_type": "code",
      "source": [
        "x = np.array([1, 2, 3])\n",
        "\n",
        "# row vector via reshape\n",
        "x.reshape((1, 3))"
      ],
      "metadata": {
        "colab": {
          "base_uri": "https://localhost:8080/"
        },
        "id": "Q2aFrycy5l1v",
        "outputId": "2b110871-53bf-4f95-a28d-68ad3fe4691b"
      },
      "execution_count": null,
      "outputs": [
        {
          "output_type": "execute_result",
          "data": {
            "text/plain": [
              "array([[1, 2, 3]])"
            ]
          },
          "metadata": {},
          "execution_count": 48
        }
      ]
    },
    {
      "cell_type": "code",
      "source": [
        "# row vector via newaxis\n",
        "x[np.newaxis, :]"
      ],
      "metadata": {
        "colab": {
          "base_uri": "https://localhost:8080/"
        },
        "id": "ULHFekvp5pQu",
        "outputId": "650eb3e0-1e08-4749-a938-831ee8b4c48d"
      },
      "execution_count": null,
      "outputs": [
        {
          "output_type": "execute_result",
          "data": {
            "text/plain": [
              "array([[1, 2, 3]])"
            ]
          },
          "metadata": {},
          "execution_count": 49
        }
      ]
    },
    {
      "cell_type": "code",
      "source": [
        "# column vector via reshape\n",
        "x.reshape((3, 1))"
      ],
      "metadata": {
        "colab": {
          "base_uri": "https://localhost:8080/"
        },
        "id": "Hjyxs6-w5te4",
        "outputId": "cf6b79b0-2c0f-48c2-84cd-e1db8437180a"
      },
      "execution_count": null,
      "outputs": [
        {
          "output_type": "execute_result",
          "data": {
            "text/plain": [
              "array([[1],\n",
              "       [2],\n",
              "       [3]])"
            ]
          },
          "metadata": {},
          "execution_count": 50
        }
      ]
    },
    {
      "cell_type": "code",
      "source": [
        "# column vector via newaxis\n",
        "x[:, np.newaxis]"
      ],
      "metadata": {
        "colab": {
          "base_uri": "https://localhost:8080/"
        },
        "id": "mxh4jgdL5wLn",
        "outputId": "dd89e29f-6d2b-476c-c3cb-b94b2c8b4a50"
      },
      "execution_count": null,
      "outputs": [
        {
          "output_type": "execute_result",
          "data": {
            "text/plain": [
              "array([[1],\n",
              "       [2],\n",
              "       [3]])"
            ]
          },
          "metadata": {},
          "execution_count": 51
        }
      ]
    },
    {
      "cell_type": "markdown",
      "source": [
        "## Array Concatenation and Splitting\n",
        "\n",
        "```\n",
        "np.concatenate, np.hstack, np.vstack\n",
        "np.split, np.hsplit, np.vsplit\n",
        "```"
      ],
      "metadata": {
        "id": "AOhQR7hCy8S2"
      }
    },
    {
      "cell_type": "code",
      "source": [
        "x = np.array([1, 2, 3])\n",
        "y = np.array([3, 2, 1])\n",
        "np.concatenate([x, y])"
      ],
      "metadata": {
        "colab": {
          "base_uri": "https://localhost:8080/"
        },
        "id": "rruTWdBbzLev",
        "outputId": "ae6b676b-c9ad-42ec-851f-32433657ba73"
      },
      "execution_count": null,
      "outputs": [
        {
          "output_type": "execute_result",
          "data": {
            "text/plain": [
              "array([1, 2, 3, 3, 2, 1])"
            ]
          },
          "metadata": {},
          "execution_count": 52
        }
      ]
    },
    {
      "cell_type": "code",
      "source": [
        "grid = np.array([[1, 2, 3],\n",
        "                 [4, 5, 6]])"
      ],
      "metadata": {
        "colab": {
          "base_uri": "https://localhost:8080/"
        },
        "id": "eiRwjnxbzQXc",
        "outputId": "654cfd57-ec6e-47ce-e04d-c85506e8330b"
      },
      "execution_count": null,
      "outputs": [
        {
          "output_type": "execute_result",
          "data": {
            "text/plain": [
              "array([[1, 2, 3],\n",
              "       [4, 5, 6]])"
            ]
          },
          "metadata": {},
          "execution_count": 53
        }
      ]
    },
    {
      "cell_type": "code",
      "source": [
        "# concatenate along the first axis\n",
        "np.concatenate([grid, grid])"
      ],
      "metadata": {
        "colab": {
          "base_uri": "https://localhost:8080/"
        },
        "id": "muXkCiaxzVlY",
        "outputId": "0de9ff6a-baa4-4475-a292-1b2a2f8972f7"
      },
      "execution_count": null,
      "outputs": [
        {
          "output_type": "execute_result",
          "data": {
            "text/plain": [
              "array([[1, 2, 3],\n",
              "       [4, 5, 6],\n",
              "       [1, 2, 3],\n",
              "       [4, 5, 6]])"
            ]
          },
          "metadata": {},
          "execution_count": 54
        }
      ]
    },
    {
      "cell_type": "code",
      "source": [
        "# concatenate along the second axis (zero-indexed)\n",
        "np.concatenate([grid, grid], axis=1)"
      ],
      "metadata": {
        "colab": {
          "base_uri": "https://localhost:8080/"
        },
        "id": "UtNlPtkSzavH",
        "outputId": "909538e1-9803-43f9-d295-6c9e848fa4fd"
      },
      "execution_count": null,
      "outputs": [
        {
          "output_type": "execute_result",
          "data": {
            "text/plain": [
              "array([[1, 2, 3, 1, 2, 3],\n",
              "       [4, 5, 6, 4, 5, 6]])"
            ]
          },
          "metadata": {},
          "execution_count": 55
        }
      ]
    },
    {
      "cell_type": "code",
      "source": [
        "x = np.array([1, 2, 3])\n",
        "grid = np.array([[9, 8, 7],\n",
        "                 [6, 5, 4]])\n",
        "\n",
        "# vertically stack the arrays\n",
        "np.vstack([x, grid])"
      ],
      "metadata": {
        "colab": {
          "base_uri": "https://localhost:8080/"
        },
        "id": "uOAg4RfxzmR8",
        "outputId": "87925cd1-9c27-4741-ad63-dc067068d52a"
      },
      "execution_count": null,
      "outputs": [
        {
          "output_type": "execute_result",
          "data": {
            "text/plain": [
              "array([[1, 2, 3],\n",
              "       [9, 8, 7],\n",
              "       [6, 5, 4]])"
            ]
          },
          "metadata": {},
          "execution_count": 56
        }
      ]
    },
    {
      "cell_type": "code",
      "source": [
        "# horizontally stack the arrays\n",
        "y = np.array([[99],\n",
        "              [99]])\n",
        "np.hstack([grid, y])"
      ],
      "metadata": {
        "colab": {
          "base_uri": "https://localhost:8080/"
        },
        "id": "k6zEMfx5zqwl",
        "outputId": "396e4569-f779-4ca5-b7a2-dbc3d1c8cc71"
      },
      "execution_count": null,
      "outputs": [
        {
          "output_type": "execute_result",
          "data": {
            "text/plain": [
              "array([[ 9,  8,  7, 99],\n",
              "       [ 6,  5,  4, 99]])"
            ]
          },
          "metadata": {},
          "execution_count": 57
        }
      ]
    },
    {
      "cell_type": "markdown",
      "source": [
        "# Universal Functions  \n",
        "\n",
        "- NumPy provides an easy and flexible interface to optimized computation with arrays of data.\n",
        "- The key to making NumPy fast is to use vectorized operations, generally implemented through NumPy's universal functions (ufuncs).\n",
        "- Python loops are slow! (because of dynamic type checking)  \n",
        "Vectorized operations are fast!"
      ],
      "metadata": {
        "id": "bruXRi0W-yYy"
      }
    },
    {
      "cell_type": "code",
      "source": [
        "import numpy as np\n",
        "np.random.seed(0)\n",
        "\n",
        "def compute_reciprocals(values):\n",
        "    output = np.empty(len(values))\n",
        "    for i in range(len(values)):\n",
        "        output[i] = 1.0 / values[i]\n",
        "    return output\n",
        "\n",
        "values = np.random.randint(1, 10, size=5)\n",
        "compute_reciprocals(values)"
      ],
      "metadata": {
        "colab": {
          "base_uri": "https://localhost:8080/"
        },
        "id": "nqtSCY4e--2R",
        "outputId": "dc3b6fba-dbd8-4532-b4b0-185b1b3fb480"
      },
      "execution_count": null,
      "outputs": [
        {
          "output_type": "execute_result",
          "data": {
            "text/plain": [
              "array([0.16666667, 1.        , 0.25      , 0.25      , 0.125     ])"
            ]
          },
          "metadata": {},
          "execution_count": 58
        }
      ]
    },
    {
      "cell_type": "code",
      "source": [
        "big_array = np.random.randint(1, 100, size=1000000)\n",
        "%timeit compute_reciprocals(big_array)"
      ],
      "metadata": {
        "colab": {
          "base_uri": "https://localhost:8080/"
        },
        "id": "dAA-tEF1_Beq",
        "outputId": "d36be20e-fa60-4cd9-ec86-06296c03b0dc"
      },
      "execution_count": null,
      "outputs": [
        {
          "output_type": "stream",
          "name": "stdout",
          "text": [
            "3.23 s ± 1.45 s per loop (mean ± std. dev. of 7 runs, 1 loop each)\n"
          ]
        }
      ]
    },
    {
      "cell_type": "code",
      "source": [
        "1.0 / values"
      ],
      "metadata": {
        "colab": {
          "base_uri": "https://localhost:8080/"
        },
        "id": "205i_sB1_g7C",
        "outputId": "c21a81aa-795d-46a0-a619-e836b3d3e039"
      },
      "execution_count": null,
      "outputs": [
        {
          "output_type": "execute_result",
          "data": {
            "text/plain": [
              "array([0.16666667, 1.        , 0.25      , 0.25      , 0.125     ])"
            ]
          },
          "metadata": {},
          "execution_count": 60
        }
      ]
    },
    {
      "cell_type": "code",
      "source": [
        "%timeit (1.0 / big_array)"
      ],
      "metadata": {
        "colab": {
          "base_uri": "https://localhost:8080/"
        },
        "id": "SiIbAIRK_JFG",
        "outputId": "38fe4661-9bc8-4f81-bef7-5c82322fefca"
      },
      "execution_count": null,
      "outputs": [
        {
          "output_type": "stream",
          "name": "stdout",
          "text": [
            "1.92 ms ± 121 µs per loop (mean ± std. dev. of 7 runs, 100 loops each)\n"
          ]
        }
      ]
    },
    {
      "cell_type": "markdown",
      "source": [
        "Operator | Equivalent ufunc | Description\n",
        "---------|------------------|------------\n",
        "+\t| np.add | Addition (e.g., 1 + 1 = 2)\n",
        "-\t| np.subtract\t| Subtraction (e.g., 3 - 2 = 1)\n",
        "-\t| np.negative\t| Unary negation (e.g., -2)\n",
        "*\t| np.multiply\t| Multiplication (e.g., 2 * 3 = 6)\n",
        "/\t| np.divide\t| Division (e.g., 3 / 2 = 1.5)\n",
        "// | np.floor_divide | Floor division (e.g., 3 // 2 = 1)\n",
        "** | np.power | Exponentiation (e.g., 2 ** 3 = 8)\n",
        "%\t| np.mod | Modulus/remainder (e.g., 9 % 4 = 1)"
      ],
      "metadata": {
        "id": "Wjs2XeV8AMkM"
      }
    },
    {
      "cell_type": "markdown",
      "source": [
        "- NumPy Absolute value  \n",
        "```np.abs (or np.absolute) # also works for complex numbers```\n",
        "- Trigonometric Functions  \n",
        "```np.sin, np.cos, np.tan, np.arcsin, np.argcos, np.arctan```\n",
        "- Exponents and logarithms  \n",
        "```np.exp, np.exp2, np.power, np.log, np.log2, np.log10```"
      ],
      "metadata": {
        "id": "eucB2I66BEFW"
      }
    },
    {
      "cell_type": "markdown",
      "source": [
        "# Aggregations"
      ],
      "metadata": {
        "id": "PBnx78OfBcxd"
      }
    },
    {
      "cell_type": "code",
      "source": [
        "big_array = np.random.rand(1000000)\n",
        "%timeit sum(big_array)\n",
        "%timeit np.sum(big_array)"
      ],
      "metadata": {
        "colab": {
          "base_uri": "https://localhost:8080/"
        },
        "id": "EAJO-A2vB7wn",
        "outputId": "33dad40e-86e1-4fac-bf01-1376e2ec01a4"
      },
      "execution_count": null,
      "outputs": [
        {
          "output_type": "stream",
          "name": "stdout",
          "text": [
            "125 ms ± 33.6 ms per loop (mean ± std. dev. of 7 runs, 10 loops each)\n",
            "377 µs ± 14.2 µs per loop (mean ± std. dev. of 7 runs, 1000 loops each)\n"
          ]
        }
      ]
    },
    {
      "cell_type": "markdown",
      "source": [
        "Minimum, Maximum, and Sum  \n",
        "```min(big_array), max(big_array), sum(big_array) # slow```  \n",
        "```np.min(big_array), np.max(big_array), np.sum(big_array) # fast```  \n",
        "``` big_array.min(), big_array.max(), big_array.sum() # fast ```"
      ],
      "metadata": {
        "id": "zTJew-8CClH_"
      }
    },
    {
      "cell_type": "markdown",
      "source": [
        "|Function name    |   NaN-safe version| Description                                   |\n",
        "|-----------------|-------------------|-----------------------------------------------|\n",
        "| `np.sum`        | `np.nansum`       | Compute sum of elements                       |\n",
        "| `np.prod`       | `np.nanprod`      | Compute product of elements                   |\n",
        "| `np.mean`       | `np.nanmean`      | Compute mean of elements                      |\n",
        "| `np.std`        | `np.nanstd`       | Compute standard deviation                    |\n",
        "| `np.var`        | `np.nanvar`       | Compute variance                              |\n",
        "| `np.min`        | `np.nanmin`       | Find minimum value                            |\n",
        "| `np.max`        | `np.nanmax`       | Find maximum value                            |\n",
        "| `np.argmin`     | `np.nanargmin`    | Find index of minimum value                   |\n",
        "| `np.argmax`     | `np.nanargmax`    | Find index of maximum value                   |\n",
        "| `np.median`     | `np.nanmedian`    | Compute median of elements                    |\n",
        "| `np.percentile` | `np.nanpercentile`| Compute rank-based statistics of elements     |\n",
        "| `np.any`        | N/A               | Evaluate whether any elements are true        |\n",
        "| `np.all`        | N/A               | Evaluate whether all elements are true        |"
      ],
      "metadata": {
        "id": "eLVqMhP3B3cH"
      }
    },
    {
      "cell_type": "markdown",
      "source": [
        "# Broadcasting  \n",
        "\n",
        "- Another means of vectorizing operations\n",
        "- Broadcasting is simply a set of rules for applying binary ufuncs (addition, subtraction, multiplication, etc.) on arrays of different sizes.\n"
      ],
      "metadata": {
        "id": "YVIEpOv6DKKU"
      }
    },
    {
      "cell_type": "markdown",
      "source": [
        "## Broadcasting Rules  \n",
        "\n",
        "1. If the two arrays differ in their number of dimensions, the shape of the one with fewer dimensions is padded with ones on its leading (left) side.\n",
        "2. If the shape of the two arrays does not match in any dimension, the array with shape equal to 1 in that dimension is stretched to match the other shape.\n",
        "3. If in any dimension the sizes disagree and neither is equal to 1, an error is raised.\n",
        "\n",
        "- NumPy compares the shapes of the 2 arrays element-wise. It starts with the trailing dimensions. Two dimensions are compatible when\n",
        "  - they are equal, or\n",
        "  - one of them is 1\n",
        "- If these conditions are not met, a **ValueError: operands could not be broadcast together** exception is thrown, indicating that the arrays have incompatible shapes.\n",
        "- The size of the resulting array is the maximum size along each dimension of the input arrays."
      ],
      "metadata": {
        "id": "ZTG0JhwJD_gi"
      }
    },
    {
      "cell_type": "code",
      "source": [
        "M = np.ones((2, 3))\n",
        "a = np.arange(3)\n",
        "print(M)\n",
        "print(a)\n",
        "print(M + a)"
      ],
      "metadata": {
        "colab": {
          "base_uri": "https://localhost:8080/"
        },
        "id": "i4-xPquIE4v6",
        "outputId": "37e27276-f318-47ca-abc0-e6708556995a"
      },
      "execution_count": null,
      "outputs": [
        {
          "output_type": "stream",
          "name": "stdout",
          "text": [
            "[[1. 1. 1.]\n",
            " [1. 1. 1.]]\n",
            "[0 1 2]\n",
            "[[1. 2. 3.]\n",
            " [1. 2. 3.]]\n"
          ]
        }
      ]
    },
    {
      "cell_type": "code",
      "source": [
        "a = np.arange(3).reshape((3, 1))\n",
        "b = np.arange(3)\n",
        "print(a)\n",
        "print(b)\n",
        "print(a + b)"
      ],
      "metadata": {
        "colab": {
          "base_uri": "https://localhost:8080/"
        },
        "id": "ZTI_7rs-F41D",
        "outputId": "7ee98f9d-2123-4d3d-fb93-4e85d989e95b"
      },
      "execution_count": null,
      "outputs": [
        {
          "output_type": "stream",
          "name": "stdout",
          "text": [
            "[[0]\n",
            " [1]\n",
            " [2]]\n",
            "[0 1 2]\n",
            "[[0 1 2]\n",
            " [1 2 3]\n",
            " [2 3 4]]\n"
          ]
        }
      ]
    },
    {
      "cell_type": "markdown",
      "source": [
        "# Comparisons, Masks, and Boolean Logic  \n",
        "\n",
        "- Examine and manipulate values within NumPy arrays\n",
        "- Element-wise comparisons over arrays\n",
        "- Extract, modify, count, or otherwise manipulate values in an array based on some criterion\n",
        "  - count all values greater than a certain value\n",
        "  - remove all outliers that are above some threshold"
      ],
      "metadata": {
        "id": "npxyZmIKHRQ8"
      }
    },
    {
      "cell_type": "markdown",
      "source": [
        "## Comparisons"
      ],
      "metadata": {
        "id": "rON5nwO3IFwm"
      }
    },
    {
      "cell_type": "markdown",
      "source": [
        "| Operator    | Equivalent ufunc  | Operator   | Equivalent ufunc |\n",
        "|-------------|-------------------|------------|------------------|\n",
        "|`==`         |`np.equal`         |`!=`        |`np.not_equal`    |\n",
        "|`<`          |`np.less`          |`<=`        |`np.less_equal`   |\n",
        "|`>`          |`np.greater`       |`>=`        |`np.greater_equal`|"
      ],
      "metadata": {
        "id": "hQHhv6EsJqEN"
      }
    },
    {
      "cell_type": "code",
      "source": [
        "x = np.array([1, 2, 3, 4, 5])"
      ],
      "metadata": {
        "colab": {
          "base_uri": "https://localhost:8080/"
        },
        "id": "6nqW-88UHVld",
        "outputId": "53015822-3959-4e04-addc-38cc0743bd76"
      },
      "execution_count": null,
      "outputs": [
        {
          "output_type": "execute_result",
          "data": {
            "text/plain": [
              "array([1, 2, 3, 4, 5])"
            ]
          },
          "metadata": {},
          "execution_count": 65
        }
      ]
    },
    {
      "cell_type": "code",
      "source": [
        "x < 3  # less than"
      ],
      "metadata": {
        "colab": {
          "base_uri": "https://localhost:8080/"
        },
        "id": "fvAuijMCHyrF",
        "outputId": "2de4a7d9-64bb-4f19-dca3-72f40e5a065f"
      },
      "execution_count": null,
      "outputs": [
        {
          "output_type": "execute_result",
          "data": {
            "text/plain": [
              "array([ True,  True, False, False, False])"
            ]
          },
          "metadata": {},
          "execution_count": 66
        }
      ]
    },
    {
      "cell_type": "code",
      "source": [
        "x > 3  # greater than"
      ],
      "metadata": {
        "colab": {
          "base_uri": "https://localhost:8080/"
        },
        "id": "6bHDStOWH01G",
        "outputId": "abd3d47a-4241-452f-e3e0-a67577bac0f9"
      },
      "execution_count": null,
      "outputs": [
        {
          "output_type": "execute_result",
          "data": {
            "text/plain": [
              "array([False, False, False,  True,  True])"
            ]
          },
          "metadata": {},
          "execution_count": 67
        }
      ]
    },
    {
      "cell_type": "code",
      "source": [
        "x <= 3  # less than or equal"
      ],
      "metadata": {
        "colab": {
          "base_uri": "https://localhost:8080/"
        },
        "id": "GUs6joXeH4KH",
        "outputId": "0e5e738f-828b-4ff9-989f-7c429e390eb6"
      },
      "execution_count": null,
      "outputs": [
        {
          "output_type": "execute_result",
          "data": {
            "text/plain": [
              "array([ True,  True,  True, False, False])"
            ]
          },
          "metadata": {},
          "execution_count": 68
        }
      ]
    },
    {
      "cell_type": "code",
      "source": [
        "x >= 3  # greater than or equal"
      ],
      "metadata": {
        "colab": {
          "base_uri": "https://localhost:8080/"
        },
        "id": "JSHd7VX-H61t",
        "outputId": "1e7807b2-a8bc-4954-ef5e-8e901c7e046f"
      },
      "execution_count": null,
      "outputs": [
        {
          "output_type": "execute_result",
          "data": {
            "text/plain": [
              "array([False, False,  True,  True,  True])"
            ]
          },
          "metadata": {},
          "execution_count": 69
        }
      ]
    },
    {
      "cell_type": "code",
      "source": [
        "x != 3  # not equal"
      ],
      "metadata": {
        "colab": {
          "base_uri": "https://localhost:8080/"
        },
        "id": "Az1XQR6kH9YN",
        "outputId": "f8f8af49-0980-4dcc-f840-bfb285aaac0d"
      },
      "execution_count": null,
      "outputs": [
        {
          "output_type": "execute_result",
          "data": {
            "text/plain": [
              "array([ True,  True, False,  True,  True])"
            ]
          },
          "metadata": {},
          "execution_count": 70
        }
      ]
    },
    {
      "cell_type": "code",
      "source": [
        "x == 3  # equal"
      ],
      "metadata": {
        "colab": {
          "base_uri": "https://localhost:8080/"
        },
        "id": "TE_uwLJxH_1e",
        "outputId": "bea7a6ec-2360-4991-e3b6-9fe2d27b9db3"
      },
      "execution_count": null,
      "outputs": [
        {
          "output_type": "execute_result",
          "data": {
            "text/plain": [
              "array([False, False,  True, False, False])"
            ]
          },
          "metadata": {},
          "execution_count": 71
        }
      ]
    },
    {
      "cell_type": "markdown",
      "source": [
        "## Working with Boolean Arrays"
      ],
      "metadata": {
        "id": "Pr6cMtAkIILe"
      }
    },
    {
      "cell_type": "code",
      "source": [
        "x = np.array(\n",
        "    [[9, 4, 0, 3],\n",
        "     [8, 6, 3, 1],\n",
        "     [3, 7, 4, 0]])\n",
        "x"
      ],
      "metadata": {
        "colab": {
          "base_uri": "https://localhost:8080/"
        },
        "id": "M3FoKDY0INFW",
        "outputId": "18b46b84-0cf8-48a2-fafd-8c75be0f8e89"
      },
      "execution_count": null,
      "outputs": [
        {
          "output_type": "execute_result",
          "data": {
            "text/plain": [
              "array([[9, 4, 0, 3],\n",
              "       [8, 6, 3, 1],\n",
              "       [3, 7, 4, 0]])"
            ]
          },
          "metadata": {},
          "execution_count": 72
        }
      ]
    },
    {
      "cell_type": "code",
      "source": [
        "x < 6"
      ],
      "metadata": {
        "colab": {
          "base_uri": "https://localhost:8080/"
        },
        "id": "NeOohmFTJJl5",
        "outputId": "bc0a8a89-dfd1-4e0b-f47d-5feb12df0a3b"
      },
      "execution_count": null,
      "outputs": [
        {
          "output_type": "execute_result",
          "data": {
            "text/plain": [
              "array([[False,  True,  True,  True],\n",
              "       [False, False,  True,  True],\n",
              "       [ True, False,  True,  True]])"
            ]
          },
          "metadata": {},
          "execution_count": 73
        }
      ]
    },
    {
      "cell_type": "code",
      "source": [
        "# how many values less than 6?\n",
        "np.count_nonzero(x < 6)"
      ],
      "metadata": {
        "colab": {
          "base_uri": "https://localhost:8080/"
        },
        "id": "wT9f8yQPIz0n",
        "outputId": "1407715e-edda-4cdf-c9fb-369d4dabcdc9"
      },
      "execution_count": null,
      "outputs": [
        {
          "output_type": "execute_result",
          "data": {
            "text/plain": [
              "8"
            ]
          },
          "metadata": {},
          "execution_count": 74
        }
      ]
    },
    {
      "cell_type": "code",
      "source": [
        "np.sum(x < 6)"
      ],
      "metadata": {
        "colab": {
          "base_uri": "https://localhost:8080/"
        },
        "id": "FJKE6czDI8xS",
        "outputId": "d176f929-dc31-4bd6-bb1a-60222d0dd5f1"
      },
      "execution_count": null,
      "outputs": [
        {
          "output_type": "execute_result",
          "data": {
            "text/plain": [
              "8"
            ]
          },
          "metadata": {},
          "execution_count": 75
        }
      ]
    },
    {
      "cell_type": "code",
      "source": [
        "# how many values less than 6 in each row?\n",
        "np.sum(x < 6, axis=1)"
      ],
      "metadata": {
        "colab": {
          "base_uri": "https://localhost:8080/"
        },
        "id": "jcULdZv5I_4I",
        "outputId": "0a5cb7fd-d20d-448f-b710-f2b01688d1fa"
      },
      "execution_count": null,
      "outputs": [
        {
          "output_type": "execute_result",
          "data": {
            "text/plain": [
              "array([3, 2, 3])"
            ]
          },
          "metadata": {},
          "execution_count": 76
        }
      ]
    },
    {
      "cell_type": "code",
      "source": [
        "# are there any values greater than 8?\n",
        "np.any(x > 8)"
      ],
      "metadata": {
        "colab": {
          "base_uri": "https://localhost:8080/"
        },
        "id": "JOPETftdJSHs",
        "outputId": "61953510-2541-4ecc-e8e6-bb319ee61faf"
      },
      "execution_count": null,
      "outputs": [
        {
          "output_type": "execute_result",
          "data": {
            "text/plain": [
              "True"
            ]
          },
          "metadata": {},
          "execution_count": 77
        }
      ]
    },
    {
      "cell_type": "code",
      "source": [
        "# are there any values less than zero?\n",
        "np.any(x < 0)"
      ],
      "metadata": {
        "colab": {
          "base_uri": "https://localhost:8080/"
        },
        "id": "ACbK8eh7JVLp",
        "outputId": "b63bf252-cefe-4372-b533-0f82bfd89c96"
      },
      "execution_count": null,
      "outputs": [
        {
          "output_type": "execute_result",
          "data": {
            "text/plain": [
              "False"
            ]
          },
          "metadata": {},
          "execution_count": 78
        }
      ]
    },
    {
      "cell_type": "code",
      "source": [
        "# are all values less than 10?\n",
        "np.all(x < 10)"
      ],
      "metadata": {
        "colab": {
          "base_uri": "https://localhost:8080/"
        },
        "id": "renS6XWcJYCK",
        "outputId": "7bdfb4e7-4a18-4538-8382-c00290625145"
      },
      "execution_count": null,
      "outputs": [
        {
          "output_type": "execute_result",
          "data": {
            "text/plain": [
              "True"
            ]
          },
          "metadata": {},
          "execution_count": 79
        }
      ]
    },
    {
      "cell_type": "code",
      "source": [
        "# are all values equal to 6?\n",
        "np.all(x == 6)"
      ],
      "metadata": {
        "colab": {
          "base_uri": "https://localhost:8080/"
        },
        "id": "jzXKsrqzJaIt",
        "outputId": "95f3e5c7-6455-4a82-c5f4-bf7a3f6b049f"
      },
      "execution_count": null,
      "outputs": [
        {
          "output_type": "execute_result",
          "data": {
            "text/plain": [
              "False"
            ]
          },
          "metadata": {},
          "execution_count": 80
        }
      ]
    },
    {
      "cell_type": "code",
      "source": [
        "# are all values in each row less than 8?\n",
        "np.all(x < 8, axis=1)"
      ],
      "metadata": {
        "colab": {
          "base_uri": "https://localhost:8080/"
        },
        "id": "CqUlLBdDJdA7",
        "outputId": "26c3ac97-bc43-4207-d068-d8636ab7fe2f"
      },
      "execution_count": null,
      "outputs": [
        {
          "output_type": "execute_result",
          "data": {
            "text/plain": [
              "array([False, False,  True])"
            ]
          },
          "metadata": {},
          "execution_count": 81
        }
      ]
    },
    {
      "cell_type": "markdown",
      "source": [
        "# Fancy Indexing"
      ],
      "metadata": {
        "id": "EBcWg4WoJ-sV"
      }
    },
    {
      "cell_type": "code",
      "source": [
        "x = np.array([51, 92, 14, 71, 60, 20, 82, 86, 74, 74])"
      ],
      "metadata": {
        "colab": {
          "base_uri": "https://localhost:8080/"
        },
        "id": "sFldKQrMM2yF",
        "outputId": "76464f99-9659-4d13-b4f4-20c6975b2694"
      },
      "execution_count": null,
      "outputs": [
        {
          "output_type": "execute_result",
          "data": {
            "text/plain": [
              "array([51, 92, 14, 71, 60, 20, 82, 86, 74, 74])"
            ]
          },
          "metadata": {},
          "execution_count": 82
        }
      ]
    },
    {
      "cell_type": "markdown",
      "source": [
        "Suppose we want to access three different elements. We could do it like this:"
      ],
      "metadata": {
        "id": "AdeqKL_YNMem"
      }
    },
    {
      "cell_type": "code",
      "source": [
        "[x[3], x[7], x[2]]"
      ],
      "metadata": {
        "colab": {
          "base_uri": "https://localhost:8080/"
        },
        "id": "7frL46zDNRFH",
        "outputId": "1a2e406d-bd22-499d-bd80-cd1c25efc245"
      },
      "execution_count": null,
      "outputs": [
        {
          "output_type": "execute_result",
          "data": {
            "text/plain": [
              "[71, 86, 14]"
            ]
          },
          "metadata": {},
          "execution_count": 83
        }
      ]
    },
    {
      "cell_type": "markdown",
      "source": [
        "Alternatively, we can pass a single list or array of indices to obtain the same result:"
      ],
      "metadata": {
        "id": "-TAtJV2qNSQd"
      }
    },
    {
      "cell_type": "code",
      "source": [
        "ind = [3, 7, 4]\n",
        "x[ind]"
      ],
      "metadata": {
        "colab": {
          "base_uri": "https://localhost:8080/"
        },
        "id": "zsZ_btVaM7SG",
        "outputId": "f989f176-cd31-4645-b809-de1845427764"
      },
      "execution_count": null,
      "outputs": [
        {
          "output_type": "execute_result",
          "data": {
            "text/plain": [
              "array([71, 86, 60])"
            ]
          },
          "metadata": {},
          "execution_count": 84
        }
      ]
    },
    {
      "cell_type": "markdown",
      "source": [
        "When using arrays of indices, the shape of the result reflects the shape of the index arrays rather than the shape of the array being indexed:"
      ],
      "metadata": {
        "id": "USU-6bzfNHGX"
      }
    },
    {
      "cell_type": "code",
      "source": [
        "ind = np.array([[3, 7],\n",
        "                [4, 5]])\n",
        "x[ind]"
      ],
      "metadata": {
        "colab": {
          "base_uri": "https://localhost:8080/"
        },
        "id": "sBGcIwEONArV",
        "outputId": "98172dd1-d359-4b78-bb4f-281c6f24803f"
      },
      "execution_count": null,
      "outputs": [
        {
          "output_type": "execute_result",
          "data": {
            "text/plain": [
              "array([[71, 86],\n",
              "       [60, 20]])"
            ]
          },
          "metadata": {},
          "execution_count": 85
        }
      ]
    },
    {
      "cell_type": "markdown",
      "metadata": {
        "id": "05Rno7ExMhrM"
      },
      "source": [
        "Fancy indexing also works in multiple dimensions. Consider the following array:"
      ]
    },
    {
      "cell_type": "code",
      "execution_count": null,
      "metadata": {
        "jupyter": {
          "outputs_hidden": false
        },
        "id": "BL7eO-2_MhrM",
        "outputId": "ce53e4c6-55d9-4a44-d0d4-9cce0fc4b2e7",
        "colab": {
          "base_uri": "https://localhost:8080/"
        }
      },
      "outputs": [
        {
          "output_type": "execute_result",
          "data": {
            "text/plain": [
              "array([[ 0,  1,  2,  3],\n",
              "       [ 4,  5,  6,  7],\n",
              "       [ 8,  9, 10, 11]])"
            ]
          },
          "metadata": {},
          "execution_count": 86
        }
      ],
      "source": [
        "X = np.arange(12).reshape((3, 4))\n",
        "X"
      ]
    },
    {
      "cell_type": "markdown",
      "metadata": {
        "id": "6NGnRsUZMhrM"
      },
      "source": [
        "Like with standard indexing, the first index refers to the row, and the second to the column:"
      ]
    },
    {
      "cell_type": "code",
      "execution_count": null,
      "metadata": {
        "jupyter": {
          "outputs_hidden": false
        },
        "id": "OVKYgnw8MhrM",
        "outputId": "eb6912e6-0671-4502-bda9-7a3346887638",
        "colab": {
          "base_uri": "https://localhost:8080/"
        }
      },
      "outputs": [
        {
          "output_type": "execute_result",
          "data": {
            "text/plain": [
              "array([ 2,  5, 11])"
            ]
          },
          "metadata": {},
          "execution_count": 87
        }
      ],
      "source": [
        "row = np.array([0, 1, 2])\n",
        "col = np.array([2, 1, 3])\n",
        "X[row, col]"
      ]
    },
    {
      "cell_type": "markdown",
      "metadata": {
        "id": "xTe51orFMhrN"
      },
      "source": [
        "Notice that the first value in the result is `X[0, 2]`, the second is `X[1, 1]`, and the third is `X[2, 3]`.\n",
        "The pairing of indices in fancy indexing follows all the broadcasting rules that were mentioned in Broadcasting section.\n",
        "So, for example, if we combine a column vector and a row vector within the indices, we get a two-dimensional result:"
      ]
    },
    {
      "cell_type": "code",
      "execution_count": null,
      "metadata": {
        "jupyter": {
          "outputs_hidden": false
        },
        "id": "yaHKT_rMMhrN",
        "outputId": "8465e37b-a4e8-42ca-c2e9-6363d4a070a4",
        "colab": {
          "base_uri": "https://localhost:8080/"
        }
      },
      "outputs": [
        {
          "output_type": "execute_result",
          "data": {
            "text/plain": [
              "array([[ 2,  1,  3],\n",
              "       [ 6,  5,  7],\n",
              "       [10,  9, 11]])"
            ]
          },
          "metadata": {},
          "execution_count": 88
        }
      ],
      "source": [
        "X[row[:, np.newaxis], col]"
      ]
    },
    {
      "cell_type": "markdown",
      "metadata": {
        "id": "wFGfkWlHMhrN"
      },
      "source": [
        "Here, each row value is matched with each column vector, exactly as we saw in broadcasting of arithmetic operations.\n",
        "For example:"
      ]
    },
    {
      "cell_type": "code",
      "execution_count": null,
      "metadata": {
        "jupyter": {
          "outputs_hidden": false
        },
        "id": "6xcTaalNMhrN",
        "outputId": "99c0d427-6167-454b-d9b5-9d7ac38efff2",
        "colab": {
          "base_uri": "https://localhost:8080/"
        }
      },
      "outputs": [
        {
          "output_type": "execute_result",
          "data": {
            "text/plain": [
              "array([[0, 0, 0],\n",
              "       [2, 1, 3],\n",
              "       [4, 2, 6]])"
            ]
          },
          "metadata": {},
          "execution_count": 89
        }
      ],
      "source": [
        "row[:, np.newaxis] * col"
      ]
    },
    {
      "cell_type": "markdown",
      "metadata": {
        "id": "sDUgze9iMhrN"
      },
      "source": [
        "It is always important to remember with fancy indexing that the return value reflects the *broadcasted shape of the indices*, rather than the shape of the array being indexed."
      ]
    },
    {
      "cell_type": "markdown",
      "source": [
        "# Sorting Arrays"
      ],
      "metadata": {
        "id": "LIxGYcSp9IiH"
      }
    },
    {
      "cell_type": "markdown",
      "metadata": {
        "id": "8VmBAD1tOIBc"
      },
      "source": [
        "## Fast Sorting in NumPy: np.sort and np.argsort\n",
        "\n",
        "The `np.sort` function is analogous to Python's built-in `sorted` function, and will efficiently return a sorted copy of an array:"
      ]
    },
    {
      "cell_type": "code",
      "execution_count": null,
      "metadata": {
        "jupyter": {
          "outputs_hidden": false
        },
        "id": "zGEMfhYCOIBd",
        "outputId": "9adbc12b-3d3d-4dea-e1ca-91d690ac81a5",
        "colab": {
          "base_uri": "https://localhost:8080/"
        }
      },
      "outputs": [
        {
          "output_type": "execute_result",
          "data": {
            "text/plain": [
              "array([1, 2, 3, 4, 5])"
            ]
          },
          "metadata": {},
          "execution_count": 90
        }
      ],
      "source": [
        "import numpy as np\n",
        "\n",
        "x = np.array([2, 1, 4, 3, 5])\n",
        "np.sort(x)"
      ]
    },
    {
      "cell_type": "markdown",
      "metadata": {
        "id": "kUL0nk7NOIBd"
      },
      "source": [
        "Similarly to the `sort` method of Python lists, you can also sort an array in-place using the array `sort` method:"
      ]
    },
    {
      "cell_type": "code",
      "execution_count": null,
      "metadata": {
        "jupyter": {
          "outputs_hidden": false
        },
        "id": "t2cewNW-OIBd",
        "outputId": "bad15b31-4156-49be-aefc-e9e054043a92",
        "colab": {
          "base_uri": "https://localhost:8080/"
        }
      },
      "outputs": [
        {
          "output_type": "stream",
          "name": "stdout",
          "text": [
            "[1 2 3 4 5]\n"
          ]
        }
      ],
      "source": [
        "x.sort()\n",
        "print(x)"
      ]
    },
    {
      "cell_type": "markdown",
      "metadata": {
        "id": "ThfsyoVLOIBd"
      },
      "source": [
        "A related function is `argsort`, which instead returns the *indices* of the sorted elements:"
      ]
    },
    {
      "cell_type": "code",
      "execution_count": null,
      "metadata": {
        "jupyter": {
          "outputs_hidden": false
        },
        "id": "vmRp0PedOIBd",
        "outputId": "3dbaf241-811d-4edc-f9d1-8abee027795d",
        "colab": {
          "base_uri": "https://localhost:8080/"
        }
      },
      "outputs": [
        {
          "output_type": "stream",
          "name": "stdout",
          "text": [
            "[1 0 3 2 4]\n"
          ]
        }
      ],
      "source": [
        "x = np.array([2, 1, 4, 3, 5])\n",
        "i = np.argsort(x)\n",
        "print(i)"
      ]
    },
    {
      "cell_type": "markdown",
      "metadata": {
        "id": "2agmlArAOIBe"
      },
      "source": [
        "The first element of this result gives the index of the smallest element, the second value gives the index of the second smallest, and so on.\n",
        "These indices can then be used (via fancy indexing) to construct the sorted array if desired:"
      ]
    },
    {
      "cell_type": "code",
      "execution_count": null,
      "metadata": {
        "jupyter": {
          "outputs_hidden": false
        },
        "id": "nQ1yzjFUOIBf",
        "outputId": "b67f5260-fed7-473e-8629-9b02235aae1a",
        "colab": {
          "base_uri": "https://localhost:8080/"
        }
      },
      "outputs": [
        {
          "output_type": "execute_result",
          "data": {
            "text/plain": [
              "array([1, 2, 3, 4, 5])"
            ]
          },
          "metadata": {},
          "execution_count": 93
        }
      ],
      "source": [
        "x[i]"
      ]
    },
    {
      "cell_type": "markdown",
      "metadata": {
        "id": "dZKGBEMzOIBf"
      },
      "source": [
        "You'll see an application of `argsort` later in this chapter.\n",
        "\n",
        "### Sorting Along Rows or Columns"
      ]
    },
    {
      "cell_type": "markdown",
      "metadata": {
        "id": "qKPVVXnHOIBf"
      },
      "source": [
        "A useful feature of NumPy's sorting algorithms is the ability to sort along specific rows or columns of a multidimensional array using the `axis` argument. For example:"
      ]
    },
    {
      "cell_type": "code",
      "execution_count": null,
      "metadata": {
        "jupyter": {
          "outputs_hidden": false
        },
        "id": "6osGHHL_OIBg",
        "outputId": "46e128bd-e8bc-4c38-b5fb-45dd36143c8a",
        "colab": {
          "base_uri": "https://localhost:8080/"
        }
      },
      "outputs": [
        {
          "output_type": "stream",
          "name": "stdout",
          "text": [
            "[[0 7 6 4 4 8]\n",
            " [0 6 2 0 5 9]\n",
            " [7 7 7 7 5 1]\n",
            " [8 4 5 3 1 9]]\n"
          ]
        }
      ],
      "source": [
        "rng = np.random.default_rng(seed=42)\n",
        "X = rng.integers(0, 10, (4, 6))\n",
        "print(X)"
      ]
    },
    {
      "cell_type": "code",
      "execution_count": null,
      "metadata": {
        "jupyter": {
          "outputs_hidden": false
        },
        "id": "1XgF4_iLOIBg",
        "outputId": "a1697178-5153-42db-d556-e042a1a61541",
        "colab": {
          "base_uri": "https://localhost:8080/"
        }
      },
      "outputs": [
        {
          "output_type": "execute_result",
          "data": {
            "text/plain": [
              "array([[0, 4, 2, 0, 1, 1],\n",
              "       [0, 6, 5, 3, 4, 8],\n",
              "       [7, 7, 6, 4, 5, 9],\n",
              "       [8, 7, 7, 7, 5, 9]])"
            ]
          },
          "metadata": {},
          "execution_count": 95
        }
      ],
      "source": [
        "# sort each column of X\n",
        "np.sort(X, axis=0)"
      ]
    },
    {
      "cell_type": "code",
      "execution_count": null,
      "metadata": {
        "jupyter": {
          "outputs_hidden": false
        },
        "id": "82ZNPicuOIBg",
        "outputId": "1dfbb53a-b3ef-439b-d4fd-183a67e8dbd4",
        "colab": {
          "base_uri": "https://localhost:8080/"
        }
      },
      "outputs": [
        {
          "output_type": "execute_result",
          "data": {
            "text/plain": [
              "array([[0, 4, 4, 6, 7, 8],\n",
              "       [0, 0, 2, 5, 6, 9],\n",
              "       [1, 5, 7, 7, 7, 7],\n",
              "       [1, 3, 4, 5, 8, 9]])"
            ]
          },
          "metadata": {},
          "execution_count": 96
        }
      ],
      "source": [
        "# sort each row of X\n",
        "np.sort(X, axis=1)"
      ]
    },
    {
      "cell_type": "markdown",
      "metadata": {
        "id": "2BYSsDQqOIBh"
      },
      "source": [
        "Keep in mind that this treats each row or column as an independent array, and any relationships between the row or column values will be lost!"
      ]
    },
    {
      "cell_type": "markdown",
      "source": [
        "# Basic Linear Algebra"
      ],
      "metadata": {
        "id": "LIFxTpDRr8hL"
      }
    },
    {
      "cell_type": "markdown",
      "source": [
        "## Scalar (inner, dot) Product ```np.dot```"
      ],
      "metadata": {
        "id": "ZljqYptusJaT"
      }
    },
    {
      "cell_type": "code",
      "source": [
        "array1 = np.array([1, 3, 5])\n",
        "array2 = np.array([2, 4, 6])\n",
        "\n",
        "# use of dot() to perform array multiplication\n",
        "result = np.dot(array1, array2)\n",
        "\n",
        "print(result)"
      ],
      "metadata": {
        "colab": {
          "base_uri": "https://localhost:8080/"
        },
        "id": "w5Tmu1m6r_yP",
        "outputId": "ea9b7197-3701-46f1-c086-14c0fec72376"
      },
      "execution_count": null,
      "outputs": [
        {
          "output_type": "stream",
          "name": "stdout",
          "text": [
            "44\n"
          ]
        }
      ]
    },
    {
      "cell_type": "markdown",
      "source": [
        "## Outer Product ```np.outer```"
      ],
      "metadata": {
        "id": "VfTlWrNSscqK"
      }
    },
    {
      "cell_type": "code",
      "source": [
        "array1 = np.array([1, 3, 5])\n",
        "array2 = np.array([2, 4, 6])\n",
        "\n",
        "# outer() to perform outer multiplication\n",
        "result = np.outer(array1, array2)\n",
        "\n",
        "print(result)"
      ],
      "metadata": {
        "colab": {
          "base_uri": "https://localhost:8080/"
        },
        "id": "nCfISyVRs2km",
        "outputId": "75a3927a-8d9f-43e0-e073-f3ae5e379535"
      },
      "execution_count": null,
      "outputs": [
        {
          "output_type": "stream",
          "name": "stdout",
          "text": [
            "[[ 2  4  6]\n",
            " [ 6 12 18]\n",
            " [10 20 30]]\n"
          ]
        }
      ]
    },
    {
      "cell_type": "markdown",
      "source": [
        "## Matrix Determinant ```np.linalg.det```"
      ],
      "metadata": {
        "id": "3oz4aL5xtHHX"
      }
    },
    {
      "cell_type": "code",
      "source": [
        "# define a square matrix\n",
        "array1 = np.array([[1, 3],\n",
        "                  [5, 7]])\n",
        "\n",
        "# compute the determinant of array1\n",
        "result = np.linalg.det(array1)\n",
        "\n",
        "\n",
        "print(result)"
      ],
      "metadata": {
        "colab": {
          "base_uri": "https://localhost:8080/"
        },
        "id": "DMh01xcCtM7W",
        "outputId": "97c936ec-81c7-434b-90e9-fac2558fc9f2"
      },
      "execution_count": null,
      "outputs": [
        {
          "output_type": "stream",
          "name": "stdout",
          "text": [
            "-7.999999999999998\n"
          ]
        }
      ]
    },
    {
      "cell_type": "markdown",
      "source": [
        "## Solve Linear System Ax=b ```np.linalg.solve```"
      ],
      "metadata": {
        "id": "wfjgzy1etW08"
      }
    },
    {
      "cell_type": "code",
      "source": [
        "# define the coefficient matrix A\n",
        "A = np.array([[2, 4],\n",
        "             [6, 8]])\n",
        "\n",
        "# define the constant vector b\n",
        "b = np.array([5, 6])\n",
        "\n",
        "# solve the system of linear equations Ax = b\n",
        "x = np.linalg.solve(A, b)\n",
        "\n",
        "print(x)"
      ],
      "metadata": {
        "colab": {
          "base_uri": "https://localhost:8080/"
        },
        "id": "uIMWw6PutcN-",
        "outputId": "7391a94c-c45a-4ef0-bc3b-0deb39fba6b2"
      },
      "execution_count": null,
      "outputs": [
        {
          "output_type": "stream",
          "name": "stdout",
          "text": [
            "[-2.    2.25]\n"
          ]
        }
      ]
    },
    {
      "cell_type": "markdown",
      "source": [
        "## Matrix Inverse ```np.linalg.inv```"
      ],
      "metadata": {
        "id": "5oaN1YpktoBS"
      }
    },
    {
      "cell_type": "code",
      "source": [
        "# define a 2x2 matrix\n",
        "array1 = np.array([[2, 4],\n",
        "                  [6, 8]])\n",
        "\n",
        "# compute the inverse of the matrix\n",
        "result = np.linalg.inv(array1)\n",
        "\n",
        "print(result)"
      ],
      "metadata": {
        "colab": {
          "base_uri": "https://localhost:8080/"
        },
        "id": "U5GwtbYOtuRj",
        "outputId": "09ee2d2a-fde6-48b6-fb6e-2fe4ea359c87"
      },
      "execution_count": null,
      "outputs": [
        {
          "output_type": "stream",
          "name": "stdout",
          "text": [
            "[[-1.    0.5 ]\n",
            " [ 0.75 -0.25]]\n"
          ]
        }
      ]
    },
    {
      "cell_type": "markdown",
      "source": [
        "## Matrix Trace ```np.trace```"
      ],
      "metadata": {
        "id": "CSkTOWF9uBK7"
      }
    },
    {
      "cell_type": "code",
      "source": [
        "# define a 3x3 matrix\n",
        "array1 = np.array([[6, 3, 5],\n",
        "                   [9, 2, 1],\n",
        "                   [7, 8, 4]])\n",
        "\n",
        "# compute the trace of the matrix\n",
        "result = np.trace(array1)\n",
        "\n",
        "print(result)"
      ],
      "metadata": {
        "colab": {
          "base_uri": "https://localhost:8080/"
        },
        "id": "NpQY5sy_uBXN",
        "outputId": "21695a28-7344-466e-c86f-9999e05f640c"
      },
      "execution_count": null,
      "outputs": [
        {
          "output_type": "stream",
          "name": "stdout",
          "text": [
            "12\n"
          ]
        }
      ]
    },
    {
      "cell_type": "markdown",
      "source": [
        "## Matrix Transpose"
      ],
      "metadata": {
        "id": "sHy7_-7ZyL2P"
      }
    },
    {
      "cell_type": "code",
      "source": [
        "# define a 3x3 matrix\n",
        "array1 = np.array([[6, 3, 5],\n",
        "                   [9, 2, 1],\n",
        "                   [7, 8, 4]])\n",
        "\n",
        "# compute the trace of the matrix\n",
        "result = array1.T # or array1.transpose()\n",
        "\n",
        "print(result)"
      ],
      "metadata": {
        "colab": {
          "base_uri": "https://localhost:8080/"
        },
        "outputId": "dabb5c31-ac29-43b4-dfa3-39b730e983eb",
        "id": "UhIBcy8DyL2V"
      },
      "execution_count": null,
      "outputs": [
        {
          "output_type": "stream",
          "name": "stdout",
          "text": [
            "[[6 9 7]\n",
            " [3 2 8]\n",
            " [5 1 4]]\n"
          ]
        }
      ]
    },
    {
      "cell_type": "markdown",
      "source": [
        "## Matrix Multiplication"
      ],
      "metadata": {
        "id": "9wxReJ8Q4XY_"
      }
    },
    {
      "cell_type": "code",
      "source": [
        "a = np.array([[1, 2],\n",
        "              [3, 4]])\n",
        "b = np.array([[1, 2],\n",
        "              [1, 2]])\n",
        "print(a @ b) # same as np.matmul(a, b)"
      ],
      "metadata": {
        "id": "Etkulh2q2FZV",
        "colab": {
          "base_uri": "https://localhost:8080/"
        },
        "outputId": "82241b13-ce9b-4c4a-fd73-f56308e60a35"
      },
      "execution_count": null,
      "outputs": [
        {
          "output_type": "stream",
          "name": "stdout",
          "text": [
            "[[ 3  6]\n",
            " [ 7 14]]\n"
          ]
        }
      ]
    }
  ]
}