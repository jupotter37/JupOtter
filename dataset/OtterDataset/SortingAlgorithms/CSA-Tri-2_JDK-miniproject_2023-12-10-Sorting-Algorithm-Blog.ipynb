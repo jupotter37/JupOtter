{
 "cells": [
  {
   "attachments": {},
   "cell_type": "markdown",
   "metadata": {},
   "source": [
    "---\n",
    "toc: true\n",
    "comments: true\n",
    "layout: post\n",
    "title: Sorting Blog\n",
    "description: Explanation on our Sorting code\n",
    "courses: { compsci: {week: 13} }\n",
    "type: hacks\n",
    "---"
   ]
  },
  {
   "cell_type": "markdown",
   "metadata": {},
   "source": [
    "# Sorting Algorithms Class"
   ]
  },
  {
   "cell_type": "code",
   "execution_count": null,
   "metadata": {
    "vscode": {
     "languageId": "java"
    }
   },
   "outputs": [],
   "source": [
    "class SortingAlgorithm {\n",
    "    protected int iterations;\n",
    "    protected int comparisons;\n",
    "    protected int mergesOrSwaps;\n",
    "    protected long executionTime;\n",
    "\n",
    "    public SortingAlgorithm() {\n",
    "        iterations = 0;\n",
    "        comparisons = 0;\n",
    "        mergesOrSwaps = 0;\n",
    "        executionTime = 0;\n",
    "    }\n",
    "\n",
    "    public void resetStatistics() {\n",
    "        iterations = 0;\n",
    "        comparisons = 0;\n",
    "        mergesOrSwaps = 0;\n",
    "        executionTime = 0;\n",
    "    }\n",
    "\n",
    "    public void displayStatistics() {\n",
    "        System.out.println(\"Iterations: \" + iterations);\n",
    "        System.out.println(\"Comparisons: \" + comparisons);\n",
    "        System.out.println(\"Merges/Swaps: \" + mergesOrSwaps);\n",
    "        System.out.println(\"Execution Time: \" + executionTime + \" milliseconds\");\n",
    "    }\n",
    "\n",
    "    public void sort(DogBreed[] array) {\n",
    "        // This method should be overridden by each sorting algorithm class\n",
    "    }\n",
    "}"
   ]
  },
  {
   "cell_type": "markdown",
   "metadata": {},
   "source": [
    "- This is an abstract class representing a template for sorting algorithms\n",
    "- It contains fields (iterations, comparisons, mergesOrSwaps, executionTime) to track algorithm statistics\n",
    "- The constructor initializes these fields, and resetStatistics method resets them\n",
    "- displayStatistics prints the statistics to the console\n",
    "- The sort method is marked abstract, indicating that it should be implemented by subclasses"
   ]
  },
  {
   "cell_type": "markdown",
   "metadata": {},
   "source": [
    "# DogBreed Class"
   ]
  },
  {
   "cell_type": "code",
   "execution_count": null,
   "metadata": {
    "vscode": {
     "languageId": "java"
    }
   },
   "outputs": [],
   "source": [
    "class DogBreed {\n",
    "    private int id;\n",
    "    private String breed;\n",
    "    private String origin;\n",
    "    private String url;\n",
    "    private String img;\n",
    "\n",
    "    public DogBreed(int id, String breed, String origin, String url, String img) {\n",
    "        this.id = id;\n",
    "        this.breed = breed;\n",
    "        this.origin = origin;\n",
    "        this.url = url;\n",
    "        this.img = img;\n",
    "    }\n",
    "\n",
    "    public String getBreed() {\n",
    "        return breed;\n",
    "    }\n",
    "\n",
    "    @Override\n",
    "    public String toString() {\n",
    "        return \"DogBreed{\" +\n",
    "                \"id:\" + id +\n",
    "                \", breed:'\" + breed + '\\'' +\n",
    "                \", origin:'\" + origin + '\\'' +\n",
    "                \", url:'\" + url + '\\'' +\n",
    "                \", img:'\" + img + '\\'' +\n",
    "                '}';\n",
    "    }\n",
    "}"
   ]
  },
  {
   "cell_type": "markdown",
   "metadata": {},
   "source": [
    "- This class represents a DogBreed object with fields for id, breed, origin, URL, and image.\n",
    "- The toString method is overridden to provide a formatted string representation of the object."
   ]
  },
  {
   "cell_type": "markdown",
   "metadata": {},
   "source": [
    "# BubbleSort Class"
   ]
  },
  {
   "cell_type": "code",
   "execution_count": null,
   "metadata": {
    "vscode": {
     "languageId": "java"
    }
   },
   "outputs": [],
   "source": [
    "\n",
    "class BubbleSort extends SortingAlgorithm {\n",
    "    @Override\n",
    "    public void sort(DogBreed[] array) {\n",
    "        iterations = 0;\n",
    "        comparisons = 0;\n",
    "        mergesOrSwaps = 0;\n",
    "        executionTime = 0;\n",
    "\n",
    "        executionTime = System.currentTimeMillis();\n",
    "\n",
    "        int n = array.length;\n",
    "        for (int i = 0; i < n - 1; i++) {\n",
    "            for (int j = 0; j < n - i - 1; j++) {\n",
    "                comparisons++;\n",
    "                if (array[j].getBreed().compareTo(array[j + 1].getBreed()) > 0) {\n",
    "                    // Swap array[j] and array[j+1]\n",
    "                    DogBreed temp = array[j];\n",
    "                    array[j] = array[j + 1];\n",
    "                    array[j + 1] = temp;\n",
    "\n",
    "                    mergesOrSwaps++;\n",
    "                }\n",
    "                iterations++;\n",
    "            }\n",
    "        }\n",
    "\n",
    "        executionTime = System.currentTimeMillis() - executionTime;\n",
    "    }\n",
    "}"
   ]
  },
  {
   "cell_type": "markdown",
   "metadata": {},
   "source": [
    "- BubbleSort extends SortingAlgorithm, inheriting its fields and methods\n",
    "- The sort method is overridden to implement the bubble sort algorithm\n",
    "- It counts iterations, comparisons, swaps, and measures execution time"
   ]
  },
  {
   "cell_type": "markdown",
   "metadata": {},
   "source": [
    "# Selction Sort Class"
   ]
  },
  {
   "cell_type": "code",
   "execution_count": null,
   "metadata": {
    "vscode": {
     "languageId": "java"
    }
   },
   "outputs": [],
   "source": [
    "class SelectionSort extends SortingAlgorithm {\n",
    "    @Override\n",
    "    public void sort(DogBreed[] array) {\n",
    "        iterations = 0;\n",
    "        comparisons = 0;\n",
    "        mergesOrSwaps = 0;\n",
    "        executionTime = 0;\n",
    "\n",
    "        executionTime = System.currentTimeMillis();\n",
    "\n",
    "        int n = array.length;\n",
    "\n",
    "        for (int i = 0; i < n - 1; i++) {\n",
    "            int minIndex = i;\n",
    "            for (int j = i + 1; j < n; j++) {\n",
    "                comparisons++;\n",
    "                if (array[j].getBreed().compareTo(array[minIndex].getBreed()) < 0) {\n",
    "                    minIndex = j;\n",
    "                }\n",
    "                iterations++;\n",
    "            }\n",
    "\n",
    "            // Swap array[i] and array[minIndex]\n",
    "            DogBreed temp = array[i];\n",
    "            array[i] = array[minIndex];\n",
    "            array[minIndex] = temp;\n",
    "\n",
    "            mergesOrSwaps++;\n",
    "        }\n",
    "\n",
    "        executionTime = System.currentTimeMillis() - executionTime;\n",
    "    }\n",
    "}"
   ]
  },
  {
   "cell_type": "markdown",
   "metadata": {},
   "source": [
    "- SelectionSort extends SortingAlgorithm\n",
    "- The sort method is overridden to implement the selection sort algorithm\n",
    "- It counts iterations, comparisons, swaps, and measures execution time"
   ]
  },
  {
   "cell_type": "markdown",
   "metadata": {},
   "source": [
    "# Merge Sort Class"
   ]
  },
  {
   "cell_type": "code",
   "execution_count": null,
   "metadata": {
    "vscode": {
     "languageId": "java"
    }
   },
   "outputs": [],
   "source": [
    "class MergeSort extends SortingAlgorithm {\n",
    "    @Override\n",
    "    public void sort(DogBreed[] array) {\n",
    "        iterations = 0;\n",
    "        comparisons = 0;\n",
    "        mergesOrSwaps = 0;\n",
    "        executionTime = 0;\n",
    "\n",
    "        executionTime = System.currentTimeMillis();\n",
    "\n",
    "        mergeSort(array, 0, array.length - 1);\n",
    "\n",
    "        executionTime = System.currentTimeMillis() - executionTime;\n",
    "    }\n",
    "\n",
    "    private void merge(DogBreed[] array, int left, int mid, int right) {\n",
    "        int n1 = mid - left + 1;\n",
    "        int n2 = right - mid;\n",
    "\n",
    "        DogBreed[] leftArray = new DogBreed[n1];\n",
    "        DogBreed[] rightArray = new DogBreed[n2];\n",
    "\n",
    "        for (int i = 0; i < n1; ++i) {\n",
    "            leftArray[i] = array[left + i];\n",
    "        }\n",
    "        for (int j = 0; j < n2; ++j) {\n",
    "            rightArray[j] = array[mid + 1 + j];\n",
    "        }\n",
    "\n",
    "        int i = 0, j = 0;\n",
    "        int k = left;\n",
    "        while (i < n1 && j < n2) {\n",
    "            comparisons++;\n",
    "            if (leftArray[i].getBreed().compareTo(rightArray[j].getBreed()) <= 0) {\n",
    "                array[k] = leftArray[i];\n",
    "                i++;\n",
    "            } else {\n",
    "                array[k] = rightArray[j];\n",
    "                j++;\n",
    "            }\n",
    "            k++;\n",
    "            iterations++;\n",
    "        }\n",
    "\n",
    "        while (i < n1) {\n",
    "            array[k] = leftArray[i];\n",
    "            i++;\n",
    "            k++;\n",
    "            mergesOrSwaps++;\n",
    "        }\n",
    "\n",
    "        while (j < n2) {\n",
    "            array[k] = rightArray[j];\n",
    "            j++;\n",
    "            k++;\n",
    "            mergesOrSwaps++;\n",
    "        }\n",
    "    }\n",
    "\n",
    "    private void mergeSort(DogBreed[] array, int left, int right) {\n",
    "        if (left < right) {\n",
    "            int mid = (left + right) / 2;\n",
    "\n",
    "            mergeSort(array, left, mid);\n",
    "            mergeSort(array, mid + 1, right);\n",
    "\n",
    "            merge(array, left, mid, right);\n",
    "        }\n",
    "    }\n",
    "}"
   ]
  },
  {
   "cell_type": "markdown",
   "metadata": {},
   "source": [
    "- MergeSort extends SortingAlgorithm\n",
    "- The sort method is overridden to implement the merge sort algorithm\n",
    "- It uses helper methods merge and mergeSort"
   ]
  },
  {
   "cell_type": "markdown",
   "metadata": {},
   "source": [
    "# Insertion Sort Class"
   ]
  },
  {
   "cell_type": "code",
   "execution_count": null,
   "metadata": {
    "vscode": {
     "languageId": "java"
    }
   },
   "outputs": [],
   "source": [
    "class InsertionSort extends SortingAlgorithm {\n",
    "    @Override\n",
    "    public void sort(DogBreed[] array) {\n",
    "        iterations = 0;\n",
    "        comparisons = 0;\n",
    "        mergesOrSwaps = 0;\n",
    "        executionTime = 0;\n",
    "\n",
    "        executionTime = System.currentTimeMillis();\n",
    "\n",
    "        int n = array.length;\n",
    "        for (int i = 1; i < n; ++i) {\n",
    "            DogBreed key = array[i];\n",
    "            int j = i - 1;\n",
    "\n",
    "            while (j >= 0 && array[j].getBreed().compareTo(key.getBreed()) > 0) {\n",
    "                comparisons++;\n",
    "                array[j + 1] = array[j];\n",
    "                j = j - 1;\n",
    "                mergesOrSwaps++;\n",
    "                iterations++;\n",
    "            }\n",
    "            array[j + 1] = key;\n",
    "            iterations++;\n",
    "        }\n",
    "\n",
    "        executionTime = System.currentTimeMillis() - executionTime;\n",
    "    }\n",
    "}"
   ]
  },
  {
   "cell_type": "markdown",
   "metadata": {},
   "source": [
    "- InsertionSort extends SortingAlgorithm\n",
    "- The sort method is overridden to implement the insertion sort algorithm\n",
    "- It counts iterations, comparisons, swaps, and measures execution time"
   ]
  },
  {
   "cell_type": "markdown",
   "metadata": {},
   "source": [
    "# SortingAlgs Main Class"
   ]
  },
  {
   "cell_type": "code",
   "execution_count": null,
   "metadata": {
    "vscode": {
     "languageId": "java"
    }
   },
   "outputs": [],
   "source": [
    "public class SortingAlgs {\n",
    "    public static void main(String[] args) {\n",
    "        try {\n",
    "            HttpRequest request = HttpRequest.newBuilder()\n",
    "                    .uri(URI.create(\"https://dog-breeds2.p.rapidapi.com/dog_breeds\"))\n",
    "                    .header(\"X-RapidAPI-Key\", \"48e23c6bf3msh9a6baf3e68d9a4ep14546ajsn1a39e98c4ad5\")\n",
    "                    .header(\"X-RapidAPI-Host\", \"dog-breeds2.p.rapidapi.com\")\n",
    "                    .method(\"GET\", HttpRequest.BodyPublishers.noBody())\n",
    "                    .build();\n",
    "\n",
    "            HttpResponse<String> response = HttpClient.newHttpClient().send(request, HttpResponse.BodyHandlers.ofString());\n",
    "\n",
    "            DogBreed[] dogBreeds = parseResponse(response.body()); //parse the response body into an array of DogBreed objects\n",
    "\n",
    "            SortingAlgorithm sortingAlgorithm = new BubbleSort(); //create an instance of the sorting algorithm\n",
    "\n",
    "            sortingAlgorithm.sort(dogBreeds);//sort the array of dog breeds\n",
    "\n",
    "            sortingAlgorithm.displayStatistics();//display sorting statistics\n",
    "\n",
    "            for (DogBreed breed : dogBreeds) {//print the sorted dog breeds\n",
    "                System.out.println(breed);\n",
    "            }\n",
    "\n",
    "        } catch (Exception e) {\n",
    "            e.printStackTrace();\n",
    "        }\n",
    "    }"
   ]
  },
  {
   "cell_type": "markdown",
   "metadata": {},
   "source": [
    "- This is the main class containing the main method for testing sorting algorithms\n",
    "- It makes an HTTP request to fetch dog breeds, parses the response using parseResponse, and then tests the sorting algorithms with the fetched data"
   ]
  },
  {
   "cell_type": "markdown",
   "metadata": {},
   "source": [
    "# parseResponse Method:"
   ]
  },
  {
   "cell_type": "code",
   "execution_count": null,
   "metadata": {
    "vscode": {
     "languageId": "java"
    }
   },
   "outputs": [],
   "source": [
    "private static DogBreed[] parseResponse(String responseBody) {//parse the response body into an array of DogBreed objects\n",
    "    String[] lines = responseBody.split(\"\\n\");\n",
    "    DogBreed[] dogBreeds = new DogBreed[lines.length];\n",
    "    for (int i = 0; i < lines.length; i++) {\n",
    "        String[] parts = lines[i].split(\":\");\n",
    "        int id = Integer.parseInt(parts[1]);\n",
    "        String breed = parts[3].replace(\"\\\"\", \"\");\n",
    "        String origin = parts[5].replace(\"\\\"\", \"\");\n",
    "        String url = parts[7].replace(\"\\\"\", \"\");\n",
    "        String img = parts[9].replace(\"\\\"\", \"\");\n",
    "        dogBreeds[i] = new DogBreed(id, breed, origin, url, img);\n",
    "    }\n",
    "    return dogBreeds;\n",
    "}"
   ]
  },
  {
   "cell_type": "markdown",
   "metadata": {},
   "source": [
    "- parseResponse is a helper method to parse the response body (assumed to be in a specific format) into an array of DogBreed objects\n",
    "\n",
    "represents a framework for various sorting algorithms applied to a list of dog breeds obtained from an API. The sorting algorithms are implemented in separate classes, and their statistics are tracked for analysis. The main method serves as a testing ground for these sorting algorithms. The parseResponse method is responsible for converting the API response into an array of DogBreed objects."
   ]
  }
 ],
 "metadata": {
  "kernelspec": {
   "display_name": "base",
   "language": "python",
   "name": "python3"
  },
  "language_info": {
   "codemirror_mode": {
    "name": "ipython",
    "version": 3
   },
   "file_extension": ".py",
   "mimetype": "text/x-python",
   "name": "python",
   "nbconvert_exporter": "python",
   "pygments_lexer": "ipython3",
   "version": "3.9.12"
  },
  "orig_nbformat": 4
 },
 "nbformat": 4,
 "nbformat_minor": 2
}
