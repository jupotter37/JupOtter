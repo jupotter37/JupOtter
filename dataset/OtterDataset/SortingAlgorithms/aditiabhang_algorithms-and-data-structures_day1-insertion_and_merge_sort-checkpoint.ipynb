{
 "cells": [
  {
   "cell_type": "markdown",
   "metadata": {},
   "source": [
    "## 1. Insertion Sort Algorithm"
   ]
  },
  {
   "cell_type": "markdown",
   "metadata": {},
   "source": [
    "Insertion sort is the sorting mechanism where the sorted array is built having one item at a time. The array elements are compared with each other sequentially and then arranged simultaneously in some particular order"
   ]
  },
  {
   "cell_type": "markdown",
   "metadata": {},
   "source": [
    "Application:\n",
    "- Insertion sort is not the best sorting algorithm in terms of performance, but it a little more effiecient than Bubble sort and Selection sort in practical scenerios."
   ]
  },
  {
   "cell_type": "markdown",
   "metadata": {},
   "source": [
    "Insertion Sort works as follows:\n",
    "\n",
    "1. The first step involves the comparison of the element in question with its adjacent element.\n",
    "2. And if at every comparison reveals that the element in question can be inserted at a particular position, then space is created for it by shifting the other elements one position to the right and inserting the element at the suitable position.\n",
    "3. The above procedure is repeated until all the element in the array is at their apt position."
   ]
  },
  {
   "cell_type": "code",
   "execution_count": 1,
   "metadata": {},
   "outputs": [
    {
     "name": "stdout",
     "output_type": "stream",
     "text": [
      "The Given array is:  [43, 4, 1, 66, 91, 39, 90]\n",
      "Sorted array becomes: \n",
      "1 4 39 43 66 90 91 "
     ]
    }
   ],
   "source": [
    "#Insertion Sort Python code\n",
    "def insertion_sort(A):\n",
    "    for i in range(1, len(A)):\n",
    "        key = A[i]\n",
    "        j = i-1\n",
    "        while j >= 0 and key < A[j]:\n",
    "            A[j+1] = A[j]\n",
    "            j = j-1\n",
    "            A[j+1] = key\n",
    "            \n",
    "A = [43,4,1,66,91,39,90]\n",
    "print (\"The Given array is: \", A)\n",
    "insertion_sort(A)\n",
    "print (\"Sorted array becomes: \")\n",
    "for i in range(len(A)):\n",
    "    print (A[i], end=\" \")"
   ]
  },
  {
   "cell_type": "markdown",
   "metadata": {},
   "source": [
    "#### Time Complexity Analysis"
   ]
  },
  {
   "cell_type": "markdown",
   "metadata": {},
   "source": [
    "Even though insertion sort is efficient, still, if we provide an already sorted array to the insertion sort algorithm, it will still execute the outer for loop, thereby requiring n steps to sort an already sorted array of n elements, which makes its best case time complexity a linear function of n.\n",
    "\n",
    "Best Case Time Complexity [Big-omega]: O(n)"
   ]
  },
  {
   "cell_type": "markdown",
   "metadata": {},
   "source": [
    "Wherein for an unsorted array, it takes for an element to compare with all the other elements which mean every n element compared with all other n elements. Thus, making it for n x n, i.e., n2 comparisons.\n",
    "\n",
    "Worst Case Time Complexity [ Big-O ]: O(n2)\n",
    "\n",
    "Average Time Complexity [Big-theta]: O(n2)"
   ]
  },
  {
   "cell_type": "markdown",
   "metadata": {},
   "source": [
    "## ---------------------------------------------------------------------------"
   ]
  },
  {
   "cell_type": "markdown",
   "metadata": {},
   "source": [
    "## 2. Merge Sort "
   ]
  },
  {
   "cell_type": "markdown",
   "metadata": {},
   "source": [
    "Merge sort works by splitting the input list into two halves, repeating the process on those halves, and finally merging the two sorted halves together.\n",
    "\n",
    "The algorithm first moves from top to bottom, dividing the list into smaller and smaller parts until only the separate elements remain.\n",
    "\n",
    "From there, it moves back up, ensuring that the merging lists are sorted.\n",
    "\n",
    "Merge sort works as follows:\n",
    "1. If n==1, done\n",
    "2. Recursively sort A[1...[n/2]] and A[[n/2+1]...n]\n",
    "3. Merge the two sections"
   ]
  },
  {
   "cell_type": "code",
   "execution_count": 15,
   "metadata": {},
   "outputs": [
    {
     "name": "stdout",
     "output_type": "stream",
     "text": [
      "[21, 32, 32, 33, 46, 66, 90, 91, 99]\n"
     ]
    }
   ],
   "source": [
    "def merge_sort(myList):\n",
    "    if len(myList) > 1:\n",
    "        mid = len(myList) // 2\n",
    "        left_half = myList[:mid]\n",
    "        right_half = myList[mid:]\n",
    "        \n",
    "        #recursive call on each halves\n",
    "        merge_sort(left_half)\n",
    "        merge_sort(right_half)\n",
    "        \n",
    "        #iterative variable to traverse through the two halves\n",
    "        x = 0\n",
    "        y = 0\n",
    "        \n",
    "        #iterative variable to traverse through the whole list\n",
    "        z = 0\n",
    "        \n",
    "        \n",
    "        while x < len(left_half) and y < len(right_half):\n",
    "            if left_half[x] < right_half[y]:\n",
    "                #value from the left half has been used\n",
    "                myList[z] = left_half[x]\n",
    "                #move the iterator forward\n",
    "                x += 1\n",
    "            else:\n",
    "                myList[z] = right_half[y]\n",
    "                y += 1    \n",
    "            #move to the next slot\n",
    "            z += 1\n",
    "        \n",
    "        #for all the remaining values\n",
    "        while x < len(left_half):\n",
    "            myList[z] = left_half[x]\n",
    "            x += 1\n",
    "            z += 1\n",
    "         \n",
    "        while y < len(right_half):\n",
    "            myList[z] = right_half[y]\n",
    "            y += 1\n",
    "            z += 1\n",
    "            \n",
    "def printing(myList):\n",
    "    for i in range(len(myList)):\n",
    "        print(myList[i], end=\"\")\n",
    "        print (\"\")\n",
    "        \n",
    "if __name__=='__main__':\n",
    "    myList = [32,91,99,32,46,21,33,66,90]\n",
    "    merge_sort(myList)\n",
    "    print(myList)"
   ]
  },
  {
   "cell_type": "markdown",
   "metadata": {},
   "source": [
    "The algorithm works in O(n.logn). This is because the list is being split in log(n) calls and the merging process takes linear time in each call."
   ]
  },
  {
   "cell_type": "code",
   "execution_count": null,
   "metadata": {},
   "outputs": [],
   "source": []
  }
 ],
 "metadata": {
  "kernelspec": {
   "display_name": "Python 3",
   "language": "python",
   "name": "python3"
  },
  "language_info": {
   "codemirror_mode": {
    "name": "ipython",
    "version": 3
   },
   "file_extension": ".py",
   "mimetype": "text/x-python",
   "name": "python",
   "nbconvert_exporter": "python",
   "pygments_lexer": "ipython3",
   "version": "3.7.3"
  }
 },
 "nbformat": 4,
 "nbformat_minor": 2
}
