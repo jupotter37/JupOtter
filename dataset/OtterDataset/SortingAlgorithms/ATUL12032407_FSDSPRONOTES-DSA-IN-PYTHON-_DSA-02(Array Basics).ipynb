{
 "cells": [
  {
   "cell_type": "markdown",
   "id": "0c3cdab0-7ec4-4528-8d51-6f819521e55d",
   "metadata": {},
   "source": [
    "Arrays"
   ]
  },
  {
   "cell_type": "raw",
   "id": "6fde9a23-13cf-459d-be43-9950694cd1ee",
   "metadata": {},
   "source": [
    "Data structure -->Array --> linear data structure"
   ]
  },
  {
   "cell_type": "code",
   "execution_count": 3,
   "id": "854e41a7-57d7-4173-b372-bb6a1c56f6af",
   "metadata": {},
   "outputs": [
    {
     "name": "stdout",
     "output_type": "stream",
     "text": [
      "335\n"
     ]
    }
   ],
   "source": [
    "## Method definition of the sum function\n",
    "## Time complexity: O(n)\n",
    "## Space complexity: O(1)\n",
    "\n",
    "def summation(arr):\n",
    "    n = len(arr)\n",
    "    sumVal = 0\n",
    "    for i in range(n):\n",
    "        sumVal += arr[i]\n",
    "    return sumVal\n",
    "\n",
    "## Driver code\n",
    "arr =[23,34,65,45,34,56,78]\n",
    "result=summation(arr)\n",
    "print(result)"
   ]
  },
  {
   "cell_type": "code",
   "execution_count": 8,
   "id": "d3cd883f-2c53-4538-80da-9ef6bcb7ef21",
   "metadata": {},
   "outputs": [],
   "source": [
    "arr=[23,4,5,6,75,44,33]\n",
    "arr.insert(1,24) #1-index ,24-element"
   ]
  },
  {
   "cell_type": "code",
   "execution_count": 5,
   "id": "07272b6c-66af-4a06-a223-b0eb74945817",
   "metadata": {},
   "outputs": [
    {
     "data": {
      "text/plain": [
       "[23, 24, 4, 5, 6, 75, 44, 33]"
      ]
     },
     "execution_count": 5,
     "metadata": {},
     "output_type": "execute_result"
    }
   ],
   "source": [
    "arr"
   ]
  },
  {
   "cell_type": "code",
   "execution_count": 11,
   "id": "9ffd28d0-864e-4856-988f-35a33c8adc78",
   "metadata": {},
   "outputs": [],
   "source": [
    "## built in functions you discussed in the list session are available here as well\n",
    "arr.remove(5) # 4 is element in a string"
   ]
  },
  {
   "cell_type": "code",
   "execution_count": 12,
   "id": "1d26f9ba-8afc-4f25-aee2-5417c73bfe9c",
   "metadata": {},
   "outputs": [
    {
     "data": {
      "text/plain": [
       "[23, 24, 6, 75, 44, 33]"
      ]
     },
     "execution_count": 12,
     "metadata": {},
     "output_type": "execute_result"
    }
   ],
   "source": [
    "arr"
   ]
  },
  {
   "cell_type": "code",
   "execution_count": 19,
   "id": "775484f4-5e6a-44b0-b6dd-08087a635f1d",
   "metadata": {},
   "outputs": [],
   "source": [
    "arr=[12,34,5,5,444,33,22,11,23,45]\n",
    "target = 67\n",
    "## print -1 (it indicatesthat the target value is not avilable in the array)\n",
    "def find(arr):\n",
    "    if target in arr:\n",
    "        return True\n",
    "    return -1   #done by me"
   ]
  },
  {
   "cell_type": "code",
   "execution_count": 20,
   "id": "f0974029-ee53-4c65-9b52-0d358b26e730",
   "metadata": {},
   "outputs": [
    {
     "data": {
      "text/plain": [
       "-1"
      ]
     },
     "execution_count": 20,
     "metadata": {},
     "output_type": "execute_result"
    }
   ],
   "source": [
    "find(arr)"
   ]
  },
  {
   "cell_type": "raw",
   "id": "ba7712a7-a7fa-48d5-879f-8120e2f13008",
   "metadata": {},
   "source": [
    " Searching Algorithm"
   ]
  },
  {
   "cell_type": "code",
   "execution_count": 23,
   "id": "e4f002e4-2369-4fe6-be6b-82f6a6b6c04c",
   "metadata": {},
   "outputs": [
    {
     "name": "stdout",
     "output_type": "stream",
     "text": [
      "-1\n"
     ]
    }
   ],
   "source": [
    "## Searching Algorithms\n",
    "## time complexity: O(n)\n",
    "## space complexity: O(1)\n",
    "def linearsearch(arr,targeth):\n",
    "    for i in range(len(arr)):\n",
    "        if arr[i]==target:\n",
    "            return i\n",
    "         ## in case element is not available in the array\n",
    "        return -1\n",
    "    \n",
    "## print -1 [it indicates that the target values is not available in the array]\n",
    "#Driver code\n",
    "arr=[12,34,5,5,444,33,22,11,23,45]\n",
    "target = 67\n",
    "result=linearsearch(arr,target)\n",
    "print(result)"
   ]
  },
  {
   "cell_type": "code",
   "execution_count": 25,
   "id": "64a8a023-8356-43a9-87c2-ef55bfb684e5",
   "metadata": {},
   "outputs": [
    {
     "data": {
      "text/plain": [
       "([2, 18, 22], [5, 11, 13, 15])"
      ]
     },
     "execution_count": 25,
     "metadata": {},
     "output_type": "execute_result"
    }
   ],
   "source": [
    "## arr = [2, 5, 11, 13, 15, 18, 22]\n",
    "## even and odd array contaning even num and odd num\n",
    "## time complexity: O(n)\n",
    "## space complexity: O(n)\n",
    "\n",
    "## creating an external data structure[list[ to store the even and odd values\n",
    "even =[]\n",
    "odd  =[]\n",
    "def evenAndodd(arr):\n",
    "    for n in arr:\n",
    "        if n%2==0:\n",
    "            even.append(n)\n",
    "        else :\n",
    "            odd.append(n)\n",
    "    return even,odd\n",
    "\n",
    "#driver code\n",
    "arr= [2, 5, 11, 13, 15, 18, 22]\n",
    "evenAndodd(arr)\n",
    "        \n",
    "   \n",
    "    "
   ]
  },
  {
   "cell_type": "code",
   "execution_count": 30,
   "id": "3817e230-d334-455c-bfc0-0fbcbfe66d9b",
   "metadata": {},
   "outputs": [
    {
     "name": "stdout",
     "output_type": "stream",
     "text": [
      "\n",
      "Primary diagonal sum : 32 \n",
      " Secondary diagonal sum: 31\n"
     ]
    }
   ],
   "source": [
    "## function defination\n",
    "## priya.bhatia@pw.live\n",
    "## time complexity: O(n^2)\n",
    "## space complexity: O(1)\n",
    "\n",
    "def printDiagonalSum(arr):\n",
    "    n= len(arr)\n",
    "    primaryDiagonalSum=0\n",
    "    SecondaryDiagonalSum=0\n",
    "    \n",
    "    for i in range(n):\n",
    "        for j in range(n):\n",
    "            #condition to get the elements of primary diagonal\n",
    "            if i ==j:\n",
    "                primaryDiagonalSum+=arr[i][j]\n",
    "            ## condition to get the elements of secondary diagonal     \n",
    "            if (i+j)==(n-1):\n",
    "                SecondaryDiagonalSum+=arr[i][j]\n",
    "                \n",
    "    print(f\"\\nPrimary diagonal sum :\", primaryDiagonalSum ,\"\\n Secondary diagonal sum:\",SecondaryDiagonalSum)      \n",
    "                \n",
    "\n",
    "#driver code\n",
    "arr=[[2,4,6],[8,11,13],[14,17,19]]\n",
    "##function calling\n",
    "printDiagonalSum(arr)"
   ]
  },
  {
   "cell_type": "code",
   "execution_count": null,
   "id": "d79ec3c5-02e1-4bbb-8920-0eb88a8b8688",
   "metadata": {},
   "outputs": [],
   "source": [
    "## Properties of Logarithmic\n",
    "## Asymptotic Notations - Mathematical Idea/Intution\n",
    "## Arrays - 1D/2D Array\n",
    "## Random access - Searching and Sorting\n",
    "## Numerous coding problems[Linear Search, EvenOdd, Summation, DiagonalSum]\n",
    "## Time and Space Complexity\n",
    "## Next Session - Binary Search, Sorting Algorithms\n",
    "## Next Session - Recursion (Can't miss this session)"
   ]
  }
 ],
 "metadata": {
  "kernelspec": {
   "display_name": "Python 3 (ipykernel)",
   "language": "python",
   "name": "python3"
  },
  "language_info": {
   "codemirror_mode": {
    "name": "ipython",
    "version": 3
   },
   "file_extension": ".py",
   "mimetype": "text/x-python",
   "name": "python",
   "nbconvert_exporter": "python",
   "pygments_lexer": "ipython3",
   "version": "3.10.8"
  }
 },
 "nbformat": 4,
 "nbformat_minor": 5
}
