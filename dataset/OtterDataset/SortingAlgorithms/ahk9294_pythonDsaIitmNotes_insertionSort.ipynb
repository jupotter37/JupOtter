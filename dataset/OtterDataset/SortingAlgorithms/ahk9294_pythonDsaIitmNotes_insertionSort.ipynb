{
 "cells": [
  {
   "cell_type": "markdown",
   "metadata": {},
   "source": [
    "First We will code the 'insertion act' using recursion "
   ]
  },
  {
   "cell_type": "code",
   "execution_count": 9,
   "metadata": {},
   "outputs": [
    {
     "data": {
      "text/plain": [
       "[32, 12, 14, 65, 25, 15]"
      ]
     },
     "execution_count": 9,
     "metadata": {},
     "output_type": "execute_result"
    }
   ],
   "source": [
    "def insert(L,e):\n",
    "    n=len(L)\n",
    "    if (len(L)==0):\n",
    "        return([e])\n",
    "    if(e>L[-1]):\n",
    "        return(L+[e])\n",
    "    else:\n",
    "        return(insert(L[:-1],e)+L[-1:])\n",
    "    \n",
    "insert([32,12,65,25,15],14)\n"
   ]
  },
  {
   "cell_type": "markdown",
   "metadata": {},
   "source": [
    "Now let us build the insertion sort.\n",
    "\n",
    "in this new sorted list is made using iterations"
   ]
  },
  {
   "cell_type": "code",
   "execution_count": 10,
   "metadata": {},
   "outputs": [
    {
     "data": {
      "text/plain": [
       "[12, 15, 25, 32, 65]"
      ]
     },
     "execution_count": 10,
     "metadata": {},
     "output_type": "execute_result"
    }
   ],
   "source": [
    "def sort1(L):\n",
    "   sl=[]\n",
    "   for i in L:\n",
    "      sl=insert(sl,i)\n",
    "   return (sl) \n",
    "\n",
    "sort1([32,12,65,25,15])"
   ]
  },
  {
   "cell_type": "markdown",
   "metadata": {},
   "source": [
    "a recursive approach of this function is:\n",
    "\n",
    "in this new sorted list is made during recursion  "
   ]
  },
  {
   "cell_type": "code",
   "execution_count": 12,
   "metadata": {},
   "outputs": [
    {
     "data": {
      "text/plain": [
       "[12, 15, 25, 32, 65]"
      ]
     },
     "execution_count": 12,
     "metadata": {},
     "output_type": "execute_result"
    }
   ],
   "source": [
    "def sort2(L):\n",
    "    n=len(L)\n",
    "    if(n<1):\n",
    "        return L\n",
    "    else:\n",
    "        L=insert(sort2(L[:-1]),L[-1]) \n",
    "    return L\n",
    "\n",
    "sort2([32,12,65,25,15])"
   ]
  },
  {
   "cell_type": "markdown",
   "metadata": {},
   "source": [
    "In terms of efficiency:\n",
    "\n",
    "sort1: Uses an explicit loop for iteration, which is generally more efficient in Python than recursion for simple operations like this.\n",
    "\n",
    "sort2: Uses recursion, which can lead to a higher overhead due to the function call stack.\n",
    "\n",
    "In general, for sorting algorithms, recursive implementations may have higher overhead and may not be as efficient as iterative approaches, especially for large datasets. Iterative solutions often result in better performance and are more memory-efficient.\n",
    "\n",
    "If you are looking for efficiency in sorting, you might want to consider built-in sorting functions in Python, such as sorted() or the sort() method for lists, as they are highly optimized and efficient."
   ]
  },
  {
   "cell_type": "markdown",
   "metadata": {},
   "source": []
  }
 ],
 "metadata": {
  "kernelspec": {
   "display_name": "Python 3",
   "language": "python",
   "name": "python3"
  },
  "language_info": {
   "codemirror_mode": {
    "name": "ipython",
    "version": 3
   },
   "file_extension": ".py",
   "mimetype": "text/x-python",
   "name": "python",
   "nbconvert_exporter": "python",
   "pygments_lexer": "ipython3",
   "version": "3.11.0"
  }
 },
 "nbformat": 4,
 "nbformat_minor": 2
}
