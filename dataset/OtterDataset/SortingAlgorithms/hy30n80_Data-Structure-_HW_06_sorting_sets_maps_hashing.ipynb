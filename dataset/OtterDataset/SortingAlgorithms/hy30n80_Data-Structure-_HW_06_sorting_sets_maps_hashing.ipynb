{
  "nbformat": 4,
  "nbformat_minor": 0,
  "metadata": {
    "colab": {
      "provenance": [],
      "include_colab_link": true
    },
    "kernelspec": {
      "name": "python3",
      "display_name": "Python 3"
    },
    "language_info": {
      "name": "python"
    }
  },
  "cells": [
    {
      "cell_type": "markdown",
      "metadata": {
        "id": "view-in-github",
        "colab_type": "text"
      },
      "source": [
        "<a href=\"https://colab.research.google.com/github/hy30n80/Data-Structure-/blob/main/HW_06_sorting_sets_maps_hashing.ipynb\" target=\"_parent\"><img src=\"https://colab.research.google.com/assets/colab-badge.svg\" alt=\"Open In Colab\"/></a>"
      ]
    },
    {
      "cell_type": "markdown",
      "source": [
        "# EC2202 Homework #6 (Due: 1:00 pm, May. 7, 2024)"
      ],
      "metadata": {
        "id": "4i_Y_6Mjjlg3"
      }
    },
    {
      "cell_type": "markdown",
      "source": [
        "**Disclaimer**\n",
        "This homework is based on\n",
        "\n",
        "1. [GeeksforGeeks](https://practice.geeksforgeeks.org/home)\n",
        "2. [HackerRank](https://www.hackerrank.com/dashboard)\n"
      ],
      "metadata": {
        "id": "EbIb_c3Mju4X"
      }
    },
    {
      "cell_type": "markdown",
      "source": [
        "## Submission Link"
      ],
      "metadata": {
        "id": "0U29o-R0mLkO"
      }
    },
    {
      "cell_type": "markdown",
      "source": [
        "**Submit the sharing link :)**\n",
        "- Submit by [clicking here](https://forms.gle/on9EuMUMs7DeEQrU6)!\n",
        "- Check your sumbission by [clicking here](https://docs.google.com/spreadsheets/d/1w2xJUlZKTnfUvKxPR0OeCtLkusUevNX6jChRArpB34A/edit?usp=sharing)!"
      ],
      "metadata": {
        "id": "m33Sm8mQmN8s"
      }
    },
    {
      "cell_type": "markdown",
      "source": [
        "## Student Information"
      ],
      "metadata": {
        "id": "or_FSdW2mClU"
      }
    },
    {
      "cell_type": "markdown",
      "source": [
        "* Student ID: YOUR ID\n",
        "* Name: YOUR NAME"
      ],
      "metadata": {
        "id": "zK2IdssdmHlt"
      }
    },
    {
      "cell_type": "markdown",
      "source": [
        "## Evaluation Code Setting"
      ],
      "metadata": {
        "id": "m3Qvljj8jzD_"
      }
    },
    {
      "cell_type": "markdown",
      "source": [
        "Run the blow to test your implementation :)"
      ],
      "metadata": {
        "id": "9qWTFg1fj10p"
      }
    },
    {
      "cell_type": "code",
      "execution_count": null,
      "metadata": {
        "id": "CVkw9OJkK6V0"
      },
      "outputs": [],
      "source": [
        "import doctest\n",
        "import inspect\n",
        "\n",
        "def check(func):\n",
        "  if \".sort()\" in inspect.getsource(func) or \"sorted(\" in inspect.getsource(func): return \"DO NOT USE BUILT-IN SORT\""
      ]
    },
    {
      "cell_type": "markdown",
      "source": [
        "##Q1"
      ],
      "metadata": {
        "id": "29k9NiuycY6F"
      }
    },
    {
      "cell_type": "markdown",
      "source": [
        "[Adobe / Amazon / Microsoft] Given an array of size **N** containing only 0s, 1s and 2s. Sort the array in ascending order.\n",
        "\n",
        "`sort_012()` function has an **Input** list which contains 0s, 1s and 2s. Write a code that sorts the list in ascending order. **Output** should be sorted list.\n",
        "\n",
        "**Make sure write your own sorting code**\n",
        "\n",
        "*Do not use any kind of built-in sorting fuction.* You can use any sorting algorithms including heap sort, bubble sort, etc.\n",
        "\n",
        "**Optional conditions:**\n",
        "\n",
        "- Expected Time Complexity: O(N)"
      ],
      "metadata": {
        "id": "FlOAFGX_cR_e"
      }
    },
    {
      "cell_type": "code",
      "source": [
        "def sort_012(list_012):\n",
        "  \"\"\"\n",
        "  >>> check(sort_012)\n",
        "\n",
        "  >>> sort_012([0])\n",
        "  [0]\n",
        "  >>> sort_012([1,2])\n",
        "  [1, 2]\n",
        "  >>> sort_012([2,1,0])\n",
        "  [0, 1, 2]\n",
        "  >>> sort_012( [1, 1, 0, 0, 1] )\n",
        "  [0, 0, 1, 1, 1]\n",
        "  >>> sort_012( [1, 2, 2, 0, 1, 2, 2, 1, 1, 2] )\n",
        "  [0, 1, 1, 1, 1, 2, 2, 2, 2, 2]\n",
        "  >>> sort_012( [2, 0, 0, 2, 0, 0, 1, 0, 1, 0, 2, 1, 1, 2, 1, 2, 0, 0, 2, 1] )\n",
        "  [0, 0, 0, 0, 0, 0, 0, 0, 1, 1, 1, 1, 1, 1, 2, 2, 2, 2, 2, 2]\n",
        "  >>> sort_012( [1, 2, 1, 2, 2, 0, 0, 1, 0, 1, 2, 2, 1, 2, 0, 1, 2, 0, 0, 1, 0, 1, 1, 1, 2, 2, 1, 2, 0, 2, 2, 0, 0, 1, 1, 0, 0, 0, 2, 0] )\n",
        "  [0, 0, 0, 0, 0, 0, 0, 0, 0, 0, 0, 0, 0, 0, 1, 1, 1, 1, 1, 1, 1, 1, 1, 1, 1, 1, 1, 2, 2, 2, 2, 2, 2, 2, 2, 2, 2, 2, 2, 2]\n",
        "  >>> sort_012( [2, 2, 2, 2, 2, 2, 1, 0, 1, 2, 0, 2, 0, 1, 2, 1, 0, 1, 1, 0, 0, 1, 0, 1, 2, 2, 1, 0, 0, 1, 2, 2, 2, 1, 1, 1, 2, 1, 0, 0, 0, 1, 1, 0, 1, 1, 0, 2, 2, 2, 1, 1, 2, 0, 0, 0, 0, 1, 1, 2] )\n",
        "  [0, 0, 0, 0, 0, 0, 0, 0, 0, 0, 0, 0, 0, 0, 0, 0, 0, 0, 1, 1, 1, 1, 1, 1, 1, 1, 1, 1, 1, 1, 1, 1, 1, 1, 1, 1, 1, 1, 1, 1, 2, 2, 2, 2, 2, 2, 2, 2, 2, 2, 2, 2, 2, 2, 2, 2, 2, 2, 2, 2]\n",
        "  \"\"\"\n",
        "  # YOUR CODE HERE"
      ],
      "metadata": {
        "id": "Qh4hLTaHcaeG"
      },
      "execution_count": null,
      "outputs": []
    },
    {
      "cell_type": "code",
      "source": [
        "doctest.run_docstring_examples(sort_012, globals(), False, __name__)"
      ],
      "metadata": {
        "id": "XVIndkv_cavy"
      },
      "execution_count": null,
      "outputs": []
    },
    {
      "cell_type": "markdown",
      "source": [
        "##Q2"
      ],
      "metadata": {
        "id": "0CMlFiUScbVj"
      }
    },
    {
      "cell_type": "markdown",
      "source": [
        "[COCI 2011/2012, Contest #2, Q1] Each round of the contest consists of 8 tasks, each with a different set of points. Contestants can choose any tasks they wish to solve. However, a contestant's final score is determined by summing the points of any 5 tasks such that this sum is maximized. The organizers were busy creating interesting problems and translating them, so they have not resolved how to determine the points scored by each contestant. Now, they are asking you to do this. Write a program that, given the points earned by a contestant on each task, determines the total amount of points scored by that contestant, as well as the sorted list of the 5 tasks contributing to that score.\n"
      ],
      "metadata": {
        "id": "Z7DcCbwdZPqK"
      }
    },
    {
      "cell_type": "code",
      "source": [
        "def calcul_score(scores) :\n",
        "    \"\"\"\n",
        "    >>> calcul_score([20, 30, 50, 48, 33, 66, 0, 64])\n",
        "    261 3 4 5 6 8                                           # sum, sorted index\n",
        "    >>> calcul_score([20, 0, 50, 80, 77, 110, 56, 48])\n",
        "    373 3 4 5 6 7\n",
        "    >>> calcul_score([1, 2, 3, 4, 5, 6, 7, 8])\n",
        "    30 4 5 6 7 8\n",
        "    >>> calcul_score([8, 7, 6, 5, 4, 3, 2, 1])\n",
        "    30 1 2 3 4 5\n",
        "    \"\"\"\n",
        "    # YOUR CODE HERE"
      ],
      "metadata": {
        "id": "U6ARcX_WZQKx"
      },
      "execution_count": null,
      "outputs": []
    },
    {
      "cell_type": "code",
      "source": [
        "doctest.run_docstring_examples(calcul_score, globals(), False, __name__)"
      ],
      "metadata": {
        "id": "gyN7c9qScdbq"
      },
      "execution_count": null,
      "outputs": []
    },
    {
      "cell_type": "markdown",
      "source": [
        "##Q3"
      ],
      "metadata": {
        "id": "CsPL5g0t_zzH"
      }
    },
    {
      "cell_type": "markdown",
      "source": [
        "[Google] Given an array Arr of size N such that each element is from the range 0 to 9. Find the minimum possible sum of two numbers formed using the elements of the array. All digits in the given array must be used to form the two numbers. **You must return value as integer type.**\n",
        "\n",
        "**Make sure write your own sorting code**\n",
        "\n",
        "*Do not use any kind of built-in sorting fuction.* You can use any sorting algorithms including heap sort, bubble sort, etc.\n",
        "\n",
        "**Optional conditions:**\n",
        "\n",
        "- Expected Time Complexity: O(N*log(N))"
      ],
      "metadata": {
        "id": "H091BfAcI_N-"
      }
    },
    {
      "cell_type": "code",
      "source": [
        "def minimum_sum(unsorted_arr):\n",
        "  \"\"\"\n",
        "  >>> check(minimum_sum)\n",
        "\n",
        "  >>> minimum_sum( [3] )\n",
        "  3\n",
        "  >>> minimum_sum( [3, 8] )\n",
        "  11\n",
        "  >>> minimum_sum([6,8,4,5,2,3])\n",
        "  604\n",
        "  >>> minimum_sum([5,3,0,7,4])\n",
        "  82\n",
        "  >>> minimum_sum( [2, 1, 0, 6] )\n",
        "  18\n",
        "  >>> minimum_sum( [2, 6, 6, 7] )\n",
        "  93\n",
        "  >>> minimum_sum( [1, 6, 1, 0, 4, 7, 1, 2] )\n",
        "  1273\n",
        "  >>> minimum_sum( [1, 9, 5, 2, 8, 7, 1, 7, 8, 8, 7, 9, 2, 9, 8, 2, 3, 2, 5, 1] )\n",
        "  2346156788\n",
        "  >>> minimum_sum( [7, 9, 2, 9, 1, 1, 0, 7, 4, 6, 1, 4, 6, 3, 8, 0, 2, 0, 4, 9, 3, 4, 4, 7, 2, 1, 5, 2, 4, 9] )\n",
        "  12345789035698\n",
        "  >>> minimum_sum( [6, 7, 4, 3, 6, 5, 9, 7, 4, 6, 7, 5, 5, 8, 6, 5, 0, 7, 0, 0, 9, 6, 1, 1, 5, 4, 4, 8, 1, 7, 3, 6, 0, 6, 8, 7, 6, 8, 1, 5] )\n",
        "  226891113333555778\n",
        "  \"\"\"\n",
        "  #YOUR CODE HERE"
      ],
      "metadata": {
        "id": "fYCcZ1Rr_3Ip"
      },
      "execution_count": null,
      "outputs": []
    },
    {
      "cell_type": "code",
      "source": [
        "doctest.run_docstring_examples(minimum_sum, globals(), False, __name__)"
      ],
      "metadata": {
        "id": "mX9_g_k3_3Uo"
      },
      "execution_count": null,
      "outputs": []
    },
    {
      "cell_type": "markdown",
      "source": [
        "## Q4"
      ],
      "metadata": {
        "id": "iO3oyH5Jj44f"
      }
    },
    {
      "cell_type": "markdown",
      "source": [
        "[Amazon/Zoho] Implement the given function `unique_row()`.\n",
        "\n",
        "The function takes three arguments which are **row**, **col** and **matrix**.\n",
        "The **row** and **col** denote the rows and columns of **matrix** respectively. The **matrix** is an input matrix with duplicated or distinct rows.\n",
        "\n",
        "You should implement the function that returns the **list** of distinct rows in **matrix**. It is order sensitive.\n",
        "\n",
        "Explanation:\n",
        "\n",
        "Input: row=3, col=4, matrix=1, 1, 0, 1, 1, 0, 0, 1, 1, 1, 0, 1\n",
        "\n",
        "\\#matrix forms [[1, 1, 0, 1], [1, 0, 0, 1], [1, 1, 0, 1]].\n",
        "\n",
        "Output: [[1, 1, 0, 1], [1, 0, 0, 1]]\n",
        "\n",
        "*HINT*: `set()` cannot get 2-dim lists as input. Try using `tuple()` if you need."
      ],
      "metadata": {
        "id": "s_W6t1QTzO0L"
      }
    },
    {
      "cell_type": "code",
      "source": [
        "import doctest"
      ],
      "metadata": {
        "id": "Yv-y5s3TNi_c"
      },
      "execution_count": 3,
      "outputs": []
    },
    {
      "cell_type": "code",
      "source": [
        "def unique_row(row, col, matrix):\n",
        "  \"\"\"\n",
        "  >>> unique_row(3, 4, [1, 1, 0, 1, 1, 0, 0, 1, 1, 1, 0, 1])\n",
        "  [[1, 1, 0, 1], [1, 0, 0, 1]]\n",
        "  >>> unique_row(6, 4, [-4, -7, 1, 6, -4, -1, 2, 5, -4, -1, 2, 5, -4, -7, 1, 6, -4, -7, 1, 6, -6, -3, 7, -2])\n",
        "  [[-4, -7, 1, 6], [-4, -1, 2, 5], [-6, -3, 7, -2]]\n",
        "  >>> unique_row(17, 3, [-5, -5, 7, 3, 2, -5, -5, -5, 7, -6, -5, 1, -6, -5, 1, -5, -5, 7, -6, -3, -9, 6, -1, 2, 6, -1, 2, 6, -1, 2, 3, 2, -5, -6, -5, 1, 3, 2, -5, -6, -5, 1, -6, -3, -9, 6, -1, 2, 3, 2, -5])\n",
        "  [[-5, -5, 7], [3, 2, -5], [-6, -5, 1], [-6, -3, -9], [6, -1, 2]]\n",
        "  >>> unique_row(17, 1, [9, 9, 0, -6, -6, 0, 4, 0, 0, -6, -6, 4, 4, 4, 4, -8, 4])\n",
        "  [[9], [0], [-6], [4], [-8]]\n",
        "  >>> unique_row(12, 2, [-7, -3, 9, 7, 9, 7, -7, -3, -7, -3, -6, 0, -7, -3, -1, -5, -6, 0, -5, 0, -6, 0, -7, 8])\n",
        "  [[-7, -3], [9, 7], [-6, 0], [-1, -5], [-5, 0], [-7, 8]]\n",
        "  >>> unique_row(3, 1, [9, 9, 9])\n",
        "  [[9]]\n",
        "  >>> unique_row(14, 2, [-7, 3, -3, 1, -3, 1, -3, 1, -7, 3, -3, 1, 6, -1, 9, -9, 6, -1, -7, 3, 6, -1, -7, 3, 6, -1, 9, -9])\n",
        "  [[-7, 3], [-3, 1], [6, -1], [9, -9]]\n",
        "  >>> unique_row(7, 5, [1, 5, 3, -2, -2, 2, -7, 1, 2, -9, 2, -7, 1, 2, -9, 1, 5, 3, -2, -2, 1, 5, 3, -2, -2, 2, -7, 1, 2, -9, 1, 5, 3, -2, -2])\n",
        "  [[1, 5, 3, -2, -2], [2, -7, 1, 2, -9]]\n",
        "  >>> unique_row(7, 4, [7, -9, 2, -2, 9, -2, -2, -1, 9, -2, -2, -1, 7, -9, 2, -2, 9, -2, -2, -1, 9, -2, -2, -1, 7, -9, 2, -2])\n",
        "  [[7, -9, 2, -2], [9, -2, -2, -1]]\n",
        "  \"\"\"\n",
        "  # YOUR CODE HERE\n",
        "  my_set = set()\n",
        "  result = []\n",
        "  for i in range(row):\n",
        "    start = i * col\n",
        "    data = matrix[start:start + col]\n",
        "\n",
        "    if tuple(data) not in my_set:\n",
        "      result.append(data)\n",
        "      my_set.add(tuple(data))\n",
        "\n",
        "\n",
        "  print(result)\n",
        "\n",
        "\n"
      ],
      "metadata": {
        "id": "h3n38aHWj8KK"
      },
      "execution_count": 22,
      "outputs": []
    },
    {
      "cell_type": "code",
      "source": [
        "doctest.run_docstring_examples(unique_row, globals(), False, __name__)"
      ],
      "metadata": {
        "id": "Wx0Kz6mlj8oz"
      },
      "execution_count": 23,
      "outputs": []
    },
    {
      "cell_type": "markdown",
      "source": [
        "## Q5"
      ],
      "metadata": {
        "id": "X88kFjC7j9GI"
      }
    },
    {
      "cell_type": "markdown",
      "source": [
        "Implement the given function `cal_point()`.\n",
        "\n",
        "There is two disjoint sets for you and your partner and one integer list. Then you should calculate your point by reading the integer list. If the integer in the list is in your set, the point will get +1 point. If the integer in the list is in your partner's set, the point will get -1 point. Else, there are no points.\n",
        "\n",
        "As the input variables, there are **y_set**, **p_set**, **int_list**. The **y_set** and **p_set** are your set and partner's set respectively and the **int_list** is the list that you have to read for calculating points.\n",
        "\n",
        "You should **return** an integer: calculated point."
      ],
      "metadata": {
        "id": "Y7Y9Z8AsEw9o"
      }
    },
    {
      "cell_type": "code",
      "source": [
        "def cal_point(y_set, p_set, int_list):\n",
        "  \"\"\"\n",
        "  >>> cal_point({1, 2, 3}, {4, 5, 6}, [1, 2, 3, 4, 5])\n",
        "  1\n",
        "  >>> cal_point({2, 4, 5, 6}, {10, 11, 7, 15}, [6, 3, 12, 12, 8, 9])\n",
        "  1\n",
        "  >>> cal_point({10, 6}, {8, 13}, [11, 6, 12, 3, 5, 9, 6, 12, 4, 5, 2, 7, 7])\n",
        "  2\n",
        "  >>> cal_point({11, 3, 5}, {10, 12, 15}, [9, 7, 3, 11, 3, 8, 3, 8])\n",
        "  4\n",
        "  >>> cal_point({1, 2, 6, 11, 13}, {4, 5, 10, 14, 15}, [2, 13, 11, 1, 6, 11])\n",
        "  6\n",
        "  >>> cal_point({2, 4, 5, 9, 12}, {1, 6, 7, 11, 15}, [10, 7, 10, 3, 3])\n",
        "  -1\n",
        "  >>> cal_point({11, 7}, {8, 4}, [5, 3, 5, 1, 8, 7])\n",
        "  0\n",
        "  >>> cal_point({35, 15, 16, 48, 50, 20, 31}, {34, 38, 13, 18, 21, 24, 25}, [41, 12, 30, 23, 27, 22, 8, 20, 50])\n",
        "  2\n",
        "  >>> cal_point({292, 294, 489, 236, 269, 467, 372, 183}, {161, 355, 132, 485, 136, 492, 272, 308}, [480, 465, 314, 354, 126, 200, 150, 463, 381, 236, 392, 454, 364, 266, 289, 259, 164, 178, 420, 317, 154, 417, 111])\n",
        "  1\n",
        "  \"\"\"\n",
        "  # YOUR CODE HERE\n",
        "\n",
        "  score = 0\n",
        "  for num in int_list:\n",
        "    if num in y_set:\n",
        "      score += 1\n",
        "    if num in p_set:\n",
        "      score -= 1\n",
        "\n",
        "  return score\n"
      ],
      "metadata": {
        "id": "_IpDNFWVj-L6"
      },
      "execution_count": 24,
      "outputs": []
    },
    {
      "cell_type": "code",
      "source": [
        "doctest.run_docstring_examples(cal_point, globals(), False, __name__)"
      ],
      "metadata": {
        "id": "NK1Tx4f3j-Xg"
      },
      "execution_count": 25,
      "outputs": []
    },
    {
      "cell_type": "markdown",
      "source": [
        "## Q6"
      ],
      "metadata": {
        "id": "wxUaLpTWj-w0"
      }
    },
    {
      "cell_type": "markdown",
      "source": [
        "[Google] Given an array A of size N. The elements of the array consists of positive integers. You have to find the largest element with minimum frequency.\n",
        "\n",
        "Output Format: For each testcase, return the largest element with minimum frequency."
      ],
      "metadata": {
        "id": "x7nQ3P22o14K"
      }
    },
    {
      "cell_type": "code",
      "source": [
        "def larg_but_min_freq(arr,n) :\n",
        "  \"\"\"\n",
        "  >>> larg_but_min_freq([1,2,3,3,3,3,3,4,5],9)\n",
        "  5\n",
        "  >>> larg_but_min_freq([2,2,5,50,1],5)\n",
        "  50\n",
        "  >>> larg_but_min_freq([1,1,1,2,2,2,3,3,2],9)\n",
        "  3\n",
        "  >>> larg_but_min_freq([1,1,1,2,2,2,3,3,3],9)\n",
        "  3\n",
        "  >>> larg_but_min_freq([-1,-1,-1,-2,-3,-4],6)\n",
        "  -2\n",
        "  >>> larg_but_min_freq([-1,2,-3,4,-5,6],6)\n",
        "  6\n",
        "  >>> larg_but_min_freq([1,1,1,1,1,1,1,1],8)\n",
        "  1\n",
        "  >>> larg_but_min_freq([1],1)\n",
        "  1\n",
        "  \"\"\"\n",
        "  # YOUR CODE HERE\n",
        "  my_dict = dict()\n",
        "\n",
        "  for num in arr:\n",
        "    if num not in my_dict.keys():\n",
        "      my_dict[num] = 1\n",
        "    else:\n",
        "      my_dict[num] += 1\n",
        "\n",
        "  array = []\n",
        "\n",
        "  for key, value in my_dict.items():\n",
        "    if value == min(my_dict.values()):\n",
        "      array.append(key)\n",
        "\n",
        "  return max(array)\n",
        "\n",
        "\n"
      ],
      "metadata": {
        "id": "CaRLRWz0kACi"
      },
      "execution_count": 28,
      "outputs": []
    },
    {
      "cell_type": "code",
      "source": [
        "doctest.run_docstring_examples(larg_but_min_freq, globals(), False, __name__)"
      ],
      "metadata": {
        "id": "V2llwTxykANn"
      },
      "execution_count": 29,
      "outputs": []
    },
    {
      "cell_type": "markdown",
      "source": [
        "##Q7"
      ],
      "metadata": {
        "id": "Q81US1I1YfFz"
      }
    },
    {
      "cell_type": "markdown",
      "source": [
        "Given an array A of size N. Consider differences between first and last occurrences of all elements and find the maximum such difference.  Note that if any element appears only once, then the difference for the element is 0."
      ],
      "metadata": {
        "id": "N3dfKDDS4gDy"
      }
    },
    {
      "cell_type": "code",
      "source": [
        "def maxDiffIndex(arr, n):\n",
        "  \"\"\"\n",
        "  >>> maxDiffIndex([2, 1, 3, 4, 2, 1, 5, 1, 7],9)\n",
        "  6\n",
        "  >>> maxDiffIndex([2, 2, 2],3)\n",
        "  2\n",
        "  >>> maxDiffIndex([1,2,3,4,5],5)\n",
        "  0\n",
        "  >>> maxDiffIndex([-1,2,-3,4,-5,1,1,-3],8)\n",
        "  5\n",
        "  >>> maxDiffIndex([1],1)\n",
        "  0\n",
        "  >>> maxDiffIndex([1,-1,1,-1,1,-1,1],7)\n",
        "  6\n",
        "  \"\"\"\n",
        "  # YOUR CODE HERE\n",
        "  my_dict = {}\n",
        "  max = 0\n",
        "\n",
        "  for i in range(n):\n",
        "    num = arr[i]\n",
        "    if num not in my_dict.keys():\n",
        "      my_dict[num] = i\n",
        "\n",
        "    else:\n",
        "      temp = i - my_dict[num]\n",
        "      if max < temp:\n",
        "        max = temp\n",
        "\n",
        "  return max\n",
        "\n"
      ],
      "metadata": {
        "id": "wSoA9PFcYeND"
      },
      "execution_count": 30,
      "outputs": []
    },
    {
      "cell_type": "code",
      "source": [
        "doctest.run_docstring_examples(maxDiffIndex, globals(), False, __name__)"
      ],
      "metadata": {
        "id": "IBtGnTwJYewM"
      },
      "execution_count": 31,
      "outputs": []
    },
    {
      "cell_type": "markdown",
      "source": [
        "##Q8"
      ],
      "metadata": {
        "id": "kagdKFpiYgZr"
      }
    },
    {
      "cell_type": "markdown",
      "source": [
        "[Google] Imagine you have a special keyboard with all keys in a single row. The layout of characters on a keyboard is denoted by a string S1 of length 26. S1 is indexed from 0 to 25. Initially, your finger is at index 0.\n",
        "To type a character, you have to move your finger to the index of the desired character. The time taken to move your finger from index i to index j is |j-i|, where || denotes absolute value.Find the time taken to type the string S2 with the given keyboard layout."
      ],
      "metadata": {
        "id": "VWmdkDeX0oxd"
      }
    },
    {
      "cell_type": "code",
      "source": [
        "def find_time(s1, s2):\n",
        "  \"\"\"\n",
        "  >>> find_time(\"abcdefghijklmnopqrstuvwxyz\", \"cba\")\n",
        "  4\n",
        "  >>> find_time(\"zyxwvutsrqponmlkjihgfedcba\", \"a\")\n",
        "  25\n",
        "  >>> find_time(\"wsjvfpcxkanqgeitdyuhobzmlr\", \"wrwr\")\n",
        "  75\n",
        "  >>> find_time(\"cntzhyejxuodgpfsrbliqmwkav\", \"cccc\")\n",
        "  0\n",
        "  >>> find_time(\"zkqsneutodrvyfbxpgchmiljaw\", \"ziayqbw\")\n",
        "  69\n",
        "  \"\"\"\n",
        "  # YOUR CODE HERE\n",
        "  pos = 0\n",
        "  sum = 0\n",
        "\n",
        "  for char in s2:\n",
        "    for i in range(len(s1)):\n",
        "      if s1[i] == char:\n",
        "        sum += abs(i-pos)\n",
        "        pos = i\n",
        "\n",
        "  return sum\n"
      ],
      "metadata": {
        "id": "m4Eba2iyYfid"
      },
      "execution_count": 35,
      "outputs": []
    },
    {
      "cell_type": "code",
      "source": [
        "doctest.run_docstring_examples(find_time, globals(), False, __name__)"
      ],
      "metadata": {
        "id": "d3Ww4FAAYfzH"
      },
      "execution_count": 36,
      "outputs": []
    },
    {
      "cell_type": "markdown",
      "source": [
        "##Q9"
      ],
      "metadata": {
        "id": "TlsH6dSNYmL_"
      }
    },
    {
      "cell_type": "markdown",
      "source": [
        "[Amazon / Walmart] Given an array of positive integers. Find the length of the longest sub-sequence such that elements in the subsequence are consecutive integers, the consecutive numbers can be in any order.\n",
        "\n",
        "**Expected Time Complexity: O(N).**"
      ],
      "metadata": {
        "id": "J-XKBRHp4dAh"
      }
    },
    {
      "cell_type": "code",
      "source": [
        "def find_longest_conseq_subseq(arr, n):\n",
        "  \"\"\"\n",
        "  >>> find_longest_conseq_subseq([1, 9, 3, 10, 4, 20, 2], 7)\n",
        "  4\n",
        "  >>> find_longest_conseq_subseq([2, 6, 1, 9, 4, 5, 3], 7)\n",
        "  6\n",
        "  >>> find_longest_conseq_subseq([1, 9, 3, 10, 4, 20, 2], 7)\n",
        "  4\n",
        "  >>> find_longest_conseq_subseq([7, 6, 5, 4, 3, 2, 2], 7)\n",
        "  6\n",
        "  >>> find_longest_conseq_subseq([2, 2, 3, 3, 1, 1], 6)\n",
        "  3\n",
        "  \"\"\"\n",
        "  # YOUR CODE HERE\n",
        "\n",
        "  s = set()\n",
        "  max = 1\n",
        "  for i in range(n):\n",
        "    s.add(arr[i])\n",
        "\n",
        "  for i in range(n):\n",
        "    if arr[i]-1 not in s: #처음 시작 점 찾기\n",
        "      j = arr[i] + 1\n",
        "\n",
        "      while (j in s):\n",
        "        j += 1\n",
        "\n",
        "      if max < j - arr[i]:\n",
        "        max = j - arr[i]\n",
        "\n",
        "  return max"
      ],
      "metadata": {
        "id": "xn-uVAbWYnqx"
      },
      "execution_count": 37,
      "outputs": []
    },
    {
      "cell_type": "code",
      "source": [
        "doctest.run_docstring_examples(find_longest_conseq_subseq, globals(), False, __name__)"
      ],
      "metadata": {
        "id": "XrlcbGcUYn8N"
      },
      "execution_count": 38,
      "outputs": []
    },
    {
      "cell_type": "code",
      "source": [],
      "metadata": {
        "id": "3si6-bNqb7Nm"
      },
      "execution_count": null,
      "outputs": []
    }
  ]
}