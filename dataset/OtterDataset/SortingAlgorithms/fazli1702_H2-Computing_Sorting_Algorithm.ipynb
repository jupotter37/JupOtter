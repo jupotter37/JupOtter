{
 "cells": [
  {
   "cell_type": "markdown",
   "metadata": {},
   "source": [
    "# Bubble Sort\n",
    "  \n",
    "additional readings:  \n",
    "https://en.wikipedia.org/wiki/Bubble_sort  \n",
    "https://www.geeksforgeeks.org/bubble-sort/"
   ]
  },
  {
   "cell_type": "markdown",
   "metadata": {},
   "source": [
    "Bubble sort compares adjacent elements in the list and swap them if the first element is larger then the second element.  \n",
    "It then compares the next pair of elements until the end by iterating through the list.  \n",
    "It iterates the list n number of times where n = len(arr).\n",
    "\n",
    "\n",
    "e.g  \n",
    "[4, 2, 1, 3] - compare 4 and 2. Since 4 > 2, swap 4 and 2  \n",
    "[2, 4, 1, 3] - compare 4 and 1. Since 4 > 1, swap 4 and 1  \n",
    "[2, 1, 4, 3] - compare 4 and 3. Since 4 > 3, swap 4 and 3 -- end of list, go back to first element  \n",
    "[2, 1, 3, 4] - compare 2 and 1 ......  \n",
    ".....  \n",
    "[1, 2, 3, 4]"
   ]
  },
  {
   "cell_type": "markdown",
   "metadata": {},
   "source": [
    "## Time Complexity\n",
    "**(only worst case in syllabus)**\n",
    "\n",
    "Worst Case: O(n^2) \n",
    "\n",
    "Average Case: O(n^2)\n",
    "\n",
    "Best Case: O(n)\n",
    "\n",
    "## Space Complexity\n",
    "**(not in syllabus)**  \n",
    "O(1) - no additional space required (only for in place)\n",
    "\n",
    "### Bubble Sort is in-place\n",
    "- elements doing mutual swap in the list\n",
    "- list is mutated\n",
    "- no additional memory required\n",
    "\n",
    "### Bubble Sort is stable\n",
    "- relative position of similar element remain unchanged"
   ]
  },
  {
   "cell_type": "code",
   "execution_count": 2,
   "metadata": {},
   "outputs": [],
   "source": [
    "# normal bubble sort\n",
    "# go through the entire arr n number of times where n = len(arr)\n",
    "\n",
    "def bubble_sort(arr):\n",
    "    n = 0\n",
    "    for j in range(len(arr)):\n",
    "        for i in range(len(arr)-1):\n",
    "            n += 1\n",
    "            if arr[i] > arr[i+1]:\n",
    "                arr[i], arr[i+1] = arr[i+1], arr[i]\n",
    "    return arr, n\n",
    "            "
   ]
  },
  {
   "cell_type": "code",
   "execution_count": 3,
   "metadata": {},
   "outputs": [],
   "source": [
    "# optimised bubble sort 1\n",
    "# after every loop, the largest number will be sorted at the end\n",
    "# so after every iteration, don't need to compare last number\n",
    "# e.g [3,4,2,1](compare[:4]) -> [3,2,1,4](compare[:3]) -> [2,1,3,4](compare[:2]) ....\n",
    "\n",
    "def op_bubble_sort1(arr):\n",
    "    n = 0\n",
    "    end = len(arr) - 1\n",
    "    while end != 0:\n",
    "        for i in range(end):\n",
    "            n += 1\n",
    "            if arr[i] > arr[i+1]:\n",
    "                arr[i], arr[i+1] = arr[i+1], arr[i]\n",
    "        end -= 1\n",
    "    return arr, n"
   ]
  },
  {
   "cell_type": "code",
   "execution_count": 4,
   "metadata": {},
   "outputs": [],
   "source": [
    "# optimised bubble sort\n",
    "# more optimised - reduce number of comparison\n",
    "# same as above but check if swapped during current iteraton\n",
    "# break if there is no swap - already sorted\n",
    "\n",
    "def op_bubble_sort(arr):\n",
    "    count = 0\n",
    "    end = len(arr) - 1\n",
    "    n = len(arr)\n",
    "    for i in range(n):\n",
    "        flag = False\n",
    "        for j in range(len(arr[:end])):\n",
    "            count += 1\n",
    "            if arr[j] > arr[j+1]:\n",
    "                arr[j], arr[j+1] = arr[j+1], arr[j]\n",
    "                flag = True\n",
    "        end -= 1\n",
    "\n",
    "        if not flag:\n",
    "            return arr, count\n"
   ]
  },
  {
   "cell_type": "code",
   "execution_count": 5,
   "metadata": {},
   "outputs": [],
   "source": [
    "arr = [23, 12, 8, 14, 17, 11, 19] "
   ]
  },
  {
   "cell_type": "code",
   "execution_count": 10,
   "metadata": {},
   "outputs": [
    {
     "name": "stdout",
     "output_type": "stream",
     "text": [
      "normal bubble sort: [8, 11, 12, 14, 17, 19, 23] count: 42\n",
      "optimized bubble sort: [8, 11, 12, 14, 17, 19, 23] count: 21\n",
      "more optimized bubble sort: [8, 11, 12, 14, 17, 19, 23] count: 6\n"
     ]
    }
   ],
   "source": [
    "print(f'normal bubble sort: {bubble_sort(arr)[0]} count: {bubble_sort(arr)[1]}')\n",
    "print(f'optimized bubble sort: {op_bubble_sort1(arr)[0]} count: {op_bubble_sort1(arr)[1]}')\n",
    "print(f'more optimized bubble sort: {op_bubble_sort(arr)[0]} count: {op_bubble_sort(arr)[1]}')"
   ]
  },
  {
   "cell_type": "markdown",
   "metadata": {},
   "source": [
    "# Insertion Sort\n",
    "\n",
    "https://www.geeksforgeeks.org/insertion-sort/  \n",
    "https://en.wikipedia.org/wiki/Insertion_sort"
   ]
  },
  {
   "cell_type": "markdown",
   "metadata": {},
   "source": [
    "Insertion sort works by first sorting the first two elements (start iteration from 2nd element and compare with the one before).  \n",
    "It then looks at the third element and insert it at the appropriate location between the first two elements (by iterating through and comparing the elements).  \n",
    "This will make the first three elements sorted and then it will check the next unsorted element which is the fourth one.   \n",
    "This carries on until the end of the list.  \n",
    "\n",
    "\n",
    "Insertion occurs by swapping adjacent elements \n",
    "\n",
    "e.g  \n",
    "[4, 2, 1, 3] - check 2nd elements, 2 with element before, 4. Since 4 > 2, insert 2 before 4  \n",
    "[2, 4, 1, 3] - first two are sorted, check 3rd element, 1. Since 1 < 2, insert 1 before 2  \n",
    "[1, 2, 4, 3] - first three are sorted, check 4th element, 3. Since 3 > 2 and 3 < 4, insert 3 after 2 & before 4  \n",
    "[1, 2, 3, 4] -- sorted"
   ]
  },
  {
   "cell_type": "markdown",
   "metadata": {},
   "source": [
    "## Time Complexity\n",
    "\n",
    "Worst-case performance: O(n^2)  \n",
    "\n",
    "Best-case performance: O(n)  \n",
    "\n",
    "Average performance: O(n^2)  \n",
    "\n",
    "## Space Complextiy\n",
    "O(1) - no additional space required  \n",
    "  \n",
    "  \n",
    "\n",
    "## Stable & In-place\n",
    "- both iterative and recursive"
   ]
  },
  {
   "cell_type": "code",
   "execution_count": 12,
   "metadata": {},
   "outputs": [
    {
     "data": {
      "text/plain": [
       "[8, 11, 12, 14, 17, 19, 23]"
      ]
     },
     "execution_count": 12,
     "metadata": {},
     "output_type": "execute_result"
    }
   ],
   "source": [
    "# iterative method\n",
    "\n",
    "def insertion_sort(arr):\n",
    "    for i in range(1, len(arr)):\n",
    "        j = i - 1\n",
    "        key = arr[i]\n",
    "        while j >= 0 and key < arr[j]:\n",
    "            arr[j], arr[j+1] = arr[j+1], arr[j]\n",
    "            j -= 1\n",
    "    return arr\n",
    "\n",
    "arr = [23, 12, 8, 14, 17, 11, 19] \n",
    "insertion_sort(arr)"
   ]
  },
  {
   "cell_type": "code",
   "execution_count": 13,
   "metadata": {},
   "outputs": [
    {
     "data": {
      "text/plain": [
       "[8, 11, 12, 14, 17, 19, 23]"
      ]
     },
     "execution_count": 13,
     "metadata": {},
     "output_type": "execute_result"
    }
   ],
   "source": [
    "# recursive method\n",
    "\n",
    "def insertionSort(L):\n",
    "    return insertSortOuter(L, 1)\n",
    "\n",
    "def insertSortInner(L:list, j:int):\n",
    "    if j == 0:\n",
    "        return L\n",
    "    else:\n",
    "        if L[j] < L[j-1]:\n",
    "            L[j], L[j-1] = L[j-1], L[j]\n",
    "            \n",
    "        return insertSortInner(L, j-1)\n",
    "\n",
    "def insertSortOuter(L:list, i:int):\n",
    "    if i == len(L):\n",
    "        return L\n",
    "    else:\n",
    "        return insertSortOuter(insertSortInner(L, i), i+1)\n",
    "    \n",
    "arr = [23, 12, 8, 14, 17, 11, 19] \n",
    "insertionSort(arr)"
   ]
  },
  {
   "cell_type": "markdown",
   "metadata": {},
   "source": [
    "# Selection Sort\n",
    "**not in syllabus**\n",
    "  \n",
    "https://www.geeksforgeeks.org/selection-sort/  \n",
    "https://en.wikipedia.org/wiki/Selection_sort"
   ]
  },
  {
   "cell_type": "markdown",
   "metadata": {},
   "source": [
    "Selection sort works by selecting the smallest element in the list and swapping it with the first element.  \n",
    "Select the smallest element in the remainig list and swap with the second element.  \n",
    "Repeat this until list is sorted or for n-1 times where n = len(list) -- dont need n times as largest number will automatically be last\n",
    "\n",
    "e.g  \n",
    "[4, 2, 1, 3] - find smallest element [0:], 1. Swap with first element  \n",
    "[1, 2, 4, 3] - find smallest element in remaining list [1:], 2. Swap with second element -- since 2 is already at the correct position, no swap needed  \n",
    "[1, 2, 4, 3] - find smallest element in remaining list [2:], 3. Swap with third element  \n",
    "[1, 2, 3, 4] -- sorted"
   ]
  },
  {
   "cell_type": "markdown",
   "metadata": {},
   "source": [
    "## Time Complexity\n",
    "\n",
    "Worst-case performance: O(n^2)  \n",
    "\n",
    "Best-case performance: O(n^2)  \n",
    "\n",
    "average performance: O(n^2)  \n",
    "\n",
    "## Space Complexity\n",
    "O(1) - no additional space required\n",
    "\n",
    "\n",
    "### Stable and In-place"
   ]
  },
  {
   "cell_type": "code",
   "execution_count": 8,
   "metadata": {},
   "outputs": [
    {
     "data": {
      "text/plain": [
       "[8, 11, 12, 14, 17, 19, 23]"
      ]
     },
     "execution_count": 8,
     "metadata": {},
     "output_type": "execute_result"
    }
   ],
   "source": [
    "def selection_sort(arr):\n",
    "    for i in range(len(arr)):\n",
    "        min_i = i\n",
    "        \n",
    "        # finding smallest element\n",
    "        for j in range(i+1, len(arr)):\n",
    "            if arr[min_i] > arr[j]:\n",
    "                min_i = j\n",
    "\n",
    "        arr[i], arr[min_i] = arr[min_i], arr[i]\n",
    "\n",
    "    return arr\n",
    "\n",
    "arr = [23, 12, 8, 14, 17, 11, 19] \n",
    "selection_sort(arr)"
   ]
  },
  {
   "cell_type": "markdown",
   "metadata": {},
   "source": [
    "# Merge Sort\n",
    "\n",
    "https://www.geeksforgeeks.org/merge-sort/  \n",
    "https://en.wikipedia.org/wiki/Merge_sort"
   ]
  },
  {
   "cell_type": "markdown",
   "metadata": {},
   "source": [
    "The Merge Sort algorithm will first divide the list into half over and over again until each list contains only one element.   \n",
    "Then it will merge two lists together into a sorted list repeatedly until all the elements are combined together in one single sorted list.\n",
    "\n",
    "\n",
    "e.g  \n",
    "[4, 2, 1, 3] - break down into halves until single elements  \n",
    "[4, 2] [1, 3]  \n",
    "[4] [2] [1] [3]  - compare and merge elements together until it becomes a sorted list  \n",
    "\n",
    "compare [4] & [2] - 4 > 2, [2, 4]  \n",
    "compare [1] & [3] - 1 > 3, [1, 3]\n",
    "\n",
    "compare [2, 4] & [1, 3] - compare first element in each list  \n",
    "2 > 1, remove 1 and add into new list - [1]  \n",
    "  \n",
    "compare [2, 4] & [3]  \n",
    "2 < 3, remove 2 and add into new list - [1, 2]  \n",
    "  \n",
    "compare [4] & [3]  \n",
    "4 > 3, remove 3 and add into new list - [1, 2, 3]  \n",
    "  \n",
    "only remaining [4] - add into list - [1, 2, 3, 4] -- sorted"
   ]
  },
  {
   "cell_type": "markdown",
   "metadata": {},
   "source": [
    "## Time Complexity\n",
    "\n",
    "Worst-case performance: O(n logn)\n",
    "\n",
    "Best-case performance: O(n logn)\n",
    "\n",
    "average performance: O(n logn)\n",
    "\n",
    "## Space Complexity\n",
    "O(n)"
   ]
  },
  {
   "cell_type": "markdown",
   "metadata": {},
   "source": [
    "## Non in-place"
   ]
  },
  {
   "cell_type": "code",
   "execution_count": 7,
   "metadata": {},
   "outputs": [
    {
     "data": {
      "text/plain": [
       "[8, 11, 11, 12, 14, 14, 23]"
      ]
     },
     "execution_count": 7,
     "metadata": {},
     "output_type": "execute_result"
    }
   ],
   "source": [
    "def merge(left, right):\n",
    "    lst = []\n",
    "    while len(left) != 0 and len(right) != 0:\n",
    "        if left[0] > right[0]:\n",
    "            lst.append(right.pop(0))\n",
    "        else:\n",
    "            lst.append(left.pop(0))\n",
    "\n",
    "    if len(left) != 0:\n",
    "        lst += left\n",
    "\n",
    "    if len(right) != 0:\n",
    "        lst += right\n",
    "\n",
    "    return lst\n",
    "\n",
    "def merge_sort(arr):\n",
    "    if len(arr) <= 1:\n",
    "        return arr\n",
    "    \n",
    "    mid = len(arr) // 2\n",
    "    l = arr[:mid]\n",
    "    r = arr[mid:]\n",
    "    return merge(merge_sort(l), merge_sort(r))\n",
    "\n",
    "arr = [23, 12, 8, 14, 17, 11, 19] \n",
    "merge_sort2(arr)  "
   ]
  },
  {
   "cell_type": "code",
   "execution_count": 15,
   "metadata": {},
   "outputs": [
    {
     "data": {
      "text/plain": [
       "[8, 11, 12, 14, 17, 19, 23]"
      ]
     },
     "execution_count": 15,
     "metadata": {},
     "output_type": "execute_result"
    }
   ],
   "source": [
    "def merge_sort2(arr): \n",
    "    if len(arr) >1: \n",
    "        mid = len(arr) // 2  # Finding the mid of the array \n",
    "        L = arr[:mid]        # Dividing the array elements  \n",
    "        R = arr[mid:]        # into 2 halves \n",
    "  \n",
    "        merge_sort2(L) # Sorting the first half \n",
    "        merge_sort2(R) # Sorting the second half \n",
    "  \n",
    "        i = j = k = 0\n",
    "          \n",
    "        # Copy data to temp arrays L[] and R[] \n",
    "        while i < len(L) and j < len(R): \n",
    "            if L[i] < R[j]: \n",
    "                arr[k] = L[i] \n",
    "                i+= 1\n",
    "            else: \n",
    "                arr[k] = R[j] \n",
    "                j+= 1\n",
    "            k+= 1\n",
    "          \n",
    "        # Checking if any element was left \n",
    "        while i < len(L): \n",
    "            arr[k] = L[i] \n",
    "            i+= 1\n",
    "            k+= 1\n",
    "          \n",
    "        while j < len(R): \n",
    "            arr[k] = R[j] \n",
    "            j+= 1\n",
    "            k+= 1\n",
    "            \n",
    "        return arr\n",
    "\n",
    "arr = [23, 12, 8, 14, 17, 11, 19] \n",
    "merge_sort3(arr)  "
   ]
  },
  {
   "cell_type": "markdown",
   "metadata": {},
   "source": [
    "## In-place\n",
    "\n",
    "https://www.geeksforgeeks.org/in-place-merge-sort/"
   ]
  },
  {
   "cell_type": "code",
   "execution_count": 2,
   "metadata": {},
   "outputs": [
    {
     "name": "stdout",
     "output_type": "stream",
     "text": [
      "[8, 11, 12, 14, 17, 19, 23]\n"
     ]
    }
   ],
   "source": [
    "def merge(arr, low, mid, high):\n",
    "    leftptr = low  # pointer for left sub array\n",
    "    rightptr = mid + 1  # pointer for right sub array\n",
    "    \n",
    "    # If the direct merge is already sorted\n",
    "    if arr[mid] <= arr[rightptr]:\n",
    "        return\n",
    "    \n",
    "    while leftptr <= mid and rightptr <= high:\n",
    "        if arr[leftptr] < arr[rightptr]:\n",
    "            leftptr += 1\n",
    "        else:\n",
    "            index = rightptr\n",
    "            \n",
    "            # swap - like insertion sort\n",
    "            while index != leftptr:\n",
    "                arr[index], arr[index-1] = arr[index-1], arr[index]\n",
    "                index -= 1\n",
    "            \n",
    "            # update pointers\n",
    "            leftptr += 1\n",
    "            mid += 1\n",
    "            rightptr += 1\n",
    "\n",
    "            \n",
    "            \n",
    "def merge_sort_helper(arr, low, high):\n",
    "    if low < high:\n",
    "        mid = (low + high) // 2  # middle index\n",
    "        \n",
    "        # sort left and right halves\n",
    "        merge_sort_helper(arr, low, mid)\n",
    "        merge_sort_helper(arr, mid+1, high)\n",
    "        \n",
    "        # merge back together\n",
    "        merge(arr, low, mid, high)\n",
    "\n",
    "        \n",
    "        \n",
    "def merge_sort3(arr):\n",
    "    return merge_sort_helper(arr, 0, len(arr)-1)\n",
    "\n",
    "\n",
    "\n",
    "arr = [23, 12, 8, 14, 17, 11, 19] \n",
    "merge_sort3(arr)  \n",
    "print(arr)"
   ]
  },
  {
   "cell_type": "markdown",
   "metadata": {},
   "source": [
    "# Quick Sort\n",
    "   \n",
    "https://en.wikipedia.org/wiki/Quicksort  \n",
    "https://www.geeksforgeeks.org/quick-sort/"
   ]
  },
  {
   "cell_type": "markdown",
   "metadata": {},
   "source": [
    "The Quick Sort is a ‘Divide and Conquer’ sorting algorithm.  \n",
    "First we pick a pivot to partition the array into two halves - one half containing all the elements less than the pivot and the other half containing the elements greater than the pivot. (The equal ones can remain in either side).   \n",
    "Repeat the same process with each half of the array recursively to eventually obtain a sorted array. \n",
    "\n",
    "e.g.\n",
    "[4, 2, 7, 1, 5] - take the first number as the pivot point  \n",
    "pivot = 4   \n",
    "  \n",
    "since 2, 1 < 4 - add to a new left array [2,1]  \n",
    "since 7, 5 > 4 - add to a new right array [7,5]  \n",
    "  \n",
    "left array:[2,1]  \n",
    "pivot = 2  \n",
    "since 1 < 2 - add to a new left array [1]  \n",
    "  \n",
    "right array:[7,5]  \n",
    "pivot = 7  \n",
    "since 5 < 7 - add to a new left array [5]  \n",
    "  \n",
    "  \n",
    "return left + pivot + right\n",
    "[4, 2, 7, 1, 5]  \n",
    "[2, 1] + [4] + [7, 5]  \n",
    "[1] + [2] + [4] + [5] + [7]  \n",
    "[1, 2, 4, 5, 7]"
   ]
  },
  {
   "cell_type": "markdown",
   "metadata": {},
   "source": [
    "## Non in-place"
   ]
  },
  {
   "cell_type": "code",
   "execution_count": 4,
   "metadata": {},
   "outputs": [
    {
     "data": {
      "text/plain": [
       "[8, 11, 12, 14, 17, 19, 23]"
      ]
     },
     "execution_count": 4,
     "metadata": {},
     "output_type": "execute_result"
    }
   ],
   "source": [
    "def quickSort3(arr):\n",
    "    if len(arr) <= 1:\n",
    "        return arr\n",
    "    \n",
    "    left = []\n",
    "    right = []\n",
    "    pivot = arr[0]\n",
    "    for i in range(1, len(arr)):\n",
    "        if arr[i] < pivot:\n",
    "            left.append(arr[i])\n",
    "        else:\n",
    "            right.append(arr[i])\n",
    "    \n",
    "    return quickSort(left) + [pivot] + quickSort(right)\n",
    "\n",
    "arr = [23, 12, 8, 14, 17, 11, 19]\n",
    "quickSort3(arr)"
   ]
  },
  {
   "cell_type": "markdown",
   "metadata": {},
   "source": [
    "## Time Complexity\n",
    "\n",
    "Worst-case performance: O(n^2)\n",
    "\n",
    "Best-case performance: O(n logn)\n",
    "\n",
    "average performance: O(n logn)\n",
    "\n",
    "## Space Complexity\n",
    "O(n)\n",
    "\n",
    "\n",
    "## In place"
   ]
  },
  {
   "cell_type": "code",
   "execution_count": 4,
   "metadata": {},
   "outputs": [
    {
     "data": {
      "text/plain": [
       "[8, 11, 12, 14, 17, 19, 23]"
      ]
     },
     "execution_count": 4,
     "metadata": {},
     "output_type": "execute_result"
    }
   ],
   "source": [
    "def quickSort(arr):\n",
    "    return quick_sort_helper(arr, 0, len(arr)-1)\n",
    "\n",
    "def quick_sort_helper(arr, low, high):\n",
    "    if low < high:\n",
    "        mid = partition(arr, low, high)\n",
    "        quick_sort_helper(arr, low, mid-1)\n",
    "        quick_sort_helper(arr, mid+1, high)\n",
    "    return arr\n",
    "\n",
    "def partition(arr, low, high):\n",
    "    pivot = arr[low]  # take first element as pivot\n",
    "    left = low + 1\n",
    "    right = high\n",
    "    done = False\n",
    "\n",
    "    while not done:\n",
    "        while left <= right and arr[left] <= pivot:\n",
    "            left += 1\n",
    "\n",
    "        while left <= right and arr[right] >= pivot:\n",
    "            right -= 1\n",
    "\n",
    "        if left > right:\n",
    "            done = True\n",
    "\n",
    "        else:\n",
    "            arr[left], arr[right] = arr[right], arr[left]\n",
    "\n",
    "    arr[low], arr[right] = arr[right], arr[low]\n",
    "\n",
    "    return right\n",
    "\n",
    "arr = [23, 12, 8, 14, 17, 11, 19]\n",
    "quickSort(arr)"
   ]
  },
  {
   "cell_type": "code",
   "execution_count": 1,
   "metadata": {},
   "outputs": [
    {
     "name": "stdout",
     "output_type": "stream",
     "text": [
      "[8, 11, 12, 14, 17, 19, 23]\n"
     ]
    }
   ],
   "source": [
    "def quickSort2(arr):\n",
    "    return QuickSort(arr, 0, len(arr)-1)\n",
    "\n",
    "def QuickSort(arr, First, Last):\n",
    "    Low = First\n",
    "    High = Last\n",
    "    Pivot = arr[Low]\n",
    "    \n",
    "    while Low <= High:\n",
    "        while arr[Low] < Pivot:\n",
    "            Low += 1\n",
    "        \n",
    "        while arr[High] > Pivot:\n",
    "            High -= 1\n",
    "        \n",
    "        if Low <= High:\n",
    "            arr[Low], arr[High] = arr[High], arr[Low]\n",
    "            Low += 1\n",
    "            High -= 1\n",
    "            \n",
    "    if First < High:\n",
    "        QuickSort(arr, First, High)\n",
    "    if Low < Last:\n",
    "        QuickSort(arr, Low, Last)\n",
    "        \n",
    "\n",
    "\n",
    "arr = [23, 12, 8, 14, 17, 11, 19]\n",
    "quickSort2(arr)\n",
    "print(arr)"
   ]
  },
  {
   "cell_type": "code",
   "execution_count": null,
   "metadata": {},
   "outputs": [],
   "source": []
  }
 ],
 "metadata": {
  "kernelspec": {
   "display_name": "Python 3",
   "language": "python",
   "name": "python3"
  },
  "language_info": {
   "codemirror_mode": {
    "name": "ipython",
    "version": 3
   },
   "file_extension": ".py",
   "mimetype": "text/x-python",
   "name": "python",
   "nbconvert_exporter": "python",
   "pygments_lexer": "ipython3",
   "version": "3.6.4"
  }
 },
 "nbformat": 4,
 "nbformat_minor": 2
}
