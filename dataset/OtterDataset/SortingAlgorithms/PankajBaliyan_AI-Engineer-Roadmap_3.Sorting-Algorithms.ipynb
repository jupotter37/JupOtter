{
 "cells": [
  {
   "cell_type": "markdown",
   "metadata": {},
   "source": [
    "Sorting Techniques Algorithms\n"
   ]
  },
  {
   "cell_type": "markdown",
   "metadata": {},
   "source": [
    "Bubble Sort\n"
   ]
  },
  {
   "cell_type": "code",
   "execution_count": 4,
   "metadata": {},
   "outputs": [
    {
     "name": "stdout",
     "output_type": "stream",
     "text": [
      "Test Case 1:\n",
      "Input: [2, 5, 1, 6, 3]\n",
      "Sorted: [1, 2, 3, 5, 6]\n",
      "\n",
      "Test Case 2:\n",
      "Input: [10, 7, 8, 3, 2, 1, 5, 6, 4, 9]\n",
      "Sorted: [1, 2, 3, 4, 5, 6, 7, 8, 9, 10]\n",
      "\n",
      "Test Case 3:\n",
      "Input: [1, 2, 3, 4, 5]\n",
      "Sorted: [1, 2, 3, 4, 5]\n",
      "\n",
      "Test Case 4:\n",
      "Input: [5, 4, 3, 2, 1]\n",
      "Sorted: [1, 2, 3, 4, 5]\n",
      "\n",
      "Test Case 5:\n",
      "Input: [1]\n",
      "Sorted: [1]\n",
      "\n",
      "Test Case 6:\n",
      "Input: []\n",
      "Sorted: []\n",
      "\n"
     ]
    }
   ],
   "source": [
    "# Sorting Techniques\n",
    "\n",
    "# Bubble Sort\n",
    "# Definition: Bubble sort is a simple sorting algorithm that repeatedly steps through the list, compares adjacent elements, and swaps them if they are in the wrong order.\n",
    "# Time Complexity: O(n^2) in the worst case and O(n) in the best case\n",
    "# It leaves the last element of the array as it is after the first iteration, the last two elements after the second iteration, and so on.\n",
    "\n",
    "# Worst case\n",
    "def bubbleSort(nums):\n",
    "    for i in range(len(nums)-1, 0, -1):\n",
    "        for j in range(i):\n",
    "            if(nums[j] > nums[j+1]):\n",
    "                temp = nums[j]\n",
    "                nums[j] = nums[j+1]\n",
    "                nums[j+1] = temp\n",
    "    return nums\n",
    "\n",
    "# Best case\n",
    "def bubbleSort(nums):\n",
    "    n = len(nums)\n",
    "    for i in range(n-1):\n",
    "        swapped = False  # Flag to track if any swap occurred\n",
    "        for j in range(n-1-i):\n",
    "            if nums[j] > nums[j+1]:  # Change here: Compare adjacent elements\n",
    "                nums[j], nums[j+1] = nums[j+1], nums[j]  # Swap elements\n",
    "                swapped = True  # Set flag to True if a swap occurred\n",
    "        if not swapped:\n",
    "            break  # If no swaps occurred, the array is already sorted\n",
    "    return nums\n",
    "\n",
    "\n",
    "# Test cases\n",
    "test_cases = [\n",
    "    [2, 5, 1, 6, 3],\n",
    "    [10, 7, 8, 3, 2, 1, 5, 6, 4, 9],\n",
    "    [1, 2, 3, 4, 5],\n",
    "    [5, 4, 3, 2, 1],\n",
    "    [1],\n",
    "    [],\n",
    "]\n",
    "\n",
    "# Iterate over each test case\n",
    "for i, nums in enumerate(test_cases):\n",
    "    print(f\"Test Case {i+1}:\")\n",
    "    print(\"Input:\", nums)\n",
    "    result = bubbleSort(nums.copy())  # Create a copy to avoid modifying the original list\n",
    "    print(\"Sorted:\", result)\n",
    "    print()  # Empty line for better readability\n"
   ]
  },
  {
   "cell_type": "code",
   "execution_count": 2,
   "metadata": {},
   "outputs": [
    {
     "data": {
      "text/html": [
       "<img src=\"https://miro.medium.com/v2/resize:fit:776/1*7QsZkfrRGhAu5yxxeDdzsA.png\"/>"
      ],
      "text/plain": [
       "<IPython.core.display.Image object>"
      ]
     },
     "metadata": {},
     "output_type": "display_data"
    }
   ],
   "source": [
    "from IPython.display import Image, display\n",
    "\n",
    "# URL of the image\n",
    "url = 'https://miro.medium.com/v2/resize:fit:776/1*7QsZkfrRGhAu5yxxeDdzsA.png'\n",
    "\n",
    "# Display the image\n",
    "display(Image(url=url))"
   ]
  },
  {
   "cell_type": "markdown",
   "metadata": {},
   "source": [
    "![Bubble-Sort](https://miro.medium.com/v2/resize:fit:776/1*7QsZkfrRGhAu5yxxeDdzsA.png)\n"
   ]
  },
  {
   "cell_type": "markdown",
   "metadata": {},
   "source": [
    "Quick Sort\n"
   ]
  },
  {
   "cell_type": "code",
   "execution_count": 3,
   "metadata": {},
   "outputs": [
    {
     "name": "stdout",
     "output_type": "stream",
     "text": [
      "Input: [5, 2, 4, 6, 1, 3]\n",
      "Output: [1, 2, 3, 4, 5, 6]\n",
      "Output: [1, 2, 3, 4, 5, 6]\n",
      "Output: [1, 2, 3, 4, 5, 6]\n"
     ]
    }
   ],
   "source": [
    "# Quick Sort\n",
    "# Definition: Quick sort is a sorting algorithm that uses a divide-and-conquer approach to sort an array.\n",
    "# The idea is to pick an element as a pivot and partition the array around it.\n",
    "# Time Complexity: O(n log n) average, O(n^2) worst case\n",
    "\n",
    "# Worst case\n",
    "def quickSortWorstCase(nums):\n",
    "    if len(nums) <= 1:\n",
    "        return nums\n",
    "    pivot = nums[len(nums) // 2]\n",
    "    left = [x for x in nums if x < pivot]\n",
    "    middle = [x for x in nums if x == pivot]\n",
    "    right = [x for x in nums if x > pivot]\n",
    "    return quickSortWorstCase(left) + middle + quickSortWorstCase(right)\n",
    "\n",
    "# Best case\n",
    "def quickSortBestCase(nums):\n",
    "    if len(nums) <= 1:\n",
    "        return nums\n",
    "    pivot = nums[len(nums) // 2]\n",
    "    left, middle, right = [], [], []\n",
    "    for x in nums:\n",
    "        if x < pivot:\n",
    "            left.append(x)\n",
    "        elif x == pivot:\n",
    "            middle.append(x)\n",
    "        else:\n",
    "            right.append(x)\n",
    "    return quickSortBestCase(left) + middle + quickSortBestCase(right)\n",
    "\n",
    "# Average case\n",
    "def quickSortAverageCase(nums):\n",
    "    if len(nums) <= 1:\n",
    "        return nums\n",
    "    pivot = nums[len(nums) // 2]\n",
    "    left, middle, right = [], [], []\n",
    "    for x in nums:\n",
    "        if x < pivot:\n",
    "            left.append(x)\n",
    "        elif x == pivot:\n",
    "            middle.append(x)\n",
    "        else:\n",
    "            right.append(x)\n",
    "    return quickSortAverageCase(left) + middle + quickSortAverageCase(right)\n",
    "\n",
    "# Test cases\n",
    "nums = [5, 2, 4, 6, 1, 3]\n",
    "print(\"Input:\", nums)\n",
    "print(\"Output:\", quickSortWorstCase(nums))\n",
    "print(\"Output:\", quickSortBestCase(nums))\n",
    "print(\"Output:\", quickSortAverageCase(nums))"
   ]
  },
  {
   "cell_type": "markdown",
   "metadata": {},
   "source": [
    "Merge Sort\n"
   ]
  },
  {
   "cell_type": "code",
   "execution_count": null,
   "metadata": {},
   "outputs": [],
   "source": [
    "# Merge Sort\n",
    "\n",
    "# Definition: Merge sort is a sorting algorithm that uses a divide-and-conquer approach to sort an array.\n",
    "# It works by recursively dividing the array into two halves, sorting each half, and then merging the sorted halves.\n",
    "# The time complexity of merge sort is O(n log n) in all cases.\n",
    "\n",
    "def merge_sort_average_case(arr):\n",
    "    if len(arr) > 1:\n",
    "        mid = len(arr) // 2\n",
    "        left_half = arr[:mid]\n",
    "        right_half = arr[mid:]\n",
    "\n",
    "        merge_sort_average_case(left_half)\n",
    "        merge_sort_average_case(right_half)\n",
    "\n",
    "        i = j = k = 0\n",
    "\n",
    "        # Merge the two sorted halves\n",
    "        while i < len(left_half) and j < len(right_half):\n",
    "            if left_half[i] < right_half[j]:\n",
    "                arr[k] = left_half[i]\n",
    "                i += 1\n",
    "            else:\n",
    "                arr[k] = right_half[j]\n",
    "                j += 1\n",
    "            k += 1\n",
    "\n",
    "        while i < len(left_half):\n",
    "            arr[k] = left_half[i]\n",
    "            i += 1\n",
    "            k += 1\n",
    "\n",
    "        while j < len(right_half):\n",
    "            arr[k] = right_half[j]\n",
    "            j += 1\n",
    "            k += 1\n",
    "\n",
    "    return arr\n",
    "\n",
    "# Test case with average-case scenario\n",
    "arr_average = [5, 2, 4, 1, 3]\n",
    "sorted_arr_average = merge_sort_average_case(arr_average)\n",
    "print(\"Sorted array (Average Case):\", sorted_arr_average)"
   ]
  },
  {
   "cell_type": "markdown",
   "metadata": {},
   "source": [
    "Insertion Sort\n"
   ]
  },
  {
   "cell_type": "code",
   "execution_count": null,
   "metadata": {},
   "outputs": [],
   "source": [
    "# Insertion Sort\n",
    "\n",
    "# Definition: Insertion sort is a simple sorting algorithm that builds the final sorted array one element at a time.\n",
    "# It takes each element from the input list and inserts it into its correct position in the sorted list.\n",
    "# The time complexity of insertion sort is O(n^2) in the worst case and O(n) in the best case.\n",
    "\n",
    "# Worst Case\n",
    "def insertionSortWorstCase(arr):\n",
    "    for i in range(1, len(arr)):\n",
    "        key = arr[i]\n",
    "        j = i - 1\n",
    "        while j >= 0 and key < arr[j]:\n",
    "            arr[j + 1] = arr[j]\n",
    "            j -= 1\n",
    "        arr[j + 1] = key\n",
    "    return arr\n",
    "\n",
    "# Test case with worst-case scenario\n",
    "arr_worst = [5, 4, 3, 2, 1]\n",
    "print(insertionSortWorstCase(arr_worst))\n"
   ]
  },
  {
   "cell_type": "markdown",
   "metadata": {},
   "source": [
    "Selection Sort\n"
   ]
  },
  {
   "cell_type": "code",
   "execution_count": null,
   "metadata": {},
   "outputs": [],
   "source": [
    "# Selection Sort\n",
    "\n",
    "# Definition: Selection sort is a simple sorting algorithm that repeatedly selects the minimum element from an unsorted portion of the list and moves it to the beginning.\n",
    "# It take the first element as the minimum and then compare it with the rest of the elements to find the minimum element.\n",
    "# Time Complexity: O(n^2)\n",
    "\n",
    "def selectionSort(arr):\n",
    "    for i in range(len(arr)):\n",
    "        min_index = i\n",
    "        for j in range(i+1, len(arr)):\n",
    "            if arr[j] < arr[min_index]:\n",
    "                min_index = j\n",
    "        arr[i], arr[min_index] = arr[min_index], arr[i]\n",
    "    return arr\n",
    "\n",
    "# Test case\n",
    "arr = [64, 25, 12, 22, 11]\n",
    "print(selectionSort(arr))"
   ]
  }
 ],
 "metadata": {
  "kernelspec": {
   "display_name": "base",
   "language": "python",
   "name": "python3"
  },
  "language_info": {
   "codemirror_mode": {
    "name": "ipython",
    "version": 3
   },
   "file_extension": ".py",
   "mimetype": "text/x-python",
   "name": "python",
   "nbconvert_exporter": "python",
   "pygments_lexer": "ipython3",
   "version": "3.9.6"
  }
 },
 "nbformat": 4,
 "nbformat_minor": 2
}
