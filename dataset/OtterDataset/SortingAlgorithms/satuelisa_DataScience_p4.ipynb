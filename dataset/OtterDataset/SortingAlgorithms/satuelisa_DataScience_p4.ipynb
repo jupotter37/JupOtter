{
 "cells": [
  {
   "cell_type": "markdown",
   "metadata": {},
   "source": [
    "**Práctica 4: Visualización de información con plotly**\n",
    "\n",
    "Ahora vamos a dibujar todo lo que en la práctica pasada parecía que habría que graficarlo.\n",
    "Para que las gráficas sean interactuables con plotly en jupyter, \n",
    "primero hay que extraer los datos para graficar *sin información personal* de los estudiantes \n",
    "en archivos CSV aparte que se pueda compartir en línea.\n",
    "\n",
    "Vamos a quedarnos únicamente con las columnas que se analizaron en la práctica anterior \n",
    "y únicamente con los alumnos de Moisés y Elisa ya que no hemos incorporado las calificaciones de los demás aún."
   ]
  },
  {
   "cell_type": "code",
   "execution_count": null,
   "metadata": {},
   "outputs": [],
   "source": [
    "import pandas as pd\n",
    "from numpy import NaN\n",
    "d = pd.read_csv(\"casos.csv\")\n",
    "d['CF1op'] = d['1ra']\n",
    "d.CF1op = [int(v) if str(v).isdigit() else NaN for v in d.CF1op]\n",
    "d['CF2op'] = d['2da']\n",
    "d.CF2op = [int(v) if str(v).isdigit() else NaN for v in d.CF2op]\n",
    "d.ingreso = [\"AD\" + v[-2:] if \"dic\" in v else \"EJ\" + v[-2:] if \"nero\" in v else NaN for v in [str(v) for v in d.ingreso]]\n",
    "d.ingreso = d.ingreso.replace('ADre', NaN)\n",
    "d['inicio'] = ['enero' if 'EJ' in v else 'agosto' if 'AD' else NaN for v in [str(v) for v in d.ingreso]]\n",
    "hrs = {\"No tengo un trabajo\": 0, \\\n",
    "       \"Menos de 10 horas\": 5, \\\n",
    "       \"Entre 10 y 20 horas\": 15, \\\n",
    "       \"Entre 20 y 40 horas\": 30, \\\n",
    "       \"Más de 40 horas\": 50}\n",
    "d['hrsNum'] = [hrs.get(v, NaN) for v in d.hrsTrabajo]\n",
    "d['sabePromedio'] =  [s != 'nan' for s in [str(v) for v in d.prom]]\n",
    "d['sabeCreditos'] = d.creditos == 'Tres.'\n",
    "d['sabeHoras']  = d['corr'] == '30'\n",
    "d['sabeAmbos'] = d.sabeCreditos & d.sabeHoras\n",
    "d['noSabeCreditos'] = d.creditos != \"Tres.\"\n",
    "d['noSabeHoras']  = d['corr'] != '30'\n",
    "d['noSabeNinguno'] = d.noSabeCreditos & d.noSabeHoras\n",
    "viejos = [\"segunda\", \"70-79\", \"80-89\", \"90-100\", \"2da\", \"3ra\", \\\n",
    "          \"No creo aprobar en este semestre\", \"Estimo aprobar en segunda oportunidad\", \"Creo que aprobaré en segunda oportunidad\"]\n",
    "nuevos = [50, 75, 85, 95, 50, 20, 20, 50, 50] # el precio de la inconsistencia es la redundancia\n",
    "nn = ['I', 'M', 'F']\n",
    "for s in [\"_ini\", \"_mcu\", \"\"]:\n",
    "    d['e' + nn.pop(0)] = d[\"califEsp\" + s].replace(viejos, nuevos) \n",
    "d['fueAses'] = [\"NA\" if v is NaN else False if str(v) == \"No\" else True for v in d.asesorias]\n",
    "d['cuantasTemas'] = [0 if len(t) < 1 else t.count(';') + 1 for t in [str(v) if v is not NaN else '' for v in d.temasGral]]\n",
    "d['formasApoyo'] = [0 if len(t) < 1 else t.count(';') + 1 for t in [str(v) if v is not NaN else '' for v in d.apoyo]]\n",
    "d['cuantosMedios'] = [0 if len(t) < 1 else t.count(';') + 1 for t in [str(v) if v is not NaN else '' for v in d.medios]]\n",
    "d['analizable'] = [p in ['elisa', 'moi'] for p in d.profe]\n",
    "pedazo = d.query('analizable')\n",
    "keep = ['profe', 'grupo', 'sem', 'PE', 'CF1op', 'CF2op', 'ingreso', 'inicio', 'hrsNum', 'sabePromedio', \\\n",
    "        'sabeCreditos', 'sabeHoras', 'sabeAmbos', 'noSabeCreditos', 'noSabeHoras', 'noSabeNinguno', \\\n",
    "        'eI', 'eM',  'eF', 'fueAses', 'temas', 'cuantasTemas', 'formasApoyo', 'cuantosMedios', \\\n",
    "        'hrsEstudio_ini', 'hrsEstudio_mcu', 'hrsEstudio']\n",
    "extracto = pd.DataFrame(pedazo, columns = keep)\n",
    "extracto.to_csv(\"graficar.csv\")"
   ]
  },
  {
   "cell_type": "code",
   "execution_count": null,
   "metadata": {},
   "outputs": [],
   "source": [
    "python3 extract.py\n",
    "wc -l graficar.csv \n",
    "     580 graficar.csv\n",
    "wc -l casos.csv \n",
    "    1023 casos.csv"
   ]
  },
  {
   "cell_type": "markdown",
   "metadata": {},
   "source": [
    "Ahora, ese archivo graficar.csv se puede poner en la web, \n",
    "lo que nos permite graficarlo con plotly aquí mismo en el notebook de jupyter.\n",
    "\n",
    "Lo que sí hay que decirle es que no se preocupe por verificar el certificado SSL del HTTPS."
   ]
  },
  {
   "cell_type": "code",
   "execution_count": 15,
   "metadata": {},
   "outputs": [
    {
     "name": "stdout",
     "output_type": "stream",
     "text": [
      "<iframe id=\"igraph\" scrolling=\"no\" style=\"border:none;\" seamless=\"seamless\" src=\"https://plot.ly/~satuelisa/6.embed\" height=\"525px\" width=\"100%\"></iframe>\n"
     ]
    },
    {
     "name": "stderr",
     "output_type": "stream",
     "text": [
      "/Library/Frameworks/Python.framework/Versions/3.6/lib/python3.6/site-packages/IPython/core/display.py:689: UserWarning:\n",
      "\n",
      "Consider using IPython.display.IFrame instead\n",
      "\n"
     ]
    }
   ],
   "source": [
    "import plotly.plotly as py\n",
    "import plotly.graph_objs as go\n",
    "import pandas as pd\n",
    "import ssl\n",
    "\n",
    "if getattr(ssl, '_create_unverified_context', None):\n",
    "    ssl._create_default_https_context = ssl._create_unverified_context\n",
    "d = pd.read_csv(\"https://elisa.dyndns-web.com/teaching/comp/datasci/graficar.csv\")\n",
    "datos = []\n",
    "for sem in d.ingreso.unique():\n",
    "    if sem != NaN:\n",
    "        datos.append(go.Box(y = d.loc[d['ingreso'] == sem].CF1op, name = sem))\n",
    "g = py.iplot(datos, filename='jupyter-semestre_primera')\n",
    "print(g.embed_code)"
   ]
  },
  {
   "cell_type": "markdown",
   "metadata": {},
   "source": [
    "<iframe id=\"igraph\" scrolling=\"no\" style=\"border:none;\" seamless=\"seamless\" src=\"https://plot.ly/~satuelisa/6.embed\" height=\"525px\" width=\"100%\"></iframe>"
   ]
  },
  {
   "cell_type": "markdown",
   "metadata": {},
   "source": [
    "El resultado, igual como todos los demás, están además en __[una página aparte](https://elisa.dyndns-web.com/teaching/comp/datasci/p4.html#f1)__ para interactuar con ellos directamente.\n",
    "\n",
    "El orden de los semestres en el eje horizontal no convence.\n",
    "Tiene que existir una forma de reordenarlos.\n",
    "\n",
    "El chiste es reordenar el data frame para que los semestres aparezcan en el orden lógico: \n",
    "primero por año y luego que EJ venga antes de AD.\n",
    "\n",
    "Mejor primero chequemos cuál es el año más antiguo y el más reciente en aparecer:"
   ]
  },
  {
   "cell_type": "code",
   "execution_count": 3,
   "metadata": {},
   "outputs": [
    {
     "name": "stdout",
     "output_type": "stream",
     "text": [
      "['2012' nan '2014' '2017' '2016' '2015' '2018' '2013' '1995']\n"
     ]
    }
   ],
   "source": [
    "import pandas as pd\n",
    "from numpy import NaN\n",
    "import ssl\n",
    "\n",
    "if getattr(ssl, '_create_unverified_context', None):\n",
    "    ssl._create_default_https_context = ssl._create_unverified_context\n",
    "d = pd.read_csv(\"https://elisa.dyndns-web.com/teaching/comp/datasci/graficar.csv\")\n",
    "tmp = [NaN if v == 'nan' else v[2:] for v in [str(v) for v in d.ingreso]]\n",
    "d['aIng'] = [NaN if v == 'nan' else '20' + v if int(v) < 20 else '19' + v for v in [str(v) for v in tmp]]\n",
    "print(d.aIng.unique())"
   ]
  },
  {
   "cell_type": "markdown",
   "metadata": {},
   "source": [
    "OK, tenemos los años. Ahora los semestres. \n",
    "Pongamos .1 para EJ y .2 para AD para tener una codificación numérica.\n",
    "Así será fácil de ordenar."
   ]
  },
  {
   "cell_type": "code",
   "execution_count": 5,
   "metadata": {},
   "outputs": [
    {
     "name": "stdout",
     "output_type": "stream",
     "text": [
      "[ 2012.1     nan  2014.1  2017.2  2014.2  2016.2  2016.1  2017.1  2015.2\n",
      "  2018.2  2015.1  2013.2  2013.1  1995.2]\n"
     ]
    }
   ],
   "source": [
    "import pandas as pd\n",
    "from numpy import NaN\n",
    "import ssl\n",
    "\n",
    "if getattr(ssl, '_create_unverified_context', None):\n",
    "    ssl._create_default_https_context = ssl._create_unverified_context\n",
    "d = pd.read_csv(\"https://elisa.dyndns-web.com/teaching/comp/datasci/graficar.csv\")\n",
    "tmp = [NaN if v == 'nan' else v[2:] for v in [str(v) for v in d.ingreso]]\n",
    "d['aIng'] = [NaN if v == 'nan' else '20' + v if int(v) < 20 else '19' + v for v in [str(v) for v in tmp]]\n",
    "d['sIng'] = [NaN if v == 'nan' else v[:2] for v in [str(v) for v in d.ingreso]]\n",
    "d['saIng'] = [NaN if x is NaN else int(x) + (0.1 if y == \"AD\" else 0.2) for x, y in zip(d.aIng, d.sIng)]\n",
    "print(d.saIng.unique())"
   ]
  },
  {
   "cell_type": "code",
   "execution_count": null,
   "metadata": {},
   "outputs": [],
   "source": [
    "import pandas as pd\n",
    "from numpy import NaN\n",
    "import ssl\n",
    "import plotly.plotly as py\n",
    "import plotly.graph_objs as go\n",
    "\n",
    "if getattr(ssl, '_create_unverified_context', None):\n",
    "    ssl._create_default_https_context = ssl._create_unverified_context\n",
    "d = pd.read_csv(\"https://elisa.dyndns-web.com/teaching/comp/datasci/graficar.csv\")\n",
    "tmp = [NaN if v == 'nan' else v[2:] for v in [str(v) for v in d.ingreso]]\n",
    "d['aIng'] = [NaN if v == 'nan' else '20' + v if int(v) < 20 else '19' + v for v in [str(v) for v in tmp]]\n",
    "d['sIng'] = [NaN if v == 'nan' else v[:2] for v in [str(v) for v in d.ingreso]]\n",
    "d['saIng'] = [NaN if x is NaN else int(x) + (0.1 if y == \"EJ\" else 0.2) for x, y in zip(d.aIng, d.sIng)]\n",
    "ordenado = d.sort_values(by = \"saIng\")\n",
    "datos = []\n",
    "for sem in ordenado.ingreso.unique():\n",
    "    if sem != NaN:\n",
    "        datos.append(go.Box(y = d.loc[d['ingreso'] == sem].CF1op, name = sem))\n",
    "g = py.iplot(datos, filename='jupyter-semestre_primera_v2')\n",
    "print(g.embed_code)"
   ]
  },
  {
   "cell_type": "markdown",
   "metadata": {},
   "source": [
    "<iframe id=\"igraph\" scrolling=\"no\" style=\"border:none;\" seamless=\"seamless\" src=\"https://plot.ly/~satuelisa/8.embed\" height=\"525px\" width=\"100%\"></iframe>"
   ]
  },
  {
   "cell_type": "markdown",
   "metadata": {},
   "source": [
    "__[El resultado](https://elisa.dyndns-web.com/teaching/comp/datasci/p4.html#f2)__ ya es lo que buscaba.\n",
    "\n",
    "Por lo menos con estos alumnos, la leyenda urbana de que los que inicien en enero estén peores no aplica. \n",
    "No se nota ningún patrón sistemático alternación en las calificaciones de primera oportunidad.\n",
    "\n",
    "Hagamos algo parecido por programa educativo, \n",
    "poniendo boxplots de un color para 1ra op. y de otro color para 2da op."
   ]
  },
  {
   "cell_type": "code",
   "execution_count": 7,
   "metadata": {},
   "outputs": [
    {
     "name": "stdout",
     "output_type": "stream",
     "text": [
      "<iframe id=\"igraph\" scrolling=\"no\" style=\"border:none;\" seamless=\"seamless\" src=\"https://plot.ly/~satuelisa/10.embed\" height=\"525px\" width=\"100%\"></iframe>\n"
     ]
    },
    {
     "name": "stderr",
     "output_type": "stream",
     "text": [
      "/Library/Frameworks/Python.framework/Versions/3.6/lib/python3.6/site-packages/IPython/core/display.py:689: UserWarning:\n",
      "\n",
      "Consider using IPython.display.IFrame instead\n",
      "\n"
     ]
    }
   ],
   "source": [
    "import pandas as pd\n",
    "from numpy import NaN\n",
    "import ssl\n",
    "import plotly.plotly as py\n",
    "import plotly.graph_objs as go\n",
    "from random import randint\n",
    "\n",
    "if getattr(ssl, '_create_unverified_context', None):\n",
    "    ssl._create_default_https_context = ssl._create_unverified_context\n",
    "d = pd.read_csv(\"https://elisa.dyndns-web.com/teaching/comp/datasci/graficar.csv\")\n",
    "\n",
    "datos = []\n",
    "rojo = 69\n",
    "for car in d.PE.unique():\n",
    "    if car != NaN:\n",
    "        pedazo = d.loc[d['PE'] == car]\n",
    "        verde = {\"color\": 'rgb({:d}, {:d}, {:d})'.format(rojo, randint(170, 255), randint(0, 50))}\n",
    "        azul = {\"color\": 'rgb({:d}, {:d}, {:d})'.format(rojo, randint(0, 50), randint(170, 255))}\n",
    "        rojo = (rojo + 41) % 255\n",
    "        if pedazo.CF1op.count() > 0:\n",
    "            datos.append(go.Box(y = d.loc[d['PE'] == car].CF1op, name = str(car) + \" 1ra\", marker = verde))\n",
    "        if pedazo.CF2op.count() > 0:\n",
    "            datos.append(go.Box(y = d.loc[d['PE'] == car].CF2op, name = str(car) + \" 2da\", marker = azul))\n",
    "g = py.iplot(datos, filename='jupyter-carrera')\n",
    "print(g.embed_code)"
   ]
  },
  {
   "cell_type": "markdown",
   "metadata": {},
   "source": [
    "<iframe id=\"igraph\" scrolling=\"no\" style=\"border:none;\" seamless=\"seamless\" src=\"https://plot.ly/~satuelisa/10.embed\" height=\"525px\" width=\"100%\"></iframe>"
   ]
  },
  {
   "cell_type": "markdown",
   "metadata": {},
   "source": [
    "En el __[resultado](https://elisa.dyndns-web.com/teaching/comp/datasci/p4.html#f3)__ es un poco difícil comprar las carreras porque la primera y la segunda oportunidad tienen una variación muy distinta.\n",
    "\n",
    "Hagamos otra versión, ordenado primero por oportunidad y luego por carrera."
   ]
  },
  {
   "cell_type": "code",
   "execution_count": null,
   "metadata": {},
   "outputs": [],
   "source": [
    "import pandas as pd\n",
    "from numpy import NaN\n",
    "import ssl\n",
    "import plotly.plotly as py\n",
    "import plotly.graph_objs as go\n",
    "from random import randint\n",
    "\n",
    "if getattr(ssl, '_create_unverified_context', None):\n",
    "    ssl._create_default_https_context = ssl._create_unverified_context\n",
    "d = pd.read_csv(\"https://elisa.dyndns-web.com/teaching/comp/datasci/graficar.csv\")\n",
    "\n",
    "datos = []\n",
    "colores = dict()\n",
    "rojo = 69\n",
    "for car in d.PE.unique():\n",
    "    if car != NaN:\n",
    "        pedazo = d.loc[d['PE'] == car]\n",
    "        verde = {\"color\": 'rgb({:d}, {:d}, {:d})'.format(rojo, randint(170, 255), randint(0, 50))}\n",
    "        azul = {\"color\": 'rgb({:d}, {:d}, {:d})'.format(rojo, randint(0, 50), randint(170, 255))}\n",
    "        rojo = (rojo + 41) % 255\n",
    "        if pedazo.CF1op.count() > 0:\n",
    "            datos.append(go.Box(y = d.loc[d['PE'] == car].CF1op, name = str(car) + \" 1ra\", marker = verde))\n",
    "            colores[car] = (verde, azul)\n",
    "for car in d.PE.unique():\n",
    "    if car != NaN:\n",
    "        if car not in colores:\n",
    "            colores[car] = ({\"color\": 'rgb({:d}, {:d}, {:d})'.format(rojo, randint(170, 255), randint(0, 50))}, \\\n",
    "                            {\"color\": 'rgb({:d}, {:d}, {:d})'.format(rojo, randint(0, 50), randint(170, 255))})\n",
    "            rojo = (rojo + 41) % 255\n",
    "        (verde, azul) = colores[car]  \n",
    "        pedazo = d.loc[d['PE'] == car]\n",
    "        if pedazo.CF2op.count() > 0:\n",
    "            datos.append(go.Box(y = d.loc[d['PE'] == car].CF2op, name = str(car) + \" 2da\", marker = azul))\n",
    "g = py.iplot(datos, filename='jupyter-carrera_v2')\n",
    "print(g.embed_code)"
   ]
  },
  {
   "cell_type": "markdown",
   "metadata": {},
   "source": [
    "<iframe id=\"igraph\" scrolling=\"no\" style=\"border:none;\" seamless=\"seamless\" src=\"https://plot.ly/~satuelisa/12.embed\" height=\"525px\" width=\"100%\"></iframe>"
   ]
  },
  {
   "cell_type": "markdown",
   "metadata": {},
   "source": [
    "Este __[resultado](https://elisa.dyndns-web.com/teaching/comp/datasci/p4.html#f4)__ ya es más fácil de interpretar.\n",
    "\n",
    "Al parecer las segundas de Moisés para los de materiales son de tipo 70 o nada. \n",
    "\n",
    "Ibamos a graficar también lo de por cuántas horas planearon estudiar y cuántas horas dijeron que estudiaron en la primera y en la segunda mitad del semestre."
   ]
  },
  {
   "cell_type": "code",
   "execution_count": 10,
   "metadata": {},
   "outputs": [
    {
     "name": "stdout",
     "output_type": "stream",
     "text": [
      "<iframe id=\"igraph\" scrolling=\"no\" style=\"border:none;\" seamless=\"seamless\" src=\"https://plot.ly/~satuelisa/14.embed\" height=\"525px\" width=\"100%\"></iframe>\n",
      "<iframe id=\"igraph\" scrolling=\"no\" style=\"border:none;\" seamless=\"seamless\" src=\"https://plot.ly/~satuelisa/16.embed\" height=\"525px\" width=\"100%\"></iframe>\n",
      "<iframe id=\"igraph\" scrolling=\"no\" style=\"border:none;\" seamless=\"seamless\" src=\"https://plot.ly/~satuelisa/18.embed\" height=\"525px\" width=\"100%\"></iframe>\n"
     ]
    }
   ],
   "source": [
    "import pandas as pd\n",
    "from numpy import NaN\n",
    "import ssl\n",
    "import plotly.plotly as py\n",
    "import plotly.graph_objs as go\n",
    "\n",
    "if getattr(ssl, '_create_unverified_context', None):\n",
    "    ssl._create_default_https_context = ssl._create_unverified_context\n",
    "d = pd.read_csv(\"https://elisa.dyndns-web.com/teaching/comp/datasci/graficar.csv\")\n",
    "\n",
    "datos = []\n",
    "for hrs in d.hrsEstudio_ini.unique():\n",
    "    if hrs != NaN:\n",
    "        pedazo = d.loc[d['hrsEstudio_ini'] == hrs]\n",
    "        if pedazo.CF1op.count() > 0:\n",
    "            datos.append(go.Box(y = d.loc[d['hrsEstudio_ini'] == hrs].CF1op, name = hrs))\n",
    "l = go.Layout(\n",
    "    title='Encuesta al inicio del semestre',\n",
    "    xaxis=dict(\n",
    "        title='Horas planeadas de estudio por semana',\n",
    "        titlefont=dict(\n",
    "            size=14,\n",
    "            color='#000000'\n",
    "        )\n",
    "    ),\n",
    "    yaxis=dict(\n",
    "        title='Calificación en primera oportunidad',\n",
    "        titlefont=dict(\n",
    "            size=14,\n",
    "            color='#000000'\n",
    "        )\n",
    "    )\n",
    ")\n",
    "f = go.Figure(data = datos, layout = l)\n",
    "g = py.iplot(f, filename='jupyter-hrs_ini')\n",
    "print(g.embed_code)\n",
    "datos = []\n",
    "for hrs in d.hrsEstudio_mcu.unique():\n",
    "    if hrs != NaN:\n",
    "        pedazo = d.loc[d['hrsEstudio_mcu'] == hrs]\n",
    "        if pedazo.CF1op.count() > 0:\n",
    "            datos.append(go.Box(y = d.loc[d['hrsEstudio_mcu'] == hrs].CF1op, name = hrs))\n",
    "l = go.Layout(\n",
    "    title='Encuesta después del examen de medio curso',\n",
    "    xaxis=dict(\n",
    "        title='Horas reportadas de estudio por semana',\n",
    "        titlefont=dict(\n",
    "            size=14,\n",
    "            color='#000000'\n",
    "        )\n",
    "    ),\n",
    "    yaxis=dict(\n",
    "        title='Calificación en primera oportunidad',\n",
    "        titlefont=dict(\n",
    "            size=14,\n",
    "            color='#000000'\n",
    "        )\n",
    "    )\n",
    ")\n",
    "f = go.Figure(data = datos, layout = l)\n",
    "g = py.iplot(f, filename='jupyter-hrs_mcu')\n",
    "print(g.embed_code)\n",
    "datos = []\n",
    "for hrs in d.hrsEstudio.unique():\n",
    "    if hrs != NaN:\n",
    "        pedazo = d.loc[d['hrsEstudio'] == hrs]\n",
    "        if pedazo.CF1op.count() > 0:\n",
    "            datos.append(go.Box(y = d.loc[d['hrsEstudio'] == hrs].CF1op, name = hrs))\n",
    "l = go.Layout(\n",
    "    title='Encuesta antes del examen de ordinario',\n",
    "    xaxis=dict(\n",
    "        title='Horas reportadas de estudio por semana en la segunda mitad',\n",
    "        titlefont=dict(\n",
    "            size=14,\n",
    "            color='#000000'\n",
    "        )\n",
    "    ),\n",
    "    yaxis=dict(\n",
    "        title='Calificación en primera oportunidad',\n",
    "        titlefont=dict(\n",
    "            size=14,\n",
    "            color='#000000'\n",
    "        )\n",
    "    )\n",
    ")\n",
    "f = go.Figure(data = datos, layout = l)\n",
    "g = py.iplot(f, filename='jupyter-hrs_ord')\n",
    "print(g.embed_code)"
   ]
  },
  {
   "cell_type": "markdown",
   "metadata": {},
   "source": [
    "<iframe id=\"igraph\" scrolling=\"no\" style=\"border:none;\" seamless=\"seamless\" src=\"https://plot.ly/~satuelisa/14.embed\" height=\"525px\" width=\"100%\"></iframe>\n",
    "<iframe id=\"igraph\" scrolling=\"no\" style=\"border:none;\" seamless=\"seamless\" src=\"https://plot.ly/~satuelisa/16.embed\" height=\"525px\" width=\"100%\"></iframe>\n",
    "<iframe id=\"igraph\" scrolling=\"no\" style=\"border:none;\" seamless=\"seamless\" src=\"https://plot.ly/~satuelisa/18.embed\" height=\"525px\" width=\"100%\"></iframe>"
   ]
  },
  {
   "cell_type": "markdown",
   "metadata": {},
   "source": [
    "En las figuras __[5](https://elisa.dyndns-web.com/teaching/comp/datasci/p4.html#f5)__, __[6](https://elisa.dyndns-web.com/teaching/comp/datasci/p4.html#f6)__ y __[7](https://elisa.dyndns-web.com/teaching/comp/datasci/p4.html#f7)__ \n",
    "el orden y texto de las opciones varía de una figura a otra y por ende también el color,\n",
    "lo que dificulta la comparación. Además se empalman las etiquetas.\n",
    "Mejor ponerles etiquetas consistentes, siempre en el mismo orden y con el mismo color."
   ]
  },
  {
   "cell_type": "code",
   "execution_count": 16,
   "metadata": {},
   "outputs": [
    {
     "name": "stdout",
     "output_type": "stream",
     "text": [
      "['3-5 h' '1-2 h' '2-3 h' '> 5 h' nan '< 1 h']\n",
      "[nan '3-5 h' '< 1 h' '1-2 h' '> 5 h' '2-3 h' 'Nada']\n",
      "[nan '2-3 h' '1-2 h' '> 5 h' '3-5 h' '< 1 h' 'Nada']\n",
      "<iframe id=\"igraph\" scrolling=\"no\" style=\"border:none;\" seamless=\"seamless\" src=\"https://plot.ly/~satuelisa/20.embed\" height=\"525px\" width=\"100%\"></iframe>\n",
      "<iframe id=\"igraph\" scrolling=\"no\" style=\"border:none;\" seamless=\"seamless\" src=\"https://plot.ly/~satuelisa/22.embed\" height=\"525px\" width=\"100%\"></iframe>\n",
      "<iframe id=\"igraph\" scrolling=\"no\" style=\"border:none;\" seamless=\"seamless\" src=\"https://plot.ly/~satuelisa/24.embed\" height=\"525px\" width=\"100%\"></iframe>\n"
     ]
    }
   ],
   "source": [
    "import plotly.plotly as py\n",
    "import plotly.graph_objs as go\n",
    "import pandas as pd\n",
    "from numpy import NaN\n",
    "import ssl\n",
    "\n",
    "if getattr(ssl, '_create_unverified_context', None):\n",
    "    ssl._create_default_https_context = ssl._create_unverified_context\n",
    "d = pd.read_csv(\"https://elisa.dyndns-web.com/teaching/comp/datasci/graficar.csv\")\n",
    "d.hrsEstudio_ini = d.hrsEstudio_ini.replace(\"Menos de una hora\", \"< 1 h\")\n",
    "d.hrsEstudio_ini = d.hrsEstudio_ini.replace(\"Entre 1 y 2 horas\", \"1-2 h\")\n",
    "d.hrsEstudio_ini = d.hrsEstudio_ini.replace(\"Entre 2 y 3 horas\", \"2-3 h\")\n",
    "d.hrsEstudio_ini = d.hrsEstudio_ini.replace(\"Entre 3 y 5 horas\", \"3-5 h\")\n",
    "d.hrsEstudio_ini = d.hrsEstudio_ini.replace(\"Más de 5 horas\", \"> 5 h\")\n",
    "print(d.hrsEstudio_ini.unique())\n",
    "d.hrsEstudio_mcu = d.hrsEstudio_mcu.replace(\"Una hora o menos\", \"< 1 h\")\n",
    "d.hrsEstudio_mcu = d.hrsEstudio_mcu.replace(\"Menos de una hora\", \"< 1 h\") # hubo dos formas decir esencialmente lo mismo                                                                                           \n",
    "d.hrsEstudio_mcu = d.hrsEstudio_mcu.replace(\"Entre una y dos horas\", \"1-2 h\")\n",
    "d.hrsEstudio_mcu = d.hrsEstudio_mcu.replace(\"Entre dos y tres horas\", \"2-3 h\")\n",
    "d.hrsEstudio_mcu = d.hrsEstudio_mcu.replace(\"Entre tres y cinco horas\", \"3-5 h\")\n",
    "d.hrsEstudio_mcu = d.hrsEstudio_mcu.replace(\"Más de cinco horas\", \"> 5 h\")\n",
    "print(d.hrsEstudio_mcu.unique()) # que nada siga siendo nada                                                                                                                                                       \n",
    "d.hrsEstudio = d.hrsEstudio.replace(\"Menos de una hora\", \"< 1 h\")\n",
    "d.hrsEstudio = d.hrsEstudio.replace(\"Entre una y dos horas\", \"1-2 h\")\n",
    "d.hrsEstudio = d.hrsEstudio.replace(\"Entre dos y tres horas\", \"2-3 h\")\n",
    "d.hrsEstudio = d.hrsEstudio.replace(\"Entre tres y cinco horas\", \"3-5 h\")\n",
    "d.hrsEstudio = d.hrsEstudio.replace(\"Más de cinco horas\", \"> 5 h\")\n",
    "print(d.hrsEstudio.unique())\n",
    "orden = [\"Nada\", \"< 1 h\", \"1-2 h\", \"2-3 h\", \"3-5 h\", \"> 5 h\"]\n",
    "colores = dict()\n",
    "r = 29\n",
    "g = 41\n",
    "b = 67\n",
    "for o in orden:\n",
    "    colores[o] = {\"color\": 'rgb({:d}, {:d}, {:d})'.format(r, g, b)}\n",
    "    r = (r + 29) % 255\n",
    "    g = (g + 41) % 255\n",
    "    b = (b + 67) % 255\n",
    "\n",
    "datos = []\n",
    "for hrs in orden:\n",
    "    if hrs != NaN:\n",
    "        pedazo = d.loc[d['hrsEstudio_ini'] == hrs]\n",
    "        if pedazo.CF1op.count() > 0:\n",
    "            datos.append(go.Box(y = d.loc[d['hrsEstudio_ini'] == hrs].CF1op, name = hrs, marker = colores[hrs]))\n",
    "l = go.Layout(\n",
    "    title='Encuesta al inicio del semestre',\n",
    "    xaxis=dict(\n",
    "        title='Horas planeadas de estudio por semana',\n",
    "        titlefont=dict(\n",
    "            size=14,\n",
    "            color='#000000'\n",
    "        )\n",
    "    ),\n",
    "    yaxis=dict(\n",
    "        title='Calificación en primera oportunidad',\n",
    "        titlefont=dict(\n",
    "            size=14,\n",
    "            color='#000000'\n",
    "        )\n",
    "    )\n",
    ")\n",
    "f = go.Figure(data = datos, layout = l)\n",
    "g = py.iplot(f, filename='jupyter-hrs_ini_v2')\n",
    "print(g.embed_code)\n",
    "datos = []\n",
    "for hrs in orden:\n",
    "    if hrs != NaN:\n",
    "        pedazo = d.loc[d['hrsEstudio_mcu'] == hrs]\n",
    "        if pedazo.CF1op.count() > 0:\n",
    "            datos.append(go.Box(y = d.loc[d['hrsEstudio_mcu'] == hrs].CF1op, name = hrs, marker = colores[hrs]))\n",
    "l = go.Layout(\n",
    "    title='Encuesta después del examen de medio curso',\n",
    "    xaxis=dict(\n",
    "        title='Horas reportadas de estudio por semana',\n",
    "        titlefont=dict(\n",
    "            size=14,\n",
    "            color='#000000'\n",
    "        )\n",
    "    ),\n",
    "    yaxis=dict(\n",
    "        title='Calificación en primera oportunidad',\n",
    "        titlefont=dict(\n",
    "            size=14,\n",
    "            color='#000000'\n",
    "        )\n",
    "    )\n",
    ")\n",
    "f = go.Figure(data = datos, layout = l)\n",
    "g = py.iplot(f, filename='jupyter-hrs_mcu_v2')\n",
    "print(g.embed_code)\n",
    "datos = []\n",
    "for hrs in orden:\n",
    "    if hrs != NaN:\n",
    "        pedazo = d.loc[d['hrsEstudio'] == hrs]\n",
    "        if pedazo.CF1op.count() > 0:\n",
    "            datos.append(go.Box(y = d.loc[d['hrsEstudio'] == hrs].CF1op, name = hrs, marker = colores[hrs]))\n",
    "l = go.Layout(\n",
    "    title='Encuesta antes del examen de ordinario',\n",
    "    xaxis=dict(\n",
    "        title='Horas reportadas de estudio por semana en la segunda mitad',\n",
    "        titlefont=dict(\n",
    "            size=14,\n",
    "            color='#000000'\n",
    "        )\n",
    "    ),\n",
    "    yaxis=dict(\n",
    "        title='Calificación en primera oportunidad',\n",
    "        titlefont=dict(\n",
    "            size=14,\n",
    "            color='#000000'\n",
    "        )\n",
    "    )\n",
    ")\n",
    "f = go.Figure(data = datos, layout = l)\n",
    "g = py.iplot(f, filename='jupyter-hrs_ord_v2')\n",
    "print(g.embed_code)"
   ]
  },
  {
   "cell_type": "markdown",
   "metadata": {},
   "source": [
    "<iframe id=\"igraph\" scrolling=\"no\" style=\"border:none;\" seamless=\"seamless\" src=\"https://plot.ly/~satuelisa/20.embed\" height=\"525px\" width=\"100%\"></iframe>\n",
    "<iframe id=\"igraph\" scrolling=\"no\" style=\"border:none;\" seamless=\"seamless\" src=\"https://plot.ly/~satuelisa/22.embed\" height=\"525px\" width=\"100%\"></iframe>\n",
    "<iframe id=\"igraph\" scrolling=\"no\" style=\"border:none;\" seamless=\"seamless\" src=\"https://plot.ly/~satuelisa/24.embed\" height=\"525px\" width=\"100%\"></iframe>"
   ]
  },
  {
   "cell_type": "markdown",
   "metadata": {},
   "source": [
    "Las figuras __[8](https://elisa.dyndns-web.com/teaching/comp/datasci/p4.html#f8)__, __[9](https://elisa.dyndns-web.com/teaching/comp/datasci/p4.html#f9)__ y  __[10](https://elisa.dyndns-web.com/teaching/comp/datasci/p4.html#f10)__ son mucho más fáciles de comparar e interpretar.\n",
    "\n",
    "Al inicio nadie dice que no va a estudiar. Luego resulta que algunos no estudiaron y les fue peor en promedio a los que dicen que sí estudiaron. En medio curso parece que con que hayan estudiado *algo*, ya salen un poco mejor, mientras en el ordinario pinta que estudiando más de una hora a la semana se mejora aún más.\n",
    "\n",
    "Ibamos a ver también un scatterplot de las horas trabajadas a la semana (cuantificado a nuestros niveles discretos que representaban las opciones) ya que daba una correlación negativa leve. "
   ]
  },
  {
   "cell_type": "code",
   "execution_count": null,
   "metadata": {},
   "outputs": [],
   "source": [
    "import plotly.plotly as py\n",
    "import plotly.graph_objs as go\n",
    "import pandas as pd\n",
    "import ssl\n",
    "\n",
    "if getattr(ssl, '_create_unverified_context', None):\n",
    "    ssl._create_default_https_context = ssl._create_unverified_context\n",
    "d = pd.read_csv(\"https://elisa.dyndns-web.com/teaching/comp/datasci/graficar.csv\")\n",
    "datos = [go.Scatter(x = d.hrsNum, y = d.CF1op, mode = 'markers')]\n",
    "g = py.iplot(datos, filename='hrs_de_trabajo')\n",
    "print(g.embed_code)"
   ]
  },
  {
   "cell_type": "markdown",
   "metadata": {},
   "source": [
    "<iframe id=\"igraph\" scrolling=\"no\" style=\"border:none;\" seamless=\"seamless\" src=\"https://plot.ly/~satuelisa/26.embed\" height=\"525px\" width=\"100%\"></iframe>"
   ]
  },
  {
   "cell_type": "markdown",
   "metadata": {},
   "source": [
    "Según la figura __[11](https://elisa.dyndns-web.com/teaching/comp/datasci/p4.html#f11)__ no podemos concluir nada.\n",
    "Esto quedará por resolver con las pruebas estadísticas. \n",
    "\n",
    "Lo que quedó por graficar, para esta práctica aún (vamos a seguir dibujando más adelante), era lo de temas por reforzar y medios de apoyo que les interesaban, en términos de cuántos fueron.\n",
    "\n",
    "Vamos a graduar a gráficas de violin ya que usábamos diagramas de caja-bigote tanto en las figuras anteriores."
   ]
  },
  {
   "cell_type": "code",
   "execution_count": null,
   "metadata": {},
   "outputs": [],
   "source": [
    ">>> d.temas.unique()\n",
    "array([nan, 'Unos pocos.', 'Bastantes.',\n",
    "       'Creo tener que estudiarlos todos luego.',\n",
    "       'Solo continuar ampliando ', 'hacer mas facil el examen', 'Ninguno.'], dtype=object)\n",
    ">>> d.temas.value_counts()\n",
    "Unos pocos.                                146\n",
    "Bastantes.                                  93\n",
    "Creo tener que estudiarlos todos luego.     28\n",
    "Ninguno.                                     3\n",
    "Solo continuar ampliando                     1\n",
    "hacer mas facil el examen                    1\n",
    "Name: temas, dtype: int64"
   ]
  },
  {
   "cell_type": "markdown",
   "metadata": {},
   "source": [
    "Conviene concentrarnos en los tres niveles que tienen muchas respuestas: Pocos / Bastantes / Todos"
   ]
  },
  {
   "cell_type": "code",
   "execution_count": 18,
   "metadata": {},
   "outputs": [
    {
     "name": "stdout",
     "output_type": "stream",
     "text": [
      "<iframe id=\"igraph\" scrolling=\"no\" style=\"border:none;\" seamless=\"seamless\" src=\"https://plot.ly/~satuelisa/28.embed\" height=\"525px\" width=\"100%\"></iframe>\n"
     ]
    }
   ],
   "source": [
    "import plotly.plotly as py\n",
    "import plotly.graph_objs as go\n",
    "import pandas as pd\n",
    "import ssl\n",
    "\n",
    "if getattr(ssl, '_create_unverified_context', None):\n",
    "    ssl._create_default_https_context = ssl._create_unverified_context\n",
    "d = pd.read_csv(\"https://elisa.dyndns-web.com/teaching/comp/datasci/graficar.csv\")\n",
    "f = {\"data\": [{\"type\": 'violin', \"y\": d.loc[d['temas'] == \"Unos pocos.\"].CF1op, \\\n",
    "                 \"box\": {\"visible\": True}, \"line\": {\"color\": 'black'}, \"meanline\": {\"visible\": True}, \\\n",
    "                 \"fillcolor\": '#8dd3c7',\"opacity\": 0.6,\"x0\": 'Pocos'}, \\\n",
    "                {\"type\": 'violin', \"y\": d.loc[d['temas'] == \"Bastantes.\"].CF1op, \\\n",
    "                 \"box\": {\"visible\": True}, \"line\": {\"color\": 'black'}, \"meanline\": {\"visible\": True}, \\\n",
    "                 \"fillcolor\": '#d38dc7',\"opacity\": 0.6,\"x0\": 'Bastantes'}, \\\n",
    "                {\"type\": 'violin', \"y\": d.loc[d['temas'] == \"Creo tener que estudiarlos todos luego.\"].CF1op, \\\n",
    "                 \"box\": {\"visible\": True}, \"line\": {\"color\": 'black'}, \"meanline\": {\"visible\": True}, \\\n",
    "                 \"fillcolor\": '#d3c78d',\"opacity\": 0.6,\"x0\": 'Todos'}],\n",
    "    \"layout\" : {\n",
    "        \"title\": \"Cuántas temas de la unidad de aprendizaje tendrá que reforzar en el futuro\",\n",
    "        \"showlegend\": False,\n",
    "        \"yaxis\": {\n",
    "            \"title\": \"Calificación en primera oportunidad\",\n",
    "            \"zeroline\": False,\n",
    "        }\n",
    "    }\n",
    "}\n",
    "g = py.iplot(f, filename = 'temas_pendientes', validate = False)\n",
    "print(g.embed_code)"
   ]
  },
  {
   "cell_type": "markdown",
   "metadata": {},
   "source": [
    "<iframe id=\"igraph\" scrolling=\"no\" style=\"border:none;\" seamless=\"seamless\" src=\"https://plot.ly/~satuelisa/28.embed\" height=\"525px\" width=\"100%\"></iframe>"
   ]
  },
  {
   "cell_type": "markdown",
   "metadata": {},
   "source": [
    "No se nota gran diferencia entre esos tres casos en la figura __[12](https://elisa.dyndns-web.com/teaching/comp/datasci/p4.html#f12)__. \n",
    "\n",
    "Ahora lo de cuántas temas en general sienten que les falta reforzar con apoyo de parte de la facultad.\n",
    "Vamos nuevamente con una gráfica de dispersión. \n",
    "\n",
    "Podemos de hecho poner en una misma figura lo de temas por reforzar y cuántas formas de apoyo y cuántos medios indicaron que les interesaría usar. \n",
    "\n",
    "Para que no se sobrepongan tanto, apliquemos un pequeño desplazamiento horizontal a dos de los tres conjuntos."
   ]
  },
  {
   "cell_type": "code",
   "execution_count": 22,
   "metadata": {},
   "outputs": [
    {
     "name": "stdout",
     "output_type": "stream",
     "text": [
      "<iframe id=\"igraph\" scrolling=\"no\" style=\"border:none;\" seamless=\"seamless\" src=\"https://plot.ly/~satuelisa/30.embed\" height=\"525px\" width=\"100%\"></iframe>\n"
     ]
    }
   ],
   "source": [
    "import plotly.plotly as py\n",
    "import plotly.graph_objs as go\n",
    "import pandas as pd\n",
    "import ssl\n",
    "\n",
    "if getattr(ssl, '_create_unverified_context', None):\n",
    "    ssl._create_default_https_context = ssl._create_unverified_context\n",
    "d = pd.read_csv(\"https://elisa.dyndns-web.com/teaching/comp/datasci/graficar.csv\")\n",
    "m1 = {'size': 5, 'color': 'rgba(170, 0, 0, .7)'}\n",
    "m2 = {'size': 6, 'color': 'rgba(0, 170, 0, .6)'}\n",
    "m3 = {'size': 7, 'color': 'rgba(0, 0, 170, .5)'}\n",
    "delta = 0.2\n",
    "datos = [go.Scatter(x = d.cuantasTemas - delta, y = d.CF1op, mode = 'markers', marker = m1, name=\"Temas\"),\\\n",
    "         go.Scatter(x = d.formasApoyo, y = d.CF1op, mode = 'markers', marker = m2, name=\"Apoyos\"), \\\n",
    "         go.Scatter(x = d.cuantosMedios + delta, y = d.CF1op, mode = 'markers', marker = m3, name=\"Medios\")]\n",
    "f = {\"data\": datos, \n",
    "    \"layout\" : {\n",
    "        \"title\": \"Interés en apoyo en temas generales\",\n",
    "        \"showlegend\": True,\n",
    "        \"xaxis\": {\n",
    "            \"title\": \"Número de opciones seleccionadas\",\n",
    "            \"zeroline\": False,\n",
    "        },\n",
    "        \"yaxis\": {\n",
    "            \"title\": \"Calificación en primera oportunidad\",\n",
    "            \"zeroline\": False,\n",
    "        }\n",
    "    }\n",
    "}\n",
    "g = py.iplot(f, filename='apoyo')\n",
    "print(g.embed_code)"
   ]
  },
  {
   "cell_type": "markdown",
   "metadata": {},
   "source": [
    "<iframe id=\"igraph\" scrolling=\"no\" style=\"border:none;\" seamless=\"seamless\" src=\"https://plot.ly/~satuelisa/30.embed\" height=\"525px\" width=\"100%\"></iframe>"
   ]
  },
  {
   "cell_type": "markdown",
   "metadata": {},
   "source": [
    "El resultado es la figura __[13](https://elisa.dyndns-web.com/teaching/comp/datasci/p4.html#f13)__ que nos indica que gente de todas las imaginables calificaciones dice que cero, mayormente porque ahora hasta los que no contestaron salen como ceros por cómo se codificó esto en la práctica anterior.\n",
    "\n",
    "Lo único que puedo concluir de la gráfica es que se va cerrando un poco hacía los números grandes: los que eligen seis o más ya desempeñan un poco peor que los que elegieron entre una y cinco opciones. \n",
    "\n",
    "Esto se podría probar con una prueba estadística en una práctica futura.\n",
    "\n",
    "En su reporte, incluyan por lo menos tres diferentes tipos de gráficas e intenten concluir algo sobre sus datos."
   ]
  }
 ],
 "metadata": {
  "kernelspec": {
   "display_name": "Python 3",
   "language": "python",
   "name": "python3"
  },
  "language_info": {
   "codemirror_mode": {
    "name": "ipython",
    "version": 3
   },
   "file_extension": ".py",
   "mimetype": "text/x-python",
   "name": "python",
   "nbconvert_exporter": "python",
   "pygments_lexer": "ipython3",
   "version": "3.6.2"
  }
 },
 "nbformat": 4,
 "nbformat_minor": 2
}
