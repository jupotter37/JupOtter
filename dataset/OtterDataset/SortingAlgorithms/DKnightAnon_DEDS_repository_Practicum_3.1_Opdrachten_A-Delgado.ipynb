{
 "cells": [
  {
   "cell_type": "markdown",
   "metadata": {},
   "source": [
    "# Practicumopdrachten Week 3.1 (Algoritmes)"
   ]
  },
  {
   "cell_type": "markdown",
   "metadata": {},
   "source": [
    "## Opdracht\n",
    "\n",
    "1. Maak met python minimaal drie arrays van minimaal 20 willekeurige en niet gesorteerde integers (meer mag ook).\n",
    "2. Zoek op internet naar ten minste drie verschillende sorteeralgoritmes die je wilt gebruiken om de integer arrays mee te sorteren.\n",
    "3. Implementer je gekozen sorteeralgoritmes om de integer arrays mee te sorteren. Maak voor elk sorteeralgoritme een nieuwe methode aan die een integer array als parameter heeft en de integer array gesorteerd returnt.\n",
    "\n",
    "*Kudos als je een moeilijk, super efficient of creatief algoritme kunt vinden óf zelfs bedenken ;*"
   ]
  },
  {
   "cell_type": "markdown",
   "metadata": {},
   "source": [
    "### Package imports"
   ]
  },
  {
   "cell_type": "code",
   "execution_count": 1,
   "metadata": {},
   "outputs": [
    {
     "name": "stderr",
     "output_type": "stream",
     "text": [
      "C:\\Users\\arcde\\AppData\\Local\\Temp\\ipykernel_2116\\2856191817.py:4: DeprecationWarning: \n",
      "Pyarrow will become a required dependency of pandas in the next major release of pandas (pandas 3.0),\n",
      "(to allow more performant data types, such as the Arrow string type, and better interoperability with other libraries)\n",
      "but was not found to be installed on your system.\n",
      "If this would cause problems for you,\n",
      "please provide us feedback at https://github.com/pandas-dev/pandas/issues/54466\n",
      "        \n",
      "  import pandas as pd\n"
     ]
    }
   ],
   "source": [
    "import warnings\n",
    "import numpy as np\n",
    "import sqlite3\n",
    "import pandas as pd\n",
    "import math\n",
    "warnings.simplefilter('ignore')"
   ]
  },
  {
   "cell_type": "markdown",
   "metadata": {},
   "source": [
    "### Creër ungesorteerde arrays"
   ]
  },
  {
   "cell_type": "code",
   "execution_count": 3,
   "metadata": {},
   "outputs": [],
   "source": [
    "global unsorted_array1 \n",
    "unsorted_array1 = tuple(np.random.randint(10, size=(20)))\n",
    "\n",
    "global unsorted_array2\n",
    "unsorted_array2 = tuple(np.random.randint(10, size=(20)))\n",
    "\n",
    "global unsorted_array3\n",
    "unsorted_array3 = tuple(np.random.randint(10, size=(20)))"
   ]
  },
  {
   "cell_type": "markdown",
   "metadata": {},
   "source": [
    "### Sorteer algoritme methodes\n",
    "\n",
    "Lijst van sorteer algoritmes: \n",
    "1. Bubble\n",
    "2. Gnome\n",
    "3. Selection\n",
    "4. Odd Even\n",
    "5. Comb\n",
    "6. Bogo\n",
    "7. LSD Radix\n",
    "8. Shell\n",
    "9. Schwartzian Transform\n",
    "10. Bucket\n",
    "11. Bingo\n",
    "12. Pancake"
   ]
  },
  {
   "cell_type": "markdown",
   "metadata": {},
   "source": [
    "##### Shell sort\n",
    "\n",
    "Bij Shellsort worden elementen met elkaar vergeleken dat niet direct naast elkaar, maar een stuk apart liggen. Dit algoritme werkt via de volgende manier: \n",
    "1. − Start\n",
    "2. − Initialize the value of gap size. Example: h\n",
    "3. − Divide the list into smaller sub-part. Each must have equal intervals to h\n",
    "4. − Sort these sub-lists using insertion sort\n",
    "5. – Repeat this step 2 until the list is sorted.\n",
    "6. – Print a sorted list.\n",
    "7. – Stop.\n"
   ]
  },
  {
   "cell_type": "code",
   "execution_count": 4,
   "metadata": {},
   "outputs": [],
   "source": [
    "def shellSort(array):\n",
    "    n = len(array)\n",
    "    k = int(math.log2(n))\n",
    "    interval = 2**k -1\n",
    "    while interval > 0:\n",
    "        for i in range(interval, n):\n",
    "            temp = array[i]\n",
    "            j = i\n",
    "            while j >= interval and array[j - interval] > temp:\n",
    "                array[j] = array[j - interval]\n",
    "                j -= interval\n",
    "            array[j] = temp\n",
    "        k -= 1\n",
    "        interval = 2**k -1\n",
    "    return array\n",
    "\n",
    "def shellSortResults() : \n",
    "    array1 = list(unsorted_array1)\n",
    "    array2 = list(unsorted_array2)\n",
    "    array3 = list(unsorted_array3)\n",
    "\n",
    "    print(\"SHELL SORT\")\n",
    "    print(shellSort(array1))\n",
    "    print(shellSort(array2))\n",
    "    print(shellSort(array3))\n",
    "    print(\"-----------------\")\n",
    "    "
   ]
  },
  {
   "cell_type": "markdown",
   "metadata": {},
   "source": [
    "###### Eigen implementatie "
   ]
  },
  {
   "cell_type": "code",
   "execution_count": null,
   "metadata": {},
   "outputs": [],
   "source": []
  },
  {
   "cell_type": "markdown",
   "metadata": {},
   "source": [
    "#### Merge sort"
   ]
  },
  {
   "cell_type": "code",
   "execution_count": 5,
   "metadata": {},
   "outputs": [],
   "source": [
    "def mergeSort(nums):\n",
    "    if len(nums)==1:\n",
    "        return nums\n",
    "    #pak het midden van het array\n",
    "    mid = (len(nums)-1) // 2\n",
    "    lst1 = mergeSort(nums[:mid+1])\n",
    "    lst2 = mergeSort(nums[mid+1:])\n",
    "    result = merge(lst1, lst2)\n",
    "    return result\n",
    "\n",
    "def merge(lst1, lst2):\n",
    "    lst = []\n",
    "    i = 0\n",
    "    j = 0\n",
    "    while(i<=len(lst1)-1 and j<=len(lst2)-1):\n",
    "        if lst1[i]<lst2[j]:\n",
    "            lst.append(lst1[i])\n",
    "            i+=1\n",
    "        else:\n",
    "            lst.append(lst2[j])\n",
    "            j+=1\n",
    "    if i>len(lst1)-1:\n",
    "        while(j<=len(lst2)-1):\n",
    "            lst.append(lst2[j])\n",
    "            j+=1\n",
    "    else:\n",
    "        while(i<=len(lst1)-1):\n",
    "            lst.append(lst1[i])\n",
    "            i+=1\n",
    "    return lst\n",
    "\n",
    "def mergeSortResults() : \n",
    "    array1 = list(unsorted_array1)\n",
    "    array2 = list(unsorted_array2)\n",
    "    array3 = list(unsorted_array3)\n",
    "\n",
    "    print()\n",
    "    print(\"MERGE SORT\")\n",
    "    print(f\"Unsorted array1 : {unsorted_array1}\")\n",
    "    print(f\"Sorted : {mergeSort(array1)}\")\n",
    "    print(f\"Unsorted array2 : {unsorted_array2}\")\n",
    "    print(f\"Sorted : {mergeSort(array2)}\")\n",
    "    print(f\"Unsorted array3 : {unsorted_array3}\")\n",
    "    print(f\"Sorted : {mergeSort(array3)}\")\n"
   ]
  },
  {
   "cell_type": "markdown",
   "metadata": {},
   "source": [
    "#### Bubble sort"
   ]
  },
  {
   "cell_type": "code",
   "execution_count": 6,
   "metadata": {},
   "outputs": [],
   "source": [
    "def bubbleSort(array):\n",
    "    #houd bij of de twee elementen verwisseld zijn\n",
    "    swapped = False\n",
    "    #loop over de hele array\n",
    "    for i in range(len(array)-1,0,-1):\n",
    "        #voor elk element in de iteratie\n",
    "        for j in range(i):\n",
    "            #check of element i groter is dan het volgende element\n",
    "            if array[j]>array[j+1]:\n",
    "                #als groter, verwissel\n",
    "                array[j], array[j+1] = array[j+1], array[j]\n",
    "                #de twee elementen zijn verwisseld\n",
    "                swapped= True\n",
    "        if swapped:\n",
    "            swapped=False\n",
    "\n",
    "        else:\n",
    "            #als de twee elementen niet verwisseld zijn (swapped=False),\n",
    "            # dan is er niks meer om te sorteren en wordt de loop gebroken\n",
    "            break\n",
    "    return array\n",
    "\n",
    "\n",
    "def bubbleSortResults() :\n",
    "    array1 = list(unsorted_array1)\n",
    "    array2 = list(unsorted_array2)\n",
    "    array3 = list(unsorted_array3)    \n",
    "    print()\n",
    "    print(\"BUBBLE SORT\")\n",
    "    print(f\"Unsorted array1 : {unsorted_array1}\")\n",
    "    print(f\"Sorted : {bubbleSort(array1)}\")\n",
    "    print(f\"Unsorted array2 : {unsorted_array2}\")\n",
    "    print(f\"Sorted : {bubbleSort(array2)}\")\n",
    "    print(f\"Unsorted array3 : {unsorted_array3}\")\n",
    "    print(f\"Sorted : {bubbleSort(array3)}\")"
   ]
  },
  {
   "cell_type": "markdown",
   "metadata": {},
   "source": [
    "### Resultaten"
   ]
  },
  {
   "cell_type": "code",
   "execution_count": 7,
   "metadata": {},
   "outputs": [
    {
     "name": "stdout",
     "output_type": "stream",
     "text": [
      "UNSORTED ARRAYS\n",
      "(9, 9, 0, 8, 9, 5, 5, 9, 4, 6, 0, 3, 4, 6, 2, 9, 8, 4, 7, 5)\n",
      "(5, 0, 1, 0, 1, 5, 3, 7, 8, 8, 1, 1, 4, 5, 3, 4, 9, 0, 0, 0)\n",
      "(8, 8, 2, 2, 1, 6, 6, 9, 1, 3, 3, 1, 7, 0, 7, 4, 7, 1, 2, 0)\n",
      "\n",
      "SHELL SORT\n",
      "[0, 0, 2, 3, 4, 4, 4, 5, 5, 5, 6, 6, 7, 8, 8, 9, 9, 9, 9, 9]\n",
      "[0, 0, 0, 0, 0, 1, 1, 1, 1, 3, 3, 4, 4, 5, 5, 5, 7, 8, 8, 9]\n",
      "[0, 0, 1, 1, 1, 1, 2, 2, 2, 3, 3, 4, 6, 6, 7, 7, 7, 8, 8, 9]\n",
      "-----------------\n",
      "\n",
      "MERGE SORT\n",
      "Unsorted array1 : (9, 9, 0, 8, 9, 5, 5, 9, 4, 6, 0, 3, 4, 6, 2, 9, 8, 4, 7, 5)\n",
      "Sorted : [0, 0, 2, 3, 4, 4, 4, 5, 5, 5, 6, 6, 7, 8, 8, 9, 9, 9, 9, 9]\n",
      "Unsorted array2 : (5, 0, 1, 0, 1, 5, 3, 7, 8, 8, 1, 1, 4, 5, 3, 4, 9, 0, 0, 0)\n",
      "Sorted : [0, 0, 0, 0, 0, 1, 1, 1, 1, 3, 3, 4, 4, 5, 5, 5, 7, 8, 8, 9]\n",
      "Unsorted array3 : (8, 8, 2, 2, 1, 6, 6, 9, 1, 3, 3, 1, 7, 0, 7, 4, 7, 1, 2, 0)\n",
      "Sorted : [0, 0, 1, 1, 1, 1, 2, 2, 2, 3, 3, 4, 6, 6, 7, 7, 7, 8, 8, 9]\n",
      "\n",
      "BUBBLE SORT\n",
      "Unsorted array1 : (9, 9, 0, 8, 9, 5, 5, 9, 4, 6, 0, 3, 4, 6, 2, 9, 8, 4, 7, 5)\n",
      "Sorted : [0, 0, 2, 3, 4, 4, 4, 5, 5, 5, 6, 6, 7, 8, 8, 9, 9, 9, 9, 9]\n",
      "Unsorted array2 : (5, 0, 1, 0, 1, 5, 3, 7, 8, 8, 1, 1, 4, 5, 3, 4, 9, 0, 0, 0)\n",
      "Sorted : [0, 0, 0, 0, 0, 1, 1, 1, 1, 3, 3, 4, 4, 5, 5, 5, 7, 8, 8, 9]\n",
      "Unsorted array3 : (8, 8, 2, 2, 1, 6, 6, 9, 1, 3, 3, 1, 7, 0, 7, 4, 7, 1, 2, 0)\n",
      "Sorted : [0, 0, 1, 1, 1, 1, 2, 2, 2, 3, 3, 4, 6, 6, 7, 7, 7, 8, 8, 9]\n"
     ]
    }
   ],
   "source": [
    "print(\"UNSORTED ARRAYS\")\n",
    "print(unsorted_array1)\n",
    "print(unsorted_array2)\n",
    "print(unsorted_array3)\n",
    "print()\n",
    "\n",
    "shellSortResults()\n",
    "mergeSortResults()\n",
    "bubbleSortResults()\n"
   ]
  },
  {
   "cell_type": "markdown",
   "metadata": {},
   "source": [
    "### Bronnen"
   ]
  },
  {
   "cell_type": "markdown",
   "metadata": {},
   "source": [
    "1. Rathore, A. S. (2023, January 22). Sorting algorithms — with Python - towards data science. Medium. https://towardsdatascience.com/sorting-algorithms-with-python-4ec7081d78a1 \n",
    "2. GfG. (2023, January 10). ShellSort. GeeksforGeeks. https://www.geeksforgeeks.org/shellsort/ \n",
    "3. GfG. (2023, March 30). Introduction to sorting techniques data structure and algorithm tutorials. GeeksforGeeks. https://www.geeksforgeeks.org/introduction-to-sorting-algorithm/ \n",
    "4. Python, R. (2023, November 27). Sorting algorithms in Python. https://realpython.com/sorting-algorithms-python/"
   ]
  }
 ],
 "metadata": {
  "kernelspec": {
   "display_name": ".venv",
   "language": "python",
   "name": "python3"
  },
  "language_info": {
   "codemirror_mode": {
    "name": "ipython",
    "version": 3
   },
   "file_extension": ".py",
   "mimetype": "text/x-python",
   "name": "python",
   "nbconvert_exporter": "python",
   "pygments_lexer": "ipython3",
   "version": "3.12.2"
  }
 },
 "nbformat": 4,
 "nbformat_minor": 2
}
