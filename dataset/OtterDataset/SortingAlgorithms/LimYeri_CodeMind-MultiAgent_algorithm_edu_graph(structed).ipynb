{
 "cells": [
  {
   "cell_type": "code",
   "execution_count": 6,
   "id": "35bc1c25-466f-4be5-a07f-944a39e2dc9b",
   "metadata": {},
   "outputs": [
    {
     "data": {
      "text/plain": [
       "'3.10.14 | packaged by Anaconda, Inc. | (main, May  6 2024, 19:44:50) [MSC v.1916 64 bit (AMD64)]'"
      ]
     },
     "execution_count": 6,
     "metadata": {},
     "output_type": "execute_result"
    }
   ],
   "source": [
    "import sys\n",
    "sys.version "
   ]
  },
  {
   "cell_type": "code",
   "execution_count": 7,
   "id": "ad91cb9b-1122-4484-b78f-46d14b0c1158",
   "metadata": {},
   "outputs": [
    {
     "data": {
      "text/plain": [
       "True"
      ]
     },
     "execution_count": 7,
     "metadata": {},
     "output_type": "execute_result"
    }
   ],
   "source": [
    "# API 키를 환경변수로 관리하기 위한 설정 파일\n",
    "from dotenv import load_dotenv\n",
    "\n",
    "# API 키 정보 로드\n",
    "load_dotenv()"
   ]
  },
  {
   "cell_type": "code",
   "execution_count": 5,
   "id": "a36275f3-e115-482f-96dc-0e71fe555f72",
   "metadata": {},
   "outputs": [
    {
     "name": "stdout",
     "output_type": "stream",
     "text": [
      "LangSmith 추적을 시작합니다.\n",
      "[프로젝트명]\n",
      "algorithm_education_agent\n"
     ]
    }
   ],
   "source": [
    "from langchain_teddynote import logging\n",
    "\n",
    "# 프로젝트 이름을 입력합니다.\n",
    "# logging.langsmith(\"algorithm_education_agent\")\n",
    "\n",
    "# logging.langsmith(\"code_review_agent\", set_enable=False)"
   ]
  },
  {
   "cell_type": "code",
   "execution_count": 8,
   "id": "20f9efca-72d3-4a27-90ac-283e7d5a025f",
   "metadata": {},
   "outputs": [],
   "source": [
    "import os\n",
    "import re\n",
    "from langchain_community.chat_models.openai import ChatOpenAI\n",
    "\n",
    "gpt3 = ChatOpenAI(model_name=\"gpt-3.5-turbo\")"
   ]
  },
  {
   "cell_type": "code",
   "execution_count": 19,
   "id": "15dc4108-1914-4019-9e97-b79f359a687c",
   "metadata": {},
   "outputs": [],
   "source": []
  },
  {
   "cell_type": "code",
   "execution_count": 22,
   "id": "86128a25-e863-42f7-91e5-e5f3bf36b9cb",
   "metadata": {},
   "outputs": [],
   "source": [
    "import operator\n",
    "from pydantic import BaseModel, Field\n",
    "from langchain_openai import ChatOpenAI\n",
    "from langchain.schema import StrOutputParser\n",
    "from langchain_core.messages import BaseMessage\n",
    "from langchain.prompts import ChatPromptTemplate\n",
    "from typing import Type, Callable, Dict, Any, TypedDict, Annotated, Optional, List\n",
    "\n",
    "# 모델과 구조화된 출력 체인을 생성하는 함수\n",
    "def create_structured_output_chain(\n",
    "    system_template: str, \n",
    "    human_template: str,\n",
    "    model: str,\n",
    "    struct: Type[BaseModel],\n",
    "    partial_variables: Dict[str, Any] = {}\n",
    ") -> Callable:\n",
    "    # 시스템 및 사용자 템플릿 생성\n",
    "    prompt = ChatPromptTemplate.from_messages([\n",
    "        (\"system\", system_template), \n",
    "        (\"human\", human_template)\n",
    "    ]).partial(**partial_variables)\n",
    "\n",
    "    # 모델 선택을 위한 딕셔너리\n",
    "    model_mapping = {\n",
    "        \"gpt4_0\": ChatOpenAI(model=\"gpt-4o\", temperature=0),\n",
    "        \"gpt3_0\": ChatOpenAI(model=\"gpt-3.5-turbo\", temperature=0),\n",
    "        \"gpt4\": ChatOpenAI(model=\"gpt-4o\"),\n",
    "        \"default\": ChatOpenAI(model=\"gpt-3.5-turbo\")\n",
    "    }\n",
    "\n",
    "    # model 값에 따라 해당 모델 선택, 기본값은 \"gpt-3.5-turbo\"\n",
    "    model_instance = model_mapping.get(model, model_mapping[\"default\"])\n",
    "        \n",
    "    # 모델과 구조화된 출력 연결\n",
    "    return prompt | model_instance.with_structured_output(struct)"
   ]
  },
  {
   "cell_type": "code",
   "execution_count": 23,
   "id": "d2e4c841-9cec-479b-9e91-cad191e75913",
   "metadata": {},
   "outputs": [],
   "source": [
    "from langchain_core.documents import Document  # Document 객체가 정의된 모듈에서 가져와야 함\n",
    "\n",
    "# AlgorithmState 정의\n",
    "class AlgorithmState(TypedDict):\n",
    "    user_input: str\n",
    "    output: str\n",
    "    Wikipedia_search_query: str\n",
    "    Wikipedia_Document: list[Document]\n",
    "    Generated_answer: str"
   ]
  },
  {
   "cell_type": "code",
   "execution_count": 24,
   "id": "37a0b998-3b00-46aa-8873-e6d7d37ba3b9",
   "metadata": {},
   "outputs": [],
   "source": [
    "# Wikipedia 쿼리 출력을 위한 데이터\n",
    "class WikipediaQueryOutput(BaseModel):\n",
    "    Wikipedia_search_query: str = Field(description=\"The generated simple Wikipedia query based on the user's input.\")\n",
    "\n",
    "# Step 1: 사용자 입력으로부터 검색 쿼리 생성\n",
    "def generate_wikipedia_query(state: AlgorithmState):\n",
    "    system_template = \"\"\"\n",
    "    You are an expert in algorithms and data structures.\n",
    "    Based on the user's input, generate a simple query to search for the key concept on Wikipedia.\n",
    "    Create the query to capture the essence of the user's question in simple keywords.\n",
    "    \"\"\"\n",
    "    \n",
    "     # 사용자 입력과 템플릿을 기반으로 검색 쿼리 생성\n",
    "    chain = create_structured_output_chain(\n",
    "        system_template=system_template,\n",
    "        human_template=\"{user_input}\",\n",
    "        model=\"default\",\n",
    "        struct=WikipediaQueryOutput,\n",
    "        partial_variables={\"user_input\": state[\"user_input\"]}\n",
    "    )\n",
    "    return chain.invoke(state)"
   ]
  },
  {
   "cell_type": "code",
   "execution_count": 25,
   "id": "d4884049-1d8f-4289-952c-eb30e8323038",
   "metadata": {},
   "outputs": [],
   "source": [
    "from langchain.document_loaders import WikipediaLoader\n",
    "\n",
    "# Step 2: Wikipedia에서 쿼리로 문서 검색\n",
    "def search_wikipedia(state: AlgorithmState) -> AlgorithmState:\n",
    "    query = state[\"Wikipedia_search_query\"]  # 검색 쿼리 가져오기\n",
    "    \n",
    "    # WikipediaLoader로 문서 검색 (최대 2개)\n",
    "    loader = WikipediaLoader(query=query, load_max_docs=2)\n",
    "    documents = loader.load()\n",
    "    \n",
    "    state[\"Wikipedia_Document\"] = documents\n",
    "\n",
    "    return state"
   ]
  },
  {
   "cell_type": "code",
   "execution_count": 26,
   "id": "70c1ad35-9004-45a8-8e5f-c32a4e262c7c",
   "metadata": {},
   "outputs": [],
   "source": [
    "# LaTeX 이스케이프 처리 함수\n",
    "def escape_latex(text):\n",
    "    # LaTeX 수식을 찾아 이스케이프 처리 (줄바꿈 포함)\n",
    "    def replace_latex(match):\n",
    "        return '{{' + match.group(1) + '}}' + match.group(2)\n",
    "    \n",
    "    # {\\\\displaystyle ...}\\n 패턴을 찾아 이스케이프 처리\n",
    "    escaped = re.sub(r'(\\{\\\\displaystyle [^}]+\\})(\\n?)', replace_latex, text)\n",
    "    \n",
    "    # 남은 중괄호들을 이스케이프 처리\n",
    "    escaped = escaped.replace(\"{\", \"{{\").replace(\"}\", \"}}\")\n",
    "    \n",
    "    return escaped"
   ]
  },
  {
   "cell_type": "code",
   "execution_count": 34,
   "id": "d456b795-573f-4ff7-85ad-3f2fdfdd2cd9",
   "metadata": {},
   "outputs": [],
   "source": [
    "from langchain.schema import StrOutputParser\n",
    "\n",
    "# Step 3: 검색된 결과를 바탕으로 답변 생성\n",
    "def generate_answer(state: AlgorithmState) -> AlgorithmState:\n",
    "    system_template = \"\"\"\n",
    "    Based on the Wikipedia content provided below, answer the user's question in a detailed and easy-to-understand way.\n",
    "    \n",
    "    Wikipedia content: {document_content}\n",
    "    \n",
    "    The user asked: {user_input}\n",
    "    \n",
    "    Provide a thorough and easy-to-follow explanation, ensuring the response is detailed and simplified for clear understanding using the Wikipedia data. \n",
    "    Additionally, use examples to make the explanation clearer and more relatable.\n",
    "    \"\"\"\n",
    "    \n",
    "    # state에서 Wikipedia_Document 가져오기\n",
    "    documents = state[\"Wikipedia_Document\"]\n",
    "    \n",
    "    # 문서의 내용을 모두 합쳐 하나의 문자열로 만들기\n",
    "    document_content = \" \".join([escape_latex(doc.page_content) for doc in documents])\n",
    "\n",
    "\n",
    "     # 분석 수행\n",
    "    prompt = ChatPromptTemplate.from_messages([\n",
    "        (\"system\", system_template), \n",
    "        (\"human\", \"{user_input}\\n{document_content}\")\n",
    "    ])\n",
    "    chain = prompt | gpt3 | StrOutputParser()\n",
    "    result = chain.invoke({\"user_input\": state[\"user_input\"], \"document_content\": document_content})\n",
    "\n",
    "    state[\"output\"] = result\n",
    "    \n",
    "    # 업데이트된 state 반환\n",
    "    return state"
   ]
  },
  {
   "cell_type": "code",
   "execution_count": null,
   "id": "6a993e71-0e61-4fe2-98c9-a0c2d0391e59",
   "metadata": {},
   "outputs": [],
   "source": []
  },
  {
   "cell_type": "markdown",
   "id": "67658bc7-1271-4ddb-a4e6-78256d0a544a",
   "metadata": {},
   "source": [
    "# Algorithm Education Graph"
   ]
  },
  {
   "cell_type": "code",
   "execution_count": 35,
   "id": "ac01a4f6-d9f0-4cbd-9e72-48351daf9e6d",
   "metadata": {},
   "outputs": [],
   "source": [
    "from langgraph.graph import END, StateGraph\n",
    "from langgraph.checkpoint.memory import MemorySaver\n",
    "\n",
    "# 알고리즘 및 자료구조 교육 워크플로우 생성\n",
    "Algorithm_workflow = StateGraph(AlgorithmState)"
   ]
  },
  {
   "cell_type": "code",
   "execution_count": 36,
   "id": "1026aa1f-2999-4f5c-96c8-ff2f8cbc7456",
   "metadata": {},
   "outputs": [],
   "source": [
    "from langgraph.graph import START, END, StateGraph\n",
    "\n",
    "# 각 단계의 노드 추가\n",
    "Algorithm_workflow.add_node(\"generate_wikipedia_query\", generate_wikipedia_query)\n",
    "Algorithm_workflow.add_node(\"search_wikipedia\", search_wikipedia)\n",
    "Algorithm_workflow.add_node(\"generate_answer\", generate_answer)\n",
    "\n",
    "# 노드 간의 연결 설정 (단계별 흐름)\n",
    "Algorithm_workflow.add_edge(\"generate_wikipedia_query\", \"search_wikipedia\")\n",
    "Algorithm_workflow.add_edge(\"search_wikipedia\", \"generate_answer\")\n",
    "Algorithm_workflow.add_edge(\"generate_answer\", END)\n",
    "\n",
    "Algorithm_workflow.set_entry_point(\"generate_wikipedia_query\")"
   ]
  },
  {
   "cell_type": "code",
   "execution_count": 37,
   "id": "c31251d2-b424-4ba6-93cf-c05193fbb42e",
   "metadata": {},
   "outputs": [],
   "source": [
    "# 워크플로우 컴파일 및 그래프 시각화\n",
    "Algorithm_app = Algorithm_workflow.compile()"
   ]
  },
  {
   "cell_type": "code",
   "execution_count": 38,
   "id": "ec0a4370-d6dc-40ed-b7e9-d9cdeb7dd9e8",
   "metadata": {},
   "outputs": [
    {
     "data": {
      "image/jpeg": "[encoded data removed]",
      "text/plain": [
       "<IPython.core.display.Image object>"
      ]
     },
     "metadata": {},
     "output_type": "display_data"
    }
   ],
   "source": [
    "from IPython.display import Image, display\n",
    "\n",
    "try:\n",
    "    display(\n",
    "        Image(Algorithm_app.get_graph(xray=True).draw_mermaid_png())\n",
    "    )  # 실행 가능한 객체의 그래프를 mermaid 형식의 PNG로 그려서 표시합니다. xray=True는 추가적인 세부 정보를 포함합니다.\n",
    "except:\n",
    "    # 이 부분은 추가적인 의존성이 필요하며 선택적으로 실행됩니다.\n",
    "    pass"
   ]
  },
  {
   "cell_type": "code",
   "execution_count": null,
   "id": "604ebdc9-9941-4122-bd53-587e07a46007",
   "metadata": {},
   "outputs": [],
   "source": []
  },
  {
   "cell_type": "markdown",
   "id": "44da5e41-bd33-48e4-bce0-45929ab6ce38",
   "metadata": {},
   "source": [
    "# 결과물"
   ]
  },
  {
   "cell_type": "code",
   "execution_count": 39,
   "id": "b6a813e8-bdfb-4b87-b330-2313054c7709",
   "metadata": {},
   "outputs": [],
   "source": [
    "test_input = \"I don't really understand what the Selection Sort algorithm is. Please explain it to me in detail and in an easy way.\""
   ]
  },
  {
   "cell_type": "code",
   "execution_count": 40,
   "id": "83a4d42a-901b-463e-af9c-759fb3e929da",
   "metadata": {},
   "outputs": [],
   "source": [
    "output = Algorithm_app.invoke(AlgorithmState(user_input=test_input))"
   ]
  },
  {
   "cell_type": "code",
   "execution_count": 41,
   "id": "49e7968b-6bd2-47e1-992c-37a7a492a1a1",
   "metadata": {},
   "outputs": [
    {
     "data": {
      "text/markdown": [
       "Selection Sort is a simple sorting algorithm used in computer science. It is an in-place comparison sort, meaning it reorders the elements by comparing them directly. Here's how it works:\n",
       "\n",
       "1. **Dividing the List**: The algorithm divides the input list into two parts:\n",
       "   - A sorted sublist that starts empty and gradually grows from left to right.\n",
       "   - An unsorted sublist that initially contains all the elements.\n",
       "\n",
       "2. **Sorting Process**:\n",
       "   - The algorithm repeatedly finds the smallest (or largest) element in the unsorted sublist.\n",
       "   - It then swaps this element with the leftmost unsorted element, placing it in sorted order.\n",
       "   - The boundaries of the sorted and unsorted sublists are adjusted accordingly.\n",
       "\n",
       "3. **Example**:\n",
       "   Let's use an example to illustrate Selection Sort:\n",
       "   - Given the list: 64 25 12 22 11\n",
       "   - The algorithm finds the smallest element (11) and swaps it with the first element:\n",
       "     11 25 12 22 64\n",
       "   - It continues this process for the remaining elements, resulting in a sorted list:\n",
       "     11 12 22 25 64\n",
       "\n",
       "4. **Efficiency**:\n",
       "   - Selection Sort has a time complexity of O(n^2), meaning it becomes inefficient for large lists.\n",
       "   - It performs worse than some other sorting algorithms like Insertion Sort.\n",
       "   - However, Selection Sort is easy to understand and can be advantageous in situations where auxiliary memory is limited.\n",
       "\n",
       "In summary, Selection Sort is a straightforward algorithm that repeatedly selects the smallest (or largest) element from the unsorted part of the list and places it in its correct position in the sorted part. While it may not be the most efficient for large datasets, its simplicity and ability to work with limited memory make it a useful sorting technique in certain scenarios."
      ],
      "text/plain": [
       "<IPython.core.display.Markdown object>"
      ]
     },
     "metadata": {},
     "output_type": "display_data"
    }
   ],
   "source": [
    "from IPython.display import display, Markdown\n",
    "display(Markdown(output[\"output\"]))"
   ]
  }
 ],
 "metadata": {
  "kernelspec": {
   "display_name": "test1",
   "language": "python",
   "name": "test1"
  },
  "language_info": {
   "codemirror_mode": {
    "name": "ipython",
    "version": 3
   },
   "file_extension": ".py",
   "mimetype": "text/x-python",
   "name": "python",
   "nbconvert_exporter": "python",
   "pygments_lexer": "ipython3",
   "version": "3.10.14"
  }
 },
 "nbformat": 4,
 "nbformat_minor": 5
}
