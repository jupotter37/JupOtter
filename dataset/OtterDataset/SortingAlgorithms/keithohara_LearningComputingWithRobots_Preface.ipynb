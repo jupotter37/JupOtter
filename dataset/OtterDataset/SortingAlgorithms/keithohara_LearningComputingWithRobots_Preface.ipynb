{
 "metadata": {
  "name": "",
  "signature": "sha256:4ddce131616edb796073419f2fff30d64f2f2a6968a13a191138239bc31814f3"
 },
 "nbformat": 3,
 "nbformat_minor": 0,
 "worksheets": [
  {
   "cells": [
    {
     "cell_type": "heading",
     "level": 1,
     "metadata": {},
     "source": [
      "Preface"
     ]
    },
    {
     "cell_type": "markdown",
     "metadata": {},
     "source": [
      "What is a computer? A personal computer? \n",
      "\n",
      "What is a robot? A personal robot? \n",
      "\n",
      "What is computing? What is personal computing?\n",
      "\n",
      "This book will introduce you to the world of computers, robots, and computing. Computers, as we know them today have been around less than 75 years. To our young audience for whom this book is designed, that may seem like an eternity. While computers are all around us, the world of computing is just in its infancy. It is a baby!\n",
      "\n",
      "In this book, you will learn that computing is no more about computers than astronomy is about telescopes. In that respect, the roots of computing could be traced back more than 2000 years to Euclid in 300 BC. Could it be that computing is actually as old as or even older than some of the other disciplines? Prior to the development of modern computers, the word computing mostly implied numerical calculation. Today, computing encompasses all forms of electronic manipulation of objects: numbers, text, sound, music, photographs, movies, genes, motors, etc., and even ideas! Every day we are discovering new things that can be computed. \n",
      "Robots are not that much older than computers. We will learn that, contrary to popular belief, a robot is any mechanism that is guided by automated control. A robot can be controlled as a result of computation. In fact, in today\u2019s robots computation is a key component.\n",
      "\n",
      "Advances in the past few decades have brought about many changes in the way we use and live with technology. Computers have become smaller, cheaper, faster, and more personal. The same is also true for robots. In this book we have created a confluence of these two technologies to use as a basis for introducing the world of computing to students.\n"
     ]
    },
    {
     "cell_type": "heading",
     "level": 2,
     "metadata": {},
     "source": [
      "How to use this book"
     ]
    },
    {
     "cell_type": "markdown",
     "metadata": {},
     "source": [
      "We have strived in creating this book to make the learning experience engaging, entertaining, and enlightening. This book comes with a robot kit and you will make extensive use of your personal robot as you go through the book. As a part of your learning process, you will be bringing all of the material in this book to life in the form of computer programs and robot behaviors. You will create new and interesting behaviors for your ro"
     ]
    },
    {
     "cell_type": "markdown",
     "metadata": {},
     "source": [
      "- This book.\n",
      "- A robot. This book uses the Scribbler 2 robot.\n",
      "- An IPRE Fluke bluetooth camera board.\n",
      "- A Bluetooth enabled computer. If your computer does not have built-in Bluetooth, you can purchase a USB Bluetooth dongle to add that functionality. You can use any of the following operating systems: MACOS (Version 10.4 or later), Windows (XP or Vista), or Linux.\n",
      "- Software: Python+Myro. This book is based on version Calico Python. In fact this book is an executable iPython notebook.\n",
      "- Some accessories: A basic gamepad controller, Sharpie permanent color markers, a flashlight, spare AA batteries, poster or any other large drawing paper, a carrying case, some craft materials for decorating the robot, etc.\n"
     ]
    },
    {
     "cell_type": "markdown",
     "metadata": {},
     "source": [
      "You can order the robot, the Fluke dongle, the Bluetooth dongle, as well as a software CD, and the book from http://BetterBots.com. For more information on additional sources, documentation (including a copy of this book), and latest updates visit the [IPRE web site](http://roboteducation.org)."
     ]
    },
    {
     "cell_type": "markdown",
     "metadata": {},
     "source": [
      "While our approach is tightly integrated with the use of a personal robot we will also take frequent excursions into other forms of computing: numbers, text, sounds, music, images, etc. The thing to remember is that all the concepts of computing introduced in this book can be used to do computing on all kinds of objects.\n",
      "\n",
      "To get the most out of this book we would recommend reading each chapter first and then bringing all the ideas discussed in the chapter to life by actually creating computer programs and robot behaviors. Before proceeding to the next chapter, try and do most of the exercises at the end of each chapter and think about further applications that come to mind. Try out a few of those and then proceed to the next chapter. We would also like to encourage you to work in an environment where you can share your work and ideas with others around you. After all, you are going to be creating several robot behaviors. Find the opportunity to demonstrate your robot\u2019s newly programmed capabilities to your friends, classmates, and even the wider world (through web sites like youtube.com). Make learning from this book a social activity and you will find yourself learning more. The bottom-line keyword here is doing. Computing is an abstract concept, but the only way to grasp it is by *doing* it. Like that famous Nike commercial, *Just do it*!\n"
     ]
    },
    {
     "cell_type": "heading",
     "level": 2,
     "metadata": {},
     "source": [
      "What you will learn"
     ]
    },
    {
     "cell_type": "markdown",
     "metadata": {},
     "source": [
      "By using this book as described above you will learn a number of fundamental concepts in computing and robotics. We have written the text for entry-level students into computing. Other than being able to use a computer to do something, we do not expect our readers to have any additional background in computing. Some of the material in the book does rely on basic high school level mathematics. It is ideally suited for a college-level introductory computing course which is widely recognized as CS1 in the computing education community. By the time a reader works through the entire book they will have covered the following topics:\n",
      " \n",
      "- Fundamentals of computing: problem solving, program design, basic syntax and semantics of the programming language Python; the role of names; data values: numbers, strings, and boolean; data structures: sequences, lists, tuples, dictionaries, objects; functions, parameters, basic scoping rules, assignment, expressions, control (sequential, conditional and iteration constructs), modules and libraries (APIs); Simple input-output, file I/O, and other forms of I/O devices; testing and error checking; interactive design.\n",
      "- Program development process: using an IDE, interactive style computing, debugging, and documentation.\n",
      "- Basic robotics: robot sensing and control; sensor types, synchronous and asynchronous operations; control paradigms: direct or reactive, Braitenberg style, subsumption style, neural network; behavior design; real-time/embedded control.\n",
      "- Media computation: numbers, sound and music, image: generation, processing, and understanding; gamepad controllers and game playing.\n",
      "- Social implications of computing and robotics.\n",
      "- Computation: history and essentials of algorithms; efficiency; limits of computing; other issues and open problems in computing.\n",
      "\n",
      "For instructors, it should be clear that the above set of concepts provide sufficient coverage of the CS1 topics recommended by the latest ACM/IEEE Curricular guidelines  as well as the guidelines developed for liberal arts degrees in computer science . In many respects the content of the book goes well beyond the recommended CS1 guidelines. It does not explicitly mention recursion or sorting algorithms. We have deliberately chosen to omit these topics. Sorting of lists and other sequential structures is built-in in Python and students will use these to do sorting. We often find that students discover recursion in the course of doing exercises from the text. Rather than provide a separate chapter or a section on recursion, we have left it as a topic to be introduced by the instructor if she/he so chooses. We do use recursion is example programs in Chapter 10. It would also be fairly trivial for instructors to include class discussions of sorting algorithms if they feel so inclined.\n",
      "\n",
      "Further, for instructors, the coverage and sequence of topics in this book will vastly differ from that found in most traditional CS1 texts. We have deliberately taken a *contextual approach* to introduce ideas. The nature of the context, *robots and computers*, has driven the nature, ordering, and sequencing of topics. We have found that this is a more engaging, exciting, and enlightening framework. We hope that you will be able to share this excitement while you are teaching a course based on this material. Further details on how to use this book and additional materials is provided in the Instructor\u2019s manual accompanying this text. Much of this work is an outcome of research conducted under the banner of IPRE specifically for developing a fresh new approach to CS1. We invite you to refer to our project web site (roboteducation.org) and read some of the papers and articles that elaborate much more on the underlying research and its goals.\n",
      "\n",
      "To students, we have taken efforts to make the material engaging and exciting for you. We hope that we have succeeded somewhat in this. This is an open source development project, so we hope that you will take the time to provide valuable feedback, as well as ideas and content for further improving this book. We do hope that you will exploit all the fun learning opportunities provided in this book."
     ]
    },
    {
     "cell_type": "markdown",
     "metadata": {},
     "source": [
      "1. Computing Curricula 2001, ACM Journal on Educational Resources in Computing (JERIC) Vol. 1 ,  No. 3, Fall 2001.\n",
      "2. A Model Curriculum for a Liberal Arts Degree in Computer Science, LACS, ACM JERIC, Vol. 7, No. 2, June 2007.\n"
     ]
    }
   ],
   "metadata": {}
  }
 ]
}