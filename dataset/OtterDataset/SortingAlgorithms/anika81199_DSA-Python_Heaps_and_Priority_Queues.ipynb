{
  "nbformat": 4,
  "nbformat_minor": 0,
  "metadata": {
    "colab": {
      "provenance": []
    },
    "kernelspec": {
      "name": "python3",
      "display_name": "Python 3"
    },
    "language_info": {
      "name": "python"
    }
  },
  "cells": [
    {
      "cell_type": "markdown",
      "source": [
        "## **Min. Heap**"
      ],
      "metadata": {
        "id": "YIchK3dGuylB"
      }
    },
    {
      "cell_type": "code",
      "source": [
        "# Build Min Heap (Heapify)\n",
        "# Time: O(n), Space: O(1)\n",
        "\n",
        "A = [-4, 3, 1, 0, 2, 5, 10, 8, 12, 9, 14, 0]      # not satisfying heap property --> A[i] < A[2i+1] and A[i] < A[2i+2]\n",
        "\n",
        "import heapq    # This module provides an implementation of the heap queue algorithm, also known as the priority queue algorithm (MIN. HEAP)\n",
        "heapq.heapify(A)   # will create a min heap, it only supports min heap.\n",
        "\n",
        "A     # it displays elements from left-to-right for each level"
      ],
      "metadata": {
        "colab": {
          "base_uri": "https://localhost:8080/"
        },
        "id": "82OeUGz3aCUN",
        "outputId": "c5b371f9-4c5b-417f-b913-46f51efb608c"
      },
      "execution_count": 5,
      "outputs": [
        {
          "output_type": "execute_result",
          "data": {
            "text/plain": [
              "[-4, 0, 0, 3, 2, 1, 10, 8, 12, 9, 14, 5]"
            ]
          },
          "metadata": {},
          "execution_count": 5
        }
      ]
    },
    {
      "cell_type": "code",
      "source": [
        "# Heap Push (Insert element)\n",
        "# Time: O(log n)\n",
        "\n",
        "heapq.heappush(A, 4)     # it adds the element at the end of the heap\n",
        "\n",
        "A"
      ],
      "metadata": {
        "colab": {
          "base_uri": "https://localhost:8080/"
        },
        "id": "vP4H_ds4aVSc",
        "outputId": "5554acb2-a42f-495b-a833-780ff7b602f6"
      },
      "execution_count": 6,
      "outputs": [
        {
          "output_type": "execute_result",
          "data": {
            "text/plain": [
              "[-4, 0, 0, 3, 2, 1, 10, 8, 12, 9, 14, 5, 4]"
            ]
          },
          "metadata": {},
          "execution_count": 6
        }
      ]
    },
    {
      "cell_type": "code",
      "source": [
        "# Heap Pop (Extract min)\n",
        "# Time: O(log n)\n",
        "\n",
        "minn = heapq.heappop(A)      # extracts the element at root\n",
        "\n",
        "A, minn    # if we print like this, it prints as a tuple"
      ],
      "metadata": {
        "colab": {
          "base_uri": "https://localhost:8080/"
        },
        "id": "9LX5tMegawZr",
        "outputId": "7dfab7e1-b47b-417a-82e3-5996d724fa54"
      },
      "execution_count": 7,
      "outputs": [
        {
          "output_type": "execute_result",
          "data": {
            "text/plain": [
              "([0, 0, 1, 3, 2, 4, 10, 8, 12, 9, 14, 5], -4)"
            ]
          },
          "metadata": {},
          "execution_count": 7
        }
      ]
    },
    {
      "cell_type": "markdown",
      "source": [
        "**after doing heapify, when we print the heap it is not a sorted array rather it is a heap. But since heap pop gives us the root element which is the min element of the heap, using thsi function we get a sorted array!**"
      ],
      "metadata": {
        "id": "IrRfFOjHy72b"
      }
    },
    {
      "cell_type": "code",
      "source": [
        "# Heap Sort  (BEST SORTING ALGORITHM)\n",
        "# Time: O(n log n), Space: O(n)\n",
        "# NOTE: O(1) Space is possible via swapping, but this is complex\n",
        "\n",
        "def heapsort(arr):\n",
        "  heapq.heapify(arr)\n",
        "  n = len(arr)\n",
        "  new_list = [0] * n\n",
        "\n",
        "  for i in range(n):\n",
        "    minn = heapq.heappop(arr)\n",
        "    new_list[i] = minn\n",
        "\n",
        "  return new_list\n",
        "\n",
        "heapsort([1, 3, 5, 7, 9, 2, 4, 6, 8, 0])"
      ],
      "metadata": {
        "colab": {
          "base_uri": "https://localhost:8080/"
        },
        "id": "-THGTJRIbFXK",
        "outputId": "c3487c89-c1cb-427a-aa24-3cc50d54e298"
      },
      "execution_count": 8,
      "outputs": [
        {
          "output_type": "execute_result",
          "data": {
            "text/plain": [
              "[0, 1, 2, 3, 4, 5, 6, 7, 8, 9]"
            ]
          },
          "metadata": {},
          "execution_count": 8
        }
      ]
    },
    {
      "cell_type": "code",
      "source": [
        "# Heap Push Pop: Time: O(log n)\n",
        "\n",
        "heapq.heappushpop(A, 99)\n",
        "A"
      ],
      "metadata": {
        "colab": {
          "base_uri": "https://localhost:8080/"
        },
        "id": "IrqlmOChb31W",
        "outputId": "0319bde1-d00c-496e-da1e-a46e148b414d"
      },
      "execution_count": 9,
      "outputs": [
        {
          "output_type": "execute_result",
          "data": {
            "text/plain": [
              "[0, 2, 1, 3, 9, 4, 10, 8, 12, 99, 14, 5]"
            ]
          },
          "metadata": {},
          "execution_count": 9
        }
      ]
    },
    {
      "cell_type": "code",
      "source": [
        "# Peek at Min: Time O(1)\n",
        "A[0]"
      ],
      "metadata": {
        "colab": {
          "base_uri": "https://localhost:8080/"
        },
        "id": "QfjyPBjieXEH",
        "outputId": "ac35cfce-fa6a-41a2-a210-a917d8497179"
      },
      "execution_count": 11,
      "outputs": [
        {
          "output_type": "execute_result",
          "data": {
            "text/plain": [
              "0"
            ]
          },
          "metadata": {},
          "execution_count": 11
        }
      ]
    },
    {
      "cell_type": "markdown",
      "source": [
        "## **Max. Heap**"
      ],
      "metadata": {
        "id": "33Sh-iHO0rzi"
      }
    },
    {
      "cell_type": "markdown",
      "source": [
        "**We negate the elements of array and then using heapify, much like in optimization when we want to maximize the cost function, we tend to minimize the neagtive of the cost function!**"
      ],
      "metadata": {
        "id": "pwAIS8pX1Xs3"
      }
    },
    {
      "cell_type": "code",
      "source": [
        "# Max Heap\n",
        "\n",
        "B = [-4, 3, 1, 0, 2, 5, 10, 8, 12, 9]\n",
        "n = len(B)\n",
        "\n",
        "for i in range(n):\n",
        "  B[i] = -B[i]\n",
        "\n",
        "heapq.heapify(B)\n",
        "\n",
        "B     # the largest value in original array will become smallest value, and hence will come on top after using heapify"
      ],
      "metadata": {
        "colab": {
          "base_uri": "https://localhost:8080/"
        },
        "id": "V12KgoSHcYuz",
        "outputId": "3956ab71-f859-4cd3-dedd-2b0bd823eff6"
      },
      "execution_count": 14,
      "outputs": [
        {
          "output_type": "execute_result",
          "data": {
            "text/plain": [
              "[-12, -9, -10, -8, -2, -5, -1, -3, 0, 4]"
            ]
          },
          "metadata": {},
          "execution_count": 14
        }
      ]
    },
    {
      "cell_type": "code",
      "source": [
        "largest = - heapq.heappop(B)  # negate the output to get original values of array\n",
        "\n",
        "largest"
      ],
      "metadata": {
        "colab": {
          "base_uri": "https://localhost:8080/"
        },
        "id": "WllXCvXcc2l4",
        "outputId": "16600dd2-098c-4903-8d57-74fbbc2985f3"
      },
      "execution_count": 15,
      "outputs": [
        {
          "output_type": "execute_result",
          "data": {
            "text/plain": [
              "12"
            ]
          },
          "metadata": {},
          "execution_count": 15
        }
      ]
    },
    {
      "cell_type": "code",
      "source": [
        "heapq.heappush(B, -7) # Insert 7 into max heap, you need to insert the negative of the element you want to push in the max heap\n",
        "\n",
        "B"
      ],
      "metadata": {
        "colab": {
          "base_uri": "https://localhost:8080/"
        },
        "id": "i7FOYVGjdlyg",
        "outputId": "3b616c30-ab6f-4de3-9663-527df43a8f40"
      },
      "execution_count": null,
      "outputs": [
        {
          "output_type": "execute_result",
          "data": {
            "text/plain": [
              "[-10, -9, -5, -8, -7, 4, -1, -3, 0, -2]"
            ]
          },
          "metadata": {},
          "execution_count": 14
        }
      ]
    },
    {
      "cell_type": "code",
      "source": [
        "# Build heap from scratch - Time: O(n log n)\n",
        "\n",
        "C = [-5, 4, 2, 1, 7, 0, 3]\n",
        "\n",
        "heap = []\n",
        "\n",
        "for x in C:\n",
        "  heapq.heappush(heap, x)\n",
        "  print(heap, len(heap)) # Check size of heap\n"
      ],
      "metadata": {
        "colab": {
          "base_uri": "https://localhost:8080/"
        },
        "id": "K9KFBfCjeOer",
        "outputId": "9e7daa72-8a37-4f08-aee2-1194b2d163d1"
      },
      "execution_count": 17,
      "outputs": [
        {
          "output_type": "stream",
          "name": "stdout",
          "text": [
            "[-5] 1\n",
            "[-5, 4] 2\n",
            "[-5, 4, 2] 3\n",
            "[-5, 1, 2, 4] 4\n",
            "[-5, 1, 2, 4, 7] 5\n",
            "[-5, 1, 0, 4, 7, 2] 6\n",
            "[-5, 1, 0, 4, 7, 2, 3] 7\n"
          ]
        }
      ]
    },
    {
      "cell_type": "code",
      "source": [
        "# Putting tuples of items on the heap -- imp for leetcode problems\n",
        "\n",
        "D = [5, 4, 3, 5, 4, 3, 5, 5, 4]\n",
        "\n",
        "from collections import Counter\n",
        "\n",
        "counter = Counter(D)\n",
        "\n",
        "counter"
      ],
      "metadata": {
        "colab": {
          "base_uri": "https://localhost:8080/"
        },
        "id": "7i54l3yZifSF",
        "outputId": "a1d63a8f-9e87-44ac-bbc3-20ab71465ad8"
      },
      "execution_count": null,
      "outputs": [
        {
          "output_type": "execute_result",
          "data": {
            "text/plain": [
              "Counter({5: 4, 4: 3, 3: 2})"
            ]
          },
          "metadata": {},
          "execution_count": 21
        }
      ]
    },
    {
      "cell_type": "code",
      "source": [
        "heap = []\n",
        "\n",
        "for k, v in counter.items():\n",
        "  heapq.heappush(heap, (v, k))     # When we try to push a tuple in heap, it first arranges it by v (value) and if there is some kind of tie then it arranges it by k (key)\n",
        "\n",
        "heap"
      ],
      "metadata": {
        "colab": {
          "base_uri": "https://localhost:8080/"
        },
        "id": "3R-IXtgDixvp",
        "outputId": "6d6ee677-c246-44fb-fc1d-2af1d180d14c"
      },
      "execution_count": null,
      "outputs": [
        {
          "output_type": "execute_result",
          "data": {
            "text/plain": [
              "[(2, 3), (4, 5), (3, 4)]"
            ]
          },
          "metadata": {},
          "execution_count": 28
        }
      ]
    }
  ]
}