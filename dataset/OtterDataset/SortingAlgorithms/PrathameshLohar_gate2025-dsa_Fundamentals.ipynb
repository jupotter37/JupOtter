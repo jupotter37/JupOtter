{
 "cells": [
  {
   "cell_type": "markdown",
   "metadata": {},
   "source": [
    "# Syllabus\n",
    "### Programming, Data Structures and Algorithms:\n",
    "Programming in Python, basic data structures:stacks, queues, linked lists, trees, hash tables; \\\n",
    "Search algorithms: linear search and binary search,\\\n",
    "basic sorting algorithms: selection sort, bubble sort and insertion sort;\\\n",
    "divide and conquer: mergesort, quicksort;\\ \n",
    "introduction to graph theory;\\ \n",
    "basic graph algorithms: traversals and shortestpath.\n"
   ]
  },
  {
   "cell_type": "markdown",
   "metadata": {},
   "source": [
    "## Basics of programming"
   ]
  },
  {
   "cell_type": "markdown",
   "metadata": {},
   "source": [
    "#### Data structures "
   ]
  },
  {
   "cell_type": "markdown",
   "metadata": {},
   "source": [
    "1. Stacks\n",
    "\n",
    "LIFO (Last-In-First-Out) \\\n",
    "Operations:\n",
    "- push: Adds an element to the top of the stack.\n",
    "- pop: Removes and returns the element from the top of the stack.\n",
    "- peek: Returns the top element without removing it.   \n",
    "- isEmpty: Checks if the stack is empty."
   ]
  },
  {
   "cell_type": "code",
   "execution_count": 1,
   "metadata": {},
   "outputs": [],
   "source": [
    "class Stack:\n",
    "    def __init__(self):\n",
    "        self.items = []\n",
    "\n",
    "    def push(self, item):\n",
    "        self.items.append(item)\n",
    "\n",
    "    def pop(self):\n",
    "        if not self.isEmpty():\n",
    "            return self.items.pop()\n",
    "\n",
    "    def peek(self):\n",
    "        if not self.isEmpty():\n",
    "            return self.items[-1]\n",
    "\n",
    "    def isEmpty(self):\n",
    "        return len(self.items) == 0"
   ]
  },
  {
   "cell_type": "markdown",
   "metadata": {},
   "source": [
    "2. Queues\n",
    "\n",
    "FIFO (First-In-First-Out) \\\n",
    "Operations:\n",
    "- enqueue: Adds an element to the rear of the queue.\n",
    "- dequeue: Removes and returns the element from the front of the queue.\n",
    "- peek: Returns the front element without removing it.   \n",
    "- isEmpty: Checks if the queue is empty."
   ]
  },
  {
   "cell_type": "code",
   "execution_count": 2,
   "metadata": {},
   "outputs": [],
   "source": [
    "class Queue:\n",
    "    def __init__(self):\n",
    "        self.items = []\n",
    "\n",
    "    def enqueue(self, item):\n",
    "        self.items.insert(0, item)\n",
    "\n",
    "    def dequeue(self):\n",
    "        if not self.isEmpty():\n",
    "            return self.items.pop()\n",
    "\n",
    "    def peek(self):\n",
    "        if not self.isEmpty():\n",
    "            return self.items[-1]\n",
    "\n",
    "    def isEmpty(self):\n",
    "        return len(self.items) == 0"
   ]
  },
  {
   "cell_type": "markdown",
   "metadata": {},
   "source": [
    "3. Linked Lists\n",
    "\n",
    "Nodes connected in a sequence. \\\n",
    "Operations:\n",
    "- insert: Adds a node at a specific position.\n",
    "- delete: Removes a node at a specific position.\n",
    "- search: Finds a node with a given value.\n",
    "- traverse: Iterates through the list."
   ]
  },
  {
   "cell_type": "code",
   "execution_count": null,
   "metadata": {},
   "outputs": [
    {
     "name": "stdout",
     "output_type": "stream",
     "text": [
      "Created Linked List: \n",
      "30 20 10 \n",
      "Appended 40 to the list: \n",
      "30 20 10 40 \n",
      "Inserted 50 after 20: \n",
      "30 20 50 10 40 "
     ]
    }
   ],
   "source": [
    "class Node:\n",
    "    def __init__(self, data):\n",
    "        self.data = data\n",
    "        self.next = None\n",
    "\n",
    "class LinkedList:\n",
    "    def __init__(self):\n",
    "        self.head = None\n",
    "\n",
    "    def push(self, new_data):\n",
    "        new_node = Node(new_data)\n",
    "        new_node.next = self.head\n",
    "        self.head = new_node\n",
    "\n",
    "    def insertAfter(self, prev_node, new_data):\n",
    "        if prev_node is None:\n",
    "            print(\"The given previous node must be in LinkedList\")\n",
    "            return\n",
    "        new_node = Node(new_data)\n",
    "        new_node.next = prev_node.next\n",
    "        prev_node.next = new_node\n",
    "\n",
    "    def append(self, new_data):\n",
    "        new_node = Node(new_data)\n",
    "        if self.head is None:\n",
    "            self.head = new_node\n",
    "            return\n",
    "        last = self.head\n",
    "        while (last.next):\n",
    "            last = last.next\n",
    "        last.next = new_node\n",
    "\n",
    "    def printList(self):\n",
    "        temp = self.head\n",
    "        while (temp):\n",
    "            print(temp.data, end=\" \")\n",
    "            temp = temp.next\n",
    "\n",
    "# Create a linked list\n",
    "llist = LinkedList()\n",
    "llist.push(10)\n",
    "llist.push(20)\n",
    "llist.push(30)\n",
    "\n",
    "print(\"Created Linked List: \")\n",
    "llist.printList()\n",
    "\n",
    "llist.append(40)\n",
    "print(\"\\nAppended 40 to the list: \")\n",
    "llist.printList()\n",
    "\n",
    "llist.insertAfter(llist.head.next, 50)\n",
    "print(\"\\nInserted 50 after 20: \")\n",
    "llist.printList()"
   ]
  },
  {
   "cell_type": "markdown",
   "metadata": {},
   "source": [
    "4. Trees\n",
    "\n",
    "Hierarchical structure with a root node and child nodes.\n",
    "Types: Binary Trees, Binary Search Trees, Heaps, Tries, etc.\n",
    "Operations:\n",
    "insert: Adds a node to the tree.\n",
    "delete: Removes a node from the tree.\n",
    "search: Finds a node with a given value.\n",
    "traverse: Visits each node in a specific order (inorder, preorder, postorder)."
   ]
  },
  {
   "cell_type": "code",
   "execution_count": 3,
   "metadata": {},
   "outputs": [
    {
     "name": "stdout",
     "output_type": "stream",
     "text": [
      "Inorder Traversal of binary tree: \n",
      "4 2 5 1 3 "
     ]
    }
   ],
   "source": [
    "class TreeNode:\n",
    "    def __init__(self, val=0, left=None, right=None):\n",
    "        self.val = val\n",
    "        self.left = left\n",
    "        self.right = right\n",
    "\n",
    "class Tree:\n",
    "    def __init__(self, root=None):\n",
    "        self.root = root\n",
    "\n",
    "    def inorderTraversal(self, root):\n",
    "        if root:\n",
    "            self.inorderTraversal(root.left)\n",
    "            print(root.val, end=\" \")\n",
    "            self.inorderTraversal(root.right)\n",
    "\n",
    "# Create a binary tree\n",
    "root = TreeNode(1)\n",
    "root.left = TreeNode(2)\n",
    "root.right = TreeNode(3)\n",
    "root.left.left = TreeNode(4)\n",
    "root.left.right = TreeNode(5)\n",
    "\n",
    "tree = Tree(root)\n",
    "print(\"Inorder Traversal of binary tree: \")\n",
    "tree.inorderTraversal(root)"
   ]
  },
  {
   "cell_type": "markdown",
   "metadata": {},
   "source": [
    "5. Hash Tables\n",
    "\n",
    "Stores key-value pairs.\n",
    "Uses a hash function to map keys to indices in an array.\n",
    "Operations:\n",
    "insert: Adds a key-value pair.\n",
    "delete: Removes a key-value pair.\n",
    "search: Finds the value associated with a given key."
   ]
  },
  {
   "cell_type": "code",
   "execution_count": 5,
   "metadata": {},
   "outputs": [
    {
     "name": "stdout",
     "output_type": "stream",
     "text": [
      "banana\n"
     ]
    }
   ],
   "source": [
    "class HashTable:\n",
    "    def __init__(self, size):\n",
    "        self.size = size\n",
    "        self.table = [None] * size\n",
    "\n",
    "    def hash_function(self, key):\n",
    "        return key % self.size\n",
    "\n",
    "    def insert(self, key, value):\n",
    "        index = self.hash_function(key)\n",
    "        self.table[index] = value\n",
    "\n",
    "    def get(self, key):\n",
    "        index = self.hash_function(key)\n",
    "        return self.table[index]\n",
    "\n",
    "# Create a hash table\n",
    "hash_table = HashTable(10)\n",
    "hash_table.insert(1, \"apple\")\n",
    "hash_table.insert(2, \"banana\")\n",
    "hash_table.insert(3, \"cherry\")\n",
    "\n",
    "print(hash_table.get(2))  # Output: banana"
   ]
  },
  {
   "cell_type": "markdown",
   "metadata": {},
   "source": [
    "### Search algorithms"
   ]
  },
  {
   "cell_type": "markdown",
   "metadata": {},
   "source": [
    "1. Linear Search\n",
    "Linear Search is a simple algorithm that checks every element in a list until it finds the target element or reaches the end of the list. It's most useful for unsorted data.\n",
    "\n",
    "Steps:\n",
    "\n",
    "- Start from the first element of the list.\n",
    "- Compare the target element with the current element.\n",
    "- If a match is found, return the index.\n",
    "- If no match is found by the end of the list, return -1 (indicating that the element isn't in the list).\n",
    "\n",
    "Time Complexity: \n",
    "\n",
    "Worst case: O(n), where n is the number of elements in the list. Every element might need to be checked."
   ]
  },
  {
   "cell_type": "code",
   "execution_count": 6,
   "metadata": {},
   "outputs": [
    {
     "name": "stdout",
     "output_type": "stream",
     "text": [
      "Element found at index 2\n"
     ]
    }
   ],
   "source": [
    "def linear_search(arr, target):\n",
    "    # Loop through each element in the list\n",
    "    for i in range(len(arr)):\n",
    "        if arr[i] == target:  # If element matches the target\n",
    "            return i  # Return index of the found element\n",
    "    return -1  # Return -1 if the target isn't found\n",
    "\n",
    "# Example usage:\n",
    "arr = [10, 25, 30, 40, 50]\n",
    "target = 30\n",
    "result = linear_search(arr, target)\n",
    "\n",
    "if result != -1:\n",
    "    print(f\"Element found at index {result}\")\n",
    "else:\n",
    "    print(\"Element not found\")\n"
   ]
  },
  {
   "cell_type": "markdown",
   "metadata": {},
   "source": [
    "2. Binary Search\n",
    "Binary Search is an efficient algorithm for finding an item from a sorted list. It works by repeatedly dividing the search interval in half.\n",
    "\n",
    "Steps:\n",
    "\n",
    "- Start with two pointers (left and right) at the beginning and end of the list.\n",
    "- Find the middle element.\n",
    "- If the middle element is the target, return its index.\n",
    "- If the target is less than the middle element, search the left half.\n",
    "- If the target is greater, search the right half.\n",
    "- Repeat until the target is found or the interval is empty.\n",
    "\n",
    "Time Complexity:\n",
    "\n",
    "Worst case: O(log n), where n is the number of elements in the list. This is because the search space is halved with each iteration."
   ]
  },
  {
   "cell_type": "code",
   "execution_count": 7,
   "metadata": {},
   "outputs": [
    {
     "name": "stdout",
     "output_type": "stream",
     "text": [
      "Element found at index 2\n"
     ]
    }
   ],
   "source": [
    "def binary_search(arr, target):\n",
    "    left, right = 0, len(arr) - 1\n",
    "    \n",
    "    while left <= right:\n",
    "        mid = (left + right) // 2  # Find the middle index\n",
    "        if arr[mid] == target:  # If the middle element is the target\n",
    "            return mid  # Return the index\n",
    "        elif arr[mid] < target:  # If the target is greater, ignore left half\n",
    "            left = mid + 1\n",
    "        else:  # If the target is smaller, ignore right half\n",
    "            right = mid - 1\n",
    "            \n",
    "    return -1  # Return -1 if the target isn't found\n",
    "\n",
    "# Example usage:\n",
    "arr = [10, 25, 30, 40, 50]\n",
    "target = 30\n",
    "result = binary_search(arr, target)\n",
    "\n",
    "if result != -1:\n",
    "    print(f\"Element found at index {result}\")\n",
    "else:\n",
    "    print(\"Element not found\")\n"
   ]
  },
  {
   "cell_type": "markdown",
   "metadata": {},
   "source": [
    "Key Differences:\n",
    "\n",
    "Linear Search is for unsorted lists and has O(n) time complexity. \\\n",
    "Binary Search is for sorted lists and has O(log n) time complexity, which makes it much faster for large lists."
   ]
  },
  {
   "cell_type": "markdown",
   "metadata": {},
   "source": [
    "### Basic Search Algorithms"
   ]
  },
  {
   "cell_type": "markdown",
   "metadata": {},
   "source": [
    "These three algorithms are basic comparison-based sorting techniques. They have similar time complexities but differ in how they work and their efficiency for different data sets."
   ]
  },
  {
   "cell_type": "markdown",
   "metadata": {},
   "source": [
    "1. Selection Sort\n",
    "\n",
    "Selection Sort works by repeatedly finding the minimum element (or maximum, depending on sorting order) from the unsorted part of the list and swapping it with the first unsorted element.\n",
    "\n",
    "Steps:\n",
    "\n",
    "- Start with the entire list as unsorted.\n",
    "- Find the smallest element in the unsorted part of the list.\n",
    "- Swap this smallest element with the first element of the unsorted part.\n",
    "- Repeat this process for the remaining unsorted part.\n",
    "- Once the entire list is sorted, the algorithm stops.\n",
    "\n",
    "Time Complexity:\n",
    "\n",
    "Worst case: O(n²), where n is the number of elements.\n",
    "The algorithm performs n passes and each pass takes O(n) time to find the minimum.\n"
   ]
  },
  {
   "cell_type": "code",
   "execution_count": 8,
   "metadata": {},
   "outputs": [
    {
     "name": "stdout",
     "output_type": "stream",
     "text": [
      "Sorted array: [11, 12, 22, 25, 64]\n"
     ]
    }
   ],
   "source": [
    "def selection_sort(arr):\n",
    "    n = len(arr)\n",
    "    for i in range(n):\n",
    "        min_index = i  # Assume the current position is the smallest\n",
    "        for j in range(i + 1, n):\n",
    "            if arr[j] < arr[min_index]:  # Find the minimum element\n",
    "                min_index = j\n",
    "        # Swap the found minimum element with the first element of the unsorted part\n",
    "        arr[i], arr[min_index] = arr[min_index], arr[i]\n",
    "\n",
    "# Example usage:\n",
    "arr = [64, 25, 12, 22, 11]\n",
    "selection_sort(arr)\n",
    "print(\"Sorted array:\", arr)\n"
   ]
  },
  {
   "cell_type": "markdown",
   "metadata": {},
   "source": [
    "2. Bubble Sort\n",
    "\n",
    "Bubble Sort works by repeatedly stepping through the list, comparing adjacent elements, and swapping them if they are in the wrong order. The pass through the list is repeated until the list is sorted.\n",
    "\n",
    "Steps:\n",
    "\n",
    "- Traverse the list from the beginning to the end.\n",
    "- Compare adjacent elements and swap them if the first is greater than the second.\n",
    "- After each pass, the largest unsorted element is \"bubbled\" to its correct position.\n",
    "- Repeat the process for the unsorted portion of the list.\n",
    "- The algorithm stops when no more swaps are needed.\n",
    "\n",
    "Time Complexity:\n",
    "\n",
    "Worst case: O(n²), where n is the number of elements.\\\n",
    "Best case (if already sorted): O(n) if we optimize the algorithm by checking if any swaps were made during a pass."
   ]
  },
  {
   "cell_type": "code",
   "execution_count": 9,
   "metadata": {},
   "outputs": [
    {
     "name": "stdout",
     "output_type": "stream",
     "text": [
      "Sorted array: [11, 12, 22, 25, 34, 64, 90]\n"
     ]
    }
   ],
   "source": [
    "def bubble_sort(arr):\n",
    "    n = len(arr)\n",
    "    for i in range(n):\n",
    "        swapped = False\n",
    "        for j in range(0, n-i-1):  # Traverse the unsorted portion\n",
    "            if arr[j] > arr[j + 1]:  # If the current element is greater than the next\n",
    "                arr[j], arr[j + 1] = arr[j + 1], arr[j]  # Swap the elements\n",
    "                swapped = True\n",
    "        # If no two elements were swapped in the inner loop, the array is sorted\n",
    "        if not swapped:\n",
    "            break\n",
    "\n",
    "# Example usage:\n",
    "arr = [64, 34, 25, 12, 22, 11, 90]\n",
    "bubble_sort(arr)\n",
    "print(\"Sorted array:\", arr)\n"
   ]
  },
  {
   "cell_type": "markdown",
   "metadata": {},
   "source": [
    "3. Insertion Sort\n",
    "\n",
    "Insertion Sort works by dividing the list into a sorted and an unsorted part. It repeatedly picks the next unsorted element and inserts it into the correct position in the sorted part of the list.\n",
    "\n",
    "Steps:\n",
    "\n",
    "- Start from the second element (because the first is considered already sorted).\n",
    "- Compare the element with the elements in the sorted part of the list.\n",
    "- Shift the larger elements to the right to make space for the element to be inserted.\n",
    "- Insert the element into its correct position.\n",
    "- Repeat this for all unsorted elements.\n",
    "\n",
    "Time Complexity:\n",
    "\n",
    "Worst case: O(n²), where n is the number of elements (when the list is sorted in reverse order).\\\n",
    "Best case: O(n), when the list is already sorted."
   ]
  },
  {
   "cell_type": "markdown",
   "metadata": {},
   "source": [
    "Key Differences:\n",
    "\n",
    "Selection Sort: Finds the minimum element in each pass and swaps it. It performs O(n²) comparisons regardless of whether the list is sorted or not.\\\n",
    "Bubble Sort: Repeatedly swaps adjacent elements. It can be optimized to stop early if the list becomes sorted before all passes are completed.\\\n",
    "Insertion Sort: Builds the sorted list one element at a time by shifting elements. It is efficient for small or nearly sorted lists.\n"
   ]
  },
  {
   "cell_type": "markdown",
   "metadata": {},
   "source": [
    "#### Summary Table:\n",
    "\n",
    "| Algorithm       | Best Time Complexity | Worst Time Complexity | Space Complexity | Description |\n",
    "|-----------------|----------------------|-----------------------|------------------|-------------|\n",
    "| **Selection Sort** | O(n²) | O(n²) | O(1) | Finds the minimum and swaps it in each pass. |\n",
    "| **Bubble Sort** | O(n) (best case with optimization) | O(n²) | O(1) | Repeatedly swaps adjacent elements. |\n",
    "| **Insertion Sort** | O(n) (best case when sorted) | O(n²) | O(1) | Builds a sorted list by inserting elements in their correct place. |\n",
    "\n",
    "These sorting algorithms are good for learning the basics of sorting, but for larger datasets, more advanced algorithms like **Merge Sort** or **Quick Sort** are generally preferred."
   ]
  },
  {
   "cell_type": "markdown",
   "metadata": {},
   "source": [
    "### Divide & Conquer"
   ]
  },
  {
   "cell_type": "markdown",
   "metadata": {},
   "source": [
    "Merge Sort and Quick Sort are divide and conquer algorithms. They are more efficient than simple sorting algorithms like Selection Sort, Bubble Sort, and Insertion Sort, especially for large datasets."
   ]
  },
  {
   "cell_type": "markdown",
   "metadata": {},
   "source": [
    "1. Merge Sort\n",
    "\n",
    "Merge Sort works by dividing the list into smaller sublists until each sublist has only one element. It then merges these sublists back together in the correct order.\n",
    "\n",
    "Steps:\n",
    "\n",
    "- Divide the list into two halves.\n",
    "- Recursively sort each half.\n",
    "- Merge the two sorted halves back together to form a sorted list.\n",
    "\n",
    "Time Complexity:\n",
    "\n",
    "Worst case: O(n log n)\\\n",
    "Best case: O(n log n)\\\n",
    "Space Complexity: O(n) due to the extra space required for the left and right sublists.\\\n",
    "\n",
    "How it works:\n",
    "\n",
    "Divide: The list is divided into smaller sublists recursively until each sublist has one element.\\\n",
    "Conquer: During the merge step, the sublists are combined in sorted order.\n"
   ]
  },
  {
   "cell_type": "code",
   "execution_count": 10,
   "metadata": {},
   "outputs": [
    {
     "name": "stdout",
     "output_type": "stream",
     "text": [
      "Sorted array: [3, 9, 10, 27, 38, 43, 82]\n"
     ]
    }
   ],
   "source": [
    "def merge_sort(arr):\n",
    "    if len(arr) > 1:\n",
    "        mid = len(arr) // 2  # Find the middle point\n",
    "        left_half = arr[:mid]  # Divide the list into two halves\n",
    "        right_half = arr[mid:]\n",
    "\n",
    "        merge_sort(left_half)  # Recursively sort the left half\n",
    "        merge_sort(right_half)  # Recursively sort the right half\n",
    "\n",
    "        i = j = k = 0  # Initialize indices for left, right, and merged list\n",
    "\n",
    "        # Merge the two halves into the original array\n",
    "        while i < len(left_half) and j < len(right_half):\n",
    "            if left_half[i] < right_half[j]:\n",
    "                arr[k] = left_half[i]\n",
    "                i += 1\n",
    "            else:\n",
    "                arr[k] = right_half[j]\n",
    "                j += 1\n",
    "            k += 1\n",
    "\n",
    "        # If there are remaining elements in left_half\n",
    "        while i < len(left_half):\n",
    "            arr[k] = left_half[i]\n",
    "            i += 1\n",
    "            k += 1\n",
    "\n",
    "        # If there are remaining elements in right_half\n",
    "        while j < len(right_half):\n",
    "            arr[k] = right_half[j]\n",
    "            j += 1\n",
    "            k += 1\n",
    "\n",
    "# Example usage:\n",
    "arr = [38, 27, 43, 3, 9, 82, 10]\n",
    "merge_sort(arr)\n",
    "print(\"Sorted array:\", arr)\n"
   ]
  },
  {
   "cell_type": "markdown",
   "metadata": {},
   "source": [
    "2. Quick Sort\n",
    "\n",
    "Quick Sort is another divide-and-conquer algorithm, but it works differently from Merge Sort. It selects a \"pivot\" element from the list and partitions the other elements into two sublists: one containing elements smaller than the pivot and one containing elements greater than the pivot. The sublists are then recursively sorted.\n",
    "\n",
    "Steps:\n",
    "\n",
    "- Choose a pivot element (e.g., the first, last, or middle element).\n",
    "- Partition the array into two parts: elements less than the pivot and elements greater than the pivot.\n",
    "- Recursively apply the same process to the two sublists.\n",
    "- Combine the sorted sublists and pivot back into a sorted list.\n",
    "\n",
    "Time Complexity:\n",
    "\n",
    "Worst case: O(n²) (occurs when the pivot divides the array poorly, such as when the list is already sorted)\\\n",
    "Best case: O(n log n) (when the pivot divides the list into roughly equal halves)\\\n",
    "Space Complexity: O(log n) on average, due to recursion stack space.\\\n",
    "\n",
    "How it works:\n",
    "\n",
    "Divide: The list is divided into two parts around the pivot element.\\\n",
    "Conquer: Recursively sort the two sublists created by partitioning."
   ]
  },
  {
   "cell_type": "code",
   "execution_count": 11,
   "metadata": {},
   "outputs": [
    {
     "name": "stdout",
     "output_type": "stream",
     "text": [
      "Sorted array: [3, 9, 10, 27, 38, 43, 82]\n"
     ]
    }
   ],
   "source": [
    "def quick_sort(arr):\n",
    "    if len(arr) <= 1:\n",
    "        return arr  # Base case: return the array if it has 0 or 1 element\n",
    "\n",
    "    pivot = arr[len(arr) // 2]  # Choose the middle element as pivot\n",
    "    left = [x for x in arr if x < pivot]  # Elements less than pivot\n",
    "    middle = [x for x in arr if x == pivot]  # Elements equal to pivot\n",
    "    right = [x for x in arr if x > pivot]  # Elements greater than pivot\n",
    "\n",
    "    # Recursively apply quick_sort to left and right subarrays\n",
    "    return quick_sort(left) + middle + quick_sort(right)\n",
    "\n",
    "# Example usage:\n",
    "arr = [38, 27, 43, 3, 9, 82, 10]\n",
    "arr = quick_sort(arr)\n",
    "print(\"Sorted array:\", arr)\n"
   ]
  },
  {
   "cell_type": "markdown",
   "metadata": {},
   "source": [
    "#### Key Differences Between Merge Sort and Quick Sort:\n",
    "\n",
    "| Feature                  | Merge Sort                           | Quick Sort                        |\n",
    "|--------------------------|--------------------------------------|-----------------------------------|\n",
    "| **Time Complexity (Best, Worst, Average)** | O(n log n) (best, worst, average) | O(n log n) (average), O(n²) (worst) |\n",
    "| **Space Complexity**      | O(n) (due to extra space for merging) | O(log n) (due to recursion stack) |\n",
    "| **Stable**                | Yes                                  | No                                |\n",
    "| **In-Place**              | No                                   | Yes                               |\n",
    "| **Best for**              | Large datasets with stable sorting needs | Large datasets, when pivoting is done well |\n",
    "\n",
    "---\n",
    "\n",
    "#### **Summary**:\n",
    "\n",
    "- **Merge Sort** is stable, guarantees O(n log n) time complexity, but uses additional space (O(n)) due to recursive division and merging.\n",
    "- **Quick Sort** is in-place (doesn't require extra memory beyond the recursion stack), and while it usually performs O(n log n) time, it can degrade to O(n²) if a poor pivot is consistently chosen.\n",
    "\n",
    "In practice, **Quick Sort** is often faster due to its smaller constant factors, but **Merge Sort** guarantees a more stable and consistent runtime."
   ]
  },
  {
   "cell_type": "markdown",
   "metadata": {},
   "source": [
    "### Introduction to Graph Theory"
   ]
  },
  {
   "cell_type": "markdown",
   "metadata": {},
   "source": [
    "\n",
    "**Graph Theory** is a branch of mathematics that deals with the study of graphs, which are mathematical structures used to model pairwise relations between objects. Graphs are widely used in computer science, biology, social sciences, and many other fields to represent networks, systems, and relationships.\n",
    "\n",
    "#### 1. **What is a Graph?**\n",
    "\n",
    "A **graph** is a collection of nodes (also called vertices) and edges (also called arcs) that connect pairs of nodes. Formally, a graph \\( G \\) is defined as:\n",
    "\n",
    "\\[ G = (V, E) \\]\n",
    "\n",
    "Where:\n",
    "- \\( V \\) is the set of **vertices** (or nodes).\n",
    "- \\( E \\) is the set of **edges** (or links), which are pairs of vertices that are connected.\n",
    "\n",
    "#### 2. **Types of Graphs**\n",
    "\n",
    "- **Undirected Graph**: In an undirected graph, the edges have no direction. That is, if there is an edge between vertices \\( u \\) and \\( v \\), it can be traversed in both directions. \n",
    "\n",
    "  Example: \\( (u, v) \\) is the same as \\( (v, u) \\).\n",
    "\n",
    "- **Directed Graph (Digraph)**: In a directed graph, each edge has a direction. An edge from vertex \\( u \\) to vertex \\( v \\) is distinct from an edge from vertex \\( v \\) to vertex \\( u \\).\n",
    "\n",
    "  Example: \\( (u, v) \\neq (v, u) \\).\n",
    "\n",
    "- **Weighted Graph**: A weighted graph assigns a weight (or cost) to each edge, representing the cost or distance between two nodes.\n",
    "\n",
    "  Example: An edge between vertex \\( u \\) and vertex \\( v \\) might have a weight of 5, which indicates that the cost of traveling from \\( u \\) to \\( v \\) is 5.\n",
    "\n",
    "- **Unweighted Graph**: In an unweighted graph, all edges are considered equal, and no specific cost is assigned to them.\n",
    "\n",
    "- **Complete Graph**: A complete graph is one in which every pair of distinct vertices is connected by an edge.\n",
    "\n",
    "- **Bipartite Graph**: A bipartite graph is one whose vertices can be divided into two disjoint sets such that no two vertices within the same set are adjacent.\n",
    "\n",
    "- **Tree**: A tree is a type of graph that has no cycles and is connected. A tree with \\( n \\) vertices always has \\( n-1 \\) edges.\n",
    "\n",
    "- **Subgraph**: A subgraph is a graph formed from a subset of the vertices and edges of another graph.\n",
    "\n",
    "#### 3. **Basic Terminology**\n",
    "\n",
    "- **Vertex (Node)**: A fundamental unit in a graph, represented as a point or dot.\n",
    "- **Edge (Arc)**: A connection between two vertices, often represented as a line between the vertices.\n",
    "- **Degree of a Vertex**: The number of edges incident to a vertex. In a directed graph, it is divided into:\n",
    "  - **In-degree**: The number of incoming edges.\n",
    "  - **Out-degree**: The number of outgoing edges.\n",
    "- **Path**: A sequence of edges that connect a sequence of vertices.\n",
    "- **Cycle**: A path that starts and ends at the same vertex without repeating any edges or vertices (except the starting/ending vertex).\n",
    "- **Connected Graph**: A graph is connected if there is a path between every pair of vertices. In a directed graph, this means there must be a directed path between every pair of vertices.\n",
    "- **Component**: A connected subgraph of a graph. A graph can have multiple disconnected components.\n",
    "\n",
    "#### 4. **Graph Representation**\n",
    "\n",
    "There are several ways to represent graphs in computer memory:\n",
    "\n",
    "- **Adjacency Matrix**: A 2D array where each element \\( matrix[i][j] \\) represents the presence (and weight, if applicable) of an edge between vertex \\( i \\) and vertex \\( j \\). For an undirected graph, the matrix is symmetric.\n",
    "  \n",
    "  Example (unweighted undirected graph):\n",
    "  \\[\n",
    "  \\begin{bmatrix}\n",
    "  0 & 1 & 1 & 0 \\\\\n",
    "  1 & 0 & 1 & 1 \\\\\n",
    "  1 & 1 & 0 & 1 \\\\\n",
    "  0 & 1 & 1 & 0 \\\\\n",
    "  \\end{bmatrix}\n",
    "  \\]\n",
    "\n",
    "- **Adjacency List**: An array of lists, where each index of the array corresponds to a vertex, and each element in the list is a vertex that is connected to it by an edge. This representation is more space-efficient than the adjacency matrix, especially for sparse graphs.\n",
    "\n",
    "  Example (unweighted undirected graph):\n",
    "  ```\n",
    "  0 -> 1, 2\n",
    "  1 -> 0, 2, 3\n",
    "  2 -> 0, 1, 3\n",
    "  3 -> 1, 2\n",
    "  ```\n",
    "\n",
    "- **Edge List**: A list of all edges in the graph, where each edge is represented as a pair of vertices. This is often used for simpler graph algorithms.\n",
    "\n",
    "  Example:\n",
    "  ```\n",
    "  [(0, 1), (0, 2), (1, 2), (1, 3), (2, 3)]\n",
    "  ```\n",
    "\n",
    "#### 5. **Graph Traversal Algorithms**\n",
    "\n",
    "Graph traversal is the process of visiting all the nodes in a graph. The two main types of graph traversal are:\n",
    "\n",
    "- **Breadth-First Search (BFS)**: \n",
    "  - Starts from a given vertex and explores all its neighbors first before moving to the next level neighbors.\n",
    "  - It is typically implemented using a queue.\n",
    "  - Useful for finding the shortest path in an unweighted graph.\n",
    "  \n",
    "  **Algorithm (BFS)**:\n",
    "  1. Start at a given node and add it to a queue.\n",
    "  2. While the queue is not empty, remove a node, visit it, and add all its unvisited neighbors to the queue.\n",
    "\n",
    "- **Depth-First Search (DFS)**:\n",
    "  - Starts from a given vertex and explores as far as possible along each branch before backtracking.\n",
    "  - It is typically implemented using a stack or recursion.\n",
    "  - Useful for exploring all possibilities in a graph, such as finding connected components.\n",
    "  \n",
    "  **Algorithm (DFS)**:\n",
    "  1. Start at a given node and mark it as visited.\n",
    "  2. Recursively visit all its unvisited neighbors.\n",
    "\n",
    "#### 6. **Graph Algorithms**\n",
    "\n",
    "Several important graph algorithms are used to solve real-world problems:\n",
    "\n",
    "- **Dijkstra's Algorithm**: Finds the shortest path between two vertices in a **weighted graph** with non-negative edge weights.\n",
    "  \n",
    "- **Bellman-Ford Algorithm**: Similar to Dijkstra's but can handle graphs with negative edge weights.\n",
    "  \n",
    "- **Floyd-Warshall Algorithm**: Finds the shortest paths between all pairs of vertices in a graph.\n",
    "\n",
    "- **Kruskal's and Prim's Algorithms**: Find the Minimum Spanning Tree (MST) of a graph, which is a subset of the edges that connects all vertices with the minimum total edge weight.\n",
    "\n",
    "- **Topological Sorting**: A linear ordering of vertices in a Directed Acyclic Graph (DAG) such that for every directed edge \\( u \\to v \\), vertex \\( u \\) comes before \\( v \\).\n",
    "\n",
    "- **Hamiltonian Path/Cycle**: A path that visits each vertex exactly once (Hamiltonian path) or a cycle that visits each vertex exactly once and returns to the starting vertex (Hamiltonian cycle).\n",
    "\n",
    "- **Graph Coloring**: Assigning colors to the vertices such that no two adjacent vertices have the same color. This is used in scheduling problems.\n",
    "\n",
    "#### 7. **Applications of Graph Theory**\n",
    "\n",
    "Graph theory has a wide range of applications in various fields, such as:\n",
    "\n",
    "- **Computer Networks**: Representing connections between computers or devices.\n",
    "- **Social Networks**: Modeling relationships between individuals (nodes) and their interactions (edges).\n",
    "- **Routing and Navigation**: Finding the shortest path between locations (e.g., GPS systems).\n",
    "- **Recommendation Systems**: Suggesting items based on user preferences (nodes as items/users, edges as relationships).\n",
    "- **Biology**: Modeling molecular structures, ecological networks, or protein interactions.\n",
    "- **Search Engines**: Analyzing the link structure of the web (e.g., PageRank algorithm).\n",
    "\n",
    "---\n",
    "\n",
    "#### Conclusion\n",
    "\n",
    "Graph theory is a powerful and versatile mathematical tool for modeling and analyzing relationships in various domains. Its applications range from optimizing networks to studying biological systems and social interactions. Understanding the basics of graphs, traversal algorithms, and related graph algorithms is essential for tackling complex problems in many fields, especially in computer science."
   ]
  },
  {
   "cell_type": "markdown",
   "metadata": {},
   "source": [
    "### Basic Graph Algorithms: Traversals and Shortest Path\n"
   ]
  },
  {
   "cell_type": "markdown",
   "metadata": {},
   "source": [
    "\n",
    "Graph theory provides various algorithms to solve different types of problems, including **traversals** (to visit all vertices) and **shortest path** problems (to find the shortest distance between vertices). Let’s focus on two key categories: **graph traversal algorithms** (BFS and DFS) and **shortest path algorithms** (Dijkstra’s and Bellman-Ford).\n",
    "\n",
    "---\n",
    "\n",
    "#### 1. **Graph Traversal Algorithms**\n",
    "\n",
    "Graph traversal is the process of visiting all the nodes in a graph. The two main types of graph traversal are **Breadth-First Search (BFS)** and **Depth-First Search (DFS)**.\n",
    "\n",
    "##### a) **Breadth-First Search (BFS)**\n",
    "\n",
    "**Breadth-First Search (BFS)** explores a graph level by level, starting from a source vertex and visiting all its neighbors before moving on to the next level neighbors.\n",
    "\n",
    "- **Key Characteristics**:\n",
    "  - Uses a **queue** to keep track of the vertices to visit.\n",
    "  - Guarantees the shortest path in an unweighted graph.\n",
    "  - Typically used in scenarios like finding the shortest path in an unweighted graph, or checking graph connectivity.\n",
    "\n",
    "**Algorithm**:\n",
    "1. Start at a source vertex.\n",
    "2. Mark the source vertex as visited.\n",
    "3. Add the source vertex to a queue.\n",
    "4. While the queue is not empty:\n",
    "   - Dequeue a vertex.\n",
    "   - Visit all its unvisited neighbors, mark them as visited, and enqueue them.\n",
    "\n",
    "\n",
    "\n",
    "##### b) **Depth-First Search (DFS)**\n",
    "\n",
    "**Depth-First Search (DFS)** explores a graph by visiting a vertex and then recursively visiting all its neighbors before backtracking. It explores as far down a branch as possible before moving to the next branch.\n",
    "\n",
    "- **Key Characteristics**:\n",
    "  - Uses a **stack** (or recursion) to keep track of the vertices to visit.\n",
    "  - Can be used for tasks like finding connected components or topological sorting in a directed acyclic graph (DAG).\n",
    "  - Not guaranteed to find the shortest path in an unweighted graph.\n",
    "\n",
    "**Algorithm**:\n",
    "1. Start at a source vertex.\n",
    "2. Mark the source vertex as visited.\n",
    "3. For each unvisited neighbor, recursively visit it (or use a stack).\n",
    "\n",
    "\n",
    "\n",
    "---\n",
    "\n",
    "#### 2. **Shortest Path Algorithms**\n",
    "\n",
    "Graph algorithms that solve **shortest path** problems are widely used in routing, navigation, and network analysis. The two most commonly used shortest-path algorithms are **Dijkstra’s Algorithm** and **Bellman-Ford Algorithm**.\n",
    "\n",
    "##### a) **Dijkstra’s Algorithm**\n",
    "\n",
    "Dijkstra’s Algorithm finds the **shortest path** from a starting vertex to all other vertices in a **weighted graph** (with non-negative edge weights).\n",
    "\n",
    "- **Key Characteristics**:\n",
    "  - Works with **non-negative weights**.\n",
    "  - Uses a **greedy approach**, repeatedly choosing the vertex with the smallest tentative distance.\n",
    "  - Uses a **priority queue** (min-heap) to efficiently get the vertex with the smallest distance.\n",
    "\n",
    "**Algorithm**:\n",
    "1. Initialize the distance of the source vertex to 0 and all other vertices to infinity.\n",
    "2. Mark the source vertex as visited.\n",
    "3. For each unvisited neighbor, update its distance if a shorter path is found.\n",
    "4. Repeat until all vertices are visited.\n",
    "\n",
    "\n",
    "\n",
    "##### b) **Bellman-Ford Algorithm**\n",
    "\n",
    "The **Bellman-Ford Algorithm** also finds the shortest paths from a single source vertex to all other vertices. It can handle graphs with **negative edge weights**, but it cannot handle graphs with **negative weight cycles**.\n",
    "\n",
    "- **Key Characteristics**:\n",
    "  - Works with **negative weights**.\n",
    "  - Can detect **negative weight cycles**.\n",
    "  - Has a **slower time complexity** than Dijkstra’s (O(VE)).\n",
    "\n",
    "**Algorithm**:\n",
    "1. Initialize the distance of the source vertex to 0 and all other vertices to infinity.\n",
    "2. For each edge, relax the edge by checking if a shorter path exists through that edge.\n",
    "3. Repeat the process for \\( V - 1 \\) times (where \\( V \\) is the number of vertices).\n",
    "4. Check for negative weight cycles by relaxing all edges again. If any edge can be relaxed, a negative weight cycle exists.\n",
    "\n",
    "\n",
    "\n",
    "---\n",
    "\n",
    "#### Summary of Graph Algorithms\n",
    "\n",
    "| Algorithm                | Type                  | Time Complexity | Space Complexity | Use Case                                 |\n",
    "|--------------------------|-----------------------|-----------------|------------------|------------------------------------------|\n",
    "| **BFS**                  | Graph Traversal       | O(V + E)        | O(V)             | Shortest path in unweighted graph        |\n",
    "| **DFS**                  | Graph Traversal       | O(V + E)        | O(V)             | Pathfinding, cycle detection, topological sort |\n",
    "| **Dijkstra’s Algorithm** | Shortest Path         | O((V"
   ]
  },
  {
   "cell_type": "markdown",
   "metadata": {},
   "source": [
    "**Python Code (BFS)**:\n"
   ]
  },
  {
   "cell_type": "code",
   "execution_count": 14,
   "metadata": {},
   "outputs": [
    {
     "name": "stdout",
     "output_type": "stream",
     "text": [
      "0 1 2 3 4 5 "
     ]
    }
   ],
   "source": [
    "\n",
    "from collections import deque\n",
    "\n",
    "def bfs(graph, start):\n",
    "    visited = set()  # Keep track of visited vertices\n",
    "    queue = deque([start])  # Queue for BFS\n",
    "\n",
    "    while queue:\n",
    "        vertex = queue.popleft()  # Dequeue the vertex\n",
    "        if vertex not in visited:\n",
    "            print(vertex, end=\" \")  # Visit the vertex\n",
    "            visited.add(vertex)  # Mark as visited\n",
    "\n",
    "            # Enqueue all unvisited neighbors\n",
    "            for neighbor in graph[vertex]:\n",
    "                if neighbor not in visited:\n",
    "                    queue.append(neighbor)\n",
    "\n",
    "# Example graph (adjacency list)\n",
    "graph = {\n",
    "    0: [1, 2],\n",
    "    1: [0, 3, 4],\n",
    "    2: [0, 5],\n",
    "    3: [1],\n",
    "    4: [1],\n",
    "    5: [2]\n",
    "}\n",
    "\n",
    "bfs(graph, 0)  # Start BFS from vertex 0\n"
   ]
  },
  {
   "cell_type": "markdown",
   "metadata": {},
   "source": [
    "**Output**:\n",
    "```\n",
    "0 1 2 3 4 5\n",
    "```"
   ]
  },
  {
   "cell_type": "markdown",
   "metadata": {},
   "source": [
    "**Python Code (DFS)**:"
   ]
  },
  {
   "cell_type": "code",
   "execution_count": null,
   "metadata": {},
   "outputs": [],
   "source": [
    "\n",
    "def dfs(graph, start, visited=None):\n",
    "    if visited is None:\n",
    "        visited = set()  # Keep track of visited vertices\n",
    "    visited.add(start)  # Mark the current vertex as visited\n",
    "    print(start, end=\" \")  # Visit the vertex\n",
    "\n",
    "    # Recur for all unvisited neighbors\n",
    "    for neighbor in graph[start]:\n",
    "        if neighbor not in visited:\n",
    "            dfs(graph, neighbor, visited)\n",
    "\n",
    "# Example graph (adjacency list)\n",
    "graph = {\n",
    "    0: [1, 2],\n",
    "    1: [0, 3, 4],\n",
    "    2: [0, 5],\n",
    "    3: [1],\n",
    "    4: [1],\n",
    "    5: [2]\n",
    "}\n",
    "\n",
    "dfs(graph, 0)  # Start DFS from vertex 0\n",
    "\n"
   ]
  },
  {
   "cell_type": "markdown",
   "metadata": {},
   "source": [
    "\n",
    "**Output**:\n",
    "```\n",
    "0 1 3 4 2 5\n",
    "```"
   ]
  },
  {
   "cell_type": "markdown",
   "metadata": {},
   "source": [
    "**Python Code (Dijkstra’s Algorithm)**:\n"
   ]
  },
  {
   "cell_type": "code",
   "execution_count": null,
   "metadata": {},
   "outputs": [],
   "source": [
    "import heapq\n",
    "\n",
    "def dijkstra(graph, start):\n",
    "    # Initialize distances with infinity and source distance as 0\n",
    "    distances = {vertex: float('infinity') for vertex in graph}\n",
    "    distances[start] = 0\n",
    "\n",
    "    # Priority queue to store (distance, vertex)\n",
    "    priority_queue = [(0, start)]\n",
    "\n",
    "    while priority_queue:\n",
    "        current_distance, current_vertex = heapq.heappop(priority_queue)\n",
    "\n",
    "        # Skip if the current vertex distance is not the shortest\n",
    "        if current_distance > distances[current_vertex]:\n",
    "            continue\n",
    "\n",
    "        # Update the distances for neighbors\n",
    "        for neighbor, weight in graph[current_vertex]:\n",
    "            distance = current_distance + weight\n",
    "            if distance < distances[neighbor]:\n",
    "                distances[neighbor] = distance\n",
    "                heapq.heappush(priority_queue, (distance, neighbor))\n",
    "\n",
    "    return distances\n",
    "\n",
    "# Example graph (adjacency list with weights)\n",
    "graph = {\n",
    "    'A': [('B', 1), ('C', 4)],\n",
    "    'B': [('A', 1), ('C', 2), ('D', 5)],\n",
    "    'C': [('A', 4), ('B', 2), ('D', 1)],\n",
    "    'D': [('B', 5), ('C', 1)]\n",
    "}\n",
    "\n",
    "print(dijkstra(graph, 'A'))  # Start Dijkstra from vertex 'A'\n"
   ]
  },
  {
   "cell_type": "markdown",
   "metadata": {},
   "source": [
    "\n",
    "**Output**:\n",
    "```\n",
    "{'A': 0, 'B': 1, 'C': 3, 'D': 4}\n",
    "```"
   ]
  },
  {
   "cell_type": "markdown",
   "metadata": {},
   "source": [
    "**Python Code (Bellman-Ford Algorithm)**:"
   ]
  },
  {
   "cell_type": "code",
   "execution_count": null,
   "metadata": {},
   "outputs": [],
   "source": [
    "\n",
    "def bellman_ford(graph, start):\n",
    "    # Initialize distances with infinity and source distance as 0\n",
    "    distances = {vertex: float('infinity') for vertex in graph}\n",
    "    distances[start] = 0\n",
    "\n",
    "    # Relax all edges V-1 times\n",
    "    for _ in range(len(graph) - 1):\n",
    "        for u in graph:\n",
    "            for v, weight in graph[u]:\n",
    "                if distances[u] + weight < distances[v]:\n",
    "                    distances[v] = distances[u] + weight\n",
    "\n",
    "    # Check for negative weight cycles\n",
    "    for u in graph:\n",
    "        for v, weight in graph[u]:\n",
    "            if distances[u] + weight < distances[v]:\n",
    "                print(\"Graph contains a negative weight cycle\")\n",
    "                return None\n",
    "\n",
    "    return distances\n",
    "\n",
    "# Example graph (adjacency list with weights, negative edge weight)\n",
    "graph = {\n",
    "    'A': [('B', 1), ('C', 4)],\n",
    "    'B': [('C', 2), ('D', 5)],\n",
    "    'C': [('D', 1)],\n",
    "    'D': [('B', -10)]  # Negative weight cycle\n",
    "}\n",
    "\n",
    "print(bellman_ford(graph, 'A'))  # Start Bellman-Ford from vertex 'A'\n"
   ]
  },
  {
   "cell_type": "markdown",
   "metadata": {},
   "source": [
    "\n",
    "**Output**:\n",
    "```\n",
    "Graph contains a negative weight cycle\n",
    "```"
   ]
  },
  {
   "cell_type": "markdown",
   "metadata": {},
   "source": []
  }
 ],
 "metadata": {
  "kernelspec": {
   "display_name": "Python 3",
   "language": "python",
   "name": "python3"
  },
  "language_info": {
   "codemirror_mode": {
    "name": "ipython",
    "version": 3
   },
   "file_extension": ".py",
   "mimetype": "text/x-python",
   "name": "python",
   "nbconvert_exporter": "python",
   "pygments_lexer": "ipython3",
   "version": "3.12.6"
  }
 },
 "nbformat": 4,
 "nbformat_minor": 2
}
