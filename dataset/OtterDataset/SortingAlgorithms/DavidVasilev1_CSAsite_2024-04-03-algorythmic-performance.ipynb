{
 "cells": [
  {
   "cell_type": "markdown",
   "metadata": {},
   "source": [
    "---\n",
    "- title: Algorythmic Performance\n",
    "- author: david\n",
    "- categories: [Lab Notebook]\n",
    "- tags: [Java]\n",
    "- type: tangibles\n",
    "- week: 29\n",
    "- description: My experience at the performance\n",
    "- toc: True\n",
    "- comments: True\n",
    "- date: 2024-04-03 12:00:00 +0000\n",
    "---"
   ]
  },
  {
   "cell_type": "markdown",
   "metadata": {},
   "source": [
    "## Performance Experience\n",
    "\n",
    "We initially began with the idea of doing something simple like colors of the rainbow, however we went on to brainstorm more complex ideas. These included some ideas with Avatar or some more complex version of sorting trees based on the number of their leaves. We eventually decided on sticking with the number of petals of a flower in order to make it easy to understand for people.\n",
    "\n",
    "Tay and most of period 3 scouted people from CSP to help us with our performance. We first explained to them how the algorithm works and what our ideas were and then we asked them if they had any ideas on how to improve the performance. They suggested some ways to make the performance more easy to understand, like with the use of colors and sorting based on the heights of people. They also helped draw out our prop flowers for the performance, which we as the CSA students focused on figuring out how we were going to do the performance and how we would organize the people.\n",
    "\n",
    "For practices we practiced at Heritage park during the weekend. We weren't able to gather everyone into the practices due to some people being sick and others having to do things for their clubs, but we worked around this. We first practiced in a small group, seeing how we would go through the motions of the sorting algorithm and then deciding what things we would add as extra. We then began to practice using gaps in where we were missing people, which helped us figure out where we were going to stand without the need for everyone in the practice. Before the performance, we were able to practice outside the PAC one last time, helping us make sure that everyone knew what they were doing.\n",
    "\n",
    "Before the performance we advertised our performance a lot on Instagram. Here are the results from that:\n",
    "\n",
    "[Instagram Account](https://www.instagram.com/flower_mergers?igsh=MWQ1ZGUxMzBkMA==)\n",
    "\n",
    "![](/assets/img/post_images/IMG_0838.jpg)\n",
    "![](/assets/img/post_images/IMG_0839.jpg)\n",
    "![](/assets/img/post_images/IMG_0840.jpg)\n",
    "![](/assets/img/post_images/IMG_0841.jpg)\n",
    "![](/assets/img/post_images/IMG_0842.jpg)\n",
    "\n",
    "On our instagram we documented the progress of our practices and this gained traction as people saw it. We also practiced web safety by disallowing comments in order to protect our privacy. Overall we practiced a total of five times, two times Heritage park and two times during school, and once before the performance.\n",
    "\n",
    "Other groups also had interesting performances, such as Rachelina's performance in which she got carried away at the end of the performance. The sorts were interesting to see being performed and made them somewhat easier to understand."
   ]
  }
 ],
 "metadata": {
  "language_info": {
   "name": "python"
  }
 },
 "nbformat": 4,
 "nbformat_minor": 2
}
