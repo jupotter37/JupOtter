{
  "nbformat": 4,
  "nbformat_minor": 0,
  "metadata": {
    "colab": {
      "provenance": [],
      "authorship_tag": "ABX9TyMV5EYr+7cbROjYvV4iYEhR",
      "include_colab_link": true
    },
    "kernelspec": {
      "name": "python3",
      "display_name": "Python 3"
    },
    "language_info": {
      "name": "python"
    }
  },
  "cells": [
    {
      "cell_type": "markdown",
      "metadata": {
        "id": "view-in-github",
        "colab_type": "text"
      },
      "source": [
        "<a href=\"https://colab.research.google.com/github/Thrishankkuntimaddi/Data-Structures-and-Algorithms-Advanced-/blob/main/6%20-%20Sorting.ipynb\" target=\"_parent\"><img src=\"https://colab.research.google.com/assets/colab-badge.svg\" alt=\"Open In Colab\"/></a>"
      ]
    },
    {
      "cell_type": "markdown",
      "source": [
        "# Sorting\n",
        "\n",
        "### Overview of sorting Algorithm\n",
        "\n",
        "1. Binary Array\n",
        "\n",
        "2. Array of three values\n",
        "\n",
        "3. Array of Size n and Small ranged value\n",
        "\n",
        "4. Array of size n and range is of size n^2 or n^3 or closer\n",
        "\n",
        "5. Array of uniformly distributed data over a range\n",
        "\n",
        "6. When memory writes are costly\n",
        "\n",
        "7. When adjacent swaps are allowed\n",
        "\n",
        "8. When array size is small\n",
        "\n",
        "9. When available extra memory is less\n",
        "\n",
        "\n",
        "### General Purpose Sorting Algorithm\n",
        "\n",
        "-> Merge Sort\n",
        "\n",
        "-> Heap Sort\n",
        "\n",
        "-> Quick Sort\n",
        "\n",
        "\n",
        "### Hybrid Algorithm (Used in Algorithm)\n",
        "\n",
        "-> Tim Sort\n",
        "\n",
        "-> Intro Sort"
      ],
      "metadata": {
        "id": "AzH161fztqnu"
      }
    },
    {
      "cell_type": "markdown",
      "source": [
        "# Tail call Elimination in Quick Sort"
      ],
      "metadata": {
        "id": "rCcq2MSJu0BU"
      }
    },
    {
      "cell_type": "code",
      "execution_count": null,
      "metadata": {
        "id": "-Dv5MJJ_tmn8"
      },
      "outputs": [],
      "source": [
        "def partition(arr, l, r):\n",
        "    pivot = arr[r]\n",
        "    i = l - 1\n",
        "\n",
        "    for j in range(l, r):\n",
        "        if arr[j] <= pivot:\n",
        "            i += 1\n",
        "            arr[i], arr[j] = arr[j], arr[i]\n",
        "    arr[i + 1], arr[r] = arr[r], arr[i + 1]\n",
        "\n",
        "    return i + 1\n",
        "\n",
        "def qsort(arr, l, r):\n",
        "  if l < r:\n",
        "    p = partition(arr, l, r)\n",
        "    qsort(arr, l, p)\n",
        "    qsort(arr, p+1, r)\n",
        "\n",
        "# NOTE : No expectation or No returns for the last recursive call that is called as Tail Call function\n",
        "\n",
        "# Tail Call Optimization\n",
        "\n",
        "def qsort(arr, l, r):\n",
        "  while l < r:\n",
        "    p = partition(arr, l, r)\n",
        "    qsort(arr, l, p)\n",
        "    l = p + 1"
      ]
    },
    {
      "cell_type": "markdown",
      "source": [
        "# Kth Smallest Element\n",
        "\n",
        "I/P : [10, 5, 30, 12] ; k = 2\n",
        "\n",
        "O/P : 10\n",
        "\n"
      ],
      "metadata": {
        "id": "KqelH3ejx5pY"
      }
    },
    {
      "cell_type": "code",
      "source": [
        "# Naive Solution\n",
        "\n",
        "def kthsmall(arr, k):\n",
        "  arr.sort()\n",
        "  return arr[k-1]\n",
        "\n",
        "arr = [10, 5, 30, 12]\n",
        "kthsmall(arr, 2)\n",
        "\n",
        "# Time Complexity : O(nlogn)\n",
        "# Auxiliary Space : O(1)"
      ],
      "metadata": {
        "colab": {
          "base_uri": "https://localhost:8080/"
        },
        "id": "F1gSE3w-vnlr",
        "outputId": "42b3b312-f44b-48a6-a85c-c337875bba68"
      },
      "execution_count": null,
      "outputs": [
        {
          "output_type": "execute_result",
          "data": {
            "text/plain": [
              "10"
            ]
          },
          "metadata": {},
          "execution_count": 4
        }
      ]
    },
    {
      "cell_type": "code",
      "source": [
        "# Efficient Solution\n",
        "\n",
        "def lomutoPartition(arr, l, r):\n",
        "    pivot = arr[r]\n",
        "    i = l - 1\n",
        "\n",
        "    for j in range(l, r):\n",
        "        if arr[j] <= pivot:\n",
        "            i += 1\n",
        "            arr[i], arr[j] = arr[j], arr[i]\n",
        "\n",
        "    arr[i + 1], arr[r] = arr[r], arr[i + 1]\n",
        "    return i + 1\n",
        "\n",
        "def kthsmall(arr, k):\n",
        "  l = 0\n",
        "  r = len(arr) - 1\n",
        "\n",
        "  while l <= r:\n",
        "    p = lomutoPartition(arr, l, r)\n",
        "\n",
        "    if p == k - 1:\n",
        "      return arr[p]\n",
        "\n",
        "    elif p > k - 1:\n",
        "      r = p - 1\n",
        "\n",
        "    else:\n",
        "      l = p + 1\n",
        "\n",
        "  return -1\n",
        "\n",
        "arr = [10, 5, 30, 12]\n",
        "kthsmall(arr, 2)\n",
        "\n",
        "# Time Complexity : O(n)\n",
        "# Auxiliary Space : O(1)"
      ],
      "metadata": {
        "colab": {
          "base_uri": "https://localhost:8080/"
        },
        "id": "CenVLW0DySeK",
        "outputId": "a8cda308-74e8-45ef-c9e8-3d94abda4a05"
      },
      "execution_count": null,
      "outputs": [
        {
          "output_type": "execute_result",
          "data": {
            "text/plain": [
              "10"
            ]
          },
          "metadata": {},
          "execution_count": 8
        }
      ]
    },
    {
      "cell_type": "markdown",
      "source": [
        "# Minimum Difference in an Array\n",
        "\n",
        "I/P : arr[] = [1, 8, 12, 5, 18]\n",
        "\n",
        "O/P : 3\n",
        "\n",
        "I/P : arr[] = [8, 15]\n",
        "\n",
        "O/P : 7\n",
        "\n",
        "I/P : arr[] = [10]\n",
        "\n",
        "O/P : INF"
      ],
      "metadata": {
        "id": "kJfaermlEDJh"
      }
    },
    {
      "cell_type": "code",
      "source": [
        "# Naive Solution\n",
        "\n",
        "def minDiff(arr):\n",
        "  res = float(\"inf\")\n",
        "\n",
        "  for i in range(1, len(arr)):\n",
        "    for j in range(i):\n",
        "      res = min(res, abs(arr[i] - arr[j]))\n",
        "\n",
        "  return res\n",
        "\n",
        "arr = [1, 8, 12, 5, 18]\n",
        "minDiff(arr)\n",
        "\n",
        "# Time Complexity : O(n^2)\n",
        "# Auxiliary Space : O(1)"
      ],
      "metadata": {
        "id": "-pPV-ujYzKAR",
        "colab": {
          "base_uri": "https://localhost:8080/"
        },
        "outputId": "eda714d1-fd85-473f-f318-97083cc7fca6"
      },
      "execution_count": null,
      "outputs": [
        {
          "output_type": "execute_result",
          "data": {
            "text/plain": [
              "3"
            ]
          },
          "metadata": {},
          "execution_count": 2
        }
      ]
    },
    {
      "cell_type": "code",
      "source": [
        "# Efficient Solution\n",
        "'''\n",
        "-> Sort the Array\n",
        "-> Compute Difference between adjacent elements\n",
        "-> Return the minimum of values found in step 2\n",
        "'''\n",
        "\n",
        "def minDiff(arr):\n",
        "  res = float(\"inf\")\n",
        "  arr.sort()\n",
        "\n",
        "  for i in range(1, len(arr)):\n",
        "    res = min(res, abs(arr[i] - arr[i - 1]))\n",
        "\n",
        "  return res\n",
        "\n",
        "arr = [1, 8, 12, 5, 18]\n",
        "minDiff(arr)\n",
        "\n",
        "# Time Complexity : O(nlogn)\n",
        "# Auxiliary Space : O(1)"
      ],
      "metadata": {
        "colab": {
          "base_uri": "https://localhost:8080/"
        },
        "id": "r1ugwaA7Ewnj",
        "outputId": "8000120d-983c-4717-ffb1-989f16496b34"
      },
      "execution_count": null,
      "outputs": [
        {
          "output_type": "execute_result",
          "data": {
            "text/plain": [
              "3"
            ]
          },
          "metadata": {},
          "execution_count": 4
        }
      ]
    },
    {
      "cell_type": "markdown",
      "source": [
        "# Chocolate Distribution Problem\n",
        "\n",
        "I/P : arr[] = [7, 3, 2, 4, 9, 12, 56] ; m = 3\n",
        "\n",
        "O/P : 2\n",
        "\n",
        "I/P : arr[] = [3, 4, 1, 9, 56, 7, 9, 12] ; m = 5\n",
        "\n",
        "O/P : 6\n",
        "\n",
        "Idea for the Solution\n",
        "\n",
        "1. Consider every item as minimum one by one\n",
        "\n",
        "2. minimum of all the values is 2"
      ],
      "metadata": {
        "id": "ipAFJo4_FZ7D"
      }
    },
    {
      "cell_type": "code",
      "source": [
        "def minDiff(arr, m):\n",
        "  if m == 0 or len(arr) == 0:\n",
        "    return 0\n",
        "\n",
        "  if len(arr) < m:\n",
        "    return -1\n",
        "\n",
        "  arr.sort()\n",
        "  res = arr[m-1] - arr[0]\n",
        "\n",
        "  for i in range(1, len(arr) - m + 1):\n",
        "    res = min(res, arr[i+m-1] - arr[i])\n",
        "\n",
        "  return res\n",
        "\n",
        "arr = [1, 8, 12, 5, 18]\n",
        "m = 3\n",
        "minDiff(arr, 3)\n",
        "\n",
        "# Time Complexity : O(nlogn)"
      ],
      "metadata": {
        "colab": {
          "base_uri": "https://localhost:8080/"
        },
        "id": "ijVH6PLkFLI0",
        "outputId": "04194a94-9186-4478-a52b-20976381a842"
      },
      "execution_count": null,
      "outputs": [
        {
          "output_type": "execute_result",
          "data": {
            "text/plain": [
              "7"
            ]
          },
          "metadata": {},
          "execution_count": 6
        }
      ]
    },
    {
      "cell_type": "markdown",
      "source": [
        "# Sort an Array with Two Types\n",
        "\n",
        "-> Segregate Positive and Negative\n",
        "\n",
        "I/P : arr[] = [15, 18, -3, -2]\n",
        "\n",
        "O/P : [-3, -2, 15, 18]\n",
        "\n",
        "-> Segregate Even and Odd\n",
        "\n",
        "I/P : arr[] [15, 14, 13, 12]\n",
        "\n",
        "O/P : [14, 12, 15, 13]\n",
        "\n",
        "-> Sort an Binary Array\n",
        "\n",
        "I/P : arr[] = [0, 1, 1, 1, 0]\n",
        "\n",
        "O/P : [0, 0, 1, 1, 1]"
      ],
      "metadata": {
        "id": "mzy5bsc0ITgI"
      }
    },
    {
      "cell_type": "code",
      "source": [
        "def segregatePosNeg(arr):\n",
        "    j = 0\n",
        "\n",
        "    for i in range(len(arr)):\n",
        "        if arr[i] < 0:\n",
        "            arr[i], arr[j] = arr[j], arr[i]\n",
        "            j += 1\n",
        "\n",
        "    return arr\n",
        "\n",
        "arr = [15, 18, -3, -2]\n",
        "print(segregatePosNeg(arr))"
      ],
      "metadata": {
        "colab": {
          "base_uri": "https://localhost:8080/"
        },
        "id": "A_HGzK-gJYq2",
        "outputId": "b5c3a02c-c725-4621-8163-66f0f3d89790"
      },
      "execution_count": null,
      "outputs": [
        {
          "output_type": "stream",
          "name": "stdout",
          "text": [
            "[-3, -2, 15, 18]\n"
          ]
        }
      ]
    },
    {
      "cell_type": "code",
      "source": [
        "def segregateEvenOdd(arr):\n",
        "    j = 0\n",
        "\n",
        "    for i in range(len(arr)):\n",
        "        if arr[i] % 2 == 0:\n",
        "            arr[i], arr[j] = arr[j], arr[i]\n",
        "            j += 1\n",
        "\n",
        "    return arr\n",
        "\n",
        "arr = [15, 14, 13, 12]\n",
        "print(segregateEvenOdd(arr))"
      ],
      "metadata": {
        "colab": {
          "base_uri": "https://localhost:8080/"
        },
        "id": "ZQHG2iO_JiLs",
        "outputId": "3df9c041-4247-41a8-eae6-a38f3f504f7f"
      },
      "execution_count": null,
      "outputs": [
        {
          "output_type": "stream",
          "name": "stdout",
          "text": [
            "[14, 12, 13, 15]\n"
          ]
        }
      ]
    },
    {
      "cell_type": "code",
      "source": [
        "def sortBinaryArray(arr):\n",
        "    j = 0\n",
        "\n",
        "    for i in range(len(arr)):\n",
        "        if arr[i] == 0:\n",
        "            arr[i], arr[j] = arr[j], arr[i]\n",
        "            j += 1\n",
        "\n",
        "    return arr\n",
        "\n",
        "arr = [0, 1, 1, 1, 0]\n",
        "print(sortBinaryArray(arr))"
      ],
      "metadata": {
        "colab": {
          "base_uri": "https://localhost:8080/"
        },
        "id": "QnqTF3uEJvAd",
        "outputId": "af348c6e-28e5-4124-c86b-2b45145ca2dc"
      },
      "execution_count": null,
      "outputs": [
        {
          "output_type": "stream",
          "name": "stdout",
          "text": [
            "[0, 0, 1, 1, 1]\n"
          ]
        }
      ]
    },
    {
      "cell_type": "code",
      "source": [
        "# Naive Solution\n",
        "\n",
        "def sorts(arr):\n",
        "  n = len(arr)\n",
        "  temp = [0] * n\n",
        "  i = 0\n",
        "\n",
        "  for j in range(0, n):\n",
        "    if arr[j] == 0:\n",
        "      temp[i] = arr[j]\n",
        "      i += 1\n",
        "\n",
        "  for j in range(0, n):\n",
        "    if arr[j] == 1:\n",
        "      temp[i] = arr[j]\n",
        "      i += 1\n",
        "\n",
        "  print(temp)\n",
        "\n",
        "arr = [0, 1, 1, 1, 0]\n",
        "sorts(arr)\n",
        "\n",
        "# Time Complexity : O(n)\n",
        "# Space Complexity : O(n)"
      ],
      "metadata": {
        "colab": {
          "base_uri": "https://localhost:8080/"
        },
        "id": "ubKHgM5sG48m",
        "outputId": "37151392-a558-4651-a865-94eaab055725"
      },
      "execution_count": null,
      "outputs": [
        {
          "output_type": "stream",
          "name": "stdout",
          "text": [
            "[0, 0, 1, 1, 1]\n"
          ]
        }
      ]
    },
    {
      "cell_type": "code",
      "source": [
        "# Efficient Solution\n",
        "\n",
        "def sorts(arr):\n",
        "    i, j = 0, len(arr) - 1\n",
        "\n",
        "    while i < j:\n",
        "\n",
        "        while i < j and arr[i] == 0:\n",
        "            i += 1\n",
        "\n",
        "        while i < j and arr[j] == 1:\n",
        "            j -= 1\n",
        "\n",
        "        if i < j:\n",
        "            arr[i], arr[j] = arr[j], arr[i]\n",
        "            i += 1\n",
        "            j -= 1\n",
        "\n",
        "arr = [0, 1, 1, 1, 0]\n",
        "sorts(arr)\n",
        "print(arr)\n",
        "\n",
        "# Time Complexity : O(n)\n",
        "# Space Complexity : O(1)"
      ],
      "metadata": {
        "colab": {
          "base_uri": "https://localhost:8080/"
        },
        "id": "NSjLkdn4J5x6",
        "outputId": "e604c4e4-e3c1-405a-92a7-37ab9f97f251"
      },
      "execution_count": null,
      "outputs": [
        {
          "output_type": "stream",
          "name": "stdout",
          "text": [
            "[0, 0, 1, 1, 1]\n"
          ]
        }
      ]
    },
    {
      "cell_type": "markdown",
      "source": [
        "# Sort an Array with Three Types\n",
        "\n",
        "-> Sort an Array of 0s, 1s, 2s\n",
        "\n",
        "I/P : arr[] = [0, 1, 2, 1, 1, 2]\n",
        "\n",
        "O/P : [0, 1, 1, 1, 2, 2]\n",
        "\n",
        "-> Three way Partitioning\n",
        "\n",
        "I/P : [2, 1, 2, 20, 10, 20, 1] ; pivot = 2\n",
        "\n",
        "O/P : [1, 1, 2, 2, 20, 10, 20]\n",
        "\n",
        "-> Partition Around a Range\n",
        "\n",
        "I/P : [10, 5, 6, 3, 20, 9, 40] ; range = [5, 10]\n",
        "\n",
        "O/P : [3, 5, 6, 9, 10, 20, 40]"
      ],
      "metadata": {
        "id": "61atueGyN3wu"
      }
    },
    {
      "cell_type": "code",
      "source": [
        "# Naive Solution\n",
        "\n",
        "def sortArr(arr):\n",
        "  temp = []\n",
        "\n",
        "  for x in arr:\n",
        "    if x == 0:\n",
        "      temp.append(x)\n",
        "\n",
        "  for x in arr:\n",
        "    if x == 1:\n",
        "      temp.append(x)\n",
        "\n",
        "  for x in arr:\n",
        "    if x == 2:\n",
        "      temp.append(x)\n",
        "\n",
        "  return temp\n",
        "\n",
        "arr = [0, 1, 2, 1, 1, 2]\n",
        "print(sortArr(arr))\n",
        "\n",
        "# Time Complexity : Theta(n)\n",
        "# Space Complexity : O(1)"
      ],
      "metadata": {
        "colab": {
          "base_uri": "https://localhost:8080/"
        },
        "id": "vfyNg9agPpeE",
        "outputId": "e90c40b5-628f-4412-a67e-7a7355904e49"
      },
      "execution_count": null,
      "outputs": [
        {
          "output_type": "stream",
          "name": "stdout",
          "text": [
            "[0, 1, 1, 1, 2, 2]\n"
          ]
        }
      ]
    },
    {
      "cell_type": "code",
      "source": [
        "# Efficient Solution : Dutch National Flag Algorithm\n",
        "\n",
        "def sort012(arr):\n",
        "    low, mid, high = 0, 0, len(arr) - 1\n",
        "\n",
        "    while mid <= high:\n",
        "\n",
        "        if arr[mid] == 0:\n",
        "            arr[low], arr[mid] = arr[mid], arr[low]\n",
        "            low += 1\n",
        "            mid += 1\n",
        "\n",
        "        elif arr[mid] == 1:\n",
        "            mid += 1\n",
        "\n",
        "        else:\n",
        "            arr[high], arr[mid] = arr[mid], arr[high]\n",
        "            high -= 1\n",
        "\n",
        "    return arr\n",
        "\n",
        "arr = [0, 1, 2, 1, 1, 2]\n",
        "print(sort012(arr))\n",
        "\n",
        "# Time Complexity : Theta(n)\n",
        "# Space Complexity : O(1)"
      ],
      "metadata": {
        "colab": {
          "base_uri": "https://localhost:8080/"
        },
        "id": "Kv2SMrJwLe_-",
        "outputId": "3501f7db-d139-4c03-f916-f8ac3c7ba338"
      },
      "execution_count": null,
      "outputs": [
        {
          "output_type": "stream",
          "name": "stdout",
          "text": [
            "[0, 1, 1, 1, 2, 2]\n"
          ]
        }
      ]
    },
    {
      "cell_type": "code",
      "source": [
        "def threeWayPartition(arr, pivot):\n",
        "    low, mid, high = 0, 0, len(arr) - 1\n",
        "\n",
        "    while mid <= high:\n",
        "        if arr[mid] < pivot:\n",
        "            arr[low], arr[mid] = arr[mid], arr[low]\n",
        "            low += 1\n",
        "            mid += 1\n",
        "        elif arr[mid] == pivot:\n",
        "            mid += 1\n",
        "        else:\n",
        "            arr[high], arr[mid] = arr[mid], arr[high]\n",
        "            high -= 1\n",
        "\n",
        "    return arr\n",
        "\n",
        "arr = [2, 1, 2, 20, 10, 20, 1]\n",
        "pivot = 2\n",
        "print(threeWayPartition(arr, pivot))"
      ],
      "metadata": {
        "colab": {
          "base_uri": "https://localhost:8080/"
        },
        "id": "njKriRGWOnOJ",
        "outputId": "51789d69-f977-4350-835b-327d2c14be0b"
      },
      "execution_count": null,
      "outputs": [
        {
          "output_type": "stream",
          "name": "stdout",
          "text": [
            "[1, 1, 2, 2, 20, 10, 20]\n"
          ]
        }
      ]
    },
    {
      "cell_type": "code",
      "source": [
        "def partitionAroundRange(arr, L, U):\n",
        "    less = [x for x in arr if x < L]\n",
        "    middle = [x for x in arr if L <= x <= U]\n",
        "    greater = [x for x in arr if x > U]\n",
        "\n",
        "    return less + middle + greater\n",
        "\n",
        "arr = [1, 2, 10, 5, 6, 3, 20, 9, 40]\n",
        "L, U = 5, 10\n",
        "print(partitionAroundRange(arr, L, U))"
      ],
      "metadata": {
        "colab": {
          "base_uri": "https://localhost:8080/"
        },
        "id": "jvL6JLbDPEkt",
        "outputId": "3e27497a-079e-45b0-f3f4-a39b5da268d0"
      },
      "execution_count": null,
      "outputs": [
        {
          "output_type": "stream",
          "name": "stdout",
          "text": [
            "[1, 2, 3, 10, 5, 6, 9, 20, 40]\n"
          ]
        }
      ]
    },
    {
      "cell_type": "markdown",
      "source": [
        "# Merge Overlapping intervals\n",
        "\n",
        "I/P : [ [1, 3], [2, 4], [5, 7], [6, 8] ]\n",
        "\n",
        "O/P : [ [1, 4], [5, 8] ]\n",
        "\n",
        "I/P : [ [7, 9], [6, 10], [4, 5], [1, 3], [2, 4] ]\n",
        "\n",
        "O/P : [ [1, 5], [6, 10] ]\n",
        "\n",
        "\n",
        "## How to check if Two Intervals Overlap...?\n",
        "\n",
        "### Naive\n",
        "\n",
        "For every interval x, do:\n",
        "\n",
        "1. Check if x overlap with other intervals\n",
        "\n",
        "  - In case of merge\n",
        "\n",
        "    1. Update x\n",
        "    \n",
        "    2. Delete the Other Interval\n",
        "\n",
        "Time : O(n^3)\n",
        "\n",
        "### Efficient Solution\n",
        "\n",
        "1. Sort by start Time, Let the sorted array be: x0, x1,.... xi-1, xi, ..... xn-1\n",
        "\n",
        "2. Let us assume that we have merged till xi [j < i] : m0, m1,..... mj-1, mj\n",
        "\n",
        "Claim: xi cannot merge with m0, m1,.... mj-1\n",
        "\n",
        "Proof :\n",
        "\n",
        "-> xi.start >= mj.start\n",
        "\n",
        "-> mj-1.end < mj.start\n",
        "\n",
        "From the Above two\n",
        "\n",
        "-> xi.start > mj-1.end\n"
      ],
      "metadata": {
        "id": "JL4lceCnQ8B7"
      }
    },
    {
      "cell_type": "code",
      "source": [
        "# Efficient Solution\n",
        "\n",
        "def mergeIntervals(arr):\n",
        "  arr.sort(key=lambda x: x[0])\n",
        "  res = 0\n",
        "\n",
        "  for i in range(1, len(arr)):\n",
        "    if arr[res][1] >= arr[i][0]:\n",
        "      arr[res][1] = max(arr[res][1], arr[i][1])\n",
        "    else:\n",
        "      res = res + 1\n",
        "      arr[res] = arr[i]\n",
        "\n",
        "  for i in range(res + 1):\n",
        "    print(arr[i], end = \" \")\n",
        "\n",
        "arr = [[1, 3], [2, 4], [5, 7], [6, 8]]\n",
        "mergeIntervals(arr)\n",
        "\n",
        "# Time Complexity : O(nlogn)\n",
        "# Auxiliary Space : O(1)"
      ],
      "metadata": {
        "colab": {
          "base_uri": "https://localhost:8080/"
        },
        "id": "CeMlWeZuPKoL",
        "outputId": "395daeef-1b70-4ec4-a10b-3f551fee6113"
      },
      "execution_count": null,
      "outputs": [
        {
          "output_type": "stream",
          "name": "stdout",
          "text": [
            "[1, 4] [5, 8] "
          ]
        }
      ]
    },
    {
      "cell_type": "markdown",
      "source": [
        "# Meeting Maximum Guests\n",
        "\n",
        "I/P : arr[] = [900, 940] ; dep[] = [1000, 1030]\n",
        "\n",
        "O/P : 2\n",
        "\n",
        "I/P : arr[] = [800, 700, 600, 500] ; dep[] = [840, 820, 830, 530]\n",
        "\n",
        "O/P : 3\n",
        "\n",
        "Condition : 000 <= arr[i], dep[] <= 2359\n",
        "\n",
        "### Idea for Efficient Solution\n",
        "\n",
        "Consider all Events in sorted order & count Guests"
      ],
      "metadata": {
        "id": "S08z7D95UWXa"
      }
    },
    {
      "cell_type": "code",
      "source": [
        "def maxGuests(arr, dep):\n",
        "  arr.sort()\n",
        "  dep.sort()\n",
        "\n",
        "  n = len(arr)\n",
        "  i, j = 1, 0\n",
        "  curr, res = 1, 0\n",
        "\n",
        "  while i < n and j < n:\n",
        "    if arr[i] <= dep[j]:\n",
        "      curr += 1\n",
        "      i += 1\n",
        "\n",
        "    else:\n",
        "      curr -= 1\n",
        "      j += 1\n",
        "\n",
        "    res = max(res, curr)\n",
        "\n",
        "  return res\n",
        "\n",
        "arr = [800, 700, 600, 500]\n",
        "dep = [840, 820, 830, 530]\n",
        "print(maxGuests(arr, dep))\n",
        "\n",
        "arr = []\n",
        "dep = []\n",
        "print(maxGuests(arr, dep))\n",
        "\n",
        "\n",
        "# Time Complexity : O(nlogn)"
      ],
      "metadata": {
        "colab": {
          "base_uri": "https://localhost:8080/"
        },
        "id": "pSKz_wOKT4Yb",
        "outputId": "519b3745-f402-4a3e-8ab9-ae8f5106e8c0"
      },
      "execution_count": null,
      "outputs": [
        {
          "output_type": "stream",
          "name": "stdout",
          "text": [
            "3\n",
            "0\n"
          ]
        }
      ]
    },
    {
      "cell_type": "markdown",
      "source": [
        "# Counting Sort\n",
        "\n",
        "A θ(n+k) algorithm to sort elements in range from 0 to k-1\n",
        "\n",
        "I/P : arr[] = [1, 4, 4, 1, 0, 1] ; k = 5\n",
        "\n",
        "O/P : arr[] = [0, 1, 1, 1, 4, 4]\n"
      ],
      "metadata": {
        "id": "lRaAGDoQWsmm"
      }
    },
    {
      "cell_type": "code",
      "source": [
        "def Countingsort(arr, k):\n",
        "  count = [0] * k\n",
        "\n",
        "  for x in arr:\n",
        "    count[x] += 1\n",
        "\n",
        "  index = 0\n",
        "\n",
        "  for i in range(k):\n",
        "    for j in range(count[i]):\n",
        "      arr[index] = i\n",
        "      index += 1\n",
        "\n",
        "arr = [1, 4, 4, 1, 0, 1]\n",
        "k = 5\n",
        "Countingsort(arr, k)\n",
        "print(arr)\n",
        "\n",
        "# Time Complexity : θ(n + k)"
      ],
      "metadata": {
        "colab": {
          "base_uri": "https://localhost:8080/"
        },
        "id": "GVFdvunVVtbM",
        "outputId": "f71a86ae-60fc-4123-b1a0-8b88d10e1216"
      },
      "execution_count": null,
      "outputs": [
        {
          "output_type": "stream",
          "name": "stdout",
          "text": [
            "[0, 1, 1, 1, 4, 4]\n"
          ]
        }
      ]
    },
    {
      "cell_type": "code",
      "source": [
        "'''\n",
        "# Problem with previous Implementation\n",
        "\n",
        "-> Would not work for an array of objects like an array of students to be sorted by marks\n",
        "\n",
        "# Important Points\n",
        "\n",
        "-> Not a comparison based Algorithm\n",
        "-> Time Complexity : θ(n + k)\n",
        "-> Space Complexity : θ(n + k)\n",
        "-> Stable\n",
        "-> used as a sub routine in radix sort\n",
        "'''\n",
        "\n",
        "# Updated Solution\n",
        "\n",
        "def countingSort(arr, k):\n",
        "  output = [0] * len(arr)\n",
        "  count = [0] * k\n",
        "\n",
        "  for x in arr:\n",
        "    count[x] += 1\n",
        "\n",
        "  for i in range(1, k):\n",
        "    count[i] += count[i-1]\n",
        "\n",
        "  for x in reversed(arr):\n",
        "    output[count[x] - 1] = x\n",
        "    count[x] -= 1\n",
        "\n",
        "  for i in range(len(arr)):\n",
        "    arr[i] = output[i]\n",
        "\n",
        "arr = [1, 4, 4, 1, 0, 1]\n",
        "k = 5\n",
        "Countingsort(arr, k)\n",
        "print(arr)\n",
        "\n",
        "# Time Complexity : θ(n + k)\n",
        "# Space Complexity : θ(n + k)\n"
      ],
      "metadata": {
        "colab": {
          "base_uri": "https://localhost:8080/"
        },
        "id": "M4C6MfA9XX3O",
        "outputId": "465a04e3-9f23-4c61-f2e7-1c8acbc3536b"
      },
      "execution_count": null,
      "outputs": [
        {
          "output_type": "stream",
          "name": "stdout",
          "text": [
            "[0, 1, 1, 1, 4, 4]\n"
          ]
        }
      ]
    },
    {
      "cell_type": "code",
      "source": [
        "# Extend the given implementation to work for arbitrary range of size K\n",
        "\n",
        "def countingSort(arr):\n",
        "    min_val = min(arr)\n",
        "    max_val = max(arr)\n",
        "\n",
        "    range_of_elements = max_val - min_val + 1\n",
        "\n",
        "    count = [0] * range_of_elements\n",
        "    output = [0] * len(arr)\n",
        "\n",
        "    for x in arr:\n",
        "        count[x - min_val] += 1\n",
        "\n",
        "    for i in range(1, len(count)):\n",
        "        count[i] += count[i - 1]\n",
        "\n",
        "    for x in reversed(arr):\n",
        "        output[count[x - min_val] - 1] = x\n",
        "        count[x - min_val] -= 1\n",
        "\n",
        "    for i in range(len(arr)):\n",
        "        arr[i] = output[i]\n",
        "\n",
        "arr = [1, -2, 4, 4, -1, 1, 0]\n",
        "countingSort(arr)\n",
        "print(arr)\n",
        "\n",
        "# Time Complexity : θ(n + k)\n",
        "# Space Complexity : θ(n + k)"
      ],
      "metadata": {
        "colab": {
          "base_uri": "https://localhost:8080/"
        },
        "id": "hliuNbUFYfFS",
        "outputId": "536d83ab-0cf9-4ffd-a8f6-49d4a7ec208b"
      },
      "execution_count": null,
      "outputs": [
        {
          "output_type": "stream",
          "name": "stdout",
          "text": [
            "[-2, -1, 0, 1, 1, 4, 4]\n"
          ]
        }
      ]
    },
    {
      "cell_type": "markdown",
      "source": [
        "# Cycle Sort\n",
        "\n",
        "1. A Worst case O(n^2)\n",
        "\n",
        "2. Does minimum memory writes and can be useful for cases where memory writes is costly\n",
        "\n",
        "3. In-place and Not-stable\n",
        "\n",
        "4. Useful to Solve questions like find minimum swaps required to sort an array"
      ],
      "metadata": {
        "id": "SqqSrr_SmhGY"
      }
    },
    {
      "cell_type": "code",
      "source": [
        "def cycleSort(arr):\n",
        "    for cs in range(len(arr) - 1):\n",
        "        item = arr[cs]\n",
        "        pos = cs\n",
        "\n",
        "        for i in range(cs + 1, len(arr)):\n",
        "            if arr[i] < item:\n",
        "                pos += 1\n",
        "\n",
        "        if pos == cs:\n",
        "            continue\n",
        "\n",
        "        while item == arr[pos]: # For duplicates\n",
        "            pos += 1\n",
        "\n",
        "        arr[pos], item = item, arr[pos]\n",
        "\n",
        "        while pos != cs:\n",
        "            pos = cs\n",
        "\n",
        "            for i in range(cs + 1, len(arr)):\n",
        "                if arr[i] < item:\n",
        "                    pos += 1\n",
        "\n",
        "            while item == arr[pos]:\n",
        "                pos += 1\n",
        "\n",
        "            arr[pos], item = item, arr[pos]\n",
        "\n",
        "arr = [30, 40, 50, 10, 20, 50]\n",
        "cycleSort(arr)\n",
        "print(arr)\n",
        "\n",
        "# Time Complexity : O(n²)"
      ],
      "metadata": {
        "id": "IxhAZYZeZ-OU",
        "colab": {
          "base_uri": "https://localhost:8080/"
        },
        "outputId": "0380fe6f-98f1-4ca0-c412-9f683f9ef203"
      },
      "execution_count": 4,
      "outputs": [
        {
          "output_type": "stream",
          "name": "stdout",
          "text": [
            "[10, 20, 30, 40, 50, 50]\n"
          ]
        }
      ]
    },
    {
      "cell_type": "markdown",
      "source": [
        "# Radix Sort\n",
        "\n",
        "319, 212, 6, 8, 100, 50\n",
        "\n",
        "-> Re-writing numbers with leading Zeros\n",
        "\n",
        "319, 212, 006, 008, 100, 050\n",
        "\n",
        "-> Stable Sort according the last digit (Least Significant Digit)\n",
        "\n",
        "100, 050, 212, 006, 008, 319\n",
        "\n",
        "-> Stable Sort according to the middle Digit\n",
        "\n",
        "100, 006, 008, 212, 319, 050\n",
        "\n",
        "-> Stable Sort accorging to most significant Digit\n",
        "\n",
        "006, 008, 050, 100, 212, 319"
      ],
      "metadata": {
        "id": "7otUgMBU9fxq"
      }
    },
    {
      "cell_type": "code",
      "source": [
        "def countingSort(arr, exp):\n",
        "  output = [0] * len(arr)\n",
        "  count = [0] * 10\n",
        "\n",
        "  for i in range(0, len(arr)):\n",
        "    index = (arr[i]//exp) % 10\n",
        "    count[index] += 1\n",
        "\n",
        "  for i in range(1, 10):\n",
        "    count[i] += count[i-1]\n",
        "\n",
        "  i = len(arr) - 1\n",
        "\n",
        "  while i >= 0:\n",
        "    index = (arr[i]//exp) % 10\n",
        "    output[count[index]-1] = arr[i]\n",
        "    count[index] -= 1\n",
        "    i -= 1\n",
        "\n",
        "  for i in range(0, len(arr)):\n",
        "    arr[i] = output[i]\n",
        "\n",
        "def radixSort(arr):\n",
        "  mx = max(arr)\n",
        "  exp = 1\n",
        "\n",
        "  while mx/exp > 1:\n",
        "    countingSort(arr, exp)\n",
        "    exp *= 10\n",
        "\n",
        "arr = [319, 212, 6, 8, 100, 50 ]\n",
        "radixSort(arr)\n",
        "print(arr)\n",
        "\n",
        "# Time Complexity : θ(d * (n+b))\n",
        "# Space Complexity : θ(n + b)"
      ],
      "metadata": {
        "colab": {
          "base_uri": "https://localhost:8080/"
        },
        "id": "dfYvcnPnoHTg",
        "outputId": "7a8e0893-9a66-4e6b-acd2-914dfe698817"
      },
      "execution_count": 6,
      "outputs": [
        {
          "output_type": "stream",
          "name": "stdout",
          "text": [
            "[6, 8, 50, 100, 212, 319]\n"
          ]
        }
      ]
    },
    {
      "cell_type": "markdown",
      "source": [
        "# Bucket Sort\n",
        "\n",
        "-> Consider a Situation where we have numbers uniformly distributed in range from 1 to 10^8\n",
        "\n",
        "-> Consider another situation where we have floating point numbers uniformly distrbuted in range from 0.0 to 1.0\n",
        "\n",
        "I/P : 20, 88, 70, 85, 75, 95, 18, 82, 60 ; Range 0 to 99\n",
        "\n",
        "Step 1 : Scatter\n",
        "\n",
        "-> 00 - 19 : 18\n",
        "\n",
        "-> 20 - 39 : 20\n",
        "\n",
        "-> 40 - 59 :\n",
        "\n",
        "-> 60 - 79 : 70, 75, 60\n",
        "\n",
        "-> 80 - 99 : 88, 85, 95, 92\n",
        "\n",
        "Step 2 : Sort Buckets\n",
        "\n",
        "-> 00 - 19 : 18\n",
        "\n",
        "-> 20 - 39 : 20\n",
        "\n",
        "-> 40 - 59 :\n",
        "\n",
        "-> 60 - 79 : 60, 70, 75\n",
        "\n",
        "-> 80 - 99 : 85, 88, 92, 95\n",
        "\n",
        "Step 3 : Join Sorted Buckets\n",
        "\n",
        "-> 18, 20, 60, 70, 75, 85, 88, 92, 95"
      ],
      "metadata": {
        "id": "unoqleHdCcLk"
      }
    },
    {
      "cell_type": "code",
      "source": [
        "def bucketSort(arr, k):\n",
        "  rs = max(arr) + 1\n",
        "\n",
        "  bkt = [[] for i in range(k)]\n",
        "\n",
        "  for x in arr:\n",
        "    i = (k*x)//rs\n",
        "    bkt[i].append(x)\n",
        "\n",
        "  for i in range(k):\n",
        "    bkt[i].sort()\n",
        "\n",
        "  idx = 0\n",
        "\n",
        "  for i in range(k):\n",
        "    for j in range(len(bkt[i])):\n",
        "      arr[idx] = bkt[i][j]\n",
        "      idx += 1\n",
        "\n",
        "arr = [20, 88, 70, 85, 75, 95, 18, 82, 60]\n",
        "k = 20\n",
        "bucketSort(arr, k)\n",
        "print(arr)\n",
        "\n",
        "# Time Complexity : O(n)"
      ],
      "metadata": {
        "colab": {
          "base_uri": "https://localhost:8080/"
        },
        "id": "HuFp5O3fAk7U",
        "outputId": "d95286c7-17bf-4c01-a453-0ab7b646e532"
      },
      "execution_count": 7,
      "outputs": [
        {
          "output_type": "stream",
          "name": "stdout",
          "text": [
            "[18, 20, 60, 70, 75, 82, 85, 88, 95]\n"
          ]
        }
      ]
    },
    {
      "cell_type": "code",
      "source": [],
      "metadata": {
        "id": "2GaGdnC6Egip"
      },
      "execution_count": null,
      "outputs": []
    }
  ]
}