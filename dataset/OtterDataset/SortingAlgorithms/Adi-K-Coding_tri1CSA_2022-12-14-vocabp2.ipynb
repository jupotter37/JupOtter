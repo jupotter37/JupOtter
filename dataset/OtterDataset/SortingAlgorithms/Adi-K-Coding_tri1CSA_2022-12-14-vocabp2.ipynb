{
 "cells": [
  {
   "cell_type": "markdown",
   "metadata": {},
   "source": [
    "# Unit 6-10 Collegeboard topics\n",
    "> Documentation of Units 6-10 \n",
    "\n",
    "- toc: true \n",
    "- badges: true\n",
    "- comments: true\n",
    "- categories: [jupyter]\n",
    "- image: images/chart-preview.png"
   ]
  },
  {
   "cell_type": "markdown",
   "metadata": {},
   "source": [
    "# Scores\n",
    "Unit Number | My Score \n",
    "-- | -- \n",
    "Unit 6 | 1/1\n",
    "Unit 7 | 0.9/1\n",
    "Unit 8 | 1/1 \n",
    "Unit 9 | 1/1\n",
    "Unit 10 | 0.95/1\n",
    "Total | 4.85/5"
   ]
  },
  {
   "cell_type": "markdown",
   "metadata": {},
   "source": [
    "# Links To HWs and Notebooks for each lesson\n",
    "- [Unit 6](https://adi-k-coding.github.io/tri1CSA/jupyter/2022/11/07/array.html)\n",
    "- [Unit 7](https://adi-k-coding.github.io/tri1CSA/jupyter/2022/10/06/arraylists.html)\n",
    "- [Unit 8(Our Lesson)](https://adi-k-coding.github.io/tri1CSA/jupyter/2022/11/29/2Darray.html)\n",
    "- [Unit 9](https://adi-k-coding.github.io/tri1CSA/jupyter/2022/12/12/inheritance09.html)\n",
    "- [Unit 10](https://github.com/Adi-K-Coding/tri1CSA/issues/16)"
   ]
  },
  {
   "cell_type": "markdown",
   "metadata": {},
   "source": [
    "# General Notes\n",
    "- Building on from previous units...\n",
    "Primitives are predefined, lowercase, \"Primitives\", which cannot call methods, are a value, and can be different sizes based on what primitive it is. Non primitives are defined by the coder, are uppercase, \"Reference types\", which can call methods, can be null, and are all the same size\n",
    "\n",
    "---\n",
    "\n",
    "OOP or object oriented programming is a type of programming language. Classes are a template or blueprint from which objects are created. Objects are instances of a class. Methods are a set of code that perform a specific task. Classes in java can have data members, methods, constructors, nested classes, and interfaces.\n",
    "\n",
    "---\n",
    "\n",
    "If/else statements allow you to create a code segment that has checks. If/ElseIf/Else statements can be used to decide different program outputs depending on what the user inputted. Switch statements are also an alternative method to if statements.\n",
    "\n",
    "---\n",
    "\n",
    "Iteration is worth 25% of the test so its pretty important. While loops, for loops, and recursion loops are types of loops. Another example is nested iteration, which can put a loop inside another loop.\n",
    "\n",
    "---\n",
    "\n",
    "Classes are a blueprint for instantiating objects. An object is an instance of a class, a class defines an abstract type, methods are the behaviors you get objects to perform. Constructors create the object, are a special method for object instantiation, default constructor has no arguments. Accessor methods are getters and setters, which allow you to get values of variables and return a copy, or edit a variable.\n",
    "\n",
    "---\n",
    "\n",
    "Common errors when making arrays include bound errors, unfilled and uninitialized arrays, when you allocate, or assign a single array variable, but not the whole array. You can use for loops to iterate through an array, by using array.length."
   ]
  },
  {
   "cell_type": "markdown",
   "metadata": {},
   "source": [
    "# Sorting Algorithms\n",
    "## Bubble Sort"
   ]
  },
  {
   "cell_type": "code",
   "execution_count": 1,
   "metadata": {},
   "outputs": [],
   "source": [
    "void sort(int[] array) {\n",
    "\n",
    "    boolean isInOrder = false;\n",
    "    while (isInOrder == false) {\n",
    "        isInOrder = true;\n",
    "        for (int i = 0; i < array.length - 1; i++) {\n",
    "            if (array[i + 1] < array[i]) {\n",
    "                int temp = array[i];\n",
    "                array[i] = array[i + 1];\n",
    "                array[i + 1] = temp;\n",
    "                isInOrder = false;\n",
    "            }\n",
    "        }\n",
    "    }\n",
    "}"
   ]
  },
  {
   "cell_type": "markdown",
   "metadata": {},
   "source": [
    "## Bogo Sort"
   ]
  },
  {
   "cell_type": "code",
   "execution_count": 3,
   "metadata": {},
   "outputs": [],
   "source": [
    "void sort(int[] array) {\n",
    "    Random rand = new Random();\n",
    "    boolean isInOrder = false;\n",
    "    while (isInOrder == false) {\n",
    "        isInOrder = true;\n",
    "        for (int i = 0; i < array.length - 1; i++) {\n",
    "            if (array[i + 1] < array[i]) {\n",
    "                int rand1 = rand.nextInt(array.length);\n",
    "                int rand2 = rand.nextInt(array.length);\n",
    "                int temp = array[rand1];\n",
    "                array[rand1] = array[rand2];\n",
    "                array[rand2] = temp;\n",
    "                isInOrder = false;\n",
    "            }\n",
    "        }\n",
    "    }\n",
    "}"
   ]
  },
  {
   "cell_type": "markdown",
   "metadata": {},
   "source": [
    "# Sorting Algorithms\n",
    "## Linear Search"
   ]
  },
  {
   "cell_type": "code",
   "execution_count": 4,
   "metadata": {},
   "outputs": [],
   "source": [
    "public static int linearSearch(String[] words, String value) {\n",
    "    //using a for loop to find the value\n",
    "    // in the array. Return the location in the array\n",
    "    // where the value was found.\n",
    "    // If the value is not found in the array, return -1.\n",
    "\n",
    "    for (int i = 0; i < words.length; i++) {\n",
    "        if (words[i] == value) {\n",
    "            return i;\n",
    "        }\n",
    "    }\n",
    "    return -1;\n",
    "}"
   ]
  },
  {
   "cell_type": "markdown",
   "metadata": {},
   "source": [
    "## Binary Search"
   ]
  },
  {
   "cell_type": "code",
   "execution_count": 5,
   "metadata": {},
   "outputs": [],
   "source": [
    "public static int binarySearch(int[] array, int start, int end, int value) {\n",
    "    // if end is greater than or equal to start, then\n",
    "    // do code below\n",
    "    if (end >= start) {\n",
    "        // integer called mid and set it equal\n",
    "        // to the half way point between start and end\n",
    "        int mid = (start + end) / 2;\n",
    "        // 4. if the array element at mid is equal to value\n",
    "        // then return mid\n",
    "        if (mid < array.length && array[mid] == value) {\n",
    "            return mid;\n",
    "        }\n",
    "        // if the array element at mid is greater than value\n",
    "        // then return the value returned from a call to the\n",
    "        // binarySearch method. Pass in start and mid - 1\n",
    "        // for the end variable.\n",
    "        if (mid < array.length && array[mid] > value) {\n",
    "            return binarySearch(array, start, mid - 1, value);\n",
    "        }\n",
    "        // return the value returned from a call to the binarySearch\n",
    "        // method. Use mid + 1 as the start, and pass in end.\n",
    "        return binarySearch(array, mid + 1, end, value);\n",
    "\n",
    "    }\n",
    "    // else return -1 because the value was not found\n",
    "    return -1;\n",
    "}"
   ]
  },
  {
   "cell_type": "markdown",
   "metadata": {},
   "source": [
    "# Recursion\n",
    "## Multiplication"
   ]
  },
  {
   "cell_type": "code",
   "execution_count": 6,
   "metadata": {},
   "outputs": [],
   "source": [
    "public static int recursiveMultiplication(int number, int times) {\n",
    "    //  if times is 1 return number\n",
    "    if (times == 1) {\n",
    "        return number;\n",
    "    } else if (times == 0) {\n",
    "        return 0;\n",
    "    } else {\n",
    "\n",
    "        // else return number + recursionMultiplication(number, times-1)\n",
    "        return number + recursiveMultiplication(number, times - 1);\n",
    "    }\n",
    "\n",
    "}"
   ]
  },
  {
   "cell_type": "markdown",
   "metadata": {},
   "source": [
    "## Division"
   ]
  },
  {
   "cell_type": "code",
   "execution_count": 7,
   "metadata": {},
   "outputs": [],
   "source": [
    "public static int recursiveDivision(int number, int numberToDivideBy) {\n",
    "    if (numberToDivideBy> number) {\n",
    "        return 0;\n",
    "    } else {\n",
    "        return 1 + recursiveDivision(number-numberToDivideBy, numberToDivideBy);\n",
    "    }\n",
    "}"
   ]
  },
  {
   "cell_type": "markdown",
   "metadata": {},
   "source": [
    "## Power"
   ]
  },
  {
   "cell_type": "code",
   "execution_count": 8,
   "metadata": {},
   "outputs": [],
   "source": [
    "public static int recursivePower(int number, int power) {\n",
    "    if (power == 0) {\n",
    "        return 1;\n",
    "    } else {\n",
    "        return number * recursivePower(number, power - 1);\n",
    "    }\n",
    "\n",
    "}"
   ]
  },
  {
   "cell_type": "markdown",
   "metadata": {},
   "source": [
    "# Hashmap"
   ]
  },
  {
   "cell_type": "code",
   "execution_count": 14,
   "metadata": {},
   "outputs": [
    {
     "name": "stdout",
     "output_type": "stream",
     "text": [
      "The square root of 0is0.0\n",
      "The square root of 1is1.0\n",
      "The square root of 2is1.4142135623730951\n",
      "The square root of 3is1.7320508075688772\n",
      "The square root of 4is2.0\n",
      "The square root of 5is2.23606797749979\n",
      "The square root of 6is2.449489742783178\n",
      "The square root of 7is2.6457513110645907\n",
      "The square root of 8is2.8284271247461903\n",
      "The square root of 9is3.0\n",
      "The square root of 10is3.1622776601683795\n",
      "The square root of 11is3.3166247903554\n",
      "The square root of 12is3.4641016151377544\n",
      "The square root of 13is3.605551275463989\n",
      "The square root of 14is3.7416573867739413\n",
      "The square root of 15is3.872983346207417\n",
      "The square root of 16is4.0\n",
      "The square root of 17is4.123105625617661\n",
      "The square root of 18is4.242640687119285\n",
      "The square root of 19is4.358898943540674\n",
      "The square root of 20is4.47213595499958\n",
      "The square root of 21is4.58257569495584\n",
      "The square root of 22is4.69041575982343\n",
      "The square root of 23is4.795831523312719\n",
      "The square root of 24is4.898979485566356\n",
      "The square root of 25is5.0\n",
      "The square root of 26is5.0990195135927845\n",
      "The square root of 27is5.196152422706632\n",
      "The square root of 28is5.291502622129181\n",
      "The square root of 29is5.385164807134504\n",
      "The square root of 30is5.477225575051661\n",
      "The square root of 31is5.5677643628300215\n",
      "The square root of 32is5.656854249492381\n",
      "The square root of 33is5.744562646538029\n",
      "The square root of 34is5.830951894845301\n",
      "The square root of 35is5.916079783099616\n",
      "The square root of 36is6.0\n"
     ]
    }
   ],
   "source": [
    "\n",
    "    // 1. Create a HashMap called roots with Integers for the keys and Doubles for\n",
    "    // the values.\n",
    "    HashMap<Integer, Double> roots = new HashMap<Integer, Double>();\n",
    "    // 2. Using a for-loop, add 500 entries to your HashMap. The key entry will be\n",
    "    // the\n",
    "    // current iteration of the loop (i). The value entry will be the square root of\n",
    "    // i.\n",
    "    for (int i = 0; i < 37; i++) {\n",
    "        roots.put(i, Math.sqrt(i));\n",
    "    }\n",
    "    // 3. Iterate through all the entries in your HashMap displaying the keys with\n",
    "    // their respective\n",
    "    // square roots (values). Use the following format.\n",
    "    for (int i = 0; i < roots.size(); i++) {\n",
    "System.out.println(\"The square root of \"+i+\"is\"+roots.get(i));\n",
    "    }\n",
    "    // The square Root of 0 is 0.0\n",
    "    // The square Root of 1 is 1.0\n",
    "    // The square Root of 2 is 1.4142135623730951\n",
    "    // The square Root of 3 is 1.7320508075688772\n"
   ]
  },
  {
   "cell_type": "markdown",
   "metadata": {},
   "source": [
    "# Inheritance"
   ]
  },
  {
   "cell_type": "code",
   "execution_count": 15,
   "metadata": {},
   "outputs": [
    {
     "name": "stdout",
     "output_type": "stream",
     "text": [
      "Brazil: {group: A continent: South America, jersey color: Yellow}\n",
      "Argentina: {group: A continent: South America, jersey color: Blue}\n",
      "Croatia: {group: A continent: Europe, jersey color: White}\n",
      "Morocco: {group: A continent: Africa, jersey color: Red}\n",
      "France: {group: A continent: Europe, jersey color: Blue}\n"
     ]
    }
   ],
   "source": [
    "public class WorldCup {\n",
    "    private char group;\n",
    "\n",
    "    public WorldCup(char group) {\n",
    "        this.group = group;\n",
    "    }\n",
    "\n",
    "    public char getGroup() {\n",
    "        return group;\n",
    "    }\n",
    "\n",
    "    public class Brazil extends WorldCup {\n",
    "        private String name;\n",
    "        private String continent;\n",
    "        private String jerseyColor;\n",
    "\n",
    "        public Brazil(char group, String name, String continent, String jerseyColor) {\n",
    "            super(group);\n",
    "            this.name = name;\n",
    "            this.continent = continent;\n",
    "            this.jerseyColor = jerseyColor;\n",
    "        }\n",
    "\n",
    "        public String getName() {\n",
    "            return name;\n",
    "        }\n",
    "\n",
    "        @Override\n",
    "        public String toString() {\n",
    "            return name + \": {\" + \"group: \" + group + \" continent: \" + continent + \", jersey color: \" + jerseyColor\n",
    "                    + \"}\";\n",
    "        }\n",
    "\n",
    "    }\n",
    "\n",
    "    public class Argentina extends WorldCup {\n",
    "        private String name;\n",
    "        private String continent;\n",
    "        private String jerseyColor;\n",
    "\n",
    "        public Argentina(char group, String name, String continent, String jerseyColor) {\n",
    "            super(group);\n",
    "            this.name = name;\n",
    "            this.continent = continent;\n",
    "            this.jerseyColor = jerseyColor;\n",
    "        }\n",
    "\n",
    "        public String getName() {\n",
    "            return name;\n",
    "        }\n",
    "\n",
    "        @Override\n",
    "        public String toString() {\n",
    "            return name + \": {\" + \"group: \" + group + \" continent: \" + continent + \", jersey color: \" + jerseyColor\n",
    "                    + \"}\";\n",
    "        }\n",
    "\n",
    "    }\n",
    "\n",
    "    public class Croatia extends WorldCup {\n",
    "        private String name;\n",
    "        private String continent;\n",
    "        private String jerseyColor;\n",
    "\n",
    "        public Croatia(char group, String name, String continent, String jerseyColor) {\n",
    "            super(group);\n",
    "            this.name = name;\n",
    "            this.continent = continent;\n",
    "            this.jerseyColor = jerseyColor;\n",
    "        }\n",
    "\n",
    "        public String getName() {\n",
    "            return name;\n",
    "        }\n",
    "\n",
    "        @Override\n",
    "        public String toString() {\n",
    "            return name + \": {\" + \"group: \" + group + \" continent: \" + continent + \", jersey color: \" + jerseyColor\n",
    "                    + \"}\";\n",
    "        }\n",
    "\n",
    "    }\n",
    "\n",
    "    public class Morocco extends WorldCup {\n",
    "        private String name;\n",
    "        private String continent;\n",
    "        private String jerseyColor;\n",
    "\n",
    "        public Morocco(char group, String name, String continent, String jerseyColor) {\n",
    "            super(group);\n",
    "            this.name = name;\n",
    "            this.continent = continent;\n",
    "            this.jerseyColor = jerseyColor;\n",
    "        }\n",
    "\n",
    "        public String getName() {\n",
    "            return name;\n",
    "        }\n",
    "\n",
    "        @Override\n",
    "        public String toString() {\n",
    "            return name + \": {\" + \"group: \" + group + \" continent: \" + continent + \", jersey color: \" + jerseyColor\n",
    "                    + \"}\";\n",
    "        }\n",
    "\n",
    "    }\n",
    "\n",
    "    public class France extends WorldCup {\n",
    "        private String name;\n",
    "        private String continent;\n",
    "        private String jerseyColor;\n",
    "\n",
    "        public France(char group, String name, String continent, String jerseyColor) {\n",
    "            super(group);\n",
    "            this.name = name;\n",
    "            this.continent = continent;\n",
    "            this.jerseyColor = jerseyColor;\n",
    "        }\n",
    "\n",
    "        public String getName() {\n",
    "            return name;\n",
    "        }\n",
    "\n",
    "        @Override\n",
    "        public String toString() {\n",
    "            return name + \": {\" + \"group: \" + group + \" continent: \" + continent + \", jersey color: \" + jerseyColor\n",
    "                    + \"}\";\n",
    "        }\n",
    "\n",
    "    }\n",
    "\n",
    "    public static void main(String[] args) {\n",
    "        WorldCup Qatar = new WorldCup('A');\n",
    "        Brazil brazilTeam = Qatar.new Brazil('F', \"Brazil\", \"South America\", \"Yellow\");\n",
    "        Argentina argentinaTeam = Qatar.new Argentina('C', \"Argentina\", \"South America\", \"Blue\");\n",
    "        Croatia croatiaTeam = Qatar.new Croatia('F', \"Croatia\", \"Europe\", \"White\");\n",
    "        Morocco moroccoTeam = Qatar.new Morocco('F', \"Morocco\", \"Africa\", \"Red\");\n",
    "        France franceTeam = Qatar.new France('D', \"France\", \"Europe\", \"Blue\");\n",
    "        System.out.println(brazilTeam);\n",
    "        System.out.println(argentinaTeam);\n",
    "        System.out.println(croatiaTeam);\n",
    "        System.out.println(moroccoTeam);\n",
    "        System.out.println(franceTeam);\n",
    "\n",
    "    }\n",
    "\n",
    "}\n",
    "\n",
    "WorldCup.main(null);"
   ]
  }
 ],
 "metadata": {
  "kernelspec": {
   "display_name": "Java",
   "language": "java",
   "name": "java"
  },
  "language_info": {
   "codemirror_mode": "java",
   "file_extension": ".jshell",
   "mimetype": "text/x-java-source",
   "name": "java",
   "pygments_lexer": "java",
   "version": "11.0.16.1+0"
  },
  "orig_nbformat": 4,
  "vscode": {
   "interpreter": {
    "hash": "b0fa6594d8f4cbf19f97940f81e996739fb7646882a419484c72d19e05852a7e"
   }
  }
 },
 "nbformat": 4,
 "nbformat_minor": 2
}
