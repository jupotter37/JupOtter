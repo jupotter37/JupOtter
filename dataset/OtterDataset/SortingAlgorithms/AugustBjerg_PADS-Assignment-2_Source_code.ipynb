{
 "cells": [
  {
   "cell_type": "markdown",
   "metadata": {},
   "source": [
    "Mandatory assignment 2 for the group:\n",
    "\n",
    "Amitai Paz Iversen (S153660)\n",
    "Thomas Rald Kaspersen (S151997)\n",
    "Valdemar Hedegaard (S151940)\n",
    "August Bjerg-Heise (S152153)"
   ]
  },
  {
   "cell_type": "markdown",
   "metadata": {},
   "source": [
    "General assumptions:\n",
    "\n",
    "Euclidian distance is fine (not haversian)\n",
    "Rides are paid by the kilometer (5DKK)\n",
    "Length of rides are assumed to be the manhattan distance between the unlock and the lock "
   ]
  },
  {
   "cell_type": "code",
   "execution_count": 165,
   "metadata": {},
   "outputs": [],
   "source": [
    "import numpy as np\n",
    "\n",
    "price_per_m_DKK = 0.015"
   ]
  },
  {
   "cell_type": "markdown",
   "metadata": {},
   "source": [
    "The code cell below contains the functionality of the scooter class. They focus on the \"anywhere release\" functionality, but must be handed in within a reasonable distance of a station. Shortly put, it does the following:\n",
    "\n",
    "1. Initialization of the scooter class.\n",
    "2. Scooters can be located anywhere globally.\n",
    "3. Checks if the scooter is operational and within a 10-meter radius of the user before unlocking.\n",
    "4. Stores the location before and after the ride to calculate the distance traveled.\n",
    "5. Ensures the scooter is within a reasonable distance to a station before returning.\n",
    "6. Assumes the scooter uses 1% of its battery for every 500 meters driven.\n",
    "\n"
   ]
  },
  {
   "cell_type": "code",
   "execution_count": 166,
   "metadata": {
    "id": "4PFStGFnVeu8"
   },
   "outputs": [],
   "source": [
    "class Scooter:\n",
    "    def __init__(self, scooter_id, position, status='working', station=None):\n",
    "        self.scooter_id = scooter_id # Unique identifier for each scooter\n",
    "        self.status = status # Status of the scooter (scooters are initially working)\n",
    "        self.locked = True # Scooters are initially locked\n",
    "        self.battery = 1 # Battery level of the scooter, with 1 equalling 100% (scooters are initially fully charged)\n",
    "        self.station = station # Station where the scooter is currently located. The scooter is only located on a station when it is charging or being repaired\n",
    "        self.latest_distance_travelled = 10 # Distance travelled by the scooter in the last ride\n",
    "        if isinstance(position, tuple) and len(position) == 2 and all(isinstance(coord, (int, float)) for coord in position): # The position must be a tuple with two numeric values representing global coordinates\n",
    "            self.position = position\n",
    "        else:\n",
    "            raise ValueError(\"Position must be a tuple with two numeric values representing global coordinates.\")\n",
    "    \n",
    "    def __repr__(self):\n",
    "        return f\"Scooter_{self.scooter_id}\"\n",
    "\n",
    "    # Unlock the scooter for renting\n",
    "    def unlock(self, User):\n",
    "        \n",
    "        # check if the user is close enough to the scooter (this distance is equivalent to approximately 10 meters)\n",
    "        distance_to_user = np.linalg.norm(np.array(self.position) - np.array(User.position))\n",
    "        if distance_to_user > 0.0001: \n",
    "            raise ValueError(f\"User is too far from scooter {self.scooter_id}. Please get closer to unlock the scooter.\") # if the user is too far, raise an error\n",
    "        elif self.status != 'working':\n",
    "            raise ValueError(f\"Scooter {self.scooter_id} is not working. Please choose another scooter.\") # check if the scooter is working\n",
    "        else:\n",
    "            self.locked = False # if the scooter is working and nearby, unlock it\n",
    "        \n",
    "        # stores the position of the latest unlock, in order to calculate the distance travelled\n",
    "        self.latest_unlock_position = self.position \n",
    "        \n",
    "        print(f\"Scooter {self.scooter_id} is now unlocked and ready for use.\")\n",
    "\n",
    "    def lock(self, station, position): # Lock the scooter when returned\n",
    "        self.position = position\n",
    "\n",
    "        # check if the scooter is close enough to the station (this distance is equivalent to approximately 500 meters) before it is locked\n",
    "        distance_to_station = np.linalg.norm(np.array(self.position) - np.array(station.position))\n",
    "        if distance_to_station > 0.005: \n",
    "            raise ValueError(f\"Station is too far from scooter {self.scooter_id}. Please get closer to lock the scooter.\")\n",
    "        else:  \n",
    "            self.locked = True\n",
    "    \n",
    "        # calculate the distance travelled (useful to calculate the price of the ride and the battery used)\n",
    "        self.latest_distance_travelled = 100000 * (np.abs(self.latest_unlock_position[0] - self.position[0]) + np.abs(self.latest_unlock_position[1] - self.position[1])) #store the manhattan distance between the latest unlock position and the current position in meters\n",
    "        \n",
    "        self.battery -= 0.01 * 500 * self.latest_distance_travelled # 1% of the battery is used for every 500 meters travelled\n",
    "\n",
    "        # when the ride ends, there is a 1% chance that the scooter will break\n",
    "        if np.random.rand() < 0.01:\n",
    "            self.status = 'broken'\n",
    "            print(f\"Scooter {self.scooter_id} is now broken.\")\n",
    "\n",
    "        print(f\"Scooter {self.scooter_id} is now locked.\")\n",
    "    "
   ]
  },
  {
   "cell_type": "markdown",
   "metadata": {},
   "source": [
    "The cell below defines the station classes. There are two types of stations\n",
    "\n",
    "1. Recharge stations: can recharge scooters\n",
    "2. Repair stations: can recharge and repair scooters\n",
    "\n"
   ]
  },
  {
   "cell_type": "code",
   "execution_count": 167,
   "metadata": {},
   "outputs": [],
   "source": [
    "class RechargeStation:\n",
    "    def __init__(self, station_id, position):\n",
    "        self.station_id = station_id\n",
    "        self.position = position\n",
    "        self.scooters = [] # scooters currently located at the station\n",
    "\n",
    "    def __repr__(self):\n",
    "        return f\"RechargeStation_{self.station_id}\"\n",
    "\n",
    "    # retrieve scooter that is close (within 500m)\n",
    "    def retrieve_scooter(self, scooter):\n",
    "        scooter.position = self.position # set the scooter's position to the station's position\n",
    "        self.scooters.append(scooter) # adds the scooter to the station's list of scooters\n",
    "\n",
    "    def recharge(self, scooter):\n",
    "        if scooter in self.scooters:\n",
    "            scooter.battery = 1 # charge the scooter to 100%\n",
    "\n",
    "    \n",
    "# define a subclass of Station that can also repair scooters\n",
    "class RepairStation(RechargeStation):\n",
    "    # repair a broken scooter that is located at the station\n",
    "    def repair_scooter(self, scooter):\n",
    "        if scooter in self.scooters and scooter.status != 'working':\n",
    "            scooter.status = 'working'\n",
    "        print(f\"Scooter {scooter.scooter_id} repaired at station {self.station_id}.\")\n",
    "\n",
    "    def __repr__(self):\n",
    "        return f\"RepairStation_{self.station_id}\"\n"
   ]
  },
  {
   "cell_type": "markdown",
   "metadata": {},
   "source": [
    "Then, the user is defined. Shortly put, the class can the following:\n",
    "\n",
    "1. Defines a method (sorting algorithm) that finds the nearest scooter. Note that it is conscious choice to not use the sorting algorithm for slot management, since we chose to focus on the \"release anywhere\" function.\n",
    "2. Defines a mthod for finding the nearest station\n",
    "3. Account functionality for paying for trips\n",
    "4. Methods for renting and returning scooters"
   ]
  },
  {
   "cell_type": "code",
   "execution_count": 176,
   "metadata": {},
   "outputs": [],
   "source": [
    "class User:\n",
    "    def __init__(self, membership_id, position):\n",
    "        self.membership_id = membership_id\n",
    "        self.position = position\n",
    "        self.account = 0 # user's account balance for renting bikes. \n",
    "\n",
    "    def __repr__(self):\n",
    "        return f\"User_{self.membership_id}\"\n",
    "\n",
    "    # finds the nearest scooter that is working and charged above 20%\n",
    "    def find_nearest_scooter(self, scooters):\n",
    "        scooters = [scooter for scooter in scooters if scooter.status == 'working' and scooter.battery > 0.1] # remove scooters from the list that are not working or low battery\n",
    "        nearest_scooter = min(scooters, key=lambda scooter: np.linalg.norm(np.array(scooter.position) - np.array(self.position)))  # find the scooter that has the shortest distance to the user\n",
    "        print(f\"Nearest scooter is {nearest_scooter.scooter_id}, which is located at {nearest_scooter.position}.\") # helps the user locate the nearest scooter (since they need to be close to unlock it)\n",
    "        return nearest_scooter\n",
    "    \n",
    "    def find_nearest_station(self, stations):\n",
    "        nearest_station = min(stations, key=lambda station: np.linalg.norm(np.array(station.position) - np.array(self.position)))\n",
    "        return nearest_station\n",
    "    \n",
    "    # method for depositing money into account\n",
    "    def deposit(self, amount):\n",
    "        self.account += amount\n",
    "        print(f\"User {self.membership_id} deposited {amount} into their account.\")\n",
    "\n",
    "    # method for renting a scooter\n",
    "    def rent_scooter(self, scooter):\n",
    "        scooter.unlock(self)\n",
    "        print(f\"Scooter {scooter.scooter_id} rented by user {self.membership_id}.\")\n",
    "\n",
    "    # method for returning a scooter\n",
    "    def return_scooter(self, scooter):\n",
    "        nearest_station = self.find_nearest_station(scooters)\n",
    "        price = price_per_m_DKK * scooter.latest_distance_travelled # calculate the price of the ride\n",
    "        self.account -= price # deduct the price of the ride from the user's account\n",
    "        if self.account < 0:\n",
    "            raise ValueError(\"Insufficient funds. Please deposit more money to your account.\")\n",
    "        scooter.lock(nearest_station, self.position)\n",
    "        print(f\"Scooter {scooter.scooter_id} returned by user {self.membership_id}. Total price is {price_per_m_DKK * scooter.latest_distance_travelled:.2f} DKK and total distance travelled was {scooter.latest_distance_travelled:.1f} meters.\")"
   ]
  },
  {
   "cell_type": "markdown",
   "metadata": {},
   "source": [
    "To test the flow, the subscirbers, stations and bikes are initiated. To keep the geographical scope managable, every instance is instantiated to be cover a 5*5 km square around copenhagen city centre."
   ]
  },
  {
   "cell_type": "code",
   "execution_count": 177,
   "metadata": {},
   "outputs": [
    {
     "name": "stdout",
     "output_type": "stream",
     "text": [
      "scooters: 5000\n",
      "stations: 100\n",
      "users: 10000\n"
     ]
    }
   ],
   "source": [
    "# random seed for reproducibility\n",
    "np.random.seed(69)\n",
    "\n",
    "#Setting the geographic constraints for the simulation:\n",
    "max_longitude = 12.6105\n",
    "min_longitude = 12.5205\n",
    "max_latitude = 55.7130\n",
    "min_latitude = 55.6388\n",
    "\n",
    "# Initialize the list of stations, stations and users\n",
    "stations = []\n",
    "scooters = []\n",
    "users = []\n",
    "\n",
    "# Define number of recharge and repair stations\n",
    "num_recharge_stations = 90\n",
    "num_repair_stations = 10\n",
    "num_scooters = 5000\n",
    "num_users = 10000\n",
    "\n",
    "# Instantiate 90 recharge stations with readable names\n",
    "for i in range(num_recharge_stations):\n",
    "    station = RechargeStation(\n",
    "        station_id= i+1,\n",
    "        position=(np.random.uniform(min_longitude, max_longitude), np.random.uniform(min_latitude, max_latitude))\n",
    "    )\n",
    "    stations.append(station)\n",
    "\n",
    "# Instantiate 10 repair stations with readable names\n",
    "for i in range(num_repair_stations):\n",
    "    station = RepairStation(\n",
    "        station_id= i+1,\n",
    "        position=(np.random.uniform(min_longitude, max_longitude), np.random.uniform(min_latitude, max_latitude))\n",
    "    )\n",
    "    stations.append(station)\n",
    "\n",
    "# Instantiate 5000 scooters with readable names\n",
    "for i in range(num_scooters):\n",
    "    scooter = Scooter(\n",
    "        scooter_id = i+1,\n",
    "        position=(np.random.uniform(min_longitude, max_longitude), np.random.uniform(min_latitude, max_latitude)),\n",
    "    )\n",
    "    scooters.append(scooter)\n",
    "\n",
    "# Instantiate 10000 users with readable names\n",
    "for i in range(num_users):\n",
    "    user = User(\n",
    "        membership_id = i+1,\n",
    "        position=(np.random.uniform(min_longitude, max_longitude), np.random.uniform(min_latitude, max_latitude))\n",
    "    )\n",
    "    users.append(user)\n",
    "\n",
    "# Print the number of scooters, stations and users to check  \n",
    "print(f\"scooters: {len(scooters)}\\nstations: {len(stations)}\\nusers: {len(users)}\")"
   ]
  },
  {
   "cell_type": "code",
   "execution_count": 178,
   "metadata": {},
   "outputs": [
    {
     "name": "stdout",
     "output_type": "stream",
     "text": [
      "User 1 deposited 100 into their account.\n",
      "Nearest scooter is 1512, which is located at (12.590344866779303, 55.687068968777915).\n",
      "Scooter 1512 is now unlocked and ready for use.\n",
      "Scooter 1512 rented by user 1.\n",
      "scooter is located at (12.59437977960228, 55.64582180142918)\n",
      "scooter is now located at (12.592514543113687, 55.67124081527576)\n",
      "Scooter 1512 is now locked.\n",
      "Scooter 1512 returned by user 1. Total price is 27.00 DKK and total distance travelled was 1799.8 meters.\n"
     ]
    }
   ],
   "source": [
    "# Select a user and a scooter for the demonstration\n",
    "demo_user = users[0]  # Selecting the first user\n",
    "demo_scooter = scooters[0]  # Selecting the first scooter\n",
    "\n",
    "# User deposits money into their account\n",
    "demo_user.deposit(100)  # Deposit 100 DKK\n",
    "\n",
    "# User finds the nearest scooter\n",
    "nearest_scooter = demo_user.find_nearest_scooter(scooters)\n",
    "\n",
    "# if scooter is too far away, user moves to the scooter\n",
    "if np.linalg.norm(np.array(nearest_scooter.position) - np.array(demo_user.position)) > 0.0001:\n",
    "    demo_user.position = nearest_scooter.position\n",
    "\n",
    "# User rents (unlocks) the nearest scooter\n",
    "demo_user.rent_scooter(nearest_scooter)\n",
    "\n",
    "# User moves to a new random position (simulating a ride)\n",
    "print(f\"scooter is located at {demo_scooter.position}\")\n",
    "new_position = (np.random.uniform(min_longitude, max_longitude), np.random.uniform(min_latitude, max_latitude))\n",
    "demo_user.position = new_position\n",
    "demo_scooter.position = new_position\n",
    "print(f\"scooter is now located at {demo_scooter.position}\")\n",
    "\n",
    "# User returns (locks) the scooter at the new position\n",
    "demo_user.return_scooter(nearest_scooter)\n"
   ]
  },
  {
   "cell_type": "code",
   "execution_count": null,
   "metadata": {
    "vscode": {
     "languageId": "coffeescript"
    }
   },
   "outputs": [],
   "source": []
  }
 ],
 "metadata": {
  "colab": {
   "provenance": []
  },
  "kernelspec": {
   "display_name": "Python 3",
   "name": "python3"
  },
  "language_info": {
   "codemirror_mode": {
    "name": "ipython",
    "version": 3
   },
   "file_extension": ".py",
   "mimetype": "text/x-python",
   "name": "python",
   "nbconvert_exporter": "python",
   "pygments_lexer": "ipython3",
   "version": "3.11.9"
  }
 },
 "nbformat": 4,
 "nbformat_minor": 0
}
