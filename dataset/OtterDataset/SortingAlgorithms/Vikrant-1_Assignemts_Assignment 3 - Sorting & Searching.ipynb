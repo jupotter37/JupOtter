{
 "cells": [
  {
   "cell_type": "markdown",
   "metadata": {},
   "source": [
    "## Assignment 3 - Sorting & Searching"
   ]
  },
  {
   "cell_type": "markdown",
   "metadata": {},
   "source": [
    "----\n",
    "## Self Study 📖\n",
    "- VS Code shortcuts\n",
    "- Windows shortcuts \n",
    "----"
   ]
  },
  {
   "cell_type": "markdown",
   "metadata": {},
   "source": [
    "# Tasks 🏋️‍♀️"
   ]
  },
  {
   "cell_type": "markdown",
   "metadata": {},
   "source": [
    "-----\n",
    "❓ Understand the following sort algorithms and write the sorting algorithms & the respective implementations to sort a list in `descending(DESC)` order. \n",
    "- Insertion sort\n",
    "- Merge sort\n",
    "- Bubble sort \n",
    "\n",
    "Please write each algorithm in a separate cell."
   ]
  },
  {
   "cell_type": "code",
   "execution_count": 2,
   "metadata": {},
   "outputs": [
    {
     "data": {
      "text/plain": [
       "[10, 7, 5, 5, 3, 3, 2, 2, 1]"
      ]
     },
     "execution_count": 2,
     "metadata": {},
     "output_type": "execute_result"
    }
   ],
   "source": [
    "# Insertion sort algorithm\n",
    "\n",
    "\"\"\"\n",
    "1. we have two parts in array sorted and unsorted . \n",
    "2. Intially index 0 is considered sorted subarray and other is unsorted part.\n",
    "3. we store the arr[i] in temp variable and  compare the arr[i] item with sorted part and  \n",
    "   assign \"arr[j+1] = arr[j]\" if j >= 0 and temp < arr[j] and j should decrease by 1.  ----> for accending \n",
    "   ----> for decsending  temp > arr[j]\n",
    "4. if above condition is false. arr[j+1] = temp ---> correct position in sub sorted array.\n",
    "\"\"\"\n",
    "\n",
    "# time Complexity -> o(n2)\n",
    "# space Complexity -> o(1) \n",
    "\n",
    "# Insertion sort code\n",
    "def insertionSort(arr):\n",
    "    for i in range(1,len(arr)):\n",
    "        temp = arr[i]\n",
    "        j = i-1\n",
    "        while j >= 0 and temp > arr[j]:\n",
    "            arr[j+1] = arr[j]\n",
    "            j -=1\n",
    "        arr[j+1] = temp\n",
    "    return arr\n",
    "\n",
    "sampleInput1 = ['b','a','d','c']\n",
    "sampleInput2 = [1,2,5,3,7,5,2,10,3]\n",
    "\n",
    "insertionSort(sampleInput2)\n",
    "\n",
    "\n",
    "\n"
   ]
  },
  {
   "cell_type": "code",
   "execution_count": 33,
   "metadata": {},
   "outputs": [
    {
     "data": {
      "text/plain": [
       "[23, 10, 8, 7, 5, 4, 2, 1]"
      ]
     },
     "execution_count": 33,
     "metadata": {},
     "output_type": "execute_result"
    }
   ],
   "source": [
    "# Merge sort algorithm\n",
    "\n",
    "\"\"\"\n",
    "    Time Complexity -> o(nlog(n))\n",
    "    space Complexity -> o(n)\n",
    "\n",
    "1. we divide the array two two halfs.\n",
    "2. until it reach to 1 elements recursion .\n",
    "3. recursion call is be call --> first call left hand side until it reach to 1 element \n",
    "  and then rigth hand side and then merge it.\n",
    "\n",
    "\"\"\"\n",
    "\n",
    "\n",
    "# Merge sort code\n",
    "def mergeSort(arr):\n",
    "    if(len(arr)>1):\n",
    "        mid = len(arr)//2\n",
    "        left = arr[:mid]\n",
    "        right = arr[mid:]\n",
    "        \n",
    "        mergeSort(left)\n",
    "        mergeSort(right)\n",
    "      \n",
    "\n",
    "        j  = k  = i = 0\n",
    "\n",
    "        while j < len(left) and k < len(right):\n",
    "            if(left[j] > right[k]):\n",
    "                arr[i] = left[j]\n",
    "                j += 1\n",
    "            else:\n",
    "                arr[i] = right[k]\n",
    "                k += 1\n",
    "            i += 1\n",
    "        \n",
    "        while j < len(left):\n",
    "            arr[i] = left[j]\n",
    "            j += 1\n",
    "            i += 1\n",
    "        \n",
    "        while k < len(right):\n",
    "            arr[i] = right[k]\n",
    "            k += 1\n",
    "            i += 1\n",
    "    \n",
    "    return arr\n",
    "\n",
    "mergeSort([8,23,1,5,7,4,10,2])\n",
    "\n"
   ]
  },
  {
   "cell_type": "code",
   "execution_count": 61,
   "metadata": {},
   "outputs": [
    {
     "data": {
      "text/plain": [
       "[10, 9, 7, 4, 3]"
      ]
     },
     "execution_count": 61,
     "metadata": {},
     "output_type": "execute_result"
    }
   ],
   "source": [
    "# Bubble sort algorithm\n",
    "\"\"\"\n",
    "    Time Complexity -> o(n2)\n",
    "    space Complexity -> o(1)\n",
    "    \n",
    "    1. we have two nested loops.\n",
    "    2. we compare j with j + 1  .\n",
    "    3. we swap  arr[j] with arr[j+1] if arr[j] <arr[j +1]  ---> dec order\n",
    "     ----> if arr[j] > arr[j +1]  ---> assen order\n",
    "    4. we use flag for check the condition if there is no swap in inner loop then array is sorted.\n",
    "    5. flag is equal to 0 if no swap --- > exit loop\n",
    "    6. return sorted array\n",
    "\n",
    "\"\"\"\n",
    "\n",
    "\n",
    "# Bubble sort code\n",
    "\n",
    "def bubbleSort(arr):\n",
    "    n = len(arr)\n",
    "    for i in range(0,n-1):\n",
    "        flag = 0\n",
    "        for j in range(0,n-1-i):\n",
    "            if arr[j] < arr[j+1]:\n",
    "                arr[j] , arr[j+1] = arr[j+1] ,arr[j]\n",
    "                flag = 1\n",
    "        if(flag==0):\n",
    "            break\n",
    "    return arr\n",
    "\n",
    "\n",
    "sampleInput = [10,9,3,7,4]\n",
    "bubbleSort(sampleInput)\n"
   ]
  },
  {
   "cell_type": "markdown",
   "metadata": {},
   "source": [
    "----\n",
    "❓ Understand the `Binary Search` & implement binary search algorithm to search the given element given your array is known to be in `DESC` order."
   ]
  },
  {
   "cell_type": "code",
   "execution_count": 39,
   "metadata": {},
   "outputs": [
    {
     "data": {
      "text/plain": [
       "' Element 3 is at index 7'"
      ]
     },
     "execution_count": 39,
     "metadata": {},
     "output_type": "execute_result"
    }
   ],
   "source": [
    "# Binary search code on desc order array\n",
    "\n",
    "def binarySearch(arr,element):\n",
    "    start = 0\n",
    "    end = len(arr)-1\n",
    "    mid = start + (end-start)//2\n",
    "    while (start <= end):\n",
    "        if(arr[mid] == element):\n",
    "            return  f\" Element {element} is at index {mid}\"\n",
    "        elif(arr[mid] < element):\n",
    "            end = mid - 1\n",
    "        else:\n",
    "            start = mid + 1\n",
    "        mid = start + (end-start)//2\n",
    "    return 'Element is not present'\n",
    "\n",
    "binarySearch([10,9,8,7,6,5,4,3,2,1],3)\n",
    "\n",
    "        \n",
    "# time Complexity -> o(log(n))\n",
    "# space Complexity -> o(1) \n",
    "\n",
    "# In every iteration we have neglecting half elements\n",
    "\n"
   ]
  }
 ],
 "metadata": {
  "kernelspec": {
   "display_name": "Python 3.10.7 64-bit",
   "language": "python",
   "name": "python3"
  },
  "language_info": {
   "codemirror_mode": {
    "name": "ipython",
    "version": 3
   },
   "file_extension": ".py",
   "mimetype": "text/x-python",
   "name": "python",
   "nbconvert_exporter": "python",
   "pygments_lexer": "ipython3",
   "version": "3.10.7"
  },
  "orig_nbformat": 4,
  "vscode": {
   "interpreter": {
    "hash": "369f2c481f4da34e4445cda3fffd2e751bd1c4d706f27375911949ba6bb62e1c"
   }
  }
 },
 "nbformat": 4,
 "nbformat_minor": 2
}
