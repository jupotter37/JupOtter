{
 "cells": [
  {
   "cell_type": "markdown",
   "metadata": {},
   "source": [
    "# An Introduction to Data Structures In Python\n",
    "\n",
    "* Lists - review\n",
    "* list comprehensions\n",
    "* dictionaries\n"
   ]
  },
  {
   "cell_type": "markdown",
   "metadata": {},
   "source": [
    "# Lists - Review\n",
    "\n",
    "Before we jump into the new stuff, let's go ahead and review lists!  \n",
    "\n",
    "_Definition_ **List** := a list is a collection of objects that can be indexed by the natural numbers.\n",
    "\n"
   ]
  },
  {
   "cell_type": "code",
   "execution_count": 1,
   "metadata": {
    "collapsed": true
   },
   "outputs": [],
   "source": [
    "# Example 1 - a collection of numbers\n",
    "\n",
    "listing = [1,2,3]"
   ]
  },
  {
   "cell_type": "code",
   "execution_count": 2,
   "metadata": {
    "collapsed": true
   },
   "outputs": [],
   "source": [
    "# Example 2 - a collection of strings\n",
    "\n",
    "listing = [\"Hello\", \"there\"]"
   ]
  },
  {
   "cell_type": "code",
   "execution_count": 3,
   "metadata": {
    "collapsed": true
   },
   "outputs": [],
   "source": [
    "# Example 3 - a collection of booleans\n",
    "\n",
    "listing = [True, False]"
   ]
  },
  {
   "cell_type": "markdown",
   "metadata": {},
   "source": [
    "\n",
    "Lists come with a set of methods defined on them, because lists are objects too!  Here are the methods that come with a list:\n"
   ]
  },
  {
   "cell_type": "code",
   "execution_count": 5,
   "metadata": {
    "collapsed": false
   },
   "outputs": [
    {
     "name": "stdout",
     "output_type": "stream",
     "text": [
      "append\n",
      "clear\n",
      "copy\n",
      "count\n",
      "extend\n",
      "index\n",
      "insert\n",
      "pop\n",
      "remove\n",
      "reverse\n",
      "sort\n"
     ]
    }
   ],
   "source": [
    "for elem in dir(list()):\n",
    "    if \"__\" not in elem:\n",
    "        print(elem)"
   ]
  },
  {
   "cell_type": "markdown",
   "metadata": {},
   "source": [
    "The list object is one of the most powerful objects in python, because of it's indexing of the natural numbers, it's elements can be easily sorted.  Sorting algorithms form much of the first set of algorithms any junior programmer learns.  \n",
    "\n",
    "Two algorithms - mergesort and quicksort belong to a much larger class of algorithms called divide and conquer algorithms. These algorithms serve as first examples of how to do computation efficiently.  There are parallels in the sorting space via divide and conquer, to algorithms across many types of computation.  In fact, these algorithms even give us a hint towards a more efficient multiplication algorithm, among many more!"
   ]
  },
  {
   "cell_type": "markdown",
   "metadata": {},
   "source": [
    "To see specifics about each of the above methods, you can type `help` and then the function.  Let's try this for append:"
   ]
  },
  {
   "cell_type": "code",
   "execution_count": 6,
   "metadata": {
    "collapsed": false
   },
   "outputs": [
    {
     "name": "stdout",
     "output_type": "stream",
     "text": [
      "Help on built-in function append:\n",
      "\n",
      "append(...) method of builtins.list instance\n",
      "    L.append(object) -> None -- append object to end\n",
      "\n"
     ]
    }
   ],
   "source": [
    "help(list().append)"
   ]
  },
  {
   "cell_type": "markdown",
   "metadata": {},
   "source": [
    "I'd encourage you to run this on all of the algorithms if you don't know what a specific method does."
   ]
  },
  {
   "cell_type": "markdown",
   "metadata": {},
   "source": [
    "## List Comprehension\n",
    "\n",
    "A list comprehension is a couple of things.  The biggest reason to use them, is one used correctly, they make code more readable.  Rather than writing very large, hard to read for loops, list comprehensions reduce looping to a series of transformations, applied in sequence to a collection of objects.  Rewriting big for loops in this way can reduce code complexity, and improve code readability.\n",
    "\n",
    "There is also a modest performance gain, depending on the type of computation being performed per element."
   ]
  },
  {
   "cell_type": "code",
   "execution_count": 7,
   "metadata": {
    "collapsed": false
   },
   "outputs": [
    {
     "data": {
      "text/plain": [
       "True"
      ]
     },
     "execution_count": 7,
     "metadata": {},
     "output_type": "execute_result"
    }
   ],
   "source": [
    "# Example 1\n",
    "\n",
    "list_for_loop = []\n",
    "for i in range(10):\n",
    "    list_for_loop.append(i)\n",
    "\n",
    "list_comprehension = [elem for elem in range(10)]\n",
    "\n",
    "list_for_loop == list_comprehension"
   ]
  },
  {
   "cell_type": "markdown",
   "metadata": {},
   "source": [
    "Notice that the two lists are the same!  This is because a list comprehension is just another way to write a for loop.  They are literally the same.\n",
    "\n",
    "Now that we have an example, let's see the syntax in general.\n",
    "\n",
    "new_list = [ELEMENT_TO_ITERATE_OVER for ELEMENT_TO_ITERATE_OVER in EXISTING_LIST]\n",
    "\n",
    "Often times we will want to apply a function to all of the elements of a list, in session.  This is where the list comprehension can really added readability:"
   ]
  },
  {
   "cell_type": "code",
   "execution_count": 9,
   "metadata": {
    "collapsed": false
   },
   "outputs": [
    {
     "name": "stdout",
     "output_type": "stream",
     "text": [
      "[2, 3, 4, 5, 6, 7, 8, 9, 10, 11]\n"
     ]
    }
   ],
   "source": [
    "def add_two(x):\n",
    "    return x + 2\n",
    "\n",
    "listing = list(range(10))\n",
    "new_list = [add_two(elem) for elem in listing]\n",
    "print(new_list)"
   ]
  },
  {
   "cell_type": "markdown",
   "metadata": {},
   "source": [
    "Notice we see the computation being applied element-wise first.  This is because that's the most important piece.  We trivalize the list and emphasize the transformation applied to it's elements.  That's why the elements come first.  Notice also, we never initialize the new list.  So list comprehensions save us memory by defining the new list and populating it in the same set of instructions.\n",
    "\n",
    "So far we have seen a transformation applied to our list.  What if we want to filter our list to specific elements?  Don't worry, we've got you covered there too!"
   ]
  },
  {
   "cell_type": "code",
   "execution_count": 10,
   "metadata": {
    "collapsed": false
   },
   "outputs": [
    {
     "name": "stdout",
     "output_type": "stream",
     "text": [
      "[3, 5, 7, 9, 11]\n"
     ]
    }
   ],
   "source": [
    "def add_two(x):\n",
    "    return x + 2\n",
    "\n",
    "listing = list(range(10))\n",
    "new_list = [add_two(elem) for elem in listing if elem % 2 != 0]\n",
    "print(new_list)"
   ]
  },
  {
   "cell_type": "markdown",
   "metadata": {},
   "source": [
    "Now we've not only added two to all our elements, we've only done that computation to the odd numbers in our list!  Pretty cool!!!"
   ]
  },
  {
   "cell_type": "markdown",
   "metadata": {},
   "source": [
    "## Dictionaries\n",
    "\n",
    "_Definition_ **Dictionary** := a dictionary can be thought of as a discrete mapping from a finite set of inputs to a finite set of outputs.  A dictionary is necessarily defined only for certain values, the set of inputs is defined as the keys, and the set of outputs are defined as the values. \n",
    "\n",
    "An alternative definition of a dictionary is that of a list, where you define the index of values to index by.  Therefore you have to define the index as you go."
   ]
  },
  {
   "cell_type": "code",
   "execution_count": 11,
   "metadata": {
    "collapsed": false
   },
   "outputs": [
    {
     "data": {
      "text/plain": [
       "2"
      ]
     },
     "execution_count": 11,
     "metadata": {},
     "output_type": "execute_result"
    }
   ],
   "source": [
    "# Example 1\n",
    "\n",
    "dicter = {1:2, 2:3}\n",
    "dicter[1]"
   ]
  },
  {
   "cell_type": "code",
   "execution_count": 12,
   "metadata": {
    "collapsed": false
   },
   "outputs": [
    {
     "data": {
      "text/plain": [
       "1"
      ]
     },
     "execution_count": 12,
     "metadata": {},
     "output_type": "execute_result"
    }
   ],
   "source": [
    "# Example 2\n",
    "\n",
    "dicter = {\"one\":1, \"two\": 2}\n",
    "dicter[\"one\"]"
   ]
  },
  {
   "cell_type": "code",
   "execution_count": 14,
   "metadata": {
    "collapsed": false
   },
   "outputs": [
    {
     "data": {
      "text/plain": [
       "'Hello there my friends.  Will you bte some butter urebm pie todby?'"
      ]
     },
     "execution_count": 14,
     "metadata": {},
     "output_type": "execute_result"
    }
   ],
   "source": [
    "# Example 3\n",
    "\n",
    "dicter = {}\n",
    "dicter[\"a\"] = \"b\"\n",
    "dicter[\"c\"] = \"u\"\n",
    "\n",
    "string_to_process = \"Hello there my friends.  Will you ate some butter cream pie today?\"\n",
    "new_string = \"\"\n",
    "for elem in string_to_process:\n",
    "    if elem in dicter:\n",
    "        new_string += dicter[elem]\n",
    "    else:\n",
    "        new_string += elem\n",
    "new_string"
   ]
  },
  {
   "cell_type": "markdown",
   "metadata": {},
   "source": [
    "Notice that we can use list conventions on dictionaries, however this will only iterate over the keys of the dictionary.  There are lots of methods for dictionaries.  Let's look at each:"
   ]
  },
  {
   "cell_type": "code",
   "execution_count": 15,
   "metadata": {
    "collapsed": false
   },
   "outputs": [
    {
     "data": {
      "text/plain": [
       "['__class__',\n",
       " '__contains__',\n",
       " '__delattr__',\n",
       " '__delitem__',\n",
       " '__dir__',\n",
       " '__doc__',\n",
       " '__eq__',\n",
       " '__format__',\n",
       " '__ge__',\n",
       " '__getattribute__',\n",
       " '__getitem__',\n",
       " '__gt__',\n",
       " '__hash__',\n",
       " '__init__',\n",
       " '__iter__',\n",
       " '__le__',\n",
       " '__len__',\n",
       " '__lt__',\n",
       " '__ne__',\n",
       " '__new__',\n",
       " '__reduce__',\n",
       " '__reduce_ex__',\n",
       " '__repr__',\n",
       " '__setattr__',\n",
       " '__setitem__',\n",
       " '__sizeof__',\n",
       " '__str__',\n",
       " '__subclasshook__',\n",
       " 'clear',\n",
       " 'copy',\n",
       " 'fromkeys',\n",
       " 'get',\n",
       " 'items',\n",
       " 'keys',\n",
       " 'pop',\n",
       " 'popitem',\n",
       " 'setdefault',\n",
       " 'update',\n",
       " 'values']"
      ]
     },
     "execution_count": 15,
     "metadata": {},
     "output_type": "execute_result"
    }
   ],
   "source": [
    "dir(dict())"
   ]
  },
  {
   "cell_type": "code",
   "execution_count": 21,
   "metadata": {
    "collapsed": false
   },
   "outputs": [
    {
     "name": "stdout",
     "output_type": "stream",
     "text": [
      "{1: 0, 2: 0, 3: 0}\n"
     ]
    }
   ],
   "source": [
    "dicter = {}\n",
    "dicter = dicter.fromkeys([1,2,3], 0)\n",
    "print(dicter)\n"
   ]
  },
  {
   "cell_type": "code",
   "execution_count": 20,
   "metadata": {
    "collapsed": false
   },
   "outputs": [
    {
     "name": "stdout",
     "output_type": "stream",
     "text": [
      "The total item (1, 0)\n",
      "The key: 1\n",
      "The value: 0\n",
      "The total item (2, 0)\n",
      "The key: 2\n",
      "The value: 0\n",
      "The total item (3, 0)\n",
      "The key: 3\n",
      "The value: 0\n"
     ]
    }
   ],
   "source": [
    "for item in dicter.items():\n",
    "    print(\"The total item\",item)\n",
    "    print(\"The key:\", item[0])\n",
    "    print(\"The value:\", item[1])"
   ]
  },
  {
   "cell_type": "code",
   "execution_count": 22,
   "metadata": {
    "collapsed": false
   },
   "outputs": [
    {
     "name": "stdout",
     "output_type": "stream",
     "text": [
      "1\n",
      "2\n",
      "3\n"
     ]
    }
   ],
   "source": [
    "for key in dicter:\n",
    "    print(key)"
   ]
  },
  {
   "cell_type": "markdown",
   "metadata": {
    "collapsed": true
   },
   "source": [
    "## Resources and further reading:\n",
    "\n",
    "* http://carlgroner.me/Python/2011/11/09/An-Introduction-to-List-Comprehensions-in-Python.html\n",
    "* https://alexgaynor.net/ - just a generally awesome guy\n",
    "* https://github.com/paultag\n",
    "* https://github.com/alex\n",
    "* https://docs.python.org/3/tutorial/datastructures.html\n",
    "* https://www.digitalocean.com/community/tutorials/understanding-dictionaries-in-python-3"
   ]
  },
  {
   "cell_type": "code",
   "execution_count": null,
   "metadata": {
    "collapsed": true
   },
   "outputs": [],
   "source": []
  }
 ],
 "metadata": {
  "kernelspec": {
   "display_name": "Python 3",
   "language": "python",
   "name": "python3"
  },
  "language_info": {
   "codemirror_mode": {
    "name": "ipython",
    "version": 3
   },
   "file_extension": ".py",
   "mimetype": "text/x-python",
   "name": "python",
   "nbconvert_exporter": "python",
   "pygments_lexer": "ipython3",
   "version": "3.5.2"
  }
 },
 "nbformat": 4,
 "nbformat_minor": 0
}
