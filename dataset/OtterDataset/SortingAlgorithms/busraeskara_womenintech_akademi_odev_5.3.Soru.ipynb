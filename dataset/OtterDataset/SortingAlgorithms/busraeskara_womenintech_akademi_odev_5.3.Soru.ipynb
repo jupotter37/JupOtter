{
 "cells": [
  {
   "cell_type": "markdown",
   "metadata": {},
   "source": [
    "**3. Soru:** Bir liste üzerinde sıralama algoritmasını kullanarak listeyi sıralayınız.\n",
    "\n"
   ]
  },
  {
   "cell_type": "markdown",
   "metadata": {},
   "source": [
    "*1. ÇÖZÜM:*"
   ]
  },
  {
   "cell_type": "code",
   "execution_count": 2,
   "metadata": {},
   "outputs": [
    {
     "name": "stdout",
     "output_type": "stream",
     "text": [
      "['black', 'blue', 'green', 'orange', 'purple', 'red', 'white', 'yellow']\n",
      "[1, 2, 3, 4, 5, 6, 7, 8, 9]\n"
     ]
    }
   ],
   "source": [
    "# 1.ÇÖZÜM \n",
    "\n",
    "colors = ['red', 'green', 'yellow', 'blue', 'purple', 'orange', 'white', 'black']\n",
    "numbers = [5, 6, 2, 1, 7, 9, 8, 4, 3]\n",
    "\n",
    "colors.sort() # alfabetik sıraya göre bir sıralama gerçekleştirir.\n",
    "print(colors)\n",
    "\n",
    "numbers.sort() # sayıları küçükten büyüğe doğru sıralar.\n",
    "print(numbers)"
   ]
  },
  {
   "cell_type": "markdown",
   "metadata": {},
   "source": [
    "*2. ÇÖZÜM:* \n",
    "\n",
    "* Bubble Sorting Algorithm: Sayıları küçükten büyüğe doğru sıralar. Baştan sona veya sondan başa doğru komşu elemanlar karşılaştırılarak büyüklük küçüklük durumlarına göre yerleri değiştirilir. Komşu elemanların bu karşılaştırmalı taraması, dizinin eleman sayısı kadar tekrarlanır.\n",
    "\n"
   ]
  },
  {
   "cell_type": "code",
   "execution_count": 3,
   "metadata": {},
   "outputs": [
    {
     "name": "stdout",
     "output_type": "stream",
     "text": [
      "[5, 3, 8, -1, 4, 2]\n",
      "[5, 3, -1, 8, 4, 2]\n",
      "[5, 3, -1, 4, 8, 2]\n",
      "[5, 3, -1, 4, 2, 8]\n",
      "[3, 5, -1, 4, 2, 8]\n",
      "[3, -1, 5, 4, 2, 8]\n",
      "[3, -1, 4, 5, 2, 8]\n",
      "[3, -1, 4, 2, 5, 8]\n",
      "[-1, 3, 4, 2, 5, 8]\n",
      "[-1, 3, 2, 4, 5, 8]\n",
      "[-1, 2, 3, 4, 5, 8]\n"
     ]
    }
   ],
   "source": [
    "# Bubble Sorting Algorithm\n",
    "\n",
    "def sort(bubbleAlgorithm):\n",
    "  \n",
    "  for i in range(0, len(bubbleAlgorithm)):\n",
    "    for j in range(0, len(bubbleAlgorithm) - 1):\n",
    "        if bubbleAlgorithm[j] > bubbleAlgorithm[j + 1]:\n",
    "            bubbleAlgorithm[j], bubbleAlgorithm[j + 1] = bubbleAlgorithm[j + 1], bubbleAlgorithm[j]\n",
    "        else:\n",
    "            continue\n",
    "        print(bubbleAlgorithm)\n",
    "  \n",
    "my_list = [5, 8, 3, -1, 4, 2]\n",
    "sort(my_list)"
   ]
  }
 ],
 "metadata": {
  "kernelspec": {
   "display_name": "Python 3.10.7 64-bit",
   "language": "python",
   "name": "python3"
  },
  "language_info": {
   "codemirror_mode": {
    "name": "ipython",
    "version": 3
   },
   "file_extension": ".py",
   "mimetype": "text/x-python",
   "name": "python",
   "nbconvert_exporter": "python",
   "pygments_lexer": "ipython3",
   "version": "3.10.7"
  },
  "orig_nbformat": 4,
  "vscode": {
   "interpreter": {
    "hash": "a9cff5a362bc38ef45d817ae74b1af54d6a076e3d773891282bce078b815ba34"
   }
  }
 },
 "nbformat": 4,
 "nbformat_minor": 2
}
