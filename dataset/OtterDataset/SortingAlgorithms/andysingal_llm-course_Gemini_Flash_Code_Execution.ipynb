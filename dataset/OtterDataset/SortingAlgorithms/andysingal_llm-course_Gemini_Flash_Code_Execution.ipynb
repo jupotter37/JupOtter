{
  "cells": [
    {
      "cell_type": "markdown",
      "metadata": {
        "id": "Tce3stUlHN0L"
      },
      "source": [
        "##### Copyright 2024 Google LLC."
      ]
    },
    {
      "cell_type": "markdown",
      "metadata": {
        "id": "4BkXaeuqGFzD"
      },
      "source": [
        "# Code Execution in the Gemini API\n",
        "\n",
        "https://tinyurl.com/2vcdks79"
      ]
    },
    {
      "cell_type": "markdown",
      "metadata": {
        "id": "CDhVGsAHhwG5"
      },
      "source": [
        "The Gemini API can generate and run code based on plain-text instructions that you give it. This notebook is a walk through of how to use this feature."
      ]
    },
    {
      "cell_type": "code",
      "execution_count": null,
      "metadata": {
        "id": "6rshwediCXto",
        "outputId": "fa378a1c-26de-4067-ae1f-26197de48f47",
        "colab": {
          "base_uri": "https://localhost:8080/",
          "height": 17
        }
      },
      "outputs": [
        {
          "output_type": "display_data",
          "data": {
            "text/plain": [
              "<IPython.core.display.HTML object>"
            ],
            "text/html": [
              "<style>\n",
              "div.output_markdown {\n",
              "  font-size: 16px\n",
              "}\n",
              "\n",
              "div.output_markdown pre code {\n",
              "  color: #222222;\n",
              "}\n",
              "\n",
              "div.output_markdown pre:nth-of-type(even) {\n",
              "  background: #CCCCCC;\n",
              "  margin: 16px;\n",
              "  padding: 16px;\n",
              "}\n",
              "\n",
              "div.output_markdown pre:nth-of-type(odd) {\n",
              "  background: #BBBBEE;\n",
              "  margin: 16px;\n",
              "  padding: 16px;\n",
              "}\n",
              "</style>"
            ]
          },
          "metadata": {}
        }
      ],
      "source": [
        "!pip install -Uq google-generativeai"
      ]
    },
    {
      "cell_type": "markdown",
      "metadata": {
        "id": "kQoJWW8lM48-"
      },
      "source": [
        "## Setup"
      ]
    },
    {
      "cell_type": "code",
      "execution_count": null,
      "metadata": {
        "id": "OsxWu_BI50Ex",
        "outputId": "aa7ce494-e4c0-42b0-b031-2b948a84ade4",
        "colab": {
          "base_uri": "https://localhost:8080/",
          "height": 35
        }
      },
      "outputs": [
        {
          "output_type": "display_data",
          "data": {
            "text/plain": [
              "<IPython.core.display.HTML object>"
            ],
            "text/html": [
              "<style>\n",
              "div.output_markdown {\n",
              "  font-size: 16px\n",
              "}\n",
              "\n",
              "div.output_markdown pre code {\n",
              "  color: #222222;\n",
              "}\n",
              "\n",
              "div.output_markdown pre:nth-of-type(even) {\n",
              "  background: #CCCCCC;\n",
              "  margin: 16px;\n",
              "  padding: 16px;\n",
              "}\n",
              "\n",
              "div.output_markdown pre:nth-of-type(odd) {\n",
              "  background: #BBBBEE;\n",
              "  margin: 16px;\n",
              "  padding: 16px;\n",
              "}\n",
              "</style>"
            ]
          },
          "metadata": {}
        },
        {
          "output_type": "execute_result",
          "data": {
            "text/plain": [
              "'0.7.1'"
            ],
            "application/vnd.google.colaboratory.intrinsic+json": {
              "type": "string"
            }
          },
          "metadata": {},
          "execution_count": 52
        }
      ],
      "source": [
        "import google.generativeai as genai\n",
        "genai.__version__"
      ]
    },
    {
      "cell_type": "code",
      "execution_count": null,
      "metadata": {
        "id": "itMjtruv7QqE",
        "colab": {
          "base_uri": "https://localhost:8080/",
          "height": 17
        },
        "outputId": "51a019d5-71ba-44b5-8ed3-fe56fb447537"
      },
      "outputs": [
        {
          "output_type": "display_data",
          "data": {
            "text/plain": [
              "<IPython.core.display.HTML object>"
            ],
            "text/html": [
              "<style>\n",
              "div.output_markdown {\n",
              "  font-size: 16px\n",
              "}\n",
              "\n",
              "div.output_markdown pre code {\n",
              "  color: #222222;\n",
              "}\n",
              "\n",
              "div.output_markdown pre:nth-of-type(even) {\n",
              "  background: #CCCCCC;\n",
              "  margin: 16px;\n",
              "  padding: 16px;\n",
              "}\n",
              "\n",
              "div.output_markdown pre:nth-of-type(odd) {\n",
              "  background: #BBBBEE;\n",
              "  margin: 16px;\n",
              "  padding: 16px;\n",
              "}\n",
              "</style>"
            ]
          },
          "metadata": {}
        }
      ],
      "source": [
        "from google.colab import userdata\n",
        "genai.configure(api_key=userdata.get('GOOGLE_API_KEY'))"
      ]
    },
    {
      "cell_type": "markdown",
      "metadata": {
        "id": "rvmIpRX5IN1q"
      },
      "source": [
        "Tweak CSS for display in Colab"
      ]
    },
    {
      "cell_type": "code",
      "execution_count": null,
      "metadata": {
        "id": "kS3JQzazOI48",
        "colab": {
          "base_uri": "https://localhost:8080/",
          "height": 17
        },
        "outputId": "299eb6a5-573b-455c-a4fe-41f43d0673f4"
      },
      "outputs": [
        {
          "output_type": "display_data",
          "data": {
            "text/plain": [
              "<IPython.core.display.HTML object>"
            ],
            "text/html": [
              "<style>\n",
              "div.output_markdown {\n",
              "  font-size: 16px\n",
              "}\n",
              "\n",
              "div.output_markdown pre code {\n",
              "  color: #222222;\n",
              "}\n",
              "\n",
              "div.output_markdown pre:nth-of-type(even) {\n",
              "  background: #CCCCCC;\n",
              "  margin: 16px;\n",
              "  padding: 16px;\n",
              "}\n",
              "\n",
              "div.output_markdown pre:nth-of-type(odd) {\n",
              "  background: #BBBBEE;\n",
              "  margin: 16px;\n",
              "  padding: 16px;\n",
              "}\n",
              "</style>"
            ]
          },
          "metadata": {}
        }
      ],
      "source": [
        "from IPython.display import HTML, Markdown\n",
        "\n",
        "def set_css_in_cell_output(unused):\n",
        "  display(HTML(\"\"\"<style>\n",
        "div.output_markdown {\n",
        "  font-size: 16px\n",
        "}\n",
        "\n",
        "div.output_markdown pre code {\n",
        "  color: #222222;\n",
        "}\n",
        "\n",
        "div.output_markdown pre:nth-of-type(even) {\n",
        "  background: #CCCCCC;\n",
        "  margin: 16px;\n",
        "  padding: 16px;\n",
        "}\n",
        "\n",
        "div.output_markdown pre:nth-of-type(odd) {\n",
        "  background: #BBBBEE;\n",
        "  margin: 16px;\n",
        "  padding: 16px;\n",
        "}\n",
        "</style>\"\"\"))\n",
        "\n",
        "get_ipython().events.register('pre_run_cell', set_css_in_cell_output)"
      ]
    },
    {
      "cell_type": "markdown",
      "source": [
        "## Gemini-Flash without Code Execution"
      ],
      "metadata": {
        "id": "SW2daSR94HhS"
      }
    },
    {
      "cell_type": "code",
      "source": [
        "model = genai.GenerativeModel(model_name='gemini-1.5-flash')"
      ],
      "metadata": {
        "id": "En_yIG4S4Rsu",
        "outputId": "4df282e5-e6e0-4e96-a53f-e9b3205fbb8d",
        "colab": {
          "base_uri": "https://localhost:8080/",
          "height": 17
        }
      },
      "execution_count": null,
      "outputs": [
        {
          "output_type": "display_data",
          "data": {
            "text/plain": [
              "<IPython.core.display.HTML object>"
            ],
            "text/html": [
              "<style>\n",
              "div.output_markdown {\n",
              "  font-size: 16px\n",
              "}\n",
              "\n",
              "div.output_markdown pre code {\n",
              "  color: #222222;\n",
              "}\n",
              "\n",
              "div.output_markdown pre:nth-of-type(even) {\n",
              "  background: #CCCCCC;\n",
              "  margin: 16px;\n",
              "  padding: 16px;\n",
              "}\n",
              "\n",
              "div.output_markdown pre:nth-of-type(odd) {\n",
              "  background: #BBBBEE;\n",
              "  margin: 16px;\n",
              "  padding: 16px;\n",
              "}\n",
              "</style>"
            ]
          },
          "metadata": {}
        },
        {
          "output_type": "display_data",
          "data": {
            "text/plain": [
              "<IPython.core.display.HTML object>"
            ],
            "text/html": [
              "<style>\n",
              "div.output_markdown {\n",
              "  font-size: 16px\n",
              "}\n",
              "\n",
              "div.output_markdown pre code {\n",
              "  color: #222222;\n",
              "}\n",
              "\n",
              "div.output_markdown pre:nth-of-type(even) {\n",
              "  background: #CCCCCC;\n",
              "  margin: 16px;\n",
              "  padding: 16px;\n",
              "}\n",
              "\n",
              "div.output_markdown pre:nth-of-type(odd) {\n",
              "  background: #BBBBEE;\n",
              "  margin: 16px;\n",
              "  padding: 16px;\n",
              "}\n",
              "</style>"
            ]
          },
          "metadata": {}
        }
      ]
    },
    {
      "cell_type": "code",
      "source": [
        "result = model.generate_content(\"What's the sum of the sum of first 200 prime numbers? Make sure you get all 200.\")"
      ],
      "metadata": {
        "id": "2OmhHN1g4WZp",
        "colab": {
          "base_uri": "https://localhost:8080/",
          "height": 17
        },
        "outputId": "d494620e-5b18-4171-f5b1-65809b79db3c"
      },
      "execution_count": null,
      "outputs": [
        {
          "output_type": "display_data",
          "data": {
            "text/plain": [
              "<IPython.core.display.HTML object>"
            ],
            "text/html": [
              "<style>\n",
              "div.output_markdown {\n",
              "  font-size: 16px\n",
              "}\n",
              "\n",
              "div.output_markdown pre code {\n",
              "  color: #222222;\n",
              "}\n",
              "\n",
              "div.output_markdown pre:nth-of-type(even) {\n",
              "  background: #CCCCCC;\n",
              "  margin: 16px;\n",
              "  padding: 16px;\n",
              "}\n",
              "\n",
              "div.output_markdown pre:nth-of-type(odd) {\n",
              "  background: #BBBBEE;\n",
              "  margin: 16px;\n",
              "  padding: 16px;\n",
              "}\n",
              "</style>"
            ]
          },
          "metadata": {}
        },
        {
          "output_type": "display_data",
          "data": {
            "text/plain": [
              "<IPython.core.display.HTML object>"
            ],
            "text/html": [
              "<style>\n",
              "div.output_markdown {\n",
              "  font-size: 16px\n",
              "}\n",
              "\n",
              "div.output_markdown pre code {\n",
              "  color: #222222;\n",
              "}\n",
              "\n",
              "div.output_markdown pre:nth-of-type(even) {\n",
              "  background: #CCCCCC;\n",
              "  margin: 16px;\n",
              "  padding: 16px;\n",
              "}\n",
              "\n",
              "div.output_markdown pre:nth-of-type(odd) {\n",
              "  background: #BBBBEE;\n",
              "  margin: 16px;\n",
              "  padding: 16px;\n",
              "}\n",
              "</style>"
            ]
          },
          "metadata": {}
        }
      ]
    },
    {
      "cell_type": "code",
      "source": [
        "from IPython.display import Markdown\n",
        "Markdown(result.text)"
      ],
      "metadata": {
        "id": "EyeN7m4N4gkT",
        "outputId": "3a0d0d56-0097-44df-c57e-d3e02061df49",
        "colab": {
          "base_uri": "https://localhost:8080/",
          "height": 414
        }
      },
      "execution_count": null,
      "outputs": [
        {
          "output_type": "display_data",
          "data": {
            "text/plain": [
              "<IPython.core.display.HTML object>"
            ],
            "text/html": [
              "<style>\n",
              "div.output_markdown {\n",
              "  font-size: 16px\n",
              "}\n",
              "\n",
              "div.output_markdown pre code {\n",
              "  color: #222222;\n",
              "}\n",
              "\n",
              "div.output_markdown pre:nth-of-type(even) {\n",
              "  background: #CCCCCC;\n",
              "  margin: 16px;\n",
              "  padding: 16px;\n",
              "}\n",
              "\n",
              "div.output_markdown pre:nth-of-type(odd) {\n",
              "  background: #BBBBEE;\n",
              "  margin: 16px;\n",
              "  padding: 16px;\n",
              "}\n",
              "</style>"
            ]
          },
          "metadata": {}
        },
        {
          "output_type": "display_data",
          "data": {
            "text/plain": [
              "<IPython.core.display.HTML object>"
            ],
            "text/html": [
              "<style>\n",
              "div.output_markdown {\n",
              "  font-size: 16px\n",
              "}\n",
              "\n",
              "div.output_markdown pre code {\n",
              "  color: #222222;\n",
              "}\n",
              "\n",
              "div.output_markdown pre:nth-of-type(even) {\n",
              "  background: #CCCCCC;\n",
              "  margin: 16px;\n",
              "  padding: 16px;\n",
              "}\n",
              "\n",
              "div.output_markdown pre:nth-of-type(odd) {\n",
              "  background: #BBBBEE;\n",
              "  margin: 16px;\n",
              "  padding: 16px;\n",
              "}\n",
              "</style>"
            ]
          },
          "metadata": {}
        },
        {
          "output_type": "execute_result",
          "data": {
            "text/plain": [
              "<IPython.core.display.Markdown object>"
            ],
            "text/markdown": "You're asking for a somewhat tricky calculation! Here's how you can approach it:\n\n**1. Finding the First 200 Prime Numbers**\n\n* **What are Prime Numbers?**  A prime number is a whole number greater than 1 that has only two divisors: 1 and itself. (Examples: 2, 3, 5, 7, 11, 13...)\n* **Finding them:**  You'll need a method to identify prime numbers.  A simple approach is the Sieve of Eratosthenes:\n    1. List all numbers from 2 to a reasonable upper limit (since we need 200 primes, go up to at least 500).\n    2. Start with 2. Cross out all multiples of 2.\n    3. Move to the next uncrossed number (3). Cross out all multiples of 3.\n    4. Repeat this process until you've crossed out all multiples of all numbers up to the square root of your upper limit.\n    5. The remaining uncrossed numbers are your prime numbers.\n\n**2. Summing the Prime Numbers**\n\n* **Keep track:**  As you find each prime number, add it to a running total.\n\n**3.  Calculating the Final Sum**\n\n* **Calculate the sum of all the prime numbers you've identified.**\n\n**This is a lot of manual calculation!**  You can make it easier by using a computer program or online resources that can find and sum prime numbers for you.  \n\n**Let me know if you'd like help with the code or want to find a website that can do the calculation for you!** \n"
          },
          "metadata": {},
          "execution_count": 57
        }
      ]
    },
    {
      "cell_type": "code",
      "source": [
        "# result = model.generate_content(\"Can you count how many letter r in the word strawberry\")"
      ],
      "metadata": {
        "colab": {
          "base_uri": "https://localhost:8080/",
          "height": 17
        },
        "id": "qVCfg8yY5Anf",
        "outputId": "b6174bac-ff34-4463-e6e1-0fb014005370"
      },
      "execution_count": null,
      "outputs": [
        {
          "output_type": "display_data",
          "data": {
            "text/plain": [
              "<IPython.core.display.HTML object>"
            ],
            "text/html": [
              "<style>\n",
              "div.output_markdown {\n",
              "  font-size: 16px\n",
              "}\n",
              "\n",
              "div.output_markdown pre code {\n",
              "  color: #222222;\n",
              "}\n",
              "\n",
              "div.output_markdown pre:nth-of-type(even) {\n",
              "  background: #CCCCCC;\n",
              "  margin: 16px;\n",
              "  padding: 16px;\n",
              "}\n",
              "\n",
              "div.output_markdown pre:nth-of-type(odd) {\n",
              "  background: #BBBBEE;\n",
              "  margin: 16px;\n",
              "  padding: 16px;\n",
              "}\n",
              "</style>"
            ]
          },
          "metadata": {}
        },
        {
          "output_type": "display_data",
          "data": {
            "text/plain": [
              "<IPython.core.display.HTML object>"
            ],
            "text/html": [
              "<style>\n",
              "div.output_markdown {\n",
              "  font-size: 16px\n",
              "}\n",
              "\n",
              "div.output_markdown pre code {\n",
              "  color: #222222;\n",
              "}\n",
              "\n",
              "div.output_markdown pre:nth-of-type(even) {\n",
              "  background: #CCCCCC;\n",
              "  margin: 16px;\n",
              "  padding: 16px;\n",
              "}\n",
              "\n",
              "div.output_markdown pre:nth-of-type(odd) {\n",
              "  background: #BBBBEE;\n",
              "  margin: 16px;\n",
              "  padding: 16px;\n",
              "}\n",
              "</style>"
            ]
          },
          "metadata": {}
        }
      ]
    },
    {
      "cell_type": "code",
      "source": [
        "result = model.generate_content(\"Can you count how many times the letter r is present in the word strawberry\")"
      ],
      "metadata": {
        "colab": {
          "base_uri": "https://localhost:8080/",
          "height": 17
        },
        "id": "JJdt-sUBrPir",
        "outputId": "809dffe2-81f1-4e05-d3ec-31be84aa0c26"
      },
      "execution_count": null,
      "outputs": [
        {
          "output_type": "display_data",
          "data": {
            "text/plain": [
              "<IPython.core.display.HTML object>"
            ],
            "text/html": [
              "<style>\n",
              "div.output_markdown {\n",
              "  font-size: 16px\n",
              "}\n",
              "\n",
              "div.output_markdown pre code {\n",
              "  color: #222222;\n",
              "}\n",
              "\n",
              "div.output_markdown pre:nth-of-type(even) {\n",
              "  background: #CCCCCC;\n",
              "  margin: 16px;\n",
              "  padding: 16px;\n",
              "}\n",
              "\n",
              "div.output_markdown pre:nth-of-type(odd) {\n",
              "  background: #BBBBEE;\n",
              "  margin: 16px;\n",
              "  padding: 16px;\n",
              "}\n",
              "</style>"
            ]
          },
          "metadata": {}
        },
        {
          "output_type": "display_data",
          "data": {
            "text/plain": [
              "<IPython.core.display.HTML object>"
            ],
            "text/html": [
              "<style>\n",
              "div.output_markdown {\n",
              "  font-size: 16px\n",
              "}\n",
              "\n",
              "div.output_markdown pre code {\n",
              "  color: #222222;\n",
              "}\n",
              "\n",
              "div.output_markdown pre:nth-of-type(even) {\n",
              "  background: #CCCCCC;\n",
              "  margin: 16px;\n",
              "  padding: 16px;\n",
              "}\n",
              "\n",
              "div.output_markdown pre:nth-of-type(odd) {\n",
              "  background: #BBBBEE;\n",
              "  margin: 16px;\n",
              "  padding: 16px;\n",
              "}\n",
              "</style>"
            ]
          },
          "metadata": {}
        }
      ]
    },
    {
      "cell_type": "code",
      "source": [],
      "metadata": {
        "id": "TBjAe2IyrDcf"
      },
      "execution_count": null,
      "outputs": []
    },
    {
      "cell_type": "code",
      "source": [
        "from IPython.display import Markdown\n",
        "Markdown(result.text)"
      ],
      "metadata": {
        "colab": {
          "base_uri": "https://localhost:8080/",
          "height": 120
        },
        "id": "V4pMWMCJ5h27",
        "outputId": "40d32775-b3f8-43be-db81-5bdfcc0af16d"
      },
      "execution_count": null,
      "outputs": [
        {
          "output_type": "display_data",
          "data": {
            "text/plain": [
              "<IPython.core.display.HTML object>"
            ],
            "text/html": [
              "<style>\n",
              "div.output_markdown {\n",
              "  font-size: 16px\n",
              "}\n",
              "\n",
              "div.output_markdown pre code {\n",
              "  color: #222222;\n",
              "}\n",
              "\n",
              "div.output_markdown pre:nth-of-type(even) {\n",
              "  background: #CCCCCC;\n",
              "  margin: 16px;\n",
              "  padding: 16px;\n",
              "}\n",
              "\n",
              "div.output_markdown pre:nth-of-type(odd) {\n",
              "  background: #BBBBEE;\n",
              "  margin: 16px;\n",
              "  padding: 16px;\n",
              "}\n",
              "</style>"
            ]
          },
          "metadata": {}
        },
        {
          "output_type": "display_data",
          "data": {
            "text/plain": [
              "<IPython.core.display.HTML object>"
            ],
            "text/html": [
              "<style>\n",
              "div.output_markdown {\n",
              "  font-size: 16px\n",
              "}\n",
              "\n",
              "div.output_markdown pre code {\n",
              "  color: #222222;\n",
              "}\n",
              "\n",
              "div.output_markdown pre:nth-of-type(even) {\n",
              "  background: #CCCCCC;\n",
              "  margin: 16px;\n",
              "  padding: 16px;\n",
              "}\n",
              "\n",
              "div.output_markdown pre:nth-of-type(odd) {\n",
              "  background: #BBBBEE;\n",
              "  margin: 16px;\n",
              "  padding: 16px;\n",
              "}\n",
              "</style>"
            ]
          },
          "metadata": {}
        },
        {
          "output_type": "execute_result",
          "data": {
            "text/plain": [
              "<IPython.core.display.Markdown object>"
            ],
            "text/markdown": "Let's count the 'r's in \"strawberry\":\n\n* There's one 'r' in \"straw\"\n* There's one 'r' in \"berry\"\n\nSo, there are a total of **2** 'r's in \"strawberry\". \n"
          },
          "metadata": {},
          "execution_count": 60
        }
      ]
    },
    {
      "cell_type": "code",
      "source": [],
      "metadata": {
        "id": "aDlMWs3C5otE"
      },
      "execution_count": null,
      "outputs": []
    },
    {
      "cell_type": "code",
      "source": [],
      "metadata": {
        "id": "MdMzHp3_5owd"
      },
      "execution_count": null,
      "outputs": []
    },
    {
      "cell_type": "code",
      "source": [],
      "metadata": {
        "id": "CnwxzSoo5ozc"
      },
      "execution_count": null,
      "outputs": []
    },
    {
      "cell_type": "code",
      "source": [],
      "metadata": {
        "id": "LHuQMbAL5o2U"
      },
      "execution_count": null,
      "outputs": []
    },
    {
      "cell_type": "markdown",
      "metadata": {
        "id": "q-jdBwXlM67j"
      },
      "source": [
        "## Pass `\"code_execution\"` as a `tool`"
      ]
    },
    {
      "cell_type": "code",
      "execution_count": null,
      "metadata": {
        "id": "BFxIcGkxbq3_",
        "outputId": "c8acbad0-7b76-42c2-ffde-42b488d75da7",
        "colab": {
          "base_uri": "https://localhost:8080/",
          "height": 17
        }
      },
      "outputs": [
        {
          "output_type": "display_data",
          "data": {
            "text/plain": [
              "<IPython.core.display.HTML object>"
            ],
            "text/html": [
              "<style>\n",
              "div.output_markdown {\n",
              "  font-size: 16px\n",
              "}\n",
              "\n",
              "div.output_markdown pre code {\n",
              "  color: #222222;\n",
              "}\n",
              "\n",
              "div.output_markdown pre:nth-of-type(even) {\n",
              "  background: #CCCCCC;\n",
              "  margin: 16px;\n",
              "  padding: 16px;\n",
              "}\n",
              "\n",
              "div.output_markdown pre:nth-of-type(odd) {\n",
              "  background: #BBBBEE;\n",
              "  margin: 16px;\n",
              "  padding: 16px;\n",
              "}\n",
              "</style>"
            ]
          },
          "metadata": {}
        },
        {
          "output_type": "display_data",
          "data": {
            "text/plain": [
              "<IPython.core.display.HTML object>"
            ],
            "text/html": [
              "<style>\n",
              "div.output_markdown {\n",
              "  font-size: 16px\n",
              "}\n",
              "\n",
              "div.output_markdown pre code {\n",
              "  color: #222222;\n",
              "}\n",
              "\n",
              "div.output_markdown pre:nth-of-type(even) {\n",
              "  background: #CCCCCC;\n",
              "  margin: 16px;\n",
              "  padding: 16px;\n",
              "}\n",
              "\n",
              "div.output_markdown pre:nth-of-type(odd) {\n",
              "  background: #BBBBEE;\n",
              "  margin: 16px;\n",
              "  padding: 16px;\n",
              "}\n",
              "</style>"
            ]
          },
          "metadata": {}
        }
      ],
      "source": [
        "model = genai.GenerativeModel(model_name='gemini-1.5-flash',\n",
        "                              tools=\"code_execution\")"
      ]
    },
    {
      "cell_type": "markdown",
      "metadata": {
        "id": "mZgn5tm-NCfH"
      },
      "source": [
        "## Call `generate_content`"
      ]
    },
    {
      "cell_type": "code",
      "execution_count": null,
      "metadata": {
        "id": "u2DRvZZde2C6",
        "outputId": "49ac5138-2a72-4ef6-9d1b-4ae957e894bc",
        "colab": {
          "base_uri": "https://localhost:8080/",
          "height": 17
        }
      },
      "outputs": [
        {
          "output_type": "display_data",
          "data": {
            "text/plain": [
              "<IPython.core.display.HTML object>"
            ],
            "text/html": [
              "<style>\n",
              "div.output_markdown {\n",
              "  font-size: 16px\n",
              "}\n",
              "\n",
              "div.output_markdown pre code {\n",
              "  color: #222222;\n",
              "}\n",
              "\n",
              "div.output_markdown pre:nth-of-type(even) {\n",
              "  background: #CCCCCC;\n",
              "  margin: 16px;\n",
              "  padding: 16px;\n",
              "}\n",
              "\n",
              "div.output_markdown pre:nth-of-type(odd) {\n",
              "  background: #BBBBEE;\n",
              "  margin: 16px;\n",
              "  padding: 16px;\n",
              "}\n",
              "</style>"
            ]
          },
          "metadata": {}
        },
        {
          "output_type": "display_data",
          "data": {
            "text/plain": [
              "<IPython.core.display.HTML object>"
            ],
            "text/html": [
              "<style>\n",
              "div.output_markdown {\n",
              "  font-size: 16px\n",
              "}\n",
              "\n",
              "div.output_markdown pre code {\n",
              "  color: #222222;\n",
              "}\n",
              "\n",
              "div.output_markdown pre:nth-of-type(even) {\n",
              "  background: #CCCCCC;\n",
              "  margin: 16px;\n",
              "  padding: 16px;\n",
              "}\n",
              "\n",
              "div.output_markdown pre:nth-of-type(odd) {\n",
              "  background: #BBBBEE;\n",
              "  margin: 16px;\n",
              "  padding: 16px;\n",
              "}\n",
              "</style>"
            ]
          },
          "metadata": {}
        }
      ],
      "source": [
        "result = model.generate_content(\"What's the sum of the sum of first 200 prime numbers? Make sure you get all 200.\")"
      ]
    },
    {
      "cell_type": "markdown",
      "metadata": {
        "id": "8uJ-Fk1I_AH8"
      },
      "source": [
        "The model returns a list of parts including `text`, `executable_code`, and `execution_result` parts."
      ]
    },
    {
      "cell_type": "code",
      "execution_count": null,
      "metadata": {
        "id": "E1_KEd4P-_YB",
        "outputId": "f6a48999-f637-4b1c-d3d6-2d11fb32c320",
        "colab": {
          "base_uri": "https://localhost:8080/",
          "height": 139
        }
      },
      "outputs": [
        {
          "output_type": "display_data",
          "data": {
            "text/plain": [
              "<IPython.core.display.HTML object>"
            ],
            "text/html": [
              "<style>\n",
              "div.output_markdown {\n",
              "  font-size: 16px\n",
              "}\n",
              "\n",
              "div.output_markdown pre code {\n",
              "  color: #222222;\n",
              "}\n",
              "\n",
              "div.output_markdown pre:nth-of-type(even) {\n",
              "  background: #CCCCCC;\n",
              "  margin: 16px;\n",
              "  padding: 16px;\n",
              "}\n",
              "\n",
              "div.output_markdown pre:nth-of-type(odd) {\n",
              "  background: #BBBBEE;\n",
              "  margin: 16px;\n",
              "  padding: 16px;\n",
              "}\n",
              "</style>"
            ]
          },
          "metadata": {}
        },
        {
          "output_type": "display_data",
          "data": {
            "text/plain": [
              "<IPython.core.display.HTML object>"
            ],
            "text/html": [
              "<style>\n",
              "div.output_markdown {\n",
              "  font-size: 16px\n",
              "}\n",
              "\n",
              "div.output_markdown pre code {\n",
              "  color: #222222;\n",
              "}\n",
              "\n",
              "div.output_markdown pre:nth-of-type(even) {\n",
              "  background: #CCCCCC;\n",
              "  margin: 16px;\n",
              "  padding: 16px;\n",
              "}\n",
              "\n",
              "div.output_markdown pre:nth-of-type(odd) {\n",
              "  background: #BBBBEE;\n",
              "  margin: 16px;\n",
              "  padding: 16px;\n",
              "}\n",
              "</style>"
            ]
          },
          "metadata": {}
        },
        {
          "output_type": "execute_result",
          "data": {
            "text/plain": [
              "[['text'],\n",
              " ['executable_code'],\n",
              " ['code_execution_result'],\n",
              " ['text'],\n",
              " ['executable_code'],\n",
              " ['code_execution_result'],\n",
              " ['text']]"
            ]
          },
          "metadata": {},
          "execution_count": 63
        }
      ],
      "source": [
        "[\n",
        "    list(type(p).to_dict(p))\n",
        "    for p in result.candidates[0].content.parts\n",
        "]"
      ]
    },
    {
      "cell_type": "code",
      "execution_count": null,
      "metadata": {
        "id": "JtL3wwKJA0Jf",
        "outputId": "c2063b93-3774-4a3f-f68f-f7b4f2ac8f9e",
        "colab": {
          "base_uri": "https://localhost:8080/",
          "height": 610
        }
      },
      "outputs": [
        {
          "output_type": "display_data",
          "data": {
            "text/plain": [
              "<IPython.core.display.HTML object>"
            ],
            "text/html": [
              "<style>\n",
              "div.output_markdown {\n",
              "  font-size: 16px\n",
              "}\n",
              "\n",
              "div.output_markdown pre code {\n",
              "  color: #222222;\n",
              "}\n",
              "\n",
              "div.output_markdown pre:nth-of-type(even) {\n",
              "  background: #CCCCCC;\n",
              "  margin: 16px;\n",
              "  padding: 16px;\n",
              "}\n",
              "\n",
              "div.output_markdown pre:nth-of-type(odd) {\n",
              "  background: #BBBBEE;\n",
              "  margin: 16px;\n",
              "  padding: 16px;\n",
              "}\n",
              "</style>"
            ]
          },
          "metadata": {}
        },
        {
          "output_type": "display_data",
          "data": {
            "text/plain": [
              "<IPython.core.display.HTML object>"
            ],
            "text/html": [
              "<style>\n",
              "div.output_markdown {\n",
              "  font-size: 16px\n",
              "}\n",
              "\n",
              "div.output_markdown pre code {\n",
              "  color: #222222;\n",
              "}\n",
              "\n",
              "div.output_markdown pre:nth-of-type(even) {\n",
              "  background: #CCCCCC;\n",
              "  margin: 16px;\n",
              "  padding: 16px;\n",
              "}\n",
              "\n",
              "div.output_markdown pre:nth-of-type(odd) {\n",
              "  background: #BBBBEE;\n",
              "  margin: 16px;\n",
              "  padding: 16px;\n",
              "}\n",
              "</style>"
            ]
          },
          "metadata": {}
        },
        {
          "output_type": "stream",
          "name": "stdout",
          "text": [
            "text: \"I can calculate the sum of the first 200 prime numbers. \\n\\nFirst, I need to identify the first 200 prime numbers. A prime number is a whole number greater than 1 that is only divisible by 1 and itself. \\n\\n\"\n",
            "\n",
            "\n",
            "executable_code {\n",
            "  language: PYTHON\n",
            "  code: \"\\nimport sympy\\n\\ndef is_prime(num):\\n    \\\"\\\"\\\"Checks if a number is prime.\\\"\\\"\\\"\\n    if num <= 1:\\n        return False\\n    for i in range(2, int(num**0.5) + 1):\\n        if num % i == 0:\\n            return False\\n    return True\\n\\nprimes = []\\ni = 2\\nwhile len(primes) < 200:\\n    if is_prime(i):\\n        primes.append(i)\\n    i += 1\\n\\nprint(f\\'The first 200 prime numbers are: {primes}\\')\\n\"\n",
            "}\n",
            "\n",
            "\n",
            "code_execution_result {\n",
            "  outcome: OUTCOME_OK\n",
            "  output: \"The first 200 prime numbers are: [2, 3, 5, 7, 11, 13, 17, 19, 23, 29, 31, 37, 41, 43, 47, 53, 59, 61, 67, 71, 73, 79, 83, 89, 97, 101, 103, 107, 109, 113, 127, 131, 137, 139, 149, 151, 157, 163, 167, 173, 179, 181, 191, 193, 197, 199, 211, 223, 227, 229, 233, 239, 241, 251, 257, 263, 269, 271, 277, 281, 283, 293, 307, 311, 313, 317, 331, 337, 347, 349, 353, 359, 367, 373, 379, 383, 389, 397, 401, 409, 419, 421, 431, 433, 439, 443, 449, 457, 461, 463, 467, 479, 487, 491, 499, 503, 509, 521, 523, 541, 547, 557, 563, 569, 571, 577, 587, 593, 599, 601, 607, 613, 617, 619, 631, 641, 643, 647, 653, 659, 661, 673, 677, 683, 691, 701, 709, 719, 727, 733, 739, 743, 751, 757, 761, 769, 773, 787, 797, 809, 811, 821, 823, 827, 829, 839, 853, 857, 859, 863, 877, 881, 883, 887, 907, 911, 919, 929, 937, 941, 947, 953, 967, 971, 977, 983, 991, 997, 1009, 1013, 1019, 1021, 1031, 1033, 1039, 1049, 1051, 1061, 1063, 1069, 1087, 1091, 1093, 1097, 1103, 1109, 1117, 1123, 1129, 1151, 1153, 1163, 1171, 1181, 1187, 1193, 1201, 1213, 1217, 1223]\\n\"\n",
            "}\n",
            "\n",
            "\n",
            "text: \"Now that we have the first 200 prime numbers, let\\'s calculate the sum:\\n\\n\"\n",
            "\n",
            "\n",
            "executable_code {\n",
            "  language: PYTHON\n",
            "  code: \"\\nprimes = [2, 3, 5, 7, 11, 13, 17, 19, 23, 29, 31, 37, 41, 43, 47, 53, 59, 61, 67, 71, 73, 79, 83, 89, 97, 101, 103, 107, 109, 113, 127, 131, 137, 139, 149, 151, 157, 163, 167, 173, 179, 181, 191, 193, 197, 199, 211, 223, 227, 229, 233, 239, 241, 251, 257, 263, 269, 271, 277, 281, 283, 293, 307, 311, 313, 317, 331, 337, 347, 349, 353, 359, 367, 373, 379, 383, 389, 397, 401, 409, 419, 421, 431, 433, 439, 443, 449, 457, 461, 463, 467, 479, 487, 491, 499, 503, 509, 521, 523, 541, 547, 557, 563, 569, 571, 577, 587, 593, 599, 601, 607, 613, 617, 619, 631, 641, 643, 647, 653, 659, 661, 673, 677, 683, 691, 701, 709, 719, 727, 733, 739, 743, 751, 757, 761, 769, 773, 787, 797, 809, 811, 821, 823, 827, 829, 839, 853, 857, 859, 863, 877, 881, 883, 887, 907, 911, 919, 929, 937, 941, 947, 953, 967, 971, 977, 983, 991, 997, 1009, 1013, 1019, 1021, 1031, 1033, 1039, 1049, 1051, 1061, 1063, 1069, 1087, 1091, 1093, 1097, 1103, 1109, 1117, 1123, 1129, 1151, 1153, 1163, 1171, 1181, 1187, 1193, 1201, 1213, 1217, 1223]\\nsum_of_primes = sum(primes)\\nprint(f\\'The sum of the first 200 prime numbers is: {sum_of_primes}\\')\\n\"\n",
            "}\n",
            "\n",
            "\n",
            "code_execution_result {\n",
            "  outcome: OUTCOME_OK\n",
            "  output: \"The sum of the first 200 prime numbers is: 111587\\n\"\n",
            "}\n",
            "\n",
            "\n",
            "text: \"The sum of the first 200 prime numbers is 111587. \\n\"\n",
            "\n",
            "\n"
          ]
        }
      ],
      "source": [
        "for part in result.candidates[0].content.parts:\n",
        "  print(part)\n",
        "  print()"
      ]
    },
    {
      "cell_type": "markdown",
      "metadata": {
        "id": "TOKHOJQ6_LZO"
      },
      "source": [
        "The `.text` property formats the parts into Markdown compatible text:"
      ]
    },
    {
      "cell_type": "code",
      "execution_count": null,
      "metadata": {
        "id": "Qe_aoIGoMlMc",
        "outputId": "71106088-a5bd-4360-dc4a-0db3db45faef",
        "colab": {
          "base_uri": "https://localhost:8080/",
          "height": 836
        }
      },
      "outputs": [
        {
          "output_type": "display_data",
          "data": {
            "text/plain": [
              "<IPython.core.display.HTML object>"
            ],
            "text/html": [
              "<style>\n",
              "div.output_markdown {\n",
              "  font-size: 16px\n",
              "}\n",
              "\n",
              "div.output_markdown pre code {\n",
              "  color: #222222;\n",
              "}\n",
              "\n",
              "div.output_markdown pre:nth-of-type(even) {\n",
              "  background: #CCCCCC;\n",
              "  margin: 16px;\n",
              "  padding: 16px;\n",
              "}\n",
              "\n",
              "div.output_markdown pre:nth-of-type(odd) {\n",
              "  background: #BBBBEE;\n",
              "  margin: 16px;\n",
              "  padding: 16px;\n",
              "}\n",
              "</style>"
            ]
          },
          "metadata": {}
        },
        {
          "output_type": "display_data",
          "data": {
            "text/plain": [
              "<IPython.core.display.HTML object>"
            ],
            "text/html": [
              "<style>\n",
              "div.output_markdown {\n",
              "  font-size: 16px\n",
              "}\n",
              "\n",
              "div.output_markdown pre code {\n",
              "  color: #222222;\n",
              "}\n",
              "\n",
              "div.output_markdown pre:nth-of-type(even) {\n",
              "  background: #CCCCCC;\n",
              "  margin: 16px;\n",
              "  padding: 16px;\n",
              "}\n",
              "\n",
              "div.output_markdown pre:nth-of-type(odd) {\n",
              "  background: #BBBBEE;\n",
              "  margin: 16px;\n",
              "  padding: 16px;\n",
              "}\n",
              "</style>"
            ]
          },
          "metadata": {}
        },
        {
          "output_type": "stream",
          "name": "stdout",
          "text": [
            "I can calculate the sum of the first 200 prime numbers. \n",
            "\n",
            "First, I need to identify the first 200 prime numbers. A prime number is a whole number greater than 1 that is only divisible by 1 and itself. \n",
            "\n",
            "\n",
            "``` python\n",
            "import sympy\n",
            "\n",
            "def is_prime(num):\n",
            "    \"\"\"Checks if a number is prime.\"\"\"\n",
            "    if num <= 1:\n",
            "        return False\n",
            "    for i in range(2, int(num**0.5) + 1):\n",
            "        if num % i == 0:\n",
            "            return False\n",
            "    return True\n",
            "\n",
            "primes = []\n",
            "i = 2\n",
            "while len(primes) < 200:\n",
            "    if is_prime(i):\n",
            "        primes.append(i)\n",
            "    i += 1\n",
            "\n",
            "print(f'The first 200 prime numbers are: {primes}')\n",
            "\n",
            "```\n",
            "```\n",
            "The first 200 prime numbers are: [2, 3, 5, 7, 11, 13, 17, 19, 23, 29, 31, 37, 41, 43, 47, 53, 59, 61, 67, 71, 73, 79, 83, 89, 97, 101, 103, 107, 109, 113, 127, 131, 137, 139, 149, 151, 157, 163, 167, 173, 179, 181, 191, 193, 197, 199, 211, 223, 227, 229, 233, 239, 241, 251, 257, 263, 269, 271, 277, 281, 283, 293, 307, 311, 313, 317, 331, 337, 347, 349, 353, 359, 367, 373, 379, 383, 389, 397, 401, 409, 419, 421, 431, 433, 439, 443, 449, 457, 461, 463, 467, 479, 487, 491, 499, 503, 509, 521, 523, 541, 547, 557, 563, 569, 571, 577, 587, 593, 599, 601, 607, 613, 617, 619, 631, 641, 643, 647, 653, 659, 661, 673, 677, 683, 691, 701, 709, 719, 727, 733, 739, 743, 751, 757, 761, 769, 773, 787, 797, 809, 811, 821, 823, 827, 829, 839, 853, 857, 859, 863, 877, 881, 883, 887, 907, 911, 919, 929, 937, 941, 947, 953, 967, 971, 977, 983, 991, 997, 1009, 1013, 1019, 1021, 1031, 1033, 1039, 1049, 1051, 1061, 1063, 1069, 1087, 1091, 1093, 1097, 1103, 1109, 1117, 1123, 1129, 1151, 1153, 1163, 1171, 1181, 1187, 1193, 1201, 1213, 1217, 1223]\n",
            "\n",
            "```\n",
            "Now that we have the first 200 prime numbers, let's calculate the sum:\n",
            "\n",
            "\n",
            "``` python\n",
            "primes = [2, 3, 5, 7, 11, 13, 17, 19, 23, 29, 31, 37, 41, 43, 47, 53, 59, 61, 67, 71, 73, 79, 83, 89, 97, 101, 103, 107, 109, 113, 127, 131, 137, 139, 149, 151, 157, 163, 167, 173, 179, 181, 191, 193, 197, 199, 211, 223, 227, 229, 233, 239, 241, 251, 257, 263, 269, 271, 277, 281, 283, 293, 307, 311, 313, 317, 331, 337, 347, 349, 353, 359, 367, 373, 379, 383, 389, 397, 401, 409, 419, 421, 431, 433, 439, 443, 449, 457, 461, 463, 467, 479, 487, 491, 499, 503, 509, 521, 523, 541, 547, 557, 563, 569, 571, 577, 587, 593, 599, 601, 607, 613, 617, 619, 631, 641, 643, 647, 653, 659, 661, 673, 677, 683, 691, 701, 709, 719, 727, 733, 739, 743, 751, 757, 761, 769, 773, 787, 797, 809, 811, 821, 823, 827, 829, 839, 853, 857, 859, 863, 877, 881, 883, 887, 907, 911, 919, 929, 937, 941, 947, 953, 967, 971, 977, 983, 991, 997, 1009, 1013, 1019, 1021, 1031, 1033, 1039, 1049, 1051, 1061, 1063, 1069, 1087, 1091, 1093, 1097, 1103, 1109, 1117, 1123, 1129, 1151, 1153, 1163, 1171, 1181, 1187, 1193, 1201, 1213, 1217, 1223]\n",
            "sum_of_primes = sum(primes)\n",
            "print(f'The sum of the first 200 prime numbers is: {sum_of_primes}')\n",
            "\n",
            "```\n",
            "```\n",
            "The sum of the first 200 prime numbers is: 111587\n",
            "\n",
            "```\n",
            "The sum of the first 200 prime numbers is 111587. \n",
            "\n"
          ]
        }
      ],
      "source": [
        "print(result.text)"
      ]
    },
    {
      "cell_type": "markdown",
      "metadata": {
        "id": "hxfUg10DOxgE"
      },
      "source": [
        "In a notebook you can display the Markdown:"
      ]
    },
    {
      "cell_type": "code",
      "execution_count": null,
      "metadata": {
        "id": "N-c7VXWoEFQB",
        "outputId": "5901a835-05a8-4d2a-f786-767e4940ea2f",
        "colab": {
          "base_uri": "https://localhost:8080/",
          "height": 834
        }
      },
      "outputs": [
        {
          "output_type": "display_data",
          "data": {
            "text/plain": [
              "<IPython.core.display.HTML object>"
            ],
            "text/html": [
              "<style>\n",
              "div.output_markdown {\n",
              "  font-size: 16px\n",
              "}\n",
              "\n",
              "div.output_markdown pre code {\n",
              "  color: #222222;\n",
              "}\n",
              "\n",
              "div.output_markdown pre:nth-of-type(even) {\n",
              "  background: #CCCCCC;\n",
              "  margin: 16px;\n",
              "  padding: 16px;\n",
              "}\n",
              "\n",
              "div.output_markdown pre:nth-of-type(odd) {\n",
              "  background: #BBBBEE;\n",
              "  margin: 16px;\n",
              "  padding: 16px;\n",
              "}\n",
              "</style>"
            ]
          },
          "metadata": {}
        },
        {
          "output_type": "display_data",
          "data": {
            "text/plain": [
              "<IPython.core.display.HTML object>"
            ],
            "text/html": [
              "<style>\n",
              "div.output_markdown {\n",
              "  font-size: 16px\n",
              "}\n",
              "\n",
              "div.output_markdown pre code {\n",
              "  color: #222222;\n",
              "}\n",
              "\n",
              "div.output_markdown pre:nth-of-type(even) {\n",
              "  background: #CCCCCC;\n",
              "  margin: 16px;\n",
              "  padding: 16px;\n",
              "}\n",
              "\n",
              "div.output_markdown pre:nth-of-type(odd) {\n",
              "  background: #BBBBEE;\n",
              "  margin: 16px;\n",
              "  padding: 16px;\n",
              "}\n",
              "</style>"
            ]
          },
          "metadata": {}
        },
        {
          "output_type": "execute_result",
          "data": {
            "text/plain": [
              "<IPython.core.display.Markdown object>"
            ],
            "text/markdown": "I can calculate the sum of the first 200 prime numbers. \n\nFirst, I need to identify the first 200 prime numbers. A prime number is a whole number greater than 1 that is only divisible by 1 and itself. \n\n\n``` python\nimport sympy\n\ndef is_prime(num):\n    \"\"\"Checks if a number is prime.\"\"\"\n    if num <= 1:\n        return False\n    for i in range(2, int(num**0.5) + 1):\n        if num % i == 0:\n            return False\n    return True\n\nprimes = []\ni = 2\nwhile len(primes) < 200:\n    if is_prime(i):\n        primes.append(i)\n    i += 1\n\nprint(f'The first 200 prime numbers are: {primes}')\n\n```\n```\nThe first 200 prime numbers are: [2, 3, 5, 7, 11, 13, 17, 19, 23, 29, 31, 37, 41, 43, 47, 53, 59, 61, 67, 71, 73, 79, 83, 89, 97, 101, 103, 107, 109, 113, 127, 131, 137, 139, 149, 151, 157, 163, 167, 173, 179, 181, 191, 193, 197, 199, 211, 223, 227, 229, 233, 239, 241, 251, 257, 263, 269, 271, 277, 281, 283, 293, 307, 311, 313, 317, 331, 337, 347, 349, 353, 359, 367, 373, 379, 383, 389, 397, 401, 409, 419, 421, 431, 433, 439, 443, 449, 457, 461, 463, 467, 479, 487, 491, 499, 503, 509, 521, 523, 541, 547, 557, 563, 569, 571, 577, 587, 593, 599, 601, 607, 613, 617, 619, 631, 641, 643, 647, 653, 659, 661, 673, 677, 683, 691, 701, 709, 719, 727, 733, 739, 743, 751, 757, 761, 769, 773, 787, 797, 809, 811, 821, 823, 827, 829, 839, 853, 857, 859, 863, 877, 881, 883, 887, 907, 911, 919, 929, 937, 941, 947, 953, 967, 971, 977, 983, 991, 997, 1009, 1013, 1019, 1021, 1031, 1033, 1039, 1049, 1051, 1061, 1063, 1069, 1087, 1091, 1093, 1097, 1103, 1109, 1117, 1123, 1129, 1151, 1153, 1163, 1171, 1181, 1187, 1193, 1201, 1213, 1217, 1223]\n\n```\nNow that we have the first 200 prime numbers, let's calculate the sum:\n\n\n``` python\nprimes = [2, 3, 5, 7, 11, 13, 17, 19, 23, 29, 31, 37, 41, 43, 47, 53, 59, 61, 67, 71, 73, 79, 83, 89, 97, 101, 103, 107, 109, 113, 127, 131, 137, 139, 149, 151, 157, 163, 167, 173, 179, 181, 191, 193, 197, 199, 211, 223, 227, 229, 233, 239, 241, 251, 257, 263, 269, 271, 277, 281, 283, 293, 307, 311, 313, 317, 331, 337, 347, 349, 353, 359, 367, 373, 379, 383, 389, 397, 401, 409, 419, 421, 431, 433, 439, 443, 449, 457, 461, 463, 467, 479, 487, 491, 499, 503, 509, 521, 523, 541, 547, 557, 563, 569, 571, 577, 587, 593, 599, 601, 607, 613, 617, 619, 631, 641, 643, 647, 653, 659, 661, 673, 677, 683, 691, 701, 709, 719, 727, 733, 739, 743, 751, 757, 761, 769, 773, 787, 797, 809, 811, 821, 823, 827, 829, 839, 853, 857, 859, 863, 877, 881, 883, 887, 907, 911, 919, 929, 937, 941, 947, 953, 967, 971, 977, 983, 991, 997, 1009, 1013, 1019, 1021, 1031, 1033, 1039, 1049, 1051, 1061, 1063, 1069, 1087, 1091, 1093, 1097, 1103, 1109, 1117, 1123, 1129, 1151, 1153, 1163, 1171, 1181, 1187, 1193, 1201, 1213, 1217, 1223]\nsum_of_primes = sum(primes)\nprint(f'The sum of the first 200 prime numbers is: {sum_of_primes}')\n\n```\n```\nThe sum of the first 200 prime numbers is: 111587\n\n```\nThe sum of the first 200 prime numbers is 111587. \n"
          },
          "metadata": {},
          "execution_count": 66
        }
      ],
      "source": [
        "from IPython.display import Markdown\n",
        "Markdown(result.text)"
      ]
    },
    {
      "cell_type": "markdown",
      "metadata": {
        "id": "avyoRa0XF5wR"
      },
      "source": [
        "Note: you can also set the `tools` argument on the call to `generate_content`:"
      ]
    },
    {
      "cell_type": "code",
      "execution_count": null,
      "metadata": {
        "id": "DL2mRlNTF5JN",
        "outputId": "93b17b6a-64da-4879-d67b-fdd930498c49",
        "colab": {
          "base_uri": "https://localhost:8080/",
          "height": 17
        }
      },
      "outputs": [
        {
          "output_type": "display_data",
          "data": {
            "text/plain": [
              "<IPython.core.display.HTML object>"
            ],
            "text/html": [
              "<style>\n",
              "div.output_markdown {\n",
              "  font-size: 16px\n",
              "}\n",
              "\n",
              "div.output_markdown pre code {\n",
              "  color: #222222;\n",
              "}\n",
              "\n",
              "div.output_markdown pre:nth-of-type(even) {\n",
              "  background: #CCCCCC;\n",
              "  margin: 16px;\n",
              "  padding: 16px;\n",
              "}\n",
              "\n",
              "div.output_markdown pre:nth-of-type(odd) {\n",
              "  background: #BBBBEE;\n",
              "  margin: 16px;\n",
              "  padding: 16px;\n",
              "}\n",
              "</style>"
            ]
          },
          "metadata": {}
        },
        {
          "output_type": "display_data",
          "data": {
            "text/plain": [
              "<IPython.core.display.HTML object>"
            ],
            "text/html": [
              "<style>\n",
              "div.output_markdown {\n",
              "  font-size: 16px\n",
              "}\n",
              "\n",
              "div.output_markdown pre code {\n",
              "  color: #222222;\n",
              "}\n",
              "\n",
              "div.output_markdown pre:nth-of-type(even) {\n",
              "  background: #CCCCCC;\n",
              "  margin: 16px;\n",
              "  padding: 16px;\n",
              "}\n",
              "\n",
              "div.output_markdown pre:nth-of-type(odd) {\n",
              "  background: #BBBBEE;\n",
              "  margin: 16px;\n",
              "  padding: 16px;\n",
              "}\n",
              "</style>"
            ]
          },
          "metadata": {}
        }
      ],
      "source": [
        "model2 = genai.GenerativeModel(model_name='gemini-1.5-flash')"
      ]
    },
    {
      "cell_type": "code",
      "execution_count": null,
      "metadata": {
        "id": "fY062-nsGLBu",
        "outputId": "08493f85-48ec-440d-8912-955782bad971",
        "colab": {
          "base_uri": "https://localhost:8080/",
          "height": 17
        }
      },
      "outputs": [
        {
          "output_type": "display_data",
          "data": {
            "text/plain": [
              "<IPython.core.display.HTML object>"
            ],
            "text/html": [
              "<style>\n",
              "div.output_markdown {\n",
              "  font-size: 16px\n",
              "}\n",
              "\n",
              "div.output_markdown pre code {\n",
              "  color: #222222;\n",
              "}\n",
              "\n",
              "div.output_markdown pre:nth-of-type(even) {\n",
              "  background: #CCCCCC;\n",
              "  margin: 16px;\n",
              "  padding: 16px;\n",
              "}\n",
              "\n",
              "div.output_markdown pre:nth-of-type(odd) {\n",
              "  background: #BBBBEE;\n",
              "  margin: 16px;\n",
              "  padding: 16px;\n",
              "}\n",
              "</style>"
            ]
          },
          "metadata": {}
        },
        {
          "output_type": "display_data",
          "data": {
            "text/plain": [
              "<IPython.core.display.HTML object>"
            ],
            "text/html": [
              "<style>\n",
              "div.output_markdown {\n",
              "  font-size: 16px\n",
              "}\n",
              "\n",
              "div.output_markdown pre code {\n",
              "  color: #222222;\n",
              "}\n",
              "\n",
              "div.output_markdown pre:nth-of-type(even) {\n",
              "  background: #CCCCCC;\n",
              "  margin: 16px;\n",
              "  padding: 16px;\n",
              "}\n",
              "\n",
              "div.output_markdown pre:nth-of-type(odd) {\n",
              "  background: #BBBBEE;\n",
              "  margin: 16px;\n",
              "  padding: 16px;\n",
              "}\n",
              "</style>"
            ]
          },
          "metadata": {}
        }
      ],
      "source": [
        "response = model2.generate_content(\n",
        "    \"Write code to count how many letter r in the word strawberry\",\n",
        "    tools=\"code_execution\")"
      ]
    },
    {
      "cell_type": "code",
      "execution_count": null,
      "metadata": {
        "id": "fQY1_501GfP-",
        "outputId": "b7164798-e912-4987-b26a-e856753da76e",
        "colab": {
          "base_uri": "https://localhost:8080/",
          "height": 313
        }
      },
      "outputs": [
        {
          "output_type": "display_data",
          "data": {
            "text/plain": [
              "<IPython.core.display.HTML object>"
            ],
            "text/html": [
              "<style>\n",
              "div.output_markdown {\n",
              "  font-size: 16px\n",
              "}\n",
              "\n",
              "div.output_markdown pre code {\n",
              "  color: #222222;\n",
              "}\n",
              "\n",
              "div.output_markdown pre:nth-of-type(even) {\n",
              "  background: #CCCCCC;\n",
              "  margin: 16px;\n",
              "  padding: 16px;\n",
              "}\n",
              "\n",
              "div.output_markdown pre:nth-of-type(odd) {\n",
              "  background: #BBBBEE;\n",
              "  margin: 16px;\n",
              "  padding: 16px;\n",
              "}\n",
              "</style>"
            ]
          },
          "metadata": {}
        },
        {
          "output_type": "display_data",
          "data": {
            "text/plain": [
              "<IPython.core.display.HTML object>"
            ],
            "text/html": [
              "<style>\n",
              "div.output_markdown {\n",
              "  font-size: 16px\n",
              "}\n",
              "\n",
              "div.output_markdown pre code {\n",
              "  color: #222222;\n",
              "}\n",
              "\n",
              "div.output_markdown pre:nth-of-type(even) {\n",
              "  background: #CCCCCC;\n",
              "  margin: 16px;\n",
              "  padding: 16px;\n",
              "}\n",
              "\n",
              "div.output_markdown pre:nth-of-type(odd) {\n",
              "  background: #BBBBEE;\n",
              "  margin: 16px;\n",
              "  padding: 16px;\n",
              "}\n",
              "</style>"
            ]
          },
          "metadata": {}
        },
        {
          "output_type": "execute_result",
          "data": {
            "text/plain": [
              "<IPython.core.display.Markdown object>"
            ],
            "text/markdown": "\n``` python\nword = 'strawberry'\ncount = 0\nfor letter in word:\n  if letter == 'r':\n    count += 1\nprint(f'The word \"strawberry\" has {count} letter r')\n\n```\n```\nThe word \"strawberry\" has 3 letter r\n\n```\nThe code counts the number of 'r' letters in the word \"strawberry\".  It iterates through each letter of the word and checks if it is an 'r'. If it is, the count is incremented. Finally, it prints the number of 'r' letters found. \n"
          },
          "metadata": {},
          "execution_count": 69
        }
      ],
      "source": [
        "Markdown(response.text)"
      ]
    },
    {
      "cell_type": "markdown",
      "metadata": {
        "id": "4QTF9Lk6Ds-b"
      },
      "source": [
        "## Chat\n",
        "\n",
        "It works the same when using a `chat`:"
      ]
    },
    {
      "cell_type": "code",
      "execution_count": null,
      "metadata": {
        "id": "_19QkCnQEZSu",
        "outputId": "f07e8ae8-4e67-4f81-ac23-e3ef6895dedc",
        "colab": {
          "base_uri": "https://localhost:8080/",
          "height": 17
        }
      },
      "outputs": [
        {
          "output_type": "display_data",
          "data": {
            "text/plain": [
              "<IPython.core.display.HTML object>"
            ],
            "text/html": [
              "<style>\n",
              "div.output_markdown {\n",
              "  font-size: 16px\n",
              "}\n",
              "\n",
              "div.output_markdown pre code {\n",
              "  color: #222222;\n",
              "}\n",
              "\n",
              "div.output_markdown pre:nth-of-type(even) {\n",
              "  background: #CCCCCC;\n",
              "  margin: 16px;\n",
              "  padding: 16px;\n",
              "}\n",
              "\n",
              "div.output_markdown pre:nth-of-type(odd) {\n",
              "  background: #BBBBEE;\n",
              "  margin: 16px;\n",
              "  padding: 16px;\n",
              "}\n",
              "</style>"
            ]
          },
          "metadata": {}
        },
        {
          "output_type": "display_data",
          "data": {
            "text/plain": [
              "<IPython.core.display.HTML object>"
            ],
            "text/html": [
              "<style>\n",
              "div.output_markdown {\n",
              "  font-size: 16px\n",
              "}\n",
              "\n",
              "div.output_markdown pre code {\n",
              "  color: #222222;\n",
              "}\n",
              "\n",
              "div.output_markdown pre:nth-of-type(even) {\n",
              "  background: #CCCCCC;\n",
              "  margin: 16px;\n",
              "  padding: 16px;\n",
              "}\n",
              "\n",
              "div.output_markdown pre:nth-of-type(odd) {\n",
              "  background: #BBBBEE;\n",
              "  margin: 16px;\n",
              "  padding: 16px;\n",
              "}\n",
              "</style>"
            ]
          },
          "metadata": {}
        }
      ],
      "source": [
        "chat = model.start_chat()"
      ]
    },
    {
      "cell_type": "code",
      "execution_count": null,
      "metadata": {
        "id": "VFMAiEH_Dx6E",
        "outputId": "fd064b8b-5c56-4613-ba2e-caf14ede7927",
        "colab": {
          "base_uri": "https://localhost:8080/",
          "height": 533
        }
      },
      "outputs": [
        {
          "output_type": "display_data",
          "data": {
            "text/plain": [
              "<IPython.core.display.HTML object>"
            ],
            "text/html": [
              "<style>\n",
              "div.output_markdown {\n",
              "  font-size: 16px\n",
              "}\n",
              "\n",
              "div.output_markdown pre code {\n",
              "  color: #222222;\n",
              "}\n",
              "\n",
              "div.output_markdown pre:nth-of-type(even) {\n",
              "  background: #CCCCCC;\n",
              "  margin: 16px;\n",
              "  padding: 16px;\n",
              "}\n",
              "\n",
              "div.output_markdown pre:nth-of-type(odd) {\n",
              "  background: #BBBBEE;\n",
              "  margin: 16px;\n",
              "  padding: 16px;\n",
              "}\n",
              "</style>"
            ]
          },
          "metadata": {}
        },
        {
          "output_type": "display_data",
          "data": {
            "text/plain": [
              "<IPython.core.display.HTML object>"
            ],
            "text/html": [
              "<style>\n",
              "div.output_markdown {\n",
              "  font-size: 16px\n",
              "}\n",
              "\n",
              "div.output_markdown pre code {\n",
              "  color: #222222;\n",
              "}\n",
              "\n",
              "div.output_markdown pre:nth-of-type(even) {\n",
              "  background: #CCCCCC;\n",
              "  margin: 16px;\n",
              "  padding: 16px;\n",
              "}\n",
              "\n",
              "div.output_markdown pre:nth-of-type(odd) {\n",
              "  background: #BBBBEE;\n",
              "  margin: 16px;\n",
              "  padding: 16px;\n",
              "}\n",
              "</style>"
            ]
          },
          "metadata": {}
        },
        {
          "output_type": "execute_result",
          "data": {
            "text/plain": [
              "<IPython.core.display.Markdown object>"
            ],
            "text/markdown": "\n``` python\nimport random\n\ndef bogo_sort(list_):\n  while not is_sorted(list_):\n    random.shuffle(list_)\n  return list_\n\ndef is_sorted(list_):\n  for i in range(len(list_) - 1):\n    if list_[i] > list_[i + 1]:\n      return False\n  return True\n\nlist_ = [2, 34, 1, 65, 4]\nsorted_list = bogo_sort(list_)\nprint(sorted_list)\n\n```\n```\n[1, 2, 4, 34, 65]\n\n```\nBogo sort is a very inefficient sorting algorithm that works by repeatedly shuffling the list until it is sorted. The code I have written uses the `random.shuffle()` method to shuffle the list and the `is_sorted()` method to check if the list is sorted.  It then prints the sorted list.  While this does produce the correct result, it is extremely inefficient and likely to take a very long time to sort longer lists. \n"
          },
          "metadata": {},
          "execution_count": 71
        }
      ],
      "source": [
        "response = chat.send_message(\"Can you run some code to bogo-sort this list of numbers?: [2,34,1,65,4]\")\n",
        "Markdown(response.text)"
      ]
    },
    {
      "cell_type": "code",
      "execution_count": null,
      "metadata": {
        "id": "ANxrYfl0Bk6T",
        "outputId": "fcdfa92f-aede-4e90-ac21-100e877be674",
        "colab": {
          "base_uri": "https://localhost:8080/",
          "height": 571
        }
      },
      "outputs": [
        {
          "output_type": "display_data",
          "data": {
            "text/plain": [
              "<IPython.core.display.HTML object>"
            ],
            "text/html": [
              "<style>\n",
              "div.output_markdown {\n",
              "  font-size: 16px\n",
              "}\n",
              "\n",
              "div.output_markdown pre code {\n",
              "  color: #222222;\n",
              "}\n",
              "\n",
              "div.output_markdown pre:nth-of-type(even) {\n",
              "  background: #CCCCCC;\n",
              "  margin: 16px;\n",
              "  padding: 16px;\n",
              "}\n",
              "\n",
              "div.output_markdown pre:nth-of-type(odd) {\n",
              "  background: #BBBBEE;\n",
              "  margin: 16px;\n",
              "  padding: 16px;\n",
              "}\n",
              "</style>"
            ]
          },
          "metadata": {}
        },
        {
          "output_type": "display_data",
          "data": {
            "text/plain": [
              "<IPython.core.display.HTML object>"
            ],
            "text/html": [
              "<style>\n",
              "div.output_markdown {\n",
              "  font-size: 16px\n",
              "}\n",
              "\n",
              "div.output_markdown pre code {\n",
              "  color: #222222;\n",
              "}\n",
              "\n",
              "div.output_markdown pre:nth-of-type(even) {\n",
              "  background: #CCCCCC;\n",
              "  margin: 16px;\n",
              "  padding: 16px;\n",
              "}\n",
              "\n",
              "div.output_markdown pre:nth-of-type(odd) {\n",
              "  background: #BBBBEE;\n",
              "  margin: 16px;\n",
              "  padding: 16px;\n",
              "}\n",
              "</style>"
            ]
          },
          "metadata": {}
        },
        {
          "output_type": "execute_result",
          "data": {
            "text/plain": [
              "<IPython.core.display.Markdown object>"
            ],
            "text/markdown": "\n``` python\nimport random\n\ndef bogo_sort(list_):\n  iterations = 0\n  while not is_sorted(list_):\n    random.shuffle(list_)\n    iterations += 1\n  return list_, iterations\n\ndef is_sorted(list_):\n  for i in range(len(list_) - 1):\n    if list_[i] > list_[i + 1]:\n      return False\n  return True\n\nlist_ = [2, 34, 1, 65, 4]\nsorted_list, iterations = bogo_sort(list_)\nprint(f'{sorted_list=}, {iterations=}')\n\n```\n```\nsorted_list=[1, 2, 4, 34, 65], iterations=75\n\n```\nI modified the code to include a counter that tracks the number of iterations it takes to sort the list.  The code now returns both the sorted list and the number of iterations. For this specific list, it took 75 iterations.  It's worth noting that the number of iterations needed to sort a list using bogo sort is highly unpredictable and can vary significantly. \n"
          },
          "metadata": {},
          "execution_count": 72
        }
      ],
      "source": [
        "response = chat.send_message(\"Modify the code to count the number of iterations. How many iterations doews it take?\")\n",
        "Markdown(response.text)"
      ]
    },
    {
      "cell_type": "markdown",
      "metadata": {
        "id": "tQXlC1FdEnXH"
      },
      "source": [
        "## Multimedia"
      ]
    },
    {
      "cell_type": "markdown",
      "metadata": {
        "id": "_3PKhsYvF4Hs"
      },
      "source": [
        "You can pass media objects as part of the prompt, the model can look at these objects but it can't use them in the code."
      ]
    },
    {
      "cell_type": "code",
      "execution_count": null,
      "metadata": {
        "id": "bDg1bDRpAnFR",
        "outputId": "020d4dd7-0e26-48e0-f3d5-5c3993804195",
        "colab": {
          "base_uri": "https://localhost:8080/",
          "height": 69
        }
      },
      "outputs": [
        {
          "output_type": "display_data",
          "data": {
            "text/plain": [
              "<IPython.core.display.HTML object>"
            ],
            "text/html": [
              "<style>\n",
              "div.output_markdown {\n",
              "  font-size: 16px\n",
              "}\n",
              "\n",
              "div.output_markdown pre code {\n",
              "  color: #222222;\n",
              "}\n",
              "\n",
              "div.output_markdown pre:nth-of-type(even) {\n",
              "  background: #CCCCCC;\n",
              "  margin: 16px;\n",
              "  padding: 16px;\n",
              "}\n",
              "\n",
              "div.output_markdown pre:nth-of-type(odd) {\n",
              "  background: #BBBBEE;\n",
              "  margin: 16px;\n",
              "  padding: 16px;\n",
              "}\n",
              "</style>"
            ]
          },
          "metadata": {}
        },
        {
          "output_type": "display_data",
          "data": {
            "text/plain": [
              "<IPython.core.display.HTML object>"
            ],
            "text/html": [
              "<style>\n",
              "div.output_markdown {\n",
              "  font-size: 16px\n",
              "}\n",
              "\n",
              "div.output_markdown pre code {\n",
              "  color: #222222;\n",
              "}\n",
              "\n",
              "div.output_markdown pre:nth-of-type(even) {\n",
              "  background: #CCCCCC;\n",
              "  margin: 16px;\n",
              "  padding: 16px;\n",
              "}\n",
              "\n",
              "div.output_markdown pre:nth-of-type(odd) {\n",
              "  background: #BBBBEE;\n",
              "  margin: 16px;\n",
              "  padding: 16px;\n",
              "}\n",
              "</style>"
            ]
          },
          "metadata": {}
        },
        {
          "output_type": "stream",
          "name": "stdout",
          "text": [
            "  % Total    % Received % Xferd  Average Speed   Time    Time     Time  Current\n",
            "                                 Dload  Upload   Total   Spent    Left  Speed\n",
            "\r  0     0    0     0    0     0      0      0 --:--:-- --:--:-- --:--:--     0\r100 24719  100 24719    0     0   122k      0 --:--:-- --:--:-- --:--:--  122k\n"
          ]
        }
      ],
      "source": [
        "! curl -o montey_hall.png https://upload.wikimedia.org/wikipedia/commons/thumb/3/3f/Monty_open_door.svg/640px-Monty_open_door.svg.png"
      ]
    },
    {
      "cell_type": "code",
      "execution_count": null,
      "metadata": {
        "id": "1Uhq7nZPEsvO",
        "outputId": "c0c3e9b9-76bf-4770-bd69-ff29d4d7b543",
        "colab": {
          "base_uri": "https://localhost:8080/",
          "height": 373
        }
      },
      "outputs": [
        {
          "output_type": "display_data",
          "data": {
            "text/plain": [
              "<IPython.core.display.HTML object>"
            ],
            "text/html": [
              "<style>\n",
              "div.output_markdown {\n",
              "  font-size: 16px\n",
              "}\n",
              "\n",
              "div.output_markdown pre code {\n",
              "  color: #222222;\n",
              "}\n",
              "\n",
              "div.output_markdown pre:nth-of-type(even) {\n",
              "  background: #CCCCCC;\n",
              "  margin: 16px;\n",
              "  padding: 16px;\n",
              "}\n",
              "\n",
              "div.output_markdown pre:nth-of-type(odd) {\n",
              "  background: #BBBBEE;\n",
              "  margin: 16px;\n",
              "  padding: 16px;\n",
              "}\n",
              "</style>"
            ]
          },
          "metadata": {}
        },
        {
          "output_type": "display_data",
          "data": {
            "text/plain": [
              "<IPython.core.display.HTML object>"
            ],
            "text/html": [
              "<style>\n",
              "div.output_markdown {\n",
              "  font-size: 16px\n",
              "}\n",
              "\n",
              "div.output_markdown pre code {\n",
              "  color: #222222;\n",
              "}\n",
              "\n",
              "div.output_markdown pre:nth-of-type(even) {\n",
              "  background: #CCCCCC;\n",
              "  margin: 16px;\n",
              "  padding: 16px;\n",
              "}\n",
              "\n",
              "div.output_markdown pre:nth-of-type(odd) {\n",
              "  background: #BBBBEE;\n",
              "  margin: 16px;\n",
              "  padding: 16px;\n",
              "}\n",
              "</style>"
            ]
          },
          "metadata": {}
        },
        {
          "output_type": "execute_result",
          "data": {
            "text/plain": [
              "<PIL.PngImagePlugin.PngImageFile image mode=RGBA size=640x356>"
            ],
            "image/png": "[encoded data removed]"
          },
          "metadata": {},
          "execution_count": 74
        }
      ],
      "source": [
        "from PIL import Image\n",
        "montey_hall_image = Image.open(\"montey_hall.png\")\n",
        "montey_hall_image"
      ]
    },
    {
      "cell_type": "code",
      "execution_count": null,
      "metadata": {
        "id": "2S0WIddTEzUm",
        "outputId": "06ea28e7-fe11-41b5-9ff3-bf5c41853756",
        "colab": {
          "base_uri": "https://localhost:8080/",
          "height": 1000
        }
      },
      "outputs": [
        {
          "output_type": "display_data",
          "data": {
            "text/plain": [
              "<IPython.core.display.HTML object>"
            ],
            "text/html": [
              "<style>\n",
              "div.output_markdown {\n",
              "  font-size: 16px\n",
              "}\n",
              "\n",
              "div.output_markdown pre code {\n",
              "  color: #222222;\n",
              "}\n",
              "\n",
              "div.output_markdown pre:nth-of-type(even) {\n",
              "  background: #CCCCCC;\n",
              "  margin: 16px;\n",
              "  padding: 16px;\n",
              "}\n",
              "\n",
              "div.output_markdown pre:nth-of-type(odd) {\n",
              "  background: #BBBBEE;\n",
              "  margin: 16px;\n",
              "  padding: 16px;\n",
              "}\n",
              "</style>"
            ]
          },
          "metadata": {}
        },
        {
          "output_type": "display_data",
          "data": {
            "text/plain": [
              "<IPython.core.display.HTML object>"
            ],
            "text/html": [
              "<style>\n",
              "div.output_markdown {\n",
              "  font-size: 16px\n",
              "}\n",
              "\n",
              "div.output_markdown pre code {\n",
              "  color: #222222;\n",
              "}\n",
              "\n",
              "div.output_markdown pre:nth-of-type(even) {\n",
              "  background: #CCCCCC;\n",
              "  margin: 16px;\n",
              "  padding: 16px;\n",
              "}\n",
              "\n",
              "div.output_markdown pre:nth-of-type(odd) {\n",
              "  background: #BBBBEE;\n",
              "  margin: 16px;\n",
              "  padding: 16px;\n",
              "}\n",
              "</style>"
            ]
          },
          "metadata": {}
        },
        {
          "output_type": "execute_result",
          "data": {
            "text/plain": [
              "<IPython.core.display.Markdown object>"
            ],
            "text/markdown": "I can help you with that. I will run a Monte Carlo simulation to determine the best strategy in the Monty Hall Problem.\n\n\n``` python\nimport random\n\ndef play_monty_hall(switch):\n  \"\"\"Plays a single round of Monty Hall.\n\n  Args:\n      switch: Whether to switch doors after the host reveals a goat.\n\n  Returns:\n      True if the player wins, False otherwise.\n  \"\"\"\n  # Choose a door randomly\n  chosen_door = random.randint(1, 3)\n\n  # Determine the door with the car\n  car_door = random.randint(1, 3)\n\n  # The host reveals a goat behind a different door\n  if chosen_door == car_door:\n    goat_door = random.choice([door for door in range(1, 4) if door != chosen_door])\n  else:\n    goat_door = random.choice([door for door in range(1, 4) if door != chosen_door and door != car_door])\n\n  # If the player switches, they switch to the remaining unopened door\n  if switch:\n    remaining_door = [door for door in range(1, 4) if door != chosen_door and door != goat_door][0]\n    chosen_door = remaining_door\n\n  # Check if the player won\n  return chosen_door == car_door\n\ndef run_simulation(num_trials, switch):\n  \"\"\"Runs the Monty Hall simulation for a given number of trials.\n\n  Args:\n      num_trials: The number of times to play the game.\n      switch: Whether to switch doors after the host reveals a goat.\n\n  Returns:\n      The percentage of wins.\n  \"\"\"\n  wins = 0\n  for _ in range(num_trials):\n    if play_monty_hall(switch):\n      wins += 1\n  return (wins / num_trials) * 100\n\n# Run the simulation for both strategies\nnum_trials = 1000\nprint(f'Win percentage with switching: {run_simulation(num_trials, switch=True)}%')\nprint(f'Win percentage without switching: {run_simulation(num_trials, switch=False)}%')\n\n```\n```\nWin percentage with switching: 65.8%\nWin percentage without switching: 31.4%\n\n```\nThe simulation shows that switching doors significantly increases your chances of winning.\n\n**Here's how the code works:**\n\n1. **`play_monty_hall(switch)`:**\n   - Randomly assigns the car and your initial door choice.\n   - Determines the goat door to reveal based on your initial choice and the car door.\n   - If `switch` is True, it switches your choice to the remaining unopened door.\n   - Returns True if you win (your final choice is the car door) and False otherwise.\n\n2. **`run_simulation(num_trials, switch)`:**\n   - Runs `play_monty_hall` for a specified number of trials.\n   - Tracks the number of wins.\n   - Calculates and returns the win percentage.\n\n3. **Main Code:**\n   - Sets the number of trials to 1000.\n   - Calls `run_simulation` twice, once with `switch=True` (switching doors) and once with `switch=False` (not switching).\n   - Prints the win percentages for both strategies.\n\n**Conclusion:**\n\nThe simulation demonstrates that switching doors in the Monty Hall Problem consistently results in a higher win rate. This confirms the counterintuitive but mathematically sound solution to the problem. Switching doors approximately doubles your chances of winning the car. \n"
          },
          "metadata": {},
          "execution_count": 75
        }
      ],
      "source": [
        "prompt=\"\"\"\n",
        "Run a simulation of the Monty Hall Problem with 1,000 trials.\n",
        "\n",
        "\n",
        "Here's how this works as a reminder. In the Monty Hall Problem, you're on a game\n",
        "show with three doors. Behind one is a car, and behind the others are goats. You\n",
        "pick a door. The host, who knows what's behind the doors, opens a different door\n",
        "to reveal a goat. Should you switch to the remaining unopened door?\n",
        "\n",
        "\n",
        "The answer has always been a little difficult for me to understand when people\n",
        "solve it with math - so please run a simulation with Python to show me what the\n",
        "best strategy is.\n",
        "\n",
        "\n",
        "Thank you!\n",
        "\"\"\"\n",
        "result = model.generate_content([montey_hall_image, prompt])\n",
        "Markdown(result.text)"
      ]
    },
    {
      "cell_type": "markdown",
      "metadata": {
        "id": "nFZ3XoCRGnhO"
      },
      "source": [
        "## Streaming"
      ]
    },
    {
      "cell_type": "markdown",
      "metadata": {
        "id": "crv9H7euGuqP"
      },
      "source": [
        "Streaming is compatible with code execution. Just note that successive parts of the same type (`text`, `executable_code` or `execution_result`) are meant to be joined together:"
      ]
    },
    {
      "cell_type": "code",
      "execution_count": null,
      "metadata": {
        "id": "J9s8DPy7GuKN",
        "outputId": "d1b36bfb-be04-430b-bbc9-edcd5784a852",
        "colab": {
          "base_uri": "https://localhost:8080/",
          "height": 922
        }
      },
      "outputs": [
        {
          "output_type": "display_data",
          "data": {
            "text/plain": [
              "<IPython.core.display.HTML object>"
            ],
            "text/html": [
              "<style>\n",
              "div.output_markdown {\n",
              "  font-size: 16px\n",
              "}\n",
              "\n",
              "div.output_markdown pre code {\n",
              "  color: #222222;\n",
              "}\n",
              "\n",
              "div.output_markdown pre:nth-of-type(even) {\n",
              "  background: #CCCCCC;\n",
              "  margin: 16px;\n",
              "  padding: 16px;\n",
              "}\n",
              "\n",
              "div.output_markdown pre:nth-of-type(odd) {\n",
              "  background: #BBBBEE;\n",
              "  margin: 16px;\n",
              "  padding: 16px;\n",
              "}\n",
              "</style>"
            ]
          },
          "metadata": {}
        },
        {
          "output_type": "display_data",
          "data": {
            "text/plain": [
              "<IPython.core.display.HTML object>"
            ],
            "text/html": [
              "<style>\n",
              "div.output_markdown {\n",
              "  font-size: 16px\n",
              "}\n",
              "\n",
              "div.output_markdown pre code {\n",
              "  color: #222222;\n",
              "}\n",
              "\n",
              "div.output_markdown pre:nth-of-type(even) {\n",
              "  background: #CCCCCC;\n",
              "  margin: 16px;\n",
              "  padding: 16px;\n",
              "}\n",
              "\n",
              "div.output_markdown pre:nth-of-type(odd) {\n",
              "  background: #BBBBEE;\n",
              "  margin: 16px;\n",
              "  padding: 16px;\n",
              "}\n",
              "</style>"
            ]
          },
          "metadata": {}
        },
        {
          "output_type": "stream",
          "name": "stdout",
          "text": [
            "text: \"I\"\n",
            "\n",
            "----------------------------------------\n",
            "text: \" can do that!\\n\\nHere\\'s how the simulation works:\\n\\n1.\"\n",
            "\n",
            "----------------------------------------\n",
            "text: \" **Simulate the game 1,000 times:** For each trial\"\n",
            "\n",
            "----------------------------------------\n",
            "text: \", we randomly choose a door to hide the car and a door for the player to choose initially.\\n2. **The host reveals a goat:** The host\"\n",
            "\n",
            "----------------------------------------\n",
            "text: \" will always reveal a goat behind a door different from the player\\'s initial choice.\\n3. **The player can switch or stay:** We simulate both strategies\"\n",
            "\n",
            "----------------------------------------\n",
            "text: \" (switch and stay) and count the wins for each.\\n\\n\"\n",
            "\n",
            "----------------------------------------\n",
            "executable_code {\n",
            "  language: PYTHON\n",
            "  code: \"\\nimport random\\n\\ndef play_monty_hall(switch):\\n    \\\"\\\"\\\"Simulates a single round of Monty Hall.\\n\\n    Args:\\n        switch: Whether the player switches doors.\\n\\n    Returns:\\n        True if the player wins, False otherwise.\\n    \\\"\\\"\\\"\\n\\n    # Randomly choose a door for the car\\n    car_door = random.randint(1, 3)\\n\\n    # Randomly choose a door for the player\\n    player_choice = random.randint(1, 3)\\n\\n    # The host reveals a goat\\n    goat_door = [door for door in range(1, 4) if door != car_door and door != player_choice][0]\\n\\n    # If the player switches, they choose the remaining door\\n    if switch:\\n        new_choice = [door for door in range(1, 4) if door != player_choice and door != goat_door][0]\\n        return new_choice == car_door\\n    # Otherwise, they stick with their original choice\\n    else:\\n        return player_choice == car_door\\n\\ndef run_simulation(num_trials):\\n    \\\"\\\"\\\"Runs the Monty Hall simulation for a given number of trials.\\n\\n    Args:\\n        num_trials: The number of simulations to run.\\n\\n    Returns:\\n        A tuple containing the win rates for switching and staying.\\n    \\\"\\\"\\\"\\n\\n    switch_wins = 0\\n    stay_wins = 0\\n\\n    for _ in range(num_trials):\\n        switch_wins += int(play_monty_hall(switch=True))\\n        stay_wins += int(play_monty_hall(switch=False))\\n\\n    return switch_wins / num_trials, stay_wins / num_trials\\n\\nswitch_win_rate, stay_win_rate = run_simulation(1000)\\nprint(f\\'Win rate for switching: {switch_win_rate:.2f}\\')\\nprint(f\\'Win rate for staying: {stay_win_rate:.2f}\\')\\n\\n\"\n",
            "}\n",
            "\n",
            "----------------------------------------\n",
            "code_execution_result {\n",
            "  outcome: OUTCOME_OK\n",
            "  output: \"Win rate for switching: 0.67\\nWin rate for staying: 0.31\\n\"\n",
            "}\n",
            "\n",
            "----------------------------------------\n",
            "text: \"The\"\n",
            "\n",
            "----------------------------------------\n",
            "text: \" simulation ran 1000 times, and the results show that switching doors\"\n",
            "\n",
            "----------------------------------------\n",
            "text: \" wins roughly 67% of the time, while staying with the initial choice\"\n",
            "\n",
            "----------------------------------------\n",
            "text: \" wins roughly 31% of the time. \\n\\nThis demonstrates that switching doors is the optimal strategy in the Monty Hall Problem. The intuition behind this is\"\n",
            "\n",
            "----------------------------------------\n",
            "text: \" that when you initially choose a door, you have a 1/3 chance of being right. This means there\\'s a 2/3 chance the\"\n",
            "\n",
            "----------------------------------------\n",
            "text: \" car is behind one of the other two doors. When the host reveals a goat, they\\'re essentially concentrating that 2/3 probability onto the remaining unopened door. By switching, you\\'re taking advantage of that concentrated probability. \"\n",
            "\n",
            "----------------------------------------\n",
            "text: \"\\n\"\n",
            "\n",
            "----------------------------------------\n"
          ]
        }
      ],
      "source": [
        "result = model.generate_content([montey_hall_image, prompt], stream=True)\n",
        "for chunk in result:\n",
        "  print(chunk.candidates[0].content.parts[0])\n",
        "  print('----------------------------------------')"
      ]
    },
    {
      "cell_type": "markdown",
      "metadata": {
        "id": "QvIoEpQyifU_"
      },
      "source": [
        "The result object automatically joins the parts, as you iterate over them:"
      ]
    },
    {
      "cell_type": "code",
      "execution_count": null,
      "metadata": {
        "id": "yjUSubFXiaEP",
        "outputId": "6a3a577b-f794-47ae-9bbf-0b59cdb8effe",
        "colab": {
          "base_uri": "https://localhost:8080/",
          "height": 349
        }
      },
      "outputs": [
        {
          "output_type": "display_data",
          "data": {
            "text/plain": [
              "<IPython.core.display.HTML object>"
            ],
            "text/html": [
              "<style>\n",
              "div.output_markdown {\n",
              "  font-size: 16px\n",
              "}\n",
              "\n",
              "div.output_markdown pre code {\n",
              "  color: #222222;\n",
              "}\n",
              "\n",
              "div.output_markdown pre:nth-of-type(even) {\n",
              "  background: #CCCCCC;\n",
              "  margin: 16px;\n",
              "  padding: 16px;\n",
              "}\n",
              "\n",
              "div.output_markdown pre:nth-of-type(odd) {\n",
              "  background: #BBBBEE;\n",
              "  margin: 16px;\n",
              "  padding: 16px;\n",
              "}\n",
              "</style>"
            ]
          },
          "metadata": {}
        },
        {
          "output_type": "display_data",
          "data": {
            "text/plain": [
              "<IPython.core.display.HTML object>"
            ],
            "text/html": [
              "<style>\n",
              "div.output_markdown {\n",
              "  font-size: 16px\n",
              "}\n",
              "\n",
              "div.output_markdown pre code {\n",
              "  color: #222222;\n",
              "}\n",
              "\n",
              "div.output_markdown pre:nth-of-type(even) {\n",
              "  background: #CCCCCC;\n",
              "  margin: 16px;\n",
              "  padding: 16px;\n",
              "}\n",
              "\n",
              "div.output_markdown pre:nth-of-type(odd) {\n",
              "  background: #BBBBEE;\n",
              "  margin: 16px;\n",
              "  padding: 16px;\n",
              "}\n",
              "</style>"
            ]
          },
          "metadata": {}
        },
        {
          "output_type": "stream",
          "name": "stdout",
          "text": [
            "text: \"I can do that!\\n\\nHere\\'s how the simulation works:\\n\\n1. **Simulate the game 1,000 times:** For each trial, we randomly choose a door to hide the car and a door for the player to choose initially.\\n2. **The host reveals a goat:** The host will always reveal a goat behind a door different from the player\\'s initial choice.\\n3. **The player can switch or stay:** We simulate both strategies (switch and stay) and count the wins for each.\\n\\n\"\n",
            "\n",
            "----------------------------------------\n",
            "executable_code {\n",
            "  language: PYTHON\n",
            "  code: \"\\nimport random\\n\\ndef play_monty_hall(switch):\\n    \\\"\\\"\\\"Simulates a single round of Monty Hall.\\n\\n    Args:\\n        switch: Whether the player switches doors.\\n\\n    Returns:\\n        True if the player wins, False otherwise.\\n    \\\"\\\"\\\"\\n\\n    # Randomly choose a door for the car\\n    car_door = random.randint(1, 3)\\n\\n    # Randomly choose a door for the player\\n    player_choice = random.randint(1, 3)\\n\\n    # The host reveals a goat\\n    goat_door = [door for door in range(1, 4) if door != car_door and door != player_choice][0]\\n\\n    # If the player switches, they choose the remaining door\\n    if switch:\\n        new_choice = [door for door in range(1, 4) if door != player_choice and door != goat_door][0]\\n        return new_choice == car_door\\n    # Otherwise, they stick with their original choice\\n    else:\\n        return player_choice == car_door\\n\\ndef run_simulation(num_trials):\\n    \\\"\\\"\\\"Runs the Monty Hall simulation for a given number of trials.\\n\\n    Args:\\n        num_trials: The number of simulations to run.\\n\\n    Returns:\\n        A tuple containing the win rates for switching and staying.\\n    \\\"\\\"\\\"\\n\\n    switch_wins = 0\\n    stay_wins = 0\\n\\n    for _ in range(num_trials):\\n        switch_wins += int(play_monty_hall(switch=True))\\n        stay_wins += int(play_monty_hall(switch=False))\\n\\n    return switch_wins / num_trials, stay_wins / num_trials\\n\\nswitch_win_rate, stay_win_rate = run_simulation(1000)\\nprint(f\\'Win rate for switching: {switch_win_rate:.2f}\\')\\nprint(f\\'Win rate for staying: {stay_win_rate:.2f}\\')\\n\\n\"\n",
            "}\n",
            "\n",
            "----------------------------------------\n",
            "code_execution_result {\n",
            "  outcome: OUTCOME_OK\n",
            "  output: \"Win rate for switching: 0.67\\nWin rate for staying: 0.31\\n\"\n",
            "}\n",
            "\n",
            "----------------------------------------\n",
            "text: \"The simulation ran 1000 times, and the results show that switching doors wins roughly 67% of the time, while staying with the initial choice wins roughly 31% of the time. \\n\\nThis demonstrates that switching doors is the optimal strategy in the Monty Hall Problem. The intuition behind this is that when you initially choose a door, you have a 1/3 chance of being right. This means there\\'s a 2/3 chance the car is behind one of the other two doors. When the host reveals a goat, they\\'re essentially concentrating that 2/3 probability onto the remaining unopened door. By switching, you\\'re taking advantage of that concentrated probability. \\n\"\n",
            "\n",
            "----------------------------------------\n"
          ]
        }
      ],
      "source": [
        "for part in result.candidates[0].content.parts:\n",
        "  print(part)\n",
        "  print('----------------------------------------')"
      ]
    },
    {
      "cell_type": "code",
      "execution_count": null,
      "metadata": {
        "id": "3sJ7LTpVFsqM",
        "outputId": "2a247d9d-60f6-4f1f-918f-8c861d841161",
        "colab": {
          "base_uri": "https://localhost:8080/",
          "height": 1000
        }
      },
      "outputs": [
        {
          "output_type": "display_data",
          "data": {
            "text/plain": [
              "<IPython.core.display.HTML object>"
            ],
            "text/html": [
              "<style>\n",
              "div.output_markdown {\n",
              "  font-size: 16px\n",
              "}\n",
              "\n",
              "div.output_markdown pre code {\n",
              "  color: #222222;\n",
              "}\n",
              "\n",
              "div.output_markdown pre:nth-of-type(even) {\n",
              "  background: #CCCCCC;\n",
              "  margin: 16px;\n",
              "  padding: 16px;\n",
              "}\n",
              "\n",
              "div.output_markdown pre:nth-of-type(odd) {\n",
              "  background: #BBBBEE;\n",
              "  margin: 16px;\n",
              "  padding: 16px;\n",
              "}\n",
              "</style>"
            ]
          },
          "metadata": {}
        },
        {
          "output_type": "display_data",
          "data": {
            "text/plain": [
              "<IPython.core.display.HTML object>"
            ],
            "text/html": [
              "<style>\n",
              "div.output_markdown {\n",
              "  font-size: 16px\n",
              "}\n",
              "\n",
              "div.output_markdown pre code {\n",
              "  color: #222222;\n",
              "}\n",
              "\n",
              "div.output_markdown pre:nth-of-type(even) {\n",
              "  background: #CCCCCC;\n",
              "  margin: 16px;\n",
              "  padding: 16px;\n",
              "}\n",
              "\n",
              "div.output_markdown pre:nth-of-type(odd) {\n",
              "  background: #BBBBEE;\n",
              "  margin: 16px;\n",
              "  padding: 16px;\n",
              "}\n",
              "</style>"
            ]
          },
          "metadata": {}
        },
        {
          "output_type": "stream",
          "name": "stdout",
          "text": [
            "I can do that!\n",
            "\n",
            "Here's how the simulation works:\n",
            "\n",
            "1. **Simulate the game 1,000 times:** For each trial, we randomly choose a door to hide the car and a door for the player to choose initially.\n",
            "2. **The host reveals a goat:** The host will always reveal a goat behind a door different from the player's initial choice.\n",
            "3. **The player can switch or stay:** We simulate both strategies (switch and stay) and count the wins for each.\n",
            "\n",
            "\n",
            "``` python\n",
            "import random\n",
            "\n",
            "def play_monty_hall(switch):\n",
            "    \"\"\"Simulates a single round of Monty Hall.\n",
            "\n",
            "    Args:\n",
            "        switch: Whether the player switches doors.\n",
            "\n",
            "    Returns:\n",
            "        True if the player wins, False otherwise.\n",
            "    \"\"\"\n",
            "\n",
            "    # Randomly choose a door for the car\n",
            "    car_door = random.randint(1, 3)\n",
            "\n",
            "    # Randomly choose a door for the player\n",
            "    player_choice = random.randint(1, 3)\n",
            "\n",
            "    # The host reveals a goat\n",
            "    goat_door = [door for door in range(1, 4) if door != car_door and door != player_choice][0]\n",
            "\n",
            "    # If the player switches, they choose the remaining door\n",
            "    if switch:\n",
            "        new_choice = [door for door in range(1, 4) if door != player_choice and door != goat_door][0]\n",
            "        return new_choice == car_door\n",
            "    # Otherwise, they stick with their original choice\n",
            "    else:\n",
            "        return player_choice == car_door\n",
            "\n",
            "def run_simulation(num_trials):\n",
            "    \"\"\"Runs the Monty Hall simulation for a given number of trials.\n",
            "\n",
            "    Args:\n",
            "        num_trials: The number of simulations to run.\n",
            "\n",
            "    Returns:\n",
            "        A tuple containing the win rates for switching and staying.\n",
            "    \"\"\"\n",
            "\n",
            "    switch_wins = 0\n",
            "    stay_wins = 0\n",
            "\n",
            "    for _ in range(num_trials):\n",
            "        switch_wins += int(play_monty_hall(switch=True))\n",
            "        stay_wins += int(play_monty_hall(switch=False))\n",
            "\n",
            "    return switch_wins / num_trials, stay_wins / num_trials\n",
            "\n",
            "switch_win_rate, stay_win_rate = run_simulation(1000)\n",
            "print(f'Win rate for switching: {switch_win_rate:.2f}')\n",
            "print(f'Win rate for staying: {stay_win_rate:.2f}')\n",
            "\n",
            "\n",
            "```\n",
            "```\n",
            "Win rate for switching: 0.67\n",
            "Win rate for staying: 0.31\n",
            "\n",
            "```\n",
            "The simulation ran 1000 times, and the results show that switching doors wins roughly 67% of the time, while staying with the initial choice wins roughly 31% of the time. \n",
            "\n",
            "This demonstrates that switching doors is the optimal strategy in the Monty Hall Problem. The intuition behind this is that when you initially choose a door, you have a 1/3 chance of being right. This means there's a 2/3 chance the car is behind one of the other two doors. When the host reveals a goat, they're essentially concentrating that 2/3 probability onto the remaining unopened door. By switching, you're taking advantage of that concentrated probability. \n",
            "\n"
          ]
        }
      ],
      "source": [
        "print(result.text)"
      ]
    },
    {
      "cell_type": "code",
      "source": [],
      "metadata": {
        "id": "teKpK1JJ4BCV"
      },
      "execution_count": null,
      "outputs": []
    },
    {
      "cell_type": "code",
      "source": [
        "import os\n",
        "import google.generativeai as genai\n",
        "\n",
        "# Configure the API key\n",
        "# genai.configure(api_key=os.environ['GEMINI_API_KEY'])\n",
        "\n",
        "# Initialize the model\n",
        "model = genai.GenerativeModel(model_name='gemini-1.5-pro', tools='code_execution')\n",
        "\n",
        "# Example 1: Simple Arithmetic\n",
        "def simple_arithmetic():\n",
        "    prompt = \"Calculate the sum of numbers from 1 to 100.\"\n",
        "    response = model.generate_content(prompt)\n",
        "    return response\n",
        "\n",
        "\n",
        "# Example 2: String Manipulation\n",
        "def string_manipulation():\n",
        "    prompt = \"\"\"\n",
        "    Given the string \"Hello, World! Welcome to Gemini API.\", perform the following tasks:\n",
        "    1. Convert the string to uppercase\n",
        "    2. Count the number of vowels\n",
        "    3. Reverse the string\n",
        "    \"\"\"\n",
        "    response = model.generate_content(prompt)\n",
        "    print(\"Example 2: String Manipulation\")\n",
        "    return response\n",
        "\n",
        "# Example 3: Data Analysis\n",
        "def data_analysis():\n",
        "    prompt = \"\"\"\n",
        "    Generate a list of 100 random numbers between 1 and 1000. Then perform the following analysis:\n",
        "    1. Calculate the mean, median, and mode\n",
        "    2. Find the minimum and maximum values\n",
        "    3. Calculate the standard deviation\n",
        "    4. Create a histogram of the data distribution\n",
        "    \"\"\"\n",
        "    response = model.generate_content(prompt)\n",
        "    print(\"Example 3: Data Analysis\")\n",
        "    return response\n",
        "\n",
        "# Example 4: Web Scraping Simulation\n",
        "def web_scraping_simulation():\n",
        "    prompt = \"\"\"\n",
        "    Simulate web scraping by creating a mock HTML content for a product page. Then extract the following information:\n",
        "    1. Product name\n",
        "    2. Price\n",
        "    3. Description\n",
        "    4. Customer ratings (assume there are multiple ratings)\n",
        "    Calculate the average rating and format the output as a JSON object.\n",
        "    \"\"\"\n",
        "    response = model.generate_content(prompt)\n",
        "    print(\"Example 4: Web Scraping Simulation\")\n",
        "    return response\n",
        "\n",
        "# Example 5: Machine Learning Model\n",
        "def machine_learning_model():\n",
        "    prompt = \"\"\"\n",
        "    Create a simple machine learning model to predict house prices. Follow these steps:\n",
        "    1. Generate a synthetic dataset with features: square footage, number of bedrooms, and year built\n",
        "    2. Split the data into training and testing sets\n",
        "    3. Create and train a linear regression model\n",
        "    4. Evaluate the model's performance on the test set\n",
        "    5. Use the model to predict the price of a house with 2000 sq ft, 3 bedrooms, built in 2010\n",
        "    \"\"\"\n",
        "    response = model.generate_content(prompt)\n",
        "    print(\"Example 5: Machine Learning Model\")\n",
        "    return response\n",
        "\n"
      ],
      "metadata": {
        "colab": {
          "base_uri": "https://localhost:8080/",
          "height": 17
        },
        "id": "qOgD7ISXEYd8",
        "outputId": "e5b0997a-b2f3-44f4-d137-aa720f29338e"
      },
      "execution_count": null,
      "outputs": [
        {
          "output_type": "display_data",
          "data": {
            "text/plain": [
              "<IPython.core.display.HTML object>"
            ],
            "text/html": [
              "<style>\n",
              "div.output_markdown {\n",
              "  font-size: 16px\n",
              "}\n",
              "\n",
              "div.output_markdown pre code {\n",
              "  color: #222222;\n",
              "}\n",
              "\n",
              "div.output_markdown pre:nth-of-type(even) {\n",
              "  background: #CCCCCC;\n",
              "  margin: 16px;\n",
              "  padding: 16px;\n",
              "}\n",
              "\n",
              "div.output_markdown pre:nth-of-type(odd) {\n",
              "  background: #BBBBEE;\n",
              "  margin: 16px;\n",
              "  padding: 16px;\n",
              "}\n",
              "</style>"
            ]
          },
          "metadata": {}
        },
        {
          "output_type": "display_data",
          "data": {
            "text/plain": [
              "<IPython.core.display.HTML object>"
            ],
            "text/html": [
              "<style>\n",
              "div.output_markdown {\n",
              "  font-size: 16px\n",
              "}\n",
              "\n",
              "div.output_markdown pre code {\n",
              "  color: #222222;\n",
              "}\n",
              "\n",
              "div.output_markdown pre:nth-of-type(even) {\n",
              "  background: #CCCCCC;\n",
              "  margin: 16px;\n",
              "  padding: 16px;\n",
              "}\n",
              "\n",
              "div.output_markdown pre:nth-of-type(odd) {\n",
              "  background: #BBBBEE;\n",
              "  margin: 16px;\n",
              "  padding: 16px;\n",
              "}\n",
              "</style>"
            ]
          },
          "metadata": {}
        }
      ]
    },
    {
      "cell_type": "code",
      "source": [
        "response = simple_arithmetic()\n",
        "Markdown(response.text)"
      ],
      "metadata": {
        "colab": {
          "base_uri": "https://localhost:8080/",
          "height": 280
        },
        "id": "GqNeksg-EgX9",
        "outputId": "ab078b5c-c39e-43d4-8a9f-5d0d077ce3ee"
      },
      "execution_count": null,
      "outputs": [
        {
          "output_type": "display_data",
          "data": {
            "text/plain": [
              "<IPython.core.display.HTML object>"
            ],
            "text/html": [
              "<style>\n",
              "div.output_markdown {\n",
              "  font-size: 16px\n",
              "}\n",
              "\n",
              "div.output_markdown pre code {\n",
              "  color: #222222;\n",
              "}\n",
              "\n",
              "div.output_markdown pre:nth-of-type(even) {\n",
              "  background: #CCCCCC;\n",
              "  margin: 16px;\n",
              "  padding: 16px;\n",
              "}\n",
              "\n",
              "div.output_markdown pre:nth-of-type(odd) {\n",
              "  background: #BBBBEE;\n",
              "  margin: 16px;\n",
              "  padding: 16px;\n",
              "}\n",
              "</style>"
            ]
          },
          "metadata": {}
        },
        {
          "output_type": "display_data",
          "data": {
            "text/plain": [
              "<IPython.core.display.HTML object>"
            ],
            "text/html": [
              "<style>\n",
              "div.output_markdown {\n",
              "  font-size: 16px\n",
              "}\n",
              "\n",
              "div.output_markdown pre code {\n",
              "  color: #222222;\n",
              "}\n",
              "\n",
              "div.output_markdown pre:nth-of-type(even) {\n",
              "  background: #CCCCCC;\n",
              "  margin: 16px;\n",
              "  padding: 16px;\n",
              "}\n",
              "\n",
              "div.output_markdown pre:nth-of-type(odd) {\n",
              "  background: #BBBBEE;\n",
              "  margin: 16px;\n",
              "  padding: 16px;\n",
              "}\n",
              "</style>"
            ]
          },
          "metadata": {}
        },
        {
          "output_type": "execute_result",
          "data": {
            "text/plain": [
              "<IPython.core.display.Markdown object>"
            ],
            "text/markdown": "I can write a Python code to calculate the sum of numbers from 1 to 100. \n\n\n``` python\nsum = 0\nfor i in range(1, 101):\n  sum += i\nprint(f'{sum=}')\n\n```\n```\nsum=5050\n\n```\nThe sum of numbers from 1 to 100 is 5050. \n"
          },
          "metadata": {},
          "execution_count": 80
        }
      ]
    },
    {
      "cell_type": "code",
      "source": [
        "response = string_manipulation()\n",
        "Markdown(response.text)"
      ],
      "metadata": {
        "colab": {
          "base_uri": "https://localhost:8080/",
          "height": 579
        },
        "id": "8Nul4Cc9EnPH",
        "outputId": "f6416ef0-880c-4831-8702-03f223b0b256"
      },
      "execution_count": null,
      "outputs": [
        {
          "output_type": "display_data",
          "data": {
            "text/plain": [
              "<IPython.core.display.HTML object>"
            ],
            "text/html": [
              "<style>\n",
              "div.output_markdown {\n",
              "  font-size: 16px\n",
              "}\n",
              "\n",
              "div.output_markdown pre code {\n",
              "  color: #222222;\n",
              "}\n",
              "\n",
              "div.output_markdown pre:nth-of-type(even) {\n",
              "  background: #CCCCCC;\n",
              "  margin: 16px;\n",
              "  padding: 16px;\n",
              "}\n",
              "\n",
              "div.output_markdown pre:nth-of-type(odd) {\n",
              "  background: #BBBBEE;\n",
              "  margin: 16px;\n",
              "  padding: 16px;\n",
              "}\n",
              "</style>"
            ]
          },
          "metadata": {}
        },
        {
          "output_type": "display_data",
          "data": {
            "text/plain": [
              "<IPython.core.display.HTML object>"
            ],
            "text/html": [
              "<style>\n",
              "div.output_markdown {\n",
              "  font-size: 16px\n",
              "}\n",
              "\n",
              "div.output_markdown pre code {\n",
              "  color: #222222;\n",
              "}\n",
              "\n",
              "div.output_markdown pre:nth-of-type(even) {\n",
              "  background: #CCCCCC;\n",
              "  margin: 16px;\n",
              "  padding: 16px;\n",
              "}\n",
              "\n",
              "div.output_markdown pre:nth-of-type(odd) {\n",
              "  background: #BBBBEE;\n",
              "  margin: 16px;\n",
              "  padding: 16px;\n",
              "}\n",
              "</style>"
            ]
          },
          "metadata": {}
        },
        {
          "output_type": "stream",
          "name": "stdout",
          "text": [
            "Example 2: String Manipulation\n"
          ]
        },
        {
          "output_type": "execute_result",
          "data": {
            "text/plain": [
              "<IPython.core.display.Markdown object>"
            ],
            "text/markdown": "\n``` python\ntext = \"Hello, World! Welcome to Gemini API.\"\n\n# Convert to uppercase\nuppercase_text = text.upper()\n\n# Count vowels\nvowels = 'AEIOU'\nvowel_count = sum([1 for char in text if char.upper() in vowels])\n\n# Reverse the string\nreversed_text = text[::-1]\n\nprint(f'Uppercase: {uppercase_text}')\nprint(f'Vowel count: {vowel_count}')\nprint(f'Reversed: {reversed_text}')\n\n```\n```\nUppercase: HELLO, WORLD! WELCOME TO GEMINI API.\nVowel count: 12\nReversed: .IPA inimeG ot emocleW !dlroW ,olleH\n\n```\n1. **Uppercase:** HELLO, WORLD! WELCOME TO GEMINI API.\n2. **Vowel Count:** 12\n3. **Reversed:** .IPA inimeG ot emocleW !dlroW ,olleH \n"
          },
          "metadata": {},
          "execution_count": 81
        }
      ]
    },
    {
      "cell_type": "code",
      "source": [
        "response=data_analysis()\n",
        "Markdown(response.text)"
      ],
      "metadata": {
        "colab": {
          "base_uri": "https://localhost:8080/",
          "height": 1000
        },
        "id": "d2Vk4O1aFfI3",
        "outputId": "557b795c-c087-470c-8f28-02a669205f23"
      },
      "execution_count": null,
      "outputs": [
        {
          "output_type": "display_data",
          "data": {
            "text/plain": [
              "<IPython.core.display.HTML object>"
            ],
            "text/html": [
              "<style>\n",
              "div.output_markdown {\n",
              "  font-size: 16px\n",
              "}\n",
              "\n",
              "div.output_markdown pre code {\n",
              "  color: #222222;\n",
              "}\n",
              "\n",
              "div.output_markdown pre:nth-of-type(even) {\n",
              "  background: #CCCCCC;\n",
              "  margin: 16px;\n",
              "  padding: 16px;\n",
              "}\n",
              "\n",
              "div.output_markdown pre:nth-of-type(odd) {\n",
              "  background: #BBBBEE;\n",
              "  margin: 16px;\n",
              "  padding: 16px;\n",
              "}\n",
              "</style>"
            ]
          },
          "metadata": {}
        },
        {
          "output_type": "display_data",
          "data": {
            "text/plain": [
              "<IPython.core.display.HTML object>"
            ],
            "text/html": [
              "<style>\n",
              "div.output_markdown {\n",
              "  font-size: 16px\n",
              "}\n",
              "\n",
              "div.output_markdown pre code {\n",
              "  color: #222222;\n",
              "}\n",
              "\n",
              "div.output_markdown pre:nth-of-type(even) {\n",
              "  background: #CCCCCC;\n",
              "  margin: 16px;\n",
              "  padding: 16px;\n",
              "}\n",
              "\n",
              "div.output_markdown pre:nth-of-type(odd) {\n",
              "  background: #BBBBEE;\n",
              "  margin: 16px;\n",
              "  padding: 16px;\n",
              "}\n",
              "</style>"
            ]
          },
          "metadata": {}
        },
        {
          "output_type": "stream",
          "name": "stdout",
          "text": [
            "Example 3: Data Analysis\n"
          ]
        },
        {
          "output_type": "execute_result",
          "data": {
            "text/plain": [
              "<IPython.core.display.Markdown object>"
            ],
            "text/markdown": "I can help you with that! Let's first generate the list of random numbers using Python:\n\n\n``` python\nimport random\n\nrandom_numbers = random.sample(range(1, 1001), 100)\nprint(f'{random_numbers=}')\n\n```\n```\nrandom_numbers=[170, 766, 310, 915, 874, 141, 619, 207, 326, 62, 747, 41, 72, 861, 706, 616, 693, 423, 83, 432, 624, 433, 595, 66, 629, 281, 81, 714, 134, 877, 12, 60, 753, 923, 760, 90, 70, 144, 848, 700, 721, 489, 781, 421, 590, 769, 987, 651, 229, 258, 212, 2, 815, 196, 280, 819, 816, 901, 71, 255, 28, 174, 44, 746, 965, 958, 553, 974, 526, 317, 513, 828, 111, 285, 353, 116, 374, 922, 675, 157, 704, 758, 548, 631, 685, 43, 73, 840, 579, 395, 789, 986, 159, 934, 1, 829, 357, 164, 356, 205]\n\n```\nNow let's calculate the mean, median, mode, minimum, maximum, and standard deviation:\n\n\n``` python\nimport random\nimport numpy as np\nfrom scipy import stats\n\nrandom_numbers = [170, 766, 310, 915, 874, 141, 619, 207, 326, 62, 747, 41, 72, 861, 706, 616, 693, 423, 83, 432, 624, 433, 595, 66, 629, 281, 81, 714, 134, 877, 12, 60, 753, 923, 760, 90, 70, 144, 848, 700, 721, 489, 781, 421, 590, 769, 987, 651, 229, 258, 212, 2, 815, 196, 280, 819, 816, 901, 71, 255, 28, 174, 44, 746, 965, 958, 553, 974, 526, 317, 513, 828, 111, 285, 353, 116, 374, 922, 675, 157, 704, 758, 548, 631, 685, 43, 73, 840, 579, 395, 789, 986, 159, 934, 1, 829, 357, 164, 356, 205]\n\nmean = np.mean(random_numbers)\nmedian = np.median(random_numbers)\nmode = stats.mode(random_numbers)\nminimum = min(random_numbers)\nmaximum = max(random_numbers)\nstd_dev = np.std(random_numbers)\n\nprint(f\"Mean: {mean}\")\nprint(f\"Median: {median}\")\nprint(f\"Mode: {mode.mode[0]} (occurs {mode.count[0]} times)\")\nprint(f\"Minimum: {minimum}\")\nprint(f\"Maximum: {maximum}\")\nprint(f\"Standard Deviation: {std_dev}\")\n\n```\n```\nMean: 477.76\nMedian: 501.0\nMode: 1 (occurs 1 times)\nMinimum: 1\nMaximum: 987\nStandard Deviation: 312.2344350003696\n\n```\nFinally, let's create a histogram to visualize the data distribution:\n\n\n``` python\nimport random\nimport matplotlib.pyplot as plt\n\nrandom_numbers = [170, 766, 310, 915, 874, 141, 619, 207, 326, 62, 747, 41, 72, 861, 706, 616, 693, 423, 83, 432, 624, 433, 595, 66, 629, 281, 81, 714, 134, 877, 12, 60, 753, 923, 760, 90, 70, 144, 848, 700, 721, 489, 781, 421, 590, 769, 987, 651, 229, 258, 212, 2, 815, 196, 280, 819, 816, 901, 71, 255, 28, 174, 44, 746, 965, 958, 553, 974, 526, 317, 513, 828, 111, 285, 353, 116, 374, 922, 675, 157, 704, 758, 548, 631, 685, 43, 73, 840, 579, 395, 789, 986, 159, 934, 1, 829, 357, 164, 356, 205]\n\nplt.hist(random_numbers, bins=10)\nplt.xlabel('Number')\nplt.ylabel('Frequency')\nplt.title('Histogram of Random Numbers')\nplt.show()\n\n```\n```\n\n```\nHere's the breakdown of the results:\n\n* **Mean:** The average of all numbers (477.76)\n* **Median:** The middle value when numbers are sorted (501.0)\n* **Mode:** The most frequent number (in this case, since it's random, all numbers appear once, so the mode is any number, appearing just once)\n* **Minimum:** The smallest number (1)\n* **Maximum:** The largest number (987)\n* **Standard Deviation:** A measure of how spread out the data is (312.23)\n* **Histogram:** A visual representation of the data distribution. \n\nLet me know if you'd like to explore any of these further! \n"
          },
          "metadata": {},
          "execution_count": 82
        }
      ]
    },
    {
      "cell_type": "code",
      "source": [
        "import random\n",
        "import numpy as np\n",
        "import matplotlib.pyplot as plt\n",
        "\n",
        "# Generate 100 random numbers between 1 and 1000\n",
        "random_numbers = random.sample(range(1, 1001), 100)\n",
        "\n",
        "# Calculate the mean\n",
        "mean = np.mean(random_numbers)\n",
        "\n",
        "# Calculate the median\n",
        "median = np.median(random_numbers)\n",
        "\n",
        "# Calculate the mode\n",
        "from scipy import stats\n",
        "mode = stats.mode(random_numbers)\n",
        "\n",
        "# Find the minimum and maximum values\n",
        "minimum = min(random_numbers)\n",
        "maximum = max(random_numbers)\n",
        "\n",
        "# Calculate the standard deviation\n",
        "std_dev = np.std(random_numbers)\n",
        "\n",
        "# Create a histogram\n",
        "plt.hist(random_numbers, bins=10)\n",
        "plt.xlabel('Random Number')\n",
        "plt.ylabel('Frequency')\n",
        "plt.title('Histogram of 100 Random Numbers')\n",
        "plt.show()\n",
        "\n",
        "print(f\"Random Numbers: {random_numbers}\\n\")\n",
        "print(f\"Mean: {mean}\")\n",
        "print(f\"Median: {median}\")\n",
        "print(f\"Minimum: {minimum}\")\n",
        "print(f\"Maximum: {maximum}\")\n",
        "print(f\"Standard Deviation: {std_dev}\")"
      ],
      "metadata": {
        "colab": {
          "base_uri": "https://localhost:8080/",
          "height": 614
        },
        "id": "5NGVKEKgGXDX",
        "outputId": "62dcaec1-8d11-495c-f3ef-20c8e706adb0"
      },
      "execution_count": null,
      "outputs": [
        {
          "output_type": "display_data",
          "data": {
            "text/plain": [
              "<IPython.core.display.HTML object>"
            ],
            "text/html": [
              "<style>\n",
              "div.output_markdown {\n",
              "  font-size: 16px\n",
              "}\n",
              "\n",
              "div.output_markdown pre code {\n",
              "  color: #222222;\n",
              "}\n",
              "\n",
              "div.output_markdown pre:nth-of-type(even) {\n",
              "  background: #CCCCCC;\n",
              "  margin: 16px;\n",
              "  padding: 16px;\n",
              "}\n",
              "\n",
              "div.output_markdown pre:nth-of-type(odd) {\n",
              "  background: #BBBBEE;\n",
              "  margin: 16px;\n",
              "  padding: 16px;\n",
              "}\n",
              "</style>"
            ]
          },
          "metadata": {}
        },
        {
          "output_type": "display_data",
          "data": {
            "text/plain": [
              "<IPython.core.display.HTML object>"
            ],
            "text/html": [
              "<style>\n",
              "div.output_markdown {\n",
              "  font-size: 16px\n",
              "}\n",
              "\n",
              "div.output_markdown pre code {\n",
              "  color: #222222;\n",
              "}\n",
              "\n",
              "div.output_markdown pre:nth-of-type(even) {\n",
              "  background: #CCCCCC;\n",
              "  margin: 16px;\n",
              "  padding: 16px;\n",
              "}\n",
              "\n",
              "div.output_markdown pre:nth-of-type(odd) {\n",
              "  background: #BBBBEE;\n",
              "  margin: 16px;\n",
              "  padding: 16px;\n",
              "}\n",
              "</style>"
            ]
          },
          "metadata": {}
        },
        {
          "output_type": "display_data",
          "data": {
            "text/plain": [
              "<Figure size 640x480 with 1 Axes>"
            ],
            "image/png": "[encoded data removed]"
          },
          "metadata": {}
        },
        {
          "output_type": "stream",
          "name": "stdout",
          "text": [
            "Random Numbers: [752, 194, 246, 754, 83, 423, 732, 827, 944, 252, 968, 355, 654, 305, 527, 758, 770, 717, 914, 854, 616, 728, 129, 814, 212, 487, 192, 357, 731, 66, 492, 443, 760, 897, 451, 734, 823, 714, 42, 808, 891, 936, 607, 593, 158, 951, 455, 271, 461, 890, 166, 215, 569, 262, 630, 354, 283, 402, 17, 298, 793, 361, 605, 735, 834, 750, 577, 743, 394, 483, 513, 511, 181, 226, 339, 930, 785, 636, 712, 317, 710, 677, 238, 322, 529, 950, 99, 638, 148, 799, 449, 776, 608, 707, 581, 983, 146, 652, 622, 372]\n",
            "\n",
            "Mean: 543.65\n",
            "Median: 587.0\n",
            "Minimum: 17\n",
            "Maximum: 983\n",
            "Standard Deviation: 260.5908430854776\n"
          ]
        }
      ]
    },
    {
      "cell_type": "code",
      "source": [
        "response=web_scraping_simulation()\n",
        "Markdown(response.text)"
      ],
      "metadata": {
        "colab": {
          "base_uri": "https://localhost:8080/",
          "height": 1000
        },
        "id": "Qqxb1kM6FmHM",
        "outputId": "61416845-6c35-4e4e-a9dc-de2b8e17c27a"
      },
      "execution_count": null,
      "outputs": [
        {
          "output_type": "display_data",
          "data": {
            "text/plain": [
              "<IPython.core.display.HTML object>"
            ],
            "text/html": [
              "<style>\n",
              "div.output_markdown {\n",
              "  font-size: 16px\n",
              "}\n",
              "\n",
              "div.output_markdown pre code {\n",
              "  color: #222222;\n",
              "}\n",
              "\n",
              "div.output_markdown pre:nth-of-type(even) {\n",
              "  background: #CCCCCC;\n",
              "  margin: 16px;\n",
              "  padding: 16px;\n",
              "}\n",
              "\n",
              "div.output_markdown pre:nth-of-type(odd) {\n",
              "  background: #BBBBEE;\n",
              "  margin: 16px;\n",
              "  padding: 16px;\n",
              "}\n",
              "</style>"
            ]
          },
          "metadata": {}
        },
        {
          "output_type": "display_data",
          "data": {
            "text/plain": [
              "<IPython.core.display.HTML object>"
            ],
            "text/html": [
              "<style>\n",
              "div.output_markdown {\n",
              "  font-size: 16px\n",
              "}\n",
              "\n",
              "div.output_markdown pre code {\n",
              "  color: #222222;\n",
              "}\n",
              "\n",
              "div.output_markdown pre:nth-of-type(even) {\n",
              "  background: #CCCCCC;\n",
              "  margin: 16px;\n",
              "  padding: 16px;\n",
              "}\n",
              "\n",
              "div.output_markdown pre:nth-of-type(odd) {\n",
              "  background: #BBBBEE;\n",
              "  margin: 16px;\n",
              "  padding: 16px;\n",
              "}\n",
              "</style>"
            ]
          },
          "metadata": {}
        },
        {
          "output_type": "stream",
          "name": "stdout",
          "text": [
            "Example 4: Web Scraping Simulation\n"
          ]
        },
        {
          "output_type": "execute_result",
          "data": {
            "text/plain": [
              "<IPython.core.display.Markdown object>"
            ],
            "text/markdown": "I can do that. I will create a mock HTML string that resembles a typical product page. Then I can extract the requested information and format it as a JSON object. \n\n```python\nhtml_content = \"\"\"\n<!DOCTYPE html>\n<html>\n<head>\n    <title>Sample Product Page</title>\n</head>\n<body>\n    <div class=\"product-page\">\n        <h1 id=\"product-name\">Noise Cancelling Headphones</h1>\n        <p id=\"product-price\">$99.99</p>\n        <p id=\"product-description\">These headphones offer superior noise cancellation for an immersive audio experience. \n        They are comfortable for all-day wear and have a battery life of up to 20 hours.</p>\n        <div class=\"customer-ratings\">\n            <h2>Customer Reviews</h2>\n            <div class=\"rating\">4 out of 5 stars</div>\n            <div class=\"rating\">5 out of 5 stars</div>\n            <div class=\"rating\">3 out of 5 stars</div>\n        </div>\n    </div>\n</body>\n</html>\n\"\"\"\nprint(html_content)\n```\n\n```tool_outputs\n<!DOCTYPE html>\n<html>\n<head>\n    <title>Sample Product Page</title>\n</head>\n<body>\n    <div class=\"product-page\">\n        <h1 id=\"product-name\">Noise Cancelling Headphones</h1>\n        <p id=\"product-price\">$99.99</p>\n        <p id=\"product-description\">These headphones offer superior noise cancellation for an immersive audio experience. \n        They are comfortable for all-day wear and have a battery life of up to 20 hours.</p>\n        <div class=\"customer-ratings\">\n            <h2>Customer Reviews</h2>\n            <div class=\"rating\">4 out of 5 stars</div>\n            <div class=\"rating\">5 out of 5 stars</div>\n            <div class=\"rating\">3 out of 5 stars</div>\n        </div>\n    </div>\n</body>\n</html>\n\n```\n\n```python\nfrom bs4 import BeautifulSoup\n\nsoup = BeautifulSoup(html_content, 'html.parser')\n\nproduct_name = soup.find('h1', id='product-name').text.strip()\nprice = soup.find('p', id='product-price').text.strip()\ndescription = soup.find('p', id='product-description').text.strip()\n\nratings = [int(rating.text.split('out')[0].strip()) for rating in soup.find_all('div', class_='rating')]\n\naverage_rating = sum(ratings) / len(ratings)\n\nproduct_info = {\n    \"product_name\": product_name,\n    \"price\": price,\n    \"description\": description,\n    \"customer_ratings\": ratings,\n    \"average_rating\": average_rating\n}\n\nimport json \nprint(json.dumps(product_info, indent=4))\n```"
          },
          "metadata": {},
          "execution_count": 84
        }
      ]
    },
    {
      "cell_type": "code",
      "source": [
        "from bs4 import BeautifulSoup\n",
        "\n",
        "html_content = \"\"\"\n",
        "<html>\n",
        "<head>\n",
        "    <title>Product Page</title>\n",
        "</head>\n",
        "<body>\n",
        "    <div id=\"product-container\">\n",
        "        <h1 class=\"product-name\">Noise Cancelling Headphones</h1>\n",
        "        <p class=\"price\">$99.99</p>\n",
        "        <p class=\"description\">Immerse yourself in sound with these premium noise-cancelling headphones.\n",
        "            Featuring crystal-clear audio and a comfortable fit for all-day wear.</p>\n",
        "        <h2>Customer Reviews</h2>\n",
        "        <div class=\"ratings\">\n",
        "            <p class=\"rating\">4.5 out of 5 stars</p>\n",
        "            <p class=\"rating\">4 out of 5 stars</p>\n",
        "            <p class=\"rating\">5 out of 5 stars</p>\n",
        "        </div>\n",
        "    </div>\n",
        "</body>\n",
        "</html>\n",
        "\"\"\"\n",
        "soup = BeautifulSoup(html_content, 'html.parser')\n",
        "\n",
        "product_name = soup.find('h1', class_='product-name').text.strip()\n",
        "price = soup.find('p', class_='price').text.strip()\n",
        "description = soup.find('p', class_='description').text.strip()\n",
        "\n",
        "ratings = [float(rating.text.split(' ')[0]) for rating in soup.find_all('p', class_='rating')]\n",
        "average_rating = sum(ratings) / len(ratings)\n",
        "\n",
        "print(f'{{\"product_name\": \"{product_name}\", \"price\": \"{price}\", \"description\": \"{description}\", \"average_rating\": {average_rating:.2f}}}')\n"
      ],
      "metadata": {
        "colab": {
          "base_uri": "https://localhost:8080/",
          "height": 52
        },
        "id": "T7CJeqk-GtMC",
        "outputId": "d918e433-ec0d-4119-dd79-fe988bb7dd26"
      },
      "execution_count": null,
      "outputs": [
        {
          "output_type": "display_data",
          "data": {
            "text/plain": [
              "<IPython.core.display.HTML object>"
            ],
            "text/html": [
              "<style>\n",
              "div.output_markdown {\n",
              "  font-size: 16px\n",
              "}\n",
              "\n",
              "div.output_markdown pre code {\n",
              "  color: #222222;\n",
              "}\n",
              "\n",
              "div.output_markdown pre:nth-of-type(even) {\n",
              "  background: #CCCCCC;\n",
              "  margin: 16px;\n",
              "  padding: 16px;\n",
              "}\n",
              "\n",
              "div.output_markdown pre:nth-of-type(odd) {\n",
              "  background: #BBBBEE;\n",
              "  margin: 16px;\n",
              "  padding: 16px;\n",
              "}\n",
              "</style>"
            ]
          },
          "metadata": {}
        },
        {
          "output_type": "display_data",
          "data": {
            "text/plain": [
              "<IPython.core.display.HTML object>"
            ],
            "text/html": [
              "<style>\n",
              "div.output_markdown {\n",
              "  font-size: 16px\n",
              "}\n",
              "\n",
              "div.output_markdown pre code {\n",
              "  color: #222222;\n",
              "}\n",
              "\n",
              "div.output_markdown pre:nth-of-type(even) {\n",
              "  background: #CCCCCC;\n",
              "  margin: 16px;\n",
              "  padding: 16px;\n",
              "}\n",
              "\n",
              "div.output_markdown pre:nth-of-type(odd) {\n",
              "  background: #BBBBEE;\n",
              "  margin: 16px;\n",
              "  padding: 16px;\n",
              "}\n",
              "</style>"
            ]
          },
          "metadata": {}
        },
        {
          "output_type": "stream",
          "name": "stdout",
          "text": [
            "{\"product_name\": \"Noise Cancelling Headphones\", \"price\": \"$99.99\", \"description\": \"Immerse yourself in sound with these premium noise-cancelling headphones. \n",
            "            Featuring crystal-clear audio and a comfortable fit for all-day wear.\", \"average_rating\": 4.50}\n"
          ]
        }
      ]
    },
    {
      "cell_type": "code",
      "source": [
        "response=machine_learning_model()\n",
        "Markdown(response.text)"
      ],
      "metadata": {
        "colab": {
          "base_uri": "https://localhost:8080/",
          "height": 1000
        },
        "id": "tmNtm472Fq5M",
        "outputId": "1a1d3e9c-ff7d-4d8c-e4bf-fa9cfae0ca39"
      },
      "execution_count": null,
      "outputs": [
        {
          "output_type": "display_data",
          "data": {
            "text/plain": [
              "<IPython.core.display.HTML object>"
            ],
            "text/html": [
              "<style>\n",
              "div.output_markdown {\n",
              "  font-size: 16px\n",
              "}\n",
              "\n",
              "div.output_markdown pre code {\n",
              "  color: #222222;\n",
              "}\n",
              "\n",
              "div.output_markdown pre:nth-of-type(even) {\n",
              "  background: #CCCCCC;\n",
              "  margin: 16px;\n",
              "  padding: 16px;\n",
              "}\n",
              "\n",
              "div.output_markdown pre:nth-of-type(odd) {\n",
              "  background: #BBBBEE;\n",
              "  margin: 16px;\n",
              "  padding: 16px;\n",
              "}\n",
              "</style>"
            ]
          },
          "metadata": {}
        },
        {
          "output_type": "display_data",
          "data": {
            "text/plain": [
              "<IPython.core.display.HTML object>"
            ],
            "text/html": [
              "<style>\n",
              "div.output_markdown {\n",
              "  font-size: 16px\n",
              "}\n",
              "\n",
              "div.output_markdown pre code {\n",
              "  color: #222222;\n",
              "}\n",
              "\n",
              "div.output_markdown pre:nth-of-type(even) {\n",
              "  background: #CCCCCC;\n",
              "  margin: 16px;\n",
              "  padding: 16px;\n",
              "}\n",
              "\n",
              "div.output_markdown pre:nth-of-type(odd) {\n",
              "  background: #BBBBEE;\n",
              "  margin: 16px;\n",
              "  padding: 16px;\n",
              "}\n",
              "</style>"
            ]
          },
          "metadata": {}
        },
        {
          "output_type": "stream",
          "name": "stdout",
          "text": [
            "Example 5: Machine Learning Model\n"
          ]
        },
        {
          "output_type": "execute_result",
          "data": {
            "text/plain": [
              "<IPython.core.display.Markdown object>"
            ],
            "text/markdown": "I can do that. I will use the `sklearn` library to create a linear regression model and evaluate its performance. \n\nFirst, I will generate a synthetic dataset. I will assume a positive correlation between the features and the house price.\n\n\n``` python\nimport numpy as np\nfrom sklearn.model_selection import train_test_split\nfrom sklearn.linear_model import LinearRegression\nfrom sklearn.metrics import mean_squared_error, r2_score\n\n# Generate synthetic data\nnp.random.seed(0)\nsize = 100\nsqft = np.random.randint(800, 3000, size)\nbedrooms = np.random.randint(1, 6, size)\nyear_built = np.random.randint(1980, 2023, size)\nprice = 100 * sqft + 10000 * bedrooms + 1000 * (year_built - 1980) + np.random.normal(0, 50000, size)\n\n# Create a dictionary for the data\ndata = {'sqft': sqft, 'bedrooms': bedrooms, 'year_built': year_built, 'price': price}\n\n```\n```\n\n```\nNow that I have the dataset, I will split it into training and testing sets. I will use 80% of the data for training and 20% for testing.\n\n\n``` python\nimport pandas as pd\nfrom sklearn.model_selection import train_test_split\nfrom sklearn.linear_model import LinearRegression\nfrom sklearn.metrics import mean_squared_error, r2_score\n\n# Create a pandas DataFrame from the data\ndf = pd.DataFrame(data)\n\n# Split the data into features (X) and target variable (y)\nX = df[['sqft', 'bedrooms', 'year_built']]\ny = df['price']\n\n# Split the data into training and testing sets\nX_train, X_test, y_train, y_test = train_test_split(X, y, test_size=0.2, random_state=42)\n\n```\n```\n\n```\nNext, I will create a linear regression model and train it on the training data:\n\n\n``` python\nimport pandas as pd\nfrom sklearn.model_selection import train_test_split\nfrom sklearn.linear_model import LinearRegression\nfrom sklearn.metrics import mean_squared_error, r2_score\n\n# Create a linear regression model\nmodel = LinearRegression()\n\n# Train the model on the training data\nmodel.fit(X_train, y_train)\n\n```\n```\n\n```\nNow I will evaluate the model's performance on the test set using the mean squared error and R-squared metrics:\n\n\n``` python\nimport pandas as pd\nfrom sklearn.model_selection import train_test_split\nfrom sklearn.linear_model import LinearRegression\nfrom sklearn.metrics import mean_squared_error, r2_score\n\n# Make predictions on the test data\ny_pred = model.predict(X_test)\n\n# Evaluate the model\nmse = mean_squared_error(y_test, y_pred)\nr2 = r2_score(y_test, y_pred)\n\nprint(f'Mean Squared Error: {mse}')\nprint(f'R-squared: {r2}')\n\n```\n```\nMean Squared Error: 1329502462.4921403\nR-squared: 0.7108943470769955\n\n```\nThe mean squared error (MSE) is quite large, but this is expected given the range of our housing prices. The R-squared value, which represents the proportion of variance in the target variable explained by the model, is 0.71, indicating a reasonable fit.\n\nFinally, I will use the trained model to predict the price of a house with 2000 sq ft, 3 bedrooms, and built in 2010:\n\n\n``` python\nimport pandas as pd\nfrom sklearn.model_selection import train_test_split\nfrom sklearn.linear_model import LinearRegression\nfrom sklearn.metrics import mean_squared_error, r2_score\n\n# Predict the price of a house with the given features\nnew_house = pd.DataFrame({'sqft': [2000], 'bedrooms': [3], 'year_built': [2010]})\npredicted_price = model.predict(new_house)\n\nprint(f'Predicted price: ${predicted_price[0]:,.2f}')\n\n```\n```\nPredicted price: $260,921.22\n\n```\nThe model predicts that a house with 2000 sq ft, 3 bedrooms, and built in 2010 would cost approximately $260,921.22. Keep in mind that this is a simple model trained on synthetic data, so the prediction should not be taken as a definitive valuation. \n"
          },
          "metadata": {},
          "execution_count": 86
        }
      ]
    },
    {
      "cell_type": "code",
      "source": [
        "import numpy as np\n",
        "from sklearn.model_selection import train_test_split\n",
        "from sklearn.linear_model import LinearRegression\n",
        "from sklearn.metrics import mean_squared_error\n",
        "\n",
        "# 1. Generate synthetic dataset\n",
        "np.random.seed(0)\n",
        "size = 200\n",
        "sqft = np.random.randint(800, 3000, size)\n",
        "bedrooms = np.random.randint(1, 6, size)\n",
        "year_built = np.random.randint(1980, 2023, size)\n",
        "# Assume some relationship between features and price\n",
        "price = 150 * sqft + 20000 * bedrooms + 5000 * (year_built - 1980) + np.random.normal(0, 50000, size)\n",
        "\n",
        "X = np.column_stack((sqft, bedrooms, year_built))\n",
        "y = price\n",
        "\n",
        "# 2. Split data\n",
        "X_train, X_test, y_train, y_test = train_test_split(X, y, test_size=0.2, random_state=42)\n",
        "\n",
        "# 3. Create and train model\n",
        "model = LinearRegression()\n",
        "model.fit(X_train, y_train)\n",
        "\n",
        "# 4. Evaluate model\n",
        "y_pred = model.predict(X_test)\n",
        "mse = mean_squared_error(y_test, y_pred)\n",
        "print(f\"Mean Squared Error: {mse}\")\n",
        "\n",
        "# 5. Predict price\n",
        "new_house = np.array([[2000, 3, 2010]])\n",
        "predicted_price = model.predict(new_house)\n",
        "print(f\"Predicted price for a 2000 sq ft, 3 bedrooms, 2010 built house: ${predicted_price[0]:,.2f}\")\n"
      ],
      "metadata": {
        "colab": {
          "base_uri": "https://localhost:8080/",
          "height": 52
        },
        "id": "SvU1o3k9F38Y",
        "outputId": "5043b9b2-9241-4840-f4cd-2b6a75bd90cd"
      },
      "execution_count": null,
      "outputs": [
        {
          "output_type": "display_data",
          "data": {
            "text/plain": [
              "<IPython.core.display.HTML object>"
            ],
            "text/html": [
              "<style>\n",
              "div.output_markdown {\n",
              "  font-size: 16px\n",
              "}\n",
              "\n",
              "div.output_markdown pre code {\n",
              "  color: #222222;\n",
              "}\n",
              "\n",
              "div.output_markdown pre:nth-of-type(even) {\n",
              "  background: #CCCCCC;\n",
              "  margin: 16px;\n",
              "  padding: 16px;\n",
              "}\n",
              "\n",
              "div.output_markdown pre:nth-of-type(odd) {\n",
              "  background: #BBBBEE;\n",
              "  margin: 16px;\n",
              "  padding: 16px;\n",
              "}\n",
              "</style>"
            ]
          },
          "metadata": {}
        },
        {
          "output_type": "display_data",
          "data": {
            "text/plain": [
              "<IPython.core.display.HTML object>"
            ],
            "text/html": [
              "<style>\n",
              "div.output_markdown {\n",
              "  font-size: 16px\n",
              "}\n",
              "\n",
              "div.output_markdown pre code {\n",
              "  color: #222222;\n",
              "}\n",
              "\n",
              "div.output_markdown pre:nth-of-type(even) {\n",
              "  background: #CCCCCC;\n",
              "  margin: 16px;\n",
              "  padding: 16px;\n",
              "}\n",
              "\n",
              "div.output_markdown pre:nth-of-type(odd) {\n",
              "  background: #BBBBEE;\n",
              "  margin: 16px;\n",
              "  padding: 16px;\n",
              "}\n",
              "</style>"
            ]
          },
          "metadata": {}
        },
        {
          "output_type": "stream",
          "name": "stdout",
          "text": [
            "Mean Squared Error: 4141006686.5110703\n",
            "Predicted price for a 2000 sq ft, 3 bedrooms, 2010 built house: $505,121.13\n"
          ]
        }
      ]
    },
    {
      "cell_type": "code",
      "source": [],
      "metadata": {
        "id": "6i-dRVXCG_5_"
      },
      "execution_count": null,
      "outputs": []
    }
  ],
  "metadata": {
    "colab": {
      "provenance": []
    },
    "kernelspec": {
      "display_name": "Python 3",
      "name": "python3"
    }
  },
  "nbformat": 4,
  "nbformat_minor": 0
}