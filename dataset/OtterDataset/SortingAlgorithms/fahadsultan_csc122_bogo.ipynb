{
 "cells": [
  {
   "attachments": {},
   "cell_type": "markdown",
   "metadata": {},
   "source": [
    "# Bogosort"
   ]
  },
  {
   "cell_type": "markdown",
   "metadata": {},
   "source": [
    "**Bogosort** (also known as **Permutation sort** or **Stupid sort**) is the brute-force approach to sorting. \n",
    "\n",
    "It enumerates all permutations of the input until it finds the sorted version. \n",
    "\n",
    "\n",
    "``` {figure} https://camo.githubusercontent.com/2ec148ae6d324f76e6560b167bebc98e13a02d47d4aae042a9777864032ab125/68747470733a2f2f73696d6f6e77616c64686572722e6769746875622e696f2f476f6c616e67536f7274696e6756697375616c697a6174696f6e2f736f72745f626f676f2e676966\n",
    "--- \n",
    "name: bogosort\n",
    "width: 40%\n",
    "---\n",
    "Bogosort goes through all permutations of the input until it finds a sorted version.\n",
    "```\n",
    "\n",
    "The name comes from the word \"bogus\" because it is a bogus sorting algorithm.\n",
    "\n",
    "There are many variants of bogosort. The difference between the two most common variants is that of determinism and randomness. The deterministic version enumerates all permutations until it encounters a sorted one whereas the randomized version permutes its input randomly. Here, we are discussing the deterministic version.\n",
    "\n",
    "## Psuedocode\n",
    "\n",
    "The pseudocode for bogosort is as follows:\n",
    "\n",
    "```{prf:algorithm} Bogosort Algorithm\n",
    ":label: my-algorithm\n",
    "\n",
    "**Inputs** A list $L$ of length $n$\n",
    "\n",
    "\n",
    "**Output** The permutation of $L$ that is sorted i.e. $L'$ such that $L'[i] \\leq L'[i+1]$ for all $i$ from $0$ to $n-1$\n",
    "\n",
    "1. Compute all permutations of $L$\n",
    "\n",
    "2. For each permutation $P$ of $L$:\n",
    "\n",
    "    2.1. If $P$ is sorted, return $P$\n",
    "\n",
    "```\n",
    "\n",
    "Note that computing all permutations of a given list is in itself a hard algorithmic problem. Here, we are assuming that we have a function that can compute all permutations of a given list.\n",
    "\n",
    "## Implementation\n",
    "\n",
    "The following is an implementation of bogosort in Python:\n",
    "\n",
    "```python \n",
    "import itertools\n",
    "\n",
    "def is_sorted(arr):\n",
    "    for i in range(len(arr) - 1):\n",
    "        if arr[i] > arr[i + 1]:\n",
    "            return False\n",
    "    return True\n",
    "\n",
    "def bogo_sort(arr):\n",
    "    all_permutations = itertools.permutations(data)\n",
    "    for permutation in all_permutations:\n",
    "        if is_sorted(permutation):\n",
    "            return permutation\n",
    "    return None\n",
    "```\n",
    "\n",
    "Note that the above implementation uses the built-in `itertools` library to compute all permutations of the input list."
   ]
  },
  {
   "cell_type": "markdown",
   "metadata": {},
   "source": [
    "## Analysis \n",
    "\n",
    "Bogo Sort is extremely inefficient. It has an average runtime of $O(n \\times n!)$. \n",
    "\n",
    "This is because the total number of permutations of an array of length $n$ is $n!$. Each permutation takes $O(n)$ time to check if it is sorted. Therefore, the total runtime is $O(n \\times n!)$.\n",
    "\n",
    "Space complexity is O(1) because the algorithm sorts the array in place, without allocating memory for any new list. "
   ]
  },
  {
   "cell_type": "code",
   "execution_count": null,
   "metadata": {},
   "outputs": [],
   "source": []
  },
  {
   "cell_type": "code",
   "execution_count": null,
   "metadata": {},
   "outputs": [],
   "source": []
  }
 ],
 "metadata": {
  "language_info": {
   "name": "python"
  },
  "orig_nbformat": 4
 },
 "nbformat": 4,
 "nbformat_minor": 2
}
