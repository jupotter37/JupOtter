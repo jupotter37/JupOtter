{
 "cells": [
  {
   "cell_type": "markdown",
   "metadata": {},
   "source": [
    "<h1><b>Solving the Travelling Salesman Problem (TSP) by the Genetic Algorithm (GA)</b></h1>\n",
    "<hr>\n",
    "<h2><b>The Travelling Salesman Problem (TSP)</b></h2>\n",
    "<p1>It is defined as:<br>\n",
    "\n",
    "<i><strong>Given a set of waypoints and distances between them, find the shortest possible route that visits each waypoint once, then return to the initial waypoint</strong></i>\n",
    "\n",
    "</p1>\n",
    "\n",
    "The TSP is a minimization problem, and the objective function is stated as the following:\n",
    "\n",
    "\\begin{align*}\n",
    "Minimize:\n",
    "\\sum_{i=1}^{n} \\sum_{j=1}^{n} d_{ij}\\;x_{ij}\n",
    "\\end{align*}\n",
    "\n",
    "<br>\n",
    "\n",
    "\\begin{align*}\n",
    "Subject\\;to:\n",
    "    \\begin {aligned}\n",
    "        \\sum_{j=1}^{n} x_{ij} = 1,\\;j = 1, 2, ..., n\\\\\n",
    "        \\sum_{i=1}^{n} x_{ij} = 1,\\;i = 1, 2, ..., n\n",
    "    \\end {aligned}\n",
    "\\end{align*}\n",
    "\n",
    "<br>\n",
    "\n",
    "where $d_{ij}$ denotes the distance between city $i$ and $j$ <br>\n",
    "$\\;\\;\\;\\;\\;\\;\\;\\;$ $x_{ij}$ denotes a deicision variable with the following definition:\n",
    "\n",
    "\\begin{align*}\n",
    "x_{ij} = \n",
    "\\left\\{\n",
    "    \\begin {aligned}\n",
    "         & 1, \\quad & if\\;directed\\;from\\;city\\;i\\;to\\;city\\;j\\\\\n",
    "         & 0, \\quad & otherwise                 \n",
    "    \\end{aligned}\n",
    "\\right.\n",
    "\\end{align*}\n",
    "\n",
    "And the search space increases exponentially:<br>\n",
    "<center><img src=\"search_space.png\"/></center>\n",
    "\n",
    "<br>\n",
    "\n",
    "As we can obeserve from the figure above, there are numerous possible soultions with the increasing number of cities. \n",
    "\n",
    "Searching for an exact solution for larger instances of TSP using traditional approaches(brute force, integer programming, dynamic programming) is infeasible. \n",
    "\n",
    "Metaheuristic algorithms are developed and designed in terms of efficiency to tackle complex optimization problems. \n",
    "\n",
    "It provides near-optimal solution to optimization problems, while maintaining short computational time. \n",
    "\n",
    "Therefore, in this project, we are using the __Genetic Algorithm (GA)__ - a metaheuristic algorithm to solve the TSP."
   ]
  },
  {
   "cell_type": "markdown",
   "metadata": {},
   "source": [
    "<hr>"
   ]
  },
  {
   "cell_type": "markdown",
   "metadata": {},
   "source": [
    "<h2>Import Libraries</h2>\n",
    "\n",
    "Install the following libraries to your python pip before importing them\n",
    "\n",
    " [folium](https://pypi.org/project/folium/) | [googlemaps](https://pypi.org/project/googlemaps/) | [pandas](https://pypi.org/project/pandas/) | [polyline](https://pypi.org/project/polyline/)"
   ]
  },
  {
   "cell_type": "code",
   "execution_count": 41,
   "metadata": {},
   "outputs": [],
   "source": [
    "import csv\n",
    "import datetime\n",
    "import folium\n",
    "import googlemaps \n",
    "import math\n",
    "import pandas as pd\n",
    "import polyline\n",
    "import random\n",
    "import time"
   ]
  },
  {
   "cell_type": "markdown",
   "metadata": {},
   "source": [
    "<hr>"
   ]
  },
  {
   "cell_type": "markdown",
   "metadata": {},
   "source": [
    "<h2>Dataset</h2>\n",
    "\n",
    "In this project, the TSP we are solving is [the optimal driving route through 50 U.S. Landmarks](https://randalolson.com/2015/03/08/computing-the-optimal-road-trip-across-the-u-s/) suggested by Olson (2015)\n",
    "\n",
    "And the following code reads the csv file containing station address and coordinates"
   ]
  },
  {
   "cell_type": "code",
   "execution_count": 32,
   "metadata": {},
   "outputs": [],
   "source": [
    "geo_data = pd.read_csv(\"50_Landmarks.csv\")\n",
    "stations = geo_data[\"Station\"]  # extract the \"station\" column from the csv"
   ]
  },
  {
   "cell_type": "markdown",
   "metadata": {},
   "source": [
    "Before we proceed to use the GA to solve this problem, we need a distance matrix for GA to compute the route for us."
   ]
  },
  {
   "cell_type": "markdown",
   "metadata": {},
   "source": [
    "<hr>"
   ]
  },
  {
   "cell_type": "markdown",
   "metadata": {},
   "source": [
    "<h2>Using the Google Maps API Service to Get Distance Matrix</h2>\n",
    "\n",
    "To retrieve the distance matrix, we are using the [Google Maps API](https://developers.google.com/maps) to get the driving route distances between each stations.\n",
    "\n",
    "As we have 50 stations in the TSP, there should be 2450 route distances (excluding the diagonal of zeros) we have to request from Google Maps.\n",
    "\n",
    "__Before using any API from Google Maps, you have to register for an [API key](https://support.google.com/googleapi/answer/6158862?hl=en)__\n",
    "\n",
    "The following cell is the setup of using Google Maps API."
   ]
  },
  {
   "cell_type": "code",
   "execution_count": 33,
   "metadata": {},
   "outputs": [],
   "source": [
    "api_key = \"\" # Paste your own api key here\n",
    "gmaps = googlemaps.Client(key=api_key)\n",
    "t = datetime.datetime(year=2024, month=12, day=31, hour=0, minute=0, second=0)  # Remember to set a future date and time to ensure the API service works"
   ]
  },
  {
   "cell_type": "markdown",
   "metadata": {},
   "source": [
    "As there is a limited amount of data being requested per request as a free user, we have to split it into 2 requests.\n",
    "\n",
    "__(Run the following cell if you want to generate your own distance matrix. Else, just use the provided distance matrix)__"
   ]
  },
  {
   "cell_type": "code",
   "execution_count": null,
   "metadata": {},
   "outputs": [],
   "source": [
    "dm = [] \n",
    "\n",
    "for k in range(len(stations)):\n",
    "    request1 = gmaps.distance_matrix(origins=stations[k], # Requesting the distances of the first 25 combinations between each stations\n",
    "                                     destinations=stations[:], \n",
    "                                     units=\"metric\", \n",
    "                                     mode=\"driving\", \n",
    "                                     departure_time=t)\n",
    "    request2 = gmaps.distance_matrix(origins=stations[k], # Requesting the distances of the remaining combinations\n",
    "                                     destinations=stations[25:len(stations)], \n",
    "                                     units=\"metric\", \n",
    "                                     mode=\"driving\", \n",
    "                                     departure_time=t)\n",
    "\n",
    "    row = []\n",
    "    for element in request1[\"rows\"][0][\"elements\"]:\n",
    "        row.append(element[\"distance\"][\"value\"]) \n",
    "\n",
    "    for element in request2[\"rows\"][0][\"elements\"]:\n",
    "        row.append(element[\"distance\"][\"value\"])\n",
    "\n",
    "    dm.append(row)\n",
    "\n",
    "with open(\"50_Landmarks_Distance_Matrix.csv\", \"w\", newline=\"\") as file:  # write the distance matrix into a csv file\n",
    "    writer = csv.writer(file)\n",
    "    writer.writerows(dm)"
   ]
  },
  {
   "cell_type": "markdown",
   "metadata": {},
   "source": [
    "<hr>"
   ]
  },
  {
   "cell_type": "markdown",
   "metadata": {},
   "source": [
    "<h2>Distance Matrix</h2>\n",
    "\n",
    "For the ease of programme design and computation, we handle the distance martix as a 2D list.\n",
    "\n",
    "Moreover, to get the same result, it is suggested to use the same csv file provided."
   ]
  },
  {
   "cell_type": "code",
   "execution_count": 47,
   "metadata": {},
   "outputs": [],
   "source": [
    "dm_data = \"50_Landmarks_Distance_Matrix.csv\"\n",
    "\n",
    "with open(dm_data, newline=\"\") as csvfile: # Read and convert distance matrix into a 2D list\n",
    "    reader = csv.reader(csvfile, quoting=csv.QUOTE_NONNUMERIC)\n",
    "    dis_mtx = list(reader)"
   ]
  },
  {
   "cell_type": "markdown",
   "metadata": {},
   "source": [
    "<hr>"
   ]
  },
  {
   "cell_type": "markdown",
   "metadata": {},
   "source": [
    "<h2>Genetic Algorithm (GA)</h2>\n",
    "\n",
    "GA mimics the evolutionary process of the nature and generalize it as an optimization framework. \n",
    "\n",
    "It has an advantage of being highly flexible to solve various optimization problems.\n",
    "\n",
    "GA is mainly composed by:\n",
    "<ls>\n",
    "    <li>Initilization - Initialize a population of candidates (solutions) to perform optimization</li>\n",
    "    <li>Selection - A operator to select candidates (solutions) with better fitness(objective function value)</li>\n",
    "    <li>Crossover - A operator to mate selected candidates (solutions) and reproduce offsprings {new candidates (solution) containing mixed information from parents}</li>\n",
    "    <li>Mutation - A operator to perform random jump by amending candidates randomly</li>\n",
    "</ls>\n",
    "\n",
    "Although the GA is very fast in solving TSP, it does not guarantee for finding the optimal solution.\n",
    "\n",
    "The following cell is an GA based algorithm without the crossover operator:"
   ]
  },
  {
   "cell_type": "code",
   "execution_count": 43,
   "metadata": {},
   "outputs": [],
   "source": [
    "class GA:\n",
    "\n",
    "    def __init__(self, distance_matrix:list[int], population_size:int, num_generations:int, mutation_rate:int) -> None:  # Initialize data structures and parameters\n",
    "        self.dm = distance_matrix\n",
    "        self.pop = population_size  # number of candidates in the population\n",
    "        self.generations = num_generations  # number of iterations that GA runs\n",
    "        self.mutate = mutation_rate  # how many candidates will be mutated\n",
    "        self.stations = list(range(len(distance_matrix)))  # a list containing 0 - 49 for solution generation\n",
    "        self.population = []  # empty list to contain candidates\n",
    "        self.pool = []  # empty list to contain candidates and mutated candidates\n",
    "        self.best = ()  # empty set to contain the best candidate of each iteration\n",
    "\n",
    "\n",
    "    def generate_routes(self) -> None:\n",
    "        \"\"\"Solution generator\"\"\"\n",
    "        stations = self.stations[:]  # copy the station list\n",
    "        for i in range(self.pop):\n",
    "            random.shuffle(stations)  # randomly generate a solution (route)\n",
    "            self.population.append((stations[:], self.total_distance(stations[:])))  # store the solution and its fitness\n",
    "\n",
    "\n",
    "    def total_distance(self, route:list[int]) -> float:\n",
    "        \"\"\"Calculator of the total distance of a single route\"\"\"\n",
    "        length = 0\n",
    "        for i in range(len(self.dm)):  # starts calculating from the last index in the route\n",
    "            node_1 = route[i-1]\n",
    "            node_2 = route[i]\n",
    "            length += self.dm[node_1][node_2]\n",
    "        return length\n",
    "\n",
    "        \n",
    "    def selection(self) -> None:\n",
    "        \"\"\"Select the top 10% of candidates in the current population\"\"\"\n",
    "        sorted_population = sorted(self.population, key=lambda x: x[1], reverse=False)  # sort the candidates base on their fitness, in ascending order\n",
    "        self.pool = sorted_population[:int(math.ceil(self.pop / 10))]  # select the top 10% and put in the pool\n",
    "        self.best = self.pool[0]  # find the best candidate\n",
    "        self.population = self.pool[:]  # replace population with pool to temporarily save them for reference in mutation \n",
    "\n",
    "    \n",
    "    def mutation(self) -> None:\n",
    "        \"\"\"Mutate candidates in the pool\"\"\"\n",
    "        for candidate in self.population:\n",
    "            \n",
    "            for k in range(self.mutate):  # Shuffle the route randomly, for self.mutate times\n",
    "                route = candidate[0][:]\n",
    "                start_index = random.randint(0, len(route) - 1)  # randomly pick a starting point\n",
    "                length = random.randint(2, len(self.dm) // 2)  # randomly pick a segment length\n",
    "\n",
    "                subset = route[start_index:start_index + length]  # slice the segment\n",
    "                route = route[:start_index] + route[start_index + length:]  # remove the segment from route\n",
    "\n",
    "                insert_index = random.randint(0, len(route) + len(subset) - 1)  # randomly pick an index to insert the sliced segment\n",
    "                route = route[:insert_index] + subset + route[insert_index:]  # insert the segment\n",
    "                self.pool.append((route, self.total_distance(route)))  # store the mutated route in the pool\n",
    "                \n",
    "        self.population = self.pool[:]  # store a copy in population\n",
    "        self.pool = []  # clear pool to release memory\n",
    "\n",
    "\n",
    "    def run(self) -> list|float|float:\n",
    "        \"\"\"Runs the GA\"\"\"\n",
    "        start_time = time.time()  # record starting time\n",
    "        self.generate_routes()\n",
    "        for k in range(self.generations):  # iteration process\n",
    "            self.selection()\n",
    "            self.mutation()\n",
    "        \n",
    "        converted_route = [stations[index] for index in self.best[0]]  # convert the route from list[int] into list[str] to show station address\n",
    "        end_time = time.time()  # record end time\n",
    "        time_diff = end_time - start_time  # compute the computational time\n",
    "        return converted_route, self.best[1], time_diff"
   ]
  },
  {
   "cell_type": "markdown",
   "metadata": {},
   "source": [
    "<hr>"
   ]
  },
  {
   "cell_type": "markdown",
   "metadata": {},
   "source": [
    "<h2>Execution of GA</h2>\n",
    "\n",
    "The population size of GA is set to be 100, number of generations is set to be 3000, and the mutation rate is 9.\n",
    "\n",
    "So, there will be 100 routes performing selection and mutation in each iteration. \n",
    "\n",
    "And each selected route will mutate 9 times. \n",
    "\n",
    "The whole iteration process will be run 3000 times."
   ]
  },
  {
   "cell_type": "code",
   "execution_count": 52,
   "metadata": {},
   "outputs": [
    {
     "name": "stdout",
     "output_type": "stream",
     "text": [
      "The best route found: ['Maryland State House, 100 State Cir, Annapolis, MD 21401', 'The Mark Twain House & Museum, Farmington Avenue, Hartford, CT', 'Congress Hall, Congress Place, Cape May, NJ 08204', 'Statue of Liberty, Liberty Island, NYC, NY', 'Pikes Peak, Colorado', 'The Breakers, Ochre Point Avenue, Newport, RI', 'USS Constitution, Boston, MA', 'Acadia National Park, Maine', 'Omni Mount Washington Resort, Mount Washington Hotel Road, Bretton Woods, NH', 'Shelburne Farms, Harbor Road, Shelburne, VT', 'Liberty Bell, 6th Street, Philadelphia, PA', 'New Castle Historic District, Delaware', 'Lost World Caverns, Lewisburg, WV', 'Spring Grove Cemetery, Spring Grove Avenue, Cincinnati, OH', 'Olympia Entertainment, Woodward Avenue, Detroit, MI', 'Mammoth Cave National Park, Mammoth Cave Pkwy, Mammoth Cave, KY', 'West Baden Springs Hotel, West Baden Avenue, West Baden Springs, IN', 'Lincoln Home National Historic Site Visitor Center, 426 South 7th Street, Springfield, IL', 'Gateway Arch, Washington Avenue, St Louis, MO', 'Taliesin, County Road C, Spring Green, Wisconsin', 'Fort Snelling, Tower Avenue, Saint Paul, MN', 'Terrace Hill, Grand Avenue, Des Moines, IA', 'C. W. Parker Carousel Museum, South Esplanade Street, Leavenworth, KS', 'Ashfall Fossil Bed, Royal, NE', 'Mount Rushmore National Memorial, South Dakota 244, Keystone, SD', 'Fort Union Trading Post National Historic Site, Williston, North Dakota 1804, ND', 'Glacier National Park, West Glacier, MT', 'Yellowstone National Park, WY 82190', 'Craters of the Moon National Monument & Preserve, Arco, ID', 'Hanford Site, Benton County, WA', 'Columbia River Gorge National Scenic Area, Oregon', 'San Andreas Fault, San Benito County, CA', 'Toltec Mounds, Scott, AR', 'Hoover Dam, NV', 'USS Alabama, Battleship Parkway, Mobile, AL', 'Bryce Canyon National Park, Hwy 63, Bryce, UT', 'Cable Car Museum, 94108, 1201 Mason St, San Francisco, CA 94108', 'Carlsbad Caverns National Park, Carlsbad, NM', 'The Alamo, Alamo Plaza, San Antonio, TX', 'Chickasaw National Recreation Area, 1008 W 2nd St, Sulphur, OK 73086', 'Grand Canyon National Park, Arizona', 'Graceland, Elvis Presley Boulevard, Memphis, TN', 'Vicksburg National Military Park, Clay Street, Vicksburg, MS', 'French Quarter, New Orleans, LA', 'White House, Pennsylvania Avenue Northwest, Washington, DC', 'Cape Canaveral, FL', 'Okefenokee Swamp Park, Okefenokee Swamp Park Road, Waycross, GA', \"Fort Sumter National Monument, Sullivan's Island, SC\", 'Wright Brothers National Memorial Visitor Center, Manteo, NC', 'Mount Vernon, Fairfax County, Virginia']\n",
      "The total distance: 22471953.0m\n",
      "Time consumed: 1.286759376525879s\n"
     ]
    }
   ],
   "source": [
    "ga = GA(distance_matrix=dis_mtx, population_size=100, num_generations=3000, mutation_rate=9)\n",
    "route, total_distance, computational_time = ga.run()\n",
    "print(f\"The best route found: {route}\")\n",
    "print(f\"The total distance: {total_distance}m\")\n",
    "print(f\"Time consumed: {computational_time}s\")"
   ]
  },
  {
   "cell_type": "markdown",
   "metadata": {},
   "source": [
    "<hr>"
   ]
  },
  {
   "cell_type": "markdown",
   "metadata": {},
   "source": [
    "<h2>Visualization of Route on Map</h2>\n",
    "\n",
    "In this part, we will be visualizing the route found by GA previously. \n",
    "\n",
    "The base map we are using is the OpenStreetMap, which is open source and free.\n",
    "\n",
    "First, we will be marking the stations on the map."
   ]
  },
  {
   "cell_type": "code",
   "execution_count": 44,
   "metadata": {},
   "outputs": [],
   "source": [
    "map = folium.Map(location=[38, -96], tiles=\"OpenStreetMap\", zoom_start=5) # Initialize a empty map centred at US\n",
    "\n",
    "for i in range(len(stations)):\n",
    "    lat, lng = geo_data[\"Latitude\"][i], geo_data[\"Longitude\"][i]\n",
    "    marker = folium.Marker(location=[lat, lng], popup=stations[i]).add_to(map) # Add markers (stations) to map"
   ]
  },
  {
   "cell_type": "markdown",
   "metadata": {},
   "source": [
    "Run the following cell if you want to show the marked map"
   ]
  },
  {
   "cell_type": "code",
   "execution_count": null,
   "metadata": {},
   "outputs": [],
   "source": [
    "map"
   ]
  },
  {
   "cell_type": "markdown",
   "metadata": {},
   "source": [
    "Then, we will get the driving route polyline from Google Maps Directions API.\n",
    "\n",
    "However, it is encoded and we have to decode it in order to plot it by using folium."
   ]
  },
  {
   "cell_type": "code",
   "execution_count": 53,
   "metadata": {},
   "outputs": [],
   "source": [
    "\"\"\"Get the encoded polyline by using the Google Maps Directions API, to visualize the best route computed from the SIB algorithm\"\"\"\n",
    "polyline_list = []  # list for storing polyline data\n",
    "\n",
    "for i in range(len(route)):\n",
    "    result = gmaps.directions(origin=route[i-1], \n",
    "                              destination=route[i], \n",
    "                              units=\"metric\", \n",
    "                              departure_time=t)\n",
    "    steps = result[0][\"legs\"][0][\"steps\"]  # only obtain the polyline data from Directions API\n",
    "    for j in range(len(steps)):\n",
    "        polyline_list.append(steps[j][\"polyline\"][\"points\"])  # store the polyline\n",
    "\n",
    "for polyline_data in polyline_list:\n",
    "    decoded_polyline = polyline.decode(polyline_data)  # decode the polyline\n",
    "    folium.PolyLine(locations=decoded_polyline, color='blue').add_to(map)  # plot the polylines on the marked map\n",
    "\n",
    "map  # shows the plotted map"
   ]
  },
  {
   "cell_type": "markdown",
   "metadata": {},
   "source": [
    "<hr>"
   ]
  },
  {
   "cell_type": "markdown",
   "metadata": {},
   "source": [
    "<h2>Save the Plotted Map</h2>"
   ]
  },
  {
   "cell_type": "code",
   "execution_count": null,
   "metadata": {},
   "outputs": [],
   "source": [
    "map.save(\"Best_route.html\")  # save the map as html "
   ]
  },
  {
   "cell_type": "markdown",
   "metadata": {},
   "source": [
    "<hr>"
   ]
  }
 ],
 "metadata": {
  "kernelspec": {
   "display_name": "Python 3",
   "language": "python",
   "name": "python3"
  },
  "language_info": {
   "codemirror_mode": {
    "name": "ipython",
    "version": 3
   },
   "file_extension": ".py",
   "mimetype": "text/x-python",
   "name": "python",
   "nbconvert_exporter": "python",
   "pygments_lexer": "ipython3",
   "version": "3.12.4"
  }
 },
 "nbformat": 4,
 "nbformat_minor": 2
}
