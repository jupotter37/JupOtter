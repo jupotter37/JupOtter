{
 "cells": [
  {
   "cell_type": "code",
   "execution_count": 1,
   "id": "35bc1c25-466f-4be5-a07f-944a39e2dc9b",
   "metadata": {},
   "outputs": [
    {
     "data": {
      "text/plain": [
       "'3.10.14 | packaged by Anaconda, Inc. | (main, May  6 2024, 19:44:50) [MSC v.1916 64 bit (AMD64)]'"
      ]
     },
     "execution_count": 1,
     "metadata": {},
     "output_type": "execute_result"
    }
   ],
   "source": [
    "import sys\n",
    "sys.version "
   ]
  },
  {
   "cell_type": "code",
   "execution_count": 2,
   "id": "ad91cb9b-1122-4484-b78f-46d14b0c1158",
   "metadata": {},
   "outputs": [
    {
     "data": {
      "text/plain": [
       "True"
      ]
     },
     "execution_count": 2,
     "metadata": {},
     "output_type": "execute_result"
    }
   ],
   "source": [
    "# API 키를 환경변수로 관리하기 위한 설정 파일\n",
    "from dotenv import load_dotenv\n",
    "\n",
    "# API 키 정보 로드\n",
    "load_dotenv()"
   ]
  },
  {
   "cell_type": "code",
   "execution_count": 4,
   "id": "0fe8922f-d434-4fcc-9e51-0173316a0c2a",
   "metadata": {},
   "outputs": [],
   "source": [
    "from langchain_community.chat_models.openai import ChatOpenAI\n",
    "import os\n",
    "\n",
    "gpt3 = ChatOpenAI(model_name=\"gpt-3.5-turbo\", api_key=os.getenv(\"OPENAI_API_KEY\"), temperature=0.7)"
   ]
  },
  {
   "cell_type": "code",
   "execution_count": 5,
   "id": "a36275f3-e115-482f-96dc-0e71fe555f72",
   "metadata": {},
   "outputs": [
    {
     "name": "stdout",
     "output_type": "stream",
     "text": [
      "LangSmith 추적을 시작합니다.\n",
      "[프로젝트명]\n",
      "algorithm_education_agent\n"
     ]
    }
   ],
   "source": [
    "from langchain_teddynote import logging\n",
    "\n",
    "# 프로젝트 이름을 입력합니다.\n",
    "logging.langsmith(\"algorithm_education_agent\")\n",
    "\n",
    "# logging.langsmith(\"code_review_agent\", set_enable=False)"
   ]
  },
  {
   "cell_type": "markdown",
   "id": "21d1967f-9c35-4ac7-8e18-804833363f59",
   "metadata": {},
   "source": [
    "# 함수 정의"
   ]
  },
  {
   "cell_type": "code",
   "execution_count": 6,
   "id": "15dc4108-1914-4019-9e97-b79f359a687c",
   "metadata": {},
   "outputs": [],
   "source": [
    "from typing import Optional, Callable\n",
    "from langchain.prompts import ChatPromptTemplate\n",
    "from langchain.schema import StrOutputParser\n",
    "\n",
    "# class CustomStrOutputParser(StrOutputParser):\n",
    "#     def parse(self, output: str):\n",
    "#         print(output)\n",
    "#         return super().parse(output)\n",
    "\n",
    "# chain 생성 함수\n",
    "def create_prompt_chain(\n",
    "    system_template: str, \n",
    "    human_template: str,\n",
    "    model: Optional[ChatOpenAI] = None) -> Callable:\n",
    "    prompt = ChatPromptTemplate.from_messages([\n",
    "        (\"system\", system_template), \n",
    "        (\"human\", human_template)\n",
    "    ])\n",
    "    return prompt | model | StrOutputParser()"
   ]
  },
  {
   "cell_type": "code",
   "execution_count": 7,
   "id": "d2e4c841-9cec-479b-9e91-cad191e75913",
   "metadata": {},
   "outputs": [],
   "source": [
    "from typing import TypedDict, Annotated\n",
    "from langchain_core.documents import Document  # Document 객체가 정의된 모듈에서 가져와야 함\n",
    "\n",
    "# AlgorithmState 정의\n",
    "class AlgorithmState(TypedDict):\n",
    "    user_input: str\n",
    "    Wikipedia_search_query: str\n",
    "    Wikipedia_Document: list[Document]\n",
    "    Generated_answer: str"
   ]
  },
  {
   "cell_type": "code",
   "execution_count": 8,
   "id": "37a0b998-3b00-46aa-8873-e6d7d37ba3b9",
   "metadata": {},
   "outputs": [],
   "source": [
    "import re\n",
    "\n",
    "# Step 1: 사용자 입력으로부터 검색 쿼리 생성\n",
    "def create_search_query(state: AlgorithmState) -> AlgorithmState:\n",
    "    query_template = \"\"\"\n",
    "    You are an expert in algorithms and data structures. Based on the user's input, generate a simple query to search for the key concept on Wikipedia. The input is: \"{user_input}\". Create the query to capture the essence of the user's question in simple keywords. \n",
    "    \n",
    "    Please format your response as follows:\n",
    "    Wikipedia Query: [Your query]\n",
    "    \"\"\"\n",
    "    query_chain = create_prompt_chain(query_template, \"{user_input}\", gpt3)\n",
    "    query = query_chain.invoke({\"user_input\": state[\"user_input\"]})\n",
    "    query_match = re.search(r'Wikipedia Query:\\s*(.*)', query).group(1).strip() # 쿼리 추출\n",
    "    \n",
    "    # 상태 업데이트: Wikipedia_search_query 필드를 새 검색어로 업데이트\n",
    "    state[\"Wikipedia_search_query\"] = query_match\n",
    "    \n",
    "    return state"
   ]
  },
  {
   "cell_type": "code",
   "execution_count": 9,
   "id": "d4884049-1d8f-4289-952c-eb30e8323038",
   "metadata": {},
   "outputs": [],
   "source": [
    "from langchain.document_loaders import WikipediaLoader\n",
    "\n",
    "# Step 2: WikipediaLoader로 문서 검색\n",
    "def search_wikipedia(state: AlgorithmState) -> AlgorithmState:\n",
    "    # state에서 검색 쿼리 가져오기\n",
    "    query = state[\"Wikipedia_search_query\"]\n",
    "    \n",
    "    # WikipediaLoader를 사용해 최대 2개의 문서 로드\n",
    "    loader = WikipediaLoader(query=query, load_max_docs=2)\n",
    "    documents = loader.load()\n",
    "    \n",
    "    # 상태 업데이트: Wikipedia_Document 필드를 로드된 문서로 업데이트\n",
    "    state[\"Wikipedia_Document\"] = documents\n",
    "\n",
    "    # 업데이트된 state 반환\n",
    "    return state"
   ]
  },
  {
   "cell_type": "code",
   "execution_count": 10,
   "id": "70c1ad35-9004-45a8-8e5f-c32a4e262c7c",
   "metadata": {},
   "outputs": [],
   "source": [
    "# LaTeX 이스케이프 처리 함수 \n",
    "def escape_latex(text):\n",
    "    # LaTeX 수식을 찾아 이스케이프 처리 (줄바꿈 포함)\n",
    "    def replace_latex(match):\n",
    "        return '{{' + match.group(1) + '}}' + match.group(2)\n",
    "    \n",
    "    # {\\\\displaystyle ...}\\n 패턴을 찾아 이스케이프 처리\n",
    "    escaped = re.sub(r'(\\{\\\\displaystyle [^}]+\\})(\\n?)', replace_latex, text)\n",
    "    \n",
    "    # 남은 중괄호들을 이스케이프 처리\n",
    "    escaped = escaped.replace(\"{\", \"{{\").replace(\"}\", \"}}\")\n",
    "    \n",
    "    return escaped"
   ]
  },
  {
   "cell_type": "code",
   "execution_count": 11,
   "id": "d456b795-573f-4ff7-85ad-3f2fdfdd2cd9",
   "metadata": {},
   "outputs": [],
   "source": [
    "# Step 3: 검색된 결과를 바탕으로 답변 생성\n",
    "def generate_answer(state: AlgorithmState) -> AlgorithmState:\n",
    "    qa_template = \"\"\"\n",
    "    Based on the Wikipedia content provided below, answer the user's question in a detailed and easy-to-understand way.\n",
    "    \n",
    "    Wikipedia content: {document_content}\n",
    "    \n",
    "    The user asked: {user_input}\n",
    "    \n",
    "    Provide a thorough and easy-to-follow explanation, ensuring the response is detailed and simplified for clear understanding using the Wikipedia data. \n",
    "    Additionally, use examples to make the explanation clearer and more relatable.\n",
    "    \"\"\"\n",
    "    \n",
    "    # create_prompt_chain이 이미 정의되어 있다고 가정\n",
    "    qa_chain = create_prompt_chain(qa_template, \"{user_input}\\n{document_content}\", gpt3)\n",
    "    \n",
    "    # state에서 Wikipedia_Document 가져오기\n",
    "    documents = state[\"Wikipedia_Document\"]\n",
    "    \n",
    "    # 문서의 내용을 모두 합쳐 하나의 문자열로 만들기\n",
    "    document_content = \" \".join([escape_latex(doc.page_content) for doc in documents])\n",
    "    \n",
    "    # 질문과 문서 내용을 바탕으로 답변 생성\n",
    "    answer = qa_chain.invoke({\"user_input\": state[\"user_input\"], \"document_content\": document_content})\n",
    "    \n",
    "    # 상태 업데이트: Generated_answer 필드에 생성된 답변 저장\n",
    "    state[\"Generated_answer\"] = answer\n",
    "\n",
    "    # 업데이트된 state 반환\n",
    "    return state"
   ]
  },
  {
   "cell_type": "code",
   "execution_count": null,
   "id": "6a993e71-0e61-4fe2-98c9-a0c2d0391e59",
   "metadata": {},
   "outputs": [],
   "source": []
  },
  {
   "cell_type": "markdown",
   "id": "67658bc7-1271-4ddb-a4e6-78256d0a544a",
   "metadata": {},
   "source": [
    "# Algorithm Education Graph"
   ]
  },
  {
   "cell_type": "code",
   "execution_count": 12,
   "id": "ac01a4f6-d9f0-4cbd-9e72-48351daf9e6d",
   "metadata": {},
   "outputs": [],
   "source": [
    "from langgraph.graph import END, StateGraph\n",
    "from langgraph.checkpoint.memory import MemorySaver\n",
    "\n",
    "# 알고리즘 및 자료구조 교육 워크플로우 생성\n",
    "Algorithm_workflow = StateGraph(AlgorithmState)"
   ]
  },
  {
   "cell_type": "code",
   "execution_count": 13,
   "id": "1026aa1f-2999-4f5c-96c8-ff2f8cbc7456",
   "metadata": {},
   "outputs": [],
   "source": [
    "from langgraph.graph import START, END, StateGraph\n",
    "\n",
    "# 각 단계의 노드 추가\n",
    "Algorithm_workflow.add_node(\"create_search_query\", create_search_query)\n",
    "Algorithm_workflow.add_node(\"search_wikipedia\", search_wikipedia)\n",
    "Algorithm_workflow.add_node(\"generate_answer\", generate_answer)\n",
    "\n",
    "# 노드 간의 연결 설정 (단계별 흐름)\n",
    "Algorithm_workflow.add_edge(\"create_search_query\", \"search_wikipedia\")\n",
    "Algorithm_workflow.add_edge(\"search_wikipedia\", \"generate_answer\")\n",
    "Algorithm_workflow.add_edge(\"generate_answer\", END)\n",
    "\n",
    "Algorithm_workflow.set_entry_point(\"create_search_query\")"
   ]
  },
  {
   "cell_type": "code",
   "execution_count": 14,
   "id": "c31251d2-b424-4ba6-93cf-c05193fbb42e",
   "metadata": {},
   "outputs": [],
   "source": [
    "# 워크플로우 컴파일 및 그래프 시각화\n",
    "Algorithm_app = Algorithm_workflow.compile()"
   ]
  },
  {
   "cell_type": "code",
   "execution_count": 15,
   "id": "ec0a4370-d6dc-40ed-b7e9-d9cdeb7dd9e8",
   "metadata": {},
   "outputs": [
    {
     "data": {
      "image/jpeg": "[encoded data removed]",
      "text/plain": [
       "<IPython.core.display.Image object>"
      ]
     },
     "metadata": {},
     "output_type": "display_data"
    }
   ],
   "source": [
    "from IPython.display import Image, display\n",
    "\n",
    "try:\n",
    "    display(\n",
    "        Image(Algorithm_app.get_graph(xray=True).draw_mermaid_png())\n",
    "    )  # 실행 가능한 객체의 그래프를 mermaid 형식의 PNG로 그려서 표시합니다. xray=True는 추가적인 세부 정보를 포함합니다.\n",
    "except:\n",
    "    # 이 부분은 추가적인 의존성이 필요하며 선택적으로 실행됩니다.\n",
    "    pass"
   ]
  },
  {
   "cell_type": "code",
   "execution_count": null,
   "id": "df3e89c4-9fa1-4ebd-906a-a5972294a552",
   "metadata": {},
   "outputs": [],
   "source": []
  },
  {
   "cell_type": "markdown",
   "id": "090d2de8-8086-4764-b440-1b774d68f980",
   "metadata": {},
   "source": [
    "# 결과물"
   ]
  },
  {
   "cell_type": "code",
   "execution_count": 16,
   "id": "b6a813e8-bdfb-4b87-b330-2313054c7709",
   "metadata": {},
   "outputs": [],
   "source": [
    "test_input = \"I don't really understand what the Selection Sort algorithm is. Please explain it to me in detail and in an easy way.\""
   ]
  },
  {
   "cell_type": "code",
   "execution_count": 21,
   "id": "14a074f2-ccf9-4ef3-b953-3d0e8b7ea4b5",
   "metadata": {},
   "outputs": [],
   "source": [
    "answer = Algorithm_app.invoke(AlgorithmState(user_input=test_input))"
   ]
  },
  {
   "cell_type": "code",
   "execution_count": 22,
   "id": "49e7968b-6bd2-47e1-992c-37a7a492a1a1",
   "metadata": {},
   "outputs": [
    {
     "data": {
      "text/markdown": [
       "Selection Sort is a simple sorting algorithm used in computer science. It is an in-place comparison sorting algorithm, meaning it sorts elements by comparing them and swapping their positions within the original array. Selection sort has a time complexity of O(n^2), which means its efficiency decreases as the number of elements in the array increases. However, it can be advantageous in situations where memory is limited.\n",
       "\n",
       "Here is a breakdown of how the Selection Sort algorithm works:\n",
       "1. The algorithm divides the input list into two parts: a sorted sublist and an unsorted sublist.\n",
       "2. Initially, the sorted sublist is empty, and the unsorted sublist contains all the elements.\n",
       "3. The algorithm repeatedly finds the smallest (or largest, depending on the sorting order) element in the unsorted sublist.\n",
       "4. It then swaps this element with the leftmost unsorted element, placing it in the sorted order.\n",
       "5. The boundaries of the sorted and unsorted sublists are adjusted by moving one element to the right.\n",
       "6. This process is repeated until all elements are sorted.\n",
       "\n",
       "For example, let's sort an array [64, 25, 12, 22, 11] using Selection Sort:\n",
       "- Find the minimum element in the array and place it at the beginning: [11, 25, 12, 22, 64]\n",
       "- Find the next minimum element in the remaining array and place it in the second position: [11, 12, 25, 22, 64]\n",
       "- Repeat this process until all elements are in sorted order: [11, 12, 22, 25, 64]\n",
       "\n",
       "Selection sort is not the most efficient sorting algorithm, especially for large arrays, due to its quadratic time complexity. There are other sorting techniques with better time complexity, like merge sort or quicksort. However, selection sort is easy to implement, requires minimal auxiliary memory, and can be useful in specific scenarios.\n",
       "\n",
       "In summary, Selection Sort is a straightforward algorithm that repeatedly selects the smallest element from the unsorted part of the array and places it in the correct position in the sorted part, making it a good option for small datasets or situations where simplicity is preferred over speed."
      ],
      "text/plain": [
       "<IPython.core.display.Markdown object>"
      ]
     },
     "metadata": {},
     "output_type": "display_data"
    }
   ],
   "source": [
    "from IPython.display import display, Markdown\n",
    "display(Markdown(answer[\"Generated_answer\"]))"
   ]
  }
 ],
 "metadata": {
  "kernelspec": {
   "display_name": "test1",
   "language": "python",
   "name": "test1"
  },
  "language_info": {
   "codemirror_mode": {
    "name": "ipython",
    "version": 3
   },
   "file_extension": ".py",
   "mimetype": "text/x-python",
   "name": "python",
   "nbconvert_exporter": "python",
   "pygments_lexer": "ipython3",
   "version": "3.10.14"
  }
 },
 "nbformat": 4,
 "nbformat_minor": 5
}
