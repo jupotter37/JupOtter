{
 "cells": [
  {
   "cell_type": "markdown",
   "metadata": {
    "colab_type": "text",
    "id": "4p2zGG8tSbiQ"
   },
   "source": [
    "# Algorithm Choice\n",
    "\n",
    "In many cases, there will be many ways of reaching the desired answer when writing a piece of code. Choosing the correct algorithm/methodology to implement across your code is a vital part of designing a piece of software. The choices and trade-offs will vary substantially by discipline and application. An example might be whether to use finite difference or finite element models in physical modeling or whether to use supervised or unsupervised learning in machine learning applications. In general, this decision should be made before development begins as they will be fundamental to the design of the code and will not be able to be changed later.\n",
    "\n",
    "When selecting the methodology to be used in a code, you may want to consider the following:\n",
    "\n",
    "*   Run-time\n",
    "*   Memory usage\n",
    "*   Availability of libraries\n",
    "*   Complexity of implementation\n",
    "*   Your current level of knowledge\n",
    "*   How easy it is to extend the methodology to other related problems\n",
    "\n",
    "Methodology choice is one of the most important choices for determining how quick and easy to make the code is. Unfortunately, there is often a trade-off between these two properties.\n",
    "\n",
    "## Big O Notation\n",
    "\n",
    "When considering run-time and memory usage, the idea of \"Big O\" notation is a common and useful tool for understanding the performance of a method. The idea behind Big O notation is that it is often possible to predict the run-time and memory requirements of an algorithm before the algorithm is run by counting the number of operations which must be performed or the number of bits of data which must be stored. These requirements will often scale with the size of problem to be solved. For instance, it may scale with the number of elements in a domain, number of particles simulated or number of bits of data being analysed. We refer to the value which describes the extent of the problem in this way as $n$. We may then look at how the requirements of the algorithm scale as $n$ increases and write the results as in the following examples:\n",
    "\n",
    "$\\mathcal{O} (1)$\n",
    "\n",
    "$\\mathcal{O} (n)$\n",
    "\n",
    "$\\mathcal{O} (n\\log(n))$\n",
    "\n",
    "In the first case the \"$1$\" indicates the requirement does not scale with $n$. In the second two cases, the requirement increases as $n$ increases, but at different rates.\n",
    "\n",
    "The idea is that, as we count up the requirements of the algorithm, we may find a value that looks as follows:\n",
    "\n",
    "$A+Bn+Cn^2+Dn\\log(n)+\\ldots$\n",
    "\n",
    "where different terms relate to operations which must be undertaken numbers of times as $n$ increases and $A$, $B$, $C$ and $D$ are constants. What Big O notation does is picks the term which will make the biggest contribution to the overall requirement as $n\\rightarrow \\infty$. In this case, one term will always dominate. This will be true regardless of the values of $A$, $B$, etc. As such, the constant is not included in the big O notation. This means Big O notation gives a measure of how the requirement of the algorithm increases as $n$ increases.\n",
    "\n",
    "<a title=\"Cmglee [CC BY-SA (https://creativecommons.org/licenses/by-sa/4.0)]\" href=\"https://commons.wikimedia.org/wiki/File:Comparison_computational_complexity.svg\"><img width=\"512\" alt=\"Comparison computational complexity\" src=\"https://upload.wikimedia.org/wikipedia/commons/thumb/7/7e/Comparison_computational_complexity.svg/512px-Comparison_computational_complexity.svg.png\" align=\"center\"></a>\n",
    "\n",
    "## Sorting Algorithm Example\n",
    "\n",
    "Sorting algorithms are a good example of choosing an approach to solving a problem. The problem a sorting algorithm aims to solve is how to return a ordered set of data (such as from highest to lowest or alphabetically) from a random set of input data. For instance, turning the list ```[1,5,7,3,6]``` into ```[1,3,5,6,7]```.\n",
    "\n",
    "There are a large number of algorithms which solve this problem and each will scale their runtime and memory in a different way. The way some of these algorithms scale in terms of time and memory are shown below:\n",
    "\n",
    "| Algorithm     | Best Possible Running Time | Average Running Time  | Worst Possible Running Time | Worst Possible Memory |\n",
    "|----|-------|------|------|-----|\n",
    "|[Quicksort](https://en.wikipedia.org/wiki/Quicksort)| $\\mathcal{O}(n\\log(n))$| $\\mathcal{O}(n\\log(n))$ | $\\mathcal{O}(n^2)$ | $\\mathcal{O}(\\log(n))$|\n",
    "|[Mergesort](https://en.wikipedia.org/wiki/Merge_sort)| $\\mathcal{O}(n\\log(n))$| $\\mathcal{O}(n\\log(n))$ | $\\mathcal{O}(n\\log(n))$ | $\\mathcal{O}(n)$|\n",
    "|[Timsort](https://en.wikipedia.org/wiki/Timsort)| $\\mathcal{O}(n)$| $\\mathcal{O}(n\\log(n))$ | $\\mathcal{O}(n\\log(n))$ | $\\mathcal{O}(n)$|\n",
    "|[Heapsort](https://en.wikipedia.org/wiki/Heapsort)| $\\mathcal{O}(n\\log(n))$| $\\mathcal{O}(n\\log(n))$ | $\\mathcal{O}(n\\log(n))$ | $\\mathcal{O}(1)$|\n",
    "|[Bubblesort](https://en.wikipedia.org/wiki/Bubble_sort)| $\\mathcal{O}(n)$| $\\mathcal{O}(n^2)$ | $\\mathcal{O}(n^2)$ | $\\mathcal{O}(1)$|\n",
    "|[Insertionsort](https://en.wikipedia.org/wiki/Insertion_sort)| $\\mathcal{O}(n)$| $\\mathcal{O}(n^2)$ | $\\mathcal{O}(n^2)$ | $\\mathcal{O}(1)$|\n",
    "|[Selectionsort](https://en.wikipedia.org/wiki/Selection_sort)| $\\mathcal{O}(n^2)$ | $\\mathcal{O}(n^2)$ | $\\mathcal{O}(n^2)$ | $\\mathcal{O}(1)$|\n",
    "|[Treesort](https://en.wikipedia.org/wiki/Tree_sort)| $\\mathcal{O}(n\\log(n))$| $\\mathcal{O}(n\\log(n))$ | $\\mathcal{O}(n^2)$ | $\\mathcal{O}(n)$|\n",
    "|[Shellsort](https://en.wikipedia.org/wiki/Shellsort)| $\\mathcal{O}(n\\log(n))$| $\\mathcal{O}(n(\\log(n))^2)$ | $\\mathcal{O}(n(\\log(n))^2)$ | $\\mathcal{O}(1)$|\n",
    "\n",
    "\n",
    "Example implementations of some of these algorithms in Python may be found [here](https://www.tutorialspoint.com/python_data_structure/python_sorting_algorithms.htm) and a visualisation of the algorithms in action can be found [here](https://www.youtube.com/watch?v=kPRA0W1kECg) (Warning: contains flashing images).\n",
    "\n",
    "When it comes to your particular application, it can pay dividends to spend some time reading about different algorithms which are available to solve your problem. This will often involve having a good understanding of your application as well as the algorithms themselves. This will allow you to choose the most appropriate algorithm for your application."
   ]
  }
 ],
 "metadata": {
  "colab": {
   "authorship_tag": "ABX9TyNoim5kLtw2FQuWZ5l0evct",
   "collapsed_sections": [],
   "name": "Optimisation_ Algorithm Choice.ipynb",
   "provenance": []
  },
  "kernelspec": {
   "display_name": "Python 3.9.13 64-bit (microsoft store)",
   "language": "python",
   "name": "python3"
  },
  "language_info": {
   "codemirror_mode": {
    "name": "ipython",
    "version": 3
   },
   "file_extension": ".py",
   "mimetype": "text/x-python",
   "name": "python",
   "nbconvert_exporter": "python",
   "pygments_lexer": "ipython3",
   "version": "3.9.13"
  },
  "vscode": {
   "interpreter": {
    "hash": "5dbf766eb95023f9dddb799b5381b4ed6a9322e38632e8ac1570872c767b304b"
   }
  }
 },
 "nbformat": 4,
 "nbformat_minor": 1
}
