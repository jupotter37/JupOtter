{
 "cells": [
  {
   "cell_type": "markdown",
   "metadata": {},
   "source": [
    "---\n",
    "### *The 11th Computational Neuroscience Winter School*\n",
    "# Tutorial II: Neuronal Dynamics - Point Neuron Model\n",
    "---\n",
    "__Date:__ Jan. 21, 2022\n",
    "\n",
    "__Content Creator:__ Songting Li, Kai Chen, Ziling Wang\n"
   ]
  },
  {
   "cell_type": "markdown",
   "metadata": {},
   "source": [
    "## Using tutorial notebook\n",
    "\n",
    "Please download the latest version of [Jupyter Notebook](https://jupyter.org) if you want to try run all tutorials on your own laptop.\n",
    "\n",
    "**Gray cells are executable code cells. To execute, click on a cell and press `Shift + Enter`.**\n",
    "\n",
    "**To modify text in a cell, click on the cell and type.**\n",
    "\n",
    "Note that most function stubs are suggestions. Feel free to code up whatever solves the task.\n",
    "\n",
    "If something behaves weird, it always is worth a try to restart the kernel."
   ]
  },
  {
   "cell_type": "markdown",
   "metadata": {},
   "source": [
    "---\n",
    "# Tutorial Objectives\n",
    "In this notebook, we will learn how to use python to solve differential equations that describe the dynamics of neurons. We will cover single-compartment neurons and simplest spatial neuron models (ball and stick) in next notebook.\n",
    "\n",
    "In the course of this notebook, we will learn how to simulate the single point neuron model, including LIF and reduced HH neuron (Fitzhugh-Nagumo model):\n",
    "1. Initialize model and variable state;\n",
    "1. Record output, such as membrane potentials and spikes\n",
    "1. Drive the neurons by external input\n",
    "\n",
    "In doing so we will practice \n",
    "\n",
    "- To make use of modular programming\n",
    "- To write testing functions to check and optimize code "
   ]
  },
  {
   "cell_type": "markdown",
   "metadata": {},
   "source": [
    "## Setup"
   ]
  },
  {
   "cell_type": "code",
   "execution_count": 1,
   "metadata": {},
   "outputs": [],
   "source": [
    "# @title Import most modules and functions needed\n",
    "import time\n",
    "import numpy as np \n",
    "import matplotlib as mpl\n",
    "mpl.rcParams['lines.linewidth'] = 2\n",
    "mpl.rcParams['legend.fontsize'] = 14\n",
    "mpl.rcParams['axes.labelsize'] = 16\n",
    "mpl.rcParams['axes.titlesize'] = 18\n",
    "import matplotlib.pyplot as plt\n",
    "%matplotlib inline\n",
    "%config InlineBackend.figure_format = 'retina'"
   ]
  },
  {
   "cell_type": "markdown",
   "metadata": {},
   "source": [
    "# General coding remarks"
   ]
  },
  {
   "cell_type": "markdown",
   "metadata": {},
   "source": [
    "In your very own interest (but also the interest of everyone who ever has to work with your code) it really helps, if you always:\n",
    "\n",
    "- structure your code clearly, such that you can quickly grasp where loops begin and end, etc. \n",
    "\n",
    "- choose sensible names for your functions, e.g. call a routine that stores spikes `store_spikes`, one that plots membrane potentials `plot_pots`, or something similar. \n",
    "\n",
    "- choose sensible names for your variables, e.g. call a variable that encodes the membrane potential `V` or `Vm`, a space variable `x`, a time variable `t`, and so on. You get the gist :-)\n",
    "\n",
    "- add comments about what individual lines/sections of code do, for (stupid) example: "
   ]
  },
  {
   "cell_type": "markdown",
   "metadata": {},
   "source": [
    "```python\n",
    ">>> v=v+c # this adds the constant c to v\n",
    "```"
   ]
  },
  {
   "cell_type": "markdown",
   "metadata": {},
   "source": [
    "- add doc strings to your functions: that is the text in between ''' in the beginning of each function definition (see examples below). Doc strings should describe what the function does and what the input variables and parameters are. "
   ]
  },
  {
   "cell_type": "markdown",
   "metadata": {},
   "source": [
    "```python\n",
    ">>> def func():\n",
    ">>>     '''\n",
    ">>>     This is a function. It does things.\n",
    ">>>     '''\n",
    ">>>     \n",
    ">>> # You can print this info by typing 'print(func.__doc__)'     \n",
    ">>> print(func.__doc__)    \n",
    "This is a function. It does things.\n",
    "    \n",
    "```"
   ]
  },
  {
   "cell_type": "markdown",
   "metadata": {},
   "source": [
    "Also: **SAVE REGULARLY!!!** You don't want to lose the most brilliant few lines of code you ever produced, nor more regular tedious work to [insert random thing that WILL happen and kill your running program]\n",
    "\n",
    "Though `Jupyter Notebook` helps by regularly creating checkpoints, you'd better mannully save your modifications."
   ]
  },
  {
   "cell_type": "markdown",
   "metadata": {},
   "source": [
    "### Modular Programming"
   ]
  },
  {
   "cell_type": "markdown",
   "metadata": {},
   "source": [
    "It is extremely helpful to structure your code into seperate independent functions or modules. \n",
    "\n",
    "For example, instead of having one huge simulation function which initializes all dynamical variables, updates the dynamical states, checks for state transitions (e.g. threshold crossings), and writes output to file, you should split it into basic functions that do one thing, and one thing only [UNIX philosophy:)].\n",
    "\n",
    "This has several advantages:\n",
    "\n",
    "- it increases readability of complex code;\n",
    "- each function can be more easily tested and maintained;\n",
    "- each function can be easily changed or replaced without affecting the behavior of other functions;\n",
    "- each function can be easily reused, in the best case scenario saving you work at a later point in time;\n"
   ]
  },
  {
   "cell_type": "markdown",
   "metadata": {},
   "source": [
    "## Numpy Broadcasting\n",
    "\n",
    "If you want to multiply each element of `a` by `2.0`, you may implement a loop operation as follows.\n",
    "```python\n",
    ">>> import numpy as np\n",
    ">>> a = np.array([1.0,2.0,3.0])\n",
    ">>> for i in range(len(a)):\n",
    ">>>     a[i] = a[i] * 2.0\n",
    ">>> print(a)\n",
    "[2., 4., 6.]\n",
    "```\n",
    "\n",
    "Numpy's broadcasting rule allows you to implement element-wise operations by directly interact numpy.array with scalars, shown as the following examples.\n",
    "\n",
    "```python\n",
    ">>> import numpy as np\n",
    ">>> a = np.array([1.0,2.0,3.0])\n",
    ">>> a = a * 2.0\n",
    ">>> print(a)\n",
    "[2., 4., 6.]\n",
    "```\n",
    "![img](https://numpy.org/devdocs/_images/theory.broadcast_1.gif)\n",
    "As the sketch and figure above, broadcasting provides a means of vectorizing array operatings so that looping occurs in C instead of Python. We may use `time.time()` to verify it.\n",
    "\n"
   ]
  },
  {
   "cell_type": "code",
   "execution_count": 2,
   "metadata": {},
   "outputs": [
    {
     "name": "stdout",
     "output_type": "stream",
     "text": [
      "Python looping takes 0.319s\n",
      "Last 5 elements in a:  [1999990. 1999992. 1999994. 1999996. 1999998.]\n",
      "Python looping takes 0.005s\n",
      "Last 5 elements in a:  [1999990. 1999992. 1999994. 1999996. 1999998.]\n"
     ]
    }
   ],
   "source": [
    "import numpy as np\n",
    "import time\n",
    "# Python Looping\n",
    "a = np.arange(1000000, dtype=float)\n",
    "t0 = time.time()\n",
    "for i in range(len(a)):\n",
    "    a[i] *= 2.0\n",
    "print(f'Python looping takes {time.time()-t0:.3f}s')\n",
    "print('Last 5 elements in a: ', a[-5:])\n",
    "\n",
    "# Numpy broadcasting\n",
    "a = np.arange(1000000, dtype=float)\n",
    "t0 = time.time()\n",
    "a = a * 2.0\n",
    "print(f'Python looping takes {time.time()-t0:.3f}s')\n",
    "print('Last 5 elements in a: ', a[-5:])"
   ]
  },
  {
   "cell_type": "markdown",
   "metadata": {},
   "source": [
    "**More broadcasting, less loops!**"
   ]
  },
  {
   "cell_type": "markdown",
   "metadata": {},
   "source": [
    "### Testing functions"
   ]
  },
  {
   "cell_type": "markdown",
   "metadata": {},
   "source": [
    "It is critical to test each function before putting all of them together. Writing a proper test of a function will give you confidence that a function is working properly. The test should be simple enough, yet still contain  typical situation(s) to be met when all functions are put together.\n",
    "\n",
    "E.g. if you have a function that detects a threshold crossing and resets the dynamical state as a consequence, you want to make sure that it correctly identifies the crossing and correctly resets to the desired value. To do so, you could give an increasing time series that contains the threshold value as an input and measure the output for expected behavior."
   ]
  },
  {
   "cell_type": "markdown",
   "metadata": {},
   "source": [
    "# Point neuron models"
   ]
  },
  {
   "cell_type": "markdown",
   "metadata": {},
   "source": [
    "## Fitzhugh-Nagumo model"
   ]
  },
  {
   "cell_type": "markdown",
   "metadata": {},
   "source": [
    "Most of you will in one way or another have encountered the famous Hodgkin-Huxley (HH) model for the dynamics of neuronal membranes. It is a powerful biophysical model to explain many aspects of membrane excitability, such as action potential generation and the role of ion channels, in particular sodium and potassium, in it. \n",
    "\n",
    "The Fitzhugh-Nagumo model is a model that reduces the complexity of the HH model to two dimensions, while still capturing the key aspects of the dynamics. Most of all, the reduction makes it amenable to dynamical system analysis techniques.\n",
    "\n",
    "The membrane potential equation for the Fitzhugh-Nagumo model is given by\n",
    "\n",
    "\\begin{eqnarray}\n",
    "\\frac{d}{dt} v(t) &=& v - \\frac{v^3}{3} - w + I\\quad (1.1)\\\\\n",
    "\\frac{d}{dt}w(t) &=& \\epsilon\\,(b_0+b_1 v - w)\\quad (1.2)\n",
    "%\\tau \\frac{d}{dt}w(t) &=& v + a -bw\n",
    "\\end{eqnarray}\n",
    "\n",
    "$I$ is a driving current, $v(t)$ is a fast variable (membrane potential), $w(t)$ is a slow recovery variable.\n",
    "\n",
    "\n",
    "\n"
   ]
  },
  {
   "cell_type": "markdown",
   "metadata": {},
   "source": [
    "## Step 1: Initialization and Output monitor functions "
   ]
  },
  {
   "cell_type": "markdown",
   "metadata": {},
   "source": [
    "### Example: membrane potential recorder"
   ]
  },
  {
   "cell_type": "markdown",
   "metadata": {},
   "source": [
    "To write membrane potential recording and plotting functions we want three different functions:\n",
    "\n",
    "- `init_rec_pot()`: should initialize the object which you will store potentials in\n",
    "- `store_pot()`: should record all potential values at a given time point\n",
    "- `plot_pot()`: should plot the membrane potential as a function of time  \n",
    "\n",
    "We can print the time taken by the whole session by using `time.time()`. This is helpful for optimizing code."
   ]
  },
  {
   "cell_type": "code",
   "execution_count": 3,
   "metadata": {},
   "outputs": [],
   "source": [
    " if you want to initialize all traces to already have the full length=number of sample points=n_timesteps\n",
    "def init_rec_pot(n_neuron,n_timesteps):\n",
    "    '''\n",
    "    Initializes dictionary of potential trace arrays. \n",
    "    \n",
    "    Args:\n",
    "    n_neuron    : number of neurons for which you want to store the potential \n",
    "    n_timesteps : number of time steps \n",
    "    \n",
    "    Returns:\n",
    "    rec_pot     : dictionary object rec_pot\n",
    "    '''\n",
    "    rec_pot = np.zeros((n_neuron, n_timesteps))     # initialize a 2-D array with all entries=0 \n",
    "                                                    # i-th row represents the trace of each neuron i\n",
    "                                                    # j-th column represents the potential of all neurons\n",
    "                                                    #   at j-th time point;\n",
    "    return rec_pot\n",
    "\n",
    "        \n",
    "def store_pot(rec_pot,V,it):\n",
    "    '''\n",
    "    Stores potentials in dictionary rec_pot \n",
    "    \n",
    "    Args:\n",
    "    rec_pot: dictionary of potential trace\n",
    "    V      : vector of current potential values\n",
    "    it     : current time step\n",
    "    \n",
    "    Returns:\n",
    "    does not return anything, this functions just updates the storing object\n",
    "    '''\n",
    "    rec_pot[:, it] = V      # assign potential value V of all neurons at time it \n",
    "                            # to corresponding entries of rec_pot\n",
    "    \n",
    "def plot_pot(rec_pot, time=None):\n",
    "    '''\n",
    "    Plots potentials stored in dictionary rec_pot \n",
    "    \n",
    "    Args:\n",
    "    rec_pot: dictionary of potential traces\n",
    "    time   : time ticks of x-axis\n",
    "   \n",
    "    Returns:\n",
    "    does not return anything, this functions just plots the contents of rec_pot\n",
    "    '''\n",
    "    cnt   = 0               # counter, only needed for plotting in different colors; \n",
    "                            # for keys==range(n_neuron) can use i directly\n",
    "        \n",
    "    for trace in rec_pot:   # iterate through all rows of the rec_pot array\n",
    "        # plot gray scale solid lines (-) with linewidth (lw) 2 \n",
    "        if time is None:\n",
    "            plt.plot(trace,'-',color='%s'%((1.+cnt)/(len(rec_pot)+1)),lw=2, label=str(cnt+1))\n",
    "        else:\n",
    "            plt.plot(time, trace,'-',color='%s'%((1.+cnt)/(len(rec_pot)+1)),lw=2, label=str(cnt+1)) \n",
    "        cnt+=1\n",
    "    "
   ]
  },
  {
   "cell_type": "markdown",
   "metadata": {},
   "source": [
    "We will now use some mock potential data to see if the three functions init_rec_pot(), store_pot() and plot_pot() do what they should."
   ]
  },
  {
   "cell_type": "code",
   "execution_count": 4,
   "metadata": {},
   "outputs": [
    {
     "name": "stdout",
     "output_type": "stream",
     "text": [
      "Running time is 0.01622 s\n"
     ]
    },
    {
     "data": {
      "image/png": "[encoded data removed]",
      "text/plain": [
       "<Figure size 432x288 with 1 Axes>"
      ]
     },
     "metadata": {
      "image/png": {
       "height": 248,
       "width": 370
      },
      "needs_background": "light"
     },
     "output_type": "display_data"
    }
   ],
   "source": [
    "T, dt     = 10, 0.1                        # total time T [ms], time increment dt [ms]\n",
    "n_neuron  = 3                              # number of neurons\n",
    "ts        = np.arange(0,T,dt)              # time vector\n",
    "rec_pot   = init_rec_pot(n_neuron,len(ts)) # create rec_pot object\n",
    "starttime = time.time()                    # you can clock how long your code needs, useful during optimization               \n",
    "\n",
    "#print rec_pot                             # how does it look?\n",
    "\n",
    "### run \"pseudo-dynamics\" \n",
    "# first, create an update function for the potential dynamics (here, simply creating normal distributed random numbers)\n",
    "def update(n_neuron):\n",
    "    return np.random.randn(n_neuron)\n",
    "\n",
    "for it in range(len(ts)):\n",
    "    vs = update(n_neuron)                  # for each time step update potential values\n",
    "    store_pot(rec_pot,vs,it)               # hand to store_pot function\n",
    "    \n",
    "#print rec_pot                             # how does it look?\n",
    "\n",
    "# plot potential traces: should give n_neuron random traces in varying gray tones\n",
    "plot_pot(rec_pot)\n",
    "endtime = time.time()\n",
    "print(f'Running time is {endtime-starttime:0.5f} s')"
   ]
  },
  {
   "cell_type": "markdown",
   "metadata": {},
   "source": [
    "## Step 2: Numerical ODE Solver\n",
    "---"
   ]
  },
  {
   "cell_type": "markdown",
   "metadata": {},
   "source": [
    "### Euler integration\n",
    "Consider a differential equation of the type\n",
    "\n",
    "$$\n",
    "\\tau \\frac{d}{dt} x(t) = -x(t) +I\\,,\\quad(i)\n",
    "$$\n",
    "\n",
    "where $I$ is some constant input that drives the dynamics of the variable $x(t)$, and $\\tau$ is some time constant that tunes how fast $x$ reacts to the input $I$.\n",
    "\n",
    "For this type of equation it is straightforward to write down the solution, i.e.,\n",
    "\n",
    "$$\n",
    "x(t) = I\\,(1-e^{-t/\\tau}) + x_0\\,e^{-t/\\tau}\\,,\\quad (ii)\n",
    "$$\n",
    "\n",
    "where $x_0=x(t_0)$ is the initial condition. Indeed, if we compute the temporal derivative of $(ii)$ we get\n",
    "\n",
    "\\begin{eqnarray}\n",
    "\\frac{d}{dt} x(t) \\quad &=& \\quad \\frac{d}{dt} \\big(I\\,(1-e^{-t/\\tau}) + x_0\\,e^{-t/\\tau}\\big) \\quad =\\quad  \\frac{1}{\\tau} \\left(I\\,e^{-t/\\tau} -x_0 \\,e^{-t/\\tau}\\right)  \\\\\n",
    "\\Leftrightarrow\\quad \\tau \\frac{d}{dt} x(t) \\quad &=& \\quad I\\,e^{-t/\\tau} - x_0 \\,e^{-t/\\tau} + (I-I) \\,\\, \\,\\quad =\\quad  -x(t) +I\\,.\n",
    "\\end{eqnarray}\n",
    "\n",
    "Not every differential equation is so easy to solve, so it is useful to know how to numerically compute such problems.\n",
    "\n",
    "The most straight-forward (though not necessarily always best or optimal) way to do that is by *Euler integration*.\n",
    "\n",
    "### Discretization\n",
    "\n",
    "We start from $(i)$ by substituting \n",
    "\n",
    "$$dt \\rightarrow  \\Delta t= t_{i+1}-t_i, \\quad dx \\rightarrow \\Delta x = x(t_{i+1})-x(t_i)=: x_{i+1}-x_i$$ \n",
    "\n",
    "The time increment $\\Delta t$ is usually a fixed number that should be considerably smaller than the smallest other time constant in the system in order to obtain a good approximation (here $\\tau$). You also don't want it to be unnecessarily small, because simulation time will increase the smaller $\\Delta t$. If you are unsure, whether you chose a good $\\Delta t$, try varying it and observe how much the result varies. \n",
    "\n",
    "\n",
    "### Initialize\n",
    "\n",
    "Whenever we want to solve differential equations, we have to define an initial condition. So we will have to have an initialization step for $x$:\n",
    "\n",
    "$$x(0)=x_0$$ \n",
    "\n",
    "### Update\n",
    "\n",
    "The discretized version of $(i)$ is given by\n",
    "\n",
    "\\begin{aligned}\n",
    "\\tau\\, \\frac{\\Delta x}{\\Delta t} \\quad &= \\quad -x_i + I\\\\\n",
    "\\Leftrightarrow\\quad  \\Delta x \\quad = \\quad x_{i+1} - x_i  \\quad &= \\quad \\Delta t \\left[ \\frac{1}{\\tau}\\,\\big( -x_i +I \\big)\\right]\\\\\n",
    "\\Leftrightarrow\\quad\\quad \\quad\\quad\\quad\\quad\\quad x_{i+1}\\quad &= \\quad x_i + \\Delta t \\, \\left[ \\frac{1}{\\tau}\\,\\big( -x_i +I \\big)\\right]\n",
    "\\end{aligned}\n",
    "\n",
    "The Euler integration update step always has the same form, i.e., \n",
    "\n",
    "$$\n",
    "x_{i+1} = x_i + \\Delta t f(x) \\quad (1)\n",
    "$$\n",
    "\n",
    "When we write code, we want to save as much work as possible, not only by letting the computer do all the tedious calculations, but also by reducing the amount of typing work in the future. So we should design our code such that it is flexible and reusable. These are benefits that *modularization* gives us.\n",
    "\n",
    "We can write a function called euler_step($x$,f,$\\Delta t$) that just does Eqn.(1), regardless of what f does.\n",
    "\n",
    "Then, for what is specific to the dynamics at hand, we will have a function called, here e.g., f = f_x($x,  \n",
    "I,\\tau$) that computes $\\left[ \\frac{1}{\\tau}\\,\\big( -x_i +I \\big)\\right]$.\n",
    "\n",
    "This way, whenever we want to solve a dynamics with Euler integration again, we can just use euler_step() again and simply exchange $f$.\n",
    "\n",
    "So let's do that in python code!"
   ]
  },
  {
   "cell_type": "code",
   "execution_count": 5,
   "metadata": {},
   "outputs": [],
   "source": [
    "## function for Euler integration step\n",
    "def euler_step(x,f,dt):\n",
    "    '''\n",
    "    Executes Euler integration step\n",
    "    \n",
    "    Expects:\n",
    "    x     : state variable\n",
    "    f     : increment of x\n",
    "    dt    : increment of t\n",
    "    \n",
    "    Returns:\n",
    "    updated state x\n",
    "    ''' \n",
    "    return x + dt*f\n",
    "\n",
    "\n",
    "## specific functional increment\n",
    "def f_x(x,I,tau):\n",
    "    '''\n",
    "    Computes increment dx/dt of state variable for Eqn.(i)\n",
    "    \n",
    "    Expects:\n",
    "    I    : constant drive\n",
    "    tau  : time constant\n",
    "    \n",
    "    Returns:\n",
    "    state variable increment\n",
    "    '''\n",
    "    return (I-x)/tau"
   ]
  },
  {
   "cell_type": "markdown",
   "metadata": {},
   "source": [
    "We have all necessary ingredients to run the full dynamics Eqn.(i), we only have to put it together into one function."
   ]
  },
  {
   "cell_type": "code",
   "execution_count": 6,
   "metadata": {},
   "outputs": [],
   "source": [
    "def run_dynamics(x0,I,tau,T,dt):\n",
    "    '''\n",
    "    Runs the low-pass filter dynamics Eqn.(i)\n",
    "    \n",
    "    Expects:\n",
    "    x0   : initial condition\n",
    "    I    : drive\n",
    "    tau  : time constant\n",
    "    T    : total run time\n",
    "    dt   : time increment\n",
    "    \n",
    "    Returns: \n",
    "    rec_x : dicitionary of x trajectory\n",
    "    '''\n",
    "    rec_x = init_rec_pot(1,int(T/dt)) # initialize x-recorder\n",
    "    x     = x0                        # initialize x\n",
    "    for it in range(int(T/dt)):\n",
    "        f = f_x(x,I,tau)              # increment of x\n",
    "        x = euler_step(x,f,dt)        # update of x\n",
    "        store_pot(rec_x,x,it)         # store\n",
    "    return rec_x    \n",
    "        "
   ]
  },
  {
   "cell_type": "markdown",
   "metadata": {},
   "source": [
    "The code below plots the result of our Euler integration in comparison to the analytical solution. Play with dt to see what effect it has. "
   ]
  },
  {
   "cell_type": "code",
   "execution_count": 7,
   "metadata": {},
   "outputs": [
    {
     "data": {
      "text/plain": [
       "[<matplotlib.lines.Line2D at 0x7f8af8bc2c50>]"
      ]
     },
     "execution_count": 7,
     "metadata": {},
     "output_type": "execute_result"
    },
    {
     "data": {
      "image/png": "[encoded data removed]",
      "text/plain": [
       "<Figure size 432x288 with 1 Axes>"
      ]
     },
     "metadata": {
      "image/png": {
       "height": 248,
       "width": 372
      },
      "needs_background": "light"
     },
     "output_type": "display_data"
    }
   ],
   "source": [
    "## define params\n",
    "x0   = 0.\n",
    "I    = 1.\n",
    "tau  = 1.\n",
    "T,dt = 20.,0.1\n",
    "## run dynamics\n",
    "rx   = run_dynamics(x0,I,tau,T,dt)\n",
    "ts   = np.arange(0,T,dt)\n",
    "## plot the trace\n",
    "plot_pot(rx)\n",
    "\n",
    "## to check if solved correctly, add analytical solution Eqn.(ii)\n",
    "def x_sol(t,x0,I,tau):\n",
    "    return I*(1-np.exp(-t/tau)) + x0*np.exp(-t/tau)\n",
    "## plot analytical trace\n",
    "plt.plot(x_sol(ts+dt,x0,I,tau),'r--')  "
   ]
  },
  {
   "cell_type": "markdown",
   "metadata": {},
   "source": [
    "### Now that we successfully set up devices to record and plot traces, and learned how to solve differential equations numerically, let's cook up our Fitzhugh Nagumo models."
   ]
  },
  {
   "cell_type": "markdown",
   "metadata": {},
   "source": [
    "---\n",
    "## Exercise: Euler integration for the Fitzhugh-Nagumo model"
   ]
  },
  {
   "cell_type": "markdown",
   "metadata": {},
   "source": [
    "In order to solve these coupled equations numerically, we again interpret the differential dynamics in discrete time:\n",
    "\n",
    "$$dt \\rightarrow \\Delta t= t_{i+1}-t_i, \\quad dv \\rightarrow \\Delta v = v_{i+1}-v_i, \\quad dw \\rightarrow \\Delta w =w_{i+1}- w_i$$ \n",
    "\n",
    "### Initialize\n",
    "\n",
    "We will need an initialization step for $v,w$:\n",
    "\n",
    "$$v(0)=v_0, \\quad w(0)=w_0$$ \n",
    "\n",
    "\n",
    "### Update \n",
    "\n",
    "The next step is to update the dynamics from $t_i$ to $t_{i+1}$. We will use Euler integration to do this.\n",
    "\n",
    "Take good care of the fact that Eqns.(1.1) and (1.2) are coupled. If we want to update one first, the second would already receive updated information, so in order to maintain causality, use some auxiliary names in the update\n",
    "\n",
    "$$\n",
    "hv = v_{i+1}\\\\\n",
    "hw = w_{i+1}\n",
    "$$\n",
    "\n",
    "The discretized dynamics thus becomes:\n",
    "\n",
    "\\begin{eqnarray}\n",
    "\\Delta v = v_{i+1}-v_i &=& \\Delta t \\left (v_i - \\frac{v^3_i}{3} - w_i + I(t_i) \\right)\\\\\n",
    "\\\\\n",
    "\\Leftrightarrow  v_{i+1}=:hv &=& v_i \\,+ \\,\\Delta t \\left (v_i - \\frac{v^3_i}{3} - w_i + I(t_i) \\right)\\quad (2.1)\\\\\n",
    "\\\\ \\\\\n",
    "\\Delta w = w_{i+1}-w_i &=& \\Delta t\\, \\epsilon \\, \\big( b_0 + b_1 v_i -w_i\\big)\\\\ \\\\\n",
    "\\Leftrightarrow w_{i+1}=: hw &=& w_i+\\Delta t\\, \\epsilon \\, \\big( b_0 + b_1 v_i -w_i\\big) \\quad \\quad (2.2)\n",
    "\\end{eqnarray}\n",
    "\n",
    "\n",
    "We thus arrive at \n",
    "\n",
    "\\begin{eqnarray}\n",
    "hv &=& v \\,+ \\,\\Delta t \\left (v- \\frac{v^3}{3} - w + I(t_i) \\right)\\quad (3.1)\\\\\n",
    "hw &=& w \\,+\\,\\Delta t\\, \\epsilon \\, \\big( b_0 + b_1 v -w\\big) \\quad (3.2)\n",
    "\\end{eqnarray}\n",
    "\n",
    "Looking at Eqns.(3.1),(3.2), we recognize the identical Euler integration update structure in both cases ($x=\\{v,w\\}$):\n",
    "\n",
    "$$\n",
    "hx = x + \\Delta t f(x) \\quad (4)\n",
    "$$\n",
    "\n",
    "We can thus simply recycle our euler_step function from before and adapt the state variable increments on the RHS in Eqns.(3.1),(3.2): $f=$fitzhugh_nagumo($v,w,p$), where p contains all relevant parameters ($b_0,b_1,\\epsilon$).\n",
    "\n",
    "After the update is complete, we can set the new $v=hv, w=hw$ and reiterate. \n",
    "\n",
    "\n",
    "### To do:\n",
    "\n",
    "Write\n",
    "- init functions\n",
    "- functions to compute v,w increments\n",
    "- run-function, where you recycle euler_step for the update (remember to update both with the information of the current time step, see $hv,hw$ above)\n",
    "\n",
    "Then, store and plot the resulting traces as we have done in the example on top! \n",
    "\n",
    "Try to come up with good tests to see if all functions have desired behavior!\n",
    "\n",
    "Play with the individual parameters and see how the dynamics changes. "
   ]
  },
  {
   "cell_type": "code",
   "execution_count": 8,
   "metadata": {},
   "outputs": [],
   "source": [
    "def init_v(v0):\n",
    "    \n",
    "    '''\n",
    "    Initializes v\n",
    "    '''\n",
    "    return v0\n",
    "    \n",
    "def init_w(w0):\n",
    "    \n",
    "    '''\n",
    "    Initializes w\n",
    "    '''\n",
    "    return w0\n",
    "        \n",
    "    \n",
    "def f_vw(v,w,eps,b0,b1,I):\n",
    "    \n",
    "    '''\n",
    "    Computes v,w increments for Fitzhugh-Nagumo model\n",
    "    \n",
    "    Expects:\n",
    "    v,w          : current values of v,w\n",
    "    eps,b0,b1    : coupling parameters\n",
    "    I            : drive\n",
    "    \n",
    "    Returns:\n",
    "    fv,fw        : increments of v,w for Euler integration\n",
    "    '''\n",
    "    # Fill up code below:\n",
    "    fv = ... \n",
    "    fw = ... \n",
    "    return fv,fw\n",
    "    \n",
    "def run_fitzhugh_nagumo(v0,w0,eps,b0,b1,I,T,dt):\n",
    "    \n",
    "    '''\n",
    "    Runs Fitzhugh-Nagumo dynamics\n",
    "    \n",
    "    Expects:\n",
    "    \n",
    "    v0, w0    : initial values\n",
    "    eps,b0,b1 : coupling parameters\n",
    "    I         : drive\n",
    "    T         : total runtime\n",
    "    dt        : time increment\n",
    "    \n",
    "    Returns:\n",
    "    rec_v, rec_w : dictionary of v,w traces\n",
    "    '''\n",
    "    rec_v = init_rec_pot(1,int(T/dt))\n",
    "    rec_w = init_rec_pot(1,int(T/dt))\n",
    "    v     = init_v(v0)\n",
    "    w     = init_v(w0)\n",
    "    for it in range(int(T/dt)):\n",
    "        # Fill up code here\n",
    "        \n",
    "        \n",
    "    return rec_v,rec_w   \n"
   ]
  },
  {
   "cell_type": "code",
   "execution_count": 9,
   "metadata": {},
   "outputs": [
    {
     "data": {
      "text/plain": [
       "Text(0, 0.5, '$v(t)$')"
      ]
     },
     "execution_count": 9,
     "metadata": {},
     "output_type": "execute_result"
    },
    {
     "data": {
      "image/png": "[encoded data removed]",
      "text/plain": [
       "<Figure size 432x288 with 1 Axes>"
      ]
     },
     "metadata": {
      "image/png": {
       "height": 267,
       "width": 400
      },
      "needs_background": "light"
     },
     "output_type": "display_data"
    }
   ],
   "source": [
    "epsilon = 0.1\n",
    "b0      = 0.\n",
    "b1      = 0.2\n",
    "I       = -0.5\n",
    "T,dt    = 100,0.1\n",
    "v0,w0   = 0.5,0.5\n",
    "rv,rw   = run_fitzhugh_nagumo(v0,w0,epsilon,b0,b1,I,T,dt)\n",
    "## params to try:\n",
    "## I  = [-0.5,-0.4,-0.3,0.2,0.5]\n",
    "## b1 = [0.2,0.5]\n",
    "## also vary initial conditions\n",
    "\n",
    "plot_pot(rv, time = np.arange(0, T, dt))\n",
    "plt.xlabel('Time (ms)')\n",
    "plt.ylabel(r'$v(t)$')"
   ]
  },
  {
   "cell_type": "code",
   "execution_count": 10,
   "metadata": {},
   "outputs": [
    {
     "data": {
      "text/plain": [
       "Text(0, 0.5, '$w(t)$')"
      ]
     },
     "execution_count": 10,
     "metadata": {},
     "output_type": "execute_result"
    },
    {
     "data": {
      "image/png": "[encoded data removed]",
      "text/plain": [
       "<Figure size 432x288 with 1 Axes>"
      ]
     },
     "metadata": {
      "image/png": {
       "height": 267,
       "width": 400
      },
      "needs_background": "light"
     },
     "output_type": "display_data"
    }
   ],
   "source": [
    "plot_pot(rw, time = np.arange(0, T, dt))\n",
    "plt.xlabel('Time (ms)')\n",
    "plt.ylabel(r'$w(t)$')"
   ]
  },
  {
   "cell_type": "markdown",
   "metadata": {},
   "source": [
    "# >>> Extra: Leaky integrate-and-fire (LIF) neuron <<<"
   ]
  },
  {
   "cell_type": "markdown",
   "metadata": {},
   "source": [
    "### If you managed to go through all the material so far, you can start working on the LIF model. We will work on this in more detail in the Spiking Network Tutorial"
   ]
  },
  {
   "cell_type": "markdown",
   "metadata": {},
   "source": [
    "The membrane potential equation for the LIF is given by\n",
    "\\begin{eqnarray}\n",
    "C_m\\frac{dV}{dt} = -g_L(V-V_L) + I\n",
    "\\end{eqnarray}\n",
    "$I$ is a driving current. $C_m$ is the membrane capacitance of the neuron. We also assume the membrane only has a leak conductance $g_L$, trying to bring the voltage to leak potential $V_L$. \n",
    "\n",
    "Dividing both sides of the equation by $g_L$ we get,\n",
    "\\begin{align}\n",
    "\\tau_m\\frac{dV}{dt} = -(V-V_L) + \\frac{I}{g_L}\\,,\\quad (1)\n",
    "\\end{align}\n",
    "where $\\tau_m=C/g_L$.\n",
    "\n",
    "If $I$ is sufficiently strong such that $V$ reaches some threshold value $V_{th}$, $V$ will be reset to a reset potential $V_{reset}<V_{th}$, i.e.,\n",
    "\n",
    "\\begin{eqnarray}\n",
    "\\mathrm{if}\\quad V(t)\\geq V_{th}&:& V(t^+)=V_{reset}\n",
    "\\end{eqnarray}\n",
    "\n",
    "\n"
   ]
  },
  {
   "cell_type": "markdown",
   "metadata": {},
   "source": [
    "To numerically solve the LIF membrane potential dynamics, we will again use Euler integration to approximate the continuous dynamics by a piecewise integration on a time-grid of stepsize $\\Delta t$. \n",
    "\n",
    "Note once more, that in order to have a good approximation, $\\Delta t$ needs to be small compared to all other time constants in the system (here $\\tau_m$). The smaller $\\Delta t$, the better the approximation, however, also the total computation time will be longer.\n",
    "\n",
    "On a grid the dynamics translates to \n",
    "\n",
    "\\begin{aligned}\n",
    "\\tau_m \\Delta V =  \\tau_m (V_{i+1}-V_i) &= \\left(-(V_i-V_L) +\\frac{I_{syn}}{g_L}\\right)dt \\\\\n",
    "\\Leftrightarrow \\qquad\\qquad\\qquad\\quad V_{i+1} &= V_i+ \\left(-(V_i-V_L) +\\frac{I_{syn}}{g_L}\\right)\\frac{dt}{\\tau_m} \\quad (2)\n",
    "\\end{aligned}"
   ]
  },
  {
   "cell_type": "markdown",
   "metadata": {},
   "source": [
    "### Simulating LIF dynamics"
   ]
  },
  {
   "cell_type": "markdown",
   "metadata": {},
   "source": [
    "We will now translate the dynamics Eqn.(2) into code. We start by creating a dictionary `pm` that contains all parameters.\n",
    "Then we will write several small modular functions that perform the individual operations to solve the dynamics.\n",
    "\n",
    "We will likely need several functions to \n",
    "\n",
    "- initialize a dictionary that represents membrane potentials \n",
    "\n",
    "- initialize a dictionary that represents constant input currents **(Amplitude of constant current is generated by Gaussian distribution with mean $\\mu$ and variance $\\sigma^2$)**\n",
    "\n",
    "- an update function that updates the membrane potential in each time step corresponding to the Euler integration scheme above\n",
    "\n",
    "- a threshold handling function that resets the membrane potential in case of a crossing and registers a spike event\n",
    "\n",
    "- a main function that combines all of the above in a sensible way to solve the LIF dynamics"
   ]
  },
  {
   "cell_type": "code",
   "execution_count": 11,
   "metadata": {},
   "outputs": [],
   "source": [
    "# Some typical neuron parameters, stored in a dictionary\n",
    "pm={\"V_th\"    : -55.,    # spike threshold [mV]\n",
    "    \"V_reset\" : -75.,    # reset potential [mV]\n",
    "    \"tau_m\"   : 20.,     # membrane time constant [ms]\n",
    "    \"g_L\"     : 20.,     # leak conductance [nS]\n",
    "    \"V_init\"  : -65,     # initial potential\n",
    "    \"V_L\"     : -65}     # leak reversal potential"
   ]
  },
  {
   "cell_type": "code",
   "execution_count": 12,
   "metadata": {
    "scrolled": true
   },
   "outputs": [],
   "source": [
    "def init_V(n_neuron,pm):\n",
    "    '''\n",
    "    Intialize the array of membrane potentials \n",
    "    \n",
    "    Expects:\n",
    "    n_neuron : number of neurons\n",
    "    pm       : parameter dictionary\n",
    "    \n",
    "    Returns:\n",
    "    vs       : array of membrane potential values (scalars) initialized to V_init \n",
    "    '''\n",
    "    \n",
    "    # ADD CODE HERE"
   ]
  },
  {
   "cell_type": "code",
   "execution_count": 13,
   "metadata": {},
   "outputs": [],
   "source": [
    "# test init_V()\n",
    "\n",
    "# ADD CODE HERE"
   ]
  },
  {
   "cell_type": "code",
   "execution_count": 14,
   "metadata": {},
   "outputs": [],
   "source": [
    "def init_I_syn(n_neuron,mu,sig):\n",
    "    '''\n",
    "    Intialize the array of direct input currents, each drawn from Gaussian distribution\n",
    "    of mean mu and standard deviatiton sig\n",
    "    \n",
    "    Expects:\n",
    "    n_neuron : number of neurons\n",
    "    mu, sig  : constant driving currents with amplitudes drawn from Gaussian distribution \n",
    "               with mean mu and standard deviation sig \n",
    "               \n",
    "    Returns:\n",
    "    isyns    : array of driving currents\n",
    "               \n",
    "    '''\n",
    "    \n",
    "    # ADD CODE HERE\n",
    "    "
   ]
  },
  {
   "cell_type": "code",
   "execution_count": 15,
   "metadata": {},
   "outputs": [],
   "source": [
    "# test init_I_syn()\n",
    "\n",
    "# ADD CODE HERE"
   ]
  },
  {
   "cell_type": "code",
   "execution_count": 16,
   "metadata": {},
   "outputs": [],
   "source": [
    "def threshold(V,pm):\n",
    "    '''\n",
    "    Handle nonlinear threshold: \n",
    "    if potential >= V_th: reset to V_reset, indicate spike event\n",
    "    \n",
    "    Expects:\n",
    "    V        : membrane potential [mV]\n",
    "    pm       : parameter dictionary\n",
    "    \n",
    "    Returns:   \n",
    "    V        : updated membrane potential value [mV]\n",
    "    spiking  : boolean array of length n_neuron with entries True at position i if neuron i \n",
    "               spiked in current time step, False otherwise \n",
    "    '''\n",
    "    \n",
    "    # ADD CODE HERE\n",
    "    \n",
    "   "
   ]
  },
  {
   "cell_type": "code",
   "execution_count": 17,
   "metadata": {},
   "outputs": [],
   "source": [
    "# test threshold()\n",
    "\n",
    "# ADD CODE HERE"
   ]
  },
  {
   "cell_type": "code",
   "execution_count": 18,
   "metadata": {},
   "outputs": [],
   "source": [
    "### For the update make use of Euler integration\n",
    "def update(V,n_neuron,I_syn,dt,pm):\n",
    "    '''\n",
    "    Update dynamical state of all n_neuron membrane potentials\n",
    "    (assuming all neurons have same parameters pm)\n",
    "    \n",
    "    Expects:\n",
    "    V        : membrane potential [mV]\n",
    "    n_neuron : number of neurons\n",
    "    I_syn    : injected current drive [pA]\n",
    "    dt       : time increment\n",
    "    pm       : parameter dictionary\n",
    "    \n",
    "    Returns:\n",
    "    V        : membrane potential\n",
    "    spiking  : boolean that indicates whether neuron fired or not\n",
    "    '''\n",
    "    \n",
    "    # ADD CODE HERE\n",
    "    \n",
    "    "
   ]
  },
  {
   "cell_type": "code",
   "execution_count": 19,
   "metadata": {},
   "outputs": [],
   "source": [
    "# test update()\n",
    "\n",
    "# ADD CODE HERE"
   ]
  },
  {
   "cell_type": "code",
   "execution_count": 20,
   "metadata": {},
   "outputs": [],
   "source": [
    "def run_LIF(n_neuron,mu,sig,T,dt,pm):\n",
    "    '''\n",
    "    Run LIF dynamics\n",
    "    \n",
    "    Expects:\n",
    "    n_neuron   : number of neurons\n",
    "    mu,sig     : mean and standard deviation of initial input current drives [pA]\n",
    "    T          : total run time [ms]\n",
    "    dt         : time increment\n",
    "    pm         : parameter dictionary\n",
    "    \n",
    "    Returns:\n",
    "    rec_spikes : dictionary of lists of spike times\n",
    "    '''\n",
    "    \n",
    "    # ADD CODE HERE\n",
    "\n",
    "    "
   ]
  },
  {
   "cell_type": "code",
   "execution_count": null,
   "metadata": {},
   "outputs": [],
   "source": [
    "def plot_raster(spks:dict)->None:\n",
    "    '''\n",
    "    Plot raster plot\n",
    "    \n",
    "    Expects:\n",
    "    spks      : dictionary of spike trains\n",
    "    \n",
    "    Returns:\n",
    "    None\n",
    "    '''\n",
    "    for i in spks.keys():\n",
    "        plt.plot(spks[i], i*np.ones(len(spks[i])), '|k')"
   ]
  },
  {
   "cell_type": "code",
   "execution_count": 21,
   "metadata": {},
   "outputs": [],
   "source": [
    "# test LIF_run()\n",
    "# if all worked, uncomment codes below to run LIF dynamics for n_neuron uncoupled neurons\n",
    "\n",
    "# n_neuron   = 100\n",
    "# mu, sig    = 240,100\n",
    "# T,dt       = 100,0.1\n",
    "\n",
    "# rec_spikes = run_LIF(n_neuron,mu,sig,T,dt,p)\n",
    "# plot_raster(rec_spikes)"
   ]
  },
  {
   "cell_type": "markdown",
   "metadata": {},
   "source": [
    "### >>> EXTRA: LIF driven by Gaussian white noise and Ornstein-Uhlenbeck current <<<\n",
    "\n",
    "So far the neurons were driven by constant currents, with amplitudes drawn randomly from a Gaussian distribution.\n",
    "\n",
    "1) Set up a version where the input current is (approximately) Gaussian white noise $\\xi(t)$ with mean $E[\\xi(t)]=\\mu=0$ and autocovariance $E[\\xi(t)\\xi(t+\\tau)]=\\sigma_\\xi^2 \\delta(\\tau)$.\n",
    "\n",
    "Hint: In order to have correct statistics of the GWN approximation on a time grid with increment $dt$ the noise amplitide $\\sigma_\\xi$ needs to be scaled by $1/\\sqrt{dt}$. \n",
    "\n",
    "Make sure to test that the mean and variance of the current input your function produces has the right mean and variance.\n",
    "\n",
    "\n",
    "2) Set up a version where the input current is an Ornstein-Uhlenbeck process $\\eta(t)$, i.e., low-pass filtered GWN with a time constant $\\tau_{\\eta}$: \n",
    "\n",
    "$$\\tau_\\eta \\frac{d}{dt}\\eta(t) = -\\eta + \\sigma_\\eta\\sqrt{2\\tau_\\eta}\\xi(t)$$\n",
    "\n",
    "Make sure to test that the mean and variance of the current input your function produces has the right mean and variance.\n",
    "\n",
    "Hint: An OUP as defined above has $E[\\eta(t)]=0$ and autocovariance $[\\eta(t)\\eta(t+\\tau)]=\\sigma_\\eta^2e^{-|t-\\tau|/\\tau_\\eta}$.\n"
   ]
  }
 ],
 "metadata": {
  "kernelspec": {
   "display_name": "Python 3(brian2)",
   "language": "python",
   "name": "brian2"
  },
  "language_info": {
   "codemirror_mode": {
    "name": "ipython",
    "version": 3
   },
   "file_extension": ".py",
   "mimetype": "text/x-python",
   "name": "python",
   "nbconvert_exporter": "python",
   "pygments_lexer": "ipython3",
   "version": "3.7.7"
  },
  "varInspector": {
   "cols": {
    "lenName": 16,
    "lenType": 16,
    "lenVar": 40
   },
   "kernels_config": {
    "python": {
     "delete_cmd_postfix": "",
     "delete_cmd_prefix": "del ",
     "library": "var_list.py",
     "varRefreshCmd": "print(var_dic_list())"
    },
    "r": {
     "delete_cmd_postfix": ") ",
     "delete_cmd_prefix": "rm(",
     "library": "var_list.r",
     "varRefreshCmd": "cat(var_dic_list()) "
    }
   },
   "position": {
    "height": "170.390625px",
    "left": "1542px",
    "right": "20px",
    "top": "66px",
    "width": "322.390625px"
   },
   "types_to_exclude": [
    "module",
    "function",
    "builtin_function_or_method",
    "instance",
    "_Feature"
   ],
   "window_display": true
  }
 },
 "nbformat": 4,
 "nbformat_minor": 1
}
