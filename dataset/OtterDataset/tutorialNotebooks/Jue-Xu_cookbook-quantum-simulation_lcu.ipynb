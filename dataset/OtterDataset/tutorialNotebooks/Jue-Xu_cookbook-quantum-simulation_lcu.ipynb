{
 "cells": [
  {
   "cell_type": "markdown",
   "id": "93e1e53b",
   "metadata": {},
   "source": [
    "# LCU"
   ]
  },
  {
   "cell_type": "markdown",
   "id": "8b24f5d3",
   "metadata": {},
   "source": [
    "## Post Trotter algorithms\n",
    "\n",
    "Tutorials:\n",
    "- Robin Kothari: https://www.youtube.com/watch?v=mWg56DxtDy0\n",
    "- Nathan Wiebe: https://www.youtube.com/watch?v=UpZLyXsdJnA"
   ]
  },
  {
   "cell_type": "code",
   "execution_count": 4,
   "id": "2763848a",
   "metadata": {},
   "outputs": [],
   "source": [
    "from qiskit.quantum_info import SparsePauliOp, Statevector\n",
    "\n",
    "import quantum_simulation_recipe as qsr\n",
    "from quantum_simulation_recipe import spin_ham"
   ]
  },
  {
   "cell_type": "markdown",
   "id": "ed26007b",
   "metadata": {},
   "source": [
    "### Block encoding"
   ]
  },
  {
   "cell_type": "markdown",
   "id": "e4dfa4db",
   "metadata": {},
   "source": [
    "### Amplitude amplification"
   ]
  },
  {
   "cell_type": "markdown",
   "id": "9f801c1c",
   "metadata": {},
   "source": [
    "### Oblivious amplitude amplification"
   ]
  }
 ],
 "metadata": {
  "kernelspec": {
   "display_name": "Python 3.8.8 ('base')",
   "language": "python",
   "name": "python3"
  },
  "language_info": {
   "codemirror_mode": {
    "name": "ipython",
    "version": 3
   },
   "file_extension": ".py",
   "mimetype": "text/x-python",
   "name": "python",
   "nbconvert_exporter": "python",
   "pygments_lexer": "ipython3",
   "version": "3.10.14"
  },
  "vscode": {
   "interpreter": {
    "hash": "4e8ef2f9fcac0817bca9a7ca376f64f20b4df5ea3bf7af756a50bda7d3557ea6"
   }
  }
 },
 "nbformat": 4,
 "nbformat_minor": 5
}
