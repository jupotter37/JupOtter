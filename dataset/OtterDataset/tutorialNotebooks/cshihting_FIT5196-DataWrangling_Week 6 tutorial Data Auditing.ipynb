{
 "cells": [
  {
   "cell_type": "markdown",
   "metadata": {},
   "source": [
    "# Data Auditing "
   ]
  },
  {
   "cell_type": "markdown",
   "metadata": {},
   "source": [
    "<div style=\" color:black; text-shadow: 1px 1px brown; font-size:2em;  background:url(style/images/Lucerne3.jpg)\">,\n",
    "    <h1 align=\"center\">Scientific Python\n",
    "    <img src=\"style/images/kundalini_pythons_gold_outline.png\" style=\"height:360px; align:center; \" ></h1>\n",
    "    </div>"
   ]
  },
  {
   "cell_type": "markdown",
   "metadata": {},
   "source": [
    "\n",
    "## 1. Data cleansing process:\n",
    "\n",
    "Data cleansing is an iterative process. The first step of the cleansing process is data auditing. In this step, we identify the types of anomalies that reduce the data quality.  Data auditing is about programmatically checking the data using some validation rules that are pre-specified, and then creating a report of the quality of the data and its problems. We often apply some statistical tests in this step for examining the data.\n",
    "Data Anomalies can be classified at a high level into three categories:\n",
    "\n",
    "1. **Syntactic Anomalies**: \n",
    "describe characteristics concerning the format and values used for representation of the entities. Syntactic anomalies such as: lexical errors, domain format errors, syntactical error and irregularities.\n",
    "2. **Semantic Anomalies**: \n",
    "hinder the data collection from being a comprehensive and non-redundant representation of the mini-world. These types of anomalies include: Integrity constraint violations, contradictions, duplicates and invalid tuples\n",
    "3. **Coverage Anomalies**: \n",
    "decrease the amount of entities and entity properties from the mini-world that are represented in the data collection. Coverage anomalies are categorized as: missing values and missing tuples\n",
    "\n",
    "We give examples in this part of the auditing process that is applied to discover different anomalies in data.\n",
    "***"
   ]
  },
  {
   "cell_type": "markdown",
   "metadata": {},
   "source": [
    "\n",
    "## Wrangling Titanic Data\n",
    "\n",
    "The Titanic data is the data set provided in the Kaggle competition \"Titanic: Machine Learning from Disaster\". The competition has been available from 28 Sep 2012 with more than 4000 teams joining the competition. \n",
    "\n",
    "\"The sinking of the RMS Titanic is one of the most infamous shipwrecks in history.  On April 15, 1912, during her maiden voyage, the Titanic sank after colliding with an iceberg, killing 1502 out of 2224 passengers and crew. This sensational tragedy shocked the international community and led to better safety regulations for ships. One of the reasons that the shipwreck led to such loss of life was that there were not enough lifeboats for the passengers and crew. Although there was some element of luck involved in surviving the sinking, some groups of people were more likely to survive than others, such as women, children, and the upper-class. In this challenge, we ask you to complete the analysis of what sorts of people were likely to survive. In particular, we ask you to apply the tools of machine learning to predict which passengers survived the tragedy\". For more details, please refer to \"https://www.kaggle.com/c/titanic\" \n",
    "\n",
    "The focus here is not the analysis of the data. Instead, we will concentrate on the identification of errors in the data, which might cause problems in the analysis. This data set contains the following variables\n",
    "* <font color=\"blue\">survival</font>: a boolean variable indicates whether the passenger survived or not.\n",
    "* <font color=\"blue\">pclass</font>: Passenger's Carbin Class \n",
    "* <font color=\"blue\">sex</font>: the gender of a passenger\n",
    "* <font color=\"blue\">age</font>: Age\n",
    "* <font color=\"blue\">sibsp</font>: Number of Siblings/Spouses Aboard \n",
    "* <font color=\"blue\">parch</font>: Number of Parents/Children Aboard \n",
    "* <font color=\"blue\">fare</font>: Passenger ticket Fare\n",
    "* <font color=\"blue\">embarked</font>: abbreviation of Port of Embarkation\n",
    "* <font color=\"blue\">class</font>: the passenger's carbin class\n",
    "* <font color=\"blue\">who</font>: a variable takes values in {man, woman, child}\n",
    "* <font color=\"blue\">adult_male</font>: a boolean variable\n",
    "* <font color=\"blue\">deck</font>: the deck\n",
    "* <font color=\"blue\">embark_town</font>: the name of the port of embarkation \n",
    "* <font color=\"blue\">alive</font>: whether or not the passenger was alive\n",
    "* <font color=\"blue\">alone</font>: a boolean variable indicates if the passenger traveled alone.\n",
    "* <font color=\"blue\">name</font>: Name of the passenger\n",
    "\n",
    "For convenience, we will use the demo version of Titanic data included in the seaborne library: https://github.com/mwaskom/seaborn-data/blob/master/titanic.csv. For the purpose of demonstration,\n",
    "some errors have been introduced in the data.\n",
    "Notice that this task was developed based on the materials provided in the Kaggle website. "
   ]
  },
  {
   "cell_type": "code",
   "execution_count": 1,
   "metadata": {},
   "outputs": [
    {
     "data": {
      "text/html": [
       "<style>body {\n",
       "    margin: 0;\n",
       "    font-family: Helvetica;\n",
       "}\n",
       "table.dataframe {\n",
       "    border-collapse: collapse;\n",
       "    border: none;\n",
       "}\n",
       "table.dataframe tr {\n",
       "    border: none;\n",
       "}\n",
       "table.dataframe td, table.dataframe th {\n",
       "    margin: 0;\n",
       "    border: 1px solid white;\n",
       "    padding-left: 0.25em;\n",
       "    padding-right: 0.25em;\n",
       "}\n",
       "table.dataframe th:not(:empty) {\n",
       "    background-color: #fec;\n",
       "    text-align: left;\n",
       "    font-weight: normal;\n",
       "}\n",
       "table.dataframe tr:nth-child(2) th:empty {\n",
       "    border-left: none;\n",
       "    border-right: 1px dashed #888;\n",
       "}\n",
       "table.dataframe td {\n",
       "    border: 2px solid #ccf;\n",
       "    background-color: #f4f4ff;\n",
       "}\n",
       "h3 {\n",
       "    color: white;\n",
       "    background-color: black;\n",
       "    padding: 0.5em;\n",
       "}\n",
       "</style>"
      ],
      "text/plain": [
       "<IPython.core.display.HTML object>"
      ]
     },
     "execution_count": 1,
     "metadata": {},
     "output_type": "execute_result"
    }
   ],
   "source": [
    "#Basic scientific python libs\n",
    "import pandas as pd\n",
    "# Visualisation\n",
    "import matplotlib as mpl\n",
    "import matplotlib.pyplot as plt\n",
    "# Configure visualisations\n",
    "%matplotlib inline\n",
    "mpl.style.use( 'ggplot' )\n",
    "#Notebook displace setting\n",
    "from IPython.core.display import HTML\n",
    "css = open('style/style-table.css').read() + open('style/style-notebook.css').read()\n",
    "HTML('<style>{}</style>'.format(css))"
   ]
  },
  {
   "cell_type": "markdown",
   "metadata": {},
   "source": [
    "### First, load the data using Pandas library \n",
    "\n",
    "As we discussed in the lecture, the first thing you should do is to inpect the file and figure out the file format. It is not hard to see that the titanic data is store in a csv file. So we can use the <a href=\"http://pandas.pydata.org/pandas-docs/stable/generated/pandas.read_csv.html\">read_csv()</a> function.\n",
    "\n",
    "Write you code below to load the csv file."
   ]
  },
  {
   "cell_type": "code",
   "execution_count": null,
   "metadata": {},
   "outputs": [],
   "source": [
    "titanic ="
   ]
  },
  {
   "cell_type": "markdown",
   "metadata": {},
   "source": [
    "Now, the data has been loaded and stored in a Panda DataFrame. We can take an overview of the data. For example, you might need to know \n",
    "* the number of columns, i.e., attributes, and what are the attributes?\n",
    "* the number of rows, i.e., passengers\n",
    "* what is the data type of each attributes?\n",
    "and etc.\n",
    "\n",
    "We start by looking at the dimensionality of the data and a few lines of the data."
   ]
  },
  {
   "cell_type": "code",
   "execution_count": null,
   "metadata": {
    "scrolled": true
   },
   "outputs": [],
   "source": [
    "print (titanic.shape) \n",
    "titanic.head(10)"
   ]
  },
  {
   "cell_type": "markdown",
   "metadata": {},
   "source": [
    "You can also print out the last couple of rows with the <font color=\"orange\">tail()</font> function. We've got a sense of the variables, their class type, and the first few observations of each by observing the data. We know we're working with 892 observations of 15 variables. \n",
    "\n",
    "Next, we have a look at some key information about each variable to answer the following questions\n",
    "* **Which features are categorical?** These values classify the samples into sets of similar samples. Within categorical features are the values nominal, ordinal, ratio, or interval based? \n",
    "    * Categorical variables:<font color=\"blue\">survived</font>, <font color=\"blue\">sex</font>, <font color=\"blue\">embarked</font>, <font color=\"blue\">who</font>, <font color=\"blue\">embark_town</font>, <font color=\"blue\">alive</font>, <font color=\"blue\">alone</font>, and <font color=\"blue\">name</font>, <font color=\"blue\">deck</font>\n",
    "    * Ordinal variables: <font color=\"blue\">pclass</font>, <font color=\"blue\">class</font>, \n",
    "* **Which features are numerical**? Which features are numerical? Within numerical features are the values discrete, continuous, or time-series based?\n",
    "    * Continuous: <font color=\"blue\">age</font>, <font color=\"blue\">fare</font>. \n",
    "    * Discrete: <font color=\"blue\">sibsp</font>, <font color=\"blue\">parch</font>.\n",
    "\n",
    "Answering these questions will help us select the appropriate methods(e.g., plots) to audit the data."
   ]
  },
  {
   "cell_type": "code",
   "execution_count": null,
   "metadata": {},
   "outputs": [],
   "source": [
    "titanic.info()"
   ]
  },
  {
   "cell_type": "markdown",
   "metadata": {},
   "source": [
    "What is the distribution of the numerical values across the samples? This helps us determine, among other early insights, how representative is the training dataset of the actual problem domain.\n",
    "\n",
    "Use the <font color=\"orange\">describe()</font> function to get the distribution of each variable."
   ]
  },
  {
   "cell_type": "code",
   "execution_count": null,
   "metadata": {},
   "outputs": [],
   "source": []
  },
  {
   "cell_type": "markdown",
   "metadata": {},
   "source": [
    "The observation tells us that \n",
    "* Total samples are 892 or 40% of the actual number of passengers on board the Titanic (2,224).\n",
    "* Survived is a categorical feature with 0 or 1 values.\n",
    "* Most passengers (> 75%) did not travel with parents or children.\n",
    "* Nearly 30% of the passengers had siblings and/or spouse aboard.\n",
    "* Fares varied significantly with few passengers paying as high as $512, and as low as 0.0.\n",
    "* Few elderly passengers within age range 65-80.\n",
    "* The minimum age is 0.42.\n",
    "* Some missing values exist in the \"age\" column\n",
    "\n",
    "Again, what is the distribution of the categorical variables?"
   ]
  },
  {
   "cell_type": "code",
   "execution_count": null,
   "metadata": {},
   "outputs": [],
   "source": []
  },
  {
   "cell_type": "markdown",
   "metadata": {},
   "source": [
    "What the table above tells us:\n",
    "* Names are not unique across the dataset (count !=unique), \"Behr, Mr. Karl Howell\" appears twice.\n",
    "* Sex variable as four possible values with 574 males, which is suspicious. \n",
    "* Embarked takes three possible values. In contrast, the embark_town takes 7 different values. However, if the two values represent the same information, it becomes suspicious.\n",
    "* Alive is a boolean variable\n",
    "* There are a lot of missing values in deck, and 2 in both <font color=\"blue\">embarked</font> and <font color=\"blue\">embark_town</font>.\n",
    "\n",
    "It is clear that the summary statistics on the distributions of each variable gives us a lot of information about the variable. Before we continue our auditing process, we are could further split the \"name\" column into more meaningful columns for better analysis. "
   ]
  },
  {
   "cell_type": "code",
   "execution_count": null,
   "metadata": {},
   "outputs": [],
   "source": [
    "# Lets seperate the titles from the name \n",
    "coltitle = titanic['name'].apply(lambda s: pd.Series({'title': s.split(',')[1].split('.')[0].strip(),\n",
    "                            'lastName':s.split(',')[0].strip(), 'firstName':s.split(',')[1].split('.')[1].strip()}))\n",
    "# Add the columns to the titanic dataframe\n",
    "titanic = pd.concat([titanic, coltitle], axis=1) \n",
    "#Drop the Name column, but here we choose to keep it at the moment.\n",
    "#titanic.drop('name', axis=1, inplace=True)\n",
    "titanic.head()"
   ]
  },
  {
   "cell_type": "markdown",
   "metadata": {},
   "source": [
    "Notice that we kept the \"name\" column for now, as we might need to check where we have correctly split it into three columns."
   ]
  },
  {
   "cell_type": "markdown",
   "metadata": {},
   "source": [
    "### Identify Syntactical Anomalies \n",
    "In this section, we will demonstrate how to audit the data to identify some syntactical errors. \n",
    "\n",
    "#### Are all the titles consistent?\n",
    "\n",
    "Let's start with checking the <font color=\"blue\">title</font> column, as we just extract it from the <font color=\"blue\">name</font> column. We used the <font color=\"orange\">split()</font> function together with the following delimiters: \",\" and \".\" Is it possible that the split method we used gave us some erroneous extraction? \n",
    "\n",
    "Write you code to count the frequency of each unique value of title. (Hint: use the <font color=\"orange\">value_counts()</font> function."
   ]
  },
  {
   "cell_type": "code",
   "execution_count": null,
   "metadata": {},
   "outputs": [],
   "source": []
  },
  {
   "cell_type": "markdown",
   "metadata": {},
   "source": [
    "We have got 17 different titles. We might ask if it is possible to have 17 different titles, as those often used are Mr, Mrs, Miss, Ms, and Dr. What is the meaning of the following title?\n",
    "* Rev \n",
    "* Mlle\n",
    "* Jonkheer\n",
    "* Don\n",
    "* Mme\n",
    "* The countess\n",
    "\n",
    "Is it possible that the patten we used to extract Title is not applicable to all the records?\n",
    "\n",
    "In this case, we might need to have a look at the rows whose title is equal to the tiles listed above. For example, we look at \"Rev\".\n",
    "\n",
    "Write your code below to print those rows:"
   ]
  },
  {
   "cell_type": "code",
   "execution_count": null,
   "metadata": {},
   "outputs": [],
   "source": []
  },
  {
   "cell_type": "markdown",
   "metadata": {},
   "source": [
    "The are six rows in the DataFrame that contain \"Rev\". It seams that \"Rev\" is not a random lexical error, instead it might be a valid title that is not use often nowadays. We can check if \"Rev\" is a title by searching it online. What we will get from Wikipedia is\n",
    "> The Reverend is an honorific style most often placed before the names of Christian clergy and ministers. There are sometimes differences in the way the style is used in different countries and church traditions\n",
    "\n",
    "We can confirm that Rev is a title that is not often used nowadays. Similarly, you can check the other titles as well. It is interesting that \"The countess\" and \"Mlle\" are titles for female and \"Don\" for male. Should we unify these titles? For instance, assume that we are going to unify the title values by replacing \"The countess\", \"Lady\", \"Mme\" and \"Mlle\" with \"Miss\" and \"Don\" with \"Mr\", what should we do?\n",
    "\n",
    "Write your code to replace \n",
    "* \"Mlle\", \"the Countess\", \"Lady\" and \"Mme\" with \"Miss\";\n",
    "* \"Don\" with \"Mr\"."
   ]
  },
  {
   "cell_type": "code",
   "execution_count": null,
   "metadata": {
    "collapsed": true
   },
   "outputs": [],
   "source": []
  },
  {
   "cell_type": "markdown",
   "metadata": {},
   "source": [
    "Now, we can drop the <font color=\"blue\">name</font> column."
   ]
  },
  {
   "cell_type": "code",
   "execution_count": null,
   "metadata": {},
   "outputs": [],
   "source": []
  },
  {
   "cell_type": "markdown",
   "metadata": {},
   "source": [
    "#### Are there any lexical errors in the data?\n",
    "Typos are the most common error, particularly whenever the data collection process involves human. While we were collecting the data, we might mis-type the name of the embark_town. It is always a good idea to check the categorical variables to make sure their values are spelled without errors. Let's look at the <font color=\"blue\">embark_town</font>. You can also use the <font color=\"orange\">value_counts()</font> function or the <font color=\"orange\">unique()</font> function."
   ]
  },
  {
   "cell_type": "code",
   "execution_count": null,
   "metadata": {},
   "outputs": [],
   "source": []
  },
  {
   "cell_type": "markdown",
   "metadata": {},
   "source": [
    "The output above show that \n",
    "* typos \n",
    "    * Cherbourg v.s. Cherborg\n",
    "    * Southampton v.s. Southamtpon\n",
    "    * Cherbourg v.s. Cherbourge\n",
    "* Inconsistent spelling:\n",
    " * Queenstown v.s. queenstown\n",
    "\n",
    "The assumption we made here is that it is less likely that the spelling with large counts is wrong. You can also check  <font color=\"blue\">embark_town</font> against <font color=\"blue\">embarked</font>. \n",
    "\n",
    "Now, replace the typos with the crossponding right spelling."
   ]
  },
  {
   "cell_type": "code",
   "execution_count": null,
   "metadata": {
    "collapsed": true
   },
   "outputs": [],
   "source": []
  },
  {
   "cell_type": "markdown",
   "metadata": {},
   "source": [
    "The cross-tabulation of <font color=\"blue\">embark_town</font> and <font color=\"blue\">embarked</font> below proves the correspondence between the values of <font color=\"blue\">embark_town</font> and those of <font color=\"blue\">embarked</font>.\n",
    "\n",
    "Write you code to generate the cross-tabulation; (Hint: use the <font color=\"orange\">crosstab()</font> function)"
   ]
  },
  {
   "cell_type": "code",
   "execution_count": null,
   "metadata": {},
   "outputs": [],
   "source": []
  },
  {
   "cell_type": "markdown",
   "metadata": {},
   "source": [
    "#### Further more, are their any other inconsistent spellings?\n",
    "Here, we are going to use the <font color=\"blue\">sex</font> variable as an example. The observation told us that it is a boolean variable that takes two values, i.e., <font color=\"blue\">male</font> and <font color=\"blue\">female</font> with lower case letters. Let's check is unique values in the <font color=\"blue\">sex</font> column."
   ]
  },
  {
   "cell_type": "code",
   "execution_count": null,
   "metadata": {},
   "outputs": [],
   "source": []
  },
  {
   "cell_type": "markdown",
   "metadata": {},
   "source": [
    "The output shows the number of unique values in \"sex\" is 4, which is supposed to be 2. The inconsistency here is obvious. We can either replace male/female with M/F or M/F with male/female. \n",
    "\n",
    "Write your code to replace \"M\" with \"male\" and \"F\" with \"female\"."
   ]
  },
  {
   "cell_type": "code",
   "execution_count": null,
   "metadata": {
    "collapsed": true
   },
   "outputs": [],
   "source": []
  },
  {
   "cell_type": "markdown",
   "metadata": {},
   "source": [
    "You can check all the other categorical variables in a similar way."
   ]
  },
  {
   "cell_type": "markdown",
   "metadata": {},
   "source": [
    "\n",
    "### Semantic errors: \n",
    "Variables can be correlated with each other. One variable might provide information that we can use to validate another variable.  In this task, we will check where nor not the data\n",
    "* violate the integrity constraints\n",
    "* contradictions\n",
    "* duplication\n",
    "\n",
    "We firstly check the integrity constraints. Given the variable description, one can figure out that \"age\", \"who\" \n",
    "and \"adult_male\" are correlated. For example, **if we assume all the children should under 18, and both men and women should be 18 or above**,\n",
    "* Were all children's ages under 18? \n",
    "* Were the ages of all men and women greater than or equal to 18?\n",
    "\n",
    "To answer the questions, we need to compute the summary statistics individually for passengers marked as child, man and woman. \n",
    "\n",
    "One way is to use the <font color=\"orange\">describe()</font> function together with the <font color=\"orange\">groupby()</font> function."
   ]
  },
  {
   "cell_type": "code",
   "execution_count": null,
   "metadata": {},
   "outputs": [],
   "source": []
  },
  {
   "cell_type": "markdown",
   "metadata": {},
   "source": [
    "The statistics shows that there are 83 children, 413 men and 218 women. \n",
    "\n",
    "Write your code to show the passagers satisifing the following conditions:\n",
    "* titanic.who = man or woman\n",
    "* titanic.age < 18"
   ]
  },
  {
   "cell_type": "code",
   "execution_count": null,
   "metadata": {},
   "outputs": [],
   "source": []
  },
  {
   "cell_type": "markdown",
   "metadata": {},
   "source": [
    "There are 30 passenger should be classified as man and woman respectively. Now we can replace the value of <font color=\"blue\">who</font> for the above record to \"child\", given the assumption we made.\n",
    "\n",
    "Change the value of <font color=\"blue\">who</font> to \"child\" for the rows you found above."
   ]
  },
  {
   "cell_type": "code",
   "execution_count": null,
   "metadata": {
    "collapsed": true
   },
   "outputs": [],
   "source": []
  },
  {
   "cell_type": "markdown",
   "metadata": {},
   "source": [
    "Instead of using the <font color=\"orange\">describe()</font> function, you can also choose to use plot. For example,"
   ]
  },
  {
   "cell_type": "code",
   "execution_count": null,
   "metadata": {},
   "outputs": [],
   "source": [
    "titanic.hist(by=\"who\", column=\"age\")"
   ]
  },
  {
   "cell_type": "markdown",
   "metadata": {
    "collapsed": true
   },
   "source": [
    "There are still one error in the <font color=\"blue\">child</font> group. We have one child, whose age is 25.\n",
    "\n",
    "Write you code to find the passenger."
   ]
  },
  {
   "cell_type": "code",
   "execution_count": null,
   "metadata": {},
   "outputs": [],
   "source": []
  },
  {
   "cell_type": "markdown",
   "metadata": {},
   "source": [
    "In this case, we have to use the value of <font color=\"blue\">sex</font> to figure out the value of <font color=\"blue\">who</font>. \n",
    "\n",
    "Now change the value of <font color=\"blue\">who</font> for this record."
   ]
  },
  {
   "cell_type": "code",
   "execution_count": null,
   "metadata": {},
   "outputs": [],
   "source": []
  },
  {
   "cell_type": "markdown",
   "metadata": {},
   "source": [
    "Now, let's compute a simple cross-tabulation of two factors, i.e., <font color=\"blue\">sex</font> and <font color=\"blue\">who</font>:"
   ]
  },
  {
   "cell_type": "code",
   "execution_count": null,
   "metadata": {},
   "outputs": [],
   "source": []
  },
  {
   "cell_type": "markdown",
   "metadata": {},
   "source": [
    "The tabulation shows that all the women have gender \"female\" and all the men have gender \"male\".\n",
    "\n",
    "#### Are the values of \"adult_male\" consistent with the values of \"sex\" and \"who\"?\n",
    "\n",
    "Now, let's look at <font color=\"blue\">adult_male</font>, the value of which should \"True\" if a passenger is male and adult, \"False\" if a passenger is female or a male child. In other words, we need to check the consistency among three variables. What should we do? "
   ]
  },
  {
   "cell_type": "code",
   "execution_count": null,
   "metadata": {},
   "outputs": [],
   "source": []
  },
  {
   "cell_type": "markdown",
   "metadata": {},
   "source": [
    "According to our assumption on the age of children, we need to change the value of <font color=\"blue\">adult_male</font> form True to False. \n",
    "\n",
    "Write you code below:"
   ]
  },
  {
   "cell_type": "code",
   "execution_count": null,
   "metadata": {
    "collapsed": true
   },
   "outputs": [],
   "source": []
  },
  {
   "cell_type": "markdown",
   "metadata": {},
   "source": [
    "Now, another question is if it is possible for a child less than 10-years old to be on-board the ship alone. Let's check if we have any reocord satisfies \n",
    "* titanic.age < 10\n",
    "* titanic.alone == True"
   ]
  },
  {
   "cell_type": "code",
   "execution_count": null,
   "metadata": {},
   "outputs": [],
   "source": []
  },
  {
   "cell_type": "markdown",
   "metadata": {},
   "source": [
    "The output shows that there was a 5-years old girl who was on-board and survived. Should we change the value of <font color=\"blue\">alone</font>? The value is consistent with the value of <font color=\"blue\">silbsp</font> and that of <font color=\"blue\">parch</font>. In this case, we might choose to keep it as it is.\n",
    "\n",
    "#### Are there any duplicated records?\n",
    "If we assume that <font color=\"blue\">firstName</font>, <font color=\"blue\">lastName</font> and <font color=\"blue\">age</font> can uniquely identify a passenger, we can then use the three values to check whether or not the dataset contains duplicated records.\n",
    "\n",
    "Write you code to find the duplicates:"
   ]
  },
  {
   "cell_type": "code",
   "execution_count": null,
   "metadata": {},
   "outputs": [],
   "source": []
  },
  {
   "cell_type": "markdown",
   "metadata": {},
   "source": [
    "The output above shows that there are two duplicated records. If you carefully check the two records, the second one contains inconsistent values. For example, <font color=\"blue\">survived</font> = 1, but <font color=\"blue\">alive</font> = no, and <font color=\"blue\">embarked</font> = C, but <font color=\"blue\">embard_town</font> = Cherbourg. Taking into account these two observations, we can choose to remove the second record and just keep the first one."
   ]
  },
  {
   "cell_type": "code",
   "execution_count": null,
   "metadata": {
    "collapsed": true
   },
   "outputs": [],
   "source": []
  },
  {
   "cell_type": "markdown",
   "metadata": {},
   "source": [
    "## Summary\n",
    "In this tutorial we demonstrate how to identify and correct some syntactic and semantic data errors. We will cover missing values and outliers separately in the following two weeks' tutorial."
   ]
  },
  {
   "cell_type": "code",
   "execution_count": null,
   "metadata": {
    "collapsed": true
   },
   "outputs": [],
   "source": []
  }
 ],
 "metadata": {
  "anaconda-cloud": {},
  "kernelspec": {
   "display_name": "Python 3",
   "language": "python",
   "name": "python3"
  },
  "language_info": {
   "codemirror_mode": {
    "name": "ipython",
    "version": 3
   },
   "file_extension": ".py",
   "mimetype": "text/x-python",
   "name": "python",
   "nbconvert_exporter": "python",
   "pygments_lexer": "ipython3",
   "version": "3.6.3"
  }
 },
 "nbformat": 4,
 "nbformat_minor": 1
}
