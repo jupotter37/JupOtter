{
 "cells": [
  {
   "cell_type": "markdown",
   "id": "dbee02f3",
   "metadata": {},
   "source": [
    "# String Methods (Advanced)"
   ]
  },
  {
   "cell_type": "markdown",
   "id": "ca9ffa6b",
   "metadata": {},
   "source": [
    "Question: How can you reverse the order of words in a sentence using string methods?"
   ]
  },
  {
   "cell_type": "code",
   "execution_count": 1,
   "id": "a8531223",
   "metadata": {},
   "outputs": [
    {
     "name": "stdout",
     "output_type": "stream",
     "text": [
      "Reversed Sentence: great is Python\n"
     ]
    }
   ],
   "source": [
    "sentence = \"Python is great\"\n",
    "reversed_sentence = \" \".join(reversed(sentence.split()))\n",
    "print(\"Reversed Sentence:\", reversed_sentence)"
   ]
  },
  {
   "cell_type": "markdown",
   "id": "21f46469",
   "metadata": {},
   "source": [
    "Question: What method can you use to check if a string contains a substring and ignore the letter case using string methods?"
   ]
  },
  {
   "cell_type": "code",
   "execution_count": 2,
   "id": "20e6967a",
   "metadata": {},
   "outputs": [
    {
     "name": "stdout",
     "output_type": "stream",
     "text": [
      "Contains Substring (case-insensitive): True\n"
     ]
    }
   ],
   "source": [
    "text = \"Python is Amazing\"\n",
    "substring = \"amazing\"\n",
    "contains_substring = substring.lower() in text.lower()\n",
    "print(\"Contains Substring (case-insensitive):\", contains_substring)"
   ]
  },
  {
   "cell_type": "markdown",
   "id": "113e3482",
   "metadata": {},
   "source": [
    "Question: How do you extract all the email addresses from a text using regular expressions (re module)?"
   ]
  },
  {
   "cell_type": "code",
   "execution_count": 3,
   "id": "2181ab25",
   "metadata": {},
   "outputs": [
    {
     "name": "stdout",
     "output_type": "stream",
     "text": [
      "Email Addresses: ['email@example.com', 'support@example.org']\n"
     ]
    }
   ],
   "source": [
    "import re\n",
    "\n",
    "text = \"Contact us at email@example.com or support@example.org\"\n",
    "email_addresses = re.findall(r'\\S+@\\S+', text)\n",
    "print(\"Email Addresses:\", email_addresses)"
   ]
  },
  {
   "cell_type": "markdown",
   "id": "068d6296",
   "metadata": {},
   "source": [
    "Question: What method can you use to check if a string is a valid URL using the validators library? (You may need to install the validators library)"
   ]
  },
  {
   "cell_type": "code",
   "execution_count": 8,
   "id": "903ebbf1",
   "metadata": {},
   "outputs": [
    {
     "data": {
      "text/markdown": [
       "pip install validators\n"
      ],
      "text/plain": [
       "<IPython.core.display.Markdown object>"
      ]
     },
     "metadata": {},
     "output_type": "display_data"
    }
   ],
   "source": [
    "%%markdown\n",
    "pip install validators"
   ]
  },
  {
   "cell_type": "code",
   "execution_count": 7,
   "id": "e752f58b",
   "metadata": {},
   "outputs": [
    {
     "name": "stdout",
     "output_type": "stream",
     "text": [
      "Is Valid URL: True\n"
     ]
    }
   ],
   "source": [
    "import validators\n",
    "\n",
    "url = \"https://www.example.com\"\n",
    "is_valid_url = validators.url(url)\n",
    "print(\"Is Valid URL:\", is_valid_url)"
   ]
  },
  {
   "cell_type": "markdown",
   "id": "87c999bd",
   "metadata": {},
   "source": [
    "Question: How can you encode a string using base64 encoding using the base64 module?"
   ]
  },
  {
   "cell_type": "code",
   "execution_count": 9,
   "id": "ddf5d986",
   "metadata": {},
   "outputs": [
    {
     "name": "stdout",
     "output_type": "stream",
     "text": [
      "Encoded Text: UHl0aG9uIGlzIGZ1biE=\n"
     ]
    }
   ],
   "source": [
    "import base64\n",
    "\n",
    "text = \"Python is fun!\"\n",
    "encoded_text = base64.b64encode(text.encode()).decode()\n",
    "print(\"Encoded Text:\", encoded_text)"
   ]
  },
  {
   "cell_type": "markdown",
   "id": "2bd19e04",
   "metadata": {},
   "source": [
    "Question: What method can you use to check if a string is a valid IPv4 address using the ipaddress module?"
   ]
  },
  {
   "cell_type": "code",
   "execution_count": 10,
   "id": "44c4be25",
   "metadata": {},
   "outputs": [
    {
     "name": "stdout",
     "output_type": "stream",
     "text": [
      "Is Valid IPv4 Address: 192.168.1.1\n"
     ]
    }
   ],
   "source": [
    "import ipaddress\n",
    "\n",
    "ip = \"192.168.1.1\"\n",
    "try:\n",
    "    valid_ipv4 = ipaddress.IPv4Address(ip)\n",
    "    print(\"Is Valid IPv4 Address:\", valid_ipv4)\n",
    "except ipaddress.AddressValueError:\n",
    "    print(\"Not a Valid IPv4 Address\")"
   ]
  },
  {
   "cell_type": "markdown",
   "id": "506f20b7",
   "metadata": {},
   "source": [
    "Question: How do you find the longest common prefix of a list of strings using string methods?"
   ]
  },
  {
   "cell_type": "code",
   "execution_count": 12,
   "id": "b5d378b8",
   "metadata": {},
   "outputs": [
    {
     "name": "stdout",
     "output_type": "stream",
     "text": [
      "Longest Common Prefix: python\n"
     ]
    }
   ],
   "source": [
    "import os\n",
    "strings = [\"pythonic\", \"pythonista\", \"python\"]\n",
    "common_prefix = os.path.commonprefix(strings)\n",
    "print(\"Longest Common Prefix:\", common_prefix)"
   ]
  },
  {
   "cell_type": "markdown",
   "id": "36a0ca79",
   "metadata": {},
   "source": [
    "Question: What method can you use to check if a string contains only digits using a regular expression (re module)?"
   ]
  },
  {
   "cell_type": "code",
   "execution_count": 13,
   "id": "4fd74c4f",
   "metadata": {},
   "outputs": [
    {
     "name": "stdout",
     "output_type": "stream",
     "text": [
      "Contains Only Digits: True\n"
     ]
    }
   ],
   "source": [
    "import re\n",
    "\n",
    "text = \"12345\"\n",
    "contains_only_digits = bool(re.match(\"^[0-9]+$\", text))\n",
    "print(\"Contains Only Digits:\", contains_only_digits)"
   ]
  },
  {
   "cell_type": "markdown",
   "id": "07c0675e",
   "metadata": {},
   "source": [
    "Question: How can you count the number of occurrences of each word in a text and store the results in a dictionary?"
   ]
  },
  {
   "cell_type": "code",
   "execution_count": 14,
   "id": "995c9954",
   "metadata": {},
   "outputs": [
    {
     "name": "stdout",
     "output_type": "stream",
     "text": [
      "Word Count: {'Python': 2, 'is': 2, 'great': 1, 'and': 1, 'powerful': 1}\n"
     ]
    }
   ],
   "source": [
    "text = \"Python is great and Python is powerful\"\n",
    "word_count = {}\n",
    "words = text.split()\n",
    "for word in words:\n",
    "    word_count[word] = word_count.get(word, 0) + 1\n",
    "print(\"Word Count:\", word_count)"
   ]
  },
  {
   "cell_type": "markdown",
   "id": "964d553f",
   "metadata": {},
   "source": [
    "Question: What method can you use to find and replace all occurrences of a pattern in a string using the re module?"
   ]
  },
  {
   "cell_type": "code",
   "execution_count": 15,
   "id": "16b91163",
   "metadata": {},
   "outputs": [
    {
     "name": "stdout",
     "output_type": "stream",
     "text": [
      "Replaced Text: Hi, World! Hi, Python!\n"
     ]
    }
   ],
   "source": [
    "import re\n",
    "\n",
    "text = \"Hello, World! Hello, Python!\"\n",
    "pattern = r'Hello'\n",
    "replacement = 'Hi'\n",
    "replaced_text = re.sub(pattern, replacement, text)\n",
    "print(\"Replaced Text:\", replaced_text)"
   ]
  },
  {
   "cell_type": "markdown",
   "id": "173ddfec",
   "metadata": {},
   "source": [
    "Question: How can you generate a random password of a specified length using string methods and the secrets module?"
   ]
  },
  {
   "cell_type": "code",
   "execution_count": 18,
   "id": "e9f36c02",
   "metadata": {},
   "outputs": [
    {
     "name": "stdout",
     "output_type": "stream",
     "text": [
      "Random Password: $MykBgMG$Q+R\n"
     ]
    }
   ],
   "source": [
    "import secrets\n",
    "import string\n",
    "\n",
    "password_length = 12\n",
    "characters = string.ascii_letters + string.digits + string.punctuation\n",
    "password = ''.join(secrets.choice(characters) for _ in range(password_length))\n",
    "print(\"Random Password:\", password)"
   ]
  },
  {
   "cell_type": "markdown",
   "id": "b3c71956",
   "metadata": {},
   "source": [
    "Question: How can you extract all the hashtags from a tweet using regular expressions (re module)?"
   ]
  },
  {
   "cell_type": "code",
   "execution_count": 19,
   "id": "f059625c",
   "metadata": {},
   "outputs": [
    {
     "name": "stdout",
     "output_type": "stream",
     "text": [
      "Hashtags: ['#Python', '#Coding', '#Learning']\n"
     ]
    }
   ],
   "source": [
    "import re\n",
    "\n",
    "tweet = \"Excited about #Python programming! #Coding #Learning\"\n",
    "hashtags = re.findall(r'#\\w+', tweet)\n",
    "print(\"Hashtags:\", hashtags)"
   ]
  },
  {
   "cell_type": "markdown",
   "id": "0363c17d",
   "metadata": {},
   "source": [
    "Question:  How do you capitalize the first letter of each word in a string using string methods?"
   ]
  },
  {
   "cell_type": "code",
   "execution_count": 20,
   "id": "bfd4372e",
   "metadata": {},
   "outputs": [
    {
     "name": "stdout",
     "output_type": "stream",
     "text": [
      "Capitalized Text: Python Programming Is Fun\n"
     ]
    }
   ],
   "source": [
    "text = \"python programming is fun\"\n",
    "capitalized_text = ' '.join(word.capitalize() for word in text.split())\n",
    "print(\"Capitalized Text:\", capitalized_text)"
   ]
  },
  {
   "cell_type": "markdown",
   "id": "403b3477",
   "metadata": {},
   "source": [
    "Question: How can you extract all the links (URLs) from an HTML document using regular expressions (re module)?"
   ]
  },
  {
   "cell_type": "code",
   "execution_count": 21,
   "id": "d6b66bcc",
   "metadata": {},
   "outputs": [
    {
     "name": "stdout",
     "output_type": "stream",
     "text": [
      "Links: ['https://example.com\">Visit', 'https://python.org\">Python</a>']\n"
     ]
    }
   ],
   "source": [
    "import re\n",
    "\n",
    "html = '<a href=\"https://example.com\">Visit Example</a> <a href=\"https://python.org\">Python</a>'\n",
    "links = re.findall(r'href=[\"\\'](https?://\\S+)', html)\n",
    "print(\"Links:\", links)"
   ]
  },
  {
   "cell_type": "markdown",
   "id": "bb267d0c",
   "metadata": {},
   "source": [
    "Question: How can you calculate the Levenshtein distance (edit distance) between two strings, which is the minimum number of operations required to transform one string into another?"
   ]
  },
  {
   "cell_type": "code",
   "execution_count": 22,
   "id": "b46ffa0c",
   "metadata": {},
   "outputs": [
    {
     "name": "stdout",
     "output_type": "stream",
     "text": [
      "Levenshtein Distance: 3\n"
     ]
    }
   ],
   "source": [
    "def levenshtein_distance(s1, s2):\n",
    "    if len(s1) < len(s2):\n",
    "        return levenshtein_distance(s2, s1)\n",
    "\n",
    "    if len(s2) == 0:\n",
    "        return len(s1)\n",
    "\n",
    "    previous_row = range(len(s2) + 1)\n",
    "    for i, c1 in enumerate(s1):\n",
    "        current_row = [i + 1]\n",
    "        for j, c2 in enumerate(s2):\n",
    "            insertions = previous_row[j + 1] + 1\n",
    "            deletions = current_row[j] + 1\n",
    "            substitutions = previous_row[j] + (c1 != c2)\n",
    "            current_row.append(min(insertions, deletions, substitutions))\n",
    "        previous_row = current_row\n",
    "\n",
    "    return previous_row[-1]\n",
    "\n",
    "distance = levenshtein_distance(\"kitten\", \"sitting\")\n",
    "print(\"Levenshtein Distance:\", distance)"
   ]
  },
  {
   "cell_type": "markdown",
   "id": "6b60a1e3",
   "metadata": {},
   "source": [
    "Question: How can you encode and decode a string using the ROT13 (Caesar cipher) encryption technique?"
   ]
  },
  {
   "cell_type": "code",
   "execution_count": 23,
   "id": "f06c9606",
   "metadata": {},
   "outputs": [
    {
     "name": "stdout",
     "output_type": "stream",
     "text": [
      "Encoded Text: Uryyb, Jbeyq!\n",
      "Decoded Text: Hello, World!\n"
     ]
    }
   ],
   "source": [
    "def rot13(text):\n",
    "    result = []\n",
    "    for char in text:\n",
    "        if 'a' <= char <= 'z':\n",
    "            offset = ord('a')\n",
    "            result.append(chr(((ord(char) - offset + 13) % 26) + offset))\n",
    "        elif 'A' <= char <= 'Z':\n",
    "            offset = ord('A')\n",
    "            result.append(chr(((ord(char) - offset + 13) % 26) + offset))\n",
    "        else:\n",
    "            result.append(char)\n",
    "    return ''.join(result)\n",
    "\n",
    "encoded_text = rot13(\"Hello, World!\")\n",
    "decoded_text = rot13(encoded_text)\n",
    "print(\"Encoded Text:\", encoded_text)\n",
    "print(\"Decoded Text:\", decoded_text)"
   ]
  },
  {
   "cell_type": "markdown",
   "id": "0b0701fc",
   "metadata": {},
   "source": [
    "Question: How do you remove duplicate characters from a string while maintaining the original order?"
   ]
  },
  {
   "cell_type": "code",
   "execution_count": 24,
   "id": "b20de82d",
   "metadata": {},
   "outputs": [
    {
     "name": "stdout",
     "output_type": "stream",
     "text": [
      "Text without Duplicates: progamin\n"
     ]
    }
   ],
   "source": [
    "def remove_duplicates(input_str):\n",
    "    unique_chars = []\n",
    "    for char in input_str:\n",
    "        if char not in unique_chars:\n",
    "            unique_chars.append(char)\n",
    "    return ''.join(unique_chars)\n",
    "\n",
    "text = \"programming\"\n",
    "without_duplicates = remove_duplicates(text)\n",
    "print(\"Text without Duplicates:\", without_duplicates)"
   ]
  },
  {
   "cell_type": "markdown",
   "id": "94f3ab76",
   "metadata": {},
   "source": [
    "Question: How can you extract all the phone numbers (including international formats) from a text using regular expressions (re module)?"
   ]
  },
  {
   "cell_type": "code",
   "execution_count": 25,
   "id": "11146c23",
   "metadata": {},
   "outputs": [
    {
     "name": "stdout",
     "output_type": "stream",
     "text": [
      "Phone Numbers: ['+1 (123) 456-7890 ', '+44 20 1234 5678 ']\n"
     ]
    }
   ],
   "source": [
    "import re\n",
    "\n",
    "text = \"Call +1 (123) 456-7890 or +44 20 1234 5678 for support.\"\n",
    "phone_numbers = re.findall(r'\\+[\\d ()-]+', text)\n",
    "print(\"Phone Numbers:\", phone_numbers)"
   ]
  },
  {
   "cell_type": "markdown",
   "id": "cd5fa9b7",
   "metadata": {},
   "source": [
    "Question:  How can you check if a string is a palindrome (reads the same forwards and backwards) using string methods?"
   ]
  },
  {
   "cell_type": "code",
   "execution_count": 26,
   "id": "990177f1",
   "metadata": {},
   "outputs": [
    {
     "name": "stdout",
     "output_type": "stream",
     "text": [
      "Is Palindrome: True\n"
     ]
    }
   ],
   "source": [
    "def is_palindrome(text):\n",
    "    clean_text = ''.join(char.lower() for char in text if char.isalnum())\n",
    "    return clean_text == clean_text[::-1]\n",
    "\n",
    "palindrome = is_palindrome(\"A man, a plan, a canal, Panama\")\n",
    "print(\"Is Palindrome:\", palindrome)"
   ]
  },
  {
   "cell_type": "markdown",
   "id": "818df657",
   "metadata": {},
   "source": [
    "Question:  How can you count the occurrences of all words in a text using string methods and a dictionary?"
   ]
  },
  {
   "cell_type": "code",
   "execution_count": 27,
   "id": "55ec42bf",
   "metadata": {},
   "outputs": [
    {
     "name": "stdout",
     "output_type": "stream",
     "text": [
      "Word Count: {'this': 2, 'is': 1, 'a': 1, 'sample': 2, 'text': 2, 'contains': 1, 'words': 1}\n"
     ]
    }
   ],
   "source": [
    "text = \"This is a sample text. This text contains sample words.\"\n",
    "words = text.split()\n",
    "word_count = {}\n",
    "for word in words:\n",
    "    word = word.strip('.,!?\"\\'').lower()\n",
    "    if word:\n",
    "        word_count[word] = word_count.get(word, 0) + 1\n",
    "print(\"Word Count:\", word_count)"
   ]
  },
  {
   "cell_type": "markdown",
   "id": "bb4c94f4",
   "metadata": {},
   "source": [
    "Question: How can you check if a string contains only alphabetic characters using string methods?"
   ]
  },
  {
   "cell_type": "code",
   "execution_count": 28,
   "id": "dfd36b84",
   "metadata": {},
   "outputs": [
    {
     "name": "stdout",
     "output_type": "stream",
     "text": [
      "Is text1 alphabetic: True\n",
      "Is text2 alphabetic: False\n"
     ]
    }
   ],
   "source": [
    "def is_alpha(text):\n",
    "    return all(char.isalpha() or char.isspace() for char in text)\n",
    "\n",
    "text1 = \"Hello World\"\n",
    "text2 = \"Hello World!\"\n",
    "alpha_check1 = is_alpha(text1)\n",
    "alpha_check2 = is_alpha(text2)\n",
    "print(\"Is text1 alphabetic:\", alpha_check1)\n",
    "print(\"Is text2 alphabetic:\", alpha_check2)"
   ]
  },
  {
   "cell_type": "markdown",
   "id": "5e2fe0a3",
   "metadata": {},
   "source": [
    "Question: How do you reverse the words in a sentence without reversing the characters using string methods?"
   ]
  },
  {
   "cell_type": "code",
   "execution_count": 29,
   "id": "2ed275e4",
   "metadata": {},
   "outputs": [
    {
     "name": "stdout",
     "output_type": "stream",
     "text": [
      "Reversed Sentence: sentence sample a is This\n"
     ]
    }
   ],
   "source": [
    "sentence = \"This is a sample sentence\"\n",
    "reversed_words = ' '.join(sentence.split()[::-1])\n",
    "print(\"Reversed Sentence:\", reversed_words)"
   ]
  },
  {
   "cell_type": "markdown",
   "id": "e1168fae",
   "metadata": {},
   "source": [
    "Question: How do you find the longest word in a string using string methods and a loop?"
   ]
  },
  {
   "cell_type": "code",
   "execution_count": 30,
   "id": "a7c13d35",
   "metadata": {},
   "outputs": [
    {
     "name": "stdout",
     "output_type": "stream",
     "text": [
      "Email Addresses: ['support@example.com', 'sales@company.co']\n"
     ]
    }
   ],
   "source": [
    "import re\n",
    "\n",
    "text = \"Contact support@example.com or sales@company.co for assistance.\"\n",
    "email_addresses = re.findall(r'\\S+@\\S+', text)\n",
    "print(\"Email Addresses:\", email_addresses)"
   ]
  },
  {
   "cell_type": "markdown",
   "id": "a36f517b",
   "metadata": {},
   "source": [
    "Question: How can you check if a string is a valid URL using regular expressions (re module)?"
   ]
  },
  {
   "cell_type": "code",
   "execution_count": 32,
   "id": "38a9e916",
   "metadata": {},
   "outputs": [
    {
     "name": "stdout",
     "output_type": "stream",
     "text": [
      "Is url1 valid: True\n",
      "Is url2 valid: False\n"
     ]
    }
   ],
   "source": [
    "import re\n",
    "\n",
    "def is_valid_url(url):\n",
    "    pattern = r'^https?://[\\w.-]+\\.\\w+$'\n",
    "    return bool(re.match(pattern, url))\n",
    "\n",
    "url1 = \"https://example.com\"\n",
    "url2 = \"ftp://invalid-url\"\n",
    "valid1 = is_valid_url(url1)\n",
    "valid2 = is_valid_url(url2)\n",
    "print(\"Is url1 valid:\", valid1)\n",
    "print(\"Is url2 valid:\", valid2)"
   ]
  },
  {
   "cell_type": "markdown",
   "id": "c79dbe8b",
   "metadata": {},
   "source": [
    "Question: How can you find the most common word in a string using string methods and a dictionary?"
   ]
  },
  {
   "cell_type": "code",
   "execution_count": 33,
   "id": "480e3d43",
   "metadata": {},
   "outputs": [
    {
     "name": "stdout",
     "output_type": "stream",
     "text": [
      "Most Common Word: this\n"
     ]
    }
   ],
   "source": [
    "text = \"This is a sample text. This text contains sample words.\"\n",
    "words = text.split()\n",
    "word_count = {}\n",
    "for word in words:\n",
    "    word = word.strip('.,!?\"\\'').lower()\n",
    "    if word:\n",
    "        word_count[word] = word_count.get(word, 0) + 1\n",
    "most_common_word = max(word_count, key=word_count.get)\n",
    "print(\"Most Common Word:\", most_common_word)"
   ]
  },
  {
   "cell_type": "markdown",
   "id": "4e7b1a76",
   "metadata": {},
   "source": [
    "Question: How can you remove HTML tags from a string using regular expressions (re module)?"
   ]
  },
  {
   "cell_type": "code",
   "execution_count": 34,
   "id": "dc759e82",
   "metadata": {},
   "outputs": [
    {
     "name": "stdout",
     "output_type": "stream",
     "text": [
      "Text without HTML tags: This is HTML text.\n"
     ]
    }
   ],
   "source": [
    "import re\n",
    "\n",
    "html_text = \"<p>This is <strong>HTML</strong> text.</p>\"\n",
    "text_without_tags = re.sub(r'<[^>]+>', '', html_text)\n",
    "print(\"Text without HTML tags:\", text_without_tags)"
   ]
  },
  {
   "cell_type": "markdown",
   "id": "42a32c72",
   "metadata": {},
   "source": [
    "Question: How can you check if a string contains only numeric characters using string methods?"
   ]
  },
  {
   "cell_type": "code",
   "execution_count": 35,
   "id": "9e772260",
   "metadata": {},
   "outputs": [
    {
     "name": "stdout",
     "output_type": "stream",
     "text": [
      "Is numeric1 numeric: True\n",
      "Is numeric2 numeric: False\n"
     ]
    }
   ],
   "source": [
    "def is_numeric(text):\n",
    "    return text.isnumeric()\n",
    "\n",
    "numeric1 = \"12345\"\n",
    "numeric2 = \"123a45\"\n",
    "is_numeric1 = is_numeric(numeric1)\n",
    "is_numeric2 = is_numeric(numeric2)\n",
    "print(\"Is numeric1 numeric:\", is_numeric1)\n",
    "print(\"Is numeric2 numeric:\", is_numeric2)"
   ]
  },
  {
   "cell_type": "markdown",
   "id": "19fdce3f",
   "metadata": {},
   "source": [
    "Question: How can you check if a string is a palindrome (reads the same forwards and backwards) using string methods?"
   ]
  },
  {
   "cell_type": "code",
   "execution_count": 36,
   "id": "03dd8d09",
   "metadata": {},
   "outputs": [
    {
     "name": "stdout",
     "output_type": "stream",
     "text": [
      "Is palindrome1 a palindrome: True\n",
      "Is palindrome2 a palindrome: True\n",
      "Is not_palindrome a palindrome: False\n"
     ]
    }
   ],
   "source": [
    "def is_palindrome(text):\n",
    "    text = text.lower().replace(\" \", \"\")\n",
    "    return text == text[::-1]\n",
    "\n",
    "palindrome1 = \"racecar\"\n",
    "palindrome2 = \"A man a plan a canal Panama\"\n",
    "not_palindrome = \"hello\"\n",
    "is_palindrome1 = is_palindrome(palindrome1)\n",
    "is_palindrome2 = is_palindrome(palindrome2)\n",
    "is_palindrome3 = is_palindrome(not_palindrome)\n",
    "print(\"Is palindrome1 a palindrome:\", is_palindrome1)\n",
    "print(\"Is palindrome2 a palindrome:\", is_palindrome2)\n",
    "print(\"Is not_palindrome a palindrome:\", is_palindrome3)"
   ]
  },
  {
   "cell_type": "markdown",
   "id": "8fb2fe9a",
   "metadata": {},
   "source": [
    "Question: How can you find the second most common character in a string using string methods and a dictionary?"
   ]
  },
  {
   "cell_type": "code",
   "execution_count": 37,
   "id": "702b2d0d",
   "metadata": {},
   "outputs": [
    {
     "name": "stdout",
     "output_type": "stream",
     "text": [
      "Second Most Common Character: s\n"
     ]
    }
   ],
   "source": [
    "text = \"This is a sample text. This text contains sample words.\"\n",
    "character_count = {}\n",
    "for char in text:\n",
    "    if char.isalpha():\n",
    "        char = char.lower()\n",
    "        character_count[char] = character_count.get(char, 0) + 1\n",
    "sorted_chars = sorted(character_count, key=character_count.get, reverse=True)\n",
    "second_most_common = sorted_chars[1]\n",
    "print(\"Second Most Common Character:\", second_most_common)"
   ]
  },
  {
   "cell_type": "markdown",
   "id": "3c0da1d0",
   "metadata": {},
   "source": [
    "Question: How can you find all the unique words in a string using string methods and a set?"
   ]
  },
  {
   "cell_type": "code",
   "execution_count": 40,
   "id": "af0a6fdc",
   "metadata": {},
   "outputs": [
    {
     "name": "stdout",
     "output_type": "stream",
     "text": [
      "Unique Words: {'This', 'contains', 'text', 'text.', 'words.', 'a', 'sample', 'is'}\n"
     ]
    }
   ],
   "source": [
    "text = \"This is a sample text. This text contains sample words.\"\n",
    "words = text.split()\n",
    "unique_words = set(words)\n",
    "print(\"Unique Words:\", unique_words)"
   ]
  },
  {
   "cell_type": "markdown",
   "id": "0cbcf930",
   "metadata": {},
   "source": [
    "Question: How can you capitalize the first letter of each word in a string using string methods?"
   ]
  },
  {
   "cell_type": "code",
   "execution_count": 41,
   "id": "4c9dc32c",
   "metadata": {},
   "outputs": [
    {
     "name": "stdout",
     "output_type": "stream",
     "text": [
      "Capitalized Text: This Is A Sample Sentence.\n"
     ]
    }
   ],
   "source": [
    "text = \"this is a sample sentence.\"\n",
    "capitalized_text = ' '.join(word.capitalize() for word in text.split())\n",
    "print(\"Capitalized Text:\", capitalized_text)"
   ]
  },
  {
   "cell_type": "markdown",
   "id": "d1519ff3",
   "metadata": {},
   "source": [
    "Question: How can you remove all non-alphanumeric characters (except spaces) from a string using string methods?"
   ]
  },
  {
   "cell_type": "code",
   "execution_count": 43,
   "id": "62b2a8cd",
   "metadata": {},
   "outputs": [
    {
     "name": "stdout",
     "output_type": "stream",
     "text": [
      "Alphanumeric Text: This is a 1234 sample text With some symbols \n"
     ]
    }
   ],
   "source": [
    "text = \"This is a 1234 sample text! With some symbols: @#$%\"\n",
    "alphanumeric_text = ''.join(char for char in text if char.isalnum() or char.isspace())\n",
    "print(\"Alphanumeric Text:\", alphanumeric_text)"
   ]
  },
  {
   "cell_type": "markdown",
   "id": "340b29cb",
   "metadata": {},
   "source": [
    "Question: How can you split a string into sentences using string methods and regular expressions (re module)?"
   ]
  },
  {
   "cell_type": "code",
   "execution_count": 45,
   "id": "ff0e8508",
   "metadata": {},
   "outputs": [
    {
     "name": "stdout",
     "output_type": "stream",
     "text": [
      "Sentences: ['This is sentence one.', 'This is sentence two!', \"And here's sentence three?\"]\n"
     ]
    }
   ],
   "source": [
    "import re\n",
    "\n",
    "text = \"This is sentence one. This is sentence two! And here's sentence three?\"\n",
    "sentences = re.split(r'(?<=[.!?]) ', text)\n",
    "print(\"Sentences:\", sentences)"
   ]
  },
  {
   "cell_type": "markdown",
   "id": "a8319267",
   "metadata": {},
   "source": [
    "Question: How can you find and replace all URLs in a string with a placeholder using regular expressions (re module)?"
   ]
  },
  {
   "cell_type": "code",
   "execution_count": 46,
   "id": "8637ec79",
   "metadata": {},
   "outputs": [
    {
     "name": "stdout",
     "output_type": "stream",
     "text": [
      "Placeholder Text: Visit our website at [URL] for more information.\n"
     ]
    }
   ],
   "source": [
    "import re\n",
    "\n",
    "text = \"Visit our website at https://www.example.com for more information.\"\n",
    "placeholder_text = re.sub(r'https?://\\S+', '[URL]', text)\n",
    "print(\"Placeholder Text:\", placeholder_text)"
   ]
  },
  {
   "cell_type": "markdown",
   "id": "6c844848",
   "metadata": {},
   "source": [
    "Question: How can you remove all leading and trailing spaces from each line in a multiline string using string methods?"
   ]
  },
  {
   "cell_type": "code",
   "execution_count": 47,
   "id": "e278929a",
   "metadata": {},
   "outputs": [
    {
     "name": "stdout",
     "output_type": "stream",
     "text": [
      "Cleaned Multiline Text:\n",
      "Line 1\n",
      "Line 2\n",
      "Line 3\n",
      "\n"
     ]
    }
   ],
   "source": [
    "multiline_text = \"   Line 1\\n   Line 2\\n   Line 3   \\n\"\n",
    "cleaned_text = '\\n'.join(line.strip() for line in multiline_text.split('\\n'))\n",
    "print(\"Cleaned Multiline Text:\")\n",
    "print(cleaned_text)"
   ]
  },
  {
   "cell_type": "markdown",
   "id": "3e6d8ab9",
   "metadata": {},
   "source": [
    "Question: How can you find the difference between two strings using string methods?"
   ]
  },
  {
   "cell_type": "code",
   "execution_count": 48,
   "id": "e923ccf4",
   "metadata": {},
   "outputs": [
    {
     "name": "stdout",
     "output_type": "stream",
     "text": [
      "Difference between strings: f\n"
     ]
    }
   ],
   "source": [
    "string1 = \"This is the first string.\"\n",
    "string2 = \"This is the second string.\"\n",
    "difference = ''.join(char for char in string1 if char not in string2)\n",
    "print(\"Difference between strings:\", difference)"
   ]
  },
  {
   "cell_type": "markdown",
   "id": "17bb2dcb",
   "metadata": {},
   "source": [
    "Question: How can you rotate the characters in a string by a given number of positions using string methods?"
   ]
  },
  {
   "cell_type": "code",
   "execution_count": 49,
   "id": "06c34b22",
   "metadata": {},
   "outputs": [
    {
     "name": "stdout",
     "output_type": "stream",
     "text": [
      "Rotated Text: lo, World!Hel\n"
     ]
    }
   ],
   "source": [
    "def rotate_string(text, positions):\n",
    "    positions = positions % len(text)\n",
    "    rotated_text = text[positions:] + text[:positions]\n",
    "    return rotated_text\n",
    "\n",
    "original_text = \"Hello, World!\"\n",
    "rotated_text = rotate_string(original_text, 3)\n",
    "print(\"Rotated Text:\", rotated_text)"
   ]
  },
  {
   "cell_type": "markdown",
   "id": "f43938a6",
   "metadata": {},
   "source": [
    "Question: How can you find the longest common substring between two strings using string methods?"
   ]
  },
  {
   "cell_type": "code",
   "execution_count": 50,
   "id": "b39ec9da",
   "metadata": {},
   "outputs": [
    {
     "name": "stdout",
     "output_type": "stream",
     "text": [
      "Longest Common Substring: abc\n"
     ]
    }
   ],
   "source": [
    "def longest_common_substring(s1, s2):\n",
    "    m = len(s1)\n",
    "    n = len(s2)\n",
    "    dp = [[0] * (n + 1) for _ in range(m + 1)]\n",
    "    max_len = 0\n",
    "    end_index = 0\n",
    "\n",
    "    for i in range(1, m + 1):\n",
    "        for j in range(1, n + 1):\n",
    "            if s1[i - 1] == s2[j - 1]:\n",
    "                dp[i][j] = dp[i - 1][j - 1] + 1\n",
    "                if dp[i][j] > max_len:\n",
    "                    max_len = dp[i][j]\n",
    "                    end_index = i\n",
    "\n",
    "    return s1[end_index - max_len:end_index]\n",
    "\n",
    "string1 = \"abcdefg\"\n",
    "string2 = \"abcfefgh\"\n",
    "common_substring = longest_common_substring(string1, string2)\n",
    "print(\"Longest Common Substring:\", common_substring)"
   ]
  },
  {
   "cell_type": "markdown",
   "id": "901cc181",
   "metadata": {},
   "source": [
    "Question: How can you check if a string is a valid email address using regular expressions (re module)?"
   ]
  },
  {
   "cell_type": "code",
   "execution_count": 51,
   "id": "81cf53ca",
   "metadata": {},
   "outputs": [
    {
     "name": "stdout",
     "output_type": "stream",
     "text": [
      "Is email1 valid: True\n",
      "Is email2 valid: False\n"
     ]
    }
   ],
   "source": [
    "import re\n",
    "\n",
    "def is_valid_email(email):\n",
    "    pattern = r'^[\\w\\.-]+@[\\w\\.-]+\\.\\w+$'\n",
    "    return bool(re.match(pattern, email))\n",
    "\n",
    "email1 = \"john.doe@example.com\"\n",
    "email2 = \"invalid_email@com\"\n",
    "is_valid1 = is_valid_email(email1)\n",
    "is_valid2 = is_valid_email(email2)\n",
    "print(\"Is email1 valid:\", is_valid1)\n",
    "print(\"Is email2 valid:\", is_valid2)"
   ]
  },
  {
   "cell_type": "markdown",
   "id": "aef53d69",
   "metadata": {},
   "source": [
    "Question: How can you extract all hashtags from a social media post using regular expressions (re module)?"
   ]
  },
  {
   "cell_type": "code",
   "execution_count": 52,
   "id": "1b676427",
   "metadata": {},
   "outputs": [
    {
     "name": "stdout",
     "output_type": "stream",
     "text": [
      "Hashtags: ['#Python', '#Programming', '#Coding']\n"
     ]
    }
   ],
   "source": [
    "import re\n",
    "\n",
    "post = \"Check out this amazing #Python tutorial! #Programming #Coding\"\n",
    "hashtags = re.findall(r'#\\w+', post)\n",
    "print(\"Hashtags:\", hashtags)"
   ]
  },
  {
   "cell_type": "markdown",
   "id": "5ea92964",
   "metadata": {},
   "source": [
    "Question: How can you find the Levenshtein distance (edit distance) between two strings using dynamic programming?"
   ]
  },
  {
   "cell_type": "code",
   "execution_count": 53,
   "id": "f07b9cc7",
   "metadata": {},
   "outputs": [
    {
     "name": "stdout",
     "output_type": "stream",
     "text": [
      "Levenshtein Distance: 3\n"
     ]
    }
   ],
   "source": [
    "def levenshtein_distance(s1, s2):\n",
    "    m, n = len(s1), len(s2)\n",
    "    dp = [[0] * (n + 1) for _ in range(m + 1)]\n",
    "\n",
    "    for i in range(m + 1):\n",
    "        dp[i][0] = i\n",
    "\n",
    "    for j in range(n + 1):\n",
    "        dp[0][j] = j\n",
    "\n",
    "    for i in range(1, m + 1):\n",
    "        for j in range(1, n + 1):\n",
    "            cost = 0 if s1[i - 1] == s2[j - 1] else 1\n",
    "            dp[i][j] = min(dp[i - 1][j] + 1, dp[i][j - 1] + 1, dp[i - 1][j - 1] + cost)\n",
    "\n",
    "    return dp[m][n]\n",
    "\n",
    "word1 = \"kitten\"\n",
    "word2 = \"sitting\"\n",
    "distance = levenshtein_distance(word1, word2)\n",
    "print(\"Levenshtein Distance:\", distance)"
   ]
  },
  {
   "cell_type": "markdown",
   "id": "4a2d9c51",
   "metadata": {},
   "source": [
    "Question: How can you implement a simple text-based spell checker using a dictionary of words and string methods?"
   ]
  },
  {
   "cell_type": "code",
   "execution_count": 54,
   "id": "1caf8b7a",
   "metadata": {},
   "outputs": [
    {
     "name": "stdout",
     "output_type": "stream",
     "text": [
      "Misspelled Words: ['I', 'like', 'appple', 'and', 'bannana']\n"
     ]
    }
   ],
   "source": [
    "dictionary = set([\"apple\", \"banana\", \"cherry\", \"grape\", \"orange\", \"strawberry\"])\n",
    "\n",
    "def spell_check(text):\n",
    "    words = text.split()\n",
    "    misspelled = [word for word in words if word.lower() not in dictionary]\n",
    "    return misspelled\n",
    "\n",
    "text = \"I like appple and bannana\"\n",
    "misspelled_words = spell_check(text)\n",
    "print(\"Misspelled Words:\", misspelled_words)"
   ]
  },
  {
   "cell_type": "markdown",
   "id": "f37c9239",
   "metadata": {},
   "source": [
    "Question:  How can you find and extract all mentions (usernames) from a social media post using regular expressions (re module)?"
   ]
  },
  {
   "cell_type": "code",
   "execution_count": 55,
   "id": "8d72ce07",
   "metadata": {},
   "outputs": [
    {
     "name": "stdout",
     "output_type": "stream",
     "text": [
      "Mentions: ['@JohnDoe', '@JaneSmith']\n"
     ]
    }
   ],
   "source": [
    "import re\n",
    "\n",
    "post = \"Hey @JohnDoe and @JaneSmith, great meeting you!\"\n",
    "mentions = re.findall(r'@\\w+', post)\n",
    "print(\"Mentions:\", mentions)"
   ]
  },
  {
   "cell_type": "markdown",
   "id": "4fff97c4",
   "metadata": {},
   "source": [
    "Question: How can you reverse the words in a sentence while keeping the order of words in the sentence using string methods?"
   ]
  },
  {
   "cell_type": "code",
   "execution_count": 56,
   "id": "f7e7d133",
   "metadata": {},
   "outputs": [
    {
     "name": "stdout",
     "output_type": "stream",
     "text": [
      "Reversed Words in Sentence: sentence. sample a is This\n"
     ]
    }
   ],
   "source": [
    "sentence = \"This is a sample sentence.\"\n",
    "reversed_words = ' '.join(sentence.split()[::-1])\n",
    "print(\"Reversed Words in Sentence:\", reversed_words)"
   ]
  },
  {
   "cell_type": "markdown",
   "id": "a1445fe5",
   "metadata": {},
   "source": [
    "Question: How can you implement a basic text encryption/decryption function using string methods and a simple cipher (e.g., Caesar cipher)?"
   ]
  },
  {
   "cell_type": "code",
   "execution_count": 58,
   "id": "3f817cc5",
   "metadata": {},
   "outputs": [
    {
     "name": "stdout",
     "output_type": "stream",
     "text": [
      "Original Text: Hello, World!\n",
      "Encrypted Text: khoor, zruog!\n",
      "Decrypted Text: hello, world!\n"
     ]
    }
   ],
   "source": [
    "def caesar_cipher(text, shift):\n",
    "    encrypted_text = ''.join([chr(((ord(char) - 97 + shift) % 26) + 97) if char.isalpha() else char for char in text.lower()])\n",
    "    return encrypted_text\n",
    "\n",
    "original_text = \"Hello, World!\"\n",
    "shift_amount = 3\n",
    "encrypted_text = caesar_cipher(original_text, shift_amount)\n",
    "decrypted_text = caesar_cipher(encrypted_text, -shift_amount)\n",
    "print(\"Original Text:\", original_text)\n",
    "print(\"Encrypted Text:\", encrypted_text)\n",
    "print(\"Decrypted Text:\", decrypted_text)"
   ]
  },
  {
   "cell_type": "markdown",
   "id": "5b1b0b95",
   "metadata": {},
   "source": [
    "Question: How can you generate a random password of a specified length using string methods and the random module?"
   ]
  },
  {
   "cell_type": "code",
   "execution_count": 60,
   "id": "b01fb4bc",
   "metadata": {},
   "outputs": [
    {
     "name": "stdout",
     "output_type": "stream",
     "text": [
      "Random Password: O)4.QkzgM::u\n"
     ]
    }
   ],
   "source": [
    "import random\n",
    "import string\n",
    "\n",
    "def generate_random_password(length):\n",
    "    characters = string.ascii_letters + string.digits + string.punctuation\n",
    "    password = ''.join(random.choice(characters) for _ in range(length))\n",
    "    return password\n",
    "\n",
    "random_password = generate_random_password(12)\n",
    "print(\"Random Password:\", random_password)"
   ]
  },
  {
   "cell_type": "markdown",
   "id": "b49fc23c",
   "metadata": {},
   "source": [
    "Question: How can you implement a function to convert a camelCase or PascalCase string into a snake_case string using string methods and regular expressions (re module)?"
   ]
  },
  {
   "cell_type": "code",
   "execution_count": 62,
   "id": "c69cd4ad",
   "metadata": {},
   "outputs": [
    {
     "name": "stdout",
     "output_type": "stream",
     "text": [
      "Camel Case to Snake Case 1: camel_case_string\n",
      "Camel Case to Snake Case 2: pascal_case_string\n"
     ]
    }
   ],
   "source": [
    "import re\n",
    "\n",
    "def camel_to_snake(text):\n",
    "    snake_text = re.sub(r'([a-z0-9])([A-Z])', r'\\1_\\2', text)\n",
    "    return snake_text.lower()\n",
    "\n",
    "camel_case = \"camelCaseString\"\n",
    "pascal_case = \"PascalCaseString\"\n",
    "snake_case1 = camel_to_snake(camel_case)\n",
    "snake_case2 = camel_to_snake(pascal_case)\n",
    "print(\"Camel Case to Snake Case 1:\", snake_case1)\n",
    "print(\"Camel Case to Snake Case 2:\", snake_case2)"
   ]
  },
  {
   "cell_type": "markdown",
   "id": "1e28d567",
   "metadata": {},
   "source": [
    "Question: How can you implement a function to reverse words in a sentence but keep the punctuation in place? For example, \"Hello, world!\" should become \"olleH, dlrow!\""
   ]
  },
  {
   "cell_type": "code",
   "execution_count": 63,
   "id": "649c9467",
   "metadata": {},
   "outputs": [
    {
     "name": "stdout",
     "output_type": "stream",
     "text": [
      "Reversed Sentence with Punctuation: olleH, dlrow!\n"
     ]
    }
   ],
   "source": [
    "import re\n",
    "\n",
    "def reverse_words_preserving_punctuation(sentence):\n",
    "    words = re.split(r'(\\W+)', sentence)\n",
    "    reversed_sentence = ''.join([word[::-1] if word.isalnum() else word for word in words])\n",
    "    return reversed_sentence\n",
    "\n",
    "sentence = \"Hello, world!\"\n",
    "reversed_sentence = reverse_words_preserving_punctuation(sentence)\n",
    "print(\"Reversed Sentence with Punctuation:\", reversed_sentence)"
   ]
  },
  {
   "cell_type": "markdown",
   "id": "465b3ee5",
   "metadata": {},
   "source": [
    "Question: How can you implement a function to check if a given string is a palindrome considering only alphanumeric characters and ignoring case?"
   ]
  },
  {
   "cell_type": "code",
   "execution_count": 64,
   "id": "146408bf",
   "metadata": {},
   "outputs": [
    {
     "name": "stdout",
     "output_type": "stream",
     "text": [
      "Is text1 a palindrome: True\n",
      "Is text2 a palindrome: False\n"
     ]
    }
   ],
   "source": [
    "def is_palindrome(s):\n",
    "    s = ''.join(filter(str.isalnum, s)).lower()\n",
    "    return s == s[::-1]\n",
    "\n",
    "text1 = \"A man, a plan, a canal: Panama\"\n",
    "text2 = \"race a car\"\n",
    "is_palindrome1 = is_palindrome(text1)\n",
    "is_palindrome2 = is_palindrome(text2)\n",
    "print(\"Is text1 a palindrome:\", is_palindrome1)\n",
    "print(\"Is text2 a palindrome:\", is_palindrome2)"
   ]
  },
  {
   "cell_type": "markdown",
   "id": "e13353da",
   "metadata": {},
   "source": [
    "Question: How can you implement a function to perform a case-insensitive search for a substring within a larger string?"
   ]
  },
  {
   "cell_type": "code",
   "execution_count": 65,
   "id": "0f09f43f",
   "metadata": {},
   "outputs": [
    {
     "name": "stdout",
     "output_type": "stream",
     "text": [
      "Substring1 found: True\n",
      "Substring2 found: False\n"
     ]
    }
   ],
   "source": [
    "def case_insensitive_search(main_string, sub_string):\n",
    "    main_lower = main_string.lower()\n",
    "    sub_lower = sub_string.lower()\n",
    "    return sub_lower in main_lower\n",
    "\n",
    "text = \"Python programming is awesome\"\n",
    "substring1 = \"PyThOn\"\n",
    "substring2 = \"java\"\n",
    "found1 = case_insensitive_search(text, substring1)\n",
    "found2 = case_insensitive_search(text, substring2)\n",
    "print(\"Substring1 found:\", found1)\n",
    "print(\"Substring2 found:\", found2)"
   ]
  },
  {
   "cell_type": "markdown",
   "id": "239fd120",
   "metadata": {},
   "source": [
    "Question: How can you implement a function to count the occurrences of each word in a given text using string methods and a dictionary?"
   ]
  },
  {
   "cell_type": "code",
   "execution_count": 66,
   "id": "90613276",
   "metadata": {},
   "outputs": [
    {
     "name": "stdout",
     "output_type": "stream",
     "text": [
      "Word Counts: {'this': 2, 'is': 1, 'a': 1, 'sample': 1, 'text.': 1, 'text': 1, 'contains': 1, 'multiple': 1, 'words,': 1, 'and': 1, 'some': 1, 'words': 1, 'repeat.': 1}\n"
     ]
    }
   ],
   "source": [
    "def word_count(text):\n",
    "    words = text.split()\n",
    "    word_count_dict = {}\n",
    "    for word in words:\n",
    "        word = word.lower()\n",
    "        if word in word_count_dict:\n",
    "            word_count_dict[word] += 1\n",
    "        else:\n",
    "            word_count_dict[word] = 1\n",
    "    return word_count_dict\n",
    "\n",
    "text = \"This is a sample text. This text contains multiple words, and some words repeat.\"\n",
    "word_counts = word_count(text)\n",
    "print(\"Word Counts:\", word_counts)"
   ]
  },
  {
   "cell_type": "markdown",
   "id": "2cdbdc84",
   "metadata": {},
   "source": [
    "Question: How can you implement a function to extract and print all URLs from an HTML document using regular expressions (re module)?"
   ]
  },
  {
   "cell_type": "code",
   "execution_count": 67,
   "id": "88cbbed5",
   "metadata": {},
   "outputs": [
    {
     "name": "stdout",
     "output_type": "stream",
     "text": [
      "URL: https://www.example.com\">Example</a>\n",
      "URL: http://www.google.com\">Google</a>\n",
      "URL: https://www.python.org\">Python</a>\n"
     ]
    }
   ],
   "source": [
    "import re\n",
    "\n",
    "def extract_urls(html):\n",
    "    url_pattern = r'https?://[^\\s/$.?#].[^\\s]*'\n",
    "    urls = re.findall(url_pattern, html)\n",
    "    return urls\n",
    "\n",
    "html_doc = \"\"\"\n",
    "<html>\n",
    "    <a href=\"https://www.example.com\">Example</a>\n",
    "    <a href=\"http://www.google.com\">Google</a>\n",
    "    <p>Some text.</p>\n",
    "    <a href=\"https://www.python.org\">Python</a>\n",
    "</html>\n",
    "\"\"\"\n",
    "\n",
    "extracted_urls = extract_urls(html_doc)\n",
    "for url in extracted_urls:\n",
    "    print(\"URL:\", url)"
   ]
  },
  {
   "cell_type": "markdown",
   "id": "8db18660",
   "metadata": {},
   "source": [
    "Question: How can you implement a function to find and replace multiple words in a text using a dictionary of replacements?"
   ]
  },
  {
   "cell_type": "code",
   "execution_count": 68,
   "id": "c10d14dc",
   "metadata": {},
   "outputs": [
    {
     "name": "stdout",
     "output_type": "stream",
     "text": [
      "Updated Text: This is a easy sample with easy replacements.\n"
     ]
    }
   ],
   "source": [
    "def find_and_replace(text, replacements):\n",
    "    for old_word, new_word in replacements.items():\n",
    "        text = text.replace(old_word, new_word)\n",
    "    return text\n",
    "\n",
    "text = \"This is a simple example with simple substitutions.\"\n",
    "replacements = {\n",
    "    \"simple\": \"easy\",\n",
    "    \"example\": \"sample\",\n",
    "    \"substitutions\": \"replacements\"\n",
    "}\n",
    "\n",
    "updated_text = find_and_replace(text, replacements)\n",
    "print(\"Updated Text:\", updated_text)"
   ]
  },
  {
   "cell_type": "markdown",
   "id": "b87811b6",
   "metadata": {},
   "source": [
    "Question: How can you implement a function to find and replace multiple words in a text using a dictionary of replacements?"
   ]
  },
  {
   "cell_type": "code",
   "execution_count": 69,
   "id": "1f76e983",
   "metadata": {},
   "outputs": [
    {
     "name": "stdout",
     "output_type": "stream",
     "text": [
      "Updated Text: This is a easy sample with easy replacements.\n"
     ]
    }
   ],
   "source": [
    "def find_and_replace(text, replacements):\n",
    "    for old_word, new_word in replacements.items():\n",
    "        text = text.replace(old_word, new_word)\n",
    "    return text\n",
    "\n",
    "text = \"This is a simple example with simple substitutions.\"\n",
    "replacements = {\n",
    "    \"simple\": \"easy\",\n",
    "    \"example\": \"sample\",\n",
    "    \"substitutions\": \"replacements\"\n",
    "}\n",
    "\n",
    "updated_text = find_and_replace(text, replacements)\n",
    "print(\"Updated Text:\", updated_text)"
   ]
  },
  {
   "cell_type": "markdown",
   "id": "99dbf143",
   "metadata": {},
   "source": [
    "Question: How can you implement a function to capitalize the first letter of each word in a sentence using string methods?"
   ]
  },
  {
   "cell_type": "code",
   "execution_count": 70,
   "id": "1c63525b",
   "metadata": {},
   "outputs": [
    {
     "name": "stdout",
     "output_type": "stream",
     "text": [
      "Capitalized Sentence: This Is A Sentence With Multiple Words\n"
     ]
    }
   ],
   "source": [
    "def capitalize_words(sentence):\n",
    "    words = sentence.split()\n",
    "    capitalized_words = [word.capitalize() for word in words]\n",
    "    return ' '.join(capitalized_words)\n",
    "\n",
    "sentence = \"this is a sentence with multiple words\"\n",
    "capitalized_sentence = capitalize_words(sentence)\n",
    "print(\"Capitalized Sentence:\", capitalized_sentence)"
   ]
  },
  {
   "cell_type": "markdown",
   "id": "52af8bf4",
   "metadata": {},
   "source": [
    "Question: How can you implement a function to find the longest word in a sentence using string methods and a loop?"
   ]
  },
  {
   "cell_type": "code",
   "execution_count": 72,
   "id": "0997c020",
   "metadata": {},
   "outputs": [
    {
     "name": "stdout",
     "output_type": "stream",
     "text": [
      "Longest Word: sentence\n"
     ]
    }
   ],
   "source": [
    "def find_longest_word(sentence):\n",
    "    words = sentence.split()\n",
    "    longest_word = \"\"\n",
    "    for word in words:\n",
    "        if len(word) > len(longest_word):\n",
    "            longest_word = word\n",
    "    return longest_word\n",
    "\n",
    "sentence = \"This is a sentence with some long and shorter words.\"\n",
    "longest_word = find_longest_word(sentence)\n",
    "print(\"Longest Word:\", longest_word)"
   ]
  },
  {
   "cell_type": "markdown",
   "id": "02a89a77",
   "metadata": {},
   "source": [
    "Question: How can you implement a function to calculate the similarity between two strings using the Jaccard similarity coefficient?"
   ]
  },
  {
   "cell_type": "code",
   "execution_count": 73,
   "id": "7542afd7",
   "metadata": {},
   "outputs": [
    {
     "name": "stdout",
     "output_type": "stream",
     "text": [
      "Jaccard Similarity: 0.125\n"
     ]
    }
   ],
   "source": [
    "def jaccard_similarity(str1, str2):\n",
    "    set1 = set(str1.split())\n",
    "    set2 = set(str2.split())\n",
    "    intersection = len(set1.intersection(set2))\n",
    "    union = len(set1) + len(set2) - intersection\n",
    "    return intersection / union\n",
    "\n",
    "text1 = \"This is a sample text\"\n",
    "text2 = \"Sample text for testing\"\n",
    "similarity = jaccard_similarity(text1, text2)\n",
    "print(\"Jaccard Similarity:\", similarity)"
   ]
  },
  {
   "cell_type": "markdown",
   "id": "f7d560b3",
   "metadata": {},
   "source": [
    "Question: How can you implement a function to find and extract all email addresses from a given text using regular expressions (re module)?"
   ]
  },
  {
   "cell_type": "code",
   "execution_count": 74,
   "id": "2520a370",
   "metadata": {},
   "outputs": [
    {
     "name": "stdout",
     "output_type": "stream",
     "text": [
      "Extracted Emails: ['support@example.com', 'info@company.co']\n"
     ]
    }
   ],
   "source": [
    "import re\n",
    "\n",
    "def extract_emails(text):\n",
    "    email_pattern = r'\\b[A-Za-z0-9._%+-]+@[A-Za-z0-9.-]+\\.[A-Z|a-z]{2,7}\\b'\n",
    "    emails = re.findall(email_pattern, text)\n",
    "    return emails\n",
    "\n",
    "text = \"Please contact support@example.com for assistance. You can also reach us at info@company.co.\"\n",
    "extracted_emails = extract_emails(text)\n",
    "print(\"Extracted Emails:\", extracted_emails)"
   ]
  }
 ],
 "metadata": {
  "kernelspec": {
   "display_name": "Python 3 (ipykernel)",
   "language": "python",
   "name": "python3"
  },
  "language_info": {
   "codemirror_mode": {
    "name": "ipython",
    "version": 3
   },
   "file_extension": ".py",
   "mimetype": "text/x-python",
   "name": "python",
   "nbconvert_exporter": "python",
   "pygments_lexer": "ipython3",
   "version": "3.9.13"
  },
  "toc": {
   "base_numbering": 1,
   "nav_menu": {},
   "number_sections": true,
   "sideBar": true,
   "skip_h1_title": false,
   "title_cell": "Table of Contents",
   "title_sidebar": "Contents",
   "toc_cell": false,
   "toc_position": {},
   "toc_section_display": true,
   "toc_window_display": false
  }
 },
 "nbformat": 4,
 "nbformat_minor": 5
}
