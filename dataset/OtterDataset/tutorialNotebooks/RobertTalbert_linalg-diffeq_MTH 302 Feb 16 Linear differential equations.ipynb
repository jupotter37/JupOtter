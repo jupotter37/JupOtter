{
 "cells": [
  {
   "cell_type": "code",
   "execution_count": null,
   "id": "fe21ea59",
   "metadata": {},
   "outputs": [],
   "source": [
    "from sympy import *\n",
    "init_printing()"
   ]
  },
  {
   "cell_type": "markdown",
   "id": "7b76181f",
   "metadata": {
    "slideshow": {
     "slide_type": "slide"
    }
   },
   "source": [
    "# MTH 302: Linear Algebra and Differential Equations\n",
    "\n",
    "## Linear differential equations\n",
    "\n",
    "## 2023 February 16"
   ]
  },
  {
   "cell_type": "markdown",
   "id": "d782dbb9",
   "metadata": {
    "slideshow": {
     "slide_type": "slide"
    }
   },
   "source": [
    "## Housekeeping\n",
    "\n",
    "- Pre-February 14 Class Preps are out of whack \n",
    "- If you did the second problem that was intended for Application/Analysis 2\n",
    "- New tutorial on using SymPy to solve DE's (will use today)\n"
   ]
  },
  {
   "cell_type": "markdown",
   "id": "877a0cf3",
   "metadata": {
    "slideshow": {
     "slide_type": "slide"
    }
   },
   "source": [
    "## Today's Goals\n",
    "\n",
    "- Develop shortcut for homogeneous linear DEs\n",
    "- Practice solving homogeneous linear DEs\n",
    "- Practice solving non-homogeneous linear DE's using integrating factors \n",
    "- See how SymPy does this\n",
    "- Skill Quiz "
   ]
  },
  {
   "cell_type": "markdown",
   "id": "35bde18a",
   "metadata": {
    "slideshow": {
     "slide_type": "slide"
    }
   },
   "source": [
    "## Review of Class Prep activities\n"
   ]
  },
  {
   "cell_type": "markdown",
   "id": "33d352b2",
   "metadata": {
    "slideshow": {
     "slide_type": "slide"
    }
   },
   "source": [
    "## Linear differential equations\n",
    "\n",
    "$$\\frac{dy}{dt} + p(t) y = f(t)$$\n",
    "\n",
    "- A function $y$ related to its derivative $y'(t)$ in an equation\n",
    "- The only thing being done to $y$ and $y'$ are multiplication by constants *or functions of $t$*, then adding/subtracting. \n",
    "\n"
   ]
  },
  {
   "cell_type": "markdown",
   "id": "c8729f81",
   "metadata": {
    "slideshow": {
     "slide_type": "slide"
    }
   },
   "source": [
    "## Homogeneous linear DEs\n",
    "\n",
    "$$\\frac{dy}{dt} + p(t) y = 0$$\n",
    "\n",
    "Solve by separating the $y$ and $t$ parts then integrating. \n",
    "\n",
    "Try these: \n",
    "\n",
    "- $y' +5y = 0$\n",
    "- $y' + \\frac{2}{t}y = 0$ \n",
    "- $y' = -y \\cos(t)$ "
   ]
  },
  {
   "cell_type": "markdown",
   "id": "cfc4db09",
   "metadata": {
    "slideshow": {
     "slide_type": "slide"
    }
   },
   "source": [
    "## At the board\n",
    "\n",
    "Start with the generic homogeneous DE $y'+ p(t) y= 0$ and solve it to come up with a \"shortcut\" for solving *any* homogeneous linear DE. \n",
    "\n",
    "Then use the result to (quickly!) solve $ty' + 2y = 0$. "
   ]
  },
  {
   "cell_type": "markdown",
   "id": "741d6742",
   "metadata": {
    "slideshow": {
     "slide_type": "slide"
    }
   },
   "source": [
    "### Non-homogeneous linear DEs\n",
    "\n",
    "Start with: $y' + p(t)y = f(t)$\n",
    "\n",
    "- Find an **integrating factor** by integrating $p(t)$: $P(t) = \\int p(t) \\, dt$. Integrating factor is $e^{P(t)}$. \n",
    "- Multiply DE by integrating factor: $e^{P(t)}y' + e^{P(t)}p(t)y = f(t) e^{P(t)}$\n",
    "- Left side is the derivative of $e^{P(t)} y$ \n",
    "- Therefore $\\displaystyle{e^{P(t)} y = \\int e^{P(t)} f(t) \\, dt}$\n",
    "- Therefore \n",
    "$$y = e^{-P(t)} \\int e^{P(t)} f(t) \\, dt$$"
   ]
  },
  {
   "cell_type": "markdown",
   "id": "3a1775e5",
   "metadata": {
    "slideshow": {
     "slide_type": "slide"
    }
   },
   "source": [
    "## Example\n",
    "\n",
    "Solve $y' + 5y = t^2$. \n",
    "\n",
    "---\n",
    "\n",
    "1. $p(t) = 5$. So $P(t) = 5t$. Integrating factor is $e^{5t}$. \n",
    "2. Therefore $y = e^{-5t} \\int e^{5t} t^2 \\, dt$ \n",
    "3. Evaluate the integral (using integration by parts) then multiply by $e^{-5t}$. "
   ]
  },
  {
   "cell_type": "code",
   "execution_count": null,
   "id": "df247ed6",
   "metadata": {
    "slideshow": {
     "slide_type": "slide"
    }
   },
   "outputs": [],
   "source": [
    "t = var(\"t\")\n",
    "\n",
    "# Is SymPy right about this? \n",
    "exp(-5*t) * integrate(exp(5*t)* t**2, t)"
   ]
  },
  {
   "cell_type": "code",
   "execution_count": null,
   "id": "7ff01fd0",
   "metadata": {
    "slideshow": {
     "slide_type": "fragment"
    }
   },
   "outputs": [],
   "source": [
    "y = Function(\"y\")\n",
    "de = Eq(diff(y(t),t) + 5*y(t), t**2)\n",
    "dsolve(de, y(t))"
   ]
  },
  {
   "cell_type": "markdown",
   "id": "7844cb98",
   "metadata": {
    "slideshow": {
     "slide_type": "slide"
    }
   },
   "source": [
    "## Mixed practice\n",
    "\n",
    "At your group, solve the IVP that matches the number of your group: \n",
    "\n",
    "1. $y' + 2y = 2t, \\ y(1) = 0$\n",
    "2. $y' + ty = 10t, \\ y(0) = 5$ \n",
    "3. $y' + \\frac{2}{t}y = e^t, \\ y(1) = 4$ \n",
    "4. $y' = 0.03 - \\frac{2}{100 - t}y, \\ y(0) = 1$ "
   ]
  },
  {
   "cell_type": "markdown",
   "id": "bc6c31fd",
   "metadata": {
    "slideshow": {
     "slide_type": "slide"
    }
   },
   "source": [
    "## Next time\n",
    "\n",
    "- Applications of linear DE's"
   ]
  },
  {
   "cell_type": "markdown",
   "id": "b7b91e7f",
   "metadata": {
    "slideshow": {
     "slide_type": "slide"
    }
   },
   "source": [
    "## Skill Quiz\n",
    "\n",
    "- Third/final appearance of LA.3\n",
    "- Second versions of LA.4 and LA.5\n",
    "- First appearance of LA.6"
   ]
  }
 ],
 "metadata": {
  "celltoolbar": "Slideshow",
  "kernelspec": {
   "display_name": "Python 3 (ipykernel)",
   "language": "python",
   "name": "python3"
  },
  "language_info": {
   "codemirror_mode": {
    "name": "ipython",
    "version": 3
   },
   "file_extension": ".py",
   "mimetype": "text/x-python",
   "name": "python",
   "nbconvert_exporter": "python",
   "pygments_lexer": "ipython3",
   "version": "3.9.12"
  }
 },
 "nbformat": 4,
 "nbformat_minor": 5
}
