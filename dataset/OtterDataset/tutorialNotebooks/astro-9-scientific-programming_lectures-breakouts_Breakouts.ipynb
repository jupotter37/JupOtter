{
 "cells": [
  {
   "cell_type": "markdown",
   "metadata": {},
   "source": [
    "## Breakout:  Error Estimation & Model Selection\n",
    "(From Josh Bloom)\n",
    "\n",
    "**Q**: How will our model perform on future data?\n",
    "\n",
    "So far, we’ve split the data, using one set to train the model and the other to test its performance\n",
    "\n",
    "This train-test strategy avoids over-fitting to the sample on hand, but wastes data & can produce poor error estimates.\n",
    "\n",
    "cf http://scikit-learn.org/stable/tutorial/statistical_inference/model_selection.html\n",
    "\n",
    "### model selection: cross-validation\n",
    "\n",
    "\n",
    "- *K-fold CV* - randomly split the training data into K folds.  For each $k=1,...,K$, train model only on the data not in fold $k$ & predict for data in fold $k$.  Compute performance metric over CV predictions.\n",
    "\n",
    "- *Leave-one-out (LOO) CV* - K-fold CV with  K = number of training points.\n",
    "\n",
    "<img src=\"https://www.evernote.com/l/AUWvg9caKz1OO7opS2Ji3Z7OwOFkLCrg2WsB/image.png\">"
   ]
  },
  {
   "cell_type": "markdown",
   "metadata": {},
   "source": [
    "<img src=\"http://i.stack.imgur.com/YWgro.gif\">"
   ]
  },
  {
   "cell_type": "code",
   "execution_count": null,
   "metadata": {},
   "outputs": [],
   "source": []
  }
 ],
 "metadata": {
  "kernelspec": {
   "display_name": "Python 3",
   "language": "python",
   "name": "python3"
  },
  "language_info": {
   "codemirror_mode": {
    "name": "ipython",
    "version": 3
   },
   "file_extension": ".py",
   "mimetype": "text/x-python",
   "name": "python",
   "nbconvert_exporter": "python",
   "pygments_lexer": "ipython3",
   "version": "3.7.4"
  }
 },
 "nbformat": 4,
 "nbformat_minor": 2
}
