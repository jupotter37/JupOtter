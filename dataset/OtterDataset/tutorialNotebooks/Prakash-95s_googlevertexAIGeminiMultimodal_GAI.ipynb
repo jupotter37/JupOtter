{
  "nbformat": 4,
  "nbformat_minor": 0,
  "metadata": {
    "colab": {
      "provenance": []
    },
    "kernelspec": {
      "name": "python3",
      "display_name": "Python 3"
    },
    "language_info": {
      "name": "python"
    }
  },
  "cells": [
    {
      "cell_type": "code",
      "source": [
        "# Copyright 2024 Google LLC\n",
        "#\n",
        "# Licensed under the Apache License, Version 2.0 (the \"License\");\n",
        "# you may not use this file except in compliance with the License.\n",
        "# You may obtain a copy of the License at\n",
        "#\n",
        "#     https://www.apache.org/licenses/LICENSE-2.0\n",
        "#\n",
        "# Unless required by applicable law or agreed to in writing, software\n",
        "# distributed under the License is distributed on an \"AS IS\" BASIS,\n",
        "# WITHOUT WARRANTIES OR CONDITIONS OF ANY KIND, either express or implied.\n",
        "# See the License for the specific language governing permissions and\n",
        "# limitations under the License."
      ],
      "metadata": {
        "id": "CXGoly8-Stt6"
      },
      "execution_count": null,
      "outputs": []
    },
    {
      "cell_type": "markdown",
      "source": [
        "| | |\n",
        "|-|-|\n",
        "|Author(s) | [Lavi Nigam](https://github.com/lavinigam-gcp) |"
      ],
      "metadata": {
        "id": "ePGfLheMSwPu"
      }
    },
    {
      "cell_type": "markdown",
      "source": [
        "Notebooks:\n",
        "**goo.gle/io24-gemini-api**\n",
        "\n",
        "Google AI Cookbook:\n",
        "**goo.gle/google-ai-cookbook**\n",
        "\n",
        "Vertex AI Cookbook:\n",
        "**goo.gle/vertex-ai-cookbook**"
      ],
      "metadata": {
        "id": "oGKLRGBhTweb"
      }
    },
    {
      "cell_type": "markdown",
      "source": [
        "# Step 1 - Google AI for Developers Gemini API"
      ],
      "metadata": {
        "id": "6RMTXdSRChy4"
      }
    },
    {
      "cell_type": "code",
      "source": [
        "# Library installation\n",
        "! pip install PyPDF2\n",
        "! apt-get install poppler-utils\n",
        "! pip install pdf2image\n",
        "! pip install --upgrade google-generativeai"
      ],
      "metadata": {
        "id": "vOZVZgNJDCfL"
      },
      "execution_count": 2,
      "outputs": []
    },
    {
      "cell_type": "markdown",
      "source": [
        "### Restart current runtime\n",
        "\n",
        "To use the newly installed packages in this Jupyter runtime, you must restart the runtime. You can do this by running the cell below, which will restart the current kernel."
      ],
      "metadata": {
        "id": "u14NMvh9IW7X"
      }
    },
    {
      "cell_type": "code",
      "source": [
        "# Restart kernel after installs so that your environment can access the new packages\n",
        "import IPython\n",
        "import time\n",
        "\n",
        "app = IPython.Application.instance()\n",
        "app.kernel.do_shutdown(True)"
      ],
      "metadata": {
        "id": "MwB_sNJLIXPl",
        "colab": {
          "base_uri": "https://localhost:8080/"
        },
        "outputId": "e06c3d08-ef27-4cff-d41f-619440440c92"
      },
      "execution_count": 3,
      "outputs": [
        {
          "output_type": "execute_result",
          "data": {
            "text/plain": [
              "{'status': 'ok', 'restart': True}"
            ]
          },
          "metadata": {},
          "execution_count": 3
        }
      ]
    },
    {
      "cell_type": "markdown",
      "source": [
        "<div class=\"alert alert-block alert-warning\">\n",
        "<b>⚠️ The kernel is going to restart. Please wait until it is finished before continuing to the next step. ⚠️</b>\n",
        "</div>\n",
        "\n"
      ],
      "metadata": {
        "id": "LalBh68NIa7U"
      }
    },
    {
      "cell_type": "code",
      "source": [
        "# Downloading data from Google Drive\n",
        "!gdown --folder https://drive.google.com/drive/folders/1RfMScB0Y1LUQdW5tvjyYA4_D21H5HMaT?usp=sharing -O /content/data/\n",
        "print(\"Download completed\")"
      ],
      "metadata": {
        "id": "zf8iEWfYBc8r",
        "colab": {
          "base_uri": "https://localhost:8080/"
        },
        "outputId": "887926cb-b5c0-4fdf-89ee-f761a1ff2f8c"
      },
      "execution_count": null,
      "outputs": [
        {
          "output_type": "stream",
          "name": "stdout",
          "text": [
            "Download completed\n"
          ]
        }
      ]
    },
    {
      "cell_type": "code",
      "source": [
        "# Library\n",
        "from IPython.display import display, Markdown, Latex\n",
        "import google.generativeai as genai\n",
        "import PyPDF2\n",
        "from rich import print as rich_print\n",
        "from rich.markdown import Markdown as rich_Markdown\n",
        "import textwrap"
      ],
      "metadata": {
        "id": "tczKqvnjMSyA"
      },
      "execution_count": 1,
      "outputs": []
    },
    {
      "cell_type": "code",
      "execution_count": 2,
      "metadata": {
        "id": "JNDLW6CNA7dY"
      },
      "outputs": [],
      "source": [
        "# Authentication\n",
        "from google.colab import userdata\n",
        "genai.configure(api_key=userdata.get('api_key'))"
      ]
    },
    {
      "cell_type": "markdown",
      "source": [
        "**[Gemini 1.5 Flash](https://ai.google.dev/gemini-api/docs/models/gemini#gemini-1.5-flash)**\n",
        "\n",
        "\n",
        "![](https://storage.googleapis.com/github-repo/io24/gemini-api-session/img/model_1.png)"
      ],
      "metadata": {
        "id": "8f9EvGfkNxak"
      }
    },
    {
      "cell_type": "markdown",
      "source": [
        "**RPM:** Requests per minute\n",
        "\n",
        "**TPM:** Tokens per minute\n",
        "\n",
        "**RPD:** Requests per day\n",
        "\n",
        "**TPD:** Tokens per day"
      ],
      "metadata": {
        "id": "yADtno_LOWhn"
      }
    },
    {
      "cell_type": "markdown",
      "source": [
        "**[Gemini 1.5 Pro](https://ai.google.dev/gemini-api/docs/models/gemini#gemini-1.5-pro)**\n",
        "\n",
        "![](https://storage.googleapis.com/github-repo/io24/gemini-api-session/img/model_2.png)"
      ],
      "metadata": {
        "id": "eBjPJAIxN08M"
      }
    },
    {
      "cell_type": "markdown",
      "source": [
        "Gemini models are available in either preview or stable versions. In your code, you can use one of the following model name formats to specify which model and version you want to use.\n",
        "\n",
        "* **Latest:** Points to the cutting-edge version of the model for a specified generation and variation. The underlying model is updated regularly and might be a preview version. Only exploratory testing apps and prototypes should use this alias.\n",
        "\n",
        "    To specify the latest version, use the following pattern: `<model>-<generation>-<variation>-latest`. For example, `gemini-1.5-pro-latest`.\n",
        "\n",
        "* **Latest stable:** Points to the most recent stable version released for the specified model generation and variation.\n",
        "\n",
        "    To specify the latest stable version, use the following pattern: `<model>-<generation>-<variation>`. For example, `gemini-1.5-pro`.\n",
        "\n",
        "* **Stable:** Points to a specific stable model. Stable models don't change. Most production apps should use a specific stable model.\n",
        "\n",
        "    To specify a stable version, use the following pattern: `<model>-<generation>-<variation>-<version>`. For example, `gemini-1.5-pro-001`.\n",
        "\n",
        "[More detail](https://ai.google.dev/gemini-api/docs/models/gemini#model-versions)\n",
        "\n",
        "\n",
        "Gemini models are trained to work with the following languages: [Link](https://ai.google.dev/gemini-api/docs/models/gemini#available-languages)"
      ],
      "metadata": {
        "id": "WDHoCSNHH8nW"
      }
    },
    {
      "cell_type": "code",
      "source": [
        "for m in genai.list_models():\n",
        "  if 'generateContent' in m.supported_generation_methods:\n",
        "    print(m.name)"
      ],
      "metadata": {
        "colab": {
          "base_uri": "https://localhost:8080/",
          "height": 231
        },
        "id": "Utwm_nGlJLty",
        "outputId": "f566d8e5-75e7-4fad-eae2-ec6f1f19f3a7"
      },
      "execution_count": null,
      "outputs": [
        {
          "output_type": "stream",
          "name": "stdout",
          "text": [
            "models/gemini-1.0-pro\n",
            "models/gemini-1.0-pro-001\n",
            "models/gemini-1.0-pro-latest\n",
            "models/gemini-1.0-pro-vision-latest\n",
            "models/gemini-1.5-flash\n",
            "models/gemini-1.5-flash-001\n",
            "models/gemini-1.5-flash-latest\n",
            "models/gemini-1.5-pro\n",
            "models/gemini-1.5-pro-001\n",
            "models/gemini-1.5-pro-latest\n",
            "models/gemini-pro\n",
            "models/gemini-pro-vision\n"
          ]
        }
      ]
    },
    {
      "cell_type": "markdown",
      "source": [
        "Here is the list of currently available models: [Link](https://ai.google.dev/gemini-api/docs/models/gemini#model-variations)"
      ],
      "metadata": {
        "id": "t4qWBsHbJifD"
      }
    },
    {
      "cell_type": "markdown",
      "source": [
        "<div class=\"alert alert-block alert-warning\">\n",
        "<b>⚠️ A token is equivalent to about 4 characters for Gemini models. 100 tokens are about 60-80 English words. ⚠️</b>\n",
        "</div>\n"
      ],
      "metadata": {
        "id": "kGWYVHyLJwbp"
      }
    },
    {
      "cell_type": "code",
      "source": [
        "def to_markdown(text):\n",
        "  text = text.replace('•', '  *')\n",
        "  return Markdown(textwrap.indent(text, '> ', predicate=lambda _: True))"
      ],
      "metadata": {
        "id": "XLnk0ekBZ37Q"
      },
      "execution_count": null,
      "outputs": []
    },
    {
      "cell_type": "markdown",
      "source": [
        "### API"
      ],
      "metadata": {
        "id": "vPMfjaaqSD99"
      }
    },
    {
      "cell_type": "markdown",
      "source": [
        "#### Basic Usage"
      ],
      "metadata": {
        "id": "kkdUthQLSLCx"
      }
    },
    {
      "cell_type": "code",
      "source": [
        "# Set up the model\n",
        "# Learn more about the API: https://ai.google.dev/gemini-api/docs/get-started/tutorial?lang=python\n",
        "# More details about the models: https://ai.google.dev/gemini-api/docs/models/gemini\n",
        "\n",
        "from google.generativeai.types import HarmCategory, HarmBlockThreshold, GenerationConfig\n",
        "\n",
        "generation_config = GenerationConfig(\n",
        "    temperature=1,\n",
        "    max_output_tokens=8192,\n",
        ")\n",
        "\n",
        "# Explore more about safety settings: https://ai.google.dev/gemini-api/docs/safety-settings\n",
        "# Explore Gemini's Safety guidance: https://ai.google.dev/gemini-api/docs/safety-guidance\n",
        "safety_settings = {\n",
        "    HarmCategory.HARM_CATEGORY_HARASSMENT: HarmBlockThreshold.BLOCK_MEDIUM_AND_ABOVE,\n",
        "    HarmCategory.HARM_CATEGORY_HATE_SPEECH: HarmBlockThreshold.BLOCK_MEDIUM_AND_ABOVE,\n",
        "    HarmCategory.HARM_CATEGORY_SEXUALLY_EXPLICIT: HarmBlockThreshold.BLOCK_MEDIUM_AND_ABOVE,\n",
        "    HarmCategory.HARM_CATEGORY_DANGEROUS_CONTENT: HarmBlockThreshold.BLOCK_MEDIUM_AND_ABOVE,\n",
        "}\n",
        "\n",
        "# works with text, code, images, video(with or without audio) and audio(mp3) with 2M input context - complex reasoning\n",
        "model = genai.GenerativeModel(model_name=\"gemini-1.5-pro-001\",  # using stable (not latest)\n",
        "                              generation_config=generation_config,\n",
        "                              safety_settings=safety_settings)\n",
        "\n",
        "# works with text, code, images, video(with or without audio) and audio(mp3) with 1M input context - faster inference\n",
        "model_flash = genai.GenerativeModel(model_name=\"gemini-1.5-flash-001\", # using stable (not latest)\n",
        "                              generation_config=generation_config,\n",
        "                              safety_settings=safety_settings)"
      ],
      "metadata": {
        "id": "KhTx4pNbLre7"
      },
      "execution_count": null,
      "outputs": []
    },
    {
      "cell_type": "markdown",
      "source": [
        "explore more examples of what's possible with Gemini: [Link](https://ai.google.dev/examples)"
      ],
      "metadata": {
        "id": "H-1M0RXZMrUC"
      }
    },
    {
      "cell_type": "code",
      "source": [
        "%%time\n",
        "\n",
        "response = model.generate_content(\"What is the meaning of life?\")"
      ],
      "metadata": {
        "colab": {
          "base_uri": "https://localhost:8080/",
          "height": 53
        },
        "id": "7VRmEUSkZolY",
        "outputId": "620dd463-f4bb-414e-bfd4-f5e38c175afa"
      },
      "execution_count": null,
      "outputs": [
        {
          "output_type": "stream",
          "name": "stdout",
          "text": [
            "CPU times: user 150 ms, sys: 18.5 ms, total: 168 ms\n",
            "Wall time: 11.4 s\n"
          ]
        }
      ]
    },
    {
      "cell_type": "code",
      "source": [
        "to_markdown(response.text)"
      ],
      "metadata": {
        "colab": {
          "base_uri": "https://localhost:8080/",
          "height": 411
        },
        "id": "vFF7Py0DaBmD",
        "outputId": "b18d45a1-479b-48da-85d5-e8ce8cf2989f"
      },
      "execution_count": null,
      "outputs": [
        {
          "output_type": "execute_result",
          "data": {
            "text/plain": [
              "<IPython.core.display.Markdown object>"
            ],
            "text/markdown": "> The meaning of life is a question that has been pondered by philosophers and theologians for centuries. There is no one answer that will satisfy everyone, as the meaning of life is a deeply personal and individual question. \n> \n> Here are some perspectives to consider:\n> \n> * **Intrinsic meaning:** Some believe that life itself is inherently meaningful, regardless of external factors. This meaning might come from the experience of existence, the pursuit of knowledge, or the simple act of living.\n> * **Extrinsic meaning:** Others find meaning in something outside themselves, such as religion, relationships, work, or a cause they believe in. These external factors provide a sense of purpose and direction.\n> * **Creative meaning:** Some people find meaning in creating things, whether it be art, music, writing, or even building a business. The act of creation can be deeply fulfilling and provide a sense of accomplishment.\n> * **Nihilism:** This perspective argues that life is inherently meaningless and that there is no objective purpose to our existence. While seemingly bleak, it can also be liberating, allowing individuals to create their own subjective meaning.\n> * **Absurdism:**  This view acknowledges the human desire for meaning and the universe's indifference to it. It encourages embracing this absurdity and finding joy in the present moment.\n> \n> Ultimately, the meaning of life is what you make it. It's a journey of exploration and discovery, and the answers you find will likely evolve over time.  \n> \n> Instead of searching for a definitive answer, you might consider asking yourself:\n> \n> * What brings me joy and fulfillment? \n> * What impact do I want to have on the world?\n> * What values do I want to live by? \n> \n> By exploring these questions, you can begin to define your own personal meaning of life. \n"
          },
          "metadata": {},
          "execution_count": 11
        }
      ]
    },
    {
      "cell_type": "code",
      "source": [
        "%%time\n",
        "\n",
        "response = model_flash.generate_content(\"What is the meaning of life?\")"
      ],
      "metadata": {
        "colab": {
          "base_uri": "https://localhost:8080/",
          "height": 53
        },
        "id": "1qKaQSYOZtIe",
        "outputId": "33b9a93b-f38c-48e3-8bcb-158bfa3b7a12"
      },
      "execution_count": null,
      "outputs": [
        {
          "output_type": "stream",
          "name": "stdout",
          "text": [
            "CPU times: user 89.3 ms, sys: 12.9 ms, total: 102 ms\n",
            "Wall time: 6.43 s\n"
          ]
        }
      ]
    },
    {
      "cell_type": "code",
      "source": [
        "to_markdown(response.text)"
      ],
      "metadata": {
        "colab": {
          "base_uri": "https://localhost:8080/",
          "height": 493
        },
        "id": "JRqO6jZxaDb_",
        "outputId": "839e64fe-c789-478d-852e-3ae765a59e86"
      },
      "execution_count": null,
      "outputs": [
        {
          "output_type": "execute_result",
          "data": {
            "text/plain": [
              "<IPython.core.display.Markdown object>"
            ],
            "text/markdown": "> The meaning of life is a question that has been pondered by philosophers and individuals for centuries. There is no single, universally accepted answer, as the meaning is deeply personal and subjective. \n> \n> However, here are some common perspectives:\n> \n> **Existentialism:** Emphasizes individual freedom and responsibility. It suggests that life has no inherent meaning, and individuals must create their own meaning through their choices and actions.\n> \n> **Nihilism:**  Believes that life is meaningless and purposeless. It emphasizes the absurdity and futility of existence.\n> \n> **Absurdism:**  Accepts the absurdity of life but encourages individuals to embrace it and find meaning in the face of meaninglessness.\n> \n> **Religious and Spiritual Beliefs:** Many religions and spiritual practices offer a framework for understanding the meaning of life. They often focus on concepts like serving a higher power, achieving enlightenment, or fulfilling a divine purpose.\n> \n> **Humanism:**  Focuses on human values, reason, and ethics. It suggests that meaning can be found in human relationships, creativity, and contributions to society.\n> \n> **Hedonism:**  Emphasizes the pursuit of pleasure and happiness as the ultimate goal of life.\n> \n> **Stoicism:**  Encourages individuals to accept what they cannot control and focus on what they can. It emphasizes virtue, reason, and living in accordance with nature.\n> \n> **Other Perspectives:** \n> * **Finding happiness and fulfillment:** Many people find meaning in pursuing happiness, personal growth, and fulfillment in their lives.\n> * **Leaving a positive impact:** Some believe that finding meaning involves contributing to the world in a positive way, through acts of kindness, service, or creativity.\n> * **Experiencing life:** Others find meaning in simply experiencing life to the fullest, embracing its joys and sorrows, and appreciating its complexities.\n> \n> Ultimately, the meaning of life is a personal journey of discovery. It's a question that each individual must answer for themselves. There is no right or wrong answer, and the meaning of life can evolve and change over time. \n"
          },
          "metadata": {},
          "execution_count": 13
        }
      ]
    },
    {
      "cell_type": "code",
      "source": [
        "response.candidates"
      ],
      "metadata": {
        "colab": {
          "base_uri": "https://localhost:8080/"
        },
        "id": "sE23I8-baJ5w",
        "outputId": "2410262c-39cd-45c3-fe80-2eaed664a7bf"
      },
      "execution_count": null,
      "outputs": [
        {
          "output_type": "execute_result",
          "data": {
            "text/plain": [
              "[content {\n",
              "  parts {\n",
              "    text: \"The meaning of life is a question that has been pondered by philosophers and individuals for centuries. There is no single, universally accepted answer, as the meaning is deeply personal and subjective. \\n\\nHowever, here are some common perspectives:\\n\\n**Existentialism:** Emphasizes individual freedom and responsibility. It suggests that life has no inherent meaning, and individuals must create their own meaning through their choices and actions.\\n\\n**Nihilism:**  Believes that life is meaningless and purposeless. It emphasizes the absurdity and futility of existence.\\n\\n**Absurdism:**  Accepts the absurdity of life but encourages individuals to embrace it and find meaning in the face of meaninglessness.\\n\\n**Religious and Spiritual Beliefs:** Many religions and spiritual practices offer a framework for understanding the meaning of life. They often focus on concepts like serving a higher power, achieving enlightenment, or fulfilling a divine purpose.\\n\\n**Humanism:**  Focuses on human values, reason, and ethics. It suggests that meaning can be found in human relationships, creativity, and contributions to society.\\n\\n**Hedonism:**  Emphasizes the pursuit of pleasure and happiness as the ultimate goal of life.\\n\\n**Stoicism:**  Encourages individuals to accept what they cannot control and focus on what they can. It emphasizes virtue, reason, and living in accordance with nature.\\n\\n**Other Perspectives:** \\n* **Finding happiness and fulfillment:** Many people find meaning in pursuing happiness, personal growth, and fulfillment in their lives.\\n* **Leaving a positive impact:** Some believe that finding meaning involves contributing to the world in a positive way, through acts of kindness, service, or creativity.\\n* **Experiencing life:** Others find meaning in simply experiencing life to the fullest, embracing its joys and sorrows, and appreciating its complexities.\\n\\nUltimately, the meaning of life is a personal journey of discovery. It\\'s a question that each individual must answer for themselves. There is no right or wrong answer, and the meaning of life can evolve and change over time. \\n\"\n",
              "  }\n",
              "  role: \"model\"\n",
              "}\n",
              "finish_reason: STOP\n",
              "index: 0\n",
              "safety_ratings {\n",
              "  category: HARM_CATEGORY_SEXUALLY_EXPLICIT\n",
              "  probability: NEGLIGIBLE\n",
              "}\n",
              "safety_ratings {\n",
              "  category: HARM_CATEGORY_HATE_SPEECH\n",
              "  probability: NEGLIGIBLE\n",
              "}\n",
              "safety_ratings {\n",
              "  category: HARM_CATEGORY_HARASSMENT\n",
              "  probability: NEGLIGIBLE\n",
              "}\n",
              "safety_ratings {\n",
              "  category: HARM_CATEGORY_DANGEROUS_CONTENT\n",
              "  probability: NEGLIGIBLE\n",
              "}\n",
              "]"
            ]
          },
          "metadata": {},
          "execution_count": 14
        }
      ]
    },
    {
      "cell_type": "markdown",
      "source": [
        "Explore API Troubleshooting and API errors here: [Link](https://ai.google.dev/gemini-api/docs/troubleshooting)"
      ],
      "metadata": {
        "id": "t51JfVTuNDYx"
      }
    },
    {
      "cell_type": "markdown",
      "source": [
        "#### Streaming"
      ],
      "metadata": {
        "id": "ahqKlqo0SNon"
      }
    },
    {
      "cell_type": "code",
      "source": [
        "%%time\n",
        "response = model_flash.generate_content(\"What is the meaning of life?\", stream=True)"
      ],
      "metadata": {
        "colab": {
          "base_uri": "https://localhost:8080/",
          "height": 53
        },
        "id": "6JCEHzwwabRc",
        "outputId": "e40f70c3-b10a-4f2f-da98-f0c444a9ae8e"
      },
      "execution_count": null,
      "outputs": [
        {
          "output_type": "stream",
          "name": "stdout",
          "text": [
            "CPU times: user 86.9 ms, sys: 2.54 ms, total: 89.5 ms\n",
            "Wall time: 5.78 s\n"
          ]
        }
      ]
    },
    {
      "cell_type": "code",
      "source": [
        "for chunk in response:\n",
        "  print(chunk.text)\n",
        "  print(\"_\"*80)"
      ],
      "metadata": {
        "colab": {
          "base_uri": "https://localhost:8080/"
        },
        "id": "sYxFBoTBad0R",
        "outputId": "92670498-81b0-484e-b2c0-1923679cdfc2"
      },
      "execution_count": null,
      "outputs": [
        {
          "output_type": "stream",
          "name": "stdout",
          "text": [
            "The\n",
            "________________________________________________________________________________\n",
            " meaning of life is a question that has been pondered by philosophers and theologians for centuries\n",
            "________________________________________________________________________________\n",
            ", and there is no single, universally accepted answer.  It's a\n",
            "________________________________________________________________________________\n",
            " highly personal question, and the meaning you find may be different from what others find.\n",
            "\n",
            "Here are some perspectives:\n",
            "\n",
            "* **Existentialism:** This philosophical\n",
            "________________________________________________________________________________\n",
            " movement emphasizes individual freedom and responsibility. The meaning of life is not predetermined but created by our choices and actions. We are free to define our own purpose and values\n",
            "________________________________________________________________________________\n",
            ".\n",
            "* **Nihilism:** This philosophy suggests that life is inherently meaningless and without purpose. There is no inherent value or objective truth.\n",
            "* **Religion and Spirituality:** Many religions and spiritual traditions offer a framework for understanding the meaning\n",
            "________________________________________________________________________________\n",
            " of life. They may emphasize concepts such as divine purpose, serving a higher power, or achieving enlightenment.\n",
            "* **Humanism:** This philosophy focuses on human values, reason, and ethics. It emphasizes the importance of human flourishing, compassion\n",
            "________________________________________________________________________________\n",
            ", and contributing to the well-being of others.\n",
            "* **Personal Meaning:** You can find meaning in your own life through your relationships, passions, experiences, and contributions to the world. This could involve pursuing your dreams, making a difference in your community, or simply enjoying the beauty and wonder of life.\n",
            "\n",
            "\n",
            "________________________________________________________________________________\n",
            "Ultimately, the meaning of life is a question for each individual to answer for themselves. It's a journey of self-discovery and exploration, and the answer may evolve over time.\n",
            "\n",
            "Instead of focusing on a single \"right\" answer, perhaps it's more useful to consider:\n",
            "\n",
            "* **What brings you\n",
            "________________________________________________________________________________\n",
            " joy and fulfillment?**\n",
            "* **What are your values and priorities?**\n",
            "* **How do you want to make a difference in the world?**\n",
            "\n",
            "By reflecting on these questions, you can start to create your own personal meaning and purpose in life.\n",
            "\n",
            "________________________________________________________________________________\n"
          ]
        }
      ]
    },
    {
      "cell_type": "code",
      "source": [
        "response"
      ],
      "metadata": {
        "colab": {
          "base_uri": "https://localhost:8080/"
        },
        "id": "vd2fd-dUap-d",
        "outputId": "cad03576-be6a-4c62-91c0-d7bf3c2f98bc"
      },
      "execution_count": null,
      "outputs": [
        {
          "output_type": "execute_result",
          "data": {
            "text/plain": [
              "response:\n",
              "GenerateContentResponse(\n",
              "    done=True,\n",
              "    iterator=None,\n",
              "    result=protos.GenerateContentResponse({\n",
              "      \"candidates\": [\n",
              "        {\n",
              "          \"content\": {\n",
              "            \"parts\": [\n",
              "              {\n",
              "                \"text\": \"The meaning of life is a question that has been pondered by philosophers and theologians for centuries, and there is no single, universally accepted answer.  It's a highly personal question, and the meaning you find may be different from what others find.\\n\\nHere are some perspectives:\\n\\n* **Existentialism:** This philosophical movement emphasizes individual freedom and responsibility. The meaning of life is not predetermined but created by our choices and actions. We are free to define our own purpose and values.\\n* **Nihilism:** This philosophy suggests that life is inherently meaningless and without purpose. There is no inherent value or objective truth.\\n* **Religion and Spirituality:** Many religions and spiritual traditions offer a framework for understanding the meaning of life. They may emphasize concepts such as divine purpose, serving a higher power, or achieving enlightenment.\\n* **Humanism:** This philosophy focuses on human values, reason, and ethics. It emphasizes the importance of human flourishing, compassion, and contributing to the well-being of others.\\n* **Personal Meaning:** You can find meaning in your own life through your relationships, passions, experiences, and contributions to the world. This could involve pursuing your dreams, making a difference in your community, or simply enjoying the beauty and wonder of life.\\n\\nUltimately, the meaning of life is a question for each individual to answer for themselves. It's a journey of self-discovery and exploration, and the answer may evolve over time.\\n\\nInstead of focusing on a single \\\"right\\\" answer, perhaps it's more useful to consider:\\n\\n* **What brings you joy and fulfillment?**\\n* **What are your values and priorities?**\\n* **How do you want to make a difference in the world?**\\n\\nBy reflecting on these questions, you can start to create your own personal meaning and purpose in life.\\n\"\n",
              "              }\n",
              "            ],\n",
              "            \"role\": \"model\"\n",
              "          },\n",
              "          \"finish_reason\": \"STOP\",\n",
              "          \"index\": 0,\n",
              "          \"safety_ratings\": [\n",
              "            {\n",
              "              \"category\": \"HARM_CATEGORY_SEXUALLY_EXPLICIT\",\n",
              "              \"probability\": \"NEGLIGIBLE\"\n",
              "            },\n",
              "            {\n",
              "              \"category\": \"HARM_CATEGORY_HATE_SPEECH\",\n",
              "              \"probability\": \"NEGLIGIBLE\"\n",
              "            },\n",
              "            {\n",
              "              \"category\": \"HARM_CATEGORY_HARASSMENT\",\n",
              "              \"probability\": \"NEGLIGIBLE\"\n",
              "            },\n",
              "            {\n",
              "              \"category\": \"HARM_CATEGORY_DANGEROUS_CONTENT\",\n",
              "              \"probability\": \"NEGLIGIBLE\"\n",
              "            }\n",
              "          ],\n",
              "          \"citation_metadata\": {}\n",
              "        }\n",
              "      ],\n",
              "      \"prompt_feedback\": {},\n",
              "      \"usage_metadata\": {\n",
              "        \"prompt_token_count\": 8,\n",
              "        \"candidates_token_count\": 373,\n",
              "        \"total_token_count\": 381\n",
              "      }\n",
              "    }),\n",
              ")"
            ]
          },
          "metadata": {},
          "execution_count": 17
        }
      ]
    },
    {
      "cell_type": "markdown",
      "source": [
        "#### Token Count"
      ],
      "metadata": {
        "id": "rZxtjtuOSQHq"
      }
    },
    {
      "cell_type": "code",
      "source": [
        "model = genai.GenerativeModel('models/gemini-1.5-flash')\n",
        "prompt = \"What is life?\"\n",
        "response = model.generate_content(prompt)\n",
        "\n",
        "\n",
        "print(\"count before response generation: \", model.count_tokens(prompt))\n",
        "print(\"\\nResponse: \",response.text)\n",
        "print(\"\\n Usage Metadata:\\n\",response.usage_metadata)"
      ],
      "metadata": {
        "colab": {
          "base_uri": "https://localhost:8080/",
          "height": 678
        },
        "id": "WH9_tF8TrwoD",
        "outputId": "bf4ca8c2-2e88-4ca7-bdcb-50f21ca09ede"
      },
      "execution_count": null,
      "outputs": [
        {
          "output_type": "stream",
          "name": "stdout",
          "text": [
            "count before response generation:  total_tokens: 4\n",
            "\n",
            "\n",
            "Response:  That's a question philosophers have pondered for centuries! There's no single, universally accepted answer, but here are some perspectives:\n",
            "\n",
            "**Scientific perspective:**\n",
            "\n",
            "* **Biological definition:**  Life is characterized by a set of shared properties: organization, metabolism, growth, adaptation, response to stimuli, reproduction, and homeostasis.\n",
            "* **Physical definition:** Life is a complex system of chemical reactions that maintains itself and can reproduce.\n",
            "* **Information processing:** Some argue that life is fundamentally about information processing and replication.\n",
            "\n",
            "**Philosophical perspective:**\n",
            "\n",
            "* **Existentialism:**  Life is what you make it. It's about creating meaning and purpose in a world that is ultimately meaningless.\n",
            "* **Spiritualism:**  Life is a journey of the soul, connected to a higher power or force.\n",
            "* **Materialism:**  Life is a product of matter and energy, with no inherent meaning or purpose.\n",
            "\n",
            "**Personal perspective:**\n",
            "\n",
            "Ultimately, the meaning of life is a deeply personal question. It's about what brings you joy, fulfillment, and connection. It's about the experiences you have, the relationships you build, and the legacy you leave behind.\n",
            "\n",
            "Here are some things to consider:\n",
            "\n",
            "* **What makes you feel alive?**\n",
            "* **What are your values and beliefs?**\n",
            "* **What do you want to accomplish in your life?**\n",
            "* **What is your purpose?**\n",
            "\n",
            "There's no right or wrong answer to the question of what life is. It's a journey of discovery and exploration, and the meaning we find is often unique to each individual. \n",
            "\n",
            "\n",
            " Usage Metadata:\n",
            " prompt_token_count: 5\n",
            "candidates_token_count: 332\n",
            "total_token_count: 337\n",
            "\n"
          ]
        }
      ]
    },
    {
      "cell_type": "markdown",
      "source": [
        "## Testing Hypothesis"
      ],
      "metadata": {
        "id": "dIfrzDVDuJ7z"
      }
    },
    {
      "cell_type": "markdown",
      "source": [
        "### PDF (Extracted Text)"
      ],
      "metadata": {
        "id": "YD5CkSMcbfAB"
      }
    },
    {
      "cell_type": "code",
      "source": [
        "#@title Helper Functions\n",
        "## Helper Function\n",
        "\n",
        "def pdf_to_dict_str(file_path):\n",
        "    \"\"\"Reads a PDF file and returns a dictionary with page numbers as keys and page text as values.\"\"\"\n",
        "\n",
        "    with open(file_path, 'rb') as pdf_file:\n",
        "        pdf_reader = PyPDF2.PdfReader(pdf_file)\n",
        "        num_pages = len(pdf_reader.pages)\n",
        "\n",
        "        page_dict = {}\n",
        "        for page_num in range(num_pages):\n",
        "            page = pdf_reader.pages[page_num]\n",
        "            page_text = page.extract_text()\n",
        "            page_dict[page_num + 1] = page_text  # Page numbers start from 1\n",
        "\n",
        "        return str(page_dict)"
      ],
      "metadata": {
        "id": "pwql88iWbcF4"
      },
      "execution_count": null,
      "outputs": []
    },
    {
      "cell_type": "markdown",
      "source": [
        "Source File: [Link](https://drive.google.com/file/d/1GXGfwoe8-vsoOM1E8SBOCybc7R5XRd2P/view?usp=drive_link) ~18 pages"
      ],
      "metadata": {
        "id": "iGyeGIvTQlH2"
      }
    },
    {
      "cell_type": "code",
      "source": [
        "# read through each page and extracts the text and saves in the dictionary as {1:\"context of page 1\"}, 2:\"context of page 2\"}, .... }\n",
        "pdf_context = pdf_to_dict_str('/content/data/Idea/stage_1_prototype_Google Cloud TPU blog.pdf')"
      ],
      "metadata": {
        "id": "12nb9ynPGVYp"
      },
      "execution_count": null,
      "outputs": []
    },
    {
      "cell_type": "code",
      "source": [
        "pdf_context[:100] #The whole dict is converted to strings so as to pass as context in the model"
      ],
      "metadata": {
        "colab": {
          "base_uri": "https://localhost:8080/",
          "height": 35
        },
        "id": "sD005zOoGt-F",
        "outputId": "486a0d4e-2e0a-4152-f006-8c2cf3fafea5"
      },
      "execution_count": null,
      "outputs": [
        {
          "output_type": "execute_result",
          "data": {
            "text/plain": [
              "\"{1: 'Google\\\\nCloud\\\\ndemonstrates\\\\nthe\\\\nworld’ s\\\\nlargest\\\\ndistributed\\\\ntraining\\\\njob\\\\nfor\\\\nlarge\\\\nla\""
            ],
            "application/vnd.google.colaboratory.intrinsic+json": {
              "type": "string"
            }
          },
          "metadata": {},
          "execution_count": 23
        }
      ]
    },
    {
      "cell_type": "code",
      "source": [
        "rich_Markdown(eval(pdf_context)[1]) # Page 1 #use eval to convert string to dict object"
      ],
      "metadata": {
        "colab": {
          "base_uri": "https://localhost:8080/",
          "height": 82
        },
        "id": "aL8Tt-8LGfd4",
        "outputId": "8821d7e9-5425-4cdb-a9bf-d89fa717d51b"
      },
      "execution_count": null,
      "outputs": [
        {
          "output_type": "execute_result",
          "data": {
            "text/plain": [
              "Google Cloud demonstrates the world’ s largest distributed training job for large language models across 50000+ TPU\n",
              "v5e chips November 9, 2023 Rajesh Anantharaman Product Management Lead, Cloud TPU With the boom in generative AI,  \n",
              "the size of foundational large language models (LLMs) has grown exponentially , utilizing hundreds of billions of  \n",
              "parameters and trillions of training tokens.                                                                       \n"
            ],
            "text/html": [
              "<pre style=\"white-space:pre;overflow-x:auto;line-height:normal;font-family:Menlo,'DejaVu Sans Mono',consolas,'Courier New',monospace\">Google Cloud demonstrates the world’ s largest distributed training job for large language models across 50000+ TPU\n",
              "v5e chips November 9, 2023 Rajesh Anantharaman Product Management Lead, Cloud TPU With the boom in generative AI,  \n",
              "the size of foundational large language models (LLMs) has grown exponentially , utilizing hundreds of billions of  \n",
              "parameters and trillions of training tokens.                                                                       \n",
              "</pre>\n"
            ]
          },
          "metadata": {},
          "execution_count": 24
        }
      ]
    },
    {
      "cell_type": "code",
      "source": [
        "%%time\n",
        "\n",
        "prompt_parts = [\n",
        "  pdf_context,\n",
        "  \"What are key achievement for Google Cloud from the following blog. Mention in bullet.\",\n",
        "]\n",
        "\n",
        "print(model.count_tokens(prompt_parts))\n",
        "response = model.generate_content(prompt_parts)\n",
        "print(\"\\n Usage Metadata:\\n\",response.usage_metadata)\n",
        "rich_Markdown(response.text)"
      ],
      "metadata": {
        "id": "ZzDM8-fhDa5x",
        "colab": {
          "base_uri": "https://localhost:8080/",
          "height": 555
        },
        "outputId": "48ddfd11-4b40-4f6f-b507-7c7b3a953093"
      },
      "execution_count": null,
      "outputs": [
        {
          "output_type": "stream",
          "name": "stdout",
          "text": [
            "total_tokens: 7523\n",
            "\n",
            "\n",
            " Usage Metadata:\n",
            " prompt_token_count: 7524\n",
            "candidates_token_count: 365\n",
            "total_token_count: 7889\n",
            "\n",
            "CPU times: user 414 ms, sys: 16.6 ms, total: 431 ms\n",
            "Wall time: 7.06 s\n"
          ]
        },
        {
          "output_type": "execute_result",
          "data": {
            "text/plain": [
              "Here are the key achievements highlighted in the blog, focusing on Google Cloud's accomplishments:                 \n",
              "\n",
              "\u001b[1;33m • \u001b[0m\u001b[1mWorld's Largest Distributed LLM Training Job:\u001b[0m Google Cloud achieved the largest publicly disclosed LLM training \n",
              "\u001b[1;33m   \u001b[0mjob, utilizing over 50,000 TPU v5e chips. This demonstrates their leadership in providing infrastructure and    \n",
              "\u001b[1;33m   \u001b[0msoftware for massive AI workloads.                                                                              \n",
              "\u001b[1;33m • \u001b[0m\u001b[1mCloud TPU Multislice Training:\u001b[0m  Google Cloud introduced Multislice Training, a full-stack training offering     \n",
              "\u001b[1;33m   \u001b[0mdesigned for scalability, reliability, and ease of use. It addresses key challenges in orchestrating, compiling,\n",
              "\u001b[1;33m   \u001b[0mand optimizing large-scale distributed training.                                                                \n",
              "\u001b[1;33m • \u001b[0m\u001b[1mScalable and Robust Orchestration:\u001b[0m Multislice Training enables users to scale LLM training across tens of       \n",
              "\u001b[1;33m   \u001b[0mthousands of TPU chips reliably, with fault tolerance throughout the workflow.                                  \n",
              "\u001b[1;33m • \u001b[0m\u001b[1mPerformant Compilation:\u001b[0m Multislice Training leverages the XLA compiler for efficient management of compute and  \n",
              "\u001b[1;33m   \u001b[0mcommunication, maximizing performance and efficiency.                                                           \n",
              "\u001b[1;33m • \u001b[0m\u001b[1mFlexible Stack for End-to-End Training:\u001b[0m Multislice Training provides support for popular ML frameworks like JAX \n",
              "\u001b[1;33m   \u001b[0mand PyTorch, simplifying the training process for developers.                                                   \n",
              "\u001b[1;33m • \u001b[0m\u001b[1mOpen-Sourcing Key Components:\u001b[0m  Google Cloud open-sourced several critical components of their Multislice        \n",
              "\u001b[1;33m   \u001b[0mTraining stack, including XPK, MaxText, AQT, and XLA, fostering collaboration and advancement within the broader\n",
              "\u001b[1;33m   \u001b[0mAI/ML community.                                                                                                \n",
              "\u001b[1;33m • \u001b[0m\u001b[1mImpressive Scaling Efficiency:\u001b[0m Google Cloud demonstrated excellent scaling efficiency with their LLM training   \n",
              "\u001b[1;33m   \u001b[0mjob, achieving impressive Model FLOPs Utilization (MFU) and Effective Model FLOPs Utilization (EMFU) metrics.   \n",
              "\u001b[1;33m • \u001b[0m\u001b[1mContinuous Improvement:\u001b[0m Google Cloud emphasizes ongoing efforts to further improve their software stack and push\n",
              "\u001b[1;33m   \u001b[0mthe boundaries of LLM training at scale. They are working on optimizing scheduling, compilation, and exploring  \n",
              "\u001b[1;33m   \u001b[0mscalable solutions for even greater performance.                                                                \n"
            ],
            "text/html": [
              "<pre style=\"white-space:pre;overflow-x:auto;line-height:normal;font-family:Menlo,'DejaVu Sans Mono',consolas,'Courier New',monospace\">Here are the key achievements highlighted in the blog, focusing on Google Cloud's accomplishments:                 \n",
              "\n",
              "<span style=\"color: #808000; text-decoration-color: #808000; font-weight: bold\"> • </span><span style=\"font-weight: bold\">World's Largest Distributed LLM Training Job:</span> Google Cloud achieved the largest publicly disclosed LLM training \n",
              "<span style=\"color: #808000; text-decoration-color: #808000; font-weight: bold\">   </span>job, utilizing over 50,000 TPU v5e chips. This demonstrates their leadership in providing infrastructure and    \n",
              "<span style=\"color: #808000; text-decoration-color: #808000; font-weight: bold\">   </span>software for massive AI workloads.                                                                              \n",
              "<span style=\"color: #808000; text-decoration-color: #808000; font-weight: bold\"> • </span><span style=\"font-weight: bold\">Cloud TPU Multislice Training:</span>  Google Cloud introduced Multislice Training, a full-stack training offering     \n",
              "<span style=\"color: #808000; text-decoration-color: #808000; font-weight: bold\">   </span>designed for scalability, reliability, and ease of use. It addresses key challenges in orchestrating, compiling,\n",
              "<span style=\"color: #808000; text-decoration-color: #808000; font-weight: bold\">   </span>and optimizing large-scale distributed training.                                                                \n",
              "<span style=\"color: #808000; text-decoration-color: #808000; font-weight: bold\"> • </span><span style=\"font-weight: bold\">Scalable and Robust Orchestration:</span> Multislice Training enables users to scale LLM training across tens of       \n",
              "<span style=\"color: #808000; text-decoration-color: #808000; font-weight: bold\">   </span>thousands of TPU chips reliably, with fault tolerance throughout the workflow.                                  \n",
              "<span style=\"color: #808000; text-decoration-color: #808000; font-weight: bold\"> • </span><span style=\"font-weight: bold\">Performant Compilation:</span> Multislice Training leverages the XLA compiler for efficient management of compute and  \n",
              "<span style=\"color: #808000; text-decoration-color: #808000; font-weight: bold\">   </span>communication, maximizing performance and efficiency.                                                           \n",
              "<span style=\"color: #808000; text-decoration-color: #808000; font-weight: bold\"> • </span><span style=\"font-weight: bold\">Flexible Stack for End-to-End Training:</span> Multislice Training provides support for popular ML frameworks like JAX \n",
              "<span style=\"color: #808000; text-decoration-color: #808000; font-weight: bold\">   </span>and PyTorch, simplifying the training process for developers.                                                   \n",
              "<span style=\"color: #808000; text-decoration-color: #808000; font-weight: bold\"> • </span><span style=\"font-weight: bold\">Open-Sourcing Key Components:</span>  Google Cloud open-sourced several critical components of their Multislice        \n",
              "<span style=\"color: #808000; text-decoration-color: #808000; font-weight: bold\">   </span>Training stack, including XPK, MaxText, AQT, and XLA, fostering collaboration and advancement within the broader\n",
              "<span style=\"color: #808000; text-decoration-color: #808000; font-weight: bold\">   </span>AI/ML community.                                                                                                \n",
              "<span style=\"color: #808000; text-decoration-color: #808000; font-weight: bold\"> • </span><span style=\"font-weight: bold\">Impressive Scaling Efficiency:</span> Google Cloud demonstrated excellent scaling efficiency with their LLM training   \n",
              "<span style=\"color: #808000; text-decoration-color: #808000; font-weight: bold\">   </span>job, achieving impressive Model FLOPs Utilization (MFU) and Effective Model FLOPs Utilization (EMFU) metrics.   \n",
              "<span style=\"color: #808000; text-decoration-color: #808000; font-weight: bold\"> • </span><span style=\"font-weight: bold\">Continuous Improvement:</span> Google Cloud emphasizes ongoing efforts to further improve their software stack and push\n",
              "<span style=\"color: #808000; text-decoration-color: #808000; font-weight: bold\">   </span>the boundaries of LLM training at scale. They are working on optimizing scheduling, compilation, and exploring  \n",
              "<span style=\"color: #808000; text-decoration-color: #808000; font-weight: bold\">   </span>scalable solutions for even greater performance.                                                                \n",
              "</pre>\n"
            ]
          },
          "metadata": {},
          "execution_count": 25
        }
      ]
    },
    {
      "cell_type": "code",
      "source": [
        "%%time\n",
        "\n",
        "print(model_flash.count_tokens(prompt_parts))\n",
        "response = model_flash.generate_content(prompt_parts)\n",
        "print(\"\\n Usage Metadata:\\n\",response.usage_metadata)\n",
        "rich_Markdown(response.text)"
      ],
      "metadata": {
        "id": "Na_tGS6pRGLw",
        "colab": {
          "base_uri": "https://localhost:8080/",
          "height": 490
        },
        "outputId": "21f0dba5-a7e1-4c37-a5bc-f849cebb6897"
      },
      "execution_count": null,
      "outputs": [
        {
          "output_type": "stream",
          "name": "stdout",
          "text": [
            "total_tokens: 7523\n",
            "\n",
            "\n",
            " Usage Metadata:\n",
            " prompt_token_count: 7524\n",
            "candidates_token_count: 380\n",
            "total_token_count: 7904\n",
            "\n",
            "CPU times: user 119 ms, sys: 15 ms, total: 134 ms\n",
            "Wall time: 7.67 s\n"
          ]
        },
        {
          "output_type": "execute_result",
          "data": {
            "text/plain": [
              "Here are some of the key achievements for Google Cloud, as presented in the blog:                                  \n",
              "\n",
              "\u001b[1;33m • \u001b[0m\u001b[1mWorld's Largest Distributed LLM Training Job:\u001b[0m Google Cloud TPU ran the world's largest publicly disclosed       \n",
              "\u001b[1;33m   \u001b[0mdistributed training job for LLMs, utilizing over 50,000 TPU v5e chips, achieving a peak performance of 10      \n",
              "\u001b[1;33m   \u001b[0mexa-FLOPs (16-bit) or 20 exa-OPs (8-bit).                                                                       \n",
              "\u001b[1;33m • \u001b[0m\u001b[1mIntroduction of Cloud TPU Multislice Training:\u001b[0m  A full-stack training offering supporting TPU v4 and v5e,       \n",
              "\u001b[1;33m   \u001b[0mdesigned for scalability, reliability, and ease of use for end-to-end ML training optimization.                 \n",
              "\u001b[1;33m • \u001b[0m\u001b[1mOpen-Sourcing Key Components:\u001b[0m  Google open-sourced several key components of the Multislice Training stack,     \n",
              "\u001b[1;33m   \u001b[0mincluding XPK (Accelerated Processing Kit), MaxText (JAX LLM implementation), AQT (Accurate Quantized Training),\n",
              "\u001b[1;33m   \u001b[0mand XLA (Accelerated Linear Algebra) to contribute to the broader AI/ML community.                              \n",
              "\u001b[1;33m • \u001b[0m\u001b[1mPerformance and Efficiency Improvements:\u001b[0m Google achieved impressive scaling efficiency with the 50,000+ TPU v5e \n",
              "\u001b[1;33m   \u001b[0mchips, reaching 66.86% MFU (Model FLOPs Utilization) with BF16 training on a single pod. They also achieved an  \n",
              "\u001b[1;33m   \u001b[0mimpressive 5.32 exa-OP/s with INT8 quantized training, demonstrating the benefits of AQT.                       \n",
              "\u001b[1;33m • \u001b[0m\u001b[1mContinuous Development and Innovation:\u001b[0m Google is actively working on further improving the software stack,      \n",
              "\u001b[1;33m   \u001b[0mincluding optimization for job start-up time, scaling efficiency, and compiler advancements.                    \n",
              "\u001b[1;33m • \u001b[0m\u001b[1mStrong Technical Capabilities:\u001b[0m The blog highlights Google's expertise in areas such as orchestration,           \n",
              "\u001b[1;33m   \u001b[0mcompilation, end-to-end optimization, distributed data loading, and checkpointing, showcasing their leading     \n",
              "\u001b[1;33m   \u001b[0mposition in distributed ML training.                                                                            \n"
            ],
            "text/html": [
              "<pre style=\"white-space:pre;overflow-x:auto;line-height:normal;font-family:Menlo,'DejaVu Sans Mono',consolas,'Courier New',monospace\">Here are some of the key achievements for Google Cloud, as presented in the blog:                                  \n",
              "\n",
              "<span style=\"color: #808000; text-decoration-color: #808000; font-weight: bold\"> • </span><span style=\"font-weight: bold\">World's Largest Distributed LLM Training Job:</span> Google Cloud TPU ran the world's largest publicly disclosed       \n",
              "<span style=\"color: #808000; text-decoration-color: #808000; font-weight: bold\">   </span>distributed training job for LLMs, utilizing over 50,000 TPU v5e chips, achieving a peak performance of 10      \n",
              "<span style=\"color: #808000; text-decoration-color: #808000; font-weight: bold\">   </span>exa-FLOPs (16-bit) or 20 exa-OPs (8-bit).                                                                       \n",
              "<span style=\"color: #808000; text-decoration-color: #808000; font-weight: bold\"> • </span><span style=\"font-weight: bold\">Introduction of Cloud TPU Multislice Training:</span>  A full-stack training offering supporting TPU v4 and v5e,       \n",
              "<span style=\"color: #808000; text-decoration-color: #808000; font-weight: bold\">   </span>designed for scalability, reliability, and ease of use for end-to-end ML training optimization.                 \n",
              "<span style=\"color: #808000; text-decoration-color: #808000; font-weight: bold\"> • </span><span style=\"font-weight: bold\">Open-Sourcing Key Components:</span>  Google open-sourced several key components of the Multislice Training stack,     \n",
              "<span style=\"color: #808000; text-decoration-color: #808000; font-weight: bold\">   </span>including XPK (Accelerated Processing Kit), MaxText (JAX LLM implementation), AQT (Accurate Quantized Training),\n",
              "<span style=\"color: #808000; text-decoration-color: #808000; font-weight: bold\">   </span>and XLA (Accelerated Linear Algebra) to contribute to the broader AI/ML community.                              \n",
              "<span style=\"color: #808000; text-decoration-color: #808000; font-weight: bold\"> • </span><span style=\"font-weight: bold\">Performance and Efficiency Improvements:</span> Google achieved impressive scaling efficiency with the 50,000+ TPU v5e \n",
              "<span style=\"color: #808000; text-decoration-color: #808000; font-weight: bold\">   </span>chips, reaching 66.86% MFU (Model FLOPs Utilization) with BF16 training on a single pod. They also achieved an  \n",
              "<span style=\"color: #808000; text-decoration-color: #808000; font-weight: bold\">   </span>impressive 5.32 exa-OP/s with INT8 quantized training, demonstrating the benefits of AQT.                       \n",
              "<span style=\"color: #808000; text-decoration-color: #808000; font-weight: bold\"> • </span><span style=\"font-weight: bold\">Continuous Development and Innovation:</span> Google is actively working on further improving the software stack,      \n",
              "<span style=\"color: #808000; text-decoration-color: #808000; font-weight: bold\">   </span>including optimization for job start-up time, scaling efficiency, and compiler advancements.                    \n",
              "<span style=\"color: #808000; text-decoration-color: #808000; font-weight: bold\"> • </span><span style=\"font-weight: bold\">Strong Technical Capabilities:</span> The blog highlights Google's expertise in areas such as orchestration,           \n",
              "<span style=\"color: #808000; text-decoration-color: #808000; font-weight: bold\">   </span>compilation, end-to-end optimization, distributed data loading, and checkpointing, showcasing their leading     \n",
              "<span style=\"color: #808000; text-decoration-color: #808000; font-weight: bold\">   </span>position in distributed ML training.                                                                            \n",
              "</pre>\n"
            ]
          },
          "metadata": {},
          "execution_count": 26
        }
      ]
    },
    {
      "cell_type": "markdown",
      "source": [
        "Understand your billing: [Link](https://ai.google.dev/gemini-api/docs/billing)"
      ],
      "metadata": {
        "id": "j-Th3KNqPB6i"
      }
    },
    {
      "cell_type": "markdown",
      "source": [
        "Source File: [Link](https://drive.google.com/file/d/1iT0qe9EU8RQyiAlrMlJ-SH-E_WtMGFNm/view?usp=drive_link) ~15 pages"
      ],
      "metadata": {
        "id": "4Mo6URt1Q0UB"
      }
    },
    {
      "cell_type": "code",
      "source": [
        "%%time\n",
        "prompt_parts = [\n",
        "  pdf_to_dict_str('/content/data/Idea/goog-10-q-q2-2023-4-1-15.pdf'),\n",
        "  \"\"\"Answer based on the document provided:\n",
        "- How has Google Cloud performed in last quarters?\n",
        "- What factors have influenced its numebrs and is it positive or negative?\n",
        "- What is the leadership view on Google Cloud business?\n",
        "- What are some changes and decisions they have made along the way to achieve their goals?\n",
        "- How are they doing with respect to other cloud companies?\n",
        "  \"\"\",\n",
        "]\n",
        "print(model_flash.count_tokens(prompt_parts))\n",
        "response = model.generate_content(prompt_parts)\n",
        "print(\"\\n Usage Metadata:\\n\",response.usage_metadata)\n",
        "rich_Markdown(response.text)"
      ],
      "metadata": {
        "id": "6wFDusjknFLr",
        "colab": {
          "base_uri": "https://localhost:8080/",
          "height": 801
        },
        "outputId": "190f8d82-e5cd-4fe2-8a09-baf2eeef9185"
      },
      "execution_count": null,
      "outputs": [
        {
          "output_type": "stream",
          "name": "stdout",
          "text": [
            "total_tokens: 11470\n",
            "\n",
            "\n",
            " Usage Metadata:\n",
            " prompt_token_count: 11471\n",
            "candidates_token_count: 541\n",
            "total_token_count: 12012\n",
            "\n",
            "CPU times: user 933 ms, sys: 17.9 ms, total: 950 ms\n",
            "Wall time: 9.92 s\n"
          ]
        },
        {
          "output_type": "execute_result",
          "data": {
            "text/plain": [
              "The provided document is a 10-Q filing, which is a quarterly report that publicly traded companies file with the   \n",
              "Securities and Exchange Commission (SEC). It outlines the company's financial performance but doesn't go into deep \n",
              "detail about specific business units like Google Cloud.                                                            \n",
              "\n",
              "Here's what we can gather from the document about Google Cloud:                                                    \n",
              "\n",
              "\u001b[1;33m • \u001b[0m\u001b[1mGoogle Cloud Revenue:\u001b[0m                                                                                           \n",
              "\u001b[1;33m   \u001b[0m\u001b[1;33m • \u001b[0mThe document provides revenue figures for Google Cloud:                                                      \n",
              "\u001b[1;33m   \u001b[0m\u001b[1;33m   \u001b[0m\u001b[1;33m • \u001b[0mThree months ended June 30, 2022: $6,276 million                                                          \n",
              "\u001b[1;33m   \u001b[0m\u001b[1;33m   \u001b[0m\u001b[1;33m • \u001b[0mThree months ended June 30, 2023: $8,031 million                                                          \n",
              "\u001b[1;33m   \u001b[0m\u001b[1;33m   \u001b[0m\u001b[1;33m • \u001b[0mSix months ended June 30, 2022: $12,097 million                                                           \n",
              "\u001b[1;33m   \u001b[0m\u001b[1;33m   \u001b[0m\u001b[1;33m • \u001b[0mSix months ended June 30, 2023: $15,485 million                                                           \n",
              "\u001b[1;33m   \u001b[0m\u001b[1;33m • \u001b[0m\u001b[1mPerformance:\u001b[0m This shows Google Cloud experienced significant revenue growth in both the three-month and      \n",
              "\u001b[1;33m   \u001b[0m\u001b[1;33m   \u001b[0msix-month periods.                                                                                           \n",
              "\u001b[1;33m • \u001b[0m\u001b[1mFactors Influencing Google Cloud Revenue:\u001b[0m                                                                       \n",
              "\u001b[1;33m   \u001b[0m\u001b[1;33m • \u001b[0mThe document mentions that \"Deferred revenues primarily relate to Google Cloud and Google other\". This       \n",
              "\u001b[1;33m   \u001b[0m\u001b[1;33m   \u001b[0msuggests that Google Cloud revenue is largely driven by long-term contracts with customers who pay in advance\n",
              "\u001b[1;33m   \u001b[0m\u001b[1;33m   \u001b[0mfor services.                                                                                                \n",
              "\u001b[1;33m   \u001b[0m\u001b[1;33m • \u001b[0mThe document also states that the amount and timing of revenue recognition for these commitments is \"largely \n",
              "\u001b[1;33m   \u001b[0m\u001b[1;33m   \u001b[0mdriven by our ability to deliver in accordance with relevant contract terms and when our customers utilize   \n",
              "\u001b[1;33m   \u001b[0m\u001b[1;33m   \u001b[0mservices.\" This implies that Google Cloud's performance is influenced by factors like its ability to deliver \n",
              "\u001b[1;33m   \u001b[0m\u001b[1;33m   \u001b[0mon these contracts and customer usage patterns.                                                              \n",
              "\u001b[1;33m • \u001b[0m\u001b[1mLeadership View on Google Cloud:\u001b[0m                                                                                \n",
              "\u001b[1;33m   \u001b[0m\u001b[1;33m • \u001b[0mThe document does not provide specific leadership statements about Google Cloud.                             \n",
              "\u001b[1;33m • \u001b[0m\u001b[1mChanges and Decisions:\u001b[0m                                                                                          \n",
              "\u001b[1;33m   \u001b[0m\u001b[1;33m • \u001b[0mThe document doesn't mention specific changes or decisions made to achieve Google Cloud goals.               \n",
              "\u001b[1;33m • \u001b[0m\u001b[1mComparison with Other Cloud Companies:\u001b[0m                                                                          \n",
              "\u001b[1;33m   \u001b[0m\u001b[1;33m • \u001b[0mThe document doesn't compare Google Cloud to other cloud companies.                                          \n",
              "\n",
              "\u001b[1mTo find more specific information on these topics, you'd need to:\u001b[0m                                                  \n",
              "\n",
              "\u001b[1;33m • \u001b[0m\u001b[1mRefer to Alphabet's other SEC filings:\u001b[0m  The annual report (10-K) often provides more in-depth discussions about \n",
              "\u001b[1;33m   \u001b[0mthe Google Cloud business.                                                                                      \n",
              "\u001b[1;33m • \u001b[0m\u001b[1mConsult industry reports and news articles:\u001b[0m  There are many research firms and news outlets that cover the cloud\n",
              "\u001b[1;33m   \u001b[0mcomputing market and provide analyses of Google Cloud's performance relative to its competitors.                \n",
              "\u001b[1;33m • \u001b[0m\u001b[1mReview Alphabet's earnings call transcripts:\u001b[0m These transcripts often contain detailed information and commentary\n",
              "\u001b[1;33m   \u001b[0mfrom Alphabet's leadership about Google Cloud's performance, strategies, and outlook.                           \n"
            ],
            "text/html": [
              "<pre style=\"white-space:pre;overflow-x:auto;line-height:normal;font-family:Menlo,'DejaVu Sans Mono',consolas,'Courier New',monospace\">The provided document is a 10-Q filing, which is a quarterly report that publicly traded companies file with the   \n",
              "Securities and Exchange Commission (SEC). It outlines the company's financial performance but doesn't go into deep \n",
              "detail about specific business units like Google Cloud.                                                            \n",
              "\n",
              "Here's what we can gather from the document about Google Cloud:                                                    \n",
              "\n",
              "<span style=\"color: #808000; text-decoration-color: #808000; font-weight: bold\"> • </span><span style=\"font-weight: bold\">Google Cloud Revenue:</span>                                                                                           \n",
              "<span style=\"color: #808000; text-decoration-color: #808000; font-weight: bold\">    • </span>The document provides revenue figures for Google Cloud:                                                      \n",
              "<span style=\"color: #808000; text-decoration-color: #808000; font-weight: bold\">       • </span>Three months ended June 30, 2022: $6,276 million                                                          \n",
              "<span style=\"color: #808000; text-decoration-color: #808000; font-weight: bold\">       • </span>Three months ended June 30, 2023: $8,031 million                                                          \n",
              "<span style=\"color: #808000; text-decoration-color: #808000; font-weight: bold\">       • </span>Six months ended June 30, 2022: $12,097 million                                                           \n",
              "<span style=\"color: #808000; text-decoration-color: #808000; font-weight: bold\">       • </span>Six months ended June 30, 2023: $15,485 million                                                           \n",
              "<span style=\"color: #808000; text-decoration-color: #808000; font-weight: bold\">    • </span><span style=\"font-weight: bold\">Performance:</span> This shows Google Cloud experienced significant revenue growth in both the three-month and      \n",
              "<span style=\"color: #808000; text-decoration-color: #808000; font-weight: bold\">      </span>six-month periods.                                                                                           \n",
              "<span style=\"color: #808000; text-decoration-color: #808000; font-weight: bold\"> • </span><span style=\"font-weight: bold\">Factors Influencing Google Cloud Revenue:</span>                                                                       \n",
              "<span style=\"color: #808000; text-decoration-color: #808000; font-weight: bold\">    • </span>The document mentions that \"Deferred revenues primarily relate to Google Cloud and Google other\". This       \n",
              "<span style=\"color: #808000; text-decoration-color: #808000; font-weight: bold\">      </span>suggests that Google Cloud revenue is largely driven by long-term contracts with customers who pay in advance\n",
              "<span style=\"color: #808000; text-decoration-color: #808000; font-weight: bold\">      </span>for services.                                                                                                \n",
              "<span style=\"color: #808000; text-decoration-color: #808000; font-weight: bold\">    • </span>The document also states that the amount and timing of revenue recognition for these commitments is \"largely \n",
              "<span style=\"color: #808000; text-decoration-color: #808000; font-weight: bold\">      </span>driven by our ability to deliver in accordance with relevant contract terms and when our customers utilize   \n",
              "<span style=\"color: #808000; text-decoration-color: #808000; font-weight: bold\">      </span>services.\" This implies that Google Cloud's performance is influenced by factors like its ability to deliver \n",
              "<span style=\"color: #808000; text-decoration-color: #808000; font-weight: bold\">      </span>on these contracts and customer usage patterns.                                                              \n",
              "<span style=\"color: #808000; text-decoration-color: #808000; font-weight: bold\"> • </span><span style=\"font-weight: bold\">Leadership View on Google Cloud:</span>                                                                                \n",
              "<span style=\"color: #808000; text-decoration-color: #808000; font-weight: bold\">    • </span>The document does not provide specific leadership statements about Google Cloud.                             \n",
              "<span style=\"color: #808000; text-decoration-color: #808000; font-weight: bold\"> • </span><span style=\"font-weight: bold\">Changes and Decisions:</span>                                                                                          \n",
              "<span style=\"color: #808000; text-decoration-color: #808000; font-weight: bold\">    • </span>The document doesn't mention specific changes or decisions made to achieve Google Cloud goals.               \n",
              "<span style=\"color: #808000; text-decoration-color: #808000; font-weight: bold\"> • </span><span style=\"font-weight: bold\">Comparison with Other Cloud Companies:</span>                                                                          \n",
              "<span style=\"color: #808000; text-decoration-color: #808000; font-weight: bold\">    • </span>The document doesn't compare Google Cloud to other cloud companies.                                          \n",
              "\n",
              "<span style=\"font-weight: bold\">To find more specific information on these topics, you'd need to:</span>                                                  \n",
              "\n",
              "<span style=\"color: #808000; text-decoration-color: #808000; font-weight: bold\"> • </span><span style=\"font-weight: bold\">Refer to Alphabet's other SEC filings:</span>  The annual report (10-K) often provides more in-depth discussions about \n",
              "<span style=\"color: #808000; text-decoration-color: #808000; font-weight: bold\">   </span>the Google Cloud business.                                                                                      \n",
              "<span style=\"color: #808000; text-decoration-color: #808000; font-weight: bold\"> • </span><span style=\"font-weight: bold\">Consult industry reports and news articles:</span>  There are many research firms and news outlets that cover the cloud\n",
              "<span style=\"color: #808000; text-decoration-color: #808000; font-weight: bold\">   </span>computing market and provide analyses of Google Cloud's performance relative to its competitors.                \n",
              "<span style=\"color: #808000; text-decoration-color: #808000; font-weight: bold\"> • </span><span style=\"font-weight: bold\">Review Alphabet's earnings call transcripts:</span> These transcripts often contain detailed information and commentary\n",
              "<span style=\"color: #808000; text-decoration-color: #808000; font-weight: bold\">   </span>from Alphabet's leadership about Google Cloud's performance, strategies, and outlook.                           \n",
              "</pre>\n"
            ]
          },
          "metadata": {},
          "execution_count": 27
        }
      ]
    },
    {
      "cell_type": "markdown",
      "source": [
        "### Audio File"
      ],
      "metadata": {
        "id": "00EsLYuNbGPa"
      }
    },
    {
      "cell_type": "markdown",
      "source": [
        "Source File: [Link](https://drive.google.com/file/d/1kaq58S4oRmuZgDqK109uc6mwedVmPAby/view?usp=drive_link) ~1 hour"
      ],
      "metadata": {
        "id": "LDPoAKVLRYxL"
      }
    },
    {
      "cell_type": "code",
      "source": [
        "%%time\n",
        "\n",
        "earning_calls = genai.upload_file(path=\"/content/data/Idea/stage_1_prototype_Alphabet 2023 Q4 Earnings Call.mp3\",\n",
        "                            display_name=\"earning_calls\")"
      ],
      "metadata": {
        "id": "3PjkJqwwbIJy",
        "colab": {
          "base_uri": "https://localhost:8080/",
          "height": 53
        },
        "outputId": "f437450c-6c56-4bf0-bc2d-53978a50a2bc"
      },
      "execution_count": null,
      "outputs": [
        {
          "output_type": "stream",
          "name": "stdout",
          "text": [
            "CPU times: user 464 ms, sys: 186 ms, total: 650 ms\n",
            "Wall time: 4.69 s\n"
          ]
        }
      ]
    },
    {
      "cell_type": "code",
      "source": [
        "%%time\n",
        "\n",
        "prompt_parts = [\n",
        "  earning_calls,\n",
        "  \"what are major comments by Sundar and Ruth about AI and what key questions were asked by analyst and give their name? give answer in bullets \",\n",
        "]\n",
        "print(model.count_tokens(prompt_parts))\n",
        "response = model.generate_content(prompt_parts,request_options={\"timeout\": 600})\n",
        "print(\"\\n Usage Metadata:\\n\",response.usage_metadata)\n",
        "rich_Markdown(response.text)"
      ],
      "metadata": {
        "id": "Z9SIRpVhbiv8",
        "colab": {
          "base_uri": "https://localhost:8080/",
          "height": 1000
        },
        "outputId": "8a8fb41e-dada-4dde-edff-d695667fb268"
      },
      "execution_count": null,
      "outputs": [
        {
          "output_type": "stream",
          "name": "stdout",
          "text": [
            "total_tokens: 109213\n",
            "\n",
            "\n",
            " Usage Metadata:\n",
            " prompt_token_count: 109214\n",
            "candidates_token_count: 1214\n",
            "total_token_count: 110428\n",
            "\n",
            "CPU times: user 728 ms, sys: 76.9 ms, total: 805 ms\n",
            "Wall time: 57 s\n"
          ]
        },
        {
          "output_type": "execute_result",
          "data": {
            "text/plain": [
              "Sure, here are the major comments about AI from Sundar Pichai and Ruth Porat, as well as key questions about AI    \n",
              "asked by analysts, with their names.                                                                               \n",
              "\n",
              "\u001b[1mSundar Pichai (CEO)\u001b[0m                                                                                                \n",
              "\n",
              "\u001b[1;33m • \u001b[0m\u001b[1mAI Investments:\u001b[0m Alphabet has been a leader in AI, using it to enhance products like Search, Ads, and consumer   \n",
              "\u001b[1;33m   \u001b[0mand enterprise tools.                                                                                           \n",
              "\u001b[1;33m • \u001b[0m\u001b[1mGemini Era:\u001b[0m The launch of Gemini models represents a significant step in AI advancement. These models are       \n",
              "\u001b[1;33m   \u001b[0mdesigned to understand and integrate text, images, audio, video, and code. Gemini is multimodal and scalable,   \n",
              "\u001b[1;33m   \u001b[0mrunning on devices from mobile to data centers.                                                                 \n",
              "\u001b[1;33m • \u001b[0m\u001b[1mGemini in Search:\u001b[0m  Gemini is being incorporated into Search Generative Experience (SGE), enhancing speed and    \n",
              "\u001b[1;33m   \u001b[0menabling the handling of more complex queries involving comparisons and longer questions. It's particularly     \n",
              "\u001b[1;33m   \u001b[0museful in areas like education.                                                                                 \n",
              "\u001b[1;33m • \u001b[0m\u001b[1mSGE Expansion:\u001b[0m SGE is expanding with increased links, wider sources on the results page, and a focus on user    \n",
              "\u001b[1;33m   \u001b[0mvalue and publisher traffic.                                                                                    \n",
              "\u001b[1;33m • \u001b[0m\u001b[1mAI for Advertisers:\u001b[0m Alphabet sees growing interest in its AI-powered advertising solutions, such as a           \n",
              "\u001b[1;33m   \u001b[0mconversational experience for faster campaign creation.                                                         \n",
              "\u001b[1;33m • \u001b[0m\u001b[1mBard advancements:\u001b[0m The conversational AI tool, Bard, is now powered by Gemini Pro, enabling it to excel in tasks\n",
              "\u001b[1;33m   \u001b[0mlike understanding, summarizing, reasoning, coding, and planning. Bard is available in over 40 languages and 230\n",
              "\u001b[1;33m   \u001b[0mcountries. An advanced version powered by Gemini Ultra is in development.                                       \n",
              "\u001b[1;33m • \u001b[0m\u001b[1mGoogle One with AI:\u001b[0m  AI features are being added to the Google One subscription service to further drive growth.\n",
              "\u001b[1;33m • \u001b[0m\u001b[1mGoogle Cloud AI:\u001b[0m Throughout 2023, thousands of AI product advancements were introduced, including broad         \n",
              "\u001b[1;33m   \u001b[0mgenerative AI capabilities across infrastructure, the Vertex AI platform, and Duet AI agents.                   \n",
              "\u001b[1;33m • \u001b[0m\u001b[1mAI Infrastructure Investments:\u001b[0m Alphabet is investing heavily in state-of-the-art computer infrastructure to     \n",
              "\u001b[1;33m   \u001b[0msupport the growth of AI-powered services for both Google and its customers.                                    \n",
              "\n",
              "\u001b[1mRuth Porat (CFO)\u001b[0m                                                                                                   \n",
              "\n",
              "\u001b[1;33m • \u001b[0m\u001b[1mAI-Driven Cloud Growth:\u001b[0m  Google Cloud's momentum is fueled by the increasing contribution from AI, including    \n",
              "\u001b[1;33m   \u001b[0mGoogle Workspace's strong revenue growth.                                                                       \n",
              "\u001b[1;33m • \u001b[0m\u001b[1mAI and Profitability:\u001b[0m  The profitability improvements in Google Cloud reflect a sustained focus on leveraging AI\n",
              "\u001b[1;33m   \u001b[0mtechnology while maintaining healthy profit margins.                                                            \n",
              "\u001b[1;33m • \u001b[0m\u001b[1mAI for Organizational Efficiency:\u001b[0m Alphabet is committed to leveraging AI to streamline operations across the    \n",
              "\u001b[1;33m   \u001b[0mcompany, further optimizing its cost base.                                                                      \n",
              "\n",
              "\u001b[1mKey Analyst Questions About AI\u001b[0m                                                                                     \n",
              "\n",
              "\u001b[1;33m • \u001b[0m\u001b[1mBrian Nowak (Morgan Stanley):\u001b[0m                                                                                   \n",
              "\u001b[1;33m   \u001b[0m\u001b[1;33m • \u001b[0mWhat are the hurdles and gating factors that will dictate the pace of the broad rollout of generative AI     \n",
              "\u001b[1;33m   \u001b[0m\u001b[1;33m   \u001b[0madvertising tools? How should we think about when these tools could have a bigger impact on the overall      \n",
              "\u001b[1;33m   \u001b[0m\u001b[1;33m   \u001b[0mbusiness?                                                                                                    \n",
              "\u001b[1;33m   \u001b[0m\u001b[1;33m • \u001b[0mHow does Alphabet think about the long-term sales force intensity of the advertising business as more        \n",
              "\u001b[1;33m   \u001b[0m\u001b[1;33m   \u001b[0mAI-based tools (like Performance Max) are rolled out, potentially impacting overall ad allocation?           \n",
              "\u001b[1;33m • \u001b[0m\u001b[1mDoug Anmuth (JPMorgan):\u001b[0m                                                                                         \n",
              "\u001b[1;33m   \u001b[0m\u001b[1;33m • \u001b[0mHow does Alphabet assess its progress in the second year of durably re-engineering its cost structure? Are   \n",
              "\u001b[1;33m   \u001b[0m\u001b[1;33m   \u001b[0mthere any guideposts for the future?                                                                         \n",
              "\u001b[1;33m   \u001b[0m\u001b[1;33m • \u001b[0mWhat are the key learnings from the first year of NFL Sunday Ticket? What are Alphabet's thoughts on the     \n",
              "\u001b[1;33m   \u001b[0m\u001b[1;33m   \u001b[0mreturn on investment, both from an advertising perspective and for subscribers to Sunday Ticket and YouTube  \n",
              "\u001b[1;33m   \u001b[0m\u001b[1;33m   \u001b[0mTV?                                                                                                          \n",
              "\u001b[1;33m • \u001b[0m\u001b[1mEric Sheridan (Goldman Sachs):\u001b[0m                                                                                  \n",
              "\u001b[1;33m   \u001b[0m\u001b[1;33m • \u001b[0mHow does Sundar Pichai envision the evolution of more traditional search and the Google Assistant in a world \n",
              "\u001b[1;33m   \u001b[0m\u001b[1;33m   \u001b[0mincreasingly shaped by SGE and Bard? How will that affect commercial and non-commercial search and use cases \n",
              "\u001b[1;33m   \u001b[0m\u001b[1;33m   \u001b[0min the coming years?                                                                                         \n",
              "\u001b[1;33m   \u001b[0m\u001b[1;33m • \u001b[0mIs the volatility in Google Cloud's growth (a deceleration last quarter and reacceleration this quarter)     \n",
              "\u001b[1;33m   \u001b[0m\u001b[1;33m   \u001b[0mexplained by the optimization cycle? Are generative AI workloads starting to drive growth?                   \n",
              "\u001b[1;33m • \u001b[0m\u001b[1mMichael Nathanson (MoffettNathanson):\u001b[0m                                                                           \n",
              "\u001b[1;33m   \u001b[0m\u001b[1;33m • \u001b[0mWhat are the opportunities for YouTube and Connected TV outside of the United States? What is the company    \n",
              "\u001b[1;33m   \u001b[0m\u001b[1;33m   \u001b[0mdoing to drive adoption of YouTube or Connected TVs with the Google operating system in international        \n",
              "\u001b[1;33m   \u001b[0m\u001b[1;33m   \u001b[0mmarkets?                                                                                                     \n",
              "\u001b[1;33m   \u001b[0m\u001b[1;33m • \u001b[0mConsidering the strength of YouTube Shorts, what are the monetization challenges? Are the headwinds observed \n",
              "\u001b[1;33m   \u001b[0m\u001b[1;33m   \u001b[0mat the beginning still present? What can be shared about auction density or advertising interest in Shorts to\n",
              "\u001b[1;33m   \u001b[0m\u001b[1;33m   \u001b[0mhelp determine if that's still a headwind to growth?                                                         \n",
              "\u001b[1;33m • \u001b[0m\u001b[1mJustin Post (BAML):\u001b[0m                                                                                             \n",
              "\u001b[1;33m   \u001b[0m\u001b[1;33m • \u001b[0mRegarding search growth, are there concerns about the use of competitive AI tools as alternatives to search? \n",
              "\u001b[1;33m   \u001b[0m\u001b[1;33m   \u001b[0mHave there been any changes in query volumes, positive or negative, as more Search Generative Experiences    \n",
              "\u001b[1;33m   \u001b[0m\u001b[1;33m   \u001b[0mhave been implemented? What differentiates Google Search from other AI tools?                                \n",
              "\u001b[1;33m   \u001b[0m\u001b[1;33m • \u001b[0mGiven the step up in CAPEX to $11 billion in Q4, were there any one-time items included, or is this the new  \n",
              "\u001b[1;33m   \u001b[0m\u001b[1;33m   \u001b[0mrun rate going into 2024?                                                                                    \n",
              "\u001b[1;33m • \u001b[0m\u001b[1mRoss Sandler (Barclays):\u001b[0m Referring to a document disclosed from Google during the DOJ trial in the fall (which  \n",
              "\u001b[1;33m   \u001b[0mmentioned leaning on ad quality teams to deliver 20% RPM growth in Search being a fragile strategy, dating back \n",
              "\u001b[1;33m   \u001b[0mto 2019),  how does Google feel about its ability to drive Search RPM going forward, especially in the context  \n",
              "\u001b[1;33m   \u001b[0mof a large revenue base?                                                                                        \n",
              "\u001b[1;33m • \u001b[0m\u001b[1mMark Mahaney (Evercore):\u001b[0m                                                                                        \n",
              "\u001b[1;33m   \u001b[0m\u001b[1;33m • \u001b[0mCan you elaborate on the volatility, deceleration, and reacceleration in Google Cloud's growth? Is it tied to\n",
              "\u001b[1;33m   \u001b[0m\u001b[1;33m   \u001b[0mthe optimization cycle? Are generative AI workloads contributing to a growth rebound?                        \n",
              "\u001b[1;33m   \u001b[0m\u001b[1;33m • \u001b[0mHow significant is AI-powered creative for YouTube and Ads, particularly for long-time Google SMBs who are   \n",
              "\u001b[1;33m   \u001b[0m\u001b[1;33m   \u001b[0mnow being offered performance-based video ad campaigns created by AI? Does this unlock a new area of spend   \n",
              "\u001b[1;33m   \u001b[0m\u001b[1;33m   \u001b[0mthat wasn't there before?                                                                                    \n",
              "\n",
              "Let me know if you have other questions.                                                                           \n"
            ],
            "text/html": [
              "<pre style=\"white-space:pre;overflow-x:auto;line-height:normal;font-family:Menlo,'DejaVu Sans Mono',consolas,'Courier New',monospace\">Sure, here are the major comments about AI from Sundar Pichai and Ruth Porat, as well as key questions about AI    \n",
              "asked by analysts, with their names.                                                                               \n",
              "\n",
              "<span style=\"font-weight: bold\">Sundar Pichai (CEO)</span>                                                                                                \n",
              "\n",
              "<span style=\"color: #808000; text-decoration-color: #808000; font-weight: bold\"> • </span><span style=\"font-weight: bold\">AI Investments:</span> Alphabet has been a leader in AI, using it to enhance products like Search, Ads, and consumer   \n",
              "<span style=\"color: #808000; text-decoration-color: #808000; font-weight: bold\">   </span>and enterprise tools.                                                                                           \n",
              "<span style=\"color: #808000; text-decoration-color: #808000; font-weight: bold\"> • </span><span style=\"font-weight: bold\">Gemini Era:</span> The launch of Gemini models represents a significant step in AI advancement. These models are       \n",
              "<span style=\"color: #808000; text-decoration-color: #808000; font-weight: bold\">   </span>designed to understand and integrate text, images, audio, video, and code. Gemini is multimodal and scalable,   \n",
              "<span style=\"color: #808000; text-decoration-color: #808000; font-weight: bold\">   </span>running on devices from mobile to data centers.                                                                 \n",
              "<span style=\"color: #808000; text-decoration-color: #808000; font-weight: bold\"> • </span><span style=\"font-weight: bold\">Gemini in Search:</span>  Gemini is being incorporated into Search Generative Experience (SGE), enhancing speed and    \n",
              "<span style=\"color: #808000; text-decoration-color: #808000; font-weight: bold\">   </span>enabling the handling of more complex queries involving comparisons and longer questions. It's particularly     \n",
              "<span style=\"color: #808000; text-decoration-color: #808000; font-weight: bold\">   </span>useful in areas like education.                                                                                 \n",
              "<span style=\"color: #808000; text-decoration-color: #808000; font-weight: bold\"> • </span><span style=\"font-weight: bold\">SGE Expansion:</span> SGE is expanding with increased links, wider sources on the results page, and a focus on user    \n",
              "<span style=\"color: #808000; text-decoration-color: #808000; font-weight: bold\">   </span>value and publisher traffic.                                                                                    \n",
              "<span style=\"color: #808000; text-decoration-color: #808000; font-weight: bold\"> • </span><span style=\"font-weight: bold\">AI for Advertisers:</span> Alphabet sees growing interest in its AI-powered advertising solutions, such as a           \n",
              "<span style=\"color: #808000; text-decoration-color: #808000; font-weight: bold\">   </span>conversational experience for faster campaign creation.                                                         \n",
              "<span style=\"color: #808000; text-decoration-color: #808000; font-weight: bold\"> • </span><span style=\"font-weight: bold\">Bard advancements:</span> The conversational AI tool, Bard, is now powered by Gemini Pro, enabling it to excel in tasks\n",
              "<span style=\"color: #808000; text-decoration-color: #808000; font-weight: bold\">   </span>like understanding, summarizing, reasoning, coding, and planning. Bard is available in over 40 languages and 230\n",
              "<span style=\"color: #808000; text-decoration-color: #808000; font-weight: bold\">   </span>countries. An advanced version powered by Gemini Ultra is in development.                                       \n",
              "<span style=\"color: #808000; text-decoration-color: #808000; font-weight: bold\"> • </span><span style=\"font-weight: bold\">Google One with AI:</span>  AI features are being added to the Google One subscription service to further drive growth.\n",
              "<span style=\"color: #808000; text-decoration-color: #808000; font-weight: bold\"> • </span><span style=\"font-weight: bold\">Google Cloud AI:</span> Throughout 2023, thousands of AI product advancements were introduced, including broad         \n",
              "<span style=\"color: #808000; text-decoration-color: #808000; font-weight: bold\">   </span>generative AI capabilities across infrastructure, the Vertex AI platform, and Duet AI agents.                   \n",
              "<span style=\"color: #808000; text-decoration-color: #808000; font-weight: bold\"> • </span><span style=\"font-weight: bold\">AI Infrastructure Investments:</span> Alphabet is investing heavily in state-of-the-art computer infrastructure to     \n",
              "<span style=\"color: #808000; text-decoration-color: #808000; font-weight: bold\">   </span>support the growth of AI-powered services for both Google and its customers.                                    \n",
              "\n",
              "<span style=\"font-weight: bold\">Ruth Porat (CFO)</span>                                                                                                   \n",
              "\n",
              "<span style=\"color: #808000; text-decoration-color: #808000; font-weight: bold\"> • </span><span style=\"font-weight: bold\">AI-Driven Cloud Growth:</span>  Google Cloud's momentum is fueled by the increasing contribution from AI, including    \n",
              "<span style=\"color: #808000; text-decoration-color: #808000; font-weight: bold\">   </span>Google Workspace's strong revenue growth.                                                                       \n",
              "<span style=\"color: #808000; text-decoration-color: #808000; font-weight: bold\"> • </span><span style=\"font-weight: bold\">AI and Profitability:</span>  The profitability improvements in Google Cloud reflect a sustained focus on leveraging AI\n",
              "<span style=\"color: #808000; text-decoration-color: #808000; font-weight: bold\">   </span>technology while maintaining healthy profit margins.                                                            \n",
              "<span style=\"color: #808000; text-decoration-color: #808000; font-weight: bold\"> • </span><span style=\"font-weight: bold\">AI for Organizational Efficiency:</span> Alphabet is committed to leveraging AI to streamline operations across the    \n",
              "<span style=\"color: #808000; text-decoration-color: #808000; font-weight: bold\">   </span>company, further optimizing its cost base.                                                                      \n",
              "\n",
              "<span style=\"font-weight: bold\">Key Analyst Questions About AI</span>                                                                                     \n",
              "\n",
              "<span style=\"color: #808000; text-decoration-color: #808000; font-weight: bold\"> • </span><span style=\"font-weight: bold\">Brian Nowak (Morgan Stanley):</span>                                                                                   \n",
              "<span style=\"color: #808000; text-decoration-color: #808000; font-weight: bold\">    • </span>What are the hurdles and gating factors that will dictate the pace of the broad rollout of generative AI     \n",
              "<span style=\"color: #808000; text-decoration-color: #808000; font-weight: bold\">      </span>advertising tools? How should we think about when these tools could have a bigger impact on the overall      \n",
              "<span style=\"color: #808000; text-decoration-color: #808000; font-weight: bold\">      </span>business?                                                                                                    \n",
              "<span style=\"color: #808000; text-decoration-color: #808000; font-weight: bold\">    • </span>How does Alphabet think about the long-term sales force intensity of the advertising business as more        \n",
              "<span style=\"color: #808000; text-decoration-color: #808000; font-weight: bold\">      </span>AI-based tools (like Performance Max) are rolled out, potentially impacting overall ad allocation?           \n",
              "<span style=\"color: #808000; text-decoration-color: #808000; font-weight: bold\"> • </span><span style=\"font-weight: bold\">Doug Anmuth (JPMorgan):</span>                                                                                         \n",
              "<span style=\"color: #808000; text-decoration-color: #808000; font-weight: bold\">    • </span>How does Alphabet assess its progress in the second year of durably re-engineering its cost structure? Are   \n",
              "<span style=\"color: #808000; text-decoration-color: #808000; font-weight: bold\">      </span>there any guideposts for the future?                                                                         \n",
              "<span style=\"color: #808000; text-decoration-color: #808000; font-weight: bold\">    • </span>What are the key learnings from the first year of NFL Sunday Ticket? What are Alphabet's thoughts on the     \n",
              "<span style=\"color: #808000; text-decoration-color: #808000; font-weight: bold\">      </span>return on investment, both from an advertising perspective and for subscribers to Sunday Ticket and YouTube  \n",
              "<span style=\"color: #808000; text-decoration-color: #808000; font-weight: bold\">      </span>TV?                                                                                                          \n",
              "<span style=\"color: #808000; text-decoration-color: #808000; font-weight: bold\"> • </span><span style=\"font-weight: bold\">Eric Sheridan (Goldman Sachs):</span>                                                                                  \n",
              "<span style=\"color: #808000; text-decoration-color: #808000; font-weight: bold\">    • </span>How does Sundar Pichai envision the evolution of more traditional search and the Google Assistant in a world \n",
              "<span style=\"color: #808000; text-decoration-color: #808000; font-weight: bold\">      </span>increasingly shaped by SGE and Bard? How will that affect commercial and non-commercial search and use cases \n",
              "<span style=\"color: #808000; text-decoration-color: #808000; font-weight: bold\">      </span>in the coming years?                                                                                         \n",
              "<span style=\"color: #808000; text-decoration-color: #808000; font-weight: bold\">    • </span>Is the volatility in Google Cloud's growth (a deceleration last quarter and reacceleration this quarter)     \n",
              "<span style=\"color: #808000; text-decoration-color: #808000; font-weight: bold\">      </span>explained by the optimization cycle? Are generative AI workloads starting to drive growth?                   \n",
              "<span style=\"color: #808000; text-decoration-color: #808000; font-weight: bold\"> • </span><span style=\"font-weight: bold\">Michael Nathanson (MoffettNathanson):</span>                                                                           \n",
              "<span style=\"color: #808000; text-decoration-color: #808000; font-weight: bold\">    • </span>What are the opportunities for YouTube and Connected TV outside of the United States? What is the company    \n",
              "<span style=\"color: #808000; text-decoration-color: #808000; font-weight: bold\">      </span>doing to drive adoption of YouTube or Connected TVs with the Google operating system in international        \n",
              "<span style=\"color: #808000; text-decoration-color: #808000; font-weight: bold\">      </span>markets?                                                                                                     \n",
              "<span style=\"color: #808000; text-decoration-color: #808000; font-weight: bold\">    • </span>Considering the strength of YouTube Shorts, what are the monetization challenges? Are the headwinds observed \n",
              "<span style=\"color: #808000; text-decoration-color: #808000; font-weight: bold\">      </span>at the beginning still present? What can be shared about auction density or advertising interest in Shorts to\n",
              "<span style=\"color: #808000; text-decoration-color: #808000; font-weight: bold\">      </span>help determine if that's still a headwind to growth?                                                         \n",
              "<span style=\"color: #808000; text-decoration-color: #808000; font-weight: bold\"> • </span><span style=\"font-weight: bold\">Justin Post (BAML):</span>                                                                                             \n",
              "<span style=\"color: #808000; text-decoration-color: #808000; font-weight: bold\">    • </span>Regarding search growth, are there concerns about the use of competitive AI tools as alternatives to search? \n",
              "<span style=\"color: #808000; text-decoration-color: #808000; font-weight: bold\">      </span>Have there been any changes in query volumes, positive or negative, as more Search Generative Experiences    \n",
              "<span style=\"color: #808000; text-decoration-color: #808000; font-weight: bold\">      </span>have been implemented? What differentiates Google Search from other AI tools?                                \n",
              "<span style=\"color: #808000; text-decoration-color: #808000; font-weight: bold\">    • </span>Given the step up in CAPEX to $11 billion in Q4, were there any one-time items included, or is this the new  \n",
              "<span style=\"color: #808000; text-decoration-color: #808000; font-weight: bold\">      </span>run rate going into 2024?                                                                                    \n",
              "<span style=\"color: #808000; text-decoration-color: #808000; font-weight: bold\"> • </span><span style=\"font-weight: bold\">Ross Sandler (Barclays):</span> Referring to a document disclosed from Google during the DOJ trial in the fall (which  \n",
              "<span style=\"color: #808000; text-decoration-color: #808000; font-weight: bold\">   </span>mentioned leaning on ad quality teams to deliver 20% RPM growth in Search being a fragile strategy, dating back \n",
              "<span style=\"color: #808000; text-decoration-color: #808000; font-weight: bold\">   </span>to 2019),  how does Google feel about its ability to drive Search RPM going forward, especially in the context  \n",
              "<span style=\"color: #808000; text-decoration-color: #808000; font-weight: bold\">   </span>of a large revenue base?                                                                                        \n",
              "<span style=\"color: #808000; text-decoration-color: #808000; font-weight: bold\"> • </span><span style=\"font-weight: bold\">Mark Mahaney (Evercore):</span>                                                                                        \n",
              "<span style=\"color: #808000; text-decoration-color: #808000; font-weight: bold\">    • </span>Can you elaborate on the volatility, deceleration, and reacceleration in Google Cloud's growth? Is it tied to\n",
              "<span style=\"color: #808000; text-decoration-color: #808000; font-weight: bold\">      </span>the optimization cycle? Are generative AI workloads contributing to a growth rebound?                        \n",
              "<span style=\"color: #808000; text-decoration-color: #808000; font-weight: bold\">    • </span>How significant is AI-powered creative for YouTube and Ads, particularly for long-time Google SMBs who are   \n",
              "<span style=\"color: #808000; text-decoration-color: #808000; font-weight: bold\">      </span>now being offered performance-based video ad campaigns created by AI? Does this unlock a new area of spend   \n",
              "<span style=\"color: #808000; text-decoration-color: #808000; font-weight: bold\">      </span>that wasn't there before?                                                                                    \n",
              "\n",
              "Let me know if you have other questions.                                                                           \n",
              "</pre>\n"
            ]
          },
          "metadata": {},
          "execution_count": 6
        }
      ]
    },
    {
      "cell_type": "code",
      "source": [
        "%%time\n",
        "\n",
        "print(model_flash.count_tokens(prompt_parts))\n",
        "response = model_flash.generate_content(prompt_parts)\n",
        "print(\"\\n Usage Metadata:\\n\",response.usage_metadata)\n",
        "rich_Markdown(response.text)"
      ],
      "metadata": {
        "id": "XE4pILmSRpLt",
        "colab": {
          "base_uri": "https://localhost:8080/",
          "height": 1000
        },
        "outputId": "f66be635-f7fd-415d-b596-36be6b382781"
      },
      "execution_count": null,
      "outputs": [
        {
          "output_type": "stream",
          "name": "stdout",
          "text": [
            "total_tokens: 109213\n",
            "\n",
            "\n",
            " Usage Metadata:\n",
            " prompt_token_count: 109214\n",
            "candidates_token_count: 703\n",
            "total_token_count: 109917\n",
            "\n",
            "CPU times: user 378 ms, sys: 41.5 ms, total: 419 ms\n",
            "Wall time: 29.1 s\n"
          ]
        },
        {
          "output_type": "execute_result",
          "data": {
            "text/plain": [
              "Here are the major comments by Sundar and Ruth about AI, and the key questions asked by analysts, along with their \n",
              "names:                                                                                                             \n",
              "\n",
              "\u001b[1mSundar's Comments on AI\u001b[0m                                                                                            \n",
              "\n",
              "\u001b[1;33m • \u001b[0m\u001b[1mInvestments in AI:\u001b[0m Sundar highlighted Alphabet's strong momentum and product innovation driven by AI,           \n",
              "\u001b[1;33m   \u001b[0mparticularly in Search and across various consumer and enterprise products.                                     \n",
              "\u001b[1;33m • \u001b[0m\u001b[1mGemini:\u001b[0m Sundar emphasized Gemini as a significant AI breakthrough, a multimodal model that can understand and   \n",
              "\u001b[1;33m   \u001b[0mcombine text, images, audio, video, and code. He mentioned Gemini Ultra is coming soon.                         \n",
              "\u001b[1;33m • \u001b[0m\u001b[1mAI in Search:\u001b[0m Sundar discussed how Gemini is being integrated into Search, leading to a faster and more         \n",
              "\u001b[1;33m   \u001b[0mcomprehensive search experience, especially for complex queries.                                                \n",
              "\u001b[1;33m • \u001b[0m\u001b[1mAI in Other Products:\u001b[0m Sundar highlighted AI-powered solutions for advertisers, including a conversational       \n",
              "\u001b[1;33m   \u001b[0mexperience for creating search campaigns and Bard, a conversational AI tool powered by Gemini Pro.              \n",
              "\n",
              "\u001b[1mRuth's Comments on AI\u001b[0m                                                                                              \n",
              "\n",
              "\u001b[1;33m • \u001b[0m\u001b[1mImpact on Google Cloud:\u001b[0m Ruth mentioned the increasing contribution of AI to Google Cloud Platform's momentum,   \n",
              "\u001b[1;33m   \u001b[0mwith strong adoption of Vertex AI and the introduction of Duet AI agents.                                       \n",
              "\u001b[1;33m • \u001b[0m\u001b[1mLong-Term Growth:\u001b[0m Ruth emphasized the importance of AI in driving long-term growth across Alphabet, highlighting\n",
              "\u001b[1;33m   \u001b[0mthe significant investments in technical infrastructure and the use of AI to improve efficiency and operations. \n",
              "\n",
              "\u001b[1mKey Questions Asked by Analysts:\u001b[0m                                                                                   \n",
              "\n",
              "\u001b[1;33m • \u001b[0m\u001b[1mBrian Nowak (Morgan Stanley):\u001b[0m                                                                                   \n",
              "\u001b[1;33m   \u001b[0m\u001b[1;33m • \u001b[0m\u001b[1mAI in Advertising:\u001b[0m Brian inquired about the hurdles and gating factors that could impact the rollout of new  \n",
              "\u001b[1;33m   \u001b[0m\u001b[1;33m   \u001b[0mAI advertising tools and their broader impact on the business.                                               \n",
              "\u001b[1;33m   \u001b[0m\u001b[1;33m • \u001b[0m\u001b[1mSales Force Intensity:\u001b[0m Brian asked about the long-term impact of AI-based tools like PMax on the advertising \n",
              "\u001b[1;33m   \u001b[0m\u001b[1;33m   \u001b[0mbusiness and the sales force intensity.                                                                      \n",
              "\u001b[1;33m • \u001b[0m\u001b[1mDoug Anmuth (J.P. Morgan):\u001b[0m                                                                                      \n",
              "\u001b[1;33m   \u001b[0m\u001b[1;33m • \u001b[0m\u001b[1mCost Structure Re-Engineering:\u001b[0m Doug asked about Ruth's assessment of progress made in re-engineering the cost\n",
              "\u001b[1;33m   \u001b[0m\u001b[1;33m   \u001b[0mstructure and any future guidance.                                                                           \n",
              "\u001b[1;33m   \u001b[0m\u001b[1;33m • \u001b[0m\u001b[1mNFL Sunday Ticket:\u001b[0m Doug asked about key learnings from the first year of NFL Sunday Ticket and the expected  \n",
              "\u001b[1;33m   \u001b[0m\u001b[1;33m   \u001b[0mreturn on investment.                                                                                        \n",
              "\u001b[1;33m • \u001b[0m\u001b[1mEric Sheridan (Goldman Sachs):\u001b[0m                                                                                  \n",
              "\u001b[1;33m   \u001b[0m\u001b[1;33m • \u001b[0m\u001b[1mSearch Generative Experience Evolution:\u001b[0m Eric inquired about the future evolution of traditional search and   \n",
              "\u001b[1;33m   \u001b[0m\u001b[1;33m   \u001b[0mGoogle Assistant in a world with search generative experiences like Bard.                                    \n",
              "\u001b[1;33m   \u001b[0m\u001b[1;33m • \u001b[0m\u001b[1mOne-Timers in Q4:\u001b[0m Eric sought clarification on the allocation of one-timers in the Q4 results, particularly  \n",
              "\u001b[1;33m   \u001b[0m\u001b[1;33m   \u001b[0mrelated to real estate charges.                                                                              \n",
              "\u001b[1;33m • \u001b[0m\u001b[1mMichael Nathanson (MoffettNathanson):\u001b[0m                                                                           \n",
              "\u001b[1;33m   \u001b[0m\u001b[1;33m • \u001b[0m\u001b[1mConnected TV Outside the U.S.:\u001b[0m Michael asked about the opportunity for Connected TV outside the U.S. and     \n",
              "\u001b[1;33m   \u001b[0m\u001b[1;33m   \u001b[0mAlphabet's plans for driving adoption.                                                                       \n",
              "\u001b[1;33m   \u001b[0m\u001b[1;33m • \u001b[0m\u001b[1mShorts Monetization Challenges:\u001b[0m Michael asked if the monetization challenges associated with Shorts persist  \n",
              "\u001b[1;33m   \u001b[0m\u001b[1;33m   \u001b[0mand about the density of advertising interest in this format.                                                \n",
              "\u001b[1;33m • \u001b[0m\u001b[1mJustin Post (Bank of America Merrill Lynch):\u001b[0m                                                                    \n",
              "\u001b[1;33m   \u001b[0m\u001b[1;33m • \u001b[0m\u001b[1mSearch Growth and Competition:\u001b[0m Justin raised concerns about the use of competitive AI tools as alternatives  \n",
              "\u001b[1;33m   \u001b[0m\u001b[1;33m   \u001b[0mto Search and asked about changes in query volumes.                                                          \n",
              "\u001b[1;33m   \u001b[0m\u001b[1;33m • \u001b[0m\u001b[1mAI-Powered Creatives for SMBs:\u001b[0m Justin inquired about the potential for AI to create performance-based video  \n",
              "\u001b[1;33m   \u001b[0m\u001b[1;33m   \u001b[0mad campaigns for SMBs and the rollout of this offering.                                                      \n",
              "\n",
              "These are just some of the key questions asked during the earnings call. The analysts were keen to understand the  \n",
              "progress and potential of AI across various Alphabet businesses.                                                   \n"
            ],
            "text/html": [
              "<pre style=\"white-space:pre;overflow-x:auto;line-height:normal;font-family:Menlo,'DejaVu Sans Mono',consolas,'Courier New',monospace\">Here are the major comments by Sundar and Ruth about AI, and the key questions asked by analysts, along with their \n",
              "names:                                                                                                             \n",
              "\n",
              "<span style=\"font-weight: bold\">Sundar's Comments on AI</span>                                                                                            \n",
              "\n",
              "<span style=\"color: #808000; text-decoration-color: #808000; font-weight: bold\"> • </span><span style=\"font-weight: bold\">Investments in AI:</span> Sundar highlighted Alphabet's strong momentum and product innovation driven by AI,           \n",
              "<span style=\"color: #808000; text-decoration-color: #808000; font-weight: bold\">   </span>particularly in Search and across various consumer and enterprise products.                                     \n",
              "<span style=\"color: #808000; text-decoration-color: #808000; font-weight: bold\"> • </span><span style=\"font-weight: bold\">Gemini:</span> Sundar emphasized Gemini as a significant AI breakthrough, a multimodal model that can understand and   \n",
              "<span style=\"color: #808000; text-decoration-color: #808000; font-weight: bold\">   </span>combine text, images, audio, video, and code. He mentioned Gemini Ultra is coming soon.                         \n",
              "<span style=\"color: #808000; text-decoration-color: #808000; font-weight: bold\"> • </span><span style=\"font-weight: bold\">AI in Search:</span> Sundar discussed how Gemini is being integrated into Search, leading to a faster and more         \n",
              "<span style=\"color: #808000; text-decoration-color: #808000; font-weight: bold\">   </span>comprehensive search experience, especially for complex queries.                                                \n",
              "<span style=\"color: #808000; text-decoration-color: #808000; font-weight: bold\"> • </span><span style=\"font-weight: bold\">AI in Other Products:</span> Sundar highlighted AI-powered solutions for advertisers, including a conversational       \n",
              "<span style=\"color: #808000; text-decoration-color: #808000; font-weight: bold\">   </span>experience for creating search campaigns and Bard, a conversational AI tool powered by Gemini Pro.              \n",
              "\n",
              "<span style=\"font-weight: bold\">Ruth's Comments on AI</span>                                                                                              \n",
              "\n",
              "<span style=\"color: #808000; text-decoration-color: #808000; font-weight: bold\"> • </span><span style=\"font-weight: bold\">Impact on Google Cloud:</span> Ruth mentioned the increasing contribution of AI to Google Cloud Platform's momentum,   \n",
              "<span style=\"color: #808000; text-decoration-color: #808000; font-weight: bold\">   </span>with strong adoption of Vertex AI and the introduction of Duet AI agents.                                       \n",
              "<span style=\"color: #808000; text-decoration-color: #808000; font-weight: bold\"> • </span><span style=\"font-weight: bold\">Long-Term Growth:</span> Ruth emphasized the importance of AI in driving long-term growth across Alphabet, highlighting\n",
              "<span style=\"color: #808000; text-decoration-color: #808000; font-weight: bold\">   </span>the significant investments in technical infrastructure and the use of AI to improve efficiency and operations. \n",
              "\n",
              "<span style=\"font-weight: bold\">Key Questions Asked by Analysts:</span>                                                                                   \n",
              "\n",
              "<span style=\"color: #808000; text-decoration-color: #808000; font-weight: bold\"> • </span><span style=\"font-weight: bold\">Brian Nowak (Morgan Stanley):</span>                                                                                   \n",
              "<span style=\"color: #808000; text-decoration-color: #808000; font-weight: bold\">    • </span><span style=\"font-weight: bold\">AI in Advertising:</span> Brian inquired about the hurdles and gating factors that could impact the rollout of new  \n",
              "<span style=\"color: #808000; text-decoration-color: #808000; font-weight: bold\">      </span>AI advertising tools and their broader impact on the business.                                               \n",
              "<span style=\"color: #808000; text-decoration-color: #808000; font-weight: bold\">    • </span><span style=\"font-weight: bold\">Sales Force Intensity:</span> Brian asked about the long-term impact of AI-based tools like PMax on the advertising \n",
              "<span style=\"color: #808000; text-decoration-color: #808000; font-weight: bold\">      </span>business and the sales force intensity.                                                                      \n",
              "<span style=\"color: #808000; text-decoration-color: #808000; font-weight: bold\"> • </span><span style=\"font-weight: bold\">Doug Anmuth (J.P. Morgan):</span>                                                                                      \n",
              "<span style=\"color: #808000; text-decoration-color: #808000; font-weight: bold\">    • </span><span style=\"font-weight: bold\">Cost Structure Re-Engineering:</span> Doug asked about Ruth's assessment of progress made in re-engineering the cost\n",
              "<span style=\"color: #808000; text-decoration-color: #808000; font-weight: bold\">      </span>structure and any future guidance.                                                                           \n",
              "<span style=\"color: #808000; text-decoration-color: #808000; font-weight: bold\">    • </span><span style=\"font-weight: bold\">NFL Sunday Ticket:</span> Doug asked about key learnings from the first year of NFL Sunday Ticket and the expected  \n",
              "<span style=\"color: #808000; text-decoration-color: #808000; font-weight: bold\">      </span>return on investment.                                                                                        \n",
              "<span style=\"color: #808000; text-decoration-color: #808000; font-weight: bold\"> • </span><span style=\"font-weight: bold\">Eric Sheridan (Goldman Sachs):</span>                                                                                  \n",
              "<span style=\"color: #808000; text-decoration-color: #808000; font-weight: bold\">    • </span><span style=\"font-weight: bold\">Search Generative Experience Evolution:</span> Eric inquired about the future evolution of traditional search and   \n",
              "<span style=\"color: #808000; text-decoration-color: #808000; font-weight: bold\">      </span>Google Assistant in a world with search generative experiences like Bard.                                    \n",
              "<span style=\"color: #808000; text-decoration-color: #808000; font-weight: bold\">    • </span><span style=\"font-weight: bold\">One-Timers in Q4:</span> Eric sought clarification on the allocation of one-timers in the Q4 results, particularly  \n",
              "<span style=\"color: #808000; text-decoration-color: #808000; font-weight: bold\">      </span>related to real estate charges.                                                                              \n",
              "<span style=\"color: #808000; text-decoration-color: #808000; font-weight: bold\"> • </span><span style=\"font-weight: bold\">Michael Nathanson (MoffettNathanson):</span>                                                                           \n",
              "<span style=\"color: #808000; text-decoration-color: #808000; font-weight: bold\">    • </span><span style=\"font-weight: bold\">Connected TV Outside the U.S.:</span> Michael asked about the opportunity for Connected TV outside the U.S. and     \n",
              "<span style=\"color: #808000; text-decoration-color: #808000; font-weight: bold\">      </span>Alphabet's plans for driving adoption.                                                                       \n",
              "<span style=\"color: #808000; text-decoration-color: #808000; font-weight: bold\">    • </span><span style=\"font-weight: bold\">Shorts Monetization Challenges:</span> Michael asked if the monetization challenges associated with Shorts persist  \n",
              "<span style=\"color: #808000; text-decoration-color: #808000; font-weight: bold\">      </span>and about the density of advertising interest in this format.                                                \n",
              "<span style=\"color: #808000; text-decoration-color: #808000; font-weight: bold\"> • </span><span style=\"font-weight: bold\">Justin Post (Bank of America Merrill Lynch):</span>                                                                    \n",
              "<span style=\"color: #808000; text-decoration-color: #808000; font-weight: bold\">    • </span><span style=\"font-weight: bold\">Search Growth and Competition:</span> Justin raised concerns about the use of competitive AI tools as alternatives  \n",
              "<span style=\"color: #808000; text-decoration-color: #808000; font-weight: bold\">      </span>to Search and asked about changes in query volumes.                                                          \n",
              "<span style=\"color: #808000; text-decoration-color: #808000; font-weight: bold\">    • </span><span style=\"font-weight: bold\">AI-Powered Creatives for SMBs:</span> Justin inquired about the potential for AI to create performance-based video  \n",
              "<span style=\"color: #808000; text-decoration-color: #808000; font-weight: bold\">      </span>ad campaigns for SMBs and the rollout of this offering.                                                      \n",
              "\n",
              "These are just some of the key questions asked during the earnings call. The analysts were keen to understand the  \n",
              "progress and potential of AI across various Alphabet businesses.                                                   \n",
              "</pre>\n"
            ]
          },
          "metadata": {},
          "execution_count": 11
        }
      ]
    },
    {
      "cell_type": "markdown",
      "source": [
        "#### Context Caching [Paid Feature]"
      ],
      "metadata": {
        "id": "g59-fwajVAd4"
      }
    },
    {
      "cell_type": "markdown",
      "source": [
        "More details about the API: [Link](https://ai.google.dev/gemini-api/docs/caching?lang=python)\n",
        "\n",
        "Context Caching pricing: [Link](https://ai.google.dev/pricing)"
      ],
      "metadata": {
        "id": "_cpo5jDbVDeE"
      }
    },
    {
      "cell_type": "code",
      "source": [
        "%%time\n",
        "\n",
        "from google.generativeai import caching\n",
        "import datetime\n",
        "import time\n",
        "\n",
        "# Create a cache with a 5 minute TTL\n",
        "cache = caching.CachedContent.create(\n",
        "    model='models/gemini-1.5-flash-001',\n",
        "    display_name='alphabet earning call', # used to identify the cache\n",
        "    system_instruction=(\n",
        "        'You are an expert audio analyzer, and your job is to answer '\n",
        "        'the user\\'s query based on the audio file you have access to.'\n",
        "    ),\n",
        "    contents=[earning_calls],\n",
        "    # caching duration is called the time to live (TTL). If not set, the TTL defaults to 1 hour.\n",
        "    # The cost for caching depends on the input token size and how long you want the tokens to persist.\n",
        "    ttl=datetime.timedelta(minutes=5),\n",
        ")"
      ],
      "metadata": {
        "colab": {
          "base_uri": "https://localhost:8080/",
          "height": 53
        },
        "id": "ckyHf3uwT2pa",
        "outputId": "c6c5f08b-47de-4e2f-8294-0188456a7aab"
      },
      "execution_count": null,
      "outputs": [
        {
          "output_type": "stream",
          "name": "stdout",
          "text": [
            "CPU times: user 616 ms, sys: 53.1 ms, total: 669 ms\n",
            "Wall time: 49.9 s\n"
          ]
        }
      ]
    },
    {
      "cell_type": "code",
      "source": [
        "%%time\n",
        "\n",
        "# Construct a GenerativeModel which uses the created cache.\n",
        "cached_model = genai.GenerativeModel.from_cached_content(cached_content=cache)\n",
        "\n",
        "# Query the model\n",
        "response = cached_model.generate_content([(\"\"\"Instructions:\n",
        "- Quote the speaker name.\n",
        "- Mention the timestamp.\n",
        "- Respond in structured format and bullets.\n",
        "\n",
        "Task: Summarize the questions by Bank of America analyst and their response from Alphabet.\n",
        "\"\"\")])\n",
        "\n",
        "print(response.usage_metadata)\n",
        "\n",
        "\n",
        "rich_Markdown(response.text)"
      ],
      "metadata": {
        "colab": {
          "base_uri": "https://localhost:8080/",
          "height": 633
        },
        "id": "3f2RVqEwUI26",
        "outputId": "b7c2f6b3-b077-4834-f416-33527a99fd6d"
      },
      "execution_count": null,
      "outputs": [
        {
          "output_type": "stream",
          "name": "stdout",
          "text": [
            "prompt_token_count: 109259\n",
            "candidates_token_count: 481\n",
            "total_token_count: 109740\n",
            "cached_content_token_count: 109213\n",
            "\n",
            "CPU times: user 265 ms, sys: 28.4 ms, total: 294 ms\n",
            "Wall time: 20.1 s\n"
          ]
        },
        {
          "output_type": "execute_result",
          "data": {
            "text/plain": [
              "Here's a summary of the questions asked by the Bank of America analyst and the responses from Alphabet:            \n",
              "\n",
              "\u001b[1;33m • \u001b[0m\u001b[1mSpeaker\u001b[0m:  Justin Post, Bank of America                                                                          \n",
              "\u001b[1;33m • \u001b[0m\u001b[1mTimestamp\u001b[0m: 47:48 - 48:30                                                                                        \n",
              "\u001b[1;33m • \u001b[0m\u001b[1mQuestion\u001b[0m:  It's been about 2 years since PMax was launched. However, there has been a lineage of product        \n",
              "\u001b[1;33m   \u001b[0mdevelopment and rollout of things like smart bidding in your history. I believe it was designed to help smaller \n",
              "\u001b[1;33m   \u001b[0madvertisers more easily run search advertising. Today you are helping them generate creatives and manage their  \n",
              "\u001b[1;33m   \u001b[0mspend and maximize their ROI across multiple global surfaces. How are you feeling about enabling SMBs who       \n",
              "\u001b[1;33m   \u001b[0motherwise could not advertise with you before? And what kind of tailwind does that create for your revenue      \n",
              "\u001b[1;33m   \u001b[0mgrowth over the longer term?                                                                                    \n",
              "\u001b[1;33m • \u001b[0m\u001b[1mResponse\u001b[0m:                                                                                                       \n",
              "\u001b[1;33m   \u001b[0m\u001b[1;33m • \u001b[0mSMBs are a huge focus for Alphabet, mentioned several times before.                                          \n",
              "\u001b[1;33m   \u001b[0m\u001b[1;33m • \u001b[0mThey're part of the GCS channel.                                                                             \n",
              "\u001b[1;33m   \u001b[0m\u001b[1;33m • \u001b[0mSMBs have been under a lot of change in the last few years.                                                  \n",
              "\u001b[1;33m   \u001b[0m\u001b[1;33m • \u001b[0mAlphabet's focus has been to invest in solutions that level the playing field.                               \n",
              "\u001b[1;33m   \u001b[0m\u001b[1;33m • \u001b[0mFeedback they receive is that SMBs need easy solutions that drive value quickly.                             \n",
              "\u001b[1;33m   \u001b[0m\u001b[1;33m • \u001b[0mThe AI-powered solutions are making workflow easier.                                                         \n",
              "\u001b[1;33m   \u001b[0m\u001b[1;33m • \u001b[0mAlphabet is very satisfied with what they're seeing and will continue to invest in the area.                 \n",
              "\u001b[1;33m • \u001b[0m\u001b[1mSpeaker\u001b[0m: Justin Post, Bank of America                                                                           \n",
              "\u001b[1;33m • \u001b[0m\u001b[1mTimestamp\u001b[0m: 47:50 - 48:29                                                                                        \n",
              "\u001b[1;33m • \u001b[0m\u001b[1mQuestion\u001b[0m:  You've been consistent about the strength of Shorts over the past year. You talked a bit about the   \n",
              "\u001b[1;33m   \u001b[0mmonetization challenges, do you still see the headwinds that you saw at the beginning? Anything you can share   \n",
              "\u001b[1;33m   \u001b[0mabout the density of the auction or advertising interest on Shorts to help us with whether or not that's still a\n",
              "\u001b[1;33m   \u001b[0mheadwind to growth?                                                                                             \n",
              "\u001b[1;33m • \u001b[0m\u001b[1mResponse\u001b[0m:                                                                                                       \n",
              "\u001b[1;33m   \u001b[0m\u001b[1;33m • \u001b[0mShorts were built to respond to a huge demand for short-form videos from both creators and viewers.          \n",
              "\u001b[1;33m   \u001b[0m\u001b[1;33m • \u001b[0mAlphabet is pleased with the growth they have seen.                                                          \n",
              "\u001b[1;33m   \u001b[0m\u001b[1;33m • \u001b[0mShorts monetization continues to progress nicely.                                                            \n",
              "\u001b[1;33m   \u001b[0m\u001b[1;33m • \u001b[0mRevenue sharing for Shorts has increased every month.                                                        \n",
              "\u001b[1;33m   \u001b[0m\u001b[1;33m • \u001b[0mAlphabet is committed to long-term partnerships and sees Shorts as an opportunity.                           \n"
            ],
            "text/html": [
              "<pre style=\"white-space:pre;overflow-x:auto;line-height:normal;font-family:Menlo,'DejaVu Sans Mono',consolas,'Courier New',monospace\">Here's a summary of the questions asked by the Bank of America analyst and the responses from Alphabet:            \n",
              "\n",
              "<span style=\"color: #808000; text-decoration-color: #808000; font-weight: bold\"> • </span><span style=\"font-weight: bold\">Speaker</span>:  Justin Post, Bank of America                                                                          \n",
              "<span style=\"color: #808000; text-decoration-color: #808000; font-weight: bold\"> • </span><span style=\"font-weight: bold\">Timestamp</span>: 47:48 - 48:30                                                                                        \n",
              "<span style=\"color: #808000; text-decoration-color: #808000; font-weight: bold\"> • </span><span style=\"font-weight: bold\">Question</span>:  It's been about 2 years since PMax was launched. However, there has been a lineage of product        \n",
              "<span style=\"color: #808000; text-decoration-color: #808000; font-weight: bold\">   </span>development and rollout of things like smart bidding in your history. I believe it was designed to help smaller \n",
              "<span style=\"color: #808000; text-decoration-color: #808000; font-weight: bold\">   </span>advertisers more easily run search advertising. Today you are helping them generate creatives and manage their  \n",
              "<span style=\"color: #808000; text-decoration-color: #808000; font-weight: bold\">   </span>spend and maximize their ROI across multiple global surfaces. How are you feeling about enabling SMBs who       \n",
              "<span style=\"color: #808000; text-decoration-color: #808000; font-weight: bold\">   </span>otherwise could not advertise with you before? And what kind of tailwind does that create for your revenue      \n",
              "<span style=\"color: #808000; text-decoration-color: #808000; font-weight: bold\">   </span>growth over the longer term?                                                                                    \n",
              "<span style=\"color: #808000; text-decoration-color: #808000; font-weight: bold\"> • </span><span style=\"font-weight: bold\">Response</span>:                                                                                                       \n",
              "<span style=\"color: #808000; text-decoration-color: #808000; font-weight: bold\">    • </span>SMBs are a huge focus for Alphabet, mentioned several times before.                                          \n",
              "<span style=\"color: #808000; text-decoration-color: #808000; font-weight: bold\">    • </span>They're part of the GCS channel.                                                                             \n",
              "<span style=\"color: #808000; text-decoration-color: #808000; font-weight: bold\">    • </span>SMBs have been under a lot of change in the last few years.                                                  \n",
              "<span style=\"color: #808000; text-decoration-color: #808000; font-weight: bold\">    • </span>Alphabet's focus has been to invest in solutions that level the playing field.                               \n",
              "<span style=\"color: #808000; text-decoration-color: #808000; font-weight: bold\">    • </span>Feedback they receive is that SMBs need easy solutions that drive value quickly.                             \n",
              "<span style=\"color: #808000; text-decoration-color: #808000; font-weight: bold\">    • </span>The AI-powered solutions are making workflow easier.                                                         \n",
              "<span style=\"color: #808000; text-decoration-color: #808000; font-weight: bold\">    • </span>Alphabet is very satisfied with what they're seeing and will continue to invest in the area.                 \n",
              "<span style=\"color: #808000; text-decoration-color: #808000; font-weight: bold\"> • </span><span style=\"font-weight: bold\">Speaker</span>: Justin Post, Bank of America                                                                           \n",
              "<span style=\"color: #808000; text-decoration-color: #808000; font-weight: bold\"> • </span><span style=\"font-weight: bold\">Timestamp</span>: 47:50 - 48:29                                                                                        \n",
              "<span style=\"color: #808000; text-decoration-color: #808000; font-weight: bold\"> • </span><span style=\"font-weight: bold\">Question</span>:  You've been consistent about the strength of Shorts over the past year. You talked a bit about the   \n",
              "<span style=\"color: #808000; text-decoration-color: #808000; font-weight: bold\">   </span>monetization challenges, do you still see the headwinds that you saw at the beginning? Anything you can share   \n",
              "<span style=\"color: #808000; text-decoration-color: #808000; font-weight: bold\">   </span>about the density of the auction or advertising interest on Shorts to help us with whether or not that's still a\n",
              "<span style=\"color: #808000; text-decoration-color: #808000; font-weight: bold\">   </span>headwind to growth?                                                                                             \n",
              "<span style=\"color: #808000; text-decoration-color: #808000; font-weight: bold\"> • </span><span style=\"font-weight: bold\">Response</span>:                                                                                                       \n",
              "<span style=\"color: #808000; text-decoration-color: #808000; font-weight: bold\">    • </span>Shorts were built to respond to a huge demand for short-form videos from both creators and viewers.          \n",
              "<span style=\"color: #808000; text-decoration-color: #808000; font-weight: bold\">    • </span>Alphabet is pleased with the growth they have seen.                                                          \n",
              "<span style=\"color: #808000; text-decoration-color: #808000; font-weight: bold\">    • </span>Shorts monetization continues to progress nicely.                                                            \n",
              "<span style=\"color: #808000; text-decoration-color: #808000; font-weight: bold\">    • </span>Revenue sharing for Shorts has increased every month.                                                        \n",
              "<span style=\"color: #808000; text-decoration-color: #808000; font-weight: bold\">    • </span>Alphabet is committed to long-term partnerships and sees Shorts as an opportunity.                           \n",
              "</pre>\n"
            ]
          },
          "metadata": {},
          "execution_count": 9
        }
      ]
    },
    {
      "cell_type": "code",
      "source": [
        "# Query the model\n",
        "response = cached_model.generate_content([(\"\"\"Instructions:\n",
        "- Quote the speaker name.\n",
        "- Mention the timestamp.\n",
        "- Respond in structured format and bullets.\n",
        "\n",
        "Task: Summarize the questions by Morgan Stanley analyst and their response from Alphabet.\n",
        "\"\"\")])\n",
        "\n",
        "print(response.usage_metadata)\n",
        "\n",
        "\n",
        "rich_Markdown(response.text)"
      ],
      "metadata": {
        "colab": {
          "base_uri": "https://localhost:8080/",
          "height": 630
        },
        "id": "2XyFFzm2WQZ3",
        "outputId": "b606ac39-31d7-4a63-8217-7db0584f6779"
      },
      "execution_count": null,
      "outputs": [
        {
          "output_type": "stream",
          "name": "stdout",
          "text": [
            "prompt_token_count: 109257\n",
            "candidates_token_count: 647\n",
            "total_token_count: 109904\n",
            "cached_content_token_count: 109213\n",
            "\n"
          ]
        },
        {
          "output_type": "execute_result",
          "data": {
            "text/plain": [
              "Here is a summary of the questions and responses from Morgan Stanley analyst:                                      \n",
              "\n",
              "\u001b[1;33m • \u001b[0m\u001b[1mSpeaker:\u001b[0m Brian Nowak (Morgan Stanley)                                                                           \n",
              "\u001b[1;33m • \u001b[0m\u001b[1mTimestamp:\u001b[0m 32:57-33:43                                                                                          \n",
              "\u001b[1;33m   \u001b[0m\u001b[1;33m • \u001b[0m\u001b[1mQuestion 1:\u001b[0m \"Can you walk us through some of the hurdles and gating factors that we should be thinking       \n",
              "\u001b[1;33m   \u001b[0m\u001b[1;33m   \u001b[0mthrough that dictate the pace at which these tools can be rolled out broadly?\"                               \n",
              "\u001b[1;33m   \u001b[0m\u001b[1;33m • \u001b[0m\u001b[1mQuestion 2:\u001b[0m \"How do you think about the long-term salesforce intensity of the advertising business as you    \n",
              "\u001b[1;33m   \u001b[0m\u001b[1;33m   \u001b[0mroll more AI-based tools like PMax impacting the overall ad allocation?\"                                     \n",
              "\u001b[1;33m • \u001b[0m\u001b[1mSpeaker:\u001b[0m Philip Schindler (Alphabet)                                                                            \n",
              "\u001b[1;33m • \u001b[0m\u001b[1mTimestamp:\u001b[0m 33:45-36:19                                                                                          \n",
              "\u001b[1;33m   \u001b[0m\u001b[1;33m • \u001b[0m\u001b[1mResponse 1:\u001b[0m \"AI has been at the core of our advertising products for a very long time, and the recent        \n",
              "\u001b[1;33m   \u001b[0m\u001b[1;33m   \u001b[0madvances are allowing us to drive more value for advertisers across a large range of different areas like    \n",
              "\u001b[1;33m   \u001b[0m\u001b[1;33m   \u001b[0mbidding, targeting, creative, as well as our core advertiser and publisher experiences. We're seeing in core \n",
              "\u001b[1;33m   \u001b[0m\u001b[1;33m   \u001b[0msearch ads for example, the bidding side, the value-based bidding, as a very significant one, on the         \n",
              "\u001b[1;33m   \u001b[0m\u001b[1;33m   \u001b[0mtargeting side, the broad match, on creatives, responsive search ads, automatically created ads. We're very  \n",
              "\u001b[1;33m   \u001b[0m\u001b[1;33m   \u001b[0mhappy with the progress we're seeing in those areas. I think I mentioned in one of the previous calls, that  \n",
              "\u001b[1;33m   \u001b[0m\u001b[1;33m   \u001b[0mwhen you asked about hurdles and gating factors, the AI essentials play a huge role in this, trying to get   \n",
              "\u001b[1;33m   \u001b[0m\u001b[1;33m   \u001b[0meverybody ready to really take full advantage of those tools. We talked about the progress on PMax as well,  \n",
              "\u001b[1;33m   \u001b[0m\u001b[1;33m   \u001b[0mand that we were very happy with in Q4. So, overall, I think we're on track with what we're expecting here.\" \n",
              "\u001b[1;33m   \u001b[0m\u001b[1;33m • \u001b[0m\u001b[1mResponse 2:\u001b[0m \"On the salesforce intensity side, we've done a few reallocations, or let me call it portfolio   \n",
              "\u001b[1;33m   \u001b[0m\u001b[1;33m   \u001b[0madjustments. As you know, we have two large, different teams. One is our LCS, large customer solutions team  \n",
              "\u001b[1;33m   \u001b[0m\u001b[1;33m   \u001b[0mthat's really focused on transformational growth for the largest and most sophisticated customers and we have\n",
              "\u001b[1;33m   \u001b[0m\u001b[1;33m   \u001b[0mour GCS, global customer solutions team, which is the channel where really every customer starts from some of\n",
              "\u001b[1;33m   \u001b[0m\u001b[1;33m   \u001b[0mour largest customers now to also the millions of smaller ones in SMBs. The GCS is really, then, scaling     \n",
              "\u001b[1;33m   \u001b[0m\u001b[1;33m   \u001b[0mgrowth by dynamically delivering really the right treatment for every customer, and importantly to note, it's\n",
              "\u001b[1;33m   \u001b[0m\u001b[1;33m   \u001b[0malso our fastest-growing channel and it delivered particularly strong growth in Q4. So, we've done           \n",
              "\u001b[1;33m   \u001b[0m\u001b[1;33m   \u001b[0madjustments here to focus more resources on the GCS side, but I also want to be clear when we restructure,   \n",
              "\u001b[1;33m   \u001b[0m\u001b[1;33m   \u001b[0mthere's always an opportunity to be more efficient and smarter in how we service and grow our customers.     \n",
              "\u001b[1;33m   \u001b[0m\u001b[1;33m   \u001b[0mWe're not restructuring because AI is taking away roles, that's important here. But we see significant       \n",
              "\u001b[1;33m   \u001b[0m\u001b[1;33m   \u001b[0mopportunities here with our AI-powered solutions to actually deliver incredible ROI at scale, and that's why \n",
              "\u001b[1;33m   \u001b[0m\u001b[1;33m   \u001b[0mwe're doing some of those adjustments. So, I look at salesforce intensity as a stronger focus going forward  \n",
              "\u001b[1;33m   \u001b[0m\u001b[1;33m   \u001b[0mon the channels I mentioned here.\"                                                                           \n"
            ],
            "text/html": [
              "<pre style=\"white-space:pre;overflow-x:auto;line-height:normal;font-family:Menlo,'DejaVu Sans Mono',consolas,'Courier New',monospace\">Here is a summary of the questions and responses from Morgan Stanley analyst:                                      \n",
              "\n",
              "<span style=\"color: #808000; text-decoration-color: #808000; font-weight: bold\"> • </span><span style=\"font-weight: bold\">Speaker:</span> Brian Nowak (Morgan Stanley)                                                                           \n",
              "<span style=\"color: #808000; text-decoration-color: #808000; font-weight: bold\"> • </span><span style=\"font-weight: bold\">Timestamp:</span> 32:57-33:43                                                                                          \n",
              "<span style=\"color: #808000; text-decoration-color: #808000; font-weight: bold\">    • </span><span style=\"font-weight: bold\">Question 1:</span> \"Can you walk us through some of the hurdles and gating factors that we should be thinking       \n",
              "<span style=\"color: #808000; text-decoration-color: #808000; font-weight: bold\">      </span>through that dictate the pace at which these tools can be rolled out broadly?\"                               \n",
              "<span style=\"color: #808000; text-decoration-color: #808000; font-weight: bold\">    • </span><span style=\"font-weight: bold\">Question 2:</span> \"How do you think about the long-term salesforce intensity of the advertising business as you    \n",
              "<span style=\"color: #808000; text-decoration-color: #808000; font-weight: bold\">      </span>roll more AI-based tools like PMax impacting the overall ad allocation?\"                                     \n",
              "<span style=\"color: #808000; text-decoration-color: #808000; font-weight: bold\"> • </span><span style=\"font-weight: bold\">Speaker:</span> Philip Schindler (Alphabet)                                                                            \n",
              "<span style=\"color: #808000; text-decoration-color: #808000; font-weight: bold\"> • </span><span style=\"font-weight: bold\">Timestamp:</span> 33:45-36:19                                                                                          \n",
              "<span style=\"color: #808000; text-decoration-color: #808000; font-weight: bold\">    • </span><span style=\"font-weight: bold\">Response 1:</span> \"AI has been at the core of our advertising products for a very long time, and the recent        \n",
              "<span style=\"color: #808000; text-decoration-color: #808000; font-weight: bold\">      </span>advances are allowing us to drive more value for advertisers across a large range of different areas like    \n",
              "<span style=\"color: #808000; text-decoration-color: #808000; font-weight: bold\">      </span>bidding, targeting, creative, as well as our core advertiser and publisher experiences. We're seeing in core \n",
              "<span style=\"color: #808000; text-decoration-color: #808000; font-weight: bold\">      </span>search ads for example, the bidding side, the value-based bidding, as a very significant one, on the         \n",
              "<span style=\"color: #808000; text-decoration-color: #808000; font-weight: bold\">      </span>targeting side, the broad match, on creatives, responsive search ads, automatically created ads. We're very  \n",
              "<span style=\"color: #808000; text-decoration-color: #808000; font-weight: bold\">      </span>happy with the progress we're seeing in those areas. I think I mentioned in one of the previous calls, that  \n",
              "<span style=\"color: #808000; text-decoration-color: #808000; font-weight: bold\">      </span>when you asked about hurdles and gating factors, the AI essentials play a huge role in this, trying to get   \n",
              "<span style=\"color: #808000; text-decoration-color: #808000; font-weight: bold\">      </span>everybody ready to really take full advantage of those tools. We talked about the progress on PMax as well,  \n",
              "<span style=\"color: #808000; text-decoration-color: #808000; font-weight: bold\">      </span>and that we were very happy with in Q4. So, overall, I think we're on track with what we're expecting here.\" \n",
              "<span style=\"color: #808000; text-decoration-color: #808000; font-weight: bold\">    • </span><span style=\"font-weight: bold\">Response 2:</span> \"On the salesforce intensity side, we've done a few reallocations, or let me call it portfolio   \n",
              "<span style=\"color: #808000; text-decoration-color: #808000; font-weight: bold\">      </span>adjustments. As you know, we have two large, different teams. One is our LCS, large customer solutions team  \n",
              "<span style=\"color: #808000; text-decoration-color: #808000; font-weight: bold\">      </span>that's really focused on transformational growth for the largest and most sophisticated customers and we have\n",
              "<span style=\"color: #808000; text-decoration-color: #808000; font-weight: bold\">      </span>our GCS, global customer solutions team, which is the channel where really every customer starts from some of\n",
              "<span style=\"color: #808000; text-decoration-color: #808000; font-weight: bold\">      </span>our largest customers now to also the millions of smaller ones in SMBs. The GCS is really, then, scaling     \n",
              "<span style=\"color: #808000; text-decoration-color: #808000; font-weight: bold\">      </span>growth by dynamically delivering really the right treatment for every customer, and importantly to note, it's\n",
              "<span style=\"color: #808000; text-decoration-color: #808000; font-weight: bold\">      </span>also our fastest-growing channel and it delivered particularly strong growth in Q4. So, we've done           \n",
              "<span style=\"color: #808000; text-decoration-color: #808000; font-weight: bold\">      </span>adjustments here to focus more resources on the GCS side, but I also want to be clear when we restructure,   \n",
              "<span style=\"color: #808000; text-decoration-color: #808000; font-weight: bold\">      </span>there's always an opportunity to be more efficient and smarter in how we service and grow our customers.     \n",
              "<span style=\"color: #808000; text-decoration-color: #808000; font-weight: bold\">      </span>We're not restructuring because AI is taking away roles, that's important here. But we see significant       \n",
              "<span style=\"color: #808000; text-decoration-color: #808000; font-weight: bold\">      </span>opportunities here with our AI-powered solutions to actually deliver incredible ROI at scale, and that's why \n",
              "<span style=\"color: #808000; text-decoration-color: #808000; font-weight: bold\">      </span>we're doing some of those adjustments. So, I look at salesforce intensity as a stronger focus going forward  \n",
              "<span style=\"color: #808000; text-decoration-color: #808000; font-weight: bold\">      </span>on the channels I mentioned here.\"                                                                           \n",
              "</pre>\n"
            ]
          },
          "metadata": {},
          "execution_count": 10
        }
      ]
    },
    {
      "cell_type": "code",
      "source": [
        "# delete the file\n",
        "genai.delete_file(name=earning_calls.name)"
      ],
      "metadata": {
        "id": "jVBbv9lwoeLF"
      },
      "execution_count": null,
      "outputs": []
    },
    {
      "cell_type": "markdown",
      "source": [
        "### Images (Read PDF as Images)"
      ],
      "metadata": {
        "id": "sHytDs7cwmzi"
      }
    },
    {
      "cell_type": "code",
      "source": [
        "#@title Helper Functions\n",
        "## Helper Function\n",
        "\n",
        "import os\n",
        "from pdf2image import convert_from_path\n",
        "\n",
        "def pdf_to_images(file_path, output_folder=\"output_folder\"):\n",
        "    \"\"\"Converts a PDF file into images for each page, saves them to a folder, and returns a list of image paths.\"\"\"\n",
        "\n",
        "    # Create output folder if it doesn't exist\n",
        "    if not os.path.exists(output_folder):\n",
        "        os.makedirs(output_folder)\n",
        "\n",
        "    # Convert PDF to images\n",
        "    images = convert_from_path(file_path, dpi=200, output_folder=output_folder, fmt=\"jpg\")\n",
        "\n",
        "    # Generate image paths\n",
        "    image_paths = []\n",
        "    pages_list = []\n",
        "    upload_file_name = []\n",
        "    for i, image in enumerate(images):\n",
        "        image_name = f\"page_{i+1}.jpg\"  # Page numbers start from 1\n",
        "        image_path = os.path.join(output_folder, image_name)\n",
        "        image.save(image_path, \"JPEG\")\n",
        "        image_paths.append(image_path)\n",
        "        files_to_upload = genai.upload_file(image_path, display_name=image_path)\n",
        "        pages_list.append(files_to_upload)\n",
        "        upload_file_name.append([files_to_upload.name, files_to_upload.display_name])\n",
        "\n",
        "    return image_paths, pages_list, upload_file_name\n",
        "\n",
        "def make_request(prompt, files):\n",
        "  request = [prompt]\n",
        "  for file in files:\n",
        "    request.append(file)\n",
        "  return request\n",
        "\n",
        "def delete_files(output_folder):\n",
        "  for filename in os.listdir(output_folder):\n",
        "    if filename.endswith(\".jpg\"):\n",
        "      file_path = os.path.join(output_folder, filename)\n",
        "      genai.delete_file(name=file_path)"
      ],
      "metadata": {
        "cellView": "form",
        "id": "m8-A8ExQDN5k"
      },
      "execution_count": null,
      "outputs": []
    },
    {
      "cell_type": "markdown",
      "source": [
        "Source File: [Link](https://drive.google.com/file/d/1GXGfwoe8-vsoOM1E8SBOCybc7R5XRd2P/view?usp=drive_link) ~18 pages"
      ],
      "metadata": {
        "id": "yU1DtGu_Ysew"
      }
    },
    {
      "cell_type": "code",
      "source": [
        "%%time\n",
        "\n",
        "file_path = \"/content/data/Idea/stage_1_prototype_Google Cloud TPU blog.pdf\"\n",
        "output_folder = \"/content/output_images\"\n",
        "image_paths, pages_list, upload_file_name = pdf_to_images(file_path, output_folder)"
      ],
      "metadata": {
        "id": "00BAnkvRD8hX",
        "colab": {
          "base_uri": "https://localhost:8080/",
          "height": 53
        },
        "outputId": "b5e07953-542d-427d-be65-2438fe3efff2"
      },
      "execution_count": null,
      "outputs": [
        {
          "output_type": "stream",
          "name": "stdout",
          "text": [
            "CPU times: user 1.17 s, sys: 437 ms, total: 1.61 s\n",
            "Wall time: 50.1 s\n"
          ]
        }
      ]
    },
    {
      "cell_type": "code",
      "source": [
        "image_paths[1]"
      ],
      "metadata": {
        "colab": {
          "base_uri": "https://localhost:8080/",
          "height": 35
        },
        "id": "Vdn3uMShZYOL",
        "outputId": "f8d8ff57-c2dc-4b23-8f96-f045b489832b"
      },
      "execution_count": null,
      "outputs": [
        {
          "output_type": "execute_result",
          "data": {
            "text/plain": [
              "'/content/output_images/page_2.jpg'"
            ],
            "application/vnd.google.colaboratory.intrinsic+json": {
              "type": "string"
            }
          },
          "metadata": {},
          "execution_count": 17
        }
      ]
    },
    {
      "cell_type": "code",
      "source": [
        "pages_list[1]"
      ],
      "metadata": {
        "colab": {
          "base_uri": "https://localhost:8080/"
        },
        "id": "VPf61MW_ZZOu",
        "outputId": "28532689-e649-49c4-f6f6-698ae26674b6"
      },
      "execution_count": null,
      "outputs": [
        {
          "output_type": "execute_result",
          "data": {
            "text/plain": [
              "genai.File({\n",
              "    'name': 'files/xa3g6r2evm1u',\n",
              "    'display_name': '/content/output_images/page_2.jpg',\n",
              "    'mime_type': 'image/jpeg',\n",
              "    'sha256_hash': 'YjhjM2FlYTQ1YjFjODQzMGVhNTFkZTRhZjc5ZTQ0NWRhMDEwNmQyYzNiNjUyODc3NDhjY2EwZDYwZWVhMDU4MQ==',\n",
              "    'size_bytes': '181004',\n",
              "    'state': 'ACTIVE',\n",
              "    'uri': 'https://generativelanguage.googleapis.com/v1beta/files/xa3g6r2evm1u',\n",
              "    'create_time': '2024-07-16T16:44:25.926108Z',\n",
              "    'expiration_time': '2024-07-18T16:44:25.844202521Z',\n",
              "    'update_time': '2024-07-16T16:44:25.926108Z'})"
            ]
          },
          "metadata": {},
          "execution_count": 18
        }
      ]
    },
    {
      "cell_type": "code",
      "source": [
        "upload_file_name[1]"
      ],
      "metadata": {
        "colab": {
          "base_uri": "https://localhost:8080/"
        },
        "id": "Dh_UBwX9Ze0H",
        "outputId": "d46718f4-3d02-4758-c069-00354a0d97a3"
      },
      "execution_count": null,
      "outputs": [
        {
          "output_type": "execute_result",
          "data": {
            "text/plain": [
              "['files/xa3g6r2evm1u', '/content/output_images/page_2.jpg']"
            ]
          },
          "metadata": {},
          "execution_count": 19
        }
      ]
    },
    {
      "cell_type": "code",
      "source": [
        "%%time\n",
        "\n",
        "response = model_flash.generate_content(\n",
        "make_request(\"what is the emfu for bf16 and 128b parameter model with 1 tpu v5e pod? Cite the table and page number and explain the significance of the results\",\n",
        "             pages_list))\n",
        "print(\"\\n Usage Metadata:\\n\",response.usage_metadata)\n",
        "rich_Markdown(response.text)"
      ],
      "metadata": {
        "id": "oi_NjB6NSLeF",
        "colab": {
          "base_uri": "https://localhost:8080/",
          "height": 307
        },
        "outputId": "23961dc6-914e-44f1-cd62-3e4de6424f6a"
      },
      "execution_count": null,
      "outputs": [
        {
          "output_type": "stream",
          "name": "stdout",
          "text": [
            "\n",
            " Usage Metadata:\n",
            " prompt_token_count: 4684\n",
            "candidates_token_count: 174\n",
            "total_token_count: 4858\n",
            "\n",
            "CPU times: user 49.6 ms, sys: 8.81 ms, total: 58.4 ms\n",
            "Wall time: 3.22 s\n"
          ]
        },
        {
          "output_type": "execute_result",
          "data": {
            "text/plain": [
              "The EMFU for a 128B parameter model with BF16 training on a single TPU v5e pod is 44.67%. This information can be  \n",
              "found in the table labeled \"MaxText LLM Training Results\" on page 14 of the document.                              \n",
              "\n",
              "The EMFU (Effective Model FLOPs Utilization) represents the percentage of the theoretical peak FLOPS (floating     \n",
              "point operations per second) that is actually being utilized during training.  An EMFU of 44.67% means that the    \n",
              "model is using 44.67% of the potential computing power of the TPU v5e.                                             \n",
              "\n",
              "The significance of this result is that it indicates that the training process is not as efficient as it could be. \n",
              "There is room for improvement in the utilization of the TPU v5e's capabilities.                                    \n"
            ],
            "text/html": [
              "<pre style=\"white-space:pre;overflow-x:auto;line-height:normal;font-family:Menlo,'DejaVu Sans Mono',consolas,'Courier New',monospace\">The EMFU for a 128B parameter model with BF16 training on a single TPU v5e pod is 44.67%. This information can be  \n",
              "found in the table labeled \"MaxText LLM Training Results\" on page 14 of the document.                              \n",
              "\n",
              "The EMFU (Effective Model FLOPs Utilization) represents the percentage of the theoretical peak FLOPS (floating     \n",
              "point operations per second) that is actually being utilized during training.  An EMFU of 44.67% means that the    \n",
              "model is using 44.67% of the potential computing power of the TPU v5e.                                             \n",
              "\n",
              "The significance of this result is that it indicates that the training process is not as efficient as it could be. \n",
              "There is room for improvement in the utilization of the TPU v5e's capabilities.                                    \n",
              "</pre>\n"
            ]
          },
          "metadata": {},
          "execution_count": 21
        }
      ]
    },
    {
      "cell_type": "code",
      "source": [
        "for filename in upload_file_name:\n",
        "  print(\"Deleteing...\",filename[0])\n",
        "  genai.delete_file(name=filename[0])"
      ],
      "metadata": {
        "id": "R1KyZ0JzFWIo",
        "colab": {
          "base_uri": "https://localhost:8080/",
          "height": 338
        },
        "outputId": "c794fecb-57ff-49d9-dc60-c097643e684b"
      },
      "execution_count": null,
      "outputs": [
        {
          "output_type": "stream",
          "name": "stdout",
          "text": [
            "Deleteing... files/mzzdp5t7n8iz\n",
            "Deleteing... files/xa3g6r2evm1u\n",
            "Deleteing... files/zq783pjkz2yp\n",
            "Deleteing... files/rarnd9con98v\n",
            "Deleteing... files/nofplwcbd0a1\n",
            "Deleteing... files/ur5so9dmunx\n",
            "Deleteing... files/ngfn4ylxwjoh\n",
            "Deleteing... files/hozz3jq0clx8\n",
            "Deleteing... files/3t8xemrlh836\n",
            "Deleteing... files/qmzzjg53ye5a\n",
            "Deleteing... files/cp6hhu3mqnnf\n",
            "Deleteing... files/yt13h3ds9nib\n",
            "Deleteing... files/9hql8rovko8g\n",
            "Deleteing... files/n33zomhutfru\n",
            "Deleteing... files/uhkcjseh0axl\n",
            "Deleteing... files/l0mc20evzjct\n",
            "Deleteing... files/dklxcjnqldkc\n",
            "Deleteing... files/jvll0wk7dpnw\n"
          ]
        }
      ]
    },
    {
      "cell_type": "markdown",
      "source": [
        "### Video"
      ],
      "metadata": {
        "id": "q6fVmmQ2zefi"
      }
    },
    {
      "cell_type": "markdown",
      "source": [
        "Source File: [Link](https://drive.google.com/file/d/19aqpEZqTVTERbySYVrtDgSjuUBUabeSE/view?usp=drive_link)"
      ],
      "metadata": {
        "id": "O7bNEUhddfZQ"
      }
    },
    {
      "cell_type": "code",
      "source": [
        "%%time\n",
        "# Upload a video ~ 1min\n",
        "\n",
        "video_file = genai.upload_file(path=\"/content/data/Idea/What's next for AI and Google Search _ Google I_O 2023.mp4\",\n",
        "                            display_name=\"product_pitch_google_video_file\")"
      ],
      "metadata": {
        "colab": {
          "base_uri": "https://localhost:8080/",
          "height": 53
        },
        "id": "BpBb8zJecTaL",
        "outputId": "121fcb96-1514-4f83-c537-ae6f317310de"
      },
      "execution_count": null,
      "outputs": [
        {
          "output_type": "stream",
          "name": "stdout",
          "text": [
            "CPU times: user 52.6 ms, sys: 17.5 ms, total: 70.1 ms\n",
            "Wall time: 3.36 s\n"
          ]
        }
      ]
    },
    {
      "cell_type": "code",
      "source": [
        "%%time\n",
        "\n",
        "prompt_parts = [\n",
        "  video_file,\n",
        "  \"Describe this video and How is google using generative ai in search? Give response in bullet\",\n",
        "]\n",
        "print(model.count_tokens(prompt_parts))\n",
        "response = model.generate_content(prompt_parts,request_options={\"timeout\": 600})\n",
        "print(\"\\n Usage Metadata:\\n\",response.usage_metadata)\n",
        "rich_Markdown(response.text)"
      ],
      "metadata": {
        "colab": {
          "base_uri": "https://localhost:8080/",
          "height": 637
        },
        "id": "WoAE4Q5HcoS-",
        "outputId": "710b5314-3fe5-4c75-c586-21af1c828f4d"
      },
      "execution_count": null,
      "outputs": [
        {
          "output_type": "stream",
          "name": "stdout",
          "text": [
            "total_tokens: 27157\n",
            "\n",
            "\n",
            " Usage Metadata:\n",
            " prompt_token_count: 27158\n",
            "candidates_token_count: 418\n",
            "total_token_count: 27576\n",
            "\n",
            "CPU times: user 229 ms, sys: 23.5 ms, total: 252 ms\n",
            "Wall time: 16.8 s\n"
          ]
        },
        {
          "output_type": "execute_result",
          "data": {
            "text/plain": [
              "Sure. The video is about a new feature from Google called \"Generative AI in Search,\" which aims to change how      \n",
              "people use Google search.                                                                                          \n",
              "\n",
              "Here's a breakdown of the key points from the video and how Google is using generative AI:                         \n",
              "\n",
              "\u001b[1;33m • \u001b[0m\u001b[1mGenerative AI is Changing Search\u001b[0m: The video emphasizes that AI has been powering the evolution of search and    \n",
              "\u001b[1;33m   \u001b[0mthat it's now moving front and center. This signifies a more prominent and interactive role of AI in delivering \n",
              "\u001b[1;33m   \u001b[0msearch results.                                                                                                 \n",
              "\u001b[1;33m • \u001b[0m\u001b[1mAsk Complex Questions in a Single Search\u001b[0m: The video shows how generative AI allows users to ask multi-faceted   \n",
              "\u001b[1;33m   \u001b[0mquestions within a single search bar, eliminating the need for multiple searches. For example, a user searches  \n",
              "\u001b[1;33m   \u001b[0mfor \"dress for an outdoor wedding in Miami in May in a trending color with 2-day delivery.\"                     \n",
              "\u001b[1;33m • \u001b[0m\u001b[1mAI Provides Contextual and Comprehensive Answers\u001b[0m: Instead of just providing links, generative AI analyzes the   \n",
              "\u001b[1;33m   \u001b[0msearch query and generates detailed responses that consider various factors. In the dress example, it           \n",
              "\u001b[1;33m   \u001b[0macknowledges the hot and humid weather in Miami during May and suggests breathable materials and bold colors.   \n",
              "\u001b[1;33m • \u001b[0m\u001b[1mDynamic Content Generation\u001b[0m:  The AI generates a selection of dresses based on the user's criteria, even         \n",
              "\u001b[1;33m   \u001b[0msuggesting options with 2-day delivery.  It also shows suggested follow-up questions based on the search like   \n",
              "\u001b[1;33m   \u001b[0m\"matching accessories\" and \"formal wedding guest dresses.\"                                                      \n",
              "\u001b[1;33m • \u001b[0m\u001b[1mIntegration of Diverse Formats\u001b[0m:  The video highlights how generative AI goes beyond text-based responses by     \n",
              "\u001b[1;33m   \u001b[0mincorporating images, videos, and even social media content. For instance, when the user asks about shoes, the  \n",
              "\u001b[1;33m   \u001b[0mAI showcases a relevant TikTok video.                                                                           \n",
              "\u001b[1;33m • \u001b[0m\u001b[1mContinuous Evolution\u001b[0m: The video concludes by stating that search will continue to evolve using generative AI to \n",
              "\u001b[1;33m   \u001b[0manswer questions and present information in various formats, promising a more interactive and insightful search \n",
              "\u001b[1;33m   \u001b[0mexperience.                                                                                                     \n",
              "\n",
              "In essence, Google's generative AI aims to provide users with more than just a list of links. It aims to deliver a \n",
              "conversational, comprehensive, and visually engaging search experience that caters to complex questions and        \n",
              "individual needs.                                                                                                  \n"
            ],
            "text/html": [
              "<pre style=\"white-space:pre;overflow-x:auto;line-height:normal;font-family:Menlo,'DejaVu Sans Mono',consolas,'Courier New',monospace\">Sure. The video is about a new feature from Google called \"Generative AI in Search,\" which aims to change how      \n",
              "people use Google search.                                                                                          \n",
              "\n",
              "Here's a breakdown of the key points from the video and how Google is using generative AI:                         \n",
              "\n",
              "<span style=\"color: #808000; text-decoration-color: #808000; font-weight: bold\"> • </span><span style=\"font-weight: bold\">Generative AI is Changing Search</span>: The video emphasizes that AI has been powering the evolution of search and    \n",
              "<span style=\"color: #808000; text-decoration-color: #808000; font-weight: bold\">   </span>that it's now moving front and center. This signifies a more prominent and interactive role of AI in delivering \n",
              "<span style=\"color: #808000; text-decoration-color: #808000; font-weight: bold\">   </span>search results.                                                                                                 \n",
              "<span style=\"color: #808000; text-decoration-color: #808000; font-weight: bold\"> • </span><span style=\"font-weight: bold\">Ask Complex Questions in a Single Search</span>: The video shows how generative AI allows users to ask multi-faceted   \n",
              "<span style=\"color: #808000; text-decoration-color: #808000; font-weight: bold\">   </span>questions within a single search bar, eliminating the need for multiple searches. For example, a user searches  \n",
              "<span style=\"color: #808000; text-decoration-color: #808000; font-weight: bold\">   </span>for \"dress for an outdoor wedding in Miami in May in a trending color with 2-day delivery.\"                     \n",
              "<span style=\"color: #808000; text-decoration-color: #808000; font-weight: bold\"> • </span><span style=\"font-weight: bold\">AI Provides Contextual and Comprehensive Answers</span>: Instead of just providing links, generative AI analyzes the   \n",
              "<span style=\"color: #808000; text-decoration-color: #808000; font-weight: bold\">   </span>search query and generates detailed responses that consider various factors. In the dress example, it           \n",
              "<span style=\"color: #808000; text-decoration-color: #808000; font-weight: bold\">   </span>acknowledges the hot and humid weather in Miami during May and suggests breathable materials and bold colors.   \n",
              "<span style=\"color: #808000; text-decoration-color: #808000; font-weight: bold\"> • </span><span style=\"font-weight: bold\">Dynamic Content Generation</span>:  The AI generates a selection of dresses based on the user's criteria, even         \n",
              "<span style=\"color: #808000; text-decoration-color: #808000; font-weight: bold\">   </span>suggesting options with 2-day delivery.  It also shows suggested follow-up questions based on the search like   \n",
              "<span style=\"color: #808000; text-decoration-color: #808000; font-weight: bold\">   </span>\"matching accessories\" and \"formal wedding guest dresses.\"                                                      \n",
              "<span style=\"color: #808000; text-decoration-color: #808000; font-weight: bold\"> • </span><span style=\"font-weight: bold\">Integration of Diverse Formats</span>:  The video highlights how generative AI goes beyond text-based responses by     \n",
              "<span style=\"color: #808000; text-decoration-color: #808000; font-weight: bold\">   </span>incorporating images, videos, and even social media content. For instance, when the user asks about shoes, the  \n",
              "<span style=\"color: #808000; text-decoration-color: #808000; font-weight: bold\">   </span>AI showcases a relevant TikTok video.                                                                           \n",
              "<span style=\"color: #808000; text-decoration-color: #808000; font-weight: bold\"> • </span><span style=\"font-weight: bold\">Continuous Evolution</span>: The video concludes by stating that search will continue to evolve using generative AI to \n",
              "<span style=\"color: #808000; text-decoration-color: #808000; font-weight: bold\">   </span>answer questions and present information in various formats, promising a more interactive and insightful search \n",
              "<span style=\"color: #808000; text-decoration-color: #808000; font-weight: bold\">   </span>experience.                                                                                                     \n",
              "\n",
              "In essence, Google's generative AI aims to provide users with more than just a list of links. It aims to deliver a \n",
              "conversational, comprehensive, and visually engaging search experience that caters to complex questions and        \n",
              "individual needs.                                                                                                  \n",
              "</pre>\n"
            ]
          },
          "metadata": {},
          "execution_count": 25
        }
      ]
    },
    {
      "cell_type": "markdown",
      "source": [
        "You can also use cached context to cache the video and keep asking questions for larger video: [Link](https://ai.google.dev/gemini-api/docs/caching?lang=python#generate-content)"
      ],
      "metadata": {
        "id": "W-jzMhf_c6Tc"
      }
    },
    {
      "cell_type": "markdown",
      "source": [
        "## Embeddings"
      ],
      "metadata": {
        "id": "DxsvTILhMx1w"
      }
    },
    {
      "cell_type": "code",
      "source": [
        "title = \"The next generation of AI for developers and Google Workspace\"\n",
        "sample_text = (\"Title: The next generation of AI for developers and Google Workspace\"\n",
        "    \"\\n\"\n",
        "    \"Full article:\\n\"\n",
        "    \"\\n\"\n",
        "    \"Gemini API & Google AI Studio: An approachable way to explore and prototype with generative AI applications\")\n",
        "\n",
        "model = 'models/text-embedding-004'\n",
        "embedding = genai.embed_content(model=model,\n",
        "                                content=sample_text,\n",
        "                                task_type=\"retrieval_document\",\n",
        "                                title=title)\n",
        "\n",
        "print(embedding['embedding'][:5]) #printing only first 5"
      ],
      "metadata": {
        "id": "3FEi8s6GPJME",
        "colab": {
          "base_uri": "https://localhost:8080/",
          "height": 35
        },
        "outputId": "2241b7b5-6520-4369-a767-903949af870a"
      },
      "execution_count": 3,
      "outputs": [
        {
          "output_type": "stream",
          "name": "stdout",
          "text": [
            "[-0.0021609126, -0.003164448, -0.060120765, -0.0071218405, 0.00087754615]\n"
          ]
        }
      ]
    },
    {
      "cell_type": "code",
      "source": [
        "len(embedding['embedding'])"
      ],
      "metadata": {
        "id": "HkeHHogoPU3S",
        "colab": {
          "base_uri": "https://localhost:8080/"
        },
        "outputId": "8b4c06d9-37b0-4b7e-a3d3-815e7085d6e9"
      },
      "execution_count": 4,
      "outputs": [
        {
          "output_type": "execute_result",
          "data": {
            "text/plain": [
              "768"
            ]
          },
          "metadata": {},
          "execution_count": 4
        }
      ]
    }
  ]
}