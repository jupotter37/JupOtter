{
 "cells": [
  {
   "cell_type": "markdown",
   "id": "fatty-lindsay",
   "metadata": {},
   "source": [
    "# PRESENTATION TOPIC: Conversion of Hexadecimal to Integers and Integers to Hexadecimal\n",
    "\n",
    "## GROUP MEMBERS (GROUP 13):\n",
    "- Alan Kamara\n",
    "- Alice Mbera\n",
    "- Chukwudi Victory\n",
    "- David Sibomana\n"
   ]
  },
  {
   "cell_type": "markdown",
   "id": "fabulous-complexity",
   "metadata": {},
   "source": [
    "# AGENDA\n",
    "\n",
    "1. **Definition of Hexadecimal**\n",
    "2. **Definition of `int2hex()`**\n",
    "3. **Definition of `hex2int()`**\n",
    "4. **Explanation of Code and Its Function**\n"
   ]
  },
  {
   "cell_type": "markdown",
   "id": "moderate-weather",
   "metadata": {},
   "source": [
    "# Hexadecimal Digits\n",
    "\n",
    "Hexadecimal digits represent a number system with a base of 16, using 16 distinct symbols to represent values. These symbols include:\n",
    "\n",
    "- The regular decimal numbers from **0 to 9**\n",
    "- The letters **A to F**\n",
    "\n",
    "## Hexadecimal to Decimal Conversion: `Hex2int()`\n",
    "\n",
    "`Hex2int()` is a function that converts a hexadecimal number to its equivalent decimal (integer) representation.\n",
    "\n",
    "### Examples:\n",
    "- The hexadecimal number **1F** is equivalent to the decimal number **31**.\n",
    "- The hexadecimal number **2F** is equivalent to the decimal number **47**.\n",
    "\n",
    "### Hexadecimal Characters:\n",
    "The 16 hexadecimal characters are: **0, 1, 2, 3, 4, 5, 6, 7, 8, 9, A, B, C, D, E, F**\n",
    "\n",
    "## Decimal to Hexadecimal Conversion: `Int2hex()`\n",
    "\n",
    "`Int2hex()` is a function that converts an integer (decimal number) into its equivalent hexadecimal representation.\n",
    "\n",
    "### Examples:\n",
    "- The decimal number **15** is equivalent to **F**.\n",
    "- The decimal number **14** is equivalent to **E**.\n"
   ]
  },
  {
   "cell_type": "code",
   "execution_count": 14,
   "id": "binding-hotel",
   "metadata": {
    "collapsed": true
   },
   "outputs": [
    {
     "name": "stdout",
     "output_type": "stream",
     "text": [
      "Enter the integer number whose hexadecimal equivalent you wish to know: y\n",
      "\n",
      "Invalid entry. You must enter an integer >= 0. You have 5 tries left.\n",
      "Enter Number: u\n",
      "\n",
      "Invalid entry. You must enter an integer >= 0. You have 4 tries left.\n",
      "Enter Number: 89\n",
      "\n",
      "The hexadecimal equivalent of 89 is 59\n"
     ]
    }
   ],
   "source": [
    "def int2hex():\n",
    "    \"\"\"\n",
    "    Converts an integer to its hexadecimal equivalent.\n",
    "\n",
    "    This function prompts the user for an integer input and checks if the input is valid.\n",
    "    If valid, `our_hex()` function to perform the conversion.\n",
    "    The user has a maximum of 5 attempts to enter a valid integer.\n",
    "\n",
    "    Returns:\n",
    "        str: A message indicating the hexadecimal equivalent of the input integer.\n",
    "    \"\"\"\n",
    "    \n",
    "    def our_hex(num):\n",
    "        \"\"\"\n",
    "        Converts an integer to a hexadecimal string.\n",
    "\n",
    "        Args:\n",
    "            num (int): The integer to convert to hexadecimal.\n",
    "\n",
    "        Returns:\n",
    "            str: The hexadecimal representation of the integer.\n",
    "        \"\"\"\n",
    "        hex_ch = hc = \"0123456789ABCDEF\"  #define hexadecimal characters\n",
    "        hex_result = hr = \"\"\n",
    "\n",
    "        #for 0 input\n",
    "        if num == 0:\n",
    "            return \"0\"\n",
    "        \n",
    "        #convert integer to hexadecimal \n",
    "        while num > 0:\n",
    "            remainder = r = num % 16  # get the remainder when divided by 16\n",
    "            hr = hc[r] + hr  #add corresponding hex character\n",
    "            num = num // 16  #divide by 16 to move to the next digit\n",
    "        \n",
    "        return hr\n",
    "\n",
    "    integer = I = input(\"Enter the integer number whose hexadecimal equivalent you wish to know: \")\n",
    "    print(\"\")\n",
    "    j = 1\n",
    "\n",
    "    #check for valid integer input\n",
    "    while not I.isdigit() and j <= 5:\n",
    "        tries_left = 6 - j\n",
    "        print(f\"Invalid entry. You must enter an integer >= 0. You have {tries_left} tries left.\")\n",
    "        I = input(\"Enter Number: \")\n",
    "        print(\"\")\n",
    "        j += 1\n",
    "        if j > 5:\n",
    "            print(\"Sorry. You cannot make any more input.\")\n",
    "            return  #Program is exited if more than 5 tries is reached\n",
    "\n",
    "    if j <= 5:\n",
    "        I = int(I)  #convert string to integer\n",
    "        hex_value = our_hex(I)  #call the custom conversion function\n",
    "        return f\"The hexadecimal equivalent of {I} is {hex_value}\"\n",
    "\n",
    "print(int2hex())\n"
   ]
  },
  {
   "cell_type": "markdown",
   "id": "tutorial-lucas",
   "metadata": {},
   "source": [
    "## Code Explanation: `int2hex` Function\n",
    "\n",
    "The `int2hex` function converts  integer input from a user into its hexadecimal equivalent. The function prompts the user for an integer and checks if its valid.\n",
    "If valid, it calls our internal function, `our_hex`, to do the conversion.\n",
    "The user has a maximum of 5 attempts to enter a valid integer.\n",
    "\n",
    "The `our_hex` function takes an integer `num` and converts it to a hexadecimal string. \n",
    "The conversion logic uses a while loop to repeatedly divide the integer by 16, collecting the remainders to form the hexadecimal string.\n",
    "\n",
    "After user input, the function checks if the input is a valid integer using `isdigit()`. \n",
    "If the input is not valid, the user has up to 5 times to retry. After 5 invalid attempts, the function is exited.\n",
    "\n",
    "If the input is valid, the function converts the string to an integer and calls `our_hex` to get the hexadecimal equivalent, which it then returns in a message giving the result.\n",
    "\n",
    "The result is then printed out.\n"
   ]
  },
  {
   "cell_type": "code",
   "execution_count": 16,
   "id": "tight-schedule",
   "metadata": {
    "collapsed": true
   },
   "outputs": [
    {
     "name": "stdout",
     "output_type": "stream",
     "text": [
      "Enter a hexadecimal number whose integer equivalent you wish to know: 8f\n",
      "\n",
      "The integer equivalent of 8F is 143\n"
     ]
    }
   ],
   "source": [
    "def hex2int():\n",
    "    \"\"\"\n",
    "    Converts a hexadecimal number to its integer equivalent.\n",
    "\n",
    "    This function prompts the user for a hexadecimal input and checks if the input is valid.\n",
    "    If valid, it calls `our_hex2int()` function to perform the conversion.\n",
    "    The user has a maximum of 5 attempts to enter a valid hexadecimal number.\n",
    "\n",
    "    Returns:\n",
    "        str: A message indicating the integer equivalent of the input hexadecimal number.\n",
    "    \"\"\"\n",
    "    \n",
    "    def our_hex2int(hexx):\n",
    "        \"\"\"\n",
    "        Converts a hexadecimal string to an integer.\n",
    "\n",
    "        Args:\n",
    "            hexx (str): The hexadecimal string to convert to an integer.\n",
    "\n",
    "        Returns:\n",
    "            int: The integer representation of the hexadecimal string.\n",
    "        \"\"\"\n",
    "        hex_ch = \"0123456789ABCDEF\"  # Hexadecimal characters\n",
    "        decimal = 0\n",
    "        power = p = 0\n",
    "\n",
    "        #iterate through the reverse of the hexadecimal string\n",
    "        for i in reversed(hexx):\n",
    "            decimal += hex_ch.index(i) * (16 ** p)  #convert hex digit to decimal and multiply by 16^power\n",
    "            p += 1\n",
    "\n",
    "        return decimal\n",
    "\n",
    "    hexx = input(\"Enter a hexadecimal number whose integer equivalent you wish to know: \").upper()\n",
    "    print(\"\")\n",
    "    j = 1\n",
    "    valid_hexx = \"0123456789ABCDEF\"\n",
    "\n",
    "    #check for valid hex input\n",
    "    while not all(c in valid_hexx for c in hexx) and j <= 5:\n",
    "        tries_left = 6 - j\n",
    "        print(f\"Invalid entry!! You must enter a valid hexadecimal number. You have {tries_left} tries left.\")\n",
    "        hexx = input(\"Enter a hexadecimal number: \").upper()\n",
    "        print(\"\")\n",
    "        j += 1\n",
    "        if j > 5:\n",
    "            print(\"Sorry! You cannot make any more input.\")\n",
    "            return  #program exits if more than 5 tries are reached\n",
    "\n",
    "    if j <= 5:\n",
    "        decimal = our_hex2int(hexx)  #call our custom function\n",
    "        return f\"The integer equivalent of {hexx} is {decimal}\"\n",
    "\n",
    "print(hex2int())\n"
   ]
  },
  {
   "cell_type": "markdown",
   "id": "funny-integrity",
   "metadata": {},
   "source": [
    "## Code Explanation: `hex2int` Function\n",
    "\n",
    "The `hex2int` function converts a hexadecimal number input from the user into its integer equivalent. \n",
    "The function prompts the user for a hexadecimal input and checks if it is valid. \n",
    "If the input is valid, it calls our inner function, `our_hex2int`, to do the conversion. \n",
    "The user has a maximum of 5 attempts to enter a valid integer.\n",
    "\n",
    "The  `our_hex2int` takes a hexadecimal string `hexx` and converts it to an integer.\n",
    "The conversion process involves iterating through the hexadecimal string in reverse, \n",
    "converting each hex digit to its decimal equivalent by using its index in the hexadecimal character string \n",
    "and multiplying it by 16 raised to the appropriate power.\n",
    "\n",
    "When taking user input, the function checks if the input contains only the valid hexadecimal characters. If the input is not valid, the user is given up to 5 tries to enter a valid hexadecimal number. After 5 invalid attempts the program is exited.\n",
    "\n",
    "If a valid hexadecimal input is received, the function calls `our_hex2int` to convert the hexadecimal string to its integer equivalent, which it then returns in a message giving the result.\n",
    "\n",
    "The result is then printed out.\n"
   ]
  },
  {
   "cell_type": "code",
   "execution_count": null,
   "id": "expected-return",
   "metadata": {},
   "outputs": [],
   "source": []
  }
 ],
 "metadata": {
  "kernelspec": {
   "display_name": "Python 3",
   "language": "python",
   "name": "python3"
  },
  "language_info": {
   "codemirror_mode": {
    "name": "ipython",
    "version": 3
   },
   "file_extension": ".py",
   "mimetype": "text/x-python",
   "name": "python",
   "nbconvert_exporter": "python",
   "pygments_lexer": "ipython3",
   "version": "3.9.2"
  }
 },
 "nbformat": 4,
 "nbformat_minor": 5
}
