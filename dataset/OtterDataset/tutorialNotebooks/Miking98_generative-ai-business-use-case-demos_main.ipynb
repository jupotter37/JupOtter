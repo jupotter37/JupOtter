{
 "cells": [
  {
   "attachments": {},
   "cell_type": "markdown",
   "metadata": {},
   "source": [
    "# Generative AI / Machine Learning Use Cases\n",
    "\n",
    "* Some demos on how to use large language models for various prototypical business use cases\n",
    "* Comparison of GPT-3 v. other models, and when you might want to use one over the other\n",
    "\n",
    "First, we need to import a few things:"
   ]
  },
  {
   "cell_type": "code",
   "execution_count": 2,
   "metadata": {},
   "outputs": [
    {
     "name": "stderr",
     "output_type": "stream",
     "text": [
      "/Users/mwornow/anaconda3/envs/use_cases/lib/python3.10/site-packages/tqdm/auto.py:21: TqdmWarning: IProgress not found. Please update jupyter and ipywidgets. See https://ipywidgets.readthedocs.io/en/stable/user_install.html\n",
      "  from .autonotebook import tqdm as notebook_tqdm\n"
     ]
    }
   ],
   "source": [
    "import transformers\n",
    "import os\n",
    "import openai\n",
    "from dotenv import load_dotenv\n",
    "import time\n",
    "import re\n",
    "import numpy as np\n",
    "import pandas as pd\n",
    "from tqdm import tqdm\n",
    "import tiktoken\n",
    "from IPython.display import display, HTML\n",
    "from langchain.text_splitter import RecursiveCharacterTextSplitter\n",
    "import chromadb\n",
    "import json\n",
    "import random\n",
    "import matplotlib.pyplot as plt\n",
    "plt.style.use('seaborn-v0_8-darkgrid')\n",
    "\n",
    "load_dotenv()\n",
    "openai.api_key = os.getenv(\"OPENAI_API_KEY\")\n",
    "\n",
    "OPENAI_COST_PER_1K_TOKENS = {\n",
    "    'text-davinci-003' : {\n",
    "        'input' : 0.02,\n",
    "        'output' : 0.02,\n",
    "    },\n",
    "    'gpt-3.5-turbo' : {\n",
    "        'input' : 0.0015,\n",
    "        'output' : 0.002,\n",
    "    },\n",
    "    'text-embedding-ada-002' : {\n",
    "        'input' : 0.0004,\n",
    "    }\n",
    "}"
   ]
  },
  {
   "cell_type": "code",
   "execution_count": 13,
   "metadata": {},
   "outputs": [],
   "source": [
    "def get_first_number(string):\n",
    "  # Parse first number in response\n",
    "  match = re.search(r'\\d+', string)\n",
    "  if match:\n",
    "      return int(match.group())\n",
    "  else:\n",
    "      return None\n",
    "\n",
    "def trunc(values, decs=0):\n",
    "    return np.trunc(values*10**decs)/(10**decs)\n",
    "\n",
    "def mean_absolute_error(y_true: np.ndarray, y_pred: np.ndarray):\n",
    "  return trunc(np.mean(np.absolute(y_true - y_pred)), decs=3)\n",
    "  \n",
    "def mean_squared_error(y_true: np.ndarray, y_pred: np.ndarray):\n",
    "  return trunc(np.mean((y_true - y_pred) ** 2), decs=3)\n",
    "\n",
    "def accuracy(y_true: np.ndarray, y_pred: np.ndarray):\n",
    "  return trunc(np.mean(y_true == y_pred), decs=3)\n",
    "\n",
    "def print_wrapped(string: str):\n",
    "  display(HTML('--------<br /><i><span style=\"font-size:10px\">' + string + '</span></i><br />--------'))\n",
    "  \n",
    "def send_gpt3_request(prompt: str, **kwargs):\n",
    "  response = openai.Completion.create(\n",
    "    model=\"text-davinci-003\",\n",
    "    prompt=prompt,\n",
    "    temperature=0,\n",
    "    max_tokens=kwargs.get('max_tokens', 60),\n",
    "    top_p=1.0,\n",
    "    frequency_penalty=0.5,\n",
    "    presence_penalty=0.0,\n",
    "  )\n",
    "  return response\n",
    "\n",
    "def send_gpt4_request(prompt: str, **kwargs):\n",
    "  response = openai.Completion.create(\n",
    "    model=\"gpt-4-32k\",\n",
    "    prompt=prompt,\n",
    "    temperature=0,\n",
    "    max_tokens=kwargs.get('max_tokens', 60),\n",
    "    top_p=1.0,\n",
    "    frequency_penalty=0.5,\n",
    "    presence_penalty=0.0,\n",
    "  )\n",
    "  return response"
   ]
  },
  {
   "attachments": {},
   "cell_type": "markdown",
   "metadata": {},
   "source": [
    "# Sentiment Analysis / Review Classification\n",
    "\n",
    "**Business Scenario:** \n",
    "- You own a small restaurant with thousands of Yelp reviews, and want to a way to automatically quantify the reviews so that you can identify the most negative/positive reviews and improve your restaurant.\n",
    "- Or, you run a movie production company and want to understand what critics / fans are saying about your movie across the Internet.\n",
    "- Or, you have a set of medical notes and need to classify each note according to some pre-defined billing schema.\n",
    "\n",
    "**Task:** \n",
    "- Given a set of restaurant reviews, assign a star rating to each review (1-5 stars), where 5 is the most positive and 1 is the most negative.\n",
    "\n",
    "**Methods:**\n",
    "1. Prompt Engineering with GPT-3 Instruct\n",
    "2. Open Source Review Classifier from HuggingFace (BERT-base finetuned on Yelp reviews)\n",
    "\n",
    "**Dataset:** \n",
    "- 1000 Yelp Reviews\n",
    "\n",
    "**Metrics:** \n",
    "1. Accuracy -- How often the model predicts the exact star rating\n",
    "2. Mean Squared Error -- How far off the model is from the exact star rating (i.e. predicting 4 for a 5 star review is better than predicting 1 for a 5 star review)."
   ]
  },
  {
   "cell_type": "code",
   "execution_count": 71,
   "metadata": {},
   "outputs": [
    {
     "data": {
      "text/html": [
       "<div>\n",
       "<style scoped>\n",
       "    .dataframe tbody tr th:only-of-type {\n",
       "        vertical-align: middle;\n",
       "    }\n",
       "\n",
       "    .dataframe tbody tr th {\n",
       "        vertical-align: top;\n",
       "    }\n",
       "\n",
       "    .dataframe thead th {\n",
       "        text-align: right;\n",
       "    }\n",
       "</style>\n",
       "<table border=\"1\" class=\"dataframe\">\n",
       "  <thead>\n",
       "    <tr style=\"text-align: right;\">\n",
       "      <th></th>\n",
       "      <th>label</th>\n",
       "      <th>text</th>\n",
       "    </tr>\n",
       "  </thead>\n",
       "  <tbody>\n",
       "    <tr>\n",
       "      <th>0</th>\n",
       "      <td>0</td>\n",
       "      <td>I got 'new' tires from them and within two wee...</td>\n",
       "    </tr>\n",
       "    <tr>\n",
       "      <th>1</th>\n",
       "      <td>0</td>\n",
       "      <td>Don't waste your time.  We had two different p...</td>\n",
       "    </tr>\n",
       "    <tr>\n",
       "      <th>2</th>\n",
       "      <td>0</td>\n",
       "      <td>All I can say is the worst! We were the only 2...</td>\n",
       "    </tr>\n",
       "    <tr>\n",
       "      <th>3</th>\n",
       "      <td>0</td>\n",
       "      <td>I have been to this restaurant twice and was d...</td>\n",
       "    </tr>\n",
       "    <tr>\n",
       "      <th>4</th>\n",
       "      <td>0</td>\n",
       "      <td>Food was NOT GOOD at all! My husband &amp; I ate h...</td>\n",
       "    </tr>\n",
       "    <tr>\n",
       "      <th>...</th>\n",
       "      <td>...</td>\n",
       "      <td>...</td>\n",
       "    </tr>\n",
       "    <tr>\n",
       "      <th>995</th>\n",
       "      <td>1</td>\n",
       "      <td>The service is rude here. They are impersonal ...</td>\n",
       "    </tr>\n",
       "    <tr>\n",
       "      <th>996</th>\n",
       "      <td>4</td>\n",
       "      <td>I have been ordering food from Rainbow Garden ...</td>\n",
       "    </tr>\n",
       "    <tr>\n",
       "      <th>997</th>\n",
       "      <td>1</td>\n",
       "      <td>meh.\\n\\nif you are into hanging out with as ma...</td>\n",
       "    </tr>\n",
       "    <tr>\n",
       "      <th>998</th>\n",
       "      <td>4</td>\n",
       "      <td>The better of the two Asian grocery stores on/...</td>\n",
       "    </tr>\n",
       "    <tr>\n",
       "      <th>999</th>\n",
       "      <td>3</td>\n",
       "      <td>Cheap beer, dive bar, great company, and holy ...</td>\n",
       "    </tr>\n",
       "  </tbody>\n",
       "</table>\n",
       "<p>1000 rows × 2 columns</p>\n",
       "</div>"
      ],
      "text/plain": [
       "     label                                               text\n",
       "0        0  I got 'new' tires from them and within two wee...\n",
       "1        0  Don't waste your time.  We had two different p...\n",
       "2        0  All I can say is the worst! We were the only 2...\n",
       "3        0  I have been to this restaurant twice and was d...\n",
       "4        0  Food was NOT GOOD at all! My husband & I ate h...\n",
       "..     ...                                                ...\n",
       "995      1  The service is rude here. They are impersonal ...\n",
       "996      4  I have been ordering food from Rainbow Garden ...\n",
       "997      1  meh.\\n\\nif you are into hanging out with as ma...\n",
       "998      4  The better of the two Asian grocery stores on/...\n",
       "999      3  Cheap beer, dive bar, great company, and holy ...\n",
       "\n",
       "[1000 rows x 2 columns]"
      ]
     },
     "execution_count": 71,
     "metadata": {},
     "output_type": "execute_result"
    }
   ],
   "source": [
    "# Load dataset\n",
    "df = pd.read_parquet('data/yelp/yelp_review_full-test.parquet')\n",
    "dataset = df[:1000]\n",
    "dataset"
   ]
  },
  {
   "cell_type": "code",
   "execution_count": null,
   "metadata": {},
   "outputs": [],
   "source": [
    "# Run GPT-3 sentiment analysis\n",
    "def sentiment_analysis_gpt3(review: str):\n",
    "  prompt = f\"You are given the Yelp review for a restaurant. Determine how many stars were associated with this review on an integer scale of 0 to 4, where 0 is the most negative review and 4 is the most positive review.\\n\\Review: \\\"{review}\\\"\\nStars:\"\n",
    "  response = send_gpt3_request(prompt)\n",
    "  input_tokens = response['usage']['prompt_tokens']\n",
    "  output_tokens = response['usage']['completion_tokens']\n",
    "  return response['choices'][0]['text'].lower(), input_tokens, output_tokens\n",
    "\n",
    "gpt3_ratings = []\n",
    "input_tokens: int = 0\n",
    "output_tokens: int = 0\n",
    "start = time.time()\n",
    "for i, row in tqdm(dataset.iterrows()):\n",
    "  review = row['text']\n",
    "  sentiment, input_tokens, output_tokens = sentiment_analysis_gpt3(review)\n",
    "  gpt3_ratings.append(get_first_number(sentiment))\n",
    "  input_tokens += input_tokens\n",
    "  output_tokens += output_tokens\n",
    "end = time.time()\n",
    "gpt3_ratings = np.array(gpt3_ratings)"
   ]
  },
  {
   "cell_type": "code",
   "execution_count": 74,
   "metadata": {},
   "outputs": [
    {
     "name": "stdout",
     "output_type": "stream",
     "text": [
      "Accuracy: 0.412\n",
      "MSE: 0.903\n",
      "Total cost ($): 0.0061600000000000005\n",
      "Total time (s): 517.238921880722\n"
     ]
    }
   ],
   "source": [
    "# Get GPT-3 Stats\n",
    "total_cost: float = OPENAI_COST_PER_1K_TOKENS['text-davinci-003']['input'] * input_tokens / 1000 + OPENAI_COST_PER_1K_TOKENS['text-davinci-003']['output'] * output_tokens / 1000\n",
    "total_time = end - start\n",
    "print(\"Accuracy:\", accuracy(dataset['label'], gpt3_ratings))\n",
    "print(\"MSE:\", mean_squared_error(dataset['label'], gpt3_ratings))\n",
    "print(\"Total cost ($):\", total_cost)\n",
    "print(\"Total time (s):\", total_time)"
   ]
  },
  {
   "cell_type": "code",
   "execution_count": 75,
   "metadata": {},
   "outputs": [],
   "source": [
    "# 2. HF Sentiment Classifier (fine tuned for review classification)\n",
    "from transformers import AutoTokenizer, AutoModelForSequenceClassification, pipeline\n",
    "tokenizer = AutoTokenizer.from_pretrained(\"rttl-ai/bert-base-uncased-yelp-reviews\")\n",
    "model = AutoModelForSequenceClassification.from_pretrained(\"rttl-ai/bert-base-uncased-yelp-reviews\")\n",
    "sentiment_analysis_hf = pipeline(\"text-classification\", model=model, tokenizer=tokenizer)"
   ]
  },
  {
   "cell_type": "code",
   "execution_count": 76,
   "metadata": {},
   "outputs": [],
   "source": [
    "# Run HuggingFace sentiment analysis\n",
    "start = time.time()\n",
    "hf_results = sentiment_analysis_hf([ x[:512] for x in dataset['text'].tolist() ])\n",
    "hf_ratings = np.array([ get_first_number(x['label']) for x in hf_results ])\n",
    "end = time.time()"
   ]
  },
  {
   "cell_type": "code",
   "execution_count": 77,
   "metadata": {},
   "outputs": [
    {
     "name": "stdout",
     "output_type": "stream",
     "text": [
      "Accuracy: 0.678\n",
      "MSE: 0.378\n",
      "Total cost ($): 0\n",
      "Total time (s): 142.79206824302673\n"
     ]
    }
   ],
   "source": [
    "# Get HuggingFace Stats\n",
    "total_cost: float = 0\n",
    "total_time = end - start\n",
    "print(\"Accuracy:\", accuracy(dataset['label'], hf_ratings))\n",
    "print(\"MSE:\", mean_squared_error(dataset['label'], hf_ratings))\n",
    "print(\"Total cost ($):\", total_cost)\n",
    "print(\"Total time (s):\", total_time)"
   ]
  },
  {
   "attachments": {},
   "cell_type": "markdown",
   "metadata": {},
   "source": [
    "#### Conclusion\n",
    "\n",
    "The open source HuggingFace model is the better choice for this task. Compare to GPT-3 at classifying 1000 restaurant reviews, the HuggingFace model was faster (142 seconds v. 517 seconds) and more accurate (68% v. 41%). The cost difference was negligible."
   ]
  },
  {
   "attachments": {},
   "cell_type": "markdown",
   "metadata": {},
   "source": [
    "# Text Summarization / Translation\n",
    "\n",
    "**Business Scenario:** \n",
    "- You have a long, boring document containing the terms of a standard real estate lease, and want a way to quickly summarize the document so that you can get the gist of it without reading the whole thing.\n",
    "- Or, you have a paragraph excerpt from a highly technical manual. You want to summarize/paraphrase the content in a way that a child could understand.\n",
    "- Or, you have a document written in Spanish that you'd like translated and summarized in English.\n",
    "\n",
    "**Task:** \n",
    "- Given a document, create a paragraph summarizing the document.\n",
    "\n",
    "**Methods:**\n",
    "1. Prompt Engineering with GPT-3 Instruct\n",
    "\n",
    "**Dataset:** \n",
    "- US Declaration of Independence\n",
    "\n",
    "**Metrics:**\n",
    "1. The eye test"
   ]
  },
  {
   "attachments": {},
   "cell_type": "markdown",
   "metadata": {},
   "source": [
    "Lets summarize the Declaration of Independence!"
   ]
  },
  {
   "cell_type": "code",
   "execution_count": 11,
   "metadata": {},
   "outputs": [
    {
     "name": "stdout",
     "output_type": "stream",
     "text": [
      "# of tokens: 1684\n"
     ]
    }
   ],
   "source": [
    "# Load the document\n",
    "doc = open(\"data/summarization/declaration.txt\", \"r\").read()\n",
    "enc = tiktoken.encoding_for_model(\"text-davinci-003\")\n",
    "print(\"# of tokens:\", len(enc.encode(doc)))"
   ]
  },
  {
   "attachments": {},
   "cell_type": "markdown",
   "metadata": {},
   "source": [
    "Get a 3 sentence summary of the US Declaration of Independence."
   ]
  },
  {
   "cell_type": "code",
   "execution_count": 14,
   "metadata": {},
   "outputs": [
    {
     "data": {
      "text/html": [
       "--------<br /><i><span style=\"font-size:10px\"> The Declaration of Independence was a document outlining the grievances of the thirteen United States of America against the British Crown, and declared them to be free and independent states. It detailed the abuses and usurpations of the King of Great Britain, and asserted that it was their right to abolish such a government. Finally, it declared that they would pledge their lives, fortunes, and sacred honor in support of this declaration.</span></i><br />--------"
      ],
      "text/plain": [
       "<IPython.core.display.HTML object>"
      ]
     },
     "metadata": {},
     "output_type": "display_data"
    }
   ],
   "source": [
    "prompt = f\"Summarize the following document in 3 sentences:\\n\\n{doc}\\n\\nSummary:\"\n",
    "response = send_gpt3_request(prompt, max_tokens=200)\n",
    "print_wrapped(response['choices'][0]['text'])"
   ]
  },
  {
   "attachments": {},
   "cell_type": "markdown",
   "metadata": {},
   "source": [
    "Get a 3 sentence summary of the US Declaration of Independence, written in terms a 2nd grader could understand."
   ]
  },
  {
   "cell_type": "code",
   "execution_count": 15,
   "metadata": {},
   "outputs": [
    {
     "data": {
      "text/html": [
       "--------<br /><i><span style=\"font-size:10px\"> People in America wanted to be free from the King of Great Britain, so they wrote a Declaration saying they were independent. They said that everyone should have rights like life, liberty and happiness. They also said that if the King was mean to them, they had the right to change their government. Finally, they declared that America was free and independent.</span></i><br />--------"
      ],
      "text/plain": [
       "<IPython.core.display.HTML object>"
      ]
     },
     "metadata": {},
     "output_type": "display_data"
    }
   ],
   "source": [
    "prompt = f\"Summarize the following document in 3 sentences using terms that a 2nd grade student would be able to understand:\\n\\n{doc}\\n\\nSummary:\"\n",
    "response = send_gpt3_request(prompt, max_tokens=200)\n",
    "print_wrapped(response['choices'][0]['text'])"
   ]
  },
  {
   "attachments": {},
   "cell_type": "markdown",
   "metadata": {},
   "source": [
    "Now lets summarize A Midsummer Night's Dream by Shakespeare."
   ]
  },
  {
   "cell_type": "code",
   "execution_count": 18,
   "metadata": {},
   "outputs": [
    {
     "name": "stdout",
     "output_type": "stream",
     "text": [
      "# of tokens: 27903\n"
     ]
    }
   ],
   "source": [
    "# Load the document\n",
    "doc = open(\"data/summarization/shakespeare.txt\", \"r\").read()\n",
    "enc = tiktoken.encoding_for_model(\"text-davinci-003\")\n",
    "print(\"# of tokens:\", len(enc.encode(doc)))"
   ]
  },
  {
   "cell_type": "code",
   "execution_count": 19,
   "metadata": {},
   "outputs": [
    {
     "name": "stdout",
     "output_type": "stream",
     "text": [
      "This model's maximum context length is 4097 tokens, however you requested 28117 tokens (27917 in your prompt; 200 for the completion). Please reduce your prompt; or completion length.\n"
     ]
    }
   ],
   "source": [
    "prompt = f\"Please summarize the following document in a paragraph:\\n\\n{doc}\\n\\nSummary:\"\n",
    "try:\n",
    "    response = send_gpt3_request(prompt, max_tokens=200)\n",
    "except Exception as e:\n",
    "    print(e)"
   ]
  },
  {
   "attachments": {},
   "cell_type": "markdown",
   "metadata": {},
   "source": [
    "Unfortunately, this document is too long to fit into GPT-3's context window. \n",
    "\n",
    "We can get around this by either (1) hitting GPT-4 (context 32k, which is not yet available) or (2) splitting the document into chunks and summarizing each chunk individually."
   ]
  },
  {
   "cell_type": "code",
   "execution_count": 20,
   "metadata": {},
   "outputs": [
    {
     "name": "stdout",
     "output_type": "stream",
     "text": [
      "Split document into 11 chunks\n",
      "\n",
      "\n"
     ]
    },
    {
     "data": {
      "text/html": [
       "--------<br /><i><span style=\"font-size:10px\">1.  In A Midsummer Night's Dream, Theseus and Hippolyta are preparing for their nuptials. Egeus arrives with Hermia, Lysander, and Demetrius. Egeus wants Hermia to marry Demetrius, but she refuses. Theseus gives her an ultimatum: marry Demetrius or face death or a life of celibacy. Lysander suggests they elope to his aunt's house seven leagues away from Athens. The next night they plan to meet in the woods and flee Athens together.</span></i><br />--------"
      ],
      "text/plain": [
       "<IPython.core.display.HTML object>"
      ]
     },
     "metadata": {},
     "output_type": "display_data"
    },
    {
     "data": {
      "text/html": [
       "--------<br /><i><span style=\"font-size:10px\">2.  Oberon and Titania, two fairy rulers, enter a wood near Athens. Puck and a fairy meet and discuss their duties to the fairy queen. Oberon is jealous of Titania's attendant, a stolen Indian boy, and they no longer meet in the woods. Puck reveals himself to be a mischievous sprite who plays pranks on humans. Oberon and Titania enter with their respective trains, and the fairy wishes Oberon would leave.</span></i><br />--------"
      ],
      "text/plain": [
       "<IPython.core.display.HTML object>"
      ]
     },
     "metadata": {},
     "output_type": "display_data"
    },
    {
     "data": {
      "text/html": [
       "--------<br /><i><span style=\"font-size:10px\">3.  Oberon and Titania are arguing over a changeling boy. Oberon plans to use a magical flower to make Titania fall in love with the first thing she sees when she wakes up. Meanwhile, Demetrius and Helena are also arguing, with Helena determined to win his love. The fairies sing a lullaby to put Titania to sleep so Oberon can carry out his plan.</span></i><br />--------"
      ],
      "text/plain": [
       "<IPython.core.display.HTML object>"
      ]
     },
     "metadata": {},
     "output_type": "display_data"
    },
    {
     "data": {
      "text/html": [
       "--------<br /><i><span style=\"font-size:10px\">4.  Oberon squeezes a flower on Titania's eyelids, and Lysander and Hermia rest in the woods. Puck finds Demetrius and Helena running, and Lysander wakes up to find Helena instead of Hermia. Quince, Snug, Bottom, Flute, Snout, and Starveling meet in the woods to rehearse their play Pyramus and Thisby. Puck watches them rehearse and Bottom suggests they make a prologue to assure the audience that no one will be harmed with swords. They also discuss how to bring in the moonlight for the play.</span></i><br />--------"
      ],
      "text/plain": [
       "<IPython.core.display.HTML object>"
      ]
     },
     "metadata": {},
     "output_type": "display_data"
    },
    {
     "data": {
      "text/html": [
       "--------<br /><i><span style=\"font-size:10px\">5.  A group of Athenian mechanicals are rehearsing a play for Theseus' nuptial day when Puck takes advantage of Pyramus and puts an ass's head on him. When Titania wakes up, she falls in love with the ass-headed Pyramus. Oberon sends Puck to find Helena and bring her to him so he can charm her eyes when she appears. Puck goes off to do his task, while Oberon and Demetrius remain in the wood.</span></i><br />--------"
      ],
      "text/plain": [
       "<IPython.core.display.HTML object>"
      ]
     },
     "metadata": {},
     "output_type": "display_data"
    },
    {
     "data": {
      "text/html": [
       "--------<br /><i><span style=\"font-size:10px\">6.  Oberon and Puck observe Lysander and Helena, who are arguing about their love for each other and Hermia. Lysander offers to give up his love for Hermia in exchange for Helena's love, but Demetrius refuses. He declares that his heart has returned to Helen and will remain there. Lysander insists that it is not true, but Demetrius warns him not to question his faith. Hermia then arrives on the scene.</span></i><br />--------"
      ],
      "text/plain": [
       "<IPython.core.display.HTML object>"
      ]
     },
     "metadata": {},
     "output_type": "display_data"
    },
    {
     "data": {
      "text/html": [
       "--------<br /><i><span style=\"font-size:10px\">7.  Hermia and Helena are arguing over Lysander and Demetrius, who both love Helena. Oberon sends Puck to lead the two men astray so they can fall asleep and forget their quarrel. Puck agrees to do this, and Oberon goes off to find an Indian boy. In the end, Puck leads the two men up and down until they fall asleep.</span></i><br />--------"
      ],
      "text/plain": [
       "<IPython.core.display.HTML object>"
      ]
     },
     "metadata": {},
     "output_type": "display_data"
    },
    {
     "data": {
      "text/html": [
       "--------<br /><i><span style=\"font-size:10px\">8.  Four young lovers, Lysander, Demetrius, Helena, and Hermia, are asleep in a wood. Oberon and Titania enter with fairies and Bottom the ass. Oberon releases Titania from a spell and then uses a magical juice to undo the spell on Lysander's eyes. The four lovers wake up to the sound of horns from Theseus' huntsmen and Egeus reveals that it is the day Hermia must give her answer of choice.</span></i><br />--------"
      ],
      "text/plain": [
       "<IPython.core.display.HTML object>"
      ]
     },
     "metadata": {},
     "output_type": "display_data"
    },
    {
     "data": {
      "text/html": [
       "--------<br /><i><span style=\"font-size:10px\">9.  Theseus and Hippolyta are discussing the strange stories of lovers that they have heard. They decide to have a play performed to pass the time, and Philostrate suggests a brief play about Pyramus and Thisbe. The players are hard-working Athenians who have never acted before, but Theseus insists on seeing it anyway. Philostrate warns him that it is nothing special, but Theseus believes that simplicity and duty make it worth watching.</span></i><br />--------"
      ],
      "text/plain": [
       "<IPython.core.display.HTML object>"
      ]
     },
     "metadata": {},
     "output_type": "display_data"
    },
    {
     "data": {
      "text/html": [
       "--------<br /><i><span style=\"font-size:10px\">10.  In this document, Hippolyta and Theseus discuss the upcoming performance of Pyramus and Thisbe. Pyramus and Thisbe enter, followed by Wall, Moonshine, and Lion. The Prologue explains the play's plot and the characters' roles. Pyramus and Thisbe exchange romantic dialogue before parting ways. Wall, Moonshine, and Lion each explain their roles in the play before exiting. Finally, Pyramus stabs himself in a dramatic death scene.</span></i><br />--------"
      ],
      "text/plain": [
       "<IPython.core.display.HTML object>"
      ]
     },
     "metadata": {},
     "output_type": "display_data"
    },
    {
     "data": {
      "text/html": [
       "--------<br /><i><span style=\"font-size:10px\">11.  In the play, Theseus and Hippolyta watch as Pyramus and Thisbe die. Moonshine and Lion are left to bury the dead. Bottom suggests a Bergomask dance to end the play, which Theseus agrees to. Oberon and Titania enter with their train and sing a song before leaving. Puck ends the play by saying that if they have offended anyone, it was only a dream. He then bids everyone goodnight and invites them to be friends.</span></i><br />--------"
      ],
      "text/plain": [
       "<IPython.core.display.HTML object>"
      ]
     },
     "metadata": {},
     "output_type": "display_data"
    },
    {
     "name": "stdout",
     "output_type": "stream",
     "text": [
      "-- Final Summary --\n"
     ]
    },
    {
     "data": {
      "text/html": [
       "--------<br /><i><span style=\"font-size:10px\"> In A Midsummer Night's Dream, Theseus and Hippolyta are preparing for their nuptials. Hermia refuses to marry Demetrius, so Theseus gives her an ultimatum. Oberon and Titania, two fairy rulers, enter a wood near Athens. Oberon plans to use a magical flower to make Titania fall in love with the first thing she sees when she wakes up. Meanwhile, Demetrius and Helena are arguing over his love for her. The fairies sing a lullaby to put Titania to sleep so Oberon can carry out his plan. Quince, Snug, Bottom, Flute, Snout, and Starveling meet in the woods to rehearse their play Pyramus and Thisby. Puck puts an ass's head on Bottom and Lysander wakes up with Helena instead of Hermia. Theseus decides to have the play performed for his nuptial day and Pyramus stabs himself in a dramatic death scene. Oberon releases Titania from a spell and Puck leads the two men astray so they can fall asleep and forget their quarrel. Finally, Puck ends the play by saying that if they have offended anyone it was only a dream.</span></i><br />--------"
      ],
      "text/plain": [
       "<IPython.core.display.HTML object>"
      ]
     },
     "metadata": {},
     "output_type": "display_data"
    }
   ],
   "source": [
    "text_splitter = RecursiveCharacterTextSplitter(\n",
    "    chunk_size = 3000,\n",
    "    chunk_overlap  = 20,\n",
    "    length_function = lambda x: len(tiktoken.encoding_for_model(\"text-davinci-003\").encode(x)),\n",
    "    add_start_index = True,\n",
    ")\n",
    "texts = text_splitter.create_documents([doc])\n",
    "print(\"Split document into\", len(texts), \"chunks\\n\\n\")\n",
    "summaries = []\n",
    "for idx, text in enumerate(texts):\n",
    "    prompt = f\"Please summarize the following document in at most 5 sentences:\\n\\n{text}\\n\\nSummary:\"\n",
    "    response = send_gpt3_request(prompt, max_tokens=400)\n",
    "    summary: str = response['choices'][0]['text']\n",
    "    summaries.append(summary)\n",
    "    print_wrapped(str(idx + 1) + '. ' + summary)\n",
    "\n",
    "# Get one final summary\n",
    "prompt = f\"Please summarize the following paragraph in at most 5 sentences:\\n\\n{' '.join(summaries)}\\n\\nSummary:\"\n",
    "response = send_gpt3_request(prompt, max_tokens=400)\n",
    "print(\"-- Final Summary --\")\n",
    "print_wrapped(response['choices'][0]['text'])"
   ]
  },
  {
   "attachments": {},
   "cell_type": "markdown",
   "metadata": {},
   "source": [
    "#### Conclusion\n",
    "\n",
    "GPT-3 can fairly effectively modify the tone / voice / style / complexity of its response. This can be useful for applications like summarization or tutoring.\n",
    "\n",
    "However, you might get limited by the model's context window (~4k tokens for GPT-3). If you need to process a longer document, you will need to split it into chunks and process each chunk individually."
   ]
  },
  {
   "attachments": {},
   "cell_type": "markdown",
   "metadata": {},
   "source": [
    "# Document Retrieval / Question Answering\n",
    "\n",
    "We consider two scenarios: a PUBLIC corpus of documents and a PRIVATE corpus.\n",
    "\n",
    "**Business Scenario:** \n",
    "- You have a large corpus of company documents (e.g. FAQs, employee handbooks, etc.) that your customer service team uses to answer customer questions. However, finding the right answer within a seas of thousands of potential documents is hard -- it can take a customer service rep up to 10 minutes to Cmd+F their way to the right answer. Oftentimes, they will just give up.\n",
    "- Or, you want to create a custom \"Google search\" purpose-built for your company to serve as an internal knowledge base for employees, with the ability to intelligently answer natural language queries.\n",
    "\n",
    "**Task:** \n",
    "- Given a corpus of documents and a query, identify the most relevant document and extract the answer to the query from the document.\n",
    "\n",
    "**Methods:**\n",
    "1. Vector database + embeddings\n",
    "    - GPT-3 (public data)\n",
    "    - MiniLM (private data)\n",
    "\n",
    "**Dataset:** \n",
    "- Public - ~2k excerpts from Wikipedia articles taken from SQuAD (Stanford Question Answering Dataset)\n",
    "- Private - SQuAD again, but this time we'll pretend its a proprietary dataset that can't leave our computers\n",
    "\n",
    "**Metrics:**\n",
    "1. Top-1 Accuracy -- how often the document with the correct answer is the first result returned"
   ]
  },
  {
   "attachments": {},
   "cell_type": "markdown",
   "metadata": {},
   "source": [
    "First, let's set up our dataset."
   ]
  },
  {
   "cell_type": "code",
   "execution_count": 22,
   "metadata": {},
   "outputs": [
    {
     "data": {
      "text/html": [
       "<div>\n",
       "<style scoped>\n",
       "    .dataframe tbody tr th:only-of-type {\n",
       "        vertical-align: middle;\n",
       "    }\n",
       "\n",
       "    .dataframe tbody tr th {\n",
       "        vertical-align: top;\n",
       "    }\n",
       "\n",
       "    .dataframe thead th {\n",
       "        text-align: right;\n",
       "    }\n",
       "</style>\n",
       "<table border=\"1\" class=\"dataframe\">\n",
       "  <thead>\n",
       "    <tr style=\"text-align: right;\">\n",
       "      <th></th>\n",
       "      <th>context</th>\n",
       "      <th>c_id</th>\n",
       "    </tr>\n",
       "  </thead>\n",
       "  <tbody>\n",
       "    <tr>\n",
       "      <th>0</th>\n",
       "      <td>Super Bowl 50 was an American football game to...</td>\n",
       "      <td>0</td>\n",
       "    </tr>\n",
       "    <tr>\n",
       "      <th>1</th>\n",
       "      <td>The Panthers finished the regular season with ...</td>\n",
       "      <td>1</td>\n",
       "    </tr>\n",
       "    <tr>\n",
       "      <th>2</th>\n",
       "      <td>The Broncos took an early lead in Super Bowl 5...</td>\n",
       "      <td>2</td>\n",
       "    </tr>\n",
       "    <tr>\n",
       "      <th>3</th>\n",
       "      <td>CBS broadcast Super Bowl 50 in the U.S., and c...</td>\n",
       "      <td>3</td>\n",
       "    </tr>\n",
       "    <tr>\n",
       "      <th>4</th>\n",
       "      <td>In early 2012, NFL Commissioner Roger Goodell ...</td>\n",
       "      <td>4</td>\n",
       "    </tr>\n",
       "    <tr>\n",
       "      <th>...</th>\n",
       "      <td>...</td>\n",
       "      <td>...</td>\n",
       "    </tr>\n",
       "    <tr>\n",
       "      <th>2062</th>\n",
       "      <td>where  is the mass of the object,  is the velo...</td>\n",
       "      <td>2062</td>\n",
       "    </tr>\n",
       "    <tr>\n",
       "      <th>2063</th>\n",
       "      <td>A conservative force that acts on a closed sys...</td>\n",
       "      <td>2063</td>\n",
       "    </tr>\n",
       "    <tr>\n",
       "      <th>2064</th>\n",
       "      <td>For certain physical scenarios, it is impossib...</td>\n",
       "      <td>2064</td>\n",
       "    </tr>\n",
       "    <tr>\n",
       "      <th>2065</th>\n",
       "      <td>The connection between macroscopic nonconserva...</td>\n",
       "      <td>2065</td>\n",
       "    </tr>\n",
       "    <tr>\n",
       "      <th>2066</th>\n",
       "      <td>The pound-force has a metric counterpart, less...</td>\n",
       "      <td>2066</td>\n",
       "    </tr>\n",
       "  </tbody>\n",
       "</table>\n",
       "<p>2067 rows × 2 columns</p>\n",
       "</div>"
      ],
      "text/plain": [
       "                                                context  c_id\n",
       "0     Super Bowl 50 was an American football game to...     0\n",
       "1     The Panthers finished the regular season with ...     1\n",
       "2     The Broncos took an early lead in Super Bowl 5...     2\n",
       "3     CBS broadcast Super Bowl 50 in the U.S., and c...     3\n",
       "4     In early 2012, NFL Commissioner Roger Goodell ...     4\n",
       "...                                                 ...   ...\n",
       "2062  where  is the mass of the object,  is the velo...  2062\n",
       "2063  A conservative force that acts on a closed sys...  2063\n",
       "2064  For certain physical scenarios, it is impossib...  2064\n",
       "2065  The connection between macroscopic nonconserva...  2065\n",
       "2066  The pound-force has a metric counterpart, less...  2066\n",
       "\n",
       "[2067 rows x 2 columns]"
      ]
     },
     "execution_count": 22,
     "metadata": {},
     "output_type": "execute_result"
    }
   ],
   "source": [
    "# Convert SQuAD to df and pretend it's a corpus of documents\n",
    "def squad_json_to_df(file_path, record_path=['data','paragraphs','qas','answers']) -> pd.DataFrame:\n",
    "    file = json.loads(open(file_path).read())\n",
    "    # parsing different level's in the json file\n",
    "    js = pd.json_normalize(file, record_path)\n",
    "    m = pd.json_normalize(file, record_path[:-1])\n",
    "    r = pd.json_normalize(file,record_path[:-2])\n",
    "    # combining it into single dataframe\n",
    "    idx = np.repeat(r['context'].values, r.qas.str.len())\n",
    "    m['context'] = idx\n",
    "    data = m[['id','question','context','answers']].set_index('id').reset_index()\n",
    "    data['c_id'] = data['context'].factorize()[0]\n",
    "    return data\n",
    "\n",
    "df_squad = squad_json_to_df('data/doc_qa/squad-dev-v1.1.json')\n",
    "df_docs = df_squad[['context', 'c_id']].drop_duplicates().reset_index(drop=True)\n",
    "df_docs"
   ]
  },
  {
   "cell_type": "code",
   "execution_count": 23,
   "metadata": {},
   "outputs": [
    {
     "data": {
      "text/html": [
       "--------<br /><i><span style=\"font-size:10px\">Question: Which NFL team represented the AFC at Super Bowl 50?</span></i><br />--------"
      ],
      "text/plain": [
       "<IPython.core.display.HTML object>"
      ]
     },
     "metadata": {},
     "output_type": "display_data"
    },
    {
     "data": {
      "text/html": [
       "--------<br /><i><span style=\"font-size:10px\">Relevant Document: Super Bowl 50 was an American football game to determine the champion of the National Football League (NFL) for the 2015 season. The American Football Conference (AFC) champion Denver Broncos defeated the National Football Conference (NFC) champion Carolina Panthers 24–10 to earn their third Super Bowl title. The game was played on February 7, 2016, at Levi's Stadium in the San Francisco Bay Area at Santa Clara, California. As this was the 50th Super Bowl, the league emphasized the \"golden anniversary\" with various gold-themed initiatives, as well as temporarily suspending the tradition of naming each Super Bowl game with Roman numerals (under which the game would have been known as \"Super Bowl L\"), so that the logo could prominently feature the Arabic numerals 50.</span></i><br />--------"
      ],
      "text/plain": [
       "<IPython.core.display.HTML object>"
      ]
     },
     "metadata": {},
     "output_type": "display_data"
    }
   ],
   "source": [
    "# Show an example question + document\n",
    "print_wrapped('Question: ' + df_squad[df_squad['c_id'] == 0]['question'].values[0])\n",
    "print_wrapped('Relevant Document: ' + df_docs['context'].values[0])"
   ]
  },
  {
   "attachments": {},
   "cell_type": "markdown",
   "metadata": {},
   "source": [
    "Next, set up our vector database to store embeddings.\n",
    "\n",
    "An embedding is simply a numeric representation of a document. Since AI models can only understand numbers (not text), it allows the model to compare documents to each other."
   ]
  },
  {
   "cell_type": "code",
   "execution_count": 24,
   "metadata": {},
   "outputs": [],
   "source": [
    "# Create vectorDB to hold embeddings\n",
    "from chromadb.config import Settings\n",
    "from chromadb.utils import embedding_functions\n",
    "\n",
    "os.makedirs('chroma/', exist_ok=True)\n",
    "chroma_client = chromadb.Client(Settings(\n",
    "    chroma_db_impl=\"duckdb+parquet\",\n",
    "    persist_directory='chroma/'\n",
    "))\n",
    "\n",
    "def retrieve_documents(collection, question: str):\n",
    "    # Function to retrieve most relevant documents for a given `question` from the vector DB `collection`\n",
    "    response = collection.query(\n",
    "        query_texts=[ question ],\n",
    "        n_results=2,\n",
    "        include=[\"documents\", \"distances\"],\n",
    "    )\n",
    "\n",
    "    print(\"Question:\")\n",
    "    print_wrapped(question)\n",
    "\n",
    "    print(\"Relevant documents:\")\n",
    "    for idx, x in enumerate(response['documents'][0]):\n",
    "        score = \"{:.2f}\".format(response[\"distances\"][0][idx])\n",
    "        print_wrapped(f'#{idx + 1} (distance={score}): {x}')\n"
   ]
  },
  {
   "attachments": {},
   "cell_type": "markdown",
   "metadata": {},
   "source": [
    "### Public Dataset\n",
    "\n",
    "Here, we simulate having a public (i.e. non-proprietary dataset). \n",
    "\n",
    "We use GPT-4 to embed our documents, save them in a local vector store, and then retrieve the most relevant document."
   ]
  },
  {
   "cell_type": "code",
   "execution_count": 25,
   "metadata": {},
   "outputs": [],
   "source": [
    "# Use OpenAI to generate embeddings for documents\n",
    "openai_ef = embedding_functions.OpenAIEmbeddingFunction(\n",
    "    api_key=openai.api_key,\n",
    "    model_name=\"text-embedding-ada-002\",\n",
    ")\n",
    "public_collection = chroma_client.create_collection(name=\"public\", embedding_function=openai_ef)"
   ]
  },
  {
   "cell_type": "code",
   "execution_count": 26,
   "metadata": {},
   "outputs": [
    {
     "name": "stdout",
     "output_type": "stream",
     "text": [
      "Total cost ($) 0.1334408\n",
      "Total time (s): 15.911481142044067\n"
     ]
    }
   ],
   "source": [
    "# Embed all SQuAD documents using OpenAI\n",
    "start = time.time()\n",
    "for chunk in range(0, df_docs.shape[0], 200):\n",
    "    # NOTE: Need to chunk to avoid OpenAI API limits\n",
    "    public_collection.add(\n",
    "        documents=df_docs['context'].tolist()[chunk:chunk+200],\n",
    "        ids=df_docs['c_id'].astype(str).tolist()[chunk:chunk+200],\n",
    "    )\n",
    "end = time.time()\n",
    "\n",
    "total_time = end - start\n",
    "tokenization = tiktoken.encoding_for_model(\"text-embedding-ada-002\").encode_ordinary_batch(df_docs['context'].tolist())\n",
    "total_tokens = sum([ len(x) for x in tokenization ])\n",
    "print(\"Total cost ($)\", OPENAI_COST_PER_1K_TOKENS['text-embedding-ada-002']['input'] * total_tokens / 1000)\n",
    "print(\"Total time (s):\", total_time)"
   ]
  },
  {
   "cell_type": "code",
   "execution_count": 27,
   "metadata": {},
   "outputs": [
    {
     "name": "stdout",
     "output_type": "stream",
     "text": [
      "Question:\n"
     ]
    },
    {
     "data": {
      "text/html": [
       "--------<br /><i><span style=\"font-size:10px\">Which NFL team represented the AFC at Super Bowl 50?</span></i><br />--------"
      ],
      "text/plain": [
       "<IPython.core.display.HTML object>"
      ]
     },
     "metadata": {},
     "output_type": "display_data"
    },
    {
     "name": "stdout",
     "output_type": "stream",
     "text": [
      "Relevant documents:\n"
     ]
    },
    {
     "data": {
      "text/html": [
       "--------<br /><i><span style=\"font-size:10px\">#1 (distance=0.25): Super Bowl 50 was an American football game to determine the champion of the National Football League (NFL) for the 2015 season. The American Football Conference (AFC) champion Denver Broncos defeated the National Football Conference (NFC) champion Carolina Panthers 24–10 to earn their third Super Bowl title. The game was played on February 7, 2016, at Levi's Stadium in the San Francisco Bay Area at Santa Clara, California. As this was the 50th Super Bowl, the league emphasized the \"golden anniversary\" with various gold-themed initiatives, as well as temporarily suspending the tradition of naming each Super Bowl game with Roman numerals (under which the game would have been known as \"Super Bowl L\"), so that the logo could prominently feature the Arabic numerals 50.</span></i><br />--------"
      ],
      "text/plain": [
       "<IPython.core.display.HTML object>"
      ]
     },
     "metadata": {},
     "output_type": "display_data"
    },
    {
     "data": {
      "text/html": [
       "--------<br /><i><span style=\"font-size:10px\">#2 (distance=0.33): The Panthers finished the regular season with a 15–1 record, and quarterback Cam Newton was named the NFL Most Valuable Player (MVP). They defeated the Arizona Cardinals 49–15 in the NFC Championship Game and advanced to their second Super Bowl appearance since the franchise was founded in 1995. The Broncos finished the regular season with a 12–4 record, and denied the New England Patriots a chance to defend their title from Super Bowl XLIX by defeating them 20–18 in the AFC Championship Game. They joined the Patriots, Dallas Cowboys, and Pittsburgh Steelers as one of four teams that have made eight appearances in the Super Bowl.</span></i><br />--------"
      ],
      "text/plain": [
       "<IPython.core.display.HTML object>"
      ]
     },
     "metadata": {},
     "output_type": "display_data"
    },
    {
     "name": "stdout",
     "output_type": "stream",
     "text": [
      "Question:\n"
     ]
    },
    {
     "data": {
      "text/html": [
       "--------<br /><i><span style=\"font-size:10px\">In 1517 who was Luther's bishop?</span></i><br />--------"
      ],
      "text/plain": [
       "<IPython.core.display.HTML object>"
      ]
     },
     "metadata": {},
     "output_type": "display_data"
    },
    {
     "name": "stdout",
     "output_type": "stream",
     "text": [
      "Relevant documents:\n"
     ]
    },
    {
     "data": {
      "text/html": [
       "--------<br /><i><span style=\"font-size:10px\">#1 (distance=0.27): In January 1519, at Altenburg in Saxony, the papal nuncio Karl von Miltitz adopted a more conciliatory approach. Luther made certain concessions to the Saxon, who was a relative of the Elector, and promised to remain silent if his opponents did. The theologian Johann Eck, however, was determined to expose Luther's doctrine in a public forum. In June and July 1519, he staged a disputation with Luther's colleague Andreas Karlstadt at Leipzig and invited Luther to speak. Luther's boldest assertion in the debate was that Matthew 16:18 does not confer on popes the exclusive right to interpret scripture, and that therefore neither popes nor church councils were infallible. For this, Eck branded Luther a new Jan Hus, referring to the Czech reformer and heretic burned at the stake in 1415. From that moment, he devoted himself to Luther's defeat.</span></i><br />--------"
      ],
      "text/plain": [
       "<IPython.core.display.HTML object>"
      ]
     },
     "metadata": {},
     "output_type": "display_data"
    },
    {
     "data": {
      "text/html": [
       "--------<br /><i><span style=\"font-size:10px\">#2 (distance=0.29): In 1507, he was ordained to the priesthood, and in 1508, von Staupitz, first dean of the newly founded University of Wittenberg, sent for Luther, to teach theology. He received a bachelor's degree in Biblical studies on 9 March 1508, and another bachelor's degree in the Sentences by Peter Lombard in 1509.</span></i><br />--------"
      ],
      "text/plain": [
       "<IPython.core.display.HTML object>"
      ]
     },
     "metadata": {},
     "output_type": "display_data"
    },
    {
     "name": "stdout",
     "output_type": "stream",
     "text": [
      "Question:\n"
     ]
    },
    {
     "data": {
      "text/html": [
       "--------<br /><i><span style=\"font-size:10px\">When was the construction that changed the Rhine's Delta?</span></i><br />--------"
      ],
      "text/plain": [
       "<IPython.core.display.HTML object>"
      ]
     },
     "metadata": {},
     "output_type": "display_data"
    },
    {
     "name": "stdout",
     "output_type": "stream",
     "text": [
      "Relevant documents:\n"
     ]
    },
    {
     "data": {
      "text/html": [
       "--------<br /><i><span style=\"font-size:10px\">#1 (distance=0.25): At the begin of the Holocene (~11,700 years ago), the Rhine occupied its Late-Glacial valley. As a meandering river, it reworked its ice-age braidplain. As sea-level continued to rise in the Netherlands, the formation of the Holocene Rhine-Meuse delta began (~8,000 years ago). Coeval absolute sea-level rise and tectonic subsidence have strongly influenced delta evolution. Other factors of importance to the shape of the delta are the local tectonic activities of the Peel Boundary Fault, the substrate and geomorphology, as inherited from the Last Glacial and the coastal-marine dynamics, such as barrier and tidal inlet formations.</span></i><br />--------"
      ],
      "text/plain": [
       "<IPython.core.display.HTML object>"
      ]
     },
     "metadata": {},
     "output_type": "display_data"
    },
    {
     "data": {
      "text/html": [
       "--------<br /><i><span style=\"font-size:10px\">#2 (distance=0.28): The Rhine-Meuse Delta is a tidal delta, shaped not only by the sedimentation of the rivers, but also by tidal currents. This meant that high tide formed a serious risk because strong tidal currents could tear huge areas of land into the sea. Before the construction of the Delta Works, tidal influence was palpable up to Nijmegen, and even today, after the regulatory action of the Delta Works, the tide acts far inland. At the Waal, for example, the most landward tidal influence can be detected between Brakel and Zaltbommel.</span></i><br />--------"
      ],
      "text/plain": [
       "<IPython.core.display.HTML object>"
      ]
     },
     "metadata": {},
     "output_type": "display_data"
    }
   ],
   "source": [
    "random.seed(1)\n",
    "retrieve_documents(public_collection, df_squad.iloc[0]['question'])\n",
    "retrieve_documents(public_collection, df_squad.iloc[random.randint(0, df_squad.shape[0])]['question'])\n",
    "retrieve_documents(public_collection, df_squad.iloc[random.randint(0, df_squad.shape[0])]['question'])"
   ]
  },
  {
   "attachments": {},
   "cell_type": "markdown",
   "metadata": {},
   "source": [
    "### Private Dataset\n",
    "\n",
    "Here, we simulate having a proprietary dataset that CANNOT be shared with OpenAI. This reflects the use case for medical data, financial data, and other sensitive data.\n",
    "\n",
    "We use a locally hosted open source model called MiniLM to embed our documents, save them in a local vector store, and then retrieve the most relevant document."
   ]
  },
  {
   "cell_type": "code",
   "execution_count": 28,
   "metadata": {},
   "outputs": [],
   "source": [
    "# Use local open source model to generate embeddings for documents\n",
    "local_ef = embedding_functions.SentenceTransformerEmbeddingFunction(model_name=\"all-MiniLM-L6-v2\")\n",
    "private_collection = chroma_client.create_collection(name=\"private\", embedding_function=local_ef)"
   ]
  },
  {
   "cell_type": "code",
   "execution_count": 29,
   "metadata": {},
   "outputs": [
    {
     "name": "stdout",
     "output_type": "stream",
     "text": [
      "Total cost ($) 0\n",
      "Total time (s): 52.004509925842285\n"
     ]
    }
   ],
   "source": [
    "# Embed all SQuAD documents using local model\n",
    "start = time.time()\n",
    "private_collection.add(\n",
    "    documents=df_docs['context'].tolist(),\n",
    "    ids=df_docs['c_id'].astype(str).tolist(),\n",
    ")\n",
    "end = time.time()\n",
    "\n",
    "total_time = end - start\n",
    "print(\"Total cost ($)\", 0)\n",
    "print(\"Total time (s):\", total_time)"
   ]
  },
  {
   "cell_type": "code",
   "execution_count": 30,
   "metadata": {},
   "outputs": [
    {
     "name": "stdout",
     "output_type": "stream",
     "text": [
      "Question:\n"
     ]
    },
    {
     "data": {
      "text/html": [
       "--------<br /><i><span style=\"font-size:10px\">Which NFL team represented the AFC at Super Bowl 50?</span></i><br />--------"
      ],
      "text/plain": [
       "<IPython.core.display.HTML object>"
      ]
     },
     "metadata": {},
     "output_type": "display_data"
    },
    {
     "name": "stdout",
     "output_type": "stream",
     "text": [
      "Relevant documents:\n"
     ]
    },
    {
     "data": {
      "text/html": [
       "--------<br /><i><span style=\"font-size:10px\">#1 (distance=0.60): Super Bowl 50 was an American football game to determine the champion of the National Football League (NFL) for the 2015 season. The American Football Conference (AFC) champion Denver Broncos defeated the National Football Conference (NFC) champion Carolina Panthers 24–10 to earn their third Super Bowl title. The game was played on February 7, 2016, at Levi's Stadium in the San Francisco Bay Area at Santa Clara, California. As this was the 50th Super Bowl, the league emphasized the \"golden anniversary\" with various gold-themed initiatives, as well as temporarily suspending the tradition of naming each Super Bowl game with Roman numerals (under which the game would have been known as \"Super Bowl L\"), so that the logo could prominently feature the Arabic numerals 50.</span></i><br />--------"
      ],
      "text/plain": [
       "<IPython.core.display.HTML object>"
      ]
     },
     "metadata": {},
     "output_type": "display_data"
    },
    {
     "data": {
      "text/html": [
       "--------<br /><i><span style=\"font-size:10px\">#2 (distance=0.75): The Panthers finished the regular season with a 15–1 record, and quarterback Cam Newton was named the NFL Most Valuable Player (MVP). They defeated the Arizona Cardinals 49–15 in the NFC Championship Game and advanced to their second Super Bowl appearance since the franchise was founded in 1995. The Broncos finished the regular season with a 12–4 record, and denied the New England Patriots a chance to defend their title from Super Bowl XLIX by defeating them 20–18 in the AFC Championship Game. They joined the Patriots, Dallas Cowboys, and Pittsburgh Steelers as one of four teams that have made eight appearances in the Super Bowl.</span></i><br />--------"
      ],
      "text/plain": [
       "<IPython.core.display.HTML object>"
      ]
     },
     "metadata": {},
     "output_type": "display_data"
    },
    {
     "name": "stdout",
     "output_type": "stream",
     "text": [
      "Question:\n"
     ]
    },
    {
     "data": {
      "text/html": [
       "--------<br /><i><span style=\"font-size:10px\">In 1517 who was Luther's bishop?</span></i><br />--------"
      ],
      "text/plain": [
       "<IPython.core.display.HTML object>"
      ]
     },
     "metadata": {},
     "output_type": "display_data"
    },
    {
     "name": "stdout",
     "output_type": "stream",
     "text": [
      "Relevant documents:\n"
     ]
    },
    {
     "data": {
      "text/html": [
       "--------<br /><i><span style=\"font-size:10px\">#1 (distance=0.64): Martin Luther (/ˈluːθər/ or /ˈluːðər/; German: [ˈmaɐ̯tiːn ˈlʊtɐ] ( listen); 10 November 1483 – 18 February 1546) was a German professor of theology, composer, priest, former monk and a seminal figure in the Protestant Reformation. Luther came to reject several teachings and practices of the Late Medieval Catholic Church. He strongly disputed the claim that freedom from God's punishment for sin could be purchased with money. He proposed an academic discussion of the power and usefulness of indulgences in his Ninety-Five Theses of 1517. His refusal to retract all of his writings at the demand of Pope Leo X in 1520 and the Holy Roman Emperor Charles V at the Diet of Worms in 1521 resulted in his excommunication by the Pope and condemnation as an outlaw by the Emperor.</span></i><br />--------"
      ],
      "text/plain": [
       "<IPython.core.display.HTML object>"
      ]
     },
     "metadata": {},
     "output_type": "display_data"
    },
    {
     "data": {
      "text/html": [
       "--------<br /><i><span style=\"font-size:10px\">#2 (distance=0.66): His poor physical health made him short-tempered and even harsher in his writings and comments. His wife Katharina was overheard saying, \"Dear husband, you are too rude,\" and he responded, \"They are teaching me to be rude.\" In 1545 and 1546 Luther preached three times in the Market Church in Halle, staying with his friend Justus Jonas during Christmas.</span></i><br />--------"
      ],
      "text/plain": [
       "<IPython.core.display.HTML object>"
      ]
     },
     "metadata": {},
     "output_type": "display_data"
    },
    {
     "name": "stdout",
     "output_type": "stream",
     "text": [
      "Question:\n"
     ]
    },
    {
     "data": {
      "text/html": [
       "--------<br /><i><span style=\"font-size:10px\">When was the construction that changed the Rhine's Delta?</span></i><br />--------"
      ],
      "text/plain": [
       "<IPython.core.display.HTML object>"
      ]
     },
     "metadata": {},
     "output_type": "display_data"
    },
    {
     "name": "stdout",
     "output_type": "stream",
     "text": [
      "Relevant documents:\n"
     ]
    },
    {
     "data": {
      "text/html": [
       "--------<br /><i><span style=\"font-size:10px\">#1 (distance=0.68): At the begin of the Holocene (~11,700 years ago), the Rhine occupied its Late-Glacial valley. As a meandering river, it reworked its ice-age braidplain. As sea-level continued to rise in the Netherlands, the formation of the Holocene Rhine-Meuse delta began (~8,000 years ago). Coeval absolute sea-level rise and tectonic subsidence have strongly influenced delta evolution. Other factors of importance to the shape of the delta are the local tectonic activities of the Peel Boundary Fault, the substrate and geomorphology, as inherited from the Last Glacial and the coastal-marine dynamics, such as barrier and tidal inlet formations.</span></i><br />--------"
      ],
      "text/plain": [
       "<IPython.core.display.HTML object>"
      ]
     },
     "metadata": {},
     "output_type": "display_data"
    },
    {
     "data": {
      "text/html": [
       "--------<br /><i><span style=\"font-size:10px\">#2 (distance=0.69): The mouth of the Rhine into Lake Constance forms an inland delta. The delta is delimited in the West by the Alter Rhein (\"Old Rhine\") and in the East by a modern canalized section. Most of the delta is a nature reserve and bird sanctuary. It includes the Austrian towns of Gaißau, Höchst and Fußach. The natural Rhine originally branched into at least two arms and formed small islands by precipitating sediments. In the local Alemannic dialect, the singular is pronounced \"Isel\" and this is also the local pronunciation of Esel (\"Donkey\"). Many local fields have an official name containing this element.</span></i><br />--------"
      ],
      "text/plain": [
       "<IPython.core.display.HTML object>"
      ]
     },
     "metadata": {},
     "output_type": "display_data"
    }
   ],
   "source": [
    "random.seed(1)\n",
    "retrieve_documents(private_collection, df_squad.iloc[0]['question'])\n",
    "retrieve_documents(private_collection, df_squad.iloc[random.randint(0, df_squad.shape[0])]['question'])\n",
    "retrieve_documents(private_collection, df_squad.iloc[random.randint(0, df_squad.shape[0])]['question'])"
   ]
  },
  {
   "attachments": {},
   "cell_type": "markdown",
   "metadata": {},
   "source": [
    "### Comparison between GPT-3 and MiniLM\n",
    "\n",
    "Now let's do a more quantiative comparison between the performance of GPT-3 and MiniLM on Document QA with the SQuAD dataset using Top-1 Accuracy. \n",
    "\n",
    "In other words, how often does each model return the correct document for the given question as its #1 result?"
   ]
  },
  {
   "cell_type": "code",
   "execution_count": 234,
   "metadata": {},
   "outputs": [
    {
     "name": "stderr",
     "output_type": "stream",
     "text": [
      "100%|██████████| 53/53 [00:41<00:00,  1.28it/s]\n"
     ]
    },
    {
     "name": "stdout",
     "output_type": "stream",
     "text": [
      "OpenAI Accuracy: 0.668\n",
      "Local Accuracy: 0.6\n"
     ]
    }
   ],
   "source": [
    "# Measure accuracy of OpenAI vs local model on Top-1 retrieval\n",
    "questions = df_squad['question'].tolist()\n",
    "\n",
    "## OpenAI\n",
    "openai_preds = []\n",
    "for chunk in tqdm(range(0, len(questions), 200)):\n",
    "    openai_response = public_collection.query(\n",
    "        query_texts=questions[chunk:chunk+200],\n",
    "        n_results=1,\n",
    "        include=[\"documents\"],\n",
    "    )\n",
    "    openai_preds += [ int(openai_response['ids'][x][0]) for x in range(len(openai_response['ids'])) ]\n",
    "\n",
    "## Local model\n",
    "local_response = private_collection.query(\n",
    "    query_texts=questions,\n",
    "    n_results=1,\n",
    "    include=[\"documents\"],\n",
    ")\n",
    "local_preds = [ int(local_response['ids'][x][0]) for x in range(len(local_response['ids'])) ]\n",
    "\n",
    "openai_preds = np.array(openai_preds)\n",
    "local_preds = np.array(local_preds)\n",
    "print(\"OpenAI Accuracy:\", accuracy(df_squad['c_id'], openai_preds))\n",
    "print(\"Local Accuracy:\", accuracy(df_squad['c_id'], local_preds))"
   ]
  },
  {
   "attachments": {},
   "cell_type": "markdown",
   "metadata": {},
   "source": [
    "We see that OpenAI embeddings are more accurate than MiniLM embeddings by a fair margin.\n",
    "\n",
    "However, MiniLM is much cheaper (free), faster, and can be used for proprietary data. Thus, the best approach will depend on your specific use case."
   ]
  },
  {
   "attachments": {},
   "cell_type": "markdown",
   "metadata": {},
   "source": [
    "# Time Series Prediction\n",
    "\n",
    "Note: Tutorial taken from: [https://cienciadedatos.net/documentos/py29-forecasting-electricity-power-demand-python.html](https://cienciadedatos.net/documentos/py29-forecasting-electricity-power-demand-python.html)\n",
    "\n",
    "**Business Scenario:** \n",
    "- You run a profitable utility company and want to forecast energy usage so that you can plan your energy production and distribution\n",
    "- Or, you are predicting the price of an asset over time.\n",
    "- Or, you run the ER room of a hospital and want to use vital signs to predict patient deterioration  before it actually occurs.\n",
    "\n",
    "**Task:** \n",
    "- Given a set of historical energy usage data, predict future energy usage.\n",
    "\n",
    "**Methods:**\n",
    "1. Autoregressive forecasting model for time series data (not GPT-3!)\n",
    "\n",
    "**Dataset:** \n",
    "- Electricity demand (MW) dataset for the state of Victoria, Australia, from 2011-12-31 to 2014-12-31 \n",
    "\n",
    "**Metrics:**\n",
    "1. Mean Absolute Error -- how far our predictions are from the ground truth electricity usage"
   ]
  },
  {
   "attachments": {},
   "cell_type": "markdown",
   "metadata": {},
   "source": [
    "#### Quick Aside\n",
    "\n",
    "How can we use GPT-3 to tackle this time series prediction problem?\n",
    "\n",
    "The answer is **you shouldn't!** \n",
    "\n",
    "This task has nothing to do with natural language processing.\n",
    "\n",
    "Instead, we'll use an autoregressive model purpose-built for time series forecasting. We will use the `skforecast` Python library for this."
   ]
  },
  {
   "attachments": {},
   "cell_type": "markdown",
   "metadata": {},
   "source": [
    "Let's start by loading our dataset."
   ]
  },
  {
   "cell_type": "code",
   "execution_count": 255,
   "metadata": {},
   "outputs": [
    {
     "name": "stdout",
     "output_type": "stream",
     "text": [
      "<class 'pandas.core.frame.DataFrame'>\n",
      "RangeIndex: 52608 entries, 0 to 52607\n",
      "Data columns (total 5 columns):\n",
      " #   Column       Non-Null Count  Dtype  \n",
      "---  ------       --------------  -----  \n",
      " 0   Time         52608 non-null  object \n",
      " 1   Demand       52608 non-null  float64\n",
      " 2   Temperature  52608 non-null  float64\n",
      " 3   Date         52608 non-null  object \n",
      " 4   Holiday      52608 non-null  bool   \n",
      "dtypes: bool(1), float64(2), object(2)\n",
      "memory usage: 1.7+ MB\n",
      "Train dates      : 2012-01-01 00:00:00 --- 2013-12-31 23:00:00  (n=17544)\n",
      "Validation dates : 2014-01-01 00:00:00 --- 2014-11-30 23:00:00  (n=8016)\n",
      "Test dates       : 2014-12-01 00:00:00 --- 2014-12-30 23:00:00  (n=720)\n"
     ]
    }
   ],
   "source": [
    "# Get dataset\n",
    "df_elec = pd.read_csv('data/time_series/vic_elec.csv')\n",
    "df_elec.info()\n",
    "\n",
    "# Do some preprocessing\n",
    "df_elec['Time'] = pd.to_datetime(df_elec['Time'], format='%Y-%m-%dT%H:%M:%SZ')\n",
    "df_elec = df_elec.set_index('Time').asfreq('30min').sort_index()\n",
    "df_elec = df_elec.drop(columns=['Date'])\n",
    "df_elec = df_elec.resample(rule='H', closed='left', label ='right').mean()\n",
    "df_elec = df_elec.loc['2012-01-01 00:00:00': '2014-12-30 23:00:00'].copy()\n",
    "\n",
    "# Train/test/val splits\n",
    "end_train = '2013-12-31 23:59:00'\n",
    "end_validation = '2014-11-30 23:59:00'\n",
    "df_train = df_elec.loc[: end_train, :].copy()\n",
    "df_val   = df_elec.loc[end_train:end_validation, :].copy()\n",
    "df_train_val = df_elec.loc[:end_validation,:].copy()\n",
    "df_test  = df_elec.loc[end_validation:, :].copy()\n",
    "print(f\"Train dates      : {df_train.index.min()} --- {df_train.index.max()}  (n={len(df_train)})\")\n",
    "print(f\"Validation dates : {df_val.index.min()} --- {df_val.index.max()}  (n={len(df_val)})\")\n",
    "print(f\"Test dates       : {df_test.index.min()} --- {df_test.index.max()}  (n={len(df_test)})\")"
   ]
  },
  {
   "cell_type": "code",
   "execution_count": 246,
   "metadata": {},
   "outputs": [
    {
     "data": {
      "image/png": "[encoded data removed]",
      "text/plain": [
       "<Figure size 800x350 with 1 Axes>"
      ]
     },
     "metadata": {},
     "output_type": "display_data"
    }
   ],
   "source": [
    "# Plot data\n",
    "fig, ax = plt.subplots(figsize=(8, 3.5))\n",
    "df_train.Demand.plot(ax=ax, label='train', linewidth=1)\n",
    "df_val.Demand.plot(ax=ax, label='validation', linewidth=1)\n",
    "df_test.Demand.plot(ax=ax, label='test', linewidth=1)\n",
    "ax.set_title('Electricity demand')\n",
    "ax.legend()\n",
    "plt.show()"
   ]
  },
  {
   "attachments": {},
   "cell_type": "markdown",
   "metadata": {},
   "source": [
    "Now that we have our dataset, let's actually train a model to predict future electricity demand.\n",
    "\n",
    "We'll be using a linear regression model with L2 regularization (\"Ridge\"). We'll use the previous 24 hours to inform our prediction at each timestep."
   ]
  },
  {
   "cell_type": "code",
   "execution_count": 301,
   "metadata": {},
   "outputs": [
    {
     "name": "stdout",
     "output_type": "stream",
     "text": [
      "Number of models compared: 40.\n"
     ]
    },
    {
     "name": "stderr",
     "output_type": "stream",
     "text": [
      "lags grid: 100%|██████████| 4/4 [00:25<00:00,  6.38s/it]"
     ]
    },
    {
     "name": "stdout",
     "output_type": "stream",
     "text": [
      "`Forecaster` refitted using the best-found lags and parameters, and the whole data set: \n",
      "  Lags: [ 1  2  3 23 24 25 47 48 49] \n",
      "  Parameters: {'alpha': 215.44346900318823}\n",
      "  Backtesting metric: 346.49704969030336\n",
      "\n"
     ]
    },
    {
     "name": "stderr",
     "output_type": "stream",
     "text": [
      "\n"
     ]
    },
    {
     "data": {
      "text/plain": [
       "================= \n",
       "ForecasterAutoreg \n",
       "================= \n",
       "Regressor: Ridge(alpha=215.44346900318823, random_state=123) \n",
       "Lags: [ 1  2  3 23 24 25 47 48 49] \n",
       "Transformer for y: StandardScaler() \n",
       "Transformer for exog: None \n",
       "Window size: 49 \n",
       "Weight function included: False \n",
       "Exogenous included: False \n",
       "Type of exogenous variable: None \n",
       "Exogenous variables names: None \n",
       "Training range: [Timestamp('2012-01-01 00:00:00'), Timestamp('2014-11-30 23:00:00')] \n",
       "Training index type: DatetimeIndex \n",
       "Training index frequency: H \n",
       "Regressor parameters: {'alpha': 215.44346900318823, 'copy_X': True, 'fit_intercept': True, 'max_iter': None, 'positive': False, 'random_state': 123, 'solver': 'auto', 'tol': 0.0001} \n",
       "fit_kwargs: {} \n",
       "Creation date: 2023-07-15 18:10:57 \n",
       "Last fit date: 2023-07-15 18:11:22 \n",
       "Skforecast version: 0.9.1 \n",
       "Python version: 3.10.12 \n",
       "Forecaster id: None "
      ]
     },
     "execution_count": 301,
     "metadata": {},
     "output_type": "execute_result"
    }
   ],
   "source": [
    "from skforecast.ForecasterAutoreg import ForecasterAutoreg\n",
    "from skforecast.model_selection import backtesting_forecaster\n",
    "from skforecast.model_selection import grid_search_forecaster\n",
    "from sklearn.linear_model import Ridge\n",
    "from sklearn.preprocessing import StandardScaler\n",
    "\n",
    "# Use basic Ridge regression as model\n",
    "forecaster = skforecast.ForecasterAutoreg.ForecasterAutoreg(\n",
    "    regressor     = Ridge(random_state=123),\n",
    "    lags          = 48,\n",
    "    transformer_y = StandardScaler()\n",
    ")\n",
    "\n",
    "# Hyperparam tuning\n",
    "lags_grid = [5, 24, 48, [1, 2, 3, 23, 24, 25, 47, 48, 49]]\n",
    "param_grid = {'alpha': np.logspace(-3, 5, 10)}\n",
    "\n",
    "results_grid = grid_search_forecaster(\n",
    "    forecaster         = forecaster,\n",
    "    y                  = df_train_val['Demand'],\n",
    "    steps              = 48,\n",
    "    metric             = 'mean_absolute_error',\n",
    "    param_grid         = param_grid,\n",
    "    lags_grid          = lags_grid,\n",
    "    initial_train_size = df_train.shape[0],\n",
    "    refit              = False,\n",
    "    return_best        = True,\n",
    "    n_jobs             = 'auto',\n",
    "    verbose            = False,\n",
    "    show_progress      = True,\n",
    ")\n",
    "\n",
    "forecaster"
   ]
  },
  {
   "cell_type": "code",
   "execution_count": 302,
   "metadata": {},
   "outputs": [
    {
     "name": "stderr",
     "output_type": "stream",
     "text": [
      "100%|██████████| 15/15 [00:00<00:00, 234.95it/s]\n"
     ]
    }
   ],
   "source": [
    "# Make predictions on test set\n",
    "metric, predictions = backtesting_forecaster(\n",
    "    forecaster         = forecaster,\n",
    "    y                  = df_elec['Demand'],\n",
    "    steps              = 48, # Make predictions one day out\n",
    "    metric             = 'mean_absolute_error',\n",
    "    initial_train_size = df_train_val.shape[0],\n",
    "    refit              = False,\n",
    "    n_jobs             = 'auto',\n",
    "    verbose            = False,\n",
    "    show_progress      = True,\n",
    ")"
   ]
  },
  {
   "cell_type": "code",
   "execution_count": 303,
   "metadata": {},
   "outputs": [
    {
     "data": {
      "image/png": "[encoded data removed]",
      "text/plain": [
       "<Figure size 800x350 with 1 Axes>"
      ]
     },
     "metadata": {},
     "output_type": "display_data"
    }
   ],
   "source": [
    "# Plot all the data together\n",
    "fig, ax = plt.subplots(figsize=(8, 3.5))\n",
    "df_train.Demand.plot(ax=ax, label='train', linewidth=1)\n",
    "df_val.Demand.plot(ax=ax, label='validation', linewidth=1)\n",
    "df_test.Demand.plot(ax=ax, label='test', linewidth=1)\n",
    "predictions.plot(linewidth=2, label='prediction', ax=ax)\n",
    "ax.set_title('Prediction vs real demand (all data)')\n",
    "ax.legend()\n",
    "plt.show()"
   ]
  },
  {
   "cell_type": "code",
   "execution_count": 304,
   "metadata": {},
   "outputs": [
    {
     "data": {
      "text/plain": [
       "<matplotlib.legend.Legend at 0x7fb2f2fea050>"
      ]
     },
     "execution_count": 304,
     "metadata": {},
     "output_type": "execute_result"
    },
    {
     "data": {
      "image/png": "[encoded data removed]",
      "text/plain": [
       "<Figure size 800x350 with 1 Axes>"
      ]
     },
     "metadata": {},
     "output_type": "display_data"
    }
   ],
   "source": [
    "# Zoom in on test set\n",
    "fig, ax = plt.subplots(figsize=(8, 3.5))\n",
    "df_elec.loc[predictions.index, 'Demand'].plot(linewidth=2, label='real', ax=ax, color='green')\n",
    "predictions.plot(linewidth=2, label='prediction', ax=ax, color='red')\n",
    "ax.set_title('Prediction vs real demand (zoomed in to test set)')\n",
    "ax.legend()"
   ]
  },
  {
   "attachments": {},
   "cell_type": "markdown",
   "metadata": {},
   "source": [
    "#### Conclusion\n",
    "\n",
    "For many predictive tasks, large language models are the wrong tool for the job! Don't fall into the trap of using GPT-3 like a hammer looking for nails.\n",
    "\n",
    "Use cases that do not involve text will likely require a different modeling approach."
   ]
  }
 ],
 "metadata": {
  "kernelspec": {
   "display_name": "base",
   "language": "python",
   "name": "python3"
  },
  "language_info": {
   "codemirror_mode": {
    "name": "ipython",
    "version": 3
   },
   "file_extension": ".py",
   "mimetype": "text/x-python",
   "name": "python",
   "nbconvert_exporter": "python",
   "pygments_lexer": "ipython3",
   "version": "3.10.12"
  },
  "orig_nbformat": 4
 },
 "nbformat": 4,
 "nbformat_minor": 2
}
