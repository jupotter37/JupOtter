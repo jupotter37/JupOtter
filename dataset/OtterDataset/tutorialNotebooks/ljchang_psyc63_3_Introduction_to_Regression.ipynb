{
 "cells": [
  {
   "cell_type": "markdown",
   "metadata": {
    "deletable": true,
    "editable": true
   },
   "source": [
    "# Linear Regression Analysis\n",
    "\n",
    "*Written by Jin Cheong & Luke Chang*\n",
    "\n",
    "In this lab we are going to learn how to do simple data analyses using python. \n",
    "This module includes learning how to run simple linear regression models, comparing models, & visualizing fits. - This notebook was adapted from material available [here](https://github.com/justmarkham/DAT4/blob/master/notebooks/08_linear_regression.ipynb)\n",
    "\n",
    "After the tutorial you will have the chance to apply the methods to a new set of data. \n"
   ]
  },
  {
   "cell_type": "code",
   "execution_count": null,
   "metadata": {
    "ExecuteTime": {
     "end_time": "2017-01-18T14:44:10.530703",
     "start_time": "2017-01-18T14:44:09.731729"
    },
    "collapsed": true,
    "deletable": true,
    "editable": true
   },
   "outputs": [],
   "source": [
    "%matplotlib inline\n",
    "\n",
    "import numpy as np\n",
    "import pandas as pd\n",
    "import matplotlib.pyplot as plt\n",
    "import statsmodels.api as sm\n",
    "import statsmodels.formula.api as smf\n",
    "import statsmodels.stats.api as stats"
   ]
  },
  {
   "cell_type": "markdown",
   "metadata": {
    "deletable": true,
    "editable": true
   },
   "source": [
    "We will load the data which is a comma delimited text file using the `read_csv()` method from pandas. \n",
    "The '../Data' indicates that we will move one folder up and then into the Data folder."
   ]
  },
  {
   "cell_type": "code",
   "execution_count": null,
   "metadata": {
    "ExecuteTime": {
     "end_time": "2017-01-18T14:44:10.536720",
     "start_time": "2017-01-18T14:44:10.532385"
    },
    "collapsed": false,
    "deletable": true,
    "editable": true
   },
   "outputs": [],
   "source": [
    "# Load the data\n",
    "df = pd.read_csv('../Data/salary.csv')"
   ]
  },
  {
   "cell_type": "code",
   "execution_count": null,
   "metadata": {
    "ExecuteTime": {
     "end_time": "2017-01-18T14:44:10.543760",
     "start_time": "2017-01-18T14:44:10.537887"
    },
    "collapsed": false,
    "deletable": true,
    "editable": true
   },
   "outputs": [],
   "source": [
    "df = df.dropna()\n",
    "df = df[df.gender!=2]"
   ]
  },
  {
   "cell_type": "code",
   "execution_count": null,
   "metadata": {
    "ExecuteTime": {
     "end_time": "2017-01-18T14:44:10.554847",
     "start_time": "2017-01-18T14:44:10.545364"
    },
    "collapsed": false,
    "deletable": true,
    "editable": true
   },
   "outputs": [],
   "source": [
    "print 'There are %i rows and %i columns in this data set' % df.shape\n",
    "df.isnull().sum()"
   ]
  },
  {
   "cell_type": "code",
   "execution_count": null,
   "metadata": {
    "ExecuteTime": {
     "end_time": "2017-01-18T14:44:10.765524",
     "start_time": "2017-01-18T14:44:10.556141"
    },
    "collapsed": false,
    "deletable": true,
    "editable": true
   },
   "outputs": [],
   "source": [
    "df[['salary','years']].plot(kind='scatter', x='years', y='salary')"
   ]
  },
  {
   "cell_type": "code",
   "execution_count": null,
   "metadata": {
    "ExecuteTime": {
     "end_time": "2017-01-18T14:44:10.810764",
     "start_time": "2017-01-18T14:44:10.767183"
    },
    "collapsed": false,
    "deletable": true,
    "editable": true
   },
   "outputs": [],
   "source": [
    "# Oneshot visualization\n",
    "## create a new numericalSeries called dept_num !! Just for visualization !! \n",
    "df['dept_num'] = df.departm.map({'bio':0, 'chem':1,'geol':2,'neuro':3,'stat':4,'physics':5,'math':6})\n",
    "df.tail()"
   ]
  },
  {
   "cell_type": "code",
   "execution_count": null,
   "metadata": {
    "ExecuteTime": {
     "end_time": "2017-01-18T14:44:11.455813",
     "start_time": "2017-01-18T14:44:10.828546"
    },
    "collapsed": false,
    "deletable": true,
    "editable": true
   },
   "outputs": [],
   "source": [
    "## Now plot all four categories\n",
    "fig, axs = plt.subplots(1, 4, sharey=True)\n",
    "df.plot(kind='scatter', x='gender', y='salary', ax=axs[0], figsize=(16, 4))\n",
    "df.plot(kind='scatter', x='dept_num', y='salary', ax=axs[1])\n",
    "df.plot(kind='scatter', x='years', y='salary', ax=axs[2])\n",
    "df.plot(kind='scatter', x='age', y='salary', ax=axs[3])\n",
    "# The problem is that it treats department as a continuous variable. "
   ]
  },
  {
   "cell_type": "markdown",
   "metadata": {
    "deletable": true,
    "editable": true
   },
   "source": [
    "## Linear Regression\n",
    "\n",
    "Now let's move on to running an analysis.\n",
    "\n",
    "Simple linear regression is an approach for predicting a **quantitative response** using a **single feature** (or \"predictor\" or \"input variable\"). It takes the following form:\n",
    "\n",
    "$y = \\beta_0 + \\beta_1\\cdot x $\n",
    "\n",
    "What does each term represent?\n",
    "- $y$ is the response\n",
    "- $x$ is the feature\n",
    "- $\\beta_0$ is the intercept\n",
    "- $\\beta_1$ is the coefficient for x\n",
    "\n",
    "Together, $\\beta_0$ and $\\beta_1$ are called the **model coefficients**. To create your model, you must \"estimate\" the values of these coefficients. And once we've estimated these parameters, we can use the model to predict things!"
   ]
  },
  {
   "cell_type": "markdown",
   "metadata": {
    "deletable": true,
    "editable": true
   },
   "source": [
    "## Estimating Model Coefficients\n",
    "\n",
    "Generally speaking, coefficients are estimated using the **least squares criterion**, which means we are find the line (mathematically) which minimizes the **sum of squared residuals** (or \"sum of squared errors\"):\n",
    "\n",
    "<img src=\"Figures/estimating_coefficients.png\">\n",
    "\n",
    "What elements are present in the diagram?\n",
    "- The black dots are the **observed values** of x and y.\n",
    "- The blue line is our **least squares line**.\n",
    "- The red lines are the **residuals**, which are the distances between the observed values and the least squares line.\n",
    "\n",
    "How do the model coefficients relate to the least squares line?\n",
    "- $\\beta_0$ is the **intercept** (the value of $y$ when $x$=0)\n",
    "- $\\beta_1$ is the **slope** (the change in $y$ divided by change in $x$)\n",
    "\n",
    "Here is a graphical depiction of those calculations:\n",
    "\n",
    "<img src=\"Figures/slope_intercept.png\">"
   ]
  },
  {
   "cell_type": "markdown",
   "metadata": {
    "deletable": true,
    "editable": true
   },
   "source": [
    "To run a regression we will be using the statsmodels module that was loaded above.  We will first initalize a model object with the regression equation and the data to use.  The format for specifying the regression equation is similar to R. (y ~ x).\n",
    "\n",
    "Here we will estimate the effect of gender on salary.  Gender is a \"dummy variable\", meaning that it is only ones and zeros.\n",
    "\n",
    "After we have initialized the object instance we can run the fit method (this can be chained so you only need to run one line).  After the parameters have been estimated we can query attributes of the model such as the estimated model parameters."
   ]
  },
  {
   "cell_type": "code",
   "execution_count": null,
   "metadata": {
    "ExecuteTime": {
     "end_time": "2017-01-18T14:44:11.484659",
     "start_time": "2017-01-18T14:44:11.473799"
    },
    "collapsed": false,
    "deletable": true,
    "editable": true,
    "scrolled": false
   },
   "outputs": [],
   "source": [
    "lm = smf.ols(formula = \"salary ~ gender\",data=df).fit()\n",
    "\n",
    "# print the coefficients\n",
    "print(lm.params)\n",
    "print(lm.params[1])"
   ]
  },
  {
   "cell_type": "markdown",
   "metadata": {
    "deletable": true,
    "editable": true
   },
   "source": [
    "## Interpreting Model Coefficients\n",
    "\n",
    "How do we interpret the estimated coefficients for this model?\n",
    "- $\\beta_0$, or the intercept, reflects the average salary for the reference condition of the dummy code (i.e., when gender = 0).  This means that males make an average of `$69108.5`\n",
    "- to get the estimated female salary we need to add $\\beta_1$ (-13388.83), which becomes `$55719.67`\n",
    "\n",
    "We can also get a summary of all of the model statistics using the `summary()` method."
   ]
  },
  {
   "cell_type": "markdown",
   "metadata": {
    "deletable": true,
    "editable": true
   },
   "source": [
    " "
   ]
  },
  {
   "cell_type": "code",
   "execution_count": null,
   "metadata": {
    "ExecuteTime": {
     "end_time": "2017-01-18T14:44:11.965467",
     "start_time": "2017-01-18T14:44:11.954564"
    },
    "collapsed": false,
    "deletable": true,
    "editable": true
   },
   "outputs": [],
   "source": [
    "print(lm.summary())"
   ]
  },
  {
   "cell_type": "markdown",
   "metadata": {
    "deletable": true,
    "editable": true
   },
   "source": [
    "## Confidence in our Model\n",
    "\n",
    "Now let's examine the output. To learn more about Statsmodels and how to interpret the output, DataRobot has some decent posts on [simple linear regression](http://www.datarobot.com/blog/ordinary-least-squares-in-python/) and [multiple linear regression](http://www.datarobot.com/blog/multiple-regression-using-statsmodels/).\n",
    "\n",
    "\n",
    "**Question:** Is linear regression a high bias/low variance model, or a low bias/high variance model?\n",
    "\n",
    "**Answer:** High bias/low variance. Under repeated sampling, the line will stay roughly in the same place (low variance), but the average of those models won't do a great job capturing the true relationship (high bias). Note that low variance is a useful characteristic when you don't have a lot of training data!\n",
    "\n",
    "A closely related concept is **confidence intervals**. Statsmodels calculates 95% confidence intervals for our model coefficients, which are interpreted as follows: If the population from which this sample was drawn was **sampled 100 times**, approximately **95 of those confidence intervals** would contain the \"true\" coefficient.\n",
    "\n",
    "## Hypothesis Testing and p-values\n",
    "\n",
    "Closely related to confidence intervals is **hypothesis testing**. Generally speaking, you start with a **null hypothesis** and an **alternative hypothesis** (that is opposite the null). Then, you check whether the data supports **rejecting the null hypothesis** or **failing to reject the null hypothesis**.\n",
    "\n",
    "(Note that \"failing to reject\" the null is not the same as \"accepting\" the null hypothesis. The alternative hypothesis may indeed be true, except that you just don't have enough data to show that.)\n",
    "\n",
    "As it relates to model coefficients, here is the conventional hypothesis test:\n",
    "- **null hypothesis:** There is no relationship between gender and salary (and thus $\\beta_1$ equals zero)\n",
    "- **alternative hypothesis:** There is a relationship between TV ads and Sales (and thus $\\beta_1$ is not equal to zero)\n",
    "\n",
    "How do we test this hypothesis? Intuitively, we reject the null (and thus believe the alternative) if the 95% confidence interval **does not include zero**. Conversely, the **p-value** represents the probability that the coefficient is actually zero:\n",
    "\n",
    "## Overall Model Fit\n",
    "\n",
    "The overall goodness of how well the model fits the data can be described using the AIC or BIC which are information criterions that penalize for the number of free parameters in the model.  A common way to evaluate the overall fit of a linear model is **$R^2$** value. $R^2$ is the **proportion of variance explained**, meaning the proportion of variance in the observed data that is explained by the model, or the reduction in error over the **null model**. (The null model just predicts the mean of the observed response, and thus it has an intercept and no slope.)\n",
    "\n",
    "$R^2$ is between 0 and 1, and higher is better because it means that more variance is explained by the model. Here's an example of what R-squared \"looks like\":\n",
    "\n",
    "In the model above, we see that $R^2$=0.09, which means that gender does not do a great job at predicting the overall salary."
   ]
  },
  {
   "cell_type": "markdown",
   "metadata": {
    "deletable": true,
    "editable": true
   },
   "source": [
    "## Multiple Linear Regression\n",
    "\n",
    "Simple linear regression can easily be extended to include multiple features. This is called **multiple linear regression**:\n",
    "\n",
    "$y = \\beta_0 + \\beta_1x_1 + ... + \\beta_nx_n$\n",
    "\n",
    "Each $x$ represents a different feature, and each feature has its own coefficient. In this case:\n",
    "\n",
    "$Salary = \\beta_0 + \\beta_1 \\cdot Gender + \\beta_2 \\cdot Years$\n",
    "\n",
    "Let's use Statsmodels to estimate these coefficients:"
   ]
  },
  {
   "cell_type": "code",
   "execution_count": null,
   "metadata": {
    "ExecuteTime": {
     "end_time": "2017-01-18T14:44:12.437296",
     "start_time": "2017-01-18T14:44:12.419615"
    },
    "collapsed": false,
    "deletable": true,
    "editable": true
   },
   "outputs": [],
   "source": [
    "lm2 = smf.ols(formula = \"salary ~ gender + years\",data=df).fit()\n",
    "print(lm2.summary())"
   ]
  },
  {
   "cell_type": "markdown",
   "metadata": {
    "deletable": true,
    "editable": true
   },
   "source": [
    "Here we see that `years` also significantly explains additional variance.\n",
    "\n",
    "This is reflected in the $R^2$, which has now increased from 0.09 to 0.143. It is important to note that **$R^2$ will always increase as you add more features to the model**, even if they are unrelated to the response. Thus, selecting the model with the highest R-squared is not a reliable approach for choosing the best linear model.\n",
    "\n",
    "There is alternative to $R^2$ called **adjusted $R^2$** that penalizes model complexity (to control for overfitting), but it generally [under-penalizes complexity](http://scott.fortmann-roe.com/docs/MeasuringError.html).\n",
    "\n",
    "Next week we will explore another approach known as **Cross-validation.** Importantly, cross-validation can be applied to any model, whereas the methods described above only apply to linear models.\n",
    "\n",
    "Here, we will try and see if the new model significantly explains additional variance controlling for the extra free parameter using a nested model comparison."
   ]
  },
  {
   "cell_type": "code",
   "execution_count": null,
   "metadata": {
    "ExecuteTime": {
     "end_time": "2017-01-18T14:44:12.769250",
     "start_time": "2017-01-18T14:44:12.755716"
    },
    "collapsed": false,
    "deletable": true,
    "editable": true
   },
   "outputs": [],
   "source": [
    "print(stats.anova_lm(lm,lm2))"
   ]
  },
  {
   "cell_type": "markdown",
   "metadata": {
    "deletable": true,
    "editable": true
   },
   "source": [
    "We see that the addition of `years` in model2 significantly explains additional variance when compared to model 1. Notice that this is similar to the results provided by the t-tests on the individual parameters. Using model comparison to test incrementally adding a single predictor is a feature selection method known as stepwise regression.  However, you can also perform model comparison on models with many different features as long as one is nested within the other.\n",
    "\n",
    "When we only had one predictor we could investigate the relationship using a scatterplot.  Now that we have 2 predictors, we need to make a 3 dimensional plot to see the effect of each predictor on salary. "
   ]
  },
  {
   "cell_type": "code",
   "execution_count": null,
   "metadata": {
    "ExecuteTime": {
     "end_time": "2017-01-18T14:44:13.989664",
     "start_time": "2017-01-18T14:44:13.091418"
    },
    "collapsed": false,
    "deletable": true,
    "editable": true
   },
   "outputs": [],
   "source": [
    "from mpl_toolkits.mplot3d import Axes3D\n",
    "\n",
    "fig = plt.figure(figsize=(18,6))\n",
    "idx = [131,132,133]\n",
    "pos = {0:(-35,20),1:(-90,0),2:(0,0)}\n",
    "for i,ii in enumerate(idx):\n",
    "    ax = fig.add_subplot(ii, projection='3d')\n",
    "\n",
    "    # generate a mesh\n",
    "    x_surf = np.arange(0,11)/10.0\n",
    "    y_surf = np.arange(0,35,3)\n",
    "    x_surf, y_surf = np.meshgrid(x_surf, y_surf)\n",
    "\n",
    "    exog = pd.core.frame.DataFrame({'gender': x_surf.ravel(), 'years': y_surf.ravel()})\n",
    "    exog['intercept'] = np.ones(exog.shape[0])\n",
    "    out = lm2.predict(exog = exog,transform=True)\n",
    "\n",
    "    ax.plot_surface(x_surf, y_surf,\n",
    "                out.reshape(x_surf.shape),\n",
    "                rstride=1,\n",
    "                cstride=1,\n",
    "                color='None',\n",
    "                alpha = 0.2)\n",
    "\n",
    "    ax.scatter(df['gender'], df['years'], df['salary'],\n",
    "           c='blue',\n",
    "           marker='o',\n",
    "           alpha=1)\n",
    "\n",
    "    ax.set_xlabel('Gender')\n",
    "    ax.set_ylabel('Years')\n",
    "    ax.set_zlabel('Salary')\n",
    "    ax.azim = pos[i][0]\n",
    "    ax.elev = pos[i][1]\n",
    "\n",
    "plt.tight_layout()"
   ]
  },
  {
   "cell_type": "markdown",
   "metadata": {
    "deletable": true,
    "editable": true
   },
   "source": [
    "Notice how when we rotate the 3D plot, we can make projections into 2 dimensional space.  This is the effect of each predictor on salary controlling for the other.  \n",
    "\n",
    "We can also generate additional diagnostic plots."
   ]
  },
  {
   "cell_type": "code",
   "execution_count": null,
   "metadata": {
    "ExecuteTime": {
     "end_time": "2017-01-18T14:44:35.826100",
     "start_time": "2017-01-18T14:44:35.156463"
    },
    "collapsed": false,
    "deletable": true,
    "editable": true,
    "scrolled": false
   },
   "outputs": [],
   "source": [
    "f = sm.graphics.plot_regress_exog(lm2, 'years')\n",
    "f.set_size_inches(10,5)"
   ]
  },
  {
   "cell_type": "markdown",
   "metadata": {
    "deletable": true,
    "editable": true
   },
   "source": [
    "Lastly, we can create a standard ANOVA table with F statistics as if doing Anova.  F stat tests whether at least one of the coefficients of the variables of a category is significantly different from 0 or not.\n",
    "\n",
    "There are different times of Sum of Squared Error (SSQ) to consider.  We recommend using Type 3 by default.  See [here](https://mcfromnz.wordpress.com/2011/03/02/anova-type-iiiiii-ss-explained/) for more in depth discussion."
   ]
  },
  {
   "cell_type": "code",
   "execution_count": null,
   "metadata": {
    "ExecuteTime": {
     "end_time": "2017-01-18T14:44:14.602669",
     "start_time": "2017-01-18T14:44:14.590320"
    },
    "collapsed": false,
    "deletable": true,
    "editable": true
   },
   "outputs": [],
   "source": [
    "# Type 3 SSQ: valid for models with significant interaction terms\n",
    "print('ANOVA table for Type 3 SSQ')\n",
    "print(stats.anova_lm(lm2,typ=3))"
   ]
  },
  {
   "cell_type": "markdown",
   "metadata": {
    "deletable": true,
    "editable": true
   },
   "source": [
    "## Additional Resources for Learning about Regression\n",
    "\n",
    "- To go much more in-depth on linear regression, read Chapter 3 of [An Introduction to Statistical Learning](http://www-bcf.usc.edu/~gareth/ISL/). Alternatively, watch the [related videos](http://www.dataschool.io/15-hours-of-expert-machine-learning-videos/) or read a [quick reference guide](http://www.dataschool.io/applying-and-interpreting-linear-regression/) to the key points in that chapter.\n",
    "- This [introduction to linear regression](http://people.duke.edu/~rnau/regintro.htm) is much more detailed and mathematically thorough, and includes lots of good advice.\n",
    "- This is a relatively quick post on the [assumptions of linear regression](http://pareonline.net/getvn.asp?n=2&v=8)."
   ]
  },
  {
   "cell_type": "markdown",
   "metadata": {
    "collapsed": false,
    "deletable": true,
    "editable": true
   },
   "source": [
    "# Exercises\n",
    "Use the 'salary_exercise.csv' to apply the analyses we learned today.\n",
    "This dataset was adapted from material available [here](http://data.princeton.edu/wws509/datasets/#salary)\n",
    "\n",
    "These are the salary data used in Weisberg's book, consisting of observations on six variables for 52 tenure-track professors in a small college. The variables are:\n",
    "\n",
    "- sx = Sex, coded 1 for female and 0 for male\n",
    "- rk = Rank, coded\n",
    " - 1 for assistant professor,\n",
    " - 2 for associate professor, and\n",
    " - 3 for full professor\n",
    "- yr = Number of years in current rank\n",
    "- dg = Highest degree, coded 1 if doctorate, 0 if masters\n",
    "- yd = Number of years since highest degree was earned\n",
    "- sl = Academic year salary, in dollars.\n",
    "\n",
    "Reference: S. Weisberg (1985). Applied Linear Regression, Second Edition. New York: John Wiley and Sons. Page 194.\n",
    "##### Make sure you check the data for missing values or other errors before beginning your analysis.\n",
    "\n",
    "## Exercise 1\n",
    "Run a simple linear regression model in which you predict salary from sex of the professors.  \n",
    "Is there a gender difference in salary?   \n",
    "\n",
    "## Exercise 2\n",
    "Experiment with different combination of variables in your model to answer the following questions.   \n",
    "What is your best model to explain salary from the given data?  \n",
    "Is there a gender difference in salary?"
   ]
  }
 ],
 "metadata": {
  "anaconda-cloud": {},
  "kernelspec": {
   "display_name": "Python 2",
   "language": "python",
   "name": "python2"
  },
  "language_info": {
   "codemirror_mode": {
    "name": "ipython",
    "version": 2
   },
   "file_extension": ".py",
   "mimetype": "text/x-python",
   "name": "python",
   "nbconvert_exporter": "python",
   "pygments_lexer": "ipython2",
   "version": "2.7.13"
  },
  "toc": {
   "nav_menu": {
    "height": "262px",
    "width": "252px"
   },
   "navigate_menu": true,
   "number_sections": true,
   "sideBar": true,
   "threshold": 4,
   "toc_cell": false,
   "toc_section_display": "block",
   "toc_window_display": false
  }
 },
 "nbformat": 4,
 "nbformat_minor": 0
}
