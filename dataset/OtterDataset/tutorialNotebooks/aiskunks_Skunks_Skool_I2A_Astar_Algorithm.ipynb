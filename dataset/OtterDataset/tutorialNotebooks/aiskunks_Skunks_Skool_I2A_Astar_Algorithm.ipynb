{
 "cells": [
  {
   "cell_type": "markdown",
   "id": "594e25db",
   "metadata": {},
   "source": [
    "<b>\n",
    "    <h1><center><u>A* Algorithm Tutorial</u></center></h1>\n",
    "</b>\n",
    "\n",
    "<img src=\"img/A_star.gif\" width=600 height=650 />"
   ]
  },
  {
   "cell_type": "markdown",
   "id": "8dca9d0e",
   "metadata": {},
   "source": [
    "### What is the A* Algorithm and How does it work?"
   ]
  },
  {
   "cell_type": "markdown",
   "id": "3a758016",
   "metadata": {},
   "source": [
    "One of the oldest and most prominent applications in computer programming is path finding. By adding expenses, such as time, money, and so on, you may virtually determine the most optimal path from a source to a destination. For all the right reasons, A* is one of the most popular algorithms. Let's find out why in this tutorial."
   ]
  },
  {
   "cell_type": "markdown",
   "id": "c2f49c81",
   "metadata": {},
   "source": [
    "### What is a Search Algorithm?"
   ]
  },
  {
   "cell_type": "markdown",
   "id": "dd0dd069",
   "metadata": {},
   "source": [
    "Moving from one location to another is something that we humans do on a daily basis. We aim to identify the shortest route that will allow us to get to our destinations as quickly as possible and make the entire travel experience as efficient as feasible. In the past, we had to guess which road was shorter or longer by trial and error with the paths available.\n",
    "\n",
    "We now have algorithms that can virtually assist us in finding the quickest paths. We simply need to add expenses (time, money, etc.) to the graphs or maps, and the algorithm will identify the best way to get us to our destination as quickly as possible. For this topic, many algorithms have been created over time, with A* being one of the most prevalent."
   ]
  },
  {
   "cell_type": "markdown",
   "id": "75e98a8e",
   "metadata": {},
   "source": [
    "### Why A* Algorithm?"
   ]
  },
  {
   "cell_type": "markdown",
   "id": "7a750463",
   "metadata": {},
   "source": [
    "So, what is the A* algorithm exactly? It's a more advanced BFS algorithm that prioritizes finding shorter pathways over longer ones. A* is both the best and most complete algorithm.\n",
    "\n",
    "\n",
    "What exactly do I mean when I say \"optimal\" and \"complete\"? Optimal means that A* will discover the cheapest route from the source to the destination, while Complete means that it will find all possible routes from the source to the destination.\n",
    "\n",
    "As a result, A* is the best algorithm, correct? Yes, in the vast majority of cases. However, A* is slow and takes up a lot of space since it saves all of the different paths that are available to us. Other quicker algorithms have an advantage over A* as a result, although it is still one of the best algorithms available."
   ]
  },
  {
   "cell_type": "markdown",
   "id": "eed40424",
   "metadata": {},
   "source": [
    "### So why choose A* over other faster algorithms?"
   ]
  },
  {
   "cell_type": "markdown",
   "id": "a9ecdfe0",
   "metadata": {},
   "source": [
    "Allow the graphs below to provide you with an answer. For comparison, I used Dijkstra's algorithm and the A* Algorithm.\n",
    "\n",
    "As you can see, the Dijkstra's Algorithm determines all possible paths without determining or knowing which is the most optimal for the situation at hand. As a result, the algorithm's performance is degraded, and needless computations are performed.\n",
    "\n",
    "<img src=\"img/Dijkstras.gif\" width=300 height=250 />"
   ]
  },
  {
   "cell_type": "markdown",
   "id": "4d0785a0",
   "metadata": {},
   "source": [
    "The A* algorithm, on the other hand, determines the most efficient path from the source to the destination. It understands the optimal course to follow from where it is now and how it needs to get to its destination.\n",
    "\n",
    "<img src=\"img/Astar_progress_animation.gif\" width=300 height=300 />\n",
    "\n",
    "The A* Algorithm's ins and outs\n",
    "Now that you know why we chose A*, it's time to learn a little bit about the theory behind it, as it'll help you comprehend how this algorithm works.\n",
    "A* is used to discover the most efficient path from a source to a destination, as we all know. It optimizes the path by determining the shortest distance between two nodes.\n",
    "There is one formula that you must all memorize because it is the algorithm's heart and soul."
   ]
  },
  {
   "cell_type": "markdown",
   "id": "1722f746",
   "metadata": {},
   "source": [
    "#### F = G + H\n",
    "\n",
    "So, what exactly are these three variables, and why are they so crucial? Let's have a look at it now.\n",
    "\n",
    "F – F is the least cost from one node to the next node and is the parameter of A*, which is the sum of the other parameters G and H. This parameter is in charge of assisting us in determining the most efficient route from our source to our destination.\n",
    "\n",
    "G — The cost of switching from one node to the next. As we progress up the tree, this parameter changes for each node in order to discover the most optimal path.\n",
    "\n",
    "H - The heuristic/estimated path from the current code to the destination node is represented by H. This cost is not actual; rather, it is a guess cost that we use to determine which path between our source and destination is the most efficient."
   ]
  },
  {
   "cell_type": "markdown",
   "id": "bf4283c2",
   "metadata": {},
   "source": [
    "#### So, now that you've grasped this formula, let's see a simple example to demonstrate how this algorithm works."
   ]
  },
  {
   "cell_type": "markdown",
   "id": "36414ec9",
   "metadata": {},
   "source": [
    "<img src=\"img/grph.png\" width=300 height=300 />"
   ]
  },
  {
   "cell_type": "markdown",
   "id": "1d08eb05",
   "metadata": {},
   "source": [
    "Assume we're attempting to travel from point X to point Y. The g(n) cost does not occur since the point X is not relocated to a different node, and its value is 0. This point's heuristic value is the number 5 printed in red on the node. The air distance between the current node and the target node is the heuristic value in such scenarios. From point X, there are two options.\n",
    "Because it goes to a new node, g(n) = 5 (path cost) when moving to point A. h(n) = 1 is the heuristic value.The f(n) value of point A is found as 5+1 = 6. If we want to find the f(n) values ​​of all points using this method,\n",
    "\n",
    "X— A => g(A) + f(A) = 5 + 1 = 6,\n",
    "\n",
    "A — Y=> g(Y) + f(Y) = 6+ 0= 6,\n",
    "\n",
    "X— B => g(B) + f(B) = 1+ 4= 5,\n",
    "\n",
    "B — C => g(C) + f(C) = 3+ 2= 5,\n",
    "\n",
    "C — Y=> g(Y) + f(Y) = 5 + 0= 5,"
   ]
  },
  {
   "cell_type": "markdown",
   "id": "b229bdf4",
   "metadata": {},
   "source": [
    "The shortest path, as shown in the basic example above, is X-B-C-Y. The price of this road is 5 units, while the alternate X-A-Y route costs 6 units."
   ]
  },
  {
   "cell_type": "markdown",
   "id": "229b5b5e",
   "metadata": {},
   "source": [
    "## Implementation\n",
    "\n",
    "This is a direct implementation of A* on a graph structure. The heuristic function is defined as 1 for all nodes for the sake of simplicity and brevity.\n",
    "\n",
    "The graph is represented with an adjacency list, where the keys represent graph nodes, and the values contain a list of edges with the the corresponding neighboring nodes.\n",
    "\n",
    "Here you'll find the A* algorithm implemented in Python:"
   ]
  },
  {
   "cell_type": "code",
   "execution_count": 2,
   "id": "ee7c2ce7",
   "metadata": {},
   "outputs": [],
   "source": [
    "from collections import deque\n",
    " \n",
    "class Graph:\n",
    "    def __init__(self, adjacent_list):\n",
    "        self.adjacent_list = adjacent_list\n",
    " \n",
    "    def get_neighbours(self, v):\n",
    "        return self.adjacent_list[v]\n",
    " \n",
    "    # The below function is heuristic function that returns the same value for all nodes.\n",
    "    def h(self, n):\n",
    "        H = {\n",
    "            'A': 1,\n",
    "            'B': 1,\n",
    "            'C': 1,\n",
    "            'D': 1\n",
    "        }\n",
    " \n",
    "        return H[n]\n",
    " \n",
    "    def astar_algo(self, initial, end):\n",
    "        # This opening list contains a list of nodes that have been visited, but the \n",
    "        # neighbours haven't all been always examined, It starts off with the initial \n",
    "  #node\n",
    "        # And close_list is a list of nodes which have been visited\n",
    "        # and who's neighbors have been always examined\n",
    "        opening_list = set([initial])\n",
    "        close_list = set([])\n",
    " \n",
    "        # curr_dist has present distances from initial to all other nodes\n",
    "        # the default value is +infinity\n",
    "        curr_dist = {}\n",
    "        curr_dist[initial] = 0\n",
    " \n",
    "        # ad_map contains an adjac mapping of all nodes\n",
    "        ad_map = {}\n",
    "        ad_map[initial] = initial\n",
    " \n",
    "        while len(opening_list) > 0:\n",
    "            n = None\n",
    " \n",
    "            # it will find a node with the lowest value of f() -\n",
    "            for v in opening_list:\n",
    "                if n == None or curr_dist[v] + self.h(v) < curr_dist[n] + self.h(n):\n",
    "                    n = v;\n",
    " \n",
    "            if n == None:\n",
    "                print('Path does not exist!')\n",
    "                return None\n",
    " \n",
    "            # if the current node is the stop\n",
    "            # then we start again from initial\n",
    "            if n == end:\n",
    "                reconst_path = []\n",
    " \n",
    "                while ad_map[n] != n:\n",
    "                    reconst_path.append(n)\n",
    "                    n = ad_map[n]\n",
    " \n",
    "                reconst_path.append(initial)\n",
    " \n",
    "                reconst_path.reverse()\n",
    " \n",
    "                print('Path found: {}'.format(reconst_path))\n",
    "                return reconst_path\n",
    " \n",
    "            # for all the neighbors of the current node do\n",
    "            for (m, weight) in self.get_neighbours(n):\n",
    "              # if the current node is not presentin both opening_list and close_list\n",
    "                # add it to opening_list and note n as it's ad_map\n",
    "                if m not in opening_list and m not in close_list:\n",
    "                    opening_list.add(m)\n",
    "                    ad_map[m] = n\n",
    "                    curr_dist[m] = curr_dist[n] + weight\n",
    " \n",
    "                # otherwise, check if it's quicker to first visit n, then m\n",
    "                # and if it is, update ad_map data and curr_dist data\n",
    "                # and if the node was in the close_list, move it to opening_list\n",
    "                else:\n",
    "                    if curr_dist[m] > curr_dist[n] + weight:\n",
    "                        curr_dist[m] = curr_dist[n] + weight\n",
    "                        ad_map[m] = n\n",
    " \n",
    "                        if m in close_list:\n",
    "                            close_list.remove(m)\n",
    "                            opening_list.add(m)\n",
    " \n",
    "            # remove n from the opening_list, and add it to close_list\n",
    "            # because all of his neighbours were inspected\n",
    "            opening_list.remove(n)\n",
    "            close_list.add(n)\n",
    " \n",
    "        print('Path does not exist!')\n",
    "        return None"
   ]
  },
  {
   "cell_type": "code",
   "execution_count": 3,
   "id": "fbd48d8e",
   "metadata": {},
   "outputs": [
    {
     "name": "stdout",
     "output_type": "stream",
     "text": [
      "Path found: ['A', 'B', 'D']\n"
     ]
    },
    {
     "data": {
      "text/plain": [
       "['A', 'B', 'D']"
      ]
     },
     "execution_count": 3,
     "metadata": {},
     "output_type": "execute_result"
    }
   ],
   "source": [
    "adjacent_list = {\n",
    "    'A': [('B', 1), ('C', 3), ('D', 7)],\n",
    "    'B': [('D', 5)],\n",
    "    'C': [('D', 12)]\n",
    "}\n",
    "graph1 = Graph(adjacent_list)\n",
    "graph1.astar_algo('A', 'D')"
   ]
  },
  {
   "cell_type": "code",
   "execution_count": 4,
   "id": "79746f86",
   "metadata": {},
   "outputs": [
    {
     "name": "stdout",
     "output_type": "stream",
     "text": [
      "Path found: ['A', 'B', 'C']\n"
     ]
    },
    {
     "data": {
      "text/plain": [
       "['A', 'B', 'C']"
      ]
     },
     "execution_count": 4,
     "metadata": {},
     "output_type": "execute_result"
    }
   ],
   "source": [
    "adjacent_list = {\n",
    "    'A': [('B', 1), ('C', 3), ('D', 7)],\n",
    "    'B': [('D', 5),('C', 1)],\n",
    "    'C': [('D', 12)]\n",
    "}\n",
    "graph1 = Graph(adjacent_list)\n",
    "graph1.astar_algo('A', 'C')"
   ]
  },
  {
   "cell_type": "markdown",
   "id": "3ef630c5",
   "metadata": {},
   "source": [
    "We created the class Graph in this code, which contains numerous functions that execute different actions. There is a list of all the functions and the operations that each function performs. Then, using conditional statements, the appropriate operations will be performed to obtain the shortest path between two nodes. Finally, we'll get the output in the form of the shortest path between two nodes."
   ]
  },
  {
   "cell_type": "markdown",
   "id": "c726363a",
   "metadata": {},
   "source": [
    "### Conclusion\n",
    "\n",
    "A* is an extremely powerful algorithm with nearly limitless possibilities. However, it is only as good as its heuristic function, which, depending on the nature of the problem, might be highly varied.\n",
    "\n",
    "It has been used in a variety of software systems, ranging from machine learning and search optimization to game creation, where NPC characters must cross intricate terrain and obstacles to reach the player."
   ]
  },
  {
   "cell_type": "markdown",
   "id": "000cc30b",
   "metadata": {},
   "source": [
    "### References\n",
    "\n",
    "https://www.edureka.co/blog/a-search-algorithm/ <br>\n",
    "https://www.simplilearn.com/tutorials/artificial-intelligence-tutorial/a-star-algorithm <br>\n",
    "https://stackabuse.com/basic-ai-concepts-a-search-algorithm/ <br>\n",
    "https://www.pythonpool.com/a-star-algorithm-python/<br>"
   ]
  },
  {
   "cell_type": "markdown",
   "id": "0634ec39",
   "metadata": {},
   "source": [
    "Tutorial Done By: <br>\n",
    "Divyanshu Bhardwaj <br>\n",
    "NUID - 002181815"
   ]
  },
  {
   "cell_type": "code",
   "execution_count": null,
   "id": "92d491a4",
   "metadata": {},
   "outputs": [],
   "source": []
  }
 ],
 "metadata": {
  "kernelspec": {
   "display_name": "Python 3 (ipykernel)",
   "language": "python",
   "name": "python3"
  },
  "language_info": {
   "codemirror_mode": {
    "name": "ipython",
    "version": 3
   },
   "file_extension": ".py",
   "mimetype": "text/x-python",
   "name": "python",
   "nbconvert_exporter": "python",
   "pygments_lexer": "ipython3",
   "version": "3.9.7"
  }
 },
 "nbformat": 4,
 "nbformat_minor": 5
}
