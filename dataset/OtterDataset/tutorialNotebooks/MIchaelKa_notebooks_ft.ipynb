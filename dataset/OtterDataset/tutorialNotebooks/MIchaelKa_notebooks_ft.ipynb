{
 "cells": [
  {
   "cell_type": "code",
   "execution_count": null,
   "id": "practical-therapist",
   "metadata": {},
   "outputs": [],
   "source": [
    "import numpy as np\n",
    "import matplotlib.pyplot as plt\n",
    "%matplotlib inline\n",
    "\n",
    "plt.style.use('ggplot')\n",
    "plt.rcParams['figure.figsize'] = (12, 8)"
   ]
  },
  {
   "cell_type": "code",
   "execution_count": null,
   "id": "stock-leeds",
   "metadata": {},
   "outputs": [],
   "source": [
    "from scipy.fft import fft, fftfreq"
   ]
  },
  {
   "cell_type": "code",
   "execution_count": null,
   "id": "f95d074f",
   "metadata": {},
   "outputs": [],
   "source": [
    "# Normal distributed x and y vector with mean 0 and standard deviation 1\n",
    "# x = np.random.normal(0, 1, 500)\n",
    "# x = np.random.normal(0, 3.1458*2, 500)\n",
    "\n",
    "x = np.arange(0,10,0.1)\n",
    "# x = np.linspace(0, 10, 100, endpoint=False)\n",
    "y = np.sin(x)"
   ]
  },
  {
   "cell_type": "code",
   "execution_count": null,
   "id": "automotive-speaker",
   "metadata": {},
   "outputs": [],
   "source": [
    "# plt.scatter(x, y)\n",
    "plt.plot(x, y)\n",
    "plt.title('Generated Data')\n",
    "plt.axis('equal')"
   ]
  },
  {
   "cell_type": "code",
   "execution_count": null,
   "id": "decimal-malpractice",
   "metadata": {},
   "outputs": [],
   "source": [
    "# синус и косинус это же просто разораванная и отмасштабированная оружность"
   ]
  },
  {
   "cell_type": "markdown",
   "id": "58d40db3",
   "metadata": {},
   "source": [
    "# sin image"
   ]
  },
  {
   "cell_type": "code",
   "execution_count": null,
   "id": "487eaddb",
   "metadata": {},
   "outputs": [],
   "source": [
    "y.shape"
   ]
  },
  {
   "cell_type": "code",
   "execution_count": null,
   "id": "50ff4ef6",
   "metadata": {},
   "outputs": [],
   "source": [
    "sin_image = np.array([y] * 100)\n",
    "sin_image.shape"
   ]
  },
  {
   "cell_type": "code",
   "execution_count": null,
   "id": "fc7dc10f",
   "metadata": {},
   "outputs": [],
   "source": [
    "plt.imshow(sin_image)"
   ]
  },
  {
   "cell_type": "code",
   "execution_count": null,
   "id": "f827bf97",
   "metadata": {},
   "outputs": [],
   "source": [
    "x.shape"
   ]
  },
  {
   "cell_type": "code",
   "execution_count": null,
   "id": "9f46d029",
   "metadata": {},
   "outputs": [],
   "source": [
    "yf = fft(y)\n",
    "# xf = fftfreq(N, 1 / SAMPLE_RATE)\n",
    "\n",
    "# plt.plot(xf, np.abs(yf))\n",
    "plt.plot(x, np.abs(yf))\n",
    "plt.show()"
   ]
  },
  {
   "cell_type": "markdown",
   "id": "4bf3243f",
   "metadata": {},
   "source": [
    "# Generating the signal"
   ]
  },
  {
   "cell_type": "code",
   "execution_count": null,
   "id": "bbdb55b4",
   "metadata": {},
   "outputs": [],
   "source": [
    "def generate_sine_wave(freq, sample_rate, duration):\n",
    "    x = np.linspace(0, duration, sample_rate*duration, endpoint=False)\n",
    "    frequencies = x * freq\n",
    "    # 2pi для преобразования в радианы\n",
    "    y = np.sin((2 * np.pi) * frequencies)\n",
    "    return x, y"
   ]
  },
  {
   "cell_type": "code",
   "execution_count": null,
   "id": "amended-struggle",
   "metadata": {},
   "outputs": [],
   "source": [
    "# SAMPLE_RATE = 44100  # Гц\n",
    "# DURATION = 5  # Секунды\n",
    "\n",
    "SAMPLE_RATE = 50  # Гц\n",
    "DURATION = 5  # Секунды"
   ]
  },
  {
   "cell_type": "code",
   "execution_count": null,
   "id": "9b7912ea",
   "metadata": {},
   "outputs": [],
   "source": [
    "# Генерируем волну с частотой 2 Гц, которая длится 5 секунд\n",
    "x, y = generate_sine_wave(2, SAMPLE_RATE, DURATION)"
   ]
  },
  {
   "cell_type": "code",
   "execution_count": null,
   "id": "a682d45a",
   "metadata": {},
   "outputs": [],
   "source": [
    "x.shape"
   ]
  },
  {
   "cell_type": "code",
   "execution_count": null,
   "id": "f3890706",
   "metadata": {},
   "outputs": [],
   "source": [
    "plt.scatter(x, y)\n",
    "plt.plot(x, y)\n",
    "plt.show()"
   ]
  },
  {
   "cell_type": "code",
   "execution_count": null,
   "id": "owned-permission",
   "metadata": {},
   "outputs": [],
   "source": [
    "# число точек в normalized_tone\n",
    "N = SAMPLE_RATE * DURATION\n",
    "\n",
    "yf = fft(y)\n",
    "xf = fftfreq(N, 1 / SAMPLE_RATE)\n",
    "\n",
    "plt.plot(xf, np.abs(yf))\n",
    "plt.show()"
   ]
  },
  {
   "cell_type": "code",
   "execution_count": null,
   "id": "5bc3dceb",
   "metadata": {},
   "outputs": [],
   "source": [
    "N, 1 / SAMPLE_RATE"
   ]
  },
  {
   "cell_type": "code",
   "execution_count": null,
   "id": "52f9e9b5",
   "metadata": {},
   "outputs": [],
   "source": [
    "y"
   ]
  },
  {
   "cell_type": "code",
   "execution_count": null,
   "id": "deaa297b",
   "metadata": {},
   "outputs": [],
   "source": [
    "xf.shape"
   ]
  },
  {
   "cell_type": "code",
   "execution_count": null,
   "id": "771a5738",
   "metadata": {},
   "outputs": [],
   "source": [
    "xf"
   ]
  },
  {
   "cell_type": "code",
   "execution_count": null,
   "id": "bf3a67cc",
   "metadata": {},
   "outputs": [],
   "source": [
    "_, nice_tone = generate_sine_wave(400, SAMPLE_RATE, DURATION)"
   ]
  },
  {
   "cell_type": "markdown",
   "id": "2b195359",
   "metadata": {},
   "source": [
    "# Examples\n",
    "https://docs.scipy.org/doc/scipy/tutorial/fft.html\n"
   ]
  },
  {
   "cell_type": "code",
   "execution_count": null,
   "id": "2f0c3f14",
   "metadata": {},
   "outputs": [],
   "source": [
    "# Number of sample points\n",
    "N = 600\n",
    "# sample spacing\n",
    "T = 1.0 / 800.0\n",
    "x = np.linspace(0.0, N*T, N, endpoint=False)\n",
    "\n",
    "y = np.sin(50.0 * 2.0*np.pi*x) + 0.5*np.sin(80.0 * 2.0*np.pi*x)\n",
    "yf = fft(y)\n",
    "xf = fftfreq(N, T)[:N//2]"
   ]
  },
  {
   "cell_type": "code",
   "execution_count": null,
   "id": "8f46e287",
   "metadata": {},
   "outputs": [],
   "source": [
    "N*T"
   ]
  },
  {
   "cell_type": "code",
   "execution_count": null,
   "id": "16e2ec39",
   "metadata": {},
   "outputs": [],
   "source": [
    "plt.plot(x,y)\n",
    "plt.scatter(x,y)\n",
    "plt.grid()\n",
    "plt.show()"
   ]
  },
  {
   "cell_type": "code",
   "execution_count": null,
   "id": "525f3cc1",
   "metadata": {},
   "outputs": [],
   "source": [
    "plt.plot(xf, 2.0/N * np.abs(yf[0:N//2]))\n",
    "plt.grid()\n",
    "plt.show()"
   ]
  }
 ],
 "metadata": {
  "kernelspec": {
   "display_name": "Python 3 (ipykernel)",
   "language": "python",
   "name": "python3"
  },
  "language_info": {
   "codemirror_mode": {
    "name": "ipython",
    "version": 3
   },
   "file_extension": ".py",
   "mimetype": "text/x-python",
   "name": "python",
   "nbconvert_exporter": "python",
   "pygments_lexer": "ipython3",
   "version": "3.8.9"
  }
 },
 "nbformat": 4,
 "nbformat_minor": 5
}
