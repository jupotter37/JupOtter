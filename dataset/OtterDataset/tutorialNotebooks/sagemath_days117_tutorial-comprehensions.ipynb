{
 "cells": [
  {
   "cell_type": "markdown",
   "id": "18dd7c2a",
   "metadata": {},
   "source": [
    "$$\n",
    "\\def\\CC{\\bf C}\n",
    "\\def\\QQ{\\bf Q}\n",
    "\\def\\RR{\\bf R}\n",
    "\\def\\ZZ{\\bf Z}\n",
    "\\def\\NN{\\bf N}\n",
    "$$\n",
    "# Tutorial: Comprehensions, Iterators, and Iterables\n",
    "\n",
    "Florent Hivert \\<<florent.hivert@univ-rouen.fr>\\> and Nicolas M. Thiéry\n",
    "\\<nthiery at users.sf.net\\>\n",
    "\n",
    "## List comprehensions\n",
    "\n",
    "*List comprehensions* are a very handy way to construct lists in Python.\n",
    "You can use either of the following idioms:"
   ]
  },
  {
   "cell_type": "code",
   "execution_count": null,
   "id": "6905721f",
   "metadata": {},
   "outputs": [],
   "source": [
    "[ <expr> for <name> in <iterable> ]\n",
    "[ <expr> for <name> in <iterable> if <condition> ]"
   ]
  },
  {
   "cell_type": "markdown",
   "id": "e88a9829",
   "metadata": {},
   "source": [
    "For example, here are some lists of squares:"
   ]
  },
  {
   "cell_type": "code",
   "execution_count": null,
   "id": "d04599c2",
   "metadata": {},
   "outputs": [
    {
     "data": {
      "text/plain": [
       "[1, 9, 49]"
      ]
     },
     "execution_count": 1,
     "metadata": {},
     "output_type": "execute_result"
    }
   ],
   "source": [
    "[ i^2 for i in [1, 3, 7] ]"
   ]
  },
  {
   "cell_type": "code",
   "execution_count": null,
   "id": "ef459009",
   "metadata": {},
   "outputs": [
    {
     "data": {
      "text/plain": [
       "[1, 4, 9, 16, 25, 36, 49, 64, 81]"
      ]
     },
     "execution_count": 1,
     "metadata": {},
     "output_type": "execute_result"
    }
   ],
   "source": [
    "[ i^2 for i in range(1,10) ]"
   ]
  },
  {
   "cell_type": "code",
   "execution_count": null,
   "id": "5e37fddd",
   "metadata": {},
   "outputs": [
    {
     "data": {
      "text/plain": [
       "[1, 9, 25, 49, 81]"
      ]
     },
     "execution_count": 1,
     "metadata": {},
     "output_type": "execute_result"
    }
   ],
   "source": [
    "[ i^2 for i in range(1,10) if i % 2 == 1]"
   ]
  },
  {
   "cell_type": "markdown",
   "id": "435ee00f",
   "metadata": {},
   "source": [
    "And a variant on the latter:"
   ]
  },
  {
   "cell_type": "code",
   "execution_count": null,
   "id": "5849edcb",
   "metadata": {},
   "outputs": [
    {
     "data": {
      "text/plain": [
       "[2, 1, 2, 9, 2, 25, 2, 49, 2, 81]"
      ]
     },
     "execution_count": 1,
     "metadata": {},
     "output_type": "execute_result"
    }
   ],
   "source": [
    "[i^2 if i % 2 == 1 else 2 for i in range(10)]"
   ]
  },
  {
   "cell_type": "markdown",
   "id": "7a54447f",
   "metadata": {},
   "source": [
    "**Exercises**\n",
    "\n",
    "1.  Construct the list of the squares of the prime integers between 1\n",
    "    and 10:"
   ]
  },
  {
   "cell_type": "code",
   "execution_count": null,
   "id": "1f5591d6",
   "metadata": {},
   "outputs": [],
   "source": [
    "    # edit here"
   ]
  },
  {
   "cell_type": "markdown",
   "id": "d4e9a2de",
   "metadata": {},
   "source": [
    "2.  Construct the list of the perfect squares less than 100 (hint: use\n",
    "    `srange` to get a list of Sage integers together with the method\n",
    "    `i.sqrtrem()`):"
   ]
  },
  {
   "cell_type": "code",
   "execution_count": null,
   "id": "1fe5e911",
   "metadata": {},
   "outputs": [],
   "source": [
    "    # edit here"
   ]
  },
  {
   "cell_type": "markdown",
   "id": "4bdd55ef",
   "metadata": {},
   "source": [
    "One can use more than one iterable in a list comprehension:"
   ]
  },
  {
   "cell_type": "code",
   "execution_count": null,
   "id": "3bc7e4e1",
   "metadata": {},
   "outputs": [
    {
     "data": {
      "text/plain": [
       "[(2, 1), (3, 1), (3, 2), (4, 1), (4, 2), (4, 3), (5, 1), (5, 2), (5, 3), (5, 4)]"
      ]
     },
     "execution_count": 1,
     "metadata": {},
     "output_type": "execute_result"
    }
   ],
   "source": [
    "[ (i,j) for i in range(1,6) for j in range(1,i) ]"
   ]
  },
  {
   "cell_type": "markdown",
   "id": "f1f2252b",
   "metadata": {},
   "source": [
    "Warning\n",
    "\n",
    "Mind the order of the nested loop in the previous expression.\n",
    "\n",
    "If instead one wants to build a list of lists, one can use nested lists\n",
    "as in:"
   ]
  },
  {
   "cell_type": "code",
   "execution_count": null,
   "id": "1e88c36d",
   "metadata": {},
   "outputs": [
    {
     "data": {
      "text/plain": [
       "[[1],\n",
       "[1, 1],\n",
       "[1, 2, 1],\n",
       "[1, 3, 3, 1],\n",
       "[1, 4, 6, 4, 1],\n",
       "[1, 5, 10, 10, 5, 1],\n",
       "[1, 6, 15, 20, 15, 6, 1],\n",
       "[1, 7, 21, 35, 35, 21, 7, 1],\n",
       "[1, 8, 28, 56, 70, 56, 28, 8, 1],\n",
       "[1, 9, 36, 84, 126, 126, 84, 36, 9, 1]]"
      ]
     },
     "execution_count": 1,
     "metadata": {},
     "output_type": "execute_result"
    }
   ],
   "source": [
    "[ [ binomial(n, i) for i in range(n+1) ] for n in range(10) ]"
   ]
  },
  {
   "cell_type": "markdown",
   "id": "aac1bdfd",
   "metadata": {},
   "source": [
    "**Exercises**\n",
    "\n",
    "1.  Compute the list of pairs $(i,j)$ of non negative integers such that\n",
    "    `i` is at most $5$, `j` is at most `8`, and `i` and `j` are\n",
    "    co-prime:"
   ]
  },
  {
   "cell_type": "code",
   "execution_count": null,
   "id": "172f34ac",
   "metadata": {},
   "outputs": [],
   "source": [
    "    # edit here"
   ]
  },
  {
   "cell_type": "markdown",
   "id": "bc448a9f",
   "metadata": {},
   "source": [
    "2.  Compute the same list for $i < j < 10$ :"
   ]
  },
  {
   "cell_type": "code",
   "execution_count": null,
   "id": "8c4affcb",
   "metadata": {},
   "outputs": [],
   "source": [
    "    # edit here"
   ]
  },
  {
   "cell_type": "markdown",
   "id": "269e9379",
   "metadata": {},
   "source": [
    "## Iterators\n",
    "\n",
    "### Definition\n",
    "\n",
    "To build a comprehension, Python actually uses an *iterator*. This is a\n",
    "device which runs through a bunch of objects, returning one at each call\n",
    "to the `next` method. Iterators are built using parentheses:"
   ]
  },
  {
   "cell_type": "code",
   "execution_count": null,
   "id": "dc77d123",
   "metadata": {},
   "outputs": [
    {
     "data": {
      "text/plain": [
       "1"
      ]
     },
     "execution_count": 1,
     "metadata": {},
     "output_type": "execute_result"
    }
   ],
   "source": [
    "it = (binomial(8, i) for i in range(9))\n",
    "next(it)"
   ]
  },
  {
   "cell_type": "code",
   "execution_count": null,
   "id": "fadebc45",
   "metadata": {},
   "outputs": [
    {
     "data": {
      "text/plain": [
       "8"
      ]
     },
     "execution_count": 1,
     "metadata": {},
     "output_type": "execute_result"
    }
   ],
   "source": [
    "next(it)"
   ]
  },
  {
   "cell_type": "code",
   "execution_count": null,
   "id": "fa025903",
   "metadata": {},
   "outputs": [
    {
     "data": {
      "text/plain": [
       "28"
      ]
     },
     "execution_count": 1,
     "metadata": {},
     "output_type": "execute_result"
    }
   ],
   "source": [
    "next(it)"
   ]
  },
  {
   "cell_type": "code",
   "execution_count": null,
   "id": "d055056c",
   "metadata": {},
   "outputs": [
    {
     "data": {
      "text/plain": [
       "56"
      ]
     },
     "execution_count": 1,
     "metadata": {},
     "output_type": "execute_result"
    }
   ],
   "source": [
    "next(it)"
   ]
  },
  {
   "cell_type": "markdown",
   "id": "e5001b9a",
   "metadata": {},
   "source": [
    "You can get the list of the results that are not yet *consumed*:"
   ]
  },
  {
   "cell_type": "code",
   "execution_count": null,
   "id": "0f90a428",
   "metadata": {},
   "outputs": [
    {
     "data": {
      "text/plain": [
       "[70, 56, 28, 8, 1]"
      ]
     },
     "execution_count": 1,
     "metadata": {},
     "output_type": "execute_result"
    }
   ],
   "source": [
    "list(it)"
   ]
  },
  {
   "cell_type": "markdown",
   "id": "132f69e5",
   "metadata": {},
   "source": [
    "Asking for more elements triggers a `StopIteration` exception:"
   ]
  },
  {
   "cell_type": "code",
   "execution_count": null,
   "id": "d2e32acf",
   "metadata": {},
   "outputs": [
    {
     "data": {
      "text/plain": [
       "Traceback (most recent call last):\n",
       "...\n",
       "StopIteration"
      ]
     },
     "execution_count": 1,
     "metadata": {},
     "output_type": "execute_result"
    }
   ],
   "source": [
    "next(it)"
   ]
  },
  {
   "cell_type": "markdown",
   "id": "da3171e8",
   "metadata": {},
   "source": [
    "An iterator can be used as argument for a function. The two following\n",
    "idioms give the same results; however, the second idiom is much more\n",
    "memory efficient (for large examples) as it does not expand any list in\n",
    "memory:"
   ]
  },
  {
   "cell_type": "code",
   "execution_count": null,
   "id": "02dd21bb",
   "metadata": {},
   "outputs": [
    {
     "data": {
      "text/plain": [
       "256"
      ]
     },
     "execution_count": 1,
     "metadata": {},
     "output_type": "execute_result"
    }
   ],
   "source": [
    "sum([binomial(8, i) for i in range(9)])"
   ]
  },
  {
   "cell_type": "code",
   "execution_count": null,
   "id": "75a9a54a",
   "metadata": {},
   "outputs": [
    {
     "data": {
      "text/plain": [
       "256"
      ]
     },
     "execution_count": 1,
     "metadata": {},
     "output_type": "execute_result"
    }
   ],
   "source": [
    "sum(binomial(8, i) for i in range(9))"
   ]
  },
  {
   "cell_type": "markdown",
   "id": "f5de2a22",
   "metadata": {},
   "source": [
    "**Exercises**\n",
    "\n",
    "1.  Compute the sum of $\\binom{10}{i}$ for all even $i$ :"
   ]
  },
  {
   "cell_type": "code",
   "execution_count": null,
   "id": "979a6cfd",
   "metadata": {},
   "outputs": [],
   "source": [
    "    # edit here"
   ]
  },
  {
   "cell_type": "markdown",
   "id": "ef6b6b0d",
   "metadata": {},
   "source": [
    "2.  Compute the sum of the products of all pairs of co-prime numbers\n",
    "    $i, j$ for $i<j<10$ :"
   ]
  },
  {
   "cell_type": "code",
   "execution_count": null,
   "id": "199246bd",
   "metadata": {},
   "outputs": [],
   "source": [
    "    # edit here"
   ]
  },
  {
   "cell_type": "markdown",
   "id": "8324ab56",
   "metadata": {},
   "source": [
    "### Typical usage of iterators\n",
    "\n",
    "Iterators are very handy with the functions `all`, `any`, and `exists` :"
   ]
  },
  {
   "cell_type": "code",
   "execution_count": null,
   "id": "aefe8047",
   "metadata": {},
   "outputs": [
    {
     "data": {
      "text/plain": [
       "True"
      ]
     },
     "execution_count": 1,
     "metadata": {},
     "output_type": "execute_result"
    }
   ],
   "source": [
    "all([True, True, True, True])"
   ]
  },
  {
   "cell_type": "code",
   "execution_count": null,
   "id": "7135df4b",
   "metadata": {},
   "outputs": [
    {
     "data": {
      "text/plain": [
       "False"
      ]
     },
     "execution_count": 1,
     "metadata": {},
     "output_type": "execute_result"
    }
   ],
   "source": [
    "all([True, False, True, True])"
   ]
  },
  {
   "cell_type": "code",
   "execution_count": null,
   "id": "ebf02ce4",
   "metadata": {},
   "outputs": [
    {
     "data": {
      "text/plain": [
       "False"
      ]
     },
     "execution_count": 1,
     "metadata": {},
     "output_type": "execute_result"
    }
   ],
   "source": [
    "any([False, False, False, False])"
   ]
  },
  {
   "cell_type": "code",
   "execution_count": null,
   "id": "3e1e5168",
   "metadata": {},
   "outputs": [
    {
     "data": {
      "text/plain": [
       "True"
      ]
     },
     "execution_count": 1,
     "metadata": {},
     "output_type": "execute_result"
    }
   ],
   "source": [
    "any([False, False, True, False])"
   ]
  },
  {
   "cell_type": "markdown",
   "id": "63bc10e4",
   "metadata": {},
   "source": [
    "Let's check that all the prime numbers larger than 2 are odd:"
   ]
  },
  {
   "cell_type": "code",
   "execution_count": null,
   "id": "217f82c1",
   "metadata": {},
   "outputs": [
    {
     "data": {
      "text/plain": [
       "True"
      ]
     },
     "execution_count": 1,
     "metadata": {},
     "output_type": "execute_result"
    }
   ],
   "source": [
    "all( is_odd(p) for p in range(1,100) if is_prime(p) and p>2 )"
   ]
  },
  {
   "cell_type": "markdown",
   "id": "31aac2b6",
   "metadata": {},
   "source": [
    "It is well know that if `2^p-1` is prime then `p` is prime:"
   ]
  },
  {
   "cell_type": "code",
   "execution_count": null,
   "id": "e7727212",
   "metadata": {},
   "outputs": [
    {
     "data": {
      "text/plain": [
       "[True, True, True, True, True, True, True]"
      ]
     },
     "execution_count": 1,
     "metadata": {},
     "output_type": "execute_result"
    }
   ],
   "source": [
    "def mersenne(p): return 2^p -1\n",
    "[ is_prime(p) for p in range(20) if is_prime(mersenne(p)) ]"
   ]
  },
  {
   "cell_type": "markdown",
   "id": "30afb0d6",
   "metadata": {},
   "source": [
    "The converse is not true:"
   ]
  },
  {
   "cell_type": "code",
   "execution_count": null,
   "id": "f6ac5fec",
   "metadata": {},
   "outputs": [
    {
     "data": {
      "text/plain": [
       "False"
      ]
     },
     "execution_count": 1,
     "metadata": {},
     "output_type": "execute_result"
    }
   ],
   "source": [
    "all( is_prime(mersenne(p)) for p in range(1000) if is_prime(p) )"
   ]
  },
  {
   "cell_type": "markdown",
   "id": "108ebf55",
   "metadata": {},
   "source": [
    "Using a list would be much slower here:"
   ]
  },
  {
   "cell_type": "code",
   "execution_count": null,
   "id": "bc2b814f",
   "metadata": {},
   "outputs": [
    {
     "data": {
      "text/plain": [
       "CPU times: user 0.00 s, sys: 0.00 s, total: 0.00 s\n",
       "Wall time: 0.00 s\n",
       "False"
      ]
     },
     "execution_count": 1,
     "metadata": {},
     "output_type": "execute_result"
    }
   ],
   "source": [
    "%time all( is_prime(mersenne(p)) for p in range(1000) if is_prime(p) )    # not tested"
   ]
  },
  {
   "cell_type": "code",
   "execution_count": null,
   "id": "cedfdc4f",
   "metadata": {},
   "outputs": [
    {
     "data": {
      "text/plain": [
       "CPU times: user 0.72 s, sys: 0.00 s, total: 0.73 s\n",
       "Wall time: 0.73 s\n",
       "False"
      ]
     },
     "execution_count": 1,
     "metadata": {},
     "output_type": "execute_result"
    }
   ],
   "source": [
    "%time all( [ is_prime(mersenne(p)) for p in range(1000) if is_prime(p)] ) # not tested"
   ]
  },
  {
   "cell_type": "markdown",
   "id": "98d2752c",
   "metadata": {},
   "source": [
    "You can get the counterexample using `exists`. It takes two arguments:\n",
    "an iterator and a function which tests the property that should hold:"
   ]
  },
  {
   "cell_type": "code",
   "execution_count": null,
   "id": "c590ecaa",
   "metadata": {},
   "outputs": [
    {
     "data": {
      "text/plain": [
       "(True, 11)"
      ]
     },
     "execution_count": 1,
     "metadata": {},
     "output_type": "execute_result"
    }
   ],
   "source": [
    "exists( (p for p in range(1000) if is_prime(p)), lambda p: not is_prime(mersenne(p)) )"
   ]
  },
  {
   "cell_type": "markdown",
   "id": "02bf26c5",
   "metadata": {},
   "source": [
    "An alternative way to achieve this is:"
   ]
  },
  {
   "cell_type": "code",
   "execution_count": null,
   "id": "bef7fdd6",
   "metadata": {},
   "outputs": [
    {
     "data": {
      "text/plain": [
       "11"
      ]
     },
     "execution_count": 1,
     "metadata": {},
     "output_type": "execute_result"
    }
   ],
   "source": [
    "counter_examples = (p for p in range(1000) if is_prime(p) and not is_prime(mersenne(p)))\n",
    "next(counter_examples)"
   ]
  },
  {
   "cell_type": "markdown",
   "id": "42b22c37",
   "metadata": {},
   "source": [
    "**Exercises**\n",
    "\n",
    "1.  Build the list $\\{i^3 \\mid -10<i<10\\}$. Can you find two of those\n",
    "    cubes $u$ and $v$ such that $u + v = 218$?"
   ]
  },
  {
   "cell_type": "code",
   "execution_count": null,
   "id": "06653343",
   "metadata": {},
   "outputs": [],
   "source": [
    "    # edit here"
   ]
  },
  {
   "cell_type": "markdown",
   "id": "63cc9a65",
   "metadata": {},
   "source": [
    "### itertools\n",
    "\n",
    "At its name suggests `itertools` is a module which defines several handy\n",
    "tools for manipulating iterators:"
   ]
  },
  {
   "cell_type": "code",
   "execution_count": null,
   "id": "a82fd368",
   "metadata": {},
   "outputs": [
    {
     "data": {
      "text/plain": [
       "[(0, 3), (1, 234), (2, 12), (3, 53), (4, 23)]"
      ]
     },
     "execution_count": 1,
     "metadata": {},
     "output_type": "execute_result"
    }
   ],
   "source": [
    "l = [3, 234, 12, 53, 23]\n",
    "[(i, l[i]) for i in range(len(l))]"
   ]
  },
  {
   "cell_type": "markdown",
   "id": "cbfbf637",
   "metadata": {},
   "source": [
    "The same results can be obtained using `enumerate` :"
   ]
  },
  {
   "cell_type": "code",
   "execution_count": null,
   "id": "e637c6c9",
   "metadata": {},
   "outputs": [
    {
     "data": {
      "text/plain": [
       "[(0, 3), (1, 234), (2, 12), (3, 53), (4, 23)]"
      ]
     },
     "execution_count": 1,
     "metadata": {},
     "output_type": "execute_result"
    }
   ],
   "source": [
    "list(enumerate(l))"
   ]
  },
  {
   "cell_type": "markdown",
   "id": "c5f726bc",
   "metadata": {},
   "source": [
    "Here is the analogue of list slicing:"
   ]
  },
  {
   "cell_type": "code",
   "execution_count": null,
   "id": "f32c9e8b",
   "metadata": {},
   "outputs": [
    {
     "data": {
      "text/plain": [
       "[[1, 2, 3], [1, 3, 2], [2, 1, 3], [2, 3, 1], [3, 1, 2], [3, 2, 1]]"
      ]
     },
     "execution_count": 1,
     "metadata": {},
     "output_type": "execute_result"
    }
   ],
   "source": [
    "list(Permutations(3))"
   ]
  },
  {
   "cell_type": "code",
   "execution_count": null,
   "id": "bca9a44d",
   "metadata": {},
   "outputs": [
    {
     "data": {
      "text/plain": [
       "[[1, 3, 2], [2, 1, 3], [2, 3, 1]]\n"
      ]
     },
     "execution_count": 1,
     "metadata": {},
     "output_type": "execute_result"
    }
   ],
   "source": [
    "list(Permutations(3))[1:4]"
   ]
  },
  {
   "cell_type": "code",
   "execution_count": null,
   "id": "8fc4bd0d",
   "metadata": {},
   "outputs": [
    {
     "data": {
      "text/plain": [
       "[[1, 3, 2], [2, 1, 3], [2, 3, 1]]"
      ]
     },
     "execution_count": 1,
     "metadata": {},
     "output_type": "execute_result"
    }
   ],
   "source": [
    "import itertools\n",
    "list(itertools.islice(Permutations(3), 1r, 4r))"
   ]
  },
  {
   "cell_type": "markdown",
   "id": "08ca2e88",
   "metadata": {},
   "source": [
    "Note that all calls to `islice` must have arguments of type `int` and\n",
    "not Sage integers.\n",
    "\n",
    "The behaviour of the functions `map` and `filter` has changed between\n",
    "Python 2 and Python 3. In Python 3, they return an iterator. If you want\n",
    "to return a list like in Python 2 you need to explicitly wrap them in\n",
    "`list` :"
   ]
  },
  {
   "cell_type": "code",
   "execution_count": null,
   "id": "897e091c",
   "metadata": {},
   "outputs": [
    {
     "data": {
      "text/plain": [
       "[[1, 1, 1], [2, 1], [2, 1], [3], [3], [2, 1]]\n"
      ]
     },
     "execution_count": 1,
     "metadata": {},
     "output_type": "execute_result"
    }
   ],
   "source": [
    "list(map(lambda z: z.cycle_type(), Permutations(3)))"
   ]
  },
  {
   "cell_type": "code",
   "execution_count": null,
   "id": "e65e14df",
   "metadata": {},
   "outputs": [
    {
     "data": {
      "text/plain": [
       "[[1, 2, 3], [1, 3, 2], [2, 1, 3], [2, 3, 1], [3, 1, 2]]"
      ]
     },
     "execution_count": 1,
     "metadata": {},
     "output_type": "execute_result"
    }
   ],
   "source": [
    "list(filter(lambda z: z.has_pattern([1,2]), Permutations(3)))"
   ]
  },
  {
   "cell_type": "markdown",
   "id": "84ee60bd",
   "metadata": {},
   "source": [
    "**Exercises**\n",
    "\n",
    "1.  Define an iterator for the $i$-th prime for $5<i<10$ :"
   ]
  },
  {
   "cell_type": "code",
   "execution_count": null,
   "id": "c20285ef",
   "metadata": {},
   "outputs": [],
   "source": [
    "    # edit here"
   ]
  },
  {
   "cell_type": "markdown",
   "id": "8ad6a222",
   "metadata": {},
   "source": [
    "### Defining new iterators\n",
    "\n",
    "One can very easily write new iterators using the keyword `yield`. The\n",
    "following function does nothing interesting beyond demonstrating the use\n",
    "of `yield` :"
   ]
  },
  {
   "cell_type": "code",
   "execution_count": null,
   "id": "9c6eb987",
   "metadata": {},
   "outputs": [
    {
     "data": {
      "text/plain": [
       "[0, 1, 2, 3, 4]"
      ]
     },
     "execution_count": 1,
     "metadata": {},
     "output_type": "execute_result"
    }
   ],
   "source": [
    "def f(n):\n",
    "  for i in range(n):\n",
    "      yield i\n",
    "[ u for u in f(5) ]"
   ]
  },
  {
   "cell_type": "markdown",
   "id": "ffc8ef38",
   "metadata": {},
   "source": [
    "Iterators can be recursive:"
   ]
  },
  {
   "cell_type": "code",
   "execution_count": null,
   "id": "fb155830",
   "metadata": {},
   "outputs": [],
   "source": [
    "def words(alphabet,l):\n",
    "   if l == 0:\n",
    "       yield []\n",
    "   else:\n",
    "       for word in words(alphabet, l-1):\n",
    "           for a in alphabet:\n",
    "               yield word + [a]"
   ]
  },
  {
   "cell_type": "code",
   "execution_count": null,
   "id": "a927686b",
   "metadata": {},
   "outputs": [
    {
     "data": {
      "text/plain": [
       "[['a', 'a', 'a'], ['a', 'a', 'b'], ['a', 'a', 'c'], ['a', 'b', 'a'], ['a', 'b', 'b'], ['a', 'b', 'c'], ['a', 'c', 'a'], ['a', 'c', 'b'], ['a', 'c', 'c'], ['b', 'a', 'a'], ['b', 'a', 'b'], ['b', 'a', 'c'], ['b', 'b', 'a'], ['b', 'b', 'b'], ['b', 'b', 'c'], ['b', 'c', 'a'], ['b', 'c', 'b'], ['b', 'c', 'c'], ['c', 'a', 'a'], ['c', 'a', 'b'], ['c', 'a', 'c'], ['c', 'b', 'a'], ['c', 'b', 'b'], ['c', 'b', 'c'], ['c', 'c', 'a'], ['c', 'c', 'b'], ['c', 'c', 'c']]"
      ]
     },
     "execution_count": 1,
     "metadata": {},
     "output_type": "execute_result"
    }
   ],
   "source": [
    "[ w for w in words(['a','b','c'], 3) ]"
   ]
  },
  {
   "cell_type": "code",
   "execution_count": null,
   "id": "c2a71bb6",
   "metadata": {},
   "outputs": [
    {
     "data": {
      "text/plain": [
       "27"
      ]
     },
     "execution_count": 1,
     "metadata": {},
     "output_type": "execute_result"
    }
   ],
   "source": [
    "sum(1 for w in words(['a','b','c'], 3))"
   ]
  },
  {
   "cell_type": "markdown",
   "id": "aa5ee2df",
   "metadata": {},
   "source": [
    "Here is another recursive iterator:"
   ]
  },
  {
   "cell_type": "code",
   "execution_count": null,
   "id": "1c4e409c",
   "metadata": {},
   "outputs": [],
   "source": [
    "def dyck_words(l):\n",
    "    if l==0:\n",
    "        yield ''\n",
    "    else:\n",
    "        for k in range(l):\n",
    "            for w1 in dyck_words(k):\n",
    "                for w2 in dyck_words(l-k-1):\n",
    "                    yield '('+w1+')'+w2"
   ]
  },
  {
   "cell_type": "code",
   "execution_count": null,
   "id": "4aecbbe3",
   "metadata": {},
   "outputs": [
    {
     "data": {
      "text/plain": [
       "['()()()()',\n",
       "'()()(())',\n",
       "'()(())()',\n",
       "'()(()())',\n",
       "'()((()))',\n",
       "'(())()()',\n",
       "'(())(())',\n",
       "'(()())()',\n",
       "'((()))()',\n",
       "'(()()())',\n",
       "'(()(()))',\n",
       "'((())())',\n",
       "'((()()))',\n",
       "'(((())))']\n"
      ]
     },
     "execution_count": 1,
     "metadata": {},
     "output_type": "execute_result"
    }
   ],
   "source": [
    "list(dyck_words(4))"
   ]
  },
  {
   "cell_type": "code",
   "execution_count": null,
   "id": "85a46936",
   "metadata": {},
   "outputs": [
    {
     "data": {
      "text/plain": [
       "42"
      ]
     },
     "execution_count": 1,
     "metadata": {},
     "output_type": "execute_result"
    }
   ],
   "source": [
    "sum(1 for w in dyck_words(5))"
   ]
  },
  {
   "cell_type": "markdown",
   "id": "11a0b31c",
   "metadata": {},
   "source": [
    "**Exercises**\n",
    "\n",
    "1.  Write an iterator with two parameters $n$, $l$ iterating through the\n",
    "    set of nondecreasing lists of integers smaller than $n$ of length\n",
    "    $l$ :"
   ]
  },
  {
   "cell_type": "code",
   "execution_count": null,
   "id": "b54e5119",
   "metadata": {},
   "outputs": [],
   "source": [
    "    # edit here"
   ]
  },
  {
   "cell_type": "markdown",
   "id": "e8fa5021",
   "metadata": {},
   "source": [
    "## Standard Iterables\n",
    "\n",
    "Finally, many standard Python and Sage objects are *iterable*; that is\n",
    "one may iterate through their elements:"
   ]
  },
  {
   "cell_type": "code",
   "execution_count": null,
   "id": "68f569fb",
   "metadata": {},
   "outputs": [
    {
     "data": {
      "text/plain": [
       "x^8 + 8*x^7 + 28*x^6 + 56*x^5 + 70*x^4 + 56*x^3 + 28*x^2 + 8*x + 1\n"
      ]
     },
     "execution_count": 1,
     "metadata": {},
     "output_type": "execute_result"
    }
   ],
   "source": [
    "sum( x^len(s) for s in Subsets(8) )"
   ]
  },
  {
   "cell_type": "code",
   "execution_count": null,
   "id": "b8f3bfa1",
   "metadata": {},
   "outputs": [
    {
     "data": {
      "text/plain": [
       "x^3 + 2*x^2 + 2*x + 1\n"
      ]
     },
     "execution_count": 1,
     "metadata": {},
     "output_type": "execute_result"
    }
   ],
   "source": [
    "sum( x^p.length() for p in Permutations(3) )"
   ]
  },
  {
   "cell_type": "code",
   "execution_count": null,
   "id": "d0513c65",
   "metadata": {},
   "outputs": [
    {
     "data": {
      "text/plain": [
       "(x^2 + x + 1)*(x + 1)\n"
      ]
     },
     "execution_count": 1,
     "metadata": {},
     "output_type": "execute_result"
    }
   ],
   "source": [
    "factor(sum( x^p.length() for p in Permutations(3) ))"
   ]
  },
  {
   "cell_type": "code",
   "execution_count": null,
   "id": "88400e4a",
   "metadata": {},
   "outputs": [
    {
     "data": {
      "text/plain": [
       "True\n"
      ]
     },
     "execution_count": 1,
     "metadata": {},
     "output_type": "execute_result"
    }
   ],
   "source": [
    "P = Permutations(5)\n",
    "all( p in P for p in P )"
   ]
  },
  {
   "cell_type": "code",
   "execution_count": null,
   "id": "923a16ac",
   "metadata": {},
   "outputs": [
    {
     "data": {
      "text/plain": [
       "[1 0]\n",
       "[0 1]\n",
       "<BLANKLINE>\n",
       "[0 1]\n",
       "[1 0]\n",
       "<BLANKLINE>\n",
       "[0 1]\n",
       "[1 1]\n",
       "<BLANKLINE>\n",
       "[1 1]\n",
       "[0 1]\n",
       "<BLANKLINE>\n",
       "[1 1]\n",
       "[1 0]\n",
       "<BLANKLINE>\n",
       "[1 0]\n",
       "[1 1]\n",
       "<BLANKLINE>\n"
      ]
     },
     "execution_count": 1,
     "metadata": {},
     "output_type": "execute_result"
    }
   ],
   "source": [
    "for p in GL(2, 2): print(p); print(\"\")"
   ]
  },
  {
   "cell_type": "code",
   "execution_count": null,
   "id": "66c72d17",
   "metadata": {},
   "outputs": [
    {
     "data": {
      "text/plain": [
       "[3]\n",
       "[2, 1]\n",
       "[1, 1, 1]"
      ]
     },
     "execution_count": 1,
     "metadata": {},
     "output_type": "execute_result"
    }
   ],
   "source": [
    "for p in Partitions(3): print(p)"
   ]
  },
  {
   "cell_type": "markdown",
   "id": "3a0edc5d",
   "metadata": {},
   "source": [
    "Beware of infinite loops:"
   ]
  },
  {
   "cell_type": "code",
   "execution_count": null,
   "id": "8d191aaa",
   "metadata": {},
   "outputs": [],
   "source": [
    "for p in Partitions(): print(p)          # not tested"
   ]
  },
  {
   "cell_type": "code",
   "execution_count": null,
   "id": "a5f9d6fb",
   "metadata": {},
   "outputs": [],
   "source": [
    "for p in Primes(): print(p)              # not tested"
   ]
  },
  {
   "cell_type": "markdown",
   "id": "97eb098e",
   "metadata": {},
   "source": [
    "Infinite loops can nevertheless be very useful:"
   ]
  },
  {
   "cell_type": "code",
   "execution_count": null,
   "id": "55fabc76",
   "metadata": {},
   "outputs": [
    {
     "data": {
      "text/plain": [
       "(True, 11)\n",
       "\n"
      ]
     },
     "execution_count": 1,
     "metadata": {},
     "output_type": "execute_result"
    }
   ],
   "source": [
    "exists( Primes(), lambda p: not is_prime(mersenne(p)) )"
   ]
  },
  {
   "cell_type": "code",
   "execution_count": null,
   "id": "90bbe9bd",
   "metadata": {},
   "outputs": [
    {
     "data": {
      "text/plain": [
       "11"
      ]
     },
     "execution_count": 1,
     "metadata": {},
     "output_type": "execute_result"
    }
   ],
   "source": [
    "counter_examples = (p for p in Primes() if not is_prime(mersenne(p)))\n",
    "next(counter_examples)"
   ]
  }
 ],
 "metadata": {},
 "nbformat": 4,
 "nbformat_minor": 5
}
