{
 "cells": [
  {
   "cell_type": "markdown",
   "id": "b6691a9a-14f5-4ea1-a78e-dff9b99124ea",
   "metadata": {},
   "source": [
    "# Simple Demo of KubeVaspInteractive\n",
    "This tutorial shows how to setup pod deployment with same FileSystem mounting to be used for KubeVaspInteractive\n",
    "\n",
    "First, check if volume mounting is enabled in current pod"
   ]
  },
  {
   "cell_type": "code",
   "execution_count": 1,
   "id": "72f4576d-8895-4f7c-b81b-0aa0608405c7",
   "metadata": {},
   "outputs": [
    {
     "name": "stdout",
     "output_type": "stream",
     "text": [
      "    terminationMessagePolicy: File\n",
      "    volumeMounts:\n",
      "    - mountPath: /home/jovyan/shared-datasets/\n",
      "      name: shared-datasets\n",
      "    - mountPath: /home/jovyan/shared-scratch/\n",
      "      name: shared-scratch\n",
      "    - mountPath: /home/jovyan/data\n",
      "      name: data\n",
      "    - mountPath: /dev/shm\n",
      "      name: dshm\n",
      "    - mountPath: /var/run/secrets/kubernetes.io/serviceaccount\n",
      "      name: default-editor-token-lqr8h\n",
      "      readOnly: true\n"
     ]
    }
   ],
   "source": [
    "%%bash\n",
    "kubectl get pod $HOSTNAME -o yaml | grep \"mountPath\" -2"
   ]
  },
  {
   "cell_type": "markdown",
   "id": "8a862656-4428-4627-bf84-9ae86a933c01",
   "metadata": {},
   "source": [
    "Let's use `/home/jovyan/data` as the shared volume mount between local and remote pods."
   ]
  },
  {
   "cell_type": "markdown",
   "id": "46512516-158c-4a5d-a32c-6b75aa14819b",
   "metadata": {},
   "source": [
    "### Create pods with similar specs as local pod\n",
    "`vasp_interactive.kubernetes` provides several helper functions to deploy a \"similar pod\""
   ]
  },
  {
   "cell_type": "code",
   "execution_count": 2,
   "id": "f0390dd9-4547-42ce-a585-02804131d9d2",
   "metadata": {},
   "outputs": [],
   "source": [
    "from vasp_interactive.kubernetes import KubeVaspInteractive, create_kube_pods"
   ]
  },
  {
   "cell_type": "markdown",
   "id": "eb260617-0996-408c-ab91-9b2b0f4861de",
   "metadata": {},
   "source": [
    "`create_kube_pods` parses the current pod specs and generate a KubeCluster for scheduling and scaling (can also be achieved via native scalable deployment!)\n",
    "\n",
    "It takes the resoures and waits for pods to be ready.\n",
    "\n",
    "Let's first deploy 2 pods. Check the status of deployment at:\n",
    "\n",
    "https://laikapack-controller.cheme.cmu.edu/p/c-qc7lr:p-cl5h6/workloads"
   ]
  },
  {
   "cell_type": "code",
   "execution_count": 3,
   "id": "9005c457-4cb1-426f-9bbb-7faa10fb9288",
   "metadata": {},
   "outputs": [
    {
     "name": "stdout",
     "output_type": "stream",
     "text": [
      "Creating scheduler pod on cluster. This may take some time.\n"
     ]
    }
   ],
   "source": [
    "cluster, worker_pods = create_kube_pods(scale=2, cpu=8, memory=\"4Gi\")"
   ]
  },
  {
   "cell_type": "code",
   "execution_count": 4,
   "id": "e1748390-60a5-4ab9-86aa-a57fd46f5f23",
   "metadata": {},
   "outputs": [
    {
     "data": {
      "text/plain": [
       "{0: {'name': 'dask-jovyan-9e842064-evwh69', 'namespace': 'alchem0x2a'},\n",
       " 1: {'name': 'dask-jovyan-9e842064-elfs4l', 'namespace': 'alchem0x2a'}}"
      ]
     },
     "execution_count": 4,
     "metadata": {},
     "output_type": "execute_result"
    }
   ],
   "source": [
    "worker_pods"
   ]
  },
  {
   "cell_type": "markdown",
   "id": "2965bc5e-9845-428d-99b6-fc1f2cbe91ab",
   "metadata": {},
   "source": [
    "### Run isolated VASP process\n",
    "`KubeVaspInteractive` just need to take the name and namespace for the pod to inject `kubectl exec` commands. "
   ]
  },
  {
   "cell_type": "code",
   "execution_count": 5,
   "id": "473c1a0f-951d-4338-89a2-9f63223d1a3a",
   "metadata": {},
   "outputs": [],
   "source": [
    "%mkdir -p /home/jovyan/data/kube-vpi-test"
   ]
  },
  {
   "cell_type": "code",
   "execution_count": 6,
   "id": "329f7e87-ae5b-4f8f-9402-e6c9d0bb656b",
   "metadata": {},
   "outputs": [],
   "source": [
    "%rm -rf /home/jovyan/data/kube-vpi-test/*"
   ]
  },
  {
   "cell_type": "code",
   "execution_count": 7,
   "id": "d3abfd59-7161-47bc-8fd0-a0514d5be589",
   "metadata": {},
   "outputs": [],
   "source": [
    "from ase.build import molecule\n",
    "mol = molecule(\"CH4\", vacuum=5, pbc=True)\n",
    "vasp_params = dict(xc=\"pbe\", kpts=1, encut=350, istart=0)\n",
    "calc = KubeVaspInteractive(directory=\"/home/jovyan/data/kube-vpi-test\", pod=worker_pods[0], **vasp_params)"
   ]
  },
  {
   "cell_type": "markdown",
   "id": "52737121-8000-4f75-9fad-747aeef4294f",
   "metadata": {},
   "source": [
    "`calc._args` are the arguments the calculator uses for communication. It essentially `kubectl exec` into the pod, change the directory and run VASP there"
   ]
  },
  {
   "cell_type": "code",
   "execution_count": 8,
   "id": "4fcd7e41-3222-4648-bf38-f594db2ea3e6",
   "metadata": {},
   "outputs": [
    {
     "data": {
      "text/plain": [
       "['kubectl',\n",
       " 'exec',\n",
       " '-i',\n",
       " 'dask-jovyan-9e842064-evwh69',\n",
       " '--namespace=alchem0x2a',\n",
       " '--',\n",
       " 'bash',\n",
       " '-c',\n",
       " 'cd /home/jovyan/data/kube-vpi-test && $VASP_COMMAND']"
      ]
     },
     "execution_count": 8,
     "metadata": {},
     "output_type": "execute_result"
    }
   ],
   "source": [
    "calc._args"
   ]
  },
  {
   "cell_type": "markdown",
   "id": "296fbe54-0ccd-4376-ae5a-7568611069ce",
   "metadata": {},
   "source": [
    "Let's use classic mode to see where VASP is running"
   ]
  },
  {
   "cell_type": "code",
   "execution_count": 9,
   "id": "45fd613b-345f-4a2e-ae12-9e9077de503b",
   "metadata": {},
   "outputs": [
    {
     "data": {
      "text/plain": [
       "-23.97373868"
      ]
     },
     "execution_count": 9,
     "metadata": {},
     "output_type": "execute_result"
    }
   ],
   "source": [
    "mol.calc = calc\n",
    "mol.get_potential_energy()"
   ]
  },
  {
   "cell_type": "markdown",
   "id": "feae7086-9cc2-488e-a1c1-c50f9043e8ce",
   "metadata": {},
   "source": [
    "Now run `top` command in both local terminal and pod `dask-jovyan-c6f5a345-66c2ds`"
   ]
  },
  {
   "cell_type": "markdown",
   "id": "18fc072b-f2fe-4e05-91ab-b571a7e7baa8",
   "metadata": {},
   "source": [
    "One advantage of process isolation is killing the pods also releases any processes associated with them."
   ]
  },
  {
   "cell_type": "code",
   "execution_count": 10,
   "id": "c3e9b1e9-57e6-4552-b025-caf22f5df04a",
   "metadata": {},
   "outputs": [],
   "source": [
    "cluster.close()"
   ]
  },
  {
   "cell_type": "code",
   "execution_count": 11,
   "id": "1e4af7f7-e215-45e5-8686-ab9f71f66b95",
   "metadata": {},
   "outputs": [],
   "source": [
    "# The communication is down\n",
    "calc.process.poll()"
   ]
  },
  {
   "cell_type": "markdown",
   "id": "9f7247d2-1d3c-4faa-8601-2c1b099c5e82",
   "metadata": {},
   "source": [
    "Note currently after pod is deleted / stopped, you need to create the calculator again for further calculations."
   ]
  },
  {
   "cell_type": "markdown",
   "id": "af33b97a-7214-4c13-8264-e0da09ed9ee6",
   "metadata": {},
   "source": [
    "### Simple pod synchronization\n",
    "One advantage of process isolation is that running calculations in parallel is feasible. \n",
    "To do this, we need to use some sort of concurrency for the processes on local pod. One possibility is to use threading"
   ]
  },
  {
   "cell_type": "code",
   "execution_count": 12,
   "id": "f867ff4e-6547-4b07-9c4b-95179a2a395e",
   "metadata": {},
   "outputs": [],
   "source": [
    "from pathlib import Path\n",
    "import time\n",
    "mol1 = molecule(\"CH4\", vacuum=5, pbc=True)\n",
    "mol2 = mol1.copy()\n",
    "mol2.rattle(stdev=0.1)\n",
    "vasp_params = dict(xc=\"pbe\", kpts=1, encut=350, istart=0)\n",
    "\n",
    "root = Path(\"/home/jovyan/data/scratch\")"
   ]
  },
  {
   "cell_type": "code",
   "execution_count": 13,
   "id": "8d68fdf9-80a4-4ec7-91bf-45078f2f2df0",
   "metadata": {},
   "outputs": [
    {
     "name": "stdout",
     "output_type": "stream",
     "text": [
      "Creating scheduler pod on cluster. This may take some time.\n"
     ]
    }
   ],
   "source": [
    "cluster, worker_pods = create_kube_pods(scale=2, cpu=8, memory=\"2Gi\")\n",
    "image = cluster.workers[0]._pod.spec.containers[0].image\n",
    "\n",
    "# calculation part\n",
    "calc1 = KubeVaspInteractive(\n",
    "        directory=root / \"kube-vpi-test1\", pod=worker_pods[0], **vasp_params\n",
    "        )\n",
    "calc2 = KubeVaspInteractive(\n",
    "        directory=root / \"kube-vpi-test2\", pod=worker_pods[1], **vasp_params\n",
    "        )"
   ]
  },
  {
   "cell_type": "markdown",
   "id": "f5f489d6-0436-486e-989d-130474ad7e22",
   "metadata": {},
   "source": [
    "Following part is running serial code"
   ]
  },
  {
   "cell_type": "code",
   "execution_count": 14,
   "id": "8541fd5c-dca8-4a18-8131-dd6080abf56b",
   "metadata": {},
   "outputs": [
    {
     "name": "stdout",
     "output_type": "stream",
     "text": [
      "Serial mode:\n",
      "-23.97373868 -22.82732759\n",
      "Walltime for 2 sp calculations: 29.342208907939494\n"
     ]
    }
   ],
   "source": [
    "# Serial\n",
    "with calc1, calc2:\n",
    "    mol1.calc = calc1\n",
    "    mol2.calc = calc2\n",
    "    t_ = time.perf_counter()\n",
    "    e1 = mol1.get_potential_energy()\n",
    "    e2 = mol2.get_potential_energy()\n",
    "    print(\"Serial mode:\")\n",
    "    print(e1, e2)\n",
    "    print(f\"Walltime for 2 sp calculations: {time.perf_counter() - t_}\")"
   ]
  },
  {
   "cell_type": "markdown",
   "id": "5bdb1c5f-fbd8-41e6-8ae0-7de8adbe162d",
   "metadata": {},
   "source": [
    "Let's now use threading to contain the processes. Note the function to be passed to threading must have mutable objects to store data."
   ]
  },
  {
   "cell_type": "code",
   "execution_count": 15,
   "id": "8df70117-2cb6-4dea-8481-651515bf5b1d",
   "metadata": {},
   "outputs": [
    {
     "name": "stdout",
     "output_type": "stream",
     "text": [
      "Threaded mode:\n",
      "-23.97373868 -22.82732759\n",
      "Walltime for 2 sp calculations: 40.177793267183006\n"
     ]
    }
   ],
   "source": [
    "from threading import Thread\n",
    "def _thread_calculate(atoms, energy):\n",
    "    \"\"\"A threaded version of atoms.get_potential_energy. Energy is a one-member list\n",
    "    ideas taken from https://wiki.fysik.dtu.dk/ase/_modules/ase/neb.html#NEB\n",
    "    \"\"\"\n",
    "    energy[0] = atoms.get_potential_energy()\n",
    "    return\n",
    "\n",
    "# Pseudo-parallel\n",
    "with calc1, calc2:\n",
    "    mol1.calc = calc1\n",
    "    mol2.calc = calc2\n",
    "\n",
    "    # need to use mutable object to store energy\n",
    "    e1 = [999]\n",
    "    e2 = [999]\n",
    "    threads = [\n",
    "        Thread(target=_thread_calculate, args=(mol1, e1)),\n",
    "        Thread(target=_thread_calculate, args=(mol2, e2)),\n",
    "    ]\n",
    "    t_ = time.perf_counter()\n",
    "    for th in threads:\n",
    "        th.start()\n",
    "    for th in threads:\n",
    "        th.join()\n",
    "    print(\"Threaded mode:\")\n",
    "    print(e1[0], e2[0])\n",
    "    print(f\"Walltime for 2 sp calculations: {time.perf_counter() - t_}\")"
   ]
  },
  {
   "cell_type": "markdown",
   "id": "9d4f22ff-5925-4514-8fa6-4ae46d0726d1",
   "metadata": {},
   "source": [
    "As can be seen, the wall time reduced to almost half compared with the serial code, indicating the kubernetes isolation is scalable."
   ]
  },
  {
   "cell_type": "code",
   "execution_count": 16,
   "id": "a48d5280-65b9-4d98-a454-bff08b2b5a69",
   "metadata": {},
   "outputs": [],
   "source": [
    "cluster.close()"
   ]
  }
 ],
 "metadata": {
  "kernelspec": {
   "display_name": "Python 3 (ipykernel)",
   "language": "python",
   "name": "python3"
  },
  "language_info": {
   "codemirror_mode": {
    "name": "ipython",
    "version": 3
   },
   "file_extension": ".py",
   "mimetype": "text/x-python",
   "name": "python",
   "nbconvert_exporter": "python",
   "pygments_lexer": "ipython3",
   "version": "3.8.10"
  }
 },
 "nbformat": 4,
 "nbformat_minor": 5
}
