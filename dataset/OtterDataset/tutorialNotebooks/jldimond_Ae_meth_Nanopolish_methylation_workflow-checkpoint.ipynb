{
 "cells": [
  {
   "cell_type": "markdown",
   "metadata": {},
   "source": [
    "# This notebook details the Nanopolish methylation workflow for the Anthopleura elegantissima nanopore reads generated over three Rapid Sequencing runs in July 2018."
   ]
  },
  {
   "cell_type": "markdown",
   "metadata": {},
   "source": [
    "Based on this tutorial: https://nanopolish.readthedocs.io/en/latest/quickstart_call_methylation.html"
   ]
  },
  {
   "cell_type": "code",
   "execution_count": 1,
   "metadata": {},
   "outputs": [
    {
     "data": {
      "text/plain": [
       "'/Users/dimondj2/Documents/Alt-splicing-master/notebooks'"
      ]
     },
     "execution_count": 1,
     "metadata": {},
     "output_type": "execute_result"
    }
   ],
   "source": [
    "pwd"
   ]
  },
  {
   "cell_type": "code",
   "execution_count": 27,
   "metadata": {},
   "outputs": [
    {
     "name": "stdout",
     "output_type": "stream",
     "text": [
      "/Volumes/JD_Backup/2018_REU_Ae_ONT/Ae_DNA_Albacore_basecalls/20180831_0548_A1_G3_DNA/workspace\n"
     ]
    }
   ],
   "source": [
    "cd /Volumes/JD_Backup/2018_REU_Ae_ONT/Ae_DNA_Albacore_basecalls/20180831_0548_A1_G3_DNA/workspace/"
   ]
  },
  {
   "cell_type": "code",
   "execution_count": 28,
   "metadata": {},
   "outputs": [
    {
     "name": "stdout",
     "output_type": "stream",
     "text": [
      "\u001b[34mbarcode05\u001b[m\u001b[m \u001b[34mbarcode06\u001b[m\u001b[m\r\n"
     ]
    }
   ],
   "source": [
    "!ls"
   ]
  },
  {
   "cell_type": "code",
   "execution_count": 29,
   "metadata": {},
   "outputs": [
    {
     "name": "stdout",
     "output_type": "stream",
     "text": [
      "/Volumes/JD_Backup/2018_REU_Ae_ONT/Ae_DNA_Albacore_basecalls/20180831_0548_A1_G3_DNA/workspace/barcode05\n"
     ]
    }
   ],
   "source": [
    "cd barcode05"
   ]
  },
  {
   "cell_type": "code",
   "execution_count": 16,
   "metadata": {
    "collapsed": true
   },
   "outputs": [],
   "source": [
    "#merge fastqs\n",
    "!cat *.fastq > merged05.fastq"
   ]
  },
  {
   "cell_type": "raw",
   "metadata": {},
   "source": [
    "Need to make a directory containing symlinks to the individual run folders if there is more than one run:\n",
    "\n",
    "mkdir all_runs\n",
    "cd all_runs\n",
    "ln -s /path/to/dir1\n",
    "ln -s /path/to/dir2\n",
    "ln -s /path/to/dir3\n",
    "cd ..\n",
    "nanopolish index -d all_runs merged.fq"
   ]
  },
  {
   "cell_type": "code",
   "execution_count": 30,
   "metadata": {
    "collapsed": true
   },
   "outputs": [],
   "source": [
    "mkdir all_runs"
   ]
  },
  {
   "cell_type": "code",
   "execution_count": 31,
   "metadata": {},
   "outputs": [
    {
     "name": "stdout",
     "output_type": "stream",
     "text": [
      "/Volumes/JD_Backup/2018_REU_Ae_ONT/Ae_DNA_Albacore_basecalls/20180831_0548_A1_G3_DNA/workspace/barcode05/all_runs\n"
     ]
    }
   ],
   "source": [
    "cd all_runs/"
   ]
  },
  {
   "cell_type": "code",
   "execution_count": 72,
   "metadata": {
    "collapsed": true
   },
   "outputs": [],
   "source": [
    "!ln -s ../38"
   ]
  },
  {
   "cell_type": "code",
   "execution_count": 4,
   "metadata": {},
   "outputs": [
    {
     "data": {
      "text/plain": [
       "u'/Volumes/JD_Backup/2018_REU_Ae_ONT/Ae_DNA_Albacore_basecalls/20180831_0548_A1_G3_DNA/workspace/barcode06'"
      ]
     },
     "execution_count": 4,
     "metadata": {},
     "output_type": "execute_result"
    }
   ],
   "source": [
    "pwd"
   ]
  },
  {
   "cell_type": "code",
   "execution_count": 5,
   "metadata": {},
   "outputs": [
    {
     "name": "stdout",
     "output_type": "stream",
     "text": [
      "[readdb] indexing all_runs\n",
      "[readdb] indexing all_runs/0\n",
      "[readdb] indexing all_runs/1\n",
      "[readdb] indexing all_runs/10\n",
      "[readdb] indexing all_runs/11\n",
      "[readdb] indexing all_runs/12\n",
      "[readdb] indexing all_runs/13\n",
      "[readdb] indexing all_runs/14\n",
      "[readdb] indexing all_runs/15\n",
      "[readdb] indexing all_runs/16\n",
      "[readdb] indexing all_runs/17\n",
      "[readdb] indexing all_runs/18\n",
      "[readdb] indexing all_runs/19\n",
      "[readdb] indexing all_runs/2\n",
      "[readdb] indexing all_runs/20\n",
      "[readdb] indexing all_runs/21\n",
      "[readdb] indexing all_runs/22\n",
      "[readdb] indexing all_runs/23\n",
      "[readdb] indexing all_runs/24\n",
      "[readdb] indexing all_runs/25\n",
      "[readdb] indexing all_runs/26\n",
      "[readdb] indexing all_runs/27\n",
      "[readdb] indexing all_runs/28\n",
      "[readdb] indexing all_runs/29\n",
      "[readdb] indexing all_runs/3\n",
      "[readdb] indexing all_runs/30\n",
      "[readdb] indexing all_runs/31\n",
      "[readdb] indexing all_runs/32\n",
      "[readdb] indexing all_runs/4\n",
      "[readdb] indexing all_runs/5\n",
      "[readdb] indexing all_runs/6\n",
      "[readdb] indexing all_runs/7\n",
      "[readdb] indexing all_runs/8\n",
      "[readdb] indexing all_runs/9\n",
      "[readdb] num reads: 130673, num reads with path to fast5: 130673\n"
     ]
    }
   ],
   "source": [
    "#Index reads, linking FASTQ file with FAST5 signal data\n",
    "!/Users/MolecularLab/Documents/Anthopleura_genome/nanopolish/nanopolish index -d all_runs -s ../../sequencing_summary.txt merged06.fastq"
   ]
  },
  {
   "cell_type": "code",
   "execution_count": 10,
   "metadata": {},
   "outputs": [
    {
     "name": "stdout",
     "output_type": "stream",
     "text": [
      "/Users/MolecularLab/Documents/Anthopleura_genome/Alt-splicing-master/analyses\n"
     ]
    }
   ],
   "source": [
    "cd /Users/MolecularLab/Documents/Anthopleura_genome/Alt-splicing-master/analyses"
   ]
  },
  {
   "cell_type": "code",
   "execution_count": 11,
   "metadata": {},
   "outputs": [
    {
     "name": "stdout",
     "output_type": "stream",
     "text": [
      "\u001b[34mAe_RNA_FASTQs\u001b[m\u001b[m\r\n",
      "\u001b[31mAele_all_blast_hits.tab\u001b[m\u001b[m\r\n",
      "\u001b[31mAele_all_blast_hits_eval.tab\u001b[m\u001b[m\r\n",
      "\u001b[31mAele_all_blast_hits_eval_uniq.tab\u001b[m\u001b[m\r\n",
      "\u001b[31mAele_all_sym_seqs.tab\u001b[m\u001b[m\r\n",
      "\u001b[31mAele_blastn_Rodriguez-Lanetty.tab\u001b[m\u001b[m\r\n",
      "\u001b[31mAele_tblastn_symbio.tab\u001b[m\u001b[m\r\n",
      "\u001b[34mNanoAsPipe\u001b[m\u001b[m\r\n",
      "\u001b[34mNanoOutput\u001b[m\u001b[m\r\n",
      "\u001b[31mR-L_aiptasia_sym_prot.fasta\u001b[m\u001b[m\r\n",
      "\u001b[31mRodriguez-Lanetty_aiptasia_blastx.tab\u001b[m\u001b[m\r\n",
      "\u001b[31mRodriguez-Lanetty_aiptasia_blastx_ids.tab\u001b[m\u001b[m\r\n",
      "\u001b[31mRodriguez-Lanetty_aiptasia_blastx_uniq.tab\u001b[m\u001b[m\r\n",
      "\u001b[31maiptasia_sym_prot.fasta\u001b[m\u001b[m\r\n",
      "aln_bar01_RNA.psl\r\n",
      "aln_bar01_RNA.sam\r\n",
      "aln_bar02_RNA.psl\r\n",
      "aln_bar02_RNA.sam\r\n",
      "aln_bar03_RNA.psl\r\n",
      "aln_bar03_RNA.sam\r\n",
      "aln_bar04_RNA.psl\r\n",
      "aln_bar04_RNA.sam\r\n",
      "aln_bar05_RNA.psl\r\n",
      "aln_bar05_RNA.sam\r\n",
      "aln_bar06_RNA.psl\r\n",
      "aln_bar06_RNA.sam\r\n",
      "bar02_methylation_freq.tsv\r\n",
      "bar04.sorted.bam\r\n",
      "bar04.sorted.bam.bai\r\n",
      "bar04_methylation_calls.tsv\r\n",
      "bar04_methylation_freq.tsv\r\n",
      "bar05.sorted.bam\r\n",
      "bar05.sorted.bam.bai\r\n",
      "bar05_methylation_calls.tsv\r\n",
      "bar05_methylation_freq.tsv\r\n",
      "bar06.sorted.bam\r\n",
      "bar06.sorted.bam.bai\r\n",
      "bar06_methylation_calls.tsv\r\n",
      "bar06_methylation_freq.tsv\r\n",
      "\u001b[31mcat.exonerate\u001b[m\u001b[m\r\n",
      "\u001b[31mexonerate.gff\u001b[m\u001b[m\r\n",
      "exons.gtf\r\n",
      "mandalorion_config.txt\r\n",
      "mandalorion_content.txt\r\n",
      "merged01_RNA.fasta\r\n",
      "merged02_RNA.fasta\r\n",
      "merged03_RNA.fasta\r\n",
      "merged04_RNA.fasta\r\n",
      "merged05_RNA.fasta\r\n",
      "merged06_RNA.fasta\r\n",
      "\u001b[31moutput-part1.exonerate\u001b[m\u001b[m\r\n",
      "\u001b[31moutput-part2.exonerate\u001b[m\u001b[m\r\n",
      "\u001b[31moutput-part3.exonerate\u001b[m\u001b[m\r\n",
      "\u001b[31moutput-part4.exonerate\u001b[m\u001b[m\r\n",
      "\u001b[31mreadme.md\u001b[m\u001b[m\r\n",
      "sym_contigs.fasta\r\n",
      "sym_contigs.fasta.fai\r\n",
      "sym_contigs.fasta.gmidx\r\n",
      "\u001b[31msym_genes.fasta\u001b[m\u001b[m\r\n",
      "\u001b[31msym_genes.gff\u001b[m\u001b[m\r\n",
      "\u001b[31msym_prot_all.fasta\u001b[m\u001b[m\r\n",
      "\u001b[31msym_seqs.bed\u001b[m\u001b[m\r\n",
      "\u001b[31msym_seqs.fasta\u001b[m\u001b[m\r\n",
      "\u001b[31msym_seqs_map.bam\u001b[m\u001b[m\r\n",
      "\u001b[31msym_seqs_map.bam.bai\u001b[m\u001b[m\r\n",
      "\u001b[31msym_seqs_merged.bed\u001b[m\u001b[m\r\n",
      "\u001b[31msym_seqs_uniq.bed\u001b[m\u001b[m\r\n",
      "\u001b[31msym_seqs_uniq_contig.bed\u001b[m\u001b[m\r\n",
      "\u001b[31msym_seqs_uniq_sorted.bed\u001b[m\u001b[m\r\n",
      "\u001b[31mtmp0.142452549791724\u001b[m\u001b[m\r\n",
      "\u001b[31mtmp0.632378228611142\u001b[m\u001b[m\r\n",
      "\u001b[31muniq.contigs\u001b[m\u001b[m\r\n"
     ]
    }
   ],
   "source": [
    "!ls"
   ]
  },
  {
   "cell_type": "code",
   "execution_count": 12,
   "metadata": {},
   "outputs": [
    {
     "name": "stdout",
     "output_type": "stream",
     "text": [
      "[M::mm_idx_gen::4.154*1.52] collected minimizers\n",
      "[M::mm_idx_gen::5.148*1.80] sorted minimizers\n",
      "[M::main::5.153*1.80] loaded/built the index for 5359 target sequence(s)\n",
      "[M::mm_mapopt_update::5.634*1.73] mid_occ = 121\n",
      "[M::mm_idx_stat] kmer size: 15; skip: 10; is_hpc: 0; #seq: 5359\n",
      "[M::mm_idx_stat::5.951*1.70] distinct minimizers: 26751058 (74.03% are singletons); average occurrences: 1.683; average spacing: 5.330\n",
      "[M::worker_pipeline::303.388*2.90] mapped 107777 sequences\n",
      "[M::worker_pipeline::574.829*2.93] mapped 112595 sequences\n",
      "[M::worker_pipeline::575.583*2.92] mapped 7575 sequences\n",
      "[M::main] Version: 2.11-r819-dirty\n",
      "[M::main] CMD: /Users/MolecularLab/Documents/Anthopleura_genome/minimap2/minimap2 -a -x map-ont ../data/wtdbg2_genome/Ae.ctg.lay.fa /Volumes/JD_Backup/2018_REU_Ae_ONT/Ae_DNA_Albacore_basecalls/20180824_1759_A4_G2_DNA/basecalls/workspace/pass/barcode01/merged01.fastq\n",
      "[M::main] Real time: 575.952 sec; CPU: 1682.387 sec\n",
      "[bam_sort_core] merging from 5 files...\n"
     ]
    }
   ],
   "source": [
    "#Aligning reads to the reference genome, in this A. elegantissima genome - bar01\n",
    "!/Users/MolecularLab/Documents/Anthopleura_genome/minimap2/minimap2 -a -x map-ont ../data/wtdbg2_genome/Ae.ctg.lay.fa /Volumes/JD_Backup/2018_REU_Ae_ONT/Ae_DNA_Albacore_basecalls/20180824_1759_A4_G2_DNA/basecalls/workspace/pass/barcode01/merged01.fastq | /Users/MolecularLab/miniconda2/pkgs/ipyrad-0.6.24-0/lib/python2.7/site-packages/bin/samtools-1.2.1-osx-x86_64 sort -T tmp -o bar01_genome.sorted.bam"
   ]
  },
  {
   "cell_type": "code",
   "execution_count": 13,
   "metadata": {},
   "outputs": [
    {
     "name": "stdout",
     "output_type": "stream",
     "text": [
      "[M::mm_idx_gen::4.287*1.53] collected minimizers\n",
      "[M::mm_idx_gen::5.297*1.80] sorted minimizers\n",
      "[M::main::5.297*1.80] loaded/built the index for 5359 target sequence(s)\n",
      "[M::mm_mapopt_update::5.784*1.74] mid_occ = 121\n",
      "[M::mm_idx_stat] kmer size: 15; skip: 10; is_hpc: 0; #seq: 5359\n",
      "[M::mm_idx_stat::6.106*1.70] distinct minimizers: 26751058 (74.03% are singletons); average occurrences: 1.683; average spacing: 5.330\n",
      "[M::worker_pipeline::363.881*2.91] mapped 108329 sequences\n",
      "[M::worker_pipeline::678.675*2.96] mapped 112103 sequences\n",
      "[M::worker_pipeline::944.182*2.89] mapped 89715 sequences\n",
      "[M::main] Version: 2.11-r819-dirty\n",
      "[M::main] CMD: /Users/MolecularLab/Documents/Anthopleura_genome/minimap2/minimap2 -a -x map-ont ../data/wtdbg2_genome/Ae.ctg.lay.fa /Volumes/JD_Backup/2018_REU_Ae_ONT/Ae_DNA_Albacore_basecalls/20180824_1759_A4_G2_DNA/basecalls/workspace/pass/barcode02/merged02.fastq\n",
      "[M::main] Real time: 944.526 sec; CPU: 2726.134 sec\n",
      "[bam_sort_core] merging from 7 files...\n"
     ]
    }
   ],
   "source": [
    "#Aligning reads to the reference genome, in this A. elegantissima genome - bar02\n",
    "!/Users/MolecularLab/Documents/Anthopleura_genome/minimap2/minimap2 -a -x map-ont ../data/wtdbg2_genome/Ae.ctg.lay.fa /Volumes/JD_Backup/2018_REU_Ae_ONT/Ae_DNA_Albacore_basecalls/20180824_1759_A4_G2_DNA/basecalls/workspace/pass/barcode02/merged02.fastq | /Users/MolecularLab/miniconda2/pkgs/ipyrad-0.6.24-0/lib/python2.7/site-packages/bin/samtools-1.2.1-osx-x86_64 sort -T tmp -o bar02_genome.sorted.bam"
   ]
  },
  {
   "cell_type": "code",
   "execution_count": 14,
   "metadata": {},
   "outputs": [
    {
     "name": "stdout",
     "output_type": "stream",
     "text": [
      "[M::mm_idx_gen::4.211*1.52] collected minimizers\n",
      "[M::mm_idx_gen::5.204*1.80] sorted minimizers\n",
      "[M::main::5.204*1.80] loaded/built the index for 5359 target sequence(s)\n",
      "[M::mm_mapopt_update::5.714*1.73] mid_occ = 121\n",
      "[M::mm_idx_stat] kmer size: 15; skip: 10; is_hpc: 0; #seq: 5359\n",
      "[M::mm_idx_stat::6.050*1.69] distinct minimizers: 26751058 (74.03% are singletons); average occurrences: 1.683; average spacing: 5.330\n",
      "[M::worker_pipeline::302.959*2.90] mapped 114209 sequences\n",
      "[M::worker_pipeline::356.549*2.90] mapped 35859 sequences\n",
      "[M::main] Version: 2.11-r819-dirty\n",
      "[M::main] CMD: /Users/MolecularLab/Documents/Anthopleura_genome/minimap2/minimap2 -a -x map-ont ../data/wtdbg2_genome/Ae.ctg.lay.fa /Volumes/JD_Backup/2018_REU_Ae_ONT/Ae_DNA_Albacore_basecalls/20180827_0340_A3_G4_DNA/basecalls/workspace/pass/barcode03/merged03.fastq\n",
      "[M::main] Real time: 356.892 sec; CPU: 1034.783 sec\n",
      "[bam_sort_core] merging from 3 files...\n"
     ]
    }
   ],
   "source": [
    "#Aligning reads to the reference genome, in this A. elegantissima genome - bar03\n",
    "!/Users/MolecularLab/Documents/Anthopleura_genome/minimap2/minimap2 -a -x map-ont ../data/wtdbg2_genome/Ae.ctg.lay.fa /Volumes/JD_Backup/2018_REU_Ae_ONT/Ae_DNA_Albacore_basecalls/20180827_0340_A3_G4_DNA/basecalls/workspace/pass/barcode03/merged03.fastq | /Users/MolecularLab/miniconda2/pkgs/ipyrad-0.6.24-0/lib/python2.7/site-packages/bin/samtools-1.2.1-osx-x86_64 sort -T tmp -o bar03_genome.sorted.bam"
   ]
  },
  {
   "cell_type": "code",
   "execution_count": 15,
   "metadata": {},
   "outputs": [
    {
     "name": "stdout",
     "output_type": "stream",
     "text": [
      "[M::mm_idx_gen::4.112*1.53] collected minimizers\n",
      "[M::mm_idx_gen::5.130*1.81] sorted minimizers\n",
      "[M::main::5.131*1.81] loaded/built the index for 5359 target sequence(s)\n",
      "[M::mm_mapopt_update::5.620*1.74] mid_occ = 121\n",
      "[M::mm_idx_stat] kmer size: 15; skip: 10; is_hpc: 0; #seq: 5359\n",
      "[M::mm_idx_stat::5.936*1.70] distinct minimizers: 26751058 (74.03% are singletons); average occurrences: 1.683; average spacing: 5.330\n",
      "[M::worker_pipeline::385.378*2.93] mapped 150283 sequences\n",
      "[M::worker_pipeline::729.684*2.97] mapped 141706 sequences\n",
      "[M::worker_pipeline::859.982*2.93] mapped 55626 sequences\n",
      "[M::main] Version: 2.11-r819-dirty\n",
      "[M::main] CMD: /Users/MolecularLab/Documents/Anthopleura_genome/minimap2/minimap2 -a -x map-ont ../data/wtdbg2_genome/Ae.ctg.lay.fa /Volumes/JD_Backup/2018_REU_Ae_ONT/Ae_DNA_Albacore_basecalls/20180827_0340_A3_G4_DNA/basecalls/workspace/pass/barcode04/merged04.fastq\n",
      "[M::main] Real time: 860.327 sec; CPU: 2518.898 sec\n",
      "[bam_sort_core] merging from 6 files...\n"
     ]
    }
   ],
   "source": [
    "#Aligning reads to the reference genome, in this A. elegantissima genome - bar04\n",
    "!/Users/MolecularLab/Documents/Anthopleura_genome/minimap2/minimap2 -a -x map-ont ../data/wtdbg2_genome/Ae.ctg.lay.fa /Volumes/JD_Backup/2018_REU_Ae_ONT/Ae_DNA_Albacore_basecalls/20180827_0340_A3_G4_DNA/basecalls/workspace/pass/barcode04/merged04.fastq | /Users/MolecularLab/miniconda2/pkgs/ipyrad-0.6.24-0/lib/python2.7/site-packages/bin/samtools-1.2.1-osx-x86_64 sort -T tmp -o bar04_genome.sorted.bam"
   ]
  },
  {
   "cell_type": "code",
   "execution_count": 16,
   "metadata": {},
   "outputs": [
    {
     "name": "stdout",
     "output_type": "stream",
     "text": [
      "[M::mm_idx_gen::4.085*1.53] collected minimizers\n",
      "[M::mm_idx_gen::5.128*1.83] sorted minimizers\n",
      "[M::main::5.129*1.83] loaded/built the index for 5359 target sequence(s)\n",
      "[M::mm_mapopt_update::5.630*1.75] mid_occ = 121\n",
      "[M::mm_idx_stat] kmer size: 15; skip: 10; is_hpc: 0; #seq: 5359\n",
      "[M::mm_idx_stat::5.968*1.71] distinct minimizers: 26751058 (74.03% are singletons); average occurrences: 1.683; average spacing: 5.330\n",
      "[M::worker_pipeline::302.533*2.90] mapped 122524 sequences\n",
      "[M::worker_pipeline::344.975*2.90] mapped 30637 sequences\n",
      "[M::main] Version: 2.11-r819-dirty\n",
      "[M::main] CMD: /Users/MolecularLab/Documents/Anthopleura_genome/minimap2/minimap2 -a -x map-ont ../data/wtdbg2_genome/Ae.ctg.lay.fa /Volumes/JD_Backup/2018_REU_Ae_ONT/Ae_DNA_Albacore_basecalls/20180831_0548_A1_G3_DNA/workspace/barcode05/merged05.fastq\n",
      "[M::main] Real time: 345.307 sec; CPU: 1001.994 sec\n",
      "[bam_sort_core] merging from 3 files...\n"
     ]
    }
   ],
   "source": [
    "#Aligning reads to the reference genome, in this A. elegantissima genome - bar05\n",
    "!/Users/MolecularLab/Documents/Anthopleura_genome/minimap2/minimap2 -a -x map-ont ../data/wtdbg2_genome/Ae.ctg.lay.fa /Volumes/JD_Backup/2018_REU_Ae_ONT/Ae_DNA_Albacore_basecalls/20180831_0548_A1_G3_DNA/workspace/barcode05/merged05.fastq | /Users/MolecularLab/miniconda2/pkgs/ipyrad-0.6.24-0/lib/python2.7/site-packages/bin/samtools-1.2.1-osx-x86_64 sort -T tmp -o bar05_genome.sorted.bam"
   ]
  },
  {
   "cell_type": "code",
   "execution_count": 17,
   "metadata": {},
   "outputs": [
    {
     "name": "stdout",
     "output_type": "stream",
     "text": [
      "[M::mm_idx_gen::4.087*1.53] collected minimizers\n",
      "[M::mm_idx_gen::5.104*1.82] sorted minimizers\n",
      "[M::main::5.105*1.82] loaded/built the index for 5359 target sequence(s)\n",
      "[M::mm_mapopt_update::5.593*1.75] mid_occ = 121\n",
      "[M::mm_idx_stat] kmer size: 15; skip: 10; is_hpc: 0; #seq: 5359\n",
      "[M::mm_idx_stat::5.908*1.71] distinct minimizers: 26751058 (74.03% are singletons); average occurrences: 1.683; average spacing: 5.330\n",
      "[M::worker_pipeline::336.652*2.70] mapped 130673 sequences\n",
      "[M::main] Version: 2.11-r819-dirty\n",
      "[M::main] CMD: /Users/MolecularLab/Documents/Anthopleura_genome/minimap2/minimap2 -a -x map-ont ../data/wtdbg2_genome/Ae.ctg.lay.fa /Volumes/JD_Backup/2018_REU_Ae_ONT/Ae_DNA_Albacore_basecalls/20180831_0548_A1_G3_DNA/workspace/barcode06/merged06.fastq\n",
      "[M::main] Real time: 336.990 sec; CPU: 908.609 sec\n",
      "[bam_sort_core] merging from 3 files...\n"
     ]
    }
   ],
   "source": [
    "#Aligning reads to the reference genome, in this A. elegantissima genome - bar06\n",
    "!/Users/MolecularLab/Documents/Anthopleura_genome/minimap2/minimap2 -a -x map-ont ../data/wtdbg2_genome/Ae.ctg.lay.fa /Volumes/JD_Backup/2018_REU_Ae_ONT/Ae_DNA_Albacore_basecalls/20180831_0548_A1_G3_DNA/workspace/barcode06/merged06.fastq | /Users/MolecularLab/miniconda2/pkgs/ipyrad-0.6.24-0/lib/python2.7/site-packages/bin/samtools-1.2.1-osx-x86_64 sort -T tmp -o bar06_genome.sorted.bam"
   ]
  },
  {
   "cell_type": "code",
   "execution_count": 21,
   "metadata": {
    "collapsed": true
   },
   "outputs": [],
   "source": [
    "#Index BAM files\n",
    "!ls *genome.sorted.bam | xargs -n1 -P5 /Users/MolecularLab/miniconda2/pkgs/ipyrad-0.6.24-0/lib/python2.7/site-packages/bin/samtools-1.2.1-osx-x86_64 index"
   ]
  },
  {
   "cell_type": "code",
   "execution_count": 22,
   "metadata": {},
   "outputs": [
    {
     "name": "stdout",
     "output_type": "stream",
     "text": [
      "/Volumes/JD_Backup/2018_REU_Ae_ONT/Ae_DNA_Albacore_basecalls/20180824_1759_A4_G2_DNA/basecalls/workspace/pass/barcode01\n"
     ]
    }
   ],
   "source": [
    "cd /Volumes/JD_Backup/2018_REU_Ae_ONT/Ae_DNA_Albacore_basecalls/20180824_1759_A4_G2_DNA/basecalls/workspace/pass/barcode01"
   ]
  },
  {
   "cell_type": "code",
   "execution_count": 23,
   "metadata": {
    "scrolled": true
   },
   "outputs": [
    {
     "name": "stdout",
     "output_type": "stream",
     "text": [
      "[fai_load] build FASTA index.\n",
      "[post-run summary] total reads: 605882, unparseable: 0, qc fail: 458, could not calibrate: 51, no alignment: 8514, bad fast5: 0\n"
     ]
    }
   ],
   "source": [
    "#Call methylation with Nanopolish - bar01\n",
    "!/Users/MolecularLab/Documents/Anthopleura_genome/nanopolish/nanopolish call-methylation -t 8 -r merged01.fastq -b /Users/MolecularLab/Documents/Anthopleura_genome/Alt-splicing-master/analyses/bar01_genome.sorted.bam -g /Users/MolecularLab/Documents/Anthopleura_genome/Alt-splicing-master/data/wtdbg2_genome/Ae.ctg.lay.fa > /Users/MolecularLab/Documents/Anthopleura_genome/Alt-splicing-master/analyses/bar01_genome_meth_calls.tsv"
   ]
  },
  {
   "cell_type": "code",
   "execution_count": 24,
   "metadata": {},
   "outputs": [
    {
     "name": "stdout",
     "output_type": "stream",
     "text": [
      "/Volumes/JD_Backup/2018_REU_Ae_ONT/Ae_DNA_Albacore_basecalls/20180824_1759_A4_G2_DNA/basecalls/workspace/pass/barcode02\n"
     ]
    }
   ],
   "source": [
    "cd /Volumes/JD_Backup/2018_REU_Ae_ONT/Ae_DNA_Albacore_basecalls/20180824_1759_A4_G2_DNA/basecalls/workspace/pass/barcode02"
   ]
  },
  {
   "cell_type": "code",
   "execution_count": 25,
   "metadata": {},
   "outputs": [
    {
     "name": "stdout",
     "output_type": "stream",
     "text": [
      "[post-run summary] total reads: 804421, unparseable: 0, qc fail: 620, could not calibrate: 80, no alignment: 12317, bad fast5: 10557\r\n"
     ]
    }
   ],
   "source": [
    "#Call methylation with Nanopolish - bar02\n",
    "!/Users/MolecularLab/Documents/Anthopleura_genome/nanopolish/nanopolish call-methylation -t 8 -r merged02.fastq -b /Users/MolecularLab/Documents/Anthopleura_genome/Alt-splicing-master/analyses/bar02_genome.sorted.bam -g /Users/MolecularLab/Documents/Anthopleura_genome/Alt-splicing-master/data/wtdbg2_genome/Ae.ctg.lay.fa > /Users/MolecularLab/Documents/Anthopleura_genome/Alt-splicing-master/analyses/bar02_genome_meth_calls.tsv"
   ]
  },
  {
   "cell_type": "code",
   "execution_count": 26,
   "metadata": {},
   "outputs": [
    {
     "name": "stdout",
     "output_type": "stream",
     "text": [
      "/Volumes/JD_Backup/2018_REU_Ae_ONT/Ae_DNA_Albacore_basecalls/20180827_0340_A3_G4_DNA/basecalls/workspace/pass/barcode03\n"
     ]
    }
   ],
   "source": [
    "cd /Volumes/JD_Backup/2018_REU_Ae_ONT/Ae_DNA_Albacore_basecalls/20180827_0340_A3_G4_DNA/basecalls/workspace/pass/barcode03"
   ]
  },
  {
   "cell_type": "code",
   "execution_count": 27,
   "metadata": {},
   "outputs": [
    {
     "name": "stdout",
     "output_type": "stream",
     "text": [
      "[post-run summary] total reads: 345587, unparseable: 0, qc fail: 290, could not calibrate: 9, no alignment: 6767, bad fast5: 0\r\n"
     ]
    }
   ],
   "source": [
    "#Call methylation with Nanopolish - bar03\n",
    "!/Users/MolecularLab/Documents/Anthopleura_genome/nanopolish/nanopolish call-methylation -t 8 -r merged03.fastq -b /Users/MolecularLab/Documents/Anthopleura_genome/Alt-splicing-master/analyses/bar03_genome.sorted.bam -g /Users/MolecularLab/Documents/Anthopleura_genome/Alt-splicing-master/data/wtdbg2_genome/Ae.ctg.lay.fa > /Users/MolecularLab/Documents/Anthopleura_genome/Alt-splicing-master/analyses/bar03_genome_meth_calls.tsv"
   ]
  },
  {
   "cell_type": "code",
   "execution_count": 28,
   "metadata": {},
   "outputs": [
    {
     "name": "stdout",
     "output_type": "stream",
     "text": [
      "/Volumes/JD_Backup/2018_REU_Ae_ONT/Ae_DNA_Albacore_basecalls/20180827_0340_A3_G4_DNA/basecalls/workspace/pass/barcode04\n"
     ]
    }
   ],
   "source": [
    "cd /Volumes/JD_Backup/2018_REU_Ae_ONT/Ae_DNA_Albacore_basecalls/20180827_0340_A3_G4_DNA/basecalls/workspace/pass/barcode04"
   ]
  },
  {
   "cell_type": "code",
   "execution_count": 29,
   "metadata": {},
   "outputs": [
    {
     "name": "stdout",
     "output_type": "stream",
     "text": [
      "[post-run summary] total reads: 881871, unparseable: 0, qc fail: 780, could not calibrate: 38, no alignment: 14542, bad fast5: 0\r\n"
     ]
    }
   ],
   "source": [
    "#Call methylation with Nanopolish - bar04\n",
    "!/Users/MolecularLab/Documents/Anthopleura_genome/nanopolish/nanopolish call-methylation -t 8 -r merged04.fastq -b /Users/MolecularLab/Documents/Anthopleura_genome/Alt-splicing-master/analyses/bar04_genome.sorted.bam -g /Users/MolecularLab/Documents/Anthopleura_genome/Alt-splicing-master/data/wtdbg2_genome/Ae.ctg.lay.fa > /Users/MolecularLab/Documents/Anthopleura_genome/Alt-splicing-master/analyses/bar04_genome_meth_calls.tsv"
   ]
  },
  {
   "cell_type": "code",
   "execution_count": 30,
   "metadata": {},
   "outputs": [
    {
     "name": "stdout",
     "output_type": "stream",
     "text": [
      "/Volumes/JD_Backup/2018_REU_Ae_ONT/Ae_DNA_Albacore_basecalls/20180831_0548_A1_G3_DNA/workspace/barcode05\n"
     ]
    }
   ],
   "source": [
    "cd /Volumes/JD_Backup/2018_REU_Ae_ONT/Ae_DNA_Albacore_basecalls/20180831_0548_A1_G3_DNA/workspace/barcode05"
   ]
  },
  {
   "cell_type": "code",
   "execution_count": 31,
   "metadata": {},
   "outputs": [
    {
     "name": "stdout",
     "output_type": "stream",
     "text": [
      "[post-run summary] total reads: 330207, unparseable: 0, qc fail: 270, could not calibrate: 24, no alignment: 6875, bad fast5: 0\r\n"
     ]
    }
   ],
   "source": [
    "#Call methylation with Nanopolish - bar05\n",
    "!/Users/MolecularLab/Documents/Anthopleura_genome/nanopolish/nanopolish call-methylation -t 8 -r merged05.fastq -b /Users/MolecularLab/Documents/Anthopleura_genome/Alt-splicing-master/analyses/bar05_genome.sorted.bam -g /Users/MolecularLab/Documents/Anthopleura_genome/Alt-splicing-master/data/wtdbg2_genome/Ae.ctg.lay.fa > /Users/MolecularLab/Documents/Anthopleura_genome/Alt-splicing-master/analyses/bar05_genome_meth_calls.tsv"
   ]
  },
  {
   "cell_type": "code",
   "execution_count": 32,
   "metadata": {},
   "outputs": [
    {
     "name": "stdout",
     "output_type": "stream",
     "text": [
      "/Volumes/JD_Backup/2018_REU_Ae_ONT/Ae_DNA_Albacore_basecalls/20180831_0548_A1_G3_DNA/workspace/barcode06\n"
     ]
    }
   ],
   "source": [
    "cd /Volumes/JD_Backup/2018_REU_Ae_ONT/Ae_DNA_Albacore_basecalls/20180831_0548_A1_G3_DNA/workspace/barcode06"
   ]
  },
  {
   "cell_type": "code",
   "execution_count": 33,
   "metadata": {},
   "outputs": [
    {
     "name": "stdout",
     "output_type": "stream",
     "text": [
      "[post-run summary] total reads: 318544, unparseable: 0, qc fail: 214, could not calibrate: 18, no alignment: 6652, bad fast5: 0\r\n"
     ]
    }
   ],
   "source": [
    "#Call methylation with Nanopolish - bar06\n",
    "!/Users/MolecularLab/Documents/Anthopleura_genome/nanopolish/nanopolish call-methylation -t 8 -r merged06.fastq -b /Users/MolecularLab/Documents/Anthopleura_genome/Alt-splicing-master/analyses/bar06_genome.sorted.bam -g /Users/MolecularLab/Documents/Anthopleura_genome/Alt-splicing-master/data/wtdbg2_genome/Ae.ctg.lay.fa > /Users/MolecularLab/Documents/Anthopleura_genome/Alt-splicing-master/analyses/bar06_genome_meth_calls.tsv"
   ]
  },
  {
   "cell_type": "code",
   "execution_count": 34,
   "metadata": {},
   "outputs": [
    {
     "name": "stdout",
     "output_type": "stream",
     "text": [
      "chromosome\tstart\tend\tread_name\tlog_lik_ratio\tlog_lik_methylated\tlog_lik_unmethylated\tnum_calling_strands\tnum_motifs\tsequence\r\n",
      "ctg1\t4538\t4538\t55a9429f-df14-432a-8370-7cd724ebc7fa\t-8.88\t-123.03\t-114.14\t1\t1\tTGTATCGATTA\r\n",
      "ctg1\t4582\t4590\t55a9429f-df14-432a-8370-7cd724ebc7fa\t-4.91\t-175.66\t-170.75\t1\t2\tGGTGGCGGTAGTGCGCTGC\r\n",
      "ctg1\t4738\t4738\t55a9429f-df14-432a-8370-7cd724ebc7fa\t-4.66\t-163.72\t-159.05\t1\t1\tGATCTCGCAAT\r\n",
      "ctg1\t4778\t4778\t55a9429f-df14-432a-8370-7cd724ebc7fa\t1.04\t-99.44\t-100.48\t1\t1\tCTTGACGCTTC\r\n",
      "ctg1\t4819\t4819\t55a9429f-df14-432a-8370-7cd724ebc7fa\t2.11\t-99.87\t-101.98\t1\t1\tTGGCTCGGAGT\r\n",
      "ctg1\t4873\t4873\t55a9429f-df14-432a-8370-7cd724ebc7fa\t-1.10\t-134.67\t-133.58\t1\t1\tTTTCCCGTCTA\r\n",
      "ctg1\t4894\t4917\t55a9429f-df14-432a-8370-7cd724ebc7fa\t-6.29\t-206.19\t-199.90\t1\t5\tGTTTTCGTAGACGGCGATGAAGCGCAAACGCCTT\r\n",
      "ctg1\t4972\t4972\t55a9429f-df14-432a-8370-7cd724ebc7fa\t-4.13\t-100.47\t-96.34\t1\t1\tACCATCGATTC\r\n",
      "ctg1\t4986\t4986\t55a9429f-df14-432a-8370-7cd724ebc7fa\t-1.55\t-119.43\t-117.89\t1\t1\tAGGAACGTGAA\r\n"
     ]
    }
   ],
   "source": [
    "!head /Users/MolecularLab/Documents/Anthopleura_genome/Alt-splicing-master/analyses/bar06_genome_meth_calls.tsv"
   ]
  },
  {
   "cell_type": "code",
   "execution_count": 35,
   "metadata": {
    "collapsed": true
   },
   "outputs": [],
   "source": [
    "#Helper scipt to sumarize methylation by sequence and base - bar01\n",
    "!/Users/MolecularLab/Documents/Anthopleura_genome/nanopolish/scripts/calculate_methylation_frequency.py -i /Users/MolecularLab/Documents/Anthopleura_genome/Alt-splicing-master/analyses/bar01_genome_meth_calls.tsv > /Users/MolecularLab/Documents/Anthopleura_genome/Alt-splicing-master/analyses/bar01_genome_meth_freq.tsv"
   ]
  },
  {
   "cell_type": "code",
   "execution_count": 36,
   "metadata": {
    "collapsed": true
   },
   "outputs": [],
   "source": [
    "#Helper scipt to sumarize methylation by sequence and base - bar02\n",
    "!/Users/MolecularLab/Documents/Anthopleura_genome/nanopolish/scripts/calculate_methylation_frequency.py -i /Users/MolecularLab/Documents/Anthopleura_genome/Alt-splicing-master/analyses/bar02_genome_meth_calls.tsv > /Users/MolecularLab/Documents/Anthopleura_genome/Alt-splicing-master/analyses/bar02_genome_meth_freq.tsv"
   ]
  },
  {
   "cell_type": "code",
   "execution_count": 37,
   "metadata": {
    "collapsed": true
   },
   "outputs": [],
   "source": [
    "#Helper scipt to sumarize methylation by sequence and base - bar03\n",
    "!/Users/MolecularLab/Documents/Anthopleura_genome/nanopolish/scripts/calculate_methylation_frequency.py -i /Users/MolecularLab/Documents/Anthopleura_genome/Alt-splicing-master/analyses/bar03_genome_meth_calls.tsv > /Users/MolecularLab/Documents/Anthopleura_genome/Alt-splicing-master/analyses/bar03_genome_meth_freq.tsv"
   ]
  },
  {
   "cell_type": "code",
   "execution_count": 38,
   "metadata": {
    "collapsed": true
   },
   "outputs": [],
   "source": [
    "#Helper scipt to sumarize methylation by sequence and base - bar04\n",
    "!/Users/MolecularLab/Documents/Anthopleura_genome/nanopolish/scripts/calculate_methylation_frequency.py -i /Users/MolecularLab/Documents/Anthopleura_genome/Alt-splicing-master/analyses/bar04_genome_meth_calls.tsv > /Users/MolecularLab/Documents/Anthopleura_genome/Alt-splicing-master/analyses/bar04_genome_meth_freq.tsv"
   ]
  },
  {
   "cell_type": "code",
   "execution_count": 39,
   "metadata": {
    "collapsed": true
   },
   "outputs": [],
   "source": [
    "#Helper scipt to sumarize methylation by sequence and base - bar05\n",
    "!/Users/MolecularLab/Documents/Anthopleura_genome/nanopolish/scripts/calculate_methylation_frequency.py -i /Users/MolecularLab/Documents/Anthopleura_genome/Alt-splicing-master/analyses/bar05_genome_meth_calls.tsv > /Users/MolecularLab/Documents/Anthopleura_genome/Alt-splicing-master/analyses/bar05_genome_meth_freq.tsv"
   ]
  },
  {
   "cell_type": "code",
   "execution_count": 40,
   "metadata": {
    "collapsed": true
   },
   "outputs": [],
   "source": [
    "#Helper scipt to sumarize methylation by sequence and base - bar06\n",
    "!/Users/MolecularLab/Documents/Anthopleura_genome/nanopolish/scripts/calculate_methylation_frequency.py -i /Users/MolecularLab/Documents/Anthopleura_genome/Alt-splicing-master/analyses/bar06_genome_meth_calls.tsv > /Users/MolecularLab/Documents/Anthopleura_genome/Alt-splicing-master/analyses/bar06_genome_meth_freq.tsv"
   ]
  },
  {
   "cell_type": "code",
   "execution_count": 390,
   "metadata": {
    "scrolled": true
   },
   "outputs": [
    {
     "name": "stdout",
     "output_type": "stream",
     "text": [
      "chromosome\tstart\tend\tnum_motifs_in_group\tcalled_sites\tcalled_sites_methylated\tmethylated_frequency\tgroup_sequence\r\n",
      "ctg101\t56\t56\t1\t1\t0\t0.000\tAGTACCGGAAG\r\n",
      "ctg101\t74\t74\t1\t32\t5\t0.156\tAAGGGCGAGGC\r\n",
      "ctg101\t160\t170\t2\t126\t40\t0.317\tCCTTGCGTTATTTTGCGATGG\r\n",
      "ctg101\t194\t194\t1\t19\t7\t0.368\tCAATACGCTAA\r\n",
      "ctg101\t290\t302\t3\t252\t18\t0.071\tAGATACGACGAGCATACCGGATA\r\n",
      "ctg101\t316\t324\t2\t8\t6\t0.750\tTACCCCGGGTCCCCGGATT\r\n",
      "ctg101\t370\t376\t2\t8\t0\t0.000\tTATTTCGCCAGCGAATT\r\n",
      "ctg101\t459\t459\t1\t2\t0\t0.000\tTTCCCCGTATA\r\n",
      "ctg101\t559\t569\t3\t3\t0\t0.000\tTTATTCGATACGAAGCGTGGA\r\n",
      "ctg101\t633\t633\t1\t49\t7\t0.143\tTTATCCGCTGG\r\n",
      "ctg101\t652\t662\t2\t106\t8\t0.075\tTTATACGTTGGATAGCGCTAT\r\n",
      "ctg101\t678\t686\t2\t8\t0\t0.000\tGCTATCGTACAACCGGCTC\r\n",
      "ctg101\t722\t726\t2\t4\t0\t0.000\tTATTACGAACGGCTT\r\n",
      "ctg101\t815\t815\t1\t2\t0\t0.000\tAGGGTCGTTGA\r\n",
      "ctg101\t891\t891\t1\t2\t0\t0.000\tGTTTCCGTATA\r\n",
      "ctg101\t906\t906\t1\t2\t0\t0.000\tAGTGGCGTGAT\r\n",
      "ctg101\t934\t934\t1\t111\t15\t0.135\tTTCCACGGAAC\r\n",
      "ctg101\t992\t992\t1\t201\t31\t0.154\tGAATGCGTCCT\r\n",
      "ctg101\t1012\t1012\t1\t204\t19\t0.093\tTTTTACGTATC\r\n",
      "ctg101\t1038\t1038\t1\t216\t28\t0.130\tGAAGACGAAAT\r\n",
      "ctg101\t1071\t1071\t1\t17\t2\t0.118\tGGATCCGCCAC\r\n",
      "ctg101\t1136\t1136\t1\t2\t0\t0.000\tCTGCACGACTC\r\n",
      "ctg101\t1215\t1215\t1\t6\t0\t0.000\tACCATCGTACA\r\n",
      "ctg101\t1269\t1269\t1\t5\t0\t0.000\tAAGGCCGCCAT\r\n",
      "ctg101\t1287\t1287\t1\t7\t0\t0.000\tCAGTGCGAGAT\r\n",
      "ctg101\t1339\t1339\t1\t7\t1\t0.143\tTGGAGCGTAAG\r\n",
      "ctg101\t1429\t1429\t1\t6\t0\t0.000\tGTGTTCGTGGA\r\n",
      "ctg101\t1445\t1445\t1\t8\t1\t0.125\tGACATCGAGGC\r\n",
      "ctg101\t1478\t1478\t1\t2\t0\t0.000\tGCTAACGGGTT\r\n",
      "ctg101\t1502\t1502\t1\t10\t0\t0.000\tGTTTTCGCTGG\r\n",
      "ctg101\t1613\t1613\t1\t4\t0\t0.000\tTATATCGTTTC\r\n",
      "ctg101\t1710\t1710\t1\t3\t0\t0.000\tCCTGACGTCAC\r\n",
      "ctg101\t1726\t1726\t1\t4\t0\t0.000\tCAACTCGGCCT\r\n",
      "ctg101\t1768\t1786\t4\t16\t0\t0.000\tGCACACGGTACGGCACGAGTTTTCGCATC\r\n",
      "ctg101\t1798\t1798\t1\t3\t0\t0.000\tAATCACGTAAC\r\n",
      "ctg101\t1850\t1850\t1\t2\t0\t0.000\tATTCACGAGGA\r\n",
      "ctg101\t1887\t1887\t1\t2\t0\t0.000\tTGTAGCGACAA\r\n",
      "ctg101\t1922\t1922\t1\t3\t2\t0.667\tCAACCCGAGTG\r\n",
      "ctg101\t1963\t1963\t1\t4\t0\t0.000\tGGAGGCGCACC\r\n",
      "ctg101\t1978\t1978\t1\t3\t0\t0.000\tCCAGTCGGCTA\r\n",
      "ctg101\t2266\t2276\t2\t8\t0\t0.000\tATATACGTAGCTAATCGAAAG\r\n",
      "ctg101\t2316\t2316\t1\t2\t1\t0.500\tCACACCGGCCT\r\n",
      "ctg101\t2455\t2455\t1\t1\t0\t0.000\tTATGGCGTTTT\r\n",
      "ctg101\t2499\t2499\t1\t3\t0\t0.000\tTGTAGCGATGG\r\n",
      "ctg101\t2580\t2580\t1\t4\t0\t0.000\tTAGATCGCATT\r\n",
      "ctg101\t2711\t2711\t1\t4\t0\t0.000\tACTAGCGATAG\r\n",
      "ctg101\t2778\t2778\t1\t4\t1\t0.250\tATAATCGGTAG\r\n",
      "ctg101\t2816\t2816\t1\t2\t0\t0.000\tTAAGCCGTTTT\r\n",
      "ctg101\t2827\t2827\t1\t3\t0\t0.000\tAGTGTCGCTCT\r\n",
      "ctg101\t2851\t2851\t1\t4\t1\t0.250\tACTAACGGTTA\r\n",
      "ctg101\t2884\t2896\t3\t12\t0\t0.000\tGGATTCGAAATCGAGGCCGACAC\r\n",
      "ctg101\t2908\t2908\t1\t3\t1\t0.333\tAAGAACGGCTG\r\n",
      "ctg101\t2965\t2972\t2\t4\t0\t0.000\tTATCCCGCTGACCGATAG\r\n",
      "ctg101\t3018\t3018\t1\t2\t0\t0.000\tTACTGCGCCAA\r\n",
      "ctg101\t3064\t3067\t2\t6\t2\t0.333\tTAATTCGGCGTATT\r\n",
      "ctg101\t3090\t3096\t2\t8\t0\t0.000\tGTGCACGAATCCGAAAG\r\n",
      "ctg101\t3124\t3124\t1\t4\t0\t0.000\tCACTACGAACA\r\n",
      "ctg101\t3212\t3212\t1\t1\t0\t0.000\tCTGCTCGAAAA\r\n",
      "ctg101\t3259\t3259\t1\t4\t0\t0.000\tTTGAGCGGTGG\r\n",
      "ctg101\t3366\t3366\t1\t2\t0\t0.000\tGTGTACGTGCT\r\n",
      "ctg101\t3378\t3380\t2\t8\t0\t0.000\tCACACCGCGCCCT\r\n",
      "ctg101\t3406\t3406\t1\t2\t0\t0.000\tTGCCTCGTTAT\r\n",
      "ctg101\t3421\t3428\t2\t6\t0\t0.000\tTAGTACGTCAAACGAGCC\r\n",
      "ctg101\t3445\t3445\t1\t3\t0\t0.000\tCATGGCGGGGA\r\n",
      "ctg101\t3465\t3465\t1\t4\t0\t0.000\tACACTCGAGCT\r\n",
      "ctg101\t3500\t3503\t2\t8\t0\t0.000\tCAGTTCGACGTTGG\r\n",
      "ctg101\t3536\t3536\t1\t3\t0\t0.000\tTACATCGGAGA\r\n",
      "ctg101\t3586\t3586\t1\t5\t0\t0.000\tGTTTTCGTACT\r\n",
      "ctg101\t3624\t3638\t4\t20\t0\t0.000\tTTTTGCGGACGTCTTGCGTCGTACT\r\n",
      "ctg101\t3656\t3656\t1\t3\t0\t0.000\tAGACACGTTTT\r\n",
      "ctg101\t3671\t3678\t3\t15\t0\t0.000\tCAGCTCGGCGCTCGATAA\r\n",
      "ctg101\t3697\t3697\t1\t5\t0\t0.000\tGGCAGCGAGTT\r\n",
      "ctg101\t3726\t3726\t1\t3\t0\t0.000\tCCTTTCGAGCA\r\n",
      "ctg101\t3749\t3758\t2\t8\t0\t0.000\tGCCAGCGAACTCTACGTGAA\r\n",
      "ctg101\t3776\t3779\t2\t10\t0\t0.000\tTCCTCCGTCGATTT\r\n",
      "ctg101\t3835\t3835\t1\t4\t0\t0.000\tTATGACGACAA\r\n",
      "ctg101\t3852\t3852\t1\t4\t0\t0.000\tGTTAGCGATAG\r\n",
      "ctg101\t4011\t4011\t1\t4\t0\t0.000\tTCATACGAGCC\r\n",
      "ctg101\t4028\t4028\t1\t4\t0\t0.000\tATTGACGACAT\r\n",
      "ctg101\t4089\t4089\t1\t3\t0\t0.000\tTTTCTCGTTAC\r\n",
      "ctg101\t4121\t4121\t1\t4\t0\t0.000\tTTCAACGCTAA\r\n",
      "ctg101\t4249\t4249\t1\t6\t0\t0.000\tTTTTTCGAGTA\r\n",
      "ctg101\t4272\t4272\t1\t5\t0\t0.000\tGTACTCGAGAC\r\n",
      "ctg101\t4294\t4294\t1\t5\t0\t0.000\tAACTACGAAGA\r\n",
      "ctg101\t4331\t4331\t1\t4\t1\t0.250\tTATCACGTAGT\r\n",
      "ctg101\t4350\t4350\t1\t5\t0\t0.000\tTTAATCGGTCA\r\n",
      "ctg101\t4443\t4443\t1\t4\t0\t0.000\tGTGTGCGGGAT\r\n",
      "ctg101\t4995\t4995\t1\t6\t6\t1.000\tTGCATCGAGAC\r\n",
      "ctg101\t5105\t5105\t1\t4\t4\t1.000\tGGTATCGCCAC\r\n",
      "ctg101\t5143\t5143\t1\t2\t0\t0.000\tTGATTCGAACA\r\n",
      "ctg101\t5217\t5217\t1\t6\t6\t1.000\tAGATTCGAATC\r\n",
      "ctg101\t5704\t5704\t1\t4\t4\t1.000\tTGACTCGTTTT\r\n",
      "ctg101\t6009\t6009\t1\t7\t4\t0.571\tAAAAGCGTCTC\r\n",
      "ctg101\t6039\t6039\t1\t6\t6\t1.000\tTTTGGCGAACT\r\n",
      "ctg101\t6086\t6086\t1\t4\t4\t1.000\tGTCAGCGGCAG\r\n",
      "ctg101\t6444\t6444\t1\t3\t2\t0.667\tCATCACGATGT\r\n",
      "ctg101\t6494\t6494\t1\t5\t4\t0.800\tACTAGCGATTT\r\n",
      "ctg101\t7587\t7587\t1\t2\t2\t1.000\tGCTTTCGAGAT\r\n",
      "ctg101\t7726\t7726\t1\t2\t2\t1.000\tCTAAGCGAGTT\r\n"
     ]
    }
   ],
   "source": [
    "!head -100 /Users/dimondj2/Documents/Alt-splicing-master/analyses/bar05_methylation_freq.tsv"
   ]
  },
  {
   "cell_type": "code",
   "execution_count": null,
   "metadata": {
    "collapsed": true
   },
   "outputs": [],
   "source": []
  }
 ],
 "metadata": {
  "kernelspec": {
   "display_name": "Python 2",
   "language": "python",
   "name": "python2"
  },
  "language_info": {
   "codemirror_mode": {
    "name": "ipython",
    "version": 2
   },
   "file_extension": ".py",
   "mimetype": "text/x-python",
   "name": "python",
   "nbconvert_exporter": "python",
   "pygments_lexer": "ipython2",
   "version": "2.7.13"
  }
 },
 "nbformat": 4,
 "nbformat_minor": 2
}
