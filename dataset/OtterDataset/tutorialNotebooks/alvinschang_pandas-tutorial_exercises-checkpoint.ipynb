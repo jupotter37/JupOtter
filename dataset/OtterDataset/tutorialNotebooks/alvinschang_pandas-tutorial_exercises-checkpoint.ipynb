{
 "cells": [
  {
   "cell_type": "markdown",
   "id": "d5194d90-aac0-4015-81e3-cef200dfdd59",
   "metadata": {},
   "source": [
    "# Exercises\n",
    "\n",
    "Use this file to practice."
   ]
  },
  {
   "cell_type": "markdown",
   "id": "0c567272-d1a9-40a8-9f95-ea96f0cda536",
   "metadata": {},
   "source": [
    "### Creating text\n",
    "\n",
    "Create a cell below this one. Write a bullet-pointed list of your favorite animals."
   ]
  },
  {
   "cell_type": "markdown",
   "id": "730eb4c0-36f5-47e2-8a30-fbb21a356674",
   "metadata": {},
   "source": [
    "### Importing Pandas\n",
    "\n",
    "In the code cell below, import pandas. \n",
    "\n",
    "Answer: `import pandas as pd`"
   ]
  },
  {
   "cell_type": "code",
   "execution_count": null,
   "id": "2bc21381-4edc-4e13-bb5e-1d9925cf3035",
   "metadata": {},
   "outputs": [],
   "source": []
  },
  {
   "cell_type": "markdown",
   "id": "b6558075-67bd-40f2-829d-5ffa57139680",
   "metadata": {},
   "source": [
    "### Reading in data\n",
    "\n",
    "In the code cell below, read the dataset from the following URL into a variable called `df`. \n",
    "\n",
    "> https://raw.githubusercontent.com/alvinschang/pandas-tutorial/main/titanic_data.csv\n",
    "\n",
    "Answer: `pd.read_csv(\"https://raw.githubusercontent.com/alvinschang/pandas-tutorial/main/titanic_data.csv\")`"
   ]
  },
  {
   "cell_type": "code",
   "execution_count": null,
   "id": "aaa8d7b6-c76d-45e9-8f3a-6f98a2ee379c",
   "metadata": {},
   "outputs": [],
   "source": []
  },
  {
   "cell_type": "markdown",
   "id": "044aa2a9-a0a2-4c26-886f-310c9d9e373c",
   "metadata": {},
   "source": [
    "### Summarizing data\n",
    "\n",
    "Try using various functions on your dataframe `df` including...\n",
    "\n",
    "* info()\n",
    "* describe()\n",
    "* sum()\n",
    "* min()\n",
    "* max()\n",
    "* mean()\n",
    "* median()\n",
    "\n",
    "What is the average `fare` price?\n",
    "\n",
    "Answer:\n",
    "\n",
    "* `df[\"fare\"].mean()`"
   ]
  },
  {
   "cell_type": "code",
   "execution_count": null,
   "id": "c7871c73-b606-4f74-b037-f22b90d7ee84",
   "metadata": {},
   "outputs": [],
   "source": []
  },
  {
   "cell_type": "markdown",
   "id": "e19a5914-9533-4a66-b8ab-d3f5035eff14",
   "metadata": {},
   "source": [
    "### Grouping\n",
    "\n",
    "Trying using the `.groupby()` function.\n",
    "\n",
    "What is the average `fare` price by `pclass`. \n",
    "\n",
    "Answer:\n",
    "\n",
    "* `df.groupby(\"pclass\")[[\"fare\"]].mean()`"
   ]
  },
  {
   "cell_type": "code",
   "execution_count": null,
   "id": "61785d0f-1968-4c17-a42b-754acdaaf17d",
   "metadata": {},
   "outputs": [],
   "source": []
  },
  {
   "cell_type": "markdown",
   "id": "e4a7d5fe-591f-4c0e-a378-d6847162b971",
   "metadata": {},
   "source": [
    "### Charting\n",
    "\n",
    "Make a bar chart of the average `fare` by `pclass`. \n",
    "\n",
    "Answer: \n",
    "\n",
    "* First try `df.groupby(\"pclass\")[[\"fare\"]].mean().plot()`\n",
    "* Then try `df.groupby(\"pclass\")[[\"fare\"]].mean().plot(kind=\"bar\")`"
   ]
  },
  {
   "cell_type": "code",
   "execution_count": null,
   "id": "52e7f193-18e1-46ba-bb0c-c5e08e884bb3",
   "metadata": {},
   "outputs": [],
   "source": []
  },
  {
   "cell_type": "markdown",
   "id": "8528f371-ce11-4aef-a813-34daf5de734e",
   "metadata": {},
   "source": [
    "### Slightly more advanced charting\n",
    "\n",
    "Make a scatterplot of each passenger. Put `pclass` on the x-axis and `age` on the y-axis.\n",
    "\n",
    "Answer:\n",
    "\n",
    "* First try `df.plot(x=\"pclass\",y=\"age\",kind=\"scatter\")`\n",
    "* Then try `df.plot(x=\"pclass\",y=\"age\",kind=\"scatter\", alpha=0.02, s=100, figsize=(10,6), xticks=[1,2,3])`"
   ]
  },
  {
   "cell_type": "code",
   "execution_count": null,
   "id": "cb1eef11-4cf4-4bdc-877c-2c59b6082275",
   "metadata": {},
   "outputs": [],
   "source": []
  },
  {
   "cell_type": "markdown",
   "id": "001164e2-b7fa-48eb-b3aa-498e04f83b17",
   "metadata": {},
   "source": [
    "### Homework\n",
    "\n",
    "What was a passenger's survival rate based on their pclass? Find the answer and then chart it."
   ]
  },
  {
   "cell_type": "code",
   "execution_count": null,
   "id": "688e2099-e734-4aa9-9e0d-398474379457",
   "metadata": {},
   "outputs": [],
   "source": []
  }
 ],
 "metadata": {
  "kernelspec": {
   "display_name": "Python 3 (ipykernel)",
   "language": "python",
   "name": "python3"
  },
  "language_info": {
   "codemirror_mode": {
    "name": "ipython",
    "version": 3
   },
   "file_extension": ".py",
   "mimetype": "text/x-python",
   "name": "python",
   "nbconvert_exporter": "python",
   "pygments_lexer": "ipython3",
   "version": "3.9.12"
  }
 },
 "nbformat": 4,
 "nbformat_minor": 5
}
