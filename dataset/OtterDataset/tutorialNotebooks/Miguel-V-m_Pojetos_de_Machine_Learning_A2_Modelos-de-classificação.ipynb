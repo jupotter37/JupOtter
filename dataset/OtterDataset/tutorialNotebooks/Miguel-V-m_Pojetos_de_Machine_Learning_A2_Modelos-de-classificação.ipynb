{
 "cells": [
  {
   "cell_type": "markdown",
   "id": "4f6c53b5",
   "metadata": {},
   "source": [
    "# <font color='DarkRed'>**Construindo modelos de classificação**\n",
    "    \n",
    "<font color='DarkSlateGray'>**Hora de construir nossos classificadores de sentimentos! Estaremos \"vetorizando\" nossos dados de texto antes de passá-los para nosso modelo. Precisamos vetorizar nossos dados por motivos semelhantes aos de ASCII e Unicode. As máquinas não entendem letras e palavras, mas os valores numéricos são o pão com manteiga.** \n",
    "    \n",
    "<font color='DarkSlateGray'>**Começaremos analisando 5 modelos:**   \n",
    "    \n",
    "- <font color='DarkSlateGray'>**Random Forests**\n",
    "- <font color='DarkSlateGray'>**Naïve Bayes** \n",
    "- <font color='DarkSlateGray'>**K-Nearest Neighbors** \n",
    "- <font color='DarkSlateGray'>**Logistic regression** \n",
    "- <font color='DarkSlateGray'>**Support Vector Machines (Linear SVC)**    "
   ]
  },
  {
   "cell_type": "code",
   "execution_count": 1,
   "id": "e717a996",
   "metadata": {},
   "outputs": [],
   "source": [
    "# Bibliotecas padrão\n",
    "import re\n",
    "import csv\n",
    "import nltk\n",
    "import spacy\n",
    "import string\n",
    "import numpy as np\n",
    "import pandas as pd\n",
    "import seaborn as sns\n",
    "import matplotlib.pyplot as plt \n",
    "from tqdm.auto import tqdm\n",
    "import itertools\n",
    "\n",
    "# Estilo: algumas bibliotecas extras\n",
    "import matplotlib.style as style \n",
    "sns.set(font_scale=1.5)\n",
    "style.use('seaborn-pastel')\n",
    "style.use('seaborn-poster')\n",
    "from PIL import Image\n",
    "from wordcloud import WordCloud #!pip install wordcloud\n",
    "from sklearn.feature_extraction.text import CountVectorizer   \n",
    "from sklearn.feature_extraction.text import TfidfVectorizer\n",
    "from sklearn.feature_extraction.text import TfidfTransformer \n",
    "from sklearn.model_selection import train_test_split, RandomizedSearchCV\n",
    "from sklearn.model_selection import KFold\n",
    "from sklearn.model_selection import cross_val_score\n",
    "\n",
    "# Construindo modelos de classificação\n",
    "from sklearn.svm import LinearSVC\n",
    "from sklearn.pipeline import Pipeline\n",
    "from sklearn.naive_bayes import MultinomialNB\n",
    "from sklearn.neighbors import KNeighborsClassifier\n",
    "from sklearn.ensemble import RandomForestClassifier\n",
    "from sklearn.linear_model import LogisticRegression\n",
    "\n",
    "# Avaliação do modelo\n",
    "from sklearn import metrics\n",
    "from sklearn.metrics import confusion_matrix, f1_score, precision_score, recall_score\n",
    "from sklearn.metrics import accuracy_score, classification_report"
   ]
  },
  {
   "cell_type": "code",
   "execution_count": 2,
   "id": "5b1dcb5b",
   "metadata": {},
   "outputs": [],
   "source": [
    "#importar conjunto de dados\n",
    "df3 = pd.read_csv('twitter_sentiment_data.csv', sep=',', encoding='iso-8859-1')\n",
    "# encoding: codificação de caracteres, normalmente utiliza-se o iso-8859-1, utf-8, latin-1)"
   ]
  },
  {
   "cell_type": "code",
   "execution_count": 3,
   "id": "1baef717",
   "metadata": {},
   "outputs": [
    {
     "data": {
      "text/html": [
       "<div>\n",
       "<style scoped>\n",
       "    .dataframe tbody tr th:only-of-type {\n",
       "        vertical-align: middle;\n",
       "    }\n",
       "\n",
       "    .dataframe tbody tr th {\n",
       "        vertical-align: top;\n",
       "    }\n",
       "\n",
       "    .dataframe thead th {\n",
       "        text-align: right;\n",
       "    }\n",
       "</style>\n",
       "<table border=\"1\" class=\"dataframe\">\n",
       "  <thead>\n",
       "    <tr style=\"text-align: right;\">\n",
       "      <th></th>\n",
       "      <th>sentiment</th>\n",
       "      <th>message</th>\n",
       "      <th>tweetid</th>\n",
       "    </tr>\n",
       "  </thead>\n",
       "  <tbody>\n",
       "    <tr>\n",
       "      <th>0</th>\n",
       "      <td>-1</td>\n",
       "      <td>@tiniebeany climate change is an interesting h...</td>\n",
       "      <td>792927353886371840</td>\n",
       "    </tr>\n",
       "    <tr>\n",
       "      <th>1</th>\n",
       "      <td>1</td>\n",
       "      <td>RT @NatGeoChannel: Watch #BeforeTheFlood right...</td>\n",
       "      <td>793124211518832641</td>\n",
       "    </tr>\n",
       "    <tr>\n",
       "      <th>2</th>\n",
       "      <td>1</td>\n",
       "      <td>Fabulous! Leonardo #DiCaprio's film on #climat...</td>\n",
       "      <td>793124402388832256</td>\n",
       "    </tr>\n",
       "    <tr>\n",
       "      <th>3</th>\n",
       "      <td>1</td>\n",
       "      <td>RT @Mick_Fanning: Just watched this amazing do...</td>\n",
       "      <td>793124635873275904</td>\n",
       "    </tr>\n",
       "    <tr>\n",
       "      <th>4</th>\n",
       "      <td>2</td>\n",
       "      <td>RT @cnalive: Pranita Biswasi, a Lutheran from ...</td>\n",
       "      <td>793125156185137153</td>\n",
       "    </tr>\n",
       "  </tbody>\n",
       "</table>\n",
       "</div>"
      ],
      "text/plain": [
       "   sentiment                                            message  \\\n",
       "0         -1  @tiniebeany climate change is an interesting h...   \n",
       "1          1  RT @NatGeoChannel: Watch #BeforeTheFlood right...   \n",
       "2          1  Fabulous! Leonardo #DiCaprio's film on #climat...   \n",
       "3          1  RT @Mick_Fanning: Just watched this amazing do...   \n",
       "4          2  RT @cnalive: Pranita Biswasi, a Lutheran from ...   \n",
       "\n",
       "              tweetid  \n",
       "0  792927353886371840  \n",
       "1  793124211518832641  \n",
       "2  793124402388832256  \n",
       "3  793124635873275904  \n",
       "4  793125156185137153  "
      ]
     },
     "execution_count": 3,
     "metadata": {},
     "output_type": "execute_result"
    }
   ],
   "source": [
    "df3.head()"
   ]
  },
  {
   "cell_type": "markdown",
   "id": "87e3e37e",
   "metadata": {},
   "source": [
    "### <font color='OrangeRed'>**Divisão de validação(teste) e de treino**\n",
    "    \n",
    "<font color='DarkSlateGray'>**Como em todas as tarefas de Aprendizado Supervisionado, precisamos dividir nossos dados em (pelo menos) conjuntos de Treinamento e Validação(teste). Normalmente, os dados serão fornecidos a você como conjuntos de treinamento e teste; mas no nosso caso, temos um CSV enorme, então precisamos fazer essa divisão nós mesmos. Essas divisões nos permitem treinar nosso modelo, mas também nos dão a capacidade de testar seu desempenho em dados que não deveriam ter visto. Esto nos permitirá evaluar el rendimiento de nuestro modelo y elegir el mejor modelo para usar en nuestro envío.**  "
   ]
  },
  {
   "cell_type": "code",
   "execution_count": 27,
   "id": "90e0a4f9",
   "metadata": {},
   "outputs": [],
   "source": [
    "X = df3['message']\n",
    "y = df3['sentiment'] #alvo\n",
    "#x_treino, x_teste, y_treino, y_teste = train_test_split(previsores, alvo, test_size = 0.3, random_state = 0)\n",
    "X_treino, X_teste, y_treino, y_teste = train_test_split(X, y, test_size=0.3, random_state=42)"
   ]
  },
  {
   "cell_type": "markdown",
   "id": "d024805e",
   "metadata": {},
   "source": [
    "### <font color='OrangeRed'>**Pipelines**\n",
    "    \n",
    "<font color='DarkSlateGray'>**Os pipelines consistem em 2 etapas, vetorização e ajuste do modelo.** \n",
    "    \n",
    "<font color='DarkSlateGray'>**As máquinas, ao contrário dos humanos, não podem entender o texto bruto. As máquinas só podem ver números. Particularmente, técnicas estatísticas como aprendizado de máquina só podem lidar com números. Portanto, precisamos converter nosso texto em números.**\n",
    "    \n",
    "<font color='OrangeRed'>**O que é TFIDF?** \n",
    "    \n",
    "<font color='DarkSlateGray'>**Essencialmente, ele atribui pontuações de frequência de palavras. Essas pontuações tentam destacar palavras de maior interesse – você pode obter essa ideia analisando a frequência no documento versus a frequência em todos os documentos. O vetorizador TFIDF atribui pontuações de frequência de palavras que tentam destacar palavras que são mais interessantes, por exemplo, freqüente em um documento, mas não em todos os documentos. O TfidfVectorizer tokenizará documentos, aprenderá o vocabulário e as ponderações de frequência de documentos inversas e permitirá que você codifique novos documentos. Outra vantagem deste método é que os vetores resultantes já estão dimensionados.** \n",
    "    \n",
    "https://scikit-learn.org/stable/modules/generated/sklearn.feature_extraction.text.TfidfVectorizer.html\n",
    "    \n",
    "https://scikit-learn.org/stable/modules/generated/sklearn.feature_extraction.text.CountVectorizer.html    "
   ]
  },
  {
   "cell_type": "markdown",
   "id": "48880021",
   "metadata": {},
   "source": [
    "# <font color='DarkRed'>**RANDOM FOREST**\n",
    "    \n",
    "https://scikit-learn.org/stable/modules/generated/sklearn.ensemble.RandomForestClassifier.html   \n",
    "    \n",
    "https://scikit-learn.org/stable/modules/generated/sklearn.pipeline.Pipeline.html#sklearn.pipeline.Pipeline       "
   ]
  },
  {
   "cell_type": "code",
   "execution_count": 5,
   "id": "d0aca3e8",
   "metadata": {},
   "outputs": [],
   "source": [
    "# random = RandomForestClassifier(n_estimators=150, criterion='entropy', random_state = 0, max_depth=4)\n",
    "# random.fit(x_treino, y_treino)\n",
    "# previsoes_random = random.predict(x_teste)\n",
    "# previsoes_random\n",
    "# clf=classifier\n",
    "# https://towardsdatascience.com/the-triune-pipeline-for-three-major-transformers-in-nlp-18c14e20530\n",
    "rf = Pipeline([('tfidf', TfidfVectorizer()),('modelo', RandomForestClassifier(max_depth=5,n_estimators=100,\n",
    "                                                                           criterion='entropy',random_state = 5))])\n",
    "rf.fit(X_treino, y_treino)\n",
    "y_pred_rf = rf.predict(X_teste)"
   ]
  },
  {
   "cell_type": "code",
   "execution_count": 6,
   "id": "6925b92d",
   "metadata": {},
   "outputs": [
    {
     "name": "stdout",
     "output_type": "stream",
     "text": [
      "Acurácia: 52.14%\n"
     ]
    }
   ],
   "source": [
    "print(\"Acurácia: %.2f%%\" % (accuracy_score(y_teste, y_pred_rf) * 100.0))"
   ]
  },
  {
   "cell_type": "code",
   "execution_count": 7,
   "id": "93f47cb1",
   "metadata": {},
   "outputs": [
    {
     "data": {
      "text/plain": [
       "array([[   0,    0, 1137,    0],\n",
       "       [   0,    0, 2396,    0],\n",
       "       [   0,    0, 6874,    0],\n",
       "       [   0,    0, 2776,    0]])"
      ]
     },
     "execution_count": 7,
     "metadata": {},
     "output_type": "execute_result"
    }
   ],
   "source": [
    "Matriz_confusao=confusion_matrix(y_teste, y_pred_rf)\n",
    "Matriz_confusao"
   ]
  },
  {
   "cell_type": "code",
   "execution_count": 8,
   "id": "bb03911d",
   "metadata": {},
   "outputs": [
    {
     "name": "stdout",
     "output_type": "stream",
     "text": [
      "              precision    recall  f1-score   support\n",
      "\n",
      "          -1       0.00      0.00      0.00      1137\n",
      "           0       0.00      0.00      0.00      2396\n",
      "           1       0.52      1.00      0.69      6874\n",
      "           2       0.00      0.00      0.00      2776\n",
      "\n",
      "    accuracy                           0.52     13183\n",
      "   macro avg       0.13      0.25      0.17     13183\n",
      "weighted avg       0.27      0.52      0.36     13183\n",
      "\n"
     ]
    },
    {
     "name": "stderr",
     "output_type": "stream",
     "text": [
      "/home/miguel/anaconda3/lib/python3.9/site-packages/sklearn/metrics/_classification.py:1248: UndefinedMetricWarning: Precision and F-score are ill-defined and being set to 0.0 in labels with no predicted samples. Use `zero_division` parameter to control this behavior.\n",
      "  _warn_prf(average, modifier, msg_start, len(result))\n",
      "/home/miguel/anaconda3/lib/python3.9/site-packages/sklearn/metrics/_classification.py:1248: UndefinedMetricWarning: Precision and F-score are ill-defined and being set to 0.0 in labels with no predicted samples. Use `zero_division` parameter to control this behavior.\n",
      "  _warn_prf(average, modifier, msg_start, len(result))\n",
      "/home/miguel/anaconda3/lib/python3.9/site-packages/sklearn/metrics/_classification.py:1248: UndefinedMetricWarning: Precision and F-score are ill-defined and being set to 0.0 in labels with no predicted samples. Use `zero_division` parameter to control this behavior.\n",
      "  _warn_prf(average, modifier, msg_start, len(result))\n"
     ]
    }
   ],
   "source": [
    "print(classification_report(y_teste, y_pred_rf))"
   ]
  },
  {
   "cell_type": "markdown",
   "id": "ff49f1f1",
   "metadata": {},
   "source": [
    "### <font color='OrangeRed'>**Análise dados de treino**"
   ]
  },
  {
   "cell_type": "code",
   "execution_count": 9,
   "id": "217a24e1",
   "metadata": {},
   "outputs": [
    {
     "data": {
      "text/plain": [
       "array([1, 1, 1, ..., 1, 1, 1])"
      ]
     },
     "execution_count": 9,
     "metadata": {},
     "output_type": "execute_result"
    }
   ],
   "source": [
    "previsoes_treino = rf.predict(X_treino)\n",
    "previsoes_treino"
   ]
  },
  {
   "cell_type": "code",
   "execution_count": 10,
   "id": "cb720037",
   "metadata": {},
   "outputs": [
    {
     "name": "stdout",
     "output_type": "stream",
     "text": [
      "Acurácia: 52.30%\n"
     ]
    }
   ],
   "source": [
    "print(\"Acurácia: %.2f%%\" % (accuracy_score(y_treino, previsoes_treino) * 100.0))\n",
    "#accuracy_score(y_treino, previsoes_treino)"
   ]
  },
  {
   "cell_type": "markdown",
   "id": "595b720f",
   "metadata": {},
   "source": [
    "### <font color='OrangeRed'>**Validação Cruzada**"
   ]
  },
  {
   "cell_type": "code",
   "execution_count": 11,
   "id": "f7931118",
   "metadata": {},
   "outputs": [],
   "source": [
    "kfold = KFold(n_splits = 30, shuffle=True, random_state = 5)"
   ]
  },
  {
   "cell_type": "code",
   "execution_count": 12,
   "id": "edf3ab27",
   "metadata": {},
   "outputs": [
    {
     "name": "stdout",
     "output_type": "stream",
     "text": [
      "Acurácia Média: 52.25%\n"
     ]
    }
   ],
   "source": [
    "# tfidf = TfidfVectorizer()\n",
    "# newx=tfidf.fit_transform(X)\n",
    "# Criando o modelo\n",
    "#modelo = RandomForestClassifier(n_estimators=100, criterion='entropy', random_state = 5, max_depth=5)\n",
    "#resultado = cross_val_score(modelo, newx, y, cv = kfold)\n",
    "# cross_val_score(rf=random forest, X, y, cv = kfold)\n",
    "resultadorf = cross_val_score(rf, X, y, cv = kfold)\n",
    "\n",
    "# Usamos a média e o desvio padrão\n",
    "print(\"Acurácia Média: %.2f%%\" % (resultadorf.mean() * 100.0))"
   ]
  },
  {
   "cell_type": "code",
   "execution_count": 13,
   "id": "78a83378",
   "metadata": {},
   "outputs": [
    {
     "data": {
      "image/png": "[encoded data removed]",
      "text/plain": [
       "<Figure size 921.6x633.6 with 2 Axes>"
      ]
     },
     "metadata": {},
     "output_type": "display_data"
    }
   ],
   "source": [
    "# Gera uma matriz de confusão=cm normalizada\n",
    "cm = confusion_matrix(y_teste, y_pred_rf)\n",
    "cm_norm = cm / cm.sum(axis=1).reshape(-1,1)\n",
    "\n",
    "# Display the confusion matrix as a heatmap\n",
    "sns.heatmap(cm_norm,cmap=\"YlGnBu\",xticklabels=rf.classes_,yticklabels=rf.classes_,vmin=0.,vmax=1.,annot=True, \n",
    "            annot_kws={'size':10})\n",
    "\n",
    "# Adding headings and lables\n",
    "plt.title('Classificação de Random forest')\n",
    "plt.ylabel('True label')\n",
    "plt.xlabel('Predicted label')\n",
    "plt.show()"
   ]
  },
  {
   "cell_type": "markdown",
   "id": "29c2193d",
   "metadata": {},
   "source": [
    "### <font color='OrangeRed'>**Observações:**\n",
    "    \n",
    "- <font color='Navy'>**Na Matriz de Confusão acima, podemos ver que o modelo prevê estritamente o sentimento Pro. Isso provavelmente se deve ao equilíbrio dos dados, mas como não testamos isso, não podemos concluir isso. Notamos que o modelo de classificação de floresta aleatória faz um trabalho muito ruim em nosso conjunto de dados. O modelo classifica todos os tweets como tweets pró mudanças climáticas.** \n",
    "- <font color='Navy'>**Isso resulta em pontuações de precisão, recall e F1 de zero para as classes anti, neutra e de notícias.**   \n",
    "- <font color='Navy'>**Os métodos baseados em árvore são propensos a overfitting em dados desequilibrados, como o que temos. No entanto, poderíamos re-amostrar potencialmente para que os dados de treinamento tenham uma distribuição mais uniforme de cada sentimento para testar se esse é realmente o problema com nosso RandomForestClassifier.**   \n",
    "- <font color='Navy'>**A pontuação geral da F1 é de 0,52. Esta é uma pontuação relativamente alta para um modelo que simplesmente classifica todos os tweets em uma única classe. Essa pontuação só poderia ser alcançada porque a maioria dos tweets são de fato pró-mudanças climáticas.**"
   ]
  },
  {
   "cell_type": "markdown",
   "id": "7970631c",
   "metadata": {},
   "source": [
    "# <font color='DarkRed'>**Naïve Bayes**\n",
    "    \n",
    "<font color='DarkSlateGray'>**Naive Bayes é um algoritmo de classificação que usa o princípio do teorema de Bayes para fazer classificações e assume que as variáveis independentes são estatisticamente independentes umas das outras.**\n",
    "    \n",
    "<font color='OrangeRed'>**Teorema de Bayes**:\n",
    "\n",
    "<font color='Navy'>**$$ P(A \\mid B) = \\frac{P(B \\mid A) * P(A)}{P(B)}$$**  \n",
    "    \n",
    "* <font color='DarkSlateGray'>**P(A|B) é a probabilidade posterior da classe (A, alvo) determinado preditor (B, atributos).**  \n",
    "* <font color='DarkSlateGray'>**P(A) é a probabilidade anterior da classe.**\n",
    "* <font color='DarkSlateGray'>**P(B|A) é a probabilidade que é a probabilidade da classe preditora dada.**\n",
    "\n",
    "* <font color='DarkSlateGray'>**P(B) é a probabilidade anterior do preditor.**\n",
    "\n",
    "<font color='DarkSlateGray'>**Naive Bayes tem 3 métodos de classificação**\n",
    "\n",
    "<font color='DarkRed'>**Gaussian** : \n",
    "<font color='DarkSlateGray'>**É usado na classificação e assume que as características seguem uma distribuição normal.**\n",
    "\n",
    "<font color='DarkRed'>**Bernoulli** : \n",
    "<font color='DarkSlateGray'>**O modelo binomial é útil se seus vetores de recursos são binários (ou seja, zeros e uns). Uma aplicação seria a classificação de texto com um modelo de 'saco de palavras' onde os 1s e 0s são “a palavra ocorre no documento” e “a palavra não ocorre no documento”, respectivamente.**\n",
    "\n",
    "<font color='DarkRed'>**Multinomial** : \n",
    "<font color='DarkSlateGray'>**Se utiliza para conteos discretos. Por ejemplo, digamos que tenemos un problema de clasificación de texto. Aquí podemos considerar los ensayos de Bernoulli, que es un paso más allá y en lugar de \"palabra que aparece en el documento\", tenemos \"contar con qué frecuencia aparece la palabra en el documento\", puede pensar en ello como \"número de veces que se observa el resultado número x_i sobre los n ensayos”.**\n",
    "\n",
    "<font color='DarkSlateGray'>**Usaremos el método multinomial.**  \n",
    "    \n",
    "https://scikit-learn.org/stable/modules/naive_bayes.html    "
   ]
  },
  {
   "cell_type": "code",
   "execution_count": 14,
   "id": "ee10bb04",
   "metadata": {},
   "outputs": [],
   "source": [
    "nb = Pipeline([('tfidf', TfidfVectorizer()),('modelo', MultinomialNB())])\n",
    "nb.fit(X_treino, y_treino)\n",
    "y_pred_nb = nb.predict(X_teste)"
   ]
  },
  {
   "cell_type": "code",
   "execution_count": 15,
   "id": "efb4d55a",
   "metadata": {},
   "outputs": [
    {
     "name": "stdout",
     "output_type": "stream",
     "text": [
      "Acurácia: 57.76%\n"
     ]
    }
   ],
   "source": [
    "print(\"Acurácia: %.2f%%\" % (accuracy_score(y_teste, y_pred_nb) * 100.0))"
   ]
  },
  {
   "cell_type": "code",
   "execution_count": 16,
   "id": "a2a65730",
   "metadata": {},
   "outputs": [
    {
     "name": "stdout",
     "output_type": "stream",
     "text": [
      "              precision    recall  f1-score   support\n",
      "\n",
      "          -1       1.00      0.01      0.02      1137\n",
      "           0       1.00      0.05      0.10      2396\n",
      "           1       0.55      1.00      0.71      6874\n",
      "           2       0.93      0.23      0.36      2776\n",
      "\n",
      "    accuracy                           0.58     13183\n",
      "   macro avg       0.87      0.32      0.30     13183\n",
      "weighted avg       0.75      0.58      0.47     13183\n",
      "\n"
     ]
    }
   ],
   "source": [
    "# print(metrics.classification_report(y_teste, y_pred_nb))\n",
    "print(classification_report(y_teste, y_pred_nb))"
   ]
  },
  {
   "cell_type": "markdown",
   "id": "989c757b",
   "metadata": {},
   "source": [
    "### <font color='OrangeRed'>**Análise dados de treino**"
   ]
  },
  {
   "cell_type": "code",
   "execution_count": 17,
   "id": "a44e00ff",
   "metadata": {},
   "outputs": [],
   "source": [
    "previsoes_treino = nb.predict(X_treino)"
   ]
  },
  {
   "cell_type": "code",
   "execution_count": 18,
   "id": "20b9e9ae",
   "metadata": {},
   "outputs": [
    {
     "name": "stdout",
     "output_type": "stream",
     "text": [
      "Acurácia: 63.17%\n"
     ]
    }
   ],
   "source": [
    "print(\"Acurácia: %.2f%%\" % (accuracy_score(y_treino, previsoes_treino) * 100.0))\n",
    "#accuracy_score(y_treino, previsoes_treino)"
   ]
  },
  {
   "cell_type": "markdown",
   "id": "24848953",
   "metadata": {},
   "source": [
    "### <font color='OrangeRed'>**Validação Cruzada**"
   ]
  },
  {
   "cell_type": "code",
   "execution_count": 19,
   "id": "420f2d5c",
   "metadata": {},
   "outputs": [],
   "source": [
    "# Separando os dados em folds\n",
    "kfold = KFold(n_splits = 30, shuffle=True, random_state = 5)"
   ]
  },
  {
   "cell_type": "code",
   "execution_count": 27,
   "id": "971ee9e1",
   "metadata": {},
   "outputs": [],
   "source": [
    "# tfidf = TfidfVectorizer()\n",
    "# newx=tfidf.fit_transform(X)\n",
    "# # Criando o modelo\n",
    "# modelo = MultinomialNB()\n",
    "# resultadoNB = cross_val_score(modelo, newx, y, cv = kfold)\n",
    "resultadoNB = cross_val_score(nb, X, y, cv = kfold)"
   ]
  },
  {
   "cell_type": "code",
   "execution_count": 28,
   "id": "5cf14009",
   "metadata": {},
   "outputs": [
    {
     "name": "stdout",
     "output_type": "stream",
     "text": [
      "Acurácia Média: 58.60%\n"
     ]
    }
   ],
   "source": [
    "# Usamos a média e o desvio padrão\n",
    "print(\"Acurácia Média: %.2f%%\" % (resultadoNB.mean() * 100.0))"
   ]
  },
  {
   "cell_type": "markdown",
   "id": "dd99baa0",
   "metadata": {},
   "source": [
    "### <font color='OrangeRed'>**Matriz de Confusão:**"
   ]
  },
  {
   "cell_type": "code",
   "execution_count": 29,
   "id": "e6875870",
   "metadata": {},
   "outputs": [
    {
     "data": {
      "image/png": "[encoded data removed]",
      "text/plain": [
       "<Figure size 921.6x633.6 with 2 Axes>"
      ]
     },
     "metadata": {},
     "output_type": "display_data"
    }
   ],
   "source": [
    "#Gerar uma matriz de confusão normalizada\n",
    "cm = confusion_matrix(y_teste, y_pred_nb)\n",
    "cm_norm = cm / cm.sum(axis=1).reshape(-1,1)\n",
    "\n",
    "#Mostra a matriz de confusão como um mapa de calor\n",
    "sns.heatmap(cm_norm,cmap=\"YlGnBu\",xticklabels=nb.classes_,yticklabels=nb.classes_,vmin=0.,vmax=1.,annot=True, \n",
    "            annot_kws={'size':10})\n",
    "\n",
    "# Adicionando títulos e rótulos\n",
    "plt.title('Classificação Naive Bayes')\n",
    "plt.ylabel('True label')\n",
    "plt.xlabel('Predicted label')\n",
    "plt.show()"
   ]
  },
  {
   "cell_type": "markdown",
   "id": "79c57a50",
   "metadata": {},
   "source": [
    "### <font color='OrangeRed'>**Observações:**\n",
    "    \n",
    "- <font color='DarkSlateGray'>**Embora o modelo Naive Bayes seja uma pequena melhoria em relação ao modelo de floresta aleatória, ele ainda apresenta um desempenho ruim**\n",
    "- <font color='DarkSlateGray'>**Esse modelo classifica a maioria dos tweets como pró-mudanças climáticas com previsões melhoradas para a classe de notícias.**\n",
    "- <font color='DarkSlateGray'>**A precisão, accuracy and F1 scores melhoraram significativamente para a classe de notícias, mas permanecem baixas para neutro e anti.**\n",
    "- <font color='DarkSlateGray'>**Embora o Naïve Bayes tenha um desempenho melhor, seu desempenho provavelmente é prejudicado pelo equilíbrio de dados que temos. Ou seja, a pontuação geral da F1 é de 0,58, mas essa pontuação só poderia ser alcançada, pois a maioria dos tweets é de fato a favor das mudanças climáticas.**      "
   ]
  },
  {
   "cell_type": "markdown",
   "id": "345b571a",
   "metadata": {},
   "source": [
    "# <font color='DarkRed'>**Classificação K-Nearest Neighbors**\n",
    "    \n",
    "<font color='DarkSlateGray'>**O algoritmo KNN usa 'semelhança de recursos' para prever os valores de quaisquer novos pontos de dados. Isso significa que o novo ponto recebe um valor com base na semelhança com os pontos no conjunto de treinamento. Basicamente, ele analisa os 𝐾 pontos mais próximos do ponto de dados fornecido e calcula uma semelhança entre eles. Existem vários métodos para calcular o quão próximo o novo ponto de dados se assemelha aos pontos no conjunto de treinamento, dos quais os métodos mais conhecidos são – Euclidiano, Manhattan (para contínuo) e distância de Hamming (para categórico).**    \n",
    "    \n",
    "https://scikit-learn.org/stable/modules/generated/sklearn.neighbors.KNeighborsClassifier.html\n",
    "    \n",
    "https://scikit-learn.org/stable/modules/generated/sklearn.metrics.DistanceMetric.html    "
   ]
  },
  {
   "cell_type": "code",
   "execution_count": 30,
   "id": "4c94a56c",
   "metadata": {},
   "outputs": [],
   "source": [
    "# classificador ou modelo = clf\n",
    "knn = Pipeline([('tfidf', TfidfVectorizer()),('clf', KNeighborsClassifier(n_neighbors=5,metric='minkowski', p=2))])\n",
    "knn.fit(X_treino, y_treino)\n",
    "y_pred_knn = knn.predict(X_teste)"
   ]
  },
  {
   "cell_type": "code",
   "execution_count": 31,
   "id": "cdef8319",
   "metadata": {},
   "outputs": [
    {
     "name": "stdout",
     "output_type": "stream",
     "text": [
      "Acurácia: 66.04%\n"
     ]
    }
   ],
   "source": [
    "print(\"Acurácia: %.2f%%\" % (accuracy_score(y_teste, y_pred_knn) * 100.0))"
   ]
  },
  {
   "cell_type": "code",
   "execution_count": 32,
   "id": "0d6ff909",
   "metadata": {},
   "outputs": [
    {
     "name": "stdout",
     "output_type": "stream",
     "text": [
      "              precision    recall  f1-score   support\n",
      "\n",
      "          -1       0.53      0.41      0.46      1137\n",
      "           0       0.49      0.45      0.47      2396\n",
      "           1       0.72      0.79      0.75      6874\n",
      "           2       0.68      0.63      0.65      2776\n",
      "\n",
      "    accuracy                           0.66     13183\n",
      "   macro avg       0.61      0.57      0.58     13183\n",
      "weighted avg       0.65      0.66      0.65     13183\n",
      "\n"
     ]
    }
   ],
   "source": [
    "# Gerar um relatório de classificação para o modelo de K-vizinhos mais próximos\n",
    "print(classification_report(y_teste, y_pred_knn))"
   ]
  },
  {
   "cell_type": "markdown",
   "id": "3f1e0d90",
   "metadata": {},
   "source": [
    "### <font color='OrangeRed'>**Análise dados de treino**"
   ]
  },
  {
   "cell_type": "code",
   "execution_count": 33,
   "id": "e36d6087",
   "metadata": {},
   "outputs": [],
   "source": [
    "previsoes_treino = knn.predict(X_treino)"
   ]
  },
  {
   "cell_type": "code",
   "execution_count": 34,
   "id": "f78a5b36",
   "metadata": {},
   "outputs": [
    {
     "name": "stdout",
     "output_type": "stream",
     "text": [
      "Acurácia: 76.77%\n"
     ]
    }
   ],
   "source": [
    "print(\"Acurácia: %.2f%%\" % (accuracy_score(y_treino, previsoes_treino) * 100.0))"
   ]
  },
  {
   "cell_type": "markdown",
   "id": "f8e2ef1d",
   "metadata": {},
   "source": [
    "### <font color='OrangeRed'>**Validação Cruzada**"
   ]
  },
  {
   "cell_type": "code",
   "execution_count": 35,
   "id": "266e7d40",
   "metadata": {},
   "outputs": [
    {
     "name": "stdout",
     "output_type": "stream",
     "text": [
      "Acurácia Média: 66.14%\n"
     ]
    }
   ],
   "source": [
    "# tfidf = TfidfVectorizer()\n",
    "# newx=tfidf.fit_transform(X)\n",
    "# # Criando o modelo\n",
    "# modeloKNN = KNeighborsClassifier(n_neighbors=5, metric='minkowski', p = 2)\n",
    "# resultadoKNN = cross_val_score(modeloKNN, newx, y, cv = kfold)\n",
    "\n",
    "resultadoKNN = cross_val_score(knn, X, y, cv = kfold)\n",
    "\n",
    "# Usamos a média e o desvio padrão\n",
    "print(\"Acurácia Média: %.2f%%\" % (resultadoKNN.mean() * 100.0))"
   ]
  },
  {
   "cell_type": "markdown",
   "id": "7e889763",
   "metadata": {},
   "source": [
    "### <font color='OrangeRed'>**Matriz de Confusão:**"
   ]
  },
  {
   "cell_type": "code",
   "execution_count": 36,
   "id": "be47581e",
   "metadata": {},
   "outputs": [
    {
     "data": {
      "image/png": "[encoded data removed]",
      "text/plain": [
       "<Figure size 921.6x633.6 with 2 Axes>"
      ]
     },
     "metadata": {},
     "output_type": "display_data"
    }
   ],
   "source": [
    "cm = confusion_matrix(y_teste, y_pred_knn)\n",
    "cm_norm = cm / cm.sum(axis=1).reshape(-1,1)\n",
    "\n",
    "# Display the confusion matrix as a heatmap\n",
    "sns.heatmap(cm_norm,cmap=\"YlGnBu\",xticklabels=knn.classes_,yticklabels=knn.classes_,vmin=0.,vmax=1.,annot=True, \n",
    "            annot_kws={'size':10})\n",
    "\n",
    "# Adding headings and lables\n",
    "plt.title('Classificação  K - nearest neighbors')\n",
    "plt.ylabel('True label')\n",
    "plt.xlabel('Predicted label')\n",
    "plt.show()"
   ]
  },
  {
   "cell_type": "markdown",
   "id": "c6626678",
   "metadata": {},
   "source": [
    "### <font color='OrangeRed'>**Observações:**\n",
    "    \n",
    "- <font color='DarkSlateGray'>**KNN é capaz de classificar os tweets com sucesso.**\n",
    "- <font color='DarkSlateGray'>**KNN melhora tanto em Naïve Bayes quanto em Random Forests.**\n",
    "- <font color='DarkSlateGray'>**Este modelo também classifica a maioria dos tweets como pró-mudanças climáticas, mas em menor grau em comparação com os 2 modelos anteriores.**\n",
    "- <font color='DarkSlateGray'>**A precision, accuracy and F1 scores melhoraram significativamente para as classes pró, anti e neutro.** \n",
    "- <font color='DarkSlateGray'>**Há uma queda na  F1 score para a classe pró mudanças climáticas à medida que as previsões se tornam mais equilibradas.**\n",
    "- <font color='DarkSlateGray'>**O geral F1 score é 0.66, que está muito próximo do nosso objetivo**    "
   ]
  },
  {
   "cell_type": "markdown",
   "id": "e9b62c34",
   "metadata": {},
   "source": [
    "# <font color='DarkRed'>**Classificação de regressão logística**\n",
    "\n",
    "<font color='Navy'>**multinomial (variável dependente com mais de duas categorias).**    \n",
    "    \n",
    "https://scikit-learn.org/stable/modules/generated/sklearn.linear_model.LogisticRegression.html    "
   ]
  },
  {
   "cell_type": "markdown",
   "id": "825b35f6",
   "metadata": {},
   "source": [
    "<font color='DarkSlateGray'>**A regressão logística usa a probabilidade de um ponto de dados pertencer a uma determinada classe para classificar cada ponto de dados em sua melhor classe estimada. A regressão logística foi classificada como o modelo de melhor desempenho para dados linearmente separáveis, especialmente se estiver prevendo dados binários (Sim e NÃO ou 1 e 0), e funciona melhor quando não há desequilíbrio de classe.\n",
    "A figura abaixo é a função sigmóide que os modelos de regressão logística usam para fazer previsões:**"
   ]
  },
  {
   "cell_type": "markdown",
   "id": "00ca3807",
   "metadata": {},
   "source": [
    "![](funtion.png)"
   ]
  },
  {
   "cell_type": "markdown",
   "id": "6a8a91f0",
   "metadata": {},
   "source": [
    "<font color='DarkSlateGray'>**No nosso caso vamos usar regressão logística multinomial (variável dependente com mais de duas categorias). A Regressão Logística Multinomial é uma generalização da Regressão Logística, para que possa lidar com várias classes. Normalmente, a regressão logística funciona bem quando você separa linearmente as classes em questão. Como Naïve Bayes e Random Forests, é muito sensível ao equilíbrio de classes.**"
   ]
  },
  {
   "cell_type": "code",
   "execution_count": 44,
   "id": "b9146035",
   "metadata": {},
   "outputs": [],
   "source": [
    "# modelo ou classificador = clf\n",
    "lr = Pipeline([('tfidf',TfidfVectorizer()),('clf',LogisticRegression(C=1,class_weight='balanced',max_iter=1000))])"
   ]
  },
  {
   "cell_type": "code",
   "execution_count": 45,
   "id": "d8f97a29",
   "metadata": {},
   "outputs": [],
   "source": [
    "lr.fit(X_treino, y_treino)\n",
    "y_pred_lr = lr.predict(X_teste)"
   ]
  },
  {
   "cell_type": "code",
   "execution_count": 46,
   "id": "7d078983",
   "metadata": {},
   "outputs": [
    {
     "name": "stdout",
     "output_type": "stream",
     "text": [
      "Acurácia: 70.88%\n"
     ]
    }
   ],
   "source": [
    "print(\"Acurácia: %.2f%%\" % (accuracy_score(y_teste, y_pred_lr) * 100.0))"
   ]
  },
  {
   "cell_type": "code",
   "execution_count": 47,
   "id": "ced39b68",
   "metadata": {},
   "outputs": [
    {
     "name": "stdout",
     "output_type": "stream",
     "text": [
      "              precision    recall  f1-score   support\n",
      "\n",
      "          -1       0.53      0.66      0.59      1137\n",
      "           0       0.57      0.53      0.55      2396\n",
      "           1       0.84      0.72      0.77      6874\n",
      "           2       0.65      0.86      0.74      2776\n",
      "\n",
      "    accuracy                           0.71     13183\n",
      "   macro avg       0.65      0.69      0.66     13183\n",
      "weighted avg       0.73      0.71      0.71     13183\n",
      "\n"
     ]
    }
   ],
   "source": [
    "# Gerar um relatório de classificação para o modelo regressão logística\n",
    "print(classification_report(y_teste, y_pred_lr))"
   ]
  },
  {
   "cell_type": "markdown",
   "id": "31c51082",
   "metadata": {},
   "source": [
    "### <font color='OrangeRed'>**Análise dados de treino**"
   ]
  },
  {
   "cell_type": "code",
   "execution_count": 41,
   "id": "c515b410",
   "metadata": {},
   "outputs": [],
   "source": [
    "prev_treino = lr.predict(X_treino)"
   ]
  },
  {
   "cell_type": "code",
   "execution_count": 42,
   "id": "a36ced63",
   "metadata": {},
   "outputs": [
    {
     "name": "stdout",
     "output_type": "stream",
     "text": [
      "Acurácia: 84.67%\n"
     ]
    }
   ],
   "source": [
    "print(\"Acurácia: %.2f%%\" % (accuracy_score(y_treino, prev_treino)* 100.0))\n",
    "#accuracy_score(y_treino, previsoes_treino)"
   ]
  },
  {
   "cell_type": "markdown",
   "id": "e708e554",
   "metadata": {},
   "source": [
    "### <font color='OrangeRed'>**Validação Cruzada**"
   ]
  },
  {
   "cell_type": "code",
   "execution_count": 35,
   "id": "81173208",
   "metadata": {},
   "outputs": [],
   "source": [
    "kfold = KFold(n_splits = 30, shuffle=True, random_state = 5)"
   ]
  },
  {
   "cell_type": "code",
   "execution_count": 48,
   "id": "cdecf1fa",
   "metadata": {},
   "outputs": [],
   "source": [
    "# tfidf = TfidfVectorizer()\n",
    "# newx=tfidf.fit_transform(X)\n",
    "# # Criando o modelo\n",
    "# modelolr = LogisticRegression(C=1,class_weight='balanced',max_iter=1000)\n",
    "# resultadolr = cross_val_score(modelolr, newx, y, cv = kfold)\n",
    "\n",
    "resultadolr = cross_val_score(lr, X, y, cv = kfold)"
   ]
  },
  {
   "cell_type": "code",
   "execution_count": 49,
   "id": "be6ccd5b",
   "metadata": {},
   "outputs": [
    {
     "name": "stdout",
     "output_type": "stream",
     "text": [
      "Acurácia Média: 71.40%\n"
     ]
    }
   ],
   "source": [
    "# Usamos a média e o desvio padrão\n",
    "print(\"Acurácia Média: %.2f%%\" % (resultadolr.mean() * 100.0))"
   ]
  },
  {
   "cell_type": "markdown",
   "id": "d0394cb6",
   "metadata": {},
   "source": [
    "### <font color='OrangeRed'>**Matriz de Confusão:**"
   ]
  },
  {
   "cell_type": "code",
   "execution_count": 50,
   "id": "cc83328c",
   "metadata": {},
   "outputs": [
    {
     "data": {
      "image/png": "[encoded data removed]",
      "text/plain": [
       "<Figure size 921.6x633.6 with 2 Axes>"
      ]
     },
     "metadata": {},
     "output_type": "display_data"
    }
   ],
   "source": [
    "cm = confusion_matrix(y_teste, y_pred_lr)\n",
    "cm_norm = cm / cm.sum(axis=1).reshape(-1,1)\n",
    "\n",
    "sns.heatmap(cm_norm,cmap=\"YlGnBu\",xticklabels=lr.classes_,yticklabels=lr.classes_,vmin=0.,vmax=1.,annot=True, \n",
    "            annot_kws={'size':10})\n",
    "\n",
    "# Adding headings and lables\n",
    "plt.title('Classificação de regressão logística')\n",
    "plt.ylabel('True label')\n",
    "plt.xlabel('Predicted label')\n",
    "plt.show()"
   ]
  },
  {
   "cell_type": "markdown",
   "id": "677d1758",
   "metadata": {},
   "source": [
    "### <font color='OrangeRed'>**Observações:**\n",
    "    \n",
    "- <font color='DarkSlateGray'>**A regressão logística se sai muito bem, especialmente em comparação com os modelos anteriores, já que é capaz de classificar com sucesso os tweets.**\n",
    "- <font color='DarkSlateGray'>**Este modelo classifica a maioria dos tweets com sucesso com limites claros e menos confusão em torno da classe pró-mudanças climáticas.**\n",
    "- <font color='DarkSlateGray'>**As precision, accuracy and F1 scores melhoraram significativamente para as classes pró, anti e neutro.**\n",
    "- <font color='DarkSlateGray'>**Há uma queda na F1 score para a classe pró mudanças climáticas à medida que as previsões se tornam mais equilibradas.**     "
   ]
  },
  {
   "cell_type": "markdown",
   "id": "3af035cb",
   "metadata": {},
   "source": [
    "# <font color='DarkRed'>**Máquinas de vetor de suporte (SVC linear)**\n",
    "\n",
    "https://scikit-learn.org/stable/modules/generated/sklearn.svm.SVC.html"
   ]
  },
  {
   "cell_type": "markdown",
   "id": "760554be",
   "metadata": {},
   "source": [
    "<font color='DarkSlateGray'>**No algoritmo SVM, plotamos cada item de dados como um ponto no espaço n-dimensional (onde n é o número de recursos que você possui) com o valor de cada recurso sendo o valor de uma determinada coordenada. O objetivo do algoritmo SVM é criar a melhor linha ou limite de decisão que possa separar o espaço n-dimensional em classes para que possamos facilmente colocar o novo ponto de dados na categoria correta no futuro. Esse limite de melhor decisão é chamado de hiperplano. O SVM normalmente usa pontos/vetores extremos para ajudar na criação do hiperplano. Esses vetores são chamados de \"vetores de suporte\".**\n",
    "    \n",
    "<font color='DarkSlateGray'>**Considere o diagrama abaixo no qual existem duas categorias diferentes que são classificadas usando um limite de decisão ou hiperplano:**    "
   ]
  },
  {
   "cell_type": "markdown",
   "id": "826355b3",
   "metadata": {},
   "source": [
    "![](SVM.png)"
   ]
  },
  {
   "cell_type": "code",
   "execution_count": 14,
   "id": "b36ecc37",
   "metadata": {},
   "outputs": [],
   "source": [
    "# modelo =clf=classificador\n",
    "lsvc = Pipeline([('tfidf', TfidfVectorizer()),('clf', LinearSVC(class_weight='balanced'))])"
   ]
  },
  {
   "cell_type": "code",
   "execution_count": 15,
   "id": "322b627d",
   "metadata": {},
   "outputs": [],
   "source": [
    "lsvc.fit(X_treino, y_treino)\n",
    "y_pred_lsvc = lsvc.predict(X_teste)"
   ]
  },
  {
   "cell_type": "code",
   "execution_count": 16,
   "id": "7e4f1736",
   "metadata": {},
   "outputs": [
    {
     "name": "stdout",
     "output_type": "stream",
     "text": [
      "Acurácia: 74.24%\n"
     ]
    }
   ],
   "source": [
    "print(\"Acurácia: %.2f%%\" % (accuracy_score(y_teste, y_pred_lsvc) * 100.0))"
   ]
  },
  {
   "cell_type": "code",
   "execution_count": 17,
   "id": "11fd9b35",
   "metadata": {},
   "outputs": [
    {
     "name": "stdout",
     "output_type": "stream",
     "text": [
      "              precision    recall  f1-score   support\n",
      "\n",
      "          -1       0.63      0.60      0.61      1137\n",
      "           0       0.64      0.48      0.55      2396\n",
      "           1       0.80      0.83      0.81      6874\n",
      "           2       0.71      0.82      0.76      2776\n",
      "\n",
      "    accuracy                           0.74     13183\n",
      "   macro avg       0.69      0.68      0.68     13183\n",
      "weighted avg       0.74      0.74      0.74     13183\n",
      "\n"
     ]
    }
   ],
   "source": [
    "#Gera um relatório de classificação para o modo SVC linear\n",
    "print(classification_report(y_teste, y_pred_lsvc))"
   ]
  },
  {
   "cell_type": "markdown",
   "id": "1b8ff863",
   "metadata": {},
   "source": [
    "### <font color='OrangeRed'>**Análise dados de treino**"
   ]
  },
  {
   "cell_type": "code",
   "execution_count": 18,
   "id": "655685d9",
   "metadata": {},
   "outputs": [
    {
     "name": "stdout",
     "output_type": "stream",
     "text": [
      "Acurácia: 98.47%\n"
     ]
    }
   ],
   "source": [
    "previsoes_treinosvm = lsvc.predict(X_treino)\n",
    "print(\"Acurácia: %.2f%%\" % (accuracy_score(y_treino, previsoes_treinosvm)* 100.0))"
   ]
  },
  {
   "cell_type": "markdown",
   "id": "12c8ad3b",
   "metadata": {},
   "source": [
    "### <font color='OrangeRed'>**Validação Cruzada**"
   ]
  },
  {
   "cell_type": "code",
   "execution_count": 28,
   "id": "b3a93dd3",
   "metadata": {},
   "outputs": [],
   "source": [
    "# Separando os dados em folds\n",
    "kfold = KFold(n_splits = 30, shuffle=True, random_state = 5)"
   ]
  },
  {
   "cell_type": "code",
   "execution_count": 29,
   "id": "20213460",
   "metadata": {},
   "outputs": [],
   "source": [
    "# tfidf = TfidfVectorizer()\n",
    "# newx=tfidf.fit_transform(X)\n",
    "# # Criando o modelo Ojo demora en executar\n",
    "# model=LinearSVC(class_weight='balanced')\n",
    "# #modelo = SVC(kernel='rbf', random_state=1, C = 2) \n",
    "# resultadosvm = cross_val_score(model, newx, y, cv = kfold)\n",
    "\n",
    "resultadosvm = cross_val_score(lsvc, X, y, cv = kfold)"
   ]
  },
  {
   "cell_type": "code",
   "execution_count": 31,
   "id": "9840aed5",
   "metadata": {},
   "outputs": [
    {
     "name": "stdout",
     "output_type": "stream",
     "text": [
      "Acurácia Média: 74.73%\n"
     ]
    }
   ],
   "source": [
    "# Usamos a média e o desvio padrão\n",
    "print(\"Acurácia Média: %.2f%%\" % (resultadosvm.mean() * 100.0))"
   ]
  },
  {
   "cell_type": "markdown",
   "id": "d8fe8bd2",
   "metadata": {},
   "source": [
    "### <font color='OrangeRed'>**Matriz de Confusão:**"
   ]
  },
  {
   "cell_type": "code",
   "execution_count": 22,
   "id": "be2ff562",
   "metadata": {},
   "outputs": [
    {
     "data": {
      "image/png": "[encoded data removed]",
      "text/plain": [
       "<Figure size 921.6x633.6 with 2 Axes>"
      ]
     },
     "metadata": {},
     "output_type": "display_data"
    }
   ],
   "source": [
    "cm = confusion_matrix(y_teste, y_pred_lsvc)\n",
    "cm_norm = cm / cm.sum(axis=1).reshape(-1,1)\n",
    "\n",
    "# Display the confusion matrix as a heatmap\n",
    "sns.heatmap(cm_norm,cmap=\"YlGnBu\",xticklabels=lsvc.classes_,yticklabels=lsvc.classes_,vmin=0.,vmax=1.,annot=True, \n",
    "            annot_kws={'size':10})\n",
    "\n",
    "# Adding headings and lables\n",
    "plt.title('Classificação linear SVC')\n",
    "plt.ylabel('True label')\n",
    "plt.xlabel('Predicted label')\n",
    "plt.show()"
   ]
  },
  {
   "cell_type": "markdown",
   "id": "23e7941a",
   "metadata": {},
   "source": [
    "### <font color='OrangeRed'>**Observações:**\n",
    "    \n",
    "- <font color='DarkSlateGray'>**O SVC linear é capaz de classificar os tweets com sucesso.**\n",
    "- <font color='DarkSlateGray'>**Este modelo classifica a maioria dos tweets com sucesso com limites claros e menos confusão em torno da classe pró-mudanças climáticas em comparação com os 3 primeiros modelos.**\n",
    "- <font color='DarkSlateGray'>**Curiosamente, o SVM mostra um maior grau de confusão em torno da classe Pro em comparação com a regressão logística.**\n",
    "- <font color='DarkSlateGray'>**Isso, no entanto, leva a um aumento na precision, accuracy and f1 score para a classe Pro, que compõe a maioria dos tweets.**\n",
    "- <font color='DarkSlateGray'>**Linear SVC alcançou a pontuação mais alta da F1 de 0,74**    "
   ]
  },
  {
   "cell_type": "code",
   "execution_count": 23,
   "id": "dff5309a",
   "metadata": {},
   "outputs": [],
   "source": [
    "# -*- coding: utf-8 -*-\n",
    "\"\"\"\n",
    "plot a pretty confusion matrix with seaborn\n",
    "Created on Mon Jun 25 14:17:37 2018\n",
    "@author: Wagner Cipriano - wagnerbhbr - gmail - CEFETMG / MMC\n",
    "REFerences:\n",
    "  https://www.mathworks.com/help/nnet/ref/plotconfusion.html\n",
    "  https://stackoverflow.com/questions/28200786/how-to-plot-scikit-learn-classification-report\n",
    "  https://stackoverflow.com/questions/5821125/how-to-plot-confusion-matrix-with-string-axis-rather-than-integer-in-python\n",
    "  https://www.programcreek.com/python/example/96197/seaborn.heatmap\n",
    "  https://stackoverflow.com/questions/19233771/sklearn-plot-confusion-matrix-with-labels/31720054\n",
    "  http://scikit-learn.org/stable/auto_examples/model_selection/plot_confusion_matrix.html#sphx-glr-auto-examples-model-selection-plot-confusion-matrix-py\n",
    "\"\"\"\n",
    "\n",
    "#imports\n",
    "from pandas import DataFrame\n",
    "import numpy as np\n",
    "import matplotlib.pyplot as plt\n",
    "import matplotlib.font_manager as fm\n",
    "from matplotlib.collections import QuadMesh\n",
    "import seaborn as sn\n",
    "\n",
    "\n",
    "def get_new_fig(fn, figsize=[9,9]):\n",
    "    \"\"\" Init graphics \"\"\"\n",
    "    fig1 = plt.figure(fn, figsize)\n",
    "    ax1 = fig1.gca()   #Get Current Axis\n",
    "    ax1.cla() # clear existing plot\n",
    "    return fig1, ax1\n",
    "#\n",
    "\n",
    "def configcell_text_and_colors(array_df, lin, col, oText, facecolors, posi, fz, fmt, show_null_values=0):\n",
    "    \"\"\"\n",
    "      config cell text and colors\n",
    "      and return text elements to add and to dell\n",
    "      @TODO: use fmt\n",
    "    \"\"\"\n",
    "    text_add = []; text_del = [];\n",
    "    cell_val = array_df[lin][col]\n",
    "    tot_all = array_df[-1][-1]\n",
    "    per = (float(cell_val) / tot_all) * 100\n",
    "    curr_column = array_df[:,col]\n",
    "    ccl = len(curr_column)\n",
    "\n",
    "    #last line  and/or last column\n",
    "    if(col == (ccl - 1)) or (lin == (ccl - 1)):\n",
    "        #tots and percents\n",
    "        if(cell_val != 0):\n",
    "            if(col == ccl - 1) and (lin == ccl - 1):\n",
    "                tot_rig = 0\n",
    "                for i in range(array_df.shape[0] - 1):\n",
    "                    tot_rig += array_df[i][i]\n",
    "                per_ok = (float(tot_rig) / cell_val) * 100\n",
    "            elif(col == ccl - 1):\n",
    "                tot_rig = array_df[lin][lin]\n",
    "                per_ok = (float(tot_rig) / cell_val) * 100\n",
    "            elif(lin == ccl - 1):\n",
    "                tot_rig = array_df[col][col]\n",
    "                per_ok = (float(tot_rig) / cell_val) * 100\n",
    "            per_err = 100 - per_ok\n",
    "        else:\n",
    "            per_ok = per_err = 0\n",
    "\n",
    "        per_ok_s = ['%.2f%%'%(per_ok), '100%'] [per_ok == 100]\n",
    "\n",
    "        #text to DEL\n",
    "        text_del.append(oText)\n",
    "\n",
    "        #text to ADD\n",
    "        font_prop = fm.FontProperties(weight='bold', size=fz)\n",
    "        text_kwargs = dict(color='w', ha=\"center\", va=\"center\", gid='sum', fontproperties=font_prop)\n",
    "        lis_txt = ['%d'%(cell_val), per_ok_s, '%.2f%%'%(per_err)]\n",
    "        lis_kwa = [text_kwargs]\n",
    "        dic = text_kwargs.copy(); dic['color'] = 'g'; lis_kwa.append(dic);\n",
    "        dic = text_kwargs.copy(); dic['color'] = 'r'; lis_kwa.append(dic);\n",
    "        lis_pos = [(oText._x, oText._y-0.3), (oText._x, oText._y), (oText._x, oText._y+0.3)]\n",
    "        for i in range(len(lis_txt)):\n",
    "            newText = dict(x=lis_pos[i][0], y=lis_pos[i][1], text=lis_txt[i], kw=lis_kwa[i])\n",
    "            #print 'lin: %s, col: %s, newText: %s' %(lin, col, newText)\n",
    "            text_add.append(newText)\n",
    "        #print '\\n'\n",
    "\n",
    "        #set background color for sum cells (last line and last column)\n",
    "        carr = [0.27, 0.30, 0.27, 1.0]\n",
    "        if(col == ccl - 1) and (lin == ccl - 1):\n",
    "            carr = [0.17, 0.20, 0.17, 1.0]\n",
    "        facecolors[posi] = carr\n",
    "\n",
    "    else:\n",
    "        if(per > 0):\n",
    "            txt = '%s\\n%.2f%%' %(cell_val, per)\n",
    "        else:\n",
    "            if(show_null_values == 0):\n",
    "                txt = ''\n",
    "            elif(show_null_values == 1):\n",
    "                txt = '0'\n",
    "            else:\n",
    "                txt = '0\\n0.0%'\n",
    "        oText.set_text(txt)\n",
    "\n",
    "        #main diagonal\n",
    "        if(col == lin):\n",
    "            #set color of the textin the diagonal to white\n",
    "            oText.set_color('w')\n",
    "            # set background color in the diagonal to blue\n",
    "            facecolors[posi] = [0.35, 0.8, 0.55, 1.0]\n",
    "        else:\n",
    "            oText.set_color('r')\n",
    "\n",
    "    return text_add, text_del\n",
    "#\n",
    "\n",
    "def insert_totals(df_cm):\n",
    "    \"\"\" insert total column and line (the last ones) \"\"\"\n",
    "    sum_col = []\n",
    "    for c in df_cm.columns:\n",
    "        sum_col.append( df_cm[c].sum() )\n",
    "    sum_lin = []\n",
    "    for item_line in df_cm.iterrows():\n",
    "        sum_lin.append( item_line[1].sum() )\n",
    "    df_cm['sum_lin'] = sum_lin\n",
    "    sum_col.append(np.sum(sum_lin))\n",
    "    df_cm.loc['sum_col'] = sum_col\n",
    "    #print ('\\ndf_cm:\\n', df_cm, '\\n\\b\\n')\n",
    "#\n",
    "\n",
    "def pretty_plot_confusion_matrix(df_cm, annot=True, cmap=\"Oranges\", fmt='.2f', fz=11,\n",
    "      lw=0.5, cbar=False, figsize=[8,8], show_null_values=0, pred_val_axis='y'):\n",
    "    \"\"\"\n",
    "      print conf matrix with default layout (like matlab)\n",
    "      params:\n",
    "        df_cm          dataframe (pandas) without totals\n",
    "        annot          print text in each cell\n",
    "        cmap           Oranges,Oranges_r,YlGnBu,Blues,RdBu, ... see:\n",
    "        fz             fontsize\n",
    "        lw             linewidth\n",
    "        pred_val_axis  where to show the prediction values (x or y axis)\n",
    "                        'col' or 'x': show predicted values in columns (x axis) instead lines\n",
    "                        'lin' or 'y': show predicted values in lines   (y axis)\n",
    "    \"\"\"\n",
    "    if(pred_val_axis in ('col', 'x')):\n",
    "        xlbl = 'Predicted'\n",
    "        ylbl = 'Actual'\n",
    "    else:\n",
    "        xlbl = 'Actual'\n",
    "        ylbl = 'Predicted'\n",
    "        df_cm = df_cm.T\n",
    "\n",
    "    # create \"Total\" column\n",
    "    insert_totals(df_cm)\n",
    "\n",
    "    #this is for print allways in the same window\n",
    "    fig, ax1 = get_new_fig('Conf matrix default', figsize)\n",
    "\n",
    "    #thanks for seaborn\n",
    "    ax = sn.heatmap(df_cm, annot=annot, annot_kws={\"size\": fz}, linewidths=lw, ax=ax1,\n",
    "                    cbar=cbar, cmap=cmap, linecolor='w', fmt=fmt)\n",
    "\n",
    "    #set ticklabels rotation\n",
    "    ax.set_xticklabels(ax.get_xticklabels(), rotation = 45, fontsize = 10)\n",
    "    ax.set_yticklabels(ax.get_yticklabels(), rotation = 25, fontsize = 10)\n",
    "\n",
    "    # Turn off all the ticks\n",
    "    for t in ax.xaxis.get_major_ticks():\n",
    "        t.tick1On = False\n",
    "        t.tick2On = False\n",
    "    for t in ax.yaxis.get_major_ticks():\n",
    "        t.tick1On = False\n",
    "        t.tick2On = False\n",
    "\n",
    "    #face colors list\n",
    "    quadmesh = ax.findobj(QuadMesh)[0]\n",
    "    facecolors = quadmesh.get_facecolors()\n",
    "\n",
    "    #iter in text elements\n",
    "    array_df = np.array( df_cm.to_records(index=False).tolist() )\n",
    "    text_add = []; text_del = [];\n",
    "    posi = -1 #from left to right, bottom to top.\n",
    "    for t in ax.collections[0].axes.texts: #ax.texts:\n",
    "        pos = np.array( t.get_position()) - [0.5,0.5]\n",
    "        lin = int(pos[1]); col = int(pos[0]);\n",
    "        posi += 1\n",
    "        #print ('>>> pos: %s, posi: %s, val: %s, txt: %s' %(pos, posi, array_df[lin][col], t.get_text()))\n",
    "\n",
    "        #set text\n",
    "        txt_res = configcell_text_and_colors(array_df, lin, col, t, facecolors, posi, fz, fmt, show_null_values)\n",
    "\n",
    "        text_add.extend(txt_res[0])\n",
    "        text_del.extend(txt_res[1])\n",
    "\n",
    "    #remove the old ones\n",
    "    for item in text_del:\n",
    "        item.remove()\n",
    "    #append the new ones\n",
    "    for item in text_add:\n",
    "        ax.text(item['x'], item['y'], item['text'], **item['kw'])\n",
    "\n",
    "    #titles and legends\n",
    "    ax.set_title('Confusion matrix')\n",
    "    ax.set_xlabel(xlbl)\n",
    "    ax.set_ylabel(ylbl)\n",
    "    plt.tight_layout()  #set layout slim\n",
    "    plt.show()\n",
    "#\n",
    "\n",
    "def plot_confusion_matrix_from_data(y_test, predictions, columns=None, annot=True, cmap=\"Oranges\",\n",
    "      fmt='.2f', fz=11, lw=0.5, cbar=False, figsize=[8,8], show_null_values=0, pred_val_axis='lin'):\n",
    "    \"\"\"\n",
    "        plot confusion matrix function with y_test (actual values) and predictions (predic),\n",
    "        whitout a confusion matrix yet\n",
    "    \"\"\"\n",
    "    from sklearn.metrics import confusion_matrix\n",
    "    from pandas import DataFrame\n",
    "\n",
    "    #data\n",
    "    if(not columns):\n",
    "        #labels axis integer:\n",
    "        ##columns = range(1, len(np.unique(y_test))+1)\n",
    "        #labels axis string:\n",
    "        from string import ascii_uppercase\n",
    "        columns = ['class %s' %(i) for i in list(ascii_uppercase)[0:len(np.unique(y_test))]]\n",
    "\n",
    "    confm = confusion_matrix(y_test, predictions)\n",
    "    cmap = 'Oranges';\n",
    "    fz = 11;\n",
    "    figsize=[9,9];\n",
    "    show_null_values = 2\n",
    "    df_cm = DataFrame(confm, index=columns, columns=columns)\n",
    "    pretty_plot_confusion_matrix(df_cm, fz=fz, cmap=cmap, figsize=figsize, show_null_values=show_null_values, pred_val_axis=pred_val_axis)\n",
    "#"
   ]
  },
  {
   "cell_type": "code",
   "execution_count": 25,
   "id": "c20fd1e7",
   "metadata": {},
   "outputs": [
    {
     "name": "stderr",
     "output_type": "stream",
     "text": [
      "/tmp/ipykernel_17842/2970216876.py:64: DeprecationWarning: In future, it will be an error for 'np.bool_' scalars to be interpreted as an index\n",
      "  per_ok_s = ['%.2f%%'%(per_ok), '100%'] [per_ok == 100]\n"
     ]
    },
    {
     "data": {
      "image/png": "[encoded data removed]",
      "text/plain": [
       "<Figure size 648x648 with 1 Axes>"
      ]
     },
     "metadata": {},
     "output_type": "display_data"
    }
   ],
   "source": [
    "plot_confusion_matrix_from_data(y_teste, y_pred_lsvc)"
   ]
  },
  {
   "cell_type": "markdown",
   "id": "158bf52b",
   "metadata": {},
   "source": [
    "# <font color='DarkRed'>**Redes Neurais**\n",
    "    \n",
    "https://scikit-learn.org/stable/modules/generated/sklearn.neural_network.MLPClassifier.html\n",
    "    \n",
    "https://scikit-learn.org/stable/modules/neural_networks_supervised.html    "
   ]
  },
  {
   "cell_type": "code",
   "execution_count": 59,
   "id": "dde75cc7",
   "metadata": {},
   "outputs": [],
   "source": [
    "from sklearn.neural_network import MLPClassifier"
   ]
  },
  {
   "cell_type": "code",
   "execution_count": 60,
   "id": "e00bbe19",
   "metadata": {},
   "outputs": [],
   "source": [
    "redNeu = Pipeline([('tfidf', TfidfVectorizer()),('clf', MLPClassifier(hidden_layer_sizes=(10),\n",
    "                                                                      activation='logistic',\n",
    "                                                                      solver='adam', max_iter =800,\n",
    "                                                                      tol=0.0001, random_state = 5,\n",
    "                                                                      verbose = True))])"
   ]
  },
  {
   "cell_type": "code",
   "execution_count": 61,
   "id": "4d69765b",
   "metadata": {},
   "outputs": [
    {
     "name": "stdout",
     "output_type": "stream",
     "text": [
      "Iteration 1, loss = 1.43060131\n",
      "Iteration 2, loss = 1.19330866\n",
      "Iteration 3, loss = 1.14523918\n",
      "Iteration 4, loss = 1.10721587\n",
      "Iteration 5, loss = 1.05831160\n",
      "Iteration 6, loss = 0.99946392\n",
      "Iteration 7, loss = 0.93733235\n",
      "Iteration 8, loss = 0.87734626\n",
      "Iteration 9, loss = 0.82147732\n",
      "Iteration 10, loss = 0.76940503\n",
      "Iteration 11, loss = 0.72033954\n",
      "Iteration 12, loss = 0.67387591\n",
      "Iteration 13, loss = 0.62984084\n",
      "Iteration 14, loss = 0.58794408\n",
      "Iteration 15, loss = 0.54828561\n",
      "Iteration 16, loss = 0.51058884\n",
      "Iteration 17, loss = 0.47509642\n",
      "Iteration 18, loss = 0.44164729\n",
      "Iteration 19, loss = 0.41040711\n",
      "Iteration 20, loss = 0.38125356\n",
      "Iteration 21, loss = 0.35417023\n",
      "Iteration 22, loss = 0.32919911\n",
      "Iteration 23, loss = 0.30609799\n",
      "Iteration 24, loss = 0.28478536\n",
      "Iteration 25, loss = 0.26517447\n",
      "Iteration 26, loss = 0.24717144\n",
      "Iteration 27, loss = 0.23053328\n",
      "Iteration 28, loss = 0.21526278\n",
      "Iteration 29, loss = 0.20114785\n",
      "Iteration 30, loss = 0.18818871\n",
      "Iteration 31, loss = 0.17621373\n",
      "Iteration 32, loss = 0.16517597\n",
      "Iteration 33, loss = 0.15502439\n",
      "Iteration 34, loss = 0.14564714\n",
      "Iteration 35, loss = 0.13696497\n",
      "Iteration 36, loss = 0.12898255\n",
      "Iteration 37, loss = 0.12160706\n",
      "Iteration 38, loss = 0.11479981\n",
      "Iteration 39, loss = 0.10849318\n",
      "Iteration 40, loss = 0.10266816\n",
      "Iteration 41, loss = 0.09725479\n",
      "Iteration 42, loss = 0.09228170\n",
      "Iteration 43, loss = 0.08763391\n",
      "Iteration 44, loss = 0.08334081\n",
      "Iteration 45, loss = 0.07936733\n",
      "Iteration 46, loss = 0.07566259\n",
      "Iteration 47, loss = 0.07222466\n",
      "Iteration 48, loss = 0.06901127\n",
      "Iteration 49, loss = 0.06604122\n",
      "Iteration 50, loss = 0.06324530\n",
      "Iteration 51, loss = 0.06063281\n",
      "Iteration 52, loss = 0.05822074\n",
      "Iteration 53, loss = 0.05595362\n",
      "Iteration 54, loss = 0.05385055\n",
      "Iteration 55, loss = 0.05185864\n",
      "Iteration 56, loss = 0.04999668\n",
      "Iteration 57, loss = 0.04825901\n",
      "Iteration 58, loss = 0.04660745\n",
      "Iteration 59, loss = 0.04505724\n",
      "Iteration 60, loss = 0.04361854\n",
      "Iteration 61, loss = 0.04224925\n",
      "Iteration 62, loss = 0.04095654\n",
      "Iteration 63, loss = 0.03974577\n",
      "Iteration 64, loss = 0.03858066\n",
      "Iteration 65, loss = 0.03748571\n",
      "Iteration 66, loss = 0.03646296\n",
      "Iteration 67, loss = 0.03547619\n",
      "Iteration 68, loss = 0.03457126\n",
      "Iteration 69, loss = 0.03367904\n",
      "Iteration 70, loss = 0.03284122\n",
      "Iteration 71, loss = 0.03203320\n",
      "Iteration 72, loss = 0.03127049\n",
      "Iteration 73, loss = 0.03053825\n",
      "Iteration 74, loss = 0.02984583\n",
      "Iteration 75, loss = 0.02920087\n",
      "Iteration 76, loss = 0.02855397\n",
      "Iteration 77, loss = 0.02796122\n",
      "Iteration 78, loss = 0.02736719\n",
      "Iteration 79, loss = 0.02679858\n",
      "Iteration 80, loss = 0.02627691\n",
      "Iteration 81, loss = 0.02575563\n",
      "Iteration 82, loss = 0.02526117\n",
      "Iteration 83, loss = 0.02477796\n",
      "Iteration 84, loss = 0.02431586\n",
      "Iteration 85, loss = 0.02388899\n",
      "Iteration 86, loss = 0.02346572\n",
      "Iteration 87, loss = 0.02306249\n",
      "Iteration 88, loss = 0.02266224\n",
      "Iteration 89, loss = 0.02228620\n",
      "Iteration 90, loss = 0.02191059\n",
      "Iteration 91, loss = 0.02156524\n",
      "Iteration 92, loss = 0.02122693\n",
      "Iteration 93, loss = 0.02088145\n",
      "Iteration 94, loss = 0.02058186\n",
      "Iteration 95, loss = 0.02025923\n",
      "Iteration 96, loss = 0.01996494\n",
      "Iteration 97, loss = 0.01967271\n",
      "Iteration 98, loss = 0.01939532\n",
      "Iteration 99, loss = 0.01912147\n",
      "Iteration 100, loss = 0.01886026\n",
      "Iteration 101, loss = 0.01862221\n",
      "Iteration 102, loss = 0.01836949\n",
      "Iteration 103, loss = 0.01812821\n",
      "Iteration 104, loss = 0.01789300\n",
      "Iteration 105, loss = 0.01767393\n",
      "Iteration 106, loss = 0.01746430\n",
      "Iteration 107, loss = 0.01723857\n",
      "Iteration 108, loss = 0.01703958\n",
      "Iteration 109, loss = 0.01684099\n",
      "Iteration 110, loss = 0.01665217\n",
      "Iteration 111, loss = 0.01644824\n",
      "Iteration 112, loss = 0.01626969\n",
      "Iteration 113, loss = 0.01610346\n",
      "Iteration 114, loss = 0.01593418\n",
      "Iteration 115, loss = 0.01576066\n",
      "Iteration 116, loss = 0.01559448\n",
      "Iteration 117, loss = 0.01545247\n",
      "Iteration 118, loss = 0.01529679\n",
      "Iteration 119, loss = 0.01514924\n",
      "Iteration 120, loss = 0.01500585\n",
      "Iteration 121, loss = 0.01487587\n",
      "Iteration 122, loss = 0.01474300\n",
      "Iteration 123, loss = 0.01460274\n",
      "Iteration 124, loss = 0.01447071\n",
      "Iteration 125, loss = 0.01433713\n",
      "Iteration 126, loss = 0.01423100\n",
      "Iteration 127, loss = 0.01410219\n",
      "Iteration 128, loss = 0.01399068\n",
      "Iteration 129, loss = 0.01388266\n",
      "Iteration 130, loss = 0.01376966\n",
      "Iteration 131, loss = 0.01365778\n",
      "Iteration 132, loss = 0.01354726\n",
      "Iteration 133, loss = 0.01345777\n",
      "Iteration 134, loss = 0.01335249\n",
      "Iteration 135, loss = 0.01328314\n",
      "Iteration 136, loss = 0.01316283\n",
      "Iteration 137, loss = 0.01307383\n",
      "Iteration 138, loss = 0.01296148\n",
      "Iteration 139, loss = 0.01289330\n",
      "Iteration 140, loss = 0.01280269\n",
      "Iteration 141, loss = 0.01271315\n",
      "Iteration 142, loss = 0.01262940\n",
      "Iteration 143, loss = 0.01254796\n",
      "Iteration 144, loss = 0.01248402\n",
      "Iteration 145, loss = 0.01240620\n",
      "Iteration 146, loss = 0.01231851\n",
      "Iteration 147, loss = 0.01225232\n",
      "Iteration 148, loss = 0.01217481\n",
      "Iteration 149, loss = 0.01211189\n",
      "Training loss did not improve more than tol=0.000100 for 10 consecutive epochs. Stopping.\n"
     ]
    }
   ],
   "source": [
    "redNeu.fit(X_treino, y_treino)\n",
    "y_pred_redNeu = redNeu.predict(X_teste)"
   ]
  },
  {
   "cell_type": "code",
   "execution_count": 62,
   "id": "e367d32d",
   "metadata": {},
   "outputs": [
    {
     "name": "stdout",
     "output_type": "stream",
     "text": [
      "Acurácia: 73.15%\n"
     ]
    }
   ],
   "source": [
    "print(\"Acurácia: %.2f%%\" % (accuracy_score(y_teste, y_pred_redNeu) * 100.0))"
   ]
  },
  {
   "cell_type": "code",
   "execution_count": 63,
   "id": "10294f9d",
   "metadata": {},
   "outputs": [
    {
     "name": "stdout",
     "output_type": "stream",
     "text": [
      "              precision    recall  f1-score   support\n",
      "\n",
      "          -1       0.64      0.54      0.59      1137\n",
      "           0       0.61      0.45      0.52      2396\n",
      "           1       0.77      0.84      0.81      6874\n",
      "           2       0.73      0.78      0.75      2776\n",
      "\n",
      "    accuracy                           0.73     13183\n",
      "   macro avg       0.69      0.65      0.67     13183\n",
      "weighted avg       0.72      0.73      0.72     13183\n",
      "\n"
     ]
    }
   ],
   "source": [
    "print(classification_report(y_teste, y_pred_redNeu))"
   ]
  },
  {
   "cell_type": "markdown",
   "id": "d2271b53",
   "metadata": {},
   "source": [
    "### <font color='OrangeRed'>**Análise dados de treino**"
   ]
  },
  {
   "cell_type": "code",
   "execution_count": 64,
   "id": "861a34a2",
   "metadata": {},
   "outputs": [
    {
     "name": "stdout",
     "output_type": "stream",
     "text": [
      "Acurácia: 99.97%\n"
     ]
    }
   ],
   "source": [
    "previsoes_treinoRN = redNeu.predict(X_treino)\n",
    "print(\"Acurácia: %.2f%%\" % (accuracy_score(y_treino, previsoes_treinoRN)* 100.0))"
   ]
  },
  {
   "cell_type": "markdown",
   "id": "24157a60",
   "metadata": {},
   "source": [
    "### <font color='OrangeRed'>**Validação Cruzada**"
   ]
  },
  {
   "cell_type": "code",
   "execution_count": 65,
   "id": "dce0bf0b",
   "metadata": {},
   "outputs": [],
   "source": [
    "# Separando os dados em folds\n",
    "kfold = KFold(n_splits = 30, shuffle=True, random_state = 5)"
   ]
  },
  {
   "cell_type": "code",
   "execution_count": null,
   "id": "79c6d202",
   "metadata": {},
   "outputs": [
    {
     "name": "stdout",
     "output_type": "stream",
     "text": [
      "Iteration 1, loss = 1.37687642\n",
      "Iteration 2, loss = 1.15555615\n",
      "Iteration 3, loss = 1.11077373\n",
      "Iteration 4, loss = 1.05638769\n",
      "Iteration 5, loss = 0.98503279\n",
      "Iteration 6, loss = 0.90591232\n",
      "Iteration 7, loss = 0.83007121\n",
      "Iteration 8, loss = 0.76246640\n",
      "Iteration 9, loss = 0.70324047\n",
      "Iteration 10, loss = 0.65139322\n",
      "Iteration 11, loss = 0.60495229\n",
      "Iteration 12, loss = 0.56269031\n",
      "Iteration 13, loss = 0.52353123\n",
      "Iteration 14, loss = 0.48689447\n",
      "Iteration 15, loss = 0.45229613\n",
      "Iteration 16, loss = 0.41924481\n",
      "Iteration 17, loss = 0.38793081\n",
      "Iteration 18, loss = 0.35819133\n",
      "Iteration 19, loss = 0.33028888\n",
      "Iteration 20, loss = 0.30422734\n",
      "Iteration 21, loss = 0.28008960\n",
      "Iteration 22, loss = 0.25791270\n",
      "Iteration 23, loss = 0.23778611\n",
      "Iteration 24, loss = 0.21938669\n",
      "Iteration 25, loss = 0.20268200\n",
      "Iteration 26, loss = 0.18755538\n",
      "Iteration 27, loss = 0.17376235\n",
      "Iteration 28, loss = 0.16132348\n",
      "Iteration 29, loss = 0.14999668\n",
      "Iteration 30, loss = 0.13970990\n",
      "Iteration 31, loss = 0.13033030\n",
      "Iteration 32, loss = 0.12183020\n",
      "Iteration 33, loss = 0.11409715\n",
      "Iteration 34, loss = 0.10708307\n",
      "Iteration 35, loss = 0.10060750\n",
      "Iteration 36, loss = 0.09473585\n",
      "Iteration 37, loss = 0.08934633\n",
      "Iteration 38, loss = 0.08441249\n",
      "Iteration 39, loss = 0.07994446\n",
      "Iteration 40, loss = 0.07578293\n",
      "Iteration 41, loss = 0.07196055\n",
      "Iteration 42, loss = 0.06845037\n",
      "Iteration 43, loss = 0.06521157\n",
      "Iteration 44, loss = 0.06223011\n",
      "Iteration 45, loss = 0.05946848\n",
      "Iteration 46, loss = 0.05692571\n",
      "Iteration 47, loss = 0.05454009\n",
      "Iteration 48, loss = 0.05232807\n",
      "Iteration 49, loss = 0.05030649\n",
      "Iteration 50, loss = 0.04838633\n",
      "Iteration 51, loss = 0.04660121\n",
      "Iteration 52, loss = 0.04493932\n",
      "Iteration 53, loss = 0.04337747\n",
      "Iteration 54, loss = 0.04194911\n",
      "Iteration 55, loss = 0.04055965\n",
      "Iteration 56, loss = 0.03928969\n",
      "Iteration 57, loss = 0.03808391\n",
      "Iteration 58, loss = 0.03694256\n",
      "Iteration 59, loss = 0.03588937\n",
      "Iteration 60, loss = 0.03484347\n",
      "Iteration 61, loss = 0.03390553\n",
      "Iteration 62, loss = 0.03300555\n",
      "Iteration 63, loss = 0.03215433\n",
      "Iteration 64, loss = 0.03135198\n",
      "Iteration 65, loss = 0.03056974\n",
      "Iteration 66, loss = 0.02986633\n",
      "Iteration 67, loss = 0.02916842\n",
      "Iteration 68, loss = 0.02850821\n",
      "Iteration 69, loss = 0.02787544\n",
      "Iteration 70, loss = 0.02729428\n",
      "Iteration 71, loss = 0.02673113\n",
      "Iteration 72, loss = 0.02616813\n",
      "Iteration 73, loss = 0.02565834\n",
      "Iteration 74, loss = 0.02515078\n",
      "Iteration 75, loss = 0.02468425\n",
      "Iteration 76, loss = 0.02422917\n",
      "Iteration 77, loss = 0.02377515\n",
      "Iteration 78, loss = 0.02336765\n",
      "Iteration 79, loss = 0.02295715\n",
      "Iteration 80, loss = 0.02257293\n",
      "Iteration 81, loss = 0.02221156\n",
      "Iteration 82, loss = 0.02183422\n",
      "Iteration 83, loss = 0.02149152\n",
      "Iteration 84, loss = 0.02116556\n",
      "Iteration 85, loss = 0.02084255\n",
      "Iteration 86, loss = 0.02055674\n",
      "Iteration 87, loss = 0.02024940\n",
      "Iteration 88, loss = 0.01997215\n",
      "Iteration 89, loss = 0.01970187\n",
      "Iteration 90, loss = 0.01943593\n",
      "Iteration 91, loss = 0.01918170\n",
      "Iteration 92, loss = 0.01891651\n",
      "Iteration 93, loss = 0.01869018\n",
      "Iteration 94, loss = 0.01846575\n",
      "Iteration 95, loss = 0.01823818\n",
      "Iteration 96, loss = 0.01802220\n",
      "Iteration 97, loss = 0.01780953\n",
      "Iteration 98, loss = 0.01761723\n",
      "Iteration 99, loss = 0.01743268\n",
      "Iteration 100, loss = 0.01724727\n",
      "Iteration 101, loss = 0.01706880\n",
      "Iteration 102, loss = 0.01689731\n",
      "Iteration 103, loss = 0.01672169\n",
      "Iteration 104, loss = 0.01655946\n",
      "Iteration 105, loss = 0.01638451\n",
      "Iteration 106, loss = 0.01620963\n",
      "Iteration 107, loss = 0.01608396\n",
      "Iteration 108, loss = 0.01594214\n",
      "Iteration 109, loss = 0.01580077\n",
      "Iteration 110, loss = 0.01565340\n",
      "Iteration 111, loss = 0.01553723\n",
      "Iteration 112, loss = 0.01538253\n",
      "Iteration 113, loss = 0.01526125\n",
      "Iteration 114, loss = 0.01514281\n",
      "Iteration 115, loss = 0.01500962\n",
      "Iteration 116, loss = 0.01490276\n",
      "Iteration 117, loss = 0.01477661\n",
      "Iteration 118, loss = 0.01467244\n",
      "Iteration 119, loss = 0.01456631\n",
      "Iteration 120, loss = 0.01445967\n",
      "Iteration 121, loss = 0.01436266\n",
      "Iteration 122, loss = 0.01425392\n",
      "Iteration 123, loss = 0.01417054\n",
      "Iteration 124, loss = 0.01407513\n",
      "Iteration 125, loss = 0.01395622\n",
      "Iteration 126, loss = 0.01386737\n",
      "Iteration 127, loss = 0.01379346\n",
      "Iteration 128, loss = 0.01370223\n",
      "Iteration 129, loss = 0.01361837\n",
      "Iteration 130, loss = 0.01353456\n",
      "Iteration 131, loss = 0.01344192\n",
      "Iteration 132, loss = 0.01336448\n",
      "Iteration 133, loss = 0.01330392\n",
      "Iteration 134, loss = 0.01321838\n",
      "Iteration 135, loss = 0.01312989\n",
      "Iteration 136, loss = 0.01306582\n",
      "Training loss did not improve more than tol=0.000100 for 10 consecutive epochs. Stopping.\n",
      "Iteration 1, loss = 1.29420498\n",
      "Iteration 2, loss = 1.15033698\n",
      "Iteration 3, loss = 1.10364055\n",
      "Iteration 4, loss = 1.03880033\n",
      "Iteration 5, loss = 0.95636800\n",
      "Iteration 6, loss = 0.86934426\n",
      "Iteration 7, loss = 0.78869954\n",
      "Iteration 8, loss = 0.71814287\n",
      "Iteration 9, loss = 0.65676155\n",
      "Iteration 10, loss = 0.60228778\n",
      "Iteration 11, loss = 0.55320067\n",
      "Iteration 12, loss = 0.50819202\n",
      "Iteration 13, loss = 0.46666909\n",
      "Iteration 14, loss = 0.42853686\n",
      "Iteration 15, loss = 0.39357067\n",
      "Iteration 16, loss = 0.36154270\n",
      "Iteration 17, loss = 0.33242955\n",
      "Iteration 18, loss = 0.30583222\n",
      "Iteration 19, loss = 0.28171693\n",
      "Iteration 20, loss = 0.25973366\n",
      "Iteration 21, loss = 0.23976235\n",
      "Iteration 22, loss = 0.22149425\n",
      "Iteration 23, loss = 0.20498690\n",
      "Iteration 24, loss = 0.18990705\n",
      "Iteration 25, loss = 0.17616202\n",
      "Iteration 26, loss = 0.16355927\n",
      "Iteration 27, loss = 0.15210076\n",
      "Iteration 28, loss = 0.14168221\n",
      "Iteration 29, loss = 0.13215129\n",
      "Iteration 30, loss = 0.12346027\n",
      "Iteration 31, loss = 0.11560603\n",
      "Iteration 32, loss = 0.10834334\n",
      "Iteration 33, loss = 0.10174097\n"
     ]
    },
    {
     "name": "stderr",
     "output_type": "stream",
     "text": [
      "/home/miguel/anaconda3/lib/python3.9/site-packages/sklearn/neural_network/_multilayer_perceptron.py:619: UserWarning: Training interrupted by user.\n",
      "  warnings.warn(\"Training interrupted by user.\")\n"
     ]
    },
    {
     "name": "stdout",
     "output_type": "stream",
     "text": [
      "Iteration 1, loss = 1.17984251\n",
      "Iteration 2, loss = 1.13487053\n"
     ]
    },
    {
     "name": "stderr",
     "output_type": "stream",
     "text": [
      "/home/miguel/anaconda3/lib/python3.9/site-packages/sklearn/neural_network/_multilayer_perceptron.py:619: UserWarning: Training interrupted by user.\n",
      "  warnings.warn(\"Training interrupted by user.\")\n"
     ]
    },
    {
     "name": "stdout",
     "output_type": "stream",
     "text": [
      "Iteration 1, loss = 1.21981847\n"
     ]
    },
    {
     "name": "stderr",
     "output_type": "stream",
     "text": [
      "/home/miguel/anaconda3/lib/python3.9/site-packages/sklearn/neural_network/_multilayer_perceptron.py:619: UserWarning: Training interrupted by user.\n",
      "  warnings.warn(\"Training interrupted by user.\")\n"
     ]
    },
    {
     "name": "stdout",
     "output_type": "stream",
     "text": [
      "Iteration 1, loss = 1.20979821\n",
      "Iteration 2, loss = 1.14251511\n"
     ]
    },
    {
     "name": "stderr",
     "output_type": "stream",
     "text": [
      "/home/miguel/anaconda3/lib/python3.9/site-packages/sklearn/neural_network/_multilayer_perceptron.py:619: UserWarning: Training interrupted by user.\n",
      "  warnings.warn(\"Training interrupted by user.\")\n"
     ]
    },
    {
     "name": "stdout",
     "output_type": "stream",
     "text": [
      "Iteration 1, loss = 1.22324263\n",
      "Iteration 2, loss = 1.14380724\n",
      "Iteration 3, loss = 1.09166145\n",
      "Iteration 4, loss = 1.01454262\n",
      "Iteration 5, loss = 0.92271256\n",
      "Iteration 6, loss = 0.83404207\n",
      "Iteration 7, loss = 0.75669487\n",
      "Iteration 8, loss = 0.69143552\n",
      "Iteration 9, loss = 0.63537240\n",
      "Iteration 10, loss = 0.58604110\n",
      "Iteration 11, loss = 0.54111961\n",
      "Iteration 12, loss = 0.49954467\n",
      "Iteration 13, loss = 0.46048109\n",
      "Iteration 14, loss = 0.42374420\n",
      "Iteration 15, loss = 0.38932140\n",
      "Iteration 16, loss = 0.35732952\n",
      "Iteration 17, loss = 0.32771236\n",
      "Iteration 18, loss = 0.30077011\n",
      "Iteration 19, loss = 0.27615142\n",
      "Iteration 20, loss = 0.25385261\n",
      "Iteration 21, loss = 0.23363077\n",
      "Iteration 22, loss = 0.21526608\n",
      "Iteration 23, loss = 0.19866591\n",
      "Iteration 24, loss = 0.18352608\n",
      "Iteration 25, loss = 0.16986489\n",
      "Iteration 26, loss = 0.15741161\n",
      "Iteration 27, loss = 0.14611839\n",
      "Iteration 28, loss = 0.13587164\n"
     ]
    }
   ],
   "source": [
    "resultadosvm = cross_val_score(redNeu, X, y, cv = kfold)"
   ]
  },
  {
   "cell_type": "code",
   "execution_count": null,
   "id": "808f1c0c",
   "metadata": {},
   "outputs": [],
   "source": []
  },
  {
   "cell_type": "markdown",
   "id": "6b9cd4bc",
   "metadata": {},
   "source": [
    "![](7406.JPEG)"
   ]
  },
  {
   "cell_type": "markdown",
   "id": "e2c2b92d",
   "metadata": {},
   "source": [
    "## Referencias\n",
    "   - https://matplotlib.org/\n",
    "   - https://matplotlib.org/stable/gallery/color/named_colors.html#sphx-glr-gallery-color-named-colors-py\n",
    "   - https://matplotlib.org/stable/gallery/index.html\n",
    "   - https://matplotlib.org/tutorials/introductory/pyplot.html\n",
    "   - https://matplotlib.org/tutorials/introductory/customizing.html\n",
    "   - https://docs.scipy.org/doc/scipy/reference/generated/scipy.stats.norm.html\n",
    "   - https://matplotlib.org/3.1.1/api/_as_gen/matplotlib.pyplot.xlabel.html\n",
    "   - https://matplotlib.org/3.1.1/api/_as_gen/matplotlib.pyplot.grid.html\n",
    "   - https://matplotlib.org/tutorials/intermediate/legend_guide.html\n",
    "   - https://matplotlib.org/tutorials/introductory/customizing.html#customizing-with-matplotlibrc-files\n",
    "   - https://matplotlib.org/api/_as_gen/matplotlib.axes.Axes.tick_params.html\n",
    "   - https://www.w3schools.com/colors/colors_names.asp"
   ]
  },
  {
   "cell_type": "code",
   "execution_count": null,
   "id": "a1092f29",
   "metadata": {},
   "outputs": [],
   "source": []
  }
 ],
 "metadata": {
  "kernelspec": {
   "display_name": "Python 3 (ipykernel)",
   "language": "python",
   "name": "python3"
  },
  "language_info": {
   "codemirror_mode": {
    "name": "ipython",
    "version": 3
   },
   "file_extension": ".py",
   "mimetype": "text/x-python",
   "name": "python",
   "nbconvert_exporter": "python",
   "pygments_lexer": "ipython3",
   "version": "3.9.7"
  }
 },
 "nbformat": 4,
 "nbformat_minor": 5
}
