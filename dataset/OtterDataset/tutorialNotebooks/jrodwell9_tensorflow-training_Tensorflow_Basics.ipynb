{
  "nbformat": 4,
  "nbformat_minor": 0,
  "metadata": {
    "colab": {
      "provenance": [],
      "toc_visible": true,
      "authorship_tag": "ABX9TyMTKu9HyH8WY3NA8OouSk9R"
    },
    "kernelspec": {
      "name": "python3",
      "display_name": "Python 3"
    },
    "language_info": {
      "name": "python"
    }
  },
  "cells": [
    {
      "cell_type": "markdown",
      "source": [
        "# Tensorflow Basics\n",
        "\n",
        "Notebook for taking notes and trialing out code for the Tensorflow 2.0 Basics tutorial (https://www.tensorflow.org/tutorials/quickstart/beginner)."
      ],
      "metadata": {
        "id": "Wvd52KseTm1L"
      }
    },
    {
      "cell_type": "code",
      "execution_count": null,
      "metadata": {
        "id": "xonCe1c7TdgC"
      },
      "outputs": [],
      "source": [
        "import tensorflow as tf"
      ]
    },
    {
      "cell_type": "code",
      "source": [
        "mnist = tf.keras.datasets.mnist\n",
        "\n",
        "(x_train, y_train), (x_test, y_test) = mnist.load_data()\n",
        "x_train, x_test = x_train / 255.0, x_test / 255.0"
      ],
      "metadata": {
        "id": "68CLOkoH11rO"
      },
      "execution_count": null,
      "outputs": []
    },
    {
      "cell_type": "code",
      "source": [
        "model = tf.keras.models.Sequential([\n",
        "    tf.keras.layers.Flatten(input_shape=(28, 28)),\n",
        "    tf.keras.layers.Dense(128, activation='relu'),\n",
        "    tf.keras.layers.Dropout(0.2),\n",
        "    tf.keras.layers.Dense(10)\n",
        "])"
      ],
      "metadata": {
        "id": "iXlvjkF_2Jro"
      },
      "execution_count": null,
      "outputs": []
    },
    {
      "cell_type": "code",
      "source": [
        "# Don't bake in softmax to last layer activation as this may not be numerically stable\n",
        "predictions = model(x_train[:1]).numpy()\n",
        "tf.nn.softmax(predictions).numpy()"
      ],
      "metadata": {
        "id": "PpHlYwPw2lwy"
      },
      "execution_count": null,
      "outputs": []
    },
    {
      "cell_type": "code",
      "source": [
        "loss_fn = tf.keras.losses.SparseCategoricalCrossentropy(from_logits=True)\n",
        "# Untrained model on one sample is close to random guess loss\n",
        "print(\"Random guess loss: \", -tf.math.log(1/10).numpy()) # 10 categories\n",
        "print(\"Our randomly initialised NN: \", loss_fn(y_train[:1], predictions).numpy())"
      ],
      "metadata": {
        "id": "qHJCdiH-3C8h"
      },
      "execution_count": null,
      "outputs": []
    },
    {
      "cell_type": "code",
      "source": [
        "model.compile(optimizer='adam', loss=loss_fn, metrics=['accuracy'])"
      ],
      "metadata": {
        "id": "G_iGv6lh4PLZ"
      },
      "execution_count": null,
      "outputs": []
    },
    {
      "cell_type": "code",
      "source": [
        "model.fit(x_train, y_train, epochs=5)"
      ],
      "metadata": {
        "id": "bzMceIrs5p86"
      },
      "execution_count": null,
      "outputs": []
    },
    {
      "cell_type": "code",
      "source": [
        "model.evaluate(x_test, y_test, verbose=2)"
      ],
      "metadata": {
        "id": "16oA0pkQ5ux-"
      },
      "execution_count": null,
      "outputs": []
    },
    {
      "cell_type": "code",
      "source": [
        "probability_model = tf.keras.Sequential([\n",
        "    model, tf.keras.layers.Softmax()\n",
        "])"
      ],
      "metadata": {
        "id": "cA8lbbor6pAs"
      },
      "execution_count": null,
      "outputs": []
    },
    {
      "cell_type": "code",
      "source": [
        "probability_model(x_test[:5])"
      ],
      "metadata": {
        "id": "CS-9hREW7H1c"
      },
      "execution_count": null,
      "outputs": []
    },
    {
      "cell_type": "markdown",
      "source": [
        "## More complex dataset\n",
        "\n",
        "Use the CIFAR10 dataset to try a similar modelling technique using keras etc.\n",
        "\n",
        "This dataset contains 60,000 32x32 colour images in 10 classes."
      ],
      "metadata": {
        "id": "nJ7_X1xtjaQY"
      }
    },
    {
      "cell_type": "code",
      "source": [
        "# Load the dataset\n",
        "(X_train, y_train), (X_test, y_test) = tf.keras.datasets.cifar10.load_data()"
      ],
      "metadata": {
        "id": "ICuOz82jikMv"
      },
      "execution_count": null,
      "outputs": []
    },
    {
      "cell_type": "code",
      "source": [
        "# Extremely low resolution images\n",
        "from matplotlib import pyplot as plt\n",
        "\n",
        "print(y_train[1])\n",
        "plt.imshow(X_train[1])"
      ],
      "metadata": {
        "id": "agGAqVHUkwpB"
      },
      "execution_count": null,
      "outputs": []
    },
    {
      "cell_type": "code",
      "source": [
        "import numpy\n",
        "\n",
        "# Find the maximum pixel saturation\n",
        "max_sat = numpy.amax(X_train)\n",
        "\n",
        "# Normalise by the maximum saturation\n",
        "training_data, test_data = tf.data.Dataset.from_tensor_slices(((X_train / max_sat), y_train)), tf.data.Dataset.from_tensor_slices(((X_test / max_sat), y_test))"
      ],
      "metadata": {
        "id": "sWXweFQulrij"
      },
      "execution_count": null,
      "outputs": []
    },
    {
      "cell_type": "code",
      "source": [
        "example = training_data.take(1)"
      ],
      "metadata": {
        "id": "8sZsXNLa6q7n"
      },
      "execution_count": null,
      "outputs": []
    },
    {
      "cell_type": "code",
      "source": [
        "# Build a simple model using the Keras API\n",
        "# Each image has 32 x 32 x 3 = 3072 values and last layer (producing the logits)\n",
        "# requires 10 (for 10 categories).\n",
        "\n",
        "model = tf.keras.models.Sequential([\n",
        "    tf.keras.layers.Flatten(input_shape=(32, 32, 3)),\n",
        "    tf.keras.layers.Dense(128, activation='relu'),\n",
        "    tf.keras.layers.Dropout(0.2),\n",
        "    tf.keras.layers.Dense(10)\n",
        "])"
      ],
      "metadata": {
        "id": "L84ym2cDmqBH"
      },
      "execution_count": null,
      "outputs": []
    },
    {
      "cell_type": "code",
      "source": [
        "# Define the loss function and compile the model with the loss function etc.\n",
        "\n",
        "loss_fn = tf.keras.losses.SparseCategoricalCrossentropy(from_logits=True)\n",
        "\n",
        "model.compile(optimizer=tf.keras.optimizers.Adam(learning_rate=1e-3),\n",
        "              loss=loss_fn, metrics=[\"accuracy\"])"
      ],
      "metadata": {
        "id": "DMY7AKf-m3zT"
      },
      "execution_count": null,
      "outputs": []
    },
    {
      "cell_type": "code",
      "source": [
        "# Batch the dataset\n",
        "\n",
        "batched_dataset = training_data.batch(500)"
      ],
      "metadata": {
        "id": "busSzexu9vs-"
      },
      "execution_count": null,
      "outputs": []
    },
    {
      "cell_type": "code",
      "source": [
        "# Fitting the model gives poor performance\n",
        "\n",
        "model.fit(batched_dataset, batch_size=500, epochs=25)"
      ],
      "metadata": {
        "id": "S_iwUYF-oqZe"
      },
      "execution_count": null,
      "outputs": []
    }
  ]
}