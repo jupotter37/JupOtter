{
 "cells": [
  {
   "cell_type": "markdown",
   "metadata": {},
   "source": [
    "# Data Types"
   ]
  },
  {
   "cell_type": "markdown",
   "metadata": {
    "toc": true
   },
   "source": [
    "## Table of contents:\n",
    " - [1 Memory management in Python - garbage collection](#1-memory)\n",
    " - [2 Numbers and boolean](#2-numbers)\n",
    " - [3 Strings](#3-strings)\n",
    " - [4 Your turn](#4-turn)\n",
    " - [5 Solution](#5-Solution)"
   ]
  },
  {
   "cell_type": "markdown",
   "metadata": {},
   "source": [
    "# 1 Memory management in Python - garbage collection <a name=\"1-memory)\"></a>"
   ]
  },
  {
   "cell_type": "markdown",
   "metadata": {},
   "source": [
    "Generally, the memory management in Python is transparent for the standard developer and is dynamic, happening automatically behind the scenes. A simple yet important mechanism that is applied as part of the process is garbage collection. This is the process of freeing memory from unused objects (data). To illustrate, let’s consider a very basic example.  \n",
    "\n",
    "Python keeps track of the number of references to an object. Observe and run the code below."
   ]
  },
  {
   "cell_type": "code",
   "execution_count": 1,
   "metadata": {
    "collapsed": true
   },
   "outputs": [],
   "source": [
    "count = 30\n",
    "range = count"
   ]
  },
  {
   "cell_type": "markdown",
   "metadata": {},
   "source": [
    "**Think** 🤔 In the code above, how many references are there to the int object that contains the value \"30\"? "
   ]
  },
  {
   "cell_type": "markdown",
   "metadata": {},
   "source": [
    "> The variable count is a reference to an int object that contains 30. Range is equal to another variable that is equal to count, which makes it another reference to the int object 30. So the answer is 2."
   ]
  },
  {
   "cell_type": "markdown",
   "metadata": {},
   "source": [
    "While a reference to the object exists, it will stay allocated in the memory. Once there are no references, the object is removed from the memory by the python garbage collection process which will reclaim the memory resources. Del deletes a reference (the variable), not the object. In the following, we delete both references we just created. Run the code below. "
   ]
  },
  {
   "cell_type": "code",
   "execution_count": 2,
   "metadata": {
    "collapsed": true
   },
   "outputs": [],
   "source": [
    "del count\n",
    "del range"
   ]
  },
  {
   "cell_type": "markdown",
   "metadata": {},
   "source": [
    "Unlike low-level languages like C, you do not need to manually allocate and de-allocate memory. Now, if you try to access the value of count again, you will get a NameError as it is not defined. Run the code below. "
   ]
  },
  {
   "cell_type": "code",
   "execution_count": 3,
   "metadata": {},
   "outputs": [
    {
     "ename": "NameError",
     "evalue": "name 'count' is not defined",
     "output_type": "error",
     "traceback": [
      "\u001b[0;31m---------------------------------------------------------------------------\u001b[0m",
      "\u001b[0;31mNameError\u001b[0m                                 Traceback (most recent call last)",
      "\u001b[0;32m<ipython-input-3-26780ddf2751>\u001b[0m in \u001b[0;36m<module>\u001b[0;34m\u001b[0m\n\u001b[0;32m----> 1\u001b[0;31m \u001b[0mcount\u001b[0m\u001b[0;34m\u001b[0m\u001b[0m\n\u001b[0m",
      "\u001b[0;31mNameError\u001b[0m: name 'count' is not defined"
     ]
    }
   ],
   "source": [
    "count"
   ]
  },
  {
   "cell_type": "markdown",
   "metadata": {},
   "source": [
    "# 2 Numbers and boolean <a name=\"2-numbers\"></a>"
   ]
  },
  {
   "cell_type": "markdown",
   "metadata": {},
   "source": [
    "We can perform mathematical operations with objects with numerical types. You may recall that boolean is a data type that represents either True or False.  "
   ]
  },
  {
   "cell_type": "code",
   "execution_count": 4,
   "metadata": {},
   "outputs": [
    {
     "name": "stdout",
     "output_type": "stream",
     "text": [
      "48\n"
     ]
    },
    {
     "data": {
      "text/plain": [
       "int"
      ]
     },
     "execution_count": 4,
     "metadata": {},
     "output_type": "execute_result"
    }
   ],
   "source": [
    "# this expression calculates the product of 12 and 4, returns an integer (as both 12 and 4 are integers)\n",
    "12 * 4\n",
    "\n",
    "print(12 * 4) # prints the result\n",
    "type(12 * 4) # returns the type of the result"
   ]
  },
  {
   "cell_type": "code",
   "execution_count": 5,
   "metadata": {},
   "outputs": [
    {
     "name": "stdout",
     "output_type": "stream",
     "text": [
      "48.0\n"
     ]
    },
    {
     "data": {
      "text/plain": [
       "float"
      ]
     },
     "execution_count": 5,
     "metadata": {},
     "output_type": "execute_result"
    }
   ],
   "source": [
    "# this expression also calculates the product of 12 and 4, but returns a float (as 12.0 is a float)\n",
    "12.0 * 4\n",
    "\n",
    "print(12.0 * 4) # prints the result\n",
    "type(12.0 * 4) # returns the type of the result"
   ]
  },
  {
   "cell_type": "code",
   "execution_count": 6,
   "metadata": {},
   "outputs": [
    {
     "name": "stdout",
     "output_type": "stream",
     "text": [
      "False\n"
     ]
    },
    {
     "data": {
      "text/plain": [
       "bool"
      ]
     },
     "execution_count": 6,
     "metadata": {},
     "output_type": "execute_result"
    }
   ],
   "source": [
    "# this expression checks whether 5 is equal to 2, returns a boolean\n",
    "5 == 2\n",
    "\n",
    "print(5 == 2)\n",
    "type(5 == 2)"
   ]
  },
  {
   "cell_type": "code",
   "execution_count": 7,
   "metadata": {},
   "outputs": [
    {
     "name": "stdout",
     "output_type": "stream",
     "text": [
      "4.0\n"
     ]
    },
    {
     "data": {
      "text/plain": [
       "float"
      ]
     },
     "execution_count": 7,
     "metadata": {},
     "output_type": "execute_result"
    }
   ],
   "source": [
    "# this is division of 12 by 3, returns a float\n",
    "12 / 3 \n",
    "\n",
    "print(12 / 3)\n",
    "type(12 / 3)"
   ]
  },
  {
   "cell_type": "markdown",
   "metadata": {},
   "source": [
    "# 3 Strings <a name=\"3-strings\"></a>"
   ]
  },
  {
   "cell_type": "markdown",
   "metadata": {},
   "source": [
    "Strings can be surrounded with single or double quotes. For a few examples, view the code below. "
   ]
  },
  {
   "cell_type": "code",
   "execution_count": 8,
   "metadata": {},
   "outputs": [
    {
     "name": "stdout",
     "output_type": "stream",
     "text": [
      "This is a string\n"
     ]
    },
    {
     "data": {
      "text/plain": [
       "str"
      ]
     },
     "execution_count": 8,
     "metadata": {},
     "output_type": "execute_result"
    }
   ],
   "source": [
    "# a string using single quotes\n",
    "print('This is a string')\n",
    "type('This is a string')"
   ]
  },
  {
   "cell_type": "code",
   "execution_count": 9,
   "metadata": {},
   "outputs": [
    {
     "name": "stdout",
     "output_type": "stream",
     "text": [
      "This is also string\n"
     ]
    },
    {
     "data": {
      "text/plain": [
       "str"
      ]
     },
     "execution_count": 9,
     "metadata": {},
     "output_type": "execute_result"
    }
   ],
   "source": [
    "# a string using double quotes\n",
    "print(\"This is also string\")\n",
    "type(\"This is also string\")"
   ]
  },
  {
   "cell_type": "code",
   "execution_count": 10,
   "metadata": {},
   "outputs": [
    {
     "name": "stdout",
     "output_type": "stream",
     "text": [
      "\n"
     ]
    },
    {
     "data": {
      "text/plain": [
       "str"
      ]
     },
     "execution_count": 10,
     "metadata": {},
     "output_type": "execute_result"
    }
   ],
   "source": [
    "# a string object can be of any length, even 0. An empty string:\n",
    "print('')\n",
    "type('')"
   ]
  },
  {
   "cell_type": "markdown",
   "metadata": {},
   "source": [
    "Some characters in Python (and other languages) have special usage. If we would like to use a special character in a string it needs to be with an escape character. In Python the backslash \\ is the escape character. For example: "
   ]
  },
  {
   "cell_type": "code",
   "execution_count": 11,
   "metadata": {},
   "outputs": [
    {
     "data": {
      "text/plain": [
       "\"I'm not lost for I know where I am. But however, where I am may be lost.\""
      ]
     },
     "execution_count": 11,
     "metadata": {},
     "output_type": "execute_result"
    }
   ],
   "source": [
    "# single quotes ' escaped with backslash \\\n",
    "'I\\'m not lost for I know where I am. But however, where I am may be lost.'"
   ]
  },
  {
   "cell_type": "code",
   "execution_count": 12,
   "metadata": {},
   "outputs": [
    {
     "data": {
      "text/plain": [
       "\"You're braver than you believe, stronger than you seem and smarter than you think.\""
      ]
     },
     "execution_count": 12,
     "metadata": {},
     "output_type": "execute_result"
    }
   ],
   "source": [
    "# single quotes ' ' can also be used inside double quotes strings, instead of escaping \n",
    "\"You're braver than you believe, stronger than you seem and smarter than you think.\""
   ]
  },
  {
   "cell_type": "markdown",
   "metadata": {},
   "source": [
    "There are other special string literals, for example:\n",
    "\n",
    " * \\n means new line\n",
    "\n",
    " * \\t means tab\n",
    "\n",
    " * \\ means backslash\n",
    "\n",
    "Try this out by running the code below and observe the results.  "
   ]
  },
  {
   "cell_type": "code",
   "execution_count": 13,
   "metadata": {},
   "outputs": [
    {
     "name": "stdout",
     "output_type": "stream",
     "text": [
      "First line\n",
      "Second line\n",
      "Final\tline\n"
     ]
    }
   ],
   "source": [
    "print(\"First line\\nSecond line\")\n",
    "print('Final\\tline')"
   ]
  },
  {
   "cell_type": "markdown",
   "metadata": {},
   "source": [
    "In the above example, \n",
    "- the first `print` statement first prints \"First line\", then \\n moves to a new line, then prints  the rest of the string, e.g., \"Second line\". \n",
    "- the second `print` statement start from a new line and prints a string \"End\". \n",
    "\n",
    "Fowllowing is another example with \\n and \\t"
   ]
  },
  {
   "cell_type": "code",
   "execution_count": 14,
   "metadata": {},
   "outputs": [
    {
     "name": "stdout",
     "output_type": "stream",
     "text": [
      "I'm not lost for I know where I am.\n",
      "\n",
      "\tBut however, where I am may be lost.\n"
     ]
    }
   ],
   "source": [
    "print('I\\'m not lost for I know where I am.\\n')\n",
    "print('\\tBut however, where I am may be lost.')"
   ]
  },
  {
   "cell_type": "markdown",
   "metadata": {},
   "source": [
    "**Think** 🤔: Can you explain the above result? Why there is an empty line in-between? "
   ]
  },
  {
   "cell_type": "markdown",
   "metadata": {},
   "source": [
    "> In the example above, \\t inserts a tab in the beginning of the string (before But). \\n breaks the line, starting a new line, and finally the function print also prints on a new line."
   ]
  },
  {
   "cell_type": "markdown",
   "metadata": {},
   "source": [
    "We can also use the + operator to concatenate (or join) strings. Run the code below. "
   ]
  },
  {
   "cell_type": "code",
   "execution_count": 15,
   "metadata": {},
   "outputs": [
    {
     "data": {
      "text/plain": [
       "'This is a basic Python tutorial'"
      ]
     },
     "execution_count": 15,
     "metadata": {},
     "output_type": "execute_result"
    }
   ],
   "source": [
    "\"This is a basic\" + \" Python tutorial\""
   ]
  },
  {
   "cell_type": "markdown",
   "metadata": {},
   "source": [
    "Let’s now consolidate the skills you’ve learned so far with some examples. In this next section, you’ll have the opportunity to test your understanding. First, run the code below. "
   ]
  },
  {
   "cell_type": "code",
   "execution_count": 17,
   "metadata": {},
   "outputs": [
    {
     "data": {
      "text/plain": [
       "\"Don't afraid to try yourself\""
      ]
     },
     "execution_count": 17,
     "metadata": {},
     "output_type": "execute_result"
    }
   ],
   "source": [
    "my_string = \"Don't afraid to try\" + \" yourself\"\n",
    "my_string # have a look at my_string"
   ]
  },
  {
   "cell_type": "markdown",
   "metadata": {},
   "source": [
    "Why does this error occur? Copy the above code into the cell below, remove the special character ' (change Don't to Dont) and check the output. "
   ]
  },
  {
   "cell_type": "code",
   "execution_count": 18,
   "metadata": {},
   "outputs": [
    {
     "data": {
      "text/plain": [
       "'Dont afraid to try yourself'"
      ]
     },
     "execution_count": 18,
     "metadata": {},
     "output_type": "execute_result"
    }
   ],
   "source": [
    "# have a try in this cell\n",
    "my_string = 'Dont afraid to try' + \" yourself\"\n",
    "my_string "
   ]
  },
  {
   "cell_type": "markdown",
   "metadata": {},
   "source": [
    "Alternatively, re-enter the above code, adding a backslash \\ before the special character '. "
   ]
  },
  {
   "cell_type": "code",
   "execution_count": 19,
   "metadata": {},
   "outputs": [
    {
     "data": {
      "text/plain": [
       "\"Don't afraid to try yourself\""
      ]
     },
     "execution_count": 19,
     "metadata": {},
     "output_type": "execute_result"
    }
   ],
   "source": [
    "# have a try in this cell\n",
    "my_string = 'Don\\'t afraid to try' + \" yourself\"\n",
    "my_string # have a look at my_string"
   ]
  },
  {
   "cell_type": "markdown",
   "metadata": {},
   "source": [
    "Now, re-enter the above code, but change the single quote to double quotes, and check the output. "
   ]
  },
  {
   "cell_type": "code",
   "execution_count": 20,
   "metadata": {},
   "outputs": [
    {
     "data": {
      "text/plain": [
       "\"Don't afraid to try yourself\""
      ]
     },
     "execution_count": 20,
     "metadata": {},
     "output_type": "execute_result"
    }
   ],
   "source": [
    "# have a try in this cell\n",
    "my_string = \"Don't afraid to try\" + \" yourself\"\n",
    "my_string # have a look at my_string"
   ]
  },
  {
   "cell_type": "markdown",
   "metadata": {},
   "source": [
    "### Dynamic typing in Python "
   ]
  },
  {
   "cell_type": "markdown",
   "metadata": {},
   "source": [
    "A variable can point to data of any type by simply assigning it an object, so there’s no need to declare the type explicitly: \n"
   ]
  },
  {
   "cell_type": "markdown",
   "metadata": {},
   "source": [
    "- `level = 10` this assigns an integer 10 to variable `level`\n",
    "- `type(level)` if you print out the type of `level`, it should show as int\n",
    "- `variable = \"mage\"` this assigns a string \"mage\" to `variable`\n",
    "- `type(variable)` if you print out the type of `variable`, it will show as str"
   ]
  },
  {
   "cell_type": "code",
   "execution_count": 21,
   "metadata": {
    "collapsed": true
   },
   "outputs": [],
   "source": [
    "level = 10"
   ]
  },
  {
   "cell_type": "code",
   "execution_count": 22,
   "metadata": {},
   "outputs": [
    {
     "data": {
      "text/plain": [
       "int"
      ]
     },
     "execution_count": 22,
     "metadata": {},
     "output_type": "execute_result"
    }
   ],
   "source": [
    "type(level)"
   ]
  },
  {
   "cell_type": "code",
   "execution_count": 23,
   "metadata": {},
   "outputs": [
    {
     "name": "stdout",
     "output_type": "stream",
     "text": [
      "mage\n"
     ]
    }
   ],
   "source": [
    "var = \"mage\"\n",
    "print(var)"
   ]
  },
  {
   "cell_type": "code",
   "execution_count": 24,
   "metadata": {},
   "outputs": [
    {
     "data": {
      "text/plain": [
       "str"
      ]
     },
     "execution_count": 24,
     "metadata": {},
     "output_type": "execute_result"
    }
   ],
   "source": [
    "type(var)"
   ]
  },
  {
   "cell_type": "markdown",
   "metadata": {},
   "source": [
    "You can also assign the variable a new object of different type. \n",
    "\n",
    "- `level = \"ten\"` this re-assigns a string \"ten\" to `level`\n",
    "- `type(level)` if you print out the type of `level`, it will shows as str, although it was previously an int. Recall here the variable `level` is just a name and it can point to/reference different objects\n",
    "\n",
    "The type of the variable is determined during runtime (dynamically typed) by the object that it’s bound to. "
   ]
  },
  {
   "cell_type": "code",
   "execution_count": 25,
   "metadata": {},
   "outputs": [
    {
     "data": {
      "text/plain": [
       "str"
      ]
     },
     "execution_count": 25,
     "metadata": {},
     "output_type": "execute_result"
    }
   ],
   "source": [
    "level = \"ten\" \n",
    "\n",
    "type(level) "
   ]
  },
  {
   "cell_type": "markdown",
   "metadata": {},
   "source": [
    "# 4 Your turn <a name=\"4-turn\"></a>"
   ]
  },
  {
   "cell_type": "markdown",
   "metadata": {},
   "source": [
    "Let’s practice what we’ve learned so far by having a go at the tasks below. Once done, compare your work to the solutions at the bottom of the page, and revise any code that you didn’t manage to complete the first time around.   \n",
    "\n",
    "Enter the expression a = 1, and check the type of the variable a "
   ]
  },
  {
   "cell_type": "code",
   "execution_count": 4,
   "metadata": {},
   "outputs": [
    {
     "data": {
      "text/plain": [
       "int"
      ]
     },
     "execution_count": 4,
     "metadata": {},
     "output_type": "execute_result"
    }
   ],
   "source": [
    "a = 1\n",
    "type(a)\n"
   ]
  },
  {
   "cell_type": "markdown",
   "metadata": {},
   "source": [
    "Now assign the variable b a 2 (b=2) and check its type "
   ]
  },
  {
   "cell_type": "code",
   "execution_count": 5,
   "metadata": {},
   "outputs": [
    {
     "data": {
      "text/plain": [
       "int"
      ]
     },
     "execution_count": 5,
     "metadata": {},
     "output_type": "execute_result"
    }
   ],
   "source": [
    "b = a\n",
    "type(b)\n"
   ]
  },
  {
   "cell_type": "markdown",
   "metadata": {},
   "source": [
    "Try adding a+b and check the type of the result "
   ]
  },
  {
   "cell_type": "code",
   "execution_count": 6,
   "metadata": {},
   "outputs": [
    {
     "data": {
      "text/plain": [
       "int"
      ]
     },
     "execution_count": 6,
     "metadata": {},
     "output_type": "execute_result"
    }
   ],
   "source": [
    "type(a + b)"
   ]
  },
  {
   "cell_type": "markdown",
   "metadata": {},
   "source": [
    "Next assign the word ‘two’ to variable c (c=‘two’) and check the type of c, and “five” to variable d. Print both variables and their types. "
   ]
  },
  {
   "cell_type": "code",
   "execution_count": 7,
   "metadata": {},
   "outputs": [
    {
     "name": "stdout",
     "output_type": "stream",
     "text": [
      "twoo\n",
      "five\n"
     ]
    },
    {
     "data": {
      "text/plain": [
       "str"
      ]
     },
     "execution_count": 7,
     "metadata": {},
     "output_type": "execute_result"
    }
   ],
   "source": [
    "c = \"twoo\"\n",
    "print(c)\n",
    "type(c)\n",
    "d = \"five\"\n",
    "print(d)\n",
    "type(d)"
   ]
  },
  {
   "cell_type": "markdown",
   "metadata": {},
   "source": [
    "Now let’s try to perform additions with those variables. Try to add c to d "
   ]
  },
  {
   "cell_type": "code",
   "execution_count": 11,
   "metadata": {},
   "outputs": [
    {
     "data": {
      "text/plain": [
       "'twoo five'"
      ]
     },
     "execution_count": 11,
     "metadata": {},
     "output_type": "execute_result"
    }
   ],
   "source": [
    "c + \" \" + d"
   ]
  },
  {
   "cell_type": "markdown",
   "metadata": {},
   "source": [
    "Trying to perform operations on incompatible types results in a runtime error. Try adding a to c or d. What is the result? "
   ]
  },
  {
   "cell_type": "code",
   "execution_count": 9,
   "metadata": {},
   "outputs": [
    {
     "ename": "TypeError",
     "evalue": "unsupported operand type(s) for +: 'int' and 'str'",
     "output_type": "error",
     "traceback": [
      "\u001b[0;31m---------------------------------------------------------------------------\u001b[0m",
      "\u001b[0;31mTypeError\u001b[0m                                 Traceback (most recent call last)",
      "\u001b[0;32m<ipython-input-9-4fbab87c839c>\u001b[0m in \u001b[0;36m<module>\u001b[0;34m\u001b[0m\n\u001b[0;32m----> 1\u001b[0;31m \u001b[0ma\u001b[0m \u001b[0;34m+\u001b[0m \u001b[0md\u001b[0m\u001b[0;34m\u001b[0m\u001b[0m\n\u001b[0m",
      "\u001b[0;31mTypeError\u001b[0m: unsupported operand type(s) for +: 'int' and 'str'"
     ]
    }
   ],
   "source": [
    "a + d"
   ]
  },
  {
   "cell_type": "markdown",
   "metadata": {},
   "source": [
    "**Think** 🤔: Can you explain the error above? \n",
    "\n",
    "> The above error is because a is an integer int and c is a string str. The operator + have two different meanings for those types. For numerical types (int, float) it represents an arithmetic addition (sum), while for string objects it’s used for concatenation (adding one string to another). The operator is not defined between string and numerical objects. \n",
    " \n",
    "Imagine you want to concatenate the strings two and five. Review the previous codes and then write your code below.  "
   ]
  },
  {
   "cell_type": "code",
   "execution_count": 10,
   "metadata": {},
   "outputs": [
    {
     "data": {
      "text/plain": [
       "'twoo + five is seven'"
      ]
     },
     "execution_count": 10,
     "metadata": {},
     "output_type": "execute_result"
    }
   ],
   "source": [
    "c + \" + \" + d + \" \" + 'is seven'"
   ]
  },
  {
   "cell_type": "markdown",
   "metadata": {},
   "source": [
    "The following example concatenates FIVE string objects. \n",
    "\n",
    "c + \" + \" + d + \" \" + 'is seven' \n",
    "\n",
    "Note that the \" \" is also a string object, which contains a single space. \n",
    "\n",
    "**Think** 🤔: Can you figure out which five string objects are included in the code above? \n",
    "\n",
    "> The five strings are 1:\"two\" (c), 2:\" +  “(space, +, space), 3:\"five\", 4:\" \"(space), 5:\"is seven\""
   ]
  },
  {
   "cell_type": "markdown",
   "metadata": {},
   "source": [
    "# 5 Solution <a name=\"5-Solution\"></a>"
   ]
  },
  {
   "cell_type": "markdown",
   "metadata": {},
   "source": [
    "How did you go? Review the examples below and compare to your attempts above. Run each cell to see the output.    \n",
    "\n",
    "Enter the expression a = 1, and check the type of the variable a. "
   ]
  },
  {
   "cell_type": "code",
   "execution_count": null,
   "metadata": {
    "collapsed": true
   },
   "outputs": [],
   "source": [
    "a = 1 \n",
    "type(a) "
   ]
  },
  {
   "cell_type": "markdown",
   "metadata": {},
   "source": [
    "Now assign the variable b a 2 (b=2) and check its type. "
   ]
  },
  {
   "cell_type": "code",
   "execution_count": null,
   "metadata": {
    "collapsed": true
   },
   "outputs": [],
   "source": [
    "b = 2 \n",
    "type(b) "
   ]
  },
  {
   "cell_type": "markdown",
   "metadata": {},
   "source": [
    "Try adding a+b and check the type of the result. "
   ]
  },
  {
   "cell_type": "code",
   "execution_count": null,
   "metadata": {
    "collapsed": true
   },
   "outputs": [],
   "source": [
    "print(a + b) \n",
    "type(a + b)"
   ]
  },
  {
   "cell_type": "markdown",
   "metadata": {},
   "source": [
    "Next assign ‘two’ to variable c (c=‘two’) and check the type of c, and “five” to variable d. \n",
    "\n",
    "Print both variables and their types. "
   ]
  },
  {
   "cell_type": "code",
   "execution_count": null,
   "metadata": {
    "collapsed": true
   },
   "outputs": [],
   "source": [
    "c = 'two' \n",
    "d = 'five' \n",
    "print(c, d) \n",
    "print(type(c), type(d)) "
   ]
  },
  {
   "cell_type": "markdown",
   "metadata": {},
   "source": [
    "Now let’s try to perform additions with those variables. Try to add c to d "
   ]
  },
  {
   "cell_type": "code",
   "execution_count": null,
   "metadata": {
    "collapsed": true
   },
   "outputs": [],
   "source": [
    "c + d #concantonating two string objects"
   ]
  },
  {
   "cell_type": "markdown",
   "metadata": {},
   "source": [
    "Imagine you want to concatenate the strings two and five. Review the previous codes and then write your code below.  "
   ]
  },
  {
   "cell_type": "code",
   "execution_count": null,
   "metadata": {
    "collapsed": true
   },
   "outputs": [],
   "source": [
    "c + d"
   ]
  },
  {
   "cell_type": "markdown",
   "metadata": {},
   "source": [
    "<div class=\"warning\" style='padding:0.1em; background-color:#e6ffff'>\n",
    "<span>\n",
    "<p style='margin:1em;'>\n",
    "<b>Congratulations!</b></p>\n",
    "<p style='margin:1em;'>\n",
    "You’ve now completed this exercise on the foundations of data types in Python. To revise this activity, return to the Canvas page and read over the content under “What you’ll learn”.</p>\n",
    "<p style='margin-bottom:1em; margin-right:1em; text-align:right; font-family:Georgia'>\n",
    "</p></span>\n",
    "</div>"
   ]
  }
 ],
 "metadata": {
  "kernelspec": {
   "display_name": "Python 3 [3.7]",
   "language": "python",
   "name": "python3"
  },
  "language_info": {
   "codemirror_mode": {
    "name": "ipython",
    "version": 3
   },
   "file_extension": ".py",
   "mimetype": "text/x-python",
   "name": "python",
   "nbconvert_exporter": "python",
   "pygments_lexer": "ipython3",
   "version": "3.7.5"
  },
  "toc": {
   "base_numbering": 1,
   "nav_menu": {},
   "number_sections": true,
   "sideBar": true,
   "skip_h1_title": true,
   "title_cell": "Table of Contents",
   "title_sidebar": "Contents",
   "toc_cell": true,
   "toc_position": {},
   "toc_section_display": true,
   "toc_window_display": true
  }
 },
 "nbformat": 4,
 "nbformat_minor": 4
}
