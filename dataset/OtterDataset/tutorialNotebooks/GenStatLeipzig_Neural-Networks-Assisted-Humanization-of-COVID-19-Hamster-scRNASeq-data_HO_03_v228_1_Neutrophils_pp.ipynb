{
 "cells": [
  {
   "cell_type": "code",
   "execution_count": 1,
   "id": "3293adc6",
   "metadata": {},
   "outputs": [
    {
     "name": "stderr",
     "output_type": "stream",
     "text": [
      "/home/sc.uni-leipzig.de/username/miniconda3/envs/scgen/lib/python3.9/site-packages/statsmodels/compat/pandas.py:65: FutureWarning: pandas.Int64Index is deprecated and will be removed from pandas in a future version. Use pandas.Index with the appropriate dtype instead.\n",
      "  from pandas import Int64Index as NumericIndex\n"
     ]
    }
   ],
   "source": [
    "import scanpy as sc\n",
    "import numpy as np\n",
    "import scgen as scg\n",
    "import pandas as pd\n",
    "import sys\n",
    "sys.path.append(\"/work/users/username/projects/cov/integration/analysis\")\n",
    "import helper_VAE as hVAE\n",
    "import scipy.sparse\n",
    "import scgen\n",
    "import matplotlib.pyplot as plt\n",
    "import seaborn as sns\n",
    "import harmonypy as hpy\n",
    "import anndata\n",
    "import random\n",
    "\n",
    "import os"
   ]
  },
  {
   "cell_type": "code",
   "execution_count": 2,
   "id": "02b1a2ad",
   "metadata": {},
   "outputs": [],
   "source": [
    "species = 'ma'\n",
    "celltype = 'Neutrophils'"
   ]
  },
  {
   "cell_type": "code",
   "execution_count": 3,
   "id": "02c9e9f3",
   "metadata": {},
   "outputs": [],
   "source": [
    "model_save_string = os.getcwd()\n",
    "model_save_string = model_save_string + '/' + celltype + '/H0_01_model_' + celltype + '.pt'"
   ]
  },
  {
   "cell_type": "code",
   "execution_count": 4,
   "id": "18417e03",
   "metadata": {},
   "outputs": [
    {
     "name": "stdout",
     "output_type": "stream",
     "text": [
      "\u001b[34mINFO    \u001b[0m Using data from adata.X                                                             \n",
      "\u001b[34mINFO    \u001b[0m Computing library size prior per batch                                              \n",
      "\u001b[34mINFO    \u001b[0m Registered keys:\u001b[1m[\u001b[0m\u001b[32m'X'\u001b[0m, \u001b[32m'batch_indices'\u001b[0m, \u001b[32m'local_l_mean'\u001b[0m, \u001b[32m'local_l_var'\u001b[0m, \u001b[32m'labels'\u001b[0m\u001b[1m]\u001b[0m     \n",
      "\u001b[34mINFO    \u001b[0m Successfully registered anndata object containing \u001b[1;36m4616\u001b[0m cells, \u001b[1;36m1531\u001b[0m vars, \u001b[1;36m5\u001b[0m batches, \n",
      "         \u001b[1;36m1\u001b[0m labels, and \u001b[1;36m0\u001b[0m proteins. Also registered \u001b[1;36m0\u001b[0m extra categorical covariates and \u001b[1;36m0\u001b[0m extra\n",
      "         continuous covariates.                                                              \n"
     ]
    },
    {
     "name": "stderr",
     "output_type": "stream",
     "text": [
      "/home/sc.uni-leipzig.de/username/miniconda3/envs/scgen/lib/python3.9/site-packages/scvi/data/_anndata.py:301: UserWarning: Training will be faster when sparse matrix is formatted as CSR. It is safe to cast before model initialization.\n",
      "  warnings.warn(\n"
     ]
    }
   ],
   "source": [
    "model = scgen.SCGEN.load(model_save_string)"
   ]
  },
  {
   "cell_type": "code",
   "execution_count": 6,
   "id": "2215d4db",
   "metadata": {},
   "outputs": [
    {
     "name": "stderr",
     "output_type": "stream",
     "text": [
      "/home/sc.uni-leipzig.de/username/miniconda3/envs/scgen/lib/python3.9/site-packages/anndata/_core/anndata.py:1755: FutureWarning: The AnnData.concatenate method is deprecated in favour of the anndata.concat function. Please use anndata.concat instead.\n",
      "\n",
      "See the tutorial for concat at: https://anndata.readthedocs.io/en/latest/concatenation.html\n",
      "  warnings.warn(\n",
      "/home/sc.uni-leipzig.de/username/miniconda3/envs/scgen/lib/python3.9/site-packages/anndata/_core/anndata.py:1755: FutureWarning: The AnnData.concatenate method is deprecated in favour of the anndata.concat function. Please use anndata.concat instead.\n",
      "\n",
      "See the tutorial for concat at: https://anndata.readthedocs.io/en/latest/concatenation.html\n",
      "  warnings.warn(\n",
      "/home/sc.uni-leipzig.de/username/miniconda3/envs/scgen/lib/python3.9/site-packages/anndata/_core/anndata.py:1755: FutureWarning: The AnnData.concatenate method is deprecated in favour of the anndata.concat function. Please use anndata.concat instead.\n",
      "\n",
      "See the tutorial for concat at: https://anndata.readthedocs.io/en/latest/concatenation.html\n",
      "  warnings.warn(\n",
      "/home/sc.uni-leipzig.de/username/miniconda3/envs/scgen/lib/python3.9/site-packages/anndata/_core/anndata.py:1755: FutureWarning: The AnnData.concatenate method is deprecated in favour of the anndata.concat function. Please use anndata.concat instead.\n",
      "\n",
      "See the tutorial for concat at: https://anndata.readthedocs.io/en/latest/concatenation.html\n",
      "  warnings.warn(\n"
     ]
    }
   ],
   "source": [
    "adata = model.adata\n",
    "lat_adata = hVAE.get_latent_representation_object(model,adata)\n",
    "\n",
    "#hVAE.prepare_umap(lat_adata)\n",
    "\n",
    "#sc.pl.umap(lat_adata,color = 'timepoint')\n",
    "\n",
    "d0 = hVAE.filter_adata_obs(lat_adata,col_name='timepoint',val='d0')\n",
    "d2 = hVAE.filter_adata_obs(lat_adata,col_name='timepoint',val='d2')\n",
    "d3 = hVAE.filter_adata_obs(lat_adata,col_name='timepoint',val='d3')\n",
    "d5 = hVAE.filter_adata_obs(lat_adata,col_name='timepoint',val='d5')\n",
    "e14 = hVAE.filter_adata_obs(lat_adata,col_name='timepoint',val='e14')\n",
    "\n",
    "lat_adata = hVAE.merge_adata(hVAE.merge_adata(hVAE.merge_adata(hVAE.merge_adata(e14,d2),d5),d3),d0)\n",
    "\n",
    "delta = hVAE.get_delta_in_latent_space(d0,d2)"
   ]
  },
  {
   "cell_type": "code",
   "execution_count": 7,
   "id": "a880b002",
   "metadata": {},
   "outputs": [
    {
     "name": "stdout",
     "output_type": "stream",
     "text": [
      "\u001b[34mINFO    \u001b[0m Input adata not setup with scvi. attempting to transfer anndata setup               \n",
      "\u001b[34mINFO    \u001b[0m Using data from adata.X                                                             \n",
      "\u001b[34mINFO    \u001b[0m Computing library size prior per batch                                              \n",
      "\u001b[34mINFO    \u001b[0m Registered keys:\u001b[1m[\u001b[0m\u001b[32m'X'\u001b[0m, \u001b[32m'batch_indices'\u001b[0m, \u001b[32m'local_l_mean'\u001b[0m, \u001b[32m'local_l_var'\u001b[0m, \u001b[32m'labels'\u001b[0m\u001b[1m]\u001b[0m     \n",
      "\u001b[34mINFO    \u001b[0m Successfully registered anndata object containing \u001b[1;36m2871\u001b[0m cells, \u001b[1;36m1531\u001b[0m vars, \u001b[1;36m5\u001b[0m batches, \n",
      "         \u001b[1;36m1\u001b[0m labels, and \u001b[1;36m0\u001b[0m proteins. Also registered \u001b[1;36m0\u001b[0m extra categorical covariates and \u001b[1;36m0\u001b[0m extra\n",
      "         continuous covariates.                                                              \n"
     ]
    },
    {
     "name": "stderr",
     "output_type": "stream",
     "text": [
      "/home/sc.uni-leipzig.de/username/miniconda3/envs/scgen/lib/python3.9/site-packages/scvi/data/_anndata.py:301: UserWarning: Training will be faster when sparse matrix is formatted as CSR. It is safe to cast before model initialization.\n",
      "  warnings.warn(\n",
      "/home/sc.uni-leipzig.de/username/miniconda3/envs/scgen/lib/python3.9/site-packages/anndata/_core/anndata.py:1755: FutureWarning: The AnnData.concatenate method is deprecated in favour of the anndata.concat function. Please use anndata.concat instead.\n",
      "\n",
      "See the tutorial for concat at: https://anndata.readthedocs.io/en/latest/concatenation.html\n",
      "  warnings.warn(\n"
     ]
    }
   ],
   "source": [
    "test_set = sc.read_h5ad(celltype + '/H0_01_test_Neutrophils.h5ad')\n",
    "\n",
    "lat_adata_test = hVAE.get_latent_representation_object(model,test_set)\n",
    "\n",
    "lat_d0_test = lat_adata_test[lat_adata_test.obs['timepoint'] == 'd0']\n",
    "\n",
    "lat_d0_test_shifted = hVAE.shift_adata_in_latent_space(lat_d0_test,delta)\n",
    "\n",
    "lat_d0_test_shifted.obs['timepoint'] = 'd2 predicted'\n",
    "\n",
    "lat_test_predicted = hVAE.merge_adata(lat_adata_test,lat_d0_test_shifted)"
   ]
  },
  {
   "cell_type": "code",
   "execution_count": 8,
   "id": "67d74c58",
   "metadata": {},
   "outputs": [],
   "source": [
    "decoded_test = hVAE.decode_latent_object(model,lat_test_predicted,test_set)"
   ]
  },
  {
   "cell_type": "code",
   "execution_count": 11,
   "id": "5bc3a3ca",
   "metadata": {
    "scrolled": true
   },
   "outputs": [
    {
     "data": {
      "text/plain": [
       "d2              1372\n",
       "d5               683\n",
       "d3               325\n",
       "e14              246\n",
       "d0               245\n",
       "d2 predicted     245\n",
       "Name: timepoint, dtype: int64"
      ]
     },
     "execution_count": 11,
     "metadata": {},
     "output_type": "execute_result"
    }
   ],
   "source": [
    "decoded_test.obs['timepoint'].value_counts()"
   ]
  },
  {
   "cell_type": "code",
   "execution_count": 12,
   "id": "70333e73",
   "metadata": {},
   "outputs": [],
   "source": [
    "gene_expression_df = pd.DataFrame(decoded_test.X,columns = decoded_test.var.index,index = decoded_test.obs.index)"
   ]
  },
  {
   "cell_type": "code",
   "execution_count": null,
   "id": "b909613c",
   "metadata": {},
   "outputs": [],
   "source": []
  },
  {
   "cell_type": "code",
   "execution_count": 16,
   "id": "326e79c1",
   "metadata": {},
   "outputs": [],
   "source": [
    "obs_df = decoded_test.obs[['timepoint','uniform_name_acurate_N']]\n",
    "\n",
    "obs_df.to_csv(celltype + '/HO_03_meta_' + celltype + '_' + species + '.csv')\n",
    "\n",
    "gene_expression_df.to_csv(celltype + '/HO_03_gene_expression_' + celltype + '_' + species + '.csv')"
   ]
  }
 ],
 "metadata": {
  "kernelspec": {
   "display_name": "Python 3 (ipykernel)",
   "language": "python",
   "name": "python3"
  },
  "language_info": {
   "codemirror_mode": {
    "name": "ipython",
    "version": 3
   },
   "file_extension": ".py",
   "mimetype": "text/x-python",
   "name": "python",
   "nbconvert_exporter": "python",
   "pygments_lexer": "ipython3",
   "version": "3.9.5"
  }
 },
 "nbformat": 4,
 "nbformat_minor": 5
}
