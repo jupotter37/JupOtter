{
 "cells": [
  {
   "cell_type": "markdown",
   "metadata": {
    "id": "-rnkCP9R2o_Z"
   },
   "source": [
    "# Introduction\n",
    "\n",
    "All student names in group: Safwan Kader, Jerry Xiao, Dylan Lai\n",
    "\n",
    "I understand that my submission needs to be my own group's work: SK, JX, DL\n",
    "\n",
    "I understand that ChatGPT / Copilot / other AI tools are not allowed: SK, JX, DL\n",
    "\n",
    "Points: 10\n",
    "\n",
    "Complete this notebook and submit it (save/print as pdf). Make sure all output is correct in the pdf before submitting (it sometimes gets cut off). The notebook needs to be a complete project report with your implementation, documentation including a short discussion of how your implementation works and your design choices, and experimental results (e.g., tables and charts with simulation results) with a short discussion of what they mean. Use the provided notebook cells and insert additional code and markdown cells as needed."
   ]
  },
  {
   "cell_type": "markdown",
   "metadata": {
    "id": "wdtvm8lB2o_b"
   },
   "source": [
    "## Z3 and Z3py resources\n",
    "\n",
    "For this problem you will be solving constraint satisfaction and logic problems using the Z3 SMT solver via the z3py python library.\n",
    "\n",
    "The demo code using z3py we went over in class is here: [link](https://drive.google.com/drive/folders/16HQXiwdcaman1IpC7H6vSJ71QQQ-aL2z?usp=sharing)\n",
    "\n",
    "Online help for z3py is here: [link](https://ericpony.github.io/z3py-tutorial/guide-examples.htm)"
   ]
  },
  {
   "cell_type": "markdown",
   "metadata": {
    "id": "F6mYrFaM2o_b"
   },
   "source": [
    "## Installation\n",
    "\n",
    "We first install to get the z3solver library using pip and test that works."
   ]
  },
  {
   "cell_type": "code",
   "execution_count": 2,
   "metadata": {
    "colab": {
     "base_uri": "https://localhost:8080/"
    },
    "id": "EoLs1AWw38Tj",
    "outputId": "da23b1d2-6f6a-49e9-8538-f6ceea66ca74"
   },
   "outputs": [
    {
     "name": "stdout",
     "output_type": "stream",
     "text": [
      "Requirement already satisfied: z3-solver in /Users/safkader/.pyenv/versions/3.8.18/lib/python3.8/site-packages (4.12.6.0)\n",
      "Requirement already satisfied: importlib-resources in /Users/safkader/.pyenv/versions/3.8.18/lib/python3.8/site-packages (from z3-solver) (6.1.2)\n",
      "Requirement already satisfied: zipp>=3.1.0 in /Users/safkader/.pyenv/versions/3.8.18/lib/python3.8/site-packages (from importlib-resources->z3-solver) (3.17.0)\n",
      "\n",
      "\u001b[1m[\u001b[0m\u001b[34;49mnotice\u001b[0m\u001b[1;39;49m]\u001b[0m\u001b[39;49m A new release of pip is available: \u001b[0m\u001b[31;49m23.0.1\u001b[0m\u001b[39;49m -> \u001b[0m\u001b[32;49m24.0\u001b[0m\n",
      "\u001b[1m[\u001b[0m\u001b[34;49mnotice\u001b[0m\u001b[1;39;49m]\u001b[0m\u001b[39;49m To update, run: \u001b[0m\u001b[32;49mpip install --upgrade pip\u001b[0m\n"
     ]
    }
   ],
   "source": [
    "!pip install z3-solver"
   ]
  },
  {
   "cell_type": "code",
   "execution_count": 3,
   "metadata": {
    "colab": {
     "base_uri": "https://localhost:8080/"
    },
    "id": "xnQTztNX2o_c",
    "outputId": "5dfd9ee7-fd0a-467c-ef22-c8d08aed308e"
   },
   "outputs": [
    {
     "name": "stdout",
     "output_type": "stream",
     "text": [
      "[y = 0, x = 7]\n"
     ]
    }
   ],
   "source": [
    "# Run the first example from the z3py guide as a test: https://ericpony.github.io/z3py-tutorial/guide-examples.htm\n",
    "from z3 import *\n",
    "\n",
    "x = Int('x')\n",
    "y = Int('y')\n",
    "solve(x > 2, y < 10, x + 2*y == 7)"
   ]
  },
  {
   "cell_type": "markdown",
   "metadata": {
    "id": "9J3lpQvP52jm"
   },
   "source": [
    "# Sudoku as a constraint satisfaction problem (CSP)\n",
    "\n",
    "Sudoku is a popular number-placement puzzle that originated in France in the end of the 19th century.  Modern Sudoku was likely invented by Howard Garns from Connersville, Indiana and was first published in 1979 under the name *Number Place*. The objective of the puzzle is to place numbers 1-9 on a 9$\\times$9 grid, such that each number occurs only once in every row, every column, and every of the nine 3$\\times$3 sub-grids that compose the main grid.\n",
    "Sudoku puzzles are grids that have been partially occupied with numbers. The task is then to occupy the remaining fields in such a way that the constraints on rows, columns, and sub-grids are satisfied.\n",
    "For more information about Sudoku refer to its Wikipedia page at http://en.wikipedia.org/wiki/Sudoku.\n",
    "\n",
    "This problem has two parts. In the first part, you will write the boolean constraints in mathematical notation for solving a Sudoku puzzle. In the second part, you will write code and invoke the Z3 solver to solve the Sudoku instance and answer various questions about the solution.\n",
    "\n",
    "## Part 1 (Constraints)\n",
    "In text, define and write constraints over **boolean** variables corresponding to each number being in each cell. For example, you may use $X_{i,j}^k$ as the variable that is true if and only if the number $k$ is in row $i$ and column $j$ (the variable is true if $k$ is in cell $(i, j)$ and false otherwise). Now write the following boolean constaints over these variables:\n",
    "\n",
    "* Write the boolean formula for the constraints that the number 5 can occur at most once in the first row. **(1 point)**\n",
    "* Write the boolean formula for the constraints that the number 6 can occur at most once in the first column. **(1 point)**\n",
    "* Write the boolean formula for the constraints that the number 9 can occur at most once in the top left 3$\\times$3 sub-grid. **(1 point)**"
   ]
  },
  {
   "cell_type": "markdown",
   "metadata": {
    "id": "ju3Q1ewW7aeu"
   },
   "source": [
    "#### The number 5 occur at most once in the first row\n",
    "$$\n",
    "\\sum_{j=1}^9 X_{1,j}^5 = true\n",
    "$$\n",
    "\n",
    "- For j = 1 (first row of 3x3 sub-grids) in the 9 total squares, the number 5 can be true for cell 1,j (first row of cells).\n",
    "\n",
    "#### The number 6 can occur at most once in the first column\n",
    "\n",
    "$$\n",
    "\\sum_{i=1}^9 X_{i,1}^6 = true\n",
    "$$\n",
    "\n",
    "- For i = 1 (first columns of 3x3 sub-grids in the 9 total squares, the number 6 can be true for cell (i, 1) (first column of cells).\n",
    "\n",
    "#### The number 9 can occur at most once in the top left 3$\\times$3 sub-grid.\n",
    "$$\n",
    "\\sum_{i=1}^3 \\sum_{j=1}^3 X_{i,j}^9 = true\n",
    "$$\n",
    "\n",
    "- For i = 1, j = 1 (top left 3x3 sub-grid), 9 can be true for any cell (i,j)"
   ]
  },
  {
   "cell_type": "markdown",
   "metadata": {
    "id": "y7kArKLH7eOR"
   },
   "source": [
    "## Part 2 (Coding)\n",
    "\n",
    "Encode the above constraints and all the other ones as a CSP using z3py and solve the Sudoku instance given in the figure below. **Use only boolean variables** and do not use the **Distinct** function.\n",
    "\n",
    "* Provide the code to solve that solves the given problem instance using z3py and only boolean variables. The code should output a reasonable visualization of the solution, for example printed in text. **(1 points)**\n",
    "\n",
    "<img src=\"https://raw.githubusercontent.com/stanleybak/CS7320-AI/master/Knowledge-based/sudoku1.jpg\" width=\"400\"/>\n",
    "\n"
   ]
  },
  {
   "cell_type": "code",
   "execution_count": null,
   "metadata": {
    "id": "UghnVSTS-kJi"
   },
   "outputs": [],
   "source": [
    "# z3py code to solve above Sudoku goes here. Do not use Int(*), only Bool(*)\n",
    "from z3 import *\n",
    "\n"
   ]
  },
  {
   "cell_type": "markdown",
   "metadata": {
    "id": "FIkg9eI38VMG"
   },
   "source": [
    "### Uniqueness\n",
    "Is your solution unique? Prove it with a Z3py solver or provide a second solution. **(1 point)**"
   ]
  },
  {
   "cell_type": "code",
   "execution_count": null,
   "metadata": {
    "id": "-ZacX6gz-4os"
   },
   "outputs": [],
   "source": [
    "# Code goes here"
   ]
  },
  {
   "cell_type": "markdown",
   "metadata": {
    "id": "Z6a18s5x-5Hw"
   },
   "source": [
    "### More Uniqueness\n",
    "If you delete the 1 in the top left box of the Sudoku problem above, how many unique solutions are there? Hint: should be less than 5000. **(1 point)**"
   ]
  },
  {
   "cell_type": "code",
   "execution_count": null,
   "metadata": {
    "id": "5_2fNgND_CB4"
   },
   "outputs": [],
   "source": []
  },
  {
   "cell_type": "markdown",
   "metadata": {
    "id": "6nF9g7Ca_SJ1"
   },
   "source": [
    "# Miracle Sudoku\n",
    "\n",
    "Using z3py and only boolean variables, solve the Miracle Sudoku ([spoiler](https://www.youtube.com/watch?v=yKf9aUIxdb4)).\n",
    "In this puzzle normal Sudoku rules apply in addition to the following rules:\n",
    "* Any two cells separated by a knight's move from chess (moving forward two boxes and over one, in any direction) cannot contain the same digit (see image below).\n",
    "* Any two cells separated by a king's move from chess (one box in any direction including diagonals) cannot contain the same digit.\n",
    "* Any two orthogonally adjacent (up, down, left, or right) cells cannot contain consecutive digits."
   ]
  },
  {
   "cell_type": "markdown",
   "metadata": {
    "id": "wwjCVYCiAKXq"
   },
   "source": [
    "### Knight's move constraint image\n",
    "<img src=\"https://raw.githubusercontent.com/stanleybak/CS7320-AI/master/Knowledge-based/knights.jpg\" width=\"400\"/>\n",
    "\n",
    "The knight's move constraint would mean the yellow boxes cannot contain a 1.\n"
   ]
  },
  {
   "cell_type": "markdown",
   "metadata": {
    "id": "S9P6BThtAMv3"
   },
   "source": [
    "## Miracle Sudoku Starting Information\n",
    "Provide the code to solve the puzzle given below. The code should output a reasonable visualization of the solution, for example using text. **(2 points)**\n",
    "\n",
    "<img src=\"https://raw.githubusercontent.com/stanleybak/CS7320-AI/master/Knowledge-based/miracle.jpg\" width=\"400\"/>"
   ]
  },
  {
   "cell_type": "code",
   "execution_count": null,
   "metadata": {
    "id": "E56fFoT7CqpY"
   },
   "outputs": [],
   "source": [
    "# Solution code for Miracle Sudoku using z3py\n",
    "from z3 import *\n",
    "\n"
   ]
  },
  {
   "cell_type": "markdown",
   "metadata": {
    "id": "sy985abkCrfR"
   },
   "source": [
    "\n",
    "\n",
    "---\n",
    "\n",
    "\n",
    "# Propositional Logic\n",
    "\n",
    "Next, we will use truth tables and z3py to prove logical entailment.\n",
    "\n",
    "## Truth Tables\n",
    "\n",
    "Using markdown tables and bold to show relevant rows, use the truth table method to show logical truths.\n",
    "\n",
    "\n",
    "### Example\n",
    "\n",
    "Here's an example that shows $p, p \\rightarrow q \\models q$.  \n",
    "\n",
    "| p | q | p -> q |\n",
    "|-------|-------|---------------------|\n",
    "| **T**     | **T**     | **T**                   |\n",
    "| T     | F     | F                   |\n",
    "| F     | T     | T                   |\n",
    "| F     | F     | T                   |\n",
    "\n",
    "Since $q$ is true whenever $p$ and $p \\rightarrow q$ are true, the expression is true.\n",
    "\n",
    "### Questions\n",
    "\n",
    "Prove that the following semantic entailment expressions are true by using the truth table approach.  Bold the appropriate rows **(1 point)**\n",
    "\n",
    " * $(p\\rightarrow q)\\rightarrow r, s \\rightarrow \\neg p, t, \\neg s, t \\rightarrow q \\models r$\n",
    " * $\\emptyset \\models q \\rightarrow (p \\rightarrow (p \\rightarrow (q \\rightarrow p)))$"
   ]
  },
  {
   "cell_type": "markdown",
   "metadata": {
    "id": "wyZsntivFueN"
   },
   "source": [
    "(add markdown tables here)"
   ]
  },
  {
   "cell_type": "markdown",
   "metadata": {
    "id": "q7le6n2jFu4l"
   },
   "source": [
    "\n",
    "\n",
    "---\n",
    "\n",
    "\n",
    " ## Logical Entailment using z3py\n",
    "\n",
    " Use Z3py to prove the above two entailments are true using satisfiability. See section 7.5 in the book for details. **(1 point)**"
   ]
  },
  {
   "cell_type": "code",
   "execution_count": null,
   "metadata": {
    "id": "Z80-O6FGDtjp"
   },
   "outputs": [],
   "source": [
    "# answer code here"
   ]
  }
 ],
 "metadata": {
  "colab": {
   "provenance": []
  },
  "kernelspec": {
   "display_name": "Python 3 (ipykernel)",
   "language": "python",
   "name": "python3"
  },
  "language_info": {
   "codemirror_mode": {
    "name": "ipython",
    "version": 3
   },
   "file_extension": ".py",
   "mimetype": "text/x-python",
   "name": "python",
   "nbconvert_exporter": "python",
   "pygments_lexer": "ipython3",
   "version": "3.11.5"
  }
 },
 "nbformat": 4,
 "nbformat_minor": 1
}
