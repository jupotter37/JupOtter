{
  "cells": [
    {
      "cell_type": "markdown",
      "metadata": {
        "id": "view-in-github",
        "colab_type": "text"
      },
      "source": [
        "<a href=\"https://colab.research.google.com/github/KoshiBG/Python_for_data_analysis/blob/main/Lecture_2_python_functions_classes_exceptions.ipynb\" target=\"_parent\"><img src=\"https://colab.research.google.com/assets/colab-badge.svg\" alt=\"Open In Colab\"/></a>"
      ]
    },
    {
      "cell_type": "markdown",
      "id": "6f254540",
      "metadata": {
        "id": "6f254540"
      },
      "source": [
        "# Функції\n",
        "\n",
        "Ми вже бачили кілька визначених функцій, але давайте копнемо трохи глибше. Функції в Python дуже інтуїтивно зрозумілі. Почнемо з прикладу функції без параметрів:"
      ]
    },
    {
      "cell_type": "code",
      "execution_count": 1,
      "id": "0156e4ff",
      "metadata": {
        "ExecuteTime": {
          "end_time": "2022-10-20T20:44:29.551779Z",
          "start_time": "2022-10-20T20:44:29.548031Z"
        },
        "id": "0156e4ff"
      },
      "outputs": [],
      "source": [
        "# декларація функції\n",
        "def hello():\n",
        "    # тіло функції\n",
        "    a = 10\n",
        "    # те, що поверне функція\n",
        "    return \"This is my first function!\""
      ]
    },
    {
      "cell_type": "markdown",
      "id": "8b311455",
      "metadata": {
        "id": "8b311455"
      },
      "source": [
        "Ключове слово `def` вказує на _визначення_ функції, за яким слідують ім’я та список аргументів (які ця функція не отримує). Інструкція `return` використовується, щоб перервати потік функції та повернути значення тому, хто цю функцію викликав:"
      ]
    },
    {
      "cell_type": "code",
      "execution_count": 19,
      "id": "672c3d57",
      "metadata": {
        "ExecuteTime": {
          "end_time": "2022-10-20T20:44:31.534352Z",
          "start_time": "2022-10-20T20:44:31.522896Z"
        },
        "id": "672c3d57",
        "colab": {
          "base_uri": "https://localhost:8080/",
          "height": 35
        },
        "outputId": "d951eeaf-d005-45d4-dcab-4ad79160c69c"
      },
      "outputs": [
        {
          "output_type": "execute_result",
          "data": {
            "text/plain": [
              "'This is my first function!'"
            ],
            "application/vnd.google.colaboratory.intrinsic+json": {
              "type": "string"
            }
          },
          "metadata": {},
          "execution_count": 19
        }
      ],
      "source": [
        "# виклик функції\n",
        "hello()"
      ]
    },
    {
      "cell_type": "markdown",
      "id": "63a4054c",
      "metadata": {
        "id": "63a4054c"
      },
      "source": [
        "Якщо функція явно не включає оператор `return`, Python за умовчанням поверне `None`:"
      ]
    },
    {
      "cell_type": "code",
      "execution_count": 3,
      "id": "6e7a48dc",
      "metadata": {
        "ExecuteTime": {
          "end_time": "2022-10-20T20:45:21.536044Z",
          "start_time": "2022-10-20T20:45:21.532886Z"
        },
        "id": "6e7a48dc"
      },
      "outputs": [],
      "source": [
        "def empty():\n",
        "    x = 3"
      ]
    },
    {
      "cell_type": "code",
      "execution_count": 4,
      "id": "e623e636",
      "metadata": {
        "ExecuteTime": {
          "end_time": "2022-10-20T20:45:25.723268Z",
          "start_time": "2022-10-20T20:45:25.720222Z"
        },
        "id": "e623e636",
        "colab": {
          "base_uri": "https://localhost:8080/"
        },
        "outputId": "7be0adfd-57e0-4bbb-db80-23ac3e95ec44"
      },
      "outputs": [
        {
          "output_type": "stream",
          "name": "stdout",
          "text": [
            "None\n"
          ]
        }
      ],
      "source": [
        "result = empty()\n",
        "print(result)"
      ]
    },
    {
      "cell_type": "markdown",
      "id": "65b32fb4",
      "metadata": {
        "id": "65b32fb4"
      },
      "source": [
        "Те саме буде якщо ми додамо інструкцію `return` без значення, яке ми хочемо повернути."
      ]
    },
    {
      "cell_type": "code",
      "execution_count": null,
      "id": "da0443fa",
      "metadata": {
        "ExecuteTime": {
          "end_time": "2022-10-20T20:45:52.149728Z",
          "start_time": "2022-10-20T20:45:52.146992Z"
        },
        "id": "da0443fa"
      },
      "outputs": [],
      "source": [
        "def empty():\n",
        "    x = 3\n",
        "    return"
      ]
    },
    {
      "cell_type": "code",
      "execution_count": null,
      "id": "0b37c899",
      "metadata": {
        "ExecuteTime": {
          "end_time": "2022-10-20T20:46:06.972042Z",
          "start_time": "2022-10-20T20:46:06.968101Z"
        },
        "id": "0b37c899"
      },
      "outputs": [],
      "source": [
        "result = empty()\n",
        "result == None"
      ]
    },
    {
      "cell_type": "markdown",
      "id": "58024387",
      "metadata": {
        "id": "58024387"
      },
      "source": [
        "## Параметри функцій\n",
        "\n",
        "З параметрами в Python можна зробити багато чого; включаючи визначення дефолтних (за замовченням) значень параметрів та передачу іменованих параметрів. Також параметри бувають змінні і динамічні. Але поки що ми зосередимося лише на основах. Параметри функції перераховані у визначенні функції, і вони є частиною локальної області видимості функції:"
      ]
    },
    {
      "cell_type": "code",
      "execution_count": 5,
      "id": "2dd525dd",
      "metadata": {
        "ExecuteTime": {
          "end_time": "2022-10-20T20:47:08.772749Z",
          "start_time": "2022-10-20T20:47:08.768842Z"
        },
        "id": "2dd525dd"
      },
      "outputs": [],
      "source": [
        "def add(x, y):\n",
        "    return x + y"
      ]
    },
    {
      "cell_type": "code",
      "execution_count": 6,
      "id": "ab449776",
      "metadata": {
        "ExecuteTime": {
          "end_time": "2022-10-20T20:49:08.949969Z",
          "start_time": "2022-10-20T20:49:08.945559Z"
        },
        "id": "ab449776",
        "colab": {
          "base_uri": "https://localhost:8080/"
        },
        "outputId": "bb507d3e-3af5-4c68-c01b-ab2cd4b5c670"
      },
      "outputs": [
        {
          "output_type": "execute_result",
          "data": {
            "text/plain": [
              "73"
            ]
          },
          "metadata": {},
          "execution_count": 6
        }
      ],
      "source": [
        "# передаємо аргументи функції\n",
        "foo = 31\n",
        "bar = 42\n",
        "add(foo, bar)"
      ]
    },
    {
      "cell_type": "markdown",
      "id": "0ee8b500",
      "metadata": {
        "ExecuteTime": {
          "end_time": "2022-10-20T10:22:37.320923Z",
          "start_time": "2022-10-20T10:22:37.289385Z"
        },
        "id": "0ee8b500"
      },
      "source": [
        "Що відбувалось можемо прослідкувати у [візуалізаторі](https://pythontutor.com/render.html#code=def%20add%28x,%20y%29%3A%0A%20%20%20%20return%20x%20%2B%20y%0A%20%20%20%20%0Aresult%20%3D%20add%282,%203%29%0Aprint%28result%29&cumulative=false&curInstr=6&heapPrimitives=false&mode=display&origin=opt-frontend.js&py=3&rawInputLstJSON=%5B%5D&textReferences=false)."
      ]
    },
    {
      "cell_type": "markdown",
      "id": "79dcf8a7",
      "metadata": {
        "ExecuteTime": {
          "end_time": "2022-10-20T11:40:29.575667Z",
          "start_time": "2022-10-20T11:40:29.572687Z"
        },
        "id": "79dcf8a7"
      },
      "source": [
        "### Анотації типів"
      ]
    },
    {
      "cell_type": "markdown",
      "id": "f09b139c",
      "metadata": {
        "ExecuteTime": {
          "end_time": "2022-10-20T12:42:13.280579Z",
          "start_time": "2022-10-20T12:42:13.248110Z"
        },
        "id": "f09b139c"
      },
      "source": [
        "Доступно починаючи з Python 3.5."
      ]
    },
    {
      "cell_type": "markdown",
      "id": "7ea26e44",
      "metadata": {
        "ExecuteTime": {
          "end_time": "2022-10-20T11:41:02.357160Z",
          "start_time": "2022-10-20T11:41:02.348952Z"
        },
        "id": "7ea26e44"
      },
      "source": [
        "Ми можемо визначати типи як параметрів, так і значення, яке вертає функція - це поліпшує легкість її використання, адже часто ми використовуємо функції як black box:"
      ]
    },
    {
      "cell_type": "code",
      "execution_count": 13,
      "id": "3be517cf",
      "metadata": {
        "ExecuteTime": {
          "end_time": "2022-10-20T20:53:42.120829Z",
          "start_time": "2022-10-20T20:53:42.116506Z"
        },
        "id": "3be517cf"
      },
      "outputs": [],
      "source": [
        "?add"
      ]
    },
    {
      "cell_type": "code",
      "execution_count": 14,
      "id": "a7577355",
      "metadata": {
        "ExecuteTime": {
          "end_time": "2022-10-20T20:55:32.981192Z",
          "start_time": "2022-10-20T20:55:32.978336Z"
        },
        "id": "a7577355"
      },
      "outputs": [],
      "source": [
        "def add(x: int, y: int) -> int:\n",
        "    \"\"\"\n",
        "    Example of docstring.\n",
        "    Adds two numbers.\n",
        "\n",
        "    :param x: first argument\n",
        "    :param y: second argument\n",
        "\n",
        "    :returns: sum of arguments\n",
        "    \"\"\"\n",
        "    return x + y"
      ]
    },
    {
      "cell_type": "markdown",
      "id": "70e82d04",
      "metadata": {
        "id": "70e82d04"
      },
      "source": [
        "Невеличкий офтоп - найбільш вживані типи докстрінгів - які і як вони виглядають: https://stackoverflow.com/a/24385103"
      ]
    },
    {
      "cell_type": "markdown",
      "id": "0f753b67",
      "metadata": {
        "ExecuteTime": {
          "end_time": "2022-10-20T11:42:40.572478Z",
          "start_time": "2022-10-20T11:42:40.568134Z"
        },
        "id": "0f753b67"
      },
      "source": [
        "Вказання типів не впливає на функціонал: ми все ще можемо передати неправильні типи. Але полегшує розуміння інтерфейсу функції:"
      ]
    },
    {
      "cell_type": "code",
      "execution_count": 11,
      "id": "f9b1a149",
      "metadata": {
        "ExecuteTime": {
          "end_time": "2022-10-20T20:55:45.643550Z",
          "start_time": "2022-10-20T20:55:45.639027Z"
        },
        "id": "f9b1a149"
      },
      "outputs": [],
      "source": [
        "add"
      ]
    },
    {
      "cell_type": "markdown",
      "id": "84fb5696",
      "metadata": {
        "ExecuteTime": {
          "end_time": "2022-10-20T11:43:33.805412Z",
          "start_time": "2022-10-20T11:43:33.801900Z"
        },
        "id": "84fb5696"
      },
      "source": [
        "Аби перевірити тип даних, або будь-яке інше правило, яке нам дуже потрібно аби виконувалось, можемо використати інструкцію `assert`:"
      ]
    },
    {
      "cell_type": "code",
      "execution_count": 16,
      "id": "1e63cda8",
      "metadata": {
        "ExecuteTime": {
          "end_time": "2022-10-20T21:00:50.002884Z",
          "start_time": "2022-10-20T21:00:49.997028Z"
        },
        "id": "1e63cda8"
      },
      "outputs": [],
      "source": [
        "x = 'abc'"
      ]
    },
    {
      "cell_type": "code",
      "execution_count": 18,
      "id": "917451f1",
      "metadata": {
        "ExecuteTime": {
          "end_time": "2022-10-20T21:01:24.263499Z",
          "start_time": "2022-10-20T21:01:24.241564Z"
        },
        "id": "917451f1"
      },
      "outputs": [],
      "source": [
        "assert type(x) == str"
      ]
    },
    {
      "cell_type": "markdown",
      "id": "7af77c5c",
      "metadata": {
        "ExecuteTime": {
          "end_time": "2022-10-20T11:44:21.653520Z",
          "start_time": "2022-10-20T11:44:21.650041Z"
        },
        "id": "7af77c5c"
      },
      "source": [
        "Використання в функції:"
      ]
    },
    {
      "cell_type": "code",
      "execution_count": null,
      "id": "1df197b9",
      "metadata": {
        "ExecuteTime": {
          "end_time": "2022-10-20T21:01:48.003756Z",
          "start_time": "2022-10-20T21:01:48.000287Z"
        },
        "id": "1df197b9"
      },
      "outputs": [],
      "source": [
        "def add(x: int, y: int) -> int:\n",
        "    assert type(x) == int and type(y) == int\n",
        "    return x + y"
      ]
    },
    {
      "cell_type": "code",
      "execution_count": null,
      "id": "1d5d4c2c",
      "metadata": {
        "ExecuteTime": {
          "end_time": "2022-10-20T21:02:00.828216Z",
          "start_time": "2022-10-20T21:02:00.822831Z"
        },
        "id": "1d5d4c2c"
      },
      "outputs": [],
      "source": [
        "add(14, 15)"
      ]
    },
    {
      "cell_type": "code",
      "execution_count": null,
      "id": "1bb71bed",
      "metadata": {
        "ExecuteTime": {
          "end_time": "2022-10-20T21:04:35.475416Z",
          "start_time": "2022-10-20T21:04:35.472598Z"
        },
        "id": "1bb71bed"
      },
      "outputs": [],
      "source": [
        "x = '15'"
      ]
    },
    {
      "cell_type": "code",
      "execution_count": null,
      "id": "11979370",
      "metadata": {
        "ExecuteTime": {
          "end_time": "2022-10-20T21:04:35.852656Z",
          "start_time": "2022-10-20T21:04:35.848406Z"
        },
        "id": "11979370"
      },
      "outputs": [],
      "source": [
        "if isinstance(x, int):\n",
        "    x = x + 1\n",
        "elif isinstance(x, str):\n",
        "    x = int(x) + 1"
      ]
    },
    {
      "cell_type": "markdown",
      "id": "b69507a1",
      "metadata": {
        "id": "b69507a1"
      },
      "source": [
        "### Значення параметрів за замовченням"
      ]
    },
    {
      "cell_type": "markdown",
      "id": "6661d691",
      "metadata": {
        "ExecuteTime": {
          "end_time": "2022-10-20T11:28:19.757378Z",
          "start_time": "2022-10-20T11:28:19.751987Z"
        },
        "id": "6661d691"
      },
      "source": [
        "У параметрів функції може бути значення за замовченням:"
      ]
    },
    {
      "cell_type": "code",
      "execution_count": null,
      "id": "fcab85de",
      "metadata": {
        "ExecuteTime": {
          "end_time": "2022-10-20T21:05:01.809666Z",
          "start_time": "2022-10-20T21:05:01.806627Z"
        },
        "id": "fcab85de"
      },
      "outputs": [],
      "source": [
        "def concat(name='John', surname='Johnson'):\n",
        "    return name + ' ' + surname"
      ]
    },
    {
      "cell_type": "markdown",
      "id": "e8eefcd7",
      "metadata": {
        "ExecuteTime": {
          "end_time": "2022-10-20T11:29:15.122807Z",
          "start_time": "2022-10-20T11:29:15.116527Z"
        },
        "id": "e8eefcd7"
      },
      "source": [
        "Тоді навіть якщо ми не передали аргументів, функція відпрацює."
      ]
    },
    {
      "cell_type": "code",
      "execution_count": null,
      "id": "bc994106",
      "metadata": {
        "ExecuteTime": {
          "end_time": "2022-10-20T22:30:17.911965Z",
          "start_time": "2022-10-20T22:30:17.887731Z"
        },
        "id": "bc994106"
      },
      "outputs": [],
      "source": [
        "concat()"
      ]
    },
    {
      "cell_type": "markdown",
      "id": "aa1c04c4",
      "metadata": {
        "ExecuteTime": {
          "end_time": "2022-10-20T11:47:16.537509Z",
          "start_time": "2022-10-20T11:47:16.534565Z"
        },
        "id": "aa1c04c4"
      },
      "source": [
        "Але параметри зі значенням за замовченням завжди ідуть після параметрів без значень за замовченням:"
      ]
    },
    {
      "cell_type": "code",
      "execution_count": null,
      "id": "38b0ba40",
      "metadata": {
        "ExecuteTime": {
          "end_time": "2022-10-20T21:05:52.285446Z",
          "start_time": "2022-10-20T21:05:52.281028Z"
        },
        "scrolled": true,
        "id": "38b0ba40"
      },
      "outputs": [],
      "source": [
        "def foo(a=15, b=10, c):\n",
        "    return a + b + c"
      ]
    },
    {
      "cell_type": "code",
      "execution_count": null,
      "id": "19060dd7",
      "metadata": {
        "ExecuteTime": {
          "end_time": "2022-10-20T21:06:11.605742Z",
          "start_time": "2022-10-20T21:06:11.602971Z"
        },
        "id": "19060dd7"
      },
      "outputs": [],
      "source": [
        "def foo(c, a=15, b=10):\n",
        "    return a + b + c"
      ]
    },
    {
      "cell_type": "code",
      "execution_count": null,
      "id": "c143f529",
      "metadata": {
        "ExecuteTime": {
          "end_time": "2022-10-20T21:06:15.414380Z",
          "start_time": "2022-10-20T21:06:15.410083Z"
        },
        "id": "c143f529"
      },
      "outputs": [],
      "source": [
        "foo(1)"
      ]
    },
    {
      "cell_type": "markdown",
      "id": "c01cdf5d",
      "metadata": {
        "ExecuteTime": {
          "end_time": "2022-10-20T11:46:06.098441Z",
          "start_time": "2022-10-20T11:46:06.096140Z"
        },
        "id": "c01cdf5d"
      },
      "source": [
        "### Звернення до параметрів за іменем"
      ]
    },
    {
      "cell_type": "markdown",
      "id": "89ffb480",
      "metadata": {
        "id": "89ffb480"
      },
      "source": [
        "До параметрів можна звертатись за іменем в довільному порядку:"
      ]
    },
    {
      "cell_type": "code",
      "execution_count": null,
      "id": "cdc6a9b7",
      "metadata": {
        "ExecuteTime": {
          "end_time": "2022-10-20T22:30:26.389188Z",
          "start_time": "2022-10-20T22:30:26.377479Z"
        },
        "id": "cdc6a9b7"
      },
      "outputs": [],
      "source": [
        "surname = 'Holmes'\n",
        "concat(surname=surname, name='Sherlock')"
      ]
    },
    {
      "cell_type": "markdown",
      "id": "102854a2",
      "metadata": {
        "id": "102854a2"
      },
      "source": [
        "Але отак не можна:"
      ]
    },
    {
      "cell_type": "code",
      "execution_count": null,
      "id": "df965f05",
      "metadata": {
        "ExecuteTime": {
          "end_time": "2022-10-20T22:30:38.932783Z",
          "start_time": "2022-10-20T22:30:38.906625Z"
        },
        "id": "df965f05"
      },
      "outputs": [],
      "source": [
        "concat(surname='Holmes', 'Sherlock')"
      ]
    },
    {
      "cell_type": "markdown",
      "id": "f74f44f6",
      "metadata": {
        "id": "f74f44f6"
      },
      "source": [
        "### Змінна кількість параметрів функції"
      ]
    },
    {
      "cell_type": "markdown",
      "id": "940a8287",
      "metadata": {
        "id": "940a8287"
      },
      "source": [
        "Ми також можемо визначити функції, які приймають змінну кількість аргументів, використовуючи `*args`:"
      ]
    },
    {
      "cell_type": "code",
      "execution_count": null,
      "id": "2ef036a8",
      "metadata": {
        "ExecuteTime": {
          "end_time": "2022-10-20T21:09:32.316023Z",
          "start_time": "2022-10-20T21:09:32.312543Z"
        },
        "id": "2ef036a8"
      },
      "outputs": [],
      "source": [
        "def add(*args):\n",
        "    return sum(args)"
      ]
    },
    {
      "cell_type": "code",
      "execution_count": null,
      "id": "deabca42",
      "metadata": {
        "ExecuteTime": {
          "end_time": "2022-10-20T21:10:23.903577Z",
          "start_time": "2022-10-20T21:10:23.899581Z"
        },
        "id": "deabca42"
      },
      "outputs": [],
      "source": [
        "add(*tuple(range(10)))"
      ]
    },
    {
      "cell_type": "code",
      "execution_count": null,
      "id": "300825ca",
      "metadata": {
        "ExecuteTime": {
          "end_time": "2022-10-20T08:43:44.385696Z",
          "start_time": "2022-10-20T08:43:44.381753Z"
        },
        "id": "300825ca"
      },
      "outputs": [],
      "source": [
        "add(1)"
      ]
    },
    {
      "cell_type": "markdown",
      "id": "b38134ab",
      "metadata": {
        "id": "b38134ab"
      },
      "source": [
        "Змінною може бути і кількість _іменованих_ аргументів, `**kwargs`:"
      ]
    },
    {
      "cell_type": "code",
      "execution_count": null,
      "id": "3b581380",
      "metadata": {
        "ExecuteTime": {
          "end_time": "2022-10-20T21:11:28.848150Z",
          "start_time": "2022-10-20T21:11:28.844674Z"
        },
        "id": "3b581380"
      },
      "outputs": [],
      "source": [
        "def demo(**kwargs):\n",
        "    print(kwargs)"
      ]
    },
    {
      "cell_type": "code",
      "execution_count": null,
      "id": "ada318fc",
      "metadata": {
        "ExecuteTime": {
          "end_time": "2022-10-20T21:11:39.800437Z",
          "start_time": "2022-10-20T21:11:39.797138Z"
        },
        "id": "ada318fc"
      },
      "outputs": [],
      "source": [
        "demo(name=\"Humpty\", location=\"Wall\", surname='Pump')"
      ]
    },
    {
      "cell_type": "markdown",
      "id": "8221b230",
      "metadata": {
        "id": "8221b230"
      },
      "source": [
        "### Передача параметрів колекціями"
      ]
    },
    {
      "cell_type": "markdown",
      "id": "0faf5c63",
      "metadata": {
        "ExecuteTime": {
          "end_time": "2022-10-20T11:37:11.156779Z",
          "start_time": "2022-10-20T11:37:11.139345Z"
        },
        "id": "0faf5c63"
      },
      "source": [
        "Можемо ще передавати аргументи у функцію кортежем або масивом, якщо хочемо передати неіменовані аргументи:"
      ]
    },
    {
      "cell_type": "code",
      "execution_count": null,
      "id": "a5ce5f18",
      "metadata": {
        "ExecuteTime": {
          "end_time": "2022-10-20T21:12:02.886558Z",
          "start_time": "2022-10-20T21:12:02.883036Z"
        },
        "id": "a5ce5f18"
      },
      "outputs": [],
      "source": [
        "def list_numbers(first, second, third):\n",
        "    print(\"First number\", first)\n",
        "    print(\"Second number\", second)\n",
        "    print(\"Third number\", third)"
      ]
    },
    {
      "cell_type": "code",
      "execution_count": null,
      "id": "1312b085",
      "metadata": {
        "ExecuteTime": {
          "end_time": "2022-10-20T21:12:03.367416Z",
          "start_time": "2022-10-20T21:12:03.362946Z"
        },
        "id": "1312b085"
      },
      "outputs": [],
      "source": [
        "args = [\"One\",\"Two\",\"Three\"]\n",
        "list_numbers(*args)"
      ]
    },
    {
      "cell_type": "markdown",
      "id": "348a4728",
      "metadata": {
        "ExecuteTime": {
          "end_time": "2022-10-20T11:37:33.571712Z",
          "start_time": "2022-10-20T11:37:33.564597Z"
        },
        "id": "348a4728"
      },
      "source": [
        "Або словником, якщо хочемо передати іменовані аргументи:"
      ]
    },
    {
      "cell_type": "code",
      "execution_count": null,
      "id": "09c54f67",
      "metadata": {
        "ExecuteTime": {
          "end_time": "2022-10-20T22:31:25.740075Z",
          "start_time": "2022-10-20T22:31:25.718580Z"
        },
        "id": "09c54f67"
      },
      "outputs": [],
      "source": [
        "kwargs = {\n",
        "    \"third\": \"Three\",\n",
        "    \"second\": \"Two\",\n",
        "    \"first\": \"One\"\n",
        "}\n",
        "list_numbers(**kwargs)"
      ]
    },
    {
      "cell_type": "markdown",
      "id": "742d3830",
      "metadata": {
        "id": "742d3830"
      },
      "source": [
        "## Приклад використання функцій"
      ]
    },
    {
      "cell_type": "markdown",
      "id": "46f156c3",
      "metadata": {
        "id": "46f156c3"
      },
      "source": [
        "### Обчислення виразу"
      ]
    },
    {
      "cell_type": "markdown",
      "id": "1094d99b",
      "metadata": {
        "ExecuteTime": {
          "end_time": "2022-10-20T09:35:11.971999Z",
          "start_time": "2022-10-20T09:35:11.967705Z"
        },
        "id": "1094d99b"
      },
      "source": [
        "Основне призначення функцій — групувати код, який виконується кілька разів. Наприклад, нам треба порахувати наступний вираз для різних значень параметрів a, b, c:  \n",
        "```(a + 1) + (b + 1) + (c + 1)```"
      ]
    },
    {
      "cell_type": "code",
      "execution_count": null,
      "id": "c4de9662",
      "metadata": {
        "ExecuteTime": {
          "end_time": "2022-10-20T21:13:53.265234Z",
          "start_time": "2022-10-20T21:13:53.262413Z"
        },
        "id": "c4de9662"
      },
      "outputs": [],
      "source": [
        "def increment(x):\n",
        "    return x + 1"
      ]
    },
    {
      "cell_type": "code",
      "execution_count": null,
      "id": "175e3af7",
      "metadata": {
        "ExecuteTime": {
          "end_time": "2022-10-20T21:13:55.022817Z",
          "start_time": "2022-10-20T21:13:55.019532Z"
        },
        "id": "175e3af7"
      },
      "outputs": [],
      "source": [
        "def eval_expression(a, b, c):\n",
        "    return increment(a) + increment(b) + increment(c)"
      ]
    },
    {
      "cell_type": "code",
      "execution_count": null,
      "id": "78008580",
      "metadata": {
        "ExecuteTime": {
          "end_time": "2022-10-20T21:14:12.137546Z",
          "start_time": "2022-10-20T21:14:12.133569Z"
        },
        "id": "78008580"
      },
      "outputs": [],
      "source": [
        "eval_expression(11, 12, 13)"
      ]
    },
    {
      "cell_type": "code",
      "execution_count": null,
      "id": "8b450106",
      "metadata": {
        "ExecuteTime": {
          "end_time": "2022-10-20T21:14:12.275296Z",
          "start_time": "2022-10-20T21:14:12.268934Z"
        },
        "id": "8b450106"
      },
      "outputs": [],
      "source": [
        "eval_expression(22, 15, 18)"
      ]
    },
    {
      "cell_type": "markdown",
      "id": "b5865022",
      "metadata": {
        "id": "b5865022"
      },
      "source": [
        "Без функцій ми б писали для кожного виразу наступне:"
      ]
    },
    {
      "cell_type": "code",
      "execution_count": null,
      "id": "0619b77c",
      "metadata": {
        "ExecuteTime": {
          "end_time": "2022-10-20T21:14:24.782263Z",
          "start_time": "2022-10-20T21:14:24.778284Z"
        },
        "id": "0619b77c"
      },
      "outputs": [],
      "source": [
        "(11 + 1) + (12 + 1) + (13 + 1 )"
      ]
    },
    {
      "cell_type": "markdown",
      "id": "d30523c8",
      "metadata": {
        "ExecuteTime": {
          "end_time": "2022-10-20T09:41:11.943417Z",
          "start_time": "2022-10-20T09:41:11.934039Z"
        },
        "id": "d30523c8"
      },
      "source": [
        "А якщо б нам треба було зробити обчислення для 1000 трійок чисел? Ми б 1000 скопіювали той код.  \n",
        "А якщо потім раптом нам би довелось внести зміну у вираз і зробити з нього наступний:\n",
        "    ```(a + 1) + (b + 1) + (c + 1) + 100```\n",
        "    \n",
        "Нам би довелось відредагувати код в 1000 рядках. А уявіть, що кожен з цих рядків викликається в окремому файлі. Велика імовірність, що ми могли б щось десь загубити і не виправити, а потім шукати помилку.\n",
        "Тож, якщо у вас один и той самий код виконується в двох місцях - вже є сенс написати функцію, аби уникнути дублювання коду."
      ]
    },
    {
      "cell_type": "markdown",
      "id": "d372b014",
      "metadata": {
        "ExecuteTime": {
          "end_time": "2022-10-20T10:36:15.151942Z",
          "start_time": "2022-10-20T10:36:15.144759Z"
        },
        "id": "d372b014"
      },
      "source": [
        "## Стек викликів\n",
        "Python запам’ятає, який рядок коду викликав функцію, щоб виконання могло повернутися туди, коли зустрінеться оператор `return`.  \n",
        "Якщо ця оригінальна функція викликала інші функції, виконуються спочатку ті функції, а потім повертаємось до виконання першої функції."
      ]
    },
    {
      "cell_type": "code",
      "execution_count": null,
      "id": "048374f6",
      "metadata": {
        "ExecuteTime": {
          "end_time": "2022-10-20T21:19:07.124013Z",
          "start_time": "2022-10-20T21:19:07.117730Z"
        },
        "id": "048374f6"
      },
      "outputs": [],
      "source": [
        "def a():\n",
        "    print('a() starts')\n",
        "    b()\n",
        "    d()\n",
        "    print('a() returns')\n",
        "\n",
        "def b():\n",
        "    print('b() starts')\n",
        "    c()\n",
        "    print('b() returns')\n",
        "\n",
        "def c():\n",
        "    print('c() starts')\n",
        "    print('c() returns')\n",
        "\n",
        "def d():\n",
        "    print('d() starts')\n",
        "    print('d() returns')\n",
        "\n",
        "a()"
      ]
    },
    {
      "cell_type": "markdown",
      "id": "95e26759",
      "metadata": {
        "ExecuteTime": {
          "end_time": "2022-10-20T10:34:42.456393Z",
          "start_time": "2022-10-20T10:34:42.448365Z"
        },
        "id": "95e26759"
      },
      "source": [
        "Можемо прослідкувати виконання [тут](https://pythontutor.com/render.html#code=def%20a%28%29%3A%0A%20%20%20%20print%28'a%28%29%20starts'%29%0A%20%20%20%20b%28%29%0A%20%20%20%20d%28%29%0A%20%20%20%20print%28'a%28%29%20returns'%29%0A%0Adef%20b%28%29%3A%0A%20%20%20%20print%28'b%28%29%20starts'%29%0A%20%20%20%20c%28%29%0A%20%20%20%20print%28'b%28%29%20returns'%29%0A%0Adef%20c%28%29%3A%0A%20%20%20%20print%28'c%28%29%20starts'%29%0A%20%20%20%20print%28'c%28%29%20returns'%29%0A%0Adef%20d%28%29%3A%0A%20%20%20%20print%28'd%28%29%20starts'%29%0A%20%20%20%20print%28'd%28%29%20returns'%29%0A%0Aa%28%29&cumulative=false&curInstr=0&heapPrimitives=false&mode=display&origin=opt-frontend.js&py=3&rawInputLstJSON=%5B%5D&textReferences=false)."
      ]
    },
    {
      "cell_type": "markdown",
      "id": "e9f66bcb",
      "metadata": {
        "id": "e9f66bcb"
      },
      "source": [
        "![Unknown.jpg](data:image/jpeg;base64,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![Unknown.webp](data:image/webp;base64,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))"
      ]
    },
    {
      "cell_type": "markdown",
      "id": "fb7fd767",
      "metadata": {
        "ExecuteTime": {
          "end_time": "2022-10-20T10:39:54.993748Z",
          "start_time": "2022-10-20T10:39:54.984886Z"
        },
        "id": "fb7fd767"
      },
      "source": [
        "## Глобальний і локальний області видимості\n",
        "\n",
        "Параметри та змінні, призначені у викликаній функції, вважаються такими, що існують у локальній області видимості цієї функції.   \n",
        "Кажуть, що змінні, які визначаються поза всіма функціями, існують у глобальній області видимості.   \n",
        "Змінна, яка існує в локальній області, називається `локальною змінною`, тоді як змінна, яка існує в глобальній області, називається `глобальною змінною`.   \n",
        "Змінна має бути або локальною, або глобальною; вона не може бути одночасно в обох областях видимості.  \n",
        "\n",
        "\n",
        "Ми маємо зважати на області видимості з кількох причин:\n",
        "\n",
        "- Код у глобальній області видимості, поза всіма функціями, не може використовувати локальні змінні будь-якої з функцій.\n",
        "- Однак код у локальній області може мати доступ до глобальних змінних.\n",
        "- Код у локальній області видимості функції не може використовувати змінні в будь-якій іншій локальній області видимості.\n",
        "- Ви можете використовувати однакові назви для різних змінних, якщо вони знаходяться в різних областях видимості. Тобто може існувати локальна змінна з іменем `spam` і глобальна змінна з іменем `spam`.\n",
        "\n",
        "\n",
        "Приклад змінної в локальній області видимостій функції:\n"
      ]
    },
    {
      "cell_type": "code",
      "execution_count": null,
      "id": "2a6dd9ee",
      "metadata": {
        "ExecuteTime": {
          "end_time": "2022-10-20T21:23:24.788903Z",
          "start_time": "2022-10-20T21:23:24.763034Z"
        },
        "id": "2a6dd9ee"
      },
      "outputs": [],
      "source": [
        "def spam():\n",
        "    eggs = 12345\n",
        "\n",
        "spam()\n",
        "print(eggs)"
      ]
    },
    {
      "cell_type": "markdown",
      "id": "c943479a",
      "metadata": {
        "id": "c943479a"
      },
      "source": [
        "Приклад того, що локальні області видимості не можуть використовувати змінні з інших локальних областей видимості."
      ]
    },
    {
      "cell_type": "code",
      "execution_count": null,
      "id": "e50eaa8e",
      "metadata": {
        "ExecuteTime": {
          "end_time": "2022-10-20T21:24:21.220633Z",
          "start_time": "2022-10-20T21:24:21.200976Z"
        },
        "id": "e50eaa8e"
      },
      "outputs": [],
      "source": [
        "def spam():\n",
        "    eggs = 100\n",
        "    bacon()\n",
        "    print(eggs)\n",
        "\n",
        "def bacon():\n",
        "    ham = 22\n",
        "    eggs = 13\n",
        "\n",
        "spam()"
      ]
    },
    {
      "cell_type": "markdown",
      "id": "a61a166d",
      "metadata": {
        "id": "a61a166d"
      },
      "source": [
        "Приклад того, що глобальні змінні можна читати з локальної області видимості:"
      ]
    },
    {
      "cell_type": "code",
      "execution_count": null,
      "id": "44bb95d7",
      "metadata": {
        "ExecuteTime": {
          "end_time": "2022-10-20T21:24:48.026398Z",
          "start_time": "2022-10-20T21:24:48.022846Z"
        },
        "id": "44bb95d7"
      },
      "outputs": [],
      "source": [
        "def spam():\n",
        "    print(eggs)\n",
        "\n",
        "eggs = 54\n",
        "spam()\n",
        "print(eggs)"
      ]
    },
    {
      "cell_type": "markdown",
      "id": "ddd70270",
      "metadata": {
        "ExecuteTime": {
          "end_time": "2022-10-20T10:49:36.200014Z",
          "start_time": "2022-10-20T10:49:36.187684Z"
        },
        "id": "ddd70270"
      },
      "source": [
        "Приклад локальних та глобальних змінних з однаковими іменами:"
      ]
    },
    {
      "cell_type": "code",
      "execution_count": null,
      "id": "d3af9816",
      "metadata": {
        "ExecuteTime": {
          "end_time": "2022-10-20T21:25:43.844077Z",
          "start_time": "2022-10-20T21:25:43.839233Z"
        },
        "id": "d3af9816"
      },
      "outputs": [],
      "source": [
        "def spam():\n",
        "    eggs = 'spam local'\n",
        "    print(eggs)\n",
        "\n",
        "def bacon():\n",
        "    eggs = 'bacon local'\n",
        "    print(eggs)\n",
        "    spam()\n",
        "    print(eggs)\n",
        "\n",
        "eggs = 'global'\n",
        "bacon()\n",
        "print(eggs)"
      ]
    },
    {
      "cell_type": "markdown",
      "id": "300ae553",
      "metadata": {
        "id": "300ae553"
      },
      "source": [
        "Можна відслідкувати виконання [тут](https://pythontutor.com/render.html#code=def%20spam%28%29%3A%0A%20%20%20%20eggs%20%3D%20'spam%20local'%0A%20%20%20%20print%28eggs%29%20%20%20%20%23%20prints%20'spam%20local'%0A%0Adef%20bacon%28%29%3A%0A%20%20%20%20eggs%20%3D%20'bacon%20local'%0A%20%20%20%20print%28eggs%29%20%20%20%20%23%20prints%20'bacon%20local'%0A%20%20%20%20spam%28%29%0A%20%20%20%20print%28eggs%29%20%20%20%20%23%20prints%20'bacon%20local'%0A%0Aeggs%20%3D%20'global'%0Abacon%28%29%0Aprint%28eggs%29%20%20%20%20%20%20%20%20%23%20prints%20'global'&cumulative=false&curInstr=0&heapPrimitives=false&mode=display&origin=opt-frontend.js&py=3&rawInputLstJSON=%5B%5D&textReferences=false)."
      ]
    },
    {
      "cell_type": "markdown",
      "id": "486fe2e5",
      "metadata": {
        "ExecuteTime": {
          "end_time": "2022-10-20T10:55:55.611755Z",
          "start_time": "2022-10-20T10:55:55.609164Z"
        },
        "id": "486fe2e5"
      },
      "source": [
        "## Вираз `global`\n",
        "\n",
        "Якщо вам потрібно змінити глобальну змінну всередині функції, скористайтеся оператором `global`."
      ]
    },
    {
      "cell_type": "code",
      "execution_count": null,
      "id": "6c8c16f8",
      "metadata": {
        "ExecuteTime": {
          "end_time": "2022-10-20T21:27:09.387786Z",
          "start_time": "2022-10-20T21:27:09.381606Z"
        },
        "id": "6c8c16f8"
      },
      "outputs": [],
      "source": [
        "def spam():\n",
        "    global eggs\n",
        "    eggs = 'spam'\n",
        "\n",
        "eggs = 'global'\n",
        "spam()\n",
        "print(eggs)"
      ]
    },
    {
      "cell_type": "markdown",
      "id": "2711dd6a",
      "metadata": {
        "id": "2711dd6a"
      },
      "source": [
        "Існує чотири правила, які визначають, чи знаходиться змінна в локальній чи глобальній області видимості:\n",
        "\n",
        "- Якщо змінна використовується в глобальній області (тобто поза всіма функціями), то це завжди глобальна змінна.\n",
        "- Якщо для цієї змінної у функції є оператор `global`, це глобальна змінна.\n",
        "- В іншому випадку, якщо змінна використовується в операторі присвоєння у функції, це локальна змінна.\n",
        "- Але якщо змінна не використовується в операторі присвоєння, вона є глобальною змінною.\n",
        "\n",
        "Якщо ви раптом забули ці правила, ви завжджи можете потестувати на простому прикладі те, що хочете реалізувати."
      ]
    },
    {
      "cell_type": "markdown",
      "id": "e690f827",
      "metadata": {
        "id": "e690f827"
      },
      "source": [
        "Розглянемо приклад:"
      ]
    },
    {
      "cell_type": "code",
      "execution_count": null,
      "id": "df8a8432",
      "metadata": {
        "ExecuteTime": {
          "end_time": "2022-10-20T21:30:03.491204Z",
          "start_time": "2022-10-20T21:30:03.485893Z"
        },
        "id": "df8a8432"
      },
      "outputs": [],
      "source": [
        "def spam():\n",
        "    global eggs\n",
        "    eggs = 'spam' # глобальна змінна\n",
        "\n",
        "def bacon():\n",
        "    eggs = 'bacon' # локальна\n",
        "\n",
        "def ham():\n",
        "    print(eggs) # глобальна\n",
        "\n",
        "eggs = 42 # глобальна\n",
        "spam()\n",
        "print(eggs)\n",
        "bacon()\n",
        "print(eggs)\n",
        "ham()\n",
        "print(eggs)"
      ]
    },
    {
      "cell_type": "markdown",
      "id": "f7dd35bf",
      "metadata": {
        "id": "f7dd35bf"
      },
      "source": [
        "Якщо ви спробуєте використати локальну змінну у функції перед тим, як присвоїти їй значення, як у наступній програмі, Python видасть вам помилку."
      ]
    },
    {
      "cell_type": "code",
      "execution_count": null,
      "id": "e17f4902",
      "metadata": {
        "ExecuteTime": {
          "end_time": "2022-10-20T21:31:11.786283Z",
          "start_time": "2022-10-20T21:31:11.752723Z"
        },
        "id": "e17f4902"
      },
      "outputs": [],
      "source": [
        "def spam():\n",
        "    print(eggs) # Помилка\n",
        "    eggs = 'spam local'\n",
        "\n",
        "eggs = 'global'\n",
        "spam()"
      ]
    },
    {
      "cell_type": "markdown",
      "id": "41d636fc",
      "metadata": {
        "id": "41d636fc"
      },
      "source": [
        "Ця помилка виникає через те, що Python бачить, що у функції `spam()` є оператор призначення для `eggs` змінної - значить вона - локальна."
      ]
    },
    {
      "cell_type": "markdown",
      "id": "68af9a21",
      "metadata": {
        "id": "68af9a21"
      },
      "source": [
        "# Модулі"
      ]
    },
    {
      "cell_type": "markdown",
      "id": "19c472a9",
      "metadata": {
        "ExecuteTime": {
          "end_time": "2022-10-20T09:18:40.154504Z",
          "start_time": "2022-10-20T09:18:40.123448Z"
        },
        "id": "19c472a9"
      },
      "source": [
        "Усі програми Python можуть викликати базовий набір функцій, які називаються вбудованими функціями, включаючи функції print(), input() і len(), які ви бачили раніше.  \n",
        "Python також поставляється з набором модулів, який називається `стандартною бібліотекою`.  \n",
        "Кожен модуль — це програма Python, яка містить пов’язану групу функцій, які можна використати у ваших програмах.   \n",
        "Наприклад, модуль `math` має функції, пов’язані з математикою, модуль `random` — функції, пов’язані з випадковими числами, і так далі.\n",
        "\n",
        "Перш ніж ви зможете використовувати функції в модулі, ви повинні імпортувати модуль за допомогою оператора імпорту. У коді оператор імпорту складається з наступного:\n",
        "\n",
        "1. Ключове слово `import`\n",
        "2. Назва модуля\n",
        "3. Можна імпортувати кілька модулів, вказавши їх назви через кому, але зазвичай ми імпортуємо один модуль в одному рядку\n",
        "\n",
        "Після імпорту модуля ви зможете використовувати всі цікаві функції цього модуля. Давайте спробуємо з модулем random, який надасть нам доступ до функції random.randint()."
      ]
    },
    {
      "cell_type": "code",
      "execution_count": null,
      "id": "cd537549",
      "metadata": {
        "ExecuteTime": {
          "end_time": "2022-10-20T21:35:20.045098Z",
          "start_time": "2022-10-20T21:35:20.041215Z"
        },
        "id": "cd537549"
      },
      "outputs": [],
      "source": [
        "import random\n",
        "\n",
        "# на випадок, якщо ми хочемо зафіксувати ті випадкові числа, які генерують викликані функції\n",
        "# random.seed(42)\n",
        "\n",
        "for i in range(5):\n",
        "    print(random.randint(1, 10))"
      ]
    },
    {
      "cell_type": "markdown",
      "id": "f67bb6b5",
      "metadata": {
        "ExecuteTime": {
          "end_time": "2022-10-20T09:20:53.631919Z",
          "start_time": "2022-10-20T09:20:53.626619Z"
        },
        "id": "f67bb6b5"
      },
      "source": [
        "Ось приклад оператора імпорту, який імпортує чотири різні модулі. Але зазвичай ми все ж пишемо кожен модуль в окремому рядочку."
      ]
    },
    {
      "cell_type": "code",
      "execution_count": null,
      "id": "66c51647",
      "metadata": {
        "ExecuteTime": {
          "end_time": "2022-10-20T21:35:36.164593Z",
          "start_time": "2022-10-20T21:35:36.155772Z"
        },
        "id": "66c51647"
      },
      "outputs": [],
      "source": [
        "import random, sys, os, math"
      ]
    },
    {
      "cell_type": "code",
      "execution_count": null,
      "id": "eff7e265",
      "metadata": {
        "ExecuteTime": {
          "end_time": "2022-10-20T21:35:55.220780Z",
          "start_time": "2022-10-20T21:35:55.216777Z"
        },
        "id": "eff7e265"
      },
      "outputs": [],
      "source": [
        "os.cpu_count()"
      ]
    },
    {
      "cell_type": "markdown",
      "id": "dfefed07",
      "metadata": {
        "id": "dfefed07"
      },
      "source": [
        "Тобто частіше ми будемо імпортувати наступним чином:"
      ]
    },
    {
      "cell_type": "code",
      "execution_count": null,
      "id": "fe76d816",
      "metadata": {
        "ExecuteTime": {
          "end_time": "2022-10-20T09:22:51.708106Z",
          "start_time": "2022-10-20T09:22:51.705269Z"
        },
        "id": "fe76d816"
      },
      "outputs": [],
      "source": [
        "import math\n",
        "import os\n",
        "import random\n",
        "import sys"
      ]
    },
    {
      "cell_type": "markdown",
      "id": "20429ea9",
      "metadata": {
        "ExecuteTime": {
          "end_time": "2022-10-20T09:24:32.015081Z",
          "start_time": "2022-10-20T09:24:32.006536Z"
        },
        "id": "20429ea9"
      },
      "source": [
        "Порядок імпортів має значення для зручності перегляду - маємо розташовувати імпорти в алфавітному порядку. Детальніше про це - в стандарті [PEP8](https://peps.python.org/pep-0008/#imports)."
      ]
    },
    {
      "cell_type": "markdown",
      "id": "69943520",
      "metadata": {
        "id": "69943520"
      },
      "source": [
        "Ще один важливий момент. Імпорти як ви вже зрозуміли, можуть бути в будь-якому місці кода. Але прийнято всі імпорти розташувати вверху файла (.ipynb чи .py). Іноді ми можемо захотіти імпортувати модуль всередині функції, якщо він більше ніде не використовується і функція викликається рідко. Але на початкових етапах можна просто писати всі імпорти вверху."
      ]
    },
    {
      "cell_type": "markdown",
      "id": "04e8de18",
      "metadata": {
        "ExecuteTime": {
          "end_time": "2022-10-20T09:16:26.219084Z",
          "start_time": "2022-10-20T09:16:26.143644Z"
        },
        "id": "04e8de18"
      },
      "source": [
        "## Інструкція from\n",
        "Альтернативна форма оператора `import` складається з ключового слова `from`, за яким слідує назва модуля, ключове слово `import` і зірочка або назви функцій і класів, які ви хочете імпортувати."
      ]
    },
    {
      "cell_type": "code",
      "execution_count": null,
      "id": "38a5ed4f",
      "metadata": {
        "ExecuteTime": {
          "end_time": "2022-10-20T21:39:35.699934Z",
          "start_time": "2022-10-20T21:39:35.697512Z"
        },
        "id": "38a5ed4f"
      },
      "outputs": [],
      "source": [
        "from random import *"
      ]
    },
    {
      "cell_type": "code",
      "execution_count": null,
      "id": "6b1aae49",
      "metadata": {
        "ExecuteTime": {
          "end_time": "2022-10-20T21:39:36.360102Z",
          "start_time": "2022-10-20T21:39:36.355959Z"
        },
        "id": "6b1aae49"
      },
      "outputs": [],
      "source": [
        "randint(1, 1000)"
      ]
    },
    {
      "cell_type": "markdown",
      "id": "d6e833f6",
      "metadata": {
        "ExecuteTime": {
          "end_time": "2022-10-20T09:16:26.219084Z",
          "start_time": "2022-10-20T09:16:26.143644Z"
        },
        "id": "d6e833f6"
      },
      "source": [
        "З цією формою оператора імпорту виклики функцій модуля `random` не потребуватимуть `random.` префіксу. Однак використання повного імені робить код більш читабельним, бо ми розуміємо, звідки взялась та функція, тому краще використовувати `import random` або прописувати явно назву функції в імпорті:"
      ]
    },
    {
      "cell_type": "code",
      "execution_count": null,
      "id": "bec6c8e2",
      "metadata": {
        "ExecuteTime": {
          "end_time": "2022-10-20T21:40:17.433489Z",
          "start_time": "2022-10-20T21:40:17.431035Z"
        },
        "id": "bec6c8e2"
      },
      "outputs": [],
      "source": [
        "from random import randint"
      ]
    },
    {
      "cell_type": "markdown",
      "id": "6b8ad427",
      "metadata": {
        "ExecuteTime": {
          "end_time": "2022-10-20T10:28:16.530500Z",
          "start_time": "2022-10-20T10:28:16.525863Z"
        },
        "id": "6b8ad427"
      },
      "source": [
        "## Приклад функції з використанням модуля"
      ]
    },
    {
      "cell_type": "code",
      "execution_count": null,
      "id": "eec1d5a4",
      "metadata": {
        "ExecuteTime": {
          "end_time": "2022-10-20T21:41:09.849036Z",
          "start_time": "2022-10-20T21:41:09.839484Z"
        },
        "id": "eec1d5a4"
      },
      "outputs": [],
      "source": [
        "import random\n",
        "\n",
        "def get_answer(answer_number):\n",
        "    if answer_number == 1:\n",
        "        return 'Так'\n",
        "    elif answer_number == 2:\n",
        "        return 'Навряд чи'\n",
        "    elif answer_number == 3:\n",
        "        return 'Ні'\n",
        "    elif answer_number == 4:\n",
        "        return 'Спробуй ще раз пізніше'\n",
        "    elif answer_number == 5:\n",
        "        return '90% що так'\n",
        "    elif answer_number == 6:\n",
        "        return 'Сконцентруйся і спробуй ще раз'\n",
        "    elif answer_number == 7:\n",
        "        return 'Умови не сприяють'\n",
        "    elif answer_number == 8:\n",
        "        return 'Можливо'\n",
        "    elif answer_number == 9:\n",
        "        return 'Дуже навряд чи'\n",
        "\n",
        "r = random.randint(1, 9)\n",
        "print('Твій номер: ', r)\n",
        "fortune = get_answer(r)\n",
        "print('Моя відповідь: ', fortune)"
      ]
    },
    {
      "cell_type": "markdown",
      "id": "47579444",
      "metadata": {
        "id": "47579444"
      },
      "source": [
        "# Винятки (Exceptions)\n",
        "\n",
        "Винятки виникають під час виконання, коли у вашій програмі виникає ненормальна ситуація. Винятки також можуть бути створені та викликані вашим кодом. Приклад винятку:"
      ]
    },
    {
      "cell_type": "code",
      "execution_count": null,
      "id": "119ac626",
      "metadata": {
        "ExecuteTime": {
          "end_time": "2022-10-20T21:42:25.460711Z",
          "start_time": "2022-10-20T21:42:25.455356Z"
        },
        "id": "119ac626"
      },
      "outputs": [],
      "source": [
        "age = \"31\""
      ]
    },
    {
      "cell_type": "code",
      "execution_count": null,
      "id": "063832e6",
      "metadata": {
        "ExecuteTime": {
          "end_time": "2022-10-20T21:42:35.927676Z",
          "start_time": "2022-10-20T21:42:35.909772Z"
        },
        "id": "063832e6"
      },
      "outputs": [],
      "source": [
        "if age > 21:\n",
        "    print(\"Вхід дозволено.\")"
      ]
    },
    {
      "cell_type": "markdown",
      "id": "b7c3c2e9",
      "metadata": {
        "id": "b7c3c2e9"
      },
      "source": [
        "Винятки можна обробляти під час виконання за допомогою блоку `try/except`:"
      ]
    },
    {
      "cell_type": "code",
      "execution_count": null,
      "id": "8895a681",
      "metadata": {
        "ExecuteTime": {
          "end_time": "2022-10-20T21:44:01.796397Z",
          "start_time": "2022-10-20T21:44:01.791917Z"
        },
        "id": "8895a681"
      },
      "outputs": [],
      "source": [
        "try:\n",
        "    if age > 21:\n",
        "        print(\"Вхід дозволено.\")\n",
        "except:\n",
        "    print(\"Щось пішло не так.\")"
      ]
    },
    {
      "cell_type": "markdown",
      "id": "b4e9085b",
      "metadata": {
        "id": "b4e9085b"
      },
      "source": [
        "Частина `except` також може бути параметризована з очікуваним винятком:"
      ]
    },
    {
      "cell_type": "code",
      "execution_count": null,
      "id": "a19ab3b0",
      "metadata": {
        "ExecuteTime": {
          "end_time": "2022-10-20T22:33:30.116817Z",
          "start_time": "2022-10-20T22:33:30.102298Z"
        },
        "id": "a19ab3b0"
      },
      "outputs": [],
      "source": [
        "try:\n",
        "    if age > 21:\n",
        "        print(\"Вхід дозволено.\")\n",
        "except TypeError:\n",
        "    print(\"Щось пішло не так.\")"
      ]
    },
    {
      "cell_type": "markdown",
      "id": "3ae4aec6",
      "metadata": {
        "id": "3ae4aec6"
      },
      "source": [
        "Але в такому випадку ми ловимо тільки визначені винятки. Приклад:"
      ]
    },
    {
      "cell_type": "code",
      "execution_count": null,
      "id": "1e287a10",
      "metadata": {
        "ExecuteTime": {
          "end_time": "2022-10-20T21:45:23.150935Z",
          "start_time": "2022-10-20T21:45:23.114862Z"
        },
        "id": "1e287a10"
      },
      "outputs": [],
      "source": [
        "def spam(divide_by):\n",
        "    return 42 / divide_by\n",
        "\n",
        "try:\n",
        "    print(spam(2))\n",
        "    print(spam(12))\n",
        "    print(spam(0))\n",
        "    print(spam(1))\n",
        "except TypeError as e:\n",
        "    print(str(e))"
      ]
    },
    {
      "cell_type": "markdown",
      "id": "89a8c943",
      "metadata": {
        "id": "89a8c943"
      },
      "source": [
        "Не відловився виняток, бо ми відклювлювали інший тип."
      ]
    },
    {
      "cell_type": "markdown",
      "id": "a5215a60",
      "metadata": {
        "id": "a5215a60"
      },
      "source": [
        "Також, зверніть увагу, що програма виконується до першого винятка, а потім зупиняється. Аби це обійти і зробити так аби для всіх даних виконалась обробка, треба обробку винятків перенести в саму функцію."
      ]
    },
    {
      "cell_type": "code",
      "execution_count": null,
      "id": "d11609b5",
      "metadata": {
        "ExecuteTime": {
          "end_time": "2022-10-20T21:46:08.542570Z",
          "start_time": "2022-10-20T21:46:08.535962Z"
        },
        "id": "d11609b5"
      },
      "outputs": [],
      "source": [
        "def spam(divide_by):\n",
        "    try:\n",
        "        return 42 / divide_by\n",
        "    except ZeroDivisionError:\n",
        "        print('Error: Invalid argument.')\n",
        "\n",
        "\n",
        "print(spam(2))\n",
        "print(spam(12))\n",
        "print(spam(0))\n",
        "print(spam(1))"
      ]
    },
    {
      "cell_type": "markdown",
      "id": "d8d7cf06",
      "metadata": {
        "id": "d8d7cf06"
      },
      "source": [
        "# Класи"
      ]
    },
    {
      "cell_type": "markdown",
      "id": "d5f09eeb",
      "metadata": {
        "id": "d5f09eeb"
      },
      "source": [
        "Python є об'єктно-орієнтованою мовою програмування.  \n",
        "Майже все в Python є об’єктом зі своїми властивостями та методами.  \n",
        "Клас схожий на конструктор об’єктів або \"схему\" чи \"шаблон\" для створення об’єктів.\n",
        "\n",
        "Створювати класи дуже просто:"
      ]
    },
    {
      "cell_type": "code",
      "execution_count": null,
      "id": "c6ede06a",
      "metadata": {
        "ExecuteTime": {
          "end_time": "2022-10-20T21:49:28.608575Z",
          "start_time": "2022-10-20T21:49:28.605698Z"
        },
        "id": "c6ede06a"
      },
      "outputs": [],
      "source": [
        "class MyClass:\n",
        "    x = 5"
      ]
    },
    {
      "cell_type": "code",
      "execution_count": null,
      "id": "5ff3ec47",
      "metadata": {
        "ExecuteTime": {
          "end_time": "2022-10-20T21:51:30.513417Z",
          "start_time": "2022-10-20T21:51:30.509224Z"
        },
        "id": "5ff3ec47"
      },
      "outputs": [],
      "source": [
        "class_instance = MyClass()\n",
        "class_instance.x"
      ]
    },
    {
      "cell_type": "code",
      "execution_count": null,
      "id": "64dc61f6",
      "metadata": {
        "ExecuteTime": {
          "end_time": "2022-10-20T21:52:13.579829Z",
          "start_time": "2022-10-20T21:52:13.575182Z"
        },
        "id": "64dc61f6"
      },
      "outputs": [],
      "source": [
        "type(class_instance)"
      ]
    },
    {
      "cell_type": "markdown",
      "id": "f8a42216",
      "metadata": {
        "ExecuteTime": {
          "end_time": "2022-10-20T11:15:31.848799Z",
          "start_time": "2022-10-20T11:15:31.845660Z"
        },
        "id": "f8a42216"
      },
      "source": [
        "## Init метод"
      ]
    },
    {
      "cell_type": "markdown",
      "id": "9413721b",
      "metadata": {
        "ExecuteTime": {
          "end_time": "2022-10-20T11:15:35.314901Z",
          "start_time": "2022-10-20T11:15:35.306842Z"
        },
        "id": "9413721b"
      },
      "source": [
        "Усі класи мають функцію під назвою `__init__()`, яка завжди виконується, коли клас ініціюється.\n",
        "\n",
        "Використовуйте функцію `__init__()`, щоб присвоїти значення властивостям об’єкта або іншим операціям, які необхідно виконувати під час створення об’єкта:"
      ]
    },
    {
      "cell_type": "code",
      "execution_count": null,
      "id": "19440a5d",
      "metadata": {
        "ExecuteTime": {
          "end_time": "2022-10-20T21:53:08.193821Z",
          "start_time": "2022-10-20T21:53:08.187404Z"
        },
        "id": "19440a5d"
      },
      "outputs": [],
      "source": [
        "class User:\n",
        "    def __init__(self, user_id, n_days, total_amount_usd):\n",
        "        self.user_id = user_id\n",
        "        self.n_days = n_days\n",
        "        self.total_amount_usd = total_amount_usd"
      ]
    },
    {
      "cell_type": "code",
      "execution_count": null,
      "id": "5b4ae38b",
      "metadata": {
        "ExecuteTime": {
          "end_time": "2022-10-20T21:53:51.709191Z",
          "start_time": "2022-10-20T21:53:51.702565Z"
        },
        "id": "5b4ae38b"
      },
      "outputs": [],
      "source": [
        "user_1 = User(\"12345\", 32, 998)"
      ]
    },
    {
      "cell_type": "code",
      "execution_count": null,
      "id": "52b7ff6d",
      "metadata": {
        "id": "52b7ff6d"
      },
      "outputs": [],
      "source": [
        "user_1.user_id, user_1.n_days, user_1.total_amount_usd"
      ]
    },
    {
      "cell_type": "markdown",
      "id": "01d1c88e",
      "metadata": {
        "id": "01d1c88e"
      },
      "source": [
        "Зверніть увагу, ми можемо створити і такий _екземпляр_ класу, але його _атрибути_ тоді не мають сенсу з точки зору типів даних:"
      ]
    },
    {
      "cell_type": "code",
      "execution_count": null,
      "id": "eb8cf5a5",
      "metadata": {
        "ExecuteTime": {
          "end_time": "2022-10-20T21:54:47.824319Z",
          "start_time": "2022-10-20T21:54:47.819885Z"
        },
        "id": "eb8cf5a5"
      },
      "outputs": [],
      "source": [
        "user_2 = User(\"99999\", \"abc\", \"ehd\")"
      ]
    },
    {
      "cell_type": "code",
      "execution_count": null,
      "id": "06aa605e",
      "metadata": {
        "ExecuteTime": {
          "end_time": "2022-10-20T21:54:49.007887Z",
          "start_time": "2022-10-20T21:54:49.003867Z"
        },
        "id": "06aa605e"
      },
      "outputs": [],
      "source": [
        "user_2.n_days, user_2.total_amount_usd"
      ]
    },
    {
      "cell_type": "markdown",
      "id": "09a9f006",
      "metadata": {
        "id": "09a9f006"
      },
      "source": [
        "Але ми можемо перевіряти типи даних на вході, або в методах класу, аналогічно до перевірки типів даних в фукнції."
      ]
    },
    {
      "cell_type": "markdown",
      "id": "c21002b7",
      "metadata": {
        "id": "c21002b7"
      },
      "source": [
        "## Методи класу"
      ]
    },
    {
      "cell_type": "code",
      "execution_count": null,
      "id": "923728cb",
      "metadata": {
        "ExecuteTime": {
          "end_time": "2022-10-20T22:01:54.948531Z",
          "start_time": "2022-10-20T22:01:54.944707Z"
        },
        "id": "923728cb"
      },
      "outputs": [],
      "source": [
        "class User:\n",
        "    def __init__(self, user_id, n_days, total_amount_usd):\n",
        "        self.user_id = user_id\n",
        "        self.n_days = n_days\n",
        "        self.total_amount_usd = total_amount_usd\n",
        "\n",
        "    def get_segment(self): # self - завжди в методах класів\n",
        "        self.segment = 'Just an ordinary client.'\n",
        "        if self.n_days > 30 and self.total_amount_usd > 1000:\n",
        "            self.segment = 'Best client ever.'\n",
        "        return self"
      ]
    },
    {
      "cell_type": "code",
      "execution_count": null,
      "id": "f367d728",
      "metadata": {
        "ExecuteTime": {
          "end_time": "2022-10-20T21:58:05.901614Z",
          "start_time": "2022-10-20T21:58:05.897738Z"
        },
        "id": "f367d728"
      },
      "outputs": [],
      "source": [
        "user_1 = User(\"12345\", 32, 998)"
      ]
    },
    {
      "cell_type": "code",
      "execution_count": null,
      "id": "afd4794e",
      "metadata": {
        "ExecuteTime": {
          "end_time": "2022-10-20T21:58:07.924166Z",
          "start_time": "2022-10-20T21:58:07.920144Z"
        },
        "id": "afd4794e"
      },
      "outputs": [],
      "source": [
        "user_1.get_segment()\n",
        "user_1.segment"
      ]
    },
    {
      "cell_type": "code",
      "execution_count": null,
      "id": "68d19518",
      "metadata": {
        "ExecuteTime": {
          "end_time": "2022-10-20T22:01:56.797256Z",
          "start_time": "2022-10-20T22:01:56.790549Z"
        },
        "id": "68d19518"
      },
      "outputs": [],
      "source": [
        "user_2 = User(\"12345\", 32, 10003)\n",
        "user_2.get_segment()\n",
        "user_2.segment"
      ]
    },
    {
      "cell_type": "markdown",
      "id": "6a7120f5",
      "metadata": {
        "id": "6a7120f5"
      },
      "source": [
        "## Наслідування"
      ]
    },
    {
      "cell_type": "code",
      "execution_count": null,
      "id": "60cbc269",
      "metadata": {
        "ExecuteTime": {
          "end_time": "2022-10-20T22:06:22.356443Z",
          "start_time": "2022-10-20T22:06:22.352242Z"
        },
        "id": "60cbc269"
      },
      "outputs": [],
      "source": [
        "class MarketingUser(User):\n",
        "    def __init__(self, user_id, n_days, total_amount_usd, traffic_source):\n",
        "        super().__init__(user_id, n_days, total_amount_usd)\n",
        "        self.traffic_source = traffic_source\n",
        "\n",
        "    def get_segment(self): # self - завжди в методах класів\n",
        "        self.segment = 'paid'\n",
        "        if self.traffic_source == 'google':\n",
        "            self.segment = 'organic'\n",
        "        return self"
      ]
    },
    {
      "cell_type": "code",
      "execution_count": null,
      "id": "bd5d80f4",
      "metadata": {
        "ExecuteTime": {
          "end_time": "2022-10-20T22:06:31.444875Z",
          "start_time": "2022-10-20T22:06:31.441856Z"
        },
        "id": "bd5d80f4"
      },
      "outputs": [],
      "source": [
        "# змініть останній аргумент на ʼgoogle'\n",
        "user_2 = MarketingUser(\"12121\", 40, 123, 'google')"
      ]
    },
    {
      "cell_type": "code",
      "execution_count": null,
      "id": "e78e71bd",
      "metadata": {
        "ExecuteTime": {
          "end_time": "2022-10-20T22:05:29.812351Z",
          "start_time": "2022-10-20T22:05:29.808227Z"
        },
        "id": "e78e71bd"
      },
      "outputs": [],
      "source": [
        "user_2.__dict__"
      ]
    },
    {
      "cell_type": "code",
      "execution_count": null,
      "id": "c02b0cd4",
      "metadata": {
        "ExecuteTime": {
          "end_time": "2022-10-20T22:05:43.923040Z",
          "start_time": "2022-10-20T22:05:43.920022Z"
        },
        "id": "c02b0cd4"
      },
      "outputs": [],
      "source": [
        "print(user_2)"
      ]
    },
    {
      "cell_type": "code",
      "execution_count": null,
      "id": "560c6d36",
      "metadata": {
        "ExecuteTime": {
          "end_time": "2022-10-20T22:06:33.514266Z",
          "start_time": "2022-10-20T22:06:33.510126Z"
        },
        "id": "560c6d36"
      },
      "outputs": [],
      "source": [
        "user_2.get_segment().segment"
      ]
    },
    {
      "cell_type": "code",
      "execution_count": null,
      "id": "4d39df9e",
      "metadata": {
        "ExecuteTime": {
          "end_time": "2022-10-20T22:07:02.680767Z",
          "start_time": "2022-10-20T22:07:02.673496Z"
        },
        "id": "4d39df9e"
      },
      "outputs": [],
      "source": [
        "user_2.user_id"
      ]
    },
    {
      "cell_type": "markdown",
      "id": "9d8294c4",
      "metadata": {
        "id": "9d8294c4"
      },
      "source": [
        "# Форматування рядків"
      ]
    },
    {
      "cell_type": "markdown",
      "id": "4b66ec5d",
      "metadata": {
        "id": "4b66ec5d"
      },
      "source": [
        "## Старий стиль"
      ]
    },
    {
      "cell_type": "code",
      "execution_count": null,
      "id": "8ce1e778",
      "metadata": {
        "ExecuteTime": {
          "end_time": "2022-10-20T22:08:01.731135Z",
          "start_time": "2022-10-20T22:08:01.727569Z"
        },
        "id": "8ce1e778"
      },
      "outputs": [],
      "source": [
        "name = 'Bob'\n",
        "age = 12"
      ]
    },
    {
      "cell_type": "code",
      "execution_count": null,
      "id": "6ddc126d",
      "metadata": {
        "ExecuteTime": {
          "end_time": "2022-10-20T22:08:38.242683Z",
          "start_time": "2022-10-20T22:08:38.237099Z"
        },
        "id": "6ddc126d"
      },
      "outputs": [],
      "source": [
        "print('Hello, %s, your age is %d.' % (name, age))"
      ]
    },
    {
      "cell_type": "code",
      "execution_count": null,
      "id": "6378b489",
      "metadata": {
        "ExecuteTime": {
          "end_time": "2022-10-20T22:09:28.015327Z",
          "start_time": "2022-10-20T22:09:28.010499Z"
        },
        "id": "6378b489"
      },
      "outputs": [],
      "source": [
        "'%(language)s has %(number)08d quote types.' %  {\"language\": \"Python\", \"number\": 2}"
      ]
    },
    {
      "cell_type": "markdown",
      "id": "c1c2f07c",
      "metadata": {
        "id": "c1c2f07c"
      },
      "source": [
        "## Новіший стиль"
      ]
    },
    {
      "cell_type": "code",
      "execution_count": null,
      "id": "46152ca6",
      "metadata": {
        "ExecuteTime": {
          "end_time": "2022-10-20T22:10:37.386791Z",
          "start_time": "2022-10-20T22:10:37.383114Z"
        },
        "id": "46152ca6"
      },
      "outputs": [],
      "source": [
        "'Hello, {1}, your age is {0}.'.format(name, age)"
      ]
    },
    {
      "cell_type": "markdown",
      "id": "3cb589ec",
      "metadata": {
        "ExecuteTime": {
          "end_time": "2022-10-20T13:09:25.228822Z",
          "start_time": "2022-10-20T13:09:25.216808Z"
        },
        "id": "3cb589ec"
      },
      "source": [
        "Для неіменованих аргументів працює наступним чином:"
      ]
    },
    {
      "cell_type": "markdown",
      "id": "3122a2af",
      "metadata": {
        "id": "3122a2af"
      },
      "source": [
        "![image.png](data:image/png;base64,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)"
      ]
    },
    {
      "cell_type": "markdown",
      "id": "f888da33",
      "metadata": {
        "id": "f888da33"
      },
      "source": [
        "Форматувати числа з плаваючою комою можемо наступним чином:"
      ]
    },
    {
      "cell_type": "markdown",
      "id": "e7b2355d",
      "metadata": {
        "id": "e7b2355d"
      },
      "source": [
        "![image.png](data:image/png;base64,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)"
      ]
    },
    {
      "cell_type": "code",
      "execution_count": null,
      "id": "e0e6f8e1",
      "metadata": {
        "ExecuteTime": {
          "end_time": "2022-10-20T22:12:16.031955Z",
          "start_time": "2022-10-20T22:12:16.026661Z"
        },
        "id": "e0e6f8e1"
      },
      "outputs": [],
      "source": [
        "# аргументи за замовченням\n",
        "print(\"Hello {}, your balance is {}.\".format(\"Adam\", 230.2346))\n",
        "\n",
        "# позиційні аргументи\n",
        "print(\"Hello {0}, your balance is {1}.\".format(\"Adam\", 230.2346))\n",
        "\n",
        "# іменовані аргументи\n",
        "print(\"Hello {name}, your balance is {blc}.\".format(name=\"Adam\", blc=230.2346))\n",
        "\n",
        "# змішані аршументи\n",
        "print(\"Hello {0}, your balance is {blc}.\".format(\"Adam\", blc=230.2346))"
      ]
    },
    {
      "cell_type": "markdown",
      "id": "4137273e",
      "metadata": {
        "ExecuteTime": {
          "end_time": "2022-10-20T13:13:47.537733Z",
          "start_time": "2022-10-20T13:13:47.531226Z"
        },
        "id": "4137273e"
      },
      "source": [
        "Форматування цифр:"
      ]
    },
    {
      "cell_type": "code",
      "execution_count": null,
      "id": "e862a5e7",
      "metadata": {
        "ExecuteTime": {
          "end_time": "2022-10-20T22:13:00.321906Z",
          "start_time": "2022-10-20T22:13:00.317812Z"
        },
        "id": "e862a5e7"
      },
      "outputs": [],
      "source": [
        "# integer arguments\n",
        "print(\"The number is: {:d}\".format(123))\n",
        "\n",
        "# float arguments\n",
        "print(\"The float number is: {:.2f}\".format(123.4567898))\n",
        "\n",
        "# octal, binary and hexadecimal format\n",
        "print(\"bin: {0:b}, oct: {0:o}, hex: {0:x}\".format(12))"
      ]
    },
    {
      "cell_type": "markdown",
      "id": "c5515c2a",
      "metadata": {
        "id": "c5515c2a"
      },
      "source": [
        "Можемо до форматування додати паддінг:"
      ]
    },
    {
      "cell_type": "code",
      "execution_count": null,
      "id": "432bf2fc",
      "metadata": {
        "ExecuteTime": {
          "end_time": "2022-10-20T22:15:27.971515Z",
          "start_time": "2022-10-20T22:15:27.965665Z"
        },
        "id": "432bf2fc"
      },
      "outputs": [],
      "source": [
        "# мінімальна ширина вікна для числа\n",
        "print(\"{:5d}\".format(12))\n",
        "\n",
        "# встановлення ширини вікна не спрацює, якщо передане число більше за встановлене обмеження\n",
        "print(\"{:2d}\".format(1234))\n",
        "\n",
        "# падінг для чисел з плаваючою комою\n",
        "print(\"{:8.3f}\".format(12.2346))\n",
        "\n",
        "# заповенння нулями для цілих чисел\n",
        "print(\"{:05d}\".format(12))\n",
        "print(\"{:05d}\".format(1112))\n",
        "print(\"{:05d}\".format(1))\n",
        "\n",
        "# заповенння нулями для чисел з плаваючою комою\n",
        "print(\"{:08.3f}\".format(12.2346))"
      ]
    },
    {
      "cell_type": "markdown",
      "id": "0963953b",
      "metadata": {
        "id": "0963953b"
      },
      "source": [
        "## Найновіший стиль - інтерполяція рядків\n",
        "Доступна в Python 3.6+"
      ]
    },
    {
      "cell_type": "code",
      "execution_count": null,
      "id": "4470ff81",
      "metadata": {
        "ExecuteTime": {
          "end_time": "2022-10-20T22:16:30.474350Z",
          "start_time": "2022-10-20T22:16:30.470152Z"
        },
        "id": "4470ff81"
      },
      "outputs": [],
      "source": [
        "f'Hello, {name}!'"
      ]
    },
    {
      "cell_type": "code",
      "execution_count": null,
      "id": "a7f5d702",
      "metadata": {
        "ExecuteTime": {
          "end_time": "2022-10-20T22:17:01.037508Z",
          "start_time": "2022-10-20T22:17:01.032008Z"
        },
        "id": "a7f5d702"
      },
      "outputs": [],
      "source": [
        "a = 5\n",
        "b = 10\n",
        "result = 2 * (a + b) / 128\n",
        "f'Five plus ten is {a + b} and not {result}.'"
      ]
    },
    {
      "cell_type": "markdown",
      "id": "54dfaf73",
      "metadata": {
        "id": "54dfaf73"
      },
      "source": [
        "Так само можемо додати форматування для чисел:"
      ]
    },
    {
      "cell_type": "code",
      "execution_count": null,
      "id": "85b28ef2",
      "metadata": {
        "ExecuteTime": {
          "end_time": "2022-10-20T22:17:30.203259Z",
          "start_time": "2022-10-20T22:17:30.195181Z"
        },
        "id": "85b28ef2"
      },
      "outputs": [],
      "source": [
        "f'Five plus ten is {a + b:5d} and not {2 * (a + b):.2f}.'"
      ]
    },
    {
      "cell_type": "markdown",
      "id": "6fecd4eb",
      "metadata": {
        "id": "6fecd4eb"
      },
      "source": [
        "\n",
        "# На цьому ми завершуємо наше інтро в Python\n",
        "\n",
        "Цих основ достатньо аби працювати з даними, але в Python є ще багато крутих фішок!   \n",
        "\n",
        "Перше джерело для їх пізнання - це офіційна документація: https://docs.python.org/3/tutorial/index.html  \n",
        "\n",
        "Також для глибшого освоєння Python рекомендую наступні книжки:\n",
        "\n",
        "1. Ерік Маттес \"Пришвидшений курс Python. Практичний, проєктно-орієнтований вступ до програмування\" - є в паперовому варіанті [українською](https://www.yakaboo.ua/ua/prishvidshenij-kurs-python.html?gclid=Cj0KCQjw48OaBhDWARIsAMd966BbY4d88QXaqHB_7Ho_bRMYFCsacaP2RtHUA1JrbvGfh825gD7daJ0aAhfmEALw_wcB),   \n",
        "    в електронному варіанті можна знайти англійською (Eric Matthes \"Python Crash Course\") - [PDF](https://drive.google.com/file/d/1pYe093khxPKuR_HSfkvi3uRCDPX4j1WB/view?usp=sharing) для ознайомлення.\n",
        "    До цієї книги доступні ресурси на [гітхабі](https://github.com/ehmatthes/pcc).\n",
        "\n",
        "2. Марк Лутц \"Вивчаємо Python\" - на жаль, немає перекладу на українську, але книга крута, пропоную вам оглянути\n",
        "[PDF](https://drive.google.com/file/d/1jokyD_girqnc5rCWC2T0RZK2T3G6numm/view?usp=sharing) версію англійською.\n",
        "\n",
        "Також багато корисного з розбивкою по темам можна знайти на цьому сайті:\n",
        "https://www.geeksforgeeks.org/python-programming-language/?ref=shm"
      ]
    },
    {
      "cell_type": "code",
      "source": [],
      "metadata": {
        "id": "zFzlafQDKbny"
      },
      "id": "zFzlafQDKbny",
      "execution_count": null,
      "outputs": []
    }
  ],
  "metadata": {
    "kernelspec": {
      "display_name": "Python 3 (ipykernel)",
      "language": "python",
      "name": "python3"
    },
    "language_info": {
      "codemirror_mode": {
        "name": "ipython",
        "version": 3
      },
      "file_extension": ".py",
      "mimetype": "text/x-python",
      "name": "python",
      "nbconvert_exporter": "python",
      "pygments_lexer": "ipython3",
      "version": "3.10.4"
    },
    "toc": {
      "base_numbering": 1,
      "nav_menu": {},
      "number_sections": true,
      "sideBar": true,
      "skip_h1_title": false,
      "title_cell": "Table of Contents",
      "title_sidebar": "Contents",
      "toc_cell": false,
      "toc_position": {},
      "toc_section_display": true,
      "toc_window_display": true
    },
    "colab": {
      "provenance": [],
      "include_colab_link": true
    }
  },
  "nbformat": 4,
  "nbformat_minor": 5
}