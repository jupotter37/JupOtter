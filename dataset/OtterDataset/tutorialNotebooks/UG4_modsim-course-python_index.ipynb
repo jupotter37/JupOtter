{
 "cells": [
  {
   "cell_type": "markdown",
   "id": "dfb9dc4a",
   "metadata": {},
   "source": [
    "<img src=\"./header.svg\">"
   ]
  },
  {
   "cell_type": "markdown",
   "id": "2eedb45e",
   "metadata": {},
   "source": [
    "## Tutorial: Finite-Element-Methods\n",
    "* [Basic version](tutorial-fem/tutorial-fem-01.ipynb)\n",
    "* [...with errors](tutorial-fem/tutorial-fem-02.ipynb)\n",
    "\n"
   ]
  },
  {
   "cell_type": "markdown",
   "id": "b2bc6df9",
   "metadata": {},
   "source": [
    "## Diffusion of Bromine\n",
    "\n",
    "* As a simple example, we perform a [3D simulation](brom/BromDiffusion.ipynb) for the diffusion of bromine in a test tube. A related experiment has been posted in the YouTube-Channel [ETH D-PHYS Vorlesungsexperimente](https://www.youtube.com/watch?v=DhLwUiDeouA)\n"
   ]
  },
  {
   "cell_type": "markdown",
   "id": "4c5aa928",
   "metadata": {},
   "source": [
    "## Drug Diffusion through Skin\n",
    "* [Basic version](skin/SkinDiffusion.ipynb)\n",
    "* [...with lagtime](skin/SkinDiffusionWithLagtime.ipynb)\n",
    "* [...with binding](skin/SkinDiffusionWithBinding.ipynb)\n",
    "\n"
   ]
  },
  {
   "cell_type": "markdown",
   "id": "7d4af1fc",
   "metadata": {},
   "source": [
    "## Cahn-Hilliard\n",
    "* [Basic version](cahn-hilliard/CahnHilliard2D.ipynb)\n"
   ]
  },
  {
   "cell_type": "markdown",
   "id": "b57227ba",
   "metadata": {},
   "source": []
  },
  {
   "cell_type": "code",
   "execution_count": null,
   "id": "1aca6ce7",
   "metadata": {},
   "outputs": [],
   "source": []
  }
 ],
 "metadata": {
  "kernelspec": {
   "display_name": "Python 3 (ipykernel)",
   "language": "python",
   "name": "python3"
  },
  "language_info": {
   "codemirror_mode": {
    "name": "ipython",
    "version": 3
   },
   "file_extension": ".py",
   "mimetype": "text/x-python",
   "name": "python",
   "nbconvert_exporter": "python",
   "pygments_lexer": "ipython3",
   "version": "3.8.5"
  }
 },
 "nbformat": 4,
 "nbformat_minor": 5
}
