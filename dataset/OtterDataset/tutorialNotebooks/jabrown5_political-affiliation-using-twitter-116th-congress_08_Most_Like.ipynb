{
 "cells": [
  {
   "cell_type": "markdown",
   "id": "564c8482",
   "metadata": {},
   "source": [
    "# 08. Most Like Finder\n",
    "\n",
    "This notebook finds the five other Senators or Representatives who are most and least like the user input Twitter account (must be an account for a member of the 116th Congress)."
   ]
  },
  {
   "cell_type": "markdown",
   "id": "bb07b925",
   "metadata": {},
   "source": [
    "## Imports"
   ]
  },
  {
   "cell_type": "code",
   "execution_count": 8,
   "id": "cce33978",
   "metadata": {},
   "outputs": [],
   "source": [
    "import numpy as np\n",
    "import pandas as pd\n",
    "import seaborn as sns\n",
    "import matplotlib.pyplot as plt\n",
    "\n",
    "from sklearn.feature_extraction.text import CountVectorizer\n",
    "from sklearn.decomposition import PCA\n",
    "# from sklearn.metrics import silhouette_score, pairwise_distances\n",
    "from sklearn.preprocessing import StandardScaler\n",
    "\n",
    "from sklearn.metrics.pairwise import cosine_similarity\n",
    "from sklearn.metrics.pairwise import pairwise_distances, cosine_distances, cosine_similarity\n",
    "\n",
    "from sklearn.manifold import TSNE\n",
    "\n",
    "pd.set_option('display.max_columns', None)\n",
    "pd.set_option('display.max_rows', None)"
   ]
  },
  {
   "cell_type": "code",
   "execution_count": 9,
   "id": "aa233415",
   "metadata": {},
   "outputs": [],
   "source": [
    "# Read in data\n",
    "data = pd.read_csv('../data/vectors_labels_df.csv')"
   ]
  },
  {
   "cell_type": "markdown",
   "id": "4498e1c9",
   "metadata": {},
   "source": [
    "## Create Dataframe Using Best Model"
   ]
  },
  {
   "cell_type": "code",
   "execution_count": 11,
   "id": "0af4579b",
   "metadata": {},
   "outputs": [],
   "source": [
    "X_ = data['liststring']\n",
    "\n",
    "cvec = CountVectorizer(max_features = 250, ngram_range = (1, 1))\n",
    "\n",
    "X_c = pd.DataFrame(cvec.fit_transform(X_).toarray(), columns = cvec.get_feature_names())\n",
    "\n",
    "# Applying the Standard Scaler to word vectors\n",
    "sc = StandardScaler()\n",
    "X_sc_c = sc.fit_transform(X_c)\n",
    "\n",
    "# Applying standard scaler, then applying PCA to word vectors\n",
    "pca_sc = PCA(n_components = 0.95)\n",
    "X_pca_sc_c = pca_sc.fit_transform(X_sc_c)\n",
    "\n",
    "# TSNE w/ scaled data\n",
    "tsne = TSNE(n_components=2)\n",
    "X_tsne_pca_sc_c = tsne.fit_transform(X_pca_sc_c)"
   ]
  },
  {
   "cell_type": "code",
   "execution_count": 13,
   "id": "e32068f0",
   "metadata": {},
   "outputs": [],
   "source": [
    "# Creating a dataframe from vectorized dataset\n",
    "df = pd.DataFrame(X_tsne_pca_sc_c)"
   ]
  },
  {
   "cell_type": "code",
   "execution_count": 16,
   "id": "18ee4010",
   "metadata": {},
   "outputs": [],
   "source": [
    "# Calculating cosine similarity scores\n",
    "similarity = cosine_similarity(df)\n",
    "\n",
    "df2 = pd.DataFrame(similarity)"
   ]
  },
  {
   "cell_type": "code",
   "execution_count": 17,
   "id": "2d98a269",
   "metadata": {},
   "outputs": [],
   "source": [
    "# Merging names back onto Cosine Similarity data\n",
    "columns_keep2 =['screen_name']\n",
    "data2= data.reset_index()\n",
    "data2 = data2[columns_keep2]\n",
    "\n",
    "# Merge\n",
    "data_ = data2.join(df2)\n",
    "data_.set_index('screen_name',inplace=True)\n",
    "\n",
    "# getting a list of all screen names\n",
    "list_of_names = data['screen_name'].to_list()\n",
    "\n",
    "# applying list of names to columns\n",
    "data_.columns=list_of_names\n",
    "\n",
    "# making text lower\n",
    "data_.index= data_.index.str.lower()"
   ]
  },
  {
   "cell_type": "markdown",
   "id": "f17e846f",
   "metadata": {},
   "source": [
    "## Function to Find Most, Least Like Twitter User of Interest"
   ]
  },
  {
   "cell_type": "code",
   "execution_count": 53,
   "id": "1380ae61",
   "metadata": {},
   "outputs": [],
   "source": [
    "def sim_scores(twitter_handle):\n",
    "    twitter_handle = twitter_handle.lower()\n",
    "    most = pd.DataFrame(data_.loc[twitter_handle].sort_values(ascending=False)[1:6])\n",
    "    least = pd.DataFrame(data_.loc[twitter_handle].sort_values(ascending=True)[:5])\n",
    "    return most, least"
   ]
  },
  {
   "cell_type": "code",
   "execution_count": 61,
   "id": "82244029",
   "metadata": {},
   "outputs": [
    {
     "data": {
      "text/html": [
       "<div>\n",
       "<style scoped>\n",
       "    .dataframe tbody tr th:only-of-type {\n",
       "        vertical-align: middle;\n",
       "    }\n",
       "\n",
       "    .dataframe tbody tr th {\n",
       "        vertical-align: top;\n",
       "    }\n",
       "\n",
       "    .dataframe thead th {\n",
       "        text-align: right;\n",
       "    }\n",
       "</style>\n",
       "<table border=\"1\" class=\"dataframe\">\n",
       "  <thead>\n",
       "    <tr style=\"text-align: right;\">\n",
       "      <th></th>\n",
       "      <th>senduckworth</th>\n",
       "    </tr>\n",
       "  </thead>\n",
       "  <tbody>\n",
       "    <tr>\n",
       "      <th>RepPressley</th>\n",
       "      <td>0.999999</td>\n",
       "    </tr>\n",
       "    <tr>\n",
       "      <th>NydiaVelazquez</th>\n",
       "      <td>0.999998</td>\n",
       "    </tr>\n",
       "    <tr>\n",
       "      <th>SenFeinstein</th>\n",
       "      <td>0.999990</td>\n",
       "    </tr>\n",
       "    <tr>\n",
       "      <th>RepChuyGarcia</th>\n",
       "      <td>0.999986</td>\n",
       "    </tr>\n",
       "    <tr>\n",
       "      <th>LeaderHoyer</th>\n",
       "      <td>0.999931</td>\n",
       "    </tr>\n",
       "  </tbody>\n",
       "</table>\n",
       "</div>"
      ],
      "text/plain": [
       "                senduckworth\n",
       "RepPressley         0.999999\n",
       "NydiaVelazquez      0.999998\n",
       "SenFeinstein        0.999990\n",
       "RepChuyGarcia       0.999986\n",
       "LeaderHoyer         0.999931"
      ]
     },
     "metadata": {},
     "output_type": "display_data"
    },
    {
     "data": {
      "text/html": [
       "<div>\n",
       "<style scoped>\n",
       "    .dataframe tbody tr th:only-of-type {\n",
       "        vertical-align: middle;\n",
       "    }\n",
       "\n",
       "    .dataframe tbody tr th {\n",
       "        vertical-align: top;\n",
       "    }\n",
       "\n",
       "    .dataframe thead th {\n",
       "        text-align: right;\n",
       "    }\n",
       "</style>\n",
       "<table border=\"1\" class=\"dataframe\">\n",
       "  <thead>\n",
       "    <tr style=\"text-align: right;\">\n",
       "      <th></th>\n",
       "      <th>senduckworth</th>\n",
       "    </tr>\n",
       "  </thead>\n",
       "  <tbody>\n",
       "    <tr>\n",
       "      <th>RepTrey</th>\n",
       "      <td>-1.000000</td>\n",
       "    </tr>\n",
       "    <tr>\n",
       "      <th>RepRussFulcher</th>\n",
       "      <td>-0.999998</td>\n",
       "    </tr>\n",
       "    <tr>\n",
       "      <th>RepPeteStauber</th>\n",
       "      <td>-0.999996</td>\n",
       "    </tr>\n",
       "    <tr>\n",
       "      <th>RepMikeTurner</th>\n",
       "      <td>-0.999995</td>\n",
       "    </tr>\n",
       "    <tr>\n",
       "      <th>SenJohnThune</th>\n",
       "      <td>-0.999989</td>\n",
       "    </tr>\n",
       "  </tbody>\n",
       "</table>\n",
       "</div>"
      ],
      "text/plain": [
       "                senduckworth\n",
       "RepTrey            -1.000000\n",
       "RepRussFulcher     -0.999998\n",
       "RepPeteStauber     -0.999996\n",
       "RepMikeTurner      -0.999995\n",
       "SenJohnThune       -0.999989"
      ]
     },
     "metadata": {},
     "output_type": "display_data"
    }
   ],
   "source": [
    "# Enter name of twitter account here:\n",
    "most, least = sim_scores('SenDuckworth')\n",
    "\n",
    "display(most, least)"
   ]
  },
  {
   "cell_type": "code",
   "execution_count": 21,
   "id": "ed84aee3",
   "metadata": {},
   "outputs": [],
   "source": [
    "# https://www.geeksforgeeks.org/python-measure-similarity-between-two-sentences-using-cosine-similarity/\n",
    "# https://leantechblog.wordpress.com/2020/08/23/how-to-estimate-text-similarity-with-python/\n",
    "# https://www.datacamp.com/community/tutorials/recommender-systems-python\n",
    "# https://stackabuse.com/creating-a-simple-recommender-system-in-python-using-pandas/"
   ]
  }
 ],
 "metadata": {
  "kernelspec": {
   "display_name": "Python 3",
   "language": "python",
   "name": "python3"
  },
  "language_info": {
   "codemirror_mode": {
    "name": "ipython",
    "version": 3
   },
   "file_extension": ".py",
   "mimetype": "text/x-python",
   "name": "python",
   "nbconvert_exporter": "python",
   "pygments_lexer": "ipython3",
   "version": "3.8.8"
  }
 },
 "nbformat": 4,
 "nbformat_minor": 5
}
