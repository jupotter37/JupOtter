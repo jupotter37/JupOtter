{
  "nbformat": 4,
  "nbformat_minor": 0,
  "metadata": {
    "colab": {
      "provenance": []
    },
    "kernelspec": {
      "name": "python3",
      "display_name": "Python 3"
    },
    "language_info": {
      "name": "python"
    }
  },
  "cells": [
    {
      "cell_type": "markdown",
      "source": [
        "## EN3160 Assignment 3 on Neural Networks\n",
        "## Index No : 210349N\n",
        "## Name : Madhushan I.D.\n",
        "#### GitHub Link :\n"
      ],
      "metadata": {
        "id": "Dv_I1jpkoEad"
      }
    },
    {
      "cell_type": "markdown",
      "source": [
        "# Q1:  \n",
        "####Listing 1 shows the code for a single dense layer network with manually computed forward path and backpropagations. Do the following changes\n",
        " #### (a) Add a middle layer with 100 nodes and a sigmoid activation.\n",
        " #### (b) Use cross-entropy loss (see slide 102).\n",
        " #### (c) Run the network for 10 epochs nad report the taining and test accuracies."
      ],
      "metadata": {
        "id": "tKx1xNiAk1dR"
      }
    },
    {
      "cell_type": "markdown",
      "source": [
        "## Model Architecture:\n",
        "###Input Layer:\n",
        "- Accepts CIFAR-10 images flattened to a vector of size 3072 (3 × 32 × 32 pixels).\n",
        "\n",
        "###Hidden Layer:\n",
        "- 100 nodes.\n",
        "- Activation: Sigmoid.\n",
        "\n",
        "###Output Layer:\n",
        "- 10 neurons, one per class, to provide class scores for CIFAR-10 classification."
      ],
      "metadata": {
        "id": "qB-rDNFlmvDr"
      }
    },
    {
      "cell_type": "code",
      "source": [
        "import torch\n",
        "import torch.nn as nn\n",
        "import torchvision\n",
        "import torchvision.transforms as transforms\n",
        "import matplotlib.pyplot as plt\n",
        "\n",
        "# 1. Dataloading\n",
        "transform = transforms.Compose([\n",
        "    transforms.ToTensor(),\n",
        "    transforms.Normalize((0.5, 0.5, 0.5), (0.5, 0.5, 0.5))  # Normalization to [-1, 1]\n",
        "])\n",
        "\n",
        "batch_size = 50\n",
        "trainset = torchvision.datasets.CIFAR10(root='./data', train=True, download=True, transform=transform)\n",
        "trainloader = torch.utils.data.DataLoader(trainset, batch_size=batch_size, shuffle=True, num_workers=2)\n",
        "\n",
        "testset = torchvision.datasets.CIFAR10(root='./data', train=False, download=True, transform=transform)\n",
        "testloader = torch.utils.data.DataLoader(testset, batch_size=batch_size, shuffle=False, num_workers=2)\n",
        "\n",
        "# 2. Define Network Parameters\n",
        "class MLP(nn.Module):\n",
        "    def __init__(self, input_size, hidden_size, output_size):\n",
        "        super(MLP, self).__init__()\n",
        "        self.fc1 = nn.Linear(input_size, hidden_size)\n",
        "        self.sigmoid = nn.Sigmoid()\n",
        "        self.fc2 = nn.Linear(hidden_size, output_size)\n",
        "\n",
        "    def forward(self, x):\n",
        "        x = self.fc1(x)\n",
        "        x = self.sigmoid(x)\n",
        "        x = self.fc2(x)\n",
        "        return x\n",
        "\n",
        "# Model Initialization\n",
        "Din = 3 * 32 * 32  # Input size (flattened CIFAR-10 image size)\n",
        "H = 100            # Hidden layer size\n",
        "K = 10             # Output size (number of classes in CIFAR-10)\n",
        "model = MLP(Din, H, K)\n",
        "\n",
        "# Hyperparameters\n",
        "epochs = 10\n",
        "lr = 0.01  # Learning rate\n",
        "lr_decay = 0.9\n",
        "loss_history = []\n",
        "\n",
        "# Loss function\n",
        "criterion = nn.CrossEntropyLoss()\n",
        "\n",
        "# Xavier Initialization\n",
        "w1 = torch.randn(Din, H) * (1. / torch.sqrt(torch.tensor(Din, dtype=torch.float32)))\n",
        "b1 = torch.zeros(H)\n",
        "w2 = torch.randn(H, K) * (1. / torch.sqrt(torch.tensor(H, dtype=torch.float32)))\n",
        "b2 = torch.zeros(K)\n",
        "\n",
        "# Training Loop\n",
        "for epoch in range(epochs):\n",
        "    running_loss = 0.0\n",
        "    for i, data in enumerate(trainloader, 0):\n",
        "        inputs, labels = data\n",
        "        Ntr = inputs.shape[0]\n",
        "        x_train = inputs.view(Ntr, -1)  # Flatten input to (Ntr, Din)\n",
        "\n",
        "        # Forward pass\n",
        "        hidden = torch.sigmoid(x_train.mm(w1) + b1)  # Hidden layer activation\n",
        "        y_pred = hidden.mm(w2) + b2                  # Output layer activation\n",
        "\n",
        "        # Loss calculation\n",
        "        loss = criterion(y_pred, labels)\n",
        "        loss_history.append(loss.item())\n",
        "        running_loss += loss.item()\n",
        "\n",
        "        # Backpropagation\n",
        "        dy_pred = torch.softmax(y_pred, dim=1) - nn.functional.one_hot(labels, K).float()\n",
        "        dw2 = hidden.t().mm(dy_pred) / Ntr\n",
        "        db2 = dy_pred.sum(dim=0) / Ntr\n",
        "\n",
        "        dhidden = dy_pred.mm(w2.t()) * hidden * (1 - hidden)\n",
        "        dw1 = x_train.t().mm(dhidden) / Ntr\n",
        "        db1 = dhidden.sum(dim=0) / Ntr\n",
        "\n",
        "        # Parameter updates\n",
        "        w1 -= lr * dw1\n",
        "        b1 -= lr * db1\n",
        "        w2 -= lr * dw2\n",
        "        b2 -= lr * db2\n",
        "\n",
        "    # Learning rate decay\n",
        "    lr *= lr_decay\n",
        "\n",
        "    print(f\"Epoch {epoch + 1}/{epochs}, Average Loss: {running_loss / len(trainloader):.4f}\")\n",
        "\n",
        "# 3. Plotting the Loss History\n",
        "average_loss = [sum(loss_history[i:i+len(trainloader)]) / len(trainloader) for i in range(0, len(loss_history), len(trainloader))]\n",
        "plt.plot(average_loss, label='Average Loss per Epoch')\n",
        "plt.title(\"Average Loss History\")\n",
        "plt.xlabel(\"Epoch\")\n",
        "plt.ylabel(\"Average Loss\")\n",
        "plt.legend()\n",
        "plt.show()\n",
        "\n",
        "# 4. Calculate Accuracy on Training Set\n",
        "def calculate_accuracy(loader, w1, b1, w2, b2):\n",
        "    correct = 0\n",
        "    total = 0\n",
        "    with torch.no_grad():\n",
        "        for data in loader:\n",
        "            inputs, labels = data\n",
        "            Ntr = inputs.shape[0]\n",
        "            x_train = inputs.view(Ntr, -1)\n",
        "\n",
        "            hidden = torch.sigmoid(x_train.mm(w1) + b1)\n",
        "            y_train_pred = hidden.mm(w2) + b2\n",
        "            predicted_train = torch.argmax(y_train_pred, dim=1)\n",
        "            total += labels.size(0)\n",
        "            correct += (predicted_train == labels).sum().item()\n",
        "    return 100 * correct / total\n",
        "\n",
        "train_acc = calculate_accuracy(trainloader, w1, b1, w2, b2)\n",
        "print(f\"Training accuracy: {train_acc:.2f}%\")\n",
        "\n",
        "# 5. Calculate Accuracy on Test Set\n",
        "test_acc = calculate_accuracy(testloader, w1, b1, w2, b2)\n",
        "print(f\"Test accuracy: {test_acc:.2f}%\")\n"
      ],
      "metadata": {
        "colab": {
          "base_uri": "https://localhost:8080/",
          "height": 715
        },
        "id": "Sx8NR9EsUnqf",
        "outputId": "17d9237d-02b0-496d-d532-eea69c63eec7"
      },
      "execution_count": 12,
      "outputs": [
        {
          "output_type": "stream",
          "name": "stdout",
          "text": [
            "Files already downloaded and verified\n",
            "Files already downloaded and verified\n",
            "Epoch 1/10, Average Loss: 2.0184\n",
            "Epoch 2/10, Average Loss: 1.8605\n",
            "Epoch 3/10, Average Loss: 1.8129\n",
            "Epoch 4/10, Average Loss: 1.7854\n",
            "Epoch 5/10, Average Loss: 1.7660\n",
            "Epoch 6/10, Average Loss: 1.7515\n",
            "Epoch 7/10, Average Loss: 1.7400\n",
            "Epoch 8/10, Average Loss: 1.7306\n",
            "Epoch 9/10, Average Loss: 1.7228\n",
            "Epoch 10/10, Average Loss: 1.7161\n"
          ]
        },
        {
          "output_type": "display_data",
          "data": {
            "text/plain": [
              "<Figure size 640x480 with 1 Axes>"
            ],
            "image/png": "[encoded data removed]"
          },
          "metadata": {}
        },
        {
          "output_type": "stream",
          "name": "stdout",
          "text": [
            "Training accuracy: 41.03%\n",
            "Test accuracy: 40.18%\n"
          ]
        }
      ]
    },
    {
      "cell_type": "markdown",
      "source": [
        "# Q2: Create a LeNet-5 network for MNIST using Pytorch. Report the training and test accuracies after 10 epochs."
      ],
      "metadata": {
        "id": "kQUdQG6dde3E"
      }
    },
    {
      "cell_type": "markdown",
      "source": [
        "## Step 1: Import Necessary Libraries, Load and Normalize MNIST Dataset"
      ],
      "metadata": {
        "id": "uIea5wKAd2fe"
      }
    },
    {
      "cell_type": "code",
      "source": [
        "import torch\n",
        "import torch.nn as nn\n",
        "import torch.optim as optim\n",
        "import torchvision\n",
        "import torchvision.transforms as transforms\n",
        "import matplotlib.pyplot as plt\n",
        "\n",
        "# 1. Load and Normalize MNIST Dataset\n",
        "transform = transforms.Compose([\n",
        "    transforms.ToTensor(),\n",
        "    transforms.Normalize((0.5,), (0.5,))\n",
        "])\n",
        "\n",
        "batch_size = 64\n",
        "\n",
        "trainset = torchvision.datasets.MNIST(\n",
        "    root='./data', train=True, download=True, transform=transform\n",
        ")\n",
        "trainloader = torch.utils.data.DataLoader(\n",
        "    trainset, batch_size=batch_size, shuffle=True, num_workers=2\n",
        ")\n",
        "\n",
        "testset = torchvision.datasets.MNIST(\n",
        "    root='./data', train=False, download=True, transform=transform\n",
        ")\n",
        "testloader = torch.utils.data.DataLoader(\n",
        "    testset, batch_size=batch_size, shuffle=False, num_workers=2\n",
        ")\n"
      ],
      "metadata": {
        "id": "Fn39GFD6deaW"
      },
      "execution_count": 17,
      "outputs": []
    },
    {
      "cell_type": "markdown",
      "source": [
        "## Step 2: Define the LeNet-5 Model Architecture"
      ],
      "metadata": {
        "id": "02oEq32HeQQ3"
      }
    },
    {
      "cell_type": "code",
      "source": [
        "# 2. Define LeNet-5 Architecture\n",
        "class LeNet5(nn.Module):\n",
        "    def __init__(self):\n",
        "        super(LeNet5, self).__init__()\n",
        "        self.conv1 = nn.Conv2d(1, 6, kernel_size=5, stride=1, padding=2)\n",
        "        self.relu = nn.ReLU()\n",
        "        self.pool = nn.AvgPool2d(kernel_size=2, stride=2)\n",
        "        self.conv2 = nn.Conv2d(6, 16, kernel_size=5)\n",
        "        self.fc1 = nn.Linear(16 * 5 * 5, 120)\n",
        "        self.fc2 = nn.Linear(120, 84)\n",
        "        self.fc3 = nn.Linear(84, 10)\n",
        "\n",
        "    def forward(self, x):\n",
        "        x = self.pool(self.relu(self.conv1(x)))\n",
        "        x = self.pool(self.relu(self.conv2(x)))\n",
        "        x = x.view(-1, 16 * 5 * 5)  # Flatten\n",
        "        x = self.relu(self.fc1(x))\n",
        "        x = self.relu(self.fc2(x))\n",
        "        x = self.fc3(x)\n",
        "        return x\n",
        "\n",
        "# Initialize the network\n",
        "model = LeNet5()"
      ],
      "metadata": {
        "id": "EF0krAGYdeRu"
      },
      "execution_count": 18,
      "outputs": []
    },
    {
      "cell_type": "markdown",
      "source": [
        "##Step 3: Define Loss Function and Optimizer"
      ],
      "metadata": {
        "id": "nuDwAeDEeWNI"
      }
    },
    {
      "cell_type": "code",
      "source": [
        "# 3. Define Loss and Optimizer\n",
        "criterion = nn.CrossEntropyLoss()\n",
        "optimizer = optim.SGD(model.parameters(), lr=0.01, momentum=0.9)\n"
      ],
      "metadata": {
        "id": "UJf0Nt1Eef5H"
      },
      "execution_count": 19,
      "outputs": []
    },
    {
      "cell_type": "markdown",
      "source": [
        "## Step 5: Train the Network"
      ],
      "metadata": {
        "id": "JTpnpisIekX3"
      }
    },
    {
      "cell_type": "code",
      "source": [
        "# 4. Train the Network\n",
        "epochs = 10\n",
        "train_losses = []\n",
        "for epoch in range(epochs):\n",
        "    running_loss = 0.0\n",
        "    for i, (inputs, labels) in enumerate(trainloader):\n",
        "        optimizer.zero_grad()  # Zero the parameter gradients\n",
        "\n",
        "        outputs = model(inputs)  # Forward pass\n",
        "        loss = criterion(outputs, labels)  # Compute loss\n",
        "        loss.backward()  # Backward pass\n",
        "        optimizer.step()  # Update weights\n",
        "\n",
        "        running_loss += loss.item()\n",
        "\n",
        "    avg_loss = running_loss / len(trainloader)\n",
        "    train_losses.append(avg_loss)\n",
        "    print(f\"Epoch {epoch + 1}/{epochs}, Loss: {avg_loss:.4f}\")\n",
        "\n",
        "# Plot the loss history\n",
        "plt.plot(train_losses)\n",
        "plt.title(\"Loss History\")\n",
        "plt.xlabel(\"Epoch\")\n",
        "plt.ylabel(\"Loss\")\n",
        "plt.show()"
      ],
      "metadata": {
        "colab": {
          "base_uri": "https://localhost:8080/",
          "height": 646
        },
        "id": "Zpl8pjQkdeJu",
        "outputId": "733fd5c9-df9f-47c6-8844-8e704bfbe154"
      },
      "execution_count": 20,
      "outputs": [
        {
          "output_type": "stream",
          "name": "stdout",
          "text": [
            "Epoch 1/10, Loss: 0.4799\n",
            "Epoch 2/10, Loss: 0.0934\n",
            "Epoch 3/10, Loss: 0.0640\n",
            "Epoch 4/10, Loss: 0.0490\n",
            "Epoch 5/10, Loss: 0.0401\n",
            "Epoch 6/10, Loss: 0.0337\n",
            "Epoch 7/10, Loss: 0.0288\n",
            "Epoch 8/10, Loss: 0.0261\n",
            "Epoch 9/10, Loss: 0.0216\n",
            "Epoch 10/10, Loss: 0.0192\n"
          ]
        },
        {
          "output_type": "display_data",
          "data": {
            "text/plain": [
              "<Figure size 640x480 with 1 Axes>"
            ],
            "image/png": "[encoded data removed]"
          },
          "metadata": {}
        }
      ]
    },
    {
      "cell_type": "markdown",
      "source": [
        "## Step 6: Evaluate Accuracy on Training and Test Sets"
      ],
      "metadata": {
        "id": "VYb0nZVLeppg"
      }
    },
    {
      "cell_type": "code",
      "source": [
        "# 5. Evaluate Accuracy on Training and Test Sets\n",
        "def calculate_accuracy(loader, model):\n",
        "    correct = 0\n",
        "    total = 0\n",
        "    with torch.no_grad():\n",
        "        for inputs, labels in loader:\n",
        "            outputs = model(inputs)\n",
        "            _, predicted = torch.max(outputs, 1)\n",
        "            total += labels.size(0)\n",
        "            correct += (predicted == labels).sum().item()\n",
        "    return 100 * correct / total\n",
        "\n",
        "train_accuracy = calculate_accuracy(trainloader, model)\n",
        "test_accuracy = calculate_accuracy(testloader, model)\n",
        "\n",
        "print(f\"Training Accuracy: {train_accuracy:.2f}%\")\n",
        "print(f\"Test Accuracy: {test_accuracy:.2f}%\")\n"
      ],
      "metadata": {
        "colab": {
          "base_uri": "https://localhost:8080/"
        },
        "id": "vXnZj4Xcdd6X",
        "outputId": "610f21d5-0cd7-45df-93fe-f978a3e44c5c"
      },
      "execution_count": 21,
      "outputs": [
        {
          "output_type": "stream",
          "name": "stdout",
          "text": [
            "Training Accuracy: 99.39%\n",
            "Test Accuracy: 98.77%\n"
          ]
        }
      ]
    },
    {
      "cell_type": "markdown",
      "source": [
        "# Q3:\n",
        "###Based on the PyTorch tutorial on transfer learning get the pre-trained ResNet18 network trained on ImageNet1K. classify hymenoptera dataset by\n",
        "#### (a) fine tuning, and\n",
        "#### (b) using the network as a feature extracter.\n",
        "####Reort the results."
      ],
      "metadata": {
        "id": "ZJ9kCGJ1gBpW"
      }
    },
    {
      "cell_type": "markdown",
      "source": [
        "## 1. Download and extract dataset"
      ],
      "metadata": {
        "id": "gBHvSt-hiOCU"
      }
    },
    {
      "cell_type": "code",
      "source": [
        "import torch\n",
        "import torch.nn as nn\n",
        "import torch.optim as optim\n",
        "from torch.optim import lr_scheduler\n",
        "import torchvision\n",
        "from torchvision import datasets, models, transforms\n",
        "import matplotlib.pyplot as plt\n",
        "import os\n",
        "import time\n",
        "import zipfile\n",
        "import urllib.request\n",
        "from tempfile import TemporaryDirectory\n",
        "\n",
        "# Set device\n",
        "device = torch.device(\"cuda:0\" if torch.cuda.is_available() else \"cpu\")\n",
        "\n",
        "if not os.path.exists('data/hymenoptera_data'):\n",
        "    print(\"Downloading dataset...\")\n",
        "    url = \"https://download.pytorch.org/tutorial/hymenoptera_data.zip\"\n",
        "    urllib.request.urlretrieve(url, \"hymenoptera_data.zip\")\n",
        "    with zipfile.ZipFile(\"hymenoptera_data.zip\", 'r') as zip_ref:\n",
        "        zip_ref.extractall(\"data\")\n",
        "    print(\"Dataset downloaded and extracted.\")"
      ],
      "metadata": {
        "id": "dT8asCC3gBZI"
      },
      "execution_count": 23,
      "outputs": []
    },
    {
      "cell_type": "markdown",
      "source": [
        "## Data preparation, Data augmentation and normalization for training; normalization for validation"
      ],
      "metadata": {
        "id": "Sn7q86KXiYcs"
      }
    },
    {
      "cell_type": "code",
      "source": [
        "\n",
        "data_transforms = {\n",
        "    'train': transforms.Compose([\n",
        "        transforms.RandomResizedCrop(224),\n",
        "        transforms.RandomHorizontalFlip(),\n",
        "        transforms.ToTensor(),\n",
        "        transforms.Normalize([0.485, 0.456, 0.406], [0.229, 0.224, 0.225])\n",
        "    ]),\n",
        "    'val': transforms.Compose([\n",
        "        transforms.Resize(256),\n",
        "        transforms.CenterCrop(224),\n",
        "        transforms.ToTensor(),\n",
        "        transforms.Normalize([0.485, 0.456, 0.406], [0.229, 0.224, 0.225])\n",
        "    ]),\n",
        "}\n",
        "\n",
        "data_dir = 'data/hymenoptera_data'\n",
        "image_datasets = {x: datasets.ImageFolder(os.path.join(data_dir, x), data_transforms[x])\n",
        "                  for x in ['train', 'val']}\n",
        "dataloaders = {x: torch.utils.data.DataLoader(image_datasets[x], batch_size=4,\n",
        "                                              shuffle=True, num_workers=4)\n",
        "               for x in ['train', 'val']}\n",
        "dataset_sizes = {x: len(image_datasets[x]) for x in ['train', 'val']}\n",
        "class_names = image_datasets['train'].classes"
      ],
      "metadata": {
        "id": "7i-MmEDKg2i3"
      },
      "execution_count": 24,
      "outputs": []
    },
    {
      "cell_type": "markdown",
      "source": [
        "## 2. Function to train the model"
      ],
      "metadata": {
        "id": "Ro-X87udijjV"
      }
    },
    {
      "cell_type": "code",
      "source": [
        "def train_model(model, criterion, optimizer, scheduler, num_epochs=25):\n",
        "    since = time.time()\n",
        "\n",
        "    with TemporaryDirectory() as tempdir:\n",
        "        best_model_path = os.path.join(tempdir, 'best_model.pth')\n",
        "        best_acc = 0.0\n",
        "\n",
        "        for epoch in range(num_epochs):\n",
        "            print(f'Epoch {epoch}/{num_epochs - 1}')\n",
        "            print('-' * 10)\n",
        "\n",
        "            for phase in ['train', 'val']:\n",
        "                if phase == 'train':\n",
        "                    model.train()\n",
        "                else:\n",
        "                    model.eval()\n",
        "\n",
        "                running_loss = 0.0\n",
        "                running_corrects = 0\n",
        "\n",
        "                for inputs, labels in dataloaders[phase]:\n",
        "                    inputs, labels = inputs.to(device), labels.to(device)\n",
        "\n",
        "                    optimizer.zero_grad()\n",
        "                    with torch.set_grad_enabled(phase == 'train'):\n",
        "                        outputs = model(inputs)\n",
        "                        _, preds = torch.max(outputs, 1)\n",
        "                        loss = criterion(outputs, labels)\n",
        "\n",
        "                        if phase == 'train':\n",
        "                            loss.backward()\n",
        "                            optimizer.step()\n",
        "\n",
        "                    running_loss += loss.item() * inputs.size(0)\n",
        "                    running_corrects += torch.sum(preds == labels.data)\n",
        "\n",
        "                if phase == 'train':\n",
        "                    scheduler.step()\n",
        "\n",
        "                epoch_loss = running_loss / dataset_sizes[phase]\n",
        "                epoch_acc = running_corrects.double() / dataset_sizes[phase]\n",
        "\n",
        "                print(f'{phase} Loss: {epoch_loss:.4f} Acc: {epoch_acc:.4f}')\n",
        "\n",
        "                if phase == 'val' and epoch_acc > best_acc:\n",
        "                    best_acc = epoch_acc\n",
        "                    torch.save(model.state_dict(), best_model_path)\n",
        "\n",
        "            print()\n",
        "\n",
        "        time_elapsed = time.time() - since\n",
        "        print(f'Training complete in {time_elapsed // 60:.0f}m {time_elapsed % 60:.0f}s')\n",
        "        print(f'Best val Acc: {best_acc:.4f}')\n",
        "\n",
        "        model.load_state_dict(torch.load(best_model_path))\n",
        "    return model"
      ],
      "metadata": {
        "id": "-qYB0OI4g5em"
      },
      "execution_count": 28,
      "outputs": []
    },
    {
      "cell_type": "markdown",
      "source": [
        "## 3. Fine-tuning the ConvNet"
      ],
      "metadata": {
        "id": "UhhIEPEhiok5"
      }
    },
    {
      "cell_type": "code",
      "source": [
        "model_ft = models.resnet18(weights='IMAGENET1K_V1')\n",
        "num_ftrs = model_ft.fc.in_features\n",
        "model_ft.fc = nn.Linear(num_ftrs, 2)\n",
        "model_ft = model_ft.to(device)\n",
        "\n",
        "criterion = nn.CrossEntropyLoss()\n",
        "optimizer_ft = optim.SGD(model_ft.parameters(), lr=0.001, momentum=0.9)\n",
        "exp_lr_scheduler = lr_scheduler.StepLR(optimizer_ft, step_size=7, gamma=0.1)"
      ],
      "metadata": {
        "id": "leWNCNQHg_sc"
      },
      "execution_count": 29,
      "outputs": []
    },
    {
      "cell_type": "markdown",
      "source": [
        "## Train and evaluate"
      ],
      "metadata": {
        "id": "GhKmhpxgirgf"
      }
    },
    {
      "cell_type": "code",
      "source": [
        "print(\"Training the fine-tuned model:\")\n",
        "model_ft = train_model(model_ft, criterion, optimizer_ft, exp_lr_scheduler, num_epochs=10)"
      ],
      "metadata": {
        "colab": {
          "base_uri": "https://localhost:8080/"
        },
        "id": "RrkksTzkhF-H",
        "outputId": "9dd3bf89-5e98-44a9-d908-f7383a4a90f9"
      },
      "execution_count": 30,
      "outputs": [
        {
          "output_type": "stream",
          "name": "stdout",
          "text": [
            "Training the fine-tuned model:\n",
            "Epoch 0/9\n",
            "----------\n",
            "train Loss: 0.5445 Acc: 0.6885\n",
            "val Loss: 0.1792 Acc: 0.9412\n",
            "\n",
            "Epoch 1/9\n",
            "----------\n",
            "train Loss: 0.6355 Acc: 0.7664\n",
            "val Loss: 0.3288 Acc: 0.8758\n",
            "\n",
            "Epoch 2/9\n",
            "----------\n",
            "train Loss: 0.4989 Acc: 0.7992\n",
            "val Loss: 0.2638 Acc: 0.8693\n",
            "\n",
            "Epoch 3/9\n",
            "----------\n",
            "train Loss: 0.4686 Acc: 0.7951\n",
            "val Loss: 0.2616 Acc: 0.8824\n",
            "\n",
            "Epoch 4/9\n",
            "----------\n",
            "train Loss: 0.4108 Acc: 0.8279\n",
            "val Loss: 0.1734 Acc: 0.9150\n",
            "\n",
            "Epoch 5/9\n",
            "----------\n",
            "train Loss: 0.4477 Acc: 0.8238\n",
            "val Loss: 0.1663 Acc: 0.9216\n",
            "\n",
            "Epoch 6/9\n",
            "----------\n",
            "train Loss: 0.4767 Acc: 0.8443\n",
            "val Loss: 0.2414 Acc: 0.8889\n",
            "\n",
            "Epoch 7/9\n",
            "----------\n",
            "train Loss: 0.2968 Acc: 0.8730\n",
            "val Loss: 0.2588 Acc: 0.9085\n",
            "\n",
            "Epoch 8/9\n",
            "----------\n",
            "train Loss: 0.2682 Acc: 0.8934\n",
            "val Loss: 0.2221 Acc: 0.9216\n",
            "\n",
            "Epoch 9/9\n",
            "----------\n",
            "train Loss: 0.2979 Acc: 0.8689\n",
            "val Loss: 0.1999 Acc: 0.9281\n",
            "\n",
            "Training complete in 13m 41s\n",
            "Best val Acc: 0.9412\n"
          ]
        },
        {
          "output_type": "stream",
          "name": "stderr",
          "text": [
            "<ipython-input-28-c4957d9574f6>:55: FutureWarning: You are using `torch.load` with `weights_only=False` (the current default value), which uses the default pickle module implicitly. It is possible to construct malicious pickle data which will execute arbitrary code during unpickling (See https://github.com/pytorch/pytorch/blob/main/SECURITY.md#untrusted-models for more details). In a future release, the default value for `weights_only` will be flipped to `True`. This limits the functions that could be executed during unpickling. Arbitrary objects will no longer be allowed to be loaded via this mode unless they are explicitly allowlisted by the user via `torch.serialization.add_safe_globals`. We recommend you start setting `weights_only=True` for any use case where you don't have full control of the loaded file. Please open an issue on GitHub for any issues related to this experimental feature.\n",
            "  model.load_state_dict(torch.load(best_model_path))\n"
          ]
        }
      ]
    },
    {
      "cell_type": "markdown",
      "source": [
        "## 4. Using ConvNet as a fixed feature extractor"
      ],
      "metadata": {
        "id": "lOggijOzit7_"
      }
    },
    {
      "cell_type": "code",
      "source": [
        "model_conv = models.resnet18(weights='IMAGENET1K_V1')\n",
        "for param in model_conv.parameters():\n",
        "    param.requires_grad = False\n",
        "\n",
        "num_ftrs = model_conv.fc.in_features\n",
        "model_conv.fc = nn.Linear(num_ftrs, 2)\n",
        "model_conv = model_conv.to(device)\n",
        "\n",
        "criterion = nn.CrossEntropyLoss()\n",
        "optimizer_conv = optim.SGD(model_conv.fc.parameters(), lr=0.001, momentum=0.9)\n",
        "exp_lr_scheduler = lr_scheduler.StepLR(optimizer_conv, step_size=7, gamma=0.1)\n",
        "\n",
        "print(\"\\nTraining the fixed feature extractor model:\")\n",
        "model_conv = train_model(model_conv, criterion, optimizer_conv, exp_lr_scheduler, num_epochs=10)"
      ],
      "metadata": {
        "colab": {
          "base_uri": "https://localhost:8080/"
        },
        "id": "2yhQU55hhXVg",
        "outputId": "ee3ac0a0-4fb4-48f3-e803-0e7b47a56f98"
      },
      "execution_count": 31,
      "outputs": [
        {
          "output_type": "stream",
          "name": "stdout",
          "text": [
            "\n",
            "Training the fixed feature extractor model:\n",
            "Epoch 0/9\n",
            "----------\n",
            "train Loss: 0.6638 Acc: 0.6639\n",
            "val Loss: 0.3023 Acc: 0.8693\n",
            "\n",
            "Epoch 1/9\n",
            "----------\n",
            "train Loss: 0.5954 Acc: 0.7418\n",
            "val Loss: 0.4450 Acc: 0.8235\n",
            "\n",
            "Epoch 2/9\n",
            "----------\n",
            "train Loss: 0.5178 Acc: 0.7664\n",
            "val Loss: 0.1824 Acc: 0.9477\n",
            "\n",
            "Epoch 3/9\n",
            "----------\n",
            "train Loss: 0.4126 Acc: 0.7992\n",
            "val Loss: 0.1941 Acc: 0.9412\n",
            "\n",
            "Epoch 4/9\n",
            "----------\n",
            "train Loss: 0.5790 Acc: 0.7869\n",
            "val Loss: 0.1944 Acc: 0.9281\n",
            "\n",
            "Epoch 5/9\n",
            "----------\n",
            "train Loss: 0.6412 Acc: 0.7664\n",
            "val Loss: 0.1525 Acc: 0.9608\n",
            "\n",
            "Epoch 6/9\n",
            "----------\n",
            "train Loss: 0.8046 Acc: 0.6967\n",
            "val Loss: 0.2072 Acc: 0.9412\n",
            "\n",
            "Epoch 7/9\n",
            "----------\n",
            "train Loss: 0.3643 Acc: 0.8402\n",
            "val Loss: 0.1863 Acc: 0.9477\n",
            "\n",
            "Epoch 8/9\n",
            "----------\n",
            "train Loss: 0.3123 Acc: 0.8852\n",
            "val Loss: 0.1903 Acc: 0.9412\n",
            "\n",
            "Epoch 9/9\n",
            "----------\n",
            "train Loss: 0.3888 Acc: 0.8361\n",
            "val Loss: 0.2162 Acc: 0.9477\n",
            "\n",
            "Training complete in 6m 32s\n",
            "Best val Acc: 0.9608\n"
          ]
        },
        {
          "output_type": "stream",
          "name": "stderr",
          "text": [
            "<ipython-input-28-c4957d9574f6>:55: FutureWarning: You are using `torch.load` with `weights_only=False` (the current default value), which uses the default pickle module implicitly. It is possible to construct malicious pickle data which will execute arbitrary code during unpickling (See https://github.com/pytorch/pytorch/blob/main/SECURITY.md#untrusted-models for more details). In a future release, the default value for `weights_only` will be flipped to `True`. This limits the functions that could be executed during unpickling. Arbitrary objects will no longer be allowed to be loaded via this mode unless they are explicitly allowlisted by the user via `torch.serialization.add_safe_globals`. We recommend you start setting `weights_only=True` for any use case where you don't have full control of the loaded file. Please open an issue on GitHub for any issues related to this experimental feature.\n",
            "  model.load_state_dict(torch.load(best_model_path))\n"
          ]
        }
      ]
    },
    {
      "cell_type": "code",
      "source": [
        "# Report the results after training the models\n",
        "def report_results(model, dataloaders, dataset_sizes, description):\n",
        "    model.eval()\n",
        "    running_corrects = 0\n",
        "    running_loss = 0.0\n",
        "    criterion = nn.CrossEntropyLoss()\n",
        "\n",
        "    with torch.no_grad():\n",
        "        for inputs, labels in dataloaders['val']:\n",
        "            inputs, labels = inputs.to(device), labels.to(device)\n",
        "            outputs = model(inputs)\n",
        "            _, preds = torch.max(outputs, 1)\n",
        "            loss = criterion(outputs, labels)\n",
        "\n",
        "            running_loss += loss.item() * inputs.size(0)\n",
        "            running_corrects += torch.sum(preds == labels.data)\n",
        "\n",
        "    loss = running_loss / dataset_sizes['val']\n",
        "    accuracy = running_corrects.double() / dataset_sizes['val']\n",
        "\n",
        "    print(f\"\\nResults for {description}:\")\n",
        "    print(f\"Validation Loss: {loss:.4f}\")\n",
        "    print(f\"Validation Accuracy: {accuracy:.4f}\")\n",
        "\n",
        "# Report results for fine-tuned model\n",
        "report_results(model_ft, dataloaders, dataset_sizes, \"Fine-Tuned ResNet18\")\n",
        "\n",
        "# Report results for feature extractor model\n",
        "report_results(model_conv, dataloaders, dataset_sizes, \"ResNet18 as Feature Extractor\")\n"
      ],
      "metadata": {
        "colab": {
          "base_uri": "https://localhost:8080/"
        },
        "id": "p2Z11bJakujU",
        "outputId": "6cba14a9-8bc0-44a2-8a61-7fd283a9d1a0"
      },
      "execution_count": 33,
      "outputs": [
        {
          "output_type": "stream",
          "name": "stdout",
          "text": [
            "\n",
            "Results for Fine-Tuned ResNet18:\n",
            "Validation Loss: 0.1792\n",
            "Validation Accuracy: 0.9412\n",
            "\n",
            "Results for ResNet18 as Feature Extractor:\n",
            "Validation Loss: 0.1525\n",
            "Validation Accuracy: 0.9608\n"
          ]
        }
      ]
    },
    {
      "cell_type": "markdown",
      "source": [
        "## Results:\n",
        "### - The validation loss for the fine-tuned ResNet18 model is 0.1792, and the validation accuracy is 94.12%.\n",
        "\n",
        "### - The validation loss for the ResNet18 used as a feature extractor is 0.1525, with a validation accuracy of 96.08%.\n",
        "\n",
        "### - Comparing both models:\n",
        "- The feature extractor model slightly outperforms the fine-tuned model in terms of both validation loss and accuracy.\n",
        "- This suggests that the pre-trained features of ResNet18 were well-suited for the hymenoptera dataset.\n"
      ],
      "metadata": {
        "id": "6dJHayMDqO4G"
      }
    }
  ]
}