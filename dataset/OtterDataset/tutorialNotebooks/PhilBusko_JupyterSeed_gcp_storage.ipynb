{
 "cells": [
  {
   "cell_type": "markdown",
   "metadata": {},
   "source": [
    "# GCP Storage Tutorial\n",
    "\n",
    "**Objective:** Provide sample code for uploading and downloading different file types.\n",
    "\n",
    "**Author:** Phil Busko"
   ]
  },
  {
   "cell_type": "code",
   "execution_count": 1,
   "metadata": {},
   "outputs": [],
   "source": [
    "import os, sys, json\n",
    "import pandas as PD\n",
    "import numpy as NP"
   ]
  },
  {
   "cell_type": "code",
   "execution_count": 2,
   "metadata": {},
   "outputs": [
    {
     "name": "stdout",
     "output_type": "stream",
     "text": [
      "C:\\Projects\\PraxiService\\codebase\\common\n"
     ]
    }
   ],
   "source": [
    "MODULE_PATH = os.path.dirname(os.getcwd())\n",
    "ROOT_PATH = os.path.dirname(MODULE_PATH)\n",
    "print(MODULE_PATH)"
   ]
  },
  {
   "cell_type": "code",
   "execution_count": 3,
   "metadata": {},
   "outputs": [],
   "source": [
    "import io, base64\n",
    "import cv2 as CV\n",
    "import google.cloud.storage as GS\n",
    "CREDENTIALS = os.path.join(ROOT_PATH, 'common', 'gcp-cred-datalake.json')\n",
    "storageClient = GS.Client.from_service_account_json(CREDENTIALS)"
   ]
  },
  {
   "cell_type": "code",
   "execution_count": 4,
   "metadata": {},
   "outputs": [],
   "source": [
    "from IPython.core.interactiveshell import InteractiveShell\n",
    "InteractiveShell.ast_node_interactivity = 'all'\n",
    "from IPython.display import clear_output"
   ]
  },
  {
   "cell_type": "markdown",
   "metadata": {},
   "source": [
    "### Text / Json"
   ]
  },
  {
   "cell_type": "code",
   "execution_count": 5,
   "metadata": {},
   "outputs": [
    {
     "name": "stdout",
     "output_type": "stream",
     "text": [
      "elitehrv/all-athletes-2019.csv\n"
     ]
    }
   ],
   "source": [
    "# get the list of items\n",
    "\n",
    "BUCKET = 'calpoly-2019'\n",
    "items = list(storageClient.list_blobs(BUCKET, prefix='elitehrv'))\n",
    "items = [t.name for t in items]\n",
    "\n",
    "print( '\\n'.join(items) )"
   ]
  },
  {
   "cell_type": "code",
   "execution_count": 6,
   "metadata": {},
   "outputs": [
    {
     "name": "stdout",
     "output_type": "stream",
     "text": [
      "elitehrv/all-athletes-2019.csv\n"
     ]
    },
    {
     "data": {
      "text/html": [
       "<div>\n",
       "<style scoped>\n",
       "    .dataframe tbody tr th:only-of-type {\n",
       "        vertical-align: middle;\n",
       "    }\n",
       "\n",
       "    .dataframe tbody tr th {\n",
       "        vertical-align: top;\n",
       "    }\n",
       "\n",
       "    .dataframe thead th {\n",
       "        text-align: right;\n",
       "    }\n",
       "</style>\n",
       "<table border=\"1\" class=\"dataframe\">\n",
       "  <thead>\n",
       "    <tr style=\"text-align: right;\">\n",
       "      <th></th>\n",
       "      <th>Member</th>\n",
       "      <th>Type</th>\n",
       "      <th>Date Time Start</th>\n",
       "      <th>Date Time End</th>\n",
       "      <th>Duration</th>\n",
       "      <th>HRV</th>\n",
       "      <th>Morning Readiness</th>\n",
       "      <th>Balance</th>\n",
       "      <th>HRV CV</th>\n",
       "      <th>HR</th>\n",
       "      <th>lnRmssd</th>\n",
       "      <th>Rmssd</th>\n",
       "      <th>Nn50</th>\n",
       "      <th>Pnn50</th>\n",
       "      <th>Sdnn</th>\n",
       "      <th>Low Frequency Power</th>\n",
       "      <th>High Frequency Power</th>\n",
       "      <th>LF/HF Ratio</th>\n",
       "      <th>Total Power</th>\n",
       "    </tr>\n",
       "  </thead>\n",
       "  <tbody>\n",
       "    <tr>\n",
       "      <th>0</th>\n",
       "      <td>012065014</td>\n",
       "      <td>open</td>\n",
       "      <td>2019-09-23 06:54:45</td>\n",
       "      <td>NaN</td>\n",
       "      <td>53.417</td>\n",
       "      <td>77</td>\n",
       "      <td>NaN</td>\n",
       "      <td>NaN</td>\n",
       "      <td>0.0</td>\n",
       "      <td>57.68</td>\n",
       "      <td>4.97337</td>\n",
       "      <td>144.51</td>\n",
       "      <td>36</td>\n",
       "      <td>71</td>\n",
       "      <td>139.12</td>\n",
       "      <td>2256.370</td>\n",
       "      <td>9729.246</td>\n",
       "      <td>0.232</td>\n",
       "      <td>11985.616</td>\n",
       "    </tr>\n",
       "    <tr>\n",
       "      <th>1</th>\n",
       "      <td>012065014</td>\n",
       "      <td>open</td>\n",
       "      <td>2019-09-25 06:56:09</td>\n",
       "      <td>NaN</td>\n",
       "      <td>52.097</td>\n",
       "      <td>80</td>\n",
       "      <td>NaN</td>\n",
       "      <td>NaN</td>\n",
       "      <td>0.0</td>\n",
       "      <td>58.74</td>\n",
       "      <td>5.19765</td>\n",
       "      <td>180.85</td>\n",
       "      <td>40</td>\n",
       "      <td>78</td>\n",
       "      <td>176.74</td>\n",
       "      <td>17301.231</td>\n",
       "      <td>4135.452</td>\n",
       "      <td>4.184</td>\n",
       "      <td>21436.684</td>\n",
       "    </tr>\n",
       "    <tr>\n",
       "      <th>2</th>\n",
       "      <td>012065014</td>\n",
       "      <td>open</td>\n",
       "      <td>2019-09-27 06:56:53</td>\n",
       "      <td>NaN</td>\n",
       "      <td>42.169</td>\n",
       "      <td>80</td>\n",
       "      <td>NaN</td>\n",
       "      <td>NaN</td>\n",
       "      <td>0.0</td>\n",
       "      <td>74.34</td>\n",
       "      <td>5.23139</td>\n",
       "      <td>187.05</td>\n",
       "      <td>38</td>\n",
       "      <td>73</td>\n",
       "      <td>268.82</td>\n",
       "      <td>6072.220</td>\n",
       "      <td>4735.696</td>\n",
       "      <td>1.282</td>\n",
       "      <td>10807.915</td>\n",
       "    </tr>\n",
       "    <tr>\n",
       "      <th>3</th>\n",
       "      <td>012065014</td>\n",
       "      <td>readiness</td>\n",
       "      <td>2019-10-04 07:04:37</td>\n",
       "      <td>NaN</td>\n",
       "      <td>110.815</td>\n",
       "      <td>74</td>\n",
       "      <td>NaN</td>\n",
       "      <td>NaN</td>\n",
       "      <td>0.0</td>\n",
       "      <td>72.98</td>\n",
       "      <td>4.80254</td>\n",
       "      <td>121.82</td>\n",
       "      <td>71</td>\n",
       "      <td>53</td>\n",
       "      <td>149.81</td>\n",
       "      <td>16425.251</td>\n",
       "      <td>7177.288</td>\n",
       "      <td>2.289</td>\n",
       "      <td>23602.539</td>\n",
       "    </tr>\n",
       "    <tr>\n",
       "      <th>4</th>\n",
       "      <td>012065014</td>\n",
       "      <td>readiness</td>\n",
       "      <td>2019-10-07 06:38:42</td>\n",
       "      <td>NaN</td>\n",
       "      <td>91.959</td>\n",
       "      <td>75</td>\n",
       "      <td>8.0</td>\n",
       "      <td>PS</td>\n",
       "      <td>0.0</td>\n",
       "      <td>58.34</td>\n",
       "      <td>4.84465</td>\n",
       "      <td>127.06</td>\n",
       "      <td>60</td>\n",
       "      <td>67</td>\n",
       "      <td>186.36</td>\n",
       "      <td>1712.849</td>\n",
       "      <td>4202.184</td>\n",
       "      <td>0.408</td>\n",
       "      <td>5915.033</td>\n",
       "    </tr>\n",
       "  </tbody>\n",
       "</table>\n",
       "</div>"
      ],
      "text/plain": [
       "      Member       Type      Date Time Start  Date Time End  Duration  HRV  \\\n",
       "0  012065014       open  2019-09-23 06:54:45            NaN    53.417   77   \n",
       "1  012065014       open  2019-09-25 06:56:09            NaN    52.097   80   \n",
       "2  012065014       open  2019-09-27 06:56:53            NaN    42.169   80   \n",
       "3  012065014  readiness  2019-10-04 07:04:37            NaN   110.815   74   \n",
       "4  012065014  readiness  2019-10-07 06:38:42            NaN    91.959   75   \n",
       "\n",
       "   Morning Readiness Balance  HRV CV     HR  lnRmssd   Rmssd  Nn50  Pnn50  \\\n",
       "0                NaN     NaN     0.0  57.68  4.97337  144.51    36     71   \n",
       "1                NaN     NaN     0.0  58.74  5.19765  180.85    40     78   \n",
       "2                NaN     NaN     0.0  74.34  5.23139  187.05    38     73   \n",
       "3                NaN     NaN     0.0  72.98  4.80254  121.82    71     53   \n",
       "4                8.0      PS     0.0  58.34  4.84465  127.06    60     67   \n",
       "\n",
       "     Sdnn  Low Frequency Power  High Frequency Power  LF/HF Ratio  Total Power  \n",
       "0  139.12             2256.370              9729.246        0.232    11985.616  \n",
       "1  176.74            17301.231              4135.452        4.184    21436.684  \n",
       "2  268.82             6072.220              4735.696        1.282    10807.915  \n",
       "3  149.81            16425.251              7177.288        2.289    23602.539  \n",
       "4  186.36             1712.849              4202.184        0.408     5915.033  "
      ]
     },
     "execution_count": 6,
     "metadata": {},
     "output_type": "execute_result"
    }
   ],
   "source": [
    "# download file data for each item\n",
    "\n",
    "storageBucket = storageClient.bucket(BUCKET)\n",
    "\n",
    "for cloudPath in items:\n",
    "    print(cloudPath)\n",
    "    \n",
    "    blob = storageBucket.blob(cloudPath)\n",
    "    hrvBt = blob.download_as_string()\n",
    "    \n",
    "    stream = io.BytesIO(hrvBt)\n",
    "    exampleDf = PD.read_csv(stream)\n",
    "\n",
    "exampleDf.head()"
   ]
  },
  {
   "cell_type": "markdown",
   "metadata": {},
   "source": [
    "### Image"
   ]
  },
  {
   "cell_type": "code",
   "execution_count": 7,
   "metadata": {},
   "outputs": [
    {
     "name": "stdout",
     "output_type": "stream",
     "text": [
      "frames: 10,043\n"
     ]
    }
   ],
   "source": [
    "# get the list of items\n",
    "\n",
    "sourceName = 'umd-athletics'\n",
    "sourceVariation = '2020-07-07'\n",
    "videoName = 'capture'\n",
    "\n",
    "BUCKET = 'video-frame'\n",
    "cloudPath = f\"{sourceName}/{sourceVariation}/{videoName}\"\n",
    "items = list(storageClient.list_blobs(BUCKET, prefix=cloudPath))\n",
    "items = [t.name for t in items]\n",
    "\n",
    "print(f\"frames: {len(items):,}\")"
   ]
  },
  {
   "cell_type": "code",
   "execution_count": 9,
   "metadata": {},
   "outputs": [
    {
     "name": "stdout",
     "output_type": "stream",
     "text": [
      "C:\\Projects\\PraxiService\\codebase\\common\\notebooks\\ic-1594136690-01.jpg\n",
      "C:\\Projects\\PraxiService\\codebase\\common\\notebooks\\ic-1594136690-02.jpg\n",
      "C:\\Projects\\PraxiService\\codebase\\common\\notebooks\\ic-1594136690-03.jpg\n",
      "C:\\Projects\\PraxiService\\codebase\\common\\notebooks\\ic-1594136690-04.jpg\n",
      "C:\\Projects\\PraxiService\\codebase\\common\\notebooks\\ic-1594136690-05.jpg\n",
      "C:\\Projects\\PraxiService\\codebase\\common\\notebooks\\ic-1594136690-06.jpg\n",
      "C:\\Projects\\PraxiService\\codebase\\common\\notebooks\\ic-1594136690-07.jpg\n"
     ]
    }
   ],
   "source": [
    "# download each image\n",
    "\n",
    "storageBucket = storageClient.bucket(BUCKET)\n",
    "\n",
    "for idx, path in enumerate(items):\n",
    "\n",
    "    # get data from cloud\n",
    "\n",
    "    blob = storageBucket.blob(path)\n",
    "    imageTx = blob.download_as_string()\n",
    "    fileName = os.path.basename(path)\n",
    "\n",
    "    # save image to disk\n",
    "\n",
    "    nparr = NP.frombuffer(imageTx, NP.uint8)\n",
    "    img = CV.imdecode(nparr, CV.IMREAD_COLOR)\n",
    "    outputPath = os.path.join(MODULE_PATH, 'notebooks', fileName) \n",
    "    results = CV.imwrite(outputPath, img)\n",
    "    print(outputPath)\n",
    "\n",
    "    # for dev only\n",
    "    if idx > 2: break"
   ]
  },
  {
   "cell_type": "code",
   "execution_count": null,
   "metadata": {},
   "outputs": [],
   "source": []
  }
 ],
 "metadata": {
  "kernelspec": {
   "display_name": "Python 3 (ipykernel)",
   "language": "python",
   "name": "python3"
  },
  "language_info": {
   "codemirror_mode": {
    "name": "ipython",
    "version": 3
   },
   "file_extension": ".py",
   "mimetype": "text/x-python",
   "name": "python",
   "nbconvert_exporter": "python",
   "pygments_lexer": "ipython3",
   "version": "3.8.2"
  }
 },
 "nbformat": 4,
 "nbformat_minor": 4
}
