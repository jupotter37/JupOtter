{
 "cells": [
  {
   "cell_type": "markdown",
   "id": "23b9326b",
   "metadata": {},
   "source": [
    "# ¿Cómo mejorar la estrategia? \n",
    "    \n",
    "A lo largo de estos videotutoriales hemos visto cómo diseñar una estrategia de trading sencilla y cómo automatizarla a través de la API de InteractiveBrokers. \n",
    "\n",
    "**Importante:** Esta estrategia únicamente tiene fines educativos y en ningún supone una recomendación para operar en el mercado real. \n",
    "\n",
    "En caso de querer mejorar esta estrategia o diseñar una nueva, proponemos estas <u>líneas de investigación<u/>:\n",
    "\n",
    "1. Analizar los retornos de la estrategia tras incluir comisiones y delizamientos.\n",
    "2. Diseñar y evaluar otra lógica: Canales de precio, volatilidad (VBO), otras medias móviles, etc.\n",
    "3. Filtros que ayuden a mejorar la lógica: Filtros direccionales, filtros de estacionales, etc.\n",
    "4. En el Curso de Experto <u>Sistemas y Modelos Cuantitativos de Trading Algorítmico impartido por la UPM</u> veremos en profundidad cómo diseñar estrategias partiendo desde cero. \n",
    "    \n",
    "# ¿Cómo mejorar la arquitectura de implementación?\n",
    "\n",
    "Aquí hemos visto cómo crear una arquitectura para implementar la estrategia de trading que utiliza una base de datos de ticks. No obstante, podríamos haber creado una arquitectura diferente, por ejemplo:\n",
    "    \n",
    "1. Podríamos no haber utilizado datos de ticks y cada cierto tiempo solicitar datos históricos OHLC la API de IB para procesar las señales y enrutar las órdenes al mercado.\n",
    "2. Podríamos solicitar datos históricos OHLC únicamente cuando la aplicación establece la conexión con IB, y posteriormente adjuntar cada nuevo tick al DataFrame que contiene los datos históricos. Posteriormente procesar dichos datos, generar las señales de compra y venta y enrutar las órdenes al mercado. \n",
    "\n",
    "Aquí mostramos dos ejemplos, aunque hay más aproximaciones. Dependiendo del proyecto y de los recursos tecnológicos disponibles será más interesante utilizar una arquitectura u otra. A menudo es recomendable construir varias arquitecturas y comparar el rendimiento de cada una de ellas para seleccionar la más eficiente. Como regla general, el tiempo de ejecución completo de la aplicación no debe exceder los <u>35-40 milisegundos.</u>"
   ]
  },
  {
   "cell_type": "code",
   "execution_count": null,
   "id": "ea701887",
   "metadata": {},
   "outputs": [],
   "source": []
  }
 ],
 "metadata": {
  "kernelspec": {
   "display_name": "Python 3 (ipykernel)",
   "language": "python",
   "name": "python3"
  },
  "language_info": {
   "codemirror_mode": {
    "name": "ipython",
    "version": 3
   },
   "file_extension": ".py",
   "mimetype": "text/x-python",
   "name": "python",
   "nbconvert_exporter": "python",
   "pygments_lexer": "ipython3",
   "version": "3.8.12"
  }
 },
 "nbformat": 4,
 "nbformat_minor": 5
}
