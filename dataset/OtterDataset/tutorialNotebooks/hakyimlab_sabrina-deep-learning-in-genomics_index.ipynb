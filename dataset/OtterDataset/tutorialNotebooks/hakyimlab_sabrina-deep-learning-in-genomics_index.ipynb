{
 "cells": [
  {
   "cell_type": "markdown",
   "metadata": {},
   "source": [
    "---\n",
    "title: Testing the Enformer pipeline option to output both human and mouse head together\n",
    "author: Sabrina Mi\n",
    "date: 8/31/23\n",
    "---"
   ]
  },
  {
   "cell_type": "markdown",
   "metadata": {},
   "source": [
    "## Personalized Test\n",
    "\n",
    "We chose `ENSRNOG00000054549`, centered at the TSS chr20:12118762.\n",
    "\n",
    "Highthroughput on polaris:\n",
    "\n",
    "```\n",
    "module load conda\n",
    "conda activate /lus/grand/projects/TFXcan/imlab/shared/software/conda_envs/enformer-predict-tools\n",
    "\n",
    "python /home/s1mi/Github/enformer_epigenome_pipeline/enformer_predict.py --parameters /home/s1mi/Github/deep-learning-in-genomics/posts/2023-08-31-testing-multiple-heads-in-pipeline/local_test_personalized.json\n",
    "\n",
    "```\n",
    "\n",
    "Local:\n",
    "\n",
    "```\n",
    "conda activate enformer-predict-tools\n",
    "python /Users/sabrinami/Github/enformer_epigenome_pipeline/enformer_predict.py --parameters /Users/sabrinami/Github/deep-learning-in-genomics/posts/2023-08-31-testing-multiple-heads-in-pipeline/local_test_personalized2.json\n",
    "\n",
    "```"
   ]
  },
  {
   "cell_type": "code",
   "execution_count": 1,
   "metadata": {},
   "outputs": [],
   "source": [
    "import h5py\n",
    "import numpy as np\n",
    "f = h5py.File(\"/Users/sabrinami/Desktop/2022-23/tutorials/enformer_pipeline_test/predictions_folder/personalized_enformer_rat_single_gene/predictions_2023-08-31/enformer_predictions/000789972A/haplotype0/chr20_12118762_12118762_predictions.h5\", \"r\")\n",
    "human_prediction = f['human'][()]\n",
    "mouse_prediction = f['mouse'][()]"
   ]
  },
  {
   "cell_type": "code",
   "execution_count": 3,
   "metadata": {},
   "outputs": [],
   "source": [
    "import EnformerVCF\n",
    "import kipoiseq\n",
    "fasta_file = '/Users/sabrinami/Desktop/2022-23/tutorials/enformer_pipeline_test/rn7_data/rn7_genome.fasta'\n",
    "fasta_extractor = EnformerVCF.FastaStringExtractor(fasta_file)"
   ]
  },
  {
   "cell_type": "code",
   "execution_count": 5,
   "metadata": {},
   "outputs": [],
   "source": [
    "target_interval = kipoiseq.Interval(\"chr20\", 12118762, 12118762)\n",
    "chr20_vcf = EnformerVCF.read_vcf(\"/Users/sabrinami/Desktop/2022-23/tutorials/enformer_pipeline_test/rn7_data/chr20.vcf.gz\")\n",
    "haplo1, haplo2 = EnformerVCF.vcf_to_seq(target_interval, '000789972A', chr20_vcf, fasta_extractor)\n",
    "haplo1_enc = EnformerVCF.one_hot_encode(\"\".join(haplo1))[np.newaxis]\n",
    "haplo2_enc = EnformerVCF.one_hot_encode(\"\".join(haplo2))[np.newaxis]"
   ]
  },
  {
   "cell_type": "code",
   "execution_count": 6,
   "metadata": {},
   "outputs": [],
   "source": [
    "mean_haplo = (haplo1_enc + haplo2_enc) / 2\n",
    "output = EnformerVCF.model.predict_on_batch(mean_haplo)"
   ]
  },
  {
   "cell_type": "code",
   "execution_count": 7,
   "metadata": {},
   "outputs": [
    {
     "name": "stdout",
     "output_type": "stream",
     "text": [
      "[[0.23258275 0.2962714  0.52013165 ... 0.19615567 1.1101408  0.25560504]\n",
      " [0.15570731 0.20205402 0.3755348  ... 0.04365927 0.24989623 0.08517855]\n",
      " [0.1536611  0.21689793 0.4510562  ... 0.05227472 0.2147567  0.08478698]\n",
      " ...\n",
      " [0.1794057  0.22463816 0.29514343 ... 0.01105995 0.02652512 0.03385386]\n",
      " [0.1694869  0.20448665 0.26207498 ... 0.01688805 0.04071837 0.06028533]\n",
      " [0.15269741 0.20196484 0.22278813 ... 0.02438667 0.03900523 0.05988767]]\n",
      "[[0.23258275 0.2962714  0.52013165 ... 0.19615567 1.1101408  0.25560504]\n",
      " [0.15570731 0.20205402 0.3755348  ... 0.04365927 0.24989623 0.08517855]\n",
      " [0.1536611  0.21689793 0.4510562  ... 0.05227472 0.2147567  0.08478698]\n",
      " ...\n",
      " [0.1794057  0.22463816 0.29514343 ... 0.01105995 0.02652512 0.03385386]\n",
      " [0.1694869  0.20448665 0.26207498 ... 0.01688805 0.04071837 0.06028533]\n",
      " [0.15269741 0.20196484 0.22278813 ... 0.02438667 0.03900523 0.05988767]]\n"
     ]
    }
   ],
   "source": [
    "print(human_prediction)\n",
    "print(output['human'][0])"
   ]
  },
  {
   "cell_type": "code",
   "execution_count": 10,
   "metadata": {},
   "outputs": [
    {
     "name": "stdout",
     "output_type": "stream",
     "text": [
      "There are 0 differences between the human heads and 0 differences in the mouse heads.\n"
     ]
    }
   ],
   "source": [
    "print(\"There are\", sum(sum(human_prediction != output['human'][0])), \"differences between the human heads and\", sum(sum(mouse_prediction != output['mouse'][0])), \"differences in the mouse heads.\")"
   ]
  },
  {
   "cell_type": "markdown",
   "metadata": {},
   "source": [
    "## Reference Test\n",
    "\n",
    "```\n",
    "conda activate enformer-predict-tools\n",
    "\n",
    "python /Users/sabrinami/Github/enformer_epigenome_pipeline/enformer_predict.py --parameters /Users/sabrinami/Github/deep-learning-in-genomics/posts/2023-08-31-testing-multiple-heads-in-pipeline/local_test_reference.json\n",
    "\n",
    "```\n",
    "\n",
    "### Check Predictions"
   ]
  },
  {
   "cell_type": "code",
   "execution_count": 8,
   "metadata": {},
   "outputs": [],
   "source": [
    "import h5py\n",
    "f = h5py.File(\"/Users/sabrinami/Desktop/2022-23/tutorials/enformer_pipeline_test/predictions_folder/reference_enformer_rat_single_gene/predictions_2023-08-31/enformer_predictions/reference_enformer_rat/haplotype0/chr20_12118762_12118762_predictions.h5\", \"r\")\n",
    "import kipoiseq \n",
    "from kipoiseq import Interval\n",
    "import EnformerVCF\n",
    "import numpy as np\n",
    "fasta_file = '/Users/sabrinami/Desktop/2022-23/tutorials/enformer_pipeline_test/rn7_data/rn7_genome.fasta'\n",
    "fasta_extractor = EnformerVCF.FastaStringExtractor(fasta_file)\n",
    "human_prediction1 = f['human'][()]\n",
    "mouse_prediction1 = f['mouse'][()]"
   ]
  },
  {
   "cell_type": "code",
   "execution_count": 9,
   "metadata": {},
   "outputs": [],
   "source": [
    "SEQUENCE_LENGTH = 393216\n",
    "target_interval = kipoiseq.Interval(\"chr20\", 12118762, 12118762)\n",
    "sequence_one_hot = EnformerVCF.one_hot_encode(fasta_extractor.extract(target_interval.resize(SEQUENCE_LENGTH)))\n",
    "output = EnformerVCF.model.predict_on_batch(sequence_one_hot[np.newaxis])\n",
    "mouse_prediction2 = output['mouse'][0]\n",
    "human_prediction2 = output['human'][0]"
   ]
  },
  {
   "cell_type": "code",
   "execution_count": 10,
   "metadata": {},
   "outputs": [
    {
     "name": "stdout",
     "output_type": "stream",
     "text": [
      "There are 0 differences between human predictions and 0 differences between mouse predictions.\n"
     ]
    }
   ],
   "source": [
    "print(\"There are\", sum(sum(human_prediction1 != human_prediction2)), \"differences between human predictions and\", sum(sum(human_prediction1 != human_prediction2)), \"differences between mouse predictions.\")"
   ]
  }
 ],
 "metadata": {
  "kernelspec": {
   "display_name": "ml-python",
   "language": "python",
   "name": "ml-python"
  },
  "language_info": {
   "codemirror_mode": {
    "name": "ipython",
    "version": 3
   },
   "file_extension": ".py",
   "mimetype": "text/x-python",
   "name": "python",
   "nbconvert_exporter": "python",
   "pygments_lexer": "ipython3",
   "version": "3.10.11"
  },
  "orig_nbformat": 4
 },
 "nbformat": 4,
 "nbformat_minor": 2
}
