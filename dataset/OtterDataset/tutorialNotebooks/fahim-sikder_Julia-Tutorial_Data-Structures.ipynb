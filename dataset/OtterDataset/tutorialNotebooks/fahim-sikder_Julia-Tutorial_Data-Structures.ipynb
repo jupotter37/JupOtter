{
 "cells": [
  {
   "cell_type": "markdown",
   "metadata": {},
   "source": [
    "## Data Structures\n",
    "\n",
    "In this tutorial, we will see about `Julia's` data structure. Namely,\n",
    "\n",
    "1. Tuple\n",
    "2. Array\n",
    "3. Dictionary\n",
    "4. Set\n",
    "\n",
    "\n",
    "### Tuple\n",
    "\n",
    "Lets first discuss about `Tuple`. Tuple and Array can hold a list of elements. But the basic difference between them is, `Tuple` is immutable. It means that, we can't change the value of a tuple once it's created. We can create a tuple by giving some ordered elements into a paranthesis `( )`. The syntax of a tuple is as follows:\n",
    "\n",
    "```julia\n",
    "(item1, item2, itme3, ...)\n",
    "```\n",
    "\n",
    "Let's see an example. Suppose we want to create a tuple consists of some mixed values. We just give those values within a paranthesis `( )` or just without the parenthesis. Both will work just fine. Then we can print the type of the tuple by using the `typeof()` method. To access the elements of a tuple, we can use the index values of tuple, but keep in mind in `Julia`, index starts from 1. So, in order to access the first element of tuple, we need to follow this syntax:\n",
    "\n",
    "```julia\n",
    "\n",
    "tuple_name[1]\n",
    "\n",
    "```"
   ]
  },
  {
   "cell_type": "code",
   "execution_count": 1,
   "metadata": {},
   "outputs": [
    {
     "name": "stdout",
     "output_type": "stream",
     "text": [
      "(1, 2, 4.5, \"Hello\")\n",
      "('c', 11, 0.5, \"World\")"
     ]
    }
   ],
   "source": [
    "tup1 = (1, 2, 4.5, \"Hello\")\n",
    "\n",
    "println(tup1)\n",
    "\n",
    "#this also works\n",
    "\n",
    "tup2 = 'c', 11, 0.5, \"World\"\n",
    "\n",
    "print(tup2)"
   ]
  },
  {
   "cell_type": "code",
   "execution_count": 2,
   "metadata": {},
   "outputs": [
    {
     "name": "stdout",
     "output_type": "stream",
     "text": [
      "Type of tup1: Tuple{Int64,Int64,Float64,String}\n",
      "Type of tup2: Tuple{Char,Int64,Float64,String}\n"
     ]
    }
   ],
   "source": [
    "println(\"Type of tup1: \", typeof(tup1))\n",
    "println(\"Type of tup2: \", typeof(tup2))"
   ]
  },
  {
   "cell_type": "code",
   "execution_count": 3,
   "metadata": {},
   "outputs": [
    {
     "name": "stdout",
     "output_type": "stream",
     "text": [
      "1\n",
      "World\n"
     ]
    }
   ],
   "source": [
    "#accessing Elements\n",
    "\n",
    "println(tup1[1])\n",
    "println(tup2[end])"
   ]
  },
  {
   "cell_type": "markdown",
   "metadata": {},
   "source": [
    "As, we were saying earlier that, tuples are immuatble. That means, we can not change the elements of a tuple after it has been initialized. Let's test that. We will try to change the third element of `tup1`. And it will give an error."
   ]
  },
  {
   "cell_type": "code",
   "execution_count": 4,
   "metadata": {},
   "outputs": [
    {
     "ename": "MethodError",
     "evalue": "MethodError: no method matching setindex!(::Tuple{Int64,Int64,Float64,String}, ::Char, ::Int64)",
     "output_type": "error",
     "traceback": [
      "MethodError: no method matching setindex!(::Tuple{Int64,Int64,Float64,String}, ::Char, ::Int64)",
      "",
      "Stacktrace:",
      " [1] top-level scope at In[4]:1"
     ]
    }
   ],
   "source": [
    "tup1[3] = 'c' "
   ]
  },
  {
   "cell_type": "markdown",
   "metadata": {},
   "source": [
    "There is an another version of tuples and it is called NamedTuples. Here, we can assign an unique name to each elements of the tuple to access them. \n",
    "\n",
    "To access by using its name we need to use the following syntax:\n",
    "\n",
    "```julia\n",
    "\n",
    "tuple_name.variable_name\n",
    "\n",
    "```"
   ]
  },
  {
   "cell_type": "code",
   "execution_count": 5,
   "metadata": {},
   "outputs": [
    {
     "name": "stdout",
     "output_type": "stream",
     "text": [
      "Elements of named_tuple: (lang = 'C', int_num = 1, float_num = 3.6)\n",
      "Accessing first element by index: C\n",
      "Accessing first element by using variable name: C\n"
     ]
    }
   ],
   "source": [
    "named_tup = (lang = 'C', int_num = 1, float_num = 3.6)\n",
    "\n",
    "println(\"Elements of named_tuple: \", named_tup)\n",
    "\n",
    "println(\"Accessing first element by index: \", named_tup[1])\n",
    "\n",
    "println(\"Accessing first element by using variable name: \", named_tup.lang)"
   ]
  },
  {
   "cell_type": "markdown",
   "metadata": {},
   "source": [
    "### Array\n",
    "\n",
    "Unlike Tuples, Arrays are mutable. So, after assigning values we can change them. We can declare an array in many ways. such as:\n",
    "\n",
    "```julia\n",
    "\n",
    "array_name = [item1, item2, ...]\n",
    "array_name = Array([item1, item2, ...])\n",
    "array_name = Array{DataType}([item1, item2, ...])\n",
    "\n",
    "```\n",
    "\n",
    "Here in the third syntax of declaring array, we can specify what kind of data we want to assign in our array. Lets, create three arrays using these syntax."
   ]
  },
  {
   "cell_type": "code",
   "execution_count": 6,
   "metadata": {},
   "outputs": [
    {
     "name": "stdout",
     "output_type": "stream",
     "text": [
      "Elements of arr1: [1, 2, 3]\n",
      "Elements of arr2: Any[2.5, \"Hello\", 100]\n",
      "Elements of arr3: [4, 6, 8]\n"
     ]
    }
   ],
   "source": [
    "arr1 = [1, 2, 3]\n",
    "arr2 = Array([2.5, \"Hello\", 100])\n",
    "arr3 = Array{Int64}([4, 6, 8])\n",
    "\n",
    "println(\"Elements of arr1: \", arr1)\n",
    "println(\"Elements of arr2: \", arr2)\n",
    "println(\"Elements of arr3: \", arr3)"
   ]
  },
  {
   "cell_type": "markdown",
   "metadata": {},
   "source": [
    "These are the example of 1 dimensional array. The syntax of declaring 2 dimensional array is follows:\n",
    "\n",
    "```julia\n",
    "\n",
    "array_2d = [item1 item2; item3 item4; ...]\n",
    "\n",
    "```\n",
    "\n",
    "Let's create an array which has 3 row and 2 columns or an `(3*2)` array."
   ]
  },
  {
   "cell_type": "code",
   "execution_count": 7,
   "metadata": {},
   "outputs": [
    {
     "data": {
      "text/plain": [
       "3×2 Array{Int64,2}:\n",
       " 1  2\n",
       " 3  4\n",
       " 5  6"
      ]
     },
     "execution_count": 7,
     "metadata": {},
     "output_type": "execute_result"
    }
   ],
   "source": [
    "arr_2d =[1 2; 3 4; 5 6]\n",
    "\n",
    "arr_2d"
   ]
  },
  {
   "cell_type": "markdown",
   "metadata": {},
   "source": [
    "#### Array Operations\n",
    "\n",
    "To insert, delete or sort elements of an array we can use some built in methods like `insert(), deleteat(), push(), pushfirst(), pop(), popfirst(), sort()`. Let's use these methods. To insert elements in an array we can use `push()`, `pushfirst()` and `insert()` methods. `push()` method insert an element in the end of the array, `pushfirst()` inserts an item at the begining of the array, and `insert()` method insert an item into a given location. The syntax of `insert()` method is \n",
    "\n",
    "```julia\n",
    "\n",
    "insert(arr_name, position_to_insert, value)\n",
    "\n",
    "```\n",
    "\n",
    "Let's first insert into an array."
   ]
  },
  {
   "cell_type": "code",
   "execution_count": 8,
   "metadata": {},
   "outputs": [
    {
     "name": "stdout",
     "output_type": "stream",
     "text": [
      "Array after using push method: [1, 2, 3, 4, 5, 100]\n",
      "Array after using pushfirst method: [12, 1, 2, 3, 4, 5, 100]\n",
      "Array after using insert method: [12, 1, 2525, 2, 3, 4, 5, 100]\n"
     ]
    }
   ],
   "source": [
    "test_arr = [1, 2, 3, 4, 5]\n",
    "\n",
    "push!(test_arr, 100)\n",
    "\n",
    "println(\"Array after using push method: \", test_arr)\n",
    "\n",
    "pushfirst!(test_arr, 12)\n",
    "\n",
    "println(\"Array after using pushfirst method: \", test_arr)\n",
    "\n",
    "insert!(test_arr, 3, 2525)\n",
    "\n",
    "println(\"Array after using insert method: \", test_arr)"
   ]
  },
  {
   "cell_type": "markdown",
   "metadata": {},
   "source": [
    "To delete elements in an array, we can use `pop()`, `popfirst()` and `deleteat()` methods. `pop()` method deletes an element from the end of the array, `popfirst()` deletes an item from the begining of the array, and `deleteat()` method deletes an item from a given location. The syntax of `deleteat()` method is \n",
    "\n",
    "```julia\n",
    "\n",
    "deleteat(arr_name, position_for_delete)\n",
    "\n",
    "```\n",
    "\n",
    "We will use the same array which we used with insertion methods."
   ]
  },
  {
   "cell_type": "code",
   "execution_count": 9,
   "metadata": {},
   "outputs": [
    {
     "name": "stdout",
     "output_type": "stream",
     "text": [
      "Array before deleting elements: [12, 1, 2525, 2, 3, 4, 5, 100]\n",
      "Array after using pop method: [12, 1, 2525, 2, 3, 4, 5]\n",
      "Array after using popfirst method: [1, 2525, 2, 3, 4, 5]\n",
      "Array after using deleteat method at the 4th index: [1, 2525, 2, 4, 5]\n"
     ]
    }
   ],
   "source": [
    "println(\"Array before deleting elements: \", test_arr)\n",
    "\n",
    "pop!(test_arr)\n",
    "\n",
    "println(\"Array after using pop method: \", test_arr)\n",
    "\n",
    "popfirst!(test_arr)\n",
    "\n",
    "println(\"Array after using popfirst method: \", test_arr)\n",
    "\n",
    "deleteat!(test_arr, 4)\n",
    "\n",
    "println(\"Array after using deleteat method at the 4th index: \", test_arr)"
   ]
  },
  {
   "cell_type": "markdown",
   "metadata": {},
   "source": [
    "Besides these inserting and deletion methods, there are some methods for other helpful tasks. Here, we will try to mention some of the methods. For sorting we can use `sort()` method. Also, if we want arrays of ones or zeros we can use `ones()` and `zeros()` method respectively. We can generate random number from uniform distribution using `rand()` method. To create random number from normal distribution we can use `randn()` method.\n",
    "\n",
    "Let's see them in action."
   ]
  },
  {
   "cell_type": "code",
   "execution_count": 10,
   "metadata": {},
   "outputs": [
    {
     "name": "stdout",
     "output_type": "stream",
     "text": [
      "Before sorting the test_array: [1, 2525, 2, 4, 5]\n",
      "After sorting the test_array: [1, 2, 4, 5, 2525]\n"
     ]
    }
   ],
   "source": [
    "# sorting test_arr\n",
    "\n",
    "println(\"Before sorting the test_array: \", test_arr)\n",
    "\n",
    "sort!(test_arr)\n",
    "\n",
    "println(\"After sorting the test_array: \", test_arr)"
   ]
  },
  {
   "cell_type": "code",
   "execution_count": 11,
   "metadata": {},
   "outputs": [
    {
     "data": {
      "text/plain": [
       "2×3 Array{Float64,2}:\n",
       " 1.0  1.0  1.0\n",
       " 1.0  1.0  1.0"
      ]
     },
     "execution_count": 11,
     "metadata": {},
     "output_type": "execute_result"
    }
   ],
   "source": [
    "# create an 2*3 array of ones\n",
    "\n",
    "ones_arr = ones(2, 3)\n",
    "\n",
    "ones_arr"
   ]
  },
  {
   "cell_type": "code",
   "execution_count": 12,
   "metadata": {},
   "outputs": [
    {
     "data": {
      "text/plain": [
       "2×3 Array{Float64,2}:\n",
       " 0.0  0.0  0.0\n",
       " 0.0  0.0  0.0"
      ]
     },
     "execution_count": 12,
     "metadata": {},
     "output_type": "execute_result"
    }
   ],
   "source": [
    "# create an 2*3 array of zeros\n",
    "\n",
    "zeros_arr = zeros(2, 3)\n",
    "\n",
    "zeros_arr"
   ]
  },
  {
   "cell_type": "code",
   "execution_count": 13,
   "metadata": {},
   "outputs": [
    {
     "data": {
      "text/plain": [
       "2×5 Array{Float64,2}:\n",
       " 0.451961  0.309916  0.193709  0.602781  0.160294\n",
       " 0.737481  0.523093  0.662101  0.946056  0.804512"
      ]
     },
     "execution_count": 13,
     "metadata": {},
     "output_type": "execute_result"
    }
   ],
   "source": [
    "# create an array size of 2*5 with random variable from uniform distribution \n",
    "\n",
    "rand(2, 5)"
   ]
  },
  {
   "cell_type": "code",
   "execution_count": 14,
   "metadata": {},
   "outputs": [
    {
     "data": {
      "text/plain": [
       "2×5 Array{Float64,2}:\n",
       "  0.907519  2.42625  0.909603  -0.420501   0.632623\n",
       " -1.78817   0.63605  0.17628    0.419475  -0.200928"
      ]
     },
     "execution_count": 14,
     "metadata": {},
     "output_type": "execute_result"
    }
   ],
   "source": [
    "# create an array size of 2*5 with random variable from normal distribution \n",
    "\n",
    "randn(2, 5)"
   ]
  },
  {
   "cell_type": "markdown",
   "metadata": {},
   "source": [
    "### Dictionary\n",
    "\n",
    "Dictionary is a collection of key-value pairs, where we can access the value using its key. We can declare dictionary in the following three ways:\n",
    "\n",
    "```julia\n",
    "\n",
    "dict_name = Dict()\n",
    "dict_name = Dict(key1 => value1, key2 => value2, ....)\n",
    "dict_name = Dict{key_datatype, value_datatype}(key1 => value1, key2 => value2, ....)\n",
    "\n",
    "```\n",
    "\n",
    "Here in the third syntax of declaring dictionary, we can specify the data types of keys and values. "
   ]
  },
  {
   "cell_type": "code",
   "execution_count": 15,
   "metadata": {},
   "outputs": [
    {
     "name": "stdout",
     "output_type": "stream",
     "text": [
      "Elements of dict1: Dict{Any,Any}(\"Bangladesh\" => \"Dhaka\",\"Sweden\" => \"Stockholm\")\n",
      "Elements of dict2: Dict(\"Apple\" => \"Red\",\"Orange\" => \"Orange\",\"Banana\" => \"Yellow\")\n",
      "Elements of dict3: Dict(\"One\" => 1,\"Two\" => 2,\"Three\" => 3)\n"
     ]
    }
   ],
   "source": [
    "dict1 = Dict()\n",
    "\n",
    "dict1[\"Bangladesh\"] = \"Dhaka\"\n",
    "dict1[\"Sweden\"] = \"Stockholm\"\n",
    "\n",
    "println(\"Elements of dict1: \", dict1)\n",
    "\n",
    "dict2 = Dict(\"Apple\" => \"Red\", \"Orange\" => \"Orange\", \"Banana\" => \"Yellow\")\n",
    "\n",
    "println(\"Elements of dict2: \", dict2)\n",
    "\n",
    "dict3 = Dict{String, Int64}(\"One\" => 1, \"Two\" => 2, \"Three\" => 3)\n",
    "\n",
    "println(\"Elements of dict3: \", dict3)"
   ]
  },
  {
   "cell_type": "markdown",
   "metadata": {},
   "source": [
    "#### Accessing Dictionary Elements\n",
    "\n",
    "To access the elements of dictionary we need to access them via their key. Suppose in `dict3`, we want to access the value `3`. So, we can do that by this:"
   ]
  },
  {
   "cell_type": "code",
   "execution_count": 16,
   "metadata": {},
   "outputs": [
    {
     "name": "stdout",
     "output_type": "stream",
     "text": [
      "3\n"
     ]
    }
   ],
   "source": [
    "println(dict3[\"Three\"])"
   ]
  },
  {
   "cell_type": "markdown",
   "metadata": {},
   "source": [
    "Also, we can access the keys and values of a dictionary seperately by using `keys()` and `values()` method respectively. "
   ]
  },
  {
   "cell_type": "code",
   "execution_count": 17,
   "metadata": {},
   "outputs": [
    {
     "name": "stdout",
     "output_type": "stream",
     "text": [
      "Keys of dict3: [\"One\", \"Two\", \"Three\"]\n",
      "Values of dict3: [1, 2, 3]\n"
     ]
    }
   ],
   "source": [
    "println(\"Keys of dict3: \", keys(dict3))\n",
    "\n",
    "println(\"Values of dict3: \", values(dict3))"
   ]
  },
  {
   "cell_type": "markdown",
   "metadata": {},
   "source": [
    "### Set\n",
    "\n",
    "Another data structure of `julia` is `set`. `Set` is like `array`, its mutable. But the basic difference between them is, `set` holds only `unique element`. So, there will be no duplicate element in a `set`. And the basic syntax of a set is:\n",
    "\n",
    "```julia\n",
    "\n",
    "set_name = Set([item1, item2, item3, ....])\n",
    "\n",
    "```\n",
    "\n",
    "We can do operations like union, intersection, difference between two sets using `union()`, `intersect()`, and `setdiff()` methods respectively. Also we can check if one set is subset of another one by using `issubset()` function.\n",
    "\n",
    "Here we will create 2 sets and apply these functions on them."
   ]
  },
  {
   "cell_type": "code",
   "execution_count": 18,
   "metadata": {},
   "outputs": [
    {
     "name": "stdout",
     "output_type": "stream",
     "text": [
      "Set1: Set(Any[\"new\", 2, 3, 5, 1])\n",
      "Set1: Set([2, 5])\n"
     ]
    }
   ],
   "source": [
    "set1 = Set([1, 2, 3, 2, 5, \"new\"])\n",
    "\n",
    "println(\"Set1: \", set1)\n",
    "\n",
    "set2 = Set([5, 2])\n",
    "\n",
    "println(\"Set1: \", set2)"
   ]
  },
  {
   "cell_type": "code",
   "execution_count": 19,
   "metadata": {},
   "outputs": [
    {
     "data": {
      "text/plain": [
       "Set{Any} with 5 elements:\n",
       "  \"new\"\n",
       "  2\n",
       "  3\n",
       "  5\n",
       "  1"
      ]
     },
     "execution_count": 19,
     "metadata": {},
     "output_type": "execute_result"
    }
   ],
   "source": [
    "# union between two sets\n",
    "\n",
    "union(set1, set2)"
   ]
  },
  {
   "cell_type": "code",
   "execution_count": 20,
   "metadata": {},
   "outputs": [
    {
     "data": {
      "text/plain": [
       "Set{Any} with 2 elements:\n",
       "  2\n",
       "  5"
      ]
     },
     "execution_count": 20,
     "metadata": {},
     "output_type": "execute_result"
    }
   ],
   "source": [
    "# intersection between two sets\n",
    "\n",
    "intersect(set1, set2)"
   ]
  },
  {
   "cell_type": "code",
   "execution_count": 21,
   "metadata": {},
   "outputs": [
    {
     "data": {
      "text/plain": [
       "Set{Any} with 3 elements:\n",
       "  \"new\"\n",
       "  3\n",
       "  1"
      ]
     },
     "execution_count": 21,
     "metadata": {},
     "output_type": "execute_result"
    }
   ],
   "source": [
    "# set difference between two sets\n",
    "\n",
    "setdiff(set1, set2)"
   ]
  },
  {
   "cell_type": "code",
   "execution_count": 22,
   "metadata": {},
   "outputs": [
    {
     "data": {
      "text/plain": [
       "true"
      ]
     },
     "execution_count": 22,
     "metadata": {},
     "output_type": "execute_result"
    }
   ],
   "source": [
    "# Checking if set2 is subset of set1\n",
    "\n",
    "issubset(set2, set1)"
   ]
  },
  {
   "cell_type": "markdown",
   "metadata": {},
   "source": [
    "As, set is mutable, we can add or delete elements from it. To add elements we can use `push()` method and to delete elements we can use `delete()` method. For deletion, we need to tell specifically which element from a set we want to delete. "
   ]
  },
  {
   "cell_type": "code",
   "execution_count": 23,
   "metadata": {},
   "outputs": [
    {
     "data": {
      "text/plain": [
       "Set{Any} with 6 elements:\n",
       "  \"new\"\n",
       "  2\n",
       "  3\n",
       "  \"hello\"\n",
       "  5\n",
       "  1"
      ]
     },
     "execution_count": 23,
     "metadata": {},
     "output_type": "execute_result"
    }
   ],
   "source": [
    "push!(set1, \"hello\")"
   ]
  },
  {
   "cell_type": "code",
   "execution_count": 24,
   "metadata": {},
   "outputs": [
    {
     "data": {
      "text/plain": [
       "Set{Any} with 5 elements:\n",
       "  \"new\"\n",
       "  2\n",
       "  3\n",
       "  5\n",
       "  1"
      ]
     },
     "execution_count": 24,
     "metadata": {},
     "output_type": "execute_result"
    }
   ],
   "source": [
    "delete!(set1, \"hello\")"
   ]
  },
  {
   "cell_type": "markdown",
   "metadata": {},
   "source": [
    "So, thats it.\n",
    "\n",
    "Keep Practicing.\n",
    "\n",
    "Good luck, May the Julia be with you!!"
   ]
  }
 ],
 "metadata": {
  "kernelspec": {
   "display_name": "Julia 1.4.2",
   "language": "julia",
   "name": "julia-1.4"
  },
  "language_info": {
   "file_extension": ".jl",
   "mimetype": "application/julia",
   "name": "julia",
   "version": "1.4.2"
  }
 },
 "nbformat": 4,
 "nbformat_minor": 4
}
