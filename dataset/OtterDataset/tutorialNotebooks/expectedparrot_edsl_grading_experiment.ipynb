{
 "cells": [
  {
   "cell_type": "markdown",
   "metadata": {
    "cell_id": "8ac53b667485457aa35b01467dcbd0d3",
    "deepnote_cell_type": "markdown"
   },
   "source": [
    "# Create a grade sheet\n",
    "This notebook provides sample [EDSL](https://docs.expectedparrot.com/) code for designing a gradesheet as an EDSL survey conducted for a set of material to be graded.\n",
    "\n",
    "EDSL is an open-source library for simulating surveys and experiments with AI. Please see our [documentation page](https://docs.expectedparrot.com/) for tips and tutorials on getting started."
   ]
  },
  {
   "cell_type": "markdown",
   "metadata": {},
   "source": [
    "[![Open In Colab](https://colab.research.google.com/assets/colab-badge.svg)](https://colab.research.google.com/github/expectedparrot/edsl/blob/main/docs/notebooks/grading_experiment.ipynb)"
   ]
  },
  {
   "cell_type": "code",
   "execution_count": 1,
   "metadata": {
    "cell_id": "092b5e9dff0a47c3ac2901fb3cf575f0",
    "deepnote_cell_type": "code"
   },
   "outputs": [],
   "source": [
    "# ! pip install edsl"
   ]
  },
  {
   "cell_type": "code",
   "execution_count": 2,
   "metadata": {
    "allow_embed": false,
    "cell_id": "c5a6af875608404cbdcdef19631cf3ea",
    "deepnote_cell_type": "code",
    "deepnote_to_be_reexecuted": false,
    "execution_millis": 1122,
    "execution_start": 1709927778308,
    "source_hash": null
   },
   "outputs": [],
   "source": [
    "from edsl.questions import QuestionYesNo, QuestionList\n",
    "from edsl import Scenario, Agent, Survey, Model"
   ]
  },
  {
   "cell_type": "markdown",
   "metadata": {
    "cell_id": "574fc680f7954c89bdba4e1907a0deef",
    "deepnote_cell_type": "text-cell-p",
    "formattedRanges": []
   },
   "source": [
    "Here we define the notion of a \"requirement\" that is worth some number of points:"
   ]
  },
  {
   "cell_type": "code",
   "execution_count": 3,
   "metadata": {
    "cell_id": "412a38d252714cb8a02493d45831cf2b",
    "deepnote_cell_type": "code",
    "deepnote_to_be_reexecuted": false,
    "execution_millis": 85,
    "execution_start": 1709929876064,
    "source_hash": null
   },
   "outputs": [],
   "source": [
    "class Requirement:\n",
    "    common_header = \"\"\"Consider this idea for a {{ type }} business: {{ idea }}.\"\"\"\n",
    "\n",
    "    def __init__(self, requirement, grading_instructions, question_name, points):\n",
    "        self.requirement = requirement\n",
    "        self.grading_instructions = grading_instructions\n",
    "        self.question_name = question_name\n",
    "        self.points = points\n",
    "\n",
    "    @property\n",
    "    def question_text(self):\n",
    "        return (\n",
    "            self.common_header\n",
    "            + \"\\n\"\n",
    "            + self.requirement\n",
    "            + \"\\n\"\n",
    "            + self.grading_instructions\n",
    "            + \"\\n\"\n",
    "            + \"Does this idea satisfy the requirement?\"\n",
    "        )\n",
    "\n",
    "    def question(self):\n",
    "        return QuestionYesNo(\n",
    "            question_text=self.question_text, question_name=self.question_name\n",
    "        )\n",
    "\n",
    "\n",
    "r1 = Requirement(\n",
    "    requirement=\"The idea is clear and well-written.\",\n",
    "    grading_instructions=\".\",\n",
    "    question_name=\"clear_idea\",\n",
    "    points=10,\n",
    ")\n",
    "\n",
    "r2 = Requirement(\n",
    "    requirement=\"The idea has obvious user benefits.\",\n",
    "    grading_instructions=\"Describe the benefits of different user types.\",\n",
    "    question_name=\"user_benefits\",\n",
    "    points=10,\n",
    ")\n",
    "\n",
    "r3 = Requirement(\n",
    "    requirement=\"The idea will attract a large number of new users.\",\n",
    "    grading_instructions=\"Explain why.\",\n",
    "    question_name=\"new_users\",\n",
    "    points=10,\n",
    ")\n",
    "\n",
    "requirements = [r1, r2, r3]\n",
    "survey = Survey([r.question() for r in requirements])"
   ]
  },
  {
   "cell_type": "markdown",
   "metadata": {
    "cell_id": "f8b85aebb8c24687bd5dd7cbd341cbdd",
    "deepnote_cell_type": "markdown"
   },
   "source": [
    "Here we create a gradesheet for the requirements:"
   ]
  },
  {
   "cell_type": "code",
   "execution_count": 4,
   "metadata": {
    "cell_id": "4dfef4fa093e4021bc456aae1acf968f",
    "deepnote_cell_type": "code",
    "deepnote_to_be_reexecuted": false,
    "execution_millis": 94,
    "execution_start": 1709929878668,
    "source_hash": null
   },
   "outputs": [],
   "source": [
    "class Gradesheet:\n",
    "    def __init__(self, result, requirements):\n",
    "        self.result = result\n",
    "        self.requirements = requirements\n",
    "        self.points = 0\n",
    "        self._problems = []\n",
    "\n",
    "    def grade(self):\n",
    "        for requirement in self.requirements:\n",
    "            answer = self.result.sub_dicts[\"answer\"].get(requirement.question_name)\n",
    "            if answer == \"Yes\":\n",
    "                self.points += requirement.points\n",
    "            # if answer == \"No\":\n",
    "            explain = self.result.sub_dicts[\"answer\"].get(\n",
    "                requirement.question_name + \"_comment\"\n",
    "            )\n",
    "            self._problems.append(\n",
    "                (requirement.question_name, str(requirement.points), explain)\n",
    "            )\n",
    "\n",
    "        return self.points\n",
    "\n",
    "    def problems(self):\n",
    "        return self._problems\n",
    "\n",
    "    def sheet(self):\n",
    "        from rich.console import Console\n",
    "        from rich.table import Table\n",
    "\n",
    "        console = Console()\n",
    "        table = Table(show_header=True, header_style=\"bold magenta\")\n",
    "\n",
    "        # Add columns to the table\n",
    "        table.add_column(\"Requirement\")\n",
    "        table.add_column(\"Points\")\n",
    "        table.add_column(\"Issue\")\n",
    "\n",
    "        for problem in self._problems:\n",
    "            table.add_row(*problem)\n",
    "            table.add_row(\"\", \"\", \"\")  # Add an empty row as a separator between items\n",
    "\n",
    "        console.print(table)"
   ]
  },
  {
   "cell_type": "markdown",
   "metadata": {
    "cell_id": "5d6deaa5dbd849cfa5bac0766d898d6a",
    "deepnote_cell_type": "markdown"
   },
   "source": [
    "Here we generate some ideas for demonstration:"
   ]
  },
  {
   "cell_type": "code",
   "execution_count": 5,
   "metadata": {
    "cell_id": "edef68b4c5e641b09d6e50ff7c972c15",
    "deepnote_cell_type": "code",
    "deepnote_to_be_reexecuted": false,
    "execution_millis": 1485,
    "execution_start": 1709929881715,
    "source_hash": null
   },
   "outputs": [
    {
     "data": {
      "application/vnd.jupyter.widget-view+json": {
       "model_id": "0af696d7ac4f4b07b056a72341a1b778",
       "version_major": 2,
       "version_minor": 0
      },
      "text/plain": [
       "Output()"
      ]
     },
     "metadata": {},
     "output_type": "display_data"
    },
    {
     "data": {
      "text/html": [
       "<pre style=\"white-space:pre;overflow-x:auto;line-height:normal;font-family:Menlo,'DejaVu Sans Mono',consolas,'Courier New',monospace\"></pre>\n"
      ],
      "text/plain": []
     },
     "metadata": {},
     "output_type": "display_data"
    },
    {
     "data": {
      "text/plain": [
       "['Sustainable Packaging Solutions',\n",
       " 'Telehealth Services',\n",
       " 'AI-Powered Personal Finance App',\n",
       " 'Eco-Friendly Fashion Brand',\n",
       " 'Smart Home Automation Systems']"
      ]
     },
     "execution_count": 5,
     "metadata": {},
     "output_type": "execute_result"
    }
   ],
   "source": [
    "def get_ideas(num_ideas, type=\"\"):\n",
    "    q = QuestionList(\n",
    "        question_name=\"ideas\",\n",
    "        question_text=f\"Draft a list of { num_ideas } business ideas for a { type } business.\",\n",
    "    )\n",
    "    ideas = q.run(progress_bar=True).select(\"ideas\").to_list()[0]\n",
    "    return ideas\n",
    "\n",
    "\n",
    "ideas = get_ideas(5, \"startup\")\n",
    "ideas"
   ]
  },
  {
   "cell_type": "markdown",
   "metadata": {
    "cell_id": "2f4b23810dc644eebb06253de0f309ae",
    "deepnote_cell_type": "markdown"
   },
   "source": [
    "Here we create some personas for agents that will grade the ideas, runs the survey with the questions parameterized with the ideas, and then shows the results in gradesheet tables:"
   ]
  },
  {
   "cell_type": "code",
   "execution_count": null,
   "metadata": {
    "cell_id": "5fdc65cda5654ba489a93b21ec5f5035",
    "deepnote_cell_type": "code",
    "deepnote_to_be_reexecuted": false,
    "execution_millis": 20137,
    "execution_start": 1709929887613,
    "source_hash": null
   },
   "outputs": [
    {
     "data": {
      "application/vnd.jupyter.widget-view+json": {
       "model_id": "51bf7f8a095746ceae21682292b941f8",
       "version_major": 2,
       "version_minor": 0
      },
      "text/plain": [
       "Output()"
      ]
     },
     "metadata": {},
     "output_type": "display_data"
    }
   ],
   "source": [
    "personas = [\n",
    "    \"You are a business analyst.\",\n",
    "    \"You are a venture capital investor.\",\n",
    "    \"You are an employee at a startup.\",\n",
    "]\n",
    "\n",
    "agents = [Agent(traits={\"persona\": p}) for p in personas]\n",
    "\n",
    "scenarios = [Scenario({\"type\": \"startup\", \"idea\": i}) for i in ideas]\n",
    "\n",
    "results = survey.by(scenarios).by(agents).run(progress_bar=True)\n",
    "\n",
    "for i in ideas:\n",
    "    for p in personas:\n",
    "        print(\"Idea: \", i)\n",
    "        print(\"Persona: \", p)\n",
    "        g = Gradesheet(\n",
    "            results.filter(\n",
    "                \"scenario.idea == '\" + i + \"' and agent.persona == '\" + p + \"'\"\n",
    "            )[0],\n",
    "            requirements,\n",
    "        )\n",
    "        print(\"Total points earned: \", g.grade())\n",
    "        g.sheet()"
   ]
  }
 ],
 "metadata": {
  "deepnote_execution_queue": [],
  "deepnote_notebook_id": "7d8f8c29964c4e3eafa7491e3894f4fe",
  "kernelspec": {
   "display_name": "Python 3 (ipykernel)",
   "language": "python",
   "name": "python3"
  },
  "language_info": {
   "codemirror_mode": {
    "name": "ipython",
    "version": 3
   },
   "file_extension": ".py",
   "mimetype": "text/x-python",
   "name": "python",
   "nbconvert_exporter": "python",
   "pygments_lexer": "ipython3",
   "version": "3.11.7"
  }
 },
 "nbformat": 4,
 "nbformat_minor": 4
}
