{
 "cells": [
  {
   "cell_type": "markdown",
   "id": "8b99ffd0",
   "metadata": {
    "papermill": {
     "duration": 0.006918,
     "end_time": "2024-10-07T16:36:48.240690",
     "exception": false,
     "start_time": "2024-10-07T16:36:48.233772",
     "status": "completed"
    },
    "tags": []
   },
   "source": [
    "**This notebook is an exercise in the [Data Cleaning](https://www.kaggle.com/learn/data-cleaning) course.  You can reference the tutorial at [this link](https://www.kaggle.com/alexisbcook/character-encodings).**\n",
    "\n",
    "---\n"
   ]
  },
  {
   "cell_type": "markdown",
   "id": "c6e05156",
   "metadata": {
    "papermill": {
     "duration": 0.005913,
     "end_time": "2024-10-07T16:36:48.253123",
     "exception": false,
     "start_time": "2024-10-07T16:36:48.247210",
     "status": "completed"
    },
    "tags": []
   },
   "source": [
    "In this exercise, you'll apply what you learned in the **Character encodings** tutorial.\n",
    "\n",
    "# Setup\n",
    "\n",
    "The questions below will give you feedback on your work. Run the following cell to set up the feedback system."
   ]
  },
  {
   "cell_type": "code",
   "execution_count": 1,
   "id": "6074167b",
   "metadata": {
    "execution": {
     "iopub.execute_input": "2024-10-07T16:36:48.267037Z",
     "iopub.status.busy": "2024-10-07T16:36:48.266602Z",
     "iopub.status.idle": "2024-10-07T16:36:49.224724Z",
     "shell.execute_reply": "2024-10-07T16:36:49.223357Z"
    },
    "papermill": {
     "duration": 0.967984,
     "end_time": "2024-10-07T16:36:49.227282",
     "exception": false,
     "start_time": "2024-10-07T16:36:48.259298",
     "status": "completed"
    },
    "tags": []
   },
   "outputs": [
    {
     "name": "stdout",
     "output_type": "stream",
     "text": [
      "Setup Complete\n"
     ]
    }
   ],
   "source": [
    "from learntools.core import binder\n",
    "binder.bind(globals())\n",
    "from learntools.data_cleaning.ex4 import *\n",
    "print(\"Setup Complete\")"
   ]
  },
  {
   "cell_type": "markdown",
   "id": "c7f6ec31",
   "metadata": {
    "papermill": {
     "duration": 0.006018,
     "end_time": "2024-10-07T16:36:49.239796",
     "exception": false,
     "start_time": "2024-10-07T16:36:49.233778",
     "status": "completed"
    },
    "tags": []
   },
   "source": [
    "# Get our environment set up\n",
    "\n",
    "The first thing we'll need to do is load in the libraries we'll be using."
   ]
  },
  {
   "cell_type": "code",
   "execution_count": 2,
   "id": "4cfd5739",
   "metadata": {
    "execution": {
     "iopub.execute_input": "2024-10-07T16:36:49.253941Z",
     "iopub.status.busy": "2024-10-07T16:36:49.253499Z",
     "iopub.status.idle": "2024-10-07T16:36:49.259116Z",
     "shell.execute_reply": "2024-10-07T16:36:49.258097Z"
    },
    "papermill": {
     "duration": 0.015451,
     "end_time": "2024-10-07T16:36:49.261408",
     "exception": false,
     "start_time": "2024-10-07T16:36:49.245957",
     "status": "completed"
    },
    "tags": []
   },
   "outputs": [],
   "source": [
    "# modules we'll use\n",
    "import pandas as pd\n",
    "import numpy as np\n",
    "\n",
    "# helpful character encoding module\n",
    "import charset_normalizer\n",
    "\n",
    "# set seed for reproducibility\n",
    "np.random.seed(0)"
   ]
  },
  {
   "cell_type": "markdown",
   "id": "c7df89cf",
   "metadata": {
    "papermill": {
     "duration": 0.006015,
     "end_time": "2024-10-07T16:36:49.273791",
     "exception": false,
     "start_time": "2024-10-07T16:36:49.267776",
     "status": "completed"
    },
    "tags": []
   },
   "source": [
    "# 1) What are encodings?\n",
    "\n",
    "You're working with a dataset composed of bytes.  Run the code cell below to print a sample entry."
   ]
  },
  {
   "cell_type": "code",
   "execution_count": 3,
   "id": "a96b80ae",
   "metadata": {
    "execution": {
     "iopub.execute_input": "2024-10-07T16:36:49.287878Z",
     "iopub.status.busy": "2024-10-07T16:36:49.287445Z",
     "iopub.status.idle": "2024-10-07T16:36:49.293494Z",
     "shell.execute_reply": "2024-10-07T16:36:49.292482Z"
    },
    "papermill": {
     "duration": 0.016498,
     "end_time": "2024-10-07T16:36:49.296459",
     "exception": false,
     "start_time": "2024-10-07T16:36:49.279961",
     "status": "completed"
    },
    "tags": []
   },
   "outputs": [
    {
     "name": "stdout",
     "output_type": "stream",
     "text": [
      "b'\\xa7A\\xa6n'\n",
      "data type: <class 'bytes'>\n"
     ]
    }
   ],
   "source": [
    "sample_entry = b'\\xa7A\\xa6n'\n",
    "print(sample_entry)\n",
    "print('data type:', type(sample_entry))"
   ]
  },
  {
   "cell_type": "markdown",
   "id": "2b9e47df",
   "metadata": {
    "papermill": {
     "duration": 0.007054,
     "end_time": "2024-10-07T16:36:49.309922",
     "exception": false,
     "start_time": "2024-10-07T16:36:49.302868",
     "status": "completed"
    },
    "tags": []
   },
   "source": [
    "You notice that it doesn't use the standard UTF-8 encoding. \n",
    "\n",
    "Use the next code cell to create a variable `new_entry` that changes the encoding from `\"big5-tw\"` to `\"utf-8\"`.  `new_entry` should have the bytes datatype."
   ]
  },
  {
   "cell_type": "code",
   "execution_count": 4,
   "id": "13992c32",
   "metadata": {
    "execution": {
     "iopub.execute_input": "2024-10-07T16:36:49.324334Z",
     "iopub.status.busy": "2024-10-07T16:36:49.323931Z",
     "iopub.status.idle": "2024-10-07T16:36:49.334998Z",
     "shell.execute_reply": "2024-10-07T16:36:49.333884Z"
    },
    "papermill": {
     "duration": 0.021303,
     "end_time": "2024-10-07T16:36:49.337531",
     "exception": false,
     "start_time": "2024-10-07T16:36:49.316228",
     "status": "completed"
    },
    "tags": []
   },
   "outputs": [
    {
     "data": {
      "application/javascript": [
       "parent.postMessage({\"jupyterEvent\": \"custom.exercise_interaction\", \"data\": {\"outcomeType\": 1, \"valueTowardsCompletion\": 0.3333333333333333, \"interactionType\": 1, \"questionType\": 1, \"questionId\": \"1_EncodingsIntro\", \"learnToolsVersion\": \"0.3.4\", \"failureMessage\": \"\", \"exceptionClass\": \"\", \"trace\": \"\"}}, \"*\")"
      ],
      "text/plain": [
       "<IPython.core.display.Javascript object>"
      ]
     },
     "metadata": {},
     "output_type": "display_data"
    },
    {
     "data": {
      "text/markdown": [
       "<span style=\"color:#33cc33\">Correct</span>"
      ],
      "text/plain": [
       "Correct"
      ]
     },
     "metadata": {},
     "output_type": "display_data"
    }
   ],
   "source": [
    "before = sample_entry.decode(\"big5-tw\")\n",
    "new_entry = before.encode()\n",
    "\n",
    "# Check your answer\n",
    "q1.check()"
   ]
  },
  {
   "cell_type": "code",
   "execution_count": 5,
   "id": "810bbd9c",
   "metadata": {
    "execution": {
     "iopub.execute_input": "2024-10-07T16:36:49.353226Z",
     "iopub.status.busy": "2024-10-07T16:36:49.352294Z",
     "iopub.status.idle": "2024-10-07T16:36:49.357042Z",
     "shell.execute_reply": "2024-10-07T16:36:49.355995Z"
    },
    "papermill": {
     "duration": 0.015249,
     "end_time": "2024-10-07T16:36:49.359459",
     "exception": false,
     "start_time": "2024-10-07T16:36:49.344210",
     "status": "completed"
    },
    "tags": []
   },
   "outputs": [],
   "source": [
    "# Lines below will give you a hint or solution code\n",
    "#q1.hint()\n",
    "#q1.solution()"
   ]
  },
  {
   "cell_type": "markdown",
   "id": "c9d849a2",
   "metadata": {
    "papermill": {
     "duration": 0.006415,
     "end_time": "2024-10-07T16:36:49.372616",
     "exception": false,
     "start_time": "2024-10-07T16:36:49.366201",
     "status": "completed"
    },
    "tags": []
   },
   "source": [
    "# 2) Reading in files with encoding problems\n",
    "\n",
    "Use the code cell below to read in this file at path `\"../input/fatal-police-shootings-in-the-us/PoliceKillingsUS.csv\"`.  \n",
    "\n",
    "Figure out what the correct encoding should be and read in the file to a DataFrame `police_killings`."
   ]
  },
  {
   "cell_type": "code",
   "execution_count": 6,
   "id": "f6de6c01",
   "metadata": {
    "execution": {
     "iopub.execute_input": "2024-10-07T16:36:49.387835Z",
     "iopub.status.busy": "2024-10-07T16:36:49.387375Z",
     "iopub.status.idle": "2024-10-07T16:36:49.416062Z",
     "shell.execute_reply": "2024-10-07T16:36:49.414944Z"
    },
    "papermill": {
     "duration": 0.03938,
     "end_time": "2024-10-07T16:36:49.418670",
     "exception": false,
     "start_time": "2024-10-07T16:36:49.379290",
     "status": "completed"
    },
    "tags": []
   },
   "outputs": [
    {
     "data": {
      "application/javascript": [
       "parent.postMessage({\"jupyterEvent\": \"custom.exercise_interaction\", \"data\": {\"outcomeType\": 1, \"valueTowardsCompletion\": 0.3333333333333333, \"interactionType\": 1, \"questionType\": 1, \"questionId\": \"2_ReadIn\", \"learnToolsVersion\": \"0.3.4\", \"failureMessage\": \"\", \"exceptionClass\": \"\", \"trace\": \"\"}}, \"*\")"
      ],
      "text/plain": [
       "<IPython.core.display.Javascript object>"
      ]
     },
     "metadata": {},
     "output_type": "display_data"
    },
    {
     "data": {
      "text/markdown": [
       "<span style=\"color:#33cc33\">Correct</span>"
      ],
      "text/plain": [
       "Correct"
      ]
     },
     "metadata": {},
     "output_type": "display_data"
    }
   ],
   "source": [
    "# TODO: Load in the DataFrame correctly.\n",
    "police_killings = pd.read_csv(\"../input/fatal-police-shootings-in-the-us/PoliceKillingsUS.csv\", encoding='Windows-1252')\n",
    "\n",
    "# Check your answer\n",
    "q2.check()"
   ]
  },
  {
   "cell_type": "markdown",
   "id": "dee185b0",
   "metadata": {
    "papermill": {
     "duration": 0.007128,
     "end_time": "2024-10-07T16:36:49.432891",
     "exception": false,
     "start_time": "2024-10-07T16:36:49.425763",
     "status": "completed"
    },
    "tags": []
   },
   "source": [
    "Feel free to use any additional code cells for supplemental work.  To get credit for finishing this question, you'll need to run `q2.check()` and get a result of **Correct**."
   ]
  },
  {
   "cell_type": "code",
   "execution_count": 7,
   "id": "63fe62f8",
   "metadata": {
    "execution": {
     "iopub.execute_input": "2024-10-07T16:36:49.449144Z",
     "iopub.status.busy": "2024-10-07T16:36:49.448184Z",
     "iopub.status.idle": "2024-10-07T16:36:49.453041Z",
     "shell.execute_reply": "2024-10-07T16:36:49.451931Z"
    },
    "papermill": {
     "duration": 0.01548,
     "end_time": "2024-10-07T16:36:49.455390",
     "exception": false,
     "start_time": "2024-10-07T16:36:49.439910",
     "status": "completed"
    },
    "tags": []
   },
   "outputs": [],
   "source": [
    "# (Optional) Use this code cell for any additional work."
   ]
  },
  {
   "cell_type": "code",
   "execution_count": 8,
   "id": "d13ebc34",
   "metadata": {
    "execution": {
     "iopub.execute_input": "2024-10-07T16:36:49.471857Z",
     "iopub.status.busy": "2024-10-07T16:36:49.471381Z",
     "iopub.status.idle": "2024-10-07T16:36:49.476303Z",
     "shell.execute_reply": "2024-10-07T16:36:49.475041Z"
    },
    "papermill": {
     "duration": 0.015898,
     "end_time": "2024-10-07T16:36:49.478825",
     "exception": false,
     "start_time": "2024-10-07T16:36:49.462927",
     "status": "completed"
    },
    "tags": []
   },
   "outputs": [],
   "source": [
    "# Lines below will give you a hint or solution code\n",
    "#q2.hint()\n",
    "#q2.solution()"
   ]
  },
  {
   "cell_type": "markdown",
   "id": "cceb8513",
   "metadata": {
    "papermill": {
     "duration": 0.007062,
     "end_time": "2024-10-07T16:36:49.493057",
     "exception": false,
     "start_time": "2024-10-07T16:36:49.485995",
     "status": "completed"
    },
    "tags": []
   },
   "source": [
    "# 3) Saving your files with UTF-8 encoding\n",
    "\n",
    "Save a version of the police killings dataset to CSV with UTF-8 encoding.  Your answer will be marked correct after saving this file.  \n",
    "\n",
    "Note: When using the `to_csv()` method, supply only the name of the file (e.g., `\"my_file.csv\"`).  This saves the file at the filepath `\"/kaggle/working/my_file.csv\"`."
   ]
  },
  {
   "cell_type": "code",
   "execution_count": 9,
   "id": "0987c810",
   "metadata": {
    "execution": {
     "iopub.execute_input": "2024-10-07T16:36:49.509178Z",
     "iopub.status.busy": "2024-10-07T16:36:49.508755Z",
     "iopub.status.idle": "2024-10-07T16:36:49.560535Z",
     "shell.execute_reply": "2024-10-07T16:36:49.559407Z"
    },
    "papermill": {
     "duration": 0.063037,
     "end_time": "2024-10-07T16:36:49.563253",
     "exception": false,
     "start_time": "2024-10-07T16:36:49.500216",
     "status": "completed"
    },
    "tags": []
   },
   "outputs": [
    {
     "data": {
      "application/javascript": [
       "parent.postMessage({\"jupyterEvent\": \"custom.exercise_interaction\", \"data\": {\"outcomeType\": 1, \"valueTowardsCompletion\": 0.3333333333333333, \"interactionType\": 1, \"questionType\": 2, \"questionId\": \"3_SaveCSV\", \"learnToolsVersion\": \"0.3.4\", \"failureMessage\": \"\", \"exceptionClass\": \"\", \"trace\": \"\"}}, \"*\")"
      ],
      "text/plain": [
       "<IPython.core.display.Javascript object>"
      ]
     },
     "metadata": {},
     "output_type": "display_data"
    },
    {
     "data": {
      "text/markdown": [
       "<span style=\"color:#33cc33\">Correct</span>"
      ],
      "text/plain": [
       "Correct"
      ]
     },
     "metadata": {},
     "output_type": "display_data"
    }
   ],
   "source": [
    "# TODO: Save the police killings dataset to CSV\n",
    "police_killings.to_csv(\"my_file.csv\")\n",
    "\n",
    "# Check your answer\n",
    "q3.check()"
   ]
  },
  {
   "cell_type": "code",
   "execution_count": 10,
   "id": "0796ac6e",
   "metadata": {
    "execution": {
     "iopub.execute_input": "2024-10-07T16:36:49.580149Z",
     "iopub.status.busy": "2024-10-07T16:36:49.579759Z",
     "iopub.status.idle": "2024-10-07T16:36:49.584701Z",
     "shell.execute_reply": "2024-10-07T16:36:49.583612Z"
    },
    "papermill": {
     "duration": 0.016297,
     "end_time": "2024-10-07T16:36:49.587198",
     "exception": false,
     "start_time": "2024-10-07T16:36:49.570901",
     "status": "completed"
    },
    "tags": []
   },
   "outputs": [],
   "source": [
    "# Lines below will give you a hint or solution code\n",
    "#q3.hint()\n",
    "#q3.solution()"
   ]
  },
  {
   "cell_type": "markdown",
   "id": "f1206575",
   "metadata": {
    "papermill": {
     "duration": 0.007445,
     "end_time": "2024-10-07T16:36:49.602565",
     "exception": false,
     "start_time": "2024-10-07T16:36:49.595120",
     "status": "completed"
    },
    "tags": []
   },
   "source": [
    "# (Optional) More practice\n",
    "\n",
    "Check out [this dataset of files in different character encodings](https://www.kaggle.com/rtatman/character-encoding-examples). Can you read in all the files with their original encodings and them save them out as UTF-8 files?\n",
    "\n",
    "If you have a file that's in UTF-8 but has just a couple of weird-looking characters in it, you can try out the [ftfy module](https://ftfy.readthedocs.io/en/latest/#) and see if it helps. \n",
    "\n",
    "# Keep going\n",
    "\n",
    "In the final lesson, learn how to [**clean up inconsistent text entries**](https://www.kaggle.com/alexisbcook/inconsistent-data-entry) in your dataset."
   ]
  },
  {
   "cell_type": "markdown",
   "id": "26c39952",
   "metadata": {
    "papermill": {
     "duration": 0.007876,
     "end_time": "2024-10-07T16:36:49.619126",
     "exception": false,
     "start_time": "2024-10-07T16:36:49.611250",
     "status": "completed"
    },
    "tags": []
   },
   "source": [
    "---\n",
    "\n",
    "\n",
    "\n",
    "\n",
    "*Have questions or comments? Visit the [course discussion forum](https://www.kaggle.com/learn/data-cleaning/discussion) to chat with other learners.*"
   ]
  }
 ],
 "metadata": {
  "kaggle": {
   "accelerator": "none",
   "dataSources": [
    {
     "datasetId": 2647,
     "sourceId": 4395,
     "sourceType": "datasetVersion"
    }
   ],
   "isGpuEnabled": false,
   "isInternetEnabled": false,
   "language": "python",
   "sourceType": "notebook"
  },
  "kernelspec": {
   "display_name": "Python 3",
   "language": "python",
   "name": "python3"
  },
  "language_info": {
   "codemirror_mode": {
    "name": "ipython",
    "version": 3
   },
   "file_extension": ".py",
   "mimetype": "text/x-python",
   "name": "python",
   "nbconvert_exporter": "python",
   "pygments_lexer": "ipython3",
   "version": "3.10.14"
  },
  "papermill": {
   "default_parameters": {},
   "duration": 4.817845,
   "end_time": "2024-10-07T16:36:50.147886",
   "environment_variables": {},
   "exception": null,
   "input_path": "__notebook__.ipynb",
   "output_path": "__notebook__.ipynb",
   "parameters": {},
   "start_time": "2024-10-07T16:36:45.330041",
   "version": "2.6.0"
  }
 },
 "nbformat": 4,
 "nbformat_minor": 5
}
