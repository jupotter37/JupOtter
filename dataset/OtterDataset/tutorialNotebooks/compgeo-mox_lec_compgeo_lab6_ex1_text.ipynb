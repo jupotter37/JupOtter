{
 "cells": [
  {
   "cell_type": "markdown",
   "metadata": {},
   "source": [
    "Credits: Federico Luca Facchinetti\n",
    "\n",
    "# Richards equation\n",
    "\n",
    "In this tutorial we present how to solve a Richards equation with [PyGeoN](https://github.com/compgeo-mox/pygeon).  The unkwons are the velocity $q$ and the pressure $p$.\n",
    "\n",
    "Let $\\Omega=(0,1)^2$ with boundary $\\partial \\Omega$ and outward unit normal ${\\nu}$. Given \n",
    "$K$ the matrix conductivity, we want to solve the following problem: find $({q}, \\psi)$ such that\n",
    "$$\n",
    "\\left\\{\n",
    "\\begin{array}{ll}\n",
    "\\begin{array}{l} \n",
    "K^{-1}(\\psi) {q} + \\nabla \\psi = -\\nabla z\\\\\n",
    "\\partial_t \\theta (\\psi) + \\nabla \\cdot {q} = 0\n",
    "\\end{array}\n",
    "&\\text{in } \\Omega \\times (0,T)\n",
    "\\end{array}\n",
    "\\right.\n",
    "$$\n",
    "\n",
    "The water content $\\theta(\\psi)$ and the conductivity tensor $K(\\psi)$ can be modelled using the van Genuchten model:\n",
    "$$\n",
    "\\theta(\\psi) = \\theta_{R} + \\frac{\\theta_{S} - \\theta_{R}}{\\left[ 1 + \\left( -\\alpha \\psi \\right)^n \\right]^{\\frac{n-1}{n} }}\n",
    "$$\n",
    "\n",
    "$$\n",
    "K(\\psi) = \\left( \\hat{\\theta}(\\psi) \\right)^{\\frac{1}{2}} K_S \\left[ 1 - \\left( 1 - \\hat{\\theta}(\\psi)^{\\frac{n}{n-1}} \\right)^{\\frac{n-1}{n}} \\right]^2 {{{I}}}\n",
    "$$\n",
    "where $\\hat{\\theta}(\\psi) = \\frac{\\theta(\\psi) - \\theta_{R}}{\\theta_{S} - \\theta_{R}}$. Both expressions hold only if $\\psi \\leq 0$. If $\\psi > 0$ at ${x} \\in \\Omega$, the porous medium is fully saturated by the wetting fluid in that point and, thus, $\\theta(\\psi)=\\theta_S$ and $K(\\psi)=K_S {{{I}}}$."
   ]
  },
  {
   "cell_type": "markdown",
   "metadata": {},
   "source": [
    "### Solution strategy\n",
    "\n",
    "The weak formulation of the problem will read:\n",
    "$$\n",
    "\\left\\{\n",
    "\\begin{array}{ll}\n",
    "\\begin{array}{l} \n",
    "\\left( K^{-1}(\\psi) {q}, {v} \\right)_{\\Omega} - \\left( \\psi, \\nabla \\cdot {v} \\right)_{\\Omega} = - \\left( {\\nabla} z, {v} \\right)_{\\Omega} - \\left( \\hat{\\psi}, {v} \\cdot \\nu \\right)_{\\Gamma_D} \\\\\n",
    "\\left(\\partial_t \\theta (\\psi), v \\right)_{\\Omega} + (\\nabla \\cdot {q}, v)_{\\Omega} = 0\n",
    "\\end{array}\n",
    "&\\text{in } \\Omega \\times (0,T)\n",
    "\\end{array}\n",
    "\\right.\n",
    "$$\n",
    "\n",
    "We will use the Backward Euler discretization scheme to discretize the equation in time:\n",
    "$$\n",
    "\\left\\{\n",
    "\\begin{array}{ll}\n",
    "\\begin{array}{l} \n",
    "\\left( K^{-1}(\\psi^{n+1}) {q}^{n+1}, {v} \\right)_{\\Omega} - \\left( \\psi^{n+1}, \\nabla \n",
    "\\cdot {v} \\right)_{\\Omega} = - \\left( {\\nabla} z, {v} \\right)_{\\Omega} - \\left( \\hat{\\psi}^{n+1}, {v} \\cdot \\nu \\right)_{\\Gamma_D} \\\\\n",
    "\\left(\\theta(\\psi^{n+1}) , v \\right)_{\\Omega}  +  \\Delta t^{n+1}\n",
    "(\\nabla \\cdot {q}^{n+1}, v)_{\\Omega} = \\left(\\theta(\\psi^{n}) , v \\right)_{\\Omega}\n",
    "\\end{array}\n",
    "&\\text{in } \\Omega \\times (0,T)\n",
    "\\end{array}\n",
    "\\right.\n",
    "$$\n",
    "\n",
    "In order to solve the problem, we will firstly have to deal with the non-linear terms. To do that, we will employ the Picard scheme and linearize the storage term as\n",
    "$$\n",
    "\\theta(\\psi_{k+1}^{n+1}) = \\theta(\\psi_k^{n+1}) + \\theta^{\\prime}(\\psi_k^{n+1}) (\\psi_{k+1}^{n+1} - \\psi_k^{n+1})\n",
    "$$\n",
    "obtaining:\n",
    "$$\n",
    "\\left\\{\n",
    "\\begin{array}{ll}\n",
    "\\begin{array}{l} \n",
    "\\left( K^{-1}(\\psi^{n+1}_k) {q}^{n+1}_{k+1}, {v} \\right)_{\\Omega} - \\left( \\psi^{n+1}_{k+1}, \\nabla \\cdot {v} \\right)_{\\Omega} = - \\left( {\\nabla} z, {v} \\right)_{\\Omega} - \\left( \\hat{\\psi}^{n+1}, {v} \\cdot \\nu \\right)_{\\Gamma_D} \\\\\n",
    "\\left( \\theta^{\\prime}(\\psi^{n+1}_{k}) \\psi^{n+1}_{k+1}, v \\right)_{\\Omega} + \\Delta t^{n+1} (\\nabla \\cdot {q}^{n+1}_{k+1}, v)_{\\Omega} = \\left( \\theta^{\\prime}(\\psi^{n+1}_{k}) \\psi^{n+1}_{k}, v \\right)_{\\Omega} + \\left(\\theta(\\psi^{n}) , v \\right)_{\\Omega} - \\left(\\theta(\\psi^{n+1}_k) , v \\right)_{\\Omega}\n",
    "\\end{array}\n",
    "&\\text{in } \\Omega \\times (0,T)\n",
    "\\end{array}\n",
    "\\right.\n",
    "$$\n",
    "\n",
    "The space discretization is perfomed using the MFEM ($\\mathbb{RT}_{0}$ elements for ${q}$ and $\\mathbb{P}_0$ for $\\psi$). The resulting linear system that must be solved for each step and each iteration is:\n",
    "$$\n",
    "\\left(\n",
    "\\begin{array}{cc} \n",
    "M({\\psi^{n+1}_k}) & B^T\\\\\n",
    "- \\Delta t^{n+1}B & N_{\\psi}(\\psi^{n+1}_k)\n",
    "\\end{array}\n",
    "\\right)\n",
    "\\left(\n",
    "\\begin{array}{c} \n",
    "{q^{n+1}_{k+1}}\\\\ \n",
    "{\\psi^{n+1}_{k+1}}\\\\\n",
    "\\end{array}\n",
    "\\right)\n",
    "=\\left(\n",
    "\\begin{array}{c} \n",
    "{Z} + {BC}^{n+1}\\\\ \n",
    "N_\\psi(\\psi^{n+1}_k) {\\psi^{n+1}_k} + \\Theta^n - \\Theta^{n+1}_k\n",
    "\\end{array}\n",
    "\\right)\n",
    "$$\n",
    "where $[M({\\psi^{n+1}_k})]_{ij} = \\left(K^{-1}(\\psi^{n+1}_k) {v}_j, {v}_i \\right)_{\\Omega}$ and $[N_{\\psi}(\\psi^{n+1}_k)]_{ij} = \n",
    "\\left(\\theta^{\\prime}(\\psi^{n+1}_{k})w_j, w_i \\right)_{\\Omega}$. According to the expression given above of $\\theta$ we have\n",
    "$$\n",
    "\\theta^\\prime(\\psi) = (n-1)\\alpha(-\\alpha\\psi)^{n-1} \\frac{\\theta_S-\\theta_R}{[1+(-\\alpha\\psi)^n]^{\\frac{2n-1}{n}}}\n",
    "$$\n",
    "\n",
    "The stopping criteria for the non-linear solver is:\n",
    "$$\n",
    "|{\\psi}_{k+1}^{n+1} - {\\psi}_{k}^{n+1}| \\leq \\epsilon_{A} + \\epsilon_{R} |{\\psi}_{k}^{n+1}|\n",
    "$$\n",
    "where $\\epsilon_{A}$ and $\\epsilon_{R}$ are the absolute and relative error tolerances.\n",
    "\n",
    "We present *step-by-step* how to create the grid, declare the problem data, and finally solve the problem.\n",
    "\n",
    "Consider the two scenarios:\n",
    "\n",
    "* $\\psi_0 = -2$, $\\psi_{top} = 1$ and everywhere else zero flux\n",
    "* $\\psi_0 = 1$, $\\psi_{top} = -2$ and everywhere else zero flux\n",
    "\n",
    "and study the convergence properties of the presented scheme."
   ]
  },
  {
   "cell_type": "markdown",
   "metadata": {},
   "source": [
    "### Import and parameters"
   ]
  },
  {
   "cell_type": "code",
   "execution_count": 1,
   "metadata": {},
   "outputs": [],
   "source": [
    "import numpy as np\n",
    "import scipy.sparse as sps\n",
    "\n",
    "import porepy as pp\n",
    "import pygeon as pg"
   ]
  },
  {
   "cell_type": "code",
   "execution_count": 2,
   "metadata": {},
   "outputs": [],
   "source": [
    "# Set the maximum number of iterations of the non-linear solver\n",
    "K = 50\n",
    "\n",
    "# Set the mesh refinement\n",
    "N = 20\n",
    "\n",
    "# Set the number of steps (excluding the initial condition)\n",
    "num_steps = 9\n",
    "\n",
    "# Simulation time length\n",
    "T = 9 / 24\n",
    "\n",
    "# Fluid density\n",
    "rho = 1000\n",
    "\n",
    "# Relative and absolute tolerances for the non-linear solver\n",
    "abs_tol = 1e-4\n",
    "rel_tol = 1e-4\n",
    "\n",
    "# Output directory\n",
    "output_directory = \"ex1\""
   ]
  },
  {
   "cell_type": "code",
   "execution_count": 3,
   "metadata": {},
   "outputs": [],
   "source": [
    "# Van Genuchten model parameters ( relative permeability model )\n",
    "theta_s = 0.396\n",
    "theta_r = 0.131\n",
    "\n",
    "alpha = 0.423\n",
    "\n",
    "n = 2.06\n",
    "K_s = 4.96e-2\n",
    "\n",
    "m = 1 - 1 / n\n",
    "\n",
    "# Time step\n",
    "dt = (T - 0) / num_steps"
   ]
  },
  {
   "cell_type": "markdown",
   "metadata": {},
   "source": [
    "We now define the function $\\theta$."
   ]
  },
  {
   "cell_type": "code",
   "execution_count": 4,
   "metadata": {},
   "outputs": [
    {
     "data": {
      "text/plain": [
       "Text(0, 0.5, \"theta'\")"
      ]
     },
     "execution_count": 4,
     "metadata": {},
     "output_type": "execute_result"
    },
    {
     "data": {
      "image/png": "[encoded data removed]",
      "text/plain": [
       "<Figure size 640x480 with 2 Axes>"
      ]
     },
     "metadata": {},
     "output_type": "display_data"
    }
   ],
   "source": [
    "# Theta function\n",
    "theta_expr = lambda psi: theta_r + (theta_s - theta_r) / np.power(\n",
    "    1 + np.power(-alpha * psi, n), m\n",
    ")\n",
    "\n",
    "\n",
    "def theta(psi):\n",
    "    mask = np.where(psi < 0)\n",
    "    res = np.ones_like(psi) * theta_s\n",
    "    res[mask] = theta_expr(psi[mask])\n",
    "\n",
    "    return res\n",
    "\n",
    "\n",
    "theta_prime_expr = (\n",
    "    lambda psi: (n - 1)\n",
    "    * alpha\n",
    "    * np.power(-alpha * psi, n - 1)\n",
    "    * (theta_s - theta_r)\n",
    "    / np.power(1 + np.power(-alpha * psi, n), (2 * n - 1) / n)\n",
    ")\n",
    "\n",
    "\n",
    "# Theta prime function\n",
    "def theta_prime(psi):\n",
    "    mask = np.where(psi < 0)\n",
    "    res = np.zeros_like(psi)\n",
    "    res[mask] = theta_prime_expr(psi[mask])\n",
    "\n",
    "    return res\n",
    "\n",
    "#TODO: plot the curves"
   ]
  },
  {
   "cell_type": "markdown",
   "metadata": {},
   "source": [
    "And now the function for $K$."
   ]
  },
  {
   "cell_type": "code",
   "execution_count": 5,
   "metadata": {},
   "outputs": [
    {
     "data": {
      "text/plain": [
       "Text(0, 0.5, 'K')"
      ]
     },
     "execution_count": 5,
     "metadata": {},
     "output_type": "execute_result"
    },
    {
     "data": {
      "image/png": "[encoded data removed]",
      "text/plain": [
       "<Figure size 640x480 with 1 Axes>"
      ]
     },
     "metadata": {},
     "output_type": "display_data"
    }
   ],
   "source": [
    "# K function\n",
    "eff_sat = lambda psi: (theta_expr(psi) - theta_r) / (theta_s - theta_r)\n",
    "conductivity_expr = (\n",
    "    lambda psi: K_s\n",
    "    * np.sqrt(eff_sat(psi))\n",
    "    * np.square(1 - np.power(1 - np.power(eff_sat(psi), 1 / m), m))\n",
    ")\n",
    "\n",
    "\n",
    "def conductivity(psi):\n",
    "    mask = np.where(psi < 0)\n",
    "    res = np.ones_like(psi) * K_s\n",
    "    res[mask] = conductivity_expr(psi[mask])\n",
    "\n",
    "    return res\n",
    "\n",
    "#TODO: plot the curves"
   ]
  },
  {
   "cell_type": "markdown",
   "metadata": {},
   "source": [
    "### Domain preparation"
   ]
  },
  {
   "cell_type": "code",
   "execution_count": 6,
   "metadata": {},
   "outputs": [],
   "source": [
    "# Prepare the domain and its mesh\n",
    "sd = pp.StructuredTriangleGrid([N] * 2, [1] * 2)\n",
    "\n",
    "sd.compute_geometry()"
   ]
  },
  {
   "cell_type": "code",
   "execution_count": 7,
   "metadata": {},
   "outputs": [],
   "source": [
    "key = \"flow\"\n",
    "\n",
    "# Collection of boundary conditions\n",
    "bc_value = []\n",
    "bc_essential = []\n",
    "\n",
    "# Initial pressure\n",
    "psi_0 = []\n",
    "\n",
    "# Discretizations for q and \\psi\n",
    "RT0 = pg.RT0(key)\n",
    "P0 = pg.PwConstants(key)"
   ]
  },
  {
   "cell_type": "code",
   "execution_count": 8,
   "metadata": {},
   "outputs": [],
   "source": [
    "# Prepare the gravity term Z by firstly projecting g_func into the RT0 space and then by\n",
    "# multiplying it by the RT0 mass matrix\n",
    "g_proj = RT0.interpolate(sd, lambda _: np.array([0, -1, 0]))\n",
    "gravity = RT0.assemble_mass_matrix(sd) @ g_proj\n",
    "\n",
    "# Prepare the initial pressure term by interpolating initial_pressure_func into the P0 space\n",
    "psi_0.append(P0.interpolate(sd, lambda _: -2))\n",
    "\n",
    "top = np.isclose(sd.face_centers[1, :], 1)\n",
    "bottom = np.isclose(sd.face_centers[1, :], 0)\n",
    "left = np.isclose(sd.face_centers[0, :], 0)\n",
    "right = np.isclose(sd.face_centers[0, :], 1)\n",
    "bc_ess = np.logical_or.reduce((left, right, bottom))\n",
    "\n",
    "# Set the initial conductivity tensor in data (the actual saved tensor does not matter at this stage)\n",
    "data = {}\n",
    "pp.initialize_data(\n",
    "    sd,\n",
    "    data,\n",
    "    key,\n",
    "    {\n",
    "        \"second_order_tensor\": pp.SecondOrderTensor(np.ones(sd.num_cells)),\n",
    "    },\n",
    ")\n",
    "\n",
    "# Add a lambda function that generates for each time instant the (discretized) natural boundary\n",
    "# conditions for the problem\n",
    "bc_value.append(-RT0.assemble_nat_bc(sd, lambda _: 1, top))\n",
    "\n",
    "# Set the essential boundary conditions (they will be enforced before solving the system)\n",
    "essential_pressure_dofs = np.zeros(P0.ndof(sd), dtype=bool)\n",
    "bc_essential = np.hstack((bc_ess, essential_pressure_dofs))"
   ]
  },
  {
   "cell_type": "markdown",
   "metadata": {},
   "source": [
    "### Matrix assembly"
   ]
  },
  {
   "cell_type": "code",
   "execution_count": 9,
   "metadata": {},
   "outputs": [],
   "source": [
    "M_psi = P0.assemble_mass_matrix(sd)\n",
    "B = -M_psi @ pg.div(sd)\n",
    "\n",
    "# Psi projection\n",
    "proj_psi = P0.eval_at_cell_centers(sd)\n",
    "inv_proj_psi = proj_psi.copy()\n",
    "inv_proj_psi.data = 1 / inv_proj_psi.data\n",
    "\n",
    "# q projection\n",
    "proj_q = RT0.eval_at_cell_centers(sd)\n",
    "\n",
    "dof_psi, dof_q = B.shape"
   ]
  },
  {
   "cell_type": "code",
   "execution_count": 10,
   "metadata": {},
   "outputs": [],
   "source": [
    "# Assemble initial solution\n",
    "sol_0 = np.zeros(dof_q + dof_psi)\n",
    "sol_0[-dof_psi:] += np.hstack(psi_0)\n",
    "\n",
    "# Final solution list. Each of its elements will be the solution at a specific instant\n",
    "sol = [sol_0]"
   ]
  },
  {
   "cell_type": "code",
   "execution_count": 11,
   "metadata": {},
   "outputs": [],
   "source": [
    "# Assemble the fixed part of the right hand side (rhs)\n",
    "fixed_rhs = np.zeros(dof_q + dof_psi)\n",
    "fixed_rhs[:dof_q] = gravity + np.hstack(bc_value)"
   ]
  },
  {
   "cell_type": "markdown",
   "metadata": {},
   "source": [
    "### Solving stage"
   ]
  },
  {
   "cell_type": "code",
   "execution_count": 12,
   "metadata": {},
   "outputs": [],
   "source": [
    "# Helper function to export the current_sol to a file\n",
    "def export_solution(saver, current_sol, num_step):\n",
    "    ins = list()\n",
    "\n",
    "    cell_q = (proj_q @ current_sol[:dof_q]).reshape((3, -1), order=\"F\")\n",
    "    cell_psi = proj_psi @ current_sol[dof_q : (dof_q + dof_psi)]\n",
    "    cell_theta = theta(cell_psi)\n",
    "    cell_s = cell_theta / theta_s\n",
    "\n",
    "    ins.append((sd, \"cell_q\", cell_q))\n",
    "    ins.append((sd, \"cell_psi\", cell_psi))\n",
    "    ins.append((sd, \"cell_theta\", cell_theta))\n",
    "    ins.append((sd, \"cell_s\", cell_s))\n",
    "\n",
    "    saver.write_vtu(ins, time_step=num_step)"
   ]
  },
  {
   "cell_type": "code",
   "execution_count": 13,
   "metadata": {},
   "outputs": [],
   "source": [
    "# Prepare the porepy exporter and export the initial solution\n",
    "saver = pp.Exporter(sd, \"sol\", folder_name=output_directory)\n",
    "\n",
    "export_solution(saver, current_sol=sol[-1], num_step=0)"
   ]
  },
  {
   "cell_type": "code",
   "execution_count": 14,
   "metadata": {},
   "outputs": [
    {
     "name": "stdout",
     "output_type": "stream",
     "text": [
      "Time 0.04167\n",
      "Iteration #10, error L2 relative psi: 0.00023580858665436834\n",
      "Time 0.08333\n",
      "Iteration #8, error L2 relative psi: 0.0002267224465214702\n",
      "Time 0.125\n",
      "Iteration #8, error L2 relative psi: 0.00012321804968193074\n",
      "Time 0.16667\n",
      "Iteration #8, error L2 relative psi: 7.865614295593626e-05\n",
      "Time 0.20833\n",
      "Iteration #7, error L2 relative psi: 0.00011217413460586274\n",
      "Time 0.25\n",
      "Iteration #6, error L2 relative psi: 0.00010747090284224937\n",
      "Time 0.29167\n",
      "Iteration #4, error L2 relative psi: 0.0\n",
      "Time 0.33333\n",
      "Iteration #2, error L2 relative psi: 0.0\n",
      "Time 0.375\n",
      "Iteration #1, error L2 relative psi: 0.0\n"
     ]
    }
   ],
   "source": [
    "# TODO: implement the time and nonlinear loopp\n",
    "# Time loop\n",
    "for time_step in np.arange(num_steps):\n",
    "    current_time = (time_step + 1) * dt\n",
    "    print(\"Time \" + str(round(current_time, 5)))\n",
    "\n",
    "    # TODO Rhs that changes with time (but not with k)\n",
    "\n",
    "    # Add \\Theta^n:\n",
    "    # 1. Convert psi DOF to cell-wise values\n",
    "    # 2. Compute theta\n",
    "    # 3. Project it to P0 elements\n",
    "    # 4. Multiply by psi-mass\n",
    "  \n",
    "    time_rhs = \n",
    "\n",
    "    # Solution at the previous iteration (k=0 corresponds to the solution at the previous time step)\n",
    "    prev = sol[-1]\n",
    "\n",
    "    # TODO Non-linear solver\n",
    "    for k in np.arange(K):\n",
    "        # Set the conductivity tensor in data (the actual saved tensor does not matter at this stage)\n",
    "        pp.initialize_data(\n",
    "            sd,\n",
    "            data,\n",
    "            key,\n",
    "            {\n",
    "                \"second_order_tensor\": pp.SecondOrderTensor(\n",
    "                    conductivity(proj_psi @ prev[-dof_psi:])\n",
    "                ),\n",
    "            },\n",
    "        )\n",
    "\n",
    "        # TODO Assemble the matrices that depend on the iteration\n",
    "        M = \n",
    "        N_psi = \n",
    "\n",
    "        # TODO Actual rhs\n",
    "        rhs = \n",
    "\n",
    "        # TODO Assemble the system to be solved at time n and interation k\n",
    "        spp = sps.bmat([], format=\"csc\")\n",
    "\n",
    "        # Prepare the linear solver\n",
    "        ls = pg.LinearSystem(spp, rhs)\n",
    "\n",
    "        # Fix the essential boundary conditions\n",
    "        ls.flag_ess_bc(np.hstack(bc_essential), np.zeros(dof_q + dof_psi))\n",
    "\n",
    "        # Solve the system\n",
    "        current = ls.solve()\n",
    "\n",
    "        # TODO implement stopping criterion\n",
    "  \n",
    "        if #condition\n",
    "            prev = current.copy()\n",
    "        else:\n",
    "            break\n",
    "\n",
    "    sol.append(current)\n",
    "    export_solution(saver, current_sol=sol[-1], num_step=(time_step + 1))\n",
    "\n",
    "saver.write_pvd(dt * np.arange(num_steps + 1))"
   ]
  }
 ],
 "metadata": {
  "kernelspec": {
   "display_name": "Python 3 (ipykernel)",
   "language": "python",
   "name": "python3"
  },
  "language_info": {
   "codemirror_mode": {
    "name": "ipython",
    "version": 3
   },
   "file_extension": ".py",
   "mimetype": "text/x-python",
   "name": "python",
   "nbconvert_exporter": "python",
   "pygments_lexer": "ipython3",
   "version": "3.12.5"
  }
 },
 "nbformat": 4,
 "nbformat_minor": 2
}
