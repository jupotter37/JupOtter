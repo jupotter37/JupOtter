{
 "cells": [
  {
   "cell_type": "markdown",
   "metadata": {},
   "source": [
    "### Task 3 - Text Mining\n",
    "- Find any suitable textual data for processing which will contain at least 500 sentences.\n",
    "you can manually collect texts from BBC/CNN/New York Times, or\n",
    "use the crawler from the first homework/tutorial and extend it to crawl particular website and collect content for this task, or\n",
    "use any other suitable texts (e.g. OpenData speech datasets)\n",
    "- Perform following NLP tasks:\n",
    "- POS tagging\n",
    "- NER with entity classification (using nltk.ne_chunk)\n",
    "- NER with custom patterns\n",
    "\n",
    "e.g. every match of: adjective (optional) and proper noun (singular/plural) is matched as the entity\n",
    "see slides 31 or 38 from lecture 4 for some NLTK examples using RegexpParser or custom NER\n",
    "- Implement your custom entity classification for each detected entity (using both nltk.ne_chunk and custom patterns)\n",
    "- Try to find a page in the Wikipedia\n",
    "- Extract the first sentence from the summary\n",
    "Detect category from the sentence as a noun phrase\n",
    "Example:\n",
    "for „Wikipedia“ entity the first sentence is „Wikipedia (/ˌwɪkᵻˈpiːdiə/ or /ˌwɪkiˈpiːdiə/ WIK-i-PEE-dee-ə) is a free online encyclopedia that aims to allow anyone to edit articles.“\n",
    "you can detect pattern „…​ is/VBZ a/DT free/JJ online/NN encyclopedia/NN …​“\n",
    "the output can be „Wikipedia“: „free online encyklopedia“\n",
    "For unknown entities assign default category e.g. „Thing“"
   ]
  },
  {
   "cell_type": "code",
   "execution_count": 1,
   "metadata": {},
   "outputs": [],
   "source": [
    "### Imports\n",
    "import nltk\n",
    "import glob\n",
    "import json"
   ]
  },
  {
   "cell_type": "markdown",
   "metadata": {},
   "source": [
    "### Task execution\n",
    "I chose the book Silmarillion for this task as the text is long enough and contains many non-english terms and names.\n",
    "\n",
    "#### Contents of **src** folder:\n",
    "  - jupyter notebook\n",
    "  - silmarillion.txt  (input text)\n",
    "\n",
    "#### Contents of **res** folder: \n",
    "  - entities_binary.json (NER with nltk.ne_chunks())\n",
    "  - entities_all.json (NER with nltk.ne_chunks())\n",
    "  - entities_custom.json (NER with custom pattern)\n",
    "  - named_entitites_wordbook.txt (Wikipedia categorization of NE with nltk entities (binary))\n",
    "  - custom.txt (Wikipedia categorization of NE with custom entities)\n",
    "  \n",
    "    "
   ]
  },
  {
   "cell_type": "markdown",
   "metadata": {},
   "source": [
    "## Loading text file (Silmarillion) into string"
   ]
  },
  {
   "cell_type": "code",
   "execution_count": 2,
   "metadata": {},
   "outputs": [
    {
     "name": "stdout",
     "output_type": "stream",
     "text": [
      "Number of characters:  711475\n",
      "Number of sentences:  4207\n",
      "\n",
      " AINU LIN DALE \n",
      "\n",
      "\n",
      "The Music of the Ainur \n",
      "\n",
      "\n",
      "There was Eru, the One, who in Arda is called Iluvatar; \n",
      "and he made first the Ainur, the Holy Ones, that were the \n",
      "offspring of his thought, and they were with him before \n",
      "aught else was made. And he spoke  ...\n"
     ]
    }
   ],
   "source": [
    "\"\"\"\n",
    "Loads text file into string\n",
    "\"\"\"\n",
    "def read_book(name):\n",
    "    book = \"\"\n",
    "    with open(name, 'r') as file:\n",
    "        book = file.read()\n",
    "    file.close()\n",
    "    return book\n",
    "\n",
    "## Loading whole Silmarillion book by Tolkien (apart from foreword, appendix, pronounciation notes and name index)\n",
    "text = read_book('./../src/silmarillion.txt')\n",
    "\n",
    "text = text.replace('lluvatar', 'Iluvatar') # fixing possible transcription error\n",
    "text = text.replace('Copyright', \"\")\n",
    "\n",
    "print(\"Number of characters: \", len(text))\n",
    "\n",
    "sentences = nltk.sent_tokenize(text)\n",
    "print(\"Number of sentences: \", len(sentences))\n",
    "\n",
    "print(\"\\n\",text[:250], \"...\")"
   ]
  },
  {
   "cell_type": "markdown",
   "metadata": {},
   "source": [
    "### Part-of-Speech Tagging"
   ]
  },
  {
   "cell_type": "code",
   "execution_count": 3,
   "metadata": {},
   "outputs": [
    {
     "name": "stdout",
     "output_type": "stream",
     "text": [
      "First couple of tagged tokens: \n",
      "[('AINU', 'NNP'), ('LIN', 'NNP'), ('DALE', 'NNP'), ('The', 'DT'), ('Music', 'NNP'), ('of', 'IN'), ('the', 'DT'), ('Ainur', 'NNP'), ('There', 'EX'), ('was', 'VBD'), ('Eru', 'NNP'), (',', ','), ('the', 'DT'), ('One', 'CD'), (',', ','), ('who', 'WP'), ('in', 'IN'), ('Arda', 'NNP'), ('is', 'VBZ'), ('called', 'VBN')]\n"
     ]
    }
   ],
   "source": [
    "from nltk import pos_tag, word_tokenize, ne_chunk\n",
    "\n",
    "## Creating list of tokens from string\n",
    "tokenz =  word_tokenize(text)\n",
    "\n",
    "## Tagging tokens with their corresponding part of speech categories\n",
    "tagged = pos_tag(tokenz)\n",
    "\n",
    "print(\"First couple of tagged tokens: \")\n",
    "print(tagged[:20])"
   ]
  },
  {
   "cell_type": "markdown",
   "metadata": {},
   "source": [
    "### NER chunks with nltk.ne_chunks()\n",
    "Classification (recognition) of Named Entities from POS-tagged tokens\n",
    " - binary = True : only recognizes if token is NE or not\n",
    " - binary = False : tries to recognize type of NE (i.e. person, location) ... this setting seems to be splitting some entities with more than 1 word and does not work wery well, given that those mostly made-up words and names in any Tolkien book must be harder to classify it's unsurprising."
   ]
  },
  {
   "cell_type": "code",
   "execution_count": 4,
   "metadata": {},
   "outputs": [],
   "source": [
    "\"\"\"\n",
    "Function from 2nd tutorial -> from list of tagged words extracts those recognized as named entities\n",
    "\"\"\"\n",
    "def extractEntities(chunks):\n",
    "    data = {}\n",
    "    for entity in chunks:\n",
    "        if isinstance(entity, nltk.tree.Tree):\n",
    "            text = \" \".join([word for word, tag in entity.leaves()])\n",
    "            ent = entity.label()\n",
    "            data[text] = ent\n",
    "        else:\n",
    "            continue\n",
    "    return data"
   ]
  },
  {
   "cell_type": "code",
   "execution_count": 5,
   "metadata": {},
   "outputs": [],
   "source": [
    "# NE with diff. types \n",
    "ne_chunked_f = ne_chunk(tagged, binary=False)\n",
    "ne_entities_f = extractEntities(ne_chunked_f)\n",
    "\n",
    "# NE without further classification\n",
    "ne_chunked = ne_chunk(tagged, binary=True)\n",
    "ne_entities = extractEntities(ne_chunked)"
   ]
  },
  {
   "cell_type": "code",
   "execution_count": 6,
   "metadata": {},
   "outputs": [
    {
     "name": "stdout",
     "output_type": "stream",
     "text": [
      "\n",
      "Further classified NE: \n",
      "['Finarfin', 'Feanor Maedhros', 'White Telperion', 'Doom', 'Ormal', 'Shadowy Seas', 'Might', 'Great Echo', 'Mahal', 'Maedhros', 'Anarion', 'THE', 'Necklace', 'Powers', 'Guarded Realm', 'Mahtan', 'Carcharoth', 'Dark Gate', 'River Narog', 'Long', 'Timeless Void', 'Hells', 'Narya', 'Rerir', 'Edrahil', 'Radagast', 'Foe', 'Brethil Halmir', 'Eldarin', 'Thus Melkor', 'Lonely Isle', 'Mountains', 'Ephel Duath', 'Sun Beleriand', 'Himring', 'Hildorien', 'Pass of Sirion', 'O Noldo', 'Glorfindel', 'Dol', 'Galadriel', 'Arminas', 'Spirit', 'Hidden Rock', 'Luthien', 'Earendil', 'Eldamar', 'Kings', 'Anarhma', 'Lorien']\n",
      "Only NE: \n",
      "['Finarfin', 'Feanor Maedhros', 'White Telperion', 'Doom', 'Ormal', 'Shadowy Seas', 'West Beleriand', 'Might', 'Great Echo', 'Mahal', 'Morwen', 'Anarion', 'Greenwood', 'White Mountain', 'Powers', 'Guarded Realm', 'Mahtan', 'Carcharoth', 'Dark Gate', 'River Narog', 'Long', 'Gimilzor', 'Rainy Stair', 'Rerir', 'Edrahil', 'Radagast', 'Brethil Halmir', 'Eldarin', 'Lonely Isle', 'Ephel Duath', 'Hildorien', 'Armenelos', 'Baragund', 'Glorfindel', 'Dol', 'Galadriel', 'Arminas', 'Maker', 'Hidden Rock', 'Luthien', 'Earendil', 'Eldamar', 'Kings', 'Anarhma', 'Lorien', 'Angrist', 'Dreadful Doom', 'Eldest', 'Cuivienen', 'Imlach']\n",
      "\n",
      "Further classified NE length: 1349\n",
      "\n",
      "Only NE length: 1129\n"
     ]
    }
   ],
   "source": [
    "print(\"\\nFurther classified NE: \")\n",
    "print(list(ne_entities_f)[:50])\n",
    "\n",
    "print(\"Only NE: \")\n",
    "print(list(ne_entities)[:50])\n",
    "\n",
    "print(\"\\nFurther classified NE length: \"+ str(len(list(ne_entities_f))))\n",
    "print(\"\\nOnly NE length: \"+ str(len(list(ne_entities))))"
   ]
  },
  {
   "cell_type": "code",
   "execution_count": 7,
   "metadata": {},
   "outputs": [],
   "source": [
    "f = open(\"./../res/entities_binary.json\", \"w\")\n",
    "f.write(json.dumps(ne_entities))\n",
    "f.close()\n",
    "\n",
    "f = open(\"./../res/entities_all.json\", \"w\")\n",
    "f.write(json.dumps(ne_entities_f))\n",
    "f.close()\n",
    "\n",
    "#print(ne_entities_f)\n",
    "## shows choosen entity types -> they are mostly incorrect anyway, this I will keep using binary chunked NE"
   ]
  },
  {
   "cell_type": "markdown",
   "metadata": {},
   "source": [
    "### NER with custom patterns\n",
    "\n",
    "I tried to choose the named entities in a way that would be close to the style of writing, since the text consists of an amount of nouns hyphenated per preposition e.g. Eye of Sauron, Grey Havens of Lindon, Towers of Mist, ...\n",
    "Yet, many of the found entities are either nouns followed by a misinterpreted verb e.g. 'Eldar desire', 'Manwe wept' or 'Middle-earth lay' or nouns mixed with misinterpreted prepositions such as therefore or thereafter.\n",
    "\n",
    "Overall I found the custom-found entities better in terms of complete definition (e.g. Seeing Stone of Emyn Beraid, Feanor son of Finwe, Finduilas daughter of Orodreth, Lord of Morgul) but of course too complex wikipedia styled page heading."
   ]
  },
  {
   "cell_type": "code",
   "execution_count": 8,
   "metadata": {
    "scrolled": false
   },
   "outputs": [],
   "source": [
    "from nltk import RegexpParser\n",
    "\"\"\"\n",
    "Function takes tagged tokens and grammar as input and prints the number of such found entities and first 15 of them\n",
    "\"\"\"\n",
    "def printCustomPattern(tagged_tokens, pattern_grammar):\n",
    "    cp = nltk.RegexpParser(pattern_grammar) ## train model for input grammar\n",
    "    res = cp.parse(tagged_tokens) ## apply parser to pos-tagged tokens \n",
    "    ents = extractEntities(res)  ## extract found patterns from results\n",
    "    ents_len = len(ents)\n",
    "    print(\"Found \"+str(ents_len)+\" strings with this pattern.\")\n",
    "    print(\"Some found strings with given pattern: \")\n",
    "    if(ents_len > 15):\n",
    "        print(list(ents)[:15])\n",
    "    else:\n",
    "        print(list(ents))  \n"
   ]
  },
  {
   "cell_type": "code",
   "execution_count": 9,
   "metadata": {},
   "outputs": [],
   "source": [
    "#print(\"All tagged words: \")\n",
    "#print(len(tagged))\n",
    "#print(list(tagged)[:30])"
   ]
  },
  {
   "cell_type": "code",
   "execution_count": 40,
   "metadata": {},
   "outputs": [
    {
     "name": "stdout",
     "output_type": "stream",
     "text": [
      "{'Nienna', 'Bring', 'Rivil', 'Lord of All', 'Captivity of Melkor Through', 'Crissaegrim', 'Elves of Middle-earth', 'Annael', 'Borlad', 'Kinslaying', 'Taur-im- Duinath', 'White Telperion', 'Towers of Mist', 'Valiant', 'Long', 'Haidar', 'Wolf', 'Nenning', 'Children of Iluvatar hearken', 'Denethor', 'Gurthang', 'Mandos cry', 'Union of Maedhros', 'Sarn Athrad', 'Mithlond', 'Ard-galen', 'Eldar see', 'Who', 'Others', 'Master', 'Eonwe', 'Elves Elentari', 'Rothinzil', 'Minas Tirith', 'Celegorm', 'Eldest of Trees', 'Lord thereof', 'Morgul-lord', 'Rock', 'Faithful', 'Doomsman', 'Hither Shore', 'Arthad', 'Men of Hithlum', 'Dor-Lomin', 'Gates of Summer', 'Tumunzahar', 'Mountains of Mist', 'Brithiach', 'Bregolas lord', 'Men of Middle-earth', 'Daeron of Doriath', 'Soon afterwards Ungoliant', 'Glirhuin', 'Ereinion Gil-galad son of Fingon', 'Gelmir', 'Hill of Slain', 'Dor-Cuarthol', 'Greenwood', 'Niniel Nienor daughter of Hurin', 'Guests', 'Moon falls', 'Ringwraiths', 'Fens of Sirion', 'Eglarest', 'Sulimo', 'Land of Gift', 'Malduin', 'Manwe heard', 'Tree', 'Manwe awoke', 'Rivers', 'Isle of Werewolves', 'Silmarils Feanor', 'Falls of Ivrin', 'Rathloriel', 'Aredhel Ar-Feiniel', 'Coming', 'Magor son of Aradan', 'Cleft', 'Earnur', 'Ores of Morgoth', 'Cirth', 'Guard', 'Lord of Belegost', 'Enchanted Isles', 'Dwarves of Nogrod', 'Curunir', 'TedNaSITlWf.com ESI la Led', 'F inrod Felagund', 'Between Dorthonion', 'Beer', 'Ar-Gimilzor', 'Nine ships', 'Haldan son of Haidar', 'Tuna', 'Elverwings', 'Silent Land', 'Telperion', 'Grey-elves of Mithrim', 'Huan sprang', 'Dreadful', 'None', 'Fair', 'Helm', 'Keen', 'Doriath telling', 'Argonath', 'Doriath drawn', 'Claiming release Turin', 'Erech', 'Lord of Andunie', 'Melkor', 'Elende', 'Middle-earth', 'Eldar look', 'Clad', 'Elerrina Crowned', 'Hither Lands', 'Rings', 'Aerin', 'Thus', 'Alcarinque', 'Dairuin', 'Petty- Dwarves', 'Thither Barahir', 'Dark Elves east', 'Open thy', 'Dark Throne', 'Unrest', 'Outer Lands', 'Dwarf-kings', 'Silmaril', 'Nothing', 'Manwe', 'Azaghal', 'Again', 'Thalos', 'Pharazon', 'Seven Rings', 'Great Ones array', 'Daeron', 'Isle of Eressea', 'Straight Road', 'Balar', 'Galadriel', 'Celegorm Curufin', 'Narsilion', 'Chief', 'Huger', 'Years', 'Gate of Angband', 'Handir', 'Aftercomers', 'Land of Mist', 'Land of Lorien', 'Ungoliant Therefore Feanor', 'Tuor', 'Gil-galad', 'Valimar', 'Avari', 'Grey- elven speech', 'Tuor son of Huor', 'Ruin of Beleriand', 'Gondolindrim', 'Hunthor', 'Sorcerer of Dol Guldur', 'Beren son of Barahir', 'Revealing', 'Elf', 'Mandos', 'Gothmog', 'Gladden Fields', 'Unchaining of Melkor', 'East Vale', 'Barad-dur', 'Elven', 'Seeing Stone of Emyn Beraid', 'Air', 'Great Lands', 'Elostirion', 'May', 'Nimloth', 'Flame', 'Taur-nu-Fuin', 'Door of Night', 'Laurelin Varda', 'Deathless Lands', 'Oiolosse', 'Ezellohar', 'Wolf- Sauron', 'Gimilkhad', 'Everlasting Darkness', 'Eastwards', 'Strangers', 'Nine Ringwraiths', 'West bear yourselves', 'Nenya', 'Exiles of Numenor', 'High Faroth', 'Elured', 'Ruling Ring', 'Secondborn', 'Vanya', 'High Eldarin tongue', 'Haldir lord', 'Houses', 'Lead', 'Nonetheless', 'World Vala', 'Day', 'Thus Brandir', 'Demon', 'Beginning of Days', 'Heavy-handed', 'Land of Willows', 'Fingolfin beheld', 'Ring of Doom', 'Bay of Eldamar', 'Blue Mountains', 'Children of Earth', 'Wilwarin', 'Get', 'Ore-host', 'Maia', 'Celeborn', 'Finrod walks', 'Emeldirthe Manhearted', 'Ancient West', 'Blessed', 'Lomion', 'Linaewen', 'Thangorodrim Morgoth', 'Umbar', 'Music', 'Bloodstained', 'Amandil', 'Narya', 'Cloud of Ungoliant', 'Thalion', 'Emeldirthe mother of Beren', 'Children of Eru', 'Ragnor', 'Silver-foot', 'Luthien home', 'Amon Ethir', 'Rerir', 'Gap', 'Cirdan south', 'Grey Havens of Lindon', 'Dwarf-cities', 'Durin', 'Lady Galadriel', 'Encircling Sea', 'Unlight of Ungoliant', 'River Sirion', 'Green Mound', 'Haudh-en-Arwen', 'Amon Amarth', 'Lords of Valinor', 'Lenwe', 'Gasping Dust', 'Aglon', 'Gates of Morning', 'Ring', 'Days of Flight', 'Soon', 'Great Worm', 'Andunie', 'King Felagund', 'Wise falter', 'Thranduil', 'Lord of Balrogs', 'Friendship', 'West March', 'Elves of Noldorin race', 'Alas', 'Noldorand', 'Doubt', 'Cirdan', 'Beneath Ered Engrin', 'Hail Earendil', 'Manwe dwells Varda', 'Elf of Nargothrond', 'Turin return', 'Kings', 'Arien Morgoth', 'Realm of Valinor', 'Into Anduin', 'Adurant', 'Minas Anor', 'Rochallor', 'Corollaire', 'Vast', 'Splendour', 'Queen', 'Maeglin', 'Dragons', 'Noegyth Nibin', 'Mouths of Sirion', 'Judgements', 'Fen of Serech', 'Elemmire', 'Hador Lorindol', 'Hurin Thalion', 'Turin Turambar Rian', 'West of Dor-lomin', 'Elf standing', 'King inArmenelos', 'Aman', 'Rulers of Arda', 'Helluin', 'Temple', 'Isle of Meneltarma', 'Men of Brethil', 'Foe', 'Northern Kingdom', 'Ard- galen', 'Rumour', 'O Turgon', 'Haste thee', 'Pillar of Heaven', 'Brandir son of Handir', 'Luthien Tnuviel', 'Baranduin', 'Brilthor', 'Amon Uilos', 'Rivendell', 'Laiquendi', 'Duilwen', 'Ered Gorgoroth', 'Eldar of story', 'Gandalf', 'Region', 'Firth', 'Eol', 'Therefore Luthien', 'Fathers of Men', 'Dear-bought', 'Great Hall of Osgiliath', 'Palantlri', 'Darkness', 'Lothlann', 'Therefore Idril', 'Quenta Silmarillion', 'Eldar set sail', 'Luthien Tlnuviel', 'Heart of Fire', 'Shadow', 'Thrice', 'Jaws of Thirst', 'White Tree', 'Borlach', 'Alcarondas', 'Nan-tathren', 'Edrahil', 'Thingol', 'Lady Haleth', 'House of Fingolfin', 'Ladybarrow', 'Therefore Iluvatar', 'Children of Iluvatar arise therein', 'Falas', 'Alone', 'Ores', 'O', 'Shadowy Seas', 'Beren lay', 'Black Hand', 'Legolin', 'Cabed-en-Aras', 'Isle of Balar', 'Fountain', 'Tol Sirion', 'Forest of Neldoreth', 'Aerandir', 'Haradrim', 'Mahanaxar', 'Lord of Caves', 'Brethil hidden', 'Morgoth Bauglir', 'Sindar Tauron', 'Menelmacar strode', 'Turin of King Thingol', 'Being things', 'Meres', 'Turin son of Hurin', 'Estolad', 'Ungoliant', 'Kementari', 'Forest of Brethil', 'Firstborn of Iluvatar', 'World', 'Powers', 'Condor', 'Seven Fathers', 'Inland Sea of Helcar', 'Proud', 'Between Ramdal', 'Minas Tirith of Finrod', 'Noldor Angrod', 'Curufin shot', 'Abyss', 'Valacirca', 'Telerin fleets', 'Far', 'Halls of Awaiting', 'Amarie', 'Gloredhel', 'Vanya r', 'White', 'Spring of Arda', 'Nevrast', 'Turin sprang', 'Count of Time', 'Sirion Ulmo', 'King Greymantle', 'Bregor', 'Dagorlad', 'Malinalda', 'Bay of Elvenhome', 'People of Haleth', 'Sceptre', 'Valar lieth', 'Beren', 'Tale', 'Beleglt Slain -a »', 'Ore-band', 'Hate', 'Feanturi', 'Sun arose', 'No heed didst thou', 'Halflings', 'Dor Caranthir', 'Leap of Dreadful Doom', 'Great Battle', 'Miriel', 'Melkor knew', 'Easterlings', 'Silvan Elves', 'Bondage', 'Ainulindale', 'Guiltless', 'Firstborn', 'Caranthir east', 'Men of Numenor', 'Halfling', 'Bald Hill', 'Westernesse', 'Whereas Melkor', 'Elvish', 'Deep', 'Peace', 'Kingdom of Manwe', 'Spirit of Fire', 'Hammer', 'Amor', 'Culurien', 'Foam-flower', 'East of Middle-earth', 'Tidings', 'Thither', 'Nazgul', 'Earth shook', 'Handir son of Haldir', 'Power of Terror', 'Nevertheless', 'Tol-in-Gaurhoth', 'Fords of Aros', 'Trees shone', 'Great', 'Though Manwe', 'Usurpers', 'Elrond', 'Melkor lord', 'Sea-Kings', 'Heir of Isildur arose', 'Rhovanion', 'Great Echo', 'Soronume', 'Swiftly Beren strode', 'Black Sword', 'Yavanna', 'Carven figures of beasts', 'Elf-maid', 'Este', 'Annon-in- Gelydh', 'Mirkwood', 'Gildor', 'Thou', 'Turin forth', 'Mariner', 'Ciryon', 'Great Music', 'Elven-rings Sauron', 'Orocarni', 'Thus Beren', 'Star', 'O people', 'Tintalle', 'Dor- lomin', 'Deeps of Time', 'Hallow', 'Emyn Beraid', 'Doriath dwelt Celeborn', 'Mount Rerir', 'Turgon ruin', 'Valandil', 'Dimbar', 'Elven-race', 'Thus news', 'Eledhwen', 'Giver of Freedom', 'Lord of Middle-earth', 'Beleriand King Thingol', 'Niniel', 'Tar-Miriel', 'Kingdom', 'Eldalie', 'Beren slunk', 'Land of Mordor', 'Easterling', 'Gate echoes', 'THE RINGS OF POWER AND THE THIRD AGE', 'Noldo', 'Gates of Sirion', 'Narsil', 'Ainu', 'Black Land', 'River Adurant', 'Dior arose', 'CupynthtCT**', 'Hithlum', 'Dor Daedeloth', 'Elenwe', 'Shields', 'Aiya Eldalie ar Atanatari', 'Bay of Belfalas', 'Blue', 'Neldoreth', 'V alar', 'Haudh-en-Elleth', 'Nine', 'Gwindor son of Guilin', 'Might', 'Inziladun', 'Bay of Balar', 'Oath', 'Mountains of Shadow/', 'Seven Hoards', 'Fuinur', 'Chapter', 'Hador', 'Bragollach', 'Meneldil', 'Cabed Naeramarth', 'Empty-', 'Well', 'Melian', 'Flame Imperishable', 'Lady of Dor-lomin', 'Ecthelion', 'Serech', 'City', 'Greater knowledge', 'Elven-kindreds', 'Lord of Gifts', 'Men', 'Turin son of Hurin of Dor-lomin', 'Celebrindal', 'Themselves', 'Dwarves of Belegost', 'Younger', 'Noldor wrought', 'Dagor Bragollach', 'Earrame', 'Dagnir', 'Barahir', 'North', 'Hidden King', 'Haladin', 'Belegund', 'Angrod son of Finarfin', 'Eldar heard', 'Idril', 'Mankind', 'White Tree of Isildur', 'Beyond Hithlum', 'Aglarond', 'Nargothrond', 'Gift', 'Elves of Nargothrond', 'Too', 'Balan', 'Middle-earth draw', 'Eldar of Eressea', 'Long Wall', 'Ring of Sapphire', 'Fall', 'Eldarin names', 'Straight Way', 'Sindar spoke', 'Silpion', 'Underworld', 'Hill of Spies', 'Wizards', 'Realm', 'Black Years', 'Orthanc', 'Unlight', 'Valaroma echoed', 'Middle- earth lay', 'Darkening of Valinor', 'Wisest', 'Luthien daughter of Melian', 'Nightshade', 'Tinuviel', 'Eregion', 'Alqualonde', 'Imladris', 'Ruin of Doriath So', 'Mickleburg', 'AH rights rnentd', 'Orodruin', 'High King of Arda', 'Man of Dor-lomin', 'Finrod Felagund', 'Romenna', 'Guarded Plain', 'Princes', 'Elwe', 'Thence', 'Feast of Reuniting', 'Elsewhere Sauron', 'Half-elven', 'Grey-elves Talath Rhunen', 'Draugluin', 'Thorondor King of Eagles', 'Glad', 'HERE ENDS THE VALAQUENTA QUENTA SILMARILLION', 'Little', 'Ascar', 'Sleep of Yavanna', 'Gate', 'Varda hung', 'Terrible', 'Malach son of Marach', 'Vana', 'Bane of Glaurung', 'Mithrim', 'Bow', 'High King', 'Lord of Morgul', 'Unwilling', 'Runes', 'High towers', 'Hareth', 'Falls of Rauros', 'Thorondor', 'Halmir', 'Greymantle', 'War', 'Bridge of Esgalduin', 'Ered Luin', 'High Ones of Arda', 'High-elven speech', 'Land of Seven Rivers', 'Say farewell', 'Longest', 'Wise save Mithrandir', 'Sang', 'Delduwath', 'Great Sea', 'West', 'Maker', 'Curufin dwelt', 'Sickle', 'Eol of Nan Elmoth', 'Orodreth', 'Iron Mountains', 'Melkor hath', 'Heirs of Isildur', 'Gwindor of Nargothrond', 'Evil', 'Turin strode', 'Beren farewell', 'Void', 'Thunder rumbles', 'Formenos', 'Noldor of Formenos', 'Timeless Void', 'Thereat Glaurung', 'Golodhrim', 'Ereinion Gil-galad', 'Carcharoth', 'Noldor atone', 'People of Haleth dwelt', 'Bar-en- Danwedh', 'Gil-', 'Turin knelt', 'Ever-cold', 'Maiar Osse', 'Kingdom of Nargothrond', 'Great Ones', 'March', 'Green Isle', 'Child', 'Tulkas', 'Grey', 'Maeglin son of Eol', 'Children', 'Swan-haven', 'Master Elrond abode', 'Quendi hid', 'Ice', 'Thereupon Feanor', 'Elves of Beleriand dwelt', 'Numenore', 'East Beleriand', 'Lothlorien', 'Jewels', 'Ntimith', 'Coming of Men', 'Men Morgoth', 'Elven-tongues', 'Masterstone abode', 'Song of Parting', 'Guard heard', 'Thereafter Hurin son of Galdor', 'Lords', 'Havens of Sirion', 'Maglor', 'Lindon', 'Luthien Tinuviel', 'Therefore Yavanna', 'Tree of Tlrion', 'Spring', 'Telperion bore', 'Captains', 'Therefore Orome', 'Fingolfin King', 'Annuminas', 'Hadhodrond', 'Yavanna Kementari', 'Small truth', 'Twilight Meres', 'Earth', 'King of Bangs', 'Nam i HTn Hurin', 'Land of Caranthir', 'Eressea', 'Circles', 'Small love', 'White Lady', 'Gonnhirrim', 'Anfauglir', 'Gelion', 'Dark', 'Great power Melian lent', 'Men of Westernesse', 'Slowly', 'Therefore Turin', 'King of Nargothrond', 'Elven-king', 'Holy Ones', 'Being', 'Realms', 'Green-elves', 'Man step', 'Leap of Beren', 'King Fingon', 'Deeps of Time Melkor hath', 'Land of Aman', 'Nimphelos', 'Dwarf', 'Ringil', 'Thence Turin', 'Tales', 'River Ascar', 'Amon Obel', 'Lonely Isle', 'Dunedain', 'Bar-en-Danwedh betrayed', 'Ost-in-Edhil', 'Therefore none', 'Elf-lands', 'Caragdur', 'White Lady of Gondolin', 'Eldarin tongue', 'Yavanna wept', 'History', 'Rainbow Cleft', 'House of Feanor', 'Therefore Denethor', 'Eldar die', 'Feanor Finwe', 'Ulmo', 'Eldar afterwards', 'Starwards', 'Noldor of Tirion', 'Ulmo speaks', 'Beren Erchamion', 'Varda', 'Therefore Amandil', 'Lord of Beleriand', 'No', 'Men of Bor', 'Marring', 'Wolves', 'King of Eagles', 'Greater love', 'Fire', 'Battle Plain', 'Orome tamer of beasts', 'Secret Fire', 'Unhappy', 'Lindorie', 'Men of Eriador', 'Varda Elentari', 'Turin Turambar', 'Nan Dungortheb', 'Hisilome', 'Tower', 'Captain of Sauron', 'Ulairi', 'Gil- galad', 'Finwe King', 'Eilinel', 'Tower of Ingwe', 'Bat Melkor', 'Ivrin', 'Feanor ’ s words', 'Khazad', 'Mound', 'Calacirya', 'Their', 'Turin son of Hurin Thalion', 'Ered Lindon', 'Dwarves Felagund', 'KhTm', 'Fingon', 'Olorin', 'Calaquendi', 'Siege', 'Three Rings', 'ButAtanamir', 'Fierce', 'Music of Water', 'Rising Moon', 'Battle of Unnumbered Tears', 'Days of Bliss', 'Nine Rings', 'Heavy Hand', 'Corn', 'Gwaith-i-Mirdain', 'Kingdom of Earth', 'Sea-elves', 'Crossings', 'Release form Bondage', 'Deathless', 'WWW.TetlNasmith.com Tuor U l*d', 'Later Ages', 'Elves Hadhodrond', 'Eldamar', 'Eldar desire', 'Meneltarma', 'Eldest Days', 'Norn', 'Enemy', 'Elven-folk', 'Master of Doom', 'Castle', 'Ring of Fire', 'Hells of Iron', 'Fading Years', 'Dior Aranel', 'South Kingdom', 'Silmarils lay', 'Himring', 'Dior Eluchil', 'Tower of Guard', 'Elf-kingdoms', 'Maglor son of Feanor', 'Grey-elves', 'Dwarves return', 'Age', 'Olwe', 'Anar', 'Silmarils come', 'Throne of Morgoth', 'Children of Hurin', 'Loeg Ningloron', 'Celegorm rode', 'Maiarofthe', 'Dark Gate', 'Dwarves beside', 'Greedy', 'Elvish tongue', 'Utumno', 'Camlost', 'Bar-en-Danwedh', 'Men of Dor- lomin', 'Avathar', 'Therefore Melkor', 'Eagles of Manwe', 'Amon Ereb', 'Man', 'Sea-kings', 'Gorlim son of Angrim', 'Guarded Realm', 'Haleth dwelt', 'Sauron', 'Morwen Eledhwen', 'Many', 'King of Arda', 'Meres of Twilight', 'Slower', 'Horsemen', 'House of Ransom', 'Iluvatar', 'Galdor', 'Deer', 'Gorthaur', 'Middle-earth remain', 'Dior Eluchfl', 'Glance', 'Beware', 'Flelcaraxe', 'Lord of Nargothrond', 'Earth awoke', 'Hollowbold', 'Cold', 'Turambar arose', 'Land', 'Welcome', 'Saruman', 'Men of Middle- earth', 'Lindon Gil-galad', 'Dark Guard', 'Forests of Brethil', 'Valar chose', 'Voronwe', 'Eru', 'Dominion of Men', 'Lord of Waters', 'Ar- Gimilzor', 'Dry River', 'Arcs', 'Moria', 'Thankless fosterling', 'Helcaraxe', 'Urthel', 'Anfauglith', 'Aranruth', 'Isildur', 'Necklace', 'Mountains of Mithrim', 'Radhruin', 'Belthil', 'Grief', 'Elrond Half-elven', 'Angband mourn', 'Eastward', 'Halmir lord', 'Minas Morgul', 'Half-', 'Tall', 'Dagor Aglareb', 'TURIN TURAMBAR DAGNIR GLAURUNGA', 'Fall of Fingolfin', 'Morgoth', 'Tears', 'House', 'People', 'Turgon heard', 'Noldor thereafter', 'Aragorn son of Arathorn', 'Ten', 'Adanedhel', 'Havens of friendship', 'Anarion', 'Vengeance', 'Come', 'First War', 'Losgar', 'Thangorodrim', 'Shadow of Sauron', 'Nan Elmoth', 'Haudh-en-Nirnaeth', 'Uruloki', 'Oath of Feanor', 'Firstborn Children of Iluvatar', 'Nen Girith', 'Tol Galen', 'Teiglin Turin', 'Elendil ’', 'Amlach son of Imlach', 'Rings of Fire', 'Fingon Fingolfin', 'Elf-friends', 'Between Himring', 'Amandil lord of Andunie', 'Northward', 'Tuna beneath Taniquetil', 'Eru Iluvatar', 'Northlands', 'Ford of Stones', 'Prophecy', 'Peace none', 'Foresighted', 'Cardolan', 'Mim', 'Luthien Tmuviel', 'Alliance', 'Shall', 'Dol Guldur', 'Seven', 'Erellont', 'Mormegil of Nargothrond', 'Sea', 'Elvenfolk', 'Light', 'Felagund seeing', 'Days', 'Hurin', 'Greater Gelion', 'Nivrim', 'Lady Aredhel', 'Battle-under-Stars', 'O Kementari', 'Elbereth', 'Thither Elendil', 'Haudh-en-Ndengin', 'No lord', 'Pass', 'Cuivienen Orome rode', 'Cruel', 'Feanor strode', 'Siege of Angband', 'Elven tongue', 'Visions', 'Go', 'Water', 'Hiding of Valinor', 'Turgon son of Fingolfin', 'Pelargir', 'Three', 'Wells of Varda', 'Finwe', 'Nessa', 'Indis', 'Yea', 'Hill of Tears', 'Vision of Iluvatar', 'Kindreds', 'Luthien', 'Ban', 'AINU LIN DALE', 'Journey light', 'Miriel Serinde', 'Easterlings of Hithlum', 'Thus Fingon', 'Taurlnu-Fuin', 'Turgon', 'West sit', 'Isle of Almaren', 'Wronged', 'Petty-Dwarf', 'Girdle of Melian', 'Elven-host', 'Thingol lay dead', 'Evening', 'Vilya', 'Carnil', 'Third Battle', 'Earendil Tuor', 'North Mithrandir', 'Ondolinde', 'Dor Dinen', 'King perish', 'Gondor', 'Ephel Duath', 'Anach', 'Inner Seas', 'Empty Lands east', 'Deep Elves', 'Telchar', 'Manwe wept', 'Mindon Eldalieva', 'Slay', 'Hrion', 'Hathaldir', 'Red Ring of Fire', 'Boromir', 'Pools of Ivrin', 'Holy Mountain', 'Three Kindreds', 'Lorgan', 'Mountains of Iron', 'Vala', 'Western Sea', 'Thus Morgoth', 'White Mountains', 'Ibun', 'Forsaken People', 'Dior', 'AKALLABETH', 'Finarfin', 'Battle of Sudden Flame', 'Calenardhon', 'Manwe Sulimo', 'Fornost', 'Live', 'Beleg Strongbow', 'Gothmog Lord of Balrogs', 'Balrog', 'Therefore Ulmo', 'Against Aeglos', 'Amras', 'Neithan', 'Rohan', 'Elurin', 'Mlriel', 'King Thingol', 'Firmament', 'Lord Curufin', 'Caverns of Narog', 'Aldaron', 'Mahal', 'Unchanged', 'Night- fearers', 'Ingwe', 'Valinor', 'Weaver', 'Frodo', 'Ar- Zimraphel', 'Thus Narsil', 'Maglor Coal*', 'Andor', 'Calacirya fogs', 'Turgon of Gondolin', 'Earendil', 'Day of Doom', 'Spring ofArda', 'Valier', 'Tur Haretha', 'Southward', 'South', 'South of Nan-tathren', 'How', 'Brandir', 'Fall of Gondolin', 'Forest', 'Rana', 'Wise', 'Thargelion', 'Arda', 'Deathless dwelt', 'Sindar', 'Mordor', 'Flaven', 'Isil', 'Wall', 'Release', 'Nahar', 'Eglath', 'Tilion', 'Salmar', 'Three Rings rode', 'Aelin-uial', 'A Turin Turambar turun ambartanen', 'Ring of Isengard', 'Dor-lomin', 'Quendi', 'Silmarils of Feanor', 'Walls', 'Jewel-smiths', 'Valaraukar', 'Bang', 'Three Houses throve', 'Peace of Arda', 'Gods dwell', 'Haven', 'Osgiliath', 'Silmarils', 'Star- spray', 'Tree of Tuna', 'Leave', 'Chaining of Melkor', 'Giver of Fruits', 'Herumor', 'Ulwarth', 'Lamps', 'Haldir of Brethil', 'Friend', 'Sam Athrad', 'Thereafter messengers', 'Isengard', 'Thorondor Lord of Eagles', 'Gorlim', 'Tower of Barad-dur', 'Eglador', 'Glaurung father of dragons', 'One', 'Tree-lit gardens of Valinor', 'Beleg Cuthalion', 'Grey- elves', 'Realm of Numenor', 'Seldom', 'Strongbow beside', 'Noldor northward', 'Vasa', 'Valaroma', 'Huan', 'Stunted People', 'Naugrim crossing', 'War of Wrath', 'Maiar of Aule', 'Valar Elendil', 'Dorlas', 'Turin speak', 'Melian show', 'Journeyed', 'Which', 'Nimlnth thp White* Tree*', 'Shadow of Morgoth', 'Nirnaeth Amoediad', 'Great Seas', 'Mablung', 'Fathers', 'Great River', 'Dread Helm', 'Eol dwelt', 'Grey-elven tongue', 'Mereth Aderthad', 'Ancalagon', 'North-west of Middle-earth', 'Sun passes', 'King therefore', 'Pass of Anach', 'Forsaken Elves', 'West Beleriand', 'Arossiach', 'West Cirdan', 'First Day', 'Teleri', 'Bor', 'Trees of Valinor', 'Vale of Narog', 'Mithrandir', 'Valar lend', 'Change', 'Mount Dolmed', 'Angrist', 'Stone', 'First', 'Ore', 'Mountains of Terror', 'Rings of Power', 'Encircling Mountains', 'Spirits', 'Glaurung abode', 'King of Gondor', 'Ring of Adamant', 'Third Age', 'Eriador Imladris', 'Celon', 'White Mountain', 'Mortals', 'Elder Children of Iluvatar', 'Hidden Kingdom', 'Beor', 'Belegost', 'Valar thrust', 'Mount Doom', 'Spies', 'Gabilgathol', 'Golden Flower of Gondolin', 'Dark Lord', 'Atani', 'Fords', 'River Narog', 'Turin', 'Ulfast', 'Ninquelote', 'Haleth', 'Ore-legion', 'Resisting', 'Red Ring', 'Lord of Forests', 'Light of Valinor', 'Messengers', 'Unnumbered Tears', 'Sea of Helcar', 'Green-elves of Ossiriand', 'VALAQUENTA Account', 'Orome', 'Thranduil ’ s people', 'Elvenesse', 'Miss of Aman', 'Isle', 'Beren One-hand', 'Shut', 'Nauglamir', 'ButThingol', 'Sindar come', 'Khazad-dum', 'Men little', 'Echoing Mountains', 'Noldorin Elves', 'Cirith Thoronath', 'Elf-Man', 'Gimilzor', 'Nienor', 'Flight', 'Elves call Arda', 'Noldor of Fingolfin', 'Elves of Beleriand', 'Ered Nimrais', 'River Lhun', 'Elwe ’ s brother', 'Finduilas daughter of Orodreth', 'Soon afterwards Handir Lord of Brethil', 'Song', 'Thus Melkor', 'Lanthir Lamath', 'Elwe Singollo', 'Thus Maedhros', 'Mountains of Shadow', 'Maiar', 'Farewell', 'Eldar saw', 'Cirith Ninniach', 'Opening Hour', 'Return', 'Glorious Battle', 'Teiglin', 'Black Foe', 'Earwen of Alqualonde', 'Felagund strove', 'Seas', 'Mablung of Doriath', 'Ancient Darkness', 'King', 'Baran', 'Shuddering Water', 'Elven- king', 'Elenna', 'Lord of Dor-lomin', 'Amanyar', 'Later', 'Fourth Battle', 'Dragon-helm of Dor-lomin', 'Fingolfin', 'Gundor', 'Than Sauron', 'Voyage of Earendil andmthe War of Wrath Bright Earendil', 'Mountains of Ered Luin', 'Great Ring', 'Keepers', 'Manwe dwelt Varda', 'Moriquendi', 'Woods', 'High Speech', 'Inscrutable', 'Grand', 'Sea-Wing', 'Maedhros', 'Lorien', 'Cuivienen', 'Lord of Nogrod', 'Taur', 'Numltti AD i', 'Elendili', 'Curse of Mandos', 'Angband', 'Power', 'Momen Eledhwen', 'Thuringwethil', 'Nandor', 'Noldor dwelt', 'Helm of Hador', 'Himlad', 'Quest', 'Trees Arien', 'Deceiver', 'Silmaril lay', 'Elder King', 'Beren heard', 'Celebrimbor', 'Saeros', 'Morwen', 'Eithel Ivrin', 'Kings of Numenor', 'Luthien asleep', 'Thus Elwe', 'Iluvatar arose', 'Enter', 'Day-star', 'Aredhel Turgon', 'Pass of Sirion', 'Tuor stand', 'Tar-Calion', 'Amlach', 'Elvenland', 'Dark Tower', 'Ered Wethrin', 'Idril Celebrindal', 'Great Bow', 'Gulf of Lhun', 'Drengist', 'Eithel Sirion', 'Aratan', 'Menelmacar', 'Baragund', 'Vingilot', 'Great Rider', 'Talath Dirnen', 'Vision', 'Few', 'Glorfindel', 'Celebrant', 'Amrod', 'Barad Eithel', 'Elendur', 'Ephel Brandir', 'Tarn Aeluin', 'Dwarves shrank', 'Nnmpnnr Manwe', 'Balrogs', 'Lake Helevorn', 'King of Doriath', 'Great Gulf', 'Sheer', 'Beyond', 'Falmari', 'Caves', 'Bliss of Valinor', 'Havens of Brithombar', 'A', 'Ever-young', 'Hound of Valinor', 'A doom', 'Way of Escape', 'Teleri abode', 'Elves of Mithrim', 'Noontide of Valinor', 'Minas Ithil', 'Wisdom', 'King of Gondolin', 'River', 'Seven Stones', 'Dior gaze', 'Nonetheless Ulmo', 'Hewer of Caves', 'South of Ard-galen', 'King Finrod Felagund', 'Him ring', 'Numenoreans dwelt', 'Elendili dwelt', 'Master of Lies', 'Mountains of Defence', 'Hapless', 'Angband Morgoth', 'Elves east', 'Children of Iluvatar', 'Arien', 'Faithful of Numenor', 'Doom of Mandos', 'Pelori', 'Forest of Region', 'Ormal', 'Middle-earth lay', 'Aredhel', 'Elven- tongue', 'Feanor', 'Elves Ekkaia', 'Noldor', 'Valley of Dreadful Death', 'Exiles', 'Sorcerer', 'Brethil', 'Grinding Ice', 'Gorgoroth', 'Dior Thingol', 'Ar- Pharazon', 'Wolf of Angband', 'River Nenning', 'Therefore Morgoth', 'Colon', 'Nay', 'Serinde', 'Kinsmen', 'Dark Enemy', 'Silmarien', 'Silmaril amidmost', 'Gwindor', 'Finrod', 'Anadune', 'Thingol King of Doriath', 'Pharazon son of Gimilkhad', 'Galathilion', 'Swifter', 'Doom of Men', 'Immortal', 'Seven Stars', 'Black chasms', 'Ohtar', 'Elvenhome', 'Bent World', 'Ea', 'Vanyar', 'Erchamion', 'Elvenking', 'Lay of Leithian', 'Kings of Men', 'Thither Beren', 'Hithaeglir', 'Anduin', 'Moon', 'Pinnacle of Orthanc', 'Angband Balrogs', 'Star of High Hope', 'Marring of Arda', 'Dark Elf', 'Council', 'Tar-nu-Fuin', 'Black Sword of Nargothrond', 'Tulkas slept', 'Tar-Palantir', 'Anarhma', 'Elves of Valinor', 'Vaire', 'LaerCu Beleg', 'Numenoreans', 'Nenarand Lumbar', 'Steadfast', 'Hurin son of Galdor', 'Atalante', 'Lady', 'Noldor Thargelion', 'Falls of Sirion', 'Ere', 'Elros', 'Mount Taras', 'Armenelos', 'Nantathren', 'Shipbuilder', 'Say', 'Land of Bow', 'Anglachel', 'Club-foot', 'Eru bless', 'Worm of Morgoth', 'Curufin moreover', 'Undying Lands', 'Pass of Light', 'Star of Earendil shone bright', 'Ered Lomin', 'Echoriath', 'East', 'Star of Earendil', 'Hunting', 'Uinen', 'Caranthir', 'Cuivienen sweet', 'Veil of Arda', 'Seventy times', 'Finrod Felagund lord of Nargothrond', 'Hidden Rock', 'Sun', 'Amon Rudh', 'Shadowy Mountains', 'Men of Hador', 'Tower of Avallone', 'Stewards', 'Encampment', 'Naugrim withstood fire', 'Scroll of Kings', 'Amon Gwareth', 'Elf-woman', 'Upon Doriath', 'Nazgul dare', 'Mountains of Aman', 'Worm', 'Elu Thingol', 'Elf-kings', 'NIENOR NINIEL', 'Trees Galadriel', 'Gondolin Earendil Halfelven', 'Taniquetil', 'Crossings of Teiglin', 'Wilt', 'Elwing', 'Havens', 'Strong', 'Third Theme of Iluvatar', 'Celon south of Nan Elmoth', 'Ephel tidings of Turambar', 'Beren speak', 'Olwe of Alqualonde', 'Ulumuri', 'Flowers', 'Feanor son of Finwe', 'League', 'Firth of Drengist', 'Oiolosse Everlasting Whiteness', 'Menegroth', 'Lammoth', 'Morgoth craven', 'Misty Mountains', 'Tol Eressea', 'Dorthonion', 'Green- elves', 'Bright Earendil', 'Forgotten', 'Land of Shadow', 'Sirion', 'Valar', 'Aros', 'Endor', 'Tirion', 'Ginglith', 'Dark Years of Men', 'Avallone', 'Nienor daughter of Hurin of Dor-lomin', 'Eight', 'Nether Darkness', 'Heir of Earendil', 'Dagor-nuin-Giliath', 'Elves sing', 'Great Song', 'Edain dwelt', 'Between Mindeb', 'River Aros', 'Marach', 'Tlrion', 'Black', 'Namo', 'Therefore Hurin', 'Arminas', 'Swans', 'Mountain', 'Caves of Menegroth', 'Hildor', 'Lalaith', 'Silmaril of Feanor burns', 'Ered Engrin', 'Telumendil', 'Flrimar', 'Mablung perforce', 'Tuneless Halls', 'Elves of Sirion', 'Fingon prince of Hithlum rode', 'Men of Dor-lomin', 'Ilmen', 'Sun Beleriand', 'Brodda', 'Ore- captain', 'Laughter', 'Curufinwe', 'Dark Elves', 'March of Maedhros', 'Nirnaeth', 'Twilight', 'Ford of Brithiach', 'Breath of Arda', 'Joy of Morgoth', 'Dwarves', 'Moon cherishes', 'Lords of Andunie', 'Valar dwelt', 'Drowning of Numenor', 'White Council', 'Elven-tongue', 'Dimrost', 'Children awake', 'Therefore', 'Turgon dwelt', 'Three Houses', 'Maeglin Aredhel Ar-Feiniel', 'Dark King', 'Sarn Athrad Beren', 'Tar-Atanamir', 'Walla —', 'Ar-Feiniel', 'Wilt thou deny', 'Tol-in- Gaurhoth', 'Umanyar', 'High', 'Dragon-helm', 'Lords of Numenor', 'Araman', 'Pardon', 'Aule', 'Rainy Stair', 'Whence', 'Bare', 'Mountains', 'Angrod', 'Lay of Earendil', 'Trion', 'Ainur', 'Die', 'Ar-Gi mi Izor', 'Do', 'Did', 'Elven- race', 'Vale of Sirion', 'End', 'Dunedain dwelt', 'Queens', 'River Anduin', 'Noldolante', 'Valar bid', 'Gods', 'Felagund', 'Spring of Arda Tulkas', 'King of Rohan', 'Lord', 'Into', 'Golden-haired', 'Thus Turgon', 'King of Numenor', 'Year of Lamentation', 'Elf-lords', 'Nightingales', 'Winged Crown', 'Lhun', 'Ossiriand', 'Golden', 'Red Maw', 'Periannath', 'Middle-earth dwelt', 'Haudh-en- Elleth', 'Ulfang', 'Pen of Serech', 'Sindarin tongue', 'Istari', 'Middle- earth', 'Falathrim', 'Curufin swerving', 'Ever Melkor', 'Mindon', 'Backwards', 'Finrod son of Finarfin', 'Master Elrond', 'Echoing Hills of Ered Lomin', 'Tar-Ancalimon', 'Shipwright', 'Ar-Pharazon', 'Glaurung', 'Heir', 'Thus Beleg', 'Enemies', 'Outer Sea', 'Finduilas', 'Elven-house of Finwe', 'River Esgalduin', 'True', 'Powers of Arda', 'Huor', 'Hunter', 'Aegnor', 'Inzilbeth', 'Gates of Argonath', 'Smiths', 'Thus Elendil', 'Valar forsook', 'Noldor lieth', 'Servants', 'Eldar account', 'Rohirrim', 'Astaldo', 'Vale', 'Elventongue', 'Beren Camlost son of Barahir', 'Kingdom of Arda', 'Hirilorn', 'Maglor return', 'Haldir', 'Belegaer', 'Captain of Morgoth', 'Stars', 'Celeborn of Doriath', 'Wilt thou grant', 'Doom', 'Both', 'Engwar', 'Long Felagund', 'Eru hath spoken', 'Valar Eonwe', 'Atanamir', 'Hildorien', 'Elves of Ossiriand', 'Durin of Moria fought', 'Behold', 'Dead', 'Bitterly', 'Aule hath', 'Gelmiris hands', 'Fiercest', 'Thereafter', 'Jewels of Feanor', 'Morgoth hath', 'Idril of Gondolin', 'East of Dorthonion', 'Hollin', 'Falathar', 'Girdle', 'Bereg', 'Wars of Beleriand', 'Great Water', 'Battle', 'Eldar of Beleriand', 'West none', 'Faelivrin', 'O King', 'Wildman', 'Sundering Seas', 'Everlasting Dark', 'Black Gates of Mordor', 'Eriador', 'Edam', 'Doriath grey', 'Nimaeth Arnoediad Morwen abode', 'Borthand', 'Melkorto', 'Maiar of Valinor', 'Tar- Minastir', 'Mindeb', 'Masters of Stone', 'Bregolas', 'City of Gondor', 'Fair Elves', 'Beleriand', 'Narog', 'Followers', 'Long Peace', 'Aldudenie', 'Gil-Estel', 'Setting Sun', 'Hidden Way', 'Dwarf-road', 'High Elves', 'Fell Winter', 'Noldor afterwards', 'SILMARILLION', 'Trees', 'Cuthalion', 'Uldor', 'Aratar', 'Therefore Thingol', 'Kindler', 'Ramdal', 'Outer Gate of Gondolin', 'Tale of Grief', 'Wayward', 'Deathless Land', 'Younger Children of Iluvatar awoke', 'Vinyamar', 'Time', 'Osse', 'Shepherds', 'Gorthol', 'Little Gelion', 'Edain', 'Apanonar', 'Doriath', 'Lay', 'Elvenhosts', 'Goldenbed', 'River Gelion', 'Dost thou', 'Long Night', 'Mountain of Fire', 'Laurelin', 'Elves', 'Thousand Caves', 'Light of Aman', 'Radagast', 'Maedhros hung', 'Foamriders', 'Flower of Silver', 'Lord of Waters Voronwe', 'Taniquetil Manwe', 'Tumladen', 'Beleg', 'Beleg leave', 'Nogrod', 'Sickly', 'Swarthy Men', 'Iron of Death', 'Atanatari', 'Valmar', 'Elros son of Earendil', 'Luinil', 'Hallow of Eru', 'O Noldo', 'Fire-golden', 'Thou hast', 'Eldar of Hithlum', 'Blue Mountains of Ered Luin', 'Glingal', 'Fear', 'Nirnaeth Arnoediad Turgon', 'Tol Morwen', 'Mighty', 'Year of Lamentation Morwen', 'Downfallen', 'Yavanna Kementari sang', 'Andram', 'Heir of Isildur', 'Thereafter Beren', 'Haldad', 'Gelmir son of Guilin', 'Amon Sul', 'Arnor', 'Highest', 'Tear-maiden', 'Great Ring of Power', 'Second Music', 'Elder Days', 'Minstrel', 'Curufin', 'Dor-nu-Fauglith', 'Eye of Sauron', 'Rumil of Tlrion', 'Irmo', 'Dwarrowdelf', 'Old', 'Iron Crown', 'Tower of Sorcery', 'Elendil', 'Great harbours', 'Turambar', 'Gondolin', 'Numenor', 'Into Doriath none', 'Hill of Himring', 'Eagles', 'Esgalduin', 'Great Lake', 'Pass of Aglon', 'Justice', 'Noldor of Hithlum', 'Outer Ocean', 'Death', 'Great River Anduin', 'Dragon', 'North Downs', 'Elven-smiths', 'Nargothrond Finrod', 'Downfall of Numenor', 'Mahtan', 'Silmarils Chapter', 'Mormegil', 'Joy', 'Turin returning', 'Night', 'Kings come', 'Doors of Felagund', 'Elven-kings', 'Nerdanel', 'Almaren', 'Naugrim', 'Melian Melian', 'Fifth Battle', 'Eldar', 'Noontide', 'Akallabeth', 'Water of Awakening', 'Empty', 'Beginning', 'Valar canst', 'Beren sprang', 'Fords of Arcs', 'House of Elros', 'Nirnaeth Arnoediad', 'After- born', 'Therefore Turambar', 'Sheen', 'Stones', 'MTm'}\n"
     ]
    }
   ],
   "source": [
    "\"\"\"\n",
    "Chooses named entities as nouns with first upper case letter, adds .. if connected by preposition 'of' i.e. Gates of Argonath.\n",
    "\n",
    "\"\"\"\n",
    "found = []\n",
    "custom = []\n",
    "\n",
    "for word in tagged:\n",
    "    if (word[1].startswith(\"N\") or word[1].startswith(\"FW\") or (found and word[1].startswith(\"IN\") and word[0] in ['of'])):\n",
    "        found.append(word)\n",
    "        #print(word, word[1].startswith(\"NN\"),word[1].startswith(\"FW\"), word[1].startswith(\"IN\"), word[1].startswith(\"TO\"))\n",
    "\n",
    "    else:\n",
    "        if (found) and found[-1][1].startswith(\"IN\"): #remove possible prepositions if in the beginning\n",
    "            #print(\"\\tin \", found[-1][1])\n",
    "            found.pop()\n",
    "        if (found and \" \".join(e[0] for e in found)[0].isupper()): #if starts with upper case\n",
    "            #print(\"\\t\", \" \".join(e[0] for e in found))\n",
    "            custom.append(\" \".join(e[0] for e in found))\n",
    "        found = []\n",
    "        \n",
    "print(set(custom))\n",
    "\n",
    "\n",
    "f = open(\"./../res/entities_custom.json\", \"w\")\n",
    "f.write(json.dumps(list(set(custom))))\n",
    "f.close()"
   ]
  },
  {
   "cell_type": "markdown",
   "metadata": {},
   "source": [
    "### Other experiments with own patterns:\n",
    "Couple experiments with picking different grammar patterns from text."
   ]
  },
  {
   "cell_type": "code",
   "execution_count": 11,
   "metadata": {},
   "outputs": [
    {
     "name": "stdout",
     "output_type": "stream",
     "text": [
      "Found 606 strings with this pattern.\n",
      "Some found strings with given pattern: \n",
      "['the Stewards', 'the Doomsman', 'the Halfling', 'all Brandir', 'this World', 'the Balrogs', 'the High', 'the Steadfast', 'the Flame', 'the Gwaith-i-Mirdain', 'the Crissaegrim', 'the Uruloki', 'the Gorgoroth', 'the Calacirya', 'the Ever-young']\n",
      "Found 1799 strings with this pattern.\n",
      "Some found strings with given pattern: \n",
      "['the building', 'this place', 'the duel', 'this doom', 'that counsel', 'the warden', 'that reason', 'a seed', 'a hall', 'each awoke', 'No love', 'the anguish', 'any treasury', 'a loss', 'a friendship']\n"
     ]
    }
   ],
   "source": [
    "grammar1 = \"SP:{<DT><NNP>}\" ## chooses DT (determiner) followed by NNP (proper noun)\n",
    "printCustomPattern(tagged, grammar1)\n",
    "\n",
    "\n",
    "grammar2 = \"SP:{<DT><NN>}\" ## chooses DT (determiner) followed by NN (some noun)\n",
    "printCustomPattern(tagged, grammar2)"
   ]
  },
  {
   "cell_type": "code",
   "execution_count": 12,
   "metadata": {},
   "outputs": [
    {
     "name": "stdout",
     "output_type": "stream",
     "text": [
      "Found 785 strings with this pattern.\n",
      "Some found strings with given pattern: \n",
      "['a great captain', 'the first hour', 'a great rock', 'the inmost circle', 'the first Sun', 'a dreadful fall', 'the right line', 'the left hand', 'the unsullied Light', 'the mighty ravine', 'any other thing', 'a sudden Nahar', 'the uttermost West', 'the first victory', 'a new star']\n"
     ]
    }
   ],
   "source": [
    "grammar3 = \"SP:{<DT><JJ><NN|NNP>}\" ## chooses sequences of DT (determiner) followed by JJ (adjective) and NN (some or proper noun)\n",
    "printCustomPattern(tagged, grammar3)"
   ]
  },
  {
   "cell_type": "code",
   "execution_count": 13,
   "metadata": {},
   "outputs": [
    {
     "name": "stdout",
     "output_type": "stream",
     "text": [
      "Found 28 strings with this pattern.\n",
      "Some found strings with given pattern: \n",
      "['house was well-nigh destroyed', 'power took cruel revenge', 'this deed Fingon won great renown', 'Morgoth gave small heed', 'hast found thy brother', 'Morgoth sent great strength', 'Beleriand did great evil', 'Caranthir paid little heed', 'Manwe said unto Melkor', 'the Valar gathered great store', 'tongue had great power', 'Earendil was long time', 'Manwe put forth Morgoth', 'the western world were rent asunder', 'Isil was first wrought']\n"
     ]
    }
   ],
   "source": [
    "grammar4 = \"Sentence: {<DT|PP\\$>*<JJ>*<NN|NNP>+<VBD><JJ><NN|NNP>}\" ## some simple setences \n",
    "printCustomPattern(tagged, grammar4)"
   ]
  },
  {
   "cell_type": "code",
   "execution_count": 14,
   "metadata": {},
   "outputs": [
    {
     "name": "stdout",
     "output_type": "stream",
     "text": [
      "Found 10 strings with this pattern.\n",
      "Some found strings with given pattern: \n",
      "['Noldor had as little thought of faith', 'axe smoked in the black blood of the troll-guard', 'thereafter surpassed that desperate crossing in hardihood', 'dominion round about with an unseen wail of shadow', 'Pelori was an empty land in twilight', 'Fiercest burned the new flame of desire', 'Amandil set sail in a small ship at night', 'blade rang a cold voice in answer', 'Manwe made a high feast for the praising', 'danger was fraught with dreadful power because of the holy jewel']\n"
     ]
    }
   ],
   "source": [
    "grammar5 = \"Sentence: {<NN|NNP><VBD><JJ>*<NN|NNP>*<DT|IN>+<JJ>+<NN|NNP><DT|IN>+<JJ>*<NN|NP>+}\" ## some more simplish setences \n",
    "printCustomPattern(tagged, grammar5)"
   ]
  },
  {
   "cell_type": "code",
   "execution_count": 15,
   "metadata": {},
   "outputs": [
    {
     "name": "stdout",
     "output_type": "stream",
     "text": [
      "Found 3 strings with this pattern.\n",
      "Some found strings with given pattern: \n",
      "['victory of the Elves was dear-bought For those of Ossiriand', 'air of Middle-earth became heavy with the breath of growth', 'Huan the hound was true of heart']\n"
     ]
    }
   ],
   "source": [
    "grammar6 = \"Sentence: {<NN|NNP><VBD>*<DT|IN>+<VBD>*<NN|NNP><VBD><JJ>+<DT|IN>+<JJ>*<DT|IN>*<NN|NP>*<DT|IN>*<JJ>*<NN|NNP>}\" ## some more simple setences \n",
    "printCustomPattern(tagged, grammar6)"
   ]
  },
  {
   "cell_type": "code",
   "execution_count": 16,
   "metadata": {},
   "outputs": [
    {
     "data": {
      "text/html": [
       "\n",
       "Active sentences: "
      ],
      "text/plain": [
       "<IPython.core.display.HTML object>"
      ]
     },
     "metadata": {},
     "output_type": "display_data"
    },
    {
     "name": "stdout",
     "output_type": "stream",
     "text": [
      "Found 461 strings with this pattern.\n",
      "Some found strings with given pattern: \n",
      "['Fingon passed over Anfauglith', 'Gwindor gave the sword', 'foam flew like snow', 'Fingon strung an arrow', 'Tlrion was the name', 'wind came out of the east', 'Galdor ruled the house', 'Sapphire was with Elrond', 'Ores loathed the Master', 'Feanor was at the mouth', 'Melkor brooded in the outer', 'land lay under a cloud', 'Mablung set a guard', 'Linaewen was the name', 'Tulkas left the council']\n"
     ]
    },
    {
     "data": {
      "text/html": [
       "\n",
       "Phrases (no verbs): "
      ],
      "text/plain": [
       "<IPython.core.display.HTML object>"
      ]
     },
     "metadata": {},
     "output_type": "display_data"
    },
    {
     "name": "stdout",
     "output_type": "stream",
     "text": [
      "Found 1824 strings with this pattern.\n",
      "Some found strings with given pattern: \n",
      "['of the fate of Elured', 'The love of Finwe', 'in vision from afar', 'Finduilas daughter of Orodreth the King', 'on the city of Armenelos', 'that in the making of Arda', 'friend upon the island of Tol', 'from the bridge of Menegroth', 'towards the Fen of Serech', 'By the ring of Felagund', 'with spilling of blood', 'under the power of Thingol', 'the Tower of Guard', 'the horse of Celegorm', 'feast of the Spring of Arda']\n"
     ]
    },
    {
     "data": {
      "text/html": [
       "\n",
       "Simple sentences with <b>proper nouns<b>: "
      ],
      "text/plain": [
       "<IPython.core.display.HTML object>"
      ]
     },
     "metadata": {},
     "output_type": "display_data"
    },
    {
     "name": "stdout",
     "output_type": "stream",
     "text": [
      "Found 121 strings with this pattern.\n",
      "Some found strings with given pattern: \n",
      "['Fingon passed over Anfauglith', 'Rohirrim aided the Lords', 'Lord arose in Mirkwood', 'Iluvatar permitted the Valar', 'Varda hallowed the Silmarils', 'Beleg departed from Amon', 'Narog rose beneath the Mountains', 'Varda commanded the Moon', 'Ores loathed the Master', 'Tuor came upon an Elf', 'Valar passed over Middle-earth', 'Sauron called the Nazgul', 'Tuor fought with Maeglin', 'Melian was a Maia', 'Fingolfin marched into Mithrim']\n"
     ]
    },
    {
     "data": {
      "text/html": [
       "\n",
       "Simple sentences <b>with pronouns<b>: "
      ],
      "text/plain": [
       "<IPython.core.display.HTML object>"
      ]
     },
     "metadata": {},
     "output_type": "display_data"
    },
    {
     "name": "stdout",
     "output_type": "stream",
     "text": [
      "Found 87 strings with this pattern.\n",
      "Some found strings with given pattern: \n",
      "['he fled from them', 'she sped on before him', 'he made for them', 'he declared that it', 'he led before them', 'they won for themselves', 'he deemed that in him', 'he knew that it', 'he saw as he', 'he feared that it', 'she went with him', 'he lusted for them', 'she marvelled that she', 'they followed after him', 'he spoke of it']\n"
     ]
    },
    {
     "data": {
      "text/html": [
       "\n",
       "Simple sentences <b>without pronouns<b>: "
      ],
      "text/plain": [
       "<IPython.core.display.HTML object>"
      ]
     },
     "metadata": {},
     "output_type": "display_data"
    },
    {
     "name": "stdout",
     "output_type": "stream",
     "text": [
      "Found 7 strings with this pattern.\n",
      "Some found strings with given pattern: \n",
      "['of what lay before', 'Those who used the Nine Rings', 'against all who came in', 'of what passed in the', 'of those who led the Noldor', 'those who saw the', 'all who heard that sound']\n"
     ]
    }
   ],
   "source": [
    "from IPython.display import HTML\n",
    "grammar7 = \"\"\"SP1:{<NN|NNP><VBD><DT|IN>+<NN|NNP>}\n",
    "            \"\"\"\n",
    "\n",
    "grammar8 = \"\"\"SP2: {<NN|NNP>*<JJ>*<DT|IN>+<NN|NNP><DT|IN><JJ>*<NN|NNP>}\"\"\" ## chooses sequences of DT (determiner) followed by JJ (adjective) and NN (some or proper noun)\n",
    "\n",
    "grammar9 = \"\"\"SP1:{<NNP><VBD><DT|IN|RP>+<NNP>}\n",
    "            \"\"\"\n",
    "\n",
    "grammar10 = \"\"\"SP1:{<PRP|WP><VBD><DT|IN|RP>+<PRP|WP>}\n",
    "            \"\"\"\n",
    "\n",
    "grammar11 = \"\"\"SP1:{<DT|IN>+<WP>+<VBD><DT|IN|RP>+<JJ>*<NN|NNP>*}\n",
    "            \"\"\"\n",
    "display(HTML(\"\\nActive sentences: \"))\n",
    "printCustomPattern(tagged, grammar7)\n",
    "display(HTML(\"\\nPhrases (no verbs): \"))\n",
    "printCustomPattern(tagged, grammar8)\n",
    "display(HTML(\"\\nSimple sentences with <b>proper nouns<b>: \"))\n",
    "printCustomPattern(tagged, grammar9)\n",
    "display(HTML(\"\\nSimple sentences <b>with pronouns<b>: \"))\n",
    "printCustomPattern(tagged, grammar10)\n",
    "display(HTML(\"\\nSimple sentences <b>without pronouns<b>: \"))\n",
    "printCustomPattern(tagged, grammar11)"
   ]
  },
  {
   "cell_type": "markdown",
   "metadata": {},
   "source": [
    "### Custom entity classification with custom patterns"
   ]
  },
  {
   "cell_type": "code",
   "execution_count": 21,
   "metadata": {},
   "outputs": [],
   "source": [
    "import wikipedia\n",
    "\n",
    "\"\"\"\n",
    "Function searches the summary text for appropriate entity description. \n",
    "The first found string with the given pattern is saved and returned as dictionary object.\n",
    "The first verb of the description (typically form of the verb be) is removed.\n",
    "If no such pattern is found, the description_string is set to \"Thing\".\n",
    "\n",
    "Arguments: \n",
    "    entity name string, wikipedia summary string\n",
    "\n",
    "Returns:\n",
    "    dict object { entity_name : description_string }\n",
    "\"\"\"\n",
    "def parseSummary(name,summary):\n",
    "    #print(summary[:100])\n",
    "    phrases = {}\n",
    "    pattern_grammar = \"NP: {<VBD|VBZ|VBP><DT|IN|RP|WP>*<JJ|RB>*<NN|NNP|NNS>+<VBD|VBN|VBP>*<DT|IN|RP|WP|JJ>*<VBD|VBN|VBP>*<DT|IN|RP|WP|JJ>*<NN|NNP|NNS>*}\"\n",
    "    cp = nltk.RegexpParser(pattern_grammar) ## train model for input grammar\n",
    "    tagged_tokens = pos_tag(word_tokenize(summary))\n",
    "    res = cp.parse(tagged_tokens) ## apply parser to pos-tagged tokens of summary\n",
    "    #print(res)\n",
    "    ## PICK first entity named NP and save i to phrases -> then return\n",
    "    for result in res:\n",
    "        if isinstance(result, nltk.tree.Tree):\n",
    "            if(result.label() ==  \"NP\"):\n",
    "                phrases[name] = \" \".join([ent[0] for ent in result.leaves()][1:]) # remove first word (typically is, are)\n",
    "                return phrases\n",
    "    \n",
    "    phrases[name] = \"Thing\" \n",
    "    return phrases #when pattern is not found\n",
    "    \n",
    "\n",
    "def findPage(name):\n",
    "    results = wikipedia.search(name)\n",
    "    try:\n",
    "        page = wikipedia.page(name)\n",
    "        ent = parseSummary(name,page.summary)\n",
    "    except:\n",
    "        #print(\"Page not accessible atm exception.\")\n",
    "        return {name: \"Thing\"}\n",
    "    return ent"
   ]
  },
  {
   "cell_type": "code",
   "execution_count": 18,
   "metadata": {},
   "outputs": [
    {
     "name": "stderr",
     "output_type": "stream",
     "text": [
      "/home/girlingreyshirt/.local/lib/python3.5/site-packages/wikipedia/wikipedia.py:389: UserWarning: No parser was explicitly specified, so I'm using the best available HTML parser for this system (\"lxml\"). This usually isn't a problem, but if you run this code on another system, or in a different virtual environment, it may use a different parser and behave differently.\n",
      "\n",
      "The code that caused this warning is on line 389 of the file /home/girlingreyshirt/.local/lib/python3.5/site-packages/wikipedia/wikipedia.py. To get rid of this warning, pass the additional argument 'features=\"lxml\"' to the BeautifulSoup constructor.\n",
      "\n",
      "  lis = BeautifulSoup(html).find_all('li')\n"
     ]
    },
    {
     "name": "stdout",
     "output_type": "stream",
     "text": [
      "Page not accessible atm exception.\n",
      "{\n",
      "   \"Ainur\": \"the immortal spirits\",\n",
      "   \"Forest\": \"a large area dominated by trees\",\n",
      "   \"Morgoth\": \"a character from Tolkien\",\n",
      "   \"Mountain\": \"a large landform\",\n",
      "   \"Namo\": \"Thing\",\n",
      "   \"Nimloth\": \"the name of an Elf-maid\",\n",
      "   \"Sapphire\": \"a precious gemstone\",\n",
      "   \"Seven Stones\": \"a traditional South Asian game\",\n",
      "   \"Teleri\": \"the Elves who are\"\n",
      "}\n"
     ]
    }
   ],
   "source": [
    "\"\"\"\n",
    "For list of named entities searches wikipedia pages for short description.\n",
    "Prints (or stores) the found 'dictionary' as json object.\n",
    "\"\"\"\n",
    "def getCategories(entities_t, store = False, name = './../res/named_entitites_wordbook.txt'):\n",
    "    json_object = {}\n",
    "    for entity in entities_t:\n",
    "        ent = findPage(entity)\n",
    "        json_object[entity] = ent[entity]\n",
    "    \n",
    "    print(json.dumps(json_object, indent=3, sort_keys=True, ensure_ascii=False))\n",
    "    if(store):\n",
    "        with open(name, 'w') as outfile:  \n",
    "            json.dump(json_object, outfile)\n",
    "\n",
    "\n",
    "## Couple tests\n",
    "test = ['Morgoth', 'Mountain', 'Forest', 'Sapphire', 'Nimloth', 'Seven Stones', 'Ainur', 'Namo','Teleri']\n",
    "getCategories(test)"
   ]
  },
  {
   "cell_type": "code",
   "execution_count": 39,
   "metadata": {},
   "outputs": [
    {
     "name": "stdout",
     "output_type": "stream",
     "text": [
      "Only NE: \n",
      "['Amon Amarth', 'Nienna', 'Twilight Meres', 'Colon', 'Rivil', 'Finrod Finarfin', 'Hallow', 'Emyn Beraid', 'Darkness', 'Crissaegrim', 'Orthanc', 'Younger', 'Annael', 'Borlad', 'Erech', 'Elder Children', 'Serinde', 'Mount Rerir', 'Silmarien', 'Dimbar', 'Anarion', 'White Telperion', 'Eledhwen', 'Gwindor', 'Dark Years']\n",
      "{\n",
      "   \"Adamant\": \"also common variants\",\n",
      "   \"Aerandir\": \"a fictional character in J. R. R. Tolkien\",\n",
      "   \"Aerin\": \"an American billionaire heiress\",\n",
      "   \"Against Aeglos\": \"Thing\",\n",
      "   \"Aglarond\": \"Thing\",\n",
      "   \"Ainu\": \"an indigenous people of Japan\",\n",
      "   \"Alcarinque\": \"aspects of Christian theology\",\n",
      "   \"Alcarondas\": \"several noteworthy objects\",\n",
      "   \"Aldaron\": \"Thing\",\n",
      "   \"Alqualonde\": \"a fictional place in J. R. R. Tolkien\",\n",
      "   \"Amon Amarth\": \"a Swedish melodic death metal band from Tumba\",\n",
      "   \"Amon Gwareth\": \"Thing\",\n",
      "   \"Amon Rudh\": \"many locations\",\n",
      "   \"Amor\": \"Thing\",\n",
      "   \"Amras\": \"a fictional character\",\n",
      "   \"Anach\": \"Thing\",\n",
      "   \"Anarhma\": \"a genus of moth\",\n",
      "   \"Anarion\": \"a fictional character in J. R. R. Tolkien\",\n",
      "   \"Andor\": \"Thing\",\n",
      "   \"Anduin\": \"the Sindarin name for the Great River\",\n",
      "   \"Angband Balrogs\": \"fictional creatures in J. R. R. Tolkien\",\n",
      "   \"Anglachel\": \"the Northern European culture\",\n",
      "   \"Angrenost\": \"a large fortress in the fictional universe\",\n",
      "   \"Annael\": \"Thing\",\n",
      "   \"Aranwe\": \"Thing\",\n",
      "   \"Arda\": \"a Turkish professional footballer who\",\n",
      "   \"Arnor\": \"a fictional kingdom in J. R. R. Tolkien\",\n",
      "   \"Aros\": \"Thing\",\n",
      "   \"Arthad\": \"Thing\",\n",
      "   \"Ascar\": \"Thing\",\n",
      "   \"Avallone\": \"an American actor\",\n",
      "   \"Avari\": \"an American television\",\n",
      "   \"Balan\": \"an Indian actress\",\n",
      "   \"Balar\": \"Thing\",\n",
      "   \"Balrog\": \"fictional creatures in J. R. R. Tolkien\",\n",
      "   \"Ban\": \"Thing\",\n",
      "   \"Bang\": \"Thing\",\n",
      "   \"Barad Eithel\": \"many locations\",\n",
      "   \"Barahir\": \"a fictional character in the Middle-earth universe\",\n",
      "   \"Beer\": \"in the wort\",\n",
      "   \"Beleg Strongbow\": \"a major character who\",\n",
      "   \"Belegund\": \"Thing\",\n",
      "   \"Beleriand King Thingol\": \"a fictional character in J.R.R\",\n",
      "   \"Between Dorthonion\": \"a highland region of the First Age\",\n",
      "   \"Between Himring\": \"a region in northwestern Middle-earth\",\n",
      "   \"Between Mindeb\": \"Thing\",\n",
      "   \"Black Hand\": \"a secret military society formed in\",\n",
      "   \"Black Sword\": \"a side-scrolling action platformer game co-developed by Grasshopper Manufacture\",\n",
      "   \"Black Years\": \"full album length\",\n",
      "   \"Blessed Realm\": \"a fictional place in J. R. R. Tolkien\",\n",
      "   \"Blue\": \"between violet\",\n",
      "   \"Borlad\": \"Thing\",\n",
      "   \"Boromir\": \"a fictional character in J. R. R. Tolkien\",\n",
      "   \"Bow\": \"Thing\",\n",
      "   \"Bragollach\": \"the fourth battle of the Wars\",\n",
      "   \"Bridge\": \"a structure built\",\n",
      "   \"Brodda\": \"Thing\",\n",
      "   \"Cabed Naeramarth\": \"many locations\",\n",
      "   \"Caranthir\": \"the southernmost Austrian state\",\n",
      "   \"Carnil\": \"a person\",\n",
      "   \"Celebrindal\": \"a fictional character in English author J. R. R. Tolkien\",\n",
      "   \"Celegorm\": \"a fictional character in J. R. R. Tolkien\",\n",
      "   \"Cirith\": \"an American heavy metal band formed in late\",\n",
      "   \"Cirth\": \"a semi‑artificial script\",\n",
      "   \"Colon\": \"a punctuation mark\",\n",
      "   \"Condor\": \"the common name for\",\n",
      "   \"Crissaegrim\": \"many locations\",\n",
      "   \"Cruel\": \"Thing\",\n",
      "   \"Curufinwe\": \"a fictional character from J. R. R. Tolkien\",\n",
      "   \"Daeron\": \"Thing\",\n",
      "   \"Dagnir\": \"Thing\",\n",
      "   \"Dagor\": \"Thing\",\n",
      "   \"Dagor Bragollach\": \"the fourth battle of the Wars\",\n",
      "   \"Dark Elf\": \"Thing\",\n",
      "   \"Dark Enemy\": \"an unknown form of energy\",\n",
      "   \"Dark Throne\": \"a black metal band from Kolbotn\",\n",
      "   \"Dark Years\": \"a term used in The Lord\",\n",
      "   \"Darkness\": \"Thing\",\n",
      "   \"Deathless\": \"Thing\",\n",
      "   \"Deep Elves\": \"High Elves of the Second Clan\",\n",
      "   \"Defence\": \"Thing\",\n",
      "   \"Denethor\": \"a fictional character in J. R. R. Tolkien\",\n",
      "   \"Dimbar\": \"Mitko\",\n",
      "   \"Dior\": \"a European luxury goods company controlled\",\n",
      "   \"Dol Guldur\": \"Sauron\",\n",
      "   \"Dor Caranthir\": \"Thing\",\n",
      "   \"Dor Daedeloth\": \"a region in northwestern Middle-earth\",\n",
      "   \"Dor Dinen\": \"many locations\",\n",
      "   \"Dorthonion\": \"a highland region of the First Age\",\n",
      "   \"Draugluin\": \"a list of animals\",\n",
      "   \"Dreadful Death\": \"a British-American horror drama television series created for Showtime\",\n",
      "   \"Drengist\": \"the region north of Beleriand\",\n",
      "   \"Earendil\": \"a fictional character in J. R. R. Tolkien\",\n",
      "   \"Earnil\": \"a list of the\",\n",
      "   \"Earnur\": \"Thing\",\n",
      "   \"East\": \"the opposite direction from west\",\n",
      "   \"East Vale\": \"a large area of\",\n",
      "   \"Echoriath\": \"many locations\",\n",
      "   \"Eglarest\": \"a region in northwestern Middle-earth\",\n",
      "   \"Eglarest Finrod\": \"Thing\",\n",
      "   \"Elbereth\": \"Thing\",\n",
      "   \"Eldalie\": \"a surname\",\n",
      "   \"Elder Children\": \"a series of action role-playing\",\n",
      "   \"Elder Days\": \"the first Ages of Middle-earth\",\n",
      "   \"Elder King\": \"a fictional character in J. R. R. Tolkien\",\n",
      "   \"Eldest\": \"the second novel in the Inheritance Cycle\",\n",
      "   \"Eledhwen\": \"a fictional character from J. R. R. Tolkien\",\n",
      "   \"Elende\": \"a Congolese athlete\",\n",
      "   \"Elendili\": \"Elenna-nórë\",\n",
      "   \"Elerrina Crowned\": \"Thing\",\n",
      "   \"Elf\": \"a type of human-shaped supernatural\",\n",
      "   \"Elros\": \"a list of the twenty-five rulers\",\n",
      "   \"Elu Thingol\": \"a fictional character in J.R.R\",\n",
      "   \"Elven Tirion\": \"Thing\",\n",
      "   \"Elvenhome\": \"a fictional place in J. R. R. Tolkien\",\n",
      "   \"Elvenland\": \"Thing\",\n",
      "   \"Elverwings\": \"Thing\",\n",
      "   \"Elves Elentari\": \"Thing\",\n",
      "   \"Elwe\": \"Thing\",\n",
      "   \"Elwing\": \"a character of Middle-earth\",\n",
      "   \"Elwing Dior\": \"a character of Middle-earth\",\n",
      "   \"Emeldirthe\": \"Thing\",\n",
      "   \"Emyn Beraid\": \"Thing\",\n",
      "   \"Enchanted Isles\": \"the sea of Arda\",\n",
      "   \"Endor\": \"Thing\",\n",
      "   \"Eonwe\": \"in print in the\",\n",
      "   \"Ephel\": \"many locations\",\n",
      "   \"Ephel Duath\": \"the realm\",\n",
      "   \"Erech\": \"Erik\",\n",
      "   \"Ered\": \"Thing\",\n",
      "   \"Ered Engrin\": \"Thing\",\n",
      "   \"Ered Lomin\": \"many locations\",\n",
      "   \"Ered Luin\": \"Thing\",\n",
      "   \"Eregion\": \"a realm of the Noldorin Elves\",\n",
      "   \"Erellont\": \"a fictional character in J. R. R. Tolkien\",\n",
      "   \"Eru Iluvatar\": \"a fictional character in J.R.R\",\n",
      "   \"Ezellohar\": \"Telperion\",\n",
      "   \"Fair\": \"a gathering of people\",\n",
      "   \"Falas\": \"Thing\",\n",
      "   \"Felagund Beor\": \"a fictional character in the fantasy-world Middle-earth\",\n",
      "   \"Finarfin\": \"a fictional character in J. R. R. Tolkien\",\n",
      "   \"Fingon Fingolfin\": \"a fictional character in J. R. R. Tolkien\",\n",
      "   \"Finrod\": \"Thing\",\n",
      "   \"Finrod Felagund\": \"a fictional character in the fantasy-world Middle-earth\",\n",
      "   \"Finrod Finarfin\": \"a fictional character in J. R. R. Tolkien\",\n",
      "   \"Finwe\": \"Noldóran\",\n",
      "   \"Flame Imperishable\": \"aspects of Christian theology\",\n",
      "   \"Forest\": \"a large area dominated by trees\",\n",
      "   \"Fuinur\": \"a genus of small\",\n",
      "   \"Galadriel\": \"a fictional character created by J.R.R\",\n",
      "   \"Gelmir\": \"a surname\",\n",
      "   \"Gelmiris\": \"Thing\",\n",
      "   \"Gift\": \"an item given\",\n",
      "   \"Gifts\": \"an item given\",\n",
      "   \"Gimilzor\": \"a list of the twenty-five rulers\",\n",
      "   \"Gladden Fields\": \"a location in J. R. R. Tolkien\",\n",
      "   \"Glirhuin\": \"the family of Men\",\n",
      "   \"Golden\": \"Thing\",\n",
      "   \"Gondolin Earendil Halfelven\": \"Thing\",\n",
      "   \"Gondolindrim\": \"a fictional city in J. R. R. Tolkien\",\n",
      "   \"Gondor\": \"a fictional kingdom in J. R. R. Tolkien\",\n",
      "   \"Gothmog\": \"fictional creatures in J. R. R. Tolkien\",\n",
      "   \"Great Bow\": \"a historic church rebuilt after the Great Fire\",\n",
      "   \"Great Lands\": \"the term\",\n",
      "   \"Great Song\": \"an era of Chinese history\",\n",
      "   \"Greater Gelion\": \"many rivers\",\n",
      "   \"Greenwood\": \"Thing\",\n",
      "   \"Grey Havens\": \"the land beyond the Ered Luin\",\n",
      "   \"Greymantle\": \"count of Anjou\",\n",
      "   \"Guard\": \"Thing\",\n",
      "   \"Guarded Plain\": \"Nulukkhizdīn by the Dwarves\",\n",
      "   \"Gurthang\": \"the Northern European culture\",\n",
      "   \"Gwindor\": \"a fictional Earth\",\n",
      "   \"HERE\": \"Thing\",\n",
      "   \"HTn Hurin\": \"Thing\",\n",
      "   \"Haidar\": \"Heidar\",\n",
      "   \"Haladin\": \"the capital city of Hamadan Province\",\n",
      "   \"Haldan\": \"an American physiologist who was a co-recipient\",\n",
      "   \"Hallow\": \"a synonym of the word saint\",\n",
      "   \"Halmir\": \"a fictional character in J. R. R. Tolkien\",\n",
      "   \"Handir\": \"a Name\",\n",
      "   \"Handir Lord\": \"Thing\",\n",
      "   \"Haradrim\": \"the name for the immense\",\n",
      "   \"Hareth\": \"Thing\",\n",
      "   \"Hate\": \"a human emotion\",\n",
      "   \"Havens\": \"financial secrecy\",\n",
      "   \"Helm\": \"Thing\",\n",
      "   \"Hidden King\": \"Corporal King\",\n",
      "   \"Hidden Rock\": \"a waterfall in North Central North Carolina\",\n",
      "   \"High Eldarin\": \"the Eledhrim [ ɛˈlɛðrim ]\",\n",
      "   \"High Hope\": \"the fourth studio album by the English indie rock band Florence\",\n",
      "   \"High King\": \"a king who\",\n",
      "   \"Hildor\": \"Thing\",\n",
      "   \"Hisilome\": \"Thing\",\n",
      "   \"Hithaeglir\": \"a mountain range\",\n",
      "   \"Hither Lands\": \"Thing\",\n",
      "   \"Hither Shore\": \"Thing\",\n",
      "   \"Hithlum\": \"the region north of Beleriand\",\n",
      "   \"Holy Mountain\": \"as a set designer\",\n",
      "   \"Hunthor\": \"Thing\",\n",
      "   \"Hurin\": \"a fictional character in the Middle-earth legendarium\",\n",
      "   \"Hyarmentir\": \"Thing\",\n",
      "   \"Idril\": \"a fictional character in English author J. R. R. Tolkien\",\n",
      "   \"Ilmen\": \"Thing\",\n",
      "   \"Imlach\": \"a Canadian ice hockey coach\",\n",
      "   \"Indis\": \"a low-cost airline headquartered at Gurgaon\",\n",
      "   \"Ingwe\": \"a modern South African multi-role laser beam\",\n",
      "   \"Inner Seas\": \"a marine area designated by the International Hydrographic Organization\",\n",
      "   \"Into\": \"Thing\",\n",
      "   \"Iron\": \"a chemical element with symbol Fe\",\n",
      "   \"Ladros\": \"a term of respect\",\n",
      "   \"Lady\": \"a term of respect\",\n",
      "   \"Lady Aredhel\": \"Thing\",\n",
      "   \"Lady Galadriel\": \"a fictional character created by J.R.R\",\n",
      "   \"Lady Haleth\": \"the family of Men\",\n",
      "   \"LaerCu Beleg\": \"a major character who\",\n",
      "   \"Lalaith\": \"the second child of Húrin Thalion\",\n",
      "   \"Lammoth\": \"a district in Central London\",\n",
      "   \"Laurelin Varda\": \"Thing\",\n",
      "   \"Lindorie\": \"a category of women\",\n",
      "   \"Little\": \"a surname in the English language\",\n",
      "   \"Long\": \"Thing\",\n",
      "   \"Long Beren\": \"Thing\",\n",
      "   \"Long Peace\": \"a term for the unprecedented historical period\",\n",
      "   \"Long Wall\": \"a secure connection\",\n",
      "   \"Lord Curufin\": \"a fictional character\",\n",
      "   \"Lorgan\": \"Thing\",\n",
      "   \"Lothlann\": \"a region of the Scottish Lowlands\",\n",
      "   \"Lothlorien\": \"an important part in The Lord\",\n",
      "   \"Luthien\": \"a fictional character in the fantasy-world Middle-earth\",\n",
      "   \"Luthien Tmuviel\": \"Thing\",\n",
      "   \"Maeglin Aredhel\": \"a fictional character in J. R. R. Tolkien\",\n",
      "   \"Mahal\": \"an ivory-white marble mausoleum on the south bank\",\n",
      "   \"Maker\": \"Thing\",\n",
      "   \"Malach Aradan\": \"Thing\",\n",
      "   \"Malduin\": \"Thing\",\n",
      "   \"Mandos\": \"characters in J. R. R. Tolkien\",\n",
      "   \"Mankind\": \"Thing\",\n",
      "   \"Manwe Sulimo\": \"a fictional character in J. R. R. Tolkien\",\n",
      "   \"Marach\": \"an Austrian professional tennis player\",\n",
      "   \"Master\": \"Thing\",\n",
      "   \"Masterstone\": \"Thing\",\n",
      "   \"Melian\": \"the Maia\",\n",
      "   \"Melian Hurin\": \"the Maia\",\n",
      "   \"Melkor\": \"a surname of Dutch origin\",\n",
      "   \"Melkor Through\": \"Thing\",\n",
      "   \"Men\": \"Thing\",\n",
      "   \"Menegroth\": \"a forest realm of the Sindar\",\n",
      "   \"Menegroth Elwe Singollo\": \"a fictional character in J.R.R\",\n",
      "   \"Meneldil\": \"a list of the\",\n",
      "   \"Mickleburg\": \"Thing\",\n",
      "   \"Might\": \"Thing\",\n",
      "   \"Mim\": \"Thing\",\n",
      "   \"Minas Tirith\": \"a fictional city\",\n",
      "   \"Mindon Eldalieva\": \"Thing\",\n",
      "   \"Miriel Serinde\": \"a fictional Earth\",\n",
      "   \"Misty Mountains\": \"a mountain range\",\n",
      "   \"Mithlond\": \"the land beyond the Ered Luin\",\n",
      "   \"Mithrim\": \"the region north of Beleriand\",\n",
      "   \"Mlriel\": \"Thing\",\n",
      "   \"Moon\": \"an astronomical body\",\n",
      "   \"Mordor\": \"the realm\",\n",
      "   \"Morqoth\": \"Thing\",\n",
      "   \"Mount Dolmed\": \"many locations\",\n",
      "   \"Mount Rerir\": \"a powerful ruler\",\n",
      "   \"Mount Taras\": \"an important figure in Buddhism\",\n",
      "   \"Mountain\": \"a large landform\",\n",
      "   \"Mouths\": \"the opening through\",\n",
      "   \"NIENOR\": \"a fictional character from J. R. R. Tolkien\",\n",
      "   \"Namo\": \"Thing\",\n",
      "   \"Nan Elmoth\": \"the archetype for\",\n",
      "   \"Nantathren\": \"Thing\",\n",
      "   \"Nargothrond\": \"Nulukkhizdīn by the Dwarves\",\n",
      "   \"Nargothrond Sirion\": \"Thing\",\n",
      "   \"Nargothrond Turambar\": \"a fictional character in J. R. R. Tolkien\",\n",
      "   \"Narog\": \"many rivers\",\n",
      "   \"Neldoreth\": \"a forest realm of the Sindar\",\n",
      "   \"Nen Girith\": \"many locations\",\n",
      "   \"Nenarand Lumbar\": \"Thing\",\n",
      "   \"Nerdanel\": \"a fictional Earth\",\n",
      "   \"Nessa\": \"an American radio\",\n",
      "   \"Nether Darkness\": \"Thing\",\n",
      "   \"Nevrast\": \"Thing\",\n",
      "   \"Nienna\": \"a fictional character in J. R. R. Tolkien\",\n",
      "   \"Nightshade\": \"an economically important family of\",\n",
      "   \"Nimloth\": \"the name of an Elf-maid\",\n",
      "   \"Nine\": \"on January\",\n",
      "   \"Niniel\": \"a chemical element with symbol Ni\",\n",
      "   \"Nivrim\": \"Thing\",\n",
      "   \"North\": \"the opposite of south\",\n",
      "   \"North Downs\": \"a ridge of chalk hills\",\n",
      "   \"North Mithrandir\": \"a fictional character\",\n",
      "   \"Oath\": \"plight\",\n",
      "   \"Orodreth\": \"an Elf of the First Age\",\n",
      "   \"Orthanc\": \"someone\",\n",
      "   \"Pass\": \"Thing\",\n",
      "   \"Pelargir\": \"Thing\",\n",
      "   \"Quest\": \"a journey toward a specific mission\",\n",
      "   \"Rathloriel\": \"the land beyond the Ered Luin\",\n",
      "   \"Rauros\": \"the Sindarin name for the Great River\",\n",
      "   \"Realm\": \"a community\",\n",
      "   \"Rings\": \"Thing\",\n",
      "   \"River Adurant\": \"Thing\",\n",
      "   \"River Esgalduin\": \"many rivers\",\n",
      "   \"River Lhun\": \"many rivers\",\n",
      "   \"Rivers\": \"a natural flowing watercourse\",\n",
      "   \"Rivil\": \"Thing\",\n",
      "   \"Rohan\": \"Thing\",\n",
      "   \"Rothinzil\": \"Thing\",\n",
      "   \"Rumil\": \"a fictional Earth\",\n",
      "   \"Sarn Athrad\": \"many locations\",\n",
      "   \"Sauron Beren\": \"the title character\",\n",
      "   \"Serech\": \"Thing\",\n",
      "   \"Serinde\": \"an ɑ-amino acid\",\n",
      "   \"Seven Hoards\": \"an American reality television series\",\n",
      "   \"Seven Rivers\": \"a wide geographical horizon\",\n",
      "   \"Seven Stars\": \"Thing\",\n",
      "   \"Shadowy Mountains\": \"Thing\",\n",
      "   \"Sharp Glance\": \"a fictional character in J. R. R. Tolkien\",\n",
      "   \"Silent Land\": \"the second various-artists compilation album from Constellation Records\",\n",
      "   \"Silmarien\": \"a list of the twenty-five rulers\",\n",
      "   \"Silpion\": \"Thing\",\n",
      "   \"Silvan Elves\": \"a type of Elves\",\n",
      "   \"Sirion\": \"Thing\",\n",
      "   \"Sorcery\": \"Thing\",\n",
      "   \"South\": \"the opposite of north\",\n",
      "   \"Southward\": \"a district of Central London\",\n",
      "   \"Spirit\": \"Thing\",\n",
      "   \"Stewards\": \"Thing\",\n",
      "   \"Strong\": \"Thing\",\n",
      "   \"Sudden Flame\": \"the fourth battle of the Wars\",\n",
      "   \"Swiftly Beren\": \"Thing\",\n",
      "   \"TURAMBAR\": \"a fictional character in J. R. R. Tolkien\",\n",
      "   \"TURIN\": \"toˈriːno ]\",\n",
      "   \"Taniquetil\": \"Thing\",\n",
      "   \"Teiglin Turin\": \"a fictional character from J. R. R. Tolkien\",\n",
      "   \"Telerin\": \"a constructed language devised by J. R. R. Tolkien\",\n",
      "   \"Telperion\": \"Telperion\",\n",
      "   \"Telumendil\": \"aspects of Christian theology\",\n",
      "   \"Thangorodrim\": \"Thing\",\n",
      "   \"Thargelion\": \"many locations\",\n",
      "   \"Thorondor\": \"guardians of plant life\",\n",
      "   \"Three\": \"Thing\",\n",
      "   \"Three Kindreds\": \"Thing\",\n",
      "   \"Tinuviel\": \"a fictional character in the fantasy-world Middle-earth\",\n",
      "   \"Tlrion\": \"Thing\",\n",
      "   \"Tol Eressea\": \"an island visited by the Anglo-Saxon traveller Ælfwine\",\n",
      "   \"Tol Galen\": \"many locations\",\n",
      "   \"Tree\": \"a perennial plant with an elongated stem\",\n",
      "   \"Trees Galadriel\": \"a fictional character created by J.R.R\",\n",
      "   \"Tumunzahar\": \"many locations\",\n",
      "   \"Tuna\": \"a saltwater fish\",\n",
      "   \"Tuneless Halls\": \"Thing\",\n",
      "   \"Tuor\": \"a fictional character from J. R. R. Tolkien\",\n",
      "   \"Tur Haretha\": \"Thing\",\n",
      "   \"Turgon\": \"an Elven king of the Noldor\",\n",
      "   \"Twilight Meres\": \"Thing\",\n",
      "   \"Uinen\": \"a fictional character in J.R.R\",\n",
      "   \"Ulairi\": \"Ringwraiths\",\n",
      "   \"Ulmo Turgon\": \"an Elven king of the Noldor\",\n",
      "   \"Ulumuri\": \"a mountain range in eastern Tanzania\",\n",
      "   \"Underworld\": \"the world of the dead in various religious traditions\",\n",
      "   \"Ungoliant\": \"a fictional character in J. R. R. Tolkien\",\n",
      "   \"Unrest\": \"a sociological phenomenon\",\n",
      "   \"Upon Doriath\": \"a forest realm of the Sindar\",\n",
      "   \"Uruloki\": \"the terms drake\",\n",
      "   \"VALAQUENTA\": \"the second section of The Silmarillion\",\n",
      "   \"Vaire\": \"a commune in the Doubs department\",\n",
      "   \"Vala\": \"Thing\",\n",
      "   \"Valar\": \"Thing\",\n",
      "   \"Valiant\": \"Thing\",\n",
      "   \"Valier\": \"Thing\",\n",
      "   \"Valimar\": \"an Old High German\",\n",
      "   \"Valinor\": \"a fictional location in J. R. R. Tolkien\",\n",
      "   \"Valley\": \"a low area between hills\",\n",
      "   \"Vana\": \"Thing\",\n",
      "   \"Vanyar\": \"the Vanya Elf\",\n",
      "   \"Vilya\": \"magical artifacts forged by the Elves\",\n",
      "   \"Vingilot\": \"several noteworthy objects\",\n",
      "   \"Walla\": \"East Walla Walla\",\n",
      "   \"Water\": \"a transparent\",\n",
      "   \"Waters\": \"Thing\",\n",
      "   \"Waters Voronwe\": \"Thing\",\n",
      "   \"Western Sea\": \"Thing\",\n",
      "   \"White Mountain\": \"Thing\",\n",
      "   \"White Mountains\": \"Thing\",\n",
      "   \"White Telperion\": \"Telperion\",\n",
      "   \"Wildman\": \"Thing\",\n",
      "   \"Willows\": \"sallows\",\n",
      "   \"Wilt\": \"Thing\",\n",
      "   \"Winged Crown\": \"light cavalry of exiled Serbian warriors\",\n",
      "   \"Wise\": \"Thing\",\n",
      "   \"Wizards\": \"Thing\",\n",
      "   \"Wolf\": \"a canine native\",\n",
      "   \"Worm\": \"a long cylindrical tube-like body\",\n",
      "   \"Wrath\": \"an intense emotional state\",\n",
      "   \"Wrath Bright Earendil\": \"a fictional character in J. R. R. Tolkien\",\n",
      "   \"Younger\": \"Thing\",\n",
      "   \"butAule\": \"a fictional character from J. R. R. Tolkien\",\n",
      "   \"ofArda Melkor\": \"Thing\"\n",
      "}\n"
     ]
    }
   ],
   "source": [
    "print(\"Only NE: \")\n",
    "print(list(ne_entities)[0:25])\n",
    "\n",
    "## Printing found Wikipedia results for couple of named entities:\n",
    "#entities = list(ne_entities)[30:70]\n",
    "#getCategories(entities)\n",
    "\n",
    "\"\"\"create wordbook from nltk entities and save them to named_entitites_wordbook.txt file\"\"\"\n",
    "getCategories(list(ne_entities)[0:400], True) #250 should be enough for demonstration"
   ]
  },
  {
   "cell_type": "markdown",
   "metadata": {},
   "source": [
    "The results are not always successfull even when the right Wikipedia page is found. For example \"Morgoth\" is described as the \"evil in the world if Middle-earth\" but the first word in this description is of course considered a verb thus after erasing it to get a noun phrase (\"in the world if Middle-earth\") the description no longer makes any sense.\n",
    "\n",
    "Other words (Teleri, Exiles etc.) are simply not described conveniently to be easily parsed. If anything I was actually impressed by how many of the terms were even found on Wikipedia.\n"
   ]
  },
  {
   "cell_type": "code",
   "execution_count": 38,
   "metadata": {},
   "outputs": [
    {
     "name": "stdout",
     "output_type": "stream",
     "text": [
      "{\n",
      "   \"AINU LIN DALE\": \"a list of people\",\n",
      "   \"Abyss\": \"with an oil platform crew\",\n",
      "   \"Ainu\": \"an indigenous people of Japan\",\n",
      "   \"Ainur\": \"the immortal spirits\",\n",
      "   \"Arda\": \"a Turkish professional footballer who\",\n",
      "   \"Astaldo\": \"Thing\",\n",
      "   \"Aule\": \"a fictional character from J. R. R. Tolkien\",\n",
      "   \"Behold\": \"a brand of furniture polish\",\n",
      "   \"Being\": \"the existence of a thing\",\n",
      "   \"Being things\": \"the existence of a thing\",\n",
      "   \"Both\": \"Thing\",\n",
      "   \"Breath of Arda\": \"a fictional character in J. R. R. Tolkien\",\n",
      "   \"Children of Eru\": \"a fictional character in J.R.R\",\n",
      "   \"Children of Iluvatar\": \"the name given\",\n",
      "   \"Children of Iluvatar arise therein\": \"Thing\",\n",
      "   \"Children of Iluvatar hearken\": \"Thing\",\n",
      "   \"Darkness\": \"Thing\",\n",
      "   \"Dead\": \"Thing\",\n",
      "   \"Deeps of Time\": \"the concept of geologic time\",\n",
      "   \"Deeps of Time Melkor hath\": \"Thing\",\n",
      "   \"Deer\": \"the hoofed ruminant mammals\",\n",
      "   \"Dominion of Men\": \"a period in J.R.R\",\n",
      "   \"Doomsman\": \"Thing\",\n",
      "   \"Ea\": \"an American video game company headquartered in Redwood City\",\n",
      "   \"Earth\": \"the third planet from the Sun\",\n",
      "   \"Elbereth\": \"Thing\",\n",
      "   \"Eldalie\": \"a surname\",\n",
      "   \"Eldar\": \"Thing\",\n",
      "   \"Eldarin tongue\": \"a constructed language devised by J. R. R. Tolkien\",\n",
      "   \"Elves\": \"a type of human-shaped supernatural\",\n",
      "   \"Elves call Arda\": \"Thing\",\n",
      "   \"Elvish tongue\": \"Thing\",\n",
      "   \"Eru\": \"a fictional character in J.R.R\",\n",
      "   \"Este\": \"Thing\",\n",
      "   \"Feanturi\": \"Thing\",\n",
      "   \"Fire\": \"the rapid oxidation of a material\",\n",
      "   \"Firmament\": \"the structure above the atmosphere\",\n",
      "   \"Firstborn\": \"the first child born\",\n",
      "   \"Flame\": \"Thing\",\n",
      "   \"Flame Imperishable\": \"aspects of Christian theology\",\n",
      "   \"Followers\": \"Thing\",\n",
      "   \"Giver of Fruits\": \"the seed-bearing structure in\",\n",
      "   \"Great\": \"Thing\",\n",
      "   \"Great Music\": \"an album by American composer\",\n",
      "   \"Great Ones\": \"Thing\",\n",
      "   \"Great Ones array\": \"an electronically scanned array\",\n",
      "   \"Grey\": \"an intermediate color between black\",\n",
      "   \"Holy Ones\": \"Sancti\",\n",
      "   \"Houses\": \"a building\",\n",
      "   \"Iluvatar\": \"a fictional character in J.R.R\",\n",
      "   \"Iluvatar arose\": \"Thing\",\n",
      "   \"Irmo\": \"Thing\",\n",
      "   \"Judgements\": \"the evaluation of evidence\",\n",
      "   \"Kementari\": \"characters in J. R. R. Tolkien\",\n",
      "   \"King\": \"the title given\",\n",
      "   \"Kingdom of Arda\": \"the name given\",\n",
      "   \"Kingdom of Earth\": \"an archaic conception of Earth\",\n",
      "   \"Kings\": \"Thing\",\n",
      "   \"Lady\": \"a term of respect\",\n",
      "   \"Later Ages\": \"relatively little material on the ages\",\n",
      "   \"Long\": \"Thing\",\n",
      "   \"Lord\": \"an appellation for a person\",\n",
      "   \"Lord of Waters\": \"Thing\",\n",
      "   \"Lords\": \"the upper house of the Parliament\",\n",
      "   \"Lorien\": \"Thing\",\n",
      "   \"Maiar\": \"Thing\",\n",
      "   \"Mandos\": \"characters in J. R. R. Tolkien\",\n",
      "   \"Mandos cry\": \"a Canadian film\",\n",
      "   \"Manwe\": \"a fictional character in J. R. R. Tolkien\",\n",
      "   \"Manwe dwells Varda\": \"Thing\",\n",
      "   \"Melkor\": \"a surname of Dutch origin\",\n",
      "   \"Melkor hath\": \"Thing\",\n",
      "   \"Men\": \"Thing\",\n",
      "   \"Middle-earth\": \"the fictional setting of much of British writer J. R. R. Tolkien\",\n",
      "   \"Music\": \"an art form\",\n",
      "   \"Namo\": \"Thing\",\n",
      "   \"Nessa\": \"an American radio\",\n",
      "   \"Nienna\": \"a fictional character in J. R. R. Tolkien\",\n",
      "   \"Noldor\": \"High Elves of the Second Clan\",\n",
      "   \"Nonetheless Ulmo\": \"Thing\",\n",
      "   \"Oiolosse\": \"Thing\",\n",
      "   \"Orome\": \"Thing\",\n",
      "   \"Powers\": \"Thing\",\n",
      "   \"Powers of Arda\": \"Arda\",\n",
      "   \"Queen\": \"Thing\",\n",
      "   \"Queens\": \"the easternmost of the\",\n",
      "   \"Sea\": \"the connected body of salty water\",\n",
      "   \"Secret Fire\": \"aspects of Christian theology\",\n",
      "   \"Stars\": \"Thing\",\n",
      "   \"Sulimo\": \"Thing\",\n",
      "   \"Sun\": \"the star at the center\",\n",
      "   \"Therefore Iluvatar\": \"Arda\",\n",
      "   \"Thus news\": \"information about current events\",\n",
      "   \"Time\": \"the indefinite continued progress of existence\",\n",
      "   \"Too\": \"Thing\",\n",
      "   \"Tulkas\": \"an English singer-songwriter\",\n",
      "   \"Tuneless Halls\": \"Thing\",\n",
      "   \"Ulmo\": \"a fictional character in J. R. R. Tolkien\",\n",
      "   \"Ulmo speaks\": \"Thing\",\n",
      "   \"Ulumuri\": \"a mountain range in eastern Tanzania\",\n",
      "   \"V alar\": \"Thing\",\n",
      "   \"VALAQUENTA Account\": \"a collection of mythopoeic works\",\n",
      "   \"Vaire\": \"a commune in the Doubs department\",\n",
      "   \"Valar\": \"Thing\",\n",
      "   \"Valiant\": \"Thing\",\n",
      "   \"Valier\": \"Thing\",\n",
      "   \"Valimar\": \"an Old High German\",\n",
      "   \"Valinor\": \"a fictional location in J. R. R. Tolkien\",\n",
      "   \"Vana\": \"Thing\",\n",
      "   \"Varda\": \"a French film director\",\n",
      "   \"Veil of Arda\": \"a monotheistic faith\",\n",
      "   \"Vision\": \"Thing\",\n",
      "   \"Vision of Iluvatar\": \"characters in J. R. R. Tolkien\",\n",
      "   \"Void\": \"Thing\",\n",
      "   \"Water\": \"a transparent\",\n",
      "   \"Weaver\": \"Thing\",\n",
      "   \"West\": \"the opposite direction from east\",\n",
      "   \"Whereas Melkor\": \"Thing\",\n",
      "   \"World\": \"the planet Earth\",\n",
      "   \"Yavanna\": \"a fictional character from J. R. R. Tolkien\"\n",
      "}\n"
     ]
    }
   ],
   "source": [
    "## Comparison between nltk Wikipedia entities (ne_entities) and custom extracted entities\n",
    "\"\"\"create wordbook from custom entities and save them to custom.txt file\"\"\"\n",
    "getCategories(list(custom)[0:400], True, './../res/custom.txt') #250 should be enough for demonstration"
   ]
  },
  {
   "cell_type": "markdown",
   "metadata": {},
   "source": [
    "In conclusion, the resulting custom.txt file shows that, as expected, more entities weren't found as a wikipedia topic and thus categorized as \"Thing\". In adittion, the categorization could not correctly assign many made-up terms, especially those regarding non-english grammar rules, i.e. Ainu (singular) as from Ainur (plural), Ea, Eldar, ..."
   ]
  },
  {
   "cell_type": "code",
   "execution_count": null,
   "metadata": {},
   "outputs": [],
   "source": []
  }
 ],
 "metadata": {
  "kernelspec": {
   "display_name": "Python 3.9.13 64-bit (windows store)",
   "language": "python",
   "name": "python3"
  },
  "language_info": {
   "codemirror_mode": {
    "name": "ipython",
    "version": 3
   },
   "file_extension": ".py",
   "mimetype": "text/x-python",
   "name": "python",
   "nbconvert_exporter": "python",
   "pygments_lexer": "ipython3",
   "version": "3.9.13"
  },
  "vscode": {
   "interpreter": {
    "hash": "9da297d614bb2667dfb21fadcf07f5f64679004c9ae9ad9a1b5a03e6f7f19cbc"
   }
  }
 },
 "nbformat": 4,
 "nbformat_minor": 2
}
