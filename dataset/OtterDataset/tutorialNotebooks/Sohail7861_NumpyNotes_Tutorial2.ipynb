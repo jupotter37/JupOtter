{
 "cells": [
  {
   "cell_type": "markdown",
   "id": "38e02bee-47e5-405c-aea1-a2685c680efb",
   "metadata": {},
   "source": [
    "                                *** Concepts Covered ***\n",
    "Tutorial 2 : Numpy Version Checking, Dimension Checking, Higher Dimension Arrays, Indexing 1D and 2D,\n",
    "             Slicing"
   ]
  },
  {
   "cell_type": "markdown",
   "id": "50883b6a-f5f2-44bd-9635-49360dffaf3d",
   "metadata": {},
   "source": [
    "1. Version Checking"
   ]
  },
  {
   "cell_type": "code",
   "execution_count": 1,
   "id": "391f9be0-05a0-48d0-bcef-05266ec71f24",
   "metadata": {},
   "outputs": [
    {
     "name": "stdout",
     "output_type": "stream",
     "text": [
      "1.26.4\n"
     ]
    }
   ],
   "source": [
    "import numpy as np\n",
    "print(np.__version__)"
   ]
  },
  {
   "cell_type": "markdown",
   "id": "d8401f70-557d-4aec-a226-96184e13ae99",
   "metadata": {},
   "source": [
    "2. Dimension Checking"
   ]
  },
  {
   "cell_type": "code",
   "execution_count": 6,
   "id": "027c593c-0fe1-4ec2-af68-96761f8d69e9",
   "metadata": {},
   "outputs": [
    {
     "data": {
      "text/plain": [
       "1"
      ]
     },
     "execution_count": 6,
     "metadata": {},
     "output_type": "execute_result"
    }
   ],
   "source": [
    "arr1=np.arange(10)\n",
    "arr1.ndim"
   ]
  },
  {
   "cell_type": "code",
   "execution_count": 7,
   "id": "829c9977-717a-48b4-a8f6-185dad395474",
   "metadata": {},
   "outputs": [
    {
     "data": {
      "text/plain": [
       "2"
      ]
     },
     "execution_count": 7,
     "metadata": {},
     "output_type": "execute_result"
    }
   ],
   "source": [
    "arr2=np.array([[1,2,3],[4,5,6]])\n",
    "arr2.ndim"
   ]
  },
  {
   "cell_type": "markdown",
   "id": "8f882dd6-5964-4792-ac7f-185c08b7648a",
   "metadata": {},
   "source": [
    "3. Higher Dimensional Arrays"
   ]
  },
  {
   "cell_type": "code",
   "execution_count": 10,
   "id": "eb1efad1-3a3a-4229-a7b8-a0bd70f975d0",
   "metadata": {},
   "outputs": [
    {
     "data": {
      "text/plain": [
       "array([[[[[1, 2, 3, 4, 5]]]]])"
      ]
     },
     "execution_count": 10,
     "metadata": {},
     "output_type": "execute_result"
    }
   ],
   "source": [
    "arr3=np.array([1,2,3,4,5],ndmin=5)\n",
    "arr3"
   ]
  },
  {
   "cell_type": "code",
   "execution_count": 11,
   "id": "8f66fbb7-03f2-4625-b46f-ed8a04ddd512",
   "metadata": {},
   "outputs": [
    {
     "data": {
      "text/plain": [
       "5"
      ]
     },
     "execution_count": 11,
     "metadata": {},
     "output_type": "execute_result"
    }
   ],
   "source": [
    "arr3.ndim"
   ]
  },
  {
   "cell_type": "markdown",
   "id": "3d63f247-b6da-4255-b424-b0ea96c8c82e",
   "metadata": {},
   "source": [
    "4. Indexing"
   ]
  },
  {
   "cell_type": "code",
   "execution_count": 12,
   "id": "1a12f954-9719-4afe-95d3-98a5cb0f2a83",
   "metadata": {},
   "outputs": [
    {
     "data": {
      "text/plain": [
       "2"
      ]
     },
     "execution_count": 12,
     "metadata": {},
     "output_type": "execute_result"
    }
   ],
   "source": [
    "# 1D Array\n",
    "ar1=np.arange(10)\n",
    "ar1[2]"
   ]
  },
  {
   "cell_type": "code",
   "execution_count": 13,
   "id": "05e6ac70-ed7b-4a06-b5e5-78de81c1391e",
   "metadata": {},
   "outputs": [
    {
     "data": {
      "text/plain": [
       "8"
      ]
     },
     "execution_count": 13,
     "metadata": {},
     "output_type": "execute_result"
    }
   ],
   "source": [
    "ar1[3]+ar1[5]"
   ]
  },
  {
   "cell_type": "code",
   "execution_count": 15,
   "id": "e78e9b23-052c-4d46-98c5-470e70bce73e",
   "metadata": {},
   "outputs": [],
   "source": [
    "# 2D Array\n",
    "ar2=np.array([[1,2,3],[4,5,6]])"
   ]
  },
  {
   "cell_type": "code",
   "execution_count": 16,
   "id": "cfd0e84e-2f03-469f-871e-214585a4818f",
   "metadata": {},
   "outputs": [
    {
     "data": {
      "text/plain": [
       "2"
      ]
     },
     "execution_count": 16,
     "metadata": {},
     "output_type": "execute_result"
    }
   ],
   "source": [
    "ar2[0,1]"
   ]
  },
  {
   "cell_type": "code",
   "execution_count": 17,
   "id": "8de9bbcf-8af9-497c-98ab-a0215e969af4",
   "metadata": {},
   "outputs": [
    {
     "data": {
      "text/plain": [
       "6"
      ]
     },
     "execution_count": 17,
     "metadata": {},
     "output_type": "execute_result"
    }
   ],
   "source": [
    "ar2[1,2]"
   ]
  },
  {
   "cell_type": "code",
   "execution_count": 26,
   "id": "4fde4aea-7b5f-4832-aeb2-8eb3e4d351d2",
   "metadata": {},
   "outputs": [
    {
     "data": {
      "text/plain": [
       "6"
      ]
     },
     "execution_count": 26,
     "metadata": {},
     "output_type": "execute_result"
    }
   ],
   "source": [
    "# 3D Array\n",
    "ar3=np.array([[[1,2,3],[4,5,6]],[[7,8,9],[10,11,12]]])\n",
    "ar3[0,1,2]  # 0->1st 2D Array, 1->Row num, 2->Col Num"
   ]
  },
  {
   "cell_type": "markdown",
   "id": "c97bf4cf-7757-43cf-95bc-7391f3e5f6f9",
   "metadata": {},
   "source": [
    "5. Slicing"
   ]
  },
  {
   "cell_type": "code",
   "execution_count": 40,
   "id": "dc0da9b3-1a4a-4f5d-8dd1-26eb429425b2",
   "metadata": {},
   "outputs": [
    {
     "data": {
      "text/plain": [
       "array([3, 4, 5])"
      ]
     },
     "execution_count": 40,
     "metadata": {},
     "output_type": "execute_result"
    }
   ],
   "source": [
    "#Slicing 1D Arrays\n",
    "a1=np.array([1,2,3,4,5,6])\n",
    "a1[2:5]"
   ]
  },
  {
   "cell_type": "code",
   "execution_count": 33,
   "id": "28b83d94-4c7e-490e-a9bc-7c36a464f197",
   "metadata": {},
   "outputs": [
    {
     "data": {
      "text/plain": [
       "array([2, 3, 4, 5, 6])"
      ]
     },
     "execution_count": 33,
     "metadata": {},
     "output_type": "execute_result"
    }
   ],
   "source": [
    "a1[1:]   # Starting index will skip first value BUT not last value"
   ]
  },
  {
   "cell_type": "code",
   "execution_count": 34,
   "id": "dcfba141-77ba-41ae-8ad8-8a9044451c84",
   "metadata": {},
   "outputs": [
    {
     "data": {
      "text/plain": [
       "array([1, 2, 3, 4, 5])"
      ]
     },
     "execution_count": 34,
     "metadata": {},
     "output_type": "execute_result"
    }
   ],
   "source": [
    "a1[:5]"
   ]
  },
  {
   "cell_type": "code",
   "execution_count": 37,
   "id": "772fcd34-5574-4407-8f6f-41abc84bb135",
   "metadata": {},
   "outputs": [
    {
     "data": {
      "text/plain": [
       "array([3, 4, 5])"
      ]
     },
     "execution_count": 37,
     "metadata": {},
     "output_type": "execute_result"
    }
   ],
   "source": [
    "a1[-4:-1]"
   ]
  },
  {
   "cell_type": "code",
   "execution_count": 38,
   "id": "a4521d17-fe26-4ef2-904a-572b9fa6cbbe",
   "metadata": {},
   "outputs": [
    {
     "data": {
      "text/plain": [
       "array([2, 4, 6])"
      ]
     },
     "execution_count": 38,
     "metadata": {},
     "output_type": "execute_result"
    }
   ],
   "source": [
    "#Step - Decidies number of skips\n",
    "a1[1:6:2]  # 2 is Step"
   ]
  },
  {
   "cell_type": "code",
   "execution_count": 39,
   "id": "386decf1-484b-489e-a130-be8e914ffece",
   "metadata": {},
   "outputs": [
    {
     "data": {
      "text/plain": [
       "array([1, 3, 5])"
      ]
     },
     "execution_count": 39,
     "metadata": {},
     "output_type": "execute_result"
    }
   ],
   "source": [
    "a1[::2]"
   ]
  },
  {
   "cell_type": "code",
   "execution_count": 43,
   "id": "9f651c5d-9c7e-461d-a93f-a2b1f024ec1b",
   "metadata": {},
   "outputs": [
    {
     "data": {
      "text/plain": [
       "array([6, 7, 8])"
      ]
     },
     "execution_count": 43,
     "metadata": {},
     "output_type": "execute_result"
    }
   ],
   "source": [
    "# Slicing 2D Arrays\n",
    "a2=np.array([[1,2,3,4,5],[5,6,7,8,9]])\n",
    "\n",
    "a2[1,1:4]"
   ]
  },
  {
   "cell_type": "code",
   "execution_count": 46,
   "id": "ef6c66e5-d637-4c29-baa4-a32134542ca2",
   "metadata": {},
   "outputs": [
    {
     "data": {
      "text/plain": [
       "array([3, 7])"
      ]
     },
     "execution_count": 46,
     "metadata": {},
     "output_type": "execute_result"
    }
   ],
   "source": [
    "a2[0:2,2]"
   ]
  },
  {
   "cell_type": "code",
   "execution_count": 47,
   "id": "f7d4f1f6-b01a-4511-8c6b-2a7876d6e392",
   "metadata": {},
   "outputs": [
    {
     "data": {
      "text/plain": [
       "array([[2, 3],\n",
       "       [6, 7]])"
      ]
     },
     "execution_count": 47,
     "metadata": {},
     "output_type": "execute_result"
    }
   ],
   "source": [
    "a2[0:2,1:3]"
   ]
  },
  {
   "cell_type": "code",
   "execution_count": null,
   "id": "8f71e784-233e-4600-b45e-b9eb34005a9e",
   "metadata": {},
   "outputs": [],
   "source": []
  }
 ],
 "metadata": {
  "kernelspec": {
   "display_name": "Python 3 (ipykernel)",
   "language": "python",
   "name": "python3"
  },
  "language_info": {
   "codemirror_mode": {
    "name": "ipython",
    "version": 3
   },
   "file_extension": ".py",
   "mimetype": "text/x-python",
   "name": "python",
   "nbconvert_exporter": "python",
   "pygments_lexer": "ipython3",
   "version": "3.12.4"
  }
 },
 "nbformat": 4,
 "nbformat_minor": 5
}
