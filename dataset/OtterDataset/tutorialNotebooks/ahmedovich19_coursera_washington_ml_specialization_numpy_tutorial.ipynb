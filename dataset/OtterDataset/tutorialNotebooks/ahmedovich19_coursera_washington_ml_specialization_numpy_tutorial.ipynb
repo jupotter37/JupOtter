{
  "nbformat": 4,
  "nbformat_minor": 0,
  "metadata": {
    "kernelspec": {
      "display_name": "Python 2",
      "language": "python",
      "name": "python2"
    },
    "language_info": {
      "codemirror_mode": {
        "name": "ipython",
        "version": 2
      },
      "file_extension": ".py",
      "mimetype": "text/x-python",
      "name": "python",
      "nbconvert_exporter": "python",
      "pygments_lexer": "ipython2",
      "version": "2.7.15"
    },
    "colab": {
      "name": "numpy-tutorial.ipynb",
      "provenance": []
    }
  },
  "cells": [
    {
      "cell_type": "markdown",
      "metadata": {
        "id": "DCfSKG-ttU76"
      },
      "source": [
        "# Numpy Tutorial"
      ]
    },
    {
      "cell_type": "markdown",
      "metadata": {
        "id": "w2mPAE6ptU8V"
      },
      "source": [
        "Numpy is a computational library for Python that is optimized for operations on multi-dimensional arrays. In this notebook we will use numpy to work with 1-d arrays (often called vectors) and 2-d arrays (often called matrices).\n",
        "\n",
        "For a the full user guide and reference for numpy see: http://docs.scipy.org/doc/numpy/"
      ]
    },
    {
      "cell_type": "code",
      "metadata": {
        "id": "YiVkhlXjtU8m"
      },
      "source": [
        "import numpy as np # importing this way allows us to refer to numpy as np"
      ],
      "execution_count": null,
      "outputs": []
    },
    {
      "cell_type": "markdown",
      "metadata": {
        "id": "Ak_SBjUbtU9q"
      },
      "source": [
        "# Creating Numpy Arrays"
      ]
    },
    {
      "cell_type": "markdown",
      "metadata": {
        "id": "8bfCF39ttU9_"
      },
      "source": [
        "New arrays can be made in several ways. We can take an existing list and convert it to a numpy array:"
      ]
    },
    {
      "cell_type": "code",
      "metadata": {
        "id": "xmslnkOZtU-X",
        "colab": {
          "base_uri": "https://localhost:8080/",
          "height": 35
        },
        "outputId": "0fa0293d-21e1-43be-d37f-ac35ba607c8d"
      },
      "source": [
        "mylist = [1., 2., 3., 4.]\n",
        "mynparray = np.array(mylist)\n",
        "mynparray"
      ],
      "execution_count": null,
      "outputs": [
        {
          "output_type": "execute_result",
          "data": {
            "text/plain": [
              "array([1., 2., 3., 4.])"
            ]
          },
          "metadata": {
            "tags": []
          },
          "execution_count": 2
        }
      ]
    },
    {
      "cell_type": "markdown",
      "metadata": {
        "id": "dTqdSuWAtU-6"
      },
      "source": [
        "You can initialize an array (of any dimension) of all ones or all zeroes with the ones() and zeros() functions:"
      ]
    },
    {
      "cell_type": "code",
      "metadata": {
        "id": "GFat4C3RtU_D",
        "colab": {
          "base_uri": "https://localhost:8080/",
          "height": 35
        },
        "outputId": "0e46a509-ccf9-4c12-be81-118523615b25"
      },
      "source": [
        "one_vector = np.ones(4)\n",
        "print one_vector # using print removes the array() portion"
      ],
      "execution_count": null,
      "outputs": [
        {
          "output_type": "stream",
          "text": [
            "[1. 1. 1. 1.]\n"
          ],
          "name": "stdout"
        }
      ]
    },
    {
      "cell_type": "code",
      "metadata": {
        "id": "1epEW5ZTtU_i",
        "colab": {
          "base_uri": "https://localhost:8080/",
          "height": 54
        },
        "outputId": "322c9655-0a05-427c-f9ac-0878fefe0a21"
      },
      "source": [
        "one2Darray = np.ones((2, 4)) # an 2D array with 2 \"rows\" and 4 \"columns\"\n",
        "print one2Darray"
      ],
      "execution_count": null,
      "outputs": [
        {
          "output_type": "stream",
          "text": [
            "[[1. 1. 1. 1.]\n",
            " [1. 1. 1. 1.]]\n"
          ],
          "name": "stdout"
        }
      ]
    },
    {
      "cell_type": "code",
      "metadata": {
        "id": "F7AOAAM6tVAE",
        "colab": {
          "base_uri": "https://localhost:8080/",
          "height": 35
        },
        "outputId": "15cf8161-6d38-4ec1-87d4-959036ba5b90"
      },
      "source": [
        "zero_vector = np.zeros(4)\n",
        "print zero_vector"
      ],
      "execution_count": null,
      "outputs": [
        {
          "output_type": "stream",
          "text": [
            "[0. 0. 0. 0.]\n"
          ],
          "name": "stdout"
        }
      ]
    },
    {
      "cell_type": "markdown",
      "metadata": {
        "id": "tFmf10LntVAc"
      },
      "source": [
        "You can also initialize an empty array which will be filled with values. This is the fastest way to initialize a fixed-size numpy array however you must ensure that you replace all of the values."
      ]
    },
    {
      "cell_type": "code",
      "metadata": {
        "id": "olSU3O7btVAi",
        "colab": {
          "base_uri": "https://localhost:8080/",
          "height": 35
        },
        "outputId": "73e8d4a3-2011-406e-c070-9b73044ea7e2"
      },
      "source": [
        "empty_vector = np.empty(5)\n",
        "print empty_vector"
      ],
      "execution_count": null,
      "outputs": [
        {
          "output_type": "stream",
          "text": [
            "[0.   0.25 0.5  0.75 1.  ]\n"
          ],
          "name": "stdout"
        }
      ]
    },
    {
      "cell_type": "markdown",
      "metadata": {
        "id": "RrH-Wo2YtVBA"
      },
      "source": [
        "# Accessing array elements"
      ]
    },
    {
      "cell_type": "markdown",
      "metadata": {
        "id": "OoSIczbetVBH"
      },
      "source": [
        "Accessing an array is straight forward. For vectors you access the index by referring to it inside square brackets. Recall that indices in Python start with 0."
      ]
    },
    {
      "cell_type": "code",
      "metadata": {
        "id": "Wr7nHiNRtVBQ",
        "colab": {
          "base_uri": "https://localhost:8080/",
          "height": 35
        },
        "outputId": "2116905a-cbf7-4864-a947-d82ba536ca70"
      },
      "source": [
        "mynparray[2]"
      ],
      "execution_count": null,
      "outputs": [
        {
          "output_type": "execute_result",
          "data": {
            "text/plain": [
              "3.0"
            ]
          },
          "metadata": {
            "tags": []
          },
          "execution_count": 7
        }
      ]
    },
    {
      "cell_type": "markdown",
      "metadata": {
        "id": "5yv9TBoJtVBr"
      },
      "source": [
        "2D arrays are accessed similarly by referring to the row and column index separated by a comma:"
      ]
    },
    {
      "cell_type": "code",
      "metadata": {
        "id": "Y4hmk3lRtVBz",
        "colab": {
          "base_uri": "https://localhost:8080/",
          "height": 54
        },
        "outputId": "be87dc7a-0b9a-42cd-ed51-972e742a6a3c"
      },
      "source": [
        "my_matrix = np.array([[1, 2, 3], [4, 5, 6]])\n",
        "print my_matrix"
      ],
      "execution_count": null,
      "outputs": [
        {
          "output_type": "stream",
          "text": [
            "[[1 2 3]\n",
            " [4 5 6]]\n"
          ],
          "name": "stdout"
        }
      ]
    },
    {
      "cell_type": "code",
      "metadata": {
        "id": "Qx9pevk5tVCM",
        "colab": {
          "base_uri": "https://localhost:8080/",
          "height": 35
        },
        "outputId": "7bfaa3e5-9131-44b7-da2a-9bca1c9763b1"
      },
      "source": [
        "print my_matrix[1, 2]"
      ],
      "execution_count": null,
      "outputs": [
        {
          "output_type": "stream",
          "text": [
            "6\n"
          ],
          "name": "stdout"
        }
      ]
    },
    {
      "cell_type": "markdown",
      "metadata": {
        "id": "P65J1oPgtVC3"
      },
      "source": [
        "Sequences of indices can be accessed using ':' for example"
      ]
    },
    {
      "cell_type": "code",
      "metadata": {
        "id": "xGmvCM8TtVC8",
        "colab": {
          "base_uri": "https://localhost:8080/",
          "height": 35
        },
        "outputId": "1b8a55bf-0f08-4bbb-ff66-6ed0f0fdb200"
      },
      "source": [
        "print my_matrix[0:2, 2] # recall 0:2 = [0, 1]"
      ],
      "execution_count": null,
      "outputs": [
        {
          "output_type": "stream",
          "text": [
            "[3 6]\n"
          ],
          "name": "stdout"
        }
      ]
    },
    {
      "cell_type": "code",
      "metadata": {
        "id": "Xqq29xq7tVDU",
        "colab": {
          "base_uri": "https://localhost:8080/",
          "height": 35
        },
        "outputId": "a681dfd0-93ec-43f3-cd75-a1e9ded2d055"
      },
      "source": [
        "print my_matrix[0, 0:3]"
      ],
      "execution_count": null,
      "outputs": [
        {
          "output_type": "stream",
          "text": [
            "[1 2 3]\n"
          ],
          "name": "stdout"
        }
      ]
    },
    {
      "cell_type": "markdown",
      "metadata": {
        "id": "GwCouLdYtVDo"
      },
      "source": [
        "You can also pass a list of indices. "
      ]
    },
    {
      "cell_type": "code",
      "metadata": {
        "id": "IhWIOB8stVDw",
        "colab": {
          "base_uri": "https://localhost:8080/",
          "height": 54
        },
        "outputId": "9c682bab-f6fc-48a5-bc0b-ac47e1a61257"
      },
      "source": [
        "fib_indices = np.array([1, 1, 2, 3])\n",
        "random_vector = np.random.random(10) # 10 random numbers between 0 and 1\n",
        "print random_vector"
      ],
      "execution_count": null,
      "outputs": [
        {
          "output_type": "stream",
          "text": [
            "[0.46680608 0.0313676  0.80680222 0.03844149 0.72012852 0.43079114\n",
            " 0.73670717 0.45464545 0.10588347 0.76203145]\n"
          ],
          "name": "stdout"
        }
      ]
    },
    {
      "cell_type": "code",
      "metadata": {
        "id": "8V5cQLFOtVED",
        "colab": {
          "base_uri": "https://localhost:8080/",
          "height": 35
        },
        "outputId": "3db18068-2a93-4565-a4a1-88c8387aeac7"
      },
      "source": [
        "print random_vector[fib_indices]"
      ],
      "execution_count": null,
      "outputs": [
        {
          "output_type": "stream",
          "text": [
            "[0.0313676  0.0313676  0.80680222 0.03844149]\n"
          ],
          "name": "stdout"
        }
      ]
    },
    {
      "cell_type": "markdown",
      "metadata": {
        "id": "CuHTfpJqtVEW"
      },
      "source": [
        "You can also use true/false values to select values"
      ]
    },
    {
      "cell_type": "code",
      "metadata": {
        "id": "1yh3rBaytVEb",
        "colab": {
          "base_uri": "https://localhost:8080/",
          "height": 35
        },
        "outputId": "3132d38c-8206-474a-f680-898b7d366a40"
      },
      "source": [
        "my_vector = np.array([1, 2, 3, 4])\n",
        "select_index = np.array([True, False, True, False])\n",
        "print my_vector[select_index]"
      ],
      "execution_count": null,
      "outputs": [
        {
          "output_type": "stream",
          "text": [
            "[1 3]\n"
          ],
          "name": "stdout"
        }
      ]
    },
    {
      "cell_type": "markdown",
      "metadata": {
        "id": "zYBKnqHFtVEp"
      },
      "source": [
        "For 2D arrays you can select specific columns and specific rows. Passing ':' selects all rows/columns"
      ]
    },
    {
      "cell_type": "code",
      "metadata": {
        "id": "uAFHlaGUtVEt"
      },
      "source": [
        "select_cols = np.array([True, False, True]) # 1st and 3rd column\n",
        "select_rows = np.array([False, True]) # 2nd row"
      ],
      "execution_count": null,
      "outputs": []
    },
    {
      "cell_type": "code",
      "metadata": {
        "id": "T5uDuIuPtVE-",
        "colab": {
          "base_uri": "https://localhost:8080/",
          "height": 35
        },
        "outputId": "29a1b456-841d-46e2-a46c-29a68fb33a1a"
      },
      "source": [
        "print my_matrix[select_rows, :] # just 2nd row but all columns"
      ],
      "execution_count": null,
      "outputs": [
        {
          "output_type": "stream",
          "text": [
            "[[4 5 6]]\n"
          ],
          "name": "stdout"
        }
      ]
    },
    {
      "cell_type": "code",
      "metadata": {
        "id": "hFhx15TBtVFR",
        "colab": {
          "base_uri": "https://localhost:8080/",
          "height": 54
        },
        "outputId": "f37e0ff1-7542-4ca5-9ba2-3b0d13a4b7ab"
      },
      "source": [
        "print my_matrix[:, select_cols] # all rows and just the 1st and 3rd column"
      ],
      "execution_count": null,
      "outputs": [
        {
          "output_type": "stream",
          "text": [
            "[[1 3]\n",
            " [4 6]]\n"
          ],
          "name": "stdout"
        }
      ]
    },
    {
      "cell_type": "markdown",
      "metadata": {
        "id": "p9p5hefttVFk"
      },
      "source": [
        "# Operations on Arrays"
      ]
    },
    {
      "cell_type": "markdown",
      "metadata": {
        "id": "aoW6aV6ftVFq"
      },
      "source": [
        "You can use the operations '\\*', '\\*\\*', '\\\\', '+' and '-' on numpy arrays and they operate elementwise."
      ]
    },
    {
      "cell_type": "code",
      "metadata": {
        "id": "TSB5o2JPtVFs",
        "colab": {
          "base_uri": "https://localhost:8080/"
        },
        "outputId": "75eecc89-4994-4cca-de44-b7c38b6f8a49"
      },
      "source": [
        "my_array = np.array([1., 2., 3., 4.])\n",
        "print my_array*my_array"
      ],
      "execution_count": null,
      "outputs": [
        {
          "output_type": "stream",
          "text": [
            "[ 1.  4.  9. 16.]\n"
          ],
          "name": "stdout"
        }
      ]
    },
    {
      "cell_type": "code",
      "metadata": {
        "id": "vo99TQfltVF8",
        "colab": {
          "base_uri": "https://localhost:8080/"
        },
        "outputId": "a876ae21-030e-4ee8-f270-c6b498747363"
      },
      "source": [
        "print my_array**2"
      ],
      "execution_count": null,
      "outputs": [
        {
          "output_type": "stream",
          "text": [
            "[ 1.  4.  9. 16.]\n"
          ],
          "name": "stdout"
        }
      ]
    },
    {
      "cell_type": "code",
      "metadata": {
        "id": "JlfKZlKYtVGQ",
        "colab": {
          "base_uri": "https://localhost:8080/"
        },
        "outputId": "261282d5-319a-49ee-f592-b3e95981d2eb"
      },
      "source": [
        "print my_array - np.ones(4)"
      ],
      "execution_count": null,
      "outputs": [
        {
          "output_type": "stream",
          "text": [
            "[0. 1. 2. 3.]\n"
          ],
          "name": "stdout"
        }
      ]
    },
    {
      "cell_type": "code",
      "metadata": {
        "id": "8wGAYKmXtVGc",
        "colab": {
          "base_uri": "https://localhost:8080/"
        },
        "outputId": "72e4af16-9cf7-4728-b72a-6bda8782753f"
      },
      "source": [
        "print my_array + np.ones(4)"
      ],
      "execution_count": null,
      "outputs": [
        {
          "output_type": "stream",
          "text": [
            "[2. 3. 4. 5.]\n"
          ],
          "name": "stdout"
        }
      ]
    },
    {
      "cell_type": "code",
      "metadata": {
        "id": "e56VoC6ctVGt",
        "colab": {
          "base_uri": "https://localhost:8080/"
        },
        "outputId": "3e11044d-275f-4756-df98-1e208d00c1ee"
      },
      "source": [
        "print my_array / 3"
      ],
      "execution_count": null,
      "outputs": [
        {
          "output_type": "stream",
          "text": [
            "[0.33333333 0.66666667 1.         1.33333333]\n"
          ],
          "name": "stdout"
        }
      ]
    },
    {
      "cell_type": "code",
      "metadata": {
        "id": "OMo6v5cRtVG7",
        "colab": {
          "base_uri": "https://localhost:8080/"
        },
        "outputId": "1c403601-ae68-4806-fef3-443752f285aa"
      },
      "source": [
        "print my_array / np.array([2., 3., 4., 5.]) # = [1.0/2.0, 2.0/3.0, 3.0/4.0, 4.0/5.0]"
      ],
      "execution_count": null,
      "outputs": [
        {
          "output_type": "stream",
          "text": [
            "[0.5        0.66666667 0.75       0.8       ]\n"
          ],
          "name": "stdout"
        }
      ]
    },
    {
      "cell_type": "markdown",
      "metadata": {
        "id": "-ME2InWCtVHI"
      },
      "source": [
        "You can compute the sum with np.sum() and the average with np.average()"
      ]
    },
    {
      "cell_type": "code",
      "metadata": {
        "id": "0nQwzmUrtVHQ",
        "colab": {
          "base_uri": "https://localhost:8080/"
        },
        "outputId": "9c2e854e-2b8f-4fe7-aad5-edab35fa180c"
      },
      "source": [
        "print np.sum(my_array)"
      ],
      "execution_count": null,
      "outputs": [
        {
          "output_type": "stream",
          "text": [
            "10.0\n"
          ],
          "name": "stdout"
        }
      ]
    },
    {
      "cell_type": "code",
      "metadata": {
        "id": "5eoDuMEDtVHi",
        "colab": {
          "base_uri": "https://localhost:8080/"
        },
        "outputId": "db10cf13-6b93-4ed8-9440-62ce549eeb17"
      },
      "source": [
        "print np.average(my_array)"
      ],
      "execution_count": null,
      "outputs": [
        {
          "output_type": "stream",
          "text": [
            "2.5\n"
          ],
          "name": "stdout"
        }
      ]
    },
    {
      "cell_type": "code",
      "metadata": {
        "id": "sx-OepMrtVHw",
        "colab": {
          "base_uri": "https://localhost:8080/"
        },
        "outputId": "751a7ee3-c0a5-4249-a11a-15ada830c2be"
      },
      "source": [
        "print np.sum(my_array)/len(my_array)"
      ],
      "execution_count": null,
      "outputs": [
        {
          "output_type": "stream",
          "text": [
            "2.5\n"
          ],
          "name": "stdout"
        }
      ]
    },
    {
      "cell_type": "markdown",
      "metadata": {
        "id": "hKlr6R3-tVH-"
      },
      "source": [
        "# The dot product"
      ]
    },
    {
      "cell_type": "markdown",
      "metadata": {
        "id": "42aoiHKktVIC"
      },
      "source": [
        "An important mathematical operation in linear algebra is the dot product. \n",
        "\n",
        "When we compute the dot product between two vectors we are simply multiplying them elementwise and adding them up. In numpy you can do this with np.dot()"
      ]
    },
    {
      "cell_type": "code",
      "metadata": {
        "id": "7sek2TaBtVIF",
        "colab": {
          "base_uri": "https://localhost:8080/"
        },
        "outputId": "d5ddf797-672a-46ad-97bf-e351f9ec457d"
      },
      "source": [
        "array1 = np.array([1., 2., 3., 4.])\n",
        "array2 = np.array([2., 3., 4., 5.])\n",
        "print np.dot(array1, array2)"
      ],
      "execution_count": null,
      "outputs": [
        {
          "output_type": "stream",
          "text": [
            "40.0\n"
          ],
          "name": "stdout"
        }
      ]
    },
    {
      "cell_type": "code",
      "metadata": {
        "id": "TKalD9vwtVIT",
        "colab": {
          "base_uri": "https://localhost:8080/"
        },
        "outputId": "45e69469-2706-4918-802b-c58331f73e4c"
      },
      "source": [
        "print np.sum(array1*array2)"
      ],
      "execution_count": null,
      "outputs": [
        {
          "output_type": "stream",
          "text": [
            "40.0\n"
          ],
          "name": "stdout"
        }
      ]
    },
    {
      "cell_type": "markdown",
      "metadata": {
        "id": "Zd088stXtVIf"
      },
      "source": [
        "Recall that the Euclidean length (or magnitude) of a vector is the squareroot of the sum of the squares of the components. This is just the squareroot of the dot product of the vector with itself:"
      ]
    },
    {
      "cell_type": "code",
      "metadata": {
        "id": "NOhS1xpjtVIn",
        "colab": {
          "base_uri": "https://localhost:8080/"
        },
        "outputId": "9f932554-e3fc-42e6-c00f-bf35e21e7be7"
      },
      "source": [
        "array1_mag = np.sqrt(np.dot(array1, array1))\n",
        "print array1_mag"
      ],
      "execution_count": null,
      "outputs": [
        {
          "output_type": "stream",
          "text": [
            "5.477225575051661\n"
          ],
          "name": "stdout"
        }
      ]
    },
    {
      "cell_type": "code",
      "metadata": {
        "id": "C6B_bhv7tVIz",
        "colab": {
          "base_uri": "https://localhost:8080/"
        },
        "outputId": "c7db03c8-7045-45d8-a7c7-099ce8b7cde7"
      },
      "source": [
        "print np.sqrt(np.sum(array1*array1))"
      ],
      "execution_count": null,
      "outputs": [
        {
          "output_type": "stream",
          "text": [
            "5.477225575051661\n"
          ],
          "name": "stdout"
        }
      ]
    },
    {
      "cell_type": "markdown",
      "metadata": {
        "id": "qc2RM4jitVJA"
      },
      "source": [
        "We can also use the dot product when we have a 2D array (or matrix). When you have an vector with the same number of elements as the matrix (2D array) has columns you can right-multiply the matrix by the vector to get another vector with the same number of elements as the matrix has rows. For example this is how you compute the predicted values given a matrix of features and an array of weights."
      ]
    },
    {
      "cell_type": "code",
      "metadata": {
        "id": "xbEcowCatVJG",
        "colab": {
          "base_uri": "https://localhost:8080/"
        },
        "outputId": "13f58b5a-dd68-49cb-d72d-a0665419c6b9"
      },
      "source": [
        "my_features = np.array([[1., 2.], [3., 4.], [5., 6.], [7., 8.]])\n",
        "print my_features"
      ],
      "execution_count": null,
      "outputs": [
        {
          "output_type": "stream",
          "text": [
            "[[1. 2.]\n",
            " [3. 4.]\n",
            " [5. 6.]\n",
            " [7. 8.]]\n"
          ],
          "name": "stdout"
        }
      ]
    },
    {
      "cell_type": "code",
      "metadata": {
        "id": "4gC0b1ektVJe",
        "colab": {
          "base_uri": "https://localhost:8080/"
        },
        "outputId": "f992520d-7cf4-4047-e74d-5efcb70f0a43"
      },
      "source": [
        "my_weights = np.array([0.4, 0.5])\n",
        "print my_weights"
      ],
      "execution_count": null,
      "outputs": [
        {
          "output_type": "stream",
          "text": [
            "[0.4 0.5]\n"
          ],
          "name": "stdout"
        }
      ]
    },
    {
      "cell_type": "code",
      "metadata": {
        "id": "1DO56faCtVJo",
        "colab": {
          "base_uri": "https://localhost:8080/"
        },
        "outputId": "944c3c22-a0d4-4898-8684-d6b4058493cd"
      },
      "source": [
        "my_predictions = np.dot(my_features, my_weights) # note that the weights are on the right\n",
        "print my_predictions # which has 4 elements since my_features has 4 rows"
      ],
      "execution_count": null,
      "outputs": [
        {
          "output_type": "stream",
          "text": [
            "[1.4 3.2 5.  6.8]\n"
          ],
          "name": "stdout"
        }
      ]
    },
    {
      "cell_type": "markdown",
      "metadata": {
        "id": "4OqS1-NatVJx"
      },
      "source": [
        "Similarly if you have a vector with the same number of elements as the matrix has *rows* you can left multiply them."
      ]
    },
    {
      "cell_type": "code",
      "metadata": {
        "id": "cEUKyOiFtVJ4"
      },
      "source": [
        "my_matrix = my_features\n",
        "my_array = np.array([0.3, 0.4, 0.5, 0.6])"
      ],
      "execution_count": null,
      "outputs": []
    },
    {
      "cell_type": "code",
      "metadata": {
        "id": "ILbs9dIStVKP",
        "colab": {
          "base_uri": "https://localhost:8080/"
        },
        "outputId": "3ed8ca7e-9951-4b8b-d8c5-a33a7b4519dc"
      },
      "source": [
        "print np.dot(my_array, my_matrix) # which has 2 elements because my_matrix has 2 columns"
      ],
      "execution_count": null,
      "outputs": [
        {
          "output_type": "stream",
          "text": [
            "[ 8.2 10. ]\n"
          ],
          "name": "stdout"
        }
      ]
    },
    {
      "cell_type": "markdown",
      "metadata": {
        "id": "qxc5xsn3tVKd"
      },
      "source": [
        "# Multiplying Matrices"
      ]
    },
    {
      "cell_type": "markdown",
      "metadata": {
        "id": "WDYapcsttVKg"
      },
      "source": [
        "If we have two 2D arrays (matrices) matrix_1 and matrix_2 where the number of columns of matrix_1 is the same as the number of rows of matrix_2 then we can use np.dot() to perform matrix multiplication."
      ]
    },
    {
      "cell_type": "code",
      "metadata": {
        "id": "FueBy15ytVKj",
        "colab": {
          "base_uri": "https://localhost:8080/"
        },
        "outputId": "d5d19a26-dbf1-4e62-9761-8b534d8408e0"
      },
      "source": [
        "matrix_1 = np.array([[1., 2., 3.],[4., 5., 6.]])\n",
        "print matrix_1"
      ],
      "execution_count": null,
      "outputs": [
        {
          "output_type": "stream",
          "text": [
            "[[1. 2. 3.]\n",
            " [4. 5. 6.]]\n"
          ],
          "name": "stdout"
        }
      ]
    },
    {
      "cell_type": "code",
      "metadata": {
        "id": "FR5kW6N_tVK1",
        "colab": {
          "base_uri": "https://localhost:8080/"
        },
        "outputId": "77ccc2b4-2cd3-4bbb-93fa-08aa8017b202"
      },
      "source": [
        "matrix_2 = np.array([[1., 2.], [3., 4.], [5., 6.]])\n",
        "print matrix_2"
      ],
      "execution_count": null,
      "outputs": [
        {
          "output_type": "stream",
          "text": [
            "[[1. 2.]\n",
            " [3. 4.]\n",
            " [5. 6.]]\n"
          ],
          "name": "stdout"
        }
      ]
    },
    {
      "cell_type": "code",
      "metadata": {
        "id": "J4q-Q_5ZtVLG",
        "colab": {
          "base_uri": "https://localhost:8080/"
        },
        "outputId": "98f9996b-7c81-4f86-c079-90d854ca4f38"
      },
      "source": [
        "print np.dot(matrix_1, matrix_2)"
      ],
      "execution_count": null,
      "outputs": [
        {
          "output_type": "stream",
          "text": [
            "[[22. 28.]\n",
            " [49. 64.]]\n"
          ],
          "name": "stdout"
        }
      ]
    }
  ]
}