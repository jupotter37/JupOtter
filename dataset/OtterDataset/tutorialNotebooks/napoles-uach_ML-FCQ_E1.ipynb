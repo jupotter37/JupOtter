{
  "nbformat": 4,
  "nbformat_minor": 0,
  "metadata": {
    "colab": {
      "name": "E1.ipynb",
      "provenance": [],
      "collapsed_sections": [],
      "include_colab_link": true
    },
    "kernelspec": {
      "name": "python3",
      "display_name": "Python 3"
    }
  },
  "cells": [
    {
      "cell_type": "markdown",
      "metadata": {
        "id": "view-in-github",
        "colab_type": "text"
      },
      "source": [
        "<a href=\"https://colab.research.google.com/github/napoles-uach/ML-FCQ/blob/main/E1.ipynb\" target=\"_parent\"><img src=\"https://colab.research.google.com/assets/colab-badge.svg\" alt=\"Open In Colab\"/></a>"
      ]
    },
    {
      "cell_type": "markdown",
      "metadata": {
        "id": "LOfjV1m7zF5J"
      },
      "source": [
        "Machine Learning o [Aprendizaje Automático](https://es.wikipedia.org/wiki/Aprendizaje_autom%C3%A1tico)\n",
        "===\n",
        "![](https://blogs.upm.es/dma/wp-content/uploads/sites/144/2019/10/mlearning.jpg)\n"
      ]
    },
    {
      "cell_type": "markdown",
      "metadata": {
        "id": "8H-yH3kXzuvG"
      },
      "source": [
        "# Tipos de algoritmos\n",
        "> Los diferentes algoritmos de **Aprendizaje Automático** se agrupan en una *taxonomía* en función de la salida de los mismos.\n",
        "\n",
        "**Algunos tipos de algoritmos son**:\n",
        "1. Aprendizaje supervisado\n",
        "2. Aprendizaje no supervisado\n",
        "3. Aprendizaje semisupervisado\n",
        "4. Aprendizaje por refuerzo"
      ]
    },
    {
      "cell_type": "markdown",
      "metadata": {
        "id": "Gt243GzJCM5q"
      },
      "source": [
        "## Para escribir ecuaciones usamos el lenguaje matemático [Latex](https://manualdelatex.com/tutoriales/ecuaciones)\n",
        "\n",
        "y=x\n",
        "$y=x$\n",
        "\n",
        "$$ E = mc^2 $$"
      ]
    },
    {
      "cell_type": "markdown",
      "metadata": {
        "id": "KsgshESl2Y48"
      },
      "source": [
        "Ecuaciones:\n",
        "\n",
        ">$y=x^2$\n",
        "\n",
        ">$e^{i\\pi} + 1 = 0$\n",
        "\n",
        ">$e^x=\\sum_{i=0}^\\infty \\frac{1}{i!}x^i$\n",
        "\n",
        ">$\\frac{n!}{k!(n-k)!} = {n \\choose k}$\n",
        "\n",
        ">$A_{m,n} =\n",
        " \\begin{pmatrix}\n",
        "  a_{1,1} & a_{1,2} & \\cdots & a_{1,n} \\\\\n",
        "  a_{2,1} & a_{2,2} & \\cdots & a_{2,n} \\\\\n",
        "  \\vdots  & \\vdots  & \\ddots & \\vdots  \\\\\n",
        "  a_{m,1} & a_{m,2} & \\cdots & a_{m,n}\n",
        " \\end{pmatrix}$\n",
        "\n",
        "Tables:\n",
        ">```\n",
        "First column name | Second column name\n",
        "--- | ---\n",
        "Row 1, Col 1 | Row 1, Col 2\n",
        "Row 2, Col 1 | Row 2, Col 2\n",
        "```\n",
        "\n",
        "becomes:\n",
        "\n",
        ">First column name | Second column name\n",
        ">--- | ---\n",
        ">Row 1, Col 1 | Row 1, Col 2\n",
        ">Row 2, Col 1 | Row 2, Col 2\n",
        "\n",
        "Horizontal rule done with three dashes (\\-\\-\\-):\n",
        "\n",
        "---"
      ]
    }
  ]
}