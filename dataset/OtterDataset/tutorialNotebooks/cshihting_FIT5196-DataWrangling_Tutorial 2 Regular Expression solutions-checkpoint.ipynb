{
 "cells": [
  {
   "cell_type": "markdown",
   "metadata": {
    "collapsed": true
   },
   "source": [
    "# Tutorial 2A Regular expression\n",
    "\n",
    "In the lecture, you have learnt how to use regular expressions. To quickly review some regular expression syntax:\n",
    "\n",
    "\n",
    "* <font color=\"red\">[0-9]</font> Matches a single digit\n",
    "* <font color=\"red\">[a-z0-9]</font> Matches a single character that must be a lower case letter or a digit.\n",
    "* <font color=\"red\">[A-Za-z]</font> Matches a single character that much be a upper/lower case letter \n",
    "* <font color=\"red\">\\d</font> Matches any decimal digit; equivalent to the set [0-9].\n",
    "* <font color=\"red\">\\D</font> Matches characters that are not digits, which is equivalent to [^0-9] or [^\\d].\n",
    "* <font color=\"red\">\\w</font> Matches any alphanumeric character, which is equivalent to [a-zA-Z0-9].\n",
    "* <font color=\"red\">\\W</font> Matches any non-alphanumeric character; which is equivalent to [^a-zA-Z0-9] or [^\\w].\n",
    "* <font color=\"red\">\\s</font> Matches any whitespace character; which is equivalent to [\\t\\n\\r\\f\\v], where \\t indicates taps, \\n  line feeds, \\r carriage returns, \\f form feeds and \\v vertical tabs.\n",
    "* <font color=\"red\">\\S:</font> Matches any non-whitespace character; which is equivalent to  [^ \\t\\n\\r\\f\\v].\n",
    "* <font color=\"red\">ˆ</font> Matches the start of the line.\n",
    "* <font color=\"red\">$</font> Matches the end of the line.\n",
    "* <font color=\"red\">.</font> Matches any character (a wildcard).\n",
    "* <font color=\"red\">*</font> Matches when the preceding character occurs zero or more times\n",
    "* <font color=\"red\">?</font> Matches when the preceding character occurs zero or one times\n",
    "* <font color=\"red\">+</font> Matches when the preceding character occurs one or more times\n",
    "\n",
    "More information can be found here :\n",
    "https://docs.python.org/2/library/re.html\n",
    "* * *"
   ]
  },
  {
   "cell_type": "code",
   "execution_count": null,
   "metadata": {
    "collapsed": false
   },
   "outputs": [],
   "source": [
    "import sys\n",
    "print (sys.version_info)"
   ]
  },
  {
   "cell_type": "markdown",
   "metadata": {},
   "source": [
    "Libraries needed are:"
   ]
  },
  {
   "cell_type": "code",
   "execution_count": null,
   "metadata": {
    "collapsed": false
   },
   "outputs": [],
   "source": [
    "import re # library for regular expression\n",
    "import pandas as pd\n",
    "pd.__version__"
   ]
  },
  {
   "cell_type": "markdown",
   "metadata": {},
   "source": [
    "## 1. Backslash\n",
    "\n",
    "**First, what is '\\'? **\n",
    "\n",
    "'\\', backslash or escape-character, is used to indicate special forms or to allow special characters to be used without invoking their special meaning.\n",
    "\n"
   ]
  },
  {
   "cell_type": "markdown",
   "metadata": {},
   "source": [
    "**How about r\"\" ? When to use it? **\n",
    "\n",
    "r\"\" is Python’s string literal prefix notation, which has nothing to do with regular expression.  By using r\"\" or r'', Python will not handle special characters in any special way, in another word, it treated the contents as raw string. For example, r\"\\t\" represents\n",
    "a two-character string containing '\\' and 't', whereas \"\\t\" represents tab.\n",
    "\n",
    "Sometimes you can use them interchangeably,"
   ]
  },
  {
   "cell_type": "code",
   "execution_count": null,
   "metadata": {
    "collapsed": false
   },
   "outputs": [],
   "source": [
    "str1 = re.findall('\\t', \"Please find \\t\")\n",
    "print (str1)\n",
    "\n",
    "str2 = re.findall(r'\\t', \"Please find \\t\")\n",
    "print (str2)"
   ]
  },
  {
   "cell_type": "markdown",
   "metadata": {},
   "source": [
    "Sometimes not!"
   ]
  },
  {
   "cell_type": "code",
   "execution_count": null,
   "metadata": {
    "collapsed": false
   },
   "outputs": [],
   "source": [
    "str1=re.match(r\"\\W(.)\\1\\W\", \" ff \")\n",
    "print (str1)\n",
    "\n",
    "str2=re.match(\"\\W(.)\\1\\W\", \" ff \")\n",
    "print (str2)\n",
    "\n",
    "str3=re.match(\"\\\\W(.)\\\\1\\\\W\", \" ff \")\n",
    "print (str3)"
   ]
  },
  {
   "cell_type": "markdown",
   "metadata": {},
   "source": [
    "\"\\W(.)\\1\\W\" doesn't match ?  What is the difference? "
   ]
  },
  {
   "cell_type": "code",
   "execution_count": null,
   "metadata": {
    "collapsed": false
   },
   "outputs": [],
   "source": [
    "str4=\"\\W(.)\\1\\W\"\n",
    "print (str4)\n",
    "str4"
   ]
  },
  {
   "cell_type": "code",
   "execution_count": null,
   "metadata": {
    "collapsed": false
   },
   "outputs": [],
   "source": [
    "str4=r\"\\W(.)\\1\\W\"\n",
    "print (str4)\n",
    "str4"
   ]
  },
  {
   "cell_type": "markdown",
   "metadata": {},
   "source": [
    "Now you might be able to guess, what \"\\W(.)\\1\\W\" will match. "
   ]
  },
  {
   "cell_type": "code",
   "execution_count": null,
   "metadata": {
    "collapsed": false
   },
   "outputs": [],
   "source": [
    "str2=re.match(\"\\W(.)\\1\\W\", \" f\\x01 \")\n",
    "print (str2)"
   ]
  },
  {
   "cell_type": "markdown",
   "metadata": {},
   "source": [
    "It matches with non-word + any one character  + \"\\x01\" + non=word."
   ]
  },
  {
   "cell_type": "markdown",
   "metadata": {},
   "source": [
    "** Conclusion -- always fist validate your regular expression, then test with Python**"
   ]
  },
  {
   "cell_type": "markdown",
   "metadata": {},
   "source": [
    "\\* is ??  <br>\n",
    "\\* is a wildcard similar with ? and +  <br>\n",
    "\\* matches 0+ <br>\n",
    "? matches 0-1 <br>\n",
    "\\+ matches 1+ <br>"
   ]
  },
  {
   "cell_type": "code",
   "execution_count": null,
   "metadata": {
    "collapsed": false
   },
   "outputs": [],
   "source": [
    "str1 = re.findall(r'.*', 'Please find all.')\n",
    "print (str1)"
   ]
  },
  {
   "cell_type": "code",
   "execution_count": null,
   "metadata": {
    "collapsed": false
   },
   "outputs": [],
   "source": [
    "str1 = re.findall(r'.?', 'Please find all.')\n",
    "print (str1)"
   ]
  },
  {
   "cell_type": "code",
   "execution_count": null,
   "metadata": {
    "collapsed": false
   },
   "outputs": [],
   "source": [
    "str1 = re.findall(r'.+', 'Please find all.')\n",
    "print (str1)"
   ]
  },
  {
   "cell_type": "code",
   "execution_count": null,
   "metadata": {
    "collapsed": false
   },
   "outputs": [],
   "source": [
    "str1 = re.findall(r'l+', 'Please find all')\n",
    "print (str1)"
   ]
  },
  {
   "cell_type": "markdown",
   "metadata": {},
   "source": [
    "## 2. Answer to homework in the reading material \"Introduction to Regular Expressions\"Homework \n",
    "\n",
    "Refine the regular expression for date to distinguish months with 29/30/31 days.\n",
    "*Note assume all years are a leap year, which means every Feburary has 29 days."
   ]
  },
  {
   "cell_type": "code",
   "execution_count": null,
   "metadata": {
    "collapsed": true
   },
   "outputs": [],
   "source": [
    "def date(pattern, m):\n",
    "    if re.match(pattern, m):\n",
    "        print (m + \" is a date\")\n",
    "    else:\n",
    "        print (m + \" is NOT a date\")"
   ]
  },
  {
   "cell_type": "code",
   "execution_count": null,
   "metadata": {
    "collapsed": true
   },
   "outputs": [],
   "source": [
    "regex = r'''(?x)\n",
    "    (?:\n",
    "    # February (29 days every year)\n",
    "      ([12][0-9]|0?[1-9])[/-](0?2)\n",
    "    # 30-day months\n",
    "      |(30|[12][0-9]|0?[1-9])[/-](0?[469]|11)\n",
    "    # 31-day months\n",
    "      |(3[01]|[12][0-9]|0?[1-9])[/-](0?[13578]|1[02])\n",
    "    ) \n",
    "    # Year\n",
    "    [/-]((?:[0-9]{2})?[0-9]{2})\n",
    "'''"
   ]
  },
  {
   "cell_type": "code",
   "execution_count": null,
   "metadata": {
    "collapsed": false
   },
   "outputs": [],
   "source": [
    "#date(r\"((31[/-](0?[13578]|1[02]))|(30[/-](0?[469]|11))|(28[/-]02))[/-]((?:\\d{2})?\\d{2})\", \"28/02/2019\")\n",
    "date(regex, \"28/02/2019\")\n",
    "date(regex, \"31/04/2019\")\n",
    "date(regex, \"29/05/2019\")\n",
    "date(regex, \"31/06/2019\")"
   ]
  },
  {
   "cell_type": "markdown",
   "metadata": {},
   "source": [
    "What is this regular expression\n",
    "\n",
    "![](figure1.jpg) "
   ]
  },
  {
   "cell_type": "markdown",
   "metadata": {},
   "source": [
    "## 3. Extract IPs, dates, and email address with regular expressions\n",
    "\n",
    "With following tasks we will use the mail box data ([mbox-short.txt](http://www.pythonlearn.com/code3/mbox-short.txt)) provided by the book [Python for Informatics: Exploring Information](http://www.pythonlearn.com/book.php#python-for-informatics). "
   ]
  },
  {
   "cell_type": "code",
   "execution_count": null,
   "metadata": {
    "collapsed": false
   },
   "outputs": [],
   "source": [
    "with open('mbox-short.txt','r') as infile:\n",
    "    text = infile.read()"
   ]
  },
  {
   "cell_type": "markdown",
   "metadata": {},
   "source": [
    "### 3.1 Find IP addresses \n",
    "\n",
    "In this task we will need to \n",
    "1. find all IP addresses in the mbox-short dataset.\n",
    "2. print unique IP addresses \n",
    "\n",
    "Let's have a try first: "
   ]
  },
  {
   "cell_type": "code",
   "execution_count": null,
   "metadata": {
    "collapsed": false
   },
   "outputs": [],
   "source": [
    "str1 = re.findall(r'\\b(?:\\d{1,3}\\.){3}\\d{1,3}\\b', \"This is a IP address 111.23.39.99\")\n",
    "str1"
   ]
  },
  {
   "cell_type": "markdown",
   "metadata": {},
   "source": [
    "![](figure2.png)\n",
    "\n",
    "From https://regexper.com/"
   ]
  },
  {
   "cell_type": "code",
   "execution_count": null,
   "metadata": {
    "collapsed": false
   },
   "outputs": [],
   "source": [
    "str1= re.findall(r'(?:[0-9]{1,3}\\.){3}[0-9]{1,3}', text)\n",
    "if len(str1)>0:\n",
    "    print str1"
   ]
  },
  {
   "cell_type": "markdown",
   "metadata": {},
   "source": [
    "By running the code above, we are able to print all IP addresses. \n",
    "\n",
    "Next can we save all unique IP address in a list? We will need to read the whole txt file in to 'text', and then apply re.findall function. set() function returns the unique values."
   ]
  },
  {
   "cell_type": "code",
   "execution_count": null,
   "metadata": {
    "collapsed": false
   },
   "outputs": [],
   "source": [
    "str1=re.findall(r'(?:[0-9]{1,3}\\.){3}[0-9]{1,3}', text)\n",
    "set(str1)"
   ]
  },
  {
   "cell_type": "markdown",
   "metadata": {
    "collapsed": true
   },
   "source": [
    "### 3.2 Extract All date time \n",
    "\n",
    "\n",
    "In the next task, we need to extract all date time from the file. We trust that all date time are valid for now. \n"
   ]
  },
  {
   "cell_type": "code",
   "execution_count": null,
   "metadata": {
    "collapsed": false
   },
   "outputs": [],
   "source": [
    "str1=re.findall(r'(\\d{4}-\\d{2}-\\d{2} \\d{2}:\\d{2}:\\d{2})', text)\n",
    "set(str1)"
   ]
  },
  {
   "cell_type": "markdown",
   "metadata": {},
   "source": [
    "### 3.3 Extract author's email address\n",
    "\n",
    "\n",
    "There are many email addresses included in the file. We would like to extract email addresses from the Author the format is normally:\n",
    "\n",
    "\"Author: stephen.marquard@uct.ac.za\"\n",
    "\n",
    "Now lets see if we can use the following regular expression:"
   ]
  },
  {
   "cell_type": "markdown",
   "metadata": {},
   "source": [
    "```python\n",
    "r\"[a-zA-Z0-9_.+-]+@[a-zA-Z0-9-]+\\.[a-zA-Z0-9-.]+\"\n",
    "```\n",
    "which was copied and pasted from http://emailregex.com/\n",
    "\n",
    "Does it work in the task?"
   ]
  },
  {
   "cell_type": "code",
   "execution_count": null,
   "metadata": {
    "collapsed": false,
    "scrolled": false
   },
   "outputs": [],
   "source": [
    "str1=re.findall(r\"[a-zA-Z0-9_.+-]+@[a-zA-Z0-9-]+\\.[a-zA-Z0-9-.]+\", text)\n",
    "set(str1)"
   ]
  },
  {
   "cell_type": "markdown",
   "metadata": {},
   "source": [
    "What if I only want email address after Author ? "
   ]
  },
  {
   "cell_type": "code",
   "execution_count": null,
   "metadata": {
    "collapsed": false,
    "scrolled": false
   },
   "outputs": [],
   "source": [
    "str1=re.findall(r'Author: ([a-zA-Z0-9_.+-]+@[a-zA-Z0-9-]+\\.[a-zA-Z0-9-.]+)', text)\n",
    "str1"
   ]
  },
  {
   "cell_type": "markdown",
   "metadata": {
    "collapsed": true
   },
   "source": [
    "## Home work :\n",
    "\n",
    "Watch the Software Carpentry lecture on regular expressions, if you need more help.\n",
    "\n",
    "https://www.youtube.com/playlist?list=PL7C1EB31127AB8A0B\n",
    "\n",
    "or you can look at the video lecture at Lynda.com \n",
    "\n",
    "https://wwwlyndacom.ezproxy.lib.monash.edu.au/Regular-Expressions-tutorials/Welcome/85870/93904-4.html?autoplay=true\n",
    "\n",
    "In order to access the Lynda, you need to setup your account according to \n",
    "\n",
    "http://resources.lib.monash.edu.au/eresources/lyndacom.html"
   ]
  },
  {
   "cell_type": "code",
   "execution_count": null,
   "metadata": {
    "collapsed": true
   },
   "outputs": [],
   "source": []
  }
 ],
 "metadata": {
  "anaconda-cloud": {},
  "kernelspec": {
   "display_name": "Python [conda env:python3]",
   "language": "python",
   "name": "conda-env-python3-py"
  },
  "language_info": {
   "codemirror_mode": {
    "name": "ipython",
    "version": 3
   },
   "file_extension": ".py",
   "mimetype": "text/x-python",
   "name": "python",
   "nbconvert_exporter": "python",
   "pygments_lexer": "ipython3",
   "version": "3.6.1"
  }
 },
 "nbformat": 4,
 "nbformat_minor": 0
}
