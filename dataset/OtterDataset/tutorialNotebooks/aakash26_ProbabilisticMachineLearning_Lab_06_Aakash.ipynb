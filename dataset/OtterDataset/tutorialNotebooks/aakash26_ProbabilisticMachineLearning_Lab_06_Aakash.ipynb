{
 "cells": [
  {
   "cell_type": "markdown",
   "metadata": {},
   "source": [
    "# Tutorial: Amortized Neural Variational Inference for a toy probabilistic model\n",
    "\n",
    "\n",
    "In this exercise, we will generate synthetic data and then we will use it to learn how to apply Stochastic Gradient Descent (SGD) and Amortized Variational Inference with neural networks.  We will use the package `pytorch`, which allow us to perform automatic differentiation."
   ]
  },
  {
   "cell_type": "markdown",
   "metadata": {},
   "source": [
    "## Problem definition\n",
    "\n",
    "Consider a certain number of sensors  placed at known locations, $\\mathbf{s}_1,\\mathbf{s}_2,\\ldots,\\mathbf{s}_L$. There is a target at an unknown position $\\mathbf{z}\\in\\mathbb{R}^2$ that is emitting a certain signal that is received at the $i$-th sensor with a signal strength distributed as follows:\n",
    "\n",
    "\\begin{align}\n",
    "x_i \\sim \\mathcal{N}\\Big(- A \\log\\left(||\\mathbf{s}_i-\\mathbf{z} ||^2\\right), \\sigma^2\\Big),\n",
    "\\end{align}\n",
    "\n",
    "where $A$ is a constant related to how fast signal strength degrades with distance. We assume a Gaussian prior for the unknown position $\\mathcal{N}(\\mathbf{0},\\mathbf{I})$. Given a set of $N$ i.i.d. samples for each sensor, $\\mathbf{X}\\in\\mathbb{R}^{L\\times N}$, we will use **Amortized Neural Variational Inference** to find a Gaussian approximation to \n",
    "\n",
    "\\begin{align}\n",
    "p(\\mathbf{z}|\\mathbf{X}) \\propto  p(\\mathbf{X}|\\mathbf{z}) p(\\mathbf{z})\n",
    "\\end{align}\n",
    "\n",
    "Our approximation to $p(\\mathbf{z}|\\mathbf{X})$ is of the form\n",
    "\\begin{align}\n",
    "p(\\mathbf{z}|\\mathbf{X}) \\approx q(\\mathbf{z}|\\mathbf{X})=\\mathcal{N}\\Big(\\mu(\\mathbf{X}),\\Sigma(\\mathbf{X})\\Big),\n",
    "\\end{align}\n",
    "where\n",
    "\n",
    "- $\\mu(\\mathbf{X})$ --> Given by a Neural Network with parameter vector $\\theta$ and input $\\mathbf{X}$\n",
    "\n",
    "- $\\Sigma(\\mathbf{X})$ --> Diagonal covariance matrix, where the log of the main diagonal is constructed by a Neural Network with parameter vector $\\gamma$ and input $\\mathbf{X}$\n",
    "\n",
    "**Note:**  $\\mathbf{X}$ is reshaped into a $L\\times N$ to input both $\\mu(\\mathbf{X})$ and $\\Sigma(\\mathbf{X})$"
   ]
  },
  {
   "cell_type": "markdown",
   "metadata": {},
   "source": [
    "## ELBO lower-bound to $p(\\mathbf{X})$\n",
    "\n",
    "We will optimize $q(\\mathbf{z}|\\mathbf{X})$ w.r.t. $\\theta,\\gamma$ by optimizing the Evidence-Lower-Bound (ELBO):\n",
    "\n",
    "\\begin{align}\n",
    "p(\\mathbf{X}) &= \\int p(\\mathbf{X}|\\mathbf{z}) p(\\mathbf{z}) d\\mathbf{z}\\\\\n",
    "&\\geq \\int q(\\mathbf{X}|\\mathbf{z}) \\log \\left(\\frac{p(\\mathbf{X},\\mathbf{z})}{q(\\mathbf{X}|\\mathbf{z})}\\right)d\\mathbf{z}\\\\\n",
    "& = \\mathbb{E}_{q}\\left[\\log  p(\\mathbf{X}|\\mathbf{z})\\right] - D_{KL}(q(\\mathbf{z}|\\mathbf{X})||p(\\mathbf{z}))\\triangleq \\mathcal{L}(\\mathbf{X},\\theta,\\gamma),\n",
    "\\end{align}\n",
    "where $D_{KL}(q(\\mathbf{z}|\\mathbf{X})||p(\\mathbf{z}))$ is known in closed form since it is the KL divergence between two Gaussian pdfs:\n",
    "\n",
    "\\begin{align}\n",
    "D_{KL}(q(\\mathbf{z}|\\mathbf{X})||p(\\mathbf{z})) = \\frac{1}{2} \\left[\\text{tr}\\left(\\Sigma(\\mathbf{X})\\right)+\\left(\\mu(\\mathbf{X})^T\\mu(\\mathbf{X})\\right)-2-\\log\\det \\left(\\Sigma(\\mathbf{X})\\right) \\right]\n",
    "\\end{align}\n",
    "\n",
    "## SGD optimization\n",
    "\n",
    "- Sample $\\mathbf{\\epsilon}\\sim \\mathcal{N}(\\mathbf{0},\\mathbf{I})$\n",
    "- Sample from $q(\\mathbf{z}|\\mathbf{X})$ using the reparameterization trick:\n",
    "\\begin{align}\n",
    "\\mathbf{z}^0 = \\mu(\\mathbf{X}) + \\sqrt{\\text{diag}(\\Sigma(\\mathbf{X}))} \\odot \\mathbf{\\epsilon}\n",
    "\\end{align}\n",
    "- Compute gradients of \n",
    "\\begin{align}\n",
    "\\hat{\\mathcal{L}}(\\mathbf{X},\\theta,\\gamma) =\\log  p(\\mathbf{X}|\\mathbf{z}^0) - D_{KL}\\left(q(\\mathbf{z}|\\mathbf{X})||p(\\mathbf{z})\\right)\n",
    "\\end{align}\n",
    "w.r.t. $\\theta,\\gamma$. Note that, since the whole sample matrix is reshaped into a $L\\times N$ to input both $\\mu(\\mathbf{X})$ and $\\Sigma(\\mathbf{X})$, in this toy example **we do not use minibatches**! \n",
    "\n",
    "\n"
   ]
  },
  {
   "cell_type": "code",
   "execution_count": 1,
   "metadata": {},
   "outputs": [
    {
     "name": "stdout",
     "output_type": "stream",
     "text": [
      "PyTorch version: 1.7.1\n"
     ]
    }
   ],
   "source": [
    "import math\n",
    "\n",
    "import torch\n",
    "from torch import nn\n",
    "from torch.distributions import MultivariateNormal\n",
    "\n",
    "import matplotlib.pyplot as plt\n",
    "%matplotlib inline\n",
    "\n",
    "import seaborn as sns\n",
    "sns.set()\n",
    "\n",
    "print('PyTorch version: {}'.format(torch.__version__))"
   ]
  },
  {
   "cell_type": "markdown",
   "metadata": {},
   "source": [
    "### Probabilistic model definition and generating samples"
   ]
  },
  {
   "cell_type": "code",
   "execution_count": 5,
   "metadata": {},
   "outputs": [],
   "source": [
    "############## Elements of the true probabilistic model ####################\n",
    "\n",
    "num_sensors = 3\n",
    "\n",
    "config = {\n",
    "    'generator': {  # p(x|z) known\n",
    "        'pos_s': torch.tensor([[0.5, 1], [3.5, 1], [2., 3.]]),  # sensors position\n",
    "        'A': 10. * torch.ones(num_sensors),  # Attenuation factor per sensor\n",
    "        'var_s': 5\n",
    "    },\n",
    "    'num_sensors': num_sensors,  # Number of sensors\n",
    "    'target': torch.tensor([4.75, 2.]),  # Target position (This is what we try to infer)\n",
    "    'samples_per_sensor': 5,  # Number of measurements per sensor\n",
    "    'posterior': {  # parameters for the posterior model\n",
    "        'hidden_dim': 50\n",
    "    }\n",
    "}\n",
    "\n",
    "assert config['generator']['pos_s'].size(0) == num_sensors"
   ]
  },
  {
   "cell_type": "markdown",
   "metadata": {},
   "source": [
    "The class `Generator` will represent the **known** generative model "
   ]
  },
  {
   "cell_type": "code",
   "execution_count": 6,
   "metadata": {},
   "outputs": [],
   "source": [
    "class Generator(object):\n",
    "    def __init__(self, pos_s, z_dim=2, A=10.0, var_s=5.0):\n",
    "        self.L = pos_s.size(0)\n",
    "        self.z_dim = z_dim\n",
    "\n",
    "        # Position of sensors\n",
    "        self.pos_s = pos_s  # [3,2]\n",
    "\n",
    "        # Variance of sensors (parameter sigma^2 in the probabilistic model)\n",
    "        self.var_s = var_s\n",
    "\n",
    "        # Attenuation factor per sensor (parameter A in the probabilistic model)\n",
    "        self.A = A\n",
    "\n",
    "\n",
    "    def sample(self, z, N):\n",
    "        means = -self.A * 2 * torch.log(torch.norm(self.pos_s - z, p=2, dim=-1))  # [3]\n",
    "        X = means.unsqueeze(0) + torch.randn(N, self.L) * self.var_s**0.5  # [N, 3]\n",
    "        return X\n",
    "\n",
    "    def evaluate(self, x, z_sample):\n",
    "        z_sample = z_sample.view((-1, 1, 2))  # [M, 1, 2]\n",
    "        means_dif = self.pos_s - z_sample  # [M, 3, 2]\n",
    "        means = -self.A * 2 * torch.log(torch.norm(means_dif, p=2, dim=-1))  # [M, 3]\n",
    "\n",
    "        # Unnormalized likelihood\n",
    "        log_lik = -0.5 * (x.view(1, -1, self.L) - means.view(-1, 1, self.L))**2 / self.var_s  # [M, N, 3]\n",
    "\n",
    "        # Normalizing constant (not important for inference)\n",
    "        log_lik = log_lik + -0.5 * math.log(2*math.pi * self.var_s)\n",
    "        \n",
    "        return log_lik.sum(dim=-1)  # [M, N]\n",
    "\n",
    "\n",
    "    def evaluate_joint(self,x, z, log_prior):\n",
    "        n_samples = z.size(0)\n",
    "        log_ll = self.evaluate(x, z)\n",
    "        \n",
    "        log_ll = log_ll.sum(dim=1) + log_prior\n",
    "        \n",
    "        return log_ll"
   ]
  },
  {
   "cell_type": "markdown",
   "metadata": {},
   "source": [
    "For a fixed unknown target position $\\mathbf{z}$, we first obtain the matrix sample $\\mathbf{X}$. **Recall that our goal in this toy example is to infer $\\mathbf{z}$ using $\\mathbf{X}$**"
   ]
  },
  {
   "cell_type": "code",
   "execution_count": 7,
   "metadata": {},
   "outputs": [],
   "source": [
    "# Sampling from the generative model for the right target\n",
    "\n",
    "# Our goal is to infer loc_info['target'] from X\n",
    "    \n",
    "Px_z = Generator(**config['generator'])\n",
    "\n",
    "X = Px_z.sample(z=config['target'], N=config['samples_per_sensor'])"
   ]
  },
  {
   "cell_type": "markdown",
   "metadata": {},
   "source": [
    "Lets plot the 2D scenario"
   ]
  },
  {
   "cell_type": "code",
   "execution_count": 8,
   "metadata": {},
   "outputs": [
    {
     "data": {
      "text/plain": [
       "<matplotlib.legend.Legend at 0x7f4499c85c10>"
      ]
     },
     "execution_count": 8,
     "metadata": {},
     "output_type": "execute_result"
    },
    {
     "data": {
      "image/png": "[encoded data removed]",
      "text/plain": [
       "<Figure size 432x288 with 1 Axes>"
      ]
     },
     "metadata": {},
     "output_type": "display_data"
    }
   ],
   "source": [
    "plt.plot(*config['generator']['pos_s'].unbind(dim=1), 'b>', label='Sensors', ms=15)\n",
    "plt.plot(*config['target'], 'ro', label='Target', ms=15)\n",
    "plt.legend()"
   ]
  },
  {
   "cell_type": "markdown",
   "metadata": {},
   "source": [
    "### Defintion of the NNs that define the posterior mean and covariance matrix\n",
    "\n",
    "We use a common layer and a different layer for mean and diagonal of the covariance matrix."
   ]
  },
  {
   "cell_type": "code",
   "execution_count": 9,
   "metadata": {},
   "outputs": [],
   "source": [
    "class Posterior_moments(nn.Module):\n",
    "    def __init__(self, input_dim, z_dim, hidden_dim):\n",
    "        super().__init__()\n",
    "\n",
    "        # Neural networks for the mean and (logarithm of the) variance\n",
    "        self.mean = nn.Sequential(\n",
    "            nn.Linear(input_dim, hidden_dim), nn.Tanh(),\n",
    "            nn.Linear(hidden_dim, z_dim)\n",
    "        )\n",
    "        \n",
    "        # Since variance has to be a positive definite, we assume\n",
    "        # the network outpus the logarithm of the diagonal of the \n",
    "        # covariance matrix variance\n",
    "        self.logvar = nn.Sequential(\n",
    "            nn.Linear(input_dim, hidden_dim), nn.Tanh(),\n",
    "            nn.Linear(hidden_dim, z_dim)\n",
    "        )\n",
    "\n",
    "    def forward(self, x):  # Pass the input tensor through each of our operations\n",
    "        mean = self.mean(x)\n",
    "        logvar = self.logvar(x)\n",
    "        \n",
    "        return mean, logvar"
   ]
  },
  {
   "cell_type": "code",
   "execution_count": 10,
   "metadata": {},
   "outputs": [],
   "source": [
    "Qz_x = Posterior_moments(input_dim=config['num_sensors'] * config['samples_per_sensor'], \n",
    "                         z_dim=2,\n",
    "                         hidden_dim=config['posterior']['hidden_dim'])"
   ]
  },
  {
   "cell_type": "markdown",
   "metadata": {},
   "source": [
    "### Class to evaluate the loss function (ELBO)\n",
    "\n",
    "Lets create a new class inherited that takes the likelihood function, prior distribution and posterior approximation and adds two functionalities: one to sample from $q(\\mathbf{z}|\\mathbf{X})$ and one to evaluate the ELBO"
   ]
  },
  {
   "cell_type": "code",
   "execution_count": 11,
   "metadata": {},
   "outputs": [],
   "source": [
    "class Model(nn.Module):\n",
    "    def __init__(self, Px_z, Pz, Qz_x):\n",
    "        super().__init__()\n",
    "\n",
    "        self.Qz_x = Qz_x\n",
    "        self.Px_z = Px_z\n",
    "        self.Pz = Pz\n",
    "        \n",
    "        self.z_dim = self.Px_z.z_dim\n",
    "\n",
    "    def evaluate_log_prior(self,z):\n",
    "        return self.Pz.log_prob(z)\n",
    "\n",
    "    def get_q_params(self, x):\n",
    "        mean, logvar = self.Qz_x(x)\n",
    "        return mean, logvar\n",
    "    \n",
    "    def sample_from_q(self, x, nsamples=1):\n",
    "        mean, logvar = self.Qz_x(x)\n",
    "\n",
    "        # Sampling from q(z|x).\n",
    "        # We first sample from N(0,I)\n",
    "        # Then, scale by std and sum the mean\n",
    "\n",
    "        noise = torch.randn(nsamples, 2)\n",
    "        sample = mean + torch.exp(0.5 * logvar) * noise\n",
    "        return sample, mean, logvar\n",
    "\n",
    "    def ELBO(self, x):\n",
    "        z_q,  mean_q, logvar_q = self.sample_from_q(x, 20)\n",
    "\n",
    "        # KL posterior || prior\n",
    "        KL = -0.5 * self.z_dim + 0.5 * torch.sum(torch.exp(logvar_q) + mean_q ** 2 - logvar_q)\n",
    "\n",
    "        # Evaluate log-likelihood for the current z sample\n",
    "        # To do this we use the probabilistic model!\n",
    "\n",
    "        # Signal mean per sensor\n",
    "        log_lik = self.Px_z.evaluate(x, z_q).mean(dim=0).sum()\n",
    "\n",
    "        ELBO_loss = log_lik - KL\n",
    "\n",
    "        return ELBO_loss, log_lik, KL"
   ]
  },
  {
   "cell_type": "code",
   "execution_count": 12,
   "metadata": {},
   "outputs": [],
   "source": [
    "# The prior distribution encodes our prior knowledge about the parameters\n",
    "Pz = MultivariateNormal(torch.zeros(2), torch.eye(2))\n",
    "model = Model(Px_z, Pz, Qz_x)"
   ]
  },
  {
   "cell_type": "markdown",
   "metadata": {},
   "source": [
    "### Class to perform ELBO optimization\n",
    "\n",
    "Create a new class that implements a method `train_step` to perform a SGD step over the variational bound (ELBO)"
   ]
  },
  {
   "cell_type": "code",
   "execution_count": 13,
   "metadata": {},
   "outputs": [],
   "source": [
    "class Trainer:\n",
    "    def __init__(self, model, l_rate=1e-5, beta1=0.9, beta2=0.999):\n",
    "        self.model = model\n",
    "        self.optimizer = torch.optim.Adam(model.parameters(), lr=l_rate, betas=(beta1, beta2))\n",
    "\n",
    "    def train_step(self, x):\n",
    "        self.optimizer.zero_grad()\n",
    "        \n",
    "        ELBO_loss, log_lik, KL = self.model.ELBO(x)\n",
    "        nELBO_loss = -ELBO_loss # Multiply by -1 to minimize\n",
    "        \n",
    "        nELBO_loss.backward()\n",
    "        self.optimizer.step()\n",
    "        \n",
    "        return ELBO_loss, log_lik, KL\n",
    "    \n",
    "    def train(self, x, steps, print_every=4, save_every=10):\n",
    "        self.model.train()\n",
    "        for i in range(steps):\n",
    "            ELBO_loss, log_lik, KL = self.train_step(x)\n",
    "            if i % print_every == 0:\n",
    "                ELBO_loss = ELBO_loss.data.cpu().numpy()\n",
    "                log_lik = log_lik.data.cpu().numpy()\n",
    "                KL = KL.data.cpu().numpy()\n",
    "                print('Step = %d, loglik = %.5f, KL = %.5f, ELBO = %.5f' %(i,log_lik,KL, -ELBO_loss))\n",
    "\n"
   ]
  },
  {
   "cell_type": "code",
   "execution_count": 14,
   "metadata": {},
   "outputs": [],
   "source": [
    "# x_train = torch.from_numpy(X.reshape([1,-1]))\n",
    "x_train = X.view(1, -1)\n",
    "trainer = Trainer(model, l_rate=1e-2, beta1=0.7, beta2=0.999)"
   ]
  },
  {
   "cell_type": "markdown",
   "metadata": {},
   "source": [
    "We fix the seed for reproducibility"
   ]
  },
  {
   "cell_type": "code",
   "execution_count": 15,
   "metadata": {},
   "outputs": [],
   "source": [
    "import numpy as np"
   ]
  },
  {
   "cell_type": "code",
   "execution_count": 16,
   "metadata": {},
   "outputs": [
    {
     "name": "stdout",
     "output_type": "stream",
     "text": [
      "Step = 0, loglik = -852.37994, KL = 1.70368, ELBO = 854.08362\n",
      "Step = 1000, loglik = -37.82026, KL = 8.79189, ELBO = 46.61215\n",
      "Step = 2000, loglik = -37.89862, KL = 8.84014, ELBO = 46.73876\n",
      "Step = 3000, loglik = -38.19219, KL = 8.83068, ELBO = 47.02287\n",
      "Step = 4000, loglik = -37.75082, KL = 8.91622, ELBO = 46.66705\n",
      "Step = 5000, loglik = -38.23130, KL = 8.71264, ELBO = 46.94393\n",
      "Step = 6000, loglik = -37.93798, KL = 8.79280, ELBO = 46.73078\n",
      "Step = 7000, loglik = -37.73262, KL = 8.85836, ELBO = 46.59097\n",
      "Step = 8000, loglik = -38.15652, KL = 8.87030, ELBO = 47.02682\n",
      "Step = 9000, loglik = -38.00257, KL = 8.89835, ELBO = 46.90092\n"
     ]
    }
   ],
   "source": [
    "torch.manual_seed(20)\n",
    "np.random.seed(20)\n",
    "trainer.train(x_train, steps=10000, print_every=1000, save_every=10)"
   ]
  },
  {
   "cell_type": "markdown",
   "metadata": {},
   "source": [
    "### Plot the results\n",
    "\n",
    "* Get the optimal parameters of the approximated posterior distribution found during the optimization\n",
    "* Generate `nsamples` from the posterior\n",
    "* Plot the generated samples, the true position of the target and the position of the sensors"
   ]
  },
  {
   "cell_type": "code",
   "execution_count": 17,
   "metadata": {},
   "outputs": [],
   "source": [
    "with torch.no_grad():  # Disables gradient computation (locally)\n",
    "    nsamples = 50\n",
    "    model.eval()\n",
    "\n",
    "    q_mean, q_log_var = model.get_q_params(x_train)\n",
    "    samples = q_mean + torch.exp(0.5 * q_log_var) * torch.randn(nsamples, 2)\n",
    "    log_prior = model.evaluate_log_prior(samples)\n",
    "    Plog_pxz_eval = Px_z.evaluate_joint(x_train, samples, log_prior)"
   ]
  },
  {
   "cell_type": "code",
   "execution_count": 18,
   "metadata": {},
   "outputs": [
    {
     "data": {
      "image/png": "[encoded data removed]",
      "text/plain": [
       "<Figure size 1080x576 with 1 Axes>"
      ]
     },
     "metadata": {},
     "output_type": "display_data"
    }
   ],
   "source": [
    "\n",
    "f = plt.figure(figsize=(15,8))\n",
    "\n",
    "ax = plt.subplot(1, 1, 1)\n",
    "ax.plot(*config['generator']['pos_s'].unbind(dim=-1), 'b>', label='Sensors', ms=15)\n",
    "ax.plot(*config['target'], 'ro', label='Target', ms=15)\n",
    "ax.scatter(samples[:,0], samples[:,1],label='Post Samples')\n",
    "ax.plot(q_mean[:, 0], q_mean[:, 1], 'k>', label='Post Mean')\n",
    "ax.set_title('Amortized Variational Inference')\n",
    "ax.legend()\n",
    "\n",
    "\n",
    "plt.show()"
   ]
  },
  {
   "cell_type": "code",
   "execution_count": null,
   "metadata": {},
   "outputs": [],
   "source": []
  },
  {
   "cell_type": "code",
   "execution_count": null,
   "metadata": {},
   "outputs": [],
   "source": []
  }
 ],
 "metadata": {
  "kernelspec": {
   "display_name": "Python 3",
   "language": "python",
   "name": "python3"
  },
  "language_info": {
   "codemirror_mode": {
    "name": "ipython",
    "version": 3
   },
   "file_extension": ".py",
   "mimetype": "text/x-python",
   "name": "python",
   "nbconvert_exporter": "python",
   "pygments_lexer": "ipython3",
   "version": "3.8.5"
  },
  "pycharm": {
   "stem_cell": {
    "cell_type": "raw",
    "metadata": {
     "collapsed": false
    },
    "source": []
   }
  }
 },
 "nbformat": 4,
 "nbformat_minor": 2
}
