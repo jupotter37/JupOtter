{
 "cells": [
  {
   "cell_type": "markdown",
   "metadata": {},
   "source": [
    "# Notebook on the basics of Python and Jupyter Notebooks"
   ]
  },
  {
   "cell_type": "markdown",
   "metadata": {},
   "source": [
    "## Contents\n",
    "1. Hello world!\n",
    "2. Short intro to Jupyter Notebooks\n",
    "3. Python build in functions\n",
    "4. Basic math\n",
    "5. Python data types\n",
    "6. Strings\n",
    "7. Variables\n",
    "8. Python Keywords"
   ]
  },
  {
   "cell_type": "markdown",
   "metadata": {},
   "source": [
    "## 1. Hello world!\n",
    "\n",
    "Tradition holds that we start with Hello World.\n",
    "click on the 'play'button to the left to print \"Hello world!\""
   ]
  },
  {
   "cell_type": "code",
   "execution_count": 1,
   "metadata": {},
   "outputs": [
    {
     "name": "stdout",
     "output_type": "stream",
     "text": [
      "Hello World!\n"
     ]
    }
   ],
   "source": [
    "print(\"Hello world!\")"
   ]
  },
  {
   "cell_type": "markdown",
   "metadata": {},
   "source": [
    "## 2. Short introduction Jupyter Notebooks\n",
    "\n",
    "- Jupyter works in your browser\n",
    "- Jupyter can handle programming languages Julia, Python and R \n",
    "\n",
    "Use the buttons on the taskbar and the menu's for your actions.\n",
    "\n",
    "Change the type of the cell from 'code' to 'Markdown' to write text instead of code.\n",
    "\n",
    "\n",
    "### Some useful commands:\n",
    "- enter on a Markdown cell => set the cell to editing\n",
    "- shift + enter = run a cell\n",
    "- alt + enter   = run a cell + create new cell\n",
    "- in a code cell, while typing try tab to complete the function \n",
    "\n",
    "### Command mode\n",
    "- press 'escape' to go to command mode. When in command mode to the following:\n",
    "- press 'm' to change cell to markdown; press 'y'to change cell to code.\n",
    "\n",
    "\n",
    "### Pro-tips\n",
    "- use %%time at the beginning of a cell to measure the time of execution (optional)\n",
    "- if you want to run command line actions use an '!'exclamation mark, for example: \"!pip install tensorflow\"\n",
    "- use %%bash to turn the whole cell to be interpreted as a bash script.\n",
    "\n",
    "### LaTex\n",
    "\n",
    "Left outline:\n",
    "$ c = \\sqrt{a^2 + b^2} $\n",
    "\n",
    "centered: $$ c = \\sqrt{a^2 + b^2}$$\n",
    "\n",
    "### Code completion\n",
    "I've installed Tabnine for code completion: https://www.tabnine.com/welcome \n",
    "\n",
    "### Links\n",
    "- https://www.youtube.com/watch?v=2eCHD6f_phE - Video on Youtube (6 min)\n",
    "- https://www.dataquest.io/blog/jupyter-notebook-tips-tricks-shortcuts/"
   ]
  },
  {
   "cell_type": "markdown",
   "metadata": {},
   "source": [
    "### Intro to using Linux commands in Jupyter\n",
    "In any notebook cell you can use linux commands.\n",
    "Examples could be:\n",
    "- ls => to show the files in current directory\n",
    "- pwd => to show present working directory\n",
    "- cd => to change directory.\n",
    "\n",
    "See also notebook 2.07 Python and linux"
   ]
  },
  {
   "cell_type": "code",
   "execution_count": 3,
   "metadata": {},
   "outputs": [
    {
     "name": "stdout",
     "output_type": "stream",
     "text": [
      "'dummy'.svg\r\n",
      "'dummy'.uml\r\n",
      "1.0 - Notebook on basics of Python and Jupyter Notebooks.ipynb\r\n",
      "1.01 Python fundamentals Notebook.ipynb\r\n",
      "1.02 Basics of Data Analysis.ipynb\r\n",
      "1.03 Working with files and data serialization.ipynb\r\n",
      "1.04 Functions.ipynb\r\n",
      "1.05 Getting data from the web - requests, wget, curl, urllib.ipynb\r\n",
      "1.06 Graphs with Matplotlib.ipynb\r\n",
      "1.07 Working with images.ipynb\r\n",
      "1.08 Pandas basics (tutorialise).ipynb\r\n",
      "1.09 Jupyter notebook cell magic & other stuff.ipynb\r\n",
      "1.10 Converting basic data types.ipynb\r\n",
      "11k16bitpcm.wav\r\n",
      "2.00 Python Intermediate (exeptions, assert, decorators etc).ipynb\r\n",
      "2.01 Time and datetime.ipynb\r\n",
      "2.02 Introduction to Object Oriented Programming (OOP) (clean up).ipynb\r\n",
      "2.03 Python and SQL databases.ipynb\r\n",
      "2.04 Webscraping, BeautifulSoup & converting webpages to pdf (some work to do).ipynb\r\n",
      "2.05 Python and excel (tutorialise).ipynb\r\n",
      "2.06 Working with the OS.ipynb\r\n",
      "2.07 Python and Linux (work in progress).ipynb\r\n",
      "2.08 Time Series with Pandas and SciPy (data source missing).ipynb\r\n",
      "2.09 Collections = special data types.ipynb\r\n",
      "2.10 Intro to Numpy.ipynb\r\n",
      "2.11 Image_data_augmentation.ipynb\r\n",
      "2.12 Notebook on python for geodata and maps .ipynb\r\n",
      "2.13 Graphs advanced - Seaborn, Plotly, Plotnine, IPYwidgets.ipynb\r\n",
      "2.14 Python and regular expressions (work in progress).ipynb\r\n",
      "2.15 Testing with Pytest and Selenium (work in progress).ipynb\r\n",
      "2.16 Intro to Flask (work in progress).ipynb\r\n",
      "2.17 Pynput (in progress).ipynb\r\n",
      "2021-12-5_Features_.csv\r\n",
      "2022_09_08_OpenCV_opdracht.ipynb\r\n",
      "3.01 a very short introduction to Deep Learning (work in progress).ipynb\r\n",
      "3.02 Neural Networks with Numpy.ipynb\r\n",
      "3.03 What is gradient descent ? .ipynb\r\n",
      "3.04 Computer Vision basics on Images with OpenCV.ipynb\r\n",
      "3.05 Computer Vision basics on Video with OpenCV.ipynb\r\n",
      "3.06 Teachable Machine (tutorialise, to clean up).ipynb\r\n",
      "3.07 Image Classification with Keras from scratch.ipynb\r\n",
      "3.08 Image Classification - MNIST with Keras.ipynb\r\n",
      "3.09 Image Classification with_ResNet50.ipynb\r\n",
      "3.09 Image Segmentation with Pixellib (PointRed only on linux not windows).ipynb\r\n",
      "3.10 Face detection with Haar,  MTCNN and Keras-Facenet (HvA).ipynb\r\n",
      "3.12 Object Detection with YOLO v3, v5 and v8 (to clean up...).ipynb\r\n",
      "3.13 Object Detection with ImageAI (to be updated to Pytorch).ipynb\r\n",
      "3.14 Object_detection with TF2.ipynb\r\n",
      "3.15  Multi Object Tracking with Motpy (work in progress).ipynb\r\n",
      "3.16 NLP with Laurence Moroney.ipynb\r\n",
      "3.17 NLP - Sentiment in text (NLP zero to hero 3).ipynb\r\n",
      "3.18 NLP classifying movie reviews with Keras.ipynb\r\n",
      "3.19 Transformers with Huggingface (Work in Progress).ipynb\r\n",
      "3.20 Translation API's.ipynb\r\n",
      "3.21 NLP - Train_your_tokenizer Huggingface.ipynb\r\n",
      "3.22 Introduction to Pytorch - Work in progress.ipynb\r\n",
      "3.23 NLP encoding, decoding and some tokenizers.ipynb\r\n",
      "3.24 Andrej Karpathy's GPT tutorial.ipynb\r\n",
      "4.01 AMQP with RabbitMQ.ipynb\r\n",
      "4.02 Kafka.ipynb\r\n",
      "4.03 MQTT.ipynb\r\n",
      "4.04 InfluxDB.ipynb\r\n",
      "4.05 OData.ipynb\r\n",
      "4.06 websockets.ipynb\r\n",
      "4.07 Creating UML diagrams with PlantUML.ipynb\r\n",
      "4.08 AsyncAPI.ipynb\r\n",
      "4.09 Apache Avro Data Serialization.ipynb\r\n",
      "4.10 gRPC.ipynb\r\n",
      "4.11 Zeep - wsdl.ipynb\r\n",
      "4.12 APIspec.ipynb\r\n",
      "4.12 XML schema (xsd).ipynb\r\n",
      "4.13 pytest & mock.ipynb\r\n",
      "4.14 JSON Schema.ipynb\r\n",
      "4.15 parsing openAPI specs.ipynb\r\n",
      "4.16 XML Element Tree.ipynb\r\n",
      "4.17 Pydantic data validation.ipynb\r\n",
      "4.18 Reverse Engineering the Petstore API (Medium article).ipynb\r\n",
      "4.19 Reverse Engineering Petstore OpenAPI spec.17 Reverse Engineering the Petstore OAS.ipynb\r\n",
      "5.01 Audio with Python- the basics.ipynb\r\n",
      "5.02 Audio with Python -  advanced (to clean up, too large).ipynb\r\n",
      "5.03 Visualising audio - creating waveform, spectogram, mel specto with librosa.ipynb\r\n",
      "5.04 Another way to create a mel spectrogram.ipynb\r\n",
      "5.05 Fourier Transform & more audio visualisation (in progress).ipynb\r\n",
      "5.06 Real time audio visualizing.ipynb\r\n",
      "5.07 Energy and Sound Pressure Level.ipynb\r\n",
      "5.08 Audio Yamnet_visualisation.ipynb\r\n",
      "5.09 Creating a Voice Assistant.ipynb\r\n",
      "5.10 Speech2text & Text2speech.ipynb\r\n",
      "5.11 Speech to text with Youtube and Twitter video's.ipynb\r\n",
      "5.12 Audio Data Augmentation 2.ipynb\r\n",
      "5.12 Audio Data Augmentation.ipynb\r\n",
      "5.13 Sound classification with YAMNet.ipynb\r\n",
      "5.14 Audio Classification with OpenL3.ipynb\r\n",
      "5.15 TO DO Building a RNN for speech recognition.ipynb\r\n",
      "5.16 Transfer_learning_audio (works in Colab not local).ipynb\r\n",
      "5.17 recognize keywords with tensorflow.ipynb\r\n",
      "5.18 Torchopenl3 (not working locally).ipynb\r\n",
      "5.19 Filter & denoise.ipynb\r\n",
      "5.20 A_quick_start_guide_for_soundscape_IR.ipynb\r\n",
      "5.21 Analyzing the Amsterdam Urban Sounds dataset.ipynb\r\n",
      "5.22 scripts to rename the files in Amsterdam Sound Dataset.ipynb\r\n",
      "5.23 Gradio Audio Demo.ipynb\r\n",
      "5.24 Noisereduce full tutorial.ipynb\r\n",
      "6.01 Python Forest map.ipynb\r\n",
      "6.02 Barchart race original.ipynb\r\n",
      "6.03 Maps of Amsterdam.ipynb\r\n",
      "6.04 Pre-assignment AI café Michiel.ipynb\r\n",
      "6.05 Snoring (some work to do).ipynb\r\n",
      "6.05 Snoring.ipynb\r\n",
      "6.06 HRV logger app (for personal use only).ipynb\r\n",
      "6.07 Oura Sleep Data (to do).ipynb\r\n",
      "6.07b Oura as a function.ipynb\r\n",
      "6.08 Pytesseract OCR Ukrainian (work in progress).ipynb\r\n",
      "6.09 Pytesseract 2 Sententie Bontenbal.ipynb\r\n",
      "6.10 WebRTC (basic).ipynb\r\n",
      "6.11 Mastodon (work in progress).ipynb\r\n",
      "6.12 Programming some algorithms.ipynb\r\n",
      "6.x Boids algorithm and simulating bird flock behaviour (work in progress).ipynb\r\n",
      "7.0 HvA oefeningen.ipynb\r\n",
      "\u001b[34mAudio\u001b[m\u001b[m/\r\n",
      "De Dijk - Onderuit-9I90MVech1I.mkv\r\n",
      "Do. Or do not. There is no try.-BQ4yd2W50No.mkv\r\n",
      "Do. Or do not. There is no try.-BQ4yd2W50No.mp4\r\n",
      "Face_in_keras.ipynb\r\n",
      "Francis Scarr - Vladimir Solovyov speaking at the Moscow Arts Theatre in 2008 -  A war against Ukraine would be 'the most terrible crime you can think of'-1580066665353519104.mp4\r\n",
      "Jay in Kyiv - Russians having a rough time holding Kherson.-1564190523849691139.mp4\r\n",
      "MQTT_steve.py\r\n",
      "NEXTA - 'Rescuers are trying to get survivors from under the rubble of the collapsed roof of the shopping center,' Anton Gerashchenko reports from the scene.-1541480740180860928.mp4\r\n",
      "NOAA_data.txt\r\n",
      "OEtest_210505_youtube_traffic.csv\r\n",
      "OEtest_210506_youtubetraffic.csv\r\n",
      "OpenCV_rgb.png\r\n",
      "\u001b[34mPytesseract\u001b[m\u001b[m/\r\n",
      "Python Audio Processing Basics - How to work with audio files in Python-n2FKsPt83_A.mp4.part\r\n",
      "README.md\r\n",
      "Sample_audio.wav\r\n",
      "Snoring-data-2021-12-03 09_15_24.csv\r\n",
      "Snoring-data-2021-12-04 11_41_48.csv\r\n",
      "Snoring-data-2021-12-04 11_51_51.csv\r\n",
      "Snoring-data-2021-12-06 19_03_36.csv\r\n",
      "Snoring-data-2021-12-10 13_27_41.csv\r\n",
      "Snoring-data-2021-12-12 09_38_24.csv\r\n",
      "Street - 22516.mp4\r\n",
      "TTF.pdf\r\n",
      "UMTMVS.csv\r\n",
      "Visegrád 24 - Ukrainian man finds a drunk Russian soldier.  Via @WarNewsPL1-1541178599918673927.mp4\r\n",
      "XML_file.txt\r\n",
      "Yoda.wav\r\n",
      "Zebra_Zuid-Afrika (1).jpg\r\n",
      "Zebra_Zuid-Afrika (2).jpg\r\n",
      "Zebra_Zuid-Afrika.jpg\r\n",
      "\u001b[34m__pycache__\u001b[m\u001b[m/\r\n",
      "a_file.txt\r\n",
      "accounts2.txt\r\n",
      "amqp_receive.py\r\n",
      "amqp_send.py\r\n",
      "anatomy of an array.png\r\n",
      "avro_exmple.py\r\n",
      "bus.jpg\r\n",
      "claxon_1m.jpg\r\n",
      "claxon_1m.thumbnail\r\n",
      "claxon_1m.wav\r\n",
      "claxon_1m_log.jpg\r\n",
      "claxon_1m_log.thumbnail\r\n",
      "claxon_close.jpg\r\n",
      "claxon_close.thumbnail\r\n",
      "claxon_close.wav\r\n",
      "claxon_close_log.jpg\r\n",
      "claxon_close_log.thumbnail\r\n",
      "claxon_freesound.wav\r\n",
      "claxon_iphone.wav\r\n",
      "claxon_iphone_log.jpg\r\n",
      "claxon_iphone_log.thumbnail\r\n",
      "claxon_michiel.wav\r\n",
      "claxon_michiel_log.jpg\r\n",
      "claxon_michiel_log.thumbnail\r\n",
      "cli.log\r\n",
      "columns.xlsx\r\n",
      "config.py\r\n",
      "converted.wav\r\n",
      "converted2.wav\r\n",
      "curl\r\n",
      "data.yaml\r\n",
      "\u001b[34mde_A\u001b[m\u001b[m/\r\n",
      "demo.txt\r\n",
      "dog.jpeg\r\n",
      "download (1).wget\r\n",
      "download.wget\r\n",
      "drop.avi\r\n",
      "\u001b[34mdummy\u001b[m\u001b[m/\r\n",
      "edgeimpulse.json\r\n",
      "example.wav\r\n",
      "facenet_keras.h5\r\n",
      "file.wav\r\n",
      "filet_4aujfo.wav\r\n",
      "first_app.html\r\n",
      "foo.csv\r\n",
      "geckodriver.log\r\n",
      "gesproken_woorden_hva.ipynb\r\n",
      "groep.jpg\r\n",
      "groep2.jpg\r\n",
      "haar_cascade_stop.xml\r\n",
      "haarcascade_frontalface_default.xml\r\n",
      "hello_world.xlsx\r\n",
      "hello_world_append.xlsx\r\n",
      "input.txt\r\n",
      "items.yaml\r\n",
      "kat_foto1.jpg\r\n",
      "keyword_model.zip\r\n",
      "leegmelden_plantuml.txt\r\n",
      "loudness.wav\r\n",
      "meta.tsv\r\n",
      "miaow_16k.wav\r\n",
      "michiel.db\r\n",
      "\u001b[34mmodels\u001b[m\u001b[m/\r\n",
      "movies.xml\r\n",
      "mqtt_open_ears_test.py\r\n",
      "mqtt_sub.py\r\n",
      "my-audio.wav\r\n",
      "my-db.duckdb\r\n",
      "\u001b[34mmy-new-tokenizer\u001b[m\u001b[m/\r\n",
      "my_test.wav\r\n",
      "my_wav.wav\r\n",
      "\u001b[34mmyenv\u001b[m\u001b[m/\r\n",
      "mywav_reduced_noise.wav\r\n",
      "mywav_reduced_noise2.wav\r\n",
      "new_file.ogg\r\n",
      "new_file.wav\r\n",
      "newimage.jpg\r\n",
      "newimage.thumbnail\r\n",
      "newsegment.wav\r\n",
      "noise_add.wav\r\n",
      "note.xsd\r\n",
      "\u001b[34moe_wavs\u001b[m\u001b[m/\r\n",
      "olifant_foto1.jpg\r\n",
      "olifant_foto2.jpg\r\n",
      "olifant_foto3.jpg\r\n",
      "olifant_foto4.jpg\r\n",
      "olifant_speelgoed1.jpg\r\n",
      "olifant_tekening1.jpg\r\n",
      "olifant_tekening2.jpg\r\n",
      "olifant_tekening3.jpg\r\n",
      "olifant_tekening4.jpg\r\n",
      "onderuit.wav\r\n",
      "onderuit_1min.wav\r\n",
      "opencv.png\r\n",
      "out.pdf\r\n",
      "out.wav\r\n",
      "output.avi\r\n",
      "output.jpg\r\n",
      "output.mp4\r\n",
      "output.thumbnail\r\n",
      "output.wav\r\n",
      "\u001b[34mpath\u001b[m\u001b[m/\r\n",
      "person.json\r\n",
      "petstore_openapi3.json\r\n",
      "petstore_openapi3.yaml\r\n",
      "piano_c.wav\r\n",
      "\u001b[34mpixellib\u001b[m\u001b[m/\r\n",
      "pixellib_example.jpg\r\n",
      "pixellib_example.thumbnail\r\n",
      "plane.json\r\n",
      "plantuml.png\r\n",
      "plantuml.txt\r\n",
      "plantuml_complex.txt\r\n",
      "plantuml_complex2.txt\r\n",
      "plot.png\r\n",
      "pysimplegui1.py\r\n",
      "pytooter_clientcred.secret\r\n",
      "razorback (1).mp3\r\n",
      "razorback.mp3\r\n",
      "recordedFile.wav\r\n",
      "requirements.txt\r\n",
      "road.jpg\r\n",
      "road.thumbnail\r\n",
      "road2.jpg\r\n",
      "road2.png\r\n",
      "road2.thumbnail\r\n",
      "road_car_view.mp4\r\n",
      "robot0.wav\r\n",
      "robot1.wav\r\n",
      "robot2.wav\r\n",
      "robot3.wav\r\n",
      "\u001b[34mrps\u001b[m\u001b[m/\r\n",
      "\u001b[34mrps-test-set\u001b[m\u001b[m/\r\n",
      "\u001b[34mruns\u001b[m\u001b[m/\r\n",
      "sample.mp4\r\n",
      "sarcasm (1).json\r\n",
      "sarcasm.json\r\n",
      "save.pkl\r\n",
      "\u001b[34msaved_keyword_model\u001b[m\u001b[m/\r\n",
      "servers.txt\r\n",
      "silence.wav\r\n",
      "simple.xml\r\n",
      "simple.xsd\r\n",
      "sleep_df_oura_202112011-12.csv\r\n",
      "snoring_2021_12_3-4b.csv\r\n",
      "speech_whistling2.wav\r\n",
      "streamlit.py\r\n",
      "streamlit_example.py\r\n",
      "temp.mp3\r\n",
      "temp1.png\r\n",
      "tesseract_sample.jpeg\r\n",
      "test.wav\r\n",
      "test2.wav\r\n",
      "test3.wav\r\n",
      "tmphrr_yaf2\r\n",
      "tone_220.wav\r\n",
      "tone_440.wav\r\n",
      "tranquilizer.py\r\n",
      "tutorial.ipynb\r\n",
      "untitled.txt\r\n",
      "user.avsc\r\n",
      "users.avro\r\n",
      "vecs.tsv\r\n",
      "websocketbrowser.html\r\n",
      "websocketbrowser.py\r\n",
      "welcome.mp3\r\n",
      "welcome.wav\r\n",
      "world-happiness\r\n",
      "world-happiness11nnjglf.tmp\r\n",
      "world-happinesstjpjti8t.tmp\r\n",
      "world-happinesswfvezx54.tmp\r\n",
      "yolo-tiny.h5\r\n",
      "yolo.h5\r\n",
      "yolov3.weights\r\n",
      "yolov3.weightsy3bop11b.tmp\r\n",
      "\u001b[34myolov5\u001b[m\u001b[m/\r\n",
      "yolov8m.yaml\r\n",
      "yolov8n.pt\r\n",
      "youtube-dl test video ''_ä↭𝕐-BaW_jenozKc.m4a\r\n",
      "youtube-dl test video ''_ä↭𝕐-BaW_jenozKc.mp4\r\n"
     ]
    }
   ],
   "source": [
    "#in a cell you can indicate it's linux by using the ! or % symbol\n",
    "ls"
   ]
  },
  {
   "cell_type": "markdown",
   "metadata": {},
   "source": [
    "## 3. Python build in functions\n",
    "\n",
    "The boring stuff when you start - but so so helpful when things get more complex."
   ]
  },
  {
   "cell_type": "code",
   "execution_count": 9,
   "metadata": {},
   "outputs": [],
   "source": [
    "dir(list)"
   ]
  },
  {
   "cell_type": "code",
   "execution_count": 1,
   "metadata": {},
   "outputs": [
    {
     "name": "stdout",
     "output_type": "stream",
     "text": [
      "Help on method_descriptor:\n",
      "\n",
      "sort(self, /, *, key=None, reverse=False)\n",
      "    Sort the list in ascending order and return None.\n",
      "    \n",
      "    The sort is in-place (i.e. the list itself is modified) and stable (i.e. the\n",
      "    order of two equal elements is maintained).\n",
      "    \n",
      "    If a key function is given, apply it once to each list item and sort them,\n",
      "    ascending or descending, according to their function values.\n",
      "    \n",
      "    The reverse flag can be set to sort in descending order.\n",
      "\n"
     ]
    }
   ],
   "source": [
    "help(list.sort)"
   ]
  },
  {
   "cell_type": "markdown",
   "metadata": {},
   "source": [
    "## 4. Basic math\n",
    "\n",
    "How to use basic math in Python:\n",
    "\n",
    "Standard symbols:\n",
    "\n",
    "    a+b addition\n",
    "    a-b subtraction\n",
    "    a*b multiplication\n",
    "    a/b division\n",
    "    a%b modulo\n",
    "    a//b floor division(example 5//2=2)\n",
    "    -a   negation\n",
    "    abs(a) absolute value\n",
    "    a**b  exponent\n",
    "    math.sqrt(a) square root => import math\n",
    "\n",
    "^ = power operator"
   ]
  },
  {
   "cell_type": "code",
   "execution_count": 44,
   "metadata": {},
   "outputs": [
    {
     "name": "stdout",
     "output_type": "stream",
     "text": [
      "5.35\n"
     ]
    }
   ],
   "source": [
    "#rounding\n",
    "print(round(5.34567, 2)) # rounds the number to 2 decimals"
   ]
  },
  {
   "cell_type": "code",
   "execution_count": 13,
   "metadata": {},
   "outputs": [
    {
     "name": "stdout",
     "output_type": "stream",
     "text": [
      "20.11111111111111\n",
      "20.11\n",
      "20.11\n"
     ]
    }
   ],
   "source": [
    "# Average\n",
    "l = [15, 18, 2, 36, 12, 78, 5, 6, 9]\n",
    "average=(sum(l) / len(l))\n",
    "print(average)\n",
    "print(round(average,2))\n",
    "print(\"%.2f\" % average)"
   ]
  },
  {
   "cell_type": "markdown",
   "metadata": {},
   "source": [
    "##  5. Data types\n",
    "\n",
    "Python has the following built-in data types: <br>\n",
    "\n",
    "Text Type:\t         string <br>\n",
    "Numeric Types:\t     integer, float, complex <br>\n",
    "Sequence Types:\t     list, tuple, range <br>\n",
    "Mapping Type:\t     dictionary <br>\n",
    "Set Types:\t         set, frozenset <br>\n",
    "Boolean Type:\t     boolean <br>\n",
    "Binary Types:\t     bytes, bytearray, memoryview <br>"
   ]
  },
  {
   "cell_type": "code",
   "execution_count": 2,
   "metadata": {},
   "outputs": [
    {
     "name": "stdout",
     "output_type": "stream",
     "text": [
      "Hello world 20 1.5 1j ['apple', 'banana', 'cherry'] ('apple', 'banana', 'cherry') range(0, 5) {'name': 'john', 'age': '36'} {'banana', 'cherry', 'apple'} frozenset({'banana', 'cherry', 'apple'}) True b'Hello' bytearray(b'\\x00\\x00\\x00\\x00\\x00') <memory at 0x000002A017717E88>\n"
     ]
    }
   ],
   "source": [
    "# Examples of data types\n",
    "\n",
    "a = ('Hello world') # this is a string\n",
    "b = 20 # this is an integer\n",
    "c = 1.5 # this is a float\n",
    "d = 1j # this is a complex number\n",
    "e = ['apple', 'banana', 'cherry'] # this is a list\n",
    "f = ('apple', 'banana', 'cherry') # this is a tuple\n",
    "g = range(5) # this is a range\n",
    "h = {'name': 'john', 'age': '36'} # this is a dictionary\n",
    "i = {'apple', 'banana', 'cherry'} # this is a set\n",
    "j = frozenset({'apple', 'banana', 'cherry'}) # this is a frozenset\n",
    "k = True # this is a boolean\n",
    "l = b\"Hello\" #this is bytes\n",
    "m = bytearray(5) # this is a bytearray\n",
    "n = memoryview(bytes(5))\n",
    "\n",
    "print(a,b,c,d,e,f,g,h,i,j,k,l,m,n)"
   ]
  },
  {
   "cell_type": "code",
   "execution_count": 12,
   "metadata": {},
   "outputs": [
    {
     "data": {
      "text/plain": [
       "str"
      ]
     },
     "execution_count": 12,
     "metadata": {},
     "output_type": "execute_result"
    }
   ],
   "source": [
    "# To find the datatype:\n",
    "type(a)"
   ]
  },
  {
   "cell_type": "code",
   "execution_count": 7,
   "metadata": {},
   "outputs": [
    {
     "data": {
      "text/plain": [
       "True"
      ]
     },
     "execution_count": 7,
     "metadata": {},
     "output_type": "execute_result"
    }
   ],
   "source": [
    "# to check we use isinstance\n",
    "q = 123 # define a variable with integer as input\n",
    "isinstance(q, int)"
   ]
  },
  {
   "cell_type": "markdown",
   "metadata": {},
   "source": [
    "## 6. Strings"
   ]
  },
  {
   "cell_type": "code",
   "execution_count": 11,
   "metadata": {},
   "outputs": [
    {
     "name": "stdout",
     "output_type": "stream",
     "text": [
      "hello\n",
      "5\n",
      "hello world\n"
     ]
    }
   ],
   "source": [
    "my_string = 'hello'    # String literals can use single quotes\n",
    "my_string2 = \"world\"    # or double quotes; it does not matter.\n",
    "print(my_string)       # Prints \"hello\"\n",
    "print(len(my_string))  # String length; prints \"5\"\n",
    "hw = my_string + ' ' + my_string2  # String concatenation with a whitespace in between\n",
    "print(hw)  # prints \"hello world\""
   ]
  },
  {
   "cell_type": "code",
   "execution_count": 1,
   "metadata": {},
   "outputs": [
    {
     "name": "stdout",
     "output_type": "stream",
     "text": [
      "--------------------------------------------------\n"
     ]
    }
   ],
   "source": [
    "print('-'*50)"
   ]
  },
  {
   "cell_type": "code",
   "execution_count": 2,
   "metadata": {},
   "outputs": [
    {
     "name": "stdout",
     "output_type": "stream",
     "text": [
      "Abcd\n"
     ]
    }
   ],
   "source": [
    "my_str = 'AbCd'\n",
    "print(my_str.capitalize())"
   ]
  },
  {
   "cell_type": "code",
   "execution_count": 3,
   "metadata": {},
   "outputs": [
    {
     "name": "stdout",
     "output_type": "stream",
     "text": [
      "True\n"
     ]
    }
   ],
   "source": [
    "print('epsilon'.endswith('on'))"
   ]
  },
  {
   "cell_type": "code",
   "execution_count": 4,
   "metadata": {},
   "outputs": [
    {
     "name": "stdout",
     "output_type": "stream",
     "text": [
      "True\n"
     ]
    }
   ],
   "source": [
    "print('Moooo'.isalpha())"
   ]
  },
  {
   "cell_type": "code",
   "execution_count": 6,
   "metadata": {},
   "outputs": [
    {
     "name": "stdout",
     "output_type": "stream",
     "text": [
      "True\n",
      "False\n"
     ]
    }
   ],
   "source": [
    "print('2022'.isdigit())\n",
    "print('2022Year'.isdigit())"
   ]
  },
  {
   "cell_type": "markdown",
   "metadata": {},
   "source": [
    "### 6a. String formatting\n",
    "\n",
    "You can use string formatting if you want to add data to a certain string.\n",
    "\n",
    "There are two ways of string formatting: \n",
    "- using the {} brackets and\n",
    "- using the %\n",
    "\n"
   ]
  },
  {
   "cell_type": "code",
   "execution_count": 3,
   "metadata": {},
   "outputs": [
    {
     "name": "stdout",
     "output_type": "stream",
     "text": [
      "The price is 49 dollars\n",
      "The price is 49.00 Euro\n",
      "I want 3 pieces for 49.00 Euro each.\n"
     ]
    }
   ],
   "source": [
    "# String formatting using {}\n",
    "price = 49\n",
    "txt = \"The price is {} dollars\" #insert the value 49 between the brackets\n",
    "print(txt.format(price))\n",
    "\n",
    "price = 49\n",
    "txt = \"The price is {:.2f} Euro\" # insert the value 49 on the semicolon and add 2 zero's after the dot\n",
    "print(txt.format(price))\n",
    "\n",
    "quantity =3 \n",
    "price = 49\n",
    "text = \"I want {} pieces for {:.2f} Euro each.\" # optional: you can use index numbers between the curly brackets {0}\n",
    "print(text.format(quantity, price))"
   ]
  },
  {
   "cell_type": "markdown",
   "metadata": {},
   "source": [
    "### 6b. Here are some of the following string representations you should know\n",
    "%s - String (or any object with a string representation, like numbers)\n",
    "\n",
    "%d - Integers\n",
    "\n",
    "%f - Floating point numbers\n",
    "\n",
    "%.<number of digits>f - Floating point numbers with a fixed amount of digits to the right of the dot.\n",
    "\n",
    "%x/%X - Integers in hex representation (lowercase/uppercase)"
   ]
  },
  {
   "cell_type": "code",
   "execution_count": 36,
   "metadata": {},
   "outputs": [
    {
     "name": "stdout",
     "output_type": "stream",
     "text": [
      "Hello, John!\n",
      "John is 23 years old.\n"
     ]
    }
   ],
   "source": [
    "# String formatting using %s \n",
    "name = \"John\"\n",
    "print(\"Hello, %s!\" % name)\n",
    "\n",
    "name = \"John\"\n",
    "age = 23\n",
    "print(\"%s is %d years old.\" % (name, age)) #%s = string, %d is integer . Play around by making 23 a string."
   ]
  },
  {
   "cell_type": "code",
   "execution_count": 2,
   "metadata": {},
   "outputs": [
    {
     "name": "stdout",
     "output_type": "stream",
     "text": [
      "HELLO WORLD!\n",
      "hello world!\n"
     ]
    }
   ],
   "source": [
    "# String formatting: UPPER and lower case.\n",
    "a_string = \"Hello world!\"\n",
    "print(a_string.upper())\n",
    "print(a_string.lower())"
   ]
  },
  {
   "cell_type": "code",
   "execution_count": 3,
   "metadata": {},
   "outputs": [
    {
     "name": "stdout",
     "output_type": "stream",
     "text": [
      "I like apples\n"
     ]
    }
   ],
   "source": [
    "#replace text in a string with .replace\n",
    "txt = \"I like bananas\"\n",
    "\n",
    "x = txt.replace(\"bananas\", \"apples\")\n",
    "\n",
    "print(x)"
   ]
  },
  {
   "cell_type": "markdown",
   "metadata": {},
   "source": [
    "### 6c. Split string"
   ]
  },
  {
   "cell_type": "code",
   "execution_count": 20,
   "metadata": {},
   "outputs": [
    {
     "data": {
      "text/plain": [
       "['This', 'is', 'random', 'text', 'we’re', 'going', 'to', 'split', 'apart']"
      ]
     },
     "execution_count": 20,
     "metadata": {},
     "output_type": "execute_result"
    }
   ],
   "source": [
    "words = \"This is random text we’re going to split apart\"\n",
    "\n",
    "words2 = words.split(\" \")\n",
    "words2"
   ]
  },
  {
   "cell_type": "code",
   "execution_count": 5,
   "metadata": {},
   "outputs": [
    {
     "name": "stdout",
     "output_type": "stream",
     "text": [
      "s i l l y   w a l k s "
     ]
    }
   ],
   "source": [
    "#indexing strings\n",
    "\n",
    "example_string = 'silly walks'\n",
    "\n",
    "for ix in range(len(example_string)):\n",
    "    print(example_string[ix], end=' ')"
   ]
  },
  {
   "cell_type": "markdown",
   "metadata": {},
   "source": [
    "### 6d. F-string (formatted strings)"
   ]
  },
  {
   "cell_type": "code",
   "execution_count": 13,
   "metadata": {},
   "outputs": [
    {
     "name": "stdout",
     "output_type": "stream",
     "text": [
      "The average is 50\n"
     ]
    }
   ],
   "source": [
    "# use f' to insert an integer into a string\n",
    "average = 50\n",
    "print(f'The average is {average}')"
   ]
  },
  {
   "cell_type": "code",
   "execution_count": 14,
   "metadata": {},
   "outputs": [
    {
     "name": "stdout",
     "output_type": "stream",
     "text": [
      "My age is 46\n"
     ]
    }
   ],
   "source": [
    "age = 46\n",
    "print(f'My age is {age}')"
   ]
  },
  {
   "cell_type": "code",
   "execution_count": 15,
   "metadata": {},
   "outputs": [
    {
     "name": "stdout",
     "output_type": "stream",
     "text": [
      "7 times 5 is 35\n"
     ]
    }
   ],
   "source": [
    "#also you can put a calculation (or other function) between the brackets\n",
    "number1=7\n",
    "number2=5\n",
    "print(f'{number1} times {number2} is {number1 * number2}')"
   ]
  },
  {
   "cell_type": "markdown",
   "metadata": {},
   "source": [
    "## 7. Variables\n",
    "\n",
    "A <b>variable </b> is a label for a location in memory; it can be used to hold a <i>value</i>.\n",
    "In Python we may reuse the same variable to store values of any type.\n",
    "Python convention is to give meaningful names to variables and declare 1 variable per line.\n",
    "\n",
    "We call the part of a program where a variable is accessible its <i> scope</i> and the duration for which it exists its <i> lifetime</i>.\n",
    "\n",
    "Global variables have a scope of the whole program , whereas local variables are part of one function. See also under Class (python Intermediate notebook)\n",
    "\n",
    "The assignment operator in Python is the = whereas the operator assigns the <i>value</i> to the right to the </variable> on the left.\n",
    "\n",
    "Python has some special Variables whose value is always the same:\n",
    "- True -> 1\n",
    "- False -> 0\n",
    "- None -> 'data is missing'"
   ]
  },
  {
   "cell_type": "markdown",
   "metadata": {},
   "source": [
    "## 8. Python Keywords"
   ]
  },
  {
   "cell_type": "markdown",
   "metadata": {},
   "source": [
    "Since Python 3.8 there are 35 reserved words or 'Keywords' in Python:\n",
    "\n",
    "False      await      else       import     pass\n",
    "None       break      except     in         raise\n",
    "True       class      finally    is         return\n",
    "and        continue   for        lambda     try\n",
    "as         def        from       nonlocal   while\n",
    "assert     del        global     not        with\n",
    "async      elif       if         or         yield\n",
    "\n",
    "Source: https://docs.python.org/3.8/reference/lexical_analysis.html#keywords\n",
    "More info can be found at: https://realpython.com/python-keywords/"
   ]
  },
  {
   "cell_type": "code",
   "execution_count": 3,
   "metadata": {},
   "outputs": [
    {
     "name": "stdout",
     "output_type": "stream",
     "text": [
      "True\n",
      "False\n"
     ]
    }
   ],
   "source": [
    "#use this short script to see a word is a keyword or not\n",
    "import keyword\n",
    "print(keyword.iskeyword('except'))\n",
    "print(keyword.iskeyword('hello'))"
   ]
  }
 ],
 "metadata": {
  "kernelspec": {
   "display_name": "Python 3 (ipykernel)",
   "language": "python",
   "name": "python3"
  },
  "language_info": {
   "codemirror_mode": {
    "name": "ipython",
    "version": 3
   },
   "file_extension": ".py",
   "mimetype": "text/x-python",
   "name": "python",
   "nbconvert_exporter": "python",
   "pygments_lexer": "ipython3",
   "version": "3.9.12"
  }
 },
 "nbformat": 4,
 "nbformat_minor": 4
}
