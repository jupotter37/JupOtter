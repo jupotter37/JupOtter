{
 "cells": [
  {
   "cell_type": "code",
   "execution_count": null,
   "metadata": {},
   "outputs": [],
   "source": [
    "# species_ext = %env species_ext\n",
    "species_ext = 'versicolor'"
   ]
  },
  {
   "cell_type": "markdown",
   "metadata": {},
   "source": [
    "# Making interactive plots with widgets"
   ]
  },
  {
   "cell_type": "code",
   "execution_count": null,
   "metadata": {},
   "outputs": [],
   "source": [
    "%matplotlib inline\n",
    "import matplotlib.pyplot as plt\n",
    "import seaborn as sns\n",
    "import warnings; warnings.simplefilter('ignore')\n",
    "import ipywidgets as widgets\n",
    "import numpy as np\n",
    "from scipy.optimize import fsolve "
   ]
  },
  {
   "cell_type": "code",
   "execution_count": null,
   "metadata": {},
   "outputs": [],
   "source": []
  },
  {
   "cell_type": "code",
   "execution_count": null,
   "metadata": {},
   "outputs": [],
   "source": [
    "karray=np.arange(0,5,0.05)\n",
    "nk=karray.shape[0]\n",
    "\n",
    "def xwave_disp(w,omegap,omegac,ck):\n",
    "    ratio=omegac/omegap\n",
    "    y=(ck*ck)/(omegap*omegap)-(w*w)/(omegap*omegap)+(w*w/(omegap*omegap)-1)/(w*w/(omegap*omegap)-(1+ratio*ratio))\n",
    "    return y\n",
    "\n",
    "warrayL=np.zeros(karray.shape[0])\n",
    "warrayR=np.zeros(karray.shape[0])\n",
    "wLarray=np.zeros(karray.shape[0])\n",
    "wRarray=np.zeros(karray.shape[0])\n",
    "wHarray=np.zeros(karray.shape[0])\n",
    "\n",
    "def xodisp(wp,wc):\n",
    "\n",
    "    wR=0.5*(wc+np.sqrt(4*wp*wp+wc*wc))\n",
    "    wL=0.5*(np.sqrt(4*wp*wp+wc*wc)-wc)\n",
    "\n",
    "    wLarray[:]=wL\n",
    "    wRarray[:]=wR\n",
    "    wHarray[:]=np.sqrt(wp*wp+wc*wc)\n",
    "\n",
    "    warrayL[0]=wL\n",
    "    warrayR[0]=wR\n",
    "    for ik in range(1,nk):\n",
    "        warrayL[ik]=fsolve(xwave_disp,warrayL[ik-1],args=(wp,wc,karray[ik]))\n",
    "        warrayR[ik]=fsolve(xwave_disp,warrayR[ik-1],args=(wp,wc,karray[ik]))\n",
    "\n",
    "    plt.figure(figsize=(8,4))\n",
    "    \n",
    "    plt.subplot(1, 2, 1)\n",
    "    plt.plot(karray,warrayR,'b',label='$\\omega$ > $\\omega_R$')\n",
    "    plt.plot(karray,warrayL,'r',label=' $\\omega_L$ < $\\omega$ < $\\omega_H$')\n",
    "    plt.plot(karray,wLarray,'--',label='$\\omega_L$')\n",
    "    plt.plot(karray,wRarray,'--',label='$\\omega_R$')\n",
    "    plt.plot(karray,wHarray,'--',label='$\\omega_H$')\n",
    "    plt.plot(karray, karray,'--', color='fuchsia',label='$\\omega/k=c$')\n",
    "    plt.xlabel('wave number $[ck/\\omega_{pe}]$')\n",
    "    plt.ylabel('frequency $[\\omega_{pe}]$')\n",
    "    plt.title('X wave dispersion relation,')\n",
    "    plt.legend()\n",
    "    plt.xlim([0,karray[nk-1]])\n",
    "    plt.ylim([0,6])#karray[nk-1]+1.0])\n",
    "    plt.grid(b=True, which='major', axis='both')\n",
    "    plt.legend(loc=0, fontsize=8)\n",
    "    \n",
    "    N = 5\n",
    "    k = np.linspace(0,N,N*20)\n",
    "    c = 1\n",
    "    w = np.sqrt(wp**2 + c**2 * k**2)\n",
    "    cline = k\n",
    "    plt.subplot(1, 2, 2)\n",
    "    plt.plot(k,w, label='$\\omega$(k)')\n",
    "    plt.plot(k,cline, label='slope = c')\n",
    "    plt.xlabel('k [$c/\\omega_p$]')\n",
    "    plt.ylabel('$\\omega$ (in units of $\\omega_p$)')\n",
    "    plt.xlim(0,N)\n",
    "    plt.ylim(0,N+1)\n",
    "    plt.grid(b=True, which='major', axis='both')\n",
    "    plt.legend(loc=0)\n",
    "    \n",
    "    plt.tight_layout()\n",
    "    plt.show()\n",
    "    \n",
    "widgets.interact(xodisp,wp=(0.0,2.0),wc=(0.0,1.0),continuous_update=False);"
   ]
  },
  {
   "cell_type": "code",
   "execution_count": null,
   "metadata": {},
   "outputs": [],
   "source": [
    "df = sns.load_dataset(\"iris\")\n",
    "df.head()"
   ]
  },
  {
   "cell_type": "code",
   "execution_count": null,
   "metadata": {},
   "outputs": [],
   "source": [
    "df['species'].unique().tolist()"
   ]
  },
  {
   "cell_type": "code",
   "execution_count": null,
   "metadata": {},
   "outputs": [],
   "source": [
    "sns.set(style='ticks')\n",
    "\n",
    "def speciesreport(s):\n",
    "    v1 = df.loc[df['species']==s,('sepal_length')].mean()\n",
    "    v2 = df.loc[df['species']==s,('sepal_length')]\n",
    "    print(s,v1,v2)\n",
    "    \n",
    "speciesreport(species_ext)"
   ]
  },
  {
   "cell_type": "code",
   "execution_count": null,
   "metadata": {},
   "outputs": [],
   "source": []
  },
  {
   "cell_type": "markdown",
   "metadata": {},
   "source": [
    "# Reference:\n",
    "\n",
    "* [ipywidgets documentation](https://ipywidgets.readthedocs.io/en/stable/)\n",
    "* [Widgets tutorial materials](https://github.com/jupyter-widgets/tutorial/blob/master/notebooks/index.ipynb)"
   ]
  }
 ],
 "metadata": {
  "kernelspec": {
   "display_name": "Python 3",
   "language": "python",
   "name": "python3"
  },
  "language_info": {
   "codemirror_mode": {
    "name": "ipython",
    "version": 3
   },
   "file_extension": ".py",
   "mimetype": "text/x-python",
   "name": "python",
   "nbconvert_exporter": "python",
   "pygments_lexer": "ipython3",
   "version": "3.6.7"
  }
 },
 "nbformat": 4,
 "nbformat_minor": 2
}
