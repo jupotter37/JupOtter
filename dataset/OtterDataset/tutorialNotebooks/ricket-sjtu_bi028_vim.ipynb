{
 "cells": [
  {
   "cell_type": "markdown",
   "metadata": {},
   "source": [
    "# Vim Tutorial\n",
    "___"
   ]
  },
  {
   "cell_type": "markdown",
   "metadata": {},
   "source": [
    "## STARTING AND QUITING VI\n",
    "| Command | Description |\n",
    "| --- | --- |\n",
    "| vim | starts vim without a named file to save to.|\n",
    "| vim filename.txt | start vim on an existing file or create a new file if not exists. |\n",
    "| `<Esc> key` | puts you in edit mode if you weren't already there. |\n",
    "|:q! |quit vim WITHOUT SAVING |\n",
    "|:wq write | save and quit |\n",
    "| `<Esc>-ZZ` | also saves and quits |\n",
    "| :w newfile.txt | write to a new file and don't quit |\n",
    "| :wq newfile.txt | write to a new file and quit |\n",
    "| ^ or 0 | move cursor to start of line |\n",
    "| $ | move cursor to the end of the line |\n",
    "| CTRL+G  | indicates current line number of file |\n",
    "| CTRL+F  | moves cursor one-page forward |\n",
    "| CTRL+B  | moves cursor one-page backward |\n",
    "| SHIFT+H | moves cursor to top of screen |\n",
    "| shift+L | moves cursor to bottom of screen |\n",
    "| 1G | move to line 1 |\n",
    "| G  | moves to last line |\n",
    "| w  | advances by a word (W doesn't stop at punctuation)\n",
    "| b  | backs up by a word (B as well) |\n",
    "| e  | go to the end of a word |"
   ]
  },
  {
   "cell_type": "markdown",
   "metadata": {},
   "source": [
    "\n",
    "## BASIC EDITING\n",
    "| Command | Description |\n",
    "| --- | --- |\n",
    "| i | Puts you in insert mode, press <Esc> to exit |\n",
    "| I | Equivalent to ^+i |\n",
    "| a | Insert mode, but appending after cursor |\n",
    "| A | Equivalent to $ + a |\n",
    "| o | Append mode, opening new line below where you are |\n",
    "| O | Append mode, opening new line above where you are |\n",
    "| u | Undo |\n",
    "| x | Deletes a single character; 5x deletes next 5 characters |\n",
    "| J | Deletes end-of-line character (\"Join\" of current line with next line) |\n",
    "| . | Repeats last editing command |\n",
    "| r | Replaces current character with another |\n",
    "| cw | Changes remainder of current word to whatever you type; `<ESC>` to end edit |\n",
    "| /word | Finds occurrence of 'word' in the file |\n",
    "| n | Finds next occurrence of 'word' |\n",
    "| dd | Deletes line |\n",
    "| 3dd | Deletes 3 lines (from this line down) |\n",
    "| 23,50d | Deletes lines 23-50, inclusive |\n",
    "| 3Y | \"Yank'' three lines (place in unnamed buffer) |\n",
    "| \"a3Y | Yank three lines to a buffer called 'a' |\n",
    "| p | Puts deleted (or yanked lines) below this line |\n",
    "| P | puts deleted (or yanked lines) above this line |\n",
    "| \"ap | places lines from buffer 'a' |"
   ]
  },
  {
   "cell_type": "markdown",
   "metadata": {},
   "source": [
    "## COMMAND LINE EDITING\n",
    "| Command | Description |\n",
    "| --- | --- |\n",
    "| `:%s/word/WORD/` | Replaces first occurrence of word with WORD on every line of the file |\n",
    "| `:1,$s/word/WORD/g` | Globally change word to WORD from line 1 to the end. |\n",
    "| `:1,23s/^word/WORD/` | Replace \"word\" at the beginning with \"WORD\" from line 1 to 23. |\n",
    "| `:1,23s/word$/WORD/` | Replace \"word\" at the end with \"WORD\" from line 1 to 23 |\n",
    "| `:1,$s/^...//` | Remove \"...\" beginning at all lines. |\n",
    "| `:g/word/d` | Does a \"grep'' to find lines with 'word', then deletes those lines |\n",
    "| `:1,$s/\\&/and/g` | Replaces every occurrence of & (escaped) with \"and\" |\n",
    "| `:g/word/p` | Does a \"grep'' to find lines with 'word', then prints those line to the screen |\n",
    "| `:3,15s/^/\\#` | Put a # at the beginning of lines 3 through 15 |\n",
    "| `:%s/$/;` | Append a semicolon to the end of every line (note that \"%\" = \"1,$\") |"
   ]
  },
  {
   "cell_type": "markdown",
   "metadata": {},
   "source": [
    "## FILE OPERATIONS\n",
    "| Command | Description |\n",
    "| --- | --- |\n",
    "| `:r path/filename` |  read in the specified file starting on the next line |\n",
    "| `:w` | save |\n",
    "| `:w filename` | save as filename |\n",
    "| `:wq` | save and quit |\n",
    "| `:q` | quit if no modifications since last save |\n",
    "| `:q!` | quit no matter what (without saving) |\n",
    "| `:e filename` | edit another file without having to quit and restart vim | "
   ]
  },
  {
   "cell_type": "code",
   "execution_count": null,
   "metadata": {
    "collapsed": true
   },
   "outputs": [],
   "source": []
  }
 ],
 "metadata": {
  "kernelspec": {
   "display_name": "Bash",
   "language": "bash",
   "name": "bash"
  },
  "language_info": {
   "codemirror_mode": "shell",
   "file_extension": ".sh",
   "mimetype": "text/x-sh",
   "name": "bash"
  }
 },
 "nbformat": 4,
 "nbformat_minor": 0
}
