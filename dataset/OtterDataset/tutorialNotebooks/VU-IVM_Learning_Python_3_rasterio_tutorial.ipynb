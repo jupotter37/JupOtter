{
 "cells": [
  {
   "cell_type": "markdown",
   "metadata": {},
   "source": [
    "# Python skills for research in Hydrology\n",
    "## Lesson 3: working with raster data\n",
    "  \n",
    "  \n",
    "Original notebook by Patrick Gray    \n",
    "Adapted by Timothy Tiggeloven for the series 'Python skills for research in Hydrology' for the master Hydrology at the Vrije Universiteit Amsterdam (2019).\n",
    "\n",
    "-------------"
   ]
  },
  {
   "cell_type": "markdown",
   "metadata": {},
   "source": [
    "![](./data/figures/python_remote_sensing.png)"
   ]
  },
  {
   "cell_type": "markdown",
   "metadata": {},
   "source": [
    "## Introduction\n",
    "\n",
    "GDAL - the Geospatial Data Abstraction Library is a software library for reading and writing raster and vector geospatial data formats and forms the basis of most software for processing geospatial data.\n",
    "\n",
    "There are many formats for using GDAL ranging from graphical tools like ArcGIS or QGIS to command line GDAL tools but here we're using the fantastic `rasterio` python package ([readthedocs](https://rasterio.readthedocs.io/en/latest/)) which provides a pythonic wrapping around GDAL. Basically it reads and writes geospatial formats and provides a Python API based on `numpy` N-dimensional arrays and GeoJSON.\n",
    "\n",
    "If you're coming from another language and want an overview of object oriented programming in Python, see the [python like you meant it](https://pythonlikeyoumeanit.com) short online course.\n"
   ]
  },
  {
   "cell_type": "markdown",
   "metadata": {},
   "source": [
    "## Module import in Python\n",
    "\n",
    "Before we can get started, we need to tell Python that we will be using functions, classes, and variables from some packages. The technical wording for this is that we need to import these modules into our [namespace](http://en.wikipedia.org/wiki/Namespace) (see Python's documentation on the `module` system [here](https://docs.python.org/3/tutorial/modules.html)).\n",
    "\n",
    "We will do this using some `import` statements:"
   ]
  },
  {
   "cell_type": "code",
   "execution_count": 1,
   "metadata": {},
   "outputs": [
    {
     "name": "stdout",
     "output_type": "stream",
     "text": [
      "rasterio's version is: 1.0.24\n"
     ]
    }
   ],
   "source": [
    "import rasterio     # import the main rasterio function\n",
    "import matplotlib   # matplotlib is the primary python plotting and viz library\n",
    "import numpy as np  # computational arrays libarary \n",
    "# this bit of magic allows matplotlib to plot inline in a jupyter notebook\n",
    "%matplotlib inline  \n",
    "\n",
    "# We can check which version we're running by printing the \"__version__\" variable\n",
    "print(\"rasterio's version is: \" + rasterio.__version__)"
   ]
  },
  {
   "cell_type": "markdown",
   "metadata": {},
   "source": [
    "Once we import these packages Python will know where to look on our system for the code that implements them. When we want to access classes, variables, or functions within these packages, we will need to reference the full path (e.g. `rasterio.open()`)"
   ]
  },
  {
   "cell_type": "markdown",
   "metadata": {},
   "source": [
    "### Examples\n",
    "#### Open an image\n",
    "When we open an image in rasterio we create a Dataset object. As the name would suggest, we can open an image with the \"open\" function within `rasterio`.\n",
    "\n",
    "We will use an example image provided in the data directory for this chapter. This image is a subset of a Landsat 7 image containing the 8 bands on this sensor rearranged in order of wavelength (e.g., Landsat 7's second SWIR channel comes before thermal channel in our stack). The last band in this image is a cloud and cloud shadow mask from Fmask."
   ]
  },
  {
   "cell_type": "code",
   "execution_count": 2,
   "metadata": {},
   "outputs": [
    {
     "name": "stdout",
     "output_type": "stream",
     "text": [
      "<open DatasetReader name='./data/LE70220492002106EDC00_stack.gtif' mode='r'>\n"
     ]
    }
   ],
   "source": [
    "# filepath to our image\n",
    "img_fp = './data/LE70220492002106EDC00_stack.gtif'\n",
    "\n",
    "# Open a geospatial dataset\n",
    "dataset = rasterio.open(img_fp)\n",
    "print(dataset)"
   ]
  },
  {
   "cell_type": "markdown",
   "metadata": {},
   "source": [
    "Now that we have this dataset open, let's explore some of its capabilities.\n",
    "\n",
    "### Image attributes"
   ]
  },
  {
   "cell_type": "code",
   "execution_count": 16,
   "metadata": {},
   "outputs": [
    {
     "name": "stdout",
     "output_type": "stream",
     "text": [
      "Image filename: ./data/LE70220492002106EDC00_stack.gtif\n",
      "\n"
     ]
    }
   ],
   "source": [
    "# what is the name of this image\n",
    "img_name = dataset.name\n",
    "print('Image filename: {n}\\n'.format(n=img_name))"
   ]
  },
  {
   "cell_type": "code",
   "execution_count": 17,
   "metadata": {},
   "outputs": [
    {
     "name": "stdout",
     "output_type": "stream",
     "text": [
      "Number of bands in image: 8\n",
      "\n"
     ]
    }
   ],
   "source": [
    "# How many bands does this image have?\n",
    "num_bands = dataset.count\n",
    "print('Number of bands in image: {n}\\n'.format(n=num_bands))"
   ]
  },
  {
   "cell_type": "code",
   "execution_count": 18,
   "metadata": {},
   "outputs": [
    {
     "name": "stdout",
     "output_type": "stream",
     "text": [
      "Image size is: 250 rows x 250 columns\n",
      "\n"
     ]
    }
   ],
   "source": [
    "# How many rows and columns?\n",
    "rows, cols = dataset.shape\n",
    "print('Image size is: {r} rows x {c} columns\\n'.format(r=rows, c=cols))"
   ]
  },
  {
   "cell_type": "code",
   "execution_count": 19,
   "metadata": {},
   "outputs": [
    {
     "name": "stdout",
     "output_type": "stream",
     "text": [
      "Raster description: ('band 1 reflectance', 'band 2 reflectance', 'band 3 reflectance', 'band 4 reflectance', 'band 5 reflectance', 'band 7 reflectance', 'band 6 temperature', 'Band 8')\n",
      "\n"
     ]
    }
   ],
   "source": [
    "# Does the raster have a description or metadata?\n",
    "desc = dataset.descriptions\n",
    "metadata = dataset.meta\n",
    "print('Raster description: {desc}\\n'.format(desc=desc))"
   ]
  },
  {
   "cell_type": "code",
   "execution_count": 20,
   "metadata": {},
   "outputs": [
    {
     "name": "stdout",
     "output_type": "stream",
     "text": [
      "Raster driver: GTiff\n",
      "\n"
     ]
    }
   ],
   "source": [
    "# What driver was used to open the raster?\n",
    "driver = dataset.driver\n",
    "print('Raster driver: {d}\\n'.format(d=driver))"
   ]
  },
  {
   "cell_type": "code",
   "execution_count": 21,
   "metadata": {},
   "outputs": [
    {
     "name": "stdout",
     "output_type": "stream",
     "text": [
      "Image projection:\n",
      "EPSG:32615 \n",
      "\n"
     ]
    }
   ],
   "source": [
    "# What is the raster's projection?\n",
    "proj = dataset.crs\n",
    "print('Image projection:')\n",
    "print(proj, '\\n')"
   ]
  },
  {
   "cell_type": "code",
   "execution_count": 22,
   "metadata": {},
   "outputs": [
    {
     "name": "stdout",
     "output_type": "stream",
     "text": [
      "Image geo-transform:\n",
      "| 30.00, 0.00, 462405.00|\n",
      "| 0.00,-30.00, 1741815.00|\n",
      "| 0.00, 0.00, 1.00|\n",
      "\n"
     ]
    }
   ],
   "source": [
    "# What is the raster's \"geo-transform\"\n",
    "gt = dataset.transform\n",
    "print('Image geo-transform:\\n{gt}\\n'.format(gt=gt))"
   ]
  },
  {
   "cell_type": "code",
   "execution_count": 23,
   "metadata": {},
   "outputs": [
    {
     "name": "stdout",
     "output_type": "stream",
     "text": [
      "All raster metadata:\n",
      "{'driver': 'GTiff', 'dtype': 'int16', 'nodata': None, 'width': 250, 'height': 250, 'count': 8, 'crs': CRS.from_epsg(32615), 'transform': Affine(30.0, 0.0, 462405.0,\n",
      "       0.0, -30.0, 1741815.0)}\n"
     ]
    }
   ],
   "source": [
    "print('All raster metadata:')\n",
    "print(metadata)"
   ]
  },
  {
   "cell_type": "markdown",
   "metadata": {},
   "source": [
    "The first few pieces of information we obtained are fairly straightforward - image name, the raster size, the number of bands, a description, some metadata, and the raster's file format.\n",
    "\n",
    "The image's projection is formatted in what's known as \"Well Known Text\". For more information on specific projections and for format conversions among projection description formats (e.g., proj4 string, WKT, ESRI WKT, JSON, etc.) see [Spatial Reference](http://www.spatialreference.org).\n",
    "\n",
    "The last piece of information we accessed is something called a \"geotransform\". This set of 6 numbers provides all the information required to and from transform pixel and projected coordinates. In this example, the first number (462405) and the fourth number (1741815) are the top left of the upper left pixel of the raster. The pixel size in x and y dimensions of the raster is listed as the second (30) and the sixth (-30) numbers. Since our raster is north up oriented, the third and fifth numbers are 0. For more information on the GDAL data model, [visit this web page](http://www.gdal.org/gdal_datamodel.html)."
   ]
  },
  {
   "cell_type": "markdown",
   "metadata": {},
   "source": [
    "### Image raster bands\n",
    "\n",
    "##### now for the fun part, actually visualizing and working with the data\n",
    "\n",
    "The rasterio Dataset object we created contains a lot of useful information but it is not directly used to read in the raster image. Instead we will need to access the raster's bands using the `read()` method:"
   ]
  },
  {
   "cell_type": "code",
   "execution_count": 24,
   "metadata": {},
   "outputs": [
    {
     "data": {
      "text/plain": [
       "(250, 250)"
      ]
     },
     "execution_count": 24,
     "metadata": {},
     "output_type": "execute_result"
    }
   ],
   "source": [
    "# Open the fourth band in our image - NIR here\n",
    "nir = dataset.read(4)\n",
    "nir.shape # check out the dimensions of the image"
   ]
  },
  {
   "cell_type": "markdown",
   "metadata": {},
   "source": [
    "When we load our raster band into memory we will read it into a [NumPy](http://www.numpy.org/) 2 dimensional array. NumPy is, [\"the fundamental package for scientific computing with Python\"](http://www.numpy.org/), because it allows us to represent our data in a very memory efficient way.\n",
    "\n",
    "NumPy arrays are the cornerstone or building block of the rest of the Scientific Python suite of software. Get familiar with them:\n",
    "\n",
    "+ [NumPy for MATLAB users](http://wiki.scipy.org/NumPy_for_Matlab_Users)\n",
    "+ [NumPy tutorial](http://wiki.scipy.org/Tentative_NumPy_Tutorial)\n",
    "+ [NumPy API reference manual](http://docs.scipy.org/doc/numpy/reference/)\n",
    "\n",
    "Just as we made the routines and data types from rasterio available to us using `import`, we loaded up NumPy. When we import NumPy, we also gave it an alias so that we don't have to type `numpy` every time we want to use it."
   ]
  },
  {
   "cell_type": "code",
   "execution_count": 25,
   "metadata": {},
   "outputs": [
    {
     "name": "stdout",
     "output_type": "stream",
     "text": [
      "Band datatypes: ('int16', 'int16', 'int16', 'int16', 'int16', 'int16', 'int16', 'int16')\n",
      "Band range: 1007 - 8178\n",
      "Band mean, stddev: 2700.18344, 710.1296021415855\n",
      "\n"
     ]
    }
   ],
   "source": [
    "# What are the band's datatypes?\n",
    "datatype = dataset.dtypes\n",
    "print('Band datatypes: {dt}'.format(dt=datatype))\n",
    "\n",
    "# How about some band statistics?\n",
    "band_mean = np.mean(nir)\n",
    "band_min = np.amin(nir)\n",
    "band_max = np.amax(nir)\n",
    "band_stddev = np.std(nir)\n",
    "print('Band range: {minimum} - {maximum}'.format(maximum=band_max,\n",
    "                                                 minimum=band_min))\n",
    "print('Band mean, stddev: {m}, {s}\\n'.format(m=band_mean, s=band_stddev))"
   ]
  },
  {
   "cell_type": "markdown",
   "metadata": {},
   "source": [
    "The method `read()` takes arguments that allow us to specify a subset of the raster bands, specific X and Y offsets and sizes of the bands and much more. Remember this ability when you want to process large images or are working with a limited amount of memory. In these circumstances, you will run out of memory if you read the entire dataset in at once. Instead, read in a block of some number of columns and rows at one time, perform your computation and store your output, and then chunk through the rest of the image.\n",
    "\n",
    "Read more here: https://rasterio.readthedocs.io/en/latest/api/rasterio.io.html#rasterio.io.BufferedDatasetWriter.read\n",
    "\n",
    "For now, because this image is small, we'll just read in and display the entire image:"
   ]
  },
  {
   "cell_type": "code",
   "execution_count": 26,
   "metadata": {},
   "outputs": [
    {
     "data": {
      "text/plain": [
       "(8, 250, 250)"
      ]
     },
     "execution_count": 26,
     "metadata": {},
     "output_type": "execute_result"
    }
   ],
   "source": [
    "full_img = dataset.read()\n",
    "full_img.shape # bands, rows, cols"
   ]
  },
  {
   "cell_type": "markdown",
   "metadata": {},
   "source": [
    "With our data read into a NumPy array, we can print it to console and even perform statistics on it. In addition to helping us store massive amounts of data efficiently, NumPy will help us with some basic linear algebra, numerical operations, and summary statistics.\n",
    "\n",
    "For now let's plot that near infrared band we read in earlier."
   ]
  },
  {
   "cell_type": "code",
   "execution_count": 27,
   "metadata": {},
   "outputs": [
    {
     "name": "stdout",
     "output_type": "stream",
     "text": [
      "Image dimensions:  (8, 250, 250)\n"
     ]
    },
    {
     "data": {
      "image/png": "[encoded data removed]",
      "text/plain": [
       "<Figure size 432x288 with 1 Axes>"
      ]
     },
     "metadata": {
      "needs_background": "light"
     },
     "output_type": "display_data"
    },
    {
     "data": {
      "text/plain": [
       "<matplotlib.axes._subplots.AxesSubplot at 0x1154dc908>"
      ]
     },
     "execution_count": 27,
     "metadata": {},
     "output_type": "execute_result"
    }
   ],
   "source": [
    "from rasterio.plot import show # import the show function which allows us to display the image\n",
    "\n",
    "print(\"Image dimensions: \", full_img.shape)\n",
    "show(nir, transform=dataset.transform, cmap='gray')"
   ]
  }
 ],
 "metadata": {
  "kernelspec": {
   "display_name": "Python 3",
   "language": "python",
   "name": "python3"
  },
  "language_info": {
   "codemirror_mode": {
    "name": "ipython",
    "version": 3
   },
   "file_extension": ".py",
   "mimetype": "text/x-python",
   "name": "python",
   "nbconvert_exporter": "python",
   "pygments_lexer": "ipython3",
   "version": "3.7.3"
  }
 },
 "nbformat": 4,
 "nbformat_minor": 4
}
