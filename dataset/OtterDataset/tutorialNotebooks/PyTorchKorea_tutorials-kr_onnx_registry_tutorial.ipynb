{
  "cells": [
    {
      "cell_type": "code",
      "execution_count": null,
      "metadata": {
        "collapsed": false
      },
      "outputs": [],
      "source": [
        "# Google Colab\uc5d0\uc11c \ub178\ud2b8\ubd81\uc744 \uc2e4\ud589\ud558\uc2e4 \ub54c\uc5d0\ub294 \n# https://tutorials.pytorch.kr/beginner/colab \ub97c \ucc38\uace0\ud558\uc138\uc694.\n%matplotlib inline"
      ]
    },
    {
      "cell_type": "markdown",
      "metadata": {},
      "source": [
        "\n[Introduction to ONNX](intro_onnx.html) ||\n[Exporting a PyTorch model to ONNX](export_simple_model_to_onnx_tutorial.html) ||\n**Extending the ONNX Registry**\n\n# Extending the ONNX Registry\n\n**Authors:** Ti-Tai Wang (titaiwang@microsoft.com)\n"
      ]
    },
    {
      "cell_type": "markdown",
      "metadata": {},
      "source": [
        "## Overview\n\nThis tutorial is an introduction to ONNX registry, which empowers users to implement new ONNX operators\nor even replace existing operators with a new implementation.\n\nDuring the model export to ONNX, the PyTorch model is lowered to an intermediate\nrepresentation composed of [ATen operators](https://pytorch.org/docs/stable/torch.compiler_ir.html).\nWhile ATen operators are maintained by PyTorch core team, it is the responsibility of the ONNX exporter team\nto independently implement each of these operators to ONNX through [ONNX Script](https://onnxscript.ai/).\nThe users can also replace the behavior implemented by the ONNX exporter team with their own implementation\nto fix bugs or improve performance for a specific ONNX runtime.\n\nThe ONNX Registry manages the mapping between PyTorch operators and the ONNX operators counterparts and provides\nAPIs to extend the registry.\n\nIn this tutorial, we will cover three scenarios that require extending the ONNX registry with custom operators:\n\n* Unsupported ATen operators\n* Custom operators with existing ONNX Runtime support\n* Custom operators without ONNX Runtime support\n\n## Unsupported ATen operators\n\nAlthough the ONNX exporter team does their best efforts to support all ATen operators, some of them\nmight not be supported yet. In this section, we will demonstrate how you can add\nunsupported ATen operators to the ONNX Registry.\n\n<div class=\"alert alert-info\"><h4>Note</h4><p>The steps to implement unsupported ATen operators are the same to replace the implementation of an existing\n      ATen operator with a custom implementation.\n      Because we don't actually have an unsupported ATen operator to use in this tutorial, we are going to leverage\n      this and replace the implementation of ``aten::add.Tensor`` with a custom implementation the same way we would\n      if the operator was not present in the ONNX Registry.</p></div>\n\nWhen a model cannot be exported to ONNX due to an unsupported operator, the ONNX exporter will show an error message\nsimilar to:\n\n```python\nRuntimeErrorWithDiagnostic: Unsupported FX nodes: {'call_function': ['aten.add.Tensor']}.\n```\nThe error message indicates that the fully qualified name of unsupported ATen operator is ``aten::add.Tensor``.\nThe fully qualified name of an operator is composed of the namespace, operator name, and overload following\nthe format ``namespace::operator_name.overload``.\n\nTo add support for an unsupported ATen operator or to replace the implementation for an existing one, we need:\n\n* The fully qualified name of the ATen operator (e.g. ``aten::add.Tensor``).\n  This information is always present in the error message as show above.\n* The implementation of the operator using [ONNX Script](https://github.com/microsoft/onnxscript)_.\n  ONNX Script is a prerequisite for this tutorial. Please make sure you have read the\n  [ONNX Script tutorial](https://github.com/microsoft/onnxscript/blob/main/docs/tutorial/index.md)\n  before proceeding.\n\nBecause ``aten::add.Tensor`` is already supported by the ONNX Registry, we will demonstrate how to replace it with a\ncustom implementation, but keep in mind that the same steps apply to support new unsupported ATen operators.\n\nThis is possible because the :class:`OnnxRegistry` allows users to override an operator registration.\nWe will override the registration of ``aten::add.Tensor`` with our custom implementation and verify it exists.\n\n\n"
      ]
    },
    {
      "cell_type": "code",
      "execution_count": null,
      "metadata": {
        "collapsed": false
      },
      "outputs": [],
      "source": [
        "import torch\nimport onnxruntime\nimport onnxscript\nfrom onnxscript import opset18  # opset 18 is the latest (and only) supported version for now\n\nclass Model(torch.nn.Module):\n    def forward(self, input_x, input_y):\n        return torch.ops.aten.add(input_x, input_y)  # generates a aten::add.Tensor node\n\ninput_add_x = torch.randn(3, 4)\ninput_add_y = torch.randn(3, 4)\naten_add_model = Model()\n\n\n# Now we create a ONNX Script function that implements ``aten::add.Tensor``.\n# The function name (e.g. ``custom_aten_add``) is displayed in the ONNX graph, so we recommend to use intuitive names.\ncustom_aten = onnxscript.values.Opset(domain=\"custom.aten\", version=1)\n\n# NOTE: The function signature must match the signature of the unsupported ATen operator.\n# https://github.com/pytorch/pytorch/blob/main/aten/src/ATen/native/native_functions.yaml\n# NOTE: All attributes must be annotated with type hints.\n@onnxscript.script(custom_aten)\ndef custom_aten_add(input_x, input_y, alpha: float = 1.0):\n    alpha = opset18.CastLike(alpha, input_y)\n    input_y = opset18.Mul(input_y, alpha)\n    return opset18.Add(input_x, input_y)\n\n\n# Now we have everything we need to support unsupported ATen operators.\n# Let's register the ``custom_aten_add`` function to ONNX registry, and export the model to ONNX again.\nonnx_registry = torch.onnx.OnnxRegistry()\nonnx_registry.register_op(\n    namespace=\"aten\", op_name=\"add\", overload=\"Tensor\", function=custom_aten_add\n    )\nprint(f\"aten::add.Tensor is supported by ONNX registry: \\\n      {onnx_registry.is_registered_op(namespace='aten', op_name='add', overload='Tensor')}\"\n      )\nexport_options = torch.onnx.ExportOptions(onnx_registry=onnx_registry)\nonnx_program = torch.onnx.dynamo_export(\n    aten_add_model, input_add_x, input_add_y, export_options=export_options\n    )"
      ]
    },
    {
      "cell_type": "markdown",
      "metadata": {},
      "source": [
        "Now let's inspect the model and verify the model has a ``custom_aten_add`` instead of ``aten::add.Tensor``.\nThe graph has one graph node for ``custom_aten_add``, and inside of it there are four function nodes, one for each\noperator, and one for constant attribute.\n\n\n"
      ]
    },
    {
      "cell_type": "code",
      "execution_count": null,
      "metadata": {
        "collapsed": false
      },
      "outputs": [],
      "source": [
        "# graph node domain is the custom domain we registered\nassert onnx_program.model_proto.graph.node[0].domain == \"custom.aten\"\nassert len(onnx_program.model_proto.graph.node) == 1\n# graph node name is the function name\nassert onnx_program.model_proto.graph.node[0].op_type == \"custom_aten_add\"\n# function node domain is empty because we use standard ONNX operators\nassert onnx_program.model_proto.functions[0].node[3].domain == \"\"\n# function node name is the standard ONNX operator name\nassert onnx_program.model_proto.functions[0].node[3].op_type == \"Add\""
      ]
    },
    {
      "cell_type": "markdown",
      "metadata": {},
      "source": [
        "This is how ``custom_aten_add_model`` looks in the ONNX graph using Netron:\n\n<img src=\"file://_static/img/onnx/custom_aten_add_model.png\" width=\"70%\" align=\"center\">\n\nInside the ``custom_aten_add`` function, we can see the three ONNX nodes we\nused in the function (``CastLike``, ``Add``, and ``Mul``), and one ``Constant`` attribute:\n\n<img src=\"file://_static/img/onnx/custom_aten_add_function.png\" width=\"70%\" align=\"center\">\n\nThis was all that we needed to register the new ATen operator into the ONNX Registry.\nAs an additional step, we can use ONNX Runtime to run the model, and compare the results with PyTorch.\n\n\n"
      ]
    },
    {
      "cell_type": "code",
      "execution_count": null,
      "metadata": {
        "collapsed": false
      },
      "outputs": [],
      "source": [
        "# Use ONNX Runtime to run the model, and compare the results with PyTorch\nonnx_program.save(\"./custom_add_model.onnx\")\nort_session = onnxruntime.InferenceSession(\n    \"./custom_add_model.onnx\", providers=['CPUExecutionProvider']\n    )\n\ndef to_numpy(tensor):\n    return tensor.detach().cpu().numpy() if tensor.requires_grad else tensor.cpu().numpy()\n\nonnx_input = onnx_program.adapt_torch_inputs_to_onnx(input_add_x, input_add_y)\nonnxruntime_input = {k.name: to_numpy(v) for k, v in zip(ort_session.get_inputs(), onnx_input)}\nonnxruntime_outputs = ort_session.run(None, onnxruntime_input)\n\ntorch_outputs = aten_add_model(input_add_x, input_add_y)\ntorch_outputs = onnx_program.adapt_torch_outputs_to_onnx(torch_outputs)\n\nassert len(torch_outputs) == len(onnxruntime_outputs)\nfor torch_output, onnxruntime_output in zip(torch_outputs, onnxruntime_outputs):\n    torch.testing.assert_close(torch_output, torch.tensor(onnxruntime_output))"
      ]
    },
    {
      "cell_type": "markdown",
      "metadata": {},
      "source": [
        "## Custom operators with existing ONNX Runtime support\n\nIn this case, the user creates a model with standard PyTorch operators, but the ONNX runtime\n(e.g. Microsoft's ONNX Runtime) can provide a custom implementation for that kernel, effectively replacing the\nexisting implementation in the ONNX Registry. Another use case is when the user wants to use a custom implementation\nof an existing ONNX operator to fix a bug or improve performance of a specific operator.\nTo achieve this, we only need to register the new implementation with the existing ATen fully qualified name.\n\nIn the following example, we use the ``com.microsoft.Gelu`` from ONNX Runtime,\nwhich is not the same ``Gelu`` from ONNX spec. Thus, we register the Gelu with\nthe namespace ``com.microsoft`` and operator name ``Gelu``.\n\nBefore we begin, let's check whether ``aten::gelu.default`` is really supported by the ONNX registry.\n\n"
      ]
    },
    {
      "cell_type": "code",
      "execution_count": null,
      "metadata": {
        "collapsed": false
      },
      "outputs": [],
      "source": [
        "onnx_registry = torch.onnx.OnnxRegistry()\nprint(f\"aten::gelu.default is supported by ONNX registry: \\\n    {onnx_registry.is_registered_op(namespace='aten', op_name='gelu', overload='default')}\")"
      ]
    },
    {
      "cell_type": "markdown",
      "metadata": {},
      "source": [
        "In our example, ``aten::gelu.default`` operator is supported by the ONNX registry,\nso :meth:`onnx_registry.is_registered_op` returns ``True``.\n\n"
      ]
    },
    {
      "cell_type": "code",
      "execution_count": null,
      "metadata": {
        "collapsed": false
      },
      "outputs": [],
      "source": [
        "class CustomGelu(torch.nn.Module):\n    def forward(self, input_x):\n        return torch.ops.aten.gelu(input_x)\n\n# com.microsoft is an official ONNX Runtime namspace\ncustom_ort = onnxscript.values.Opset(domain=\"com.microsoft\", version=1)\n\n# NOTE: The function signature must match the signature of the unsupported ATen operator.\n# https://github.com/pytorch/pytorch/blob/main/aten/src/ATen/native/native_functions.yaml\n# NOTE: All attributes must be annotated with type hints.\n@onnxscript.script(custom_ort)\ndef custom_aten_gelu(input_x, approximate: str = \"none\"):\n    # We know com.microsoft::Gelu is supported by ONNX Runtime\n    # It's only not supported by ONNX\n    return custom_ort.Gelu(input_x)\n\n\nonnx_registry = torch.onnx.OnnxRegistry()\nonnx_registry.register_op(\n    namespace=\"aten\", op_name=\"gelu\", overload=\"default\", function=custom_aten_gelu)\nexport_options = torch.onnx.ExportOptions(onnx_registry=onnx_registry)\n\naten_gelu_model = CustomGelu()\ninput_gelu_x = torch.randn(3, 3)\n\nonnx_program = torch.onnx.dynamo_export(\n    aten_gelu_model, input_gelu_x, export_options=export_options\n    )"
      ]
    },
    {
      "cell_type": "markdown",
      "metadata": {},
      "source": [
        "Let's inspect the model and verify the model uses :func:`custom_aten_gelu` instead of\n:class:`aten::gelu`. Note the graph has one graph nodes for\n``custom_aten_gelu``, and inside ``custom_aten_gelu``, there is a function\nnode for ``Gelu`` with namespace ``com.microsoft``.\n\n\n"
      ]
    },
    {
      "cell_type": "code",
      "execution_count": null,
      "metadata": {
        "collapsed": false
      },
      "outputs": [],
      "source": [
        "# graph node domain is the custom domain we registered\nassert onnx_program.model_proto.graph.node[0].domain == \"com.microsoft\"\n# graph node name is the function name\nassert onnx_program.model_proto.graph.node[0].op_type == \"custom_aten_gelu\"\n# function node domain is the custom domain we registered\nassert onnx_program.model_proto.functions[0].node[0].domain == \"com.microsoft\"\n# function node name is the node name used in the function\nassert onnx_program.model_proto.functions[0].node[0].op_type == \"Gelu\""
      ]
    },
    {
      "cell_type": "markdown",
      "metadata": {},
      "source": [
        "The following diagram shows ``custom_aten_gelu_model`` ONNX graph using Netron:\n\n<img src=\"file://_static/img/onnx/custom_aten_gelu_model.png\" width=\"70%\" align=\"center\">\n\nInside the ``custom_aten_gelu`` function, we can see the ``Gelu`` node from module\n``com.microsoft`` used in the function:\n\n<img src=\"file://_static/img/onnx/custom_aten_gelu_function.png\">\n\nThat is all we need to do. As an additional step, we can use ONNX Runtime to run the model,\nand compare the results with PyTorch.\n\n\n"
      ]
    },
    {
      "cell_type": "code",
      "execution_count": null,
      "metadata": {
        "collapsed": false
      },
      "outputs": [],
      "source": [
        "onnx_program.save(\"./custom_gelu_model.onnx\")\nort_session = onnxruntime.InferenceSession(\n    \"./custom_gelu_model.onnx\", providers=['CPUExecutionProvider']\n    )\n\ndef to_numpy(tensor):\n    return tensor.detach().cpu().numpy() if tensor.requires_grad else tensor.cpu().numpy()\n\nonnx_input = onnx_program.adapt_torch_inputs_to_onnx(input_gelu_x)\nonnxruntime_input = {k.name: to_numpy(v) for k, v in zip(ort_session.get_inputs(), onnx_input)}\nonnxruntime_outputs = ort_session.run(None, onnxruntime_input)\n\ntorch_outputs = aten_gelu_model(input_gelu_x)\ntorch_outputs = onnx_program.adapt_torch_outputs_to_onnx(torch_outputs)\n\nassert len(torch_outputs) == len(onnxruntime_outputs)\nfor torch_output, onnxruntime_output in zip(torch_outputs, onnxruntime_outputs):\n    torch.testing.assert_close(torch_output, torch.tensor(onnxruntime_output))"
      ]
    },
    {
      "cell_type": "markdown",
      "metadata": {},
      "source": [
        "## Custom operators without ONNX Runtime support\n\nIn this case, the operator is not supported by any ONNX runtime, but we\nwould like to use it as custom operator in ONNX graph. Therefore, we need to implement\nthe operator in three places:\n\n1. PyTorch FX graph\n2. ONNX Registry\n3. ONNX Runtime\n\nIn the following example, we would like to use a custom operator\nthat takes one tensor input, and returns one output. The operator adds\nthe input to itself, and returns the rounded result.\n\n\n### Custom Ops Registration in PyTorch FX Graph (Beta)\n\nFirstly, we need to implement the operator in PyTorch FX graph.\nThis can be done by using ``torch._custom_op``.\n\n\n"
      ]
    },
    {
      "cell_type": "code",
      "execution_count": null,
      "metadata": {
        "collapsed": false
      },
      "outputs": [],
      "source": [
        "# NOTE: This is a beta feature in PyTorch, and is subject to change.\nfrom torch._custom_op import impl as custom_op\n\n@custom_op.custom_op(\"mylibrary::addandround_op\")\ndef addandround_op(tensor_x: torch.Tensor) -> torch.Tensor:\n    ...\n\n@addandround_op.impl_abstract()\ndef addandround_op_impl_abstract(tensor_x):\n    return torch.empty_like(tensor_x)\n\n@addandround_op.impl(\"cpu\")\ndef addandround_op_impl(tensor_x):\n    return torch.round(tensor_x + tensor_x)  # add x to itself, and round the result\n\ntorch._dynamo.allow_in_graph(addandround_op)\n\nclass CustomFoo(torch.nn.Module):\n    def forward(self, tensor_x):\n        return addandround_op(tensor_x)\n\ninput_addandround_x = torch.randn(3)\ncustom_addandround_model = CustomFoo()"
      ]
    },
    {
      "cell_type": "markdown",
      "metadata": {},
      "source": [
        "### Custom Ops Registration in ONNX Registry\n\nFor the step 2 and 3, we need to implement the operator in ONNX registry.\nIn this example, we will implement the operator in ONNX registry\nwith the namespace ``test.customop`` and operator name ``CustomOpOne``,\nand ``CustomOpTwo``. These two ops are registered and built in\n[cpu_ops.cc](https://github.com/microsoft/onnxruntime/blob/main/onnxruntime/test/testdata/custom_op_library/cpu/cpu_ops.cc)_.\n\n\n"
      ]
    },
    {
      "cell_type": "code",
      "execution_count": null,
      "metadata": {
        "collapsed": false
      },
      "outputs": [],
      "source": [
        "custom_opset = onnxscript.values.Opset(domain=\"test.customop\", version=1)\n\n# NOTE: The function signature must match the signature of the unsupported ATen operator.\n# https://github.com/pytorch/pytorch/blob/main/aten/src/ATen/native/native_functions.yaml\n# NOTE: All attributes must be annotated with type hints.\n@onnxscript.script(custom_opset)\ndef custom_addandround(input_x):\n    # The same as opset18.Add(x, x)\n    add_x = custom_opset.CustomOpOne(input_x, input_x)\n    # The same as opset18.Round(x, x)\n    round_x = custom_opset.CustomOpTwo(add_x)\n    # Cast to FLOAT to match the ONNX type\n    return opset18.Cast(round_x, to=1)\n\n\nonnx_registry = torch.onnx.OnnxRegistry()\nonnx_registry.register_op(\n    namespace=\"mylibrary\", op_name=\"addandround_op\", overload=\"default\", function=custom_addandround\n    )\n\nexport_options = torch.onnx.ExportOptions(onnx_registry=onnx_registry)\nonnx_program = torch.onnx.dynamo_export(\n    custom_addandround_model, input_addandround_x, export_options=export_options\n    )\nonnx_program.save(\"./custom_addandround_model.onnx\")"
      ]
    },
    {
      "cell_type": "markdown",
      "metadata": {},
      "source": [
        "The ``onnx_program`` exposes the exported model as protobuf through ``onnx_program.model_proto``.\nThe graph has one graph nodes for ``custom_addandround``, and inside ``custom_addandround``,\nthere are two function nodes, one for each operator.\n\n\n"
      ]
    },
    {
      "cell_type": "code",
      "execution_count": null,
      "metadata": {
        "collapsed": false
      },
      "outputs": [],
      "source": [
        "assert onnx_program.model_proto.graph.node[0].domain == \"test.customop\"\nassert onnx_program.model_proto.graph.node[0].op_type == \"custom_addandround\"\nassert onnx_program.model_proto.functions[0].node[0].domain == \"test.customop\"\nassert onnx_program.model_proto.functions[0].node[0].op_type == \"CustomOpOne\"\nassert onnx_program.model_proto.functions[0].node[1].domain == \"test.customop\"\nassert onnx_program.model_proto.functions[0].node[1].op_type == \"CustomOpTwo\""
      ]
    },
    {
      "cell_type": "markdown",
      "metadata": {},
      "source": [
        "This is how ``custom_addandround_model`` ONNX graph looks using Netron:\n\n<img src=\"file://_static/img/onnx/custom_addandround_model.png\" width=\"70%\" align=\"center\">\n\nInside the ``custom_addandround`` function, we can see the two custom operators we\nused in the function (``CustomOpOne``, and ``CustomOpTwo``), and they are from module\n``test.customop``:\n\n<img src=\"file://_static/img/onnx/custom_addandround_function.png\">\n\n### Custom Ops Registration in ONNX Runtime\n\nTo link your custom op library to ONNX Runtime, you need to\ncompile your C++ code into a shared library and link it to ONNX Runtime.\nFollow the instructions below:\n\n1. Implement your custom op in C++ by following\n   `ONNX Runtime instructions <`https://github.com/microsoft/onnxruntime/blob/gh-pages/docs/reference/operators/add-custom-op.md>`__.\n2. Download ONNX Runtime source distribution from\n   [ONNX Runtime releases](https://github.com/microsoft/onnxruntime/releases)_.\n3. Compile and link your custom op library to ONNX Runtime, for example:\n\n```bash\n$ gcc -shared -o libcustom_op_library.so custom_op_library.cc -L /path/to/downloaded/ort/lib/ -lonnxruntime -fPIC\n```\n4. Run the model with ONNX Runtime Python API and compare the results with PyTorch.\n\n```python\nort_session_options = onnxruntime.SessionOptions()\n\n# NOTE: Link the custom op library to ONNX Runtime and replace the path\n# with the path to your custom op library\nort_session_options.register_custom_ops_library(\n    \"/path/to/libcustom_op_library.so\"\n)\nort_session = onnxruntime.InferenceSession(\n    \"./custom_addandround_model.onnx\", providers=['CPUExecutionProvider'], sess_options=ort_session_options)\n\ndef to_numpy(tensor):\n    return tensor.detach().cpu().numpy() if tensor.requires_grad else tensor.cpu().numpy()\n\nonnx_input = onnx_program.adapt_torch_inputs_to_onnx(input_addandround_x)\nonnxruntime_input = {k.name: to_numpy(v) for k, v in zip(ort_session.get_inputs(), onnx_input)}\nonnxruntime_outputs = ort_session.run(None, onnxruntime_input)\n\ntorch_outputs = custom_addandround_model(input_addandround_x)\ntorch_outputs = onnx_program.adapt_torch_outputs_to_onnx(torch_outputs)\n\nassert len(torch_outputs) == len(onnxruntime_outputs)\nfor torch_output, onnxruntime_output in zip(torch_outputs, onnxruntime_outputs):\n    torch.testing.assert_close(torch_output, torch.tensor(onnxruntime_output))\n```\n## Conclusion\n\nCongratulations! In this tutorial, we explored the :class:`ONNXRegistry` API and\ndiscovered how to create custom implementations for unsupported or existing ATen operators\nusing ONNX Script.\nFinally, we leveraged ONNX Runtime to execute the model and compare the results with PyTorch,\nproviding us with a comprehensive understanding of handling unsupported\noperators in the ONNX ecosystem.\n\n## Further reading\n\nThe list below refers to tutorials that ranges from basic examples to advanced scenarios,\nnot necessarily in the order they are listed.\nFeel free to jump directly to specific topics of your interest or\nsit tight and have fun going through all of them to learn all there is about the ONNX exporter.\n\n.. include:: /beginner_source/onnx/onnx_toc.txt\n\n.. toctree::\n   :hidden:\n\n\n"
      ]
    }
  ],
  "metadata": {
    "kernelspec": {
      "display_name": "Python 3",
      "language": "python",
      "name": "python3"
    },
    "language_info": {
      "codemirror_mode": {
        "name": "ipython",
        "version": 3
      },
      "file_extension": ".py",
      "mimetype": "text/x-python",
      "name": "python",
      "nbconvert_exporter": "python",
      "pygments_lexer": "ipython3",
      "version": "3.10.14"
    }
  },
  "nbformat": 4,
  "nbformat_minor": 0
}