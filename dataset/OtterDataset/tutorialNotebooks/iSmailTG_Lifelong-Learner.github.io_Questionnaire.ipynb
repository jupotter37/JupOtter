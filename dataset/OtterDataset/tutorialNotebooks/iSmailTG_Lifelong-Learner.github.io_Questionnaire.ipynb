{
 "cells": [
  {
   "cell_type": "raw",
   "id": "d2169c26-e27e-4651-ac3b-cf92b7f0f854",
   "metadata": {},
   "source": [
    "---\n",
    "title: \"Chapter 5: Questionnaire \"\n",
    "author: \"Ismail TG\"\n",
    "date: \"10/29/2022\"\n",
    "categories: [Fastai, Pytorch, Deep Learning]\n",
    "image: \"fastai-book-2.jpg\"\n",
    "---"
   ]
  },
  {
   "cell_type": "markdown",
   "id": "4c7dc6be-879a-4235-a917-ce303fb44b2e",
   "metadata": {},
   "source": [
    "Q1:  \n",
    "**Why do we first resize to a large size on the CPU, and then to a smaller size on the GPU?**  \n",
    "____  \n",
    "* Reisizing images is done image per image on cpu, while transformation is done one gpu. This method is called presizing:\n",
    "   - crop the image and resize it to 460 by 460 first, this operation is done on CPU.\n",
    "   - then we do the data augmentation in batches, by cropping a rotated random part of that 460^2 image, and taking the cropped image then resize again to a 224 by 224 image, all this operation are done on batch level, which mean on GPU"
   ]
  },
  {
   "cell_type": "markdown",
   "id": "9e0c97b5-1e18-4257-a704-0970d1a28305",
   "metadata": {},
   "source": [
    "Q2:  \n",
    "**If you are not familiar with regular expressions, find a regular expression tutorial, and some problem sets, and complete them. Have a look on the book's website for suggestions.**  \n",
    "___  \n",
    "* Will write serie of blog posts about **Regular Expression**"
   ]
  },
  {
   "cell_type": "markdown",
   "id": "59d3572e-d28b-4358-b740-3af0527d90b8",
   "metadata": {},
   "source": [
    "Q3:  \n",
    "**What are the two ways in which data is most commonly provided, for most deep learning datasets?**  \n",
    "___  \n",
    "* Data is usually provided as : \n",
    "   - Individual files like images of text\n",
    "   - Comma separted Values csv."
   ]
  },
  {
   "cell_type": "markdown",
   "id": "558b8b73-2b0d-4993-a635-df620c33c7a7",
   "metadata": {},
   "source": [
    "Q4:  \n",
    "**Look up the documentation for `L` and try using a few of the new methods that it adds.**  \n",
    "____  \n",
    "* Later"
   ]
  },
  {
   "cell_type": "markdown",
   "id": "59e2294a-efe7-4307-8a31-93843aa665a8",
   "metadata": {},
   "source": [
    "Q5:  \n",
    "**Look up the documentation for the Python `pathlib` module and try using a few methods of the `Path` class.**  \n",
    "___  \n",
    "* Later"
   ]
  },
  {
   "cell_type": "markdown",
   "id": "2d744f45-1bd8-4ae7-b5d0-9e9e2fef0697",
   "metadata": {},
   "source": [
    "Q6:  \n",
    "**Give two examples of ways that image transformations can degrade the quality of the data**  \n",
    "____  \n",
    "\n",
    "* Interpolations lead to  an image with pixel values that are estimated using estimated pixel values which loses quality each time.\n",
    "* Rotating an image 45 degrees creates empty space in the corners."
   ]
  },
  {
   "cell_type": "markdown",
   "id": "5b52e5f2-474f-4ec6-8b6d-f7c9aff03376",
   "metadata": {},
   "source": [
    "Q7:  \n",
    "**What method does fastai provide to view the data in a `DataLoaders`?**  \n",
    "___  \n",
    "\n",
    "`DataLoader.show_batch`"
   ]
  },
  {
   "cell_type": "markdown",
   "id": "85e8c22e-dc10-4fc0-9a76-ea6a603b7932",
   "metadata": {},
   "source": [
    "Q8:  \n",
    "**What method does fastai provide to help you debug a DataBlock?**  \n",
    "___   \n",
    "`DataBlock.summary`"
   ]
  },
  {
   "cell_type": "markdown",
   "id": "b8316a9d-5e93-4486-8395-861f85f66892",
   "metadata": {},
   "source": [
    "Q9:  \n",
    "**Should you hold off on training a model until you have thoroughly cleaned your data?**  \n",
    "___  \n",
    "* No. It's better to start using the building a model as soon as possible, we could even use it as data cleaning tool.**"
   ]
  },
  {
   "cell_type": "markdown",
   "id": "30bcf672-4738-479f-b2ea-abeec3fea987",
   "metadata": {},
   "source": [
    "Q10:  \n",
    "**What method does fastai provide to help you debug a `DataBlock`?**  \n",
    "___  \n",
    "* `Plot_Confusion_Matrix`: for displaying where the model make bad predictions the most.\n",
    "* `Plot_Top_Losses`: A method that displays the images with the highest loss value.\n"
   ]
  },
  {
   "cell_type": "markdown",
   "id": "f120827b-8f4d-43fd-a11d-074874d6ebc2",
   "metadata": {},
   "source": [
    "Q11:  \n",
    "**What are the two pieces that are combined into cross-entropy loss in PyTorch?**  \n",
    "___  \n",
    "* Softmax function and Negative Log Likelihood Loss."
   ]
  },
  {
   "cell_type": "markdown",
   "id": "99abaab4-a9a2-4724-abb8-5b34e4c295df",
   "metadata": {},
   "source": [
    "Q12:  \n",
    "**What are the two properties of activations that softmax ensures? Why is this important?**  \n",
    "____   \n",
    "* It make sure all activations add uo to 1\n",
    "* It help the model to pick one class"
   ]
  },
  {
   "cell_type": "markdown",
   "id": "f9d88d70-369b-4ec9-a347-013e887e7231",
   "metadata": {},
   "source": [
    "Q13:  \n",
    "**When might you want your activations to not have these two properties?**  \n",
    "____  \n",
    "* When we have multi-label classification, more than one label for one image."
   ]
  },
  {
   "cell_type": "markdown",
   "id": "a2f15186-301f-43b0-9eb8-f1eced9e1dc3",
   "metadata": {},
   "source": [
    "Q14:  \n",
    "**Calculate the `exp` and `softmax` columns of <<bear_softmax>> yourself (i.e., in a spreadsheet, with a calculator, or in a notebook).**  \n",
    "___   \n",
    "*Later*"
   ]
  },
  {
   "cell_type": "markdown",
   "id": "af969fb5-91e8-468e-a827-715d214a95e6",
   "metadata": {},
   "source": [
    "Q15:  \n",
    "**Why can’t we use torch.where to create a loss function for datasets where our label can have more than two categories?**  \n",
    "___  \n",
    "* When we have more than 2 classes to class `torch.where` it's not ideal, because it build only to select 1 between 2 categories."
   ]
  },
  {
   "cell_type": "markdown",
   "id": "936f136d-6b0d-48d1-bec2-d0e963ab4edf",
   "metadata": {},
   "source": [
    "Q16:  \n",
    "**What is the value of log(-2)? Why?**  \n",
    "____  \n",
    "* The logarithm is the inverse of the exponential function, which mean logarithm of a value is the result of that value after applying the exponential, and there's no number that can result a nigative number after the exponential, so `log(-2) = not defined`"
   ]
  },
  {
   "cell_type": "markdown",
   "id": "ff0d85fa-8836-43b9-86a1-82531e322a27",
   "metadata": {},
   "source": [
    "Q17:  \n",
    "**What are two good rules of thumb for picking a learning rate from the learning rate finder?**  \n",
    "___  \n",
    "* Pick Learning rate smaller 10x than the minimum value of loss\n",
    "* Use the learning rate at the last point that the loss value was decreasing.\n"
   ]
  },
  {
   "cell_type": "markdown",
   "id": "16a74937-10c1-4e4a-9364-35b50e01d49f",
   "metadata": {},
   "source": [
    "Q18:  \n",
    "**What two steps does the fine_tune method do?**  \n",
    "____  \n",
    "* Train the added layer using random weights for one epoch\n",
    "* Unfreeze all the layers and train them all together as normal model for number of epochs\n",
    "\n"
   ]
  },
  {
   "cell_type": "markdown",
   "id": "16766e44-98ee-400e-8156-6d262dc930b4",
   "metadata": {},
   "source": [
    "Q19:  \n",
    "**In Jupyter notebook, how do you get the source code for a method or function?**  \n",
    "____  \n",
    "* By using `??` after the function."
   ]
  },
  {
   "cell_type": "markdown",
   "id": "23086406-d43e-4bbf-8787-1a7fe861dac7",
   "metadata": {},
   "source": [
    "Q20:  \n",
    "**What are discriminative learning rates?**  \n",
    "____  \n",
    "* It's a method that allow us to use different learning rate for each part of the neural network. Using a pretrained model means that the earlier layers are trained for many epochs which mean that the parameters don't need to be updated by much, in other hand the last layers needs to be matched with task we have. That's why it's good to pick slightly smaller value for learning rate for the earlier layers, and bigger one for the last ones."
   ]
  },
  {
   "cell_type": "markdown",
   "id": "15d843cb-4b7d-44af-88e0-62f4dd84b57d",
   "metadata": {},
   "source": [
    "Q21:  \n",
    "**How is a Python slice object interpreted when passed as a learning rate to fastai?**  \n",
    "____  \n",
    "  * The first value in the slice object sets the lowest learning rate.\n",
    "  * The second value in the slice object sets the highest learning rate."
   ]
  },
  {
   "cell_type": "code",
   "execution_count": null,
   "id": "44be9cab-ca32-4406-a306-22b451e4e553",
   "metadata": {},
   "outputs": [],
   "source": []
  }
 ],
 "metadata": {
  "kernelspec": {
   "display_name": "Python 3 (ipykernel)",
   "language": "python",
   "name": "python3"
  },
  "language_info": {
   "codemirror_mode": {
    "name": "ipython",
    "version": 3
   },
   "file_extension": ".py",
   "mimetype": "text/x-python",
   "name": "python",
   "nbconvert_exporter": "python",
   "pygments_lexer": "ipython3",
   "version": "3.10.6"
  }
 },
 "nbformat": 4,
 "nbformat_minor": 5
}
