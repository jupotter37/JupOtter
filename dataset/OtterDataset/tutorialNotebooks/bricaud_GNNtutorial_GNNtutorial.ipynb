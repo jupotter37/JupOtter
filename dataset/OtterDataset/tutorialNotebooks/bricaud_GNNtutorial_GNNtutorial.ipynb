{
  "nbformat": 4,
  "nbformat_minor": 0,
  "metadata": {
    "colab": {
      "provenance": [],
      "authorship_tag": "ABX9TyMcQPs1gxwsPLcIqW66QNy5",
      "include_colab_link": true
    },
    "kernelspec": {
      "name": "python3",
      "display_name": "Python 3"
    },
    "language_info": {
      "name": "python"
    }
  },
  "cells": [
    {
      "cell_type": "markdown",
      "metadata": {
        "id": "view-in-github",
        "colab_type": "text"
      },
      "source": [
        "<a href=\"https://colab.research.google.com/github/bricaud/GNNtutorial/blob/main/GNNtutorial.ipynb\" target=\"_parent\"><img src=\"https://colab.research.google.com/assets/colab-badge.svg\" alt=\"Open In Colab\"/></a>"
      ]
    },
    {
      "cell_type": "markdown",
      "source": [
        "# Short tutorial on Graph Neural Networks\n",
        "\n"
      ],
      "metadata": {
        "id": "Uh4L8fuK95Gf"
      }
    },
    {
      "cell_type": "markdown",
      "source": [
        "## Introduction\n",
        "1) What do we need to use Graph Neural Networks (GNNs)?\n",
        "\n",
        "* A graph,\n",
        "* A task to solve using Machine Learning, classification (boolean or integer) or regression (real number).\n",
        "\n",
        "What else?"
      ],
      "metadata": {
        "id": "x0xRXZlN_nU3"
      }
    },
    {
      "cell_type": "markdown",
      "source": [
        "We need features on the nodes. **Very important!**\n",
        "(and possibly features on the edges).\n",
        "\n",
        "Features on the nodes means: a vector of values associated to each node.\n",
        "\n",
        "GNNs learn to combine the graph information with the node feature information to solve the task."
      ],
      "metadata": {
        "id": "fpz-iSSH-bM_"
      }
    },
    {
      "cell_type": "markdown",
      "source": [
        "2) Most common learning tasks on graphs:\n",
        "* Graph level: classify a graph (ex: molecules)\n",
        "* node level: classify a node (ex: social network)\n",
        "\n",
        "Less common but still important:\n",
        "* edge level: predict an edge value (ex: edge prediction)"
      ],
      "metadata": {
        "id": "ZkYHaiMetq2R"
      }
    },
    {
      "cell_type": "markdown",
      "source": [
        "3) What tools do we need to build some GNNs with Python?\n",
        "* matrix manipulations : numpy\n",
        "* working with graphs : [networkx](https://networkx.org/)\n",
        "* some visualization tools: matplotlib\n",
        "\n",
        "**Note**: Python libraries for GNNs exist, with ready to use GNNs: [Pytorch geometric](https://github.com/pyg-team/pytorch_geometric), [Spektral](https://graphneural.network/), or [dgl](https://www.dgl.ai/). But here we focus on the basics and we won't use any of them."
      ],
      "metadata": {
        "id": "nRGVLfqd_3eA"
      }
    },
    {
      "cell_type": "code",
      "execution_count": 1,
      "metadata": {
        "id": "BHaOjND7Git_"
      },
      "outputs": [],
      "source": [
        "# Let's import the required libraries\n",
        "import numpy as np\n",
        "import networkx as nx\n",
        "import matplotlib.pyplot as plt"
      ]
    },
    {
      "cell_type": "markdown",
      "source": [
        "## The Graph\n",
        "Making a graph is easy with Networkx.\n",
        "For simplicity, we will use a predefined one.\n",
        "You can find a list of predefined graphs [here](https://networkx.org/documentation/stable/reference/generators.html)."
      ],
      "metadata": {
        "id": "OJDJABaqNkCy"
      }
    },
    {
      "cell_type": "code",
      "source": [
        "# let us define the graph\n",
        "N = 5 # number of nodes\n",
        "G = nx.path_graph(N)\n",
        "# another graph\n",
        "#G = nx.grid_2d_graph(2,3)\n",
        "#G = nx.lollipop_graph(N-1,1)\n",
        "# let us visualize it\n",
        "nx.draw(G, with_labels=True, font_weight='bold')"
      ],
      "metadata": {
        "colab": {
          "base_uri": "https://localhost:8080/",
          "height": 516
        },
        "id": "i_Ybqru5eOvM",
        "outputId": "1029922f-9cbb-4423-b15a-520046545456"
      },
      "execution_count": 2,
      "outputs": [
        {
          "output_type": "display_data",
          "data": {
            "text/plain": [
              "<Figure size 640x480 with 1 Axes>"
            ],
            "image/png": "[encoded data removed]"
          },
          "metadata": {}
        }
      ]
    },
    {
      "cell_type": "code",
      "source": [
        "A = nx.adjacency_matrix(G)\n",
        "A.todense()"
      ],
      "metadata": {
        "colab": {
          "base_uri": "https://localhost:8080/"
        },
        "id": "67PoEN8sfKc1",
        "outputId": "831e6fd9-3ae2-4803-fb3a-18960ffaffe0"
      },
      "execution_count": 3,
      "outputs": [
        {
          "output_type": "execute_result",
          "data": {
            "text/plain": [
              "array([[0, 1, 0, 0, 0],\n",
              "       [1, 0, 1, 0, 0],\n",
              "       [0, 1, 0, 1, 0],\n",
              "       [0, 0, 1, 0, 1],\n",
              "       [0, 0, 0, 1, 0]])"
            ]
          },
          "metadata": {},
          "execution_count": 3
        }
      ]
    },
    {
      "cell_type": "markdown",
      "source": [
        "We have a graph $G$ with $N$ nodes and adjacency matrix $A$.\n",
        "\n",
        "What else do we need?"
      ],
      "metadata": {
        "id": "Af4sD5bthsJl"
      }
    },
    {
      "cell_type": "markdown",
      "source": [
        "## The node features"
      ],
      "metadata": {
        "id": "tj9wg1GBQFnK"
      }
    },
    {
      "cell_type": "markdown",
      "source": [
        "We need to have information on the nodes: a vector of features $x_i\\in \\mathbb{R}^F$ at each node $i$. We gather the node information together in a matrix $X$ of size $N\\times F$.\n"
      ],
      "metadata": {
        "id": "gE5fGvsdP-ft"
      }
    },
    {
      "cell_type": "code",
      "source": [
        "F = 6 # Number of features\n",
        "X = np.zeros((N,F))\n",
        "# Let us add some values\n",
        "for idx in range(N):\n",
        "  X[idx,idx] = 1\n",
        "X[3,3:] = [1,1,1]\n",
        "X[4,-1] = 1\n",
        "X"
      ],
      "metadata": {
        "id": "DHZOxk7PfNPa",
        "colab": {
          "base_uri": "https://localhost:8080/"
        },
        "outputId": "10365380-85f9-47bd-e95f-182db01f53e0"
      },
      "execution_count": 4,
      "outputs": [
        {
          "output_type": "execute_result",
          "data": {
            "text/plain": [
              "array([[1., 0., 0., 0., 0., 0.],\n",
              "       [0., 1., 0., 0., 0., 0.],\n",
              "       [0., 0., 1., 0., 0., 0.],\n",
              "       [0., 0., 0., 1., 1., 1.],\n",
              "       [0., 0., 0., 0., 1., 1.]])"
            ]
          },
          "metadata": {},
          "execution_count": 4
        }
      ]
    },
    {
      "cell_type": "markdown",
      "source": [
        "## The Graph neural net\n",
        "Neural nets are made of layers of neurons. Let us define a layer of Graph neural net.\n",
        "\n",
        "We take the most standard architecture, introduced in [Kipf and Welling (2016)](https://arxiv.org/abs/1609.02907).\n",
        "The basic Graph neural net Layer use the following matrices:\n",
        "* $X$ matrix of node features (input)\n",
        "* $W$ weight matrix (learnable)\n",
        "* $\\Delta$ matrix encoding the graph information (involving $A$)\n",
        "* $Y$ output features after the NN layer\n",
        "\n",
        "$$Y = \\Delta XW$$\n",
        "The GNN layer performs 2 *very different* operations on the input.\n",
        "* Feature side: $W$ combines features for a new representation (new node embedding),\n",
        "* Graph side: $\\Delta$ aggregates features of connected nodes."
      ],
      "metadata": {
        "id": "W7qJsO0IQR22"
      }
    },
    {
      "cell_type": "markdown",
      "source": [
        "### The embeddings"
      ],
      "metadata": {
        "id": "2E14d49z37mh"
      }
    },
    {
      "cell_type": "code",
      "source": [
        "# Let us create an initial weight matrix W\n",
        "embed_size = 3 # choose an embedding size\n",
        "W = np.ones((F,embed_size))\n",
        "#W[3:,0] = [1,2,3]\n",
        "W"
      ],
      "metadata": {
        "colab": {
          "base_uri": "https://localhost:8080/"
        },
        "id": "S1AYRjDzxPBW",
        "outputId": "db4ed18c-1b0b-4bd5-ed3b-d76bef006e9a"
      },
      "execution_count": 5,
      "outputs": [
        {
          "output_type": "execute_result",
          "data": {
            "text/plain": [
              "array([[1., 1., 1.],\n",
              "       [1., 1., 1.],\n",
              "       [1., 1., 1.],\n",
              "       [1., 1., 1.],\n",
              "       [1., 1., 1.],\n",
              "       [1., 1., 1.]])"
            ]
          },
          "metadata": {},
          "execution_count": 5
        }
      ]
    },
    {
      "cell_type": "markdown",
      "source": [
        "Multiplying the input X with the weights W create the embeddings. The network learns to combine efficiently the features values at each node to solve the task. The entries of W are learnable and will change as the network train."
      ],
      "metadata": {
        "id": "zfqfGChxzCHV"
      }
    },
    {
      "cell_type": "code",
      "source": [
        "# Initial embeddings\n",
        "Emb = X.dot(W)\n",
        "Emb"
      ],
      "metadata": {
        "id": "BtHO3bXlhw35",
        "colab": {
          "base_uri": "https://localhost:8080/"
        },
        "outputId": "b3defee0-3da5-4fdc-83ec-4b0a9d87aa20"
      },
      "execution_count": 6,
      "outputs": [
        {
          "output_type": "execute_result",
          "data": {
            "text/plain": [
              "array([[1., 1., 1.],\n",
              "       [1., 1., 1.],\n",
              "       [1., 1., 1.],\n",
              "       [3., 3., 3.],\n",
              "       [2., 2., 2.]])"
            ]
          },
          "metadata": {},
          "execution_count": 6
        }
      ]
    },
    {
      "cell_type": "markdown",
      "source": [
        "### The aggregation\n",
        "We are now going to perform the second operation of a Graph neural net layer: node aggregation. Let us see what happens in the simple case where $\\Delta = A$"
      ],
      "metadata": {
        "id": "9vDT6nhCz0eH"
      }
    },
    {
      "cell_type": "code",
      "source": [
        "# Let us recall what is A:\n",
        "A.todense()"
      ],
      "metadata": {
        "colab": {
          "base_uri": "https://localhost:8080/"
        },
        "id": "9tL-_wCDys0G",
        "outputId": "841ac1bb-cec4-4c66-bfa0-64ca35cac848"
      },
      "execution_count": 7,
      "outputs": [
        {
          "output_type": "execute_result",
          "data": {
            "text/plain": [
              "array([[0, 1, 0, 0, 0],\n",
              "       [1, 0, 1, 0, 0],\n",
              "       [0, 1, 0, 1, 0],\n",
              "       [0, 0, 1, 0, 1],\n",
              "       [0, 0, 0, 1, 0]])"
            ]
          },
          "metadata": {},
          "execution_count": 7
        }
      ]
    },
    {
      "cell_type": "code",
      "source": [
        "# The aggregation operation\n",
        "Agg = A@Emb\n",
        "Agg"
      ],
      "metadata": {
        "colab": {
          "base_uri": "https://localhost:8080/"
        },
        "id": "CyEhzXRmyJhz",
        "outputId": "b74685ab-6103-4970-f3f7-6b34bba68cb0"
      },
      "execution_count": 8,
      "outputs": [
        {
          "output_type": "execute_result",
          "data": {
            "text/plain": [
              "array([[1., 1., 1.],\n",
              "       [2., 2., 2.],\n",
              "       [4., 4., 4.],\n",
              "       [3., 3., 3.],\n",
              "       [3., 3., 3.]])"
            ]
          },
          "metadata": {},
          "execution_count": 8
        }
      ]
    },
    {
      "cell_type": "code",
      "source": [
        "nx.draw(G, with_labels=True, font_weight='bold')"
      ],
      "metadata": {
        "colab": {
          "base_uri": "https://localhost:8080/",
          "height": 516
        },
        "id": "03MXpzx3yWaa",
        "outputId": "a9fd4e81-0547-4b2a-ab23-9b9511ffeeda"
      },
      "execution_count": 9,
      "outputs": [
        {
          "output_type": "display_data",
          "data": {
            "text/plain": [
              "<Figure size 640x480 with 1 Axes>"
            ],
            "image/png": "[encoded data removed]"
          },
          "metadata": {}
        }
      ]
    },
    {
      "cell_type": "markdown",
      "source": [
        "Applying $A$ sum the embeddings of the neighbor nodes!\n",
        "\n",
        "**First remark:** To have a relevant representation, it may be useful to involve the embedding of the node itself in the aggregation! Solution: add self-edges (identity matrix)"
      ],
      "metadata": {
        "id": "eNHHIYXp0UjJ"
      }
    },
    {
      "cell_type": "code",
      "source": [
        "B = A + np.eye(N)\n",
        "B"
      ],
      "metadata": {
        "colab": {
          "base_uri": "https://localhost:8080/"
        },
        "id": "tioO2lkaym90",
        "outputId": "7b5dc932-8528-46f7-a4a6-07faed8e7a9e"
      },
      "execution_count": 10,
      "outputs": [
        {
          "output_type": "execute_result",
          "data": {
            "text/plain": [
              "array([[1., 1., 0., 0., 0.],\n",
              "       [1., 1., 1., 0., 0.],\n",
              "       [0., 1., 1., 1., 0.],\n",
              "       [0., 0., 1., 1., 1.],\n",
              "       [0., 0., 0., 1., 1.]])"
            ]
          },
          "metadata": {},
          "execution_count": 10
        }
      ]
    },
    {
      "cell_type": "markdown",
      "source": [
        "**Second remark:** All neighbors are treated equally in the agregation. It is actually one of the big problems with Graph neural Nets!\n",
        "\n",
        "We can improve the agregation by reducing the influence of highly connected nodes. They are neighbors of many nodes, so they can have a lot of (bad) influence!\n",
        "\n",
        "For that we will divide the contributions in the aggreagation by the node degrees, more precisely we introduce the matrix:\n",
        "$$C = \\sqrt{D^{-1}}B\\sqrt{D^{-1}}\n",
        "$$\n",
        "The matrix $D$ is diagonal with strictly positive entries, so this operation is fine. **Note:** why we take the square root and apply on both side is motivated by maths. It is much more convenient to have a symmetric matrix (diagonalizable) to prove theorems with it :)  "
      ],
      "metadata": {
        "id": "rZX0sbVd1FKh"
      }
    },
    {
      "cell_type": "code",
      "source": [
        "# Degree matrix\n",
        "degrees = np.sum(B,1)\n",
        "D = np.diag(degrees)\n",
        "# and the inverse, with the square root\n",
        "Dsqinv = np.diag(np.sqrt(1/degrees))\n",
        "Dsqinv"
      ],
      "metadata": {
        "colab": {
          "base_uri": "https://localhost:8080/"
        },
        "id": "yZ3VrSgK0-rE",
        "outputId": "0a5a7f74-ed5a-402e-8aa3-387e679dcea1"
      },
      "execution_count": 11,
      "outputs": [
        {
          "output_type": "execute_result",
          "data": {
            "text/plain": [
              "array([[0.70710678, 0.        , 0.        , 0.        , 0.        ],\n",
              "       [0.        , 0.57735027, 0.        , 0.        , 0.        ],\n",
              "       [0.        , 0.        , 0.57735027, 0.        , 0.        ],\n",
              "       [0.        , 0.        , 0.        , 0.57735027, 0.        ],\n",
              "       [0.        , 0.        , 0.        , 0.        , 0.70710678]])"
            ]
          },
          "metadata": {},
          "execution_count": 11
        }
      ]
    },
    {
      "cell_type": "code",
      "source": [
        "# Our new aggregation matrix:\n",
        "C = Dsqinv@B@Dsqinv\n",
        "C"
      ],
      "metadata": {
        "colab": {
          "base_uri": "https://localhost:8080/"
        },
        "id": "zpE537TU18H-",
        "outputId": "aca773ee-d45c-469f-f64e-094e7d125403"
      },
      "execution_count": 12,
      "outputs": [
        {
          "output_type": "execute_result",
          "data": {
            "text/plain": [
              "array([[0.5       , 0.40824829, 0.        , 0.        , 0.        ],\n",
              "       [0.40824829, 0.33333333, 0.33333333, 0.        , 0.        ],\n",
              "       [0.        , 0.33333333, 0.33333333, 0.33333333, 0.        ],\n",
              "       [0.        , 0.        , 0.33333333, 0.33333333, 0.40824829],\n",
              "       [0.        , 0.        , 0.        , 0.40824829, 0.5       ]])"
            ]
          },
          "metadata": {},
          "execution_count": 12
        }
      ]
    },
    {
      "cell_type": "markdown",
      "source": [
        "The new aggregation is the multiplication with $C$ instead of $A$."
      ],
      "metadata": {
        "id": "YQ2XzDom3fjL"
      }
    },
    {
      "cell_type": "markdown",
      "source": [
        "### the Graph neural net layer\n",
        "Finally let us put everything together in a neural network layer"
      ],
      "metadata": {
        "id": "7Xx5EIfr4Ga1"
      }
    },
    {
      "cell_type": "code",
      "source": [
        "# function for the GNN layer\n",
        "def GNNlayer(X,A,embed_size):\n",
        "  N,F = X.shape\n",
        "  W = np.random.rand(F,embed_size)\n",
        "  B = A + np.eye(N)\n",
        "  degrees = np.sum(B,1)\n",
        "  Dsqinv = np.diag(np.sqrt(1/degrees))\n",
        "  return Dsqinv@X@W"
      ],
      "metadata": {
        "id": "Xkz4pcT42W_h"
      },
      "execution_count": 13,
      "outputs": []
    },
    {
      "cell_type": "code",
      "source": [
        "X2 = GNNlayer(X,A,5)"
      ],
      "metadata": {
        "id": "QMG58Asn2jcB"
      },
      "execution_count": 14,
      "outputs": []
    },
    {
      "cell_type": "markdown",
      "source": [
        "Voila!"
      ],
      "metadata": {
        "id": "-c3n4xzB5w4y"
      }
    },
    {
      "cell_type": "markdown",
      "source": [
        "## A full GNN\n",
        "In a complete GNN, there are several layers and nonlinear functions in between"
      ],
      "metadata": {
        "id": "IUURvnab50Yw"
      }
    },
    {
      "cell_type": "code",
      "source": [
        "# A first layer\n",
        "X2 = GNNlayer(X,A,5)\n",
        "# A nonlinearity\n",
        "X2n = np.tanh(X2)\n",
        "# A second layer\n",
        "X3 = GNNlayer(X2n,A,5)"
      ],
      "metadata": {
        "id": "VJoHYX_s5c5g"
      },
      "execution_count": 15,
      "outputs": []
    },
    {
      "cell_type": "code",
      "source": [
        "X3"
      ],
      "metadata": {
        "colab": {
          "base_uri": "https://localhost:8080/"
        },
        "id": "9CgcUefB5iqt",
        "outputId": "97f4ab6f-8720-4824-a36c-b9792f94c601"
      },
      "execution_count": 16,
      "outputs": [
        {
          "output_type": "execute_result",
          "data": {
            "text/plain": [
              "array([[0.87848157, 0.70507937, 0.66984771, 0.92286037, 0.75008101],\n",
              "       [0.3159329 , 0.42052995, 0.38642695, 0.36195344, 0.34794162],\n",
              "       [0.26817775, 0.22952873, 0.23122164, 0.37886179, 0.28512052],\n",
              "       [1.34207602, 1.27643063, 1.2447832 , 1.36085485, 1.08560534],\n",
              "       [1.54142798, 1.55800423, 1.49789024, 1.56406201, 1.21194148]])"
            ]
          },
          "metadata": {},
          "execution_count": 16
        }
      ]
    },
    {
      "cell_type": "markdown",
      "source": [
        "We stop here. We don't cover the training of the GNN (updating the weight matrix $W$)."
      ],
      "metadata": {
        "id": "GnyO5D3W7YY5"
      }
    },
    {
      "cell_type": "markdown",
      "source": [
        "# Conclusion\n",
        "\n",
        "Take home messages:\n",
        "* Output of the GNN: one vector per node. *Remark:* to obtain one value per graph (e.g. molecules) you need an additional operation: Pooling.\n",
        "* Aggregation depends only on the connections: 1) it is not learnable, 2) same action for any node (independent on the location in the graph)\n",
        "* With many neighbors, aggregation average all values. It leads to the problem of oversmoothing.\n",
        "* 1 layer aggregate over one-hop neighbors, with 2 layers each node can get information from 2-hop neighbors, and with $N$ layers, $N$ hops.  "
      ],
      "metadata": {
        "id": "nUtush6H7Rb7"
      }
    },
    {
      "cell_type": "code",
      "source": [],
      "metadata": {
        "id": "UeFgM51N6Qgk"
      },
      "execution_count": 16,
      "outputs": []
    }
  ]
}