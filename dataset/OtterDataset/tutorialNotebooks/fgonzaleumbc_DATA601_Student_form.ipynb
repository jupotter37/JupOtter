{
 "cells": [
  {
   "cell_type": "code",
   "execution_count": 1,
   "metadata": {
    "id": "UgSTOKER_9lH"
   },
   "outputs": [
    {
     "name": "stderr",
     "output_type": "stream",
     "text": [
      "2023-05-02 22:11:31.032 \n",
      "  \u001b[33m\u001b[1mWarning:\u001b[0m to view this Streamlit app on a browser, run it with the following\n",
      "  command:\n",
      "\n",
      "    streamlit run C:\\Users\\felix\\anaconda3\\lib\\site-packages\\ipykernel_launcher.py [ARGUMENTS]\n",
      "2023-05-02 22:11:31.042 Session state does not function when running a script without `streamlit run`\n"
     ]
    },
    {
     "data": {
      "text/plain": [
       "False"
      ]
     },
     "execution_count": 1,
     "metadata": {},
     "output_type": "execute_result"
    }
   ],
   "source": [
    "\n",
    "import streamlit as st\n",
    "\n",
    "st.title (\"601 Dashboarding tutorial\")\n",
    "st.header(\"Let's kick start with the simple functions\")\n",
    "\n",
    "st.subheader(\"student form\")\n",
    "\n",
    "st.sidebar.title('Lets see sidebar')\n",
    "st.sidebar.radio('Student type', ['International', 'In-State', 'Out-of-State'])\n",
    "\n",
    "st.markdown(\"Personal information\")\n",
    "st.text_input('Name')\n",
    "st.text_input('Email address')\n",
    "st.number_input('Age', 0,100)\n",
    "st.radio('Gender',['Male','Female'])\n",
    "\n",
    "st.markdown(\"Travelling information\")\n",
    "st.date_input('Travelled date to USA')\n",
    "st.file_uploader('Upload a photo')\n",
    "\n",
    "st.markdown(\"University information\")\n",
    "st.selectbox('University name', ['University of Maryland- College park', 'University of Maryland- Baltimore County, main campus', 'University of Maryland-- Baltimore County, Shady Grove'])\n",
    "st.select_slider('Course', ['Undergraduate', 'Graduate Part-time', 'Graduate Full-time'])\n",
    "st.slider('Credits', 0,12)\n",
    "st.multiselect('Course days', ['Monday','Tuesday','Wednesday','Thursday','Friday'])\n",
    "st.checkbox('Online Course')\n",
    "st.checkbox('In-person Course')\n",
    "\n",
    "st.button('Submit')\n",
    "\n"
   ]
  },
  {
   "cell_type": "code",
   "execution_count": null,
   "metadata": {},
   "outputs": [],
   "source": []
  }
 ],
 "metadata": {
  "colab": {
   "authorship_tag": "ABX9TyM+v5fno6iRbCT6EsOIZtyy",
   "provenance": []
  },
  "kernelspec": {
   "display_name": "Python 3 (ipykernel)",
   "language": "python",
   "name": "python3"
  },
  "language_info": {
   "codemirror_mode": {
    "name": "ipython",
    "version": 3
   },
   "file_extension": ".py",
   "mimetype": "text/x-python",
   "name": "python",
   "nbconvert_exporter": "python",
   "pygments_lexer": "ipython3",
   "version": "3.9.13"
  }
 },
 "nbformat": 4,
 "nbformat_minor": 1
}
