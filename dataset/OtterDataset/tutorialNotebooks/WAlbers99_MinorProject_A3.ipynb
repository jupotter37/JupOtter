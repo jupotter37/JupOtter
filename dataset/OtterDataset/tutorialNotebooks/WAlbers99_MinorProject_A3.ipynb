{
 "cells": [
  {
   "cell_type": "markdown",
   "metadata": {
    "id": "MgDkoAJlpWke"
   },
   "source": [
    "## A3 - K-Means & K-Medioids Clustering"
   ]
  },
  {
   "cell_type": "markdown",
   "metadata": {
    "id": "KJgU6jaspktK"
   },
   "source": [
    "The previous assignments have been about **supervised learning**. In this assignment we move into the **unsupervised** part of the field. Imagine that you get a dataset, without labels. You don't really know the classes of the objects in there, but you want to get an understanding of the structure of the dataset. It would be nice if you could discover which items in the dataset are similar enough that they might belong to the same class. We do this by using **clustering** algorithms, like $k-$means and $k-$medoids. \n",
    "\n",
    "The $k$ here stands for the number of clusters you expect to find. But how do you know how many clusters you're looking for? Sometimes you already have some external knowledge, or you just have capacity to handle a certain number of different classes so you just want the best clustering for the $k$ that you have. But there are also methods for getting an idea which value of $k$ best fits the data.\n",
    "\n",
    "**Take a look at the How do we grade section! We have noticed that students are missing \"easy\" points due to for example handing in incomplete graphs. (The exact requirements for a graph can be found in the How do we grade section)**"
   ]
  },
  {
   "cell_type": "markdown",
   "metadata": {
    "id": "qGtVfIQGpnPA"
   },
   "source": [
    "## Organizational"
   ]
  },
  {
   "cell_type": "markdown",
   "metadata": {
    "id": "J7dvWNQVpqQ2"
   },
   "source": [
    "### What you will learn"
   ]
  },
  {
   "cell_type": "markdown",
   "metadata": {
    "id": "ggPzSuTcuf2i"
   },
   "source": [
    "* Visualizing clusters\n",
    "* Using the $k-$means and $k-$medoids algorithms\n",
    "* Measuring the quality of clusters, with and without ground truth\n",
    "* How to choose $k$?\n",
    "* Generating adversarial data"
   ]
  },
  {
   "cell_type": "markdown",
   "metadata": {
    "id": "2dSWF9B5psxC"
   },
   "source": [
    "### What to submit"
   ]
  },
  {
   "cell_type": "markdown",
   "metadata": {
    "id": "ED-V873XpyGR"
   },
   "source": [
    "* This assignment doesn't use unit tests, because it's largely about visualization, interpretation, and machine learning on data without known ground truth. However, we do want you to submit some code that we can run. This should go into **A3.py**. You should **not** use any packages that aren't already included in the code skeleton. **We should be able to just download your file and run it.**\n",
    "\n",
    "* In exercise 5 you are asked to generate a dataset and submit it as a csv file. Name it **A3.csv** and submit it through **Github** along with your code.\n",
    "\n",
    "* Make a PDF report with your plots, tables and written analysis. You can use `A3_STUDENTNUMBER.tex` as a template to make it in Overleaf if you wish. It should be named `A3_s1234567890.pdf`, but using your own student number instead of 1234567890. Hand the PDF report in through **Brightspace**.\n",
    "\n",
    "    Since this assignment involves a lot of visualization, there is no page limit. However, you should keep your text answer concise and to the point --- there is no need to write a novel.\n",
    "\n",
    "* **If you do not submit both `A3.py` and `A3.csv` to Github and the PDF report to Brightspace, you will fail this assignment.**\n",
    "\n",
    "* **This is an individual assignment. Your code and report must be your own work.**"
   ]
  },
  {
   "cell_type": "markdown",
   "metadata": {
    "id": "CMNPispdpvBe"
   },
   "source": [
    "### How we grade"
   ]
  },
  {
   "cell_type": "markdown",
   "metadata": {
    "id": "r7EcWoggslzM"
   },
   "source": [
    "Each exercise is worth 20% of the grade. We look in particular at:\n",
    "* Whether you did all the things asked for in the exercise. (We can't give you points for things you didn't do.)\n",
    "* Your analysis of figures and experiments in the report.\n",
    "* Staying concise in your writing! Academic journals often give you strict page limits.\n",
    "* Whether your code works. We should be able to run your code without extra configuration or bug-fixing.\n",
    "* **Good plots. A good plot always has: a title, a caption describing what it shows, axis labels. Usually it also has a scale and if appropriate, units. A legend may be appropriate. Text should be readable. These requirements apply to all following assignments as well. **\n",
    "* If you get inspiration or information from blogs, papers etc. -- that's okay, as long as you implement it yourself and understand it well enough to report on it. Also, make sure to cite your sources.\n"
   ]
  },
  {
   "cell_type": "markdown",
   "metadata": {
    "id": "cesBtAI7eVH7"
   },
   "source": [
    "## Preliminaries"
   ]
  },
  {
   "cell_type": "code",
   "execution_count": null,
   "metadata": {
    "id": "iTC-bw9XeAXP"
   },
   "outputs": [],
   "source": [
    "# The standard scikit-learn package doesn't inclide KMedoids, so we have to install this package\n",
    "!pip install scikit-learn-extra"
   ]
  },
  {
   "cell_type": "code",
   "execution_count": 4,
   "metadata": {
    "id": "hStxZf9leBKJ"
   },
   "outputs": [],
   "source": [
    "import numpy as np\n",
    "import pandas as pd\n",
    "\n",
    "import matplotlib.pyplot as plt\n",
    "from matplotlib.ticker import MaxNLocator  # used to get nice integer axis labels, see https://stackoverflow.com/a/34880501/12734641\n",
    "import matplotlib.cm as cm\n",
    "\n",
    "from sklearn.datasets import make_blobs\n",
    "from sklearn.metrics import silhouette_samples, silhouette_score, completeness_score, homogeneity_score\n",
    "from sklearn.cluster import KMeans\n",
    "from sklearn_extra.cluster import KMedoids"
   ]
  },
  {
   "cell_type": "markdown",
   "metadata": {
    "id": "-aZkpdYg8nyx"
   },
   "source": [
    "## Visualizing clusters"
   ]
  },
  {
   "cell_type": "markdown",
   "metadata": {
    "id": "9SH1ScOs8qs9"
   },
   "source": [
    "Let's start by getting some data to work with"
   ]
  },
  {
   "cell_type": "code",
   "execution_count": null,
   "metadata": {
    "id": "FmAyN0m_-_ya"
   },
   "outputs": [],
   "source": [
    "url = 'https://raw.githubusercontent.com/MLCourse-LU/Datasets/main/vehicles.csv'\n",
    "df = pd.read_csv(filepath_or_buffer=url, header=0)\n",
    "\n",
    "X = df.iloc[:, :-1]  # all except the last column\n",
    "y = df.iloc[:, -1]  # the last column\n",
    "\n",
    "df"
   ]
  },
  {
   "cell_type": "markdown",
   "metadata": {
    "id": "GZcs62sACUIs"
   },
   "source": [
    "As you can see, this data is labeled -- we have ground truth for the data. That's an assumption we will drop later in this assignment. Now let's visualize it."
   ]
  },
  {
   "cell_type": "code",
   "execution_count": null,
   "metadata": {
    "id": "v8LV6UifCcX7"
   },
   "outputs": [],
   "source": [
    "x = df['weight']\n",
    "y = df['speed']\n",
    "c = df['label']\n",
    "fig, (ax1, ax2) = plt.subplots(1, 2, figsize=(20,10), sharex=True, sharey=True)\n",
    "ax1.scatter(x=x, y=y, s=5)\n",
    "ax1.set_title('no ground truth')\n",
    "ax1.set_xlabel('weight')\n",
    "ax1.set_ylabel('speed')\n",
    "ax2.scatter(x=x, y=y, c=c, s=5)\n",
    "ax2.set_title('with ground truth')\n",
    "ax2.set_xlabel('weight')\n",
    "plt.show()"
   ]
  },
  {
   "cell_type": "markdown",
   "metadata": {
    "id": "ZPHDflI6CjpJ"
   },
   "source": [
    "The above plot shows the same data, visualized with and without ground truth.  If you look at the code, it might look a bit unfamiliar compared to earlier matplotlib code we've used. The word that sticks out is probably `ax`. A matplotlib object with the `Axes` class is what you think of as a plot - defined by an X-axis and an Y-axis. The \"Figure\" is also the stuff around it, basically the canvas on which the Axes objects are drawn. What you see here is one Figure that contains two Axes objects and the Axes objects each have an X-axis and an Y-axis. Using this more elaborate way of writing enables us to place them side by side like this. \n",
    "\n",
    "To make this a bit simpler, consider the picture taken from [this excellent matplotlib tutorial](https://realpython.com/python-matplotlib-guide/):"
   ]
  },
  {
   "cell_type": "markdown",
   "metadata": {
    "id": "zhHPxMgLDJkA"
   },
   "source": [
    "![anatomy.webp](data:image/webp;base64,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)\n",
    "\n"
   ]
  },
  {
   "cell_type": "markdown",
   "metadata": {
    "id": "TcSNegfADOg-"
   },
   "source": [
    "The key thing to pay attention to here is that we can do most of the operations that we're using to doing with `plt` on `ax1` and `ax2` instead, so that we can plot different things in each of them. There are some differences in how the methods are written though, like how `plt.title(...)` becomes `ax1.set_title(...)`, so be careful with that."
   ]
  },
  {
   "cell_type": "markdown",
   "metadata": {
    "id": "CuiywLbjEmSY"
   },
   "source": [
    "### Scikit-Learn style clustering"
   ]
  },
  {
   "cell_type": "markdown",
   "metadata": {
    "id": "JpV2dOWz8_RR"
   },
   "source": [
    "Scikit-Learn provides us with a KMeans implementation; documentation [here](https://scikit-learn.org/stable/modules/generated/sklearn.cluster.KMeans.html). There is also a KMedoids implementation in [Scikit-Learn Extra](https://scikit-learn-extra.readthedocs.io/en/latest/generated/sklearn_extra.cluster.KMedoids.html). The usage is fairly straightforward:"
   ]
  },
  {
   "cell_type": "code",
   "execution_count": null,
   "metadata": {
    "id": "tvQwM2cN9tq_"
   },
   "outputs": [],
   "source": [
    "k=6  # try for yourself with different values\n",
    "\n",
    "model = KMeans(n_clusters=k)\n",
    "model.fit(X)\n",
    "print('centroids:\\n', model.cluster_centers_, '\\n')\n",
    "print('labels:\\n', model.labels_)"
   ]
  },
  {
   "cell_type": "code",
   "execution_count": null,
   "metadata": {
    "id": "dpUcAjfp_t7h"
   },
   "outputs": [],
   "source": [
    "k=6  # try for yourself with different values\n",
    "\n",
    "model = KMedoids(n_clusters=k)\n",
    "model.fit(X)\n",
    "print('centroids:\\n', model.cluster_centers_, '\\n')\n",
    "print('labels:\\n', model.labels_)"
   ]
  },
  {
   "cell_type": "markdown",
   "metadata": {
    "id": "-9xdzc51Mm6x"
   },
   "source": [
    "#### Task 1: visualizing clustering results\n"
   ]
  },
  {
   "cell_type": "markdown",
   "metadata": {
    "id": "IsAJBbBDO5E9"
   },
   "source": [
    "* Apply `KMeans` and `KMedoids` with $k=5$ (because we know from the ground truth that there are 5 labels).\n",
    "* Make three plots side by side, two showing the clusters that your models learned, and the last one showing the ground truth.\n",
    "* Of course each plot should have a title, axis labels and legend.\n",
    "* For the `KMeans` and `KMedoids` learned clusters plot, also plot the **centroids**. Use a differently shaped marker (for example an x) to make them distinguishable.\n",
    "* Put this side-by-side plot in your report and give a brief analysis of how well the models appear to be doing."
   ]
  },
  {
   "cell_type": "markdown",
   "metadata": {
    "id": "kIsANIL9E08-"
   },
   "source": [
    "## Evaluating clusters with ground truth"
   ]
  },
  {
   "cell_type": "markdown",
   "metadata": {
    "id": "-cX0TnbhIxv-"
   },
   "source": [
    "If we know the ground truth of a dataset that we're clustering on, we can use many of the methods we've used in the previous assignments. This does require a couple of workarounds though --- the clustering algorithm assigns items to clusters $1\\ldots k$, but there's no guarantee those happen to be in the same order as our classes $1\\ldots k$. For example, cluster 2 might correspond to label 3.\n",
    "\n",
    "However, we have some useful alternatives at our disposal in scikit-learn:\n",
    "\n",
    "* [Homogeneity score](https://scikit-learn.org/stable/modules/generated/sklearn.metrics.homogeneity_score.html) measures if all instances assigned to a cluster have the same class.\n",
    "\n",
    "* [Completeness score](https://scikit-learn.org/stable/modules/generated/sklearn.metrics.completeness_score.html) measures whether clusters contain all of the instances of one class.\n",
    "\n",
    "These measures resemble the measures we've used before, like precision and recall, but are also a bit different because they work with an uncertain number of clusters, as well as possible permutations between cluster labels and true class labels."
   ]
  },
  {
   "cell_type": "markdown",
   "metadata": {
    "id": "By6rrCmfNxIZ"
   },
   "source": [
    "#### Task 2: $k-$means vs. $k-$medoids\n"
   ]
  },
  {
   "cell_type": "markdown",
   "metadata": {
    "id": "6R7t8szVO7-w"
   },
   "source": [
    "You can use https://raw.githubusercontent.com/MLCourse-LU/Datasets/main/dataset-task-2.csv, or generate your own datasets using for example [make_blobs](https://scikit-learn.org/stable/modules/generated/sklearn.datasets.make_blobs.html).\n",
    "\n",
    "The task is to compare `KMeans` and `KMedoids` on a dataset using homogeneity and completeness scores. Write code to do the following:\n",
    "\n",
    "* Train the models.\n",
    "* Make scatterplots of their performance. Also scatterplot the true labels for visual comparison.\n",
    "\n",
    "And report the following:\n",
    "* Your plots.\n",
    "* If you made a dataset of your own, how you made it and why you did it that way.\n",
    "* Which value of $k$ you used for each model.\n",
    "* Which model performed better? Do you have any idea why?\n",
    "* Describe for both models a situation where it would be a better choice than the other."
   ]
  },
  {
   "cell_type": "code",
   "execution_count": 9,
   "metadata": {
    "id": "-zABLjouUu7G"
   },
   "outputs": [],
   "source": [
    "url = 'https://raw.githubusercontent.com/MLCourse-LU/Datasets/main/dataset-task-2.csv'\n",
    "df = pd.read_csv(filepath_or_buffer=url, header=0)\n",
    "\n",
    "X = df.iloc[:, :-1].values  # all except the last column\n",
    "y = df.iloc[:, -1].values  # the last column\n",
    "\n",
    "k = 4\n"
   ]
  },
  {
   "cell_type": "markdown",
   "metadata": {
    "id": "NZ5bDevBZj77"
   },
   "source": [
    "## Evaluating clusterings without known ground truth"
   ]
  },
  {
   "cell_type": "markdown",
   "metadata": {
    "id": "NIYV50xHZwoW"
   },
   "source": [
    "As a data scientist you will often run into data where the ground truth is not known. You can still use clustering, unlike some other techniques, because it's an unsupervised technique. You could even use that as the start of a longer investigation: first you use clustering to get an idea of what sort of groups exist in the data, then you study the clusters to try to identify classes.\n",
    "\n",
    "When using $k-$means and $k-$medoids, you'll need to decide what value of $k$ to use however, and this can be tricky. The obvious thing is to use a measure for cluster quality that doesn't require knowing the ground truth. If we have such a measure, then we can just try our algorithms for various values of $k$ and see which one gives the best results. That's what we'll be doing in the next section, using two different measures: **silhouette** and **inertia**."
   ]
  },
  {
   "cell_type": "markdown",
   "metadata": {
    "id": "1VqivjuwZkGT"
   },
   "source": [
    "### The Silhouette Method"
   ]
  },
  {
   "cell_type": "markdown",
   "metadata": {
    "id": "atF117Rodrhi"
   },
   "source": [
    "We will use a code fragment from the [scikit-learn documentation](https://scikit-learn.org/stable/auto_examples/cluster/plot_kmeans_silhouette_analysis.html). To make this more advanced plotting code a bit easier to follow we've restructured it a bit and we'll go through it step by step. We start out by making some data with a convenient scikit-learn function:"
   ]
  },
  {
   "cell_type": "code",
   "execution_count": null,
   "metadata": {
    "id": "TJhUnYbue8VE"
   },
   "outputs": [],
   "source": [
    "# Generating the sample data from make_blobs\n",
    "# This particular setting has one distinct cluster and 3 clusters placed close\n",
    "# together.\n",
    "X, y = make_blobs(n_samples=500,\n",
    "                  n_features=2,\n",
    "                  centers=4,\n",
    "                  cluster_std=1,\n",
    "                  center_box=(-10.0, 10.0),\n",
    "                  shuffle=True,\n",
    "                  random_state=1)  # For reproducibility\n"
   ]
  },
  {
   "cell_type": "markdown",
   "metadata": {
    "id": "5uklC6MLfDr4"
   },
   "source": [
    "Here we see `make_blobs` used to generate 4 clusters. There's no real ground truth, just distributions centered around randomly chosen points. What does it look like?"
   ]
  },
  {
   "cell_type": "code",
   "execution_count": null,
   "metadata": {
    "id": "QYhc5vZ1ffnf"
   },
   "outputs": [],
   "source": [
    "plt.scatter(X[:,0], X[:,1])\n",
    "plt.show()"
   ]
  },
  {
   "cell_type": "markdown",
   "metadata": {
    "id": "892rczaCf5uh"
   },
   "source": [
    "Okay, with the naked eye we can see exactly what the documentation predicted, one distinct cluster and three clusters placed close to each other.\n",
    "\n",
    "Now, we're going to run the actual experiment. We are trying out $k$ for all the values listed in `range_n_clusters`, and for each of them we do the following:\n",
    "1. Run the clustering\n",
    "1. Initialize a two-plot figure\n",
    "1. Make the left plot\n",
    "1. Make the right plot\n",
    "\n",
    "And when it's done, we show all the plots for comparison."
   ]
  },
  {
   "cell_type": "code",
   "execution_count": null,
   "metadata": {
    "id": "b12laSTNd08G"
   },
   "outputs": [],
   "source": [
    "range_n_clusters = [2, 3, 4, 5, 6]\n",
    "\n",
    "for n_clusters in range_n_clusters:\n",
    "\n",
    "    ### FIRST, DO THE ACTUAL CLUSTERING ###\n",
    "\n",
    "    # Initialize the clusterer with n_clusters value and a random generator\n",
    "    # seed of 10 for reproducibility.\n",
    "    clusterer = KMeans(n_clusters=n_clusters, random_state=10)\n",
    "    cluster_labels = clusterer.fit_predict(X)\n",
    "\n",
    "    # The silhouette_score gives the average value for all the samples.\n",
    "    # This gives a perspective into the density and separation of the formed\n",
    "    # clusters\n",
    "    silhouette_avg = silhouette_score(X, cluster_labels)\n",
    "    print(f\"For n_clusters = {n_clusters}, the average silhouette_score is :{silhouette_avg}\")\n",
    "\n",
    "    # Compute the silhouette scores for each sample\n",
    "    sample_silhouette_values = silhouette_samples(X, cluster_labels)\n",
    "\n",
    "\n",
    "    ### SET UP THE TWO-PLOT FIGURE ###\n",
    "\n",
    "    # Create a subplot with 1 row and 2 columns\n",
    "    fig, (ax1, ax2) = plt.subplots(1, 2)\n",
    "    fig.set_size_inches(18, 7)\n",
    "\n",
    "\n",
    "    ### LEFT PLOT ###\n",
    "\n",
    "    # The 1st subplot is the silhouette plot\n",
    "    ax1.set_title(\"The silhouette plot for the various clusters.\")\n",
    "\n",
    "    # The silhouette coefficient can range from -1, 1 but in this example all\n",
    "    # lie within [-0.1, 1]\n",
    "    ax1.set_xlabel(\"The silhouette coefficient values\")\n",
    "    ax1.set_xlim([-0.1, 1])\n",
    "    ax1.set_xticks([-0.1, 0, 0.2, 0.4, 0.6, 0.8, 1])\n",
    "\n",
    "    # The (n_clusters+1)*10 is for inserting blank space between silhouette\n",
    "    # plots of individual clusters, to demarcate them clearly.\n",
    "    ax1.set_ylabel(\"Cluster label\")\n",
    "    ax1.set_ylim([0, len(X) + (n_clusters + 1) * 10])\n",
    "    ax1.set_yticks([])  # Clear the yaxis labels / ticks\n",
    "\n",
    "    \n",
    "\n",
    "    y_lower = 10  # starting position on the y-axis of the next cluster to be rendered\n",
    "\n",
    "    for i in range(n_clusters): # Here we make the colored shape for each cluster\n",
    "\n",
    "        # Aggregate the silhouette scores for samples belonging to cluster i, and sort them\n",
    "        ith_cluster_silhouette_values = sample_silhouette_values[cluster_labels == i]\n",
    "        ith_cluster_silhouette_values.sort()\n",
    "\n",
    "        # Figure out how much room on the y-axis to reserve for this cluster\n",
    "        size_cluster_i = ith_cluster_silhouette_values.shape[0]\n",
    "        y_upper = y_lower + size_cluster_i\n",
    "        y_range = np.arange(y_lower, y_upper)\n",
    "\n",
    "        # Use matplotlib color maps to make each cluster a different color, based on the total number of clusters.\n",
    "        # We use this to make sure the colors in the right plot will match those on the left.\n",
    "        color = cm.nipy_spectral(float(i) / n_clusters)\n",
    "\n",
    "        # Draw the cluster's overall silhouette by drawing one horizontal stripe for each datapoint in it\n",
    "        ax1.fill_betweenx(y=y_range,                            # y-coordinates of the stripes\n",
    "                          x1=0,                                 # all stripes start touching the y-axis\n",
    "                          x2=ith_cluster_silhouette_values,     # ... and they run as far as the silhouette values\n",
    "                          facecolor=color, edgecolor=color, alpha=0.7)\n",
    "\n",
    "        # Label the silhouette plots with their cluster numbers at the middle\n",
    "        ax1.text(-0.05, y_lower + 0.5 * size_cluster_i, str(i))\n",
    "\n",
    "        # Compute the new y_lower for next plot\n",
    "        y_lower = y_upper + 10  # 10 for the 0 samples\n",
    "\n",
    "    # The vertical line for average silhouette score of all the values\n",
    "    ax1.axvline(x=silhouette_avg, color=\"red\", linestyle=\"--\")\n",
    "\n",
    "\n",
    "\n",
    "    ### RIGHT PLOT ###\n",
    "\n",
    "    # 2nd Plot showing the actual clusters formed\n",
    "    ax2.set_title(\"The visualization of the clustered data.\")\n",
    "    ax2.set_xlabel(\"Feature space for the 1st feature\")\n",
    "    ax2.set_ylabel(\"Feature space for the 2nd feature\")\n",
    "\n",
    "    plt.suptitle(f\"Silhouette analysis for KMeans clustering on sample data with n_clusters = {n_clusters}\",\n",
    "                 fontsize=14, fontweight='bold')\n",
    "\n",
    "    colors = cm.nipy_spectral(cluster_labels.astype(float) / n_clusters)  # make the colors match with the other plot\n",
    "    ax2.scatter(X[:, 0], X[:, 1], marker='.', s=30, lw=0, alpha=0.7, c=colors, edgecolor='k')\n",
    "\n",
    "    # Labeling the clusters\n",
    "    centers = clusterer.cluster_centers_\n",
    "    # Draw white circles at cluster centers\n",
    "    ax2.scatter(centers[:, 0], centers[:, 1], marker='o', c=\"white\", alpha=1, s=200, edgecolor='k')\n",
    "    # Put numbers in those circles\n",
    "    for i, c in enumerate(centers):\n",
    "        ax2.scatter(c[0], c[1], marker='$%d$' % i, alpha=1, s=50, edgecolor='k')\n",
    "\n",
    "\n",
    "\n",
    "\n",
    "### FINISH ###\n",
    "plt.show()  # show all the plots, in the order they were generated\n"
   ]
  },
  {
   "cell_type": "markdown",
   "metadata": {
    "id": "KvaBHb8uRlz3"
   },
   "source": [
    "#### Task 3: using silhouette to compare $k-$means and $k-$medoids."
   ]
  },
  {
   "cell_type": "markdown",
   "metadata": {
    "id": "nnybQgOvSJWj"
   },
   "source": [
    "In this exercise you have to adapt the code fragment above to do a comparison of $k-$means and $k-$medoids.\n",
    "\n",
    "* Load the data from https://raw.githubusercontent.com/MLCourse-LU/Datasets/main/dataset-task-3.csv\n",
    "* Make a clustering using `KMeans` and another one using `KMedoids`, using $k=4$.\n",
    "* Adapt the code sample to compare the clusterings generated by both models.\n",
    "\n",
    "What to submit:\n",
    "* A silhouette + clustering figure for both `KMeans` and `KMedoids`.\n",
    "* Report the scores both models get.\n",
    "* Analyze which one seems to be working better. Why do you think it works better?"
   ]
  },
  {
   "cell_type": "markdown",
   "metadata": {
    "id": "Nlciw9UxSbex"
   },
   "source": [
    "### The Elbow Method"
   ]
  },
  {
   "cell_type": "markdown",
   "metadata": {
    "id": "i2VlDhslSla-"
   },
   "source": [
    "Suppose you had a measure of how poorly a clustering is doing, like **inertia**. Inertia measures the distance of data points in a cluster to the centroid of that cluster. Obviously if we set $k$ to the same number of the number of data points, then we would get zero inertia, because each data point is exactly on the centroid of its one-point cluster. But this model would be very uninformative. So we can't just minimize inertia and pick that value as $k$. But as it turns out, there's a very straightforward heuristic method. For $k = 1\\ldots n$ you run the clustering algorithm, and record the inertia value of the model. Then you make a plot of $k$ vs inertia, like this:\n"
   ]
  },
  {
   "cell_type": "markdown",
   "metadata": {
    "id": "-h0eaWQ3VGBI"
   },
   "source": [
    "![elbow.png](data:image/png;base64,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)"
   ]
  },
  {
   "cell_type": "markdown",
   "metadata": {
    "id": "jUZ5f1AkVMe7"
   },
   "source": [
    "We can see an \"elbow\" like shape in this plot, and the joint of the elbow is clearly at $k = 4$, so the heuristic says that this data seems to have 4 real clusters in them. After that the inertia still goes down, but not so very fast. But keep in mind that the elbow method is a *heuristic*; it's not guaranteed to always be correct, but it works in most of the cases. And if you're dealing with data for which you don't have any ground truth and no idea what $k$ might be, it's definitely useful.\n",
    "\n",
    "You can see that even after $k=4$ the inertia continues to decrease. For an idea why, let's look at the formula for inertia:\n",
    "\n",
    "$$\\sum_{i=1}^k \\sum_{j=1}^{|C_i|} d(c_i, p_{i, j})^2$$\n",
    "\n",
    "Let's unpack that formula a bit. \n",
    "* The left summation shows that we're summing up over $i \\in 1\\ldots k$, so this is a sum of *something* over all the $k$ clusters. \n",
    "* Then the right summation has $j$ going from 1 to the cardinality (= the number of items in the set) $C_i$, the $i-$th cluster. \n",
    "* Then we have $d(a, b)^2$ as the squared distance between two points. This could be Euclidean distance or some other kind of distance measure that we're using.\n",
    "* $c_i$ is the centroid of cluster $C_i$.\n",
    "* $p_{i, j}$ is the $j-$th point assigned to cluster $C_i$.\n",
    "\n",
    "So putting that all back together, what we have is the sum of all squared distances of points to their cluster centroids.\n",
    "\n",
    "Conveniently, you don't have to calculate that yourself, it's already implemented in scikit-learn. If you have fitted a `KMeans` or `KMedoids` model you can just look up this value:\n",
    "\n",
    "```python\n",
    "print(model.inertia_)\n",
    "```"
   ]
  },
  {
   "cell_type": "markdown",
   "metadata": {
    "id": "6y2r6ILnYSDI"
   },
   "source": [
    "#### Task 4: use the elbow method to find $k$"
   ]
  },
  {
   "cell_type": "markdown",
   "metadata": {
    "id": "0c9HPysjYaNC"
   },
   "source": [
    "Use the elbow method to discover the most likely value of $k$ used to generate datasets 4a and 4b. You can use KMeans, KMedoids, or both if you like.\n",
    "\n",
    "What to submit:\n",
    "* Figures of the elbow plots you generated.\n",
    "* A table with the $k$-values you think were used to generate each dataset.\n",
    "* Explanation why you chose those values.\n",
    "\n",
    "Notice that these datasets are not 2D anymore, so visualizing them and judging by directly looking at the data isn't always practical. That's why the elbow method can be a useful heuristic."
   ]
  },
  {
   "cell_type": "markdown",
   "metadata": {
    "id": "m35WnEAvFFs5"
   },
   "source": [
    "## Limitations of $k-$means and $k-$medoids"
   ]
  },
  {
   "cell_type": "markdown",
   "metadata": {
    "id": "yHz-5xoOO_41"
   },
   "source": [
    "#### Task 5: difficult clusters\n",
    "These algorithms are useful and elegantly simple, but they don't always work. In this exercise, we want you to develop a dataset that they have problems with.\n",
    "\n",
    "Write code that generates a dataset, with the following properties:\n",
    "* 2 features, so that we can use a simple 2D plot to visualize it.\n",
    "* Put in $k \\geq 3$ different distributions of data into it; you can pick $k$ yourself.\n",
    "* Easy for a human to cluster just with the naked eye.\n",
    "* Hard for the `KMedoids` clusterer to properly cluster, even knowing the right value of `k`.\n",
    "\n",
    "Submit the following:\n",
    "* The code used. Use only the packages in the code skeleton and it should end with a call to `plt.show()`. We should be able to run your code and see (approximately or exactly) the same results. You can use fixed random seeds if you want.\n",
    "* Figure(s) in your report showing the ground truth vs. the `KMedoids` clustering.\n",
    "* A brief explanation of why you used this approach to generate the data.\n",
    "* A brief analysis of why it's easy for humans to see the correct clusters but hard for $k-$medoids.\n",
    "* The dataset as a csv file named **A3.csv**."
   ]
  }
 ],
 "metadata": {
  "colab": {
   "collapsed_sections": [],
   "name": "A3.ipynb",
   "provenance": [],
   "toc_visible": true
  },
  "kernelspec": {
   "display_name": "Python 3",
   "language": "python",
   "name": "python3"
  },
  "language_info": {
   "codemirror_mode": {
    "name": "ipython",
    "version": 3
   },
   "file_extension": ".py",
   "mimetype": "text/x-python",
   "name": "python",
   "nbconvert_exporter": "python",
   "pygments_lexer": "ipython3",
   "version": "3.9.5"
  }
 },
 "nbformat": 4,
 "nbformat_minor": 1
}
