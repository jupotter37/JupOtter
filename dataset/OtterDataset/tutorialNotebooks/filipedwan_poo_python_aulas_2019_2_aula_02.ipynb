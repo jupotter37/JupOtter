{
 "cells": [
  {
   "cell_type": "markdown",
   "metadata": {},
   "source": [
    "<center>\n",
    "    <table>\n",
    "        <tr>\n",
    "            <th> <img src=\"figures/ufrr_logo.png\" width=75px> </th>\n",
    "            <th> <img src=\"figures/dcc.jpg\" width=100px> </th>\n",
    "        </tr>\n",
    "    <table>\n",
    "    <font size=4>\n",
    "    Universidade Federal de Roriama\n",
    "    <br>\n",
    "    Departamento de Ciência da Computação\n",
    "    <br>\n",
    "    Professor: Filipe Dwan Pereira\n",
    "    <br>\n",
    "    Código da disciplina: DCC305\n",
    "    <br>\n",
    "    Período: 2019.2\n",
    "    </font>\n",
    "</center>"
   ]
  },
  {
   "cell_type": "markdown",
   "metadata": {},
   "source": [
    "## Disclaimer\n",
    "\n",
    "Esta aula é uma adaptação do capítulo 2 do livro:\n",
    "\n",
    "* Phillips, Dusty. Python 3 Object-oriented Programming - Unleash the power of Python 3 objects. \"Packt Publishing\", 2015. Second Edition."
   ]
  },
  {
   "cell_type": "markdown",
   "metadata": {},
   "source": [
    "Nesta aula aprenderemos:\n",
    "\n",
    "* Como criar classes e instanciar objetos em python;\n",
    "* Como adicionar atributos e comportamentos a objetos em python;\n",
    "* Como organizar classes em pacotes e módulos;\n",
    "* Como sugerir que usuários não poluam nossos dados;"
   ]
  },
  {
   "cell_type": "markdown",
   "metadata": {},
   "source": [
    "## Criando Classes em Python\n",
    "\n",
    "* Python é reconhecidamente uma linguagem de programação limpa.\n",
    "* Seguindo essa linha, para criar uma classe vazia basta:"
   ]
  },
  {
   "cell_type": "code",
   "execution_count": 1,
   "metadata": {},
   "outputs": [],
   "source": [
    "class MyFirstClass:\n",
    "    pass"
   ]
  },
  {
   "cell_type": "markdown",
   "metadata": {},
   "source": [
    "* Observe que nomes de classes seguem o padrão **CamelCase**.\n",
    "    Para mais informações sobre o estilo python consulte o [PEP 8](https://www.python.org/dev/peps/pep-0008/);"
   ]
  },
  {
   "cell_type": "markdown",
   "metadata": {},
   "source": [
    "* Vamos instanciar dois objetos ($a$ e $b$) do nosso exemplo simplório de classe.\n",
    "* Quando impressos os objetos, são apresentados qual classe eles pertencem e em qual endereço de memória eles estão alocados.\n",
    "    * Observe que os endereços são diferentes o que mostra que os objetos são diferentes."
   ]
  },
  {
   "cell_type": "code",
   "execution_count": 2,
   "metadata": {},
   "outputs": [
    {
     "name": "stdout",
     "output_type": "stream",
     "text": [
      "<__main__.MyFirstClass object at 0x7fc1d0532588>\n",
      "<__main__.MyFirstClass object at 0x7fc1d0596278>\n"
     ]
    }
   ],
   "source": [
    "a = MyFirstClass()\n",
    "b = MyFirstClass()\n",
    "\n",
    "print(a)\n",
    "print(b)"
   ]
  },
  {
   "cell_type": "markdown",
   "metadata": {},
   "source": [
    "## Adicionando Atributos\n",
    "\n",
    "* Como python é uma linguagem dinâmica, podemos criar atributos diretamente usando a notação com ponto (**dot notation**)\n",
    "    * $<object>.<attribute> = <value>$\n",
    "    * No python os valores podem ser qualquer coisa (um tipo built-in, outro objeto, um função ou até uma classe)\n",
    "* Exemplo simples:"
   ]
  },
  {
   "cell_type": "code",
   "execution_count": 3,
   "metadata": {},
   "outputs": [],
   "source": [
    "class Point:\n",
    "    pass\n",
    "\n",
    "p1 = Point()\n",
    "p2 = Point()"
   ]
  },
  {
   "cell_type": "code",
   "execution_count": 4,
   "metadata": {},
   "outputs": [],
   "source": [
    "p1.x = 5\n",
    "p1.y = 4\n",
    "\n",
    "p2.x = 3\n",
    "p2.y = 6"
   ]
  },
  {
   "cell_type": "code",
   "execution_count": 5,
   "metadata": {},
   "outputs": [
    {
     "name": "stdout",
     "output_type": "stream",
     "text": [
      "5 4\n",
      "3 6\n"
     ]
    }
   ],
   "source": [
    "print(p1.x, p1.y)\n",
    "print(p2.x, p2.y)"
   ]
  },
  {
   "cell_type": "markdown",
   "metadata": {},
   "source": [
    "### Exemplo prático de uso de atributos\n",
    "\n",
    "* Programação orientada a objetos é muito sobre interação entre objetos.\n",
    "* Estamos interessados em invocar ações que causam mudanças nos atributos.\n",
    "    * Para tanto, podemos adicionar comportamentos (métodos) às classes.\n",
    "* Para ilustrar, vamos criar um método chamado *reset* que move um objeto Point para a origem:"
   ]
  },
  {
   "cell_type": "code",
   "execution_count": 1,
   "metadata": {},
   "outputs": [
    {
     "name": "stdout",
     "output_type": "stream",
     "text": [
      "0 0\n"
     ]
    }
   ],
   "source": [
    "class Point:\n",
    "    def reset(self):\n",
    "        self.x = 0\n",
    "        self.y = 0\n",
    "\n",
    "p = Point()\n",
    "p.reset()\n",
    "print(p.x, p.y)"
   ]
  },
  {
   "cell_type": "markdown",
   "metadata": {},
   "source": [
    "* Um método em python é formatado identicamente a uma função;\n",
    "* A diferença de um método para uma função é que o método recebe um parâmetro chamado *self*;\n",
    "* O parâmetro *self* é uma simples referência do próprio objeto (isto é, o objeto que está sendo invocado);"
   ]
  },
  {
   "cell_type": "markdown",
   "metadata": {},
   "source": [
    "O que acontece se esquercemos o self? "
   ]
  },
  {
   "cell_type": "code",
   "execution_count": 2,
   "metadata": {},
   "outputs": [
    {
     "ename": "TypeError",
     "evalue": "reset() takes 0 positional arguments but 1 was given",
     "output_type": "error",
     "traceback": [
      "\u001b[0;31m---------------------------------------------------------------------------\u001b[0m",
      "\u001b[0;31mTypeError\u001b[0m                                 Traceback (most recent call last)",
      "\u001b[0;32m<ipython-input-2-bec9ede0179d>\u001b[0m in \u001b[0;36m<module>\u001b[0;34m()\u001b[0m\n\u001b[1;32m      4\u001b[0m \u001b[0;34m\u001b[0m\u001b[0m\n\u001b[1;32m      5\u001b[0m \u001b[0mp\u001b[0m \u001b[0;34m=\u001b[0m \u001b[0mPoint\u001b[0m\u001b[0;34m(\u001b[0m\u001b[0;34m)\u001b[0m\u001b[0;34m\u001b[0m\u001b[0m\n\u001b[0;32m----> 6\u001b[0;31m \u001b[0mp\u001b[0m\u001b[0;34m.\u001b[0m\u001b[0mreset\u001b[0m\u001b[0;34m(\u001b[0m\u001b[0;34m)\u001b[0m\u001b[0;34m\u001b[0m\u001b[0m\n\u001b[0m",
      "\u001b[0;31mTypeError\u001b[0m: reset() takes 0 positional arguments but 1 was given"
     ]
    }
   ],
   "source": [
    "class Point:\n",
    "    def reset():\n",
    "        pass\n",
    "\n",
    "p = Point()\n",
    "p.reset()"
   ]
  },
  {
   "cell_type": "markdown",
   "metadata": {},
   "source": [
    "* Python lança um erro não muito significativo explicando que você deveria ter passado um argumento para o método *reset*."
   ]
  },
  {
   "cell_type": "markdown",
   "metadata": {},
   "source": [
    "### Adicionando Métodos\n",
    "\n",
    "* Vamos adicionar para nossa classe *Point* um método para mover o ponto para uma posição arbitrária e outro para calcular a distância entre dois pontos:"
   ]
  },
  {
   "cell_type": "code",
   "execution_count": 15,
   "metadata": {},
   "outputs": [],
   "source": [
    "import math\n",
    "\n",
    "class Point:    \n",
    "    def move(self, x, y):\n",
    "        self.x = x\n",
    "        self.y = y\n",
    "        \n",
    "    def reset(self):\n",
    "        self.move(0.0, 0.0)\n",
    "        \n",
    "    def calculate_distance(self, p_2):\n",
    "        dist = math.sqrt((self.x - p_2.x)**2 +\n",
    "                         (self.y - p_2.y)**2)\n",
    "        return dist"
   ]
  },
  {
   "cell_type": "markdown",
   "metadata": {},
   "source": [
    "* A classe acima tem 3 métodos;\n",
    "    * O método move aceita dois argumentos (x e y) e os atribui aos atributos x e y do objeto self;\n",
    "    * O método reset reaproveita a implementação de move, já que o reset é apenas um movimento para a origem;\n",
    "    * O método calculate_distance calcula a distância euclidiana entre dois pontos no plano;"
   ]
  },
  {
   "cell_type": "markdown",
   "metadata": {},
   "source": [
    "* Para testarmos nossos objetos, vamos criar dois pontos e calcular a distância entre eles:"
   ]
  },
  {
   "cell_type": "code",
   "execution_count": 17,
   "metadata": {},
   "outputs": [
    {
     "name": "stdout",
     "output_type": "stream",
     "text": [
      "5.0\n"
     ]
    }
   ],
   "source": [
    "ponto1 = Point()\n",
    "ponto2 = Point()\n",
    "\n",
    "ponto1.reset()\n",
    "ponto2.move(5,0)\n",
    "\n",
    "print(ponto1.calculate_distance(ponto2))\n",
    "assert(ponto1.calculate_distance(ponto2)==\n",
    "      ponto2.calculate_distance(ponto1))"
   ]
  },
  {
   "cell_type": "markdown",
   "metadata": {},
   "source": [
    "Obs.: a assertiva acima é só um meio de validarmos que a distância de a para b é igual a distância de b para a;"
   ]
  },
  {
   "cell_type": "markdown",
   "metadata": {},
   "source": [
    "* Agora vamos mover o ponto e calcular novamente a distância:"
   ]
  },
  {
   "cell_type": "code",
   "execution_count": 18,
   "metadata": {},
   "outputs": [
    {
     "name": "stdout",
     "output_type": "stream",
     "text": [
      "4.47213595499958\n"
     ]
    }
   ],
   "source": [
    "ponto1.move(3,4)\n",
    "print(ponto1.calculate_distance(ponto2))"
   ]
  },
  {
   "cell_type": "markdown",
   "metadata": {},
   "source": [
    "## Construtores\n",
    "\n",
    "* Note que se não usarmos os métodos *move* ou *reset* da nossa classe Point ou ainda inicializarmos diretamente os valores de x e y, então teremos um objeto Point sem os atributos x e y;\n",
    "    * Isso pode provocar erros, conforme segue:"
   ]
  },
  {
   "cell_type": "code",
   "execution_count": 8,
   "metadata": {},
   "outputs": [
    {
     "name": "stdout",
     "output_type": "stream",
     "text": [
      "5\n"
     ]
    },
    {
     "ename": "AttributeError",
     "evalue": "'Point' object has no attribute 'y'",
     "output_type": "error",
     "traceback": [
      "\u001b[0;31m---------------------------------------------------------------------------\u001b[0m",
      "\u001b[0;31mAttributeError\u001b[0m                            Traceback (most recent call last)",
      "\u001b[0;32m<ipython-input-8-c5a252d8e45e>\u001b[0m in \u001b[0;36m<module>\u001b[0;34m()\u001b[0m\n\u001b[1;32m      2\u001b[0m \u001b[0mponto\u001b[0m\u001b[0;34m.\u001b[0m\u001b[0mx\u001b[0m \u001b[0;34m=\u001b[0m \u001b[0;36m5\u001b[0m\u001b[0;34m\u001b[0m\u001b[0m\n\u001b[1;32m      3\u001b[0m \u001b[0mprint\u001b[0m\u001b[0;34m(\u001b[0m\u001b[0mponto\u001b[0m\u001b[0;34m.\u001b[0m\u001b[0mx\u001b[0m\u001b[0;34m)\u001b[0m\u001b[0;34m\u001b[0m\u001b[0m\n\u001b[0;32m----> 4\u001b[0;31m \u001b[0mprint\u001b[0m\u001b[0;34m(\u001b[0m\u001b[0mponto\u001b[0m\u001b[0;34m.\u001b[0m\u001b[0my\u001b[0m\u001b[0;34m)\u001b[0m\u001b[0;34m\u001b[0m\u001b[0m\n\u001b[0m",
      "\u001b[0;31mAttributeError\u001b[0m: 'Point' object has no attribute 'y'"
     ]
    }
   ],
   "source": [
    "ponto = Point()\n",
    "ponto.x = 5\n",
    "print(ponto.x)\n",
    "print(ponto.y)"
   ]
  },
  {
   "cell_type": "markdown",
   "metadata": {},
   "source": [
    "* A mensagem de erro mostra que ocorreu um *AttributeError* na linha 5 porque o y não é um atributo da classe Point;\n",
    "* Observe que o ideal é que todo novo objeto recebesse valores default ou que o usuário da classe Point fosse obrigado a atribuir valores para x e y ao instanciar um objeto dessa classe;"
   ]
  },
  {
   "cell_type": "markdown",
   "metadata": {},
   "source": [
    "* A maioria das linguagens orientada a objetos possuem o conceito de construtor;\n",
    "* Construtor é um método especial que cria e inicializa objetos quando eles são instanciados;\n",
    "    * No python o método que inicializa objetos é o **\\_\\_init\\_\\_**\n",
    "    * O undescore duplo significa que o python o interpreta como um método especial;"
   ]
  },
  {
   "cell_type": "markdown",
   "metadata": {},
   "source": [
    "#### Dica\n",
    "\n",
    "Não use undescore duplo no início de identificadores de métodos pois caso o python adicione uma função com o mesmo nome da sua, então sou código vai quebrar;"
   ]
  },
  {
   "cell_type": "markdown",
   "metadata": {},
   "source": [
    "* Para ilastrur o uso do **\\_\\_init\\_\\_**, vamos ajustar nossa classe Point para que o usário dela seja obrigado a especificar as coordenadas quando ele instanciar o objeto Point:"
   ]
  },
  {
   "cell_type": "code",
   "execution_count": 22,
   "metadata": {},
   "outputs": [
    {
     "name": "stdout",
     "output_type": "stream",
     "text": [
      "3 5\n"
     ]
    }
   ],
   "source": [
    "class Point:\n",
    "    def __init__(self, x, y):\n",
    "        self.x = x\n",
    "        self.y = y\n",
    "    \n",
    "    def move(self, x, y):\n",
    "        self.x = x\n",
    "        self.y = y\n",
    "        \n",
    "    def reset(self):\n",
    "        self.move(0.0, 0.0)\n",
    "\n",
    "ponto = Point(3, 5)\n",
    "print(ponto.x, ponto.y)"
   ]
  },
  {
   "cell_type": "markdown",
   "metadata": {},
   "source": [
    "* Agora se tentarmos criar um ponto sem passar as coordenadas, será lançado o erro **not enough arguments** (similar ao que recebemos antes no caso do *self*);"
   ]
  },
  {
   "cell_type": "markdown",
   "metadata": {},
   "source": [
    "* Opcionamente, podemos ainda passar **valores default** para os atributos x e y, para que esses valores sejam assumidos caso o usuário da classe não passe as coordenadas:"
   ]
  },
  {
   "cell_type": "code",
   "execution_count": 23,
   "metadata": {},
   "outputs": [],
   "source": [
    "class Point:\n",
    "    def __init__(self, x = 0.0, y = 0.0):\n",
    "        self.x = x\n",
    "        self.y = y\n",
    "    \n",
    "    def move(self, x, y):\n",
    "        self.x = x\n",
    "        self.y = y\n",
    "        \n",
    "    def reset(self):\n",
    "        self.move(0.0, 0.0)"
   ]
  },
  {
   "cell_type": "code",
   "execution_count": null,
   "metadata": {},
   "outputs": [],
   "source": [
    "p1 = Point()"
   ]
  },
  {
   "cell_type": "code",
   "execution_count": 27,
   "metadata": {},
   "outputs": [
    {
     "name": "stdout",
     "output_type": "stream",
     "text": [
      "0.0 0.0\n",
      "3.0 5.0\n"
     ]
    }
   ],
   "source": [
    "p1 = Point()\n",
    "print(p1.x, p1.y)\n",
    "p2 = Point(3.0, 5.0)\n",
    "print(p2.x, p2.y)"
   ]
  },
  {
   "cell_type": "markdown",
   "metadata": {},
   "source": [
    "## Docstrings\n",
    "\n",
    "* Apesar do python ser uma linguagem de fácil interpretação, precisamos documentar nossos códigos;\n",
    "    * Principalmente quando estamos trabalhando em equipe ou fazendo projetos que podem ser escalados;\n",
    "    * Além disso, em orientação a objetos é importante escrever a documentação das APIs da forma mais clara e concisa possível, explicando o que cada objeto, atributo e método faz;\n",
    "* Através do uso de docstrings podemos adicionar a documentação dentro do próprio código;\n",
    "    * Para tanto, colocamos a documentação em aspas simples ou dupla para documentações de linhas únicas ou as aspas simples ou duplas três vezes para textos que ficam em mais de uma linha;\n",
    "    * A documentação deve seguir a identação da classe, método, etc.\n",
    "* Para ilustrar o uso do docstring, vamos documentar nossa classe Point:"
   ]
  },
  {
   "cell_type": "code",
   "execution_count": 28,
   "metadata": {},
   "outputs": [],
   "source": [
    "import math\n",
    "\n",
    "class Point:\n",
    "    \"Representa coordenadas geométricas de um ponto no espaço bidimensional\"\n",
    "\n",
    "    def __init__(self, x=0, y=0):\n",
    "        \"\"\"Inicializa a posição de um novo ponto. x e y podem\n",
    "           ser especificados. Se eles não forem, as coordenadas\n",
    "           serão inicializadas na origem.\"\"\"\n",
    "        self.move(x, y)\n",
    "\n",
    "    def move(self, x, y):\n",
    "        \"Move um ponto para uma nova coordenada no espaço 2D.\"\n",
    "        self.x = x\n",
    "        self.y = y\n",
    "\n",
    "    def reset(self):\n",
    "        \"Reposiciona um ponto na origem geométrica: (0, 0)\"\n",
    "        self.move(0, 0)\n",
    "\n",
    "    def calculate_distance(self, other_point):\n",
    "        \"\"\"Calcula a distância entre esse ponto e um segun-\n",
    "        do ponto passado como parâmetro. Depois, a distância\n",
    "        é retorna como um float.\"\"\"\n",
    "        return math.sqrt(\n",
    "            (self.x - other_point.x) ** 2\n",
    "            + (self.y - other_point.y) ** 2\n",
    "        )"
   ]
  },
  {
   "cell_type": "markdown",
   "metadata": {},
   "source": [
    "* Observe que ao usar a classe acima, o docstring fica disponível para o usuário da classe;"
   ]
  },
  {
   "cell_type": "markdown",
   "metadata": {},
   "source": [
    "## Módulos\n",
    "\n",
    "* Agora que sabemos como criar classes e instanciar objetos precisamos saber como organizá-los;\n",
    "    * Para programas pequenos podemos colocar todas as classes em um único arquivo e apenas adicionar um script ao final do arquivo para fazer os objetos interegirem;\n",
    "    * No entanto, quando o projeto começa a crescer pode ficar difícil achar classes que precisam ser modificadas entre tantas classes definidas em um único lugar;\n",
    "    * Os módulos são simples arquivos python (*.py) onde essas classes podem ser organizadas;\n",
    "        * Ex.: dois arquivos python são dois módulos ;-)\n",
    "        * Se tivermos dois módulos no mesmo diretório podemos carregar classes, funções e métodos de um módulo para outro facilmente;"
   ]
  },
  {
   "cell_type": "markdown",
   "metadata": {},
   "source": [
    "* Para ilustrar, vamos hipoteticamente implementar um sistema de eccomerce;\n",
    "* Devemos armazenar muitos dados no database;\n",
    "    * Assim sendo, podemos colocar todas as classes e funções relacionadas à base de dados dentro do módulo *database.py*;\n",
    "* Assuma que existe uma classe chamada *Database* dentro do módulo *database.py*;\n",
    "* Assuma ainda que existe um módulo chamado *products.py* reponsável por fazer consultas relacionadas aos produtos;\n",
    "* Existem algumas variações de sintaxe para importarmos a classe Database dentro do *products.py*:"
   ]
  },
  {
   "cell_type": "code",
   "execution_count": null,
   "metadata": {},
   "outputs": [],
   "source": [
    "import database\n",
    "db = database.Database()\n",
    "# Do queries on db"
   ]
  },
  {
   "cell_type": "markdown",
   "metadata": {},
   "source": [
    "* Na versão acima importamos o módulo database para o *namespace* do *products.py*\n",
    "    * Namespace é uma lista de identificadores acessíveis para um módulo ou função;\n",
    "* Assim, podemos acessar qualquer classe ou função de database usando a notação \n",
    "\n",
    "**database.\\< something \\>**"
   ]
  },
  {
   "cell_type": "markdown",
   "metadata": {},
   "source": [
    "* Alternativamente, podemos importar coisas específicas usando a notação from...import:"
   ]
  },
  {
   "cell_type": "code",
   "execution_count": null,
   "metadata": {},
   "outputs": [],
   "source": [
    "from database import Database\n",
    "db = Database()\n",
    "# Do queries on db"
   ]
  },
  {
   "cell_type": "markdown",
   "metadata": {},
   "source": [
    "* Se, por algum motivo, o módulo *products* já possuir uma classe chamada *Database* e não quisermos que haja conflito de nomes, então podemos colocar um apelido no *database.Database*:"
   ]
  },
  {
   "cell_type": "code",
   "execution_count": null,
   "metadata": {},
   "outputs": [],
   "source": [
    "from database import Database as DB\n",
    "db = DB()\n",
    "# Do queries on db"
   ]
  },
  {
   "cell_type": "markdown",
   "metadata": {},
   "source": [
    "* Podemos ainda importar vários itens em uma única instrução:"
   ]
  },
  {
   "cell_type": "code",
   "execution_count": null,
   "metadata": {},
   "outputs": [],
   "source": [
    "from database import Database, Query #suponha que existe Query no módulo database"
   ]
  },
  {
   "cell_type": "markdown",
   "metadata": {},
   "source": [
    "* Apesar de não recomendado, podemos também importar todas as classes e funções de um módulo usando o caractere **\\***"
   ]
  },
  {
   "cell_type": "code",
   "execution_count": null,
   "metadata": {},
   "outputs": [],
   "source": [
    "from database import *"
   ]
  },
  {
   "cell_type": "markdown",
   "metadata": {},
   "source": [
    "* O importe de tudo não é recomendado, pois:\n",
    "    * Prejudica a legibilidade do código;\n",
    "    * Pode gerar problemas evitáveis no namespace (como conflito de identificadores), em função de objetos indesejáveis no namespace;"
   ]
  },
  {
   "cell_type": "markdown",
   "metadata": {},
   "source": [
    "## Pacotes\n",
    "\n",
    "* Conforme o número de módulos crescem é desejável acrescentar um novo nível de abstração, uma forma de organizar módulos em uma hierarquia como de diretórios;\n",
    "    * Podemos fazer isso através de pacotes que são diretórios que contém módulos;\n",
    "    * Tudo que precisamos fazer para dizer que um diretório é um pacote é colocar dentro dele um aquivo (pode estar vazio) chamado \\_\\_init\\_\\_.py;\n",
    "        * Se você esquecer de colocar esse arquivo, você não conseguirá importar módulos a partir desse diretório;    "
   ]
  },
  {
   "cell_type": "markdown",
   "metadata": {},
   "source": [
    "* Para ilustrar, vamos organizar nosso sistema de eccomerce em pacotes e módulos, conforme segue:\n",
    "\n",
    "<img src=\"figures/pacotes.png\"/>"
   ]
  },
  {
   "cell_type": "markdown",
   "metadata": {},
   "source": [
    "* Quando importamos módulos entre pacotes devemos ter algumas precauções;\n",
    "* Existem basicamente duas formas de realizar esse importes: importes absolutos e importes relativos;"
   ]
  },
  {
   "cell_type": "markdown",
   "metadata": {},
   "source": [
    "### Importes Absolutos\n",
    "\n",
    "* Importes absolutos especificam o caminho completo do módulo, função ou classe;\n",
    "    * Por exemplo, se você quiser acessar à classe Products dentro do módulo *products.py*, a sintaxe do importe absoluto é a seguinte:"
   ]
  },
  {
   "cell_type": "code",
   "execution_count": null,
   "metadata": {},
   "outputs": [],
   "source": [
    "import ecommerce.products\n",
    "product = ecommerce.products.Product()"
   ]
  },
  {
   "cell_type": "markdown",
   "metadata": {},
   "source": [
    "Ou"
   ]
  },
  {
   "cell_type": "code",
   "execution_count": null,
   "metadata": {},
   "outputs": [],
   "source": [
    "from ecommerce.products import Product\n",
    "product = Product()"
   ]
  },
  {
   "cell_type": "markdown",
   "metadata": {},
   "source": [
    "Ou ainda"
   ]
  },
  {
   "cell_type": "code",
   "execution_count": null,
   "metadata": {},
   "outputs": [],
   "source": [
    "from ecommerce import products\n",
    "product = products.Product()"
   ]
  },
  {
   "cell_type": "markdown",
   "metadata": {},
   "source": [
    "* Existe ainda uma outra opção que é exportar seus módulos para o PYTHONPATH.\n",
    "* Dessa forma eles poderão ser importados por qualquer módulo em qualquer lugar.\n",
    "* Para exportar scripts para o PYTHONPATH no linux basta abrir o prompt e escrever o seguinte comando:"
   ]
  },
  {
   "cell_type": "code",
   "execution_count": null,
   "metadata": {},
   "outputs": [],
   "source": [
    "export PYTHONPATH=PATH_OF_YOUR_MODULES"
   ]
  },
  {
   "cell_type": "markdown",
   "metadata": {},
   "source": [
    "* Onde *PATH_OF_YOUR_MODULES* é o caminho para os modelos que você deseja exportar;\n",
    "* Perceba que este comando só funcionará para a sessão do terminal onde você o adicionou;\n",
    "    * para que a biblioteca seja acessível para outras sessões de terminal, exporte o PYTHONPATH no bashrc, da seguinte forma:\n",
    "        1. Abra o arquivo  ~/.bashrc no seu editor favorito (ex.: gedit ~/.bashrc)\n",
    "        2. No final do arquivo ~/.bashrc adicione o comando\n",
    "            * export PYTHONPATH=PATH_OF_YOUR_MODULES\n",
    "        3. Salve o arquivo;\n",
    "* Para mais informações, acesso o [tutorial](https://bic-berkeley.github.io/psych-214-fall-2016/using_pythonpath.html);"
   ]
  },
  {
   "cell_type": "markdown",
   "metadata": {},
   "source": [
    "### Importes Relativos\n",
    "\n",
    "* As importações relativas são basicamente uma forma de dizer como encontrar uma classe, uma função ou um módulo à medida que ele é posicionado em relação ao módulo atual;\n",
    "    * Por exemplo, se você estiver trabalhando no módulo *products* e quiser importar a classe *Database* a partir do módulo *database*, você pode fazer:"
   ]
  },
  {
   "cell_type": "code",
   "execution_count": null,
   "metadata": {},
   "outputs": [],
   "source": [
    "from .database import Database"
   ]
  },
  {
   "cell_type": "markdown",
   "metadata": {},
   "source": [
    "* O ponto na frente de database informa ao python que o módulo database está no mesmo pacote que o módulo corrente;\n",
    "    * Nesse caso o pacote atual é o eccomerce."
   ]
  },
  {
   "cell_type": "markdown",
   "metadata": {},
   "source": [
    "* Por outro lado, se você estiver editando um módulo chamado paypal que fica no pacote ecommerce.payments, nós poderíamos quere usar a classe Database também;\n",
    "* Para acessar ela no classe pai, basta usar dois pontos seguidos, conforme segue:"
   ]
  },
  {
   "cell_type": "code",
   "execution_count": null,
   "metadata": {},
   "outputs": [],
   "source": [
    "from ..database import Database"
   ]
  },
  {
   "cell_type": "markdown",
   "metadata": {},
   "source": [
    "* Finalmente, podemos importar códigos diretamente de pacotes ao invés de módulos dentro de pacotes.\n",
    "* Por exemplo se quisermos importar a classe Database diretamente do pacote eccomerce, temos que adicionar a seguinte linha no arquivo **\\_\\_init\\_\\_.py** do pacote eccomerce:"
   ]
  },
  {
   "cell_type": "code",
   "execution_count": null,
   "metadata": {},
   "outputs": [],
   "source": [
    "from .database import Database"
   ]
  },
  {
   "cell_type": "markdown",
   "metadata": {},
   "source": [
    "* Com isso, podemos importar Database, por exemplo, a partir do arquivo main.py da seguinte maneira:"
   ]
  },
  {
   "cell_type": "code",
   "execution_count": null,
   "metadata": {},
   "outputs": [],
   "source": [
    "from ecommerce import Database"
   ]
  },
  {
   "cell_type": "markdown",
   "metadata": {},
   "source": [
    "* Perceba que a maneira tradicional (*from ecommerce.database import Database*) ainda funcionará normalmente;"
   ]
  },
  {
   "cell_type": "markdown",
   "metadata": {},
   "source": [
    "### Dica \n",
    "\n",
    "* Às vezes ajuda pensar no \\_\\_init\\_\\_.py como se fosse um arquivo *ecommerce.py* (se ele fosse um módulo ao invés de um pacote);\n",
    "* O \\_\\_init\\_\\_.py funcionará como um ponto de contato entre outros módulos, mas o código pode ser internamente organizado em diferentes módulos ou até subpacotes;"
   ]
  },
  {
   "cell_type": "markdown",
   "metadata": {},
   "source": [
    "### Exemplo prático da biblioteca sklearn\n",
    "\n",
    "* O sklearn é um biblioteca feita em python com algoritmos de aprendizagem de máquina;\n",
    "    * Acesse o [github do sklearn](https://github.com/scikit-learn/scikit-learn/tree/master/sklearn);\n",
    "* Dentro do pacote sklearn existe um subpacote chamado [ensemble](https://github.com/scikit-learn/scikit-learn/tree/master/sklearn/ensemble);\n",
    "    * Observe que nele existe um módulo chamado [forest.py](https://github.com/scikit-learn/scikit-learn/blob/master/sklearn/ensemble/forest.py);\n",
    "    * *RandomForestClassifier* é uma classe que fica dentro do módulo forest.py;\n",
    "    * Observe que podemos importar a classe *RandomForestClassifier* com o seguinte comando:"
   ]
  },
  {
   "cell_type": "code",
   "execution_count": 1,
   "metadata": {},
   "outputs": [],
   "source": [
    "from sklearn.ensemble import RandomForestClassifier"
   ]
  },
  {
   "cell_type": "markdown",
   "metadata": {},
   "source": [
    "* Mas como importamos o RandomForestClassifier diretamente do pacote ensemble se a classe fica dentro do módulo *forest.py*?\n",
    "* Veja que o import abaixo também funciona:"
   ]
  },
  {
   "cell_type": "code",
   "execution_count": 3,
   "metadata": {},
   "outputs": [],
   "source": [
    "from sklearn.ensemble.forest import RandomForestClassifier"
   ]
  },
  {
   "cell_type": "markdown",
   "metadata": {},
   "source": [
    "* A resposta a pergunta anterior pode ser vista no [\\_\\_init\\_\\_.py](https://github.com/scikit-learn/scikit-learn/blob/master/sklearn/ensemble/__init__.py) da pacote ensemble.\n",
    "    * Dentro do \\_\\_init\\_\\_.py existe a seguinte linha:\n",
    "        * from .forest import RandomForestClassifier"
   ]
  },
  {
   "cell_type": "markdown",
   "metadata": {},
   "source": [
    "### Organizando o conteúdo dos módulos\n",
    "\n",
    "* Dentro de qualquer módulo é possível especificar variávies, classes ou funções;\n",
    "* Isso pode ser uma maneira esperta de guardar o estado global de objetos sem conflitos de namespace;\n",
    "    * Por exemplo, nós importamos e instanciamos a classe Database em vários módulos;\n",
    "    * Entretanto, faz mais sentido ter um objeto da classe *Database* global que seja acessível através do módulo *database*;\n",
    "    * O módulo *database* seria implementado assim:"
   ]
  },
  {
   "cell_type": "code",
   "execution_count": null,
   "metadata": {},
   "outputs": [],
   "source": [
    "class Database:\n",
    "    # the database implementation\n",
    "    pass\n",
    "\n",
    "db = Database() #objeto a ser compartilhado"
   ]
  },
  {
   "cell_type": "markdown",
   "metadata": {},
   "source": [
    "* Assim, podemos importar o objeto db da seguinte forma:"
   ]
  },
  {
   "cell_type": "code",
   "execution_count": null,
   "metadata": {},
   "outputs": [],
   "source": [
    "from ecommerce.database import db"
   ]
  },
  {
   "cell_type": "markdown",
   "metadata": {},
   "source": [
    "* O problema dessa abordagem é que o objeto database é criado imediatamente quando ele for importado a primeira vez, o que ocorre normalmente durante a inicialização da aplicação;\n",
    "    * Isso pode tornar o processo de inicialização da aplicação lento;\n",
    "* Uma alternativa para contornar esse problema é usar um método que cria o objeto *db* somente quando for necessário:"
   ]
  },
  {
   "cell_type": "code",
   "execution_count": null,
   "metadata": {},
   "outputs": [],
   "source": [
    "class Database:\n",
    "    # the database implementation\n",
    "    pass\n",
    "\n",
    "db = None\n",
    "\n",
    "def initialize_database():\n",
    "    global db\n",
    "    db = Database()"
   ]
  },
  {
   "cell_type": "markdown",
   "metadata": {},
   "source": [
    "* O palavra chave **global** explica ao python que a variável db da linha 7 é a mesma da linha 5 no script acima;\n",
    "    * Se não fizéssemos isso, a variável db teria um escopo local, isto é, ela seria destruída assim que a função *initialize_database* terminasse;\n",
    "* Entretanto, esse código ainda é perigoso, porque a função *initialize_database* poderia ser chamada mais de uma vez, reiniciando o estado do objeto db;\n",
    "* Para minimizar esse problema, colocamos nosso *startup code* em uma função (convencionalmente chamada de main) e só a executamos quando sabemos que estamos executando-a como script, mas não quando o código está sendo importado.\n",
    "    * Segue abaixo como faríamos isso:"
   ]
  },
  {
   "cell_type": "code",
   "execution_count": null,
   "metadata": {},
   "outputs": [],
   "source": [
    "class UsefulClass:\n",
    "    '''Essa classe pode ser útil para outros módulos.'''\n",
    "    pass\n",
    "\n",
    "def main():\n",
    "    '''cria uma classe útil e faz algo com ela para o nosso\n",
    "    módulo.'''\n",
    "\n",
    "useful = UsefulClass()\n",
    "print(useful)\n",
    "\n",
    "if __name__ == \"__main__\":\n",
    "    main()"
   ]
  },
  {
   "cell_type": "markdown",
   "metadata": {},
   "source": [
    "* A linha 12 do código acima também é útil quando queremos testar um código no próprio módulo;\n",
    "    * Isso porque todos módulos tem um \\_\\_name\\_\\_ especial que é especificado quando ele é importado.\n",
    "    * Quando o módulo é executado diretamente com *python module.py* e ele nunca foi importado, então \\_\\_name\\_\\_ assume a string \\_\\_main\\_\\_;"
   ]
  },
  {
   "cell_type": "markdown",
   "metadata": {},
   "source": [
    "### Classes internas\n",
    "\n",
    "* Classes podem ser definidas em qualquer lugar;\n",
    "    * Normalmente, elas são definidas a nível de módulo, mas elas podem ser definidas também dentro de funções e métodos.\n",
    "    * Veja abaixo um exemplo:"
   ]
  },
  {
   "cell_type": "code",
   "execution_count": 4,
   "metadata": {},
   "outputs": [
    {
     "name": "stdout",
     "output_type": "stream",
     "text": [
      " input: olá pessoal, o que vocês estão achando da disciplina?\n",
      "output: Olá Pessoal, O Que Vocês Estão Achando Da Disciplina?\n"
     ]
    }
   ],
   "source": [
    "def format_string(string, formatter=None):\n",
    "    '''Formata uma string usando um objeto foratter, que\n",
    "    deve possuir um método format() que recebe como parâ-\n",
    "    metro uma string.'''\n",
    "    \n",
    "    class DefaultFormatter:\n",
    "        '''Formata a string em title case (deixando a pri-\n",
    "        meira letra de cada palavra maiúscula).'''\n",
    "        def format(self, string):\n",
    "            return str(string).title()\n",
    "    if not formatter:\n",
    "        formatter = DefaultFormatter()\n",
    "    \n",
    "    return formatter.format(string)\n",
    "\n",
    "hello_string = \"olá pessoal, o que vocês estão achando da disciplina?\"\n",
    "print(\" input: \" + hello_string)\n",
    "print(\"output: \" + format_string(hello_string))"
   ]
  },
  {
   "cell_type": "markdown",
   "metadata": {},
   "source": [
    "* A função *format_string* recebe uma string e um objeto que formata essa string, o qual é opcional;\n",
    "    * Se um objeto formatador não for fornecido, então a classe DefaultFormatter é usada;"
   ]
  },
  {
   "cell_type": "markdown",
   "metadata": {},
   "source": [
    "## Quem pode acessar os dados\n",
    "\n",
    "* A maioria das linguagens orientadas a objetos possuem o conceito de controle de acesso;\n",
    "    * Nessas linguagens atributos e métodos podem ser privados, protegidos ou públicos;\n",
    "* No python não existe isso;\n",
    "    * Python não acredita em leis que te forçam a algo que pode ser prejudicial no futuro;\n",
    "    * O python fornece diretrizes (não obrigatórias) e boas práticas;\n",
    "    * Assim sendo, tecnicamente todos os atributos e métodos são públicos.\n",
    "        * Se você quiser que um método seja privado, devemos sugerir isso no docstring do método;\n",
    "        * Por convenção podemos ainda colocar um underscore na frente de um atributo ou método;\n",
    "            * Programadores python vão interpretar isso como um sinal de que aquele atributo/método é privado;\n",
    "        * Outra possibilidade é colocar um underscore duplo na frente do identificador do atributo ou método;\n",
    "            * Ao colocar underscore duplo, o python realiza name mangling;\n",
    "            * Veja um exempĺo:"
   ]
  },
  {
   "cell_type": "code",
   "execution_count": 19,
   "metadata": {},
   "outputs": [],
   "source": [
    "class SecretString:\n",
    "    '''Uma maneira nada segura de armazenar uma string\n",
    "    que contém um segredo.'''\n",
    "    def __init__(self, plain_string, pass_phrase):\n",
    "        self.__plain_string = plain_string\n",
    "        self.__pass_phrase = pass_phrase\n",
    "    def decrypt(self, pass_phrase):\n",
    "        '''Só mostra o segredo se o senha estiver certa.'''\n",
    "        if pass_phrase == self.__pass_phrase:\n",
    "            return self.__plain_string\n",
    "        else:\n",
    "            return ''"
   ]
  },
  {
   "cell_type": "code",
   "execution_count": 20,
   "metadata": {},
   "outputs": [],
   "source": [
    "secret_string = SecretString(\"ACME: Top Secret\", \"antwerp\")"
   ]
  },
  {
   "cell_type": "code",
   "execution_count": 22,
   "metadata": {},
   "outputs": [
    {
     "name": "stdout",
     "output_type": "stream",
     "text": [
      "ACME: Top Secret\n"
     ]
    }
   ],
   "source": [
    "print(secret_string.decrypt(\"antwerp\"))"
   ]
  },
  {
   "cell_type": "markdown",
   "metadata": {},
   "source": [
    "* Se tentarmos:"
   ]
  },
  {
   "cell_type": "code",
   "execution_count": 10,
   "metadata": {},
   "outputs": [
    {
     "ename": "AttributeError",
     "evalue": "'SecretString' object has no attribute '__plain_text'",
     "output_type": "error",
     "traceback": [
      "\u001b[0;31m---------------------------------------------------------------------------\u001b[0m",
      "\u001b[0;31mAttributeError\u001b[0m                            Traceback (most recent call last)",
      "\u001b[0;32m<ipython-input-10-376091f5ceea>\u001b[0m in \u001b[0;36m<module>\u001b[0;34m()\u001b[0m\n\u001b[0;32m----> 1\u001b[0;31m \u001b[0mprint\u001b[0m\u001b[0;34m(\u001b[0m\u001b[0msecret_string\u001b[0m\u001b[0;34m.\u001b[0m\u001b[0m__plain_text\u001b[0m\u001b[0;34m)\u001b[0m\u001b[0;34m\u001b[0m\u001b[0m\n\u001b[0m",
      "\u001b[0;31mAttributeError\u001b[0m: 'SecretString' object has no attribute '__plain_text'"
     ]
    }
   ],
   "source": [
    "print(secret_string.__plain_text)"
   ]
  },
  {
   "cell_type": "markdown",
   "metadata": {},
   "source": [
    "* Entretanto, podemos facialmente acessar a senha e o segredo:"
   ]
  },
  {
   "cell_type": "code",
   "execution_count": 23,
   "metadata": {},
   "outputs": [
    {
     "name": "stdout",
     "output_type": "stream",
     "text": [
      "antwerp\n",
      "ACME: Top Secret\n"
     ]
    }
   ],
   "source": [
    " print(secret_string._SecretString__pass_phrase)\n",
    "print(secret_string._SecretString__plain_string)"
   ]
  },
  {
   "cell_type": "markdown",
   "metadata": {},
   "source": [
    "* O name magling do python coloca o nome da classe como prefixo quando usamos o underscore duplo;\n",
    "* Em geral, programadores python não irão mexer em variáveis como underscore duplo ou mesmo simples;\n",
    "    * Salvo se eles tiverem uma boa razão para fazer isso;"
   ]
  },
  {
   "cell_type": "markdown",
   "metadata": {},
   "source": [
    "## Bibliotecas de Terceiros\n",
    "\n",
    "* O Python vem com uma adorável biblioteca padrão, que é uma coleção de pacotes e módulos que estão disponíveis em todas as máquinas que executam o Python.\n",
    "* Entretanto, às vezes precisamos de bibliotecas de terceiros;\n",
    "    * Para procurar bibliotecas de terceiros use o [Python Package Index (PyPi)]( http://pypi.python.org/)\n",
    "    * Uma vez que você identificou a biblioteca que você quer usar, basta usar o *pip* para instalá-la;"
   ]
  },
  {
   "cell_type": "markdown",
   "metadata": {},
   "source": [
    "## Estudo de Caso\n",
    "\n",
    "* Vamos agora tentar aplicar os conceitos aprendidos durante essa aula;\n",
    "* Desenvolveremos uma aplicação para gerenciar anotações;\n",
    "* Requisitos no nosso gerenciador de anotações:\n",
    "    * Em cada anotação devemos guardar a data que ela foi feita e tags para que elas sejam facilmente consultadas;\n",
    "    * Deve ser possível alterar notas;\n",
    "    * Deve ser possível buscar notas;\n",
    "    * Tudo isso deve ser feito via linhas de comando no terminal;"
   ]
  },
  {
   "cell_type": "markdown",
   "metadata": {},
   "source": [
    "* Necessitaremos de um objeto chamado *Note* e de um *Notebook* que será um conteiner de Notes;\n",
    "* Para armazenar as datas das notas iremos usar um biblioteca built-in do python;\n",
    "* Tags serão strings;\n",
    "* A classe Note terá os seguintes atributos:\n",
    "    * id (um identificador único);\n",
    "    * memo (a anotação gravada);\n",
    "    * tags;\n",
    "    * creation_data;\n",
    "* Para facilitar o processo de busca de uma anotação, iremos fornecer o método *match* que receberá uma string e verificará se a anotação corresponde a ela;"
   ]
  },
  {
   "cell_type": "markdown",
   "metadata": {},
   "source": [
    "* A classe Notebook terá uma lista de Notes como atributo;\n",
    "* Notebook terá os métodos:\n",
    "    * *search*: que retorna uma lista de anotações filtradas;\n",
    "    * *add*: para adicionar uma nova anotação;\n",
    "    * *modify_memo*: para modificar uma anotação através do *id* dela;\n",
    "    * *modify_tags*: para modificar tags através do *id*;\n",
    "* Além disso, é desejável que possamos fazer um menu (para que depois possamos fazer uma GUI) e uma opção da aplicação por linha de comando;"
   ]
  },
  {
   "cell_type": "markdown",
   "metadata": {},
   "source": [
    "* Vejamos como fica o diagrama de classes do nosso embrionário design orientada a objetos de ums sistema de gerenciamentos de notas:\n",
    "\n",
    "<img src=\"figures/notebook-class-diagram.png\"/>"
   ]
  },
  {
   "cell_type": "markdown",
   "metadata": {},
   "source": [
    "* Antes de começarmos a codificar, vamos projetar a estrutura de nosso projeto:\n",
    "    * O menu deve ter seu próprio módulo, uma vez que ele será um script executável;\n",
    "    * As classes Notebook e Note podem ficar juntas em um módulo chamado *notebook*;\n",
    "    * Criaremos ainda um módulo vazio chamado *command_option* para que possamos lembrar no futura de implementarmos essa opção;\n",
    "    \n",
    "<img src=\"figures/project-structure.png\"/>"
   ]
  },
  {
   "cell_type": "markdown",
   "metadata": {},
   "source": [
    "* Em termos de codificação, vamos começar criando a classe *Note* (dentro do arquivo notebook.py), uma vez que ela parece ser a mais simples;\n",
    "* O conteúdo será o seguinte (exclua a linha com o magic command '%% file nobebook.py'):"
   ]
  },
  {
   "cell_type": "code",
   "execution_count": 8,
   "metadata": {},
   "outputs": [
    {
     "name": "stdout",
     "output_type": "stream",
     "text": [
      "Writing notebook.py\n"
     ]
    }
   ],
   "source": [
    "%%writefile notebook.py\n",
    "import datetime\n",
    "\n",
    "# A variável seguinte é utilizada para guardar o prox. id disponível para uma nova anotação;\n",
    "last_id = 0\n",
    "\n",
    "class Note:\n",
    "    '''Representa uma nota em um notebook. Pode-se combiná-la com\n",
    "    uma string e armazenar tags para cada nota.'''\n",
    "    \n",
    "    def __init__(self, memo, tags=''):\n",
    "        '''inicializa uma nota com uma anotação (string) e uma\n",
    "        tag opcional. A data de criação e o id são automatica-\n",
    "        mente definidos para cada nota.'''\n",
    "        self.memo = memo\n",
    "        self.tags = tags\n",
    "        self.creation_data = datetime.date.today()\n",
    "        global last_id\n",
    "        last_id += 1\n",
    "        self.id = last_id\n",
    "        \n",
    "    def match(self, term):\n",
    "        '''Determina se essa nota corresponde com o string term\n",
    "        passada como parâmetro. É retornado True se houver cor-\n",
    "        respondência e falso, caso contrário.\n",
    "        \n",
    "        A busca é case sensitive e faz correspondência tanto no\n",
    "        texto quando nas tags\n",
    "        '''\n",
    "        return term in self.memo or term in self.tags"
   ]
  },
  {
   "cell_type": "markdown",
   "metadata": {},
   "source": [
    "* Antes de continuarmos nosso projeto, vamos testar nosso código;\n",
    "* Observe que é importante testarmos frequentemente nossos códigos porque as coisas podem (normalmente...rsrs) não funcionar conforme planejamos."
   ]
  },
  {
   "cell_type": "code",
   "execution_count": 1,
   "metadata": {},
   "outputs": [],
   "source": [
    "from notebook import Note"
   ]
  },
  {
   "cell_type": "code",
   "execution_count": 24,
   "metadata": {},
   "outputs": [],
   "source": [
    "from notebook import Note\n",
    "\n",
    "n1 = Note('Minha primeira anotação')\n",
    "n2 = Note('Uma nova anotação', tags='tag1')"
   ]
  },
  {
   "cell_type": "code",
   "execution_count": 25,
   "metadata": {},
   "outputs": [
    {
     "data": {
      "text/plain": [
       "1"
      ]
     },
     "execution_count": 25,
     "metadata": {},
     "output_type": "execute_result"
    }
   ],
   "source": [
    "n1.id"
   ]
  },
  {
   "cell_type": "code",
   "execution_count": 26,
   "metadata": {},
   "outputs": [
    {
     "data": {
      "text/plain": [
       "2"
      ]
     },
     "execution_count": 26,
     "metadata": {},
     "output_type": "execute_result"
    }
   ],
   "source": [
    "n2.id"
   ]
  },
  {
   "cell_type": "code",
   "execution_count": 27,
   "metadata": {},
   "outputs": [
    {
     "data": {
      "text/plain": [
       "True"
      ]
     },
     "execution_count": 27,
     "metadata": {},
     "output_type": "execute_result"
    }
   ],
   "source": [
    "n1.match('primeira')"
   ]
  },
  {
   "cell_type": "code",
   "execution_count": 29,
   "metadata": {},
   "outputs": [
    {
     "data": {
      "text/plain": [
       "True"
      ]
     },
     "execution_count": 29,
     "metadata": {},
     "output_type": "execute_result"
    }
   ],
   "source": [
    "n2.match('tag1')"
   ]
  },
  {
   "cell_type": "markdown",
   "metadata": {},
   "source": [
    "* Como podemos ver, tudo está funcionando conforme o esperado.\n",
    "* Agora vamos criar a classe Notebook dentro do módulo *notebook.py*:\n",
    "    * Obs.: Ao copiar e colar o código dentro do módulo *notebook.py*, não esqueça de remover a primeira linha com o conteúdo (%%writefile -a notebook.py)"
   ]
  },
  {
   "cell_type": "code",
   "execution_count": 9,
   "metadata": {},
   "outputs": [
    {
     "name": "stdout",
     "output_type": "stream",
     "text": [
      "Appending to notebook.py\n"
     ]
    }
   ],
   "source": [
    "%%writefile -a notebook.py\n",
    "\n",
    "\n",
    "class Notebook:\n",
    "    '''Representa uma coleção de notas que podem possuir,\n",
    "    tags associadas, modificadas e buscadas.'''\n",
    "    \n",
    "    def __init__(self):\n",
    "        '''Inicializa um notebook com uma lista vazia de anotações.'''\n",
    "        self.notes = []\n",
    "    \n",
    "    def new_note(self, memo, tags=''):\n",
    "        '''Cria uma nova nota e a adiciona a lista.'''\n",
    "        self.notes.append(Note(memo, tags))\n",
    "        \n",
    "    def modify_memo(self, note_id, memo):\n",
    "        '''Encontra a anotação pelo id e modifica o texto com o\n",
    "        novo memo passado como parâmetro.'''\n",
    "        for note in self.notes:\n",
    "            if note.id == note_id:\n",
    "                note.memo = memo\n",
    "                break\n",
    "                \n",
    "    def modify_tags(self, note_id, tags):\n",
    "        '''Encontra a anotação pelo id e modifica as tags com as\n",
    "        novas tags passadas como parâmetro.'''\n",
    "        for note in self.notes:\n",
    "            if node.id == note_id:\n",
    "                note.tags = tags\n",
    "                break\n",
    "                \n",
    "    def search(self, term):\n",
    "        '''Procura por todas as notas que possuem correspondência\n",
    "        com a string term passada como parâmetro.'''\n",
    "        return [note for note in self.notes if note.match(term)]"
   ]
  },
  {
   "cell_type": "markdown",
   "metadata": {},
   "source": [
    "* Antes de mais nada, vamos testar nossa classe Notebook:"
   ]
  },
  {
   "cell_type": "code",
   "execution_count": 2,
   "metadata": {},
   "outputs": [],
   "source": [
    "from notebook import Note, Notebook"
   ]
  },
  {
   "cell_type": "markdown",
   "metadata": {},
   "source": [
    "* Primeiramente, vamos criar um objeto da classe Notebook e adicionar duas notas:"
   ]
  },
  {
   "cell_type": "code",
   "execution_count": 4,
   "metadata": {},
   "outputs": [
    {
     "data": {
      "text/plain": [
       "[<notebook.Note at 0x7fad64e7f550>, <notebook.Note at 0x7fad64e7f128>]"
      ]
     },
     "execution_count": 4,
     "metadata": {},
     "output_type": "execute_result"
    }
   ],
   "source": [
    "n = Notebook()\n",
    "n.new_note('hello world')\n",
    "n.new_note('hello again')\n",
    "n.notes"
   ]
  },
  {
   "cell_type": "markdown",
   "metadata": {},
   "source": [
    "* Vejamos abaixo os ids e anotações nas duas notas:"
   ]
  },
  {
   "cell_type": "code",
   "execution_count": 5,
   "metadata": {},
   "outputs": [
    {
     "name": "stdout",
     "output_type": "stream",
     "text": [
      "1 hello world\n",
      "2 hello again\n"
     ]
    }
   ],
   "source": [
    "print(n.notes[0].id, n.notes[0].memo)\n",
    "print(n.notes[1].id, n.notes[1].memo)"
   ]
  },
  {
   "cell_type": "markdown",
   "metadata": {},
   "source": [
    "* Se pesquisarmos pelo termo \"hello\", serão recuparados duas notas, uma vez que ambas as notas possuem esse termo:"
   ]
  },
  {
   "cell_type": "code",
   "execution_count": 6,
   "metadata": {},
   "outputs": [
    {
     "data": {
      "text/plain": [
       "[<notebook.Note at 0x7fad64e7f550>, <notebook.Note at 0x7fad64e7f128>]"
      ]
     },
     "execution_count": 6,
     "metadata": {},
     "output_type": "execute_result"
    }
   ],
   "source": [
    "n.search('hello')"
   ]
  },
  {
   "cell_type": "markdown",
   "metadata": {},
   "source": [
    "* Por outro lado, se pesquisarmos por 'world', recuperaremos apenas um objeto Note;"
   ]
  },
  {
   "cell_type": "code",
   "execution_count": 7,
   "metadata": {},
   "outputs": [
    {
     "data": {
      "text/plain": [
       "[<notebook.Note at 0x7fad64e7f550>]"
      ]
     },
     "execution_count": 7,
     "metadata": {},
     "output_type": "execute_result"
    }
   ],
   "source": [
    "n.search('world')"
   ]
  },
  {
   "cell_type": "markdown",
   "metadata": {},
   "source": [
    "* Abaixo vamos modificar o objeto cujo id é 1:"
   ]
  },
  {
   "cell_type": "code",
   "execution_count": 8,
   "metadata": {},
   "outputs": [],
   "source": [
    "n.modify_memo(1, 'hi world')"
   ]
  },
  {
   "cell_type": "code",
   "execution_count": 9,
   "metadata": {},
   "outputs": [
    {
     "data": {
      "text/plain": [
       "'hi world'"
      ]
     },
     "execution_count": 9,
     "metadata": {},
     "output_type": "execute_result"
    }
   ],
   "source": [
    "n.notes[0].memo"
   ]
  },
  {
   "cell_type": "markdown",
   "metadata": {},
   "source": [
    "* Nossa classe Notebook está funcionando bem;\n",
    "* Entretanto, observem que o método modify_memo e modify_tags fazem praticamente a mesma coisa;\n",
    "    * Ter códigos repetidos assim não é uma boa prática;\n",
    "    * Para melhorar isso, vamos criar um novo método chamado **find_note**, que retornará um note dado um id;\n",
    "    * Os métodos modify_memo e modify_tags usarão esse método para realizar a busca do objeto Note e modificarão os campos correspondentes (memo e tags);\n",
    "    * Note que find_note deve ser um método de uso interno e, portanto, usaremos underscore duplo na frente de seu identificador.\n",
    "* A classe Notebook ficará conforme segue:"
   ]
  },
  {
   "cell_type": "code",
   "execution_count": null,
   "metadata": {},
   "outputs": [],
   "source": [
    "class Notebook:\n",
    "    '''Representa uma coleção de notas que podem possuir,\n",
    "    tags associadas, modificadas e buscadas.'''\n",
    "    \n",
    "    def __init__(self):\n",
    "        '''Inicializa um notebook com uma lista vazia de anotações.'''\n",
    "        self.notes = []\n",
    "    \n",
    "    def new_note(self, memo, tags=''):\n",
    "        '''Cria uma nova nota e a adiciona a lista.'''\n",
    "        self.notes.append(Note(memo, tags))\n",
    "        \n",
    "    def __find_note(self, note_id):\n",
    "        '''Encontra um Note dado um id. Caso não encontre,\n",
    "        retorna um objeto nulo (None)'''\n",
    "        for note in self.notes:\n",
    "            if note.id == note_id:\n",
    "                return note\n",
    "        return None\n",
    "        \n",
    "    def modify_memo(self, note_id, memo):\n",
    "        '''Encontra a anotação pelo id e modifica o texto com o\n",
    "        novo memo passado como parâmetro.'''\n",
    "        note = self.__find_note(note_id)\n",
    "        if note != None:\n",
    "            note.memo = memo\n",
    "                \n",
    "    def modify_tags(self, note_id, tags):\n",
    "        '''Encontra a anotação pelo id e modifica as tags com as\n",
    "        novas tags passadas como parâmetro.'''\n",
    "        note = self.__find_note(note_id)\n",
    "        if note != None:\n",
    "            note.tags = tags\n",
    "                \n",
    "    def search(self, term):\n",
    "        '''Procura por todas as notas que possuem correspondência\n",
    "        com a string term passada como parâmetro.'''\n",
    "        return [note for note in self.notes if note.match(term)]"
   ]
  },
  {
   "cell_type": "markdown",
   "metadata": {},
   "source": [
    "* Agora vamos criar o módulo *menu.py*:"
   ]
  },
  {
   "cell_type": "code",
   "execution_count": 14,
   "metadata": {},
   "outputs": [
    {
     "name": "stdout",
     "output_type": "stream",
     "text": [
      "\n",
      "        Notebook Menu\n",
      "    \n",
      "        1. Mostrar todas as Notas\n",
      "        2. Buscar Notas\n",
      "        3. Adicionar Nota\n",
      "        4. Modificar Nota\n",
      "        5. Sair\n",
      "        \n",
      "Escolha uma opção: 3\n",
      "Entre com a anotação: Aula de POO - Objetos interagem através de trocas de mensagens. Objetos são instâncias de classes.\n",
      "Sua anotação foi adicionada.\n",
      "\n",
      "        Notebook Menu\n",
      "    \n",
      "        1. Mostrar todas as Notas\n",
      "        2. Buscar Notas\n",
      "        3. Adicionar Nota\n",
      "        4. Modificar Nota\n",
      "        5. Sair\n",
      "        \n",
      "Escolha uma opção: 3\n",
      "Entre com a anotação: Objetos possuem um estado que é definido com base nos dados dos atributos.\n",
      "Sua anotação foi adicionada.\n",
      "\n",
      "        Notebook Menu\n",
      "    \n",
      "        1. Mostrar todas as Notas\n",
      "        2. Buscar Notas\n",
      "        3. Adicionar Nota\n",
      "        4. Modificar Nota\n",
      "        5. Sair\n",
      "        \n",
      "Escolha uma opção: 1\n",
      "6: \n",
      "Aula de POO - Objetos interagem através de trocas de mensagens. Objetos são instâncias de classes.\n",
      "7: \n",
      "Objetos possuem um estado que é definido com base nos dados dos atributos.\n",
      "\n",
      "        Notebook Menu\n",
      "    \n",
      "        1. Mostrar todas as Notas\n",
      "        2. Buscar Notas\n",
      "        3. Adicionar Nota\n",
      "        4. Modificar Nota\n",
      "        5. Sair\n",
      "        \n",
      "Escolha uma opção: 2\n",
      "Buscar por: 1\n",
      "6: \n",
      "Aula de POO - Objetos interagem através de trocas de mensagens. Objetos são instâncias de classes.\n",
      "7: \n",
      "Objetos possuem um estado que é definido com base nos dados dos atributos.\n",
      "\n",
      "        Notebook Menu\n",
      "    \n",
      "        1. Mostrar todas as Notas\n",
      "        2. Buscar Notas\n",
      "        3. Adicionar Nota\n",
      "        4. Modificar Nota\n",
      "        5. Sair\n",
      "        \n",
      "Escolha uma opção: 5\n",
      "Obrigado por usar nosso sitema!\n"
     ]
    },
    {
     "ename": "SystemExit",
     "evalue": "0",
     "output_type": "error",
     "traceback": [
      "An exception has occurred, use %tb to see the full traceback.\n",
      "\u001b[0;31mSystemExit\u001b[0m\u001b[0;31m:\u001b[0m 0\n"
     ]
    },
    {
     "name": "stderr",
     "output_type": "stream",
     "text": [
      "/home/dwan/anaconda3/lib/python3.6/site-packages/IPython/core/interactiveshell.py:3334: UserWarning: To exit: use 'exit', 'quit', or Ctrl-D.\n",
      "  warn(\"To exit: use 'exit', 'quit', or Ctrl-D.\", stacklevel=1)\n"
     ]
    }
   ],
   "source": [
    "import sys\n",
    "\n",
    "from notebook import Notebook, Note\n",
    "\n",
    "class Menu:\n",
    "    '''Mostra um menu e aciona as ações apropriadas com base\n",
    "    nas opções escolhidas.'''\n",
    "    def __init__(self):\n",
    "        self.notebook = Notebook()\n",
    "        self.choices = {\n",
    "            \"1\": self.show_notes,\n",
    "            \"2\": self.search_notes,\n",
    "            \"3\": self.add_note,\n",
    "            \"4\": self.modify_note,\n",
    "            \"5\": self.quit\n",
    "        }\n",
    "    def display_menu(self):\n",
    "        print(\"\"\"\n",
    "        Notebook Menu\n",
    "    \n",
    "        1. Mostrar todas as Notas\n",
    "        2. Buscar Notas\n",
    "        3. Adicionar Nota\n",
    "        4. Modificar Nota\n",
    "        5. Sair\n",
    "        \"\"\")\n",
    "    def run(self):\n",
    "        '''Mostra o menu e aciona a opção escolhida.'''\n",
    "        while True:\n",
    "            self.display_menu()\n",
    "            choice = input(\"Escolha uma opção: \")\n",
    "            action = self.choices.get(choice)\n",
    "            if action:\n",
    "                action()\n",
    "            else:\n",
    "                print(\"{0} não é uma opção válida\".format(choice))\n",
    "\n",
    "    def show_notes(self, notes=None):\n",
    "        if not notes:\n",
    "            notes = self.notebook.notes\n",
    "        for note in notes:\n",
    "            print(\"{0}: {1}\\n{2}\".format(note.id, note.tags, note.memo))\n",
    "    \n",
    "    def search_notes(self):\n",
    "        term = input(\"Buscar por: \")\n",
    "        notes = self.notebook.search(term)\n",
    "        self.show_notes(notes)\n",
    "        \n",
    "    def add_note(self):\n",
    "        memo = input(\"Entre com a anotação: \")\n",
    "        self.notebook.new_note(memo)\n",
    "        print(\"Sua anotação foi adicionada.\")\n",
    "        \n",
    "    def modify_note(self):\n",
    "        id = input(\"Entre com o id da anotação: \")\n",
    "        memo = input(\"Entre com a anotação: \")\n",
    "        tags = input(\"Entre com as tags: \")\n",
    "        if memo:\n",
    "            self.notebook.modify_memo(int(id), memo)\n",
    "        if tags:\n",
    "            self.notebook.modify_tags(int(id), tags)\n",
    "            \n",
    "    def quit(self):\n",
    "        print(\"Obrigado por usar nosso sitema!\")\n",
    "        sys.exit(0)\n",
    "        \n",
    "if __name__ == \"__main__\":\n",
    "    Menu().run()"
   ]
  },
  {
   "cell_type": "markdown",
   "metadata": {},
   "source": [
    "* No menu acima, criamos um dicionário onde as chaves são as opções e os valores são os métodos correspondentes às opções.\n",
    "* Outra coisa que vale ressaltar é que quando recebemos valores da função input(), recebemos como string;\n",
    "    * Como o id é um int, então ele foi passado como parâmetro como int para o método modificador."
   ]
  },
  {
   "cell_type": "markdown",
   "metadata": {},
   "source": [
    "## Exercício Avaliativo\n",
    "\n",
    "* Faça o download da apostila da caelum **py14**. Para realizar o download gratuito basta fornecer o seu e-mail.\n",
    "* Com a apostila em mãoes, faça os execícios da seção 7.13. Envie as soluções pelo SIGAA. As soluções podem ser enviadas através de um arquivo compactado ou arquivo com o link do github com seu código;"
   ]
  }
 ],
 "metadata": {
  "kernelspec": {
   "display_name": "Python 3",
   "language": "python",
   "name": "python3"
  },
  "language_info": {
   "codemirror_mode": {
    "name": "ipython",
    "version": 3
   },
   "file_extension": ".py",
   "mimetype": "text/x-python",
   "name": "python",
   "nbconvert_exporter": "python",
   "pygments_lexer": "ipython3",
   "version": "3.6.9"
  }
 },
 "nbformat": 4,
 "nbformat_minor": 2
}
