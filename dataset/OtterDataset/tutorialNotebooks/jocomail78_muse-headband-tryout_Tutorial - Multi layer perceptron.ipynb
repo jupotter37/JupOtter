{
 "cells": [
  {
   "cell_type": "code",
   "execution_count": 1,
   "metadata": {},
   "outputs": [
    {
     "name": "stderr",
     "output_type": "stream",
     "text": [
      "Using TensorFlow backend.\n"
     ]
    }
   ],
   "source": [
    "from keras.datasets import mnist\n",
    "from keras.models import Sequential\n",
    "from keras.layers import Dense, Flatten, Dropout\n",
    "from keras.utils import np_utils\n",
    "\n",
    "import wandb\n",
    "from wandb.keras import WandbCallback\n",
    "\n",
    "import numpy as np"
   ]
  },
  {
   "cell_type": "code",
   "execution_count": 2,
   "metadata": {},
   "outputs": [],
   "source": [
    "# load data\n",
    "(X_train, y_train), (X_test, y_test) = mnist.load_data()\n",
    "\n",
    "img_width = X_train.shape[1]\n",
    "img_height = X_train.shape[2]"
   ]
  },
  {
   "cell_type": "code",
   "execution_count": 4,
   "metadata": {
    "scrolled": true
   },
   "outputs": [
    {
     "name": "stdout",
     "output_type": "stream",
     "text": [
      "(60000,)\n",
      "(10000,)\n"
     ]
    }
   ],
   "source": [
    "print(np.shape(y_train))\n",
    "print(np.shape(y_test))"
   ]
  },
  {
   "cell_type": "code",
   "execution_count": 6,
   "metadata": {},
   "outputs": [
    {
     "name": "stdout",
     "output_type": "stream",
     "text": [
      "(60000, 10)\n",
      "(10000, 10)\n"
     ]
    }
   ],
   "source": [
    "# one hot encode outputs\n",
    "y_train = np_utils.to_categorical(y_train)\n",
    "y_test = np_utils.to_categorical(y_test)\n",
    "labels = [\"Zero\", \"One\", \"Two\", \"Three\", \"Four\", \"Five\", \"Six\", \"Seven\", \"Eight\", \"Nine\"]\n",
    "\n",
    "num_classes = y_train.shape[1]\n",
    "\n",
    "print(np.shape(y_train))\n",
    "print(np.shape(y_test))"
   ]
  },
  {
   "cell_type": "code",
   "execution_count": 17,
   "metadata": {},
   "outputs": [
    {
     "data": {
      "text/html": [
       "\n",
       "                Logging results to <a href=\"https://wandb.com\" target=\"_blank\">Weights & Biases</a>.<br/>\n",
       "                Project page: <a href=\"https://app.wandb.ai/peter_jozsef/w-b-tutorials\" target=\"_blank\">https://app.wandb.ai/peter_jozsef/w-b-tutorials</a><br/>\n",
       "                Run page: <a href=\"https://app.wandb.ai/peter_jozsef/w-b-tutorials/runs/cfdeszzq\" target=\"_blank\">https://app.wandb.ai/peter_jozsef/w-b-tutorials/runs/cfdeszzq</a><br/>\n",
       "                Docs: <a href=\"https://docs.wandb.com/integrations/jupyter.html\" target=\"_blank\">https://docs.wandb.com/integrations/jupyter.html</a><br/>\n",
       "            "
      ],
      "text/plain": [
       "<IPython.core.display.HTML object>"
      ]
     },
     "metadata": {},
     "output_type": "display_data"
    }
   ],
   "source": [
    "run = wandb.init(project=\"w-b-tutorials\")\n",
    "config = run.config\n",
    "config.epochs = 10"
   ]
  },
  {
   "cell_type": "code",
   "execution_count": 18,
   "metadata": {},
   "outputs": [],
   "source": [
    "# create model\n",
    "model=Sequential()\n",
    "model.add(Flatten(input_shape=(img_width,img_height)))\n",
    "model.add(Dense(num_classes, activation='sigmoid'))\n",
    "model.compile(loss='mse', optimizer='adam',\n",
    "                metrics=['accuracy'])"
   ]
  },
  {
   "cell_type": "code",
   "execution_count": 19,
   "metadata": {},
   "outputs": [
    {
     "name": "stdout",
     "output_type": "stream",
     "text": [
      "Train on 60000 samples, validate on 10000 samples\n",
      "Epoch 1/10\n",
      " 6048/60000 [==>...........................] - ETA: 9s - loss: 0.1689 - accuracy: 0.1508 "
     ]
    },
    {
     "name": "stderr",
     "output_type": "stream",
     "text": [
      "C:\\Users\\jocom\\Anaconda3\\lib\\site-packages\\keras\\callbacks\\callbacks.py:95: RuntimeWarning: Method (on_train_batch_end) is slow compared to the batch update (0.897112). Check your callbacks.\n",
      "  % (hook_name, delta_t_median), RuntimeWarning)\n",
      "C:\\Users\\jocom\\Anaconda3\\lib\\site-packages\\keras\\callbacks\\callbacks.py:95: RuntimeWarning: Method (on_train_batch_end) is slow compared to the batch update (0.448556). Check your callbacks.\n",
      "  % (hook_name, delta_t_median), RuntimeWarning)\n"
     ]
    },
    {
     "name": "stdout",
     "output_type": "stream",
     "text": [
      "60000/60000 [==============================] - 3s 43us/step - loss: 0.1465 - accuracy: 0.2658 - val_loss: 0.1401 - val_accuracy: 0.2979\n",
      "Epoch 2/10\n",
      "60000/60000 [==============================] - 2s 28us/step - loss: 0.1246 - accuracy: 0.3761 - val_loss: 0.1216 - val_accuracy: 0.3909\n",
      "Epoch 3/10\n",
      "60000/60000 [==============================] - 2s 27us/step - loss: 0.1198 - accuracy: 0.4000 - val_loss: 0.1194 - val_accuracy: 0.4024\n",
      "Epoch 4/10\n",
      "60000/60000 [==============================] - 2s 26us/step - loss: 0.1177 - accuracy: 0.4105 - val_loss: 0.1132 - val_accuracy: 0.4332\n",
      "Epoch 5/10\n",
      "60000/60000 [==============================] - 2s 27us/step - loss: 0.1164 - accuracy: 0.4171 - val_loss: 0.1149 - val_accuracy: 0.4246\n",
      "Epoch 6/10\n",
      "60000/60000 [==============================] - 2s 27us/step - loss: 0.1165 - accuracy: 0.4171 - val_loss: 0.1119 - val_accuracy: 0.4400\n",
      "Epoch 7/10\n",
      "60000/60000 [==============================] - 2s 28us/step - loss: 0.1138 - accuracy: 0.4302 - val_loss: 0.1140 - val_accuracy: 0.4293\n",
      "Epoch 8/10\n",
      "60000/60000 [==============================] - 2s 25us/step - loss: 0.1149 - accuracy: 0.4248 - val_loss: 0.1121 - val_accuracy: 0.4390\n",
      "Epoch 9/10\n",
      "60000/60000 [==============================] - 2s 25us/step - loss: 0.1134 - accuracy: 0.4326 - val_loss: 0.1158 - val_accuracy: 0.4204\n",
      "Epoch 10/10\n",
      "60000/60000 [==============================] - 2s 25us/step - loss: 0.1147 - accuracy: 0.4260 - val_loss: 0.1173 - val_accuracy: 0.4130\n"
     ]
    },
    {
     "data": {
      "text/plain": [
       "<keras.callbacks.callbacks.History at 0x231e3f10d08>"
      ]
     },
     "execution_count": 19,
     "metadata": {},
     "output_type": "execute_result"
    }
   ],
   "source": [
    "# Fit the model\n",
    "model.fit(X_train, y_train, epochs=10, validation_data=(X_test, y_test),\n",
    "                    callbacks=[WandbCallback(labels=labels, data_type=\"image\")])"
   ]
  },
  {
   "cell_type": "code",
   "execution_count": null,
   "metadata": {},
   "outputs": [],
   "source": []
  }
 ],
 "metadata": {
  "kernelspec": {
   "display_name": "Python 3",
   "language": "python",
   "name": "python3"
  },
  "language_info": {
   "codemirror_mode": {
    "name": "ipython",
    "version": 3
   },
   "file_extension": ".py",
   "mimetype": "text/x-python",
   "name": "python",
   "nbconvert_exporter": "python",
   "pygments_lexer": "ipython3",
   "version": "3.7.4"
  }
 },
 "nbformat": 4,
 "nbformat_minor": 2
}
