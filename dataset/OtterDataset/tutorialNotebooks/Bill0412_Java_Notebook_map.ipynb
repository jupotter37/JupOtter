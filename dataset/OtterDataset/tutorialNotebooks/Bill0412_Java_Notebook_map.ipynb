{
 "cells": [
  {
   "cell_type": "markdown",
   "metadata": {},
   "source": [
    "# Map"
   ]
  },
  {
   "cell_type": "markdown",
   "metadata": {},
   "source": [
    "## HashMap"
   ]
  },
  {
   "cell_type": "markdown",
   "metadata": {},
   "source": [
    "### Inline Initialization"
   ]
  },
  {
   "cell_type": "markdown",
   "metadata": {},
   "source": [
    "Map is an [Interface](https://docs.oracle.com/javase/tutorial/java/IandI/createinterface.html) that HashMap implements. It's more like an ISO standard, while HashMap is the real implementation, which may differ among companies."
   ]
  },
  {
   "cell_type": "code",
   "execution_count": 2,
   "metadata": {},
   "outputs": [
    {
     "data": {
      "text/plain": [
       "{1=I, 100=C, 5=V, 1000=M, 50=L, 10=X, 500=D}"
      ]
     },
     "execution_count": 2,
     "metadata": {},
     "output_type": "execute_result"
    }
   ],
   "source": [
    "Map<Integer, String> inlineMap = Map.of(1, \"I\", 5, \"V\", 10, \"X\", 50, \"L\", 100, \"C\", 500, \"D\", 1000, \"M\");\n",
    "inlineMap;"
   ]
  },
  {
   "cell_type": "markdown",
   "metadata": {},
   "source": [
    "It has a length limit of 10"
   ]
  },
  {
   "cell_type": "code",
   "execution_count": 13,
   "metadata": {},
   "outputs": [
    {
     "ename": "CompilationException",
     "evalue": "",
     "output_type": "error",
     "traceback": [
      "\u001b[1m\u001b[30m|   \u001b[1m\u001b[30mMap<Integer, String> map = \u001b[0m\u001b[1m\u001b[30m\u001b[41mMap.of\u001b[0m\u001b[1m\u001b[30m(1, \"I\", 5, \"V\", 10, \"X\", 50, \"L\", 100, \"C\", 500, \"D\", 1000, \"M\", 4, \"IV\", 9, \"IX\", 40, \"XL\", 90, \"XC\");\u001b[0m",
      "\u001b[1m\u001b[31mno suitable method found for of(int,java.lang.String,int,java.lang.String,int,java.lang.String,int,java.lang.String,int,java.lang.String,int,java.lang.String,int,java.lang.String,int,java.lang.String,int,java.lang.String,int,java.lang.String,int,java.lang.String)\u001b[0m",
      "\u001b[1m\u001b[31m    method java.util.Map.<K,V>of() is not applicable\u001b[0m",
      "\u001b[1m\u001b[31m      (cannot infer type-variable(s) K,V\u001b[0m",
      "\u001b[1m\u001b[31m        (actual and formal argument lists differ in length))\u001b[0m",
      "\u001b[1m\u001b[31m    method java.util.Map.<K,V>of(K,V) is not applicable\u001b[0m",
      "\u001b[1m\u001b[31m      (cannot infer type-variable(s) K,V\u001b[0m",
      "\u001b[1m\u001b[31m        (actual and formal argument lists differ in length))\u001b[0m",
      "\u001b[1m\u001b[31m    method java.util.Map.<K,V>of(K,V,K,V) is not applicable\u001b[0m",
      "\u001b[1m\u001b[31m      (cannot infer type-variable(s) K,V\u001b[0m",
      "\u001b[1m\u001b[31m        (actual and formal argument lists differ in length))\u001b[0m",
      "\u001b[1m\u001b[31m    method java.util.Map.<K,V>of(K,V,K,V,K,V) is not applicable\u001b[0m",
      "\u001b[1m\u001b[31m      (cannot infer type-variable(s) K,V\u001b[0m",
      "\u001b[1m\u001b[31m        (actual and formal argument lists differ in length))\u001b[0m",
      "\u001b[1m\u001b[31m    method java.util.Map.<K,V>of(K,V,K,V,K,V,K,V) is not applicable\u001b[0m",
      "\u001b[1m\u001b[31m      (cannot infer type-variable(s) K,V\u001b[0m",
      "\u001b[1m\u001b[31m        (actual and formal argument lists differ in length))\u001b[0m",
      "\u001b[1m\u001b[31m    method java.util.Map.<K,V>of(K,V,K,V,K,V,K,V,K,V) is not applicable\u001b[0m",
      "\u001b[1m\u001b[31m      (cannot infer type-variable(s) K,V\u001b[0m",
      "\u001b[1m\u001b[31m        (actual and formal argument lists differ in length))\u001b[0m",
      "\u001b[1m\u001b[31m    method java.util.Map.<K,V>of(K,V,K,V,K,V,K,V,K,V,K,V) is not applicable\u001b[0m",
      "\u001b[1m\u001b[31m      (cannot infer type-variable(s) K,V\u001b[0m",
      "\u001b[1m\u001b[31m        (actual and formal argument lists differ in length))\u001b[0m",
      "\u001b[1m\u001b[31m    method java.util.Map.<K,V>of(K,V,K,V,K,V,K,V,K,V,K,V,K,V) is not applicable\u001b[0m",
      "\u001b[1m\u001b[31m      (cannot infer type-variable(s) K,V\u001b[0m",
      "\u001b[1m\u001b[31m        (actual and formal argument lists differ in length))\u001b[0m",
      "\u001b[1m\u001b[31m    method java.util.Map.<K,V>of(K,V,K,V,K,V,K,V,K,V,K,V,K,V,K,V) is not applicable\u001b[0m",
      "\u001b[1m\u001b[31m      (cannot infer type-variable(s) K,V\u001b[0m",
      "\u001b[1m\u001b[31m        (actual and formal argument lists differ in length))\u001b[0m",
      "\u001b[1m\u001b[31m    method java.util.Map.<K,V>of(K,V,K,V,K,V,K,V,K,V,K,V,K,V,K,V,K,V) is not applicable\u001b[0m",
      "\u001b[1m\u001b[31m      (cannot infer type-variable(s) K,V\u001b[0m",
      "\u001b[1m\u001b[31m        (actual and formal argument lists differ in length))\u001b[0m",
      "\u001b[1m\u001b[31m    method java.util.Map.<K,V>of(K,V,K,V,K,V,K,V,K,V,K,V,K,V,K,V,K,V,K,V) is not applicable\u001b[0m",
      "\u001b[1m\u001b[31m      (cannot infer type-variable(s) K,V\u001b[0m",
      "\u001b[1m\u001b[31m        (actual and formal argument lists differ in length))\u001b[0m",
      ""
     ]
    }
   ],
   "source": [
    "Map<Integer, String> map = Map.of(1, \"I\", 5, \"V\", 10, \"X\", 50, \"L\", 100, \"C\", 500, \"D\", 1000, \"M\", 4, \"IV\", 9, \"IX\", 40, \"XL\", 90, \"XC\");"
   ]
  },
  {
   "cell_type": "markdown",
   "metadata": {},
   "source": [
    "And it's immutable"
   ]
  },
  {
   "cell_type": "code",
   "execution_count": 14,
   "metadata": {},
   "outputs": [
    {
     "ename": "EvalException",
     "evalue": "null",
     "output_type": "error",
     "traceback": [
      "\u001b[1m\u001b[31m---------------------------------------------------------------------------\u001b[0m",
      "\u001b[1m\u001b[31mjava.lang.UnsupportedOperationException: null\u001b[0m",
      "\u001b[1m\u001b[31m\tat java.base/java.util.ImmutableCollections.uoe(ImmutableCollections.java:72)\u001b[0m",
      "\u001b[1m\u001b[31m\tat java.base/java.util.ImmutableCollections$AbstractImmutableMap.put(ImmutableCollections.java:731)\u001b[0m",
      "\u001b[1m\u001b[31m\tat .(#24:1)\u001b[0m"
     ]
    }
   ],
   "source": [
    "Map<Integer, String> map = Map.of(1, \"I\", 5, \"V\", 10, \"X\", 4, \"IV\", 9, \"IX\", 40, \"XL\", 90, \"XC\");\n",
    "map.put(400, \"CM\");"
   ]
  },
  {
   "cell_type": "markdown",
   "metadata": {},
   "source": [
    "Map is immutable while HashMap i Mutable. So if the number of elements is more than 10, it should be inserted as the following:"
   ]
  },
  {
   "cell_type": "code",
   "execution_count": 15,
   "metadata": {},
   "outputs": [],
   "source": [
    "HashMap<Integer, String> map = new HashMap();\n",
    "map.put(1, \"I\");\n",
    "map.put(5, \"V\");\n",
    "map.put(10, \"X\");\n",
    "map.put(50, \"L\");\n",
    "map.put(100, \"C\");\n",
    "map.put(500, \"D\");\n",
    "map.put(1000, \"M\");\n",
    "map.put(4, \"IV\");\n",
    "map.put(9, \"IX\");\n",
    "map.put(40, \"XL\");\n",
    "map.put(90, \"XC\");\n",
    "map.put(400, \"CD\");\n",
    "map.put(900, \"CM\");"
   ]
  },
  {
   "cell_type": "markdown",
   "metadata": {},
   "source": [
    "Or as an entry list in the constructor."
   ]
  },
  {
   "cell_type": "markdown",
   "metadata": {},
   "source": [
    "### Add Items"
   ]
  },
  {
   "cell_type": "code",
   "execution_count": 10,
   "metadata": {},
   "outputs": [
    {
     "name": "stdout",
     "output_type": "stream",
     "text": [
      "{1=I, 50=L, 100=C, 500=D, 5=V, 1000=M, 10=X}\n"
     ]
    }
   ],
   "source": [
    "HashMap<Integer, String> map = new HashMap<Integer, String>();\n",
    "map.put(1, \"I\");\n",
    "map.put(5, \"V\");\n",
    "map.put(10, \"X\");\n",
    "map.put(50, \"L\");\n",
    "map.put(100, \"C\");\n",
    "map.put(500, \"D\");\n",
    "map.put(1000, \"M\");\n",
    "System.out.println(map);"
   ]
  },
  {
   "cell_type": "markdown",
   "metadata": {},
   "source": [
    "### Access an Item"
   ]
  },
  {
   "cell_type": "code",
   "execution_count": 3,
   "metadata": {},
   "outputs": [
    {
     "data": {
      "text/plain": [
       "D"
      ]
     },
     "execution_count": 3,
     "metadata": {},
     "output_type": "execute_result"
    }
   ],
   "source": [
    "map.get(500);"
   ]
  },
  {
   "cell_type": "markdown",
   "metadata": {},
   "source": [
    "### Remove an Item"
   ]
  },
  {
   "cell_type": "code",
   "execution_count": 4,
   "metadata": {},
   "outputs": [
    {
     "name": "stdout",
     "output_type": "stream",
     "text": [
      "{1=I, 50=L, 100=C, 500=D, 1000=M, 10=X}\n"
     ]
    }
   ],
   "source": [
    "map.remove(5);\n",
    "System.out.println(map);"
   ]
  },
  {
   "cell_type": "markdown",
   "metadata": {},
   "source": [
    "To remove all the items"
   ]
  },
  {
   "cell_type": "code",
   "execution_count": 5,
   "metadata": {},
   "outputs": [
    {
     "data": {
      "text/plain": [
       "{}"
      ]
     },
     "execution_count": 5,
     "metadata": {},
     "output_type": "execute_result"
    }
   ],
   "source": [
    "map.clear();\n",
    "map;"
   ]
  },
  {
   "cell_type": "markdown",
   "metadata": {},
   "source": [
    "### Traversal"
   ]
  },
  {
   "cell_type": "code",
   "execution_count": 6,
   "metadata": {},
   "outputs": [
    {
     "data": {
      "text/plain": [
       "{1=I, 50=L, 100=C, 500=D, 5=V, 1000=M, 10=X}"
      ]
     },
     "execution_count": 6,
     "metadata": {},
     "output_type": "execute_result"
    }
   ],
   "source": [
    "map.put(1, \"I\");\n",
    "map.put(5, \"V\");\n",
    "map.put(10, \"X\");\n",
    "map.put(50, \"L\");\n",
    "map.put(100, \"C\");\n",
    "map.put(500, \"D\");\n",
    "map.put(1000, \"M\");\n",
    "map;"
   ]
  },
  {
   "cell_type": "code",
   "execution_count": 7,
   "metadata": {},
   "outputs": [
    {
     "name": "stdout",
     "output_type": "stream",
     "text": [
      "I\n",
      "L\n",
      "C\n",
      "D\n",
      "V\n",
      "M\n",
      "X\n"
     ]
    }
   ],
   "source": [
    "for(Integer i: map.keySet()) {\n",
    "    System.out.println(map.get(i));\n",
    "}"
   ]
  },
  {
   "cell_type": "code",
   "execution_count": 22,
   "metadata": {},
   "outputs": [
    {
     "name": "stdout",
     "output_type": "stream",
     "text": [
      "1\tI\n",
      "50\tL\n",
      "100\tC\n",
      "500\tD\n",
      "5\tV\n",
      "1000\tM\n",
      "10\tX\n"
     ]
    }
   ],
   "source": [
    "for(Integer i: map.keySet()) {\n",
    "    System.out.print(i);\n",
    "    System.out.print(\"\\t\");\n",
    "    System.out.println(map.get(i));\n",
    "}"
   ]
  },
  {
   "cell_type": "markdown",
   "metadata": {},
   "source": [
    "### Get Sorted Keys"
   ]
  },
  {
   "cell_type": "code",
   "execution_count": 17,
   "metadata": {},
   "outputs": [
    {
     "data": {
      "text/plain": [
       "[1, 50, 100, 500, 5, 1000, 10]"
      ]
     },
     "execution_count": 17,
     "metadata": {},
     "output_type": "execute_result"
    }
   ],
   "source": [
    "Set keys = map.keySet();\n",
    "keys;"
   ]
  },
  {
   "cell_type": "markdown",
   "metadata": {},
   "source": [
    "As we can see, the keySet of a map is a `Set`(Interface for `HashSet`) and is out of order. To get a sorted key set, we need to traverse all the keys and insert them into a `TreeSet`."
   ]
  },
  {
   "cell_type": "code",
   "execution_count": 24,
   "metadata": {},
   "outputs": [
    {
     "data": {
      "text/plain": [
       "[1, 5, 10, 50, 100, 500, 1000]"
      ]
     },
     "execution_count": 24,
     "metadata": {},
     "output_type": "execute_result"
    }
   ],
   "source": [
    "TreeSet sortedKeys = new TreeSet();\n",
    "sortedKeys.addAll(keys);\n",
    "sortedKeys;"
   ]
  },
  {
   "cell_type": "code",
   "execution_count": 28,
   "metadata": {},
   "outputs": [
    {
     "name": "stdout",
     "output_type": "stream",
     "text": [
      "1\tI\n",
      "5\tV\n",
      "10\tX\n",
      "50\tL\n",
      "100\tC\n",
      "500\tD\n",
      "1000\tM\n"
     ]
    }
   ],
   "source": [
    "for(Object i: sortedKeys) {\n",
    "    int key = (int)i;\n",
    "    System.out.print(i);\n",
    "    System.out.print(\"\\t\");\n",
    "    System.out.println(map.get(i));\n",
    "}"
   ]
  },
  {
   "cell_type": "markdown",
   "metadata": {},
   "source": [
    "### Size"
   ]
  },
  {
   "cell_type": "code",
   "execution_count": 9,
   "metadata": {},
   "outputs": [
    {
     "data": {
      "text/plain": [
       "7"
      ]
     },
     "execution_count": 9,
     "metadata": {},
     "output_type": "execute_result"
    }
   ],
   "source": [
    "map.size();"
   ]
  },
  {
   "cell_type": "markdown",
   "metadata": {},
   "source": [
    "## References\n",
    "- Java HashMap: <https://www.w3schools.com/java/java_hashmap.asp>\n",
    "- Java Interface: <https://docs.oracle.com/javase/tutorial/java/IandI/createinterface.html>"
   ]
  }
 ],
 "metadata": {
  "kernelspec": {
   "display_name": "Java",
   "language": "java",
   "name": "java"
  },
  "language_info": {
   "codemirror_mode": "java",
   "file_extension": ".jshell",
   "mimetype": "text/x-java-source",
   "name": "Java",
   "pygments_lexer": "java",
   "version": "11.0.6+10-post-Ubuntu-1ubuntu118.04.1"
  }
 },
 "nbformat": 4,
 "nbformat_minor": 4
}
