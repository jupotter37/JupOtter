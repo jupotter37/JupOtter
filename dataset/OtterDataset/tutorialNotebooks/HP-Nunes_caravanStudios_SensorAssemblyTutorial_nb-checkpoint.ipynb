{
 "cells": [
  {
   "cell_type": "markdown",
   "metadata": {
    "slideshow": {
     "slide_type": "slide"
    }
   },
   "source": [
    "<body style=\"background:radial-gradient(#dbfdff, #3bdae2);border-radius: 6px;\"></body>\n",
    "\n",
    "## <center>A Tutorial to Build Your Own Air Monitoring Sensor!</center>\n",
    "<br>\n",
    "<a href=\"https://www.caravanstudios.org/about\" target=_blank title=\"Caravan Studios\"><img src=\"img/csLogo.png\" style=\"width:400px;float:left;margin:5px 0px\"/>\n",
    "<p>\n",
    "<div>\n",
    "<a href=\"https://luftdaten.info/kontakt/\" target=_blank title=\"Luftdaten's contact page\"><img src=\"img/luftdatenLogo.png\" style=\"width:150px;align:right;margin:15px 500px\"/></a>\n",
    "Incorporating instructions and open-source software from <a href=\"https://twitter.com/luftdaten\" target=_blank>@Luftdaten</a>\n",
    "</div>\n",
    "<br>\n",
    "<div>\n",
    "<img src=\"img/ArduinoCommunityLogo.png\" style=\"width:250px;align:right;margin:15px 500px\"/>\n",
    "With <a href=\"https://www.arduino.cc/en/Main/FAQ#toc2\" target=_blank>Arduino</a> open-source hardware\n",
    "</div>\n",
    "</p>"
   ]
  },
  {
   "cell_type": "markdown",
   "metadata": {
    "slideshow": {
     "slide_type": "slide"
    }
   },
   "source": [
    "# <center>Task 0: The Tools You Will Need</center>"
   ]
  },
  {
   "cell_type": "markdown",
   "metadata": {
    "slideshow": {
     "slide_type": "subslide"
    }
   },
   "source": [
    "### <center>A Computer with Wi-Fi Access</center>\n",
    "<br><br>\n",
    "<center><img src=\"img/comp.png\" style=\"width: 400px;\"/></center>"
   ]
  },
  {
   "cell_type": "markdown",
   "metadata": {
    "slideshow": {
     "slide_type": "subslide"
    }
   },
   "source": [
    "### <center>1. NodeMCU ESP8266 CPU/WLAN</center>\n",
    "<br><br>\n",
    "<center><img src=\"img/nodemcu.png\" style=\"width: 400px;\"/></center>\n",
    "<center><a href='https://en.m.wikipedia.org/wiki/NodeMCU' target=_blank>Fact Sheet</a></center>"
   ]
  },
  {
   "cell_type": "markdown",
   "metadata": {
    "slideshow": {
     "slide_type": "subslide"
    }
   },
   "source": [
    "### <center>2. Nova SDS011 Fine Dust Sensor</center>\n",
    "<br><br>\n",
    "<center><img src=\"img/sds.png\" style=\"width: 600px;\"/></center>\n",
    "<center><a href='https://github.com/opendata-stuttgart/meta/blob/master/files/SDS011-V1.3.pdf' target=_blank>Fact Sheet</a></center>"
   ]
  },
  {
   "cell_type": "markdown",
   "metadata": {
    "slideshow": {
     "slide_type": "subslide"
    }
   },
   "source": [
    "### <center>3. DHT22 Temperature Humidity Sensor<sup>*</sup></center>\n",
    "<br><br>\n",
    "<center><img src=\"img/dht22.png\" style=\"width: 400px;\"/></center>\n",
    "\n",
    "<center><a href='https://github.com/opendata-stuttgart/meta/blob/master/files/DHT22.pdf' target=_blank>Fact Sheet</a></center>\n",
    "<center><em>There is a 3 and a 4 pins version of the dht; both are suitable, but if possible buy the version with 4 pins</em></center>"
   ]
  },
  {
   "cell_type": "markdown",
   "metadata": {
    "slideshow": {
     "slide_type": "subslide"
    }
   },
   "source": [
    "### <center>4. Dupont Cables (female-to-female)<sup>*</sup></center>\n",
    "<br><br>\n",
    "<center><img src=\"img/dupont.jpg\" style=\"width: 400px;\"/></center>\n",
    "\n",
    "<center>\n",
    "<em>You will need a minimum of 6 cables, at least 10 cm long</em>\n",
    "</center>"
   ]
  },
  {
   "cell_type": "markdown",
   "metadata": {
    "slideshow": {
     "slide_type": "subslide"
    }
   },
   "source": [
    "### <center>5. Flat Micro USB Cables<sup>*</sup></center>\n",
    "<br><br>\n",
    "<div class=\"row\">\n",
    "  <div class=\"column\" style= \"float: left; width: 50%;padding: 5px;\">\n",
    "      <center><b>Less than 1m</b></center>\n",
    "    <img src=\"img/usbcable1.jpg\" alt=\"Snow\" style=\"width:100%\">\n",
    "  </div>\n",
    "  <div class=\"column\" style= \"float: left; width: 50%;padding: 5px;\">\n",
    "          <center><b>Nylon USB Cable, At least 2m</b></center>\n",
    "    <img src=\"img/usbcable2.jpg\" alt=\"Forest\" style=\"width:100%\">\n",
    "  </div>\n",
    "</div>\n",
    "\n",
    "<center><em>Having just the 2m Nylon USB Cable should be enough</em></center>"
   ]
  },
  {
   "cell_type": "markdown",
   "metadata": {
    "slideshow": {
     "slide_type": "subslide"
    }
   },
   "source": [
    "### <center>6. USB to Wall Charger</center>\n",
    "<br><br>\n",
    "<center><img src=\"img/charger.jpg\" style=\"width: 400px;\"/></center>"
   ]
  },
  {
   "cell_type": "markdown",
   "metadata": {
    "slideshow": {
     "slide_type": "subslide"
    }
   },
   "source": [
    "### <center>7. 10 X 12mm Silicone Tube<sup>*</sup></center>\n",
    "<br><br>\n",
    "<center><img src=\"img/tube.jpg\" style=\"width: 400px;\"/></center>\n",
    "<center><em>The tube doesn't need to be long, at minimum 10 to 15 cm</em></center>"
   ]
  },
  {
   "cell_type": "markdown",
   "metadata": {
    "slideshow": {
     "slide_type": "subslide"
    }
   },
   "source": [
    "### <center>8. OPTIONAL: 90° PVC Pipes (3 inch / 2.55 cm)<sup>*</sup></center>\n",
    "<br><br>\n",
    "<center><img src=\"img/pvc.jpg\" style=\"width: 400px;\"/></center>\n",
    "<center><em>A PVC Pipe is just one of many ways to shield your sensor from the elements, be creative!</em></center>"
   ]
  },
  {
   "cell_type": "markdown",
   "metadata": {
    "slideshow": {
     "slide_type": "subslide"
    }
   },
   "source": [
    "### <center>And a healthy dose of perseverance & patience!</center>\n",
    "<br><br>\n",
    "<center><img src=\"https://media.giphy.com/media/NtZJxhBRNSP72/giphy.gif\" style=\"width: 400px;\"/></center>"
   ]
  },
  {
   "cell_type": "markdown",
   "metadata": {
    "slideshow": {
     "slide_type": "subslide"
    }
   },
   "source": [
    "### <center>Estimated Cost (U.S. Dollar, 2019)</center>\n",
    "\n",
    "ID | Components | [Amazon](https://www.amazon.com/) | [AliExpress](https://www.aliexpress.com/) | [Bang Good](https://www.banggood.com/)\n",
    "---------- | ---------- | ---------- | ---------- | ----------\n",
    "1 |**ESP8266 NodeMCU** | [8.39](https://www.amazon.com/HiLetgo-Internet-Development-Wireless-Micropython/dp/B010N1SPRK/ref=sr_1_fkmr1_1?ie=UTF8&qid=1531435207&sr=8-1-fkmr1&keywords=NodeMCU+ESP8266%2C+CPU%2FWLAN) | [2.10](https://www.aliexpress.com/item/V2-4M-4FLASH-NodeMcu-Lua-WIFI-Networking-development-board-Based-ESP8266/32647690484.html?spm=2114.search0104.3.3.4b42611dnjxtKv&ws_ab_test=searchweb0_0,searchweb201602_4_10065_10130_10068_10890_10547_319_10546_317_10548_10545_10696_453_10084_454_10083_10618_10307_537_536_10059_10884_10887_321_322_10103,searchweb201603_52,ppcSwitch_0&algo_expid=183e6096-c759-41fc-852d-729d2a62f662-0&algo_pvid=183e6096-c759-41fc-852d-729d2a62f662&transAbTest=ae803_3) | [6.33](https://www.banggood.com/NodeMcu-Lua-WIFI-Internet-Things-Development-Board-Based-ESP8266-CP2102-Wireless-Module-p-1097112.html?rmmds=search&cur_warehouse=USA)\n",
    "2 |**Nova PM Sensor SDS01** | [40.38](https://www.amazon.com/SHAPB-Precision-Quality-Detection-Sensors/dp/B07P8THRKF/ref=sr_1_fkmr0_1?keywords=Nova+PM+Sensor+SDS01&qid=1557251736&s=gateway&sr=8-1-fkmr0) | [16.40](https://www.aliexpress.com/item/Nova-PM-sensor-SDS011-High-precision-laser-pm2-5-air-quality-detection-sensor-module-Super-dust/32894938003.html?spm=2114.search0104.3.2.3e406beb9tLZpo&ws_ab_test=searchweb0_0,searchweb201602_4_10065_10130_10068_10890_10547_319_10546_317_10548_10545_10696_453_10084_454_10083_10618_10307_537_536_10059_10884_10887_321_322_10103,searchweb201603_52,ppcSwitch_0&algo_expid=c2725975-415a-4c8e-a391-d06089ff037a-0&algo_pvid=c2725975-415a-4c8e-a391-d06089ff037a&transAbTest=ae803_3) | [19.99](https://www.banggood.com/Geekcreit-Nova-PM-Sensor-SDS011-High-Precision-Laser-PM2_5-Air-Quality-Detection-Sensor-Module-Tester-p-1144246.html?akmClientCountry=America&stayold=1&cur_warehouse=CN)\n",
    "3 |**DHT22 Temperature Humidity Sensor** |[12.90](https://www.amazon.com/Gowoops-Temperature-Humidity-Measurement-Raspberry/dp/B073F472JL/ref=sr_1_3?ie=UTF8&qid=1531772763&sr=8-3&keywords=DHT22%2C+temperature+%26+humidity) | [2.45](https://www.aliexpress.com/item/Digital-Temperature-and-Humidity-Sensor-DHT11-DHT22-AM2302B-AM2301-AM2320-Temperature-and-Humidity-Sensor-For-Arduino/32901733917.html?spm=2114.search0104.3.3.743c28ectzbY9s&ws_ab_test=searchweb0_0,searchweb201602_4_10065_10130_10068_10890_10547_319_10546_317_10548_10545_10696_453_10084_454_10083_10618_10307_537_536_10059_10884_10887_321_322_10103,searchweb201603_52,ppcSwitch_0&algo_expid=d8fa3558-d481-43e4-bb6c-8a76ee6f36d9-0&algo_pvid=d8fa3558-d481-43e4-bb6c-8a76ee6f36d9&transAbTest=ae803_3)|[6.53](https://www.banggood.com/Wholesale-DHT22-AM2302-Digital-Temperature-Humidity-Sensor-Replace-SHT11-SHT15-Logger-p-47240.html?rmmds=search&cur_warehouse=USA)\n",
    "4 |**Dupont Cables (female-to-female)** |[6.98](https://www.amazon.com/EDGELEC-Breadboard-Optional-Assorted-Multicolored/dp/B07GD312VG/ref=sr_1_3?keywords=dupont%2Bcables%2Bfemale&qid=1555004496&s=gateway&sr=8-3&th=1) | [0.45](https://www.aliexpress.com/item/Dupont-Jumper-wire-10CM-20CM-30CM-Male-to-Male-Female-to-Male-Female-to-Female-Jumper/32962785036.html?spm=2114.search0104.3.3.b1917b69tJuUn7&ws_ab_test=searchweb0_0,searchweb201602_4_10065_10130_10068_10890_10547_319_10546_317_10548_10545_10696_453_10084_454_10083_10618_10307_537_536_10059_10884_10887_321_322_10103,searchweb201603_52,ppcSwitch_0&algo_expid=0522aa0a-90d1-49b4-b960-2457aa198629-0&algo_pvid=0522aa0a-90d1-49b4-b960-2457aa198629&transAbTest=ae803_3)|[3.96](https://www.banggood.com/40pcs-20cm-Female-to-Female-Jumper-Cable-Dupont-Wire-For-Arduino-p-75612.html?rmmds=search&cur_warehouse=USA)\n",
    "5 |**Flat Micro USB Cable 2.1A (< 1m)** |[2.27](https://www.amazon.com/gp/offer-listing/B07RDKT23C/ref=dp_olp_0?ie=UTF8&condition=all&qid=1557254394&sr=8-1) | [1.00](https://www.aliexpress.com/item/Essager-Flat-Micro-USB-Cable-For-Xiaomi-Redmi-Samsung-2-4A-Fast-Charging-Microusb-Data-Charger/32902424617.html?spm=2114.search0104.3.3.4eee4e5f5LscMj&ws_ab_test=searchweb0_0,searchweb201602_4_10065_10130_10068_10890_10547_319_10546_317_10548_10545_10696_453_10084_454_10083_10618_10307_537_536_10059_10884_10887_321_322_10103,searchweb201603_52,ppcSwitch_0&algo_expid=a32e3f37-73a0-448a-9893-e4596054bbdb-0&algo_pvid=a32e3f37-73a0-448a-9893-e4596054bbdb&transAbTest=ae803_3)|[3.22](https://www.banggood.com/Blitzwolf-BW-MT2-Micro-USB-Flat-Fast-Charging-Data-Cable-With-Type-C-Adapter-For-Phone-Tablet-p-1383475.html?rmmds=search&ID=45763&cur_warehouse=CN)\n",
    "5 |**Flat Micro USB Cable 2.1A (Nylon, >=2m)** |[9.69](https://www.amazon.com/iSeekerKit-charger-Charging-Samsung-Motorola/dp/B01EL6YDUQ/ref=sr_1_4?keywords=Flat+Micro+USB+Cable+2.1A+nylon&qid=1557254554&s=gateway&sr=8-4) | [3.99](https://www.aliexpress.com/item/Remax-Flat-Micro-USB-Cable-2-1A-1m-Fast-Charging-Nylon-USB-Sync-Data-Mobile-Phone/32951139559.html?spm=2114.search0104.3.3.70254a02LR9JFY&ws_ab_test=searchweb0_0,searchweb201602_4_10065_10130_10068_10890_10547_319_10546_317_10548_10545_10696_453_10084_454_10083_10618_10307_537_536_10059_10884_10887_321_322_10103,searchweb201603_52,ppcSwitch_0&algo_expid=de539cc2-1a41-40a7-b136-b7457831da1c-0&algo_pvid=de539cc2-1a41-40a7-b136-b7457831da1c&transAbTest=ae803_3)|[2.89](https://www.banggood.com/--p-1459267.html?akmClientCountry=America&rmmds=search&ID=22444706&cur_warehouse=CN)\n",
    "6 |**USB to Wall Charger** |[10.99](https://www.amazon.com/Charger-3-Pack-Adapter-Samsung-Motorola/dp/B07437M5QQ/ref=sr_1_4?ie=UTF8&qid=1531775014&sr=8-4&keywords=usb+power+adapter) |[1.28](https://www.aliexpress.com/item/Dual-USB-Cell-Mobile-Phone-Charger-5V2-1A-1A-EU-US-Plug-Wall-Power-Adapter-for/32807780731.html?spm=2114.search0104.3.123.27695189gevSGp&ws_ab_test=searchweb0_0,searchweb201602_4_10065_10130_10068_10890_10547_319_10546_317_10548_10545_10696_453_10084_454_10083_10618_10307_537_536_10059_10884_10887_321_322_10103,searchweb201603_52,ppcSwitch_0&algo_expid=b8328427-a08d-4bed-9a42-50d1345ca12b-16&algo_pvid=b8328427-a08d-4bed-9a42-50d1345ca12b&transAbTest=ae803_3)|[3.60](https://www.banggood.com/Mini-USB-5V1A-Home-Travel-Wall-Charger-Power-Charging-Adapter-US-plug-p-1017168.html?rmmds=search&ID=513872&cur_warehouse=USA)\n",
    "7 |**10 X 12mm Silicone Tube** |[5.99](https://www.amazon.com/uxcell-Silicone-Flexible-Translucent-Transfer/dp/B01N3YIQ0Y/ref=sr_1_9?keywords=silicone+tube&qid=1555955060&s=gateway&sr=8-9) | [6.21](https://www.aliexpress.com/item/6-4-7-8-9-10-mm-x-9-10-11-12-13-14-mm-Transparent/32988340459.html?spm=2114.search0104.3.8.5f7e26350wWfig&ws_ab_test=searchweb0_0,searchweb201602_4_10065_10130_10068_10890_10547_319_10546_317_10548_10545_10696_453_10084_454_10083_10618_10307_537_536_10059_10884_10887_321_322_10103,searchweb201603_52,ppcSwitch_0&algo_expid=9c7ca7c6-680b-43f8-859b-ef04f86b21cb-1&algo_pvid=9c7ca7c6-680b-43f8-859b-ef04f86b21cb&transAbTest=ae803_3) | [5.53](https://www.banggood.com/5M-Silicon-Tube-5mm8mm10mm12mm15mm-for-WS2812B-5050-3528-2835-5630-LED-Strip-Light-p-1007818.html?rmmds=search&ID=3632&cur_warehouse=CN)\n",
    "8 |**90° PVC Pipes (3 inch / 2.55 cm)** |[8.07](https://www.amazon.com/NDS-3P02-3-Inch-Sewer-90-Degree/dp/B00HXHALO8/ref=sr_1_1?s=lawn-garden&ie=UTF8&qid=1531767949&sr=1-1&keywords=90+Degree+PVC+Pipe+3inch) | N/A|N/A\n",
    "<br>\n",
    "The total may range from an estimated minimum of <b>40.17</b> to an estimated maximum of <b>106.61</b> US Dollars (not including shipping)."
   ]
  },
  {
   "cell_type": "markdown",
   "metadata": {
    "slideshow": {
     "slide_type": "slide"
    }
   },
   "source": [
    "# <center>Task 1: Configure the Arduino Board </center>"
   ]
  },
  {
   "cell_type": "markdown",
   "metadata": {
    "slideshow": {
     "slide_type": "subslide"
    }
   },
   "source": [
    "## <center>INSTRUCTIONS FOR LINUX</center>\n",
    "<br>\n",
    "<center><img src=\"img/Linux_logo.png\" style=\"width:300px;float:left;margin:5px 0px\"/></center>\n",
    "<p>\n",
    "<div style=\"align:right;margin:0px 0px;font-size:30px;\">Author's parameters in this tutorial:</div>\n",
    "<div style=\"align:right;margin:0px 150px;font-size:15px;\">\n",
    "<br>\n",
    "    <li><a href=\"http://releases.ubuntu.com/18.04/\" target=_blank>Ubuntu Bionic Beavers 18.04</a></li>\n",
    "<br>\n",
    "<li><a href=\"https://www.python.org/downloads/\" target=_blank>Python 3.6.8</a></li>\n",
    "<br>\n",
    "<li><a href=\"https://pip.pypa.io/en/stable/installing/\" target=_blank>pip 19.0.3</a></li>\n",
    "<br>\n",
    "<li><a href=\"https://en.m.wikipedia.org/wiki/NodeMCU\" target=_blank>ESP8266 NodeMCU</a></li>\n",
    "</div>\n",
    "</p>\n",
    "\n",
    "<div style=\"align:left;margin:0px 0px;font-size:15px;\">\n",
    "    <details>\n",
    "      <summary><span style=\"color:red; font-size:40px;\">⚠️ </span><span style=\"color:red;\"><b>You don't need to have the exact same parameters</b></span></summary>If you do run into a problem, it's best practice to include a description of the parameters of your <em>Operating System</em> along with a description of your issue. \n",
    "<br><br>You can search for issues and/or ask for help on the following sites:\n",
    "<br>\n",
    "<ul style=\"list-style-type:circle;\">\n",
    "<li><a href = \"https://www.reddit.com/r/arduino/\" target = '_blank'>r/arduino</a></li>\n",
    "<li><a href = \"https://arduino.stackexchange.com/\" target = '_blank'>Arduino Stack Exchange</a></li>\n",
    "<li><a href = \"https://www.esp8266.com/index.php\" target = '_blank'>ESP8266 Community Forum</a></li>\n",
    "</ul>\n",
    "    </details>\n",
    "</div>"
   ]
  },
  {
   "cell_type": "markdown",
   "metadata": {
    "slideshow": {
     "slide_type": "subslide"
    }
   },
   "source": [
    "### <center>1.1 INSTALL USB2SERIAL DRIVER</center>"
   ]
  },
  {
   "cell_type": "markdown",
   "metadata": {
    "slideshow": {
     "slide_type": "fragment"
    }
   },
   "source": [
    "#### What does it do?\n",
    "\n",
    "It enables your computer to communicate (for example, transferring files and installing software) with the computer chip of the Arduino when connected to a USB port; otherwise it won't do anything other than power the arduino board. "
   ]
  },
  {
   "cell_type": "markdown",
   "metadata": {
    "slideshow": {
     "slide_type": "subslide"
    }
   },
   "source": [
    "### <center> No installation required for Linux, chip should be supported </center>\n",
    "<div align='center'><img src=\"https://media.giphy.com/media/9QlOyBFOWcCru/giphy.gif\" width=\"380\" height=\"262\" /></div>\n",
    "<br>\n",
    "<center>You can always double-check with the 'dmesg' command:\n",
    "<br><br>\n",
    "<code>dmesg | grep -i ttyUSB</code>\n",
    "</center>\n",
    "<br>\n",
    "<center>You should see ttyUSB0 listed:</center>\n",
    "    <img src=\"img/dsmeg.png\"/>"
   ]
  },
  {
   "cell_type": "markdown",
   "metadata": {
    "slideshow": {
     "slide_type": "subslide"
    }
   },
   "source": [
    "## <center>1.2 INSTALL THE ARDUINO IDE</center>"
   ]
  },
  {
   "cell_type": "markdown",
   "metadata": {
    "slideshow": {
     "slide_type": "fragment"
    }
   },
   "source": [
    "### <center>What does it do?</center>\n",
    "\n",
    "<center><img src=\"img/arduinoIDE.svg\"></center>\n",
    "<br><br>\n",
    "The Arduino <b>Integrated Development Environment</b> (IDE) is a software to write programs and import libraries from the web onto the Arduino board.\n",
    "\n",
    "Download the Arduino IDE <a href='https://www.arduino.cc/en/Main/Software'>here</a>."
   ]
  },
  {
   "cell_type": "markdown",
   "metadata": {
    "slideshow": {
     "slide_type": "subslide"
    }
   },
   "source": [
    "## <center>1.3 Open the IDE </center>\n",
    "<br>\n",
    "<center>Go to <b>\"File -> Preferences\"</b> and copy the url below into the <b>\"Additional Board Managers URL\"</b> field:\n",
    "    <a href=\"http://arduino.esp8266.com/stable/package_esp8266com_index.json\" target=_blank>http://arduino.esp8266.com/stable/package_esp8266com_index.json</a>\n",
    "</center>\n",
    "\n",
    "<center><img src=\"img/abm.png\" alt=\"Drawing\" style=\"width: 600px; height:auto\"/></center>"
   ]
  },
  {
   "cell_type": "markdown",
   "metadata": {
    "slideshow": {
     "slide_type": "subslide"
    }
   },
   "source": [
    "### <center>Install the libraries</center>\n",
    "    \n",
    "<center>Go to <b>“Tools -> Board … -> Board Administrator”</b> search for “esp8266” and install <b>“esp8266 by ESP8266 Community”</b></center>\n",
    "<br>\n",
    "<center><img src=\"img/board.png\" alt=\"Drawing\" style=\"width: 600px;\"/></center>\n",
    "<br>"
   ]
  },
  {
   "cell_type": "markdown",
   "metadata": {
    "slideshow": {
     "slide_type": "fragment"
    }
   },
   "source": [
    "### <center>CLOSE THE ARDUINO IDE.</center>"
   ]
  },
  {
   "cell_type": "markdown",
   "metadata": {
    "slideshow": {
     "slide_type": "subslide"
    }
   },
   "source": [
    "## <center>1.4 IMPORT LUFTDATEN'S FIRMWARE ON THE ARDUINO</center>"
   ]
  },
  {
   "cell_type": "markdown",
   "metadata": {
    "slideshow": {
     "slide_type": "fragment"
    }
   },
   "source": [
    "### <center> What does it do?</center>\n",
    "\n",
    "The firmware--built by Luftdaten--configures the Wi-Fi connectivity of the Arduino board and stores the measurements from the SDH011 Dust Sensor and DHT11 Humidity and Temperature Sensor into Luftdaten's database. \n",
    "\n",
    "The sourcecode of the firmware is available on <a href='https://github.com/opendata-stuttgart/sensors-software/tree/master/airrohr-firmware'> GitHub</a>.\n",
    "\n",
    "#### <center> Download the firmware <a href='https://www.madavi.de/sensor/update/data/latest_en.bin'>here</a></center>"
   ]
  },
  {
   "cell_type": "markdown",
   "metadata": {
    "slideshow": {
     "slide_type": "subslide"
    }
   },
   "source": [
    "### <center>Using the shorter ( < 1m) Flat Micro USB Cable, connect the Arduino to your computer.</center>\n",
    "<br>\n",
    "<center><img src=\"img/plug1.jpg\" alt=\"Drawing\" style=\"width: 600px;\"/></center>"
   ]
  },
  {
   "cell_type": "markdown",
   "metadata": {
    "slideshow": {
     "slide_type": "subslide"
    }
   },
   "source": [
    "### <center>Open a terminal/bash & enter the <em>hidden file directory</em> below:</center>\n",
    "<center><code>cd ~/.arduino15/packages/esp8266/tools/esptool/0.4.9</code>\n",
    "<br><br>\n",
    "Once in the directory, install <b>esptool</b>, the bootloader software:\n",
    "<br>\n",
    "<code>pip install esptool</code>\n",
    "<img src=\"img/esptool.png\" style=\"width: 70%;height:50%\"/>\n",
    "Reference documentation on esptool: <a href=\"https://github.com/espressif/esptool/blob/master/README.md\" target=_blank>https://github.com/espressif/esptool/blob/master/README.md</a></center>\n",
    "\n",
    "<div style=\"float:left;font-size:15px;\">\n",
    "    <details>\n",
    "      <summary><span style=\"align:left;color:red; font-size:40px;\">⚠️ </span><span style=\"color:red;\"><b>Hidden Files?</b></span></summary>\n",
    "Hidden files and folders (whose naming convention starts with <b>\".\"</b>, such as <b>\".arduino15\"</b> in this instance) do not appear while manually browsing or exploring folders, usually to prevent users from deleting sensitive or confidential data. In this case we are making a clear exception as we know which specific file to modify. To show and hide hidden files in Linux, just <code>ctrl + H</code>\n",
    "    </details>\n",
    "</div>"
   ]
  },
  {
   "cell_type": "markdown",
   "metadata": {
    "slideshow": {
     "slide_type": "subslide"
    }
   },
   "source": [
    "### <center>Run the command to flash the firmware on Arduino</center>\n",
    "<center><code>esptool --port<p style='border:3px orange dotted;width:fit-content;display: inline'>/dev/ttyUSB0</p> write_flash 0x0000 <p style='border:3px green dotted;width:fit-content;display: inline'>~/Downloads/latest_en.bin</p></code></center>\n",
    "<br><br>\n",
    "<center>\n",
    "<p style='background-color: #;border:3px orange dotted;width:fit-content;display: inline'>/dev/ttyUSB0</p>: Open the ArduinoIDE, <b>\"Tools -> Port\"</b>, then <b>\"Tools > Get board info\"</b> to verify that the board is connected to the correct USB port;</center>\n",
    "<br>\n",
    "<center>\n",
    "<p style='background-color: #;border:3px green dotted;width:fit-content;display: inline'>~/Downloads/latest_en.bin</p>: Make sure to write the correct directory path to the firmware.</center>\n",
    "<br><br>\n",
    "<center>\n",
    "Reference documentation: <a href=\"https://github.com/opendata-stuttgart/meta/wiki/EN-Installing-firmware\" target=_blank>https://github.com/opendata-stuttgart/meta/wiki/EN-Installing-firmware</a></center>\n",
    "\n",
    "<div style=\"float:left;font-size:15px;\">\n",
    "    <details>\n",
    "      <summary><span style=\"align:left;color:red; font-size:40px;\">⚠️ </span><span style=\"color:red;\"><b>IF YOU GET ERROR: [Errno 13]</b></span></summary>\n",
    "<p style=\"background-color: #FF9999\">[Errno 13] could not open port /dev/ttyUSB0: [Errno 13] Permission denied: '/dev/ttyUSB0</p>\n",
    "<br>\n",
    "Change permission privileges with: <code>sudo chmod 666 /dev/ttyUSB0</code>\n",
    "    </details>\n",
    "</div>"
   ]
  },
  {
   "cell_type": "markdown",
   "metadata": {
    "slideshow": {
     "slide_type": "subslide"
    }
   },
   "source": [
    "<center><b>The Arduino’s LED (light) should be blinking while the firmware being uploaded, and your terminal should look like this during the import process:</b></center>\n",
    "<center><img src=\"img/c1.jpg\" alt=\"Drawing\" style=\"width: auto;\"/></center>"
   ]
  },
  {
   "cell_type": "markdown",
   "metadata": {
    "slideshow": {
     "slide_type": "fragment"
    }
   },
   "source": [
    "<center><b>And at the end, you should see the installation completed:</b></center>\n",
    "<center><img src=\"img/c2.png\" style=\"width: 1000px;\"/></center>"
   ]
  },
  {
   "cell_type": "markdown",
   "metadata": {
    "slideshow": {
     "slide_type": "fragment"
    }
   },
   "source": [
    "<center><b>The Arduino Board is now ready to collect & send data! Let's get to the hardware!<b></center>\n",
    "<center><img src=\"https://media.giphy.com/media/OprPC1KQJvUME/giphy.gif\" style=\"width: 400px;height:160px;\"/></center>"
   ]
  },
  {
   "cell_type": "markdown",
   "metadata": {
    "slideshow": {
     "slide_type": "slide"
    }
   },
   "source": [
    "# <center>Task 2: Assembly Required</center>"
   ]
  },
  {
   "cell_type": "markdown",
   "metadata": {
    "slideshow": {
     "slide_type": "subslide"
    }
   },
   "source": [
    "### <center>We will follow the schema below as our guide to connect the components</center>\n",
    "\n",
    "<center><img src=\"img/schema.jpg\" alt=\"Drawing\" style=\"width: 400px;\"/></center>\n",
    "<center><a href = \"https://luftdaten.info/en/construction-manual/\" target=_blank>Source (open image in a separate tab)</a>\n",
    "</center>"
   ]
  },
  {
   "cell_type": "markdown",
   "metadata": {
    "slideshow": {
     "slide_type": "subslide"
    }
   },
   "source": [
    "## <center>2.1 Connect the Thermometer to the Board<sup>*</sup></center>\n",
    "\n",
    "<center><img src=\"img/schema1.png\" alt=\"Drawing\" style=\"width: 400px;\"/></center>\n",
    "<center><em>Schema adjusted for a 3 pin model</em></center>"
   ]
  },
  {
   "cell_type": "markdown",
   "metadata": {
    "slideshow": {
     "slide_type": "subslide"
    }
   },
   "source": [
    "### <center>Connect Pin 1 to 3V3</center>\n",
    "<center><img src=\"img/A1P1.gif\" max-width= auto max-height= auto></center>"
   ]
  },
  {
   "cell_type": "markdown",
   "metadata": {
    "slideshow": {
     "slide_type": "subslide"
    }
   },
   "source": [
    "### <center>Connect Pin 2 to D7</center>\n",
    "<center><img src=\"img/A1P2.gif\" max-width= auto max-height= auto></center>"
   ]
  },
  {
   "cell_type": "markdown",
   "metadata": {
    "slideshow": {
     "slide_type": "subslide"
    }
   },
   "source": [
    "### <center>Connect Pin 3 to GND</center>\n",
    "<center><img src=\"img/A1P3.gif\" max-width= auto max-height= auto></center>"
   ]
  },
  {
   "cell_type": "markdown",
   "metadata": {
    "slideshow": {
     "slide_type": "subslide"
    }
   },
   "source": [
    "### <center>End Result</center>\n",
    "<br>\n",
    "<div class=\"row\">\n",
    "  <div class=\"column\" style= \"float: left; width: 50%;padding: 5px;\">\n",
    "      <center><b></b></center>\n",
    "    <img src=\"img/A1F1.png\" style=\"width:auto; height:auto;\">\n",
    "  </div>\n",
    "  <div class=\"column\" style= \"float: left; width: 50%;padding: 5px;\">\n",
    "          <center><b></b></center>\n",
    "    <img src=\"img/A1F2.png\" style=\"width:auto; height:auto;\">\n",
    "  </div>\n",
    "</div>"
   ]
  },
  {
   "cell_type": "markdown",
   "metadata": {
    "slideshow": {
     "slide_type": "subslide"
    }
   },
   "source": [
    "## <center>2.2 Connect the Dust Sensor to the Board<sup>*</sup></center>\n",
    "\n",
    "<center><img src=\"img/schemaSDS.png\" alt=\"Drawing\" max-width= auto/></center>\n",
    "<center><em>Schema adjusted for NodeMCU v1,v2 using (VIN); for NodeMCU v3 use (VU)</em></center>"
   ]
  },
  {
   "cell_type": "markdown",
   "metadata": {
    "slideshow": {
     "slide_type": "subslide"
    }
   },
   "source": [
    "### <center>Connect 5V to Vin/VU </center>\n",
    "<center><img src=\"img/A2P1.gif\" max-width= auto max-height= auto></center>"
   ]
  },
  {
   "cell_type": "markdown",
   "metadata": {
    "slideshow": {
     "slide_type": "subslide"
    }
   },
   "source": [
    "### <center>Connect GND to GND</center>\n",
    "<center><img src=\"img/A2P2.gif\" max-width= auto max-height= auto></center>"
   ]
  },
  {
   "cell_type": "markdown",
   "metadata": {
    "slideshow": {
     "slide_type": "subslide"
    }
   },
   "source": [
    "### <center>Connect RXD to D2</center>\n",
    "<center><img src=\"img/A2P3.gif\" max-width= auto max-height= auto></center>"
   ]
  },
  {
   "cell_type": "markdown",
   "metadata": {
    "slideshow": {
     "slide_type": "subslide"
    }
   },
   "source": [
    "### <center>Connect TXD to D1</center>\n",
    "<center><img src=\"img/A2P4.gif\" max-width= auto max-height= auto></center>"
   ]
  },
  {
   "cell_type": "markdown",
   "metadata": {
    "slideshow": {
     "slide_type": "subslide"
    }
   },
   "source": [
    "### <center>End Result</center>\n",
    "\n",
    "\n",
    "<div class=\"row\">\n",
    "  <div class=\"column\" style= \"float: left; width: 50%;padding: 5px;\">\n",
    "      <center><b></b></center>\n",
    "    <img src=\"img/schemaB.png\" alt=\"Snow\" style=\"width:100%\">\n",
    "  </div>\n",
    "  <div class=\"column\" style= \"float: left; width: 50%;padding: 5px;\">\n",
    "          <center><b></b></center>\n",
    "    <img src=\"img/schemaA.png\" alt=\"Forest\" style=\"width:100%\">\n",
    "  </div>\n",
    "    <div class=\"column\" style= \"float: left; width: 50%;padding: 5px;\">\n",
    "          <center><b></b></center>\n",
    "    <img src=\"img/schemaC.png\" alt=\"Forest\" style=\"width:100%\">\n",
    "  </div>\n",
    "    <div class=\"column\" style= \"float: left; width: 50%;padding: 5px;\">\n",
    "          <center><b></b></center>\n",
    "    <img src=\"img/schemaD.png\" alt=\"Forest\" style=\"width:100%\">\n",
    "  </div>\n",
    "</div>"
   ]
  },
  {
   "cell_type": "markdown",
   "metadata": {
    "slideshow": {
     "slide_type": "subslide"
    }
   },
   "source": [
    "### <center>Great, you now have all of the essential hardware connected!</center>\n",
    "\n",
    "<center><img src=\"img/goodjob1.gif\" max-width= auto max-height= auto></center>"
   ]
  },
  {
   "cell_type": "markdown",
   "metadata": {
    "slideshow": {
     "slide_type": "slide"
    }
   },
   "source": [
    "# <center>Task 3: Get Connected</center>"
   ]
  },
  {
   "cell_type": "markdown",
   "metadata": {
    "slideshow": {
     "slide_type": "subslide"
    }
   },
   "source": [
    "## <center>3.1 Plug the Flat USB Micro Nylon Cable to the Arduino Board</center>\n",
    "<br>\n",
    "<div class=\"row\">\n",
    "  <div class=\"column\" style= \"float: left; width: 50%;padding: 5px;\">\n",
    "      <center><b>Make sure the WiFi chip faces away from the dust sensor</b></center>\n",
    "    <img src=\"img/assemble1.jpg\" alt=\"Snow\" style=\"width:100%\">\n",
    "  </div>\n",
    "  <div class=\"column\" style= \"float: left; width: 50%;padding: 5px;\">\n",
    "          <center><b>Tie together the dupont cables to prevent the wires from getting loose</b></center>\n",
    "    <img src=\"img/assemble2.jpg\" alt=\"Forest\" style=\"width:100%\">\n",
    "  </div>\n",
    "</div>"
   ]
  },
  {
   "cell_type": "markdown",
   "metadata": {
    "slideshow": {
     "slide_type": "subslide"
    }
   },
   "source": [
    "## <center>3.2 Connect the Flat USB Micro Nylon Cable to the Wall Adapter, and Plug to power supply</center>\n",
    "<br>\n",
    "<center><img src=\"img/assemble88.jpg\" style=\"height:400px;width:auto\"/></center>"
   ]
  },
  {
   "cell_type": "markdown",
   "metadata": {
    "slideshow": {
     "slide_type": "subslide"
    }
   },
   "source": [
    "##   <center>3.3 Connect to the sensor's Access Point</center>\n",
    "<br>\n",
    "<center>The Access Point is defined as \"Feinstaubsensor-Your Device ID\"; detected over your Wi-Fi networks</center>\n",
    "<br>\n",
    "<center><img src=\"img/connect1.gif\" style=\"height:300px;width:auto\"></center>\n",
    "<details>\n",
    "  <summary><span style=\"color:red; font-size:2em;\">⚠️</span><span style=\"color:red; font-size:20px;\"> Access Point not showing up?</span></summary>\n",
    "If the Access Point does not show up in your list of Wi-Fi networks, try plugging the power supply in-and-out. It can take several attempts for the Access Point to show up.\n",
    "</details> "
   ]
  },
  {
   "cell_type": "markdown",
   "metadata": {
    "slideshow": {
     "slide_type": "subslide"
    }
   },
   "source": [
    "## <center>3.4 Configure the sensor's Wi-Fi connectivity</center>\n",
    "<p>\n",
    "<center>Go to the following IP address: <a href='http://192.168.4.1/' target=_blank>http://192.168.4.1/</a><em> (If you're prompted by a menu, select 'Configure')</em></center>\n",
    "<center>Enter the Wi-Fi network credentials (name and password) that the Arduino will be connecting to collect and send data</center>\n",
    "</p>\n",
    "<center><img src=\"img/connect2.gif\" max-width= auto max-height= auto></center>"
   ]
  },
  {
   "cell_type": "markdown",
   "metadata": {
    "slideshow": {
     "slide_type": "subslide"
    }
   },
   "source": [
    "## <center>3.5 Once you land on the Configuration Page, verify that all of your components are recognized</center>\n",
    "<br>\n",
    "<center><div style=\"max-height:400px;max-width:500px;overflow:auto;float:left;margin:5px 100px\">\n",
    "<img src=\"img/configPageLabel.jpg\" alt=\"Sample picture for scroll box\">\n",
    "<div class=\"zoom\"></div>\n",
    "</div>\n",
    "    \n",
    "<div style=\"align:right;margin:0px 0px;font-size:15px;\">\n",
    "    <details>\n",
    "  <summary><span style=\"color:red; font-size:2em;\">⚠️ </span><span style=\"color:red; font-size:20px;\">What's Madavi.de?</span></summary>\n",
    "<br>\n",
    "<a href=\"https://www.madavi.de/ok-lab-stuttgart/\" target=_blank>Madavi.de</a> is a hosting service used by Luftdaten of data graphed from your device in real time, for the purposes of troubleshooting (i.e. verifying whether your sensor has a reliable Wi-Fi connection, and whether the dust and thermometer data are communicated to the database).\n",
    "</details> \n",
    "</div>"
   ]
  },
  {
   "cell_type": "markdown",
   "metadata": {
    "slideshow": {
     "slide_type": "subslide"
    }
   },
   "source": [
    "<center><b>Good job! But this won't fly until we make sure everything is working properly!</b></center>\n",
    "<br>\n",
    "<center><img src=\"https://media.giphy.com/media/4Zgy9QqzWU8C3ugvCa/giphy.gif\" style=\"width: 300px;height:auto;\"/></center>"
   ]
  },
  {
   "cell_type": "markdown",
   "metadata": {
    "slideshow": {
     "slide_type": "slide"
    }
   },
   "source": [
    "# <center>Task 4: Troubleshooting</center>"
   ]
  },
  {
   "cell_type": "markdown",
   "metadata": {
    "slideshow": {
     "slide_type": "subslide"
    }
   },
   "source": [
    "### <center>4.1 Verify your sensor's Wi-Fi connectivity </center>\n",
    "<br>\n",
    "Your device's connectivity is primordial in collecting data; the arduino does not nearly have enough memory to store the data, so if the Wi-Fi is disconnected then the data gets lost. Search for your device (by its unique ID) again: <a href=\"https://www.madavi.de/sensor/signal.php\" target=_blank>https://www.madavi.de/sensor/signal.php</a><br>\n",
    "<details>\n",
    "  <summary><span style=\"color:red; font-size:1.5em;\">⚠️</span><span style=\"color:red;font-size:20px;\"> Why is the link to my sensor </span><span style=\"background-color: #FF0000;font-size:20px;\"><b>highlighted in red?</b></span></summary>\n",
    "Your device isn't registered on Luftdaten's database <em>yet</em>. The purpose of the Madavi's links is to troubleshoot your sensor's connectivity and settings.\n",
    "</details>\n",
    "<center><img src=\"img/wifiM.png\" max-width= auto/></center>"
   ]
  },
  {
   "cell_type": "markdown",
   "metadata": {
    "slideshow": {
     "slide_type": "subslide"
    }
   },
   "source": [
    "## <center>4.2 Check that you're getting the data </center> \n",
    "<p>\n",
    "Check if your sensor is emitting temperature/humidity and Fine Particles data in real time on Madavi: <a href=\"https://www.madavi.de/sensor/graph.php\" target=_blank>https://www.madavi.de/sensor/graph.php</a>\n",
    "(search the link by your sensor's unique ID). All that you want to observe is whether lines are being drawn on your charts, indicating that measurements are taken in real-time.\n",
    "</p>\n",
    "\n",
    "<div class=\"row\">\n",
    "  <div class=\"column\" style= \"float: left; width: 50%;padding: 5px;\">\n",
    "      <center><b>Thermometer</b></center>\n",
    "    <img src=\"img/sdsM.png\">\n",
    "  </div>\n",
    "  <div class=\"column\" style= \"float: left; width: 50%;padding: 5px;\">\n",
    "          <center><b>Dust Sensor</b></center>\n",
    "    <img src=\"img/dhtM.png\">\n",
    "  </div>\n",
    "</div>"
   ]
  },
  {
   "cell_type": "markdown",
   "metadata": {
    "slideshow": {
     "slide_type": "subslide"
    }
   },
   "source": [
    "<center><b>Fantastic! Now get outside!</b></center>\n",
    "<br>\n",
    "<center><img src=\"https://media.giphy.com/media/O5GKT0UDGyQLu/giphy.gif\" style=\"width: auto;height:auto;\"/></center>"
   ]
  },
  {
   "cell_type": "markdown",
   "metadata": {
    "slideshow": {
     "slide_type": "slide"
    }
   },
   "source": [
    "# <center>Task 5: Setting Up Your Sensor Outdoors</center>"
   ]
  },
  {
   "cell_type": "markdown",
   "metadata": {
    "slideshow": {
     "slide_type": "subslide"
    }
   },
   "source": [
    "## <center>5.1 Tighten the silicone tube to the dust sensor</center>\n",
    "<br>\n",
    "<center><img src=\"img/assemble3.jpg\" style=\"width: 400px;\"/></center>"
   ]
  },
  {
   "cell_type": "markdown",
   "metadata": {
    "slideshow": {
     "slide_type": "subslide"
    }
   },
   "source": [
    "## <center>5.2 Set up your device inside the PVC Pipe</center>\n",
    "<br>\n",
    "<div class=\"row\">\n",
    "  <div class=\"column\" style= \"float: left; width: 50%;padding: 5px;\">\n",
    "      <center><b>You will want the tube and power cord out of one end of the pipe</b></center>\n",
    "    <img src=\"img/assemble4.jpg\" style=\"width:100%\">\n",
    "  </div>\n",
    "  <div class=\"column\" style= \"float: left; width: 50%;padding: 5px;\">\n",
    "          <center><b>Verify your components on the other end are not getting disconnected</b></center>\n",
    "    <img src=\"img/assemble5.jpg\" style=\"width:100%\">\n",
    "  </div>\n",
    "</div>"
   ]
  },
  {
   "cell_type": "markdown",
   "metadata": {
    "slideshow": {
     "slide_type": "subslide"
    }
   },
   "source": [
    "## <center>5.3 Seal both of the pipe's ends</center>\n",
    "<br>\n",
    "<div class=\"row\">\n",
    "  <div class=\"column\" style= \"float: left; width: 50%;padding: 5px;\">\n",
    "      <center><b>Be creative! Make your own lid: re-use materials, like a net or, in this example, old pantyhose and rubber bands!</b></center>\n",
    "    <img src=\"img/assemble6.jpg\" style=\"width:100%\">\n",
    "  </div>\n",
    "  <div class=\"column\" style= \"float: left; width: 50%;padding: 5px;\">\n",
    "          <center><b>Prevent your components inside from falling out, with the tube and power cord sticking out.</b></center>\n",
    "    <img src=\"img/assemble7.jpg\" style=\"width:100%\">\n",
    "  </div>\n",
    "</div>"
   ]
  },
  {
   "cell_type": "markdown",
   "metadata": {
    "slideshow": {
     "slide_type": "subslide"
    }
   },
   "source": [
    "## <center>5.4 Set your sensor outside</center>\n",
    "<br>\n",
    "<div class=\"row\">\n",
    "  <div class=\"column\" style= \"float: left; width: 50%;padding: 5px;\">\n",
    "      <center><b>Plug to a reliable power source</b></center>\n",
    "    <img src=\"img/assemble88.jpg\" style=\"width:100%\">\n",
    "  </div>\n",
    "  <div class=\"column\" style= \"float: left; width: 50%;padding: 5px;\">\n",
    "      <center><b>That's it!</b></center>\n",
    "    <img src=\"img/assemble9.jpg\" style=\"width:100%\">\n",
    "  </div>\n",
    "</div>"
   ]
  },
  {
   "cell_type": "markdown",
   "metadata": {
    "slideshow": {
     "slide_type": "subslide"
    }
   },
   "source": [
    "## <center>5.5 Troubleshoot once more your components' connectivity</center>\n",
    "<br>\n",
    "Repeat steps 4.1 and 4.2. It's always possible a dupont wire may have been disconnected while setting up your components in the PVC pipe, or that your power outlet doesn't work; in any case, <b>troubleshoot, troubleshoot, troubleshoot!</b>\n",
    "<br><br>\n",
    "<u>Links to Madavi below:</u> (once again, search by your sensor's unique ID)\n",
    "* <a href='https://www.madavi.de/sensor/graph.php' target=_blank>DHT (Temperature/Humidity) & SDS (PM2.5/PM10)</a>\n",
    "* <a href='https://www.madavi.de/sensor/signal.php' target = _blank>Wi-Fi</a>"
   ]
  },
  {
   "cell_type": "markdown",
   "metadata": {
    "slideshow": {
     "slide_type": "fragment"
    }
   },
   "source": [
    "<center><b>Splendid! Now is time to get <em>serious</em>!</b></center>\n",
    "<center><img src=\"https://media.giphy.com/media/ogHm5itTT6b4Y/giphy.gif\" style=\"width: auto;height:auto;\"/></center>"
   ]
  },
  {
   "cell_type": "markdown",
   "metadata": {
    "slideshow": {
     "slide_type": "slide"
    }
   },
   "source": [
    "# <center>Task 6: Register On Luftdaten</center>"
   ]
  },
  {
   "cell_type": "markdown",
   "metadata": {
    "slideshow": {
     "slide_type": "subslide"
    }
   },
   "source": [
    "## <center>6.1 Create an account on Luftdaten</center>\n",
    "\n",
    "Once you've troubleshooted and everything is working normally, register your device on [Luftdaten](https://meine.luftdaten.info/register). You will need an email address and create a password, and click 'Register'."
   ]
  },
  {
   "cell_type": "code",
   "execution_count": 2,
   "metadata": {
    "slideshow": {
     "slide_type": "skip"
    }
   },
   "outputs": [],
   "source": [
    "from IPython.display import IFrame"
   ]
  },
  {
   "cell_type": "code",
   "execution_count": 5,
   "metadata": {
    "slideshow": {
     "slide_type": "fragment"
    }
   },
   "outputs": [
    {
     "data": {
      "text/html": [
       "\n",
       "        <iframe\n",
       "            width=\"800\"\n",
       "            height=\"400\"\n",
       "            src=\"https://meine.luftdaten.info/register\"\n",
       "            frameborder=\"0\"\n",
       "            allowfullscreen\n",
       "        ></iframe>\n",
       "        "
      ],
      "text/plain": [
       "<IPython.lib.display.IFrame at 0x7fa2f04c3160>"
      ]
     },
     "execution_count": 5,
     "metadata": {},
     "output_type": "execute_result"
    }
   ],
   "source": [
    "IFrame(src='https://meine.luftdaten.info/register', width=800, height=400)"
   ]
  },
  {
   "cell_type": "markdown",
   "metadata": {
    "slideshow": {
     "slide_type": "subslide"
    }
   },
   "source": [
    "You will receive a confirmation email to the address provided. Click the link to confirm your account and [log-in](https://meine.luftdaten.info/login) with the credentials you used to register."
   ]
  },
  {
   "cell_type": "code",
   "execution_count": 9,
   "metadata": {
    "slideshow": {
     "slide_type": "fragment"
    }
   },
   "outputs": [
    {
     "data": {
      "text/html": [
       "\n",
       "        <iframe\n",
       "            width=\"800\"\n",
       "            height=\"400\"\n",
       "            src=\"https://meine.luftdaten.info/login\"\n",
       "            frameborder=\"0\"\n",
       "            allowfullscreen\n",
       "        ></iframe>\n",
       "        "
      ],
      "text/plain": [
       "<IPython.lib.display.IFrame at 0x7fa2f04c3390>"
      ]
     },
     "execution_count": 9,
     "metadata": {},
     "output_type": "execute_result"
    }
   ],
   "source": [
    "IFrame(src='https://meine.luftdaten.info/login', width=800, height=400)"
   ]
  },
  {
   "cell_type": "markdown",
   "metadata": {
    "slideshow": {
     "slide_type": "subslide"
    }
   },
   "source": [
    "## <center>6.2 Register your device</center>\n",
    "<br>\n",
    "<center>Click on 'Register new sensor'</center>\n",
    "<br>\n",
    "<center><img src=\"img/registerDevice.png\" style=\"width: auto;\"/></center>"
   ]
  },
  {
   "cell_type": "markdown",
   "metadata": {
    "slideshow": {
     "slide_type": "subslide"
    }
   },
   "source": [
    "<br>\n",
    "<center>'Sensor ID' is your sensor's unique ID, the same you've used to search the Madavi links</center>\n",
    "<br>\n",
    "<center>The sensor board we used in this tutorial is the default listed: esp8266</center>\n",
    "<br>\n",
    "<center><img src=\"img/r1.png\" style=\"width: auto;\"/></center>"
   ]
  },
  {
   "cell_type": "markdown",
   "metadata": {
    "slideshow": {
     "slide_type": "subslide"
    }
   },
   "source": [
    "<center>'Personal Sensor Name' is just a nickname you give to your sensor; this is useful especially if you are registering multiple sensors</center>\n",
    "<br>\n",
    "<center>Type in the address where the sensor is located (at your own discretion)</center>\n",
    "<br>\n",
    "<center>If the sensor is set-up inside a building, i.e. it is not taking outside measurements, make sure to check the box 'Indoor Sensor'.</center>\n",
    "<br>\n",
    "<center><img src=\"img/r2.png\" style=\"width: auto;\"/></center>"
   ]
  },
  {
   "cell_type": "markdown",
   "metadata": {
    "slideshow": {
     "slide_type": "subslide"
    }
   },
   "source": [
    "<br>\n",
    "<center>Check the 'Publish exact location' box if you want to make that information public knowledge.</center>\n",
    "<br>\n",
    "<center>Specify how high from the ground your sensor is installed. My was installed on the balcony of a house, about 3.6 meters high, or 3600 cm.</center>\n",
    "<br>\n",
    "<center>Specify where your sensor is located relative to traffic. The balcony where my sensor is located faces a residential dirt road, not directly above it but close, thus I have it a rating of 8.The rating is somewhat suggestive, so use your best informed judgement. You can outline your reasoning in the 'Short description of location' section.</center>\n",
    "<br>\n",
    "<center><img src=\"img/r3.png\" style=\"width: auto;\"/></center>"
   ]
  },
  {
   "cell_type": "markdown",
   "metadata": {
    "slideshow": {
     "slide_type": "subslide"
    }
   },
   "source": [
    "<br>\n",
    "<center>If you have used all of the same components as in this tutorial, there is nothing that needs changing.</center>\n",
    "<br>\n",
    "<center><img src=\"img/r4.png\" style=\"width: auto;\"/></center>"
   ]
  },
  {
   "cell_type": "markdown",
   "metadata": {
    "slideshow": {
     "slide_type": "subslide"
    }
   },
   "source": [
    "<center>If you've provided an address, just click 'lookup entered address' and the coordinates will be geocoded to the sensor's location. If the address isn't geocoding or you didn't want to provide an address, specify a latitute and longitude at your discretion.</center>\n",
    "<br>\n",
    "<center>Once you're done, click <b>'save settings'</b></center>\n",
    "<br>\n",
    "<center><img src=\"img/r5.png\" style=\"width: auto;\"/></center>"
   ]
  },
  {
   "cell_type": "markdown",
   "metadata": {
    "slideshow": {
     "slide_type": "subslide"
    }
   },
   "source": [
    "### <center>Your sensor is now registered on Luftdaten!</center>\n",
    "<center><img src=\"img/r6.png\" style=\"width: auto;\"/></center>"
   ]
  },
  {
   "cell_type": "markdown",
   "metadata": {
    "slideshow": {
     "slide_type": "fragment"
    }
   },
   "source": [
    "<center><b>YOU DID IT! But what if I told you that this is just the penguining of fun?</b></center>\n",
    "<div align='center'><img src=\"https://media.giphy.com/media/RszJLUs2WE6fC/giphy.gif\" width=\"450\" height=\"300\" /></div>"
   ]
  },
  {
   "cell_type": "markdown",
   "metadata": {
    "slideshow": {
     "slide_type": "slide"
    }
   },
   "source": [
    "# <center>Task 7: Data & You</center>"
   ]
  },
  {
   "cell_type": "markdown",
   "metadata": {
    "slideshow": {
     "slide_type": "subslide"
    }
   },
   "source": [
    "## <center> Check your device's location on Luftdaten's Map!</center>\n",
    "<br>\n",
    "<center>Your device will be geolocated along with its current measurements\n",
    "<br>\n",
    "    <em>There isn't a search bar; to find your device zoom-in on its known location; note that the sensor's location is mapped at a resolution up to 100 meters</em>\n",
    "</center>\n"
   ]
  },
  {
   "cell_type": "code",
   "execution_count": 3,
   "metadata": {
    "slideshow": {
     "slide_type": "fragment"
    }
   },
   "outputs": [
    {
     "data": {
      "text/html": [
       "\n",
       "        <iframe\n",
       "            width=\"1000\"\n",
       "            height=\"300\"\n",
       "            src=\"https://deutschland.maps.luftdaten.info/#16/37.5436/-122.5123\"\n",
       "            frameborder=\"0\"\n",
       "            allowfullscreen\n",
       "        ></iframe>\n",
       "        "
      ],
      "text/plain": [
       "<IPython.lib.display.IFrame at 0x7f504464d668>"
      ]
     },
     "execution_count": 3,
     "metadata": {},
     "output_type": "execute_result"
    }
   ],
   "source": [
    "IFrame(src='https://deutschland.maps.luftdaten.info/#16/37.5436/-122.5123', width=1000, height=350)"
   ]
  },
  {
   "cell_type": "markdown",
   "metadata": {
    "slideshow": {
     "slide_type": "subslide"
    }
   },
   "source": [
    "## <center>But I want to do SOMETHING with the data!</center>"
   ]
  },
  {
   "cell_type": "markdown",
   "metadata": {
    "slideshow": {
     "slide_type": "fragment"
    }
   },
   "source": [
    "<center>Great! The raw data stored as a csv file can be found on <a href=\"https://www.madavi.de/sensor/csvfiles.php\" target=_blank>Madavi's data directory</a>; the data is compilled by days and months. <br>You will need to search the directory by your device's unique ID once again (CTRL + F).</center>\n",
    "<br>\n",
    "<center><img src=\"img/madavi.png\" style=\"width: auto;\"/></center>"
   ]
  },
  {
   "cell_type": "markdown",
   "metadata": {
    "slideshow": {
     "slide_type": "subslide"
    }
   },
   "source": [
    "## <center>Show me the (meta)data!</center>\n",
    "<br>\n",
    "<center>\n",
    "Open the CSV file in Excel, Python Pandas, or another software of your choosing. Note that certain fields correspond to different models of sensors, so don't expect to have data for fields other than what's specified below (per this Tutorial's parameters):\n",
    "</center>\n",
    "<br>\n",
    "<center>\n",
    "    <div style=\"max-height:400px;max-width:500px;overflow:auto;float:center\">\n",
    "<head>\n",
    "    <style>\n",
    "table {\n",
    "  font-family: arial, sans-serif;\n",
    "  border-collapse: collapse;\n",
    "  width: 100%;\n",
    "}\n",
    "\n",
    "td, th {\n",
    "  border: 1px solid #dddddd;\n",
    "  text-align: left;\n",
    "  padding: 8px;\n",
    "}\n",
    "\n",
    "tr:nth-child(even) {\n",
    "  background-color: #dddddd;\n",
    "}\n",
    "    </style>\n",
    "</head>\n",
    "<table>\n",
    "    <tbody>\n",
    "  <tr>\n",
    "    <th>Field</th>\n",
    "    <th>Description</th>   \n",
    "  </tr>\n",
    "        <tr><td>Time</td><td>In UTC (<a href=\"https://earthsky.org/astronomy-essentials/universal-time\" target=_blank>Coordinated Universal Time</a>), convert the time and date of your measurement to match your timezone.<br>You will also notice that the sensor is taking measurement at intervals of about 150 seconds: For 125 seconds, the SDS011 is shut down & the fan is off. Then for 20 seconds, the SDS011 is activated and the fan is on. For the last 5 seconds measurements are taken, averaged, and saved to Luftdaten's servers.</td></tr>\n",
    "    <tr><td>durP1</td></tr>\n",
    "    <tr><td>ratioP1</td></tr>\n",
    "    <tr><td>P1</td></tr>\n",
    "    <tr><td>durP2</td></tr>\n",
    "    <tr><td>ratioP2</td></tr>\n",
    "    <tr><td>P2</td></tr>\n",
    "        <tr><td>SDS_P1</td><td>Coarse Dust Particles (PM<sub>10</sub>), less than 10 to 2.5 microns in diameters, measurements in µg/m<sup>3</sup> (micrograms per meter cubed) averaged over 20 seconds of data collection</td></tr>\n",
    "    <tr><td>SDS_P2</td><td>Fine Particles (PM<sub>2.5</sub>), less than 2.5 microns, measurements in µg/m<sup>3</sup> (micrograms per meter cubed) averaged over 20 seconds of data collection</td></tr>  \n",
    "    <tr><td>PMS_P1</td></tr>\n",
    "    <tr><td>PMS_P2</td></tr>\n",
    "    <tr><td>Temp</td><td>In degrees Celcius (°C)</td></tr>\n",
    "    <tr><td>Humidity</td><td>Measured as the <a href=\"https://github.com/opendata-stuttgart/meta/wiki/Luftfeuchte-Korrektur\" target=_blank>percentage</a> of saturation humidity</td></tr>\n",
    "    <tr><td>BMP_temperature</td></tr>\n",
    "    <tr><td>BMP_pressure</td></tr>\n",
    "    <tr><td>BME280_temperature</td></tr>\n",
    "    <tr><td>BME280_humidity</td></tr>\n",
    "    <tr><td>BME280_pressure</td></tr>  \n",
    "\t<tr><td>Samples</td><td>The number of measurements taken within the span the Dust Sensor is activated; the raw particle measurements (SDS_P1 & SDS_P2) are averages of those samples</td></tr>\n",
    "    <tr><td>Min_cycle</td></tr>  \n",
    "    <tr><td>Max_cycle</td></tr>\n",
    "    <tr><td>Signal</td></tr>  \n",
    "    <tr><td>HPM_P1</td></tr>\n",
    "    <tr><td>HPM_P2</td></tr> \n",
    " </tbody>\n",
    "</table>\n",
    "<div class=\"zoom\"></div>\n",
    "</div>\n",
    "</center>"
   ]
  },
  {
   "cell_type": "markdown",
   "metadata": {
    "slideshow": {
     "slide_type": "subslide"
    }
   },
   "source": [
    "## <center>OK here's some dank data, what now?</center>"
   ]
  },
  {
   "cell_type": "markdown",
   "metadata": {
    "slideshow": {
     "slide_type": "fragment"
    }
   },
   "source": [
    "### <center>Histograms</center>\n",
    "<br>\n",
    "<center><img src=\"img/plot1.png\" style=\"width: auto;\"/></center>\n",
    "<center><b>Pro-Data Scientist Tip #1:</b> Always check your data distribution first! This is super duper important for statistical analysis like regressions which relies on a set of <a href='https://www.jmp.com/en_us/statistics-knowledge-portal/what-is-regression/simple-linear-regression-assumptions.html' target=_blank>assumptions</a> about the distribution of sample data my dude!</center>"
   ]
  },
  {
   "cell_type": "markdown",
   "metadata": {
    "slideshow": {
     "slide_type": "subslide"
    }
   },
   "source": [
    "### <center>Timeseries</center>\n",
    "<br>\n",
    "<center><img src=\"img/plot2.png\" style=\"width: auto;\"/></center>\n",
    "<center>Woa! PM<sub>10</sub> readings are much higher than PM<sub>2.5</sub>, although they trend in the same direction most of the time. Well, PM<sub>10</sub>, known as coarse particles, are common where dust is stirred up by vehicles on roads. And since the sensor is located facing a <em>dust road</em>, well, there's a probable correlation. That's what we call an <a href='https://stattrek.com/hypothesis-test/hypothesis-testing.aspx' target=_blank>alternative hypothesis</a>, which posits that sample observations are influenced by some non-random cause. Gnarly.</center>"
   ]
  },
  {
   "cell_type": "markdown",
   "metadata": {
    "slideshow": {
     "slide_type": "subslide"
    }
   },
   "source": [
    "### <center>Play to your strenghts! Data is a means to an end: explore, ask questions, relate quantitative evidence with your own day-to-day qualitativde observations! Start simple and make your life miserable by getting better.</center><br>\n",
    "<center>\n",
    "    <div style=\"max-height:500px;max-width:600px;overflow:auto;float:center\">\n",
    "<a href='https://xkcd.com/2048/' target=_blank><img src=\"img/curve_fitting.png\" style=\"width: auto;\"/></a>\n",
    "    </div>\n",
    "</center>"
   ]
  },
  {
   "cell_type": "markdown",
   "metadata": {
    "slideshow": {
     "slide_type": "subslide"
    }
   },
   "source": [
    "## <center>Congradulations! I hope you learned a things or two, and that you'll keep messing around with the open-source ecosystem that's waiting for you to be explored!</center>\n",
    "<br>\n",
    "<div align='center'><img src=\"img/emperor_penguin.gif\" width=\"400\" height=\"250\" /></div>\n",
    "<center><em><a href='https://www.pewtrusts.org/en/research-and-analysis/articles/2016/10/13/winner-in-2016-penguin-election-calls-for-antarctic-marine-reserves' target=_blank>source</a></em></center>"
   ]
  }
 ],
 "metadata": {
  "celltoolbar": "Slideshow",
  "kernelspec": {
   "display_name": "Python 3",
   "language": "python",
   "name": "python3"
  },
  "language_info": {
   "codemirror_mode": {
    "name": "ipython",
    "version": 3
   },
   "file_extension": ".py",
   "mimetype": "text/x-python",
   "name": "python",
   "nbconvert_exporter": "python",
   "pygments_lexer": "ipython3",
   "version": "3.6.8"
  }
 },
 "nbformat": 4,
 "nbformat_minor": 2
}
