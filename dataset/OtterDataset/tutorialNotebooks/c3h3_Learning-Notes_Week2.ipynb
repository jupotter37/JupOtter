{
 "metadata": {
  "name": ""
 },
 "nbformat": 3,
 "nbformat_minor": 0,
 "worksheets": [
  {
   "cells": [
    {
     "cell_type": "code",
     "collapsed": false,
     "input": [],
     "language": "python",
     "metadata": {},
     "outputs": []
    },
    {
     "cell_type": "code",
     "collapsed": false,
     "input": [],
     "language": "python",
     "metadata": {},
     "outputs": []
    },
    {
     "cell_type": "code",
     "collapsed": false,
     "input": [],
     "language": "python",
     "metadata": {},
     "outputs": []
    },
    {
     "cell_type": "code",
     "collapsed": false,
     "input": [],
     "language": "python",
     "metadata": {},
     "outputs": []
    },
    {
     "cell_type": "code",
     "collapsed": false,
     "input": [],
     "language": "python",
     "metadata": {},
     "outputs": []
    },
    {
     "cell_type": "markdown",
     "metadata": {},
     "source": [
      "## Hw1: write Huffman Encoder & Decoder ...\n",
      "\n",
      "-  ### [Ref] http://rosettacode.org/wiki/Huffman_coding#Python\n",
      "-  ### [Ref] http://www.youtube.com/watch?v=73cTUcv3-oI\n",
      "-  ### [Ref] http://stackoverflow.com/questions/11587044/how-can-i-create-a-tree-for-huffman-encoding-and-decoding\n",
      "-  ### [ipynb] http://nbviewer.ipython.org/github/yoavram/CS1001.py/blob/master/recitation11.ipynb\n",
      "-  ### [ipynb] http://nbviewer.ipython.org/github/dolaameng/tutorials/blob/master/word2vec-abc/poc/Huffman%20Tree.ipynb\n",
      "-  ### [ipynb] https://github.com/dolaameng/tutorials/tree/master/word2vec-abc\n",
      "-  ### [Ref] http://google-opensource.blogspot.sg/2013/08/learning-meaning-behind-words.html\n",
      "-  ### [Ref] http://codereview.stackexchange.com/questions/4290/is-there-a-better-way-to-implement-this-huffman-algorithm-in-python\n",
      "\n"
     ]
    },
    {
     "cell_type": "code",
     "collapsed": false,
     "input": [],
     "language": "python",
     "metadata": {},
     "outputs": []
    },
    {
     "cell_type": "markdown",
     "metadata": {},
     "source": [
      "## Hw2: RGB To YCbCr:\n",
      "\n",
      "-   ### http://en.wikipedia.org/wiki/YCbCr"
     ]
    },
    {
     "cell_type": "code",
     "collapsed": false,
     "input": [],
     "language": "python",
     "metadata": {},
     "outputs": []
    },
    {
     "cell_type": "code",
     "collapsed": false,
     "input": [],
     "language": "python",
     "metadata": {},
     "outputs": []
    },
    {
     "cell_type": "code",
     "collapsed": false,
     "input": [],
     "language": "python",
     "metadata": {},
     "outputs": []
    },
    {
     "cell_type": "markdown",
     "metadata": {},
     "source": [
      "## Karhunen-Lo\u00e8ve Transform:\n",
      "\n",
      "-   ### http://dsp-book.narod.ru/TDCH/CH-01.PDF\n",
      "-   ### http://zh.wikipedia.org/wiki/K-L_%E8%BD%89%E6%8F%9B\n",
      "-   ### http://en.wikipedia.org/wiki/Karhunen%E2%80%93Lo%C3%A8ve_theorem\n",
      "-   ### http://link.springer.com/chapter/10.1007%2F978-3-540-72943-3_10\n",
      "-   ### http://www3.nd.edu/~sgordeye/Project1/project1.html\n",
      "\n"
     ]
    },
    {
     "cell_type": "markdown",
     "metadata": {},
     "source": [
      "## If Pictures are Markovian, DCT = KLT \n",
      "[v4] 16:04"
     ]
    },
    {
     "cell_type": "markdown",
     "metadata": {},
     "source": [
      "## DCT has a different periodicity assumption with DFT\n",
      "[v4] 18:39"
     ]
    },
    {
     "cell_type": "code",
     "collapsed": false,
     "input": [],
     "language": "python",
     "metadata": {},
     "outputs": []
    },
    {
     "cell_type": "markdown",
     "metadata": {},
     "source": [
      "## Hw: Write JPEC encoder & decoder !!"
     ]
    },
    {
     "cell_type": "code",
     "collapsed": false,
     "input": [],
     "language": "python",
     "metadata": {},
     "outputs": []
    }
   ],
   "metadata": {}
  }
 ]
}