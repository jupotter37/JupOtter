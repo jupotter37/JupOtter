{
 "cells": [
  {
   "cell_type": "markdown",
   "metadata": {},
   "source": [
    "# 【第２回目　課題１】PyTorchを用いた深層学習 (1): 全結合編\n",
    "\n",
    "第2回目の課題１では，前回の課題1と同じ問題に対して，最も簡単な深層学習フレームワークと言われている<a href=\"https://pytorch.org/\">PyTorch</a>を用いて，取り組んでみましょう．\n",
    "\n",
    "まずは，<a href=\"https://pytorch.org/tutorials/\">PyTorchの公式チュートリアル</a>を見てみましょう．\n",
    "\n",
    "PyTorchには，<a href=\"https://pytorch.org/tutorials/beginner/examples_nn/two_layer_net_nn.html\">Sequential model</a> と \n",
    "<a href=\"https://keras.io/ja/getting-started/functional-api-guide/\">nn.Moduleを継承する</a>，２つの書き方があります．\n",
    "\n",
    "レイヤーを単純につなげていくだけの簡単なモデルの場合は，Sequential model で十分ですので，今回はSequential model を使うことにします．"
   ]
  },
  {
   "cell_type": "markdown",
   "metadata": {},
   "source": [
    "課題としては，前回同様に\n",
    "全結合層＋ReLU＋2乗誤差関数 のネットワークを考えてみます．\n",
    "全結合層を使って任意の関数の近似を行います．"
   ]
  },
  {
   "cell_type": "markdown",
   "metadata": {},
   "source": [
    "最初に Pytorch の実行に必要な モジュールを import します．"
   ]
  },
  {
   "cell_type": "code",
   "execution_count": 57,
   "metadata": {},
   "outputs": [],
   "source": [
    "import numpy as np\n",
    "import time\n",
    "\n",
    "import torch\n",
    "import torch.nn as nn\n",
    "import torch.optim as optim"
   ]
  },
  {
   "cell_type": "markdown",
   "metadata": {},
   "source": [
    "まず，近似する関数の定義を行って，学習データ(training data)，検証データ(validation data)を生成します．データの定義は，基本的に前回と同じですが，学習で使うデータは，<a href=\"https://pytorch.org/docs/stable/tensors.html\">torch.Tensor型</a>にしておく必要があります．ここでは，nupmyから変換する <a href=\"https://pytorch.org/docs/stable/torch.html#torch.from_numpy\">from_numpy関数</a>を利用しています．"
   ]
  },
  {
   "cell_type": "code",
   "execution_count": 64,
   "metadata": {},
   "outputs": [],
   "source": [
    "def f(x):\n",
    "    return 2 ** x + x + 1\n",
    "# (x-1) ** 3 + x ** 2 + x\n",
    "# 0.5*(x-2)**2-5\n",
    "\n",
    "X_train0=np.arange(-10,10,0.01,dtype=np.float32)\n",
    "Y_train0= f(X_train0)\n",
    "# X_train, Y_trainは１次元配列なので，reshapeで ２次元の(n,dim)に変換します．dim=1です．\n",
    "X_train=torch.from_numpy(np.reshape(X_train0,[-1,1])) # , requires_grad=True)   # (2000,)  -> (2000,1)\n",
    "Y_train=torch.from_numpy(np.reshape(Y_train0,[-1,1])) \n",
    "num_train=np.size(X_train0)\n",
    "\n",
    "# テスト用の x も準備します．\n",
    "X_val0=np.arange(-8,8,0.1,dtype=np.float32)\n",
    "Y_val0= f(X_val0)\n",
    "X_val=torch.from_numpy(np.reshape(X_val0,[-1,1]))\n",
    "Y_val=torch.from_numpy(np.reshape(Y_val0,[-1,1]))\n",
    "num_val=np.size(X_val0)"
   ]
  },
  {
   "cell_type": "markdown",
   "metadata": {},
   "source": [
    "次に学習中にグラフを表示するための ShowGraph classを定義しておきます．(Kerasはこれをコールバック関数として指定しますが，PyTorchではユーザが呼び出します．）"
   ]
  },
  {
   "cell_type": "code",
   "execution_count": 60,
   "metadata": {},
   "outputs": [],
   "source": [
    "%matplotlib inline\n",
    "import matplotlib.pyplot as plt\n",
    "from IPython import display\n",
    "\n",
    "# 学習途中のlossなどのグラフ表示を行う ShowGraphを定義\n",
    "# グラフ表示で必要なので，コンストラクタで，model, 最大エポック数 を受け取っておく．\n",
    "# model は，学習途中のパラメータを用いて， y=f(x)を描画するのに必要．\n",
    "class ShowGraph:\n",
    "    def __init__(self,model,max_epoch):\n",
    "        # 表示エリアの設定\n",
    "        self.fig=plt.figure(figsize=(8,4))\n",
    "        self.fig1 = self.fig.add_subplot(121)\n",
    "        self.fig1.axis([0, max_epoch, 0, 50])\n",
    "        self.fig2 = self.fig.add_subplot(122)\n",
    "        self.fig2.axis([-8,8,-10,30])\n",
    "        self.fig1.set_title('loss')\n",
    "        self.fig1.set_ylabel('loss')\n",
    "        self.fig1.set_xlabel('epoch')\n",
    "        self.fig2.set_title('y=0.5(x-2)^2-5')\n",
    "        self.fig2.set_ylabel('f(x)')\n",
    "        self.fig2.set_xlabel('x')\n",
    "        self.model=model\n",
    "        self.max_epoch=max_epoch\n",
    "        self.start=time.time()\n",
    "    \n",
    "    # 学習の最初に呼び出される\n",
    "    def on_train_begin(self, logs={}):\n",
    "        self.losses=[]\n",
    "        self.losses_val=[]\n",
    "        self.n_epoch=[]\n",
    "    \n",
    "    # 各epochの最後に呼び出される\n",
    "    def on_epoch_end(self, epoch, loss, val_loss):\n",
    "        self.n_epoch.append(epoch)\n",
    "        self.losses.append(loss)\n",
    "        self.losses_val.append(val_loss)     \n",
    "        self.loss_val=val_loss\n",
    "    \n",
    "        display.clear_output(wait = True)\n",
    "        self.fig1.plot(self.n_epoch,self.losses,\"b\")\n",
    "        self.fig1.plot(self.n_epoch,self.losses_val,\"r\")\n",
    "        with torch.no_grad():   # backwardは計算しないので，計算途中の値を記録しないようにする．\n",
    "            Y_pred=self.model(X_val)\n",
    "        x0=np.reshape(X_val0,[-1])\n",
    "        y0=torch.reshape(Y_pred,[-1]).detach().cpu().numpy()\n",
    "        self.fig2.plot(x0,y0,\"b\")\n",
    "        self.fig2.plot(x0,f(x0),\"r\")\n",
    "        display.display(self.fig)\n",
    "        if epoch<self.max_epoch-1:\n",
    "            self.fig2.cla()\n",
    "    \n",
    "    # デストラクタ(オブジェクトが消滅時に実行される)  \n",
    "    # グラフが２つ表示されるのを防止．さらに最終val loss値の表示．\n",
    "    def __del__(self):\n",
    "        display.clear_output(wait = True)\n",
    "        print(\"loss_val:\",self.loss_val) \n",
    "        print('Time: ',time.time()-self.start)"
   ]
  },
  {
   "cell_type": "markdown",
   "metadata": {},
   "source": [
    "さあ，いよいよモデルを定義します．\n",
    "前回と違って，当然ですが，全結合層クラスはPyTorchに含まれているので，実装は不要です．\n",
    "PyTorchでは，nn.Linear が fcに相当します．\n",
    "```python\n",
    "  nn.Linear(1,20)\n",
    "```"
   ]
  },
  {
   "cell_type": "markdown",
   "metadata": {},
   "source": [
    "次に学習するネットワークを記述してみましょう．\n",
    "前回は以下のように1x20+ReLU +20x20+ReLU + 20x1 の３層となっていました．\n",
    "```python\n",
    "fc1=Fc(1,20)\n",
    "fc2=Fc(20,20)\n",
    "fc3=Fc(20,1,False)\n",
    "```\n",
    "Sequential モデルでは，nn.Sequential の引数の中に，連続するレイヤーを記述します．\n",
    "nn.Linear が全結合，nn.ReLuがReLU関数です．"
   ]
  },
  {
   "cell_type": "code",
   "execution_count": 61,
   "metadata": {},
   "outputs": [],
   "source": [
    "model = nn.Sequential(\n",
    "    nn.Linear(1, 20),\n",
    "    nn.ReLU(),\n",
    "    nn.Linear(20, 20),\n",
    "    nn.ReLU(),\n",
    "    nn.Linear(20, 1),\n",
    ")"
   ]
  },
  {
   "cell_type": "markdown",
   "metadata": {},
   "source": [
    "モデルを表示するには，\n",
    "```python\n",
    "print(model)\n",
    "```\n",
    "とするだけでOKです．"
   ]
  },
  {
   "cell_type": "code",
   "execution_count": 62,
   "metadata": {
    "scrolled": true
   },
   "outputs": [
    {
     "name": "stdout",
     "output_type": "stream",
     "text": [
      "Sequential(\n",
      "  (0): Linear(in_features=1, out_features=20, bias=True)\n",
      "  (1): ReLU()\n",
      "  (2): Linear(in_features=20, out_features=20, bias=True)\n",
      "  (3): ReLU()\n",
      "  (4): Linear(in_features=20, out_features=1, bias=True)\n",
      ")\n"
     ]
    }
   ],
   "source": [
    "print(model)"
   ]
  },
  {
   "cell_type": "markdown",
   "metadata": {},
   "source": [
    "次に，<a href=\"https://pytorch.org/docs/stable/nn.functional.html#loss-functions\">損失関数(loss function)</a>と <a href=\"https://pytorch.org/docs/stable/optim.html\">最適化手法(optimizer)</a> の準備を行います．\n",
    "\n",
    "損失関数は，回帰問題なので，<a href=\"https://pytorch.org/docs/stable/nn.functional.html#mse-loss\">最小２乗誤差(mean_squared_error)</a> を使います．最適化手法(optimizer)は，<a href=\"https://pytorch.org/docs/stable/optim.html?highlight=sgd#torch.optim.SGD\">標準的な SGD</a>を使います．\n",
    "なお，標準SDGとモーメンタムSDGの区別はありません．momentum rate の指定で区別できます．デフォルトでは，momentum rate=0.0 ですので，標準SDGになります．mometum=0.9 とすれば，一般的なモーメンタムSDGとなります．weight_decay は，Weight Decay という重みの正則化パラメータです．1e-6 など通常は小さい値を指定しますが，最初はweight_decayを使わないことにして 0 としておきます．"
   ]
  },
  {
   "cell_type": "code",
   "execution_count": 49,
   "metadata": {},
   "outputs": [],
   "source": [
    "loss_fn = nn.MSELoss()\n",
    "optimizer = optim.SGD(model.parameters(), lr=0.001, momentum=0.0, weight_decay=0.0)"
   ]
  },
  {
   "cell_type": "markdown",
   "metadata": {},
   "source": [
    "学習を始める前に，モデルとデータをGPUに転送しておきます．これをしないとGPUがあっても，CPU計算となってしまい，時間がかかってしまいます．\n",
    "```python\n",
    "model.to('cuda')\n",
    "``` \n",
    "とします．実際には，GPUが使えるかをチェックして，GPUがあれば，変数deviceに'cuda'を，なければ'cpu'を入れて，model.to(device) とするのが一般的です．('gpu'ではなくて，NVIDIAのGPU演算ライブラリの名称 'cuda'を指定するので，注意が必要です．）\n",
    "\n",
    "PyTorchでは，GPUを使う場合には明示的にGPUにデータやモデルを転送する必要があります．\n",
    "学習モデルをsaveする場合には，CPUに一度GPUからモデルを戻してやる必要があります．\n",
    "この様に，PyTorchでGPUを使う場合には，データやモデルが今，GPU/CPUのどちらにあるか\n",
    "を常に意識する必要があります．\n",
    "\n",
    "(なお，Kerasでは，GPUがあれば自動的にGPUにモデルやデータが転送されて，GPU上で計算が行われますので，ユーザは特にGPU/CPUの区別を気にする必要はありません．）"
   ]
  },
  {
   "cell_type": "code",
   "execution_count": 24,
   "metadata": {},
   "outputs": [],
   "source": [
    "# GPU があれば，GPU にmodelを転送.\n",
    "device = 'cuda' if torch.cuda.is_available() else 'cpu'\n",
    "model = model.to(device)\n",
    "X_train=X_train.to(device)\n",
    "Y_train=Y_train.to(device)\n",
    "X_val=X_val.to(device)\n",
    "Y_val=Y_val.to(device)"
   ]
  },
  {
   "cell_type": "markdown",
   "metadata": {},
   "source": [
    "なお，GPUが複数ある環境では，\n",
    "```python\n",
    "import os\n",
    "os.environ[\"CUDA_VISIBLE_DEVICES\"] = \"1,2\"\n",
    "```\n",
    "として，最初からPyTorchで利用可能なGPUを限定してしまう方法と，\n",
    "```python\n",
    "device='cuda:1' \n",
    "```\n",
    "の様に cuda: の後にGPU ID (0から始まる)を記述する方法があります．\n",
    "\n",
    "他に標準GPUのIDを指定する方法もあります．\n",
    "```python\n",
    "torch.cuda.set_device(3) \n",
    "```\n",
    "とすると，これ以降, 'cuda' が 'cuda:3' と同じになります．\n",
    "\n",
    "torch.cuda.device_count() を使うと利用可能なGPUを表示することができます．\n",
    "最初の方法で環境変数で限定してしまうと指定したGPUの数が表示されますが，\n",
    "他の方法ではシステムの全てのGPU数が表示されます．\n",
    "\n",
    "詳しくは，<a href=\"https://pytorch.org/docs/stable/cuda.html\">torch.cuda</a> のドキュメントを見ましょう．"
   ]
  },
  {
   "cell_type": "code",
   "execution_count": 18,
   "metadata": {},
   "outputs": [
    {
     "data": {
      "text/plain": [
       "2"
      ]
     },
     "execution_count": 18,
     "metadata": {},
     "output_type": "execute_result"
    }
   ],
   "source": [
    "import torch\n",
    "torch.cuda.device_count()"
   ]
  },
  {
   "cell_type": "markdown",
   "metadata": {},
   "source": [
    "いよいよ，学習です．\n",
    "\n",
    "PyTorchでは，Kerasと違って自分で学習ループを書く必要があります．\n",
    "\n",
    "epoch数 と batch_sizeを決めて，(epoch数)×ceil(学習データ数/batch_size)回だけ\n",
    "ループを回してやる必要があります．(ceilは小数点以下切り上げ)\n",
    "\n",
    "学習ループ内では，\n",
    "1. 学習データの順伝搬\n",
    "1. 誤差勾配の逆伝搬\n",
    "1. SGDなどのoptimizerで，重みをupdate\n",
    "の3つの処理が必要です．\n",
    "このために，\n",
    "```python\n",
    "loss = loss_fn(Y_pred, Y_train)\n",
    "optimizer.zero_grad()\n",
    "loss.backward()\n",
    "optimizer.step()\n",
    "```\n",
    "とします．勾配は元の値に加算されるので，optimizer.zero_grad() として，必ず back-propagationの前にクリアしておきます．\n",
    "\n",
    "さらに学習途中の様子を見るために，ここでは，5エポック毎に，\n",
    "学習途中のモデルでテストデータを評価して，そのグラフ(つまり，学習途中の$y=f(x)$)を描画するとともに，training loss, test lossを両方グラフに表示します．"
   ]
  },
  {
   "cell_type": "code",
   "execution_count": 9,
   "metadata": {},
   "outputs": [
    {
     "name": "stdout",
     "output_type": "stream",
     "text": [
      "loss_val: 7.563401222229004\n",
      "Time:  12.081368207931519\n"
     ]
    },
    {
     "data": {
      "image/png": "[encoded data removed]",
      "text/plain": [
       "<Figure size 576x288 with 2 Axes>"
      ]
     },
     "metadata": {
      "needs_background": "light"
     },
     "output_type": "display_data"
    }
   ],
   "source": [
    "num_epoch=350\n",
    "show_graph=ShowGraph(model,num_epoch)\n",
    "show_graph.on_train_begin();\n",
    "\n",
    "for t in range(num_epoch):\n",
    "    Y_pred = model(X_train)\n",
    "\n",
    "    # Compute and print loss.\n",
    "    loss = loss_fn(Y_pred, Y_train)\n",
    "    if t % 5 == 4: # 5epoch毎にグラフを描画\n",
    "        Y_pred = model(X_val)\n",
    "        vloss = loss_fn(Y_pred, Y_val)\n",
    "        show_graph.on_epoch_end(t,loss.item(),vloss.item())\n",
    "\n",
    "    # backwardする前に，必ず一度勾配をクリアする．デフォルトでは勾配は足し算される．\n",
    "    optimizer.zero_grad()\n",
    "    loss.backward()\n",
    "    optimizer.step()\n",
    "\n",
    "del show_graph"
   ]
  },
  {
   "cell_type": "markdown",
   "metadata": {},
   "source": [
    "### 課題1\n",
    "以下の小問の(1)-(2)を解答せよ．\n",
    "(再実行する場合は，モデル定義から下だけ実行すれば大丈夫です．）\n",
    "\n",
    "1. OptimizerをモーメンタムSDG (momentum=0.9), RMSprop, Adamに変更して，ノーマルなSDGとの違いを観察せよ．\n",
    "1. 関数 $f(x)$ を自由に書き換え，実行せよ．2通りの $f(x)$ で試してみよ．"
   ]
  },
  {
   "cell_type": "markdown",
   "metadata": {},
   "source": [
    "### 1\n",
    "    OptimizerをモーメンタムSDG (momentum=0.9), RMSprop, Adamに変更して、ノーマルなSDGと比べて学習曲線が比較的に安定となった。ノーマルなSDGのように学習の途中にLOSSが大幅に上昇することを避けた。\n",
    "### 2\n",
    "    下のセルの示した通りに、2通りのf(x):\n",
    "    f(x) = 2 ** x + x + 1, f(x) = (x-1) *** 3 + x ** 2 + x\n",
    "    で試した。また、OptimizerはRMSpropを用いた。\n"
   ]
  },
  {
   "cell_type": "code",
   "execution_count": 9,
   "metadata": {},
   "outputs": [
    {
     "name": "stdout",
     "output_type": "stream",
     "text": [
      "loss_val: 0.6993033289909363\n",
      "Time:  12.058716773986816\n"
     ]
    },
    {
     "data": {
      "image/png": "[encoded data removed]",
      "text/plain": [
       "<Figure size 576x288 with 2 Axes>"
      ]
     },
     "metadata": {
      "needs_background": "light"
     },
     "output_type": "display_data"
    }
   ],
   "source": [
    "# kadai 1-1 \n",
    "# SGD (momentum=0.9)\n",
    "optimizer = optim.SGD(model.parameters(), lr=0.001, momentum=0.9, weight_decay=0.0)\n",
    "\n",
    "num_epoch=350\n",
    "show_graph=ShowGraph(model,num_epoch)\n",
    "show_graph.on_train_begin();\n",
    "\n",
    "for t in range(num_epoch):\n",
    "    Y_pred = model(X_train)\n",
    "\n",
    "    # Compute and print loss.\n",
    "    loss = loss_fn(Y_pred, Y_train)\n",
    "    if t % 5 == 4: # 5epoch毎にグラフを描画\n",
    "        Y_pred = model(X_val)\n",
    "        vloss = loss_fn(Y_pred, Y_val)\n",
    "        show_graph.on_epoch_end(t,loss.item(),vloss.item())\n",
    "\n",
    "    # backwardする前に，必ず一度勾配をクリアする．デフォルトでは勾配は足し算される．\n",
    "    optimizer.zero_grad()\n",
    "    loss.backward()\n",
    "    optimizer.step()\n",
    "\n",
    "del show_graph"
   ]
  },
  {
   "cell_type": "code",
   "execution_count": 37,
   "metadata": {},
   "outputs": [
    {
     "name": "stdout",
     "output_type": "stream",
     "text": [
      "loss_val: 0.015277494676411152\n",
      "Time:  16.364084482192993\n"
     ]
    },
    {
     "data": {
      "image/png": "[encoded data removed]",
      "text/plain": [
       "<Figure size 576x288 with 2 Axes>"
      ]
     },
     "metadata": {
      "needs_background": "light"
     },
     "output_type": "display_data"
    }
   ],
   "source": [
    "# kadai 1-2\n",
    "optimizer = optim.Rprop(model.parameters(), lr=0.001, etas=(0.5, 1.2), step_sizes=(1e-06, 50))\n",
    "\n",
    "num_epoch=350\n",
    "show_graph=ShowGraph(model,num_epoch)\n",
    "show_graph.on_train_begin();\n",
    "\n",
    "for t in range(num_epoch):\n",
    "    Y_pred = model(X_train)\n",
    "\n",
    "    # Compute and print loss.\n",
    "    loss = loss_fn(Y_pred, Y_train)\n",
    "    if t % 5 == 4: # 5epoch毎にグラフを描画\n",
    "        Y_pred = model(X_val)\n",
    "        vloss = loss_fn(Y_pred, Y_val)\n",
    "        show_graph.on_epoch_end(t,loss.item(),vloss.item())\n",
    "\n",
    "    # backwardする前に，必ず一度勾配をクリアする．デフォルトでは勾配は足し算される．\n",
    "    optimizer.zero_grad()\n",
    "    loss.backward()\n",
    "    optimizer.step()\n",
    "\n",
    "del show_graph"
   ]
  },
  {
   "cell_type": "code",
   "execution_count": 11,
   "metadata": {},
   "outputs": [
    {
     "name": "stdout",
     "output_type": "stream",
     "text": [
      "349\n"
     ]
    }
   ],
   "source": [
    "#??optim"
   ]
  },
  {
   "cell_type": "code",
   "execution_count": 50,
   "metadata": {},
   "outputs": [
    {
     "name": "stdout",
     "output_type": "stream",
     "text": [
      "loss_val: 7.705557823181152\n",
      "Time:  16.056445360183716\n"
     ]
    },
    {
     "data": {
      "image/png": "[encoded data removed]",
      "text/plain": [
       "<Figure size 576x288 with 2 Axes>"
      ]
     },
     "metadata": {
      "needs_background": "light"
     },
     "output_type": "display_data"
    }
   ],
   "source": [
    "# kadai 1-3\n",
    "\n",
    "loss_fn = nn.MSELoss()\n",
    "optimizer = optim.Adam(model.parameters(), lr=0.002, betas=(0.9, 0.999), eps=1e-08, weight_decay=0)\n",
    "\n",
    "num_epoch=350\n",
    "show_graph=ShowGraph(model,num_epoch)\n",
    "show_graph.on_train_begin();\n",
    "\n",
    "for t in range(num_epoch):\n",
    "    Y_pred = model(X_train)\n",
    "\n",
    "    # Compute and print loss.\n",
    "    loss = loss_fn(Y_pred, Y_train)\n",
    "    if t % 5 == 4: # 5epoch毎にグラフを描画\n",
    "        Y_pred = model(X_val)\n",
    "        vloss = loss_fn(Y_pred, Y_val)\n",
    "        show_graph.on_epoch_end(t,loss.item(),vloss.item())\n",
    "\n",
    "    # backwardする前に，必ず一度勾配をクリアする．デフォルトでは勾配は足し算される．\n",
    "    optimizer.zero_grad()\n",
    "    loss.backward()\n",
    "    optimizer.step()\n",
    "\n",
    "del show_graph"
   ]
  },
  {
   "cell_type": "markdown",
   "metadata": {},
   "source": [
    "2."
   ]
  },
  {
   "cell_type": "code",
   "execution_count": 63,
   "metadata": {},
   "outputs": [
    {
     "name": "stdout",
     "output_type": "stream",
     "text": [
      "loss_val: 1.241544485092163\n",
      "Time:  15.638404130935669\n"
     ]
    },
    {
     "data": {
      "image/png": "[encoded data removed]",
      "text/plain": [
       "<Figure size 576x288 with 2 Axes>"
      ]
     },
     "metadata": {
      "needs_background": "light"
     },
     "output_type": "display_data"
    }
   ],
   "source": [
    "# f(x) = (x-1) *** 3 + x ** 2 + x\n",
    "\n",
    "optimizer = optim.Rprop(model.parameters(), lr=0.001, etas=(0.5, 1.2), step_sizes=(1e-06, 50))\n",
    "\n",
    "num_epoch=350\n",
    "show_graph=ShowGraph(model,num_epoch)\n",
    "show_graph.on_train_begin();\n",
    "\n",
    "for t in range(num_epoch):\n",
    "    Y_pred = model(X_train)\n",
    "\n",
    "    # Compute and print loss.\n",
    "    loss = loss_fn(Y_pred, Y_train)\n",
    "    if t % 5 == 4: # 5epoch毎にグラフを描画\n",
    "        Y_pred = model(X_val)\n",
    "        vloss = loss_fn(Y_pred, Y_val)\n",
    "        show_graph.on_epoch_end(t,loss.item(),vloss.item())\n",
    "\n",
    "    # backwardする前に，必ず一度勾配をクリアする．デフォルトでは勾配は足し算される．\n",
    "    optimizer.zero_grad()\n",
    "    loss.backward()\n",
    "    optimizer.step()\n",
    "\n",
    "del show_graph"
   ]
  },
  {
   "cell_type": "code",
   "execution_count": 65,
   "metadata": {},
   "outputs": [
    {
     "name": "stdout",
     "output_type": "stream",
     "text": [
      "loss_val: 1.3768768310546875\n",
      "Time:  15.291290760040283\n"
     ]
    },
    {
     "data": {
      "image/png": "[encoded data removed]",
      "text/plain": [
       "<Figure size 576x288 with 2 Axes>"
      ]
     },
     "metadata": {
      "needs_background": "light"
     },
     "output_type": "display_data"
    }
   ],
   "source": [
    "# f(x) = 2 ** x + x + 1\n",
    "\n",
    "optimizer = optim.Rprop(model.parameters(), lr=0.001, etas=(0.5, 1.2), step_sizes=(1e-06, 50))\n",
    "\n",
    "num_epoch=350\n",
    "show_graph=ShowGraph(model,num_epoch)\n",
    "show_graph.on_train_begin();\n",
    "\n",
    "for t in range(num_epoch):\n",
    "    Y_pred = model(X_train)\n",
    "\n",
    "    # Compute and print loss.\n",
    "    loss = loss_fn(Y_pred, Y_train)\n",
    "    if t % 5 == 4: # 5epoch毎にグラフを描画\n",
    "        Y_pred = model(X_val)\n",
    "        vloss = loss_fn(Y_pred, Y_val)\n",
    "        show_graph.on_epoch_end(t,loss.item(),vloss.item())\n",
    "\n",
    "    # backwardする前に，必ず一度勾配をクリアする．デフォルトでは勾配は足し算される．\n",
    "    optimizer.zero_grad()\n",
    "    loss.backward()\n",
    "    optimizer.step()\n",
    "\n",
    "del show_graph"
   ]
  },
  {
   "cell_type": "code",
   "execution_count": null,
   "metadata": {},
   "outputs": [],
   "source": []
  }
 ],
 "metadata": {
  "kernelspec": {
   "display_name": "Python 3",
   "language": "python",
   "name": "python3"
  },
  "language_info": {
   "codemirror_mode": {
    "name": "ipython",
    "version": 3
   },
   "file_extension": ".py",
   "mimetype": "text/x-python",
   "name": "python",
   "nbconvert_exporter": "python",
   "pygments_lexer": "ipython3",
   "version": "3.7.6"
  }
 },
 "nbformat": 4,
 "nbformat_minor": 2
}
