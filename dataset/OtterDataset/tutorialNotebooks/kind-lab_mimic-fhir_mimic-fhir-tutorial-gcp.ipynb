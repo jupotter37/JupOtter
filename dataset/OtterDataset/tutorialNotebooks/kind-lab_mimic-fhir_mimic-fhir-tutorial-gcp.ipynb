{
 "cells": [
  {
   "cell_type": "markdown",
   "metadata": {},
   "source": [
    "# MIMIC-IV-on-FHIR Google Healthcare API Tutorial\n",
    "This tutorial will walk through using MIMIC-IV-on-FHIR on GCP. The GCP Healthcare API provides the primary features all FHIR servers have.\n",
    "\n",
    "The following features will be explored:\n",
    "- Search with Export\n",
    "  - Search by gender\n",
    "  - Search by condition\n",
    "  - Search by procedure\n",
    "  - Search by medication\n",
    "- Export patient-everything \n"
   ]
  },
  {
   "cell_type": "markdown",
   "metadata": {},
   "source": [
    "## Initial Steps\n",
    "To start the tutorial, the following steps must be completed first:\n",
    "1. Ensure you have the *Healthcare FHIR Resource Reader* role on the MIMIC-IV-on-FHIR datastore (contact the kind-lab group if not set up)\n",
    "2. Create a GCP project <project_name> for use in the tutorial\n",
    "3. Add a storage account to you GCP project\n",
    "    - Create a bucket <bucket_name> \n",
    "    - Set the location of the bucket to \"us-central1\"\n",
    "    - Create a folder <export_folder> where exported resources can be sent\n",
    "4. Run `gcloud auth login` from the cmd to initialize CLI (if not done already)\n",
    "5. Run `gcloud init` from the cmd to set user and project\n",
    "    - Use the <project_name> project you created as default\n",
    "6. Update your `.env` file to have the following:\n",
    "    - export GCP_PROJECT=\"kind-lab\"\n",
    "    - export GCP_BUCKET=<bucket_name>\n",
    "    - export GCP_EXPORT_FOLDER=<export_folder>\n",
    "    - export GCP_LOCATION=\"us-central1\n",
    "    - export GCP_DATASET=\"mimic-iv-fhir-dataset\"\n",
    "    - export GCP_FHIRSTORE=\"mimic-iv-fhir-v2-demo\"\n",
    "\n",
    "\n",
    "NOTE: If you are facing issues exporting, it may be due to the default project not being found. Two things can be attempted:\n",
    "- Run `gcloud auth application-default login` and select your project \n",
    "- OR You can update the following line in the *export_resource_to_storage* function\n",
    "  - storage_client = storage.Client() --> storage_client = storage.Client(project=<project_name>)"
   ]
  },
  {
   "cell_type": "code",
   "execution_count": null,
   "metadata": {},
   "outputs": [],
   "source": [
    "from dotenv import load_dotenv\n",
    "from pathlib import Path\n",
    "import google.auth\n",
    "from google.auth.transport import requests\n",
    "from google.cloud import storage\n",
    "import json\n",
    "import time\n",
    "import os"
   ]
  },
  {
   "cell_type": "markdown",
   "metadata": {},
   "source": [
    "## Environment Variables\n",
    "To run this tutorial a few GCP components need to be set up."
   ]
  },
  {
   "cell_type": "code",
   "execution_count": null,
   "metadata": {},
   "outputs": [],
   "source": [
    "load_dotenv(Path(Path.cwd()).parents[0].parents[0] / '.env')"
   ]
  },
  {
   "cell_type": "code",
   "execution_count": null,
   "metadata": {},
   "outputs": [],
   "source": [
    "# Fixed kind-lab variables\n",
    "GCP_PROJECT = os.getenv('GCP_PROJECT')\n",
    "GCP_LOCATION = os.getenv('GCP_LOCATION')\n",
    "GCP_DATASET = os.getenv('GCP_DATASET')\n",
    "GCP_FHIRSTORE = os.getenv('GCP_FHIRSTORE')\n",
    "\n",
    "# Custom variables to configure exporting\n",
    "GCP_BUCKET = os.getenv('GCP_BUCKET')\n",
    "GCP_EXPORT_FOLDER = os.getenv('GCP_EXPORT_FOLDER')\n",
    "\n",
    "credentials, project = google.auth.default()\n",
    "project"
   ]
  },
  {
   "cell_type": "code",
   "execution_count": null,
   "metadata": {},
   "outputs": [],
   "source": [
    "session = requests.AuthorizedSession(credentials)\n",
    "base_url = \"https://healthcare.googleapis.com/v1\"\n",
    "\n",
    "project_url = f'{base_url}/projects/{GCP_PROJECT}/locations/{GCP_LOCATION}'\n",
    "fhir_url = f'{project_url}/datasets/{GCP_DATASET}/fhirStores/{GCP_FHIRSTORE}/fhir'\n",
    "headers = {\"Content-Type\": \"application/fhir+json;charset=utf-8\"}"
   ]
  },
  {
   "cell_type": "markdown",
   "metadata": {},
   "source": [
    "## Support Functions"
   ]
  },
  {
   "cell_type": "code",
   "execution_count": null,
   "metadata": {},
   "outputs": [],
   "source": [
    "# export function \n",
    "# -- write out all the resources to the GCP export folder\n",
    "def export_resources_to_storage(resources, resource_type, criteria, filter, pagenum=1, current_time=None):\n",
    "    rlist = [json.dumps(rsrc['resource']) for rsrc in resources['entry']]\n",
    "    output_bundle = '\\n'.join(rlist)\n",
    "    if current_time is None:\n",
    "        current_time = time.strftime(\"%Y%m%d-%H%M%S\")\n",
    "\n",
    "    storage_client = storage.Client()\n",
    "    bucket = storage_client.get_bucket(GCP_BUCKET)\n",
    "    filename = f\"{GCP_EXPORT_FOLDER}/search/{current_time}-{resource_type}-{criteria}-{filter}/{pagenum}.ndjson\"\n",
    "    blob = bucket.blob(filename)\n",
    "    blob.upload_from_string(output_bundle)\n",
    "\n",
    "    link_info = [\n",
    "        rsrc for rsrc in resources['link'] if rsrc['relation'] == 'next'\n",
    "    ]\n",
    "    if len(link_info) > 0:\n",
    "        pagenum = pagenum + 1\n",
    "        response = session.get(link_info[0]['url'], headers=headers)\n",
    "        new_resources = response.json()\n",
    "        export_resources_to_storage(new_resources, resource_type, criteria, filter, pagenum, current_time)\n",
    "    print(f'Exported resources to {filename}')\n",
    "    return filename\n",
    "\n",
    "def count_patients(resources):\n",
    "    patients = [pat for pat in resources['entry'] if pat['resource']['resourceType']=='Patient']\n",
    "    return len(patients)\n",
    "\n",
    "def get_linked_patients(resources):\n",
    "    patients = [pat['resource'] for pat in resources['entry'] if pat['resource']['resourceType']=='Patient']\n",
    "    return patients\n",
    "\n",
    "# print function\n",
    "# -- simple summary statement with the number of resources with the metrics\n",
    "# -- statement will say: X resources have Y criteria!\n",
    "def print_search_results(resources, resource_type, criteria, filter):\n",
    "    total_num = resources['total']\n",
    "    patients = [pat for pat in resources['entry'] if pat['resource']['resourceType']=='Patient']\n",
    "    msg = f'SUMMARY RESULTS: {total_num} {resource_type} resources have {resource_type}.{criteria} equal to {filter}'\n",
    "    if len(patients) > 0:\n",
    "        msg = f'{msg}. {len(patients)} Patient(s) linked with {resource_type} resources'\n",
    "    print(msg)\n",
    "\n",
    "def resource_handling(resources, resource_type, criteria, filter):   \n",
    "    print_search_results(resources, resource_type, criteria, filter)\n",
    "    if export_flag: \n",
    "        export_resources_to_storage(resources, resource_type, criteria, filter)"
   ]
  },
  {
   "cell_type": "markdown",
   "metadata": {},
   "source": [
    "## Search Resources\n",
    "FHIR has provided extensive capabilities to search the resources and the relations between resources. The following examples were created to demonstrate the search functionality on MIMIC-IV-on-FHIR:\n",
    "- Search all Patients by gender\n",
    "- Search all Conditions by a code\n",
    "- Search all Procedures by a code\n",
    "- Search all Medicaiton by a code\n",
    "\n",
    "All searches have the added `_include` parameter to return the associated patient to the primary resource.\n",
    "\n",
    "A summary print statement will be output for each search, with the option of exporting the result to your project bucket dependant on the `export_flag` specified below:"
   ]
  },
  {
   "cell_type": "code",
   "execution_count": null,
   "metadata": {},
   "outputs": [],
   "source": [
    "# Decide if you want all resources exported to Cloud Storage or just get summary print statements\n",
    "export_flag = False"
   ]
  },
  {
   "cell_type": "markdown",
   "metadata": {},
   "source": [
    "### Search By Gender\n",
    "Search for all patients with a certain gender"
   ]
  },
  {
   "cell_type": "code",
   "execution_count": null,
   "metadata": {},
   "outputs": [],
   "source": [
    "resource_type = 'Patient'\n",
    "gender = 'female'\n",
    "\n",
    "resource_url = f'{fhir_url}/{resource_type}/_search?gender={gender}'\n",
    "response = session.post(resource_url, headers=headers)\n",
    "resources = response.json()\n",
    "resource_handling(resources, resource_type, 'gender', gender)"
   ]
  },
  {
   "cell_type": "markdown",
   "metadata": {},
   "source": [
    "### Search by Condition\n",
    "Search for all Condition resources with a certain condition. All associated patients will be returned as well."
   ]
  },
  {
   "cell_type": "code",
   "execution_count": null,
   "metadata": {},
   "outputs": [],
   "source": [
    "resource_type = 'Condition'\n",
    "code = '99591' #Sepsis\n",
    "\n",
    "resource_url = f'{fhir_url}/{resource_type}/_search?code={code}&_include={resource_type}:subject'\n",
    "response = session.post(resource_url, headers=headers)\n",
    "response.raise_for_status()\n",
    "resources = response.json()\n",
    "resource_handling(resources, resource_type, 'code', code)"
   ]
  },
  {
   "cell_type": "markdown",
   "metadata": {},
   "source": [
    "### Search by Procedure\n",
    "Search for a specific Procedure resource with a certain code. All associated patients will be returned as well."
   ]
  },
  {
   "cell_type": "code",
   "execution_count": null,
   "metadata": {},
   "outputs": [],
   "source": [
    "resource_type = 'Procedure'\n",
    "code = '227194' #Extubation\n",
    "\n",
    "resource_url = f'{fhir_url}/{resource_type}?code={code}&_include={resource_type}:subject'\n",
    "response = session.get(resource_url, headers=headers)\n",
    "response.raise_for_status()\n",
    "resources = response.json()\n",
    "resource_handling(resources, resource_type, 'code', code)"
   ]
  },
  {
   "cell_type": "markdown",
   "metadata": {},
   "source": [
    "### Search by Medication\n",
    "Search for a Medication resource by a certain code. All associated patients will be returned as well."
   ]
  },
  {
   "cell_type": "code",
   "execution_count": null,
   "metadata": {},
   "outputs": [],
   "source": [
    "resource_type = 'MedicationAdministration'\n",
    "code = 'NACLFLUSH' #Extubation\n",
    "\n",
    "resource_url = f'{fhir_url}/{resource_type}/_search?medicationCodeableConcept.coding.code={code}'\n",
    "response = session.post(resource_url, headers=headers)\n",
    "response.raise_for_status()\n",
    "resources = response.json()\n",
    "resource_handling(resources, resource_type, 'code', code)"
   ]
  },
  {
   "cell_type": "markdown",
   "metadata": {},
   "source": [
    "## Export patient-everything\n",
    "A patient-everything export allows you to get patient with all the user specified resources. \n",
    "- The export will be sent to your project bucket under the *patient-everything* folder\n",
    "- The resources output with the patient can be specified as any valid FHIR resource type "
   ]
  },
  {
   "cell_type": "code",
   "execution_count": null,
   "metadata": {},
   "outputs": [],
   "source": [
    "GCP_PATIENT_EVERYTHING_FOLDER = f'patient-everything/bundles-{time.strftime(\"%Y%m%d-%H%M%S\")}'"
   ]
  },
  {
   "cell_type": "code",
   "execution_count": null,
   "metadata": {},
   "outputs": [],
   "source": [
    "# Support functions\n",
    "def get_resource_ids(fhir_url, resource_type):\n",
    "    resource_url = f'{fhir_url}/{resource_type}/_search?_elements=id'\n",
    "    response = session.post(resource_url, headers=headers)\n",
    "    response.raise_for_status()\n",
    "    resources = response.json()\n",
    "    patient_ids = [ entry['resource']['id'] for entry in resources['entry']]\n",
    "    return patient_ids\n",
    "\n",
    "def send_patient_everything(export_url, headers, patient_id, page_num=1):\n",
    "    response = session.get(export_url, headers=headers)\n",
    "    response.raise_for_status()\n",
    "    resp_fhir = response.json()\n",
    "\n",
    "    if 'error' in resp_fhir:\n",
    "        print('ERROR IN RESPONSE')\n",
    "    elif resp_fhir['resourceType'] == 'OperationOutcome':\n",
    "        print(resp_fhir['issue'][0])\n",
    "    elif  ((resp_fhir['resourceType'] == 'Bundle') and ('link' in resp_fhir)):\n",
    "        filename = export_bundle_to_storage(resp_fhir, patient_id, page_num)\n",
    "        print(f'Stored file: {filename}')\n",
    "        link_info = [\n",
    "            resp for resp in resp_fhir['link'] if resp['relation'] == 'next'\n",
    "        ]\n",
    "        if len(link_info) > 0:\n",
    "            send_patient_everything(\n",
    "                link_info[0]['url'], headers, patient_id, page_num + 1\n",
    "            )\n",
    "    else:\n",
    "        filename = export_bundle_to_storage(resp_fhir, patient_id, page_num)\n",
    "        print(f'Stored file: {filename}')\n",
    "\n",
    "\n",
    "    return resources\n",
    "\n",
    "def export_bundle_to_storage(resp_fhir, patient_id, page_num):\n",
    "    bundle = resp_fhir\n",
    "\n",
    "    storage_client = storage.Client()\n",
    "    bucket = storage_client.get_bucket(GCP_BUCKET)\n",
    "    filename = f\"{GCP_PATIENT_EVERYTHING_FOLDER}/patient-{patient_id}-page{page_num}\"\n",
    "    blob = bucket.blob(filename)\n",
    "    blob.upload_from_string(json.dumps(bundle))\n",
    "    return filename"
   ]
  },
  {
   "cell_type": "code",
   "execution_count": null,
   "metadata": {},
   "outputs": [],
   "source": [
    "# Export patient-everything\n",
    "\n",
    "resource_type = 'Patient'\n",
    "output_resource_types = 'Patient,Encounter,Condition,Procedure' # resource types to output\n",
    "num_patients = 1\n",
    "count = 100 # how many resources per bundle page\n",
    "\n",
    "patient_list = get_resource_ids(fhir_url, resource_type)\n",
    "patient_list\n",
    "\n",
    "if num_patients > len(patient_list):\n",
    "    num_patients = len(patient_list)\n",
    "for idx in range(0,num_patients):\n",
    "    patient_id = patient_list[idx]\n",
    "    export_url = f'{fhir_url}/Patient/{patient_id}/$everything?_count={count}&_type={output_resource_types}'\n",
    "    print(export_url)\n",
    "    resources = send_patient_everything(export_url, headers, patient_id)"
   ]
  }
 ],
 "metadata": {
  "interpreter": {
   "hash": "cc120b1e18bb4a5f2e2642a03748ea27e23f9ca213fbd8a1e99c84606e813ff8"
  },
  "kernelspec": {
   "display_name": "Python 3.9.12 ('mimic-fhir')",
   "language": "python",
   "name": "python3"
  },
  "language_info": {
   "codemirror_mode": {
    "name": "ipython",
    "version": 3
   },
   "file_extension": ".py",
   "mimetype": "text/x-python",
   "name": "python",
   "nbconvert_exporter": "python",
   "pygments_lexer": "ipython3",
   "version": "3.9.12"
  },
  "orig_nbformat": 4
 },
 "nbformat": 4,
 "nbformat_minor": 2
}
