{
 "cells": [
  {
   "cell_type": "markdown",
   "id": "93b55261-c68d-427f-98fa-13c0e12beeac",
   "metadata": {},
   "source": [
    "# CNN autoencoder: training and visualization\n",
    "## Tutor: Pavlo Bilous (MPL)"
   ]
  },
  {
   "cell_type": "markdown",
   "id": "9cc16f0a-60a2-41bd-ac34-564621efe2d6",
   "metadata": {},
   "source": [
    "[![Open In Colab](https://colab.research.google.com/assets/colab-badge.svg)](https://colab.research.google.com/github/FlorianMarquardt/machine-learning-for-physicists/blob/master/2024/04_tutorial_cnn_visual.ipynb)"
   ]
  },
  {
   "cell_type": "markdown",
   "id": "14a6f6a5-3408-4114-ae1e-9dfe7ea490b0",
   "metadata": {},
   "source": [
    "## 0. Imports"
   ]
  },
  {
   "cell_type": "code",
   "execution_count": null,
   "id": "eda4f0e6-079d-47a6-a438-0f0d02a442b1",
   "metadata": {},
   "outputs": [],
   "source": [
    "import jax\n",
    "import jax.numpy as jnp\n",
    "\n",
    "import matplotlib.pyplot as plt"
   ]
  },
  {
   "cell_type": "markdown",
   "id": "b392741d-a7c5-432d-a9b3-815d5c8b8e34",
   "metadata": {},
   "source": [
    "## 1. What are our images\n",
    "\n",
    "Image 64 x 64 shows a square covering coordinates (-1, 1) x (-1, 1)  \n",
    "with a circle of radius \"r\" centered at (xc, yc)"
   ]
  },
  {
   "cell_type": "markdown",
   "id": "a205add4-5646-4076-8f8b-ab3c5c11ca28",
   "metadata": {},
   "source": [
    "### 1.a) Pixels (fixed once and forever):"
   ]
  },
  {
   "cell_type": "code",
   "execution_count": null,
   "id": "896d5595-eda4-4cb6-9d51-0387def409fb",
   "metadata": {},
   "outputs": [],
   "source": [
    "pix = 64\n",
    "\n",
    "x_edges = jnp.linspace(-1, 1, pix + 1)\n",
    "x_middles = (x_edges[1:] + x_edges[:-1]) / 2\n",
    "\n",
    "y_middles = x_middles\n",
    "\n",
    "xx, yy = jnp.meshgrid(x_middles, y_middles)"
   ]
  },
  {
   "cell_type": "markdown",
   "id": "3870d968-7ca1-48a9-a275-aad20da01f5f",
   "metadata": {},
   "source": [
    "### 1.b) Drawing circles:"
   ]
  },
  {
   "cell_type": "code",
   "execution_count": null,
   "id": "b43ba058-9fd3-4c5e-96cf-d69fc0741f82",
   "metadata": {},
   "outputs": [],
   "source": [
    "def draw_circle(r, xc, yc):\n",
    "    where_circle = (xx - xc)**2 + (yy - yc)**2 <= r**2\n",
    "    cc = where_circle.astype(float)\n",
    "    return cc"
   ]
  },
  {
   "cell_type": "code",
   "execution_count": null,
   "id": "ae69f8c1-07b9-4eb9-bf8d-ad46f3b1b4c8",
   "metadata": {},
   "outputs": [],
   "source": [
    "cc = draw_circle(0.7, 0.2, 0.5)"
   ]
  },
  {
   "cell_type": "code",
   "execution_count": null,
   "id": "e76cca0a-6d14-4348-a624-933647678b6c",
   "metadata": {},
   "outputs": [],
   "source": [
    "fig, ax = plt.subplots(figsize=(3, 3))\n",
    "ax.imshow(cc);\n",
    "plt.gca().invert_yaxis();\n",
    "ax.set_xlabel(\"Pixel index\");\n",
    "ax.set_ylabel(\"Pixel index\");"
   ]
  },
  {
   "cell_type": "markdown",
   "id": "1b693737-b85c-4136-9179-02aefb7709c2",
   "metadata": {},
   "source": [
    "## 2. Data generation"
   ]
  },
  {
   "cell_type": "markdown",
   "id": "b88395f2-a60a-40f4-881e-83889385a822",
   "metadata": {},
   "source": [
    "1 batch = 32 images  \n",
    "with circles of random radius (between 0 and 1)  \n",
    "and with canters placed randomly in the square"
   ]
  },
  {
   "cell_type": "markdown",
   "id": "f0f96510-be63-4e23-8ae5-7c72451fea78",
   "metadata": {},
   "source": [
    "### 2.a) Batch creation:"
   ]
  },
  {
   "cell_type": "code",
   "execution_count": null,
   "id": "4dac5247-c658-44af-ad3b-027295f6695e",
   "metadata": {},
   "outputs": [],
   "source": [
    "draw_circles = jax.vmap(draw_circle)"
   ]
  },
  {
   "cell_type": "code",
   "execution_count": null,
   "id": "f7935f9c-2324-4c46-ba18-12e56d10e4eb",
   "metadata": {},
   "outputs": [],
   "source": [
    "def create_data_batch(key, batch_size=32):\n",
    "    \n",
    "    key, subkey = jax.random.split(key)\n",
    "    xc = jax.random.uniform(subkey, shape=(batch_size,), minval=-1.0, maxval=1.0)\n",
    "\n",
    "    key, subkey = jax.random.split(key)\n",
    "    yc = jax.random.uniform(subkey, shape=(batch_size,), minval=-1.0, maxval=1.0)\n",
    "\n",
    "    key, subkey = jax.random.split(key)\n",
    "    r = jax.random.uniform(subkey, shape=(batch_size,), minval=0.0, maxval=1.0)\n",
    "    \n",
    "    return draw_circles(r, xc, yc)"
   ]
  },
  {
   "cell_type": "code",
   "execution_count": null,
   "id": "6f192b18-c0e9-46d2-a50b-52ef46f15161",
   "metadata": {},
   "outputs": [],
   "source": [
    "key = jax.random.key(seed=1234)\n",
    "key, subkey = jax.random.split(key)\n",
    "\n",
    "data_batch = create_data_batch(subkey)"
   ]
  },
  {
   "cell_type": "markdown",
   "id": "4cc29788-8a33-4584-8d96-78ef60809aa3",
   "metadata": {},
   "source": [
    "### 2.b) Batch visualization"
   ]
  },
  {
   "cell_type": "code",
   "execution_count": null,
   "id": "9a4c963f-bdaf-4573-b8db-ee99f8c2b010",
   "metadata": {},
   "outputs": [],
   "source": [
    "def plot_images(data_batch, label, how_many=5): \n",
    "    print(f\">>> {label}:\")\n",
    "    \n",
    "    fig, axes = plt.subplots(1, how_many, sharey=True, subplot_kw=dict(box_aspect=1))\n",
    "    \n",
    "    for ax, cc in zip(axes, data_batch):\n",
    "        im = ax.imshow(cc);\n",
    "        ax.set_xticks([]);\n",
    "        ax.set_yticks([]);\n",
    "\n",
    "    fig.colorbar(im, ax=axes.ravel().tolist(), fraction=0.01, pad=0.04);\n",
    "    \n",
    "    plt.gca().invert_yaxis();"
   ]
  },
  {
   "cell_type": "code",
   "execution_count": null,
   "id": "c0892108-e16e-4a69-9891-cf7afde27675",
   "metadata": {},
   "outputs": [],
   "source": [
    "plot_images(data_batch, \"Batch example\")"
   ]
  },
  {
   "cell_type": "markdown",
   "id": "272472c1-5bfa-42ac-a4f0-cadc7aca25a1",
   "metadata": {},
   "source": [
    "### 2.c) Pack into a generator:"
   ]
  },
  {
   "cell_type": "code",
   "execution_count": null,
   "id": "4c50a77a-904b-46cb-9215-ec47e0b1acc3",
   "metadata": {},
   "outputs": [],
   "source": [
    "def make_batch_generator(key):\n",
    "    while True:\n",
    "        key, subkey = jax.random.split(key)\n",
    "        data_batch = create_data_batch(subkey)\n",
    "        data_batch = data_batch[..., jnp.newaxis]\n",
    "        yield data_batch"
   ]
  },
  {
   "cell_type": "code",
   "execution_count": null,
   "id": "ff91eb36-7a19-498d-bf77-bebe0281ae55",
   "metadata": {},
   "outputs": [],
   "source": [
    "key = jax.random.key(seed=1234)\n",
    "batch_generator = make_batch_generator(key)"
   ]
  },
  {
   "cell_type": "code",
   "execution_count": null,
   "id": "700dc697-2415-46f1-b9d2-39d23ec04e17",
   "metadata": {},
   "outputs": [],
   "source": [
    "data_batch = next(batch_generator)\n",
    "\n",
    "plot_images(data_batch, \"Batch example\")"
   ]
  },
  {
   "cell_type": "markdown",
   "id": "cd2af8db-f939-4953-a189-09fb734bed79",
   "metadata": {},
   "source": [
    "## 3. FLAX neural network"
   ]
  },
  {
   "cell_type": "code",
   "execution_count": null,
   "id": "e82d0616-5af9-4734-9b5a-ca42e0a905a2",
   "metadata": {
    "id": "r-Eqc2Q1RANN"
   },
   "outputs": [],
   "source": [
    "import flax.linen as nn\n",
    "import optax\n",
    "from flax.training.train_state import TrainState"
   ]
  },
  {
   "cell_type": "markdown",
   "id": "41894aa1-b611-4d66-8a4a-14466ae7a50f",
   "metadata": {
    "id": "5o54f6yoR2lH"
   },
   "source": [
    "### 3.a) Define and initialize model"
   ]
  },
  {
   "cell_type": "code",
   "execution_count": null,
   "id": "1bca1bf8-33c7-46e3-9c0a-8be6c163cf14",
   "metadata": {
    "id": "m0TIshG2MZQE"
   },
   "outputs": [],
   "source": [
    "class MyConvModel(nn.Module):\n",
    "\n",
    "    @nn.compact\n",
    "    def __call__(self, x):\n",
    "        x = nn.Conv(10, (3, 3), padding='same')(x)\n",
    "        x = nn.sigmoid(x)\n",
    "        x = nn.Conv(1, (3, 3), padding='same')(x)\n",
    "        return x"
   ]
  },
  {
   "cell_type": "code",
   "execution_count": null,
   "id": "5a16d004-cde7-4935-b87b-4c772fbfa11d",
   "metadata": {},
   "outputs": [],
   "source": [
    "my_conv_model = MyConvModel()"
   ]
  },
  {
   "cell_type": "code",
   "execution_count": null,
   "id": "b109d52d-2329-41f6-be29-fda355531b86",
   "metadata": {
    "id": "XEXBy-wiTAwX"
   },
   "outputs": [],
   "source": [
    "my_conv_model = MyConvModel()\n",
    "\n",
    "dummy_input = jnp.ones(shape=(pix, pix, 1))\n",
    "\n",
    "key, subkey = jax.random.split(key)\n",
    "params = my_conv_model.init(subkey, dummy_input)[\"params\"]"
   ]
  },
  {
   "cell_type": "code",
   "execution_count": null,
   "id": "5ff62a52-4385-4a13-a354-277bb75f556d",
   "metadata": {},
   "outputs": [],
   "source": [
    "column_params = dict(overflow=\"fold\")\n",
    "\n",
    "table = my_conv_model.tabulate(jax.random.key(0), dummy_input, column_kwargs=column_params)\n",
    "\n",
    "print( table )"
   ]
  },
  {
   "cell_type": "markdown",
   "id": "6ebbc24f-3fc6-4075-af2f-538da9fa57fc",
   "metadata": {
    "id": "K55WvN1tSAoM"
   },
   "source": [
    "### 3.b) Create optimizer"
   ]
  },
  {
   "cell_type": "code",
   "execution_count": null,
   "id": "915fcf72-15aa-4546-87ed-b2ac7e6d0a53",
   "metadata": {
    "id": "jiniqAYSQ9q_"
   },
   "outputs": [],
   "source": [
    "optimizer = optax.adam(learning_rate=0.005)"
   ]
  },
  {
   "cell_type": "markdown",
   "id": "ae957661-4fbf-4d8b-bec7-beb2b24b8f05",
   "metadata": {
    "id": "R-5QstERRzpG"
   },
   "source": [
    "### 3.c) Bundle all together in one \"state\""
   ]
  },
  {
   "cell_type": "code",
   "execution_count": null,
   "id": "ba6e8d17-df82-4446-a428-c8d7b8d28787",
   "metadata": {
    "id": "pasI10PqOpnh"
   },
   "outputs": [],
   "source": [
    "state = TrainState.create(apply_fn=my_conv_model.apply, params=params, tx=optimizer)"
   ]
  },
  {
   "cell_type": "markdown",
   "id": "3f22e9be-e133-4099-a4a2-da1ab876ca30",
   "metadata": {
    "id": "Oef5iOkrXMR5"
   },
   "source": [
    "### 3.d) Write training / prediction functions"
   ]
  },
  {
   "cell_type": "code",
   "execution_count": null,
   "id": "c9159710-3231-4c40-9377-4c8b8e3630da",
   "metadata": {
    "id": "TriWYeCSltkl"
   },
   "outputs": [],
   "source": [
    "def predict_on_batch(state, X):\n",
    "    return state.apply_fn({'params': state.params}, X)"
   ]
  },
  {
   "cell_type": "code",
   "execution_count": null,
   "id": "6cab454a-33dc-432a-894b-cf5ec7008cce",
   "metadata": {
    "id": "TwhrzmMPUnW_"
   },
   "outputs": [],
   "source": [
    "@jax.jit\n",
    "def train_on_batch(state, X, y):\n",
    "\n",
    "    def loss_fn(params):\n",
    "        y_pred = state.apply_fn({'params': params}, X)\n",
    "        sq_dev = (y_pred - y)**2\n",
    "        mean_sq_dev = sq_dev.mean()\n",
    "        return mean_sq_dev\n",
    "\n",
    "    val_and_grad_fn = jax.value_and_grad(loss_fn)\n",
    "    loss, grads = val_and_grad_fn(state.params)\n",
    "    state = state.apply_gradients(grads=grads)\n",
    "    return loss, state"
   ]
  },
  {
   "cell_type": "markdown",
   "id": "511cf0c8-0e09-43be-b1c8-e2ee2b54df51",
   "metadata": {},
   "source": [
    "## 4. Try it out"
   ]
  },
  {
   "cell_type": "markdown",
   "id": "2785a5fd-dd86-4582-ab57-0252d4843834",
   "metadata": {},
   "source": [
    "### 4.a) Prediction by untrained NN"
   ]
  },
  {
   "cell_type": "code",
   "execution_count": null,
   "id": "b1cdab78-4564-40e6-8e41-45de79dc4da9",
   "metadata": {},
   "outputs": [],
   "source": [
    "X = next(batch_generator)\n",
    "y_true = X"
   ]
  },
  {
   "cell_type": "code",
   "execution_count": null,
   "id": "11bcfcc2-33da-4290-b5b5-c432cde838f4",
   "metadata": {},
   "outputs": [],
   "source": [
    "y_predicted = predict_on_batch(state, X)"
   ]
  },
  {
   "cell_type": "code",
   "execution_count": null,
   "id": "9eb80c95-0cc7-4c46-b373-65f7d0c75dd7",
   "metadata": {},
   "outputs": [],
   "source": [
    "plot_images(y_true, \"True images\")"
   ]
  },
  {
   "cell_type": "code",
   "execution_count": null,
   "id": "8de2a983-715d-40e7-85c7-24f23810ffe3",
   "metadata": {},
   "outputs": [],
   "source": [
    "plot_images(y_predicted, \"Predicted images (untrained)\")"
   ]
  },
  {
   "cell_type": "markdown",
   "id": "6952d20e-cf8a-4824-aae7-697b54c545cb",
   "metadata": {},
   "source": [
    "### 4.b) Training"
   ]
  },
  {
   "cell_type": "code",
   "execution_count": null,
   "id": "ae48d2f1-6bee-45b8-86b7-300dc8b27d52",
   "metadata": {},
   "outputs": [],
   "source": [
    "losses = []\n",
    "\n",
    "for i in range(100):\n",
    "    \n",
    "    X = next(batch_generator)\n",
    "    y_true = X\n",
    "    \n",
    "    loss, state = train_on_batch(state, X, y_true)\n",
    "\n",
    "    losses.append(loss)\n",
    "\n",
    "    if (i + 1) % 10 == 0:\n",
    "        print(f\"Batch: {i + 1}\\tloss = {loss:.3e}\")"
   ]
  },
  {
   "cell_type": "markdown",
   "id": "924b2091-7f76-40c6-955d-6bbd6dd03147",
   "metadata": {},
   "source": [
    "### 4.c) Prediction by trained NN"
   ]
  },
  {
   "cell_type": "code",
   "execution_count": null,
   "id": "2c3ddeb4-f73d-4dcf-be79-1454e22a59bb",
   "metadata": {},
   "outputs": [],
   "source": [
    "X = next(batch_generator)\n",
    "y_true = X\n",
    "\n",
    "y_predicted = predict_on_batch(state, X)\n",
    "\n",
    "plot_images(y_predicted, \"Predicted images (trained):\")"
   ]
  },
  {
   "cell_type": "markdown",
   "id": "4d296906-7f95-4463-896d-d007c73b4cd7",
   "metadata": {},
   "source": [
    "## 5. Conv. autoencoder"
   ]
  },
  {
   "cell_type": "markdown",
   "id": "4b957775-e106-4974-b2ba-3b2d7c8244ad",
   "metadata": {},
   "source": [
    "### 5.a) Create the NN setup (repetition)"
   ]
  },
  {
   "cell_type": "code",
   "execution_count": null,
   "id": "4ffa2bff-b0a7-4032-b16a-510188864554",
   "metadata": {},
   "outputs": [],
   "source": [
    "def up_sample_2d(x, factors):\n",
    "    new_shape = list(x.shape)\n",
    "    \n",
    "    new_shape[-3] *= factors[0]\n",
    "    new_shape[-2] *= factors[1]\n",
    "    \n",
    "    x = jax.image.resize(x, shape=new_shape, method='bilinear')\n",
    "\n",
    "    return x"
   ]
  },
  {
   "cell_type": "code",
   "execution_count": null,
   "id": "54948f91-40fe-4df3-b796-5d233d25fe33",
   "metadata": {
    "id": "m0TIshG2MZQE"
   },
   "outputs": [],
   "source": [
    "class ConvAutoenc(nn.Module):\n",
    "\n",
    "    @nn.compact\n",
    "    def __call__(self, x):\n",
    "        x = nn.Conv(4, (5, 5), padding='same')(x)\n",
    "        x = nn.sigmoid(x)\n",
    "        x = nn.pooling.avg_pool(x, (4, 4), strides=(4, 4))\n",
    "        \n",
    "        x = nn.Conv(4, (5, 5), padding='same')(x)\n",
    "        x = nn.sigmoid(x)\n",
    "        x = nn.pooling.avg_pool(x, (2, 2), strides=(2, 2))\n",
    "\n",
    "        x = nn.Conv(1, (3, 3), padding='same')(x)\n",
    "        x = nn.sigmoid(x)\n",
    "        \n",
    "        x = up_sample_2d(x, (2, 2))\n",
    "        x = nn.Conv(4, (5, 5), padding='same')(x)\n",
    "        x = nn.sigmoid(x)\n",
    "        \n",
    "        x = up_sample_2d(x, (4, 4))\n",
    "        x = nn.Conv(4, (5, 5), padding='same')(x)\n",
    "        x = nn.sigmoid(x)\n",
    "        \n",
    "        x = nn.Conv(1, (3, 3), padding='same')(x)       \n",
    "        \n",
    "        return x"
   ]
  },
  {
   "cell_type": "code",
   "execution_count": null,
   "id": "4d0f79ec-c287-427b-a0f6-b9e3c92bdaf7",
   "metadata": {},
   "outputs": [],
   "source": [
    "conv_autoenc = ConvAutoenc()\n",
    "\n",
    "dummy_input = jnp.ones(shape=(pix, pix, 1))\n",
    "\n",
    "key, subkey = jax.random.split(key)\n",
    "params = conv_autoenc.init(subkey, dummy_input)[\"params\"]"
   ]
  },
  {
   "cell_type": "code",
   "execution_count": null,
   "id": "0dde776d-abcb-4a6c-b141-ac0fb0ab876b",
   "metadata": {
    "id": "XEXBy-wiTAwX"
   },
   "outputs": [],
   "source": [
    "column_params = dict(overflow=\"fold\")\n",
    "\n",
    "table = conv_autoenc.tabulate(jax.random.key(0), dummy_input, column_kwargs=column_params)\n",
    "\n",
    "print( table )"
   ]
  },
  {
   "cell_type": "code",
   "execution_count": null,
   "id": "e666c94b-5084-4394-91a7-26848898c65f",
   "metadata": {
    "id": "jiniqAYSQ9q_"
   },
   "outputs": [],
   "source": [
    "optimizer = optax.adam(learning_rate=0.005)"
   ]
  },
  {
   "cell_type": "code",
   "execution_count": null,
   "id": "ed96fa3f-94fb-4425-9697-3f8edc87294f",
   "metadata": {
    "id": "pasI10PqOpnh"
   },
   "outputs": [],
   "source": [
    "state = TrainState.create(apply_fn=conv_autoenc.apply, params=params, tx=optimizer)"
   ]
  },
  {
   "cell_type": "markdown",
   "id": "3b4e7757-f5a8-4d48-9817-cc98a821d25c",
   "metadata": {},
   "source": [
    "### 5.b) Training"
   ]
  },
  {
   "cell_type": "code",
   "execution_count": null,
   "id": "b5da143d-eadd-4d72-9b60-911409d8d17c",
   "metadata": {},
   "outputs": [],
   "source": [
    "losses = []"
   ]
  },
  {
   "cell_type": "code",
   "execution_count": null,
   "id": "d47f867d-464c-4363-8d3f-951e648a8da5",
   "metadata": {},
   "outputs": [],
   "source": [
    "for i in range(2000):\n",
    "    \n",
    "    X = next(batch_generator)\n",
    "    y_true = X\n",
    "    \n",
    "    loss, state = train_on_batch(state, X, y_true)\n",
    "\n",
    "    losses.append(loss)\n",
    "\n",
    "    if (i + 1) % 100 == 0:\n",
    "        print(f\"Batch: {i + 1}\\tloss = {loss:.3e}\")"
   ]
  },
  {
   "cell_type": "code",
   "execution_count": null,
   "id": "b7c9d548-7d6f-4c8f-b1ae-0a72ec417212",
   "metadata": {},
   "outputs": [],
   "source": [
    "fig, ax = plt.subplots(figsize=(5, 3))\n",
    "\n",
    "ax.plot(losses);\n",
    "ax.set_yscale(\"log\");\n",
    "\n",
    "ax.set_xlabel(\"Batch\");\n",
    "ax.set_ylabel(\"Loss\");"
   ]
  },
  {
   "cell_type": "markdown",
   "id": "2384aed8-1316-4884-977a-6802a60e3e5a",
   "metadata": {},
   "source": [
    "### 5.c) Visualization of reproduced images"
   ]
  },
  {
   "cell_type": "code",
   "execution_count": null,
   "id": "b1c75faa-21a9-4cb2-804c-497b1f3996c4",
   "metadata": {},
   "outputs": [],
   "source": [
    "X = next(batch_generator)\n",
    "y_true = X\n",
    "\n",
    "y_predicted = predict_on_batch(state, X)"
   ]
  },
  {
   "cell_type": "code",
   "execution_count": null,
   "id": "f5b71b1f-e4e9-47ea-b782-0eb84c843d9e",
   "metadata": {},
   "outputs": [],
   "source": [
    "plot_images(y_true, \"True images\")"
   ]
  },
  {
   "cell_type": "code",
   "execution_count": null,
   "id": "7aa8d7de-e099-4ada-a57a-ccb9346436f4",
   "metadata": {},
   "outputs": [],
   "source": [
    "plot_images(y_predicted, \"Predicted images (trained):\")"
   ]
  },
  {
   "cell_type": "markdown",
   "id": "e8f55db0-eb08-4e21-994c-220547930853",
   "metadata": {},
   "source": [
    "### 5.d) Visualization of encoded images"
   ]
  },
  {
   "cell_type": "code",
   "execution_count": null,
   "id": "de10b072-949a-45cd-a415-9a2baede34e0",
   "metadata": {},
   "outputs": [],
   "source": [
    "class Encoder(nn.Module):\n",
    "\n",
    "    @nn.compact\n",
    "    def __call__(self, x):\n",
    "        \n",
    "        x = nn.Conv(4, (5, 5), padding='same')(x)\n",
    "        x = nn.sigmoid(x)\n",
    "        x = nn.pooling.avg_pool(x, (4, 4), strides=(4, 4))\n",
    "        \n",
    "        x = nn.Conv(4, (5, 5), padding='same')(x)\n",
    "        x = nn.sigmoid(x)\n",
    "        x = nn.pooling.avg_pool(x, (2, 2), strides=(2, 2))\n",
    "\n",
    "        x = nn.Conv(1, (3, 3), padding='same')(x)\n",
    "        x = nn.sigmoid(x)\n",
    "        \n",
    "        return x\n",
    "    \n",
    "encoder = Encoder()"
   ]
  },
  {
   "cell_type": "code",
   "execution_count": null,
   "id": "eb2bacd5-c51c-4d44-a0ac-3580f5007a47",
   "metadata": {},
   "outputs": [],
   "source": [
    "column_params = dict(overflow=\"fold\")\n",
    "dummy_input = jnp.ones(shape=(pix, pix, 1))\n",
    "table = encoder.tabulate(jax.random.key(0), dummy_input, column_kwargs=column_params)\n",
    "print( table )"
   ]
  },
  {
   "cell_type": "code",
   "execution_count": null,
   "id": "34e285c2-99c2-40a7-a847-35fd81867439",
   "metadata": {},
   "outputs": [],
   "source": [
    "params_enc = {key: value for key, value in state.params.items() if int(key[-1]) < 3}"
   ]
  },
  {
   "cell_type": "code",
   "execution_count": null,
   "id": "3a647173-fe6d-4adf-b0e9-8699db7dd3e3",
   "metadata": {},
   "outputs": [],
   "source": [
    "encoded_img = encoder.apply({'params': params_enc}, X)"
   ]
  },
  {
   "cell_type": "code",
   "execution_count": null,
   "id": "6760ee4b-30df-42ef-bde7-cc17f1c9c200",
   "metadata": {},
   "outputs": [],
   "source": [
    "plot_images(encoded_img, \"Encoded images\")"
   ]
  },
  {
   "cell_type": "code",
   "execution_count": null,
   "id": "82146263-8e73-4bce-a534-6ed5e07faf62",
   "metadata": {},
   "outputs": [],
   "source": []
  },
  {
   "cell_type": "code",
   "execution_count": null,
   "id": "550a61c8-85ca-4996-968d-77b2d3592106",
   "metadata": {},
   "outputs": [],
   "source": []
  }
 ],
 "metadata": {
  "kernelspec": {
   "display_name": "Python 3 (ipykernel)",
   "language": "python",
   "name": "python3"
  },
  "language_info": {
   "codemirror_mode": {
    "name": "ipython",
    "version": 3
   },
   "file_extension": ".py",
   "mimetype": "text/x-python",
   "name": "python",
   "nbconvert_exporter": "python",
   "pygments_lexer": "ipython3",
   "version": "3.10.9"
  }
 },
 "nbformat": 4,
 "nbformat_minor": 5
}
