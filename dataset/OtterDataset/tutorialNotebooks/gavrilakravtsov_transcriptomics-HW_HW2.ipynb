{
  "cells": [
    {
      "cell_type": "markdown",
      "metadata": {
        "id": "rL3ZW1M8xQH9"
      },
      "source": [
        "# Workshop #4. Statistical analysis of bulk RNA-seq\n",
        "\n",
        "### Daniil Bobrovskiy, tg @daniilbobrovskiy"
      ]
    },
    {
      "cell_type": "markdown",
      "metadata": {
        "id": "Jtt0KSP0l8wD"
      },
      "source": [
        "## Introduction"
      ]
    },
    {
      "cell_type": "markdown",
      "metadata": {
        "id": "Ww5p7gHzJDkh"
      },
      "source": [
        "In this tutorial, we will analyze the bulk RNA-seq data from Walker et al., Scientific reports 2019 ([10.1038/s41598-019-56955-1](https://doi.org/10.1038/s41598-019-56955-1)). The goal of this study was to evaluate the changes in gene expression that occur during fibroblast to myofibroblast transdifferentiation in lungs. This transdifferentiation is known to occur in asthma and other lung diseases. Since it is also known that TGF-β can cause this process, the authors treated a culture of human lung fibroblasts with TGF-β to induce transdifferentiation.\n",
        "\n",
        "The data consists of 12 samples from the cultured cells: 6 treated and 6 untreated with TGF-β. In each group, 3 samples were sequenced at day 1 after seeding cells and treating with TGF-β, while 3 other samples - at day 10."
      ]
    },
    {
      "cell_type": "markdown",
      "source": [
        "Let's download the count matrix, which was already preprocessed by the authors, from the Gene Expression Omnibus (GEO)."
      ],
      "metadata": {
        "id": "k5QzNyaDzftr"
      }
    },
    {
      "cell_type": "markdown",
      "metadata": {
        "id": "MKBc_1DHfirY"
      },
      "source": [
        "It is important to note that a proper way to analyse RNA-seq data is to quantify the level of expression of different transcripts separately. After that, if the relative abundance of different isoforms is not of primary interest, the data can be aggregated to the gene-wise level, taking isoform lengths into account.\n",
        "\n",
        "There is an amazing tool to perform this aggregation, no matter which transcript quantification tool you have used. It is an R library **tximport**, which **you should always use in your RNA-seq analysis**. Its tutorial tells you how to import quantification results from different tools (salmon/kallisto/RSEM/...) and how to pass tximport resuts into downstream libraries for differential expression analysis (edgeR/DESeq2/limma-voom): https://bioconductor.org/packages/release/bioc/vignettes/tximport/inst/doc/tximport.html."
      ]
    },
    {
      "cell_type": "markdown",
      "source": [
        "However, the authors of the paper have simply calculated the counts for different genes and we will have to use this data in our tutorial."
      ],
      "metadata": {
        "id": "QH3l6_kqzvqI"
      }
    },
    {
      "cell_type": "code",
      "execution_count": 1,
      "metadata": {
        "colab": {
          "base_uri": "https://localhost:8080/"
        },
        "id": "9eHFZPutvINj",
        "outputId": "27b08c8c-1346-443d-a943-80438b1239a5"
      },
      "outputs": [
        {
          "output_type": "stream",
          "name": "stdout",
          "text": [
            "--2024-07-14 13:02:44--  https://ftp.ncbi.nlm.nih.gov/geo/series/GSE110nnn/GSE110021/suppl/GSE110021%5Fcounts.Aug2015.txt.gz\n",
            "Resolving ftp.ncbi.nlm.nih.gov (ftp.ncbi.nlm.nih.gov)... 130.14.250.31, 130.14.250.10, 130.14.250.11, ...\n",
            "Connecting to ftp.ncbi.nlm.nih.gov (ftp.ncbi.nlm.nih.gov)|130.14.250.31|:443... connected.\n",
            "HTTP request sent, awaiting response... 200 OK\n",
            "Length: 1067815 (1.0M) [application/x-gzip]\n",
            "Saving to: ‘GSE110021_counts.Aug2015.txt.gz’\n",
            "\n",
            "GSE110021_counts.Au 100%[===================>]   1.02M  6.42MB/s    in 0.2s    \n",
            "\n",
            "2024-07-14 13:02:44 (6.42 MB/s) - ‘GSE110021_counts.Aug2015.txt.gz’ saved [1067815/1067815]\n",
            "\n"
          ]
        }
      ],
      "source": [
        "# download data\n",
        "!wget https://ftp.ncbi.nlm.nih.gov/geo/series/GSE110nnn/GSE110021/suppl/GSE110021%5Fcounts.Aug2015.txt.gz\n",
        "\n",
        "# unzip count matrices\n",
        "!gunzip GSE110021_counts.Aug2015.txt.gz"
      ]
    },
    {
      "cell_type": "markdown",
      "metadata": {
        "id": "z_t8XyUVmB3v"
      },
      "source": [
        "Now, we will install and load the required packages. One of them is Rpy2, which allows us to work in R from GoogleColab. Actually, it even allows to pass the objects between Python and R, but we won't use this feature in this tutorial."
      ]
    },
    {
      "cell_type": "code",
      "execution_count": 2,
      "metadata": {
        "id": "86cZD7TuCJxG",
        "colab": {
          "base_uri": "https://localhost:8080/"
        },
        "outputId": "a77eda92-7c35-4ad3-9e4a-1747f6c10eec"
      },
      "outputs": [
        {
          "output_type": "stream",
          "name": "stdout",
          "text": [
            "deb http://security.ubuntu.com/ubuntu focal-security main\n",
            "Get:1 http://security.ubuntu.com/ubuntu jammy-security InRelease [129 kB]\n",
            "Get:2 http://security.ubuntu.com/ubuntu focal-security InRelease [128 kB]\n",
            "Get:3 https://cloud.r-project.org/bin/linux/ubuntu jammy-cran40/ InRelease [3,626 B]\n",
            "Hit:4 https://developer.download.nvidia.com/compute/cuda/repos/ubuntu2204/x86_64  InRelease\n",
            "Hit:5 http://archive.ubuntu.com/ubuntu jammy InRelease\n",
            "Ign:6 https://r2u.stat.illinois.edu/ubuntu jammy InRelease\n",
            "Get:7 https://r2u.stat.illinois.edu/ubuntu jammy Release [5,713 B]\n",
            "Get:8 https://r2u.stat.illinois.edu/ubuntu jammy Release.gpg [793 B]\n",
            "Get:9 http://archive.ubuntu.com/ubuntu jammy-updates InRelease [128 kB]\n",
            "Hit:10 https://ppa.launchpadcontent.net/deadsnakes/ppa/ubuntu jammy InRelease\n",
            "Get:11 https://ppa.launchpadcontent.net/graphics-drivers/ppa/ubuntu jammy InRelease [24.3 kB]\n",
            "Hit:12 http://archive.ubuntu.com/ubuntu jammy-backports InRelease\n",
            "Hit:13 https://ppa.launchpadcontent.net/ubuntugis/ppa/ubuntu jammy InRelease\n",
            "Get:14 http://security.ubuntu.com/ubuntu jammy-security/main amd64 Packages [1,998 kB]\n",
            "Get:15 http://security.ubuntu.com/ubuntu jammy-security/universe amd64 Packages [1,127 kB]\n",
            "Get:16 http://security.ubuntu.com/ubuntu focal-security/main amd64 Packages [3,776 kB]\n",
            "Get:17 https://r2u.stat.illinois.edu/ubuntu jammy/main all Packages [8,184 kB]\n",
            "Get:18 https://r2u.stat.illinois.edu/ubuntu jammy/main amd64 Packages [2,545 kB]\n",
            "Get:19 http://archive.ubuntu.com/ubuntu jammy-updates/universe amd64 Packages [1,410 kB]\n",
            "Get:20 https://ppa.launchpadcontent.net/graphics-drivers/ppa/ubuntu jammy/main amd64 Packages [48.1 kB]\n",
            "Get:21 http://archive.ubuntu.com/ubuntu jammy-updates/main amd64 Packages [2,263 kB]\n",
            "Fetched 21.8 MB in 9s (2,325 kB/s)\n",
            "Reading package lists... Done\n",
            "W: Skipping acquire of configured file 'main/source/Sources' as repository 'https://r2u.stat.illinois.edu/ubuntu jammy InRelease' does not seem to provide it (sources.list entry misspelt?)\n",
            "Reading package lists... Done\n",
            "Building dependency tree... Done\n",
            "Reading state information... Done\n",
            "The following additional packages will be installed:\n",
            "  gir1.2-harfbuzz-0.0 libblkid-dev libblkid1 libcairo-script-interpreter2 libffi-dev libglib2.0-dev\n",
            "  libglib2.0-dev-bin libgmp-dev libgmpxx4ldbl libgraphite2-dev libharfbuzz-gobject0\n",
            "  libharfbuzz-icu0 libice-dev liblzo2-2 libmount-dev libmount1 libpixman-1-dev libselinux1-dev\n",
            "  libsepol-dev libsm-dev libxcb-render0-dev libxcb-shm0-dev\n",
            "Suggested packages:\n",
            "  libcairo2-doc libgirepository1.0-dev libglib2.0-doc libgdk-pixbuf2.0-bin | libgdk-pixbuf2.0-dev\n",
            "  libxml2-utils gmp-doc libgmp10-doc libmpfr-dev libgraphite2-utils libice-doc cryptsetup-bin\n",
            "  libsm-doc\n",
            "The following NEW packages will be installed:\n",
            "  gir1.2-harfbuzz-0.0 libblkid-dev libcairo-script-interpreter2 libcairo2-dev libffi-dev\n",
            "  libfribidi-dev libglib2.0-dev libglib2.0-dev-bin libgmp-dev libgmp3-dev libgmpxx4ldbl\n",
            "  libgraphite2-dev libharfbuzz-dev libharfbuzz-gobject0 libharfbuzz-icu0 libice-dev liblzo2-2\n",
            "  libmount-dev libpixman-1-dev libselinux1-dev libsepol-dev libsm-dev libssl1.1 libxcb-render0-dev\n",
            "  libxcb-shm0-dev\n",
            "The following packages will be upgraded:\n",
            "  libblkid1 libmount1\n",
            "2 upgraded, 25 newly installed, 0 to remove and 43 not upgraded.\n",
            "Need to get 6,435 kB of archives.\n",
            "After this operation, 29.4 MB of additional disk space will be used.\n",
            "Get:1 http://security.ubuntu.com/ubuntu focal-security/main amd64 libssl1.1 amd64 1.1.1f-1ubuntu2.22 [1,323 kB]\n",
            "Get:2 http://archive.ubuntu.com/ubuntu jammy-updates/main amd64 libblkid1 amd64 2.37.2-4ubuntu3.4 [103 kB]\n",
            "Get:3 http://archive.ubuntu.com/ubuntu jammy-updates/main amd64 libmount1 amd64 2.37.2-4ubuntu3.4 [122 kB]\n",
            "Get:4 http://archive.ubuntu.com/ubuntu jammy-updates/main amd64 gir1.2-harfbuzz-0.0 amd64 2.7.4-1ubuntu3.1 [31.6 kB]\n",
            "Get:5 http://archive.ubuntu.com/ubuntu jammy/main amd64 liblzo2-2 amd64 2.10-2build3 [53.7 kB]\n",
            "Get:6 http://archive.ubuntu.com/ubuntu jammy/main amd64 libcairo-script-interpreter2 amd64 1.16.0-5ubuntu2 [62.0 kB]\n",
            "Get:7 http://archive.ubuntu.com/ubuntu jammy/main amd64 libice-dev amd64 2:1.0.10-1build2 [51.4 kB]\n",
            "Get:8 http://archive.ubuntu.com/ubuntu jammy/main amd64 libsm-dev amd64 2:1.2.3-1build2 [18.1 kB]\n",
            "Get:9 http://archive.ubuntu.com/ubuntu jammy-updates/main amd64 libpixman-1-dev amd64 0.40.0-1ubuntu0.22.04.1 [280 kB]\n",
            "Get:10 http://archive.ubuntu.com/ubuntu jammy/main amd64 libxcb-render0-dev amd64 1.14-3ubuntu3 [19.6 kB]\n",
            "Get:11 http://archive.ubuntu.com/ubuntu jammy/main amd64 libxcb-shm0-dev amd64 1.14-3ubuntu3 [6,848 B]\n",
            "Get:12 http://archive.ubuntu.com/ubuntu jammy/main amd64 libffi-dev amd64 3.4.2-4 [63.7 kB]\n",
            "Get:13 http://archive.ubuntu.com/ubuntu jammy-updates/main amd64 libglib2.0-dev-bin amd64 2.72.4-0ubuntu2.3 [117 kB]\n",
            "Get:14 http://archive.ubuntu.com/ubuntu jammy-updates/main amd64 libblkid-dev amd64 2.37.2-4ubuntu3.4 [185 kB]\n",
            "Get:15 http://archive.ubuntu.com/ubuntu jammy/main amd64 libsepol-dev amd64 3.3-1build1 [378 kB]\n",
            "Get:16 http://archive.ubuntu.com/ubuntu jammy/main amd64 libselinux1-dev amd64 3.3-1build2 [158 kB]\n",
            "Get:17 http://archive.ubuntu.com/ubuntu jammy-updates/main amd64 libmount-dev amd64 2.37.2-4ubuntu3.4 [14.5 kB]\n",
            "Get:18 http://archive.ubuntu.com/ubuntu jammy-updates/main amd64 libglib2.0-dev amd64 2.72.4-0ubuntu2.3 [1,743 kB]\n",
            "Get:19 http://archive.ubuntu.com/ubuntu jammy/main amd64 libcairo2-dev amd64 1.16.0-5ubuntu2 [692 kB]\n",
            "Get:20 http://archive.ubuntu.com/ubuntu jammy-updates/main amd64 libfribidi-dev amd64 1.0.8-2ubuntu3.1 [64.8 kB]\n",
            "Get:21 http://archive.ubuntu.com/ubuntu jammy/main amd64 libgmpxx4ldbl amd64 2:6.2.1+dfsg-3ubuntu1 [9,580 B]\n",
            "Get:22 http://archive.ubuntu.com/ubuntu jammy/main amd64 libgmp-dev amd64 2:6.2.1+dfsg-3ubuntu1 [337 kB]\n",
            "Get:23 http://archive.ubuntu.com/ubuntu jammy/main amd64 libgmp3-dev amd64 2:6.2.1+dfsg-3ubuntu1 [1,818 B]\n",
            "Get:24 http://archive.ubuntu.com/ubuntu jammy/main amd64 libgraphite2-dev amd64 1.3.14-1build2 [14.7 kB]\n",
            "Get:25 http://archive.ubuntu.com/ubuntu jammy-updates/main amd64 libharfbuzz-icu0 amd64 2.7.4-1ubuntu3.1 [5,886 B]\n",
            "Get:26 http://archive.ubuntu.com/ubuntu jammy-updates/main amd64 libharfbuzz-gobject0 amd64 2.7.4-1ubuntu3.1 [26.0 kB]\n",
            "Get:27 http://archive.ubuntu.com/ubuntu jammy-updates/main amd64 libharfbuzz-dev amd64 2.7.4-1ubuntu3.1 [553 kB]\n",
            "Fetched 6,435 kB in 1s (4,605 kB/s)\n",
            "Preconfiguring packages ...\n",
            "(Reading database ... 123576 files and directories currently installed.)\n",
            "Preparing to unpack .../libblkid1_2.37.2-4ubuntu3.4_amd64.deb ...\n",
            "Unpacking libblkid1:amd64 (2.37.2-4ubuntu3.4) over (2.37.2-4ubuntu3) ...\n",
            "Setting up libblkid1:amd64 (2.37.2-4ubuntu3.4) ...\n",
            "(Reading database ... 123576 files and directories currently installed.)\n",
            "Preparing to unpack .../libmount1_2.37.2-4ubuntu3.4_amd64.deb ...\n",
            "Unpacking libmount1:amd64 (2.37.2-4ubuntu3.4) over (2.37.2-4ubuntu3) ...\n",
            "Setting up libmount1:amd64 (2.37.2-4ubuntu3.4) ...\n",
            "Selecting previously unselected package libssl1.1:amd64.\n",
            "(Reading database ... 123576 files and directories currently installed.)\n",
            "Preparing to unpack .../00-libssl1.1_1.1.1f-1ubuntu2.22_amd64.deb ...\n",
            "Unpacking libssl1.1:amd64 (1.1.1f-1ubuntu2.22) ...\n",
            "Selecting previously unselected package gir1.2-harfbuzz-0.0:amd64.\n",
            "Preparing to unpack .../01-gir1.2-harfbuzz-0.0_2.7.4-1ubuntu3.1_amd64.deb ...\n",
            "Unpacking gir1.2-harfbuzz-0.0:amd64 (2.7.4-1ubuntu3.1) ...\n",
            "Selecting previously unselected package liblzo2-2:amd64.\n",
            "Preparing to unpack .../02-liblzo2-2_2.10-2build3_amd64.deb ...\n",
            "Unpacking liblzo2-2:amd64 (2.10-2build3) ...\n",
            "Selecting previously unselected package libcairo-script-interpreter2:amd64.\n",
            "Preparing to unpack .../03-libcairo-script-interpreter2_1.16.0-5ubuntu2_amd64.deb ...\n",
            "Unpacking libcairo-script-interpreter2:amd64 (1.16.0-5ubuntu2) ...\n",
            "Selecting previously unselected package libice-dev:amd64.\n",
            "Preparing to unpack .../04-libice-dev_2%3a1.0.10-1build2_amd64.deb ...\n",
            "Unpacking libice-dev:amd64 (2:1.0.10-1build2) ...\n",
            "Selecting previously unselected package libsm-dev:amd64.\n",
            "Preparing to unpack .../05-libsm-dev_2%3a1.2.3-1build2_amd64.deb ...\n",
            "Unpacking libsm-dev:amd64 (2:1.2.3-1build2) ...\n",
            "Selecting previously unselected package libpixman-1-dev:amd64.\n",
            "Preparing to unpack .../06-libpixman-1-dev_0.40.0-1ubuntu0.22.04.1_amd64.deb ...\n",
            "Unpacking libpixman-1-dev:amd64 (0.40.0-1ubuntu0.22.04.1) ...\n",
            "Selecting previously unselected package libxcb-render0-dev:amd64.\n",
            "Preparing to unpack .../07-libxcb-render0-dev_1.14-3ubuntu3_amd64.deb ...\n",
            "Unpacking libxcb-render0-dev:amd64 (1.14-3ubuntu3) ...\n",
            "Selecting previously unselected package libxcb-shm0-dev:amd64.\n",
            "Preparing to unpack .../08-libxcb-shm0-dev_1.14-3ubuntu3_amd64.deb ...\n",
            "Unpacking libxcb-shm0-dev:amd64 (1.14-3ubuntu3) ...\n",
            "Selecting previously unselected package libffi-dev:amd64.\n",
            "Preparing to unpack .../09-libffi-dev_3.4.2-4_amd64.deb ...\n",
            "Unpacking libffi-dev:amd64 (3.4.2-4) ...\n",
            "Selecting previously unselected package libglib2.0-dev-bin.\n",
            "Preparing to unpack .../10-libglib2.0-dev-bin_2.72.4-0ubuntu2.3_amd64.deb ...\n",
            "Unpacking libglib2.0-dev-bin (2.72.4-0ubuntu2.3) ...\n",
            "Selecting previously unselected package libblkid-dev:amd64.\n",
            "Preparing to unpack .../11-libblkid-dev_2.37.2-4ubuntu3.4_amd64.deb ...\n",
            "Unpacking libblkid-dev:amd64 (2.37.2-4ubuntu3.4) ...\n",
            "Selecting previously unselected package libsepol-dev:amd64.\n",
            "Preparing to unpack .../12-libsepol-dev_3.3-1build1_amd64.deb ...\n",
            "Unpacking libsepol-dev:amd64 (3.3-1build1) ...\n",
            "Selecting previously unselected package libselinux1-dev:amd64.\n",
            "Preparing to unpack .../13-libselinux1-dev_3.3-1build2_amd64.deb ...\n",
            "Unpacking libselinux1-dev:amd64 (3.3-1build2) ...\n",
            "Selecting previously unselected package libmount-dev:amd64.\n",
            "Preparing to unpack .../14-libmount-dev_2.37.2-4ubuntu3.4_amd64.deb ...\n",
            "Unpacking libmount-dev:amd64 (2.37.2-4ubuntu3.4) ...\n",
            "Selecting previously unselected package libglib2.0-dev:amd64.\n",
            "Preparing to unpack .../15-libglib2.0-dev_2.72.4-0ubuntu2.3_amd64.deb ...\n",
            "Unpacking libglib2.0-dev:amd64 (2.72.4-0ubuntu2.3) ...\n",
            "Selecting previously unselected package libcairo2-dev:amd64.\n",
            "Preparing to unpack .../16-libcairo2-dev_1.16.0-5ubuntu2_amd64.deb ...\n",
            "Unpacking libcairo2-dev:amd64 (1.16.0-5ubuntu2) ...\n",
            "Selecting previously unselected package libfribidi-dev:amd64.\n",
            "Preparing to unpack .../17-libfribidi-dev_1.0.8-2ubuntu3.1_amd64.deb ...\n",
            "Unpacking libfribidi-dev:amd64 (1.0.8-2ubuntu3.1) ...\n",
            "Selecting previously unselected package libgmpxx4ldbl:amd64.\n",
            "Preparing to unpack .../18-libgmpxx4ldbl_2%3a6.2.1+dfsg-3ubuntu1_amd64.deb ...\n",
            "Unpacking libgmpxx4ldbl:amd64 (2:6.2.1+dfsg-3ubuntu1) ...\n",
            "Selecting previously unselected package libgmp-dev:amd64.\n",
            "Preparing to unpack .../19-libgmp-dev_2%3a6.2.1+dfsg-3ubuntu1_amd64.deb ...\n",
            "Unpacking libgmp-dev:amd64 (2:6.2.1+dfsg-3ubuntu1) ...\n",
            "Selecting previously unselected package libgmp3-dev:amd64.\n",
            "Preparing to unpack .../20-libgmp3-dev_2%3a6.2.1+dfsg-3ubuntu1_amd64.deb ...\n",
            "Unpacking libgmp3-dev:amd64 (2:6.2.1+dfsg-3ubuntu1) ...\n",
            "Selecting previously unselected package libgraphite2-dev:amd64.\n",
            "Preparing to unpack .../21-libgraphite2-dev_1.3.14-1build2_amd64.deb ...\n",
            "Unpacking libgraphite2-dev:amd64 (1.3.14-1build2) ...\n",
            "Selecting previously unselected package libharfbuzz-icu0:amd64.\n",
            "Preparing to unpack .../22-libharfbuzz-icu0_2.7.4-1ubuntu3.1_amd64.deb ...\n",
            "Unpacking libharfbuzz-icu0:amd64 (2.7.4-1ubuntu3.1) ...\n",
            "Selecting previously unselected package libharfbuzz-gobject0:amd64.\n",
            "Preparing to unpack .../23-libharfbuzz-gobject0_2.7.4-1ubuntu3.1_amd64.deb ...\n",
            "Unpacking libharfbuzz-gobject0:amd64 (2.7.4-1ubuntu3.1) ...\n",
            "Selecting previously unselected package libharfbuzz-dev:amd64.\n",
            "Preparing to unpack .../24-libharfbuzz-dev_2.7.4-1ubuntu3.1_amd64.deb ...\n",
            "Unpacking libharfbuzz-dev:amd64 (2.7.4-1ubuntu3.1) ...\n",
            "Setting up libglib2.0-dev-bin (2.72.4-0ubuntu2.3) ...\n",
            "Setting up libblkid-dev:amd64 (2.37.2-4ubuntu3.4) ...\n",
            "Setting up libharfbuzz-icu0:amd64 (2.7.4-1ubuntu3.1) ...\n",
            "Setting up libpixman-1-dev:amd64 (0.40.0-1ubuntu0.22.04.1) ...\n",
            "Setting up libice-dev:amd64 (2:1.0.10-1build2) ...\n",
            "Setting up libsm-dev:amd64 (2:1.2.3-1build2) ...\n",
            "Setting up libssl1.1:amd64 (1.1.1f-1ubuntu2.22) ...\n",
            "Setting up libfribidi-dev:amd64 (1.0.8-2ubuntu3.1) ...\n",
            "Setting up liblzo2-2:amd64 (2.10-2build3) ...\n",
            "Setting up libharfbuzz-gobject0:amd64 (2.7.4-1ubuntu3.1) ...\n",
            "Setting up libffi-dev:amd64 (3.4.2-4) ...\n",
            "Setting up gir1.2-harfbuzz-0.0:amd64 (2.7.4-1ubuntu3.1) ...\n",
            "Setting up libxcb-shm0-dev:amd64 (1.14-3ubuntu3) ...\n",
            "Setting up libgraphite2-dev:amd64 (1.3.14-1build2) ...\n",
            "Setting up libgmpxx4ldbl:amd64 (2:6.2.1+dfsg-3ubuntu1) ...\n",
            "Setting up libsepol-dev:amd64 (3.3-1build1) ...\n",
            "Setting up libxcb-render0-dev:amd64 (1.14-3ubuntu3) ...\n",
            "Setting up libcairo-script-interpreter2:amd64 (1.16.0-5ubuntu2) ...\n",
            "Setting up libgmp-dev:amd64 (2:6.2.1+dfsg-3ubuntu1) ...\n",
            "Setting up libselinux1-dev:amd64 (3.3-1build2) ...\n",
            "Setting up libgmp3-dev:amd64 (2:6.2.1+dfsg-3ubuntu1) ...\n",
            "Setting up libmount-dev:amd64 (2.37.2-4ubuntu3.4) ...\n",
            "Setting up libglib2.0-dev:amd64 (2.72.4-0ubuntu2.3) ...\n",
            "Processing triggers for libglib2.0-0:amd64 (2.72.4-0ubuntu2.3) ...\n",
            "Processing triggers for libc-bin (2.35-0ubuntu3.4) ...\n",
            "/sbin/ldconfig.real: /usr/local/lib/libtbbmalloc_proxy.so.2 is not a symbolic link\n",
            "\n",
            "/sbin/ldconfig.real: /usr/local/lib/libtbbbind_2_5.so.3 is not a symbolic link\n",
            "\n",
            "/sbin/ldconfig.real: /usr/local/lib/libtbb.so.12 is not a symbolic link\n",
            "\n",
            "/sbin/ldconfig.real: /usr/local/lib/libtbbbind.so.3 is not a symbolic link\n",
            "\n",
            "/sbin/ldconfig.real: /usr/local/lib/libtbbbind_2_0.so.3 is not a symbolic link\n",
            "\n",
            "/sbin/ldconfig.real: /usr/local/lib/libtbbmalloc.so.2 is not a symbolic link\n",
            "\n",
            "Processing triggers for man-db (2.10.2-1) ...\n",
            "Setting up libcairo2-dev:amd64 (1.16.0-5ubuntu2) ...\n",
            "Setting up libharfbuzz-dev:amd64 (2.7.4-1ubuntu3.1) ...\n",
            "Requirement already satisfied: gdown in /usr/local/lib/python3.10/dist-packages (5.1.0)\n",
            "Collecting gdown\n",
            "  Downloading gdown-5.2.0-py3-none-any.whl (18 kB)\n",
            "Requirement already satisfied: beautifulsoup4 in /usr/local/lib/python3.10/dist-packages (from gdown) (4.12.3)\n",
            "Requirement already satisfied: filelock in /usr/local/lib/python3.10/dist-packages (from gdown) (3.15.4)\n",
            "Requirement already satisfied: requests[socks] in /usr/local/lib/python3.10/dist-packages (from gdown) (2.31.0)\n",
            "Requirement already satisfied: tqdm in /usr/local/lib/python3.10/dist-packages (from gdown) (4.66.4)\n",
            "Requirement already satisfied: soupsieve>1.2 in /usr/local/lib/python3.10/dist-packages (from beautifulsoup4->gdown) (2.5)\n",
            "Requirement already satisfied: charset-normalizer<4,>=2 in /usr/local/lib/python3.10/dist-packages (from requests[socks]->gdown) (3.3.2)\n",
            "Requirement already satisfied: idna<4,>=2.5 in /usr/local/lib/python3.10/dist-packages (from requests[socks]->gdown) (3.7)\n",
            "Requirement already satisfied: urllib3<3,>=1.21.1 in /usr/local/lib/python3.10/dist-packages (from requests[socks]->gdown) (2.0.7)\n",
            "Requirement already satisfied: certifi>=2017.4.17 in /usr/local/lib/python3.10/dist-packages (from requests[socks]->gdown) (2024.7.4)\n",
            "Requirement already satisfied: PySocks!=1.5.7,>=1.5.6 in /usr/local/lib/python3.10/dist-packages (from requests[socks]->gdown) (1.7.1)\n",
            "Installing collected packages: gdown\n",
            "  Attempting uninstall: gdown\n",
            "    Found existing installation: gdown 5.1.0\n",
            "    Uninstalling gdown-5.1.0:\n",
            "      Successfully uninstalled gdown-5.1.0\n",
            "Successfully installed gdown-5.2.0\n",
            "Downloading...\n",
            "From (original): https://drive.google.com/uc?id=1XAbJa_suP-WFTKK628oM9EWsV7k-6fI9\n",
            "From (redirected): https://drive.google.com/uc?id=1XAbJa_suP-WFTKK628oM9EWsV7k-6fI9&confirm=t&uuid=1383eca9-bfda-4920-befa-218aae257e8d\n",
            "To: /content/library.tar.gz\n",
            "100% 2.95G/2.95G [00:43<00:00, 68.4MB/s]\n",
            "Downloading...\n",
            "From: https://drive.google.com/uc?id=1Bt4HDrZqFId_7Ph99pSvhfFHxyrV-kaL\n",
            "To: /content/biomart_hg19_ensembl75.tsv\n",
            "100% 22.1M/22.1M [00:00<00:00, 105MB/s]\n",
            "tar: Removing leading `/' from member names\n"
          ]
        }
      ],
      "source": [
        "!echo \"deb http://security.ubuntu.com/ubuntu focal-security main\" | sudo tee /etc/apt/sources.list.d/focal-security.list\n",
        "!apt-get update\n",
        "!apt-get install libgmp3-dev libcairo2-dev libharfbuzz-dev libfribidi-dev libssl1.1\n",
        "\n",
        "!pip install --upgrade gdown\n",
        "!gdown 1XAbJa_suP-WFTKK628oM9EWsV7k-6fI9\n",
        "!gdown 1Bt4HDrZqFId_7Ph99pSvhfFHxyrV-kaL\n",
        "!tar xf library.tar.gz"
      ]
    },
    {
      "cell_type": "code",
      "execution_count": 3,
      "metadata": {
        "id": "p0IYP53LwY5_",
        "colab": {
          "base_uri": "https://localhost:8080/"
        },
        "outputId": "0524dcfd-de34-41a4-adf8-b93735008a59"
      },
      "outputs": [
        {
          "output_type": "stream",
          "name": "stdout",
          "text": [
            "Installing package into ‘/usr/local/lib/R/site-library’\n",
            "(as ‘lib’ is unspecified)\n",
            "trying URL 'https://cran.rstudio.com/src/contrib/statmod_1.5.0.tar.gz'\n",
            "Content type 'application/x-gzip' length 92486 bytes (90 KB)\n",
            "==================================================\n",
            "downloaded 90 KB\n",
            "\n",
            "* installing *source* package ‘statmod’ ...\n",
            "** package ‘statmod’ successfully unpacked and MD5 sums checked\n",
            "** using staged installation\n",
            "** libs\n",
            "using C compiler: ‘gcc (Ubuntu 11.4.0-1ubuntu1~22.04) 11.4.0’\n",
            "using Fortran compiler: ‘GNU Fortran (Ubuntu 11.4.0-1ubuntu1~22.04) 11.4.0’\n",
            "gcc -I\"/usr/share/R/include\" -DNDEBUG       -fpic  -g -O2 -ffile-prefix-map=/build/r-base-avGvPq/r-base-4.4.1=. -fstack-protector-strong -Wformat -Werror=format-security -Wdate-time -D_FORTIFY_SOURCE=2  -c expectedDeviance.c -o expectedDeviance.o\n",
            "gfortran  -fpic  -g -O2 -ffile-prefix-map=/build/r-base-avGvPq/r-base-4.4.1=. -fstack-protector-strong  -c gaussq2.f -o gaussq2.o\n",
            "gcc -I\"/usr/share/R/include\" -DNDEBUG       -fpic  -g -O2 -ffile-prefix-map=/build/r-base-avGvPq/r-base-4.4.1=. -fstack-protector-strong -Wformat -Werror=format-security -Wdate-time -D_FORTIFY_SOURCE=2  -c init.c -o init.o\n",
            "gcc -shared -L/usr/lib/R/lib -Wl,-Bsymbolic-functions -flto=auto -ffat-lto-objects -flto=auto -Wl,-z,relro -o statmod.so expectedDeviance.o gaussq2.o init.o -lgfortran -lm -lquadmath -L/usr/lib/R/lib -lR\n",
            "installing to /usr/local/lib/R/site-library/00LOCK-statmod/00new/statmod/libs\n",
            "** R\n",
            "** data\n",
            "** inst\n",
            "** byte-compile and prepare package for lazy loading\n",
            "** help\n",
            "*** installing help indices\n",
            "** building package indices\n",
            "** testing if installed package can be loaded from temporary location\n",
            "** checking absolute paths in shared objects and dynamic libraries\n",
            "** testing if installed package can be loaded from final location\n",
            "** testing if installed package keeps a record of temporary installation path\n",
            "* DONE (statmod)\n",
            "\n",
            "The downloaded source packages are in\n",
            "\t‘/tmp/RtmpHrOOU6/downloaded_packages’\n",
            "Installing package into ‘/usr/local/lib/R/site-library’\n",
            "(as ‘lib’ is unspecified)\n",
            "also installing the dependencies ‘formatR’, ‘lambda.r’, ‘futile.options’, ‘futile.logger’\n",
            "\n",
            "trying URL 'https://cran.rstudio.com/src/contrib/formatR_1.14.tar.gz'\n",
            "Content type 'application/x-gzip' length 96077 bytes (93 KB)\n",
            "==================================================\n",
            "downloaded 93 KB\n",
            "\n",
            "trying URL 'https://cran.rstudio.com/src/contrib/lambda.r_1.2.4.tar.gz'\n",
            "Content type 'application/x-gzip' length 25666 bytes (25 KB)\n",
            "==================================================\n",
            "downloaded 25 KB\n",
            "\n",
            "trying URL 'https://cran.rstudio.com/src/contrib/futile.options_1.0.1.tar.gz'\n",
            "Content type 'application/x-gzip' length 3919 bytes\n",
            "==================================================\n",
            "downloaded 3919 bytes\n",
            "\n",
            "trying URL 'https://cran.rstudio.com/src/contrib/futile.logger_1.4.3.tar.gz'\n",
            "Content type 'application/x-gzip' length 17456 bytes (17 KB)\n",
            "==================================================\n",
            "downloaded 17 KB\n",
            "\n",
            "trying URL 'https://cran.rstudio.com/src/contrib/VennDiagram_1.7.3.tar.gz'\n",
            "Content type 'application/x-gzip' length 78508 bytes (76 KB)\n",
            "==================================================\n",
            "downloaded 76 KB\n",
            "\n",
            "* installing *source* package ‘formatR’ ...\n",
            "** package ‘formatR’ successfully unpacked and MD5 sums checked\n",
            "** using staged installation\n",
            "** R\n",
            "** inst\n",
            "** byte-compile and prepare package for lazy loading\n",
            "** help\n",
            "*** installing help indices\n",
            "** building package indices\n",
            "** installing vignettes\n",
            "** testing if installed package can be loaded from temporary location\n",
            "** testing if installed package can be loaded from final location\n",
            "** testing if installed package keeps a record of temporary installation path\n",
            "* DONE (formatR)\n",
            "* installing *source* package ‘futile.options’ ...\n",
            "** package ‘futile.options’ successfully unpacked and MD5 sums checked\n",
            "** using staged installation\n",
            "** R\n",
            "** byte-compile and prepare package for lazy loading\n",
            "** help\n",
            "*** installing help indices\n",
            "** building package indices\n",
            "** testing if installed package can be loaded from temporary location\n",
            "** testing if installed package can be loaded from final location\n",
            "** testing if installed package keeps a record of temporary installation path\n",
            "* DONE (futile.options)\n",
            "* installing *source* package ‘lambda.r’ ...\n",
            "** package ‘lambda.r’ successfully unpacked and MD5 sums checked\n",
            "** using staged installation\n",
            "** R\n",
            "** byte-compile and prepare package for lazy loading\n",
            "** help\n",
            "*** installing help indices\n",
            "** building package indices\n",
            "** testing if installed package can be loaded from temporary location\n",
            "** testing if installed package can be loaded from final location\n",
            "** testing if installed package keeps a record of temporary installation path\n",
            "* DONE (lambda.r)\n",
            "* installing *source* package ‘futile.logger’ ...\n",
            "** package ‘futile.logger’ successfully unpacked and MD5 sums checked\n",
            "** using staged installation\n",
            "** R\n",
            "** byte-compile and prepare package for lazy loading\n",
            "** help\n",
            "*** installing help indices\n",
            "** building package indices\n",
            "** testing if installed package can be loaded from temporary location\n",
            "** testing if installed package can be loaded from final location\n",
            "** testing if installed package keeps a record of temporary installation path\n",
            "* DONE (futile.logger)\n",
            "* installing *source* package ‘VennDiagram’ ...\n",
            "** package ‘VennDiagram’ successfully unpacked and MD5 sums checked\n",
            "** using staged installation\n",
            "** R\n",
            "** data\n",
            "** byte-compile and prepare package for lazy loading\n",
            "** help\n",
            "*** installing help indices\n",
            "** building package indices\n",
            "** testing if installed package can be loaded from temporary location\n",
            "** testing if installed package can be loaded from final location\n",
            "** testing if installed package keeps a record of temporary installation path\n",
            "* DONE (VennDiagram)\n",
            "\n",
            "The downloaded source packages are in\n",
            "\t‘/tmp/Rtmp2cVJB9/downloaded_packages’\n"
          ]
        }
      ],
      "source": [
        "%load_ext rpy2.ipython\n",
        "%R .libPaths(\"usr/local/lib/R/site-library/\")\n",
        "!Rscript -e 'install.packages(\"statmod\")'\n",
        "!Rscript -e 'install.packages(\"VennDiagram\")'"
      ]
    },
    {
      "cell_type": "code",
      "execution_count": 4,
      "metadata": {
        "id": "pwViXbtcjIxh"
      },
      "outputs": [],
      "source": [
        "%%R\n",
        "suppressPackageStartupMessages({\n",
        "  library(ggplot2)\n",
        "  library(ggrepel)\n",
        "  library(stringr)\n",
        "  library(dplyr)\n",
        "  library(edgeR)\n",
        "})"
      ]
    },
    {
      "cell_type": "markdown",
      "source": [
        "## Differential expression in edgeR\n",
        "\n",
        "Another preprocessing step that is often done prior to DE analysis is the removal of all non-coding RNAs. If you want to do it, the easiest way is to load the transcript annotations corresponding to your transcriptome/genome versions from BioMart (https://www.ensembl.org/info/data/biomart/index.html). Often, if your data were mapped using not the latest annotation version, you should first go to Ensembl Archive (https://www.ensembl.org/info/website/archives/index.html), find a matching version and open BioMart from there.\n",
        "\n",
        "In BioMart, you should select \"Gene type\" in the desired exported attributes together with the IDs needed to match your data to the resulting table. Once you obtained the table, you can simply filter your dataset to contain only \"protein_coding\" genes.\n",
        "\n",
        "In addition to that, it is often desirable to convert unreadable ENSEMBL IDs to conventional gene names. This can be done by including the \"Gene name\" attribute to the BioMart export."
      ],
      "metadata": {
        "id": "yi3ce_0GM6LP"
      }
    },
    {
      "cell_type": "code",
      "source": [
        "%%R\n",
        "# load data; since the authors didn't merge the lanes, we'll have to do it ourselves\n",
        "counts <- read.table(\"GSE110021_counts.Aug2015.txt\")\n",
        "counts <- data.frame(D1_cont_1=rowSums(select(counts, starts_with(\"D1.noTGFb.1\"))),\n",
        "                     D1_cont_2=rowSums(select(counts, starts_with(\"D1.noTGFb.2\"))),\n",
        "                     D1_cont_3=rowSums(select(counts, starts_with(\"D1.noTGFb.3\"))),\n",
        "                     D1_tgf_1=rowSums(select(counts, starts_with(\"D1.TGFb.1\"))),\n",
        "                     D1_tgf_2=rowSums(select(counts, starts_with(\"D1.TGFb.2\"))),\n",
        "                     D1_tgf_3=rowSums(select(counts, starts_with(\"D1.TGFb.3\"))),\n",
        "                     D20_cont_1=rowSums(select(counts, starts_with(\"D20.noTGFb.1\"))),\n",
        "                     D20_cont_2=rowSums(select(counts, starts_with(\"D20.noTGFb.2\"))),\n",
        "                     D20_cont_3=rowSums(select(counts, starts_with(\"D20.noTGFb.3\"))),\n",
        "                     D20_tgf_1=rowSums(select(counts, starts_with(\"D20.TGFb.1\"))),\n",
        "                     D20_tgf_2=rowSums(select(counts, starts_with(\"D20.TGFb.2\"))),\n",
        "                     D20_tgf_3=rowSums(select(counts, starts_with(\"D20.TGFb.3\"))))"
      ],
      "metadata": {
        "id": "cYfOx8HvsRsD"
      },
      "execution_count": 5,
      "outputs": []
    },
    {
      "cell_type": "markdown",
      "source": [
        "Let's load the table I pre-downloaded from BioMart"
      ],
      "metadata": {
        "id": "YfjwM1enrI2Q"
      }
    },
    {
      "cell_type": "code",
      "source": [
        "%%R\n",
        "biomart <- read.table(\"biomart_hg19_ensembl75.tsv\", sep=\"\\t\", header=TRUE)\n",
        "str(biomart)"
      ],
      "metadata": {
        "colab": {
          "base_uri": "https://localhost:8080/"
        },
        "id": "7o6xw1xTDgVm",
        "outputId": "2342b484-4fe5-47d2-e2df-154f60e13d91"
      },
      "execution_count": 6,
      "outputs": [
        {
          "output_type": "stream",
          "name": "stdout",
          "text": [
            "'data.frame':\t233303 obs. of  7 variables:\n",
            " $ Gene.stable.ID                    : chr  \"ENSG00000261657\" \"ENSG00000261657\" \"ENSG00000261657\" \"ENSG00000261657\" ...\n",
            " $ Gene.stable.ID.version            : chr  \"ENSG00000261657.1\" \"ENSG00000261657.1\" \"ENSG00000261657.1\" \"ENSG00000261657.1\" ...\n",
            " $ Transcript.stable.ID              : chr  \"ENST00000566782\" \"ENST00000562780\" \"ENST00000569579\" \"ENST00000568242\" ...\n",
            " $ Transcript.stable.ID.version      : chr  \"ENST00000566782.1\" \"ENST00000562780.1\" \"ENST00000569579.1\" \"ENST00000568242.1\" ...\n",
            " $ NCBI.gene..formerly.Entrezgene..ID: int  115286 115286 115286 115286 115286 NA NA NA NA 100873766 ...\n",
            " $ Gene.name                         : chr  \"SLC25A26\" \"SLC25A26\" \"SLC25A26\" \"SLC25A26\" ...\n",
            " $ Gene.type                         : chr  \"protein_coding\" \"protein_coding\" \"protein_coding\" \"protein_coding\" ...\n"
          ]
        }
      ]
    },
    {
      "cell_type": "code",
      "source": [
        "%%R\n",
        "protein_coding <- biomart$Gene.type[match(rownames(counts), biomart$NCBI.gene..formerly.Entrezgene..ID)] == \"protein_coding\"\n",
        "protein_coding[is.na(protein_coding)] <- FALSE\n",
        "counts <- counts[protein_coding,]\n",
        "ensembl <- biomart$Gene.stable.ID[match(rownames(counts), biomart$NCBI.gene..formerly.Entrezgene..ID)]\n",
        "symbol <- biomart$Gene.name[match(rownames(counts), biomart$NCBI.gene..formerly.Entrezgene..ID)]\n",
        "str(counts)"
      ],
      "metadata": {
        "colab": {
          "base_uri": "https://localhost:8080/"
        },
        "id": "gqLxY0JfADmC",
        "outputId": "278281eb-9ad5-43ab-9a56-0e41148f8be5"
      },
      "execution_count": 7,
      "outputs": [
        {
          "output_type": "stream",
          "name": "stdout",
          "text": [
            "'data.frame':\t19016 obs. of  12 variables:\n",
            " $ D1_cont_1 : num  0 0 0 3 1394 ...\n",
            " $ D1_cont_2 : num  0 0 0 27 1522 ...\n",
            " $ D1_cont_3 : num  0 0 0 4 1281 ...\n",
            " $ D1_tgf_1  : num  0 0 0 14 954 109 23 9 11 131 ...\n",
            " $ D1_tgf_2  : num  0 0 0 26 1861 ...\n",
            " $ D1_tgf_3  : num  0 0 0 11 920 92 25 4 11 133 ...\n",
            " $ D20_cont_1: num  0 0 0 15 680 113 26 4 20 230 ...\n",
            " $ D20_cont_2: num  0 0 0 32 865 169 26 6 27 329 ...\n",
            " $ D20_cont_3: num  0 0 0 14 999 182 40 11 25 384 ...\n",
            " $ D20_tgf_1 : num  0 0 0 40 1187 ...\n",
            " $ D20_tgf_2 : num  0 0 0 22 681 103 30 4 5 202 ...\n",
            " $ D20_tgf_3 : num  0 0 0 11 700 133 35 3 6 174 ...\n"
          ]
        }
      ]
    },
    {
      "cell_type": "markdown",
      "source": [
        "Let's use principal component analysis to visualize overall differences between our samples"
      ],
      "metadata": {
        "id": "LxDQzxv0rV1R"
      }
    },
    {
      "cell_type": "code",
      "source": [
        "%%R\n",
        "# scale the data\n",
        "counts_scaled <- t(scale(counts))\n",
        "\n",
        "# run PCA\n",
        "pca_result <- prcomp(counts_scaled, center = TRUE, scale. = TRUE)\n",
        "variance_explained <- pca_result$sdev^2 / sum(pca_result$sdev^2) * 100\n",
        "\n",
        "# extract first two PCs\n",
        "scores_df <- data.frame(PC1 = pca_result$x[,1], PC2 = pca_result$x[,2])\n",
        "scores_df$Sample = row.names(scores_df)\n",
        "groups <- str_remove(scores_df$Sample, \"_[0-9]+$\")\n",
        "scores_df$group = groups\n",
        "\n",
        "# plot first two PCs\n",
        "ggplot(scores_df, aes(x = PC1, y = PC2, label = Sample, color = group)) +\n",
        "  geom_point(size=2) +\n",
        "  geom_text_repel(size=5,\n",
        "                  box.padding = 0.5,\n",
        "                  point.padding = 0.5,\n",
        "                  max.overlaps = Inf)+\n",
        "  theme_minimal()+\n",
        "  theme(legend.position = \"none\")+\n",
        "  labs(x=paste(\"PC1 (\", sprintf(\"%.1f\", variance_explained[1]), \"%)\", sep=\"\"),,\n",
        "       y=paste(\"PC2 (\", sprintf(\"%.1f\", variance_explained[2]), \"%)\", sep=\"\"),)"
      ],
      "metadata": {
        "colab": {
          "base_uri": "https://localhost:8080/",
          "height": 497
        },
        "id": "b_YItCFVu8_j",
        "outputId": "a3ab7a82-ecf1-4aaf-cf2d-d6e1a952347c"
      },
      "execution_count": 8,
      "outputs": [
        {
          "output_type": "display_data",
          "data": {
            "image/png": "[encoded data removed]"
          },
          "metadata": {}
        }
      ]
    },
    {
      "cell_type": "markdown",
      "source": [
        "Loading our counts into edgeR and adding information about the groups"
      ],
      "metadata": {
        "id": "uQ-xf1F9rjMm"
      }
    },
    {
      "cell_type": "code",
      "source": [
        "%%R\n",
        "y <- DGEList(counts=counts, group=groups)\n",
        "design <- model.matrix(~0+groups)\n",
        "colnames(design) <- str_remove(colnames(design), \"groups\")\n",
        "design"
      ],
      "metadata": {
        "colab": {
          "base_uri": "https://localhost:8080/"
        },
        "id": "FbuT70lU3lZJ",
        "outputId": "3bd52a5f-c9be-437e-905b-1ca5e505834b"
      },
      "execution_count": null,
      "outputs": [
        {
          "output_type": "stream",
          "name": "stdout",
          "text": [
            "   D1_cont D1_tgf D20_cont D20_tgf\n",
            "1        1      0        0       0\n",
            "2        1      0        0       0\n",
            "3        1      0        0       0\n",
            "4        0      1        0       0\n",
            "5        0      1        0       0\n",
            "6        0      1        0       0\n",
            "7        0      0        1       0\n",
            "8        0      0        1       0\n",
            "9        0      0        1       0\n",
            "10       0      0        0       1\n",
            "11       0      0        0       1\n",
            "12       0      0        0       1\n",
            "attr(,\"assign\")\n",
            "[1] 1 1 1 1\n",
            "attr(,\"contrasts\")\n",
            "attr(,\"contrasts\")$groups\n",
            "[1] \"contr.treatment\"\n",
            "\n"
          ]
        }
      ]
    },
    {
      "cell_type": "markdown",
      "source": [
        "Filtering low-expressed genes"
      ],
      "metadata": {
        "id": "EZDCflQKrqHx"
      }
    },
    {
      "cell_type": "code",
      "source": [
        "%%R\n",
        "keep <- filterByExpr(y, design=design, min.count=10, min.total.count=100, min.prop=0.25)\n",
        "y <- y[keep, , keep.lib.sizes=FALSE]\n",
        "y$genes <- data.frame(Ensembl=ensembl, Symbol=symbol)\n",
        "str(y)"
      ],
      "metadata": {
        "colab": {
          "base_uri": "https://localhost:8080/"
        },
        "id": "3SpXBXoSAolN",
        "outputId": "4a6281fe-73cc-4b01-bb3d-e587aeb20e62"
      },
      "execution_count": null,
      "outputs": [
        {
          "output_type": "stream",
          "name": "stdout",
          "text": [
            "Formal class 'DGEList' [package \"edgeR\"] with 1 slot\n",
            "  ..@ .Data:List of 3\n",
            "  .. ..$ : num [1:12354, 1:12] 3 1394 164 27 12 ...\n",
            "  .. .. ..- attr(*, \"dimnames\")=List of 2\n",
            "  .. .. .. ..$ : chr [1:12354] \"148398\" \"26155\" \"339451\" \"84069\" ...\n",
            "  .. .. .. ..$ : chr [1:12] \"D1_cont_1\" \"D1_cont_2\" \"D1_cont_3\" \"D1_tgf_1\" ...\n",
            "  .. ..$ :'data.frame':\t12 obs. of  3 variables:\n",
            "  .. .. ..$ group       : Factor w/ 4 levels \"D1_cont\",\"D1_tgf\",..: 1 1 1 2 2 2 3 3 3 4 ...\n",
            "  .. .. ..$ lib.size    : num [1:12] 11351867 14429978 11359967 8538244 17891947 ...\n",
            "  .. .. ..$ norm.factors: num [1:12] 1 1 1 1 1 1 1 1 1 1 ...\n",
            "  .. ..$ :'data.frame':\t19016 obs. of  2 variables:\n",
            "  .. .. ..$ Ensembl: chr [1:19016] \"ENSG00000186092\" \"ENSG00000235249\" \"ENSG00000235249\" \"ENSG00000187634\" ...\n",
            "  .. .. ..$ Symbol : chr [1:19016] \"OR4F5\" \"OR4F29\" \"OR4F29\" \"SAMD11\" ...\n",
            "  ..$ names: chr [1:3] \"counts\" \"samples\" \"genes\"\n"
          ]
        }
      ]
    },
    {
      "cell_type": "markdown",
      "source": [
        "Compute effective library sizes (see lecture)"
      ],
      "metadata": {
        "id": "aB8ZooJIrsDy"
      }
    },
    {
      "cell_type": "code",
      "source": [
        "%%R\n",
        "y <- calcNormFactors(y) # called normLibSizes in newer versions\n",
        "str(y)"
      ],
      "metadata": {
        "colab": {
          "base_uri": "https://localhost:8080/"
        },
        "id": "MPdib9DlB5kh",
        "outputId": "ff174aeb-859a-4c57-fa90-2f53e1f95f95"
      },
      "execution_count": null,
      "outputs": [
        {
          "output_type": "stream",
          "name": "stdout",
          "text": [
            "Formal class 'DGEList' [package \"edgeR\"] with 1 slot\n",
            "  ..@ .Data:List of 3\n",
            "  .. ..$ : num [1:12354, 1:12] 3 1394 164 27 12 ...\n",
            "  .. .. ..- attr(*, \"dimnames\")=List of 2\n",
            "  .. .. .. ..$ : chr [1:12354] \"148398\" \"26155\" \"339451\" \"84069\" ...\n",
            "  .. .. .. ..$ : chr [1:12] \"D1_cont_1\" \"D1_cont_2\" \"D1_cont_3\" \"D1_tgf_1\" ...\n",
            "  .. ..$ :'data.frame':\t12 obs. of  3 variables:\n",
            "  .. .. ..$ group       : Factor w/ 4 levels \"D1_cont\",\"D1_tgf\",..: 1 1 1 2 2 2 3 3 3 4 ...\n",
            "  .. .. ..$ lib.size    : num [1:12] 11351867 14429978 11359967 8538244 17891947 ...\n",
            "  .. .. ..$ norm.factors: num [1:12] 1.013 1.029 1.015 0.973 0.965 ...\n",
            "  .. ..$ :'data.frame':\t19016 obs. of  2 variables:\n",
            "  .. .. ..$ Ensembl: chr [1:19016] \"ENSG00000186092\" \"ENSG00000235249\" \"ENSG00000235249\" \"ENSG00000187634\" ...\n",
            "  .. .. ..$ Symbol : chr [1:19016] \"OR4F5\" \"OR4F29\" \"OR4F29\" \"SAMD11\" ...\n",
            "  ..$ names: chr [1:3] \"counts\" \"samples\" \"genes\"\n"
          ]
        }
      ]
    },
    {
      "cell_type": "markdown",
      "source": [
        "Compared to what we discussed in the lecture, the variance of the counts in edgeR has a slightly more complicated form. It contains both the common dispersion component for all of the genes $\\phi$, and the gene-wise dispersion component $\\sigma_g$:\n",
        "\n",
        "$Var(y_{ig}) = σ^2_g(\\mu_{ig} + \\phi \\mu^2_{ig}),$ $i$ - sample, $g$ - gene.\n",
        "\n",
        "First, the common dispersion $\\phi$ is evaluated. Then, the trend for the gene-wise dispersions is computed as discussed in the lecture. Finally, the gene-wise dispersions are estimated and squeezed towards that trend."
      ],
      "metadata": {
        "id": "tIT8RX4cGea1"
      }
    },
    {
      "cell_type": "code",
      "source": [
        "%%R\n",
        "y <- estimateDisp(y, design)\n",
        "# this is equivalent to:\n",
        "# y <- estimateGLMCommonDisp(y, design)\n",
        "# y <- estimateGLMTrendedDisp(y, desig\n",
        "# y <- estimateGLMTagwiseDisp(y, design)"
      ],
      "metadata": {
        "id": "AO7Eef-yDeeL"
      },
      "execution_count": null,
      "outputs": []
    },
    {
      "cell_type": "markdown",
      "source": [
        "Now let's tell edgeR, which groups we want to compare"
      ],
      "metadata": {
        "id": "zGDlsVvdPMoV"
      }
    },
    {
      "cell_type": "code",
      "source": [
        "%%R\n",
        "fit <- glmQLFit(y, design)\n",
        "contrasts <- makeContrasts(\n",
        "  cont_20vs1 = D20_cont - D1_cont,\n",
        "  tgf_20vs1 = D20_tgf - D1_tgf,\n",
        "  d1_tgf = D1_tgf - D1_cont,\n",
        "  d20_tgf = D20_tgf - D20_cont,\n",
        "  levels=design)"
      ],
      "metadata": {
        "id": "NFKt9CbX2ojF"
      },
      "execution_count": null,
      "outputs": []
    },
    {
      "cell_type": "code",
      "source": [
        "%%R\n",
        "contrasts"
      ],
      "metadata": {
        "colab": {
          "base_uri": "https://localhost:8080/"
        },
        "id": "ApxkzDnK3AP6",
        "outputId": "4d0a86a5-ef22-496a-8542-b76d4b0d636f"
      },
      "execution_count": null,
      "outputs": [
        {
          "output_type": "stream",
          "name": "stdout",
          "text": [
            "          Contrasts\n",
            "Levels     cont_20vs1 tgf_20vs1 d1_tgf d20_tgf\n",
            "  D1_cont          -1         0     -1       0\n",
            "  D1_tgf            0        -1      1       0\n",
            "  D20_cont          1         0      0      -1\n",
            "  D20_tgf           0         1      0       1\n"
          ]
        }
      ]
    },
    {
      "cell_type": "markdown",
      "source": [
        "For example, the contrast `cont_20vs1` signifies a statistical test for the null hypothesis that `D20_cont - D1_cont = 0`."
      ],
      "metadata": {
        "id": "f_gLuwy5TSnR"
      }
    },
    {
      "cell_type": "code",
      "source": [
        "%%R\n",
        "qlf_cont_20vs1 <- glmQLFTest(fit, contrast=contrasts[,\"cont_20vs1\"])\n",
        "qlf_tgf_20vs1 <- glmQLFTest(fit, contrast=contrasts[,\"tgf_20vs1\"])\n",
        "qlf_d1_tgf <- glmQLFTest(fit, contrast=contrasts[,\"d1_tgf\"])\n",
        "qlf_d20_tgf <- glmQLFTest(fit, contrast=contrasts[,\"d20_tgf\"])"
      ],
      "metadata": {
        "id": "L2IekEPo3Sbe"
      },
      "execution_count": null,
      "outputs": []
    },
    {
      "cell_type": "code",
      "source": [
        "%%R\n",
        "print(summary(decideTests(qlf_cont_20vs1)))\n",
        "print(summary(decideTests(qlf_tgf_20vs1)))\n",
        "print(summary(decideTests(qlf_d1_tgf)))\n",
        "print(summary(decideTests(qlf_d20_tgf)))"
      ],
      "metadata": {
        "colab": {
          "base_uri": "https://localhost:8080/"
        },
        "id": "mAkXiXtUlp3n",
        "outputId": "a6f440e0-e707-4299-ca70-85aa9159c783"
      },
      "execution_count": null,
      "outputs": [
        {
          "output_type": "stream",
          "name": "stdout",
          "text": [
            "       -1*D1_cont 1*D20_cont\n",
            "Down                    2884\n",
            "NotSig                  6468\n",
            "Up                      3002\n",
            "       -1*D1_tgf 1*D20_tgf\n",
            "Down                  2928\n",
            "NotSig                6524\n",
            "Up                    2902\n",
            "       -1*D1_cont 1*D1_tgf\n",
            "Down                  1364\n",
            "NotSig                9665\n",
            "Up                    1325\n",
            "       -1*D20_cont 1*D20_tgf\n",
            "Down                    2469\n",
            "NotSig                  7539\n",
            "Up                      2346\n"
          ]
        }
      ]
    },
    {
      "cell_type": "markdown",
      "source": [
        "The smallest number of DE genes is found between the TGF-β-treated and untreated cells on day 1, which is expected."
      ],
      "metadata": {
        "id": "6YRlqNxzmL1V"
      }
    },
    {
      "cell_type": "code",
      "source": [
        "%%R\n",
        "qlftab_cont_20vs1 <- topTags(qlf_cont_20vs1, n=nrow(y))$table\n",
        "qlftab_tgf_20vs1 <- topTags(qlf_tgf_20vs1, n=nrow(y))$table\n",
        "qlftab_d1_tgf <- topTags(qlf_d1_tgf, n=nrow(y))$table\n",
        "qlftab_d20_tgf <- topTags(qlf_d20_tgf, n=nrow(y))$table"
      ],
      "metadata": {
        "id": "JObvFYKrmnTJ"
      },
      "execution_count": null,
      "outputs": []
    },
    {
      "cell_type": "code",
      "source": [
        "%%R\n",
        "head(qlftab_cont_20vs1)"
      ],
      "metadata": {
        "colab": {
          "base_uri": "https://localhost:8080/"
        },
        "id": "BGYQMqaZm-4x",
        "outputId": "bf50eb7d-3ea7-45ea-d7e2-0065fc474a82"
      },
      "execution_count": null,
      "outputs": [
        {
          "output_type": "stream",
          "name": "stdout",
          "text": [
            "              Ensembl   Symbol     logFC   logCPM        F       PValue\n",
            "6328  ENSG00000103018    CYB5B  5.912420 2.421628 596.3106 6.715974e-13\n",
            "6574  ENSG00000159625  CCDC135 -1.631513 8.349429 578.4268 8.277230e-13\n",
            "25907 ENSG00000141524     TMC6 -1.623484 8.716842 466.0209 3.632401e-12\n",
            "9700  ENSG00000023191     RNH1 -2.758252 3.685243 451.7046 4.494145e-12\n",
            "10212 ENSG00000186073 C15orf41 -1.630497 5.433907 408.9434 8.846526e-12\n",
            "991   ENSG00000142733   MAP3K6 -3.224106 5.439792 404.8024 9.480323e-12\n",
            "               FDR\n",
            "6328  5.112845e-09\n",
            "6574  5.112845e-09\n",
            "25907 1.388017e-08\n",
            "9700  1.388017e-08\n",
            "10212 1.707764e-08\n",
            "991   1.707764e-08\n"
          ]
        }
      ]
    },
    {
      "cell_type": "markdown",
      "source": [
        "Let's visualize, which DE genes are common between different comparisons"
      ],
      "metadata": {
        "id": "4fG63c6NPVYr"
      }
    },
    {
      "cell_type": "code",
      "source": [
        "%%R\n",
        "# Filter DE Genes based on FDR < 0.05 and logFC > 2\n",
        "de_genes_cont_20vs1 <- subset(qlftab_cont_20vs1, FDR < 0.05 & logFC > 1)$Symbol\n",
        "de_genes_tgf_20vs1 <- subset(qlftab_tgf_20vs1, FDR < 0.05 & logFC > 1)$Symbol\n",
        "de_genes_d1_tgf <- subset(qlftab_d1_tgf, FDR < 0.05 & logFC > 1)$Symbol\n",
        "de_genes_d20_tgf <- subset(qlftab_d20_tgf, FDR < 0.05 & logFC > 1)$Symbol\n",
        "\n",
        "# Use VennDiagram package to plot the Venn diagram\n",
        "library(VennDiagram)\n",
        "venn.plot <- venn.diagram(\n",
        "  x = list(\n",
        "    Cont_20vs1 = de_genes_cont_20vs1,\n",
        "    TGF_20vs1 = de_genes_tgf_20vs1,\n",
        "    D1_TGF = de_genes_d1_tgf,\n",
        "    D20_TGF = de_genes_d20_tgf\n",
        "  ),\n",
        "  category.names = c(\"Cont, d20 vs d1\", \"TGF, d20 vs d1\", \"D1, TGF vs Cont\", \"D20, TGF vs Cont\"),\n",
        "  filename = NULL\n",
        ")\n",
        "grid.draw(venn.plot)"
      ],
      "metadata": {
        "colab": {
          "base_uri": "https://localhost:8080/",
          "height": 566
        },
        "id": "yHmdXSvSoIIc",
        "outputId": "1fd785ca-0919-45c1-fd0a-3e567bcd0193"
      },
      "execution_count": null,
      "outputs": [
        {
          "output_type": "stream",
          "name": "stderr",
          "text": [
            "WARNING:rpy2.rinterface_lib.callbacks:R[write to console]: Loading required package: grid\n",
            "\n",
            "WARNING:rpy2.rinterface_lib.callbacks:R[write to console]: Loading required package: futile.logger\n",
            "\n"
          ]
        },
        {
          "output_type": "display_data",
          "data": {
            "image/png": "[encoded data removed]"
          },
          "metadata": {}
        }
      ]
    },
    {
      "cell_type": "markdown",
      "source": [
        "And now we plot a **volcano plot** for one of the comparisons! This is useful to identify genes which have both large changes in expression (large logFC) and these changes are significant (large -log10(P-value))."
      ],
      "metadata": {
        "id": "GZSHfVslPag4"
      }
    },
    {
      "cell_type": "code",
      "source": [
        "%%R\n",
        "# ad\n",
        "qlftab_tgf_20vs1$p_log10 <- -log10(qlftab_tgf_20vs1$PValue)\n",
        "\n",
        "# Identify the most DE genes: (abs(logFC)>2 and -log10P>9) or (abs(logFC)>7)\n",
        "top_genes <- qlftab_tgf_20vs1[((abs(qlftab_tgf_20vs1$logFC)>2)&(qlftab_tgf_20vs1$p_log10>9))|(abs(qlftab_tgf_20vs1$logFC)>7), ]\n",
        "\n",
        "# Plot the volcano plot\n",
        "ggplot(qlftab_tgf_20vs1, aes(x=logFC, y=p_log10)) +\n",
        "  geom_point(aes(color = (FDR < 0.05 & abs(logFC) > 2)), alpha=0.5) +\n",
        "  scale_color_manual(values = c(\"FALSE\" = \"grey\", \"TRUE\" = \"red\")) +\n",
        "  labs(x = \"Log2 Fold Change\",\n",
        "       y = \"-log10 P-value\") +\n",
        "  theme_minimal() +\n",
        "  theme(legend.title = element_blank(), legend.position = \"none\") +\n",
        "  geom_vline(xintercept = c(-2, 2), linetype = \"dashed\", color = \"blue\") +\n",
        "  geom_hline(yintercept = -log10(0.05), linetype = \"dashed\", color = \"blue\") +\n",
        "  geom_label_repel(data = top_genes,\n",
        "                  aes(label = Symbol),\n",
        "                  size = 3,\n",
        "                  box.padding = unit(0.35, \"lines\"),\n",
        "                  point.padding = unit(0.5, \"lines\"))"
      ],
      "metadata": {
        "colab": {
          "base_uri": "https://localhost:8080/",
          "height": 497
        },
        "id": "wxFZ6S6fqxal",
        "outputId": "f6970a90-4e40-41d2-e02f-06391cac0cc9"
      },
      "execution_count": null,
      "outputs": [
        {
          "output_type": "display_data",
          "data": {
            "image/png": "[encoded data removed]"
          },
          "metadata": {}
        }
      ]
    },
    {
      "cell_type": "markdown",
      "source": [
        "Finally, we can perform gene set enrichment analysis for this comparison using clusterProfiler package"
      ],
      "metadata": {
        "id": "I4HgKradPoZy"
      }
    },
    {
      "cell_type": "code",
      "source": [
        "%%R\n",
        "suppressPackageStartupMessages({\n",
        "  library(clusterProfiler)\n",
        "  library(org.Hs.eg.db)\n",
        "})"
      ],
      "metadata": {
        "id": "eGIvd21Py8j8"
      },
      "execution_count": null,
      "outputs": []
    },
    {
      "cell_type": "code",
      "source": [
        "%%R\n",
        "geneList <- qlftab_tgf_20vs1$p_log10*sign(qlftab_tgf_20vs1$logFC)\n",
        "names(geneList) <- rownames(qlftab_tgf_20vs1)\n",
        "geneList <- sort(geneList, decreasing = TRUE)\n",
        "\n",
        "gsea_bp <- gseGO(geneList=geneList, ont=\"BP\", OrgDb=org.Hs.eg.db)"
      ],
      "metadata": {
        "colab": {
          "base_uri": "https://localhost:8080/"
        },
        "id": "00TVPWzRwi5H",
        "outputId": "42f4c81f-5c06-4309-d9a6-8eb7d4b9b92a"
      },
      "execution_count": null,
      "outputs": [
        {
          "output_type": "stream",
          "name": "stderr",
          "text": [
            "WARNING:rpy2.rinterface_lib.callbacks:R[write to console]: preparing geneSet collections...\n",
            "\n",
            "WARNING:rpy2.rinterface_lib.callbacks:R[write to console]: GSEA analysis...\n",
            "\n",
            "WARNING:rpy2.rinterface_lib.callbacks:R[write to console]: leading edge analysis...\n",
            "\n",
            "WARNING:rpy2.rinterface_lib.callbacks:R[write to console]: done...\n",
            "\n"
          ]
        }
      ]
    },
    {
      "cell_type": "code",
      "source": [
        "%%R\n",
        "\n",
        "head(gsea_bp@result[, c(\"Description\", \"setSize\", \"NES\", \"p.adjust\")])"
      ],
      "metadata": {
        "colab": {
          "base_uri": "https://localhost:8080/"
        },
        "id": "IXwwNSb_0QvZ",
        "outputId": "6adcf28f-759b-4bce-e617-c4598eca6194"
      },
      "execution_count": null,
      "outputs": [
        {
          "output_type": "stream",
          "name": "stdout",
          "text": [
            "                                           Description setSize       NES\n",
            "GO:0006261               DNA-templated DNA replication     159 -2.891804\n",
            "GO:0006260                             DNA replication     270 -2.697761\n",
            "GO:0098813              nuclear chromosome segregation     267 -2.655301\n",
            "GO:0000070        mitotic sister chromatid segregation     192 -2.644433\n",
            "GO:0090329 regulation of DNA-templated DNA replication      54 -2.636978\n",
            "GO:0007059                      chromosome segregation     325 -2.629064\n",
            "              p.adjust\n",
            "GO:0006261 8.25303e-09\n",
            "GO:0006260 8.25303e-09\n",
            "GO:0098813 8.25303e-09\n",
            "GO:0000070 8.25303e-09\n",
            "GO:0090329 8.25303e-09\n",
            "GO:0007059 8.25303e-09\n"
          ]
        }
      ]
    },
    {
      "cell_type": "code",
      "source": [
        "%%R\n",
        "dotplot(gsea_bp, showCategory=10)"
      ],
      "metadata": {
        "colab": {
          "base_uri": "https://localhost:8080/",
          "height": 497
        },
        "id": "adGqHJZ_wvhR",
        "outputId": "dc8e8f36-e4d4-4580-9baf-4e0f2debd116"
      },
      "execution_count": null,
      "outputs": [
        {
          "output_type": "display_data",
          "data": {
            "image/png": "[encoded data removed]"
          },
          "metadata": {}
        }
      ]
    },
    {
      "cell_type": "markdown",
      "source": [
        "## Exercise"
      ],
      "metadata": {
        "id": "UDjl5E6VtMOB"
      }
    },
    {
      "cell_type": "markdown",
      "source": [
        "At home, perform the same analysis with the standard DESeq2 pipeline. DESeq2 documentation is very detailed: https://www.bioconductor.org/packages/release/bioc/vignettes/DESeq2/inst/doc/DESeq2.html. For each step, comment, how it relates to what we did in edgeR.\n",
        "\n",
        "You can then compare lists of differentially expressed genes between edgeR and DESeq2 using Venn diagrams or plot the p-values of different genes in edgeR and DESeq2 against each other.\n",
        "\n",
        "And feel free to ask questions! @daniilbobrovskiy"
      ],
      "metadata": {
        "id": "oUvH2AalPuvh"
      }
    },
    {
      "cell_type": "code",
      "source": [
        "%%R\n",
        "suppressPackageStartupMessages(library(DESeq2))"
      ],
      "metadata": {
        "id": "6anqB7L_q3Bd"
      },
      "execution_count": 9,
      "outputs": []
    },
    {
      "cell_type": "markdown",
      "source": [
        "Идем по семинару до PCA, затем используем DESeq2_data"
      ],
      "metadata": {
        "id": "DcJ-gNd0XuIo"
      }
    },
    {
      "cell_type": "code",
      "source": [
        "%%R\n",
        "\n",
        "DESeq2_data <- DESeqDataSetFromMatrix(countData = counts,           #тут данные\n",
        "                                  colData = data.frame(colnames(counts), groups),                #здесь информация, какими свойствами описываются колонки\n",
        "                                  design= ~ groups                    #здесь столбец из meta_data, по которому будем группировать при анализе\n",
        "                                  )"
      ],
      "metadata": {
        "colab": {
          "base_uri": "https://localhost:8080/"
        },
        "id": "mEPe9U05XCI2",
        "outputId": "1ca2ab5b-e6c6-43ab-e0a9-4f3bbd2fe4b6"
      },
      "execution_count": 12,
      "outputs": [
        {
          "output_type": "stream",
          "name": "stderr",
          "text": [
            "WARNING:rpy2.rinterface_lib.callbacks:R[write to console]: converting counts to integer mode\n",
            "\n"
          ]
        }
      ]
    },
    {
      "cell_type": "code",
      "source": [
        "%%R\n",
        "deseq <- DESeq(DESeq2_data)"
      ],
      "metadata": {
        "colab": {
          "base_uri": "https://localhost:8080/"
        },
        "id": "6nnOfVxZXqi4",
        "outputId": "38ba36ac-2343-4ecc-a857-547ee0b0336b"
      },
      "execution_count": 18,
      "outputs": [
        {
          "output_type": "stream",
          "name": "stderr",
          "text": [
            "WARNING:rpy2.rinterface_lib.callbacks:R[write to console]: estimating size factors\n",
            "\n",
            "WARNING:rpy2.rinterface_lib.callbacks:R[write to console]: estimating dispersions\n",
            "\n",
            "WARNING:rpy2.rinterface_lib.callbacks:R[write to console]: gene-wise dispersion estimates\n",
            "\n",
            "WARNING:rpy2.rinterface_lib.callbacks:R[write to console]: mean-dispersion relationship\n",
            "\n",
            "WARNING:rpy2.rinterface_lib.callbacks:R[write to console]: final dispersion estimates\n",
            "\n",
            "WARNING:rpy2.rinterface_lib.callbacks:R[write to console]: fitting model and testing\n",
            "\n"
          ]
        }
      ]
    },
    {
      "cell_type": "code",
      "source": [
        "%%R\n",
        "colnames(deseq)"
      ],
      "metadata": {
        "colab": {
          "base_uri": "https://localhost:8080/"
        },
        "id": "QfYAwjO4Zdr5",
        "outputId": "24868b11-b5f4-437a-b680-d7988243883c"
      },
      "execution_count": 24,
      "outputs": [
        {
          "output_type": "stream",
          "name": "stdout",
          "text": [
            " [1] \"D1_cont_1\"  \"D1_cont_2\"  \"D1_cont_3\"  \"D1_tgf_1\"   \"D1_tgf_2\"  \n",
            " [6] \"D1_tgf_3\"   \"D20_cont_1\" \"D20_cont_2\" \"D20_cont_3\" \"D20_tgf_1\" \n",
            "[11] \"D20_tgf_2\"  \"D20_tgf_3\" \n"
          ]
        }
      ]
    },
    {
      "cell_type": "code",
      "source": [
        "%%R\n",
        "D1_Control_vs_TGF <- results(deseq, contrast=c(\"groups\",\"D1_cont\",\"D1_tgf\"))\n",
        "D20_Control_vs_TGF <- results(deseq, contrast=c(\"groups\", \"D20_cont\", \"D20_tgf\"))\n",
        "results_Time_Effect_Control <- results(deseq, contrast=c(\"groups\", \"D1_cont\", \"D20_cont\"))\n",
        "results_Time_Effect_TGF <- results(deseq, contrast=c(\"groups\", \"D1_tgf\", \"D20_tgf\"))"
      ],
      "metadata": {
        "id": "MFoENJXQZ5G1"
      },
      "execution_count": 25,
      "outputs": []
    },
    {
      "cell_type": "code",
      "source": [
        "%%R\n",
        "# Filter DE Genes based on FDR < 0.05 and logFC > 2\n",
        "de_genes_cont_20vs1 <- row.names(subset(D1_Control_vs_TGF, padj < 0.05 ))\n",
        "de_genes_tgf_20vs1 <- row.names(subset(D20_Control_vs_TGF, padj < 0.05 ))\n",
        "de_genes_d1_tgf <- row.names(subset(results_Time_Effect_Control, padj < 0.05 ))\n",
        "de_genes_d20_tgf <- row.names(subset(results_Time_Effect_TGF, padj < 0.05 ))\n",
        "\n",
        "# Use VennDiagram package to plot the Venn diagram\n",
        "library(VennDiagram)\n",
        "venn.plot <- venn.diagram(\n",
        "  x = list(\n",
        "    Cont_20vs1 = de_genes_cont_20vs1,\n",
        "    TGF_20vs1 = de_genes_tgf_20vs1,\n",
        "    D1_TGF = de_genes_d1_tgf,\n",
        "    D20_TGF = de_genes_d20_tgf\n",
        "  ),\n",
        "  category.names = c(\"D1_Control_vs_TGF\", \"D20_Control_vs_TGF\", \"results_Time_Effect_Control\", \"results_Time_Effect_TGF\"),\n",
        "  filename = NULL\n",
        ")\n",
        "grid.draw(venn.plot)"
      ],
      "metadata": {
        "colab": {
          "base_uri": "https://localhost:8080/",
          "height": 497
        },
        "id": "GyFdOcvIawzd",
        "outputId": "a6ec910a-e390-4315-f0c5-cd4bd437c71e"
      },
      "execution_count": 32,
      "outputs": [
        {
          "output_type": "display_data",
          "data": {
            "image/png": "[encoded data removed]"
          },
          "metadata": {}
        }
      ]
    }
  ],
  "metadata": {
    "colab": {
      "provenance": []
    },
    "kernelspec": {
      "display_name": "Python 3",
      "name": "python3"
    },
    "language_info": {
      "name": "python"
    }
  },
  "nbformat": 4,
  "nbformat_minor": 0
}