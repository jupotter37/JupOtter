{
 "cells": [
  {
   "cell_type": "markdown",
   "metadata": {},
   "source": [
    "## Calculating exponential decay on a TI-86\n",
    "\n",
    "Often in a chemistry course you may be asked to determine quantities<br>\n",
    "corresponding to some equation like: $\\log [A]_t = -kt + \\log [A]_0$, where<br>\n",
    "$[A]_t$ is some value after $t$ units of time have passed and with some initial<br>\n",
    "quantity $[A]_0$.<p>\n",
    "\n",
    "This kind of problem can be very easily modeled on your TI-86 calculator,<br>\n",
    "and this brief tutorial is designed to show you how.<br>\n",
    "\n",
    "Let's say you are given some $1/2$ life constant $k$ such as: $k = \\dfrac{\\log 2}{40}$, where<br>\n",
    "$k$ is given in seconds. Additionally, you are given the log of an initial molar<br>\n",
    "concentration: $log [A]_0 = 0.16\\ M$. We may wish to find the molar concentration<br>\n",
    "after $120$ seconds have passed.\n",
    "\n",
    "$\\log [A]_t = -kt + \\log [A]_0$<br>\n",
    "$\\log [A]_t -  \\log [A]_0 = -kt$<br>\n",
    "$\\log \\dfrac{[A]_t}{[A]_0} = -kt$<br>\n",
    "$\\dfrac{[A]_t}{[A]_0} = e^{-kt}$<br>\n",
    "$[A]_t = {[A]_0}*e^{-kt}$<p>\n",
    "\n",
    "where in words we:\n",
    "* adding $\\log [A]_0$ to both sides\n",
    "* law of logarithms\n",
    "* exponentiate by sides\n",
    "* multiply by sides by $\\log [A]_0$"
   ]
  },
  {
   "cell_type": "code",
   "execution_count": 17,
   "metadata": {},
   "outputs": [
    {
     "name": "stdout",
     "output_type": "stream",
     "text": [
      "0.020000000000000004\n"
     ]
    }
   ],
   "source": [
    "# In Python we have:\n",
    "from math import *\n",
    "\n",
    "k = log(2)/40\n",
    "a0 = 0.16\n",
    "\n",
    "at = a0 * exp(-k*120)\n",
    "\n",
    "print(at)\n"
   ]
  },
  {
   "cell_type": "markdown",
   "metadata": {},
   "source": [
    "Great. Now how do we verify this using a TI-86?<br>\n",
    "There are a number of good ways to do this. First the graphing way:<br>\n",
    "* push the graph button and notice the menu which appears at the bottom of the screen.\n",
    "* push the `F1` the $y(x)=$ button to set up the equation.\n",
    "* in the $y1=$ place write `0.16*e^(-ln 2 * x / 40)` and then the exit button once.\n",
    "* next press the `WIND` menu option to set the window to the range you expect to see the curve within.<br>\n",
    "  in this case the y-value will be about `0.02` when the x-value is around 120 so let's try:<br>\n",
    "  `xMin=110, xMax=130, yMin=0, yMax=0.1`<br>\n",
    "* Now press `F5` the graph button to see the graph of our function.\n",
    "* To evaluate the function at $x=120$, press the more button twice and then `F1`, the `EVAL` button.\n",
    "* Enter `120` for x and press enter, you should now see the x-y pair `120, 0.02` in the window."
   ]
  },
  {
   "cell_type": "markdown",
   "metadata": {},
   "source": [
    "Perhaps even easier is to follow the first 3 steps above exiting twice in the third step:\n",
    "* push the graph button and notice the menu which appears at the bottom of the screen.\n",
    "* push the `F1` the $y(x)=$ button to set up the equation.\n",
    "* in the $y1=$ place write `0.16*e^(-ln 2 * x / 40)` and then the exit button _twice_ this time.\n",
    "\n",
    "Now...<br>\n",
    "* press the `calc` button by pressing the `2nd` button followed by the divides button.\n",
    "* press `F1` for the `evalF` option, `evalF(` should appear on the screen.\n",
    "* enter the function name, the variable name, and then the value to be evaluated:<br>\n",
    "  `evalF(y1,x,120)` and press enter.\n"
   ]
  },
  {
   "cell_type": "markdown",
   "metadata": {},
   "source": [
    "Lastly and easiest of all, calculate directly: `0.16*e^(-120*ln 2/40)`"
   ]
  },
  {
   "cell_type": "code",
   "execution_count": 21,
   "metadata": {},
   "outputs": [
    {
     "name": "stdout",
     "output_type": "stream",
     "text": [
      "0.020000000000000004\n"
     ]
    }
   ],
   "source": [
    "print(0.16*exp(-120*log(2)/40))"
   ]
  },
  {
   "cell_type": "markdown",
   "metadata": {},
   "source": [
    "ps. DON'T FORGET THE NEGATIVE SIGN!!!"
   ]
  }
 ],
 "metadata": {
  "kernelspec": {
   "display_name": "Python 3",
   "language": "python",
   "name": "python3"
  },
  "language_info": {
   "codemirror_mode": {
    "name": "ipython",
    "version": 3
   },
   "file_extension": ".py",
   "mimetype": "text/x-python",
   "name": "python",
   "nbconvert_exporter": "python",
   "pygments_lexer": "ipython3",
   "version": "3.6.1"
  }
 },
 "nbformat": 4,
 "nbformat_minor": 2
}
