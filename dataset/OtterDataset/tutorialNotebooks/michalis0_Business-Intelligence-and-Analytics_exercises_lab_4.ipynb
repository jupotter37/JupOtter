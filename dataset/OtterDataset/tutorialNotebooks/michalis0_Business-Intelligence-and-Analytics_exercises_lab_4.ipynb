{
  "nbformat": 4,
  "nbformat_minor": 0,
  "metadata": {
    "colab": {
      "provenance": [],
      "include_colab_link": true
    },
    "kernelspec": {
      "name": "python3",
      "display_name": "Python 3"
    },
    "language_info": {
      "name": "python"
    }
  },
  "cells": [
    {
      "cell_type": "markdown",
      "metadata": {
        "id": "view-in-github",
        "colab_type": "text"
      },
      "source": [
        "<a href=\"https://colab.research.google.com/github/michalis0/Business-Intelligence-and-Analytics/blob/master/labs/04%20-%20Visualization/exercises/exercises_lab_4.ipynb\" target=\"_parent\"><img src=\"https://colab.research.google.com/assets/colab-badge.svg\" alt=\"Open In Colab\"/></a>"
      ]
    },
    {
      "cell_type": "markdown",
      "source": [
        "<h1><center>Exercises\n",
        "\n",
        "<div>\n",
        "<td>\n",
        "<img src=\"https://upload.wikimedia.org/wikipedia/commons/thumb/2/2b/Logo_Universit%C3%A9_de_Lausanne.svg/2000px-Logo_Universit%C3%A9_de_Lausanne.svg.png\" style=\"padding-right:10px;width:240px;float:left\" width=700/></td>\n",
        "<h2 style=\"white-space: nowrap\">Business Intelligence and Analytics</h2></td></center>\n",
        "<hr style=\"clear:both\">\n",
        "<p style=\"font-size:0.85em; margin:2px; text-align:justify\">\n",
        "\n",
        "\n"
      ],
      "metadata": {
        "id": "V7HfGd5YJuT8"
      }
    },
    {
      "cell_type": "code",
      "source": [
        "#Libraries import\n",
        "import pandas as pd\n",
        "import matplotlib\n",
        "import matplotlib.pyplot as plt\n",
        "import seaborn as sns"
      ],
      "metadata": {
        "id": "H78QdsENKJLR"
      },
      "execution_count": null,
      "outputs": []
    },
    {
      "cell_type": "markdown",
      "source": [
        "We will work with the same dataset that we used for the walkthrough. Please use function that we used in the precedent labs to load the dataset."
      ],
      "metadata": {
        "id": "I8DmukaYN5RY"
      }
    },
    {
      "cell_type": "code",
      "source": [
        "#dataset import\n",
        "url = 'https://media.githubusercontent.com/media/michalis0/Business-Intelligence-and-Analytics/master/data/Credit.csv'\n",
        "data = #YOUR CODE HERE\n",
        "data.head()"
      ],
      "metadata": {
        "id": "xJqp80LRKZ3f"
      },
      "execution_count": null,
      "outputs": []
    },
    {
      "cell_type": "code",
      "source": [
        "#data cleaning\n",
        "data = data.rename( columns = {'Unnamed: 0' : 'CustomerID' })\n",
        "data = data.set_index('CustomerID')\n",
        "data.head(2)"
      ],
      "metadata": {
        "id": "CvcfRcP0KkPz"
      },
      "execution_count": null,
      "outputs": []
    },
    {
      "cell_type": "markdown",
      "source": [
        "###**Exercise 1**\n",
        ">Now it's your turn ! Create a **barplot** so that we can see **the proportion of married students**. You can refer to the barplot section of the [Walkthrough]('https://colab.research.google.com/github/michalis0/Business-Intelligence-and-Analytics/blob/Editing/labs/04%20-%20Visualization/walkthrough_4.ipynb#scrollTo=zTSXrxORkZCp'), under the _'Bar plot / Histogram'_ section.\n",
        ">\n",
        ">Be sure to name your graph and the axes."
      ],
      "metadata": {
        "id": "LlBSLMehLY_m"
      }
    },
    {
      "cell_type": "code",
      "source": [
        "fig=plt.figure(figsize=(9,5))\n",
        "#YOUR CODE HERE"
      ],
      "metadata": {
        "id": "rv3xCzQTOmBc"
      },
      "execution_count": null,
      "outputs": []
    },
    {
      "cell_type": "markdown",
      "source": [
        "###**Exercise 2**\n",
        ">Create a **pie chart** that shows **the proportion of married/not married female customers**. Percentage should be indicated on the chart and rounded at 2 digit, for this you can use `autopct=%.2f%%'` as an argument in the pie plot function.\n",
        ">\n",
        ">**autopct** enables you to display the percent value rounded to the rounding you wish.\n",
        ">\n",
        ">You can refer to the [Walkthrough]('https://colab.research.google.com/github/michalis0/Business-Intelligence-and-Analytics/blob/Editing/labs/04%20-%20Visualization/walkthrough_4.ipynb#scrollTo=zTSXrxORkZCp'), under the _'Pie Chart'_ section.\n",
        "\n",
        "__IMPORTANT: This exercise answers the moodle quize question 1.__"
      ],
      "metadata": {
        "id": "n-i_dWGpOuIs"
      }
    },
    {
      "cell_type": "code",
      "source": [
        "fig=plt.figure(figsize=(9,5))\n",
        "#YOUR CODE HERE"
      ],
      "metadata": {
        "id": "eN-LpYFeOvW0"
      },
      "execution_count": null,
      "outputs": []
    },
    {
      "cell_type": "markdown",
      "source": [
        "### **Exercise 3**\n",
        ">Like with every other data visualization tool, you can improve its look so that it's easier to read and understand.\n",
        ">\n",
        ">With the same heatmap try modifying it so that it is easier to read. For example, you can try to show the values of the correlations on each cell of the heatmap.\n",
        ">\n",
        "\n",
        ">\n",
        ">Use this [link](https://likegeeks.com/seaborn-heatmap-tutorial/) to find out how to easily do so.\n",
        ">\n",
        ">You can also refer to the [Walkthrough]('https://colab.research.google.com/github/michalis0/Business-Intelligence-and-Analytics/blob/Editing/labs/04%20-%20Visualization/walkthrough_4.ipynb#scrollTo=zTSXrxORkZCp'), under the _'HeatMaps'_ section.\n",
        "\n",
        "\n",
        "__IMPORTANT: This exercise answers the moodle quiz question 2.__"
      ],
      "metadata": {
        "id": "KpdEZV6cPsaH"
      }
    },
    {
      "cell_type": "code",
      "source": [
        "fig=plt.figure(figsize=(6,4))\n",
        "#YOUR CODE HERE"
      ],
      "metadata": {
        "id": "NiniFidsP018"
      },
      "execution_count": null,
      "outputs": []
    }
  ]
}