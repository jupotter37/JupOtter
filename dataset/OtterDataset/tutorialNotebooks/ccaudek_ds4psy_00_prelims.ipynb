{
 "cells": [
  {
   "attachments": {},
   "cell_type": "markdown",
   "metadata": {},
   "source": [
    "<a target=\"_blank\" href=\"https://colab.research.google.com/github/ccaudek/ds4psy_2023/blob/main/015_intro_python.ipynb\">\n",
    "  <img src=\"https://colab.research.google.com/assets/colab-badge.svg\" alt=\"Open In Colab\"/>\n",
    "</a>\n",
    "\n",
    "(prelims-notebook)=\n",
    "# Preliminari"
   ]
  },
  {
   "cell_type": "markdown",
   "metadata": {},
   "source": [
    "## Iniziare ad Usare Python 🐍\n",
    "\n",
    "In questo corso, utilizzeremo Python all'interno di un ambiente Jupyter Notebook. Nel capitolo {ref}`working-env-notebook` sono state fornite le istruzioni per installare Jupyter Notebook sul vostro computer.\n",
    "\n",
    "In alternativa, è possibile scrivere uno script Python in un file con estensione `.py`, il quale può essere eseguito tramite il comando `python nome_file.py` dalla linea di comando."
   ]
  },
  {
   "cell_type": "markdown",
   "metadata": {},
   "source": [
    "## Jupyter Notebook\n",
    "\n",
    "I Jupyter Notebook offrono un ambiente interattivo in cui è possibile eseguire il codice suddiviso in celle. Sebbene sia possibile eseguire il codice nelle celle in qualsiasi ordine, è considerata una pratica consigliata eseguirle in sequenza al fine di prevenire errori e garantire una corretta esecuzione del codice.\n",
    "\n",
    "I Jupyter Notebook supportano due tipi di celle:\n",
    "\n",
    "- **Celle di Testo**: Queste celle consentono di scrivere testo formattato utilizzando la sintassi Markdown. Questo permette agli autori di inserire del testo descrittivo, comprese immagini, formule in formato [$\\LaTeX$](https://latex-tutorial.com/), tabelle e altro ancora. Le celle di testo facilitano la documentazione del processo di analisi dei dati in modo chiaro e comprensibile.\n",
    "\n",
    "- **Celle di Codice**: Le celle di codice consentono di scrivere e eseguire codice Python. Il codice può essere eseguito facendo clic sul triangolo situato a sinistra di ogni cella. Diverse celle possono contenere istruzioni diverse e possono essere eseguite in sequenza. È importante notare che una funzione definita in una cella precedente può essere utilizzata solo se la cella precedente è stata eseguita.\n",
    "\n",
    "```{note}\n",
    "Il nome \"Jupyter\" deriva dalle tre principali lingue di programmazione supportate: Julia, Python e R. Tuttavia, è possibile utilizzare i Jupyter Notebook con molte altre lingue di programmazione.\n",
    "```\n",
    "\n",
    "## Esecuzione Locale o su Colab\n",
    "\n",
    "I Jupyter Notebook possono essere eseguiti sia in locale, sul vostro computer, che su un server remoto, come Google Colab. Questa flessibilità permette agli utenti di accedere ai propri notebook da qualsiasi dispositivo connesso a Internet e di condividere agevolmente il proprio lavoro con altri. "
   ]
  },
  {
   "cell_type": "markdown",
   "metadata": {},
   "source": [
    "## Kernel nei Jupyter Notebook\n",
    "\n",
    "I Jupyter Notebook sono strumenti che agevolano la programmazione in Python grazie a un componente essenziale: il kernel. Quest'ultimo funge da motore di esecuzione per il codice Python presente nelle celle dei notebook. Ogni volta che eseguite una cella, il suo contenuto viene processato dal kernel. La caratteristica più significativa del kernel è la sua capacità di preservare lo stato delle variabili e delle funzioni tra le diverse celle. In pratica, ciò significa che potete definire variabili o funzioni in una cella e poi riutilizzarle in celle successive. Questa interattività facilita l'esecuzione iterativa del codice e offre un modo dinamico per esplorare i dati.\n",
    "\n",
    "Durante l'installazione di Jupyter Notebook, di norma ricevete anche IPython, un kernel ottimizzato per Python. \n",
    "\n",
    "Si noti che il kernel Python deve essere installato all'interno di un ambiente di sviluppo dedicato noto come \"ambiente virtuale\" (per ulteriori dettagli, si veda {ref}`sec-virtual-environment`). Questo ambiente svolge un ruolo fondamentale nel separare e isolare le librerie e le dipendenze necessarie per il kernel. Ciò aiuta a evitare conflitti tra diverse configurazioni e garantisce il corretto funzionamento del codice nel contesto desiderato. L'utilizzo di ambienti specifici risulta particolarmente vantaggioso nei progetti che richiedono versioni particolari di librerie. \n",
    "\n",
    "In questo insegnamento, faremo ampio uso della funzionalità `conda`, inclusa nell'installazione di Anaconda, per la gestione di questi ambienti. `conda` mette a disposizione funzioni utili per la creazione, la gestione e l'attivazione di ambienti separati, ciascuno con le sue configurazioni e dipendenze uniche. Questa capacità semplifica notevolmente la transizione tra diversi ambienti, garantendo che ogni progetto o kernel disponga delle risorse necessarie per operare in modo efficiente e senza interferenze."
   ]
  },
  {
   "cell_type": "markdown",
   "metadata": {},
   "source": [
    "## Visual Studio Code\n",
    "\n",
    "Il modo più semplice di usare un Jupyter Notebook è all'interno di Visual Studio Code. Dopo aver installato Visual Studio Code, è necessario installare l'estensione Python per sfruttare le funzionalità specifiche per Python, inclusa la capacità di lavorare con Jupyter Notebook.\n",
    "\n",
    "- In Visual Studio Code, si clicca sull'icona delle estensioni (quadrati che si intersecano) nella barra laterale a sinistra.\n",
    "- Si cerca \"Python\" nella barra di ricerca e si seleziona l'estensione ufficiale offerta da Microsoft.\n",
    "- Si clicca su \"Install\".\n",
    "\n",
    "Una volta completate le installazioni, siete pronti per creare il vostro primo Jupyter Notebook in VS Code. \n",
    "\n",
    "- Si apre Visual Studio Code.\n",
    "- Si clicca su `File > New File`.\n",
    "- Si preme `Ctrl+Shift+P` per aprire la Palette dei Comandi.\n",
    "- Si digita \"Jupyter\" e si seleziona `Jupyter: Create New Blank Notebook`.\n",
    "- Si aprirà un nuovo notebook dove si può iniziare a scrivere il codice Python nelle celle."
   ]
  }
 ],
 "metadata": {
  "kernelspec": {
   "display_name": "pymc51_env",
   "language": "python",
   "name": "python3"
  },
  "language_info": {
   "codemirror_mode": {
    "name": "ipython",
    "version": 3
   },
   "file_extension": ".py",
   "mimetype": "text/x-python",
   "name": "python",
   "nbconvert_exporter": "python",
   "pygments_lexer": "ipython3",
   "version": "3.11.7"
  },
  "latex_envs": {
   "LaTeX_envs_menu_present": false,
   "autoclose": true,
   "autocomplete": true,
   "bibliofile": "biblio.bib",
   "cite_by": "apalike",
   "current_citInitial": 1,
   "eqLabelWithNumbers": true,
   "eqNumInitial": 1,
   "hotkeys": {
    "equation": "Ctrl-E",
    "itemize": "Ctrl-I"
   },
   "labels_anchors": false,
   "latex_user_defs": false,
   "report_style_numbering": true,
   "user_envs_cfg": true
  },
  "toc": {
   "base_numbering": 1,
   "nav_menu": {},
   "number_sections": true,
   "sideBar": false,
   "skip_h1_title": false,
   "title_cell": "Table of Contents",
   "title_sidebar": "Contents",
   "toc_cell": true,
   "toc_position": {},
   "toc_section_display": true,
   "toc_window_display": false
  },
  "vscode": {
   "interpreter": {
    "hash": "c0ccd72f608cbdcdf4551eecf03608f0bf0bb7f40eb4e906e3e1e38ea0443aad"
   }
  }
 },
 "nbformat": 4,
 "nbformat_minor": 2
}