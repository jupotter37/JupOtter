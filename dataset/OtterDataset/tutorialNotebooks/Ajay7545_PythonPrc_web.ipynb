{
 "cells": [
  {
   "cell_type": "code",
   "execution_count": 1,
   "metadata": {},
   "outputs": [],
   "source": [
    "from bs4 import BeautifulSoup as bs\n"
   ]
  },
  {
   "cell_type": "code",
   "execution_count": 2,
   "metadata": {},
   "outputs": [],
   "source": [
    "import requests"
   ]
  },
  {
   "cell_type": "code",
   "execution_count": 3,
   "metadata": {},
   "outputs": [],
   "source": [
    "base_url=\"https://itsfoss.com\"\n"
   ]
  },
  {
   "cell_type": "code",
   "execution_count": 1,
   "metadata": {},
   "outputs": [
    {
     "name": "stdout",
     "output_type": "stream",
     "text": [
      "invalid url\n"
     ]
    }
   ],
   "source": [
    "try:\n",
    "    page=requests.get(base_url)\n",
    "    if page.status_code==200:\n",
    "         print(\"loaded the page\")\n",
    "    else:\n",
    "         print(f\"error{page.status_code}\")\n",
    "except:            \n",
    "        print(\"invalid url\")            \n",
    "                     "
   ]
  },
  {
   "cell_type": "code",
   "execution_count": 5,
   "metadata": {},
   "outputs": [
    {
     "ename": "SyntaxError",
     "evalue": "invalid syntax (<ipython-input-5-d8782e518089>, line 1)",
     "output_type": "error",
     "traceback": [
      "\u001b[1;36m  File \u001b[1;32m\"<ipython-input-5-d8782e518089>\"\u001b[1;36m, line \u001b[1;32m1\u001b[0m\n\u001b[1;33m    soup=bs(page.text,'lxml'):\u001b[0m\n\u001b[1;37m                             ^\u001b[0m\n\u001b[1;31mSyntaxError\u001b[0m\u001b[1;31m:\u001b[0m invalid syntax\n"
     ]
    }
   ],
   "source": [
    "soup=bs(page.text,'lxml')"
   ]
  },
  {
   "cell_type": "code",
   "execution_count": 22,
   "metadata": {},
   "outputs": [
    {
     "data": {
      "text/plain": [
       "<title>It's FOSS | A Linux and Open Source Web Portal</title>"
      ]
     },
     "execution_count": 22,
     "metadata": {},
     "output_type": "execute_result"
    }
   ],
   "source": [
    "soup.title"
   ]
  },
  {
   "cell_type": "code",
   "execution_count": 23,
   "metadata": {},
   "outputs": [
    {
     "data": {
      "text/plain": [
       "\"It's FOSS | A Linux and Open Source Web Portal\""
      ]
     },
     "execution_count": 23,
     "metadata": {},
     "output_type": "execute_result"
    }
   ],
   "source": [
    "soup.title.text"
   ]
  },
  {
   "cell_type": "code",
   "execution_count": 24,
   "metadata": {},
   "outputs": [
    {
     "data": {
      "text/plain": [
       "\"It's FOSS\""
      ]
     },
     "execution_count": 24,
     "metadata": {},
     "output_type": "execute_result"
    }
   ],
   "source": [
    "soup.h1.text"
   ]
  },
  {
   "cell_type": "code",
   "execution_count": 25,
   "metadata": {},
   "outputs": [
    {
     "data": {
      "text/plain": [
       "'Ubuntu’s Snap Apps Website Gets Much Needed Improvements'"
      ]
     },
     "execution_count": 25,
     "metadata": {},
     "output_type": "execute_result"
    }
   ],
   "source": [
    "soup.h2.text"
   ]
  },
  {
   "cell_type": "code",
   "execution_count": 26,
   "metadata": {},
   "outputs": [
    {
     "data": {
      "text/plain": [
       "' Skip to primary navigation'"
      ]
     },
     "execution_count": 26,
     "metadata": {},
     "output_type": "execute_result"
    }
   ],
   "source": [
    "soup.a.text"
   ]
  },
  {
   "cell_type": "code",
   "execution_count": 30,
   "metadata": {},
   "outputs": [
    {
     "data": {
      "text/plain": [
       "bs4.element.ResultSet"
      ]
     },
     "execution_count": 30,
     "metadata": {},
     "output_type": "execute_result"
    }
   ],
   "source": [
    "soup.find_all(\"h2\")\n",
    "headings=soup.find_all('h2')\n",
    "len(headings)  "
   ]
  },
  {
   "cell_type": "code",
   "execution_count": 32,
   "metadata": {},
   "outputs": [
    {
     "name": "stdout",
     "output_type": "stream",
     "text": [
      "Ubuntu’s Snap Apps Website Gets Much Needed Improvements\n",
      "Breaking News! SUSE Linux Sold for $2.5 Billion\n",
      "Linux Mint 19 Has Been Released [And It’s Awesome]\n",
      "GitHub Repositories of Gentoo Linux Hacked!\n",
      "Lubuntu 18.04 Review: Stable and Dependable As Always\n",
      "Top 31 Best Linux Games You Can Play for FREE\n",
      "What is the Difference Between the macOS and Linux Kernels\n",
      "Fix ‘E: Could not get lock /var/lib/dpkg/lock’ Error in Ubuntu [Quick Tip]\n",
      "How to Mount and Use an exFAT Drive on Ubuntu Linux [Quick Tip]\n",
      "Using Flatpak on Ubuntu and Other Linux Distributions [Complete Guide]\n",
      "How to Set Different Wallpaper for Each Monitor in Linux\n",
      "How to Enable Click to Minimize On Ubuntu\n",
      "How to Fix Right Click Touchpad Not Working on Ubuntu 18.04 [Quick Tip]\n",
      "Easily Upgrade Ubuntu to a Newer Version with This Single Command\n",
      "Fake A Hollywood Hacker Screen in Linux Terminal\n",
      "Ubuntu Budgie 18.04 Review: The Perfect Blend of Ubuntu and Budgie Desktop\n",
      "Bring Your Old Computer Back to Life With 4MLinux\n",
      "System76’s Oryx Pro Laptop Targets AI Developers\n",
      "A Modular and Open Source Router is Being Crowdfunded\n",
      "Mycroft Mark II: The Open Source Answer to Amazon Echo and Google Home That Doesn’t Spy on You\n",
      "Unbelievable! Linux Mint Ditches Ubuntu, Will Be Based on Arch Linux Now\n",
      "LOL! Google Thinks Arch Linux is Based on Ubuntu\n"
     ]
    }
   ],
   "source": [
    "for item in headings:\n",
    "    print(item.text)"
   ]
  },
  {
   "cell_type": "code",
   "execution_count": 34,
   "metadata": {},
   "outputs": [
    {
     "name": "stdout",
     "output_type": "stream",
     "text": [
      "https://itsfoss.com/snap-store/\n",
      "https://itsfoss.com/suse-eqt-acquisition/\n",
      "https://itsfoss.com/linux-mint-19-released/\n",
      "https://itsfoss.com/github-gentoo-hacked/\n",
      "https://itsfoss.com/lubuntu-review/\n",
      "https://itsfoss.com/free-linux-games/\n",
      "https://itsfoss.com/mac-linux-difference/\n",
      "https://itsfoss.com/could-not-get-lock-error/\n",
      "https://itsfoss.com/mount-exfat/\n",
      "https://itsfoss.com/flatpak-guide/\n",
      "https://itsfoss.com/wallpaper-multi-monitor/\n",
      "https://itsfoss.com/click-to-minimize-ubuntu/\n",
      "https://itsfoss.com/fix-right-click-touchpad-ubuntu/\n",
      "https://itsfoss.com/zzupdate-upgrade-ubuntu/\n",
      "https://itsfoss.com/hollywood-hacker-screen/\n",
      "https://itsfoss.com/ubuntu-budgie-18-review/\n",
      "https://itsfoss.com/4mlinux-review/\n",
      "https://itsfoss.com/oryx-pro/\n",
      "https://itsfoss.com/turris-mox-router/\n",
      "https://itsfoss.com/mycroft-mark-2/\n",
      "https://itsfoss.com/linux-mint-arch/\n",
      "https://itsfoss.com/google-thinks-arch-is-based-on-ubuntu/\n"
     ]
    }
   ],
   "source": [
    "for item in headings:\n",
    "    link=item.find('a').attrs.get('href')\n",
    "    print(link)"
   ]
  },
  {
   "cell_type": "code",
   "execution_count": 38,
   "metadata": {},
   "outputs": [
    {
     "name": "stdout",
     "output_type": "stream",
     "text": [
      " Skip to primary navigation\n",
      " Skip to content\n",
      " Skip to primary sidebar\n",
      " Skip to footer\n",
      "It's FOSS\n",
      "About\n",
      "Contact Us\n",
      "Get Featured On It’s FOSS\n",
      "Linux\n",
      "Linux News\n",
      "Linux Tutorials\n",
      "Apps\n",
      "Gadgets\n",
      "Top X\n",
      "Desktop\n",
      "Free eBooks\n",
      "Shop\n",
      "Article needs update?\n",
      "\n",
      "Ubuntu’s Snap Apps Website Gets Much Needed Improvements\n",
      "\n",
      "Breaking News! SUSE Linux Sold for $2.5 Billion\n",
      "\n",
      "Linux Mint 19 Has Been Released [And It’s Awesome]\n",
      "\n",
      "GitHub Repositories of Gentoo Linux Hacked!\n",
      "Read More Linux and Open Source News\n",
      "\n",
      "Lubuntu 18.04 Review: Stable and Dependable As Always\n",
      "\n",
      "Top 31 Best Linux Games You Can Play for FREE\n",
      "\n",
      "What is the Difference Between the macOS and Linux Kernels\n",
      "Read All New Articles →\n",
      "\n",
      "\n",
      "Fix ‘E: Could not get lock /var/lib/dpkg/lock’ Error in Ubuntu [Quick Tip]\n",
      "\n",
      "How to Mount and Use an exFAT Drive on Ubuntu Linux [Quick Tip]\n",
      "\n",
      "Using Flatpak on Ubuntu and Other Linux Distributions [Complete Guide]\n",
      "\n",
      "How to Set Different Wallpaper for Each Monitor in Linux\n",
      "\n",
      "How to Enable Click to Minimize On Ubuntu\n",
      "\n",
      "How to Fix Right Click Touchpad Not Working on Ubuntu 18.04 [Quick Tip]\n",
      "More Posts from this Category\n",
      "\n",
      "Easily Upgrade Ubuntu to a Newer Version with This Single Command\n",
      "\n",
      "Fake A Hollywood Hacker Screen in Linux Terminal\n",
      "Read More Linux Terminal Tricks\n",
      "\n",
      "Ubuntu Budgie 18.04 Review: The Perfect Blend of Ubuntu and Budgie Desktop\n",
      "\n",
      "Bring Your Old Computer Back to Life With 4MLinux\n",
      "Read reviews of other Linux distributions\n",
      "\n",
      "System76’s Oryx Pro Laptop Targets AI Developers\n",
      "\n",
      "A Modular and Open Source Router is Being Crowdfunded\n",
      "\n",
      "Mycroft Mark II: The Open Source Answer to Amazon Echo and Google Home That Doesn’t Spy on You\n",
      "More Posts from this Category\n",
      "\n",
      "Unbelievable! Linux Mint Ditches Ubuntu, Will Be Based on Arch Linux Now\n",
      "\n",
      "LOL! Google Thinks Arch Linux is Based on Ubuntu\n",
      "Read other fun articles\n",
      "\n",
      "\n",
      "Twitter\n",
      "4.2k\n",
      "Followers\n",
      "\n",
      "\n",
      "\n",
      "\n",
      "\n",
      "YouTube\n",
      "8.4k\n",
      "Followers\n",
      "\n",
      "\n",
      "\n",
      "\n",
      "\n",
      "Instagram\n",
      "9k\n",
      "Followers\n",
      "\n",
      "\n",
      "\n",
      "\n",
      "\n",
      "Facebook\n",
      "110.5k\n",
      "Followers\n",
      "\n",
      "\n",
      "\n",
      "\n",
      "About It's FOSS\n",
      "Meet the team\n",
      "We Donate to FOSS Projects\n",
      "Contact Us\n",
      "Get Featured on It's FOSS\n",
      "Request a tutorial\n",
      "Follow us on Facebook\n",
      "Follow us on Google Plus\n",
      "Follow us on Instagram\n",
      "Follow us on Pinterest\n",
      "Follow us on Twitter\n",
      "Subscribe to Newsletter\n",
      "Subscribe to YouTube Channel\n",
      "Exclusive Telegram Channel\n",
      "Join LinkedIn Community\n",
      "Linux Users Group on Facebook\n",
      "Linux Users Group on Google Plus\n",
      "Linux Users Group on Reddit\n",
      "Affiliate Policy\n",
      "Privacy Policy\n",
      "Genesis Framework\n"
     ]
    }
   ],
   "source": [
    "allheading=soup.find_all('a')\n",
    "for item in allheading:\n",
    "    print(item.text)"
   ]
  },
  {
   "cell_type": "code",
   "execution_count": null,
   "metadata": {},
   "outputs": [],
   "source": [
    "#links,para and heading of each article save in a file"
   ]
  },
  {
   "cell_type": "code",
   "execution_count": 8,
   "metadata": {},
   "outputs": [
    {
     "ename": "NameError",
     "evalue": "name 'soup' is not defined",
     "output_type": "error",
     "traceback": [
      "\u001b[1;31m---------------------------------------------------------------------------\u001b[0m",
      "\u001b[1;31mNameError\u001b[0m                                 Traceback (most recent call last)",
      "\u001b[1;32m<ipython-input-8-41bc1cf7a56e>\u001b[0m in \u001b[0;36m<module>\u001b[1;34m()\u001b[0m\n\u001b[0;32m      1\u001b[0m \u001b[1;33m\u001b[0m\u001b[0m\n\u001b[1;32m----> 2\u001b[1;33m \u001b[1;32mfor\u001b[0m \u001b[0mlink\u001b[0m \u001b[1;32min\u001b[0m \u001b[0msoup\u001b[0m\u001b[1;33m.\u001b[0m\u001b[0mfind_all\u001b[0m\u001b[1;33m(\u001b[0m\u001b[1;34m'a'\u001b[0m\u001b[1;33m)\u001b[0m\u001b[1;33m:\u001b[0m\u001b[1;33m\u001b[0m\u001b[0m\n\u001b[0m\u001b[0;32m      3\u001b[0m     \u001b[0mprint\u001b[0m\u001b[1;33m(\u001b[0m\u001b[0mlink\u001b[0m\u001b[1;33m.\u001b[0m\u001b[0mattrs\u001b[0m\u001b[1;33m[\u001b[0m\u001b[1;34m'href'\u001b[0m\u001b[1;33m]\u001b[0m\u001b[1;33m)\u001b[0m\u001b[1;33m\u001b[0m\u001b[0m\n",
      "\u001b[1;31mNameError\u001b[0m: name 'soup' is not defined"
     ]
    }
   ],
   "source": [
    "\n",
    "for link in soup.find_all('a'):\n",
    "    print(link.attrs['href'])"
   ]
  },
  {
   "cell_type": "code",
   "execution_count": 2,
   "metadata": {},
   "outputs": [],
   "source": [
    "from bs4 import BeautifulSoup as bs\n",
    "import requests"
   ]
  },
  {
   "cell_type": "code",
   "execution_count": null,
   "metadata": {},
   "outputs": [],
   "source": [
    "base_url=\"https://en.wikipedia.org/wiki/Machine_learning\"\n"
   ]
  }
 ],
 "metadata": {
  "kernelspec": {
   "display_name": "Python 3",
   "language": "python",
   "name": "python3"
  },
  "language_info": {
   "codemirror_mode": {
    "name": "ipython",
    "version": 3
   },
   "file_extension": ".py",
   "mimetype": "text/x-python",
   "name": "python",
   "nbconvert_exporter": "python",
   "pygments_lexer": "ipython3",
   "version": "3.6.5"
  }
 },
 "nbformat": 4,
 "nbformat_minor": 2
}
