{
 "cells": [
  {
   "cell_type": "markdown",
   "metadata": {},
   "source": [
    "# Autoencoders"
   ]
  },
  {
   "cell_type": "markdown",
   "metadata": {},
   "source": [
    "## 1 Setup"
   ]
  },
  {
   "cell_type": "code",
   "execution_count": 1,
   "metadata": {
    "collapsed": true
   },
   "outputs": [],
   "source": [
    "# Common imports\n",
    "import numpy as np\n",
    "import os\n",
    "import sys\n",
    "\n",
    "# to make this notebook's output stable across runs\n",
    "def reset_graph(seed=42):\n",
    "    tf.reset_default_graph()\n",
    "    tf.set_random_seed(seed)\n",
    "    np.random.seed(seed)\n",
    "\n",
    "# To plot pretty figures\n",
    "%matplotlib inline\n",
    "import matplotlib\n",
    "import matplotlib.pyplot as plt\n",
    "plt.rcParams['axes.labelsize'] = 14\n",
    "plt.rcParams['xtick.labelsize'] = 12\n",
    "plt.rcParams['ytick.labelsize'] = 12\n",
    "\n",
    "# Where to save the figures\n",
    "PROJECT_ROOT_DIR = \".\"\n",
    "CHAPTER_ID = \"autoencoders\"\n",
    "\n",
    "def save_fig(fig_id, tight_layout=True):\n",
    "    path = os.path.join(PROJECT_ROOT_DIR, \"images\", CHAPTER_ID, fig_id + \".png\")\n",
    "    print(\"Saving figure\", fig_id)\n",
    "    if tight_layout:\n",
    "        plt.tight_layout()\n",
    "    plt.savefig(path, format='png', dpi=300)\n",
    "\n",
    "def plot_image(image, shape=[28, 28]):\n",
    "    plt.imshow(image.reshape(shape), cmap=\"Greys\", interpolation=\"nearest\")\n",
    "    plt.axis(\"off\")\n",
    "\n",
    "def plot_multiple_images(images, n_rows, n_cols, pad=2):\n",
    "    images = images - images.min()  # make the minimum == 0, so the padding looks white\n",
    "    w,h = images.shape[1:]\n",
    "    image = np.zeros(((w+pad)*n_rows+pad, (h+pad)*n_cols+pad))\n",
    "    for y in range(n_rows):\n",
    "        for x in range(n_cols):\n",
    "            image[(y*(h+pad)+pad):(y*(h+pad)+pad+h),(x*(w+pad)+pad):(x*(w+pad)+pad+w)] = images[y*n_cols+x]\n",
    "    plt.imshow(image, cmap=\"Greys\", interpolation=\"nearest\")\n",
    "    plt.axis(\"off\")"
   ]
  },
  {
   "cell_type": "markdown",
   "metadata": {},
   "source": [
    "# PCA"
   ]
  },
  {
   "cell_type": "code",
   "execution_count": 2,
   "metadata": {
    "collapsed": false
   },
   "outputs": [],
   "source": [
    "np.random.seed(4)\n",
    "m = 200\n",
    "w1, w2 = 0.1, 0.3\n",
    "noise = 0.1\n",
    "\n",
    "angles = np.random.rand(m) * 3 * np.pi / 2 - 0.5\n",
    "data = np.empty((m, 3))\n",
    "data[:, 0] = np.cos(angles) + np.sin(angles)/2 + noise * np.random.randn(m) / 2\n",
    "data[:, 1] = np.sin(angles) * 0.7 + noise * np.random.randn(m) / 2\n",
    "data[:, 2] = data[:, 0] * w1 + data[:, 1] * w2 + noise * np.random.randn(m)"
   ]
  },
  {
   "cell_type": "code",
   "execution_count": 3,
   "metadata": {
    "collapsed": true
   },
   "outputs": [],
   "source": [
    "from sklearn.preprocessing import StandardScaler\n",
    "scaler = StandardScaler()\n",
    "X_train = scaler.fit_transform(data[:100])\n",
    "X_test = scaler.transform(data[100:])"
   ]
  },
  {
   "cell_type": "code",
   "execution_count": 4,
   "metadata": {
    "collapsed": false
   },
   "outputs": [],
   "source": [
    "import tensorflow as tf\n",
    "reset_graph()\n",
    "n_inputs = 3\n",
    "n_hidden = 2\n",
    "n_outputs = n_inputs\n",
    "\n",
    "learning_rate = 0.01\n",
    "\n",
    "X = tf.placeholder(tf.float32, shape=[None, n_inputs])\n",
    "hidden = tf.layers.dense(X, n_hidden)\n",
    "outputs = tf.layers.dense(hidden, n_outputs)"
   ]
  },
  {
   "cell_type": "code",
   "execution_count": 5,
   "metadata": {
    "collapsed": true
   },
   "outputs": [],
   "source": [
    "reconstruction_loss = tf.reduce_mean(tf.square(outputs - X))"
   ]
  },
  {
   "cell_type": "code",
   "execution_count": 6,
   "metadata": {
    "collapsed": true
   },
   "outputs": [],
   "source": [
    "optimizer = tf.train.AdamOptimizer(learning_rate)\n",
    "training_op = optimizer.minimize(reconstruction_loss)\n",
    "init = tf.global_variables_initializer()"
   ]
  },
  {
   "cell_type": "code",
   "execution_count": 7,
   "metadata": {
    "collapsed": false
   },
   "outputs": [],
   "source": [
    "n_iterations = 10000\n",
    "coding = hidden\n",
    "with tf.Session() as sess:\n",
    "    init.run()\n",
    "    for interation in range(n_iterations):\n",
    "        training_op.run(feed_dict={X:X_train})\n",
    "    codings_val = coding.eval(feed_dict={X: X_test})"
   ]
  },
  {
   "cell_type": "code",
   "execution_count": 10,
   "metadata": {
    "collapsed": false
   },
   "outputs": [
    {
     "data": {
      "image/png": "[encoded data removed]",
      "text/plain": [
       "<matplotlib.figure.Figure at 0x11a050588>"
      ]
     },
     "metadata": {},
     "output_type": "display_data"
    }
   ],
   "source": [
    "fig = plt.figure(figsize=(4,3))\n",
    "plt.plot(codings_val[:,0], codings_val[:, 1], \"b.\")\n",
    "plt.xlabel(\"$z_1$\", fontsize=18)\n",
    "plt.ylabel(\"$z_2$\", fontsize=18, rotation=0)\n",
    "plt.show()"
   ]
  },
  {
   "cell_type": "markdown",
   "metadata": {
    "collapsed": true
   },
   "source": [
    "# Stacked Autoencoders"
   ]
  },
  {
   "cell_type": "code",
   "execution_count": 17,
   "metadata": {
    "collapsed": false
   },
   "outputs": [
    {
     "name": "stdout",
     "output_type": "stream",
     "text": [
      "Extracting /Users/gaufung/WorkSpace/HMLST/data/train-images-idx3-ubyte.gz\n",
      "Extracting /Users/gaufung/WorkSpace/HMLST/data/train-labels-idx1-ubyte.gz\n",
      "Extracting /Users/gaufung/WorkSpace/HMLST/data/t10k-images-idx3-ubyte.gz\n",
      "Extracting /Users/gaufung/WorkSpace/HMLST/data/t10k-labels-idx1-ubyte.gz\n"
     ]
    }
   ],
   "source": [
    "from tensorflow.examples.tutorials.mnist import input_data\n",
    "mnist = input_data.read_data_sets(\"/Users/gaufung/WorkSpace/HMLST/data\")"
   ]
  },
  {
   "cell_type": "code",
   "execution_count": 20,
   "metadata": {
    "collapsed": false
   },
   "outputs": [],
   "source": [
    "reset_graph()\n",
    "from functools import partial\n",
    "n_inputs = 28 * 28\n",
    "n_hidden1 = 300\n",
    "n_hidden2 = 150 # coding\n",
    "n_hidden3 = n_hidden1\n",
    "n_outputs = n_inputs\n",
    "\n",
    "learning_rate = 0.01\n",
    "l2_reg = 0.0001\n",
    "\n",
    "X = tf.placeholder(tf.float32, shape=[None, n_inputs])\n",
    "he_init = tf.contrib.layers.variance_scaling_initializer()\n",
    "l2_regularizer = tf.contrib.layers.l2_regularizer(l2_reg)\n",
    "my_dense_partial = partial(tf.layers.dense,\n",
    "                           activation=tf.nn.elu,\n",
    "                           kernel_initializer=he_init,\n",
    "                           kernel_regularizer=l2_regularizer)\n",
    "hidden1 = my_dense_partial(X, n_hidden1)\n",
    "hidden2 = my_dense_partial(hidden1, n_hidden2)\n",
    "hidden3 = my_dense_partial(hidden2, n_hidden3)\n",
    "outputs = my_dense_partial(hidden3, n_outputs, activation=None)\n",
    "reconstruction_loss = tf.reduce_mean(tf.square(outputs - X))\n",
    "reg_losses = tf.get_collection(tf.GraphKeys.REGULARIZATION_LOSSES)\n",
    "loss = tf.add_n([reconstruction_loss] + reg_losses)\n",
    "\n",
    "optimizer = tf.train.AdamOptimizer(learning_rate)\n",
    "\n",
    "training_op = optimizer.minimize(loss)\n",
    "\n",
    "init = tf.global_variables_initializer()\n",
    "saver = tf.train.Saver() # not shown in the book"
   ]
  },
  {
   "cell_type": "code",
   "execution_count": 21,
   "metadata": {
    "collapsed": false
   },
   "outputs": [
    {
     "name": "stdout",
     "output_type": "stream",
     "text": [
      "0 Train MSE: 0.0223695\n",
      "1 Train MSE: 0.011576\n",
      "2 Train MSE: 0.0104548\n",
      "3 Train MSE: 0.0101719\n",
      "4 Train MSE: 0.0098028\n"
     ]
    }
   ],
   "source": [
    "n_epochs = 5\n",
    "batch_size = 150\n",
    "\n",
    "with tf.Session() as sess:\n",
    "    init.run()\n",
    "    for epoch in range(n_epochs):\n",
    "        n_batches = mnist.train.num_examples // batch_size\n",
    "        for iteration in range(n_batches):\n",
    "            print(\"\\r{}%\".format(100 * iteration // n_batches), end=\"\") # not shown in the book\n",
    "            sys.stdout.flush()                                          # not shown\n",
    "            X_batch, y_batch = mnist.train.next_batch(batch_size)\n",
    "            sess.run(training_op, feed_dict={X: X_batch})\n",
    "        loss_train = reconstruction_loss.eval(feed_dict={X: X_batch})   # not shown\n",
    "        print(\"\\r{}\".format(epoch), \"Train MSE:\", loss_train)           # not shown\n",
    "        saver.save(sess, \"./my_model_all_layers.ckpt\")    "
   ]
  },
  {
   "cell_type": "code",
   "execution_count": 22,
   "metadata": {
    "collapsed": true
   },
   "outputs": [],
   "source": [
    "def show_reconstructed_digits(X, outputs, model_path = None, n_test_digits = 2):\n",
    "    with tf.Session() as sess:\n",
    "        if model_path:\n",
    "            saver.restore(sess, model_path)\n",
    "        X_test = mnist.test.images[:n_test_digits]\n",
    "        outputs_val = outputs.eval(feed_dict={X: X_test})\n",
    "\n",
    "    fig = plt.figure(figsize=(8, 3 * n_test_digits))\n",
    "    for digit_index in range(n_test_digits):\n",
    "        plt.subplot(n_test_digits, 2, digit_index * 2 + 1)\n",
    "        plot_image(X_test[digit_index])\n",
    "        plt.subplot(n_test_digits, 2, digit_index * 2 + 2)\n",
    "        plot_image(outputs_val[digit_index])"
   ]
  },
  {
   "cell_type": "code",
   "execution_count": 25,
   "metadata": {
    "collapsed": false
   },
   "outputs": [
    {
     "data": {
      "image/png": "[encoded data removed]",
      "text/plain": [
       "<matplotlib.figure.Figure at 0x12d275b70>"
      ]
     },
     "metadata": {},
     "output_type": "display_data"
    }
   ],
   "source": [
    "show_reconstructed_digits(X, outputs, \"/Users/gaufung/WorkSpace/HMLST/Chapter14/my_model_all_layers.ckpt\")\n",
    "#save_fig(\"reconstruction_plot\")"
   ]
  },
  {
   "cell_type": "markdown",
   "metadata": {},
   "source": [
    "# Tying Weights"
   ]
  },
  {
   "cell_type": "code",
   "execution_count": 26,
   "metadata": {
    "collapsed": true
   },
   "outputs": [],
   "source": [
    "reset_graph()\n",
    "n_inputs = 28 * 28\n",
    "n_hidden1 = 300\n",
    "n_hidden2 = 150  # codings\n",
    "n_hidden3 = n_hidden1\n",
    "n_outputs = n_inputs\n",
    "\n",
    "learning_rate = 0.01\n",
    "l2_reg = 0.0005"
   ]
  },
  {
   "cell_type": "code",
   "execution_count": 29,
   "metadata": {
    "collapsed": false
   },
   "outputs": [],
   "source": [
    "activation = tf.nn.relu\n",
    "regularizer = tf.contrib.layers.l2_regularizer(l2_reg)\n",
    "initilizer = tf.contrib.layers.variance_scaling_initializer()\n",
    "X = tf.placeholder(tf.float32, shape=[None, n_inputs])"
   ]
  },
  {
   "cell_type": "code",
   "execution_count": 30,
   "metadata": {
    "collapsed": true
   },
   "outputs": [],
   "source": [
    "weight1_init = initilizer([n_inputs, n_hidden1])\n",
    "weight2_init = initilizer([n_hidden1, n_hidden2])\n",
    "\n",
    "weight1 = tf.Variable(weight1_init, dtype=tf.float32, name='weights1')\n",
    "weight2 = tf.Variable(weight2_init, dtype=tf.float32, name='weights2')\n",
    "weight3 = tf.transpose(weight2, name='weight3')\n",
    "weight4 = tf.transpose(weight1, name='weight4')\n",
    "\n",
    "biases1 = tf.Variable(tf.zeros(n_hidden1), name='biases1')\n",
    "biases2 = tf.Variable(tf.zeros(n_hidden2), name='biases2')\n",
    "biases3 = tf.Variable(tf.zeros(n_hidden3), name='biases3')\n",
    "biases4 = tf.Variable(tf.zeros(n_outputs), name='biases4')\n",
    "\n",
    "hidden1 = activation(tf.matmul(X, weight1) + biases1)\n",
    "hidden2 = activation(tf.matmul(hidden1, weight2) + biases2)\n",
    "hidden3 = activation(tf.matmul(hidden2, weight3) + biases3)\n",
    "outputs = tf.matmul(hidden3, weight4) + biases4"
   ]
  },
  {
   "cell_type": "code",
   "execution_count": 32,
   "metadata": {
    "collapsed": false
   },
   "outputs": [],
   "source": [
    "reconstruction_loss = tf.reduce_mean(tf.square(outputs-X))\n",
    "reg_loss = regularizer(weight1) + regularizer(weight2)\n",
    "loss = reconstruction_loss + reg_loss"
   ]
  },
  {
   "cell_type": "code",
   "execution_count": 33,
   "metadata": {
    "collapsed": true
   },
   "outputs": [],
   "source": [
    "optimizer = tf.train.AdamOptimizer(learning_rate)\n",
    "training_op = optimizer.minimize(loss)\n",
    "init = tf.global_variables_initializer()"
   ]
  },
  {
   "cell_type": "code",
   "execution_count": 34,
   "metadata": {
    "collapsed": true
   },
   "outputs": [],
   "source": [
    "saver = tf.train.Saver()"
   ]
  },
  {
   "cell_type": "code",
   "execution_count": 35,
   "metadata": {
    "collapsed": false
   },
   "outputs": [
    {
     "name": "stdout",
     "output_type": "stream",
     "text": [
      "0 Train MSE: 0.0295439\n",
      "1 Train MSE: 0.026863\n",
      "2 Train MSE: 0.0264512\n",
      "3 Train MSE: 0.0254662\n",
      "4 Train MSE: 0.0257643\n"
     ]
    }
   ],
   "source": [
    "n_epochs = 5\n",
    "batch_size = 150\n",
    "\n",
    "with tf.Session() as sess:\n",
    "    init.run()\n",
    "    for epoch in range(n_epochs):\n",
    "        n_batches = mnist.train.num_examples // batch_size\n",
    "        for iteration in range(n_batches):\n",
    "            print(\"\\r{}%\".format(100 * iteration // n_batches), end=\"\")\n",
    "            sys.stdout.flush()\n",
    "            X_batch, y_batch = mnist.train.next_batch(batch_size)\n",
    "            sess.run(training_op, feed_dict={X: X_batch})\n",
    "        loss_train = reconstruction_loss.eval(feed_dict={X: X_batch})\n",
    "        print(\"\\r{}\".format(epoch), \"Train MSE:\", loss_train)\n",
    "        saver.save(sess, \"./my_model_tying_weights.ckpt\")"
   ]
  },
  {
   "cell_type": "code",
   "execution_count": 36,
   "metadata": {
    "collapsed": false
   },
   "outputs": [
    {
     "data": {
      "image/png": "[encoded data removed]",
      "text/plain": [
       "<matplotlib.figure.Figure at 0x11fd1ccc0>"
      ]
     },
     "metadata": {},
     "output_type": "display_data"
    }
   ],
   "source": [
    "show_reconstructed_digits(X, outputs, \"./my_model_tying_weights.ckpt\")"
   ]
  },
  {
   "cell_type": "markdown",
   "metadata": {},
   "source": [
    "# Training one Autoencoder at a time in a single graph"
   ]
  },
  {
   "cell_type": "code",
   "execution_count": 37,
   "metadata": {
    "collapsed": true
   },
   "outputs": [],
   "source": [
    "reset_graph()\n",
    "\n",
    "n_inputs = 28 * 28\n",
    "n_hidden1 = 300\n",
    "n_hidden2 = 150  # codings\n",
    "n_hidden3 = n_hidden1\n",
    "n_outputs = n_inputs\n",
    "\n",
    "learning_rate = 0.01\n",
    "l2_reg = 0.0001\n",
    "\n",
    "activation = tf.nn.elu\n",
    "regularizer = tf.contrib.layers.l2_regularizer(l2_reg)\n",
    "initializer = tf.contrib.layers.variance_scaling_initializer()\n",
    "\n",
    "X = tf.placeholder(tf.float32, shape=[None, n_inputs])\n",
    "\n",
    "weights1_init = initializer([n_inputs, n_hidden1])\n",
    "weights2_init = initializer([n_hidden1, n_hidden2])\n",
    "weights3_init = initializer([n_hidden2, n_hidden3])\n",
    "weights4_init = initializer([n_hidden3, n_outputs])\n",
    "\n",
    "weights1 = tf.Variable(weights1_init, dtype=tf.float32, name=\"weights1\")\n",
    "weights2 = tf.Variable(weights2_init, dtype=tf.float32, name=\"weights2\")\n",
    "weights3 = tf.Variable(weights3_init, dtype=tf.float32, name=\"weights3\")\n",
    "weights4 = tf.Variable(weights4_init, dtype=tf.float32, name=\"weights4\")\n",
    "\n",
    "biases1 = tf.Variable(tf.zeros(n_hidden1), name=\"biases1\")\n",
    "biases2 = tf.Variable(tf.zeros(n_hidden2), name=\"biases2\")\n",
    "biases3 = tf.Variable(tf.zeros(n_hidden3), name=\"biases3\")\n",
    "biases4 = tf.Variable(tf.zeros(n_outputs), name=\"biases4\")\n",
    "\n",
    "hidden1 = activation(tf.matmul(X, weights1) + biases1)\n",
    "hidden2 = activation(tf.matmul(hidden1, weights2) + biases2)\n",
    "hidden3 = activation(tf.matmul(hidden2, weights3) + biases3)\n",
    "outputs = tf.matmul(hidden3, weights4) + biases4\n",
    "\n",
    "reconstruction_loss = tf.reduce_mean(tf.square(outputs - X))"
   ]
  },
  {
   "cell_type": "code",
   "execution_count": 38,
   "metadata": {
    "collapsed": true
   },
   "outputs": [],
   "source": [
    "optimizer = tf.train.AdamOptimizer(learning_rate)\n",
    "\n",
    "with tf.name_scope(\"phase1\"):\n",
    "    phase1_outputs = tf.matmul(hidden1, weights4) + biases4  # bypass hidden2 and hidden3\n",
    "    phase1_reconstruction_loss = tf.reduce_mean(tf.square(phase1_outputs - X))\n",
    "    phase1_reg_loss = regularizer(weights1) + regularizer(weights4)\n",
    "    phase1_loss = phase1_reconstruction_loss + phase1_reg_loss\n",
    "    phase1_training_op = optimizer.minimize(phase1_loss)\n",
    "\n",
    "with tf.name_scope(\"phase2\"):\n",
    "    phase2_reconstruction_loss = tf.reduce_mean(tf.square(hidden3 - hidden1))\n",
    "    phase2_reg_loss = regularizer(weights2) + regularizer(weights3)\n",
    "    phase2_loss = phase2_reconstruction_loss + phase2_reg_loss\n",
    "    train_vars = [weights2, biases2, weights3, biases3]\n",
    "    phase2_training_op = optimizer.minimize(phase2_loss, var_list=train_vars) # freeze hidden1"
   ]
  },
  {
   "cell_type": "code",
   "execution_count": 39,
   "metadata": {
    "collapsed": true
   },
   "outputs": [],
   "source": [
    "init = tf.global_variables_initializer()\n",
    "saver = tf.train.Saver()"
   ]
  },
  {
   "cell_type": "code",
   "execution_count": 40,
   "metadata": {
    "collapsed": false
   },
   "outputs": [
    {
     "name": "stdout",
     "output_type": "stream",
     "text": [
      "Training phase #1\n",
      "0 Train MSE: 0.00768351\n",
      "1 Train MSE: 0.00764861\n",
      "2 Train MSE: 0.00722312\n",
      "3 Train MSE: 0.0075902\n",
      "Training phase #2\n",
      "0 Train MSE: 0.146254\n",
      "1 Train MSE: 0.0039927\n",
      "2 Train MSE: 0.00240416\n",
      "3 Train MSE: 0.00192417\n",
      "Test MSE: 0.00967345\n"
     ]
    }
   ],
   "source": [
    "training_ops = [phase1_training_op, phase2_training_op]\n",
    "reconstruction_losses = [phase1_reconstruction_loss, phase2_reconstruction_loss]\n",
    "n_epochs = [4, 4]\n",
    "batch_sizes = [150, 150]\n",
    "\n",
    "with tf.Session() as sess:\n",
    "    init.run()\n",
    "    for phase in range(2):\n",
    "        print(\"Training phase #{}\".format(phase + 1))\n",
    "        for epoch in range(n_epochs[phase]):\n",
    "            n_batches = mnist.train.num_examples // batch_sizes[phase]\n",
    "            for iteration in range(n_batches):\n",
    "                print(\"\\r{}%\".format(100 * iteration // n_batches), end=\"\")\n",
    "                sys.stdout.flush()\n",
    "                X_batch, y_batch = mnist.train.next_batch(batch_sizes[phase])\n",
    "                sess.run(training_ops[phase], feed_dict={X: X_batch})\n",
    "            loss_train = reconstruction_losses[phase].eval(feed_dict={X: X_batch})\n",
    "            print(\"\\r{}\".format(epoch), \"Train MSE:\", loss_train)\n",
    "            saver.save(sess, \"./my_model_one_at_a_time.ckpt\")\n",
    "    loss_test = reconstruction_loss.eval(feed_dict={X: mnist.test.images})\n",
    "    print(\"Test MSE:\", loss_test)"
   ]
  },
  {
   "cell_type": "markdown",
   "metadata": {},
   "source": [
    "# Unsupervised pretraining"
   ]
  },
  {
   "cell_type": "code",
   "execution_count": 41,
   "metadata": {
    "collapsed": true
   },
   "outputs": [],
   "source": [
    "reset_graph()\n",
    "\n",
    "n_inputs = 28 * 28\n",
    "n_hidden1 = 300\n",
    "n_hidden2 = 150\n",
    "n_outputs = 10\n",
    "\n",
    "learning_rate = 0.01\n",
    "l2_reg = 0.0005\n",
    "\n",
    "activation = tf.nn.elu\n",
    "regularizer = tf.contrib.layers.l2_regularizer(l2_reg)\n",
    "initializer = tf.contrib.layers.variance_scaling_initializer()\n",
    "\n",
    "X = tf.placeholder(tf.float32, shape=[None, n_inputs])\n",
    "y = tf.placeholder(tf.int32, shape=[None])\n",
    "\n",
    "weights1_init = initializer([n_inputs, n_hidden1])\n",
    "weights2_init = initializer([n_hidden1, n_hidden2])\n",
    "weights3_init = initializer([n_hidden2, n_outputs])\n",
    "\n",
    "weights1 = tf.Variable(weights1_init, dtype=tf.float32, name=\"weights1\")\n",
    "weights2 = tf.Variable(weights2_init, dtype=tf.float32, name=\"weights2\")\n",
    "weights3 = tf.Variable(weights3_init, dtype=tf.float32, name=\"weights3\")\n",
    "\n",
    "biases1 = tf.Variable(tf.zeros(n_hidden1), name=\"biases1\")\n",
    "biases2 = tf.Variable(tf.zeros(n_hidden2), name=\"biases2\")\n",
    "biases3 = tf.Variable(tf.zeros(n_outputs), name=\"biases3\")\n",
    "\n",
    "hidden1 = activation(tf.matmul(X, weights1) + biases1)\n",
    "hidden2 = activation(tf.matmul(hidden1, weights2) + biases2)\n",
    "logits = tf.matmul(hidden2, weights3) + biases3\n",
    "\n",
    "cross_entropy = tf.nn.sparse_softmax_cross_entropy_with_logits(labels=y, logits=logits)\n",
    "reg_loss = regularizer(weights1) + regularizer(weights2) + regularizer(weights3)\n",
    "loss = cross_entropy + reg_loss\n",
    "optimizer = tf.train.AdamOptimizer(learning_rate)\n",
    "training_op = optimizer.minimize(loss)\n",
    "\n",
    "correct = tf.nn.in_top_k(logits, y, 1)\n",
    "accuracy = tf.reduce_mean(tf.cast(correct, tf.float32))\n",
    "\n",
    "init = tf.global_variables_initializer()\n",
    "pretrain_saver = tf.train.Saver([weights1, weights2, biases1, biases2])\n",
    "saver = tf.train.Saver()"
   ]
  },
  {
   "cell_type": "code",
   "execution_count": 43,
   "metadata": {
    "collapsed": false
   },
   "outputs": [
    {
     "name": "stdout",
     "output_type": "stream",
     "text": [
      "0 Train accuracy: 0.933333 Test accuracy: 0.9275\n",
      "1 Train accuracy: 0.966667 Test accuracy: 0.9351\n",
      "2 Train accuracy: 0.96 Test accuracy: 0.9378\n",
      "3 Train accuracy: 0.973333 Test accuracy: 0.946\n"
     ]
    }
   ],
   "source": [
    "n_epochs = 4\n",
    "batch_size = 150\n",
    "n_labeled_instances = 20000\n",
    "\n",
    "with tf.Session() as sess:\n",
    "    init.run()\n",
    "    for epoch in range(n_epochs):\n",
    "        n_batches = n_labeled_instances // batch_size\n",
    "        for iteration in range(n_batches):\n",
    "            print(\"\\r{}%\".format(100 * iteration // n_batches), end=\"\")\n",
    "            sys.stdout.flush()\n",
    "            indices = np.random.permutation(n_labeled_instances)[:batch_size]\n",
    "            X_batch, y_batch = mnist.train.images[indices], mnist.train.labels[indices]\n",
    "            sess.run(training_op, feed_dict={X: X_batch, y: y_batch})\n",
    "        accuracy_val = accuracy.eval(feed_dict={X: X_batch, y: y_batch})\n",
    "        print(\"\\r{}\".format(epoch), \"Train accuracy:\", accuracy_val, end=\" \")\n",
    "        saver.save(sess, \"./my_model_supervised.ckpt\")\n",
    "        accuracy_val = accuracy.eval(feed_dict={X: mnist.test.images, y: mnist.test.labels})\n",
    "        print(\"Test accuracy:\", accuracy_val)"
   ]
  },
  {
   "cell_type": "code",
   "execution_count": 46,
   "metadata": {
    "collapsed": false
   },
   "outputs": [
    {
     "ename": "NotFoundError",
     "evalue": "Unsuccessful TensorSliceReader constructor: Failed to find any matching files for /Users/gaufung/WorkSpace/HMLST/Chapter14/my_model_cache_frozen.ckpt\n\t [[Node: save/RestoreV2_2 = RestoreV2[dtypes=[DT_FLOAT], _device=\"/job:localhost/replica:0/task:0/cpu:0\"](_recv_save/Const_0, save/RestoreV2_2/tensor_names, save/RestoreV2_2/shape_and_slices)]]\n\nCaused by op 'save/RestoreV2_2', defined at:\n  File \"/Users/gaufung/anaconda/lib/python3.6/runpy.py\", line 193, in _run_module_as_main\n    \"__main__\", mod_spec)\n  File \"/Users/gaufung/anaconda/lib/python3.6/runpy.py\", line 85, in _run_code\n    exec(code, run_globals)\n  File \"/Users/gaufung/anaconda/lib/python3.6/site-packages/ipykernel/__main__.py\", line 3, in <module>\n    app.launch_new_instance()\n  File \"/Users/gaufung/anaconda/lib/python3.6/site-packages/traitlets/config/application.py\", line 658, in launch_instance\n    app.start()\n  File \"/Users/gaufung/anaconda/lib/python3.6/site-packages/ipykernel/kernelapp.py\", line 474, in start\n    ioloop.IOLoop.instance().start()\n  File \"/Users/gaufung/anaconda/lib/python3.6/site-packages/zmq/eventloop/ioloop.py\", line 177, in start\n    super(ZMQIOLoop, self).start()\n  File \"/Users/gaufung/anaconda/lib/python3.6/site-packages/tornado/ioloop.py\", line 887, in start\n    handler_func(fd_obj, events)\n  File \"/Users/gaufung/anaconda/lib/python3.6/site-packages/tornado/stack_context.py\", line 275, in null_wrapper\n    return fn(*args, **kwargs)\n  File \"/Users/gaufung/anaconda/lib/python3.6/site-packages/zmq/eventloop/zmqstream.py\", line 440, in _handle_events\n    self._handle_recv()\n  File \"/Users/gaufung/anaconda/lib/python3.6/site-packages/zmq/eventloop/zmqstream.py\", line 472, in _handle_recv\n    self._run_callback(callback, msg)\n  File \"/Users/gaufung/anaconda/lib/python3.6/site-packages/zmq/eventloop/zmqstream.py\", line 414, in _run_callback\n    callback(*args, **kwargs)\n  File \"/Users/gaufung/anaconda/lib/python3.6/site-packages/tornado/stack_context.py\", line 275, in null_wrapper\n    return fn(*args, **kwargs)\n  File \"/Users/gaufung/anaconda/lib/python3.6/site-packages/ipykernel/kernelbase.py\", line 276, in dispatcher\n    return self.dispatch_shell(stream, msg)\n  File \"/Users/gaufung/anaconda/lib/python3.6/site-packages/ipykernel/kernelbase.py\", line 228, in dispatch_shell\n    handler(stream, idents, msg)\n  File \"/Users/gaufung/anaconda/lib/python3.6/site-packages/ipykernel/kernelbase.py\", line 390, in execute_request\n    user_expressions, allow_stdin)\n  File \"/Users/gaufung/anaconda/lib/python3.6/site-packages/ipykernel/ipkernel.py\", line 196, in do_execute\n    res = shell.run_cell(code, store_history=store_history, silent=silent)\n  File \"/Users/gaufung/anaconda/lib/python3.6/site-packages/ipykernel/zmqshell.py\", line 501, in run_cell\n    return super(ZMQInteractiveShell, self).run_cell(*args, **kwargs)\n  File \"/Users/gaufung/anaconda/lib/python3.6/site-packages/IPython/core/interactiveshell.py\", line 2717, in run_cell\n    interactivity=interactivity, compiler=compiler, result=result)\n  File \"/Users/gaufung/anaconda/lib/python3.6/site-packages/IPython/core/interactiveshell.py\", line 2821, in run_ast_nodes\n    if self.run_code(code, result):\n  File \"/Users/gaufung/anaconda/lib/python3.6/site-packages/IPython/core/interactiveshell.py\", line 2881, in run_code\n    exec(code_obj, self.user_global_ns, self.user_ns)\n  File \"<ipython-input-41-3ffe31a5a1ab>\", line 44, in <module>\n    pretrain_saver = tf.train.Saver([weights1, weights2, biases1, biases2])\n  File \"/Users/gaufung/anaconda/lib/python3.6/site-packages/tensorflow/python/training/saver.py\", line 1051, in __init__\n    self.build()\n  File \"/Users/gaufung/anaconda/lib/python3.6/site-packages/tensorflow/python/training/saver.py\", line 1081, in build\n    restore_sequentially=self._restore_sequentially)\n  File \"/Users/gaufung/anaconda/lib/python3.6/site-packages/tensorflow/python/training/saver.py\", line 675, in build\n    restore_sequentially, reshape)\n  File \"/Users/gaufung/anaconda/lib/python3.6/site-packages/tensorflow/python/training/saver.py\", line 402, in _AddRestoreOps\n    tensors = self.restore_op(filename_tensor, saveable, preferred_shard)\n  File \"/Users/gaufung/anaconda/lib/python3.6/site-packages/tensorflow/python/training/saver.py\", line 242, in restore_op\n    [spec.tensor.dtype])[0])\n  File \"/Users/gaufung/anaconda/lib/python3.6/site-packages/tensorflow/python/ops/gen_io_ops.py\", line 668, in restore_v2\n    dtypes=dtypes, name=name)\n  File \"/Users/gaufung/anaconda/lib/python3.6/site-packages/tensorflow/python/framework/op_def_library.py\", line 763, in apply_op\n    op_def=op_def)\n  File \"/Users/gaufung/anaconda/lib/python3.6/site-packages/tensorflow/python/framework/ops.py\", line 2395, in create_op\n    original_op=self._default_original_op, op_def=op_def)\n  File \"/Users/gaufung/anaconda/lib/python3.6/site-packages/tensorflow/python/framework/ops.py\", line 1264, in __init__\n    self._traceback = _extract_stack()\n\nNotFoundError (see above for traceback): Unsuccessful TensorSliceReader constructor: Failed to find any matching files for /Users/gaufung/WorkSpace/HMLST/Chapter14/my_model_cache_frozen.ckpt\n\t [[Node: save/RestoreV2_2 = RestoreV2[dtypes=[DT_FLOAT], _device=\"/job:localhost/replica:0/task:0/cpu:0\"](_recv_save/Const_0, save/RestoreV2_2/tensor_names, save/RestoreV2_2/shape_and_slices)]]\n",
     "output_type": "error",
     "traceback": [
      "\u001b[0;31m---------------------------------------------------------------------------\u001b[0m",
      "\u001b[0;31mNotFoundError\u001b[0m                             Traceback (most recent call last)",
      "\u001b[0;32m/Users/gaufung/anaconda/lib/python3.6/site-packages/tensorflow/python/client/session.py\u001b[0m in \u001b[0;36m_do_call\u001b[0;34m(self, fn, *args)\u001b[0m\n\u001b[1;32m   1021\u001b[0m     \u001b[0;32mtry\u001b[0m\u001b[0;34m:\u001b[0m\u001b[0;34m\u001b[0m\u001b[0m\n\u001b[0;32m-> 1022\u001b[0;31m       \u001b[0;32mreturn\u001b[0m \u001b[0mfn\u001b[0m\u001b[0;34m(\u001b[0m\u001b[0;34m*\u001b[0m\u001b[0margs\u001b[0m\u001b[0;34m)\u001b[0m\u001b[0;34m\u001b[0m\u001b[0m\n\u001b[0m\u001b[1;32m   1023\u001b[0m     \u001b[0;32mexcept\u001b[0m \u001b[0merrors\u001b[0m\u001b[0;34m.\u001b[0m\u001b[0mOpError\u001b[0m \u001b[0;32mas\u001b[0m \u001b[0me\u001b[0m\u001b[0;34m:\u001b[0m\u001b[0;34m\u001b[0m\u001b[0m\n",
      "\u001b[0;32m/Users/gaufung/anaconda/lib/python3.6/site-packages/tensorflow/python/client/session.py\u001b[0m in \u001b[0;36m_run_fn\u001b[0;34m(session, feed_dict, fetch_list, target_list, options, run_metadata)\u001b[0m\n\u001b[1;32m   1003\u001b[0m                                  \u001b[0mfeed_dict\u001b[0m\u001b[0;34m,\u001b[0m \u001b[0mfetch_list\u001b[0m\u001b[0;34m,\u001b[0m \u001b[0mtarget_list\u001b[0m\u001b[0;34m,\u001b[0m\u001b[0;34m\u001b[0m\u001b[0m\n\u001b[0;32m-> 1004\u001b[0;31m                                  status, run_metadata)\n\u001b[0m\u001b[1;32m   1005\u001b[0m \u001b[0;34m\u001b[0m\u001b[0m\n",
      "\u001b[0;32m/Users/gaufung/anaconda/lib/python3.6/contextlib.py\u001b[0m in \u001b[0;36m__exit__\u001b[0;34m(self, type, value, traceback)\u001b[0m\n\u001b[1;32m     88\u001b[0m             \u001b[0;32mtry\u001b[0m\u001b[0;34m:\u001b[0m\u001b[0;34m\u001b[0m\u001b[0m\n\u001b[0;32m---> 89\u001b[0;31m                 \u001b[0mnext\u001b[0m\u001b[0;34m(\u001b[0m\u001b[0mself\u001b[0m\u001b[0;34m.\u001b[0m\u001b[0mgen\u001b[0m\u001b[0;34m)\u001b[0m\u001b[0;34m\u001b[0m\u001b[0m\n\u001b[0m\u001b[1;32m     90\u001b[0m             \u001b[0;32mexcept\u001b[0m \u001b[0mStopIteration\u001b[0m\u001b[0;34m:\u001b[0m\u001b[0;34m\u001b[0m\u001b[0m\n",
      "\u001b[0;32m/Users/gaufung/anaconda/lib/python3.6/site-packages/tensorflow/python/framework/errors_impl.py\u001b[0m in \u001b[0;36mraise_exception_on_not_ok_status\u001b[0;34m()\u001b[0m\n\u001b[1;32m    468\u001b[0m           \u001b[0mcompat\u001b[0m\u001b[0;34m.\u001b[0m\u001b[0mas_text\u001b[0m\u001b[0;34m(\u001b[0m\u001b[0mpywrap_tensorflow\u001b[0m\u001b[0;34m.\u001b[0m\u001b[0mTF_Message\u001b[0m\u001b[0;34m(\u001b[0m\u001b[0mstatus\u001b[0m\u001b[0;34m)\u001b[0m\u001b[0;34m)\u001b[0m\u001b[0;34m,\u001b[0m\u001b[0;34m\u001b[0m\u001b[0m\n\u001b[0;32m--> 469\u001b[0;31m           pywrap_tensorflow.TF_GetCode(status))\n\u001b[0m\u001b[1;32m    470\u001b[0m   \u001b[0;32mfinally\u001b[0m\u001b[0;34m:\u001b[0m\u001b[0;34m\u001b[0m\u001b[0m\n",
      "\u001b[0;31mNotFoundError\u001b[0m: Unsuccessful TensorSliceReader constructor: Failed to find any matching files for /Users/gaufung/WorkSpace/HMLST/Chapter14/my_model_cache_frozen.ckpt\n\t [[Node: save/RestoreV2_2 = RestoreV2[dtypes=[DT_FLOAT], _device=\"/job:localhost/replica:0/task:0/cpu:0\"](_recv_save/Const_0, save/RestoreV2_2/tensor_names, save/RestoreV2_2/shape_and_slices)]]",
      "\nDuring handling of the above exception, another exception occurred:\n",
      "\u001b[0;31mNotFoundError\u001b[0m                             Traceback (most recent call last)",
      "\u001b[0;32m<ipython-input-46-714cb70778df>\u001b[0m in \u001b[0;36m<module>\u001b[0;34m()\u001b[0m\n\u001b[1;32m      7\u001b[0m \u001b[0;32mwith\u001b[0m \u001b[0mtf\u001b[0m\u001b[0;34m.\u001b[0m\u001b[0mSession\u001b[0m\u001b[0;34m(\u001b[0m\u001b[0;34m)\u001b[0m \u001b[0;32mas\u001b[0m \u001b[0msess\u001b[0m\u001b[0;34m:\u001b[0m\u001b[0;34m\u001b[0m\u001b[0m\n\u001b[1;32m      8\u001b[0m     \u001b[0minit\u001b[0m\u001b[0;34m.\u001b[0m\u001b[0mrun\u001b[0m\u001b[0;34m(\u001b[0m\u001b[0;34m)\u001b[0m\u001b[0;34m\u001b[0m\u001b[0m\n\u001b[0;32m----> 9\u001b[0;31m     \u001b[0mpretrain_saver\u001b[0m\u001b[0;34m.\u001b[0m\u001b[0mrestore\u001b[0m\u001b[0;34m(\u001b[0m\u001b[0msess\u001b[0m\u001b[0;34m,\u001b[0m \u001b[0;34m\"/Users/gaufung/WorkSpace/HMLST/Chapter14/my_model_cache_frozen.ckpt\"\u001b[0m\u001b[0;34m)\u001b[0m\u001b[0;34m\u001b[0m\u001b[0m\n\u001b[0m\u001b[1;32m     10\u001b[0m     \u001b[0;32mfor\u001b[0m \u001b[0mepoch\u001b[0m \u001b[0;32min\u001b[0m \u001b[0mrange\u001b[0m\u001b[0;34m(\u001b[0m\u001b[0mn_epochs\u001b[0m\u001b[0;34m)\u001b[0m\u001b[0;34m:\u001b[0m\u001b[0;34m\u001b[0m\u001b[0m\n\u001b[1;32m     11\u001b[0m         \u001b[0mn_batches\u001b[0m \u001b[0;34m=\u001b[0m \u001b[0mn_labeled_instances\u001b[0m \u001b[0;34m//\u001b[0m \u001b[0mbatch_size\u001b[0m\u001b[0;34m\u001b[0m\u001b[0m\n",
      "\u001b[0;32m/Users/gaufung/anaconda/lib/python3.6/site-packages/tensorflow/python/training/saver.py\u001b[0m in \u001b[0;36mrestore\u001b[0;34m(self, sess, save_path)\u001b[0m\n\u001b[1;32m   1437\u001b[0m       \u001b[0;32mreturn\u001b[0m\u001b[0;34m\u001b[0m\u001b[0m\n\u001b[1;32m   1438\u001b[0m     sess.run(self.saver_def.restore_op_name,\n\u001b[0;32m-> 1439\u001b[0;31m              {self.saver_def.filename_tensor_name: save_path})\n\u001b[0m\u001b[1;32m   1440\u001b[0m \u001b[0;34m\u001b[0m\u001b[0m\n\u001b[1;32m   1441\u001b[0m   \u001b[0;34m@\u001b[0m\u001b[0mstaticmethod\u001b[0m\u001b[0;34m\u001b[0m\u001b[0m\n",
      "\u001b[0;32m/Users/gaufung/anaconda/lib/python3.6/site-packages/tensorflow/python/client/session.py\u001b[0m in \u001b[0;36mrun\u001b[0;34m(self, fetches, feed_dict, options, run_metadata)\u001b[0m\n\u001b[1;32m    765\u001b[0m     \u001b[0;32mtry\u001b[0m\u001b[0;34m:\u001b[0m\u001b[0;34m\u001b[0m\u001b[0m\n\u001b[1;32m    766\u001b[0m       result = self._run(None, fetches, feed_dict, options_ptr,\n\u001b[0;32m--> 767\u001b[0;31m                          run_metadata_ptr)\n\u001b[0m\u001b[1;32m    768\u001b[0m       \u001b[0;32mif\u001b[0m \u001b[0mrun_metadata\u001b[0m\u001b[0;34m:\u001b[0m\u001b[0;34m\u001b[0m\u001b[0m\n\u001b[1;32m    769\u001b[0m         \u001b[0mproto_data\u001b[0m \u001b[0;34m=\u001b[0m \u001b[0mtf_session\u001b[0m\u001b[0;34m.\u001b[0m\u001b[0mTF_GetBuffer\u001b[0m\u001b[0;34m(\u001b[0m\u001b[0mrun_metadata_ptr\u001b[0m\u001b[0;34m)\u001b[0m\u001b[0;34m\u001b[0m\u001b[0m\n",
      "\u001b[0;32m/Users/gaufung/anaconda/lib/python3.6/site-packages/tensorflow/python/client/session.py\u001b[0m in \u001b[0;36m_run\u001b[0;34m(self, handle, fetches, feed_dict, options, run_metadata)\u001b[0m\n\u001b[1;32m    963\u001b[0m     \u001b[0;32mif\u001b[0m \u001b[0mfinal_fetches\u001b[0m \u001b[0;32mor\u001b[0m \u001b[0mfinal_targets\u001b[0m\u001b[0;34m:\u001b[0m\u001b[0;34m\u001b[0m\u001b[0m\n\u001b[1;32m    964\u001b[0m       results = self._do_run(handle, final_targets, final_fetches,\n\u001b[0;32m--> 965\u001b[0;31m                              feed_dict_string, options, run_metadata)\n\u001b[0m\u001b[1;32m    966\u001b[0m     \u001b[0;32melse\u001b[0m\u001b[0;34m:\u001b[0m\u001b[0;34m\u001b[0m\u001b[0m\n\u001b[1;32m    967\u001b[0m       \u001b[0mresults\u001b[0m \u001b[0;34m=\u001b[0m \u001b[0;34m[\u001b[0m\u001b[0;34m]\u001b[0m\u001b[0;34m\u001b[0m\u001b[0m\n",
      "\u001b[0;32m/Users/gaufung/anaconda/lib/python3.6/site-packages/tensorflow/python/client/session.py\u001b[0m in \u001b[0;36m_do_run\u001b[0;34m(self, handle, target_list, fetch_list, feed_dict, options, run_metadata)\u001b[0m\n\u001b[1;32m   1013\u001b[0m     \u001b[0;32mif\u001b[0m \u001b[0mhandle\u001b[0m \u001b[0;32mis\u001b[0m \u001b[0;32mNone\u001b[0m\u001b[0;34m:\u001b[0m\u001b[0;34m\u001b[0m\u001b[0m\n\u001b[1;32m   1014\u001b[0m       return self._do_call(_run_fn, self._session, feed_dict, fetch_list,\n\u001b[0;32m-> 1015\u001b[0;31m                            target_list, options, run_metadata)\n\u001b[0m\u001b[1;32m   1016\u001b[0m     \u001b[0;32melse\u001b[0m\u001b[0;34m:\u001b[0m\u001b[0;34m\u001b[0m\u001b[0m\n\u001b[1;32m   1017\u001b[0m       return self._do_call(_prun_fn, self._session, handle, feed_dict,\n",
      "\u001b[0;32m/Users/gaufung/anaconda/lib/python3.6/site-packages/tensorflow/python/client/session.py\u001b[0m in \u001b[0;36m_do_call\u001b[0;34m(self, fn, *args)\u001b[0m\n\u001b[1;32m   1033\u001b[0m         \u001b[0;32mexcept\u001b[0m \u001b[0mKeyError\u001b[0m\u001b[0;34m:\u001b[0m\u001b[0;34m\u001b[0m\u001b[0m\n\u001b[1;32m   1034\u001b[0m           \u001b[0;32mpass\u001b[0m\u001b[0;34m\u001b[0m\u001b[0m\n\u001b[0;32m-> 1035\u001b[0;31m       \u001b[0;32mraise\u001b[0m \u001b[0mtype\u001b[0m\u001b[0;34m(\u001b[0m\u001b[0me\u001b[0m\u001b[0;34m)\u001b[0m\u001b[0;34m(\u001b[0m\u001b[0mnode_def\u001b[0m\u001b[0;34m,\u001b[0m \u001b[0mop\u001b[0m\u001b[0;34m,\u001b[0m \u001b[0mmessage\u001b[0m\u001b[0;34m)\u001b[0m\u001b[0;34m\u001b[0m\u001b[0m\n\u001b[0m\u001b[1;32m   1036\u001b[0m \u001b[0;34m\u001b[0m\u001b[0m\n\u001b[1;32m   1037\u001b[0m   \u001b[0;32mdef\u001b[0m \u001b[0m_extend_graph\u001b[0m\u001b[0;34m(\u001b[0m\u001b[0mself\u001b[0m\u001b[0;34m)\u001b[0m\u001b[0;34m:\u001b[0m\u001b[0;34m\u001b[0m\u001b[0m\n",
      "\u001b[0;31mNotFoundError\u001b[0m: Unsuccessful TensorSliceReader constructor: Failed to find any matching files for /Users/gaufung/WorkSpace/HMLST/Chapter14/my_model_cache_frozen.ckpt\n\t [[Node: save/RestoreV2_2 = RestoreV2[dtypes=[DT_FLOAT], _device=\"/job:localhost/replica:0/task:0/cpu:0\"](_recv_save/Const_0, save/RestoreV2_2/tensor_names, save/RestoreV2_2/shape_and_slices)]]\n\nCaused by op 'save/RestoreV2_2', defined at:\n  File \"/Users/gaufung/anaconda/lib/python3.6/runpy.py\", line 193, in _run_module_as_main\n    \"__main__\", mod_spec)\n  File \"/Users/gaufung/anaconda/lib/python3.6/runpy.py\", line 85, in _run_code\n    exec(code, run_globals)\n  File \"/Users/gaufung/anaconda/lib/python3.6/site-packages/ipykernel/__main__.py\", line 3, in <module>\n    app.launch_new_instance()\n  File \"/Users/gaufung/anaconda/lib/python3.6/site-packages/traitlets/config/application.py\", line 658, in launch_instance\n    app.start()\n  File \"/Users/gaufung/anaconda/lib/python3.6/site-packages/ipykernel/kernelapp.py\", line 474, in start\n    ioloop.IOLoop.instance().start()\n  File \"/Users/gaufung/anaconda/lib/python3.6/site-packages/zmq/eventloop/ioloop.py\", line 177, in start\n    super(ZMQIOLoop, self).start()\n  File \"/Users/gaufung/anaconda/lib/python3.6/site-packages/tornado/ioloop.py\", line 887, in start\n    handler_func(fd_obj, events)\n  File \"/Users/gaufung/anaconda/lib/python3.6/site-packages/tornado/stack_context.py\", line 275, in null_wrapper\n    return fn(*args, **kwargs)\n  File \"/Users/gaufung/anaconda/lib/python3.6/site-packages/zmq/eventloop/zmqstream.py\", line 440, in _handle_events\n    self._handle_recv()\n  File \"/Users/gaufung/anaconda/lib/python3.6/site-packages/zmq/eventloop/zmqstream.py\", line 472, in _handle_recv\n    self._run_callback(callback, msg)\n  File \"/Users/gaufung/anaconda/lib/python3.6/site-packages/zmq/eventloop/zmqstream.py\", line 414, in _run_callback\n    callback(*args, **kwargs)\n  File \"/Users/gaufung/anaconda/lib/python3.6/site-packages/tornado/stack_context.py\", line 275, in null_wrapper\n    return fn(*args, **kwargs)\n  File \"/Users/gaufung/anaconda/lib/python3.6/site-packages/ipykernel/kernelbase.py\", line 276, in dispatcher\n    return self.dispatch_shell(stream, msg)\n  File \"/Users/gaufung/anaconda/lib/python3.6/site-packages/ipykernel/kernelbase.py\", line 228, in dispatch_shell\n    handler(stream, idents, msg)\n  File \"/Users/gaufung/anaconda/lib/python3.6/site-packages/ipykernel/kernelbase.py\", line 390, in execute_request\n    user_expressions, allow_stdin)\n  File \"/Users/gaufung/anaconda/lib/python3.6/site-packages/ipykernel/ipkernel.py\", line 196, in do_execute\n    res = shell.run_cell(code, store_history=store_history, silent=silent)\n  File \"/Users/gaufung/anaconda/lib/python3.6/site-packages/ipykernel/zmqshell.py\", line 501, in run_cell\n    return super(ZMQInteractiveShell, self).run_cell(*args, **kwargs)\n  File \"/Users/gaufung/anaconda/lib/python3.6/site-packages/IPython/core/interactiveshell.py\", line 2717, in run_cell\n    interactivity=interactivity, compiler=compiler, result=result)\n  File \"/Users/gaufung/anaconda/lib/python3.6/site-packages/IPython/core/interactiveshell.py\", line 2821, in run_ast_nodes\n    if self.run_code(code, result):\n  File \"/Users/gaufung/anaconda/lib/python3.6/site-packages/IPython/core/interactiveshell.py\", line 2881, in run_code\n    exec(code_obj, self.user_global_ns, self.user_ns)\n  File \"<ipython-input-41-3ffe31a5a1ab>\", line 44, in <module>\n    pretrain_saver = tf.train.Saver([weights1, weights2, biases1, biases2])\n  File \"/Users/gaufung/anaconda/lib/python3.6/site-packages/tensorflow/python/training/saver.py\", line 1051, in __init__\n    self.build()\n  File \"/Users/gaufung/anaconda/lib/python3.6/site-packages/tensorflow/python/training/saver.py\", line 1081, in build\n    restore_sequentially=self._restore_sequentially)\n  File \"/Users/gaufung/anaconda/lib/python3.6/site-packages/tensorflow/python/training/saver.py\", line 675, in build\n    restore_sequentially, reshape)\n  File \"/Users/gaufung/anaconda/lib/python3.6/site-packages/tensorflow/python/training/saver.py\", line 402, in _AddRestoreOps\n    tensors = self.restore_op(filename_tensor, saveable, preferred_shard)\n  File \"/Users/gaufung/anaconda/lib/python3.6/site-packages/tensorflow/python/training/saver.py\", line 242, in restore_op\n    [spec.tensor.dtype])[0])\n  File \"/Users/gaufung/anaconda/lib/python3.6/site-packages/tensorflow/python/ops/gen_io_ops.py\", line 668, in restore_v2\n    dtypes=dtypes, name=name)\n  File \"/Users/gaufung/anaconda/lib/python3.6/site-packages/tensorflow/python/framework/op_def_library.py\", line 763, in apply_op\n    op_def=op_def)\n  File \"/Users/gaufung/anaconda/lib/python3.6/site-packages/tensorflow/python/framework/ops.py\", line 2395, in create_op\n    original_op=self._default_original_op, op_def=op_def)\n  File \"/Users/gaufung/anaconda/lib/python3.6/site-packages/tensorflow/python/framework/ops.py\", line 1264, in __init__\n    self._traceback = _extract_stack()\n\nNotFoundError (see above for traceback): Unsuccessful TensorSliceReader constructor: Failed to find any matching files for /Users/gaufung/WorkSpace/HMLST/Chapter14/my_model_cache_frozen.ckpt\n\t [[Node: save/RestoreV2_2 = RestoreV2[dtypes=[DT_FLOAT], _device=\"/job:localhost/replica:0/task:0/cpu:0\"](_recv_save/Const_0, save/RestoreV2_2/tensor_names, save/RestoreV2_2/shape_and_slices)]]\n"
     ]
    }
   ],
   "source": [
    "n_epochs = 4\n",
    "batch_size = 150\n",
    "n_labeled_instances = 20000\n",
    "\n",
    "#training_op = optimizer.minimize(loss, var_list=[weights3, biases3])  # Freeze layers 1 and 2 (optional)\n",
    "\n",
    "with tf.Session() as sess:\n",
    "    init.run()\n",
    "    pretrain_saver.restore(sess, \"/Users/gaufung/WorkSpace/HMLST/Chapter14/my_model_cache_frozen.ckpt\")\n",
    "    for epoch in range(n_epochs):\n",
    "        n_batches = n_labeled_instances // batch_size\n",
    "        for iteration in range(n_batches):\n",
    "            print(\"\\r{}%\".format(100 * iteration // n_batches), end=\"\")\n",
    "            sys.stdout.flush()\n",
    "            indices = rnd.permutation(n_labeled_instances)[:batch_size]\n",
    "            X_batch, y_batch = mnist.train.images[indices], mnist.train.labels[indices]\n",
    "            sess.run(training_op, feed_dict={X: X_batch, y: y_batch})\n",
    "        accuracy_val = accuracy.eval(feed_dict={X: X_batch, y: y_batch})\n",
    "        print(\"\\r{}\".format(epoch), \"Train accuracy:\", accuracy_val, end=\"\\t\")\n",
    "        saver.save(sess, \"/Users/gaufung/WorkSpace/HMLST/Chapter14/my_model_supervised_pretrained.ckpt\")\n",
    "        accuracy_val = accuracy.eval(feed_dict={X: mnist.test.images, y: mnist.test.labels})\n",
    "        print(\"Test accuracy:\", accuracy_val)"
   ]
  },
  {
   "cell_type": "markdown",
   "metadata": {},
   "source": [
    "# Stacked denoising Autoencoder"
   ]
  },
  {
   "cell_type": "code",
   "execution_count": 47,
   "metadata": {
    "collapsed": true
   },
   "outputs": [],
   "source": [
    "reset_graph()\n",
    "\n",
    "n_inputs = 28 * 28\n",
    "n_hidden1 = 300\n",
    "n_hidden2 = 150  # codings\n",
    "n_hidden3 = n_hidden1\n",
    "n_outputs = n_inputs\n",
    "\n",
    "learning_rate = 0.01"
   ]
  },
  {
   "cell_type": "code",
   "execution_count": 48,
   "metadata": {
    "collapsed": true
   },
   "outputs": [],
   "source": [
    "noise_level = 1.0\n",
    "\n",
    "X = tf.placeholder(tf.float32, shape=[None, n_inputs])\n",
    "X_noisy = X + noise_level * tf.random_normal(tf.shape(X))\n",
    "\n",
    "hidden1 = tf.layers.dense(X_noisy, n_hidden1, activation=tf.nn.relu,\n",
    "                          name=\"hidden1\")\n",
    "hidden2 = tf.layers.dense(hidden1, n_hidden2, activation=tf.nn.relu, # not shown in the book\n",
    "                          name=\"hidden2\")                            # not shown\n",
    "hidden3 = tf.layers.dense(hidden2, n_hidden3, activation=tf.nn.relu, # not shown\n",
    "                          name=\"hidden3\")                            # not shown\n",
    "outputs = tf.layers.dense(hidden3, n_outputs, name=\"outputs\")        # not shown\n",
    "\n",
    "reconstruction_loss = tf.reduce_mean(tf.square(outputs - X)) # MSE"
   ]
  },
  {
   "cell_type": "code",
   "execution_count": 49,
   "metadata": {
    "collapsed": true
   },
   "outputs": [],
   "source": [
    "optimizer = tf.train.AdamOptimizer(learning_rate)\n",
    "training_op = optimizer.minimize(reconstruction_loss)\n",
    "    \n",
    "init = tf.global_variables_initializer()\n",
    "saver = tf.train.Saver()"
   ]
  },
  {
   "cell_type": "code",
   "execution_count": 50,
   "metadata": {
    "collapsed": false
   },
   "outputs": [
    {
     "name": "stdout",
     "output_type": "stream",
     "text": [
      "0 Train MSE: 0.043547\n",
      "1 Train MSE: 0.0402932\n",
      "2 Train MSE: 0.0396382\n",
      "3 Train MSE: 0.0407563\n",
      "4 Train MSE: 0.0417976\n",
      "5 Train MSE: 0.0417086\n",
      "6 Train MSE: 0.0409972\n",
      "7 Train MSE: 0.0399496\n",
      "8 Train MSE: 0.0425804\n",
      "9 Train MSE: 0.0407985\n"
     ]
    }
   ],
   "source": [
    "n_epochs = 10\n",
    "batch_size = 150\n",
    "\n",
    "with tf.Session() as sess:\n",
    "    init.run()\n",
    "    for epoch in range(n_epochs):\n",
    "        n_batches = mnist.train.num_examples // batch_size\n",
    "        for iteration in range(n_batches):\n",
    "            print(\"\\r{}%\".format(100 * iteration // n_batches), end=\"\")\n",
    "            sys.stdout.flush()\n",
    "            X_batch, y_batch = mnist.train.next_batch(batch_size)\n",
    "            sess.run(training_op, feed_dict={X: X_batch})\n",
    "        loss_train = reconstruction_loss.eval(feed_dict={X: X_batch})\n",
    "        print(\"\\r{}\".format(epoch), \"Train MSE:\", loss_train)\n",
    "        saver.save(sess, \"./my_model_stacked_denoising_gaussian.ckpt\")"
   ]
  },
  {
   "cell_type": "markdown",
   "metadata": {},
   "source": [
    "using dropout"
   ]
  },
  {
   "cell_type": "code",
   "execution_count": 51,
   "metadata": {
    "collapsed": true
   },
   "outputs": [],
   "source": [
    "reset_graph()\n",
    "\n",
    "n_inputs = 28 * 28\n",
    "n_hidden1 = 300\n",
    "n_hidden2 = 150  # codings\n",
    "n_hidden3 = n_hidden1\n",
    "n_outputs = n_inputs\n",
    "\n",
    "learning_rate = 0.01"
   ]
  },
  {
   "cell_type": "code",
   "execution_count": 52,
   "metadata": {
    "collapsed": true
   },
   "outputs": [],
   "source": [
    "dropout_rate = 0.3\n",
    "\n",
    "training = tf.placeholder_with_default(False, shape=(), name='training')\n",
    "\n",
    "X = tf.placeholder(tf.float32, shape=[None, n_inputs])\n",
    "X_drop = tf.layers.dropout(X, dropout_rate, training=training)\n",
    "\n",
    "hidden1 = tf.layers.dense(X_drop, n_hidden1, activation=tf.nn.relu,\n",
    "                          name=\"hidden1\")\n",
    "hidden2 = tf.layers.dense(hidden1, n_hidden2, activation=tf.nn.relu, # not shown in the book\n",
    "                          name=\"hidden2\")                            # not shown\n",
    "hidden3 = tf.layers.dense(hidden2, n_hidden3, activation=tf.nn.relu, # not shown\n",
    "                          name=\"hidden3\")                            # not shown\n",
    "outputs = tf.layers.dense(hidden3, n_outputs, name=\"outputs\")        # not shown\n",
    "\n",
    "reconstruction_loss = tf.reduce_mean(tf.square(outputs - X)) # MSE"
   ]
  },
  {
   "cell_type": "code",
   "execution_count": 53,
   "metadata": {
    "collapsed": true
   },
   "outputs": [],
   "source": [
    "optimizer = tf.train.AdamOptimizer(learning_rate)\n",
    "training_op = optimizer.minimize(reconstruction_loss)\n",
    "    \n",
    "init = tf.global_variables_initializer()\n",
    "saver = tf.train.Saver()"
   ]
  },
  {
   "cell_type": "code",
   "execution_count": 54,
   "metadata": {
    "collapsed": false
   },
   "outputs": [
    {
     "name": "stdout",
     "output_type": "stream",
     "text": [
      "0 Train MSE: 0.0302302\n",
      "1 Train MSE: 0.0253113\n",
      "2 Train MSE: 0.0262474\n",
      "3 Train MSE: 0.0242105\n",
      "4 Train MSE: 0.0251463\n",
      "5 Train MSE: 0.0237205\n",
      "6 Train MSE: 0.0237524\n",
      "7 Train MSE: 0.0243243\n",
      "8 Train MSE: 0.0239038\n",
      "9 Train MSE: 0.0244547\n"
     ]
    }
   ],
   "source": [
    "n_epochs = 10\n",
    "batch_size = 150\n",
    "\n",
    "with tf.Session() as sess:\n",
    "    init.run()\n",
    "    for epoch in range(n_epochs):\n",
    "        n_batches = mnist.train.num_examples // batch_size\n",
    "        for iteration in range(n_batches):\n",
    "            print(\"\\r{}%\".format(100 * iteration // n_batches), end=\"\")\n",
    "            sys.stdout.flush()\n",
    "            X_batch, y_batch = mnist.train.next_batch(batch_size)\n",
    "            sess.run(training_op, feed_dict={X: X_batch, training: True})\n",
    "        loss_train = reconstruction_loss.eval(feed_dict={X: X_batch})\n",
    "        print(\"\\r{}\".format(epoch), \"Train MSE:\", loss_train)\n",
    "        saver.save(sess, \"./my_model_stacked_denoising_dropout.ckpt\")"
   ]
  },
  {
   "cell_type": "code",
   "execution_count": 55,
   "metadata": {
    "collapsed": false
   },
   "outputs": [
    {
     "data": {
      "image/png": "[encoded data removed]",
      "text/plain": [
       "<matplotlib.figure.Figure at 0x106dce898>"
      ]
     },
     "metadata": {},
     "output_type": "display_data"
    }
   ],
   "source": [
    "show_reconstructed_digits(X, outputs, \"./my_model_stacked_denoising_dropout.ckpt\")"
   ]
  },
  {
   "cell_type": "markdown",
   "metadata": {},
   "source": [
    "# Sparsity Autoecoder"
   ]
  },
  {
   "cell_type": "code",
   "execution_count": 57,
   "metadata": {
    "collapsed": false
   },
   "outputs": [
    {
     "data": {
      "text/plain": [
       "[0, 1, 0, 0.95]"
      ]
     },
     "execution_count": 57,
     "metadata": {},
     "output_type": "execute_result"
    },
    {
     "data": {
      "image/png": "[encoded data removed]",
      "text/plain": [
       "<matplotlib.figure.Figure at 0x12187f4a8>"
      ]
     },
     "metadata": {},
     "output_type": "display_data"
    }
   ],
   "source": [
    "p = 0.1\n",
    "q = np.linspace(0.001, 0.999, 500)\n",
    "kl_div = p * np.log(p / q) + (1 - p) * np.log((1 - p) / (1 - q))\n",
    "mse = (p - q)**2\n",
    "plt.plot([p, p], [0, 0.3], \"k:\")\n",
    "plt.text(0.05, 0.32, \"Target\\nsparsity\", fontsize=14)\n",
    "plt.plot(q, kl_div, \"b-\", label=\"KL divergence\")\n",
    "plt.plot(q, mse, \"r--\", label=\"MSE\")\n",
    "plt.legend(loc=\"upper left\")\n",
    "plt.xlabel(\"Actual sparsity\")\n",
    "plt.ylabel(\"Cost\", rotation=0)\n",
    "plt.axis([0, 1, 0, 0.95])"
   ]
  },
  {
   "cell_type": "code",
   "execution_count": 58,
   "metadata": {
    "collapsed": true
   },
   "outputs": [],
   "source": [
    "reset_graph()\n",
    "\n",
    "n_inputs = 28 * 28\n",
    "n_hidden1 = 1000  # sparse codings\n",
    "n_outputs = n_inputs"
   ]
  },
  {
   "cell_type": "code",
   "execution_count": 59,
   "metadata": {
    "collapsed": true
   },
   "outputs": [],
   "source": [
    "def kl_divergence(p, q):\n",
    "    # Kullback Leibler divergence\n",
    "    return p * tf.log(p / q) + (1 - p) * tf.log((1 - p) / (1 - q))\n",
    "\n",
    "learning_rate = 0.01\n",
    "sparsity_target = 0.1\n",
    "sparsity_weight = 0.2\n",
    "\n",
    "X = tf.placeholder(tf.float32, shape=[None, n_inputs])            # not shown in the book\n",
    "\n",
    "hidden1 = tf.layers.dense(X, n_hidden1, activation=tf.nn.sigmoid) # not shown\n",
    "outputs = tf.layers.dense(hidden1, n_outputs)                     # not shown\n",
    "\n",
    "hidden1_mean = tf.reduce_mean(hidden1, axis=0) # batch mean\n",
    "sparsity_loss = tf.reduce_sum(kl_divergence(sparsity_target, hidden1_mean))\n",
    "reconstruction_loss = tf.reduce_mean(tf.square(outputs - X)) # MSE\n",
    "loss = reconstruction_loss + sparsity_weight * sparsity_loss\n",
    "\n",
    "optimizer = tf.train.AdamOptimizer(learning_rate)\n",
    "training_op = optimizer.minimize(loss)"
   ]
  },
  {
   "cell_type": "code",
   "execution_count": 60,
   "metadata": {
    "collapsed": true
   },
   "outputs": [],
   "source": [
    "init = tf.global_variables_initializer()\n",
    "saver = tf.train.Saver()"
   ]
  },
  {
   "cell_type": "code",
   "execution_count": 61,
   "metadata": {
    "collapsed": false
   },
   "outputs": [
    {
     "name": "stdout",
     "output_type": "stream",
     "text": [
      "0 Train MSE: 0.144076 \tSparsity loss: 0.234456 \tTotal loss: 0.190968\n",
      "1 Train MSE: 0.0593777 \tSparsity loss: 0.0577239 \tTotal loss: 0.0709225\n",
      "2 Train MSE: 0.0548157 \tSparsity loss: 0.512933 \tTotal loss: 0.157402\n",
      "3 Train MSE: 0.047433 \tSparsity loss: 0.165889 \tTotal loss: 0.0806108\n",
      "4 Train MSE: 0.0452981 \tSparsity loss: 0.0980072 \tTotal loss: 0.0648996\n",
      "5 Train MSE: 0.0426474 \tSparsity loss: 0.00652927 \tTotal loss: 0.0439533\n",
      "6 Train MSE: 0.0383659 \tSparsity loss: 0.0302544 \tTotal loss: 0.0444168\n",
      "7 Train MSE: 0.0370433 \tSparsity loss: 0.0898655 \tTotal loss: 0.0550164\n",
      "8 Train MSE: 0.0334308 \tSparsity loss: 0.00908268 \tTotal loss: 0.0352474\n",
      "9 Train MSE: 0.0307176 \tSparsity loss: 0.0515204 \tTotal loss: 0.0410216\n",
      "10 Train MSE: 0.0269975 \tSparsity loss: 0.0332162 \tTotal loss: 0.0336408\n",
      "11 Train MSE: 0.0260866 \tSparsity loss: 0.0629221 \tTotal loss: 0.038671\n",
      "12 Train MSE: 0.0227729 \tSparsity loss: 0.0194418 \tTotal loss: 0.0266612\n",
      "13 Train MSE: 0.0230543 \tSparsity loss: 0.13289 \tTotal loss: 0.0496324\n",
      "14 Train MSE: 0.0211839 \tSparsity loss: 0.0339363 \tTotal loss: 0.0279711\n",
      "15 Train MSE: 0.0210985 \tSparsity loss: 0.0382742 \tTotal loss: 0.0287533\n",
      "16 Train MSE: 0.0196756 \tSparsity loss: 0.158849 \tTotal loss: 0.0514455\n",
      "17 Train MSE: 0.0187504 \tSparsity loss: 0.0332256 \tTotal loss: 0.0253955\n",
      "18 Train MSE: 0.0180047 \tSparsity loss: 0.126952 \tTotal loss: 0.0433951\n",
      "19 Train MSE: 0.0173653 \tSparsity loss: 0.0907887 \tTotal loss: 0.035523\n",
      "20 Train MSE: 0.0169915 \tSparsity loss: 0.0981828 \tTotal loss: 0.036628\n",
      "21 Train MSE: 0.0163217 \tSparsity loss: 0.13635 \tTotal loss: 0.0435917\n",
      "22 Train MSE: 0.0162201 \tSparsity loss: 0.0768073 \tTotal loss: 0.0315816\n",
      "23 Train MSE: 0.015648 \tSparsity loss: 0.0310559 \tTotal loss: 0.0218592\n",
      "24 Train MSE: 0.0155101 \tSparsity loss: 0.0573909 \tTotal loss: 0.0269882\n",
      "25 Train MSE: 0.0149533 \tSparsity loss: 0.436298 \tTotal loss: 0.102213\n",
      "26 Train MSE: 0.0139935 \tSparsity loss: 0.105356 \tTotal loss: 0.0350646\n",
      "27 Train MSE: 0.0142235 \tSparsity loss: 0.0843166 \tTotal loss: 0.0310868\n",
      "28 Train MSE: 0.014644 \tSparsity loss: 0.094822 \tTotal loss: 0.0336084\n",
      "29 Train MSE: 0.0142821 \tSparsity loss: 0.0645848 \tTotal loss: 0.027199\n",
      "30 Train MSE: 0.0153922 \tSparsity loss: 0.219142 \tTotal loss: 0.0592207\n",
      "31 Train MSE: 0.0137187 \tSparsity loss: 0.0723972 \tTotal loss: 0.0281981\n",
      "32 Train MSE: 0.0134552 \tSparsity loss: 0.0969145 \tTotal loss: 0.0328382\n",
      "33 Train MSE: 0.0128771 \tSparsity loss: 0.0645904 \tTotal loss: 0.0257952\n",
      "34 Train MSE: 0.0142681 \tSparsity loss: 0.311895 \tTotal loss: 0.076647\n",
      "35 Train MSE: 0.0132926 \tSparsity loss: 0.155207 \tTotal loss: 0.0443339\n",
      "36 Train MSE: 0.0129174 \tSparsity loss: 0.0587317 \tTotal loss: 0.0246637\n",
      "37 Train MSE: 0.0133689 \tSparsity loss: 0.0562742 \tTotal loss: 0.0246237\n",
      "38 Train MSE: 0.0141062 \tSparsity loss: 0.160208 \tTotal loss: 0.0461479\n",
      "39 Train MSE: 0.0138939 \tSparsity loss: 0.0981655 \tTotal loss: 0.033527\n",
      "40 Train MSE: 0.0141934 \tSparsity loss: 0.0654552 \tTotal loss: 0.0272845\n",
      "41 Train MSE: 0.0131236 \tSparsity loss: 0.125581 \tTotal loss: 0.0382397\n",
      "42 Train MSE: 0.012827 \tSparsity loss: 0.1319 \tTotal loss: 0.039207\n",
      "43 Train MSE: 0.0116675 \tSparsity loss: 0.105506 \tTotal loss: 0.0327686\n",
      "44 Train MSE: 0.0139512 \tSparsity loss: 0.330557 \tTotal loss: 0.0800627\n",
      "45 Train MSE: 0.0132347 \tSparsity loss: 0.118033 \tTotal loss: 0.0368413\n",
      "46 Train MSE: 0.0122928 \tSparsity loss: 0.0516557 \tTotal loss: 0.0226239\n",
      "47 Train MSE: 0.0124361 \tSparsity loss: 0.295693 \tTotal loss: 0.0715746\n",
      "48 Train MSE: 0.0121197 \tSparsity loss: 0.291864 \tTotal loss: 0.0704926\n",
      "49 Train MSE: 0.0123786 \tSparsity loss: 0.219202 \tTotal loss: 0.056219\n",
      "50 Train MSE: 0.0129639 \tSparsity loss: 0.151705 \tTotal loss: 0.043305\n",
      "51 Train MSE: 0.0125492 \tSparsity loss: 0.0977193 \tTotal loss: 0.032093\n",
      "52 Train MSE: 0.0114125 \tSparsity loss: 0.217828 \tTotal loss: 0.0549781\n",
      "53 Train MSE: 0.0120709 \tSparsity loss: 0.193705 \tTotal loss: 0.0508118\n",
      "54 Train MSE: 0.0115195 \tSparsity loss: 0.133409 \tTotal loss: 0.0382014\n",
      "55 Train MSE: 0.0120828 \tSparsity loss: 0.215426 \tTotal loss: 0.0551679\n",
      "56 Train MSE: 0.0115174 \tSparsity loss: 0.334135 \tTotal loss: 0.0783445\n",
      "57 Train MSE: 0.0114393 \tSparsity loss: 0.140236 \tTotal loss: 0.0394865\n",
      "58 Train MSE: 0.0111493 \tSparsity loss: 0.132581 \tTotal loss: 0.0376655\n",
      "59 Train MSE: 0.0198376 \tSparsity loss: 0.266303 \tTotal loss: 0.0730981\n",
      "60 Train MSE: 0.0285558 \tSparsity loss: 0.827084 \tTotal loss: 0.193973\n",
      "61 Train MSE: 0.0183639 \tSparsity loss: 0.154007 \tTotal loss: 0.0491654\n",
      "62 Train MSE: 0.0158161 \tSparsity loss: 0.135021 \tTotal loss: 0.0428203\n",
      "63 Train MSE: 0.0120466 \tSparsity loss: 0.317532 \tTotal loss: 0.075553\n",
      "64 Train MSE: 0.0392369 \tSparsity loss: 0.546965 \tTotal loss: 0.14863\n",
      "65 Train MSE: 0.0208267 \tSparsity loss: 0.484187 \tTotal loss: 0.117664\n",
      "66 Train MSE: 0.0263096 \tSparsity loss: 0.651221 \tTotal loss: 0.156554\n",
      "67 Train MSE: 0.0403947 \tSparsity loss: 0.274657 \tTotal loss: 0.0953261\n",
      "68 Train MSE: 0.0257501 \tSparsity loss: 0.154743 \tTotal loss: 0.0566988\n",
      "69 Train MSE: 0.0186874 \tSparsity loss: 0.168275 \tTotal loss: 0.0523424\n",
      "70 Train MSE: 0.0318229 \tSparsity loss: 0.375902 \tTotal loss: 0.107003\n",
      "71 Train MSE: 0.0168015 \tSparsity loss: 0.346846 \tTotal loss: 0.0861706\n",
      "72 Train MSE: 0.0159029 \tSparsity loss: 0.280299 \tTotal loss: 0.0719628\n",
      "73 Train MSE: 0.01317 \tSparsity loss: 1.11097 \tTotal loss: 0.235365\n",
      "74 Train MSE: 0.0149115 \tSparsity loss: 0.179838 \tTotal loss: 0.050879\n",
      "75 Train MSE: 0.0180789 \tSparsity loss: 0.173753 \tTotal loss: 0.0528295\n",
      "76 Train MSE: 0.0429144 \tSparsity loss: 0.477561 \tTotal loss: 0.138427\n",
      "77 Train MSE: 0.0184508 \tSparsity loss: 0.646596 \tTotal loss: 0.14777\n",
      "78 Train MSE: 0.0138404 \tSparsity loss: 0.242144 \tTotal loss: 0.0622692\n",
      "79 Train MSE: 0.0159918 \tSparsity loss: 1.84844 \tTotal loss: 0.385679\n",
      "80 Train MSE: 0.0227521 \tSparsity loss: 0.561542 \tTotal loss: 0.13506\n",
      "81 Train MSE: 0.0161188 \tSparsity loss: 0.229871 \tTotal loss: 0.0620931\n",
      "82 Train MSE: 0.0168759 \tSparsity loss: 0.110301 \tTotal loss: 0.0389361\n",
      "83 Train MSE: 0.0133341 \tSparsity loss: 0.181616 \tTotal loss: 0.0496572\n",
      "84 Train MSE: 0.0157869 \tSparsity loss: 0.0874156 \tTotal loss: 0.03327\n",
      "85 Train MSE: 0.0250268 \tSparsity loss: 0.360711 \tTotal loss: 0.0971689\n",
      "86 Train MSE: 0.0589087 \tSparsity loss: 0.297516 \tTotal loss: 0.118412\n",
      "87 Train MSE: 0.0175215 \tSparsity loss: 0.645328 \tTotal loss: 0.146587\n",
      "88 Train MSE: 0.0186047 \tSparsity loss: 0.14034 \tTotal loss: 0.0466727\n",
      "89 Train MSE: 0.0131922 \tSparsity loss: 0.642443 \tTotal loss: 0.141681\n",
      "90 Train MSE: 0.0141039 \tSparsity loss: 0.157449 \tTotal loss: 0.0455938\n",
      "91 Train MSE: 0.0139697 \tSparsity loss: 0.173326 \tTotal loss: 0.0486348\n",
      "92 Train MSE: 0.0129848 \tSparsity loss: 0.151344 \tTotal loss: 0.0432537\n",
      "93 Train MSE: 0.017856 \tSparsity loss: 0.130801 \tTotal loss: 0.0440162\n",
      "94 Train MSE: 0.0276986 \tSparsity loss: 0.0753732 \tTotal loss: 0.0427732\n",
      "95 Train MSE: 0.0186656 \tSparsity loss: 0.0764368 \tTotal loss: 0.033953\n",
      "96 Train MSE: 0.0154278 \tSparsity loss: 0.329898 \tTotal loss: 0.0814073\n",
      "97 Train MSE: 0.0207945 \tSparsity loss: 0.140062 \tTotal loss: 0.048807\n",
      "98 Train MSE: 0.0139431 \tSparsity loss: 0.155566 \tTotal loss: 0.0450563\n",
      "99 Train MSE: 0.0127171 \tSparsity loss: 0.757895 \tTotal loss: 0.164296\n"
     ]
    }
   ],
   "source": [
    "n_epochs = 100\n",
    "batch_size = 1000\n",
    "\n",
    "with tf.Session() as sess:\n",
    "    init.run()\n",
    "    for epoch in range(n_epochs):\n",
    "        n_batches = mnist.train.num_examples // batch_size\n",
    "        for iteration in range(n_batches):\n",
    "            print(\"\\r{}%\".format(100 * iteration // n_batches), end=\"\")\n",
    "            sys.stdout.flush()\n",
    "            X_batch, y_batch = mnist.train.next_batch(batch_size)\n",
    "            sess.run(training_op, feed_dict={X: X_batch})\n",
    "        reconstruction_loss_val, sparsity_loss_val, loss_val = sess.run([reconstruction_loss, sparsity_loss, loss], feed_dict={X: X_batch})\n",
    "        print(\"\\r{}\".format(epoch), \"Train MSE:\", reconstruction_loss_val, \"\\tSparsity loss:\", sparsity_loss_val, \"\\tTotal loss:\", loss_val)\n",
    "        saver.save(sess, \"./my_model_sparse.ckpt\")"
   ]
  },
  {
   "cell_type": "markdown",
   "metadata": {},
   "source": [
    "# Variational Autoencoders"
   ]
  },
  {
   "cell_type": "code",
   "execution_count": 66,
   "metadata": {
    "collapsed": false
   },
   "outputs": [],
   "source": [
    "reset_graph()\n",
    "from functools import partial\n",
    "\n",
    "n_inputs = 28 * 28\n",
    "n_hidden1 = 500\n",
    "n_hidden2 = 500\n",
    "n_hidden3 = 20  # codings\n",
    "n_hidden4 = n_hidden2\n",
    "n_hidden5 = n_hidden1\n",
    "n_outputs = n_inputs\n",
    "learning_rate = 0.001\n",
    "\n",
    "initializer = tf.contrib.layers.variance_scaling_initializer()\n",
    "\n",
    "my_dense_layer = partial(\n",
    "    tf.layers.dense,\n",
    "    activation=tf.nn.elu,\n",
    "    kernel_initializer=initializer)\n",
    "\n",
    "X = tf.placeholder(tf.float32, [None, n_inputs])\n",
    "hidden1 = my_dense_layer(X, n_hidden1)\n",
    "hidden2 = my_dense_layer(hidden1, n_hidden2)\n",
    "hidden3_mean = my_dense_layer(hidden2, n_hidden3, activation=None)\n",
    "hidden3_sigma = my_dense_layer(hidden2, n_hidden3, activation=None)\n",
    "noise = tf.random_normal(tf.shape(hidden3_sigma), dtype=tf.float32)\n",
    "hidden3 = hidden3_mean + hidden3_sigma * noise\n",
    "hidden4 = my_dense_layer(hidden3, n_hidden4)\n",
    "hidden5 = my_dense_layer(hidden4, n_hidden5)\n",
    "logits = my_dense_layer(hidden5, n_outputs, activation=None)\n",
    "outputs = tf.sigmoid(logits)\n",
    "\n",
    "xentropy = tf.nn.sigmoid_cross_entropy_with_logits(labels=X, logits=logits)\n",
    "reconstruction_loss = tf.reduce_sum(xentropy)"
   ]
  },
  {
   "cell_type": "code",
   "execution_count": 67,
   "metadata": {
    "collapsed": true
   },
   "outputs": [],
   "source": [
    "eps = 1e-10 # smoothing term to avoid computing log(0) which is NaN\n",
    "latent_loss = 0.5 * tf.reduce_sum(\n",
    "    tf.square(hidden3_sigma) + tf.square(hidden3_mean)\n",
    "    - 1 - tf.log(eps + tf.square(hidden3_sigma)))"
   ]
  },
  {
   "cell_type": "code",
   "execution_count": 68,
   "metadata": {
    "collapsed": true
   },
   "outputs": [],
   "source": [
    "loss = reconstruction_loss + latent_loss\n",
    "\n",
    "optimizer = tf.train.AdamOptimizer(learning_rate=learning_rate)\n",
    "training_op = optimizer.minimize(loss)\n",
    "\n",
    "init = tf.global_variables_initializer()\n",
    "saver = tf.train.Saver()"
   ]
  },
  {
   "cell_type": "code",
   "execution_count": 69,
   "metadata": {
    "collapsed": false
   },
   "outputs": [
    {
     "name": "stdout",
     "output_type": "stream",
     "text": [
      "0 Train total loss: 28949.9 \tReconstruction loss: 23631.7 \tLatent loss: 5318.24\n",
      "1 %Train total loss: 31652.6 \tReconstruction loss: 24392.0 \tLatent loss: 7260.57\n",
      "2 Train total loss: 27235.0 \tReconstruction loss: 22252.4 \tLatent loss: 4982.65\n",
      "3 Train total loss: 35664.0 \tReconstruction loss: 25252.0 \tLatent loss: 10411.9\n",
      "4 Train total loss: 26609.6 \tReconstruction loss: 21993.5 \tLatent loss: 4616.1\n",
      "5 Train total loss: 23205.2 \tReconstruction loss: 19582.4 \tLatent loss: 3622.81\n",
      "6 Train total loss: 22222.5 \tReconstruction loss: 18369.0 \tLatent loss: 3853.48\n",
      "7 Train total loss: 18038.1 \tReconstruction loss: 15232.3 \tLatent loss: 2805.73\n",
      "8 Train total loss: 17937.2 \tReconstruction loss: 14985.7 \tLatent loss: 2951.46\n",
      "9 Train total loss: 16827.5 \tReconstruction loss: 13706.0 \tLatent loss: 3121.53\n",
      "10 Train total loss: 16512.6 \tReconstruction loss: 13349.4 \tLatent loss: 3163.21\n",
      "11 Train total loss: 16412.5 \tReconstruction loss: 13275.7 \tLatent loss: 3136.87\n",
      "12 Train total loss: 17132.7 \tReconstruction loss: 13883.1 \tLatent loss: 3249.54\n",
      "13 Train total loss: 15582.6 \tReconstruction loss: 12416.8 \tLatent loss: 3165.87\n",
      "14 Train total loss: 16142.7 \tReconstruction loss: 12869.5 \tLatent loss: 3273.21\n",
      "15 Train total loss: 15968.1 \tReconstruction loss: 12768.3 \tLatent loss: 3199.8\n",
      "16 Train total loss: 17377.4 \tReconstruction loss: 13798.1 \tLatent loss: 3579.33\n",
      "17 Train total loss: 15782.0 \tReconstruction loss: 12580.9 \tLatent loss: 3201.11\n",
      "18 Train total loss: 21449.2 \tReconstruction loss: 16934.6 \tLatent loss: 4514.65\n",
      "19 Train total loss: 16590.5 \tReconstruction loss: 13188.5 \tLatent loss: 3402.0\n",
      "20 Train total loss: 16554.6 \tReconstruction loss: 13307.4 \tLatent loss: 3247.24\n",
      "21 Train total loss: 15989.0 \tReconstruction loss: 12721.1 \tLatent loss: 3267.9\n",
      "22 Train total loss: 16041.7 \tReconstruction loss: 12814.3 \tLatent loss: 3227.4\n",
      "23 Train total loss: 16328.3 \tReconstruction loss: 12818.9 \tLatent loss: 3509.37\n",
      "24 Train total loss: 16107.4 \tReconstruction loss: 12753.9 \tLatent loss: 3353.48\n",
      "25 Train total loss: 15487.7 \tReconstruction loss: 12131.6 \tLatent loss: 3356.13\n",
      "26 Train total loss: 24266.6 \tReconstruction loss: 20633.6 \tLatent loss: 3632.94\n",
      "27 Train total loss: 26088.7 \tReconstruction loss: 21280.9 \tLatent loss: 4807.75\n",
      "28 Train total loss: 25366.5 \tReconstruction loss: 19747.6 \tLatent loss: 5618.85\n",
      "29 Train total loss: 16978.5 \tReconstruction loss: 13609.0 \tLatent loss: 3369.56\n",
      "30 Train total loss: 16423.8 \tReconstruction loss: 13170.2 \tLatent loss: 3253.66\n",
      "31 Train total loss: 16159.5 \tReconstruction loss: 12796.5 \tLatent loss: 3362.99\n",
      "32 Train total loss: 15465.8 \tReconstruction loss: 12178.7 \tLatent loss: 3287.03\n",
      "33 Train total loss: 16024.4 \tReconstruction loss: 12633.9 \tLatent loss: 3390.5\n",
      "34 Train total loss: 15446.7 \tReconstruction loss: 12118.4 \tLatent loss: 3328.25\n",
      "35 Train total loss: 16116.9 \tReconstruction loss: 12499.7 \tLatent loss: 3617.25\n",
      "36 Train total loss: 16132.2 \tReconstruction loss: 12503.3 \tLatent loss: 3628.85\n",
      "37 Train total loss: 18644.6 \tReconstruction loss: 14924.5 \tLatent loss: 3720.1\n",
      "38 Train total loss: 18223.3 \tReconstruction loss: 14677.9 \tLatent loss: 3545.45\n",
      "39 Train total loss: 24713.0 \tReconstruction loss: 17145.8 \tLatent loss: 7567.17\n",
      "40 Train total loss: 17117.2 \tReconstruction loss: 13809.3 \tLatent loss: 3307.91\n",
      "41 Train total loss: 15257.4 \tReconstruction loss: 12050.9 \tLatent loss: 3206.52\n",
      "42 Train total loss: 15806.3 \tReconstruction loss: 12603.5 \tLatent loss: 3202.77\n",
      "43 Train total loss: 21822.4 \tReconstruction loss: 18157.0 \tLatent loss: 3665.4\n",
      "44 Train total loss: 17621.5 \tReconstruction loss: 14196.0 \tLatent loss: 3425.52\n",
      "45 Train total loss: 20614.5 \tReconstruction loss: 15605.0 \tLatent loss: 5009.51\n",
      "46 Train total loss: 15365.8 \tReconstruction loss: 11856.5 \tLatent loss: 3509.34\n",
      "47 Train total loss: 15193.6 \tReconstruction loss: 11886.8 \tLatent loss: 3306.81\n",
      "48 Train total loss: 15292.6 \tReconstruction loss: 11969.0 \tLatent loss: 3323.59\n",
      "49 Train total loss: 15556.2 \tReconstruction loss: 12017.2 \tLatent loss: 3539.0\n"
     ]
    }
   ],
   "source": [
    "n_epochs = 50\n",
    "batch_size = 150\n",
    "\n",
    "with tf.Session() as sess:\n",
    "    init.run()\n",
    "    for epoch in range(n_epochs):\n",
    "        n_batches = mnist.train.num_examples // batch_size\n",
    "        for iteration in range(n_batches):\n",
    "            print(\"\\r{}%\".format(100 * iteration // n_batches), end=\"\")\n",
    "            sys.stdout.flush()\n",
    "            X_batch, y_batch = mnist.train.next_batch(batch_size)\n",
    "            sess.run(training_op, feed_dict={X: X_batch})\n",
    "        loss_val, reconstruction_loss_val, latent_loss_val = sess.run([loss, reconstruction_loss, latent_loss], feed_dict={X: X_batch})\n",
    "        print(\"\\r{}\".format(epoch), \"Train total loss:\", loss_val, \"\\tReconstruction loss:\", reconstruction_loss_val, \"\\tLatent loss:\", latent_loss_val)\n",
    "        saver.save(sess, \"./my_model_variational.ckpt\")"
   ]
  },
  {
   "cell_type": "code",
   "execution_count": 70,
   "metadata": {
    "collapsed": true
   },
   "outputs": [],
   "source": [
    "reset_graph()\n",
    "\n",
    "from functools import partial\n",
    "\n",
    "n_inputs = 28 * 28\n",
    "n_hidden1 = 500\n",
    "n_hidden2 = 500\n",
    "n_hidden3 = 20  # codings\n",
    "n_hidden4 = n_hidden2\n",
    "n_hidden5 = n_hidden1\n",
    "n_outputs = n_inputs\n",
    "learning_rate = 0.001\n",
    "\n",
    "initializer = tf.contrib.layers.variance_scaling_initializer()\n",
    "my_dense_layer = partial(\n",
    "    tf.layers.dense,\n",
    "    activation=tf.nn.elu,\n",
    "    kernel_initializer=initializer)\n",
    "\n",
    "X = tf.placeholder(tf.float32, [None, n_inputs])\n",
    "hidden1 = my_dense_layer(X, n_hidden1)\n",
    "hidden2 = my_dense_layer(hidden1, n_hidden2)\n",
    "hidden3_mean = my_dense_layer(hidden2, n_hidden3, activation=None)\n",
    "hidden3_gamma = my_dense_layer(hidden2, n_hidden3, activation=None)\n",
    "noise = tf.random_normal(tf.shape(hidden3_gamma), dtype=tf.float32)\n",
    "hidden3 = hidden3_mean + tf.exp(0.5 * hidden3_gamma) * noise\n",
    "hidden4 = my_dense_layer(hidden3, n_hidden4)\n",
    "hidden5 = my_dense_layer(hidden4, n_hidden5)\n",
    "logits = my_dense_layer(hidden5, n_outputs, activation=None)\n",
    "outputs = tf.sigmoid(logits)\n",
    "\n",
    "xentropy = tf.nn.sigmoid_cross_entropy_with_logits(labels=X, logits=logits)\n",
    "reconstruction_loss = tf.reduce_sum(xentropy)\n",
    "latent_loss = 0.5 * tf.reduce_sum(\n",
    "    tf.exp(hidden3_gamma) + tf.square(hidden3_mean) - 1 - hidden3_gamma)\n",
    "loss = reconstruction_loss + latent_loss\n",
    "\n",
    "optimizer = tf.train.AdamOptimizer(learning_rate=learning_rate)\n",
    "training_op = optimizer.minimize(loss)\n",
    "\n",
    "init = tf.global_variables_initializer()\n",
    "saver = tf.train.Saver()"
   ]
  },
  {
   "cell_type": "markdown",
   "metadata": {},
   "source": [
    "# Generate digits"
   ]
  },
  {
   "cell_type": "code",
   "execution_count": 71,
   "metadata": {
    "collapsed": false
   },
   "outputs": [
    {
     "name": "stdout",
     "output_type": "stream",
     "text": [
      "0 Train total loss: 17589.5 \tReconstruction loss: 14010.7 \tLatent loss: 3578.77\n",
      "1 Train total loss: 17353.0 \tReconstruction loss: 13550.7 \tLatent loss: 3802.26\n",
      "2 Train total loss: 16728.6 \tReconstruction loss: 12912.6 \tLatent loss: 3815.94\n",
      "3 Train total loss: 16237.6 \tReconstruction loss: 12557.7 \tLatent loss: 3679.87\n",
      "4 Train total loss: 16152.0 \tReconstruction loss: 12370.3 \tLatent loss: 3781.77\n",
      "5 Train total loss: 15452.6 \tReconstruction loss: 11781.0 \tLatent loss: 3671.6\n",
      "6 Train total loss: 15825.8 \tReconstruction loss: 11970.0 \tLatent loss: 3855.86\n",
      "7 Train total loss: 15685.3 \tReconstruction loss: 11911.3 \tLatent loss: 3774.01\n",
      "8 Train total loss: 16019.8 \tReconstruction loss: 12160.5 \tLatent loss: 3859.31\n",
      "9 Train total loss: 15800.7 \tReconstruction loss: 11993.2 \tLatent loss: 3807.5\n",
      "10 Train total loss: 15815.2 \tReconstruction loss: 11974.1 \tLatent loss: 3841.09\n",
      "11 Train total loss: 15550.7 \tReconstruction loss: 11815.1 \tLatent loss: 3735.62\n",
      "12 Train total loss: 15709.0 \tReconstruction loss: 11905.2 \tLatent loss: 3803.83\n",
      "13 Train total loss: 15001.0 \tReconstruction loss: 11388.1 \tLatent loss: 3612.92\n",
      "14 Train total loss: 15449.5 \tReconstruction loss: 11590.2 \tLatent loss: 3859.28\n",
      "15 Train total loss: 15504.6 \tReconstruction loss: 11720.4 \tLatent loss: 3784.16\n",
      "16 Train total loss: 15146.4 \tReconstruction loss: 11438.7 \tLatent loss: 3707.7\n",
      "17 Train total loss: 15737.2 \tReconstruction loss: 11919.2 \tLatent loss: 3817.98\n",
      "18 Train total loss: 15525.1 \tReconstruction loss: 11827.3 \tLatent loss: 3697.75\n",
      "19 Train total loss: 15102.0 \tReconstruction loss: 11358.7 \tLatent loss: 3743.34\n",
      "20 Train total loss: 14824.5 \tReconstruction loss: 11232.0 \tLatent loss: 3592.51\n",
      "21 Train total loss: 15722.4 \tReconstruction loss: 11783.8 \tLatent loss: 3938.58\n",
      "22 Train total loss: 15007.4 \tReconstruction loss: 11246.2 \tLatent loss: 3761.2\n",
      "23 Train total loss: 15181.8 \tReconstruction loss: 11415.2 \tLatent loss: 3766.63\n",
      "24 Train total loss: 14904.2 \tReconstruction loss: 11210.4 \tLatent loss: 3693.83\n",
      "25 Train total loss: 15514.8 \tReconstruction loss: 11623.8 \tLatent loss: 3890.95\n",
      "26 Train total loss: 15388.9 \tReconstruction loss: 11596.6 \tLatent loss: 3792.3\n",
      "27 Train total loss: 14800.8 \tReconstruction loss: 11144.9 \tLatent loss: 3655.85\n",
      "28 Train total loss: 15099.4 \tReconstruction loss: 11310.8 \tLatent loss: 3788.67\n",
      "29 Train total loss: 15188.8 \tReconstruction loss: 11482.8 \tLatent loss: 3706.01\n",
      "30 Train total loss: 15498.7 \tReconstruction loss: 11711.1 \tLatent loss: 3787.55\n",
      "31 Train total loss: 15104.3 \tReconstruction loss: 11328.1 \tLatent loss: 3776.18\n",
      "32 Train total loss: 15104.3 \tReconstruction loss: 11258.0 \tLatent loss: 3846.37\n",
      "33 Train total loss: 14889.5 \tReconstruction loss: 11287.7 \tLatent loss: 3601.77\n",
      "34 Train total loss: 15101.4 \tReconstruction loss: 11406.8 \tLatent loss: 3694.62\n",
      "35 Train total loss: 14941.2 \tReconstruction loss: 11333.2 \tLatent loss: 3608.03\n",
      "36 Train total loss: 14839.3 \tReconstruction loss: 11233.3 \tLatent loss: 3606.04\n",
      "37 Train total loss: 15087.2 \tReconstruction loss: 11351.7 \tLatent loss: 3735.46\n",
      "38 Train total loss: 14918.3 \tReconstruction loss: 11154.2 \tLatent loss: 3764.05\n",
      "39 Train total loss: 14900.2 \tReconstruction loss: 11164.8 \tLatent loss: 3735.4\n",
      "40 Train total loss: 14797.6 \tReconstruction loss: 11119.8 \tLatent loss: 3677.79\n",
      "41 Train total loss: 14390.0 \tReconstruction loss: 10688.2 \tLatent loss: 3701.74\n",
      "42 Train total loss: 14582.0 \tReconstruction loss: 10947.5 \tLatent loss: 3634.51\n",
      "43 Train total loss: 14728.7 \tReconstruction loss: 11045.7 \tLatent loss: 3683.05\n",
      "44 Train total loss: 14651.2 \tReconstruction loss: 10914.1 \tLatent loss: 3737.05\n",
      "45 Train total loss: 14829.1 \tReconstruction loss: 11169.5 \tLatent loss: 3659.65\n",
      "46 Train total loss: 14838.3 \tReconstruction loss: 11128.1 \tLatent loss: 3710.21\n",
      "47 Train total loss: 15157.5 \tReconstruction loss: 11381.9 \tLatent loss: 3775.65\n",
      "48 Train total loss: 14884.3 \tReconstruction loss: 11215.7 \tLatent loss: 3668.68\n",
      "49 Train total loss: 14820.6 \tReconstruction loss: 11000.3 \tLatent loss: 3820.37\n"
     ]
    }
   ],
   "source": [
    "import numpy as np\n",
    "\n",
    "n_digits = 60\n",
    "n_epochs = 50\n",
    "batch_size = 150\n",
    "\n",
    "with tf.Session() as sess:\n",
    "    init.run()\n",
    "    for epoch in range(n_epochs):\n",
    "        n_batches = mnist.train.num_examples // batch_size\n",
    "        for iteration in range(n_batches):\n",
    "            print(\"\\r{}%\".format(100 * iteration // n_batches), end=\"\") # not shown in the book\n",
    "            sys.stdout.flush()                                          # not shown\n",
    "            X_batch, y_batch = mnist.train.next_batch(batch_size)\n",
    "            sess.run(training_op, feed_dict={X: X_batch})\n",
    "        loss_val, reconstruction_loss_val, latent_loss_val = sess.run([loss, reconstruction_loss, latent_loss], feed_dict={X: X_batch}) # not shown\n",
    "        print(\"\\r{}\".format(epoch), \"Train total loss:\", loss_val, \"\\tReconstruction loss:\", reconstruction_loss_val, \"\\tLatent loss:\", latent_loss_val)  # not shown\n",
    "        saver.save(sess, \"./my_model_variational.ckpt\")  # not shown\n",
    "    \n",
    "    codings_rnd = np.random.normal(size=[n_digits, n_hidden3])\n",
    "    outputs_val = outputs.eval(feed_dict={hidden3: codings_rnd})"
   ]
  },
  {
   "cell_type": "code",
   "execution_count": 72,
   "metadata": {
    "collapsed": false
   },
   "outputs": [
    {
     "data": {
      "image/png": "[encoded data removed]",
      "text/plain": [
       "<matplotlib.figure.Figure at 0x12147fef0>"
      ]
     },
     "metadata": {},
     "output_type": "display_data"
    }
   ],
   "source": [
    "plt.figure(figsize=(8,50)) # not shown in the book\n",
    "for iteration in range(n_digits):\n",
    "    plt.subplot(n_digits, 10, iteration + 1)\n",
    "    plot_image(outputs_val[iteration])"
   ]
  },
  {
   "cell_type": "code",
   "execution_count": 74,
   "metadata": {
    "collapsed": false
   },
   "outputs": [
    {
     "data": {
      "image/png": "[encoded data removed]",
      "text/plain": [
       "<matplotlib.figure.Figure at 0x1282162b0>"
      ]
     },
     "metadata": {},
     "output_type": "display_data"
    }
   ],
   "source": [
    "n_rows = 6\n",
    "n_cols = 10\n",
    "plot_multiple_images(outputs_val.reshape(-1, 28, 28), n_rows, n_cols)\n",
    "plt.show()"
   ]
  }
 ],
 "metadata": {
  "kernelspec": {
   "display_name": "Python 3",
   "language": "python",
   "name": "python3"
  },
  "language_info": {
   "codemirror_mode": {
    "name": "ipython",
    "version": 3
   },
   "file_extension": ".py",
   "mimetype": "text/x-python",
   "name": "python",
   "nbconvert_exporter": "python",
   "pygments_lexer": "ipython3",
   "version": "3.6.0"
  }
 },
 "nbformat": 4,
 "nbformat_minor": 2
}
