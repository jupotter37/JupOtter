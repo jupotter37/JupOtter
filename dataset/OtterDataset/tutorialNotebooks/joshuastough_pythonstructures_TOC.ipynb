{
 "cells": [
  {
   "cell_type": "markdown",
   "metadata": {},
   "source": [
    "# Data Structures (CS2) in Python\n",
    "### [Dr. Joshua Stough](http://joshuastough.com/), 2020\n",
    "\n",
    "<p style=\"text-align:center;\">\n",
    "    <a href=\"https://creativecommons.org/licenses/by-sa/4.0/\">\n",
    "        <img src=\"cc-license.png\" width=\"150\">\n",
    "    </a>\n",
    "</p>\n",
    "    "
   ]
  },
  {
   "cell_type": "markdown",
   "metadata": {},
   "source": [
    "&nbsp;\n",
    "# Preface\n",
    "\n",
    "> If you can't describe what you are doing as a process, you don't know what you're doing.\n",
    "> <br>[*W. Edwards Deming*](https://en.wikipedia.org/wiki/W._Edwards_Deming)\n",
    "\n",
    "My corollary to this statement is that ***if you can*** describe what you're doing as a process, ***then you can tell a computer how to do it***. This idea animates much of Computer Science, insofar as we are formalizing the kinds of processes that we are familiar with, even implicitly, from our everyday experience. Such processes extend from solving trivial problems like computing the area of a rectangle or finding a particular word in a paragraph, to more complicated problems like sorting a list of numbers, to much more complicated problems like creating the [metaverse](https://www.nytimes.com/2021/07/10/style/metaverse-virtual-worlds.html).\n",
    "\n",
    "> The computer is incredibly fast, accurate, and stupid. Man is unbelievably slow, inaccurate, and brilliant. \n",
    "> The marriage of the two is a force beyond calculation.\n",
    "> <br>[*Leo Cherne* (suspected)](http://www.benshoemate.com/2008/11/30/einstein-never-said-that/)\n",
    "\n",
    "When we write a computer program to solve a problem, we have so precisely specified the sequence of steps that is impossible for the computer to misinterpret; it is a recipe written in such detail that it cannot possibly be messed up. Through their incredibly fast and accurate machinations, computers further allow us to scale these processes to previously unimaginable exents, from processing the millions of pixels of an image or video to managing a social media platform.\n",
    "\n",
    "In this course we are concerned with the ***efficient interaction with and manipulation of collections of stuff***. These collections can include numbers in a list, pixels in an image, and personal profiles on a social media platform, among an infinite variety of virtual \"stuff.\" Certain ways of organizing data into *structures*, and certain ways of interacting with data are somehow inherently *better* given the circumstances. \n",
    "\n",
    "This course will teach you advanced programming concepts.  You will learn about abstract data types and object-oriented programming, and efficient data structures including queues, stacks, trees and maps. You will learn how to measure \"better\" through analysis of algorithms, including worst-case, average-case, and amortized analysis. In working through this book, you will gain extensive practice in implementing, manipulating, and measuring the performance of these data structures in [Python](https://www.python.org/). "
   ]
  },
  {
   "cell_type": "markdown",
   "metadata": {},
   "source": [
    "&nbsp;\n",
    "# How to use this book\n",
    "\n",
    "This book is written entirely in the form of linked Jupyter Notebooks that can be run in the cloud through [Google Colab](https://colab.research.google.com/notebooks/intro.ipynb). The notebooks themselves consist of two types of cell: code and text. This text is in a text cell, with formatting provided by [Markdown](https://colab.research.google.com/notebooks/markdown_guide.ipynb). To execute this cell and render its content with formatting inside Colab, place your cursor anywhere within the cell and type the control and enter keys on your keyboard: **Ctrl+Enter**. **Shift+Enter** renders the current cell and also moves focus to the next cell. **Alt+Enter** renders the current cell and moves focus to a new code cell inserted immediately below. Code cells with executable Python are integrated throughout the book for instant hands-on activities. \n",
    "\n",
    "\n",
    "To continue viewing and working with this book in Colab, click this button:  \n",
    "[![Open in Colab](https://colab.research.google.com/assets/colab-badge.svg)](https://colab.research.google.com/github/joshuastough/pythonstructures/blob/main/TOC.ipynb)\n",
    "\n",
    "For much more detail, including installing Jupyter on your own machine, please read [a more in-depth tutorial](https://www.dataquest.io/blog/jupyter-notebook-tutorial/).   "
   ]
  },
  {
   "cell_type": "markdown",
   "metadata": {},
   "source": [
    "&nbsp;\n",
    "# Topics\n",
    "\n",
    "1. [Basic Python elements](./ch00/0_basic_python_elements.ipynb)\n",
    "1. [List comprehensions](./ch00/list_comprehensions.ipynb)\n",
    "1. More stuff."
   ]
  },
  {
   "cell_type": "code",
   "execution_count": null,
   "metadata": {},
   "outputs": [],
   "source": []
  }
 ],
 "metadata": {
  "kernelspec": {
   "display_name": "Python 3",
   "language": "python",
   "name": "python3"
  },
  "language_info": {
   "codemirror_mode": {
    "name": "ipython",
    "version": 3
   },
   "file_extension": ".py",
   "mimetype": "text/x-python",
   "name": "python",
   "nbconvert_exporter": "python",
   "pygments_lexer": "ipython3",
   "version": "3.7.6"
  }
 },
 "nbformat": 4,
 "nbformat_minor": 4
}
