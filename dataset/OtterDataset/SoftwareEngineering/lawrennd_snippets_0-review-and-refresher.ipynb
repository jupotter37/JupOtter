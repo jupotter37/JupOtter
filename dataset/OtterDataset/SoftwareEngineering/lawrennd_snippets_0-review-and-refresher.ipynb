{
 "cells": [
  {
   "cell_type": "markdown",
   "metadata": {
    "id": "6833f39c-f904-4870-8ed0-a8dd067f19bc"
   },
   "source": [
    "# Refresher\n",
    "\n",
    "### [Neil D. Lawrence](https://inverseprobability.com), University of\n",
    "\n",
    "Cambridge\n",
    "\n",
    "### [Christian Cabrera](https://www.cst.cam.ac.uk/people/chc79), University\n",
    "\n",
    "of Cambridge\n",
    "\n",
    "### [Radzim Sendyka](https://www.cst.cam.ac.uk/people/rs2071), University\n",
    "\n",
    "of Cambridge\n",
    "\n",
    "### 2024-11-01"
   ]
  },
  {
   "cell_type": "markdown",
   "metadata": {
    "id": "76ddcaeb-64a2-458d-91e3-03a4d73afed8"
   },
   "source": [
    "- This session should prepare you for different parts of the course practicals and final assignment.\n",
    "- We will use the fynesse library through the course. You will create your own library and will update it as the course progress. The library will also contain your work for the final assignment."
   ]
  },
  {
   "cell_type": "markdown",
   "metadata": {
    "id": "95147178-aa5c-4c16-87b7-6f8a67a1878e"
   },
   "source": [
    "##***Abstract***\n",
    "\n",
    "In this review and refresher notebook we mix some review work with some of the concepts we’d like you to develop and understand as you progress through the course. The review work focuses on data management, exploration, the use of probability, correlation, pandas and the jupyter notebook. Most of the code you need is provided in the notebook, there are a few exercises to help develop your understanding. In this lab session we will also look at the Fynesse library setup and use."
   ]
  },
  {
   "cell_type": "markdown",
   "metadata": {
    "id": "13654b7c-b1f8-4d2f-8f33-fea6e7f8e9ac"
   },
   "source": [
    "# Setup\n"
   ]
  },
  {
   "cell_type": "markdown",
   "metadata": {
    "id": "U1gfjNsom7jW"
   },
   "source": [
    "## pyplot\n",
    "\n",
    "This package mainly intended for interactive plots and simple cases of programmatic plot generation"
   ]
  },
  {
   "cell_type": "code",
   "execution_count": null,
   "metadata": {
    "id": "8906b7bd-195a-40ae-8356-a7776039c4c7"
   },
   "outputs": [],
   "source": [
    "import matplotlib.pyplot as plt\n",
    "plt.rcParams.update({'font.size': 22})"
   ]
  },
  {
   "cell_type": "markdown",
   "metadata": {
    "id": "7cd8819b-75dc-425e-8be6-6e650652c1a1"
   },
   "source": [
    "## notutils\n",
    "\n",
    "This small package is a helper package for various notebook utilities\n",
    "used below.\n",
    "\n",
    "The software can be installed using"
   ]
  },
  {
   "cell_type": "code",
   "execution_count": null,
   "metadata": {
    "id": "699e8882-6b93-4517-8253-7dc811e91d31"
   },
   "outputs": [],
   "source": [
    "%pip install notutils"
   ]
  },
  {
   "cell_type": "markdown",
   "metadata": {
    "id": "9e530587-9aee-4e5d-906e-6775da66aa4b"
   },
   "source": [
    "from the command prompt where you can access your python installation.\n",
    "\n",
    "The code is also available on GitHub:\n",
    "<https://github.com/lawrennd/notutils>\n",
    "\n",
    "Once `notutils` is installed, it can be imported in the usual manner."
   ]
  },
  {
   "cell_type": "code",
   "execution_count": null,
   "metadata": {
    "id": "64f31a1c-c2cd-44d0-baed-7bd4c63baf79"
   },
   "outputs": [],
   "source": [
    "import notutils"
   ]
  },
  {
   "cell_type": "markdown",
   "metadata": {
    "id": "a5d0d757-e1c2-4ed1-a39c-5dfeb07aa67e"
   },
   "source": [
    "## pods\n",
    "\n",
    "In Sheffield we created a suite of software tools for ‘Open Data\n",
    "Science’. Open data science is an approach to sharing code, models and\n",
    "data that should make it easier for companies, health professionals and\n",
    "scientists to gain access to data science techniques.\n",
    "\n",
    "You can also check this blog post on [Open Data\n",
    "Science](http://inverseprobability.com/2014/07/01/open-data-science).\n",
    "\n",
    "The software can be installed using"
   ]
  },
  {
   "cell_type": "code",
   "execution_count": null,
   "metadata": {
    "id": "cffcb070-329f-43dd-8604-8d857442b18a"
   },
   "outputs": [],
   "source": [
    "%pip install pods"
   ]
  },
  {
   "cell_type": "markdown",
   "metadata": {
    "id": "64d8c24c-f59a-4b53-9d65-6933ff59edc0"
   },
   "source": [
    "from the command prompt where you can access your python installation.\n",
    "\n",
    "The code is also available on GitHub: <https://github.com/lawrennd/ods>\n",
    "\n",
    "Once `pods` is installed, it can be imported in the usual manner."
   ]
  },
  {
   "cell_type": "code",
   "execution_count": null,
   "metadata": {
    "id": "aed9665c-2427-4b44-b326-68c097840c17"
   },
   "outputs": [],
   "source": [
    "import pods"
   ]
  },
  {
   "cell_type": "markdown",
   "metadata": {
    "id": "4839c661-76ec-4ebb-a6b9-90c40edc8d0a"
   },
   "source": [
    "## mlai\n",
    "\n",
    "The `mlai` software is a suite of helper functions for teaching and\n",
    "demonstrating machine learning algorithms. It was first used in the\n",
    "Machine Learning and Adaptive Intelligence course in Sheffield in 2013.\n",
    "\n",
    "The software can be installed using"
   ]
  },
  {
   "cell_type": "code",
   "execution_count": null,
   "metadata": {
    "id": "26fad404-bc54-488d-a742-63c77dcbd47c"
   },
   "outputs": [],
   "source": [
    "%pip install mlai"
   ]
  },
  {
   "cell_type": "markdown",
   "metadata": {
    "id": "36b67a92-fe6a-455a-b12c-b69efea3a6f4"
   },
   "source": [
    "from the command prompt where you can access your python installation.\n",
    "\n",
    "The code is also available on GitHub: <https://github.com/lawrennd/mlai>\n",
    "\n",
    "Once `mlai` is installed, it can be imported in the usual manner."
   ]
  },
  {
   "cell_type": "code",
   "execution_count": null,
   "metadata": {
    "id": "99091a13-1831-493b-a431-5bbbe0c926a8"
   },
   "outputs": [],
   "source": [
    "import mlai"
   ]
  },
  {
   "cell_type": "markdown",
   "metadata": {
    "id": "57c2bbc6-4d92-4b2b-9773-58f37abbdf69"
   },
   "source": [
    "# Nigeria NMIS Data\n",
    "\n",
    "As an example data set we will use Nigerian Millennium Development Goals\n",
    "Information System Health Facility (The Office of the Senior Special\n",
    "Assistant to the President on the Millennium Development Goals\n",
    "(OSSAP-MDGs) and Columbia University, 2014). It can be found here\n",
    "<https://energydata.info/dataset/nigeria-nmis-education-facility-data-2014>.\n",
    "\n",
    "Taking from the information on the site,\n",
    "\n",
    "> The Nigeria MDG (Millennium Development Goals) Information System –\n",
    "> NMIS health facility data is collected by the Office of the Senior\n",
    "> Special Assistant to the President on the Millennium Development Goals\n",
    "> (OSSAP-MDGs) in partner with the Sustainable Engineering Lab at\n",
    "> Columbia University. A rigorous, geo-referenced baseline facility\n",
    "> inventory across Nigeria is created spanning from 2009 to 2011 with an\n",
    "> additional survey effort to increase coverage in 2014, to build\n",
    "> Nigeria’s first nation-wide inventory of health facility. The database\n",
    "> includes 34,139 health facilities info in Nigeria.\n",
    ">\n",
    "> The goal of this database is to make the data collected available to\n",
    "> planners, government officials, and the public, to be used to make\n",
    "> strategic decisions for planning relevant interventions.\n",
    ">\n",
    "> For data inquiry, please contact Ms. Funlola Osinupebi, Performance\n",
    "> Monitoring & Communications, Advisory Power Team, Office of the Vice\n",
    "> President at funlola.osinupebi@aptovp.org\n",
    ">\n",
    "> To learn more, please visit\n",
    "> <http://csd.columbia.edu/2014/03/10/the-nigeria-mdg-information-system-nmis-takes-open-data-further/>\n",
    ">\n",
    "> Suggested citation: Nigeria NMIS facility database (2014), the Office\n",
    "> of the Senior Special Assistant to the President on the Millennium\n",
    "> Development Goals (OSSAP-MDGs) & Columbia University\n",
    "\n",
    "For ease of use we’ve packaged this data set in the `pods` library"
   ]
  },
  {
   "cell_type": "code",
   "execution_count": null,
   "metadata": {
    "id": "5450e6c2-d31c-463f-b2ae-306f05090124"
   },
   "outputs": [],
   "source": [
    "data = pods.datasets.nigeria_nmis()['Y']\n",
    "data.head()"
   ]
  },
  {
   "cell_type": "markdown",
   "metadata": {
    "id": "95d36904-eb0a-4b16-8dc1-31ee4afffb0d"
   },
   "source": [
    "Alternatively, you can access the data directly with the following\n",
    "commands.\n",
    "\n",
    "``` python\n",
    "import urllib.request\n",
    "urllib.request.urlretrieve('https://energydata.info/dataset/f85d1796-e7f2-4630-be84-79420174e3bd/resource/6e640a13-cab4-457b-b9e6-0336051bac27/download/healthmopupandbaselinenmisfacility.csv', 'healthmopupandbaselinenmisfacility.csv')\n",
    "\n",
    "import pandas as pd\n",
    "data = pd.read_csv('healthmopupandbaselinenmisfacility.csv')\n",
    "```\n",
    "\n",
    "Once it is loaded in the data can be summarized using the `describe`\n",
    "method in pandas."
   ]
  },
  {
   "cell_type": "code",
   "execution_count": null,
   "metadata": {
    "id": "21341a8e-9e28-4c2d-bb67-41fc501ffb62"
   },
   "outputs": [],
   "source": [
    "data.describe()"
   ]
  },
  {
   "cell_type": "markdown",
   "metadata": {
    "id": "6f14bbb9-d5ab-4884-beff-1ecf8e2a3542"
   },
   "source": [
    "We can also find out the dimensions of the dataset using the `shape`\n",
    "property."
   ]
  },
  {
   "cell_type": "code",
   "execution_count": null,
   "metadata": {
    "id": "fd1a4ee4-9a38-48f8-a465-c0a773636bab"
   },
   "outputs": [],
   "source": [
    "data.shape"
   ]
  },
  {
   "cell_type": "markdown",
   "metadata": {
    "id": "f7dcad2f-2df9-4ee5-a703-e3140f6e976a"
   },
   "source": [
    "Dataframes have different functions that you can use to explore and\n",
    "understand your data. In python and the Jupyter notebook it is possible\n",
    "to see a list of all possible functions and attributes by typing the\n",
    "name of the object followed by `.<Tab>` for example in the above case if\n",
    "we type `data.<Tab>` it show the columns available (these are attributes\n",
    "in pandas dataframes) such as `num_nurses_fulltime`, and also functions,\n",
    "such as `.describe()`.\n",
    "\n",
    "For functions we can also see the documentation about the function by\n",
    "following the name with a question mark. This will open a box with\n",
    "documentation at the bottom which can be closed with the x button."
   ]
  },
  {
   "cell_type": "code",
   "execution_count": null,
   "metadata": {
    "id": "8d3f0f4e-a10c-401d-a8e7-2f72954bea23"
   },
   "outputs": [],
   "source": [
    "data.describe?"
   ]
  },
  {
   "cell_type": "markdown",
   "metadata": {
    "id": "V-Q45ECer0ti"
   },
   "source": [
    "Another useful way to explore our data is to visualise it. Depending on the context, you might want to select a given plot. For our example, plotting the location of the health facilities might give interesting insights about their geographical distribution."
   ]
  },
  {
   "cell_type": "code",
   "execution_count": null,
   "metadata": {
    "id": "be310e77-4de8-45e0-820e-820a71a07157"
   },
   "outputs": [],
   "source": [
    "import matplotlib.pyplot as plt\n",
    "import mlai\n",
    "import mlai.plot as plot"
   ]
  },
  {
   "cell_type": "code",
   "execution_count": null,
   "metadata": {
    "id": "0358b878-87bc-49a7-b663-d2edb091b788"
   },
   "outputs": [],
   "source": [
    "fig, ax = plt.subplots(figsize=plot.big_figsize)\n",
    "ax.plot(data.longitude, data.latitude, 'ro', alpha=0.01)\n",
    "ax.set_xlabel('longitude')\n",
    "ax.set_ylabel('latitude')\n",
    "\n",
    "mlai.write_figure('nigerian-health-facilities.png', directory='./ml')"
   ]
  },
  {
   "cell_type": "markdown",
   "metadata": {
    "id": "d9a169c0-e91c-4df9-8d72-35ca92c07dda"
   },
   "source": [
    "<img class=\"\" src=\"https://mlatcl.github.io/advds/./slides/diagrams//ml/nigerian-health-facilities.png\" style=\"width:60%\">\n",
    "\n",
    "Figure: <i>Location of the over thirty-four thousand health facilities\n",
    "registered in the NMIS data across Nigeria. Each facility plotted\n",
    "according to its latitude and longitude.</i>"
   ]
  },
  {
   "cell_type": "markdown",
   "metadata": {
    "id": "GJJY1IZuve8z"
   },
   "source": [
    "Let's create a more self-describing variable to store our data and continue with a depeer exploration."
   ]
  },
  {
   "cell_type": "code",
   "execution_count": null,
   "metadata": {
    "id": "9bf9e9a8-b29c-4923-a1b0-4c68ed60fbd1"
   },
   "outputs": [],
   "source": [
    "hospital_data = data"
   ]
  },
  {
   "cell_type": "markdown",
   "metadata": {
    "id": "e1685040-5b64-46d2-bcf4-c9292755cbf0"
   },
   "source": [
    "## Exploring the NMIS Data\n",
    "\n",
    "The NMIS facility data is stored in an object known as a ‘data frame’.\n",
    "Data frames come from the statistical family of programming languages\n",
    "based on `S`, the most widely used of which is\n",
    "[`R`](http://en.wikipedia.org/wiki/R_(programming_language)). The data\n",
    "frame gives us a convenient object for manipulating data. The describe\n",
    "method summarizes which columns there are in the data frame and gives us\n",
    "counts, means, standard deviations and percentiles for the values in\n",
    "those columns. To access a column directly we can write"
   ]
  },
  {
   "cell_type": "code",
   "execution_count": null,
   "metadata": {
    "id": "4b085836-d120-4039-b857-445e766fd75a"
   },
   "outputs": [],
   "source": [
    "print(hospital_data['num_doctors_fulltime'])\n",
    "#print(hospital_data['num_nurses_fulltime'])"
   ]
  },
  {
   "cell_type": "markdown",
   "metadata": {
    "id": "670e9acd-0d1e-49ee-9bee-f2bb89e14b30"
   },
   "source": [
    "This shows the number of doctors per facility, number of nurses and\n",
    "number of community health workers (CHEWS). We can plot the number of\n",
    "doctors against the number of nurses as follows."
   ]
  },
  {
   "cell_type": "code",
   "execution_count": null,
   "metadata": {
    "id": "55f55c14-6173-4343-8c4d-2e82cdd3e59c"
   },
   "outputs": [],
   "source": [
    "import matplotlib.pyplot as plt # this imports the plotting library in python"
   ]
  },
  {
   "cell_type": "code",
   "execution_count": null,
   "metadata": {
    "id": "a4dcb7c3-4008-457d-9921-2ec48b759624"
   },
   "outputs": [],
   "source": [
    "_ = plt.plot(hospital_data['num_doctors_fulltime'], hospital_data['num_nurses_fulltime'], 'rx')"
   ]
  },
  {
   "cell_type": "markdown",
   "metadata": {
    "id": "db7631b7-be82-4e94-a80a-e6e52d4d41c9"
   },
   "source": [
    "You may be curious what the arguments we give to `plt.plot` are for, now\n",
    "is the perfect time to look at the documentation"
   ]
  },
  {
   "cell_type": "code",
   "execution_count": null,
   "metadata": {
    "id": "be7906d2-bdac-41da-b40b-e7b74601089f"
   },
   "outputs": [],
   "source": [
    "plt.plot?"
   ]
  },
  {
   "cell_type": "markdown",
   "metadata": {
    "id": "a02f0834-c34e-40de-b9ac-4c1ab5c2ebde"
   },
   "source": [
    "We immediately note that some facilities have a lot of nurses, which\n",
    "prevent’s us seeing the detail of the main number of facilities. First\n",
    "lets identify the facilities with the most nurses."
   ]
  },
  {
   "cell_type": "code",
   "execution_count": null,
   "metadata": {
    "id": "8a90f6dc-80f7-4461-8e70-dd94b5effbfb"
   },
   "outputs": [],
   "source": [
    "hospital_data[hospital_data['num_nurses_fulltime']>100]"
   ]
  },
  {
   "cell_type": "markdown",
   "metadata": {
    "id": "c799d00b-bde5-4286-aef3-ba5d4fb76266"
   },
   "source": [
    "Here we are using the command `data['num_nurses_fulltime']>100` to index\n",
    "the facilities in the pandas data frame which have over 100 nurses. To\n",
    "sort them in order we can also use the `sort` command. The result of\n",
    "this command on its own is a data `Series` of `True` and `False` values.\n",
    "However, when it is passed to the `data` data frame it returns a new\n",
    "data frame which contains only those values for which the data series is\n",
    "`True`. We can also sort the result. To sort the result by the values in\n",
    "the `num_nurses_fulltime` column in *descending* order we use the\n",
    "following command."
   ]
  },
  {
   "cell_type": "code",
   "execution_count": null,
   "metadata": {
    "id": "3e5abea3-b677-4933-baf6-6a0b5d14cc6d"
   },
   "outputs": [],
   "source": [
    "hospital_data[hospital_data['num_nurses_fulltime']>100].sort_values(by='num_nurses_fulltime', ascending=False)"
   ]
  },
  {
   "cell_type": "markdown",
   "metadata": {
    "id": "d7284252-ebc1-42b3-a846-7b81da8c89cd"
   },
   "source": [
    "We now see that the ‘University of Calabar Teaching Hospital’ is a large\n",
    "outlier with 513 nurses. We can try and determine how much of an outlier\n",
    "by histograming the data."
   ]
  },
  {
   "cell_type": "markdown",
   "metadata": {
    "id": "ef2d00dc-11ef-4cec-bd30-b9cf0a425aaa"
   },
   "source": [
    "## Plotting the Data"
   ]
  },
  {
   "cell_type": "code",
   "execution_count": null,
   "metadata": {
    "id": "bc3c14aa-86d1-44b0-9be8-9777dc442e22"
   },
   "outputs": [],
   "source": [
    "hospital_data['num_nurses_fulltime'].hist(bins=20) # histogram the data with 20 bins.\n",
    "plt.title('Histogram of Number of Nurses')"
   ]
  },
  {
   "cell_type": "markdown",
   "metadata": {
    "id": "84d10770-6791-491b-b3f6-d38d2359b454"
   },
   "source": [
    "We can’t see very much here. Two things are happening. There are so many\n",
    "facilities with zero or one nurse that we don’t see the histogram for\n",
    "hospitals with many nurses. We can try more bins and using a *log* scale\n",
    "on the $y$-axis."
   ]
  },
  {
   "cell_type": "code",
   "execution_count": null,
   "metadata": {
    "id": "0d36036a-e24b-4b78-a5f4-184bf493666f"
   },
   "outputs": [],
   "source": [
    "hospital_data['num_nurses_fulltime'].hist(bins=100) # histogram the data with 20 bins.\n",
    "plt.title('Histogram of Number of Nurses')\n",
    "ax = plt.gca()\n",
    "ax.set_yscale('log')"
   ]
  },
  {
   "cell_type": "markdown",
   "metadata": {
    "id": "e8f8862b-3150-4db1-8109-3063968927f1"
   },
   "source": [
    "Let’s try and see how the number of nurses relates to the number of\n",
    "doctors."
   ]
  },
  {
   "cell_type": "code",
   "execution_count": null,
   "metadata": {
    "id": "9cecb4cf-d8e6-492d-b812-a5b67319de5c"
   },
   "outputs": [],
   "source": [
    "fig, ax = plt.subplots(figsize=(10, 7))\n",
    "ax.plot(hospital_data['num_doctors_fulltime'], hospital_data['num_nurses_fulltime'], 'rx')\n",
    "ax.set_xscale('log') # use a logarithmic x scale\n",
    "ax.set_yscale('log') # use a logarithmic Y scale\n",
    "# give the plot some titles and labels\n",
    "plt.title('Number of Nurses against Number of Doctors')\n",
    "plt.ylabel('number of nurses')\n",
    "plt.xlabel('number of doctors')"
   ]
  },
  {
   "cell_type": "markdown",
   "metadata": {
    "id": "a51c4cc1-7a4d-46e2-bcfc-710a63c425d3"
   },
   "source": [
    "Note a few things. We are interacting with our data. In particular, we\n",
    "are replotting the data according to what we have learned so far. We are\n",
    "using the progamming language as a *scripting* language to give the\n",
    "computer one command or another, and then the next command we enter is\n",
    "dependent on the result of the previous. This is a very different\n",
    "paradigm to classical software engineering. In classical software\n",
    "engineering we normally write many lines of code (entire object classes\n",
    "or functions) before compiling the code and running it. Our approach is\n",
    "more similar to the approach we take whilst debugging. Historically,\n",
    "researchers interacted with data using a *console*. A command line\n",
    "window which allowed command entry. The notebook format we are using is\n",
    "slightly different. Each of the code entry boxes acts like a separate\n",
    "console window. We can move up and down the notebook and run each part\n",
    "in a different order. The *state* of the program is always as we left it\n",
    "after running the previous part."
   ]
  },
  {
   "cell_type": "markdown",
   "metadata": {
    "id": "32f3706b-58d1-4a05-9152-726d39476c29"
   },
   "source": [
    "# Probabilities\n",
    "\n",
    "We are now going to do some simple review of probabilities and use this\n",
    "review to explore some aspects of our data.\n",
    "\n",
    "A probability distribution expresses uncertainty about the outcome of an\n",
    "event. We often encode this uncertainty in a variable. So if we are\n",
    "considering the outcome of an event, $Y$, to be a coin toss, then we\n",
    "might consider $Y=1$ to be heads and $Y=0$ to be tails. We represent the\n",
    "probability of a given outcome with the notation: $$\n",
    "P(Y=1) = 0.5\n",
    "$$ The first rule of probability is that the probability must normalize.\n",
    "The sum of the probability of all events must equal 1. So if the\n",
    "probability of heads ($Y=1$) is 0.5, then the probability of tails (the\n",
    "only other possible outcome) is given by $$\n",
    "P(Y=0) = 1-P(Y=1) = 0.5\n",
    "$$\n",
    "\n",
    "Probabilities are often defined as the limit of the ratio between the\n",
    "number of positive outcomes (e.g. *heads*) given the number of trials.\n",
    "If the number of positive outcomes for event $y$ is denoted by $n$ and\n",
    "the number of trials is denoted by $N$ then this gives the ratio $$\n",
    "P(Y=y) = \\lim_{N\\rightarrow\n",
    "\\infty}\\frac{n_y}{N}.\n",
    "$$ In practice we never get to observe an event infinite times, so\n",
    "rather than considering this we often use the following estimate $$\n",
    "P(Y=y) \\approx \\frac{n_y}{N}.\n",
    "$$"
   ]
  },
  {
   "cell_type": "markdown",
   "metadata": {
    "id": "42ab43bc-a1e9-4fad-80b5-fd4c9a80d3fe"
   },
   "source": [
    "## Probability and the NMIS Data\n",
    "\n",
    "Let’s use our equation to estimate the probability that a\n",
    "facility has more than two nurses."
   ]
  },
  {
   "cell_type": "code",
   "execution_count": null,
   "metadata": {
    "id": "59428e77-1fb2-4b4a-9cfe-a3609db68ada"
   },
   "outputs": [],
   "source": [
    "large = (hospital_data.num_nurses_fulltime>2).sum()  # number of positive outcomes (in sum True counts as 1, False counts as 0)\n",
    "total_facilities = hospital_data.num_nurses_fulltime.count()\n",
    "print(total_facilities)\n",
    "print(hospital_data.count())\n",
    "prob_large = float(large)/float(total_facilities)\n",
    "print(\"Probability of number of nurses being greather than 2 is:\", prob_large)"
   ]
  },
  {
   "cell_type": "markdown",
   "metadata": {
    "id": "aa643d6c-16b6-4629-9f57-aa123f86ff74"
   },
   "source": [
    "# Conditioning\n",
    "\n",
    "When predicting whether a coin turns up head or tails, we might think\n",
    "that this event is *independent* of the year or time of day. If we\n",
    "include an observation such as time, then in a probability this is known\n",
    "as *condtioning*. We use this notation, $P(Y=y|X=x)$, to condition the\n",
    "outcome on a second variable (in this case the number of doctors). Or,\n",
    "often, for a shorthand we use $P(y|x)$ to represent this distribution\n",
    "(the $Y=$ and $X=$ being implicit). If two variables are independent\n",
    "then we find that $$\n",
    "P(y|x) = p(y).\n",
    "$$ However, we might believe that the number of nurses is dependent on\n",
    "the number of doctors. For this we can try estimating $P(Y>2 | X>1)$ and\n",
    "compare the result, for example to $P(Y>2|X\\leq 1)$ using our empirical\n",
    "estimate of the probability."
   ]
  },
  {
   "cell_type": "code",
   "execution_count": null,
   "metadata": {
    "id": "98cf2697-574d-410c-9dc7-57c3db804ef0"
   },
   "outputs": [],
   "source": [
    "large = ((hospital_data.num_nurses_fulltime>2) & (hospital_data.num_doctors_fulltime>1)).sum()\n",
    "total_large_doctors = (hospital_data.num_doctors_fulltime>1).sum()\n",
    "prob_both_large = large/total_large_doctors\n",
    "print(\"Probability of number of nurses being greater than 2 given number of doctors is greater than 1 is:\", prob_both_large)"
   ]
  },
  {
   "cell_type": "markdown",
   "metadata": {
    "id": "2ae41578-1873-4994-92e2-d4d9b856e927"
   },
   "source": [
    "### Exercise 1\n",
    "\n",
    "Write code that prints out the probability of nurses being greater than\n",
    "2 for different numbers of doctors."
   ]
  },
  {
   "cell_type": "code",
   "execution_count": null,
   "metadata": {
    "id": "81f43ff6-c7b4-4f57-947a-c4334f550916"
   },
   "outputs": [],
   "source": [
    "# Write your answer to Exercise 1 here\n",
    "\n",
    "\n",
    "\n",
    "\n"
   ]
  },
  {
   "cell_type": "markdown",
   "metadata": {
    "id": "e3ffb01d-1911-467c-b066-475c7246df5f"
   },
   "source": [
    "## A Pictorial Definition of Probability\n"
   ]
  },
  {
   "cell_type": "code",
   "execution_count": null,
   "metadata": {
    "id": "a8d2631e-665a-43ea-bcd3-3b2d8d6a42c3"
   },
   "outputs": [],
   "source": [
    "from mlai import plot"
   ]
  },
  {
   "cell_type": "code",
   "execution_count": null,
   "metadata": {
    "id": "28e300ac-2d93-471d-bf7d-139fc755df14"
   },
   "outputs": [],
   "source": [
    "plot.prob_diagram(diagrams='./mlai')"
   ]
  },
  {
   "cell_type": "markdown",
   "metadata": {
    "id": "7163a037-a7b4-4218-9bda-aea8b5c32e8b"
   },
   "source": [
    "<img src=\"https://mlatcl.github.io/advds/./slides/diagrams//mlai/prob_diagram.svg\" class=\"\" width=\"60%\" style=\"vertical-align:middle;\">\n",
    "\n",
    "Figure: <i>Diagram representing the different probabilities, joint,\n",
    "marginal and conditional. This diagram was inspired by lectures given by\n",
    "Christopher Bishop.</i>"
   ]
  },
  {
   "cell_type": "markdown",
   "metadata": {
    "id": "0322eb16-600a-4431-955a-7ac431f98acb"
   },
   "source": [
    "## Definition of probability distributions\n",
    "\n",
    "\n",
    "| Terminology | Definition            | Mathematical notation | Description                      |\n",
    "|:------------|:----------------------|:----------------------|:---------------------------------|\n",
    "| Joint       | $\\lim_{N\\rightarrow\\infty}\\frac{n_{X=3,Y=4}}{N}$       | $P(X=x, Y=y)$         | prob. that X=x *and* Y=y         |\n",
    "| Marginal    | $\\lim_{N\\rightarrow\\infty}\\frac{n_{X=5}}{N}$           | $P(X=x)$              | prob. that X=x *regardless of* Y |\n",
    "| Conditional | $\\lim_{N\\rightarrow\\infty}\\frac{n_{X=3,Y=4}}{n_{Y=4}}$ | $P(X=x\\vert Y=y)$     | prob. that X=x *given that* Y=y  |\n"
   ]
  },
  {
   "cell_type": "markdown",
   "metadata": {
    "id": "8cfc6294-153a-4795-aa98-32b077cf6132"
   },
   "source": [
    "## Notational Details\n",
    "\n",
    "Typically we should write out $P\\left(X=x,Y=y\\right)$, but in practice\n",
    "we often shorten this to $P\\left(x,y\\right)$. This looks very much like\n",
    "we might write a multivariate function, *e.g.* $$\n",
    "f\\left(x,y\\right)=\\frac{x}{y},\n",
    "$$ but for a multivariate function $$\n",
    "f\\left(x,y\\right)\\neq f\\left(y,x\\right).\n",
    "$$ However, $$\n",
    "P\\left(x,y\\right)=P\\left(y,x\\right)\n",
    "$$ because $$\n",
    "P\\left(X=x,Y=y\\right)=P\\left(Y=y,X=x\\right).\n",
    "$$ Sometimes I think of this as akin to the way in Python we can write\n",
    "‘keyword arguments’ in functions. If we use keyword arguments, the\n",
    "ordering of arguments doesn’t matter.\n",
    "\n",
    "We’ve now introduced conditioning and independence to the notion of\n",
    "probability and computed some conditional probabilities on a practical\n",
    "example. We represent a joint\n",
    "probability using the notation $P(Y=y, X=x)$ or $P(y, x)$ for short.\n",
    "Computing a joint probability is equivalent to answering the\n",
    "simultaneous questions, what’s the probability that the number of nurses\n",
    "was over 2 and the number of doctors was 1? Or any other question that\n",
    "may occur to us. Again we can easily use pandas to ask such questions."
   ]
  },
  {
   "cell_type": "code",
   "execution_count": null,
   "metadata": {
    "id": "961e2619-65b0-4d47-b6eb-0f77a2e8aef0"
   },
   "outputs": [],
   "source": [
    "num_doctors = 1\n",
    "large = (hospital_data.num_nurses_fulltime[hospital_data.num_doctors_fulltime==num_doctors]>2).sum()\n",
    "total_facilities = hospital_data.num_nurses_fulltime.count() # currently we count the num_nurses_fulltime as total facilities\n",
    "prob_large = float(large)/float(total_facilities)\n",
    "print(\"Probability of nurses being greater than 2 and number of doctors being\", num_doctors, \"is:\", prob_large)"
   ]
  },
  {
   "cell_type": "markdown",
   "metadata": {
    "id": "660eceaf-2f32-410f-9f6c-f9f812bcc5ae"
   },
   "source": [
    "## The Product Rule\n",
    "\n",
    "This number is the joint probability, $P(Y, X)$ which is much *smaller*\n",
    "than the conditional probability. The number can never be bigger than\n",
    "the conditional probabililty because it is computed using the *product\n",
    "rule*. $$\n",
    "p(Y=y, X=x) = p(Y=y|X=x)p(X=x)\n",
    "$$ and $$p(X=x)$$ is a probability distribution, which is equal or less\n",
    "than 1, ensuring the joint distribution is typically smaller than the\n",
    "conditional distribution.\n",
    "\n",
    "The product rule is a *fundamental* rule of probability, and you must\n",
    "remember it! It gives the relationship between the two questions: 1)\n",
    "What’s the probability that a facility has over two nurses *and* one\n",
    "doctor? and 2) What’s the probability that a facility has over two\n",
    "nurses *given that* it has one doctor?\n",
    "\n",
    "In our shorter notation we can write the product rule as $$\n",
    "p(y, x) = p(y|x)p(x)\n",
    "$$ We can see the relation working in practice for our data above by\n",
    "computing the different values for $x=1$."
   ]
  },
  {
   "cell_type": "code",
   "execution_count": null,
   "metadata": {
    "id": "b9f6c3f8-3330-44a8-9b40-aa482e542e9f"
   },
   "outputs": [],
   "source": [
    "num_doctors=1\n",
    "num_nurses=2\n",
    "p_x = float((hospital_data.num_doctors_fulltime==num_doctors).sum())/float(hospital_data.num_doctors_fulltime.count())\n",
    "p_y_given_x = float((hospital_data.num_nurses_fulltime[hospital_data.num_doctors_fulltime==num_doctors]>num_nurses).sum())/float((hospital_data.num_doctors_fulltime==num_doctors).sum())\n",
    "p_y_and_x = float((hospital_data.num_nurses_fulltime[hospital_data.num_doctors_fulltime==num_doctors]>num_nurses).sum())/float(hospital_data.num_nurses_fulltime.count())\n",
    "\n",
    "print(\"P(x) is\", p_x)\n",
    "print(\"P(y|x) is\", p_y_given_x)\n",
    "print(\"P(y,x) is\", p_y_and_x)"
   ]
  },
  {
   "cell_type": "markdown",
   "metadata": {
    "id": "03b8e065-95a9-4eff-9e79-53c9e582d0cb"
   },
   "source": [
    "## The Sum Rule\n",
    "\n",
    "The other *fundamental rule* of probability is the *sum rule* this tells\n",
    "us how to get a *marginal* distribution from the joint distribution.\n",
    "Simply put it says that we need to sum across the value we’d like to\n",
    "remove. $$\n",
    "P(Y=y) = \\sum_{x} P(Y=y, X=x)\n",
    "$$ Or in our shortened notation $$\n",
    "P(y) = \\sum_{x} P(y, x)\n",
    "$$"
   ]
  },
  {
   "cell_type": "markdown",
   "metadata": {
    "id": "7b315af7-32e2-429c-bf20-6fef19ee9bf6"
   },
   "source": [
    "### Exercise 2\n",
    "\n",
    "Write code that computes $P(y)$ by adding $P(y, x)$ for all values of\n",
    "$x$."
   ]
  },
  {
   "cell_type": "code",
   "execution_count": null,
   "metadata": {
    "id": "103aa9bc-e0be-491f-8b6f-87718694233a"
   },
   "outputs": [],
   "source": [
    "# Write your answer to Exercise 2 here\n",
    "\n",
    "\n",
    "\n",
    "\n"
   ]
  },
  {
   "cell_type": "markdown",
   "metadata": {
    "id": "0a5875db-17a3-4ca8-95fb-1cd62d25b3af"
   },
   "source": [
    "## Bayes’ Rule\n",
    "\n",
    "Bayes’ rule is a very simple rule, it’s hardly worth the name of a rule\n",
    "at all. It follows directly from the product rule of probability.\n",
    "Because $P(y, x) = P(y|x)P(x)$ and by symmetry\n",
    "$P(y,x)=P(x,y)=P(x|y)P(y)$ then by equating these two equations and\n",
    "dividing through by $P(y)$ we have $$\n",
    "P(x|y) =\n",
    "\\frac{P(y|x)P(x)}{P(y)}\n",
    "$$ which is known as Bayes’ rule (or Bayes’s rule, it depends how you\n",
    "choose to pronounce it). It’s not difficult to derive, and its\n",
    "importance is more to do with the semantic operation that it enables.\n",
    "Each of these probability distributions represents the answer to a\n",
    "question we have about the world. Bayes rule (via the product rule)\n",
    "tells us how to *invert* the probability."
   ]
  },
  {
   "cell_type": "markdown",
   "metadata": {
    "id": "fe7a4ade-56c2-49dd-b949-551485be8ebf"
   },
   "source": [
    "## Further Reading\n",
    "\n",
    "-   Probability distributions: page 12–17 (Section 1.2) of Bishop (2006)"
   ]
  },
  {
   "cell_type": "markdown",
   "metadata": {
    "id": "3d2ca29f-d2e1-4a17-ab95-e4a618adb09b"
   },
   "source": [
    "## Exercises\n",
    "\n",
    "-   Exercise 1.3 of Bishop (2006)"
   ]
  },
  {
   "cell_type": "markdown",
   "metadata": {
    "id": "9726cecd-dbdc-4aa5-a2c4-7fb5e3ec44d5"
   },
   "source": [
    "## Probabilities for Extracting Information from Data\n",
    "\n",
    "<span class=\"editsection-bracket\"\n",
    "style=\"\">\\[</span><span class=\"editsection\"\n",
    "style=\"\"><a href=\"https://github.com/lawrennd/snippets/edit/main/_ml/includes/probability-review.md\" target=\"_blank\" onclick=\"ga('send', 'event', 'Edit Page', 'Edit', 'https://github.com/lawrennd/snippets/edit/main/_ml/includes/probability-review.md', 13);\">edit</a></span><span class=\"editsection-bracket\" style=\"\">\\]</span>\n",
    "\n",
    "What use is all this probability in data science? Let’s think about how\n",
    "we might use the probabilities to do some decision making. Let’s look at\n",
    "the information data."
   ]
  },
  {
   "cell_type": "code",
   "execution_count": null,
   "metadata": {
    "id": "00045fd7-af3f-46fb-93e0-e6bb101314c2"
   },
   "outputs": [],
   "source": [
    "hospital_data.columns"
   ]
  },
  {
   "cell_type": "markdown",
   "metadata": {
    "id": "cea36b9d-0976-4404-9703-1a4ba1080445"
   },
   "source": [
    "### Exercise 3\n",
    "\n",
    "Now we see we have several additional features. Let’s assume we want to\n",
    "predict `maternal_health_delivery_services`. How would we go about doing\n",
    "it?\n",
    "\n",
    "Using what you’ve learnt about joint, conditional and marginal\n",
    "probabilities, as well as the sum and product rule, how would you\n",
    "formulate the question you want to answer in terms of probabilities?\n",
    "Should you be using a joint or a conditional distribution? If it’s\n",
    "conditional, what should the distribution be over, and what should it be\n",
    "conditioned on?"
   ]
  },
  {
   "cell_type": "markdown",
   "metadata": {
    "id": "3dd6abec-85bc-44d1-8d00-94b7733f4443"
   },
   "source": [
    "### Exercise 3 Answer\n",
    "\n",
    "Write your answer to Exercise 3 here"
   ]
  },
  {
   "cell_type": "code",
   "execution_count": null,
   "metadata": {
    "id": "7b98925c-f30e-43b3-be27-17e76d5aab0e"
   },
   "outputs": [],
   "source": [
    "from IPython.lib.display import YouTubeVideo\n",
    "YouTubeVideo('GX8VLYUYScM')"
   ]
  },
  {
   "cell_type": "markdown",
   "metadata": {
    "id": "6f5529c9-3d24-4797-ad4d-e37fc58470cc"
   },
   "source": [
    "Figure: <i>MLAI Lecture 2 from 2012.</i>"
   ]
  },
  {
   "cell_type": "markdown",
   "metadata": {
    "id": "e8dbb926-cc2f-4f2c-a3a3-74cc05b20495"
   },
   "source": [
    "## Further Reading\n",
    "\n",
    "-   Section 2.2 (pg 41–53) of Rogers and Girolami (2011)\n",
    "\n",
    "-   Section 2.4 (pg 55–58) of Rogers and Girolami (2011)\n",
    "\n",
    "-   Section 2.5.1 (pg 58–60) of Rogers and Girolami (2011)\n",
    "\n",
    "-   Section 2.5.3 (pg 61–62) of Rogers and Girolami (2011)\n",
    "\n",
    "-   Probability densities: Section 1.2.1 (Pages 17–19) of Bishop (2006)\n",
    "\n",
    "-   Expectations and Covariances: Section 1.2.2 (Pages 19–20) of Bishop\n",
    "    (2006)\n",
    "\n",
    "-   The Gaussian density: Section 1.2.4 (Pages 24–28) (don’t worry about\n",
    "    material on bias) of Bishop (2006)\n",
    "\n",
    "-   For material on information theory and KL divergence try Section 1.6\n",
    "    & 1.6.1 (pg 48 onwards) of Bishop (2006)"
   ]
  },
  {
   "cell_type": "markdown",
   "metadata": {
    "id": "06c4551c-0950-4ced-891f-3f19d9af564c"
   },
   "source": [
    "## Exercises\n",
    "\n",
    "-   Exercise 1.7 of Bishop (2006)\n",
    "\n",
    "-   Exercise 1.8 of Bishop (2006)\n",
    "\n",
    "-   Exercise 1.9 of Bishop (2006)"
   ]
  },
  {
   "cell_type": "markdown",
   "metadata": {
    "id": "b5689fe9-9326-46d2-8142-469001d97898"
   },
   "source": [
    "## Correlation Coefficients\n",
    "\n",
    "<span class=\"editsection-bracket\"\n",
    "style=\"\">\\[</span><span class=\"editsection\"\n",
    "style=\"\"><a href=\"https://github.com/lawrennd/snippets/edit/main/_data-science/includes/correlation-coefficients.md\" target=\"_blank\" onclick=\"ga('send', 'event', 'Edit Page', 'Edit', 'https://github.com/lawrennd/snippets/edit/main/_data-science/includes/correlation-coefficients.md', 13);\">edit</a></span><span class=\"editsection-bracket\" style=\"\">\\]</span>\n",
    "\n",
    "When considering multivariate data, a very useful notion is the\n",
    "*correlation coefficient*. It gives us the relationship between two\n",
    "variables. The most widely used correlation coefficient is due to Karl\n",
    "Pearson, it’s defined in the following way.\n",
    "\n",
    "Let’s define our data set to be kept in a matrix, $\\mathbf{Y}$ with $p$\n",
    "columns. We assume that $\\mathbf{ y}_{:, j}$ is the $j$th column of that\n",
    "matrix which corresponds to the $j$th *feature* of the data. Then\n",
    "$y_{i,j}$ is the $j$th feature for the $i$th data point. Then the sample\n",
    "mean of that feature/column is given by $$\n",
    "\\mu_j = \\frac{1}{n} \\sum_{i=1}^ny_{i,j}\n",
    "$$ where $n$ is the total number of data points (often refered to as the\n",
    "sample size in statistics). Then the variance of that column is given\n",
    "by,[1] $$\n",
    "\\sigma_j^2 = \\frac{1}{n} \\sum_{i=1}^n(y_{i,j} - \\mu_j)^2.\n",
    "$$ The covariance between two variables can also be found as $$\n",
    "c_{j,k} = \\frac{1}{n} \\sum_{i=1}^n(y_{i,j} - \\mu_j)(y_{i, k} - \\mu_k).\n",
    "$$ If we normalise this covariance by the standard deviaton of the two\n",
    "variables ($\\sigma_j, \\sigma_k$) then we recover Pearson’s correlation,\n",
    "often known as Pearson’s $\\rho$ (the Greek letter rho), $$\n",
    "\\rho_{j,k} = \\frac{c_{j,k}}{\\sigma_{j} \\sigma_{k}}.\n",
    "$$ Computing the correlation between two values is a way to determine if\n",
    "the values have a relationship with each other.\n",
    "\n",
    "One of the problems of statistics, is that when we are working with\n",
    "small data, an apparant correlation might just be a statistical\n",
    "anomally, i.e. a conicidence, that arises just because the quantity of\n",
    "data we have collected is low. In mathematical statistics we make use of\n",
    "hypothesis testing to estimate if a given statistic is “statistically\n",
    "significant”.\n",
    "\n",
    "In classical hypothesis testing, we define a *null hypothesis*. This is\n",
    "a hypothesis that contradicts the idea we’re interested in. So for\n",
    "correlation analysis, the null hypothesis would be “there is no\n",
    "correlation between the features $i$ and $j$”. We then measure the $p$\n",
    "value. The $p$ value is the probability that we would observe a value as\n",
    "extreme as the one we see if the null hypothesis is true. If this value\n",
    "is low (typically below 0.05 or below 0.01 depending on how stringent we\n",
    "want to be) we *reject the null hypothesis* and the statistic is\n",
    "declared to be significant.\n",
    "\n",
    "Hypothesis testing gives us critical values of the correlation\n",
    "coefficient that we need to believe that there is a relationship between\n",
    "the variables. Those values get smaller as $n$ gets larger.\n",
    "\n",
    "[1] sometimes the formula used uses $\\frac{1}{n-1}$ instead of\n",
    "$\\frac{1}{n}$. This can be motivated by the observation that this\n",
    "estimate is a *biased* estimate of the true variance. Where bias is a\n",
    "statistical concept relating to how the estimate converges as\n",
    "$n\\rightarrow \\infty$. Personally, I prefer to normalize by $n$, which\n",
    "emerges e.g. from performing maximum likelihood with a Gaussian model."
   ]
  },
  {
   "cell_type": "markdown",
   "metadata": {
    "id": "2c43b939-7882-4193-9946-3fd202c17bf3"
   },
   "source": [
    "## Limitations of Pearson’s $\\rho$\n",
    "\n",
    "Two major limitations of $\\rho$ that you’ll normally see mentioned.\n",
    "Firstly, the measure is really focussed on linear relationships between\n",
    "variables. It’s possible to construct examples of interesting non-linear\n",
    "relationships between two variables for which the correlation is zero.\n",
    "Secondly, we are often interested in a causal relationship between two\n",
    "variables. Two variables which are not directly related will appear\n",
    "correlated if there is a common factor affecting both variables. For\n",
    "example, we might see a correlation between sales figures for swim gear\n",
    "and ice creams. There is no direct relationship between these to\n",
    "variables, but there is a third variable associated with the passing of\n",
    "the seasons that triggers the sales figures of both swim gear and ice\n",
    "creams to increase.\n",
    "\n",
    "Let’s look an example using the Nigerian NMIS data.\n",
    "\n",
    "We’ll just look at the numbers of nurses, doctors, midwives and\n",
    "community health extension workers (CHEWs)."
   ]
  },
  {
   "cell_type": "code",
   "execution_count": null,
   "metadata": {
    "id": "09576333-fb83-4416-a5be-9bfe6e0f8837"
   },
   "outputs": [],
   "source": [
    "hospital_workers_data = hospital_data[[\"num_chews_fulltime\", \"num_nurses_fulltime\", \"num_nursemidwives_fulltime\", \"num_doctors_fulltime\"]]"
   ]
  },
  {
   "cell_type": "markdown",
   "metadata": {
    "id": "d6484f8f-811d-475d-954c-2fae3d552753"
   },
   "source": [
    "We can compute the correlation of the columns using `.corr()` on the\n",
    "`pandas.DataFrame`."
   ]
  },
  {
   "cell_type": "code",
   "execution_count": null,
   "metadata": {
    "id": "0fb45e02-06a9-43ce-8c51-689bfa55c3f8"
   },
   "outputs": [],
   "source": [
    "import numpy as np\n",
    "import pandas as pd"
   ]
  },
  {
   "cell_type": "code",
   "execution_count": null,
   "metadata": {
    "id": "07eb37e4-ea28-457a-9332-9a2bfa367049"
   },
   "outputs": [],
   "source": [
    "import matplotlib.pyplot as plt\n",
    "import mlai\n",
    "import mlai.plot as plot"
   ]
  },
  {
   "cell_type": "code",
   "execution_count": null,
   "metadata": {
    "id": "e46d2e2b-6f06-4684-a56b-86fde401fdd9"
   },
   "outputs": [],
   "source": [
    "fig, ax = plt.subplots(figsize=plot.big_figsize)\n",
    "im = ax.matshow(hospital_workers_data.corr())\n",
    "ax.set_xticks([0.5, 1.5, 2.5, 3.5])\n",
    "ax.set_xticklabels(hospital_workers_data.columns, fontsize=14, rotation=45)\n",
    "ax.set_yticks([0, 1, 2, 3])\n",
    "ax.set_yticklabels(hospital_workers_data.columns, fontsize=14)\n",
    "\n",
    "fig.colorbar(im, ax=ax)\n",
    "\n",
    "mlai.write_figure(filename=\"nigeria-nmis-correlation-matrix.svg\", directory=\"./data-science\")"
   ]
  },
  {
   "cell_type": "markdown",
   "metadata": {
    "id": "0d8c3238-d7d1-4beb-ac09-a6312a78049d"
   },
   "source": [
    "<img src=\"https://mlatcl.github.io/advds/./slides/diagrams//data-science/nigeria-nmis-correlation-matrix.svg\" class=\"\" width=\"80%\" style=\"vertical-align:middle;\">\n",
    "\n",
    "Figure: <i>Correlation matrix for the number of community health\n",
    "workers, nurses, midwives and doctors in the Nigerian NMIS health centre\n",
    "data.</i>\n",
    "\n",
    "From plotting this matrix of correlations, we can immediately see that\n",
    "there are good correlations between the numbers of doctors, nurses and\n",
    "midwives, but less correlation with the number of community health\n",
    "workers.\n",
    "\n",
    "There are also specialised libraries for plotting correlation matrices,\n",
    "see for example `corrplot` from `biokit.viz`.\n",
    "\n",
    "Before we proceed, let’s just dive deeper into some of these\n",
    "correlations using scatter plots."
   ]
  },
  {
   "cell_type": "markdown",
   "metadata": {
    "id": "0ca07fbb-c7cd-4572-9c78-9648059776b4"
   },
   "source": [
    "## Plotting Variables\n",
    "\n",
    "When exploring a data set it’s often useful to create a scatter plot of\n",
    "the different variables. In `pandas` this can be done using\n",
    "`pandas.tools.plotting.scatter_matrix`."
   ]
  },
  {
   "cell_type": "code",
   "execution_count": null,
   "metadata": {
    "id": "1afeaece-02d1-4ff3-bf6f-70df4c22ae08"
   },
   "outputs": [],
   "source": [
    "axs = pd.plotting.scatter_matrix(hospital_workers_data, alpha=0.2, figsize=(15, 15))\n",
    "mlai.write_figure(filename=\"nigeria-nmis-scatter-matrix.png\", directory=\"./data-science\")"
   ]
  },
  {
   "cell_type": "markdown",
   "metadata": {
    "id": "ede3ca99-eacb-4138-8cae-8c5ae0639235"
   },
   "source": [
    "<img class=\"\" src=\"https://mlatcl.github.io/advds/./slides/diagrams//data-science/nigeria-nmis-scatter-matrix.png\" style=\"width:70%\">\n",
    "\n",
    "Figure: <i>Scatter matrix of the numbers of commuity health extension\n",
    "workers, nurses, doctors and midwives in the Nigerian health facilities\n",
    "data. Numbers are hard to see because they range from small numbers to\n",
    "larger numbers.</i>\n",
    "\n",
    "Immediately we note that the values are difficult to see in the scatter\n",
    "plot. They are ranging from zero for some health facilities but to\n",
    "hundreds for others. To get a better view, we can look at the logarithm\n",
    "of the data. Some counts are zero, so instead of plotting the logarithm\n",
    "directly, we plot $\\log_{10}(\\cdot + 1)$ as follows."
   ]
  },
  {
   "cell_type": "code",
   "execution_count": null,
   "metadata": {
    "id": "cd3ab00b-694e-445a-a3df-29d60d00438d"
   },
   "outputs": [],
   "source": [
    "axs = pd.plotting.scatter_matrix(np.log10(hospital_workers_data+1), alpha=0.2, figsize=(15, 15))\n",
    "mlai.write_figure(filename=\"nigeria-nmis-log-plus-one-scatter-matrix.png\", directory=\"./data-science\")"
   ]
  },
  {
   "cell_type": "markdown",
   "metadata": {
    "id": "40852eb0-5584-4dbb-867c-7dc3bf4f9657"
   },
   "source": [
    "<img class=\"\" src=\"https://mlatcl.github.io/advds/./slides/diagrams//data-science/nigeria-nmis-log-plus-one-scatter-matrix.png\" style=\"width:70%\">\n",
    "\n",
    "Figure: <i>Scatter matrix of the $\\log_{10}(\\cdot + 1)$ of numbers of\n",
    "commuity health extension workers, nurses, doctors and midwives in the\n",
    "Nigerian health facilities data.</i>\n",
    "\n",
    "There are a few odd things in the plots that might be worth\n",
    "investigating. For example, the nurse numbers seem to drop very abruptly\n",
    "after some point. Let’s investigate by zooming in on a region of the\n",
    "relevant plot."
   ]
  },
  {
   "cell_type": "code",
   "execution_count": null,
   "metadata": {
    "id": "f34c0333-8baf-4ecd-8dff-a988d1e233a9"
   },
   "outputs": [],
   "source": [
    "fig, ax = plt.subplots(figsize=plot.big_figsize)\n",
    "ax.plot(np.log10(hospital_data[\"num_chews_fulltime\"]+1), np.log10(hospital_data[\"num_nurses_fulltime\"]+1), 'bo', alpha=0.2)\n",
    "ax.set_ylim([1.0, 1.5])\n",
    "ax.set_xlabel(\"Number of Community Health Workers\")\n",
    "ax.set_ylabel(\"Number of Full Time Nurses\")\n",
    "\n",
    "mlai.write_figure(filename=\"nigeria-nmis-nurse-zoom-in.svg\", directory=\"./data-science\")"
   ]
  },
  {
   "cell_type": "markdown",
   "metadata": {
    "id": "56e01217-bcf3-47cd-8812-962411a3bd3c"
   },
   "source": [
    "<img src=\"https://mlatcl.github.io/advds/./slides/diagrams//data-science/nigeria-nmis-nurse-zoom-in.svg\" class=\"\" width=\"40%\" style=\"vertical-align:middle;\">\n",
    "\n",
    "Figure: <i>Zoom in on the scatter plot of the number of nurses in the\n",
    "health centres. There’s an odd “cliff” in the data density between 1.2\n",
    "and 1.3.</i>\n",
    "\n",
    "From the zoom in we can see that the cliff is occurring somewhere below\n",
    "1.3 on the plot, let’s find what the value of this cliff is."
   ]
  },
  {
   "cell_type": "code",
   "execution_count": null,
   "metadata": {
    "id": "5447df0b-afdb-43f5-888a-063c66e87855"
   },
   "outputs": [],
   "source": [
    "hospital_data[\"num_nurses_fulltime\"][np.log10(hospital_data[\"num_nurses_fulltime\"]+1)<1.3].max()"
   ]
  },
  {
   "cell_type": "markdown",
   "metadata": {
    "id": "4aa85f2a-4feb-4445-a3c2-1c91ab0ac6ce"
   },
   "source": [
    "Giving us the value of 16. This is slightly odd, and suggests the values\n",
    "may have been censored in some way. We can see this if we bar chart\n",
    "them."
   ]
  },
  {
   "cell_type": "code",
   "execution_count": null,
   "metadata": {
    "id": "8abd5d9c-67cc-40b6-8175-e690ce46da08"
   },
   "outputs": [],
   "source": [
    "fig, ax = plt.subplots(figsize=plot.big_wide_figsize)\n",
    "hospital_data[\"num_nurses_fulltime\"].value_counts().sort_index().plot.bar(ax=ax)\n",
    "ax.set_ylim([0, 200])\n",
    "ax.set_xlabel(\"full time nurse count\")\n",
    "ax.set_ylabel(\"number of health centres\")\n",
    "\n",
    "mlai.write_figure(filename=\"nigerian-nmis-number-nurses-health-centre.svg\",\n",
    "                  directory=\"./data-science\")"
   ]
  },
  {
   "cell_type": "markdown",
   "metadata": {
    "id": "3fcd8825-6277-4e88-badb-86ad2a43ed9e"
   },
   "source": [
    "<img src=\"https://mlatcl.github.io/advds/./slides/diagrams//data-science/nigerian-nmis-number-nurses-health-centre.svg\" class=\"\" width=\"50%\" style=\"vertical-align:middle;\">\n",
    "\n",
    "Figure: <i>Number of nurses in each health centre. Note the\n",
    "over-representation of centres with 10 nurses, as well as the\n",
    "underrepresentation of centres with over 16 nurses.</i>\n",
    "\n",
    "Not only do we see the cliff after 16 nurses, but there are a few other\n",
    "interesting effects. The number of health centres with 10 nurses is many\n",
    "more than those with either 9 or 11 nurses. This is likely an example of\n",
    "a rounding effect. When people report numbers by hand, they tend to\n",
    "round them. This may well explain the overepresentation of 10. This\n",
    "should give some cause for concern about the data.\n",
    "\n",
    "*Aside*: likely the problems in the NMIS data are to do with mistakes in\n",
    "reporting, but analysis of data can also be used to unpick serious\n",
    "problems in scientific data. See for example this paper [Evidence of\n",
    "Fraud in an Influential Field Experiment About\n",
    "Dishonesty](https://datacolada.org/98) (Simonsohn et al., 2021), which\n",
    "ironically finds evidence of fraud in a paper about dishonesty. One of\n",
    "the techniques they use is looking for overrepresentation of round\n",
    "numbers in hand-reported data. Another technique that can be used when\n",
    "looking for fraudulent data is known as [Benford’s\n",
    "law](https://en.wikipedia.org/wiki/Benford%27s_law), which describes the\n",
    "distribution of first digits."
   ]
  },
  {
   "cell_type": "markdown",
   "metadata": {
    "id": "3ZxEwSQ7d4xL"
   },
   "source": [
    "# Structuring Your Code using the Fynesse Template\n",
    "\n",
    "Along this notebook, you have created different pieces of code to manage your data. You first executed some commands to download and explore your data. Then, you used pieces of code to plot and assess the datasets. In the end, you explored some statistical concepts to analyse your data.\n",
    "\n",
    "The problems a data scientist faces and the strategies for their resolution are usually quite similar between domains and datasets. For example, you might want to download different datasets but the API request follows always the same logic. It makes sense then to structure your code in a way it can be reused and you save time. That is one of the technical goals we want you to achieve in this course. To facilitate this, you should use [the Fynesse template](https://github.com/lawrennd/fynesse_template) for structuring your code.\n",
    "\n",
    "The Fynesse template provides a Python template repo for doing data analysis according to the Fynesse framework (Access, Assess, and Address). You will use this template to create your own data analysis library. If you define such a library in a general enough way, you should be able to use the code you write in this course in your future data science projects.\n",
    "\n",
    "We expect you to keep this library updated and use it during the course practicals and final assessment. In fact, for the final assignment, you will provide a short repository overview describing how you have implemented the different parts of the project and where you have placed those parts in your library. We will use your library to understand and reconstruct the thinking behind your analysis.\n"
   ]
  },
  {
   "cell_type": "markdown",
   "metadata": {
    "id": "f9_ogz8BjzEQ"
   },
   "source": [
    "Please follow this instructions to create your Python library based on the Fynesse Template:\n",
    "\n",
    "You should start by forking the Fynesse Template repository.\n",
    "\n",
    "A fork is a copy of a repository. Forking a repository allows you to freely experiment with changes without affecting the original project.\n",
    "\n",
    "You can fork the repository using your web explorer and your GitHub account. In [the Fynesse template](https://github.com/lawrennd/fynesse_template) GitHub repository click on the `Fork` box, and then click on `+ Create a new fork`. You will see another page to set the details of your library. Name your repository using your CRSid with the following format: `[CRSid]_ads_2024`.\n",
    "\n",
    "Ensure you copy the main branch only. You can change the description as you wish and then click on `Create fork`.\n",
    "\n",
    "After creating the fork, you should have the template in your own GitHub as a repository with the name you set when creating the fork. Clone this repo in your machine and open it using the IDE of your preference so you can start making changes to your library following the Fynesse template.\n",
    "\n",
    "Let's create a `Hello World!` method in the `access` layer.\n",
    "\n",
    "```\n",
    "def hello_world():\n",
    "  print(\"Hello from the data science library!\")\n",
    "```\n",
    "\n",
    "Copy the code above to the `access.py` file in your library. The file is in the path `./fynesse/access.py`.\n",
    "\n",
    "Commit and push your changes. Now, you are ready to import and use your library from this notebook.\n",
    "\n"
   ]
  },
  {
   "cell_type": "code",
   "execution_count": null,
   "metadata": {
    "id": "MP1CD-T8jo0O"
   },
   "outputs": [],
   "source": [
    "%pip uninstall --yes fynesse\n",
    "# Replace this with the location of your fynesse implementation.\n",
    "%pip install git+https://github.com/cabrerac/fynesse_template.git"
   ]
  },
  {
   "cell_type": "code",
   "execution_count": null,
   "metadata": {
    "id": "Oqg1EU00pFdh"
   },
   "outputs": [],
   "source": [
    "import fynesse\n",
    "\n",
    "fynesse.access.hello_world()"
   ]
  },
  {
   "cell_type": "markdown",
   "metadata": {
    "id": "re2iV_Bul5gE"
   },
   "source": [
    "# Thanks!\n",
    "\n",
    "For more information on these subjects and more you might want to check\n",
    "the following resources.\n",
    "\n",
    "-   twitter: [@lawrennd](https://twitter.com/lawrennd)\n",
    "-   podcast: [The Talking Machines](http://thetalkingmachines.com)\n",
    "-   newspaper: [Guardian Profile\n",
    "    Page](http://www.theguardian.com/profile/neil-lawrence)\n",
    "-   blog:\n",
    "    [http://inverseprobability.com](http://inverseprobability.com/blog.html)"
   ]
  },
  {
   "cell_type": "markdown",
   "metadata": {
    "id": "19e1ea46-0d49-40ef-b12c-928bccd62f4d"
   },
   "source": [
    "## References"
   ]
  },
  {
   "cell_type": "markdown",
   "metadata": {
    "id": "b5ffcd33-c8b9-4641-bae5-388334a5099e"
   },
   "source": [
    "Bishop, C.M., 2006. Pattern recognition and machine learning. springer.\n",
    "\n",
    "Morris, J., 2021. [Israeli data: How can efficacy vs. Severe disease be\n",
    "strong when 60% of hospitalized are\n",
    "vaccinated?](https://www.covid-datascience.com/post/israeli-data-how-can-efficacy-vs-severe-disease-be-strong-when-60-of-hospitalized-are-vaccinated)\n",
    "\n",
    "Rogers, S., Girolami, M., 2011. A first course in machine learning. CRC\n",
    "Press.\n",
    "\n",
    "Simonsohn, U., Joe, Nelson, L., Simmons, J., Others, 2021. [Evidence of\n",
    "fraud in an influential field experiment about\n",
    "dishonesty](https://datacolada.org/98).\n",
    "\n",
    "The Office of the Senior Special Assistant to the President on the\n",
    "Millennium Development Goals (OSSAP-MDGs), Columbia University, 2014.\n",
    "Nigeria NMIS facility database.\n",
    "\n",
    "Yanai, I., Lercher, M., 2020. A hypothesis is a liability. Genome\n",
    "Biology 21."
   ]
  }
 ],
 "metadata": {
  "colab": {
   "provenance": []
  },
  "kernelspec": {
   "display_name": "Python 3 (ipykernel)",
   "language": "python",
   "name": "python3"
  },
  "language_info": {
   "codemirror_mode": {
    "name": "ipython",
    "version": 3
   },
   "file_extension": ".py",
   "mimetype": "text/x-python",
   "name": "python",
   "nbconvert_exporter": "python",
   "pygments_lexer": "ipython3",
   "version": "3.11.8"
  }
 },
 "nbformat": 4,
 "nbformat_minor": 4
}
