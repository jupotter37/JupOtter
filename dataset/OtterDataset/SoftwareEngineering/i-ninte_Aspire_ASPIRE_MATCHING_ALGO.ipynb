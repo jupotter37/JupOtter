{
  "nbformat": 4,
  "nbformat_minor": 0,
  "metadata": {
    "colab": {
      "provenance": []
    },
    "kernelspec": {
      "name": "python3",
      "display_name": "Python 3"
    },
    "language_info": {
      "name": "python"
    }
  },
  "cells": [
    {
      "cell_type": "code",
      "source": [
        "import spacy\n"
      ],
      "metadata": {
        "id": "oL1dhECILmsM"
      },
      "execution_count": 3,
      "outputs": []
    },
    {
      "cell_type": "code",
      "source": [
        "import getpass\n",
        "import os\n",
        "\n",
        "from google.colab import userdata\n",
        "sec_key=userdata.get(\"GEMINI_API\")\n"
      ],
      "metadata": {
        "id": "3iQG5E6nMeVl"
      },
      "execution_count": 2,
      "outputs": []
    },
    {
      "cell_type": "code",
      "source": [
        "pip install -qU langchain-google-genai"
      ],
      "metadata": {
        "id": "_h1ma2wRMlbg",
        "colab": {
          "base_uri": "https://localhost:8080/"
        },
        "outputId": "93790201-820d-4bd7-a1f0-1aafa5606b0e"
      },
      "execution_count": 4,
      "outputs": [
        {
          "output_type": "stream",
          "name": "stdout",
          "text": [
            "\u001b[2K     \u001b[90m━━━━━━━━━━━━━━━━━━━━━━━━━━━━━━━━━━━━━━━━\u001b[0m \u001b[32m164.2/164.2 kB\u001b[0m \u001b[31m5.3 MB/s\u001b[0m eta \u001b[36m0:00:00\u001b[0m\n",
            "\u001b[2K     \u001b[90m━━━━━━━━━━━━━━━━━━━━━━━━━━━━━━━━━━━━━━━━\u001b[0m \u001b[32m366.3/366.3 kB\u001b[0m \u001b[31m17.2 MB/s\u001b[0m eta \u001b[36m0:00:00\u001b[0m\n",
            "\u001b[2K     \u001b[90m━━━━━━━━━━━━━━━━━━━━━━━━━━━━━━━━━━━━━━━━\u001b[0m \u001b[32m718.3/718.3 kB\u001b[0m \u001b[31m32.5 MB/s\u001b[0m eta \u001b[36m0:00:00\u001b[0m\n",
            "\u001b[2K     \u001b[90m━━━━━━━━━━━━━━━━━━━━━━━━━━━━━━━━━━━━━━━━\u001b[0m \u001b[32m127.9/127.9 kB\u001b[0m \u001b[31m8.9 MB/s\u001b[0m eta \u001b[36m0:00:00\u001b[0m\n",
            "\u001b[2K     \u001b[90m━━━━━━━━━━━━━━━━━━━━━━━━━━━━━━━━━━━━━━━━\u001b[0m \u001b[32m141.1/141.1 kB\u001b[0m \u001b[31m13.9 MB/s\u001b[0m eta \u001b[36m0:00:00\u001b[0m\n",
            "\u001b[?25h"
          ]
        }
      ]
    },
    {
      "cell_type": "code",
      "source": [
        "import getpass\n",
        "import os\n",
        "\n",
        "os.environ[\"GOOGLE_API_KEY\"] = getpass.getpass(\"your API key\")"
      ],
      "metadata": {
        "colab": {
          "base_uri": "https://localhost:8080/"
        },
        "id": "kFEFkPAb3hXU",
        "outputId": "03a7dbf4-f83b-4874-e994-5d250bfc75fd"
      },
      "execution_count": 8,
      "outputs": [
        {
          "name": "stdout",
          "output_type": "stream",
          "text": [
            "your API key·\n"
          ]
        }
      ]
    },
    {
      "cell_type": "code",
      "source": [
        "from langchain_google_genai import ChatGoogleGenerativeAI\n",
        "\n",
        "llm = ChatGoogleGenerativeAI(\n",
        "    model=\"gemini-1.5-pro\",\n",
        "    temperature=0.2,\n",
        "    max_output_tokens=256,\n",
        "    max_tokens=None,\n",
        "    timeout=None,\n",
        "    max_retries=2,\n",
        "    # other params...\n",
        ")"
      ],
      "metadata": {
        "id": "prCLL6jS2lGZ"
      },
      "execution_count": 9,
      "outputs": []
    },
    {
      "cell_type": "code",
      "source": [
        "import json\n",
        "\n",
        "def cv_to_json(cv_text):\n",
        "    # This function assumes a specific format for the CV text\n",
        "    # You will need to adjust the parsing logic based on the actual format of your CVs\n",
        "\n",
        "    cv_lines = cv_text.split('\\n')\n",
        "    cv_data = {}\n",
        "\n",
        "    for line in cv_lines:\n",
        "        if line.startswith(\"Name:\"):\n",
        "            cv_data[\"name\"] = line.split(\":\")[1].strip()\n",
        "        elif line.startswith(\"Contact:\"):\n",
        "            cv_data[\"contact\"] = line.split(\":\")[1].strip()\n",
        "        elif line.startswith(\"Education:\"):\n",
        "            cv_data[\"education\"] = line.split(\":\")[1].strip()\n",
        "        elif line.startswith(\"Experience:\"):\n",
        "            cv_data[\"experience\"] = line.split(\":\")[1].strip()\n",
        "        elif line.startswith(\"Skills:\"):\n",
        "            cv_data[\"skills\"] = [skill.strip() for skill in line.split(\":\")[1].split(\",\")]\n",
        "\n",
        "    return json.dumps(cv_data, indent=4)\n",
        "\n",
        "# Example usage:\n",
        "mentee_cv = \"\"\"\n",
        "Name: John Doe\n",
        "Contact: john.doe@example.com\n",
        "Education: B.Sc. in Computer Science\n",
        "Experience: 2 years as a software developer\n",
        "Skills: Python, Java, SQL\n",
        "\"\"\"\n",
        "\n",
        "mentor_cv = \"\"\"\n",
        "Name: Jane Smith\n",
        "Contact: jane.smith@example.com\n",
        "Education: M.Sc. in Software Engineering\n",
        "Experience: 5 years as a senior software engineer\n",
        "Skills: Python, JavaScript, AWS, Docker\n",
        "\"\"\"\n",
        "\n",
        "mentee_cv_json = cv_to_json(mentee_cv)\n",
        "mentor_cv_json = cv_to_json(mentor_cv)\n",
        "\n",
        "print(\"Mentee CV JSON:\")\n",
        "print(mentee_cv_json)\n",
        "\n",
        "print(\"\\nMentor CV JSON:\")\n",
        "print(mentor_cv_json)\n"
      ],
      "metadata": {
        "colab": {
          "base_uri": "https://localhost:8080/"
        },
        "id": "JUh460_f5X5u",
        "outputId": "06681e4c-5093-4ac5-ac1d-5c8e60d3f31b"
      },
      "execution_count": 10,
      "outputs": [
        {
          "output_type": "stream",
          "name": "stdout",
          "text": [
            "Mentee CV JSON:\n",
            "{\n",
            "    \"name\": \"John Doe\",\n",
            "    \"contact\": \"john.doe@example.com\",\n",
            "    \"education\": \"B.Sc. in Computer Science\",\n",
            "    \"experience\": \"2 years as a software developer\",\n",
            "    \"skills\": [\n",
            "        \"Python\",\n",
            "        \"Java\",\n",
            "        \"SQL\"\n",
            "    ]\n",
            "}\n",
            "\n",
            "Mentor CV JSON:\n",
            "{\n",
            "    \"name\": \"Jane Smith\",\n",
            "    \"contact\": \"jane.smith@example.com\",\n",
            "    \"education\": \"M.Sc. in Software Engineering\",\n",
            "    \"experience\": \"5 years as a senior software engineer\",\n",
            "    \"skills\": [\n",
            "        \"Python\",\n",
            "        \"JavaScript\",\n",
            "        \"AWS\",\n",
            "        \"Docker\"\n",
            "    ]\n",
            "}\n"
          ]
        }
      ]
    },
    {
      "cell_type": "code",
      "source": [
        "mentee_cv = \"\"\"\n",
        "Name: John Doe\n",
        "Contact: john.doe@example.com\n",
        "Education: B.Sc. in Computer Science\n",
        "Experience: 2 years as a software developer\n",
        "Skills: Python, Java, SQL\n",
        "\"\"\"\n",
        "\n",
        "mentor_cv = \"\"\"\n",
        "Name: Jane Smith\n",
        "Contact: jane.smith@example.com\n",
        "Education: M.Sc. in Software Engineering\n",
        "Experience: 5 years as a senior software engineer\n",
        "Skills: Python, JavaScript, AWS, Docker\n",
        "\"\"\"\n",
        "\n",
        "messages = [\n",
        "    (\n",
        "        \"system\",\n",
        "        \"You are a helpful assistant that mentors developers. You are to check the similarity between the CV of a mentee and a mentor's CV.\",\n",
        "    ),\n",
        "    (\n",
        "        \"human\",\n",
        "        f\"Here are the CVs of the mentee and the mentor:\\n\\nMentee's CV: {mentee_cv}\\n\\nMentor's CV: {mentor_cv}\\n\\nPlease compare the two CVs and provide a similarity analysis.\"\n",
        "    ),\n",
        "]\n",
        "\n",
        "ai_msg = llm.invoke(messages)\n",
        "print(ai_msg)\n"
      ],
      "metadata": {
        "colab": {
          "base_uri": "https://localhost:8080/"
        },
        "id": "xOTfK-WJ2ytm",
        "outputId": "c4075877-7204-4521-9039-a698bbac35cd"
      },
      "execution_count": 11,
      "outputs": [
        {
          "output_type": "stream",
          "name": "stdout",
          "text": [
            "content=\"## CV Similarity Analysis: John Doe (Mentee) & Jane Smith (Mentor)\\n\\nHere's a comparison of John and Jane's CVs, highlighting similarities and differences to guide the mentoring relationship:\\n\\n**Similarities:**\\n\\n* **Core Skills:** Both John and Jane share Python as a core programming skill. This provides a strong foundation for mentorship in this area. \\n* **Software Development Focus:** Both CVs clearly demonstrate experience and interest in software development, ensuring aligned career goals.\\n\\n**Differences:**\\n\\n* **Experience Level:** Jane possesses significantly more experience (5 years) than John (2 years). This gap allows Jane to provide guidance on career progression and navigating the industry.\\n* **Specific Skills:** While sharing Python, their skillsets diverge. Jane's expertise in JavaScript, AWS, and Docker offers valuable learning opportunities for John, especially if he wants to explore cloud-based development.\\n* **Education:** Jane holds a Master's degree, while John has a Bachelor's. This difference can facilitate discussions about the value of further education and its impact on career paths.\\n\\n**Mentorship Opportunities:**\\n\\n* **Technical Guidance:** Jane can mentor John in advanced Python concepts and introduce him to JavaScript, AWS, and Docker.\\n\" response_metadata={'prompt_feedback': {'block_reason': 0, 'safety_ratings': []}, 'finish_reason': 'STOP', 'safety_ratings': [{'category': 'HARM_CATEGORY_SEXUALLY_EXPLICIT', 'probability': 'NEGLIGIBLE', 'blocked': False}, {'category': 'HARM_CATEGORY_HATE_SPEECH', 'probability': 'NEGLIGIBLE', 'blocked': False}, {'category': 'HARM_CATEGORY_HARASSMENT', 'probability': 'NEGLIGIBLE', 'blocked': False}, {'category': 'HARM_CATEGORY_DANGEROUS_CONTENT', 'probability': 'NEGLIGIBLE', 'blocked': False}]} id='run-16ceef17-2b05-4b42-afd6-c73a76afba71-0' usage_metadata={'input_tokens': 160, 'output_tokens': 255, 'total_tokens': 415}\n"
          ]
        }
      ]
    },
    {
      "cell_type": "code",
      "source": [
        "from sklearn.feature_extraction.text import TfidfVectorizer\n",
        "from sklearn.metrics.pairwise import cosine_similarity\n",
        "import json\n",
        "\n",
        "def cv_to_json(cv_text):\n",
        "    # Simple parsing logic, may need adjustments based on CV format\n",
        "    cv_lines = cv_text.split('\\n')\n",
        "    cv_data = {}\n",
        "    for line in cv_lines:\n",
        "        if line.startswith(\"Name:\"):\n",
        "            cv_data[\"name\"] = line.split(\":\")[1].strip()\n",
        "        elif line.startswith(\"Contact:\"):\n",
        "            cv_data[\"contact\"] = line.split(\":\")[1].strip()\n",
        "        elif line.startswith(\"Education:\"):\n",
        "            cv_data[\"education\"] = line.split(\":\")[1].strip()\n",
        "        elif line.startswith(\"Experience:\"):\n",
        "            cv_data[\"experience\"] = line.split(\":\")[1].strip()\n",
        "        elif line.startswith(\"Skills:\"):\n",
        "            cv_data[\"skills\"] = [skill.strip() for skill in line.split(\":\")[1].split(\",\")]\n",
        "    return json.dumps(cv_data, indent=4)\n",
        "\n",
        "mentee_cv = \"\"\"\n",
        "Name: John Doe\n",
        "Contact: john.doe@example.com\n",
        "Education: B.Sc. in Computer Science\n",
        "Experience: 2 years as a software developer\n",
        "Skills: Python, Java, SQL\n",
        "\"\"\"\n",
        "\n",
        "mentor_cv = \"\"\"\n",
        "Name: Jane Smith\n",
        "Contact: jane.smith@example.com\n",
        "Education: M.Sc. in Software Engineering\n",
        "Experience: 5 years as a senior software engineer\n",
        "Skills: Python, JavaScript, AWS, Docker\n",
        "\"\"\"\n",
        "\n",
        "# Convert CVs to JSON (optional, if needed for other purposes)\n",
        "mentee_cv_json = cv_to_json(mentee_cv)\n",
        "mentor_cv_json = cv_to_json(mentor_cv)\n",
        "\n",
        "# Convert CVs to a list for vectorization\n",
        "cvs = [mentee_cv, mentor_cv]\n",
        "\n",
        "# Vectorize the CVs using TF-IDF\n",
        "vectorizer = TfidfVectorizer()\n",
        "tfidf_matrix = vectorizer.fit_transform(cvs)\n",
        "\n",
        "# Calculate cosine similarity\n",
        "similarity_matrix = cosine_similarity(tfidf_matrix)\n",
        "\n",
        "# Extract the similarity score between the mentee and mentor CVs\n",
        "similarity_score = similarity_matrix[0][1]\n",
        "\n",
        "print(f\"Similarity Score: {similarity_score:.2f}\")\n",
        "\n",
        "# Generate the message for the AI\n",
        "messages = [\n",
        "    (\n",
        "        \"system\",\n",
        "        \"You are a helpful assistant that mentors developers. You are to check the similarity between the CV of a mentee and a mentor's CV.\",\n",
        "    ),\n",
        "    (\n",
        "        \"human\",\n",
        "        f\"Here are the CVs of the mentee and the mentor:\\n\\nMentee's CV: {mentee_cv}\\n\\nMentor's CV: {mentor_cv}\\n\\nPlease compare the two CVs and provide a similarity analysis.\\n\\nThe calculated similarity score is: {similarity_score:.2f}\"\n",
        "    ),\n",
        "]\n",
        "\n",
        "ai_msg = llm.invoke(messages)\n",
        "print(ai_msg)\n"
      ],
      "metadata": {
        "colab": {
          "base_uri": "https://localhost:8080/"
        },
        "id": "p9JdfVwQ7ACa",
        "outputId": "28140716-3cac-4ef9-d62f-4ea9079231e6"
      },
      "execution_count": 12,
      "outputs": [
        {
          "output_type": "stream",
          "name": "stdout",
          "text": [
            "Similarity Score: 0.34\n",
            "content=\"Here's a breakdown of the similarities and differences between John's and Jane's CVs, along with an interpretation of the similarity score:\\n\\n**Similarities:**\\n\\n* **Core Skills:** Both John and Jane share Python as a common programming language skill. This suggests a foundational overlap in their technical abilities.\\n* **Industry:** Both CVs point to experience in software development, indicating they work within the same industry.\\n\\n**Differences:**\\n\\n* **Experience Level:**  Jane has significantly more experience (5 years) compared to John's 2 years. This difference is typical in a mentor-mentee relationship.\\n* **Specific Skills:** While they share Python, their other technical skills differ. Jane's CV highlights expertise in JavaScript, AWS, and Docker, which are more advanced and cloud-focused, while John's lists Java and SQL, suggesting a potentially stronger foundation in backend technologies.\\n* **Education:** Jane holds a Master's degree, while John has a Bachelor's. This difference in academic qualifications aligns with their difference in experience levels.\\n\\n**Interpretation of the Similarity Score (0.34):**\\n\\nA similarity score of 0.34 (on a scale of 0 to 1, assuming\" response_metadata={'prompt_feedback': {'block_reason': 0, 'safety_ratings': []}, 'finish_reason': 'STOP', 'safety_ratings': [{'category': 'HARM_CATEGORY_SEXUALLY_EXPLICIT', 'probability': 'NEGLIGIBLE', 'blocked': False}, {'category': 'HARM_CATEGORY_HATE_SPEECH', 'probability': 'NEGLIGIBLE', 'blocked': False}, {'category': 'HARM_CATEGORY_HARASSMENT', 'probability': 'NEGLIGIBLE', 'blocked': False}, {'category': 'HARM_CATEGORY_DANGEROUS_CONTENT', 'probability': 'NEGLIGIBLE', 'blocked': False}]} id='run-52740e90-0c84-4377-97f9-7502cb2c8983-0' usage_metadata={'input_tokens': 172, 'output_tokens': 256, 'total_tokens': 428}\n"
          ]
        }
      ]
    },
    {
      "cell_type": "code",
      "source": [
        "print(ai_msg.content)\n",
        "\n"
      ],
      "metadata": {
        "colab": {
          "base_uri": "https://localhost:8080/"
        },
        "id": "4e2ZO_Dz8twR",
        "outputId": "22de9d44-6695-42da-9f83-ad61bb897d65"
      },
      "execution_count": 13,
      "outputs": [
        {
          "output_type": "stream",
          "name": "stdout",
          "text": [
            "Here's a breakdown of the similarities and differences between John's and Jane's CVs, along with an interpretation of the similarity score:\n",
            "\n",
            "**Similarities:**\n",
            "\n",
            "* **Core Skills:** Both John and Jane share Python as a common programming language skill. This suggests a foundational overlap in their technical abilities.\n",
            "* **Industry:** Both CVs point to experience in software development, indicating they work within the same industry.\n",
            "\n",
            "**Differences:**\n",
            "\n",
            "* **Experience Level:**  Jane has significantly more experience (5 years) compared to John's 2 years. This difference is typical in a mentor-mentee relationship.\n",
            "* **Specific Skills:** While they share Python, their other technical skills differ. Jane's CV highlights expertise in JavaScript, AWS, and Docker, which are more advanced and cloud-focused, while John's lists Java and SQL, suggesting a potentially stronger foundation in backend technologies.\n",
            "* **Education:** Jane holds a Master's degree, while John has a Bachelor's. This difference in academic qualifications aligns with their difference in experience levels.\n",
            "\n",
            "**Interpretation of the Similarity Score (0.34):**\n",
            "\n",
            "A similarity score of 0.34 (on a scale of 0 to 1, assuming\n"
          ]
        }
      ]
    },
    {
      "cell_type": "code",
      "source": [],
      "metadata": {
        "id": "BSalnEWs_nMR"
      },
      "execution_count": null,
      "outputs": []
    }
  ]
}
