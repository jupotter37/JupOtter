{
 "cells": [
  {
   "cell_type": "markdown",
   "metadata": {},
   "source": [
    "# Music Recommendation System\n",
    "\n",
    "This is a project for the Aplica- course.\n",
    "\n",
    "Year 2017, first period.\n",
    "\n",
    "Students:\n",
    "- Diego Vargas\n",
    "- Andre Pando\n",
    "- Ronie Arauco\n",
    "\n",
    "## Making familiar with the dataset"
   ]
  },
  {
   "cell_type": "code",
   "execution_count": 1,
   "metadata": {
    "collapsed": true
   },
   "outputs": [],
   "source": [
    "import numpy as np\n",
    "import pandas as pd\n",
    "import codecs\n",
    "# import matplotlib.pyplot as plt\n",
    "# %matplotlib inline\n",
    "\n",
    "artists = pd.read_table(\"./lastfm-data/artists.dat\", encoding = 'latin1')\n",
    "tags = pd.read_table(\"./lastfm-data/tags.dat\", encoding = 'latin1')\n",
    "user_artists = pd.read_table(\"./lastfm-data/user_artists.dat\", encoding = 'latin1')\n",
    "user_taggedartists = pd.read_table(\"./lastfm-data/user_taggedartists.dat\",encoding = 'latin1', usecols=['userID', 'artistID', 'tagID'])\n",
    "user_friends = pd.read_table(\"./lastfm-data/user_friends.dat\",encoding = 'latin1')\n",
    "\n",
    "\n",
    "# Information taken from\n",
    "#    Last.fm website, http://www.lastfm.com\n",
    "#\n",
    "#    @inproceedings{Cantador:RecSys2011,\n",
    "#       author = {Cantador, Iv\\'{a}n and Brusilovsky, Peter and Kuflik, Tsvi},\n",
    "#       title = {2nd Workshop on Information Heterogeneity and Fusion in Recommender Systems (HetRec 2011)},\n",
    "#       booktitle = {Proceedings of the 5th ACM conference on Recommender systems},\n",
    "#       series = {RecSys 2011},\n",
    "#       year = {2011},\n",
    "#       location = {Chicago, IL, USA},\n",
    "#       publisher = {ACM},\n",
    "#       address = {New York, NY, USA},\n",
    "#       keywords = {information heterogeneity, information integration, recommender systems},\n",
    "#    } "
   ]
  },
  {
   "cell_type": "code",
   "execution_count": null,
   "metadata": {
    "collapsed": true
   },
   "outputs": [],
   "source": [
    "# Contains information about the artists that has been listened and tagged\n",
    "# by the users\n",
    "# id \\t name \\t url \\t pictureURL\n",
    "artists.sample(3)"
   ]
  },
  {
   "cell_type": "code",
   "execution_count": null,
   "metadata": {
    "collapsed": true
   },
   "outputs": [],
   "source": [
    "# The tags available in the dataset\n",
    "# tagID \\t tagValue\n",
    "# tags.shape\n",
    "tags.sample(3)"
   ]
  },
  {
   "cell_type": "code",
   "execution_count": null,
   "metadata": {
    "collapsed": true
   },
   "outputs": [],
   "source": [
    "# Contains the artists listened by each user, providing also\n",
    "# the listening count for each [user, artist] pair\n",
    "# userID \\t artistID \\t weight\n",
    "# user_artists.shape\n",
    "user_artists.sample(3)\n",
    "#user_artists"
   ]
  },
  {
   "cell_type": "code",
   "execution_count": null,
   "metadata": {
    "collapsed": true
   },
   "outputs": [],
   "source": [
    "# Tag assignments of artists provided by each particular user\n",
    "# as well with the time of when was the tag assigned by the user\n",
    "# userID \\t artistID \\t tagID \\t day \\t month \\t year\n",
    "# user_taggedartists.shape\n",
    "user_taggedartists.sample(3)"
   ]
  },
  {
   "cell_type": "code",
   "execution_count": null,
   "metadata": {
    "collapsed": true
   },
   "outputs": [],
   "source": [
    "# Contains the friend relations between users in the database\n",
    "# userID \\t friendID\n",
    "# user_friends.shape\n",
    "user_friends.sample(3)"
   ]
  },
  {
   "cell_type": "markdown",
   "metadata": {},
   "source": [
    "Obj| shape \n",
    "--- | ---\n",
    "artists | (17632, 4)\n",
    "tags | (11946, 2)\n",
    "user_artists | (92834, 3)\n",
    "user_taggedartists | (186479, 6)\n",
    "user_friends | (25434, 2)"
   ]
  },
  {
   "cell_type": "code",
   "execution_count": null,
   "metadata": {
    "collapsed": true,
    "scrolled": false
   },
   "outputs": [],
   "source": [
    "# What is the artist with most and least listeners?\n",
    "\n",
    "# - Most listeners\n",
    "listeners_agg = user_artists[['artistID','userID']].groupby('artistID', sort=False).agg(['count'])\n",
    "print(\"artists with least followers\")\n",
    "print(listeners_agg['userID'].sort_values('count').head(3)) #-- least 9201\n",
    "print(\"--------------------\")\n",
    "print(\"artists with most followers\")\n",
    "print(listeners_agg['userID'].sort_values('count').tail(3)) #-- most 89\n",
    "\n",
    "# And how many plays do they make?\n",
    "listens_agg = user_artists[['artistID', 'weight']].groupby(['artistID']).agg(['sum'])\n",
    "print(\"--------------------\")\n",
    "print(\"Amount of plays for the artist with least followers\")\n",
    "print(listens_agg.filter(regex='^9201$',axis=0)) # -- least 139 plays\n",
    "print(\"--------------------\")\n",
    "print(\"Amount of plays for the artist with most followers\")\n",
    "print(listens_agg.filter(regex='^89$',axis=0)) # -- most 1291387 plays\n",
    "# What are the tags made by those users?\n",
    "\n",
    "\n",
    "\n",
    "# What is the artist with most and the least listen counts? \n",
    "# (the least can't be 0, according with the description of the artist dataset)\n",
    "print(\"artist with least plays\")\n",
    "print(listens_agg['weight'].sort_values('sum').head(3)) # -- least 14371\n",
    "print(\"--------------------\")\n",
    "print(\"artist with Most plays\")\n",
    "print(listens_agg['weight'].sort_values('sum').tail(3)) # -- most 2393140\n",
    "\n",
    "# and how many users makes those listen counts?\n",
    "print(\"--------------------\")\n",
    "print(\"Amount of users for the artist with least plays\")\n",
    "print(listeners_agg.filter(regex='^14371$',axis=0)) # -- artist with less \n",
    "print(\"--------------------\")\n",
    "print(\"Amount of users for the artist with most plays\")\n",
    "print(listeners_agg.filter(regex='^289$',axis=0)) # -- artist with moee\n",
    "\n",
    "# What is the most and the least used tag?\n",
    "# What is the most and the least tagged artists?\n",
    "# What is the user that tagges the most and tagges the least? "
   ]
  },
  {
   "cell_type": "markdown",
   "metadata": {},
   "source": [
    "### The problem\n",
    "The database doesn't contain any rating/rate column, rather a _weight_ for each artists by user which works as a _listen_ counter. That said, there's going to be artists that has a high amount of plays, but little users - and viceversa.\n",
    "\n",
    "So, for this solution, the amount of plays has to be converted to a relative along to the amount of users. \n",
    "\n",
    "The following graph shows how the data is being shown.\n",
    "\n",
    "![Graph](graph.png)\n",
    "\n",
    "One is using the **Content-Based Filtering**, since the data set we currently have is a set of users and a set of categories (keywords or tags). The similarity between the two will be the keywords extracted from the artists tags. Each user should have a degree of interest in certain tags, which can be retrieved using the most tagged item in the most frequent artists the user hears (See table 1). That said, we can only recommend artists to the already given set of users.\n",
    "\n",
    "\n",
    "| Tag  | $U_1$ | $U_2$ | $U_3$ | $U_x$ |\n",
    "|------|-----|-----|-----|-----|\n",
    "| $Tag_1$ |  3  |  2  |     |     |\n",
    "| $Tag_2$ |  5  |  3  |  3  |     |\n",
    "| $Tag_3$ |     |  3  |  5  |  4  |\n",
    "| $Tag_4$ |  1  |     |  5  |  4  |\n",
    "\n",
    "\n",
    "#### How to retrieve the Interest (Ideas)\n",
    "The interest can be retrieved from the following table (which belongs for one user):\n",
    "\n",
    "<table>\n",
    "    <thead>\n",
    "        <tr>\n",
    "            <th>Plays $P_i$</th>\n",
    "            <th>Artist $A_i$</th>\n",
    "            <th>Tag $T_j$</th>\n",
    "            <th>Weight $W_{ij}$</th>\n",
    "        </tr>\n",
    "    </thead>\n",
    "    <tbody>\n",
    "        <tr>\n",
    "             <td rowspan=\"2\">$P_1$</td>\n",
    "             <td rowspan=\"2\">$A_1$</td>\n",
    "             <td>$T_1$</td>\n",
    "             <td>$W_{11}$</td>\n",
    "        </tr>\n",
    "        <tr>\n",
    "             <td>$T_2$</td>\n",
    "             <td>$W_{12}$</td>\n",
    "        </tr>\n",
    "        <tr>\n",
    "             <td rowspan=\"2\">$P_2$</td>\n",
    "             <td rowspan=\"2\">$A_2$</td>\n",
    "             <td>$T_2$</td>\n",
    "             <td>$W_{22}$</td>\n",
    "        </tr>\n",
    "        <tr>\n",
    "             <td>$T_3$</td>\n",
    "             <td>$W_{23}$</td>\n",
    "        </tr>\n",
    "        <tr>\n",
    "             <td rowspan=\"4\">$P_3$</td>\n",
    "             <td rowspan=\"4\">$A_3$</td>\n",
    "             <td>$T_2$</td>\n",
    "             <td>$W_{32}$</td>\n",
    "        </tr>\n",
    "        <tr>\n",
    "             <td>$T_3$</td>\n",
    "             <td>$W_{33}$</td>\n",
    "        </tr>\n",
    "        <tr>\n",
    "             <td>$T_4$</td>\n",
    "             <td>$W_{34}$</td>\n",
    "        </tr>\n",
    "        <tr>\n",
    "             <td>$T_5$</td>\n",
    "             <td>$W_{35}$</td>\n",
    "        </tr>\n",
    "        \n",
    "    </tbody>\n",
    "</table>\n",
    "\n",
    "Being $P_i$ the amount of times the user has played the artist $A_i$ (found as _weight_); $W_i$ the amount of users that has tagged the artist $A_i$ with the tag $T_j$.\n",
    "\n",
    "From the table we now an Artist has been listened: \n",
    "\n",
    "$$listenShare_i = \\frac{P_i}{\\sum_{i = 1}^{N}P_i}$$\n",
    "\n",
    "And for the tag\n",
    "\n",
    "$$tagShare_j = \\sum_{i = 1}^{N}\\frac{W_{ij}*listenShare_i}{\\sum_{z=1}^{M}W_{iz}}$$\n",
    "\n",
    "We can then, retrieve the interest from 0 to 5, capping the result of the $tagShare_j$ asigning 5 to the maximum value $max(tagShare_j)$. $N$ is the number of artist, $M$ is the number of tags\n",
    "\n",
    "As an example, say we have the following data for the user $U_x$\n",
    "\n",
    "<table>\n",
    "    <thead>\n",
    "        <tr>\n",
    "            <th>Plays $P_i$</th>\n",
    "            <th>Artist $A_i$</th>\n",
    "            <th>Tag $T_j$</th>\n",
    "            <th>Weight $W_{ij}$</th>\n",
    "        </tr>\n",
    "    </thead>\n",
    "    <tbody>\n",
    "        <tr>\n",
    "             <td rowspan=\"2\">$150$</td>\n",
    "             <td rowspan=\"2\">$A_1$</td>\n",
    "             <td>$T_1$</td>\n",
    "             <td>$30$</td>\n",
    "        </tr>\n",
    "        <tr>\n",
    "             <td>$T_2$</td>\n",
    "             <td>$15$</td>\n",
    "        </tr>\n",
    "        <tr>\n",
    "             <td rowspan=\"2\">$45$</td>\n",
    "             <td rowspan=\"2\">$A_2$</td>\n",
    "             <td>$T_2$</td>\n",
    "             <td>$13$</td>\n",
    "        </tr>\n",
    "        <tr>\n",
    "             <td>$T_3$</td>\n",
    "             <td>$7$</td>\n",
    "        </tr>\n",
    "        <tr>\n",
    "             <td rowspan=\"4\">$15$</td>\n",
    "             <td rowspan=\"4\">$A_3$</td>\n",
    "             <td>$T_2$</td>\n",
    "             <td>$45$</td>\n",
    "        </tr>\n",
    "        <tr>\n",
    "             <td>$T_3$</td>\n",
    "             <td>$15$</td>\n",
    "        </tr>\n",
    "        <tr>\n",
    "             <td>$T_4$</td>\n",
    "             <td>$16$</td>\n",
    "        </tr>\n",
    "        <tr>\n",
    "             <td>$T_5$</td>\n",
    "             <td>$6$</td>\n",
    "        </tr>\n",
    "        \n",
    "    </tbody>\n",
    "</table>\n",
    "\n",
    "\n",
    "Using the formula $tagShare$ we can get the interest on the user $U_x$ on the tags:\n",
    "\n",
    "| Tag | $tagShare$ | Interest |\n",
    "| -- | -- | -- |\n",
    "| $T_1$ | $0.476$ | $5.000$ |\n",
    "| $T_2$ | $0.417$ | $4.374$ |\n",
    "| $T_3$ | $0.088$ | $0.925$ |\n",
    "| $T_4$ | $0.014$ | $0.146$ |\n",
    "| $T_5$ | $0.005$ | $0.055$ |"
   ]
  },
  {
   "cell_type": "markdown",
   "metadata": {
    "collapsed": true
   },
   "source": [
    "     \n",
    "We are given an user (Ux), their interests represented by tags (T1, T2, ..., Tn) and their relevances represented in a range of values from 0 to 5. Also, we are given artists (A1, A2, ..., An) which are represented by tags given by the users. Then, we should do the next:\n",
    "\n",
    "1. Given an user (U1), calculate the intrinsic interest asociated by their tags.\n",
    "2. Make a weighing for each artist among top 3 tags of the user U1 which are included in the artist A1, such that the total of tags associated to the artist A1 are the unit, and the results of tags 1, 2, 3 represent, for instance, 40% of total.\\n\",\n",
    "3. Finally, it will recommend the artist which weighing of the 3 main tags of the user is the highest of the data set.\n",
    "\"P.D.: Had it depleted the data set of artist and ponderation has not been sufficiently higher (that 40% it has not reached the minimum required to suggest, let say 50%) it will proceed to suggest the artist which tags are tightly related with top 3 of user tags.\n",
    "\n",
    "How it would calculate this?\n",
    "With cosine similarity or with the Pearson Correlation. It will find, for example, similarity among tag 1 and  tag 2. If both are tightly related, tag 1 will be in tags top 3 but not in top tags 2, and if the above is true, it will recommend the artist which have tag 2 following step 2 and 3."
   ]
  },
  {
   "cell_type": "code",
   "execution_count": 2,
   "metadata": {
    "collapsed": true
   },
   "outputs": [],
   "source": [
    "tagsXArtist = {}\n",
    "for index, row in artists.iterrows():\n",
    "    idArt = row['id']\n",
    "    #print (idArt)\n",
    "    cad = '' + str(idArt)\n",
    "    tagsXArtist[cad] = []\n",
    "    auxQuery = 'artistID == ' + str(idArt)\n",
    "    iterable = user_taggedartists.query(auxQuery)\n",
    "    for index2, row2 in iterable.iterrows():\n",
    "        tagsXArtist[cad].append(row2['tagID'])"
   ]
  },
  {
   "cell_type": "code",
   "execution_count": 3,
   "metadata": {},
   "outputs": [
    {
     "name": "stdout",
     "output_type": "stream",
     "text": [
      "[(139, 5), (141, 3), (179, 2), (541, 2), (552, 1)]\n"
     ]
    }
   ],
   "source": [
    "#Ahora procederé a transformas el tagsXArtist a una tupla, cuyo primer parametro sera el tag y el segundo\n",
    "#la ocurrencia\n",
    "import collections\n",
    "counter = collections.Counter(tagsXArtist['1'])\n",
    "print(counter.most_common(5))\n",
    "newList = counter.most_common(5)\n",
    "#De esta forma accedes al idTag newList[0][0], y de esta newList[0][1] a su frecuencia. con len(tagsXArtist['289'])\n",
    "#sacas el total de tags en la lista\n",
    "frecTagsXArtist = {}\n",
    "for key, value in tagsXArtist.items():\n",
    "    newkey = '' + str(key)\n",
    "    counter = collections.Counter(value)\n",
    "    frecTagsXArtist[int(newkey)] = counter.most_common(5)"
   ]
  },
  {
   "cell_type": "code",
   "execution_count": 4,
   "metadata": {
    "collapsed": true
   },
   "outputs": [],
   "source": [
    "def tag_share(user_artist_plays, all_artist_tags):\n",
    "    tagshare = []\n",
    "    \n",
    "    artists = []\n",
    "    total_weight = 0\n",
    "    for index, row in user_artist_plays.iterrows():\n",
    "        artistID = row['artistID']\n",
    "        weight = row['weight']\n",
    "        total_weight += weight\n",
    "        artists.append((artistID, weight))\n",
    "    #print(\"total artist:\", len(artists))\n",
    "    #even_total = 0\n",
    "    tag_sum = {}\n",
    "    for artistID, weight in artists:\n",
    "        artist_tags = all_artist_tags[artistID]\n",
    "        total_tag_weight = 0\n",
    "        listen_share = weight/total_weight\n",
    "        # find the total tag weight for each artist\n",
    "        for tagid, weight in artist_tags:\n",
    "            total_tag_weight += weight\n",
    "\n",
    "        # get the sum of tags\n",
    "        #total_keys = 0\n",
    "        for tagid, weight in artist_tags:\n",
    "            if tagid not in tag_sum.keys():\n",
    "                tag_sum[tagid] = weight*listen_share/total_tag_weight\n",
    "                #total_keys += 1\n",
    "            else:\n",
    "                tag_sum[tagid] += weight*listen_share/total_tag_weight\n",
    "        #print(artistID, total_keys)\n",
    "        #even_total += total_keys\n",
    "    #print(even_total)\n",
    "    \n",
    "    tagshare = {}\n",
    "    max_weight = max(tag_sum.values())\n",
    "    ratio = 5/max_weight\n",
    "    for i,x in tag_sum.items():\n",
    "        #tagshare[i] = int(x*ratio)\n",
    "        tagshare[i] = x*ratio\n",
    "    \n",
    "    return tagshare\n",
    "        "
   ]
  },
  {
   "cell_type": "code",
   "execution_count": 5,
   "metadata": {
    "collapsed": true
   },
   "outputs": [],
   "source": [
    "from sklearn.feature_extraction import DictVectorizer\n",
    "import operator \n",
    "\n",
    "vec = DictVectorizer()\n",
    "K = 30\n",
    "users_tag_interest = {}\n",
    "users_tag_interest_novec = {}\n",
    "for index, row in user_artists.iterrows():\n",
    "    userid = row['userID']\n",
    "    if int(userid) not in users_tag_interest.keys():\n",
    "        query = 'userID==' + str(userid)\n",
    "        tagdata = user_artists.query(query)\n",
    "        \n",
    "        v = tag_share(tagdata, frecTagsXArtist)\n",
    "        sorted_v = sorted(v.items(), key=operator.itemgetter(1), reverse=True)\n",
    "        sorted_dic = {}\n",
    "        i = 0\n",
    "        for tid, x in sorted_v:\n",
    "            if i == 5: break\n",
    "            sorted_dic[tid] = x\n",
    "            i += 1\n",
    "        users_tag_interest_novec[int(userid)] = sorted_dic\n",
    "        users_tag_interest[int(userid)] = vec.fit_transform(sorted_dic)"
   ]
  },
  {
   "cell_type": "code",
   "execution_count": 41,
   "metadata": {
    "collapsed": true
   },
   "outputs": [],
   "source": [
    "from scipy.spatial.distance import cosine as cos\n",
    "import numpy as np\n",
    "def cosine(s1, s2):\n",
    "    s1 = np.nan_to_num(s1)\n",
    "    s2 = np.nan_to_num(s2)\n",
    "    return 1 - cos(s1, s2)"
   ]
  },
  {
   "cell_type": "code",
   "execution_count": 6,
   "metadata": {
    "collapsed": true
   },
   "outputs": [],
   "source": [
    "def pearson(s1, s2):\n",
    "    #take two pd.Series objects and return a perarson correlation \n",
    "    s1_c = s1 - s1.mean()\n",
    "    s2_c = s2 - s2.mean()\n",
    "    return np.sum(s1_c * s2_c) / np.sqrt(np.sum(s1_c ** 2) * np.sum(s2_c ** 2)) "
   ]
  },
  {
   "cell_type": "code",
   "execution_count": 27,
   "metadata": {
    "collapsed": true
   },
   "outputs": [],
   "source": [
    "def get_recs(artist_id, M, num, f=pearson):\n",
    "    review = []\n",
    "    for tit in M.columns:\n",
    "        title = int(tit)\n",
    "        if (title == artist_id):\n",
    "            continue\n",
    "        cor = f(M[artist_id], M[title])\n",
    "        if np.isnan(cor):\n",
    "            continue\n",
    "        else:\n",
    "            review.append((title, cor))\n",
    "    review.sort(key = lambda tup: tup[1], reverse = True)\n",
    "    return review[:num]"
   ]
  },
  {
   "cell_type": "code",
   "execution_count": 8,
   "metadata": {
    "collapsed": true
   },
   "outputs": [],
   "source": [
    "# get correlations between artists given users\n",
    "pM = user_artists.pivot_table(index = ['userID'], columns = ['artistID'], values = 'weight')"
   ]
  },
  {
   "cell_type": "code",
   "execution_count": 9,
   "metadata": {
    "collapsed": true
   },
   "outputs": [],
   "source": [
    "# get correlations between artists given tags\n",
    "pM1 = user_taggedartists.pivot_table(index = ['tagID'], columns = ['artistID'], aggfunc = 'count')"
   ]
  },
  {
   "cell_type": "code",
   "execution_count": 10,
   "metadata": {
    "collapsed": true
   },
   "outputs": [],
   "source": [
    "# Normalizamos\n",
    "y = {}\n",
    "for x in pM:\n",
    "    z = pM[x]\n",
    "    y[x] = []\n",
    "    ratio = 5/z.max()\n",
    "    for i in z:\n",
    "        y[x].append(i*ratio)\n",
    "M = pd.DataFrame.from_dict(y)\n",
    "\n",
    "y = None\n",
    "pM = None\n"
   ]
  },
  {
   "cell_type": "code",
   "execution_count": 11,
   "metadata": {
    "collapsed": true
   },
   "outputs": [],
   "source": [
    "y = {}\n",
    "for x  in pM1['userID']:\n",
    "    z = pM1['userID'][x]\n",
    "    y[x] = []\n",
    "    ratio = 5/z.max()\n",
    "    for i in z:\n",
    "        y[x].append(i*ratio)\n",
    "M1 = pd.DataFrame.from_dict(y)\n",
    "\n",
    "y = None\n",
    "pM1 = None"
   ]
  },
  {
   "cell_type": "markdown",
   "metadata": {},
   "source": [
    "### Using artists' tags"
   ]
  },
  {
   "cell_type": "code",
   "execution_count": 12,
   "metadata": {},
   "outputs": [
    {
     "data": {
      "text/html": [
       "<div>\n",
       "<table border=\"1\" class=\"dataframe\">\n",
       "  <thead>\n",
       "    <tr style=\"text-align: right;\">\n",
       "      <th></th>\n",
       "      <th>id</th>\n",
       "      <th>name</th>\n",
       "      <th>url</th>\n",
       "      <th>pictureURL</th>\n",
       "    </tr>\n",
       "  </thead>\n",
       "  <tbody>\n",
       "    <tr>\n",
       "      <th>148</th>\n",
       "      <td>154</td>\n",
       "      <td>Radiohead</td>\n",
       "      <td>http://www.last.fm/music/Radiohead</td>\n",
       "      <td>http://userserve-ak.last.fm/serve/252/8461967.jpg</td>\n",
       "    </tr>\n",
       "  </tbody>\n",
       "</table>\n",
       "</div>"
      ],
      "text/plain": [
       "      id       name                                 url  \\\n",
       "148  154  Radiohead  http://www.last.fm/music/Radiohead   \n",
       "\n",
       "                                            pictureURL  \n",
       "148  http://userserve-ak.last.fm/serve/252/8461967.jpg  "
      ]
     },
     "execution_count": 12,
     "metadata": {},
     "output_type": "execute_result"
    }
   ],
   "source": [
    "artists.query('name == \"Radiohead\"')"
   ]
  },
  {
   "cell_type": "code",
   "execution_count": 13,
   "metadata": {},
   "outputs": [
    {
     "data": {
      "text/html": [
       "<div>\n",
       "<table border=\"1\" class=\"dataframe\">\n",
       "  <thead>\n",
       "    <tr style=\"text-align: right;\">\n",
       "      <th></th>\n",
       "      <th>1</th>\n",
       "      <th>2</th>\n",
       "      <th>3</th>\n",
       "      <th>4</th>\n",
       "      <th>5</th>\n",
       "      <th>6</th>\n",
       "      <th>7</th>\n",
       "      <th>8</th>\n",
       "      <th>9</th>\n",
       "      <th>10</th>\n",
       "      <th>...</th>\n",
       "      <th>18736</th>\n",
       "      <th>18737</th>\n",
       "      <th>18738</th>\n",
       "      <th>18739</th>\n",
       "      <th>18740</th>\n",
       "      <th>18741</th>\n",
       "      <th>18742</th>\n",
       "      <th>18743</th>\n",
       "      <th>18744</th>\n",
       "      <th>18745</th>\n",
       "    </tr>\n",
       "  </thead>\n",
       "  <tbody>\n",
       "    <tr>\n",
       "      <th>43</th>\n",
       "      <td>NaN</td>\n",
       "      <td>NaN</td>\n",
       "      <td>NaN</td>\n",
       "      <td>NaN</td>\n",
       "      <td>NaN</td>\n",
       "      <td>NaN</td>\n",
       "      <td>NaN</td>\n",
       "      <td>NaN</td>\n",
       "      <td>NaN</td>\n",
       "      <td>NaN</td>\n",
       "      <td>...</td>\n",
       "      <td>NaN</td>\n",
       "      <td>NaN</td>\n",
       "      <td>NaN</td>\n",
       "      <td>NaN</td>\n",
       "      <td>NaN</td>\n",
       "      <td>NaN</td>\n",
       "      <td>NaN</td>\n",
       "      <td>NaN</td>\n",
       "      <td>NaN</td>\n",
       "      <td>NaN</td>\n",
       "    </tr>\n",
       "    <tr>\n",
       "      <th>897</th>\n",
       "      <td>NaN</td>\n",
       "      <td>NaN</td>\n",
       "      <td>NaN</td>\n",
       "      <td>NaN</td>\n",
       "      <td>NaN</td>\n",
       "      <td>NaN</td>\n",
       "      <td>NaN</td>\n",
       "      <td>NaN</td>\n",
       "      <td>NaN</td>\n",
       "      <td>NaN</td>\n",
       "      <td>...</td>\n",
       "      <td>NaN</td>\n",
       "      <td>NaN</td>\n",
       "      <td>NaN</td>\n",
       "      <td>NaN</td>\n",
       "      <td>NaN</td>\n",
       "      <td>NaN</td>\n",
       "      <td>NaN</td>\n",
       "      <td>NaN</td>\n",
       "      <td>NaN</td>\n",
       "      <td>NaN</td>\n",
       "    </tr>\n",
       "    <tr>\n",
       "      <th>1042</th>\n",
       "      <td>NaN</td>\n",
       "      <td>NaN</td>\n",
       "      <td>NaN</td>\n",
       "      <td>NaN</td>\n",
       "      <td>NaN</td>\n",
       "      <td>NaN</td>\n",
       "      <td>NaN</td>\n",
       "      <td>NaN</td>\n",
       "      <td>NaN</td>\n",
       "      <td>NaN</td>\n",
       "      <td>...</td>\n",
       "      <td>NaN</td>\n",
       "      <td>NaN</td>\n",
       "      <td>NaN</td>\n",
       "      <td>NaN</td>\n",
       "      <td>NaN</td>\n",
       "      <td>NaN</td>\n",
       "      <td>NaN</td>\n",
       "      <td>NaN</td>\n",
       "      <td>NaN</td>\n",
       "      <td>NaN</td>\n",
       "    </tr>\n",
       "  </tbody>\n",
       "</table>\n",
       "<p>3 rows × 17632 columns</p>\n",
       "</div>"
      ],
      "text/plain": [
       "      1      2      3      4      5      6      7      8      9      10     \\\n",
       "43      NaN    NaN    NaN    NaN    NaN    NaN    NaN    NaN    NaN    NaN   \n",
       "897     NaN    NaN    NaN    NaN    NaN    NaN    NaN    NaN    NaN    NaN   \n",
       "1042    NaN    NaN    NaN    NaN    NaN    NaN    NaN    NaN    NaN    NaN   \n",
       "\n",
       "      ...    18736  18737  18738  18739  18740  18741  18742  18743  18744  \\\n",
       "43    ...      NaN    NaN    NaN    NaN    NaN    NaN    NaN    NaN    NaN   \n",
       "897   ...      NaN    NaN    NaN    NaN    NaN    NaN    NaN    NaN    NaN   \n",
       "1042  ...      NaN    NaN    NaN    NaN    NaN    NaN    NaN    NaN    NaN   \n",
       "\n",
       "      18745  \n",
       "43      NaN  \n",
       "897     NaN  \n",
       "1042    NaN  \n",
       "\n",
       "[3 rows x 17632 columns]"
      ]
     },
     "execution_count": 13,
     "metadata": {},
     "output_type": "execute_result"
    }
   ],
   "source": [
    "M.sample(3)"
   ]
  },
  {
   "cell_type": "code",
   "execution_count": 42,
   "metadata": {},
   "outputs": [],
   "source": [
    "recs_cosine = get_recs(154, M, 10, cosine)"
   ]
  },
  {
   "cell_type": "code",
   "execution_count": 43,
   "metadata": {},
   "outputs": [
    {
     "name": "stdout",
     "output_type": "stream",
     "text": [
      "231    Thom Yorke\n",
      "Name: name, dtype: object 0.556959444543\n",
      "850    Pixies\n",
      "Name: name, dtype: object 0.436143766665\n",
      "5656    Buffy the Vampire Slayer\n",
      "Name: name, dtype: object 0.432447427387\n",
      "15795    Stereo MC's\n",
      "Name: name, dtype: object 0.40102188014\n",
      "15794    Laurent Garnier\n",
      "Name: name, dtype: object 0.394170796892\n",
      "5236    Vibrasphere\n",
      "Name: name, dtype: object 0.391843553238\n",
      "211    Death Cab for Cutie\n",
      "Name: name, dtype: object 0.391493852705\n",
      "6167    Saves the Day\n",
      "Name: name, dtype: object 0.383218185105\n",
      "4613    2 Many DJ's\n",
      "Name: name, dtype: object 0.383110741624\n",
      "613    A Tribe Called Quest\n",
      "Name: name, dtype: object 0.354358682201\n"
     ]
    }
   ],
   "source": [
    "for aid, corr  in recs_cosine[:10]:\n",
    "    print(artists.query('id == ' + str(aid))['name'], corr)"
   ]
  },
  {
   "cell_type": "code",
   "execution_count": 28,
   "metadata": {},
   "outputs": [
    {
     "name": "stderr",
     "output_type": "stream",
     "text": [
      "/usr/lib/python3.6/site-packages/ipykernel/__main__.py:5: RuntimeWarning: invalid value encountered in double_scalars\n"
     ]
    }
   ],
   "source": [
    "# Usando a los usuarios\n",
    "recs = get_recs(154, M, 10)"
   ]
  },
  {
   "cell_type": "code",
   "execution_count": 29,
   "metadata": {
    "scrolled": true
   },
   "outputs": [
    {
     "name": "stdout",
     "output_type": "stream",
     "text": [
      "850    Pixies\n",
      "Name: name, dtype: object 0.451411847745\n",
      "5656    Buffy the Vampire Slayer\n",
      "Name: name, dtype: object 0.418140600067\n",
      "231    Thom Yorke\n",
      "Name: name, dtype: object 0.416842468234\n",
      "6167    Saves the Day\n",
      "Name: name, dtype: object 0.400121421881\n",
      "5236    Vibrasphere\n",
      "Name: name, dtype: object 0.384463456348\n",
      "613    A Tribe Called Quest\n",
      "Name: name, dtype: object 0.382826116835\n",
      "4613    2 Many DJ's\n",
      "Name: name, dtype: object 0.376340437614\n",
      "211    Death Cab for Cutie\n",
      "Name: name, dtype: object 0.344340926194\n",
      "15794    Laurent Garnier\n",
      "Name: name, dtype: object 0.319337230193\n",
      "205    The Decemberists\n",
      "Name: name, dtype: object 0.318860962842\n"
     ]
    }
   ],
   "source": [
    "for aid, corr  in recs[:10]:\n",
    "    print(artists.query('id == ' + str(aid))['name'], corr)"
   ]
  },
  {
   "cell_type": "code",
   "execution_count": 14,
   "metadata": {},
   "outputs": [
    {
     "data": {
      "text/html": [
       "<div>\n",
       "<table border=\"1\" class=\"dataframe\">\n",
       "  <thead>\n",
       "    <tr style=\"text-align: right;\">\n",
       "      <th></th>\n",
       "      <th>1</th>\n",
       "      <th>2</th>\n",
       "      <th>3</th>\n",
       "      <th>4</th>\n",
       "      <th>5</th>\n",
       "      <th>6</th>\n",
       "      <th>7</th>\n",
       "      <th>8</th>\n",
       "      <th>9</th>\n",
       "      <th>10</th>\n",
       "      <th>...</th>\n",
       "      <th>18724</th>\n",
       "      <th>18732</th>\n",
       "      <th>18734</th>\n",
       "      <th>18735</th>\n",
       "      <th>18736</th>\n",
       "      <th>18737</th>\n",
       "      <th>18739</th>\n",
       "      <th>18740</th>\n",
       "      <th>18741</th>\n",
       "      <th>18744</th>\n",
       "    </tr>\n",
       "  </thead>\n",
       "  <tbody>\n",
       "    <tr>\n",
       "      <th>7225</th>\n",
       "      <td>NaN</td>\n",
       "      <td>NaN</td>\n",
       "      <td>NaN</td>\n",
       "      <td>NaN</td>\n",
       "      <td>NaN</td>\n",
       "      <td>NaN</td>\n",
       "      <td>NaN</td>\n",
       "      <td>NaN</td>\n",
       "      <td>NaN</td>\n",
       "      <td>NaN</td>\n",
       "      <td>...</td>\n",
       "      <td>NaN</td>\n",
       "      <td>NaN</td>\n",
       "      <td>NaN</td>\n",
       "      <td>NaN</td>\n",
       "      <td>NaN</td>\n",
       "      <td>NaN</td>\n",
       "      <td>NaN</td>\n",
       "      <td>NaN</td>\n",
       "      <td>NaN</td>\n",
       "      <td>NaN</td>\n",
       "    </tr>\n",
       "    <tr>\n",
       "      <th>1456</th>\n",
       "      <td>NaN</td>\n",
       "      <td>NaN</td>\n",
       "      <td>NaN</td>\n",
       "      <td>NaN</td>\n",
       "      <td>NaN</td>\n",
       "      <td>NaN</td>\n",
       "      <td>NaN</td>\n",
       "      <td>NaN</td>\n",
       "      <td>NaN</td>\n",
       "      <td>NaN</td>\n",
       "      <td>...</td>\n",
       "      <td>NaN</td>\n",
       "      <td>NaN</td>\n",
       "      <td>NaN</td>\n",
       "      <td>NaN</td>\n",
       "      <td>NaN</td>\n",
       "      <td>NaN</td>\n",
       "      <td>NaN</td>\n",
       "      <td>NaN</td>\n",
       "      <td>NaN</td>\n",
       "      <td>NaN</td>\n",
       "    </tr>\n",
       "    <tr>\n",
       "      <th>5546</th>\n",
       "      <td>NaN</td>\n",
       "      <td>NaN</td>\n",
       "      <td>NaN</td>\n",
       "      <td>NaN</td>\n",
       "      <td>NaN</td>\n",
       "      <td>NaN</td>\n",
       "      <td>NaN</td>\n",
       "      <td>NaN</td>\n",
       "      <td>NaN</td>\n",
       "      <td>NaN</td>\n",
       "      <td>...</td>\n",
       "      <td>NaN</td>\n",
       "      <td>NaN</td>\n",
       "      <td>NaN</td>\n",
       "      <td>NaN</td>\n",
       "      <td>NaN</td>\n",
       "      <td>NaN</td>\n",
       "      <td>NaN</td>\n",
       "      <td>NaN</td>\n",
       "      <td>NaN</td>\n",
       "      <td>NaN</td>\n",
       "    </tr>\n",
       "  </tbody>\n",
       "</table>\n",
       "<p>3 rows × 12523 columns</p>\n",
       "</div>"
      ],
      "text/plain": [
       "      1      2      3      4      5      6      7      8      9      10     \\\n",
       "7225    NaN    NaN    NaN    NaN    NaN    NaN    NaN    NaN    NaN    NaN   \n",
       "1456    NaN    NaN    NaN    NaN    NaN    NaN    NaN    NaN    NaN    NaN   \n",
       "5546    NaN    NaN    NaN    NaN    NaN    NaN    NaN    NaN    NaN    NaN   \n",
       "\n",
       "      ...    18724  18732  18734  18735  18736  18737  18739  18740  18741  \\\n",
       "7225  ...      NaN    NaN    NaN    NaN    NaN    NaN    NaN    NaN    NaN   \n",
       "1456  ...      NaN    NaN    NaN    NaN    NaN    NaN    NaN    NaN    NaN   \n",
       "5546  ...      NaN    NaN    NaN    NaN    NaN    NaN    NaN    NaN    NaN   \n",
       "\n",
       "      18744  \n",
       "7225    NaN  \n",
       "1456    NaN  \n",
       "5546    NaN  \n",
       "\n",
       "[3 rows x 12523 columns]"
      ]
     },
     "execution_count": 14,
     "metadata": {},
     "output_type": "execute_result"
    }
   ],
   "source": [
    "M1.sample(3)"
   ]
  },
  {
   "cell_type": "code",
   "execution_count": 44,
   "metadata": {
    "collapsed": true
   },
   "outputs": [],
   "source": [
    "recs2_cosine = get_recs(154, M1, 10, cosine)"
   ]
  },
  {
   "cell_type": "code",
   "execution_count": 45,
   "metadata": {},
   "outputs": [
    {
     "name": "stdout",
     "output_type": "stream",
     "text": [
      "167    Placebo\n",
      "Name: name, dtype: object 0.911509677531\n",
      "184    Muse\n",
      "Name: name, dtype: object 0.885113499491\n",
      "59    Coldplay\n",
      "Name: name, dtype: object 0.87869052822\n",
      "1230    Weezer\n",
      "Name: name, dtype: object 0.839739930028\n",
      "200    Beck\n",
      "Name: name, dtype: object 0.832150205922\n",
      "1461    Lifehouse\n",
      "Name: name, dtype: object 0.830713459715\n",
      "960    Kasabian\n",
      "Name: name, dtype: object 0.828507045567\n",
      "1366    Snow Patrol\n",
      "Name: name, dtype: object 0.827678675225\n",
      "1371    Blue October\n",
      "Name: name, dtype: object 0.82686087133\n",
      "223    The Killers\n",
      "Name: name, dtype: object 0.825055373386\n"
     ]
    }
   ],
   "source": [
    "for aid, corr  in recs2_cosine[:10]:\n",
    "    print(artists.query('id == ' + str(aid))['name'], corr)"
   ]
  },
  {
   "cell_type": "code",
   "execution_count": 17,
   "metadata": {},
   "outputs": [
    {
     "name": "stderr",
     "output_type": "stream",
     "text": [
      "/usr/lib/python3.6/site-packages/ipykernel/__main__.py:5: RuntimeWarning: invalid value encountered in double_scalars\n"
     ]
    }
   ],
   "source": [
    "# Usando los tags\n",
    "recs2 = get_recs(154, M1, 10)"
   ]
  },
  {
   "cell_type": "code",
   "execution_count": 18,
   "metadata": {
    "scrolled": true
   },
   "outputs": [
    {
     "name": "stdout",
     "output_type": "stream",
     "text": [
      "167    Placebo\n",
      "Name: name, dtype: object 0.862249130145\n",
      "184    Muse\n",
      "Name: name, dtype: object 0.840094065558\n",
      "59    Coldplay\n",
      "Name: name, dtype: object 0.832750596664\n",
      "1461    Lifehouse\n",
      "Name: name, dtype: object 0.821615879583\n",
      "1230    Weezer\n",
      "Name: name, dtype: object 0.791971563078\n",
      "200    Beck\n",
      "Name: name, dtype: object 0.785395075126\n",
      "850    Pixies\n",
      "Name: name, dtype: object 0.78477199244\n",
      "185    OneRepublic\n",
      "Name: name, dtype: object 0.775699872911\n",
      "223    The Killers\n",
      "Name: name, dtype: object 0.773118014989\n",
      "1368    The Fray\n",
      "Name: name, dtype: object 0.768632219755\n"
     ]
    }
   ],
   "source": [
    "for aid, corr  in recs2[:10]:\n",
    "    print(artists.query('id == ' + str(aid))['name'], corr)"
   ]
  },
  {
   "cell_type": "markdown",
   "metadata": {},
   "source": [
    "### Using user's interests"
   ]
  },
  {
   "cell_type": "code",
   "execution_count": 19,
   "metadata": {},
   "outputs": [
    {
     "data": {
      "text/html": [
       "<div>\n",
       "<table border=\"1\" class=\"dataframe\">\n",
       "  <thead>\n",
       "    <tr style=\"text-align: right;\">\n",
       "      <th></th>\n",
       "      <th>2</th>\n",
       "      <th>3</th>\n",
       "      <th>4</th>\n",
       "      <th>5</th>\n",
       "      <th>6</th>\n",
       "      <th>7</th>\n",
       "      <th>8</th>\n",
       "      <th>9</th>\n",
       "      <th>10</th>\n",
       "      <th>11</th>\n",
       "      <th>...</th>\n",
       "      <th>2090</th>\n",
       "      <th>2091</th>\n",
       "      <th>2092</th>\n",
       "      <th>2093</th>\n",
       "      <th>2094</th>\n",
       "      <th>2095</th>\n",
       "      <th>2096</th>\n",
       "      <th>2097</th>\n",
       "      <th>2099</th>\n",
       "      <th>2100</th>\n",
       "    </tr>\n",
       "  </thead>\n",
       "  <tbody>\n",
       "    <tr>\n",
       "      <th>2503</th>\n",
       "      <td>NaN</td>\n",
       "      <td>NaN</td>\n",
       "      <td>NaN</td>\n",
       "      <td>NaN</td>\n",
       "      <td>NaN</td>\n",
       "      <td>NaN</td>\n",
       "      <td>NaN</td>\n",
       "      <td>NaN</td>\n",
       "      <td>NaN</td>\n",
       "      <td>NaN</td>\n",
       "      <td>...</td>\n",
       "      <td>NaN</td>\n",
       "      <td>NaN</td>\n",
       "      <td>NaN</td>\n",
       "      <td>NaN</td>\n",
       "      <td>NaN</td>\n",
       "      <td>NaN</td>\n",
       "      <td>NaN</td>\n",
       "      <td>NaN</td>\n",
       "      <td>NaN</td>\n",
       "      <td>NaN</td>\n",
       "    </tr>\n",
       "    <tr>\n",
       "      <th>445</th>\n",
       "      <td>NaN</td>\n",
       "      <td>NaN</td>\n",
       "      <td>NaN</td>\n",
       "      <td>NaN</td>\n",
       "      <td>NaN</td>\n",
       "      <td>NaN</td>\n",
       "      <td>NaN</td>\n",
       "      <td>NaN</td>\n",
       "      <td>NaN</td>\n",
       "      <td>NaN</td>\n",
       "      <td>...</td>\n",
       "      <td>NaN</td>\n",
       "      <td>NaN</td>\n",
       "      <td>NaN</td>\n",
       "      <td>NaN</td>\n",
       "      <td>NaN</td>\n",
       "      <td>NaN</td>\n",
       "      <td>NaN</td>\n",
       "      <td>NaN</td>\n",
       "      <td>NaN</td>\n",
       "      <td>NaN</td>\n",
       "    </tr>\n",
       "    <tr>\n",
       "      <th>550</th>\n",
       "      <td>NaN</td>\n",
       "      <td>NaN</td>\n",
       "      <td>NaN</td>\n",
       "      <td>NaN</td>\n",
       "      <td>NaN</td>\n",
       "      <td>NaN</td>\n",
       "      <td>NaN</td>\n",
       "      <td>NaN</td>\n",
       "      <td>NaN</td>\n",
       "      <td>NaN</td>\n",
       "      <td>...</td>\n",
       "      <td>NaN</td>\n",
       "      <td>NaN</td>\n",
       "      <td>NaN</td>\n",
       "      <td>NaN</td>\n",
       "      <td>NaN</td>\n",
       "      <td>NaN</td>\n",
       "      <td>NaN</td>\n",
       "      <td>NaN</td>\n",
       "      <td>NaN</td>\n",
       "      <td>NaN</td>\n",
       "    </tr>\n",
       "  </tbody>\n",
       "</table>\n",
       "<p>3 rows × 1892 columns</p>\n",
       "</div>"
      ],
      "text/plain": [
       "      2     3     4     5     6     7     8     9     10    11    ...   2090  \\\n",
       "2503   NaN   NaN   NaN   NaN   NaN   NaN   NaN   NaN   NaN   NaN  ...    NaN   \n",
       "445    NaN   NaN   NaN   NaN   NaN   NaN   NaN   NaN   NaN   NaN  ...    NaN   \n",
       "550    NaN   NaN   NaN   NaN   NaN   NaN   NaN   NaN   NaN   NaN  ...    NaN   \n",
       "\n",
       "      2091  2092  2093  2094  2095  2096  2097  2099  2100  \n",
       "2503   NaN   NaN   NaN   NaN   NaN   NaN   NaN   NaN   NaN  \n",
       "445    NaN   NaN   NaN   NaN   NaN   NaN   NaN   NaN   NaN  \n",
       "550    NaN   NaN   NaN   NaN   NaN   NaN   NaN   NaN   NaN  \n",
       "\n",
       "[3 rows x 1892 columns]"
      ]
     },
     "execution_count": 19,
     "metadata": {},
     "output_type": "execute_result"
    }
   ],
   "source": [
    "f = pd.DataFrame.from_dict(users_tag_interest_novec)\n",
    "f.sample(3)"
   ]
  },
  {
   "cell_type": "code",
   "execution_count": 47,
   "metadata": {
    "collapsed": true
   },
   "outputs": [],
   "source": [
    "def get_recs2(user_interests, M, num, f=pearson):\n",
    "    review = []\n",
    "    for tit in M.columns:\n",
    "        title = int(tit)\n",
    "        cor = f(user_interests, M[title])\n",
    "        if np.isnan(cor):\n",
    "            continue\n",
    "        else:\n",
    "            review.append((title, cor))\n",
    "    review.sort(key = lambda tup: tup[1], reverse = True)\n",
    "    return review[:num]"
   ]
  },
  {
   "cell_type": "code",
   "execution_count": 49,
   "metadata": {},
   "outputs": [
    {
     "name": "stderr",
     "output_type": "stream",
     "text": [
      "/usr/lib/python3.6/site-packages/ipykernel/__main__.py:5: RuntimeWarning: invalid value encountered in double_scalars\n"
     ]
    }
   ],
   "source": [
    "recs3 = get_recs2(f[238], M1, 10)"
   ]
  },
  {
   "cell_type": "code",
   "execution_count": 50,
   "metadata": {},
   "outputs": [
    {
     "name": "stdout",
     "output_type": "stream",
     "text": [
      "604    Miles Davis\n",
      "Name: name, dtype: object 0.8676761267\n",
      "619    Thelonious Monk\n",
      "Name: name, dtype: object 0.859709602533\n",
      "2999    Louis Armstrong\n",
      "Name: name, dtype: object 0.852553266226\n",
      "2443    Nat King Cole\n",
      "Name: name, dtype: object 0.843150305948\n",
      "3975    Morphine\n",
      "Name: name, dtype: object 0.842567804855\n",
      "7960    Harry Connick, Jr.\n",
      "Name: name, dtype: object 0.836160352132\n",
      "11279    Cannonball Adderley\n",
      "Name: name, dtype: object 0.831969045778\n",
      "2983    Duke Ellington\n",
      "Name: name, dtype: object 0.826705768613\n",
      "2995    Benny Goodman\n",
      "Name: name, dtype: object 0.811918652466\n",
      "10570    Charles Mingus\n",
      "Name: name, dtype: object 0.810269828255\n"
     ]
    }
   ],
   "source": [
    "for aid, corr  in recs3[:10]:\n",
    "    print(artists.query('id == ' + str(aid))['name'], corr)"
   ]
  },
  {
   "cell_type": "code",
   "execution_count": 51,
   "metadata": {},
   "outputs": [
    {
     "name": "stdout",
     "output_type": "stream",
     "text": [
      "4531    Tribraco\n",
      "Name: name, dtype: object\n",
      "4532    UnnaddarÃ¨\n",
      "Name: name, dtype: object\n",
      "4533    Neo\n",
      "Name: name, dtype: object\n",
      "4534    Mini k Bros\n",
      "Name: name, dtype: object\n",
      "4535    Neilos\n",
      "Name: name, dtype: object\n",
      "4536    Pink Puffers\n",
      "Name: name, dtype: object\n",
      "4537    Snakeprint\n",
      "Name: name, dtype: object\n",
      "4538    Spiral69\n",
      "Name: name, dtype: object\n",
      "4539    Tubax\n",
      "Name: name, dtype: object\n",
      "4540    Goodphellas\n",
      "Name: name, dtype: object\n"
     ]
    }
   ],
   "source": [
    "x = user_artists.query('userID == 238').sort_values('weight',ascending=False)[:10]\n",
    "for i in x.iterrows():\n",
    "    aid = i[1]['artistID'] \n",
    "    print(artists.query('id == ' + str(aid))['name'])"
   ]
  },
  {
   "cell_type": "markdown",
   "metadata": {
    "collapsed": true
   },
   "source": [
    "### Bibliography\n",
    "\n",
    "1. Robillard, M., Maalej, W., Walker, R. J., & Zimmermann, T. (Eds.). (2014). Recommendation Systems in Software Engineering. Springer Berlin Heidelberg. Cap. 2 p. 20-21 https://doi.org/10.1007/978-3-642-45135-5\n",
    "2. Jannach, D., Zanker, M., Felfernig, A., & Friedrich, G. (2011). Recommender systems: an introduction. Cambridge University Press (Vol. 40). https://doi.org/10.1017/CBO9780511763113"
   ]
  }
 ],
 "metadata": {
  "anaconda-cloud": {},
  "kernelspec": {
   "display_name": "Python 3",
   "language": "python",
   "name": "python3"
  },
  "language_info": {
   "codemirror_mode": {
    "name": "ipython",
    "version": 3
   },
   "file_extension": ".py",
   "mimetype": "text/x-python",
   "name": "python",
   "nbconvert_exporter": "python",
   "pygments_lexer": "ipython3",
   "version": "3.6.1"
  }
 },
 "nbformat": 4,
 "nbformat_minor": 1
}
