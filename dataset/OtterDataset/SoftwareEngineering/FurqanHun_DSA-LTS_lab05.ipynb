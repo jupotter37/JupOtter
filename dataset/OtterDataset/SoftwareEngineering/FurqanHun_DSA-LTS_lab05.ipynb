{
 "cells": [
  {
   "cell_type": "code",
   "execution_count": 3,
   "metadata": {},
   "outputs": [
    {
     "data": {
      "text/plain": [
       "{'Data Structures and Algorithms',\n",
       " 'Human Resources Management',\n",
       " 'Human and Computer Interaction',\n",
       " 'Probabality and Statistics',\n",
       " 'Software Engineering Requirements'}"
      ]
     },
     "execution_count": 3,
     "metadata": {},
     "output_type": "execute_result"
    }
   ],
   "source": [
    "#1\n",
    "courses = set()\n",
    "courses.add(\"Probabality and Statistics\")\n",
    "courses.add(\"Data Structures and Algorithms\")\n",
    "courses.add(\"Software Engineering Requirements\")\n",
    "courses.add(\"Human Resources Management\")\n",
    "courses.add(\"Human and Computer Interaction\")\n",
    "\n",
    "courses"
   ]
  },
  {
   "cell_type": "code",
   "execution_count": 4,
   "metadata": {},
   "outputs": [
    {
     "data": {
      "text/plain": [
       "{'Human Resources Management',\n",
       " 'Human and Computer Interaction',\n",
       " 'Probabality and Statistics',\n",
       " 'Software Engineering Requirements'}"
      ]
     },
     "execution_count": 4,
     "metadata": {},
     "output_type": "execute_result"
    }
   ],
   "source": [
    "#2\n",
    "courses.remove(\"Data Structures and Algorithms\")\n",
    "courses"
   ]
  },
  {
   "cell_type": "code",
   "execution_count": 5,
   "metadata": {},
   "outputs": [
    {
     "data": {
      "text/plain": [
       "(2, 4, 6, 8, 10, 12, 14, 16, 18, 20)"
      ]
     },
     "execution_count": 5,
     "metadata": {},
     "output_type": "execute_result"
    }
   ],
   "source": [
    "#3\n",
    "even = {2,4,6,8,10,12,14,16,18,20}\n",
    "even = tuple(even)\n",
    "even"
   ]
  },
  {
   "cell_type": "code",
   "execution_count": 6,
   "metadata": {},
   "outputs": [
    {
     "data": {
      "text/plain": [
       "10"
      ]
     },
     "execution_count": 6,
     "metadata": {},
     "output_type": "execute_result"
    }
   ],
   "source": [
    "#4\n",
    "dict = {\"abandon\":\"to leave behind\", \"abase\":\"to humiliate\", \"abash\":\"to make ashamed\", \"abate\":\"to reduce in amount\", \"abbreviate\":\"to shorten\", \"abdicate\":\"to give up a position\", \"aberration\":\"something not typical\", \"abhor\":\"to hate\", \"abide\":\"to put up with\", \"abject\":\"miserable\"}\n",
    "dict.__len__()"
   ]
  },
  {
   "cell_type": "code",
   "execution_count": 7,
   "metadata": {},
   "outputs": [
    {
     "data": {
      "text/plain": [
       "dict_keys(['abandon', 'abase', 'abash', 'abate', 'abbreviate', 'abdicate', 'aberration', 'abhor', 'abide', 'abject'])"
      ]
     },
     "execution_count": 7,
     "metadata": {},
     "output_type": "execute_result"
    }
   ],
   "source": [
    "#4.1\n",
    "dict.keys()"
   ]
  },
  {
   "cell_type": "code",
   "execution_count": 8,
   "metadata": {},
   "outputs": [
    {
     "data": {
      "text/plain": [
       "dict_values(['to leave behind', 'to humiliate', 'to make ashamed', 'to reduce in amount', 'to shorten', 'to give up a position', 'something not typical', 'to hate', 'to put up with', 'miserable'])"
      ]
     },
     "execution_count": 8,
     "metadata": {},
     "output_type": "execute_result"
    }
   ],
   "source": [
    "#4.2\n",
    "dict.values()"
   ]
  },
  {
   "cell_type": "code",
   "execution_count": 9,
   "metadata": {},
   "outputs": [
    {
     "data": {
      "text/plain": [
       "{'abandon': 'to leave behind',\n",
       " 'abase': 'to humiliate',\n",
       " 'abash': 'to make ashamed',\n",
       " 'abate': 'to reduce in amount',\n",
       " 'abbreviate': 'to make shorter',\n",
       " 'abdicate': 'to give up a position',\n",
       " 'aberration': 'something not typical',\n",
       " 'abhor': 'to hate',\n",
       " 'abide': 'to put up with',\n",
       " 'abject': 'miserable'}"
      ]
     },
     "execution_count": 9,
     "metadata": {},
     "output_type": "execute_result"
    }
   ],
   "source": [
    "#4.3\n",
    "dict['abbreviate'] = 'to make shorter'\n",
    "dict"
   ]
  },
  {
   "cell_type": "code",
   "execution_count": 10,
   "metadata": {},
   "outputs": [
    {
     "data": {
      "text/plain": [
       "dict_items([('abandon', 'to leave behind'), ('abase', 'to humiliate'), ('abash', 'to make ashamed'), ('abate', 'to reduce in amount'), ('abbreviate', 'to make shorter'), ('abdicate', 'to give up a position'), ('aberration', 'something not typical'), ('abhor', 'to hate'), ('abide', 'to put up with'), ('abject', 'miserable')])"
      ]
     },
     "execution_count": 10,
     "metadata": {},
     "output_type": "execute_result"
    }
   ],
   "source": [
    "#4.4\n",
    "dict.items()"
   ]
  },
  {
   "cell_type": "code",
   "execution_count": 11,
   "metadata": {},
   "outputs": [
    {
     "data": {
      "text/plain": [
       "{'DSA': 'Data Structures and Algorithms',\n",
       " 'HRM': 'Human Resources Management',\n",
       " 'HCI': 'Human and Computer Interaction',\n",
       " 'PS': 'Probabality and Statistics',\n",
       " 'SER': 'Software Engineering Requirements'}"
      ]
     },
     "execution_count": 11,
     "metadata": {},
     "output_type": "execute_result"
    }
   ],
   "source": [
    "#5\n",
    "courses_dict = {'DSA': 'Data Structures and Algorithms','HRM':'Human Resources Management','HCI':'Human and Computer Interaction','PS':'Probabality and Statistics','SER':'Software Engineering Requirements'}\n",
    "courses_dict"
   ]
  },
  {
   "cell_type": "code",
   "execution_count": 12,
   "metadata": {},
   "outputs": [
    {
     "data": {
      "text/plain": [
       "dict_keys(['DSA', 'HRM', 'HCI', 'PS', 'SER'])"
      ]
     },
     "execution_count": 12,
     "metadata": {},
     "output_type": "execute_result"
    }
   ],
   "source": [
    "# 5.1\n",
    "courses_dict.keys()"
   ]
  },
  {
   "cell_type": "code",
   "execution_count": 13,
   "metadata": {},
   "outputs": [
    {
     "data": {
      "text/plain": [
       "dict_values(['Data Structures and Algorithms', 'Human Resources Management', 'Human and Computer Interaction', 'Probabality and Statistics', 'Software Engineering Requirements'])"
      ]
     },
     "execution_count": 13,
     "metadata": {},
     "output_type": "execute_result"
    }
   ],
   "source": [
    "#5.2\n",
    "courses_dict.values()"
   ]
  },
  {
   "cell_type": "code",
   "execution_count": 14,
   "metadata": {},
   "outputs": [
    {
     "data": {
      "text/plain": [
       "{'DSA': 'Data Structures and Algorithms',\n",
       " 'HRM': 'Human Resources Management',\n",
       " 'HCI': 'Human and Computer Interaction',\n",
       " 'PS': 'Probabality and Statistics',\n",
       " 'SER': 'Software Engineering'}"
      ]
     },
     "execution_count": 14,
     "metadata": {},
     "output_type": "execute_result"
    }
   ],
   "source": [
    "#5.3\n",
    "courses_dict['SER'] = 'Software Engineering'\n",
    "courses_dict"
   ]
  },
  {
   "cell_type": "code",
   "execution_count": 15,
   "metadata": {},
   "outputs": [
    {
     "data": {
      "text/plain": [
       "dict_items([('DSA', 'Data Structures and Algorithms'), ('HRM', 'Human Resources Management'), ('HCI', 'Human and Computer Interaction'), ('PS', 'Probabality and Statistics'), ('SER', 'Software Engineering')])"
      ]
     },
     "execution_count": 15,
     "metadata": {},
     "output_type": "execute_result"
    }
   ],
   "source": [
    "#5.4\n",
    "courses_dict.items()"
   ]
  },
  {
   "cell_type": "code",
   "execution_count": 16,
   "metadata": {},
   "outputs": [
    {
     "data": {
      "text/plain": [
       "{'1': 'Furqan',\n",
       " '2': 'Yameen',\n",
       " '3': 'Sohaib',\n",
       " '4': 'Sibghat',\n",
       " '5': 'Ahmed',\n",
       " '6': 'Ahsan',\n",
       " '7': 'Hassan',\n",
       " '8': 'Talha',\n",
       " '9': 'Hassan',\n",
       " '10': 'Mirza'}"
      ]
     },
     "execution_count": 16,
     "metadata": {},
     "output_type": "execute_result"
    }
   ],
   "source": [
    "#6\n",
    "std = {'1': 'Furqan', '2': 'Yameen', '3':'Sohaib', '4':'Sibghat', '5':'Ahmed', '6':'Ahsan', '7':'Hassan', '8':'Talha', '9':'Hassan', '10':'Mirza'}\n",
    "std"
   ]
  },
  {
   "cell_type": "code",
   "execution_count": 17,
   "metadata": {},
   "outputs": [
    {
     "data": {
      "text/plain": [
       "dict_keys(['1', '2', '3', '4', '5', '6', '7', '8', '9', '10'])"
      ]
     },
     "execution_count": 17,
     "metadata": {},
     "output_type": "execute_result"
    }
   ],
   "source": [
    "# 6.1\n",
    "std.keys()"
   ]
  },
  {
   "cell_type": "code",
   "execution_count": 18,
   "metadata": {},
   "outputs": [
    {
     "data": {
      "text/plain": [
       "dict_values(['Furqan', 'Yameen', 'Sohaib', 'Sibghat', 'Ahmed', 'Ahsan', 'Hassan', 'Talha', 'Hassan', 'Mirza'])"
      ]
     },
     "execution_count": 18,
     "metadata": {},
     "output_type": "execute_result"
    }
   ],
   "source": [
    "#6.2\n",
    "std.values()"
   ]
  },
  {
   "cell_type": "code",
   "execution_count": 19,
   "metadata": {},
   "outputs": [
    {
     "data": {
      "text/plain": [
       "{'1': 'Furqan',\n",
       " '2': 'Yameen',\n",
       " '3': 'Sohaib',\n",
       " '4': 'Sibghat',\n",
       " '5': 'Anas',\n",
       " '6': 'Ahsan',\n",
       " '7': 'Hassan',\n",
       " '8': 'Talha',\n",
       " '9': 'Hassan',\n",
       " '10': 'Mirza'}"
      ]
     },
     "execution_count": 19,
     "metadata": {},
     "output_type": "execute_result"
    }
   ],
   "source": [
    "#6.3\n",
    "std['5'] = 'Anas'\n",
    "std"
   ]
  },
  {
   "cell_type": "code",
   "execution_count": 20,
   "metadata": {},
   "outputs": [
    {
     "data": {
      "text/plain": [
       "dict_items([('1', 'Furqan'), ('2', 'Yameen'), ('3', 'Sohaib'), ('4', 'Sibghat'), ('5', 'Anas'), ('6', 'Ahsan'), ('7', 'Hassan'), ('8', 'Talha'), ('9', 'Hassan'), ('10', 'Mirza')])"
      ]
     },
     "execution_count": 20,
     "metadata": {},
     "output_type": "execute_result"
    }
   ],
   "source": [
    "# 6.4\n",
    "std.items()"
   ]
  },
  {
   "cell_type": "code",
   "execution_count": 21,
   "metadata": {},
   "outputs": [
    {
     "data": {
      "text/plain": [
       "('a', 'e', 'c', 1, 2, 3, 1.1, 2.2, 3.3, 1)"
      ]
     },
     "execution_count": 21,
     "metadata": {},
     "output_type": "execute_result"
    }
   ],
   "source": [
    "#7\n",
    "v7 = ('a', 'e', 'c', 1, 2, 3, 1.1, 2.2, 3.3, 1)\n",
    "v7"
   ]
  },
  {
   "cell_type": "code",
   "execution_count": 22,
   "metadata": {},
   "outputs": [
    {
     "name": "stdout",
     "output_type": "stream",
     "text": [
      "2 1\n"
     ]
    }
   ],
   "source": [
    "#8\n",
    "print(v7.count(1), v7.index('e'))"
   ]
  },
  {
   "cell_type": "code",
   "execution_count": 23,
   "metadata": {},
   "outputs": [
    {
     "data": {
      "text/plain": [
       "(1, 2, 3, 4, 5, 6, 7, ['a', 'e'], 9, 10)"
      ]
     },
     "execution_count": 23,
     "metadata": {},
     "output_type": "execute_result"
    }
   ],
   "source": [
    "#9\n",
    "v9 = (1, 2, 3, 4, 5, 6, 7, ['a','b'], 9, 10)\n",
    "v9[7][1] = 'e'\n",
    "v9"
   ]
  },
  {
   "cell_type": "code",
   "execution_count": 24,
   "metadata": {},
   "outputs": [
    {
     "data": {
      "text/plain": [
       "'BSE-22F-116100'"
      ]
     },
     "execution_count": 24,
     "metadata": {},
     "output_type": "execute_result"
    }
   ],
   "source": [
    "#10\n",
    "id = 'BSE-22F-116' + '100'\n",
    "id"
   ]
  },
  {
   "cell_type": "code",
   "execution_count": null,
   "metadata": {},
   "outputs": [],
   "source": []
  }
 ],
 "metadata": {
  "kernelspec": {
   "display_name": "base",
   "language": "python",
   "name": "python3"
  },
  "language_info": {
   "codemirror_mode": {
    "name": "ipython",
    "version": 3
   },
   "file_extension": ".py",
   "mimetype": "text/x-python",
   "name": "python",
   "nbconvert_exporter": "python",
   "pygments_lexer": "ipython3",
   "version": "3.11.4"
  },
  "orig_nbformat": 4
 },
 "nbformat": 4,
 "nbformat_minor": 2
}
