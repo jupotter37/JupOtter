{
  "cells": [
    {
      "cell_type": "markdown",
      "metadata": {
        "id": "view-in-github",
        "colab_type": "text"
      },
      "source": [
        "<a href=\"https://colab.research.google.com/github/Roc0n/DataScienca-BootCamp/blob/main/Laby_Data_Science.ipynb\" target=\"_parent\"><img src=\"https://colab.research.google.com/assets/colab-badge.svg\" alt=\"Open In Colab\"/></a>"
      ]
    },
    {
      "cell_type": "code",
      "execution_count": null,
      "metadata": {
        "colab": {
          "background_save": true
        },
        "id": "PiDqW1ktc5Ke"
      },
      "outputs": [],
      "source": [
        "import numpy as np\n",
        "import pandas as pd\n",
        "import matplotlib.pyplot as plt\n",
        "import math as math"
      ]
    },
    {
      "cell_type": "markdown",
      "metadata": {
        "id": "4kdIoXdVjSdr"
      },
      "source": [
        "1. Zaimportuj moduły: pandas, numpy, matplotlib (tylko pyplot), math i nadaj im standardowe aliasy\n",
        "2. Wywołując \"magiczną funkcję\" zmień ustawienia tak, aby wykresy były wyświetlane w Jupyter Notebook\n",
        "3. Zdefiniuj tabelę days zawierającą liczby: 1,2,3,4,5\n",
        "4. Zdefiniuj tabelę amount zawierającą liczby: 1,5,20,450,700\n",
        "5. Narysuj wykres, który jako argumenty przyjmie tablicę days, a jako wartości tablicę amount\n",
        "6. Zmień wykres tak, aby wartości były zaznaczane niebieskimi kwadratami zamiast domyślnej linii łączącej punkty\n",
        "7. Korzystając z dostępnej w module numpy funkcji arange zdefinuj tabelę months zawierającą numery miesięcy\n",
        "od 1 do 12 i wyświetl tą tablicę\n",
        "8. Zdefiniuj tabelę income, której wartości bedą wyliczane na podstawie tabeli months wzorem:\n",
        "                100 + 3 * numer miesiąca\n",
        "(powinno być 12 wartości zaczynając od: 103, 106, 109 itd.). Wyświetl tą tablicę\n",
        "9. Wyświetl wykres, który jako argumenty przyjmie months, a wartości z tabeli income. Punkty danych mają się\n",
        "wyświetlić jako zielone kropki.\n",
        "10. Zdefiniuj tablice cost, której wartości bedą wyliczane na podstawie tabeli months wzorem:\n",
        "50 + 10 * month\n",
        "11. Wyświetl wykres, w ktorym na osi X będą miesiące z tabeli months, prezentujący dwie serie danych: income i cost. Income powinien być prezentowany przez zielone kropki, a cost przez czerwone trójkąty\n",
        "12. Narysuj wykres funkcji 2^x (dwa do potęgi x), dla x z zakresu od -5 do 5 z dokładnością 0.1. Opisz osie: X - \"Arguments\", Y - \"Values\". W tym celu:\n",
        "Zdefinuij tablicę x przyjmującą wartości -5, -4.9, -4.8.... Opis osie korzystając z funkcji xlabel i ylabel\n",
        "Narysuj wykres, skorzystaj z funkcji pow(2,x)"
      ]
    },
    {
      "cell_type": "code",
      "execution_count": null,
      "metadata": {
        "colab": {
          "background_save": true
        },
        "id": "uazW0r8ojCKm"
      },
      "outputs": [],
      "source": [
        "days = np.array([1,2,3,4,5])\n",
        "amount = np.array([1,5,20,450,700])\n"
      ]
    },
    {
      "cell_type": "code",
      "execution_count": null,
      "metadata": {
        "colab": {
          "background_save": true,
          "base_uri": "https://localhost:8080/",
          "height": 447
        },
        "id": "nG6Rhxs0jUfJ",
        "outputId": "52f76043-bffb-45e3-93ae-c8fa6eb57325"
      },
      "outputs": [
        {
          "data": {
            "text/plain": [
              "[<matplotlib.lines.Line2D at 0x7be359995e10>]"
            ]
          },
          "execution_count": 3,
          "metadata": {},
          "output_type": "execute_result"
        },
        {
          "data": {
            "image/png": "[encoded data removed]",
            "text/plain": [
              "<Figure size 640x480 with 1 Axes>"
            ]
          },
          "metadata": {},
          "output_type": "display_data"
        }
      ],
      "source": [
        "plt.plot(days, amount,'bs')"
      ]
    },
    {
      "cell_type": "code",
      "execution_count": null,
      "metadata": {
        "colab": {
          "background_save": true
        },
        "id": "VBCKxHGika1p"
      },
      "outputs": [],
      "source": [
        "months = np.arange(1, 13)\n"
      ]
    },
    {
      "cell_type": "code",
      "execution_count": null,
      "metadata": {
        "colab": {
          "background_save": true,
          "base_uri": "https://localhost:8080/"
        },
        "id": "7hzE1uGVlsic",
        "outputId": "7a362713-41f8-4c1f-99b3-936f417111c7"
      },
      "outputs": [
        {
          "data": {
            "text/plain": [
              "array([103, 106, 109, 112, 115, 118, 121, 124, 127, 130, 133, 136])"
            ]
          },
          "execution_count": 5,
          "metadata": {},
          "output_type": "execute_result"
        }
      ],
      "source": [
        "income = 100 + 3 * months\n",
        "income"
      ]
    },
    {
      "cell_type": "code",
      "execution_count": null,
      "metadata": {
        "colab": {
          "background_save": true,
          "base_uri": "https://localhost:8080/",
          "height": 447
        },
        "id": "RACiPzGyl-iO",
        "outputId": "5794fa97-7b0e-46c4-809a-cd183308bd94"
      },
      "outputs": [
        {
          "data": {
            "text/plain": [
              "[<matplotlib.lines.Line2D at 0x7be3576ca050>]"
            ]
          },
          "execution_count": 6,
          "metadata": {},
          "output_type": "execute_result"
        },
        {
          "data": {
            "image/png": "[encoded data removed]",
            "text/plain": [
              "<Figure size 640x480 with 1 Axes>"
            ]
          },
          "metadata": {},
          "output_type": "display_data"
        }
      ],
      "source": [
        "plt.plot(months, income, 'go')"
      ]
    },
    {
      "cell_type": "code",
      "execution_count": null,
      "metadata": {
        "colab": {
          "background_save": true,
          "base_uri": "https://localhost:8080/"
        },
        "id": "40g738q7mP43",
        "outputId": "21c39b13-dc79-4c17-8ec8-aeed448e0da6"
      },
      "outputs": [
        {
          "data": {
            "text/plain": [
              "array([ 60,  70,  80,  90, 100, 110, 120, 130, 140, 150, 160, 170])"
            ]
          },
          "execution_count": 7,
          "metadata": {},
          "output_type": "execute_result"
        }
      ],
      "source": [
        "\n",
        "cost = 50 + 10 * months\n",
        "cost"
      ]
    },
    {
      "cell_type": "code",
      "execution_count": null,
      "metadata": {
        "colab": {
          "background_save": true,
          "base_uri": "https://localhost:8080/",
          "height": 464
        },
        "id": "8gkCUGzbmW6P",
        "outputId": "69072bfd-0a9c-4c96-9444-a50f0fdf85a3"
      },
      "outputs": [
        {
          "data": {
            "text/plain": [
              "[<matplotlib.lines.Line2D at 0x7be357737d30>,\n",
              " <matplotlib.lines.Line2D at 0x7be357737dc0>]"
            ]
          },
          "execution_count": 8,
          "metadata": {},
          "output_type": "execute_result"
        },
        {
          "data": {
            "image/png": "[encoded data removed]",
            "text/plain": [
              "<Figure size 640x480 with 1 Axes>"
            ]
          },
          "metadata": {},
          "output_type": "display_data"
        }
      ],
      "source": [
        "plt.plot(months, income, 'go', months, cost, 'r^')\n"
      ]
    },
    {
      "cell_type": "markdown",
      "metadata": {
        "id": "XsO4hd2bpP-a"
      },
      "source": [
        "Narysuj wykres funkcji 2^x (dwa do potęgi x), dla x z zakresu od -5 do 5 z dokładnością 0.1. Opisz osie: X - \"Arguments\", Y - \"Values\". W tym celu: Zdefinuij tablicę x przyjmującą wartości -5, -4.9, -4.8.... Opis osie korzystając z funkcji xlabel i ylabel Narysuj wykres, skorzystaj z funkcji pow(2,x)"
      ]
    },
    {
      "cell_type": "code",
      "execution_count": null,
      "metadata": {
        "colab": {
          "background_save": true,
          "base_uri": "https://localhost:8080/",
          "height": 466
        },
        "id": "yus5b0olpUdU",
        "outputId": "dc7b2cd8-9ce2-42ff-cc57-7b2ad3f0fac4"
      },
      "outputs": [
        {
          "data": {
            "text/plain": [
              "Text(0, 0.5, 'Values')"
            ]
          },
          "execution_count": 9,
          "metadata": {},
          "output_type": "execute_result"
        },
        {
          "data": {
            "image/png": "[encoded data removed]",
            "text/plain": [
              "<Figure size 640x480 with 1 Axes>"
            ]
          },
          "metadata": {},
          "output_type": "display_data"
        }
      ],
      "source": [
        "x = np.arange(-5, 5, 0.1)\n",
        "plt.plot(2 ** x)\n",
        "plt.xlabel('Arguments')\n",
        "plt.ylabel('Values')"
      ]
    },
    {
      "cell_type": "code",
      "execution_count": null,
      "metadata": {
        "colab": {
          "background_save": true
        },
        "id": "iNIlMaqZp0yZ"
      },
      "outputs": [],
      "source": []
    },
    {
      "cell_type": "markdown",
      "metadata": {
        "id": "cOZaWgP60yTo"
      },
      "source": [
        "S02-L003 - LAB - Ręczne tworzenie Data Series\n",
        "1. Zaimportuj moduły: pandas, numpy, matplotlib (tylko pyplot), math i nadaj im standardowe aliasy\n",
        "2. Utwórz listę dni tygodnia i nazwij ją weekdays\n",
        "3. W oparciu o tą listę utwórz obiekt Data Series. Zapisz go w zmiennej weekdaysSeries i wyświetl tą zmienną.\n",
        "4. Utwórz listę freeDays, która bedzie zawierała tyle samo elementów co lista weekdays. W kolejnych pozycjach\n",
        "tej listy zapisuj informację True/False oznaczającą, czy dany dzień tygodnia jest wolny czy nie.\n",
        "5. W oparciu o listę freeDays utwórz obiekt Data Series. Zapisz go w zmiennej freeDaysSeries i wyświetl tą\n",
        "zmienną. Zwróć uwagę na typ listy\n",
        "6. Utwórz hash table (dictionary) o nazwie holidays, gdzie kluczem jest nazwa święta, a wartością data, (bez\n",
        "przesady - do ćwiczenia 3 święta wystarczą), np.\n",
        "New Year - 2018-01-01 Epiphany - 2018-01-06 Easter - 2018-04-01\n",
        "7. W oparciu o hash table holidays utwórz Data Series i zapisz go w zmiennej holidaysSeries i wyświetl tą zmienną."
      ]
    },
    {
      "cell_type": "code",
      "execution_count": null,
      "metadata": {
        "colab": {
          "background_save": true
        },
        "id": "ntENsrvV0zmX"
      },
      "outputs": [],
      "source": [
        "import numpy as np\n",
        "import pandas as pd\n",
        "import matplotlib.pyplot as plt\n",
        "import math as math\n",
        "\n",
        "\n"
      ]
    },
    {
      "cell_type": "code",
      "execution_count": null,
      "metadata": {
        "colab": {
          "background_save": true
        },
        "id": "2sEGfCNE1ViY"
      },
      "outputs": [],
      "source": [
        "weekdays = ['Monday', 'Thuesday', 'Wednesday', 'Thursday', 'Friday', 'Saturnday', 'Sunday']"
      ]
    },
    {
      "cell_type": "code",
      "execution_count": null,
      "metadata": {
        "colab": {
          "background_save": true,
          "base_uri": "https://localhost:8080/"
        },
        "id": "teevmkhs1X17",
        "outputId": "0ff8da03-9df0-4492-bb8a-48b49ae4863c"
      },
      "outputs": [
        {
          "data": {
            "text/plain": [
              "0       Monday\n",
              "1     Thuesday\n",
              "2    Wednesday\n",
              "3     Thursday\n",
              "4       Friday\n",
              "5    Saturnday\n",
              "6       Sunday\n",
              "dtype: object"
            ]
          },
          "execution_count": 12,
          "metadata": {},
          "output_type": "execute_result"
        }
      ],
      "source": [
        "weekdaysSeries = pd.Series(weekdays)\n",
        "weekdaysSeries"
      ]
    },
    {
      "cell_type": "code",
      "execution_count": null,
      "metadata": {
        "colab": {
          "background_save": true
        },
        "id": "s8WaFvvq1kZI"
      },
      "outputs": [],
      "source": [
        "freeDays = [False, False, False, False, False, True, True]"
      ]
    },
    {
      "cell_type": "code",
      "execution_count": null,
      "metadata": {
        "colab": {
          "background_save": true,
          "base_uri": "https://localhost:8080/"
        },
        "id": "iFjUYO2f2E7c",
        "outputId": "36e199b3-9442-4edc-cf19-571088463c64"
      },
      "outputs": [
        {
          "data": {
            "text/plain": [
              "0    False\n",
              "1    False\n",
              "2    False\n",
              "3    False\n",
              "4    False\n",
              "5     True\n",
              "6     True\n",
              "dtype: bool"
            ]
          },
          "execution_count": 14,
          "metadata": {},
          "output_type": "execute_result"
        }
      ],
      "source": [
        "freeDaysSeries = pd.Series(freeDays)\n",
        "freeDaysSeries"
      ]
    },
    {
      "cell_type": "code",
      "execution_count": null,
      "metadata": {
        "colab": {
          "background_save": true,
          "base_uri": "https://localhost:8080/"
        },
        "id": "63boq08R2Qw_",
        "outputId": "32a0f8f8-fe0b-4b52-e1a5-6ef43d186d13"
      },
      "outputs": [
        {
          "data": {
            "text/plain": [
              "{'New Year': '2018-01-01', 'Epiphany': '2018-01-06', 'Easter': '2018-04-01'}"
            ]
          },
          "execution_count": 15,
          "metadata": {},
          "output_type": "execute_result"
        }
      ],
      "source": [
        "holydays = {'New Year' : '2018-01-01', 'Epiphany' : '2018-01-06', 'Easter' : '2018-04-01'}\n",
        "holydays"
      ]
    },
    {
      "cell_type": "code",
      "execution_count": null,
      "metadata": {
        "colab": {
          "background_save": true,
          "base_uri": "https://localhost:8080/"
        },
        "id": "SpCJru3C2wyj",
        "outputId": "b37c1125-c809-41f8-a8f6-90629095b277"
      },
      "outputs": [
        {
          "data": {
            "text/plain": [
              "New Year    2018-01-01\n",
              "Epiphany    2018-01-06\n",
              "Easter      2018-04-01\n",
              "dtype: object"
            ]
          },
          "execution_count": 16,
          "metadata": {},
          "output_type": "execute_result"
        }
      ],
      "source": [
        "holydaysSeries = pd.Series(holydays)\n",
        "holydaysSeries"
      ]
    },
    {
      "cell_type": "markdown",
      "metadata": {
        "id": "S3s7UOgR7YSI"
      },
      "source": [
        "S02-L004 - LAB - Atrybuty Data Series\n",
        "1. Zaimportuj moduły: pandas, numpy, matplotlib (tylko pyplot), math i nadaj im standardowe aliasy\n",
        "2. Zaimportuj moduł random z aliasem rnd, a potem:\n",
        "Zadeklaruj zmieną dataAsFloatList jako listę.\n",
        "Napisz pętlę, która 100000 doda do listy element wyliczony wzorem i*rnd.random() gdzie i to kolejny numer pętli\n",
        "Następnie w oparciu o listę dataAsFloatList utwórz obiekt series i zapisz go w zmiennej dataAsFloatSeries.\n",
        "3. Wyświetl następujące atrybuty dataAsFloatSeries: size\n",
        "nbytes shape\n",
        "axes\n",
        "dtype\n",
        "index is_unique is_monotonic\n",
        "4. Powtórz kroki z punktu (2) z drobnymi zmianami:\n",
        "Zadeklaruj zmieną dataAsStringList jako listę.\n",
        "Napisz pętlę, która 100000 doda do listy element wyliczony wzorem str(i*rnd.random()) gdzie i to kolejny numer pętli\n",
        "Następnie w oparciu o listę dataAsStringList utwórz obiekt series i zapisz go w zmiennej dataAsStringSeries.\n",
        "5. Podobnie jak poprzednio wyświetl atrybuty dataAsStringSeries: size\n",
        "nbytes dtype\n",
        "6. Czy Twoim zdaniem nbytes dla obu obiektów Data Series powinny być takie same czy inne? A jakie są?\n",
        "7. Wyjaśnienie dla punktu (6). Atrybut nbytes \"szacuje zajętość pamięci bardzo z grubsza\". Ta metoda jest szybka ale niedokładna. Jeśli chcesz dokładnie policzyć ilość zajmowanej pamięci skorzystaj z metody (metody dokładnie omawiamy w kolejnej lekcji):\n",
        "dataAsFloatSeries.memory_usage(deep=True) dataAsStringSeries.memory_usage(deep=True)\n"
      ]
    },
    {
      "cell_type": "code",
      "execution_count": null,
      "metadata": {
        "colab": {
          "background_save": true
        },
        "id": "v8Es6dsE7Z45"
      },
      "outputs": [],
      "source": [
        "import random as rnd"
      ]
    },
    {
      "cell_type": "code",
      "execution_count": null,
      "metadata": {
        "colab": {
          "background_save": true
        },
        "id": "zaIESqt_Bohm"
      },
      "outputs": [],
      "source": [
        "dataAsFloatList = [i * rnd.random() for i in range(1000000)]\n",
        "dataAsFloatSeries = pd.Series(dataAsFloatList)\n"
      ]
    },
    {
      "cell_type": "code",
      "execution_count": null,
      "metadata": {
        "colab": {
          "background_save": true,
          "base_uri": "https://localhost:8080/"
        },
        "id": "BVI3B98WDoOV",
        "outputId": "3dfc35c8-5835-492a-d1de-c078743855ca"
      },
      "outputs": [
        {
          "name": "stdout",
          "output_type": "stream",
          "text": [
            "Size: 1000000\n",
            "nbytes: 8000000\n",
            "shape: (1000000,)\n",
            "axes: [RangeIndex(start=0, stop=1000000, step=1)]\n",
            "dtype: float64\n",
            "index: RangeIndex(start=0, stop=1000000, step=1)\n",
            "is_monotonic: False\n"
          ]
        }
      ],
      "source": [
        "print('Size: {}'.format(dataAsFloatSeries.size), 'nbytes: {}'.format(dataAsFloatSeries.nbytes),\n",
        "      'shape: {}'.format(dataAsFloatSeries.shape), 'axes: {}'.format(dataAsFloatSeries.axes),\n",
        "      'dtype: {}'.format(dataAsFloatSeries.dtype), 'index: {}'.format(dataAsFloatSeries.index),\n",
        "      'is_monotonic: {}'.format(dataAsFloatSeries.is_monotonic_increasing),  sep='\\n')"
      ]
    },
    {
      "cell_type": "code",
      "execution_count": null,
      "metadata": {
        "colab": {
          "background_save": true
        },
        "id": "QJDWIjrnF3MK"
      },
      "outputs": [],
      "source": [
        "dataAsStringList = [str(i * rnd.random()) for i in range(1000000)]\n",
        "dataAsStringSeries = pd.Series(dataAsStringList)\n"
      ]
    },
    {
      "cell_type": "markdown",
      "metadata": {
        "id": "yTM7AWUmZFzm"
      },
      "source": [
        "S02-L006 - LAB - Filtrowanie Data Series\n",
        "1. Zaimportuj moduły: pandas, numpy, matplotlib (tylko pyplot), math i nadaj im standardowe aliasy\n",
        "2. Na stronie https://danepubliczne.gov.pl (https://danepubliczne.gov.pl) publikowane są ciekawe dane statystyczne. Ta lista prezentuje informacje o wypadkach powodowanych przez osoby w różnym wieku: 14 ,334,312,5823,9491,7486,4343. Wiek tych osób to kolejno: do 6, 7-14, 15-17, 18-24, 25-39, 40-59, 60 i więcej). Utwórz serię zawierającą takie dane. Indeksem niech będzie wiek, a wartościami ilość wypadków. Serię nazwij incidents. Wyświetl serię.\n",
        "3. Wyświetl tylko te grupy, które spowodowały więcej niż 1000 wypadków. Najpierw pozwól na wyświetlenie NaN dla grup, które mają mniej wypadków, a potem zupełnie je wyeliminuj\n",
        "4. Zapisz wynik poprzedniego polecenia w zmiennej incident1000. Wyświetl tą nową zmienną, żeby się przekonać, że nie zawiera grup o małej ilości wypadków.\n",
        "5. Upewnij się, że oryginalna seria incidents nie zmieniła zawartości. Jeżeli zmieniła, wykonaj ponownie instrukcje z kroku (2)\n",
        "6. Wyświetl tylko dane dla grup osób w wieku 18-59 (3 grupy) - filtrowanie po indeksie\n",
        "7. Wyfiltruj w serii incidents tylko te pozycje, które liczbę wypadków mają mniejszą lub równą 1000. Po operacji filtrowania obiekt powinien zawierać tylko te wartości. Wyświetl serię incidents, aby upewnić się, że nie ma w niej innych grup.\n"
      ]
    },
    {
      "cell_type": "code",
      "execution_count": null,
      "metadata": {
        "colab": {
          "background_save": true
        },
        "id": "vVDryJoAZIJv"
      },
      "outputs": [],
      "source": [
        "import numpy as np\n",
        "import pandas as pd\n",
        "import matplotlib.pyplot as plt\n",
        "import math"
      ]
    },
    {
      "cell_type": "code",
      "execution_count": null,
      "metadata": {
        "colab": {
          "background_save": true,
          "base_uri": "https://localhost:8080/"
        },
        "id": "RvYttM1KZbTJ",
        "outputId": "54627bbc-6126-4f1e-cdc1-037ae9dbcdc7"
      },
      "outputs": [
        {
          "data": {
            "text/plain": [
              "do 6             14\n",
              "7-14            334\n",
              "15-17           312\n",
              "18-24          5823\n",
              "25-39          9491\n",
              "40-59          7486\n",
              "60 i więcej    4343\n",
              "dtype: int64"
            ]
          },
          "execution_count": 22,
          "metadata": {},
          "output_type": "execute_result"
        }
      ],
      "source": [
        "age = ['do 6', '7-14', '15-17', '18-24', '25-39', '40-59', '60 i więcej']\n",
        "incident = [14 ,334, 312, 5823, 9491, 7486, 4343]\n",
        "incidents = pd.Series(data=incident, index= age)\n",
        "incidents"
      ]
    },
    {
      "cell_type": "code",
      "execution_count": null,
      "metadata": {
        "colab": {
          "background_save": true,
          "base_uri": "https://localhost:8080/"
        },
        "id": "dm74vwKgaSbD",
        "outputId": "818c4630-ac31-4bc6-a2ff-2d06feea4c14"
      },
      "outputs": [
        {
          "data": {
            "text/plain": [
              "do 6              NaN\n",
              "7-14              NaN\n",
              "15-17             NaN\n",
              "18-24          5823.0\n",
              "25-39          9491.0\n",
              "40-59          7486.0\n",
              "60 i więcej    4343.0\n",
              "dtype: float64"
            ]
          },
          "execution_count": 23,
          "metadata": {},
          "output_type": "execute_result"
        }
      ],
      "source": [
        "incidents.where(incidents>1000)\n"
      ]
    },
    {
      "cell_type": "code",
      "execution_count": null,
      "metadata": {
        "colab": {
          "background_save": true,
          "base_uri": "https://localhost:8080/"
        },
        "id": "SxC0JMga58U0",
        "outputId": "371c6ed6-ba0a-4152-ef2e-210be5079921"
      },
      "outputs": [
        {
          "data": {
            "text/plain": [
              "18-24          5823.0\n",
              "25-39          9491.0\n",
              "40-59          7486.0\n",
              "60 i więcej    4343.0\n",
              "dtype: float64"
            ]
          },
          "execution_count": 24,
          "metadata": {},
          "output_type": "execute_result"
        }
      ],
      "source": [
        "incidents1000 = incidents.where(incidents>1000).dropna()\n",
        "incidents1000"
      ]
    },
    {
      "cell_type": "code",
      "execution_count": null,
      "metadata": {
        "colab": {
          "background_save": true,
          "base_uri": "https://localhost:8080/"
        },
        "id": "ZFA0DSFs6PX7",
        "outputId": "133761d1-7534-4234-c956-8c2741255acc"
      },
      "outputs": [
        {
          "data": {
            "text/plain": [
              "do 6             14\n",
              "7-14            334\n",
              "15-17           312\n",
              "18-24          5823\n",
              "25-39          9491\n",
              "40-59          7486\n",
              "60 i więcej    4343\n",
              "dtype: int64"
            ]
          },
          "execution_count": 25,
          "metadata": {},
          "output_type": "execute_result"
        }
      ],
      "source": [
        "incidents"
      ]
    },
    {
      "cell_type": "code",
      "execution_count": null,
      "metadata": {
        "colab": {
          "background_save": true,
          "base_uri": "https://localhost:8080/"
        },
        "id": "EDzmP4Oi6QRf",
        "outputId": "bd0ce3b9-c411-46e4-bb76-cf05c7738e3b"
      },
      "outputs": [
        {
          "data": {
            "text/plain": [
              "18-24    5823.0\n",
              "25-39    9491.0\n",
              "40-59    7486.0\n",
              "dtype: float64"
            ]
          },
          "execution_count": 26,
          "metadata": {},
          "output_type": "execute_result"
        }
      ],
      "source": [
        "incidents1000[:3]"
      ]
    },
    {
      "cell_type": "code",
      "execution_count": null,
      "metadata": {
        "colab": {
          "background_save": true
        },
        "id": "D5qxTxfu6ldZ"
      },
      "outputs": [],
      "source": [
        "incidents.where(incidents <= 1000,inplace=True)\n",
        "incidents.dropna(inplace= True)"
      ]
    },
    {
      "cell_type": "code",
      "execution_count": null,
      "metadata": {
        "colab": {
          "background_save": true,
          "base_uri": "https://localhost:8080/"
        },
        "id": "j6RpN0S56xJ1",
        "outputId": "f0a4f01f-e26d-4bdb-918d-0d5ceff5f773"
      },
      "outputs": [
        {
          "data": {
            "text/plain": [
              "do 6      14.0\n",
              "7-14     334.0\n",
              "15-17    312.0\n",
              "dtype: float64"
            ]
          },
          "execution_count": 28,
          "metadata": {},
          "output_type": "execute_result"
        }
      ],
      "source": [
        "incidents"
      ]
    },
    {
      "cell_type": "markdown",
      "metadata": {
        "id": "vjqTEgO4M0if"
      },
      "source": [
        "S02-L007 - LAS02-L007B - Bardziej zaawansowane filtrowanie\n",
        "1. Zaimportuj moduły: pandas, numpy, matplotlib (tylko pyplot), math i nadaj im standardowe aliasy\n",
        "2. Na stronie https://en.wikipedia.org/wiki/European_countries_by_electricity_consumption_per_person\n",
        "(https://en.wikipedia.org/wiki/European_countries_by_electricity_consumption_per_person) znajduje się informacja o zużyciu energii elektrycznej na osobę w Europie. Utwórz następujące zmienne:\n",
        "namesList (nazwy krajów) o wartościach: ['Albania','Austria','Belarus', 'Belgium','Bulgaria','Croatia','Cyprus','Czech Republic','Denmark','Estonia', 'Finland','France','Germany','Greece','Hungary','Iceland','Ireland','Italy', 'Latvia','Lithuania','Luxembourg','Macedonia','Malta','Montenegro','Netherlands', 'Norway','Poland','Portugal','Romania','Russia','Serbia','Slovenia','Spain', 'Sweden','Switzerland','United Kingdom','Turkey','Ukraine']\n",
        "energy2010List (zużycie energii na osobę w 2010 roku) o wartościach: [1947,8347,3564,8369,4560,3814,4623,6348,6328,6506,16483,7736,7264,5318,3876, 51440,5911,5494,3230,3471,16830,3521,4171,5420,7010,24891,3797,4959,2551, 6410,4359,6521,5707,14934,8175,2498,3550,5701]\n",
        "energy2012List (zużycie energii na osobę w 2012 roku) o wartościach: [2118,8507,3698,7987,4762,3819,4057,6305,6039,6689,15687,7344,7270,5511,3919, 53203,5665,5398,3588,3608,14696,3626,4761,5416,6871,23658,3899,4736,2604, 6617,4387,6778,5573,14290,7886,2794,3641,5452]\n",
        "3. Dla każdej z tych zmiennych utwórz obiekt serii o nazwach jak niżej, a potem wyświetl je:\n",
        "namesSeries energy2010Series energy2012Series\n",
        "4. W zmiennej mean2010 zapisz średnią wartość zużycia prądu w całej Europie w 2010 roku. Wyświetl tą wartość\n",
        "5. W zmiennej mean2012 zapisz średnią wartość zużycia prądu w całej Europie w 2012 roku. Wyświetl tą wartość\n",
        "6. W zmiennej filterAboveMean2010 zapisz wynik porównania wartości serii energy2010Series z wartością średnią mean2010. W porównaniu badaj, czy wartość zużycia prądu w danym kraju jest większa od wartości średniej za rok 2010\n",
        "7. W zmiennej filterAboveMean2012 zapisz wynik porównania wartości serii energy2012Series z wartością średnią mean2012. W wyniku porównania badaj, czy wartość zużycia prądu w danym kraju jest większa od wartości średniej za rok 2012\n",
        "8. Wyświetl kraje z serii namesSeries, które w roku 2010 i w roku 2012 zużywały prąd w ilości powyżej średniej za dany rok\n",
        "9. W zmiennej filterBelowMean2010 zapisz wynik porównania wartości serii energy2010Series z wartością średnią mean2010. W porównaniu badaj, czy wartość zużycia prądu w danym kraju jest mniejsza od wartości średniej za rok 2010\n",
        "10. Sprawdź czy są kraje, które w 2010 roku zużywały mniej prądu niż średnia za 2010, ale w 2012 znalazły się powyżej tej średniej\n",
        "11. Czy z tej analizy można wyciągnąć jakieś wnioski (nawet dość oczywiste)?"
      ]
    },
    {
      "cell_type": "code",
      "execution_count": null,
      "metadata": {
        "colab": {
          "background_save": true
        },
        "id": "6kOEBX9QM1Yp"
      },
      "outputs": [],
      "source": [
        "import numpy as np\n",
        "import pandas as pd\n",
        "import matplotlib.pyplot as plt\n",
        "import math"
      ]
    },
    {
      "cell_type": "code",
      "execution_count": null,
      "metadata": {
        "colab": {
          "background_save": true
        },
        "id": "zD8vI4hvOC2s"
      },
      "outputs": [],
      "source": [
        "name_list = ['Albania','Austria','Belarus', 'Belgium','Bulgaria','Croatia',\n",
        "             'Cyprus','Czech Republic','Denmark','Estonia', 'Finland','France',\n",
        "             'Germany','Greece','Hungary','Iceland','Ireland','Italy', 'Latvia',\n",
        "             'Lithuania','Luxembourg','Macedonia','Malta','Montenegro','Netherlands',\n",
        "             'Norway','Poland','Portugal','Romania','Russia','Serbia','Slovenia','Spain',\n",
        "             'Sweden','Switzerland','United Kingdom','Turkey','Ukraine']\n",
        "energy_2010list = [1947,8347,3564,8369,4560,3814,4623,6348,6328,6506,16483,\n",
        "                   7736,7264,5318,3876, 51440,5911,5494,3230,3471,16830,3521,\n",
        "                   4171,5420,7010,24891,3797,4959,2551, 6410,4359,6521,5707,\n",
        "                   14934,8175,2498,3550,5701]\n",
        "energy_2012list = [2118,8507,3698,7987,4762,3819,4057,6305,6039,6689,15687,7344,\n",
        "                   7270,5511,3919, 53203,5665,5398,3588,3608,14696,3626,4761,5416,\n",
        "                   6871,23658,3899,4736,2604, 6617,4387,6778,5573,14290,7886,2794,\n",
        "                   3641,5452]"
      ]
    },
    {
      "cell_type": "code",
      "execution_count": null,
      "metadata": {
        "colab": {
          "background_save": true
        },
        "id": "uDBj4fazOvjt"
      },
      "outputs": [],
      "source": [
        "namesSeries = pd.Series(name_list)\n",
        "energy_2010Series = pd.Series(energy_2010list)\n",
        "energy_2012Series = pd.Series(energy_2012list)"
      ]
    },
    {
      "cell_type": "code",
      "execution_count": null,
      "metadata": {
        "colab": {
          "background_save": true,
          "base_uri": "https://localhost:8080/"
        },
        "id": "cy5A8zibPv_-",
        "outputId": "d03b9aa0-bf5a-4f2c-f7b0-9c326b8dc46d"
      },
      "outputs": [
        {
          "data": {
            "text/plain": [
              "7779.8421052631575"
            ]
          },
          "execution_count": 32,
          "metadata": {},
          "output_type": "execute_result"
        }
      ],
      "source": [
        "mean2010 = energy_2010Series.mean()\n",
        "mean2010"
      ]
    },
    {
      "cell_type": "code",
      "execution_count": null,
      "metadata": {
        "colab": {
          "background_save": true,
          "base_uri": "https://localhost:8080/"
        },
        "id": "GEWtl6HUnCz0",
        "outputId": "bb463a1f-631f-4fc1-e8fe-6a50a140cada"
      },
      "outputs": [
        {
          "data": {
            "text/plain": [
              "7706.815789473684"
            ]
          },
          "execution_count": 33,
          "metadata": {},
          "output_type": "execute_result"
        }
      ],
      "source": [
        "mean2012 = energy_2012Series.mean()\n",
        "mean2012"
      ]
    },
    {
      "cell_type": "code",
      "execution_count": null,
      "metadata": {
        "colab": {
          "background_save": true
        },
        "id": "vhn6snBAnGK0"
      },
      "outputs": [],
      "source": [
        "filterAboveMean2010 = energy_2010Series > mean2010\n",
        "filterAboveMean2012 = energy_2012Series > mean2012\n"
      ]
    },
    {
      "cell_type": "markdown",
      "metadata": {
        "id": "VfwP87Bg026O"
      },
      "source": [
        "LAB - S02-L008 - Import danych do obiektu series\n",
        "1. Zaimportuj moduły: pandas, numpy, matplotlib (tylko pyplot), math i nadaj im standardowe aliasy\n",
        "2. Korzystając z pliku StackOverflowDeveloperSurvey.csv zaimportuj do zmiennej education kolumnę o nazwie \"FormalEducation\" jako jednokolumnowy obiekt Data Frame\n",
        "3. Sprawdź typ otrzymanej zmiennej.\n",
        "4. Wyświetl tylko 5 pierwszych wierszy z education.\n",
        "5. Powtórz akcję tak jak w pkt. 2, ale tym razem zadbaj o to , aby education było typu data\n",
        "series.\n",
        "6. Sprawdź typ otrzymanej zmiennej.\n",
        "7. Wyświetl 10 ostatnich wierszy z educatoin\n",
        "8. Do zmiennej allInfo zaimportuj cały plik danych (wszystkie kolumny), jako Data Frame\n",
        "9. Zainicjuj obiekt country typu data series, pobierając dane z kolumny \"Country\" obiektu\n",
        "allInfo.\n",
        "10. Wyświetl 5 pierwszych wierszy obiektu country\n",
        "11. (zastosowanie i mała powtórka z poprzednich lekcji) Utwórz serię filterOnlyUSA, która\n",
        "będzie inicjowana w oparciu o serię countries. filterOnlyUSA ma zawierać w wierszu\n",
        "wartość True , jeżeli w serii counties wartość to \"United States\"\n",
        "12. Wyświetl 5 pierwszych pozycji z serii filterOnlyUSA\n",
        "13. Wyświetl dane z serii education w taki sposób, że:\n",
        "pokazywane będą tylko informacje o ukończonej szkole tylko dla osób z country = \"United States\"\n",
        "wartości NaN mają być usunięte\n",
        "należy pokazać tylko 10 górnych wierszy\n",
        "wszystko to powinno być zrobione w jednym poleceniu (method chaining)\n"
      ]
    },
    {
      "cell_type": "code",
      "execution_count": null,
      "metadata": {
        "colab": {
          "background_save": true
        },
        "id": "j-Bcbqxk04Zm"
      },
      "outputs": [],
      "source": [
        "import pandas as pd\n",
        "import numpy as np\n",
        "import matplotlib.pyplot as plt\n",
        "import math"
      ]
    },
    {
      "cell_type": "code",
      "execution_count": null,
      "metadata": {
        "colab": {
          "background_save": true,
          "base_uri": "https://localhost:8080/",
          "height": 231
        },
        "id": "EJznjtsz1Aio",
        "outputId": "b2f3e7e8-6e8d-40e4-cfeb-7b9380a7a14f"
      },
      "outputs": [
        {
          "data": {
            "application/vnd.google.colaboratory.intrinsic+json": {
              "type": "dataframe",
              "variable_name": "df_org"
            },
            "text/html": [
              "\n",
              "  <div id=\"df-75fb2ea1-98cd-4889-8653-b691b1ba796f\" class=\"colab-df-container\">\n",
              "    <div>\n",
              "<style scoped>\n",
              "    .dataframe tbody tr th:only-of-type {\n",
              "        vertical-align: middle;\n",
              "    }\n",
              "\n",
              "    .dataframe tbody tr th {\n",
              "        vertical-align: top;\n",
              "    }\n",
              "\n",
              "    .dataframe thead th {\n",
              "        text-align: right;\n",
              "    }\n",
              "</style>\n",
              "<table border=\"1\" class=\"dataframe\">\n",
              "  <thead>\n",
              "    <tr style=\"text-align: right;\">\n",
              "      <th></th>\n",
              "      <th>Respondent</th>\n",
              "      <th>Professional</th>\n",
              "      <th>ProgramHobby</th>\n",
              "      <th>Country</th>\n",
              "      <th>University</th>\n",
              "      <th>EmploymentStatus</th>\n",
              "      <th>FormalEducation</th>\n",
              "      <th>MajorUndergrad</th>\n",
              "      <th>HomeRemote</th>\n",
              "      <th>CompanySize</th>\n",
              "      <th>...</th>\n",
              "      <th>StackOverflowMakeMoney</th>\n",
              "      <th>Gender</th>\n",
              "      <th>HighestEducationParents</th>\n",
              "      <th>Race</th>\n",
              "      <th>SurveyLong</th>\n",
              "      <th>QuestionsInteresting</th>\n",
              "      <th>QuestionsConfusing</th>\n",
              "      <th>InterestedAnswers</th>\n",
              "      <th>Salary</th>\n",
              "      <th>ExpectedSalary</th>\n",
              "    </tr>\n",
              "  </thead>\n",
              "  <tbody>\n",
              "    <tr>\n",
              "      <th>0</th>\n",
              "      <td>1</td>\n",
              "      <td>Student</td>\n",
              "      <td>Yes, both</td>\n",
              "      <td>United States</td>\n",
              "      <td>No</td>\n",
              "      <td>Not employed, and not looking for work</td>\n",
              "      <td>Secondary school</td>\n",
              "      <td>NaN</td>\n",
              "      <td>NaN</td>\n",
              "      <td>NaN</td>\n",
              "      <td>...</td>\n",
              "      <td>Strongly disagree</td>\n",
              "      <td>Male</td>\n",
              "      <td>High school</td>\n",
              "      <td>White or of European descent</td>\n",
              "      <td>Strongly disagree</td>\n",
              "      <td>Strongly agree</td>\n",
              "      <td>Disagree</td>\n",
              "      <td>Strongly agree</td>\n",
              "      <td>NaN</td>\n",
              "      <td>NaN</td>\n",
              "    </tr>\n",
              "    <tr>\n",
              "      <th>1</th>\n",
              "      <td>2</td>\n",
              "      <td>Student</td>\n",
              "      <td>Yes, both</td>\n",
              "      <td>United Kingdom</td>\n",
              "      <td>Yes, full-time</td>\n",
              "      <td>Employed part-time</td>\n",
              "      <td>Some college/university study without earning ...</td>\n",
              "      <td>Computer science or software engineering</td>\n",
              "      <td>More than half, but not all, the time</td>\n",
              "      <td>20 to 99 employees</td>\n",
              "      <td>...</td>\n",
              "      <td>Strongly disagree</td>\n",
              "      <td>Male</td>\n",
              "      <td>A master's degree</td>\n",
              "      <td>White or of European descent</td>\n",
              "      <td>Somewhat agree</td>\n",
              "      <td>Somewhat agree</td>\n",
              "      <td>Disagree</td>\n",
              "      <td>Strongly agree</td>\n",
              "      <td>NaN</td>\n",
              "      <td>37500.0</td>\n",
              "    </tr>\n",
              "    <tr>\n",
              "      <th>2</th>\n",
              "      <td>3</td>\n",
              "      <td>Professional developer</td>\n",
              "      <td>Yes, both</td>\n",
              "      <td>United Kingdom</td>\n",
              "      <td>No</td>\n",
              "      <td>Employed full-time</td>\n",
              "      <td>Bachelor's degree</td>\n",
              "      <td>Computer science or software engineering</td>\n",
              "      <td>Less than half the time, but at least one day ...</td>\n",
              "      <td>10,000 or more employees</td>\n",
              "      <td>...</td>\n",
              "      <td>Disagree</td>\n",
              "      <td>Male</td>\n",
              "      <td>A professional degree</td>\n",
              "      <td>White or of European descent</td>\n",
              "      <td>Somewhat agree</td>\n",
              "      <td>Agree</td>\n",
              "      <td>Disagree</td>\n",
              "      <td>Agree</td>\n",
              "      <td>113750.0</td>\n",
              "      <td>NaN</td>\n",
              "    </tr>\n",
              "    <tr>\n",
              "      <th>3</th>\n",
              "      <td>4</td>\n",
              "      <td>Professional non-developer who sometimes write...</td>\n",
              "      <td>Yes, both</td>\n",
              "      <td>United States</td>\n",
              "      <td>No</td>\n",
              "      <td>Employed full-time</td>\n",
              "      <td>Doctoral degree</td>\n",
              "      <td>A non-computer-focused engineering discipline</td>\n",
              "      <td>Less than half the time, but at least one day ...</td>\n",
              "      <td>10,000 or more employees</td>\n",
              "      <td>...</td>\n",
              "      <td>Disagree</td>\n",
              "      <td>Male</td>\n",
              "      <td>A doctoral degree</td>\n",
              "      <td>White or of European descent</td>\n",
              "      <td>Agree</td>\n",
              "      <td>Agree</td>\n",
              "      <td>Somewhat agree</td>\n",
              "      <td>Strongly agree</td>\n",
              "      <td>NaN</td>\n",
              "      <td>NaN</td>\n",
              "    </tr>\n",
              "    <tr>\n",
              "      <th>4</th>\n",
              "      <td>5</td>\n",
              "      <td>Professional developer</td>\n",
              "      <td>Yes, I program as a hobby</td>\n",
              "      <td>Switzerland</td>\n",
              "      <td>No</td>\n",
              "      <td>Employed full-time</td>\n",
              "      <td>Master's degree</td>\n",
              "      <td>Computer science or software engineering</td>\n",
              "      <td>Never</td>\n",
              "      <td>10 to 19 employees</td>\n",
              "      <td>...</td>\n",
              "      <td>NaN</td>\n",
              "      <td>NaN</td>\n",
              "      <td>NaN</td>\n",
              "      <td>NaN</td>\n",
              "      <td>NaN</td>\n",
              "      <td>NaN</td>\n",
              "      <td>NaN</td>\n",
              "      <td>NaN</td>\n",
              "      <td>NaN</td>\n",
              "      <td>NaN</td>\n",
              "    </tr>\n",
              "  </tbody>\n",
              "</table>\n",
              "<p>5 rows × 154 columns</p>\n",
              "</div>\n",
              "    <div class=\"colab-df-buttons\">\n",
              "\n",
              "  <div class=\"colab-df-container\">\n",
              "    <button class=\"colab-df-convert\" onclick=\"convertToInteractive('df-75fb2ea1-98cd-4889-8653-b691b1ba796f')\"\n",
              "            title=\"Convert this dataframe to an interactive table.\"\n",
              "            style=\"display:none;\">\n",
              "\n",
              "  <svg xmlns=\"http://www.w3.org/2000/svg\" height=\"24px\" viewBox=\"0 -960 960 960\">\n",
              "    <path d=\"M120-120v-720h720v720H120Zm60-500h600v-160H180v160Zm220 220h160v-160H400v160Zm0 220h160v-160H400v160ZM180-400h160v-160H180v160Zm440 0h160v-160H620v160ZM180-180h160v-160H180v160Zm440 0h160v-160H620v160Z\"/>\n",
              "  </svg>\n",
              "    </button>\n",
              "\n",
              "  <style>\n",
              "    .colab-df-container {\n",
              "      display:flex;\n",
              "      gap: 12px;\n",
              "    }\n",
              "\n",
              "    .colab-df-convert {\n",
              "      background-color: #E8F0FE;\n",
              "      border: none;\n",
              "      border-radius: 50%;\n",
              "      cursor: pointer;\n",
              "      display: none;\n",
              "      fill: #1967D2;\n",
              "      height: 32px;\n",
              "      padding: 0 0 0 0;\n",
              "      width: 32px;\n",
              "    }\n",
              "\n",
              "    .colab-df-convert:hover {\n",
              "      background-color: #E2EBFA;\n",
              "      box-shadow: 0px 1px 2px rgba(60, 64, 67, 0.3), 0px 1px 3px 1px rgba(60, 64, 67, 0.15);\n",
              "      fill: #174EA6;\n",
              "    }\n",
              "\n",
              "    .colab-df-buttons div {\n",
              "      margin-bottom: 4px;\n",
              "    }\n",
              "\n",
              "    [theme=dark] .colab-df-convert {\n",
              "      background-color: #3B4455;\n",
              "      fill: #D2E3FC;\n",
              "    }\n",
              "\n",
              "    [theme=dark] .colab-df-convert:hover {\n",
              "      background-color: #434B5C;\n",
              "      box-shadow: 0px 1px 3px 1px rgba(0, 0, 0, 0.15);\n",
              "      filter: drop-shadow(0px 1px 2px rgba(0, 0, 0, 0.3));\n",
              "      fill: #FFFFFF;\n",
              "    }\n",
              "  </style>\n",
              "\n",
              "    <script>\n",
              "      const buttonEl =\n",
              "        document.querySelector('#df-75fb2ea1-98cd-4889-8653-b691b1ba796f button.colab-df-convert');\n",
              "      buttonEl.style.display =\n",
              "        google.colab.kernel.accessAllowed ? 'block' : 'none';\n",
              "\n",
              "      async function convertToInteractive(key) {\n",
              "        const element = document.querySelector('#df-75fb2ea1-98cd-4889-8653-b691b1ba796f');\n",
              "        const dataTable =\n",
              "          await google.colab.kernel.invokeFunction('convertToInteractive',\n",
              "                                                    [key], {});\n",
              "        if (!dataTable) return;\n",
              "\n",
              "        const docLinkHtml = 'Like what you see? Visit the ' +\n",
              "          '<a target=\"_blank\" href=https://colab.research.google.com/notebooks/data_table.ipynb>data table notebook</a>'\n",
              "          + ' to learn more about interactive tables.';\n",
              "        element.innerHTML = '';\n",
              "        dataTable['output_type'] = 'display_data';\n",
              "        await google.colab.output.renderOutput(dataTable, element);\n",
              "        const docLink = document.createElement('div');\n",
              "        docLink.innerHTML = docLinkHtml;\n",
              "        element.appendChild(docLink);\n",
              "      }\n",
              "    </script>\n",
              "  </div>\n",
              "\n",
              "\n",
              "<div id=\"df-9f36c4c6-640b-47e4-bcc2-713ea87d57e6\">\n",
              "  <button class=\"colab-df-quickchart\" onclick=\"quickchart('df-9f36c4c6-640b-47e4-bcc2-713ea87d57e6')\"\n",
              "            title=\"Suggest charts\"\n",
              "            style=\"display:none;\">\n",
              "\n",
              "<svg xmlns=\"http://www.w3.org/2000/svg\" height=\"24px\"viewBox=\"0 0 24 24\"\n",
              "     width=\"24px\">\n",
              "    <g>\n",
              "        <path d=\"M19 3H5c-1.1 0-2 .9-2 2v14c0 1.1.9 2 2 2h14c1.1 0 2-.9 2-2V5c0-1.1-.9-2-2-2zM9 17H7v-7h2v7zm4 0h-2V7h2v10zm4 0h-2v-4h2v4z\"/>\n",
              "    </g>\n",
              "</svg>\n",
              "  </button>\n",
              "\n",
              "<style>\n",
              "  .colab-df-quickchart {\n",
              "      --bg-color: #E8F0FE;\n",
              "      --fill-color: #1967D2;\n",
              "      --hover-bg-color: #E2EBFA;\n",
              "      --hover-fill-color: #174EA6;\n",
              "      --disabled-fill-color: #AAA;\n",
              "      --disabled-bg-color: #DDD;\n",
              "  }\n",
              "\n",
              "  [theme=dark] .colab-df-quickchart {\n",
              "      --bg-color: #3B4455;\n",
              "      --fill-color: #D2E3FC;\n",
              "      --hover-bg-color: #434B5C;\n",
              "      --hover-fill-color: #FFFFFF;\n",
              "      --disabled-bg-color: #3B4455;\n",
              "      --disabled-fill-color: #666;\n",
              "  }\n",
              "\n",
              "  .colab-df-quickchart {\n",
              "    background-color: var(--bg-color);\n",
              "    border: none;\n",
              "    border-radius: 50%;\n",
              "    cursor: pointer;\n",
              "    display: none;\n",
              "    fill: var(--fill-color);\n",
              "    height: 32px;\n",
              "    padding: 0;\n",
              "    width: 32px;\n",
              "  }\n",
              "\n",
              "  .colab-df-quickchart:hover {\n",
              "    background-color: var(--hover-bg-color);\n",
              "    box-shadow: 0 1px 2px rgba(60, 64, 67, 0.3), 0 1px 3px 1px rgba(60, 64, 67, 0.15);\n",
              "    fill: var(--button-hover-fill-color);\n",
              "  }\n",
              "\n",
              "  .colab-df-quickchart-complete:disabled,\n",
              "  .colab-df-quickchart-complete:disabled:hover {\n",
              "    background-color: var(--disabled-bg-color);\n",
              "    fill: var(--disabled-fill-color);\n",
              "    box-shadow: none;\n",
              "  }\n",
              "\n",
              "  .colab-df-spinner {\n",
              "    border: 2px solid var(--fill-color);\n",
              "    border-color: transparent;\n",
              "    border-bottom-color: var(--fill-color);\n",
              "    animation:\n",
              "      spin 1s steps(1) infinite;\n",
              "  }\n",
              "\n",
              "  @keyframes spin {\n",
              "    0% {\n",
              "      border-color: transparent;\n",
              "      border-bottom-color: var(--fill-color);\n",
              "      border-left-color: var(--fill-color);\n",
              "    }\n",
              "    20% {\n",
              "      border-color: transparent;\n",
              "      border-left-color: var(--fill-color);\n",
              "      border-top-color: var(--fill-color);\n",
              "    }\n",
              "    30% {\n",
              "      border-color: transparent;\n",
              "      border-left-color: var(--fill-color);\n",
              "      border-top-color: var(--fill-color);\n",
              "      border-right-color: var(--fill-color);\n",
              "    }\n",
              "    40% {\n",
              "      border-color: transparent;\n",
              "      border-right-color: var(--fill-color);\n",
              "      border-top-color: var(--fill-color);\n",
              "    }\n",
              "    60% {\n",
              "      border-color: transparent;\n",
              "      border-right-color: var(--fill-color);\n",
              "    }\n",
              "    80% {\n",
              "      border-color: transparent;\n",
              "      border-right-color: var(--fill-color);\n",
              "      border-bottom-color: var(--fill-color);\n",
              "    }\n",
              "    90% {\n",
              "      border-color: transparent;\n",
              "      border-bottom-color: var(--fill-color);\n",
              "    }\n",
              "  }\n",
              "</style>\n",
              "\n",
              "  <script>\n",
              "    async function quickchart(key) {\n",
              "      const quickchartButtonEl =\n",
              "        document.querySelector('#' + key + ' button');\n",
              "      quickchartButtonEl.disabled = true;  // To prevent multiple clicks.\n",
              "      quickchartButtonEl.classList.add('colab-df-spinner');\n",
              "      try {\n",
              "        const charts = await google.colab.kernel.invokeFunction(\n",
              "            'suggestCharts', [key], {});\n",
              "      } catch (error) {\n",
              "        console.error('Error during call to suggestCharts:', error);\n",
              "      }\n",
              "      quickchartButtonEl.classList.remove('colab-df-spinner');\n",
              "      quickchartButtonEl.classList.add('colab-df-quickchart-complete');\n",
              "    }\n",
              "    (() => {\n",
              "      let quickchartButtonEl =\n",
              "        document.querySelector('#df-9f36c4c6-640b-47e4-bcc2-713ea87d57e6 button');\n",
              "      quickchartButtonEl.style.display =\n",
              "        google.colab.kernel.accessAllowed ? 'block' : 'none';\n",
              "    })();\n",
              "  </script>\n",
              "</div>\n",
              "    </div>\n",
              "  </div>\n"
            ],
            "text/plain": [
              "   Respondent                                       Professional  \\\n",
              "0           1                                            Student   \n",
              "1           2                                            Student   \n",
              "2           3                             Professional developer   \n",
              "3           4  Professional non-developer who sometimes write...   \n",
              "4           5                             Professional developer   \n",
              "\n",
              "                ProgramHobby         Country      University  \\\n",
              "0                  Yes, both   United States              No   \n",
              "1                  Yes, both  United Kingdom  Yes, full-time   \n",
              "2                  Yes, both  United Kingdom              No   \n",
              "3                  Yes, both   United States              No   \n",
              "4  Yes, I program as a hobby     Switzerland              No   \n",
              "\n",
              "                         EmploymentStatus  \\\n",
              "0  Not employed, and not looking for work   \n",
              "1                      Employed part-time   \n",
              "2                      Employed full-time   \n",
              "3                      Employed full-time   \n",
              "4                      Employed full-time   \n",
              "\n",
              "                                     FormalEducation  \\\n",
              "0                                   Secondary school   \n",
              "1  Some college/university study without earning ...   \n",
              "2                                  Bachelor's degree   \n",
              "3                                    Doctoral degree   \n",
              "4                                    Master's degree   \n",
              "\n",
              "                                  MajorUndergrad  \\\n",
              "0                                            NaN   \n",
              "1       Computer science or software engineering   \n",
              "2       Computer science or software engineering   \n",
              "3  A non-computer-focused engineering discipline   \n",
              "4       Computer science or software engineering   \n",
              "\n",
              "                                          HomeRemote  \\\n",
              "0                                                NaN   \n",
              "1              More than half, but not all, the time   \n",
              "2  Less than half the time, but at least one day ...   \n",
              "3  Less than half the time, but at least one day ...   \n",
              "4                                              Never   \n",
              "\n",
              "                CompanySize  ... StackOverflowMakeMoney Gender  \\\n",
              "0                       NaN  ...      Strongly disagree   Male   \n",
              "1        20 to 99 employees  ...      Strongly disagree   Male   \n",
              "2  10,000 or more employees  ...               Disagree   Male   \n",
              "3  10,000 or more employees  ...               Disagree   Male   \n",
              "4        10 to 19 employees  ...                    NaN    NaN   \n",
              "\n",
              "  HighestEducationParents                          Race         SurveyLong  \\\n",
              "0             High school  White or of European descent  Strongly disagree   \n",
              "1       A master's degree  White or of European descent     Somewhat agree   \n",
              "2   A professional degree  White or of European descent     Somewhat agree   \n",
              "3       A doctoral degree  White or of European descent              Agree   \n",
              "4                     NaN                           NaN                NaN   \n",
              "\n",
              "  QuestionsInteresting QuestionsConfusing InterestedAnswers    Salary  \\\n",
              "0       Strongly agree           Disagree    Strongly agree       NaN   \n",
              "1       Somewhat agree           Disagree    Strongly agree       NaN   \n",
              "2                Agree           Disagree             Agree  113750.0   \n",
              "3                Agree     Somewhat agree    Strongly agree       NaN   \n",
              "4                  NaN                NaN               NaN       NaN   \n",
              "\n",
              "   ExpectedSalary  \n",
              "0             NaN  \n",
              "1         37500.0  \n",
              "2             NaN  \n",
              "3             NaN  \n",
              "4             NaN  \n",
              "\n",
              "[5 rows x 154 columns]"
            ]
          },
          "execution_count": 36,
          "metadata": {},
          "output_type": "execute_result"
        }
      ],
      "source": [
        "df_org = pd.read_csv('StackOverflowDeveloperSurvey.csv')\n",
        "df_org.head()"
      ]
    },
    {
      "cell_type": "code",
      "execution_count": null,
      "metadata": {
        "colab": {
          "background_save": true
        },
        "id": "gZxb1sKXlnvG"
      },
      "outputs": [],
      "source": []
    }
  ],
  "metadata": {
    "colab": {
      "provenance": [],
      "authorship_tag": "ABX9TyPeRgBBSaqgvVUyhsjMXKuF",
      "include_colab_link": true
    },
    "kernelspec": {
      "display_name": "Python 3",
      "name": "python3"
    },
    "language_info": {
      "name": "python"
    }
  },
  "nbformat": 4,
  "nbformat_minor": 0
}