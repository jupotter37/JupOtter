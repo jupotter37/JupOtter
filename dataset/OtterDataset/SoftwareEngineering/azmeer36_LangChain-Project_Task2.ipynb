{
 "cells": [
  {
   "cell_type": "code",
   "execution_count": 109,
   "metadata": {},
   "outputs": [],
   "source": [
    "import langchain"
   ]
  },
  {
   "cell_type": "code",
   "execution_count": 110,
   "metadata": {},
   "outputs": [
    {
     "name": "stdout",
     "output_type": "stream",
     "text": [
      "sk-proj-LbKwtAS85toGO75GzOCtT3BlbkFJWt45ZRPbAU0lIRppTjDh\n"
     ]
    }
   ],
   "source": [
    "import os\n",
    "from dotenv import load_dotenv\n",
    "os.environ[\"OPENAI_API_KEY\"] = os.getenv(\"OPENAI_API_KEY\")\n",
    "print(os.getenv(\"OPENAI_API_KEY\"))"
   ]
  },
  {
   "cell_type": "code",
   "execution_count": 111,
   "metadata": {},
   "outputs": [],
   "source": [
    "from langchain import PromptTemplate"
   ]
  },
  {
   "cell_type": "code",
   "execution_count": 112,
   "metadata": {},
   "outputs": [],
   "source": [
    "from langchain.llms import OpenAI\n",
    "from langchain.chains import LLMChain\n",
    "\n",
    "llm=OpenAI(temperature=0.7)"
   ]
  },
  {
   "cell_type": "code",
   "execution_count": 113,
   "metadata": {},
   "outputs": [
    {
     "name": "stdout",
     "output_type": "stream",
     "text": [
      "Empty DataFrame\n",
      "Columns: [Name, Field of study, Year of study, List of subjects, Preferred Learning Styles, Personal Objectives, Challenges, Extracurricular activities]\n",
      "Index: []\n"
     ]
    }
   ],
   "source": [
    "import pandas as pd\n",
    "\n",
    "csv_file_path = \"Student Data Rows.csv\"\n",
    "\n",
    "df = pd.read_csv(csv_file_path)\n",
    "\n",
    "print(df.head(0))"
   ]
  },
  {
   "cell_type": "code",
   "execution_count": 114,
   "metadata": {},
   "outputs": [],
   "source": [
    "def split_and_convert_to_list(column):\n",
    "    return column.str.split(',')"
   ]
  },
  {
   "cell_type": "code",
   "execution_count": 115,
   "metadata": {},
   "outputs": [
    {
     "name": "stdout",
     "output_type": "stream",
     "text": [
      "            Name          Field of study Year of study  \\\n",
      "0  Alice Johnson        Computer Science      3rd year   \n",
      "1     David Chen  Electrical Engineering      2nd year   \n",
      "\n",
      "                                    List of subjects  \\\n",
      "0  [Data Structures,  Algorithms,  Database Syste...   \n",
      "1  [Circuit Analysis,  Digital Logic Design ,  El...   \n",
      "\n",
      "  Preferred Learning Styles  \\\n",
      "0       [Visual,  Auditory]   \n",
      "1   [Kinesthetic ,  Visual]   \n",
      "\n",
      "                                 Personal Objectives  \\\n",
      "0  [Develop practical coding skills and understan...   \n",
      "1  [To gain hands-on experience with electrical c...   \n",
      "\n",
      "                                          Challenges  \\\n",
      "0  [Time management ,  balancing coursework with ...   \n",
      "1          [maintaining a healthy work-life balance]   \n",
      "\n",
      "                          Extracurricular activities  \n",
      "0  [Member of the Computer Science Club,  Volunte...  \n",
      "1  [Member of the Robotics Club,  Member of the S...  \n"
     ]
    }
   ],
   "source": [
    "columns_to_split = ['List of subjects', 'Preferred Learning Styles', 'Personal Objectives', 'Challenges', 'Extracurricular activities']\n",
    "for col in columns_to_split:\n",
    "    df[col] = split_and_convert_to_list(df[col])\n",
    "\n",
    "# Display the updated DataFrame\n",
    "print(df)"
   ]
  },
  {
   "cell_type": "code",
   "execution_count": 116,
   "metadata": {},
   "outputs": [],
   "source": [
    "def format_student_details(student_row):\n",
    "    details = []\n",
    "    details.append(f\"Name: {student_row['Name']}\")\n",
    "    details.append(f\"Field of study: {student_row['Field of study']}\")\n",
    "    details.append(f\"Year of study: {student_row['Year of study']}\")\n",
    "    details.append(f\"List of subjects: {', '.join(student_row['List of subjects'])}\")\n",
    "    details.append(f\"Preferred Learning Styles: {', '.join(student_row['Preferred Learning Styles'])}\")\n",
    "    details.append(f\"Personal Objectives: {', '.join(student_row['Personal Objectives'])}\")\n",
    "    details.append(f\"Challenges: {', '.join(student_row['Challenges'])}\")\n",
    "    details.append(f\"Extracurricular activities: {', '.join(student_row['Extracurricular activities'])}\")\n",
    "    return '\\n'.join(details)"
   ]
  },
  {
   "cell_type": "code",
   "execution_count": 117,
   "metadata": {},
   "outputs": [
    {
     "name": "stdout",
     "output_type": "stream",
     "text": [
      "Name: Alice Johnson\n",
      "Field of study: Computer Science\n",
      "Year of study: 3rd year\n",
      "List of subjects: Data Structures,  Algorithms,  Database Systems,  Software Engineering\n",
      "Preferred Learning Styles: Visual,  Auditory\n",
      "Personal Objectives: Develop practical coding skills and understanding of software design principles.\n",
      "Challenges: Time management ,  balancing coursework with part-time job.\n",
      "Extracurricular activities: Member of the Computer Science Club,  Volunteer tutor for coding workshops,  Intramural soccer team player\n"
     ]
    }
   ],
   "source": [
    "student_row = df[df['Name'] == 'Alice Johnson'].iloc[0]\n",
    "student_details_temp = format_student_details(student_row)\n",
    "print(student_details_temp)"
   ]
  },
  {
   "cell_type": "code",
   "execution_count": 118,
   "metadata": {},
   "outputs": [],
   "source": [
    "demo_template = \"\"\"I want you to create a study plan for a specific student using the details given below. The study plan not only addresses academic requirements but also aligns with each\n",
    "student's unique needs and aspirations.\n",
    "\n",
    "Please create a study plan for the following student:\n",
    "{student_details}\n",
    "\n",
    "Instructions:\n",
    "\n",
    "1)Based on the provided student data, create a weekly (Monday , Tuesday , Wednesday , Thursday, Friday, Saturday , Sunday) timetable that optimally allocates time for study, revision, and other activities.\n",
    "2)Consider the student's field of study, year of study, list of subjects, preferred learning styles, personal objectives, challenges, and extracurricular activities when designing the timetable.\n",
    "3)Ensure a balanced distribution of time across subjects, taking into account the student's preferences and challenges.\n",
    "4)Allocate specific time slots for extracurricular activities, relaxation, and other personal commitments to maintain a healthy work-life balance.\n",
    "\n",
    "Lets think step by step how would you create a schedule for this student.\n",
    "\n",
    "\n",
    "\"\"\"\n"
   ]
  },
  {
   "cell_type": "code",
   "execution_count": 119,
   "metadata": {},
   "outputs": [
    {
     "data": {
      "text/plain": [
       "\"I want you to create a study plan for a specific student using the details given below. The study plan not only addresses academic requirements but also aligns with each\\nstudent's unique needs and aspirations.\\n\\nPlease create a study plan for the following student:\\nName: David Chen\\nField of study: Electrical Engineering\\nYear of study: 2nd year\\nList of subjects: Circuit Analysis,  Digital Logic Design ,  Electromagnetics, Signal Processing\\nPreferred Learning Styles: Kinesthetic ,  Visual\\nPersonal Objectives: To gain hands-on experience with electrical circuits and systems,  Get Fit and Healthy\\nChallenges: maintaining a healthy work-life balance\\nExtracurricular activities: Member of the Robotics Club,  Member of the Swimming Team\\n\\nInstructions:\\n\\n1)Based on the provided student data, create a weekly (Monday , Tuesday , Wednesday , Thursday, Friday, Saturday , Sunday) timetable that optimally allocates time for study, revision, and other activities.\\n2)Consider the student's field of study, year of study, list of subjects, preferred learning styles, personal objectives, challenges, and extracurricular activities when designing the timetable.\\n3)Ensure a balanced distribution of time across subjects, taking into account the student's preferences and challenges.\\n4)Allocate specific time slots for extracurricular activities, relaxation, and other personal commitments to maintain a healthy work-life balance.\\n\\nLets think step by step how would you create a schedule for this student.\\n\\n\\n\""
      ]
     },
     "execution_count": 119,
     "metadata": {},
     "output_type": "execute_result"
    }
   ],
   "source": [
    "\n",
    "prompt=PromptTemplate(\n",
    "    input_variables=['student_details'],\n",
    "    template=demo_template\n",
    "    )\n",
    "\n",
    "\n",
    "student_row = df[df['Name'] == 'David Chen'].iloc[0]\n",
    "student1_details = format_student_details(student_row)\n",
    "\n",
    "prompt.format(student_details= student1_details  )"
   ]
  },
  {
   "cell_type": "code",
   "execution_count": 120,
   "metadata": {},
   "outputs": [
    {
     "name": "stdout",
     "output_type": "stream",
     "text": [
      "Monday:\n",
      "8:00AM - 9:00AM: Morning Exercise/Get Fit (To achieve personal objective)\n",
      "9:00AM - 10:30AM: Circuit Analysis (Visual learning style)\n",
      "10:30AM - 12:00PM: Digital Logic Design (Kinesthetic learning style)\n",
      "12:00PM - 1:30PM: Lunch/Relaxation\n",
      "1:30PM - 3:00PM: Electromagnetics (Visual learning style)\n",
      "3:00PM - 4:30PM: Signal Processing (Kinesthetic learning style)\n",
      "4:30PM - 6:00PM: Free Time/Extracurricular Activities (Robotics Club)\n",
      "6:00PM - 7:00PM: Dinner\n",
      "7:00PM - 9:00PM: Revision for Circuit Analysis and Digital Logic Design\n",
      "9:00PM - 10:00PM: Relaxation/Personal Time\n",
      "10:00PM - 11:00PM: Study for Electromagnetics and Signal Processing\n",
      "11:00PM - 12:00AM: Wind down/Bedtime\n",
      "\n",
      "Tuesday:\n",
      "8:00AM - 9:00AM: Morning Exercise/Get Fit\n",
      "9:00AM - \n"
     ]
    }
   ],
   "source": [
    "from langchain.llms import OpenAI\n",
    "from langchain.chains import LLMChain\n",
    "\n",
    "\n",
    "llm=OpenAI(temperature=0.7)\n",
    "chain=LLMChain(llm=llm,prompt=prompt)\n",
    "studyplan = chain.invoke(student1_details)\n",
    "print(studyplan['text'])"
   ]
  },
  {
   "cell_type": "code",
   "execution_count": 121,
   "metadata": {},
   "outputs": [],
   "source": [
    "from langchain_openai import ChatOpenAI\n",
    "\n",
    "llm = ChatOpenAI(model=\"gpt-3.5-turbo\", temperature=0)"
   ]
  },
  {
   "cell_type": "code",
   "execution_count": 122,
   "metadata": {},
   "outputs": [],
   "source": [
    "from langchain.prompts.chat import (ChatPromptTemplate, SystemMessagePromptTemplate, HumanMessagePromptTemplate )"
   ]
  },
  {
   "cell_type": "code",
   "execution_count": 123,
   "metadata": {},
   "outputs": [],
   "source": [
    "from langchain.chat_models.openai import ChatOpenAI\n",
    "\n",
    "\n",
    "chat = ChatOpenAI(model=\"gpt-3.5-turbo\", temperature=0)"
   ]
  },
  {
   "cell_type": "code",
   "execution_count": 124,
   "metadata": {},
   "outputs": [],
   "source": [
    "\n",
    "system_message_prompt = SystemMessagePromptTemplate.from_template(\"You are an expert student timetable scheduler who is creating a study plan for a student for the entire week. You always take into account the specific needs for the students when designing the studyplan.\") \n",
    "\n",
    "human_message_prompt = HumanMessagePromptTemplate.from_template(\"\"\" \n",
    "I want you to create a study plan for a specific student using the details given below. The study plan not only addresses academic requirements but also aligns with each student's unique needs and aspirations.\n",
    "\n",
    "Please create a study plan for the following student:\n",
    "{student_details}\n",
    "\n",
    "Instructions:\n",
    "\n",
    "1)Based on the provided student data, create a weekly (Monday , Tuesday , Wednesday , Thursday, Friday, Saturday , Sunday) timetable that optimally allocates time for study, revision, and other activities.\n",
    "2)Consider the student's field of study, year of study, list of subjects, preferred learning styles, personal objectives, challenges, and extracurricular activities when designing the timetable.\n",
    "3)Ensure a balanced distribution of time across subjects, taking into account the student's preferences and challenges.\n",
    "4)Allocate specific time slots for extracurricular activities, relaxation, and other personal commitments to maintain a healthy work-life balance.\n",
    "\n",
    "Design the time table and studyplan\n",
    "                                                                \n",
    "                                                                \"\"\")\n",
    "                                                                  "
   ]
  },
  {
   "cell_type": "code",
   "execution_count": 125,
   "metadata": {},
   "outputs": [],
   "source": [
    "\n",
    "chat_prompt = ChatPromptTemplate.from_messages([system_message_prompt, human_message_prompt])\n",
    "\n",
    "chain = LLMChain(llm=chat, prompt=chat_prompt)\n",
    "\n"
   ]
  },
  {
   "cell_type": "code",
   "execution_count": 126,
   "metadata": {},
   "outputs": [
    {
     "name": "stdout",
     "output_type": "stream",
     "text": [
      "**David Chen's Weekly Study Plan**\n",
      "\n",
      "**Monday:**\n",
      "- 8:00 am - 10:00 am: Circuit Analysis (Visual Learning)\n",
      "- 10:30 am - 12:30 pm: Digital Logic Design (Kinesthetic Learning)\n",
      "- 1:30 pm - 3:30 pm: Electromagnetics (Visual Learning)\n",
      "- 4:00 pm - 6:00 pm: Signal Processing (Kinesthetic Learning)\n",
      "- 7:00 pm - 8:30 pm: Robotics Club Meeting\n",
      "\n",
      "**Tuesday:**\n",
      "- 8:00 am - 10:00 am: Circuit Analysis (Visual Learning)\n",
      "- 10:30 am - 12:30 pm: Digital Logic Design (Kinesthetic Learning)\n",
      "- 1:30 pm - 3:30 pm: Electromagnetics (Visual Learning)\n",
      "- 4:00 pm - 6:00 pm: Signal Processing (Kinesthetic Learning)\n",
      "- 7:00 pm - 8:30 pm: Swimming Team Practice\n",
      "\n",
      "**Wednesday:**\n",
      "- 8:00 am - 10:00 am: Circuit Analysis (Visual Learning)\n",
      "- 10:30 am - 12:30 pm: Digital Logic Design (Kinesthetic Learning)\n",
      "- 1:30 pm - 3:30 pm: Electromagnetics (Visual Learning)\n",
      "- 4:00 pm - 6:00 pm: Signal Processing (Kinesthetic Learning)\n",
      "- 7:00 pm - 8:30 pm: Relaxation Time\n",
      "\n",
      "**Thursday:**\n",
      "- 8:00 am - 10:00 am: Circuit Analysis (Visual Learning)\n",
      "- 10:30 am - 12:30 pm: Digital Logic Design (Kinesthetic Learning)\n",
      "- 1:30 pm - 3:30 pm: Electromagnetics (Visual Learning)\n",
      "- 4:00 pm - 6:00 pm: Signal Processing (Kinesthetic Learning)\n",
      "- 7:00 pm - 8:30 pm: Study Group Session\n",
      "\n",
      "**Friday:**\n",
      "- 8:00 am - 10:00 am: Circuit Analysis (Visual Learning)\n",
      "- 10:30 am - 12:30 pm: Digital Logic Design (Kinesthetic Learning)\n",
      "- 1:30 pm - 3:30 pm: Electromagnetics (Visual Learning)\n",
      "- 4:00 pm - 6:00 pm: Signal Processing (Kinesthetic Learning)\n",
      "- 7:00 pm - 8:30 pm: Free Time\n",
      "\n",
      "**Saturday:**\n",
      "- 9:00 am - 11:00 am: Circuit Analysis Revision\n",
      "- 11:30 am - 1:30 pm: Digital Logic Design Revision\n",
      "- 2:30 pm - 4:30 pm: Electromagnetics Revision\n",
      "- 5:00 pm - 7:00 pm: Signal Processing Revision\n",
      "- 7:30 pm onwards: Socialize with Friends\n",
      "\n",
      "**Sunday:**\n",
      "- 10:00 am - 12:00 pm: Circuit Analysis Practice Problems\n",
      "- 12:30 pm - 2:30 pm: Digital Logic Design Practice Problems\n",
      "- 3:30 pm - 5:30 pm: Electromagnetics Practice Problems\n",
      "- 6:00 pm - 8:00 pm: Signal Processing Practice Problems\n",
      "- 8:30 pm onwards: Relaxation and Self-care\n",
      "\n",
      "This study plan is designed to help David balance his academic requirements with his personal objectives and extracurricular activities. It ensures that he has dedicated time for each subject, revision, practice, and relaxation, promoting a healthy work-life balance.\n"
     ]
    }
   ],
   "source": [
    "response = chain.invoke(student1_details)\n",
    "print(response[\"text\"])"
   ]
  }
 ],
 "metadata": {
  "kernelspec": {
   "display_name": "Python 3",
   "language": "python",
   "name": "python3"
  },
  "language_info": {
   "codemirror_mode": {
    "name": "ipython",
    "version": 3
   },
   "file_extension": ".py",
   "mimetype": "text/x-python",
   "name": "python",
   "nbconvert_exporter": "python",
   "pygments_lexer": "ipython3",
   "version": "3.10.2"
  }
 },
 "nbformat": 4,
 "nbformat_minor": 2
}
