{
 "cells": [
  {
   "cell_type": "code",
   "execution_count": 1,
   "id": "7adc8881-2eb1-4e87-8afe-50ec6110b934",
   "metadata": {},
   "outputs": [
    {
     "name": "stdout",
     "output_type": "stream",
     "text": [
      "Requirement already satisfied: langchain==0.0.284 in c:\\users\\nicho\\anaconda3\\lib\\site-packages (from -r requirements.txt (line 1)) (0.0.284)\n",
      "Requirement already satisfied: python-dotenv==1.0.0 in c:\\users\\nicho\\anaconda3\\lib\\site-packages (from -r requirements.txt (line 2)) (1.0.0)\n",
      "Requirement already satisfied: streamlit==1.22.0 in c:\\users\\nicho\\anaconda3\\lib\\site-packages (from -r requirements.txt (line 3)) (1.22.0)\n",
      "Requirement already satisfied: tiktoken==0.4.0 in c:\\users\\nicho\\anaconda3\\lib\\site-packages (from -r requirements.txt (line 4)) (0.4.0)\n",
      "Requirement already satisfied: faiss-cpu==1.7.4 in c:\\users\\nicho\\anaconda3\\lib\\site-packages (from -r requirements.txt (line 5)) (1.7.4)\n",
      "Collecting protobuf~=3.19.0\n",
      "  Using cached protobuf-3.19.6-cp39-cp39-win_amd64.whl (895 kB)\n",
      "Requirement already satisfied: langsmith<0.1.0,>=0.0.21 in c:\\users\\nicho\\anaconda3\\lib\\site-packages (from langchain==0.0.284->-r requirements.txt (line 1)) (0.0.69)\n",
      "Requirement already satisfied: requests<3,>=2 in c:\\users\\nicho\\anaconda3\\lib\\site-packages (from langchain==0.0.284->-r requirements.txt (line 1)) (2.28.1)\n",
      "Requirement already satisfied: SQLAlchemy<3,>=1.4 in c:\\users\\nicho\\anaconda3\\lib\\site-packages (from langchain==0.0.284->-r requirements.txt (line 1)) (1.4.39)\n",
      "Requirement already satisfied: pydantic<3,>=1 in c:\\users\\nicho\\anaconda3\\lib\\site-packages (from langchain==0.0.284->-r requirements.txt (line 1)) (2.5.2)\n",
      "Requirement already satisfied: PyYAML>=5.3 in c:\\users\\nicho\\anaconda3\\lib\\site-packages (from langchain==0.0.284->-r requirements.txt (line 1)) (6.0)\n",
      "Requirement already satisfied: aiohttp<4.0.0,>=3.8.3 in c:\\users\\nicho\\anaconda3\\lib\\site-packages (from langchain==0.0.284->-r requirements.txt (line 1)) (3.9.1)\n",
      "Requirement already satisfied: numpy<2,>=1 in c:\\users\\nicho\\anaconda3\\lib\\site-packages (from langchain==0.0.284->-r requirements.txt (line 1)) (1.21.5)\n",
      "Requirement already satisfied: async-timeout<5.0.0,>=4.0.0 in c:\\users\\nicho\\anaconda3\\lib\\site-packages (from langchain==0.0.284->-r requirements.txt (line 1)) (4.0.3)\n",
      "Requirement already satisfied: numexpr<3.0.0,>=2.8.4 in c:\\users\\nicho\\anaconda3\\lib\\site-packages (from langchain==0.0.284->-r requirements.txt (line 1)) (2.8.7)\n",
      "Requirement already satisfied: tenacity<9.0.0,>=8.1.0 in c:\\users\\nicho\\anaconda3\\lib\\site-packages (from langchain==0.0.284->-r requirements.txt (line 1)) (8.2.3)\n",
      "Requirement already satisfied: dataclasses-json<0.6.0,>=0.5.7 in c:\\users\\nicho\\anaconda3\\lib\\site-packages (from langchain==0.0.284->-r requirements.txt (line 1)) (0.5.14)\n",
      "Requirement already satisfied: pyarrow>=4.0 in c:\\users\\nicho\\anaconda3\\lib\\site-packages (from streamlit==1.22.0->-r requirements.txt (line 3)) (14.0.1)\n",
      "Requirement already satisfied: toml in c:\\users\\nicho\\anaconda3\\lib\\site-packages (from streamlit==1.22.0->-r requirements.txt (line 3)) (0.10.2)\n",
      "Requirement already satisfied: blinker>=1.0.0 in c:\\users\\nicho\\anaconda3\\lib\\site-packages (from streamlit==1.22.0->-r requirements.txt (line 3)) (1.7.0)\n",
      "Requirement already satisfied: tornado>=6.0.3 in c:\\users\\nicho\\anaconda3\\lib\\site-packages (from streamlit==1.22.0->-r requirements.txt (line 3)) (6.1)\n",
      "Requirement already satisfied: validators>=0.2 in c:\\users\\nicho\\anaconda3\\lib\\site-packages (from streamlit==1.22.0->-r requirements.txt (line 3)) (0.22.0)\n",
      "Requirement already satisfied: python-dateutil in c:\\users\\nicho\\anaconda3\\lib\\site-packages (from streamlit==1.22.0->-r requirements.txt (line 3)) (2.8.2)\n",
      "Requirement already satisfied: watchdog in c:\\users\\nicho\\anaconda3\\lib\\site-packages (from streamlit==1.22.0->-r requirements.txt (line 3)) (2.1.6)\n",
      "Requirement already satisfied: cachetools>=4.0 in c:\\users\\nicho\\anaconda3\\lib\\site-packages (from streamlit==1.22.0->-r requirements.txt (line 3)) (5.3.2)\n",
      "Requirement already satisfied: altair<5,>=3.2.0 in c:\\users\\nicho\\anaconda3\\lib\\site-packages (from streamlit==1.22.0->-r requirements.txt (line 3)) (4.2.2)\n",
      "Requirement already satisfied: pydeck>=0.1.dev5 in c:\\users\\nicho\\anaconda3\\lib\\site-packages (from streamlit==1.22.0->-r requirements.txt (line 3)) (0.8.1b0)\n",
      "Requirement already satisfied: importlib-metadata>=1.4 in c:\\users\\nicho\\anaconda3\\lib\\site-packages (from streamlit==1.22.0->-r requirements.txt (line 3)) (4.11.3)\n",
      "Requirement already satisfied: rich>=10.11.0 in c:\\users\\nicho\\anaconda3\\lib\\site-packages (from streamlit==1.22.0->-r requirements.txt (line 3)) (13.7.0)\n",
      "Requirement already satisfied: pillow>=6.2.0 in c:\\users\\nicho\\anaconda3\\lib\\site-packages (from streamlit==1.22.0->-r requirements.txt (line 3)) (9.2.0)\n",
      "Requirement already satisfied: packaging>=14.1 in c:\\users\\nicho\\anaconda3\\lib\\site-packages (from streamlit==1.22.0->-r requirements.txt (line 3)) (21.3)\n",
      "Requirement already satisfied: typing-extensions>=3.10.0.0 in c:\\users\\nicho\\anaconda3\\lib\\site-packages (from streamlit==1.22.0->-r requirements.txt (line 3)) (4.9.0)\n",
      "Requirement already satisfied: click>=7.0 in c:\\users\\nicho\\anaconda3\\lib\\site-packages (from streamlit==1.22.0->-r requirements.txt (line 3)) (8.0.4)\n",
      "Requirement already satisfied: gitpython!=3.1.19 in c:\\users\\nicho\\anaconda3\\lib\\site-packages (from streamlit==1.22.0->-r requirements.txt (line 3)) (3.1.40)\n",
      "Requirement already satisfied: pympler>=0.9 in c:\\users\\nicho\\anaconda3\\lib\\site-packages (from streamlit==1.22.0->-r requirements.txt (line 3)) (1.0.1)\n",
      "Requirement already satisfied: pandas<3,>=0.25 in c:\\users\\nicho\\anaconda3\\lib\\site-packages (from streamlit==1.22.0->-r requirements.txt (line 3)) (1.4.4)\n",
      "Requirement already satisfied: tzlocal>=1.1 in c:\\users\\nicho\\anaconda3\\lib\\site-packages (from streamlit==1.22.0->-r requirements.txt (line 3)) (5.2)\n",
      "Requirement already satisfied: regex>=2022.1.18 in c:\\users\\nicho\\anaconda3\\lib\\site-packages (from tiktoken==0.4.0->-r requirements.txt (line 4)) (2022.7.9)\n",
      "Requirement already satisfied: yarl<2.0,>=1.0 in c:\\users\\nicho\\anaconda3\\lib\\site-packages (from aiohttp<4.0.0,>=3.8.3->langchain==0.0.284->-r requirements.txt (line 1)) (1.9.4)\n",
      "Requirement already satisfied: multidict<7.0,>=4.5 in c:\\users\\nicho\\anaconda3\\lib\\site-packages (from aiohttp<4.0.0,>=3.8.3->langchain==0.0.284->-r requirements.txt (line 1)) (6.0.4)\n",
      "Requirement already satisfied: attrs>=17.3.0 in c:\\users\\nicho\\anaconda3\\lib\\site-packages (from aiohttp<4.0.0,>=3.8.3->langchain==0.0.284->-r requirements.txt (line 1)) (21.4.0)\n",
      "Requirement already satisfied: frozenlist>=1.1.1 in c:\\users\\nicho\\anaconda3\\lib\\site-packages (from aiohttp<4.0.0,>=3.8.3->langchain==0.0.284->-r requirements.txt (line 1)) (1.4.0)\n",
      "Requirement already satisfied: aiosignal>=1.1.2 in c:\\users\\nicho\\anaconda3\\lib\\site-packages (from aiohttp<4.0.0,>=3.8.3->langchain==0.0.284->-r requirements.txt (line 1)) (1.3.1)\n",
      "Requirement already satisfied: entrypoints in c:\\users\\nicho\\anaconda3\\lib\\site-packages (from altair<5,>=3.2.0->streamlit==1.22.0->-r requirements.txt (line 3)) (0.4)\n",
      "Requirement already satisfied: jinja2 in c:\\users\\nicho\\anaconda3\\lib\\site-packages (from altair<5,>=3.2.0->streamlit==1.22.0->-r requirements.txt (line 3)) (2.11.3)\n",
      "Requirement already satisfied: toolz in c:\\users\\nicho\\anaconda3\\lib\\site-packages (from altair<5,>=3.2.0->streamlit==1.22.0->-r requirements.txt (line 3)) (0.11.2)\n",
      "Requirement already satisfied: jsonschema>=3.0 in c:\\users\\nicho\\anaconda3\\lib\\site-packages (from altair<5,>=3.2.0->streamlit==1.22.0->-r requirements.txt (line 3)) (4.16.0)\n",
      "Requirement already satisfied: colorama in c:\\users\\nicho\\anaconda3\\lib\\site-packages (from click>=7.0->streamlit==1.22.0->-r requirements.txt (line 3)) (0.4.5)\n",
      "Requirement already satisfied: marshmallow<4.0.0,>=3.18.0 in c:\\users\\nicho\\anaconda3\\lib\\site-packages (from dataclasses-json<0.6.0,>=0.5.7->langchain==0.0.284->-r requirements.txt (line 1)) (3.20.1)\n",
      "Requirement already satisfied: typing-inspect<1,>=0.4.0 in c:\\users\\nicho\\anaconda3\\lib\\site-packages (from dataclasses-json<0.6.0,>=0.5.7->langchain==0.0.284->-r requirements.txt (line 1)) (0.9.0)\n",
      "Requirement already satisfied: gitdb<5,>=4.0.1 in c:\\users\\nicho\\anaconda3\\lib\\site-packages (from gitpython!=3.1.19->streamlit==1.22.0->-r requirements.txt (line 3)) (4.0.11)\n",
      "Requirement already satisfied: zipp>=0.5 in c:\\users\\nicho\\anaconda3\\lib\\site-packages (from importlib-metadata>=1.4->streamlit==1.22.0->-r requirements.txt (line 3)) (3.8.0)\n",
      "Requirement already satisfied: pyparsing!=3.0.5,>=2.0.2 in c:\\users\\nicho\\anaconda3\\lib\\site-packages (from packaging>=14.1->streamlit==1.22.0->-r requirements.txt (line 3)) (3.0.9)\n",
      "Requirement already satisfied: pytz>=2020.1 in c:\\users\\nicho\\anaconda3\\lib\\site-packages (from pandas<3,>=0.25->streamlit==1.22.0->-r requirements.txt (line 3)) (2022.1)\n",
      "Requirement already satisfied: pydantic-core==2.14.5 in c:\\users\\nicho\\anaconda3\\lib\\site-packages (from pydantic<3,>=1->langchain==0.0.284->-r requirements.txt (line 1)) (2.14.5)\n",
      "Requirement already satisfied: annotated-types>=0.4.0 in c:\\users\\nicho\\anaconda3\\lib\\site-packages (from pydantic<3,>=1->langchain==0.0.284->-r requirements.txt (line 1)) (0.6.0)\n",
      "Requirement already satisfied: six>=1.5 in c:\\users\\nicho\\anaconda3\\lib\\site-packages (from python-dateutil->streamlit==1.22.0->-r requirements.txt (line 3)) (1.16.0)\n",
      "Requirement already satisfied: urllib3<1.27,>=1.21.1 in c:\\users\\nicho\\anaconda3\\lib\\site-packages (from requests<3,>=2->langchain==0.0.284->-r requirements.txt (line 1)) (1.26.11)\n",
      "Requirement already satisfied: idna<4,>=2.5 in c:\\users\\nicho\\anaconda3\\lib\\site-packages (from requests<3,>=2->langchain==0.0.284->-r requirements.txt (line 1)) (3.3)\n",
      "Requirement already satisfied: charset-normalizer<3,>=2 in c:\\users\\nicho\\anaconda3\\lib\\site-packages (from requests<3,>=2->langchain==0.0.284->-r requirements.txt (line 1)) (2.0.4)\n",
      "Requirement already satisfied: certifi>=2017.4.17 in c:\\users\\nicho\\anaconda3\\lib\\site-packages (from requests<3,>=2->langchain==0.0.284->-r requirements.txt (line 1)) (2022.9.14)\n",
      "Requirement already satisfied: markdown-it-py>=2.2.0 in c:\\users\\nicho\\anaconda3\\lib\\site-packages (from rich>=10.11.0->streamlit==1.22.0->-r requirements.txt (line 3)) (3.0.0)\n",
      "Requirement already satisfied: pygments<3.0.0,>=2.13.0 in c:\\users\\nicho\\anaconda3\\lib\\site-packages (from rich>=10.11.0->streamlit==1.22.0->-r requirements.txt (line 3)) (2.17.2)\n",
      "Requirement already satisfied: greenlet!=0.4.17 in c:\\users\\nicho\\anaconda3\\lib\\site-packages (from SQLAlchemy<3,>=1.4->langchain==0.0.284->-r requirements.txt (line 1)) (1.1.1)\n",
      "Requirement already satisfied: tzdata in c:\\users\\nicho\\anaconda3\\lib\\site-packages (from tzlocal>=1.1->streamlit==1.22.0->-r requirements.txt (line 3)) (2023.3)\n",
      "Requirement already satisfied: smmap<6,>=3.0.1 in c:\\users\\nicho\\anaconda3\\lib\\site-packages (from gitdb<5,>=4.0.1->gitpython!=3.1.19->streamlit==1.22.0->-r requirements.txt (line 3)) (5.0.1)\n",
      "Requirement already satisfied: MarkupSafe>=0.23 in c:\\users\\nicho\\anaconda3\\lib\\site-packages (from jinja2->altair<5,>=3.2.0->streamlit==1.22.0->-r requirements.txt (line 3)) (2.0.1)\n",
      "Requirement already satisfied: pyrsistent!=0.17.0,!=0.17.1,!=0.17.2,>=0.14.0 in c:\\users\\nicho\\anaconda3\\lib\\site-packages (from jsonschema>=3.0->altair<5,>=3.2.0->streamlit==1.22.0->-r requirements.txt (line 3)) (0.18.0)\n",
      "Requirement already satisfied: mdurl~=0.1 in c:\\users\\nicho\\anaconda3\\lib\\site-packages (from markdown-it-py>=2.2.0->rich>=10.11.0->streamlit==1.22.0->-r requirements.txt (line 3)) (0.1.2)\n",
      "Requirement already satisfied: mypy-extensions>=0.3.0 in c:\\users\\nicho\\anaconda3\\lib\\site-packages (from typing-inspect<1,>=0.4.0->dataclasses-json<0.6.0,>=0.5.7->langchain==0.0.284->-r requirements.txt (line 1)) (0.4.3)\n",
      "Installing collected packages: protobuf\n",
      "  Attempting uninstall: protobuf\n",
      "    Found existing installation: protobuf 4.25.1\n",
      "    Uninstalling protobuf-4.25.1:\n",
      "      Successfully uninstalled protobuf-4.25.1\n",
      "Successfully installed protobuf-3.19.6\n"
     ]
    },
    {
     "name": "stderr",
     "output_type": "stream",
     "text": [
      "ERROR: pip's dependency resolver does not currently take into account all the packages that are installed. This behaviour is the source of the following dependency conflicts.\n",
      "grpcio-status 1.60.0 requires protobuf>=4.21.6, but you have protobuf 3.19.6 which is incompatible.\n"
     ]
    }
   ],
   "source": [
    "!pip install -r requirements.txt"
   ]
  },
  {
   "cell_type": "code",
   "execution_count": 2,
   "id": "da6033eb-df8c-41a8-a877-ce11807a0bab",
   "metadata": {},
   "outputs": [
    {
     "name": "stdout",
     "output_type": "stream",
     "text": [
      "Requirement already satisfied: google-generativeai in c:\\users\\nicho\\anaconda3\\lib\\site-packages (0.2.2)\n",
      "Requirement already satisfied: google-auth in c:\\users\\nicho\\anaconda3\\lib\\site-packages (from google-generativeai) (2.25.2)\n",
      "Requirement already satisfied: protobuf in c:\\users\\nicho\\anaconda3\\lib\\site-packages (from google-generativeai) (3.19.6)\n",
      "Requirement already satisfied: google-api-core in c:\\users\\nicho\\anaconda3\\lib\\site-packages (from google-generativeai) (2.15.0)\n",
      "Requirement already satisfied: google-ai-generativelanguage==0.3.3 in c:\\users\\nicho\\anaconda3\\lib\\site-packages (from google-generativeai) (0.3.3)\n",
      "Requirement already satisfied: tqdm in c:\\users\\nicho\\anaconda3\\lib\\site-packages (from google-generativeai) (4.64.1)\n",
      "Requirement already satisfied: proto-plus<2.0.0dev,>=1.22.0 in c:\\users\\nicho\\anaconda3\\lib\\site-packages (from google-ai-generativelanguage==0.3.3->google-generativeai) (1.23.0)\n",
      "Requirement already satisfied: requests<3.0.0.dev0,>=2.18.0 in c:\\users\\nicho\\anaconda3\\lib\\site-packages (from google-api-core->google-generativeai) (2.28.1)\n",
      "Requirement already satisfied: googleapis-common-protos<2.0.dev0,>=1.56.2 in c:\\users\\nicho\\anaconda3\\lib\\site-packages (from google-api-core->google-generativeai) (1.62.0)\n",
      "Requirement already satisfied: pyasn1-modules>=0.2.1 in c:\\users\\nicho\\anaconda3\\lib\\site-packages (from google-auth->google-generativeai) (0.2.8)\n",
      "Requirement already satisfied: rsa<5,>=3.1.4 in c:\\users\\nicho\\anaconda3\\lib\\site-packages (from google-auth->google-generativeai) (4.9)\n",
      "Requirement already satisfied: cachetools<6.0,>=2.0.0 in c:\\users\\nicho\\anaconda3\\lib\\site-packages (from google-auth->google-generativeai) (5.3.2)\n",
      "Requirement already satisfied: colorama in c:\\users\\nicho\\anaconda3\\lib\\site-packages (from tqdm->google-generativeai) (0.4.5)\n",
      "Requirement already satisfied: grpcio-status<2.0.dev0,>=1.33.2 in c:\\users\\nicho\\anaconda3\\lib\\site-packages (from google-api-core->google-generativeai) (1.60.0)\n",
      "Requirement already satisfied: grpcio<2.0dev,>=1.33.2 in c:\\users\\nicho\\anaconda3\\lib\\site-packages (from google-api-core->google-generativeai) (1.60.0)\n",
      "Requirement already satisfied: pyasn1<0.5.0,>=0.4.6 in c:\\users\\nicho\\anaconda3\\lib\\site-packages (from pyasn1-modules>=0.2.1->google-auth->google-generativeai) (0.4.8)\n",
      "Requirement already satisfied: idna<4,>=2.5 in c:\\users\\nicho\\anaconda3\\lib\\site-packages (from requests<3.0.0.dev0,>=2.18.0->google-api-core->google-generativeai) (3.3)\n",
      "Requirement already satisfied: charset-normalizer<3,>=2 in c:\\users\\nicho\\anaconda3\\lib\\site-packages (from requests<3.0.0.dev0,>=2.18.0->google-api-core->google-generativeai) (2.0.4)\n",
      "Requirement already satisfied: certifi>=2017.4.17 in c:\\users\\nicho\\anaconda3\\lib\\site-packages (from requests<3.0.0.dev0,>=2.18.0->google-api-core->google-generativeai) (2022.9.14)\n",
      "Requirement already satisfied: urllib3<1.27,>=1.21.1 in c:\\users\\nicho\\anaconda3\\lib\\site-packages (from requests<3.0.0.dev0,>=2.18.0->google-api-core->google-generativeai) (1.26.11)\n",
      "Collecting protobuf\n",
      "  Using cached protobuf-4.25.1-cp39-cp39-win_amd64.whl (413 kB)\n",
      "Installing collected packages: protobuf\n",
      "  Attempting uninstall: protobuf\n",
      "    Found existing installation: protobuf 3.19.6\n",
      "    Uninstalling protobuf-3.19.6:\n",
      "      Successfully uninstalled protobuf-3.19.6\n",
      "Successfully installed protobuf-4.25.1\n"
     ]
    },
    {
     "name": "stderr",
     "output_type": "stream",
     "text": [
      "ERROR: pip's dependency resolver does not currently take into account all the packages that are installed. This behaviour is the source of the following dependency conflicts.\n",
      "streamlit 1.22.0 requires protobuf<4,>=3.12, but you have protobuf 4.25.1 which is incompatible.\n",
      "mysql-connector-python 8.0.32 requires protobuf<=3.20.3,>=3.11.0, but you have protobuf 4.25.1 which is incompatible.\n"
     ]
    }
   ],
   "source": [
    "!pip install google-generativeai"
   ]
  },
  {
   "cell_type": "code",
   "execution_count": 3,
   "id": "8180097a-d1e8-4fff-8874-1ade9324f502",
   "metadata": {},
   "outputs": [
    {
     "name": "stdout",
     "output_type": "stream",
     "text": [
      "Requirement already satisfied: InstructorEmbedding in c:\\users\\nicho\\anaconda3\\lib\\site-packages (1.0.1)\n"
     ]
    }
   ],
   "source": [
    "!pip install InstructorEmbedding"
   ]
  },
  {
   "cell_type": "code",
   "execution_count": 5,
   "id": "f9d996c6-ded8-4bfb-a2b4-ae2d859be4d6",
   "metadata": {},
   "outputs": [
    {
     "name": "stdout",
     "output_type": "stream",
     "text": [
      "Collecting torch\n",
      "  Downloading torch-2.1.1-cp39-cp39-win_amd64.whl (192.2 MB)\n",
      "     ------------------------------------- 192.2/192.2 MB 11.3 MB/s eta 0:00:00\n",
      "Requirement already satisfied: networkx in c:\\users\\nicho\\anaconda3\\lib\\site-packages (from torch) (2.8.4)\n",
      "Requirement already satisfied: jinja2 in c:\\users\\nicho\\anaconda3\\lib\\site-packages (from torch) (2.11.3)\n",
      "Requirement already satisfied: typing-extensions in c:\\users\\nicho\\anaconda3\\lib\\site-packages (from torch) (4.9.0)\n",
      "Requirement already satisfied: fsspec in c:\\users\\nicho\\anaconda3\\lib\\site-packages (from torch) (2022.7.1)\n",
      "Requirement already satisfied: sympy in c:\\users\\nicho\\anaconda3\\lib\\site-packages (from torch) (1.10.1)\n",
      "Requirement already satisfied: filelock in c:\\users\\nicho\\anaconda3\\lib\\site-packages (from torch) (3.6.0)\n",
      "Requirement already satisfied: MarkupSafe>=0.23 in c:\\users\\nicho\\anaconda3\\lib\\site-packages (from jinja2->torch) (2.0.1)\n",
      "Requirement already satisfied: mpmath>=0.19 in c:\\users\\nicho\\anaconda3\\lib\\site-packages (from sympy->torch) (1.2.1)\n",
      "Installing collected packages: torch\n",
      "Successfully installed torch-2.1.1\n"
     ]
    }
   ],
   "source": [
    "!pip install torch"
   ]
  },
  {
   "cell_type": "code",
   "execution_count": 2,
   "id": "28130780-3828-4b11-8042-10cfc278e3a5",
   "metadata": {},
   "outputs": [
    {
     "name": "stdout",
     "output_type": "stream",
     "text": [
      "Collecting sentence-transformers\n",
      "  Using cached sentence-transformers-2.2.2.tar.gz (85 kB)\n",
      "  Preparing metadata (setup.py): started\n",
      "  Preparing metadata (setup.py): finished with status 'done'\n",
      "Collecting transformers<5.0.0,>=4.6.0\n",
      "  Downloading transformers-4.36.0-py3-none-any.whl (8.2 MB)\n",
      "     ---------------------------------------- 8.2/8.2 MB 6.5 MB/s eta 0:00:00\n",
      "Requirement already satisfied: tqdm in c:\\users\\nicho\\anaconda3\\lib\\site-packages (from sentence-transformers) (4.64.1)\n",
      "Requirement already satisfied: torch>=1.6.0 in c:\\users\\nicho\\anaconda3\\lib\\site-packages (from sentence-transformers) (2.1.1)\n",
      "Collecting torchvision\n",
      "  Downloading torchvision-0.16.1-cp39-cp39-win_amd64.whl (1.1 MB)\n",
      "     ---------------------------------------- 1.1/1.1 MB 14.5 MB/s eta 0:00:00\n",
      "Requirement already satisfied: numpy in c:\\users\\nicho\\anaconda3\\lib\\site-packages (from sentence-transformers) (1.21.5)\n",
      "Requirement already satisfied: scikit-learn in c:\\users\\nicho\\anaconda3\\lib\\site-packages (from sentence-transformers) (1.0.2)\n",
      "Requirement already satisfied: scipy in c:\\users\\nicho\\anaconda3\\lib\\site-packages (from sentence-transformers) (1.9.1)\n",
      "Requirement already satisfied: nltk in c:\\users\\nicho\\anaconda3\\lib\\site-packages (from sentence-transformers) (3.7)\n",
      "Collecting sentencepiece\n",
      "  Downloading sentencepiece-0.1.99-cp39-cp39-win_amd64.whl (977 kB)\n",
      "     ------------------------------------- 977.6/977.6 kB 15.4 MB/s eta 0:00:00\n",
      "Collecting huggingface-hub>=0.4.0\n",
      "  Downloading huggingface_hub-0.19.4-py3-none-any.whl (311 kB)\n",
      "     ------------------------------------- 311.7/311.7 kB 18.8 MB/s eta 0:00:00\n",
      "Requirement already satisfied: packaging>=20.9 in c:\\users\\nicho\\anaconda3\\lib\\site-packages (from huggingface-hub>=0.4.0->sentence-transformers) (21.3)\n",
      "Requirement already satisfied: typing-extensions>=3.7.4.3 in c:\\users\\nicho\\anaconda3\\lib\\site-packages (from huggingface-hub>=0.4.0->sentence-transformers) (4.9.0)\n",
      "Requirement already satisfied: pyyaml>=5.1 in c:\\users\\nicho\\anaconda3\\lib\\site-packages (from huggingface-hub>=0.4.0->sentence-transformers) (6.0)\n",
      "Requirement already satisfied: requests in c:\\users\\nicho\\anaconda3\\lib\\site-packages (from huggingface-hub>=0.4.0->sentence-transformers) (2.28.1)\n",
      "Collecting fsspec>=2023.5.0\n",
      "  Downloading fsspec-2023.12.1-py3-none-any.whl (168 kB)\n",
      "     -------------------------------------- 168.9/168.9 kB 9.9 MB/s eta 0:00:00\n",
      "Requirement already satisfied: filelock in c:\\users\\nicho\\anaconda3\\lib\\site-packages (from huggingface-hub>=0.4.0->sentence-transformers) (3.6.0)\n",
      "Requirement already satisfied: jinja2 in c:\\users\\nicho\\anaconda3\\lib\\site-packages (from torch>=1.6.0->sentence-transformers) (2.11.3)\n",
      "Requirement already satisfied: sympy in c:\\users\\nicho\\anaconda3\\lib\\site-packages (from torch>=1.6.0->sentence-transformers) (1.10.1)\n",
      "Requirement already satisfied: networkx in c:\\users\\nicho\\anaconda3\\lib\\site-packages (from torch>=1.6.0->sentence-transformers) (2.8.4)\n",
      "Requirement already satisfied: colorama in c:\\users\\nicho\\anaconda3\\lib\\site-packages (from tqdm->sentence-transformers) (0.4.5)\n",
      "Requirement already satisfied: regex!=2019.12.17 in c:\\users\\nicho\\anaconda3\\lib\\site-packages (from transformers<5.0.0,>=4.6.0->sentence-transformers) (2022.7.9)\n",
      "Collecting tokenizers<0.19,>=0.14\n",
      "  Downloading tokenizers-0.15.0-cp39-none-win_amd64.whl (2.2 MB)\n",
      "     ---------------------------------------- 2.2/2.2 MB 17.5 MB/s eta 0:00:00\n",
      "Collecting safetensors>=0.3.1\n",
      "  Downloading safetensors-0.4.1-cp39-none-win_amd64.whl (277 kB)\n",
      "     ------------------------------------- 277.8/277.8 kB 16.7 MB/s eta 0:00:00\n",
      "Requirement already satisfied: click in c:\\users\\nicho\\anaconda3\\lib\\site-packages (from nltk->sentence-transformers) (8.0.4)\n",
      "Requirement already satisfied: joblib in c:\\users\\nicho\\anaconda3\\lib\\site-packages (from nltk->sentence-transformers) (1.1.0)\n",
      "Requirement already satisfied: threadpoolctl>=2.0.0 in c:\\users\\nicho\\anaconda3\\lib\\site-packages (from scikit-learn->sentence-transformers) (2.2.0)\n",
      "Requirement already satisfied: pillow!=8.3.*,>=5.3.0 in c:\\users\\nicho\\anaconda3\\lib\\site-packages (from torchvision->sentence-transformers) (9.2.0)\n",
      "Requirement already satisfied: pyparsing!=3.0.5,>=2.0.2 in c:\\users\\nicho\\anaconda3\\lib\\site-packages (from packaging>=20.9->huggingface-hub>=0.4.0->sentence-transformers) (3.0.9)\n",
      "Requirement already satisfied: MarkupSafe>=0.23 in c:\\users\\nicho\\anaconda3\\lib\\site-packages (from jinja2->torch>=1.6.0->sentence-transformers) (2.0.1)\n",
      "Requirement already satisfied: urllib3<1.27,>=1.21.1 in c:\\users\\nicho\\anaconda3\\lib\\site-packages (from requests->huggingface-hub>=0.4.0->sentence-transformers) (1.26.11)\n",
      "Requirement already satisfied: certifi>=2017.4.17 in c:\\users\\nicho\\anaconda3\\lib\\site-packages (from requests->huggingface-hub>=0.4.0->sentence-transformers) (2022.9.14)\n",
      "Requirement already satisfied: idna<4,>=2.5 in c:\\users\\nicho\\anaconda3\\lib\\site-packages (from requests->huggingface-hub>=0.4.0->sentence-transformers) (3.3)\n",
      "Requirement already satisfied: charset-normalizer<3,>=2 in c:\\users\\nicho\\anaconda3\\lib\\site-packages (from requests->huggingface-hub>=0.4.0->sentence-transformers) (2.0.4)\n",
      "Requirement already satisfied: mpmath>=0.19 in c:\\users\\nicho\\anaconda3\\lib\\site-packages (from sympy->torch>=1.6.0->sentence-transformers) (1.2.1)\n",
      "Building wheels for collected packages: sentence-transformers\n",
      "  Building wheel for sentence-transformers (setup.py): started\n",
      "  Building wheel for sentence-transformers (setup.py): finished with status 'done'\n",
      "  Created wheel for sentence-transformers: filename=sentence_transformers-2.2.2-py3-none-any.whl size=125925 sha256=6147396b30e97e615edba1c40f6fd21d3d1c3d8796ed1768e42a04ad188e322d\n",
      "  Stored in directory: c:\\users\\nicho\\appdata\\local\\pip\\cache\\wheels\\71\\67\\06\\162a3760c40d74dd40bc855d527008d26341c2b0ecf3e8e11f\n",
      "Successfully built sentence-transformers\n",
      "Installing collected packages: sentencepiece, safetensors, fsspec, huggingface-hub, torchvision, tokenizers, transformers, sentence-transformers\n",
      "  Attempting uninstall: fsspec\n",
      "    Found existing installation: fsspec 2022.7.1\n",
      "    Uninstalling fsspec-2022.7.1:\n",
      "      Successfully uninstalled fsspec-2022.7.1\n",
      "Successfully installed fsspec-2023.12.1 huggingface-hub-0.19.4 safetensors-0.4.1 sentence-transformers-2.2.2 sentencepiece-0.1.99 tokenizers-0.15.0 torchvision-0.16.1 transformers-4.36.0\n"
     ]
    }
   ],
   "source": [
    "!pip install sentence-transformers"
   ]
  },
  {
   "cell_type": "code",
   "execution_count": 6,
   "id": "6f9f44fb-40db-416b-bd9b-304ce040c081",
   "metadata": {},
   "outputs": [],
   "source": [
    "from langchain.llms import GooglePalm\n",
    "api_key = \"\"\n",
    "llm = GooglePalm(google_api_key=api_key, temperature=0.7) # higher temperature equals more creative, lower temperature equals less creative"
   ]
  },
  {
   "cell_type": "code",
   "execution_count": 7,
   "id": "3b2f256c-d82b-4afc-8dbd-60c08c31d23a",
   "metadata": {},
   "outputs": [],
   "source": [
    "from langchain.document_loaders.csv_loader import CSVLoader\n",
    "loader = CSVLoader(file_path='uwi_dcit_faqs.csv', source_column='prompt')\n",
    "data = loader.load()"
   ]
  },
  {
   "cell_type": "code",
   "execution_count": 8,
   "id": "284dcee6-10f9-4822-a0ef-ed1791f3bbf7",
   "metadata": {},
   "outputs": [
    {
     "data": {
      "text/plain": [
       "[Document(page_content='prompt: How many undergraduate programmes do you offer ?\\nresponse: We offer 8 undergraduate courses.', metadata={'source': 'How many undergraduate programmes do you offer ?', 'row': 0}),\n",
       " Document(page_content='prompt: What undergraduate programmes do you offer ?\\nresponse: At the undergraduate level we offer the following B.Sc. Programs for new students as of 2023/2024 semester: B.Sc. Computer Science (Special); B.Sc. Computer Science and Management; Major in Computer Science; Minor in Computer Science; B.Sc. Information Technology (Special); Major in Information Technology; Minor in Information Technology; B.Sc. Software Engineering (Mobile Applications Technologies.', metadata={'source': 'What undergraduate programmes do you offer ?', 'row': 1}),\n",
       " Document(page_content='prompt: What is the B.Sc. Computer Science (Special) programme / Degree ?\\nresponse: The B.Sc. Computer Science (Special) programme consists of 3 levels of computer science and information technology courses and foundation courses. At the end of the programme the student will have accumulated 93 total credits for their degree. The courses are chosen for students to complete except for the electives. A student has less flexibility in the courses they can choose.', metadata={'source': 'What is the B.Sc. Computer Science (Special) programme / Degree ?', 'row': 2}),\n",
       " Document(page_content='prompt: What were the old programmes available for students before 2023/2024\\nresponse: We offered the following B.Sc. Programs (old): B.Sc. Computer Science (Special); B.Sc. Computer Science and Management; B.Sc. General with a Major/Minor in Computer Science; B.Sc. Information Technology (Special); B.Sc. General with Major/Minor in Information Technology; B.Sc. Software Engineering (Mobile Applications Technologies.', metadata={'source': 'What were the old programmes available for students before 2023/2024', 'row': 3}),\n",
       " Document(page_content='prompt: What are the courses offered in the computer science (special) programme ?\\nresponse: the Computer Science program offers a meticulously designed curriculum aimed at providing students with a comprehensive education in the field. The first level (Level 1) comprises 24 credits, covering fundamental courses such as Introduction to Computing Concepts, Computer Programming I, II, and III, Mathematics for Computing, and Introduction to Information Technology Concepts. Notably, students with appropriate qualifications can seek exemptions from Fundamental Mathematics, fostering flexibility.\\n\\nAdvancing to Level II and Level III, the curriculum expands to 45 credits with courses like Computer Architecture, Computer Networks, Object-Oriented Programming I, Operating Systems, Enterprise Database Systems, Software Engineering I, Data Structures, Web Programming and Technologies I, Information Systems Security, Industrial Statistics, Design and Analysis of Algorithms, Theory of Computing, Human-Computer Interaction, Applied Mathematics for Scientific Computing, and Project.\\n\\nThe program also offers a specialized track, the B.Sc. Computer Science (Special), featuring elective courses at Level II and Level III. These elective courses cover diverse areas such as Introduction to Data Analytics, Wireless and Mobile Computing, Object-Oriented Programming II, Intelligent Systems, Game Programming, Big Data Analytics, Modelling and Simulation, Special Topics in Computer Science, Software Engineering II, Professional Ethics and Law, Business Information Systems, Fundamentals of LAN Technologies, Cloud Computing, Fundamentals of WAN Technologies, E-Commerce, Internship I and II, and Database Administration.\\n\\nTo further enrich the academic experience, students are required to complete Foundation Courses, including Caribbean Civilization, Scientific and Technical Writing, and Law, Governance, Economy, and Society. Additionally, language requirements are flexible, allowing students with foreign language passes to be exempted from language courses.', metadata={'source': 'What are the courses offered in the computer science (special) programme ?', 'row': 4}),\n",
       " Document(page_content='prompt: Do you provide any internships ?\\nresponse: The department offers an optional internship programme for students pursuing a degree in Computer Science or Information Technology. Students participate in the programme by registering for either INFO 3609, a 3-credit or INFO 3610, a 6-credit Internship course. However, students are not allowed to read both INFO 3609 and INFO 3610. More details are available from the Department. The internship programme will be helpful in: Providing practical training to students during their degree programme; Providing experience in the working environment, and Preparing for future jobs.', metadata={'source': 'Do you provide any internships ?', 'row': 5}),\n",
       " Document(page_content='prompt: Do you provide any bootcamps ?\\nresponse: Yes, we offer a bootcamp during the summer for the past 7 years.', metadata={'source': 'Do you provide any bootcamps ?', 'row': 6}),\n",
       " Document(page_content='prompt: What is the duration of the bootcamps? How long will they last?\\nresponse: The bootcamp usually begins in the summer in the months of July and August. The exact date and times vary each year. You can subscribe to our mailing list to receive important updates on availability and special offers. 5 lucky subscribers will be awarded a scholarship to enroll for free! : https://mailchi.mp/dabae41ae867/dcit-bootcamp', metadata={'source': 'What is the duration of the bootcamps? How long will they last?', 'row': 7}),\n",
       " Document(page_content='prompt: How do I enrol in the bootcamp ?\\nresponse: Enrolment Steps: Pay the enrolment fee via the payment options below (online payments will become available later). Submit the proof of payment at the enrolment form link (currently there is no updated link for 2024). You will receive an email confirming your spot.', metadata={'source': 'How do I enrol in the bootcamp ?', 'row': 8}),\n",
       " Document(page_content='prompt: What kind of skills can I expect to learn in this bootcamp?\\nresponse: You can expect to learn multiple tech skills from different domains in Information Technology. Each year there is a possibility of a different theme. Skills such as HTML/CSS/Javascript, AJAX & Web APIs, User interface Design and web animations, cyber security concepts and databse concepts.', metadata={'source': 'What kind of skills can I expect to learn in this bootcamp?', 'row': 9}),\n",
       " Document(page_content='prompt: Who can enrol in the bootcamps ?\\nresponse: The bootcamp is designed for students in Forms 4, 5 and 6 in secondary schools and students entering university undergraduate programmes.', metadata={'source': 'Who can enrol in the bootcamps ?', 'row': 10}),\n",
       " Document(page_content='prompt: What would activities include ?\\nresponse: The sessions commonly include activities such as live lectures, guided labs with demonstrators, take home practice exercises, projects and presentations. At the end participants are awarded a certificate.', metadata={'source': 'What would activities include ?', 'row': 11}),\n",
       " Document(page_content='prompt: What are the payment options ?\\nresponse: There are 2 types of payment options. 1. Bank Payment: The account information needed to complete payments to us at Republic Bank Limited (any branch or online) is as follows: Account Name:      The University of the West Indies, Account Number:   160-284-614-001, Account Type:        Chequing, Reason for payment:  (To be stated on bank slip or via Internet banking): E.g. DCIT Boot Camp 2023. 2. Online Credit Card Payment: To pay via credit card please click the following link: Boot Camp 2023 Online Payment: https://secure.touchnet.net/C24203_ustores/web/store_main.jsp?STOREID=78&SINGLESTORE=true', metadata={'source': 'What are the payment options ?', 'row': 12}),\n",
       " Document(page_content='prompt: Do you provide any virtual internship?\\nresponse: Yes, but it is entirely dependent on the company that has partnered with us.', metadata={'source': 'Do you provide any virtual internship?', 'row': 13}),\n",
       " Document(page_content='prompt: Will this bootcamp guarantee me a job?\\nresponse: Our guarantee is to prepare you for a career in tech and provide you with an introduction to the topics covered at the university.', metadata={'source': 'Will this bootcamp guarantee me a job?', 'row': 14}),\n",
       " Document(page_content='prompt: I have zero knowledge of coding. Can I take this course?\\nresponse: Yes, this is the perfect course for anyone who has never coded and wants to begin.', metadata={'source': 'I have zero knowledge of coding. Can I take this course?', 'row': 15}),\n",
       " Document(page_content='prompt: What are the things I need to know before starting this course?\\nresponse: This course is for absolute beginners hence you do not need any specific skills other than basic familiarity with computers', metadata={'source': 'What are the things I need to know before starting this course?', 'row': 16}),\n",
       " Document(page_content='prompt: What is different in this course compared to hundreds of courses on the internet and free tutorials on YouTube?\\nresponse: Our course stands out from the multitude of online courses and free tutorials available on platforms like YouTube in several significant ways. Firstly, our courses are meticulously curated and developed by experienced faculty members from our esteemed university, ensuring a high standard of academic content and relevance. Each module is designed to build upon the previous one, offering a cohesive and in-depth understanding of the subject matter. Additionally, participants in our courses benefit from direct interaction with university lecturers. This unique aspect allows for personalized feedback, clarification of doubts, and the opportunity to engage in meaningful discussions. Furthermore, upon successful completion of our courses, participants receive a university-issued certificate', metadata={'source': 'What is different in this course compared to hundreds of courses on the internet and free tutorials on YouTube?', 'row': 17}),\n",
       " Document(page_content='prompt: Can I add this course to my resume?\\nresponse: Yes. Absolutely you can mention this experience in your resume with the relevant skills that you will learn from this course.', metadata={'source': 'Can I add this course to my resume?', 'row': 18}),\n",
       " Document(page_content='prompt: I want to know more about the Computer science with management programme.\\nresponse: B.Sc. Computer Science and Management Overview: **Level 1 (24 Credits):** In the first level of the program, students will engage with foundational courses designed to provide a comprehensive understanding of both computer science and management. These courses include: - ACCT 1002: Introduction to Financial Accounting, - ACCT 1003: Introduction to Cost and Managerial Accounting, - COMP 1600: Introduction to Computing Concepts, - COMP 1601: Computer Programming I, - COMP 1602: Computer Programming II, - COMP 1603: Computer Programming III, - ECON 1001: Introduction to Economics I, - ECON 1002: Introduction to Economics II, **Level II/Level III (33 Credits):** As students progress to the second and third levels, the curriculum becomes more specialized. Courses in computer architecture, networks, programming, data structures, and managerial concepts are introduced. Notable courses include: - COMP 2601: Computer Architecture, - COMP 2602: Computer Networks, - COMP 2603: Object-Oriented Programming I, - COMP 2604: Operating Systems, - COMP 2605: Enterprise Database Systems, - COMP 2611: Data Structures, - MGMT 2008: Organisational Behaviour, - MGMT 2021: Business Law I, - MGMT 2032: Managerial Economics, - MKTG 2001: Principles of Marketing,  **CORE OPTIONS: Level II/Level III (3 Credits):** Students can choose from a selection of core options, including courses in management accounting, quantitative methods, financial management, and marketing management. - ACCT 2017: Management Accounting (Prerequisites: ACCT 1002 and ACCT 1003), - MGMT 2012: Quantitative Methods (Prerequisite: COMP 1601), - MGMT 2023: Financial Management I (Prerequisite: COMP 1601), - MKTG 3000: Marketing Management (Prerequisite: MKTG 2001), **ELECTIVE (12 Credits): Level II/Level III:** The program offers a wide range of elective courses allowing students to tailor their education to their interests. These cover various areas such as software engineering, data analytics, game programming, information systems security, and more. **ADDITIONAL ELECTIVES (15 Credits):**, Students can choose from a variety of Level II/III credits in computer science, economics, information technology, mathematics, or management courses. **Foundation Courses (9 Credits):**, Completing the program, students will take foundational courses providing a broader understanding of Caribbean civilization, scientific and technical writing, and law, governance, economy, and society., - FOUN 1101: Caribbean Civilization, - FOUN 1105: Scientific and Technical Writing, - FOUN 1301: Law, Governance, Economy and Society, **Note:** Students without a foreign language pass may have different requirements for FOUN 1101, as specified by language proficiency at matriculation.', metadata={'source': 'I want to know more about the Computer science with management programme.', 'row': 19}),\n",
       " Document(page_content='prompt: What dataset is used in this course? Is it some toy dataset or something that mimics a real-world problem?\\nresponse: For initial basics, we have used a toy dataset of movies but for advanced concepts, we used a dataset that is crafted to mimic the real business world by consolidating our years of experience and the FMCG industry. That dataset contains more than 1 million records.', metadata={'source': 'What dataset is used in this course? Is it some toy dataset or something that mimics a real-world problem?', 'row': 20}),\n",
       " Document(page_content='prompt: What sort of facilities does DCIT offer to students ?\\nresponse: The Department of Computing and Information Technology (DCIT) has numerous labs and facilities for undergraduate students, postgraduate students and staff members.', metadata={'source': 'What sort of facilities does DCIT offer to students ?', 'row': 21}),\n",
       " Document(page_content='prompt: What are these lab facilities offered ?\\nresponse: The DCIT computer science laboratory actually consists of three labs each separated by a wooden partition. The third computer lab has been renovated to produce a postgraduate computer lab, namely Lab 3. The other two labs Lab 1 and Lab 2 provide an up to date facility for teaching and practical work. The list below shows the computer specifications used in the labs. MSCIT Projects Lab Walk-in Lab for students from the Department of Computing and Information Technology and from the Department of Mathematics and Statistics. Computer Login: To logon to machines in the lab use your id number and password. Initially your password will be your date of birth in the form yyyymmdd. You will be prompted to change your password on first logon.', metadata={'source': 'What are these lab facilities offered ?', 'row': 22}),\n",
       " Document(page_content='prompt: I have never done programming and belong to a non-technical background. Can I take these programmes?\\nresponse: Yes you can apply for these programmes but Entry Requirements are Two 2-Unit CAPE (GCE A-Level or equivalent) subjects including 1 Science subject are required for admission into the listed undergraduate programmes. An approved Associate Degree or equivalent certification from a recognised tertiary-level institution would be considered upon application.', metadata={'source': 'I have never done programming and belong to a non-technical background. Can I take these programmes?', 'row': 23}),\n",
       " Document(page_content=\"prompt: I don’t have a laptop, can I take these programmes ?\\nresponse: We recommend learning by doing and therefore it is beneficial to have a laptop or a PC (at least 4 GB ram) but we have lab facilities for students to utilize in the event they don't have laptops.\", metadata={'source': 'I don’t have a laptop, can I take these programmes ?', 'row': 24}),\n",
       " Document(page_content=\"prompt: Which operating system is better to have as a student ?\\nresponse: The type of Operating systems depends on the student's ability. You should use whichever you are comfortable with, however we do have a course on operating systems which will give you an appreciation for unix/linux based systems.\", metadata={'source': 'Which operating system is better to have as a student ?', 'row': 25}),\n",
       " Document(page_content='prompt: Will this programme guarantee me a job?\\nresponse: The UWI provide many opportunities to prepare students for the World of Work. DCIT offers internships to gain real world experience while completing course credits and being paid. However, we want to be honest and do not want to make any impractical promises! Our guarantee is to prepare you for the job market by teaching the most relevant skills, knowledge & timeless principles good enough to fetch the job.', metadata={'source': 'Will this programme guarantee me a job?', 'row': 26}),\n",
       " Document(page_content='prompt: Are there any prerequisites for taking this courses from programmes ?\\nresponse: You can find a list of handbooks at this link : https://sta.uwi.edu/faculty-booklet-archive/', metadata={'source': 'Are there any prerequisites for taking this courses from programmes ?', 'row': 27}),\n",
       " Document(page_content='prompt: Where is DCIT located ?\\nresponse: The Department of Computing and Information Technology is located on the second floor of the Faculty of Science and Technology building at The University of the West Indies, St. Augustine Campus, Trinidad & Tobago, West Indies. You can use this link to view uwi campus map at the Faculty of Science and Technology : https://uwi.maps.arcgis.com/apps/webappviewer/index.html?id=d2926d682c3c415ba00cf26e1d8ffec7', metadata={'source': 'Where is DCIT located ?', 'row': 28}),\n",
       " Document(page_content='prompt: How do I get in contact with DCIT ?\\nresponse: Department of Computing and Information Technology Secretariat SENIOR ADMINISTRATIVE ASSISTANT, Name: Mrs. Avril Patterson-Pierre BA (HW), Telephone: 868-662-2002 ext 85382, Email: Avril.Patterson-Pierre@sta.uwi.edu, ACTING SECRETARY , Name: Mrs. Natasha Richards-Isaac BSc (UWI) MSc (UWI), Telephone: 868-662-2002 ext 8-3080/ 868-662-2002 ext 85383, Email: Natasha.richards@sta.uwi.edu, CLERICAL ASSISTANTS, Name: Mrs. Niala Ragoo BA (UH), Telehphone: 868-662-2002 ext 85385, Email: niala.ragoo@sta.uwi.edu, Name: Mr. Nirvan Bhagwandeen\\nTelephone: 868-662-2002 ext 85384/ 83640\\nEmail: nirvan.bhagwandeen@sta.uwi.edu\\nMailing Address: Department of Computing and Information Technology, Faculty of Science and Technology, The University of the West Indies, St. Augustine Campus, Trinidad and Tobago, West Indies, Telephone: (868) 662-2002 Ext. 83080/83640, E-mail: dcit@sta.uwi.edu', metadata={'source': 'How do I get in contact with DCIT ?', 'row': 29}),\n",
       " Document(page_content='prompt: What is the difference between a major in computer science and computer science (special)\\nresponse: The distinction between a major in Computer Science and a Computer Science (Special) program lies in the breadth and focus of the academic experience. Opting for a major in Computer Science offers students the flexibility to tailor their degree by selecting courses from outside the Department of Computing and Information. This unique feature allows for a diversified educational experience, enabling individuals to explore interdisciplinary subjects and acquire a well-rounded skill set. On the other hand, the Computer Science (Special) program provides a more focused and curated curriculum, concentrating solely on courses within the realm of Computer Science and Information Technology. This specialization ensures an in-depth immersion into the core aspects of the field, allowing students to develop specialized expertise and proficiency in key areas of computer science. Whether one chooses the flexibility of a major with diverse course options or the focused depth of a Computer Science (Special) program, both pathways cater to distinct preferences and career goals within the dynamic and rapidly evolving field of computer science.', metadata={'source': 'What is the difference between a major in computer science and computer science (special)', 'row': 30}),\n",
       " Document(page_content=\"prompt: What is the Major in Computer science programme about ?\\nresponse: The Computer Science major consists of a comprehensive curriculum designed to equip students with a strong foundation in computing concepts and skills. In the initial level (Level 1), students undertake essential courses such as Introduction to Computing Concepts, Computer Programming I and II, and Mathematics for Computing, each providing fundamental knowledge without specific prerequisites.\\n\\nMoving on to Level II and Level III, students delve deeper into the field with courses like Computer Architecture, Computer Networks, Object-Oriented Programming I, Operating Systems, Enterprise Database Systems, and Data Structures. These courses build upon the foundational knowledge gained in Level 1 and establish a solid understanding of advanced concepts in computer science.\\n\\nThe major also offers a range of elective courses at Level II and Level III, allowing students to tailor their education to their interests and career goals. Electives cover diverse topics including Software Engineering, Design and Analysis of Algorithms, Theory of Computing, Human-Computer Interaction, Introduction to Data Analytics, Wireless and Mobile Computing, Object-Oriented Programming II, Game Programming, Big Data Analytics, Modelling and Simulation, and Software Engineering II. Additionally, students can explore related areas such as Web Programming, Information Systems Security, Professional Ethics and Law, Business Information Systems, and Cloud Computing.\\n\\nThe inclusion of internships and specialized courses like E-Commerce reflects the major's commitment to providing practical experiences and real-world applications. Overall, the Computer Science major offers a well-rounded and structured curriculum, ensuring students acquire both foundational knowledge and specialized skills to thrive in the dynamic field of computer science.\", metadata={'source': 'What is the Major in Computer science programme about ?', 'row': 31}),\n",
       " Document(page_content=\"prompt: What is the B.Sc. Information Technology programme ?\\nresponse: The B.Sc. Information Technology (Special) program offers a meticulously crafted curriculum that ensures a comprehensive and specialized education in the field. In the foundational Level I (24 Credits), students are introduced to fundamental courses such as Introduction to Computing Concepts, Computer Programming I-III, Mathematics of Computing, and Introduction to Information Technology Concepts, providing a solid base for advanced studies. Notably, flexibility is incorporated through exemptions for students with qualifying passes in Pure Mathematics at CAPE Units I & II or GCE A-Level, allowing them to pursue alternative courses as approved by the Head of Department.\\n\\nMoving to Level II/Level III (45 Credits), the core courses delve into essential areas including Object-Oriented Programming, Enterprise Database Systems, Software Engineering, Human-Computer Interaction, Information Systems Development, Networking Technologies Fundamentals, Web Programming and Technologies, Platform Technologies, Information Systems Security, Professional Ethics and Law, Business Information Systems, and Project. The inclusion of Industrial Statistics enhances the program's practical applicability.\\n\\nThe elective component at Level II/Level III (15 Credits) further enables students to tailor their education, offering courses such as Introduction to Data Analytics, Object-Oriented Programming II, Game Programming, Big Data Analytics, Special Topics in Computer Science, Fundamentals of LAN Technologies, Cloud Computing, Fundamentals of WAN Technologies, E-Commerce, Internship I and II, and Database Administration.\\n\\nTo enrich the academic experience, students are required to complete Foundation Courses (9 Credits), covering Caribbean Civilization, Scientific and Technical Writing, and Law, Governance, Economy, and Society. The program recognizes language diversity, providing exemptions for students with foreign language passes and offering alternatives to meet foreign language requirements.\", metadata={'source': 'What is the B.Sc. Information Technology programme ?', 'row': 32})]"
      ]
     },
     "execution_count": 8,
     "metadata": {},
     "output_type": "execute_result"
    }
   ],
   "source": [
    "data"
   ]
  },
  {
   "cell_type": "code",
   "execution_count": null,
   "id": "af8ead70-030d-4b78-b1a4-4a4fd6c2df86",
   "metadata": {},
   "outputs": [],
   "source": []
  },
  {
   "cell_type": "markdown",
   "id": "d0c739c7-d2e4-4242-85f7-e91b827f26b0",
   "metadata": {},
   "source": [
    "## Create an embedding using hugging face instructor embeddings\n",
    "\n",
    "[Link to more info on embeddings](https://python.langchain.com/docs/integrations/text_embedding/huggingfacehub)"
   ]
  },
  {
   "cell_type": "code",
   "execution_count": 9,
   "id": "78ad51d8-7ce9-4f09-b24e-b49cf8d8146c",
   "metadata": {},
   "outputs": [
    {
     "name": "stdout",
     "output_type": "stream",
     "text": [
      "load INSTRUCTOR_Transformer\n",
      "max_seq_length  512\n"
     ]
    }
   ],
   "source": [
    "from langchain.embeddings import HuggingFaceInstructEmbeddings\n",
    "from langchain.vectorstores import FAISS\n",
    "\n",
    "instruct_embeddings = HuggingFaceInstructEmbeddings()\n",
    "# Using vectordb in memory for experimenting\n",
    "vector_database = FAISS.from_documents(documents=data, embedding=instruct_embeddings)"
   ]
  },
  {
   "cell_type": "code",
   "execution_count": 10,
   "id": "2d13b1a3-1053-4ba4-9df2-9e38fb97b0b9",
   "metadata": {},
   "outputs": [],
   "source": [
    "# This object job is whenever a question is asked it creates an embedding of that question then pull similar looking vectors from the vector db\n",
    "retriever = vector_database.as_retriever(score_threshold=0.7)"
   ]
  },
  {
   "cell_type": "code",
   "execution_count": 12,
   "id": "b88674c6-f477-4dda-850a-65a3431047f6",
   "metadata": {},
   "outputs": [
    {
     "data": {
      "text/plain": [
       "[Document(page_content='prompt: Will this programme guarantee me a job?\\nresponse: The UWI provide many opportunities to prepare students for the World of Work. DCIT offers internships to gain real world experience while completing course credits and being paid. However, we want to be honest and do not want to make any impractical promises! Our guarantee is to prepare you for the job market by teaching the most relevant skills, knowledge & timeless principles good enough to fetch the job.', metadata={'source': 'Will this programme guarantee me a job?', 'row': 26}),\n",
       " Document(page_content='prompt: Do you provide any internships ?\\nresponse: The department offers an optional internship programme for students pursuing a degree in Computer Science or Information Technology. Students participate in the programme by registering for either INFO 3609, a 3-credit or INFO 3610, a 6-credit Internship course. However, students are not allowed to read both INFO 3609 and INFO 3610. More details are available from the Department. The internship programme will be helpful in: Providing practical training to students during their degree programme; Providing experience in the working environment, and Preparing for future jobs.', metadata={'source': 'Do you provide any internships ?', 'row': 5}),\n",
       " Document(page_content='prompt: Will this bootcamp guarantee me a job?\\nresponse: Our guarantee is to prepare you for a career in tech and provide you with an introduction to the topics covered at the university.', metadata={'source': 'Will this bootcamp guarantee me a job?', 'row': 14}),\n",
       " Document(page_content='prompt: Do you provide any virtual internship?\\nresponse: Yes, but it is entirely dependent on the company that has partnered with us.', metadata={'source': 'Do you provide any virtual internship?', 'row': 13})]"
      ]
     },
     "execution_count": 12,
     "metadata": {},
     "output_type": "execute_result"
    }
   ],
   "source": [
    "retrieved_docs = retriever.get_relevant_documents(\"How about job placement support ?\")\n",
    "retrieved_docs"
   ]
  },
  {
   "cell_type": "markdown",
   "id": "5241cb30-0476-4f70-a0b9-b1373d2334a2",
   "metadata": {},
   "source": [
    "## Resources\n",
    "\n",
    "[Langchain repository hub](https://smith.langchain.com/hub)\n",
    "\n",
    "[Python langchain documentation](https://python.langchain.com/docs/modules/data_connection/retrievers/web_research)"
   ]
  },
  {
   "cell_type": "code",
   "execution_count": 15,
   "id": "97ea18af-18f2-4522-8923-6230ffa25fc4",
   "metadata": {},
   "outputs": [],
   "source": [
    "from langchain.prompts import PromptTemplate\n",
    "\n",
    "prompt_template = \"\"\"Given the following context and a question, generate an answer based on this context only.\n",
    "In the answer try to provide as much text as possible from \"response\" section in the source document context without making much changes.\n",
    "If the answer is not found in the context, kindly state \"I don't know.\" Don't try to make up an answer.\n",
    "\n",
    "CONTEXT: {context}\n",
    "\n",
    "QUESTION: {question}\"\"\"\n",
    "\n",
    "\n",
    "PROMPT = PromptTemplate(\n",
    "    template=prompt_template, input_variables=[\"context\", \"question\"]\n",
    ")\n",
    "chain_type_kwargs = {\"prompt\": PROMPT}\n",
    "from langchain.chains import RetrievalQA\n",
    "retrieval_qa_chain = RetrievalQA.from_chain_type(\n",
    "    llm=llm,\n",
    "    chain_type=\"stuff\",\n",
    "    retriever=retriever,\n",
    "    input_key=\"query\",\n",
    "    return_source_documents=True,\n",
    "    chain_type_kwargs=chain_type_kwargs\n",
    ")"
   ]
  },
  {
   "cell_type": "code",
   "execution_count": 16,
   "id": "fe421b17-385d-4360-a8b6-0c51159ba578",
   "metadata": {},
   "outputs": [
    {
     "data": {
      "text/plain": [
       "{'query': 'Do you provide job assistance and also do you provide job gurantee?',\n",
       " 'result': 'The UWI provide many opportunities to prepare students for the World of Work. DCIT offers internships to gain real world experience while completing course credits and being paid. However, we want to be honest and do not want to make any impractical promises! Our guarantee is to prepare you for the job market by teaching the most relevant skills, knowledge & timeless principles good enough to fetch the job.',\n",
       " 'source_documents': [Document(page_content='prompt: Will this bootcamp guarantee me a job?\\nresponse: Our guarantee is to prepare you for a career in tech and provide you with an introduction to the topics covered at the university.', metadata={'source': 'Will this bootcamp guarantee me a job?', 'row': 14}),\n",
       "  Document(page_content='prompt: Will this programme guarantee me a job?\\nresponse: The UWI provide many opportunities to prepare students for the World of Work. DCIT offers internships to gain real world experience while completing course credits and being paid. However, we want to be honest and do not want to make any impractical promises! Our guarantee is to prepare you for the job market by teaching the most relevant skills, knowledge & timeless principles good enough to fetch the job.', metadata={'source': 'Will this programme guarantee me a job?', 'row': 26}),\n",
       "  Document(page_content='prompt: Do you provide any virtual internship?\\nresponse: Yes, but it is entirely dependent on the company that has partnered with us.', metadata={'source': 'Do you provide any virtual internship?', 'row': 13}),\n",
       "  Document(page_content='prompt: Do you provide any internships ?\\nresponse: The department offers an optional internship programme for students pursuing a degree in Computer Science or Information Technology. Students participate in the programme by registering for either INFO 3609, a 3-credit or INFO 3610, a 6-credit Internship course. However, students are not allowed to read both INFO 3609 and INFO 3610. More details are available from the Department. The internship programme will be helpful in: Providing practical training to students during their degree programme; Providing experience in the working environment, and Preparing for future jobs.', metadata={'source': 'Do you provide any internships ?', 'row': 5})]}"
      ]
     },
     "execution_count": 16,
     "metadata": {},
     "output_type": "execute_result"
    }
   ],
   "source": [
    "retrieval_qa_chain(\"Do you provide job assistance and also do you provide job gurantee?\")"
   ]
  },
  {
   "cell_type": "code",
   "execution_count": null,
   "id": "ba67f9c8-f214-48a2-a359-6a029985ed64",
   "metadata": {},
   "outputs": [],
   "source": []
  }
 ],
 "metadata": {
  "kernelspec": {
   "display_name": "Python 3 (ipykernel)",
   "language": "python",
   "name": "python3"
  },
  "language_info": {
   "codemirror_mode": {
    "name": "ipython",
    "version": 3
   },
   "file_extension": ".py",
   "mimetype": "text/x-python",
   "name": "python",
   "nbconvert_exporter": "python",
   "pygments_lexer": "ipython3",
   "version": "3.9.13"
  }
 },
 "nbformat": 4,
 "nbformat_minor": 5
}
