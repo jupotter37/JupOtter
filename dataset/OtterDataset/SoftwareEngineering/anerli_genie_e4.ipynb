{
 "cells": [
  {
   "cell_type": "code",
   "execution_count": 2,
   "metadata": {},
   "outputs": [],
   "source": [
    "from dotenv import load_dotenv\n",
    "from langchain.chat_models import ChatOpenAI\n",
    "from langchain.prompts import ChatPromptTemplate, SystemMessagePromptTemplate\n",
    "from langchain.chains.openai_functions import create_structured_output_chain\n",
    "\n",
    "load_dotenv()\n",
    "llm = ChatOpenAI(temperature=0.0, model='gpt-3.5-turbo')"
   ]
  },
  {
   "cell_type": "code",
   "execution_count": 4,
   "metadata": {},
   "outputs": [
    {
     "name": "stdout",
     "output_type": "stream",
     "text": [
      "DEBUG, CONVERTED FUNCTIONS: [{'name': 'output_formatter', 'description': 'Output formatter. Should always be used to format your response to the user.', 'parameters': {'type': 'object', 'properties': {'write_filepath': {'type': 'string', 'description': 'Relative path to the file that the engineer should create or edit'}, 'write_plan': {'type': 'string', 'description': 'What the engineer should do with the specified file'}, 'run_plan': {'type': 'string', 'description': 'What the engineer should look for, or take notes on, when running the program'}}, 'required': ['write_filepath', 'write_plan', 'run_plan']}}]\n",
      "\n",
      "\n",
      "\u001b[1m> Entering new LLMChain chain...\u001b[0m\n",
      "Prompt after formatting:\n",
      "\u001b[32;1m\u001b[1;3mSystem: You are a Software Engineering Manager, responsible for planning the actions of an AI Software Engineer.\n",
      "You are trying to create the following software:\n",
      "```\n",
      "Write a program that finds the first 100 prime numbers.\n",
      "```\n",
      "Here are all the files in the project so far:\n",
      "[no files yet]\n",
      "\n",
      "The report from the last time the project was run:\n",
      "[project has not yet been run]\n",
      "\n",
      "Plan which file to write to (an existing file, or a new one) and what needs to be done in that file.\n",
      "After this is done, the program will be run. Plan what to check for and take notes on when the program is being run.\u001b[0m\n",
      "\n",
      "\u001b[1m> Finished chain.\u001b[0m\n",
      "{'write_filepath': 'prime_numbers.py', 'write_plan': 'Write a program that finds the first 100 prime numbers.', 'run_plan': 'Check if the program correctly finds the first 100 prime numbers.'}\n"
     ]
    }
   ],
   "source": [
    "planning_template = '''\n",
    "You are a Software Engineering Manager, responsible for planning the actions of an AI Software Engineer.\n",
    "You are trying to create the following software:\n",
    "```\n",
    "{goal}\n",
    "```\n",
    "Here are all the files in the project so far:\n",
    "[no files yet]\n",
    "\n",
    "The report from the last time the project was run:\n",
    "[project has not yet been run]\n",
    "\n",
    "Plan which file to write to (an existing file, or a new one) and what needs to be done in that file.\n",
    "After this is done, the program will be run. Plan what to check for and take notes on when the program is being run.\n",
    "'''[1:-1]\n",
    "\n",
    "planning_prompt = ChatPromptTemplate.from_messages([\n",
    "    SystemMessagePromptTemplate.from_template(planning_template)\n",
    "])\n",
    "\n",
    "planning_chain = create_structured_output_chain({\n",
    "    'type': 'object',\n",
    "    'properties': {\n",
    "        'write_filepath': {\n",
    "            'type': 'string',\n",
    "            'description': 'Relative path to the file that the engineer should create or edit'\n",
    "        },\n",
    "        'write_plan': {\n",
    "            'type': 'string',\n",
    "            'description': 'What the engineer should do with the specified file'\n",
    "        },\n",
    "        'run_plan': {\n",
    "            'type': 'string',\n",
    "            'description': 'What the engineer should look for, or take notes on, when running the program'\n",
    "        },\n",
    "\n",
    "        # 'contents': {\n",
    "        #     'type': 'string',\n",
    "        #     'description': 'Contents to write to the file.'\n",
    "        # }\n",
    "\n",
    "        \n",
    "\n",
    "    },\n",
    "    'required': ['write_filepath', 'write_plan', 'run_plan']\n",
    "}, llm, planning_prompt, verbose=True)#write_template\n",
    "\n",
    "goal = 'Write a program that finds the first 100 prime numbers.'\n",
    "\n",
    "plan = planning_chain.run(goal=goal)\n",
    "print(plan)"
   ]
  },
  {
   "cell_type": "code",
   "execution_count": 7,
   "metadata": {},
   "outputs": [
    {
     "name": "stdout",
     "output_type": "stream",
     "text": [
      "DEBUG, CONVERTED FUNCTIONS: [{'name': 'output_formatter', 'description': 'Output formatter. Should always be used to format your response to the user.', 'parameters': {'type': 'object', 'properties': {'file_content': {'type': 'string', 'description': 'Content to write to the given file'}}, 'required': ['write_filepath', 'write_plan', 'run_plan']}}]\n",
      "\n",
      "\n",
      "\u001b[1m> Entering new LLMChain chain...\u001b[0m\n",
      "Prompt after formatting:\n",
      "\u001b[32;1m\u001b[1;3mSystem: You are a Software Engineer, responsible for executing planned actions.\n",
      "You are trying to create the following software:\n",
      "```\n",
      "Write a program that finds the first 100 prime numbers.\n",
      "```\n",
      "\n",
      "The Engineering Manager AI has planned for you to create the file prime_numbers.py, which does not yet exist. You are to:\n",
      "```\n",
      "Write a program that finds the first 100 prime numbers.\n",
      "```\u001b[0m\n",
      "\n",
      "\u001b[1m> Finished chain.\u001b[0m\n",
      "{'file_content': \"def is_prime(n):\\n    if n <= 1:\\n        return False\\n    for i in range(2, int(n**0.5) + 1):\\n        if n % i == 0:\\n            return False\\n    return True\\n\\n\\ndef find_prime_numbers(n):\\n    prime_numbers = []\\n    num = 2\\n    while len(prime_numbers) < n:\\n        if is_prime(num):\\n            prime_numbers.append(num)\\n        num += 1\\n    return prime_numbers\\n\\n\\nif __name__ == '__main__':\\n    prime_numbers = find_prime_numbers(100)\\n    for prime in prime_numbers:\\n        print(prime)\"}\n"
     ]
    }
   ],
   "source": [
    "engineering_template = '''\n",
    "You are a Software Engineer, responsible for executing planned actions.\n",
    "You are trying to create the following software:\n",
    "```\n",
    "{goal}\n",
    "```\n",
    "\n",
    "The Engineering Manager AI has planned for you to create the file {filepath}, which does not yet exist. In this file, you are to:\n",
    "```\n",
    "{plan}\n",
    "```\n",
    "'''[1:-1]\n",
    "# could dynamically say edit/create based on file existence\n",
    "\n",
    "engineering_prompt = ChatPromptTemplate.from_messages([\n",
    "    SystemMessagePromptTemplate.from_template(engineering_template)\n",
    "])\n",
    "\n",
    "engineering_chain = create_structured_output_chain({\n",
    "    'type': 'object',\n",
    "    'properties': {\n",
    "        'file_content': {\n",
    "            'type': 'string',\n",
    "            'description': 'Content to write to the given file'\n",
    "        }\n",
    "    },\n",
    "    'required': ['write_filepath', 'write_plan', 'run_plan']\n",
    "}, llm, engineering_prompt, verbose=True)#write_template\n",
    "\n",
    "action = engineering_chain.run(goal=goal, plan=plan['write_plan'], filepath=plan['write_filepath'])\n",
    "print(action)"
   ]
  },
  {
   "cell_type": "code",
   "execution_count": null,
   "metadata": {},
   "outputs": [],
   "source": []
  }
 ],
 "metadata": {
  "kernelspec": {
   "display_name": "base",
   "language": "python",
   "name": "python3"
  },
  "language_info": {
   "codemirror_mode": {
    "name": "ipython",
    "version": 3
   },
   "file_extension": ".py",
   "mimetype": "text/x-python",
   "name": "python",
   "nbconvert_exporter": "python",
   "pygments_lexer": "ipython3",
   "version": "3.9.7"
  },
  "orig_nbformat": 4
 },
 "nbformat": 4,
 "nbformat_minor": 2
}
