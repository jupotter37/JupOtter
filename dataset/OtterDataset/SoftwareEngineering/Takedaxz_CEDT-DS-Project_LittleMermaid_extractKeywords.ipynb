{
 "cells": [
  {
   "cell_type": "code",
   "execution_count": 180,
   "metadata": {},
   "outputs": [],
   "source": [
    "import numpy as np\n",
    "import pandas as pd"
   ]
  },
  {
   "cell_type": "code",
   "execution_count": 181,
   "metadata": {},
   "outputs": [],
   "source": [
    "import findspark\n",
    "findspark.init()"
   ]
  },
  {
   "cell_type": "code",
   "execution_count": 182,
   "metadata": {},
   "outputs": [],
   "source": [
    "spark_url = 'local'\n",
    "from pyspark.sql import SparkSession\n",
    "\n",
    "spark = SparkSession.builder \\\n",
    "    .master(\"local[*]\") \\\n",
    "    .appName(\"Spark SQL\") \\\n",
    "    .getOrCreate()"
   ]
  },
  {
   "cell_type": "code",
   "execution_count": 183,
   "metadata": {},
   "outputs": [
    {
     "name": "stdout",
     "output_type": "stream",
     "text": [
      "root\n",
      " |-- Title: string (nullable = true)\n",
      " |-- Abstract: string (nullable = true)\n",
      " |-- Author: string (nullable = true)\n",
      " |-- Aggregation_Type: string (nullable = true)\n",
      " |-- Publisher: string (nullable = true)\n",
      " |-- Publication_Date: string (nullable = true)\n",
      " |-- Institutions: string (nullable = true)\n",
      " |-- Keywords: string (nullable = true)\n",
      "\n"
     ]
    }
   ],
   "source": [
    "year='2024'\n",
    "path=f'../../../Kafka/output_csv/{year}.csv'\n",
    "df = spark.read.csv(path, header=True, inferSchema=True)\n",
    "df.printSchema()"
   ]
  },
  {
   "cell_type": "code",
   "execution_count": 184,
   "metadata": {},
   "outputs": [
    {
     "data": {
      "text/plain": [
       "Row(Title='Embracing innovation and collaboration: A message from the new Editor-in-Chief', Abstract=None, Author='Li M.', Aggregation_Type='Journal', Publisher='Cancer Letters', Publication_Date='2024-12-28', Institutions='University of Oklahoma College of Medicine', Keywords=None)"
      ]
     },
     "execution_count": 184,
     "metadata": {},
     "output_type": "execute_result"
    }
   ],
   "source": [
    "df.head()"
   ]
  },
  {
   "cell_type": "code",
   "execution_count": 185,
   "metadata": {},
   "outputs": [
    {
     "name": "stdout",
     "output_type": "stream",
     "text": [
      "+---------------------------------------------------------------------------------------------------------------------------------------------------------------------------------------------------------------------------------------------------+-----------------------------------------------------------------------------------------------------------------------------------------------------------------------------------------------------------------------------------------------------------------------------------------------------------------------------------------------------------------------------------------------------------------------------------------------------------------------------------------------------------------------------------------------------------------------------------------------------------------------------------------------------------------------------------------------------------------------------------------------------------------------------------------------------------------------------------------------------------------------------------------------------------------------------------------------------------------------------------------------------------------------------------------------------------------------------------------------------------------------------------------------------------------------------------------------------------------------------------------------------------------------------------------------------------------------------------------------------------------------------------------------------------------------------------------------------------------------------------------------------------------------------------------------------------------------------------------------------------------------------------------------------------------------------------------------------------------------------------------------------------------------------------------------------------------------------------------------------------------------------------------------------------------------------------------------------------------------------------------------------------------------------------------------------------------------------------------------------------------------------------------------------------------------------------------------------------------------------------------------------------------------------------------------------------------------------------------------------------------------------------------------------------------------------------------------------------------------------------------------------------------------------------------------------------------------------------------------------------------------------------------------------------------------------------------------------------------------------------------------------------------------------------------------------------------------------------------------------------------------------------------------------------------------------------------------------------------------------------------------------------------------------------------------------------------------------------------------------------------------------------------------------------------------------------------------------------------+--------------------------------------------------------------------------------------------------------------------------------------------------------------------------------------------------------------------------------------------------------------------------------------------------------------------------------------------------------------------------------------------------------------------------------------------------------------------------------------------------------------------------------------------------------------------------------------------------------------------------------------------------------------------------------------------------------------------------------------------------------------------------------------+----------------+-----------------------------------------------------------------------+----------------+-----------------------------------------------------------------------------------------------------------------------------------------------------------------------------------------------------------------------------------------------------------------------------------------------------------------------------------------------------------------------------------------------------------------------------------------------------------------------------------------------------------------------------------------------------------------------------------------------------------------------------------------------------------------------------------------------------------------------------------------------------------------------------------------------------------------------------------------------------------------------------------------------------------------------------------------------------------------------------------------------------------------------------------------------------------------------------------------------------------------------------------------------------------------+--------------------------------------------------------------------------------------------------------------------------------------------------------------------------------------------+\n",
      "|Title                                                                                                                                                                                                                                              |Abstract                                                                                                                                                                                                                                                                                                                                                                                                                                                                                                                                                                                                                                                                                                                                                                                                                                                                                                                                                                                                                                                                                                                                                                                                                                                                                                                                                                                                                                                                                                                                                                                                                                                                                                                                                                                                                                                                                                                                                                                                                                                                                                                                                                                                                                                                                                                                                                                                                                                                                                                                                                                                                                                                                                                                                                                                                                                                                                                                                                                                                                                                                                                                                                                                         |Author                                                                                                                                                                                                                                                                                                                                                                                                                                                                                                                                                                                                                                                                                                                                                                                |Aggregation_Type|Publisher                                                              |Publication_Date|Institutions                                                                                                                                                                                                                                                                                                                                                                                                                                                                                                                                                                                                                                                                                                                                                                                                                                                                                                                                                                                                                                                                                                                                                     |Keywords                                                                                                                                                                                    |\n",
      "+---------------------------------------------------------------------------------------------------------------------------------------------------------------------------------------------------------------------------------------------------+-----------------------------------------------------------------------------------------------------------------------------------------------------------------------------------------------------------------------------------------------------------------------------------------------------------------------------------------------------------------------------------------------------------------------------------------------------------------------------------------------------------------------------------------------------------------------------------------------------------------------------------------------------------------------------------------------------------------------------------------------------------------------------------------------------------------------------------------------------------------------------------------------------------------------------------------------------------------------------------------------------------------------------------------------------------------------------------------------------------------------------------------------------------------------------------------------------------------------------------------------------------------------------------------------------------------------------------------------------------------------------------------------------------------------------------------------------------------------------------------------------------------------------------------------------------------------------------------------------------------------------------------------------------------------------------------------------------------------------------------------------------------------------------------------------------------------------------------------------------------------------------------------------------------------------------------------------------------------------------------------------------------------------------------------------------------------------------------------------------------------------------------------------------------------------------------------------------------------------------------------------------------------------------------------------------------------------------------------------------------------------------------------------------------------------------------------------------------------------------------------------------------------------------------------------------------------------------------------------------------------------------------------------------------------------------------------------------------------------------------------------------------------------------------------------------------------------------------------------------------------------------------------------------------------------------------------------------------------------------------------------------------------------------------------------------------------------------------------------------------------------------------------------------------------------------------------------------------+--------------------------------------------------------------------------------------------------------------------------------------------------------------------------------------------------------------------------------------------------------------------------------------------------------------------------------------------------------------------------------------------------------------------------------------------------------------------------------------------------------------------------------------------------------------------------------------------------------------------------------------------------------------------------------------------------------------------------------------------------------------------------------------+----------------+-----------------------------------------------------------------------+----------------+-----------------------------------------------------------------------------------------------------------------------------------------------------------------------------------------------------------------------------------------------------------------------------------------------------------------------------------------------------------------------------------------------------------------------------------------------------------------------------------------------------------------------------------------------------------------------------------------------------------------------------------------------------------------------------------------------------------------------------------------------------------------------------------------------------------------------------------------------------------------------------------------------------------------------------------------------------------------------------------------------------------------------------------------------------------------------------------------------------------------------------------------------------------------+--------------------------------------------------------------------------------------------------------------------------------------------------------------------------------------------+\n",
      "|Embracing innovation and collaboration: A message from the new Editor-in-Chief                                                                                                                                                                     |NULL                                                                                                                                                                                                                                                                                                                                                                                                                                                                                                                                                                                                                                                                                                                                                                                                                                                                                                                                                                                                                                                                                                                                                                                                                                                                                                                                                                                                                                                                                                                                                                                                                                                                                                                                                                                                                                                                                                                                                                                                                                                                                                                                                                                                                                                                                                                                                                                                                                                                                                                                                                                                                                                                                                                                                                                                                                                                                                                                                                                                                                                                                                                                                                                                             |Li M.                                                                                                                                                                                                                                                                                                                                                                                                                                                                                                                                                                                                                                                                                                                                                                                 |Journal         |Cancer Letters                                                         |2024-12-28      |University of Oklahoma College of Medicine                                                                                                                                                                                                                                                                                                                                                                                                                                                                                                                                                                                                                                                                                                                                                                                                                                                                                                                                                                                                                                                                                                                       |NULL                                                                                                                                                                                        |\n",
      "|Bio-inspiration unveiled: Dissecting nature's designs through the lens of the female locust's oviposition mechanism                                                                                                                                |Investigating nature's ingenious designs and systems has become a cornerstone of innovation, influencing fields from robotics, biomechanics, and physics to material sciences. Two key questions, however, regarding bio-inspired innovation are those of how and where does one find bio-inspiration? The perspective presented here is aimed at providing insights into the evolving landscape of bio-inspiration discovery. We present the unique case of the female locust's oviposition as a valuable example for researchers and engineers seeking to pursue multifaceted research, encompassing diverse aspects of biological and bio-inspired systems. The female locust lays her eggs underground to protect them and provide them with optimal conditions for survival and hatching. To this end, she uses a dedicated apparatus comprising two pairs of special digging valves to propagate underground, while remarkably extending her abdomen by 2- to 3-fold its original length. The unique digging mechanism, the subterranean steering ability, and the extreme elongation of the abdomen, including the reversible extension of the abdominal central nervous system, all spark a variety of questions regarding materials, morphology, mechanisms, and their interactions in this complex biological system. We present the cross-discipline efforts to elucidate these fascinating questions, and provide future directions for developing bio-inspired technological innovations based on this remarkable biological system.                                                                                                                                                                                                                                                                                                                                                                                                                                                                                                                                                                                                                                                                                                                                                                                                                                                                                                                                                                                                                                                                                                                                                                                                                                                                                                                                                                                                                                                                                                                                                                                                                                                                |Ayali A.; Sonnenreich S.; El Pinchasik B.                                                                                                                                                                                                                                                                                                                                                                                                                                                                                                                                                                                                                                                                                                                                             |Journal         |iScience                                                               |2024-12-20      |Tel Aviv University                                                                                                                                                                                                                                                                                                                                                                                                                                                                                                                                                                                                                                                                                                                                                                                                                                                                                                                                                                                                                                                                                                                                              |[Biological sciences ,   Engineering ,   Physics]                                                                                                                                           |\n",
      "|Improving adsorption and purification performance of Bi2WO6/BiOCl by oxygen vacancies                                                                                                                                                              |Enhancing adsorption ability of photocatalyst by vacancy is a fascinating strategy. Thus, Bi2WO6/BiOCl with millefeuille-like was successfully prepared via multi-pots method. Experimental results discern that BOW-10 can degraded 75.19% doxycycline hydrochloride (DOC, 20 mg/L) in 1 h, which is 1.3 and 3.5-fold larger than Bi2WO6 and BiOCl, respectively. The mechanism revealed that OVs (oxygen vacancies) not only promote the adsorption of DOC and O2 but also augment the activation ability of molecular oxygen. Therefore, photo-induced electrons can rapidly transfer from BiOCl to Bi2WO6 via carrier transport channels formed by interface oxygen vacancies (IOVs) under interfacial electric field (IEF) to reduce the adsorbed O2. Finally, DOC was eliminated by O2˙- and h+. Moreover, the relationship of surface areas, OVs concentration and the separation efficiency of photo-generated carriers was constructed. Meanwhile, the degradation paths of DOC and the toxicity of the intermediates were comprehensively investigated through DFT theoretical calculation. This research provides an innovation approach to regulate the capability of pollution adsorption and molecular oxygen activation by vacancy engineering and heterostructure engineering.                                                                                                                                                                                                                                                                                                                                                                                                                                                                                                                                                                                                                                                                                                                                                                                                                                                                                                                                                                                                                                                                                                                                                                                                                                                                                                                                                                                                                                                                                                                                                                                                                                                                                                                                                                                                                                                                                                                   |Yu X.; Liu M.; Xu H.; Xu J.; Yi J.                                                                                                                                                                                                                                                                                                                                                                                                                                                                                                                                                                                                                                                                                                                                                    |Journal         |Environmental Pollution                                                |2024-12-15      |Wuhan Textile University                                                                                                                                                                                                                                                                                                                                                                                                                                                                                                                                                                                                                                                                                                                                                                                                                                                                                                                                                                                                                                                                                                                                         |[Adsorption ,   Bi WO /BiOCl heterojunction 2 6 ,   Molecular oxygen activation ,   Oxygen vacancies]                                                                                       |\n",
      "|Bibliometric insights into palm oil mill effluent treatment by coagulation-flocculation: Research trends and future directions                                                                                                                     |This analysis explores the research landscape on palm oil mill effluent (POME) treatment through coagulation-flocculation (C-F), utilizing 84 documents extracted from the Web of Science database spanning the years 1987–2023. Engineering emerges as the most prominent research area, underscoring the significance of technological solutions in addressing POME treatment challenges. Notably, the Chemical Engineering Journal stands out as the primary publication venue, with the highest number of published papers in this domain. Malaysia emerges as the foremost contributor to this research field, with a substantial share of 78 articles. This dominance reflects Malaysia's pivotal role in the global palm oil industry, showcasing the country's commitment to addressing environmental concerns associated with palm oil production. The identified clusters in the bibliometric analysis reveal thematic focuses, including the utilization of natural coagulants, process and parametric optimization, and advancements in C-F processes. The evolution of C-F treatment technologies is discussed, providing insights into the shifting trends and innovations in POME treatment methodologies. The three identified clusters reflect the multifaceted nature of research, indicating a holistic approach toward addressing the challenges of POME treatment. As the analysis delves into the historical development of the field, it also serves as a guide for future research directions. The study not only emphasizes the current state of knowledge but also lays the foundation for continued advancements in C-F treatment for POME, fostering sustainable practices in the palm oil industry.                                                                                                                                                                                                                                                                                                                                                                                                                                                                                                                                                                                                                                                                                                                                                                                                                                                                                                                                                                                                                                                                                                                                                                                                                                                                                                                                                                                                                                                                                 |Mohamed Noor M.; Ngadi N.; Ab Hamid N.                                                                                                                                                                                                                                                                                                                                                                                                                                                                                                                                                                                                                                                                                                                                                |Journal         |Industrial Crops and Products                                          |2024-12-15      |Universiti Teknologi Malaysia                                                                                                                                                                                                                                                                                                                                                                                                                                                                                                                                                                                                                                                                                                                                                                                                                                                                                                                                                                                                                                                                                                                                    |[Bibliometric ,   Coagulation ,   Flocculation ,   Palm oil mill effluent ,   Wastewater]                                                                                                   |\n",
      "|Graphene-encapsulated nanocomposites: Synthesis, environmental applications, and future prospects                                                                                                                                                  |The discovery of graphene and its remarkable properties has sparked extensive research and innovation across various fields. Graphene and its derivatives, such as oxide and reduced graphene oxide, have high surface area, tunable porosity, strong surface affinity with organic molecules, and excellent electrical/thermal conductivity. However, the practical application of 2D graphene in aqueous environments is often limited by its tendency to stack, reducing its effectiveness. To address this challenge, the development of three-dimensional graphene structures, particularly graphene-encapsulated nanocomposites (GENs), offers a promising solution. GENs not only mitigate stacking issues but also promote flexible tailoring for specific applications through the incorporation of diverse fill materials. This customization allows for precise control over shape, size, porosity, selective adsorption, and advanced engineering capabilities, including the integration of multiple components and controlled release mechanisms. This review covers GEN synthesis strategies, including physical attachment, electrostatic interactions, chemical bonding, emulsification, chemical vapor deposition, aerosol methods, and nano-spray drying techniques. Key environmental applications of GENs are highlighted, with GENs showing 4–8 times greater micropollutant adsorption (compared to GAC), a 20-fold increase in photocatalytic pollutant degradation efficiency (compared to TiO2), a 21-fold enhancement in hydrogen production (compared to photocatalyst only), and a 20–45 % improvement in solar-driven water evaporation efficiency (compared to rGO). Additional applications include membrane fouling control, environmental sensing, resource generation, and enhancing thermal desalination through solar thermal harvesting. The review concludes by outlining future perspectives, emphasizing the need for improved 3D characterization techniques, more efficient large-scale production methods, and further optimization of multicomponent GENs for enhanced synergistic effects and broader environmental applications.                                                                                                                                                                                                                                                                                                                                                                                                                                                                                                                                                                                                                                                                                                                                                                                                                                                                                                                                                                                                                                  |Fu H.; Gray K.                                                                                                                                                                                                                                                                                                                                                                                                                                                                                                                                                                                                                                                                                                                                                                        |Journal         |Science of the Total Environment                                       |2024-12-10      |Robert R. McCormick School of Engineering and Applied Science;Ira A. Fulton Schools of Engineering                                                                                                                                                                                                                                                                                                                                                                                                                                                                                                                                                                                                                                                                                                                                                                                                                                                                                                                                                                                                                                                               |[3D graphene material ,   Graphene-based nanocomposites ,   Nano spray drying technique ,   Organic contaminant removal]                                                                    |\n",
      "|Correction to: Comparative time-series analyses of gut microbiome profiles in genetically and chemically induced lupus-prone mice and the impacts of fecal transplantation (Scientific Reports, (2024), 14, 1, (26371), 10.1038/s41598-024-77672-4)|Correction to: Scientific Reportshttps://doi.org/10.1038/s41598-024-77672-4, Published online 02 November 2024 The Acknowledgements section in the original version of this article was incomplete. We thanked the National Center for Genetic Engineering and Biotechnology (BIOTEC), and the National Science and Technology Development Agency (NSTDA) for allowing us to process our bioinformatic data on BIOTEC HPC server, and the Omics Sciences and Bioinformatics Center (OSBC), Faculty of Science, Chulalongkorn University for supporting Miseq sequencing equipment and OMICS server. Now reads: This research was supported by Thailand Science Research and Innovation Fund Chulalongkorn University (CU_FRB65_hea(68)_131_23_61), Multi-Omics for Functional Products in Food, Cosmetics and Animals Research Unit, Chulalongkorn University; the King Bhumibol Adulyadej’s 72nd Birthday Anniversary Scholarship; and the 90th Anniversary of Chulalongkorn University Scholarship. We thanked the National Center for Genetic Engineering and Biotechnology (BIOTEC), and the National Science and Technology Development Agency (NSTDA) for allowing us to process our bioinformatic data on BIOTEC HPC server, and the Omics Sciences and Bioinformatics Center (OSBC), Faculty of Science, Chulalongkorn University for supporting Miseq sequencing equipment and OMICS server. The original article has been corrected.                                                                                                                                                                                                                                                                                                                                                                                                                                                                                                                                                                                                                                                                                                                                                                                                                                                                                                                                                                                                                                                                                                                                                                                                                                                                                                                                                                                                                                                                                                                                                                                                                                                                                                                                                                   |Chatthanathon P.; Leelahavanichkul A.; Cheibchalard T.; Wilantho A.; Hirankarn N.; Somboonna N.                                                                                                                                                                                                                                                                                                                                                                                                                                                                                                                                                                                                                                                                                       |Journal         |Scientific Reports                                                     |2024-12-01      |Chulalongkorn University;Thailand National Center for Genetic Engineering and Biotechnology;Faculty of Medicine, Chulalongkorn University                                                                                                                                                                                                                                                                                                                                                                                                                                                                                                                                                                                                                                                                                                                                                                                                                                                                                                                                                                                                                        |NULL                                                                                                                                                                                        |\n",
      "|Bio-inspired designs: leveraging biological brilliance in mechanical engineering—an overview                                                                                                                                                       |Nature’s evolutionary mastery has perfected design over the years, yielding organisms superbly adapted to their surroundings. This research delves into the promising domain of bio-inspired designs, poised to revolutionize mechanical engineering. Leveraging insights drawn from prior conversations, we categorize innovations influenced by life on land, in water, and through the air, emphasizing their pivotal contributions to mechanical properties. Our comprehensive review reveals a wealth of bio-inspired designs that have already made substantial inroads in mechanical engineering. From avian-inspired lightweight yet robust materials to hydrodynamically optimized forms borrowed from marine creatures, these innovations hold immense potential for enhancing mechanical systems. In conclusion, this study underscores the transformative potential of bio-inspired designs, offering improved mechanical characteristics and the promise of sustainability and efficiency across a broad spectrum of applications. This research envisions a future where bio-inspired designs shape the mechanical landscape, fostering a more harmonious coexistence between human technology and the natural world.                                                                                                                                                                                                                                                                                                                                                                                                                                                                                                                                                                                                                                                                                                                                                                                                                                                                                                                                                                                                                                                                                                                                                                                                                                                                                                                                                                                                                                                                                                                                                                                                                                                                                                                                                                                                                                                                                                                                                                              |Fattepur G.; Patil A.; Kumar P.; Kumar A.; Hegde C.; Siddhalingeshwar I.; Kumar R.; Khan T.                                                                                                                                                                                                                                                                                                                                                                                                                                                                                                                                                                                                                                                                                           |Journal         |3 Biotech                                                              |2024-12-01      |Arka Jain University;Rayat Bahra University;Vivekananda Global University;KLE Technological University;Shobhit University;Sohar University;Manipal Institute of Technology;King Khalid University;JAIN (Deemed-to-be University)                                                                                                                                                                                                                                                                                                                                                                                                                                                                                                                                                                                                                                                                                                                                                                                                                                                                                                                                 |[Aquatic adaptations ,   Avian-inspired design ,   Evolutionary mastery ,   Life on land ,   Mechanical adaptations ,   Nature-inspired designs ,   Transformative potential]               |\n",
      "|Designing CITOBOT: A portable device for cervical cancer screening using human-centered design, smart prototyping, and artificial intelligence                                                                                                     |Cervical cancer remains a leading cause of mortality in its invasive stages, presenting a significant global public health challenge, particularly in low- and middle-income countries. Despite technological advancements that have improved the quality of cervical images captured during visual inspections, several challenges persist. This article presents key findings from the CITOBOT-COL translational research project, a large-scale initiative focused on designing CITOBOT as a portable cervical cancer screening device. We detail the comprehensive technological development of CITOBOT, guided by a human-centered design approach, smart prototyping, and the integration of AI. Over four design iterations, we developed and refined CITOBOT v4, a portable device. Prototypes were validated through focus groups and testing by experts in cervical cancer prevention, gynecology, nursing, software, artificial intelligence, computer engineering, and public health, utilizing various anatomical models at the Simulated Hospital Laboratory of Pontificia Universidad Javeriana Cali, Colombia. Additionally, we developed AI algorithms using the Inception V3 network, optimized with Transfer Learning and Fine Tuning, for cervical image classification and offline-operating software that guides the physician through the examination and provides a risk assessment for cervical cancer. Feedback was crucial in assessing and refining the device's functionality, focusing on capturing high-quality cervical images. The development of CITOBOT v4 highlights the importance of fostering innovation in resource-limited settings, offering an effective solution to improve cervical cancer screening and potentially save lives in vulnerable communities.                                                                                                                                                                                                                                                                                                                                                                                                                                                                                                                                                                                                                                                                                                                                                                                                                                                                                                                                                                                                                                                                                                                                                                                                                                                                                                                                                                                                          |Arrivillaga M.; Bermúdez P.; García-Cifuentes J.; Vargas-Cardona H.; Neira D.; del Mar Torres M.; Rodríguez-López M.; Morales D.; Arizala B.                                                                                                                                                                                                                                                                                                                                                                                                                                                                                                                                                                                                                                          |Journal         |Computational and Structural Biotechnology Journal                     |2024-12-01      |Universidad Icesi;Pontificia Universidad Javeriana, Cali;Red de Salud Ladera E.S.E. Secretaria de Salud Municipal de                                                                                                                                                                                                                                                                                                                                                                                                                                                                                                                                                                                                                                                                                                                                                                                                                                                                                                                                                                                                                                             |[Artificial intelligence ,   Cervical cancer screening ,   Human-centered design ,   Medical device innovation ,   Portable device, Cervical imaging]                                       |\n",
      "|On hydromagnetic two-phase gas-liquid flow in ciliary channel: An application of a metachronal rhythm                                                                                                                                              |The study of two-phase flows, encompassing gas-liquid plays a pivotal role in various industrial and biomedical applications. It investigates the behavior of an annular two-phase flow within ciliary channels, separated by compressible and incompressible flow regimes, in the presence of a magnetic field. The compressible flow is confined in the core region surrounded by the liquid phase. To analyze the flow characteristics, continuity, and momentum equations are considered for both phases. The compressible phase involves significant changes in density, requiring consideration of compressibility effects and the equation of state. Velocity and stresses are assumed to be equal at the interface. The system of mathematical equations is solved analytically by using the regular perturbation technique. The behavior of each phase with the input parameters is described thoroughly. The magnetic parameter is found to decrease while the Reynolds number increases for the velocity profile. The study's outcomes can contribute to the advancement of multiphase flow research by offering a versatile platform for innovation in biomedical engineering, with a thorough examination of the intricate relationship between ciliary motion, compressible and incompressible fluids, and MHD effects in ciliary channels.                                                                                                                                                                                                                                                                                                                                                                                                                                                                                                                                                                                                                                                                                                                                                                                                                                                                                                                                                                                                                                                                                                                                                                                                                                                                                                                                                                                                                                                                                                                                                                                                                                                                                                                                                                                                                                                        |Fatima G.; Khan A.; Ellahi R.; Sait S.                                                                                                                                                                                                                                                                                                                                                                                                                                                                                                                                                                                                                                                                                                                                                |Journal         |Chinese Journal of Physics                                             |2024-12-01      |Marlan and Rosemary Bourns College of Engineering;International Islamic University, Islamabad;King Fahd University of Petroleum and Minerals                                                                                                                                                                                                                                                                                                                                                                                                                                                                                                                                                                                                                                                                                                                                                                                                                                                                                                                                                                                                                     |[Air-Water ,   Ciliary Channel ,   MHD ,   Perturbation Method ,   Two- phase flow]                                                                                                         |\n",
      "|Cantilever configurations in vibration-based piezoelectric energy harvesting: a comprehensive review on beam shapes and multi-beam formations                                                                                                      |Vibration-based energy harvesting technology is a well-established research area that has attracted tremendous interest over the last decade. This interest is primarily owing to its extension into a wide range of engineering domains, particularly in microelectromechanical systems. The cantilever beam is the most common and widely used model for vibration-based energy harvester, driven by two key factors: (a) simplicity in design, and (b) high output power density. Numerous studies over the years have focused on optimizing the cantilever beam design to increase output power capacity and/or widen the frequency bandwidth of the harvester. While researchers have proposed a plethora of cantilever beam configurations for specific purposes (e.g. low-frequency harvesting, multi-directional frequency harvesting, etc), there is a notable lack of detailed literature on the types and configurations of cantilever beams. This gap hinders researchers from gaining a comprehensive understanding of the cantilever beams already introduced. Following the need, in this article a comprehensive review is made to list the types of cantilever beams proposed by the researchers over the years. This review covers the working principles of piezoelectric energy harvesting, analyses existing solutions geared towards increasing power output and widening working frequency, and discusses diverse configurations including single and multiple beam setups. The listed beams are categorized based on their structural shape and organization such that it can be helpful for a reader to anticipate which cantilever beam design can be suitable for a specific need. Power output capacity and operating frequency for every beam design are also presented in a tabular form, under each beam category. This would enable the researchers to tailor their designs for specific applications, enhance material efficiency, drive innovation, and open new application possibilities.                                                                                                                                                                                                                                                                                                                                                                                                                                                                                                                                                                                                                                                                                                                                                                                                                                                                                                                                                                                                                                                                                                                                                                                    |Sadaf A.; Ahmed R.; Ahmed H.                                                                                                                                                                                                                                                                                                                                                                                                                                                                                                                                                                                                                                                                                                                                                          |Journal         |Smart Materials and Structures                                         |2024-12-01      |Georgia Southern University;University of Wisconsin-Green Bay                                                                                                                                                                                                                                                                                                                                                                                                                                                                                                                                                                                                                                                                                                                                                                                                                                                                                                                                                                                                                                                                                                    |[cantilever beams ,   energy harvesting ,   piezoelectric ,   vibration]                                                                                                                    |\n",
      "|CFD analysis of an inertance pulse tube refrigerator: exploring the influence of tapered pulse tube and regenerator design                                                                                                                         |Inertance pulse tube refrigerators (IPTRs) represent a significant advancement in cryogenic cooling technology, owing to their distinctive operational principles and efficiency in low-temperature applications. Recent research has enriched our understanding of IPTR mechanisms, yet the quest for optimizing their performance remains a pivotal challenge. This study addresses this gap by implementing a novel parametric optimization technique to refine operational and geometrical parameters to enhance IPTR efficiency. The optimization approach comprises a structured multi-step process. Initially, the study focuses on estimating the optimal operating frequency for the IPTR. This is followed by the optimization of the inertance tube length, the most extended component in the system, which plays a crucial role in the device’s performance. The optimization process then integrates both parameters to identify their optimal combination. Empirical findings from this optimization technique indicate substantial improvements in performance. Specifically, setting the inertance tube length to 0.9 m and the operating frequency to 40 Hz results in a notable 16.32% increase in system efficiency. This enhancement is evidenced by the system’s ability to achieve lower temperatures more effectively compared to previous configurations. Additionally, the optimization extends to the geometrical aspects of the IPTR, focusing on the regenerator and pulse tube. By adjusting the tapered angles of these components while maintaining constant volume, significant advancements in thermal management are achieved. The optimized configuration leads to a reduction of approximately 22% in the temperature at the cold heat exchanger compared to earlier designs. This decrease underscores the effectiveness of the tapering adjustments in improving thermal performance. The refined geometry of the regenerator and pulse tube, achieved through careful parametric adjustments, contributed to enhanced thermal efficiency and reduced operational temperatures. These factors are critical for optimizing the overall performance of IPTRs, especially in applications requiring precise and efficient low-temperature control. The results from these numerical investigations provide robust evidence supporting the efficacy of the parametric optimization technique. By accurately determining the optimal operating frequency and inertance tube length, and optimizing the geometrical parameters, the study demonstrates significant performance improvements in IPTR systems. These findings not only validate the effectiveness of the optimization approach but also offer a framework for future research aimed at further enhancing IPTR capabilities. This research has substantial implications for advancing cryogenic refrigeration technologies, providing a pathway to more efficient and effective IPTR systems. The detailed insights and optimized configurations presented herein represent a significant contribution to the field, paving the way for further innovations in thermal management and low-temperature applications.|Kumar P.                                                                                                                                                                                                                                                                                                                                                                                                                                                                                                                                                                                                                                                                                                                                                                              |Journal         |Journal of the Brazilian Society of Mechanical Sciences and Engineering|2024-12-01      |GMR Institute of Technology                                                                                                                                                                                                                                                                                                                                                                                                                                                                                                                                                                                                                                                                                                                                                                                                                                                                                                                                                                                                                                                                                                                                      |[Cryogenic temperature ,   Geometrical parameters ,   Taper pulse tube ,   Taper regenerator ,   Temperature distribution]                                                                  |\n",
      "|A review on exploring the potential of PVA and chitosan in biomedical applications: A focus on tissue engineering, drug delivery and biomedical sensors                                                                                            |Polymers have been integral to the advancement of biomedicine, owing to their exceptional versatility and functionality. Among these, polyvinyl alcohol (PVA) and chitosan both natural polymers stand out for their remarkable biocompatibility, biodegradability, and unique properties. This review article provides a comprehensive examination of the diverse applications of PVA and chitosan in three pivotal areas: tissue engineering, drug delivery, and biosensors. In tissue engineering, the discussion centres on how PVA and chitosan are engineered into scaffolds that not only support cell growth and differentiation but also promote tissue regeneration by closely mimicking the extracellular matrix. These scaffolds offer the necessary mechanical strength and adaptability for various biomedical applications. For drug delivery, the article delves into the development of sophisticated controlled release systems and targeted drug carriers, highlighting the polymers' customizable properties and their mucoadhesive nature, which make them highly effective across multiple drug delivery methods. Furthermore, the potential of PVA and chitosan in biosensor technology is explored, particularly their ability to interact with biomolecules and their intrinsic conductivity attributes that are essential for creating sensitive, reliable, and biocompatible sensors for medical diagnostics. By synthesizing recent research findings and suggesting future research directions, this review underscores the versatility and critical role of PVA and chitosan in pushing the boundaries of biomedical innovation. It offers valuable insights for researchers and scientists dedicated to advancing healthcare through the application of these natural polymers.                                                                                                                                                                                                                                                                                                                                                                                                                                                                                                                                                                                                                                                                                                                                                                                                                                                                                                                                                                                                                                                                                                                                                                                                                                                                                                                                                                                                   |Manohar D.; Babu R.; Vijaya B.; Nallakumar S.; Gobi R.; Anand S.; Nishanth D.; Anupama A.; Rani M.                                                                                                                                                                                                                                                                                                                                                                                                                                                                                                                                                                                                                                                                                    |Journal         |International Journal of Biological Macromolecules                     |2024-12-01      |Vellore Institute of Technology                                                                                                                                                                                                                                                                                                                                                                                                                                                                                                                                                                                                                                                                                                                                                                                                                                                                                                                                                                                                                                                                                                                                  |[Biomedical sensors ,   Chitosan ,   Drug delivery ,   PVA ,   Tissue engineering]                                                                                                          |\n",
      "|Enhancing decision-making with linear diophantine multi-fuzzy set: application of novel information measures in medical and engineering fields                                                                                                     |This study offers a comprehensive analysis of novel information for linear diophantine multi-fuzzy sets and illustrates its applications in practical scenarios. We introduce innovative similarity metrics tailored for linear diophantine multi-fuzzy sets, including Cosine similarity, Jaccard similarity, and Exponential similarity. Additionally, we propose Entropy, Inclusion, and Distance measures, providing a robust theoretical foundation supported by developed theorems that explain the interactions between these metrics. The practical implications of these theoretical advancements are demonstrated through various case studies. Specifically, we apply the similarity measures to predict preeclampsia, a severe condition affecting pregnant women, showcasing their potential in medical diagnostics. The entropy measure is used to identify the optimal materials manufacturing method for medical surgical robots, underscoring its importance in ensuring patient safety and the effectiveness of medical procedures. Furthermore, the inclusion measure is employed in pattern recognition tasks, highlighting its utility in complex data analysis. The comparative and superiority analysis shows the effectiveness of our research. The novel aspect of this study is the implementation of information metrics for LDMFS. These efforts aim to enhance the impact and practical applicability of linear diophantine multi-fuzzy sets, fostering innovation and improving outcomes across multiple fields.                                                                                                                                                                                                                                                                                                                                                                                                                                                                                                                                                                                                                                                                                                                                                                                                                                                                                                                                                                                                                                                                                                                                                                                                                                                                                                                                                                                                                                                                                                                                                                                                                                                                   |Kannan J.; Jayakumar V.; Kausar N.; Pamucar D.; Simic V.                                                                                                                                                                                                                                                                                                                                                                                                                                                                                                                                                                                                                                                                                                                              |Journal         |Scientific Reports                                                     |2024-12-01      |University of Belgrade;Yıldız Teknik Üniversitesi;Alagappa University;Széchenyi István University;Yuan Ze University;Korea University                                                                                                                                                                                                                                                                                                                                                                                                                                                                                                                                                                                                                                                                                                                                                                                                                                                                                                                                                                                                                            |[Entropy measure ,   Inclusion measure ,   Linear diophantine multi-fuzzy set ,   Mini-surgical robots ,   Preeclampsia ,   Similarity measure]                                             |\n",
      "|Correction to: Community assessment of methods to deconvolve cellular composition from bulk gene expression (Nature Communications, (2024), 15, 1, (7362), 10.1038/s41467-024-50618-0)                                                             |Correction to: Nature Communicationshttps://doi.org/10.1038/s41467-024-50618-0, published online 27 August 2024 The original version of this Article omitted from the Tumor Deconvolution DREAM Challenge consortium the members Aashi Jain, Shreya Mishra, and Vibhor Kumar from Department of Computer Science, Indraprastha Institute of Information Technology, Okhla Ph-3, New Delhi, India, Jiajie Peng and Lu Han from School of Computer Science, Northwestern Polytechnical University, Xi’an, Shaanxi, China, Gonzalo H Otazu from Center for Biomedical Innovation, New York Institute of Technology, College of Osteopathic Medicine, New York, USA, Austin Meadows from Icahn School of Medicine at Mount Sinai, New York, USA, Patrick J Danaher from NanoString Technologies, Seattle, WA, USA, Maria K Jaakkola from Turku Bioscience Centre, University of Turku and Åbo Akademi University, Finland and Department of Mathematics and Statistics, University of Turku, Finland, Laura L Elo from Turku Bioscience Centre, University of Turku and Åbo Akademi University, Finland and Institute of Biomedicine, University of Turku, Finland, Julien Racle and David Gfeller from Department of Oncology UNIL CHUV, Ludwig Institute for Cancer Research, University of Lausanne, Lausanne, Switzerland and Swiss Institute of Bioinformatics (SIB), Lausanne, Switzerland, Dani Livne, Sol Efroni, and Tom Snir from The Mina & Everard Goodman Faculty of Life Sciences, Bar-Ilan University, Israel, Oliver M Cast, Martin L Miller, and Dominique-Laurent Couturier from Cancer Research UK, Cambridge Institute, University of Cambridge, UK, Wennan Chang from Electrical and Computer Engineering, Purdue University, West Lafayette, IN, USA, Sha Cao from Department of Biostatistics, Indiana University, School of Medicine, Indianapolis, IN, USA, Chi Zhang from Medical and Molecular Genetics, Indiana University School of Medicine, Indianapolis, IN, USA, Dominik J Otto and Kristin Reiche from Department of Diagnostics, Fraunhofer Institute for Cell Therapy and Immunology, Perlickstraße 1, 04103 Leipzig, Germany and Institute for Clinical Immunology, Leipzig University, Johannisallee 30, 04103 Leipzig, Germany, Christoph Kämpf, Michael Rade, Carolin Schimmelpfennig, Markus Kreuz, and Alexander Scholz from Department of Diagnostics, Fraunhofer Institute for Cell Therapy and Immunology, Perlickstraße 1, 04103 Leipzig, Germany. This has been corrected in both the PDF and HTML versions of the Article.                                                                                                                                                                                                                                                                                                                                                                                                                                                                                                                                                                                                                                           |White B.; de Reyniès A.; Newman A.; Waterfall J.; Lamb A.; Petitprez F.; Lin Y.; Yu R.; Guerrero-Gimenez M.; Domanskyi S.; Monaco G.; Chung V.; Banerjee J.; Derrick D.; Valdeolivas A.; Li H.; Xiao X.; Wang S.; Zheng F.; Yang W.; Catania C.; Lang B.; Bertus T.; Piermarocchi C.; Caruso F.; Ceccarelli M.; Yu T.; Guo X.; Bletz J.; Coller J.; Maecker H.; Duault C.; Shokoohi V.; Patel S.; Liliental J.; Simon S.; Scholz A.; Kreuz M.; Schimmelpfennig C.; Rade M.; Kämpf C.; Reiche K.; Otto D.; Zhang C.; Cao S.; Chang W.; Couturier D.; Miller M.; Cast O.; Snir T.; Efroni S.; Livne D.; Gfeller D.; Racle J.; Elo L.; Jaakkola M.; Danaher P.; Meadows A.; Otazu G.; Han L.; Peng J.; Kumar V.; Mishra S.; Jain A.; Saez-Rodriguez J.; Heiser L.; Guinney J.; Gentles A.|Journal         |Nature Communications                                                  |2024-12-01      |College of Engineering;Cancer Research UK Cambridge Institute;Biogem S.c.a.r.l.;Sage Bionetworks;Fraunhofer Institute for Cell Therapy and Immunology IZI;Cancer, Hétérogénéité, Instabilité et Plasticité (CHIP);Indraprastha Institute of Information Technology, Delhi;New York Institute of Technology College of Osteopathic Medicine;Stanford University School of Medicine;Michigan State University;MRC Centre for Reproductive Health;SIB Swiss Institute of Bioinformatics;Centre de Recherche des Cordeliers;Indiana University-Purdue University Indianapolis;Universidad Nacional de Cuyo;Indiana University School of Medicine;Xiamen University;Università degli Studi di Napoli Federico II;Universität Heidelberg;Oregon Health & Science University;Icahn School of Medicine at Mount Sinai;Stanford University;Sylvester Comprehensive Cancer Center;The Jackson Laboratory;Universität Leipzig;Turun yliopisto;Northwestern Polytechnical University;Universitätsklinikum Heidelberg;Bar-Ilan University;Harvard Medical School;Université de Lausanne (UNIL);Xiamen;Cancer Hospital;Ligue Nationale Contre le Cancer;NanoString Technologies|NULL                                                                                                                                                                                        |\n",
      "|Biophotonics and nanorobotics for biomedical imaging, biosensing, drug delivery, and therapy                                                                                                                                                       |Biophotonics-based nanorobotics is an important development in biomedical engineering. It combines light-based technology with tiny robotic devices to improve the treatment and diagnosis of diseases. This review explains the basic ideas of biophotonics and nanorobotics. It shows how important they are for delivering drugs directly to where they are needed, for treating cancer and for enabling tissue repair through better imaging techniques. In addition, light-driven nanorobots are increasingly being used in imaging and medical procedures. We also discuss the categorization of nanorobots based on their nanomaterials, functional mechanisms and potential biomedical programs. In addition, we address critical situations in biophotonic nanorobotics, such as biocompatibility, persistent motion within the frame, and self-sufficient navigation structures. Emerging answers that incorporate synthetic intelligence and the development of device-based knowledge can improve the performance and accuracy of nanorobots. Finally, we are looking at the potential of bioluminescence-assisted nanorobotics, manufacturing methods and recognition strategies for the future. We are also exploring the integration of innovative nanomaterials, enzymes and artificial intelligence (AI) for control and hybrid actuation, which promise minimally invasive nanoscale therapies for complex diseases in real time. These innovations put biophotonic nanorobotics at the forefront of biomedical research. They offer transformative solutions to unmet clinical needs and significantly advance our understanding of biological systems.                                                                                                                                                                                                                                                                                                                                                                                                                                                                                                                                                                                                                                                                                                                                                                                                                                                                                                                                                                                                                                                                                                                                                                                                                                                                                                                                                                                                                                                                                                                                       |Taha B.; Addie A.; Abbas E.; Aubaidan B.; Ahmed N.; Haider A.; Chaudhary V.; Arsad N.                                                                                                                                                                                                                                                                                                                                                                                                                                                                                                                                                                                                                                                                                                 |Journal         |Journal of Photochemistry and Photobiology C: Photochemistry Reviews   |2024-12-01      |Alshaab University;Bhagini Nivedita College;Dijlah University College;University of Technology- Iraq;Universiti Kebangsaan Malaysia;Centre of Industrial Applications and Materials Technology/ Scientific Research Commission                                                                                                                                                                                                                                                                                                                                                                                                                                                                                                                                                                                                                                                                                                                                                                                                                                                                                                                                   |[Biophotonics ,   Nanorobots ,   Targeted drug delivery ,   Tissue regeneration ,   Tumor therapy]                                                                                          |\n",
      "|A review on green materials: Exploring the potential of poly(vinyl alcohol) (PVA) and nanocellulose composites                                                                                                                                     |Polyvinyl alcohol (PVA) and nanocellulose (NC) composite systems are promising candidates with exciting implications for sustainability, adaptability, and future uses. This research investigates the synergistic features of PVA and nanocellulose, focusing on their renewable and biodegradable nature as important contributors to sustainable material development. An overview of various processing techniques of PVA/NC composites, and their morphological, thermo-mechanical, barrier and biodegradable properties is examined, revealing its enhanced performance attributes compared to conventional materials. This review also discusses the numerous applications of PVA and nanocellulose composites in packaging, biomedical engineering, and environmental remediation. Furthermore, the discussion expands on the potential future applications of these composites, emphasizing their importance in tackling critical global concerns such as pollution reduction, resource conservation, and healthcare breakthroughs. With ongoing research focusing on functionalisation strategies and scalable production methods, PVA and nanocellulose composites are poised to revolutionize multiple sectors, offering sustainable solutions that align with the principles of circular economy and environmental stewardship. Finally, this review emphasises the enormous contributions of PVA and nanocellulose composites to sustainable material innovation, their broad applicability across industries, and their promise to shape a more resilient and environmentally friendly future.                                                                                                                                                                                                                                                                                                                                                                                                                                                                                                                                                                                                                                                                                                                                                                                                                                                                                                                                                                                                                                                                                                                                                                                                                                                                                                                                                                                                                                                                                                                                                                                                    |Sobhiga G.; Maria H.; Mozetič M.; Thomas S.                                                                                                                                                                                                                                                                                                                                                                                                                                                                                                                                                                                                                                                                                                                                           |Journal         |International Journal of Biological Macromolecules                     |2024-12-01      |\"Mahatma Gandhi University;Institut \"\"Jožef Stefan\"\";University of Johannesburg;TrEST Research Park\"                                                                                                                                                                                                                                                                                                                                                                                                                                                                                                                                                                                                                                                                                                                                                                                                                                                                                                                                                                                                                                                             |[Bio-nanocomposites ,   Nanocellulose ,   Polyvinyl alcohol]                                                                                                                                |\n",
      "|Geographical classification of population: Analysis of amino acid in fingermark residues using UHPLC-QQQ-MS/MS combined with machine learning                                                                                                      |Objective: To determine the living regions of individuals based on amino acids in fingermark residues and to establish a rapid and accurate regional classification method using machine learning. Methods: A total of 71 fingermark donors from six different provinces in various regions of China were selected. The content of 18 amino acids in their fingermarks was detected using UHPLC-QQQ-MS/MS. Classification models were established using various machine learning algorithms, and the cross-validation accuracy of 72 combinations, including feature engineering, classification algorithms, and optimization algorithms, was compared. Results: UHPLC-QQQ-MS/MS successfully quantified 16 amino acids. Significant differences in the relative content of amino acids were found between the fingermarks from the eastern and western regions of China, as well as among neighboring provinces. The combination of SFS+SVM+BO was identified as the optimal classification model, achieving an accuracy of 90.14 %. Conclusion: The study found regional differences in the relative content of amino acids in fingermarks and established a regional classification method combining UHPLC-QQQ-MS/MS and machine learning. The method developed in this study can be applied to incomplete or distorted fingermarks, and the experimental results can be directly used in police investigations. This research uncovers the multidimensional information carried by fingerprint substances, demonstrating innovation and application value. It not only saves and shortens investigation time and provides investigative leads, but also enables previously unusable physical evidence to play a role again, enhancing the profiling of suspects.                                                                                                                                                                                                                                                                                                                                                                                                                                                                                                                                                                                                                                                                                                                                                                                                                                                                                                                                                                                                                                                                                                                                                                                                                                                                                                                                                                                                                                             |Tian L.; Tian S.; Zhao Y.                                                                                                                                                                                                                                                                                                                                                                                                                                                                                                                                                                                                                                                                                                                                                             |Journal         |Forensic Science International                                         |2024-12-01      |People's Public Security University of China                                                                                                                                                                                                                                                                                                                                                                                                                                                                                                                                                                                                                                                                                                                                                                                                                                                                                                                                                                                                                                                                                                                     |[Amino acids ,   Fingermark residue ,   Machine Learning ,   Regional classification ,   Ultra-high performance liquid chromatography-triple quadrupole mass spectrometry (UHPLC-QQQ-MS/MS)]|\n",
      "|Exploring thermal interface materials for electronics via molecular dynamics simulations: A review                                                                                                                                                 |In electronic devices, where efficient thermal management is vital to maintaining performance and reliability, thermal interface materials (TIMs) are essential in enhancing heat dissipation. Given the limitations of traditional experimental methods, molecular dynamics (MD) simulations have increasingly been employed to analyze the intrinsic mechanisms of TIMs. The motivation of this review is to explore the potential of MD simulations in evaluating and predicting the properties and behaviors of TIMs. This review provides a comprehensive overview of the key aspects that influence TIM real-world utilization, including mechanical, thermal, and long-term reliability performance, while also discussing recent advancements in material engineering aimed at improving these properties, with a particular focus on atomic-level interactions and behaviors of TIMs. MD simulation algorithms specifically utilized for structural characterization, equation of state, transport properties, and non-equilibrium response of TIMs were discussed, offering guidance on selecting the appropriate tools for different properties. The limitations of molecular computation were also examined, raising challenges such as computational complexity, scale limitations, and the accuracy of predictive models and force fields. The review concludes by analyzing the challenges and future directions in TIM research, emphasizing the need for continued innovation to meet the evolving demands of next-generation electronic devices.                                                                                                                                                                                                                                                                                                                                                                                                                                                                                                                                                                                                                                                                                                                                                                                                                                                                                                                                                                                                                                                                                                                                                                                                                                                                                                                                                                                                                                                                                                                                                                                                                                               |Zhang M.; Zhao G.; Zhao Y.; Chen X.; Li Q.                                                                                                                                                                                                                                                                                                                                                                                                                                                                                                                                                                                                                                                                                                                                            |Journal         |Materials Today Communications                                         |2024-12-01      |Nanjing University of Science and Technology                                                                                                                                                                                                                                                                                                                                                                                                                                                                                                                                                                                                                                                                                                                                                                                                                                                                                                                                                                                                                                                                                                                     |[Interfacial thermal resistance ,   Material durability ,   Molecular dynamics simulation ,   Polymer-based materials ,   Thermal conductivity ,   Thermal interface materials]             |\n",
      "|Revolutionizing the future of hydrological science: Impact of machine learning and deep learning amidst emerging explainable AI and transfer learning                                                                                              |Artificial Intelligence (AI), Machine Learning (ML), and Deep Learning (DL) are revolutionizing hydrology, driving significant advancements in water resource management, modeling, and prediction. This review synthesizes cutting-edge developments, methodologies, and applications of AI-ML-DL across key hydrological processes. By critically evaluating these techniques against traditional models, we highlight their superior ability to capture complex, nonlinear relationships and adapt to diverse environments. We further explore AI applications in precipitation forecasting, evapotranspiration estimation, groundwater dynamics, and extreme event prediction (floods, droughts, and compound events), showcasing their timely potential in addressing critical water-related challenges. A particular emphasis is placed on Explainable AI (XAI) and transfer learning as essential tools for improving model transparency and applicability, enabling broader stakeholder trust and cross-regional adaptability. The review also addresses persistent challenges, including data limitations, computational demands, and model interpretability, proposing solutions that integrate emerging technologies like quantum computing, the Internet of Things (IoT), and interdisciplinary collaboration. This review charts a strategic course for future research and practice by bridging AI advancements with practical hydrological applications. Our findings highlight the importance of embracing AI-driven approaches for next-generation hydrological modeling and provide actionable understandings for researchers, practitioners, and policymakers. As hydrology faces escalating challenges due to human-induced climate change and growing water demands, the continued evolution of AI-integrated models and innovations in data handling and stakeholder engagement will be imperative. In conclusion, the findings emphasize the critical role of AI-driven hydrological modeling in addressing global water challenges, including climate change adaptation, sustainable water resource management, and disaster risk reduction.                                                                                                                                                                                                                                                                                                                                                                                                                                                                                                                                                                                                                                                                                                                                                                                                                                                                                                                                                                                                                                             |Maity R.; Srivastava A.; Sarkar S.; Khan M.                                                                                                                                                                                                                                                                                                                                                                                                                                                                                                                                                                                                                                                                                                                                           |Journal         |Applied Computing and Geosciences                                      |2024-12-01      |Indian Institute of Technology Kharagpur                                                                                                                                                                                                                                                                                                                                                                                                                                                                                                                                                                                                                                                                                                                                                                                                                                                                                                                                                                                                                                                                                                                         |[Climate change ,   Disaster risk reduction ,   Engineering hydrology ,   Hydrological modeling ,   Real-time forecasting ,   Water resources management]                                   |\n",
      "|Lost in translation: the lack of agreement between surgeons and scientists regarding biomaterials research and innovation for treating bone defects                                                                                                |Background : With over 2 million grafts performed annually, bone ranks second only to blood in the frequency of transplants. This high demand is primarily driven by the persistent challenges posed by bone defects, particularly following trauma or surgical interventions such as tumour excision. The demand for effective and efficient treatments has increased exponentially in the twenty-first century. Limitations associated with autologous bone grafts drive exploration into replacements, including allografts, synthetic substitutes, and 3D-printed scaffolds. This research aimed to unravel disparities in the knowledge and evaluation of current and future bone defect treatments between surgeons and biomaterial scientists. Methods: A prospective cross-sectional survey, pre-registered with the OSF (https://osf.io/y837m/?view_only=fab29e24df4f4adf897353ac70aa3361) and conducted online from October 2022 to March 2023, collected data on surgeons’ views (n = 337) and scientists (n = 99) on bone defect treatments. Results: Scientists were significantly more optimistic than surgeons regarding the future replacement of autologous bone grafts with synthetic or tissue-engineered substitutes (p < 0.001). Accordingly, scientists foresee a paradigm shift from autologous bone grafts to biomaterial and tissue-engineered solutions, reflecting their confidence in the ongoing advancements within this field. Furthermore, regulatory trepidations for 3D-printed bone scaffolds were acknowledged, with scientists emphasizing the need for a more significant focus on clinical relevance in preclinical studies and regulatory clarity. In a ranked categorical assessment, witnessing the technology in action was deemed most influential in adopting new bone regeneration methods by both scientists and surgeons. Conclusions: To conclude, this study was conducted through a web-based survey, highlighting a substantial translational gap. It underscores the immediate need (“call to action”) for meaningful interdisciplinary collaboration between surgeons and scientists, often referred to as the need to “walk the talk”. The findings underscore the critical importance of aligning clinical needs, research outcomes, and regulatory frameworks to improve the development and implementation of biomaterial-based bone graft substitutes that demonstrate efficacy and efficiency in bone defect treatment.                                                                                                                                                                                                                                                                                                                                                                                                                                                                                                                                                                                                                                                                                                                              |Laubach M.; Whyte S.; Chan H.; Frankenbach-Désor T.; Mayer-Wagner S.; Hildebrand F.; Holzapfel B.; Kneser U.; Dulleck U.; Hutmacher D.                                                                                                                                                                                                                                                                                                                                                                                                                                                                                                                                                                                                                                                |Journal         |BMC Medicine                                                           |2024-12-01      |QUT Business School;Faculty of Business, Government & Law;Universität Heidelberg;Queensland University of Technology;Uniklinik RWTH Aachen;Klinikum der Universität München                                                                                                                                                                                                                                                                                                                                                                                                                                                                                                                                                                                                                                                                                                                                                                                                                                                                                                                                                                                      |[3D printing ,   Bone substitutes ,   Interdisciplinary communication ,   Survey study ,   Tissue engineering]                                                                              |\n",
      "+---------------------------------------------------------------------------------------------------------------------------------------------------------------------------------------------------------------------------------------------------+-----------------------------------------------------------------------------------------------------------------------------------------------------------------------------------------------------------------------------------------------------------------------------------------------------------------------------------------------------------------------------------------------------------------------------------------------------------------------------------------------------------------------------------------------------------------------------------------------------------------------------------------------------------------------------------------------------------------------------------------------------------------------------------------------------------------------------------------------------------------------------------------------------------------------------------------------------------------------------------------------------------------------------------------------------------------------------------------------------------------------------------------------------------------------------------------------------------------------------------------------------------------------------------------------------------------------------------------------------------------------------------------------------------------------------------------------------------------------------------------------------------------------------------------------------------------------------------------------------------------------------------------------------------------------------------------------------------------------------------------------------------------------------------------------------------------------------------------------------------------------------------------------------------------------------------------------------------------------------------------------------------------------------------------------------------------------------------------------------------------------------------------------------------------------------------------------------------------------------------------------------------------------------------------------------------------------------------------------------------------------------------------------------------------------------------------------------------------------------------------------------------------------------------------------------------------------------------------------------------------------------------------------------------------------------------------------------------------------------------------------------------------------------------------------------------------------------------------------------------------------------------------------------------------------------------------------------------------------------------------------------------------------------------------------------------------------------------------------------------------------------------------------------------------------------------------------------------------+--------------------------------------------------------------------------------------------------------------------------------------------------------------------------------------------------------------------------------------------------------------------------------------------------------------------------------------------------------------------------------------------------------------------------------------------------------------------------------------------------------------------------------------------------------------------------------------------------------------------------------------------------------------------------------------------------------------------------------------------------------------------------------------+----------------+-----------------------------------------------------------------------+----------------+-----------------------------------------------------------------------------------------------------------------------------------------------------------------------------------------------------------------------------------------------------------------------------------------------------------------------------------------------------------------------------------------------------------------------------------------------------------------------------------------------------------------------------------------------------------------------------------------------------------------------------------------------------------------------------------------------------------------------------------------------------------------------------------------------------------------------------------------------------------------------------------------------------------------------------------------------------------------------------------------------------------------------------------------------------------------------------------------------------------------------------------------------------------------+--------------------------------------------------------------------------------------------------------------------------------------------------------------------------------------------+\n",
      "only showing top 20 rows\n",
      "\n"
     ]
    }
   ],
   "source": [
    "from pyspark.sql.functions import split\n",
    "df_split = df.withColumn(\"Keywords\", split(df[\"Keywords\"], \";\"))\n",
    "\n",
    "# Show the result\n",
    "df_split.show(truncate=False)"
   ]
  },
  {
   "cell_type": "code",
   "execution_count": 186,
   "metadata": {},
   "outputs": [
    {
     "name": "stdout",
     "output_type": "stream",
     "text": [
      "+---------------------------+-----+\n",
      "|Keywords                   |Count|\n",
      "+---------------------------+-----+\n",
      "|higher education           |74   |\n",
      "|artificial intelligence    |73   |\n",
      "|machine learning           |61   |\n",
      "|educational innovation     |61   |\n",
      "|green technology innovation|57   |\n",
      "|sustainability             |47   |\n",
      "|deep learning              |32   |\n",
      "|tissue engineering         |28   |\n",
      "|education                  |26   |\n",
      "|technology                 |26   |\n",
      "|biomaterials               |22   |\n",
      "|3d printing                |20   |\n",
      "|bibliometric analysis      |18   |\n",
      "|blockchain                 |17   |\n",
      "|digital transformation     |17   |\n",
      "|drug delivery              |16   |\n",
      "|sustainable development    |16   |\n",
      "|industry 4.0               |15   |\n",
      "|stem                       |15   |\n",
      "|virtual reality            |15   |\n",
      "+---------------------------+-----+\n",
      "only showing top 20 rows\n",
      "\n"
     ]
    }
   ],
   "source": [
    "from pyspark.sql.functions import split, explode, trim, lower, col\n",
    "\n",
    "df_exploded = df_split.withColumn(\"Keywords\", explode(col(\"Keywords\")))\n",
    "df_cleaned = df_exploded.withColumn(\"Keywords\", lower(trim(col(\"Keywords\"))))\n",
    "df_counts = df_cleaned.groupBy(\"Keywords\").count()\n",
    "\n",
    "# Step 5: Filter keywords with count > 1\n",
    "\n",
    "df_filtered = df_counts.filter(col(\"Count\") > 5)\n",
    "df_filtered = df_filtered.sort(col(\"Count\").desc())\n",
    "df_filtered = df_filtered.withColumnRenamed(\"count\", \"Count\")\n",
    "df_filtered = df_filtered.filter(~col(\"Keywords\").isin(\"thailand\", \"innovation\", \"research\",\"engineering\",\"open innovation\",\"open source\",\"open data\",\"open access\",\"open science\",\"open source software\",\"engineering education\",\"engineering design\",\"engineering management\",\"engineering mathematics\",\"engineering mechanics\",\"engineering physics\",\"engineering science\",\"engineering technology\"))\n",
    "df_filtered.show(truncate=False)"
   ]
  },
  {
   "cell_type": "code",
   "execution_count": 187,
   "metadata": {},
   "outputs": [
    {
     "data": {
      "text/html": [
       "        <script type=\"text/javascript\">\n",
       "        window.PlotlyConfig = {MathJaxConfig: 'local'};\n",
       "        if (window.MathJax && window.MathJax.Hub && window.MathJax.Hub.Config) {window.MathJax.Hub.Config({SVG: {font: \"STIX-Web\"}});}\n",
       "        if (typeof require !== 'undefined') {\n",
       "        require.undef(\"plotly\");\n",
       "        requirejs.config({\n",
       "            paths: {\n",
       "                'plotly': ['https://cdn.plot.ly/plotly-2.35.2.min']\n",
       "            }\n",
       "        });\n",
       "        require(['plotly'], function(Plotly) {\n",
       "            window._Plotly = Plotly;\n",
       "        });\n",
       "        }\n",
       "        </script>\n",
       "        "
      ]
     },
     "metadata": {},
     "output_type": "display_data"
    },
    {
     "data": {
      "application/vnd.plotly.v1+json": {
       "config": {
        "linkText": "Export to plot.ly",
        "plotlyServerURL": "https://plot.ly",
        "showLink": true
       },
       "data": [
        {
         "marker": {
          "color": "rgba(255, 153, 51, 0.6)",
          "line": {
           "color": "rgba(255, 153, 51, 1.0)",
           "width": 1
          }
         },
         "name": "Count",
         "orientation": "v",
         "text": "",
         "type": "bar",
         "x": [
          "higher education",
          "artificial intelligence",
          "machine learning",
          "educational innovation",
          "green technology innovation",
          "sustainability",
          "deep learning",
          "tissue engineering",
          "education",
          "technology",
          "biomaterials",
          "3d printing",
          "bibliometric analysis",
          "blockchain",
          "digital transformation",
          "drug delivery",
          "sustainable development",
          "industry 4.0",
          "stem",
          "virtual reality",
          "renewable energy",
          "digitalization",
          "chatgpt",
          "artificial intelligence (ai)",
          "biomedical engineering",
          "iot",
          "entrepreneurship",
          "additive manufacturing",
          "regenerative medicine",
          "technology innovation",
          "big data",
          "nanotechnology",
          "generative ai",
          "project-based learning",
          "ethics",
          "china",
          "project management",
          "energy efficiency",
          "green finance",
          "design thinking",
          "challenge-based learning",
          "synthetic biology",
          "internet of things",
          "ai",
          "knowledge management",
          "patent analysis",
          "technological innovation",
          "innovation management",
          "biomedical applications",
          "vosviewer",
          "learning",
          "automation",
          "prompt engineering",
          "bibliometrics",
          "large language models",
          "stem education",
          "energy harvesting",
          "biotechnology",
          "digital technologies",
          "augmented reality",
          "mechanical properties",
          "natural language processing",
          "citespace",
          "hydrogel",
          "3d bioprinting",
          "optimization",
          "design",
          "sustainable development goals",
          "educational technology",
          "digital technology",
          "creativity",
          "feature engineering",
          "computer science",
          "resilience",
          "bioengineering",
          "product development",
          "genetic engineering",
          "bioprinting",
          "software engineering",
          "teaching innovation",
          "product design",
          "systematic literature review",
          "green innovation",
          "digital twin",
          "metaverse",
          "technology adoption",
          "patent",
          "climate change",
          "construction industry",
          "industry",
          "safety",
          "research and development",
          "teaching",
          "triz",
          "biocompatibility",
          "energy",
          "responsible research and innovation",
          "environmental impact",
          "environmental regulation",
          "systems engineering",
          "polymers",
          "entrepreneurship education",
          "wound healing",
          "review",
          "sensors",
          "surface engineering",
          "blockchain technology",
          "carbon emissions",
          "professional education",
          "digital finance",
          "steam education",
          "digital economy",
          "bibliometric",
          "assessment"
         ],
         "y": [
          74,
          73,
          61,
          61,
          57,
          47,
          32,
          28,
          26,
          26,
          22,
          20,
          18,
          17,
          17,
          16,
          16,
          15,
          15,
          15,
          15,
          14,
          14,
          13,
          13,
          12,
          12,
          11,
          11,
          10,
          10,
          10,
          10,
          10,
          10,
          10,
          9,
          9,
          9,
          9,
          9,
          9,
          9,
          9,
          9,
          9,
          8,
          8,
          8,
          8,
          8,
          8,
          8,
          8,
          8,
          8,
          8,
          8,
          8,
          8,
          8,
          8,
          8,
          8,
          8,
          8,
          8,
          8,
          8,
          8,
          7,
          7,
          7,
          7,
          7,
          7,
          7,
          7,
          7,
          7,
          7,
          7,
          7,
          7,
          7,
          7,
          7,
          7,
          7,
          6,
          6,
          6,
          6,
          6,
          6,
          6,
          6,
          6,
          6,
          6,
          6,
          6,
          6,
          6,
          6,
          6,
          6,
          6,
          6,
          6,
          6,
          6,
          6,
          6
         ]
        }
       ],
       "layout": {
        "legend": {
         "bgcolor": "#F5F6F9",
         "font": {
          "color": "#4D5663"
         }
        },
        "paper_bgcolor": "#F5F6F9",
        "plot_bgcolor": "#F5F6F9",
        "template": {
         "data": {
          "bar": [
           {
            "error_x": {
             "color": "#2a3f5f"
            },
            "error_y": {
             "color": "#2a3f5f"
            },
            "marker": {
             "line": {
              "color": "#E5ECF6",
              "width": 0.5
             },
             "pattern": {
              "fillmode": "overlay",
              "size": 10,
              "solidity": 0.2
             }
            },
            "type": "bar"
           }
          ],
          "barpolar": [
           {
            "marker": {
             "line": {
              "color": "#E5ECF6",
              "width": 0.5
             },
             "pattern": {
              "fillmode": "overlay",
              "size": 10,
              "solidity": 0.2
             }
            },
            "type": "barpolar"
           }
          ],
          "carpet": [
           {
            "aaxis": {
             "endlinecolor": "#2a3f5f",
             "gridcolor": "white",
             "linecolor": "white",
             "minorgridcolor": "white",
             "startlinecolor": "#2a3f5f"
            },
            "baxis": {
             "endlinecolor": "#2a3f5f",
             "gridcolor": "white",
             "linecolor": "white",
             "minorgridcolor": "white",
             "startlinecolor": "#2a3f5f"
            },
            "type": "carpet"
           }
          ],
          "choropleth": [
           {
            "colorbar": {
             "outlinewidth": 0,
             "ticks": ""
            },
            "type": "choropleth"
           }
          ],
          "contour": [
           {
            "colorbar": {
             "outlinewidth": 0,
             "ticks": ""
            },
            "colorscale": [
             [
              0,
              "#0d0887"
             ],
             [
              0.1111111111111111,
              "#46039f"
             ],
             [
              0.2222222222222222,
              "#7201a8"
             ],
             [
              0.3333333333333333,
              "#9c179e"
             ],
             [
              0.4444444444444444,
              "#bd3786"
             ],
             [
              0.5555555555555556,
              "#d8576b"
             ],
             [
              0.6666666666666666,
              "#ed7953"
             ],
             [
              0.7777777777777778,
              "#fb9f3a"
             ],
             [
              0.8888888888888888,
              "#fdca26"
             ],
             [
              1,
              "#f0f921"
             ]
            ],
            "type": "contour"
           }
          ],
          "contourcarpet": [
           {
            "colorbar": {
             "outlinewidth": 0,
             "ticks": ""
            },
            "type": "contourcarpet"
           }
          ],
          "heatmap": [
           {
            "colorbar": {
             "outlinewidth": 0,
             "ticks": ""
            },
            "colorscale": [
             [
              0,
              "#0d0887"
             ],
             [
              0.1111111111111111,
              "#46039f"
             ],
             [
              0.2222222222222222,
              "#7201a8"
             ],
             [
              0.3333333333333333,
              "#9c179e"
             ],
             [
              0.4444444444444444,
              "#bd3786"
             ],
             [
              0.5555555555555556,
              "#d8576b"
             ],
             [
              0.6666666666666666,
              "#ed7953"
             ],
             [
              0.7777777777777778,
              "#fb9f3a"
             ],
             [
              0.8888888888888888,
              "#fdca26"
             ],
             [
              1,
              "#f0f921"
             ]
            ],
            "type": "heatmap"
           }
          ],
          "heatmapgl": [
           {
            "colorbar": {
             "outlinewidth": 0,
             "ticks": ""
            },
            "colorscale": [
             [
              0,
              "#0d0887"
             ],
             [
              0.1111111111111111,
              "#46039f"
             ],
             [
              0.2222222222222222,
              "#7201a8"
             ],
             [
              0.3333333333333333,
              "#9c179e"
             ],
             [
              0.4444444444444444,
              "#bd3786"
             ],
             [
              0.5555555555555556,
              "#d8576b"
             ],
             [
              0.6666666666666666,
              "#ed7953"
             ],
             [
              0.7777777777777778,
              "#fb9f3a"
             ],
             [
              0.8888888888888888,
              "#fdca26"
             ],
             [
              1,
              "#f0f921"
             ]
            ],
            "type": "heatmapgl"
           }
          ],
          "histogram": [
           {
            "marker": {
             "pattern": {
              "fillmode": "overlay",
              "size": 10,
              "solidity": 0.2
             }
            },
            "type": "histogram"
           }
          ],
          "histogram2d": [
           {
            "colorbar": {
             "outlinewidth": 0,
             "ticks": ""
            },
            "colorscale": [
             [
              0,
              "#0d0887"
             ],
             [
              0.1111111111111111,
              "#46039f"
             ],
             [
              0.2222222222222222,
              "#7201a8"
             ],
             [
              0.3333333333333333,
              "#9c179e"
             ],
             [
              0.4444444444444444,
              "#bd3786"
             ],
             [
              0.5555555555555556,
              "#d8576b"
             ],
             [
              0.6666666666666666,
              "#ed7953"
             ],
             [
              0.7777777777777778,
              "#fb9f3a"
             ],
             [
              0.8888888888888888,
              "#fdca26"
             ],
             [
              1,
              "#f0f921"
             ]
            ],
            "type": "histogram2d"
           }
          ],
          "histogram2dcontour": [
           {
            "colorbar": {
             "outlinewidth": 0,
             "ticks": ""
            },
            "colorscale": [
             [
              0,
              "#0d0887"
             ],
             [
              0.1111111111111111,
              "#46039f"
             ],
             [
              0.2222222222222222,
              "#7201a8"
             ],
             [
              0.3333333333333333,
              "#9c179e"
             ],
             [
              0.4444444444444444,
              "#bd3786"
             ],
             [
              0.5555555555555556,
              "#d8576b"
             ],
             [
              0.6666666666666666,
              "#ed7953"
             ],
             [
              0.7777777777777778,
              "#fb9f3a"
             ],
             [
              0.8888888888888888,
              "#fdca26"
             ],
             [
              1,
              "#f0f921"
             ]
            ],
            "type": "histogram2dcontour"
           }
          ],
          "mesh3d": [
           {
            "colorbar": {
             "outlinewidth": 0,
             "ticks": ""
            },
            "type": "mesh3d"
           }
          ],
          "parcoords": [
           {
            "line": {
             "colorbar": {
              "outlinewidth": 0,
              "ticks": ""
             }
            },
            "type": "parcoords"
           }
          ],
          "pie": [
           {
            "automargin": true,
            "type": "pie"
           }
          ],
          "scatter": [
           {
            "fillpattern": {
             "fillmode": "overlay",
             "size": 10,
             "solidity": 0.2
            },
            "type": "scatter"
           }
          ],
          "scatter3d": [
           {
            "line": {
             "colorbar": {
              "outlinewidth": 0,
              "ticks": ""
             }
            },
            "marker": {
             "colorbar": {
              "outlinewidth": 0,
              "ticks": ""
             }
            },
            "type": "scatter3d"
           }
          ],
          "scattercarpet": [
           {
            "marker": {
             "colorbar": {
              "outlinewidth": 0,
              "ticks": ""
             }
            },
            "type": "scattercarpet"
           }
          ],
          "scattergeo": [
           {
            "marker": {
             "colorbar": {
              "outlinewidth": 0,
              "ticks": ""
             }
            },
            "type": "scattergeo"
           }
          ],
          "scattergl": [
           {
            "marker": {
             "colorbar": {
              "outlinewidth": 0,
              "ticks": ""
             }
            },
            "type": "scattergl"
           }
          ],
          "scattermapbox": [
           {
            "marker": {
             "colorbar": {
              "outlinewidth": 0,
              "ticks": ""
             }
            },
            "type": "scattermapbox"
           }
          ],
          "scatterpolar": [
           {
            "marker": {
             "colorbar": {
              "outlinewidth": 0,
              "ticks": ""
             }
            },
            "type": "scatterpolar"
           }
          ],
          "scatterpolargl": [
           {
            "marker": {
             "colorbar": {
              "outlinewidth": 0,
              "ticks": ""
             }
            },
            "type": "scatterpolargl"
           }
          ],
          "scatterternary": [
           {
            "marker": {
             "colorbar": {
              "outlinewidth": 0,
              "ticks": ""
             }
            },
            "type": "scatterternary"
           }
          ],
          "surface": [
           {
            "colorbar": {
             "outlinewidth": 0,
             "ticks": ""
            },
            "colorscale": [
             [
              0,
              "#0d0887"
             ],
             [
              0.1111111111111111,
              "#46039f"
             ],
             [
              0.2222222222222222,
              "#7201a8"
             ],
             [
              0.3333333333333333,
              "#9c179e"
             ],
             [
              0.4444444444444444,
              "#bd3786"
             ],
             [
              0.5555555555555556,
              "#d8576b"
             ],
             [
              0.6666666666666666,
              "#ed7953"
             ],
             [
              0.7777777777777778,
              "#fb9f3a"
             ],
             [
              0.8888888888888888,
              "#fdca26"
             ],
             [
              1,
              "#f0f921"
             ]
            ],
            "type": "surface"
           }
          ],
          "table": [
           {
            "cells": {
             "fill": {
              "color": "#EBF0F8"
             },
             "line": {
              "color": "white"
             }
            },
            "header": {
             "fill": {
              "color": "#C8D4E3"
             },
             "line": {
              "color": "white"
             }
            },
            "type": "table"
           }
          ]
         },
         "layout": {
          "annotationdefaults": {
           "arrowcolor": "#2a3f5f",
           "arrowhead": 0,
           "arrowwidth": 1
          },
          "autotypenumbers": "strict",
          "coloraxis": {
           "colorbar": {
            "outlinewidth": 0,
            "ticks": ""
           }
          },
          "colorscale": {
           "diverging": [
            [
             0,
             "#8e0152"
            ],
            [
             0.1,
             "#c51b7d"
            ],
            [
             0.2,
             "#de77ae"
            ],
            [
             0.3,
             "#f1b6da"
            ],
            [
             0.4,
             "#fde0ef"
            ],
            [
             0.5,
             "#f7f7f7"
            ],
            [
             0.6,
             "#e6f5d0"
            ],
            [
             0.7,
             "#b8e186"
            ],
            [
             0.8,
             "#7fbc41"
            ],
            [
             0.9,
             "#4d9221"
            ],
            [
             1,
             "#276419"
            ]
           ],
           "sequential": [
            [
             0,
             "#0d0887"
            ],
            [
             0.1111111111111111,
             "#46039f"
            ],
            [
             0.2222222222222222,
             "#7201a8"
            ],
            [
             0.3333333333333333,
             "#9c179e"
            ],
            [
             0.4444444444444444,
             "#bd3786"
            ],
            [
             0.5555555555555556,
             "#d8576b"
            ],
            [
             0.6666666666666666,
             "#ed7953"
            ],
            [
             0.7777777777777778,
             "#fb9f3a"
            ],
            [
             0.8888888888888888,
             "#fdca26"
            ],
            [
             1,
             "#f0f921"
            ]
           ],
           "sequentialminus": [
            [
             0,
             "#0d0887"
            ],
            [
             0.1111111111111111,
             "#46039f"
            ],
            [
             0.2222222222222222,
             "#7201a8"
            ],
            [
             0.3333333333333333,
             "#9c179e"
            ],
            [
             0.4444444444444444,
             "#bd3786"
            ],
            [
             0.5555555555555556,
             "#d8576b"
            ],
            [
             0.6666666666666666,
             "#ed7953"
            ],
            [
             0.7777777777777778,
             "#fb9f3a"
            ],
            [
             0.8888888888888888,
             "#fdca26"
            ],
            [
             1,
             "#f0f921"
            ]
           ]
          },
          "colorway": [
           "#636efa",
           "#EF553B",
           "#00cc96",
           "#ab63fa",
           "#FFA15A",
           "#19d3f3",
           "#FF6692",
           "#B6E880",
           "#FF97FF",
           "#FECB52"
          ],
          "font": {
           "color": "#2a3f5f"
          },
          "geo": {
           "bgcolor": "white",
           "lakecolor": "white",
           "landcolor": "#E5ECF6",
           "showlakes": true,
           "showland": true,
           "subunitcolor": "white"
          },
          "hoverlabel": {
           "align": "left"
          },
          "hovermode": "closest",
          "mapbox": {
           "style": "light"
          },
          "paper_bgcolor": "white",
          "plot_bgcolor": "#E5ECF6",
          "polar": {
           "angularaxis": {
            "gridcolor": "white",
            "linecolor": "white",
            "ticks": ""
           },
           "bgcolor": "#E5ECF6",
           "radialaxis": {
            "gridcolor": "white",
            "linecolor": "white",
            "ticks": ""
           }
          },
          "scene": {
           "xaxis": {
            "backgroundcolor": "#E5ECF6",
            "gridcolor": "white",
            "gridwidth": 2,
            "linecolor": "white",
            "showbackground": true,
            "ticks": "",
            "zerolinecolor": "white"
           },
           "yaxis": {
            "backgroundcolor": "#E5ECF6",
            "gridcolor": "white",
            "gridwidth": 2,
            "linecolor": "white",
            "showbackground": true,
            "ticks": "",
            "zerolinecolor": "white"
           },
           "zaxis": {
            "backgroundcolor": "#E5ECF6",
            "gridcolor": "white",
            "gridwidth": 2,
            "linecolor": "white",
            "showbackground": true,
            "ticks": "",
            "zerolinecolor": "white"
           }
          },
          "shapedefaults": {
           "line": {
            "color": "#2a3f5f"
           }
          },
          "ternary": {
           "aaxis": {
            "gridcolor": "white",
            "linecolor": "white",
            "ticks": ""
           },
           "baxis": {
            "gridcolor": "white",
            "linecolor": "white",
            "ticks": ""
           },
           "bgcolor": "#E5ECF6",
           "caxis": {
            "gridcolor": "white",
            "linecolor": "white",
            "ticks": ""
           }
          },
          "title": {
           "x": 0.05
          },
          "xaxis": {
           "automargin": true,
           "gridcolor": "white",
           "linecolor": "white",
           "ticks": "",
           "title": {
            "standoff": 15
           },
           "zerolinecolor": "white",
           "zerolinewidth": 2
          },
          "yaxis": {
           "automargin": true,
           "gridcolor": "white",
           "linecolor": "white",
           "ticks": "",
           "title": {
            "standoff": 15
           },
           "zerolinecolor": "white",
           "zerolinewidth": 2
          }
         }
        },
        "title": {
         "font": {
          "color": "#4D5663"
         },
         "text": "Keyword Count"
        },
        "xaxis": {
         "gridcolor": "#E1E5ED",
         "showgrid": true,
         "tickfont": {
          "color": "#4D5663"
         },
         "title": {
          "font": {
           "color": "#4D5663"
          },
          "text": ""
         },
         "zerolinecolor": "#E1E5ED"
        },
        "yaxis": {
         "gridcolor": "#E1E5ED",
         "showgrid": true,
         "tickfont": {
          "color": "#4D5663"
         },
         "title": {
          "font": {
           "color": "#4D5663"
          },
          "text": ""
         },
         "zerolinecolor": "#E1E5ED"
        }
       }
      },
      "text/html": [
       "<div>                            <div id=\"3b392749-eebc-4148-948d-7a1e2777c5af\" class=\"plotly-graph-div\" style=\"height:525px; width:100%;\"></div>            <script type=\"text/javascript\">                require([\"plotly\"], function(Plotly) {                    window.PLOTLYENV=window.PLOTLYENV || {};\n",
       "                    window.PLOTLYENV.BASE_URL='https://plot.ly';                                    if (document.getElementById(\"3b392749-eebc-4148-948d-7a1e2777c5af\")) {                    Plotly.newPlot(                        \"3b392749-eebc-4148-948d-7a1e2777c5af\",                        [{\"marker\":{\"color\":\"rgba(255, 153, 51, 0.6)\",\"line\":{\"color\":\"rgba(255, 153, 51, 1.0)\",\"width\":1}},\"name\":\"Count\",\"orientation\":\"v\",\"text\":\"\",\"x\":[\"higher education\",\"artificial intelligence\",\"machine learning\",\"educational innovation\",\"green technology innovation\",\"sustainability\",\"deep learning\",\"tissue engineering\",\"education\",\"technology\",\"biomaterials\",\"3d printing\",\"bibliometric analysis\",\"blockchain\",\"digital transformation\",\"drug delivery\",\"sustainable development\",\"industry 4.0\",\"stem\",\"virtual reality\",\"renewable energy\",\"digitalization\",\"chatgpt\",\"artificial intelligence (ai)\",\"biomedical engineering\",\"iot\",\"entrepreneurship\",\"additive manufacturing\",\"regenerative medicine\",\"technology innovation\",\"big data\",\"nanotechnology\",\"generative ai\",\"project-based learning\",\"ethics\",\"china\",\"project management\",\"energy efficiency\",\"green finance\",\"design thinking\",\"challenge-based learning\",\"synthetic biology\",\"internet of things\",\"ai\",\"knowledge management\",\"patent analysis\",\"technological innovation\",\"innovation management\",\"biomedical applications\",\"vosviewer\",\"learning\",\"automation\",\"prompt engineering\",\"bibliometrics\",\"large language models\",\"stem education\",\"energy harvesting\",\"biotechnology\",\"digital technologies\",\"augmented reality\",\"mechanical properties\",\"natural language processing\",\"citespace\",\"hydrogel\",\"3d bioprinting\",\"optimization\",\"design\",\"sustainable development goals\",\"educational technology\",\"digital technology\",\"creativity\",\"feature engineering\",\"computer science\",\"resilience\",\"bioengineering\",\"product development\",\"genetic engineering\",\"bioprinting\",\"software engineering\",\"teaching innovation\",\"product design\",\"systematic literature review\",\"green innovation\",\"digital twin\",\"metaverse\",\"technology adoption\",\"patent\",\"climate change\",\"construction industry\",\"industry\",\"safety\",\"research and development\",\"teaching\",\"triz\",\"biocompatibility\",\"energy\",\"responsible research and innovation\",\"environmental impact\",\"environmental regulation\",\"systems engineering\",\"polymers\",\"entrepreneurship education\",\"wound healing\",\"review\",\"sensors\",\"surface engineering\",\"blockchain technology\",\"carbon emissions\",\"professional education\",\"digital finance\",\"steam education\",\"digital economy\",\"bibliometric\",\"assessment\"],\"y\":[74,73,61,61,57,47,32,28,26,26,22,20,18,17,17,16,16,15,15,15,15,14,14,13,13,12,12,11,11,10,10,10,10,10,10,10,9,9,9,9,9,9,9,9,9,9,8,8,8,8,8,8,8,8,8,8,8,8,8,8,8,8,8,8,8,8,8,8,8,8,7,7,7,7,7,7,7,7,7,7,7,7,7,7,7,7,7,7,7,6,6,6,6,6,6,6,6,6,6,6,6,6,6,6,6,6,6,6,6,6,6,6,6,6],\"type\":\"bar\"}],                        {\"legend\":{\"bgcolor\":\"#F5F6F9\",\"font\":{\"color\":\"#4D5663\"}},\"paper_bgcolor\":\"#F5F6F9\",\"plot_bgcolor\":\"#F5F6F9\",\"template\":{\"data\":{\"barpolar\":[{\"marker\":{\"line\":{\"color\":\"#E5ECF6\",\"width\":0.5},\"pattern\":{\"fillmode\":\"overlay\",\"size\":10,\"solidity\":0.2}},\"type\":\"barpolar\"}],\"bar\":[{\"error_x\":{\"color\":\"#2a3f5f\"},\"error_y\":{\"color\":\"#2a3f5f\"},\"marker\":{\"line\":{\"color\":\"#E5ECF6\",\"width\":0.5},\"pattern\":{\"fillmode\":\"overlay\",\"size\":10,\"solidity\":0.2}},\"type\":\"bar\"}],\"carpet\":[{\"aaxis\":{\"endlinecolor\":\"#2a3f5f\",\"gridcolor\":\"white\",\"linecolor\":\"white\",\"minorgridcolor\":\"white\",\"startlinecolor\":\"#2a3f5f\"},\"baxis\":{\"endlinecolor\":\"#2a3f5f\",\"gridcolor\":\"white\",\"linecolor\":\"white\",\"minorgridcolor\":\"white\",\"startlinecolor\":\"#2a3f5f\"},\"type\":\"carpet\"}],\"choropleth\":[{\"colorbar\":{\"outlinewidth\":0,\"ticks\":\"\"},\"type\":\"choropleth\"}],\"contourcarpet\":[{\"colorbar\":{\"outlinewidth\":0,\"ticks\":\"\"},\"type\":\"contourcarpet\"}],\"contour\":[{\"colorbar\":{\"outlinewidth\":0,\"ticks\":\"\"},\"colorscale\":[[0.0,\"#0d0887\"],[0.1111111111111111,\"#46039f\"],[0.2222222222222222,\"#7201a8\"],[0.3333333333333333,\"#9c179e\"],[0.4444444444444444,\"#bd3786\"],[0.5555555555555556,\"#d8576b\"],[0.6666666666666666,\"#ed7953\"],[0.7777777777777778,\"#fb9f3a\"],[0.8888888888888888,\"#fdca26\"],[1.0,\"#f0f921\"]],\"type\":\"contour\"}],\"heatmapgl\":[{\"colorbar\":{\"outlinewidth\":0,\"ticks\":\"\"},\"colorscale\":[[0.0,\"#0d0887\"],[0.1111111111111111,\"#46039f\"],[0.2222222222222222,\"#7201a8\"],[0.3333333333333333,\"#9c179e\"],[0.4444444444444444,\"#bd3786\"],[0.5555555555555556,\"#d8576b\"],[0.6666666666666666,\"#ed7953\"],[0.7777777777777778,\"#fb9f3a\"],[0.8888888888888888,\"#fdca26\"],[1.0,\"#f0f921\"]],\"type\":\"heatmapgl\"}],\"heatmap\":[{\"colorbar\":{\"outlinewidth\":0,\"ticks\":\"\"},\"colorscale\":[[0.0,\"#0d0887\"],[0.1111111111111111,\"#46039f\"],[0.2222222222222222,\"#7201a8\"],[0.3333333333333333,\"#9c179e\"],[0.4444444444444444,\"#bd3786\"],[0.5555555555555556,\"#d8576b\"],[0.6666666666666666,\"#ed7953\"],[0.7777777777777778,\"#fb9f3a\"],[0.8888888888888888,\"#fdca26\"],[1.0,\"#f0f921\"]],\"type\":\"heatmap\"}],\"histogram2dcontour\":[{\"colorbar\":{\"outlinewidth\":0,\"ticks\":\"\"},\"colorscale\":[[0.0,\"#0d0887\"],[0.1111111111111111,\"#46039f\"],[0.2222222222222222,\"#7201a8\"],[0.3333333333333333,\"#9c179e\"],[0.4444444444444444,\"#bd3786\"],[0.5555555555555556,\"#d8576b\"],[0.6666666666666666,\"#ed7953\"],[0.7777777777777778,\"#fb9f3a\"],[0.8888888888888888,\"#fdca26\"],[1.0,\"#f0f921\"]],\"type\":\"histogram2dcontour\"}],\"histogram2d\":[{\"colorbar\":{\"outlinewidth\":0,\"ticks\":\"\"},\"colorscale\":[[0.0,\"#0d0887\"],[0.1111111111111111,\"#46039f\"],[0.2222222222222222,\"#7201a8\"],[0.3333333333333333,\"#9c179e\"],[0.4444444444444444,\"#bd3786\"],[0.5555555555555556,\"#d8576b\"],[0.6666666666666666,\"#ed7953\"],[0.7777777777777778,\"#fb9f3a\"],[0.8888888888888888,\"#fdca26\"],[1.0,\"#f0f921\"]],\"type\":\"histogram2d\"}],\"histogram\":[{\"marker\":{\"pattern\":{\"fillmode\":\"overlay\",\"size\":10,\"solidity\":0.2}},\"type\":\"histogram\"}],\"mesh3d\":[{\"colorbar\":{\"outlinewidth\":0,\"ticks\":\"\"},\"type\":\"mesh3d\"}],\"parcoords\":[{\"line\":{\"colorbar\":{\"outlinewidth\":0,\"ticks\":\"\"}},\"type\":\"parcoords\"}],\"pie\":[{\"automargin\":true,\"type\":\"pie\"}],\"scatter3d\":[{\"line\":{\"colorbar\":{\"outlinewidth\":0,\"ticks\":\"\"}},\"marker\":{\"colorbar\":{\"outlinewidth\":0,\"ticks\":\"\"}},\"type\":\"scatter3d\"}],\"scattercarpet\":[{\"marker\":{\"colorbar\":{\"outlinewidth\":0,\"ticks\":\"\"}},\"type\":\"scattercarpet\"}],\"scattergeo\":[{\"marker\":{\"colorbar\":{\"outlinewidth\":0,\"ticks\":\"\"}},\"type\":\"scattergeo\"}],\"scattergl\":[{\"marker\":{\"colorbar\":{\"outlinewidth\":0,\"ticks\":\"\"}},\"type\":\"scattergl\"}],\"scattermapbox\":[{\"marker\":{\"colorbar\":{\"outlinewidth\":0,\"ticks\":\"\"}},\"type\":\"scattermapbox\"}],\"scatterpolargl\":[{\"marker\":{\"colorbar\":{\"outlinewidth\":0,\"ticks\":\"\"}},\"type\":\"scatterpolargl\"}],\"scatterpolar\":[{\"marker\":{\"colorbar\":{\"outlinewidth\":0,\"ticks\":\"\"}},\"type\":\"scatterpolar\"}],\"scatter\":[{\"fillpattern\":{\"fillmode\":\"overlay\",\"size\":10,\"solidity\":0.2},\"type\":\"scatter\"}],\"scatterternary\":[{\"marker\":{\"colorbar\":{\"outlinewidth\":0,\"ticks\":\"\"}},\"type\":\"scatterternary\"}],\"surface\":[{\"colorbar\":{\"outlinewidth\":0,\"ticks\":\"\"},\"colorscale\":[[0.0,\"#0d0887\"],[0.1111111111111111,\"#46039f\"],[0.2222222222222222,\"#7201a8\"],[0.3333333333333333,\"#9c179e\"],[0.4444444444444444,\"#bd3786\"],[0.5555555555555556,\"#d8576b\"],[0.6666666666666666,\"#ed7953\"],[0.7777777777777778,\"#fb9f3a\"],[0.8888888888888888,\"#fdca26\"],[1.0,\"#f0f921\"]],\"type\":\"surface\"}],\"table\":[{\"cells\":{\"fill\":{\"color\":\"#EBF0F8\"},\"line\":{\"color\":\"white\"}},\"header\":{\"fill\":{\"color\":\"#C8D4E3\"},\"line\":{\"color\":\"white\"}},\"type\":\"table\"}]},\"layout\":{\"annotationdefaults\":{\"arrowcolor\":\"#2a3f5f\",\"arrowhead\":0,\"arrowwidth\":1},\"autotypenumbers\":\"strict\",\"coloraxis\":{\"colorbar\":{\"outlinewidth\":0,\"ticks\":\"\"}},\"colorscale\":{\"diverging\":[[0,\"#8e0152\"],[0.1,\"#c51b7d\"],[0.2,\"#de77ae\"],[0.3,\"#f1b6da\"],[0.4,\"#fde0ef\"],[0.5,\"#f7f7f7\"],[0.6,\"#e6f5d0\"],[0.7,\"#b8e186\"],[0.8,\"#7fbc41\"],[0.9,\"#4d9221\"],[1,\"#276419\"]],\"sequential\":[[0.0,\"#0d0887\"],[0.1111111111111111,\"#46039f\"],[0.2222222222222222,\"#7201a8\"],[0.3333333333333333,\"#9c179e\"],[0.4444444444444444,\"#bd3786\"],[0.5555555555555556,\"#d8576b\"],[0.6666666666666666,\"#ed7953\"],[0.7777777777777778,\"#fb9f3a\"],[0.8888888888888888,\"#fdca26\"],[1.0,\"#f0f921\"]],\"sequentialminus\":[[0.0,\"#0d0887\"],[0.1111111111111111,\"#46039f\"],[0.2222222222222222,\"#7201a8\"],[0.3333333333333333,\"#9c179e\"],[0.4444444444444444,\"#bd3786\"],[0.5555555555555556,\"#d8576b\"],[0.6666666666666666,\"#ed7953\"],[0.7777777777777778,\"#fb9f3a\"],[0.8888888888888888,\"#fdca26\"],[1.0,\"#f0f921\"]]},\"colorway\":[\"#636efa\",\"#EF553B\",\"#00cc96\",\"#ab63fa\",\"#FFA15A\",\"#19d3f3\",\"#FF6692\",\"#B6E880\",\"#FF97FF\",\"#FECB52\"],\"font\":{\"color\":\"#2a3f5f\"},\"geo\":{\"bgcolor\":\"white\",\"lakecolor\":\"white\",\"landcolor\":\"#E5ECF6\",\"showlakes\":true,\"showland\":true,\"subunitcolor\":\"white\"},\"hoverlabel\":{\"align\":\"left\"},\"hovermode\":\"closest\",\"mapbox\":{\"style\":\"light\"},\"paper_bgcolor\":\"white\",\"plot_bgcolor\":\"#E5ECF6\",\"polar\":{\"angularaxis\":{\"gridcolor\":\"white\",\"linecolor\":\"white\",\"ticks\":\"\"},\"bgcolor\":\"#E5ECF6\",\"radialaxis\":{\"gridcolor\":\"white\",\"linecolor\":\"white\",\"ticks\":\"\"}},\"scene\":{\"xaxis\":{\"backgroundcolor\":\"#E5ECF6\",\"gridcolor\":\"white\",\"gridwidth\":2,\"linecolor\":\"white\",\"showbackground\":true,\"ticks\":\"\",\"zerolinecolor\":\"white\"},\"yaxis\":{\"backgroundcolor\":\"#E5ECF6\",\"gridcolor\":\"white\",\"gridwidth\":2,\"linecolor\":\"white\",\"showbackground\":true,\"ticks\":\"\",\"zerolinecolor\":\"white\"},\"zaxis\":{\"backgroundcolor\":\"#E5ECF6\",\"gridcolor\":\"white\",\"gridwidth\":2,\"linecolor\":\"white\",\"showbackground\":true,\"ticks\":\"\",\"zerolinecolor\":\"white\"}},\"shapedefaults\":{\"line\":{\"color\":\"#2a3f5f\"}},\"ternary\":{\"aaxis\":{\"gridcolor\":\"white\",\"linecolor\":\"white\",\"ticks\":\"\"},\"baxis\":{\"gridcolor\":\"white\",\"linecolor\":\"white\",\"ticks\":\"\"},\"bgcolor\":\"#E5ECF6\",\"caxis\":{\"gridcolor\":\"white\",\"linecolor\":\"white\",\"ticks\":\"\"}},\"title\":{\"x\":0.05},\"xaxis\":{\"automargin\":true,\"gridcolor\":\"white\",\"linecolor\":\"white\",\"ticks\":\"\",\"title\":{\"standoff\":15},\"zerolinecolor\":\"white\",\"zerolinewidth\":2},\"yaxis\":{\"automargin\":true,\"gridcolor\":\"white\",\"linecolor\":\"white\",\"ticks\":\"\",\"title\":{\"standoff\":15},\"zerolinecolor\":\"white\",\"zerolinewidth\":2}}},\"title\":{\"font\":{\"color\":\"#4D5663\"},\"text\":\"Keyword Count\"},\"xaxis\":{\"gridcolor\":\"#E1E5ED\",\"showgrid\":true,\"tickfont\":{\"color\":\"#4D5663\"},\"title\":{\"font\":{\"color\":\"#4D5663\"},\"text\":\"\"},\"zerolinecolor\":\"#E1E5ED\"},\"yaxis\":{\"gridcolor\":\"#E1E5ED\",\"showgrid\":true,\"tickfont\":{\"color\":\"#4D5663\"},\"title\":{\"font\":{\"color\":\"#4D5663\"},\"text\":\"\"},\"zerolinecolor\":\"#E1E5ED\"}},                        {\"showLink\": true, \"linkText\": \"Export to plot.ly\", \"plotlyServerURL\": \"https://plot.ly\", \"responsive\": true}                    ).then(function(){\n",
       "                            \n",
       "var gd = document.getElementById('3b392749-eebc-4148-948d-7a1e2777c5af');\n",
       "var x = new MutationObserver(function (mutations, observer) {{\n",
       "        var display = window.getComputedStyle(gd).display;\n",
       "        if (!display || display === 'none') {{\n",
       "            console.log([gd, 'removed!']);\n",
       "            Plotly.purge(gd);\n",
       "            observer.disconnect();\n",
       "        }}\n",
       "}});\n",
       "\n",
       "// Listen for the removal of the full notebook cells\n",
       "var notebookContainer = gd.closest('#notebook-container');\n",
       "if (notebookContainer) {{\n",
       "    x.observe(notebookContainer, {childList: true});\n",
       "}}\n",
       "\n",
       "// Listen for the clearing of the current output cell\n",
       "var outputEl = gd.closest('.output');\n",
       "if (outputEl) {{\n",
       "    x.observe(outputEl, {childList: true});\n",
       "}}\n",
       "\n",
       "                        })                };                });            </script>        </div>"
      ]
     },
     "metadata": {},
     "output_type": "display_data"
    }
   ],
   "source": [
    "import cufflinks as cf\n",
    "cf.go_offline()\n",
    "cf.set_config_file(offline=False, world_readable=True)\n",
    "df_filtered.toPandas().iplot(kind='bar', x='Keywords', y='Count', title='Keyword Count')\n"
   ]
  },
  {
   "cell_type": "code",
   "execution_count": 188,
   "metadata": {},
   "outputs": [],
   "source": [
    "df_filtered.toPandas().rename(columns={'count': f'{year}_Count'}, inplace=True)\n",
    "df_filtered.toPandas().to_csv(f'../../DA/VisualizeData/{year}_keywords_counts.csv', index=False)"
   ]
  }
 ],
 "metadata": {
  "kernelspec": {
   "display_name": "base",
   "language": "python",
   "name": "python3"
  },
  "language_info": {
   "codemirror_mode": {
    "name": "ipython",
    "version": 3
   },
   "file_extension": ".py",
   "mimetype": "text/x-python",
   "name": "python",
   "nbconvert_exporter": "python",
   "pygments_lexer": "ipython3",
   "version": "3.11.10"
  }
 },
 "nbformat": 4,
 "nbformat_minor": 2
}
