{
 "cells": [
  {
   "cell_type": "markdown",
   "metadata": {
    "slideshow": {
     "slide_type": "slide"
    }
   },
   "source": [
    "# Numerical Software Development\n",
    "\n",
    "**Objectives**: This course discusses the art to build numerical software, i.e., computer programs applying numerical methods for solving mathematical or physical problems.  We will be using the combination of Python and C++ and related tools (e.g., [bash](https://www.gnu.org/software/bash/), [git](https://git-scm.com), [make](https://www.gnu.org/software/make/), etc.) to learn the modern development processes.  By completing this course, students will acquire the fundamental skills for developing modern numerical software.\n",
    "\n",
    "**Prerequisites**:  This is a graduate or senior level course open to students who have taken engineering mathematics or equivalence.  Working knowledge of Linux and Unix-like is required.  Prior knowledge to numerical methods is recommended.  The instructor uses English in the lectures and discussions."
   ]
  },
  {
   "cell_type": "markdown",
   "metadata": {
    "slideshow": {
     "slide_type": "subslide"
    }
   },
   "source": [
    "# How to study\n",
    "\n",
    "* This is a practical course.  No textbook is available for this specific interdisciplinary subject.\n",
    "* To study the subject, students are required to research with online documents and source code, and write programs to practice.\n",
    "* In-class instruction and [course notes](https://github.com/yungyuc/nsd) are provided for guidance.\n",
    "* References:\n",
    "  * Computer Systems: A Programmer's Perspective, Randal E. Bryant and David R. O'Hallaron: https://csapp.cs.cmu.edu/\n",
    "  * Python documentation: https://docs.python.org/3/\n",
    "  * Cppreference: https://en.cppreference.com/\n",
    "  * [Effective Modern C++](https://www.oreilly.com/library/view/effective-modern-c/9781491908419/), Scott Meyer, O'Reilly, 2014\n",
    "  * Source code: [cpython](https://github.com/python/cpython), [numpy](https://github.com/numpy/numpy), [xtensor](https://github.com/QuantStack/xtensor), and [pybind11](https://github.com/pybind/pybind11)"
   ]
  },
  {
   "cell_type": "markdown",
   "metadata": {
    "slideshow": {
     "slide_type": "subslide"
    }
   },
   "source": [
    "# What is numerical software\n",
    "\n",
    "* Original purpose of digital computers: Electronic Numerical Integrator and Computer (ENIAC) (1945).\n",
    "* Numerical software is:\n",
    "  * Not visually pleasant, usually no graphical user interface\n",
    "  * Mathematically intensive, unintuitive to code\n",
    "  * Computationally intensive, often incorporating parallelism, distributed computing, and special hardware"
   ]
  },
  {
   "cell_type": "markdown",
   "metadata": {
    "slideshow": {
     "slide_type": "subslide"
    }
   },
   "source": [
    "# Why develop numerical software\n",
    "\n",
    "* Study scientific, engineering, and mathematical problems:\n",
    "  1. Observation\n",
    "  2. Genralize to a theory in math\n",
    "  3. Obtain analytical solutions for simple setup\n",
    "  4. Get stuck with **complex** setup\n",
    "  5. Numerical analysis comes to rescue\n",
    "  6. ... <font color=\"red\">**a lot of code development**</font> ...\n",
    "  7. Release a software package\n",
    "* Things become marketable: communication, visualization\n",
    "* Things become possible: fluid dynamics, astrophysics, machine learning"
   ]
  },
  {
   "cell_type": "markdown",
   "metadata": {
    "slideshow": {
     "slide_type": "subslide"
    }
   },
   "source": [
    "# Numerical software = C++ + Python\n",
    "\n",
    "* Numerical software is usually developed as a platform, working like a library that provides data structures and helpers for problem solving.\n",
    "* The users will use a scripting engine it provides to build applications.  Python is a popular choice for scripting.\n",
    "* C++ gives the fine control and allows assembly that is necessary to utilize every drop of hardware: multi-core, multi-threading, cache, vector processing, etc.\n",
    "* Python is high-level for housekeeping and setup, because doing that in C++ is painful."
   ]
  },
  {
   "cell_type": "markdown",
   "metadata": {
    "slideshow": {
     "slide_type": "subslide"
    }
   },
   "source": [
    "# More reasons for Python\n",
    "\n",
    "* Python provides a better way to describe the physical or mathematical problem.\n",
    "* Python can easily build an even higher-level application, using GUI, scripting, or both.\n",
    "* Is there alternative for C++?  No.  For Python?  Yes.  But Python is the easiest choice for its versatility and simplicity.\n",
    "* A numerical software developer sees through the abstraction stack:\n",
    "  * The highest-level application is presented as a Python script.\n",
    "  * The Python script drives the number-crunching C++ library.\n",
    "  * C++ is the syntactic sugar for the machine code."
   ]
  },
  {
   "cell_type": "markdown",
   "metadata": {
    "slideshow": {
     "slide_type": "slide"
    }
   },
   "source": [
    "# Course design\n",
    "\n",
    "* There are 14 or more lectures for the subjects of numerical software developing using Python and C++.\n",
    "* There will be 6 homework assignements for you to exercise.  Programming in Python and/or C++ is required.\n",
    "* Mid-term examination will be conducted to assess students' understandings to the analytical materials.\n",
    "* Term project will be used to assess students' overall coding skills.  Presentation is required.  Failure to present results in <font color=\"red\">**0 point**</font> for this part.\n",
    "* Grading: homework 30%, mid-term exam: 30%, term project: 40%."
   ]
  },
  {
   "cell_type": "markdown",
   "metadata": {
    "slideshow": {
     "slide_type": "subslide"
    }
   },
   "source": [
    "# About coding\n",
    "\n",
    "You are expected to learn programming languages yourself.  Python is never a problem, but you could find it challenging to self-teach C++.  Students are encouraged to form study groups for practicing C++, and discuss with the instructor and/or the teaching assistant."
   ]
  },
  {
   "cell_type": "markdown",
   "metadata": {
    "slideshow": {
     "slide_type": "subslide"
    }
   },
   "source": [
    "# Course schedule\n",
    "\n",
    "* W1 (9/9) lecture 0: introduction\n",
    "* W2 (9/16) skip due to instructor out of town\n",
    "* W3 (9/23) lecture 1: Python and numpy (homework #1)\n",
    "* W4 (9/30) lecture 2: c++ and computer architecture\n",
    "* W5 (10/7) lecture 3: fundamental engineering practices (homework #2)\n",
    "* W6 (10/14) lecture 4: memory management\n",
    "* W7 (10/21) (term project proposal due) lecture 5: matrix operations (homework #3)\n",
    "* W8 (10/28) lecture 6: cache optimization\n",
    "* W9 (11/4) mid-term examination"
   ]
  },
  {
   "cell_type": "markdown",
   "metadata": {
    "slideshow": {
     "slide_type": "subslide"
    }
   },
   "source": [
    "# Term project\n",
    "\n",
    "This course requires you to build a software package of a scientific, mathematic, or numerical application.  Everyone needs to choose a subject individually, and submit the proposal of the term project no later than the end of the day of the 7th week, in a digital form.  You are expected to discuss with the instructor if you are unsure about how to choose as the subject.\n",
    "\n",
    "The software package, of which the source code is publicly available, needs to be hosted on [github.com](https://github.com/).  The software needs to be executable on the [Ubuntu 18.04 LTS](http://releases.ubuntu.com/18.04/) on 64-bit x86 through command line.  Building the software package should use a single command.\n",
    "\n",
    "Everyone needs to present the project to the class at the end of the course.  The project is graded based on the following points:\n",
    "\n",
    "* Good engineering infrastructure.\n",
    "* Correct implementation and solution to the problem.\n",
    "* Adequate architecture.\n",
    "* Good presentation.\n",
    "\n",
    "Any lawful subject is OK."
   ]
  },
  {
   "cell_type": "markdown",
   "metadata": {
    "slideshow": {
     "slide_type": "subslide"
    }
   },
   "source": [
    "# Course schedule, cont'd\n",
    "\n",
    "* W10 (11/11) lecture 7: SIMD (homework #4)\n",
    "* W11 (11/18) lecture 8: modern C++ I: ownership and meta-programming\n",
    "* W12 (11/25) lecture 9: modern C++ II: more than templates (homework #5)\n",
    "* W13 (12/2) lecture 10: xtensor: arrays in C++\n",
    "* W14 (12/9) lecture 11: pybind11: binding between Python and C++ (homework #6)\n",
    "* W15 (12/16) lecture 12: cpython API: operate Python from C\n",
    "* W16 (12/23) lecture 13: array-oriented design\n",
    "* W17 (12/30) final-term project presentation I\n",
    "* W18 (1/6) final-term project presentation II"
   ]
  },
  {
   "cell_type": "markdown",
   "metadata": {
    "slideshow": {
     "slide_type": "skip"
    }
   },
   "source": [
    "# Lecture 1 [Python and numpy](numpy/numpy.ipynb)\n",
    "\n",
    "Numerical software is always developed as a platform.  It works like a library providing data structures and helpers to solve problems.  The users will use a scripting engine it provides to build applications.  Python is a popular choice for the scripting engine.\n",
    "\n",
    "1. Organize Python modules\n",
    "   1. Scripts\n",
    "   2. Modules\n",
    "   3. Package\n",
    "2. Use numpy for array-oriented code\n",
    "   1. Data type\n",
    "   2. Construction\n",
    "   3. Multi-dimensional arrays\n",
    "   4. Selection\n",
    "   5. Broadcasting\n",
    "3. Use tools for numerical analysis\n",
    "   1. Jupyter notebook\n",
    "   2. Matplotlib\n",
    "   3. Linear algebra using numpy ans scipy\n",
    "   4. Package management wtih conda and pip"
   ]
  },
  {
   "cell_type": "markdown",
   "metadata": {
    "slideshow": {
     "slide_type": "skip"
    }
   },
   "source": [
    "# Lecture 2 [C++ and computer architecture](cpp/cpp.ipynb)\n",
    "\n",
    "The low-level code of numerical software must be high-performance.  The industries chose C++ because it can take advantage of everything that a hardware architecture offers while using any level of abstraction.\n",
    "\n",
    "1. Fundamental data types\n",
    "   1. Command-line interface for compiler tools\n",
    "      1. Compiler, linker\n",
    "      2. Multiple source files, separation of declaration and definition, external libraries\n",
    "      3. Build multiple binaries and shared objects (dynamically linked libraries)\n",
    "   2. Integer, signness, pointer, array indexing\n",
    "   3. Floating-point, rounding, exception handling\n",
    "   4. Numeric limit\n",
    "2. Object-oriented programming\n",
    "   1. Class, encapsulation, accessor, reference type\n",
    "   2. constructor and destructor\n",
    "   3. Polymorphism and RTTI\n",
    "   4. CRTP\n",
    "3. Standard template library (STL)\n",
    "   1. std::vector, its internal and why the buffer address is dangerous\n",
    "   2. std::array, std::list\n",
    "   3. std::map, std::set, std::unordered_map, std::unordered_set"
   ]
  },
  {
   "cell_type": "markdown",
   "metadata": {
    "slideshow": {
     "slide_type": "skip"
    }
   },
   "source": [
    "# Lecture 3 [fundamental engineering practices](engineering/engineering.ipynb)\n",
    "\n",
    "Writing computer code is only a fraction of software engineering.  A large chunk of efforts is spent in the coding infrastructure.  The keyword of making the engineering system is automation.\n",
    "\n",
    "1. Automation\n",
    "   1. Bash scripting\n",
    "   2. Makefile\n",
    "   3. Cmake (cross-platform, multi-language automation)\n",
    "2. Version control and regression\n",
    "   1. Git version control system\n",
    "   2. Automatic testing: author and run with google-test and py.test\n",
    "   3. Wrap to Python and test there: pybind11\n",
    "   4. Continuous integration to avoid regression\n",
    "3. Work that cannot be automated\n",
    "   1. Code review (use github for demonstration)\n",
    "   2. Timing to debug for performance\n",
    "      1. Wall time and CPU cycles\n",
    "      2. System time and user time\n",
    "      3. Python timing tools"
   ]
  },
  {
   "cell_type": "markdown",
   "metadata": {
    "slideshow": {
     "slide_type": "skip"
    }
   },
   "source": [
    "# Lecture 4 [memory management](mem/mem.ipynb)\n",
    "\n",
    "Numerical software tends to use as much memory as a workstation has.  The memory has two major uses: (i) to hold the required huge amount of data, and (ii) to gain speed.\n",
    "\n",
    "1. Linux memory model: stack, heap, and memory map\n",
    "2. C memory management API\n",
    "3. C++ memory management API\n",
    "4. STL allocator API\n",
    "3. Object counter"
   ]
  },
  {
   "cell_type": "markdown",
   "metadata": {
    "slideshow": {
     "slide_type": "skip"
    }
   },
   "source": [
    "# Lecture 5 [matrix operations](matrix/matrix.ipynb)\n",
    "\n",
    "As linear algebra is fundamental in almost everything uses mathematics, matrices are everywhere in numerical analysis.  There isn't shortage of linear algebraic software packages and it's critically important to understand how they work.\n",
    "\n",
    "1. POD arrays and majoring\n",
    "2. Matrix-vector and matrix-matrix operations\n",
    "3. Linear algebra"
   ]
  },
  {
   "cell_type": "markdown",
   "metadata": {
    "slideshow": {
     "slide_type": "skip"
    }
   },
   "source": [
    "# Lecture 6 [cache optimization](cache/cache.ipynb)\n",
    "\n",
    "1. How cache works and its importance to performance\n",
    "2. Stride analysis\n",
    "3. Tiling"
   ]
  },
  {
   "cell_type": "markdown",
   "metadata": {
    "slideshow": {
     "slide_type": "skip"
    }
   },
   "source": [
    "# Lecture 7 [SIMD: vector processing](simd/simd.ipynb)\n",
    "\n",
    "1. Types of parallelism.\n",
    "2. x86 intrinsic funcions.\n",
    "3. Inspect assembly."
   ]
  },
  {
   "cell_type": "markdown",
   "metadata": {
    "slideshow": {
     "slide_type": "skip"
    }
   },
   "source": [
    "# Lecture 8 [modern C++ I: ownership and smart pointers](moderncpp/moderncpp1.ipynb)\n",
    "\n",
    "1. Pointers and ownership\n",
    "    1. Raw pointer\n",
    "    2. Reference\n",
    "    3. Ownership\n",
    "    4. Smart pointers\n",
    "        1. `unique_ptr`\n",
    "        2. `shared_ptr`\n",
    "2. Revisit shared pointer\n",
    "    1. Make Data exclusively managed by `shared_ptr`\n",
    "    2. Get `shared_ptr` from `this`\n",
    "    3. Cyclic reference and `weak_ptr`"
   ]
  },
  {
   "cell_type": "markdown",
   "metadata": {
    "slideshow": {
     "slide_type": "skip"
    }
   },
   "source": [
    "# Lecture 9 [modern C++ II: more than templates](moderncpp/moderncpp2.ipynb)\n",
    "\n",
    "1. Copy elision / return value optimization\n",
    "2. Move semantics and copy elision\n",
    "    1. Forced move is a bad idea\n",
    "3. Data concatenation\n",
    "    1. Style 1: return `vector`\n",
    "    2. Style 2: use output `vector`\n",
    "    3. Style 3: use a class for both return and output argument\n",
    "4. Variadic template\n",
    "5. Perfect forwarding\n",
    "6. Lambda expression\n",
    "    1. Keep a lambda in a local variable\n",
    "    2. Difference between `auto` and `std::function`\n",
    "7. Closure\n",
    "    1. Comments on functional style"
   ]
  },
  {
   "cell_type": "markdown",
   "metadata": {
    "slideshow": {
     "slide_type": "skip"
    }
   },
   "source": [
    "# Lecture 10 [xtensor: arrays in C++](xtensor/xtensor.ipynb)\n",
    "\n",
    "1. Python is slow but easy to write\n",
    "2. Speed up by using numpy (still in Python)\n",
    "3. Xtensor: write iterative code in C++ speed using arrays\n",
    "4. Effect of house-keeping code"
   ]
  },
  {
   "cell_type": "markdown",
   "metadata": {
    "slideshow": {
     "slide_type": "skip"
    }
   },
   "source": [
    "# Lecture 11 [pybind11: binding between Python and C++](pybind/pybind.ipynb)\n",
    "\n",
    "\n",
    "1. Why do we use scripting\n",
    "   1. Research code\n",
    "   2. Full-fledged application\n",
    "   3. Scripting for modularization\n",
    "2. Pybind11 build system\n",
    "   1. Setuptools\n",
    "   2. Cmake with a sub-directory\n",
    "   3. Cmake with install pybind11\n",
    "3. Additional wrapping layer for customization\n",
    "4. Wrapping API\n",
    "   1. Functions and property\n",
    "   2. Named ane keyword arguments\n",
    "   3. What happens in Python stays in Python (or pybind11)\n",
    "5. See how Python plays\n",
    "   1. Linear wave\n",
    "   2. The inviscid Burgers equation\n",
    "6. Manipulate Python objects in C++\n",
    "7. Python containers\n",
    "   1. `tuple`\n",
    "   2. `list`\n",
    "   3. `dict`"
   ]
  },
  {
   "cell_type": "markdown",
   "metadata": {
    "slideshow": {
     "slide_type": "skip"
    }
   },
   "source": [
    "# Lecture 12 [cpython API: operate Python from C](cpython/cpython.ipynb)\n",
    "\n",
    "1. Use cpython API with pybind11\n",
    "2. `PyObject` reference counting\n",
    "3. Built-in types\n",
    "   1. Cached value\n",
    "   2. Attribute access\n",
    "   3. Function call\n",
    "   4. Tuple\n",
    "   5. Dictionary\n",
    "   6. List\n",
    "4. Useful operations\n",
    "   1. Import\n",
    "   2. Exception\n",
    "5. Python memory management\n",
    "   1. PyMem interface\n",
    "   2. Small memory optimization\n",
    "   3. Tracemalloc"
   ]
  },
  {
   "cell_type": "markdown",
   "metadata": {
    "slideshow": {
     "slide_type": "skip"
    }
   },
   "source": [
    "# Lecture 13 [array-oriented design](arraydesign/arraydesign.ipynb)\n",
    "\n",
    "1. Design interface with arrays\n",
    "2. Conversion between dynamic and static semantics\n",
    "3. Insert profiling code"
   ]
  },
  {
   "cell_type": "markdown",
   "metadata": {},
   "source": [
    "[Overflow topics](overflow.ipynb)"
   ]
  }
 ],
 "metadata": {
  "kernelspec": {
   "display_name": "Python 3",
   "language": "python",
   "name": "python3"
  },
  "language_info": {
   "codemirror_mode": {
    "name": "ipython",
    "version": 3
   },
   "file_extension": ".py",
   "mimetype": "text/x-python",
   "name": "python",
   "nbconvert_exporter": "python",
   "pygments_lexer": "ipython3",
   "version": "3.7.4+"
  }
 },
 "nbformat": 4,
 "nbformat_minor": 2
}
