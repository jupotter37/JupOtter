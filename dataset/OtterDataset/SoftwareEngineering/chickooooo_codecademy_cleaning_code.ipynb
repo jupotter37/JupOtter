{
 "cells": [
  {
   "cell_type": "code",
   "execution_count": 1,
   "metadata": {},
   "outputs": [],
   "source": [
    "# importing libraries\n",
    "import pandas as pd\n",
    "import numpy as np"
   ]
  },
  {
   "cell_type": "code",
   "execution_count": 3,
   "metadata": {},
   "outputs": [
    {
     "name": "stderr",
     "output_type": "stream",
     "text": [
      "C:\\Users\\kshit\\AppData\\Local\\Temp\\ipykernel_14004\\2561384991.py:1: DtypeWarning: Columns (18,19,20) have mixed types. Specify dtype option on import or set low_memory=False.\n",
      "  raw_data = pd.read_csv(\"./developer_dataset.csv\")\n"
     ]
    }
   ],
   "source": [
    "# loading dataset\n",
    "raw_data = pd.read_csv(\"./developer_dataset.csv\")"
   ]
  },
  {
   "cell_type": "code",
   "execution_count": 11,
   "metadata": {},
   "outputs": [],
   "source": [
    "# will hold final clean dataset\n",
    "clean_data = pd.DataFrame()"
   ]
  },
  {
   "cell_type": "code",
   "execution_count": 5,
   "metadata": {},
   "outputs": [],
   "source": [
    "# first 500 rows of raw data\n",
    "raw_data_500 = raw_data.head(500)"
   ]
  },
  {
   "cell_type": "code",
   "execution_count": 6,
   "metadata": {},
   "outputs": [
    {
     "data": {
      "text/plain": [
       "Index(['RespondentID', 'Year', 'Country', 'Employment', 'UndergradMajor',\n",
       "       'DevType', 'LanguageWorkedWith', 'LanguageDesireNextYear',\n",
       "       'DatabaseWorkedWith', 'DatabaseDesireNextYear', 'PlatformWorkedWith',\n",
       "       'PlatformDesireNextYear', 'Hobbyist', 'OrgSize', 'YearsCodePro',\n",
       "       'JobSeek', 'ConvertedComp', 'WorkWeekHrs', 'NEWJobHunt',\n",
       "       'NEWJobHuntResearch', 'NEWLearn'],\n",
       "      dtype='object')"
      ]
     },
     "execution_count": 6,
     "metadata": {},
     "output_type": "execute_result"
    }
   ],
   "source": [
    "# columns of dataset\n",
    "raw_data.columns"
   ]
  },
  {
   "cell_type": "code",
   "execution_count": 7,
   "metadata": {},
   "outputs": [
    {
     "data": {
      "text/plain": [
       "21"
      ]
     },
     "execution_count": 7,
     "metadata": {},
     "output_type": "execute_result"
    }
   ],
   "source": [
    "# getting number of columns\n",
    "len(raw_data.columns)"
   ]
  },
  {
   "cell_type": "code",
   "execution_count": 8,
   "metadata": {},
   "outputs": [],
   "source": [
    "# data of first 4 columns\n",
    "raw_data_04 = raw_data[[\"RespondentID\", \"Year\", \"Country\", \"Employment\", \"UndergradMajor\"]]"
   ]
  },
  {
   "cell_type": "code",
   "execution_count": 9,
   "metadata": {},
   "outputs": [
    {
     "data": {
      "text/html": [
       "<div>\n",
       "<style scoped>\n",
       "    .dataframe tbody tr th:only-of-type {\n",
       "        vertical-align: middle;\n",
       "    }\n",
       "\n",
       "    .dataframe tbody tr th {\n",
       "        vertical-align: top;\n",
       "    }\n",
       "\n",
       "    .dataframe thead th {\n",
       "        text-align: right;\n",
       "    }\n",
       "</style>\n",
       "<table border=\"1\" class=\"dataframe\">\n",
       "  <thead>\n",
       "    <tr style=\"text-align: right;\">\n",
       "      <th></th>\n",
       "      <th>RespondentID</th>\n",
       "      <th>Year</th>\n",
       "      <th>Country</th>\n",
       "      <th>Employment</th>\n",
       "      <th>UndergradMajor</th>\n",
       "    </tr>\n",
       "  </thead>\n",
       "  <tbody>\n",
       "    <tr>\n",
       "      <th>0</th>\n",
       "      <td>1</td>\n",
       "      <td>2018</td>\n",
       "      <td>United States</td>\n",
       "      <td>Employed full-time</td>\n",
       "      <td>Computer science, computer engineering, or sof...</td>\n",
       "    </tr>\n",
       "    <tr>\n",
       "      <th>1</th>\n",
       "      <td>1</td>\n",
       "      <td>2019</td>\n",
       "      <td>United States</td>\n",
       "      <td>Employed full-time</td>\n",
       "      <td>Computer science, computer engineering, or sof...</td>\n",
       "    </tr>\n",
       "    <tr>\n",
       "      <th>2</th>\n",
       "      <td>1</td>\n",
       "      <td>2020</td>\n",
       "      <td>United States</td>\n",
       "      <td>Employed full-time</td>\n",
       "      <td>Computer science, computer engineering, or sof...</td>\n",
       "    </tr>\n",
       "    <tr>\n",
       "      <th>3</th>\n",
       "      <td>2</td>\n",
       "      <td>2018</td>\n",
       "      <td>United States</td>\n",
       "      <td>Employed full-time</td>\n",
       "      <td>Computer science, computer engineering, or sof...</td>\n",
       "    </tr>\n",
       "    <tr>\n",
       "      <th>4</th>\n",
       "      <td>2</td>\n",
       "      <td>2019</td>\n",
       "      <td>United States</td>\n",
       "      <td>Employed full-time</td>\n",
       "      <td>Computer science, computer engineering, or sof...</td>\n",
       "    </tr>\n",
       "  </tbody>\n",
       "</table>\n",
       "</div>"
      ],
      "text/plain": [
       "   RespondentID  Year        Country          Employment  \\\n",
       "0             1  2018  United States  Employed full-time   \n",
       "1             1  2019  United States  Employed full-time   \n",
       "2             1  2020  United States  Employed full-time   \n",
       "3             2  2018  United States  Employed full-time   \n",
       "4             2  2019  United States  Employed full-time   \n",
       "\n",
       "                                      UndergradMajor  \n",
       "0  Computer science, computer engineering, or sof...  \n",
       "1  Computer science, computer engineering, or sof...  \n",
       "2  Computer science, computer engineering, or sof...  \n",
       "3  Computer science, computer engineering, or sof...  \n",
       "4  Computer science, computer engineering, or sof...  "
      ]
     },
     "execution_count": 9,
     "metadata": {},
     "output_type": "execute_result"
    }
   ],
   "source": [
    "raw_data_04.head()"
   ]
  },
  {
   "cell_type": "code",
   "execution_count": 10,
   "metadata": {},
   "outputs": [
    {
     "name": "stdout",
     "output_type": "stream",
     "text": [
      "<class 'pandas.core.frame.DataFrame'>\n",
      "RangeIndex: 111209 entries, 0 to 111208\n",
      "Data columns (total 5 columns):\n",
      " #   Column          Non-Null Count   Dtype \n",
      "---  ------          --------------   ----- \n",
      " 0   RespondentID    111209 non-null  int64 \n",
      " 1   Year            111209 non-null  int64 \n",
      " 2   Country         111209 non-null  object\n",
      " 3   Employment      109425 non-null  object\n",
      " 4   UndergradMajor  98453 non-null   object\n",
      "dtypes: int64(2), object(3)\n",
      "memory usage: 4.2+ MB\n"
     ]
    }
   ],
   "source": [
    "# info about data\n",
    "raw_data_04.info()"
   ]
  },
  {
   "cell_type": "code",
   "execution_count": 12,
   "metadata": {},
   "outputs": [],
   "source": [
    "clean_data[\"respondent_id\"] = raw_data_04.RespondentID"
   ]
  },
  {
   "cell_type": "code",
   "execution_count": 13,
   "metadata": {},
   "outputs": [
    {
     "data": {
      "text/html": [
       "<div>\n",
       "<style scoped>\n",
       "    .dataframe tbody tr th:only-of-type {\n",
       "        vertical-align: middle;\n",
       "    }\n",
       "\n",
       "    .dataframe tbody tr th {\n",
       "        vertical-align: top;\n",
       "    }\n",
       "\n",
       "    .dataframe thead th {\n",
       "        text-align: right;\n",
       "    }\n",
       "</style>\n",
       "<table border=\"1\" class=\"dataframe\">\n",
       "  <thead>\n",
       "    <tr style=\"text-align: right;\">\n",
       "      <th></th>\n",
       "      <th>respondent_id</th>\n",
       "    </tr>\n",
       "  </thead>\n",
       "  <tbody>\n",
       "    <tr>\n",
       "      <th>0</th>\n",
       "      <td>1</td>\n",
       "    </tr>\n",
       "    <tr>\n",
       "      <th>1</th>\n",
       "      <td>1</td>\n",
       "    </tr>\n",
       "    <tr>\n",
       "      <th>2</th>\n",
       "      <td>1</td>\n",
       "    </tr>\n",
       "    <tr>\n",
       "      <th>3</th>\n",
       "      <td>2</td>\n",
       "    </tr>\n",
       "    <tr>\n",
       "      <th>4</th>\n",
       "      <td>2</td>\n",
       "    </tr>\n",
       "  </tbody>\n",
       "</table>\n",
       "</div>"
      ],
      "text/plain": [
       "   respondent_id\n",
       "0              1\n",
       "1              1\n",
       "2              1\n",
       "3              2\n",
       "4              2"
      ]
     },
     "execution_count": 13,
     "metadata": {},
     "output_type": "execute_result"
    }
   ],
   "source": [
    "clean_data.head()"
   ]
  },
  {
   "cell_type": "code",
   "execution_count": 14,
   "metadata": {},
   "outputs": [
    {
     "name": "stdout",
     "output_type": "stream",
     "text": [
      "<class 'pandas.core.frame.DataFrame'>\n",
      "RangeIndex: 111209 entries, 0 to 111208\n",
      "Data columns (total 1 columns):\n",
      " #   Column         Non-Null Count   Dtype\n",
      "---  ------         --------------   -----\n",
      " 0   respondent_id  111209 non-null  int64\n",
      "dtypes: int64(1)\n",
      "memory usage: 868.9 KB\n"
     ]
    }
   ],
   "source": [
    "clean_data.info()"
   ]
  },
  {
   "cell_type": "code",
   "execution_count": 15,
   "metadata": {},
   "outputs": [],
   "source": [
    "clean_data[\"year\"] = raw_data_04.Year"
   ]
  },
  {
   "cell_type": "code",
   "execution_count": 16,
   "metadata": {},
   "outputs": [
    {
     "data": {
      "text/html": [
       "<div>\n",
       "<style scoped>\n",
       "    .dataframe tbody tr th:only-of-type {\n",
       "        vertical-align: middle;\n",
       "    }\n",
       "\n",
       "    .dataframe tbody tr th {\n",
       "        vertical-align: top;\n",
       "    }\n",
       "\n",
       "    .dataframe thead th {\n",
       "        text-align: right;\n",
       "    }\n",
       "</style>\n",
       "<table border=\"1\" class=\"dataframe\">\n",
       "  <thead>\n",
       "    <tr style=\"text-align: right;\">\n",
       "      <th></th>\n",
       "      <th>respondent_id</th>\n",
       "      <th>year</th>\n",
       "    </tr>\n",
       "  </thead>\n",
       "  <tbody>\n",
       "    <tr>\n",
       "      <th>0</th>\n",
       "      <td>1</td>\n",
       "      <td>2018</td>\n",
       "    </tr>\n",
       "    <tr>\n",
       "      <th>1</th>\n",
       "      <td>1</td>\n",
       "      <td>2019</td>\n",
       "    </tr>\n",
       "    <tr>\n",
       "      <th>2</th>\n",
       "      <td>1</td>\n",
       "      <td>2020</td>\n",
       "    </tr>\n",
       "    <tr>\n",
       "      <th>3</th>\n",
       "      <td>2</td>\n",
       "      <td>2018</td>\n",
       "    </tr>\n",
       "    <tr>\n",
       "      <th>4</th>\n",
       "      <td>2</td>\n",
       "      <td>2019</td>\n",
       "    </tr>\n",
       "  </tbody>\n",
       "</table>\n",
       "</div>"
      ],
      "text/plain": [
       "   respondent_id  year\n",
       "0              1  2018\n",
       "1              1  2019\n",
       "2              1  2020\n",
       "3              2  2018\n",
       "4              2  2019"
      ]
     },
     "execution_count": 16,
     "metadata": {},
     "output_type": "execute_result"
    }
   ],
   "source": [
    "clean_data.head()"
   ]
  },
  {
   "cell_type": "code",
   "execution_count": 17,
   "metadata": {},
   "outputs": [
    {
     "name": "stdout",
     "output_type": "stream",
     "text": [
      "<class 'pandas.core.frame.DataFrame'>\n",
      "RangeIndex: 111209 entries, 0 to 111208\n",
      "Data columns (total 2 columns):\n",
      " #   Column         Non-Null Count   Dtype\n",
      "---  ------         --------------   -----\n",
      " 0   respondent_id  111209 non-null  int64\n",
      " 1   year           111209 non-null  int64\n",
      "dtypes: int64(2)\n",
      "memory usage: 1.7 MB\n"
     ]
    }
   ],
   "source": [
    "clean_data.info()"
   ]
  },
  {
   "cell_type": "code",
   "execution_count": 18,
   "metadata": {},
   "outputs": [
    {
     "data": {
      "text/plain": [
       "0    United States\n",
       "1    United States\n",
       "2    United States\n",
       "3    United States\n",
       "4    United States\n",
       "Name: Country, dtype: object"
      ]
     },
     "execution_count": 18,
     "metadata": {},
     "output_type": "execute_result"
    }
   ],
   "source": [
    "countries = raw_data_04.Country\n",
    "countries.head()"
   ]
  },
  {
   "cell_type": "code",
   "execution_count": 19,
   "metadata": {},
   "outputs": [
    {
     "data": {
      "text/plain": [
       "9"
      ]
     },
     "execution_count": 19,
     "metadata": {},
     "output_type": "execute_result"
    }
   ],
   "source": [
    "countries.nunique()"
   ]
  },
  {
   "cell_type": "code",
   "execution_count": 20,
   "metadata": {},
   "outputs": [
    {
     "data": {
      "text/plain": [
       "array(['United States', 'Canada', 'Mexico', 'France', 'Germany', 'Spain',\n",
       "       'United Kingdom', 'China', 'Japan'], dtype=object)"
      ]
     },
     "execution_count": 20,
     "metadata": {},
     "output_type": "execute_result"
    }
   ],
   "source": [
    "countries.unique()"
   ]
  },
  {
   "cell_type": "code",
   "execution_count": 21,
   "metadata": {},
   "outputs": [
    {
     "data": {
      "text/plain": [
       "United States     53727\n",
       "Germany           16215\n",
       "United Kingdom    15854\n",
       "Canada             8979\n",
       "France             6861\n",
       "Spain              4534\n",
       "China              2072\n",
       "Mexico             1918\n",
       "Japan              1049\n",
       "Name: Country, dtype: int64"
      ]
     },
     "execution_count": 21,
     "metadata": {},
     "output_type": "execute_result"
    }
   ],
   "source": [
    "countries.value_counts()"
   ]
  },
  {
   "cell_type": "code",
   "execution_count": 22,
   "metadata": {},
   "outputs": [
    {
     "data": {
      "text/plain": [
       "['United States', 'United States', 'United States', 'United States', 'United States', ..., 'Japan', 'Japan', 'Japan', 'Japan', 'Japan']\n",
       "Length: 111209\n",
       "Categories (9, object): ['Canada', 'China', 'France', 'Germany', ..., 'Mexico', 'Spain', 'United Kingdom', 'United States']"
      ]
     },
     "execution_count": 22,
     "metadata": {},
     "output_type": "execute_result"
    }
   ],
   "source": [
    "country_category = pd.Categorical(countries)\n",
    "country_category"
   ]
  },
  {
   "cell_type": "code",
   "execution_count": 24,
   "metadata": {},
   "outputs": [
    {
     "data": {
      "text/plain": [
       "CategoricalDtype(categories=['Canada', 'China', 'France', 'Germany', 'Japan', 'Mexico',\n",
       "                  'Spain', 'United Kingdom', 'United States'],\n",
       ", ordered=False)"
      ]
     },
     "execution_count": 24,
     "metadata": {},
     "output_type": "execute_result"
    }
   ],
   "source": [
    "countries = countries.astype(\"category\")\n",
    "countries.dtype"
   ]
  },
  {
   "cell_type": "code",
   "execution_count": 25,
   "metadata": {},
   "outputs": [],
   "source": [
    "clean_data[\"country\"] = countries"
   ]
  },
  {
   "cell_type": "code",
   "execution_count": 26,
   "metadata": {},
   "outputs": [
    {
     "data": {
      "text/html": [
       "<div>\n",
       "<style scoped>\n",
       "    .dataframe tbody tr th:only-of-type {\n",
       "        vertical-align: middle;\n",
       "    }\n",
       "\n",
       "    .dataframe tbody tr th {\n",
       "        vertical-align: top;\n",
       "    }\n",
       "\n",
       "    .dataframe thead th {\n",
       "        text-align: right;\n",
       "    }\n",
       "</style>\n",
       "<table border=\"1\" class=\"dataframe\">\n",
       "  <thead>\n",
       "    <tr style=\"text-align: right;\">\n",
       "      <th></th>\n",
       "      <th>respondent_id</th>\n",
       "      <th>year</th>\n",
       "      <th>country</th>\n",
       "    </tr>\n",
       "  </thead>\n",
       "  <tbody>\n",
       "    <tr>\n",
       "      <th>0</th>\n",
       "      <td>1</td>\n",
       "      <td>2018</td>\n",
       "      <td>United States</td>\n",
       "    </tr>\n",
       "    <tr>\n",
       "      <th>1</th>\n",
       "      <td>1</td>\n",
       "      <td>2019</td>\n",
       "      <td>United States</td>\n",
       "    </tr>\n",
       "    <tr>\n",
       "      <th>2</th>\n",
       "      <td>1</td>\n",
       "      <td>2020</td>\n",
       "      <td>United States</td>\n",
       "    </tr>\n",
       "    <tr>\n",
       "      <th>3</th>\n",
       "      <td>2</td>\n",
       "      <td>2018</td>\n",
       "      <td>United States</td>\n",
       "    </tr>\n",
       "    <tr>\n",
       "      <th>4</th>\n",
       "      <td>2</td>\n",
       "      <td>2019</td>\n",
       "      <td>United States</td>\n",
       "    </tr>\n",
       "  </tbody>\n",
       "</table>\n",
       "</div>"
      ],
      "text/plain": [
       "   respondent_id  year        country\n",
       "0              1  2018  United States\n",
       "1              1  2019  United States\n",
       "2              1  2020  United States\n",
       "3              2  2018  United States\n",
       "4              2  2019  United States"
      ]
     },
     "execution_count": 26,
     "metadata": {},
     "output_type": "execute_result"
    }
   ],
   "source": [
    "clean_data.head()"
   ]
  },
  {
   "cell_type": "code",
   "execution_count": 27,
   "metadata": {},
   "outputs": [
    {
     "name": "stdout",
     "output_type": "stream",
     "text": [
      "<class 'pandas.core.frame.DataFrame'>\n",
      "RangeIndex: 111209 entries, 0 to 111208\n",
      "Data columns (total 3 columns):\n",
      " #   Column         Non-Null Count   Dtype   \n",
      "---  ------         --------------   -----   \n",
      " 0   respondent_id  111209 non-null  int64   \n",
      " 1   year           111209 non-null  int64   \n",
      " 2   country        111209 non-null  category\n",
      "dtypes: category(1), int64(2)\n",
      "memory usage: 1.8 MB\n"
     ]
    }
   ],
   "source": [
    "clean_data.info()"
   ]
  },
  {
   "cell_type": "code",
   "execution_count": 28,
   "metadata": {},
   "outputs": [
    {
     "data": {
      "text/plain": [
       "0    Employed full-time\n",
       "1    Employed full-time\n",
       "2    Employed full-time\n",
       "3    Employed full-time\n",
       "4    Employed full-time\n",
       "Name: Employment, dtype: object"
      ]
     },
     "execution_count": 28,
     "metadata": {},
     "output_type": "execute_result"
    }
   ],
   "source": [
    "employments = raw_data_04.Employment\n",
    "employments.head()"
   ]
  },
  {
   "cell_type": "code",
   "execution_count": 29,
   "metadata": {},
   "outputs": [
    {
     "data": {
      "text/plain": [
       "7"
      ]
     },
     "execution_count": 29,
     "metadata": {},
     "output_type": "execute_result"
    }
   ],
   "source": [
    "employments.nunique()"
   ]
  },
  {
   "cell_type": "code",
   "execution_count": 30,
   "metadata": {},
   "outputs": [
    {
     "data": {
      "text/plain": [
       "array(['Employed full-time', 'Employed part-time',\n",
       "       'Not employed, but looking for work', 'Student',\n",
       "       'Independent contractor, freelancer, or self-employed',\n",
       "       'Not employed, and not looking for work', 'Retired', nan],\n",
       "      dtype=object)"
      ]
     },
     "execution_count": 30,
     "metadata": {},
     "output_type": "execute_result"
    }
   ],
   "source": [
    "employments.unique()"
   ]
  },
  {
   "cell_type": "code",
   "execution_count": 31,
   "metadata": {},
   "outputs": [
    {
     "data": {
      "text/plain": [
       "Employed full-time                                      84707\n",
       "Independent contractor, freelancer, or self-employed     8597\n",
       "Employed part-time                                       5114\n",
       "Not employed, but looking for work                       4248\n",
       "Not employed, and not looking for work                   3442\n",
       "Student                                                  2789\n",
       "Retired                                                   528\n",
       "Name: Employment, dtype: int64"
      ]
     },
     "execution_count": 31,
     "metadata": {},
     "output_type": "execute_result"
    }
   ],
   "source": [
    "employments.value_counts()"
   ]
  },
  {
   "cell_type": "code",
   "execution_count": 32,
   "metadata": {},
   "outputs": [
    {
     "data": {
      "text/plain": [
       "False    109425\n",
       "True       1784\n",
       "Name: Employment, dtype: int64"
      ]
     },
     "execution_count": 32,
     "metadata": {},
     "output_type": "execute_result"
    }
   ],
   "source": [
    "employments.isna().value_counts()"
   ]
  },
  {
   "cell_type": "code",
   "execution_count": 33,
   "metadata": {},
   "outputs": [
    {
     "data": {
      "text/plain": [
       "1.6303404158099155"
      ]
     },
     "execution_count": 33,
     "metadata": {},
     "output_type": "execute_result"
    }
   ],
   "source": [
    "1784 / 109425 * 100"
   ]
  },
  {
   "cell_type": "code",
   "execution_count": 35,
   "metadata": {},
   "outputs": [
    {
     "data": {
      "text/plain": [
       "CategoricalDtype(categories=['Employed full-time', 'Employed part-time',\n",
       "                  'Independent contractor, freelancer, or self-employed',\n",
       "                  'Not employed, and not looking for work',\n",
       "                  'Not employed, but looking for work', 'Retired', 'Student'],\n",
       ", ordered=False)"
      ]
     },
     "execution_count": 35,
     "metadata": {},
     "output_type": "execute_result"
    }
   ],
   "source": [
    "employments = employments.astype(\"category\")\n",
    "employments.dtype"
   ]
  },
  {
   "cell_type": "code",
   "execution_count": 36,
   "metadata": {},
   "outputs": [],
   "source": [
    "clean_data[\"employment\"] = employments"
   ]
  },
  {
   "cell_type": "code",
   "execution_count": 37,
   "metadata": {},
   "outputs": [
    {
     "data": {
      "text/html": [
       "<div>\n",
       "<style scoped>\n",
       "    .dataframe tbody tr th:only-of-type {\n",
       "        vertical-align: middle;\n",
       "    }\n",
       "\n",
       "    .dataframe tbody tr th {\n",
       "        vertical-align: top;\n",
       "    }\n",
       "\n",
       "    .dataframe thead th {\n",
       "        text-align: right;\n",
       "    }\n",
       "</style>\n",
       "<table border=\"1\" class=\"dataframe\">\n",
       "  <thead>\n",
       "    <tr style=\"text-align: right;\">\n",
       "      <th></th>\n",
       "      <th>respondent_id</th>\n",
       "      <th>year</th>\n",
       "      <th>country</th>\n",
       "      <th>employment</th>\n",
       "    </tr>\n",
       "  </thead>\n",
       "  <tbody>\n",
       "    <tr>\n",
       "      <th>0</th>\n",
       "      <td>1</td>\n",
       "      <td>2018</td>\n",
       "      <td>United States</td>\n",
       "      <td>Employed full-time</td>\n",
       "    </tr>\n",
       "    <tr>\n",
       "      <th>1</th>\n",
       "      <td>1</td>\n",
       "      <td>2019</td>\n",
       "      <td>United States</td>\n",
       "      <td>Employed full-time</td>\n",
       "    </tr>\n",
       "    <tr>\n",
       "      <th>2</th>\n",
       "      <td>1</td>\n",
       "      <td>2020</td>\n",
       "      <td>United States</td>\n",
       "      <td>Employed full-time</td>\n",
       "    </tr>\n",
       "    <tr>\n",
       "      <th>3</th>\n",
       "      <td>2</td>\n",
       "      <td>2018</td>\n",
       "      <td>United States</td>\n",
       "      <td>Employed full-time</td>\n",
       "    </tr>\n",
       "    <tr>\n",
       "      <th>4</th>\n",
       "      <td>2</td>\n",
       "      <td>2019</td>\n",
       "      <td>United States</td>\n",
       "      <td>Employed full-time</td>\n",
       "    </tr>\n",
       "  </tbody>\n",
       "</table>\n",
       "</div>"
      ],
      "text/plain": [
       "   respondent_id  year        country          employment\n",
       "0              1  2018  United States  Employed full-time\n",
       "1              1  2019  United States  Employed full-time\n",
       "2              1  2020  United States  Employed full-time\n",
       "3              2  2018  United States  Employed full-time\n",
       "4              2  2019  United States  Employed full-time"
      ]
     },
     "execution_count": 37,
     "metadata": {},
     "output_type": "execute_result"
    }
   ],
   "source": [
    "clean_data.head()"
   ]
  },
  {
   "cell_type": "code",
   "execution_count": 38,
   "metadata": {},
   "outputs": [
    {
     "name": "stdout",
     "output_type": "stream",
     "text": [
      "<class 'pandas.core.frame.DataFrame'>\n",
      "RangeIndex: 111209 entries, 0 to 111208\n",
      "Data columns (total 4 columns):\n",
      " #   Column         Non-Null Count   Dtype   \n",
      "---  ------         --------------   -----   \n",
      " 0   respondent_id  111209 non-null  int64   \n",
      " 1   year           111209 non-null  int64   \n",
      " 2   country        111209 non-null  category\n",
      " 3   employment     109425 non-null  category\n",
      "dtypes: category(2), int64(2)\n",
      "memory usage: 1.9 MB\n"
     ]
    }
   ],
   "source": [
    "clean_data.info()"
   ]
  },
  {
   "cell_type": "code",
   "execution_count": 39,
   "metadata": {},
   "outputs": [
    {
     "data": {
      "text/plain": [
       "0    Computer science, computer engineering, or sof...\n",
       "1    Computer science, computer engineering, or sof...\n",
       "2    Computer science, computer engineering, or sof...\n",
       "3    Computer science, computer engineering, or sof...\n",
       "4    Computer science, computer engineering, or sof...\n",
       "Name: UndergradMajor, dtype: object"
      ]
     },
     "execution_count": 39,
     "metadata": {},
     "output_type": "execute_result"
    }
   ],
   "source": [
    "undergrad_majors = raw_data_04.UndergradMajor\n",
    "undergrad_majors.head()"
   ]
  },
  {
   "cell_type": "code",
   "execution_count": 40,
   "metadata": {},
   "outputs": [
    {
     "data": {
      "text/plain": [
       "19"
      ]
     },
     "execution_count": 40,
     "metadata": {},
     "output_type": "execute_result"
    }
   ],
   "source": [
    "undergrad_majors.nunique()"
   ]
  },
  {
   "cell_type": "code",
   "execution_count": 42,
   "metadata": {},
   "outputs": [
    {
     "data": {
      "text/plain": [
       "Computer science, computer engineering, or software engineering                   60852\n",
       "Information systems, information technology, or system administration              5671\n",
       "Another engineering discipline (ex. civil, electrical, mechanical)                 5462\n",
       "Mathematics or statistics                                                          4354\n",
       "A natural science (ex. biology, chemistry, physics)                                3951\n",
       "Web development or web design                                                      2952\n",
       "A humanities discipline (ex. literature, history, philosophy)                      2251\n",
       "A social science (ex. anthropology, psychology, political science)                 1981\n",
       "A business discipline (ex. accounting, finance, marketing)                         1889\n",
       "Fine arts or performing arts (ex. graphic design, music, studio art)               1802\n",
       "Another engineering discipline (such as civil, electrical, mechanical, etc.)       1798\n",
       "A natural science (such as biology, chemistry, physics, etc.)                      1324\n",
       "I never declared a major                                                           1269\n",
       "A humanities discipline (such as literature, history, philosophy, etc.)             671\n",
       "A business discipline (such as accounting, finance, marketing, etc.)                662\n",
       "A social science (such as anthropology, psychology, political science, etc.)        632\n",
       "Fine arts or performing arts (such as graphic design, music, studio art, etc.)      532\n",
       "A health science (ex. nursing, pharmacy, radiology)                                 284\n",
       "A health science (such as nursing, pharmacy, radiology, etc.)                       116\n",
       "Name: UndergradMajor, dtype: int64"
      ]
     },
     "execution_count": 42,
     "metadata": {},
     "output_type": "execute_result"
    }
   ],
   "source": [
    "um_value_counts = undergrad_majors.value_counts()\n",
    "um_value_counts"
   ]
  },
  {
   "cell_type": "code",
   "execution_count": 43,
   "metadata": {},
   "outputs": [
    {
     "data": {
      "text/plain": [
       "Index(['Computer science, computer engineering, or software engineering',\n",
       "       'Information systems, information technology, or system administration',\n",
       "       'Another engineering discipline (ex. civil, electrical, mechanical)',\n",
       "       'Mathematics or statistics',\n",
       "       'A natural science (ex. biology, chemistry, physics)',\n",
       "       'Web development or web design',\n",
       "       'A humanities discipline (ex. literature, history, philosophy)',\n",
       "       'A social science (ex. anthropology, psychology, political science)',\n",
       "       'A business discipline (ex. accounting, finance, marketing)',\n",
       "       'Fine arts or performing arts (ex. graphic design, music, studio art)',\n",
       "       'Another engineering discipline (such as civil, electrical, mechanical, etc.)',\n",
       "       'A natural science (such as biology, chemistry, physics, etc.)',\n",
       "       'I never declared a major',\n",
       "       'A humanities discipline (such as literature, history, philosophy, etc.)',\n",
       "       'A business discipline (such as accounting, finance, marketing, etc.)',\n",
       "       'A social science (such as anthropology, psychology, political science, etc.)',\n",
       "       'Fine arts or performing arts (such as graphic design, music, studio art, etc.)',\n",
       "       'A health science (ex. nursing, pharmacy, radiology)',\n",
       "       'A health science (such as nursing, pharmacy, radiology, etc.)'],\n",
       "      dtype='object')"
      ]
     },
     "execution_count": 43,
     "metadata": {},
     "output_type": "execute_result"
    }
   ],
   "source": [
    "um_raw_categories = um_value_counts.index\n",
    "um_raw_categories"
   ]
  },
  {
   "cell_type": "code",
   "execution_count": 50,
   "metadata": {},
   "outputs": [
    {
     "data": {
      "text/plain": [
       "{'Computer science, computer engineering, or software engineering': 'computer_science',\n",
       " 'Information systems, information technology, or system administration': 'information_technology',\n",
       " 'Another engineering discipline (ex. civil, electrical, mechanical)': 'engineering',\n",
       " 'Mathematics or statistics': 'mathematics',\n",
       " 'A natural science (ex. biology, chemistry, physics)': 'natural_science',\n",
       " 'Web development or web design': 'web_development',\n",
       " 'A humanities discipline (ex. literature, history, philosophy)': 'humanities_discipline',\n",
       " 'A social science (ex. anthropology, psychology, political science)': 'social_science',\n",
       " 'A business discipline (ex. accounting, finance, marketing)': 'business',\n",
       " 'Fine arts or performing arts (ex. graphic design, music, studio art)': 'arts',\n",
       " 'Another engineering discipline (such as civil, electrical, mechanical, etc.)': 'engineering',\n",
       " 'A natural science (such as biology, chemistry, physics, etc.)': 'natural_science',\n",
       " 'I never declared a major': 'not_declared',\n",
       " 'A humanities discipline (such as literature, history, philosophy, etc.)': 'humanities_discipline',\n",
       " 'A business discipline (such as accounting, finance, marketing, etc.)': 'humanities_discipline',\n",
       " 'A social science (such as anthropology, psychology, political science, etc.)': 'social_science',\n",
       " 'Fine arts or performing arts (such as graphic design, music, studio art, etc.)': 'arts',\n",
       " 'A health science (ex. nursing, pharmacy, radiology)': 'health_science',\n",
       " 'A health science (such as nursing, pharmacy, radiology, etc.)': 'health_science'}"
      ]
     },
     "execution_count": 50,
     "metadata": {},
     "output_type": "execute_result"
    }
   ],
   "source": [
    "um_categories_dict = {\n",
    "    \"Computer science, computer engineering, or software engineering\": \"computer_science\",\n",
    "    \"Information systems, information technology, or system administration\": \"information_technology\",\n",
    "    \"Another engineering discipline (ex. civil, electrical, mechanical)\": \"engineering\",\n",
    "    \"Mathematics or statistics\": \"mathematics\",\n",
    "    \"A natural science (ex. biology, chemistry, physics)\": \"natural_science\",\n",
    "    \"Web development or web design\": \"web_development\",\n",
    "    \"A humanities discipline (ex. literature, history, philosophy)\": \"humanities_discipline\",\n",
    "    \"A social science (ex. anthropology, psychology, political science)\": \"social_science\",\n",
    "    \"A business discipline (ex. accounting, finance, marketing)\": \"business\",\n",
    "    \"Fine arts or performing arts (ex. graphic design, music, studio art)\": \"arts\",\n",
    "    \"Another engineering discipline (such as civil, electrical, mechanical, etc.)\": \"engineering\",\n",
    "    \"A natural science (such as biology, chemistry, physics, etc.)\": \"natural_science\",\n",
    "    \"I never declared a major\": \"not_declared\",\n",
    "    \"A humanities discipline (such as literature, history, philosophy, etc.)\": \"humanities_discipline\",\n",
    "    \"A business discipline (such as accounting, finance, marketing, etc.)\": \"humanities_discipline\",\n",
    "    \"A social science (such as anthropology, psychology, political science, etc.)\": \"social_science\",\n",
    "    \"Fine arts or performing arts (such as graphic design, music, studio art, etc.)\": \"arts\",\n",
    "    \"A health science (ex. nursing, pharmacy, radiology)\": \"health_science\",\n",
    "    \"A health science (such as nursing, pharmacy, radiology, etc.)\": \"health_science\"\n",
    "    }\n",
    "um_categories_dict"
   ]
  },
  {
   "cell_type": "code",
   "execution_count": 54,
   "metadata": {},
   "outputs": [
    {
     "data": {
      "text/plain": [
       "0         computer_science\n",
       "1         computer_science\n",
       "2         computer_science\n",
       "3         computer_science\n",
       "4         computer_science\n",
       "                ...       \n",
       "111204                 NaN\n",
       "111205                 NaN\n",
       "111206                 NaN\n",
       "111207                 NaN\n",
       "111208                 NaN\n",
       "Name: UndergradMajor, Length: 111209, dtype: object"
      ]
     },
     "execution_count": 54,
     "metadata": {},
     "output_type": "execute_result"
    }
   ],
   "source": [
    "undergrad_majors = undergrad_majors.apply(lambda x: um_categories_dict[x] if pd.notna(x) else x)\n",
    "undergrad_majors"
   ]
  },
  {
   "cell_type": "code",
   "execution_count": 55,
   "metadata": {},
   "outputs": [
    {
     "data": {
      "text/plain": [
       "12"
      ]
     },
     "execution_count": 55,
     "metadata": {},
     "output_type": "execute_result"
    }
   ],
   "source": [
    "undergrad_majors.nunique()"
   ]
  },
  {
   "cell_type": "code",
   "execution_count": 56,
   "metadata": {},
   "outputs": [
    {
     "data": {
      "text/plain": [
       "computer_science          60852\n",
       "engineering                7260\n",
       "information_technology     5671\n",
       "natural_science            5275\n",
       "mathematics                4354\n",
       "humanities_discipline      3584\n",
       "web_development            2952\n",
       "social_science             2613\n",
       "arts                       2334\n",
       "business                   1889\n",
       "not_declared               1269\n",
       "health_science              400\n",
       "Name: UndergradMajor, dtype: int64"
      ]
     },
     "execution_count": 56,
     "metadata": {},
     "output_type": "execute_result"
    }
   ],
   "source": [
    "undergrad_majors.value_counts()"
   ]
  },
  {
   "cell_type": "code",
   "execution_count": 57,
   "metadata": {},
   "outputs": [
    {
     "data": {
      "text/plain": [
       "CategoricalDtype(categories=['arts', 'business', 'computer_science', 'engineering',\n",
       "                  'health_science', 'humanities_discipline',\n",
       "                  'information_technology', 'mathematics', 'natural_science',\n",
       "                  'not_declared', 'social_science', 'web_development'],\n",
       ", ordered=False)"
      ]
     },
     "execution_count": 57,
     "metadata": {},
     "output_type": "execute_result"
    }
   ],
   "source": [
    "undergrad_majors = undergrad_majors.astype(\"category\")\n",
    "undergrad_majors.dtype"
   ]
  },
  {
   "cell_type": "code",
   "execution_count": 58,
   "metadata": {},
   "outputs": [],
   "source": [
    "clean_data[\"undergrad_major\"] = undergrad_majors"
   ]
  },
  {
   "cell_type": "code",
   "execution_count": 59,
   "metadata": {},
   "outputs": [
    {
     "data": {
      "text/html": [
       "<div>\n",
       "<style scoped>\n",
       "    .dataframe tbody tr th:only-of-type {\n",
       "        vertical-align: middle;\n",
       "    }\n",
       "\n",
       "    .dataframe tbody tr th {\n",
       "        vertical-align: top;\n",
       "    }\n",
       "\n",
       "    .dataframe thead th {\n",
       "        text-align: right;\n",
       "    }\n",
       "</style>\n",
       "<table border=\"1\" class=\"dataframe\">\n",
       "  <thead>\n",
       "    <tr style=\"text-align: right;\">\n",
       "      <th></th>\n",
       "      <th>respondent_id</th>\n",
       "      <th>year</th>\n",
       "      <th>country</th>\n",
       "      <th>employment</th>\n",
       "      <th>undergrad_major</th>\n",
       "    </tr>\n",
       "  </thead>\n",
       "  <tbody>\n",
       "    <tr>\n",
       "      <th>0</th>\n",
       "      <td>1</td>\n",
       "      <td>2018</td>\n",
       "      <td>United States</td>\n",
       "      <td>Employed full-time</td>\n",
       "      <td>computer_science</td>\n",
       "    </tr>\n",
       "    <tr>\n",
       "      <th>1</th>\n",
       "      <td>1</td>\n",
       "      <td>2019</td>\n",
       "      <td>United States</td>\n",
       "      <td>Employed full-time</td>\n",
       "      <td>computer_science</td>\n",
       "    </tr>\n",
       "    <tr>\n",
       "      <th>2</th>\n",
       "      <td>1</td>\n",
       "      <td>2020</td>\n",
       "      <td>United States</td>\n",
       "      <td>Employed full-time</td>\n",
       "      <td>computer_science</td>\n",
       "    </tr>\n",
       "    <tr>\n",
       "      <th>3</th>\n",
       "      <td>2</td>\n",
       "      <td>2018</td>\n",
       "      <td>United States</td>\n",
       "      <td>Employed full-time</td>\n",
       "      <td>computer_science</td>\n",
       "    </tr>\n",
       "    <tr>\n",
       "      <th>4</th>\n",
       "      <td>2</td>\n",
       "      <td>2019</td>\n",
       "      <td>United States</td>\n",
       "      <td>Employed full-time</td>\n",
       "      <td>computer_science</td>\n",
       "    </tr>\n",
       "  </tbody>\n",
       "</table>\n",
       "</div>"
      ],
      "text/plain": [
       "   respondent_id  year        country          employment   undergrad_major\n",
       "0              1  2018  United States  Employed full-time  computer_science\n",
       "1              1  2019  United States  Employed full-time  computer_science\n",
       "2              1  2020  United States  Employed full-time  computer_science\n",
       "3              2  2018  United States  Employed full-time  computer_science\n",
       "4              2  2019  United States  Employed full-time  computer_science"
      ]
     },
     "execution_count": 59,
     "metadata": {},
     "output_type": "execute_result"
    }
   ],
   "source": [
    "clean_data.head()"
   ]
  },
  {
   "cell_type": "code",
   "execution_count": 60,
   "metadata": {},
   "outputs": [
    {
     "name": "stdout",
     "output_type": "stream",
     "text": [
      "<class 'pandas.core.frame.DataFrame'>\n",
      "RangeIndex: 111209 entries, 0 to 111208\n",
      "Data columns (total 5 columns):\n",
      " #   Column           Non-Null Count   Dtype   \n",
      "---  ------           --------------   -----   \n",
      " 0   respondent_id    111209 non-null  int64   \n",
      " 1   year             111209 non-null  int64   \n",
      " 2   country          111209 non-null  category\n",
      " 3   employment       109425 non-null  category\n",
      " 4   undergrad_major  98453 non-null   category\n",
      "dtypes: category(3), int64(2)\n",
      "memory usage: 2.0 MB\n"
     ]
    }
   ],
   "source": [
    "clean_data.info()"
   ]
  },
  {
   "cell_type": "code",
   "execution_count": 61,
   "metadata": {},
   "outputs": [
    {
     "data": {
      "text/plain": [
       "0                  Engineering manager;Full-stack developer\n",
       "1                                     Developer, full-stack\n",
       "2                                                       NaN\n",
       "3                                      Full-stack developer\n",
       "4         Data or business analyst;Database administrato...\n",
       "                                ...                        \n",
       "111204                                                  NaN\n",
       "111205                                                  NaN\n",
       "111206                                                  NaN\n",
       "111207                                                  NaN\n",
       "111208                                                  NaN\n",
       "Name: DevType, Length: 111209, dtype: object"
      ]
     },
     "execution_count": 61,
     "metadata": {},
     "output_type": "execute_result"
    }
   ],
   "source": [
    "dev_types = raw_data.DevType\n",
    "dev_types"
   ]
  },
  {
   "cell_type": "code",
   "execution_count": 62,
   "metadata": {},
   "outputs": [
    {
     "data": {
      "text/plain": [
       "15627"
      ]
     },
     "execution_count": 62,
     "metadata": {},
     "output_type": "execute_result"
    }
   ],
   "source": [
    "dev_types.nunique()"
   ]
  },
  {
   "cell_type": "code",
   "execution_count": 65,
   "metadata": {},
   "outputs": [
    {
     "data": {
      "text/plain": [
       "0               [Engineering manager, Full-stack developer]\n",
       "1                                   [Developer, full-stack]\n",
       "2                                                       NaN\n",
       "3                                    [Full-stack developer]\n",
       "4         [Data or business analyst, Database administra...\n",
       "                                ...                        \n",
       "111204                                                  NaN\n",
       "111205                                                  NaN\n",
       "111206                                                  NaN\n",
       "111207                                                  NaN\n",
       "111208                                                  NaN\n",
       "Name: DevType, Length: 111209, dtype: object"
      ]
     },
     "execution_count": 65,
     "metadata": {},
     "output_type": "execute_result"
    }
   ],
   "source": [
    "types_of_dev = []\n",
    "\n",
    "dev_types_list = dev_types.apply(lambda x: x.split(\";\") if pd.notna(x) else x)\n",
    "dev_types_list"
   ]
  },
  {
   "cell_type": "code",
   "execution_count": 68,
   "metadata": {},
   "outputs": [],
   "source": [
    "for dev_list in dev_types_list:\n",
    "    if isinstance(dev_list, list):\n",
    "        for item in dev_list:\n",
    "            if not item in types_of_dev:\n",
    "                types_of_dev.append(item)"
   ]
  },
  {
   "cell_type": "code",
   "execution_count": 71,
   "metadata": {},
   "outputs": [
    {
     "data": {
      "text/plain": [
       "34"
      ]
     },
     "execution_count": 71,
     "metadata": {},
     "output_type": "execute_result"
    }
   ],
   "source": [
    "len(types_of_dev)"
   ]
  },
  {
   "cell_type": "code",
   "execution_count": 73,
   "metadata": {},
   "outputs": [
    {
     "data": {
      "text/plain": [
       "['Engineering manager',\n",
       " 'Full-stack developer',\n",
       " 'Developer, full-stack',\n",
       " 'Data or business analyst',\n",
       " 'Database administrator',\n",
       " 'Developer, back-end',\n",
       " 'Developer, desktop or enterprise applications',\n",
       " 'Developer, front-end',\n",
       " 'Developer, mobile',\n",
       " 'DevOps specialist',\n",
       " 'Engineer, data',\n",
       " 'Engineer, site reliability',\n",
       " 'Senior executive/VP',\n",
       " 'System administrator',\n",
       " 'Developer, game or graphics',\n",
       " 'Back-end developer',\n",
       " 'Front-end developer',\n",
       " 'Designer',\n",
       " 'C-suite executive (CEO, CTO, etc.)',\n",
       " 'Student',\n",
       " 'Developer, embedded applications or devices',\n",
       " 'Developer, QA or test',\n",
       " 'Educator',\n",
       " 'Product manager',\n",
       " 'Desktop or enterprise applications developer',\n",
       " 'QA or test developer',\n",
       " 'Data scientist or machine learning specialist',\n",
       " 'Marketing or sales professional',\n",
       " 'Mobile developer',\n",
       " 'Embedded applications or devices developer',\n",
       " 'Academic researcher',\n",
       " 'Educator or academic researcher',\n",
       " 'Scientist',\n",
       " 'Game or graphics developer']"
      ]
     },
     "execution_count": 73,
     "metadata": {},
     "output_type": "execute_result"
    }
   ],
   "source": [
    "types_of_dev"
   ]
  },
  {
   "cell_type": "code",
   "execution_count": 75,
   "metadata": {},
   "outputs": [
    {
     "data": {
      "text/plain": [
       "False"
      ]
     },
     "execution_count": 75,
     "metadata": {},
     "output_type": "execute_result"
    }
   ],
   "source": [
    "\"\" in types_of_dev"
   ]
  },
  {
   "cell_type": "code",
   "execution_count": 77,
   "metadata": {},
   "outputs": [
    {
     "data": {
      "text/plain": [
       "dtype('O')"
      ]
     },
     "execution_count": 77,
     "metadata": {},
     "output_type": "execute_result"
    }
   ],
   "source": [
    "dev_types_list.dtype"
   ]
  }
 ],
 "metadata": {
  "kernelspec": {
   "display_name": "Python 3.10.5 64-bit",
   "language": "python",
   "name": "python3"
  },
  "language_info": {
   "codemirror_mode": {
    "name": "ipython",
    "version": 3
   },
   "file_extension": ".py",
   "mimetype": "text/x-python",
   "name": "python",
   "nbconvert_exporter": "python",
   "pygments_lexer": "ipython3",
   "version": "3.10.5"
  },
  "orig_nbformat": 4,
  "vscode": {
   "interpreter": {
    "hash": "369f2c481f4da34e4445cda3fffd2e751bd1c4d706f27375911949ba6bb62e1c"
   }
  }
 },
 "nbformat": 4,
 "nbformat_minor": 2
}
