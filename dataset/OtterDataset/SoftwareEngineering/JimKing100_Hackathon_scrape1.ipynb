{
  "nbformat": 4,
  "nbformat_minor": 0,
  "metadata": {
    "kernelspec": {
      "display_name": "nlp-1 (Python3)",
      "language": "python",
      "name": "nlp-1"
    },
    "language_info": {
      "codemirror_mode": {
        "name": "ipython",
        "version": 3
      },
      "file_extension": ".py",
      "mimetype": "text/x-python",
      "name": "python",
      "nbconvert_exporter": "python",
      "pygments_lexer": "ipython3",
      "version": "3.7.0"
    },
    "colab": {
      "name": "scrape.ipynb",
      "provenance": []
    },
    "accelerator": "GPU"
  },
  "cells": [
    {
      "cell_type": "code",
      "metadata": {
        "id": "Yh0CiJnRsBXI",
        "colab_type": "code",
        "outputId": "c4a60a1d-2685-47d8-dbd3-a8d0d2ea2507",
        "colab": {
          "base_uri": "https://localhost:8080/",
          "height": 54
        }
      },
      "source": [
        "!pip install squarify"
      ],
      "execution_count": 1,
      "outputs": [
        {
          "output_type": "stream",
          "text": [
            "Requirement already satisfied: squarify in /usr/local/lib/python3.6/dist-packages (0.4.3)\n"
          ],
          "name": "stdout"
        }
      ]
    },
    {
      "cell_type": "code",
      "metadata": {
        "id": "Y133qOkzrDND",
        "colab_type": "code",
        "colab": {}
      },
      "source": [
        "import re\n",
        "import string\n",
        "from collections import Counter\n",
        "import squarify\n",
        "import matplotlib.pyplot as plt\n",
        "\n",
        "from sklearn.feature_extraction.text import CountVectorizer, TfidfVectorizer\n",
        "import matplotlib.pyplot as plt\n",
        "import pandas as pd\n",
        "import numpy as np\n",
        "import spacy\n",
        "from spacy.tokenizer import Tokenizer\n",
        "\n",
        "from bs4 import BeautifulSoup\n",
        "import html as ihtml\n",
        "\n",
        "import requests\n",
        "import sqlite3"
      ],
      "execution_count": 0,
      "outputs": []
    },
    {
      "cell_type": "code",
      "metadata": {
        "id": "WCvFe_74rDNa",
        "colab_type": "code",
        "colab": {}
      },
      "source": [
        "def extract_job_title(soup):\n",
        "    jobs = []\n",
        "    for div in soup.find_all(name=\"div\", attrs={\"class\":\"row\"}):\n",
        "        for a in div.find_all(name=\"a\", attrs={\"data-tn-element\":\"jobTitle\"}):\n",
        "            jobs.append(a[\"title\"])\n",
        "    return(jobs)"
      ],
      "execution_count": 0,
      "outputs": []
    },
    {
      "cell_type": "code",
      "metadata": {
        "id": "gfMKEEs5rDNl",
        "colab_type": "code",
        "colab": {}
      },
      "source": [
        "def extract_company(soup):\n",
        "    companies = []\n",
        "    for div in soup.find_all(name=\"div\", attrs={\"class\":\"row\"}):\n",
        "        company = div.find_all(name=\"span\", attrs={\"class\":\"company\"})\n",
        "        if len(company) > 0:\n",
        "            for b in company:\n",
        "                companies.append(b.text.strip())\n",
        "        else:\n",
        "            sec_try = div.find_all(name=\"span\", attrs={\"class\":\"result-linl-source\"})\n",
        "            for span in sec_try:\n",
        "                companies.append(span.text.strip())\n",
        "    return(companies)"
      ],
      "execution_count": 0,
      "outputs": []
    },
    {
      "cell_type": "code",
      "metadata": {
        "id": "onup3OzurDNt",
        "colab_type": "code",
        "colab": {}
      },
      "source": [
        "def extract_location(soup):\n",
        "    locations = []\n",
        "    for div in soup.find_all(name=\"div\", attrs={\"class\":\"row\"}):\n",
        "        try:\n",
        "            locations.append(div.find(name=\"span\", attrs={\"class\":\"location\"}).text)\n",
        "        except:\n",
        "            locations.append(\"None\")\n",
        "    return(locations)"
      ],
      "execution_count": 0,
      "outputs": []
    },
    {
      "cell_type": "code",
      "metadata": {
        "id": "EwxQyC4xrDN0",
        "colab_type": "code",
        "colab": {}
      },
      "source": [
        "def extract_salary(soup):\n",
        "    salaries = []\n",
        "    for div in soup.find_all(name=\"div\", attrs={\"class\":\"row\"}):\n",
        "        try:\n",
        "            salaries.append(div.find(name=\"span\", attrs={\"class\":\"salaryText\"}).text.replace(\"\\n\",\"\"))\n",
        "        except:\n",
        "            salaries.append(\"None\")\n",
        "    return(salaries)"
      ],
      "execution_count": 0,
      "outputs": []
    },
    {
      "cell_type": "code",
      "metadata": {
        "id": "lG1FO5rgrDN7",
        "colab_type": "code",
        "colab": {}
      },
      "source": [
        "def extract_job_title(soup):\n",
        "    jobs = []\n",
        "    for div in soup.find_all(name=\"div\", attrs={\"class\":\"row\"}):\n",
        "        for a in div.find_all(name=\"a\", attrs={\"data-tn-element\":\"jobTitle\"}):\n",
        "            jobs.append(a[\"title\"])\n",
        "    return(jobs)"
      ],
      "execution_count": 0,
      "outputs": []
    },
    {
      "cell_type": "code",
      "metadata": {
        "id": "z49zqaYvrDOB",
        "colab_type": "code",
        "colab": {}
      },
      "source": [
        "def extract_url(soup):\n",
        "    urls = []\n",
        "    for div1 in soup.find_all(name=\"div\", attrs={\"class\":\"row\"}):\n",
        "        for div2 in div1.find_all(name=\"div\", attrs={\"class\":\"title\"}):\n",
        "            for a in div2.find_all(name=\"a\", href=True):\n",
        "                urls.append(a['href'])\n",
        "    return(urls)\n",
        "\n",
        "def extract_desc(urls):\n",
        "    descs = []\n",
        "    for url in urls:\n",
        "        full_url = \"https://www.indeed.com\" + url\n",
        "        detail_page = requests.get(full_url)\n",
        "        detail_soup = BeautifulSoup(detail_page.text, \"html.parser\")\n",
        "        \n",
        "        for div in detail_soup.find_all(name=\"div\", attrs={\"id\":\"jobDescriptionText\"}):\n",
        "            descs.append(div.text)\n",
        "    return(descs)"
      ],
      "execution_count": 0,
      "outputs": []
    },
    {
      "cell_type": "code",
      "metadata": {
        "id": "PuIAkmwirDOG",
        "colab_type": "code",
        "colab": {}
      },
      "source": [
        "def extract_count(soup):\n",
        "    for div in soup.find_all(name=\"div\", attrs={\"id\":\"searchCountPages\"}):\n",
        "        temp_str = div.text.replace(\" \", \"\")\n",
        "        temp_count_str = re.search('of(.*)jobs', temp_str)\n",
        "        count_str = re.sub('[^0-9]','', temp_count_str.group(1))\n",
        "        count = int(count_str)\n",
        "    return(count)"
      ],
      "execution_count": 0,
      "outputs": []
    },
    {
      "cell_type": "code",
      "metadata": {
        "id": "apMUcrzVrDOM",
        "colab_type": "code",
        "colab": {}
      },
      "source": [
        "def extract_list(title_name, city_name, st_name):\n",
        "    max_results = 100\n",
        "    columns = [\"city\", \"job_title\", \"company\", \"location\", \"salary\", \"description\"]\n",
        "\n",
        "    city_url = \"https://www.indeed.com/jobs?q=\" + title_name + \\\n",
        "               \"&l=\" + city_name + \"%2C+\" + st_name\n",
        "    page = requests.get(city_url)\n",
        "    soup = BeautifulSoup(page.text, \"html.parser\")\n",
        "    max_counter = extract_count(soup)\n",
        "    print(max_counter, title_name, city_name)\n",
        "\n",
        "    job_title_list = []\n",
        "    company_list = []\n",
        "    location_list = []\n",
        "    salary_list = []\n",
        "    desc_list = []\n",
        "    count_list = []\n",
        "\n",
        "    for start in range(0, max_results, 10):\n",
        "        city_url = \"https://www.indeed.com/jobs?q=\" + title_name + \\\n",
        "                   \"&l=\" + city_name + \"%2C+\" + st_name + \\\n",
        "                   \"&start=\" + str(start)\n",
        "        page = requests.get(city_url)\n",
        "        soup = BeautifulSoup(page.text, \"html.parser\")\n",
        "\n",
        "        job_title_list.extend(extract_job_title(soup))\n",
        "        company_list.extend(extract_company(soup))\n",
        "        location_list.extend(extract_location(soup))\n",
        "        salary_list.extend(extract_salary(soup))\n",
        "        add_urls = extract_url(soup)\n",
        "        desc_list.extend(extract_desc(add_urls))\n",
        "        count_list.extend(max_counter)\n",
        "\n",
        "    return job_title_list, company_list, location_list, salary_list, desc_list, count_list\n",
        "\n",
        "def job_db(title, city, st):   \n",
        "    j_list, c_list, l_list, s_list, d_list, t_list = extract_list(title, city, st)     \n",
        "    temp_df = pd.DataFrame(list(zip(j_list, c_list, l_list, s_list, d_list, t_list)), \n",
        "                          columns = ['job_title', 'company', 'location', 'salary', 'description', 'count'])\n",
        "    return temp_df"
      ],
      "execution_count": 0,
      "outputs": []
    },
    {
      "cell_type": "code",
      "metadata": {
        "id": "btT5V6pSNCsj",
        "colab_type": "code",
        "outputId": "5c679b74-4dcb-4026-d5b3-7ee87af924d0",
        "colab": {
          "base_uri": "https://localhost:8080/",
          "height": 374
        }
      },
      "source": [
        "temp1_df = job_db('data+scientist', 'San+Jose', 'CA')\n",
        "temp1_df['city'] = 'San Jose'\n",
        "temp2_df = job_db('data+scientist', 'San+Francisco', 'CA')\n",
        "temp2_df['city'] = 'San Francisco'\n",
        "temp3_df = job_db('data+scientist', 'Seattle', 'WA')\n",
        "temp3_df['city'] = 'San Seattle'\n",
        "temp4_df = job_db('data+scientist', 'Washington', 'DC')\n",
        "temp4_df['city'] = 'Washington'\n",
        "temp5_df = job_db('data+scientist', 'New+York', 'NY')\n",
        "temp5_df['city'] = 'New York'\n",
        "temp6_df = job_db('data+scientist', 'Baltimore', 'MD')\n",
        "temp6_df['city'] = 'Baltimore'\n",
        "temp7_df = job_db('data+scientist', 'Boulder', 'CO')\n",
        "temp7_df['city'] = 'Boulder'\n",
        "temp8_df = job_db('data+scientist', 'San+Diego', 'CA')\n",
        "temp8_df['city'] = 'San Diego'\n",
        "temp9_df = job_db('data+scientist', 'Denver', 'CO')\n",
        "temp9_df['city'] = 'Denver'\n",
        "temp10_df = job_db('data+scientist', 'Huntsville', 'AL')\n",
        "temp10_df['city'] = 'Huntsville'\n",
        "temp11_df = job_db('data+scientist', 'Colorado+Springs', 'CO')\n",
        "temp11_df['city'] = 'Colorado Springs'\n",
        "temp12_df = job_db('data+scientist', 'Houston', 'TX')\n",
        "temp12_df['city'] = 'Houston'\n",
        "temp13_df = job_db('data+scientist', 'Trenton', 'NJ')\n",
        "temp13_df['city'] = 'Trenton'\n",
        "temp14_df = job_db('data+scientist', 'Dallas', 'TX')\n",
        "temp14_df['city'] = 'Dallas'\n",
        "temp15_df = job_db('data+scientist', 'Columbus', 'OH')\n",
        "temp15_df['city'] = 'Columbus'\n",
        "temp16_df = job_db('data+scientist', 'Austin', 'TX')\n",
        "temp16_df['city'] = 'Austin'\n",
        "temp17_df = job_db('data+scientist', 'Philadelphia', 'PA')\n",
        "temp17_df['city'] = 'Philadelphia'\n",
        "temp18_df = job_db('data+scientist', 'Durham', 'NC')\n",
        "temp18_df['city'] = 'Durham'\n",
        "temp19_df = job_db('data+scientist', 'Raleigh', 'NC')\n",
        "temp19_df['city'] = 'Raleigh'\n",
        "temp20_df = job_db('data+scientist', 'Atlanta', 'GA')\n",
        "temp20_df['city'] = 'Atlanta'\n",
        "\n",
        "data_scientist_df = pd.concat([temp1_df, temp2_df, temp3_df, temp4_df, temp5_df,\n",
        "                       temp6_df, temp7_df, temp8_df, temp9_df, temp10_df,\n",
        "                       temp11_df, temp12_df, temp13_df, temp14_df, temp15_df,\n",
        "                       temp16_df, temp17_df, temp18_df, temp19_df, temp20_df], ignore_index=True)\n",
        "\n",
        "print(data_scientist_df.shape)"
      ],
      "execution_count": 11,
      "outputs": [
        {
          "output_type": "stream",
          "text": [
            "1315 data+scientist San+Jose\n",
            "935 data+scientist San+Francisco\n",
            "1107 data+scientist Seattle\n",
            "1176 data+scientist Washington\n",
            "991 data+scientist New+York\n",
            "166 data+scientist Baltimore\n",
            "161 data+scientist Boulder\n",
            "163 data+scientist San+Diego\n",
            "180 data+scientist Denver\n",
            "22 data+scientist Huntsville\n",
            "6 data+scientist Colorado+Springs\n",
            "100 data+scientist Houston\n",
            "92 data+scientist Trenton\n",
            "258 data+scientist Dallas\n",
            "74 data+scientist Columbus\n",
            "185 data+scientist Austin\n",
            "214 data+scientist Philadelphia\n",
            "146 data+scientist Durham\n",
            "148 data+scientist Raleigh\n",
            "259 data+scientist Atlanta\n",
            "(3270, 5)\n"
          ],
          "name": "stdout"
        }
      ]
    },
    {
      "cell_type": "code",
      "metadata": {
        "id": "QtJLD1unfnnG",
        "colab_type": "code",
        "colab": {
          "base_uri": "https://localhost:8080/",
          "height": 374
        },
        "outputId": "ce1a0e74-4b31-4c51-d02f-b5f99b0ffb38"
      },
      "source": [
        "temp1_df = job_db('web+developer', 'San+Jose', 'CA')\n",
        "temp1_df['city'] = 'San Jose'\n",
        "temp2_df = job_db('web+developer', 'San+Francisco', 'CA')\n",
        "temp2_df['city'] = 'San Francisco'\n",
        "temp3_df = job_db('web+developer', 'Seattle', 'WA')\n",
        "temp3_df['city'] = 'San Seattle'\n",
        "temp4_df = job_db('web+developer', 'Washington', 'DC')\n",
        "temp4_df['city'] = 'Washington'\n",
        "temp5_df = job_db('web+developer', 'New+York', 'NY')\n",
        "temp5_df['city'] = 'New York'\n",
        "temp6_df = job_db('web+developer', 'Baltimore', 'MD')\n",
        "temp6_df['city'] = 'Baltimore'\n",
        "temp7_df = job_db('web+developer', 'Boulder', 'CO')\n",
        "temp7_df['city'] = 'Boulder'\n",
        "temp8_df = job_db('web+developer', 'San+Diego', 'CA')\n",
        "temp8_df['city'] = 'San Diego'\n",
        "temp9_df = job_db('web+developer', 'Denver', 'CO')\n",
        "temp9_df['city'] = 'Denver'\n",
        "temp10_df = job_db('web+developer', 'Huntsville', 'AL')\n",
        "temp10_df['city'] = 'Huntsville'\n",
        "temp11_df = job_db('web+developer', 'Colorado+Springs', 'CO')\n",
        "temp11_df['city'] = 'Colorado Springs'\n",
        "temp12_df = job_db('web+developer', 'Houston', 'TX')\n",
        "temp12_df['city'] = 'Houston'\n",
        "temp13_df = job_db('web+developer', 'Trenton', 'NJ')\n",
        "temp13_df['city'] = 'Trenton'\n",
        "temp14_df = job_db('web+developer', 'Dallas', 'TX')\n",
        "temp14_df['city'] = 'Dallas'\n",
        "temp15_df = job_db('web+developer', 'Columbus', 'OH')\n",
        "temp15_df['city'] = 'Columbus'\n",
        "temp16_df = job_db('web+developer', 'Austin', 'TX')\n",
        "temp16_df['city'] = 'Austin'\n",
        "temp17_df = job_db('web+developer', 'Philadelphia', 'PA')\n",
        "temp17_df['city'] = 'Philadelphia'\n",
        "temp18_df = job_db('web+developer', 'Durham', 'NC')\n",
        "temp18_df['city'] = 'Durham'\n",
        "temp19_df = job_db('web+developer', 'Raleigh', 'NC')\n",
        "temp19_df['city'] = 'Raleigh'\n",
        "temp20_df = job_db('web+developer', 'Atlanta', 'GA')\n",
        "temp20_df['city'] = 'Atlanta'\n",
        "\n",
        "web_developer_df = pd.concat([temp1_df, temp2_df, temp3_df, temp4_df, temp5_df,\n",
        "                              temp6_df, temp7_df, temp8_df, temp9_df, temp10_df,\n",
        "                              temp11_df, temp12_df, temp13_df, temp14_df, temp15_df,\n",
        "                              temp16_df, temp17_df, temp18_df, temp19_df, temp20_df], ignore_index=True)\n",
        "print(web_developer_df.shape)"
      ],
      "execution_count": 12,
      "outputs": [
        {
          "output_type": "stream",
          "text": [
            "1404 web+developer San+Jose\n",
            "1416 web+developer San+Francisco\n",
            "1423 web+developer Seattle\n",
            "3429 web+developer Washington\n",
            "1833 web+developer New+York\n",
            "880 web+developer Baltimore\n",
            "440 web+developer Boulder\n",
            "383 web+developer San+Diego\n",
            "597 web+developer Denver\n",
            "79 web+developer Huntsville\n",
            "68 web+developer Colorado+Springs\n",
            "369 web+developer Houston\n",
            "226 web+developer Trenton\n",
            "780 web+developer Dallas\n",
            "221 web+developer Columbus\n",
            "656 web+developer Austin\n",
            "534 web+developer Philadelphia\n",
            "376 web+developer Durham\n",
            "359 web+developer Raleigh\n",
            "616 web+developer Atlanta\n",
            "(3640, 5)\n"
          ],
          "name": "stdout"
        }
      ]
    },
    {
      "cell_type": "code",
      "metadata": {
        "id": "kxjzVabzmpRJ",
        "colab_type": "code",
        "colab": {
          "base_uri": "https://localhost:8080/",
          "height": 374
        },
        "outputId": "80959100-3e1e-47be-aa05-028d70e40bb1"
      },
      "source": [
        "temp1_df = job_db('ux+designer', 'San+Jose', 'CA')\n",
        "temp1_df['city'] = 'San Jose'\n",
        "temp2_df = job_db('ux+designer', 'San+Francisco', 'CA')\n",
        "temp2_df['city'] = 'San Francisco'\n",
        "temp3_df = job_db('ux+designer', 'Seattle', 'WA')\n",
        "temp3_df['city'] = 'San Seattle'\n",
        "temp4_df = job_db('ux+designer', 'Washington', 'DC')\n",
        "temp4_df['city'] = 'Washington'\n",
        "temp5_df = job_db('ux+designer', 'New+York', 'NY')\n",
        "temp5_df['city'] = 'New York'\n",
        "temp6_df = job_db('ux+designer', 'Baltimore', 'MD')\n",
        "temp6_df['city'] = 'Baltimore'\n",
        "temp7_df = job_db('ux+designer', 'Boulder', 'CO')\n",
        "temp7_df['city'] = 'Boulder'\n",
        "temp8_df = job_db('ux+designer', 'San+Diego', 'CA')\n",
        "temp8_df['city'] = 'San Diego'\n",
        "temp9_df = job_db('ux+designer', 'Denver', 'CO')\n",
        "temp9_df['city'] = 'Denver'\n",
        "temp10_df = job_db('ux+designer', 'Huntsville', 'AL')\n",
        "temp10_df['city'] = 'Huntsville'\n",
        "temp11_df = job_db('ux+designer', 'Colorado+Springs', 'CO')\n",
        "temp11_df['city'] = 'Colorado Springs'\n",
        "temp12_df = job_db('ux+designer', 'Houston', 'TX')\n",
        "temp12_df['city'] = 'Houston'\n",
        "temp13_df = job_db('ux+designer', 'Trenton', 'NJ')\n",
        "temp13_df['city'] = 'Trenton'\n",
        "temp14_df = job_db('ux+designer', 'Dallas', 'TX')\n",
        "temp14_df['city'] = 'Dallas'\n",
        "temp15_df = job_db('ux+designer', 'Columbus', 'OH')\n",
        "temp15_df['city'] = 'Columbus'\n",
        "temp16_df = job_db('ux+designer', 'Austin', 'TX')\n",
        "temp16_df['city'] = 'Austin'\n",
        "temp17_df = job_db('ux+designer', 'Philadelphia', 'PA')\n",
        "temp17_df['city'] = 'Philadelphia'\n",
        "temp18_df = job_db('ux+designer', 'Durham', 'NC')\n",
        "temp18_df['city'] = 'Durham'\n",
        "temp19_df = job_db('ux+designer', 'Raleigh', 'NC')\n",
        "temp19_df['city'] = 'Raleigh'\n",
        "temp20_df = job_db('ux+designer', 'Atlanta', 'GA')\n",
        "temp20_df['city'] = 'Atlanta'\n",
        "\n",
        "ux_designer_df = pd.concat([temp1_df, temp2_df, temp3_df, temp4_df, temp5_df,\n",
        "                            temp6_df, temp7_df, temp8_df, temp9_df, temp10_df,\n",
        "                            temp11_df, temp12_df, temp13_df, temp14_df, temp15_df,\n",
        "                            temp16_df, temp17_df, temp18_df, temp19_df, temp20_df], ignore_index=True)\n",
        "print(ux_designer_df.shape)"
      ],
      "execution_count": 13,
      "outputs": [
        {
          "output_type": "stream",
          "text": [
            "626 ux+designer San+Jose\n",
            "876 ux+designer San+Francisco\n",
            "951 ux+designer Seattle\n",
            "523 ux+designer Washington\n",
            "982 ux+designer New+York\n",
            "89 ux+designer Baltimore\n",
            "132 ux+designer Boulder\n",
            "107 ux+designer San+Diego\n",
            "147 ux+designer Denver\n",
            "8 ux+designer Huntsville\n",
            "6 ux+designer Colorado+Springs\n",
            "82 ux+designer Houston\n",
            "40 ux+designer Trenton\n",
            "175 ux+designer Dallas\n",
            "47 ux+designer Columbus\n",
            "274 ux+designer Austin\n",
            "145 ux+designer Philadelphia\n",
            "80 ux+designer Durham\n",
            "80 ux+designer Raleigh\n",
            "252 ux+designer Atlanta\n",
            "(3018, 5)\n"
          ],
          "name": "stdout"
        }
      ]
    },
    {
      "cell_type": "code",
      "metadata": {
        "id": "PIxfH9yfnheV",
        "colab_type": "code",
        "colab": {
          "base_uri": "https://localhost:8080/",
          "height": 374
        },
        "outputId": "e1989ce1-b7ea-4960-cd00-9c62f7b1fce9"
      },
      "source": [
        "temp1_df = job_db('ios+developer', 'San+Jose', 'CA')\n",
        "temp1_df['city'] = 'San Jose'\n",
        "temp2_df = job_db('ios+developer', 'San+Francisco', 'CA')\n",
        "temp2_df['city'] = 'San Francisco'\n",
        "temp3_df = job_db('ios+developer', 'Seattle', 'WA')\n",
        "temp3_df['city'] = 'San Seattle'\n",
        "temp4_df = job_db('ios+developer', 'Washington', 'DC')\n",
        "temp4_df['city'] = 'Washington'\n",
        "temp5_df = job_db('ios+developer', 'New+York', 'NY')\n",
        "temp5_df['city'] = 'New York'\n",
        "temp6_df = job_db('ios+developer', 'Baltimore', 'MD')\n",
        "temp6_df['city'] = 'Baltimore'\n",
        "temp7_df = job_db('ios+developer', 'Boulder', 'CO')\n",
        "temp7_df['city'] = 'Boulder'\n",
        "temp8_df = job_db('ios+developer', 'San+Diego', 'CA')\n",
        "temp8_df['city'] = 'San Diego'\n",
        "temp9_df = job_db('ios+developer', 'Denver', 'CO')\n",
        "temp9_df['city'] = 'Denver'\n",
        "temp10_df = job_db('ios+developer', 'Huntsville', 'AL')\n",
        "temp10_df['city'] = 'Huntsville'\n",
        "temp11_df = job_db('ios+developer', 'Colorado+Springs', 'CO')\n",
        "temp11_df['city'] = 'Colorado Springs'\n",
        "temp12_df = job_db('ios+developer', 'Houston', 'TX')\n",
        "temp12_df['city'] = 'Houston'\n",
        "temp13_df = job_db('ios+developer', 'Trenton', 'NJ')\n",
        "temp13_df['city'] = 'Trenton'\n",
        "temp14_df = job_db('ios+developer', 'Dallas', 'TX')\n",
        "temp14_df['city'] = 'Dallas'\n",
        "temp15_df = job_db('ios+developer', 'Columbus', 'OH')\n",
        "temp15_df['city'] = 'Columbus'\n",
        "temp16_df = job_db('ios+developer', 'Austin', 'TX')\n",
        "temp16_df['city'] = 'Austin'\n",
        "temp17_df = job_db('ios+developer', 'Philadelphia', 'PA')\n",
        "temp17_df['city'] = 'Philadelphia'\n",
        "temp18_df = job_db('ios+developer', 'Durham', 'NC')\n",
        "temp18_df['city'] = 'Durham'\n",
        "temp19_df = job_db('ios+developer', 'Raleigh', 'NC')\n",
        "temp19_df['city'] = 'Raleigh'\n",
        "temp20_df = job_db('ios+developer', 'Atlanta', 'GA')\n",
        "temp20_df['city'] = 'Atlanta'\n",
        "\n",
        "ios_developer_df = pd.concat([temp1_df, temp2_df, temp3_df, temp4_df, temp5_df,\n",
        "                              temp6_df, temp7_df, temp8_df, temp9_df, temp10_df,\n",
        "                              temp11_df, temp12_df, temp13_df, temp14_df, temp15_df,\n",
        "                              temp16_df, temp17_df, temp18_df, temp19_df, temp20_df], ignore_index=True)\n",
        "print(ios_developer_df.shape)"
      ],
      "execution_count": 14,
      "outputs": [
        {
          "output_type": "stream",
          "text": [
            "47 ios_developer San+Jose\n",
            "43 ios_developer San+Francisco\n",
            "13 ios_developer Seattle\n",
            "11 ios_developer Washington\n",
            "34 ios_developer New+York\n",
            "5 ios_developer Baltimore\n",
            "11 ios_developer Boulder\n",
            "6 ios_developer San+Diego\n",
            "14 ios_developer Denver\n",
            "15 ios_developer Huntsville\n",
            "6 ios_developer Colorado+Springs\n",
            "6 ios_developer Houston\n",
            "5 ios_developer Trenton\n",
            "16 ios_developer Dallas\n",
            "2 ios_developer Columbus\n",
            "16 ios_developer Austin\n",
            "8 ios_developer Philadelphia\n",
            "5 ios_developer Durham\n",
            "5 ios_developer Raleigh\n",
            "13 ios_developer Atlanta\n",
            "(1764, 5)\n"
          ],
          "name": "stdout"
        }
      ]
    },
    {
      "cell_type": "code",
      "metadata": {
        "id": "kxO8nLwjrDOR",
        "colab_type": "code",
        "colab": {}
      },
      "source": [
        "data_scientist_df['job'] = 'data scientist'\n",
        "web_developer_df['job'] = 'web developer'\n",
        "ux_designer_df['job'] = 'ux designer'\n",
        "ios_developer_df['job'] = 'ios developer'\n",
        "indeed_df = pd.concat([data_scientist_df, web_developer_df, ux_designer_df, ios_developer_df], ignore_index=True)\n",
        "indeed_df = indeed_df.drop_duplicates(keep=False) \n",
        "indeed_df = indeed_df.reset_index(drop=True)"
      ],
      "execution_count": 0,
      "outputs": []
    },
    {
      "cell_type": "code",
      "metadata": {
        "id": "aGR33_X2mDZp",
        "colab_type": "code",
        "colab": {
          "base_uri": "https://localhost:8080/",
          "height": 357
        },
        "outputId": "e727754d-c87c-46d3-8f12-974fff22d8f6"
      },
      "source": [
        "indeed_df.head()"
      ],
      "execution_count": 16,
      "outputs": [
        {
          "output_type": "execute_result",
          "data": {
            "text/html": [
              "<div>\n",
              "<style scoped>\n",
              "    .dataframe tbody tr th:only-of-type {\n",
              "        vertical-align: middle;\n",
              "    }\n",
              "\n",
              "    .dataframe tbody tr th {\n",
              "        vertical-align: top;\n",
              "    }\n",
              "\n",
              "    .dataframe thead th {\n",
              "        text-align: right;\n",
              "    }\n",
              "</style>\n",
              "<table border=\"1\" class=\"dataframe\">\n",
              "  <thead>\n",
              "    <tr style=\"text-align: right;\">\n",
              "      <th></th>\n",
              "      <th>job_title</th>\n",
              "      <th>company</th>\n",
              "      <th>location</th>\n",
              "      <th>salary</th>\n",
              "      <th>description</th>\n",
              "      <th>job</th>\n",
              "    </tr>\n",
              "  </thead>\n",
              "  <tbody>\n",
              "    <tr>\n",
              "      <th>0</th>\n",
              "      <td>Data Scientist</td>\n",
              "      <td>HCL America</td>\n",
              "      <td>None</td>\n",
              "      <td>None</td>\n",
              "      <td>We are looking for a Data Scientistto be part ...</td>\n",
              "      <td>data scientist</td>\n",
              "    </tr>\n",
              "    <tr>\n",
              "      <th>1</th>\n",
              "      <td>Data Scientist</td>\n",
              "      <td>Palo Verde Consulting</td>\n",
              "      <td>Campbell, CA 95008</td>\n",
              "      <td>$150,000 - $210,000 a year</td>\n",
              "      <td>Job Title: Data ScientistLocation: Campbell, C...</td>\n",
              "      <td>data scientist</td>\n",
              "    </tr>\n",
              "    <tr>\n",
              "      <th>2</th>\n",
              "      <td>Data Scientist (All Levels) - Santa Clara</td>\n",
              "      <td>LeanTaaS</td>\n",
              "      <td>Santa Clara, CA 95050</td>\n",
              "      <td>None</td>\n",
              "      <td>Help build technology that saves lives!\\n\\nWe'...</td>\n",
              "      <td>data scientist</td>\n",
              "    </tr>\n",
              "    <tr>\n",
              "      <th>3</th>\n",
              "      <td>Data Scientist</td>\n",
              "      <td>Acubed</td>\n",
              "      <td>Sunnyvale, CA</td>\n",
              "      <td>None</td>\n",
              "      <td>ADAM\\n\\nThe Advanced Digital Design and Manufa...</td>\n",
              "      <td>data scientist</td>\n",
              "    </tr>\n",
              "    <tr>\n",
              "      <th>4</th>\n",
              "      <td>Data Scientist</td>\n",
              "      <td>Spry Health</td>\n",
              "      <td>Palo Alto, CA</td>\n",
              "      <td>$100,000 - $135,000 a year</td>\n",
              "      <td>Spry Health’s mission is to build the world’s ...</td>\n",
              "      <td>data scientist</td>\n",
              "    </tr>\n",
              "  </tbody>\n",
              "</table>\n",
              "</div>"
            ],
            "text/plain": [
              "                                   job_title  ...             job\n",
              "0                             Data Scientist  ...  data scientist\n",
              "1                             Data Scientist  ...  data scientist\n",
              "2  Data Scientist (All Levels) - Santa Clara  ...  data scientist\n",
              "3                             Data Scientist  ...  data scientist\n",
              "4                             Data Scientist  ...  data scientist\n",
              "\n",
              "[5 rows x 6 columns]"
            ]
          },
          "metadata": {
            "tags": []
          },
          "execution_count": 16
        }
      ]
    },
    {
      "cell_type": "code",
      "metadata": {
        "id": "iQtq-mjCrDOW",
        "colab_type": "code",
        "outputId": "0b42f2e2-dc82-4443-a3b7-84d7e52d49c0",
        "colab": {
          "base_uri": "https://localhost:8080/",
          "height": 479
        }
      },
      "source": [
        "def convert_salary(sal_str, s_flag):\n",
        "    \n",
        "    sal_split = re.findall(r'\\d+', sal_str.replace(\",\", \"\"))\n",
        "    \n",
        "    if len(sal_split) == 2:\n",
        "        low_salary = int(sal_split[0])\n",
        "        high_salary = int(sal_split[1])\n",
        "    else:\n",
        "        low_salary = None\n",
        "        high_salary = None\n",
        "    \n",
        "    if s_flag == 'l':\n",
        "        salary = low_salary\n",
        "    else:\n",
        "        salary = high_salary\n",
        "    \n",
        "    return salary\n",
        "\n",
        "indeed_df['low_salary'] = indeed_df.apply(lambda x: convert_salary(x['salary'], 'l'), axis=1)\n",
        "indeed_df['high_salary'] = indeed_df.apply(lambda x: convert_salary(x['salary'], 'h'), axis=1)\n",
        "indeed_df = indeed_df.drop(columns=['salary'])\n",
        "\n",
        "indeed_df.head()                                      "
      ],
      "execution_count": 17,
      "outputs": [
        {
          "output_type": "execute_result",
          "data": {
            "text/html": [
              "<div>\n",
              "<style scoped>\n",
              "    .dataframe tbody tr th:only-of-type {\n",
              "        vertical-align: middle;\n",
              "    }\n",
              "\n",
              "    .dataframe tbody tr th {\n",
              "        vertical-align: top;\n",
              "    }\n",
              "\n",
              "    .dataframe thead th {\n",
              "        text-align: right;\n",
              "    }\n",
              "</style>\n",
              "<table border=\"1\" class=\"dataframe\">\n",
              "  <thead>\n",
              "    <tr style=\"text-align: right;\">\n",
              "      <th></th>\n",
              "      <th>job_title</th>\n",
              "      <th>company</th>\n",
              "      <th>location</th>\n",
              "      <th>description</th>\n",
              "      <th>job</th>\n",
              "      <th>low_salary</th>\n",
              "      <th>high_salary</th>\n",
              "    </tr>\n",
              "  </thead>\n",
              "  <tbody>\n",
              "    <tr>\n",
              "      <th>0</th>\n",
              "      <td>Data Scientist</td>\n",
              "      <td>HCL America</td>\n",
              "      <td>None</td>\n",
              "      <td>We are looking for a Data Scientistto be part ...</td>\n",
              "      <td>data scientist</td>\n",
              "      <td>NaN</td>\n",
              "      <td>NaN</td>\n",
              "    </tr>\n",
              "    <tr>\n",
              "      <th>1</th>\n",
              "      <td>Data Scientist</td>\n",
              "      <td>Palo Verde Consulting</td>\n",
              "      <td>Campbell, CA 95008</td>\n",
              "      <td>Job Title: Data ScientistLocation: Campbell, C...</td>\n",
              "      <td>data scientist</td>\n",
              "      <td>150000.0</td>\n",
              "      <td>210000.0</td>\n",
              "    </tr>\n",
              "    <tr>\n",
              "      <th>2</th>\n",
              "      <td>Data Scientist (All Levels) - Santa Clara</td>\n",
              "      <td>LeanTaaS</td>\n",
              "      <td>Santa Clara, CA 95050</td>\n",
              "      <td>Help build technology that saves lives!\\n\\nWe'...</td>\n",
              "      <td>data scientist</td>\n",
              "      <td>NaN</td>\n",
              "      <td>NaN</td>\n",
              "    </tr>\n",
              "    <tr>\n",
              "      <th>3</th>\n",
              "      <td>Data Scientist</td>\n",
              "      <td>Acubed</td>\n",
              "      <td>Sunnyvale, CA</td>\n",
              "      <td>ADAM\\n\\nThe Advanced Digital Design and Manufa...</td>\n",
              "      <td>data scientist</td>\n",
              "      <td>NaN</td>\n",
              "      <td>NaN</td>\n",
              "    </tr>\n",
              "    <tr>\n",
              "      <th>4</th>\n",
              "      <td>Data Scientist</td>\n",
              "      <td>Spry Health</td>\n",
              "      <td>Palo Alto, CA</td>\n",
              "      <td>Spry Health’s mission is to build the world’s ...</td>\n",
              "      <td>data scientist</td>\n",
              "      <td>100000.0</td>\n",
              "      <td>135000.0</td>\n",
              "    </tr>\n",
              "  </tbody>\n",
              "</table>\n",
              "</div>"
            ],
            "text/plain": [
              "                                   job_title  ... high_salary\n",
              "0                             Data Scientist  ...         NaN\n",
              "1                             Data Scientist  ...    210000.0\n",
              "2  Data Scientist (All Levels) - Santa Clara  ...         NaN\n",
              "3                             Data Scientist  ...         NaN\n",
              "4                             Data Scientist  ...    135000.0\n",
              "\n",
              "[5 rows x 7 columns]"
            ]
          },
          "metadata": {
            "tags": []
          },
          "execution_count": 17
        }
      ]
    },
    {
      "cell_type": "code",
      "metadata": {
        "id": "mQ8FO9aaixTW",
        "colab_type": "code",
        "colab": {
          "base_uri": "https://localhost:8080/",
          "height": 445
        },
        "outputId": "b8a83179-a3ff-4468-ca82-e2af8dff5569"
      },
      "source": [
        "indeed_df.tail()"
      ],
      "execution_count": 18,
      "outputs": [
        {
          "output_type": "execute_result",
          "data": {
            "text/html": [
              "<div>\n",
              "<style scoped>\n",
              "    .dataframe tbody tr th:only-of-type {\n",
              "        vertical-align: middle;\n",
              "    }\n",
              "\n",
              "    .dataframe tbody tr th {\n",
              "        vertical-align: top;\n",
              "    }\n",
              "\n",
              "    .dataframe thead th {\n",
              "        text-align: right;\n",
              "    }\n",
              "</style>\n",
              "<table border=\"1\" class=\"dataframe\">\n",
              "  <thead>\n",
              "    <tr style=\"text-align: right;\">\n",
              "      <th></th>\n",
              "      <th>job_title</th>\n",
              "      <th>company</th>\n",
              "      <th>location</th>\n",
              "      <th>description</th>\n",
              "      <th>job</th>\n",
              "      <th>low_salary</th>\n",
              "      <th>high_salary</th>\n",
              "    </tr>\n",
              "  </thead>\n",
              "  <tbody>\n",
              "    <tr>\n",
              "      <th>3695</th>\n",
              "      <td>Senior iOS Developer</td>\n",
              "      <td>InMotion Software</td>\n",
              "      <td>Austin, TX 78759</td>\n",
              "      <td>About:\\nInMotion Software is a full-service de...</td>\n",
              "      <td>ios developer</td>\n",
              "      <td>100000.0</td>\n",
              "      <td>130000.0</td>\n",
              "    </tr>\n",
              "    <tr>\n",
              "      <th>3696</th>\n",
              "      <td>Senior iOS Developer</td>\n",
              "      <td>Amherst</td>\n",
              "      <td>Austin, TX 78704</td>\n",
              "      <td>Senior iOS Developer – Austin, TX\\n\\nAmherst i...</td>\n",
              "      <td>ios developer</td>\n",
              "      <td>NaN</td>\n",
              "      <td>NaN</td>\n",
              "    </tr>\n",
              "    <tr>\n",
              "      <th>3697</th>\n",
              "      <td>Senior iOS Engineer - Austin, TX</td>\n",
              "      <td>HEB</td>\n",
              "      <td>Austin, TX 78705</td>\n",
              "      <td>Senior iOS Engineer - Austin, TX\\n - (19076378...</td>\n",
              "      <td>ios developer</td>\n",
              "      <td>NaN</td>\n",
              "      <td>NaN</td>\n",
              "    </tr>\n",
              "    <tr>\n",
              "      <th>3698</th>\n",
              "      <td>Android/IOS Developer</td>\n",
              "      <td>ficus Inc</td>\n",
              "      <td>Atlanta, GA</td>\n",
              "      <td>Job SummaryPosition: Android / Ios DeveloperLo...</td>\n",
              "      <td>ios developer</td>\n",
              "      <td>65.0</td>\n",
              "      <td>70.0</td>\n",
              "    </tr>\n",
              "    <tr>\n",
              "      <th>3699</th>\n",
              "      <td>iOS Developer</td>\n",
              "      <td>NLB</td>\n",
              "      <td>Atlanta, GA</td>\n",
              "      <td>1. Job Profile: - IOS Developer Job Location: ...</td>\n",
              "      <td>ios developer</td>\n",
              "      <td>65.0</td>\n",
              "      <td>70.0</td>\n",
              "    </tr>\n",
              "  </tbody>\n",
              "</table>\n",
              "</div>"
            ],
            "text/plain": [
              "                             job_title  ... high_salary\n",
              "3695              Senior iOS Developer  ...    130000.0\n",
              "3696              Senior iOS Developer  ...         NaN\n",
              "3697  Senior iOS Engineer - Austin, TX  ...         NaN\n",
              "3698             Android/IOS Developer  ...        70.0\n",
              "3699                     iOS Developer  ...        70.0\n",
              "\n",
              "[5 rows x 7 columns]"
            ]
          },
          "metadata": {
            "tags": []
          },
          "execution_count": 18
        }
      ]
    },
    {
      "cell_type": "code",
      "metadata": {
        "id": "PeG9aHa4rDOd",
        "colab_type": "code",
        "outputId": "02c72cdf-200e-4913-f12d-eef1a69dfc02",
        "colab": {
          "base_uri": "https://localhost:8080/",
          "height": 496
        }
      },
      "source": [
        "def clean_text(text):\n",
        "    text = text.replace('\\\\n', ' ')               # remove newline\n",
        "    text = BeautifulSoup(text, \"lxml\").get_text() # remove html\n",
        "    text = text.replace('/', ' ')                 # remove forward slashes\n",
        "    text = re.sub(r'[^a-zA-Z ^0-9]', '', text)    # letters and numbers only\n",
        "    text = text.lower()                           # lower case\n",
        "    text = re.sub(r'(x.[0-9])', '', text)         # remove special characters\n",
        "    return text\n",
        "\n",
        "indeed_df['description'] = indeed_df.apply(lambda x: clean_text(x['description']), axis=1)\n",
        "\n",
        "indeed_df.head()"
      ],
      "execution_count": 19,
      "outputs": [
        {
          "output_type": "execute_result",
          "data": {
            "text/html": [
              "<div>\n",
              "<style scoped>\n",
              "    .dataframe tbody tr th:only-of-type {\n",
              "        vertical-align: middle;\n",
              "    }\n",
              "\n",
              "    .dataframe tbody tr th {\n",
              "        vertical-align: top;\n",
              "    }\n",
              "\n",
              "    .dataframe thead th {\n",
              "        text-align: right;\n",
              "    }\n",
              "</style>\n",
              "<table border=\"1\" class=\"dataframe\">\n",
              "  <thead>\n",
              "    <tr style=\"text-align: right;\">\n",
              "      <th></th>\n",
              "      <th>job_title</th>\n",
              "      <th>company</th>\n",
              "      <th>location</th>\n",
              "      <th>description</th>\n",
              "      <th>job</th>\n",
              "      <th>low_salary</th>\n",
              "      <th>high_salary</th>\n",
              "    </tr>\n",
              "  </thead>\n",
              "  <tbody>\n",
              "    <tr>\n",
              "      <th>0</th>\n",
              "      <td>Data Scientist</td>\n",
              "      <td>HCL America</td>\n",
              "      <td>None</td>\n",
              "      <td>we are looking for a data scientistto be part ...</td>\n",
              "      <td>data scientist</td>\n",
              "      <td>NaN</td>\n",
              "      <td>NaN</td>\n",
              "    </tr>\n",
              "    <tr>\n",
              "      <th>1</th>\n",
              "      <td>Data Scientist</td>\n",
              "      <td>Palo Verde Consulting</td>\n",
              "      <td>Campbell, CA 95008</td>\n",
              "      <td>job title data scientistlocation campbell ca 9...</td>\n",
              "      <td>data scientist</td>\n",
              "      <td>150000.0</td>\n",
              "      <td>210000.0</td>\n",
              "    </tr>\n",
              "    <tr>\n",
              "      <th>2</th>\n",
              "      <td>Data Scientist (All Levels) - Santa Clara</td>\n",
              "      <td>LeanTaaS</td>\n",
              "      <td>Santa Clara, CA 95050</td>\n",
              "      <td>help build technology that saves liveswere a f...</td>\n",
              "      <td>data scientist</td>\n",
              "      <td>NaN</td>\n",
              "      <td>NaN</td>\n",
              "    </tr>\n",
              "    <tr>\n",
              "      <th>3</th>\n",
              "      <td>Data Scientist</td>\n",
              "      <td>Acubed</td>\n",
              "      <td>Sunnyvale, CA</td>\n",
              "      <td>adamthe advanced digital design and manufactur...</td>\n",
              "      <td>data scientist</td>\n",
              "      <td>NaN</td>\n",
              "      <td>NaN</td>\n",
              "    </tr>\n",
              "    <tr>\n",
              "      <th>4</th>\n",
              "      <td>Data Scientist</td>\n",
              "      <td>Spry Health</td>\n",
              "      <td>Palo Alto, CA</td>\n",
              "      <td>spry healths mission is to build the worlds la...</td>\n",
              "      <td>data scientist</td>\n",
              "      <td>100000.0</td>\n",
              "      <td>135000.0</td>\n",
              "    </tr>\n",
              "  </tbody>\n",
              "</table>\n",
              "</div>"
            ],
            "text/plain": [
              "                                   job_title  ... high_salary\n",
              "0                             Data Scientist  ...         NaN\n",
              "1                             Data Scientist  ...    210000.0\n",
              "2  Data Scientist (All Levels) - Santa Clara  ...         NaN\n",
              "3                             Data Scientist  ...         NaN\n",
              "4                             Data Scientist  ...    135000.0\n",
              "\n",
              "[5 rows x 7 columns]"
            ]
          },
          "metadata": {
            "tags": []
          },
          "execution_count": 19
        }
      ]
    },
    {
      "cell_type": "code",
      "metadata": {
        "id": "m41bi-PFrDOj",
        "colab_type": "code",
        "outputId": "3a922993-9944-4707-9857-043aa4634c87",
        "colab": {
          "base_uri": "https://localhost:8080/",
          "height": 54
        }
      },
      "source": [
        "indeed_df['description'][0]"
      ],
      "execution_count": 20,
      "outputs": [
        {
          "output_type": "execute_result",
          "data": {
            "text/plain": [
              "'we are looking for a data scientistto be part of our tech officewhat are we looking for  masters in data science or phdin data science over 10 years of industry experience and at least 4year experience in machine learning deep learning extensive experience in python or rstudio experience in dl frameworks like tensorflow experiencing in leading mentoring a team of data scientists in ml dl ability to prototype build ml applications using cognitive analytics technologies in close collaboration with solution architecture and software engineering teams prior analytics experience in any one industry or more healthcare automotive aerospace consumer products and manufacturing indicative list experience in solving clients analytics problems and effectively communicating results and methodologies proven ability to rationalize disparate data sources and the ability to intuit the large picture within a dataset knowledge and experience working with hadoop eco system spark and distributed computing systems is a plus knowledge of statistics machine learning deep learning and data mining techniquesplease submit your resume in english if you consider your profile matches with this opportunityhclers job type fulltime'"
            ]
          },
          "metadata": {
            "tags": []
          },
          "execution_count": 20
        }
      ]
    },
    {
      "cell_type": "code",
      "metadata": {
        "id": "BFQOeIHCrDOm",
        "colab_type": "code",
        "outputId": "16a3114b-504e-4e24-988e-347cfe13e86c",
        "colab": {
          "base_uri": "https://localhost:8080/",
          "height": 54
        }
      },
      "source": [
        "indeed_df['description'][4]"
      ],
      "execution_count": 21,
      "outputs": [
        {
          "output_type": "execute_result",
          "data": {
            "text/plain": [
              "'spry healths mission is to build the worlds largest physiological dataset to map human health understand disease and create new medical knowledge we are innovating in the field of physiological signal processing and are looking for an experienced and motivated researcher to join our talented rd team the research engineer will take big responsibilities on our core science team and break new ground in health monitoring technology through physiological signal processing we are the first to collect continuous physiological signals from thousands of patientsthis is an opportunity to step into a highly innovative healthcare startup and make realworld impact our dataset contains important information that would be a building block in medicine and physiological monitoring discovering new physiological biomarkers that will help us combat disease working with physiological signals from users who are going about their daily life is very challengingwe have made significant progress but are looking for someone who will take our team to the next level youll get the opportunity to design and execute experiments with medical grade reference devices both inhouse and with high profile clinical partners around the country and internationally as a spry algorithm engineer you will get exposed to all aspects of the business and have a chance to leverage the benefits of a small cohesive crossfunctional teamthis role is for you if youre an independent individual eager to share your expertise as well as learn from our small team of worldclass experts and engineers youre ready to dive into the enormous set of physiological data weve collected and lead your own projects combining signal processing statistical modeling and data analysis youre excited to face engineering challenges that have yet to be solved together we will invent brandnew technologies that will make a difference in peoples livesas a member of the algorithms team you willdevelop algorithms to extract vitals from physiological signalssolve estimation and filtering problems to remove artifacts from motion and other sources of interferencestatistically model and analyze hardware signal chain and algorithm performancecreate new sensor architectureslearn about physiology medicine and new technical concepts through regular seminars with the rest of the teamqualifications and requirementsphd or masters with research experience in engineering physics applied physics math statistics computer science or related fieldsexperience working with low snr signals and parameter extraction in the presence of noisestrong foundation in math and statisticsproficient in python and source control gitinterest in physiology or biologyability to work independently with minimal input on broad project goalseager to learn and excited to tackle unfamiliar engineering challenges with rigorous analytical approachesstrong critical thinker active listener and great communicatorcapacity to take work seriously while not taking oneself seriouslysense of humor is compulsoryspry health is transforming medical practices by providing remote care solutions for patients with chronic illness our fdacleared wearable device is the first to deliver predictive insights to healthcare organizations through continuous vital sign monitoringsprys lean team is comprised of some of the brightest minds in silicon valley we are committed to empowering patients by preventing hospital admissions and reducing medical spending making our workplace a great fit for those ready to take ownership of challenging and meaningful workambition to fundamentally change how people interact with healthcare is a prerequisite for your success at spry if you are collaborative humble resourceful passionate about healthcare innovation and looking for opportunities to grow and succeed we want to hear from you bonus points if you enjoy puns good coffee and cooking challenges because we dospry health is committed to creating a diverse environment and is proud to be an equal opportunity employer all qualified applicants will receive consideration for employment without regard to race color religion gender gender identity or expression sexual orientation national origin genetics disability age or veteran statusannual salary range 100000  135000equity range 010  025this is a fulltime position in palo alto caremote work is not an option at this time'"
            ]
          },
          "metadata": {
            "tags": []
          },
          "execution_count": 21
        }
      ]
    },
    {
      "cell_type": "code",
      "metadata": {
        "id": "ejMqC3iJrDOt",
        "colab_type": "code",
        "colab": {}
      },
      "source": [
        "# convert to sqlite3\n",
        "conn = sqlite3.connect('techsearch.sqlite3')\n",
        "curs = conn.cursor()\n",
        "curs.execute('drop table if exists listings')\n",
        "indeed_df.to_sql('listings', con=conn)"
      ],
      "execution_count": 0,
      "outputs": []
    }
  ]
}