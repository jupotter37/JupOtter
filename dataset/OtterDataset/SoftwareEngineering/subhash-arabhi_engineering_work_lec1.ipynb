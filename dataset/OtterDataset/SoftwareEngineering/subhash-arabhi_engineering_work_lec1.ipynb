{
 "cells": [
  {
   "cell_type": "markdown",
   "metadata": {
    "slideshow": {
     "slide_type": "slide"
    }
   },
   "source": [
    "<div style=\"text-align:center\">\n",
    "<h1> CS3100 Paradigms of Programming </h1>\n",
    "<h2> Fall 2019 </h2>\n",
    "</div>"
   ]
  },
  {
   "cell_type": "markdown",
   "metadata": {
    "slideshow": {
     "slide_type": "slide"
    }
   },
   "source": [
    "## Who am I \n",
    "\n",
    "* Your Instructor: KC Sivaramakrishnan\n",
    "* I go by \"KC\""
   ]
  },
  {
   "cell_type": "markdown",
   "metadata": {
    "slideshow": {
     "slide_type": "slide"
    }
   },
   "source": [
    "## Single instruction programming language\n",
    "\n",
    "    subleq a, b, c   ; Mem[b] = Mem[b] - Mem[a]\n",
    "                     ; if (Mem[b] ≤ 0) goto c"
   ]
  },
  {
   "cell_type": "markdown",
   "metadata": {
    "slideshow": {
     "slide_type": "fragment"
    }
   },
   "source": [
    "If the branch target is the next instruction, then drop the third argument.\n",
    "\n",
    "    subleq a, b\n",
    "    \n",
    "is equivalent to\n",
    "\n",
    "        subleq a, b, L1\n",
    "    L1: ..."
   ]
  },
  {
   "cell_type": "markdown",
   "metadata": {
    "slideshow": {
     "slide_type": "slide"
    }
   },
   "source": [
    "## What does this program do?\n",
    "\n",
    "    subleq a, Z\n",
    "    subleq Z, b\n",
    "    subleq Z, Z"
   ]
  },
  {
   "cell_type": "markdown",
   "metadata": {
    "slideshow": {
     "slide_type": "fragment"
    }
   },
   "source": [
    "**Answer:** Mem[b] = Mem[a] + Mem[b]"
   ]
  },
  {
   "cell_type": "markdown",
   "metadata": {
    "slideshow": {
     "slide_type": "slide"
    }
   },
   "source": [
    "## What does this program do?\n",
    "\n",
    "    subleq b, b\n",
    "    subleq a, Z\n",
    "    subleq Z, b\n",
    "    subleq Z, Z"
   ]
  },
  {
   "cell_type": "markdown",
   "metadata": {
    "slideshow": {
     "slide_type": "fragment"
    }
   },
   "source": [
    "**Answer:** Mem[b] = Mem[a]"
   ]
  },
  {
   "cell_type": "markdown",
   "metadata": {
    "slideshow": {
     "slide_type": "slide"
    }
   },
   "source": [
    "## In fact, this one instruction PL is as powerful as *every* PL.\n",
    "\n",
    "* But good luck writing quicksort in this PL\n",
    "* ..or Swiggy.\n",
    "* ..or Grand Theft Auto V."
   ]
  },
  {
   "cell_type": "markdown",
   "metadata": {
    "slideshow": {
     "slide_type": "notes"
    }
   },
   "source": [
    "The `subleq` instruction is from [One Instruction Set Computer](https://en.wikipedia.org/wiki/One_instruction_set_computer). If you thought such a machine is hypothetical, think again. It has been shown that the [x86 `mov` instruction is turing complete](https://esolangs.org/wiki/Mov) and is as powerful as every programming language. "
   ]
  },
  {
   "cell_type": "markdown",
   "metadata": {
    "slideshow": {
     "slide_type": "slide"
    }
   },
   "source": [
    "## So why study programming languages?\n",
    "\n",
    "* Analogy -- studying a foreign language\n",
    "* Learn about another culture; incorporate aspects into your own life\n",
    "* Shed preconceptions and prejudices about others\n",
    "* Understand your native language better\n",
    "\n",
    "<center>\n",
    "    \n",
    "<img src=\"images/hello-different-languages.jpg\" alt=\"World Languages\" height=\"200\" width=\"350\">\n",
    "</center>"
   ]
  },
  {
   "cell_type": "markdown",
   "metadata": {
    "slideshow": {
     "slide_type": "slide"
    }
   },
   "source": [
    "# The Goal of CS3100\n",
    "\n",
    "<div style=\"text-align:center\">\n",
    "<h2 style=\"color:blue\"> Become a better programer <h2>\n",
    "<h2> through the study of <h2>\n",
    "<h2 style=\"color:green\"> programming languages <h2>\n",
    "</div>"
   ]
  },
  {
   "cell_type": "markdown",
   "metadata": {
    "slideshow": {
     "slide_type": "slide"
    }
   },
   "source": [
    "<div style=\"text-align:center\">\n",
    "<h3>Java is to Programming Languages</h3>\n",
    "<h3>as</h3>\n",
    "<h3>Japanese is to Linguistics</h3>\n",
    "</div>\n"
   ]
  },
  {
   "cell_type": "markdown",
   "metadata": {
    "slideshow": {
     "slide_type": "fragment"
    }
   },
   "source": [
    "\n",
    "**Programming Languages:** Language design, implementation, semantics, compilers, interpreters, runtime systems, programming methodology, testing, verification, security, reliability ...\n",
    "\n",
    "Adjacent to **Software Engineering** in the CS family tree."
   ]
  },
  {
   "cell_type": "markdown",
   "metadata": {
    "slideshow": {
     "slide_type": "slide"
    }
   },
   "source": [
    "### Linguistic Relativity\n",
    "\n",
    "```\n",
    "The principle of linguistic relativity holds that the \n",
    "structure of a language affects its speakers world view \n",
    "or cognition.\n",
    "```\n",
    "\n",
    "Or more simply:\n",
    "\n",
    "    Programming Language shapes Programming Thought.\n",
    "\n",
    "Language affects how ideas and computation are expressed."
   ]
  },
  {
   "cell_type": "markdown",
   "metadata": {
    "slideshow": {
     "slide_type": "slide"
    }
   },
   "source": [
    "## Alan J. Perlis\n",
    "\n",
    "<table>\n",
    "<tr>\n",
    "<td><img src=\"images/alan-perlis.jpg\"></td>\n",
    "    <td><h1>\"A language that doesn't affect the way you <br>think about programming is not worth knowing\"</h1></td>\n",
    "</tr>\n",
    "</table>\n",
    "\n",
    "First recipient of the Turing Award\n",
    "for his “influence in the area of advanced programming\n",
    "techniques and compiler construction”"
   ]
  },
  {
   "cell_type": "markdown",
   "metadata": {
    "slideshow": {
     "slide_type": "slide"
    }
   },
   "source": [
    "## New languages come (and go ..)\n",
    "\n",
    "There was no \n",
    "\n",
    "* Java 25 years ago\n",
    "* C# 20 years ago\n",
    "* Rust 10 years ago\n",
    "* WebAssembly 2 years ago"
   ]
  },
  {
   "cell_type": "markdown",
   "metadata": {
    "slideshow": {
     "slide_type": "slide"
    }
   },
   "source": [
    "## What is CS3100 about?\n",
    "\n",
    "* Concepts in programming languages\n",
    "* Programming paradigms\n",
    "* Language design and implementation"
   ]
  },
  {
   "cell_type": "markdown",
   "metadata": {
    "slideshow": {
     "slide_type": "slide"
    }
   },
   "source": [
    "## Goal: Learn the Anatomy of PL\n",
    "\n",
    "* What makes a programming language?\n",
    "* Which features are *fundamental* and which are *syntactic sugar*?"
   ]
  },
  {
   "cell_type": "markdown",
   "metadata": {
    "slideshow": {
     "slide_type": "slide"
    }
   },
   "source": [
    "## Goal: Learn New Languages / Constructs\n",
    "\n",
    "New ways to *describe* and *organize* computation, to create programs that are:\n",
    "\n",
    "* Correct\n",
    "* Readable\n",
    "* Extendable\n",
    "* Reusable"
   ]
  },
  {
   "cell_type": "markdown",
   "metadata": {
    "slideshow": {
     "slide_type": "slide"
    }
   },
   "source": [
    "## Goal: How to Design new Languages\n",
    "\n",
    "New hot lanuages being designed in industry as we speak:\n",
    "\n",
    "* Flow, React @ Facebook\n",
    "* Rust @ Mozilla\n",
    "* TypeScript @ Microsoft\n",
    "* Swift @ Apple\n",
    "* WebAssembly @ Google + Mozilla + Microsoft\n",
    "\n"
   ]
  },
  {
   "cell_type": "markdown",
   "metadata": {
    "slideshow": {
     "slide_type": "slide"
    }
   },
   "source": [
    "## Goal: How to Design new Languages\n",
    "\n",
    "Buried in every large system is a (domain-specific) language\n",
    "\n",
    "* DB: SQL\n",
    "* Word, Excel: Formulas, Macros, VBScript\n",
    "* Emacs: LISP\n",
    "* Latex, shell scripts, makefiles, …\n",
    "* All the smart contract languages on *Blockchains*.\n",
    "\n",
    "If you work on a large system, you **will** design a new PL!"
   ]
  },
  {
   "cell_type": "markdown",
   "metadata": {
    "slideshow": {
     "slide_type": "slide"
    }
   },
   "source": [
    "## Goal: Enable You To Choose Right PL\n",
    "\n",
    "But isn’t that decided by\n",
    "\n",
    "* Libraries\n",
    "* Standards\n",
    "* Hiring\n",
    "* Your Boss?!\n",
    "\n",
    "**My goal:** Educate tomorrow’s leaders so you’ll make **informed** choices."
   ]
  },
  {
   "cell_type": "markdown",
   "metadata": {
    "slideshow": {
     "slide_type": "slide"
    }
   },
   "source": [
    "## Course Syllabus\n",
    "\n",
    "* **Functional Programming:** OCaml & Lambda Calculus\n",
    "* **Logic Programming:** Prolog\n",
    "* **Concurrent Programming:** (in) OCaml"
   ]
  },
  {
   "cell_type": "markdown",
   "metadata": {
    "slideshow": {
     "slide_type": "slide"
    }
   },
   "source": [
    "## Course Logistics\n",
    "\n",
    "### Course website \n",
    "\n",
    "* http://kcsrk.info/cs3100_f19\n",
    "* Schedule, Lecture Notes, Assignments, etc. \n",
    "* Look at the [schedule](http://kcsrk.info/cs3100_f19/schedule/) to know if the class is on.\n",
    "\n",
    "### Lectures\n",
    "\n",
    "* Delivered through interactive Jupyter notebooks.\n",
    "* Instruction for setting up available on [course website](http://kcsrk.info/cs3100_f19/resources/).\n",
    "* **Highly recommend that you practice in the notebooks**"
   ]
  },
  {
   "cell_type": "markdown",
   "metadata": {
    "slideshow": {
     "slide_type": "slide"
    }
   },
   "source": [
    "## Grading\n",
    "\n",
    "* 6 Assignments = 6 * 5% = 30%\n",
    "* 2 Quizzes = 2 * 15% = 30%\n",
    "* End Sem = 40%"
   ]
  },
  {
   "cell_type": "markdown",
   "metadata": {
    "slideshow": {
     "slide_type": "slide"
    }
   },
   "source": [
    "## Software\n",
    "\n",
    "* We will use OCaml and Prolog in this course. The installation information is available in the [course webpage](http://kcsrk.info/cs3100_f19/resources/).\n",
    "* Docker image is available for lectures in Jupyter notebooks.\n",
    "  + Get familiar with basic Docker commands. It is likely that you will use them in the future.\n",
    "* Get a local installation of OCaml on your machine ([instructions](http://kcsrk.info/cs3100_f19/resources/)).\n",
    "  + Get familiar with `utop` (a great top-level for OCaml), \n",
    "  + `merlin` (IDE server for OCaml that works with vim, emacs, vscode, sublime)\n",
    "  + `dune` (a build tool for OCaml)."
   ]
  },
  {
   "cell_type": "markdown",
   "metadata": {
    "slideshow": {
     "slide_type": "slide"
    }
   },
   "source": [
    "## Tutorial on Git, Docker, Jupyter\n",
    "\n",
    "Anmol Sahoo (Research Associate in my group) will give a tutorial on the tools this \n",
    "\n",
    "**Friday 2nd August 13:00 to 13:50 (C slot)**. "
   ]
  },
  {
   "cell_type": "markdown",
   "metadata": {
    "slideshow": {
     "slide_type": "slide"
    }
   },
   "source": [
    "<div style=\"text-align:center\">\n",
    "    <h1> <i> Fin. </i> </h1>\n",
    "</div>"
   ]
  }
 ],
 "metadata": {
  "celltoolbar": "Slideshow",
  "kernelspec": {
   "display_name": "OCaml 4.07.1",
   "language": "OCaml",
   "name": "ocaml-jupyter"
  },
  "language_info": {
   "codemirror_mode": "text/x-ocaml",
   "file_extension": ".ml",
   "mimetype": "text/x-ocaml",
   "name": "OCaml",
   "nbconverter_exporter": null,
   "pygments_lexer": "OCaml",
   "version": "4.07.1"
  }
 },
 "nbformat": 4,
 "nbformat_minor": 2
}
