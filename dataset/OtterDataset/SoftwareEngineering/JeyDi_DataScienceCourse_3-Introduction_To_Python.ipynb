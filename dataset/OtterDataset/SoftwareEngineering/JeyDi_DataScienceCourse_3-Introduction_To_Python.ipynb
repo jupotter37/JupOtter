{
 "cells": [
  {
   "cell_type": "markdown",
   "metadata": {},
   "source": [
    "<a id='start'></a>\n",
    "# Introduction to Python\n",
    "\n",
    "#### In this first notebook we will introduce the fondamental concepts for getting start with Python\n",
    "\n",
    "The notebook is divided in: <br>\n",
    "1) [Hello, Python](#section1)<a href='#section1'></a> <br>\n",
    "2) [Functions](#section2)<a href='#section2'></a><br>\n",
    "3) [Booleans & Conditions](#section3)<a href='#section3'></a> <br>\n",
    "4) [Lists](#section4)<a href='#section4'></a> <br>\n",
    "5) [Loops](#section5)<a href='#section5'></a><br>\n",
    "6) [Strings](#section6)<a href='#section6'></a><br>\n",
    "7) [Dictionaries](#section7)<a href='#section7'></a><br>\n",
    "8) [External libraries](#section8)<a href='#section8'></a><br>\n",
    "9) [Extra: Bonus, Pythonic Code!](#section9)<a href='section9'></a>\n",
    "\n"
   ]
  },
  {
   "cell_type": "markdown",
   "metadata": {},
   "source": [
    "Always insert this small piece of code in your notebooks, it allows you to automatically load the notebook and allows you (especially in future lessons) to have the inline charts"
   ]
  },
  {
   "cell_type": "code",
   "execution_count": 2,
   "metadata": {},
   "outputs": [],
   "source": [
    "# Put these at the top of every notebook, to get automatic reloading and inline plotting\n",
    "%reload_ext autoreload\n",
    "%autoreload 2\n",
    "%matplotlib inline"
   ]
  },
  {
   "cell_type": "markdown",
   "metadata": {},
   "source": [
    "<a id='section1'></a>\n",
    "## 1) Hello, Python!"
   ]
  },
  {
   "cell_type": "markdown",
   "metadata": {},
   "source": [
    "Python is an interpreted language, i.e. unlike C++ (which is a compiled language), it executes the line-by-line code, while C++ compiles the code and then executes it.\n",
    "\n",
    "The advantage of \"interpreted\" programming languages is that they are easier \"to read\", but slower in execution than a compiled language.\n",
    "\n",
    "Let's try reading the following code and guess what its output will be:"
   ]
  },
  {
   "cell_type": "code",
   "execution_count": 3,
   "metadata": {},
   "outputs": [
    {
     "name": "stdout",
     "output_type": "stream",
     "text": [
      "I have 8 apples\n",
      "Finish\n"
     ]
    }
   ],
   "source": [
    "# import the random library\n",
    "# Need to generate random numbers\n",
    "import random as rd\n",
    "\n",
    "apples = 0\n",
    "\n",
    "# Genero un numero casuale tra 0 e 10\n",
    "apples_bought = rd.randint(0, 10) \n",
    "total_apples = apples + apples_bought\n",
    "\n",
    "if total_apples > 0:\n",
    "    print(\"I have\", total_apples, \"apples\")\n",
    "else:\n",
    "    print(\"I don't have any apple\")\n",
    "\n",
    "print(\"Finish\")"
   ]
  },
  {
   "cell_type": "markdown",
   "metadata": {},
   "source": [
    "In this little script you can already notice some aspects of Python syntax and semantics (i.e. how Python works).\n",
    "\n",
    "Let's start with the first line of code:"
   ]
  },
  {
   "cell_type": "code",
   "execution_count": 4,
   "metadata": {},
   "outputs": [],
   "source": [
    "import random as rd"
   ]
  },
  {
   "cell_type": "markdown",
   "metadata": {},
   "source": [
    "The **import** function is used to import a library into Python, and as we will see there are many libraries that can be very useful for our analysis.\n",
    "\n",
    "Together with *import* we used **as** which allowed us to name the library with a shorter word (rd). "
   ]
  },
  {
   "cell_type": "markdown",
   "metadata": {},
   "source": [
    "We then identified a variable and assigned it a value:"
   ]
  },
  {
   "cell_type": "code",
   "execution_count": 5,
   "metadata": {},
   "outputs": [],
   "source": [
    "apples = 0"
   ]
  },
  {
   "cell_type": "markdown",
   "metadata": {},
   "source": [
    "As we can see, it was not necessary to define the variable type first, Python does not need to know in advance what type of variable we are defining."
   ]
  },
  {
   "cell_type": "code",
   "execution_count": 6,
   "metadata": {},
   "outputs": [],
   "source": [
    "# Generate a random number between 0 and 10\n",
    "apples_bought = rd.randint(0, 10) \n",
    "total_apples = apples + apples_bought"
   ]
  },
  {
   "cell_type": "markdown",
   "metadata": {},
   "source": [
    "In Python, comments are entered using the symbol **#** <br>\n",
    "In the code above we can see how a function has been called that is part of the \"random\" library, initially defined with the acronym \"rd\"; the function used in this case is **randint** which is used to generate a random integer in the range defined by the inputs assigned to the function."
   ]
  },
  {
   "cell_type": "code",
   "execution_count": 7,
   "metadata": {},
   "outputs": [
    {
     "name": "stdout",
     "output_type": "stream",
     "text": [
      "I Have 7 apples\n",
      "Finish\n"
     ]
    }
   ],
   "source": [
    "if total_apples > 0:\n",
    "    print(\"I Have\", total_apples, \"apples\")\n",
    "else:\n",
    "    print(\"I don't have any apples\")\n",
    "\n",
    "print(\"Finish\")"
   ]
  },
  {
   "cell_type": "markdown",
   "metadata": {},
   "source": [
    "The two dots \" **:** \" at the end of the if line indicate that a \"new code block\" starts, so code lines belonging to this block must be indented (i.e. start after 4 spaces).\n",
    "\n",
    "The last line of code \" *print(\"Finish\")* \" will be out of the if as it is not indented."
   ]
  },
  {
   "cell_type": "markdown",
   "metadata": {},
   "source": [
    "**Print** is a preset Python function that shows on-screen what you input into the function.\n",
    "\n",
    "Python functions are called by inserting inputs in parentheses after the function name."
   ]
  },
  {
   "cell_type": "markdown",
   "metadata": {},
   "source": [
    "you can also use the print of some variables (with python 3.6 and above) with the following code"
   ]
  },
  {
   "cell_type": "code",
   "execution_count": 8,
   "metadata": {},
   "outputs": [],
   "source": [
    "name = 'Science'"
   ]
  },
  {
   "cell_type": "code",
   "execution_count": 9,
   "metadata": {},
   "outputs": [
    {
     "data": {
      "text/plain": [
       "'Data Science'"
      ]
     },
     "execution_count": 9,
     "metadata": {},
     "output_type": "execute_result"
    }
   ],
   "source": [
    "f'Data {name}'"
   ]
  },
  {
   "cell_type": "markdown",
   "metadata": {},
   "source": [
    "and within the curly brackets you can use any python code you want:"
   ]
  },
  {
   "cell_type": "code",
   "execution_count": 10,
   "metadata": {},
   "outputs": [
    {
     "data": {
      "text/plain": [
       "'Data SCIENCE'"
      ]
     },
     "execution_count": 10,
     "metadata": {},
     "output_type": "execute_result"
    }
   ],
   "source": [
    "f'Data {name.upper()}'"
   ]
  },
  {
   "cell_type": "markdown",
   "metadata": {},
   "source": [
    "This syntax is very useful for writing quick and fast print functions to display the content of variables, but it is not a particularly clean syntax for large amounts of complex code"
   ]
  },
  {
   "cell_type": "markdown",
   "metadata": {},
   "source": [
    "To know the type of variables we use in Python we can use the **type** function:"
   ]
  },
  {
   "cell_type": "code",
   "execution_count": 11,
   "metadata": {},
   "outputs": [
    {
     "data": {
      "text/plain": [
       "int"
      ]
     },
     "execution_count": 11,
     "metadata": {},
     "output_type": "execute_result"
    }
   ],
   "source": [
    "type(0)"
   ]
  },
  {
   "cell_type": "code",
   "execution_count": 12,
   "metadata": {},
   "outputs": [
    {
     "data": {
      "text/plain": [
       "float"
      ]
     },
     "execution_count": 12,
     "metadata": {},
     "output_type": "execute_result"
    }
   ],
   "source": [
    "type(2.5)"
   ]
  },
  {
   "cell_type": "markdown",
   "metadata": {},
   "source": [
    "Below we show the arithmetic operations that can be done in Python:"
   ]
  },
  {
   "cell_type": "markdown",
   "metadata": {},
   "source": [
    "<img src=\"resources/operators in Python.jpg\">"
   ]
  },
  {
   "cell_type": "markdown",
   "metadata": {},
   "source": [
    "Other features preset in Python that may be useful are:"
   ]
  },
  {
   "cell_type": "code",
   "execution_count": 13,
   "metadata": {},
   "outputs": [
    {
     "name": "stdout",
     "output_type": "stream",
     "text": [
      "Min: 1\n",
      "Max: 3\n",
      "Absolute Value: 32\n"
     ]
    }
   ],
   "source": [
    "print(\"Min:\", min(1, 2, 3))\n",
    "print(\"Max:\", max(1, 2, 3))\n",
    "print(\"Absolute Value:\", abs(-32))"
   ]
  },
  {
   "cell_type": "markdown",
   "metadata": {},
   "source": [
    "<a id='section2'></a>\n",
    "## 2) Functions"
   ]
  },
  {
   "cell_type": "markdown",
   "metadata": {},
   "source": [
    "One of the most useful functions is **help()**, in fact thanks to this function you can understand any other function you can use in Python."
   ]
  },
  {
   "cell_type": "code",
   "execution_count": 14,
   "metadata": {},
   "outputs": [
    {
     "data": {
      "text/plain": [
       "<function abs(x, /)>"
      ]
     },
     "execution_count": 14,
     "metadata": {},
     "output_type": "execute_result"
    }
   ],
   "source": [
    "abs"
   ]
  },
  {
   "cell_type": "markdown",
   "metadata": {},
   "source": [
    "The help() function shows:\n",
    "* The header of the function, indicating how many/which arguments the function takes as input;\n",
    "* A brief description of what the function does."
   ]
  },
  {
   "cell_type": "code",
   "execution_count": 15,
   "metadata": {},
   "outputs": [
    {
     "name": "stdout",
     "output_type": "stream",
     "text": [
      "Help on built-in function print in module builtins:\n",
      "\n",
      "print(...)\n",
      "    print(value, ..., sep=' ', end='\\n', file=sys.stdout, flush=False)\n",
      "    \n",
      "    Prints the values to a stream, or to sys.stdout by default.\n",
      "    Optional keyword arguments:\n",
      "    file:  a file-like object (stream); defaults to the current sys.stdout.\n",
      "    sep:   string inserted between values, default a space.\n",
      "    end:   string appended after the last value, default a newline.\n",
      "    flush: whether to forcibly flush the stream.\n",
      "\n"
     ]
    }
   ],
   "source": [
    "help(print)"
   ]
  },
  {
   "cell_type": "markdown",
   "metadata": {},
   "source": [
    "Of course, in Python you can define custom functions in addition to using preset functions, for example:"
   ]
  },
  {
   "cell_type": "code",
   "execution_count": 16,
   "metadata": {},
   "outputs": [],
   "source": [
    "def min_delta(a, b, c):\n",
    "    delta_1 = abs(a-b)\n",
    "    delta_2 = abs(b-c)\n",
    "    delta_3 = abs(a-c)\n",
    "    \n",
    "    return min(delta_1, delta_2, delta_3)\n"
   ]
  },
  {
   "cell_type": "markdown",
   "metadata": {},
   "source": [
    "In the code above we created a function that takes three arguments as input: a, b, c.\n",
    "\n",
    "Functions always start with the keyword **def**, the code associated with the function is the code block indented and inserted after the \"**:**\".\n",
    "\n",
    "**return** is another keyword associated with the function and determines the immediate output from the function by passing the value entered to the right of the keyword.\n",
    "\n",
    "\n",
    "What does the **min_delta** function do?"
   ]
  },
  {
   "cell_type": "code",
   "execution_count": 17,
   "metadata": {},
   "outputs": [
    {
     "name": "stdout",
     "output_type": "stream",
     "text": [
      "9\n",
      "0\n",
      "2\n"
     ]
    }
   ],
   "source": [
    "print(min_delta(1, 10, 100))\n",
    "print(min_delta(1, 10, 10))\n",
    "print(min_delta(2, 4, 8))"
   ]
  },
  {
   "cell_type": "markdown",
   "metadata": {},
   "source": [
    "Let's try using the **help** function for our custom \"min_delta\" function:"
   ]
  },
  {
   "cell_type": "code",
   "execution_count": 18,
   "metadata": {},
   "outputs": [
    {
     "name": "stdout",
     "output_type": "stream",
     "text": [
      "Help on function min_delta in module __main__:\n",
      "\n",
      "min_delta(a, b, c)\n",
      "\n"
     ]
    }
   ],
   "source": [
    "help(min_delta)"
   ]
  },
  {
   "cell_type": "markdown",
   "metadata": {},
   "source": [
    "We can associate a description to the code we make so that we can read it when we use Python's preset function, help()."
   ]
  },
  {
   "cell_type": "code",
   "execution_count": 19,
   "metadata": {},
   "outputs": [],
   "source": [
    "def min_delta(a, b, c):\n",
    "    \"\"\" The function determines the smallest difference between two numbers, \n",
    "    using a, b and c.\n",
    "    \n",
    "    >>> min_delta(1, 5, -5)\n",
    "    4\n",
    "    \"\"\"\n",
    "    \n",
    "    delta_1 = abs(a-b)\n",
    "    delta_2 = abs(b-c)\n",
    "    delta_3 = abs(a-c)\n",
    "    return min(delta_1, delta_2, delta_3)\n"
   ]
  },
  {
   "cell_type": "code",
   "execution_count": 20,
   "metadata": {},
   "outputs": [
    {
     "name": "stdout",
     "output_type": "stream",
     "text": [
      "Help on function min_delta in module __main__:\n",
      "\n",
      "min_delta(a, b, c)\n",
      "    The function determines the smallest difference between two numbers, \n",
      "    using a, b and c.\n",
      "    \n",
      "    >>> min_delta(1, 5, -5)\n",
      "    4\n",
      "\n"
     ]
    }
   ],
   "source": [
    "help(min_delta)"
   ]
  },
  {
   "cell_type": "markdown",
   "metadata": {},
   "source": [
    "If we go back to the help of the print function we can see that there are some optional parameters in the function, such as the *sep* parameter:"
   ]
  },
  {
   "cell_type": "code",
   "execution_count": 21,
   "metadata": {},
   "outputs": [
    {
     "name": "stdout",
     "output_type": "stream",
     "text": [
      "Help on built-in function print in module builtins:\n",
      "\n",
      "print(...)\n",
      "    print(value, ..., sep=' ', end='\\n', file=sys.stdout, flush=False)\n",
      "    \n",
      "    Prints the values to a stream, or to sys.stdout by default.\n",
      "    Optional keyword arguments:\n",
      "    file:  a file-like object (stream); defaults to the current sys.stdout.\n",
      "    sep:   string inserted between values, default a space.\n",
      "    end:   string appended after the last value, default a newline.\n",
      "    flush: whether to forcibly flush the stream.\n",
      "\n"
     ]
    }
   ],
   "source": [
    "help(print)"
   ]
  },
  {
   "cell_type": "code",
   "execution_count": 22,
   "metadata": {},
   "outputs": [
    {
     "name": "stdout",
     "output_type": "stream",
     "text": [
      "1 < 2 < 3\n"
     ]
    }
   ],
   "source": [
    "print(1, 2, 3, sep= ' < ')"
   ]
  },
  {
   "cell_type": "code",
   "execution_count": 23,
   "metadata": {},
   "outputs": [
    {
     "name": "stdout",
     "output_type": "stream",
     "text": [
      "1\n",
      "2\n",
      "3\n"
     ]
    }
   ],
   "source": [
    "print(1, 2, 3, sep='\\n')"
   ]
  },
  {
   "cell_type": "code",
   "execution_count": 24,
   "metadata": {},
   "outputs": [
    {
     "name": "stdout",
     "output_type": "stream",
     "text": [
      "1 2 3\n"
     ]
    }
   ],
   "source": [
    "print(1, 2, 3)"
   ]
  },
  {
   "cell_type": "markdown",
   "metadata": {},
   "source": [
    "you can enter optional parameters in the functions we build, as follows:"
   ]
  },
  {
   "cell_type": "code",
   "execution_count": 25,
   "metadata": {},
   "outputs": [
    {
     "name": "stdout",
     "output_type": "stream",
     "text": [
      "Hello, Robot\n",
      "Hello, Salvo\n",
      "Hello, Andrea\n"
     ]
    }
   ],
   "source": [
    "def welcome(who=\"Robot\"):\n",
    "    print(\"Hello,\", who)\n",
    "    \n",
    "welcome()\n",
    "welcome(who=\"Salvo\")\n",
    "welcome(\"Andrea\")"
   ]
  },
  {
   "cell_type": "code",
   "execution_count": 26,
   "metadata": {},
   "outputs": [
    {
     "name": "stdout",
     "output_type": "stream",
     "text": [
      "Functions are also objects, in fact they are: <class 'function'>\n"
     ]
    }
   ],
   "source": [
    "print(\"Functions are also objects, in fact they are:\", type(welcome))"
   ]
  },
  {
   "cell_type": "markdown",
   "metadata": {},
   "source": [
    "Please observe the following use of the optional parameters:"
   ]
  },
  {
   "cell_type": "code",
   "execution_count": 27,
   "metadata": {},
   "outputs": [
    {
     "name": "stdout",
     "output_type": "stream",
     "text": [
      "What's the biggest number?\n",
      "100\n",
      "What number has the greater number if divided by 5?\n",
      "14\n"
     ]
    }
   ],
   "source": [
    "def mod_5(x):\n",
    "    \"\"\"Returns the rest of x after dividing it by 5\"\"\"\n",
    "    return x % 5\n",
    "\n",
    "print(\n",
    "    \"What's the biggest number?\",\n",
    "    max(100, 51, 14),\n",
    "    \"What number has the greater number if divided by 5?\",\n",
    "    max(100, 51, 14, key=mod_5),\n",
    "    sep='\\n',\n",
    ")"
   ]
  },
  {
   "cell_type": "markdown",
   "metadata": {},
   "source": [
    "If we want to create functions very quickly to use in small parts of code, we can use lambda.  \n",
    "They exist in many programming languages and are quick and easy for small parts of code.  \n",
    "\n",
    "Lambda functions are also called anonymous functions because they do not have an explicit name (like normal functions defined with \"def\").  \n",
    "However, they can be associated with variables.\n",
    "\n",
    "\n",
    "**Syntax**\n",
    "The syntax of a lambda function is as follows\n",
    "\n",
    "`lambda arguments: expression`\n",
    "\n",
    "For further details see this link:\n",
    "https://realpython.com/python-lambda/\n"
   ]
  },
  {
   "cell_type": "markdown",
   "metadata": {},
   "source": [
    "A small example of how to use lambda:"
   ]
  },
  {
   "cell_type": "code",
   "execution_count": 28,
   "metadata": {},
   "outputs": [
    {
     "name": "stdout",
     "output_type": "stream",
     "text": [
      "101 mod 5 = 1\n"
     ]
    }
   ],
   "source": [
    "mod_5 = lambda x: x % 5\n",
    "\n",
    "# With the lambda keyword it is not necessary to enter the return word\n",
    "\n",
    "print('101 mod 5 =', mod_5(101))"
   ]
  },
  {
   "cell_type": "code",
   "execution_count": 29,
   "metadata": {},
   "outputs": [
    {
     "name": "stdout",
     "output_type": "stream",
     "text": [
      "The difference in absolute terms between 5 and 7 is 2\n"
     ]
    }
   ],
   "source": [
    "abs_diff = lambda a, b: abs(a-b)\n",
    "print(\"The difference in absolute terms between 5 and 7 is\", abs_diff(5, 7))"
   ]
  },
  {
   "cell_type": "code",
   "execution_count": 30,
   "metadata": {},
   "outputs": [
    {
     "name": "stdout",
     "output_type": "stream",
     "text": [
      "The longest name is: Salvatore\n"
     ]
    }
   ],
   "source": [
    "# Len: returns the length of a sequence (of a list or string)\n",
    "names = ['Salvatore', 'Andrea', 'Leonardo', 'Pietro']\n",
    "print(\"The longest name is:\", max(names, key=lambda name: len(name))) "
   ]
  },
  {
   "cell_type": "markdown",
   "metadata": {},
   "source": [
    "<a id='section3'></a>\n",
    "## 3) Booleans & Conditions"
   ]
  },
  {
   "cell_type": "markdown",
   "metadata": {},
   "source": [
    "The main operators that give the True/False response are the following:\n",
    "\n",
    "$$a==b$$\n",
    "\n",
    "$$a<b$$\n",
    "\n",
    "$$a<=b$$\n",
    "\n",
    "$$a!=b$$\n",
    "\n",
    "$$a>b$$\n",
    "\n",
    "$$a>=b$$\n",
    "\n"
   ]
  },
  {
   "cell_type": "code",
   "execution_count": 31,
   "metadata": {},
   "outputs": [
    {
     "name": "stdout",
     "output_type": "stream",
     "text": [
      "If you have 16 you can drive?: True\n",
      "If you have 20 you can drink alcool? True\n"
     ]
    }
   ],
   "source": [
    "def seniority(age):\n",
    "    \"\"\"The youg boy can drive and drink alcool?\"\"\"\n",
    "    #In italy the you can drive and drink alcool when you have 18\n",
    "    return age >= 18\n",
    "\n",
    "print(\"If you have 16 you can drive?:\", seniority(19))\n",
    "print(\"If you have 20 you can drink alcool?\", seniority(20))\n",
    "    "
   ]
  },
  {
   "cell_type": "markdown",
   "metadata": {},
   "source": [
    "It is necessary to pay attention to the types of data that are compared:"
   ]
  },
  {
   "cell_type": "code",
   "execution_count": 32,
   "metadata": {},
   "outputs": [
    {
     "data": {
      "text/plain": [
       "True"
      ]
     },
     "execution_count": 32,
     "metadata": {},
     "output_type": "execute_result"
    }
   ],
   "source": [
    "3.0 == 3"
   ]
  },
  {
   "cell_type": "code",
   "execution_count": 33,
   "metadata": {},
   "outputs": [
    {
     "data": {
      "text/plain": [
       "False"
      ]
     },
     "execution_count": 33,
     "metadata": {},
     "output_type": "execute_result"
    }
   ],
   "source": [
    "'3' == 3"
   ]
  },
  {
   "cell_type": "markdown",
   "metadata": {},
   "source": [
    "Like other programming languages, Python allows you to combine Boolean values using the concepts of \"*and*\", \"*or*\" and \"*not*\".\n",
    "\n",
    "What is the value of the next expression?"
   ]
  },
  {
   "cell_type": "code",
   "execution_count": 34,
   "metadata": {},
   "outputs": [],
   "source": [
    "True or True and False;"
   ]
  },
  {
   "cell_type": "markdown",
   "metadata": {},
   "source": [
    "Python follows strict rules when evaluating expressions such as those written above.  \n",
    "The **and** operator takes precedence over the **or** operator. So following Python's logic we can divide the expression above in the following way: \n",
    "\n",
    "- 1. True and False --> False\n",
    "- 2. True or False --> True"
   ]
  },
  {
   "cell_type": "code",
   "execution_count": 35,
   "metadata": {},
   "outputs": [
    {
     "name": "stdout",
     "output_type": "stream",
     "text": [
      "False\n",
      "True\n"
     ]
    }
   ],
   "source": [
    "print(True and False)\n",
    "print(True or print(True and False))"
   ]
  },
  {
   "cell_type": "code",
   "execution_count": 36,
   "metadata": {},
   "outputs": [
    {
     "data": {
      "text/plain": [
       "True"
      ]
     },
     "execution_count": 36,
     "metadata": {},
     "output_type": "execute_result"
    }
   ],
   "source": [
    "True or True and False"
   ]
  },
  {
   "cell_type": "markdown",
   "metadata": {},
   "source": [
    "For more details about the precedence of the operators used in Python you can follow [this] link (https://docs.python.org/3/reference/expressions.html#operator-precedence).\n",
    "\n",
    "A practice that can help the reader to understand which expression to perform first can be to insert parentheses within the expression:  \n",
    "*True or (True and False)*\n",
    "\n",
    "\n",
    "Let us now look at the following expression trying to understand its meaning:"
   ]
  },
  {
   "cell_type": "markdown",
   "metadata": {},
   "source": [
    "ready_for_rain = Umbrella **or** rain_level < 5 **and** hood **or not** rain_level > 0 **and** work_day"
   ]
  },
  {
   "cell_type": "markdown",
   "metadata": {},
   "source": [
    "In the expression written above we're trying to state that:  \n",
    "\n",
    "I'm saved from time if:  \n",
    "- I have an umbrella...\n",
    "- or, if the rain isn't heavy and I have the hood..\n",
    "- or, it's raining and it's a working day.\n",
    "\n",
    "\n",
    "The expression written above, besides being difficult to read, also has a bug."
   ]
  },
  {
   "cell_type": "markdown",
   "metadata": {},
   "source": [
    "ready_for_rain = (<br>\n",
    "    Umbrella <br>\n",
    "    **or** ((rain_level < 5) **and** Hood) <br>\n",
    "    **or** (**not** (rain_level > 0 **and** work_day))<br>\n",
    "    )"
   ]
  },
  {
   "cell_type": "markdown",
   "metadata": {},
   "source": [
    "Booleans are very useful when used with conditional syntax, i.e. when using the following keywords **if**, **elif** and **else**."
   ]
  },
  {
   "cell_type": "code",
   "execution_count": 37,
   "metadata": {},
   "outputs": [
    {
     "name": "stdout",
     "output_type": "stream",
     "text": [
      "0 is zero\n",
      "-15 negative\n"
     ]
    }
   ],
   "source": [
    "def what(x):\n",
    "    if x == 0:\n",
    "        print(x, \"is zero\")\n",
    "    elif x > 0:\n",
    "        print(x, \"positive\")\n",
    "    elif x < 0:\n",
    "        print(x, \"negative\")\n",
    "    else:\n",
    "        print(x, \"something i didn't see before..\")\n",
    "\n",
    "what(0)\n",
    "what(-15)"
   ]
  },
  {
   "cell_type": "markdown",
   "metadata": {},
   "source": [
    "In Python there is the **bool()** function that transforms an element into a boolean variable. <br>\n",
    "For example:"
   ]
  },
  {
   "cell_type": "code",
   "execution_count": 38,
   "metadata": {},
   "outputs": [
    {
     "name": "stdout",
     "output_type": "stream",
     "text": [
      "True\n",
      "False\n",
      "True\n",
      "False\n"
     ]
    }
   ],
   "source": [
    "print(bool(1)) # All numbers are true, except 0\n",
    "print(bool(0))\n",
    "print(bool(\"ahieahie\")) # All strings are true exept empty strings\n",
    "print(bool(\"\"))"
   ]
  },
  {
   "cell_type": "markdown",
   "metadata": {},
   "source": [
    "Osserviamo il seguente script:"
   ]
  },
  {
   "cell_type": "code",
   "execution_count": 39,
   "metadata": {},
   "outputs": [
    {
     "name": "stdout",
     "output_type": "stream",
     "text": [
      "You passed it! Your mark is: 80\n",
      "You didn't pass, sorry.. Your mark is: 30\n"
     ]
    }
   ],
   "source": [
    "def quiz_result(mark):\n",
    "    if mark < 50:\n",
    "        result = \"You didn't pass, sorry..\"\n",
    "    else:\n",
    "        result = 'You passed it!'\n",
    "    \n",
    "    print(result, \"Your mark is:\", mark)\n",
    "    \n",
    "quiz_result(80)\n",
    "quiz_result(30)"
   ]
  },
  {
   "cell_type": "markdown",
   "metadata": {},
   "source": [
    "In this case you can replicate the function written above as follows:"
   ]
  },
  {
   "cell_type": "code",
   "execution_count": 40,
   "metadata": {},
   "outputs": [
    {
     "name": "stdout",
     "output_type": "stream",
     "text": [
      "You didn't pass, sorry... Your mark is: 45\n"
     ]
    }
   ],
   "source": [
    "def quiz_result(mark):\n",
    "    result = \"You didn't pass, sorry...\" if mark < 50 else 'You passed it!'\n",
    "    print(result, \"Your mark is:\", mark)\n",
    "    \n",
    "quiz_result(45)"
   ]
  },
  {
   "cell_type": "markdown",
   "metadata": {},
   "source": [
    "<a id='section4'></a>\n",
    "## 4) Lists"
   ]
  },
  {
   "cell_type": "markdown",
   "metadata": {},
   "source": [
    "Lists in Python are an ordered sequence of values and are defined by comma separated values and contained in square brackets."
   ]
  },
  {
   "cell_type": "code",
   "execution_count": 41,
   "metadata": {},
   "outputs": [],
   "source": [
    "primes = [1, 2, 3, 5, 7]"
   ]
  },
  {
   "cell_type": "code",
   "execution_count": 42,
   "metadata": {},
   "outputs": [
    {
     "data": {
      "text/plain": [
       "list"
      ]
     },
     "execution_count": 42,
     "metadata": {},
     "output_type": "execute_result"
    }
   ],
   "source": [
    "type(primes)"
   ]
  },
  {
   "cell_type": "code",
   "execution_count": 43,
   "metadata": {},
   "outputs": [],
   "source": [
    "Planets = ['Mercury', 'Venus', 'Earth', 'Mars',\\\n",
    "           'Jupiter', 'Saturn', 'Uranus', 'Neptune']"
   ]
  },
  {
   "cell_type": "code",
   "execution_count": 44,
   "metadata": {},
   "outputs": [
    {
     "data": {
      "text/plain": [
       "['Mercury', 'Venus', 'Earth', 'Mars', 'Jupiter', 'Saturn', 'Uranus', 'Neptune']"
      ]
     },
     "execution_count": 44,
     "metadata": {},
     "output_type": "execute_result"
    }
   ],
   "source": [
    "Planets"
   ]
  },
  {
   "cell_type": "markdown",
   "metadata": {},
   "source": [
    "A list may contain other lists, for example:"
   ]
  },
  {
   "cell_type": "code",
   "execution_count": 45,
   "metadata": {},
   "outputs": [],
   "source": [
    "Cards = [['J', 'Q', 'K'], ['2', '4', '8'], ['6', 'A', 'K']]\n",
    "\n",
    "# For better reading you can also write in the following way:\n",
    "Cards = [\n",
    "    ['J', 'Q', 'K'], \n",
    "    ['2', '4', '8'], \n",
    "    ['6', 'A', 'K']\n",
    "]"
   ]
  },
  {
   "cell_type": "markdown",
   "metadata": {},
   "source": [
    "A list may contain a mix of elements of different types:"
   ]
  },
  {
   "cell_type": "code",
   "execution_count": 46,
   "metadata": {},
   "outputs": [],
   "source": [
    "Favourite_elements = [27, 'Moto']"
   ]
  },
  {
   "cell_type": "markdown",
   "metadata": {},
   "source": [
    "You can access items in a Python list by indexing them in square brackets. <br>\n",
    "For example, what is the closest planet to the sun?"
   ]
  },
  {
   "cell_type": "code",
   "execution_count": 47,
   "metadata": {},
   "outputs": [
    {
     "data": {
      "text/plain": [
       "'Mercury'"
      ]
     },
     "execution_count": 47,
     "metadata": {},
     "output_type": "execute_result"
    }
   ],
   "source": [
    "Planets[0]"
   ]
  },
  {
   "cell_type": "markdown",
   "metadata": {},
   "source": [
    "What is the furthest planet from the sun? <br>\n",
    "*Items at the end of a list can be identified by negative numbers, starting with -1.*."
   ]
  },
  {
   "cell_type": "code",
   "execution_count": 48,
   "metadata": {},
   "outputs": [
    {
     "data": {
      "text/plain": [
       "'Neptune'"
      ]
     },
     "execution_count": 48,
     "metadata": {},
     "output_type": "execute_result"
    }
   ],
   "source": [
    "Planets[-1]"
   ]
  },
  {
   "cell_type": "code",
   "execution_count": 49,
   "metadata": {},
   "outputs": [
    {
     "data": {
      "text/plain": [
       "'Uranus'"
      ]
     },
     "execution_count": 49,
     "metadata": {},
     "output_type": "execute_result"
    }
   ],
   "source": [
    "Planets[-2]"
   ]
  },
  {
   "cell_type": "markdown",
   "metadata": {},
   "source": [
    "What are the first three planets closest to the sun? <br>\n",
    "Let's answer that question using **slicing**"
   ]
  },
  {
   "cell_type": "code",
   "execution_count": 50,
   "metadata": {},
   "outputs": [
    {
     "data": {
      "text/plain": [
       "['Mercury', 'Venus', 'Earth']"
      ]
     },
     "execution_count": 50,
     "metadata": {},
     "output_type": "execute_result"
    }
   ],
   "source": [
    "Planets[0:3]"
   ]
  },
  {
   "cell_type": "markdown",
   "metadata": {},
   "source": [
    "The notation seen above \"[0:3]\" tells us to start from 0 and continue to index **3, excluding**."
   ]
  },
  {
   "cell_type": "markdown",
   "metadata": {},
   "source": [
    "It is not necessary to indicate the start and end of indexing if you want to start/end with the first/last item in a list."
   ]
  },
  {
   "cell_type": "code",
   "execution_count": 51,
   "metadata": {},
   "outputs": [
    {
     "data": {
      "text/plain": [
       "['Mercury', 'Venus', 'Earth']"
      ]
     },
     "execution_count": 51,
     "metadata": {},
     "output_type": "execute_result"
    }
   ],
   "source": [
    "Planets[:3]"
   ]
  },
  {
   "cell_type": "code",
   "execution_count": 52,
   "metadata": {},
   "outputs": [
    {
     "data": {
      "text/plain": [
       "['Mars', 'Jupiter', 'Saturn', 'Uranus', 'Neptune']"
      ]
     },
     "execution_count": 52,
     "metadata": {},
     "output_type": "execute_result"
    }
   ],
   "source": [
    "Planets[3:] # From the third planet on"
   ]
  },
  {
   "cell_type": "code",
   "execution_count": 53,
   "metadata": {},
   "outputs": [
    {
     "data": {
      "text/plain": [
       "['Saturn', 'Uranus', 'Neptune']"
      ]
     },
     "execution_count": 53,
     "metadata": {},
     "output_type": "execute_result"
    }
   ],
   "source": [
    "Planets[-3:] # The last 3 planets #"
   ]
  },
  {
   "cell_type": "code",
   "execution_count": 54,
   "metadata": {},
   "outputs": [
    {
     "data": {
      "text/plain": [
       "['Mercury',\n",
       " 'Venus',\n",
       " 'Earth',\n",
       " 'Planet X',\n",
       " 'Jupiter',\n",
       " 'Saturn',\n",
       " 'Uranus',\n",
       " 'Neptune']"
      ]
     },
     "execution_count": 54,
     "metadata": {},
     "output_type": "execute_result"
    }
   ],
   "source": [
    "Planets[3] = \"Planet X\"\n",
    "Planets"
   ]
  },
  {
   "cell_type": "code",
   "execution_count": 55,
   "metadata": {},
   "outputs": [
    {
     "data": {
      "text/plain": [
       "['A', 'B', 'C', 'Planet X', 'Jupiter', 'Saturn', 'Uranus', 'Neptune']"
      ]
     },
     "execution_count": 55,
     "metadata": {},
     "output_type": "execute_result"
    }
   ],
   "source": [
    "Planets[:3] = ['A', 'B', 'C']\n",
    "Planets"
   ]
  },
  {
   "cell_type": "markdown",
   "metadata": {},
   "source": [
    "Python has different functions that can be used with lists: <br>\n",
    "- **len**: allows you to calculate the length of a list; <br>\n",
    "- **sorted**: results in the sorted list; <br>\n",
    "- **sum**: add the elements of a list."
   ]
  },
  {
   "cell_type": "code",
   "execution_count": 56,
   "metadata": {},
   "outputs": [
    {
     "data": {
      "text/plain": [
       "8"
      ]
     },
     "execution_count": 56,
     "metadata": {},
     "output_type": "execute_result"
    }
   ],
   "source": [
    "len(Planets)"
   ]
  },
  {
   "cell_type": "code",
   "execution_count": 57,
   "metadata": {},
   "outputs": [
    {
     "data": {
      "text/plain": [
       "['Earth', 'Jupiter', 'Mars', 'Mercury', 'Neptune', 'Saturn', 'Uranus', 'Venus']"
      ]
     },
     "execution_count": 57,
     "metadata": {},
     "output_type": "execute_result"
    }
   ],
   "source": [
    "Planets = ['Mercury', 'Venus', 'Earth', 'Mars',\\\n",
    "           'Jupiter', 'Saturn', 'Uranus', 'Neptune']\n",
    "sorted(Planets)"
   ]
  },
  {
   "cell_type": "code",
   "execution_count": 58,
   "metadata": {},
   "outputs": [
    {
     "data": {
      "text/plain": [
       "[1, 2, 3, 5, 7]"
      ]
     },
     "execution_count": 58,
     "metadata": {},
     "output_type": "execute_result"
    }
   ],
   "source": [
    "primes"
   ]
  },
  {
   "cell_type": "code",
   "execution_count": 59,
   "metadata": {},
   "outputs": [
    {
     "data": {
      "text/plain": [
       "18"
      ]
     },
     "execution_count": 59,
     "metadata": {},
     "output_type": "execute_result"
    }
   ],
   "source": [
    "sum(primes)"
   ]
  },
  {
   "cell_type": "markdown",
   "metadata": {},
   "source": [
    "Objects in Python carry elements: <br>\n",
    "- The **methods**: functions that can be performed starting from an object;<br>\n",
    "- The **attribute**: elements that are linked to an object but are not functions."
   ]
  },
  {
   "cell_type": "markdown",
   "metadata": {},
   "source": [
    "An example of **method** can be **bit_length**; i.e. a method that is associated with numbers and indicates the bits used by a number:"
   ]
  },
  {
   "cell_type": "code",
   "execution_count": 60,
   "metadata": {},
   "outputs": [
    {
     "data": {
      "text/plain": [
       "4"
      ]
     },
     "execution_count": 60,
     "metadata": {},
     "output_type": "execute_result"
    }
   ],
   "source": [
    "x = 12\n",
    "x.bit_length()"
   ]
  },
  {
   "cell_type": "markdown",
   "metadata": {},
   "source": [
    "We can also use the Python help to understand what a Python object method does."
   ]
  },
  {
   "cell_type": "code",
   "execution_count": 61,
   "metadata": {},
   "outputs": [
    {
     "name": "stdout",
     "output_type": "stream",
     "text": [
      "Help on built-in function bit_length:\n",
      "\n",
      "bit_length(...) method of builtins.int instance\n",
      "    int.bit_length() -> int\n",
      "    \n",
      "    Number of bits necessary to represent self in binary.\n",
      "    >>> bin(37)\n",
      "    '0b100101'\n",
      "    >>> (37).bit_length()\n",
      "    6\n",
      "\n"
     ]
    }
   ],
   "source": [
    "help(x.bit_length)"
   ]
  },
  {
   "cell_type": "markdown",
   "metadata": {},
   "source": [
    "The **methods ** most used when using Python lists are as follows: <br>\n",
    "- **.append** : allows you to edit a list by adding an item at the bottom of the list; <br>\n",
    "- **.pop** : removes and prints the last item in a list; <br>\n",
    "- **.index** : Indicates the index in which a certain item is located within the list. <br>\n",
    "Here are a few examples. <br>\n",
    "<br>\n",
    "To observe all the methods associated with an object you can do: **help(*object_name*)**."
   ]
  },
  {
   "cell_type": "code",
   "execution_count": 62,
   "metadata": {},
   "outputs": [],
   "source": [
    "Planets.append('Pluto')"
   ]
  },
  {
   "cell_type": "code",
   "execution_count": 63,
   "metadata": {},
   "outputs": [
    {
     "data": {
      "text/plain": [
       "['Mercury',\n",
       " 'Venus',\n",
       " 'Earth',\n",
       " 'Mars',\n",
       " 'Jupiter',\n",
       " 'Saturn',\n",
       " 'Uranus',\n",
       " 'Neptune',\n",
       " 'Pluto']"
      ]
     },
     "execution_count": 63,
     "metadata": {},
     "output_type": "execute_result"
    }
   ],
   "source": [
    "Planets"
   ]
  },
  {
   "cell_type": "code",
   "execution_count": 64,
   "metadata": {},
   "outputs": [
    {
     "name": "stdout",
     "output_type": "stream",
     "text": [
      "Help on built-in function append:\n",
      "\n",
      "append(...) method of builtins.list instance\n",
      "    L.append(object) -> None -- append object to end\n",
      "\n"
     ]
    }
   ],
   "source": [
    "help(Planets.append)"
   ]
  },
  {
   "cell_type": "code",
   "execution_count": 65,
   "metadata": {},
   "outputs": [
    {
     "data": {
      "text/plain": [
       "'Pluto'"
      ]
     },
     "execution_count": 65,
     "metadata": {},
     "output_type": "execute_result"
    }
   ],
   "source": [
    "Planets.pop()"
   ]
  },
  {
   "cell_type": "code",
   "execution_count": 66,
   "metadata": {},
   "outputs": [
    {
     "data": {
      "text/plain": [
       "['Mercury', 'Venus', 'Earth', 'Mars', 'Jupiter', 'Saturn', 'Uranus', 'Neptune']"
      ]
     },
     "execution_count": 66,
     "metadata": {},
     "output_type": "execute_result"
    }
   ],
   "source": [
    "Planets"
   ]
  },
  {
   "cell_type": "code",
   "execution_count": 67,
   "metadata": {},
   "outputs": [
    {
     "data": {
      "text/plain": [
       "2"
      ]
     },
     "execution_count": 67,
     "metadata": {},
     "output_type": "execute_result"
    }
   ],
   "source": [
    "Planets.index('Earth')"
   ]
  },
  {
   "cell_type": "code",
   "execution_count": 68,
   "metadata": {},
   "outputs": [
    {
     "ename": "ValueError",
     "evalue": "'Pluto' is not in list",
     "output_type": "error",
     "traceback": [
      "\u001b[0;31m---------------------------------------------------------------------------\u001b[0m",
      "\u001b[0;31mValueError\u001b[0m                                Traceback (most recent call last)",
      "\u001b[0;32m<ipython-input-68-003a202cee63>\u001b[0m in \u001b[0;36m<module>\u001b[0;34m\u001b[0m\n\u001b[0;32m----> 1\u001b[0;31m \u001b[0mPlanets\u001b[0m\u001b[0;34m.\u001b[0m\u001b[0mindex\u001b[0m\u001b[0;34m(\u001b[0m\u001b[0;34m'Pluto'\u001b[0m\u001b[0;34m)\u001b[0m\u001b[0;34m\u001b[0m\u001b[0;34m\u001b[0m\u001b[0m\n\u001b[0m",
      "\u001b[0;31mValueError\u001b[0m: 'Pluto' is not in list"
     ]
    }
   ],
   "source": [
    "Planets.index('Pluto')"
   ]
  },
  {
   "cell_type": "code",
   "execution_count": null,
   "metadata": {},
   "outputs": [],
   "source": [
    "# Is Earth on the list of planets? #\n",
    "\"Earth\" in Planets"
   ]
  },
  {
   "cell_type": "code",
   "execution_count": null,
   "metadata": {},
   "outputs": [],
   "source": [
    "\"Pluto\" in Planets"
   ]
  },
  {
   "cell_type": "markdown",
   "metadata": {},
   "source": [
    "The **Tuples** are exactly the same as the lists, however they differ from the lists in the following points: <br>.\n",
    "- You can use round brackets to create tuples and not necessarily square brackets, as in the case of lists; <br>\n",
    "- The tuples **are not **changeable once defined."
   ]
  },
  {
   "cell_type": "code",
   "execution_count": null,
   "metadata": {},
   "outputs": [],
   "source": [
    "t = (1, 2, 3)\n",
    "t"
   ]
  },
  {
   "cell_type": "code",
   "execution_count": null,
   "metadata": {},
   "outputs": [],
   "source": [
    "t[0] = 100"
   ]
  },
  {
   "cell_type": "code",
   "execution_count": null,
   "metadata": {},
   "outputs": [],
   "source": [
    "# Assigning two variables to each other in \"Smart\" mode\n",
    "a = 1\n",
    "b = 0\n",
    "a, b = b, a\n",
    "print(a , b)"
   ]
  },
  {
   "cell_type": "markdown",
   "metadata": {},
   "source": [
    "<a id='section5'></a>\n",
    "## 5) Loops"
   ]
  },
  {
   "cell_type": "code",
   "execution_count": null,
   "metadata": {},
   "outputs": [],
   "source": [
    "Planets"
   ]
  },
  {
   "cell_type": "code",
   "execution_count": null,
   "metadata": {},
   "outputs": [],
   "source": [
    "# I mold all the planets on the same line #\n",
    "for i in Planets:\n",
    "    print(i, end=' ') \n"
   ]
  },
  {
   "cell_type": "code",
   "execution_count": null,
   "metadata": {},
   "outputs": [],
   "source": [
    "\"Mercury\" in Planets"
   ]
  },
  {
   "cell_type": "markdown",
   "metadata": {},
   "source": [
    "In a loop **for** specify: <br>\n",
    "- The variable we want to use; <br>\n",
    "- The list on which we want to run the loop <br>\n",
    "<br>And with \"**in**\" we connect the variable that changes in each loop loop with the list from which the loop variable will take the value. To the right of \"in\" there must be an object that supports iterations."
   ]
  },
  {
   "cell_type": "code",
   "execution_count": null,
   "metadata": {},
   "outputs": [],
   "source": [
    "multipliers = (2, 2, 2, 3, 3, 5)\n",
    "product = 1\n",
    "for i_molt in multipliers:\n",
    "    product = product * i_molt\n",
    "product"
   ]
  },
  {
   "cell_type": "markdown",
   "metadata": {},
   "source": [
    "You can also iterate elements that are contained in a string:"
   ]
  },
  {
   "cell_type": "code",
   "execution_count": null,
   "metadata": {},
   "outputs": [],
   "source": [
    "s = \"try to undErsTand tHe stRucture bElow\"\n",
    "msg = ''\n",
    "# We print all the capital letters, one at a time\n",
    "for letter in s:\n",
    "    if letter.isupper():\n",
    "        print(letter, end='')"
   ]
  },
  {
   "cell_type": "markdown",
   "metadata": {},
   "source": [
    "**range()** is a function that creates a sequence of numbers; this function can be useful when writing loops."
   ]
  },
  {
   "cell_type": "code",
   "execution_count": null,
   "metadata": {},
   "outputs": [],
   "source": [
    "for i in range(5):\n",
    "    print(\"Processed files:\", i)"
   ]
  },
  {
   "cell_type": "markdown",
   "metadata": {},
   "source": [
    "It is possible to assume that **range(5)** generates a list of numbers **[0, 1, 2, 3, 4]**; however, the **range** function actually generates a *range* object, which is different from the *list* object."
   ]
  },
  {
   "cell_type": "code",
   "execution_count": null,
   "metadata": {},
   "outputs": [],
   "source": [
    "r = range(5)\n",
    "r"
   ]
  },
  {
   "cell_type": "code",
   "execution_count": null,
   "metadata": {},
   "outputs": [],
   "source": [
    "# We can convert the range object \n",
    "# in a list using the list converter()\n",
    "list(r)"
   ]
  },
  {
   "cell_type": "markdown",
   "metadata": {},
   "source": [
    "So far we have used the notation **for** and **in** to iterate a variable by assigning it values that are included in a list (or tuple). <br> Now let's suppose we want to *loop on the elements of a list and at the same time loop on the index of a list.* <br>\n",
    "You can do this using the **numbered** function."
   ]
  },
  {
   "cell_type": "code",
   "execution_count": null,
   "metadata": {},
   "outputs": [],
   "source": [
    "nums = [0, 1, 2]"
   ]
  },
  {
   "cell_type": "code",
   "execution_count": null,
   "metadata": {},
   "outputs": [],
   "source": [
    "def double_it(nums):\n",
    "    for i, num in enumerate(nums):\n",
    "        if num % 2 == 1:\n",
    "            nums[i] = num * 2\n",
    "\n",
    "x = list(range(10))\n",
    "double_it(x)\n",
    "x"
   ]
  },
  {
   "cell_type": "code",
   "execution_count": null,
   "metadata": {},
   "outputs": [],
   "source": [
    "list(enumerate(['a', 'b']))"
   ]
  },
  {
   "cell_type": "code",
   "execution_count": null,
   "metadata": {},
   "outputs": [],
   "source": [
    "nums = [\n",
    "    ('one', 1, 'I'),\n",
    "    ('two', 2, 'II'),\n",
    "    ('Three', 3, 'III'),\n",
    "    ('Four', 4, 'IV'),\n",
    "]\n",
    "\n",
    "for word, int_number, roman_number in nums:\n",
    "    print(word, int_number, roman_number, sep=' = ', end='; ')"
   ]
  },
  {
   "cell_type": "markdown",
   "metadata": {},
   "source": [
    "This last code just executed is definitely faster and clearer than the following one:"
   ]
  },
  {
   "cell_type": "code",
   "execution_count": null,
   "metadata": {},
   "outputs": [],
   "source": [
    "for tup in nums:\n",
    "    word = tup[0]\n",
    "    int_num = tup[1]\n",
    "    roman_num = tup[2]\n",
    "    print(word, int_num, roman_num, sep=' = ', end=';')"
   ]
  },
  {
   "cell_type": "markdown",
   "metadata": {},
   "source": [
    "Another loop often used is the **while loops**"
   ]
  },
  {
   "cell_type": "code",
   "execution_count": null,
   "metadata": {},
   "outputs": [],
   "source": [
    "i = 0\n",
    "while i < 10:\n",
    "    print(i, end=' ')\n",
    "    i += 1"
   ]
  },
  {
   "cell_type": "markdown",
   "metadata": {},
   "source": [
    "Below are other techniques that can be used with lists, especially for rewriting lines of code."
   ]
  },
  {
   "cell_type": "code",
   "execution_count": null,
   "metadata": {},
   "outputs": [],
   "source": [
    "squared = [n**2 for n in range(10)]\n",
    "squared"
   ]
  },
  {
   "cell_type": "markdown",
   "metadata": {},
   "source": [
    "Without using the technique seen before you could obtain the same result in the following way:"
   ]
  },
  {
   "cell_type": "code",
   "execution_count": null,
   "metadata": {},
   "outputs": [],
   "source": [
    "squared = []\n",
    "for n in range(10):\n",
    "    squared.append(n**2)\n",
    "squared"
   ]
  },
  {
   "cell_type": "code",
   "execution_count": null,
   "metadata": {},
   "outputs": [],
   "source": [
    "Planets"
   ]
  },
  {
   "cell_type": "code",
   "execution_count": null,
   "metadata": {},
   "outputs": [],
   "source": [
    "Planets_abbr = [Planet for Planet in Planets if len(Planets) < 6]\n",
    "Planets_abbr"
   ]
  },
  {
   "cell_type": "code",
   "execution_count": null,
   "metadata": {},
   "outputs": [],
   "source": [
    "[\n",
    "    Planet.upper() + '!'\n",
    "    for Planet in Planets\n",
    "    if len(Planet) < 6\n",
    "]"
   ]
  },
  {
   "cell_type": "markdown",
   "metadata": {},
   "source": [
    "Here are three different ways to make a code in which you count the negative numbers contained in a list. "
   ]
  },
  {
   "cell_type": "code",
   "execution_count": null,
   "metadata": {},
   "outputs": [],
   "source": [
    "def count_negatives(nums):\n",
    "    \"\"\"indicates how many negative numbers are on a list.\n",
    "    \n",
    "    >>> count_negatives([5, -1, -2, 0, 3])\n",
    "    2\n",
    "    \"\"\"\n",
    "    n_negatives = 0\n",
    "    for num in nums:\n",
    "        if num < 0:\n",
    "            n_negatives = n_negatives + 1\n",
    "    return n_negatives\n"
   ]
  },
  {
   "cell_type": "code",
   "execution_count": null,
   "metadata": {},
   "outputs": [],
   "source": [
    "def count_negatives(nums):\n",
    "    return len([num for num in nums if num < 0])"
   ]
  },
  {
   "cell_type": "code",
   "execution_count": null,
   "metadata": {},
   "outputs": [],
   "source": [
    "def count_negatives(nums):\n",
    "    return sum([num < 0 for num in nums])"
   ]
  },
  {
   "cell_type": "markdown",
   "metadata": {},
   "source": [
    "<a id='section6'></a>\n",
    "## 6) Strings"
   ]
  },
  {
   "cell_type": "markdown",
   "metadata": {},
   "source": [
    "In this paragraph we will see the main formatting methods and operations that you can use on strings. <br>\n",
    "Python strings can be defined using both double quotes and single quotes."
   ]
  },
  {
   "cell_type": "code",
   "execution_count": null,
   "metadata": {},
   "outputs": [],
   "source": [
    "x = 'Pluto is a planet'\n",
    "y = \"Pluto is a planet\"\n",
    "x == y"
   ]
  },
  {
   "cell_type": "markdown",
   "metadata": {},
   "source": [
    "To avoid formatting errors, you can use double quotes or single quotes within strings depending on whether you have used single or double quotes as delimiters, for example:"
   ]
  },
  {
   "cell_type": "code",
   "execution_count": null,
   "metadata": {
    "scrolled": true
   },
   "outputs": [],
   "source": [
    "# In that case we'll get it wrong\n",
    "print('Me'also!')"
   ]
  },
  {
   "cell_type": "markdown",
   "metadata": {},
   "source": [
    "You can fix this error by using the symbol \\ before the inner apex of the sentence."
   ]
  },
  {
   "cell_type": "code",
   "execution_count": null,
   "metadata": {},
   "outputs": [],
   "source": [
    "'Me\\'also!'"
   ]
  },
  {
   "cell_type": "markdown",
   "metadata": {},
   "source": [
    "Or"
   ]
  },
  {
   "cell_type": "code",
   "execution_count": null,
   "metadata": {},
   "outputs": [],
   "source": [
    "\"Me' also\""
   ]
  },
  {
   "cell_type": "markdown",
   "metadata": {},
   "source": [
    "The following table summarizes the main uses of the symbol \\ within a string:\n",
    "<img src='resources/blackslash_caracter.jpg'>"
   ]
  },
  {
   "cell_type": "markdown",
   "metadata": {},
   "source": [
    "Strings can be seen as a sequence of characters, so all the things you have seen for lists can be applied to strings."
   ]
  },
  {
   "cell_type": "code",
   "execution_count": null,
   "metadata": {},
   "outputs": [],
   "source": [
    "# Indexing\n",
    "Planet = 'Pluto'\n",
    "Planet[2]"
   ]
  },
  {
   "cell_type": "code",
   "execution_count": null,
   "metadata": {},
   "outputs": [],
   "source": [
    "# Slicing\n",
    "Planet[-3:]"
   ]
  },
  {
   "cell_type": "code",
   "execution_count": null,
   "metadata": {},
   "outputs": [],
   "source": [
    "# How long is the string? \n",
    "len(Planet)"
   ]
  },
  {
   "cell_type": "code",
   "execution_count": null,
   "metadata": {},
   "outputs": [],
   "source": [
    "# You can make a loop using the length of a string\n",
    "[char+'!' for char in Planet]"
   ]
  },
  {
   "cell_type": "markdown",
   "metadata": {},
   "source": [
    "However, unlike lists, **strings are immutable**."
   ]
  },
  {
   "cell_type": "code",
   "execution_count": null,
   "metadata": {},
   "outputs": [],
   "source": [
    "Planet[0]='B'"
   ]
  },
  {
   "cell_type": "markdown",
   "metadata": {},
   "source": [
    "Strings, like lists, also have methods associated with their object."
   ]
  },
  {
   "cell_type": "code",
   "execution_count": null,
   "metadata": {},
   "outputs": [],
   "source": [
    "phrase = \"Pluto is a planet\"\n",
    "phrase.upper()"
   ]
  },
  {
   "cell_type": "code",
   "execution_count": null,
   "metadata": {},
   "outputs": [],
   "source": [
    "phrase.lower()"
   ]
  },
  {
   "cell_type": "code",
   "execution_count": null,
   "metadata": {},
   "outputs": [],
   "source": [
    "phrase.index('is')"
   ]
  },
  {
   "cell_type": "code",
   "execution_count": null,
   "metadata": {},
   "outputs": [],
   "source": [
    "phrase.split()"
   ]
  },
  {
   "cell_type": "code",
   "execution_count": null,
   "metadata": {},
   "outputs": [],
   "source": [
    "date_string = '1992-11-12'\n",
    "year, month, day = date_string.split('-')\n",
    "\n",
    "print(year)\n",
    "print(month)\n",
    "print(day)"
   ]
  },
  {
   "cell_type": "code",
   "execution_count": null,
   "metadata": {},
   "outputs": [],
   "source": [
    "'/'.join([day, month, year])"
   ]
  },
  {
   "cell_type": "markdown",
   "metadata": {},
   "source": [
    "You can merge multiple strings with Python by using the **+** operator."
   ]
  },
  {
   "cell_type": "code",
   "execution_count": null,
   "metadata": {},
   "outputs": [],
   "source": [
    "Planet + \", you are too far!\""
   ]
  },
  {
   "cell_type": "markdown",
   "metadata": {},
   "source": [
    "However, you must use the **str()** function if you want to merge a non-string object with a string"
   ]
  },
  {
   "cell_type": "code",
   "execution_count": null,
   "metadata": {},
   "outputs": [],
   "source": [
    "position = 9\n",
    "\"You have arrived \" + str(position) + \" out of 10 participants.\""
   ]
  },
  {
   "cell_type": "markdown",
   "metadata": {},
   "source": [
    "Or the **str.format()** function:"
   ]
  },
  {
   "cell_type": "code",
   "execution_count": null,
   "metadata": {},
   "outputs": [],
   "source": [
    "\"You've arrived {} on {} attendees.\".format(position, position + 1)"
   ]
  },
  {
   "cell_type": "code",
   "execution_count": null,
   "metadata": {},
   "outputs": [],
   "source": [
    "price_init = 5.25\n",
    "price_fin = 6\n",
    "performance = (price_fin - price_init)/price_init\n",
    "# In the sentence I'll print the decimal digits and # \n",
    "# Performance in percentage terms\n",
    "\"I bought stock at price: {:.2} and sold at price: {}, registering \\\n",
    "a performance of {:.2%}\".format(price_init, price_fin, performance)\n"
   ]
  },
  {
   "cell_type": "code",
   "execution_count": null,
   "metadata": {},
   "outputs": [],
   "source": [
    "# You can identify references \n",
    "# To the words inside the strings\n",
    "s = \"Pluto is a {0}, not a {1}. \\\n",
    "I prefer a {1} to a {0}\".format('planet', 'apple')\n",
    "print(s)"
   ]
  },
  {
   "cell_type": "markdown",
   "metadata": {},
   "source": [
    "<a id='section7'></a>\n",
    "## 7) Dictionaries"
   ]
  },
  {
   "cell_type": "markdown",
   "metadata": {},
   "source": [
    "Dictionaries are pre-set structures in Python that allow you to map values to keys. For example:"
   ]
  },
  {
   "cell_type": "code",
   "execution_count": null,
   "metadata": {},
   "outputs": [],
   "source": [
    "numbers = {'one': 1, 'two': 2, 'three': 3}"
   ]
  },
  {
   "cell_type": "markdown",
   "metadata": {},
   "source": [
    "In this case 'one', 'two' and 'three' are the **keys**, while 1, 2 and 3 are their corresponding **values**. <br>\n",
    "You can access the values by using square brackets as you do with lists and strings."
   ]
  },
  {
   "cell_type": "code",
   "execution_count": null,
   "metadata": {},
   "outputs": [],
   "source": [
    "numbers['one']"
   ]
  },
  {
   "cell_type": "markdown",
   "metadata": {},
   "source": [
    "You can add new values to the dictionary by simply identifying a new key, for example:"
   ]
  },
  {
   "cell_type": "code",
   "execution_count": null,
   "metadata": {},
   "outputs": [],
   "source": [
    "numbers['four'] = 4\n",
    "numbers"
   ]
  },
  {
   "cell_type": "markdown",
   "metadata": {},
   "source": [
    "You can also change a value associated with an existing key:"
   ]
  },
  {
   "cell_type": "code",
   "execution_count": null,
   "metadata": {},
   "outputs": [],
   "source": [
    "numbers['one'] = 0\n",
    "numbers"
   ]
  },
  {
   "cell_type": "markdown",
   "metadata": {},
   "source": [
    "The syntax used for dictionaries is very similar to that seen for lists."
   ]
  },
  {
   "cell_type": "code",
   "execution_count": 149,
   "metadata": {},
   "outputs": [
    {
     "data": {
      "text/plain": [
       "{'Mercury': 'M',\n",
       " 'Venus': 'V',\n",
       " 'Earth': 'E',\n",
       " 'Mars': 'M',\n",
       " 'Jupiter': 'J',\n",
       " 'Saturn': 'S',\n",
       " 'Uranus': 'U',\n",
       " 'Neptune': 'N'}"
      ]
     },
     "execution_count": 149,
     "metadata": {},
     "output_type": "execute_result"
    }
   ],
   "source": [
    "planet_initial = {planet: planet[0] for planet in Planets}\n",
    "planet_initial"
   ]
  },
  {
   "cell_type": "markdown",
   "metadata": {},
   "source": [
    "The **in** operator can be used to understand if an item is inside a dictionary."
   ]
  },
  {
   "cell_type": "code",
   "execution_count": 150,
   "metadata": {},
   "outputs": [
    {
     "data": {
      "text/plain": [
       "True"
      ]
     },
     "execution_count": 150,
     "metadata": {},
     "output_type": "execute_result"
    }
   ],
   "source": [
    "'Saturn' in Planets"
   ]
  },
  {
   "cell_type": "code",
   "execution_count": 151,
   "metadata": {},
   "outputs": [
    {
     "data": {
      "text/plain": [
       "False"
      ]
     },
     "execution_count": 151,
     "metadata": {},
     "output_type": "execute_result"
    }
   ],
   "source": [
    "'Planet X' in Planets"
   ]
  },
  {
   "cell_type": "markdown",
   "metadata": {},
   "source": [
    "A loop for on a dictionary loops the dictionary keys, for example:"
   ]
  },
  {
   "cell_type": "code",
   "execution_count": 152,
   "metadata": {},
   "outputs": [
    {
     "name": "stdout",
     "output_type": "stream",
     "text": [
      "one = 0\n",
      "two = 2\n",
      "three = 3\n",
      "four = 4\n"
     ]
    }
   ],
   "source": [
    "for k in numbers:\n",
    "    print(\"{} = {}\".format(k, numbers[k]))"
   ]
  },
  {
   "cell_type": "markdown",
   "metadata": {},
   "source": [
    "You can directly access all keys or all values in a dictionary through the following dictionary object methods **dict.keys()** and **dict.values()**."
   ]
  },
  {
   "cell_type": "code",
   "execution_count": 153,
   "metadata": {},
   "outputs": [
    {
     "data": {
      "text/plain": [
       "dict_keys(['one', 'two', 'three', 'four'])"
      ]
     },
     "execution_count": 153,
     "metadata": {},
     "output_type": "execute_result"
    }
   ],
   "source": [
    "numbers.keys()"
   ]
  },
  {
   "cell_type": "code",
   "execution_count": 154,
   "metadata": {},
   "outputs": [
    {
     "data": {
      "text/plain": [
       "dict_values([0, 2, 3, 4])"
      ]
     },
     "execution_count": 154,
     "metadata": {},
     "output_type": "execute_result"
    }
   ],
   "source": [
    "numbers.values()"
   ]
  },
  {
   "cell_type": "code",
   "execution_count": null,
   "metadata": {},
   "outputs": [],
   "source": [
    "numbers.items()"
   ]
  },
  {
   "cell_type": "markdown",
   "metadata": {},
   "source": [
    "One of the most useful methods when using dictionaries is **dict.items()**, this method allows us to iterate the keys and values of a dictionary simultaneously."
   ]
  },
  {
   "cell_type": "code",
   "execution_count": 157,
   "metadata": {},
   "outputs": [
    {
     "name": "stdout",
     "output_type": "stream",
     "text": [
      "   Mercury Starts with 'M'\n",
      "     Venus Starts with 'V'\n",
      "     Earth Starts with 'E'\n",
      "      Mars Starts with 'M'\n",
      "   Jupiter Starts with 'J'\n",
      "    Saturn Starts with 'S'\n",
      "    Uranus Starts with 'U'\n",
      "   Neptune Starts with 'N'\n"
     ]
    }
   ],
   "source": [
    "for planet, planet_initial in planet_initial.items():\n",
    "    print(\"{} Starts with '{}'\".format(planet.rjust(10), planet_initial))"
   ]
  },
  {
   "cell_type": "markdown",
   "metadata": {},
   "source": [
    "<a id='section8'></a>\n",
    "## 8) External Libraries"
   ]
  },
  {
   "cell_type": "markdown",
   "metadata": {},
   "source": [
    "One of the main qualities of Python is the large number of custom libraries that have been written for this programming language. Some of these libraries are *standard*, i.e. they can be found in any Python; however, libraries that are not included by default in Python can be easily called through the **import** keyword. <br>\n",
    "We import the *math* library as we did in the first script of this notebook."
   ]
  },
  {
   "cell_type": "code",
   "execution_count": 158,
   "metadata": {},
   "outputs": [
    {
     "name": "stdout",
     "output_type": "stream",
     "text": [
      "Math is this type: <class 'module'>\n"
     ]
    }
   ],
   "source": [
    "import math\n",
    "\n",
    "print(\"Math is this type: {}\".format(type(math)))"
   ]
  },
  {
   "cell_type": "markdown",
   "metadata": {},
   "source": [
    "To view python information related to a library, simply launch the library itself"
   ]
  },
  {
   "cell_type": "code",
   "execution_count": 161,
   "metadata": {},
   "outputs": [
    {
     "data": {
      "text/plain": [
       "<function IPython.core.display.display(*objs, include=None, exclude=None, metadata=None, transient=None, display_id=None, **kwargs)>"
      ]
     },
     "execution_count": 161,
     "metadata": {},
     "output_type": "execute_result"
    }
   ],
   "source": [
    "display"
   ]
  },
  {
   "cell_type": "markdown",
   "metadata": {},
   "source": [
    "While to view the documentation and information simply enter a question mark before the function"
   ]
  },
  {
   "cell_type": "code",
   "execution_count": 162,
   "metadata": {},
   "outputs": [
    {
     "data": {
      "text/plain": [
       "\u001b[0;31mSignature:\u001b[0m\n",
       "\u001b[0mdisplay\u001b[0m\u001b[0;34m(\u001b[0m\u001b[0;34m\u001b[0m\n",
       "\u001b[0;34m\u001b[0m    \u001b[0;34m*\u001b[0m\u001b[0mobjs\u001b[0m\u001b[0;34m,\u001b[0m\u001b[0;34m\u001b[0m\n",
       "\u001b[0;34m\u001b[0m    \u001b[0minclude\u001b[0m\u001b[0;34m=\u001b[0m\u001b[0;32mNone\u001b[0m\u001b[0;34m,\u001b[0m\u001b[0;34m\u001b[0m\n",
       "\u001b[0;34m\u001b[0m    \u001b[0mexclude\u001b[0m\u001b[0;34m=\u001b[0m\u001b[0;32mNone\u001b[0m\u001b[0;34m,\u001b[0m\u001b[0;34m\u001b[0m\n",
       "\u001b[0;34m\u001b[0m    \u001b[0mmetadata\u001b[0m\u001b[0;34m=\u001b[0m\u001b[0;32mNone\u001b[0m\u001b[0;34m,\u001b[0m\u001b[0;34m\u001b[0m\n",
       "\u001b[0;34m\u001b[0m    \u001b[0mtransient\u001b[0m\u001b[0;34m=\u001b[0m\u001b[0;32mNone\u001b[0m\u001b[0;34m,\u001b[0m\u001b[0;34m\u001b[0m\n",
       "\u001b[0;34m\u001b[0m    \u001b[0mdisplay_id\u001b[0m\u001b[0;34m=\u001b[0m\u001b[0;32mNone\u001b[0m\u001b[0;34m,\u001b[0m\u001b[0;34m\u001b[0m\n",
       "\u001b[0;34m\u001b[0m    \u001b[0;34m**\u001b[0m\u001b[0mkwargs\u001b[0m\u001b[0;34m,\u001b[0m\u001b[0;34m\u001b[0m\n",
       "\u001b[0;34m\u001b[0m\u001b[0;34m)\u001b[0m\u001b[0;34m\u001b[0m\u001b[0;34m\u001b[0m\u001b[0m\n",
       "\u001b[0;31mDocstring:\u001b[0m\n",
       "Display a Python object in all frontends.\n",
       "\n",
       "By default all representations will be computed and sent to the frontends.\n",
       "Frontends can decide which representation is used and how.\n",
       "\n",
       "In terminal IPython this will be similar to using :func:`print`, for use in richer\n",
       "frontends see Jupyter notebook examples with rich display logic.\n",
       "\n",
       "Parameters\n",
       "----------\n",
       "objs : tuple of objects\n",
       "    The Python objects to display.\n",
       "raw : bool, optional\n",
       "    Are the objects to be displayed already mimetype-keyed dicts of raw display data,\n",
       "    or Python objects that need to be formatted before display? [default: False]\n",
       "include : list, tuple or set, optional\n",
       "    A list of format type strings (MIME types) to include in the\n",
       "    format data dict. If this is set *only* the format types included\n",
       "    in this list will be computed.\n",
       "exclude : list, tuple or set, optional\n",
       "    A list of format type strings (MIME types) to exclude in the format\n",
       "    data dict. If this is set all format types will be computed,\n",
       "    except for those included in this argument.\n",
       "metadata : dict, optional\n",
       "    A dictionary of metadata to associate with the output.\n",
       "    mime-type keys in this dictionary will be associated with the individual\n",
       "    representation formats, if they exist.\n",
       "transient : dict, optional\n",
       "    A dictionary of transient data to associate with the output.\n",
       "    Data in this dict should not be persisted to files (e.g. notebooks).\n",
       "display_id : str, bool optional\n",
       "    Set an id for the display.\n",
       "    This id can be used for updating this display area later via update_display.\n",
       "    If given as `True`, generate a new `display_id`\n",
       "kwargs: additional keyword-args, optional\n",
       "    Additional keyword-arguments are passed through to the display publisher.\n",
       "\n",
       "Returns\n",
       "-------\n",
       "\n",
       "handle: DisplayHandle\n",
       "    Returns a handle on updatable displays for use with :func:`update_display`,\n",
       "    if `display_id` is given. Returns :any:`None` if no `display_id` is given\n",
       "    (default).\n",
       "\n",
       "Examples\n",
       "--------\n",
       "\n",
       ">>> class Json(object):\n",
       "...     def __init__(self, json):\n",
       "...         self.json = json\n",
       "...     def _repr_pretty_(self, pp, cycle):\n",
       "...         import json\n",
       "...         pp.text(json.dumps(self.json, indent=2))\n",
       "...     def __repr__(self):\n",
       "...         return str(self.json)\n",
       "...\n",
       "\n",
       ">>> d = Json({1:2, 3: {4:5}})\n",
       "\n",
       ">>> print(d)\n",
       "{1: 2, 3: {4: 5}}\n",
       "\n",
       ">>> display(d)\n",
       "{\n",
       "  \"1\": 2,\n",
       "  \"3\": {\n",
       "    \"4\": 5\n",
       "  }\n",
       "}\n",
       "\n",
       ">>> def int_formatter(integer, pp, cycle):\n",
       "...     pp.text('I'*integer)\n",
       "\n",
       ">>> plain = get_ipython().display_formatter.formatters['text/plain']\n",
       ">>> plain.for_type(int, int_formatter)\n",
       "<function _repr_pprint at 0x...>\n",
       ">>> display(7-5)\n",
       "II\n",
       "\n",
       ">>> del plain.type_printers[int]\n",
       ">>> display(7-5)\n",
       "2\n",
       "\n",
       "See Also\n",
       "--------\n",
       "\n",
       ":func:`update_display`\n",
       "\n",
       "Notes\n",
       "-----\n",
       "\n",
       "In Python, objects can declare their textual representation using the\n",
       "`__repr__` method. IPython expands on this idea and allows objects to declare\n",
       "other, rich representations including:\n",
       "\n",
       "  - HTML\n",
       "  - JSON\n",
       "  - PNG\n",
       "  - JPEG\n",
       "  - SVG\n",
       "  - LaTeX\n",
       "\n",
       "A single object can declare some or all of these representations; all are\n",
       "handled by IPython's display system.\n",
       "\n",
       "The main idea of the first approach is that you have to implement special\n",
       "display methods when you define your class, one for each representation you\n",
       "want to use. Here is a list of the names of the special methods and the\n",
       "values they must return:\n",
       "\n",
       "  - `_repr_html_`: return raw HTML as a string, or a tuple (see below).\n",
       "  - `_repr_json_`: return a JSONable dict, or a tuple (see below).\n",
       "  - `_repr_jpeg_`: return raw JPEG data, or a tuple (see below).\n",
       "  - `_repr_png_`: return raw PNG data, or a tuple (see below).\n",
       "  - `_repr_svg_`: return raw SVG data as a string, or a tuple (see below).\n",
       "  - `_repr_latex_`: return LaTeX commands in a string surrounded by \"$\",\n",
       "                    or a tuple (see below).\n",
       "  - `_repr_mimebundle_`: return a full mimebundle containing the mapping\n",
       "                         from all mimetypes to data.\n",
       "                         Use this for any mime-type not listed above.\n",
       "\n",
       "The above functions may also return the object's metadata alonside the\n",
       "data.  If the metadata is available, the functions will return a tuple\n",
       "containing the data and metadata, in that order.  If there is no metadata\n",
       "available, then the functions will return the data only.\n",
       "\n",
       "When you are directly writing your own classes, you can adapt them for\n",
       "display in IPython by following the above approach. But in practice, you\n",
       "often need to work with existing classes that you can't easily modify.\n",
       "\n",
       "You can refer to the documentation on integrating with the display system in\n",
       "order to register custom formatters for already existing types\n",
       "(:ref:`integrating_rich_display`).\n",
       "\n",
       ".. versionadded:: 5.4 display available without import\n",
       ".. versionadded:: 6.1 display available without import\n",
       "\n",
       "Since IPython 5.4 and 6.1 :func:`display` is automatically made available to\n",
       "the user without import. If you are using display in a document that might\n",
       "be used in a pure python context or with older version of IPython, use the\n",
       "following import at the top of your file::\n",
       "\n",
       "    from IPython.display import display\n",
       "\u001b[0;31mFile:\u001b[0m      ~/opt/anaconda3/envs/develop/lib/python3.6/site-packages/IPython/core/display.py\n",
       "\u001b[0;31mType:\u001b[0m      function\n"
      ]
     },
     "metadata": {},
     "output_type": "display_data"
    }
   ],
   "source": [
    "?display"
   ]
  },
  {
   "cell_type": "markdown",
   "metadata": {},
   "source": [
    "To view the source code of the function you want to use instead, simply use two question marks"
   ]
  },
  {
   "cell_type": "code",
   "execution_count": 163,
   "metadata": {},
   "outputs": [
    {
     "data": {
      "text/plain": [
       "\u001b[0;31mSignature:\u001b[0m\n",
       "\u001b[0mdisplay\u001b[0m\u001b[0;34m(\u001b[0m\u001b[0;34m\u001b[0m\n",
       "\u001b[0;34m\u001b[0m    \u001b[0;34m*\u001b[0m\u001b[0mobjs\u001b[0m\u001b[0;34m,\u001b[0m\u001b[0;34m\u001b[0m\n",
       "\u001b[0;34m\u001b[0m    \u001b[0minclude\u001b[0m\u001b[0;34m=\u001b[0m\u001b[0;32mNone\u001b[0m\u001b[0;34m,\u001b[0m\u001b[0;34m\u001b[0m\n",
       "\u001b[0;34m\u001b[0m    \u001b[0mexclude\u001b[0m\u001b[0;34m=\u001b[0m\u001b[0;32mNone\u001b[0m\u001b[0;34m,\u001b[0m\u001b[0;34m\u001b[0m\n",
       "\u001b[0;34m\u001b[0m    \u001b[0mmetadata\u001b[0m\u001b[0;34m=\u001b[0m\u001b[0;32mNone\u001b[0m\u001b[0;34m,\u001b[0m\u001b[0;34m\u001b[0m\n",
       "\u001b[0;34m\u001b[0m    \u001b[0mtransient\u001b[0m\u001b[0;34m=\u001b[0m\u001b[0;32mNone\u001b[0m\u001b[0;34m,\u001b[0m\u001b[0;34m\u001b[0m\n",
       "\u001b[0;34m\u001b[0m    \u001b[0mdisplay_id\u001b[0m\u001b[0;34m=\u001b[0m\u001b[0;32mNone\u001b[0m\u001b[0;34m,\u001b[0m\u001b[0;34m\u001b[0m\n",
       "\u001b[0;34m\u001b[0m    \u001b[0;34m**\u001b[0m\u001b[0mkwargs\u001b[0m\u001b[0;34m,\u001b[0m\u001b[0;34m\u001b[0m\n",
       "\u001b[0;34m\u001b[0m\u001b[0;34m)\u001b[0m\u001b[0;34m\u001b[0m\u001b[0;34m\u001b[0m\u001b[0m\n",
       "\u001b[0;31mSource:\u001b[0m   \n",
       "\u001b[0;32mdef\u001b[0m \u001b[0mdisplay\u001b[0m\u001b[0;34m(\u001b[0m\u001b[0;34m*\u001b[0m\u001b[0mobjs\u001b[0m\u001b[0;34m,\u001b[0m \u001b[0minclude\u001b[0m\u001b[0;34m=\u001b[0m\u001b[0;32mNone\u001b[0m\u001b[0;34m,\u001b[0m \u001b[0mexclude\u001b[0m\u001b[0;34m=\u001b[0m\u001b[0;32mNone\u001b[0m\u001b[0;34m,\u001b[0m \u001b[0mmetadata\u001b[0m\u001b[0;34m=\u001b[0m\u001b[0;32mNone\u001b[0m\u001b[0;34m,\u001b[0m \u001b[0mtransient\u001b[0m\u001b[0;34m=\u001b[0m\u001b[0;32mNone\u001b[0m\u001b[0;34m,\u001b[0m \u001b[0mdisplay_id\u001b[0m\u001b[0;34m=\u001b[0m\u001b[0;32mNone\u001b[0m\u001b[0;34m,\u001b[0m \u001b[0;34m**\u001b[0m\u001b[0mkwargs\u001b[0m\u001b[0;34m)\u001b[0m\u001b[0;34m:\u001b[0m\u001b[0;34m\u001b[0m\n",
       "\u001b[0;34m\u001b[0m    \u001b[0;34m\"\"\"Display a Python object in all frontends.\u001b[0m\n",
       "\u001b[0;34m\u001b[0m\n",
       "\u001b[0;34m    By default all representations will be computed and sent to the frontends.\u001b[0m\n",
       "\u001b[0;34m    Frontends can decide which representation is used and how.\u001b[0m\n",
       "\u001b[0;34m\u001b[0m\n",
       "\u001b[0;34m    In terminal IPython this will be similar to using :func:`print`, for use in richer\u001b[0m\n",
       "\u001b[0;34m    frontends see Jupyter notebook examples with rich display logic.\u001b[0m\n",
       "\u001b[0;34m\u001b[0m\n",
       "\u001b[0;34m    Parameters\u001b[0m\n",
       "\u001b[0;34m    ----------\u001b[0m\n",
       "\u001b[0;34m    objs : tuple of objects\u001b[0m\n",
       "\u001b[0;34m        The Python objects to display.\u001b[0m\n",
       "\u001b[0;34m    raw : bool, optional\u001b[0m\n",
       "\u001b[0;34m        Are the objects to be displayed already mimetype-keyed dicts of raw display data,\u001b[0m\n",
       "\u001b[0;34m        or Python objects that need to be formatted before display? [default: False]\u001b[0m\n",
       "\u001b[0;34m    include : list, tuple or set, optional\u001b[0m\n",
       "\u001b[0;34m        A list of format type strings (MIME types) to include in the\u001b[0m\n",
       "\u001b[0;34m        format data dict. If this is set *only* the format types included\u001b[0m\n",
       "\u001b[0;34m        in this list will be computed.\u001b[0m\n",
       "\u001b[0;34m    exclude : list, tuple or set, optional\u001b[0m\n",
       "\u001b[0;34m        A list of format type strings (MIME types) to exclude in the format\u001b[0m\n",
       "\u001b[0;34m        data dict. If this is set all format types will be computed,\u001b[0m\n",
       "\u001b[0;34m        except for those included in this argument.\u001b[0m\n",
       "\u001b[0;34m    metadata : dict, optional\u001b[0m\n",
       "\u001b[0;34m        A dictionary of metadata to associate with the output.\u001b[0m\n",
       "\u001b[0;34m        mime-type keys in this dictionary will be associated with the individual\u001b[0m\n",
       "\u001b[0;34m        representation formats, if they exist.\u001b[0m\n",
       "\u001b[0;34m    transient : dict, optional\u001b[0m\n",
       "\u001b[0;34m        A dictionary of transient data to associate with the output.\u001b[0m\n",
       "\u001b[0;34m        Data in this dict should not be persisted to files (e.g. notebooks).\u001b[0m\n",
       "\u001b[0;34m    display_id : str, bool optional\u001b[0m\n",
       "\u001b[0;34m        Set an id for the display.\u001b[0m\n",
       "\u001b[0;34m        This id can be used for updating this display area later via update_display.\u001b[0m\n",
       "\u001b[0;34m        If given as `True`, generate a new `display_id`\u001b[0m\n",
       "\u001b[0;34m    kwargs: additional keyword-args, optional\u001b[0m\n",
       "\u001b[0;34m        Additional keyword-arguments are passed through to the display publisher.\u001b[0m\n",
       "\u001b[0;34m\u001b[0m\n",
       "\u001b[0;34m    Returns\u001b[0m\n",
       "\u001b[0;34m    -------\u001b[0m\n",
       "\u001b[0;34m\u001b[0m\n",
       "\u001b[0;34m    handle: DisplayHandle\u001b[0m\n",
       "\u001b[0;34m        Returns a handle on updatable displays for use with :func:`update_display`,\u001b[0m\n",
       "\u001b[0;34m        if `display_id` is given. Returns :any:`None` if no `display_id` is given\u001b[0m\n",
       "\u001b[0;34m        (default).\u001b[0m\n",
       "\u001b[0;34m\u001b[0m\n",
       "\u001b[0;34m    Examples\u001b[0m\n",
       "\u001b[0;34m    --------\u001b[0m\n",
       "\u001b[0;34m\u001b[0m\n",
       "\u001b[0;34m    >>> class Json(object):\u001b[0m\n",
       "\u001b[0;34m    ...     def __init__(self, json):\u001b[0m\n",
       "\u001b[0;34m    ...         self.json = json\u001b[0m\n",
       "\u001b[0;34m    ...     def _repr_pretty_(self, pp, cycle):\u001b[0m\n",
       "\u001b[0;34m    ...         import json\u001b[0m\n",
       "\u001b[0;34m    ...         pp.text(json.dumps(self.json, indent=2))\u001b[0m\n",
       "\u001b[0;34m    ...     def __repr__(self):\u001b[0m\n",
       "\u001b[0;34m    ...         return str(self.json)\u001b[0m\n",
       "\u001b[0;34m    ...\u001b[0m\n",
       "\u001b[0;34m\u001b[0m\n",
       "\u001b[0;34m    >>> d = Json({1:2, 3: {4:5}})\u001b[0m\n",
       "\u001b[0;34m\u001b[0m\n",
       "\u001b[0;34m    >>> print(d)\u001b[0m\n",
       "\u001b[0;34m    {1: 2, 3: {4: 5}}\u001b[0m\n",
       "\u001b[0;34m\u001b[0m\n",
       "\u001b[0;34m    >>> display(d)\u001b[0m\n",
       "\u001b[0;34m    {\u001b[0m\n",
       "\u001b[0;34m      \"1\": 2,\u001b[0m\n",
       "\u001b[0;34m      \"3\": {\u001b[0m\n",
       "\u001b[0;34m        \"4\": 5\u001b[0m\n",
       "\u001b[0;34m      }\u001b[0m\n",
       "\u001b[0;34m    }\u001b[0m\n",
       "\u001b[0;34m\u001b[0m\n",
       "\u001b[0;34m    >>> def int_formatter(integer, pp, cycle):\u001b[0m\n",
       "\u001b[0;34m    ...     pp.text('I'*integer)\u001b[0m\n",
       "\u001b[0;34m\u001b[0m\n",
       "\u001b[0;34m    >>> plain = get_ipython().display_formatter.formatters['text/plain']\u001b[0m\n",
       "\u001b[0;34m    >>> plain.for_type(int, int_formatter)\u001b[0m\n",
       "\u001b[0;34m    <function _repr_pprint at 0x...>\u001b[0m\n",
       "\u001b[0;34m    >>> display(7-5)\u001b[0m\n",
       "\u001b[0;34m    II\u001b[0m\n",
       "\u001b[0;34m\u001b[0m\n",
       "\u001b[0;34m    >>> del plain.type_printers[int]\u001b[0m\n",
       "\u001b[0;34m    >>> display(7-5)\u001b[0m\n",
       "\u001b[0;34m    2\u001b[0m\n",
       "\u001b[0;34m\u001b[0m\n",
       "\u001b[0;34m    See Also\u001b[0m\n",
       "\u001b[0;34m    --------\u001b[0m\n",
       "\u001b[0;34m\u001b[0m\n",
       "\u001b[0;34m    :func:`update_display`\u001b[0m\n",
       "\u001b[0;34m\u001b[0m\n",
       "\u001b[0;34m    Notes\u001b[0m\n",
       "\u001b[0;34m    -----\u001b[0m\n",
       "\u001b[0;34m\u001b[0m\n",
       "\u001b[0;34m    In Python, objects can declare their textual representation using the\u001b[0m\n",
       "\u001b[0;34m    `__repr__` method. IPython expands on this idea and allows objects to declare\u001b[0m\n",
       "\u001b[0;34m    other, rich representations including:\u001b[0m\n",
       "\u001b[0;34m\u001b[0m\n",
       "\u001b[0;34m      - HTML\u001b[0m\n",
       "\u001b[0;34m      - JSON\u001b[0m\n",
       "\u001b[0;34m      - PNG\u001b[0m\n",
       "\u001b[0;34m      - JPEG\u001b[0m\n",
       "\u001b[0;34m      - SVG\u001b[0m\n",
       "\u001b[0;34m      - LaTeX\u001b[0m\n",
       "\u001b[0;34m\u001b[0m\n",
       "\u001b[0;34m    A single object can declare some or all of these representations; all are\u001b[0m\n",
       "\u001b[0;34m    handled by IPython's display system.\u001b[0m\n",
       "\u001b[0;34m\u001b[0m\n",
       "\u001b[0;34m    The main idea of the first approach is that you have to implement special\u001b[0m\n",
       "\u001b[0;34m    display methods when you define your class, one for each representation you\u001b[0m\n",
       "\u001b[0;34m    want to use. Here is a list of the names of the special methods and the\u001b[0m\n",
       "\u001b[0;34m    values they must return:\u001b[0m\n",
       "\u001b[0;34m\u001b[0m\n",
       "\u001b[0;34m      - `_repr_html_`: return raw HTML as a string, or a tuple (see below).\u001b[0m\n",
       "\u001b[0;34m      - `_repr_json_`: return a JSONable dict, or a tuple (see below).\u001b[0m\n",
       "\u001b[0;34m      - `_repr_jpeg_`: return raw JPEG data, or a tuple (see below).\u001b[0m\n",
       "\u001b[0;34m      - `_repr_png_`: return raw PNG data, or a tuple (see below).\u001b[0m\n",
       "\u001b[0;34m      - `_repr_svg_`: return raw SVG data as a string, or a tuple (see below).\u001b[0m\n",
       "\u001b[0;34m      - `_repr_latex_`: return LaTeX commands in a string surrounded by \"$\",\u001b[0m\n",
       "\u001b[0;34m                        or a tuple (see below).\u001b[0m\n",
       "\u001b[0;34m      - `_repr_mimebundle_`: return a full mimebundle containing the mapping\u001b[0m\n",
       "\u001b[0;34m                             from all mimetypes to data.\u001b[0m\n",
       "\u001b[0;34m                             Use this for any mime-type not listed above.\u001b[0m\n",
       "\u001b[0;34m\u001b[0m\n",
       "\u001b[0;34m    The above functions may also return the object's metadata alonside the\u001b[0m\n",
       "\u001b[0;34m    data.  If the metadata is available, the functions will return a tuple\u001b[0m\n",
       "\u001b[0;34m    containing the data and metadata, in that order.  If there is no metadata\u001b[0m\n",
       "\u001b[0;34m    available, then the functions will return the data only.\u001b[0m\n",
       "\u001b[0;34m\u001b[0m\n",
       "\u001b[0;34m    When you are directly writing your own classes, you can adapt them for\u001b[0m\n",
       "\u001b[0;34m    display in IPython by following the above approach. But in practice, you\u001b[0m\n",
       "\u001b[0;34m    often need to work with existing classes that you can't easily modify.\u001b[0m\n",
       "\u001b[0;34m\u001b[0m\n",
       "\u001b[0;34m    You can refer to the documentation on integrating with the display system in\u001b[0m\n",
       "\u001b[0;34m    order to register custom formatters for already existing types\u001b[0m\n",
       "\u001b[0;34m    (:ref:`integrating_rich_display`).\u001b[0m\n",
       "\u001b[0;34m\u001b[0m\n",
       "\u001b[0;34m    .. versionadded:: 5.4 display available without import\u001b[0m\n",
       "\u001b[0;34m    .. versionadded:: 6.1 display available without import\u001b[0m\n",
       "\u001b[0;34m\u001b[0m\n",
       "\u001b[0;34m    Since IPython 5.4 and 6.1 :func:`display` is automatically made available to\u001b[0m\n",
       "\u001b[0;34m    the user without import. If you are using display in a document that might\u001b[0m\n",
       "\u001b[0;34m    be used in a pure python context or with older version of IPython, use the\u001b[0m\n",
       "\u001b[0;34m    following import at the top of your file::\u001b[0m\n",
       "\u001b[0;34m\u001b[0m\n",
       "\u001b[0;34m        from IPython.display import display\u001b[0m\n",
       "\u001b[0;34m\u001b[0m\n",
       "\u001b[0;34m    \"\"\"\u001b[0m\u001b[0;34m\u001b[0m\n",
       "\u001b[0;34m\u001b[0m    \u001b[0;32mfrom\u001b[0m \u001b[0mIPython\u001b[0m\u001b[0;34m.\u001b[0m\u001b[0mcore\u001b[0m\u001b[0;34m.\u001b[0m\u001b[0minteractiveshell\u001b[0m \u001b[0;32mimport\u001b[0m \u001b[0mInteractiveShell\u001b[0m\u001b[0;34m\u001b[0m\n",
       "\u001b[0;34m\u001b[0m    \u001b[0;34m\u001b[0m\n",
       "\u001b[0;34m\u001b[0m    \u001b[0;32mif\u001b[0m \u001b[0;32mnot\u001b[0m \u001b[0mInteractiveShell\u001b[0m\u001b[0;34m.\u001b[0m\u001b[0minitialized\u001b[0m\u001b[0;34m(\u001b[0m\u001b[0;34m)\u001b[0m\u001b[0;34m:\u001b[0m\u001b[0;34m\u001b[0m\n",
       "\u001b[0;34m\u001b[0m        \u001b[0;31m# Directly print objects.\u001b[0m\u001b[0;34m\u001b[0m\n",
       "\u001b[0;34m\u001b[0m        \u001b[0mprint\u001b[0m\u001b[0;34m(\u001b[0m\u001b[0;34m*\u001b[0m\u001b[0mobjs\u001b[0m\u001b[0;34m)\u001b[0m\u001b[0;34m\u001b[0m\n",
       "\u001b[0;34m\u001b[0m        \u001b[0;32mreturn\u001b[0m\u001b[0;34m\u001b[0m\n",
       "\u001b[0;34m\u001b[0m    \u001b[0;34m\u001b[0m\n",
       "\u001b[0;34m\u001b[0m    \u001b[0mraw\u001b[0m \u001b[0;34m=\u001b[0m \u001b[0mkwargs\u001b[0m\u001b[0;34m.\u001b[0m\u001b[0mpop\u001b[0m\u001b[0;34m(\u001b[0m\u001b[0;34m'raw'\u001b[0m\u001b[0;34m,\u001b[0m \u001b[0;32mFalse\u001b[0m\u001b[0;34m)\u001b[0m\u001b[0;34m\u001b[0m\n",
       "\u001b[0;34m\u001b[0m    \u001b[0;32mif\u001b[0m \u001b[0mtransient\u001b[0m \u001b[0;32mis\u001b[0m \u001b[0;32mNone\u001b[0m\u001b[0;34m:\u001b[0m\u001b[0;34m\u001b[0m\n",
       "\u001b[0;34m\u001b[0m        \u001b[0mtransient\u001b[0m \u001b[0;34m=\u001b[0m \u001b[0;34m{\u001b[0m\u001b[0;34m}\u001b[0m\u001b[0;34m\u001b[0m\n",
       "\u001b[0;34m\u001b[0m    \u001b[0;32mif\u001b[0m \u001b[0mmetadata\u001b[0m \u001b[0;32mis\u001b[0m \u001b[0;32mNone\u001b[0m\u001b[0;34m:\u001b[0m\u001b[0;34m\u001b[0m\n",
       "\u001b[0;34m\u001b[0m        \u001b[0mmetadata\u001b[0m\u001b[0;34m=\u001b[0m\u001b[0;34m{\u001b[0m\u001b[0;34m}\u001b[0m\u001b[0;34m\u001b[0m\n",
       "\u001b[0;34m\u001b[0m    \u001b[0;32mif\u001b[0m \u001b[0mdisplay_id\u001b[0m\u001b[0;34m:\u001b[0m\u001b[0;34m\u001b[0m\n",
       "\u001b[0;34m\u001b[0m        \u001b[0;32mif\u001b[0m \u001b[0mdisplay_id\u001b[0m \u001b[0;32mis\u001b[0m \u001b[0;32mTrue\u001b[0m\u001b[0;34m:\u001b[0m\u001b[0;34m\u001b[0m\n",
       "\u001b[0;34m\u001b[0m            \u001b[0mdisplay_id\u001b[0m \u001b[0;34m=\u001b[0m \u001b[0m_new_id\u001b[0m\u001b[0;34m(\u001b[0m\u001b[0;34m)\u001b[0m\u001b[0;34m\u001b[0m\n",
       "\u001b[0;34m\u001b[0m        \u001b[0mtransient\u001b[0m\u001b[0;34m[\u001b[0m\u001b[0;34m'display_id'\u001b[0m\u001b[0;34m]\u001b[0m \u001b[0;34m=\u001b[0m \u001b[0mdisplay_id\u001b[0m\u001b[0;34m\u001b[0m\n",
       "\u001b[0;34m\u001b[0m    \u001b[0;32mif\u001b[0m \u001b[0mkwargs\u001b[0m\u001b[0;34m.\u001b[0m\u001b[0mget\u001b[0m\u001b[0;34m(\u001b[0m\u001b[0;34m'update'\u001b[0m\u001b[0;34m)\u001b[0m \u001b[0;32mand\u001b[0m \u001b[0;34m'display_id'\u001b[0m \u001b[0;32mnot\u001b[0m \u001b[0;32min\u001b[0m \u001b[0mtransient\u001b[0m\u001b[0;34m:\u001b[0m\u001b[0;34m\u001b[0m\n",
       "\u001b[0;34m\u001b[0m        \u001b[0;32mraise\u001b[0m \u001b[0mTypeError\u001b[0m\u001b[0;34m(\u001b[0m\u001b[0;34m'display_id required for update_display'\u001b[0m\u001b[0;34m)\u001b[0m\u001b[0;34m\u001b[0m\n",
       "\u001b[0;34m\u001b[0m    \u001b[0;32mif\u001b[0m \u001b[0mtransient\u001b[0m\u001b[0;34m:\u001b[0m\u001b[0;34m\u001b[0m\n",
       "\u001b[0;34m\u001b[0m        \u001b[0mkwargs\u001b[0m\u001b[0;34m[\u001b[0m\u001b[0;34m'transient'\u001b[0m\u001b[0;34m]\u001b[0m \u001b[0;34m=\u001b[0m \u001b[0mtransient\u001b[0m\u001b[0;34m\u001b[0m\n",
       "\u001b[0;34m\u001b[0m\u001b[0;34m\u001b[0m\n",
       "\u001b[0;34m\u001b[0m    \u001b[0;32mif\u001b[0m \u001b[0;32mnot\u001b[0m \u001b[0mobjs\u001b[0m \u001b[0;32mand\u001b[0m \u001b[0mdisplay_id\u001b[0m\u001b[0;34m:\u001b[0m\u001b[0;34m\u001b[0m\n",
       "\u001b[0;34m\u001b[0m        \u001b[0;31m# if given no objects, but still a request for a display_id,\u001b[0m\u001b[0;34m\u001b[0m\n",
       "\u001b[0;34m\u001b[0m        \u001b[0;31m# we assume the user wants to insert an empty output that\u001b[0m\u001b[0;34m\u001b[0m\n",
       "\u001b[0;34m\u001b[0m        \u001b[0;31m# can be updated later\u001b[0m\u001b[0;34m\u001b[0m\n",
       "\u001b[0;34m\u001b[0m        \u001b[0mobjs\u001b[0m \u001b[0;34m=\u001b[0m \u001b[0;34m[\u001b[0m\u001b[0;34m{\u001b[0m\u001b[0;34m}\u001b[0m\u001b[0;34m]\u001b[0m\u001b[0;34m\u001b[0m\n",
       "\u001b[0;34m\u001b[0m        \u001b[0mraw\u001b[0m \u001b[0;34m=\u001b[0m \u001b[0;32mTrue\u001b[0m\u001b[0;34m\u001b[0m\n",
       "\u001b[0;34m\u001b[0m\u001b[0;34m\u001b[0m\n",
       "\u001b[0;34m\u001b[0m    \u001b[0;32mif\u001b[0m \u001b[0;32mnot\u001b[0m \u001b[0mraw\u001b[0m\u001b[0;34m:\u001b[0m\u001b[0;34m\u001b[0m\n",
       "\u001b[0;34m\u001b[0m        \u001b[0mformat\u001b[0m \u001b[0;34m=\u001b[0m \u001b[0mInteractiveShell\u001b[0m\u001b[0;34m.\u001b[0m\u001b[0minstance\u001b[0m\u001b[0;34m(\u001b[0m\u001b[0;34m)\u001b[0m\u001b[0;34m.\u001b[0m\u001b[0mdisplay_formatter\u001b[0m\u001b[0;34m.\u001b[0m\u001b[0mformat\u001b[0m\u001b[0;34m\u001b[0m\n",
       "\u001b[0;34m\u001b[0m\u001b[0;34m\u001b[0m\n",
       "\u001b[0;34m\u001b[0m    \u001b[0;32mfor\u001b[0m \u001b[0mobj\u001b[0m \u001b[0;32min\u001b[0m \u001b[0mobjs\u001b[0m\u001b[0;34m:\u001b[0m\u001b[0;34m\u001b[0m\n",
       "\u001b[0;34m\u001b[0m        \u001b[0;32mif\u001b[0m \u001b[0mraw\u001b[0m\u001b[0;34m:\u001b[0m\u001b[0;34m\u001b[0m\n",
       "\u001b[0;34m\u001b[0m            \u001b[0mpublish_display_data\u001b[0m\u001b[0;34m(\u001b[0m\u001b[0mdata\u001b[0m\u001b[0;34m=\u001b[0m\u001b[0mobj\u001b[0m\u001b[0;34m,\u001b[0m \u001b[0mmetadata\u001b[0m\u001b[0;34m=\u001b[0m\u001b[0mmetadata\u001b[0m\u001b[0;34m,\u001b[0m \u001b[0;34m**\u001b[0m\u001b[0mkwargs\u001b[0m\u001b[0;34m)\u001b[0m\u001b[0;34m\u001b[0m\n",
       "\u001b[0;34m\u001b[0m        \u001b[0;32melse\u001b[0m\u001b[0;34m:\u001b[0m\u001b[0;34m\u001b[0m\n",
       "\u001b[0;34m\u001b[0m            \u001b[0mformat_dict\u001b[0m\u001b[0;34m,\u001b[0m \u001b[0mmd_dict\u001b[0m \u001b[0;34m=\u001b[0m \u001b[0mformat\u001b[0m\u001b[0;34m(\u001b[0m\u001b[0mobj\u001b[0m\u001b[0;34m,\u001b[0m \u001b[0minclude\u001b[0m\u001b[0;34m=\u001b[0m\u001b[0minclude\u001b[0m\u001b[0;34m,\u001b[0m \u001b[0mexclude\u001b[0m\u001b[0;34m=\u001b[0m\u001b[0mexclude\u001b[0m\u001b[0;34m)\u001b[0m\u001b[0;34m\u001b[0m\n",
       "\u001b[0;34m\u001b[0m            \u001b[0;32mif\u001b[0m \u001b[0;32mnot\u001b[0m \u001b[0mformat_dict\u001b[0m\u001b[0;34m:\u001b[0m\u001b[0;34m\u001b[0m\n",
       "\u001b[0;34m\u001b[0m                \u001b[0;31m# nothing to display (e.g. _ipython_display_ took over)\u001b[0m\u001b[0;34m\u001b[0m\n",
       "\u001b[0;34m\u001b[0m                \u001b[0;32mcontinue\u001b[0m\u001b[0;34m\u001b[0m\n",
       "\u001b[0;34m\u001b[0m            \u001b[0;32mif\u001b[0m \u001b[0mmetadata\u001b[0m\u001b[0;34m:\u001b[0m\u001b[0;34m\u001b[0m\n",
       "\u001b[0;34m\u001b[0m                \u001b[0;31m# kwarg-specified metadata gets precedence\u001b[0m\u001b[0;34m\u001b[0m\n",
       "\u001b[0;34m\u001b[0m                \u001b[0m_merge\u001b[0m\u001b[0;34m(\u001b[0m\u001b[0mmd_dict\u001b[0m\u001b[0;34m,\u001b[0m \u001b[0mmetadata\u001b[0m\u001b[0;34m)\u001b[0m\u001b[0;34m\u001b[0m\n",
       "\u001b[0;34m\u001b[0m            \u001b[0mpublish_display_data\u001b[0m\u001b[0;34m(\u001b[0m\u001b[0mdata\u001b[0m\u001b[0;34m=\u001b[0m\u001b[0mformat_dict\u001b[0m\u001b[0;34m,\u001b[0m \u001b[0mmetadata\u001b[0m\u001b[0;34m=\u001b[0m\u001b[0mmd_dict\u001b[0m\u001b[0;34m,\u001b[0m \u001b[0;34m**\u001b[0m\u001b[0mkwargs\u001b[0m\u001b[0;34m)\u001b[0m\u001b[0;34m\u001b[0m\n",
       "\u001b[0;34m\u001b[0m    \u001b[0;32mif\u001b[0m \u001b[0mdisplay_id\u001b[0m\u001b[0;34m:\u001b[0m\u001b[0;34m\u001b[0m\n",
       "\u001b[0;34m\u001b[0m        \u001b[0;32mreturn\u001b[0m \u001b[0mDisplayHandle\u001b[0m\u001b[0;34m(\u001b[0m\u001b[0mdisplay_id\u001b[0m\u001b[0;34m)\u001b[0m\u001b[0;34m\u001b[0m\u001b[0;34m\u001b[0m\u001b[0m\n",
       "\u001b[0;31mFile:\u001b[0m      ~/opt/anaconda3/envs/develop/lib/python3.6/site-packages/IPython/core/display.py\n",
       "\u001b[0;31mType:\u001b[0m      function\n"
      ]
     },
     "metadata": {},
     "output_type": "display_data"
    }
   ],
   "source": [
    "??display"
   ]
  },
  {
   "cell_type": "markdown",
   "metadata": {},
   "source": [
    "Math is a module, a collection of variables and functions defined by someone else. You can look at all the variables and functions contained in Math using the **dir()** function."
   ]
  },
  {
   "cell_type": "code",
   "execution_count": 160,
   "metadata": {},
   "outputs": [
    {
     "name": "stdout",
     "output_type": "stream",
     "text": [
      "['__doc__', '__file__', '__loader__', '__name__', '__package__', '__spec__', 'acos', 'acosh', 'asin', 'asinh', 'atan', 'atan2', 'atanh', 'ceil', 'copysign', 'cos', 'cosh', 'degrees', 'e', 'erf', 'erfc', 'exp', 'expm1', 'fabs', 'factorial', 'floor', 'fmod', 'frexp', 'fsum', 'gamma', 'gcd', 'hypot', 'inf', 'isclose', 'isfinite', 'isinf', 'isnan', 'ldexp', 'lgamma', 'log', 'log10', 'log1p', 'log2', 'modf', 'nan', 'pi', 'pow', 'radians', 'sin', 'sinh', 'sqrt', 'tan', 'tanh', 'tau', 'trunc']\n"
     ]
    }
   ],
   "source": [
    "print(dir(math))"
   ]
  },
  {
   "cell_type": "code",
   "execution_count": 159,
   "metadata": {},
   "outputs": [
    {
     "name": "stdout",
     "output_type": "stream",
     "text": [
      "The first four numbers of the pi-box are = 3.142\n"
     ]
    }
   ],
   "source": [
    "print(\"The first four numbers of the pi-box are = {:.4}\".format(math.pi))"
   ]
  },
  {
   "cell_type": "code",
   "execution_count": 164,
   "metadata": {},
   "outputs": [
    {
     "data": {
      "text/plain": [
       "5.0"
      ]
     },
     "execution_count": 164,
     "metadata": {},
     "output_type": "execute_result"
    }
   ],
   "source": [
    "math.log(32,2)"
   ]
  },
  {
   "cell_type": "code",
   "execution_count": 165,
   "metadata": {},
   "outputs": [
    {
     "name": "stdout",
     "output_type": "stream",
     "text": [
      "Help on built-in function log in module math:\n",
      "\n",
      "log(...)\n",
      "    log(x[, base])\n",
      "    \n",
      "    Return the logarithm of x to the given base.\n",
      "    If the base not specified, returns the natural logarithm (base e) of x.\n",
      "\n"
     ]
    }
   ],
   "source": [
    "help(math.log)"
   ]
  },
  {
   "cell_type": "markdown",
   "metadata": {},
   "source": [
    "As we mentioned at the beginning of this notebook, when you import a library, you can give it a shortened name so that it can be reused in the code."
   ]
  },
  {
   "cell_type": "code",
   "execution_count": 166,
   "metadata": {},
   "outputs": [
    {
     "data": {
      "text/plain": [
       "3.141592653589793"
      ]
     },
     "execution_count": 166,
     "metadata": {},
     "output_type": "execute_result"
    }
   ],
   "source": [
    "import math as mt\n",
    "mt.pi"
   ]
  },
  {
   "cell_type": "markdown",
   "metadata": {},
   "source": [
    "It is possible to import even just a particular variable contained within the library without having to import the whole library, in this case we could use the following notation:"
   ]
  },
  {
   "cell_type": "code",
   "execution_count": null,
   "metadata": {},
   "outputs": [],
   "source": [
    "from math import pi\n",
    "print(pi)"
   ]
  },
  {
   "cell_type": "code",
   "execution_count": null,
   "metadata": {},
   "outputs": [],
   "source": [
    "from math import *\n",
    "from numpy import *\n",
    "print(pi, log(32,2))"
   ]
  },
  {
   "cell_type": "markdown",
   "metadata": {},
   "source": [
    "In this case we found an error because the variable **log** is contained in both the *math* and *numpy* library, but has different inputs. Since we also imported the *numpy* library in this case the log of the latter library has overwritten the math.<br> library log.\n",
    "One way to solve the problem before is to import only what we really want to use, for example:"
   ]
  },
  {
   "cell_type": "code",
   "execution_count": null,
   "metadata": {},
   "outputs": [],
   "source": [
    "from math import log, pi\n",
    "from numpy import asarray\n",
    "print(pi, log(32,2))"
   ]
  },
  {
   "cell_type": "markdown",
   "metadata": {},
   "source": [
    "In general, if we encounter Python objects that we don't know about, we can use three pre-set Python functions:<br>\n",
    "- 1)**type()** : tells us what the object is;\n",
    "- 2)**dir()** : tells us what the object can do;\n",
    "- 3)**help()** : tells us in more detail the methods associated with the object and their functionality"
   ]
  },
  {
   "cell_type": "markdown",
   "metadata": {},
   "source": [
    "# Bonus: Pythonic Code!\n",
    "<a id='section9'></a>"
   ]
  },
  {
   "cell_type": "markdown",
   "metadata": {},
   "source": [
    "Writing in python is very simple and very fast compared to other programming languages.\n",
    "The automatic indentation also leads you to write clean code.\n",
    "\n",
    "However, it is important to be careful when writing well done code in the jargon they say: pythonic!\n",
    "\n",
    "That's why Python Zen exists"
   ]
  },
  {
   "cell_type": "code",
   "execution_count": 167,
   "metadata": {},
   "outputs": [
    {
     "name": "stdout",
     "output_type": "stream",
     "text": [
      "The Zen of Python, by Tim Peters\n",
      "\n",
      "Beautiful is better than ugly.\n",
      "Explicit is better than implicit.\n",
      "Simple is better than complex.\n",
      "Complex is better than complicated.\n",
      "Flat is better than nested.\n",
      "Sparse is better than dense.\n",
      "Readability counts.\n",
      "Special cases aren't special enough to break the rules.\n",
      "Although practicality beats purity.\n",
      "Errors should never pass silently.\n",
      "Unless explicitly silenced.\n",
      "In the face of ambiguity, refuse the temptation to guess.\n",
      "There should be one-- and preferably only one --obvious way to do it.\n",
      "Although that way may not be obvious at first unless you're Dutch.\n",
      "Now is better than never.\n",
      "Although never is often better than *right* now.\n",
      "If the implementation is hard to explain, it's a bad idea.\n",
      "If the implementation is easy to explain, it may be a good idea.\n",
      "Namespaces are one honking great idea -- let's do more of those!\n"
     ]
    }
   ],
   "source": [
    "import this"
   ]
  },
  {
   "cell_type": "markdown",
   "metadata": {},
   "source": [
    "And PEP-8!\n",
    "\n",
    "PEP 8, sometimes typed PEP8 or PEP-8, is a document that provides guidelines and recommended procedures on how to write Python code. It was written in 2001 by Guido van Rossum, Barry Warsaw and Nick Coghlan. The main objective of PEP 8 is to improve the readability and consistency of Python code.\n",
    "\n",
    "PEP stands for Python Enhancement Proposal, and there are many of them. A PEP is a document that describes new features proposed for Python and documents aspects of Python, such as design and style, for the community.\n",
    "\n",
    "https://realpython.com/python-pep8/"
   ]
  },
  {
   "cell_type": "markdown",
   "metadata": {},
   "source": [
    "There are also linters that allow you to format and control the style of the python code.\n",
    "In this regard it is important to mention: pylint and pycodestyle (which can be installed as external libraries)\n",
    "https://github.com/PyCQA/pycodestyle\n",
    "https://www.pylint.org/"
   ]
  },
  {
   "cell_type": "markdown",
   "metadata": {},
   "source": [
    "### A few small considerations"
   ]
  },
  {
   "cell_type": "markdown",
   "metadata": {},
   "source": [
    "Although this course will not cover software engineering and development issues, it is still important to write good, clean code for a few simple reasons:\n",
    "- You work in a team, so the code we write will definitely be used / seen / controlled by other people, making it easier for other people to read the code is important (Ethics of Reciprocity, also called \"Golden Rule\") https://it.wikipedia.org/wiki/Etica_della_reciprocit%C3%A0\n",
    "- Very often you go back to code that has been written for a long time, having good code greatly reduces the time it takes to \"refresh your memory and review\".\n",
    "- Writing clean code allows you to quickly find errors and bugs, especially with large amounts of code\n",
    "- Because it's important to do things right, beautiful.\n",
    "- Because it is."
   ]
  },
  {
   "cell_type": "markdown",
   "metadata": {},
   "source": [
    "Another maxim is as follows:  \n",
    "Document the code. This is important.  \n",
    "Enter a few logs in the code. This is important.  \n",
    "Do not leave commented code. It's important.  \n",
    "Be precise and follow the best practices. It's important.  "
   ]
  },
  {
   "cell_type": "markdown",
   "metadata": {},
   "source": [
    "Often in the world of Data Science to make prototypes and analysis quickly neglect these concepts, it is important instead to try to apply them as much as possible ... for us and for others!"
   ]
  },
  {
   "cell_type": "markdown",
   "metadata": {},
   "source": [
    "[Click here to go to index](#start)<a id='start'></a>"
   ]
  }
 ],
 "metadata": {
  "kernelspec": {
   "display_name": "Python 3",
   "language": "python",
   "name": "python3"
  },
  "language_info": {
   "codemirror_mode": {
    "name": "ipython",
    "version": 3
   },
   "file_extension": ".py",
   "mimetype": "text/x-python",
   "name": "python",
   "nbconvert_exporter": "python",
   "pygments_lexer": "ipython3",
   "version": "3.6.9"
  },
  "varInspector": {
   "cols": {
    "lenName": 16,
    "lenType": 16,
    "lenVar": 40
   },
   "kernels_config": {
    "python": {
     "delete_cmd_postfix": "",
     "delete_cmd_prefix": "del ",
     "library": "var_list.py",
     "varRefreshCmd": "print(var_dic_list())"
    },
    "r": {
     "delete_cmd_postfix": ") ",
     "delete_cmd_prefix": "rm(",
     "library": "var_list.r",
     "varRefreshCmd": "cat(var_dic_list()) "
    }
   },
   "types_to_exclude": [
    "module",
    "function",
    "builtin_function_or_method",
    "instance",
    "_Feature"
   ],
   "window_display": false
  }
 },
 "nbformat": 4,
 "nbformat_minor": 4
}
