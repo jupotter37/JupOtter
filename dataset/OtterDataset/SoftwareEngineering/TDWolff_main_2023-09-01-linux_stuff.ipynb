{
 "cells": [
  {
   "cell_type": "markdown",
   "metadata": {},
   "source": [
    "---\n",
    "toc: true\n",
    "comments: false\n",
    "layout: post\n",
    "title: Linux Shell and Bash\n",
    "description: This will explain some of the basics of linux shell and bash.\n",
    "type: tangibles\n",
    "courses: { csp: {week: 3} }\n",
    "---"
   ]
  },
  {
   "cell_type": "markdown",
   "metadata": {},
   "source": [
    "## Bash Basics\n",
    "Bash is an extrodianry feat of code and software engineering being a very versitile piece of software. Lets dive in to what we can do with bash.\n",
    "\n",
    "First lets get the basics set, running !ls lets us see all the files in the main directory of our project."
   ]
  },
  {
   "cell_type": "code",
   "execution_count": 4,
   "metadata": {},
   "outputs": [
    {
     "name": "stdout",
     "output_type": "stream",
     "text": [
      "Gemfile\n",
      "Gemfile.lock\n",
      "LICENSE\n",
      "Makefile\n",
      "README.md\n",
      "_config.yml\n",
      "_data\n",
      "_includes\n",
      "_layouts\n",
      "_notebooks\n",
      "_posts\n",
      "_site\n",
      "assets\n",
      "csp.md\n",
      "helloworld.txt\n",
      "images\n",
      "index.md\n",
      "indexBlogs.md\n",
      "indexHelp.md\n",
      "mylogo.png\n",
      "scripts\n"
     ]
    }
   ],
   "source": [
    "%%script bash\n",
    "ls .."
   ]
  },
  {
   "cell_type": "markdown",
   "metadata": {},
   "source": [
    "Here we see all the files in our parent directory just by using \"..\" after ls.\n",
    "Now lets use echo to print a hello world function in bash."
   ]
  },
  {
   "cell_type": "code",
   "execution_count": 3,
   "metadata": {},
   "outputs": [
    {
     "name": "stdout",
     "output_type": "stream",
     "text": [
      "Hello World\n"
     ]
    }
   ],
   "source": [
    "%%script bash\n",
    "echo \"Hello World\""
   ]
  },
  {
   "cell_type": "markdown",
   "metadata": {},
   "source": [
    "Easy peasy, now lets move to something a little more complicated. Lets make a file and echo in a hello world script and use cat to read it out."
   ]
  },
  {
   "cell_type": "code",
   "execution_count": 9,
   "metadata": {},
   "outputs": [
    {
     "name": "stdout",
     "output_type": "stream",
     "text": [
      "hello world\n"
     ]
    }
   ],
   "source": [
    "%%script bash\n",
    "echo \"hello world\" > ../helloworld.txt\n",
    "cat ../helloworld.txt"
   ]
  },
  {
   "cell_type": "markdown",
   "metadata": {},
   "source": [
    "Wow, so simple, thats amazing, now we can make a file via echo, AND write inside that file alongside being able to read it."
   ]
  }
 ],
 "metadata": {
  "kernelspec": {
   "display_name": "Python 3",
   "language": "python",
   "name": "python3"
  },
  "language_info": {
   "codemirror_mode": {
    "name": "ipython",
    "version": 2
   },
   "file_extension": ".py",
   "mimetype": "text/x-python",
   "name": "python",
   "nbconvert_exporter": "python",
   "pygments_lexer": "ipython2",
   "version": "2.7.16"
  },
  "orig_nbformat": 4
 },
 "nbformat": 4,
 "nbformat_minor": 2
}
