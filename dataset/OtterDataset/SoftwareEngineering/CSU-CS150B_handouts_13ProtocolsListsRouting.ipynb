{
 "cells": [
  {
   "cell_type": "markdown",
   "metadata": {},
   "source": [
    "# Protocols, Routing, and More Lists\n",
    "\n",
    "* Internet Protocol \n",
    "  * Useful command line tools like ```ping``` and ```traceroute/tracert```\n",
    "* More lists in python\n",
    "* Internet Routes\n",
    "\n",
    "### Your future in CS \n",
    "I used to include this on my slides, but since these slides have changed - going to just leave it up here for every notebook. I get a lot of questions about more programming courses, the concentrations, and minors in computer science. Here is a brief reminder.\n",
    "\n",
    "CS 164 – Next Course In Sequence, also consider CS 220 (math and stats especially) \n",
    "* CO Jobs Report 2021 – 77% of *all* new jobs in Colorado require programming\n",
    "* 60% of all STEM jobs requires *advanced* (200-300 level) \n",
    "* 31% of all Bachelor of Arts degree titled jobs also required coding skills \n",
    "* 2016 Report found on average jobs that require coding skills paid $22,000 more\n",
    "\n",
    "* Concentrations in CS:\n",
    "  * Computer science has a number of concentrations. \n",
    "    * [General concentration](https://catalog.colostate.edu/general-catalog/colleges/natural-sciences/computer-science/computer-science-major/computer-science-concentration/#requirementstext) is the most flexible, and even allows students to double major or minor pretty easily. \n",
    "    * [Software Engineering](https://catalog.colostate.edu/general-catalog/colleges/natural-sciences/computer-science/computer-science-major-software-engineering-concentration/)\n",
    "    * [Computing Systems](https://catalog.colostate.edu/general-catalog/colleges/natural-sciences/computer-science/computer-science-major-computing-systems-concentration/)\n",
    "    * [Human Centered Computing](https://catalog.colostate.edu/general-catalog/colleges/natural-sciences/computer-science/computer-science-major/human-centered-computing-concentration/)\n",
    "    * [Networks and Security](https://catalog.colostate.edu/general-catalog/colleges/natural-sciences/computer-science/computer-science-major-networks-security-concentration/)\n",
    "    * [Artificial Intelligence](https://catalog.colostate.edu/general-catalog/colleges/natural-sciences/computer-science/computer-science-major-artificial-intelligence-machine-learning-concentration/)\n",
    "    * Computer Science Education. \n",
    "  * Minors: \n",
    "    * [Minor in Computer Science](https://catalog.colostate.edu/general-catalog/colleges/natural-sciences/computer-science/computer-science-minor/) - choose your own adventure minor\n",
    "    * [Minor in Machine Learning](https://catalog.colostate.edu/general-catalog/colleges/natural-sciences/computer-science/machine-learning-minor/) - popular with stats/math, and engineering\n",
    "    * [Minor in Bioinformatics](https://catalog.colostate.edu/general-catalog/colleges/natural-sciences/computer-science/bioinformatics-minor/) - Biology + Computer Science\n"
   ]
  },
  {
   "cell_type": "markdown",
   "metadata": {},
   "source": [
    "## A System of Protocols\n",
    "\n",
    "The internet is built using 'layers' each layer adding more functionality / features.\n",
    "\n",
    "### Definition review:\n",
    "\n",
    "* Bits\n",
    "  * A single 0 or 1 in a file, which is made up of many bytes.\n",
    "* Bit Rate\n",
    "  * the speed in which bits are transfers over the net \n",
    "  * 10mb/s  - 10 megabytes per second or ~80,000,000 bits\n",
    "* Protocol \n",
    "  * An agreed upon standard that folks follow for communication \n",
    "* IP - \"Internet Protocol\"\n",
    "  * An agreed system in which computers communicate with each other (part of the 'network layer')\n",
    "* IP Address\n",
    "  * Addresses assigned to devices on the network\n",
    "  * IPv4 - 129.82.45.48\n",
    "  * IPv6 - 0000:0000:0000:0000:0000:ffff:8152:2d30\n",
    "* URL - Uniform Resource Locator \n",
    "  * Text based address that maps to IP addresses via router tables\n",
    "\n",
    "### Code.org Video on IP Protocol \n",
    "\n",
    "[Video Link on YouTube](https://youtu.be/5o8CwafCxnU)\n",
    "\n",
    "### Testing it out\n",
    "\n",
    "Let's test it out on your computer.\n",
    "\n",
    "#### Mac\n",
    "* Type ⌘ + space bar -> brings up spotlight search\n",
    "* type \"terminal\" to view and open the Terminal.app \n",
    "\n",
    "#### Windows\n",
    "* Type ⊞ (windows key) + S to open search\n",
    "* Type \"Terminal\" to open the Windows Terminal app\n",
    "  * You can also type Powershell - may vary based on your OS version\n",
    "\n",
    "#### Ping\n",
    "\n",
    "* The ping command\n",
    "* Name comes from sonar 'ping' \n",
    "* Determines amount of time it take to send a small amount of data (a packet) to a given location\n",
    "\n",
    "Type:\n",
    "\\> ping www.cs.colostate.edu\n",
    "\n",
    "Type:\n",
    "cntrl + c to end the command running"
   ]
  },
  {
   "cell_type": "markdown",
   "metadata": {},
   "source": [
    "## More Lists\n",
    "\n",
    "Take a moment, you will notice most information we are getting are lists of information. Let's review python  lists giving us more tools moving forward!\n",
    "\n",
    "* Both Lists and Strings are “Sequential” Types\n",
    "  * Lists can contain any value\n",
    "  * Lists Are  mutable\n",
    "* Methods that modify the list:\n",
    "  * list.append(item) – adds an item (without modification) to end\n",
    "  * list.insert(item, index) – inserts item at set location\n",
    "  * list.remove(item) – removes the first occurrence of the item\n",
    "  * list.pop(index) – optional index, removes the item at location or location 0\n",
    "  * list.sort() – sorts the list, it changes the list! \n",
    "    * sorted(list) - returns a sorted copy of the list\n",
    "  * list.reverse() – reverses the list, it changes the list! \n",
    "    * reversed(list) - returns a reversed copy of the list.\n",
    "* Support Methods\n",
    "  * list.index(item) - returns the first location of the item, or -1 if not found (not find!)\n",
    "  * list.count(item) – returns the number of times the item shows up\n",
    "  * list.copy() – returns a new copy of the list\n",
    "* Methods for sequences\n",
    "  * len(list) - gives the length\n",
    "  * max(list) - gives the largest value\n",
    "  * min(list) - gives the smallest value\n",
    "  * sum(list) - adds all values together, **only works for numeric types**\n",
    "* Sequence Operations\n",
    "  * + - concatenate two lists into one\n",
    "  * <, >, <=, >=, == - compare items individually\n",
    "  * in - tells if an item exists in a list\n"
   ]
  },
  {
   "cell_type": "code",
   "execution_count": null,
   "metadata": {},
   "outputs": [],
   "source": [
    "cast = [\"Westley\", \"Buttercup\", \"Inigo Montoya\", \"Vizzini\",\n",
    "       \"Fezzik\", \"Rugan\", \"Humperdinck\"]\n",
    "cast2 = cast.copy()\n",
    "cast.sort() # Modifies cast, but not cast2 because cast2 is a copy!!\n",
    "\n",
    "print(\"Cast:\", cast)\n",
    "print(\"Cast 2:\", cast2)\n",
    "\n",
    "\n",
    "if cast == sorted(cast2):\n",
    "    print(\"They are equal\") # this does print!\n",
    "for actor in reversed(cast):\n",
    "    print(actor) # prints from Westley to Buttercup\n",
    "\n",
    "print(max(cast)) # Westley\n",
    "print(min(cast)) # Buttercup\n"
   ]
  },
  {
   "cell_type": "markdown",
   "metadata": {},
   "source": [
    "### Student Practice:\n",
    "\n",
    "Take a list of numbers, and find the following values:\n",
    "\n",
    "* Min\n",
    "* Max\n",
    "* Total\n",
    "* Average \n",
    "  * You will have to calculate this one, the others have functions that can help\n",
    "* Print them using the following format. \n",
    "  * Your function can return the String generated, and then print!\n",
    "\n",
    "```text\n",
    "Max: val,  Min: val, Total: val, Avg: val\n",
    "```\n",
    "or a sample output\n",
    "\n",
    "```text\n",
    "[5, -29, -72, -38, 77, -28, 13, 24, 7, 78]\n",
    "Max: 78, Min: -72, Total: 37, Average: 3.7\n",
    "```"
   ]
  },
  {
   "cell_type": "code",
   "execution_count": null,
   "metadata": {},
   "outputs": [],
   "source": [
    "import random \n",
    "rndlst = random.sample(range(-99, 99), 10) # this code helps generate a random list of values\n",
    "print(rndlst) ## just so you can see what is generated\n",
    "\n",
    "def practice_values(lst):\n",
    "   return None #student code here\n",
    "\n",
    "print(practice_values(rndlst))"
   ]
  },
  {
   "cell_type": "markdown",
   "metadata": {},
   "source": [
    "### Enumerate\n",
    "\n",
    "* We want to cycle through elements\n",
    "  * And, we want to keep track of locations!\n",
    "  * introducing - enumerate\n",
    "\n",
    "Helper function for sequences and loops\n"
   ]
  },
  {
   "cell_type": "code",
   "execution_count": null,
   "metadata": {},
   "outputs": [],
   "source": [
    "for index, actor in enumerate(cast):\n",
    "    print(f\"{index}: {actor}\")"
   ]
  },
  {
   "cell_type": "markdown",
   "metadata": {},
   "source": [
    "### More Practice\n",
    "\n",
    "If you recall splitting a string gives us a list of strings. For example:"
   ]
  },
  {
   "cell_type": "code",
   "execution_count": null,
   "metadata": {},
   "outputs": [],
   "source": [
    "ip = \"129.82.45.48\"\n",
    "components = ip.split(\".\")\n",
    "print(components)"
   ]
  },
  {
   "cell_type": "markdown",
   "metadata": {},
   "source": [
    "However, if we want to add 2 or something to a component, we can't do that as a string!\n",
    "\n",
    "Instead we need to convert them to int values (by building a new list).\n",
    "\n",
    "* For this practice, you will take IP address strings (see the ones provided below). \n",
    "* Use split to create a list of strings\n",
    "* loop through the list of strings, creating a **new** list of int values\n",
    "  * remember int(val) converts a string to an int\n",
    "* Add 2 to the 4th value (3rd index) of the list\n",
    "* return the list of int values\n"
   ]
  },
  {
   "cell_type": "code",
   "execution_count": null,
   "metadata": {},
   "outputs": [],
   "source": [
    "def add_two_to_ip(address):\n",
    "   return None # student code here"
   ]
  },
  {
   "cell_type": "code",
   "execution_count": null,
   "metadata": {},
   "outputs": [],
   "source": [
    "ip = \"129.82.45.48\"\n",
    "ip2 = \"129.82.45.13\"\n",
    "ip3 = \"129.82.45.54\"\n",
    "\n",
    "print(add_two_to_ip(ip))\n",
    "print(add_two_to_ip(ip2))\n",
    "print(add_two_to_ip(ip3))\n"
   ]
  },
  {
   "cell_type": "markdown",
   "metadata": {},
   "source": [
    "## Routing\n",
    "\n",
    "* What is the primary purpose of the internet?\n",
    "  * To share information\n",
    "  * Information that is stored in files\n",
    "* Given a mesh network, how does one file get to another computer?\n",
    "  * Through a list of computers that make up the route(s)\n",
    "  \n",
    "[Code.org video on Routing](https://youtu.be/AYdF7b3nMto)\n",
    "\n",
    "* What are some common definitions from the video?\n",
    "  * Fault Tolerant \n",
    "    * If an issue arrives, how does the network automatically adapt\n",
    "  * Redundancy\n",
    "    * The ability to send packets down multiple paths\n",
    "  * Packet\n",
    "    * a small subset of a file to make transmission easier\n",
    "  * Transmission/Transfer Control Protocol (TCP) \n",
    "    * A system setup to make sure all the data has arrived\n",
    "    * Continues to request data until all parts arrive\n",
    "  * Domain Name Service (DNS)\n",
    "    * Companies and software that match domain names (URLs) to IP addresses\n",
    "  * Internet Service Provider (ISP)\n"
   ]
  },
  {
   "cell_type": "markdown",
   "metadata": {},
   "source": [
    "### Internet Service Provider\n",
    "\n",
    "* Local individuals connect to the \"larger\" network through ISPs.\n",
    "* Most ISPs have star networks based on your router to the ISP.\n",
    "* They then connect to the broader world\n",
    "* Often their router tables (DNS lookup tables) are critical components\n",
    "  \n",
    "> Discussion  \n",
    "> What happens when an ISP gets to determine which data goes through their machines?  \n",
    "> What happens if they get to determine the speed of that data through their machines?\n",
    "\n",
    "\n",
    "### Let's View Some Routes with traceroute / tracert\n",
    "\n",
    "#### Mac\n",
    "* Type ⌘ + space bar -> brings up spotlight search\n",
    "* type \"terminal\" to view and open the Terminal.app \n",
    "* \\>traceroute www.google.com\n",
    "* \\>traceroute www.cs.colostate.edu/~cs150b\n",
    "\n",
    "#### Windows\n",
    "* Type ⊞ (windows key) + S to open search\n",
    "* Type \"Terminal\" to open the Windows Terminal app\n",
    "  * You can also type Powershell - may vary based on your OS version\n",
    "* \\>tracert www.google.com\n",
    "* \\>tracert www.cs.colostate.edu/~cs150b\n",
    "\n",
    "\n",
    "How are these tables built and controlled? We will play with dictionaries in this class next week - but this is a topic for later classes!"
   ]
  }
 ],
 "metadata": {
  "interpreter": {
   "hash": "d9a4ba7a39ad5692da286452aea182a2f639774b342ad6371c4f013f8b98072d"
  },
  "kernelspec": {
   "display_name": "Python 3.10.4 64-bit",
   "language": "python",
   "name": "python3"
  },
  "language_info": {
   "codemirror_mode": {
    "name": "ipython",
    "version": 3
   },
   "file_extension": ".py",
   "mimetype": "text/x-python",
   "name": "python",
   "nbconvert_exporter": "python",
   "pygments_lexer": "ipython3",
   "version": "3.10.4"
  },
  "orig_nbformat": 4
 },
 "nbformat": 4,
 "nbformat_minor": 2
}
