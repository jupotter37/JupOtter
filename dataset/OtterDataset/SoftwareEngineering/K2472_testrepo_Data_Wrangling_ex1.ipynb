{
  "metadata": {
    "kernelspec": {
      "name": "python",
      "display_name": "Python (Pyodide)",
      "language": "python"
    },
    "language_info": {
      "codemirror_mode": {
        "name": "python",
        "version": 3
      },
      "file_extension": ".py",
      "mimetype": "text/x-python",
      "name": "python",
      "nbconvert_exporter": "python",
      "pygments_lexer": "ipython3",
      "version": "3.8"
    }
  },
  "nbformat_minor": 4,
  "nbformat": 4,
  "cells": [
    {
      "cell_type": "code",
      "source": "# Data_Wrangling_ex1.\n#\n# Data Wrangling\n#\n\n# Import pandas module.\nimport pandas as pd",
      "metadata": {
        "trusted": true
      },
      "outputs": [
        {
          "name": "stderr",
          "text": "<ipython-input-1-34065d279c1c>:7: DeprecationWarning: \nPyarrow will become a required dependency of pandas in the next major release of pandas (pandas 3.0),\n(to allow more performant data types, such as the Arrow string type, and better interoperability with other libraries)\nbut was not found to be installed on your system.\nIf this would cause problems for you,\nplease provide us feedback at https://github.com/pandas-dev/pandas/issues/54466\n        \n  import pandas as pd\n",
          "output_type": "stream"
        }
      ],
      "execution_count": 1
    },
    {
      "cell_type": "code",
      "source": "# Load the dataset into a dataframe.\n#\n# Read Data\n# We utilize the pandas.read_csv() function for reading CSV files. However,\n# in this version of the lab, which operates on JupyterLite, \n# the dataset needs to be downloaded to the interface using the provided code below.\n#\n# 我們利用 pandas.read_csv() 函數來讀取 CSV 檔案。然而， # 在這個版本的實驗室中，在 JupyterLite 上運行， \n# 需要使用下面提供的程式碼將資料集下載到介面。\n\nfrom pyodide.http import pyfetch\n\nasync def download(url, filename):\n    response = await pyfetch(url)\n    if response.status == 200:\n        with open(filename, \"wb\") as f:\n            f.write(await response.bytes())",
      "metadata": {
        "trusted": true
      },
      "outputs": [],
      "execution_count": 2
    },
    {
      "cell_type": "code",
      "source": "file_path = \"https://cf-courses-data.s3.us.cloud-object-storage.appdomain.cloud/IBM-DA0321EN-SkillsNetwork/LargeData/m1_survey_data.csv\"",
      "metadata": {
        "trusted": true
      },
      "outputs": [],
      "execution_count": 3
    },
    {
      "cell_type": "code",
      "source": "# To obtain the dataset, utilize the download() function as defined above:\n#\nawait download(file_path, \"m1_survey_data.csv\")\nfile_name=\"m1_survey_data.csv\"\n",
      "metadata": {
        "trusted": true
      },
      "outputs": [],
      "execution_count": 4
    },
    {
      "cell_type": "code",
      "source": "# \n# Utilize the Pandas method read_csv() to load the data into a dataframe.\n# \ndf = pd.read_csv(file_name)",
      "metadata": {
        "trusted": true
      },
      "outputs": [],
      "execution_count": 5
    },
    {
      "cell_type": "code",
      "source": "df",
      "metadata": {
        "trusted": true
      },
      "outputs": [
        {
          "execution_count": 6,
          "output_type": "execute_result",
          "data": {
            "text/plain": "       Respondent                      MainBranch Hobbyist  \\\n0               4  I am a developer by profession       No   \n1               9  I am a developer by profession      Yes   \n2              13  I am a developer by profession      Yes   \n3              16  I am a developer by profession      Yes   \n4              17  I am a developer by profession      Yes   \n...           ...                             ...      ...   \n11547       25136  I am a developer by profession      Yes   \n11548       25137  I am a developer by profession      Yes   \n11549       25138  I am a developer by profession      Yes   \n11550       25141  I am a developer by profession      Yes   \n11551       25142  I am a developer by profession      Yes   \n\n                                             OpenSourcer  \\\n0                                                  Never   \n1                             Once a month or more often   \n2      Less than once a month but more than once per ...   \n3                                                  Never   \n4      Less than once a month but more than once per ...   \n...                                                  ...   \n11547                                              Never   \n11548                                              Never   \n11549                            Less than once per year   \n11550  Less than once a month but more than once per ...   \n11551  Less than once a month but more than once per ...   \n\n                                              OpenSource          Employment  \\\n0      The quality of OSS and closed source software ...  Employed full-time   \n1      The quality of OSS and closed source software ...  Employed full-time   \n2      OSS is, on average, of HIGHER quality than pro...  Employed full-time   \n3      The quality of OSS and closed source software ...  Employed full-time   \n4      The quality of OSS and closed source software ...  Employed full-time   \n...                                                  ...                 ...   \n11547  OSS is, on average, of HIGHER quality than pro...  Employed full-time   \n11548  The quality of OSS and closed source software ...  Employed full-time   \n11549  The quality of OSS and closed source software ...  Employed full-time   \n11550  OSS is, on average, of LOWER quality than prop...  Employed full-time   \n11551  OSS is, on average, of HIGHER quality than pro...  Employed full-time   \n\n              Country Student  \\\n0       United States      No   \n1         New Zealand      No   \n2       United States      No   \n3      United Kingdom      No   \n4           Australia      No   \n...               ...     ...   \n11547   United States      No   \n11548          Poland      No   \n11549   United States      No   \n11550     Switzerland      No   \n11551  United Kingdom      No   \n\n                                                 EdLevel  \\\n0               Bachelor’s degree (BA, BS, B.Eng., etc.)   \n1      Some college/university study without earning ...   \n2            Master’s degree (MA, MS, M.Eng., MBA, etc.)   \n3            Master’s degree (MA, MS, M.Eng., MBA, etc.)   \n4               Bachelor’s degree (BA, BS, B.Eng., etc.)   \n...                                                  ...   \n11547        Master’s degree (MA, MS, M.Eng., MBA, etc.)   \n11548        Master’s degree (MA, MS, M.Eng., MBA, etc.)   \n11549        Master’s degree (MA, MS, M.Eng., MBA, etc.)   \n11550  Secondary school (e.g. American high school, G...   \n11551          Other doctoral degree (Ph.D, Ed.D., etc.)   \n\n                                          UndergradMajor  ...  \\\n0      Computer science, computer engineering, or sof...  ...   \n1      Computer science, computer engineering, or sof...  ...   \n2      Computer science, computer engineering, or sof...  ...   \n3                                                    NaN  ...   \n4      Computer science, computer engineering, or sof...  ...   \n...                                                  ...  ...   \n11547  Computer science, computer engineering, or sof...  ...   \n11548  Computer science, computer engineering, or sof...  ...   \n11549  Computer science, computer engineering, or sof...  ...   \n11550                                                NaN  ...   \n11551  A natural science (ex. biology, chemistry, phy...  ...   \n\n                                  WelcomeChange  \\\n0       Just as welcome now as I felt last year   \n1       Just as welcome now as I felt last year   \n2      Somewhat more welcome now than last year   \n3       Just as welcome now as I felt last year   \n4       Just as welcome now as I felt last year   \n...                                         ...   \n11547   Just as welcome now as I felt last year   \n11548     A lot more welcome now than last year   \n11549     A lot more welcome now than last year   \n11550  Somewhat less welcome now than last year   \n11551   Just as welcome now as I felt last year   \n\n                                            SONewContent   Age Gender Trans  \\\n0      Tech articles written by other developers;Indu...  22.0    Man    No   \n1                                                    NaN  23.0    Man    No   \n2      Tech articles written by other developers;Cour...  28.0    Man    No   \n3      Tech articles written by other developers;Indu...  26.0    Man    No   \n4      Tech articles written by other developers;Indu...  29.0    Man    No   \n...                                                  ...   ...    ...   ...   \n11547  Tech articles written by other developers;Cour...  36.0    Man    No   \n11548  Tech articles written by other developers;Tech...  25.0    Man    No   \n11549  Tech articles written by other developers;Indu...  34.0    Man    No   \n11550                                                NaN  25.0    Man    No   \n11551  Tech articles written by other developers;Tech...  30.0    Man    No   \n\n                     Sexuality                              Ethnicity  \\\n0      Straight / Heterosexual           White or of European descent   \n1                     Bisexual           White or of European descent   \n2      Straight / Heterosexual           White or of European descent   \n3      Straight / Heterosexual           White or of European descent   \n4      Straight / Heterosexual  Hispanic or Latino/Latina;Multiracial   \n...                        ...                                    ...   \n11547  Straight / Heterosexual           White or of European descent   \n11548  Straight / Heterosexual           White or of European descent   \n11549  Straight / Heterosexual           White or of European descent   \n11550  Straight / Heterosexual           White or of European descent   \n11551                 Bisexual           White or of European descent   \n\n      Dependents           SurveyLength                  SurveyEase  \n0             No  Appropriate in length                        Easy  \n1             No  Appropriate in length  Neither easy nor difficult  \n2            Yes  Appropriate in length                        Easy  \n3             No  Appropriate in length  Neither easy nor difficult  \n4             No  Appropriate in length                        Easy  \n...          ...                    ...                         ...  \n11547         No  Appropriate in length                   Difficult  \n11548         No  Appropriate in length  Neither easy nor difficult  \n11549        Yes               Too long                        Easy  \n11550         No  Appropriate in length                        Easy  \n11551         No  Appropriate in length                        Easy  \n\n[11552 rows x 85 columns]",
            "text/html": "<div>\n<style scoped>\n    .dataframe tbody tr th:only-of-type {\n        vertical-align: middle;\n    }\n\n    .dataframe tbody tr th {\n        vertical-align: top;\n    }\n\n    .dataframe thead th {\n        text-align: right;\n    }\n</style>\n<table border=\"1\" class=\"dataframe\">\n  <thead>\n    <tr style=\"text-align: right;\">\n      <th></th>\n      <th>Respondent</th>\n      <th>MainBranch</th>\n      <th>Hobbyist</th>\n      <th>OpenSourcer</th>\n      <th>OpenSource</th>\n      <th>Employment</th>\n      <th>Country</th>\n      <th>Student</th>\n      <th>EdLevel</th>\n      <th>UndergradMajor</th>\n      <th>...</th>\n      <th>WelcomeChange</th>\n      <th>SONewContent</th>\n      <th>Age</th>\n      <th>Gender</th>\n      <th>Trans</th>\n      <th>Sexuality</th>\n      <th>Ethnicity</th>\n      <th>Dependents</th>\n      <th>SurveyLength</th>\n      <th>SurveyEase</th>\n    </tr>\n  </thead>\n  <tbody>\n    <tr>\n      <th>0</th>\n      <td>4</td>\n      <td>I am a developer by profession</td>\n      <td>No</td>\n      <td>Never</td>\n      <td>The quality of OSS and closed source software ...</td>\n      <td>Employed full-time</td>\n      <td>United States</td>\n      <td>No</td>\n      <td>Bachelor’s degree (BA, BS, B.Eng., etc.)</td>\n      <td>Computer science, computer engineering, or sof...</td>\n      <td>...</td>\n      <td>Just as welcome now as I felt last year</td>\n      <td>Tech articles written by other developers;Indu...</td>\n      <td>22.0</td>\n      <td>Man</td>\n      <td>No</td>\n      <td>Straight / Heterosexual</td>\n      <td>White or of European descent</td>\n      <td>No</td>\n      <td>Appropriate in length</td>\n      <td>Easy</td>\n    </tr>\n    <tr>\n      <th>1</th>\n      <td>9</td>\n      <td>I am a developer by profession</td>\n      <td>Yes</td>\n      <td>Once a month or more often</td>\n      <td>The quality of OSS and closed source software ...</td>\n      <td>Employed full-time</td>\n      <td>New Zealand</td>\n      <td>No</td>\n      <td>Some college/university study without earning ...</td>\n      <td>Computer science, computer engineering, or sof...</td>\n      <td>...</td>\n      <td>Just as welcome now as I felt last year</td>\n      <td>NaN</td>\n      <td>23.0</td>\n      <td>Man</td>\n      <td>No</td>\n      <td>Bisexual</td>\n      <td>White or of European descent</td>\n      <td>No</td>\n      <td>Appropriate in length</td>\n      <td>Neither easy nor difficult</td>\n    </tr>\n    <tr>\n      <th>2</th>\n      <td>13</td>\n      <td>I am a developer by profession</td>\n      <td>Yes</td>\n      <td>Less than once a month but more than once per ...</td>\n      <td>OSS is, on average, of HIGHER quality than pro...</td>\n      <td>Employed full-time</td>\n      <td>United States</td>\n      <td>No</td>\n      <td>Master’s degree (MA, MS, M.Eng., MBA, etc.)</td>\n      <td>Computer science, computer engineering, or sof...</td>\n      <td>...</td>\n      <td>Somewhat more welcome now than last year</td>\n      <td>Tech articles written by other developers;Cour...</td>\n      <td>28.0</td>\n      <td>Man</td>\n      <td>No</td>\n      <td>Straight / Heterosexual</td>\n      <td>White or of European descent</td>\n      <td>Yes</td>\n      <td>Appropriate in length</td>\n      <td>Easy</td>\n    </tr>\n    <tr>\n      <th>3</th>\n      <td>16</td>\n      <td>I am a developer by profession</td>\n      <td>Yes</td>\n      <td>Never</td>\n      <td>The quality of OSS and closed source software ...</td>\n      <td>Employed full-time</td>\n      <td>United Kingdom</td>\n      <td>No</td>\n      <td>Master’s degree (MA, MS, M.Eng., MBA, etc.)</td>\n      <td>NaN</td>\n      <td>...</td>\n      <td>Just as welcome now as I felt last year</td>\n      <td>Tech articles written by other developers;Indu...</td>\n      <td>26.0</td>\n      <td>Man</td>\n      <td>No</td>\n      <td>Straight / Heterosexual</td>\n      <td>White or of European descent</td>\n      <td>No</td>\n      <td>Appropriate in length</td>\n      <td>Neither easy nor difficult</td>\n    </tr>\n    <tr>\n      <th>4</th>\n      <td>17</td>\n      <td>I am a developer by profession</td>\n      <td>Yes</td>\n      <td>Less than once a month but more than once per ...</td>\n      <td>The quality of OSS and closed source software ...</td>\n      <td>Employed full-time</td>\n      <td>Australia</td>\n      <td>No</td>\n      <td>Bachelor’s degree (BA, BS, B.Eng., etc.)</td>\n      <td>Computer science, computer engineering, or sof...</td>\n      <td>...</td>\n      <td>Just as welcome now as I felt last year</td>\n      <td>Tech articles written by other developers;Indu...</td>\n      <td>29.0</td>\n      <td>Man</td>\n      <td>No</td>\n      <td>Straight / Heterosexual</td>\n      <td>Hispanic or Latino/Latina;Multiracial</td>\n      <td>No</td>\n      <td>Appropriate in length</td>\n      <td>Easy</td>\n    </tr>\n    <tr>\n      <th>...</th>\n      <td>...</td>\n      <td>...</td>\n      <td>...</td>\n      <td>...</td>\n      <td>...</td>\n      <td>...</td>\n      <td>...</td>\n      <td>...</td>\n      <td>...</td>\n      <td>...</td>\n      <td>...</td>\n      <td>...</td>\n      <td>...</td>\n      <td>...</td>\n      <td>...</td>\n      <td>...</td>\n      <td>...</td>\n      <td>...</td>\n      <td>...</td>\n      <td>...</td>\n      <td>...</td>\n    </tr>\n    <tr>\n      <th>11547</th>\n      <td>25136</td>\n      <td>I am a developer by profession</td>\n      <td>Yes</td>\n      <td>Never</td>\n      <td>OSS is, on average, of HIGHER quality than pro...</td>\n      <td>Employed full-time</td>\n      <td>United States</td>\n      <td>No</td>\n      <td>Master’s degree (MA, MS, M.Eng., MBA, etc.)</td>\n      <td>Computer science, computer engineering, or sof...</td>\n      <td>...</td>\n      <td>Just as welcome now as I felt last year</td>\n      <td>Tech articles written by other developers;Cour...</td>\n      <td>36.0</td>\n      <td>Man</td>\n      <td>No</td>\n      <td>Straight / Heterosexual</td>\n      <td>White or of European descent</td>\n      <td>No</td>\n      <td>Appropriate in length</td>\n      <td>Difficult</td>\n    </tr>\n    <tr>\n      <th>11548</th>\n      <td>25137</td>\n      <td>I am a developer by profession</td>\n      <td>Yes</td>\n      <td>Never</td>\n      <td>The quality of OSS and closed source software ...</td>\n      <td>Employed full-time</td>\n      <td>Poland</td>\n      <td>No</td>\n      <td>Master’s degree (MA, MS, M.Eng., MBA, etc.)</td>\n      <td>Computer science, computer engineering, or sof...</td>\n      <td>...</td>\n      <td>A lot more welcome now than last year</td>\n      <td>Tech articles written by other developers;Tech...</td>\n      <td>25.0</td>\n      <td>Man</td>\n      <td>No</td>\n      <td>Straight / Heterosexual</td>\n      <td>White or of European descent</td>\n      <td>No</td>\n      <td>Appropriate in length</td>\n      <td>Neither easy nor difficult</td>\n    </tr>\n    <tr>\n      <th>11549</th>\n      <td>25138</td>\n      <td>I am a developer by profession</td>\n      <td>Yes</td>\n      <td>Less than once per year</td>\n      <td>The quality of OSS and closed source software ...</td>\n      <td>Employed full-time</td>\n      <td>United States</td>\n      <td>No</td>\n      <td>Master’s degree (MA, MS, M.Eng., MBA, etc.)</td>\n      <td>Computer science, computer engineering, or sof...</td>\n      <td>...</td>\n      <td>A lot more welcome now than last year</td>\n      <td>Tech articles written by other developers;Indu...</td>\n      <td>34.0</td>\n      <td>Man</td>\n      <td>No</td>\n      <td>Straight / Heterosexual</td>\n      <td>White or of European descent</td>\n      <td>Yes</td>\n      <td>Too long</td>\n      <td>Easy</td>\n    </tr>\n    <tr>\n      <th>11550</th>\n      <td>25141</td>\n      <td>I am a developer by profession</td>\n      <td>Yes</td>\n      <td>Less than once a month but more than once per ...</td>\n      <td>OSS is, on average, of LOWER quality than prop...</td>\n      <td>Employed full-time</td>\n      <td>Switzerland</td>\n      <td>No</td>\n      <td>Secondary school (e.g. American high school, G...</td>\n      <td>NaN</td>\n      <td>...</td>\n      <td>Somewhat less welcome now than last year</td>\n      <td>NaN</td>\n      <td>25.0</td>\n      <td>Man</td>\n      <td>No</td>\n      <td>Straight / Heterosexual</td>\n      <td>White or of European descent</td>\n      <td>No</td>\n      <td>Appropriate in length</td>\n      <td>Easy</td>\n    </tr>\n    <tr>\n      <th>11551</th>\n      <td>25142</td>\n      <td>I am a developer by profession</td>\n      <td>Yes</td>\n      <td>Less than once a month but more than once per ...</td>\n      <td>OSS is, on average, of HIGHER quality than pro...</td>\n      <td>Employed full-time</td>\n      <td>United Kingdom</td>\n      <td>No</td>\n      <td>Other doctoral degree (Ph.D, Ed.D., etc.)</td>\n      <td>A natural science (ex. biology, chemistry, phy...</td>\n      <td>...</td>\n      <td>Just as welcome now as I felt last year</td>\n      <td>Tech articles written by other developers;Tech...</td>\n      <td>30.0</td>\n      <td>Man</td>\n      <td>No</td>\n      <td>Bisexual</td>\n      <td>White or of European descent</td>\n      <td>No</td>\n      <td>Appropriate in length</td>\n      <td>Easy</td>\n    </tr>\n  </tbody>\n</table>\n<p>11552 rows × 85 columns</p>\n</div>"
          },
          "metadata": {}
        }
      ],
      "execution_count": 6
    },
    {
      "cell_type": "code",
      "source": "#\n# Finding duplicates\n# In this section you will identify duplicate values in the dataset.\n#\n# 尋找重複項 # 在本節中，您將識別資料集中的重複值。\n#\n# Find how many duplicate rows exist in the dataframe.\n#\n# your code goes here\n\nprint('There are', df.duplicated().sum(), 'duplicate rows.')\nprint('There are', df.duplicated('Respondent').sum(), 'duplicate Respondants.')",
      "metadata": {
        "trusted": true
      },
      "outputs": [
        {
          "name": "stdout",
          "text": "There are 154 duplicate rows.\nThere are 154 duplicate Respondants.\n",
          "output_type": "stream"
        }
      ],
      "execution_count": 7
    },
    {
      "cell_type": "code",
      "source": "#\n# Removing duplicates\n# Remove the duplicate rows from the dataframe.\n# 從資料框中刪除重複的行。\n\n# your code goes here\n\ndf.drop_duplicates(inplace=True)\ndf.shape",
      "metadata": {
        "trusted": true
      },
      "outputs": [
        {
          "execution_count": 8,
          "output_type": "execute_result",
          "data": {
            "text/plain": "(11398, 85)"
          },
          "metadata": {}
        }
      ],
      "execution_count": 8
    },
    {
      "cell_type": "code",
      "source": "#\n# Verify if duplicates were actually dropped.\n#\n\n# your code goes here\n\nprint('There are now', df.duplicated().sum(), 'duplicate rows.')\nprint('There are', df.duplicated('Respondent').sum(), 'duplicate Respondants.')",
      "metadata": {
        "trusted": true
      },
      "outputs": [
        {
          "name": "stdout",
          "text": "There are now 0 duplicate rows.\nThere are 0 duplicate Respondants.\n",
          "output_type": "stream"
        }
      ],
      "execution_count": 9
    },
    {
      "cell_type": "code",
      "source": "#\n# Finding Missing values\n# Find the missing values for all columns.\n# 尋找所有列的缺失值。 \n\n# your code goes here\n\nwith pd.option_context('display.max_rows', None, 'display.max_columns', None):\n    print(df.isnull().sum())",
      "metadata": {
        "trusted": true
      },
      "outputs": [
        {
          "name": "stdout",
          "text": "Respondent                   0\nMainBranch                   0\nHobbyist                     0\nOpenSourcer                  0\nOpenSource                  81\nEmployment                   0\nCountry                      0\nStudent                     51\nEdLevel                    112\nUndergradMajor             737\nEduOther                   164\nOrgSize                     96\nDevType                     65\nYearsCode                    9\nAge1stCode                  13\nYearsCodePro                16\nCareerSat                    0\nJobSat                       1\nMgrIdiot                   493\nMgrMoney                   497\nMgrWant                    493\nJobSeek                      0\nLastHireDate                 0\nLastInt                    413\nFizzBuzz                    37\nJobFactors                   3\nResumeUpdate                39\nCurrencySymbol               0\nCurrencyDesc                 0\nCompTotal                  809\nCompFreq                   206\nConvertedComp              816\nWorkWeekHrs                122\nWorkPlan                   121\nWorkChallenge              164\nWorkRemote                   8\nWorkLoc                     32\nImpSyn                       5\nCodeRev                      1\nCodeRevHrs                2426\nUnitTests                   29\nPurchaseHow                196\nPurchaseWhat                38\nLanguageWorkedWith          11\nLanguageDesireNextYear     134\nDatabaseWorkedWith         453\nDatabaseDesireNextYear    1042\nPlatformWorkedWith         411\nPlatformDesireNextYear     544\nWebFrameWorkedWith        1393\nWebFrameDesireNextYear    1617\nMiscTechWorkedWith        2182\nMiscTechDesireNextYear    1455\nDevEnviron                  29\nOpSys                       34\nContainers                  82\nBlockchainOrg             2322\nBlockchainIs              2610\nBetterLife                  98\nITperson                    35\nOffOn                       38\nSocialMedia                293\nExtraversion                20\nScreenName                 507\nSOVisit1st                 325\nSOVisitFreq                  5\nSOVisitTo                    1\nSOFindAnswer                 3\nSOTimeSaved                 50\nSOHowMuchTime             1917\nSOAccount                    1\nSOPartFreq                1128\nSOJobs                       6\nEntTeams                     5\nSOComm                       0\nWelcomeChange               85\nSONewContent              1965\nAge                        287\nGender                      73\nTrans                      123\nSexuality                  542\nEthnicity                  675\nDependents                 140\nSurveyLength                19\nSurveyEase                  14\ndtype: int64\n",
          "output_type": "stream"
        }
      ],
      "execution_count": 10
    },
    {
      "cell_type": "code",
      "source": "#\n# Find out how many rows are missing in the column 'WorkLoc'\n#\n\n# your code goes here\n\nprint(\"There are\", df['WorkLoc'].isnull().sum(), \"missing values in the column 'WorkLoc'\")\nprint(\"There are\", df['EdLevel'].isnull().sum(), \"missing values in the column 'EdLevel'\")\nprint(\"There are\", df['Country'].isnull().sum(), \"missing values in the column 'Country'\")",
      "metadata": {
        "trusted": true
      },
      "outputs": [
        {
          "name": "stdout",
          "text": "There are 32 missing values in the column 'WorkLoc'\nThere are 112 missing values in the column 'EdLevel'\nThere are 0 missing values in the column 'Country'\n",
          "output_type": "stream"
        }
      ],
      "execution_count": 11
    },
    {
      "cell_type": "code",
      "source": "#\n# Imputing missing values\n# Find the value counts for the column WorkLoc.\n# 找 WorkLoc 列的值計數。\n\n# your code goes here\n\nprint('There are', df['WorkLoc'].nunique(), 'unique Work Locations in the survey:')\n\nprint('\\nWorkLoc                                    value count')      \nprint('-------                                    -----------')\nprint(df['WorkLoc'].value_counts())\n\nprint('\\n\\nThere are', df['Employment'].nunique(), 'unique Employment values in the survey:')\n\nprint('\\nEmployment        value count')      \nprint('----------        -----------')\nprint(df['Employment'].value_counts())\n\nprint('\\n\\nThere are', df['UndergradMajor'].nunique(), 'unique UndergradMajor values in the survey:')\n\nprint('\\nUndergradMajor        value count')      \nprint('---------------        -----------')\nprint(df['UndergradMajor'].value_counts())",
      "metadata": {
        "trusted": true
      },
      "outputs": [
        {
          "name": "stdout",
          "text": "There are 3 unique Work Locations in the survey:\n\nWorkLoc                                    value count\n-------                                    -----------\nWorkLoc\nOffice                                            6806\nHome                                              3589\nOther place, such as a coworking space or cafe     971\nName: count, dtype: int64\n\n\nThere are 2 unique Employment values in the survey:\n\nEmployment        value count\n----------        -----------\nEmployment\nEmployed full-time    10968\nEmployed part-time      430\nName: count, dtype: int64\n\n\nThere are 12 unique UndergradMajor values in the survey:\n\nUndergradMajor        value count\n---------------        -----------\nUndergradMajor\nComputer science, computer engineering, or software engineering          6953\nInformation systems, information technology, or system administration     794\nAnother engineering discipline (ex. civil, electrical, mechanical)        759\nWeb development or web design                                             410\nA natural science (ex. biology, chemistry, physics)                       403\nMathematics or statistics                                                 372\nA business discipline (ex. accounting, finance, marketing)                244\nA social science (ex. anthropology, psychology, political science)        210\nA humanities discipline (ex. literature, history, philosophy)             207\nFine arts or performing arts (ex. graphic design, music, studio art)      161\nI never declared a major                                                  124\nA health science (ex. nursing, pharmacy, radiology)                        24\nName: count, dtype: int64\n",
          "output_type": "stream"
        }
      ],
      "execution_count": 12
    },
    {
      "cell_type": "code",
      "source": "#\n# Identify the value that is most frequent (majority) in the WorkLoc column.\n# 決定 WorkLoc 欄中最常見（多數）的值。\n\n#make a note of the majority value here, for future reference\n#\n\nprint(df['ConvertedComp'].mean())\nprint(df['ConvertedComp'].median())",
      "metadata": {
        "trusted": true
      },
      "outputs": [
        {
          "name": "stdout",
          "text": "131596.7316197316\n57745.0\n",
          "output_type": "stream"
        }
      ],
      "execution_count": 13
    },
    {
      "cell_type": "code",
      "source": "#\n# Impute (replace) all the empty rows in the column WorkLoc with the value that you have identified as majority.\n#\n# 將 WorkLoc 欄位中的所有空白行插補（取代）為您確定為多數的值。\n\n# your code goes here\n\nimport numpy as np\n\nworkloc_highest = 'Office'\n\nmissing_data = df.isnull()\n#print(missing_data.head(5))\n\nprint('\\nValue counts for missing data in WorkLoc:\\n')\nprint( missing_data['WorkLoc'].value_counts())\n\n\nprint('\\nHere are the first 10 rows missing values for WorkLoc:')\nprint(df[missing_data['WorkLoc']][['Respondent','WorkLoc']].head(10))\n\ndf['WorkLoc'].replace(np.nan, workloc_highest, inplace=True)\n",
      "metadata": {
        "trusted": true
      },
      "outputs": [
        {
          "name": "stdout",
          "text": "\nValue counts for missing data in WorkLoc:\n\nWorkLoc\nFalse    11366\nTrue        32\nName: count, dtype: int64\n\nHere are the first 10 rows missing values for WorkLoc:\n      Respondent WorkLoc\n130          285     NaN\n242          550     NaN\n866         1847     NaN\n1455        2826     NaN\n1753        3536     NaN\n2339        4768     NaN\n2689        5562     NaN\n2788        5769     NaN\n3165        6613     NaN\n3213        6721     NaN\n",
          "output_type": "stream"
        },
        {
          "name": "stderr",
          "text": "<ipython-input-14-6bcb4f144b5e>:22: FutureWarning: A value is trying to be set on a copy of a DataFrame or Series through chained assignment using an inplace method.\nThe behavior will change in pandas 3.0. This inplace method will never work because the intermediate object on which we are setting values always behaves as a copy.\n\nFor example, when doing 'df[col].method(value, inplace=True)', try using 'df.method({col: value}, inplace=True)' or df[col] = df[col].method(value) instead, to perform the operation inplace on the original object.\n\n\n  df['WorkLoc'].replace(np.nan, workloc_highest, inplace=True)\n",
          "output_type": "stream"
        }
      ],
      "execution_count": 14
    },
    {
      "cell_type": "code",
      "source": "#\n# After imputation there should ideally not be any empty rows in the WorkLoc column.\n#\n# 理想情況下，插補後 WorkLoc 欄位不應有任何空白行。\n#\n# Verify if imputing was successful.\n#\n\n# your code goes here\n\nprint('\\nNew value counts for missing data in WorkLoc:\\n')\nprint(missing_data['WorkLoc'].value_counts())\n# No 'True' values means that we have eliminated all empty WorkLoc values.",
      "metadata": {
        "trusted": true
      },
      "outputs": [
        {
          "name": "stdout",
          "text": "\nNew value counts for missing data in WorkLoc:\n\nWorkLoc\nFalse    11366\nTrue        32\nName: count, dtype: int64\n",
          "output_type": "stream"
        }
      ],
      "execution_count": 15
    },
    {
      "cell_type": "code",
      "source": "#\n# Normalizing data¶\n# 標準化數據\n\n# There are two columns in the dataset that talk about compensation.\n# One is \"CompFreq\". This column shows how often a developer is paid (Yearly, Monthly, Weekly).\n# The other is \"CompTotal\". This column talks about how much the developer is paid per Year, Month, or Week depending upon his/her \"CompFreq\".\n# This makes it difficult to compare the total compensation of the developers.\n# In this section you will create a new column called 'NormalizedAnnualCompensation' which contains the 'Annual Compensation' irrespective of the 'CompFreq'.\n# Once this column is ready, it makes comparison of salaries easy.\n# \n\n# List out the various categories in the column 'CompFreq'\n#\n# your code goes here\n\nprint(df['CompFreq'].value_counts())",
      "metadata": {
        "trusted": true
      },
      "outputs": [
        {
          "name": "stdout",
          "text": "CompFreq\nYearly     6073\nMonthly    4788\nWeekly      331\nName: count, dtype: int64\n",
          "output_type": "stream"
        }
      ],
      "execution_count": 16
    },
    {
      "cell_type": "code",
      "source": "# Create a new column named 'NormalizedAnnualCompensation'. Use the hint given below if needed.\n#\n# 建立一個名為「NormalizedAnnualCompensation」的新欄位。如果需要，請使用下面給出的提示。\n#\n# Double click to see the Hint.\n#\n\n# your code goes here\n\n# <!--\n#\n# Use the below logic to arrive at the values for the column NormalizedAnnualCompensation.\n# \n# If the CompFreq is Yearly then use the exising value in CompTotal\n# If the CompFreq is Monthly then multiply the value in CompTotal with 12 (months in an year)\n# If the CompFreq is Weekly then multiply the value in CompTotal with 52 (weeks in an year)\n# \n# -->\n\ndf.loc[df['CompFreq'] == 'Yearly', 'NormalizedAnnualCompensation']  = 1  * df['CompTotal']\ndf.loc[df['CompFreq'] == 'Monthly', 'NormalizedAnnualCompensation'] = 12 * df['CompTotal']\ndf.loc[df['CompFreq'] == 'Weekly', 'NormalizedAnnualCompensation']  = 52 * df['CompTotal']\n\n\ndf[['CompTotal','CompFreq','NormalizedAnnualCompensation']].head(20)\n\ndf['NormalizedAnnualCompensation'].median()\n",
      "metadata": {
        "trusted": true
      },
      "outputs": [
        {
          "execution_count": 17,
          "output_type": "execute_result",
          "data": {
            "text/plain": "100000.0"
          },
          "metadata": {}
        }
      ],
      "execution_count": 17
    },
    {
      "cell_type": "code",
      "source": "df[['CompTotal','CompFreq','NormalizedAnnualCompensation']].head(20)\n",
      "metadata": {
        "trusted": true
      },
      "outputs": [
        {
          "execution_count": 18,
          "output_type": "execute_result",
          "data": {
            "text/plain": "    CompTotal CompFreq  NormalizedAnnualCompensation\n0     61000.0   Yearly                       61000.0\n1    138000.0   Yearly                      138000.0\n2     90000.0   Yearly                       90000.0\n3     29000.0  Monthly                      348000.0\n4     90000.0   Yearly                       90000.0\n5      9500.0  Monthly                      114000.0\n6      3000.0  Monthly                       36000.0\n7    103000.0   Yearly                      103000.0\n8     69000.0   Yearly                       69000.0\n9      8000.0  Monthly                       96000.0\n10     7000.0  Monthly                       84000.0\n11   114000.0   Yearly                      114000.0\n12     2000.0   Weekly                      104000.0\n13    22000.0   Weekly                     1144000.0\n14    96000.0  Monthly                     1152000.0\n15   156000.0   Yearly                      156000.0\n16    18000.0   Yearly                       18000.0\n17     6400.0  Monthly                       76800.0\n18     5000.0  Monthly                       60000.0\n19   400000.0   Yearly                      400000.0",
            "text/html": "<div>\n<style scoped>\n    .dataframe tbody tr th:only-of-type {\n        vertical-align: middle;\n    }\n\n    .dataframe tbody tr th {\n        vertical-align: top;\n    }\n\n    .dataframe thead th {\n        text-align: right;\n    }\n</style>\n<table border=\"1\" class=\"dataframe\">\n  <thead>\n    <tr style=\"text-align: right;\">\n      <th></th>\n      <th>CompTotal</th>\n      <th>CompFreq</th>\n      <th>NormalizedAnnualCompensation</th>\n    </tr>\n  </thead>\n  <tbody>\n    <tr>\n      <th>0</th>\n      <td>61000.0</td>\n      <td>Yearly</td>\n      <td>61000.0</td>\n    </tr>\n    <tr>\n      <th>1</th>\n      <td>138000.0</td>\n      <td>Yearly</td>\n      <td>138000.0</td>\n    </tr>\n    <tr>\n      <th>2</th>\n      <td>90000.0</td>\n      <td>Yearly</td>\n      <td>90000.0</td>\n    </tr>\n    <tr>\n      <th>3</th>\n      <td>29000.0</td>\n      <td>Monthly</td>\n      <td>348000.0</td>\n    </tr>\n    <tr>\n      <th>4</th>\n      <td>90000.0</td>\n      <td>Yearly</td>\n      <td>90000.0</td>\n    </tr>\n    <tr>\n      <th>5</th>\n      <td>9500.0</td>\n      <td>Monthly</td>\n      <td>114000.0</td>\n    </tr>\n    <tr>\n      <th>6</th>\n      <td>3000.0</td>\n      <td>Monthly</td>\n      <td>36000.0</td>\n    </tr>\n    <tr>\n      <th>7</th>\n      <td>103000.0</td>\n      <td>Yearly</td>\n      <td>103000.0</td>\n    </tr>\n    <tr>\n      <th>8</th>\n      <td>69000.0</td>\n      <td>Yearly</td>\n      <td>69000.0</td>\n    </tr>\n    <tr>\n      <th>9</th>\n      <td>8000.0</td>\n      <td>Monthly</td>\n      <td>96000.0</td>\n    </tr>\n    <tr>\n      <th>10</th>\n      <td>7000.0</td>\n      <td>Monthly</td>\n      <td>84000.0</td>\n    </tr>\n    <tr>\n      <th>11</th>\n      <td>114000.0</td>\n      <td>Yearly</td>\n      <td>114000.0</td>\n    </tr>\n    <tr>\n      <th>12</th>\n      <td>2000.0</td>\n      <td>Weekly</td>\n      <td>104000.0</td>\n    </tr>\n    <tr>\n      <th>13</th>\n      <td>22000.0</td>\n      <td>Weekly</td>\n      <td>1144000.0</td>\n    </tr>\n    <tr>\n      <th>14</th>\n      <td>96000.0</td>\n      <td>Monthly</td>\n      <td>1152000.0</td>\n    </tr>\n    <tr>\n      <th>15</th>\n      <td>156000.0</td>\n      <td>Yearly</td>\n      <td>156000.0</td>\n    </tr>\n    <tr>\n      <th>16</th>\n      <td>18000.0</td>\n      <td>Yearly</td>\n      <td>18000.0</td>\n    </tr>\n    <tr>\n      <th>17</th>\n      <td>6400.0</td>\n      <td>Monthly</td>\n      <td>76800.0</td>\n    </tr>\n    <tr>\n      <th>18</th>\n      <td>5000.0</td>\n      <td>Monthly</td>\n      <td>60000.0</td>\n    </tr>\n    <tr>\n      <th>19</th>\n      <td>400000.0</td>\n      <td>Yearly</td>\n      <td>400000.0</td>\n    </tr>\n  </tbody>\n</table>\n</div>"
          },
          "metadata": {}
        }
      ],
      "execution_count": 18
    },
    {
      "cell_type": "code",
      "source": "df['NormalizedAnnualCompensation'].median()",
      "metadata": {
        "trusted": true
      },
      "outputs": [
        {
          "execution_count": 19,
          "output_type": "execute_result",
          "data": {
            "text/plain": "100000.0"
          },
          "metadata": {}
        }
      ],
      "execution_count": 19
    },
    {
      "cell_type": "code",
      "source": "",
      "metadata": {
        "trusted": true
      },
      "outputs": [],
      "execution_count": null
    },
    {
      "cell_type": "code",
      "source": "",
      "metadata": {
        "trusted": true
      },
      "outputs": [],
      "execution_count": null
    },
    {
      "cell_type": "code",
      "source": "",
      "metadata": {
        "trusted": true
      },
      "outputs": [],
      "execution_count": null
    },
    {
      "cell_type": "code",
      "source": "",
      "metadata": {
        "trusted": true
      },
      "outputs": [],
      "execution_count": null
    }
  ]
}