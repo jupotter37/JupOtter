{
 "cells": [
  {
   "cell_type": "code",
   "execution_count": 1,
   "metadata": {},
   "outputs": [],
   "source": [
    "import pandas as pd\n",
    "from sklearn.feature_extraction.text import TfidfVectorizer\n",
    "from sklearn.metrics.pairwise import cosine_similarity\n"
   ]
  },
  {
   "cell_type": "code",
   "execution_count": 2,
   "metadata": {},
   "outputs": [],
   "source": [
    "\n",
    "# Load the data from a CSV file\n",
    "data = pd.read_csv('quotes_database.csv')"
   ]
  },
  {
   "cell_type": "code",
   "execution_count": 4,
   "metadata": {},
   "outputs": [],
   "source": [
    "\n",
    "# Create a TF-IDF vectorizer to convert quotes into numerical vectors\n",
    "tfidf_vectorizer = TfidfVectorizer()\n",
    "\n",
    "# Convert the quotes into TF-IDF vectors\n",
    "tfidf_matrix = tfidf_vectorizer.fit_transform(data['Quotes'])\n",
    "\n",
    "# Compute the cosine similarity between all pairs of quotes\n",
    "cosine_sim = cosine_similarity(tfidf_matrix)"
   ]
  },
  {
   "cell_type": "code",
   "execution_count": 7,
   "metadata": {},
   "outputs": [],
   "source": [
    "# Define a function that takes a quote and category as input and returns the top 5 most similar quotes\n",
    "def recommend_quotes(quote, category):\n",
    "    # Find the index of the input quote in the data\n",
    "    quote_index = data[data['Quotes'] == quote].index[0]\n",
    "    \n",
    "    # Find all quotes that belong to the same category as the input quote\n",
    "    same_category_quotes = data[data['Category'] == category]\n",
    "    \n",
    "    # Compute the cosine similarity between the input quote and all quotes in the same category\n",
    "    cosine_scores = cosine_sim[quote_index][same_category_quotes.index]\n",
    "    \n",
    "    # Sort the quotes by their cosine similarity to the input quote\n",
    "    sorted_quotes = same_category_quotes.loc[same_category_quotes.index[cosine_scores.argsort()[::-1]]]\n",
    "    \n",
    "    # Return the top 5 most similar quotes\n",
    "    return sorted_quotes['Quotes'].head(5)\n"
   ]
  },
  {
   "cell_type": "code",
   "execution_count": 32,
   "metadata": {},
   "outputs": [
    {
     "name": "stdout",
     "output_type": "stream",
     "text": [
      "Data Scientist (n.): Person who is better at statistics than any software engineer and better at software engineering than any statistician.\n"
     ]
    },
    {
     "data": {
      "text/plain": [
       "list"
      ]
     },
     "execution_count": 32,
     "metadata": {},
     "output_type": "execute_result"
    }
   ],
   "source": [
    "recommended_quotes = recommend_quotes(\"Data Scientist (n.): Person who is better at statistics than any software engineer and better at software engineering than any statistician.\", \"DS\")\n",
    "recommended_authors = []\n",
    "for i in recommended_quotes:\n",
    "    recommended_authors.append(data.iloc[(data[data[\"Quotes\"] == i].index.values)][\"Author\"].item())\n",
    "\n",
    "print(recommended_quotes.values[0])\n",
    "type(recommended_quotes)\n",
    "\n",
    "type(recommended_authors)\n"
   ]
  }
 ],
 "metadata": {
  "kernelspec": {
   "display_name": "Python 3",
   "language": "python",
   "name": "python3"
  },
  "language_info": {
   "codemirror_mode": {
    "name": "ipython",
    "version": 3
   },
   "file_extension": ".py",
   "mimetype": "text/x-python",
   "name": "python",
   "nbconvert_exporter": "python",
   "pygments_lexer": "ipython3",
   "version": "3.10.7 (tags/v3.10.7:6cc6b13, Sep  5 2022, 14:08:36) [MSC v.1933 64 bit (AMD64)]"
  },
  "orig_nbformat": 4,
  "vscode": {
   "interpreter": {
    "hash": "7d3132c63595c5bd9835a7d3d4e82d2178644ed42d28c98d306a1f36334182b0"
   }
  }
 },
 "nbformat": 4,
 "nbformat_minor": 2
}
