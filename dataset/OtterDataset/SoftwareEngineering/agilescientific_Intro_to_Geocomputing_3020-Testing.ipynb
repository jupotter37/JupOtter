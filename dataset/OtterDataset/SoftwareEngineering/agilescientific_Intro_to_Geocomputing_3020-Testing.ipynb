{
 "cells": [
  {
   "cell_type": "markdown",
   "metadata": {},
   "source": [
    "# Testing and test-driven development\n",
    "\n",
    "Testing is an important part of software engineering and scientific computing. There's a saying:\n",
    "\n",
    "> Untested code is broken code.\n",
    "\n",
    "Which is to say that, if you are not writing tests for your code, you should assume it's broken. \n",
    "\n",
    "Watch this video https://www.youtube.com/watch?v=FxSsnHeWQBY"
   ]
  },
  {
   "cell_type": "code",
   "execution_count": 11,
   "metadata": {
    "collapsed": true
   },
   "outputs": [],
   "source": [
    "import numpy as np"
   ]
  },
  {
   "cell_type": "markdown",
   "metadata": {},
   "source": [
    "## Simple test\n",
    "\n",
    "In test-driven development, we go so far as to write the test, which fails of course, and then writing the function that passes the test:"
   ]
  },
  {
   "cell_type": "code",
   "execution_count": 102,
   "metadata": {
    "collapsed": true
   },
   "outputs": [],
   "source": [
    "def test_add():\n",
    "    \"\"\"\n",
    "    Test the add() function. Which I haven't defined yet.\n",
    "    \"\"\"\n",
    "    result = add(2, 3)\n",
    "    answer = 5\n",
    "    assert result == answer\n",
    "    \n",
    "    result = add(\"2\", \"3\")\n",
    "    assert result == answer\n",
    "    \n",
    "def add(a, b):\n",
    "    \"\"\"\n",
    "    Add two numbers.\n",
    "    \"\"\"\n",
    "    return float(a) + float(b)\n",
    "\n",
    "test_add()"
   ]
  },
  {
   "cell_type": "markdown",
   "metadata": {},
   "source": [
    "No result means the test passed!\n",
    "\n",
    "Here's a more involved example:"
   ]
  },
  {
   "cell_type": "code",
   "execution_count": 35,
   "metadata": {
    "collapsed": true
   },
   "outputs": [],
   "source": [
    "def test_shuey():\n",
    "    vp1, vs1, rho1 = 3000, 1414, 2400\n",
    "    vp2, vs2, rho2 = 3100, 1500, 2420\n",
    "    theta = 0\n",
    "    result = shuey(vp1, vs1, rho1, vp2, vs2, rho2, theta)\n",
    "    answer = 0.020543\n",
    "    assert abs(result - answer) < 0.00001\n",
    "    \n",
    "    #!--\n",
    "    theta = 20\n",
    "    result = shuey(vp1, vs1, rho1, vp2, vs2, rho2, theta)\n",
    "    answer = 0.015715\n",
    "    assert abs(result - answer) < 0.00001\n",
    "    #--!\n",
    "    \n",
    "    return"
   ]
  },
  {
   "cell_type": "code",
   "execution_count": 36,
   "metadata": {
    "collapsed": true
   },
   "outputs": [],
   "source": [
    "def shuey(vp1, vs1, rho1, vp2, vs2, rho2, theta):\n",
    "    theta = np.radians(theta)\n",
    "\n",
    "    drho = rho2 - rho1\n",
    "    dvp = vp2 - vp1\n",
    "    dvs = vs2 - vs1\n",
    "    rho = (rho1 + rho2) / 2\n",
    "    vp = (vp1 + vp2) / 2\n",
    "    vs = (vs1 + vs2) / 2\n",
    "\n",
    "    r0 = 0.5 * (dvp/vp + drho/rho)\n",
    "    g = 0.5 * dvp/vp - 2 * (vs**2/vp**2) * (drho/rho + 2 * dvs/vs)\n",
    "\n",
    "    return r0 + g * np.sin(theta)**2"
   ]
  },
  {
   "cell_type": "code",
   "execution_count": 37,
   "metadata": {},
   "outputs": [],
   "source": [
    "test_shuey()"
   ]
  },
  {
   "cell_type": "markdown",
   "metadata": {},
   "source": [
    "Again, no result means the test passed!"
   ]
  },
  {
   "cell_type": "markdown",
   "metadata": {},
   "source": [
    "Why the weird assert, why no just `assert actual == answer`? Float imprecision!"
   ]
  },
  {
   "cell_type": "code",
   "execution_count": 13,
   "metadata": {},
   "outputs": [
    {
     "data": {
      "text/plain": [
       "0.30000000000000004"
      ]
     },
     "execution_count": 13,
     "metadata": {},
     "output_type": "execute_result"
    }
   ],
   "source": [
    "0.1 + 0.2"
   ]
  },
  {
   "cell_type": "markdown",
   "metadata": {},
   "source": [
    "There is an alternative in `np.testing` (and many testing frameworks will have ways to make testing approximate results easier):"
   ]
  },
  {
   "cell_type": "code",
   "execution_count": 41,
   "metadata": {},
   "outputs": [],
   "source": [
    "vp1, vs1, rho1 = 3000, 1414, 2400\n",
    "vp2, vs2, rho2 = 3100, 1500, 2420\n",
    "theta = 0\n",
    "answer = 0.020543\n",
    "np.testing.assert_almost_equal(shuey(vp1, vs1, rho1, vp2, vs2, rho2, theta), answer, decimal=5)"
   ]
  },
  {
   "cell_type": "markdown",
   "metadata": {
    "tags": [
     "exercise"
    ]
   },
   "source": [
    "## Exercise\n",
    "\n",
    "Add a test for another angle to the test function. Use the fact that the correct result for an angle of 20 degrees is 0.015714797299808014. Make sure the test passes when you run the following code block:"
   ]
  },
  {
   "cell_type": "code",
   "execution_count": null,
   "metadata": {
    "collapsed": true
   },
   "outputs": [],
   "source": [
    "test_shuey()"
   ]
  },
  {
   "cell_type": "markdown",
   "metadata": {},
   "source": [
    "## `py.test`\n",
    "\n",
    "`py.test` is a testing framework. There are others:\n",
    "\n",
    "- `unittest` — the one that comes with Python.\n",
    "- `nose` — seems popular; I've never used it.\n",
    "\n",
    "`py.test` lets you write fairly striaghtforward code for testing (compared to `unittest`, which I find has a lot of boilerplate). And it has a nice system of plugins for handy things like testing your `matplotlib` plots, and getting 'coverage' reports.\n",
    "\n",
    "We are not going to go into `py.test` now; the example project `project` implements it."
   ]
  },
  {
   "cell_type": "markdown",
   "metadata": {},
   "source": [
    "## `doctest`\n",
    "\n",
    "Make your docstrings work for a living!"
   ]
  },
  {
   "cell_type": "code",
   "execution_count": 68,
   "metadata": {
    "collapsed": true
   },
   "outputs": [],
   "source": [
    "def quad(x, a=1, b=1, c=0):\n",
    "    \"\"\"\n",
    "    Returns the quadratic function of x,\n",
    "    a.x^2 + b.x + c\n",
    "    where\n",
    "    a = b = 1 and c = 0.\n",
    "    \n",
    "    Examples:\n",
    "    >>> quad(10)\n",
    "    110\n",
    "    >>> quad(10, a=3, b=2, c=1)\n",
    "    321\n",
    "    \"\"\"\n",
    "    return a*x**2 + b*x + c"
   ]
  },
  {
   "cell_type": "code",
   "execution_count": 69,
   "metadata": {},
   "outputs": [
    {
     "data": {
      "text/plain": [
       "321"
      ]
     },
     "execution_count": 69,
     "metadata": {},
     "output_type": "execute_result"
    }
   ],
   "source": [
    "quad(10, a=3, b=2, c=1)"
   ]
  },
  {
   "cell_type": "markdown",
   "metadata": {},
   "source": [
    "We can run the doctests in a single function like so:"
   ]
  },
  {
   "cell_type": "code",
   "execution_count": 70,
   "metadata": {},
   "outputs": [
    {
     "name": "stdout",
     "output_type": "stream",
     "text": [
      "Finding tests in NoName\n",
      "Trying:\n",
      "    quad(10)\n",
      "Expecting:\n",
      "    110\n",
      "ok\n",
      "Trying:\n",
      "    quad(10, a=3, b=2, c=1)\n",
      "Expecting:\n",
      "    321\n",
      "ok\n"
     ]
    }
   ],
   "source": [
    "import doctest\n",
    "doctest.run_docstring_examples(quad, globals(), verbose=True)"
   ]
  },
  {
   "cell_type": "markdown",
   "metadata": {},
   "source": [
    "We can test everything in the current 'module' (in our case, the Notebook) like so:"
   ]
  },
  {
   "cell_type": "code",
   "execution_count": null,
   "metadata": {
    "collapsed": true
   },
   "outputs": [],
   "source": [
    "doctest.testmod()"
   ]
  },
  {
   "cell_type": "markdown",
   "metadata": {
    "collapsed": true,
    "tags": [
     "exercise"
    ]
   },
   "source": [
    "## Exercise\n",
    "\n",
    "Write doctests for our `add()` function:"
   ]
  },
  {
   "cell_type": "code",
   "execution_count": null,
   "metadata": {
    "collapsed": true
   },
   "outputs": [],
   "source": [
    "def add(a, b):\n",
    "    \"\"\"\n",
    "    Add two numbers.\n",
    "    \"\"\"\n",
    "    return float(a) + float(b)"
   ]
  },
  {
   "cell_type": "markdown",
   "metadata": {},
   "source": [
    "And make sure your test passes:"
   ]
  },
  {
   "cell_type": "code",
   "execution_count": null,
   "metadata": {
    "collapsed": true
   },
   "outputs": [],
   "source": [
    "doctest.run_docstring_examples(add, globals(), verbose=True)"
   ]
  },
  {
   "cell_type": "markdown",
   "metadata": {},
   "source": [
    "## Notebook magic"
   ]
  },
  {
   "cell_type": "markdown",
   "metadata": {},
   "source": [
    "In IPython (or the Notebook) we can even define a magic to make this sort of thing easier:"
   ]
  },
  {
   "cell_type": "code",
   "execution_count": 71,
   "metadata": {
    "collapsed": true
   },
   "outputs": [],
   "source": [
    "from IPython.core.magic import register_line_magic\n",
    "\n",
    "@register_line_magic\n",
    "def testit(_):\n",
    "    return doctest.testmod()"
   ]
  },
  {
   "cell_type": "code",
   "execution_count": 72,
   "metadata": {},
   "outputs": [
    {
     "data": {
      "text/plain": [
       "TestResults(failed=0, attempted=2)"
      ]
     },
     "execution_count": 72,
     "metadata": {},
     "output_type": "execute_result"
    }
   ],
   "source": [
    "%testit"
   ]
  },
  {
   "cell_type": "code",
   "execution_count": 79,
   "metadata": {
    "collapsed": true
   },
   "outputs": [],
   "source": [
    "@register_line_magic\n",
    "def testfunc(func):\n",
    "    \"\"\"\n",
    "    Using eval() might not be a great idea, but we\n",
    "    are only passing it to doctest so maybe it's OK.\n",
    "    \"\"\"\n",
    "    if not func:\n",
    "        raise SyntaxError(\"You must provide a function to test.\")\n",
    "    return doctest.run_docstring_examples(eval(func), globals(), verbose=True)"
   ]
  },
  {
   "cell_type": "code",
   "execution_count": 81,
   "metadata": {},
   "outputs": [
    {
     "name": "stdout",
     "output_type": "stream",
     "text": [
      "Finding tests in NoName\n",
      "Trying:\n",
      "    quad(10)\n",
      "Expecting:\n",
      "    110\n",
      "ok\n",
      "Trying:\n",
      "    quad(10, a=3, b=2, c=1)\n",
      "Expecting:\n",
      "    321\n",
      "ok\n"
     ]
    }
   ],
   "source": [
    "%testfunc quad"
   ]
  },
  {
   "cell_type": "markdown",
   "metadata": {},
   "source": [
    "## ...or with a decorator"
   ]
  },
  {
   "cell_type": "markdown",
   "metadata": {},
   "source": [
    "Or we could define a decorator to test functions:"
   ]
  },
  {
   "cell_type": "code",
   "execution_count": 97,
   "metadata": {
    "collapsed": true
   },
   "outputs": [],
   "source": [
    "from functools import wraps\n",
    "import doctest\n",
    "\n",
    "def test(func):\n",
    "    @wraps(func)\n",
    "    def f(*args, **kwargs):\n",
    "        return func(*args, **kwargs)\n",
    "    doctest.run_docstring_examples(func, globals())\n",
    "    return f"
   ]
  },
  {
   "cell_type": "markdown",
   "metadata": {},
   "source": [
    "I'll pass this with a failing test so we can see that something is happening."
   ]
  },
  {
   "cell_type": "code",
   "execution_count": 101,
   "metadata": {},
   "outputs": [
    {
     "name": "stdout",
     "output_type": "stream",
     "text": [
      "**********************************************************************\n",
      "File \"__main__\", line 12, in NoName\n",
      "Failed example:\n",
      "    quad(10, a=3, b=2, c=1)\n",
      "Expected:\n",
      "    3210\n",
      "Got:\n",
      "    321\n"
     ]
    }
   ],
   "source": [
    "@test\n",
    "def quad(x, a=1, b=1, c=0):\n",
    "    \"\"\"\n",
    "    Returns the quadratic function of x,\n",
    "    a.x^2 + b.x + c\n",
    "    where\n",
    "    a = b = 1 and c = 0.\n",
    "    \n",
    "    Examples:\n",
    "    >>> quad(10)\n",
    "    110\n",
    "    >>> quad(10, a=3, b=2, c=1)\n",
    "    3210\n",
    "    \"\"\"\n",
    "    return a*x**2 + b*x + c"
   ]
  },
  {
   "cell_type": "markdown",
   "metadata": {},
   "source": [
    "## Other testing topics\n",
    "\n",
    "### Coverage\n",
    "\n",
    "### Mocks\n",
    "\n",
    "### Web and UI testing\n",
    "\n",
    "### Continuous integration\n"
   ]
  },
  {
   "cell_type": "code",
   "execution_count": null,
   "metadata": {
    "collapsed": true
   },
   "outputs": [],
   "source": []
  }
 ],
 "metadata": {
  "kernelspec": {
   "display_name": "Python 3",
   "language": "python",
   "name": "python3"
  },
  "language_info": {
   "codemirror_mode": {
    "name": "ipython",
    "version": 3
   },
   "file_extension": ".py",
   "mimetype": "text/x-python",
   "name": "python",
   "nbconvert_exporter": "python",
   "pygments_lexer": "ipython3",
   "version": "3.6.3"
  }
 },
 "nbformat": 4,
 "nbformat_minor": 2
}
