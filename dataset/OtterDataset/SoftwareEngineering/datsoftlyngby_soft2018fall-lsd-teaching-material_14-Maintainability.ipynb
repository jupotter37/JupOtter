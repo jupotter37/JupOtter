{
 "cells": [
  {
   "cell_type": "markdown",
   "metadata": {},
   "source": [
    "# Security Assignment Feedback\n",
    "\n",
    "Those of you who did it have a risk matrix. Cool!\n",
    "\n",
    "\n",
    "Many of you seemed to have problems with running OWTF...\n",
    "\n",
    "\n",
    "\n",
    "## Some found some cool vulnerabilities!\n",
    "\n",
    "  - Accessing another group's database from what is known from the repository \n",
    "\n",
    "![](https://github.com/KLMM-LSD/LSD-Experimental/blob/lorem/DBVulnerabilityProof.PNG?raw=true)"
   ]
  },
  {
   "cell_type": "markdown",
   "metadata": {},
   "source": [
    "# Technical Debt\n",
    "\n",
    "![](https://www.monkeyuser.com/assets/images/2018/106-tech-debt.png)\n",
    "\n",
    "\n",
    "  > Technical debt is a concept in programming that reflects the extra development work that arises when code that is easy to implement in the short run is used instead of applying the best overall solution.\n",
    "  >\n",
    "  > Technical debt is commonly associated with extreme programming, especially in the context of refactoring. That is, it implies that restructuring existing code (refactoring) is required as part of the development process. Under this line of thinking refactoring is not only a result of poorly written code, but is also done based on an evolving understanding of a problem and the best way to solve that problem.\n",
    "  >\n",
    "  > https://www.techopedia.com/definition/27913/technical-debt\n",
    "\n",
    "\n",
    "\n",
    "![](http://mmhan.net/assets/tech-debt.png)\n",
    "\n",
    "\n",
    "![](https://qph.fs.quoracdn.net/main-qimg-87417c2785ec94e5648b06ad56729b36)\n",
    "\n",
    "\n",
    "\n",
    "\n",
    "\n",
    "## How debt is introduced?\n",
    "\n",
    "![](https://martinfowler.com/bliki/images/techDebtQuadrant.png)\n",
    "\n",
    "https://martinfowler.com/bliki/TechnicalDebtQuadrant.html\n",
    "\n",
    "\n",
    "\n",
    "\n",
    "\n",
    "Technical debt\n",
    "Each feature adds complexity Complexity requires  me Time requires money\n",
    "Humans are horrible logic machines\n",
    "\n",
    "\n",
    "\n",
    "\n",
    "\n",
    "## Avoiding debt\n",
    "\n",
    "  * Change avoidance\n",
    "    - Avoid bringing yourself in a situation where you have to change \n",
    "    - Get the requirements right\n",
    "    - Design processes, RUP, SCRUM, etc.\n",
    "  * Change tolerance\n",
    "    - Design for change\n",
    "    - Design patterns, compositionality, coupling, etc.\n",
    "\n",
    "\n",
    "\n",
    "## Measuring technical debt\n",
    "\n",
    "\n",
    "  * Metrics\n",
    "    - LOC\n",
    "    - Test coverage\n",
    "    - \"Code smells\"\n",
    "  * CI\n",
    "    - Measure debt difference \n",
    "    - Refuse PR if debt increases\n",
    "\n",
    "### SonarQube\n",
    "\n",
    "https://www.sonarqube.org/index/clean-code2x.png\n",
    "\n",
    "![](https://www.sonarqube.org/index/clean-code2x.png)\n",
    "\n",
    "\n",
    "\n",
    "  > Technical Debt\n",
    "  >\n",
    "  > The estimated time required to fix all Maintainability Issues / code smells\n",
    "  \n",
    "  \n",
    "https://docs.sonarqube.org/latest/user-guide/metric-definitions/ below metrics"
   ]
  },
  {
   "cell_type": "markdown",
   "metadata": {},
   "source": [
    "# Maintainability\n",
    "\n",
    "  > M2. Maintenance typically consumes about 40 to 80 percent (60 percent average) of software costs. Therefore, it is probably the most important life cycle phase.\n",
    "  > \n",
    "  > ...\n",
    "  > \n",
    "  > M3. Enhancement is responsible for roughly 60 percent of software maintenance costs. Error correction is roughly 17 percent. So, software maintenance is largely about adding new capability to old software, not about fixing it.\n",
    "  >\n",
    "  > ...\n",
    "  >\n",
    "  > M5. Most software development tasks and software maintenance tasks are the same—except for the additional maintenance task of \"understanding the existing product.\" This task is the dominant maintenance activity, consuming roughly 30 percent of maintenance time. So, you could claim that maintenance is more difficult than development.\n",
    "  >\n",
    "  > Robert L. Glass _\"Frequently Forgotten Fundamental Facts about Software Engineering\"_ [http://www.eng.auburn.edu/~kchang/comp6710/readings/Forgotten_Fundamentals_IEEE_Software_May_2001.pdf](http://www.eng.auburn.edu/~kchang/comp6710/readings/Forgotten_Fundamentals_IEEE_Software_May_2001.pdf) \n",
    "  \n",
    "  \n",
    "## What comprises Maintainance?\n",
    "\n",
    "  * fixing bugs\n",
    "  * keeping its systems operational\n",
    "  * investigating failures\n",
    "  * adapting it to new platforms\n",
    "  * modifying it for new use cases\n",
    "  * repaying technical debt\n",
    "  * adding new features\n",
    "  * etc.\n",
    "  \n",
    "-------\n",
    "\n",
    " * Many people seem to dislike fixing others peoples bugs\n",
    " * Work with \"old\" tech and with legacy systems\n",
    " \n",
    "## Design for Maintainability\n",
    "\n",
    "...minimize pain during maintenance, and thus avoid creating legacy software ourselves.\n",
    "\n",
    "  * **Operability**\n",
    "    Make it easy for operations teams to keep the system running smoothly.\n",
    "  * **Simplicity**\n",
    "    Make it easy for new engineers to understand the system, by removing as much complexity as possible from the system. (Note this is not the same as simplicity of the user interface.)\n",
    "  * **Evolvability**\n",
    "    Make it easy for engineers to make changes to the system in the future, adapting it for unanticipated use cases as requirements change. Also known as extensibility, modifiability, or plasticity.\n",
    "    \n",
    "  \n",
    "### Operability: Making Life Easy for Operations\n",
    "\n",
    "\n",
    "Do you support your operations team, wrt. your Hackenews Clones, in that you support to:\n",
    "\n",
    "  * Monitor the health of the system?\n",
    "  * Quickly restore a service if it goes into a bad state?\n",
    "  * Track down the cause of problems, such as system failures, degraded performance, etc?\n",
    "  * Keep software and platforms up to date?\n",
    "  * Observe how different systems affect each other?\n",
    "  * Anticipate future problems and solve them before they occur (e.g., capacity planning)?\n",
    "  * Establish good practices and tools for deployment, configuration management, etc.?\n",
    "  * Perform complex maintenance tasks, such as moving an application from one platform to another?\n",
    "  * Preserve the group’s knowledge about the system, even as individual people come and go?"
   ]
  },
  {
   "cell_type": "code",
   "execution_count": 1,
   "metadata": {},
   "outputs": [
    {
     "data": {
      "text/html": [
       "\n",
       "        <iframe\n",
       "            width=\"100%\"\n",
       "            height=\"500\"\n",
       "            src=\"https://peerj.com/preprints/1233.pdf\"\n",
       "            frameborder=\"0\"\n",
       "            allowfullscreen\n",
       "        ></iframe>\n",
       "        "
      ],
      "text/plain": [
       "<IPython.lib.display.IFrame at 0x111ec8c88>"
      ]
     },
     "execution_count": 1,
     "metadata": {},
     "output_type": "execute_result"
    }
   ],
   "source": [
    "from IPython.display import IFrame\n",
    "IFrame('https://peerj.com/preprints/1233.pdf', width=\"100%\", height=500)"
   ]
  },
  {
   "cell_type": "markdown",
   "metadata": {},
   "source": [
    "Good operability means making routine tasks easy:\n",
    "\n",
    "  * Provide good monitoring to make runtime behavior and system internals visible\n",
    "  * Provide good support for automation and integration with standard tools\n",
    "  * Avoid dependency on individual machines\n",
    "  * Provide good documentation and an easy-to-understand operational model\n",
    "  * Provide good default behavior, but allow administrators to override defaults when needed\n",
    "  * Provide self-healing where appropriate\n",
    "  * Exhibiting predictable behavior, minimizing surprises\n",
    "  \n",
    "### Simplicity: Managing Complexity\n",
    "\n",
    "Many of the fixes applied to your Hackernews Clone systems, will eventually create a _\"big ball of mud\"_:"
   ]
  },
  {
   "cell_type": "code",
   "execution_count": 2,
   "metadata": {},
   "outputs": [
    {
     "data": {
      "text/html": [
       "\n",
       "        <iframe\n",
       "            width=\"100%\"\n",
       "            height=\"350\"\n",
       "            src=\"http://laputan.org/mud/mud.html#Abstract\"\n",
       "            frameborder=\"0\"\n",
       "            allowfullscreen\n",
       "        ></iframe>\n",
       "        "
      ],
      "text/plain": [
       "<IPython.lib.display.IFrame at 0x1108c8668>"
      ]
     },
     "execution_count": 2,
     "metadata": {},
     "output_type": "execute_result"
    }
   ],
   "source": [
    "from IPython.display import IFrame\n",
    "IFrame('http://laputan.org/mud/mud.html#Abstract', width=\"100%\", height=350)"
   ]
  },
  {
   "cell_type": "markdown",
   "metadata": {},
   "source": [
    "##### Do I have a _\"big ball of mud\"_?\n",
    "\n",
    "  * **hacks aimed at solving performance problems**\n",
    "  * tight coupling of modules\n",
    "  * tangled dependencies\n",
    "  * inconsistent naming and terminology\n",
    "  * explosion of the state space\n",
    "  \n",
    "Issues with the _\"big ball of mud\"_:\n",
    "\n",
    "  * budgets and schedules are often overrun. \n",
    "  * risk of introducing bugs when making a change\n",
    "  \n",
    "  \n",
    "removing accidental complexity with the help of abstraction\n",
    "\n",
    "\n",
    "### Evolvability: Making Change Easy\n",
    "\n",
    "  * unlikely that your system’s requirements will remain unchanged forever\n",
    "  * keeping things operational and simple as described above allows for evolvability\n",
    "  \n",
    "  \n",
    "  \n",
    "----------\n",
    "\n",
    "These notes are based on chapter 1 _Maintainability_ p.18ff in _Designing Data-Intensive Applications_ by Martin Kleppmann.\n",
    "  "
   ]
  },
  {
   "cell_type": "markdown",
   "metadata": {},
   "source": [
    "-------------------------\n",
    "\n",
    "# Techniques for Subsystem Division\n",
    "\n",
    "\n",
    "### What was this?\n",
    "\n",
    "![Packages](images/packages.png)\n"
   ]
  },
  {
   "cell_type": "code",
   "execution_count": 3,
   "metadata": {},
   "outputs": [
    {
     "data": {
      "text/html": [
       "\n",
       "        <iframe\n",
       "            width=\"100%\"\n",
       "            height=\"500\"\n",
       "            src=\"http://editor.swagger.io\"\n",
       "            frameborder=\"0\"\n",
       "            allowfullscreen\n",
       "        ></iframe>\n",
       "        "
      ],
      "text/plain": [
       "<IPython.lib.display.IFrame at 0x111eec198>"
      ]
     },
     "execution_count": 3,
     "metadata": {},
     "output_type": "execute_result"
    }
   ],
   "source": [
    "from IPython.display import IFrame\n",
    "\n",
    "url = 'http://editor.swagger.io'\n",
    "IFrame(url, width='100%', height=500) "
   ]
  },
  {
   "cell_type": "code",
   "execution_count": null,
   "metadata": {},
   "outputs": [],
   "source": [
    "%%bash\n",
    "unzip python-flask-server-generated.zip\n",
    "cd python-flask-server\n",
    "docker build -t pet-server .\n",
    "docker run -it --rm -p \"8080:8080\" pet-server:latest\n",
    "$ curl -X GET http://localhost:8080/v2/pet/findByStatus?status=pending -H \"accept: application/json\"\n",
    "\"do some magic!\""
   ]
  },
  {
   "cell_type": "markdown",
   "metadata": {},
   "source": [
    "# Your Turn\n",
    "\n",
    "## First Hour\n",
    "\n",
    "Try to integrate SonarCube (https://sonarcloud.io/about) into your build chain and see what it reports as maintainability issues and for the technical debt.\n",
    "\n",
    "\n",
    "## Second Hour\n",
    "  - Try to formalize a part of the communication in between your Hackernews Clone subsystems with the OpenAPI Spec, see http://editor.swagger.io.\n",
    "  - Create code for a server and a client in the languages of your choice.\n",
    "  - Compare the generated server to the server that you implemented manually.\n",
    "    - Figure out, where to attach the business logic from your manually implemented server into the generted server.\n",
    "    - Try to add your business logic there.\n",
    "    - See if you can make the communication work via generated Swagger server.\n"
   ]
  }
 ],
 "metadata": {
  "kernelspec": {
   "display_name": "Python 3",
   "language": "python",
   "name": "python3"
  },
  "language_info": {
   "codemirror_mode": {
    "name": "ipython",
    "version": 3
   },
   "file_extension": ".py",
   "mimetype": "text/x-python",
   "name": "python",
   "nbconvert_exporter": "python",
   "pygments_lexer": "ipython3",
   "version": "3.6.4"
  }
 },
 "nbformat": 4,
 "nbformat_minor": 2
}
