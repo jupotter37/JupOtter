{
  "cells": [
    {
      "cell_type": "markdown",
      "metadata": {
        "id": "view-in-github",
        "colab_type": "text"
      },
      "source": [
        "<a href=\"https://colab.research.google.com/github/armandossrecife/mysummary/blob/main/quick_process_text_summary.ipynb\" target=\"_parent\"><img src=\"https://colab.research.google.com/assets/colab-badge.svg\" alt=\"Open In Colab\"/></a>"
      ]
    },
    {
      "cell_type": "markdown",
      "metadata": {
        "id": "-QhPWE1lwZHH"
      },
      "source": [
        "# Gemini API Python quickstart\n",
        "\n",
        "Como ler o conteúdo de um arquivo pdf e fazer o resumo desse conteudo."
      ]
    },
    {
      "cell_type": "markdown",
      "metadata": {
        "id": "kHkHARdb1ZID"
      },
      "source": [
        "## Instale o SDK da API do Gemini\n",
        "\n",
        "The Python SDK for the Gemini API is contained in the [`google-generativeai`](https://pypi.org/project/google-generativeai/) package.\n",
        "\n",
        "Also, install [PyPDF2](https://pypdf2.readthedocs.io/en/3.x/)\n",
        "\n",
        "Install the dependency using pip:"
      ]
    },
    {
      "cell_type": "code",
      "execution_count": 23,
      "metadata": {
        "id": "J6Pd9SFJ1yVi"
      },
      "outputs": [],
      "source": [
        "!pip install -q -U google-generativeai"
      ]
    },
    {
      "cell_type": "code",
      "source": [
        "!pip install PyPDF2"
      ],
      "metadata": {
        "colab": {
          "base_uri": "https://localhost:8080/"
        },
        "id": "jVlELpoaA-zC",
        "outputId": "ee5acfd5-fffa-4c03-9b02-abea17b93672"
      },
      "execution_count": 24,
      "outputs": [
        {
          "output_type": "stream",
          "name": "stdout",
          "text": [
            "Requirement already satisfied: PyPDF2 in /usr/local/lib/python3.10/dist-packages (3.0.1)\n"
          ]
        }
      ]
    },
    {
      "cell_type": "markdown",
      "metadata": {
        "id": "EeMCtmx9ykyx"
      },
      "source": [
        "## Configure a sua chave da API do Gemini\n",
        "\n",
        "To use the Gemini API, you'll need an API key. If you don't already have one, create a key in Google AI Studio.\n",
        "\n",
        "<a class=\"button\" href=\"https://aistudio.google.com/app/apikey\" target=\"_blank\" rel=\"noopener noreferrer\">Get an API key</a>\n",
        "\n",
        "In Colab, add the key to the secrets manager under the \"🔑\" in the left panel. Give it the name `GOOGLE_API_KEY`. Then pass the key to the SDK:\n",
        "\n",
        "Obs: nunca publique sua chave no repositório"
      ]
    },
    {
      "cell_type": "code",
      "execution_count": 25,
      "metadata": {
        "id": "HTiaTu6O1LRC"
      },
      "outputs": [],
      "source": [
        "# Import the Python SDK\n",
        "import google.generativeai as genai\n",
        "# Used to securely store your API key\n",
        "from google.colab import userdata\n",
        "\n",
        "GOOGLE_API_KEY=userdata.get('GOOGLE_API_KEY')\n",
        "genai.configure(api_key=GOOGLE_API_KEY)"
      ]
    },
    {
      "cell_type": "markdown",
      "metadata": {
        "id": "CZPYk29o2No0"
      },
      "source": [
        "## Inicialize o Modelo Generativo\n",
        "\n",
        "Before you can make any API calls, you need to initialize the Generative Model."
      ]
    },
    {
      "cell_type": "code",
      "execution_count": 26,
      "metadata": {
        "id": "s-JqXcDe2hZ_"
      },
      "outputs": [],
      "source": [
        "model = genai.GenerativeModel('gemini-pro')"
      ]
    },
    {
      "cell_type": "markdown",
      "metadata": {
        "id": "nXxypzJH4MUl"
      },
      "source": [
        "## Dado um documento, faz o resumo do conteúdo texto\n",
        "\n",
        "O texto pode ser extraído de um arquivo .pdf"
      ]
    },
    {
      "cell_type": "code",
      "source": [
        "!wget https://raw.githubusercontent.com/armandossrecife/mysummary/refs/heads/main/pdfs/d1.pdf"
      ],
      "metadata": {
        "colab": {
          "base_uri": "https://localhost:8080/"
        },
        "id": "Y_u-ET60AaeM",
        "outputId": "b67a2020-b2b4-4512-8ddd-be59dc18dfc0"
      },
      "execution_count": 1,
      "outputs": [
        {
          "output_type": "stream",
          "name": "stdout",
          "text": [
            "--2024-10-19 13:41:51--  https://raw.githubusercontent.com/armandossrecife/mysummary/refs/heads/main/pdfs/d1.pdf\n",
            "Resolving raw.githubusercontent.com (raw.githubusercontent.com)... 185.199.108.133, 185.199.109.133, 185.199.110.133, ...\n",
            "Connecting to raw.githubusercontent.com (raw.githubusercontent.com)|185.199.108.133|:443... connected.\n",
            "HTTP request sent, awaiting response... 200 OK\n",
            "Length: 1850029 (1.8M) [application/octet-stream]\n",
            "Saving to: ‘d1.pdf’\n",
            "\n",
            "d1.pdf              100%[===================>]   1.76M  --.-KB/s    in 0.07s   \n",
            "\n",
            "2024-10-19 13:41:51 (26.2 MB/s) - ‘d1.pdf’ saved [1850029/1850029]\n",
            "\n"
          ]
        }
      ]
    },
    {
      "cell_type": "code",
      "source": [
        "import PyPDF2\n",
        "import os\n",
        "from datetime import datetime\n",
        "\n",
        "def extract_pdf_text(pdf_path):\n",
        "    try:\n",
        "        with open(pdf_path, 'rb') as pdf_file:\n",
        "            pdf_reader = PyPDF2.PdfReader(pdf_file)\n",
        "\n",
        "            pdf_text = {}\n",
        "            for page_num in range(len(pdf_reader.pages)):\n",
        "                page = pdf_reader.pages[page_num]\n",
        "                text = page.extract_text()\n",
        "                pdf_text[page_num + 1] = text\n",
        "            return pdf_text\n",
        "    except FileNotFoundError:\n",
        "        print(f\"Error: PDF file not found at {pdf_path}\")\n",
        "    except PermissionError:\n",
        "        print(f\"Error: Permission denied to access PDF file at {pdf_path}\")\n",
        "    except Exception as e:\n",
        "        print(f\"Error: An unexpected error occurred: {e}\")\n",
        "\n",
        "def get_summary_from_response(response_resumo_texto):\n",
        "  try:\n",
        "    if len(response_resumo_texto.candidates) > 0:\n",
        "      summary_content = response_resumo_texto.candidates[0].content\n",
        "      if len(summary_content.parts) > 0:\n",
        "        summary_text = summary_content.parts[0].text\n",
        "        return summary_text  # Return the extracted text\n",
        "      else:\n",
        "        print(\"No content parts found in the first candidate.\")\n",
        "    else:\n",
        "      print(\"Nenhuma resposta disponível\")\n",
        "  except (AttributeError, IndexError):\n",
        "    print(\"Error accessing response data. Please check the response structure.\")\n",
        "\n",
        "def request_to_gemini(prompt_text):\n",
        "  print(\"Aguarde...\")\n",
        "  t1 = datetime.now()\n",
        "  response_resumo_texto = model.generate_content(prompt_text)\n",
        "  t2 = datetime.now()\n",
        "  print(response_resumo_texto)\n",
        "  tempo_resposta = t2 - t1\n",
        "  print(f\"Tempo de resposta: {tempo_resposta}\")\n",
        "  return response_resumo_texto"
      ],
      "metadata": {
        "id": "yqB42_A6BEWR"
      },
      "execution_count": 54,
      "outputs": []
    },
    {
      "cell_type": "code",
      "source": [
        "texto_documento = \"\"\n",
        "\n",
        "meu_conteudo =  extract_pdf_text(pdf_path=\"d1.pdf\")"
      ],
      "metadata": {
        "id": "rLnlNFJ4BJft"
      },
      "execution_count": 45,
      "outputs": []
    },
    {
      "cell_type": "code",
      "source": [
        "print(f\"Quantidade de páginas: {len(meu_conteudo.keys())}\")"
      ],
      "metadata": {
        "colab": {
          "base_uri": "https://localhost:8080/"
        },
        "id": "O7RqeuWzB8IO",
        "outputId": "0ca2a292-0178-4572-b0de-0bdffd4744d5"
      },
      "execution_count": 46,
      "outputs": [
        {
          "output_type": "stream",
          "name": "stdout",
          "text": [
            "Quantidade de páginas: 25\n"
          ]
        }
      ]
    },
    {
      "cell_type": "code",
      "source": [
        "for k,v in meu_conteudo.items():\n",
        "  print(f\"Página: {k}\")\n",
        "  print(f\"Texto: {v}\")\n",
        "  texto_documento = texto_documento + v"
      ],
      "metadata": {
        "colab": {
          "base_uri": "https://localhost:8080/"
        },
        "id": "xnsyGhjvBhT3",
        "outputId": "4724063b-32d3-442f-f7e5-b9b25375c163"
      },
      "execution_count": 47,
      "outputs": [
        {
          "output_type": "stream",
          "name": "stdout",
          "text": [
            "Página: 1\n",
            "Texto: AO CHEFE DO DEPARTAMENTO DE COMPUTAÇÃO  DA UNIVERSIDADE FEDERAL DO PIAUÍ  Caro Chefe de Departamento, Eu Armando Soares Sousa, Matrícula UFPI 1886865 lotado no Departamento de Computação do Centro de Ciência da Natureza da Universidade Federal do Piauí solicita sua concordância quanto minha PRORROGAÇÃO DE AFASTAMENTO a fim de dar continuidade ao curso de Pós-Graduação em Ciência da Computação em nível de Doutorado na (Área de Concentração: Ciência da Computação) na Universidade Federal do Ceará, por mais 6 (seis) meses, a partir de 23/02/2022, em conformidade com a Resolução No. 186/06-CEPEX. Além disso, gostaria que o senhor anexasse a meu pedido o documento referente ao plano de qualificação 2022 aprovado na Assembleia Departamental informando a deliberação favorável a meu pedido de afastamento em 2022 para poder concluir minhas atividades do doutorado. Fortaleza, 21, de Dezembro de 2021  __________________________________  (Assinatura) \n",
            "Solicitação ao Chefe para Prorrogac ̧ão de Afastamento 1\n",
            "Página: 2\n",
            "Texto: Documentos que constam no presente arquivo.  Gostaria de informar que além do \"Pedido de Concordância do Chefe de Departamento de Computação\", seguem em os seguintes documentos:  1. Solicitação de renovação de afastamento para o Reitor 2. Declaração de Requisitos e carga horária do Doutorado MDCC/UFC 3. Concordância do pedido de renovação do Coordenador do MDCC/UFC 4. Concordância do pedido de renovação do Orientador 5. Atestado semestral de frequência 2021.1 6. Atestado semestral de frequência 2021.2 7. Avaliação semestral de desempenho 2021.1 8. Avaliação semestral de desempenho 2021.2 9. Termo de compromisso 10. Relatório semestral de atividade 2021.1 11. Relatório semestral de atividade 2021.2 12. Atestado de matrícula 2021.2 13. Declaração de matrícula 2021.2 14. Histórico atualizado 15. Declaração de bolsa da FUNCAP (Fundação Cearense de Apoio ao Desenvolvimento Científico)  Fortaleza, 21, de Dezembro de 2021  __________________________________  (Assinatura)  \n",
            "Documentos Anexados 2\n",
            "Página: 3\n",
            "Texto: AO MAGNÍFICO REITOR DA UNIVERSIDADE FEDERAL DO PIAUÍ  Magnífico Reitor,       Eu Armando Soares Sousa, Matrícula UFPI 1886865 lotado no Departamento de Computação do Centro de Ciência da Natureza da Universidade Federal do Piauí solicita a Vossa Magnificência, autorizar a PRORROGAÇÃO DE AFASTAMENTO a fim de dar continuidade ao curso de Pós-Graduação em Ciência da Computação em nível de Doutorado na (Área de Concentração: Ciência da Computação) na Universidade Federal do Ceará, por mais 6 (seis) meses, a partir de 23/02/2022, em conformidade com a Resolução No. 186/06-CEPEX.  Fortaleza, 22, de Dezembro de 2021 __________________________________  (Assinatura)  Contato: (86) 994693558 / armando@ufpi.edu.br  \n",
            "Solicitação de Prorrogac ̧ão de Afastamento 3\n",
            "Página: 4\n",
            "Texto:  \n",
            "MINISTÉRIO DA EDUCAÇÃO \n",
            "UNIVERSIDADE FEDERAL DO CEARÁ  \n",
            "CENTRO DE CIÊNCIAS  \n",
            "DEPARTAMENTO DE COMPUTAÇÃO  \n",
            "MESTRADO E DOUTORADO EM CIÊNCIA DA COMPUTAÇÃO  \n",
            " \n",
            "DECLARAÇÃO \n",
            " \n",
            " \n",
            "Declaramos, para os devidos fins, que o Programa de Pós-Graduação em Ciência da              \n",
            "Computação da Universidade Federal do Ceará (MDCC/UFC) tem como exigência para a conclusão              \n",
            "do Curso de Doutorado o cumprimento/aprovação dos seguintes requisitos:  \n",
            "* Cursar, no mínimo, 12 disciplinas (48 créditos) - 768h \n",
            "* 02 Estágios de Docência (08 créditos) - 128h \n",
            "* 01 Proficiência em Inglês (01 crédito) - 16h \n",
            "* Defesa de Qualificação de Doutorado (01 crédito) - 16h \n",
            "* Defesa de Proposta de Doutorado (02 créditos) - 32h \n",
            "* Defesa da Tese (12 créditos) - 192h \n",
            " \n",
            "Total de créditos exigidos: 72 \n",
            "Carga horária total exigida: 1.152h \n",
            " \n",
            " \n",
            "Fortaleza, 25 de janeiro de 2021. \n",
            " \n",
            " \n",
            "_____________________________________ \n",
            "Prof. João Paulo Pordeus Gomes \n",
            "Coordenador do Programa de Pós-graduação \n",
            "em Ciência da Computação/UFC \n",
            " \n",
            " \n",
            "  \n",
            "Campus do Pici - Bloco 910 - CEP: 60440-900 - Fortaleza/Ceará  \n",
            "Fone: (85) 3366-9847 - E-mail: ​secretaria@mdcc.ufc.br   \n",
            " \n",
            " Declarac ̧ão_Requisitos_e_carga_horaria_Doutorado 4\n",
            "Página: 5\n",
            "Texto: CONCORDÂNCIA DE PEDIDO DE RENOVAÇÃO DE AFASTAMENTO Eu Prof. Dr. João Paulo Pordeus Gomes, Coordenador do Programa de Pós-graduação em Ciência da Computação da Universidade Federal do Ceará (UFC), venho por meio deste manifestar minha concordância na prorrogação de afastamento por mais 6 (seis) meses, a partir de 23/02/2022, do aluno Armando Soares Sousa, devidamente matriculado, no semestre corrente (2021.2) no curso de doutorado em Ciência da Computação na Universidade Federal do Ceará (UFC) e orientado pelo Prof. Dr. Lincoln Souza Rocha. Para com isso, o referido aluno possa concluir com qualidade os componentes curriculares \"Proposta de Tese de Doutorado\" e “Tese\". A justificativa é que devido às adversidades provocadas pela pandemia do Corona Vírus, nos anos de 2020 e 2021, as atividades presenciais, desta universidade, foram suspensas e os laboratórios de pesquisa foram fechados, impactando diretamente nas atividades de pesquisas dos cursos de pós-graduação desta universidade. Com isso, houve extensão nos prazos dos cursos de pós-graduação stricto sensu da UFC conforme Ofício Circular 1/2020/PRPPG/UFC de 30/04/2020, Ofício Circular 10/2020-CGSI/DPB/CAPES/UFC de 30/04/2020 e prorrogação de prazo conforme Ofício 14/2021/PRPPG/DIV_ENSINO/PRPPG/CENS/PRPPG/REITORIA, de 14 de julho de 2021 da Universidade Federal do Ceará. Adicionalmente, gostaria de informar que o referido aluno, dentro deste período de 4 anos (2018, 2019, 2020, 2021), concluiu e foi aprovado nas disciplinas obrigatórias, na proficiência em língua estrangeira, nas atividades de estágio de docência e no exame de Qualificação. Local e data: ________________, ___/___/_____ _____________________________________ Prof. Dr. João Paulo Pordeus Gomes Coordenador do Programa de Pós-graduação em Ciência da Computação - UFC\n",
            "Coordenador - Concorda ̂ncia Pedido Renovac ̧ão Afastamento 5\n",
            "Página: 6\n",
            "Texto: CONCORDÂNCIA DE PEDIDO DE RENOVAÇÃO DE AFASTAMENTO Eu prof. Dr. Lincoln Souza Rocha, orientador do aluno Armando Soares Sousa, devidamente matriculado, no semestre corrente (2021.2) no curso de doutorado em Ciência da Computação na Universidade Federal do Ceará (UFC), venho por meio deste manifestar minha concordância na prorrogação de afastamento por mais 6 (seis) meses a partir de 23/02/2022, para com isso o referido aluno possa concluir com qualidade os componentes curriculares \"Proposta de Tese de Doutorado\" e \"Tese\". Adicionalmente, gostaria de informar que o referido aluno, dentro deste período de 4 anos (2018, 2019, 2020, 2021), concluiu e foi aprovado nas disciplinas obrigatórias, na proficiência em língua estrangeira, nas atividades de estágio de docência e no exame de Qualificação. Local e data: ________________, ___/___/_____ _____________________________________ Lincoln Souza Rocha Assinatura do Orientador(a) \n",
            "Orientador - Concorda ̂ncia Pedido Renovac ̧ão Afastamento-Ass 6\n",
            "Página: 7\n",
            "Texto: ATESTADO SEMESTRAL DE FREQUÊNCIA DO(A) PÓS-GRADUANDO(A) Atestamos, para fins de comprovação junto à CPSS/PRPG/UFPI, que o (a) Sr(a) Armando Soares Sousa aluno(a) matriculado(a) no curso de Pós-Graduação em Ciência da Computação área de concentração em Ciência da Computação em nível de Doutorado participou regularmente das suas atividades do Curso, no 1º [x] ou 2º [ ] semestre de: 2021.  O presente atestado visa cumprir o que estabelece as normas da UFPI de afastamento para Pós-Graduação.   Devido às adversidades provocadas pela pandemia do Corona Vírus, nos anos de 2020 e 2021, as atividades presenciais, da Universidade Federal do Ceará, foram suspensas e os laboratórios de pesquisa foram fechados. Com isso, as atividades tem sido realizadas remotamente sendo amparadas pelos seguintes documentos: Ofício Circular 1/2020/ PRPPG/UFC de 30/04/2020, Ofício Circular 10/2020-CGSI/DPB/CAPES/UFC de 30/04/2020, e prorrogação de prazo conforme Ofício 14/2021/PRPPG/DIV_ENSINO/PRPPG/CENS/ PRPPG/REITORIA, de 14 de julho de 2021.  O período 2021.1 foi encerrado em 02/09/2021.    \n",
            "ENDEREÇO PARA REMESSA: Universidade Federal do Piauí – Pró-Reitoria de Ensino de Pós-Graduação-PRPG/CPSS Campus Universitário da Ininga – CEP: 64049-550 – Teresina/Piauí Fone: (86) 3215-7405 E-mail: cpss.capacitacao@ufpi.edu.br DEVOLUÇÃO:  Primeiro semestre até 15.08  Segundo semestre até 15.01\n",
            "Atestado_Semestral_de_Frequencia_2021-1 7\n",
            "Página: 8\n",
            "Texto: ATESTADO SEMESTRAL DE FREQUÊNCIA DO(A) PÓS-GRADUANDO(A) Atestamos, para fins de comprovação junto à CPSS/PRPG/UFPI, que o (a) Sr(a) Armando Soares Sousa aluno(a) matriculado(a) no curso de Pós-Graduação em Ciência da Computação área de concentração em Ciência da Computação em nível de Doutorado participa regularmente das suas atividades do Curso, no 1º [ ] ou 2º [x] semestre de: 2021.  O presente atestado visa cumprir o que estabelece as normas da UFPI de afastamento para Pós-Graduação.   Devido às adversidades provocadas pela pandemia do Corona Vírus, nos anos de 2020 e 2021, as atividades presenciais, da Universidade Federal do Ceará, foram suspensas e os laboratórios de pesquisa foram fechados. Com isso, as atividades tem sido realizadas remotamente sendo amparadas pelos seguintes documentos: Ofício Circular 1/2020/ PRPPG/UFC de 30/04/2020, Ofício Circular 10/2020-CGSI/DPB/CAPES/UFC de 30/04/2020, e prorrogação de prazo conforme Ofício 14/2021/PRPPG/DIV_ENSINO/PRPPG/CENS/ PRPPG/REITORIA, de 14 de julho de 2021. O período de 2021.2 se encerra no próximo dia 10/02/2022   \n",
            "ENDEREÇO PARA REMESSA: Universidade Federal do Piauí – Pró-Reitoria de Ensino de Pós-Graduação-PRPG/CPSS Campus Universitário da Ininga – CEP: 64049-550 – Teresina/Piauí Fone: (86) 3215-7405 E-mail: cpss.capacitacao@ufpi.edu.br DEVOLUÇÃO:  Primeiro semestre até 15.08  Segundo semestre até 15.01\n",
            "Atestado_Semestral_de_Frequencia_2021-2 8\n",
            "Página: 9\n",
            "Texto: AVALIAÇÃO SEMESTRAL DO DESEMPENHO DO(A) PÓS-GRADUANDO(A) PELO(A) ORIENTADOR(A)  1 – Nome: ARMANDO SOARES SOUSA  2 – IES do curso: UNIVERSIDADE FEDERAL DO CEARÁ 3 – Nome do Curso: PÓS-GRADUAÇÃO EM CIÊNCIA DA COMPUTAÇÃO 5 – Área de Concentração: Ciência da Computação \n",
            "Observação: em decorrência das adversidades provocadas pela pandemia do Corona Vírus, em 2020 e 2021, houve alteração nos prazos dos semestres 2021.1. e 2021.2 conforme Ofício Circular 1/2020/PRPPG/UFC de 30/04/2020, Ofício Circular 10/2020-CGSI/DPB/CAPES/UFC de 30/04/2020  e prorrogação de prazo conforme Ofício 14/2021/PRPPG/DIV_ENSINO/PRPPG/CENS/ PRPPG/REITORIA, de 14 de julho de 2021 da Universidade Federal do Ceará. O período de 2021.1 foi encerrado em 02/09/2021. Local e data: ________________, ___/___/_____ _____________________________________ Lincoln Souza Rocha Assinatura do Orientador(a) ENDEREÇO PARA REMESSA: Universidade Federal do Piauí - PRPPG/Coordenadoria Geral de Pós-Graduação Campus Universitário da Ininga -   64049-550 – Teresina – Piauí Fone: (0**86) 3215-5561 E-mail: cgpg.capacitacao@ufpi.edu.br4 – Nível do Curso: MestradoDoutoradoXPós-Doutorado6 – Avaliando cuidadosamente as atividades do(a) Pós-Graduando(a) acima, sob minha orientaçãono 1º  x OU  2º  semestre de 2021, classifico seu desempenho como:AnoMuito Bom BomRegularInsuficientePROGRAMAS: \n",
            "Avaliacao Semestral de Desempenho 2021-1-Ass 9\n",
            "Página: 10\n",
            "Texto: AVALIAÇÃO SEMESTRAL DO DESEMPENHO DO(A) PÓS-GRADUANDO(A) PELO(A) ORIENTADOR(A)  1 – Nome: ARMANDO SOARES SOUSA  2 – IES do curso: UNIVERSIDADE FEDERAL DO CEARÁ 3 – Nome do Curso: PÓS-GRADUAÇÃO EM CIÊNCIA DA COMPUTAÇÃO 5 – Área de Concentração: Ciência da Computação \n",
            "Observação: em decorrência das adversidades provocadas pela pandemia do Corona Vírus, em 2020 e 2021, houve alteração nos prazos dos semestres 2021.1. e 2021.2 conforme Ofício Circular 1/2020/PRPPG/UFC de 30/04/2020, Ofício Circular 10/2020-CGSI/DPB/CAPES/UFC de 30/04/2020  e prorrogação de prazo conforme Ofício 14/2021/PRPPG/DIV_ENSINO/PRPPG/CENS/ PRPPG/REITORIA, de 14 de julho de 2021 da Universidade Federal do Ceará. O período de 2021.2 deverá ser encerrado em 10/02/2022. Com isso, o referido aluno continua exercendo suas atividades até o presente momento. Local e data: __________________, ___/___/_____ _____________________________________ Lincoln Souza Rocha Assinatura do Orientador(a) ENDEREÇO PARA REMESSA: Universidade Federal do Piauí - PRPPG/Coordenadoria Geral de Pós-Graduação Campus Universitário da Ininga -   64049-550 – Teresina – Piauí Fone: (0**86) 3215-5561 E-mail: cgpg.capacitacao@ufpi.edu.br 4 – Nível do Curso: MestradoDoutoradoXPós-Doutorado6 – Avaliando cuidadosamente as atividades do(a) Pós-Graduando(a) acima, sob minha orientaçãono 1º  OU  2º X  semestre de      2021, classifico seu desempenho como:AnoMuito Bom BomRegularInsuficientePROGRAMAS: \n",
            "Avaliacao Semestral de Desempenho 2021-2-Ass 10\n",
            "Página: 11\n",
            "Texto: TERMO DE COMPROMISSO E RESPONSABILIDADE    Declaro e assumo o compromisso e a responsabilidade legal de prestar serviço à Universidade Federal do Piauí, após conclusão do curso de Pós-Graduação em Ciência da Computação em nível de Doutorado na Universidade Federal do Ceará, na cidade de Fortaleza pelo prazo equivalente ao tempo usufruído no afastamento das atividades funcionais para a realização do citado curso.  Teresina, ______/_____/_____   _____________________________________________ (assinatura) \n",
            "TERMO_DE_COMPROMISSO_RESPONSABILIDADE 11\n",
            "Página: 12\n",
            "Texto: RELATÓRIO SEMESTRAL DO(A) PÓS-GRADUANDO(A) PROGRAMA:  Pós-Graduação em Ciência da Computação_ 1 - IDENTIFICAÇÃO:     \n",
            "2 - ATIVIDADES ACADÊMICAS DA PÓS-GRADUAÇÃO: (realizadas no semestre) 2.1. DISCIPLINA(S) CURSADA(S)Nº HORAS SEMANAISNº CRÉDITOSCONCEITO(S)CKP6666 - Qualificação -    1 Aprovado NOME: Armando Soares Sousa CATEGORIA FUNCIONAL:          Docente  ( X )             Técnico ( )     LOTAÇÃO: Departamento de Computação / Centro de Ciências da Natureza / UFPI NOME DO CURSO: Doutorado em Ciência da Computação ÁREA DE CONCENTRAÇÃO: Ciência da Computação NÍVEL:     Mestrado ( )      Doutorado ( X )  Pós-Doutorado (  )   IES DO CURSO: Mestrado e Doutorado em Ciência  Ciência da Computação / Universidade Federal do Ceará PERÍODO DO RELATÓRIO:     1º  ( X )  OU 2° (  )     SEMESTRE DE   2021   \n",
            "Relatorio Semestral de Atividades 2021-1-Ass 12\n",
            "Página: 13\n",
            "Texto: 3. PLANO DE ESTUDO: 2.2. ESTÁGIO(S) REALIZADO(S)Nº HORAS SEMANAISNº CRÉDITOSCONCEITO(S)----2.3. CURSOS EXTRAORDINÁRIOS, P A R T I C I P A Ç Ã O E M SEMINÁRIOS,  C O N G R E S S O S , ENCONTROS E OUTRAS ATIVIDADESLOCALTOTAL DE HORASCONCEITO(S)    Publicação e apresentação do paper \"Technical Debt in Large-Scale  Distributed  Projects: An Industrial Case Study\" no SANER 2021. IEEE International Conference on Software Analysis, Evolution and Reengineering. Participação do EASE 2021 - International Conference on Evaluation and Assessment in Software Engineering Honolulu, Hawaii, USA \n",
            "     Trondheim, Norway NA \n",
            "        NA- \n",
            "-3.1. Descrever, de forma clara e sucinta, o plano de estudo a ser desenvolvido no próximo semestre, incluindo a(s) disciplina(s) que pretende cursar, sua carga horária e número de crédito(s). -Fazer a revisão do mapeamento sistemático sobre Dívida Técnica Arquitetural  -Realizar um experimento que avalie as versões de um repositório de código de um sistema para avaliar o comportamento de indicadores de dívida técnica arquitetural -Fazer a matrícula no componente curricular CKP8588 - PROPOSTA DE TESE DE DOUTORADO (32 horas - 2 créditos) -Preparar a proposta da tese\n",
            "Relatorio Semestral de Atividades 2021-1-Ass 13\n",
            "Página: 14\n",
            "Texto: 3.2. Sumário do Projeto (Dissertação ou Tese): incluindo o título e o desenvolvimento do projeto propriamente dito. Título: Uma Abordagem para Estimativa de Dívida Técnica Arquitetural por meio de Indicadores de Degradação extraídos a partir de Repositórios de Software - Atividades realizadas relacionadas ao Projeto de Doutorado: •Cursei e concluí a atividade de qualificação; •Participei de todas reuniões relacionadas ao projeto de doutorado e reuniões de orientação; •Fiz a leitura dos principais artigos e trabalhos relacionados a Dívida Técnica, Dívida Técnica Arquitetural e Mineração de Software relacionados ao projeto de doutorado; •Realizei estudos em ferramentas de mineração de repositório de software e data science; •Publiquei o paper \"Technical Debt in Large-Scale Distributed Projects: An Industrial Case Study\" no evento SANER 2021 - International Conference on Software Analysis, Evolution and Reengineering - DOI: 10.1109/SANER50967.2021.00071. Conferência classificada como Qualis A2; •Fiz a apresentação de um mapeamento sistemático sobre Dívida Técnica Arquitetural no Exame de Qualificação como trabalho principal; •Produzi uma monografia sobre um Relatório Técnico sobre Computação em Nuvem como trabalho secundário do Exame de Qualificação.\n",
            "Relatorio Semestral de Atividades 2021-1-Ass 14\n",
            "Página: 15\n",
            "Texto: 4.   DESENVOLVIMENTO DA TESE OU DISSERTAÇÃO: Assinalar ou especificar sua atual situação: a. ( X ) Não ingressou ainda nessa atividade b. (     ) Realiza estudos preliminares para elaboração do Projeto da Tese ou Dissertação c. (     ) Está desenvolvendo o Projeto Tese ou Dissertação d. (     ) Está redigindo o Relatório Final da Tese ou Dissertação  e. (     ) Não se enquadra nos itens acima citados Caso assinale a letra \"c\" ou \"d\", informe o seguinte: -Tema da Tese ou Dissertação:   -Sumário do Projeto de Tese / Dissertação 5. DESENVOLVIMENTO ACADÊMICO: TOTAL DE CRÉDITOS PREVISTOS NO CURSO: ________76________ Nº DE CRÉDITOS CURSADOS NO SEMESTRE:   _______1________ Nº DE CRÉDITOS ACUMULADOS:                         _______61________ Nº DE CRÉDITOS QUE FALTAM:                           ________14________ Nº DE CRÉDITOS CORRESPONDENTES À TESE OU DISSERTAÇÃO:  _____12______ OBS: No total de créditos previsto no plano do curso deverá ser colocado o número de créditos   correspondentes às disciplinas mais o número correspondente à Tese ou Dissertação.   6. PROCESSO DE QUALIFICAÇÃO: \n",
            "7. PROBLEMAS E DIFICULDADES ENCONTRADAS: Não se aplica _________Fortaleza__________, ____/____/______                                                       (Local) _________________________________________________ Coordenador(a) do Curso de Pós-Graduação _________________________________________________ Assinatura do(a) Pós-Graduando(a) __________________________________________ Assinatura do(a) Orientador(a)O curso exige exame de qualificação antes da defesa de Tese ou Dissertação: (  X  ) SIM                 (      ) NÃO Caso haja a exigência, informar a provável data do citado exame de V.Sa.:   __08__/_07_/_2021_\n",
            "Relatorio Semestral de Atividades 2021-1-Ass 15\n",
            "Página: 16\n",
            "Texto: RELATÓRIO SEMESTRAL DO(A) PÓS-GRADUANDO(A) PROGRAMA:  Pós-Graduação em Ciência da Computação_ 1 - IDENTIFICAÇÃO:     \n",
            "2 - ATIVIDADES ACADÊMICAS DA PÓS-GRADUAÇÃO: (realizadas no semestre) 2.1. DISCIPLINA(S) CURSADA(S)Nº HORAS SEMANAISNº CRÉDITOSCONCEITO(S)CKP8588 - Proposta de Tese de Doutorado - 2 Em andamento NOME: Armando Soares Sousa CATEGORIA FUNCIONAL:     Docente (X)             Técnico ( )      LOTAÇÃO: Departamento de Computação / Centro de Ciências da Natureza / UFPI NOME DO CURSO: Doutorado em Ciência da Computação ÁREA DE CONCENTRAÇÃO: Ciência da Computação NÍVEL:   Mestrado ( )    Doutorado (X)  Pós-Doutorado ( )   IES DO CURSO: Mestrado e Doutorado em Ciência  Ciência da Computação / Universidade Federal do Ceará PERÍODO DO RELATÓRIO:        1º  ( )   OU 2° (X)    SEMESTRE DE         2021      \n",
            "Relatorio Semestral de Atividades 2021-2-Ass 16\n",
            "Página: 17\n",
            "Texto: 2.2. ESTÁGIO(S) REALIZADO(S)Nº HORAS SEMANAISNº CRÉDITOSCONCEITO(S)-- --2.3. CURSOS EXTRAORDINÁRIOS, P A R T I C I P A Ç Ã O E M SEMINÁRIOS,  CONGRESSOS,  ENCONTROS E OUTRAS ATIVIDADES E C S A 2 0 2 1 - 1 5 t h E u r o p e a n Conference on Software Architecture. 13-17 September. Vaxjo, Sweden. MSR4SA 2021 -  International Workshop on Mining Software Repositories for Software Architecture.  16  ,17  September. Vaxjo, Sweden. CBSoft 2021 - Congresso Brasileiro de Software. 27 de Setembro a 1o. de Outubro 2021. Joinville, Santa Catarina, Brasil. SBES 2021 - Simpósio Brasileiro de Engenharia de Software. 27, 28 e 29 de Setembro. Joinville, Santa Catarina, Brasil. International Latin American School in Software Engineering. 27 e 28 de Setembro - Joinville, Santa Catarina, Brasil.Local Vaxjo, Sweden Vaxjo, Sweden Joinville, Santa Catarina, Brasil Joinville, Santa Catarina, Brasil Joinville, Santa Catarina, Brasil TOTAL DE HORAS - - - - - CONCEITO(S) - - - - - \n",
            "Relatorio Semestral de Atividades 2021-2-Ass 17\n",
            "Página: 18\n",
            "Texto: 3. PLANO DE ESTUDO: 3.1. Descrever, de forma clara e sucinta, o plano de estudo a ser desenvolvido no próximo semestre, incluindo a(s) disciplina(s) que pretende cursar, sua carga horária e número de crédito(s). •Publicar os resultados dos experimentos referentes a validação de um protótipo desenvolvido, índice e indicadores sugeridos na pesquisa em um sistema alvo para extrair informações de seus repositórios de código referente a dívida técnica arquitetural.   •Publicar os estudos em evento internacional na área de dívida técnica. •Publicar o mapeamento sistemático revisado, apresentar a proposta de tese e escrever a tese de doutorado 3.2. Sumário do Projeto (Dissertação ou Tese): incluindo o título e o desenvolvimento do projeto propriamente dito.\n",
            "Relatorio Semestral de Atividades 2021-2-Ass 18\n",
            "Página: 19\n",
            "Texto: 4.   DESENVOLVIMENTO DA TESE OU DISSERTAÇÃO: Assinalar ou especificar sua atual situação: a. ( X ) Não ingressou ainda nessa atividade b. (     ) Realiza estudos preliminares para elaboração do Projeto da Tese ou Dissertação c. (     ) Está desenvolvendo o Projeto Tese ou Dissertação d. (     ) Está redigindo o Relatório Final da Tese ou Dissertação  e. (     ) Não se enquadra nos itens acima citados Caso assinale a letra \"c\" ou \"d\", informe o seguinte: -Tema da Tese ou Dissertação:   -Sumário do Projeto de Tese / Dissertação Título: Uma Abordagem para Estimativa de Dívida Técnica Arquitetural por meio de Indicadores de Degradação Extraídos a partir de Repositórios de Software - Atividades realizadas relacionadas ao Projeto de Doutorado: •Cursando o componente curricular \"Proposta de Tese de Doutorado\"; •Até o presente momento, participei de todas reuniões relacionadas ao projeto de doutorado e reuniões de orientação; •Leitura dos principais artigos e trabalhos relacionados a Dívida Técnica, Dívida Técnica Arquitetural e Mineração de Software relacionados ao projeto de doutorado; •Aprofundamento e consolidação de estudos em ferramentas de mineração de repositório de software, data mining e data science; •Dando continuidade nos estudos, melhorias e atualizações sobre o mapeamento sistemático sobre Dívida Técnica Arquitetural; •Definição do primeiro esboço de proposta de experimento para análise de repositório de software de um sistema de médio porte para extrair indicadores de dívida técnica arquitetural; •Estou fazendo testes usando técnicas de MSR (Mining software repositories) em repositórios de software da Apache Software Foundation para detectar comportamentos ou padrões que possam indicar Dívida Técnica Arquitetural, para com isso possamos elaborar um experimento que ajude na validação de uma definição de Dívida Técnica Arquitetural mais precisa, bem como fazer a proposição de um método que detecte artefatos que possam indicar Dívida Técnica Arquitetural em um repositório de software. \n",
            "Relatorio Semestral de Atividades 2021-2-Ass 19\n",
            "Página: 20\n",
            "Texto: 5. DESENVOLVIMENTO ACADÊMICO: TOTAL DE CRÉDITOS PREVISTOS NO CURSO: ________76________ Nº DE CRÉDITOS CURSADOS NO SEMESTRE:   _______2________ Nº DE CRÉDITOS ACUMULADOS:                         _______62______ Nº DE CRÉDITOS QUE FALTAM:                           ________12_______ Nº DE CRÉDITOS CORRESPONDENTES À TESE OU DISSERTAÇÃO:  ____12_______ OBS: No total de créditos previsto no plano do curso deverá ser colocado o número de créditos   correspondentes às disciplinas mais o número correspondente à Tese ou Dissertação.   6. PROCESSO DE QUALIFICAÇÃO: \n",
            "7. PROBLEMAS E DIFICULDADES ENCONTRADAS: _________Fortaleza__________, ____/____/______                                                       (Local) _________________________________________________ Coordenador(a) do Curso de Pós-Graduação _________________________________________________ Assinatura do(a) Pós-Graduando(a) __________________________________________ Assinatura do(a) Orientador(a) O curso exige exame de qualificação antes da defesa de Tese ou Dissertação: (  X  ) SIM                 (      ) NÃO Caso haja a exigência, informar a provável data do citado exame de V.Sa.:   08 / 07 / 2021Não se aplica \n",
            "Relatorio Semestral de Atividades 2021-2-Ass 20\n",
            "Página: 21\n",
            "Texto: Portal doDiscenteUNIVERSIDADE FEDERAL DO CEARÁSISTEMA INTEGRADODE GESTÃODE ATIVIDADES ACADÊMICASEMITIDOEM 17/12/2021 10:36ATESTADO DE MATRÍCULAPeríodo Letivo:2021.2Nível:DOUTORADOMatrícula:409428Vínculo:REGULARNome:ARMANDO SOARES SOUSAPrograma:PROGRAMA DE PÓS-GRADUAÇÃO EM CIÊNCIAS DA COMPUTAÇÃONível:DOUTORADOStatus:ATIVOÁrea deConcentração:CIÊNCIA DA COMPUTAÇÃOLinha de Pesquisa:SISTEMAS DE INFORMAÇÃOOrientador:LINCOLN SOUZA ROCHATURMAS MATRICULADAS: 0ATIVIDADES MATRICULADAS: 1Componentes Curriculares/DocentesStatusHorárioCKP8588 - PROPOSTA DE TESE DE DOUTORADOTipo: ATIVIDADE Ano/Periodo: 2021.2MATRICULADO--ATENÇÃOPara verificar a autenticidade deste documento acesse http://www.si3.ufc.br/sigaa/documentos/informando a matrícula, a data de emissão e o código de verificação b7b04434d4SIGAA | Copyright © 2006-2021 - Superintendência de Tecnologia da Informação - UFC - (85) 3366-9999 -si3asprd04.ufc.brSIGAA - Sistema Integrado de Gestão de Atividades Acadêmicashttps://si3.ufc.br/sigaa/portais/discente/discente.jsf\n",
            "1 of 112/17/21, 10:36 AMAtestado de Matri ́cula 2021-2 21\n",
            "Página: 22\n",
            "Texto: Universidade Federal do Ceará\n",
            "PRÓ-REITORIA DE PÓS-GRADUAÇÃO\n",
            "D E C L A R A Ç Ã O\n",
            "             Declaramos, para os fins a que se fizerem necessários, que ARMANDO\n",
            "SOARES SOUSA é aluno(a) REGULAR vinculado(a) a esta universidade, sob o\n",
            "número 409428, no programa de DOUTORADO EM CIÊNCIA DA COMPUTAÇÃO -\n",
            "DOUTORADO - FORTALEZA.\n",
            "             Pró-Reitoria de Pós-Graduação da Universidade Federal do Ceará,  em\n",
            "Fortaleza, 17 de Dezembro de 2021.07.272.636/0001-31\n",
            "Campus Universitário - Reitoria, PICI\n",
            "Fortaleza/CE - CEP: 60020-181\n",
            "(85) 3366-9999 - Fax: (85) 3366-9999  -  e-mail: dsi@sti.ufc.br\n",
            "Código de verificação:\n",
            " c0f80c6e3f\n",
            "Para verificar a autenticidade deste documento acesse http://si3.ufc.br/sigaa/documentos,\n",
            "informando a matrícula, data de emissão do documento e o código de verificação.\n",
            "ATENÇÃO\n",
            "ESTE DOCUMENTO NÃO É VÁLIDO PARA FINS DE SOLICITAÇÃO DE VAGA EM OUTRA INSTITUIÇÃO DE\n",
            "ENSINO SUPERIOR. CASO SEJA NECESSÁRIO TAL DOCUMENTO, É NECESSÁRIO COMPARECER AO DAE.\n",
            "declaracao_409428 22\n",
            "Página: 23\n",
            "Texto: Histórico Escolar - Emitido em: 16/12/2021 às 15:38hPRPPG - Pró-Reitoria de Pesquisa e Pós-Graduação\n",
            "409428 ARMANDO SOARES SOUSA Nome: Matrícula:\n",
            "BENINU DO CARMO SOUSADados Pessoais\n",
            "Nome do Pai:\n",
            "Nome da Mãe: MARIA DOS SANTOS SOARES SOUSA\n",
            "TRAVESSA JÚLIO CÉSAR, 110 - APTO 805 DAMAS\n",
            "FORTALEZA CEEndereço:\n",
            "Município:Bairro:\n",
            "UF:Data de Nascimento: 19/02/1979 Local de Nascimento: TERESINA/PI\n",
            "Dados do Curso\n",
            "PROGRAMA DE PÓS-GRADUAÇÃO EM CIÊNCIAS DA COMPUTAÇÃO\n",
            "MAR/2018\n",
            "FEV/2024Programa:\n",
            "Mês/Ano Inicial: Status:ATIVO\n",
            "Mês Atual: 46ºÁrea de Concentração: CIÊNCIA DA COMPUTAÇÃOCurso:DOUTORADO EM CIÊNCIA DA COMPUTAÇÃO\n",
            "Linha de Pesquisa: SISTEMAS DE INFORMAÇÃOCurrículo: 2015.1\n",
            "Orientador: 1669759 - LINCOLN SOUZA ROCHA\n",
            "8.68Forma Ingresso:\n",
            "Média Final:Autorização do Curso:\n",
            "Data da Publição:\n",
            "SELEÇÃO\n",
            "Motivo Saída: ---Prazo para Conclusão:\n",
            " \n",
            " SIGAA - Sistema Integrado de Gestão de Atividades Acadêmicas\n",
            "UFC - Universidade Federal do Ceará\n",
            "Av. da Universidade, 2853 - Benfica - Fortaleza - CE- CEP 60020-181\n",
            "Identidade: 1599355 Órgão Emissor: SSP Nacionalidade: BRASILEIRA\n",
            "Observações:\n",
            " - Prorrogação de prazo conforme Ofício 14/2021/PRPPG/DIV_ENSINO/PRPPG/CENS/PRPPG/REITORIA, de 14 de julho de 2021\n",
            " - prazo prorrogado conforme Ofício Circular 1/2020/PRPPG de 30/04/2020 e Ofício Circular 10/2020-CGSI/DPB/CAPES de 30/04/2020.Disciplinas/Atividades Cursadas/Cursando\n",
            "Início Componente Curricular Situação CRFreq % Nota Fim CH\n",
            "3/2018 SISTEMAS DISTRIBUÍDOS E REDES DE COMUNICAÇÃO APROVT CKP7500 4100.00 8.0 5/2018 64\n",
            "3/2018 ENGENHARIA DE SOFTWARE APROVT CKP7788 4100.00 8.0 5/2018 64\n",
            "3/2018 BANCO DE DADOS APROVT CKP7944 4100.00 10.0 5/2018 64\n",
            "3/2018 AVALIAÇÃO DE DESEMPENHO DE SISTEMAS COMPUTACIONAIS APROVT CKP8555 4100.00 8.0 5/2018 64\n",
            "2/2018TÓPICOS ESPECIAIS EM SISTEMAS DE INFORMAÇÃO I - Tema:\n",
            "Qualidade de SoftwareAPROVADO CKP8433 484.37 9.1 7/2018 64\n",
            "2/2018 LÓGICA DA PESQUISA CIENTÍFICA APROVADO CKP8466 496.87 9.5 7/2018 64\n",
            "2/2018 ESTRUTURAS DE DADOS APROVADO CKP8077 4100.00 9.5 9/2018 64\n",
            "7/2018 PROFICIÊNCIA EM LÍNGUA ESTRANGEIRA APROVADO CKP5555 1100.00 -- 10/2018 16\n",
            "7/2018 REDES MÓVEIS E SEM FIO APROVADO CKP8222 481.25 8.6 12/2018 64\n",
            "7/2018 APRENDIZAGEM AUTOMATICA APROVADO CKP8277 495.31 7.8 12/2018 64\n",
            "7/2018 COMPUTAÇÃO MÓVEL E UBÍQUA APROVADO CKP8622 4100.00 9.9 12/2018 64\n",
            "2/2019 ESTÁGIO DE DOCÊNCIA II APROVADO CKP0183 4100.00 -- 7/2019 64\n",
            "2/2019 TÓPICOS ESPECIAIS EM REDES E SIST. DISTRIBUÍDOS II APROVADO CKP8422 4100.00 10.0 7/2019 64\n",
            "2/2019 PROGRAMAÇÃO CONCORRENTE APROVADO CKP8477 493.75 7.0 7/2019 64\n",
            "7/2019 ESTÁGIO DE DOCÊNCIA III APROVADO CKP0200 4100.00 -- 12/2019 64\n",
            "7/2019 VISUALIZAÇÃO CIENTÍFICA APROVADO CKP8533 475.00 7.4 12/2019 64\n",
            "2/2020 QUALIFICAÇÃO APROVADO CKP6666 1100.00 -- 7/2021 16\n",
            "9/2021 PROPOSTA DE TESE DE DOUTORADO MATRICULADO CKP8588 2-- -- -- 32\n",
            "Componentes Curriculares Obrigatórios Pendentes: 2\n",
            "Componente Curricular CH Código\n",
            "CKP8588 PROPOSTA DE TESE DE DOUTORADO 32 h Matriculado\n",
            "CKP8999 TESE 192 hCréditos Exigidos: Créditos Integralizados: Créditos Pendentes: 60 0 62\n",
            " Carga Horária Exigida: 960 Carga Horária Integralizada: 992 Carga Horária Pendente: 0\n",
            "Trancamentos, Mobilidades Acadêmica e Prorrogações\n",
            "Trancamento Total:\n",
            "Mobilidade Acadêmica:\n",
            "Prorrogações:Nenhum trancamento total realizado.\n",
            "Nenhuma mobilidade acadêmica realizada.\n",
            "12 meses\n",
            "2 Página 1de Para verificar a autenticidade deste documento entre em http://si3.ufc.br/sigaa/documentos informando a matrícula,\n",
            "data de emissão e o código de verificação: 0205650b46\n",
            "historico_409428 23\n",
            "Página: 24\n",
            "Texto: Histórico Escolar - Emitido em:\n",
            "409428 ARMANDO SOARES SOUSA Nome: Matrícula:16/12/2021 às 15:38hPRPPG - Pró-Reitoria de Pesquisa e Pós-Graduação\n",
            " \n",
            " SIGAA - Sistema Integrado de Gestão de Atividades Acadêmicas\n",
            "UFC - Universidade Federal do Ceará\n",
            "Av. da Universidade, 2853 - Benfica - Fortaleza - CE- CEP 60020-181\n",
            "Atenção, agora o histórico possui uma verificação automática de autenticidade e consistência. Favor, ler instruções no rodapé.\n",
            "2 Página 2de Para verificar a autenticidade deste documento entre em http://si3.ufc.br/sigaa/documentos informando a matrícula,\n",
            "data de emissão e o código de verificação: 0205650b46\n",
            "historico_409428 24\n",
            "Página: 25\n",
            "Texto: 1\n",
            "D E C L A R A Ç Ã O      Declaro, para os devidos ﬁns, que Armando Soares Sousa, aluno(a) do(a) Ciências DaComputação - M/d, UNIVERSIDADE FEDERAL DO CEARÁ, foi contemplado(a) com uma bolsade Doutorado pela Fundação Cearense de Apoio ao Desenvolvimento Cientíﬁco e Tecnológico -FUNCAP, no período de janeiro de 2021 a novembro de 2021, através do Programa de BolsasAcadêmicas de Mestrado e Doutorado desta Fundação.      Declaramos, outrossim, que a referida bolsa não caracteriza nenhum vínculo empregatício dobolsista com esta Fundação.      Fortaleza, 17 de dezembro de 2021.      \n",
            "Chave de Autenticação: 9DMW-5JOE-61bc93a752df7 em 17/12/2021 10:41:59Acesse o link abaixo para autenticar o documento. http://montenegro.funcap.ce.gov.br/sugba/autenticacao_eletronica/Fundação Cearense de Apoio ao Desenvolvimento Cientíﬁco e TecnológicoCNPJ: 00078.007/0001-26Av. Oliveira Paiva, 941 - Cidade dos Funcionários - CEP: 60822-130 - Fortaleza/CETel: (85) 3101-2170 /(85) 3275-9274 / (85) 3275-9475 - Fax - 3275-7862\n",
            "Declarac ̧ão de Bolsa FUNCAP 2021 25\n"
          ]
        }
      ]
    },
    {
      "cell_type": "code",
      "source": [
        "texto_documento"
      ],
      "metadata": {
        "colab": {
          "base_uri": "https://localhost:8080/",
          "height": 157
        },
        "id": "tvO1V6ioCkH4",
        "outputId": "c8ab55cf-e0fc-4274-f22a-62517509da69"
      },
      "execution_count": 31,
      "outputs": [
        {
          "output_type": "execute_result",
          "data": {
            "text/plain": [
              "'AO CHEFE DO DEPARTAMENTO DE COMPUTAÇÃO  DA UNIVERSIDADE FEDERAL DO PIAUÍ  Caro Chefe de Departamento, Eu Armando Soares Sousa, Matrícula UFPI 1886865 lotado no Departamento de Computação do Centro de Ciência da Natureza da Universidade Federal do Piauí solicita sua concordância quanto minha PRORROGAÇÃO DE AFASTAMENTO a fim de dar continuidade ao curso de Pós-Graduação em Ciência da Computação em nível de Doutorado na (Área de Concentração: Ciência da Computação) na Universidade Federal do Ceará, por mais 6 (seis) meses, a partir de 23/02/2022, em conformidade com a Resolução No. 186/06-CEPEX. Além disso, gostaria que o senhor anexasse a meu pedido o documento referente ao plano de qualificação 2022 aprovado na Assembleia Departamental informando a deliberação favorável a meu pedido de afastamento em 2022 para poder concluir minhas atividades do doutorado. Fortaleza, 21, de Dezembro de 2021  __________________________________  (Assinatura) \\nSolicitação ao Chefe para Prorrogac ̧ão de Afastamento 1Documentos que constam no presente arquivo.  Gostaria de informar que além do \"Pedido de Concordância do Chefe de Departamento de Computação\", seguem em os seguintes documentos:  1. Solicitação de renovação de afastamento para o Reitor 2. Declaração de Requisitos e carga horária do Doutorado MDCC/UFC 3. Concordância do pedido de renovação do Coordenador do MDCC/UFC 4. Concordância do pedido de renovação do Orientador 5. Atestado semestral de frequência 2021.1 6. Atestado semestral de frequência 2021.2 7. Avaliação semestral de desempenho 2021.1 8. Avaliação semestral de desempenho 2021.2 9. Termo de compromisso 10. Relatório semestral de atividade 2021.1 11. Relatório semestral de atividade 2021.2 12. Atestado de matrícula 2021.2 13. Declaração de matrícula 2021.2 14. Histórico atualizado 15. Declaração de bolsa da FUNCAP (Fundação Cearense de Apoio ao Desenvolvimento Científico)  Fortaleza, 21, de Dezembro de 2021  __________________________________  (Assinatura)  \\nDocumentos Anexados 2AO MAGNÍFICO REITOR DA UNIVERSIDADE FEDERAL DO PIAUÍ  Magnífico Reitor,  \\u2028 \\u2028  Eu Armando Soares Sousa, Matrícula UFPI 1886865 lotado no Departamento de Computação do Centro de Ciência da Natureza da Universidade Federal do Piauí solicita a Vossa Magnificência, autorizar a PRORROGAÇÃO DE AFASTAMENTO a fim de dar continuidade ao curso de Pós-Graduação em Ciência da Computação em nível de Doutorado na (Área de Concentração: Ciência da Computação) na Universidade Federal do Ceará, por mais 6 (seis) meses, a partir de 23/02/2022, em conformidade com a Resolução No. 186/06-CEPEX.  Fortaleza, 22, de Dezembro de 2021 __________________________________  (Assinatura)  Contato: (86) 994693558 / armando@ufpi.edu.br  \\nSolicitação de Prorrogac ̧ão de Afastamento 3 \\nMINISTÉRIO DA EDUCAÇÃO \\nUNIVERSIDADE FEDERAL DO CEARÁ  \\nCENTRO DE CIÊNCIAS  \\nDEPARTAMENTO DE COMPUTAÇÃO  \\nMESTRADO E DOUTORADO EM CIÊNCIA DA COMPUTAÇÃO  \\n \\nDECLARAÇÃO \\n \\n \\nDeclaramos, para os devidos fins, que o Programa de Pós-Graduação em Ciência da              \\nComputação da Universidade Federal do Ceará (MDCC/UFC) tem como exigência para a conclusão              \\ndo Curso de Doutorado o cumprimento/aprovação dos seguintes requisitos:  \\n* Cursar, no mínimo, 12 disciplinas (48 créditos) - 768h \\n* 02 Estágios de Docência (08 créditos) - 128h \\n* 01 Proficiência em Inglês (01 crédito) - 16h \\n* Defesa de Qualificação de Doutorado (01 crédito) - 16h \\n* Defesa de Proposta de Doutorado (02 créditos) - 32h \\n* Defesa da Tese (12 créditos) - 192h \\n \\nTotal de créditos exigidos: 72 \\nCarga horária total exigida: 1.152h \\n \\n \\nFortaleza, 25 de janeiro de 2021. \\n \\n \\n_____________________________________ \\nProf. João Paulo Pordeus Gomes \\nCoordenador do Programa de Pós-graduação \\nem Ciência da Computação/UFC \\n \\n \\n  \\nCampus do Pici - Bloco 910 - CEP: 60440-900 - Fortaleza/Ceará  \\nFone: (85) 3366-9847 - E-mail: \\u200bsecretaria@mdcc.ufc.br   \\n \\n Declarac ̧ão_Requisitos_e_carga_horaria_Doutorado 4CONCORDÂNCIA DE PEDIDO DE RENOVAÇÃO DE AFASTAMENTO Eu Prof. Dr. João Paulo Pordeus Gomes, Coordenador do Programa de Pós-graduação em Ciência da Computação da Universidade Federal do Ceará (UFC), venho por meio deste manifestar minha concordância na prorrogação de afastamento por mais 6 (seis) meses, a partir de 23/02/2022, do aluno Armando Soares Sousa, devidamente matriculado, no semestre corrente (2021.2) no curso de doutorado em Ciência da Computação na Universidade Federal do Ceará (UFC) e orientado pelo Prof. Dr. Lincoln Souza Rocha. Para com isso, o referido aluno possa concluir com qualidade os componentes curriculares \"Proposta de Tese de Doutorado\" e “Tese\". A justificativa é que devido às adversidades provocadas pela pandemia do Corona Vírus, nos anos de 2020 e 2021, as atividades presenciais, desta universidade, foram suspensas e os laboratórios de pesquisa foram fechados, impactando diretamente nas atividades de pesquisas dos cursos de pós-graduação desta universidade. Com isso, houve extensão nos prazos dos cursos de pós-graduação stricto sensu da UFC conforme Ofício Circular 1/2020/PRPPG/UFC de 30/04/2020, Ofício Circular 10/2020-CGSI/DPB/CAPES/UFC de 30/04/2020 e prorrogação de prazo conforme Ofício 14/2021/PRPPG/DIV_ENSINO/PRPPG/CENS/PRPPG/REITORIA, de 14 de julho de 2021 da Universidade Federal do Ceará. Adicionalmente, gostaria de informar que o referido aluno, dentro deste período de 4 anos (2018, 2019, 2020, 2021), concluiu e foi aprovado nas disciplinas obrigatórias, na proficiência em língua estrangeira, nas atividades de estágio de docência e no exame de Qualificação. Local e data: ________________, ___/___/_____ _____________________________________ Prof. Dr. João Paulo Pordeus Gomes Coordenador do Programa de Pós-graduação em Ciência da Computação - UFC\\nCoordenador - Concorda ̂ncia Pedido Renovac ̧ão Afastamento 5CONCORDÂNCIA DE PEDIDO DE RENOVAÇÃO DE AFASTAMENTO Eu prof. Dr. Lincoln Souza Rocha, orientador do aluno Armando Soares Sousa, devidamente matriculado, no semestre corrente (2021.2) no curso de doutorado em Ciência da Computação na Universidade Federal do Ceará (UFC), venho por meio deste manifestar minha concordância na prorrogação de afastamento por mais 6 (seis) meses a partir de 23/02/2022, para com isso o referido aluno possa concluir com qualidade os componentes curriculares \"Proposta de Tese de Doutorado\" e \"Tese\". Adicionalmente, gostaria de informar que o referido aluno, dentro deste período de 4 anos (2018, 2019, 2020, 2021), concluiu e foi aprovado nas disciplinas obrigatórias, na proficiência em língua estrangeira, nas atividades de estágio de docência e no exame de Qualificação. Local e data: ________________, ___/___/_____ _____________________________________ Lincoln Souza Rocha Assinatura do Orientador(a) \\nOrientador - Concorda ̂ncia Pedido Renovac ̧ão Afastamento-Ass 6ATESTADO SEMESTRAL DE FREQUÊNCIA DO(A) PÓS-GRADUANDO(A) Atestamos, para fins de comprovação junto à CPSS/PRPG/UFPI, que o (a) Sr(a) Armando Soares Sousa aluno(a) matriculado(a) no curso de Pós-Graduação em Ciência da Computação área de concentração em Ciência da Computação em nível de Doutorado participou regularmente das suas atividades do Curso, no 1º [x] ou 2º [ ] semestre de: 2021.  O presente atestado visa cumprir o que estabelece as normas da UFPI de afastamento para Pós-Graduação.   Devido às adversidades provocadas pela pandemia do Corona Vírus, nos anos de 2020 e 2021, as atividades presenciais, da Universidade Federal do Ceará, foram suspensas e os laboratórios de pesquisa foram fechados. Com isso, as atividades tem sido realizadas remotamente sendo amparadas pelos seguintes documentos: Ofício Circular 1/2020/ PRPPG/UFC de 30/04/2020, Ofício Circular 10/2020-CGSI/DPB/CAPES/UFC de 30/04/2020, e prorrogação de prazo conforme Ofício 14/2021/PRPPG/DIV_ENSINO/PRPPG/CENS/ PRPPG/REITORIA, de 14 de julho de 2021.  O período 2021.1 foi encerrado em 02/09/2021.    \\nENDEREÇO PARA REMESSA: Universidade Federal do Piauí – Pró-Reitoria de Ensino de Pós-Graduação-PRPG/CPSS Campus Universitário da Ininga – CEP: 64049-550 – Teresina/Piauí Fone: (86) 3215-7405 E-mail: cpss.capacitacao@ufpi.edu.br DEVOLUÇÃO:  Primeiro semestre até 15.08  Segundo semestre até 15.01\\nAtestado_Semestral_de_Frequencia_2021-1 7ATESTADO SEMESTRAL DE FREQUÊNCIA DO(A) PÓS-GRADUANDO(A) Atestamos, para fins de comprovação junto à CPSS/PRPG/UFPI, que o (a) Sr(a) Armando Soares Sousa aluno(a) matriculado(a) no curso de Pós-Graduação em Ciência da Computação área de concentração em Ciência da Computação em nível de Doutorado participa regularmente das suas atividades do Curso, no 1º [ ] ou 2º [x] semestre de: 2021.  O presente atestado visa cumprir o que estabelece as normas da UFPI de afastamento para Pós-Graduação.   Devido às adversidades provocadas pela pandemia do Corona Vírus, nos anos de 2020 e 2021, as atividades presenciais, da Universidade Federal do Ceará, foram suspensas e os laboratórios de pesquisa foram fechados. Com isso, as atividades tem sido realizadas remotamente sendo amparadas pelos seguintes documentos: Ofício Circular 1/2020/ PRPPG/UFC de 30/04/2020, Ofício Circular 10/2020-CGSI/DPB/CAPES/UFC de 30/04/2020, e prorrogação de prazo conforme Ofício 14/2021/PRPPG/DIV_ENSINO/PRPPG/CENS/ PRPPG/REITORIA, de 14 de julho de 2021. O período de 2021.2 se encerra no próximo dia 10/02/2022   \\nENDEREÇO PARA REMESSA: Universidade Federal do Piauí – Pró-Reitoria de Ensino de Pós-Graduação-PRPG/CPSS Campus Universitário da Ininga – CEP: 64049-550 – Teresina/Piauí Fone: (86) 3215-7405 E-mail: cpss.capacitacao@ufpi.edu.br DEVOLUÇÃO:  Primeiro semestre até 15.08  Segundo semestre até 15.01\\nAtestado_Semestral_de_Frequencia_2021-2 8AVALIAÇÃO SEMESTRAL DO DESEMPENHO DO(A) PÓS-GRADUANDO(A) PELO(A) ORIENTADOR(A)  1 – Nome: ARMANDO SOARES SOUSA  2 – IES do curso: UNIVERSIDADE FEDERAL DO CEARÁ 3 – Nome do Curso: PÓS-GRADUAÇÃO EM CIÊNCIA DA COMPUTAÇÃO 5 – Área de Concentração: Ciência da Computação \\nObservação: em decorrência das adversidades provocadas pela pandemia do Corona Vírus, em 2020 e 2021, houve alteração nos prazos dos semestres 2021.1. e 2021.2 conforme Ofício Circular 1/2020/PRPPG/UFC de 30/04/2020, Ofício Circular 10/2020-CGSI/DPB/CAPES/UFC de 30/04/2020  e prorrogação de prazo conforme Ofício 14/2021/PRPPG/DIV_ENSINO/PRPPG/CENS/ PRPPG/REITORIA, de 14 de julho de 2021 da Universidade Federal do Ceará. O período de 2021.1 foi encerrado em 02/09/2021. Local e data: ________________, ___/___/_____ _____________________________________ Lincoln Souza Rocha Assinatura do Orientador(a) ENDEREÇO PARA REMESSA: Universidade Federal do Piauí - PRPPG/Coordenadoria Geral de Pós-Graduação Campus Universitário da Ininga -   64049-550 – Teresina – Piauí Fone: (0**86) 3215-5561 E-mail: cgpg.capacitacao@ufpi.edu.br4 – Nível do Curso: MestradoDoutoradoXPós-Doutorado6 – Avaliando cuidadosamente as atividades do(a) Pós-Graduando(a) acima, sob minha orientaçãono 1º  x OU  2º  semestre de 2021, classifico seu desempenho como:AnoMuito Bom BomRegularInsuficientePROGRAMAS: \\nAvaliacao Semestral de Desempenho 2021-1-Ass 9AVALIAÇÃO SEMESTRAL DO DESEMPENHO DO(A) PÓS-GRADUANDO(A) PELO(A) ORIENTADOR(A)  1 – Nome: ARMANDO SOARES SOUSA  2 – IES do curso: UNIVERSIDADE FEDERAL DO CEARÁ 3 – Nome do Curso: PÓS-GRADUAÇÃO EM CIÊNCIA DA COMPUTAÇÃO 5 – Área de Concentração: Ciência da Computação \\nObservação: em decorrência das adversidades provocadas pela pandemia do Corona Vírus, em 2020 e 2021, houve alteração nos prazos dos semestres 2021.1. e 2021.2 conforme Ofício Circular 1/2020/PRPPG/UFC de 30/04/2020, Ofício Circular 10/2020-CGSI/DPB/CAPES/UFC de 30/04/2020  e prorrogação de prazo conforme Ofício 14/2021/PRPPG/DIV_ENSINO/PRPPG/CENS/ PRPPG/REITORIA, de 14 de julho de 2021 da Universidade Federal do Ceará. O período de 2021.2 deverá ser encerrado em 10/02/2022. Com isso, o referido aluno continua exercendo suas atividades até o presente momento. Local e data: __________________, ___/___/_____ _____________________________________ Lincoln Souza Rocha Assinatura do Orientador(a) ENDEREÇO PARA REMESSA: Universidade Federal do Piauí - PRPPG/Coordenadoria Geral de Pós-Graduação Campus Universitário da Ininga -   64049-550 – Teresina – Piauí Fone: (0**86) 3215-5561 E-mail: cgpg.capacitacao@ufpi.edu.br 4 – Nível do Curso: MestradoDoutoradoXPós-Doutorado6 – Avaliando cuidadosamente as atividades do(a) Pós-Graduando(a) acima, sob minha orientaçãono 1º  OU  2º X  semestre de      2021, classifico seu desempenho como:AnoMuito Bom BomRegularInsuficientePROGRAMAS: \\nAvaliacao Semestral de Desempenho 2021-2-Ass 10TERMO DE COMPROMISSO E RESPONSABILIDADE    Declaro e assumo o compromisso e a responsabilidade legal de prestar serviço à Universidade Federal do Piauí, após conclusão do curso de Pós-Graduação em Ciência da Computação em nível de Doutorado na Universidade Federal do Ceará, na cidade de Fortaleza pelo prazo equivalente ao tempo usufruído no afastamento das atividades funcionais para a realização do citado curso.  Teresina, ______/_____/_____   _____________________________________________ (assinatura) \\nTERMO_DE_COMPROMISSO_RESPONSABILIDADE 11RELATÓRIO SEMESTRAL DO(A) PÓS-GRADUANDO(A) PROGRAMA:  Pós-Graduação em Ciência da Computação_ 1 - IDENTIFICAÇÃO:     \\n2 - ATIVIDADES ACADÊMICAS DA PÓS-GRADUAÇÃO: (realizadas no semestre) 2.1. DISCIPLINA(S) CURSADA(S)Nº HORAS SEMANAISNº CRÉDITOSCONCEITO(S)CKP6666 - Qualificação -    1 Aprovado NOME: Armando Soares Sousa CATEGORIA FUNCIONAL:          Docente  ( X )             Técnico ( )     LOTAÇÃO: Departamento de Computação / Centro de Ciências da Natureza / UFPI NOME DO CURSO: Doutorado em Ciência da Computação ÁREA DE CONCENTRAÇÃO: Ciência da Computação NÍVEL:     Mestrado ( )      Doutorado ( X )  Pós-Doutorado (  )   IES DO CURSO: Mestrado e Doutorado em Ciência  Ciência da Computação / Universidade Federal do Ceará PERÍODO DO RELATÓRIO:     1º  ( X )  OU 2° (  )     SEMESTRE DE   2021   \\nRelatorio Semestral de Atividades 2021-1-Ass 123. PLANO DE ESTUDO: 2.2. ESTÁGIO(S) REALIZADO(S)Nº HORAS SEMANAISNº CRÉDITOSCONCEITO(S)----2.3. CURSOS EXTRAORDINÁRIOS, P A R T I C I P A Ç Ã O E M SEMINÁRIOS,  C O N G R E S S O S , ENCONTROS E OUTRAS ATIVIDADESLOCALTOTAL DE HORASCONCEITO(S)    Publicação e apresentação do paper \"Technical Debt in Large-Scale  Distributed  Projects: An Industrial Case Study\" no SANER 2021. IEEE International Conference on Software Analysis, Evolution and Reengineering. Participação do EASE 2021 - International Conference on Evaluation and Assessment in Software Engineering Honolulu, Hawaii, USA \\n     Trondheim, Norway NA \\n        NA- \\n-3.1. Descrever, de forma clara e sucinta, o plano de estudo a ser desenvolvido no próximo semestre, incluindo a(s) disciplina(s) que pretende cursar, sua carga horária e número de crédito(s). -Fazer a revisão do mapeamento sistemático sobre Dívida Técnica Arquitetural  -Realizar um experimento que avalie as versões de um repositório de código de um sistema para avaliar o comportamento de indicadores de dívida técnica arquitetural -Fazer a matrícula no componente curricular CKP8588 - PROPOSTA DE TESE DE DOUTORADO (32 horas - 2 créditos) -Preparar a proposta da tese\\nRelatorio Semestral de Atividades 2021-1-Ass 133.2. Sumário do Projeto (Dissertação ou Tese): incluindo o título e o desenvolvimento do projeto propriamente dito. Título: Uma Abordagem para Estimativa de Dívida Técnica Arquitetural por meio de Indicadores de Degradação extraídos a partir de Repositórios de Software - Atividades realizadas relacionadas ao Projeto de Doutorado: •Cursei e concluí a atividade de qualificação; •Participei de todas reuniões relacionadas ao projeto de doutorado e reuniões de orientação; •Fiz a leitura dos principais artigos e trabalhos relacionados a Dívida Técnica, Dívida Técnica Arquitetural e Mineração de Software relacionados ao projeto de doutorado; •Realizei estudos em ferramentas de mineração de repositório de software e data science; •Publiquei o paper \"Technical Debt in Large-Scale Distributed Projects: An Industrial Case Study\" no evento SANER 2021 - International Conference on Software Analysis, Evolution and Reengineering - DOI: 10.1109/SANER50967.2021.00071. Conferência classificada como Qualis A2; •Fiz a apresentação de um mapeamento sistemático sobre Dívida Técnica Arquitetural no Exame de Qualificação como trabalho principal; •Produzi uma monografia sobre um Relatório Técnico sobre Computação em Nuvem como trabalho secundário do Exame de Qualificação.\\nRelatorio Semestral de Atividades 2021-1-Ass 144.   DESENVOLVIMENTO DA TESE OU DISSERTAÇÃO: Assinalar ou especificar sua atual situação: a. ( X ) Não ingressou ainda nessa atividade b. (     ) Realiza estudos preliminares para elaboração do Projeto da Tese ou Dissertação c. (     ) Está desenvolvendo o Projeto Tese ou Dissertação d. (     ) Está redigindo o Relatório Final da Tese ou Dissertação  e. (     ) Não se enquadra nos itens acima citados Caso assinale a letra \"c\" ou \"d\", informe o seguinte: -Tema da Tese ou Dissertação:   -Sumário do Projeto de Tese / Dissertação 5. DESENVOLVIMENTO ACADÊMICO: TOTAL DE CRÉDITOS PREVISTOS NO CURSO: ________76________ Nº DE CRÉDITOS CURSADOS NO SEMESTRE:   _______1________ Nº DE CRÉDITOS ACUMULADOS:                         _______61________ Nº DE CRÉDITOS QUE FALTAM:                           ________14________ Nº DE CRÉDITOS CORRESPONDENTES À TESE OU DISSERTAÇÃO:  _____12______ OBS: No total de créditos previsto no plano do curso deverá ser colocado o número de créditos   correspondentes às disciplinas mais o número correspondente à Tese ou Dissertação.   6. PROCESSO DE QUALIFICAÇÃO: \\n7. PROBLEMAS E DIFICULDADES ENCONTRADAS: Não se aplica _________Fortaleza__________, ____/____/______                                                       (Local) _________________________________________________ Coordenador(a) do Curso de Pós-Graduação _________________________________________________ Assinatura do(a) Pós-Graduando(a) __________________________________________ Assinatura do(a) Orientador(a)O curso exige exame de qualificação antes da defesa de Tese ou Dissertação: (  X  ) SIM                 (      ) NÃO Caso haja a exigência, informar a provável data do citado exame de V.Sa.:   __08__/_07_/_2021_\\nRelatorio Semestral de Atividades 2021-1-Ass 15RELATÓRIO SEMESTRAL DO(A) PÓS-GRADUANDO(A) PROGRAMA:  Pós-Graduação em Ciência da Computação_ 1 - IDENTIFICAÇÃO:     \\n2 - ATIVIDADES ACADÊMICAS DA PÓS-GRADUAÇÃO: (realizadas no semestre) 2.1. DISCIPLINA(S) CURSADA(S)Nº HORAS SEMANAISNº CRÉDITOSCONCEITO(S)CKP8588 - Proposta de Tese de Doutorado - 2 Em andamento NOME: Armando Soares Sousa CATEGORIA FUNCIONAL:     Docente (X)             Técnico ( )      LOTAÇÃO: Departamento de Computação / Centro de Ciências da Natureza / UFPI NOME DO CURSO: Doutorado em Ciência da Computação ÁREA DE CONCENTRAÇÃO: Ciência da Computação NÍVEL:   Mestrado ( )    Doutorado (X)  Pós-Doutorado ( )   IES DO CURSO: Mestrado e Doutorado em Ciência  Ciência da Computação / Universidade Federal do Ceará PERÍODO DO RELATÓRIO:        1º  ( )   OU 2° (X)    SEMESTRE DE         2021      \\nRelatorio Semestral de Atividades 2021-2-Ass 162.2. ESTÁGIO(S) REALIZADO(S)Nº HORAS SEMANAISNº CRÉDITOSCONCEITO(S)-- --2.3. CURSOS EXTRAORDINÁRIOS, P A R T I C I P A Ç Ã O E M SEMINÁRIOS,  CONGRESSOS,  ENCONTROS E OUTRAS ATIVIDADES E C S A 2 0 2 1 - 1 5 t h E u r o p e a n Conference on Software Architecture. 13-17 September. Vaxjo, Sweden. MSR4SA 2021 -  International Workshop on Mining Software Repositories for Software Architecture.  16  ,17  September. Vaxjo, Sweden. CBSoft 2021 - Congresso Brasileiro de Software. 27 de Setembro a 1o. de Outubro 2021. Joinville, Santa Catarina, Brasil. SBES 2021 - Simpósio Brasileiro de Engenharia de Software. 27, 28 e 29 de Setembro. Joinville, Santa Catarina, Brasil. International Latin American School in Software Engineering. 27 e 28 de Setembro - Joinville, Santa Catarina, Brasil.Local Vaxjo, Sweden Vaxjo, Sweden Joinville, Santa Catarina, Brasil Joinville, Santa Catarina, Brasil Joinville, Santa Catarina, Brasil TOTAL DE HORAS - - - - - CONCEITO(S) - - - - - \\nRelatorio Semestral de Atividades 2021-2-Ass 173. PLANO DE ESTUDO: 3.1. Descrever, de forma clara e sucinta, o plano de estudo a ser desenvolvido no próximo semestre, incluindo a(s) disciplina(s) que pretende cursar, sua carga horária e número de crédito(s). •Publicar os resultados dos experimentos referentes a validação de um protótipo desenvolvido, índice e indicadores sugeridos na pesquisa em um sistema alvo para extrair informações de seus repositórios de código referente a dívida técnica arquitetural.   •Publicar os estudos em evento internacional na área de dívida técnica. •Publicar o mapeamento sistemático revisado, apresentar a proposta de tese e escrever a tese de doutorado 3.2. Sumário do Projeto (Dissertação ou Tese): incluindo o título e o desenvolvimento do projeto propriamente dito.\\nRelatorio Semestral de Atividades 2021-2-Ass 184.   DESENVOLVIMENTO DA TESE OU DISSERTAÇÃO: Assinalar ou especificar sua atual situação: a. ( X ) Não ingressou ainda nessa atividade b. (     ) Realiza estudos preliminares para elaboração do Projeto da Tese ou Dissertação c. (     ) Está desenvolvendo o Projeto Tese ou Dissertação d. (     ) Está redigindo o Relatório Final da Tese ou Dissertação  e. (     ) Não se enquadra nos itens acima citados Caso assinale a letra \"c\" ou \"d\", informe o seguinte: -Tema da Tese ou Dissertação:   -Sumário do Projeto de Tese / Dissertação Título: Uma Abordagem para Estimativa de Dívida Técnica Arquitetural por meio de Indicadores de Degradação Extraídos a partir de Repositórios de Software - Atividades realizadas relacionadas ao Projeto de Doutorado: •Cursando o componente curricular \"Proposta de Tese de Doutorado\"; •Até o presente momento, participei de todas reuniões relacionadas ao projeto de doutorado e reuniões de orientação; •Leitura dos principais artigos e trabalhos relacionados a Dívida Técnica, Dívida Técnica Arquitetural e Mineração de Software relacionados ao projeto de doutorado; •Aprofundamento e consolidação de estudos em ferramentas de mineração de repositório de software, data mining e data science; •Dando continuidade nos estudos, melhorias e atualizações sobre o mapeamento sistemático sobre Dívida Técnica Arquitetural; •Definição do primeiro esboço de proposta de experimento para análise de repositório de software de um sistema de médio porte para extrair indicadores de dívida técnica arquitetural; •Estou fazendo testes usando técnicas de MSR (Mining software repositories) em repositórios de software da Apache Software Foundation para detectar comportamentos ou padrões que possam indicar Dívida Técnica Arquitetural, para com isso possamos elaborar um experimento que ajude na validação de uma definição de Dívida Técnica Arquitetural mais precisa, bem como fazer a proposição de um método que detecte artefatos que possam indicar Dívida Técnica Arquitetural em um repositório de software. \\nRelatorio Semestral de Atividades 2021-2-Ass 195. DESENVOLVIMENTO ACADÊMICO: TOTAL DE CRÉDITOS PREVISTOS NO CURSO: ________76________ Nº DE CRÉDITOS CURSADOS NO SEMESTRE:   _______2________ Nº DE CRÉDITOS ACUMULADOS:                         _______62______ Nº DE CRÉDITOS QUE FALTAM:                           ________12_______ Nº DE CRÉDITOS CORRESPONDENTES À TESE OU DISSERTAÇÃO:  ____12_______ OBS: No total de créditos previsto no plano do curso deverá ser colocado o número de créditos   correspondentes às disciplinas mais o número correspondente à Tese ou Dissertação.   6. PROCESSO DE QUALIFICAÇÃO: \\n7. PROBLEMAS E DIFICULDADES ENCONTRADAS: _________Fortaleza__________, ____/____/______                                                       (Local) _________________________________________________ Coordenador(a) do Curso de Pós-Graduação _________________________________________________ Assinatura do(a) Pós-Graduando(a) __________________________________________ Assinatura do(a) Orientador(a) O curso exige exame de qualificação antes da defesa de Tese ou Dissertação: (  X  ) SIM                 (      ) NÃO Caso haja a exigência, informar a provável data do citado exame de V.Sa.:   08 / 07 / 2021Não se aplica \\nRelatorio Semestral de Atividades 2021-2-Ass 20Portal doDiscenteUNIVERSIDADE FEDERAL DO CEARÁSISTEMA INTEGRADODE GESTÃODE ATIVIDADES ACADÊMICASEMITIDOEM 17/12/2021 10:36ATESTADO DE MATRÍCULAPeríodo Letivo:2021.2Nível:DOUTORADOMatrícula:409428Vínculo:REGULARNome:ARMANDO SOARES SOUSAPrograma:PROGRAMA DE PÓS-GRADUAÇÃO EM CIÊNCIAS DA COMPUTAÇÃONível:DOUTORADOStatus:ATIVOÁrea deConcentração:CIÊNCIA DA COMPUTAÇÃOLinha de Pesquisa:SISTEMAS DE INFORMAÇÃOOrientador:LINCOLN SOUZA ROCHATURMAS MATRICULADAS: 0ATIVIDADES MATRICULADAS: 1Componentes Curriculares/DocentesStatusHorárioCKP8588 - PROPOSTA DE TESE DE DOUTORADOTipo: ATIVIDADE Ano/Periodo: 2021.2MATRICULADO--ATENÇÃOPara verificar a autenticidade deste documento acesse http://www.si3.ufc.br/sigaa/documentos/informando a matrícula, a data de emissão e o código de verificação b7b04434d4SIGAA | Copyright © 2006-2021 - Superintendência de Tecnologia da Informação - UFC - (85) 3366-9999 -si3asprd04.ufc.brSIGAA - Sistema Integrado de Gestão de Atividades Acadêmicashttps://si3.ufc.br/sigaa/portais/discente/discente.jsf\\n1 of 112/17/21, 10:36 AMAtestado de Matri ́cula 2021-2 21Universidade Federal do Ceará\\nPRÓ-REITORIA DE PÓS-GRADUAÇÃO\\nD E C L A R A Ç Ã O\\n             Declaramos, para os fins a que se fizerem necessários, que ARMANDO\\nSOARES SOUSA é aluno(a) REGULAR vinculado(a) a esta universidade, sob o\\nnúmero 409428, no programa de DOUTORADO EM CIÊNCIA DA COMPUTAÇÃO -\\nDOUTORADO - FORTALEZA.\\n             Pró-Reitoria de Pós-Graduação da Universidade Federal do Ceará,  em\\nFortaleza, 17 de Dezembro de 2021.07.272.636/0001-31\\nCampus Universitário - Reitoria, PICI\\nFortaleza/CE - CEP: 60020-181\\n(85) 3366-9999 - Fax: (85) 3366-9999  -  e-mail: dsi@sti.ufc.br\\nCódigo de verificação:\\n c0f80c6e3f\\nPara verificar a autenticidade deste documento acesse http://si3.ufc.br/sigaa/documentos,\\ninformando a matrícula, data de emissão do documento e o código de verificação.\\nATENÇÃO\\nESTE DOCUMENTO NÃO É VÁLIDO PARA FINS DE SOLICITAÇÃO DE VAGA EM OUTRA INSTITUIÇÃO DE\\nENSINO SUPERIOR. CASO SEJA NECESSÁRIO TAL DOCUMENTO, É NECESSÁRIO COMPARECER AO DAE.\\ndeclaracao_409428 22Histórico Escolar - Emitido em: 16/12/2021 às 15:38hPRPPG - Pró-Reitoria de Pesquisa e Pós-Graduação\\n409428 ARMANDO SOARES SOUSA Nome: Matrícula:\\nBENINU DO CARMO SOUSADados Pessoais\\nNome do Pai:\\nNome da Mãe: MARIA DOS SANTOS SOARES SOUSA\\nTRAVESSA JÚLIO CÉSAR, 110 - APTO 805 DAMAS\\nFORTALEZA CEEndereço:\\nMunicípio:Bairro:\\nUF:Data de Nascimento: 19/02/1979 Local de Nascimento: TERESINA/PI\\nDados do Curso\\nPROGRAMA DE PÓS-GRADUAÇÃO EM CIÊNCIAS DA COMPUTAÇÃO\\nMAR/2018\\nFEV/2024Programa:\\nMês/Ano Inicial: Status:ATIVO\\nMês Atual: 46ºÁrea de Concentração: CIÊNCIA DA COMPUTAÇÃOCurso:DOUTORADO EM CIÊNCIA DA COMPUTAÇÃO\\nLinha de Pesquisa: SISTEMAS DE INFORMAÇÃOCurrículo: 2015.1\\nOrientador: 1669759 - LINCOLN SOUZA ROCHA\\n8.68Forma Ingresso:\\nMédia Final:Autorização do Curso:\\nData da Publição:\\nSELEÇÃO\\nMotivo Saída: ---Prazo para Conclusão:\\n \\n SIGAA - Sistema Integrado de Gestão de Atividades Acadêmicas\\nUFC - Universidade Federal do Ceará\\nAv. da Universidade, 2853 - Benfica - Fortaleza - CE- CEP 60020-181\\nIdentidade: 1599355 Órgão Emissor: SSP Nacionalidade: BRASILEIRA\\nObservações:\\n - Prorrogação de prazo conforme Ofício 14/2021/PRPPG/DIV_ENSINO/PRPPG/CENS/PRPPG/REITORIA, de 14 de julho de 2021\\n - prazo prorrogado conforme Ofício Circular 1/2020/PRPPG de 30/04/2020 e Ofício Circular 10/2020-CGSI/DPB/CAPES de 30/04/2020.Disciplinas/Atividades Cursadas/Cursando\\nInício Componente Curricular Situação CRFreq % Nota Fim CH\\n3/2018 SISTEMAS DISTRIBUÍDOS E REDES DE COMUNICAÇÃO APROVT CKP7500 4100.00 8.0 5/2018 64\\n3/2018 ENGENHARIA DE SOFTWARE APROVT CKP7788 4100.00 8.0 5/2018 64\\n3/2018 BANCO DE DADOS APROVT CKP7944 4100.00 10.0 5/2018 64\\n3/2018 AVALIAÇÃO DE DESEMPENHO DE SISTEMAS COMPUTACIONAIS APROVT CKP8555 4100.00 8.0 5/2018 64\\n2/2018TÓPICOS ESPECIAIS EM SISTEMAS DE INFORMAÇÃO I - Tema:\\nQualidade de SoftwareAPROVADO CKP8433 484.37 9.1 7/2018 64\\n2/2018 LÓGICA DA PESQUISA CIENTÍFICA APROVADO CKP8466 496.87 9.5 7/2018 64\\n2/2018 ESTRUTURAS DE DADOS APROVADO CKP8077 4100.00 9.5 9/2018 64\\n7/2018 PROFICIÊNCIA EM LÍNGUA ESTRANGEIRA APROVADO CKP5555 1100.00 -- 10/2018 16\\n7/2018 REDES MÓVEIS E SEM FIO APROVADO CKP8222 481.25 8.6 12/2018 64\\n7/2018 APRENDIZAGEM AUTOMATICA APROVADO CKP8277 495.31 7.8 12/2018 64\\n7/2018 COMPUTAÇÃO MÓVEL E UBÍQUA APROVADO CKP8622 4100.00 9.9 12/2018 64\\n2/2019 ESTÁGIO DE DOCÊNCIA II APROVADO CKP0183 4100.00 -- 7/2019 64\\n2/2019 TÓPICOS ESPECIAIS EM REDES E SIST. DISTRIBUÍDOS II APROVADO CKP8422 4100.00 10.0 7/2019 64\\n2/2019 PROGRAMAÇÃO CONCORRENTE APROVADO CKP8477 493.75 7.0 7/2019 64\\n7/2019 ESTÁGIO DE DOCÊNCIA III APROVADO CKP0200 4100.00 -- 12/2019 64\\n7/2019 VISUALIZAÇÃO CIENTÍFICA APROVADO CKP8533 475.00 7.4 12/2019 64\\n2/2020 QUALIFICAÇÃO APROVADO CKP6666 1100.00 -- 7/2021 16\\n9/2021 PROPOSTA DE TESE DE DOUTORADO MATRICULADO CKP8588 2-- -- -- 32\\nComponentes Curriculares Obrigatórios Pendentes: 2\\nComponente Curricular CH Código\\nCKP8588 PROPOSTA DE TESE DE DOUTORADO 32 h Matriculado\\nCKP8999 TESE 192 hCréditos Exigidos: Créditos Integralizados: Créditos Pendentes: 60 0 62\\n Carga Horária Exigida: 960 Carga Horária Integralizada: 992 Carga Horária Pendente: 0\\nTrancamentos, Mobilidades Acadêmica e Prorrogações\\nTrancamento Total:\\nMobilidade Acadêmica:\\nProrrogações:Nenhum trancamento total realizado.\\nNenhuma mobilidade acadêmica realizada.\\n12 meses\\n2 Página 1de Para verificar a autenticidade deste documento entre em http://si3.ufc.br/sigaa/documentos informando a matrícula,\\ndata de emissão e o código de verificação: 0205650b46\\nhistorico_409428 23Histórico Escolar - Emitido em:\\n409428 ARMANDO SOARES SOUSA Nome: Matrícula:16/12/2021 às 15:38hPRPPG - Pró-Reitoria de Pesquisa e Pós-Graduação\\n \\n SIGAA - Sistema Integrado de Gestão de Atividades Acadêmicas\\nUFC - Universidade Federal do Ceará\\nAv. da Universidade, 2853 - Benfica - Fortaleza - CE- CEP 60020-181\\nAtenção, agora o histórico possui uma verificação automática de autenticidade e consistência. Favor, ler instruções no rodapé.\\n2 Página 2de Para verificar a autenticidade deste documento entre em http://si3.ufc.br/sigaa/documentos informando a matrícula,\\ndata de emissão e o código de verificação: 0205650b46\\nhistorico_409428 241\\nD E C L A R A Ç Ã O      Declaro, para os devidos ﬁns, que Armando Soares Sousa, aluno(a) do(a) Ciências DaComputação - M/d, UNIVERSIDADE FEDERAL DO CEARÁ, foi contemplado(a) com uma bolsade Doutorado pela Fundação Cearense de Apoio ao Desenvolvimento Cientíﬁco e Tecnológico -FUNCAP, no período de janeiro de 2021 a novembro de 2021, através do Programa de BolsasAcadêmicas de Mestrado e Doutorado desta Fundação.      Declaramos, outrossim, que a referida bolsa não caracteriza nenhum vínculo empregatício dobolsista com esta Fundação.      Fortaleza, 17 de dezembro de 2021.      \\nChave de Autenticação: 9DMW-5JOE-61bc93a752df7 em 17/12/2021 10:41:59Acesse o link abaixo para autenticar o documento. http://montenegro.funcap.ce.gov.br/sugba/autenticacao_eletronica/Fundação Cearense de Apoio ao Desenvolvimento Cientíﬁco e TecnológicoCNPJ: 00078.007/0001-26Av. Oliveira Paiva, 941 - Cidade dos Funcionários - CEP: 60822-130 - Fortaleza/CETel: (85) 3101-2170 /(85) 3275-9274 / (85) 3275-9475 - Fax - 3275-7862\\nDeclarac ̧ão de Bolsa FUNCAP 2021 25'"
            ],
            "application/vnd.google.colaboratory.intrinsic+json": {
              "type": "string"
            }
          },
          "metadata": {},
          "execution_count": 31
        }
      ]
    },
    {
      "cell_type": "markdown",
      "source": [
        "### Envia o conteúdo para o Google Gemini analisar"
      ],
      "metadata": {
        "id": "kGqs7rvmET6c"
      }
    },
    {
      "cell_type": "code",
      "source": [
        "pergunte_ao_gemini = \"Você pode fazer um resumo do seguinte texto: \"\n",
        "prompt_text = f\"{pergunte_ao_gemini}{texto_documento}\"\n",
        "response_resumo_texto = request_to_gemini(prompt_text)"
      ],
      "metadata": {
        "colab": {
          "base_uri": "https://localhost:8080/",
          "height": 836
        },
        "id": "eXvx9zMOEdEz",
        "outputId": "3b19304f-43a5-49cc-fe41-8729c57676b8"
      },
      "execution_count": 55,
      "outputs": [
        {
          "output_type": "stream",
          "name": "stdout",
          "text": [
            "Aguarde...\n",
            "response:\n",
            "GenerateContentResponse(\n",
            "    done=True,\n",
            "    iterator=None,\n",
            "    result=protos.GenerateContentResponse({\n",
            "      \"candidates\": [\n",
            "        {\n",
            "          \"content\": {\n",
            "            \"parts\": [\n",
            "              {\n",
            "                \"text\": \"O documento apresenta uma solicita\\u00e7\\u00e3o do Dr. Armando Soares Sousa, matriculado no Departamento de Computa\\u00e7\\u00e3o da Universidade Federal do Piau\\u00ed (UFPI), para obter concord\\u00e2ncia de sua prorroga\\u00e7\\u00e3o de afastamento a fim de prosseguir com seu curso de p\\u00f3s-doutorado em Ci\\u00eancia da Computa\\u00e7\\u00e3o na Universidade Federal do Cear\\u00e1 (UFC) por mais 6 meses a partir de 23/02/2022.\\n\\nJunto ao documento, est\\u00e3o anexados os seguintes documentos:\\n\\n1. Solicita\\u00e7\\u00e3o de renova\\u00e7\\u00e3o de afastamento para o Reitor\\n2. Declara\\u00e7\\u00e3o de requisitos e carga hor\\u00e1ria do Doutorado MDCC/UFC\\n3. Concord\\u00e2ncia do pedido de renova\\u00e7\\u00e3o do Coordenador do MDCC/UFC\\n4. Concord\\u00e2ncia do pedido de renova\\u00e7\\u00e3o do Orientador\\n5. Atestado semestral de frequ\\u00eancia 2021.1\\n6. Atestado semestral de frequ\\u00eancia 2021.2\\n7. Avalia\\u00e7\\u00e3o semestral de desempenho 2021.1\\n8. Avalia\\u00e7\\u00e3o semestral de desempenho 2021.2\\n9. Termo de compromisso\\n10. Relat\\u00f3rio semestral de atividade 2021.1\\n11. Relat\\u00f3rio semestral de atividade 2021.2\\n12. Atestado de matr\\u00edcula 2021.2\\n13. Declara\\u00e7\\u00e3o de matr\\u00edcula 2021.2\\n14. Hist\\u00f3rico atualizado\\n15. Declara\\u00e7\\u00e3o de bolsa da FUNCAP (Funda\\u00e7\\u00e3o Cearense de Apoio ao Desenvolvimento Cient\\u00edfico)\"\n",
            "              }\n",
            "            ],\n",
            "            \"role\": \"model\"\n",
            "          },\n",
            "          \"finish_reason\": \"STOP\",\n",
            "          \"index\": 0,\n",
            "          \"safety_ratings\": [\n",
            "            {\n",
            "              \"category\": \"HARM_CATEGORY_SEXUALLY_EXPLICIT\",\n",
            "              \"probability\": \"NEGLIGIBLE\"\n",
            "            },\n",
            "            {\n",
            "              \"category\": \"HARM_CATEGORY_HATE_SPEECH\",\n",
            "              \"probability\": \"NEGLIGIBLE\"\n",
            "            },\n",
            "            {\n",
            "              \"category\": \"HARM_CATEGORY_HARASSMENT\",\n",
            "              \"probability\": \"NEGLIGIBLE\"\n",
            "            },\n",
            "            {\n",
            "              \"category\": \"HARM_CATEGORY_DANGEROUS_CONTENT\",\n",
            "              \"probability\": \"NEGLIGIBLE\"\n",
            "            }\n",
            "          ]\n",
            "        }\n",
            "      ],\n",
            "      \"usage_metadata\": {\n",
            "        \"prompt_token_count\": 10400,\n",
            "        \"candidates_token_count\": 349,\n",
            "        \"total_token_count\": 10749\n",
            "      }\n",
            "    }),\n",
            ")\n",
            "Tempo de resposta: 0:00:09.240565\n"
          ]
        }
      ]
    },
    {
      "cell_type": "code",
      "source": [
        "meu_resumo1 = get_summary_from_response(response_resumo_texto)\n",
        "print(meu_resumo1)"
      ],
      "metadata": {
        "id": "E-ymIcoj_mhA",
        "outputId": "676c28ed-2bcf-4546-a2b1-d04067037851",
        "colab": {
          "base_uri": "https://localhost:8080/"
        }
      },
      "execution_count": 56,
      "outputs": [
        {
          "output_type": "stream",
          "name": "stdout",
          "text": [
            "O documento apresenta uma solicitação do Dr. Armando Soares Sousa, matriculado no Departamento de Computação da Universidade Federal do Piauí (UFPI), para obter concordância de sua prorrogação de afastamento a fim de prosseguir com seu curso de pós-doutorado em Ciência da Computação na Universidade Federal do Ceará (UFC) por mais 6 meses a partir de 23/02/2022.\n",
            "\n",
            "Junto ao documento, estão anexados os seguintes documentos:\n",
            "\n",
            "1. Solicitação de renovação de afastamento para o Reitor\n",
            "2. Declaração de requisitos e carga horária do Doutorado MDCC/UFC\n",
            "3. Concordância do pedido de renovação do Coordenador do MDCC/UFC\n",
            "4. Concordância do pedido de renovação do Orientador\n",
            "5. Atestado semestral de frequência 2021.1\n",
            "6. Atestado semestral de frequência 2021.2\n",
            "7. Avaliação semestral de desempenho 2021.1\n",
            "8. Avaliação semestral de desempenho 2021.2\n",
            "9. Termo de compromisso\n",
            "10. Relatório semestral de atividade 2021.1\n",
            "11. Relatório semestral de atividade 2021.2\n",
            "12. Atestado de matrícula 2021.2\n",
            "13. Declaração de matrícula 2021.2\n",
            "14. Histórico atualizado\n",
            "15. Declaração de bolsa da FUNCAP (Fundação Cearense de Apoio ao Desenvolvimento Científico)\n"
          ]
        }
      ]
    },
    {
      "cell_type": "code",
      "source": [
        "response_resumo_texto2 = request_to_gemini(prompt_text)\n",
        "meu_resumo2 = get_summary_from_response(response_resumo_texto2)\n",
        "print(meu_resumo2)"
      ],
      "metadata": {
        "colab": {
          "base_uri": "https://localhost:8080/",
          "height": 1000
        },
        "id": "r_pJG4U0FvRC",
        "outputId": "fb463f42-c420-45a2-f330-0871f308bd5e"
      },
      "execution_count": 57,
      "outputs": [
        {
          "output_type": "stream",
          "name": "stdout",
          "text": [
            "Aguarde...\n",
            "response:\n",
            "GenerateContentResponse(\n",
            "    done=True,\n",
            "    iterator=None,\n",
            "    result=protos.GenerateContentResponse({\n",
            "      \"candidates\": [\n",
            "        {\n",
            "          \"content\": {\n",
            "            \"parts\": [\n",
            "              {\n",
            "                \"text\": \"O solicitante, Armando Soares Sousa, matriculado no Departamento de Computa\\u00e7\\u00e3o da Universidade Federal do Piau\\u00ed, solicita a prorroga\\u00e7\\u00e3o de seu afastamento para continuar o curso de doutorado em Ci\\u00eancia da Computa\\u00e7\\u00e3o na Universidade Federal do Cear\\u00e1. A solicita\\u00e7\\u00e3o inclui:\\n\\n* Concord\\u00e2ncia do chefe de departamento\\n* Declara\\u00e7\\u00e3o da Universidade Federal do Cear\\u00e1 sobre os requisitos e carga hor\\u00e1ria do curso de doutorado\\n* Concord\\u00e2ncia do coordenador do programa de p\\u00f3s-gradua\\u00e7\\u00e3o em Ci\\u00eancia da Computa\\u00e7\\u00e3o da UFC\\n* Concord\\u00e2ncia do orientador\\n* Atestados semestrais de frequ\\u00eancia\\n* Avalia\\u00e7\\u00f5es semestrais de desempenho\\n* Termo de compromisso e responsabilidade\\n* Relat\\u00f3rios semestrais de atividade\\n* Atestado de matr\\u00edcula\\n* Declara\\u00e7\\u00e3o de matr\\u00edcula\\n* Hist\\u00f3rico atualizado\\n* Declara\\u00e7\\u00e3o de bolsa da FUNCAP (Funda\\u00e7\\u00e3o Cearense de Apoio ao Desenvolvimento Cient\\u00edfico)\"\n",
            "              }\n",
            "            ],\n",
            "            \"role\": \"model\"\n",
            "          },\n",
            "          \"finish_reason\": \"STOP\",\n",
            "          \"index\": 0,\n",
            "          \"safety_ratings\": [\n",
            "            {\n",
            "              \"category\": \"HARM_CATEGORY_SEXUALLY_EXPLICIT\",\n",
            "              \"probability\": \"NEGLIGIBLE\"\n",
            "            },\n",
            "            {\n",
            "              \"category\": \"HARM_CATEGORY_HATE_SPEECH\",\n",
            "              \"probability\": \"NEGLIGIBLE\"\n",
            "            },\n",
            "            {\n",
            "              \"category\": \"HARM_CATEGORY_HARASSMENT\",\n",
            "              \"probability\": \"NEGLIGIBLE\"\n",
            "            },\n",
            "            {\n",
            "              \"category\": \"HARM_CATEGORY_DANGEROUS_CONTENT\",\n",
            "              \"probability\": \"NEGLIGIBLE\"\n",
            "            }\n",
            "          ]\n",
            "        }\n",
            "      ],\n",
            "      \"usage_metadata\": {\n",
            "        \"prompt_token_count\": 10400,\n",
            "        \"candidates_token_count\": 197,\n",
            "        \"total_token_count\": 10597\n",
            "      }\n",
            "    }),\n",
            ")\n",
            "Tempo de resposta: 0:00:07.224251\n",
            "O solicitante, Armando Soares Sousa, matriculado no Departamento de Computação da Universidade Federal do Piauí, solicita a prorrogação de seu afastamento para continuar o curso de doutorado em Ciência da Computação na Universidade Federal do Ceará. A solicitação inclui:\n",
            "\n",
            "* Concordância do chefe de departamento\n",
            "* Declaração da Universidade Federal do Ceará sobre os requisitos e carga horária do curso de doutorado\n",
            "* Concordância do coordenador do programa de pós-graduação em Ciência da Computação da UFC\n",
            "* Concordância do orientador\n",
            "* Atestados semestrais de frequência\n",
            "* Avaliações semestrais de desempenho\n",
            "* Termo de compromisso e responsabilidade\n",
            "* Relatórios semestrais de atividade\n",
            "* Atestado de matrícula\n",
            "* Declaração de matrícula\n",
            "* Histórico atualizado\n",
            "* Declaração de bolsa da FUNCAP (Fundação Cearense de Apoio ao Desenvolvimento Científico)\n"
          ]
        }
      ]
    },
    {
      "cell_type": "code",
      "source": [
        "response_resumo_texto3 = request_to_gemini(prompt_text)\n",
        "meu_resumo3 = get_summary_from_response(response_resumo_texto2)\n",
        "print(meu_resumo3)"
      ],
      "metadata": {
        "colab": {
          "base_uri": "https://localhost:8080/",
          "height": 1000
        },
        "id": "syI64z4oIBDY",
        "outputId": "decb7b17-09c4-435f-f228-97af002f1635"
      },
      "execution_count": 58,
      "outputs": [
        {
          "output_type": "stream",
          "name": "stdout",
          "text": [
            "Aguarde...\n",
            "response:\n",
            "GenerateContentResponse(\n",
            "    done=True,\n",
            "    iterator=None,\n",
            "    result=protos.GenerateContentResponse({\n",
            "      \"candidates\": [\n",
            "        {\n",
            "          \"content\": {\n",
            "            \"parts\": [\n",
            "              {\n",
            "                \"text\": \"O Professor Armando Soares Sousa solicita ao Chefe do Departamento de Computa\\u00e7\\u00e3o da Universidade Federal do Piau\\u00ed a concord\\u00e2ncia para prorroga\\u00e7\\u00e3o do seu afastamento acad\\u00eamico por mais 6 (seis) meses, a partir de 23/02/2022, para dar continuidade ao seu curso de P\\u00f3s-Gradua\\u00e7\\u00e3o em Ci\\u00eancia da Computa\\u00e7\\u00e3o (\\u00e1rea de concentra\\u00e7\\u00e3o: Ci\\u00eancia da Computa\\u00e7\\u00e3o) no n\\u00edvel de Doutorado, na Universidade Federal do Cear\\u00e1.\\n\\nAl\\u00e9m disso, o professor solicita que o chefe do departamento anexe ao seu pedido o documento referente ao plano de qualifica\\u00e7\\u00e3o de 2022, aprovado na Assembleia Departamental, informando a delibera\\u00e7\\u00e3o favor\\u00e1vel ao pedido de afastamento em 2022 para que possa concluir as atividades do doutorado.\"\n",
            "              }\n",
            "            ],\n",
            "            \"role\": \"model\"\n",
            "          },\n",
            "          \"finish_reason\": \"STOP\",\n",
            "          \"index\": 0,\n",
            "          \"safety_ratings\": [\n",
            "            {\n",
            "              \"category\": \"HARM_CATEGORY_SEXUALLY_EXPLICIT\",\n",
            "              \"probability\": \"NEGLIGIBLE\"\n",
            "            },\n",
            "            {\n",
            "              \"category\": \"HARM_CATEGORY_HATE_SPEECH\",\n",
            "              \"probability\": \"NEGLIGIBLE\"\n",
            "            },\n",
            "            {\n",
            "              \"category\": \"HARM_CATEGORY_HARASSMENT\",\n",
            "              \"probability\": \"NEGLIGIBLE\"\n",
            "            },\n",
            "            {\n",
            "              \"category\": \"HARM_CATEGORY_DANGEROUS_CONTENT\",\n",
            "              \"probability\": \"NEGLIGIBLE\"\n",
            "            }\n",
            "          ]\n",
            "        }\n",
            "      ],\n",
            "      \"usage_metadata\": {\n",
            "        \"prompt_token_count\": 10400,\n",
            "        \"candidates_token_count\": 175,\n",
            "        \"total_token_count\": 10575\n",
            "      }\n",
            "    }),\n",
            ")\n",
            "Tempo de resposta: 0:00:05.958896\n",
            "O solicitante, Armando Soares Sousa, matriculado no Departamento de Computação da Universidade Federal do Piauí, solicita a prorrogação de seu afastamento para continuar o curso de doutorado em Ciência da Computação na Universidade Federal do Ceará. A solicitação inclui:\n",
            "\n",
            "* Concordância do chefe de departamento\n",
            "* Declaração da Universidade Federal do Ceará sobre os requisitos e carga horária do curso de doutorado\n",
            "* Concordância do coordenador do programa de pós-graduação em Ciência da Computação da UFC\n",
            "* Concordância do orientador\n",
            "* Atestados semestrais de frequência\n",
            "* Avaliações semestrais de desempenho\n",
            "* Termo de compromisso e responsabilidade\n",
            "* Relatórios semestrais de atividade\n",
            "* Atestado de matrícula\n",
            "* Declaração de matrícula\n",
            "* Histórico atualizado\n",
            "* Declaração de bolsa da FUNCAP (Fundação Cearense de Apoio ao Desenvolvimento Científico)\n"
          ]
        }
      ]
    }
  ],
  "metadata": {
    "colab": {
      "provenance": [],
      "include_colab_link": true
    },
    "kernelspec": {
      "display_name": "Python 3",
      "name": "python3"
    }
  },
  "nbformat": 4,
  "nbformat_minor": 0
}