{
 "cells": [
  {
   "cell_type": "markdown",
   "metadata": {},
   "source": [
    "# Lab 11\n",
    "## other useful operators"
   ]
  },
  {
   "cell_type": "code",
   "execution_count": 5,
   "metadata": {},
   "outputs": [
    {
     "name": "stdout",
     "output_type": "stream",
     "text": [
      "11\n",
      "12\n",
      "13\n",
      "14\n",
      "15\n",
      "16\n",
      "17\n",
      "18\n",
      "19\n",
      "20\n",
      "21\n",
      "22\n",
      "23\n",
      "24\n",
      "25\n",
      "26\n",
      "27\n",
      "28\n",
      "29\n",
      "30\n"
     ]
    }
   ],
   "source": [
    "#q1\n",
    "class_id = 11\n",
    "for num in range(class_id, 31):\n",
    "    print(num)\n"
   ]
  },
  {
   "cell_type": "code",
   "execution_count": 12,
   "metadata": {},
   "outputs": [
    {
     "name": "stdout",
     "output_type": "stream",
     "text": [
      "Even numbers:\n",
      "12\n",
      "14\n",
      "16\n",
      "18\n",
      "20\n",
      "22\n",
      "24\n",
      "26\n",
      "28\n",
      "30\n",
      "\n",
      "Odd numbers:\n",
      "13\n",
      "15\n",
      "17\n",
      "19\n",
      "21\n",
      "23\n",
      "25\n",
      "27\n",
      "29\n",
      "31\n"
     ]
    }
   ],
   "source": [
    "#q2\n",
    "class_id = 12\n",
    "\n",
    "print(\"Even numbers:\")\n",
    "for num in range(class_id + (class_id % 2), 32, 2):\n",
    "    print(num)\n",
    "\n",
    "print(\"\\nOdd numbers:\")\n",
    "for num in range(class_id + 1 - (class_id % 2), 32, 2):\n",
    "    print(num)\n"
   ]
  },
  {
   "cell_type": "code",
   "execution_count": 14,
   "metadata": {},
   "outputs": [
    {
     "name": "stdout",
     "output_type": "stream",
     "text": [
      "[10, 11, 12, 13, 14, 15, 16, 17, 18, 19, 20]\n"
     ]
    }
   ],
   "source": [
    "#q3\n",
    "my_list = list(range(10, 21))\n",
    "print(my_list)"
   ]
  },
  {
   "cell_type": "code",
   "execution_count": 15,
   "metadata": {},
   "outputs": [
    {
     "name": "stdout",
     "output_type": "stream",
     "text": [
      "Index: 0, Letter: A\n",
      "Index: 1, Letter: B\n",
      "Index: 2, Letter: C\n",
      "Index: 3, Letter: D\n",
      "Index: 4, Letter: E\n",
      "Index: 5, Letter: F\n",
      "Index: 6, Letter: G\n",
      "Index: 7, Letter: H\n",
      "Index: 8, Letter: I\n",
      "Index: 9, Letter: J\n",
      "Index: 10, Letter: K\n",
      "Index: 11, Letter: L\n",
      "Index: 12, Letter: M\n",
      "Index: 13, Letter: N\n",
      "Index: 14, Letter: O\n",
      "Index: 15, Letter: P\n",
      "Index: 16, Letter: Q\n",
      "Index: 17, Letter: R\n",
      "Index: 18, Letter: S\n",
      "Index: 19, Letter: T\n",
      "Index: 20, Letter: U\n",
      "Index: 21, Letter: V\n",
      "Index: 22, Letter: W\n",
      "Index: 23, Letter: X\n",
      "Index: 24, Letter: Y\n",
      "Index: 25, Letter: Z\n"
     ]
    }
   ],
   "source": [
    "#q4\n",
    "import string\n",
    "\n",
    "letters = string.ascii_uppercase\n",
    "for index, letter in enumerate(letters):\n",
    "    print(f\"Index: {index}, Letter: {letter}\")\n"
   ]
  },
  {
   "cell_type": "code",
   "execution_count": 16,
   "metadata": {},
   "outputs": [
    {
     "name": "stdout",
     "output_type": "stream",
     "text": [
      "['Data Structures and Algrithms', 'SOftware Engineering', 'Object Oriented Programming', 'Programming Fundamentals', 'English', 'Human Resorce Management', 'Software Enineering Requirements', 'Calculus', 'Human Coomputer Interatcions', 'ICT']\n",
      "['Human Coomputer Interatcions', 'Calculus', 'Data Structures and Algrithms', 'ICT', 'Programming Fundamentals', 'Object Oriented Programming', 'English', 'SOftware Engineering', 'Software Enineering Requirements', 'Human Resorce Management']\n",
      "['Data Structures and Algrithms', 'Human Coomputer Interatcions', 'Human Resorce Management', 'SOftware Engineering', 'Calculus', 'ICT', 'Programming Fundamentals', 'English', 'Software Enineering Requirements', 'Object Oriented Programming']\n",
      "['SOftware Engineering', 'Human Coomputer Interatcions', 'ICT', 'English', 'Data Structures and Algrithms', 'Programming Fundamentals', 'Software Enineering Requirements', 'Object Oriented Programming', 'Calculus', 'Human Resorce Management']\n",
      "['Object Oriented Programming', 'English', 'Programming Fundamentals', 'Human Resorce Management', 'Human Coomputer Interatcions', 'ICT', 'Data Structures and Algrithms', 'Software Enineering Requirements', 'SOftware Engineering', 'Calculus']\n"
     ]
    }
   ],
   "source": [
    "#q5\n",
    "from random import shuffle\n",
    "\n",
    "courses = [\"Programming Fundamentals\", \"Object Oriented Programming\", \"Data Structures and Algrithms\", \"Human Resorce Management\", \"Human Coomputer Interatcions\", \"ICT\", \"English\", \"SOftware Engineering\", \"Software Enineering Requirements\", \"Calculus\"]\n",
    "for _ in range(5):\n",
    "    shuffle(courses)\n",
    "    print(courses)\n"
   ]
  },
  {
   "cell_type": "code",
   "execution_count": 17,
   "metadata": {},
   "outputs": [
    {
     "name": "stdout",
     "output_type": "stream",
     "text": [
      "[11, 67, 61, 85, 17, 96, 6, 37, 75, 28]\n"
     ]
    }
   ],
   "source": [
    "#q6\n",
    "import random\n",
    "\n",
    "committee_members = random.sample(range(1, 101), 10)\n",
    "print(committee_members)\n"
   ]
  },
  {
   "cell_type": "code",
   "execution_count": 19,
   "metadata": {},
   "outputs": [
    {
     "name": "stdout",
     "output_type": "stream",
     "text": [
      "Number 1: 3.0\n",
      "Number 2: 5.0\n",
      "Number 3: 4.0\n",
      "Addition: 12.0\n",
      "Subtraction: -6.0\n",
      "Multiplication: 60.0\n",
      "Division: 0.15\n"
     ]
    }
   ],
   "source": [
    "# q7\n",
    "num1 = float(input(\"Enter the first number: \"))\n",
    "num2 = float(input(\"Enter the second number: \"))\n",
    "num3 = float(input(\"Enter the third number: \"))\n",
    "\n",
    "addition = num1 + num2 + num3\n",
    "subtraction = num1 - num2 - num3\n",
    "multiplication = num1 * num2 * num3\n",
    "\n",
    "# Avoid division by zero\n",
    "if num2 != 0 and num3 != 0:\n",
    "    division = num1 / num2 / num3\n",
    "else:\n",
    "    division = \"Undefined (division by zero)\"\n",
    "\n",
    "print(f\"Number 1: {num1}\")\n",
    "print(f\"Number 2: {num2}\")\n",
    "print(f\"Number 3: {num3}\")\n",
    "\n",
    "print(f\"Addition: {addition}\")\n",
    "print(f\"Subtraction: {subtraction}\")\n",
    "print(f\"Multiplication: {multiplication}\")\n",
    "print(f\"Division: {division}\")\n"
   ]
  },
  {
   "cell_type": "code",
   "execution_count": null,
   "metadata": {},
   "outputs": [],
   "source": []
  }
 ],
 "metadata": {
  "kernelspec": {
   "display_name": "base",
   "language": "python",
   "name": "python3"
  },
  "language_info": {
   "codemirror_mode": {
    "name": "ipython",
    "version": 3
   },
   "file_extension": ".py",
   "mimetype": "text/x-python",
   "name": "python",
   "nbconvert_exporter": "python",
   "pygments_lexer": "ipython3",
   "version": "3.11.4"
  }
 },
 "nbformat": 4,
 "nbformat_minor": 2
}
