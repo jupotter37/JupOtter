{
 "cells": [
  {
   "cell_type": "markdown",
   "metadata": {},
   "source": [
    "# Oznakowanie w plikach\n",
    "\n",
    "## Wprowadzenie\n",
    "\n",
    "### Przegląd rozdziału\n",
    "\n",
    "Oznakowanie w plikach to informacja załączona do pliku z kodem źródłowym obejmująca notę o prawach autorskich i licencję.\n",
    "\n",
    "Forma not o prawach autorskich została omówiona w rozdziale 3. Forma informacji o licencji została omówiona w rozdziale 2. Nota copyright i określenie licencji tworzą łącznie oznakowanie w pliku.\n",
    "\n",
    "### Założenia rozdziału\n",
    "\n",
    "W tym rozdziale nauczysz się, jak:\n",
    "\n",
    "* określać, co jest potrzebne do stworzenia typowego oznakowania w plikach,\n",
    "* rozpoznawać niektóre typowe przykłady poprawnego oznakowaniach w plikach.\n",
    "\n",
    "# Oznakowanie w plikach\n",
    "\n",
    "### Czym jest poprawne oznakowanie w plikach?\n",
    "\n",
    "Czym jest poprawne oznakowanie w plikach? Poprawne oznakowanie charakteryzuje się jasnym określeniem licencji, którą objęty jest plik, i może zawierać informacje lub odniesienia do właścicieli praw autorskich. Oznakowanie w pliku może również podawać dodatkowe informacje o autorstwie, kiedy autor nie jest właścicielem praw.\n",
    "\n",
    "Jeżeli oznakowanie podaje takie informacje za pomocą jednoznacznego odniesienia do licencji, to mogą być one wykrywane automatycznie.\n",
    "\n",
    "Pozwala to znacznie usprawnić obsługę zgodności. Ułatwia również użytkownikom otwartego oprogramowania zrozumienie warunków wykorzystywania go i informuje, gdzie kierować pytania w razie wątpliwości.\n",
    "\n",
    "Zgodnie z konwencją oznakowanie umieszcza się na początku pliku.\n",
    "\n",
    "### Przykład: Linux\n",
    "\n",
    "![Linux](img/linux.jpg)"
   ]
  },
  {
   "cell_type": "markdown",
   "metadata": {},
   "source": [
    "```plaintext\n",
    "// SPDX-License-Identifier: GPL-2.0-only\n",
    "/*\n",
    " *  ARM64 Specific Low-Level ACPI Boot Support\n",
    " *\n",
    " *  Copyright (C) 2013-2014, Linaro Ltd.\n",
    " *      Author: Al Stone <al.stone@linaro.org>\n",
    " *      Author: Graeme Gregory <graeme.gregory@linaro.org>\n",
    " *      Author: Hanjun Guo <hanjun.guo@linaro.org>\n",
    " *      Author: Tomasz Nowicki <tomasz.nowicki@linaro.org>\n",
    " *      Author: Naresh Bhat <naresh.bhat@linaro.org>\n",
    " */\n",
    "```\n"
   ]
  },
  {
   "cell_type": "markdown",
   "metadata": {},
   "source": [
    "Pierwszy [przykład](https://git.kernel.org/pub/scm/linux/kernel/git/torvalds/linux.git/tree/arch/arm64/kernel/acpi.c), któremu się przyjrzymy, pochodzi z systemu operacyjnego Linux. W pliku `acpi.c` oznaczonym właścicielem praw autorskich jest Linaro. Użycie słowa \"Copyright\" jednocześnie z odpowiadającym mu symbolem to przesada, ale nie stanowi poważnego problemu. Pierwotna data publikacji to 2013, ale w 2014 dodano wiele znaczących zmian. Oznaczono to, wykorzystując zakres dat. Określenie praw autorskich mieści się w jednej linii.\n",
    "\n",
    "Wymienienie pełnych nazwisk i adresów mailowych pięciu autorów, którzy przyczynili się do powstania tego pliku i godzą się na kontakt w przypadku pytań, jest pomocne, ale nie należy do oficjalnej części informacji o prawach autorskich. W tym przypadku autorzy nie są właścicielami praw autorskich. Wykonywali swoją pracę na rzecz pracodawcy - Linaro - i dlatego to właśnie Linaro jest wskazane jako właściciel praw autorskich.\n",
    "\n",
    "Użyta tu licencja to wersja 2 GPL. Oznaczono to przez umieszczenie w pierwszej linii pliku skróconego identyfikatora SPDX.\n",
    "\n",
    "Co ciekawe, jeśli spojrzysz na [zapis historii git dla tego pliku](https://git.kernel.org/pub/scm/linux/kernel/git/torvalds/linux.git/log/arch/arm64/kernel/acpi.c), to zobaczysz wiele zmian w pliku po roku 2014. Niektóre z nich to drobne usprawnienia, a nawet usunięcia (bez dodania treści), ale część miała znaczą długość (a kilka powyżej 100 linii kodu). Gdyby te dodane treści były przedmiotem praw autorskich, to podany zakres lat „2013-2014” byłby niekompletny. A gdyby którykolwiek z kolejnych współtwórców nie był zatrudniony przez Linaro, to informacja o prawach autorskich nie podawałaby prawidłowej listy właścicieli praw. Pokazuje to, dlaczego poleganie wyłącznie na nocie copyright może wprowadzać w błąd albo nie wystarczyć do pełnego zrozumienia własności praw autorskich w kontekście pliku lub całego projektu.\n",
    "\n",
    "### Przykład: FOSSology\n",
    "\n",
    "![FOSSology](img/fossology.png)"
   ]
  },
  {
   "cell_type": "markdown",
   "metadata": {},
   "source": [
    "```plaintext\n",
    "/**************************************************************\n",
    " Copyright (C) 2006-2013 Hewlett-Packard Development Company, L.P.\n",
    "\n",
    " This program is free software; you can redistribute it and/or\n",
    " modify it under the terms of the GNU General Public License\n",
    " version 2 as published by the Free Software Foundation.\n",
    "\n",
    " This program is distributed in the hope that it will be useful,\n",
    " but WITHOUT ANY WARRANTY; without even the implied warranty of\n",
    " MERCHANTABILITY or FITNESS FOR A PARTICULAR PURPOSE. See the\n",
    " GNU General Public License for more details.\n",
    "\n",
    " You should have received a copy of the GNU General Public License along\n",
    " with this program; if not, write to the Free Software Foundation, Inc.,\n",
    " 51 Franklin Street, Fifth Floor, Boston, MA 02110-1301, USA.\n",
    "\n",
    " ***************************************************************/\n",
    "```\n"
   ]
  },
  {
   "cell_type": "markdown",
   "metadata": {},
   "source": [
    "W kolejnym [przykładzie](https://github.com/fossology/fossology/blob/master/src/nomos/agent/list.c), zaczerpniętym z FOSSology, standardowy nagłówek wskazujący na wersję 2 licencji GPL jest umieszczony po określeniu praw autorskich.\n",
    "\n",
    "W tym pliku użyto również pełnego oficjalnego tekstu standardowego nagłówka licencji. W innym przykładzie użyto identyfikatora SPDX, ale tak czy inaczej wiadomo, że obowiązującą licencją jest wersja 2 GPL, a to się liczy przede wszystkim.\n",
    "\n",
    "### Przykład: gcc\n",
    "\n",
    "![GNU](img/gnu.png)"
   ]
  },
  {
   "cell_type": "markdown",
   "metadata": {},
   "source": [
    "```plaintext\n",
    "/* Common hooks for AArch64.\n",
    "    Copyright (C) 2012-2015 Free Software Foundation, Inc.\n",
    "    Contributed by ARM Ltd.\n",
    "\n",
    "    This file is part of GCC.\n",
    "\n",
    "    GCC is free software; you can redistribute it and/or modify it\n",
    "    under the terms of the GNU General Public License as published\n",
    "    by the Free Software Foundation; either version 3, or (at your\n",
    "    option) any later version.\n",
    "\n",
    "    GCC is distributed in the hope that it will be useful, but WITHOUT\n",
    "    ANY WARRANTY; without even the implied warranty of MERCHANTABILITY\n",
    "    or FITNESS FOR A PARTICULAR PURPOSE.  See the GNU General Public\n",
    "    License for more details.\n",
    "\n",
    "    You should have received a copy of the GNU General Public License\n",
    "    along with GCC; see the file COPYING3.  If not see\n",
    "    <http://www.gnu.org/licenses/>.  */\n",
    "```\n"
   ]
  },
  {
   "cell_type": "markdown",
   "metadata": {},
   "source": [
    "W tym [przykładzie](https://github.com/gcc-mirror/gcc/blob/master/gcc/common/config/aarch64/aarch64-common.c), `aarch64-common.c`, projekt GNU wymaga przypisania praw autorskich w ramach warunków uznania autorstwa, więc prawa autorskie zostały przypisane do Free Software Foundation przez ARM Ltd. Sformułowanie \"Contributed by ARM Ltd.\" nie jest określeniem praw autorskich, a jedynie dodatkową informacją o autorstwie.\n",
    "\n",
    "Informacja o prawach autorskich znów niepotrzebnie używa zarówno słowa „Copyright”, jak i symbolu ©, ale to nic nie szkodzi.\n",
    "\n",
    "Pierwsze treści zostały dodane do tego pliku w 2012 roku, a znaczące uaktualnienia następowały w 2103, 2014 i 2015 wraz z dodawaniem nowych informacji o architekturze ARM64. Wskazuje na to zakres dat 2012-2015.\n",
    "\n",
    "Po informacji o prawach autorskich znajduje się standardowy nagłówek licencji GNU General Public License (znanej jako GPL) w wersji 3 lub nowszych. Zgodnie z GPL, jeśli licencjodawca nie określił numeru wersji, licencjobiorca ma prawo korzystać z dowolnej wersji GPL opublikowanej przez Free Software Foundation. Określanie numeru wersji licencji to dobra praktyka, ponieważ jasno komunikuje intencje. Różnice między licencjami GPL v2 i GPL v3 są znaczne i kod, którego wykorzystanie jest ograniczone tylko do wersji 2 (GPL-2.0-only), nie może być łączony z kodem na licencji GPL 3.0.\n",
    "\n",
    "### Przykład: Nova\n",
    "\n",
    "![OpenStack](img/openstack.png)"
   ]
  },
  {
   "cell_type": "markdown",
   "metadata": {},
   "source": [
    "```plaintext\n",
    "# Copyright 2010 United States Government as represented by the\n",
    "# Administrator of the National Aeronautics and Space Administration.\n",
    "# Copyright 2011 Justin Santa Barbara\n",
    "# All Rights Reserved.\n",
    "#\n",
    "#    Licensed under the Apache License, Version 2.0 (the \"License\"); you may\n",
    "#    not use this file except in compliance with the License. You may obtain\n",
    "#    a copy of the License at\n",
    "#\n",
    "#         http://www.apache.org/licenses/LICENSE-2.0\n",
    "#\n",
    "#    Unless required by applicable law or agreed to in writing, software\n",
    "#    distributed under the License is distributed on an \"AS IS\" BASIS, WITHOUT\n",
    "#    WARRANTIES OR CONDITIONS OF ANY KIND, either express or implied. See the\n",
    "#    License for the specific language governing permissions and limitations\n",
    "#    under the License.\n",
    "```\n"
   ]
  },
  {
   "cell_type": "markdown",
   "metadata": {},
   "source": [
    "Inną popularną rodziną projektów otwartego oprogramowania jest [OpenStack](https://docs.openstack.org/keystone/10.0.2/10.0.2/_modules/keystone/common/authorization.html). Należy do niej projekt Nova.\n",
    "\n",
    "Plik licencji dla tego projektu powstał w 2010 i jest objęty prawami autorskimi rządu USA. W 2011 Justin Barbara dokonał w projekcie istotnych zmian i jego prawa autorskie również są oznaczone.\n",
    "\n",
    "Po informacjach o prawach autorskich umieszczono standardowy nagłówek Apache 2.0 License, aby określić licencję projektu. Standardowe nagłówki zawierają czasami URL prowadzący do tekstu licencji. Po jednoznacznym określeniu \"Licensed under the Apache License, Version 2.0” dołączanie linku jest już niepotrzebne, ale skoro jest on częścią standardowego nagłówka Apache, to niech już tak zostanie.\n",
    "\n",
    "Ogólnie rzecz biorąc, powielone informacje nie przeszkadzają, o ile są zgodne ze sobą.\n",
    "\n",
    "Konkretnym i dość typowym przykładem niezgodności jest dodanie informacji o prawach autorskich jednocześnie z deklaracją, że materiały są w domenie publicznej. O ile nie jest to praca stworzona przez rząd USA, to przeznaczenie jej do domeny publicznej jest bardzo mało prawdopodobne. Informacja o prawach autorskich bez określenia licencji oznacza, że istnieje właściciel praw, ale - o ile nie zaznaczono inaczej w innym miejscu dotyczącym danego pliku - to nie ma żadnej przyznanej licencji.\n",
    "\n",
    "Nie zalecamy zmieniania nagłówków w kodzie innych osób, nawet jeśli są tam powielone te same informacje. Najlepszą metodą jest kontaktowanie się z autorami i proszenie ich o dokonanie zmian. Podobnie, jeśli podane informacje są sprzeczne, skontaktuj się z autorami i poproś o wyjaśnienia i poprawki.\n",
    "\n",
    "### Przykład: Das U-Boot"
   ]
  },
  {
   "cell_type": "markdown",
   "metadata": {},
   "source": [
    "```plaintext\n",
    "/* SPDX-License-Identifier: GPL-2.0+ */\n",
    "/*\n",
    " * (C) Copyright 2002\n",
    " * Wolfgang Denk, DENX Software Engineering, wd@denx.de.\n",
    " *\n",
    " * (C) Copyright 2010\n",
    " * Michael Zaidman, Kodak, michael.zaidman@kodak.com\n",
    " * post_word_{load|store} cleanup.\n",
    " */\n",
    "```\n"
   ]
  },
  {
   "cell_type": "markdown",
   "metadata": {},
   "source": [
    "W ostatnich latach niektóre projekty zaczęły korzystać ze skróconych identyfikatorów SPDX, aby jasno określić, jaka licencja obowiązuje dla danego pliku.\n",
    "\n",
    "W tym [przykładzie](https://github.com/u-boot/u-boot/blob/master/include/post.h) plik został utworzony w 2002 przez Wolfganga Denka, w ramach pracy dla DENX Software Engineering. Nie da się jasno stwierdzić, czy właścicielem praw autorskich jest on sam (Wolfgang Denk) czy organizacja (DENX Software Engineering), \n",
    "\n",
    "więc aby to wyjaśnić i dowiedzieć się, czy nie przestał później pracować dla DENX Software Engineering, należy się z nim skontaktować. W 2010 Michael Zaidman z Kodaka dodał znaczące zmiany i dołączył informację o prawach autorskich. W tym przypadku wydaje się, że właścicielem praw jest Kodak, ale w zależności od formy zatrudnienia może też nim być Michael Zaidman.\n",
    "\n",
    "Następnie widzimy SPDX-License-Identifier wskazujący na \"GPL-2.0+\". Jest to skrócony format ujednolicony przez SPDX, powszechnie odnoszący się do licencji GPL w wersji 2 lub nowszych. Jak mówiliśmy wcześniej, w ciągu kilku ostatnich lat, we współpracy z Free Software Foundation, rodzina licencji GNU zmieniła skrócone oznaczenia na \"GPL-2.0-only\" lub \"GPL-2.0-or-later\" zamiast \"GPL-2.0+\", które - mimo że nadal poprawne - jest już przestarzałe. A zatem powyższy przykład można by uaktualnić do nowego formatu. Pełną listę skróconych identyfikatorów zawiera [strona internetowa SPDX](https://spdx.org/licenses/). Są tam również skopiowane pełne teksty licencji wraz z linkami do oryginalnych.\n",
    "\n",
    "### Przykład: Zephyr"
   ]
  },
  {
   "cell_type": "markdown",
   "metadata": {},
   "source": [
    "```plaintext\n",
    "/*\n",
    " * Copyright (c) 2018 Intel Corporation\n",
    " *\n",
    " * SPDX-License-Identifier: Apache-2.0\n",
    " */\n",
    "```\n"
   ]
  },
  {
   "cell_type": "markdown",
   "metadata": {},
   "source": [
    "W tym [przykładzie](https://github.com/zephyrproject-rtos/zephyr/blob/master/kernel/sched.c) plik `sched.c` utworzył w 2018 ktoś pracujący dla Intela, więc pierwotna informacja o prawach autorskich wskazuje na Intel Corporation. Od czasu utworzenia pliku 30 osób dodawało do niego treści i niektóre z nich być może nie są pracownikami Intela.\n",
    "\n",
    "Licencją pliku jest Apache 2, co określa użycie identyfikatora \"Apache-2.0\".\n",
    "\n",
    "## Podsumowanie\n",
    "\n",
    "### Konkluzje\n",
    "\n",
    "Ten rozdział wyjaśnił, z czego składa się typowe oznaczenie w pliku, i podał kilka konkretnych przykładów przedstawiających poprawne oznaczenia."
   ]
  }
 ],
 "metadata": {
  "hide_input": false,
  "kernelspec": {
   "display_name": "Python 3 (ipykernel)",
   "language": "python",
   "name": "python3"
  },
  "language_info": {
   "codemirror_mode": {
    "name": "ipython",
    "version": 3
   },
   "file_extension": ".py",
   "mimetype": "text/x-python",
   "name": "python",
   "nbconvert_exporter": "python",
   "pygments_lexer": "ipython3",
   "version": "3.8.10"
  },
  "toc": {
   "base_numbering": 1,
   "nav_menu": {},
   "number_sections": false,
   "sideBar": true,
   "skip_h1_title": false,
   "title_cell": "Table of Contents",
   "title_sidebar": "Spis treści",
   "toc_cell": false,
   "toc_position": {},
   "toc_section_display": true,
   "toc_window_display": true
  }
 },
 "nbformat": 4,
 "nbformat_minor": 4
}
