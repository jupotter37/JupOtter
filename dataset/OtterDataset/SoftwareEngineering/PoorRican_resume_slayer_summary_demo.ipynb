{
 "cells": [
  {
   "cell_type": "code",
   "execution_count": 1,
   "id": "initial_id",
   "metadata": {
    "collapsed": true,
    "ExecuteTime": {
     "end_time": "2023-08-22T08:13:56.018946Z",
     "start_time": "2023-08-22T08:13:55.636058Z"
    }
   },
   "outputs": [],
   "source": [
    "with open(\"job_desc.md\") as f:\n",
    "    description = f.read()\n",
    "with open(\"resume.md\") as f:\n",
    "    resume = f.read()\n",
    "title = 'django developer'\n"
   ]
  },
  {
   "cell_type": "code",
   "execution_count": 2,
   "outputs": [],
   "source": [
    "from util import chunk_markdown, cut_sections\n"
   ],
   "metadata": {
    "collapsed": false,
    "ExecuteTime": {
     "end_time": "2023-08-22T08:13:58.488074Z",
     "start_time": "2023-08-22T08:13:55.650024Z"
    }
   },
   "id": "2398601877ed23d5"
  },
  {
   "cell_type": "code",
   "execution_count": 12,
   "outputs": [
    {
     "ename": "AttributeError",
     "evalue": "'dict' object has no attribute 'split'",
     "output_type": "error",
     "traceback": [
      "\u001B[0;31m---------------------------------------------------------------------------\u001B[0m",
      "\u001B[0;31mAttributeError\u001B[0m                            Traceback (most recent call last)",
      "Cell \u001B[0;32mIn[12], line 3\u001B[0m\n\u001B[1;32m      1\u001B[0m sections \u001B[38;5;241m=\u001B[39m cut_sections(resume)\n\u001B[1;32m      2\u001B[0m history \u001B[38;5;241m=\u001B[39m sections[\u001B[38;5;124m'\u001B[39m\u001B[38;5;124mhistory\u001B[39m\u001B[38;5;124m'\u001B[39m]\n\u001B[0;32m----> 3\u001B[0m experiences \u001B[38;5;241m=\u001B[39m \u001B[43mchunk_markdown\u001B[49m\u001B[43m(\u001B[49m\u001B[43mhistory\u001B[49m\u001B[43m)\u001B[49m\n",
      "File \u001B[0;32m~/repos/resume_slayer/util.py:48\u001B[0m, in \u001B[0;36mchunk_markdown\u001B[0;34m(resume)\u001B[0m\n\u001B[1;32m     41\u001B[0m headers \u001B[38;5;241m=\u001B[39m [\n\u001B[1;32m     42\u001B[0m     (\u001B[38;5;124m'\u001B[39m\u001B[38;5;124m#\u001B[39m\u001B[38;5;124m'\u001B[39m, \u001B[38;5;124m'\u001B[39m\u001B[38;5;124mHeader 1\u001B[39m\u001B[38;5;124m'\u001B[39m),\n\u001B[1;32m     43\u001B[0m     (\u001B[38;5;124m'\u001B[39m\u001B[38;5;124m##\u001B[39m\u001B[38;5;124m'\u001B[39m, \u001B[38;5;124m'\u001B[39m\u001B[38;5;124mHeader 2\u001B[39m\u001B[38;5;124m'\u001B[39m),\n\u001B[1;32m     44\u001B[0m     (\u001B[38;5;124m'\u001B[39m\u001B[38;5;124m###\u001B[39m\u001B[38;5;124m'\u001B[39m, \u001B[38;5;124m'\u001B[39m\u001B[38;5;124mHeader 3\u001B[39m\u001B[38;5;124m'\u001B[39m),\n\u001B[1;32m     45\u001B[0m     (\u001B[38;5;124m'\u001B[39m\u001B[38;5;124m####\u001B[39m\u001B[38;5;124m'\u001B[39m, \u001B[38;5;124m'\u001B[39m\u001B[38;5;124mHeader 4\u001B[39m\u001B[38;5;124m'\u001B[39m),\n\u001B[1;32m     46\u001B[0m ]\n\u001B[1;32m     47\u001B[0m md_spitter \u001B[38;5;241m=\u001B[39m MarkdownHeaderTextSplitter(headers_to_split_on\u001B[38;5;241m=\u001B[39mheaders)\n\u001B[0;32m---> 48\u001B[0m \u001B[38;5;28;01mreturn\u001B[39;00m \u001B[43mmd_spitter\u001B[49m\u001B[38;5;241;43m.\u001B[39;49m\u001B[43msplit_text\u001B[49m\u001B[43m(\u001B[49m\u001B[43mresume\u001B[49m\u001B[43m)\u001B[49m\n",
      "File \u001B[0;32m~/repos/resume_slayer/venv/lib/python3.11/site-packages/langchain/text_splitter.py:369\u001B[0m, in \u001B[0;36mMarkdownHeaderTextSplitter.split_text\u001B[0;34m(self, text)\u001B[0m\n\u001B[1;32m    364\u001B[0m \u001B[38;5;250m\u001B[39m\u001B[38;5;124;03m\"\"\"Split markdown file\u001B[39;00m\n\u001B[1;32m    365\u001B[0m \u001B[38;5;124;03mArgs:\u001B[39;00m\n\u001B[1;32m    366\u001B[0m \u001B[38;5;124;03m    text: Markdown file\"\"\"\u001B[39;00m\n\u001B[1;32m    368\u001B[0m \u001B[38;5;66;03m# Split the input text by newline character (\"\\n\").\u001B[39;00m\n\u001B[0;32m--> 369\u001B[0m lines \u001B[38;5;241m=\u001B[39m \u001B[43mtext\u001B[49m\u001B[38;5;241;43m.\u001B[39;49m\u001B[43msplit\u001B[49m(\u001B[38;5;124m\"\u001B[39m\u001B[38;5;130;01m\\n\u001B[39;00m\u001B[38;5;124m\"\u001B[39m)\n\u001B[1;32m    370\u001B[0m \u001B[38;5;66;03m# Final output\u001B[39;00m\n\u001B[1;32m    371\u001B[0m lines_with_metadata: List[LineType] \u001B[38;5;241m=\u001B[39m []\n",
      "\u001B[0;31mAttributeError\u001B[0m: 'dict' object has no attribute 'split'"
     ]
    }
   ],
   "source": [
    "sections = cut_sections(resume)\n",
    "history = sections['history']"
   ],
   "metadata": {
    "collapsed": false,
    "ExecuteTime": {
     "end_time": "2023-08-23T00:59:36.967790Z",
     "start_time": "2023-08-23T00:59:14.680020Z"
    }
   },
   "id": "b8e0f2cf940c2f8c"
  },
  {
   "cell_type": "code",
   "execution_count": 15,
   "outputs": [
    {
     "data": {
      "text/plain": "[Document(page_content='Responsible for maintaining electrical and instrument systems for 11 F-18E aircraft totaling $715 million. Additionally, responsible for final check and troubleshooting of aircraft before flight.  \\n- Assisted primary supervisor in management of maintenance programs leading to no hits on a major inspection.\\n- Expertly managed tool program of over $175,000 by training coworkers on expectations and proper procedures leading to no hits across 2 major and 3 routine inspections.\\n- Awarded for showing expertise and initiative for reinstalling an incorrectly installed part under stressful conditions.\\n- Lead and mentored a group of 3 individuals in flight deck operations and proper flight deck cleaning procedures as supervisor leading to no accidents and rejuvenating a stagnant work center.', metadata={'Header 1': 'Experience', 'Header 2': 'Aviation Electrician, US Navy, Aug 2020 - Present (2 years 11 months)'}),\n Document(page_content=\"Passionate about leveraging technology to drive business growth and revolutionize industries, Creation Consortium LLC is a pioneering venture for my side projects in web development, system design, and software development.  \\n- Upgraded the computer and network systems for a reputable veterinary clinic in Philadelphia.\\n- Developed automated trading system in Python using parallel processing, AWS, REST API's, and SQL\\n- Developed novel UI for viewing and editing and genetic content using React (javascript framework), Cascading Style Sheets (CSS), HTML, and Rust\\n- Developed low-level sensor logger and control system in Rust\", metadata={'Header 1': 'Experience', 'Header 2': 'Founder, Creation Consortium LLC, Apr 2019 - Present (4 years 3 months)'}),\n Document(page_content='Responsible for general cleaning of 3 to 4 facilities on a flexible schedule and a 1 - 2 person workcrew.  \\n- Dutiful cleaning of a high traffic facility lead to stellar reviews from client.\\n- Demonstrated attention to detail in refurnishing several dozen low-income apartments leading to more responsibility and autonomy.', metadata={'Header 1': 'Experience', 'Header 2': 'Facility Specialist, TruClean, Apr 2020 - Aug 2020 (5 months)'}),\n Document(page_content='Co-founder and primary developer for a crowd funding platform for Christian based ministries.  \\n- Accredited 501(c)3 non-profit tax status\\n- Researched and proposed corporate bylaws which were ratified by 5 board members.\\n- Conceived business strategy along with visionary founder which led to accepting 4 non-profits onto the platform.\\n- Developed and implemented a full-stack website and donation platform which withstood several attempts Denial of Service (DOS) attacks from overseas. Honed knowledge of AWS, docker, git, Linux DevOps, and semantic releases.\\n- Integrated low-level payment provider REST API tools to take advantage of extremely low cost transaction fees as compared to plug-and-play solutions (ie: PayPal, Square).', metadata={'Header 1': 'Experience', 'Header 2': 'Co-Founder, Love Our Neighbor Inc, Apr 2019 - May 2020 (1 year 2 months)'}),\n Document(page_content='Responsible for formulating bids on mechanical and plumbing contracts for commercial projects in the South Jersey, Philadelphia, and Boston, MA. Additionally, proposing revisions to blueprints to material cost and manpower.  \\n- Proposed and implemented a VB Script to allow a streamlined workflow between counterpart estimators and administrative assistants.', metadata={'Header 1': 'Experience', 'Header 2': 'Estimating Engineer, McCloskey Mechanical Contractors, Inc., Nov 2016 - May 2017 (7 months)'}),\n Document(page_content=\"Responsible for interpreting blueprints and formulating bid proposals for large scale commercial projects. Additionally responsible for communicating with contractors and vendors for Requests for Proposals (RFP's) and Request for Quotations (RFQ's).  \\n- Achieved competency in mechanical blueprint interpretation, bid formulation, and project lifecycle with half of the time of the typical training pipeline which provided value to the company and team members.\\n- Developed and implemented software in Python to assist with routine tasks which increased productivity of a 2 man team threefold.\\n- Represented the company at a networking event which opened the door to new contractors and bids for upcoming projects in the greater metropolitan area.\\n- Communicated with lead contractor during an onsite walkthrough which lead to successful awarding of a Rutgers Camden Lab renovation.\", metadata={'Header 1': 'Experience', 'Header 2': 'Estimating Engineer, Camden Mechanical (MWBE), Jul 2014 - Nov 2016 (2 years 5 months)'})]"
     },
     "execution_count": 15,
     "metadata": {},
     "output_type": "execute_result"
    }
   ],
   "source": [
    "experiences = chunk_markdown(history)\n",
    "experiences"
   ],
   "metadata": {
    "collapsed": false,
    "ExecuteTime": {
     "end_time": "2023-08-23T01:00:24.243482Z",
     "start_time": "2023-08-23T01:00:24.220663Z"
    }
   },
   "id": "6b5abc9ceea7434c"
  },
  {
   "cell_type": "code",
   "execution_count": 5,
   "outputs": [
    {
     "data": {
      "text/plain": "['Python',\n 'Django',\n 'React',\n 'Snowflake',\n 'Software Engineering',\n 'Agile Software Development',\n 'Web Application Development',\n 'Code Documentation',\n 'Teamwork',\n 'Fast Learner',\n 'Results-driven',\n 'English Proficiency']"
     },
     "execution_count": 5,
     "metadata": {},
     "output_type": "execute_result"
    }
   ],
   "source": [
    "from util import job_requirement_chain\n",
    "_req_chain = job_requirement_chain()\n",
    "skills = _req_chain({'desc': description})\n",
    "\n",
    "# TODO: simplify API for extracting skills\n",
    "skills = skills['requirements'].skills\n",
    "skills\n"
   ],
   "metadata": {
    "collapsed": false,
    "ExecuteTime": {
     "end_time": "2023-08-22T08:14:27.672503Z",
     "start_time": "2023-08-22T08:14:25.962682Z"
    }
   },
   "id": "2ef5a3a3a16b1d4d"
  },
  {
   "cell_type": "code",
   "execution_count": 16,
   "outputs": [
    {
     "name": "stderr",
     "output_type": "stream",
     "text": [
      "Retrying langchain.chat_models.openai.ChatOpenAI.completion_with_retry.<locals>._completion_with_retry in 4.0 seconds as it raised ServiceUnavailableError: The server is overloaded or not ready yet..\n"
     ]
    },
    {
     "data": {
      "text/plain": "{'Achieved competency in mechanical blueprint interpretation, bid formulation, and project lifecycle with half of the time of the typical training pipeline which provided value to the company and team members.',\n 'Assisted primary supervisor in management of maintenance programs leading to no hits on a major inspection.',\n 'Awarded for showing expertise and initiative for reinstalling an incorrectly installed part under stressful conditions.',\n 'Communicated with lead contractor during an onsite walkthrough which lead to successful awarding of a Rutgers Camden Lab renovation.',\n 'Conceived business strategy along with visionary founder which led to accepting 4 non-profits onto the platform.',\n 'Demonstrated attention to detail in refurnishing several dozen low-income apartments leading to more responsibility and autonomy.',\n 'Developed and implemented a full-stack website and donation platform which withstood several attempts Denial of Service (DOS) attacks from overseas.',\n 'Developed and implemented a full-stack website and donation platform which withstood several attempts Denial of Service (DOS) attacks from overseas. Honed knowledge of AWS, docker, git, Linux DevOps, and semantic releases.',\n 'Developed and implemented software in Python to assist with routine tasks which increased productivity of a 2 man team threefold.',\n \"Developed automated trading system in Python using parallel processing, AWS, REST API's, and SQL\",\n 'Developed low-level sensor logger and control system in Rust',\n 'Developed novel UI for viewing and editing and genetic content using React (javascript framework), Cascading Style Sheets (CSS), HTML, and Rust',\n 'Dutiful cleaning of a high traffic facility lead to stellar reviews from client.',\n 'Expertly managed tool program of over $175,000 by training coworkers on expectations and proper procedures leading to no hits across 2 major and 3 routine inspections.',\n 'Integrated low-level payment provider REST API tools to take advantage of extremely low cost transaction fees as compared to plug-and-play solutions (ie: PayPal, Square).',\n 'Lead and mentored a group of 3 individuals in flight deck operations and proper flight deck cleaning procedures as supervisor leading to no accidents and rejuvenating a stagnant work center.',\n 'Proposed and implemented a VB Script to allow a streamlined workflow between counterpart estimators and administrative assistants.',\n 'Represented the company at a networking event which opened the door to new contractors and bids for upcoming projects in the greater metropolitan area.',\n 'Researched and proposed corporate bylaws which were ratified by 5 board members.',\n 'Responsible for general cleaning of 3 to 4 facilities on a flexible schedule and a 1 - 2 person workcrew.',\n 'Responsible for interpreting blueprints and formulating bid proposals for large scale commercial projects.',\n 'Responsible for maintaining electrical and instrument systems for 11 F-18E aircraft totaling $715 million. Additionally, responsible for final check and troubleshooting of aircraft before flight.',\n 'Upgraded the computer and network systems for a reputable veterinary clinic in Philadelphia.'}"
     },
     "execution_count": 16,
     "metadata": {},
     "output_type": "execute_result"
    }
   ],
   "source": [
    "from summary import generate_snippets\n",
    "snippets = generate_snippets(experiences, skills, description)\n",
    "snippets"
   ],
   "metadata": {
    "collapsed": false,
    "ExecuteTime": {
     "end_time": "2023-08-23T01:01:52.094632Z",
     "start_time": "2023-08-23T01:01:02.638754Z"
    }
   },
   "id": "497d4a45905c6b04"
  },
  {
   "cell_type": "code",
   "execution_count": 17,
   "outputs": [
    {
     "data": {
      "text/plain": "{'snippets': {'Achieved competency in mechanical blueprint interpretation, bid formulation, and project lifecycle with half of the time of the typical training pipeline which provided value to the company and team members.',\n  'Assisted primary supervisor in management of maintenance programs leading to no hits on a major inspection.',\n  'Awarded for showing expertise and initiative for reinstalling an incorrectly installed part under stressful conditions.',\n  'Communicated with lead contractor during an onsite walkthrough which lead to successful awarding of a Rutgers Camden Lab renovation.',\n  'Conceived business strategy along with visionary founder which led to accepting 4 non-profits onto the platform.',\n  'Demonstrated attention to detail in refurnishing several dozen low-income apartments leading to more responsibility and autonomy.',\n  'Developed and implemented a full-stack website and donation platform which withstood several attempts Denial of Service (DOS) attacks from overseas.',\n  'Developed and implemented a full-stack website and donation platform which withstood several attempts Denial of Service (DOS) attacks from overseas. Honed knowledge of AWS, docker, git, Linux DevOps, and semantic releases.',\n  'Developed and implemented software in Python to assist with routine tasks which increased productivity of a 2 man team threefold.',\n  \"Developed automated trading system in Python using parallel processing, AWS, REST API's, and SQL\",\n  'Developed low-level sensor logger and control system in Rust',\n  'Developed novel UI for viewing and editing and genetic content using React (javascript framework), Cascading Style Sheets (CSS), HTML, and Rust',\n  'Dutiful cleaning of a high traffic facility lead to stellar reviews from client.',\n  'Expertly managed tool program of over $175,000 by training coworkers on expectations and proper procedures leading to no hits across 2 major and 3 routine inspections.',\n  'Integrated low-level payment provider REST API tools to take advantage of extremely low cost transaction fees as compared to plug-and-play solutions (ie: PayPal, Square).',\n  'Lead and mentored a group of 3 individuals in flight deck operations and proper flight deck cleaning procedures as supervisor leading to no accidents and rejuvenating a stagnant work center.',\n  'Proposed and implemented a VB Script to allow a streamlined workflow between counterpart estimators and administrative assistants.',\n  'Represented the company at a networking event which opened the door to new contractors and bids for upcoming projects in the greater metropolitan area.',\n  'Researched and proposed corporate bylaws which were ratified by 5 board members.',\n  'Responsible for general cleaning of 3 to 4 facilities on a flexible schedule and a 1 - 2 person workcrew.',\n  'Responsible for interpreting blueprints and formulating bid proposals for large scale commercial projects.',\n  'Responsible for maintaining electrical and instrument systems for 11 F-18E aircraft totaling $715 million. Additionally, responsible for final check and troubleshooting of aircraft before flight.',\n  'Upgraded the computer and network systems for a reputable veterinary clinic in Philadelphia.'},\n 'desc': 'Vendelux (https://vendelux.com/) is the system of record for event marketing. Our software platform provides proprietary data that helps high-growth companies find the highest ROI events, conferences and trade shows to attend and sponsor. We have built a product that customers describe as an “event marketer’s dream” and are backed with venture capital funding and top-tier clients.\\n\\nWe are now hiring more engineers to help us build the best platform for Event Marketers. We are looking for a Django expert to build and maintain our core platform.\\n\\nThe Django Engineer’s role is a full-time, remote position. This role reports to our Head of Product & Engineering.\\n\\nResponsibilities\\n\\n- Be an important part of our multinational, agile software development team\\n- Implement high-quality solutions across multiple components of our platform\\n- Write well-structured and documented code\\n- Continuously update and expand our products\\n\\n\\nQualifications\\n\\n- 5+ years of experience building complex web applications using Python, Django, React, Snowflake or similar\\n- Hands-on experience designing software and breaking down complexity using software engineering principles\\n- Great team member who contributes to our culture and our business\\n - Takes ownership and demands excellence from themselves and others\\n- Likes a fast paced environment and is a quick learner\\n- Results-driven and can prioritize activities with the greatest impact\\n- Proven track record of excellence\\n- Working knowledge of English',\n 'refined_overview': '- Managed a tool program and ensured no hits across multiple inspections\\n- Developed a novel UI using React, CSS, HTML, and Rust for viewing and editing genetic content\\n- Implemented a full-stack website and donation platform that withstood multiple Denial of Service attacks\\n- Maintained electrical and instrument systems for aircraft totaling $715 million\\n- Upgraded computer and network systems for a veterinary clinic in Philadelphia'}"
     },
     "execution_count": 17,
     "metadata": {},
     "output_type": "execute_result"
    }
   ],
   "source": [
    "from summary import generate_summary_chain\n",
    "generate_summary = generate_summary_chain()\n",
    "\n",
    "summary = generate_summary({'snippets': snippets, 'desc': description})\n",
    "summary"
   ],
   "metadata": {
    "collapsed": false,
    "ExecuteTime": {
     "end_time": "2023-08-23T01:02:28.308773Z",
     "start_time": "2023-08-23T01:02:11.713881Z"
    }
   },
   "id": "e7178086fd011955"
  },
  {
   "cell_type": "code",
   "execution_count": 8,
   "outputs": [],
   "source": [],
   "metadata": {
    "collapsed": false,
    "ExecuteTime": {
     "end_time": "2023-08-22T08:14:53.485798Z",
     "start_time": "2023-08-22T08:14:53.428481Z"
    }
   },
   "id": "667e954caa3a4eda"
  }
 ],
 "metadata": {
  "kernelspec": {
   "display_name": "Python 3",
   "language": "python",
   "name": "python3"
  },
  "language_info": {
   "codemirror_mode": {
    "name": "ipython",
    "version": 2
   },
   "file_extension": ".py",
   "mimetype": "text/x-python",
   "name": "python",
   "nbconvert_exporter": "python",
   "pygments_lexer": "ipython2",
   "version": "2.7.6"
  }
 },
 "nbformat": 4,
 "nbformat_minor": 5
}
