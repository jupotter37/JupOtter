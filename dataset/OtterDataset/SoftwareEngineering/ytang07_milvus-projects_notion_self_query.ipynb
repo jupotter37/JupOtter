{
 "cells": [
  {
   "cell_type": "code",
   "execution_count": 1,
   "metadata": {},
   "outputs": [],
   "source": [
    "# Load Notion page as a markdownfile file\n",
    "from langchain.document_loaders import NotionDirectoryLoader\n",
    "path='./notion_docs'\n",
    "loader = NotionDirectoryLoader(path)\n",
    "docs = loader.load()\n",
    "md_file=docs[0].page_content"
   ]
  },
  {
   "cell_type": "code",
   "execution_count": 2,
   "metadata": {},
   "outputs": [
    {
     "data": {
      "text/plain": [
       "'# Engineering Role Definitions\\n\\n> Note:\\xa0Although the levels may be different, these tend to map pretty cleanly to similar hierarchies at Google and Microsoft, but they have no correlation to hierarchies outside of the \"club\" of elite companies (Microsoft/Amazon/Google/Facebook, etc. on the west coast, Bloomberg/Goldman/HFT firms, etc. on the east coast).\\n> \\n> \\n> People with 10-15 years of software engineering experience interview\\xa0*all the time*\\xa0at these companies, but they may not be fit for much more than a junior engineering role (SDE I or SDE II, depending on which company you\\'re looking at).\\n> \\n\\n## Junior Engineer/Intern:\\n\\n- Is essentially a new and inexperienced (below the level of Amazon/Microsoft/Google engineers) junior engineer.\\n- Attending college for computer science, or really good at teaching themselves from books and online tutorials.\\n- Can probably code something but not design it.\\n- Needs a lot of hand holding (from other software engineers) to complete any non-trivial amount of work.\\n\\n## Mid-Level/Intermediate Engineer (SDE 1):\\n\\n- Is essentially a new and inexperienced (at the level of Amazon/Microsoft/Google engineers) junior engineer.\\n- Usually a Computer Science college graduate.\\n- Typically doesn\\'t need any hand holding, but they still need someone to break down a high-level task into smaller well-defined tasks for them to work on.\\n- Tend not to understand the big picture.\\n- Typically, can get their code to work, but does not have the experience or knowledge to do the quality of work, from an architecture, maintainability and testability point-of-view, that you would expect from a senior software engineer.\\n\\n## Senior Engineer (SDE 2):\\n\\n- Has a few years of experience.\\n- Experience with large codebases and some architectural experience.\\n- Can not only code independently, but also design significant chunks of code, deliver significant team-level projects, and guide more junior developers.\\n\\n## Staff Engineer (SDE 3):\\n\\n- Has many years of experience.\\n- Has led or spearheaded at least one non-trivial or important project.\\n- Can design larger systems, work effectively across multiple teams to deliver large projects, and leads his/her team to technical success.\\n- Provides solid technical leadership for their team.\\n- Has demonstrated soft skills and political acumen, and is able to negotiate across teams.\\n\\n## Senior Staff Engineer (SDE 3.5):\\n\\n- Everything on the\\xa0*Staff Engineer*\\xa0list, plus:\\n- Generally 10-15 years of experience.\\n- Has led or spearheaded multiple non-trivial or important projects.\\n- Provides solid technical leadership\\xa0*beyond*\\xa0their team.\\n\\n## Principal Engineer\\n\\n- Everything on the\\xa0*Senior Staff Engineer*\\xa0list, plus:\\n- Generally 15-20 years of experience.\\n- Has led or spearheaded several non-trivial or important projects.\\n- Provides solid technical leadership\\xa0*across the company*.\\n- Typically has one or more patents.\\n\\n## Distinguished Engineer\\n\\n- More and better than the last. Less day-to-day coding, and more thinking, planning, and directing.\\n- Has achieved noteworthy technical, professional accomplishments while working as an engineer.\\n- This will ordinarily require significant amounts of time over the lifetime of the individual given this distinction.\\n- Provides solid technical leadership\\xa0*beyond the company*.\\n- Werner Vogels, CTO of Amazon, is a Distinguished Engineer.\\n\\n## Fellow\\n\\n- More and better than the last.\\n- Provides solid technical leadership\\xa0*across the industry*.\\n- James Gosling, creator of the Java programming language, is a Fellow.\\n\\n## Senior Fellow\\n\\n- Woz.'"
      ]
     },
     "execution_count": 2,
     "metadata": {},
     "output_type": "execute_result"
    }
   ],
   "source": [
    "md_file"
   ]
  },
  {
   "cell_type": "code",
   "execution_count": 3,
   "metadata": {},
   "outputs": [],
   "source": [
    "# Let's create groups based on the section headers in our page\n",
    "from langchain.text_splitter import MarkdownHeaderTextSplitter\n",
    "headers_to_split_on = [\n",
    "    (\"##\", \"Section\"),\n",
    "]\n",
    "markdown_splitter = MarkdownHeaderTextSplitter(headers_to_split_on=headers_to_split_on)\n",
    "md_header_splits = markdown_splitter.split_text(md_file)"
   ]
  },
  {
   "cell_type": "code",
   "execution_count": 4,
   "metadata": {},
   "outputs": [
    {
     "data": {
      "text/plain": [
       "10"
      ]
     },
     "execution_count": 4,
     "metadata": {},
     "output_type": "execute_result"
    }
   ],
   "source": [
    "len(md_header_splits)"
   ]
  },
  {
   "cell_type": "code",
   "execution_count": 5,
   "metadata": {},
   "outputs": [],
   "source": [
    "# Define our text splitter\n",
    "from langchain.text_splitter import RecursiveCharacterTextSplitter\n",
    "chunk_size = 64\n",
    "chunk_overlap = 8\n",
    "text_splitter = RecursiveCharacterTextSplitter(chunk_size=chunk_size, chunk_overlap=chunk_overlap)\n",
    "all_splits = text_splitter.split_documents(md_header_splits)"
   ]
  },
  {
   "cell_type": "code",
   "execution_count": 6,
   "metadata": {},
   "outputs": [
    {
     "data": {
      "text/plain": [
       "[Document(page_content='# Engineering Role Definitions', metadata={}),\n",
       " Document(page_content='> Note:\\xa0Although the levels may be different, these tend to map', metadata={}),\n",
       " Document(page_content='to map pretty cleanly to similar hierarchies at Google and', metadata={}),\n",
       " Document(page_content='and Microsoft, but they have no correlation to hierarchies', metadata={}),\n",
       " Document(page_content='outside of the \"club\" of elite companies', metadata={}),\n",
       " Document(page_content='(Microsoft/Amazon/Google/Facebook, etc. on the west coast,', metadata={}),\n",
       " Document(page_content='coast, Bloomberg/Goldman/HFT firms, etc. on the east coast).', metadata={}),\n",
       " Document(page_content='>\\n>', metadata={}),\n",
       " Document(page_content='> People with 10-15 years of software engineering experience', metadata={}),\n",
       " Document(page_content='interview\\xa0*all the time*\\xa0at these companies, but they may not', metadata={}),\n",
       " Document(page_content='may not be fit for much more than a junior engineering role', metadata={}),\n",
       " Document(page_content=\"role (SDE I or SDE II, depending on which company you're\", metadata={}),\n",
       " Document(page_content=\"you're looking at).\", metadata={}),\n",
       " Document(page_content='>', metadata={}),\n",
       " Document(page_content='- Is essentially a new and inexperienced (below the level of', metadata={'Section': 'Junior Engineer/Intern:'}),\n",
       " Document(page_content='of Amazon/Microsoft/Google engineers) junior engineer.', metadata={'Section': 'Junior Engineer/Intern:'}),\n",
       " Document(page_content='- Attending college for computer science, or really good at', metadata={'Section': 'Junior Engineer/Intern:'}),\n",
       " Document(page_content='good at teaching themselves from books and online tutorials.', metadata={'Section': 'Junior Engineer/Intern:'}),\n",
       " Document(page_content='- Can probably code something but not design it.', metadata={'Section': 'Junior Engineer/Intern:'}),\n",
       " Document(page_content='- Needs a lot of hand holding (from other software engineers)', metadata={'Section': 'Junior Engineer/Intern:'}),\n",
       " Document(page_content='to complete any non-trivial amount of work.', metadata={'Section': 'Junior Engineer/Intern:'}),\n",
       " Document(page_content='- Is essentially a new and inexperienced (at the level of', metadata={'Section': 'Mid-Level/Intermediate Engineer (SDE 1):'}),\n",
       " Document(page_content='of Amazon/Microsoft/Google engineers) junior engineer.', metadata={'Section': 'Mid-Level/Intermediate Engineer (SDE 1):'}),\n",
       " Document(page_content='- Usually a Computer Science college graduate.', metadata={'Section': 'Mid-Level/Intermediate Engineer (SDE 1):'}),\n",
       " Document(page_content=\"- Typically doesn't need any hand holding, but they still need\", metadata={'Section': 'Mid-Level/Intermediate Engineer (SDE 1):'}),\n",
       " Document(page_content='need someone to break down a high-level task into smaller', metadata={'Section': 'Mid-Level/Intermediate Engineer (SDE 1):'}),\n",
       " Document(page_content='smaller well-defined tasks for them to work on.', metadata={'Section': 'Mid-Level/Intermediate Engineer (SDE 1):'}),\n",
       " Document(page_content='- Tend not to understand the big picture.', metadata={'Section': 'Mid-Level/Intermediate Engineer (SDE 1):'}),\n",
       " Document(page_content='- Typically, can get their code to work, but does not have the', metadata={'Section': 'Mid-Level/Intermediate Engineer (SDE 1):'}),\n",
       " Document(page_content='the experience or knowledge to do the quality of work, from an', metadata={'Section': 'Mid-Level/Intermediate Engineer (SDE 1):'}),\n",
       " Document(page_content='from an architecture, maintainability and testability', metadata={'Section': 'Mid-Level/Intermediate Engineer (SDE 1):'}),\n",
       " Document(page_content='point-of-view, that you would expect from a senior software', metadata={'Section': 'Mid-Level/Intermediate Engineer (SDE 1):'}),\n",
       " Document(page_content='engineer.', metadata={'Section': 'Mid-Level/Intermediate Engineer (SDE 1):'}),\n",
       " Document(page_content='- Has a few years of experience.', metadata={'Section': 'Senior Engineer (SDE 2):'}),\n",
       " Document(page_content='- Experience with large codebases and some architectural', metadata={'Section': 'Senior Engineer (SDE 2):'}),\n",
       " Document(page_content='experience.', metadata={'Section': 'Senior Engineer (SDE 2):'}),\n",
       " Document(page_content='- Can not only code independently, but also design significant', metadata={'Section': 'Senior Engineer (SDE 2):'}),\n",
       " Document(page_content='chunks of code, deliver significant team-level projects, and', metadata={'Section': 'Senior Engineer (SDE 2):'}),\n",
       " Document(page_content='and guide more junior developers.', metadata={'Section': 'Senior Engineer (SDE 2):'}),\n",
       " Document(page_content='- Has many years of experience.', metadata={'Section': 'Staff Engineer (SDE 3):'}),\n",
       " Document(page_content='- Has led or spearheaded at least one non-trivial or important', metadata={'Section': 'Staff Engineer (SDE 3):'}),\n",
       " Document(page_content='project.', metadata={'Section': 'Staff Engineer (SDE 3):'}),\n",
       " Document(page_content='- Can design larger systems, work effectively across multiple', metadata={'Section': 'Staff Engineer (SDE 3):'}),\n",
       " Document(page_content='teams to deliver large projects, and leads his/her team to', metadata={'Section': 'Staff Engineer (SDE 3):'}),\n",
       " Document(page_content='team to technical success.', metadata={'Section': 'Staff Engineer (SDE 3):'}),\n",
       " Document(page_content='- Provides solid technical leadership for their team.', metadata={'Section': 'Staff Engineer (SDE 3):'}),\n",
       " Document(page_content='- Has demonstrated soft skills and political acumen, and is', metadata={'Section': 'Staff Engineer (SDE 3):'}),\n",
       " Document(page_content='and is able to negotiate across teams.', metadata={'Section': 'Staff Engineer (SDE 3):'}),\n",
       " Document(page_content='- Everything on the\\xa0*Staff Engineer*\\xa0list, plus:', metadata={'Section': 'Senior Staff Engineer (SDE 3.5):'}),\n",
       " Document(page_content='- Generally 10-15 years of experience.', metadata={'Section': 'Senior Staff Engineer (SDE 3.5):'}),\n",
       " Document(page_content='- Has led or spearheaded multiple non-trivial or important', metadata={'Section': 'Senior Staff Engineer (SDE 3.5):'}),\n",
       " Document(page_content='projects.', metadata={'Section': 'Senior Staff Engineer (SDE 3.5):'}),\n",
       " Document(page_content='- Provides solid technical leadership\\xa0*beyond*\\xa0their team.', metadata={'Section': 'Senior Staff Engineer (SDE 3.5):'}),\n",
       " Document(page_content='- Everything on the\\xa0*Senior Staff Engineer*\\xa0list, plus:', metadata={'Section': 'Principal Engineer'}),\n",
       " Document(page_content='- Generally 15-20 years of experience.', metadata={'Section': 'Principal Engineer'}),\n",
       " Document(page_content='- Has led or spearheaded several non-trivial or important', metadata={'Section': 'Principal Engineer'}),\n",
       " Document(page_content='projects.', metadata={'Section': 'Principal Engineer'}),\n",
       " Document(page_content='- Provides solid technical leadership\\xa0*across the company*.', metadata={'Section': 'Principal Engineer'}),\n",
       " Document(page_content='- Typically has one or more patents.', metadata={'Section': 'Principal Engineer'}),\n",
       " Document(page_content='- More and better than the last. Less day-to-day coding, and', metadata={'Section': 'Distinguished Engineer'}),\n",
       " Document(page_content='and more thinking, planning, and directing.', metadata={'Section': 'Distinguished Engineer'}),\n",
       " Document(page_content='- Has achieved noteworthy technical, professional', metadata={'Section': 'Distinguished Engineer'}),\n",
       " Document(page_content='accomplishments while working as an engineer.', metadata={'Section': 'Distinguished Engineer'}),\n",
       " Document(page_content='- This will ordinarily require significant amounts of time over', metadata={'Section': 'Distinguished Engineer'}),\n",
       " Document(page_content='over the lifetime of the individual given this distinction.', metadata={'Section': 'Distinguished Engineer'}),\n",
       " Document(page_content='- Provides solid technical leadership\\xa0*beyond the company*.', metadata={'Section': 'Distinguished Engineer'}),\n",
       " Document(page_content='- Werner Vogels, CTO of Amazon, is a Distinguished Engineer.', metadata={'Section': 'Distinguished Engineer'}),\n",
       " Document(page_content='- More and better than the last.', metadata={'Section': 'Fellow'}),\n",
       " Document(page_content='- Provides solid technical leadership\\xa0*across the industry*.', metadata={'Section': 'Fellow'}),\n",
       " Document(page_content='- James Gosling, creator of the Java programming language, is a', metadata={'Section': 'Fellow'}),\n",
       " Document(page_content='is a Fellow.', metadata={'Section': 'Fellow'}),\n",
       " Document(page_content='- Woz.', metadata={'Section': 'Senior Fellow'})]"
      ]
     },
     "execution_count": 6,
     "metadata": {},
     "output_type": "execute_result"
    }
   ],
   "source": [
    "all_splits"
   ]
  },
  {
   "cell_type": "code",
   "execution_count": 7,
   "metadata": {},
   "outputs": [
    {
     "data": {
      "text/plain": [
       "72"
      ]
     },
     "execution_count": 7,
     "metadata": {},
     "output_type": "execute_result"
    }
   ],
   "source": [
    "len(all_splits)"
   ]
  },
  {
   "cell_type": "code",
   "execution_count": 8,
   "metadata": {},
   "outputs": [],
   "source": [
    "from milvus import default_server"
   ]
  },
  {
   "cell_type": "code",
   "execution_count": 9,
   "metadata": {},
   "outputs": [],
   "source": [
    "default_server.start()"
   ]
  },
  {
   "cell_type": "code",
   "execution_count": 10,
   "metadata": {},
   "outputs": [],
   "source": [
    "from langchain.vectorstores import Milvus\n",
    "from langchain.embeddings import OpenAIEmbeddings"
   ]
  },
  {
   "cell_type": "code",
   "execution_count": 11,
   "metadata": {},
   "outputs": [],
   "source": [
    "vectordb = Milvus.from_documents(documents=all_splits,\n",
    "                                 embedding=OpenAIEmbeddings(),\n",
    "                                 connection_args={\"host\": \"127.0.0.1\", \"port\": default_server.listen_port},\n",
    "                                 collection_name=\"EngineeringNotionDoc\")"
   ]
  },
  {
   "cell_type": "code",
   "execution_count": 12,
   "metadata": {},
   "outputs": [],
   "source": [
    "from langchain.llms import OpenAI\n",
    "from langchain.retrievers.self_query.base import SelfQueryRetriever\n",
    "from langchain.chains.query_constructor.base import AttributeInfo\n",
    "\n",
    "metadata_fields_info = [\n",
    "    AttributeInfo(\n",
    "        name=\"Section\",\n",
    "        description=\"Part of the document that the text comes from\",\n",
    "        type=\"string or list[string]\"\n",
    "    ),\n",
    "]\n",
    "document_content_description = \"Major sections of the document\"\n",
    "\n",
    "llm = OpenAI(temperature=0)\n",
    "retriever = SelfQueryRetriever.from_llm(llm, vectordb, document_content_description, metadata_fields_info, verbose=True)"
   ]
  },
  {
   "cell_type": "code",
   "execution_count": 16,
   "metadata": {},
   "outputs": [
    {
     "name": "stdout",
     "output_type": "stream",
     "text": [
      "query='distinguished engineer' filter=None limit=None\n"
     ]
    },
    {
     "name": "stderr",
     "output_type": "stream",
     "text": [
      "RPC error: [search], <MilvusException: (code=1, message=syncTimestamp Failed:err: failed to connect 172.19.0.186:53100, reason: context deadline exceeded\n",
      ", /Users/jibin/Working/milvus-lite/milvus_binary/milvus/pkg/tracer/stack_trace.go:51 github.com/milvus-io/milvus/pkg/tracer.StackTrace\n",
      "/Users/jibin/Working/milvus-lite/milvus_binary/milvus/internal/util/grpcclient/client.go:405 github.com/milvus-io/milvus/internal/util/grpcclient.(*ClientBase[...]).ReCall\n",
      "/Users/jibin/Working/milvus-lite/milvus_binary/milvus/internal/distributed/rootcoord/client/client.go:120 github.com/milvus-io/milvus/internal/distributed/rootcoord/client.wrapGrpcCall[...]\n",
      "/Users/jibin/Working/milvus-lite/milvus_binary/milvus/internal/distributed/rootcoord/client/client.go:321 github.com/milvus-io/milvus/internal/distributed/rootcoord/client.(*Client).AllocTimestamp\n",
      "/Users/jibin/Working/milvus-lite/milvus_binary/milvus/internal/proxy/timestamp.go:61 github.com/milvus-io/milvus/internal/proxy.(*timestampAllocator).alloc\n",
      "/Users/jibin/Working/milvus-lite/milvus_binary/milvus/internal/proxy/timestamp.go:83 github.com/milvus-io/milvus/internal/proxy.(*timestampAllocator).AllocOne\n",
      "/Users/jibin/Working/milvus-lite/milvus_binary/milvus/internal/proxy/task_scheduler.go:170 github.com/milvus-io/milvus/internal/proxy.(*baseTaskQueue).Enqueue\n",
      "/Users/jibin/Working/milvus-lite/milvus_binary/milvus/internal/proxy/impl.go:2667 github.com/milvus-io/milvus/internal/proxy.(*Proxy).Search\n",
      "/Users/jibin/Working/milvus-lite/milvus_binary/milvus/internal/distributed/proxy/service.go:830 github.com/milvus-io/milvus/internal/distributed/proxy.(*Server).Search\n",
      "/Users/jibin/go/pkg/mod/github.com/milvus-io/milvus-proto/go-api/v2@v2.3.0/milvuspb/milvus.pb.go:11836 github.com/milvus-io/milvus-proto/go-api/v2/milvuspb._MilvusService_Search_Handler.func1\n",
      ")>, <Time:{'RPC start': '2023-10-10 11:55:29.360361', 'RPC error': '2023-10-10 11:55:30.536535'}>\n"
     ]
    },
    {
     "ename": "MilvusException",
     "evalue": "<MilvusException: (code=1, message=syncTimestamp Failed:err: failed to connect 172.19.0.186:53100, reason: context deadline exceeded\n, /Users/jibin/Working/milvus-lite/milvus_binary/milvus/pkg/tracer/stack_trace.go:51 github.com/milvus-io/milvus/pkg/tracer.StackTrace\n/Users/jibin/Working/milvus-lite/milvus_binary/milvus/internal/util/grpcclient/client.go:405 github.com/milvus-io/milvus/internal/util/grpcclient.(*ClientBase[...]).ReCall\n/Users/jibin/Working/milvus-lite/milvus_binary/milvus/internal/distributed/rootcoord/client/client.go:120 github.com/milvus-io/milvus/internal/distributed/rootcoord/client.wrapGrpcCall[...]\n/Users/jibin/Working/milvus-lite/milvus_binary/milvus/internal/distributed/rootcoord/client/client.go:321 github.com/milvus-io/milvus/internal/distributed/rootcoord/client.(*Client).AllocTimestamp\n/Users/jibin/Working/milvus-lite/milvus_binary/milvus/internal/proxy/timestamp.go:61 github.com/milvus-io/milvus/internal/proxy.(*timestampAllocator).alloc\n/Users/jibin/Working/milvus-lite/milvus_binary/milvus/internal/proxy/timestamp.go:83 github.com/milvus-io/milvus/internal/proxy.(*timestampAllocator).AllocOne\n/Users/jibin/Working/milvus-lite/milvus_binary/milvus/internal/proxy/task_scheduler.go:170 github.com/milvus-io/milvus/internal/proxy.(*baseTaskQueue).Enqueue\n/Users/jibin/Working/milvus-lite/milvus_binary/milvus/internal/proxy/impl.go:2667 github.com/milvus-io/milvus/internal/proxy.(*Proxy).Search\n/Users/jibin/Working/milvus-lite/milvus_binary/milvus/internal/distributed/proxy/service.go:830 github.com/milvus-io/milvus/internal/distributed/proxy.(*Server).Search\n/Users/jibin/go/pkg/mod/github.com/milvus-io/milvus-proto/go-api/v2@v2.3.0/milvuspb/milvus.pb.go:11836 github.com/milvus-io/milvus-proto/go-api/v2/milvuspb._MilvusService_Search_Handler.func1\n)>",
     "output_type": "error",
     "traceback": [
      "\u001b[0;31m---------------------------------------------------------------------------\u001b[0m",
      "\u001b[0;31mMilvusException\u001b[0m                           Traceback (most recent call last)",
      "    \u001b[0;31m[... skipping hidden 1 frame]\u001b[0m\n",
      "\u001b[1;32m/Users/yujiantang/Documents/workspace/hello_world_project/langchain/notion_self_query.ipynb Cell 13\u001b[0m line \u001b[0;36m1\n\u001b[0;32m----> <a href='vscode-notebook-cell:/Users/yujiantang/Documents/workspace/hello_world_project/langchain/notion_self_query.ipynb#X14sZmlsZQ%3D%3D?line=0'>1</a>\u001b[0m retriever\u001b[39m.\u001b[39;49mget_relevant_documents(\u001b[39m\"\u001b[39;49m\u001b[39mWhat makes a distinguished engineer?\u001b[39;49m\u001b[39m\"\u001b[39;49m)\n",
      "File \u001b[0;32m~/Documents/workspace/hello_world_project/hw_milvus/lib/python3.10/site-packages/langchain/schema/retriever.py:208\u001b[0m, in \u001b[0;36mBaseRetriever.get_relevant_documents\u001b[0;34m(self, query, callbacks, tags, metadata, **kwargs)\u001b[0m\n\u001b[1;32m    207\u001b[0m     run_manager\u001b[39m.\u001b[39mon_retriever_error(e)\n\u001b[0;32m--> 208\u001b[0m     \u001b[39mraise\u001b[39;00m e\n\u001b[1;32m    209\u001b[0m \u001b[39melse\u001b[39;00m:\n",
      "File \u001b[0;32m~/Documents/workspace/hello_world_project/hw_milvus/lib/python3.10/site-packages/langchain/schema/retriever.py:201\u001b[0m, in \u001b[0;36mBaseRetriever.get_relevant_documents\u001b[0;34m(self, query, callbacks, tags, metadata, **kwargs)\u001b[0m\n\u001b[1;32m    200\u001b[0m \u001b[39mif\u001b[39;00m \u001b[39mself\u001b[39m\u001b[39m.\u001b[39m_new_arg_supported:\n\u001b[0;32m--> 201\u001b[0m     result \u001b[39m=\u001b[39m \u001b[39mself\u001b[39;49m\u001b[39m.\u001b[39;49m_get_relevant_documents(\n\u001b[1;32m    202\u001b[0m         query, run_manager\u001b[39m=\u001b[39;49mrun_manager, \u001b[39m*\u001b[39;49m\u001b[39m*\u001b[39;49m_kwargs\n\u001b[1;32m    203\u001b[0m     )\n\u001b[1;32m    204\u001b[0m \u001b[39melse\u001b[39;00m:\n",
      "File \u001b[0;32m~/Documents/workspace/hello_world_project/hw_milvus/lib/python3.10/site-packages/langchain/retrievers/self_query/base.py:135\u001b[0m, in \u001b[0;36mSelfQueryRetriever._get_relevant_documents\u001b[0;34m(self, query, run_manager)\u001b[0m\n\u001b[1;32m    134\u001b[0m search_kwargs \u001b[39m=\u001b[39m {\u001b[39m*\u001b[39m\u001b[39m*\u001b[39m\u001b[39mself\u001b[39m\u001b[39m.\u001b[39msearch_kwargs, \u001b[39m*\u001b[39m\u001b[39m*\u001b[39mnew_kwargs}\n\u001b[0;32m--> 135\u001b[0m docs \u001b[39m=\u001b[39m \u001b[39mself\u001b[39;49m\u001b[39m.\u001b[39;49mvectorstore\u001b[39m.\u001b[39;49msearch(new_query, \u001b[39mself\u001b[39;49m\u001b[39m.\u001b[39;49msearch_type, \u001b[39m*\u001b[39;49m\u001b[39m*\u001b[39;49msearch_kwargs)\n\u001b[1;32m    136\u001b[0m \u001b[39mreturn\u001b[39;00m docs\n",
      "File \u001b[0;32m~/Documents/workspace/hello_world_project/hw_milvus/lib/python3.10/site-packages/langchain/vectorstores/base.py:121\u001b[0m, in \u001b[0;36mVectorStore.search\u001b[0;34m(self, query, search_type, **kwargs)\u001b[0m\n\u001b[1;32m    120\u001b[0m \u001b[39mif\u001b[39;00m search_type \u001b[39m==\u001b[39m \u001b[39m\"\u001b[39m\u001b[39msimilarity\u001b[39m\u001b[39m\"\u001b[39m:\n\u001b[0;32m--> 121\u001b[0m     \u001b[39mreturn\u001b[39;00m \u001b[39mself\u001b[39;49m\u001b[39m.\u001b[39;49msimilarity_search(query, \u001b[39m*\u001b[39;49m\u001b[39m*\u001b[39;49mkwargs)\n\u001b[1;32m    122\u001b[0m \u001b[39melif\u001b[39;00m search_type \u001b[39m==\u001b[39m \u001b[39m\"\u001b[39m\u001b[39mmmr\u001b[39m\u001b[39m\"\u001b[39m:\n",
      "File \u001b[0;32m~/Documents/workspace/hello_world_project/hw_milvus/lib/python3.10/site-packages/langchain/vectorstores/milvus.py:503\u001b[0m, in \u001b[0;36mMilvus.similarity_search\u001b[0;34m(self, query, k, param, expr, timeout, **kwargs)\u001b[0m\n\u001b[1;32m    502\u001b[0m     \u001b[39mreturn\u001b[39;00m []\n\u001b[0;32m--> 503\u001b[0m res \u001b[39m=\u001b[39m \u001b[39mself\u001b[39;49m\u001b[39m.\u001b[39;49msimilarity_search_with_score(\n\u001b[1;32m    504\u001b[0m     query\u001b[39m=\u001b[39;49mquery, k\u001b[39m=\u001b[39;49mk, param\u001b[39m=\u001b[39;49mparam, expr\u001b[39m=\u001b[39;49mexpr, timeout\u001b[39m=\u001b[39;49mtimeout, \u001b[39m*\u001b[39;49m\u001b[39m*\u001b[39;49mkwargs\n\u001b[1;32m    505\u001b[0m )\n\u001b[1;32m    506\u001b[0m \u001b[39mreturn\u001b[39;00m [doc \u001b[39mfor\u001b[39;00m doc, _ \u001b[39min\u001b[39;00m res]\n",
      "File \u001b[0;32m~/Documents/workspace/hello_world_project/hw_milvus/lib/python3.10/site-packages/langchain/vectorstores/milvus.py:575\u001b[0m, in \u001b[0;36mMilvus.similarity_search_with_score\u001b[0;34m(self, query, k, param, expr, timeout, **kwargs)\u001b[0m\n\u001b[1;32m    573\u001b[0m embedding \u001b[39m=\u001b[39m \u001b[39mself\u001b[39m\u001b[39m.\u001b[39membedding_func\u001b[39m.\u001b[39membed_query(query)\n\u001b[0;32m--> 575\u001b[0m res \u001b[39m=\u001b[39m \u001b[39mself\u001b[39;49m\u001b[39m.\u001b[39;49msimilarity_search_with_score_by_vector(\n\u001b[1;32m    576\u001b[0m     embedding\u001b[39m=\u001b[39;49membedding, k\u001b[39m=\u001b[39;49mk, param\u001b[39m=\u001b[39;49mparam, expr\u001b[39m=\u001b[39;49mexpr, timeout\u001b[39m=\u001b[39;49mtimeout, \u001b[39m*\u001b[39;49m\u001b[39m*\u001b[39;49mkwargs\n\u001b[1;32m    577\u001b[0m )\n\u001b[1;32m    578\u001b[0m \u001b[39mreturn\u001b[39;00m res\n",
      "File \u001b[0;32m~/Documents/workspace/hello_world_project/hw_milvus/lib/python3.10/site-packages/langchain/vectorstores/milvus.py:620\u001b[0m, in \u001b[0;36mMilvus.similarity_search_with_score_by_vector\u001b[0;34m(self, embedding, k, param, expr, timeout, **kwargs)\u001b[0m\n\u001b[1;32m    619\u001b[0m \u001b[39m# Perform the search.\u001b[39;00m\n\u001b[0;32m--> 620\u001b[0m res \u001b[39m=\u001b[39m \u001b[39mself\u001b[39;49m\u001b[39m.\u001b[39;49mcol\u001b[39m.\u001b[39;49msearch(\n\u001b[1;32m    621\u001b[0m     data\u001b[39m=\u001b[39;49m[embedding],\n\u001b[1;32m    622\u001b[0m     anns_field\u001b[39m=\u001b[39;49m\u001b[39mself\u001b[39;49m\u001b[39m.\u001b[39;49m_vector_field,\n\u001b[1;32m    623\u001b[0m     param\u001b[39m=\u001b[39;49mparam,\n\u001b[1;32m    624\u001b[0m     limit\u001b[39m=\u001b[39;49mk,\n\u001b[1;32m    625\u001b[0m     expr\u001b[39m=\u001b[39;49mexpr,\n\u001b[1;32m    626\u001b[0m     output_fields\u001b[39m=\u001b[39;49moutput_fields,\n\u001b[1;32m    627\u001b[0m     timeout\u001b[39m=\u001b[39;49mtimeout,\n\u001b[1;32m    628\u001b[0m     \u001b[39m*\u001b[39;49m\u001b[39m*\u001b[39;49mkwargs,\n\u001b[1;32m    629\u001b[0m )\n\u001b[1;32m    630\u001b[0m \u001b[39m# Organize results.\u001b[39;00m\n",
      "File \u001b[0;32m~/Documents/workspace/hello_world_project/hw_milvus/lib/python3.10/site-packages/pymilvus/orm/collection.py:778\u001b[0m, in \u001b[0;36mCollection.search\u001b[0;34m(self, data, anns_field, param, limit, expr, partition_names, output_fields, timeout, round_decimal, **kwargs)\u001b[0m\n\u001b[1;32m    777\u001b[0m conn \u001b[39m=\u001b[39m \u001b[39mself\u001b[39m\u001b[39m.\u001b[39m_get_connection()\n\u001b[0;32m--> 778\u001b[0m res \u001b[39m=\u001b[39m conn\u001b[39m.\u001b[39;49msearch(\n\u001b[1;32m    779\u001b[0m     \u001b[39mself\u001b[39;49m\u001b[39m.\u001b[39;49m_name,\n\u001b[1;32m    780\u001b[0m     data,\n\u001b[1;32m    781\u001b[0m     anns_field,\n\u001b[1;32m    782\u001b[0m     param,\n\u001b[1;32m    783\u001b[0m     limit,\n\u001b[1;32m    784\u001b[0m     expr,\n\u001b[1;32m    785\u001b[0m     partition_names,\n\u001b[1;32m    786\u001b[0m     output_fields,\n\u001b[1;32m    787\u001b[0m     round_decimal,\n\u001b[1;32m    788\u001b[0m     timeout\u001b[39m=\u001b[39;49mtimeout,\n\u001b[1;32m    789\u001b[0m     schema\u001b[39m=\u001b[39;49m\u001b[39mself\u001b[39;49m\u001b[39m.\u001b[39;49m_schema_dict,\n\u001b[1;32m    790\u001b[0m     \u001b[39m*\u001b[39;49m\u001b[39m*\u001b[39;49mkwargs,\n\u001b[1;32m    791\u001b[0m )\n\u001b[1;32m    792\u001b[0m \u001b[39mif\u001b[39;00m kwargs\u001b[39m.\u001b[39mget(\u001b[39m\"\u001b[39m\u001b[39m_async\u001b[39m\u001b[39m\"\u001b[39m, \u001b[39mFalse\u001b[39;00m):\n",
      "File \u001b[0;32m~/Documents/workspace/hello_world_project/hw_milvus/lib/python3.10/site-packages/pymilvus/decorators.py:127\u001b[0m, in \u001b[0;36merror_handler.<locals>.wrapper.<locals>.handler\u001b[0;34m(*args, **kwargs)\u001b[0m\n\u001b[1;32m    126\u001b[0m     LOGGER\u001b[39m.\u001b[39merror(\u001b[39mf\u001b[39m\u001b[39m\"\u001b[39m\u001b[39mRPC error: [\u001b[39m\u001b[39m{\u001b[39;00minner_name\u001b[39m}\u001b[39;00m\u001b[39m], \u001b[39m\u001b[39m{\u001b[39;00me\u001b[39m}\u001b[39;00m\u001b[39m, <Time:\u001b[39m\u001b[39m{\u001b[39;00mrecord_dict\u001b[39m}\u001b[39;00m\u001b[39m>\u001b[39m\u001b[39m\"\u001b[39m)\n\u001b[0;32m--> 127\u001b[0m     \u001b[39mraise\u001b[39;00m e \u001b[39mfrom\u001b[39;00m \u001b[39me\u001b[39;00m\n\u001b[1;32m    128\u001b[0m \u001b[39mexcept\u001b[39;00m grpc\u001b[39m.\u001b[39mFutureTimeoutError \u001b[39mas\u001b[39;00m e:\n",
      "File \u001b[0;32m~/Documents/workspace/hello_world_project/hw_milvus/lib/python3.10/site-packages/pymilvus/decorators.py:123\u001b[0m, in \u001b[0;36merror_handler.<locals>.wrapper.<locals>.handler\u001b[0;34m(*args, **kwargs)\u001b[0m\n\u001b[1;32m    122\u001b[0m     record_dict[\u001b[39m\"\u001b[39m\u001b[39mRPC start\u001b[39m\u001b[39m\"\u001b[39m] \u001b[39m=\u001b[39m \u001b[39mstr\u001b[39m(datetime\u001b[39m.\u001b[39mdatetime\u001b[39m.\u001b[39mnow())\n\u001b[0;32m--> 123\u001b[0m     \u001b[39mreturn\u001b[39;00m func(\u001b[39m*\u001b[39;49margs, \u001b[39m*\u001b[39;49m\u001b[39m*\u001b[39;49mkwargs)\n\u001b[1;32m    124\u001b[0m \u001b[39mexcept\u001b[39;00m MilvusException \u001b[39mas\u001b[39;00m e:\n",
      "File \u001b[0;32m~/Documents/workspace/hello_world_project/hw_milvus/lib/python3.10/site-packages/pymilvus/decorators.py:162\u001b[0m, in \u001b[0;36mtracing_request.<locals>.wrapper.<locals>.handler\u001b[0;34m(self, *args, **kwargs)\u001b[0m\n\u001b[1;32m    161\u001b[0m     \u001b[39mself\u001b[39m\u001b[39m.\u001b[39mset_onetime_request_id(req_id)\n\u001b[0;32m--> 162\u001b[0m \u001b[39mreturn\u001b[39;00m func(\u001b[39mself\u001b[39;49m, \u001b[39m*\u001b[39;49margs, \u001b[39m*\u001b[39;49m\u001b[39m*\u001b[39;49mkwargs)\n",
      "File \u001b[0;32m~/Documents/workspace/hello_world_project/hw_milvus/lib/python3.10/site-packages/pymilvus/decorators.py:102\u001b[0m, in \u001b[0;36mretry_on_rpc_failure.<locals>.wrapper.<locals>.handler\u001b[0;34m(*args, **kwargs)\u001b[0m\n\u001b[1;32m    101\u001b[0m     \u001b[39melse\u001b[39;00m:\n\u001b[0;32m--> 102\u001b[0m         \u001b[39mraise\u001b[39;00m e \u001b[39mfrom\u001b[39;00m \u001b[39me\u001b[39;00m\n\u001b[1;32m    103\u001b[0m \u001b[39mexcept\u001b[39;00m \u001b[39mException\u001b[39;00m \u001b[39mas\u001b[39;00m e:\n",
      "File \u001b[0;32m~/Documents/workspace/hello_world_project/hw_milvus/lib/python3.10/site-packages/pymilvus/decorators.py:68\u001b[0m, in \u001b[0;36mretry_on_rpc_failure.<locals>.wrapper.<locals>.handler\u001b[0;34m(*args, **kwargs)\u001b[0m\n\u001b[1;32m     67\u001b[0m \u001b[39mtry\u001b[39;00m:\n\u001b[0;32m---> 68\u001b[0m     \u001b[39mreturn\u001b[39;00m func(\u001b[39m*\u001b[39;49margs, \u001b[39m*\u001b[39;49m\u001b[39m*\u001b[39;49mkwargs)\n\u001b[1;32m     69\u001b[0m \u001b[39mexcept\u001b[39;00m grpc\u001b[39m.\u001b[39mRpcError \u001b[39mas\u001b[39;00m e:\n\u001b[1;32m     70\u001b[0m     \u001b[39m# Reference: https://grpc.github.io/grpc/python/grpc.html#grpc-status-code\u001b[39;00m\n",
      "File \u001b[0;32m~/Documents/workspace/hello_world_project/hw_milvus/lib/python3.10/site-packages/pymilvus/client/grpc_handler.py:774\u001b[0m, in \u001b[0;36mGrpcHandler.search\u001b[0;34m(self, collection_name, data, anns_field, param, limit, expression, partition_names, output_fields, round_decimal, timeout, **kwargs)\u001b[0m\n\u001b[1;32m    762\u001b[0m requests \u001b[39m=\u001b[39m Prepare\u001b[39m.\u001b[39msearch_requests_with_expr(\n\u001b[1;32m    763\u001b[0m     collection_name,\n\u001b[1;32m    764\u001b[0m     data,\n\u001b[0;32m   (...)\u001b[0m\n\u001b[1;32m    772\u001b[0m     \u001b[39m*\u001b[39m\u001b[39m*\u001b[39mkwargs,\n\u001b[1;32m    773\u001b[0m )\n\u001b[0;32m--> 774\u001b[0m \u001b[39mreturn\u001b[39;00m \u001b[39mself\u001b[39;49m\u001b[39m.\u001b[39;49m_execute_search_requests(\n\u001b[1;32m    775\u001b[0m     requests, timeout, round_decimal\u001b[39m=\u001b[39;49mround_decimal, \u001b[39m*\u001b[39;49m\u001b[39m*\u001b[39;49mkwargs\n\u001b[1;32m    776\u001b[0m )\n",
      "File \u001b[0;32m~/Documents/workspace/hello_world_project/hw_milvus/lib/python3.10/site-packages/pymilvus/client/grpc_handler.py:735\u001b[0m, in \u001b[0;36mGrpcHandler._execute_search_requests\u001b[0;34m(self, requests, timeout, **kwargs)\u001b[0m\n\u001b[1;32m    734\u001b[0m     \u001b[39mreturn\u001b[39;00m SearchFuture(\u001b[39mNone\u001b[39;00m, \u001b[39mNone\u001b[39;00m, pre_err)\n\u001b[0;32m--> 735\u001b[0m \u001b[39mraise\u001b[39;00m pre_err \u001b[39mfrom\u001b[39;00m \u001b[39mpre_err\u001b[39;00m\n",
      "File \u001b[0;32m~/Documents/workspace/hello_world_project/hw_milvus/lib/python3.10/site-packages/pymilvus/client/grpc_handler.py:726\u001b[0m, in \u001b[0;36mGrpcHandler._execute_search_requests\u001b[0;34m(self, requests, timeout, **kwargs)\u001b[0m\n\u001b[1;32m    725\u001b[0m \u001b[39mif\u001b[39;00m response\u001b[39m.\u001b[39mstatus\u001b[39m.\u001b[39merror_code \u001b[39m!=\u001b[39m \u001b[39m0\u001b[39m:\n\u001b[0;32m--> 726\u001b[0m     \u001b[39mraise\u001b[39;00m MilvusException(response\u001b[39m.\u001b[39mstatus\u001b[39m.\u001b[39merror_code, response\u001b[39m.\u001b[39mstatus\u001b[39m.\u001b[39mreason)\n\u001b[1;32m    728\u001b[0m raws\u001b[39m.\u001b[39mappend(response)\n",
      "\u001b[0;31mMilvusException\u001b[0m: <MilvusException: (code=1, message=syncTimestamp Failed:err: failed to connect 172.19.0.186:53100, reason: context deadline exceeded\n, /Users/jibin/Working/milvus-lite/milvus_binary/milvus/pkg/tracer/stack_trace.go:51 github.com/milvus-io/milvus/pkg/tracer.StackTrace\n/Users/jibin/Working/milvus-lite/milvus_binary/milvus/internal/util/grpcclient/client.go:405 github.com/milvus-io/milvus/internal/util/grpcclient.(*ClientBase[...]).ReCall\n/Users/jibin/Working/milvus-lite/milvus_binary/milvus/internal/distributed/rootcoord/client/client.go:120 github.com/milvus-io/milvus/internal/distributed/rootcoord/client.wrapGrpcCall[...]\n/Users/jibin/Working/milvus-lite/milvus_binary/milvus/internal/distributed/rootcoord/client/client.go:321 github.com/milvus-io/milvus/internal/distributed/rootcoord/client.(*Client).AllocTimestamp\n/Users/jibin/Working/milvus-lite/milvus_binary/milvus/internal/proxy/timestamp.go:61 github.com/milvus-io/milvus/internal/proxy.(*timestampAllocator).alloc\n/Users/jibin/Working/milvus-lite/milvus_binary/milvus/internal/proxy/timestamp.go:83 github.com/milvus-io/milvus/internal/proxy.(*timestampAllocator).AllocOne\n/Users/jibin/Working/milvus-lite/milvus_binary/milvus/internal/proxy/task_scheduler.go:170 github.com/milvus-io/milvus/internal/proxy.(*baseTaskQueue).Enqueue\n/Users/jibin/Working/milvus-lite/milvus_binary/milvus/internal/proxy/impl.go:2667 github.com/milvus-io/milvus/internal/proxy.(*Proxy).Search\n/Users/jibin/Working/milvus-lite/milvus_binary/milvus/internal/distributed/proxy/service.go:830 github.com/milvus-io/milvus/internal/distributed/proxy.(*Server).Search\n/Users/jibin/go/pkg/mod/github.com/milvus-io/milvus-proto/go-api/v2@v2.3.0/milvuspb/milvus.pb.go:11836 github.com/milvus-io/milvus-proto/go-api/v2/milvuspb._MilvusService_Search_Handler.func1\n)>",
      "\nThe above exception was the direct cause of the following exception:\n",
      "\u001b[0;31mMilvusException\u001b[0m                           Traceback (most recent call last)",
      "    \u001b[0;31m[... skipping hidden 1 frame]\u001b[0m\n",
      "\u001b[1;32m/Users/yujiantang/Documents/workspace/hello_world_project/langchain/notion_self_query.ipynb Cell 13\u001b[0m line \u001b[0;36m1\n\u001b[0;32m----> <a href='vscode-notebook-cell:/Users/yujiantang/Documents/workspace/hello_world_project/langchain/notion_self_query.ipynb#X14sZmlsZQ%3D%3D?line=0'>1</a>\u001b[0m retriever\u001b[39m.\u001b[39;49mget_relevant_documents(\u001b[39m\"\u001b[39;49m\u001b[39mWhat makes a distinguished engineer?\u001b[39;49m\u001b[39m\"\u001b[39;49m)\n",
      "File \u001b[0;32m~/Documents/workspace/hello_world_project/hw_milvus/lib/python3.10/site-packages/langchain/schema/retriever.py:208\u001b[0m, in \u001b[0;36mBaseRetriever.get_relevant_documents\u001b[0;34m(self, query, callbacks, tags, metadata, **kwargs)\u001b[0m\n\u001b[1;32m    207\u001b[0m     run_manager\u001b[39m.\u001b[39mon_retriever_error(e)\n\u001b[0;32m--> 208\u001b[0m     \u001b[39mraise\u001b[39;00m e\n\u001b[1;32m    209\u001b[0m \u001b[39melse\u001b[39;00m:\n",
      "File \u001b[0;32m~/Documents/workspace/hello_world_project/hw_milvus/lib/python3.10/site-packages/langchain/schema/retriever.py:201\u001b[0m, in \u001b[0;36mBaseRetriever.get_relevant_documents\u001b[0;34m(self, query, callbacks, tags, metadata, **kwargs)\u001b[0m\n\u001b[1;32m    200\u001b[0m \u001b[39mif\u001b[39;00m \u001b[39mself\u001b[39m\u001b[39m.\u001b[39m_new_arg_supported:\n\u001b[0;32m--> 201\u001b[0m     result \u001b[39m=\u001b[39m \u001b[39mself\u001b[39;49m\u001b[39m.\u001b[39;49m_get_relevant_documents(\n\u001b[1;32m    202\u001b[0m         query, run_manager\u001b[39m=\u001b[39;49mrun_manager, \u001b[39m*\u001b[39;49m\u001b[39m*\u001b[39;49m_kwargs\n\u001b[1;32m    203\u001b[0m     )\n\u001b[1;32m    204\u001b[0m \u001b[39melse\u001b[39;00m:\n",
      "File \u001b[0;32m~/Documents/workspace/hello_world_project/hw_milvus/lib/python3.10/site-packages/langchain/retrievers/self_query/base.py:135\u001b[0m, in \u001b[0;36mSelfQueryRetriever._get_relevant_documents\u001b[0;34m(self, query, run_manager)\u001b[0m\n\u001b[1;32m    134\u001b[0m search_kwargs \u001b[39m=\u001b[39m {\u001b[39m*\u001b[39m\u001b[39m*\u001b[39m\u001b[39mself\u001b[39m\u001b[39m.\u001b[39msearch_kwargs, \u001b[39m*\u001b[39m\u001b[39m*\u001b[39mnew_kwargs}\n\u001b[0;32m--> 135\u001b[0m docs \u001b[39m=\u001b[39m \u001b[39mself\u001b[39;49m\u001b[39m.\u001b[39;49mvectorstore\u001b[39m.\u001b[39;49msearch(new_query, \u001b[39mself\u001b[39;49m\u001b[39m.\u001b[39;49msearch_type, \u001b[39m*\u001b[39;49m\u001b[39m*\u001b[39;49msearch_kwargs)\n\u001b[1;32m    136\u001b[0m \u001b[39mreturn\u001b[39;00m docs\n",
      "File \u001b[0;32m~/Documents/workspace/hello_world_project/hw_milvus/lib/python3.10/site-packages/langchain/vectorstores/base.py:121\u001b[0m, in \u001b[0;36mVectorStore.search\u001b[0;34m(self, query, search_type, **kwargs)\u001b[0m\n\u001b[1;32m    120\u001b[0m \u001b[39mif\u001b[39;00m search_type \u001b[39m==\u001b[39m \u001b[39m\"\u001b[39m\u001b[39msimilarity\u001b[39m\u001b[39m\"\u001b[39m:\n\u001b[0;32m--> 121\u001b[0m     \u001b[39mreturn\u001b[39;00m \u001b[39mself\u001b[39;49m\u001b[39m.\u001b[39;49msimilarity_search(query, \u001b[39m*\u001b[39;49m\u001b[39m*\u001b[39;49mkwargs)\n\u001b[1;32m    122\u001b[0m \u001b[39melif\u001b[39;00m search_type \u001b[39m==\u001b[39m \u001b[39m\"\u001b[39m\u001b[39mmmr\u001b[39m\u001b[39m\"\u001b[39m:\n",
      "File \u001b[0;32m~/Documents/workspace/hello_world_project/hw_milvus/lib/python3.10/site-packages/langchain/vectorstores/milvus.py:503\u001b[0m, in \u001b[0;36mMilvus.similarity_search\u001b[0;34m(self, query, k, param, expr, timeout, **kwargs)\u001b[0m\n\u001b[1;32m    502\u001b[0m     \u001b[39mreturn\u001b[39;00m []\n\u001b[0;32m--> 503\u001b[0m res \u001b[39m=\u001b[39m \u001b[39mself\u001b[39;49m\u001b[39m.\u001b[39;49msimilarity_search_with_score(\n\u001b[1;32m    504\u001b[0m     query\u001b[39m=\u001b[39;49mquery, k\u001b[39m=\u001b[39;49mk, param\u001b[39m=\u001b[39;49mparam, expr\u001b[39m=\u001b[39;49mexpr, timeout\u001b[39m=\u001b[39;49mtimeout, \u001b[39m*\u001b[39;49m\u001b[39m*\u001b[39;49mkwargs\n\u001b[1;32m    505\u001b[0m )\n\u001b[1;32m    506\u001b[0m \u001b[39mreturn\u001b[39;00m [doc \u001b[39mfor\u001b[39;00m doc, _ \u001b[39min\u001b[39;00m res]\n",
      "File \u001b[0;32m~/Documents/workspace/hello_world_project/hw_milvus/lib/python3.10/site-packages/langchain/vectorstores/milvus.py:575\u001b[0m, in \u001b[0;36mMilvus.similarity_search_with_score\u001b[0;34m(self, query, k, param, expr, timeout, **kwargs)\u001b[0m\n\u001b[1;32m    573\u001b[0m embedding \u001b[39m=\u001b[39m \u001b[39mself\u001b[39m\u001b[39m.\u001b[39membedding_func\u001b[39m.\u001b[39membed_query(query)\n\u001b[0;32m--> 575\u001b[0m res \u001b[39m=\u001b[39m \u001b[39mself\u001b[39;49m\u001b[39m.\u001b[39;49msimilarity_search_with_score_by_vector(\n\u001b[1;32m    576\u001b[0m     embedding\u001b[39m=\u001b[39;49membedding, k\u001b[39m=\u001b[39;49mk, param\u001b[39m=\u001b[39;49mparam, expr\u001b[39m=\u001b[39;49mexpr, timeout\u001b[39m=\u001b[39;49mtimeout, \u001b[39m*\u001b[39;49m\u001b[39m*\u001b[39;49mkwargs\n\u001b[1;32m    577\u001b[0m )\n\u001b[1;32m    578\u001b[0m \u001b[39mreturn\u001b[39;00m res\n",
      "File \u001b[0;32m~/Documents/workspace/hello_world_project/hw_milvus/lib/python3.10/site-packages/langchain/vectorstores/milvus.py:620\u001b[0m, in \u001b[0;36mMilvus.similarity_search_with_score_by_vector\u001b[0;34m(self, embedding, k, param, expr, timeout, **kwargs)\u001b[0m\n\u001b[1;32m    619\u001b[0m \u001b[39m# Perform the search.\u001b[39;00m\n\u001b[0;32m--> 620\u001b[0m res \u001b[39m=\u001b[39m \u001b[39mself\u001b[39;49m\u001b[39m.\u001b[39;49mcol\u001b[39m.\u001b[39;49msearch(\n\u001b[1;32m    621\u001b[0m     data\u001b[39m=\u001b[39;49m[embedding],\n\u001b[1;32m    622\u001b[0m     anns_field\u001b[39m=\u001b[39;49m\u001b[39mself\u001b[39;49m\u001b[39m.\u001b[39;49m_vector_field,\n\u001b[1;32m    623\u001b[0m     param\u001b[39m=\u001b[39;49mparam,\n\u001b[1;32m    624\u001b[0m     limit\u001b[39m=\u001b[39;49mk,\n\u001b[1;32m    625\u001b[0m     expr\u001b[39m=\u001b[39;49mexpr,\n\u001b[1;32m    626\u001b[0m     output_fields\u001b[39m=\u001b[39;49moutput_fields,\n\u001b[1;32m    627\u001b[0m     timeout\u001b[39m=\u001b[39;49mtimeout,\n\u001b[1;32m    628\u001b[0m     \u001b[39m*\u001b[39;49m\u001b[39m*\u001b[39;49mkwargs,\n\u001b[1;32m    629\u001b[0m )\n\u001b[1;32m    630\u001b[0m \u001b[39m# Organize results.\u001b[39;00m\n",
      "File \u001b[0;32m~/Documents/workspace/hello_world_project/hw_milvus/lib/python3.10/site-packages/pymilvus/orm/collection.py:778\u001b[0m, in \u001b[0;36mCollection.search\u001b[0;34m(self, data, anns_field, param, limit, expr, partition_names, output_fields, timeout, round_decimal, **kwargs)\u001b[0m\n\u001b[1;32m    777\u001b[0m conn \u001b[39m=\u001b[39m \u001b[39mself\u001b[39m\u001b[39m.\u001b[39m_get_connection()\n\u001b[0;32m--> 778\u001b[0m res \u001b[39m=\u001b[39m conn\u001b[39m.\u001b[39;49msearch(\n\u001b[1;32m    779\u001b[0m     \u001b[39mself\u001b[39;49m\u001b[39m.\u001b[39;49m_name,\n\u001b[1;32m    780\u001b[0m     data,\n\u001b[1;32m    781\u001b[0m     anns_field,\n\u001b[1;32m    782\u001b[0m     param,\n\u001b[1;32m    783\u001b[0m     limit,\n\u001b[1;32m    784\u001b[0m     expr,\n\u001b[1;32m    785\u001b[0m     partition_names,\n\u001b[1;32m    786\u001b[0m     output_fields,\n\u001b[1;32m    787\u001b[0m     round_decimal,\n\u001b[1;32m    788\u001b[0m     timeout\u001b[39m=\u001b[39;49mtimeout,\n\u001b[1;32m    789\u001b[0m     schema\u001b[39m=\u001b[39;49m\u001b[39mself\u001b[39;49m\u001b[39m.\u001b[39;49m_schema_dict,\n\u001b[1;32m    790\u001b[0m     \u001b[39m*\u001b[39;49m\u001b[39m*\u001b[39;49mkwargs,\n\u001b[1;32m    791\u001b[0m )\n\u001b[1;32m    792\u001b[0m \u001b[39mif\u001b[39;00m kwargs\u001b[39m.\u001b[39mget(\u001b[39m\"\u001b[39m\u001b[39m_async\u001b[39m\u001b[39m\"\u001b[39m, \u001b[39mFalse\u001b[39;00m):\n",
      "File \u001b[0;32m~/Documents/workspace/hello_world_project/hw_milvus/lib/python3.10/site-packages/pymilvus/decorators.py:127\u001b[0m, in \u001b[0;36merror_handler.<locals>.wrapper.<locals>.handler\u001b[0;34m(*args, **kwargs)\u001b[0m\n\u001b[1;32m    126\u001b[0m     LOGGER\u001b[39m.\u001b[39merror(\u001b[39mf\u001b[39m\u001b[39m\"\u001b[39m\u001b[39mRPC error: [\u001b[39m\u001b[39m{\u001b[39;00minner_name\u001b[39m}\u001b[39;00m\u001b[39m], \u001b[39m\u001b[39m{\u001b[39;00me\u001b[39m}\u001b[39;00m\u001b[39m, <Time:\u001b[39m\u001b[39m{\u001b[39;00mrecord_dict\u001b[39m}\u001b[39;00m\u001b[39m>\u001b[39m\u001b[39m\"\u001b[39m)\n\u001b[0;32m--> 127\u001b[0m     \u001b[39mraise\u001b[39;00m e \u001b[39mfrom\u001b[39;00m \u001b[39me\u001b[39;00m\n\u001b[1;32m    128\u001b[0m \u001b[39mexcept\u001b[39;00m grpc\u001b[39m.\u001b[39mFutureTimeoutError \u001b[39mas\u001b[39;00m e:\n",
      "File \u001b[0;32m~/Documents/workspace/hello_world_project/hw_milvus/lib/python3.10/site-packages/pymilvus/decorators.py:123\u001b[0m, in \u001b[0;36merror_handler.<locals>.wrapper.<locals>.handler\u001b[0;34m(*args, **kwargs)\u001b[0m\n\u001b[1;32m    122\u001b[0m     record_dict[\u001b[39m\"\u001b[39m\u001b[39mRPC start\u001b[39m\u001b[39m\"\u001b[39m] \u001b[39m=\u001b[39m \u001b[39mstr\u001b[39m(datetime\u001b[39m.\u001b[39mdatetime\u001b[39m.\u001b[39mnow())\n\u001b[0;32m--> 123\u001b[0m     \u001b[39mreturn\u001b[39;00m func(\u001b[39m*\u001b[39;49margs, \u001b[39m*\u001b[39;49m\u001b[39m*\u001b[39;49mkwargs)\n\u001b[1;32m    124\u001b[0m \u001b[39mexcept\u001b[39;00m MilvusException \u001b[39mas\u001b[39;00m e:\n",
      "File \u001b[0;32m~/Documents/workspace/hello_world_project/hw_milvus/lib/python3.10/site-packages/pymilvus/decorators.py:162\u001b[0m, in \u001b[0;36mtracing_request.<locals>.wrapper.<locals>.handler\u001b[0;34m(self, *args, **kwargs)\u001b[0m\n\u001b[1;32m    161\u001b[0m     \u001b[39mself\u001b[39m\u001b[39m.\u001b[39mset_onetime_request_id(req_id)\n\u001b[0;32m--> 162\u001b[0m \u001b[39mreturn\u001b[39;00m func(\u001b[39mself\u001b[39;49m, \u001b[39m*\u001b[39;49margs, \u001b[39m*\u001b[39;49m\u001b[39m*\u001b[39;49mkwargs)\n",
      "File \u001b[0;32m~/Documents/workspace/hello_world_project/hw_milvus/lib/python3.10/site-packages/pymilvus/decorators.py:102\u001b[0m, in \u001b[0;36mretry_on_rpc_failure.<locals>.wrapper.<locals>.handler\u001b[0;34m(*args, **kwargs)\u001b[0m\n\u001b[1;32m    101\u001b[0m     \u001b[39melse\u001b[39;00m:\n\u001b[0;32m--> 102\u001b[0m         \u001b[39mraise\u001b[39;00m e \u001b[39mfrom\u001b[39;00m \u001b[39me\u001b[39;00m\n\u001b[1;32m    103\u001b[0m \u001b[39mexcept\u001b[39;00m \u001b[39mException\u001b[39;00m \u001b[39mas\u001b[39;00m e:\n",
      "File \u001b[0;32m~/Documents/workspace/hello_world_project/hw_milvus/lib/python3.10/site-packages/pymilvus/decorators.py:68\u001b[0m, in \u001b[0;36mretry_on_rpc_failure.<locals>.wrapper.<locals>.handler\u001b[0;34m(*args, **kwargs)\u001b[0m\n\u001b[1;32m     67\u001b[0m \u001b[39mtry\u001b[39;00m:\n\u001b[0;32m---> 68\u001b[0m     \u001b[39mreturn\u001b[39;00m func(\u001b[39m*\u001b[39;49margs, \u001b[39m*\u001b[39;49m\u001b[39m*\u001b[39;49mkwargs)\n\u001b[1;32m     69\u001b[0m \u001b[39mexcept\u001b[39;00m grpc\u001b[39m.\u001b[39mRpcError \u001b[39mas\u001b[39;00m e:\n\u001b[1;32m     70\u001b[0m     \u001b[39m# Reference: https://grpc.github.io/grpc/python/grpc.html#grpc-status-code\u001b[39;00m\n",
      "File \u001b[0;32m~/Documents/workspace/hello_world_project/hw_milvus/lib/python3.10/site-packages/pymilvus/client/grpc_handler.py:774\u001b[0m, in \u001b[0;36mGrpcHandler.search\u001b[0;34m(self, collection_name, data, anns_field, param, limit, expression, partition_names, output_fields, round_decimal, timeout, **kwargs)\u001b[0m\n\u001b[1;32m    762\u001b[0m requests \u001b[39m=\u001b[39m Prepare\u001b[39m.\u001b[39msearch_requests_with_expr(\n\u001b[1;32m    763\u001b[0m     collection_name,\n\u001b[1;32m    764\u001b[0m     data,\n\u001b[0;32m   (...)\u001b[0m\n\u001b[1;32m    772\u001b[0m     \u001b[39m*\u001b[39m\u001b[39m*\u001b[39mkwargs,\n\u001b[1;32m    773\u001b[0m )\n\u001b[0;32m--> 774\u001b[0m \u001b[39mreturn\u001b[39;00m \u001b[39mself\u001b[39;49m\u001b[39m.\u001b[39;49m_execute_search_requests(\n\u001b[1;32m    775\u001b[0m     requests, timeout, round_decimal\u001b[39m=\u001b[39;49mround_decimal, \u001b[39m*\u001b[39;49m\u001b[39m*\u001b[39;49mkwargs\n\u001b[1;32m    776\u001b[0m )\n",
      "File \u001b[0;32m~/Documents/workspace/hello_world_project/hw_milvus/lib/python3.10/site-packages/pymilvus/client/grpc_handler.py:735\u001b[0m, in \u001b[0;36mGrpcHandler._execute_search_requests\u001b[0;34m(self, requests, timeout, **kwargs)\u001b[0m\n\u001b[1;32m    734\u001b[0m     \u001b[39mreturn\u001b[39;00m SearchFuture(\u001b[39mNone\u001b[39;00m, \u001b[39mNone\u001b[39;00m, pre_err)\n\u001b[0;32m--> 735\u001b[0m \u001b[39mraise\u001b[39;00m pre_err \u001b[39mfrom\u001b[39;00m \u001b[39mpre_err\u001b[39;00m\n",
      "File \u001b[0;32m~/Documents/workspace/hello_world_project/hw_milvus/lib/python3.10/site-packages/pymilvus/client/grpc_handler.py:726\u001b[0m, in \u001b[0;36mGrpcHandler._execute_search_requests\u001b[0;34m(self, requests, timeout, **kwargs)\u001b[0m\n\u001b[1;32m    725\u001b[0m \u001b[39mif\u001b[39;00m response\u001b[39m.\u001b[39mstatus\u001b[39m.\u001b[39merror_code \u001b[39m!=\u001b[39m \u001b[39m0\u001b[39m:\n\u001b[0;32m--> 726\u001b[0m     \u001b[39mraise\u001b[39;00m MilvusException(response\u001b[39m.\u001b[39mstatus\u001b[39m.\u001b[39merror_code, response\u001b[39m.\u001b[39mstatus\u001b[39m.\u001b[39mreason)\n\u001b[1;32m    728\u001b[0m raws\u001b[39m.\u001b[39mappend(response)\n",
      "\u001b[0;31mMilvusException\u001b[0m: <MilvusException: (code=1, message=syncTimestamp Failed:err: failed to connect 172.19.0.186:53100, reason: context deadline exceeded\n, /Users/jibin/Working/milvus-lite/milvus_binary/milvus/pkg/tracer/stack_trace.go:51 github.com/milvus-io/milvus/pkg/tracer.StackTrace\n/Users/jibin/Working/milvus-lite/milvus_binary/milvus/internal/util/grpcclient/client.go:405 github.com/milvus-io/milvus/internal/util/grpcclient.(*ClientBase[...]).ReCall\n/Users/jibin/Working/milvus-lite/milvus_binary/milvus/internal/distributed/rootcoord/client/client.go:120 github.com/milvus-io/milvus/internal/distributed/rootcoord/client.wrapGrpcCall[...]\n/Users/jibin/Working/milvus-lite/milvus_binary/milvus/internal/distributed/rootcoord/client/client.go:321 github.com/milvus-io/milvus/internal/distributed/rootcoord/client.(*Client).AllocTimestamp\n/Users/jibin/Working/milvus-lite/milvus_binary/milvus/internal/proxy/timestamp.go:61 github.com/milvus-io/milvus/internal/proxy.(*timestampAllocator).alloc\n/Users/jibin/Working/milvus-lite/milvus_binary/milvus/internal/proxy/timestamp.go:83 github.com/milvus-io/milvus/internal/proxy.(*timestampAllocator).AllocOne\n/Users/jibin/Working/milvus-lite/milvus_binary/milvus/internal/proxy/task_scheduler.go:170 github.com/milvus-io/milvus/internal/proxy.(*baseTaskQueue).Enqueue\n/Users/jibin/Working/milvus-lite/milvus_binary/milvus/internal/proxy/impl.go:2667 github.com/milvus-io/milvus/internal/proxy.(*Proxy).Search\n/Users/jibin/Working/milvus-lite/milvus_binary/milvus/internal/distributed/proxy/service.go:830 github.com/milvus-io/milvus/internal/distributed/proxy.(*Server).Search\n/Users/jibin/go/pkg/mod/github.com/milvus-io/milvus-proto/go-api/v2@v2.3.0/milvuspb/milvus.pb.go:11836 github.com/milvus-io/milvus-proto/go-api/v2/milvuspb._MilvusService_Search_Handler.func1\n)>",
      "\nThe above exception was the direct cause of the following exception:\n",
      "\u001b[0;31mMilvusException\u001b[0m                           Traceback (most recent call last)",
      "\u001b[1;32m/Users/yujiantang/Documents/workspace/hello_world_project/langchain/notion_self_query.ipynb Cell 13\u001b[0m line \u001b[0;36m1\n\u001b[0;32m----> <a href='vscode-notebook-cell:/Users/yujiantang/Documents/workspace/hello_world_project/langchain/notion_self_query.ipynb#X14sZmlsZQ%3D%3D?line=0'>1</a>\u001b[0m retriever\u001b[39m.\u001b[39;49mget_relevant_documents(\u001b[39m\"\u001b[39;49m\u001b[39mWhat makes a distinguished engineer?\u001b[39;49m\u001b[39m\"\u001b[39;49m)\n",
      "File \u001b[0;32m~/Documents/workspace/hello_world_project/hw_milvus/lib/python3.10/site-packages/langchain/schema/retriever.py:208\u001b[0m, in \u001b[0;36mBaseRetriever.get_relevant_documents\u001b[0;34m(self, query, callbacks, tags, metadata, **kwargs)\u001b[0m\n\u001b[1;32m    206\u001b[0m \u001b[39mexcept\u001b[39;00m \u001b[39mException\u001b[39;00m \u001b[39mas\u001b[39;00m e:\n\u001b[1;32m    207\u001b[0m     run_manager\u001b[39m.\u001b[39mon_retriever_error(e)\n\u001b[0;32m--> 208\u001b[0m     \u001b[39mraise\u001b[39;00m e\n\u001b[1;32m    209\u001b[0m \u001b[39melse\u001b[39;00m:\n\u001b[1;32m    210\u001b[0m     run_manager\u001b[39m.\u001b[39mon_retriever_end(\n\u001b[1;32m    211\u001b[0m         result,\n\u001b[1;32m    212\u001b[0m         \u001b[39m*\u001b[39m\u001b[39m*\u001b[39mkwargs,\n\u001b[1;32m    213\u001b[0m     )\n",
      "File \u001b[0;32m~/Documents/workspace/hello_world_project/hw_milvus/lib/python3.10/site-packages/langchain/schema/retriever.py:201\u001b[0m, in \u001b[0;36mBaseRetriever.get_relevant_documents\u001b[0;34m(self, query, callbacks, tags, metadata, **kwargs)\u001b[0m\n\u001b[1;32m    199\u001b[0m _kwargs \u001b[39m=\u001b[39m kwargs \u001b[39mif\u001b[39;00m \u001b[39mself\u001b[39m\u001b[39m.\u001b[39m_expects_other_args \u001b[39melse\u001b[39;00m {}\n\u001b[1;32m    200\u001b[0m \u001b[39mif\u001b[39;00m \u001b[39mself\u001b[39m\u001b[39m.\u001b[39m_new_arg_supported:\n\u001b[0;32m--> 201\u001b[0m     result \u001b[39m=\u001b[39m \u001b[39mself\u001b[39;49m\u001b[39m.\u001b[39;49m_get_relevant_documents(\n\u001b[1;32m    202\u001b[0m         query, run_manager\u001b[39m=\u001b[39;49mrun_manager, \u001b[39m*\u001b[39;49m\u001b[39m*\u001b[39;49m_kwargs\n\u001b[1;32m    203\u001b[0m     )\n\u001b[1;32m    204\u001b[0m \u001b[39melse\u001b[39;00m:\n\u001b[1;32m    205\u001b[0m     result \u001b[39m=\u001b[39m \u001b[39mself\u001b[39m\u001b[39m.\u001b[39m_get_relevant_documents(query, \u001b[39m*\u001b[39m\u001b[39m*\u001b[39m_kwargs)\n",
      "File \u001b[0;32m~/Documents/workspace/hello_world_project/hw_milvus/lib/python3.10/site-packages/langchain/retrievers/self_query/base.py:135\u001b[0m, in \u001b[0;36mSelfQueryRetriever._get_relevant_documents\u001b[0;34m(self, query, run_manager)\u001b[0m\n\u001b[1;32m    132\u001b[0m     new_query \u001b[39m=\u001b[39m query\n\u001b[1;32m    134\u001b[0m search_kwargs \u001b[39m=\u001b[39m {\u001b[39m*\u001b[39m\u001b[39m*\u001b[39m\u001b[39mself\u001b[39m\u001b[39m.\u001b[39msearch_kwargs, \u001b[39m*\u001b[39m\u001b[39m*\u001b[39mnew_kwargs}\n\u001b[0;32m--> 135\u001b[0m docs \u001b[39m=\u001b[39m \u001b[39mself\u001b[39;49m\u001b[39m.\u001b[39;49mvectorstore\u001b[39m.\u001b[39;49msearch(new_query, \u001b[39mself\u001b[39;49m\u001b[39m.\u001b[39;49msearch_type, \u001b[39m*\u001b[39;49m\u001b[39m*\u001b[39;49msearch_kwargs)\n\u001b[1;32m    136\u001b[0m \u001b[39mreturn\u001b[39;00m docs\n",
      "File \u001b[0;32m~/Documents/workspace/hello_world_project/hw_milvus/lib/python3.10/site-packages/langchain/vectorstores/base.py:121\u001b[0m, in \u001b[0;36mVectorStore.search\u001b[0;34m(self, query, search_type, **kwargs)\u001b[0m\n\u001b[1;32m    119\u001b[0m \u001b[39m\u001b[39m\u001b[39m\"\"\"Return docs most similar to query using specified search type.\"\"\"\u001b[39;00m\n\u001b[1;32m    120\u001b[0m \u001b[39mif\u001b[39;00m search_type \u001b[39m==\u001b[39m \u001b[39m\"\u001b[39m\u001b[39msimilarity\u001b[39m\u001b[39m\"\u001b[39m:\n\u001b[0;32m--> 121\u001b[0m     \u001b[39mreturn\u001b[39;00m \u001b[39mself\u001b[39;49m\u001b[39m.\u001b[39;49msimilarity_search(query, \u001b[39m*\u001b[39;49m\u001b[39m*\u001b[39;49mkwargs)\n\u001b[1;32m    122\u001b[0m \u001b[39melif\u001b[39;00m search_type \u001b[39m==\u001b[39m \u001b[39m\"\u001b[39m\u001b[39mmmr\u001b[39m\u001b[39m\"\u001b[39m:\n\u001b[1;32m    123\u001b[0m     \u001b[39mreturn\u001b[39;00m \u001b[39mself\u001b[39m\u001b[39m.\u001b[39mmax_marginal_relevance_search(query, \u001b[39m*\u001b[39m\u001b[39m*\u001b[39mkwargs)\n",
      "File \u001b[0;32m~/Documents/workspace/hello_world_project/hw_milvus/lib/python3.10/site-packages/langchain/vectorstores/milvus.py:503\u001b[0m, in \u001b[0;36mMilvus.similarity_search\u001b[0;34m(self, query, k, param, expr, timeout, **kwargs)\u001b[0m\n\u001b[1;32m    501\u001b[0m     logger\u001b[39m.\u001b[39mdebug(\u001b[39m\"\u001b[39m\u001b[39mNo existing collection to search.\u001b[39m\u001b[39m\"\u001b[39m)\n\u001b[1;32m    502\u001b[0m     \u001b[39mreturn\u001b[39;00m []\n\u001b[0;32m--> 503\u001b[0m res \u001b[39m=\u001b[39m \u001b[39mself\u001b[39;49m\u001b[39m.\u001b[39;49msimilarity_search_with_score(\n\u001b[1;32m    504\u001b[0m     query\u001b[39m=\u001b[39;49mquery, k\u001b[39m=\u001b[39;49mk, param\u001b[39m=\u001b[39;49mparam, expr\u001b[39m=\u001b[39;49mexpr, timeout\u001b[39m=\u001b[39;49mtimeout, \u001b[39m*\u001b[39;49m\u001b[39m*\u001b[39;49mkwargs\n\u001b[1;32m    505\u001b[0m )\n\u001b[1;32m    506\u001b[0m \u001b[39mreturn\u001b[39;00m [doc \u001b[39mfor\u001b[39;00m doc, _ \u001b[39min\u001b[39;00m res]\n",
      "File \u001b[0;32m~/Documents/workspace/hello_world_project/hw_milvus/lib/python3.10/site-packages/langchain/vectorstores/milvus.py:575\u001b[0m, in \u001b[0;36mMilvus.similarity_search_with_score\u001b[0;34m(self, query, k, param, expr, timeout, **kwargs)\u001b[0m\n\u001b[1;32m    572\u001b[0m \u001b[39m# Embed the query text.\u001b[39;00m\n\u001b[1;32m    573\u001b[0m embedding \u001b[39m=\u001b[39m \u001b[39mself\u001b[39m\u001b[39m.\u001b[39membedding_func\u001b[39m.\u001b[39membed_query(query)\n\u001b[0;32m--> 575\u001b[0m res \u001b[39m=\u001b[39m \u001b[39mself\u001b[39;49m\u001b[39m.\u001b[39;49msimilarity_search_with_score_by_vector(\n\u001b[1;32m    576\u001b[0m     embedding\u001b[39m=\u001b[39;49membedding, k\u001b[39m=\u001b[39;49mk, param\u001b[39m=\u001b[39;49mparam, expr\u001b[39m=\u001b[39;49mexpr, timeout\u001b[39m=\u001b[39;49mtimeout, \u001b[39m*\u001b[39;49m\u001b[39m*\u001b[39;49mkwargs\n\u001b[1;32m    577\u001b[0m )\n\u001b[1;32m    578\u001b[0m \u001b[39mreturn\u001b[39;00m res\n",
      "File \u001b[0;32m~/Documents/workspace/hello_world_project/hw_milvus/lib/python3.10/site-packages/langchain/vectorstores/milvus.py:620\u001b[0m, in \u001b[0;36mMilvus.similarity_search_with_score_by_vector\u001b[0;34m(self, embedding, k, param, expr, timeout, **kwargs)\u001b[0m\n\u001b[1;32m    617\u001b[0m output_fields\u001b[39m.\u001b[39mremove(\u001b[39mself\u001b[39m\u001b[39m.\u001b[39m_vector_field)\n\u001b[1;32m    619\u001b[0m \u001b[39m# Perform the search.\u001b[39;00m\n\u001b[0;32m--> 620\u001b[0m res \u001b[39m=\u001b[39m \u001b[39mself\u001b[39;49m\u001b[39m.\u001b[39;49mcol\u001b[39m.\u001b[39;49msearch(\n\u001b[1;32m    621\u001b[0m     data\u001b[39m=\u001b[39;49m[embedding],\n\u001b[1;32m    622\u001b[0m     anns_field\u001b[39m=\u001b[39;49m\u001b[39mself\u001b[39;49m\u001b[39m.\u001b[39;49m_vector_field,\n\u001b[1;32m    623\u001b[0m     param\u001b[39m=\u001b[39;49mparam,\n\u001b[1;32m    624\u001b[0m     limit\u001b[39m=\u001b[39;49mk,\n\u001b[1;32m    625\u001b[0m     expr\u001b[39m=\u001b[39;49mexpr,\n\u001b[1;32m    626\u001b[0m     output_fields\u001b[39m=\u001b[39;49moutput_fields,\n\u001b[1;32m    627\u001b[0m     timeout\u001b[39m=\u001b[39;49mtimeout,\n\u001b[1;32m    628\u001b[0m     \u001b[39m*\u001b[39;49m\u001b[39m*\u001b[39;49mkwargs,\n\u001b[1;32m    629\u001b[0m )\n\u001b[1;32m    630\u001b[0m \u001b[39m# Organize results.\u001b[39;00m\n\u001b[1;32m    631\u001b[0m ret \u001b[39m=\u001b[39m []\n",
      "File \u001b[0;32m~/Documents/workspace/hello_world_project/hw_milvus/lib/python3.10/site-packages/pymilvus/orm/collection.py:778\u001b[0m, in \u001b[0;36mCollection.search\u001b[0;34m(self, data, anns_field, param, limit, expr, partition_names, output_fields, timeout, round_decimal, **kwargs)\u001b[0m\n\u001b[1;32m    775\u001b[0m     \u001b[39mraise\u001b[39;00m DataTypeNotMatchException(message\u001b[39m=\u001b[39mExceptionsMessage\u001b[39m.\u001b[39mExprType \u001b[39m%\u001b[39m \u001b[39mtype\u001b[39m(expr))\n\u001b[1;32m    777\u001b[0m conn \u001b[39m=\u001b[39m \u001b[39mself\u001b[39m\u001b[39m.\u001b[39m_get_connection()\n\u001b[0;32m--> 778\u001b[0m res \u001b[39m=\u001b[39m conn\u001b[39m.\u001b[39;49msearch(\n\u001b[1;32m    779\u001b[0m     \u001b[39mself\u001b[39;49m\u001b[39m.\u001b[39;49m_name,\n\u001b[1;32m    780\u001b[0m     data,\n\u001b[1;32m    781\u001b[0m     anns_field,\n\u001b[1;32m    782\u001b[0m     param,\n\u001b[1;32m    783\u001b[0m     limit,\n\u001b[1;32m    784\u001b[0m     expr,\n\u001b[1;32m    785\u001b[0m     partition_names,\n\u001b[1;32m    786\u001b[0m     output_fields,\n\u001b[1;32m    787\u001b[0m     round_decimal,\n\u001b[1;32m    788\u001b[0m     timeout\u001b[39m=\u001b[39;49mtimeout,\n\u001b[1;32m    789\u001b[0m     schema\u001b[39m=\u001b[39;49m\u001b[39mself\u001b[39;49m\u001b[39m.\u001b[39;49m_schema_dict,\n\u001b[1;32m    790\u001b[0m     \u001b[39m*\u001b[39;49m\u001b[39m*\u001b[39;49mkwargs,\n\u001b[1;32m    791\u001b[0m )\n\u001b[1;32m    792\u001b[0m \u001b[39mif\u001b[39;00m kwargs\u001b[39m.\u001b[39mget(\u001b[39m\"\u001b[39m\u001b[39m_async\u001b[39m\u001b[39m\"\u001b[39m, \u001b[39mFalse\u001b[39;00m):\n\u001b[1;32m    793\u001b[0m     \u001b[39mreturn\u001b[39;00m SearchFuture(res)\n",
      "File \u001b[0;32m~/Documents/workspace/hello_world_project/hw_milvus/lib/python3.10/site-packages/pymilvus/decorators.py:127\u001b[0m, in \u001b[0;36merror_handler.<locals>.wrapper.<locals>.handler\u001b[0;34m(*args, **kwargs)\u001b[0m\n\u001b[1;32m    125\u001b[0m     record_dict[\u001b[39m\"\u001b[39m\u001b[39mRPC error\u001b[39m\u001b[39m\"\u001b[39m] \u001b[39m=\u001b[39m \u001b[39mstr\u001b[39m(datetime\u001b[39m.\u001b[39mdatetime\u001b[39m.\u001b[39mnow())\n\u001b[1;32m    126\u001b[0m     LOGGER\u001b[39m.\u001b[39merror(\u001b[39mf\u001b[39m\u001b[39m\"\u001b[39m\u001b[39mRPC error: [\u001b[39m\u001b[39m{\u001b[39;00minner_name\u001b[39m}\u001b[39;00m\u001b[39m], \u001b[39m\u001b[39m{\u001b[39;00me\u001b[39m}\u001b[39;00m\u001b[39m, <Time:\u001b[39m\u001b[39m{\u001b[39;00mrecord_dict\u001b[39m}\u001b[39;00m\u001b[39m>\u001b[39m\u001b[39m\"\u001b[39m)\n\u001b[0;32m--> 127\u001b[0m     \u001b[39mraise\u001b[39;00m e \u001b[39mfrom\u001b[39;00m \u001b[39me\u001b[39;00m\n\u001b[1;32m    128\u001b[0m \u001b[39mexcept\u001b[39;00m grpc\u001b[39m.\u001b[39mFutureTimeoutError \u001b[39mas\u001b[39;00m e:\n\u001b[1;32m    129\u001b[0m     record_dict[\u001b[39m\"\u001b[39m\u001b[39mgRPC timeout\u001b[39m\u001b[39m\"\u001b[39m] \u001b[39m=\u001b[39m \u001b[39mstr\u001b[39m(datetime\u001b[39m.\u001b[39mdatetime\u001b[39m.\u001b[39mnow())\n",
      "File \u001b[0;32m~/Documents/workspace/hello_world_project/hw_milvus/lib/python3.10/site-packages/pymilvus/decorators.py:123\u001b[0m, in \u001b[0;36merror_handler.<locals>.wrapper.<locals>.handler\u001b[0;34m(*args, **kwargs)\u001b[0m\n\u001b[1;32m    121\u001b[0m \u001b[39mtry\u001b[39;00m:\n\u001b[1;32m    122\u001b[0m     record_dict[\u001b[39m\"\u001b[39m\u001b[39mRPC start\u001b[39m\u001b[39m\"\u001b[39m] \u001b[39m=\u001b[39m \u001b[39mstr\u001b[39m(datetime\u001b[39m.\u001b[39mdatetime\u001b[39m.\u001b[39mnow())\n\u001b[0;32m--> 123\u001b[0m     \u001b[39mreturn\u001b[39;00m func(\u001b[39m*\u001b[39;49margs, \u001b[39m*\u001b[39;49m\u001b[39m*\u001b[39;49mkwargs)\n\u001b[1;32m    124\u001b[0m \u001b[39mexcept\u001b[39;00m MilvusException \u001b[39mas\u001b[39;00m e:\n\u001b[1;32m    125\u001b[0m     record_dict[\u001b[39m\"\u001b[39m\u001b[39mRPC error\u001b[39m\u001b[39m\"\u001b[39m] \u001b[39m=\u001b[39m \u001b[39mstr\u001b[39m(datetime\u001b[39m.\u001b[39mdatetime\u001b[39m.\u001b[39mnow())\n",
      "File \u001b[0;32m~/Documents/workspace/hello_world_project/hw_milvus/lib/python3.10/site-packages/pymilvus/decorators.py:162\u001b[0m, in \u001b[0;36mtracing_request.<locals>.wrapper.<locals>.handler\u001b[0;34m(self, *args, **kwargs)\u001b[0m\n\u001b[1;32m    160\u001b[0m \u001b[39mif\u001b[39;00m req_id:\n\u001b[1;32m    161\u001b[0m     \u001b[39mself\u001b[39m\u001b[39m.\u001b[39mset_onetime_request_id(req_id)\n\u001b[0;32m--> 162\u001b[0m \u001b[39mreturn\u001b[39;00m func(\u001b[39mself\u001b[39;49m, \u001b[39m*\u001b[39;49margs, \u001b[39m*\u001b[39;49m\u001b[39m*\u001b[39;49mkwargs)\n",
      "File \u001b[0;32m~/Documents/workspace/hello_world_project/hw_milvus/lib/python3.10/site-packages/pymilvus/decorators.py:102\u001b[0m, in \u001b[0;36mretry_on_rpc_failure.<locals>.wrapper.<locals>.handler\u001b[0;34m(*args, **kwargs)\u001b[0m\n\u001b[1;32m    100\u001b[0m         back_off \u001b[39m=\u001b[39m \u001b[39mmin\u001b[39m(back_off \u001b[39m*\u001b[39m back_off_multiplier, max_back_off)\n\u001b[1;32m    101\u001b[0m     \u001b[39melse\u001b[39;00m:\n\u001b[0;32m--> 102\u001b[0m         \u001b[39mraise\u001b[39;00m e \u001b[39mfrom\u001b[39;00m \u001b[39me\u001b[39;00m\n\u001b[1;32m    103\u001b[0m \u001b[39mexcept\u001b[39;00m \u001b[39mException\u001b[39;00m \u001b[39mas\u001b[39;00m e:\n\u001b[1;32m    104\u001b[0m     \u001b[39mraise\u001b[39;00m e \u001b[39mfrom\u001b[39;00m \u001b[39me\u001b[39;00m\n",
      "File \u001b[0;32m~/Documents/workspace/hello_world_project/hw_milvus/lib/python3.10/site-packages/pymilvus/decorators.py:68\u001b[0m, in \u001b[0;36mretry_on_rpc_failure.<locals>.wrapper.<locals>.handler\u001b[0;34m(*args, **kwargs)\u001b[0m\n\u001b[1;32m     66\u001b[0m \u001b[39mwhile\u001b[39;00m \u001b[39mTrue\u001b[39;00m:\n\u001b[1;32m     67\u001b[0m     \u001b[39mtry\u001b[39;00m:\n\u001b[0;32m---> 68\u001b[0m         \u001b[39mreturn\u001b[39;00m func(\u001b[39m*\u001b[39;49margs, \u001b[39m*\u001b[39;49m\u001b[39m*\u001b[39;49mkwargs)\n\u001b[1;32m     69\u001b[0m     \u001b[39mexcept\u001b[39;00m grpc\u001b[39m.\u001b[39mRpcError \u001b[39mas\u001b[39;00m e:\n\u001b[1;32m     70\u001b[0m         \u001b[39m# Reference: https://grpc.github.io/grpc/python/grpc.html#grpc-status-code\u001b[39;00m\n\u001b[1;32m     71\u001b[0m         \u001b[39mif\u001b[39;00m e\u001b[39m.\u001b[39mcode() \u001b[39min\u001b[39;00m (\n\u001b[1;32m     72\u001b[0m             grpc\u001b[39m.\u001b[39mStatusCode\u001b[39m.\u001b[39mDEADLINE_EXCEEDED,\n\u001b[1;32m     73\u001b[0m             grpc\u001b[39m.\u001b[39mStatusCode\u001b[39m.\u001b[39mPERMISSION_DENIED,\n\u001b[0;32m   (...)\u001b[0m\n\u001b[1;32m     77\u001b[0m             grpc\u001b[39m.\u001b[39mStatusCode\u001b[39m.\u001b[39mRESOURCE_EXHAUSTED,\n\u001b[1;32m     78\u001b[0m         ):\n",
      "File \u001b[0;32m~/Documents/workspace/hello_world_project/hw_milvus/lib/python3.10/site-packages/pymilvus/client/grpc_handler.py:774\u001b[0m, in \u001b[0;36mGrpcHandler.search\u001b[0;34m(self, collection_name, data, anns_field, param, limit, expression, partition_names, output_fields, round_decimal, timeout, **kwargs)\u001b[0m\n\u001b[1;32m    752\u001b[0m check_pass_param(\n\u001b[1;32m    753\u001b[0m     limit\u001b[39m=\u001b[39mlimit,\n\u001b[1;32m    754\u001b[0m     round_decimal\u001b[39m=\u001b[39mround_decimal,\n\u001b[0;32m   (...)\u001b[0m\n\u001b[1;32m    759\u001b[0m     guarantee_timestamp\u001b[39m=\u001b[39mkwargs\u001b[39m.\u001b[39mget(\u001b[39m\"\u001b[39m\u001b[39mguarantee_timestamp\u001b[39m\u001b[39m\"\u001b[39m, \u001b[39mNone\u001b[39;00m),\n\u001b[1;32m    760\u001b[0m )\n\u001b[1;32m    762\u001b[0m requests \u001b[39m=\u001b[39m Prepare\u001b[39m.\u001b[39msearch_requests_with_expr(\n\u001b[1;32m    763\u001b[0m     collection_name,\n\u001b[1;32m    764\u001b[0m     data,\n\u001b[0;32m   (...)\u001b[0m\n\u001b[1;32m    772\u001b[0m     \u001b[39m*\u001b[39m\u001b[39m*\u001b[39mkwargs,\n\u001b[1;32m    773\u001b[0m )\n\u001b[0;32m--> 774\u001b[0m \u001b[39mreturn\u001b[39;00m \u001b[39mself\u001b[39;49m\u001b[39m.\u001b[39;49m_execute_search_requests(\n\u001b[1;32m    775\u001b[0m     requests, timeout, round_decimal\u001b[39m=\u001b[39;49mround_decimal, \u001b[39m*\u001b[39;49m\u001b[39m*\u001b[39;49mkwargs\n\u001b[1;32m    776\u001b[0m )\n",
      "File \u001b[0;32m~/Documents/workspace/hello_world_project/hw_milvus/lib/python3.10/site-packages/pymilvus/client/grpc_handler.py:735\u001b[0m, in \u001b[0;36mGrpcHandler._execute_search_requests\u001b[0;34m(self, requests, timeout, **kwargs)\u001b[0m\n\u001b[1;32m    733\u001b[0m \u001b[39mif\u001b[39;00m kwargs\u001b[39m.\u001b[39mget(\u001b[39m\"\u001b[39m\u001b[39m_async\u001b[39m\u001b[39m\"\u001b[39m, \u001b[39mFalse\u001b[39;00m):\n\u001b[1;32m    734\u001b[0m     \u001b[39mreturn\u001b[39;00m SearchFuture(\u001b[39mNone\u001b[39;00m, \u001b[39mNone\u001b[39;00m, pre_err)\n\u001b[0;32m--> 735\u001b[0m \u001b[39mraise\u001b[39;00m pre_err \u001b[39mfrom\u001b[39;00m \u001b[39mpre_err\u001b[39;00m\n",
      "File \u001b[0;32m~/Documents/workspace/hello_world_project/hw_milvus/lib/python3.10/site-packages/pymilvus/client/grpc_handler.py:726\u001b[0m, in \u001b[0;36mGrpcHandler._execute_search_requests\u001b[0;34m(self, requests, timeout, **kwargs)\u001b[0m\n\u001b[1;32m    723\u001b[0m     response \u001b[39m=\u001b[39m \u001b[39mself\u001b[39m\u001b[39m.\u001b[39m_stub\u001b[39m.\u001b[39mSearch(request, timeout\u001b[39m=\u001b[39mtimeout)\n\u001b[1;32m    725\u001b[0m     \u001b[39mif\u001b[39;00m response\u001b[39m.\u001b[39mstatus\u001b[39m.\u001b[39merror_code \u001b[39m!=\u001b[39m \u001b[39m0\u001b[39m:\n\u001b[0;32m--> 726\u001b[0m         \u001b[39mraise\u001b[39;00m MilvusException(response\u001b[39m.\u001b[39mstatus\u001b[39m.\u001b[39merror_code, response\u001b[39m.\u001b[39mstatus\u001b[39m.\u001b[39mreason)\n\u001b[1;32m    728\u001b[0m     raws\u001b[39m.\u001b[39mappend(response)\n\u001b[1;32m    729\u001b[0m round_decimal \u001b[39m=\u001b[39m kwargs\u001b[39m.\u001b[39mget(\u001b[39m\"\u001b[39m\u001b[39mround_decimal\u001b[39m\u001b[39m\"\u001b[39m, \u001b[39m-\u001b[39m\u001b[39m1\u001b[39m)\n",
      "\u001b[0;31mMilvusException\u001b[0m: <MilvusException: (code=1, message=syncTimestamp Failed:err: failed to connect 172.19.0.186:53100, reason: context deadline exceeded\n, /Users/jibin/Working/milvus-lite/milvus_binary/milvus/pkg/tracer/stack_trace.go:51 github.com/milvus-io/milvus/pkg/tracer.StackTrace\n/Users/jibin/Working/milvus-lite/milvus_binary/milvus/internal/util/grpcclient/client.go:405 github.com/milvus-io/milvus/internal/util/grpcclient.(*ClientBase[...]).ReCall\n/Users/jibin/Working/milvus-lite/milvus_binary/milvus/internal/distributed/rootcoord/client/client.go:120 github.com/milvus-io/milvus/internal/distributed/rootcoord/client.wrapGrpcCall[...]\n/Users/jibin/Working/milvus-lite/milvus_binary/milvus/internal/distributed/rootcoord/client/client.go:321 github.com/milvus-io/milvus/internal/distributed/rootcoord/client.(*Client).AllocTimestamp\n/Users/jibin/Working/milvus-lite/milvus_binary/milvus/internal/proxy/timestamp.go:61 github.com/milvus-io/milvus/internal/proxy.(*timestampAllocator).alloc\n/Users/jibin/Working/milvus-lite/milvus_binary/milvus/internal/proxy/timestamp.go:83 github.com/milvus-io/milvus/internal/proxy.(*timestampAllocator).AllocOne\n/Users/jibin/Working/milvus-lite/milvus_binary/milvus/internal/proxy/task_scheduler.go:170 github.com/milvus-io/milvus/internal/proxy.(*baseTaskQueue).Enqueue\n/Users/jibin/Working/milvus-lite/milvus_binary/milvus/internal/proxy/impl.go:2667 github.com/milvus-io/milvus/internal/proxy.(*Proxy).Search\n/Users/jibin/Working/milvus-lite/milvus_binary/milvus/internal/distributed/proxy/service.go:830 github.com/milvus-io/milvus/internal/distributed/proxy.(*Server).Search\n/Users/jibin/go/pkg/mod/github.com/milvus-io/milvus-proto/go-api/v2@v2.3.0/milvuspb/milvus.pb.go:11836 github.com/milvus-io/milvus-proto/go-api/v2/milvuspb._MilvusService_Search_Handler.func1\n)>"
     ]
    }
   ],
   "source": [
    "retriever.get_relevant_documents(\"What makes a distinguished engineer?\")"
   ]
  },
  {
   "cell_type": "code",
   "execution_count": 1,
   "metadata": {},
   "outputs": [
    {
     "ename": "NameError",
     "evalue": "name 'default_server' is not defined",
     "output_type": "error",
     "traceback": [
      "\u001b[0;31m---------------------------------------------------------------------------\u001b[0m",
      "\u001b[0;31mNameError\u001b[0m                                 Traceback (most recent call last)",
      "Cell \u001b[0;32mIn[1], line 1\u001b[0m\n\u001b[0;32m----> 1\u001b[0m default_server\u001b[39m.\u001b[39mstop()\n",
      "\u001b[0;31mNameError\u001b[0m: name 'default_server' is not defined"
     ]
    }
   ],
   "source": [
    "default_server.stop()"
   ]
  },
  {
   "cell_type": "code",
   "execution_count": 28,
   "metadata": {},
   "outputs": [],
   "source": [
    "from pymilvus import utility, connections"
   ]
  },
  {
   "cell_type": "code",
   "execution_count": 29,
   "metadata": {},
   "outputs": [],
   "source": [
    "connections.connect(host=\"127.0.0.1\", port=default_server.listen_port)"
   ]
  },
  {
   "cell_type": "code",
   "execution_count": 36,
   "metadata": {},
   "outputs": [],
   "source": [
    "utility.drop_collection(\"NotionEngineeringDoc\")"
   ]
  },
  {
   "cell_type": "code",
   "execution_count": null,
   "metadata": {},
   "outputs": [],
   "source": []
  }
 ],
 "metadata": {
  "kernelspec": {
   "display_name": "hw_milvus",
   "language": "python",
   "name": "python3"
  },
  "language_info": {
   "codemirror_mode": {
    "name": "ipython",
    "version": 3
   },
   "file_extension": ".py",
   "mimetype": "text/x-python",
   "name": "python",
   "nbconvert_exporter": "python",
   "pygments_lexer": "ipython3",
   "version": "3.10.11"
  },
  "orig_nbformat": 4
 },
 "nbformat": 4,
 "nbformat_minor": 2
}
