{
 "cells": [
  {
   "cell_type": "markdown",
   "metadata": {
    "slideshow": {
     "slide_type": "slide"
    }
   },
   "source": [
    "## About me\n",
    "\n",
    "### Stéfan van der Walt (@stefanvdwalt)\n",
    "\n",
    "<img src=\"http://bids.berkeley.edu/sites/all/themes/bids/logo.png\" style=\"float: left; height: 100px;\"/>\n",
    "<img src=\"http://scikit-image.org/_static/img/logo.png\" style=\"float: left; height: 95px; padding-left: 2em; padding-top: 20px;\"/>\n",
    "\n",
    "<div style=\"clear: both;\"></div>\n",
    "### https://github.com/stefanv/ds_intro"
   ]
  },
  {
   "cell_type": "markdown",
   "metadata": {
    "slideshow": {
     "slide_type": "slide"
    }
   },
   "source": [
    "## What is Data Science?\n",
    "\n",
    "That's an excellent question, thank you for asking."
   ]
  },
  {
   "cell_type": "markdown",
   "metadata": {
    "slideshow": {
     "slide_type": "subslide"
    }
   },
   "source": [
    "It means a lot of things to a lot of people.  Including different things to those in:\n",
    "    \n",
    "    - Industry\n",
    "    - Statistics\n",
    "    - Engineering\n",
    "    - Computer Science\n",
    "    - \"Data Science\""
   ]
  },
  {
   "cell_type": "markdown",
   "metadata": {
    "slideshow": {
     "slide_type": "subslide"
    }
   },
   "source": [
    "Very simplistically, data science is about asking & answering questions around data, and making use of a wide variety of tools across the fields of computation, visualization and engineering to achieve that goal.  DS sources from various fields:\n",
    "\n",
    " - Principles (mathematical)\n",
    " - Methods (statistical)\n",
    " - Implementation (engineering)\n",
    " - Discipline (software engineering & CS)"
   ]
  },
  {
   "cell_type": "markdown",
   "metadata": {
    "slideshow": {
     "slide_type": "subslide"
    }
   },
   "source": [
    "- We're not going to try and answer these questions today.\n",
    "- We're also not going to try and turn you into a so-called Data Scientist in 3 hours.\n",
    "- We will try and teach you how to:\n",
    "\n",
    "  - Load & manipulate data using **Pandas**\n",
    "  - How to generate beautiful plots using **Seaborn**\n",
    "  - Do basic machine learning, i.e. how to fit & evaluate a model in **scikit-learn**"
   ]
  },
  {
   "cell_type": "markdown",
   "metadata": {
    "slideshow": {
     "slide_type": "subslide"
    }
   },
   "source": [
    "We should be saying things about:\n",
    "\n",
    " - Version control\n",
    " - Data sharing and distribution\n",
    " - Testing\n",
    " - Licensing and collaboration\n",
    " - & many other important topics...\n",
    " \n",
    "But we also won't do that today."
   ]
  },
  {
   "cell_type": "markdown",
   "metadata": {
    "slideshow": {
     "slide_type": "subslide"
    }
   },
   "source": [
    "## Who is the intended audience of this tutorial?\n",
    "\n",
    "This tutorial is intended for people who:\n",
    "\n",
    "- have programmed in Python before,\n",
    "- have worked with arrays (in some) languages,\n",
    "- are interested in learning about Pandas & scikit-learn.\n",
    "\n",
    "It is not intended to:\n",
    "\n",
    "- Explore the dark underbelly of NumPy (I have [another lecture for that](https://github.com/stefanv/teaching/tree/master/2014_assp_split_numpy)).\n",
    "- Further hone the skills of experts in machine learning (you want [this scikit-learn tutorial](https://github.com/amueller/scipy_2015_sklearn_tutorial)).\n",
    "\n",
    "\n"
   ]
  },
  {
   "cell_type": "markdown",
   "metadata": {
    "slideshow": {
     "slide_type": "slide"
    }
   },
   "source": [
    "## This tutorial is meant to be enjoyed interactively.\n",
    "\n",
    "Please ask if you have any questions along the way."
   ]
  },
  {
   "cell_type": "markdown",
   "metadata": {
    "collapsed": true,
    "slideshow": {
     "slide_type": "subslide"
    }
   },
   "source": [
    "## Using the IPython notebook"
   ]
  },
  {
   "cell_type": "markdown",
   "metadata": {},
   "source": [
    "* You can run a cell by pressing ``[shift] + [Enter]`` or by pressing the \"play\" button in the menu.\n",
    "* You can get help on a function or object by pressing ``[shift] + [tab]`` after the opening parenthesis ``function(``\n",
    "* You can also get help by executing: ``function?``"
   ]
  },
  {
   "cell_type": "markdown",
   "metadata": {
    "slideshow": {
     "slide_type": "subslide"
    }
   },
   "source": [
    "## Finding help\n",
    "\n",
    "- Docstrings\n",
    "- Tab completion, shift-tab\n",
    "- Package documentation:\n",
    "\n",
    "  + http://www.scipy-lectures.org/\n",
    "  + http://pandas.pydata.org/pandas-docs/stable/\n",
    "  + http://stanford.edu/~mwaskom/software/seaborn/\n",
    "  + http://scikit-learn.org/stable/documentation.html"
   ]
  },
  {
   "cell_type": "markdown",
   "metadata": {
    "slideshow": {
     "slide_type": "subslide"
    }
   },
   "source": [
    "## Installation\n",
    "\n",
    "Please see the [index](index.ipynb)"
   ]
  }
 ],
 "metadata": {
  "celltoolbar": "Slideshow",
  "kernelspec": {
   "display_name": "Python 3",
   "language": "python",
   "name": "python3"
  },
  "language_info": {
   "codemirror_mode": {
    "name": "ipython",
    "version": 3
   },
   "file_extension": ".py",
   "mimetype": "text/x-python",
   "name": "python",
   "nbconvert_exporter": "python",
   "pygments_lexer": "ipython3",
   "version": "3.4.3"
  }
 },
 "nbformat": 4,
 "nbformat_minor": 0
}
