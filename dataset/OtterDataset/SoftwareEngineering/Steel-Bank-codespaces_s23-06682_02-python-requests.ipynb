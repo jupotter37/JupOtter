{
 "cells": [
  {
   "cell_type": "markdown",
   "id": "4e829d7c-5e59-410e-97a7-314b9ee0379f",
   "metadata": {},
   "source": [
    "# Python and REST APIs\n",
    "\n",
    "Python can be used instead of `curl` for accessing REST APIs. The most useful library for this is [requests](https://requests.readthedocs.io/en/latest/). When combined with the `json` library in Python, we can easily write small programs, and wrap them into command-line utilities.\n",
    "\n",
    "We simply import the `requests` library, and use it to retrieve data. The OpenAlex API returns json data, and the request library makes it easy to access that in the form of a Python dictionary. Here is a short example.\n",
    "\n"
   ]
  },
  {
   "cell_type": "code",
   "execution_count": 3,
   "id": "0f1719a3-7397-44b7-9015-3666e626921c",
   "metadata": {},
   "outputs": [
    {
     "data": {
      "text/plain": [
       "{'meta': {'count': 4, 'db_response_time_ms': 25, 'page': 1, 'per_page': 25},\n",
       " 'results': [{'id': 'https://openalex.org/I74973139',\n",
       "   'ror': 'https://ror.org/05x2bcf33',\n",
       "   'display_name': 'Carnegie Mellon University',\n",
       "   'relevance_score': 298677.62,\n",
       "   'country_code': 'US',\n",
       "   'type': 'education',\n",
       "   'homepage_url': 'http://www.cmu.edu/index.shtml',\n",
       "   'image_url': 'https://upload.wikimedia.org/wikipedia/commons/1/1d/Www.wikipedia.org_screenshot_2018.png',\n",
       "   'image_thumbnail_url': 'https://upload.wikimedia.org/wikipedia/commons/thumb/1/1d/Www.wikipedia.org_screenshot_2018.png/76px-Www.wikipedia.org_screenshot_2018.png',\n",
       "   'display_name_acronyms': ['CMU'],\n",
       "   'display_name_alternatives': [],\n",
       "   'works_count': 107978,\n",
       "   'cited_by_count': 9708044,\n",
       "   'ids': {'openalex': 'https://openalex.org/I74973139',\n",
       "    'ror': 'https://ror.org/05x2bcf33',\n",
       "    'mag': '74973139',\n",
       "    'grid': 'grid.147455.6',\n",
       "    'wikipedia': 'https://en.wikipedia.org/wiki/Web%20server%20directory%20index',\n",
       "    'wikidata': 'https://www.wikidata.org/wiki/Q2712836'},\n",
       "   'geo': {'city': 'Pittsburgh',\n",
       "    'geonames_city_id': '5206379',\n",
       "    'region': 'Pennsylvania',\n",
       "    'country_code': 'US',\n",
       "    'country': 'United States',\n",
       "    'latitude': 40.44332,\n",
       "    'longitude': -79.94358},\n",
       "   'international': {'display_name': {'ar': 'فهرس دليل خادم الويب',\n",
       "     'cs': 'Index',\n",
       "     'de': 'Webserver Verzeichnis Index',\n",
       "     'el': 'Ευρετήριο καταλόγου εξυπηρετητή ιστού',\n",
       "     'en': 'webserver directory index',\n",
       "     'en-ca': 'Web server directory index',\n",
       "     'en-gb': 'Web server directory index',\n",
       "     'es': 'Índice de un servidor web',\n",
       "     'fi': 'Index.html',\n",
       "     'fr': 'index de répertoire de serveur Web',\n",
       "     'it': 'index',\n",
       "     'lv': 'Web servera direktoriju indekss',\n",
       "     'pl': 'Index',\n",
       "     'pt': 'Index.html',\n",
       "     'pt-br': 'Index.html',\n",
       "     'ru': 'Index.htm',\n",
       "     'tr': 'Web sunucusu dizin indeksi',\n",
       "     'uk': 'Індекс директорії веб-сервера',\n",
       "     'zh': '網頁伺服器目錄索引',\n",
       "     'zh-cn': '网页服务器目录索引',\n",
       "     'zh-hans': '网页服务器目录索引',\n",
       "     'zh-hant': '網頁服務器目錄索引'}},\n",
       "   'associated_institutions': [{'id': 'https://openalex.org/I4210130200',\n",
       "     'ror': 'https://ror.org/02f33m021',\n",
       "     'display_name': 'Carnegie Mellon University Africa',\n",
       "     'country_code': 'RW',\n",
       "     'type': 'education',\n",
       "     'relationship': 'child'},\n",
       "    {'id': 'https://openalex.org/I4210091826',\n",
       "     'ror': 'https://ror.org/00ds41r10',\n",
       "     'display_name': 'Carnegie Mellon University Australia',\n",
       "     'country_code': 'AU',\n",
       "     'type': 'education',\n",
       "     'relationship': 'child'},\n",
       "    {'id': 'https://openalex.org/I4210089979',\n",
       "     'ror': 'https://ror.org/00az5dt38',\n",
       "     'display_name': 'Carnegie Mellon University Qatar',\n",
       "     'country_code': 'QA',\n",
       "     'type': 'education',\n",
       "     'relationship': 'child'},\n",
       "    {'id': 'https://openalex.org/I4210086114',\n",
       "     'ror': 'https://ror.org/00jfeg660',\n",
       "     'display_name': 'Center for the Neural Basis of Cognition',\n",
       "     'country_code': 'US',\n",
       "     'type': 'facility',\n",
       "     'relationship': 'child'},\n",
       "    {'id': 'https://openalex.org/I114772536',\n",
       "     'ror': 'https://ror.org/01xqjjn94',\n",
       "     'display_name': 'Software Engineering Institute',\n",
       "     'country_code': 'US',\n",
       "     'type': 'facility',\n",
       "     'relationship': 'child'},\n",
       "    {'id': 'https://openalex.org/I4210129003',\n",
       "     'ror': 'https://ror.org/02w30ae27',\n",
       "     'display_name': 'SYSU-CMU International Joint Research Institute',\n",
       "     'country_code': 'CN',\n",
       "     'type': 'facility',\n",
       "     'relationship': 'related'},\n",
       "    {'id': 'https://openalex.org/I4210128526',\n",
       "     'ror': 'https://ror.org/03bw34a45',\n",
       "     'display_name': 'University of Pittsburgh Cancer Institute',\n",
       "     'country_code': 'US',\n",
       "     'type': 'facility',\n",
       "     'relationship': 'related'}],\n",
       "   'counts_by_year': [{'year': 2023,\n",
       "     'works_count': 447,\n",
       "     'cited_by_count': 131708},\n",
       "    {'year': 2022, 'works_count': 2907, 'cited_by_count': 594077},\n",
       "    {'year': 2021, 'works_count': 5229, 'cited_by_count': 786280},\n",
       "    {'year': 2020, 'works_count': 5296, 'cited_by_count': 741417},\n",
       "    {'year': 2019, 'works_count': 5203, 'cited_by_count': 662068},\n",
       "    {'year': 2018, 'works_count': 4912, 'cited_by_count': 588366},\n",
       "    {'year': 2017, 'works_count': 4486, 'cited_by_count': 553446},\n",
       "    {'year': 2016, 'works_count': 4287, 'cited_by_count': 553623},\n",
       "    {'year': 2015, 'works_count': 4458, 'cited_by_count': 540584},\n",
       "    {'year': 2014, 'works_count': 4227, 'cited_by_count': 504730},\n",
       "    {'year': 2013, 'works_count': 4126, 'cited_by_count': 487479},\n",
       "    {'year': 2012, 'works_count': 4060, 'cited_by_count': 445278}],\n",
       "   'x_concepts': [{'id': 'https://openalex.org/C41008148',\n",
       "     'wikidata': 'https://www.wikidata.org/wiki/Q21198',\n",
       "     'display_name': 'Computer science',\n",
       "     'level': 0,\n",
       "     'score': 73.3},\n",
       "    {'id': 'https://openalex.org/C33923547',\n",
       "     'wikidata': 'https://www.wikidata.org/wiki/Q395',\n",
       "     'display_name': 'Mathematics',\n",
       "     'level': 0,\n",
       "     'score': 49.9},\n",
       "    {'id': 'https://openalex.org/C121332964',\n",
       "     'wikidata': 'https://www.wikidata.org/wiki/Q413',\n",
       "     'display_name': 'Physics',\n",
       "     'level': 0,\n",
       "     'score': 48.8},\n",
       "    {'id': 'https://openalex.org/C127413603',\n",
       "     'wikidata': 'https://www.wikidata.org/wiki/Q11023',\n",
       "     'display_name': 'Engineering',\n",
       "     'level': 0,\n",
       "     'score': 45.3},\n",
       "    {'id': 'https://openalex.org/C86803240',\n",
       "     'wikidata': 'https://www.wikidata.org/wiki/Q420',\n",
       "     'display_name': 'Biology',\n",
       "     'level': 0,\n",
       "     'score': 36.6},\n",
       "    {'id': 'https://openalex.org/C154945302',\n",
       "     'wikidata': 'https://www.wikidata.org/wiki/Q11660',\n",
       "     'display_name': 'Artificial intelligence',\n",
       "     'level': 1,\n",
       "     'score': 36.6},\n",
       "    {'id': 'https://openalex.org/C62520636',\n",
       "     'wikidata': 'https://www.wikidata.org/wiki/Q944',\n",
       "     'display_name': 'Quantum mechanics',\n",
       "     'level': 1,\n",
       "     'score': 34.9},\n",
       "    {'id': 'https://openalex.org/C185592680',\n",
       "     'wikidata': 'https://www.wikidata.org/wiki/Q2329',\n",
       "     'display_name': 'Chemistry',\n",
       "     'level': 0,\n",
       "     'score': 27.5},\n",
       "    {'id': 'https://openalex.org/C138885662',\n",
       "     'wikidata': 'https://www.wikidata.org/wiki/Q5891',\n",
       "     'display_name': 'Philosophy',\n",
       "     'level': 0,\n",
       "     'score': 27.0},\n",
       "    {'id': 'https://openalex.org/C199360897',\n",
       "     'wikidata': 'https://www.wikidata.org/wiki/Q9143',\n",
       "     'display_name': 'Programming language',\n",
       "     'level': 1,\n",
       "     'score': 26.8},\n",
       "    {'id': 'https://openalex.org/C162324750',\n",
       "     'wikidata': 'https://www.wikidata.org/wiki/Q8134',\n",
       "     'display_name': 'Economics',\n",
       "     'level': 0,\n",
       "     'score': 26.6},\n",
       "    {'id': 'https://openalex.org/C111919701',\n",
       "     'wikidata': 'https://www.wikidata.org/wiki/Q9135',\n",
       "     'display_name': 'Operating system',\n",
       "     'level': 1,\n",
       "     'score': 25.0},\n",
       "    {'id': 'https://openalex.org/C15744967',\n",
       "     'wikidata': 'https://www.wikidata.org/wiki/Q9418',\n",
       "     'display_name': 'Psychology',\n",
       "     'level': 0,\n",
       "     'score': 23.1},\n",
       "    {'id': 'https://openalex.org/C192562407',\n",
       "     'wikidata': 'https://www.wikidata.org/wiki/Q228736',\n",
       "     'display_name': 'Materials science',\n",
       "     'level': 0,\n",
       "     'score': 21.9},\n",
       "    {'id': 'https://openalex.org/C105795698',\n",
       "     'wikidata': 'https://www.wikidata.org/wiki/Q12483',\n",
       "     'display_name': 'Statistics',\n",
       "     'level': 1,\n",
       "     'score': 20.3}],\n",
       "   'works_api_url': 'https://api.openalex.org/works?filter=institutions.id:I74973139',\n",
       "   'updated_date': '2023-03-20T15:01:06.388280',\n",
       "   'created_date': '2016-06-24'},\n",
       "  {'id': 'https://openalex.org/I4210089979',\n",
       "   'ror': 'https://ror.org/00az5dt38',\n",
       "   'display_name': 'Carnegie Mellon University Qatar',\n",
       "   'relevance_score': 9046.266,\n",
       "   'country_code': 'QA',\n",
       "   'type': 'education',\n",
       "   'homepage_url': 'http://www.qatar.cmu.edu/',\n",
       "   'image_url': 'https://upload.wikimedia.org/wikipedia/en/b/bc/Carnegiemellonqatar_building_entrance.jpg',\n",
       "   'image_thumbnail_url': 'https://upload.wikimedia.org/wikipedia/en/thumb/b/bc/Carnegiemellonqatar_building_entrance.jpg/100px-Carnegiemellonqatar_building_entrance.jpg',\n",
       "   'display_name_acronyms': ['CMU-Q'],\n",
       "   'display_name_alternatives': [],\n",
       "   'works_count': 549,\n",
       "   'cited_by_count': 11205,\n",
       "   'ids': {'openalex': 'https://openalex.org/I4210089979',\n",
       "    'ror': 'https://ror.org/00az5dt38',\n",
       "    'grid': 'grid.452171.4',\n",
       "    'wikipedia': 'https://en.wikipedia.org/wiki/Carnegie%20Mellon%20University%20in%20Qatar'},\n",
       "   'geo': {'city': 'Doha',\n",
       "    'geonames_city_id': '290030',\n",
       "    'region': None,\n",
       "    'country_code': 'QA',\n",
       "    'country': 'Qatar',\n",
       "    'latitude': 25.31639,\n",
       "    'longitude': 51.43889},\n",
       "   'international': {'display_name': {'en': 'Carnegie Mellon University Qatar'}},\n",
       "   'associated_institutions': [{'id': 'https://openalex.org/I74973139',\n",
       "     'ror': 'https://ror.org/05x2bcf33',\n",
       "     'display_name': 'Carnegie Mellon University',\n",
       "     'country_code': 'US',\n",
       "     'type': 'education',\n",
       "     'relationship': 'parent'}],\n",
       "   'counts_by_year': [{'year': 2023, 'works_count': 4, 'cited_by_count': 322},\n",
       "    {'year': 2022, 'works_count': 15, 'cited_by_count': 1461},\n",
       "    {'year': 2021, 'works_count': 41, 'cited_by_count': 1888},\n",
       "    {'year': 2020, 'works_count': 38, 'cited_by_count': 1551},\n",
       "    {'year': 2019, 'works_count': 31, 'cited_by_count': 1475},\n",
       "    {'year': 2018, 'works_count': 61, 'cited_by_count': 909},\n",
       "    {'year': 2017, 'works_count': 20, 'cited_by_count': 748},\n",
       "    {'year': 2016, 'works_count': 45, 'cited_by_count': 779},\n",
       "    {'year': 2015, 'works_count': 32, 'cited_by_count': 750},\n",
       "    {'year': 2014, 'works_count': 52, 'cited_by_count': 492},\n",
       "    {'year': 2013, 'works_count': 56, 'cited_by_count': 355},\n",
       "    {'year': 2012, 'works_count': 35, 'cited_by_count': 191}],\n",
       "   'x_concepts': [{'id': 'https://openalex.org/C41008148',\n",
       "     'wikidata': 'https://www.wikidata.org/wiki/Q21198',\n",
       "     'display_name': 'Computer science',\n",
       "     'level': 0,\n",
       "     'score': 80.0},\n",
       "    {'id': 'https://openalex.org/C33923547',\n",
       "     'wikidata': 'https://www.wikidata.org/wiki/Q395',\n",
       "     'display_name': 'Mathematics',\n",
       "     'level': 0,\n",
       "     'score': 45.5},\n",
       "    {'id': 'https://openalex.org/C127413603',\n",
       "     'wikidata': 'https://www.wikidata.org/wiki/Q11023',\n",
       "     'display_name': 'Engineering',\n",
       "     'level': 0,\n",
       "     'score': 45.4},\n",
       "    {'id': 'https://openalex.org/C138885662',\n",
       "     'wikidata': 'https://www.wikidata.org/wiki/Q5891',\n",
       "     'display_name': 'Philosophy',\n",
       "     'level': 0,\n",
       "     'score': 37.5},\n",
       "    {'id': 'https://openalex.org/C86803240',\n",
       "     'wikidata': 'https://www.wikidata.org/wiki/Q420',\n",
       "     'display_name': 'Biology',\n",
       "     'level': 0,\n",
       "     'score': 37.0},\n",
       "    {'id': 'https://openalex.org/C154945302',\n",
       "     'wikidata': 'https://www.wikidata.org/wiki/Q11660',\n",
       "     'display_name': 'Artificial intelligence',\n",
       "     'level': 1,\n",
       "     'score': 36.1},\n",
       "    {'id': 'https://openalex.org/C121332964',\n",
       "     'wikidata': 'https://www.wikidata.org/wiki/Q413',\n",
       "     'display_name': 'Physics',\n",
       "     'level': 0,\n",
       "     'score': 34.4},\n",
       "    {'id': 'https://openalex.org/C111919701',\n",
       "     'wikidata': 'https://www.wikidata.org/wiki/Q9135',\n",
       "     'display_name': 'Operating system',\n",
       "     'level': 1,\n",
       "     'score': 33.2},\n",
       "    {'id': 'https://openalex.org/C17744445',\n",
       "     'wikidata': 'https://www.wikidata.org/wiki/Q36442',\n",
       "     'display_name': 'Political science',\n",
       "     'level': 0,\n",
       "     'score': 32.2},\n",
       "    {'id': 'https://openalex.org/C199539241',\n",
       "     'wikidata': 'https://www.wikidata.org/wiki/Q7748',\n",
       "     'display_name': 'Law',\n",
       "     'level': 1,\n",
       "     'score': 30.2},\n",
       "    {'id': 'https://openalex.org/C41895202',\n",
       "     'wikidata': 'https://www.wikidata.org/wiki/Q8162',\n",
       "     'display_name': 'Linguistics',\n",
       "     'level': 1,\n",
       "     'score': 29.5},\n",
       "    {'id': 'https://openalex.org/C15744967',\n",
       "     'wikidata': 'https://www.wikidata.org/wiki/Q9418',\n",
       "     'display_name': 'Psychology',\n",
       "     'level': 0,\n",
       "     'score': 27.9},\n",
       "    {'id': 'https://openalex.org/C199360897',\n",
       "     'wikidata': 'https://www.wikidata.org/wiki/Q9143',\n",
       "     'display_name': 'Programming language',\n",
       "     'level': 1,\n",
       "     'score': 26.2},\n",
       "    {'id': 'https://openalex.org/C162324750',\n",
       "     'wikidata': 'https://www.wikidata.org/wiki/Q8134',\n",
       "     'display_name': 'Economics',\n",
       "     'level': 0,\n",
       "     'score': 25.7},\n",
       "    {'id': 'https://openalex.org/C62520636',\n",
       "     'wikidata': 'https://www.wikidata.org/wiki/Q944',\n",
       "     'display_name': 'Quantum mechanics',\n",
       "     'level': 1,\n",
       "     'score': 22.4},\n",
       "    {'id': 'https://openalex.org/C71924100',\n",
       "     'wikidata': 'https://www.wikidata.org/wiki/Q11190',\n",
       "     'display_name': 'Medicine',\n",
       "     'level': 0,\n",
       "     'score': 22.4},\n",
       "    {'id': 'https://openalex.org/C205649164',\n",
       "     'wikidata': 'https://www.wikidata.org/wiki/Q1071',\n",
       "     'display_name': 'Geography',\n",
       "     'level': 0,\n",
       "     'score': 21.1},\n",
       "    {'id': 'https://openalex.org/C144024400',\n",
       "     'wikidata': 'https://www.wikidata.org/wiki/Q21201',\n",
       "     'display_name': 'Sociology',\n",
       "     'level': 0,\n",
       "     'score': 20.6}],\n",
       "   'works_api_url': 'https://api.openalex.org/works?filter=institutions.id:I4210089979',\n",
       "   'updated_date': '2023-03-20T08:11:22.840277',\n",
       "   'created_date': '2022-02-02'},\n",
       "  {'id': 'https://openalex.org/I4210130200',\n",
       "   'ror': 'https://ror.org/02f33m021',\n",
       "   'display_name': 'Carnegie Mellon University Africa',\n",
       "   'relevance_score': 1848.7848,\n",
       "   'country_code': 'RW',\n",
       "   'type': 'education',\n",
       "   'homepage_url': 'https://www.africa.engineering.cmu.edu/',\n",
       "   'image_url': 'https://upload.wikimedia.org/wikipedia/en/b/bb/Carnegie_Mellon_University_seal.svg',\n",
       "   'image_thumbnail_url': 'https://upload.wikimedia.org/wikipedia/en/thumb/b/bb/Carnegie_Mellon_University_seal.svg/100px-Carnegie_Mellon_University_seal.svg.png',\n",
       "   'display_name_acronyms': ['CMU'],\n",
       "   'display_name_alternatives': [],\n",
       "   'works_count': 87,\n",
       "   'cited_by_count': 468,\n",
       "   'ids': {'openalex': 'https://openalex.org/I4210130200',\n",
       "    'ror': 'https://ror.org/02f33m021',\n",
       "    'grid': 'grid.508475.b',\n",
       "    'wikipedia': 'https://en.wikipedia.org/wiki/Carnegie%20Mellon%20University'},\n",
       "   'geo': {'city': 'Kigali',\n",
       "    'geonames_city_id': '202061',\n",
       "    'region': None,\n",
       "    'country_code': 'RW',\n",
       "    'country': 'Rwanda',\n",
       "    'latitude': -1.935111,\n",
       "    'longitude': 30.158602},\n",
       "   'international': {'display_name': {'en': 'Carnegie Mellon University Africa'}},\n",
       "   'associated_institutions': [{'id': 'https://openalex.org/I74973139',\n",
       "     'ror': 'https://ror.org/05x2bcf33',\n",
       "     'display_name': 'Carnegie Mellon University',\n",
       "     'country_code': 'US',\n",
       "     'type': 'education',\n",
       "     'relationship': 'parent'}],\n",
       "   'counts_by_year': [{'year': 2023, 'works_count': 5, 'cited_by_count': 45},\n",
       "    {'year': 2022, 'works_count': 11, 'cited_by_count': 134},\n",
       "    {'year': 2021, 'works_count': 22, 'cited_by_count': 130},\n",
       "    {'year': 2020, 'works_count': 10, 'cited_by_count': 68},\n",
       "    {'year': 2019, 'works_count': 9, 'cited_by_count': 44},\n",
       "    {'year': 2018, 'works_count': 14, 'cited_by_count': 26},\n",
       "    {'year': 2017, 'works_count': 5, 'cited_by_count': 17},\n",
       "    {'year': 2016, 'works_count': 1, 'cited_by_count': 5},\n",
       "    {'year': 2015, 'works_count': 1, 'cited_by_count': 4},\n",
       "    {'year': 2014, 'works_count': 5, 'cited_by_count': 7},\n",
       "    {'year': 2013, 'works_count': 4, 'cited_by_count': 1},\n",
       "    {'year': 2012, 'works_count': 2, 'cited_by_count': 1}],\n",
       "   'x_concepts': [{'id': 'https://openalex.org/C41008148',\n",
       "     'wikidata': 'https://www.wikidata.org/wiki/Q21198',\n",
       "     'display_name': 'Computer science',\n",
       "     'level': 0,\n",
       "     'score': 89.7},\n",
       "    {'id': 'https://openalex.org/C127413603',\n",
       "     'wikidata': 'https://www.wikidata.org/wiki/Q11023',\n",
       "     'display_name': 'Engineering',\n",
       "     'level': 0,\n",
       "     'score': 55.2},\n",
       "    {'id': 'https://openalex.org/C86803240',\n",
       "     'wikidata': 'https://www.wikidata.org/wiki/Q420',\n",
       "     'display_name': 'Biology',\n",
       "     'level': 0,\n",
       "     'score': 49.4},\n",
       "    {'id': 'https://openalex.org/C33923547',\n",
       "     'wikidata': 'https://www.wikidata.org/wiki/Q395',\n",
       "     'display_name': 'Mathematics',\n",
       "     'level': 0,\n",
       "     'score': 47.1},\n",
       "    {'id': 'https://openalex.org/C162324750',\n",
       "     'wikidata': 'https://www.wikidata.org/wiki/Q8134',\n",
       "     'display_name': 'Economics',\n",
       "     'level': 0,\n",
       "     'score': 44.8},\n",
       "    {'id': 'https://openalex.org/C111919701',\n",
       "     'wikidata': 'https://www.wikidata.org/wiki/Q9135',\n",
       "     'display_name': 'Operating system',\n",
       "     'level': 1,\n",
       "     'score': 42.5},\n",
       "    {'id': 'https://openalex.org/C17744445',\n",
       "     'wikidata': 'https://www.wikidata.org/wiki/Q36442',\n",
       "     'display_name': 'Political science',\n",
       "     'level': 0,\n",
       "     'score': 40.2},\n",
       "    {'id': 'https://openalex.org/C121332964',\n",
       "     'wikidata': 'https://www.wikidata.org/wiki/Q413',\n",
       "     'display_name': 'Physics',\n",
       "     'level': 0,\n",
       "     'score': 37.9},\n",
       "    {'id': 'https://openalex.org/C199539241',\n",
       "     'wikidata': 'https://www.wikidata.org/wiki/Q7748',\n",
       "     'display_name': 'Law',\n",
       "     'level': 1,\n",
       "     'score': 36.8},\n",
       "    {'id': 'https://openalex.org/C144133560',\n",
       "     'wikidata': 'https://www.wikidata.org/wiki/Q4830453',\n",
       "     'display_name': 'Business',\n",
       "     'level': 0,\n",
       "     'score': 31.0},\n",
       "    {'id': 'https://openalex.org/C138885662',\n",
       "     'wikidata': 'https://www.wikidata.org/wiki/Q5891',\n",
       "     'display_name': 'Philosophy',\n",
       "     'level': 0,\n",
       "     'score': 31.0},\n",
       "    {'id': 'https://openalex.org/C205649164',\n",
       "     'wikidata': 'https://www.wikidata.org/wiki/Q1071',\n",
       "     'display_name': 'Geography',\n",
       "     'level': 0,\n",
       "     'score': 29.9},\n",
       "    {'id': 'https://openalex.org/C62520636',\n",
       "     'wikidata': 'https://www.wikidata.org/wiki/Q944',\n",
       "     'display_name': 'Quantum mechanics',\n",
       "     'level': 1,\n",
       "     'score': 28.7},\n",
       "    {'id': 'https://openalex.org/C154945302',\n",
       "     'wikidata': 'https://www.wikidata.org/wiki/Q11660',\n",
       "     'display_name': 'Artificial intelligence',\n",
       "     'level': 1,\n",
       "     'score': 28.7},\n",
       "    {'id': 'https://openalex.org/C71924100',\n",
       "     'wikidata': 'https://www.wikidata.org/wiki/Q11190',\n",
       "     'display_name': 'Medicine',\n",
       "     'level': 0,\n",
       "     'score': 28.7},\n",
       "    {'id': 'https://openalex.org/C18903297',\n",
       "     'wikidata': 'https://www.wikidata.org/wiki/Q7150',\n",
       "     'display_name': 'Ecology',\n",
       "     'level': 1,\n",
       "     'score': 27.6},\n",
       "    {'id': 'https://openalex.org/C38652104',\n",
       "     'wikidata': 'https://www.wikidata.org/wiki/Q3510521',\n",
       "     'display_name': 'Computer security',\n",
       "     'level': 1,\n",
       "     'score': 27.6},\n",
       "    {'id': 'https://openalex.org/C105795698',\n",
       "     'wikidata': 'https://www.wikidata.org/wiki/Q12483',\n",
       "     'display_name': 'Statistics',\n",
       "     'level': 1,\n",
       "     'score': 25.3},\n",
       "    {'id': 'https://openalex.org/C15744967',\n",
       "     'wikidata': 'https://www.wikidata.org/wiki/Q9418',\n",
       "     'display_name': 'Psychology',\n",
       "     'level': 0,\n",
       "     'score': 25.3},\n",
       "    {'id': 'https://openalex.org/C76155785',\n",
       "     'wikidata': 'https://www.wikidata.org/wiki/Q418',\n",
       "     'display_name': 'Telecommunications',\n",
       "     'level': 1,\n",
       "     'score': 25.3},\n",
       "    {'id': 'https://openalex.org/C144024400',\n",
       "     'wikidata': 'https://www.wikidata.org/wiki/Q21201',\n",
       "     'display_name': 'Sociology',\n",
       "     'level': 0,\n",
       "     'score': 23.0},\n",
       "    {'id': 'https://openalex.org/C119599485',\n",
       "     'wikidata': 'https://www.wikidata.org/wiki/Q43035',\n",
       "     'display_name': 'Electrical engineering',\n",
       "     'level': 1,\n",
       "     'score': 23.0},\n",
       "    {'id': 'https://openalex.org/C199360897',\n",
       "     'wikidata': 'https://www.wikidata.org/wiki/Q9143',\n",
       "     'display_name': 'Programming language',\n",
       "     'level': 1,\n",
       "     'score': 23.0},\n",
       "    {'id': 'https://openalex.org/C31258907',\n",
       "     'wikidata': 'https://www.wikidata.org/wiki/Q1301371',\n",
       "     'display_name': 'Computer network',\n",
       "     'level': 1,\n",
       "     'score': 23.0},\n",
       "    {'id': 'https://openalex.org/C97355855',\n",
       "     'wikidata': 'https://www.wikidata.org/wiki/Q11473',\n",
       "     'display_name': 'Thermodynamics',\n",
       "     'level': 1,\n",
       "     'score': 21.8}],\n",
       "   'works_api_url': 'https://api.openalex.org/works?filter=institutions.id:I4210130200',\n",
       "   'updated_date': '2023-03-18T23:17:59.223335',\n",
       "   'created_date': '2022-02-02'},\n",
       "  {'id': 'https://openalex.org/I4210091826',\n",
       "   'ror': 'https://ror.org/00ds41r10',\n",
       "   'display_name': 'Carnegie Mellon University Australia',\n",
       "   'relevance_score': 1171.7699,\n",
       "   'country_code': 'AU',\n",
       "   'type': 'education',\n",
       "   'homepage_url': 'https://www.australia.cmu.edu/',\n",
       "   'image_url': 'https://upload.wikimedia.org/wikipedia/commons/4/41/Torrens_Building%2C_Wakefield_St%2C_Adelaide.JPG',\n",
       "   'image_thumbnail_url': 'https://upload.wikimedia.org/wikipedia/commons/thumb/4/41/Torrens_Building%2C_Wakefield_St%2C_Adelaide.JPG/100px-Torrens_Building%2C_Wakefield_St%2C_Adelaide.JPG',\n",
       "   'display_name_acronyms': ['CMU'],\n",
       "   'display_name_alternatives': [],\n",
       "   'works_count': 27,\n",
       "   'cited_by_count': 188,\n",
       "   'ids': {'openalex': 'https://openalex.org/I4210091826',\n",
       "    'ror': 'https://ror.org/00ds41r10',\n",
       "    'grid': 'grid.448660.8',\n",
       "    'wikipedia': 'https://en.wikipedia.org/wiki/Carnegie%20Mellon%20University%2C%20Australia'},\n",
       "   'geo': {'city': 'Adelaide',\n",
       "    'geonames_city_id': '2078025',\n",
       "    'region': 'South Australia',\n",
       "    'country_code': 'AU',\n",
       "    'country': 'Australia',\n",
       "    'latitude': 40.44285,\n",
       "    'longitude': -79.94308},\n",
       "   'international': {'display_name': {'en': 'Carnegie Mellon University Australia'}},\n",
       "   'associated_institutions': [{'id': 'https://openalex.org/I74973139',\n",
       "     'ror': 'https://ror.org/05x2bcf33',\n",
       "     'display_name': 'Carnegie Mellon University',\n",
       "     'country_code': 'US',\n",
       "     'type': 'education',\n",
       "     'relationship': 'parent'}],\n",
       "   'counts_by_year': [{'year': 2023, 'works_count': 0, 'cited_by_count': 2},\n",
       "    {'year': 2022, 'works_count': 1, 'cited_by_count': 9},\n",
       "    {'year': 2021, 'works_count': 1, 'cited_by_count': 11},\n",
       "    {'year': 2020, 'works_count': 0, 'cited_by_count': 9},\n",
       "    {'year': 2019, 'works_count': 10, 'cited_by_count': 3},\n",
       "    {'year': 2018, 'works_count': 2, 'cited_by_count': 11},\n",
       "    {'year': 2017, 'works_count': 2, 'cited_by_count': 3},\n",
       "    {'year': 2016, 'works_count': 0, 'cited_by_count': 5},\n",
       "    {'year': 2015, 'works_count': 0, 'cited_by_count': 2},\n",
       "    {'year': 2014, 'works_count': 2, 'cited_by_count': 2},\n",
       "    {'year': 2013, 'works_count': 0, 'cited_by_count': 4},\n",
       "    {'year': 2012, 'works_count': 0, 'cited_by_count': 6}],\n",
       "   'x_concepts': [{'id': 'https://openalex.org/C41008148',\n",
       "     'wikidata': 'https://www.wikidata.org/wiki/Q21198',\n",
       "     'display_name': 'Computer science',\n",
       "     'level': 0,\n",
       "     'score': 81.5},\n",
       "    {'id': 'https://openalex.org/C144133560',\n",
       "     'wikidata': 'https://www.wikidata.org/wiki/Q4830453',\n",
       "     'display_name': 'Business',\n",
       "     'level': 0,\n",
       "     'score': 59.3},\n",
       "    {'id': 'https://openalex.org/C199539241',\n",
       "     'wikidata': 'https://www.wikidata.org/wiki/Q7748',\n",
       "     'display_name': 'Law',\n",
       "     'level': 1,\n",
       "     'score': 59.3},\n",
       "    {'id': 'https://openalex.org/C162324750',\n",
       "     'wikidata': 'https://www.wikidata.org/wiki/Q8134',\n",
       "     'display_name': 'Economics',\n",
       "     'level': 0,\n",
       "     'score': 59.3},\n",
       "    {'id': 'https://openalex.org/C17744445',\n",
       "     'wikidata': 'https://www.wikidata.org/wiki/Q36442',\n",
       "     'display_name': 'Political science',\n",
       "     'level': 0,\n",
       "     'score': 59.3},\n",
       "    {'id': 'https://openalex.org/C138885662',\n",
       "     'wikidata': 'https://www.wikidata.org/wiki/Q5891',\n",
       "     'display_name': 'Philosophy',\n",
       "     'level': 0,\n",
       "     'score': 48.1},\n",
       "    {'id': 'https://openalex.org/C111919701',\n",
       "     'wikidata': 'https://www.wikidata.org/wiki/Q9135',\n",
       "     'display_name': 'Operating system',\n",
       "     'level': 1,\n",
       "     'score': 44.4},\n",
       "    {'id': 'https://openalex.org/C33923547',\n",
       "     'wikidata': 'https://www.wikidata.org/wiki/Q395',\n",
       "     'display_name': 'Mathematics',\n",
       "     'level': 0,\n",
       "     'score': 40.7},\n",
       "    {'id': 'https://openalex.org/C199360897',\n",
       "     'wikidata': 'https://www.wikidata.org/wiki/Q9143',\n",
       "     'display_name': 'Programming language',\n",
       "     'level': 1,\n",
       "     'score': 40.7},\n",
       "    {'id': 'https://openalex.org/C71924100',\n",
       "     'wikidata': 'https://www.wikidata.org/wiki/Q11190',\n",
       "     'display_name': 'Medicine',\n",
       "     'level': 0,\n",
       "     'score': 40.7},\n",
       "    {'id': 'https://openalex.org/C127413603',\n",
       "     'wikidata': 'https://www.wikidata.org/wiki/Q11023',\n",
       "     'display_name': 'Engineering',\n",
       "     'level': 0,\n",
       "     'score': 40.7},\n",
       "    {'id': 'https://openalex.org/C95457728',\n",
       "     'wikidata': 'https://www.wikidata.org/wiki/Q309',\n",
       "     'display_name': 'History',\n",
       "     'level': 0,\n",
       "     'score': 37.0},\n",
       "    {'id': 'https://openalex.org/C15744967',\n",
       "     'wikidata': 'https://www.wikidata.org/wiki/Q9418',\n",
       "     'display_name': 'Psychology',\n",
       "     'level': 0,\n",
       "     'score': 37.0},\n",
       "    {'id': 'https://openalex.org/C205649164',\n",
       "     'wikidata': 'https://www.wikidata.org/wiki/Q1071',\n",
       "     'display_name': 'Geography',\n",
       "     'level': 0,\n",
       "     'score': 37.0},\n",
       "    {'id': 'https://openalex.org/C166957645',\n",
       "     'wikidata': 'https://www.wikidata.org/wiki/Q23498',\n",
       "     'display_name': 'Archaeology',\n",
       "     'level': 1,\n",
       "     'score': 37.0},\n",
       "    {'id': 'https://openalex.org/C142362112',\n",
       "     'wikidata': 'https://www.wikidata.org/wiki/Q735',\n",
       "     'display_name': 'Art',\n",
       "     'level': 0,\n",
       "     'score': 33.3},\n",
       "    {'id': 'https://openalex.org/C111472728',\n",
       "     'wikidata': 'https://www.wikidata.org/wiki/Q9471',\n",
       "     'display_name': 'Epistemology',\n",
       "     'level': 1,\n",
       "     'score': 29.6},\n",
       "    {'id': 'https://openalex.org/C136764020',\n",
       "     'wikidata': 'https://www.wikidata.org/wiki/Q466',\n",
       "     'display_name': 'World Wide Web',\n",
       "     'level': 1,\n",
       "     'score': 29.6},\n",
       "    {'id': 'https://openalex.org/C123657996',\n",
       "     'wikidata': 'https://www.wikidata.org/wiki/Q12271',\n",
       "     'display_name': 'Architecture',\n",
       "     'level': 2,\n",
       "     'score': 29.6},\n",
       "    {'id': 'https://openalex.org/C153349607',\n",
       "     'wikidata': 'https://www.wikidata.org/wiki/Q36649',\n",
       "     'display_name': 'Visual arts',\n",
       "     'level': 1,\n",
       "     'score': 29.6},\n",
       "    {'id': 'https://openalex.org/C86803240',\n",
       "     'wikidata': 'https://www.wikidata.org/wiki/Q420',\n",
       "     'display_name': 'Biology',\n",
       "     'level': 0,\n",
       "     'score': 25.9},\n",
       "    {'id': 'https://openalex.org/C41895202',\n",
       "     'wikidata': 'https://www.wikidata.org/wiki/Q8162',\n",
       "     'display_name': 'Linguistics',\n",
       "     'level': 1,\n",
       "     'score': 25.9},\n",
       "    {'id': 'https://openalex.org/C195094911',\n",
       "     'wikidata': 'https://www.wikidata.org/wiki/Q14167904',\n",
       "     'display_name': 'Process management',\n",
       "     'level': 1,\n",
       "     'score': 25.9},\n",
       "    {'id': 'https://openalex.org/C10138342',\n",
       "     'wikidata': 'https://www.wikidata.org/wiki/Q43015',\n",
       "     'display_name': 'Finance',\n",
       "     'level': 1,\n",
       "     'score': 22.2},\n",
       "    {'id': 'https://openalex.org/C56739046',\n",
       "     'wikidata': 'https://www.wikidata.org/wiki/Q192060',\n",
       "     'display_name': 'Knowledge management',\n",
       "     'level': 1,\n",
       "     'score': 22.2}],\n",
       "   'works_api_url': 'https://api.openalex.org/works?filter=institutions.id:I4210091826',\n",
       "   'updated_date': '2023-03-14T20:38:17.118287',\n",
       "   'created_date': '2022-02-02'}],\n",
       " 'group_by': []}"
      ]
     },
     "execution_count": 3,
     "metadata": {},
     "output_type": "execute_result"
    }
   ],
   "source": [
    "import requests\n",
    "\n",
    "req = requests.get('https://api.openalex.org/institutions?search=carnegie+mellon+university')\n",
    "data = req.json()\n",
    "data\n",
    "\n"
   ]
  },
  {
   "cell_type": "code",
   "execution_count": 15,
   "id": "cf0d4760-ae4c-4f16-899f-99c90d545de0",
   "metadata": {},
   "outputs": [
    {
     "data": {
      "text/plain": [
       "dict_keys(['meta', 'results', 'group_by'])"
      ]
     },
     "execution_count": 15,
     "metadata": {},
     "output_type": "execute_result"
    }
   ],
   "source": [
    "data.keys()"
   ]
  },
  {
   "cell_type": "code",
   "execution_count": 6,
   "id": "e45ed58c-e2b8-44fa-8acf-88c13a0db96f",
   "metadata": {},
   "outputs": [
    {
     "data": {
      "text/plain": [
       "4"
      ]
     },
     "execution_count": 6,
     "metadata": {},
     "output_type": "execute_result"
    }
   ],
   "source": [
    "data['meta']['count']"
   ]
  },
  {
   "cell_type": "code",
   "execution_count": 10,
   "id": "43edbec2-a269-4b89-bc27-ff520f274bd1",
   "metadata": {},
   "outputs": [
    {
     "data": {
      "text/plain": [
       "['Carnegie Mellon University',\n",
       " 'Carnegie Mellon University Qatar',\n",
       " 'Carnegie Mellon University Africa',\n",
       " 'Carnegie Mellon University Australia']"
      ]
     },
     "execution_count": 10,
     "metadata": {},
     "output_type": "execute_result"
    }
   ],
   "source": [
    "[result['display_name'] for result in data['results']]"
   ]
  },
  {
   "cell_type": "code",
   "execution_count": 12,
   "id": "2ed0f2c1-b922-47aa-b9a2-a8d7618733be",
   "metadata": {},
   "outputs": [
    {
     "data": {
      "text/plain": [
       "['Carnegie Mellon University',\n",
       " 'Carnegie Mellon University Qatar',\n",
       " 'Carnegie Mellon University Africa',\n",
       " 'Carnegie Mellon University Australia']"
      ]
     },
     "execution_count": 12,
     "metadata": {},
     "output_type": "execute_result"
    }
   ],
   "source": [
    "names = []\n",
    "for i in range(data['meta']['count']):\n",
    "    names += [data['results'][i]['display_name']]\n",
    "names    "
   ]
  },
  {
   "cell_type": "markdown",
   "id": "0fdc038c-fadf-4415-a4a7-d6204b58d02e",
   "metadata": {},
   "source": [
    "Now, it is easy to replicate the example we had from last class to show each result with the works_count and cited_by_count, even with simple formatting.\n",
    "\n"
   ]
  },
  {
   "cell_type": "code",
   "execution_count": 13,
   "id": "7a5b8f5b-eecd-4604-bfff-e71255aaf7d8",
   "metadata": {},
   "outputs": [
    {
     "name": "stdout",
     "output_type": "stream",
     "text": [
      "Carnegie Mellon University                            107978   9708044\n",
      "Carnegie Mellon University Qatar                         549     11205\n",
      "Carnegie Mellon University Africa                         87       468\n",
      "Carnegie Mellon University Australia                      27       188\n"
     ]
    }
   ],
   "source": [
    "for result in data['results']:\n",
    "    print(f'{result[\"display_name\"]:50s}{result[\"works_count\"]:10d}{result[\"cited_by_count\"]:10d}')\n",
    "\n"
   ]
  },
  {
   "cell_type": "markdown",
   "id": "6e049665-7762-48c5-a7aa-e160158dc12b",
   "metadata": {},
   "source": [
    "## Our first Python based shell script\n",
    "\n"
   ]
  },
  {
   "cell_type": "markdown",
   "id": "faa6845a-aeea-4e5e-b784-3cacc7f249f3",
   "metadata": {},
   "source": [
    "It is convenient to use the notebook for this, but let's convert this to a script that takes an argument. Let's do this in a few pieces.\n",
    "\n",
    "1. create a file called oa_inst.py, and make it executable.\n",
    "\n",
    "In the file, add these lines:\n",
    "\n",
    "```\n",
    "#!/usr/bin/env python\n",
    "\n",
    "import sys\n",
    "print(sys.argv)\n",
    "```\n",
    "\n",
    "The first line (the so-called shebang line) tells the shell what interpreter to use, in this case, that it is a python script. Then we import the `sys` module. This module provides basic access to command line arguments through the .argv attribute.\n",
    "\n",
    "Run your script with a few examples:\n",
    "\n",
    "    ./oa_inst.py\n",
    "    ./oa_inst.py carnegie mellon university\n",
    "    \n",
    "You can see the first element of `sys.argv` is always the script name. All the other elements are what we call the command-line arguments. \n",
    "\n"
   ]
  },
  {
   "cell_type": "markdown",
   "id": "c16e9480-1e5e-4a6d-a119-28a5f810ccec",
   "metadata": {},
   "source": [
    "We need to join these with + as we did in the shell script before. It is easy to do in Python. Now, add these lines:\n",
    "\n",
    "```\n",
    "query = '+'.join(sys.argv[1:])\n",
    "url = f'https://api.openalex.org/institutions?search={query}'\n",
    "\n",
    "import requests\n",
    "\n",
    "req = requests.get(url)\n",
    "data = req.json()\n",
    "\n",
    "for result in data['results']:\n",
    "    print(f'{result[\"display_name\"]:50s}{result[\"works_count\"]:10d}{result[\"cited_by_count\"]:10d}')\n",
    "```\n",
    "\n",
    "Now you should be able to run this python script like the shell script.\n",
    "\n",
    "You can move the script to ~/bin if you put that on your path like we described in the first lecture, and then run that from anywhere.\n",
    "\n",
    "Our script is not without issues. They aren't big issues, but we can *only* use this script in the shell. We can't import it and use it here in the notebook. If you do import it, you will see that it tries to run something, but something weird happens, and it doesn't work right.\n",
    "\n",
    "We need to separate some things out so we can have a script *and* importable library.\n",
    "\n"
   ]
  },
  {
   "cell_type": "code",
   "execution_count": 16,
   "id": "0f52a0cc-3311-46a6-88c6-8d3d139dfd3c",
   "metadata": {},
   "outputs": [
    {
     "name": "stdout",
     "output_type": "stream",
     "text": [
      "query = -f+/home/jupyter-jkitchin@andrew.cm-11dd7/.local/share/jupyter/runtime/kernel-9d4b67b6-ec08-42d4-bb3b-83f2ac3b8e83.json\n",
      "status code: 200\n",
      "No results found\n"
     ]
    }
   ],
   "source": [
    "import oa_inst"
   ]
  },
  {
   "cell_type": "code",
   "execution_count": 17,
   "id": "a3033ec6-38d6-47d4-bdb0-6f6c21de59bb",
   "metadata": {},
   "outputs": [
    {
     "data": {
      "text/plain": [
       "<Response [200]>"
      ]
     },
     "execution_count": 17,
     "metadata": {},
     "output_type": "execute_result"
    }
   ],
   "source": [
    "oa_inst.req"
   ]
  },
  {
   "cell_type": "markdown",
   "id": "b586e695-989d-4ace-8b1d-94bfc7891324",
   "metadata": {},
   "source": [
    "## Getting better than sys.argv\n",
    "\n",
    "`sys.argv` is really only suitable for the simplest of command line arguments, and it isn't really even great for those. Among the limitations are:\n",
    "\n",
    "1. No option parsing (or you have to write your own)\n",
    "2. No built-in help or documentation\n",
    "\n",
    "Some built-in core libraries in Python can help with this, e.g. [argparse](https://docs.python.org/3/library/argparse.html). There are also third-party libraries like [click](https://palletsprojects.com/p/click/). \n",
    "\n",
    "Let's rewrite the script above using click. The principle idea is we write a function that does what we want with some arguments, use the click library to convert the command line arguments into variables we use in the function, and then, we only run the function when we run the script (as opposed to importing from it).\n",
    "\n",
    "Making this look easy requires some advanced Python skills. Let's work out a reusable function first. I am writing this with some 20/20 hindsight we don't have yet. We will return later to why we wrote the function this specific way. This function should take a list of terms, or a string to query. Either way, we convert it to a string with each word joined by +. Then, we return a formatted string for each result found.\n",
    "\n"
   ]
  },
  {
   "cell_type": "code",
   "execution_count": 18,
   "id": "1ad3b02b-1c93-47cc-9a89-aeecf50ff400",
   "metadata": {},
   "outputs": [
    {
     "data": {
      "text/plain": [
       "['Carnegie Mellon University                            107978   9708044',\n",
       " 'Carnegie Mellon University Qatar                         549     11205',\n",
       " 'Carnegie Mellon University Africa                         87       468',\n",
       " 'Carnegie Mellon University Australia                      27       188']"
      ]
     },
     "execution_count": 18,
     "metadata": {},
     "output_type": "execute_result"
    }
   ],
   "source": [
    "import requests \n",
    "from collections.abc import Iterable \n",
    "\n",
    "def openalex_institution(query):\n",
    "    'query is a list of terms in the query, or a string.'\n",
    "    \n",
    "    # Replace spaces with +\n",
    "    if isinstance(query, str):\n",
    "        query = '+'.join(query.split())\n",
    "\n",
    "    # If it is not a string We assume it is an iterable of strings.\n",
    "    elif isinstance(query, Iterable):\n",
    "        query = '+'.join(query)\n",
    "        \n",
    "    else:\n",
    "        raise Exception('query should be a string or Iterable')\n",
    "        \n",
    "    url = f'https://api.openalex.org/institutions?search={query}'\n",
    "    req = requests.get(url)\n",
    "    data = req.json()\n",
    "\n",
    "    return [f'{result[\"display_name\"]:50s}{result[\"works_count\"]:10d}{result[\"cited_by_count\"]:10d}'\n",
    "            for result in data['results']]\n",
    "            \n",
    "openalex_institution('carnegie mellon university')            "
   ]
  },
  {
   "cell_type": "code",
   "execution_count": 19,
   "id": "592462de-9ed7-4eee-85f5-e46ffe4b882a",
   "metadata": {},
   "outputs": [
    {
     "data": {
      "text/plain": [
       "['Carnegie Mellon University                            107978   9708044',\n",
       " 'Carnegie Mellon University Qatar                         549     11205',\n",
       " 'Carnegie Mellon University Africa                         87       468',\n",
       " 'Carnegie Mellon University Australia                      27       188']"
      ]
     },
     "execution_count": 19,
     "metadata": {},
     "output_type": "execute_result"
    }
   ],
   "source": [
    "# Test with list of words\n",
    "openalex_institution(['carnegie', 'mellon', 'university'])          "
   ]
  },
  {
   "cell_type": "markdown",
   "id": "dbdeeff7-8b7b-4824-9beb-51faa02ec212",
   "metadata": {},
   "source": [
    "Note our function returns data in the form of a list of strings. Later, we can join them into a single string like this.\n",
    "\n"
   ]
  },
  {
   "cell_type": "code",
   "execution_count": 20,
   "id": "ea85cde9-2365-41b0-bfc8-0b2b35a8cd1a",
   "metadata": {},
   "outputs": [
    {
     "name": "stdout",
     "output_type": "stream",
     "text": [
      "Carnegie Mellon University                            107978   9708044\n",
      "Carnegie Mellon University Qatar                         549     11205\n",
      "Carnegie Mellon University Africa                         87       468\n",
      "Carnegie Mellon University Australia                      27       188\n"
     ]
    }
   ],
   "source": [
    "print('\\n'.join(openalex_institution(['carnegie', 'mellon', 'university'])))\n",
    "\n"
   ]
  },
  {
   "cell_type": "markdown",
   "id": "a129c2fd-db4c-4e3f-bfe2-7ef6678f9e47",
   "metadata": {},
   "source": [
    "## Basic click usage\n",
    "That is the independent reusable part. Now, let's look at how click works. We have to create a function that does what we want, and then decorate it with click functions. Start by creating a new file: oa_inst2.py with these contents. The `main` function is what will run in our script, and only when we run this as a script.\n",
    "\n",
    "```\n",
    "import click\n",
    "\n",
    "@click.command(help='OpenAlex Institutions')\n",
    "@click.argument('query', nargs=-1)\n",
    "def main(query):\n",
    "    print(query)\n",
    "    \n",
    "if __name__ == '__main__':\n",
    "    main()\n",
    "```\n",
    "\n",
    "Now, you can see we automatically get help\n",
    "\n"
   ]
  },
  {
   "cell_type": "code",
   "execution_count": 21,
   "id": "386985b7-4574-4188-8406-ead19b2d3f36",
   "metadata": {},
   "outputs": [
    {
     "name": "stdout",
     "output_type": "stream",
     "text": [
      "Usage: oa_inst2.py [OPTIONS] [QUERY]...\n",
      "\n",
      "  OpenAlex Institutions\n",
      "\n",
      "Options:\n",
      "  --help  Show this message and exit.\n"
     ]
    }
   ],
   "source": [
    "! ./oa_inst2.py --help\n",
    "\n"
   ]
  },
  {
   "cell_type": "markdown",
   "id": "bfb7bec7-71a7-48d9-8542-cc77507ef814",
   "metadata": {},
   "source": [
    "We can also run the command with a few arguments. Here you see that the arguments become a tuple of strings. \n",
    "\n"
   ]
  },
  {
   "cell_type": "code",
   "execution_count": 22,
   "id": "052cc891-433c-4601-8703-28712f5e3d6f",
   "metadata": {},
   "outputs": [
    {
     "name": "stdout",
     "output_type": "stream",
     "text": [
      "('carnegie', 'mellon', 'university')\n"
     ]
    }
   ],
   "source": [
    "! ./oa_inst2.py carnegie mellon university\n",
    "\n"
   ]
  },
  {
   "cell_type": "markdown",
   "id": "aa6c5920-b7ac-4cd5-b5cc-18ec3edd69da",
   "metadata": {},
   "source": [
    "Now, we combine the function we worked out above in the script. We make a few modifications to the main function here. First, we have to join the strings returned by the openalex_institution function with \\n, and then print that string so we can see it on stdout in the shell.\n",
    "\n",
    "```\n",
    "#!/usr/bin/env python\n",
    "import click\n",
    "\n",
    "import requests \n",
    "from collections.abc import Iterable \n",
    "\n",
    "def openalex_institution(query):\n",
    "    'query is a list of terms in the query, or a string.'\n",
    "    if isinstance(query, str):\n",
    "        query = '+'.join(query.split())\n",
    "\n",
    "    # We assume it is an iterable of strings.\n",
    "    elif isinstance(query, Iterable):\n",
    "        query = '+'.join(query)\n",
    "        \n",
    "    url = f'https://api.openalex.org/institutions?search={query}'\n",
    "    req = requests.get(url)\n",
    "    data = req.json()\n",
    "\n",
    "    return [f'{result[\"display_name\"]:50s}{result[\"works_count\"]:10d}{result[\"cited_by_count\"]:10d}'\n",
    "            for result in data['results']]\n",
    "\n",
    "@click.command(help='OpenAlex Institutions')\n",
    "@click.argument('query', nargs=-1)\n",
    "def main(query):\n",
    "    print('\\n'.join(openalex_institution(query)))\n",
    "    \n",
    "if __name__ == '__main__':\n",
    "    main()\n",
    "```    \n",
    "\n"
   ]
  },
  {
   "cell_type": "code",
   "execution_count": 23,
   "id": "ca011db7-5b03-440a-a0d6-6b9639db2c2c",
   "metadata": {},
   "outputs": [
    {
     "name": "stdout",
     "output_type": "stream",
     "text": [
      "Carnegie Mellon University                            107978   9708044\n",
      "Carnegie Mellon University Qatar                         549     11205\n",
      "Carnegie Mellon University Africa                         87       468\n",
      "Carnegie Mellon University Australia                      27       188\n"
     ]
    }
   ],
   "source": [
    "! ./oa_inst2.py carnegie mellon university\n",
    "\n"
   ]
  },
  {
   "cell_type": "markdown",
   "id": "3c964afa-9546-4154-9262-6f42e8b3a0a7",
   "metadata": {},
   "source": [
    "Finally, we can import the function we wrote and use it in the notebook. This import works because the python file is in this directory. Later we will learn how to do this more generally. For now the critical idea is we have one file that can be used two different ways: one as a script in a shell, and one as a python library you can import the same function for use in a notebook, or even another script.\n",
    "\n"
   ]
  },
  {
   "cell_type": "code",
   "execution_count": 24,
   "id": "822461e5-4efe-45bf-affa-fec86a0d94b3",
   "metadata": {},
   "outputs": [],
   "source": [
    "import oa_inst2"
   ]
  },
  {
   "cell_type": "code",
   "execution_count": 25,
   "id": "4f4529fa-00a6-4f09-b1a8-ac3f1668f423",
   "metadata": {},
   "outputs": [
    {
     "name": "stdout",
     "output_type": "stream",
     "text": [
      "Carnegie Mellon University                            107978   9708044\n",
      "Carnegie Mellon University Qatar                         549     11205\n",
      "Carnegie Mellon University Africa                         87       468\n",
      "Carnegie Mellon University Australia                      27       188\n"
     ]
    }
   ],
   "source": [
    "from oa_inst2 import openalex_institution\n",
    "print('\\n'.join(openalex_institution('carnegie+mellon+university')))\n",
    "\n"
   ]
  },
  {
   "cell_type": "markdown",
   "id": "a4828c25-8a19-4960-9dc0-09e2971427f2",
   "metadata": {},
   "source": [
    "# Back to the author endpoint\n",
    "\n",
    "You can access an author from a URL like this:\n",
    "https://api.openalex.org/authors/https://orcid.org/0000-0003-2625-9232. Let's look at a few things. We get the name, number of works, and a url to those works. Although the url here says there are 172 works, it does not list them. Instead, it provides you with a url to get to them. Let's click on this url, and see what is there.\n",
    "\n"
   ]
  },
  {
   "cell_type": "code",
   "execution_count": 26,
   "id": "a459e61d-e3ee-4c14-8d05-6983558b409e",
   "metadata": {},
   "outputs": [
    {
     "data": {
      "text/plain": [
       "('John R. Kitchin',\n",
       " 172,\n",
       " 'https://api.openalex.org/works?filter=author.id:A1760930984')"
      ]
     },
     "execution_count": 26,
     "metadata": {},
     "output_type": "execute_result"
    }
   ],
   "source": [
    "import requests\n",
    "\n",
    "url = 'https://api.openalex.org/authors/https://orcid.org/0000-0003-2625-9232'\n",
    "data = requests.get(url).json()\n",
    "data['display_name'], data['works_count'], data['works_api_url']\n",
    "\n"
   ]
  },
  {
   "cell_type": "markdown",
   "id": "51e79906-d0cf-4bdd-b297-a107b91e115e",
   "metadata": {},
   "source": [
    "It is another set of json data.\n",
    "\n"
   ]
  },
  {
   "cell_type": "code",
   "execution_count": 27,
   "id": "d2df7c3a-cc05-474a-9bed-d0256c3fe57d",
   "metadata": {},
   "outputs": [
    {
     "data": {
      "text/plain": [
       "{'count': 172, 'db_response_time_ms': 77, 'page': 1, 'per_page': 25}"
      ]
     },
     "execution_count": 27,
     "metadata": {},
     "output_type": "execute_result"
    }
   ],
   "source": [
    "works = requests.get(data['works_api_url']).json()\n",
    "works['meta']\n",
    "\n"
   ]
  },
  {
   "cell_type": "markdown",
   "id": "10680e00-5c25-4b6f-a973-d730456623c2",
   "metadata": {},
   "source": [
    "This new data has a new feature. There are 172 works, but on this \"page\" of data, there are only 25 results. We have to consider how to access all the pages to get the rest of the data. Paging is described here https://docs.openalex.org/how-to-use-the-api/get-lists-of-entities/paging. The gist is we have to add something to the url to increase the number of results per-page. We can increase it up to 200, and this example only has 172, so we do that.\n",
    "\n"
   ]
  },
  {
   "cell_type": "code",
   "execution_count": 28,
   "id": "7cc59bfe-f2d9-42b6-aa6d-a8e66c7b7b5e",
   "metadata": {},
   "outputs": [
    {
     "data": {
      "text/plain": [
       "{'count': 172, 'db_response_time_ms': 35, 'page': 1, 'per_page': 172}"
      ]
     },
     "execution_count": 28,
     "metadata": {},
     "output_type": "execute_result"
    }
   ],
   "source": [
    "works = requests.get(data['works_api_url'] + f'?page=1&per-page={data[\"works_count\"]}').json()\n",
    "works['meta']\n",
    "\n"
   ]
  },
  {
   "cell_type": "markdown",
   "id": "c8de27d3-c19f-4cbd-af1f-e8436984adb2",
   "metadata": {},
   "source": [
    "Our goal now is to retrieve each work, and get the cited_by_count for each paper. Then, we will compute the H-index for this list of papers. The H-index is the number of papers that have at least H citations. The works are already sorted in descending citations here, so we don't have to sort them ourselves.\n",
    "\n"
   ]
  },
  {
   "cell_type": "code",
   "execution_count": 29,
   "id": "dbc8841e-752e-46da-ae66-88dd33969b7f",
   "metadata": {},
   "outputs": [
    {
     "data": {
      "text/plain": [
       "172"
      ]
     },
     "execution_count": 29,
     "metadata": {},
     "output_type": "execute_result"
    }
   ],
   "source": [
    "len(works['results'])"
   ]
  },
  {
   "cell_type": "code",
   "execution_count": 30,
   "id": "c0bcf774-d396-4279-88ab-2bbe1f36de68",
   "metadata": {},
   "outputs": [
    {
     "name": "stdout",
     "output_type": "stream",
     "text": [
      "  1    6837\n",
      "  2    3338\n",
      "  3    2633\n",
      "  4    1423\n",
      "  5    1121\n",
      "  6    1082\n",
      "  7     387\n",
      "  8     384\n",
      "  9     274\n",
      " 10     252\n",
      " 11     237\n",
      " 12     194\n",
      " 13     162\n",
      " 14     150\n",
      " 15     123\n",
      " 16      92\n",
      " 17      90\n",
      " 18      89\n",
      " 19      86\n",
      " 20      83\n",
      " 21      81\n",
      " 22      80\n",
      " 23      76\n",
      " 24      68\n",
      " 25      65\n",
      " 26      65\n",
      " 27      64\n",
      " 28      61\n",
      " 29      59\n",
      " 30      57\n",
      " 31      56\n",
      " 32      55\n",
      " 33      54\n",
      " 34      51\n",
      " 35      47\n",
      " 36      46\n",
      " 37      44\n",
      " 38      44\n",
      " 39      42\n",
      " 40      40\n",
      "H-index = 40\n"
     ]
    }
   ],
   "source": [
    "citations = [work['cited_by_count'] for work in works['results']]\n",
    "for i, cite in enumerate(citations, start=1):\n",
    "    if cite < i:\n",
    "        print(f'H-index = {i - 1}')\n",
    "        break\n",
    "    print(f'{i:3d}{cite:8d}')\n",
    "\n"
   ]
  },
  {
   "cell_type": "markdown",
   "id": "242af9c2-1cef-49a3-9df1-a74e8e5a21d5",
   "metadata": {},
   "source": [
    "# Group exercise\n",
    "\n",
    "Work together to create a Python based shell script that takes an ORCID and computes the H-index for the author.\n",
    "\n"
   ]
  },
  {
   "cell_type": "code",
   "execution_count": 31,
   "id": "152e5970-21b4-4d45-a624-7022e83a01a6",
   "metadata": {},
   "outputs": [
    {
     "name": "stdout",
     "output_type": "stream",
     "text": [
      "#!/usr/bin/env python\n",
      "\n",
      "import click\n",
      "import requests\n",
      "\n",
      "def hindex(orcid):\n",
      "    \n",
      "    url = f'https://api.openalex.org/authors/https://orcid.org/{orcid}'\n",
      "    data = requests.get(url).json()\n",
      "\n",
      "    works = (requests.get(data['works_api_url'] \n",
      "                          + f'?page=1&per-page={data[\"works_count\"]}').json())\n",
      "    \n",
      "    citations = [work['cited_by_count'] for work in works['results']]\n",
      "    for i, cite in enumerate(citations, start=1):\n",
      "        if cite < i:\n",
      "            return i - 1\n",
      "\n",
      "@click.command(help='OpenAlex h-index')\n",
      "@click.argument('orcid', nargs=1)\n",
      "def main(orcid):\n",
      "    print(f'h-index: {hindex(orcid)}')\n",
      "    \n",
      "if __name__ == '__main__':\n",
      "    main()\n"
     ]
    }
   ],
   "source": [
    "! cat orcid"
   ]
  },
  {
   "cell_type": "code",
   "execution_count": 32,
   "id": "56a9c7fd-e312-4043-aa9e-854e315b8b8a",
   "metadata": {},
   "outputs": [
    {
     "name": "stdout",
     "output_type": "stream",
     "text": [
      "h-index: 40\n"
     ]
    }
   ],
   "source": [
    "! ./orcid 0000-0003-2625-9232"
   ]
  },
  {
   "cell_type": "code",
   "execution_count": null,
   "id": "f4cce225-f4e9-4dc1-9c61-3c35f664cd03",
   "metadata": {},
   "outputs": [],
   "source": []
  }
 ],
 "metadata": {
  "kernelspec": {
   "display_name": "Python 3",
   "language": "python",
   "name": "python3"
  },
  "language_info": {
   "codemirror_mode": {
    "name": "ipython",
    "version": 3
   },
   "file_extension": ".py",
   "mimetype": "text/x-python",
   "name": "python",
   "nbconvert_exporter": "python",
   "pygments_lexer": "ipython3",
   "version": "3.9.7"
  },
  "widgets": {
   "application/vnd.jupyter.widget-state+json": {
    "state": {},
    "version_major": 2,
    "version_minor": 0
   }
  }
 },
 "nbformat": 4,
 "nbformat_minor": 5
}
