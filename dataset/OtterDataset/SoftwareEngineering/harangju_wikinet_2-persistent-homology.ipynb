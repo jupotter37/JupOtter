{
 "cells": [
  {
   "cell_type": "markdown",
   "metadata": {},
   "source": [
    "Persistent homology examples\n",
    "\n",
    "* Ripser [paper](https://www.theoj.org/joss-papers/joss.00925/10.21105.joss.00925.pdf) [code](https://github.com/scikit-tda/ripser.py) (fast)\n",
    "* Dionysus 2 [code](https://mrzv.org/software/dionysus2/) (representative examples)\n",
    "* Nico's [code](https://github.com/nhchristianson/Math-text-semantic-networks)\n",
    "* Ann's [code](https://github.com/asizemore/PH_tutorial/blob/master/Tutorial_day1.ipynb)"
   ]
  },
  {
   "cell_type": "markdown",
   "metadata": {},
   "source": [
    "# Load data"
   ]
  },
  {
   "cell_type": "markdown",
   "metadata": {},
   "source": [
    "## Load networks"
   ]
  },
  {
   "cell_type": "code",
   "execution_count": null,
   "metadata": {
    "scrolled": true
   },
   "outputs": [],
   "source": [
    "%reload_ext autoreload\n",
    "%autoreload 2\n",
    "import os,sys\n",
    "sys.path.insert(1, os.path.join(sys.path[0], '..', 'module'))"
   ]
  },
  {
   "cell_type": "code",
   "execution_count": null,
   "metadata": {
    "scrolled": true
   },
   "outputs": [],
   "source": [
    "topics = [\n",
    "    'anatomy', 'biochemistry', 'cognitive science', 'evolutionary biology',\n",
    "    'genetics', 'immunology', 'molecular biology', 'chemistry', 'biophysics',\n",
    "    'energy', 'optics', 'earth science', 'geology', 'meteorology',\n",
    "    'philosophy of language', 'philosophy of law', 'philosophy of mind',\n",
    "    'philosophy of science', 'economics', 'accounting', 'education',\n",
    "    'linguistics', 'law', 'psychology', 'sociology', 'electronics',\n",
    "    'software engineering', 'robotics',\n",
    "    'calculus', 'geometry', 'abstract algebra',\n",
    "    'Boolean algebra', 'commutative algebra', 'group theory', 'linear algebra',\n",
    "    'number theory', 'dynamical systems and differential equations'\n",
    "]"
   ]
  },
  {
   "cell_type": "code",
   "execution_count": null,
   "metadata": {
    "scrolled": true
   },
   "outputs": [],
   "source": [
    "import wiki\n",
    "\n",
    "path_saved = '/Users/harangju/Developer/data/wiki/graphs/dated/'\n",
    "\n",
    "networks = {}\n",
    "for topic in topics:\n",
    "    print(topic, end=' ')\n",
    "    networks[topic] = wiki.Net(path_graph=path_saved + topic + '.pickle',\n",
    "                               path_barcodes=path_saved + topic + '.barcode')"
   ]
  },
  {
   "cell_type": "code",
   "execution_count": null,
   "metadata": {},
   "outputs": [],
   "source": [
    "path_null = '/Users/harangju/Developer/data/wiki/graphs/null-target/'\n",
    "num_nulls = 10\n",
    "null_targets = {}\n",
    "for topic in topics:\n",
    "    print(topic, end=' ')\n",
    "    null_targets[topic] = [None for i in range(num_nulls)]\n",
    "    for i in range(num_nulls):\n",
    "        null_targets[topic][i] = wiki.Net(path_graph=path_null + topic + '-null-' + str(i) + '.pickle',\n",
    "                                          path_barcodes=path_null + topic + '-null-' + str(i) + '.barcode')"
   ]
  },
  {
   "cell_type": "code",
   "execution_count": null,
   "metadata": {},
   "outputs": [],
   "source": [
    "path_null = '/Users/harangju/Developer/data/wiki/graphs/null-year/'\n",
    "num_nulls = 10\n",
    "null_years = {}\n",
    "for topic in topics:\n",
    "    print(topic, end=' ')\n",
    "    null_years[topic] = [None for i in range(num_nulls)]\n",
    "    for i in range(num_nulls):\n",
    "        null_years[topic][i] = wiki.Net(path_graph=path_null + topic + '-null-' + str(i) + '.pickle',\n",
    "                                        path_barcodes=path_null + topic + '-null-' + str(i) + '.barcode')"
   ]
  },
  {
   "cell_type": "markdown",
   "metadata": {},
   "source": [
    "## Load models"
   ]
  },
  {
   "cell_type": "code",
   "execution_count": null,
   "metadata": {},
   "outputs": [],
   "source": [
    "simulation = '20200422_1318'\n",
    "simulation = '20200520_2057'\n",
    "simulation = '20200820_1919'"
   ]
  },
  {
   "cell_type": "code",
   "execution_count": null,
   "metadata": {},
   "outputs": [],
   "source": [
    "base_dir = os.path.join('/', 'Users', 'harangju', 'Developer', 'data', 'wiki', 'simulations')\n",
    "session_dir = os.path.join(base_dir, simulation)"
   ]
  },
  {
   "cell_type": "code",
   "execution_count": null,
   "metadata": {},
   "outputs": [],
   "source": [
    "filenames = sorted(os.listdir(session_dir))\n",
    "filenames[:3]"
   ]
  },
  {
   "cell_type": "code",
   "execution_count": null,
   "metadata": {},
   "outputs": [],
   "source": [
    "filenames[-3:]"
   ]
  },
  {
   "cell_type": "code",
   "execution_count": null,
   "metadata": {},
   "outputs": [],
   "source": [
    "model_topics = list(set(\n",
    "    [filename.split('_')[1] for filename in filenames \n",
    "     if filename.split('_')[0]=='model']\n",
    "))\n",
    "model_topics[:3]"
   ]
  },
  {
   "cell_type": "code",
   "execution_count": null,
   "metadata": {},
   "outputs": [],
   "source": [
    "model_paths = {topic: [os.path.join(session_dir, filename)\n",
    "                       for filename in filenames[:-1]\n",
    "                       if (filename.split('_')[0]=='model') and (filename.split('_')[1]==topic)]\n",
    "               for topic in model_topics}"
   ]
  },
  {
   "cell_type": "code",
   "execution_count": null,
   "metadata": {},
   "outputs": [],
   "source": [
    "{topic: model_paths[topic] for topic in model_topics[:1]}"
   ]
  },
  {
   "cell_type": "markdown",
   "metadata": {},
   "source": [
    "# Compute barcodes"
   ]
  },
  {
   "cell_type": "markdown",
   "metadata": {},
   "source": [
    "Go to the \"Load\" sections to load `barcodes` with computed data."
   ]
  },
  {
   "cell_type": "code",
   "execution_count": null,
   "metadata": {
    "scrolled": false
   },
   "outputs": [],
   "source": [
    "import pandas as pd\n",
    "pd.options.display.max_rows = 12"
   ]
  },
  {
   "cell_type": "code",
   "execution_count": null,
   "metadata": {
    "scrolled": true
   },
   "outputs": [],
   "source": [
    "import dill\n",
    "barcodes = pd.concat(\n",
    "    [\n",
    "        network.barcodes.assign(topic=topic)\\\n",
    "            .assign(type='real')\\\n",
    "            .assign(null=0)\n",
    "        for topic, network in networks.items()\n",
    "    ] +\n",
    "    [\n",
    "        network.barcodes.assign(topic=topic)\\\n",
    "            .assign(type='null_targets')\\\n",
    "            .assign(null=i)\n",
    "        for topic, nulls in null_targets.items()\n",
    "        for i, network in enumerate(nulls)\n",
    "    ] +\n",
    "    [\n",
    "        network.barcodes.assign(topic=topic)\\\n",
    "            .assign(type='null_years')\\\n",
    "            .assign(null=i)\n",
    "        for topic, nulls in null_years.items()\n",
    "        for i, network in enumerate(nulls)\n",
    "    ] +\n",
    "    [\n",
    "        dill.load(open(path, 'rb'))\\\n",
    "            .barcodes\\\n",
    "            .assign(topic=topic)\\\n",
    "            .assign(type='null_genetic')\\\n",
    "            .assign(null=i)\n",
    "        for topic, paths in model_paths.items()\n",
    "        for i, path in enumerate(paths)\n",
    "    ],\n",
    "    ignore_index=True, sort=False)"
   ]
  },
  {
   "cell_type": "code",
   "execution_count": null,
   "metadata": {},
   "outputs": [],
   "source": [
    "barcodes = barcodes[barcodes.lifetime!=0]"
   ]
  },
  {
   "cell_type": "code",
   "execution_count": null,
   "metadata": {},
   "outputs": [],
   "source": [
    "barcodes"
   ]
  },
  {
   "cell_type": "markdown",
   "metadata": {},
   "source": [
    "## Save"
   ]
  },
  {
   "cell_type": "code",
   "execution_count": null,
   "metadata": {},
   "outputs": [],
   "source": [
    "import pickle\n",
    "path_analysis = '/Users/harangju/Developer/data/wiki/analysis/'\n",
    "pickle.dump(\n",
    "    barcodes, \n",
    "    open(\n",
    "        os.path.join(path_analysis, f\"barcodes_{simulation}.pickle\"),\n",
    "        'wb'\n",
    "    )\n",
    ")"
   ]
  },
  {
   "cell_type": "markdown",
   "metadata": {},
   "source": [
    "## Load"
   ]
  },
  {
   "cell_type": "code",
   "execution_count": null,
   "metadata": {},
   "outputs": [],
   "source": [
    "import pickle\n",
    "path_analysis = '/Users/harangju/Developer/data/wiki/analysis/'\n",
    "barcodes = pickle.load(\n",
    "    open(\n",
    "        os.path.join(path_analysis, f\"barcodes_{simulation}.pickle\"),\n",
    "        'rb'\n",
    "    )\n",
    ")"
   ]
  },
  {
   "cell_type": "markdown",
   "metadata": {},
   "source": [
    "# Plotting functions"
   ]
  },
  {
   "cell_type": "code",
   "execution_count": null,
   "metadata": {},
   "outputs": [],
   "source": [
    "import os\n",
    "import numpy as np\n",
    "import plotly.express as px\n",
    "import plotly.graph_objects as go\n",
    "import pandas as pd\n",
    "# path_fig = '/Users/harangju/Box Sync/Research/my papers/wikipedia/results/'\n",
    "path_fig = os.path.join(\n",
    "    '/', 'Users', 'harangju', 'Library', 'Mobile Documents', 'com~apple~CloudDocs', \n",
    "    'Documents', 'research', 'wikipedia', 'results'\n",
    ")"
   ]
  },
  {
   "cell_type": "code",
   "execution_count": null,
   "metadata": {},
   "outputs": [],
   "source": [
    "import numpy as np\n",
    "import pandas as pd\n",
    "import plotly.offline as po\n",
    "import plotly.express as px\n",
    "import plotly.graph_objs as go\n",
    "import plotly.figure_factory as ff\n",
    "po.init_notebook_mode(connected=True)\n",
    "\n",
    "def plot_barcodes(barcodes, title):\n",
    "    fig = go.Figure()\n",
    "    x = {dim: [] for dim in pd.unique(barcodes.dim)}\n",
    "    y = {dim: [] for dim in pd.unique(barcodes.dim)}\n",
    "    deaths = [[],[]]\n",
    "    for i, row in barcodes.iterrows():\n",
    "        dim = row['dim']\n",
    "        birth = row['birth']\n",
    "        death = row['death'] if row['death']!=np.inf else 2050\n",
    "        x[dim].extend([birth,death,None])\n",
    "        y[dim].extend([i,i,None])\n",
    "        if row['death']!=np.inf:\n",
    "            deaths[0].extend([death,None])\n",
    "            deaths[1].extend([i,None])\n",
    "    for dim in pd.unique(barcodes.dim):\n",
    "        fig.add_trace(go.Scatter(x=x[dim], y=y[dim],\n",
    "                                 mode='lines',\n",
    "                                 name=f\"dim={dim}\"))\n",
    "#     fig.add_trace(go.Scatter(x=deaths[0], y=deaths[1], mode='markers',\n",
    "#                              marker={'color': 'black', 'size': 1},\n",
    "#                              name='deaths'))\n",
    "    fig.update_layout(template='plotly_white',\n",
    "                      width=600, height=500,\n",
    "                      title_text=f\"{title}\",\n",
    "                      xaxis={'title': 'year', 'range': [0, 2040]},\n",
    "                      yaxis={'title': '', 'tickvals': []})\n",
    "    fig.show()\n",
    "    return fig"
   ]
  },
  {
   "cell_type": "code",
   "execution_count": null,
   "metadata": {
    "scrolled": true
   },
   "outputs": [],
   "source": [
    "def plot_persistence_diagram(barcodes):\n",
    "    colors = [mcd.XKCD_COLORS['xkcd:'+c]\n",
    "      for c in ['emerald green', 'tealish', 'peacock blue', \n",
    "                'grey', 'brown', 'red', 'yellow']]\n",
    "    plt.figure(figsize=(10,10))\n",
    "    for dim in set(barcodes['dim']):\n",
    "        data = barcodes.loc[barcodes['dim']==dim]\n",
    "        data.loc[data['death']==np.inf,'death'] = 2030\n",
    "        plt.plot(data['birth'], data['death'], '.')\n",
    "    x = [barcodes['birth'].min(),\n",
    "         barcodes.loc[barcodes['death']!=np.inf,'death'].max()]\n",
    "    print(x)\n",
    "    plt.plot(x, [2030, 2030], '--')"
   ]
  },
  {
   "cell_type": "code",
   "execution_count": null,
   "metadata": {},
   "outputs": [],
   "source": [
    "def plot_betti(barcodes, title):\n",
    "    fig = go.Figure()\n",
    "    year_min = int(np.min(barcodes.birth))\n",
    "    year_max = int(np.max(barcodes[barcodes.death!=np.inf].death))\n",
    "    counts = np.zeros((len(barcodes.index), year_max-year_min))\n",
    "    dims = np.zeros(len(barcodes.index))\n",
    "    for i, row in barcodes.iterrows():\n",
    "        dim = row['dim']\n",
    "        birth = int(row['birth'])\n",
    "        death = int(row['death']) if row['death']!=np.inf else year_max\n",
    "        counts[i,birth-year_min:death-year_min] = 1\n",
    "        dims[i] = dim\n",
    "    for dim in pd.unique(barcodes.dim):\n",
    "        betti = np.sum(counts[dims==dim,:], axis=0)\n",
    "        fig.add_trace(go.Scatter(x=np.arange(year_min, year_max) - year_min + 1,\n",
    "                                 y=betti,\n",
    "                                 mode='lines',\n",
    "                                 name=f\"dim={dim}\"))\n",
    "    fig.update_layout(template='plotly_white',\n",
    "                      title_text=f\"{title}\",\n",
    "                      xaxis={'title': 'year',\n",
    "#                              'range': [], #[0,year_max],\n",
    "                             'type': 'linear'},\n",
    "                      yaxis={'title': 'count',\n",
    "#                              'range': [0,2000],\n",
    "                             'type': 'log'})\n",
    "    fig.show()\n",
    "    return fig"
   ]
  },
  {
   "cell_type": "markdown",
   "metadata": {},
   "source": [
    "# Barcodes"
   ]
  },
  {
   "cell_type": "code",
   "execution_count": null,
   "metadata": {},
   "outputs": [],
   "source": [
    "import os\n",
    "\n",
    "path_plot = '2 barcodes'\n",
    "\n",
    "if not os.path.exists(os.path.join(path_fig, path_plot)):\n",
    "    os.mkdir(os.path.join(path_fig, path_plot))"
   ]
  },
  {
   "cell_type": "code",
   "execution_count": null,
   "metadata": {
    "scrolled": false
   },
   "outputs": [],
   "source": [
    "for topic in ['biophysics']:#topics:\n",
    "    plot_barcodes(\n",
    "        networks[topic].barcodes[networks[topic].barcodes.lifetime!=0]\\\n",
    "            .reset_index().drop('index', axis=1),\n",
    "        f\"Topic: {topic} (empirical)\")\\\n",
    "        .write_image(os.path.join(path_fig, path_plot, f\"{topic}_empirical.pdf\"))\n",
    "#     plot_barcodes(null_targets[topic][0].barcodes[null_targets[topic][0].barcodes.lifetime!=0],\n",
    "#                   f\"Topic: {topic} (target-rewired)\")#\\\n",
    "#         .write_image(os.path.join(path_fig, path_plot, f\"{topic}_target.pdf\"))\n",
    "#     plot_barcodes(null_years[topic][0].barcodes[null_years[topic][0].barcodes.lifetime!=0],\n",
    "#                   f\"Topic: {topic} (year-reordered)\")#\\\n",
    "#         .write_image(os.path.join(path_fig, path_plot, f\"{topic}_year.pdf\"))"
   ]
  },
  {
   "cell_type": "markdown",
   "metadata": {},
   "source": [
    "# Betti curves"
   ]
  },
  {
   "cell_type": "code",
   "execution_count": null,
   "metadata": {},
   "outputs": [],
   "source": [
    "import os\n",
    "\n",
    "path_plot = '2 betti'\n",
    "\n",
    "if not os.path.exists(os.path.join(path_fig, path_plot)):\n",
    "    os.mkdir(os.path.join(path_fig, path_plot))"
   ]
  },
  {
   "cell_type": "code",
   "execution_count": null,
   "metadata": {
    "scrolled": false
   },
   "outputs": [],
   "source": [
    "for topic in ['biochemistry']:#topics:\n",
    "    b = networks[topic].barcodes\n",
    "    plot_betti(b[b.lifetime!=0].reset_index(), f\"{topic} (empirical)\")\\\n",
    "        .write_image(os.path.join(path_fig, path_plot, f\"{topic}_empirical.pdf\"))\n",
    "    b = null_targets[topic][0].barcodes\n",
    "    plot_betti(b[b.lifetime!=0].reset_index(), f\"{topic} (target-rewired)\")\\\n",
    "#         .write_image(os.path.join(path_fig, path_plot, f\"{topic}_target.pdf\"))\n",
    "    b = null_years[topic][0].barcodes\n",
    "    plot_betti(b[b.lifetime!=0].reset_index(), f\"{topic} (year-reordered)\")\\\n",
    "#         .write_image(os.path.join(path_fig, path_plot, f\"{topic}_year.pdf\"))"
   ]
  },
  {
   "cell_type": "markdown",
   "metadata": {},
   "source": [
    "# Lifetime (finite)"
   ]
  },
  {
   "cell_type": "code",
   "execution_count": null,
   "metadata": {},
   "outputs": [],
   "source": [
    "from scipy import stats"
   ]
  },
  {
   "cell_type": "code",
   "execution_count": null,
   "metadata": {
    "scrolled": false
   },
   "outputs": [],
   "source": [
    "lifetime = pd.DataFrame()\n",
    "for topic in topics:\n",
    "    data = barcodes[barcodes.topic==topic].copy()\n",
    "    data = data[(data.lifetime!=np.inf) & (data.lifetime!=0)]\n",
    "    t_targets, p_targets = stats.ttest_ind(\n",
    "        data[data.type=='real']['lifetime'].values,\n",
    "        data[data.type=='null_targets']['lifetime'].values\n",
    "    )\n",
    "    t_years, p_years = stats.ttest_ind(\n",
    "        data[data.type=='real']['lifetime'].values,\n",
    "        data[data.type=='null_years']['lifetime'].values\n",
    "    )\n",
    "    t_genetic, p_genetic = stats.ttest_ind(\n",
    "        data[data.type=='real']['lifetime'].values,\n",
    "        data[data.type=='null_genetic']['lifetime'].values\n",
    "    )\n",
    "    lifetime = pd.concat(\n",
    "        [lifetime, pd.DataFrame(\n",
    "            [[topic, t_targets, p_targets, t_years, p_years, t_genetic, p_genetic]],\n",
    "            columns=[\n",
    "                'topic', 't (targets)', 'p (targets)',\n",
    "                't (years)', 'p (years)',\n",
    "                't (genetic)', 'p (genetic)'\n",
    "            ]\n",
    "        )], ignore_index=True\n",
    "    )"
   ]
  },
  {
   "cell_type": "code",
   "execution_count": null,
   "metadata": {},
   "outputs": [],
   "source": [
    "pd.options.display.max_rows = 37\n",
    "lifetime"
   ]
  },
  {
   "cell_type": "code",
   "execution_count": null,
   "metadata": {},
   "outputs": [],
   "source": [
    "barcodes_mean = barcodes[\n",
    "    (barcodes.lifetime!=np.inf) & (barcodes.lifetime!=0)]\\\n",
    "    .groupby(['topic', 'type'], as_index=False)\\\n",
    "    .mean()\\\n",
    "    .drop(['dim','birth','death','null'], axis=1)\n",
    "barcodes_mean"
   ]
  },
  {
   "cell_type": "code",
   "execution_count": null,
   "metadata": {},
   "outputs": [],
   "source": [
    "import os\n",
    "\n",
    "path_plot = '2 lifetimes'\n",
    "\n",
    "if not os.path.exists(os.path.join(path_fig, path_plot)):\n",
    "    os.mkdir(os.path.join(path_fig, path_plot))"
   ]
  },
  {
   "cell_type": "code",
   "execution_count": null,
   "metadata": {},
   "outputs": [],
   "source": [
    "null_types = [\n",
    "    'null_targets', 'null_genetic'\n",
    "]"
   ]
  },
  {
   "cell_type": "code",
   "execution_count": null,
   "metadata": {
    "scrolled": false
   },
   "outputs": [],
   "source": [
    "fig = go.Figure()\n",
    "max_lifetime = np.max(barcodes_mean.lifetime) + 10\n",
    "fig.add_trace(\n",
    "    go.Scatter(\n",
    "        x=[0,max_lifetime],\n",
    "        y=[0,max_lifetime],\n",
    "        mode='lines',\n",
    "        line=dict(dash='dash'),\n",
    "        name='1:1'\n",
    "    )\n",
    ")\n",
    "for null_type in null_types:\n",
    "    fig.add_trace(\n",
    "        go.Scatter(\n",
    "            x=barcodes_mean[barcodes_mean.type==null_type].lifetime,\n",
    "            y=barcodes_mean[barcodes_mean.type=='real'].lifetime,\n",
    "            mode='markers',\n",
    "            name=null_type,\n",
    "            hovertext=barcodes_mean[barcodes_mean.type=='real'].topic\n",
    "        )\n",
    "    )\n",
    "fig.update_layout(template='plotly_white',\n",
    "                  title='Lifetimes (finite)',\n",
    "                  width=500, height=500,\n",
    "                  xaxis={'title': 'years (null)',\n",
    "                         'range': [0,max_lifetime+100],\n",
    "                         'dtick': 1000},\n",
    "                  yaxis={'title': 'years (real)',\n",
    "                         'range': [0,max_lifetime+100],\n",
    "                         'scaleanchor': 'x',\n",
    "                         'scaleratio': 1,\n",
    "                         'dtick': 1000})\n",
    "fig.show()\n",
    "fig.write_image(os.path.join(path_fig, path_plot, 'finite.pdf'))"
   ]
  },
  {
   "cell_type": "code",
   "execution_count": null,
   "metadata": {},
   "outputs": [],
   "source": [
    "import scipy as sp\n",
    "for null_type in ['null_targets', 'null_genetic']:\n",
    "    ks, p_ks = sp.stats.ks_2samp(\n",
    "        barcodes[\n",
    "            (barcodes.lifetime!=0) & (barcodes.lifetime!=np.inf) &\n",
    "            (barcodes.type=='real')].lifetime,\n",
    "        barcodes[\n",
    "            (barcodes.lifetime!=0) & (barcodes.lifetime!=np.inf) &\n",
    "            (barcodes.type==null_type)].lifetime,\n",
    "        alternative='two-sided'\n",
    "    )\n",
    "    t, p_t = sp.stats.ttest_ind(\n",
    "        barcodes[\n",
    "            (barcodes.lifetime!=0) & (barcodes.lifetime!=np.inf) &\n",
    "            (barcodes.type=='real')].lifetime,\n",
    "        barcodes[\n",
    "            (barcodes.lifetime!=0) & (barcodes.lifetime!=np.inf) &\n",
    "            (barcodes.type==null_type)].lifetime,\n",
    "        equal_var=True\n",
    "    )\n",
    "    print(null_type, f\"ks={ks}, p={p_ks}; t={t}, p={p_t}\")"
   ]
  },
  {
   "cell_type": "code",
   "execution_count": null,
   "metadata": {
    "scrolled": false
   },
   "outputs": [],
   "source": [
    "fig = px.violin(\n",
    "    barcodes[(barcodes.lifetime!=0) & (barcodes.type!='null_years')],\n",
    "    x='type', y='lifetime'\n",
    ")\n",
    "fig.update_layout(\n",
    "    height=400, width=460,\n",
    "    template='plotly_white',\n",
    "    title_text='Lifetimes (finite)',\n",
    "    xaxis={'title': ''},\n",
    "    yaxis={\n",
    "        'title': 'number',\n",
    "        'type': '-',\n",
    "    }\n",
    ")\n",
    "fig.show()\n",
    "fig.write_image(os.path.join(path_fig, path_plot, 'finite_violin.pdf'))"
   ]
  },
  {
   "cell_type": "code",
   "execution_count": null,
   "metadata": {},
   "outputs": [],
   "source": [
    "lifetimes = barcodes[\n",
    "    (barcodes.lifetime!=0) &\n",
    "    (barcodes.lifetime!=np.inf)\n",
    "]\n",
    "null_types = [\n",
    "    'real', 'null_targets', 'null_genetic'\n",
    "]\n",
    "lifetime_range = np.arange(\n",
    "    np.min(lifetimes.lifetime),\n",
    "    np.max(lifetimes.lifetime)\n",
    ")\n",
    "cum_freq = {\n",
    "    null_type: np.zeros(lifetime_range.size)\n",
    "    for null_type in null_types\n",
    "}\n",
    "for null_type in null_types:\n",
    "    print(null_type)\n",
    "    for i, lifetime in enumerate(lifetime_range):\n",
    "        cum_freq[null_type][i] = np.sum(\n",
    "            lifetimes[lifetimes.type==null_type].lifetime < lifetime\n",
    "        ) / len(lifetimes[lifetimes.type==null_type].index)"
   ]
  },
  {
   "cell_type": "code",
   "execution_count": null,
   "metadata": {},
   "outputs": [],
   "source": [
    "fig = go.Figure()\n",
    "for null_type in null_types:\n",
    "    fig.add_trace(\n",
    "        go.Scatter(\n",
    "            x=lifetime_range,\n",
    "            y=cum_freq[null_type],\n",
    "            name=null_type\n",
    "        )\n",
    "    )\n",
    "fig.update_layout(\n",
    "    width=400, height=400,\n",
    "    template='plotly_white',\n",
    "    yaxis={'title': 'cumulative frequency'},\n",
    "    xaxis={'title': 'finite lifetime',\n",
    "           'type': 'log'},\n",
    "    legend={'x': 0, 'y':1}\n",
    ")\n",
    "fig.show()\n",
    "fig.write_image(os.path.join(path_fig, path_plot, 'cum_freq_fin.pdf'))"
   ]
  },
  {
   "cell_type": "markdown",
   "metadata": {},
   "source": [
    "# Lifetime (infinite)"
   ]
  },
  {
   "cell_type": "code",
   "execution_count": null,
   "metadata": {},
   "outputs": [],
   "source": [
    "barcodes[\n",
    "    (barcodes.lifetime==np.inf) &\n",
    "    (barcodes.topic=='biochemistry') &\n",
    "    (barcodes.type=='real')\n",
    "].shape"
   ]
  },
  {
   "cell_type": "code",
   "execution_count": null,
   "metadata": {},
   "outputs": [],
   "source": [
    "import scipy as sp\n",
    "reals = []\n",
    "targets = []\n",
    "years = []\n",
    "genetics = []\n",
    "for topic in topics:\n",
    "    reals.append(barcodes[(barcodes.lifetime==np.inf) &\n",
    "                          (barcodes.topic==topic) &\n",
    "                          (barcodes.type=='real')].shape[0])\n",
    "    targets.append(barcodes[(barcodes.lifetime==np.inf) &\n",
    "                            (barcodes.topic==topic) &\n",
    "                            (barcodes.type=='null_targets')].shape[0])\n",
    "    years.append(barcodes[(barcodes.lifetime==np.inf) &\n",
    "                          (barcodes.topic==topic) &\n",
    "                          (barcodes.type=='null_years')].shape[0])\n",
    "    genetics.append(barcodes[(barcodes.lifetime==np.inf) &\n",
    "                          (barcodes.topic==topic) &\n",
    "                          (barcodes.type=='null_genetic')].shape[0])"
   ]
  },
  {
   "cell_type": "code",
   "execution_count": null,
   "metadata": {},
   "outputs": [],
   "source": [
    "t_targets, p_targets = sp.stats.ttest_ind(reals, targets)\n",
    "t_years, p_years = sp.stats.ttest_ind(reals, years)\n",
    "t_genetic, p_genetic = sp.stats.ttest_ind(reals, genetics)\n",
    "t_targets, p_targets, t_years, p_years, t_genetic, p_genetic"
   ]
  },
  {
   "cell_type": "code",
   "execution_count": null,
   "metadata": {},
   "outputs": [],
   "source": [
    "ks_targets, p_targets = sp.stats.ks_2samp(reals, targets, alternative='two-sided')\n",
    "ks_years, p_years = sp.stats.ks_2samp(reals, years, alternative='two-sided')\n",
    "ks_genetic, p_genetic = sp.stats.ks_2samp(reals, genetics, alternative='two-sided')\n",
    "ks_targets, p_targets, ks_years, p_years, ks_genetic, p_genetic"
   ]
  },
  {
   "cell_type": "code",
   "execution_count": null,
   "metadata": {},
   "outputs": [],
   "source": [
    "import plotly.figure_factory as ff"
   ]
  },
  {
   "cell_type": "code",
   "execution_count": null,
   "metadata": {},
   "outputs": [],
   "source": [
    "import os\n",
    "\n",
    "path_plot = '2 lifetimes'\n",
    "\n",
    "if not os.path.exists(os.path.join(path_fig, path_plot)):\n",
    "    os.mkdir(os.path.join(path_fig, path_plot))"
   ]
  },
  {
   "cell_type": "code",
   "execution_count": null,
   "metadata": {},
   "outputs": [],
   "source": [
    "fig = ff.create_distplot(\n",
    "    [targets, genetics, reals],\n",
    "    ['null targets', 'null genetics', 'real'],\n",
    "    bin_size=np.arange(.5, 8) ** 10, #1000,\n",
    "    show_curve=False,\n",
    "    colors=['#2ca02c', '#d62728', '#1f77b4']\n",
    ")\n",
    "fig.update_layout(\n",
    "    width=600,\n",
    "    template='plotly_white',\n",
    "    title_text='Lifetimes (infinite)',\n",
    "    xaxis={'title': 'count', 'type': 'log'},\n",
    "    yaxis={'title': 'probability'}\n",
    ")\n",
    "fig.show()\n",
    "fig.write_image(os.path.join(path_fig, path_plot, 'infinite.pdf'))"
   ]
  },
  {
   "cell_type": "code",
   "execution_count": null,
   "metadata": {},
   "outputs": [],
   "source": [
    "fig = px.violin(\n",
    "    pd.DataFrame({\n",
    "        'value': reals + targets + genetics,\n",
    "        'type': len(reals)*['real'] + len(targets)*['target']\\\n",
    "            + len(genetics)*['genetic']\n",
    "    }).replace(0, 0.01),\n",
    "    x='type', y='value'\n",
    ")\n",
    "fig.update_layout(\n",
    "    height=400, width=460,\n",
    "    template='plotly_white',\n",
    "    title_text='Lifetimes (infinite)',\n",
    "    xaxis={'title': ''},\n",
    "    yaxis={\n",
    "        'title': 'number',\n",
    "        'type': '-',\n",
    "#         'range': [-1, 6]\n",
    "    }\n",
    ")\n",
    "fig.show()\n",
    "fig.write_image(os.path.join(path_fig, path_plot, 'infinite_violin.pdf'))"
   ]
  },
  {
   "cell_type": "code",
   "execution_count": null,
   "metadata": {},
   "outputs": [],
   "source": [
    "inf_lifetimes = {\n",
    "    'real': reals,\n",
    "    'null_targets': targets,\n",
    "    'null_genetic': genetics\n",
    "}\n",
    "null_types = [\n",
    "    'real', 'null_targets', 'null_genetic'\n",
    "]\n",
    "inf_lifetime_range = np.arange(\n",
    "    0, np.max(reals + targets + genetics)\n",
    ")\n",
    "cum_freq = {\n",
    "    null_type: []\n",
    "    for null_type in null_types\n",
    "}\n",
    "for null_type in null_types:\n",
    "    print(null_type)\n",
    "    for i, count in enumerate(inf_lifetime_range):\n",
    "        cum_freq[null_type].append(\n",
    "            np.sum(inf_lifetimes[null_type] < count) \\\n",
    "            / len(inf_lifetimes[null_type])\n",
    "        )"
   ]
  },
  {
   "cell_type": "code",
   "execution_count": null,
   "metadata": {},
   "outputs": [],
   "source": [
    "fig = go.Figure()\n",
    "for null_type in null_types:\n",
    "    fig.add_trace(\n",
    "        go.Scatter(\n",
    "            x=inf_lifetime_range,\n",
    "            y=cum_freq[null_type],\n",
    "            name=null_type\n",
    "        )\n",
    "    )\n",
    "fig.update_layout(\n",
    "    width=400, height=400,\n",
    "    template='plotly_white',\n",
    "    yaxis={'title': 'cumulative frequency'},\n",
    "    xaxis={'title': 'infinite lifetimes',\n",
    "           'type': 'log'},\n",
    "    legend={'x':.5, 'y':.2}\n",
    ")\n",
    "fig.show()\n",
    "fig.write_image(os.path.join(path_fig, path_plot, 'cum_freq_inf.pdf'))"
   ]
  },
  {
   "cell_type": "markdown",
   "metadata": {},
   "source": [
    "# Dimensionality"
   ]
  },
  {
   "cell_type": "markdown",
   "metadata": {},
   "source": [
    "## Compute"
   ]
  },
  {
   "cell_type": "code",
   "execution_count": null,
   "metadata": {},
   "outputs": [],
   "source": [
    "pd.options.display.max_rows = 5"
   ]
  },
  {
   "cell_type": "code",
   "execution_count": null,
   "metadata": {
    "scrolled": true
   },
   "outputs": [],
   "source": [
    "counts = barcodes[barcodes.lifetime!=0]\\\n",
    "    .assign(count=1)\\\n",
    "    .groupby(['type','topic','dim'], as_index=False)['count']\\\n",
    "    .sum()\\\n",
    "    .sort_values('type', axis=0, ascending=True)\n",
    "counts"
   ]
  },
  {
   "cell_type": "code",
   "execution_count": null,
   "metadata": {},
   "outputs": [],
   "source": [
    "nulls = barcodes[barcodes.lifetime!=0]\\\n",
    "    .groupby(['type','topic','dim'], as_index=False)['null'].max()\n",
    "nulls.null = nulls.null + 1\n",
    "nulls"
   ]
  },
  {
   "cell_type": "code",
   "execution_count": null,
   "metadata": {},
   "outputs": [],
   "source": [
    "nulls = pd.merge(\n",
    "    nulls, counts,\n",
    "    how='left', left_on=['type','topic','dim'],\n",
    "    right_on=['type','topic','dim']\n",
    ").replace(\n",
    "    ['null_targets','null_years', 'null_genetic'],\n",
    "    ['targets', 'years', 'genetics']\n",
    ").sort_values(by='type')\n",
    "nulls['count'] = nulls['count'] / nulls.null\n",
    "nulls"
   ]
  },
  {
   "cell_type": "markdown",
   "metadata": {},
   "source": [
    "## Statistics"
   ]
  },
  {
   "cell_type": "code",
   "execution_count": null,
   "metadata": {
    "scrolled": true
   },
   "outputs": [],
   "source": [
    "import scipy as sp\n",
    "dim_stat = pd.DataFrame()\n",
    "for dim in sorted(pd.unique(nulls.dim)):\n",
    "    nulls_dim = nulls[nulls.dim==dim]\n",
    "    nulls_dim_count_real = nulls_dim[nulls_dim.type=='real']['count'].values\n",
    "    nulls_dim_count_years = nulls_dim[nulls_dim.type=='years']['count'].values\n",
    "    nulls_dim_count_targets = nulls_dim[nulls_dim.type=='targets']['count'].values\n",
    "    nulls_dim_count_genetics = nulls_dim[nulls_dim.type=='genetics']['count'].values\n",
    "    t_years, p_years = sp.stats.ttest_ind(\n",
    "        nulls_dim_count_real, nulls_dim_count_years\n",
    "    )\n",
    "    t_targets, p_targets = sp.stats.ttest_ind(\n",
    "        nulls_dim_count_real, nulls_dim_count_targets\n",
    "    )\n",
    "    t_genetics, p_genetics = sp.stats.ttest_ind(\n",
    "        nulls_dim_count_real, nulls_dim_count_genetics\n",
    "    )\n",
    "    ks_years, ks_p_years = sp.stats.ks_2samp(\n",
    "        nulls_dim_count_real, nulls_dim_count_years, alternative='two-sided'\n",
    "    ) if len(nulls_dim_count_years) > 0 else (-1, -1)\n",
    "    ks_targets, ks_p_targets = sp.stats.ks_2samp(\n",
    "        nulls_dim_count_real, nulls_dim_count_targets, alternative='two-sided'\n",
    "    ) if len(nulls_dim_count_targets) > 0 else (-1, -1)\n",
    "    ks_genetics, ks_p_genetics = sp.stats.ks_2samp(\n",
    "        nulls_dim_count_real, nulls_dim_count_genetics, alternative='two-sided'\n",
    "    ) if len(nulls_dim_count_genetics) > 0 else (-1, -1)\n",
    "    dim_stat = pd.concat(\n",
    "        [\n",
    "            dim_stat,\n",
    "            pd.DataFrame(\n",
    "                [[\n",
    "                    dim,\n",
    "                    t_years, p_years, t_targets, p_targets, t_genetics, p_genetics,\n",
    "                    ks_years, ks_p_years, ks_targets, ks_p_targets, ks_genetics, ks_p_genetics\n",
    "                ]],\n",
    "                columns=[\n",
    "                    'dim',\n",
    "                    't_years', 'p_years', 't_targets', 'p_targets', 't_genetics', 'p_genetics',\n",
    "                    'ks_years', 'ks_p_years', 'ks_targets', 'ks_p_targets',\n",
    "                    'ks_genetics', 'ks_p_genetics'\n",
    "                ]\n",
    "            )\n",
    "        ]\n",
    "    )"
   ]
  },
  {
   "cell_type": "code",
   "execution_count": null,
   "metadata": {},
   "outputs": [],
   "source": [
    "dim_stat"
   ]
  },
  {
   "cell_type": "markdown",
   "metadata": {},
   "source": [
    "## Plot"
   ]
  },
  {
   "cell_type": "code",
   "execution_count": null,
   "metadata": {},
   "outputs": [],
   "source": [
    "import os\n",
    "\n",
    "path_plot = '2 dimensionality'\n",
    "\n",
    "if not os.path.exists(os.path.join(path_fig, path_plot)):\n",
    "    os.mkdir(os.path.join(path_fig, path_plot))"
   ]
  },
  {
   "cell_type": "code",
   "execution_count": null,
   "metadata": {},
   "outputs": [],
   "source": [
    "fig = px.box(\n",
    "    nulls[\n",
    "        (nulls['type']=='real') &\n",
    "        (nulls['type']=='targets') &\n",
    "        (nulls['type']=='genetics')\n",
    "    ],\n",
    "    x='dim', y='count', color='type'\n",
    ")\n",
    "fig.update_layout(\n",
    "    template='plotly_white',\n",
    "    title_text='Dimensionality',\n",
    "    yaxis={'type': 'log'}\n",
    ")\n",
    "fig.update_traces(marker={'size': 4})\n",
    "fig.show()\n",
    "fig.write_image(os.path.join(path_fig, path_plot, 'dimensionality.pdf'))"
   ]
  },
  {
   "cell_type": "markdown",
   "metadata": {},
   "source": [
    "## Mean dimensionality"
   ]
  },
  {
   "cell_type": "code",
   "execution_count": null,
   "metadata": {},
   "outputs": [],
   "source": [
    "barcodes"
   ]
  },
  {
   "cell_type": "code",
   "execution_count": null,
   "metadata": {
    "scrolled": true
   },
   "outputs": [],
   "source": [
    "counts = barcodes[barcodes.lifetime!=0]\\\n",
    "    .assign(count=1)\\\n",
    "    .groupby(['type', 'topic', 'dim'], as_index=False)['count']\\\n",
    "    .sum()\n",
    "counts"
   ]
  },
  {
   "cell_type": "code",
   "execution_count": null,
   "metadata": {},
   "outputs": [],
   "source": [
    "barcodes = barcodes[barcodes.lifetime!=0]\n",
    "for null_type in ['null_targets', 'null_genetic']:\n",
    "    ks, p_ks = sp.stats.ks_2samp(\n",
    "        barcodes[barcodes.type=='real'].dim,\n",
    "        barcodes[barcodes.type==null_type].dim,\n",
    "        alternative='two-sided'\n",
    "    )\n",
    "    t, p_t = sp.stats.ttest_ind(\n",
    "        barcodes[barcodes.type=='real'].dim,\n",
    "        barcodes[barcodes.type==null_type].dim,\n",
    "        equal_var=True\n",
    "    )\n",
    "    print(null_type, f\"ks={ks}, p={p_ks}, t={t}, p={p_t}\")"
   ]
  },
  {
   "cell_type": "code",
   "execution_count": null,
   "metadata": {},
   "outputs": [],
   "source": [
    "fig = px.violin(\n",
    "    barcodes[barcodes.type!='null_years'], x='type', y='dim'\n",
    ")\n",
    "fig.update_layout(\n",
    "    height=400, width=460,\n",
    "    template='plotly_white',\n",
    "    title_text='Dimensionality'\n",
    ")\n",
    "fig.show()\n",
    "fig.write_image(os.path.join(path_fig, path_plot, 'dimensionality_violin.pdf'))"
   ]
  },
  {
   "cell_type": "code",
   "execution_count": null,
   "metadata": {
    "scrolled": true
   },
   "outputs": [],
   "source": [
    "dims = barcodes[(barcodes.lifetime!=0)]\n",
    "null_types = ['real', 'null_targets', 'null_genetic']\n",
    "dim_range = np.unique(dims.dim)\n",
    "cum_freq = {\n",
    "    null_type: []\n",
    "    for null_type in null_types\n",
    "}\n",
    "for null_type in null_types:\n",
    "    print(null_type)\n",
    "    for i, dim in enumerate(dim_range):\n",
    "        cum_freq[null_type].append(\n",
    "            np.sum(\n",
    "                dims[dims.type==null_type].dim < dim\n",
    "            ) / len(dims[dims.type==null_type].index)\n",
    "        )"
   ]
  },
  {
   "cell_type": "code",
   "execution_count": null,
   "metadata": {},
   "outputs": [],
   "source": [
    "fig = go.Figure()\n",
    "for null_type in null_types:\n",
    "    fig.add_trace(\n",
    "        go.Scatter(\n",
    "            x=dim_range,\n",
    "            y=cum_freq[null_type],\n",
    "            name=null_type,\n",
    "            mode='lines'\n",
    "        )\n",
    "    )\n",
    "fig.update_layout(\n",
    "    width=400, height=400,\n",
    "    template='plotly_white',\n",
    "    yaxis={'title': 'cumulative frequency'},\n",
    "    xaxis={'title': 'dim'},\n",
    "    legend={'x':.5, 'y':.2}\n",
    ")\n",
    "fig.show()\n",
    "fig.write_image(os.path.join(path_fig, path_plot, 'cum_freq_dim.pdf'))"
   ]
  },
  {
   "cell_type": "markdown",
   "metadata": {},
   "source": [
    "# Lifetime vs Cavity volume"
   ]
  },
  {
   "cell_type": "markdown",
   "metadata": {},
   "source": [
    "## Compute cavity volume"
   ]
  },
  {
   "cell_type": "markdown",
   "metadata": {},
   "source": [
    "Useful resource\n",
    "* [Computational topology](https://books.google.com/books?id=MDXa6gFRZuIC&printsec=frontcover#v=onepage&q=%22persistent%20homology%22&f=true)\n",
    "* [tutorial](http://pages.cs.wisc.edu/~jerryzhu/pub/cvrghomology.pdf)"
   ]
  },
  {
   "cell_type": "code",
   "execution_count": null,
   "metadata": {},
   "outputs": [],
   "source": [
    "import pickle\n",
    "import numpy as np\n",
    "import gensim.utils as gu\n",
    "import gensim.matutils as gmat\n",
    "import sklearn.metrics.pairwise as smp"
   ]
  },
  {
   "cell_type": "code",
   "execution_count": null,
   "metadata": {},
   "outputs": [],
   "source": [
    "for i, row in barcodes.iterrows():\n",
    "    sys.stdout.write(\"\\rindex: \" + str(i+1) + '/' + str(len(barcodes.index)))\n",
    "    sys.stdout.flush()\n",
    "    nodes = row['homology nodes']\n",
    "    topic = row['topic']\n",
    "    null_index = int(row['null'])\n",
    "    if row['type'] == 'real':\n",
    "        network = networks[topic]\n",
    "    elif row['type'] == 'null_targets':\n",
    "        network = null_targets[topic][null_index]\n",
    "    else:\n",
    "        network = null_years[topic][null_index]\n",
    "    tfidf = network.graph.graph['tfidf']\n",
    "    indices = [network.nodes.index(n) for n in nodes]\n",
    "    centroid = tfidf[:,indices].mean(axis=1) if indices else 0\n",
    "    distances = smp.cosine_distances(X=tfidf[:,indices].transpose(), Y=centroid.transpose())\\\n",
    "                if indices else [0]\n",
    "    barcodes.loc[i,'average distance'] = np.mean(distances)"
   ]
  },
  {
   "cell_type": "code",
   "execution_count": null,
   "metadata": {},
   "outputs": [],
   "source": [
    "barcodes"
   ]
  },
  {
   "cell_type": "markdown",
   "metadata": {},
   "source": [
    "## Save"
   ]
  },
  {
   "cell_type": "code",
   "execution_count": null,
   "metadata": {},
   "outputs": [],
   "source": [
    "import pickle\n",
    "path_analysis = '/Users/harangju/Developer/data/wiki/analysis/'\n",
    "pickle.dump(barcodes, open(f\"{path_analysis}/barcode_volume.pickle\",'wb'))"
   ]
  },
  {
   "cell_type": "markdown",
   "metadata": {},
   "source": [
    "## Load"
   ]
  },
  {
   "cell_type": "code",
   "execution_count": null,
   "metadata": {},
   "outputs": [],
   "source": [
    "import pickle\n",
    "path_analysis = '/Users/harangju/Developer/data/wiki/analysis/'\n",
    "barcodes = pickle.load(open(f\"{path_analysis}/barcode_volume.pickle\",'rb'))"
   ]
  },
  {
   "cell_type": "code",
   "execution_count": null,
   "metadata": {},
   "outputs": [],
   "source": [
    "barcodes"
   ]
  },
  {
   "cell_type": "markdown",
   "metadata": {},
   "source": [
    "## Compute regression"
   ]
  },
  {
   "cell_type": "code",
   "execution_count": null,
   "metadata": {},
   "outputs": [],
   "source": [
    "reg = pd.DataFrame()\n",
    "for topic in pd.unique(barcodes.topic):\n",
    "    data = barcodes[(barcodes.topic==topic) & (barcodes.type=='real') & \n",
    "                    (barcodes.lifetime!=np.inf) & (barcodes.lifetime!=0)]\n",
    "    x = data['average distance'].values\n",
    "    y = data['lifetime'].values\n",
    "    r, p = sp.stats.pearsonr(x, y)\n",
    "    reg = pd.concat([reg, pd.DataFrame([[topic,r,p,data.shape[0]]],\n",
    "                                       columns=['topic','r','p','n'])],\n",
    "                    ignore_index=True)"
   ]
  },
  {
   "cell_type": "code",
   "execution_count": null,
   "metadata": {},
   "outputs": [],
   "source": [
    "reg[reg.n>200]"
   ]
  },
  {
   "cell_type": "code",
   "execution_count": null,
   "metadata": {},
   "outputs": [],
   "source": [
    "reg[reg.p<0.01]"
   ]
  },
  {
   "cell_type": "markdown",
   "metadata": {},
   "source": [
    "## Plot"
   ]
  },
  {
   "cell_type": "code",
   "execution_count": null,
   "metadata": {},
   "outputs": [],
   "source": [
    "import scipy as sp\n",
    "import scipy.stats"
   ]
  },
  {
   "cell_type": "code",
   "execution_count": null,
   "metadata": {},
   "outputs": [],
   "source": [
    "path_plot = '2 cavity volume'\n",
    "\n",
    "if not os.path.exists(os.path.join(path_fig, path_plot)):\n",
    "    os.mkdir(os.path.join(path_fig, path_plot))"
   ]
  },
  {
   "cell_type": "code",
   "execution_count": null,
   "metadata": {
    "scrolled": true
   },
   "outputs": [],
   "source": [
    "for topic in pd.unique(barcodes.topic):\n",
    "    data = barcodes[(barcodes.topic==topic) & (barcodes.type=='real') & \n",
    "                    (barcodes.lifetime!=np.inf) & (barcodes.lifetime!=0)]\n",
    "    x = data['average distance'].values\n",
    "    y = data['lifetime'].values\n",
    "    r, p = sp.stats.pearsonr(x, y)\n",
    "    a, b, _, _, _ = sp.stats.linregress(x, y)\n",
    "    fig = go.Figure()\n",
    "    fig.add_trace(go.Scatter(x=x, y=y,\n",
    "                             mode='markers',\n",
    "                             marker={'size': 4},\n",
    "                             showlegend=False))\n",
    "    fig.add_trace(go.Scatter(x=np.linspace(np.min(x),np.max(x)),\n",
    "                             y=a*np.linspace(np.min(x),np.max(x))+b,\n",
    "                             mode='lines',\n",
    "                             showlegend=False))\n",
    "    fig.update_layout(template='plotly_white',\n",
    "                      title_text=f\"{topic} (r={r:.2f}, p={p:0.1e})\",\n",
    "                      xaxis={'title': 'average distance to centroid'},\n",
    "                      yaxis={'title': 'lifetime'})\n",
    "    fig.show()\n",
    "    fig.write_image(os.path.join(path_fig, path_plot, f\"{topic}.pdf\"))"
   ]
  },
  {
   "cell_type": "markdown",
   "metadata": {},
   "source": [
    "# Lifetime vs Cavity weights"
   ]
  },
  {
   "cell_type": "markdown",
   "metadata": {},
   "source": [
    "## Compute"
   ]
  },
  {
   "cell_type": "code",
   "execution_count": null,
   "metadata": {},
   "outputs": [],
   "source": [
    "import sys\n",
    "for i, row in barcodes.iterrows():\n",
    "    sys.stdout.write(\"\\rindex: \" + str(i+1) + '/' + str(len(barcodes.index)))\n",
    "    sys.stdout.flush()\n",
    "    nodes = row['homology nodes']\n",
    "    topic = row['topic']\n",
    "    null_index = int(row['null'])\n",
    "    if row['type'] == 'real':\n",
    "        network = networks[topic]\n",
    "    elif row['type'] == 'null_targets':\n",
    "        network = null_targets[topic][null_index]\n",
    "    else:\n",
    "        network = null_years[topic][null_index]\n",
    "    subgraph = network.graph.subgraph(nodes)\n",
    "    barcodes.loc[i,'mean edge weights'] = np.mean([subgraph.edges[u,v]['weight']\n",
    "                                                   for u,v in subgraph.edges])"
   ]
  },
  {
   "cell_type": "code",
   "execution_count": null,
   "metadata": {},
   "outputs": [],
   "source": [
    "barcodes"
   ]
  },
  {
   "cell_type": "markdown",
   "metadata": {},
   "source": [
    "## Save"
   ]
  },
  {
   "cell_type": "code",
   "execution_count": null,
   "metadata": {},
   "outputs": [],
   "source": [
    "import pickle\n",
    "path_analysis = '/Users/harangju/Developer/data/wiki/analysis/'\n",
    "pickle.dump(barcodes, open(f\"{path_analysis}/barcode_volume_weights.pickle\",'wb'))"
   ]
  },
  {
   "cell_type": "markdown",
   "metadata": {},
   "source": [
    "## Load"
   ]
  },
  {
   "cell_type": "code",
   "execution_count": null,
   "metadata": {},
   "outputs": [],
   "source": [
    "import pickle\n",
    "path_analysis = '/Users/harangju/Developer/data/wiki/analysis/'\n",
    "barcodes = pickle.load(open(f\"{path_analysis}/barcode_volume_weights.pickle\",'rb'))"
   ]
  },
  {
   "cell_type": "markdown",
   "metadata": {},
   "source": [
    "## Compute regression"
   ]
  },
  {
   "cell_type": "code",
   "execution_count": null,
   "metadata": {},
   "outputs": [],
   "source": [
    "import scipy as sp\n",
    "import scipy.stats\n",
    "\n",
    "for topic in ['anatomy']:\n",
    "    data = barcodes[(barcodes.topic==topic) & (barcodes.type=='real') & \n",
    "                    (barcodes.lifetime!=np.inf) & (barcodes.lifetime!=0)].dropna()\n",
    "    x = data['mean edge weights'].values\n",
    "    y = data['lifetime'].values\n",
    "    r, p = sp.stats.pearsonr(x, y) if len(data['lifetime'])>2 else (0,0)"
   ]
  },
  {
   "cell_type": "markdown",
   "metadata": {},
   "source": [
    "## Plot"
   ]
  },
  {
   "cell_type": "code",
   "execution_count": null,
   "metadata": {},
   "outputs": [],
   "source": [
    "path_plot = '2 cavity weights'\n",
    "\n",
    "if not os.path.exists(os.path.join(path_fig, path_plot)):\n",
    "    os.mkdir(os.path.join(path_fig, path_plot))"
   ]
  },
  {
   "cell_type": "code",
   "execution_count": null,
   "metadata": {
    "scrolled": true
   },
   "outputs": [],
   "source": [
    "import scipy as sp\n",
    "import scipy.stats\n",
    "\n",
    "for topic in pd.unique(barcodes.topic):\n",
    "    data = barcodes[(barcodes.topic==topic) & (barcodes.type=='real') & \n",
    "                    (barcodes.lifetime!=np.inf) & (barcodes.lifetime!=0)].dropna()\n",
    "    x = data['mean edge weights'].values\n",
    "    y = data['lifetime'].values\n",
    "    r, p = sp.stats.pearsonr(x, y)\n",
    "    a, b, _, _, _ = sp.stats.linregress(x, y)\n",
    "    fig = go.Figure()\n",
    "    fig.add_trace(go.Scatter(x=x, y=y,\n",
    "                             mode='markers',\n",
    "                             marker={'size': 4},\n",
    "                             showlegend=False))\n",
    "    fig.add_trace(go.Scatter(x=np.linspace(np.min(x),np.max(x)),\n",
    "                             y=a*np.linspace(np.min(x),np.max(x))+b,\n",
    "                             mode='lines',\n",
    "                             showlegend=False))\n",
    "    fig.update_layout(template='plotly_white',\n",
    "                      title_text=f\"{topic} (r={r:.2f}, p={p:0.1e})\",\n",
    "                      xaxis={'title': 'average weights'},\n",
    "                      yaxis={'title': 'lifetime'})\n",
    "    fig.show()\n",
    "    fig.write_image(os.path.join(path_fig, path_plot, f\"{topic}.pdf\"))"
   ]
  }
 ],
 "metadata": {
  "kernelspec": {
   "display_name": "Python 3",
   "language": "python",
   "name": "python3"
  },
  "language_info": {
   "codemirror_mode": {
    "name": "ipython",
    "version": 3
   },
   "file_extension": ".py",
   "mimetype": "text/x-python",
   "name": "python",
   "nbconvert_exporter": "python",
   "pygments_lexer": "ipython3",
   "version": "3.7.6"
  },
  "toc": {
   "base_numbering": 1,
   "nav_menu": {},
   "number_sections": true,
   "sideBar": true,
   "skip_h1_title": false,
   "title_cell": "Table of Contents",
   "title_sidebar": "Contents",
   "toc_cell": false,
   "toc_position": {
    "height": "calc(100% - 180px)",
    "left": "10px",
    "top": "150px",
    "width": "265.188px"
   },
   "toc_section_display": true,
   "toc_window_display": true
  }
 },
 "nbformat": 4,
 "nbformat_minor": 2
}
