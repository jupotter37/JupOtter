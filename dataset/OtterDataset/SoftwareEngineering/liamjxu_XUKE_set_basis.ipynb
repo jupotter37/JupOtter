{
 "cells": [
  {
   "cell_type": "code",
   "execution_count": 28,
   "metadata": {},
   "outputs": [],
   "source": [
    "from sentence_transformers import SentenceTransformer\n",
    "import json"
   ]
  },
  {
   "cell_type": "code",
   "execution_count": 40,
   "metadata": {},
   "outputs": [
    {
     "data": {
      "text/plain": [
       "16"
      ]
     },
     "execution_count": 40,
     "metadata": {},
     "output_type": "execute_result"
    }
   ],
   "source": [
    "kw_raw_text = \"\"\"\n",
    "Computer Architecture\n",
    "Compilers\n",
    "Parallel Computing\n",
    "Artificial Intelligence\n",
    "Machine Learning\n",
    "Bioinformatics\n",
    "Computational Biology\n",
    "Databases\n",
    "Data Mining\n",
    "Information Retrieval\n",
    "Interactive Computing\n",
    "Programming Languages\n",
    "Formal Methods\n",
    "Software Engineering\n",
    "Scientific Computing\n",
    "Computer Security and Privacy\n",
    "\"\"\"\n",
    "\n",
    "kw_list = kw_raw_text.split('\\n')[1:-1]\n",
    "kw_list\n",
    "len(kw_list)"
   ]
  },
  {
   "cell_type": "code",
   "execution_count": 37,
   "metadata": {},
   "outputs": [
    {
     "data": {
      "text/plain": [
       "40"
      ]
     },
     "execution_count": 37,
     "metadata": {},
     "output_type": "execute_result"
    }
   ],
   "source": [
    "kw_raw_text = 'Artificial Intelligence; Computation and Language; Computational Complexity; Computational Engineering, Finance, and Science; Computational Geometry; Computer Science and Game Theory; Computer Vision and Pattern Recognition; Computers and Society; Cryptography and Security; Data Structures and Algorithms; Databases; Digital Libraries; Discrete Mathematics; Distributed, Parallel, and Cluster Computing; Emerging Technologies; Formal Languages and Automata Theory; General Literature; Graphics; Hardware Architecture; Human-Computer Interaction; Information Retrieval; Information Theory; Logic in Computer Science; Machine Learning; Mathematical Software; Multiagent Systems; Multimedia; Networking and Internet Architecture; Neural and Evolutionary Computing; Numerical Analysis; Operating Systems; Other Computer Science; Performance; Programming Languages; Robotics; Social and Information Networks; Software Engineering; Sound; Symbolic Computation; Systems and Control'\n",
    "\n",
    "kw_raw_text = kw_raw_text.split('; ')\n",
    "kw_list = kw_raw_text\n",
    "len(kw_list)"
   ]
  },
  {
   "cell_type": "code",
   "execution_count": 41,
   "metadata": {},
   "outputs": [
    {
     "name": "stdout",
     "output_type": "stream",
     "text": [
      "(16, 768)\n"
     ]
    }
   ],
   "source": [
    "model_name = 'distilbert-base-nli-mean-tokens'\n",
    "model = SentenceTransformer(model_name)\n",
    "kw_emb = model.encode(kw_list)\n",
    "print(kw_emb.shape)"
   ]
  },
  {
   "cell_type": "code",
   "execution_count": 42,
   "metadata": {},
   "outputs": [
    {
     "name": "stdout",
     "output_type": "stream",
     "text": [
      "(16, 768)\n",
      "16\n"
     ]
    }
   ],
   "source": [
    "with open('./resources/basis.json', 'w') as f:\n",
    "    json.dump(kw_emb.tolist(), f)\n",
    "    print(kw_emb.shape)\n",
    "with open('./resources/basis_words.json', 'w') as f:\n",
    "    json.dump(kw_list, f)\n",
    "    print(len(kw_list))"
   ]
  },
  {
   "cell_type": "code",
   "execution_count": null,
   "metadata": {},
   "outputs": [],
   "source": []
  }
 ],
 "metadata": {
  "kernelspec": {
   "display_name": "Python 3",
   "language": "python",
   "name": "python3"
  },
  "language_info": {
   "codemirror_mode": {
    "name": "ipython",
    "version": 3
   },
   "file_extension": ".py",
   "mimetype": "text/x-python",
   "name": "python",
   "nbconvert_exporter": "python",
   "pygments_lexer": "ipython3",
   "version": "3.8.3"
  }
 },
 "nbformat": 4,
 "nbformat_minor": 4
}
