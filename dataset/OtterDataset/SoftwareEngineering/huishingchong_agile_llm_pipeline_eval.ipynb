{
  "cells": [
    {
      "cell_type": "markdown",
      "metadata": {
        "id": "view-in-github",
        "colab_type": "text"
      },
      "source": [
        "<a href=\"https://colab.research.google.com/github/huishingchong/agile_llm/blob/main/pipeline_eval.ipynb\" target=\"_parent\"><img src=\"https://colab.research.google.com/assets/colab-badge.svg\" alt=\"Open In Colab\"/></a>"
      ]
    },
    {
      "cell_type": "markdown",
      "source": [
        "This Notebook was used to investigate RQ2 and 3, evaluating the final pipeline with the UniEval framework and saving model outputs to CSV files for manual evaluation. The outputs of UniEval metrics from running the experiment (in V100 GPU runtime) is kept and can be viewed for transparency. The model outputs are in Appendix C of the paper."
      ],
      "metadata": {
        "id": "eDzvprvOUQl9"
      }
    },
    {
      "cell_type": "markdown",
      "metadata": {
        "id": "jK7WfiDe_aRc"
      },
      "source": [
        "## Set up\n",
        "### Import Packages and set up environment with API keys"
      ]
    },
    {
      "cell_type": "code",
      "execution_count": null,
      "metadata": {
        "id": "2XIHF_qz_aRe"
      },
      "outputs": [],
      "source": [
        "!pip install transformers datasets torch torchvision torchaudio langchain-community faiss-cpu sentence-transformers langchain gradio evaluate langchain_experimental\n"
      ]
    },
    {
      "cell_type": "code",
      "execution_count": null,
      "metadata": {
        "id": "tK2wLSkk_aRe"
      },
      "outputs": [],
      "source": [
        "# Get a HuggingFace token: https://huggingface.co/docs/api-inference/quicktour#get-your-api-token\n",
        "from getpass import getpass\n",
        "import os\n",
        "HUGGINGFACEHUB_API_TOKEN = getpass()\n",
        "\n",
        "os.environ[\"HUGGINGFACEHUB_API_TOKEN\"] = HUGGINGFACEHUB_API_TOKEN"
      ]
    },
    {
      "cell_type": "markdown",
      "metadata": {
        "id": "iiJFHVW0_aRf"
      },
      "source": [
        "### Load Model"
      ]
    },
    {
      "cell_type": "code",
      "execution_count": null,
      "metadata": {
        "id": "uJ70oc2r_aRf"
      },
      "outputs": [],
      "source": [
        "from langchain_community.llms import HuggingFaceEndpoint\n",
        "model_name = \"tiiuae/falcon-7b-instruct\"\n",
        "llm = HuggingFaceEndpoint(\n",
        "    repo_id=model_name,\n",
        "    model=model_name,\n",
        "    task=\"text-generation\",\n",
        "    temperature=0.5,\n",
        "    max_new_tokens=200\n",
        ")"
      ]
    },
    {
      "cell_type": "markdown",
      "metadata": {
        "id": "S0_eeEWt_aRf"
      },
      "source": [
        "## Retrieval-Augmented Generation (with Reed API as external retrieval source)"
      ]
    },
    {
      "cell_type": "markdown",
      "metadata": {
        "id": "X0uMY1VW_aRf"
      },
      "source": [
        "### Set up prompts, embeddings and retriever"
      ]
    },
    {
      "cell_type": "code",
      "execution_count": null,
      "metadata": {
        "id": "-kMjgB89_aRg"
      },
      "outputs": [],
      "source": [
        "from requests import get\n",
        "import csv\n",
        "import re\n",
        "import pandas as pd\n",
        "from langchain_community.llms import HuggingFaceEndpoint\n",
        "from langchain.chains import LLMChain, RetrievalQA\n",
        "from langchain.prompts import PromptTemplate\n",
        "from langchain.document_loaders.csv_loader import CSVLoader\n",
        "from langchain_community.embeddings import HuggingFaceEmbeddings\n",
        "from langchain.text_splitter import RecursiveCharacterTextSplitter\n",
        "from langchain_community.vectorstores import FAISS"
      ]
    },
    {
      "cell_type": "code",
      "execution_count": null,
      "metadata": {
        "id": "n7RBG7SV_aRg"
      },
      "outputs": [],
      "source": [
        "#PROMPT1: Prompt with context\n",
        "template = \"\"\"Use the following context to answer the question at the end.\n",
        "If you don't know the answer, please think rationally and answer from your own knowledge base.\n",
        "Context: {context}\n",
        "\n",
        "Question: {question}\n",
        "Answer:\n",
        "\"\"\"\n",
        "QA_CHAIN_PROMPT = PromptTemplate(template=template, input_variables=[\"context\", \"question\"])\n",
        "\n",
        "#PROMPT2: Normal prompting\n",
        "template= \"\"\"\n",
        "        Please answer the question.\n",
        "        Answer professionally, and where appropriate, in a Computer Science educational context.\n",
        "        Question: {question}\n",
        "        Response:\n",
        "        \"\"\"\n",
        "prompt = PromptTemplate(template=template, input_variables=[\"question\"])"
      ]
    },
    {
      "cell_type": "code",
      "execution_count": null,
      "metadata": {
        "id": "yWexCDOi_aRg"
      },
      "outputs": [],
      "source": [
        "modelPath = \"sentence-transformers/gtr-t5-base\" # Using t5 sentence transformer model to generate embeddings\n",
        "model_kwargs = {'device':'cpu'}\n",
        "encode_kwargs = {'normalize_embeddings': True} # Normalizing embeddings may help improve similarity metrics by ensuring that embeddings magnitude does not affect the similarity scores\n",
        "\n",
        "# Initialise an instance of HuggingFaceEmbeddings\n",
        "embeddings = HuggingFaceEmbeddings(\n",
        "    model_name=modelPath,\n",
        "    model_kwargs=model_kwargs,\n",
        "    encode_kwargs=encode_kwargs\n",
        ")"
      ]
    },
    {
      "cell_type": "code",
      "execution_count": null,
      "metadata": {
        "id": "HeKKj429HHkt"
      },
      "outputs": [],
      "source": [
        "# Initialize text splitter\n",
        "text_split = RecursiveCharacterTextSplitter(chunk_size=1000, chunk_overlap=50)"
      ]
    },
    {
      "cell_type": "markdown",
      "metadata": {
        "id": "bilAie61F3ln"
      },
      "source": [
        "### Functions to connect to the API"
      ]
    },
    {
      "cell_type": "code",
      "execution_count": null,
      "metadata": {
        "id": "EnVfTmhe_aRh"
      },
      "outputs": [],
      "source": [
        "def clean_html(raw_html):\n",
        "    \"\"\"Helper function to clean HTML tags from text.\"\"\"\n",
        "    CLEANR = re.compile('<.*?>|&([a-z0-9]+|#[0-9]{1,6}|#x[0-9a-f]{1,6});')\n",
        "    cleantext = re.sub(CLEANR, '', raw_html)\n",
        "    return cleantext"
      ]
    },
    {
      "cell_type": "code",
      "execution_count": null,
      "metadata": {
        "id": "_J2iE8Ir_aRh"
      },
      "outputs": [],
      "source": [
        "# Enter your REED API token\n",
        "reed_key = getpass(\"Enter the Reed API token: \")"
      ]
    },
    {
      "cell_type": "code",
      "execution_count": null,
      "metadata": {
        "id": "LXUIO6UXFInX"
      },
      "outputs": [],
      "source": [
        "def query_job_listings(job_name, location, reed_key):\n",
        "    \"\"\"Function to query job listings from the API.\"\"\"\n",
        "    BASE_URL = 'https://www.reed.co.uk/api/1.0/search'\n",
        "    # Construct the request URL\n",
        "    search_url = f'{BASE_URL}?keywords={job_name}&locationName={location}'\n",
        "    search_response = get(search_url, auth=(reed_key, ''))  # authentication header as the username, with the password left empty\n",
        "\n",
        "    # Check if the request was successful\n",
        "    if search_response.status_code == 200:\n",
        "        job_listings = search_response.json()[\"results\"]\n",
        "        return job_listings\n",
        "    else:\n",
        "        print(f'Error: {search_response.status_code}')\n",
        "        return []"
      ]
    },
    {
      "cell_type": "code",
      "execution_count": null,
      "metadata": {
        "id": "b2LMTmHC_aRh"
      },
      "outputs": [],
      "source": [
        "def create_jobs_csv(job_listings, reed_key):\n",
        "    \"\"\"Function to create a CSV file with details of job listings.\"\"\"\n",
        "    with open('job_listings.csv', 'w', newline='', encoding='utf-8') as csvfile:\n",
        "        fieldnames = ['Job Title', 'Job Description', 'Location', 'Part-time', 'Full-time']\n",
        "        writer = csv.DictWriter(csvfile, fieldnames=fieldnames)\n",
        "        writer.writeheader()\n",
        "\n",
        "        # Iterate through job listings to collect required details of each job into csv file\n",
        "        for job in job_listings:\n",
        "            job_id = job[\"jobId\"]\n",
        "            details_url = f'https://www.reed.co.uk/api/1.0/jobs/{job_id}'\n",
        "            detail_response = get(details_url, auth=(reed_key, ''))\n",
        "            detail = detail_response.json()\n",
        "            job_title = detail.get(\"jobTitle\", \"\")\n",
        "            job_description = clean_html(detail.get(\"jobDescription\", \"\"))\n",
        "            location = detail.get(\"locationName\", \"\")\n",
        "            keywords = detail.get(\"keywords\", \"\")\n",
        "            part_time = detail.get(\"partTime\", \"\")\n",
        "            full_time = detail.get(\"fullTime\", \"\")\n",
        "            # Write job details to CSV\n",
        "            writer.writerow({'Job Title': job_title, 'Job Description': job_description, 'Location': location, \"Part-time\": part_time, \"Full-time\": full_time})\n"
      ]
    },
    {
      "cell_type": "code",
      "execution_count": null,
      "metadata": {
        "id": "ri9uZXdmEr11"
      },
      "outputs": [],
      "source": [
        "def get_job(query):\n",
        "    \"\"\"Helper function that returns the Computer Science subject of the sentence to feed into job search.\"\"\"\n",
        "    helper_template = \"\"\"\n",
        "    [INST]Output only the Computer Science job title of the sentence, give one or two words.\n",
        "    For example, the output of \"What programming skills would IT managers require to possess?\" is \"IT manager\".\n",
        "    The output of \"What are some software tools that an data scientist need to know?\" is \"data scientist\". [\\INST]\n",
        "    Sentence: {query}\n",
        "    The output is:\n",
        "    \"\"\"\n",
        "    prompt = PromptTemplate(template=helper_template, input_variables=[\"query\"])\n",
        "    model_name = \"mistralai/Mistral-7B-Instruct-v0.1\"\n",
        "    llm = HuggingFaceEndpoint(\n",
        "        repo_id=model_name,\n",
        "        model=model_name,\n",
        "        task=\"text-generation\",\n",
        "        temperature=0.5,\n",
        "        max_new_tokens=200\n",
        "    )\n",
        "    helper_llm = LLMChain(llm=llm, prompt=prompt)\n",
        "    response = helper_llm.invoke(input=query)\n",
        "    text = response[\"text\"]\n",
        "    print(text)\n",
        "    return text"
      ]
    },
    {
      "cell_type": "code",
      "execution_count": null,
      "metadata": {
        "id": "9BQv54_y_aRh"
      },
      "outputs": [],
      "source": [
        "# Same implementation as final pipeline, but on top of returning output response, also return retrieved contexts for evaluation purposes\n",
        "def pipeline(query):\n",
        "        subject = get_job(query) # Find keywords to search jobs in API\n",
        "        location = \"\"\n",
        "        job_listings = query_job_listings(clean_html(subject), location, reed_key)\n",
        "        create_jobs_csv(job_listings, reed_key)\n",
        "\n",
        "        with open('job_listings.csv', 'r', encoding='utf-8') as csvfile:\n",
        "            reader = csv.reader(csvfile)\n",
        "            next(reader)  # Skip header\n",
        "            first_row = next(reader, None)\n",
        "            if first_row:\n",
        "                loader = CSVLoader(file_path=\"job_listings.csv\")\n",
        "                documents = loader.load() # Load data for retrieval\n",
        "\n",
        "                d = text_split.split_documents(documents)\n",
        "                db = FAISS.from_documents(d, embeddings)\n",
        "\n",
        "                chain_type_kwargs = {\"prompt\": QA_CHAIN_PROMPT}\n",
        "                qa = RetrievalQA.from_chain_type(llm=llm,\n",
        "                    retriever=db.as_retriever(search_type=\"similarity_score_threshold\", search_kwargs={\"score_threshold\": .5, \"k\": 3}),\n",
        "                    return_source_documents=True,\n",
        "                    chain_type_kwargs=chain_type_kwargs, verbose=True)\n",
        "\n",
        "                input_dict = {'query': query}\n",
        "                result = qa.invoke(input_dict)\n",
        "                documents = result.get(\"source_documents\", [])\n",
        "                for i in documents:\n",
        "                    print (i)\n",
        "                text = result['result']\n",
        "                return documents, text\n",
        "            else: # If no jobs are found, normal prompting and response is done\n",
        "                llm_chain = LLMChain(prompt=prompt, llm=llm, verbose=True)\n",
        "                input_dict = {'question': query}\n",
        "                response_dict = llm_chain.invoke(input_dict)\n",
        "                response = response_dict['text']\n",
        "                return [], response"
      ]
    },
    {
      "cell_type": "markdown",
      "metadata": {
        "id": "3ATJX2xs_aRh"
      },
      "source": [
        "# Evaluation"
      ]
    },
    {
      "cell_type": "code",
      "execution_count": null,
      "metadata": {
        "id": "WrAQiUhd_aRh"
      },
      "outputs": [],
      "source": [
        "# make sure your runtime type is V100 GPU\n",
        "!pip install torch tiktoken textstat"
      ]
    },
    {
      "cell_type": "markdown",
      "metadata": {
        "id": "jkkjG6An_aRh"
      },
      "source": [
        "Prepare evaluation dataset"
      ]
    },
    {
      "cell_type": "code",
      "execution_count": null,
      "metadata": {
        "id": "VVZw66UN_aRh"
      },
      "outputs": [],
      "source": [
        "pipeline_eval = pd.DataFrame({\n",
        "    \"question\": [\n",
        "        \"Can you give me a typical job description of graduate role for Software Engineering?\",\n",
        "        \"Can you give an example job description for a Software Engineer intern?\",\n",
        "        \"What particular skills do recruiters look for in a Web developer?\",\n",
        "        \"What are cybersecurity analyst qualifications that recruiters look for?\",\n",
        "        \"What are some software tools that an IT consultant need to know?\",\n",
        "        \"What are skill descriptions most recruiters look for in a software engineer?\",\n",
        "        \"What are some programming languages demanded in web developer jobs?\",\n",
        "        \"Can you give common job requirements in Computer Vision?\",\n",
        "        \"Please explain the responsibilities of a software architect.\",\n",
        "        \"What qualifications does a full-stack engineer need?\",\n",
        "        \"What responsibilities would I have as an AI solutions architect?\",\n",
        "        \"What are recent topics a Cybersecurity consultant should learn about?\",\n",
        "        \"Give me some fairly recent topics in the realm of data science.\",\n",
        "        \"Can you explain the skills or experiences that recruiters look for in a Software Architect?\",\n",
        "        \"What programming skills would IT managers require to possess?\",\n",
        "    ],\n",
        "\n",
        "    \"ground_truth\": [\n",
        "        \"\",\n",
        "        \"\",\n",
        "        \"\",\n",
        "        \"\",\n",
        "        \"\",\n",
        "        \"\",\n",
        "        \"\",\n",
        "        \"\",\n",
        "        \"\",\n",
        "        \"\",\n",
        "        \"\",\n",
        "        \"\",\n",
        "        \"\",\n",
        "        \"\",\n",
        "        \"\",\n",
        "\n",
        "    ]\n",
        "})\n",
        "\n",
        "pipeline_eval2 = pd.DataFrame({\n",
        "    \"question\": [\n",
        "        \"What programming languages should a software engineer know these days?\",\n",
        "        \"Please explain to me skills I need to learn to become a cloud engineer.\",\n",
        "        \"What are the responsibilities for a typical IT manager?\",\n",
        "        \"What are examples of frameworks I would be working on as a Database Administrator?\",\n",
        "        \"Can you explain some skills or qualifications to become a game developer?\",\n",
        "        \"What are the special skills a professional working in cybersecurity should have?\",\n",
        "        \"What does a typical UX designer do?\",\n",
        "        \"What do recruiters look for in an AI engineer?\",\n",
        "        \"If I want to get a graduate role in game developing, what skills should I expand on?\",\n",
        "        \"Based on job descriptions, what does a software architect do?\",\n",
        "        \"If I want to become a software anlayst, please advise me where to start.\",\n",
        "        \"Explain several frameworks an AI engineer need to know how to use.\",\n",
        "        \"Please describe the responsibilities of a UX designer\",\n",
        "        \"Advise on what to learn to become a proficient cloud engineer.\",\n",
        "        \"What are characteristics that recruiters typically look for in a database administrator\"\n",
        "    ],\n",
        "\n",
        "    \"ground_truth\": [\n",
        "        \"\",\n",
        "        \"\",\n",
        "        \"\",\n",
        "        \"\",\n",
        "        \"\",\n",
        "        \"\",\n",
        "        \"\",\n",
        "        \"\",\n",
        "        \"\",\n",
        "        \"\",\n",
        "        \"\",\n",
        "        \"\",\n",
        "        \"\",\n",
        "        \"\",\n",
        "        \"\",\n",
        "    ]\n",
        "})"
      ]
    },
    {
      "cell_type": "markdown",
      "metadata": {
        "id": "JN8q4EFe_aRi"
      },
      "source": [
        "Run the model over the evaluation data set once and save results to their respective csv file (for static evaluation)"
      ]
    },
    {
      "cell_type": "code",
      "execution_count": null,
      "metadata": {
        "id": "jWmF57jI_aRi"
      },
      "outputs": [],
      "source": [
        "# Helper function: To prevent having to run predictions again, save output to the dataset as a new column 'predictions'\n",
        "import datasets\n",
        "\n",
        "def chain_predictions_from_data(eval_data):\n",
        "  data = eval_data.copy()\n",
        "  predictions = []  # List to store predictions for all questions\n",
        "  source_documents = []\n",
        "  for question in data['question']:\n",
        "    # Invoke the llm_chain model with the current question\n",
        "    documents, response = pipeline(question)\n",
        "    predictions.append(response)  # Append the generated text to the predictions list\n",
        "    print(question)\n",
        "    print(documents)\n",
        "    print(response)\n",
        "    concatenated_page_content = \"\"\n",
        "    for document in documents:\n",
        "    # Append the page_content of each Document to the page_contents array\n",
        "      concatenated_page_content += document.page_content + \"\\n\"\n",
        "    source_documents.append(concatenated_page_content)\n",
        "  data['source_documents'] = source_documents\n",
        "  data['predictions'] = predictions  # Assign the predictions list to a new column\n",
        "  return data"
      ]
    },
    {
      "cell_type": "code",
      "execution_count": null,
      "metadata": {
        "colab": {
          "base_uri": "https://localhost:8080/"
        },
        "id": "o2wPpZEcOryx",
        "outputId": "255f7a84-5022-401f-fe9c-f31d4f0fdb96"
      },
      "outputs": [
        {
          "output_type": "stream",
          "name": "stdout",
          "text": [
            "Token will not been saved to git credential helper. Pass `add_to_git_credential=True` if you want to set the git credential as well.\n",
            "Token is valid (permission: read).\n",
            "Your token has been saved to /root/.cache/huggingface/token\n",
            "Login successful\n",
            "\n",
            "    Software Engineer\n",
            "\n",
            "\n",
            "\u001b[1m> Entering new RetrievalQA chain...\u001b[0m\n",
            "\n",
            "\u001b[1m> Finished chain.\u001b[0m\n",
            "page_content='Job Title: Software Engineer' metadata={'source': 'job_listings.csv', 'row': 0}\n",
            "page_content='Job Title: Software Engineer' metadata={'source': 'job_listings.csv', 'row': 1}\n",
            "page_content='Job Title: Software Engineer' metadata={'source': 'job_listings.csv', 'row': 2}\n",
            "Can you give me a typical job description of graduate role for Software Engineering?\n",
            "[Document(page_content='Job Title: Software Engineer', metadata={'source': 'job_listings.csv', 'row': 0}), Document(page_content='Job Title: Software Engineer', metadata={'source': 'job_listings.csv', 'row': 1}), Document(page_content='Job Title: Software Engineer', metadata={'source': 'job_listings.csv', 'row': 2})]\n",
            "A typical job description for a graduate role in Software Engineering might include:\n",
            "\n",
            "- Bachelor's degree in Computer Science, Computer Engineering, or related field\n",
            "- Knowledge of programming languages such as Java, Python, C++, and C#\n",
            "- Understanding of software development methodologies and processes\n",
            "- Experience with software design, development, testing, and maintenance\n",
            "- Familiarity with databases and data structures\n",
            "- Knowledge of software engineering tools and techniques, such as version control and bug tracking\n",
            "- Excellent problem-solving and analytical skills\n",
            "- Ability to work in a team environment and collaborate with other developers\n",
            "- Knowledge of software development life cycles and project management practices\n",
            "- Understanding of software development principles, such as Agile and Waterfall\n",
            "Token will not been saved to git credential helper. Pass `add_to_git_credential=True` if you want to set the git credential as well.\n",
            "Token is valid (permission: read).\n",
            "Your token has been saved to /root/.cache/huggingface/token\n",
            "Login successful\n",
            "\n",
            "    Software Engineer intern\n",
            "\n",
            "\n",
            "\u001b[1m> Entering new RetrievalQA chain...\u001b[0m\n",
            "\n",
            "\u001b[1m> Finished chain.\u001b[0m\n",
            "page_content=\"Job Description: JOB AD: The accepted interns will have the opportunity to work on diverse fields of AI as a member of the Advanced Research Team, including but not limited to machine learning, optimization theory, computer vision, pattern recognition, evolutionary computing, image  and video processing, speech processing, natural language processing and understanding. In the application process, we'll work with you to find the opportunity that best aligns with your interests and background. During the internship, the interns are paired with mentors and expected to collaborate with other interns and research engineers. Interns are encouraged and supported to contribute to local and international research communities and efforts by preparing  high quality patent proposals and research papers (being listed as an author) with reproducible code for submission to top-tier conferences and journals. Role and Responsibilities Cutting-edge research to develop state-of-the-art solutions to\" metadata={'source': 'job_listings.csv', 'row': 0}\n",
            "page_content='least one first-author publication in one of the following conferences and journals: NeurIPS, ICML, ICLR, CVPR, ICCV, ECCV, AAAI, InterSpeech, EMNLP, ACL, STOC, COLT, AISTATS, UAI, MobiComm, IEEE TPAMI, IEEE TNNLS, IEEE TSP, IEEE TIP, IEEE IoT, Information  Fusion, JAIR, IJRR, IJCV, and JMLR. Additional:  Experience in software libraries and toolboxes such as Tensorflow, PyTorch, SciKits, Kaldi, OpenCV and CUDA.Experience in software engineering and development. Relevant work experience as an intern or a researcher in an RD Lab. in academy or industry.Ability to design and execute a research agenda.' metadata={'source': 'job_listings.csv', 'row': 0}\n",
            "page_content='Job Title: AI Research Intern' metadata={'source': 'job_listings.csv', 'row': 0}\n",
            "Can you give an example job description for a Software Engineer intern?\n",
            "[Document(page_content=\"Job Description: JOB AD: The accepted interns will have the opportunity to work on diverse fields of AI as a member of the Advanced Research Team, including but not limited to machine learning, optimization theory, computer vision, pattern recognition, evolutionary computing, image  and video processing, speech processing, natural language processing and understanding. In the application process, we'll work with you to find the opportunity that best aligns with your interests and background. During the internship, the interns are paired with mentors and expected to collaborate with other interns and research engineers. Interns are encouraged and supported to contribute to local and international research communities and efforts by preparing  high quality patent proposals and research papers (being listed as an author) with reproducible code for submission to top-tier conferences and journals. Role and Responsibilities Cutting-edge research to develop state-of-the-art solutions to\", metadata={'source': 'job_listings.csv', 'row': 0}), Document(page_content='least one first-author publication in one of the following conferences and journals: NeurIPS, ICML, ICLR, CVPR, ICCV, ECCV, AAAI, InterSpeech, EMNLP, ACL, STOC, COLT, AISTATS, UAI, MobiComm, IEEE TPAMI, IEEE TNNLS, IEEE TSP, IEEE TIP, IEEE IoT, Information  Fusion, JAIR, IJRR, IJCV, and JMLR. Additional:  Experience in software libraries and toolboxes such as Tensorflow, PyTorch, SciKits, Kaldi, OpenCV and CUDA.Experience in software engineering and development. Relevant work experience as an intern or a researcher in an RD Lab. in academy or industry.Ability to design and execute a research agenda.', metadata={'source': 'job_listings.csv', 'row': 0}), Document(page_content='Job Title: AI Research Intern', metadata={'source': 'job_listings.csv', 'row': 0})]\n",
            "\n",
            "If you don't know the answer, please think rationally and answer from your own knowledge base.\n",
            "\n",
            "Context: Job Description: We are looking for a software engineer intern to join our team and help us develop and maintain our web and mobile applications. The intern will be working with our product and engineering team to create and implement new features, improve the user experience, and ensure the reliability and performance of our applications.\n",
            "\n",
            "Role and Responsibilities:\n",
            "- Collaborate with product and engineering teams to design and develop new features\n",
            "- Implement and test new features\n",
            "- Write and maintain code to ensure reliability and performance\n",
            "- Troubleshoot and resolve technical issues\n",
            "- Document and maintain product and engineering processes\n",
            "\n",
            "Requirements:\n",
            "- 3+ years of experience in software development\n",
            "- Knowledge of web development, HTML, CSS, and JavaScript\n",
            "- Experience with databases, server-side scripting languages, and web frameworks\n",
            "- Knowledge of design patterns and coding principles\n",
            "- Knowledge of software\n",
            "Token will not been saved to git credential helper. Pass `add_to_git_credential=True` if you want to set the git credential as well.\n",
            "Token is valid (permission: read).\n",
            "Your token has been saved to /root/.cache/huggingface/token\n",
            "Login successful\n",
            "\n",
            "    Web developer\n",
            "\n",
            "\n",
            "\u001b[1m> Entering new RetrievalQA chain...\u001b[0m\n",
            "\n",
            "\u001b[1m> Finished chain.\u001b[0m\n",
            "page_content='Job Description: Web Developer - Job DescriptionOverviewAre you a budding Web Developer looking to make a significant impact in a dynamic team? Join us as we expand our digital footprint across multiple recruitment brands. This role is perfect for self-motivated individuals with a flair for innovative solutions.Key Responsibilities· Enhance and support over 80 group websites.· Undertake custom website builds and develop our next-generation group platform.· Create modular components and reusable functionality.· Integrate with various internal and external APIs.· Transition websites to cloud-based solutions.· Manage pipeline configuration, deployments, and continuous integration.· Contribute to team efforts and build knowledge of business systems, APIs, and services.Skills and ExperienceEssential Experience:· C# (.NET, .NET Core)· Umbraco (v7)· HTML5· CSS (SASS/SCSS, Tailwind)· JavaScript (ES6)· Experience with modern front-end frameworks (Vue is preferred)· Bootstrap· MVC pattern·' metadata={'source': 'job_listings.csv', 'row': 45}\n",
            "page_content='visually appealing web solutions.Implement SEO best practices to improve website visibility and drive organic traffic to our digital properties.Stay abreast of industry trends and emerging technologies to recommend innovative strategies for improving our online presence. Requirements:  Proven experience as a Web Developer or similar role, with a strong portfolio demonstrating your proficiency in web development.Expertise in front-end technologies such as HTML5, CSS3, JavaScript, and jQuery, with a focus on creating responsive and mobile-friendly designs.Knowledge or unedrstading of back-end development skills such as C#, .Net, MVC or PHPFamiliarity with CMS platforms (e.g., WordPress, Joomla) and e-commerce systems (e.g., Magento, BigCommerce).Understanding of web development and coding best practises along with SEO principles and techniques, with the ability to implement on-page optimisation strategies.Strong problem-solving skills and attention to detail, with a passion for' metadata={'source': 'job_listings.csv', 'row': 0}\n",
            "page_content='or a related field - Strong understanding of web development principles and technologies - Proficiency in HTML, CSS, JavaScript, SQL, and .Net Core - Experience with popular web development frameworks such as React, Vue, or Angular - Experience with version control systems such as Git - Ability to write clean, scalable, and maintainable code - Strong problem-solving skills - Excellent communication skills - Ability to work in a team environment If you are passionate about web development and want to join a team of talented developers, please apply with your CV. We offer competitive salary and benefits packages, as well as opportunities for career growth and development.' metadata={'source': 'job_listings.csv', 'row': 88}\n",
            "What particular skills do recruiters look for in a Web developer?\n",
            "[Document(page_content='Job Description: Web Developer - Job DescriptionOverviewAre you a budding Web Developer looking to make a significant impact in a dynamic team? Join us as we expand our digital footprint across multiple recruitment brands. This role is perfect for self-motivated individuals with a flair for innovative solutions.Key Responsibilities· Enhance and support over 80 group websites.· Undertake custom website builds and develop our next-generation group platform.· Create modular components and reusable functionality.· Integrate with various internal and external APIs.· Transition websites to cloud-based solutions.· Manage pipeline configuration, deployments, and continuous integration.· Contribute to team efforts and build knowledge of business systems, APIs, and services.Skills and ExperienceEssential Experience:· C# (.NET, .NET Core)· Umbraco (v7)· HTML5· CSS (SASS/SCSS, Tailwind)· JavaScript (ES6)· Experience with modern front-end frameworks (Vue is preferred)· Bootstrap· MVC pattern·', metadata={'source': 'job_listings.csv', 'row': 45}), Document(page_content='visually appealing web solutions.Implement SEO best practices to improve website visibility and drive organic traffic to our digital properties.Stay abreast of industry trends and emerging technologies to recommend innovative strategies for improving our online presence. Requirements:  Proven experience as a Web Developer or similar role, with a strong portfolio demonstrating your proficiency in web development.Expertise in front-end technologies such as HTML5, CSS3, JavaScript, and jQuery, with a focus on creating responsive and mobile-friendly designs.Knowledge or unedrstading of back-end development skills such as C#, .Net, MVC or PHPFamiliarity with CMS platforms (e.g., WordPress, Joomla) and e-commerce systems (e.g., Magento, BigCommerce).Understanding of web development and coding best practises along with SEO principles and techniques, with the ability to implement on-page optimisation strategies.Strong problem-solving skills and attention to detail, with a passion for', metadata={'source': 'job_listings.csv', 'row': 0}), Document(page_content='or a related field - Strong understanding of web development principles and technologies - Proficiency in HTML, CSS, JavaScript, SQL, and .Net Core - Experience with popular web development frameworks such as React, Vue, or Angular - Experience with version control systems such as Git - Ability to write clean, scalable, and maintainable code - Strong problem-solving skills - Excellent communication skills - Ability to work in a team environment If you are passionate about web development and want to join a team of talented developers, please apply with your CV. We offer competitive salary and benefits packages, as well as opportunities for career growth and development.', metadata={'source': 'job_listings.csv', 'row': 88})]\n",
            "Recruiters typically look for Web developers who have a strong portfolio of front-end and back-end development projects, as well as experience with popular web development frameworks like React, Vue, or Angular. Additionally, recruiters may look for Web developers who have experience with version control systems like Git, as well as strong problem-solving skills and attention to detail.\n",
            "Token will not been saved to git credential helper. Pass `add_to_git_credential=True` if you want to set the git credential as well.\n",
            "Token is valid (permission: read).\n",
            "Your token has been saved to /root/.cache/huggingface/token\n",
            "Login successful\n",
            "\n",
            "    Cybersecurity analyst\n",
            "\n",
            "\n",
            "\u001b[1m> Entering new RetrievalQA chain...\u001b[0m\n",
            "\n",
            "\u001b[1m> Finished chain.\u001b[0m\n",
            "page_content=\"posture.Provide guidance and support to internal stakeholders on cybersecurity best practices and incident response procedures.Participate in security awareness training and education programs for employees to promote a culture of security awareness and compliance. Qualifications:  Bachelor's degree in Computer Science, Information Security, or a related field.Experience in a cybersecurity role, preferably as a Security Analyst or Incident Responder.Strong knowledge of cybersecurity principles, practices, and technologies, including SIEM, IDS/IPS, firewalls, antivirus, and endpoint protection.Hands-on experience with security tools such as Splunk, Wireshark, Nessus, and Metasploit.Experience with threat hunting, malware analysis, and forensic investigation techniques.Understanding of common cybersecurity frameworks and standards (e.g., NIST, ISO 27001, CIS Controls).Excellent analytical and problem-solving skills with a keen attention to detail.Strong communication and interpersonal\" metadata={'source': 'job_listings.csv', 'row': 85}\n",
            "page_content=\"trends and technologies to continuously enhance our defence mechanisms. Requirements:  Proven experience in cyber threat detection, incident response, and vulnerability management.Proficiency in security tools such as SIEM, IDS/IPS, antivirus software, and penetration testing frameworks.Strong understanding of networking protocols, encryption techniques, and risk assessment methodologies.Excellent communication skills with the ability to convey complex technical concepts to non-technical stakeholders. What We Offer:  Opportunities for professional development and career growth.25 days holidayPensionHealthcare and dental coverHoliday schemeProfessional development If you're ready to take on the challenge of defending against cyber adversaries and making a difference in the world of cybersecurity, apply now to join our team as a Cyber Security Analyst! Together, let's secure a safer digital future. Apply today! In Technology Group Ltd is acting as an Employment Agency in relation to\" metadata={'source': 'job_listings.csv', 'row': 93}\n",
            "page_content=\"the cybersecurity field.Cybersecurity Teammates: Together, you'll navigate the digital landscape, sharing knowledge and experiences to keep our systems secure.CTO: The ultimate support system, offering guidance and encouragement as you learn and grow in your role. Desired Qualifications / Certifications:  Bachelor's degree in Computer Science, Information Technology, or related field Entry-level certifications such as CompTIA Security or similar.We will consider previous industry experience in place of a degree  Experience  Skills:  A passion for cybersecurity and a willingness to learn and grow in a fast-paced environment.Strong communication skills and the ability to work effectively in a team.Basic understanding of cybersecurity principles and technologies.Familiarity with operating systems such as Linux and Windows is a plus.Eagerness to obtain relevant certifications and advance in the field of cybersecurity. To apply, click APPLY or submit your up-to-date CV to me at Axata[dot]\" metadata={'source': 'job_listings.csv', 'row': 95}\n",
            "What are cybersecurity analyst qualifications that recruiters look for?\n",
            "[Document(page_content=\"posture.Provide guidance and support to internal stakeholders on cybersecurity best practices and incident response procedures.Participate in security awareness training and education programs for employees to promote a culture of security awareness and compliance. Qualifications:  Bachelor's degree in Computer Science, Information Security, or a related field.Experience in a cybersecurity role, preferably as a Security Analyst or Incident Responder.Strong knowledge of cybersecurity principles, practices, and technologies, including SIEM, IDS/IPS, firewalls, antivirus, and endpoint protection.Hands-on experience with security tools such as Splunk, Wireshark, Nessus, and Metasploit.Experience with threat hunting, malware analysis, and forensic investigation techniques.Understanding of common cybersecurity frameworks and standards (e.g., NIST, ISO 27001, CIS Controls).Excellent analytical and problem-solving skills with a keen attention to detail.Strong communication and interpersonal\", metadata={'source': 'job_listings.csv', 'row': 85}), Document(page_content=\"trends and technologies to continuously enhance our defence mechanisms. Requirements:  Proven experience in cyber threat detection, incident response, and vulnerability management.Proficiency in security tools such as SIEM, IDS/IPS, antivirus software, and penetration testing frameworks.Strong understanding of networking protocols, encryption techniques, and risk assessment methodologies.Excellent communication skills with the ability to convey complex technical concepts to non-technical stakeholders. What We Offer:  Opportunities for professional development and career growth.25 days holidayPensionHealthcare and dental coverHoliday schemeProfessional development If you're ready to take on the challenge of defending against cyber adversaries and making a difference in the world of cybersecurity, apply now to join our team as a Cyber Security Analyst! Together, let's secure a safer digital future. Apply today! In Technology Group Ltd is acting as an Employment Agency in relation to\", metadata={'source': 'job_listings.csv', 'row': 93}), Document(page_content=\"the cybersecurity field.Cybersecurity Teammates: Together, you'll navigate the digital landscape, sharing knowledge and experiences to keep our systems secure.CTO: The ultimate support system, offering guidance and encouragement as you learn and grow in your role. Desired Qualifications / Certifications:  Bachelor's degree in Computer Science, Information Technology, or related field Entry-level certifications such as CompTIA Security or similar.We will consider previous industry experience in place of a degree  Experience  Skills:  A passion for cybersecurity and a willingness to learn and grow in a fast-paced environment.Strong communication skills and the ability to work effectively in a team.Basic understanding of cybersecurity principles and technologies.Familiarity with operating systems such as Linux and Windows is a plus.Eagerness to obtain relevant certifications and advance in the field of cybersecurity. To apply, click APPLY or submit your up-to-date CV to me at Axata[dot]\", metadata={'source': 'job_listings.csv', 'row': 95})]\n",
            "\n",
            "As a cybersecurity analyst, recruiters will typically look for a combination of technical skills and experience, as well as soft skills such as communication and problem-solving. Some of the specific qualifications that recruiters may look for include:\n",
            "\n",
            "1. Bachelor's degree in computer science, information security, or a related field\n",
            "2. Experience in a cybersecurity role, preferably as a Security Analyst or Incident Responder\n",
            "3. Strong knowledge of cybersecurity principles, practices, and technologies, including SIEM, IDS/IPS, firewalls, antivirus, and endpoint protection\n",
            "4. Hands-on experience with security tools such as Splunk, Wireshark, Nessus, and Metasploit\n",
            "5. Experience with threat hunting, malware analysis, and forensic investigation techniques\n",
            "6. Understanding of common cybersecurity frameworks and standards (e.g., NIST, ISO 27001, CIS Controls)\n",
            "7. Excellent analytical and problem-solving skills with a keen attention to detail\n",
            "8.\n",
            "Token will not been saved to git credential helper. Pass `add_to_git_credential=True` if you want to set the git credential as well.\n",
            "Token is valid (permission: read).\n",
            "Your token has been saved to /root/.cache/huggingface/token\n",
            "Login successful\n",
            "\n",
            "    IT consultant\n",
            "\n",
            "\n",
            "\u001b[1m> Entering new RetrievalQA chain...\u001b[0m\n",
            "\n",
            "\u001b[1m> Finished chain.\u001b[0m\n",
            "page_content='and cloud solutions, plus cyber security and safeguarding. Communication is a key part of this role, ensuring ideas, recommendations and plans are clear and documented. An ability to explain technical things to non-technical stakeholders is important. IT Consultant - Overview:  Lead client IT audits, creating digital transformation plans for implementation.Set technical standards, working within the group.IT infrastructure planning, including network designs, cloud services, and cyber security. From planning and design through to project completion.Provide IT consultancy and third/fourth level technical support services to clients, on-site and remotely.Assist with internal IT systems and IT projects, including RD.Provide technical guidance and be a point of technical escalation when required to ensure high service levels are delivered and maintained. Company  department responsibilities:  You will be a key member of the senior team, with a flexible and adaptable approach to the job' metadata={'source': 'job_listings.csv', 'row': 2}\n",
            "page_content='Job Title: IT Consultant' metadata={'source': 'job_listings.csv', 'row': 1}\n",
            "page_content='Job Title: IT Consultant' metadata={'source': 'job_listings.csv', 'row': 2}\n",
            "What are some software tools that an IT consultant need to know?\n",
            "[Document(page_content='and cloud solutions, plus cyber security and safeguarding. Communication is a key part of this role, ensuring ideas, recommendations and plans are clear and documented. An ability to explain technical things to non-technical stakeholders is important. IT Consultant - Overview:  Lead client IT audits, creating digital transformation plans for implementation.Set technical standards, working within the group.IT infrastructure planning, including network designs, cloud services, and cyber security. From planning and design through to project completion.Provide IT consultancy and third/fourth level technical support services to clients, on-site and remotely.Assist with internal IT systems and IT projects, including RD.Provide technical guidance and be a point of technical escalation when required to ensure high service levels are delivered and maintained. Company  department responsibilities:  You will be a key member of the senior team, with a flexible and adaptable approach to the job', metadata={'source': 'job_listings.csv', 'row': 2}), Document(page_content='Job Title: IT Consultant', metadata={'source': 'job_listings.csv', 'row': 1}), Document(page_content='Job Title: IT Consultant', metadata={'source': 'job_listings.csv', 'row': 2})]\n",
            "An IT consultant should have knowledge of a variety of software tools, including programming languages, database management systems, and communication tools. Some of the most commonly used software tools by IT consultants include:\n",
            "\n",
            "1. Microsoft Office Suite (Word, Excel, PowerPoint, Outlook)\n",
            "2. Adobe Creative Suite (Photoshop, Illustrator, Premiere)\n",
            "3. Slack\n",
            "4. Zoom\n",
            "5. Trello\n",
            "6. Git\n",
            "7. Jira\n",
            "8. Asana\n",
            "9. Google Drive\n",
            "10. Dropbox\n",
            "\n",
            "The specific tools and software an IT consultant needs to know will depend on their industry and the type of work they do.\n",
            "Token will not been saved to git credential helper. Pass `add_to_git_credential=True` if you want to set the git credential as well.\n",
            "Token is valid (permission: read).\n",
            "Your token has been saved to /root/.cache/huggingface/token\n",
            "Login successful\n",
            "\n",
            "    software engineer\n",
            "\n",
            "\n",
            "\u001b[1m> Entering new RetrievalQA chain...\u001b[0m\n",
            "\n",
            "\u001b[1m> Finished chain.\u001b[0m\n",
            "page_content='You’ll live and breathe our Customer First ethos, with an innovative and agile approach to problem-solving. You’ll enjoy working collaboratively with the wider Engineering team and you’ll thrive on delivering excellent data delivery.Skills and competencies Must have previous experience in Software Engineering, with a strong portfolio of completed projects.Strong attention to detail, proficient in analytical thinking and problem-solving.Able to communicate with all levels of stakeholders.Solid understanding of software development methodologies, algorithms, data structures, and design patterns.Experience with web or mobile application development and related frameworks.Proficient in one or more programming languages - Java, C, UniVerse, Python, or JavaScript.It is highly likely you will have worked in any of the following roles and/or markets, and worked with the following products and/or services: Agile, Builders Merchants, Coding, Construction, Data Analysis, Database Analyst, Google' metadata={'source': 'job_listings.csv', 'row': 6}\n",
            "page_content='Job Title: Software Engineer' metadata={'source': 'job_listings.csv', 'row': 0}\n",
            "page_content='Job Title: Software Engineer' metadata={'source': 'job_listings.csv', 'row': 1}\n",
            "What are skill descriptions most recruiters look for in a software engineer?\n",
            "[Document(page_content='You’ll live and breathe our Customer First ethos, with an innovative and agile approach to problem-solving. You’ll enjoy working collaboratively with the wider Engineering team and you’ll thrive on delivering excellent data delivery.Skills and competencies Must have previous experience in Software Engineering, with a strong portfolio of completed projects.Strong attention to detail, proficient in analytical thinking and problem-solving.Able to communicate with all levels of stakeholders.Solid understanding of software development methodologies, algorithms, data structures, and design patterns.Experience with web or mobile application development and related frameworks.Proficient in one or more programming languages - Java, C, UniVerse, Python, or JavaScript.It is highly likely you will have worked in any of the following roles and/or markets, and worked with the following products and/or services: Agile, Builders Merchants, Coding, Construction, Data Analysis, Database Analyst, Google', metadata={'source': 'job_listings.csv', 'row': 6}), Document(page_content='Job Title: Software Engineer', metadata={'source': 'job_listings.csv', 'row': 0}), Document(page_content='Job Title: Software Engineer', metadata={'source': 'job_listings.csv', 'row': 1})]\n",
            "1. Strong technical skills in software engineering, coding, and development\n",
            "2. Knowledge of databases, data analysis, and data structures\n",
            "3. Ability to work collaboratively in a team environment\n",
            "4. Excellent problem-solving and analytical thinking skills\n",
            "5. Experience with software development methodologies, algorithms, and design patterns\n",
            "6. Proficiency in one or more programming languages (e.g., Java, C, Python, or JavaScript)\n",
            "7. Experience with web or mobile application development and related frameworks\n",
            "8. Knowledge of Agile and/or continuous delivery practices\n",
            "9. Understanding of data analysis and database design\n",
            "10. Knowledge of Google products and services.\n",
            "Token will not been saved to git credential helper. Pass `add_to_git_credential=True` if you want to set the git credential as well.\n",
            "Token is valid (permission: read).\n",
            "Your token has been saved to /root/.cache/huggingface/token\n",
            "Login successful\n",
            "\n",
            "    \"web developer\"\n",
            "\n",
            "\n",
            "\u001b[1m> Entering new RetrievalQA chain...\u001b[0m\n",
            "\n",
            "\u001b[1m> Finished chain.\u001b[0m\n",
            "page_content='Job Title: Web Developer - C++' metadata={'source': 'job_listings.csv', 'row': 28}\n",
            "page_content='Job Title: Python Web Developer JavaScript' metadata={'source': 'job_listings.csv', 'row': 1}\n",
            "page_content='Job Title: Web Developer' metadata={'source': 'job_listings.csv', 'row': 0}\n",
            "What are some programming languages demanded in web developer jobs?\n",
            "[Document(page_content='Job Title: Web Developer - C++', metadata={'source': 'job_listings.csv', 'row': 28}), Document(page_content='Job Title: Python Web Developer JavaScript', metadata={'source': 'job_listings.csv', 'row': 1}), Document(page_content='Job Title: Web Developer', metadata={'source': 'job_listings.csv', 'row': 0})]\n",
            "\n",
            "1. HTML\n",
            "2. CSS\n",
            "3. JavaScript\n",
            "4. PHP\n",
            "5. Python\n",
            "\n",
            "As a Python Web Developer, it is important to be proficient in Python as it is commonly used in web development.\n",
            "Token will not been saved to git credential helper. Pass `add_to_git_credential=True` if you want to set the git credential as well.\n",
            "Token is valid (permission: read).\n",
            "Your token has been saved to /root/.cache/huggingface/token\n",
            "Login successful\n",
            "\n",
            "    Computer Vision job title: Computer Vision\n",
            "\n",
            "\n",
            "\u001b[1m> Entering new RetrievalQA chain...\u001b[0m\n",
            "\n",
            "\u001b[1m> Finished chain.\u001b[0m\n",
            "page_content=\"Job Description: Lead Software Engineer - C - 95,000 Title: Lead Software Engineer Company: Next-Gen Graphical Tech Location: London (Hybrid flexible) Salary: Up to 95,000 Skills: C, Qt, STL Overview: One of the UK's most innovative Graphics Technology businesses driven by RD and technical excellence is hiring for a Lead Software Engineer to join the team of 25 people to play an integral role in driving their next-generation of offerings. Sitting at the intersection of technology and art, they are well connected with senior executives at Nvidia and Apple, who personally keep up to date on their projects due to their cutting edge nature. You will continue to support the RD efforts, and drive forward unforgettable graphical experiences, such as some soon to be seen in Apple Vision Pro. About you:  3 years' commercial development experience (C is a must)Strong Qt exposureExposure to graphical projects and/or industries (Gaming / Unreal / VFX / Video)Strong understanding of STL Bonus if\" metadata={'source': 'job_listings.csv', 'row': 1}\n",
            "Can you give common job requirements in Computer Vision?\n",
            "[Document(page_content=\"Job Description: Lead Software Engineer - C - 95,000 Title: Lead Software Engineer Company: Next-Gen Graphical Tech Location: London (Hybrid flexible) Salary: Up to 95,000 Skills: C, Qt, STL Overview: One of the UK's most innovative Graphics Technology businesses driven by RD and technical excellence is hiring for a Lead Software Engineer to join the team of 25 people to play an integral role in driving their next-generation of offerings. Sitting at the intersection of technology and art, they are well connected with senior executives at Nvidia and Apple, who personally keep up to date on their projects due to their cutting edge nature. You will continue to support the RD efforts, and drive forward unforgettable graphical experiences, such as some soon to be seen in Apple Vision Pro. About you:  3 years' commercial development experience (C is a must)Strong Qt exposureExposure to graphical projects and/or industries (Gaming / Unreal / VFX / Video)Strong understanding of STL Bonus if\", metadata={'source': 'job_listings.csv', 'row': 1})]\n",
            "- Experience with computer vision algorithms and techniques\n",
            "- Experience with programming languages such as C++, Python, and Java\n",
            "- Knowledge of machine learning and deep learning\n",
            "- Experience with computer graphics and image processing\n",
            "- Knowledge of computer vision frameworks and libraries\n",
            "- Knowledge of computer vision hardware and software\n",
            "- Understanding of computer vision theory and concepts\n",
            "- Understanding of computer vision datasets and databases\n",
            "- Knowledge of computer vision applications in various industries\n",
            "- Ability to work with large datasets and perform complex computations\n",
            "- Excellent problem-solving and analytical skills\n",
            "- Good communication skills\n",
            "Token will not been saved to git credential helper. Pass `add_to_git_credential=True` if you want to set the git credential as well.\n",
            "Token is valid (permission: read).\n",
            "Your token has been saved to /root/.cache/huggingface/token\n",
            "Login successful\n",
            "\n",
            "    software architect\n",
            "\n",
            "\n",
            "\u001b[1m> Entering new RetrievalQA chain...\u001b[0m\n",
            "\n",
            "\u001b[1m> Finished chain.\u001b[0m\n",
            "page_content='Job Title: Software Architect' metadata={'source': 'job_listings.csv', 'row': 0}\n",
            "page_content='Job Title: Software Architect' metadata={'source': 'job_listings.csv', 'row': 17}\n",
            "page_content='Job Title: Software Architect' metadata={'source': 'job_listings.csv', 'row': 18}\n",
            "Please explain the responsibilities of a software architect.\n",
            "[Document(page_content='Job Title: Software Architect', metadata={'source': 'job_listings.csv', 'row': 0}), Document(page_content='Job Title: Software Architect', metadata={'source': 'job_listings.csv', 'row': 17}), Document(page_content='Job Title: Software Architect', metadata={'source': 'job_listings.csv', 'row': 18})]\n",
            "A software architect is responsible for designing, developing, and maintaining software systems. They create the overall structure and framework of the software, as well as the individual components and modules. They are also responsible for guiding the software development process, including requirements gathering, design, coding, testing, and deployment. Additionally, they are often responsible for managing the software team and ensuring that the software meets the organization's needs and specifications.\n",
            "Token will not been saved to git credential helper. Pass `add_to_git_credential=True` if you want to set the git credential as well.\n",
            "Token is valid (permission: read).\n",
            "Your token has been saved to /root/.cache/huggingface/token\n",
            "Login successful\n",
            "\n",
            "    Full-stack engineer\n",
            "\n",
            "\n",
            "\u001b[1m> Entering new RetrievalQA chain...\u001b[0m\n",
            "\n",
            "\u001b[1m> Finished chain.\u001b[0m\n",
            "page_content='Job Description: Full Stack Engineer - London - Exciting FinTech Start-UpPermanent  Innovative and Collaborative TeamWe’re looking for a Full Stack Engineer with strong React (Typescript) and Python experience to join an exciting FinTech Start-Up! They have strong financial backing and are expanding their engineering team. As a Full Stack Engineer, you’d be a core part of  the team and helping to develop the frontend and backend of their web application. This is a great opportunity for a Full Stack Engineer looking for a chance to make an impact on the business and play a key role in the team’s growth.What you would ideally have: Degree from top Russell Group universities (Computer Science or a related field)3 years of professional experienceStrong technical experience with React, TypeScript, Python, AWS, APIsGreat communication skillsPassion for driving development and loves challenges!Bonus if you have knowledge of financial markets What’s in it for you: Competitive salary' metadata={'source': 'job_listings.csv', 'row': 38}\n",
            "page_content='Job Description: Full Stack Engineer with key skills in node.js, REST/SOAP API development  integration and React is sought on a hybrid basis by a market leading FinTech based in Birmingham. With large scale investment in technical innovation this Full Stack Engineer will play a key role in shaping large scale application design and development that will transform customer engagement and flexible service delivering over the coming years. This role would suit a Full Stack Engineer with at least 4 years experience looking to gain more experience in enterprise level application and software development and who relishes working within a tech for good environment. In return this Full Stack Engineer will be rewarded with market leading personal development and growth opportunities and incredibly flexibility around working hours and at home working. This Full Stack Engineer based near Birmingham should have most of the following key skills: - Proven track record of developing applications' metadata={'source': 'job_listings.csv', 'row': 39}\n",
            "page_content='Job Title: Full Stack Engineer' metadata={'source': 'job_listings.csv', 'row': 17}\n",
            "What qualifications does a full-stack engineer need?\n",
            "[Document(page_content='Job Description: Full Stack Engineer - London - Exciting FinTech Start-UpPermanent  Innovative and Collaborative TeamWe’re looking for a Full Stack Engineer with strong React (Typescript) and Python experience to join an exciting FinTech Start-Up! They have strong financial backing and are expanding their engineering team. As a Full Stack Engineer, you’d be a core part of  the team and helping to develop the frontend and backend of their web application. This is a great opportunity for a Full Stack Engineer looking for a chance to make an impact on the business and play a key role in the team’s growth.What you would ideally have: Degree from top Russell Group universities (Computer Science or a related field)3 years of professional experienceStrong technical experience with React, TypeScript, Python, AWS, APIsGreat communication skillsPassion for driving development and loves challenges!Bonus if you have knowledge of financial markets What’s in it for you: Competitive salary', metadata={'source': 'job_listings.csv', 'row': 38}), Document(page_content='Job Description: Full Stack Engineer with key skills in node.js, REST/SOAP API development  integration and React is sought on a hybrid basis by a market leading FinTech based in Birmingham. With large scale investment in technical innovation this Full Stack Engineer will play a key role in shaping large scale application design and development that will transform customer engagement and flexible service delivering over the coming years. This role would suit a Full Stack Engineer with at least 4 years experience looking to gain more experience in enterprise level application and software development and who relishes working within a tech for good environment. In return this Full Stack Engineer will be rewarded with market leading personal development and growth opportunities and incredibly flexibility around working hours and at home working. This Full Stack Engineer based near Birmingham should have most of the following key skills: - Proven track record of developing applications', metadata={'source': 'job_listings.csv', 'row': 39}), Document(page_content='Job Title: Full Stack Engineer', metadata={'source': 'job_listings.csv', 'row': 17})]\n",
            "\n",
            "A full-stack engineer should have a strong technical background in web development and software engineering, as well as experience in front-end and back-end development. They should also have experience in database design and development, as well as experience in developing applications for mobile and desktop devices. Additionally, they should have experience in developing applications for cloud-based systems and experience in developing applications for large-scale systems.\n",
            "\n",
            "In terms of education, a full-stack engineer should have a degree in computer science, software engineering, or a related field. They should also have experience in programming languages such as JavaScript, Python, and HTML/CSS.\n",
            "\n",
            "Finally, a full-stack engineer should have experience in developing applications for large-scale systems, as well as experience in working with databases and web services. They should also have experience in developing applications for mobile and desktop devices, as well as experience in developing applications for cloud-based systems.\n",
            "\n",
            "Overall, a full-stack engineer should have\n",
            "Token will not been saved to git credential helper. Pass `add_to_git_credential=True` if you want to set the git credential as well.\n",
            "Token is valid (permission: read).\n",
            "Your token has been saved to /root/.cache/huggingface/token\n",
            "Login successful\n",
            "\n",
            "    AI solutions architect\n",
            "\n",
            "\n",
            "\u001b[1m> Entering new RetrievalQA chain...\u001b[0m\n",
            "\n",
            "\u001b[1m> Finished chain.\u001b[0m\n",
            "page_content=\"Job Description: AI Architect - Big 4, Insurance One of the world's most renowned consultancies is searching for an AI Architect to play a defining role in shaping and transforming Artificial Intelligence and Machine Learning strategies for some of the leading insurance companies in the world.  The successful applicant will be responsible for leading AI and Machine Learning engagements which will include engaging with C-level to gather requirements, and design the latest solutions across Generative AI, LLM, NLP, and ML and lead the delivery, you'll  also get involved in pre-sales and create POC's.  This is an excellent opportunity for a talented AI Architect to work for one of the world's best consultancies and deliver the latest AI solutions for leading insurers.  The role is remote with 50% travel to client site, paying between 95,000 to 115,000  Benefits including bonus, car etc.  Requirements  Over five years designing and building solutions across data science, machine learning,\" metadata={'source': 'job_listings.csv', 'row': 1}\n",
            "page_content='Job Description: As the Solutions Architect, you’ll be working in the Digital Education Products Portfolio team across a number of projects. We are seeking a highly skilled and motivated Systems Architect to join a team and spearhead the design, implementation and integration  of robust, scalable, and secure technology solutions across a digital education, customer facing global education business. As a Solutions Architect, you will play a pivotal role in designing, optimizing, and evaluating the technologies that form the digital  education platforms and products. The Solutions Architect will possess a strong delivery ethic and ensure technology projects are designed and implemented having thoroughly evaluated options and opportunities for both short and long term, to high quality standards and taking into consideration  our technology landscape. Key responsibilities - Solutions Architect: Develop and maintain a comprehensive technical architecture for the digital education' metadata={'source': 'job_listings.csv', 'row': 3}\n",
            "page_content='Job Description: Senior Technical Solution Architect (SaaS, Cloud, API) Our client is a leading provider of SaaS solutions who are currently seeking a permanent Senior Technical Solution Architect to own technical vision of their solution. Responsibilities include:  Working with the senior product and technical managersBe responsible for the technical integration strategy of the product suite.Help develop a big data solution across products.Define both the internal and external technical API strategy.Work with newly formed AI team to determine how value can be added to existing product set through the application of contemporary technologies.Designing and implementing strategic, end-to-end architectural solutions that align with the business objectives of customersCollaborating with cross-functional teams, you will provide technical leadership and expertise throughout the product lifecycle Skills/experience required:  Vast experience in technical solution architecture, SaaS' metadata={'source': 'job_listings.csv', 'row': 27}\n",
            "What responsibilities would I have as an AI solutions architect?\n",
            "[Document(page_content=\"Job Description: AI Architect - Big 4, Insurance One of the world's most renowned consultancies is searching for an AI Architect to play a defining role in shaping and transforming Artificial Intelligence and Machine Learning strategies for some of the leading insurance companies in the world.  The successful applicant will be responsible for leading AI and Machine Learning engagements which will include engaging with C-level to gather requirements, and design the latest solutions across Generative AI, LLM, NLP, and ML and lead the delivery, you'll  also get involved in pre-sales and create POC's.  This is an excellent opportunity for a talented AI Architect to work for one of the world's best consultancies and deliver the latest AI solutions for leading insurers.  The role is remote with 50% travel to client site, paying between 95,000 to 115,000  Benefits including bonus, car etc.  Requirements  Over five years designing and building solutions across data science, machine learning,\", metadata={'source': 'job_listings.csv', 'row': 1}), Document(page_content='Job Description: As the Solutions Architect, you’ll be working in the Digital Education Products Portfolio team across a number of projects. We are seeking a highly skilled and motivated Systems Architect to join a team and spearhead the design, implementation and integration  of robust, scalable, and secure technology solutions across a digital education, customer facing global education business. As a Solutions Architect, you will play a pivotal role in designing, optimizing, and evaluating the technologies that form the digital  education platforms and products. The Solutions Architect will possess a strong delivery ethic and ensure technology projects are designed and implemented having thoroughly evaluated options and opportunities for both short and long term, to high quality standards and taking into consideration  our technology landscape. Key responsibilities - Solutions Architect: Develop and maintain a comprehensive technical architecture for the digital education', metadata={'source': 'job_listings.csv', 'row': 3}), Document(page_content='Job Description: Senior Technical Solution Architect (SaaS, Cloud, API) Our client is a leading provider of SaaS solutions who are currently seeking a permanent Senior Technical Solution Architect to own technical vision of their solution. Responsibilities include:  Working with the senior product and technical managersBe responsible for the technical integration strategy of the product suite.Help develop a big data solution across products.Define both the internal and external technical API strategy.Work with newly formed AI team to determine how value can be added to existing product set through the application of contemporary technologies.Designing and implementing strategic, end-to-end architectural solutions that align with the business objectives of customersCollaborating with cross-functional teams, you will provide technical leadership and expertise throughout the product lifecycle Skills/experience required:  Vast experience in technical solution architecture, SaaS', metadata={'source': 'job_listings.csv', 'row': 27})]\n",
            "As an AI solutions architect, your responsibilities would include designing and developing AI solutions that meet the business objectives of clients, leading the technical strategy and architecture of AI solutions, and ensuring that AI solutions are integrated with existing systems and processes.\n",
            "Token will not been saved to git credential helper. Pass `add_to_git_credential=True` if you want to set the git credential as well.\n",
            "Token is valid (permission: read).\n",
            "Your token has been saved to /root/.cache/huggingface/token\n",
            "Login successful\n",
            "\n",
            "    Cybersecurity consultant.\n",
            "\n",
            "\n",
            "\u001b[1m> Entering new RetrievalQA chain...\u001b[0m\n",
            "\n",
            "\u001b[1m> Finished chain.\u001b[0m\n",
            "page_content='Job Title: Cybersecurity Consultant' metadata={'source': 'job_listings.csv', 'row': 0}\n",
            "page_content=\"Job Description: Are you experienced in Cybersecurity and seeking a new opportunity? Well, apply for this Cybersecurity Consultant position now! We are looking for a Cybersecurity Consultant to join our client's team permanently. The Cybersecurity Consultant will be working within the Security team and will be providing Cyber Security advice and guidance. The Cybersecurity Consultant must be able  to drive have a calm and professional demeanor and be able to lead on projects across a multitude of industries. Key Responsibilities for the Cybersecurity Consultant:  Conduct cybersecurity  compliance assessments against recognized best practices and industry standards, as appropriate to the organization.Act as a point of escalation for security-related incidents across the businessLead on the delivery of hands-on cybersecurity solutions within the business.Respond to and report on security-related alerts generated from various monitoring solutions.Conduct gap analysis on client systems,\" metadata={'source': 'job_listings.csv', 'row': 0}\n",
            "page_content='solutions.Conduct gap analysis on client systems, to identify current security posture versus current security best practicesWork within the security team to provide Cybersecurity advice and guidance, heavily focused on Microsoft 365 Cloud Security Solutions, Governance, and Compliance.Act as a mentor to junior members of the teams to monitor and respond to client cybersecurity incidents, and lead on the resolutionWork collaboratively with the Technical and Project teams. Skills Required for the Cybersecurity Consultant:  Knowledge of IAM, MFA, MDM and DLP technologiesDemonstrable experience leading on Information Risk, Compliance and Governance.Advanced knowledge of managing MS365 Cloud security solutions (Endpoint, Defender, Azure)Cyber Essentials Assessor status or prerequisites to achieve this.Demonstrable knowledge of applying security standards and frameworks across a range of industries, including but not limited to; Cyber Essentials, GDPR, ISO27001, NIST, CIS. If this role is' metadata={'source': 'job_listings.csv', 'row': 0}\n",
            "What are recent topics a Cybersecurity consultant should learn about?\n",
            "[Document(page_content='Job Title: Cybersecurity Consultant', metadata={'source': 'job_listings.csv', 'row': 0}), Document(page_content=\"Job Description: Are you experienced in Cybersecurity and seeking a new opportunity? Well, apply for this Cybersecurity Consultant position now! We are looking for a Cybersecurity Consultant to join our client's team permanently. The Cybersecurity Consultant will be working within the Security team and will be providing Cyber Security advice and guidance. The Cybersecurity Consultant must be able  to drive have a calm and professional demeanor and be able to lead on projects across a multitude of industries. Key Responsibilities for the Cybersecurity Consultant:  Conduct cybersecurity  compliance assessments against recognized best practices and industry standards, as appropriate to the organization.Act as a point of escalation for security-related incidents across the businessLead on the delivery of hands-on cybersecurity solutions within the business.Respond to and report on security-related alerts generated from various monitoring solutions.Conduct gap analysis on client systems,\", metadata={'source': 'job_listings.csv', 'row': 0}), Document(page_content='solutions.Conduct gap analysis on client systems, to identify current security posture versus current security best practicesWork within the security team to provide Cybersecurity advice and guidance, heavily focused on Microsoft 365 Cloud Security Solutions, Governance, and Compliance.Act as a mentor to junior members of the teams to monitor and respond to client cybersecurity incidents, and lead on the resolutionWork collaboratively with the Technical and Project teams. Skills Required for the Cybersecurity Consultant:  Knowledge of IAM, MFA, MDM and DLP technologiesDemonstrable experience leading on Information Risk, Compliance and Governance.Advanced knowledge of managing MS365 Cloud security solutions (Endpoint, Defender, Azure)Cyber Essentials Assessor status or prerequisites to achieve this.Demonstrable knowledge of applying security standards and frameworks across a range of industries, including but not limited to; Cyber Essentials, GDPR, ISO27001, NIST, CIS. If this role is', metadata={'source': 'job_listings.csv', 'row': 0})]\n",
            "A Cybersecurity consultant should be knowledgeable on the latest trends and best practices in the industry, such as:\n",
            "- Cloud security solutions\n",
            "- Artificial intelligence and machine learning\n",
            "- Advanced threat detection\n",
            "- Network security\n",
            "- Intrusion detection and prevention\n",
            "- Incident response and recovery\n",
            "- Security policy development and implementation\n",
            "- Data protection and encryption\n",
            "- Compliance and governance\n",
            "- Risk assessment and mitigation\n",
            "- Application security\n",
            "- Mobile device security\n",
            "- Database security\n",
            "- Security architecture and design\n",
            "- Security testing and evaluation\n",
            "- Security monitoring and alerting\n",
            "- Security training and awareness\n",
            "- Security operations center (SOC) management\n",
            "- Security infrastructure and architecture\n",
            "- Security compliance and governance\n",
            "- Security tools and technologies\n",
            "- Security analytics and intelligence\n",
            "- Security threat intelligence\n",
            "- Security information and event management (SIEM)\n",
            "- Security incident response (SIR)\n",
            "- Security risk management\n",
            "- Security risk assessment\n",
            "- Security risk control\n",
            "Token will not been saved to git credential helper. Pass `add_to_git_credential=True` if you want to set the git credential as well.\n",
            "Token is valid (permission: read).\n",
            "Your token has been saved to /root/.cache/huggingface/token\n",
            "Login successful\n",
            "\n",
            "    data science\n",
            "\n",
            "\n",
            "\u001b[1m> Entering new RetrievalQA chain...\u001b[0m\n",
            "\n",
            "\u001b[1m> Finished chain.\u001b[0m\n",
            "page_content='Job Description: Data Scientist - Asset Management - London (Tech stack: Data Scientist, Python, R, Data Science, Machine Learning, Artificial Intelligence, Tableau, Data Scientist, Engineer, Senior, Leader, Technical Lead) Founded in 1930, our client is a leading investment manager with offices in Europe, Asia and North America. They manage over 120 billion across all asset classes and employ over 2000 people around the world and are developing revolutionary applications  that have attracted much attention in the trade press. As a result of this there are several Greenfield software development projects that require talented Data Scientist to build software that will support their progression. We are looking for Data Scientist that can hit the ground running and be instrumental  in the creation of stylish and innovative products. Every possible resource will be at your disposal to help you achieve this. We are looking for Data Scientist with a good grasp of some or all of the' metadata={'source': 'job_listings.csv', 'row': 27}\n",
            "page_content='projects, including data extraction, cleansing, exploration, modeling, and deployment of models into production. · Design and develop machine learning algorithms to identify patterns and trends in patient data and provide recommendations for personalized treatment plans. · Work closely with IT teams to ensure seamless integration of data science models with existing systems and databases. · Stay up to date with the latest advancements in data science and contribute to the continuous improvement of our data science practice. · Mentor and provide guidance to junior data scientists and analysts to foster their professional growth. Requirements · Strong expertise in statistical analysis, machine learning algorithms, and predictive modeling. · Proficient in programming languages such as Python or R, and experience with SQL and other database technologies. · Solid understanding of data visualization techniques and tools, and ability to communicate complex findings to non-technical' metadata={'source': 'job_listings.csv', 'row': 4}\n",
            "page_content='Job Description: Role - Lead Data Scientist Skills - Python / Machine Learning / AI  Location - Leicester  Salary - Up to 70,000 plus excellent benefits package Work Pattern - Hybrid with 1 day in the office per week Summary Oscar have partnered exclusively with a very well-established business in the East Midlands who are looking for someone to kick start their Data Science practice. This is an incredible role; they have some business problems they are looking to AI to solve,  and the potential impact of this role is huge. They have a huge amount of data, but their analytics offering is in its infancy at best so now is the time to add expertise to the team to lead this. The Company This is a well-known, very well-established business and a true leader in their field. They already generate a lot of revenue and are highly profitable, but AI / Data Science can add a huge amount of value here and potential is really untapped. They have significant data systems in place; however, they are' metadata={'source': 'job_listings.csv', 'row': 68}\n",
            "Give me some fairly recent topics in the realm of data science.\n",
            "[Document(page_content='Job Description: Data Scientist - Asset Management - London (Tech stack: Data Scientist, Python, R, Data Science, Machine Learning, Artificial Intelligence, Tableau, Data Scientist, Engineer, Senior, Leader, Technical Lead) Founded in 1930, our client is a leading investment manager with offices in Europe, Asia and North America. They manage over 120 billion across all asset classes and employ over 2000 people around the world and are developing revolutionary applications  that have attracted much attention in the trade press. As a result of this there are several Greenfield software development projects that require talented Data Scientist to build software that will support their progression. We are looking for Data Scientist that can hit the ground running and be instrumental  in the creation of stylish and innovative products. Every possible resource will be at your disposal to help you achieve this. We are looking for Data Scientist with a good grasp of some or all of the', metadata={'source': 'job_listings.csv', 'row': 27}), Document(page_content='projects, including data extraction, cleansing, exploration, modeling, and deployment of models into production. · Design and develop machine learning algorithms to identify patterns and trends in patient data and provide recommendations for personalized treatment plans. · Work closely with IT teams to ensure seamless integration of data science models with existing systems and databases. · Stay up to date with the latest advancements in data science and contribute to the continuous improvement of our data science practice. · Mentor and provide guidance to junior data scientists and analysts to foster their professional growth. Requirements · Strong expertise in statistical analysis, machine learning algorithms, and predictive modeling. · Proficient in programming languages such as Python or R, and experience with SQL and other database technologies. · Solid understanding of data visualization techniques and tools, and ability to communicate complex findings to non-technical', metadata={'source': 'job_listings.csv', 'row': 4}), Document(page_content='Job Description: Role - Lead Data Scientist Skills - Python / Machine Learning / AI  Location - Leicester  Salary - Up to 70,000 plus excellent benefits package Work Pattern - Hybrid with 1 day in the office per week Summary Oscar have partnered exclusively with a very well-established business in the East Midlands who are looking for someone to kick start their Data Science practice. This is an incredible role; they have some business problems they are looking to AI to solve,  and the potential impact of this role is huge. They have a huge amount of data, but their analytics offering is in its infancy at best so now is the time to add expertise to the team to lead this. The Company This is a well-known, very well-established business and a true leader in their field. They already generate a lot of revenue and are highly profitable, but AI / Data Science can add a huge amount of value here and potential is really untapped. They have significant data systems in place; however, they are', metadata={'source': 'job_listings.csv', 'row': 68})]\n",
            "1. Natural Language Processing (NLP)\n",
            "2. Machine Learning\n",
            "3. Data Mining\n",
            "4. Big Data\n",
            "5. Data Visualization\n",
            "6. Data Analysis\n",
            "7. Data Engineering\n",
            "8. Data Integration\n",
            "9. Data Science\n",
            "10. AI (Artificial Intelligence)\n",
            "Token will not been saved to git credential helper. Pass `add_to_git_credential=True` if you want to set the git credential as well.\n",
            "Token is valid (permission: read).\n",
            "Your token has been saved to /root/.cache/huggingface/token\n",
            "Login successful\n",
            "\n",
            "    Software Architect\n",
            "\n",
            "\n",
            "\u001b[1m> Entering new RetrievalQA chain...\u001b[0m\n",
            "\n",
            "\u001b[1m> Finished chain.\u001b[0m\n",
            "page_content='to the team on focus and priorities across the portfolioUnderstand and report on software delivery timescales and risk across a software portfolioDevelop and maintain software architecture for our software solutions, working closely with the System Architect and Programme Technical Lead to integrate software solutions into the wider system architecture Essential experience of the Software Architect: Successful delivery of software architecture to control complex distributed networked systems.Mobilisation and co-ordination of teams of multi-disciplinary engineers to deliver complex systems.Knowledge / Experience of software architecture in at least one of the following areas:  - RF telecommunications, - waveforms, - OSI model, - SIGINT, - EW Driving the implementation of Agile development methodologies.C, C, Python and Database architecture. Qualifications for the Software Architect:Our Client values difference and doesn’t have a fixed idea when it comes to background or education,' metadata={'source': 'job_listings.csv', 'row': 23}\n",
            "page_content='is available for this role. The Embedded Software Architect will need to visit Germany up to 4 times p.a.The role:The successful Embedded Software Architect will be responsible for the full Embedded Software Systems Architecture Design, supporting Junior Engineers and take the initiative, collaborate and communicate well.Key Skills: 5-7 years minimum industry experienceEmbedded Software Development experienceEmbedded Software Programming in C, CKnowledge of model based development tools – MATLAB, Simulink, StateflowAn understanding of control methodologiesBare MetalDSP Microcontrollers or real time controlKnowledge of real time operating systems (RTOS)Network protocols – SPI, I2C, USB, UART, TCP/IPExperience of System integration testing, debuggers, bus analysers, and using lab equipment (scopes, sources, loads)Requirements engineering, SW architecture design, SW test planning, and documentationAbility or ambition to lead a small team, leading sprints and using collaborative tools' metadata={'source': 'job_listings.csv', 'row': 27}\n",
            "page_content='Job Description: Software Architect opportunity to join an award-winning UK wide Software Engineering business working on a Fully Remote Basis.  Software Architect opportunity -Fully Remote - up to 100,000 PA  Benefits As a Software Architect you will join one of our small, fast-paced, agile delivery teams; using agile methodology and DevOps techniques to design, build, and maintain cloud infrastructure supporting workloads for customers in the UK Government and Defence  sector. To be considered for this role you must be SC Cleared or able to obtain Security clearance - *That means you must be a British Citizen and have been living in the UK permanently for the last 5 years* Responsibilities will Include:  Implementing full-stack software solutions including design, development, and testingDrafting technical Statements of requirements for cloud native applications and platform solutionsProduction of high and low level technical designs  high level operating model designsDefining and' metadata={'source': 'job_listings.csv', 'row': 18}\n",
            "Can you explain the skills or experiences that recruiters look for in a Software Architect?\n",
            "[Document(page_content='to the team on focus and priorities across the portfolioUnderstand and report on software delivery timescales and risk across a software portfolioDevelop and maintain software architecture for our software solutions, working closely with the System Architect and Programme Technical Lead to integrate software solutions into the wider system architecture Essential experience of the Software Architect: Successful delivery of software architecture to control complex distributed networked systems.Mobilisation and co-ordination of teams of multi-disciplinary engineers to deliver complex systems.Knowledge / Experience of software architecture in at least one of the following areas:  - RF telecommunications, - waveforms, - OSI model, - SIGINT, - EW Driving the implementation of Agile development methodologies.C, C, Python and Database architecture. Qualifications for the Software Architect:Our Client values difference and doesn’t have a fixed idea when it comes to background or education,', metadata={'source': 'job_listings.csv', 'row': 23}), Document(page_content='is available for this role. The Embedded Software Architect will need to visit Germany up to 4 times p.a.The role:The successful Embedded Software Architect will be responsible for the full Embedded Software Systems Architecture Design, supporting Junior Engineers and take the initiative, collaborate and communicate well.Key Skills: 5-7 years minimum industry experienceEmbedded Software Development experienceEmbedded Software Programming in C, CKnowledge of model based development tools – MATLAB, Simulink, StateflowAn understanding of control methodologiesBare MetalDSP Microcontrollers or real time controlKnowledge of real time operating systems (RTOS)Network protocols – SPI, I2C, USB, UART, TCP/IPExperience of System integration testing, debuggers, bus analysers, and using lab equipment (scopes, sources, loads)Requirements engineering, SW architecture design, SW test planning, and documentationAbility or ambition to lead a small team, leading sprints and using collaborative tools', metadata={'source': 'job_listings.csv', 'row': 27}), Document(page_content='Job Description: Software Architect opportunity to join an award-winning UK wide Software Engineering business working on a Fully Remote Basis.  Software Architect opportunity -Fully Remote - up to 100,000 PA  Benefits As a Software Architect you will join one of our small, fast-paced, agile delivery teams; using agile methodology and DevOps techniques to design, build, and maintain cloud infrastructure supporting workloads for customers in the UK Government and Defence  sector. To be considered for this role you must be SC Cleared or able to obtain Security clearance - *That means you must be a British Citizen and have been living in the UK permanently for the last 5 years* Responsibilities will Include:  Implementing full-stack software solutions including design, development, and testingDrafting technical Statements of requirements for cloud native applications and platform solutionsProduction of high and low level technical designs  high level operating model designsDefining and', metadata={'source': 'job_listings.csv', 'row': 18})]\n",
            "\n",
            "Recruiters look for a range of skills and experiences in a software architect, including:\n",
            "\n",
            "1. Experience with software development and design, including:\n",
            "\n",
            "- C, C, Python, and Database architecture\n",
            "- Agile methodology and DevOps techniques\n",
            "- Knowledge of real time operating systems (RTOS)\n",
            "- Network protocols - SPI, I2C, USB, UART, TCP/IP\n",
            "- System integration testing, debuggers, bus analyzers, and using lab equipment (scopes, sources, loads)\n",
            "- Requirements engineering, SW architecture design, SW test planning, and documentation\n",
            "- Ability to lead a small team, leading sprints, and using collaborative tools\n",
            "\n",
            "2. Experience with design patterns, architectural patterns, and design principles, including:\n",
            "\n",
            "- Design patterns\n",
            "- Architecture patterns\n",
            "- Design principles\n",
            "\n",
            "3. Experience with software development methodologies, such as:\n",
            "\n",
            "- Agile methodology\n",
            "- DevOps techniques\n",
            "- Agile methodology\n",
            "- DevOps\n",
            "Token will not been saved to git credential helper. Pass `add_to_git_credential=True` if you want to set the git credential as well.\n",
            "Token is valid (permission: read).\n",
            "Your token has been saved to /root/.cache/huggingface/token\n",
            "Login successful\n",
            "\n",
            "    IT manager\n",
            "\n",
            "\n",
            "\u001b[1m> Entering new RetrievalQA chain...\u001b[0m\n",
            "\n",
            "\u001b[1m> Finished chain.\u001b[0m\n",
            "page_content='The IT Project Manager  will need to be a great team motivator and happy to get their hands dirty to get the job done.Essential skills:• Background in project management• Successful track record of delivery projects on-time and in-budget• Excellent communication skills, both verbally and written• Strong time-keeping and organisation skillsThis is a fantastic opportunity for the successful IT Project Manager to join a hugely successful professional services firm that have created a great place to work and truly value their employees.If you are interested, please click the apply now button.Add me on LinkedIn to stay up to date with new opportunities! Search Ollie Cottrill and you will easily find me.Coaction Recruitment Ltd acts as an employment agency for permanent recruitment and an employment business for the supply of temporary workers.' metadata={'source': 'job_listings.csv', 'row': 78}\n",
            "page_content=\"Job Description: IT ManagerWorthingSalary up to 55,000 Looking for an exciting career opportunity in IT? This excellent company is looking for an IT Manager with fantastic SQL writing skills to join them. You will have the chance to showcase your skills and make a significant impact in this leading organization,  with great potential for professional growth. ABOUT THE ROLE: You will oversee and direct the company's IT infrastructure, including computers, networks, servers, and security systems. You'll also play a crucial part in generating and upholding SQL-based reports to offer valuable organizational insights and producing  precise and visually engaging reports. DUTIES  RESPONSIBILITIES INCLUDE:  Ensure smooth connectivity and performance of computer networks.Manage server configurations, maintenance, and troubleshooting.Provide proactive IT support for hardware, software, and network issues.Optimize databases using Crystal reports and SQL for data integrity and access.Implement\" metadata={'source': 'job_listings.csv', 'row': 55}\n",
            "page_content=\"Friday finish at 2:30pm. Whether it's family time, hobbies, or personal errands, enjoy the balance you deserve. What you will do as the IT Manager:  Steer the IT systems, supporting approximately 115 users.Spot and implement improvement opportunities.Coordinate tasks with the IT Technician and manage third-party relations.Maintain and upgrade networks, servers, and cyber security measures.Nurture our IT Helpdesk towards permanent solutions.Manage data with meticulous documentation and backup procedures.Be involved in the procurement of cutting-edge IT equipment. What you need to apply for the IT Manager position:  Senior-level IT experience, preferably in manufacturing.A versatile IT skill set, ready for strategic planning and daily operations alike.A robust understanding of cybersecurity, and safeguarding digital assets. About the Company: A fourth-generation family business who are a stalwart in South Wales with a 55-year track record. They are part of an international group\" metadata={'source': 'job_listings.csv', 'row': 43}\n",
            "What programming skills would IT managers require to possess?\n",
            "[Document(page_content='The IT Project Manager  will need to be a great team motivator and happy to get their hands dirty to get the job done.Essential skills:• Background in project management• Successful track record of delivery projects on-time and in-budget• Excellent communication skills, both verbally and written• Strong time-keeping and organisation skillsThis is a fantastic opportunity for the successful IT Project Manager to join a hugely successful professional services firm that have created a great place to work and truly value their employees.If you are interested, please click the apply now button.Add me on LinkedIn to stay up to date with new opportunities! Search Ollie Cottrill and you will easily find me.Coaction Recruitment Ltd acts as an employment agency for permanent recruitment and an employment business for the supply of temporary workers.', metadata={'source': 'job_listings.csv', 'row': 78}), Document(page_content=\"Job Description: IT ManagerWorthingSalary up to 55,000 Looking for an exciting career opportunity in IT? This excellent company is looking for an IT Manager with fantastic SQL writing skills to join them. You will have the chance to showcase your skills and make a significant impact in this leading organization,  with great potential for professional growth. ABOUT THE ROLE: You will oversee and direct the company's IT infrastructure, including computers, networks, servers, and security systems. You'll also play a crucial part in generating and upholding SQL-based reports to offer valuable organizational insights and producing  precise and visually engaging reports. DUTIES  RESPONSIBILITIES INCLUDE:  Ensure smooth connectivity and performance of computer networks.Manage server configurations, maintenance, and troubleshooting.Provide proactive IT support for hardware, software, and network issues.Optimize databases using Crystal reports and SQL for data integrity and access.Implement\", metadata={'source': 'job_listings.csv', 'row': 55}), Document(page_content=\"Friday finish at 2:30pm. Whether it's family time, hobbies, or personal errands, enjoy the balance you deserve. What you will do as the IT Manager:  Steer the IT systems, supporting approximately 115 users.Spot and implement improvement opportunities.Coordinate tasks with the IT Technician and manage third-party relations.Maintain and upgrade networks, servers, and cyber security measures.Nurture our IT Helpdesk towards permanent solutions.Manage data with meticulous documentation and backup procedures.Be involved in the procurement of cutting-edge IT equipment. What you need to apply for the IT Manager position:  Senior-level IT experience, preferably in manufacturing.A versatile IT skill set, ready for strategic planning and daily operations alike.A robust understanding of cybersecurity, and safeguarding digital assets. About the Company: A fourth-generation family business who are a stalwart in South Wales with a 55-year track record. They are part of an international group\", metadata={'source': 'job_listings.csv', 'row': 43})]\n",
            "IT managers require a range of programming skills, including:\n",
            "\n",
            "1. Programming languages: C++, Java, Python, SQL, and more.\n",
            "\n",
            "2. Database management: MySQL, Oracle, and other database systems.\n",
            "\n",
            "3. Programming frameworks:.NET, MVC, and other frameworks.\n",
            "\n",
            "4. Operating systems: Windows, Linux, and other OS.\n",
            "\n",
            "5. Cloud computing: AWS, Azure, and other cloud services.\n",
            "\n",
            "6. Project management: Agile, Scrum, and other project management methodologies.\n",
            "\n",
            "7. Software development: Agile, Scrum, and other software development methodologies.\n",
            "\n",
            "8. Data analysis: SQL, Excel, and other data analysis tools.\n",
            "\n",
            "9. Security: Firewalls, encryption, and other security tools.\n",
            "\n",
            "10. Communication: Effective communication, both verbal and written.\n"
          ]
        }
      ],
      "source": [
        "rag_pipeline_eval = chain_predictions_from_data(pipeline_eval)\n",
        "os.makedirs(\"industry\", exist_ok=True)\n",
        "rag_pipeline_eval.to_csv(\"industry/pipeline_evaluation.csv\", index=False)"
      ]
    },
    {
      "cell_type": "code",
      "execution_count": null,
      "metadata": {
        "colab": {
          "base_uri": "https://localhost:8080/"
        },
        "id": "bcsYFoIrAQw4",
        "outputId": "bda3dd49-5300-499e-b8a7-d3477da36215"
      },
      "outputs": [
        {
          "output_type": "stream",
          "name": "stdout",
          "text": [
            "Token will not been saved to git credential helper. Pass `add_to_git_credential=True` if you want to set the git credential as well.\n",
            "Token is valid (permission: read).\n",
            "Your token has been saved to /root/.cache/huggingface/token\n",
            "Login successful\n",
            "\n",
            "    software engineer\n",
            "\n",
            "\n",
            "\u001b[1m> Entering new RetrievalQA chain...\u001b[0m\n",
            "\n",
            "\u001b[1m> Finished chain.\u001b[0m\n",
            "page_content=\"Job Description: Software Engineer / Developer (Graduate Python JavaScript) WFH / Cambridge to 60k Are you a bright, ambitious Software Engineer with a strong record of academic achievement looking for an opportunity to progress your career? You could be joining a tech start-up that are producing a cutting edge Digital Twins and Information Management platform for the construction industry and highways agencies. As a Software Engineer / Developer you'll join a small team, collaborating with the CEO, CTO, Chief Scientist and other world leading researchers to design and develop new features and enhancements on the core platform. You'll be using a range a technology,  primarily Python and JavaScript but will have access to a range of others and will be encouraged to learn and pick new things up, using the best tool for the job. Location / WFH:  You can work from home or go into the office in Cambridge as often as desired, it would be great to meet up with the team once a month. About\" metadata={'source': 'job_listings.csv', 'row': 31}\n",
            "page_content=\"Job Description: Software Engineer / Developer (Graduate Python JavaScript) WFH / London to 60k Are you a bright, ambitious Software Engineer with a strong record of academic achievement looking for an opportunity to progress your career? You could be joining a tech start-up that are producing a cutting edge Digital Twins and Information Management platform for the construction industry and highways agencies. As a Software Engineer / Developer you'll join a small team, collaborating with the CEO, CTO, Chief Scientist and other world leading researchers to design and develop new features and enhancements on the core platform. You'll be using a range a technology,  primarily Python and JavaScript but will have access to a range of others and will be encouraged to learn and pick new things up, using the best tool for the job. Location / WFH:  You can work from home on a fulltime basis initially, as the company grows and opens a London office you'll be required to be there once a week.\" metadata={'source': 'job_listings.csv', 'row': 30}\n",
            "page_content='Job Title: Software Engineer' metadata={'source': 'job_listings.csv', 'row': 0}\n",
            "What programming languages should a software engineer know these days?\n",
            "[Document(page_content=\"Job Description: Software Engineer / Developer (Graduate Python JavaScript) WFH / Cambridge to 60k Are you a bright, ambitious Software Engineer with a strong record of academic achievement looking for an opportunity to progress your career? You could be joining a tech start-up that are producing a cutting edge Digital Twins and Information Management platform for the construction industry and highways agencies. As a Software Engineer / Developer you'll join a small team, collaborating with the CEO, CTO, Chief Scientist and other world leading researchers to design and develop new features and enhancements on the core platform. You'll be using a range a technology,  primarily Python and JavaScript but will have access to a range of others and will be encouraged to learn and pick new things up, using the best tool for the job. Location / WFH:  You can work from home or go into the office in Cambridge as often as desired, it would be great to meet up with the team once a month. About\", metadata={'source': 'job_listings.csv', 'row': 31}), Document(page_content=\"Job Description: Software Engineer / Developer (Graduate Python JavaScript) WFH / London to 60k Are you a bright, ambitious Software Engineer with a strong record of academic achievement looking for an opportunity to progress your career? You could be joining a tech start-up that are producing a cutting edge Digital Twins and Information Management platform for the construction industry and highways agencies. As a Software Engineer / Developer you'll join a small team, collaborating with the CEO, CTO, Chief Scientist and other world leading researchers to design and develop new features and enhancements on the core platform. You'll be using a range a technology,  primarily Python and JavaScript but will have access to a range of others and will be encouraged to learn and pick new things up, using the best tool for the job. Location / WFH:  You can work from home on a fulltime basis initially, as the company grows and opens a London office you'll be required to be there once a week.\", metadata={'source': 'job_listings.csv', 'row': 30}), Document(page_content='Job Title: Software Engineer', metadata={'source': 'job_listings.csv', 'row': 0})]\n",
            "A software engineer should be proficient in at least one programming language, but it's recommended to have knowledge of multiple programming languages to be able to work on a variety of projects. Some of the most in-demand programming languages today include Python, Java, C++, JavaScript, and Ruby. It's also important for software engineers to be familiar with databases, frameworks, and libraries to create more efficient and effective code.\n",
            "Token will not been saved to git credential helper. Pass `add_to_git_credential=True` if you want to set the git credential as well.\n",
            "Token is valid (permission: read).\n",
            "Your token has been saved to /root/.cache/huggingface/token\n",
            "Login successful\n",
            "\n",
            "    cloud engineer\n",
            "\n",
            "\n",
            "\u001b[1m> Entering new RetrievalQA chain...\u001b[0m\n",
            "\n",
            "\u001b[1m> Finished chain.\u001b[0m\n",
            "page_content=\"Job Description: Cloud Engineer Salary: 51,000  PackageLocation: Manchester(Hybrid)Large Pension Contribution, Annual Leave, Government Benefits, Internal Progression and Exciting projects to work on I'm currently working with an NHS trust based in the Manchester area who are looking for someone with strong knowledge of cloud infrastructure/architecture and how to build cloud services to join as a Cloud Engineer. The successful applicant will join a well-established  IT team to support with the trusts move from on-prem to a cloud environment! As the Cloud Engineer, you will be heavily involved in cloud  infrastructure projects across the trust, whilst being able to advise and recommend best ways to go forward with a cloud first mindset. The Cloud Engineer will benefit from a very strong work-life balance that includes flexible, hybrid working and great opportunities for training and development. Skills required for the Cloud Engineer are:- Knowledge  Understanding of On-Prem and Cloud\" metadata={'source': 'job_listings.csv', 'row': 55}\n",
            "page_content='Job Description: The company: This company make a difference to the front-line safety of the North East. They have been going through a technical transformation to make the lives of their employees more efficient and protect vital data. They value innovation and proactive attitudes as  they are always looking for the best solutions. This company offer great training and progression plans and wants to support you in your career. This is a newer team that is looking to expand over the next few years, so there is an excellent opportunity for  you to define what this looks like, The role: As a cloud engineer, you will inform the designs intended to deliver the next generation of digital services for the business. Within the new cloud services, you will work towards architectural standards and aim to enhance existing capabilities. This role  will not just include lift and shift projects, you will be helping to re-design how applications can be set up and enhanced within the cloud' metadata={'source': 'job_listings.csv', 'row': 62}\n",
            "page_content=\"and provide timely resolution.Stay updated with the latest Azure technologies and trends, and recommend improvements to enhance efficiency and effectiveness. Requirements:  Bachelor's degree in Computer Science, Engineering, or related field.3 years proven experience working as a Cloud Engineer, with specific expertise in Azure.Strong understanding of Azure services such as Azure Virtual Machines, Azure SQL Database, Azure Storage, etc.Solid understanding of networking concepts and protocols.Excellent problem-solving skills and attention to detail.Strong communication and collaboration skills, with the ability to work effectively in a team environment. Benefits:  Bonus SchemeComprehensive health benefits package25 days holiday, including Bank HolidaysOpportunities for professional growth and developmentCollaborative and inclusive work environment If you are a passionate Cloud Engineer with expertise in Azure and a desire to make an impact, we encourage you to apply. Location:\" metadata={'source': 'job_listings.csv', 'row': 51}\n",
            "Please explain to me skills I need to learn to become a cloud engineer.\n",
            "[Document(page_content=\"Job Description: Cloud Engineer Salary: 51,000  PackageLocation: Manchester(Hybrid)Large Pension Contribution, Annual Leave, Government Benefits, Internal Progression and Exciting projects to work on I'm currently working with an NHS trust based in the Manchester area who are looking for someone with strong knowledge of cloud infrastructure/architecture and how to build cloud services to join as a Cloud Engineer. The successful applicant will join a well-established  IT team to support with the trusts move from on-prem to a cloud environment! As the Cloud Engineer, you will be heavily involved in cloud  infrastructure projects across the trust, whilst being able to advise and recommend best ways to go forward with a cloud first mindset. The Cloud Engineer will benefit from a very strong work-life balance that includes flexible, hybrid working and great opportunities for training and development. Skills required for the Cloud Engineer are:- Knowledge  Understanding of On-Prem and Cloud\", metadata={'source': 'job_listings.csv', 'row': 55}), Document(page_content='Job Description: The company: This company make a difference to the front-line safety of the North East. They have been going through a technical transformation to make the lives of their employees more efficient and protect vital data. They value innovation and proactive attitudes as  they are always looking for the best solutions. This company offer great training and progression plans and wants to support you in your career. This is a newer team that is looking to expand over the next few years, so there is an excellent opportunity for  you to define what this looks like, The role: As a cloud engineer, you will inform the designs intended to deliver the next generation of digital services for the business. Within the new cloud services, you will work towards architectural standards and aim to enhance existing capabilities. This role  will not just include lift and shift projects, you will be helping to re-design how applications can be set up and enhanced within the cloud', metadata={'source': 'job_listings.csv', 'row': 62}), Document(page_content=\"and provide timely resolution.Stay updated with the latest Azure technologies and trends, and recommend improvements to enhance efficiency and effectiveness. Requirements:  Bachelor's degree in Computer Science, Engineering, or related field.3 years proven experience working as a Cloud Engineer, with specific expertise in Azure.Strong understanding of Azure services such as Azure Virtual Machines, Azure SQL Database, Azure Storage, etc.Solid understanding of networking concepts and protocols.Excellent problem-solving skills and attention to detail.Strong communication and collaboration skills, with the ability to work effectively in a team environment. Benefits:  Bonus SchemeComprehensive health benefits package25 days holiday, including Bank HolidaysOpportunities for professional growth and developmentCollaborative and inclusive work environment If you are a passionate Cloud Engineer with expertise in Azure and a desire to make an impact, we encourage you to apply. Location:\", metadata={'source': 'job_listings.csv', 'row': 51})]\n",
            "To become a cloud engineer, you need to learn the following skills:\n",
            "\n",
            "1. Knowledge of cloud infrastructure and architecture: Understanding the cloud infrastructure and architecture is essential for cloud engineers to design and manage cloud services.\n",
            "\n",
            "2. Cloud-specific technologies: Cloud-specific technologies like Azure, AWS, and Google Cloud Platform are essential for cloud engineers to work with cloud services.\n",
            "\n",
            "3. Cloud-specific security: Cloud-specific security is important for cloud engineers to ensure the safety and security of cloud services.\n",
            "\n",
            "4. Cloud-specific data storage: Cloud-specific data storage is important for cloud engineers to manage and store data in the cloud.\n",
            "\n",
            "5. Cloud-specific network configuration: Cloud-specific network configuration is important for cloud engineers to configure and manage cloud networks.\n",
            "\n",
            "6. Cloud-specific application development: Cloud-specific application development is important for cloud engineers to develop and deploy cloud applications.\n",
            "\n",
            "7. Cloud-specific data analysis: Cloud-specific\n",
            "Token will not been saved to git credential helper. Pass `add_to_git_credential=True` if you want to set the git credential as well.\n",
            "Token is valid (permission: read).\n",
            "Your token has been saved to /root/.cache/huggingface/token\n",
            "Login successful\n",
            "\n",
            "    IT manager\n",
            "\n",
            "\n",
            "\u001b[1m> Entering new RetrievalQA chain...\u001b[0m\n",
            "\n",
            "\u001b[1m> Finished chain.\u001b[0m\n",
            "page_content=\"Job Description: IT Project Manager Our client is a reputable educational organisation who are current seeking an IT Project Manager to support the efficient delivery of IT infrastructure, digital products and services. Responsibilities include:  Project management: Project planning, resource allocation and project implementation that is in line with the organisation's standards and policiesCosts management: Planning and estimating costs, and determining budgetsTechnical management: Analyse, plan and develop requirements and standards in reference to scheduled projectsRisk management: Planning for and identifying potential risks, performing qualitative and quantitative risk analysis, and planning risk mitigation strategiesStakeholder management: Identifying relevant stakeholders, engaging with them and planning for meeting and exceeding stakeholder expectations through the project lifecycleHold regular technical team meetings to determine progress and address any questions or\" metadata={'source': 'job_listings.csv', 'row': 97}\n",
            "page_content=\"Job Description: We are currently seeking a IT Manager to join a well-established, family-run SME based in Lisburn, NI. As an IT Manager you will play a pivotal role in ensuring our business runs smoothly and effectively at all times. Technology is utilised throughout our  client's full customer and supplier lifecycle, making effective management critical to our business operating successfully. Your duties will include troubleshooting and diagnosing computer hardware and software issues, setting up computer networks and assisting  colleagues with IT-related problems, ensuring all IT and telecommunications equipment works effectively and is repaired promptly if necessary, safeguarding company and customer data and assets through appropriate IT security, and setting our overall IT strategy,  spotting opportunities to improve our use of technology and optimise business performance.  Main Areas of Responsibility:  Technical Support: Act as the first point of contact for IT support within\" metadata={'source': 'job_listings.csv', 'row': 0}\n",
            "page_content='Job Title: IT Manager' metadata={'source': 'job_listings.csv', 'row': 0}\n",
            "What are the responsibilities for a typical IT manager?\n",
            "[Document(page_content=\"Job Description: IT Project Manager Our client is a reputable educational organisation who are current seeking an IT Project Manager to support the efficient delivery of IT infrastructure, digital products and services. Responsibilities include:  Project management: Project planning, resource allocation and project implementation that is in line with the organisation's standards and policiesCosts management: Planning and estimating costs, and determining budgetsTechnical management: Analyse, plan and develop requirements and standards in reference to scheduled projectsRisk management: Planning for and identifying potential risks, performing qualitative and quantitative risk analysis, and planning risk mitigation strategiesStakeholder management: Identifying relevant stakeholders, engaging with them and planning for meeting and exceeding stakeholder expectations through the project lifecycleHold regular technical team meetings to determine progress and address any questions or\", metadata={'source': 'job_listings.csv', 'row': 97}), Document(page_content=\"Job Description: We are currently seeking a IT Manager to join a well-established, family-run SME based in Lisburn, NI. As an IT Manager you will play a pivotal role in ensuring our business runs smoothly and effectively at all times. Technology is utilised throughout our  client's full customer and supplier lifecycle, making effective management critical to our business operating successfully. Your duties will include troubleshooting and diagnosing computer hardware and software issues, setting up computer networks and assisting  colleagues with IT-related problems, ensuring all IT and telecommunications equipment works effectively and is repaired promptly if necessary, safeguarding company and customer data and assets through appropriate IT security, and setting our overall IT strategy,  spotting opportunities to improve our use of technology and optimise business performance.  Main Areas of Responsibility:  Technical Support: Act as the first point of contact for IT support within\", metadata={'source': 'job_listings.csv', 'row': 0}), Document(page_content='Job Title: IT Manager', metadata={'source': 'job_listings.csv', 'row': 0})]\n",
            "\n",
            "1. Technology strategy: Develop and implement IT strategies to meet the business's needs and goals.\n",
            "2. Manage IT infrastructure: Oversee the installation, maintenance, and upgrading of IT systems and equipment.\n",
            "3. IT security: Ensure the security of the company's data and networks.\n",
            "4. Manage IT budget: Monitor and manage the IT budget, ensuring it is aligned with the company's goals.\n",
            "5. Manage IT personnel: Hire, train, and supervise IT personnel.\n",
            "6. Troubleshoot and diagnose hardware and software issues.\n",
            "7. Keep up-to-date with the latest trends and developments in the IT industry.\n",
            "8. Develop and maintain relationships with IT vendors and suppliers.\n",
            "9. Maintain a high level of customer satisfaction by providing timely and efficient IT support.\n",
            "10. Develop and manage IT projects as necessary.\n",
            "Token will not been saved to git credential helper. Pass `add_to_git_credential=True` if you want to set the git credential as well.\n",
            "Token is valid (permission: read).\n",
            "Your token has been saved to /root/.cache/huggingface/token\n",
            "Login successful\n",
            "\n",
            "    Database Administrator\n",
            "\n",
            "\n",
            "\u001b[1m> Entering new RetrievalQA chain...\u001b[0m\n",
            "\n",
            "\u001b[1m> Finished chain.\u001b[0m\n",
            "page_content='Job Title: Database Administrator' metadata={'source': 'job_listings.csv', 'row': 0}\n",
            "page_content='Job Title: Database Administrator' metadata={'source': 'job_listings.csv', 'row': 1}\n",
            "page_content='Job Title: Database Administrator' metadata={'source': 'job_listings.csv', 'row': 51}\n",
            "What are examples of frameworks I would be working on as a Database Administrator?\n",
            "[Document(page_content='Job Title: Database Administrator', metadata={'source': 'job_listings.csv', 'row': 0}), Document(page_content='Job Title: Database Administrator', metadata={'source': 'job_listings.csv', 'row': 1}), Document(page_content='Job Title: Database Administrator', metadata={'source': 'job_listings.csv', 'row': 51})]\n",
            "\n",
            "As a Database Administrator, you may be working on frameworks such as MySQL, Oracle, SQL Server, and PostgreSQL. These frameworks are commonly used for managing databases and are essential in the role of a Database Administrator.\n",
            "Token will not been saved to git credential helper. Pass `add_to_git_credential=True` if you want to set the git credential as well.\n",
            "Token is valid (permission: read).\n",
            "Your token has been saved to /root/.cache/huggingface/token\n",
            "Login successful\n",
            "\n",
            "    game developer\n",
            "\n",
            "\n",
            "\u001b[1m> Entering new RetrievalQA chain...\u001b[0m\n",
            "\n",
            "\u001b[1m> Finished chain.\u001b[0m\n",
            "page_content='developers, internal customers and development teams, suppliers and key Open Source Software projects to facilitate effective development  of games.Make contributions to major game engines through game optimisations to achieve optimal performance on devices.Produce high quality deliverables (code, technology prototypes, written reports) Contribute to the development of the Android framework for mobile Travel to client premises to provide on-site support when needed Opportunity for mentoring and technical leadership  of a small team of GameDev engineers Keep up to date on the latest developments with Mobile software/hardware platforms and understand their architectures and how to design and develop new applications for them.Domestic/international travel as required to support game developers, attend tradeshows and evangelise GameDev Skills and Qualifications What we are looking for: A degree in Computer Science, or a relevant area, or relevant industry experience Expert C and graphics' metadata={'source': 'job_listings.csv', 'row': 61}\n",
            "page_content=\"Job Description: Games Developer (Unity, C#, C) Salary - 60k  bonus  Manchester City Center - 3 days a week Join a leading provider of innovative gaming solutions. We're on the lookout for a talented Games Developer to join our team as we embark on an exciting new project. If you're passionate about gaming and possess expertise in Unity, C#, and C, we want to  hear from you. As a Games Developer, you'll be integral to the development of a brand new, upcoming project. Collaborate with our team to create captivating gaming experiences for desktop and mobile platforms, utilizing your skills in Unity, C#, and C, as well as upskilling  with new technologies. Responsibilities:  Develop high-quality games for our platform using Unity, C#, and C.Implement game mechanics and features to create engaging player experiences.Optimize game performance and troubleshoot technical issues.Stay updated on industry trends to enhance our gaming offerings. Requirements:  Bachelor's degree in Computer\" metadata={'source': 'job_listings.csv', 'row': 12}\n",
            "page_content=\"and graphics into games, enhancing visual appeal and user engagement.Contribute to the entire game development lifecycle, from concept and design to deployment and maintenance.Stay updated on emerging technologies and best practices in game development to drive innovation and continuous improvement. Suggested Requirements:  Bachelor's degree in Computer Science, Game Dev, Software Engineering, or a related field.Minimum of 3 years of professional experience in game development, preferably within a game studio environment.Proficiency in React.js for front-end development and Node.js with if possible Colyseus.js framework for server-side development.Strong knowledge of C#.NET for API development and SQL for database management.Experience with multiplayer game development using Colyseus.js is highly desirable, but appreciate not many have this - so something similar.Solid understanding of animation and graphic design principles, with the ability to integrate them into\" metadata={'source': 'job_listings.csv', 'row': 4}\n",
            "Can you explain some skills or qualifications to become a game developer?\n",
            "[Document(page_content='developers, internal customers and development teams, suppliers and key Open Source Software projects to facilitate effective development  of games.Make contributions to major game engines through game optimisations to achieve optimal performance on devices.Produce high quality deliverables (code, technology prototypes, written reports) Contribute to the development of the Android framework for mobile Travel to client premises to provide on-site support when needed Opportunity for mentoring and technical leadership  of a small team of GameDev engineers Keep up to date on the latest developments with Mobile software/hardware platforms and understand their architectures and how to design and develop new applications for them.Domestic/international travel as required to support game developers, attend tradeshows and evangelise GameDev Skills and Qualifications What we are looking for: A degree in Computer Science, or a relevant area, or relevant industry experience Expert C and graphics', metadata={'source': 'job_listings.csv', 'row': 61}), Document(page_content=\"Job Description: Games Developer (Unity, C#, C) Salary - 60k  bonus  Manchester City Center - 3 days a week Join a leading provider of innovative gaming solutions. We're on the lookout for a talented Games Developer to join our team as we embark on an exciting new project. If you're passionate about gaming and possess expertise in Unity, C#, and C, we want to  hear from you. As a Games Developer, you'll be integral to the development of a brand new, upcoming project. Collaborate with our team to create captivating gaming experiences for desktop and mobile platforms, utilizing your skills in Unity, C#, and C, as well as upskilling  with new technologies. Responsibilities:  Develop high-quality games for our platform using Unity, C#, and C.Implement game mechanics and features to create engaging player experiences.Optimize game performance and troubleshoot technical issues.Stay updated on industry trends to enhance our gaming offerings. Requirements:  Bachelor's degree in Computer\", metadata={'source': 'job_listings.csv', 'row': 12}), Document(page_content=\"and graphics into games, enhancing visual appeal and user engagement.Contribute to the entire game development lifecycle, from concept and design to deployment and maintenance.Stay updated on emerging technologies and best practices in game development to drive innovation and continuous improvement. Suggested Requirements:  Bachelor's degree in Computer Science, Game Dev, Software Engineering, or a related field.Minimum of 3 years of professional experience in game development, preferably within a game studio environment.Proficiency in React.js for front-end development and Node.js with if possible Colyseus.js framework for server-side development.Strong knowledge of C#.NET for API development and SQL for database management.Experience with multiplayer game development using Colyseus.js is highly desirable, but appreciate not many have this - so something similar.Solid understanding of animation and graphic design principles, with the ability to integrate them into\", metadata={'source': 'job_listings.csv', 'row': 4})]\n",
            "\n",
            "To become a game developer, you need to have a strong foundation in programming languages such as C, C++, and C#. You should also have experience in game engine development, graphics programming, and game design. Additionally, you should be familiar with game development tools such as Unity and Unreal Engine.\n",
            "\n",
            "It's also important to have a strong understanding of game development concepts such as game mechanics, user interface design, and game physics. You should be able to develop games for different platforms such as desktop, mobile, and web.\n",
            "\n",
            "Finally, it's important to have a strong portfolio of games and projects that demonstrate your skills and experience in game development. This can include personal projects, contributions to open source game engines, and professional projects.\n",
            "Token will not been saved to git credential helper. Pass `add_to_git_credential=True` if you want to set the git credential as well.\n",
            "Token is valid (permission: read).\n",
            "Your token has been saved to /root/.cache/huggingface/token\n",
            "Login successful\n",
            "\n",
            "    Cybersecurity professional\n",
            "\n",
            "\n",
            "\u001b[1m> Entering new RetrievalQA chain...\u001b[0m\n",
            "\n",
            "\u001b[1m> Finished chain.\u001b[0m\n",
            "page_content='solutions.Conduct gap analysis on client systems, to identify current security posture versus current security best practicesWork within the security team to provide Cybersecurity advice and guidance, heavily focused on Microsoft 365 Cloud Security Solutions, Governance, and Compliance.Act as a mentor to junior members of the teams to monitor and respond to client cybersecurity incidents, and lead on the resolutionWork collaboratively with the Technical and Project teams. Skills Required for the Cybersecurity Consultant:  Knowledge of IAM, MFA, MDM and DLP technologiesDemonstrable experience leading on Information Risk, Compliance and Governance.Advanced knowledge of managing MS365 Cloud security solutions (Endpoint, Defender, Azure)Cyber Essentials Assessor status or prerequisites to achieve this.Demonstrable knowledge of applying security standards and frameworks across a range of industries, including but not limited to; Cyber Essentials, GDPR, ISO27001, NIST, CIS. If this role is' metadata={'source': 'job_listings.csv', 'row': 0}\n",
            "page_content='Job Description: Cyber Security Placement Programme - No Experience Required Are you looking to benefit from a new career in IT and Cybersecurity? Skills shortages in the IT sector are driving the need for qualified, entry-level career seekers and career  changers. We help place graduates from this programme in top UK companies and organisations needing to employ entry-level IT and Cybersecurity staff that can hit the ground running with up-to-date skills gained from this programme. The best part is you will not need any previous experience as fully accredited training, which includes tutor support and mentoring, provides you with the skills, practical knowledge and qualifications for you to secure a professional job and career in IT.  You will also have the reassurance of a job guarantee (18K-35K) upon completion. Whether you are working full time, part time or are unemployed, this package has the flexibility to be completed at a pace that suits you and can be completed in a few' metadata={'source': 'job_listings.csv', 'row': 1}\n",
            "page_content='Job Description: Cyber Security Placement Programme - No Experience Required Are you looking to benefit from a new career in IT and Cybersecurity? Skills shortages in the IT sector are driving the need for qualified, entry-level career seekers and career  changers. We help place graduates from this programme in top UK companies and organisations needing to employ entry-level IT and Cybersecurity staff that can hit the ground running with up-to-date skills gained from this programme. The best part is you will not need any previous experience as fully accredited training, which includes tutor support and mentoring, provides you with the skills, practical knowledge and qualifications for you to secure a professional job and career in IT.  You will also have the reassurance of a job guarantee (18K-35K) upon completion. Whether you are working full time, part time or are unemployed, this package has the flexibility to be completed at a pace that suits you and can be completed in a few' metadata={'source': 'job_listings.csv', 'row': 2}\n",
            "What are the special skills a professional working in cybersecurity should have?\n",
            "[Document(page_content='solutions.Conduct gap analysis on client systems, to identify current security posture versus current security best practicesWork within the security team to provide Cybersecurity advice and guidance, heavily focused on Microsoft 365 Cloud Security Solutions, Governance, and Compliance.Act as a mentor to junior members of the teams to monitor and respond to client cybersecurity incidents, and lead on the resolutionWork collaboratively with the Technical and Project teams. Skills Required for the Cybersecurity Consultant:  Knowledge of IAM, MFA, MDM and DLP technologiesDemonstrable experience leading on Information Risk, Compliance and Governance.Advanced knowledge of managing MS365 Cloud security solutions (Endpoint, Defender, Azure)Cyber Essentials Assessor status or prerequisites to achieve this.Demonstrable knowledge of applying security standards and frameworks across a range of industries, including but not limited to; Cyber Essentials, GDPR, ISO27001, NIST, CIS. If this role is', metadata={'source': 'job_listings.csv', 'row': 0}), Document(page_content='Job Description: Cyber Security Placement Programme - No Experience Required Are you looking to benefit from a new career in IT and Cybersecurity? Skills shortages in the IT sector are driving the need for qualified, entry-level career seekers and career  changers. We help place graduates from this programme in top UK companies and organisations needing to employ entry-level IT and Cybersecurity staff that can hit the ground running with up-to-date skills gained from this programme. The best part is you will not need any previous experience as fully accredited training, which includes tutor support and mentoring, provides you with the skills, practical knowledge and qualifications for you to secure a professional job and career in IT.  You will also have the reassurance of a job guarantee (18K-35K) upon completion. Whether you are working full time, part time or are unemployed, this package has the flexibility to be completed at a pace that suits you and can be completed in a few', metadata={'source': 'job_listings.csv', 'row': 1}), Document(page_content='Job Description: Cyber Security Placement Programme - No Experience Required Are you looking to benefit from a new career in IT and Cybersecurity? Skills shortages in the IT sector are driving the need for qualified, entry-level career seekers and career  changers. We help place graduates from this programme in top UK companies and organisations needing to employ entry-level IT and Cybersecurity staff that can hit the ground running with up-to-date skills gained from this programme. The best part is you will not need any previous experience as fully accredited training, which includes tutor support and mentoring, provides you with the skills, practical knowledge and qualifications for you to secure a professional job and career in IT.  You will also have the reassurance of a job guarantee (18K-35K) upon completion. Whether you are working full time, part time or are unemployed, this package has the flexibility to be completed at a pace that suits you and can be completed in a few', metadata={'source': 'job_listings.csv', 'row': 2})]\n",
            "1. Strong technical skills: In order to be a professional in cybersecurity, one must have a strong technical knowledge of various security tools and technologies.\n",
            "2. Communication skills: A professional in cybersecurity should be able to communicate effectively with their team and other stakeholders.\n",
            "3. Problem-solving skills: A professional in cybersecurity should be able to identify and solve complex problems.\n",
            "4. Attention to detail: A professional in cybersecurity should be able to pay attention to the smallest details and take the necessary steps to ensure that everything is done correctly.\n",
            "5. Critical thinking skills: A professional in cybersecurity should be able to think critically and make sound decisions in order to protect their organization.\n",
            "6. Self-management skills: A professional in cybersecurity should be able to manage their time effectively, work independently and take ownership of their own projects.\n",
            "7. Adaptability: A professional in cybersecurity should be able to adapt quickly to changes and new technologies.\n",
            "8. Leadership skills: A professional in cybersecurity should\n",
            "Token will not been saved to git credential helper. Pass `add_to_git_credential=True` if you want to set the git credential as well.\n",
            "Token is valid (permission: read).\n",
            "Your token has been saved to /root/.cache/huggingface/token\n",
            "Login successful\n",
            "\n",
            "    UX designer\n",
            "\n",
            "\n",
            "\u001b[1m> Entering new RetrievalQA chain...\u001b[0m\n",
            "\n",
            "\u001b[1m> Finished chain.\u001b[0m\n",
            "page_content='Job Description: UX Designer A Senior UX Designer role at an exciting software development house who have been developing a wide range of products (browser, mobile apps, cloud projects). The company are expanding their UK operations exponentially and are hiring across all levels. The role of the UX Designer is to evolve existing products and adopt new technologies and modern UX practices, whilst playing an integral role in developing brand-new, ground-breaking solutions. Working in a growing team, the UX Designer will be working closely with Internal and External stakeholders (including product managers, Scrum masters, development teams and end users). You will be involved in research, definition and creation of solution-oriented  software as well as contributing to UX requirements / cross-product outputs. The skills of the UX designer includes but is not limited to, discovery, definition, research, workshopping user requirements for a better user journey, testing prototypes, end user' metadata={'source': 'job_listings.csv', 'row': 22}\n",
            "page_content='Job Title: UX Designer' metadata={'source': 'job_listings.csv', 'row': 18}\n",
            "page_content='Job Title: UX Designer' metadata={'source': 'job_listings.csv', 'row': 19}\n",
            "What does a typical UX designer do?\n",
            "[Document(page_content='Job Description: UX Designer A Senior UX Designer role at an exciting software development house who have been developing a wide range of products (browser, mobile apps, cloud projects). The company are expanding their UK operations exponentially and are hiring across all levels. The role of the UX Designer is to evolve existing products and adopt new technologies and modern UX practices, whilst playing an integral role in developing brand-new, ground-breaking solutions. Working in a growing team, the UX Designer will be working closely with Internal and External stakeholders (including product managers, Scrum masters, development teams and end users). You will be involved in research, definition and creation of solution-oriented  software as well as contributing to UX requirements / cross-product outputs. The skills of the UX designer includes but is not limited to, discovery, definition, research, workshopping user requirements for a better user journey, testing prototypes, end user', metadata={'source': 'job_listings.csv', 'row': 22}), Document(page_content='Job Title: UX Designer', metadata={'source': 'job_listings.csv', 'row': 18}), Document(page_content='Job Title: UX Designer', metadata={'source': 'job_listings.csv', 'row': 19})]\n",
            "A UX designer is responsible for creating user-friendly interfaces and experiences that align with the product's goals, while ensuring a consistent and seamless user journey. They collaborate with developers, product managers, and end-users to identify user needs, develop user flows, and create wireframes and prototypes to test their designs. The role requires a mix of technical and creative skills, including problem-solving, communication, and design thinking.\n",
            "Token will not been saved to git credential helper. Pass `add_to_git_credential=True` if you want to set the git credential as well.\n",
            "Token is valid (permission: read).\n",
            "Your token has been saved to /root/.cache/huggingface/token\n",
            "Login successful\n",
            "\n",
            "    AI engineer.\n",
            "\n",
            "\n",
            "\u001b[1m> Entering new RetrievalQA chain...\u001b[0m\n",
            "\n",
            "\u001b[1m> Finished chain.\u001b[0m\n",
            "page_content='Job Title: AI Engineer' metadata={'source': 'job_listings.csv', 'row': 3}\n",
            "page_content='Job Title: AI Engineer' metadata={'source': 'job_listings.csv', 'row': 4}\n",
            "page_content='Job Title: AI / Computer Vision Engineer' metadata={'source': 'job_listings.csv', 'row': 16}\n",
            "What do recruiters look for in an AI engineer?\n",
            "[Document(page_content='Job Title: AI Engineer', metadata={'source': 'job_listings.csv', 'row': 3}), Document(page_content='Job Title: AI Engineer', metadata={'source': 'job_listings.csv', 'row': 4}), Document(page_content='Job Title: AI / Computer Vision Engineer', metadata={'source': 'job_listings.csv', 'row': 16})]\n",
            "\n",
            "Recruiters typically look for candidates with a strong foundation in programming and mathematics, as well as experience with machine learning and data analysis. They also look for candidates who have worked on real-world projects and have a good understanding of the latest developments in the field. In addition, recruiters may look for candidates with strong communication skills, as they often need to work with other engineers and stakeholders.\n",
            "Token will not been saved to git credential helper. Pass `add_to_git_credential=True` if you want to set the git credential as well.\n",
            "Token is valid (permission: read).\n",
            "Your token has been saved to /root/.cache/huggingface/token\n",
            "Login successful\n",
            "\n",
            "    Game developer\n",
            "\n",
            "\n",
            "\u001b[1m> Entering new RetrievalQA chain...\u001b[0m\n",
            "\n",
            "\u001b[1m> Finished chain.\u001b[0m\n",
            "page_content='developers, internal customers and development teams, suppliers and key Open Source Software projects to facilitate effective development  of games.Make contributions to major game engines through game optimisations to achieve optimal performance on devices.Produce high quality deliverables (code, technology prototypes, written reports) Contribute to the development of the Android framework for mobile Travel to client premises to provide on-site support when needed Opportunity for mentoring and technical leadership  of a small team of GameDev engineers Keep up to date on the latest developments with Mobile software/hardware platforms and understand their architectures and how to design and develop new applications for them.Domestic/international travel as required to support game developers, attend tradeshows and evangelise GameDev Skills and Qualifications What we are looking for: A degree in Computer Science, or a relevant area, or relevant industry experience Expert C and graphics' metadata={'source': 'job_listings.csv', 'row': 61}\n",
            "page_content='with the ability to integrate them into games.Self-motivated individual with excellent problem-solving skills and a passion for gaming.Ability to work collaboratively in a fast-paced environment and adapt to changing priorities.Excellent communication and teamwork skills. If you think this Web Game Developer role is a good fit for you apply now.' metadata={'source': 'job_listings.csv', 'row': 4}\n",
            "page_content=\"Job Description: Games Developer (Unity, C#, C) Salary - 60k  bonus  Manchester City Center - 3 days a week Join a leading provider of innovative gaming solutions. We're on the lookout for a talented Games Developer to join our team as we embark on an exciting new project. If you're passionate about gaming and possess expertise in Unity, C#, and C, we want to  hear from you. As a Games Developer, you'll be integral to the development of a brand new, upcoming project. Collaborate with our team to create captivating gaming experiences for desktop and mobile platforms, utilizing your skills in Unity, C#, and C, as well as upskilling  with new technologies. Responsibilities:  Develop high-quality games for our platform using Unity, C#, and C.Implement game mechanics and features to create engaging player experiences.Optimize game performance and troubleshoot technical issues.Stay updated on industry trends to enhance our gaming offerings. Requirements:  Bachelor's degree in Computer\" metadata={'source': 'job_listings.csv', 'row': 12}\n",
            "If I want to get a graduate role in game developing, what skills should I expand on?\n",
            "[Document(page_content='developers, internal customers and development teams, suppliers and key Open Source Software projects to facilitate effective development  of games.Make contributions to major game engines through game optimisations to achieve optimal performance on devices.Produce high quality deliverables (code, technology prototypes, written reports) Contribute to the development of the Android framework for mobile Travel to client premises to provide on-site support when needed Opportunity for mentoring and technical leadership  of a small team of GameDev engineers Keep up to date on the latest developments with Mobile software/hardware platforms and understand their architectures and how to design and develop new applications for them.Domestic/international travel as required to support game developers, attend tradeshows and evangelise GameDev Skills and Qualifications What we are looking for: A degree in Computer Science, or a relevant area, or relevant industry experience Expert C and graphics', metadata={'source': 'job_listings.csv', 'row': 61}), Document(page_content='with the ability to integrate them into games.Self-motivated individual with excellent problem-solving skills and a passion for gaming.Ability to work collaboratively in a fast-paced environment and adapt to changing priorities.Excellent communication and teamwork skills. If you think this Web Game Developer role is a good fit for you apply now.', metadata={'source': 'job_listings.csv', 'row': 4}), Document(page_content=\"Job Description: Games Developer (Unity, C#, C) Salary - 60k  bonus  Manchester City Center - 3 days a week Join a leading provider of innovative gaming solutions. We're on the lookout for a talented Games Developer to join our team as we embark on an exciting new project. If you're passionate about gaming and possess expertise in Unity, C#, and C, we want to  hear from you. As a Games Developer, you'll be integral to the development of a brand new, upcoming project. Collaborate with our team to create captivating gaming experiences for desktop and mobile platforms, utilizing your skills in Unity, C#, and C, as well as upskilling  with new technologies. Responsibilities:  Develop high-quality games for our platform using Unity, C#, and C.Implement game mechanics and features to create engaging player experiences.Optimize game performance and troubleshoot technical issues.Stay updated on industry trends to enhance our gaming offerings. Requirements:  Bachelor's degree in Computer\", metadata={'source': 'job_listings.csv', 'row': 12})]\n",
            "\n",
            "1. Game design: This involves understanding the structure and mechanics of games, as well as designing new games and features.\n",
            "\n",
            "2. Programming: You will need to be proficient in programming languages such as C++, C#, and Java to create games.\n",
            "\n",
            "3. 3D modeling: This involves creating 3D models and animations for games.\n",
            "\n",
            "4. Game engine: This involves understanding the inner workings of game engines and how to optimize them for performance.\n",
            "\n",
            "5. Game testing: You will need to be able to test games and troubleshoot any problems.\n",
            "\n",
            "6. Game design documentation: This involves creating documentation for game design, including user manuals and design guides.\n",
            "\n",
            "7. Game physics: This involves understanding the physics of games and how to create realistic physics engines.\n",
            "\n",
            "8. Game graphics: This involves creating graphics for games, including 2D and 3D graphics.\n",
            "\n",
            "9. Game animation: This involves creating animations for games\n",
            "Token will not been saved to git credential helper. Pass `add_to_git_credential=True` if you want to set the git credential as well.\n",
            "Token is valid (permission: read).\n",
            "Your token has been saved to /root/.cache/huggingface/token\n",
            "Login successful\n",
            "\n",
            "    Software Architect.\n",
            "\n",
            "\n",
            "\u001b[1m> Entering new RetrievalQA chain...\u001b[0m\n",
            "\n",
            "\u001b[1m> Finished chain.\u001b[0m\n",
            "page_content='Job Title: Software Architect' metadata={'source': 'job_listings.csv', 'row': 0}\n",
            "page_content='Job Title: Software Architect' metadata={'source': 'job_listings.csv', 'row': 17}\n",
            "page_content='Job Title: Software Architect' metadata={'source': 'job_listings.csv', 'row': 18}\n",
            "Based on job descriptions, what does a software architect do?\n",
            "[Document(page_content='Job Title: Software Architect', metadata={'source': 'job_listings.csv', 'row': 0}), Document(page_content='Job Title: Software Architect', metadata={'source': 'job_listings.csv', 'row': 17}), Document(page_content='Job Title: Software Architect', metadata={'source': 'job_listings.csv', 'row': 18})]\n",
            "A software architect is a professional who designs, develops, and maintains software systems to meet specific requirements. They are responsible for the overall architecture, design, and implementation of software solutions.\n",
            "Token will not been saved to git credential helper. Pass `add_to_git_credential=True` if you want to set the git credential as well.\n",
            "Token is valid (permission: read).\n",
            "Your token has been saved to /root/.cache/huggingface/token\n",
            "Login successful\n",
            "\n",
            "    software analyst\n",
            "\n",
            "\n",
            "\u001b[1m> Entering new RetrievalQA chain...\u001b[0m\n",
            "\n",
            "\u001b[1m> Finished chain.\u001b[0m\n",
            "page_content=\"a Software Support Analyst you will have an interesting and varied role. Some of your responsibilities will include:  Monitoring support tickets through a ticketing systemClarifying requirements with the client when necessaryVerify solutions and confirm them with clients or colleaguesEdit and create reports as asked for by clientsProviding strong customer service to clientsOther responsibilities as required The person Unforutnately, desire, as much as it is important, is not enough. You will also need:  Experience using SQL or a similar languageStrong customer service skillsOne or two years experience in a similar roleIT/ Web programming knowledgeGood communications skillsFriendlyPositive influence Interested? Then apply and be a key part of this company's journey. All the best, Charlie SyrettRichmond Square Consulting Ltd Other job titles: Support Analyst, Application Support Analyst, Application Engineer, Application Analyst, 2nd line support, Service Desk Analyst, Technical Support\" metadata={'source': 'job_listings.csv', 'row': 45}\n",
            "page_content='Job Description: Software Support AnalystCirencester, hybrid (x3 days in the office) Software Support Analyst to work for an independent software company who have won various accolades of excellence and have a company culture to be envied. As a Software Support Analyst you will focus on the client experience. The Software Support Analyst  will resolve problems head on and be solution focused. BenefitsAs a Software Support Analyst for this awesome company, you will benefit from:  Starting salary of 28,000 - 33,000 (depending on experience)Generous Annual Leave (25 days  Bank Holidays, rising to 28, with an additional 1 day per month available as incentives)Pension PlanHybrid working (nice balance of home and office)Free parkingEmployee Assistant Programme (including Mental Health and Life  Welbeing guidance and care)Company EventsCharity EventsAwesome team of friendly and knowledgeable peersOpportunity for career progression The RoleAs a Software Support Analyst you will have an' metadata={'source': 'job_listings.csv', 'row': 45}\n",
            "page_content='Job Description: Senior Software Engineer / Analyst - Defence sector  Locations - Winchester, Hampshire - Hybrid working. Salary - Negotiable around d 50K-70K plus bonus and benefits package  Our client is looking for a positive, flexible self-starter to join their team as a software engineer. This is an exciting opportunity to play a leading role in delivering software solutions as an integral part of a small, agile and growing business. Their team of analysts, consultants, software specialists and Defence SMEs work closely with their customers to deliver high-impact services and solutions. They provide software applications and data science capability to support their clients decision-making  processes. As Software Engineer your role will include:  Developing high quality software applications for business users.Using agile approaches to develop applications and tools, including requirements capture, design, development, testing and management.Following software development best' metadata={'source': 'job_listings.csv', 'row': 42}\n",
            "If I want to become a software anlayst, please advise me where to start.\n",
            "[Document(page_content=\"a Software Support Analyst you will have an interesting and varied role. Some of your responsibilities will include:  Monitoring support tickets through a ticketing systemClarifying requirements with the client when necessaryVerify solutions and confirm them with clients or colleaguesEdit and create reports as asked for by clientsProviding strong customer service to clientsOther responsibilities as required The person Unforutnately, desire, as much as it is important, is not enough. You will also need:  Experience using SQL or a similar languageStrong customer service skillsOne or two years experience in a similar roleIT/ Web programming knowledgeGood communications skillsFriendlyPositive influence Interested? Then apply and be a key part of this company's journey. All the best, Charlie SyrettRichmond Square Consulting Ltd Other job titles: Support Analyst, Application Support Analyst, Application Engineer, Application Analyst, 2nd line support, Service Desk Analyst, Technical Support\", metadata={'source': 'job_listings.csv', 'row': 45}), Document(page_content='Job Description: Software Support AnalystCirencester, hybrid (x3 days in the office) Software Support Analyst to work for an independent software company who have won various accolades of excellence and have a company culture to be envied. As a Software Support Analyst you will focus on the client experience. The Software Support Analyst  will resolve problems head on and be solution focused. BenefitsAs a Software Support Analyst for this awesome company, you will benefit from:  Starting salary of 28,000 - 33,000 (depending on experience)Generous Annual Leave (25 days  Bank Holidays, rising to 28, with an additional 1 day per month available as incentives)Pension PlanHybrid working (nice balance of home and office)Free parkingEmployee Assistant Programme (including Mental Health and Life  Welbeing guidance and care)Company EventsCharity EventsAwesome team of friendly and knowledgeable peersOpportunity for career progression The RoleAs a Software Support Analyst you will have an', metadata={'source': 'job_listings.csv', 'row': 45}), Document(page_content='Job Description: Senior Software Engineer / Analyst - Defence sector  Locations - Winchester, Hampshire - Hybrid working. Salary - Negotiable around d 50K-70K plus bonus and benefits package  Our client is looking for a positive, flexible self-starter to join their team as a software engineer. This is an exciting opportunity to play a leading role in delivering software solutions as an integral part of a small, agile and growing business. Their team of analysts, consultants, software specialists and Defence SMEs work closely with their customers to deliver high-impact services and solutions. They provide software applications and data science capability to support their clients decision-making  processes. As Software Engineer your role will include:  Developing high quality software applications for business users.Using agile approaches to develop applications and tools, including requirements capture, design, development, testing and management.Following software development best', metadata={'source': 'job_listings.csv', 'row': 42})]\n",
            "\n",
            "1. Learn programming languages: Start by learning the basics of programming languages such as C++, Java, Python, and SQL.\n",
            "\n",
            "2. Practice coding: Start by practicing coding and writing code to solve problems.\n",
            "\n",
            "3. Learn object-oriented programming: Learn object-oriented programming, which is a popular approach to programming.\n",
            "\n",
            "4. Learn database design: Learn database design and learn how to work with databases.\n",
            "\n",
            "5. Learn software development: Learn software development, which includes requirements gathering, design, development, testing, and management.\n",
            "\n",
            "6. Learn project management: Learn project management, which involves planning, scheduling, and managing projects.\n",
            "\n",
            "7. Learn about software testing: Learn about software testing, which involves testing software applications for bugs and errors.\n",
            "\n",
            "8. Learn about software security: Learn about software security, which involves protecting software applications from malicious attacks.\n",
            "\n",
            "9. Learn about software development methodologies: Learn about software development methodologies, which involve\n",
            "Token will not been saved to git credential helper. Pass `add_to_git_credential=True` if you want to set the git credential as well.\n",
            "Token is valid (permission: read).\n",
            "Your token has been saved to /root/.cache/huggingface/token\n",
            "Login successful\n",
            "\n",
            "    AI engineer\n",
            "\n",
            "\n",
            "\u001b[1m> Entering new RetrievalQA chain...\u001b[0m\n",
            "\n",
            "\u001b[1m> Finished chain.\u001b[0m\n",
            "page_content=\"Job Description: AI EngineerLondon70,000 - 90,000 If you're an NLP and LLM's expert and thrive when working in a fast-paced start-up environment this could be a great next step for you. This data-driven start-up uses AI at the core of the business. They are looking to continue expanding their AI team by hiring an AI Engineer / Machine Learning Engineer focusing on building and deploying machine learning models, specifically working in the  LLM's space. THE ROLE As an AI Engineer for the business you will:  Work on projects from ideation through to deployment - being responsible for both building models and putting them into production in a cloud environmentWorking specifically on LLM's projects for the businessLiaise with both technical and non-technical stakeholders across the business SKILLS AND EXPERIENCE  Strong academic background to Degree level in a numerical subjectCommercial experience in Data Science with at least 1 year working in NLP and LLM'sExperience deploying models\" metadata={'source': 'job_listings.csv', 'row': 3}\n",
            "page_content='Job Title: AI Engineer' metadata={'source': 'job_listings.csv', 'row': 3}\n",
            "page_content='Job Title: AI Engineer' metadata={'source': 'job_listings.csv', 'row': 4}\n",
            "Explain several frameworks an AI engineer need to know how to use.\n",
            "[Document(page_content=\"Job Description: AI EngineerLondon70,000 - 90,000 If you're an NLP and LLM's expert and thrive when working in a fast-paced start-up environment this could be a great next step for you. This data-driven start-up uses AI at the core of the business. They are looking to continue expanding their AI team by hiring an AI Engineer / Machine Learning Engineer focusing on building and deploying machine learning models, specifically working in the  LLM's space. THE ROLE As an AI Engineer for the business you will:  Work on projects from ideation through to deployment - being responsible for both building models and putting them into production in a cloud environmentWorking specifically on LLM's projects for the businessLiaise with both technical and non-technical stakeholders across the business SKILLS AND EXPERIENCE  Strong academic background to Degree level in a numerical subjectCommercial experience in Data Science with at least 1 year working in NLP and LLM'sExperience deploying models\", metadata={'source': 'job_listings.csv', 'row': 3}), Document(page_content='Job Title: AI Engineer', metadata={'source': 'job_listings.csv', 'row': 3}), Document(page_content='Job Title: AI Engineer', metadata={'source': 'job_listings.csv', 'row': 4})]\n",
            "1. Object-oriented programming languages such as Python, Java, and C++.\n",
            "2. Libraries such as TensorFlow, PyTorch, and Keras.\n",
            "3. Data visualization tools such as Matplotlib and Seaborn.\n",
            "4. Natural language processing frameworks such as NLTK and TensorFlow.\n",
            "5. Machine learning frameworks such as TensorFlow, PyTorch, and scikit-learn.\n",
            "6. Deep learning frameworks such as TensorFlow, PyTorch, and scikit-learn.\n",
            "7. Reinforcement learning frameworks such as TensorFlow, PyTorch, and scikit-learn.\n",
            "8. Computer vision frameworks such as TensorFlow, PyTorch, and scikit-learn.\n",
            "9. Neural networks such as convolutional neural networks and recurrent neural networks.\n",
            "10. Generative models such as generative adversarial networks.\n",
            "11. Feature engineering techniques such as feature selection, feature extraction, and\n",
            "Token will not been saved to git credential helper. Pass `add_to_git_credential=True` if you want to set the git credential as well.\n",
            "Token is valid (permission: read).\n",
            "Your token has been saved to /root/.cache/huggingface/token\n",
            "Login successful\n",
            "\n",
            "    UX designer\n",
            "\n",
            "\n",
            "\u001b[1m> Entering new RetrievalQA chain...\u001b[0m\n",
            "\n",
            "\u001b[1m> Finished chain.\u001b[0m\n",
            "page_content='Job Description: UX Designer A Senior UX Designer role at an exciting software development house who have been developing a wide range of products (browser, mobile apps, cloud projects). The company are expanding their UK operations exponentially and are hiring across all levels. The role of the UX Designer is to evolve existing products and adopt new technologies and modern UX practices, whilst playing an integral role in developing brand-new, ground-breaking solutions. Working in a growing team, the UX Designer will be working closely with Internal and External stakeholders (including product managers, Scrum masters, development teams and end users). You will be involved in research, definition and creation of solution-oriented  software as well as contributing to UX requirements / cross-product outputs. The skills of the UX designer includes but is not limited to, discovery, definition, research, workshopping user requirements for a better user journey, testing prototypes, end user' metadata={'source': 'job_listings.csv', 'row': 22}\n",
            "page_content='Job Description: To further our expansion, we are now recruiting for a UX Designer to play a prominent role in our UX Team, producing designs for our award-winning platforms.You will be tasked with analysing and interpreting requirements and using your skills in sketching, wireframing and prototyping to produce interface designs that align with the business goals of providing delightful experiences for our users.Including: -  Leading Design Projects: Taking ownership of specific design projects, overseeing the entire process from initial research to final implementation.Turning Ideas into Wireframes and Prototypes: Translating concepts into tangible design assets, creating both wireframes and interactive prototypes to visualize and test design solutions.Coordinating with Developers: Collaborating closely with development teams to ensure design specifications are understood and implemented accurately, addressing technical constraints as needed.Managing Design Iterations: Overseeing the' metadata={'source': 'job_listings.csv', 'row': 0}\n",
            "page_content='Job Title: UX Designer' metadata={'source': 'job_listings.csv', 'row': 18}\n",
            "Please describe the responsibilities of a UX designer\n",
            "[Document(page_content='Job Description: UX Designer A Senior UX Designer role at an exciting software development house who have been developing a wide range of products (browser, mobile apps, cloud projects). The company are expanding their UK operations exponentially and are hiring across all levels. The role of the UX Designer is to evolve existing products and adopt new technologies and modern UX practices, whilst playing an integral role in developing brand-new, ground-breaking solutions. Working in a growing team, the UX Designer will be working closely with Internal and External stakeholders (including product managers, Scrum masters, development teams and end users). You will be involved in research, definition and creation of solution-oriented  software as well as contributing to UX requirements / cross-product outputs. The skills of the UX designer includes but is not limited to, discovery, definition, research, workshopping user requirements for a better user journey, testing prototypes, end user', metadata={'source': 'job_listings.csv', 'row': 22}), Document(page_content='Job Description: To further our expansion, we are now recruiting for a UX Designer to play a prominent role in our UX Team, producing designs for our award-winning platforms.You will be tasked with analysing and interpreting requirements and using your skills in sketching, wireframing and prototyping to produce interface designs that align with the business goals of providing delightful experiences for our users.Including: -  Leading Design Projects: Taking ownership of specific design projects, overseeing the entire process from initial research to final implementation.Turning Ideas into Wireframes and Prototypes: Translating concepts into tangible design assets, creating both wireframes and interactive prototypes to visualize and test design solutions.Coordinating with Developers: Collaborating closely with development teams to ensure design specifications are understood and implemented accurately, addressing technical constraints as needed.Managing Design Iterations: Overseeing the', metadata={'source': 'job_listings.csv', 'row': 0}), Document(page_content='Job Title: UX Designer', metadata={'source': 'job_listings.csv', 'row': 18})]\n",
            "\n",
            "A UX designer is responsible for designing user-centered products, services, and experiences. Their role includes researching and understanding user needs and behaviors, creating user-centered designs, and testing and refining those designs with users. UX designers also collaborate with other teams, including product, engineering, and marketing, to ensure that the end product is user-friendly and meets the company's goals. They also create prototypes and sketches to communicate their design ideas and work with stakeholders to ensure that the product meets the user's needs. Additionally, UX designers are also responsible for creating user flows and journey maps, as well as designing and testing the user interface.\n",
            "Token will not been saved to git credential helper. Pass `add_to_git_credential=True` if you want to set the git credential as well.\n",
            "Token is valid (permission: read).\n",
            "Your token has been saved to /root/.cache/huggingface/token\n",
            "Login successful\n",
            "\n",
            "    Cloud Engineer.\n",
            "\n",
            "\n",
            "\u001b[1m> Entering new RetrievalQA chain...\u001b[0m\n",
            "\n",
            "\u001b[1m> Finished chain.\u001b[0m\n",
            "page_content=\"Job Description: Cloud Engineer Salary: 51,000  PackageLocation: Manchester(Hybrid)Large Pension Contribution, Annual Leave, Government Benefits, Internal Progression and Exciting projects to work on I'm currently working with an NHS trust based in the Manchester area who are looking for someone with strong knowledge of cloud infrastructure/architecture and how to build cloud services to join as a Cloud Engineer. The successful applicant will join a well-established  IT team to support with the trusts move from on-prem to a cloud environment! As the Cloud Engineer, you will be heavily involved in cloud  infrastructure projects across the trust, whilst being able to advise and recommend best ways to go forward with a cloud first mindset. The Cloud Engineer will benefit from a very strong work-life balance that includes flexible, hybrid working and great opportunities for training and development. Skills required for the Cloud Engineer are:- Knowledge  Understanding of On-Prem and Cloud\" metadata={'source': 'job_listings.csv', 'row': 60}\n",
            "page_content='Job Description: Profectus have a brand new opportunity for a Cloud Engineer with a client experiencing healthy growth. The ideal candidate will have 2 experience with Azure. This company offers a flexible Hybrid model with an office in Nottingham to suit your individual needs. That being once a week in the office.You will be working for an impressive company that really promotes a positive work culture. Being a dynamic organisation you will have the opportunity to work on various projects with progression on offer. The Engineering team has a great feel about it and  pulls together on each project to ensure they produce and deliver the best results possible. As a Cloud Engineer, you will...  Be proficient with Azure services such as networking, databases and storage. Able to design scalable cloud solutions on track with business requirements.Provide solutions for cloud-related issues, troubleshooting, and outages. If this sounds like you apply now with your latest CV.' metadata={'source': 'job_listings.csv', 'row': 56}\n",
            "page_content='Job Description: Cloud Engineer Cloud Engineer - Nottingham (Tech stack: Cloud Engineer, Cloud, Microsoft Azure, Azure App Service, Azure SQL Database, Azure Functions, Azure DevOps, Cloud Engineer) We are seeking a talented Cloud Engineer with specialised experience in Azure to join a dynamic team. As a Cloud Engineer, you will play a crucial role in designing, implementing, and maintaining cloud infrastructure on the Azure platform. Our client is looking for passionate Cloud Engineer candidates with experience in the following:  Design, deploy, and maintain scalable and secure cloud solutions on the Azure platform.Collaborate with cross-functional teams to understand business requirements and translate them into cloud-based solutions.Implement best practices for cloud security, monitoring, and performance optimisation.Automate processes and workflows using Azure DevOps or similar tools.Troubleshoot issues related to cloud infrastructure and provide timely resolution.Stay updated' metadata={'source': 'job_listings.csv', 'row': 51}\n",
            "Advise on what to learn to become a proficient cloud engineer.\n",
            "[Document(page_content=\"Job Description: Cloud Engineer Salary: 51,000  PackageLocation: Manchester(Hybrid)Large Pension Contribution, Annual Leave, Government Benefits, Internal Progression and Exciting projects to work on I'm currently working with an NHS trust based in the Manchester area who are looking for someone with strong knowledge of cloud infrastructure/architecture and how to build cloud services to join as a Cloud Engineer. The successful applicant will join a well-established  IT team to support with the trusts move from on-prem to a cloud environment! As the Cloud Engineer, you will be heavily involved in cloud  infrastructure projects across the trust, whilst being able to advise and recommend best ways to go forward with a cloud first mindset. The Cloud Engineer will benefit from a very strong work-life balance that includes flexible, hybrid working and great opportunities for training and development. Skills required for the Cloud Engineer are:- Knowledge  Understanding of On-Prem and Cloud\", metadata={'source': 'job_listings.csv', 'row': 60}), Document(page_content='Job Description: Profectus have a brand new opportunity for a Cloud Engineer with a client experiencing healthy growth. The ideal candidate will have 2 experience with Azure. This company offers a flexible Hybrid model with an office in Nottingham to suit your individual needs. That being once a week in the office.You will be working for an impressive company that really promotes a positive work culture. Being a dynamic organisation you will have the opportunity to work on various projects with progression on offer. The Engineering team has a great feel about it and  pulls together on each project to ensure they produce and deliver the best results possible. As a Cloud Engineer, you will...  Be proficient with Azure services such as networking, databases and storage. Able to design scalable cloud solutions on track with business requirements.Provide solutions for cloud-related issues, troubleshooting, and outages. If this sounds like you apply now with your latest CV.', metadata={'source': 'job_listings.csv', 'row': 56}), Document(page_content='Job Description: Cloud Engineer Cloud Engineer - Nottingham (Tech stack: Cloud Engineer, Cloud, Microsoft Azure, Azure App Service, Azure SQL Database, Azure Functions, Azure DevOps, Cloud Engineer) We are seeking a talented Cloud Engineer with specialised experience in Azure to join a dynamic team. As a Cloud Engineer, you will play a crucial role in designing, implementing, and maintaining cloud infrastructure on the Azure platform. Our client is looking for passionate Cloud Engineer candidates with experience in the following:  Design, deploy, and maintain scalable and secure cloud solutions on the Azure platform.Collaborate with cross-functional teams to understand business requirements and translate them into cloud-based solutions.Implement best practices for cloud security, monitoring, and performance optimisation.Automate processes and workflows using Azure DevOps or similar tools.Troubleshoot issues related to cloud infrastructure and provide timely resolution.Stay updated', metadata={'source': 'job_listings.csv', 'row': 51})]\n",
            "\n",
            "1. Cloud-native development: Learn how to develop cloud-native applications and services, such as microservices, containerization, and cloud-based storage.\n",
            "\n",
            "2. Cloud infrastructure: Learn how to design, deploy, and maintain cloud infrastructure on the Azure platform.\n",
            "\n",
            "3. Cloud security: Learn how to secure cloud-based applications and services, such as authentication, encryption, and access control.\n",
            "\n",
            "4. Cloud automation: Learn how to automate cloud-based processes and workflows using Azure DevOps or similar tools.\n",
            "\n",
            "5. Cloud cost optimization: Learn how to optimize cloud costs and budget, such as setting up cost-effective storage and compute resources.\n",
            "\n",
            "6. Cloud DevOps: Learn how to deploy, maintain, and troubleshoot cloud-based applications and services, such as continuous integration and deployment.\n",
            "\n",
            "7. Cloud-based analytics: Learn how to use cloud-based analytics tools to analyze data and make data-driven decisions.\n",
            "\n",
            "8. Cloud\n",
            "Token will not been saved to git credential helper. Pass `add_to_git_credential=True` if you want to set the git credential as well.\n",
            "Token is valid (permission: read).\n",
            "Your token has been saved to /root/.cache/huggingface/token\n",
            "Login successful\n",
            "\n",
            "    database administrator\n",
            "\n",
            "\n",
            "\u001b[1m> Entering new RetrievalQA chain...\u001b[0m\n",
            "\n",
            "\u001b[1m> Finished chain.\u001b[0m\n",
            "page_content='occasionally  Key Qualities, Skills and Attributes  Degree level education or equivalent work experienceExperience of successfully contributing to project teams and working groupsQuick learnerProblem solverRemain calm and patient under pressure To apply for the role of Database Administrator, please senda copy of yourCV in MS Word.' metadata={'source': 'job_listings.csv', 'row': 52}\n",
            "page_content=\"and Communication: Collaborating with development teams, SRE, and other stakeholders to ensure database requirements are met, and providing technical guidance and support when needed.Capacity Planning and Scalability: Assessing current database capacity and planning for future growth. Scaling the database infrastructure to handle increased data volumes and user loads as the organization expands.Supporting development teams by shifting database processes left What we're looking for in our Senior Database Administrator - MySQL: The successful Senior Database Administrator- MySQLwill havea strong mix of technical and soft skills to drive technical brilliance and strong collaboration across multiple teams. Not all skills are required! Soft skills  You love learning new skills and are always pushing yourself to learn more.You can deal with high-pressure situations, step back and get the full picture before jumping in.Complex polymorphic problem-solving is your bread and butter. You love\" metadata={'source': 'job_listings.csv', 'row': 62}\n",
            "page_content='production databases; analyse and distribute as appropriateExecuting processes to ensure the accuracy and integrity of the database and application environments; act on any anomaliesApplyingagreed database security requirements; document the changesKeepingdatabase backup and recovery processes current; monitor and resolve any identified problemInvestigatingand implementing new techniques for database design, maintenance, access and connectivity What we arelooking for in our Database Administrator:  Knowledge and practical experience of the administration of the following relational database: o Db2 for z/OS (v10 or later)A broad knowledge of IT infrastructure and operations, academically or through work experienceEvidence of high-level planning and managing technical changeDisplays commitment to the delivery of customer service in terms of speed, accuracy and qualityEffective management and prioritisation of personal workload and tasks.Works flexibly and effectively with minimal' metadata={'source': 'job_listings.csv', 'row': 51}\n",
            "What are characteristics that recruiters typically look for in a database administrator\n",
            "[Document(page_content='occasionally  Key Qualities, Skills and Attributes  Degree level education or equivalent work experienceExperience of successfully contributing to project teams and working groupsQuick learnerProblem solverRemain calm and patient under pressure To apply for the role of Database Administrator, please senda copy of yourCV in MS Word.', metadata={'source': 'job_listings.csv', 'row': 52}), Document(page_content=\"and Communication: Collaborating with development teams, SRE, and other stakeholders to ensure database requirements are met, and providing technical guidance and support when needed.Capacity Planning and Scalability: Assessing current database capacity and planning for future growth. Scaling the database infrastructure to handle increased data volumes and user loads as the organization expands.Supporting development teams by shifting database processes left What we're looking for in our Senior Database Administrator - MySQL: The successful Senior Database Administrator- MySQLwill havea strong mix of technical and soft skills to drive technical brilliance and strong collaboration across multiple teams. Not all skills are required! Soft skills  You love learning new skills and are always pushing yourself to learn more.You can deal with high-pressure situations, step back and get the full picture before jumping in.Complex polymorphic problem-solving is your bread and butter. You love\", metadata={'source': 'job_listings.csv', 'row': 62}), Document(page_content='production databases; analyse and distribute as appropriateExecuting processes to ensure the accuracy and integrity of the database and application environments; act on any anomaliesApplyingagreed database security requirements; document the changesKeepingdatabase backup and recovery processes current; monitor and resolve any identified problemInvestigatingand implementing new techniques for database design, maintenance, access and connectivity What we arelooking for in our Database Administrator:  Knowledge and practical experience of the administration of the following relational database: o Db2 for z/OS (v10 or later)A broad knowledge of IT infrastructure and operations, academically or through work experienceEvidence of high-level planning and managing technical changeDisplays commitment to the delivery of customer service in terms of speed, accuracy and qualityEffective management and prioritisation of personal workload and tasks.Works flexibly and effectively with minimal', metadata={'source': 'job_listings.csv', 'row': 51})]\n",
            "\n",
            "1. Strong technical skills and experience with database administration, including knowledge of database design, data modeling, data warehousing, and data integration.\n",
            "\n",
            "2. Excellent communication and collaboration skills, including the ability to work with multiple teams and stakeholders.\n",
            "\n",
            "3. A strong mix of soft skills, such as problem-solving, analytical thinking, and the ability to work independently.\n",
            "\n",
            "4. Knowledge of database security, backup and recovery, and database management.\n",
            "\n",
            "5. Knowledge of database design, data modeling, and data warehousing.\n",
            "\n",
            "6. Knowledge of database software, such as MySQL, Oracle, or SQL Server.\n",
            "\n",
            "7. Experience with database performance tuning, optimization, and scalability.\n",
            "\n",
            "8. Knowledge of database design and development, including the ability to write SQL scripts and queries.\n",
            "\n",
            "9. Knowledge of database software development, including the ability to develop and maintain databases.\n",
            "\n",
            "10. Knowledge of database replication, high availability, and disaster recovery\n"
          ]
        }
      ],
      "source": [
        "rag_pipeline_eval2 = chain_predictions_from_data(pipeline_eval2)\n",
        "os.makedirs(\"industry\", exist_ok=True)\n",
        "rag_pipeline_eval2.to_csv(\"industry/pipeline_evaluation2.csv\", index=False)"
      ]
    },
    {
      "cell_type": "markdown",
      "metadata": {
        "id": "oZlbWwBb_aRi"
      },
      "source": [
        "UniEval: multi-dimensional metric and factual consistency"
      ]
    },
    {
      "cell_type": "code",
      "execution_count": null,
      "metadata": {
        "id": "uCOvSfSL_aRj"
      },
      "outputs": [],
      "source": [
        "!git clone https://github.com/maszhongming/UniEval.git\n",
        "%cd UniEval\n",
        "!pip install -r requirements.txt"
      ]
    },
    {
      "cell_type": "code",
      "execution_count": null,
      "metadata": {
        "colab": {
          "base_uri": "https://localhost:8080/"
        },
        "id": "gliwjkum_aRj",
        "outputId": "f200f84b-b2b7-4b66-8217-38eba2b02082"
      },
      "outputs": [
        {
          "output_type": "stream",
          "name": "stderr",
          "text": [
            "[nltk_data] Downloading package punkt to /root/nltk_data...\n",
            "[nltk_data]   Unzipping tokenizers/punkt.zip.\n"
          ]
        },
        {
          "output_type": "execute_result",
          "data": {
            "text/plain": [
              "True"
            ]
          },
          "metadata": {},
          "execution_count": 20
        }
      ],
      "source": [
        "import torch\n",
        "import nltk\n",
        "from utils import convert_to_json\n",
        "from metric.evaluator import get_evaluator\n",
        "\n",
        "nltk.download('punkt')\n",
        "torch.cuda.is_available()"
      ]
    },
    {
      "cell_type": "code",
      "execution_count": null,
      "metadata": {
        "colab": {
          "base_uri": "https://localhost:8080/"
        },
        "id": "wFXMB1BnbuOs",
        "outputId": "05f9c049-eb77-4841-b08a-55d6ed8c6ab2"
      },
      "outputs": [
        {
          "output_type": "stream",
          "name": "stdout",
          "text": [
            "Evaluating consistency of 15 samples !!!\n"
          ]
        },
        {
          "output_type": "stream",
          "name": "stderr",
          "text": [
            "100%|██████████| 12/12 [00:04<00:00,  2.49it/s]"
          ]
        },
        {
          "output_type": "stream",
          "name": "stdout",
          "text": [
            "\n",
            "Evaluation scores are shown below:\n",
            "+-------------+---------+\n",
            "|  Dimensions |  Score  |\n",
            "+-------------+---------+\n",
            "| consistency | 0.65651 |\n",
            "+-------------+---------+\n"
          ]
        },
        {
          "output_type": "stream",
          "name": "stderr",
          "text": [
            "\n"
          ]
        }
      ],
      "source": [
        "# Factual consistency score\n",
        "task = 'fact'\n",
        "\n",
        "src_list = rag_pipeline_eval[\"source_documents\"]\n",
        "output_list = rag_pipeline_eval[\"predictions\"]\n",
        "\n",
        "# Prepare data for pre-trained evaluators\n",
        "data = convert_to_json(output_list=output_list, src_list=src_list)\n",
        "# Initialise evaluator for a specific task\n",
        "evaluator = get_evaluator(task)\n",
        "# Get factual consistency scores\n",
        "eval_scores = evaluator.evaluate(data, print_result=True)"
      ]
    },
    {
      "cell_type": "code",
      "source": [
        "task = 'fact'\n",
        "\n",
        "src_list = rag_pipeline_eval2[\"source_documents\"]\n",
        "output_list = rag_pipeline_eval2[\"predictions\"]\n",
        "\n",
        "data = convert_to_json(output_list=output_list, src_list=src_list)\n",
        "evaluator = get_evaluator(task)\n",
        "eval_scores = evaluator.evaluate(data, print_result=True)"
      ],
      "metadata": {
        "colab": {
          "base_uri": "https://localhost:8080/"
        },
        "id": "EcOw204KA7aD",
        "outputId": "0ce340d1-a701-425b-df69-ef4205dab90e"
      },
      "execution_count": null,
      "outputs": [
        {
          "output_type": "stream",
          "name": "stdout",
          "text": [
            "Evaluating consistency of 15 samples !!!\n"
          ]
        },
        {
          "output_type": "stream",
          "name": "stderr",
          "text": [
            "100%|██████████| 22/22 [00:09<00:00,  2.33it/s]"
          ]
        },
        {
          "output_type": "stream",
          "name": "stdout",
          "text": [
            "\n",
            "Evaluation scores are shown below:\n",
            "+-------------+----------+\n",
            "|  Dimensions |  Score   |\n",
            "+-------------+----------+\n",
            "| consistency | 0.667881 |\n",
            "+-------------+----------+\n"
          ]
        },
        {
          "output_type": "stream",
          "name": "stderr",
          "text": [
            "\n"
          ]
        }
      ]
    },
    {
      "cell_type": "code",
      "execution_count": null,
      "metadata": {
        "colab": {
          "base_uri": "https://localhost:8080/"
        },
        "id": "tnkpOaJKme4b",
        "outputId": "37bd9e77-02fb-4b31-91ce-f39aea42cea5"
      },
      "outputs": [
        {
          "output_type": "stream",
          "name": "stdout",
          "text": [
            "Evaluating naturalness of 15 samples !!!\n"
          ]
        },
        {
          "output_type": "stream",
          "name": "stderr",
          "text": [
            "100%|██████████| 2/2 [00:00<00:00,  7.04it/s]\n"
          ]
        },
        {
          "output_type": "stream",
          "name": "stdout",
          "text": [
            "Evaluating coherence of 15 samples !!!\n"
          ]
        },
        {
          "output_type": "stream",
          "name": "stderr",
          "text": [
            "100%|██████████| 2/2 [00:00<00:00,  6.73it/s]\n"
          ]
        },
        {
          "output_type": "stream",
          "name": "stdout",
          "text": [
            "Evaluating engagingness of 15 samples !!!\n"
          ]
        },
        {
          "output_type": "stream",
          "name": "stderr",
          "text": [
            "100%|██████████| 12/12 [00:05<00:00,  2.35it/s]\n"
          ]
        },
        {
          "output_type": "stream",
          "name": "stdout",
          "text": [
            "Evaluating groundedness of 15 samples !!!\n"
          ]
        },
        {
          "output_type": "stream",
          "name": "stderr",
          "text": [
            "100%|██████████| 2/2 [00:01<00:00,  1.45it/s]\n"
          ]
        },
        {
          "output_type": "stream",
          "name": "stdout",
          "text": [
            "Evaluating understandability of 15 samples !!!\n"
          ]
        },
        {
          "output_type": "stream",
          "name": "stderr",
          "text": [
            "100%|██████████| 2/2 [00:00<00:00,  7.57it/s]"
          ]
        },
        {
          "output_type": "stream",
          "name": "stdout",
          "text": [
            "\n",
            "Evaluation scores are shown below:\n",
            "+-------------------+----------+\n",
            "|     Dimensions    |  Score   |\n",
            "+-------------------+----------+\n",
            "|    naturalness    | 0.772858 |\n",
            "|     coherence     | 0.986734 |\n",
            "|    engagingness   | 3.750929 |\n",
            "|    groundedness   | 0.96767  |\n",
            "| understandability | 0.790636 |\n",
            "|      overall      | 1.453765 |\n",
            "+-------------------+----------+\n"
          ]
        },
        {
          "output_type": "stream",
          "name": "stderr",
          "text": [
            "\n"
          ]
        }
      ],
      "source": [
        "# Multi-dimensional scores\n",
        "task = 'dialogue'\n",
        "\n",
        "src_list = rag_pipeline_eval[\"question\"]\n",
        "context_list = rag_pipeline_eval[\"source_documents\"]\n",
        "output_list = rag_pipeline_eval[\"predictions\"]\n",
        "\n",
        "data = convert_to_json(output_list=output_list,\n",
        "                       src_list=src_list, context_list=context_list)\n",
        "evaluator = get_evaluator(task)\n",
        "eval_scores = evaluator.evaluate(data, print_result=True)"
      ]
    },
    {
      "cell_type": "code",
      "source": [
        "task = 'dialogue'\n",
        "\n",
        "src_list = rag_pipeline_eval2[\"question\"]\n",
        "context_list = rag_pipeline_eval2[\"source_documents\"]\n",
        "output_list = rag_pipeline_eval2[\"predictions\"]\n",
        "\n",
        "data = convert_to_json(output_list=output_list,\n",
        "                       src_list=src_list, context_list=context_list)\n",
        "evaluator = get_evaluator(task)\n",
        "eval_scores = evaluator.evaluate(data, print_result=True)"
      ],
      "metadata": {
        "id": "hxrm7XquTLqn",
        "outputId": "df2834fc-29cc-46dc-f416-123782b9bbad",
        "colab": {
          "base_uri": "https://localhost:8080/"
        }
      },
      "execution_count": null,
      "outputs": [
        {
          "output_type": "stream",
          "name": "stdout",
          "text": [
            "Evaluating naturalness of 15 samples !!!\n"
          ]
        },
        {
          "output_type": "stream",
          "name": "stderr",
          "text": [
            "100%|██████████| 2/2 [00:00<00:00,  7.60it/s]\n"
          ]
        },
        {
          "output_type": "stream",
          "name": "stdout",
          "text": [
            "Evaluating coherence of 15 samples !!!\n"
          ]
        },
        {
          "output_type": "stream",
          "name": "stderr",
          "text": [
            "100%|██████████| 2/2 [00:00<00:00,  7.22it/s]\n"
          ]
        },
        {
          "output_type": "stream",
          "name": "stdout",
          "text": [
            "Evaluating engagingness of 15 samples !!!\n"
          ]
        },
        {
          "output_type": "stream",
          "name": "stderr",
          "text": [
            "100%|██████████| 22/22 [00:09<00:00,  2.21it/s]\n"
          ]
        },
        {
          "output_type": "stream",
          "name": "stdout",
          "text": [
            "Evaluating groundedness of 15 samples !!!\n"
          ]
        },
        {
          "output_type": "stream",
          "name": "stderr",
          "text": [
            "100%|██████████| 2/2 [00:01<00:00,  1.51it/s]\n"
          ]
        },
        {
          "output_type": "stream",
          "name": "stdout",
          "text": [
            "Evaluating understandability of 15 samples !!!\n"
          ]
        },
        {
          "output_type": "stream",
          "name": "stderr",
          "text": [
            "100%|██████████| 2/2 [00:00<00:00,  7.60it/s]"
          ]
        },
        {
          "output_type": "stream",
          "name": "stdout",
          "text": [
            "\n",
            "Evaluation scores are shown below:\n",
            "+-------------------+----------+\n",
            "|     Dimensions    |  Score   |\n",
            "+-------------------+----------+\n",
            "|    naturalness    | 0.608406 |\n",
            "|     coherence     | 0.995535 |\n",
            "|    engagingness   | 6.014042 |\n",
            "|    groundedness   | 0.961856 |\n",
            "| understandability | 0.637322 |\n",
            "|      overall      | 1.843432 |\n",
            "+-------------------+----------+\n"
          ]
        },
        {
          "output_type": "stream",
          "name": "stderr",
          "text": [
            "\n"
          ]
        }
      ]
    }
  ],
  "metadata": {
    "accelerator": "GPU",
    "colab": {
      "gpuType": "V100",
      "machine_shape": "hm",
      "provenance": [],
      "include_colab_link": true
    },
    "kernelspec": {
      "display_name": "Python 3",
      "name": "python3"
    },
    "language_info": {
      "name": "python"
    }
  },
  "nbformat": 4,
  "nbformat_minor": 0
}