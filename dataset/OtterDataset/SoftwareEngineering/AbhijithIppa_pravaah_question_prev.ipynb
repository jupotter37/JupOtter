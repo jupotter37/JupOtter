{
 "cells": [
  {
   "cell_type": "code",
   "execution_count": 3,
   "metadata": {},
   "outputs": [
    {
     "name": "stdout",
     "output_type": "stream",
     "text": [
      "\n",
      "\n",
      "\u001b[1m> Entering new LLMChain chain...\u001b[0m\n",
      "Prompt after formatting:\n",
      "\u001b[32;1m\u001b[1;3mYou are an expert recruiter conducting a technical interview for a software engineering position. MUST RETURN question:\"\",answer:\"\"\n",
      "        Previous conversation:\n",
      "        \n",
      "        AI:You ask 1 question based on the Javascript basic of questions provided. also provide very short answer. you must return question:\"\",answer:\"\"\n",
      "        \u001b[0m\n",
      "\n",
      "\u001b[1m> Finished chain.\u001b[0m\n",
      "\n",
      "\n",
      "\u001b[1m> Entering new LLMChain chain...\u001b[0m\n",
      "Prompt after formatting:\n",
      "\u001b[32;1m\u001b[1;3mYou are an expert recruiter conducting a technical interview for a software engineering position. \n",
      "        Previous conversation:\n",
      "        Human: Javascript basic\n",
      "AI: \n",
      "Question: What is a closure in JavaScript?\n",
      "Answer: A closure is a function that has access to variables in its outer scope, even after the outer function has returned.\n",
      "Human: Var is used to declare a variable with global or function scope, let is used to declare a block-scoped variable, and const is used to declare a block-scoped constant.\n",
      "        AI:You ask 1 question based on the user input Var is used to declare a variable with global or function scope, let is used to declare a block-scoped variable, and const is used to declare a block-scoped constant. of questions provided. also provide very short answer. you must return question:\"\",answer:\"\"\n",
      "        \u001b[0m\n",
      "\n",
      "\u001b[1m> Finished chain.\u001b[0m\n"
     ]
    }
   ],
   "source": [
    "from langchain_openai import ChatOpenAI\n",
    "from langchain_core.prompts import ChatPromptTemplate\n",
    "from langchain_core.output_parsers import StrOutputParser\n",
    "from langchain.chains import LLMChain\n",
    "from langchain.memory import ConversationBufferMemory\n",
    "from langchain_core.prompts import PromptTemplate\n",
    "from langchain_openai import OpenAI\n",
    "import streamlit as st\n",
    "import os\n",
    "from dotenv import load_dotenv\n",
    "\n",
    "os.environ[\"OPENAI_API_KEY\"]=os.getenv(\"OPENAI_API_KEY\")\n",
    "os.environ[\"LANGCHAIN_TRACING_V2\"]=\"true\"\n",
    "os.environ[\"LANGCHAIN_API_KEY\"]=os.getenv(\"LANGCHAIN_API_KEY\")\n",
    "\n",
    "\n",
    "CNT=2\n",
    "technology_arr=[\"Javascript\",\"Tensorflow\"]\n",
    "levels_arr=[\"basic\",\"normal\",\"hard\"]\n",
    "candidate_response=\"\"\n",
    "response=[]\n",
    "memory = ConversationBufferMemory(memory_key=\"chat_history\")\n",
    "\n",
    "llm = OpenAI()\n",
    "\n",
    "while(CNT):\n",
    "    if(candidate_response==\"\"):\n",
    "        template = \"\"\"You are an expert recruiter conducting a technical interview for a software engineering position. MUST RETURN question:\"\",answer:\"\"\n",
    "        Previous conversation:\n",
    "        {chat_history}\n",
    "        AI:You ask 1 question based on the {tech_level} of questions provided. also provide very short answer. you must return question:\"\",answer:\"\"\n",
    "        \"\"\"\n",
    "\n",
    "        prompt = PromptTemplate(\n",
    "            input_variables=[\"chat_history\", \"tech_level\"], template=template\n",
    "        )\n",
    "        llm_chain = LLMChain(\n",
    "        llm=llm,\n",
    "        prompt=prompt,\n",
    "        verbose=True,\n",
    "        memory=memory,\n",
    "        )\n",
    "\n",
    "        tech=str(technology_arr[0]+\" \"+levels_arr[0])\n",
    "        data=llm_chain({\"tech_level\":tech})\n",
    "        response.append(data['text'])\n",
    "        candidate_response=\"Var is used to declare a variable with global or function scope, let is used to declare a block-scoped variable, and const is used to declare a block-scoped constant.\"\n",
    "        memory.chat_memory.add_user_message(candidate_response)\n",
    "\n",
    "    else:\n",
    "\n",
    "\n",
    "        template = \"\"\"You are an expert recruiter conducting a technical interview for a software engineering position. \n",
    "        Previous conversation:\n",
    "        {chat_history}\n",
    "        AI:You ask 1 question based on the user input {candidate_response} of questions provided. also provide very short answer. you must return question:\"\",answer:\"\"\n",
    "        \"\"\"\n",
    "\n",
    "        prompt = PromptTemplate(\n",
    "            input_variables=[\"chat_history\", \"candidate_response\"], template=template\n",
    "        )\n",
    "        llm_chain = LLMChain(\n",
    "        llm=llm,\n",
    "        prompt=prompt,\n",
    "        verbose=True,\n",
    "        memory=memory,\n",
    "        )\n",
    "\n",
    "        tech=str(technology_arr[0]+\" \"+levels_arr[0])\n",
    "        data=llm_chain({\"candidate_response\":candidate_response})\n",
    "        response.append(data['text'])\n",
    "    memory.load_memory_variables({})\n",
    "    CNT-=1\n",
    "    \n"
   ]
  },
  {
   "cell_type": "code",
   "execution_count": 4,
   "metadata": {},
   "outputs": [
    {
     "data": {
      "text/plain": [
       "['\\nQuestion: What is a closure in JavaScript?\\nAnswer: A closure is a function that has access to variables in its outer scope, even after the outer function has returned.',\n",
       " '\\nQuestion: What is the difference between var, let, and const in JavaScript?\\nAnswer: Var has global or function scope, let has block scope, and const has block scope and cannot be reassigned.']"
      ]
     },
     "execution_count": 4,
     "metadata": {},
     "output_type": "execute_result"
    }
   ],
   "source": [
    "response"
   ]
  },
  {
   "cell_type": "code",
   "execution_count": 9,
   "metadata": {},
   "outputs": [
    {
     "data": {
      "text/plain": [
       "'Question: What is a closure in JavaScript?'"
      ]
     },
     "execution_count": 9,
     "metadata": {},
     "output_type": "execute_result"
    }
   ],
   "source": [
    "response[0].split(\"\\n\")[1]"
   ]
  },
  {
   "cell_type": "code",
   "execution_count": 10,
   "metadata": {},
   "outputs": [],
   "source": [
    "response=response[0]"
   ]
  },
  {
   "cell_type": "code",
   "execution_count": 12,
   "metadata": {},
   "outputs": [],
   "source": [
    "response=['\\nQuestion: What is a closure in JavaScript?\\nAnswer: A closure is a function that has access to variables in its outer scope, even after the outer function has returned.',\n",
    " '\\nQuestion: What is the difference between var, let, and const in JavaScript?\\nAnswer: Var has global or function scope, let has block scope, and const has block scope and cannot be reassigned.']"
   ]
  },
  {
   "cell_type": "code",
   "execution_count": 13,
   "metadata": {},
   "outputs": [
    {
     "data": {
      "text/plain": [
       "'Question: What is the difference between var, let, and const in JavaScript?'"
      ]
     },
     "execution_count": 13,
     "metadata": {},
     "output_type": "execute_result"
    }
   ],
   "source": [
    "response[-1].split(\"\\n\")[1]"
   ]
  },
  {
   "cell_type": "code",
   "execution_count": 1,
   "metadata": {},
   "outputs": [
    {
     "name": "stdout",
     "output_type": "stream",
     "text": [
      "PDF created successfully!\n"
     ]
    }
   ],
   "source": []
  },
  {
   "cell_type": "code",
   "execution_count": null,
   "metadata": {},
   "outputs": [],
   "source": []
  }
 ],
 "metadata": {
  "kernelspec": {
   "display_name": ".venv",
   "language": "python",
   "name": "python3"
  },
  "language_info": {
   "codemirror_mode": {
    "name": "ipython",
    "version": 3
   },
   "file_extension": ".py",
   "mimetype": "text/x-python",
   "name": "python",
   "nbconvert_exporter": "python",
   "pygments_lexer": "ipython3",
   "version": "3.11.1"
  }
 },
 "nbformat": 4,
 "nbformat_minor": 2
}
