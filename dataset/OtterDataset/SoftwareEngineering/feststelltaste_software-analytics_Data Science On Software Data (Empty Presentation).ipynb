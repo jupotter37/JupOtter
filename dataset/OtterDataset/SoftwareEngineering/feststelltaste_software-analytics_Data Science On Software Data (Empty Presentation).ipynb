{
    "cells": [
        {
            "cell_type": "code",
            "execution_count": 13,
            "metadata": {
                "slideshow": {
                    "slide_type": "skip"
                }
            },
            "outputs": [],
            "source": [
                "import pandas as pd"
            ]
        },
        {
            "cell_type": "markdown",
            "metadata": {
                "slideshow": {
                    "slide_type": "slide"
                }
            },
            "source": [
                "\n",
                "# Data Science on <br/> Software Data\n",
                "<b>Markus Harrer</b>, Software Development Analyst\n",
                "  \n",
                "`@feststelltaste`\n",
                "\n",
                "\n",
                "<small>Visual Software Analytics Summer School, 18 September 2019</small>\n",
                "\n",
                "<img src=\"../../demos/resources/innoq_logo.jpg\" width=20% height=\"20%\" align=\"right\"/>"
            ]
        },
        {
            "cell_type": "markdown",
            "metadata": {
                "slideshow": {
                    "slide_type": "slide"
                }
            },
            "source": [
                "# About Me"
            ]
        },
        {
            "cell_type": "markdown",
            "metadata": {
                "slideshow": {
                    "slide_type": "slide"
                }
            },
            "source": [
                "## In the past\n",
                "* Bachelor student\n",
                "* Researcher\n",
                "* Software developer\n",
                "* Master student*\n",
                "* Master's degree candidate*\n",
                "* Application developer\n",
                "\n",
                "**and househusband*"
            ]
        },
        {
            "cell_type": "markdown",
            "metadata": {
                "slideshow": {
                    "slide_type": "slide"
                }
            },
            "source": [
                "## Now\n",
                "\n",
                "<img src=\"../../demos/resources/about_me.png\" style=\"width:85%;\" >"
            ]
        },
        {
            "cell_type": "markdown",
            "metadata": {
                "slideshow": {
                    "slide_type": "slide"
                }
            },
            "source": [
                "## My Motivation for Data Analysis in Software Development"
            ]
        },
        {
            "cell_type": "markdown",
            "metadata": {
                "slideshow": {
                    "slide_type": "slide"
                }
            },
            "source": [
                "### The current problem in the industry\n",
                "<img src=\"../../demos/resources/kombar0_en.png\" style=\"width:95%;\" align=\"center\"/>"
            ]
        },
        {
            "cell_type": "markdown",
            "metadata": {
                "slideshow": {
                    "slide_type": "slide"
                }
            },
            "source": [
                "### The current problem in the industry\n",
                "<img src=\"../../demos/resources/kombar4_en.png\" style=\"width:95%;\" align=\"center\"/>"
            ]
        },
        {
            "cell_type": "markdown",
            "metadata": {
                "slideshow": {
                    "slide_type": "slide"
                }
            },
            "source": [
                "## \"Software Analytics\" to the rescue?"
            ]
        },
        {
            "cell_type": "markdown",
            "metadata": {
                "slideshow": {
                    "slide_type": "slide"
                }
            },
            "source": [
                "### Definition Software Analytics\n",
                "\"Software Analytics is analytics on <b>software data</b> for **managers** and <b class=\"green\">software engineers</b> with the aim of empowering software development individuals and teams to <i>gain and share insight from their data</i> to <b>make better decisions</b>.\"\n",
                "<br/>\n",
                "<div align=\"right\"><small>Tim Menzies and Thomas Zimmermann</small></div>"
            ]
        },
        {
            "cell_type": "markdown",
            "metadata": {
                "slideshow": {
                    "slide_type": "slide"
                }
            },
            "source": [
                "### Which kind of Software Data do we have?\n",
                "\n",
                "* static\n",
                "* runtime\n",
                "* chronological\n",
                "* Community"
            ]
        },
        {
            "cell_type": "markdown",
            "metadata": {
                "slideshow": {
                    "slide_type": "fragment"
                }
            },
            "source": [
                "<b>=> a great variety!</b>"
            ]
        },
        {
            "cell_type": "markdown",
            "metadata": {
                "slideshow": {
                    "slide_type": "slide"
                }
            },
            "source": [
                "### My problem with classic Software Analytics\n",
                "\n",
                "<img src=\"../../demos/resources/freq1_en.png\" style=\"width:80%;\" align=\"center\"/>"
            ]
        },
        {
            "cell_type": "markdown",
            "metadata": {
                "slideshow": {
                    "slide_type": "slide"
                }
            },
            "source": [
                "### My problem with classic Software Analytics\n",
                "\n",
                "<img src=\"../../demos/resources/freq2_en.png\" style=\"width:80%;\" align=\"center\"/>"
            ]
        },
        {
            "cell_type": "markdown",
            "metadata": {
                "slideshow": {
                    "slide_type": "slide"
                }
            },
            "source": [
                "### My problem with classic Software Analytics\n",
                "\n",
                "<img src=\"../../demos/resources/freq3_en.png\" style=\"width:80%;\" align=\"center\"/>"
            ]
        },
        {
            "cell_type": "markdown",
            "metadata": {
                "slideshow": {
                    "slide_type": "slide"
                }
            },
            "source": [
                "### My problem with classic Software Analytics\n",
                "\n",
                "<img src=\"../../demos/resources/freq4_en.png\" style=\"width:80%;\" align=\"center\"/>"
            ]
        },
        {
            "cell_type": "markdown",
            "metadata": {
                "slideshow": {
                    "slide_type": "slide"
                }
            },
            "source": [
                "### My problem with classic Software Analytics\n",
                "\n",
                "<img src=\"../../demos/resources/freq5_en.png\" style=\"width:80%;\" align=\"center\"/>"
            ]
        },
        {
            "cell_type": "markdown",
            "metadata": {
                "slideshow": {
                    "slide_type": "slide"
                }
            },
            "source": [
                "### Some analysis tasks from practice"
            ]
        },
        {
            "cell_type": "markdown",
            "metadata": {
                "slideshow": {
                    "slide_type": "-"
                }
            },
            "source": [
                "* Communicating negative performance implications of complex data models\n",
                "* Spotting concurrency problems in custom-built frameworks\n",
                "* Identifying performance bottlenecks across different software systems\n",
                "* Making lost knowledge visible due to turnover\n",
                "* Analyzing the health of a open source community"
            ]
        },
        {
            "cell_type": "markdown",
            "metadata": {
                "slideshow": {
                    "slide_type": "slide"
                }
            },
            "source": [
                "### \"It depends\" aka \"context matters!\"\n",
                "\n",
                "<div align=\"center\">\n",
                "<img src=\"../../demos/resources/context.png\" style=\"width:70%;\" /></div>"
            ]
        },
        {
            "cell_type": "markdown",
            "metadata": {
                "slideshow": {
                    "slide_type": "fragment"
                }
            },
            "source": [
                "<b>Individual systems == individual problems => individual analyses => individual insights!</b>"
            ]
        },
        {
            "cell_type": "markdown",
            "metadata": {
                "slideshow": {
                    "slide_type": "slide"
                }
            },
            "source": [
                "### Others see that problem, too\n",
                "\n",
                "*Thomas Zimmermann in \"One size does not fit all\":*\n",
                "<br/><br/>\n",
                "<div style=\"font-size:70%;\" align=\"center\">\n",
                "\"The main lesson: There is no one size fits all model. Even if you find models that work for most, they will not work for everyone. There is much <strong>academic research</strong> into <strong>general models</strong>. In contrast, <b><span class=\"green\">industrial practitioners</span></b> are often fine with <b><span class=\"green\">models that just work for their data</span></b> if the model provides some insight or allows them to work more efficiently.\"<br/><br/></div>"
            ]
        },
        {
            "cell_type": "markdown",
            "metadata": {
                "slideshow": {
                    "slide_type": "fragment"
                }
            },
            "source": [
                "But: \"... the methods typically are applicable on different datasets.\" <b>=> we see what's possible!</b>"
            ]
        },
        {
            "cell_type": "markdown",
            "metadata": {
                "slideshow": {
                    "slide_type": "slide"
                }
            },
            "source": [
                "<br/><br/><div align=\"center\"><h1><b><strong>Data Science</strong> on <b><span class=\"green\">Software Data</span></b>:<br/><br/> A Lightweight Implementation of <b><span class=\"blue\">Software Analytics</span></b></h1></div>"
            ]
        },
        {
            "cell_type": "markdown",
            "metadata": {
                "slideshow": {
                    "slide_type": "slide"
                }
            },
            "source": [
                "## Data Science"
            ]
        },
        {
            "cell_type": "markdown",
            "metadata": {
                "slideshow": {
                    "slide_type": "slide"
                }
            },
            "source": [
                "### What is Data Science?"
            ]
        },
        {
            "cell_type": "markdown",
            "metadata": {
                "slideshow": {
                    "slide_type": "fragment"
                }
            },
            "source": [
                "\"**Statistics** on a <b><span class=\"green\">Mac</span></b>.\"\n",
                "<br/>\n",
                "<br/>\n",
                "<div align=\"right\"><small>https://twitter.com/cdixon/status/428914681911070720</small></div>"
            ]
        },
        {
            "cell_type": "markdown",
            "metadata": {
                "slideshow": {
                    "slide_type": "slide"
                }
            },
            "source": [
                "<b>Data Science Venn Diagram (Drew Conway)</b>\n",
                "\n",
                "<img src=\"../../demos/resources/venn_diagram.png\" style=\"width:50%;\" >"
            ]
        },
        {
            "cell_type": "markdown",
            "metadata": {
                "slideshow": {
                    "slide_type": "slide"
                }
            },
            "source": [
                "### My Definition"
            ]
        },
        {
            "cell_type": "markdown",
            "metadata": {
                "slideshow": {
                    "slide_type": "slide"
                }
            },
            "source": [
                "#### What does \"**data**\" mean for me?\n",
                "\"Without **data** you\u2018re just another person with an opinion.\"\n",
                "<br/>\n",
                "<div align=\"right\"><small>W. Edwards Deming</small></div>"
            ]
        },
        {
            "cell_type": "markdown",
            "metadata": {
                "slideshow": {
                    "slide_type": "fragment"
                }
            },
            "source": [
                "<b>=> Delivering credible insights based on <span class=\"green\">facts</span>.</b>"
            ]
        },
        {
            "cell_type": "markdown",
            "metadata": {
                "slideshow": {
                    "slide_type": "slide"
                }
            },
            "source": [
                "#### What does \"**science**\" mean for me?\n",
                "  \n",
                "  \n",
                "\"The aim of **science** is to seek the simplest explanations of complex facts.\"\n",
                "<br/>\n",
                "<div align=\"right\"><small>Albert Einstein</small></div>"
            ]
        },
        {
            "cell_type": "markdown",
            "metadata": {
                "slideshow": {
                    "slide_type": "fragment"
                }
            },
            "source": [
                "<b>=> Working out insights in a <span class=\"green\">comprehensible</span> way.</b>"
            ]
        },
        {
            "cell_type": "markdown",
            "metadata": {
                "slideshow": {
                    "slide_type": "slide"
                }
            },
            "source": [
                "## Why Data Science at all?"
            ]
        },
        {
            "cell_type": "markdown",
            "metadata": {
                "slideshow": {
                    "slide_type": "slide"
                }
            },
            "source": [
                "### High demand in data analytics\n",
                "\n",
                "<img src=\"../../demos/resources/data_scientist_sexy.png\" style=\"width: 80%;\"/>"
            ]
        },
        {
            "cell_type": "markdown",
            "metadata": {
                "slideshow": {
                    "slide_type": "slide"
                }
            },
            "source": [
                "### Young job positions are paid well...\n",
                "*Data from Stack Overflow Developer Survey 2019*\n",
                "<img src=\"../../demos/resources/stackoverflow_salary_devtype-1.svg\" style=\"width: 65%;\"/>"
            ]
        },
        {
            "cell_type": "markdown",
            "metadata": {
                "slideshow": {
                    "slide_type": "slide"
                }
            },
            "source": [
                "### ... but also demanding?\n",
                "*Data from Stack Overflow Developer Survey 2019*\n",
                "\n",
                "<b>\"Who's Actively Looking for a Job?\" (Top 5)</b>\n",
                "<img src=\"../../demos/resources/stackoverflow_on_job_search.png\" style=\"width: 100%;\"/>"
            ]
        },
        {
            "cell_type": "markdown",
            "metadata": {
                "slideshow": {
                    "slide_type": "slide"
                }
            },
            "source": [
                "### Big and supportive community\n",
                "* Free online courses, videos and tutorials (e. g. DataCamp with > 4.6M members)\n",
                "* Online communities that help each other (e. g. Stack Overflow)\n",
                "* Online competitions to improve own skills (e. g. Kaggle)"
            ]
        },
        {
            "cell_type": "markdown",
            "metadata": {
                "slideshow": {
                    "slide_type": "slide"
                }
            },
            "source": [
                "### Free and easy to use tools!\n",
                "_\"R is for statisticians who want to program, Python is for developers who want to do statistics.\"_\n",
                "\n",
                "<img src=\"../../demos/resources/r_vs_python_pandas.png\" style=\"width: 57%;\"/>"
            ]
        },
        {
            "cell_type": "markdown",
            "metadata": {
                "slideshow": {
                    "slide_type": "slide"
                }
            },
            "source": [
                "### Data Science popularity is still growing!"
            ]
        },
        {
            "cell_type": "code",
            "execution_count": null,
            "metadata": {
                "slideshow": {
                    "slide_type": "fragment"
                },
                "tags": [
                    "delete"
                ]
            },
            "outputs": [],
            "source": []
        },
        {
            "cell_type": "markdown",
            "metadata": {
                "slideshow": {
                    "slide_type": "fragment"
                }
            },
            "source": [
                "\"100\" == max. popularity!"
            ]
        },
        {
            "cell_type": "markdown",
            "metadata": {
                "slideshow": {
                    "slide_type": "slide"
                }
            },
            "source": [
                "# How far away are <span class=\"green\">Software Engineers</span></b> from <strong>Data Science</strong>?"
            ]
        },
        {
            "cell_type": "markdown",
            "metadata": {
                "slideshow": {
                    "slide_type": "slide"
                }
            },
            "source": [
                "### What is a Data Scientist?\n",
                "\"A data scientist is someone who<br/>\n",
                "&nbsp;&nbsp;is better at **statistics**<br/>\n",
                "&nbsp;&nbsp;than any <b><span class=\"green\">software engineer</span></b><br/>\n",
                "&nbsp;&nbsp;and better at <b><span class=\"green\">software engineering</span></b><br/>\n",
                "&nbsp;&nbsp;than any **statistician**.\"\n",
                "<br/>\n",
                "<br/>\n",
                "<div align=\"right\"><small>From https://twitter.com/cdixon/status/428914681911070720</small></div>"
            ]
        },
        {
            "cell_type": "markdown",
            "metadata": {
                "slideshow": {
                    "slide_type": "fragment"
                }
            },
            "source": [
                "<b>Not so far away as you may have thought!</b>"
            ]
        },
        {
            "cell_type": "markdown",
            "metadata": {
                "slideshow": {
                    "slide_type": "slide"
                }
            },
            "source": [
                "# How to Get Started?"
            ]
        },
        {
            "cell_type": "markdown",
            "metadata": {
                "slideshow": {
                    "slide_type": "slide"
                }
            },
            "source": [
                "## Reuse a Proven Approach (~ scientific method)\n",
                "<small>Roger Pengs \"Stages of Data Analysis\"</small><br/>\n",
                "I. Stating Question  \n",
                "II. Exploratory Data Analysis  \n",
                "III. Formal Modeling  \n",
                "IV. Interpretation  \n",
                "V. Communication  \n",
                "  \n",
                "\n"
            ]
        },
        {
            "cell_type": "markdown",
            "metadata": {
                "slideshow": {
                    "slide_type": "fragment"
                }
            },
            "source": [
                "<b>=> from a <strong>question</strong> over <span class=\"green\">data</span> to <span class=\"blue\" style=\"background-color: #FFFF00\">insights</span>!</b>"
            ]
        },
        {
            "cell_type": "markdown",
            "metadata": {
                "slideshow": {
                    "slide_type": "slide"
                }
            },
            "source": [
                "## Be Aware of the \"Seven principles\n",
                "...of inductive software engineering\" (Tim Menzies)\n",
                "1. Human before algorithms\n",
                "1. Plan for Scale\n",
                "1. Get Early Feedback\n",
                "1. Be Open Minded\n",
                "1. Be Smart with Your Learning\n",
                "1. Live with the Data You Have\n",
                "1. Develop a Broad Skill Set That Uses a Big Toolkit"
            ]
        },
        {
            "cell_type": "markdown",
            "metadata": {
                "slideshow": {
                    "slide_type": "slide"
                }
            },
            "source": [
                "## Use Literate Statistical Programming\n",
                "\n",
                "`(Intent + Code + Data + Results)`<br />\n",
                "`* Logical Step`<br />\n",
                "`+ Automation`<br />\n",
                "`= Literate Statistical Programming`"
            ]
        },
        {
            "cell_type": "markdown",
            "metadata": {
                "slideshow": {
                    "slide_type": "fragment"
                }
            },
            "source": [
                "Approach: **Computational notebooks**"
            ]
        },
        {
            "cell_type": "markdown",
            "metadata": {
                "slideshow": {
                    "slide_type": "slide"
                }
            },
            "source": [
                "### Computational Notebook Example\n",
                "<br/>\n",
                "  \n",
                "\n",
                "<div align=\"center\"><img src=\"../../demos/resources/notebook_approach.jpg\"></div>"
            ]
        },
        {
            "cell_type": "markdown",
            "metadata": {
                "slideshow": {
                    "slide_type": "slide"
                }
            },
            "source": [
                "## Use Standard Data Science Tools\n",
                "\n",
                "### One of the more popular tech stacks\n",
                "\n",
                "* Jupyter Notebook\n",
                "* Python 3\n",
                "* pandas\n",
                "* matplotlib"
            ]
        },
        {
            "cell_type": "markdown",
            "metadata": {
                "slideshow": {
                    "slide_type": "slide"
                }
            },
            "source": [
                "### Jupyter Notebook\n",
                "\n",
                "**Interactive Notebook**\n",
                "* Document-based analyses\n",
                "* Executable Code\n",
                "* Displaying results immediately\n",
                "* Everything in one place\n",
                "* Every step to the solution visible\n",
                "\n",
                "<b><span class=\"green\">=> Working out results in a comprehensible way!</span></b>\n",
                "\n"
            ]
        },
        {
            "cell_type": "markdown",
            "metadata": {
                "slideshow": {
                    "slide_type": "slide"
                }
            },
            "source": [
                "### Python 3\n",
                "\n",
                "**Best programming language for Data Science!**\n",
                "* Easy\n",
                "* Effective\n",
                "* Fast\n",
                "* Fun\n",
                "* Automation\n",
                "\n",
                "<b><span class=\"green\">=> Data Analysis becomes repeatable</span></b>"
            ]
        },
        {
            "cell_type": "markdown",
            "metadata": {
                "slideshow": {
                    "slide_type": "slide"
                }
            },
            "source": [
                "### pandas\n",
                "\n",
                "**Pragmatic data analysis framework**\n",
                "* Tabular data structures (\"programmable Excel sheet\")\n",
                "* Really fast\n",
                "* Flexible \n",
                "* Expressive\n",
                "\n",
                "<b><span class=\"green\">=> Good integration point for your data sources!</span></b>"
            ]
        },
        {
            "cell_type": "markdown",
            "metadata": {
                "slideshow": {
                    "slide_type": "slide"
                }
            },
            "source": [
                "### matplotlib\n",
                "\n",
                "**Programmable visualization library**\n",
                "\n",
                "* Programmatic creation of graphics\n",
                "* Plots line charts, bar charts, pie charts and much more\n",
                "* Integrated into pandas\n",
                "\n",
                "<b><span class=\"green\">=> Direct visualization of results in Jupyter Notebooks</span></b>"
            ]
        },
        {
            "cell_type": "markdown",
            "metadata": {
                "slideshow": {
                    "slide_type": "slide"
                }
            },
            "source": [
                "### The Python ecosystem\n",
                "<br/>\n",
                "<div class=\"row\">\n",
                "  <div class=\"column\">\n",
                "    <b>Data Analysis</b>\n",
                "    <ul>\n",
                "      <li>NumPy</li>\n",
                "      <li>scikit-learn</li>\n",
                "      <li>TensorFlow</li>\n",
                "      <li>SciPy</li>\n",
                "      <li>PySpark</li>\n",
                "      <li>py2neo</li>\n",
                "    </ul>\n",
                "  </div>\n",
                "  <div class=\"column\">\n",
                "    <b>Visualization and more</b>\n",
                "    <ul>\n",
                "      <li>pygal</li>\n",
                "      <li>Bokeh</li>\n",
                "      <li>python-pptx</li>\n",
                "      <li>RISE</li>\n",
                "      <li>Requests, xmldataset, Selenium, Flask...</li>\n",
                "    </ul>\n",
                "  </div>\n",
                "</div> \n",
                "\n",
                "<b><span class=\"green\">=> Provides the flexibility that is needed in specific situations</span></b> \n"
            ]
        },
        {
            "cell_type": "markdown",
            "metadata": {
                "slideshow": {
                    "slide_type": "slide"
                }
            },
            "source": [
                "### Other Technologies\n",
                "**Jupyter Notebook** works also with other technological platforms e. g.\n",
                "* jQAssistant software scanner / Neo4j graph database\n",
                "* JVM-based languages via beakerx / Tablesaw\n",
                "* bash\n",
                "\n",
                "<b><span class=\"green\">=> If you want to use special technology, you can!</span></b>\n"
            ]
        },
        {
            "cell_type": "markdown",
            "metadata": {
                "slideshow": {
                    "slide_type": "slide"
                }
            },
            "source": [
                "### Anaconda 3\n",
                "\n",
                "**Data Science Python Distribution**\n",
                "\n",
                "* Free all-inclusive package\n",
                "* Brings everything you need to get started\n",
                "* Optimized for running fast on your operating system\n",
                "\n",
                "<b><span class=\"green\">=> Download, install, ready, go!</span></b>"
            ]
        },
        {
            "cell_type": "markdown",
            "metadata": {
                "slideshow": {
                    "slide_type": "slide"
                }
            },
            "source": [
                "### My Recommendations for an easy start\n",
                "\n",
                "#### My TOP 5's*\n",
                "\n",
                "https://www.feststelltaste.de/category/top5/\n",
                "    \n",
                "Courses, videos, blogs, books and more...\n",
                "\n",
                "<small>**some pages are still under development*</small>"
            ]
        },
        {
            "cell_type": "markdown",
            "metadata": {
                "slideshow": {
                    "slide_type": "slide"
                }
            },
            "source": [
                "### My Book Recommendations\n",
                "* Adam Tornhill: Software Design X-Ray \n",
                "* Wes McKinney: Python For Data Analysis\n",
                "* Jeff Leek: The Elements of Data Analytic Style\n",
                "* Tim Menzies, Laurie Williams, Thomas Zimmermann: Perspectives on Data Science for Software Engineering"
            ]
        },
        {
            "cell_type": "markdown",
            "metadata": {
                "slideshow": {
                    "slide_type": "slide"
                }
            },
            "source": [
                "# Hands-On"
            ]
        },
        {
            "cell_type": "markdown",
            "metadata": {
                "slideshow": {
                    "slide_type": "slide"
                }
            },
            "source": [
                "## Programming Demo"
            ]
        },
        {
            "cell_type": "markdown",
            "metadata": {
                "slideshow": {
                    "slide_type": "slide"
                }
            },
            "source": [
                "### Case Study\n",
                "\n",
                "#### IntelliJ IDEA\n",
                "\n",
                "* IDE for Java developers\n",
                "* Almost entirely written in Java\n",
                "* Big and long-living project"
            ]
        },
        {
            "cell_type": "markdown",
            "metadata": {
                "slideshow": {
                    "slide_type": "slide"
                }
            },
            "source": [
                "### I. Stating Question (1/3)\n",
                "\n",
                "* Write down your question explicitly\n",
                "* Explain analysis idea comprehensibly\n"
            ]
        },
        {
            "cell_type": "markdown",
            "metadata": {
                "slideshow": {
                    "slide_type": "slide"
                }
            },
            "source": [
                "### I. Stating Question (2/3)\n",
                "\n",
                "<b>Question</b>\n",
                "* Which code is complex and did change often lately?\n"
            ]
        },
        {
            "cell_type": "markdown",
            "metadata": {
                "slideshow": {
                    "slide_type": "slide"
                }
            },
            "source": [
                "### I. Stating Question (3/3)\n",
                "#### Implementation Idea\n",
                "* Tools: Jupyter, Python, pandas, matplotlib\n",
                "* Heuristics:\n",
                " * \"complex\": many lines of code \n",
                " * \"change often\": number of Git commits\n",
                " * \"lately\": last 30 days\n"
            ]
        },
        {
            "cell_type": "markdown",
            "metadata": {
                "slideshow": {
                    "slide_type": "fragment"
                }
            },
            "source": [
                "**Meta goal:** Get to know the basic mechanics of the stack."
            ]
        },
        {
            "cell_type": "markdown",
            "metadata": {
                "slideshow": {
                    "slide_type": "slide"
                }
            },
            "source": [
                "### II. Exploratory Data analysis\n",
                "* Load and explore possible data sets\n",
                "* Clean up and filter the raw data"
            ]
        },
        {
            "cell_type": "markdown",
            "metadata": {
                "slideshow": {
                    "slide_type": "slide"
                }
            },
            "source": [
                "*We load Git log dataset extracted from a Git repository.*"
            ]
        },
        {
            "cell_type": "code",
            "execution_count": null,
            "metadata": {
                "slideshow": {
                    "slide_type": "fragment"
                },
                "tags": [
                    "delete"
                ]
            },
            "outputs": [],
            "source": []
        },
        {
            "cell_type": "markdown",
            "metadata": {
                "slideshow": {
                    "slide_type": "slide"
                }
            },
            "source": [
                "*We explore some basic key elements of the dataset*"
            ]
        },
        {
            "cell_type": "code",
            "execution_count": null,
            "metadata": {
                "slideshow": {
                    "slide_type": "-"
                },
                "tags": [
                    "delete"
                ]
            },
            "outputs": [],
            "source": []
        },
        {
            "cell_type": "markdown",
            "metadata": {
                "slideshow": {
                    "slide_type": "fragment"
                }
            },
            "source": [
                "<b>1</b> **DataFrame** (~ programmable Excel worksheet), <b>6</b> **Series** (= columns), <b>1128819</b> **rows** (= entries)"
            ]
        },
        {
            "cell_type": "markdown",
            "metadata": {
                "slideshow": {
                    "slide_type": "slide"
                }
            },
            "source": [
                "*We convert the text with a time to a real timestamp object.*"
            ]
        },
        {
            "cell_type": "code",
            "execution_count": null,
            "metadata": {
                "slideshow": {
                    "slide_type": "-"
                },
                "tags": [
                    "delete"
                ]
            },
            "outputs": [],
            "source": []
        },
        {
            "cell_type": "markdown",
            "metadata": {
                "slideshow": {
                    "slide_type": "slide"
                }
            },
            "source": [
                "*We filter out older changes.*"
            ]
        },
        {
            "cell_type": "code",
            "execution_count": null,
            "metadata": {
                "scrolled": true,
                "slideshow": {
                    "slide_type": "-"
                },
                "tags": [
                    "delete"
                ]
            },
            "outputs": [],
            "source": []
        },
        {
            "cell_type": "markdown",
            "metadata": {
                "slideshow": {
                    "slide_type": "slide"
                }
            },
            "source": [
                "*We keep just code written in Java.*"
            ]
        },
        {
            "cell_type": "code",
            "execution_count": null,
            "metadata": {
                "slideshow": {
                    "slide_type": "-"
                },
                "tags": [
                    "delete"
                ]
            },
            "outputs": [],
            "source": []
        },
        {
            "cell_type": "markdown",
            "metadata": {
                "slideshow": {
                    "slide_type": "slide"
                }
            },
            "source": [
                "### III. Formal Modeling\n",
                "\n",
                "* Create new perspective on the data\n",
                "* Join data with other datasets\n"
            ]
        },
        {
            "cell_type": "markdown",
            "metadata": {
                "slideshow": {
                    "slide_type": "slide"
                }
            },
            "source": [
                "*We aggregate the rows by counting the number of changes per file.*"
            ]
        },
        {
            "cell_type": "code",
            "execution_count": null,
            "metadata": {
                "slideshow": {
                    "slide_type": "-"
                },
                "tags": [
                    "delete"
                ]
            },
            "outputs": [],
            "source": []
        },
        {
            "cell_type": "markdown",
            "metadata": {
                "slideshow": {
                    "slide_type": "slide"
                }
            },
            "source": [
                "*We add additional information about the number of lines of all currently existing files...*"
            ]
        },
        {
            "cell_type": "code",
            "execution_count": null,
            "metadata": {
                "slideshow": {
                    "slide_type": "-"
                },
                "tags": [
                    "delete"
                ]
            },
            "outputs": [],
            "source": []
        },
        {
            "cell_type": "markdown",
            "metadata": {
                "slideshow": {
                    "slide_type": "slide"
                }
            },
            "source": [
                "*...and join this data with the existing dataset.*"
            ]
        },
        {
            "cell_type": "code",
            "execution_count": null,
            "metadata": {
                "slideshow": {
                    "slide_type": "-"
                },
                "tags": [
                    "delete"
                ]
            },
            "outputs": [],
            "source": []
        },
        {
            "cell_type": "markdown",
            "metadata": {
                "slideshow": {
                    "slide_type": "slide"
                }
            },
            "source": [
                "### VI. Interpretation\n",
                "* Work out the essence of the analysis\n",
                "* Make the central message / new insight clear"
            ]
        },
        {
            "cell_type": "markdown",
            "metadata": {
                "slideshow": {
                    "slide_type": "slide"
                }
            },
            "source": [
                "*We show only the TOP 10 hotspots in the code.*"
            ]
        },
        {
            "cell_type": "code",
            "execution_count": null,
            "metadata": {
                "slideshow": {
                    "slide_type": "-"
                },
                "tags": [
                    "delete"
                ]
            },
            "outputs": [],
            "source": []
        },
        {
            "cell_type": "markdown",
            "metadata": {
                "slideshow": {
                    "slide_type": "slide"
                }
            },
            "source": [
                "### V. Communication\n",
                "* Transform insights into a comprehensible visualization\n",
                "* Communicate the next steps after the analysis"
            ]
        },
        {
            "cell_type": "markdown",
            "metadata": {
                "slideshow": {
                    "slide_type": "slide"
                }
            },
            "source": [
                "*We plot the TOP 10 list as XY diagram.*"
            ]
        },
        {
            "cell_type": "code",
            "execution_count": null,
            "metadata": {
                "slideshow": {
                    "slide_type": "-"
                },
                "tags": [
                    "delete"
                ]
            },
            "outputs": [],
            "source": []
        },
        {
            "cell_type": "markdown",
            "metadata": {
                "slideshow": {
                    "slide_type": "slide"
                }
            },
            "source": [
                "### End of Demo"
            ]
        },
        {
            "cell_type": "markdown",
            "metadata": {
                "slideshow": {
                    "slide_type": "slide"
                }
            },
            "source": [
                "## Further Analysis\n",
                "\n",
                "* Analysis of performance bottlenecks with data from `vmstat`\n",
                "* Identifying Modularization Options based on Code Changes\n",
                "* Dependency Analysis with data from `jdeps` and visualization with `D3`"
            ]
        },
        {
            "cell_type": "markdown",
            "metadata": {
                "slideshow": {
                    "slide_type": "slide"
                }
            },
            "source": [
                "## Summary\n",
                "**1.** <b>Software Analytics</b> with Data Science is possible!<br/>\n",
                "**2.** If you need to go into deeper analysis: <b>you can</b>!  \n",
                "**3.** There are many <b>data sources</b> in software development. _What are you waiting for?_"
            ]
        },
        {
            "cell_type": "markdown",
            "metadata": {
                "slideshow": {
                    "slide_type": "fragment"
                }
            },
            "source": [
                "\n",
                "<b>=> from a <strong>question</strong> over <span class=\"green\">data</span> to <span class=\"blue\" style=\"background-color: #FFFF00\">insights</span>!</b>"
            ]
        },
        {
            "cell_type": "markdown",
            "metadata": {
                "slideshow": {
                    "slide_type": "slide"
                }
            },
            "source": [
                "# Thanks! Questions?\n",
                "\n",
                "<b>Markus Harrer</b><br/>\n",
                "innoQ Deutschland GmbH\n",
                "  \n",
                "markus.harrer@innoq.com\n",
                "\n",
                "`@feststelltaste`"
            ]
        }
    ],
    "metadata": {
        "celltoolbar": "Slideshow",
        "kernelspec": {
            "display_name": "Python 3",
            "language": "python",
            "name": "python3"
        },
        "language_info": {
            "codemirror_mode": {
                "name": "ipython",
                "version": 3
            },
            "file_extension": ".py",
            "mimetype": "text/x-python",
            "name": "python",
            "nbconvert_exporter": "python",
            "pygments_lexer": "ipython3",
            "version": "3.6.0"
        },
        "rise": {
            "controls": false,
            "showSlideNumber": "speaker",
            "slideNumber ": "false",
            "transition": "none"
        }
    },
    "nbformat": 4,
    "nbformat_minor": 2
}