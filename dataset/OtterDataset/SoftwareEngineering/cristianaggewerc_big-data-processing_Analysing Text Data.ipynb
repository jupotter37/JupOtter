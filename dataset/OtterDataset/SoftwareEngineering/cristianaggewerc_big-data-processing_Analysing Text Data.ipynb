{
 "cells": [
  {
   "cell_type": "markdown",
   "metadata": {},
   "source": [
    "# Assignment 1 | FIT 5202 - Data processing for Big Data\n",
    "\n",
    "\n",
    "Student: Cristiana Garcia de Freitas\n",
    "\n",
    "ID: 3008887\n",
    "\n",
    "## PART A: Analysing Text Data\n",
    "\n",
    "### Step 01: Import pyspark and initialize Spark"
   ]
  },
  {
   "cell_type": "code",
   "execution_count": 1,
   "metadata": {},
   "outputs": [],
   "source": [
    "# create entry points to spark\n",
    "from pyspark import SparkContext, SparkConf # Spark\n",
    "from pyspark.sql import SparkSession # Spark SQL\n",
    "\n",
    "# We add this line to avoid an error : \"Cannot run multiple SparkContexts at once\". \n",
    "# If there is an existing spark context, we will reuse it instead of creating a new context.\n",
    "sc = SparkContext.getOrCreate()\n",
    "\n",
    "# Construct a configuration\n",
    "conf = SparkConf()\n",
    "\n",
    "# The `appName` field is a name to be shown on the Sparking cluster UI. \n",
    "conf.set(\"spark.app.name\", \"Assignment 1 FIT 5202\")\n",
    "# local[*]: run Spark locally with as many working processors as logical cores on your machine.\n",
    "# In the field of `master`, we use a local server with as many working processors (or threads) as possible (i.e. `local[*]`). \n",
    "conf.set(\"spark.master\", \"local[*]\")\n",
    "\n",
    "# If there is no existing spark context, we now create a new context\n",
    "if (sc is None):\n",
    "    sc = SparkContext(conf=conf)\n",
    "spark = SparkSession(sparkContext=sc)"
   ]
  },
  {
   "cell_type": "markdown",
   "metadata": {},
   "source": [
    "### Step 02: Create Resilient Distributed Datasets (RDDs)\n",
    "Read the required dataset and display the total number of lines in each dataset\n",
    "\n",
    "- Book1: \"Agile Processes  in Software Engineering  and Extreme Programming.txt\"\n",
    "- Book2: \"Scrum Handbook.txt"
   ]
  },
  {
   "cell_type": "code",
   "execution_count": 2,
   "metadata": {},
   "outputs": [
    {
     "name": "stdout",
     "output_type": "stream",
     "text": [
      "Book 1 has 21569 lines\n",
      "Book 2 has 4617 lines\n"
     ]
    }
   ],
   "source": [
    "# reading the datasets\n",
    "rdd1 = sc.textFile('data/Agile Processes  in Software Engineering  and Extreme Programming.txt')\n",
    "rdd2 = sc.textFile('data/Scrum Handbook.txt')\n",
    "\n",
    "# # display total number of lines\n",
    "print(\"Book 1 has %d lines\" %rdd1.count())\n",
    "print(\"Book 2 has %d lines\" %rdd2.count())"
   ]
  },
  {
   "cell_type": "markdown",
   "metadata": {},
   "source": [
    "### Step 03: Cleaning/Manipulating\n",
    "Words should be counted independent of their case. So, you will have to change all words to lower case. Further, if there are any leading or trailing spaces on a line, it should be removed. Write a function that performs the following tasks on the RDDs: \n",
    "\n",
    "1. Removes all characters which are not alphabets except space(s).\n",
    "2. Changes all upper case letters to lower case.\n",
    "3. Removes all leading or trailing spaces. \n",
    "\n",
    "You can use the python module re for matching patterns. \n",
    "\n",
    "Finally, display the contents of the RDDs after applying the function."
   ]
  },
  {
   "cell_type": "code",
   "execution_count": 3,
   "metadata": {},
   "outputs": [],
   "source": [
    "from re import sub\n",
    "\n",
    "def function_cleaning(line):\n",
    "    # removes all characters which are not alphabets except space(s)\n",
    "    line = sub('[^a-zA-Z\\s]*', '', line)\n",
    "    # Changes all upper case letters to lower case.\n",
    "    line = line.lower()\n",
    "    # Removes all leading or trailing spaces.\n",
    "    line = line.strip()\n",
    "    return line"
   ]
  },
  {
   "cell_type": "code",
   "execution_count": 4,
   "metadata": {},
   "outputs": [
    {
     "data": {
      "text/plain": [
       "['lnbip',\n",
       " '',\n",
       " '',\n",
       " 'i helen sharp',\n",
       " '',\n",
       " 'tracy hall eds',\n",
       " '',\n",
       " 'agile processes',\n",
       " 'in software engineering',\n",
       " 'and extreme programming',\n",
       " '',\n",
       " 'th international conference xp',\n",
       " 'edinburgh uk may',\n",
       " 'proceedings',\n",
       " '',\n",
       " '',\n",
       " 'springer open',\n",
       " '',\n",
       " '',\n",
       " '']"
      ]
     },
     "execution_count": 4,
     "metadata": {},
     "output_type": "execute_result"
    }
   ],
   "source": [
    "# apply the function to each element of the first RDD\n",
    "clean_rdd1 = rdd1.map(function_cleaning)\n",
    "# display first 20 observations\n",
    "clean_rdd1.take(20)"
   ]
  },
  {
   "cell_type": "code",
   "execution_count": 5,
   "metadata": {},
   "outputs": [
    {
     "data": {
      "text/plain": [
       "['jeff sutherlands',\n",
       " '',\n",
       " 'scrum handbook',\n",
       " '',\n",
       " '',\n",
       " '',\n",
       " '',\n",
       " 'everything',\n",
       " 'you need',\n",
       " 'to know',\n",
       " 'to start',\n",
       " '',\n",
       " 'a scrum project',\n",
       " 'in your',\n",
       " 'organization',\n",
       " '',\n",
       " 'scrum',\n",
       " '',\n",
       " 'training',\n",
       " '']"
      ]
     },
     "execution_count": 5,
     "metadata": {},
     "output_type": "execute_result"
    }
   ],
   "source": [
    "# apply the function to each element of the second RDD\n",
    "clean_rdd2 = rdd2.map(function_cleaning)\n",
    "# display first 20 observations\n",
    "clean_rdd2.take(20)"
   ]
  },
  {
   "cell_type": "markdown",
   "metadata": {},
   "source": [
    "### Step 04: Transforming the Data/Counting the words\n",
    "Apply a transformation that will split each element of the RDD by its spaces and then create a word pairs for e.g.('agile', 1), ('handbook', 1). Then, count the frequency of each word and display the top 20 most frequent words."
   ]
  },
  {
   "cell_type": "markdown",
   "metadata": {},
   "source": [
    "#### Book 1"
   ]
  },
  {
   "cell_type": "code",
   "execution_count": 6,
   "metadata": {},
   "outputs": [
    {
     "data": {
      "text/plain": [
       "[('the', 8145),\n",
       " ('and', 3965),\n",
       " ('of', 3944),\n",
       " ('to', 3714),\n",
       " ('in', 3076),\n",
       " ('a', 2701),\n",
       " ('is', 1539),\n",
       " ('that', 1355),\n",
       " ('for', 1194),\n",
       " ('as', 1028),\n",
       " ('on', 1015),\n",
       " ('we', 975),\n",
       " ('with', 969),\n",
       " ('software', 922),\n",
       " ('this', 915),\n",
       " ('are', 784),\n",
       " ('agile', 748),\n",
       " ('it', 741),\n",
       " ('development', 737),\n",
       " ('was', 711)]"
      ]
     },
     "execution_count": 6,
     "metadata": {},
     "output_type": "execute_result"
    }
   ],
   "source": [
    "# Split into words and remove empty lines:\n",
    "tokenize1 = clean_rdd1.flatMap(lambda line: line.split(\" \")) \\\n",
    ".filter(lambda word: word != \"\")\n",
    "# The words are the keys in (word, 1). Reducing by key we aggregate the same word and count how many times \n",
    "# it appears with our lambda function.\n",
    "counts1 = tokenize1.map(lambda words: (words,1))\\\n",
    ".reduceByKey(lambda x,y: x+y)\\\n",
    ".sortBy(lambda x: x[1], ascending=False)\n",
    "# display the top 20 most frequent words\n",
    "counts1.take(20)"
   ]
  },
  {
   "cell_type": "markdown",
   "metadata": {},
   "source": [
    "#### Book 2"
   ]
  },
  {
   "cell_type": "code",
   "execution_count": 7,
   "metadata": {},
   "outputs": [
    {
     "data": {
      "text/plain": [
       "[('the', 1238),\n",
       " ('of', 537),\n",
       " ('and', 534),\n",
       " ('to', 477),\n",
       " ('a', 451),\n",
       " ('scrum', 395),\n",
       " ('in', 360),\n",
       " ('is', 348),\n",
       " ('team', 260),\n",
       " ('product', 232),\n",
       " ('for', 195),\n",
       " ('that', 181),\n",
       " ('it', 165),\n",
       " ('on', 149),\n",
       " ('sprint', 146),\n",
       " ('this', 142),\n",
       " ('with', 132),\n",
       " ('as', 124),\n",
       " ('are', 119),\n",
       " ('by', 118)]"
      ]
     },
     "execution_count": 7,
     "metadata": {},
     "output_type": "execute_result"
    }
   ],
   "source": [
    "# Split into words and remove empty lines:\n",
    "tokenize2 = clean_rdd2.flatMap(lambda line: line.split(\" \"))\\\n",
    ".filter(lambda word: word != \"\")\n",
    "# The words are the keys in (word, 1). Reducing by key we aggregate the same word and count how many times \n",
    "# it appears with our lambda function.\n",
    "counts2 = tokenize2.map(lambda words: (words,1))\\\n",
    ".reduceByKey(lambda x,y: x+y)\\\n",
    ".sortBy(lambda x: x[1], ascending=False) \n",
    "# display the top 20 most frequent words\n",
    "counts2.take(20)"
   ]
  },
  {
   "cell_type": "markdown",
   "metadata": {},
   "source": [
    "### Step 05: Removing Stop Words \n",
    "In computing, stop words are words which are filtered out before or after processing of natural language data.\n",
    "In natural language processing, use less words (data), are referred to as stop words. We would not want these words taking up space in our data base, or taking up valuable processing time. For this, we can remove them easily, by storing a list of words that you consider to be stop words.\n",
    "NLTK (Natural Language Toolkit) in python has a list of stopwords stored in 16 different languages. \n",
    "Write the code to remove stop words from the RDDs. You should use nltk package to remove the stop words. Also find how many unique words do we now have in each RDD?"
   ]
  },
  {
   "cell_type": "code",
   "execution_count": 8,
   "metadata": {},
   "outputs": [
    {
     "name": "stderr",
     "output_type": "stream",
     "text": [
      "[nltk_data] Error loading stopwords: <urlopen error [Errno -2] Name or\n",
      "[nltk_data]     service not known>\n"
     ]
    }
   ],
   "source": [
    "import nltk\n",
    "nltk.download('stopwords')\n",
    "from nltk.corpus import stopwords\n",
    "stop_words = set(stopwords.words('english'))"
   ]
  },
  {
   "cell_type": "markdown",
   "metadata": {},
   "source": [
    "#### Book 1\n",
    "##### Removing stop words"
   ]
  },
  {
   "cell_type": "code",
   "execution_count": 9,
   "metadata": {},
   "outputs": [
    {
     "data": {
      "text/plain": [
       "[('software', 922),\n",
       " ('agile', 748),\n",
       " ('development', 737),\n",
       " ('team', 554),\n",
       " ('product', 451),\n",
       " ('work', 384),\n",
       " ('teams', 363),\n",
       " ('project', 354),\n",
       " ('developers', 343),\n",
       " ('research', 317),\n",
       " ('data', 311),\n",
       " ('process', 308),\n",
       " ('one', 288),\n",
       " ('also', 281),\n",
       " ('time', 281),\n",
       " ('study', 270),\n",
       " ('use', 269),\n",
       " ('code', 248),\n",
       " ('used', 244),\n",
       " ('startups', 230)]"
      ]
     },
     "execution_count": 9,
     "metadata": {},
     "output_type": "execute_result"
    }
   ],
   "source": [
    "filtered1 = counts1.filter(lambda word: word[0] not in stop_words)\n",
    "filtered1.take(20)"
   ]
  },
  {
   "cell_type": "markdown",
   "metadata": {},
   "source": [
    "##### Counting unique words"
   ]
  },
  {
   "cell_type": "code",
   "execution_count": 10,
   "metadata": {},
   "outputs": [
    {
     "name": "stdout",
     "output_type": "stream",
     "text": [
      "Book 1 has 9611 unique words\n"
     ]
    }
   ],
   "source": [
    "unique1 = filtered1.count()\n",
    "print(\"Book 1 has %d unique words\" %unique1)"
   ]
  },
  {
   "cell_type": "markdown",
   "metadata": {},
   "source": [
    "#### Book 2\n",
    "##### Removing stop words"
   ]
  },
  {
   "cell_type": "code",
   "execution_count": 11,
   "metadata": {},
   "outputs": [
    {
     "data": {
      "text/plain": [
       "[('scrum', 395),\n",
       " ('team', 260),\n",
       " ('product', 232),\n",
       " ('sprint', 146),\n",
       " ('development', 98),\n",
       " ('teams', 94),\n",
       " ('project', 92),\n",
       " ('owner', 85),\n",
       " ('work', 79),\n",
       " ('backlog', 74),\n",
       " ('one', 65),\n",
       " ('software', 52),\n",
       " ('management', 52),\n",
       " ('items', 52),\n",
       " ('new', 51),\n",
       " ('jeff', 48),\n",
       " ('time', 45),\n",
       " ('release', 44),\n",
       " ('meeting', 44),\n",
       " ('first', 40)]"
      ]
     },
     "execution_count": 11,
     "metadata": {},
     "output_type": "execute_result"
    }
   ],
   "source": [
    "filtered2 = counts2.filter(lambda word: word[0] not in stop_words)\n",
    "filtered2.take(20)"
   ]
  },
  {
   "cell_type": "markdown",
   "metadata": {},
   "source": [
    "##### Counting unique words"
   ]
  },
  {
   "cell_type": "code",
   "execution_count": 12,
   "metadata": {},
   "outputs": [
    {
     "name": "stdout",
     "output_type": "stream",
     "text": [
      "Book 2 has 2936 unique words\n"
     ]
    }
   ],
   "source": [
    "unique2 = filtered2.count()\n",
    "print(\"Book 2 has %d unique words\" %unique2)"
   ]
  },
  {
   "cell_type": "markdown",
   "metadata": {},
   "source": [
    "### Step 06: Find the average occurrence of a word \n",
    "To find the average occurrence of a word, you will have to find the total number of words and divide that by the number of unique words. Write the code to find the average occurrences of the words."
   ]
  },
  {
   "cell_type": "code",
   "execution_count": 13,
   "metadata": {},
   "outputs": [
    {
     "name": "stdout",
     "output_type": "stream",
     "text": [
      "Book 1 has 8.23 average occurence of a word\n",
      "Book 2 has 3.68 average occurence of a word\n"
     ]
    }
   ],
   "source": [
    "# average_words = total_words/unique_words\n",
    "# Book 1:\n",
    "total1 = filtered1.values().sum()\n",
    "average1 = total1/unique1\n",
    "print(\"Book 1 has %.2f average occurence of a word\" %average1)\n",
    "# Book 2:\n",
    "total2 = filtered2.values().sum()\n",
    "average2 = total2/unique2\n",
    "print(\"Book 2 has %.2f average occurence of a word\" %average2)"
   ]
  },
  {
   "cell_type": "markdown",
   "metadata": {},
   "source": [
    "### Step 7: Exploratory data analysis\n",
    "Analyze the distribution of the words using the standard python library - matplotlib. \n",
    "Please make sure you are aware of the different factors such as:\n",
    "visual effects,\n",
    "coordinates ystem,\n",
    "labels,\n",
    "data type and scale and informative interpretation before data visualisation. Also consider other aspects of visualization like:\n",
    "clarity,\n",
    "accuracy\n",
    "and efficiency as well.\n",
    "\n",
    "Compare the distribution of words in Book1 and Book2. The data spans many orders of magnitude and the features of the distribution not quite evident in the linear space. Therefore, use logscale (base10) to plot the graph. Explain your understanding based on the graphs.\n",
    "\n",
    "Compare the top 15 most common words in Book1 and Book2. Plot the graphs and explain your understanding of the graph.\n"
   ]
  },
  {
   "cell_type": "code",
   "execution_count": 14,
   "metadata": {},
   "outputs": [],
   "source": [
    "# importing the library that is going to be used to plot the graphs\n",
    "import matplotlib.pyplot as plt"
   ]
  },
  {
   "cell_type": "markdown",
   "metadata": {},
   "source": [
    "### Distribution of Words:"
   ]
  },
  {
   "cell_type": "code",
   "execution_count": 15,
   "metadata": {},
   "outputs": [
    {
     "data": {
      "image/png": "[encoded data removed]",
      "text/plain": [
       "<Figure size 720x360 with 1 Axes>"
      ]
     },
     "metadata": {
      "needs_background": "light"
     },
     "output_type": "display_data"
    }
   ],
   "source": [
    "# input data for the histograms:\n",
    "hist1 = filtered1.map(lambda x: x[1]).collect()\n",
    "hist2 = filtered2.map(lambda x: x[1]).collect()\n",
    "\n",
    "# Ploting the histograms: \n",
    "plt.figure(figsize=(10,5))\n",
    "plt.hist(hist1, bins=58, label= \"Book 1\", alpha=0.5, edgecolor='black')\n",
    "plt.hist(hist2, bins=25, label= \"Book 2\", alpha=0.5, edgecolor='black')\n",
    "plt.yscale('log')\n",
    "plt.xlabel('Repetitions of Word', fontsize=12)\n",
    "plt.ylabel('Number of Occurences (logscale)', fontsize=12)\n",
    "plt.title('Words Distribution', fontsize=16)\n",
    "plt.legend(loc='upper right')\n",
    "plt.show()"
   ]
  },
  {
   "cell_type": "markdown",
   "metadata": {},
   "source": [
    "<font color=red><b>Answer:</font></b> <font color=blue><b>\n",
    "We can see in the histogram above that both distributions of words frequencies are right skewed. They present a greater frequency in the occurence of words that are repeated a small number of times, as the bars are higher at the left side of the graph. Book one is more than 4 times longer than book 2 in terms of lines quantity, so, it's natural that, having more words written, book 2 have a higher number of occurences in almost every bin. The log scale has been applied to make them more comparable. It is also notable that very few words are repeated more than 400 times (and it only happens for book 2).</font></b> "
   ]
  },
  {
   "cell_type": "markdown",
   "metadata": {},
   "source": [
    "### Comparing top 15 most common words"
   ]
  },
  {
   "cell_type": "code",
   "execution_count": 16,
   "metadata": {},
   "outputs": [
    {
     "data": {
      "image/png": "[encoded data removed]",
      "text/plain": [
       "<Figure size 1584x504 with 2 Axes>"
      ]
     },
     "metadata": {
      "needs_background": "light"
     },
     "output_type": "display_data"
    }
   ],
   "source": [
    "# preparing data for the plot regarding book1\n",
    "top_book1 = filtered1.sortBy(lambda x: x[1], ascending=False).map(lambda x: x[1]).take(15)\n",
    "legends1 = filtered1.sortBy(lambda x: x[1], ascending=False).map(lambda x: x[0]).take(15)\n",
    "# preparing data for the plot regarding book2\n",
    "top_book2 = filtered2.sortBy(lambda x: x[1], ascending=False).map(lambda x: x[1]).take(15)\n",
    "legends2 = filtered2.sortBy(lambda x: x[1], ascending=False).map(lambda x: x[0]).take(15)\n",
    "\n",
    "# plotting\n",
    "fig, axes = plt.subplots(ncols=2, figsize=(22,7))\n",
    "axes[0].barh(legends1, top_book1, align='center', color='lightblue', edgecolor='black')\n",
    "axes[0].set_xlabel('Occurrences', fontsize=12)\n",
    "axes[0].set_title('Book 1 - Occurrences by Word', fontsize=16)\n",
    "axes[0].tick_params(axis = 'y', which = 'major', labelsize = 14)\n",
    "axes[1].barh(legends2, top_book2, align='center', color='lightgreen', edgecolor='black')\n",
    "plt.xlabel('Occurrences', fontsize=14)\n",
    "plt.title('Book 2 - Occurrences by Word', fontsize=16)\n",
    "plt.yticks(size=14)\n",
    "plt.show()"
   ]
  },
  {
   "cell_type": "markdown",
   "metadata": {},
   "source": [
    "<font color=red><b>Answer:</font></b> <font color=blue><b>\n",
    "The most frequent word of Book 1 is \"software\", with over 800 occurences. It does also appear between the top 15 words of book 2, but only around 50 times. The top word of Book 2 is \"scrum\", with around 400 occurences. It does not appear between the top 15 words of Book 1.\n",
    "    \n",
    "Overall, the top words of both boths have a significant intersection (for instance: software, development, work, team, product...). \n",
    "\n",
    "One point that call attention is the presence of both \"team\" and \"teams\" in the two groups. Probably a part of those \"teams\" came from the removal of the apostrophe of \"team's\" in the cleaning stage. With further stemming and lemmatization these words would be analysed togheter and probably become the top word of the two books.\n",
    "</font></b> "
   ]
  }
 ],
 "metadata": {
  "kernelspec": {
   "display_name": "Python 3",
   "language": "python",
   "name": "python3"
  },
  "language_info": {
   "codemirror_mode": {
    "name": "ipython",
    "version": 3
   },
   "file_extension": ".py",
   "mimetype": "text/x-python",
   "name": "python",
   "nbconvert_exporter": "python",
   "pygments_lexer": "ipython3",
   "version": "3.6.8"
  }
 },
 "nbformat": 4,
 "nbformat_minor": 2
}
