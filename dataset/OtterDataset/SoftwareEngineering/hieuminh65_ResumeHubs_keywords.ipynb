{
 "cells": [
  {
   "cell_type": "code",
   "execution_count": 9,
   "metadata": {},
   "outputs": [],
   "source": [
    "import replicate\n",
    "import json"
   ]
  },
  {
   "cell_type": "code",
   "execution_count": 10,
   "metadata": {},
   "outputs": [],
   "source": [
    "import os\n",
    "from dotenv import load_dotenv\n",
    "\n",
    "load_dotenv()\n",
    "replicate_api_key = os.getenv(\"REPLICATE_API_KEY\")\n",
    "client = replicate.Client(api_token=replicate_api_key)"
   ]
  },
  {
   "cell_type": "markdown",
   "metadata": {},
   "source": [
    "## Configuration\n"
   ]
  },
  {
   "cell_type": "code",
   "execution_count": 11,
   "metadata": {},
   "outputs": [],
   "source": [
    "with open('keywords.json') as f:\n",
    "    data = json.load(f)"
   ]
  },
  {
   "cell_type": "code",
   "execution_count": 12,
   "metadata": {},
   "outputs": [],
   "source": [
    "model = \"snowflake/snowflake-arctic-instruct\"\n",
    "top_k = 50\n",
    "top_p = 0.9\n",
    "temperature = 0.9\n",
    "max_new_tokens = 512\n",
    "min_new_tokens = 0\n",
    "stop_sequence = \"<|im_end|>\"\n",
    "presence_penalty = 2\n",
    "frequency_penalty = 0.2\n",
    "system_prompt = \"You're a dataset generator. Your response should be a list of specific keywords that are separated by commas. You have to follow the prompt. You should generate as many keywords as possible\"\n",
    "examples = ', '.join(data)\n",
    "prompt = f\"\"\"You have to generate a lots of techical keywords for a job category. The job category is 'Machine Learning Engineer'. The keywords should be related to the job category and must not repeat the keywords that are these examples: {examples}\"\"\""
   ]
  },
  {
   "cell_type": "code",
   "execution_count": 13,
   "metadata": {},
   "outputs": [],
   "source": [
    "def generate_keywords():\n",
    "    global prompt, system_prompt, data\n",
    "    output = \"\"\n",
    "    for event in client.stream(\n",
    "        \"snowflake/snowflake-arctic-instruct\",\n",
    "        input={\n",
    "            \"top_k\": top_k,\n",
    "            \"top_p\": top_p,\n",
    "            \"prompt\": prompt,\n",
    "            \"temperature\": temperature,\n",
    "            \"max_new_tokens\": max_new_tokens,\n",
    "            \"min_new_tokens\": min_new_tokens,\n",
    "            \"stop_sequences\": stop_sequence,\n",
    "            \"prompt_template\": f\"<|im_start|>system\\n{system_prompt}<|im_end|>\\n<|im_start|>user\\n{prompt}<|im_end|>\\n\\n<|im_start|>assistant\\n\",\n",
    "            \"presence_penalty\": presence_penalty,\n",
    "            \"frequency_penalty\": frequency_penalty\n",
    "        },\n",
    "    ):\n",
    "        output += str(event)\n",
    "        print(str(event), end=\"\")\n",
    "    prompt += \", \"\n",
    "    prompt += output\n",
    "    number = output.count(\",\")\n",
    "    print(\"There are\", number, \"keywords generated.\")\n",
    "    for word in output.split(\",\"):\n",
    "        data.append(word.strip())\n",
    "    return output"
   ]
  },
  {
   "cell_type": "code",
   "execution_count": 14,
   "metadata": {},
   "outputs": [
    {
     "name": "stdout",
     "output_type": "stream",
     "text": [
      " Analytics, C++, Python, Data Analysis, Machine Learning, Software Engineering, Quantitative Analysis, IT InfrastructureThere are 7 keywords generated.\n",
      " AI Modeling, Artificial Intelligence, Deep Learning, Neural Networks, Natural Language Processing, Computer Vision, Supervised Learning, Unsupervised Learning, Reinforcement LearningThere are 8 keywords generated.\n",
      " Machine Learning, Artificial Intelligence, Deep Learning, Neural Networks, Natural Language Processing, Computer Vision, Supervised Learning, Unsupervised Learning, Reinforcement LearningThere are 8 keywords generated.\n",
      " Deep Learning, TensorFlow, Neural Networks, Natural Language Processing (NLP), Convolutional Neural Networks (CNN), Recurrent Neural Networks (RNN), Long Short-Term Memory (LSTM), Artificial Intelligence (AI), Reinforcement Learning, Generative Adversarial Networks (GAN), Transfer Learning, Image ProcessingThere are 11 keywords generated.\n",
      " Artificial Intelligence, Machine Learning, Deep Learning, Neural Networks, Natural Language Processing (NLP), Computer Vision, Supervised Learning, Unsupervised Learning, Reinforcement Learning, TensorFlow, Convolutional Neural Networks (CNN), Recurrent Neural Networks (RNN), Long Short-Term Memory (LSTM), Generative Adversarial Networks (GAN), Transfer Learning, Image ProcessingThere are 15 keywords generated.\n"
     ]
    }
   ],
   "source": [
    "for i in range(5):\n",
    "    generate_keywords()"
   ]
  },
  {
   "cell_type": "code",
   "execution_count": 15,
   "metadata": {},
   "outputs": [],
   "source": [
    "data = list(set(data))"
   ]
  },
  {
   "cell_type": "code",
   "execution_count": 16,
   "metadata": {},
   "outputs": [],
   "source": [
    "with open(\"keywords.json\", \"w\") as f:\n",
    "    json.dump(data, f, indent=4)"
   ]
  }
 ],
 "metadata": {
  "kernelspec": {
   "display_name": "venv",
   "language": "python",
   "name": "python3"
  },
  "language_info": {
   "codemirror_mode": {
    "name": "ipython",
    "version": 3
   },
   "file_extension": ".py",
   "mimetype": "text/x-python",
   "name": "python",
   "nbconvert_exporter": "python",
   "pygments_lexer": "ipython3",
   "version": "3.11.1"
  }
 },
 "nbformat": 4,
 "nbformat_minor": 2
}
