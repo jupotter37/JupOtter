{
 "cells": [
  {
   "cell_type": "markdown",
   "id": "1f68c616",
   "metadata": {},
   "source": [
    "<font size = 4 color='blue'>\n",
    "\n",
    "# 2. Subclases y Herencia"
   ]
  },
  {
   "cell_type": "markdown",
   "id": "775a9bbc",
   "metadata": {},
   "source": [
    "<font size = 4 color='black'>\n",
    "    \n",
    "_________________________________________________________________________"
   ]
  },
  {
   "cell_type": "markdown",
   "id": "4c7c78f7",
   "metadata": {},
   "source": [
    "<font size = 4 color='black'>\n",
    "\n",
    "Recordemos la cuál es la necesidad que satisface el paradigma de la Programación Orientada a Objetos: *escribir componentes de software reutilizables.* En ese sentido, Python además de darnos la posibilidad de crear clases e instanciarlas en ojetos como se vio en la primera sesión, también ofrece una característica que facilita la creación de nuevas clases a partir de otras ya existentes: *la herencia*."
   ]
  },
  {
   "cell_type": "markdown",
   "id": "e221bdfe",
   "metadata": {},
   "source": [
    "<font size = 4 color='blue'>\n",
    "\n",
    "### 2.1 Herencia: clases base y subclases"
   ]
  },
  {
   "cell_type": "markdown",
   "id": "6e36cee6",
   "metadata": {},
   "source": [
    "<font size = 4 color='black'>\n",
    "\n",
    "En el contexto de la Programación Orientada a Objetos (OOP), un objeto de una clase es, a su vez, un objeto de otra clase.\n",
    "Por ejemplo, un `Círculo` es una `FiguraGeométrica` así como lo son el `Triángulo` y el `Rectángulo`. Se puede decir que la clase `Círculo` se *hereda* de la clase `FiguraGeométrica`, esto es: `FiguraGeométrica` es una clase **base** mientras que  `Círculo` es una **subclase**. La siguiente tabla enlista algunos ejemplos más de clases base y subclases:\n",
    "    \n",
    "    \n",
    "<div>\n",
    "<img src=\"images/BaseAndSub.png\" width=\"500\"/>\n",
    "</div>"
   ]
  },
  {
   "cell_type": "markdown",
   "id": "7f6d4164",
   "metadata": {},
   "source": [
    "<font size = 4 color='black'>\n",
    "\n",
    "Dado que cada objeto subclase es un objeto de la clase base y una clase base puede tener múltiples subclases, se puede decir que el conjunto de objetos representados por la calse base es más grande que el conjunto de objetos representados por cualquier otra subclase. "
   ]
  },
  {
   "attachments": {},
   "cell_type": "markdown",
   "id": "af0169d8",
   "metadata": {},
   "source": [
    "<font size = 4 color='black'>\n",
    "\n",
    "#### Jerarquía de herencia de la clase `Shape`\n",
    "    \n",
    "<div>\n",
    "<img src=\"images/Shape.png\" width=\"700\"/>\n",
    "</div>\n",
    "    \n",
    "Ahora considérese la jerarquía de herencia en el diagrama de la clase base `Shape`. De esta clase base se heredan las subclases `TwoDimendionalShape` y `ThreeDimensionalShape`. El tercer nivel de este *árbol de herencia* contiene tipos específicos de figuras tridimensionales y bidimensionales. Si se siguen las flechas, se puede reconocer una relación del tipo *\"es un\"*, por ejemplo: un `Triangle` *es una* `TwoDimensionalShape`, que a su vez *es una* `Shape`. "
   ]
  },
  {
   "cell_type": "markdown",
   "id": "1e841923",
   "metadata": {},
   "source": [
    "<font size = 4 color='black'>\n",
    "\n",
    "##### Clases concretas y abstractas (Software engineering con clases abstractas)\n",
    "\n",
    "Cuando pensamos en una clase, asumimos que será instanciada para crear objetos. Sin embargo, a veces es útil declarar clases que nunca se van a instanciar, pero sí serán utilizadas para construir subclases a partir de ellas. A este tipo de clases se les conoce como *clases abstractas* (por ejemplo `TwoDimendionalShape`), mientras que las clases que sí serán instanciadas se les conoce como *clases concretas*."
   ]
  },
  {
   "cell_type": "markdown",
   "id": "52b40c71",
   "metadata": {},
   "source": [
    "<font size = 4 color='black'>\n",
    "\n",
    "#### Jerarquía de herencia de la clase `Scene` de la librería Manim\n",
    "    \n",
    "<div>\n",
    "<img src=\"images/Scenes.png\" width=\"600\"/>\n",
    "</div>\n",
    "    \n",
    "[Documentación de Manim](https://docs.manim.community/en/stable/reference.html)"
   ]
  },
  {
   "cell_type": "markdown",
   "id": "34997c5d",
   "metadata": {},
   "source": [
    "<font size = 4 color='black'>\n",
    "\n",
    "#### Un ejemplo de herencia en Python"
   ]
  },
  {
   "cell_type": "markdown",
   "id": "395643a1",
   "metadata": {},
   "source": [
    "<font size = 4 color='black'>\n",
    "\n",
    "Consideremos el problema de representar empleados de una compañía. Todos los empleados tienen muchas características en común, sin embargo hay algunos que tienen características que los distinguen de los demás. "
   ]
  },
  {
   "cell_type": "markdown",
   "id": "a63af84b",
   "metadata": {},
   "source": [
    "<font size = 4 color='black'>\n",
    "\n",
    "#### Clase base `CommissionEmployee`"
   ]
  },
  {
   "cell_type": "code",
   "execution_count": null,
   "id": "8af19951",
   "metadata": {},
   "outputs": [],
   "source": [
    "\"\"\"CommissionEmployee base class.\"\"\"\n",
    "from decimal import Decimal\n",
    "\n",
    "class CommissionEmployee:\n",
    "    \"\"\"An employee who gets paid commission based on gross sales.\"\"\"\n",
    "\n",
    "    def __init__(self, first_name, last_name, ssn, \n",
    "                 gross_sales, commission_rate):\n",
    "        \"\"\"Initialize CommissionEmployee's attributes.\"\"\"\n",
    "        self._first_name = first_name\n",
    "        self._last_name = last_name\n",
    "        self._ssn = ssn\n",
    "        self.gross_sales = gross_sales  # validate via property\n",
    "        self.commission_rate = commission_rate  # validate via property\n",
    "\n",
    "    @property\n",
    "    def first_name(self):\n",
    "        return self._first_name\n",
    "\n",
    "    @property\n",
    "    def last_name(self):\n",
    "        return self._last_name\n",
    "\n",
    "    @property\n",
    "    def ssn(self):\n",
    "        return self._ssn\n",
    "\n",
    "    @property\n",
    "    def gross_sales(self):\n",
    "        return self._gross_sales\n",
    "\n",
    "    @gross_sales.setter\n",
    "    def gross_sales(self, sales):\n",
    "        \"\"\"Set gross sales or raise ValueError if invalid.\"\"\"\n",
    "        if sales < Decimal('0.00'):\n",
    "            raise ValueError('Gross sales must be >= to 0')\n",
    "        \n",
    "        self._gross_sales = sales\n",
    "        \n",
    "    @property\n",
    "    def commission_rate(self):\n",
    "        return self._commission_rate\n",
    "\n",
    "    @commission_rate.setter\n",
    "    def commission_rate(self, rate):\n",
    "        \"\"\"Set commission rate or raise ValueError if invalid.\"\"\"\n",
    "        if not (Decimal('0.0') < rate < Decimal('1.0')):\n",
    "            raise ValueError(\n",
    "               'Interest rate must be greater than 0 and less than 1')\n",
    "        \n",
    "        self._commission_rate = rate\n",
    "\n",
    "    def earnings(self):\n",
    "        \"\"\"Calculate earnings.\"\"\"   \n",
    "        return self.gross_sales * self.commission_rate\n",
    "\n",
    "    def __repr__(self):\n",
    "        \"\"\"Return string representation for repr().\"\"\"\n",
    "        return ('CommissionEmployee: ' + \n",
    "            f'{self.first_name} {self.last_name}\\n' +\n",
    "            f'social security number: {self.ssn}\\n' +\n",
    "            f'gross sales: {self.gross_sales:.2f}\\n' +\n",
    "            f'commission rate: {self.commission_rate:.2f}')"
   ]
  },
  {
   "cell_type": "markdown",
   "id": "b4ab2891",
   "metadata": {},
   "source": [
    "<font size = 4 color='black'>\n",
    "\n",
    "#### Todas las clases se heredan directa o indirectamente de la clase `objeto`\n",
    "    \n",
    "En Python, siempre se utiliza herencia para crear nuevas clases. Cuando no se especifica explícitamente la clase base al momento de crear una nueva clase, Python asume que la clase heredará sus características directamente de la clase *objeto*. Es decir, se pudo haber escrito:"
   ]
  },
  {
   "cell_type": "code",
   "execution_count": null,
   "id": "03fbc6a0",
   "metadata": {},
   "outputs": [],
   "source": [
    "# NO EJECUTAR\n",
    "\"\"\"CommissionEmployee base class.\"\"\"\n",
    "\n",
    "class CommissionEmployee(object):"
   ]
  },
  {
   "cell_type": "markdown",
   "id": "c223b2b5",
   "metadata": {},
   "source": [
    "<font size = 4 color='black'>\n",
    "    \n",
    "El paréntesis después de `CommissionEmployee` indica herencia desde la clase `object`. En este caso se tiene *herencia única* (se heredan propiedades desde una sola clase), pero existe la *herencia múltiple* (aunque no es muy común). La clase \n",
    "`CommissionEmployee` hereda todos los métodos de la clase `objeto`, auqnue ésta última no tiene atributos. Dos de los métodos que se heredan de la clase `object` son `__repr__` y `__str__` (para obtener una representación en forma de string de las clases). "
   ]
  },
  {
   "cell_type": "markdown",
   "id": "85ff396f",
   "metadata": {},
   "source": [
    "<font size = 4 color='black'>\n",
    "\n",
    "#### Re-definición de métodos\n",
    "Durante la herencia se pueden re-definir métodos que ya tenían las clases padres, atendiendo a las necesidades particulares en la clase heredada:"
   ]
  },
  {
   "cell_type": "code",
   "execution_count": null,
   "id": "8a9d4efe",
   "metadata": {},
   "outputs": [],
   "source": [
    "# NO EJECUTAR    \n",
    "    def __repr__(self):\n",
    "            \"\"\"Return string representation for repr().\"\"\"\n",
    "            return ('CommissionEmployee: ' + \n",
    "                f'{self.first_name} {self.last_name}\\n' +\n",
    "                f'social security number: {self.ssn}\\n' +\n",
    "                f'gross sales: {self.gross_sales:.2f}\\n' +\n",
    "                f'commission rate: {self.commission_rate:.2f}')"
   ]
  },
  {
   "cell_type": "markdown",
   "id": "70b8738b",
   "metadata": {},
   "source": [
    "<font size = 4 color='black'>\n",
    "\n",
    "#### La clase `CommissionEmployee` en acción"
   ]
  },
  {
   "cell_type": "code",
   "execution_count": null,
   "id": "64886b39",
   "metadata": {},
   "outputs": [],
   "source": [
    "CommissionEmployee?"
   ]
  },
  {
   "cell_type": "code",
   "execution_count": null,
   "id": "25f12b0d",
   "metadata": {},
   "outputs": [],
   "source": [
    "c = CommissionEmployee('Raúl', 'Zavala', '333-333-33', Decimal('10000.00'), Decimal('0.4'))"
   ]
  },
  {
   "cell_type": "code",
   "execution_count": null,
   "id": "566585a1",
   "metadata": {},
   "outputs": [],
   "source": [
    "# Recuerde que cuando se ejecuta esta celda se está llamando al método\n",
    "# __repr__\n",
    "c"
   ]
  },
  {
   "cell_type": "code",
   "execution_count": null,
   "id": "9238b364",
   "metadata": {},
   "outputs": [],
   "source": [
    "# Calculemos las ganancias del empleado\n",
    "print(c.earnings())"
   ]
  },
  {
   "cell_type": "code",
   "execution_count": null,
   "id": "c5e6dd4e",
   "metadata": {},
   "outputs": [],
   "source": [
    "# Cambiamos las variables 'gross sales' y 'commission rate'\n",
    "c.gross_sales = Decimal('20000.0')\n",
    "c.commission_rate = Decimal('0.1')"
   ]
  },
  {
   "cell_type": "code",
   "execution_count": null,
   "id": "2100842d",
   "metadata": {},
   "outputs": [],
   "source": [
    "print(c.earnings())"
   ]
  },
  {
   "cell_type": "markdown",
   "id": "0d5ba670",
   "metadata": {},
   "source": [
    "<font size = 4 color='black'>\n",
    "\n",
    "#### Subclase `SalariedCommissionEmployee`\n",
    "   \n",
    "La fortaleza real de la herencia viene de poder añadir código a las clases ya existentes, reemplazar sus características o redefinir otras. Ahora vamos a definir una nueva clase `SalariedCommissionEmployee` heredada de `CommissionEmployee` con básicamente las mismas características que la clase base. De hecho, una forma alternativa de crear una subclase puede ser copiar y pegar el código de la clase base y modificar lo que sea necesario, pero la herencia nos evita esto. Veamos cómo lo hace:"
   ]
  },
  {
   "cell_type": "code",
   "execution_count": null,
   "id": "216d6013",
   "metadata": {},
   "outputs": [],
   "source": [
    "\"\"\"SalariedCommissionEmployee derived from CommissionEmployee.\"\"\"\n",
    "\n",
    "class SalariedCommissionEmployee(CommissionEmployee):\n",
    "    \"\"\"An employee who gets paid a salary plus \n",
    "    commission based on gross sales.\"\"\"\n",
    "\n",
    "    def __init__(self, first_name, last_name, ssn, \n",
    "                 gross_sales, commission_rate, base_salary):\n",
    "        \"\"\"Initialize SalariedCommissionEmployee's attributes.\"\"\"\n",
    "        super().__init__(first_name, last_name, ssn, \n",
    "                         gross_sales, commission_rate)\n",
    "        self.base_salary = base_salary  # validate via property\n",
    "\n",
    "    @property\n",
    "    def base_salary(self):\n",
    "        return self._base_salary\n",
    "\n",
    "    @base_salary.setter\n",
    "    def base_salary(self, salary):\n",
    "        \"\"\"Set base salary or raise ValueError if invalid.\"\"\"\n",
    "        if salary < Decimal('0.00'):\n",
    "            raise ValueError('Base salary must be >= to 0')\n",
    "        \n",
    "        self._base_salary = salary\n",
    "\n",
    "    def earnings(self):\n",
    "        \"\"\"Calculate earnings.\"\"\"   \n",
    "        return super().earnings() + self.base_salary\n",
    "\n",
    "    def __repr__(self):\n",
    "        \"\"\"Return string representation for repr().\"\"\"\n",
    "        return ('Salaried' + super().__repr__() +      \n",
    "            f'\\nbase salary: {self.base_salary:.2f}')\n",
    "    "
   ]
  },
  {
   "cell_type": "markdown",
   "id": "2b2e811f",
   "metadata": {},
   "source": [
    "<font size = 4 color='black'>\n",
    "\n",
    "#### Diseccionando la sintaxis de la herencia en Python"
   ]
  },
  {
   "cell_type": "markdown",
   "id": "30004bbd",
   "metadata": {},
   "source": [
    "<font size = 4 color='black'>\n",
    "\n",
    "Un `SalariedCommissionEmployee` es un `CommissionEmployee`, pero con las siguientes características:\n",
    "\n",
    "- El método `__init__` inicializa toda la data heredada de la clase `CommissionEmployee`, y luego usa el setter\n",
    "  `base_salary` para crear un atributo llamado `_base_salary`.\n",
    "- La propiedad de lectura y escritura `base_salary`, valida la información con la que se inicializa una instancia de esta clase heredada.\n",
    "- Una versión personalizada del método `earnings`\n",
    "- Una versión personalizada del método `__repr__`"
   ]
  },
  {
   "cell_type": "markdown",
   "id": "c78d63d0",
   "metadata": {},
   "source": [
    "<font size = 4 color='black'>\n",
    "\n",
    "Aunque en la definición de `SalariedCommissionEmployee` no se observen explícitamente los atributos, propiedades y métodos de la clase base `CommissionEmployee` todas estas son parte de la nueva clase."
   ]
  },
  {
   "cell_type": "markdown",
   "id": "afde2902",
   "metadata": {},
   "source": [
    "<font size = 4 color='black'>\n",
    "\n",
    "#### Método `__init__` y la función super()\n",
    "    \n",
    "El método `__init__` de la subclase debe llamar explícitamente al método `__init__` de la clase base para inicializar los atributos heredados de la clase base. Este llamado a esa función debe ser la primer declaración en la función `__init__` de la subclase. La notación `super().__init__`  usa una función ya construida en el lenguaje para llamar el método `__init__` de la clase base (deben pasarse los valores de atributo adecuados). "
   ]
  },
  {
   "cell_type": "markdown",
   "id": "0e61e23a",
   "metadata": {},
   "source": [
    "<font size = 4 color='black'>\n",
    "    \n",
    "#### Overriding de los métodos `earnings` y `repr`\n",
    "\n",
    "En general, la función `super()` podemos pensarla como una forma de llamar código que está escrito en las clases base para poder utilizar en nuestras subclases."
   ]
  },
  {
   "cell_type": "markdown",
   "id": "a886bcf2",
   "metadata": {},
   "source": [
    "<font size = 4 color='black'>\n",
    "\n",
    "#### La clase `SalariedCommissionEmployee` en acción"
   ]
  },
  {
   "cell_type": "code",
   "execution_count": null,
   "id": "5e0ab3de",
   "metadata": {},
   "outputs": [],
   "source": [
    "SalariedCommissionEmployee?"
   ]
  },
  {
   "cell_type": "code",
   "execution_count": null,
   "id": "84c4e6d4",
   "metadata": {},
   "outputs": [],
   "source": [
    "s = SalariedCommissionEmployee('Bob', 'Esponja', '444-444-44',\n",
    "                               Decimal('5000.00'), Decimal('0.04'), Decimal('300.00'))"
   ]
  },
  {
   "cell_type": "code",
   "execution_count": null,
   "id": "d5e23aa3",
   "metadata": {},
   "outputs": [],
   "source": [
    "print(s.first_name, s.last_name, s.ssn, s.gross_sales, s.commission_rate, s.base_salary)"
   ]
  },
  {
   "cell_type": "markdown",
   "id": "c2c1d5ea",
   "metadata": {},
   "source": [
    "<font size = 4 color='black'>\n",
    "    \n",
    "Calculemos las ganancias de esta instancia de `SalariedCommissionEmployee`."
   ]
  },
  {
   "cell_type": "code",
   "execution_count": null,
   "id": "441e37c7",
   "metadata": {},
   "outputs": [],
   "source": [
    "print(s.earnings())"
   ]
  },
  {
   "cell_type": "markdown",
   "id": "5fced6d8",
   "metadata": {},
   "source": [
    "<font size = 4 color='black'>\n",
    "    \n",
    "Ahora modifiquemos los atributos `gross_sales`, `commission_rate` y `base_salary` para después utilizar el método `__repr__` e imprimir los nuevos valores de los atributos."
   ]
  },
  {
   "cell_type": "code",
   "execution_count": null,
   "id": "2b3ed687",
   "metadata": {},
   "outputs": [],
   "source": [
    "s.gross_sales = Decimal('10000.00')\n",
    "s.commission_rate = Decimal('0.05')\n",
    "s.base_salary = Decimal('1000.00')"
   ]
  },
  {
   "cell_type": "code",
   "execution_count": null,
   "id": "9ab58221",
   "metadata": {},
   "outputs": [],
   "source": [
    "print(s)"
   ]
  },
  {
   "cell_type": "markdown",
   "id": "5968c379",
   "metadata": {},
   "source": [
    "<font size = 4 color='black'>\n",
    "    \n",
    "Ganancias modificadas"
   ]
  },
  {
   "cell_type": "code",
   "execution_count": null,
   "id": "74bfed2a",
   "metadata": {},
   "outputs": [],
   "source": [
    "print(s.earnings())"
   ]
  },
  {
   "cell_type": "markdown",
   "id": "f6eb4060",
   "metadata": {},
   "source": [
    "<font size = 4 color='black'>\n",
    "    \n",
    "#### Verificando la relación *es un(a)*\n",
    "    \n",
    "Python provee dos funciones llamadas `issubclass` e `isinstance` para verificar la relación entre las clases base y las subclases así como los objetos creados y las clases."
   ]
  },
  {
   "cell_type": "code",
   "execution_count": null,
   "id": "c7263e18",
   "metadata": {},
   "outputs": [],
   "source": [
    "issubclass(SalariedCommissionEmployee, CommissionEmployee)"
   ]
  },
  {
   "cell_type": "code",
   "execution_count": null,
   "id": "7dc6f8db",
   "metadata": {},
   "outputs": [],
   "source": [
    "isinstance(s, SalariedCommissionEmployee)"
   ]
  },
  {
   "cell_type": "code",
   "execution_count": null,
   "id": "a7a9fa00",
   "metadata": {},
   "outputs": [],
   "source": [
    "isinstance(c, CommissionEmployee)"
   ]
  },
  {
   "cell_type": "code",
   "execution_count": null,
   "id": "e488030c",
   "metadata": {},
   "outputs": [],
   "source": [
    "isinstance(s, CommissionEmployee)"
   ]
  },
  {
   "cell_type": "markdown",
   "id": "681208ac",
   "metadata": {},
   "source": [
    "<font size = 4 color='black'>\n",
    "    \n",
    "El hecho de que los objetos creados a partir de subclases sean también objetos de la clase base permite tratar a todos los objetos que sean una instancia de la clase base de forma general. "
   ]
  },
  {
   "cell_type": "code",
   "execution_count": null,
   "id": "be529f35",
   "metadata": {},
   "outputs": [],
   "source": [
    "employees = [c, s]\n",
    "\n",
    "for employee in employees:\n",
    "    print(employee)"
   ]
  },
  {
   "cell_type": "markdown",
   "id": "57ed2ec9",
   "metadata": {},
   "source": [
    "<font size = 4 color='black'>\n",
    "    \n",
    "En este caso, podemos utilizar la misma función `__repr__`, la cual en realidad está definida de forma distinta para cada uno de los objetos. A esto se le conoce como polimorfismo (nombrar de igual forma métodos o atributos de clases, pero que se adapten a las necesidades de cada subclase)."
   ]
  },
  {
   "cell_type": "markdown",
   "id": "51f7d7d3",
   "metadata": {},
   "source": []
  }
 ],
 "metadata": {
  "kernelspec": {
   "display_name": "Python 3 (ipykernel)",
   "language": "python",
   "name": "python3"
  },
  "language_info": {
   "codemirror_mode": {
    "name": "ipython",
    "version": 3
   },
   "file_extension": ".py",
   "mimetype": "text/x-python",
   "name": "python",
   "nbconvert_exporter": "python",
   "pygments_lexer": "ipython3",
   "version": "3.8.11"
  }
 },
 "nbformat": 4,
 "nbformat_minor": 5
}
