{
 "cells": [
  {
   "cell_type": "markdown",
   "metadata": {
    "application/vnd.databricks.v1+cell": {
     "cellMetadata": {},
     "inputWidgets": {},
     "nuid": "a721d199-153b-4ea0-a226-36f87ad27035",
     "showTitle": false,
     "title": ""
    }
   },
   "source": [
    "verify that rows got limited to 255 characters"
   ]
  },
  {
   "cell_type": "code",
   "execution_count": 0,
   "metadata": {
    "application/vnd.databricks.v1+cell": {
     "cellMetadata": {
      "byteLimit": 2048000,
      "rowLimit": 10000
     },
     "inputWidgets": {},
     "nuid": "321a1453-28cf-4d35-926c-2012c24acdcf",
     "showTitle": false,
     "title": ""
    }
   },
   "outputs": [
    {
     "output_type": "stream",
     "name": "stdout",
     "output_type": "stream",
     "text": [
      "+--------------------+-----------+\n|                text|text_length|\n+--------------------+-----------+\n|I think this'd do...|        151|\n|@wizzwizz4 True. ...|        255|\n|I'd then close it...|        125|\n|See also: [Some o...|        244|\n|I think this is i...|        255|\n|The answer here o...|        255|\n|The tag [tag:imag...|        134|\n|Is there somethin...|         58|\n|This question wou...|        156|\n|I wonder how fair...|        254|\n|@wizzwizz4 looks ...|        168|\n|The [tag:chatgpt]...|        255|\n|Related question ...|        172|\n|Heard of PEFT and...|         23|\n|@Nav no. If that'...|         84|\n|Strictly ChatGPT ...|        103|\n|@SirBenet strictl...|        170|\n|@starball \"other ...|        255|\n|by \"other models\"...|        255|\n|off-topic as abou...|         34|\n+--------------------+-----------+\nonly showing top 20 rows\n\n"
     ]
    }
   ],
   "source": [
    "# from pyspark.sql.functions import col, substring\n",
    "\n",
    "# df = spark.read.option(\"rowTag\", 'row').format(\"xml\").load('/mnt/stackoverflow/silver/genai/comments/') \n",
    "\n",
    "# df_truncated = df.withColumn(\"_Text\", substring(col(\"_Text\"), 1, 255))\n",
    "\n",
    "# df_truncated.write.format(\"delta\").mode(\"append\").save(\"/mnt/test/truncated\")\n",
    "\n",
    "\n",
    "from pyspark.sql.functions import length\n",
    "\n",
    "df_delta = spark.read.format(\"delta\").load(\"/mnt/stackoverflow/silver/genai/comments/\")\n",
    "df_delta.select(\"text\", length(\"text\").alias(\"text_length\")).show()"
   ]
  },
  {
   "cell_type": "markdown",
   "metadata": {
    "application/vnd.databricks.v1+cell": {
     "cellMetadata": {},
     "inputWidgets": {},
     "nuid": "eb308978-e1de-4a21-8d3b-f61b86748c32",
     "showTitle": false,
     "title": ""
    }
   },
   "source": [
    "try versioning genai/comments"
   ]
  },
  {
   "cell_type": "code",
   "execution_count": 0,
   "metadata": {
    "application/vnd.databricks.v1+cell": {
     "cellMetadata": {
      "byteLimit": 2048000,
      "rowLimit": 10000
     },
     "inputWidgets": {},
     "nuid": "6283f786-6e59-42f7-a9f8-a6f3baddc1aa",
     "showTitle": false,
     "title": ""
    }
   },
   "outputs": [
    {
     "output_type": "stream",
     "name": "stdout",
     "output_type": "stream",
     "text": [
      "+--------------------+-----------+\n|                text|text_length|\n+--------------------+-----------+\n|I think this'd do...|        151|\n|@wizzwizz4 True. ...|        344|\n|I'd then close it...|        125|\n|See also: [Some o...|        244|\n|I think this is i...|        275|\n|The answer here o...|        303|\n|The tag [tag:imag...|        134|\n|Is there somethin...|         58|\n|This question wou...|        156|\n|I wonder how fair...|        449|\n|@wizzwizz4 looks ...|        168|\n|The [tag:chatgpt]...|        427|\n|Related question ...|        172|\n|Heard of PEFT and...|         23|\n|@Nav no. If that'...|         84|\n|Strictly ChatGPT ...|        103|\n|@SirBenet strictl...|        170|\n|@starball \"other ...|        359|\n|by \"other models\"...|        361|\n|off-topic as abou...|         34|\n+--------------------+-----------+\nonly showing top 20 rows\n\n"
     ]
    }
   ],
   "source": [
    "# Example to display an earlier version of the Delta table using timestamp\n",
    "earlier_df = spark.read.format(\"delta\").option(\"timestampAsOf\", \"2024-09-10T00:00:00Z\").load(\"/mnt/stackoverflow/silver/genai/comments/\")\n",
    "earlier_df.select(\"text\", length(\"text\").alias(\"text_length\")).show()"
   ]
  },
  {
   "cell_type": "markdown",
   "metadata": {
    "application/vnd.databricks.v1+cell": {
     "cellMetadata": {},
     "inputWidgets": {},
     "nuid": "15442be7-e97b-4933-8fda-46e72a126e69",
     "showTitle": false,
     "title": ""
    }
   },
   "source": [
    "print reports"
   ]
  },
  {
   "cell_type": "code",
   "execution_count": 0,
   "metadata": {
    "application/vnd.databricks.v1+cell": {
     "cellMetadata": {
      "byteLimit": 2048000,
      "rowLimit": 10000
     },
     "inputWidgets": {},
     "nuid": "0b456efe-0666-449c-af8a-10b4eeecdadc",
     "showTitle": false,
     "title": ""
    }
   },
   "outputs": [
    {
     "output_type": "stream",
     "name": "stdout",
     "output_type": "stream",
     "text": [
      "BADGES:\n"
     ]
    },
    {
     "output_type": "display_data",
     "data": {
      "text/html": [
       "<style scoped>\n",
       "  .table-result-container {\n",
       "    max-height: 300px;\n",
       "    overflow: auto;\n",
       "  }\n",
       "  table, th, td {\n",
       "    border: 1px solid black;\n",
       "    border-collapse: collapse;\n",
       "  }\n",
       "  th, td {\n",
       "    padding: 5px;\n",
       "  }\n",
       "  th {\n",
       "    text-align: left;\n",
       "  }\n",
       "</style><div class='table-result-container'><table class='table-result'><thead style='background-color: white'><tr><th>class</th><th>date</th><th>id</th><th>name</th><th>tag_based</th><th>user_id</th><th>category</th></tr></thead><tbody><tr><td>3</td><td>2014-12-09T18:20:52.397Z</td><td>27</td><td>Teacher</td><td>false</td><td>17</td><td>lifehacks</td></tr><tr><td>3</td><td>2014-12-09T18:30:53.24Z</td><td>34</td><td>Teacher</td><td>false</td><td>8</td><td>lifehacks</td></tr><tr><td>3</td><td>2014-12-09T18:55:31.357Z</td><td>46</td><td>Teacher</td><td>false</td><td>18</td><td>lifehacks</td></tr><tr><td>3</td><td>2014-12-09T19:10:31.727Z</td><td>52</td><td>Teacher</td><td>false</td><td>9</td><td>lifehacks</td></tr><tr><td>3</td><td>2014-12-09T19:15:31.67Z</td><td>57</td><td>Teacher</td><td>false</td><td>21</td><td>lifehacks</td></tr><tr><td>3</td><td>2014-12-09T19:30:36.377Z</td><td>68</td><td>Teacher</td><td>false</td><td>14</td><td>lifehacks</td></tr><tr><td>3</td><td>2014-12-09T19:40:36.393Z</td><td>81</td><td>Teacher</td><td>false</td><td>20</td><td>lifehacks</td></tr><tr><td>3</td><td>2014-12-09T19:56:05.18Z</td><td>88</td><td>Teacher</td><td>false</td><td>38</td><td>lifehacks</td></tr><tr><td>3</td><td>2014-12-09T20:16:05.437Z</td><td>106</td><td>Teacher</td><td>false</td><td>15</td><td>lifehacks</td></tr><tr><td>3</td><td>2014-12-09T20:36:36.707Z</td><td>122</td><td>Teacher</td><td>false</td><td>40</td><td>lifehacks</td></tr></tbody></table></div>"
      ]
     },
     "metadata": {
      "application/vnd.databricks.v1+output": {
       "addedWidgets": {},
       "aggData": [],
       "aggError": "",
       "aggOverflow": false,
       "aggSchema": [],
       "aggSeriesLimitReached": false,
       "aggType": "",
       "arguments": {},
       "columnCustomDisplayInfos": {},
       "data": [
        [
         3,
         "2014-12-09T18:20:52.397Z",
         27,
         "Teacher",
         false,
         17,
         "lifehacks"
        ],
        [
         3,
         "2014-12-09T18:30:53.24Z",
         34,
         "Teacher",
         false,
         8,
         "lifehacks"
        ],
        [
         3,
         "2014-12-09T18:55:31.357Z",
         46,
         "Teacher",
         false,
         18,
         "lifehacks"
        ],
        [
         3,
         "2014-12-09T19:10:31.727Z",
         52,
         "Teacher",
         false,
         9,
         "lifehacks"
        ],
        [
         3,
         "2014-12-09T19:15:31.67Z",
         57,
         "Teacher",
         false,
         21,
         "lifehacks"
        ],
        [
         3,
         "2014-12-09T19:30:36.377Z",
         68,
         "Teacher",
         false,
         14,
         "lifehacks"
        ],
        [
         3,
         "2014-12-09T19:40:36.393Z",
         81,
         "Teacher",
         false,
         20,
         "lifehacks"
        ],
        [
         3,
         "2014-12-09T19:56:05.18Z",
         88,
         "Teacher",
         false,
         38,
         "lifehacks"
        ],
        [
         3,
         "2014-12-09T20:16:05.437Z",
         106,
         "Teacher",
         false,
         15,
         "lifehacks"
        ],
        [
         3,
         "2014-12-09T20:36:36.707Z",
         122,
         "Teacher",
         false,
         40,
         "lifehacks"
        ]
       ],
       "datasetInfos": [],
       "dbfsResultPath": null,
       "isJsonSchema": true,
       "metadata": {},
       "overflow": false,
       "plotOptions": {
        "customPlotOptions": {},
        "displayType": "table",
        "pivotAggregation": null,
        "pivotColumns": null,
        "xColumns": null,
        "yColumns": null
       },
       "removedWidgets": [],
       "schema": [
        {
         "metadata": "{}",
         "name": "class",
         "type": "\"long\""
        },
        {
         "metadata": "{}",
         "name": "date",
         "type": "\"timestamp\""
        },
        {
         "metadata": "{}",
         "name": "id",
         "type": "\"long\""
        },
        {
         "metadata": "{}",
         "name": "name",
         "type": "\"string\""
        },
        {
         "metadata": "{}",
         "name": "tag_based",
         "type": "\"boolean\""
        },
        {
         "metadata": "{}",
         "name": "user_id",
         "type": "\"long\""
        },
        {
         "metadata": "{}",
         "name": "category",
         "type": "\"string\""
        }
       ],
       "type": "table"
      }
     },
     "output_type": "display_data"
    },
    {
     "output_type": "stream",
     "name": "stdout",
     "output_type": "stream",
     "text": [
      "\n\n\n\nCOMMENTS:\n"
     ]
    },
    {
     "output_type": "display_data",
     "data": {
      "text/html": [
       "<style scoped>\n",
       "  .table-result-container {\n",
       "    max-height: 300px;\n",
       "    overflow: auto;\n",
       "  }\n",
       "  table, th, td {\n",
       "    border: 1px solid black;\n",
       "    border-collapse: collapse;\n",
       "  }\n",
       "  th, td {\n",
       "    padding: 5px;\n",
       "  }\n",
       "  th {\n",
       "    text-align: left;\n",
       "  }\n",
       "</style><div class='table-result-container'><table class='table-result'><thead style='background-color: white'><tr><th>creation_date</th><th>id</th><th>post_id</th><th>score</th><th>text</th><th>user_display_name</th><th>user_id</th><th>category</th></tr></thead><tbody><tr><td>2016-12-06T17:41:42.283Z</td><td>1</td><td>1</td><td>4</td><td>This seems like more of an electrical engineering/DIY question than a question specific to the IoT.</td><td>null</td><td>7</td><td>iot</td></tr><tr><td>2016-12-06T17:44:46.72Z</td><td>4</td><td>1</td><td>3</td><td>@ArtOfCode if you're antenna doesn't work, you don't have an IOT device. I've seen this come up in the industry all the time. Yeah, there's overlap with EE, but if we want to talk about creating devices at all, there will be overlap.</td><td>null</td><td>4</td><td>iot</td></tr><tr><td>2016-12-06T17:57:08.59Z</td><td>7</td><td>1</td><td>2</td><td>Dom, this site isn't as much about the deeper engineering challenges that go into designing and building these devices. This site is more oriented towards end-users with questions about IoT, solutions, security concerns, and making their devices work. The</td><td>null</td><td>2</td><td>iot</td></tr><tr><td>2016-12-06T17:59:36.813Z</td><td>8</td><td>9</td><td>6</td><td>Related : http://security.stackexchange.com/questions/140760/does-the-local-network-need-to-be-hacked-first-for-iot-devices-to-be-accesible</td><td>null</td><td>39</td><td>iot</td></tr><tr><td>2016-12-06T18:00:21.633Z</td><td>10</td><td>12</td><td>0</td><td>What about in instances where I'm installing in-wall outlets or switches? It doesn't make much sense to \"install\" a switch in the room with the hub, sync it, uninstall it, and re-install in the place I originally wanted.</td><td>null</td><td>16</td><td>iot</td></tr><tr><td>2016-12-06T18:10:15.417Z</td><td>13</td><td>14</td><td>0</td><td>Do you have the ability to encrypt the image stream?</td><td>null</td><td>16</td><td>iot</td></tr><tr><td>2016-12-06T18:11:02.28Z</td><td>14</td><td>1</td><td>1</td><td>@RobertCartaino the definition phase had several questions the were development focused like \"Which protocols we can use for device to device(D2D) communication in IOT, apart from MQTT?\" and \"I'm building a system that includes a mobile app and a bluetoot</td><td>null</td><td>4</td><td>iot</td></tr><tr><td>2016-12-06T18:11:11.157Z</td><td>15</td><td>14</td><td>0</td><td>@tbm0115 I have physical access to the device. The technical know-how, not so much. I'm still learning.</td><td>null</td><td>48</td><td>iot</td></tr><tr><td>2016-12-06T18:13:20.063Z</td><td>16</td><td>19</td><td>0</td><td>Use HTTPS? Are you coding both devices? Encryption?</td><td>null</td><td>80</td><td>iot</td></tr><tr><td>2016-12-06T18:13:31.203Z</td><td>17</td><td>19</td><td>1</td><td>Consiedr also asking at http://security.stackexchange.com/</td><td>null</td><td>80</td><td>iot</td></tr></tbody></table></div>"
      ]
     },
     "metadata": {
      "application/vnd.databricks.v1+output": {
       "addedWidgets": {},
       "aggData": [],
       "aggError": "",
       "aggOverflow": false,
       "aggSchema": [],
       "aggSeriesLimitReached": false,
       "aggType": "",
       "arguments": {},
       "columnCustomDisplayInfos": {},
       "data": [
        [
         "2016-12-06T17:41:42.283Z",
         1,
         1,
         4,
         "This seems like more of an electrical engineering/DIY question than a question specific to the IoT.",
         null,
         7,
         "iot"
        ],
        [
         "2016-12-06T17:44:46.72Z",
         4,
         1,
         3,
         "@ArtOfCode if you're antenna doesn't work, you don't have an IOT device. I've seen this come up in the industry all the time. Yeah, there's overlap with EE, but if we want to talk about creating devices at all, there will be overlap.",
         null,
         4,
         "iot"
        ],
        [
         "2016-12-06T17:57:08.59Z",
         7,
         1,
         2,
         "Dom, this site isn't as much about the deeper engineering challenges that go into designing and building these devices. This site is more oriented towards end-users with questions about IoT, solutions, security concerns, and making their devices work. The",
         null,
         2,
         "iot"
        ],
        [
         "2016-12-06T17:59:36.813Z",
         8,
         9,
         6,
         "Related : http://security.stackexchange.com/questions/140760/does-the-local-network-need-to-be-hacked-first-for-iot-devices-to-be-accesible",
         null,
         39,
         "iot"
        ],
        [
         "2016-12-06T18:00:21.633Z",
         10,
         12,
         0,
         "What about in instances where I'm installing in-wall outlets or switches? It doesn't make much sense to \"install\" a switch in the room with the hub, sync it, uninstall it, and re-install in the place I originally wanted.",
         null,
         16,
         "iot"
        ],
        [
         "2016-12-06T18:10:15.417Z",
         13,
         14,
         0,
         "Do you have the ability to encrypt the image stream?",
         null,
         16,
         "iot"
        ],
        [
         "2016-12-06T18:11:02.28Z",
         14,
         1,
         1,
         "@RobertCartaino the definition phase had several questions the were development focused like \"Which protocols we can use for device to device(D2D) communication in IOT, apart from MQTT?\" and \"I'm building a system that includes a mobile app and a bluetoot",
         null,
         4,
         "iot"
        ],
        [
         "2016-12-06T18:11:11.157Z",
         15,
         14,
         0,
         "@tbm0115 I have physical access to the device. The technical know-how, not so much. I'm still learning.",
         null,
         48,
         "iot"
        ],
        [
         "2016-12-06T18:13:20.063Z",
         16,
         19,
         0,
         "Use HTTPS? Are you coding both devices? Encryption?",
         null,
         80,
         "iot"
        ],
        [
         "2016-12-06T18:13:31.203Z",
         17,
         19,
         1,
         "Consiedr also asking at http://security.stackexchange.com/",
         null,
         80,
         "iot"
        ]
       ],
       "datasetInfos": [],
       "dbfsResultPath": null,
       "isJsonSchema": true,
       "metadata": {},
       "overflow": false,
       "plotOptions": {
        "customPlotOptions": {},
        "displayType": "table",
        "pivotAggregation": null,
        "pivotColumns": null,
        "xColumns": null,
        "yColumns": null
       },
       "removedWidgets": [],
       "schema": [
        {
         "metadata": "{}",
         "name": "creation_date",
         "type": "\"timestamp\""
        },
        {
         "metadata": "{}",
         "name": "id",
         "type": "\"long\""
        },
        {
         "metadata": "{}",
         "name": "post_id",
         "type": "\"long\""
        },
        {
         "metadata": "{}",
         "name": "score",
         "type": "\"long\""
        },
        {
         "metadata": "{}",
         "name": "text",
         "type": "\"string\""
        },
        {
         "metadata": "{}",
         "name": "user_display_name",
         "type": "\"string\""
        },
        {
         "metadata": "{}",
         "name": "user_id",
         "type": "\"long\""
        },
        {
         "metadata": "{}",
         "name": "category",
         "type": "\"string\""
        }
       ],
       "type": "table"
      }
     },
     "output_type": "display_data"
    },
    {
     "output_type": "stream",
     "name": "stdout",
     "output_type": "stream",
     "text": [
      "\n\n\n\nPOSTHISTORY:\n"
     ]
    },
    {
     "output_type": "display_data",
     "data": {
      "text/html": [
       "<style scoped>\n",
       "  .table-result-container {\n",
       "    max-height: 300px;\n",
       "    overflow: auto;\n",
       "  }\n",
       "  table, th, td {\n",
       "    border: 1px solid black;\n",
       "    border-collapse: collapse;\n",
       "  }\n",
       "  th, td {\n",
       "    padding: 5px;\n",
       "  }\n",
       "  th {\n",
       "    text-align: left;\n",
       "  }\n",
       "</style><div class='table-result-container'><table class='table-result'><thead style='background-color: white'><tr><th>comment</th><th>content_license</th><th>creation_date</th><th>id</th><th>post_history_type_id</th><th>post_id</th><th>revision_guid</th><th>text</th><th>user_display_name</th><th>user_id</th><th>category</th></tr></thead><tbody><tr><td>null</td><td>CC BY-SA 3.0</td><td>2014-12-09T17:31:15.447Z</td><td>1</td><td>2</td><td>1</td><td>2f8a2482-9a36-4167-ac25-099c7eecd718</td><td>I have a pair of headphones that I use regularly, including while I'm working out. They're the kind of headphones that sit inside the ear, so inevitably they'll get kind of gross after a couple uses. It's one thing to wipe the occasional earwax out, bu</td><td>null</td><td>8</td><td>lifehacks</td></tr><tr><td>null</td><td>CC BY-SA 3.0</td><td>2014-12-09T17:31:15.447Z</td><td>2</td><td>1</td><td>1</td><td>2f8a2482-9a36-4167-ac25-099c7eecd718</td><td>What's the best way to clean headphones that go inside your ear?</td><td>null</td><td>8</td><td>lifehacks</td></tr><tr><td>null</td><td>CC BY-SA 3.0</td><td>2014-12-09T17:31:15.447Z</td><td>3</td><td>3</td><td>1</td><td>2f8a2482-9a36-4167-ac25-099c7eecd718</td><td>|cleaning|</td><td>null</td><td>8</td><td>lifehacks</td></tr><tr><td>null</td><td>CC BY-SA 3.0</td><td>2014-12-09T17:37:24.437Z</td><td>4</td><td>2</td><td>2</td><td>573742ba-d17c-42f1-ab8b-f73e25bf7771</td><td>I have used a clippers to cut my own hair. This is great for a \"buzz\" look for uniformly short hair. I can then trim around my ears But if I want it to be longer it's difficult. I've never found a way to properly blend my hair either to leave the top</td><td>null</td><td>9</td><td>lifehacks</td></tr><tr><td>null</td><td>CC BY-SA 3.0</td><td>2014-12-09T17:37:24.437Z</td><td>5</td><td>1</td><td>2</td><td>573742ba-d17c-42f1-ab8b-f73e25bf7771</td><td>How can I cut my own hair to different lengths?</td><td>null</td><td>9</td><td>lifehacks</td></tr><tr><td>null</td><td>CC BY-SA 3.0</td><td>2014-12-09T17:37:24.437Z</td><td>6</td><td>3</td><td>2</td><td>573742ba-d17c-42f1-ab8b-f73e25bf7771</td><td>|grooming|</td><td>null</td><td>9</td><td>lifehacks</td></tr><tr><td>added 125 characters in body</td><td>CC BY-SA 3.0</td><td>2014-12-09T17:42:46.56Z</td><td>7</td><td>5</td><td>1</td><td>808a4219-d342-4593-8d93-41e5257b68d2</td><td>I have a pair of headphones that I use regularly, including while I'm working out. They're the kind of headphones that sit inside the ear (earbuds), so inevitably they'll get kind of gross after a couple uses. They have the removable rubber tips on them,</td><td>null</td><td>8</td><td>lifehacks</td></tr><tr><td>null</td><td>CC BY-SA 3.0</td><td>2014-12-09T17:53:36.047Z</td><td>11</td><td>2</td><td>4</td><td>488f6c1f-408a-4f37-9cf7-d1f4baf94292</td><td>One very rare occasions, I've found myself camping in the middle of the wilderness when I realized that I had forgotten to pack a fingernail clipper. I really hate having long fingernails. Especially when camping, they're harder to keep clean. Is th</td><td>null</td><td>8</td><td>lifehacks</td></tr><tr><td>null</td><td>CC BY-SA 3.0</td><td>2014-12-09T17:53:36.047Z</td><td>12</td><td>1</td><td>4</td><td>488f6c1f-408a-4f37-9cf7-d1f4baf94292</td><td>How can I safely trim my fingernails without a fingernail clipper?</td><td>null</td><td>8</td><td>lifehacks</td></tr><tr><td>null</td><td>CC BY-SA 3.0</td><td>2014-12-09T17:53:36.047Z</td><td>13</td><td>3</td><td>4</td><td>488f6c1f-408a-4f37-9cf7-d1f4baf94292</td><td>|grooming|</td><td>null</td><td>8</td><td>lifehacks</td></tr></tbody></table></div>"
      ]
     },
     "metadata": {
      "application/vnd.databricks.v1+output": {
       "addedWidgets": {},
       "aggData": [],
       "aggError": "",
       "aggOverflow": false,
       "aggSchema": [],
       "aggSeriesLimitReached": false,
       "aggType": "",
       "arguments": {},
       "columnCustomDisplayInfos": {},
       "data": [
        [
         null,
         "CC BY-SA 3.0",
         "2014-12-09T17:31:15.447Z",
         1,
         2,
         1,
         "2f8a2482-9a36-4167-ac25-099c7eecd718",
         "I have a pair of headphones that I use regularly, including while I'm working out. They're the kind of headphones that sit inside the ear, so inevitably they'll get kind of gross after a couple uses. It's one thing to wipe the occasional earwax out, bu",
         null,
         8,
         "lifehacks"
        ],
        [
         null,
         "CC BY-SA 3.0",
         "2014-12-09T17:31:15.447Z",
         2,
         1,
         1,
         "2f8a2482-9a36-4167-ac25-099c7eecd718",
         "What's the best way to clean headphones that go inside your ear?",
         null,
         8,
         "lifehacks"
        ],
        [
         null,
         "CC BY-SA 3.0",
         "2014-12-09T17:31:15.447Z",
         3,
         3,
         1,
         "2f8a2482-9a36-4167-ac25-099c7eecd718",
         "|cleaning|",
         null,
         8,
         "lifehacks"
        ],
        [
         null,
         "CC BY-SA 3.0",
         "2014-12-09T17:37:24.437Z",
         4,
         2,
         2,
         "573742ba-d17c-42f1-ab8b-f73e25bf7771",
         "I have used a clippers to cut my own hair. This is great for a \"buzz\" look for uniformly short hair. I can then trim around my ears But if I want it to be longer it's difficult. I've never found a way to properly blend my hair either to leave the top",
         null,
         9,
         "lifehacks"
        ],
        [
         null,
         "CC BY-SA 3.0",
         "2014-12-09T17:37:24.437Z",
         5,
         1,
         2,
         "573742ba-d17c-42f1-ab8b-f73e25bf7771",
         "How can I cut my own hair to different lengths?",
         null,
         9,
         "lifehacks"
        ],
        [
         null,
         "CC BY-SA 3.0",
         "2014-12-09T17:37:24.437Z",
         6,
         3,
         2,
         "573742ba-d17c-42f1-ab8b-f73e25bf7771",
         "|grooming|",
         null,
         9,
         "lifehacks"
        ],
        [
         "added 125 characters in body",
         "CC BY-SA 3.0",
         "2014-12-09T17:42:46.56Z",
         7,
         5,
         1,
         "808a4219-d342-4593-8d93-41e5257b68d2",
         "I have a pair of headphones that I use regularly, including while I'm working out. They're the kind of headphones that sit inside the ear (earbuds), so inevitably they'll get kind of gross after a couple uses. They have the removable rubber tips on them,",
         null,
         8,
         "lifehacks"
        ],
        [
         null,
         "CC BY-SA 3.0",
         "2014-12-09T17:53:36.047Z",
         11,
         2,
         4,
         "488f6c1f-408a-4f37-9cf7-d1f4baf94292",
         "One very rare occasions, I've found myself camping in the middle of the wilderness when I realized that I had forgotten to pack a fingernail clipper. I really hate having long fingernails. Especially when camping, they're harder to keep clean. Is th",
         null,
         8,
         "lifehacks"
        ],
        [
         null,
         "CC BY-SA 3.0",
         "2014-12-09T17:53:36.047Z",
         12,
         1,
         4,
         "488f6c1f-408a-4f37-9cf7-d1f4baf94292",
         "How can I safely trim my fingernails without a fingernail clipper?",
         null,
         8,
         "lifehacks"
        ],
        [
         null,
         "CC BY-SA 3.0",
         "2014-12-09T17:53:36.047Z",
         13,
         3,
         4,
         "488f6c1f-408a-4f37-9cf7-d1f4baf94292",
         "|grooming|",
         null,
         8,
         "lifehacks"
        ]
       ],
       "datasetInfos": [],
       "dbfsResultPath": null,
       "isJsonSchema": true,
       "metadata": {},
       "overflow": false,
       "plotOptions": {
        "customPlotOptions": {},
        "displayType": "table",
        "pivotAggregation": null,
        "pivotColumns": null,
        "xColumns": null,
        "yColumns": null
       },
       "removedWidgets": [],
       "schema": [
        {
         "metadata": "{}",
         "name": "comment",
         "type": "\"string\""
        },
        {
         "metadata": "{}",
         "name": "content_license",
         "type": "\"string\""
        },
        {
         "metadata": "{}",
         "name": "creation_date",
         "type": "\"timestamp\""
        },
        {
         "metadata": "{}",
         "name": "id",
         "type": "\"long\""
        },
        {
         "metadata": "{}",
         "name": "post_history_type_id",
         "type": "\"long\""
        },
        {
         "metadata": "{}",
         "name": "post_id",
         "type": "\"long\""
        },
        {
         "metadata": "{}",
         "name": "revision_guid",
         "type": "\"string\""
        },
        {
         "metadata": "{}",
         "name": "text",
         "type": "\"string\""
        },
        {
         "metadata": "{}",
         "name": "user_display_name",
         "type": "\"string\""
        },
        {
         "metadata": "{}",
         "name": "user_id",
         "type": "\"long\""
        },
        {
         "metadata": "{}",
         "name": "category",
         "type": "\"string\""
        }
       ],
       "type": "table"
      }
     },
     "output_type": "display_data"
    },
    {
     "output_type": "stream",
     "name": "stdout",
     "output_type": "stream",
     "text": [
      "\n\n\n\nPOSTS:\n"
     ]
    },
    {
     "output_type": "display_data",
     "data": {
      "text/html": [
       "<style scoped>\n",
       "  .table-result-container {\n",
       "    max-height: 300px;\n",
       "    overflow: auto;\n",
       "  }\n",
       "  table, th, td {\n",
       "    border: 1px solid black;\n",
       "    border-collapse: collapse;\n",
       "  }\n",
       "  th, td {\n",
       "    padding: 5px;\n",
       "  }\n",
       "  th {\n",
       "    text-align: left;\n",
       "  }\n",
       "</style><div class='table-result-container'><table class='table-result'><thead style='background-color: white'><tr><th>accepted_answer_id</th><th>answer_count</th><th>body</th><th>closed_date</th><th>comment_count</th><th>community_owned_date</th><th>content_license</th><th>creation_date</th><th>id</th><th>last_activity_date</th><th>last_edit_date</th><th>last_editor_display_name</th><th>last_editor_user_id</th><th>owner_display_name</th><th>owner_user_id</th><th>parent_id</th><th>post_type_id</th><th>score</th><th>tags</th><th>title</th><th>view_count</th><th>category</th></tr></thead><tbody><tr><td>2</td><td>1</td><td><p>I've seen a number of prompts that put parentheses or square brackets around certain words/phrases. This seems to be used across multiple frontends (Automatic1111, ComfyUI, NovelAI, ...) and regardless of model. What does this syntax do?</p></td><td>null</td><td>7</td><td>null</td><td>CC BY-SA 4.0</td><td>2023-07-17T19:24:01.893Z</td><td>1</td><td>2023-07-24T20:58:39.01Z</td><td>2023-07-24T20:58:39.01Z</td><td>null</td><td>12</td><td>null</td><td>8</td><td>null</td><td>1</td><td>10</td><td>|image-generation|prompt-design|</td><td>What do (parentheses) and [square brackets] do in image prompts?</td><td>5812</td><td>genai</td></tr><tr><td>null</td><td>2</td><td><p>I want to train my very own large language model. I have some data, and access to an open-source foundational model. Can I use my laptop that only has a CPU and no GPU to train the model? Do I need to rent time on a cloud provider to get a VM with GPUs</td><td>null</td><td>1</td><td>null</td><td>CC BY-SA 4.0</td><td>2023-07-17T21:33:05.167Z</td><td>5</td><td>2023-07-26T14:21:49.43Z</td><td>2023-07-26T14:21:49.43Z</td><td>null</td><td>156</td><td>null</td><td>23</td><td>null</td><td>1</td><td>2</td><td>|gpu|llm|</td><td>How important are GPUs vs. CPUs when training an LLM?</td><td>879</td><td>genai</td></tr><tr><td>null</td><td>3</td><td><p>I often chat with the various bots at <a href=\"https://poe.com/\" rel=\"nofollow noreferrer\">Poe.com</a>. We see bots such as:</p> <ul> <li><em>ChatGPT</em>: Powered by gpt-3.5-turbo.</li> <li><em>GPT-4</em>: OpenAI's most powerful model. Stronger than</td><td>null</td><td>3</td><td>null</td><td>CC BY-SA 4.0</td><td>2023-07-18T00:16:17.447Z</td><td>7</td><td>2023-07-25T20:34:19.187Z</td><td>2023-07-25T14:44:15.963Z</td><td>null</td><td>12</td><td>null</td><td>26</td><td>null</td><td>1</td><td>8</td><td>|gpt|terminology|poe.com|</td><td>What's the difference between the terms \"ChatGPT\", \"GPT\", \"GPT-4\", and \"GPT-3.5-turbo\"?</td><td>705</td><td>genai</td></tr><tr><td>17</td><td>1</td><td><p>I generated some images using this prompt.</p> <blockquote> <p>white knight with wings holding sword and shield</p> </blockquote> <p>There are many results from that but let's say I like this one.</p> <p><a href=\"https://i.stack.imgur.com/BbqNe.png\" re</td><td>null</td><td>1</td><td>null</td><td>CC BY-SA 4.0</td><td>2023-07-18T03:11:25.03Z</td><td>8</td><td>2023-07-18T21:54:28.263Z</td><td>null</td><td>null</td><td>null</td><td>null</td><td>28</td><td>null</td><td>1</td><td>4</td><td>|image|image-generation|stable-diffusion|text-to-image|clipdrop|</td><td>How to remove/fix some artifacts from generated image while keeping most parts of the image intact?</td><td>1030</td><td>genai</td></tr><tr><td>290</td><td>3</td><td><p>Toy example: Let's say I want to automate work off of my support team for my company's products, and try to replace some of their work with ChatGPT to answer support questions. However, ChatGPT has probably not been trained on information about my prod</td><td>null</td><td>6</td><td>null</td><td>CC BY-SA 4.0</td><td>2023-07-18T08:39:49.433Z</td><td>9</td><td>2023-08-04T15:01:05.513Z</td><td>null</td><td>null</td><td>null</td><td>null</td><td>33</td><td>null</td><td>1</td><td>8</td><td>|chatgpt|</td><td>What challenges would I face in trying to apply ChatGPT to answer questions about information it wasn't trained upon?</td><td>285</td><td>genai</td></tr><tr><td>null</td><td>2</td><td><p>I've noticed that when ChatGPT writes multiple paragraphs, the paragraphs have consistent lengths of roughly 200 characters. Often more than 100, and less than 400. I'm not sure if this is just a result of of the specific prompts that have been feeding</td><td>null</td><td>2</td><td>null</td><td>CC BY-SA 4.0</td><td>2023-07-18T08:42:31.5Z</td><td>10</td><td>2023-12-07T21:42:29.65Z</td><td>null</td><td>null</td><td>null</td><td>null</td><td>33</td><td>null</td><td>1</td><td>4</td><td>|chatgpt|</td><td>Why does ChatGPT have a consistent paragraph length?</td><td>400</td><td>genai</td></tr><tr><td>null</td><td>1</td><td><p>Image generation - midjourney, leonardo, etc - are not good at generating realistic hands. It is common to see hands with extra fingers or in weird shapes.</p> <p>As an example, a basic prompt like this on Leonardo:</p> <blockquote> <p>kylian mbappé hy</td><td>null</td><td>7</td><td>null</td><td>CC BY-SA 4.0</td><td>2023-07-18T13:58:13.1Z</td><td>16</td><td>2023-07-20T21:59:58.25Z</td><td>2023-07-20T16:07:28.803Z</td><td>null</td><td>7</td><td>null</td><td>44</td><td>null</td><td>1</td><td>8</td><td>|image-generation|prompt-design|negative-prompt|leonardo.ai|</td><td>How can I effectively create a prompt to generate realistic limbs and fingers using Leonardo.ai?</td><td>1198</td><td>genai</td></tr><tr><td>32</td><td>1</td><td><p>I asked <a href=\"https://poe.com/ChatGPT\" rel=\"nofollow noreferrer\">ChatGPT</a> the following (some of the back-and-forth is omitted for space reasons):</p> <blockquote> <p>Can you play hangman?<br /> Can you think of a word?<br /> E</p> </blockquote></td><td>null</td><td>3</td><td>null</td><td>CC BY-SA 4.0</td><td>2023-07-19T00:00:03.803Z</td><td>18</td><td>2023-07-19T16:56:13.287Z</td><td>null</td><td>null</td><td>null</td><td>null</td><td>26</td><td>null</td><td>1</td><td>4</td><td>|chatgpt|prompt-design|games|</td><td>Is it possible to prompt ChatGPT into playing a competent game of hangman?</td><td>425</td><td>genai</td></tr><tr><td>23</td><td>1</td><td><p>I am using <a href=\"https://clipdrop.co/stable-diffusion\" rel=\"nofollow noreferrer\">ClipDrop/Stable Diffusion</a> to generate some images with this specific prompt.</p> <blockquote> <p>big number 4 at the center of the image with forest in the backgrou</td><td>null</td><td>3</td><td>null</td><td>CC BY-SA 4.0</td><td>2023-07-19T04:16:00.797Z</td><td>21</td><td>2023-07-20T07:11:34.86Z</td><td>2023-07-19T10:20:09.923Z</td><td>null</td><td>28</td><td>null</td><td>28</td><td>null</td><td>1</td><td>4</td><td>|image-generation|stable-diffusion|text-to-image|clipdrop|prompt-design|</td><td>Some of my important points being ignored in text-to-image generation. How to emphasize it to be in the image?</td><td>664</td><td>genai</td></tr><tr><td>null</td><td>3</td><td><p>Suppose I have a copy of a pre-trained transformer-based large language model like Google's T5 or Meta's Llama. Due to the pre-training, it contains a lot of knowledge.</p> <p>However, I want to teach the model something new, knowledge it doesn't alrea</td><td>null</td><td>2</td><td>null</td><td>CC BY-SA 4.0</td><td>2023-07-19T12:42:09.43Z</td><td>24</td><td>2023-08-04T02:38:03.983Z</td><td>null</td><td>null</td><td>null</td><td>null</td><td>57</td><td>null</td><td>1</td><td>11</td><td>|training|transformers|fine-tuning|</td><td>How do I \"teach\" a large language model new knowledge?</td><td>1427</td><td>genai</td></tr></tbody></table></div>"
      ]
     },
     "metadata": {
      "application/vnd.databricks.v1+output": {
       "addedWidgets": {},
       "aggData": [],
       "aggError": "",
       "aggOverflow": false,
       "aggSchema": [],
       "aggSeriesLimitReached": false,
       "aggType": "",
       "arguments": {},
       "columnCustomDisplayInfos": {},
       "data": [
        [
         2,
         1,
         "<p>I've seen a number of prompts that put parentheses or square brackets around certain words/phrases. This seems to be used across multiple frontends (Automatic1111, ComfyUI, NovelAI, ...) and regardless of model. What does this syntax do?</p>",
         null,
         7,
         null,
         "CC BY-SA 4.0",
         "2023-07-17T19:24:01.893Z",
         1,
         "2023-07-24T20:58:39.01Z",
         "2023-07-24T20:58:39.01Z",
         null,
         12,
         null,
         8,
         null,
         1,
         10,
         "|image-generation|prompt-design|",
         "What do (parentheses) and [square brackets] do in image prompts?",
         5812,
         "genai"
        ],
        [
         null,
         2,
         "<p>I want to train my very own large language model. I have some data, and access to an open-source foundational model. Can I use my laptop that only has a CPU and no GPU to train the model? Do I need to rent time on a cloud provider to get a VM with GPUs",
         null,
         1,
         null,
         "CC BY-SA 4.0",
         "2023-07-17T21:33:05.167Z",
         5,
         "2023-07-26T14:21:49.43Z",
         "2023-07-26T14:21:49.43Z",
         null,
         156,
         null,
         23,
         null,
         1,
         2,
         "|gpu|llm|",
         "How important are GPUs vs. CPUs when training an LLM?",
         879,
         "genai"
        ],
        [
         null,
         3,
         "<p>I often chat with the various bots at <a href=\"https://poe.com/\" rel=\"nofollow noreferrer\">Poe.com</a>. We see bots such as:</p> <ul> <li><em>ChatGPT</em>: Powered by gpt-3.5-turbo.</li> <li><em>GPT-4</em>: OpenAI's most powerful model. Stronger than",
         null,
         3,
         null,
         "CC BY-SA 4.0",
         "2023-07-18T00:16:17.447Z",
         7,
         "2023-07-25T20:34:19.187Z",
         "2023-07-25T14:44:15.963Z",
         null,
         12,
         null,
         26,
         null,
         1,
         8,
         "|gpt|terminology|poe.com|",
         "What's the difference between the terms \"ChatGPT\", \"GPT\", \"GPT-4\", and \"GPT-3.5-turbo\"?",
         705,
         "genai"
        ],
        [
         17,
         1,
         "<p>I generated some images using this prompt.</p> <blockquote> <p>white knight with wings holding sword and shield</p> </blockquote> <p>There are many results from that but let's say I like this one.</p> <p><a href=\"https://i.stack.imgur.com/BbqNe.png\" re",
         null,
         1,
         null,
         "CC BY-SA 4.0",
         "2023-07-18T03:11:25.03Z",
         8,
         "2023-07-18T21:54:28.263Z",
         null,
         null,
         null,
         null,
         28,
         null,
         1,
         4,
         "|image|image-generation|stable-diffusion|text-to-image|clipdrop|",
         "How to remove/fix some artifacts from generated image while keeping most parts of the image intact?",
         1030,
         "genai"
        ],
        [
         290,
         3,
         "<p>Toy example: Let's say I want to automate work off of my support team for my company's products, and try to replace some of their work with ChatGPT to answer support questions. However, ChatGPT has probably not been trained on information about my prod",
         null,
         6,
         null,
         "CC BY-SA 4.0",
         "2023-07-18T08:39:49.433Z",
         9,
         "2023-08-04T15:01:05.513Z",
         null,
         null,
         null,
         null,
         33,
         null,
         1,
         8,
         "|chatgpt|",
         "What challenges would I face in trying to apply ChatGPT to answer questions about information it wasn't trained upon?",
         285,
         "genai"
        ],
        [
         null,
         2,
         "<p>I've noticed that when ChatGPT writes multiple paragraphs, the paragraphs have consistent lengths of roughly 200 characters. Often more than 100, and less than 400. I'm not sure if this is just a result of of the specific prompts that have been feeding",
         null,
         2,
         null,
         "CC BY-SA 4.0",
         "2023-07-18T08:42:31.5Z",
         10,
         "2023-12-07T21:42:29.65Z",
         null,
         null,
         null,
         null,
         33,
         null,
         1,
         4,
         "|chatgpt|",
         "Why does ChatGPT have a consistent paragraph length?",
         400,
         "genai"
        ],
        [
         null,
         1,
         "<p>Image generation - midjourney, leonardo, etc - are not good at generating realistic hands. It is common to see hands with extra fingers or in weird shapes.</p> <p>As an example, a basic prompt like this on Leonardo:</p> <blockquote> <p>kylian mbappé hy",
         null,
         7,
         null,
         "CC BY-SA 4.0",
         "2023-07-18T13:58:13.1Z",
         16,
         "2023-07-20T21:59:58.25Z",
         "2023-07-20T16:07:28.803Z",
         null,
         7,
         null,
         44,
         null,
         1,
         8,
         "|image-generation|prompt-design|negative-prompt|leonardo.ai|",
         "How can I effectively create a prompt to generate realistic limbs and fingers using Leonardo.ai?",
         1198,
         "genai"
        ],
        [
         32,
         1,
         "<p>I asked <a href=\"https://poe.com/ChatGPT\" rel=\"nofollow noreferrer\">ChatGPT</a> the following (some of the back-and-forth is omitted for space reasons):</p> <blockquote> <p>Can you play hangman?<br /> Can you think of a word?<br /> E</p> </blockquote>",
         null,
         3,
         null,
         "CC BY-SA 4.0",
         "2023-07-19T00:00:03.803Z",
         18,
         "2023-07-19T16:56:13.287Z",
         null,
         null,
         null,
         null,
         26,
         null,
         1,
         4,
         "|chatgpt|prompt-design|games|",
         "Is it possible to prompt ChatGPT into playing a competent game of hangman?",
         425,
         "genai"
        ],
        [
         23,
         1,
         "<p>I am using <a href=\"https://clipdrop.co/stable-diffusion\" rel=\"nofollow noreferrer\">ClipDrop/Stable Diffusion</a> to generate some images with this specific prompt.</p> <blockquote> <p>big number 4 at the center of the image with forest in the backgrou",
         null,
         3,
         null,
         "CC BY-SA 4.0",
         "2023-07-19T04:16:00.797Z",
         21,
         "2023-07-20T07:11:34.86Z",
         "2023-07-19T10:20:09.923Z",
         null,
         28,
         null,
         28,
         null,
         1,
         4,
         "|image-generation|stable-diffusion|text-to-image|clipdrop|prompt-design|",
         "Some of my important points being ignored in text-to-image generation. How to emphasize it to be in the image?",
         664,
         "genai"
        ],
        [
         null,
         3,
         "<p>Suppose I have a copy of a pre-trained transformer-based large language model like Google's T5 or Meta's Llama. Due to the pre-training, it contains a lot of knowledge.</p> <p>However, I want to teach the model something new, knowledge it doesn't alrea",
         null,
         2,
         null,
         "CC BY-SA 4.0",
         "2023-07-19T12:42:09.43Z",
         24,
         "2023-08-04T02:38:03.983Z",
         null,
         null,
         null,
         null,
         57,
         null,
         1,
         11,
         "|training|transformers|fine-tuning|",
         "How do I \"teach\" a large language model new knowledge?",
         1427,
         "genai"
        ]
       ],
       "datasetInfos": [],
       "dbfsResultPath": null,
       "isJsonSchema": true,
       "metadata": {},
       "overflow": false,
       "plotOptions": {
        "customPlotOptions": {},
        "displayType": "table",
        "pivotAggregation": null,
        "pivotColumns": null,
        "xColumns": null,
        "yColumns": null
       },
       "removedWidgets": [],
       "schema": [
        {
         "metadata": "{}",
         "name": "accepted_answer_id",
         "type": "\"long\""
        },
        {
         "metadata": "{}",
         "name": "answer_count",
         "type": "\"long\""
        },
        {
         "metadata": "{}",
         "name": "body",
         "type": "\"string\""
        },
        {
         "metadata": "{}",
         "name": "closed_date",
         "type": "\"timestamp\""
        },
        {
         "metadata": "{}",
         "name": "comment_count",
         "type": "\"long\""
        },
        {
         "metadata": "{}",
         "name": "community_owned_date",
         "type": "\"timestamp\""
        },
        {
         "metadata": "{}",
         "name": "content_license",
         "type": "\"string\""
        },
        {
         "metadata": "{}",
         "name": "creation_date",
         "type": "\"timestamp\""
        },
        {
         "metadata": "{}",
         "name": "id",
         "type": "\"long\""
        },
        {
         "metadata": "{}",
         "name": "last_activity_date",
         "type": "\"timestamp\""
        },
        {
         "metadata": "{}",
         "name": "last_edit_date",
         "type": "\"timestamp\""
        },
        {
         "metadata": "{}",
         "name": "last_editor_display_name",
         "type": "\"string\""
        },
        {
         "metadata": "{}",
         "name": "last_editor_user_id",
         "type": "\"long\""
        },
        {
         "metadata": "{}",
         "name": "owner_display_name",
         "type": "\"string\""
        },
        {
         "metadata": "{}",
         "name": "owner_user_id",
         "type": "\"long\""
        },
        {
         "metadata": "{}",
         "name": "parent_id",
         "type": "\"long\""
        },
        {
         "metadata": "{}",
         "name": "post_type_id",
         "type": "\"long\""
        },
        {
         "metadata": "{}",
         "name": "score",
         "type": "\"long\""
        },
        {
         "metadata": "{}",
         "name": "tags",
         "type": "\"string\""
        },
        {
         "metadata": "{}",
         "name": "title",
         "type": "\"string\""
        },
        {
         "metadata": "{}",
         "name": "view_count",
         "type": "\"long\""
        },
        {
         "metadata": "{}",
         "name": "category",
         "type": "\"string\""
        }
       ],
       "type": "table"
      }
     },
     "output_type": "display_data"
    },
    {
     "output_type": "stream",
     "name": "stdout",
     "output_type": "stream",
     "text": [
      "\n\n\n\nTAGS:\n"
     ]
    },
    {
     "output_type": "display_data",
     "data": {
      "text/html": [
       "<style scoped>\n",
       "  .table-result-container {\n",
       "    max-height: 300px;\n",
       "    overflow: auto;\n",
       "  }\n",
       "  table, th, td {\n",
       "    border: 1px solid black;\n",
       "    border-collapse: collapse;\n",
       "  }\n",
       "  th, td {\n",
       "    padding: 5px;\n",
       "  }\n",
       "  th {\n",
       "    text-align: left;\n",
       "  }\n",
       "</style><div class='table-result-container'><table class='table-result'><thead style='background-color: white'><tr><th>count</th><th>excerpt_post_id</th><th>id</th><th>tag_name</th><th>wiki_post_id</th><th>category</th></tr></thead><tbody><tr><td>650</td><td>57</td><td>1</td><td>cleaning</td><td>56</td><td>lifehacks</td></tr><tr><td>188</td><td>1924</td><td>14</td><td>kitchen</td><td>1923</td><td>lifehacks</td></tr><tr><td>66</td><td>1940</td><td>16</td><td>safety</td><td>1939</td><td>lifehacks</td></tr><tr><td>258</td><td>524</td><td>17</td><td>food</td><td>523</td><td>lifehacks</td></tr><tr><td>104</td><td>32</td><td>18</td><td>temperature</td><td>31</td><td>lifehacks</td></tr><tr><td>18</td><td>53</td><td>23</td><td>recycling</td><td>52</td><td>lifehacks</td></tr><tr><td>112</td><td>530</td><td>24</td><td>water</td><td>529</td><td>lifehacks</td></tr><tr><td>67</td><td>1958</td><td>25</td><td>pest-control</td><td>1957</td><td>lifehacks</td></tr><tr><td>60</td><td>1998</td><td>29</td><td>glass</td><td>1997</td><td>lifehacks</td></tr><tr><td>53</td><td>532</td><td>36</td><td>winter</td><td>531</td><td>lifehacks</td></tr></tbody></table></div>"
      ]
     },
     "metadata": {
      "application/vnd.databricks.v1+output": {
       "addedWidgets": {},
       "aggData": [],
       "aggError": "",
       "aggOverflow": false,
       "aggSchema": [],
       "aggSeriesLimitReached": false,
       "aggType": "",
       "arguments": {},
       "columnCustomDisplayInfos": {},
       "data": [
        [
         650,
         57,
         1,
         "cleaning",
         56,
         "lifehacks"
        ],
        [
         188,
         1924,
         14,
         "kitchen",
         1923,
         "lifehacks"
        ],
        [
         66,
         1940,
         16,
         "safety",
         1939,
         "lifehacks"
        ],
        [
         258,
         524,
         17,
         "food",
         523,
         "lifehacks"
        ],
        [
         104,
         32,
         18,
         "temperature",
         31,
         "lifehacks"
        ],
        [
         18,
         53,
         23,
         "recycling",
         52,
         "lifehacks"
        ],
        [
         112,
         530,
         24,
         "water",
         529,
         "lifehacks"
        ],
        [
         67,
         1958,
         25,
         "pest-control",
         1957,
         "lifehacks"
        ],
        [
         60,
         1998,
         29,
         "glass",
         1997,
         "lifehacks"
        ],
        [
         53,
         532,
         36,
         "winter",
         531,
         "lifehacks"
        ]
       ],
       "datasetInfos": [],
       "dbfsResultPath": null,
       "isJsonSchema": true,
       "metadata": {},
       "overflow": false,
       "plotOptions": {
        "customPlotOptions": {},
        "displayType": "table",
        "pivotAggregation": null,
        "pivotColumns": null,
        "xColumns": null,
        "yColumns": null
       },
       "removedWidgets": [],
       "schema": [
        {
         "metadata": "{}",
         "name": "count",
         "type": "\"long\""
        },
        {
         "metadata": "{}",
         "name": "excerpt_post_id",
         "type": "\"long\""
        },
        {
         "metadata": "{}",
         "name": "id",
         "type": "\"long\""
        },
        {
         "metadata": "{}",
         "name": "tag_name",
         "type": "\"string\""
        },
        {
         "metadata": "{}",
         "name": "wiki_post_id",
         "type": "\"long\""
        },
        {
         "metadata": "{}",
         "name": "category",
         "type": "\"string\""
        }
       ],
       "type": "table"
      }
     },
     "output_type": "display_data"
    },
    {
     "output_type": "stream",
     "name": "stdout",
     "output_type": "stream",
     "text": [
      "\n\n\n\nUSERS:\n"
     ]
    },
    {
     "output_type": "display_data",
     "data": {
      "text/html": [
       "<style scoped>\n",
       "  .table-result-container {\n",
       "    max-height: 300px;\n",
       "    overflow: auto;\n",
       "  }\n",
       "  table, th, td {\n",
       "    border: 1px solid black;\n",
       "    border-collapse: collapse;\n",
       "  }\n",
       "  th, td {\n",
       "    padding: 5px;\n",
       "  }\n",
       "  th {\n",
       "    text-align: left;\n",
       "  }\n",
       "</style><div class='table-result-container'><table class='table-result'><thead style='background-color: white'><tr><th>about_me</th><th>account_id</th><th>creation_date</th><th>display_name</th><th>down_votes</th><th>id</th><th>last_access_date</th><th>location</th><th>reputation</th><th>up_votes</th><th>views</th><th>website_url</th><th>category</th></tr></thead><tbody><tr><td><p>Hi, I'm not really a person.</p> <p>I'm a background process that helps keep this site clean!</p> <p>I do things like</p> <ul> <li>Randomly poke old unanswered questions every hour so they get some attention</li> <li>Own community questions and an</td><td>-1</td><td>2015-03-31T00:04:31.433Z</td><td>Community</td><td>0</td><td>-1</td><td>2015-03-31T00:04:31.433Z</td><td>on the server farm</td><td>1</td><td>0</td><td>29</td><td>null</td><td>health</td></tr><tr><td><p>Developer at Stack Overflow focusing on public Q&A. Russian Canadian working in the American idiom.</p> <p>Once upon a time:</p> <ul> <li>community manager at Stack Overflow</li> <li>elected moderator on Stack Overflow and Software Engineering</li></td><td>37099</td><td>2015-03-31T17:35:54.363Z</td><td>Adam Lear</td><td>0</td><td>1</td><td>2024-03-05T20:35:35.443Z</td><td>New York, NY</td><td>101</td><td>0</td><td>110</td><td>null</td><td>health</td></tr><tr><td><p>Visit <a href=\"https://buildcivitas.com/\" rel=\"nofollow noreferrer\">Civitas</a> for all your community management needs.</p> <p>Topics you might be interested in reading about:</p> <ul> <li><a href=\"https://jlericson.com/2023/10/16/catija.html\" rel=\"no</td><td>1083</td><td>2015-03-31T17:38:36.75Z</td><td>Jon Ericson</td><td>1</td><td>3</td><td>2022-01-13T17:57:28.86Z</td><td>Downtown Burbank</td><td>101</td><td>4</td><td>13</td><td>https://jlericson.com/</td><td>health</td></tr><tr><td><p>Chief Technical Officer at <a href=\"https://postop.ai\" rel=\"nofollow noreferrer\">https://postop.ai</a>.</p> <ul> <li>Stack Overflow Contributor since 2008</li> <li>Skeptics mod since 2011</li> <li>Core dev since March 2013</li> <li>Stack Overflow alumn</td><td>4623</td><td>2015-03-31T17:41:45.777Z</td><td>Sklivvz</td><td>3</td><td>4</td><td>2021-11-10T08:16:03.71Z</td><td>Trento, Province of Trento, Italy</td><td>98</td><td>0</td><td>7</td><td>https://sklivvz.com</td><td>health</td></tr><tr><td><p>Former <a href=\"https://stackoverflow.blog/2013/02/25/max-oded-wendy-val-shefali-and-mike-welcome-to-the-family/\">Stack Overflow employee</a>.</p> <p>I am a C# ASP.NET developer, with a long professional history of work with web and Microsoft technolo</td><td>1190</td><td>2015-03-31T17:43:34.78Z</td><td>Oded</td><td>1</td><td>5</td><td>2017-09-30T12:45:34.183Z</td><td>London, United Kingdom</td><td>101</td><td>0</td><td>3</td><td>http://OdedCoster.com/blog</td><td>health</td></tr><tr><td><p>Mathematician. Studied maths and physics. Previous Computer scientist.</p> <p>Interested in <a href=\"https://en.wikipedia.org/wiki/Low-dimensional_topology\" rel=\"nofollow noreferrer\">low-dimensional topology</a>, geometric topology, algebraic topology,</td><td>3229416</td><td>2015-03-31T17:54:11.95Z</td><td>Loreno Heer</td><td>0</td><td>6</td><td>2021-08-31T21:04:28.837Z</td><td>null</td><td>101</td><td>5</td><td>3</td><td>http://loreno-heer.github.io</td><td>health</td></tr><tr><td><p>Long-time coder, with some interest in French and Philosophy.</p> <p>I sometimes hang out in the <a href=\"http://chat.stackexchange.com/rooms/95/english-language-and-usage\">English Language & Usage</a> chatroom.</p> <p>Check out my <a href=\"http:</td><td>59775</td><td>2015-03-31T18:02:48.89Z</td><td>Jez</td><td>0</td><td>8</td><td>2023-01-15T04:32:15.433Z</td><td>United Kingdom</td><td>2063</td><td>30</td><td>48</td><td>http://gooeysoftware.com/</td><td>health</td></tr><tr><td><p>I used to work for our Stack Overflow overlords, helping folks decide what to have for lunch. Back then, if you had a recommendation you wanted to share, you could email me at abby@stackoverflow.com. If you do that these days, be advised that I won't g</td><td>463168</td><td>2015-03-31T18:06:20.07Z</td><td>hairboat</td><td>0</td><td>9</td><td>2020-02-04T17:30:48.333Z</td><td>NYC</td><td>101</td><td>2</td><td>3</td><td>null</td><td>health</td></tr><tr><td>null</td><td>2891370</td><td>2015-03-31T18:42:17.57Z</td><td>TheEnvironmentalist</td><td>10</td><td>11</td><td>2024-02-13T17:04:43.813Z</td><td>null</td><td>3366</td><td>41</td><td>112</td><td>null</td><td>health</td></tr><tr><td>null</td><td>2591759</td><td>2015-03-31T18:47:32.047Z</td><td>Ram</td><td>0</td><td>12</td><td>2015-06-09T19:00:28.77Z</td><td>null</td><td>101</td><td>0</td><td>2</td><td>null</td><td>health</td></tr></tbody></table></div>"
      ]
     },
     "metadata": {
      "application/vnd.databricks.v1+output": {
       "addedWidgets": {},
       "aggData": [],
       "aggError": "",
       "aggOverflow": false,
       "aggSchema": [],
       "aggSeriesLimitReached": false,
       "aggType": "",
       "arguments": {},
       "columnCustomDisplayInfos": {},
       "data": [
        [
         "<p>Hi, I'm not really a person.</p> <p>I'm a background process that helps keep this site clean!</p> <p>I do things like</p> <ul> <li>Randomly poke old unanswered questions every hour so they get some attention</li> <li>Own community questions and an",
         -1,
         "2015-03-31T00:04:31.433Z",
         "Community",
         0,
         -1,
         "2015-03-31T00:04:31.433Z",
         "on the server farm",
         1,
         0,
         29,
         null,
         "health"
        ],
        [
         "<p>Developer at Stack Overflow focusing on public Q&A. Russian Canadian working in the American idiom.</p> <p>Once upon a time:</p> <ul> <li>community manager at Stack Overflow</li> <li>elected moderator on Stack Overflow and Software Engineering</li>",
         37099,
         "2015-03-31T17:35:54.363Z",
         "Adam Lear",
         0,
         1,
         "2024-03-05T20:35:35.443Z",
         "New York, NY",
         101,
         0,
         110,
         null,
         "health"
        ],
        [
         "<p>Visit <a href=\"https://buildcivitas.com/\" rel=\"nofollow noreferrer\">Civitas</a> for all your community management needs.</p> <p>Topics you might be interested in reading about:</p> <ul> <li><a href=\"https://jlericson.com/2023/10/16/catija.html\" rel=\"no",
         1083,
         "2015-03-31T17:38:36.75Z",
         "Jon Ericson",
         1,
         3,
         "2022-01-13T17:57:28.86Z",
         "Downtown Burbank",
         101,
         4,
         13,
         "https://jlericson.com/",
         "health"
        ],
        [
         "<p>Chief Technical Officer at <a href=\"https://postop.ai\" rel=\"nofollow noreferrer\">https://postop.ai</a>.</p> <ul> <li>Stack Overflow Contributor since 2008</li> <li>Skeptics mod since 2011</li> <li>Core dev since March 2013</li> <li>Stack Overflow alumn",
         4623,
         "2015-03-31T17:41:45.777Z",
         "Sklivvz",
         3,
         4,
         "2021-11-10T08:16:03.71Z",
         "Trento, Province of Trento, Italy",
         98,
         0,
         7,
         "https://sklivvz.com",
         "health"
        ],
        [
         "<p>Former <a href=\"https://stackoverflow.blog/2013/02/25/max-oded-wendy-val-shefali-and-mike-welcome-to-the-family/\">Stack Overflow employee</a>.</p> <p>I am a C# ASP.NET developer, with a long professional history of work with web and Microsoft technolo",
         1190,
         "2015-03-31T17:43:34.78Z",
         "Oded",
         1,
         5,
         "2017-09-30T12:45:34.183Z",
         "London, United Kingdom",
         101,
         0,
         3,
         "http://OdedCoster.com/blog",
         "health"
        ],
        [
         "<p>Mathematician. Studied maths and physics. Previous Computer scientist.</p> <p>Interested in <a href=\"https://en.wikipedia.org/wiki/Low-dimensional_topology\" rel=\"nofollow noreferrer\">low-dimensional topology</a>, geometric topology, algebraic topology,",
         3229416,
         "2015-03-31T17:54:11.95Z",
         "Loreno Heer",
         0,
         6,
         "2021-08-31T21:04:28.837Z",
         null,
         101,
         5,
         3,
         "http://loreno-heer.github.io",
         "health"
        ],
        [
         "<p>Long-time coder, with some interest in French and Philosophy.</p> <p>I sometimes hang out in the <a href=\"http://chat.stackexchange.com/rooms/95/english-language-and-usage\">English Language & Usage</a> chatroom.</p> <p>Check out my <a href=\"http:",
         59775,
         "2015-03-31T18:02:48.89Z",
         "Jez",
         0,
         8,
         "2023-01-15T04:32:15.433Z",
         "United Kingdom",
         2063,
         30,
         48,
         "http://gooeysoftware.com/",
         "health"
        ],
        [
         "<p>I used to work for our Stack Overflow overlords, helping folks decide what to have for lunch. Back then, if you had a recommendation you wanted to share, you could email me at abby@stackoverflow.com. If you do that these days, be advised that I won't g",
         463168,
         "2015-03-31T18:06:20.07Z",
         "hairboat",
         0,
         9,
         "2020-02-04T17:30:48.333Z",
         "NYC",
         101,
         2,
         3,
         null,
         "health"
        ],
        [
         null,
         2891370,
         "2015-03-31T18:42:17.57Z",
         "TheEnvironmentalist",
         10,
         11,
         "2024-02-13T17:04:43.813Z",
         null,
         3366,
         41,
         112,
         null,
         "health"
        ],
        [
         null,
         2591759,
         "2015-03-31T18:47:32.047Z",
         "Ram",
         0,
         12,
         "2015-06-09T19:00:28.77Z",
         null,
         101,
         0,
         2,
         null,
         "health"
        ]
       ],
       "datasetInfos": [],
       "dbfsResultPath": null,
       "isJsonSchema": true,
       "metadata": {},
       "overflow": false,
       "plotOptions": {
        "customPlotOptions": {},
        "displayType": "table",
        "pivotAggregation": null,
        "pivotColumns": null,
        "xColumns": null,
        "yColumns": null
       },
       "removedWidgets": [],
       "schema": [
        {
         "metadata": "{}",
         "name": "about_me",
         "type": "\"string\""
        },
        {
         "metadata": "{}",
         "name": "account_id",
         "type": "\"long\""
        },
        {
         "metadata": "{}",
         "name": "creation_date",
         "type": "\"timestamp\""
        },
        {
         "metadata": "{}",
         "name": "display_name",
         "type": "\"string\""
        },
        {
         "metadata": "{}",
         "name": "down_votes",
         "type": "\"long\""
        },
        {
         "metadata": "{}",
         "name": "id",
         "type": "\"long\""
        },
        {
         "metadata": "{}",
         "name": "last_access_date",
         "type": "\"timestamp\""
        },
        {
         "metadata": "{}",
         "name": "location",
         "type": "\"string\""
        },
        {
         "metadata": "{}",
         "name": "reputation",
         "type": "\"long\""
        },
        {
         "metadata": "{}",
         "name": "up_votes",
         "type": "\"long\""
        },
        {
         "metadata": "{}",
         "name": "views",
         "type": "\"long\""
        },
        {
         "metadata": "{}",
         "name": "website_url",
         "type": "\"string\""
        },
        {
         "metadata": "{}",
         "name": "category",
         "type": "\"string\""
        }
       ],
       "type": "table"
      }
     },
     "output_type": "display_data"
    },
    {
     "output_type": "stream",
     "name": "stdout",
     "output_type": "stream",
     "text": [
      "\n\n\n\nVOTES:\n"
     ]
    },
    {
     "output_type": "display_data",
     "data": {
      "text/html": [
       "<style scoped>\n",
       "  .table-result-container {\n",
       "    max-height: 300px;\n",
       "    overflow: auto;\n",
       "  }\n",
       "  table, th, td {\n",
       "    border: 1px solid black;\n",
       "    border-collapse: collapse;\n",
       "  }\n",
       "  th, td {\n",
       "    padding: 5px;\n",
       "  }\n",
       "  th {\n",
       "    text-align: left;\n",
       "  }\n",
       "</style><div class='table-result-container'><table class='table-result'><thead style='background-color: white'><tr><th>bounty_amount</th><th>creation_date</th><th>id</th><th>post_id</th><th>user_id</th><th>vote_type_id</th><th>category</th></tr></thead><tbody><tr><td>null</td><td>2023-07-17T00:00:00Z</td><td>1</td><td>1</td><td>null</td><td>2</td><td>genai</td></tr><tr><td>null</td><td>2023-07-17T00:00:00Z</td><td>5</td><td>1</td><td>null</td><td>2</td><td>genai</td></tr><tr><td>null</td><td>2023-07-17T00:00:00Z</td><td>8</td><td>1</td><td>null</td><td>2</td><td>genai</td></tr><tr><td>null</td><td>2023-07-19T00:00:00Z</td><td>63</td><td>1</td><td>null</td><td>2</td><td>genai</td></tr><tr><td>null</td><td>2023-07-19T00:00:00Z</td><td>68</td><td>1</td><td>null</td><td>2</td><td>genai</td></tr><tr><td>null</td><td>2023-07-20T00:00:00Z</td><td>137</td><td>1</td><td>null</td><td>2</td><td>genai</td></tr><tr><td>null</td><td>2023-07-24T00:00:00Z</td><td>357</td><td>1</td><td>null</td><td>16</td><td>genai</td></tr><tr><td>null</td><td>2023-07-27T00:00:00Z</td><td>534</td><td>1</td><td>null</td><td>2</td><td>genai</td></tr><tr><td>null</td><td>2023-12-31T00:00:00Z</td><td>2630</td><td>1</td><td>null</td><td>2</td><td>genai</td></tr><tr><td>null</td><td>2024-01-04T00:00:00Z</td><td>2657</td><td>1</td><td>null</td><td>2</td><td>genai</td></tr></tbody></table></div>"
      ]
     },
     "metadata": {
      "application/vnd.databricks.v1+output": {
       "addedWidgets": {},
       "aggData": [],
       "aggError": "",
       "aggOverflow": false,
       "aggSchema": [],
       "aggSeriesLimitReached": false,
       "aggType": "",
       "arguments": {},
       "columnCustomDisplayInfos": {},
       "data": [
        [
         null,
         "2023-07-17T00:00:00Z",
         1,
         1,
         null,
         2,
         "genai"
        ],
        [
         null,
         "2023-07-17T00:00:00Z",
         5,
         1,
         null,
         2,
         "genai"
        ],
        [
         null,
         "2023-07-17T00:00:00Z",
         8,
         1,
         null,
         2,
         "genai"
        ],
        [
         null,
         "2023-07-19T00:00:00Z",
         63,
         1,
         null,
         2,
         "genai"
        ],
        [
         null,
         "2023-07-19T00:00:00Z",
         68,
         1,
         null,
         2,
         "genai"
        ],
        [
         null,
         "2023-07-20T00:00:00Z",
         137,
         1,
         null,
         2,
         "genai"
        ],
        [
         null,
         "2023-07-24T00:00:00Z",
         357,
         1,
         null,
         16,
         "genai"
        ],
        [
         null,
         "2023-07-27T00:00:00Z",
         534,
         1,
         null,
         2,
         "genai"
        ],
        [
         null,
         "2023-12-31T00:00:00Z",
         2630,
         1,
         null,
         2,
         "genai"
        ],
        [
         null,
         "2024-01-04T00:00:00Z",
         2657,
         1,
         null,
         2,
         "genai"
        ]
       ],
       "datasetInfos": [],
       "dbfsResultPath": null,
       "isJsonSchema": true,
       "metadata": {},
       "overflow": false,
       "plotOptions": {
        "customPlotOptions": {},
        "displayType": "table",
        "pivotAggregation": null,
        "pivotColumns": null,
        "xColumns": null,
        "yColumns": null
       },
       "removedWidgets": [],
       "schema": [
        {
         "metadata": "{}",
         "name": "bounty_amount",
         "type": "\"long\""
        },
        {
         "metadata": "{}",
         "name": "creation_date",
         "type": "\"timestamp\""
        },
        {
         "metadata": "{}",
         "name": "id",
         "type": "\"long\""
        },
        {
         "metadata": "{}",
         "name": "post_id",
         "type": "\"long\""
        },
        {
         "metadata": "{}",
         "name": "user_id",
         "type": "\"long\""
        },
        {
         "metadata": "{}",
         "name": "vote_type_id",
         "type": "\"long\""
        },
        {
         "metadata": "{}",
         "name": "category",
         "type": "\"string\""
        }
       ],
       "type": "table"
      }
     },
     "output_type": "display_data"
    },
    {
     "output_type": "stream",
     "name": "stdout",
     "output_type": "stream",
     "text": [
      "\n\n\n\n"
     ]
    }
   ],
   "source": [
    "tablenames = ['badges', 'comments', 'posthistory', 'posts', 'tags', 'users', 'votes']\n",
    "\n",
    "for table in tablenames:\n",
    "    print(f'{table.upper()}:')\n",
    "    df = spark.read.format(\"delta\").load(f'/mnt/stackoverflow/gold/stackoverflow/{table}/')\n",
    "    display(df.limit(10))\n",
    "    print(\"\\n\\n\\n\")\n",
    "\n",
    "# df = spark.read.format(\"delta\").load(f'/mnt/stackoverflow/gold/stackoverflow/badges/')\n",
    "# display(df.limit(10))"
   ]
  }
 ],
 "metadata": {
  "application/vnd.databricks.v1+notebook": {
   "dashboards": [],
   "environmentMetadata": {
    "base_environment": "",
    "client": "1"
   },
   "language": "python",
   "notebookMetadata": {
    "pythonIndentUnit": 4
   },
   "notebookName": "sandbox",
   "widgets": {}
  }
 },
 "nbformat": 4,
 "nbformat_minor": 0
}
