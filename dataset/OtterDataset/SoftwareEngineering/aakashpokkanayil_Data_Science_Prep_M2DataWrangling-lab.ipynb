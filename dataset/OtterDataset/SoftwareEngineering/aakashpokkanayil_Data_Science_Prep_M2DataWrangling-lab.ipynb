{
  "cells": [
    {
      "cell_type": "markdown",
      "metadata": {},
      "source": [
        "<p style=\"text-align:center\">\n",
        "    <a href=\"https://skills.network/?utm_medium=Exinfluencer&utm_source=Exinfluencer&utm_content=000026UJ&utm_term=10006555&utm_id=NA-SkillsNetwork-Channel-SkillsNetworkCoursesIBMDA0321ENSkillsNetwork928-2022-01-01\" target=\"_blank\">\n",
        "    <img src=\"https://cf-courses-data.s3.us.cloud-object-storage.appdomain.cloud/assets/logos/SN_web_lightmode.png\" width=\"200\" alt=\"Skills Network Logo\"  />\n",
        "    </a>\n",
        "</p>\n"
      ]
    },
    {
      "cell_type": "markdown",
      "metadata": {},
      "source": [
        "# **Data Wrangling Lab**\n"
      ]
    },
    {
      "cell_type": "markdown",
      "metadata": {},
      "source": [
        "Estimated time needed: **45 to 60** minutes\n"
      ]
    },
    {
      "cell_type": "markdown",
      "metadata": {},
      "source": [
        "In this assignment you will be performing data wrangling.\n"
      ]
    },
    {
      "cell_type": "markdown",
      "metadata": {},
      "source": [
        "## Objectives\n"
      ]
    },
    {
      "cell_type": "markdown",
      "metadata": {},
      "source": [
        "In this lab you will perform the following:\n"
      ]
    },
    {
      "cell_type": "markdown",
      "metadata": {},
      "source": [
        "-   Identify duplicate values in the dataset.\n",
        "\n",
        "-   Remove duplicate values from the dataset.\n",
        "\n",
        "-   Identify missing values in the dataset.\n",
        "\n",
        "-   Impute the missing values in the dataset.\n",
        "\n",
        "-   Normalize data in the dataset.\n"
      ]
    },
    {
      "cell_type": "markdown",
      "metadata": {},
      "source": [
        "<hr>\n"
      ]
    },
    {
      "cell_type": "markdown",
      "metadata": {},
      "source": [
        "## Hands on Lab\n"
      ]
    },
    {
      "cell_type": "markdown",
      "metadata": {},
      "source": [
        "Import pandas module.\n"
      ]
    },
    {
      "cell_type": "code",
      "execution_count": 248,
      "metadata": {},
      "outputs": [
        {
          "name": "stdout",
          "output_type": "stream",
          "text": [
            "Requirement already satisfied: scipy in /Users/aakashp/miniconda3/lib/python3.11/site-packages (1.13.0)\n",
            "Requirement already satisfied: numpy<2.3,>=1.22.4 in /Users/aakashp/miniconda3/lib/python3.11/site-packages (from scipy) (1.26.4)\n",
            "Note: you may need to restart the kernel to use updated packages.\n"
          ]
        }
      ],
      "source": [
        "pip install scipy"
      ]
    },
    {
      "cell_type": "code",
      "execution_count": 249,
      "metadata": {
        "trusted": true
      },
      "outputs": [],
      "source": [
        "import pandas as pd\n",
        "import numpy as np\n",
        "import matplotlib.pyplot as plt\n",
        "import seaborn as sns\n",
        "from scipy.stats import iqr\n"
      ]
    },
    {
      "cell_type": "markdown",
      "metadata": {},
      "source": [
        "Load the dataset into a dataframe.\n"
      ]
    },
    {
      "cell_type": "markdown",
      "metadata": {},
      "source": [
        "<h2>Read Data</h2>\n",
        "<p>\n",
        "We utilize the <code>pandas.read_csv()</code> function for reading CSV files. However, in this version of the lab, which operates on JupyterLite, the dataset needs to be downloaded to the interface using the provided code below.\n",
        "</p>\n"
      ]
    },
    {
      "cell_type": "markdown",
      "metadata": {},
      "source": [
        "The functions below will download the dataset into your browser:\n"
      ]
    },
    {
      "cell_type": "code",
      "execution_count": 250,
      "metadata": {
        "trusted": true
      },
      "outputs": [],
      "source": [
        "# from pyodide.http import pyfetch\n",
        "\n",
        "# async def download(url, filename):\n",
        "#     response = await pyfetch(url)\n",
        "#     if response.status == 200:\n",
        "#         with open(filename, \"wb\") as f:\n",
        "#             f.write(await response.bytes())"
      ]
    },
    {
      "cell_type": "code",
      "execution_count": 251,
      "metadata": {
        "trusted": true
      },
      "outputs": [],
      "source": [
        "file_path = \"https://cf-courses-data.s3.us.cloud-object-storage.appdomain.cloud/IBM-DA0321EN-SkillsNetwork/LargeData/m1_survey_data.csv\""
      ]
    },
    {
      "cell_type": "markdown",
      "metadata": {},
      "source": [
        "To obtain the dataset, utilize the download() function as defined above:  \n"
      ]
    },
    {
      "cell_type": "code",
      "execution_count": 252,
      "metadata": {
        "trusted": true
      },
      "outputs": [],
      "source": [
        "# await download(file_path, \"m1_survey_data.csv\")\n",
        "# file_name=\"m1_survey_data.csv\""
      ]
    },
    {
      "cell_type": "markdown",
      "metadata": {},
      "source": [
        "Utilize the Pandas method read_csv() to load the data into a dataframe.\n"
      ]
    },
    {
      "cell_type": "code",
      "execution_count": 253,
      "metadata": {
        "trusted": true
      },
      "outputs": [],
      "source": [
        "# df = pd.read_csv('m1_survey_data.csv')"
      ]
    },
    {
      "cell_type": "markdown",
      "metadata": {},
      "source": [
        "> Note: This version of the lab is working on JupyterLite, which requires the dataset to be downloaded to the interface.While working on the downloaded version of this notebook on their local machines(Jupyter Anaconda), the learners can simply **skip the steps above,** and simply use the URL directly in the `pandas.read_csv()` function. You can uncomment and run the statements in the cell below.\n"
      ]
    },
    {
      "cell_type": "code",
      "execution_count": 254,
      "metadata": {
        "trusted": true
      },
      "outputs": [],
      "source": [
        "df = pd.read_csv(\"https://cf-courses-data.s3.us.cloud-object-storage.appdomain.cloud/IBM-DA0321EN-SkillsNetwork/LargeData/m1_survey_data.csv\")"
      ]
    },
    {
      "cell_type": "markdown",
      "metadata": {},
      "source": [
        "## Finding duplicates\n"
      ]
    },
    {
      "cell_type": "markdown",
      "metadata": {},
      "source": [
        "In this section you will identify duplicate values in the dataset.\n"
      ]
    },
    {
      "cell_type": "markdown",
      "metadata": {},
      "source": [
        " Find how many duplicate rows exist in the dataframe.\n"
      ]
    },
    {
      "cell_type": "code",
      "execution_count": 255,
      "metadata": {
        "trusted": true
      },
      "outputs": [
        {
          "data": {
            "text/plain": [
              "154"
            ]
          },
          "execution_count": 255,
          "metadata": {},
          "output_type": "execute_result"
        }
      ],
      "source": [
        "# your code goes here\n",
        "len(df[df.duplicated()])\n"
      ]
    },
    {
      "cell_type": "markdown",
      "metadata": {},
      "source": [
        "## Removing duplicates\n"
      ]
    },
    {
      "cell_type": "markdown",
      "metadata": {},
      "source": [
        "Remove the duplicate rows from the dataframe.\n"
      ]
    },
    {
      "cell_type": "code",
      "execution_count": 256,
      "metadata": {
        "trusted": true
      },
      "outputs": [],
      "source": [
        "# your code goes here\n",
        "df.drop_duplicates(inplace=True)\n"
      ]
    },
    {
      "cell_type": "markdown",
      "metadata": {},
      "source": [
        "Verify if duplicates were actually dropped.\n"
      ]
    },
    {
      "cell_type": "code",
      "execution_count": 257,
      "metadata": {
        "trusted": true
      },
      "outputs": [
        {
          "data": {
            "text/plain": [
              "0"
            ]
          },
          "execution_count": 257,
          "metadata": {},
          "output_type": "execute_result"
        }
      ],
      "source": [
        "# your code goes here\n",
        "len(df[df.duplicated()])\n"
      ]
    },
    {
      "cell_type": "code",
      "execution_count": 258,
      "metadata": {},
      "outputs": [
        {
          "data": {
            "text/plain": [
              "11398"
            ]
          },
          "execution_count": 258,
          "metadata": {},
          "output_type": "execute_result"
        }
      ],
      "source": [
        "len(df)"
      ]
    },
    {
      "cell_type": "code",
      "execution_count": 259,
      "metadata": {},
      "outputs": [
        {
          "data": {
            "text/plain": [
              "11398"
            ]
          },
          "execution_count": 259,
          "metadata": {},
          "output_type": "execute_result"
        }
      ],
      "source": [
        "df.Respondent.nunique()"
      ]
    },
    {
      "cell_type": "code",
      "execution_count": 260,
      "metadata": {},
      "outputs": [
        {
          "data": {
            "text/plain": [
              "0"
            ]
          },
          "execution_count": 260,
          "metadata": {},
          "output_type": "execute_result"
        }
      ],
      "source": [
        "df.Country.isnull().sum()"
      ]
    },
    {
      "cell_type": "markdown",
      "metadata": {},
      "source": [
        "## Finding Missing values\n"
      ]
    },
    {
      "cell_type": "markdown",
      "metadata": {},
      "source": [
        "Find the missing values for all columns.\n"
      ]
    },
    {
      "cell_type": "code",
      "execution_count": 261,
      "metadata": {
        "trusted": true
      },
      "outputs": [
        {
          "data": {
            "text/plain": [
              "Respondent        0\n",
              "MainBranch        0\n",
              "Hobbyist          0\n",
              "OpenSourcer       0\n",
              "OpenSource       81\n",
              "               ... \n",
              "Sexuality       542\n",
              "Ethnicity       675\n",
              "Dependents      140\n",
              "SurveyLength     19\n",
              "SurveyEase       14\n",
              "Length: 85, dtype: int64"
            ]
          },
          "execution_count": 261,
          "metadata": {},
          "output_type": "execute_result"
        }
      ],
      "source": [
        "# your code goes here\n",
        "df.isnull().sum()"
      ]
    },
    {
      "cell_type": "markdown",
      "metadata": {},
      "source": [
        "Find out how many rows are missing in the column 'WorkLoc'\n"
      ]
    },
    {
      "cell_type": "code",
      "execution_count": 262,
      "metadata": {
        "trusted": true
      },
      "outputs": [
        {
          "data": {
            "text/plain": [
              "32"
            ]
          },
          "execution_count": 262,
          "metadata": {},
          "output_type": "execute_result"
        }
      ],
      "source": [
        "# your code goes here\n",
        "df.WorkLoc.isnull().sum()"
      ]
    },
    {
      "cell_type": "code",
      "execution_count": 263,
      "metadata": {},
      "outputs": [
        {
          "data": {
            "text/html": [
              "<div>\n",
              "<style scoped>\n",
              "    .dataframe tbody tr th:only-of-type {\n",
              "        vertical-align: middle;\n",
              "    }\n",
              "\n",
              "    .dataframe tbody tr th {\n",
              "        vertical-align: top;\n",
              "    }\n",
              "\n",
              "    .dataframe thead th {\n",
              "        text-align: right;\n",
              "    }\n",
              "</style>\n",
              "<table border=\"1\" class=\"dataframe\">\n",
              "  <thead>\n",
              "    <tr style=\"text-align: right;\">\n",
              "      <th></th>\n",
              "      <th>Respondent</th>\n",
              "      <th>MainBranch</th>\n",
              "      <th>Hobbyist</th>\n",
              "      <th>OpenSourcer</th>\n",
              "      <th>OpenSource</th>\n",
              "      <th>Employment</th>\n",
              "      <th>Country</th>\n",
              "      <th>Student</th>\n",
              "      <th>EdLevel</th>\n",
              "      <th>UndergradMajor</th>\n",
              "      <th>...</th>\n",
              "      <th>WelcomeChange</th>\n",
              "      <th>SONewContent</th>\n",
              "      <th>Age</th>\n",
              "      <th>Gender</th>\n",
              "      <th>Trans</th>\n",
              "      <th>Sexuality</th>\n",
              "      <th>Ethnicity</th>\n",
              "      <th>Dependents</th>\n",
              "      <th>SurveyLength</th>\n",
              "      <th>SurveyEase</th>\n",
              "    </tr>\n",
              "  </thead>\n",
              "  <tbody>\n",
              "  </tbody>\n",
              "</table>\n",
              "<p>0 rows × 85 columns</p>\n",
              "</div>"
            ],
            "text/plain": [
              "Empty DataFrame\n",
              "Columns: [Respondent, MainBranch, Hobbyist, OpenSourcer, OpenSource, Employment, Country, Student, EdLevel, UndergradMajor, EduOther, OrgSize, DevType, YearsCode, Age1stCode, YearsCodePro, CareerSat, JobSat, MgrIdiot, MgrMoney, MgrWant, JobSeek, LastHireDate, LastInt, FizzBuzz, JobFactors, ResumeUpdate, CurrencySymbol, CurrencyDesc, CompTotal, CompFreq, ConvertedComp, WorkWeekHrs, WorkPlan, WorkChallenge, WorkRemote, WorkLoc, ImpSyn, CodeRev, CodeRevHrs, UnitTests, PurchaseHow, PurchaseWhat, LanguageWorkedWith, LanguageDesireNextYear, DatabaseWorkedWith, DatabaseDesireNextYear, PlatformWorkedWith, PlatformDesireNextYear, WebFrameWorkedWith, WebFrameDesireNextYear, MiscTechWorkedWith, MiscTechDesireNextYear, DevEnviron, OpSys, Containers, BlockchainOrg, BlockchainIs, BetterLife, ITperson, OffOn, SocialMedia, Extraversion, ScreenName, SOVisit1st, SOVisitFreq, SOVisitTo, SOFindAnswer, SOTimeSaved, SOHowMuchTime, SOAccount, SOPartFreq, SOJobs, EntTeams, SOComm, WelcomeChange, SONewContent, Age, Gender, Trans, Sexuality, Ethnicity, Dependents, SurveyLength, SurveyEase]\n",
              "Index: []\n",
              "\n",
              "[0 rows x 85 columns]"
            ]
          },
          "execution_count": 263,
          "metadata": {},
          "output_type": "execute_result"
        }
      ],
      "source": [
        "df[df.Respondent.duplicated()]"
      ]
    },
    {
      "cell_type": "markdown",
      "metadata": {},
      "source": [
        "## Imputing missing values\n"
      ]
    },
    {
      "cell_type": "markdown",
      "metadata": {},
      "source": [
        "Find the  value counts for the column WorkLoc.\n"
      ]
    },
    {
      "cell_type": "code",
      "execution_count": 264,
      "metadata": {
        "trusted": true
      },
      "outputs": [
        {
          "data": {
            "text/plain": [
              "WorkLoc\n",
              "Office                                            6806\n",
              "Home                                              3589\n",
              "Other place, such as a coworking space or cafe     971\n",
              "Name: count, dtype: int64"
            ]
          },
          "execution_count": 264,
          "metadata": {},
          "output_type": "execute_result"
        }
      ],
      "source": [
        "# your code goes here\n",
        "\n",
        "df.WorkLoc.value_counts()"
      ]
    },
    {
      "cell_type": "code",
      "execution_count": 265,
      "metadata": {},
      "outputs": [
        {
          "data": {
            "text/plain": [
              "Employment\n",
              "Employed full-time    10968\n",
              "Employed part-time      430\n",
              "Name: count, dtype: int64"
            ]
          },
          "execution_count": 265,
          "metadata": {},
          "output_type": "execute_result"
        }
      ],
      "source": [
        "df.Employment.value_counts()"
      ]
    },
    {
      "cell_type": "code",
      "execution_count": 266,
      "metadata": {},
      "outputs": [
        {
          "data": {
            "text/plain": [
              "UndergradMajor\n",
              "Computer science, computer engineering, or software engineering          6953\n",
              "Information systems, information technology, or system administration     794\n",
              "Another engineering discipline (ex. civil, electrical, mechanical)        759\n",
              "Web development or web design                                             410\n",
              "A natural science (ex. biology, chemistry, physics)                       403\n",
              "Mathematics or statistics                                                 372\n",
              "A business discipline (ex. accounting, finance, marketing)                244\n",
              "A social science (ex. anthropology, psychology, political science)        210\n",
              "A humanities discipline (ex. literature, history, philosophy)             207\n",
              "Fine arts or performing arts (ex. graphic design, music, studio art)      161\n",
              "I never declared a major                                                  124\n",
              "A health science (ex. nursing, pharmacy, radiology)                        24\n",
              "Name: count, dtype: int64"
            ]
          },
          "execution_count": 266,
          "metadata": {},
          "output_type": "execute_result"
        }
      ],
      "source": [
        "df.UndergradMajor.value_counts()"
      ]
    },
    {
      "cell_type": "code",
      "execution_count": 267,
      "metadata": {},
      "outputs": [
        {
          "data": {
            "text/plain": [
              "0         61000.0\n",
              "1         95179.0\n",
              "2         90000.0\n",
              "3        455352.0\n",
              "4         65277.0\n",
              "           ...   \n",
              "11547    130000.0\n",
              "11548     19880.0\n",
              "11549    105000.0\n",
              "11550     80371.0\n",
              "11551         NaN\n",
              "Name: ConvertedComp, Length: 11398, dtype: float64"
            ]
          },
          "execution_count": 267,
          "metadata": {},
          "output_type": "execute_result"
        }
      ],
      "source": [
        "df.ConvertedComp"
      ]
    },
    {
      "cell_type": "code",
      "execution_count": 268,
      "metadata": {},
      "outputs": [
        {
          "data": {
            "text/plain": [
              "3"
            ]
          },
          "execution_count": 268,
          "metadata": {},
          "output_type": "execute_result"
        }
      ],
      "source": [
        "df.CompFreq.nunique()"
      ]
    },
    {
      "cell_type": "code",
      "execution_count": 269,
      "metadata": {},
      "outputs": [
        {
          "data": {
            "text/plain": [
              "CompFreq\n",
              "Yearly     6073\n",
              "Monthly    4788\n",
              "Weekly      331\n",
              "Name: count, dtype: int64"
            ]
          },
          "execution_count": 269,
          "metadata": {},
          "output_type": "execute_result"
        }
      ],
      "source": [
        "df.CompFreq.value_counts()"
      ]
    },
    {
      "cell_type": "markdown",
      "metadata": {},
      "source": [
        "Identify the value that is most frequent (majority) in the WorkLoc column.\n"
      ]
    },
    {
      "cell_type": "code",
      "execution_count": 270,
      "metadata": {},
      "outputs": [],
      "source": [
        "#make a note of the majority value here, for future reference\n",
        "#"
      ]
    },
    {
      "cell_type": "markdown",
      "metadata": {},
      "source": [
        "Impute (replace) all the empty rows in the column WorkLoc with the value that you have identified as majority.\n"
      ]
    },
    {
      "cell_type": "code",
      "execution_count": 271,
      "metadata": {
        "trusted": true
      },
      "outputs": [],
      "source": [
        "# your code goes here\n",
        "df.WorkLoc=df.WorkLoc.replace(np.nan,'Office')"
      ]
    },
    {
      "cell_type": "markdown",
      "metadata": {},
      "source": [
        "After imputation there should ideally not be any empty rows in the WorkLoc column.\n"
      ]
    },
    {
      "cell_type": "markdown",
      "metadata": {},
      "source": [
        "Verify if imputing was successful.\n"
      ]
    },
    {
      "cell_type": "code",
      "execution_count": 272,
      "metadata": {
        "trusted": true
      },
      "outputs": [
        {
          "data": {
            "text/plain": [
              "0"
            ]
          },
          "execution_count": 272,
          "metadata": {},
          "output_type": "execute_result"
        }
      ],
      "source": [
        "# your code goes here\n",
        "df.WorkLoc.isnull().sum()"
      ]
    },
    {
      "cell_type": "markdown",
      "metadata": {},
      "source": [
        "## Normalizing data\n"
      ]
    },
    {
      "cell_type": "markdown",
      "metadata": {},
      "source": [
        "There are two columns in the dataset that talk about compensation.\n",
        "\n",
        "One is \"CompFreq\". This column shows how often a developer is paid (Yearly, Monthly, Weekly).\n",
        "\n",
        "The other is \"CompTotal\". This column talks about how much the developer is paid per Year, Month, or Week depending upon his/her \"CompFreq\". \n",
        "\n",
        "This makes it difficult to compare the total compensation of the developers.\n",
        "\n",
        "In this section you will create a new column called 'NormalizedAnnualCompensation' which contains the 'Annual Compensation' irrespective of the 'CompFreq'.\n",
        "\n",
        "Once this column is ready, it makes comparison of salaries easy.\n"
      ]
    },
    {
      "cell_type": "markdown",
      "metadata": {},
      "source": [
        "<hr>\n"
      ]
    },
    {
      "cell_type": "markdown",
      "metadata": {},
      "source": [
        "List out the various categories in the column 'CompFreq'\n"
      ]
    },
    {
      "cell_type": "code",
      "execution_count": 273,
      "metadata": {
        "trusted": true
      },
      "outputs": [
        {
          "data": {
            "text/plain": [
              "array(['Yearly', 'Monthly', 'Weekly', nan], dtype=object)"
            ]
          },
          "execution_count": 273,
          "metadata": {},
          "output_type": "execute_result"
        }
      ],
      "source": [
        "# your code goes here\n",
        "df.CompFreq.unique()"
      ]
    },
    {
      "cell_type": "markdown",
      "metadata": {},
      "source": [
        "Create a new column named 'NormalizedAnnualCompensation'. Use the hint given below if needed.\n"
      ]
    },
    {
      "cell_type": "markdown",
      "metadata": {},
      "source": [
        "Double click to see the **Hint**.\n",
        "\n",
        "<!--\n",
        "\n",
        "Use the below logic to arrive at the values for the column NormalizedAnnualCompensation.\n",
        "\n",
        "If the CompFreq is Yearly then use the exising value in CompTotal\n",
        "If the CompFreq is Monthly then multiply the value in CompTotal with 12 (months in an year)\n",
        "If the CompFreq is Weekly then multiply the value in CompTotal with 52 (weeks in an year)\n",
        "\n",
        "-->\n"
      ]
    },
    {
      "cell_type": "code",
      "execution_count": 274,
      "metadata": {
        "trusted": true
      },
      "outputs": [],
      "source": [
        "def NormalizedAnnualComp(row):\n",
        "    if row['CompFreq']=='Yearly':\n",
        "        value=row['CompTotal']\n",
        "    elif row['CompFreq']=='Monthly':\n",
        "        value=row['CompTotal']*12\n",
        "    else:\n",
        "        value=row['CompTotal']*52\n",
        "    return value\n"
      ]
    },
    {
      "cell_type": "code",
      "execution_count": 275,
      "metadata": {},
      "outputs": [],
      "source": [
        "# your code goes here\n",
        "\n",
        "df['NormalizedAnnualCompensation']=df.apply(NormalizedAnnualComp,axis=1)\n"
      ]
    },
    {
      "cell_type": "code",
      "execution_count": 276,
      "metadata": {},
      "outputs": [
        {
          "data": {
            "text/plain": [
              "100000.0"
            ]
          },
          "execution_count": 276,
          "metadata": {},
          "output_type": "execute_result"
        }
      ],
      "source": [
        "df.NormalizedAnnualCompensation.median()"
      ]
    },
    {
      "cell_type": "code",
      "execution_count": null,
      "metadata": {},
      "outputs": [],
      "source": []
    },
    {
      "cell_type": "code",
      "execution_count": null,
      "metadata": {},
      "outputs": [],
      "source": []
    },
    {
      "cell_type": "code",
      "execution_count": 277,
      "metadata": {},
      "outputs": [
        {
          "data": {
            "text/plain": [
              "0         61000.0\n",
              "1         95179.0\n",
              "2         90000.0\n",
              "3        455352.0\n",
              "4         65277.0\n",
              "           ...   \n",
              "11547    130000.0\n",
              "11548     19880.0\n",
              "11549    105000.0\n",
              "11550     80371.0\n",
              "11551         NaN\n",
              "Name: ConvertedComp, Length: 11398, dtype: float64"
            ]
          },
          "execution_count": 277,
          "metadata": {},
          "output_type": "execute_result"
        }
      ],
      "source": [
        "df.ConvertedComp"
      ]
    },
    {
      "cell_type": "code",
      "execution_count": 278,
      "metadata": {},
      "outputs": [
        {
          "data": {
            "image/png": "[encoded data removed]",
            "text/plain": [
              "<Figure size 500x500 with 1 Axes>"
            ]
          },
          "metadata": {},
          "output_type": "display_data"
        }
      ],
      "source": [
        "# Plot the distribution curve for the column ConvertedComp\n",
        "sns.displot(df,x='ConvertedComp')\n",
        "plt.show()"
      ]
    },
    {
      "cell_type": "code",
      "execution_count": 279,
      "metadata": {},
      "outputs": [
        {
          "data": {
            "image/png": "[encoded data removed]",
            "text/plain": [
              "<Figure size 640x480 with 1 Axes>"
            ]
          },
          "metadata": {},
          "output_type": "display_data"
        }
      ],
      "source": [
        "#Plot the histogram for the column `ConvertedComp`.\n",
        "\n",
        "sns.histplot(df,x='ConvertedComp',bins=20)\n",
        "plt.show()"
      ]
    },
    {
      "cell_type": "code",
      "execution_count": 280,
      "metadata": {},
      "outputs": [
        {
          "data": {
            "text/plain": [
              "57745.0"
            ]
          },
          "execution_count": 280,
          "metadata": {},
          "output_type": "execute_result"
        }
      ],
      "source": [
        "# What is the median of the column ConvertedComp?\n",
        "\n",
        "df.ConvertedComp.median()"
      ]
    },
    {
      "cell_type": "code",
      "execution_count": 281,
      "metadata": {},
      "outputs": [
        {
          "data": {
            "text/plain": [
              "29.0"
            ]
          },
          "execution_count": 281,
          "metadata": {},
          "output_type": "execute_result"
        }
      ],
      "source": [
        "df.Age.median()"
      ]
    },
    {
      "cell_type": "code",
      "execution_count": 282,
      "metadata": {},
      "outputs": [
        {
          "data": {
            "text/plain": [
              "Gender\n",
              "Man                                                            10480\n",
              "Woman                                                            731\n",
              "Non-binary, genderqueer, or gender non-conforming                 63\n",
              "Man;Non-binary, genderqueer, or gender non-conforming             26\n",
              "Woman;Non-binary, genderqueer, or gender non-conforming           14\n",
              "Woman;Man                                                          9\n",
              "Woman;Man;Non-binary, genderqueer, or gender non-conforming        2\n",
              "Name: count, dtype: int64"
            ]
          },
          "execution_count": 282,
          "metadata": {},
          "output_type": "execute_result"
        }
      ],
      "source": [
        "#How many responders identified themselves only as a Man?\n",
        "df.Gender.value_counts()"
      ]
    },
    {
      "cell_type": "code",
      "execution_count": 283,
      "metadata": {},
      "outputs": [
        {
          "data": {
            "text/plain": [
              "57708.0"
            ]
          },
          "execution_count": 283,
          "metadata": {},
          "output_type": "execute_result"
        }
      ],
      "source": [
        "#Find out the median ConvertedComp of responders identified themselves only as a Woman?\n",
        "\n",
        "df[df.Gender=='Woman'].ConvertedComp.median()"
      ]
    },
    {
      "cell_type": "code",
      "execution_count": 284,
      "metadata": {},
      "outputs": [
        {
          "data": {
            "text/plain": [
              "<Axes: xlabel='Age'>"
            ]
          },
          "execution_count": 284,
          "metadata": {},
          "output_type": "execute_result"
        },
        {
          "data": {
            "image/png": "[encoded data removed]",
            "text/plain": [
              "<Figure size 640x480 with 1 Axes>"
            ]
          },
          "metadata": {},
          "output_type": "display_data"
        }
      ],
      "source": [
        "sns.boxplot(data=df,x='Age')"
      ]
    },
    {
      "cell_type": "code",
      "execution_count": 285,
      "metadata": {},
      "outputs": [
        {
          "data": {
            "text/plain": [
              "dtype('float64')"
            ]
          },
          "execution_count": 285,
          "metadata": {},
          "output_type": "execute_result"
        }
      ],
      "source": [
        "df.Age.dtypes"
      ]
    },
    {
      "cell_type": "code",
      "execution_count": null,
      "metadata": {},
      "outputs": [],
      "source": []
    },
    {
      "cell_type": "code",
      "execution_count": 286,
      "metadata": {},
      "outputs": [],
      "source": [
        "df.Age=df.Age.replace(np.nan,df.Age.median())"
      ]
    },
    {
      "cell_type": "code",
      "execution_count": 287,
      "metadata": {},
      "outputs": [
        {
          "data": {
            "text/plain": [
              "(16.0, 26.0, 29.0, 34.0, 99.0)"
            ]
          },
          "execution_count": 287,
          "metadata": {},
          "output_type": "execute_result"
        }
      ],
      "source": [
        "q1=np.percentile(df['Age'],25)\n",
        "q3=np.percentile(df['Age'],75)\n",
        "q2=df.Age.median()\n",
        "minimum=df.Age.min()\n",
        "maximum=df.Age.max()\n",
        "\n",
        "minimum,q1,q2,q3,maximum"
      ]
    },
    {
      "cell_type": "code",
      "execution_count": 288,
      "metadata": {},
      "outputs": [
        {
          "data": {
            "image/png": "[encoded data removed]",
            "text/plain": [
              "<Figure size 640x480 with 1 Axes>"
            ]
          },
          "metadata": {},
          "output_type": "display_data"
        }
      ],
      "source": [
        "sns.histplot(data=df,x='Age',bins=20)\n",
        "plt.show()"
      ]
    },
    {
      "cell_type": "code",
      "execution_count": 289,
      "metadata": {},
      "outputs": [
        {
          "data": {
            "text/plain": [
              "57745.0"
            ]
          },
          "execution_count": 289,
          "metadata": {},
          "output_type": "execute_result"
        }
      ],
      "source": [
        "df.ConvertedComp.median()"
      ]
    },
    {
      "cell_type": "code",
      "execution_count": 290,
      "metadata": {},
      "outputs": [],
      "source": [
        "df.ConvertedComp=df.ConvertedComp.replace(np.nan,df.ConvertedComp.median())"
      ]
    },
    {
      "cell_type": "code",
      "execution_count": 291,
      "metadata": {},
      "outputs": [
        {
          "data": {
            "text/plain": [
              "(0.0, 29016.0, 57745.0, 95000.0, 2000000.0)"
            ]
          },
          "execution_count": 291,
          "metadata": {},
          "output_type": "execute_result"
        }
      ],
      "source": [
        "q1=np.percentile(df['ConvertedComp'],25)\n",
        "q3=np.percentile(df['ConvertedComp'],75)\n",
        "q2=df.ConvertedComp.median()\n",
        "minimum=df.ConvertedComp.min()\n",
        "maximum=df.ConvertedComp.max()\n",
        "\n",
        "minimum,q1,q2,q3,maximum"
      ]
    },
    {
      "cell_type": "code",
      "execution_count": 292,
      "metadata": {},
      "outputs": [
        {
          "data": {
            "image/png": "[encoded data removed]",
            "text/plain": [
              "<Figure size 640x480 with 1 Axes>"
            ]
          },
          "metadata": {},
          "output_type": "display_data"
        }
      ],
      "source": [
        "sns.boxplot(data=df,x='ConvertedComp')\n",
        "plt.show()"
      ]
    },
    {
      "cell_type": "code",
      "execution_count": 293,
      "metadata": {},
      "outputs": [],
      "source": [
        "iqr=q3-q1"
      ]
    },
    {
      "cell_type": "code",
      "execution_count": 294,
      "metadata": {},
      "outputs": [],
      "source": [
        "upper_limit=q3+(1.5*iqr)\n",
        "lower_limit=q1-(1.5*iqr)"
      ]
    },
    {
      "cell_type": "code",
      "execution_count": 295,
      "metadata": {},
      "outputs": [
        {
          "data": {
            "text/plain": [
              "933"
            ]
          },
          "execution_count": 295,
          "metadata": {},
          "output_type": "execute_result"
        }
      ],
      "source": [
        "len(df[df.ConvertedComp>upper_limit])"
      ]
    },
    {
      "cell_type": "code",
      "execution_count": 296,
      "metadata": {},
      "outputs": [
        {
          "data": {
            "text/plain": [
              "0"
            ]
          },
          "execution_count": 296,
          "metadata": {},
          "output_type": "execute_result"
        }
      ],
      "source": [
        "len(df[df.ConvertedComp<=lower_limit])"
      ]
    },
    {
      "cell_type": "code",
      "execution_count": 297,
      "metadata": {},
      "outputs": [],
      "source": [
        "dfnew=df[df.ConvertedComp<upper_limit]"
      ]
    },
    {
      "cell_type": "code",
      "execution_count": 298,
      "metadata": {},
      "outputs": [
        {
          "data": {
            "text/plain": [
              "57287.0"
            ]
          },
          "execution_count": 298,
          "metadata": {},
          "output_type": "execute_result"
        }
      ],
      "source": [
        "dfnew.ConvertedComp.median()"
      ]
    },
    {
      "cell_type": "code",
      "execution_count": 299,
      "metadata": {},
      "outputs": [
        {
          "data": {
            "text/html": [
              "<div>\n",
              "<style scoped>\n",
              "    .dataframe tbody tr th:only-of-type {\n",
              "        vertical-align: middle;\n",
              "    }\n",
              "\n",
              "    .dataframe tbody tr th {\n",
              "        vertical-align: top;\n",
              "    }\n",
              "\n",
              "    .dataframe thead th {\n",
              "        text-align: right;\n",
              "    }\n",
              "</style>\n",
              "<table border=\"1\" class=\"dataframe\">\n",
              "  <thead>\n",
              "    <tr style=\"text-align: right;\">\n",
              "      <th></th>\n",
              "      <th>Respondent</th>\n",
              "      <th>CompTotal</th>\n",
              "      <th>ConvertedComp</th>\n",
              "      <th>WorkWeekHrs</th>\n",
              "      <th>CodeRevHrs</th>\n",
              "      <th>Age</th>\n",
              "      <th>NormalizedAnnualCompensation</th>\n",
              "    </tr>\n",
              "  </thead>\n",
              "  <tbody>\n",
              "    <tr>\n",
              "      <th>Respondent</th>\n",
              "      <td>1.000000</td>\n",
              "      <td>-0.013490</td>\n",
              "      <td>0.002468</td>\n",
              "      <td>-0.015314</td>\n",
              "      <td>0.004621</td>\n",
              "      <td>0.004282</td>\n",
              "      <td>0.000372</td>\n",
              "    </tr>\n",
              "    <tr>\n",
              "      <th>CompTotal</th>\n",
              "      <td>-0.013490</td>\n",
              "      <td>1.000000</td>\n",
              "      <td>0.001031</td>\n",
              "      <td>0.003510</td>\n",
              "      <td>0.007063</td>\n",
              "      <td>0.007190</td>\n",
              "      <td>0.862977</td>\n",
              "    </tr>\n",
              "    <tr>\n",
              "      <th>ConvertedComp</th>\n",
              "      <td>0.002468</td>\n",
              "      <td>0.001031</td>\n",
              "      <td>1.000000</td>\n",
              "      <td>0.020489</td>\n",
              "      <td>-0.034760</td>\n",
              "      <td>0.101777</td>\n",
              "      <td>0.012898</td>\n",
              "    </tr>\n",
              "    <tr>\n",
              "      <th>WorkWeekHrs</th>\n",
              "      <td>-0.015314</td>\n",
              "      <td>0.003510</td>\n",
              "      <td>0.020489</td>\n",
              "      <td>1.000000</td>\n",
              "      <td>0.026517</td>\n",
              "      <td>0.036897</td>\n",
              "      <td>0.005783</td>\n",
              "    </tr>\n",
              "    <tr>\n",
              "      <th>CodeRevHrs</th>\n",
              "      <td>0.004621</td>\n",
              "      <td>0.007063</td>\n",
              "      <td>-0.034760</td>\n",
              "      <td>0.026517</td>\n",
              "      <td>1.000000</td>\n",
              "      <td>-0.021086</td>\n",
              "      <td>0.015095</td>\n",
              "    </tr>\n",
              "    <tr>\n",
              "      <th>Age</th>\n",
              "      <td>0.004282</td>\n",
              "      <td>0.007190</td>\n",
              "      <td>0.101777</td>\n",
              "      <td>0.036897</td>\n",
              "      <td>-0.021086</td>\n",
              "      <td>1.000000</td>\n",
              "      <td>-0.004787</td>\n",
              "    </tr>\n",
              "    <tr>\n",
              "      <th>NormalizedAnnualCompensation</th>\n",
              "      <td>0.000372</td>\n",
              "      <td>0.862977</td>\n",
              "      <td>0.012898</td>\n",
              "      <td>0.005783</td>\n",
              "      <td>0.015095</td>\n",
              "      <td>-0.004787</td>\n",
              "      <td>1.000000</td>\n",
              "    </tr>\n",
              "  </tbody>\n",
              "</table>\n",
              "</div>"
            ],
            "text/plain": [
              "                              Respondent  CompTotal  ConvertedComp  \\\n",
              "Respondent                      1.000000  -0.013490       0.002468   \n",
              "CompTotal                      -0.013490   1.000000       0.001031   \n",
              "ConvertedComp                   0.002468   0.001031       1.000000   \n",
              "WorkWeekHrs                    -0.015314   0.003510       0.020489   \n",
              "CodeRevHrs                      0.004621   0.007063      -0.034760   \n",
              "Age                             0.004282   0.007190       0.101777   \n",
              "NormalizedAnnualCompensation    0.000372   0.862977       0.012898   \n",
              "\n",
              "                              WorkWeekHrs  CodeRevHrs       Age  \\\n",
              "Respondent                      -0.015314    0.004621  0.004282   \n",
              "CompTotal                        0.003510    0.007063  0.007190   \n",
              "ConvertedComp                    0.020489   -0.034760  0.101777   \n",
              "WorkWeekHrs                      1.000000    0.026517  0.036897   \n",
              "CodeRevHrs                       0.026517    1.000000 -0.021086   \n",
              "Age                              0.036897   -0.021086  1.000000   \n",
              "NormalizedAnnualCompensation     0.005783    0.015095 -0.004787   \n",
              "\n",
              "                              NormalizedAnnualCompensation  \n",
              "Respondent                                        0.000372  \n",
              "CompTotal                                         0.862977  \n",
              "ConvertedComp                                     0.012898  \n",
              "WorkWeekHrs                                       0.005783  \n",
              "CodeRevHrs                                        0.015095  \n",
              "Age                                              -0.004787  \n",
              "NormalizedAnnualCompensation                      1.000000  "
            ]
          },
          "execution_count": 299,
          "metadata": {},
          "output_type": "execute_result"
        }
      ],
      "source": [
        "df.select_dtypes(exclude='object').corr()"
      ]
    },
    {
      "cell_type": "code",
      "execution_count": 300,
      "metadata": {},
      "outputs": [
        {
          "data": {
            "text/plain": [
              "<Axes: xlabel='ConvertedComp', ylabel='Count'>"
            ]
          },
          "execution_count": 300,
          "metadata": {},
          "output_type": "execute_result"
        },
        {
          "data": {
            "image/png": "[encoded data removed]",
            "text/plain": [
              "<Figure size 640x480 with 1 Axes>"
            ]
          },
          "metadata": {},
          "output_type": "display_data"
        }
      ],
      "source": [
        "sns.histplot(df,x='ConvertedComp')"
      ]
    },
    {
      "cell_type": "code",
      "execution_count": 301,
      "metadata": {},
      "outputs": [
        {
          "data": {
            "text/plain": [
              "<Axes: xlabel='Age'>"
            ]
          },
          "execution_count": 301,
          "metadata": {},
          "output_type": "execute_result"
        },
        {
          "data": {
            "image/png": "[encoded data removed]",
            "text/plain": [
              "<Figure size 640x480 with 1 Axes>"
            ]
          },
          "metadata": {},
          "output_type": "display_data"
        }
      ],
      "source": [
        "sns.boxplot(df,x='Age')"
      ]
    },
    {
      "cell_type": "code",
      "execution_count": 302,
      "metadata": {},
      "outputs": [
        {
          "data": {
            "text/plain": [
              "<Axes: xlabel='WorkWeekHrs', ylabel='WorkWeekHrs'>"
            ]
          },
          "execution_count": 302,
          "metadata": {},
          "output_type": "execute_result"
        },
        {
          "data": {
            "image/png": "[encoded data removed]",
            "text/plain": [
              "<Figure size 640x480 with 1 Axes>"
            ]
          },
          "metadata": {},
          "output_type": "display_data"
        }
      ],
      "source": [
        "sns.scatterplot(data=df,x='WorkWeekHrs',y='WorkWeekHrs')"
      ]
    },
    {
      "cell_type": "code",
      "execution_count": 303,
      "metadata": {},
      "outputs": [
        {
          "data": {
            "text/plain": [
              "<Axes: xlabel='WorkWeekHrs', ylabel='WorkWeekHrs'>"
            ]
          },
          "execution_count": 303,
          "metadata": {},
          "output_type": "execute_result"
        },
        {
          "data": {
            "image/png": "[encoded data removed]",
            "text/plain": [
              "<Figure size 640x480 with 1 Axes>"
            ]
          },
          "metadata": {},
          "output_type": "display_data"
        }
      ],
      "source": [
        "sns.scatterplot(data=df,x='WorkWeekHrs',y='WorkWeekHrs',size='Age')"
      ]
    },
    {
      "cell_type": "code",
      "execution_count": 305,
      "metadata": {},
      "outputs": [
        {
          "data": {
            "text/plain": [
              "Index(['Respondent', 'MainBranch', 'Hobbyist', 'OpenSourcer', 'OpenSource',\n",
              "       'Employment', 'Country', 'Student', 'EdLevel', 'UndergradMajor',\n",
              "       'EduOther', 'OrgSize', 'DevType', 'YearsCode', 'Age1stCode',\n",
              "       'YearsCodePro', 'CareerSat', 'JobSat', 'MgrIdiot', 'MgrMoney',\n",
              "       'MgrWant', 'JobSeek', 'LastHireDate', 'LastInt', 'FizzBuzz',\n",
              "       'JobFactors', 'ResumeUpdate', 'CurrencySymbol', 'CurrencyDesc',\n",
              "       'CompTotal', 'CompFreq', 'ConvertedComp', 'WorkWeekHrs', 'WorkPlan',\n",
              "       'WorkChallenge', 'WorkRemote', 'WorkLoc', 'ImpSyn', 'CodeRev',\n",
              "       'CodeRevHrs', 'UnitTests', 'PurchaseHow', 'PurchaseWhat',\n",
              "       'LanguageWorkedWith', 'LanguageDesireNextYear', 'DatabaseWorkedWith',\n",
              "       'DatabaseDesireNextYear', 'PlatformWorkedWith',\n",
              "       'PlatformDesireNextYear', 'WebFrameWorkedWith',\n",
              "       'WebFrameDesireNextYear', 'MiscTechWorkedWith',\n",
              "       'MiscTechDesireNextYear', 'DevEnviron', 'OpSys', 'Containers',\n",
              "       'BlockchainOrg', 'BlockchainIs', 'BetterLife', 'ITperson', 'OffOn',\n",
              "       'SocialMedia', 'Extraversion', 'ScreenName', 'SOVisit1st',\n",
              "       'SOVisitFreq', 'SOVisitTo', 'SOFindAnswer', 'SOTimeSaved',\n",
              "       'SOHowMuchTime', 'SOAccount', 'SOPartFreq', 'SOJobs', 'EntTeams',\n",
              "       'SOComm', 'WelcomeChange', 'SONewContent', 'Age', 'Gender', 'Trans',\n",
              "       'Sexuality', 'Ethnicity', 'Dependents', 'SurveyLength', 'SurveyEase',\n",
              "       'NormalizedAnnualCompensation'],\n",
              "      dtype='object')"
            ]
          },
          "execution_count": 305,
          "metadata": {},
          "output_type": "execute_result"
        }
      ],
      "source": [
        "df.columns"
      ]
    },
    {
      "cell_type": "code",
      "execution_count": 313,
      "metadata": {},
      "outputs": [
        {
          "data": {
            "text/plain": [
              "<Axes: ylabel='count'>"
            ]
          },
          "execution_count": 313,
          "metadata": {},
          "output_type": "execute_result"
        },
        {
          "data": {
            "image/png": "[encoded data removed]",
            "text/plain": [
              "<Figure size 640x480 with 1 Axes>"
            ]
          },
          "metadata": {},
          "output_type": "display_data"
        }
      ],
      "source": [
        "df.DatabaseDesireNextYear.value_counts().head().plot(kind='pie',autopct='%1.2f%%')"
      ]
    },
    {
      "cell_type": "code",
      "execution_count": 336,
      "metadata": {},
      "outputs": [],
      "source": [
        "df_new=df[(df.Age>=30) & (df.Age<=35)]"
      ]
    },
    {
      "cell_type": "code",
      "execution_count": 337,
      "metadata": {},
      "outputs": [
        {
          "data": {
            "text/plain": [
              "CodeRevHrs    4.0\n",
              "dtype: float64"
            ]
          },
          "execution_count": 337,
          "metadata": {},
          "output_type": "execute_result"
        }
      ],
      "source": [
        "df_new[['CodeRevHrs']].median()"
      ]
    },
    {
      "cell_type": "code",
      "execution_count": 339,
      "metadata": {},
      "outputs": [],
      "source": [
        "dfnew=pd.DataFrame()"
      ]
    },
    {
      "cell_type": "code",
      "execution_count": 340,
      "metadata": {},
      "outputs": [],
      "source": [
        "dfnew['WorkWeekHrs']=df_new[['WorkWeekHrs']].median()\n",
        "dfnew['CodeRevHrs']=df_new['CodeRevHrs'].median()\n"
      ]
    },
    {
      "cell_type": "code",
      "execution_count": 341,
      "metadata": {},
      "outputs": [
        {
          "data": {
            "text/html": [
              "<div>\n",
              "<style scoped>\n",
              "    .dataframe tbody tr th:only-of-type {\n",
              "        vertical-align: middle;\n",
              "    }\n",
              "\n",
              "    .dataframe tbody tr th {\n",
              "        vertical-align: top;\n",
              "    }\n",
              "\n",
              "    .dataframe thead th {\n",
              "        text-align: right;\n",
              "    }\n",
              "</style>\n",
              "<table border=\"1\" class=\"dataframe\">\n",
              "  <thead>\n",
              "    <tr style=\"text-align: right;\">\n",
              "      <th></th>\n",
              "      <th>WorkWeekHrs</th>\n",
              "      <th>CodeRevHrs</th>\n",
              "    </tr>\n",
              "  </thead>\n",
              "  <tbody>\n",
              "    <tr>\n",
              "      <th>WorkWeekHrs</th>\n",
              "      <td>40.0</td>\n",
              "      <td>4.0</td>\n",
              "    </tr>\n",
              "  </tbody>\n",
              "</table>\n",
              "</div>"
            ],
            "text/plain": [
              "             WorkWeekHrs  CodeRevHrs\n",
              "WorkWeekHrs         40.0         4.0"
            ]
          },
          "execution_count": 341,
          "metadata": {},
          "output_type": "execute_result"
        }
      ],
      "source": [
        "dfnew"
      ]
    },
    {
      "cell_type": "code",
      "execution_count": 343,
      "metadata": {},
      "outputs": [
        {
          "data": {
            "text/plain": [
              "<Axes: >"
            ]
          },
          "execution_count": 343,
          "metadata": {},
          "output_type": "execute_result"
        },
        {
          "data": {
            "image/png": "[encoded data removed]",
            "text/plain": [
              "<Figure size 640x480 with 1 Axes>"
            ]
          },
          "metadata": {},
          "output_type": "display_data"
        }
      ],
      "source": [
        "dfnew.plot(kind='bar',color=['Blue', 'Yellow'], stacked=True)"
      ]
    },
    {
      "cell_type": "markdown",
      "metadata": {},
      "source": [
        "## Authors\n"
      ]
    },
    {
      "cell_type": "markdown",
      "metadata": {},
      "source": [
        "Ramesh Sannareddy\n"
      ]
    },
    {
      "cell_type": "markdown",
      "metadata": {},
      "source": [
        "### Other Contributors\n"
      ]
    },
    {
      "cell_type": "markdown",
      "metadata": {},
      "source": [
        "Rav Ahuja\n"
      ]
    },
    {
      "cell_type": "markdown",
      "metadata": {},
      "source": [
        "## Change Log\n"
      ]
    },
    {
      "cell_type": "markdown",
      "metadata": {},
      "source": [
        "| Date (YYYY-MM-DD) | Version | Changed By        | Change Description                 |\n",
        "| ----------------- | ------- | ----------------- | ---------------------------------- |\n",
        "| 2020-10-17        | 0.1     | Ramesh Sannareddy | Created initial version of the lab |\n"
      ]
    },
    {
      "cell_type": "markdown",
      "metadata": {},
      "source": [
        " Copyright © 2020 IBM Corporation. This notebook and its source code are released under the terms of the [MIT License](https://cognitiveclass.ai/mit-license?utm_medium=Exinfluencer&utm_source=Exinfluencer&utm_content=000026UJ&utm_term=10006555&utm_id=NA-SkillsNetwork-Channel-SkillsNetworkCoursesIBMDA0321ENSkillsNetwork928-2022-01-01&cm_mmc=Email_Newsletter-_-Developer_Ed%2BTech-_-WW_WW-_-SkillsNetwork-Courses-IBM-DA0321EN-SkillsNetwork-21426264&cm_mmca1=000026UJ&cm_mmca2=10006555&cm_mmca3=M12345678&cvosrc=email.Newsletter.M12345678&cvo_campaign=000026UJ).\n"
      ]
    }
  ],
  "metadata": {
    "kernelspec": {
      "display_name": "Python 3",
      "language": "python",
      "name": "python3"
    },
    "language_info": {
      "codemirror_mode": {
        "name": "ipython",
        "version": 3
      },
      "file_extension": ".py",
      "mimetype": "text/x-python",
      "name": "python",
      "nbconvert_exporter": "python",
      "pygments_lexer": "ipython3",
      "version": "3.11.8"
    },
    "prev_pub_hash": "955deb52b02eec3e16e61df584232f2cc045079d697f475cb65582dbfebe300c"
  },
  "nbformat": 4,
  "nbformat_minor": 4
}
