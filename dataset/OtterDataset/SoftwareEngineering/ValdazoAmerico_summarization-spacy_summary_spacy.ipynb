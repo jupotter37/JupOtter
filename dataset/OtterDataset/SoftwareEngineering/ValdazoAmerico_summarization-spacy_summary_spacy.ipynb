{
  "nbformat": 4,
  "nbformat_minor": 0,
  "metadata": {
    "colab": {
      "name": "summary-spacy.ipynb",
      "provenance": [],
      "collapsed_sections": [],
      "authorship_tag": "ABX9TyM8nI+6vKzx9otJzk9PszuY",
      "include_colab_link": true
    },
    "kernelspec": {
      "name": "python3",
      "display_name": "Python 3"
    },
    "language_info": {
      "name": "python"
    }
  },
  "cells": [
    {
      "cell_type": "markdown",
      "metadata": {
        "id": "view-in-github",
        "colab_type": "text"
      },
      "source": [
        "<a href=\"https://colab.research.google.com/github/ValdazoAmerico/summarization-spacy/blob/main/summary_spacy.ipynb\" target=\"_parent\"><img src=\"https://colab.research.google.com/assets/colab-badge.svg\" alt=\"Open In Colab\"/></a>"
      ]
    },
    {
      "cell_type": "code",
      "metadata": {
        "id": "KC_q6masfqUY"
      },
      "source": [
        "import spacy"
      ],
      "execution_count": null,
      "outputs": []
    },
    {
      "cell_type": "code",
      "metadata": {
        "colab": {
          "base_uri": "https://localhost:8080/"
        },
        "id": "40AZxAiyfsC5",
        "outputId": "d5f5a83d-3c70-45ba-9e1b-0d26109da091"
      },
      "source": [
        "from spacy.lang.en.stop_words import STOP_WORDS\n",
        "from string import punctuation\n",
        "\n",
        "text = \"\"\"\n",
        "Artificial intelligence (AI) is intelligence demonstrated by machines, unlike the natural intelligence displayed by humans and animals, which involves consciousness and emotionality. The distinction between the former and the latter categories is often revealed by the acronym chosen. 'Strong' AI is usually labelled as artificial general intelligence (AGI) while attempts to emulate 'natural' intelligence have been called artificial biological intelligence (ABI). Leading AI textbooks define the field as the study of \"intelligent agents\": any device that perceives its environment and takes actions that maximize its chance of achieving its goals.[3] Colloquially, the term \"artificial intelligence\" is often used to describe machines that mimic \"cognitive\" functions that humans associate with the human mind, such as \"learning\" and \"problem solving\".[4]\n",
        "\n",
        "As machines become increasingly capable, tasks considered to require \"intelligence\" are often removed from the definition of AI, a phenomenon known as the AI effect.[5] A quip in Tesler's Theorem says \"AI is whatever hasn't been done yet.\"[6] For instance, optical character recognition is frequently excluded from things considered to be AI,[7] having become a routine technology.[8] Modern machine capabilities generally classified as AI include successfully understanding human speech,[9] competing at the highest level in strategic game systems (such as chess and Go),[10] and also imperfect-information games like poker,[11] self-driving cars, intelligent routing in content delivery networks, and military simulations.[12]\n",
        "\n",
        "Artificial intelligence was founded as an academic discipline in 1955, and in the years since has experienced several waves of optimism,[13][14] followed by disappointment and the loss of funding (known as an \"AI winter\"),[15][16] followed by new approaches, success and renewed funding.[14][17] After AlphaGo defeated a professional Go player in 2015, artificial intelligence once again attracted widespread global attention.[18] For most of its history, AI research has been divided into sub-fields that often fail to communicate with each other.[19] These sub-fields are based on technical considerations, such as particular goals (e.g. \"robotics\" or \"machine learning\"),[20] the use of particular tools (\"logic\" or artificial neural networks), or deep philosophical differences.[23][24][25] Sub-fields have also been based on social factors (particular institutions or the work of particular researchers).[19]\n",
        "\n",
        "The traditional problems (or goals) of AI research include reasoning, knowledge representation, planning, learning, natural language processing, perception and the ability to move and manipulate objects.[20] AGI is among the field's long-term goals.[26] Approaches include statistical methods, computational intelligence, and traditional symbolic AI. Many tools are used in AI, including versions of search and mathematical optimization, artificial neural networks, and methods based on statistics, probability and economics. The AI field draws upon computer science, information engineering, mathematics, psychology, linguistics, philosophy, and many other fields.\n",
        "\n",
        "The field was founded on the assumption that human intelligence \"can be so precisely described that a machine can be made to simulate it\".[27] This raises philosophical arguments about the mind and the ethics of creating artificial beings endowed with human-like intelligence. These issues have been explored by myth, fiction and philosophy since antiquity.[32] Some people also consider AI to be a danger to humanity if it progresses unabated.[33][34] Others believe that AI, unlike previous technological revolutions, will create a risk of mass unemployment.[35]\n",
        "\n",
        "In the twenty-first century, AI techniques have experienced a resurgence following concurrent advances in computer power, large amounts of data, and theoretical understanding; and AI techniques have become an essential part of the technology industry, helping to solve many challenging problems in computer science, software engineering and operations\n",
        "\"\"\"\n",
        "\n",
        "stop_words = list(STOP_WORDS)\n",
        "print(stop_words)\n",
        "nlp = spacy.load('en_core_web_sm')\n",
        "doc = nlp(text)"
      ],
      "execution_count": null,
      "outputs": [
        {
          "output_type": "stream",
          "text": [
            "['moreover', 'the', 'although', '‘s', 'almost', 'themselves', 'upon', 'amount', 'along', 'quite', 'becomes', 'n’t', 'between', 'it', 'from', 'no', 'seemed', 'front', 'hundred', 'several', 'sometimes', 'an', 'hereafter', 'everyone', 'its', \"'d\", 'four', 'i', 'ever', 'neither', 'while', 'latterly', 'myself', 'being', 'unless', 'full', 'somewhere', 'whose', 'beside', 'whatever', 'over', 'could', 'nobody', 'last', 'therefore', 'their', 'thru', 'as', '‘m', 'to', 'now', 'am', 'empty', 'must', 'beforehand', 'nothing', 'these', 'both', 'she', 'and', 'since', 'if', 'whoever', 'thereby', 'indeed', 'cannot', 'me', 'with', 'further', 'twenty', 'then', 'some', 'all', 'whereas', 'thence', 'seems', 'five', 'at', 'have', 'on', 'amongst', '’m', 'which', 'bottom', '‘re', 'why', 'nowhere', 'might', 'my', 'among', 'seem', 'when', 'may', 'enough', 'across', \"'s\", \"n't\", 'other', 'us', 'herself', 'again', 'noone', 'something', 'own', 'back', 'that', 'only', 'does', 'just', 'eight', 'so', 'part', 'hereby', 'move', 'take', 'up', 'others', 'everything', 'sometime', 'be', 'else', 'throughout', 'six', 'two', 'about', 'was', 'they', 'except', 'anyway', 'besides', 'until', 'become', 'third', 'your', 'next', 'get', 'rather', 'most', '’ll', 'after', 'before', 'during', 'least', 'nine', 'one', 'show', 'within', 'made', 'through', 'we', 'are', '’re', 'always', 'is', 'already', 'hereupon', 'via', 'he', 'therein', 'without', '‘ll', 'per', '’d', 'a', 'into', 'serious', '‘ve', 'herein', 'another', 'afterwards', 'ten', 'yet', 'say', 'whereby', 'or', 'wherever', 'even', 'side', 'however', 'been', 'each', 'by', 'mostly', \"'ve\", 'ours', 'go', 'anywhere', 'who', 'below', 'those', 'were', 'few', 'ourselves', 'his', 'mine', 'first', 'once', 'can', 're', 'either', 'due', 'too', 'had', 'often', 'him', 'never', 'n‘t', 'not', '’ve', 'used', 'whereupon', 'put', 'them', 'formerly', 'toward', 'namely', 'doing', 'here', 'various', 'using', 'anyone', 'whither', '‘d', 'fifteen', 'itself', 'our', 'became', 'nevertheless', 'alone', 'did', 'none', 'perhaps', 'off', 'latter', 'behind', 'very', \"'re\", 'seeming', 'there', 'done', 'any', 'yourself', 'around', 'hence', 'twelve', 'himself', 'more', 'yours', 'also', 'three', 'whereafter', 'what', 'really', 'wherein', 'anyhow', 'many', 'because', 'everywhere', 'has', 'meanwhile', 'thereupon', 'should', 'sixty', 'less', 'for', 'above', 'her', 'will', 'see', 'would', 'call', 'of', 'whence', 'anything', 'against', 'whether', 'ca', 'eleven', 'elsewhere', 'how', 'make', '’s', 'but', 'please', 'this', 'out', 'same', 'name', 'together', 'thereafter', 'regarding', 'forty', 'keep', \"'m\", 'you', 'becoming', 'where', 'yourselves', 'hers', 'someone', 'much', 'onto', 'well', \"'ll\", 'somehow', 'nor', 'in', 'though', 'towards', 'beyond', 'under', 'still', 'give', 'down', 'than', 'otherwise', 'fifty', 'whole', 'whom', 'do', 'top', 'thus', 'former', 'whenever', 'every', 'such']\n"
          ],
          "name": "stdout"
        }
      ]
    },
    {
      "cell_type": "code",
      "metadata": {
        "colab": {
          "base_uri": "https://localhost:8080/"
        },
        "id": "7WpI1gYGgKrP",
        "outputId": "38f458b7-f4d3-4de1-ed16-65f56f561cd3"
      },
      "source": [
        "doc"
      ],
      "execution_count": null,
      "outputs": [
        {
          "output_type": "execute_result",
          "data": {
            "text/plain": [
              "\n",
              "Artificial intelligence (AI) is intelligence demonstrated by machines, unlike the natural intelligence displayed by humans and animals, which involves consciousness and emotionality. The distinction between the former and the latter categories is often revealed by the acronym chosen. 'Strong' AI is usually labelled as artificial general intelligence (AGI) while attempts to emulate 'natural' intelligence have been called artificial biological intelligence (ABI). Leading AI textbooks define the field as the study of \"intelligent agents\": any device that perceives its environment and takes actions that maximize its chance of achieving its goals.[3] Colloquially, the term \"artificial intelligence\" is often used to describe machines that mimic \"cognitive\" functions that humans associate with the human mind, such as \"learning\" and \"problem solving\".[4]\n",
              "\n",
              "As machines become increasingly capable, tasks considered to require \"intelligence\" are often removed from the definition of AI, a phenomenon known as the AI effect.[5] A quip in Tesler's Theorem says \"AI is whatever hasn't been done yet.\"[6] For instance, optical character recognition is frequently excluded from things considered to be AI,[7] having become a routine technology.[8] Modern machine capabilities generally classified as AI include successfully understanding human speech,[9] competing at the highest level in strategic game systems (such as chess and Go),[10] and also imperfect-information games like poker,[11] self-driving cars, intelligent routing in content delivery networks, and military simulations.[12]\n",
              "\n",
              "Artificial intelligence was founded as an academic discipline in 1955, and in the years since has experienced several waves of optimism,[13][14] followed by disappointment and the loss of funding (known as an \"AI winter\"),[15][16] followed by new approaches, success and renewed funding.[14][17] After AlphaGo defeated a professional Go player in 2015, artificial intelligence once again attracted widespread global attention.[18] For most of its history, AI research has been divided into sub-fields that often fail to communicate with each other.[19] These sub-fields are based on technical considerations, such as particular goals (e.g. \"robotics\" or \"machine learning\"),[20] the use of particular tools (\"logic\" or artificial neural networks), or deep philosophical differences.[23][24][25] Sub-fields have also been based on social factors (particular institutions or the work of particular researchers).[19]\n",
              "\n",
              "The traditional problems (or goals) of AI research include reasoning, knowledge representation, planning, learning, natural language processing, perception and the ability to move and manipulate objects.[20] AGI is among the field's long-term goals.[26] Approaches include statistical methods, computational intelligence, and traditional symbolic AI. Many tools are used in AI, including versions of search and mathematical optimization, artificial neural networks, and methods based on statistics, probability and economics. The AI field draws upon computer science, information engineering, mathematics, psychology, linguistics, philosophy, and many other fields.\n",
              "\n",
              "The field was founded on the assumption that human intelligence \"can be so precisely described that a machine can be made to simulate it\".[27] This raises philosophical arguments about the mind and the ethics of creating artificial beings endowed with human-like intelligence. These issues have been explored by myth, fiction and philosophy since antiquity.[32] Some people also consider AI to be a danger to humanity if it progresses unabated.[33][34] Others believe that AI, unlike previous technological revolutions, will create a risk of mass unemployment.[35]\n",
              "\n",
              "In the twenty-first century, AI techniques have experienced a resurgence following concurrent advances in computer power, large amounts of data, and theoretical understanding; and AI techniques have become an essential part of the technology industry, helping to solve many challenging problems in computer science, software engineering and operations"
            ]
          },
          "metadata": {
            "tags": []
          },
          "execution_count": 6
        }
      ]
    },
    {
      "cell_type": "code",
      "metadata": {
        "id": "6uaI7JqEgA8D"
      },
      "source": [
        "tokens = [token.text for token in doc]"
      ],
      "execution_count": null,
      "outputs": []
    },
    {
      "cell_type": "code",
      "metadata": {
        "colab": {
          "base_uri": "https://localhost:8080/"
        },
        "id": "B7ztqIBqgIby",
        "outputId": "fc0ca5c6-3144-4f9d-c4f0-bbf521d0fcc2"
      },
      "source": [
        "word_frequencies = {}\n",
        "for word in doc:\n",
        "  if word.text.lower() not in stop_words:\n",
        "    if word.text.lower() not in punctuation:\n",
        "      if word.text not in word_frequencies.keys():\n",
        "        word_frequencies[word.text] = 1\n",
        "      else:\n",
        "        word_frequencies[word.text] += 1\n",
        "print(word_frequencies)"
      ],
      "execution_count": null,
      "outputs": [
        {
          "output_type": "stream",
          "text": [
            "{'\\n': 2, 'Artificial': 2, 'intelligence': 13, 'AI': 17, 'demonstrated': 1, 'machines': 3, 'unlike': 2, 'natural': 3, 'displayed': 1, 'humans': 2, 'animals': 1, 'involves': 1, 'consciousness': 1, 'emotionality': 1, 'distinction': 1, 'categories': 1, 'revealed': 1, 'acronym': 1, 'chosen': 1, 'Strong': 1, 'usually': 1, 'labelled': 1, 'artificial': 7, 'general': 1, 'AGI': 2, 'attempts': 1, 'emulate': 1, 'called': 1, 'biological': 1, 'ABI': 1, 'Leading': 1, 'textbooks': 1, 'define': 1, 'field': 4, 'study': 1, 'intelligent': 2, 'agents': 1, 'device': 1, 'perceives': 1, 'environment': 1, 'takes': 1, 'actions': 1, 'maximize': 1, 'chance': 1, 'achieving': 1, 'goals.[3': 1, 'Colloquially': 1, 'term': 2, 'describe': 1, 'mimic': 1, 'cognitive': 1, 'functions': 1, 'associate': 1, 'human': 4, 'mind': 2, 'learning': 2, 'problem': 1, 'solving\".[4': 1, '\\n\\n': 5, 'increasingly': 1, 'capable': 1, 'tasks': 1, 'considered': 2, 'require': 1, 'removed': 1, 'definition': 1, 'phenomenon': 1, 'known': 2, 'effect.[5': 1, 'quip': 1, 'Tesler': 1, 'Theorem': 1, 'says': 1, '\"[6': 1, 'instance': 1, 'optical': 1, 'character': 1, 'recognition': 1, 'frequently': 1, 'excluded': 1, 'things': 1, 'AI,[7': 1, 'having': 1, 'routine': 1, 'technology.[8': 1, 'Modern': 1, 'machine': 3, 'capabilities': 1, 'generally': 1, 'classified': 1, 'include': 3, 'successfully': 1, 'understanding': 2, 'speech,[9': 1, 'competing': 1, 'highest': 1, 'level': 1, 'strategic': 1, 'game': 1, 'systems': 1, 'chess': 1, 'Go),[10': 1, 'imperfect': 1, 'information': 2, 'games': 1, 'like': 2, 'poker,[11': 1, 'self': 1, 'driving': 1, 'cars': 1, 'routing': 1, 'content': 1, 'delivery': 1, 'networks': 3, 'military': 1, 'simulations.[12': 1, 'founded': 2, 'academic': 1, 'discipline': 1, '1955': 1, 'years': 1, 'experienced': 2, 'waves': 1, 'optimism,[13][14': 1, 'followed': 2, 'disappointment': 1, 'loss': 1, 'funding': 1, 'winter\"),[15][16': 1, 'new': 1, 'approaches': 1, 'success': 1, 'renewed': 1, 'funding.[14][17': 1, 'AlphaGo': 1, 'defeated': 1, 'professional': 1, 'player': 1, '2015': 1, 'attracted': 1, 'widespread': 1, 'global': 1, 'attention.[18': 1, 'history': 1, 'research': 2, 'divided': 1, 'sub': 2, 'fields': 4, 'fail': 1, 'communicate': 1, 'other.[19': 1, 'based': 3, 'technical': 1, 'considerations': 1, 'particular': 4, 'goals': 2, 'e.g.': 1, 'robotics': 1, 'learning\"),[20': 1, 'use': 1, 'tools': 2, 'logic': 1, 'neural': 2, 'deep': 1, 'philosophical': 2, 'differences.[23][24][25': 1, 'Sub': 1, 'social': 1, 'factors': 1, 'institutions': 1, 'work': 1, 'researchers).[19': 1, 'traditional': 2, 'problems': 2, 'reasoning': 1, 'knowledge': 1, 'representation': 1, 'planning': 1, 'language': 1, 'processing': 1, 'perception': 1, 'ability': 1, 'manipulate': 1, 'objects.[20': 1, 'long': 1, 'goals.[26': 1, 'Approaches': 1, 'statistical': 1, 'methods': 2, 'computational': 1, 'symbolic': 1, 'including': 1, 'versions': 1, 'search': 1, 'mathematical': 1, 'optimization': 1, 'statistics': 1, 'probability': 1, 'economics': 1, 'draws': 1, 'computer': 3, 'science': 2, 'engineering': 2, 'mathematics': 1, 'psychology': 1, 'linguistics': 1, 'philosophy': 2, 'assumption': 1, 'precisely': 1, 'described': 1, 'simulate': 1, 'it\".[27': 1, 'raises': 1, 'arguments': 1, 'ethics': 1, 'creating': 1, 'beings': 1, 'endowed': 1, 'issues': 1, 'explored': 1, 'myth': 1, 'fiction': 1, 'antiquity.[32': 1, 'people': 1, 'consider': 1, 'danger': 1, 'humanity': 1, 'progresses': 1, 'unabated.[33][34': 1, 'believe': 1, 'previous': 1, 'technological': 1, 'revolutions': 1, 'create': 1, 'risk': 1, 'mass': 1, 'unemployment.[35': 1, 'century': 1, 'techniques': 2, 'resurgence': 1, 'following': 1, 'concurrent': 1, 'advances': 1, 'power': 1, 'large': 1, 'amounts': 1, 'data': 1, 'theoretical': 1, 'essential': 1, 'technology': 1, 'industry': 1, 'helping': 1, 'solve': 1, 'challenging': 1, 'software': 1, 'operations': 1}\n"
          ],
          "name": "stdout"
        }
      ]
    },
    {
      "cell_type": "code",
      "metadata": {
        "colab": {
          "base_uri": "https://localhost:8080/"
        },
        "id": "sdUfVcmAgOPw",
        "outputId": "de73bb75-3a56-4904-a3e6-2a1ba7c0fa84"
      },
      "source": [
        "max_frequency = max(word_frequencies.values())\n",
        "print(max_frequency)"
      ],
      "execution_count": null,
      "outputs": [
        {
          "output_type": "stream",
          "text": [
            "17\n"
          ],
          "name": "stdout"
        }
      ]
    },
    {
      "cell_type": "code",
      "metadata": {
        "colab": {
          "base_uri": "https://localhost:8080/"
        },
        "id": "bJ_FNBnwg5Em",
        "outputId": "0935949c-8098-4b75-9d8b-c98d7f1248a8"
      },
      "source": [
        "sentence_tokens = [sent for sent in doc.sents]\n",
        "print(sentence_tokens)"
      ],
      "execution_count": null,
      "outputs": [
        {
          "output_type": "stream",
          "text": [
            "[\n",
            "Artificial intelligence (AI) is intelligence demonstrated by machines, unlike the natural intelligence displayed by humans and animals, which involves consciousness and emotionality., The distinction between the former and the latter categories is often revealed by the acronym chosen. ', Strong' AI is usually labelled as artificial general intelligence (AGI) while attempts to emulate 'natural' intelligence have been called artificial biological intelligence (ABI)., Leading AI textbooks define the field as the study of \"intelligent agents\": any device that perceives its environment and takes actions that maximize its chance of achieving its goals.[3], Colloquially, the term \"artificial intelligence\" is often used to describe machines that mimic \"cognitive\" functions that humans associate with the human mind, such as \"learning\" and \"problem solving\".[4]\n",
            "\n",
            ", As machines become increasingly capable, tasks considered to require \"intelligence\" are often removed from the definition of AI, a phenomenon known as the AI effect.[5], A quip in Tesler's Theorem says \"AI is whatever hasn't been done yet., \"[6], For instance, optical character recognition is frequently excluded from things considered to be AI,[7], having become a routine technology.[8], Modern machine capabilities generally classified as AI include successfully understanding human speech,[9] competing at the highest level in strategic game systems (such as chess and Go),[10] and also imperfect-information games like poker,[11], self-driving cars, intelligent routing in content delivery networks, and military simulations.[12]\n",
            "\n",
            ", Artificial intelligence was founded as an academic discipline in 1955, and in the years since has experienced several waves of optimism,[13][14] followed by disappointment and the loss of funding (known as an \"AI winter\"),[15][16] followed by new approaches, success and renewed funding.[14][17], After AlphaGo defeated a professional Go player in 2015, artificial intelligence once again attracted widespread global attention.[18], For most of its history, AI research has been divided into sub-fields that often fail to communicate with each other.[19], These sub-fields are based on technical considerations, such as particular goals, (e.g. \"robotics\" or \"machine learning\"),[20], the use of particular tools (\"logic\" or artificial neural networks), or deep philosophical differences.[23][24][25], Sub-fields have also been based on social factors (particular institutions or the work of particular researchers).[19]\n",
            "\n",
            "The traditional problems (or goals) of AI research include reasoning, knowledge representation, planning, learning, natural language processing, perception and the ability to move and manipulate objects.[20, ] AGI is among the field's long-term goals.[26], Approaches include statistical methods, computational intelligence, and traditional symbolic AI., Many tools are used in AI, including versions of search and mathematical optimization, artificial neural networks, and methods based on statistics, probability and economics., The AI field draws upon computer science, information engineering, mathematics, psychology, linguistics, philosophy, and many other fields.\n",
            "\n",
            ", The field was founded on the assumption that human intelligence \"can be so precisely described that a machine can be made to simulate it\".[27], This raises philosophical arguments about the mind and the ethics of creating artificial beings endowed with human-like intelligence., These issues have been explored by myth, fiction and philosophy since antiquity.[32, ], Some people also consider AI to be a danger to humanity if it progresses unabated.[33][34], Others believe that AI, unlike previous technological revolutions, will create a risk of mass unemployment.[35]\n",
            "\n",
            ", In the twenty-first century, AI techniques have experienced a resurgence following concurrent advances in computer power, large amounts of data, and theoretical understanding; and AI techniques have become an essential part of the technology industry, helping to solve many challenging problems in computer science, software engineering and operations\n",
            "]\n"
          ],
          "name": "stdout"
        }
      ]
    },
    {
      "cell_type": "code",
      "metadata": {
        "colab": {
          "base_uri": "https://localhost:8080/"
        },
        "id": "MeNB7SNkhB-b",
        "outputId": "f06def4c-0fdc-4ad1-fd47-b5b52772a72a"
      },
      "source": [
        "sentence_scores = {}\n",
        "for sent in sentence_tokens:\n",
        "  for word in sent:\n",
        "    if word.text.lower() in word_frequencies.keys():\n",
        "      if sent not in sentence_scores.keys():\n",
        "        sentence_scores[sent] = word_frequencies[word.text.lower()]\n",
        "      else:\n",
        "        sentence_scores[sent] += word_frequencies[word.text.lower()]\n",
        "print(sentence_scores)"
      ],
      "execution_count": null,
      "outputs": [
        {
          "output_type": "stream",
          "text": [
            "{\n",
            "Artificial intelligence (AI) is intelligence demonstrated by machines, unlike the natural intelligence displayed by humans and animals, which involves consciousness and emotionality.: 64, The distinction between the former and the latter categories is often revealed by the acronym chosen. ': 5, Strong' AI is usually labelled as artificial general intelligence (AGI) while attempts to emulate 'natural' intelligence have been called artificial biological intelligence (ABI).: 63, Leading AI textbooks define the field as the study of \"intelligent agents\": any device that perceives its environment and takes actions that maximize its chance of achieving its goals.[3]: 19, Colloquially, the term \"artificial intelligence\" is often used to describe machines that mimic \"cognitive\" functions that humans associate with the human mind, such as \"learning\" and \"problem solving\".[4]\n",
            "\n",
            ": 47, As machines become increasingly capable, tasks considered to require \"intelligence\" are often removed from the definition of AI, a phenomenon known as the AI effect.[5]: 28, A quip in Tesler's Theorem says \"AI is whatever hasn't been done yet.: 2, \"[6]: 1, For instance, optical character recognition is frequently excluded from things considered to be AI,[7]: 9, having become a routine technology.[8]: 3, Modern machine capabilities generally classified as AI include successfully understanding human speech,[9] competing at the highest level in strategic game systems (such as chess and Go),[10] and also imperfect-information games like poker,[11]: 31, self-driving cars, intelligent routing in content delivery networks, and military simulations.[12]\n",
            "\n",
            ": 18, Artificial intelligence was founded as an academic discipline in 1955, and in the years since has experienced several waves of optimism,[13][14] followed by disappointment and the loss of funding (known as an \"AI winter\"),[15][16] followed by new approaches, success and renewed funding.[14][17]: 45, After AlphaGo defeated a professional Go player in 2015, artificial intelligence once again attracted widespread global attention.[18]: 28, For most of its history, AI research has been divided into sub-fields that often fail to communicate with each other.[19]: 13, These sub-fields are based on technical considerations, such as particular goals: 17, (e.g. \"robotics\" or \"machine learning\"),[20]: 6, the use of particular tools (\"logic\" or artificial neural networks), or deep philosophical differences.[23][24][25]: 24, Sub-fields have also been based on social factors (particular institutions or the work of particular researchers).[19]\n",
            "\n",
            "The traditional problems (or goals) of AI research include reasoning, knowledge representation, planning, learning, natural language processing, perception and the ability to move and manipulate objects.[20: 53, ] AGI is among the field's long-term goals.[26]: 8, Approaches include statistical methods, computational intelligence, and traditional symbolic AI.: 24, Many tools are used in AI, including versions of search and mathematical optimization, artificial neural networks, and methods based on statistics, probability and economics.: 27, The AI field draws upon computer science, information engineering, mathematics, psychology, linguistics, philosophy, and many other fields.\n",
            "\n",
            ": 28, The field was founded on the assumption that human intelligence \"can be so precisely described that a machine can be made to simulate it\".[27]: 31, This raises philosophical arguments about the mind and the ethics of creating artificial beings endowed with human-like intelligence.: 36, These issues have been explored by myth, fiction and philosophy since antiquity.[32: 7, Some people also consider AI to be a danger to humanity if it progresses unabated.[33][34]: 6, Others believe that AI, unlike previous technological revolutions, will create a risk of mass unemployment.[35]\n",
            "\n",
            ": 15, In the twenty-first century, AI techniques have experienced a resurgence following concurrent advances in computer power, large amounts of data, and theoretical understanding; and AI techniques have become an essential part of the technology industry, helping to solve many challenging problems in computer science, software engineering and operations\n",
            ": 40}\n"
          ],
          "name": "stdout"
        }
      ]
    },
    {
      "cell_type": "code",
      "metadata": {
        "colab": {
          "base_uri": "https://localhost:8080/"
        },
        "id": "eTfZFyybhSPJ",
        "outputId": "15959630-7873-4426-91f4-e9bd54312462"
      },
      "source": [
        ""
      ],
      "execution_count": null,
      "outputs": [
        {
          "output_type": "stream",
          "text": [
            "9\n"
          ],
          "name": "stdout"
        }
      ]
    },
    {
      "cell_type": "code",
      "metadata": {
        "colab": {
          "base_uri": "https://localhost:8080/",
          "height": 307
        },
        "id": "iMWkeYiDiAh6",
        "outputId": "39d9828d-c3e9-40de-bdbd-df03e0cd06e9"
      },
      "source": [
        "from heapq import nlargest\n",
        "select_length = int(len(sentence_tokens)*0.3)\n",
        "print(select_length)\n",
        "summary = nlargest(select_length, sentence_scores, key = sentence_scores.get)\n",
        "final_summary = [word.text for word in summary]\n",
        "summary = \"\".join(final_summary)\n",
        "summary"
      ],
      "execution_count": null,
      "outputs": [
        {
          "output_type": "stream",
          "text": [
            "9\n"
          ],
          "name": "stdout"
        },
        {
          "output_type": "execute_result",
          "data": {
            "application/vnd.google.colaboratory.intrinsic+json": {
              "type": "string"
            },
            "text/plain": [
              "'\\nArtificial intelligence (AI) is intelligence demonstrated by machines, unlike the natural intelligence displayed by humans and animals, which involves consciousness and emotionality.Strong\\' AI is usually labelled as artificial general intelligence (AGI) while attempts to emulate \\'natural\\' intelligence have been called artificial biological intelligence (ABI).Sub-fields have also been based on social factors (particular institutions or the work of particular researchers).[19]\\n\\nThe traditional problems (or goals) of AI research include reasoning, knowledge representation, planning, learning, natural language processing, perception and the ability to move and manipulate objects.[20Colloquially, the term \"artificial intelligence\" is often used to describe machines that mimic \"cognitive\" functions that humans associate with the human mind, such as \"learning\" and \"problem solving\".[4]\\n\\nArtificial intelligence was founded as an academic discipline in 1955, and in the years since has experienced several waves of optimism,[13][14] followed by disappointment and the loss of funding (known as an \"AI winter\"),[15][16] followed by new approaches, success and renewed funding.[14][17]In the twenty-first century, AI techniques have experienced a resurgence following concurrent advances in computer power, large amounts of data, and theoretical understanding; and AI techniques have become an essential part of the technology industry, helping to solve many challenging problems in computer science, software engineering and operations\\nThis raises philosophical arguments about the mind and the ethics of creating artificial beings endowed with human-like intelligence.Modern machine capabilities generally classified as AI include successfully understanding human speech,[9] competing at the highest level in strategic game systems (such as chess and Go),[10] and also imperfect-information games like poker,[11]The field was founded on the assumption that human intelligence \"can be so precisely described that a machine can be made to simulate it\".[27]'"
            ]
          },
          "metadata": {
            "tags": []
          },
          "execution_count": 33
        }
      ]
    },
    {
      "cell_type": "code",
      "metadata": {
        "colab": {
          "base_uri": "https://localhost:8080/",
          "height": 528
        },
        "id": "-hI4CP4IiEmt",
        "outputId": "31df62b6-b66d-4e5a-8b5f-b1df150df84d"
      },
      "source": [
        "text"
      ],
      "execution_count": null,
      "outputs": [
        {
          "output_type": "execute_result",
          "data": {
            "application/vnd.google.colaboratory.intrinsic+json": {
              "type": "string"
            },
            "text/plain": [
              "'\\nArtificial intelligence (AI) is intelligence demonstrated by machines, unlike the natural intelligence displayed by humans and animals, which involves consciousness and emotionality. The distinction between the former and the latter categories is often revealed by the acronym chosen. \\'Strong\\' AI is usually labelled as artificial general intelligence (AGI) while attempts to emulate \\'natural\\' intelligence have been called artificial biological intelligence (ABI). Leading AI textbooks define the field as the study of \"intelligent agents\": any device that perceives its environment and takes actions that maximize its chance of achieving its goals.[3] Colloquially, the term \"artificial intelligence\" is often used to describe machines that mimic \"cognitive\" functions that humans associate with the human mind, such as \"learning\" and \"problem solving\".[4]\\n\\nAs machines become increasingly capable, tasks considered to require \"intelligence\" are often removed from the definition of AI, a phenomenon known as the AI effect.[5] A quip in Tesler\\'s Theorem says \"AI is whatever hasn\\'t been done yet.\"[6] For instance, optical character recognition is frequently excluded from things considered to be AI,[7] having become a routine technology.[8] Modern machine capabilities generally classified as AI include successfully understanding human speech,[9] competing at the highest level in strategic game systems (such as chess and Go),[10] and also imperfect-information games like poker,[11] self-driving cars, intelligent routing in content delivery networks, and military simulations.[12]\\n\\nArtificial intelligence was founded as an academic discipline in 1955, and in the years since has experienced several waves of optimism,[13][14] followed by disappointment and the loss of funding (known as an \"AI winter\"),[15][16] followed by new approaches, success and renewed funding.[14][17] After AlphaGo defeated a professional Go player in 2015, artificial intelligence once again attracted widespread global attention.[18] For most of its history, AI research has been divided into sub-fields that often fail to communicate with each other.[19] These sub-fields are based on technical considerations, such as particular goals (e.g. \"robotics\" or \"machine learning\"),[20] the use of particular tools (\"logic\" or artificial neural networks), or deep philosophical differences.[23][24][25] Sub-fields have also been based on social factors (particular institutions or the work of particular researchers).[19]\\n\\nThe traditional problems (or goals) of AI research include reasoning, knowledge representation, planning, learning, natural language processing, perception and the ability to move and manipulate objects.[20] AGI is among the field\\'s long-term goals.[26] Approaches include statistical methods, computational intelligence, and traditional symbolic AI. Many tools are used in AI, including versions of search and mathematical optimization, artificial neural networks, and methods based on statistics, probability and economics. The AI field draws upon computer science, information engineering, mathematics, psychology, linguistics, philosophy, and many other fields.\\n\\nThe field was founded on the assumption that human intelligence \"can be so precisely described that a machine can be made to simulate it\".[27] This raises philosophical arguments about the mind and the ethics of creating artificial beings endowed with human-like intelligence. These issues have been explored by myth, fiction and philosophy since antiquity.[32] Some people also consider AI to be a danger to humanity if it progresses unabated.[33][34] Others believe that AI, unlike previous technological revolutions, will create a risk of mass unemployment.[35]\\n\\nIn the twenty-first century, AI techniques have experienced a resurgence following concurrent advances in computer power, large amounts of data, and theoretical understanding; and AI techniques have become an essential part of the technology industry, helping to solve many challenging problems in computer science, software engineering and operations\\n'"
            ]
          },
          "metadata": {
            "tags": []
          },
          "execution_count": 34
        }
      ]
    }
  ]
}