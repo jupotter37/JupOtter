{
 "cells": [
  {
   "cell_type": "code",
   "execution_count": 1,
   "metadata": {},
   "outputs": [],
   "source": [
    "import numpy as np\n",
    "import pandas as pd\n",
    "import spacy\n",
    "import pyterrier as pt\n",
    "import re\n",
    "import os\n",
    "from collections import Counter\n",
    "import random"
   ]
  },
  {
   "attachments": {},
   "cell_type": "markdown",
   "metadata": {},
   "source": [
    "# <span Style='font-family: Georgia, serif; color:orange'> **Create Docset**\n",
    "\n",
    "<span Style='font-family: Georgia, serif; color:orange'>This section only needs to be run if there is no 'final_docset.csv' in the 'final_curriculum_data' folder or if new curriculum data has been added. Otherwise, proceed to 'Create Index' section.\n",
    " </span>"
   ]
  },
  {
   "attachments": {},
   "cell_type": "markdown",
   "metadata": {},
   "source": [
    "### <span Style='font-family: Georgia, serif; color:orange'> **Read in CSVs** </span>"
   ]
  },
  {
   "cell_type": "code",
   "execution_count": 28,
   "metadata": {},
   "outputs": [],
   "source": [
    "nj_df = pd.read_csv('final_curriculum_data\\\\nj_full.csv')\n",
    "in_df = pd.read_csv('final_curriculum_data\\\\in_full.csv')\n",
    "tx_df = pd.read_csv('final_curriculum_data\\\\texas_schools_with_CIPs.csv', index_col=0)\n",
    "va_df = pd.read_csv('final_curriculum_data\\\\virginia_schools_with_CIPs.csv', index_col=0)\n",
    "va_df.columns = [i.lower() for i in va_df.columns]\n",
    "va_df = va_df.drop(columns='course_codes').rename(columns={'course_names':'courses'})\n",
    "bowie_df = pd.read_csv('final_curriculum_data\\\\Bowie_State_Course_and_CIP.csv', index_col=0).drop(columns='Course_Codes')\n",
    "jh_df = pd.read_csv('final_curriculum_data\\\\Hopkins_Course_and_CIP.csv', index_col=0).drop(columns='Course_Codes')\n",
    "isu_df = pd.read_csv('final_curriculum_data\\\\ISU_Course_and_CIP.csv', index_col=0).drop(columns='Codes')\n",
    "uiuc_df = pd.read_csv('final_curriculum_data\\\\UIUC_Course_and_CIP.csv', index_col=0)\n",
    "uiuc_df['degree_level'] = ['undergraduate' if ', B' in i else 'graduate' for i in uiuc_df.Program]\n",
    "memphis_df = pd.read_csv('final_curriculum_data\\\\Memphis_Course_and_CIP.csv', index_col=0).drop(columns='Course_Codes')\n",
    "tsu_df = pd.read_csv('final_curriculum_data\\\\TSU_Course_and_CIP.csv', index_col=0).drop(columns='Course_Codes')\n",
    "cu_df = pd.read_csv('final_curriculum_data\\\\Clemson_Course_and_CIP.csv', index_col=0)\n",
    "cu_df['degree_level'] = ['undergraduate']*len(cu_df)\n",
    "\n",
    "\n",
    "df_list = [nj_df, in_df, tx_df, va_df, bowie_df, jh_df, isu_df, uiuc_df, memphis_df, tsu_df, cu_df]\n",
    "# for i in df_list:\n",
    "#     display(i.head())"
   ]
  },
  {
   "attachments": {},
   "cell_type": "markdown",
   "metadata": {},
   "source": [
    "### <span Style='font-family: Georgia, serif; color:orange'> **Clean, Combine, and Group by CIP** </span>"
   ]
  },
  {
   "cell_type": "code",
   "execution_count": 29,
   "metadata": {},
   "outputs": [],
   "source": [
    "def clean_combine_group(df_list):\n",
    "    total_df = pd.DataFrame()\n",
    "    for i in df_list:\n",
    "        new_cols = []\n",
    "        #standardize column names\n",
    "        for x in range(len(i.columns)):\n",
    "            if 'description' in i.columns[x].lower() or 'descs' in i.columns[x].lower():\n",
    "                new_cols.append('descriptions')\n",
    "            elif 'names' in i.columns[x].lower() or 'titles' in i.columns[x].lower():\n",
    "                new_cols.append('courses')\n",
    "            else:\n",
    "                new_cols.append(i.columns[x].lower())\n",
    "        i.columns = new_cols\n",
    "\n",
    "        #clean program names\n",
    "        cleaned = []\n",
    "        for x in i['program']:\n",
    "            if re.search(', [A-Z]\\..*', x):\n",
    "                cleaned.append(re.match('.*(?=, [A-Z]\\..*)', x)[0].lower())\n",
    "            elif re.search(' \\(.*\\)', x):\n",
    "                cleaned.append(re.sub(' \\(.*\\)', '', x).lower())\n",
    "            else:\n",
    "                cleaned.append(x.lower())\n",
    "        i['program'] = cleaned\n",
    "\n",
    "        #combine\n",
    "        total_df = pd.concat([total_df, i])\n",
    "\n",
    "    cips = [str(i)[1:] if str(i)[0]=='0' else str(i) for i in total_df.cip]\n",
    "    total_df['cip'] = cips\n",
    "\n",
    "    final_dict = {'cip':[], 'institutions':[], 'programs':[],'degree_levels':[], 'courses':[], 'descriptions':[]}\n",
    "    unique_cips = total_df.cip.unique()\n",
    "    for i in unique_cips:\n",
    "        if len(str(i)) > 5 and str(i)[:-2] not in final_dict['cip']:\n",
    "            final_dict['cip'].append(str(i)[:-2])\n",
    "        elif len(str(i)) <= 5 and str(i) not in final_dict['cip']:\n",
    "            final_dict['cip'].append(str(i))\n",
    "    for i in final_dict['cip']:\n",
    "        cip_df = total_df[total_df['cip'].astype(str)==i]\n",
    "        final_dict['institutions'].append(set(cip_df.institution.str.lower()))\n",
    "        final_dict['programs'].append(set(cip_df.program))\n",
    "        final_dict['degree_levels'].append(set(cip_df.degree_level.str.lower()))\n",
    "        final_dict['courses'].append(cip_df.courses.str.cat(sep=' '))\n",
    "        final_dict['descriptions'].append(cip_df.descriptions.str.cat(sep=' '))\n",
    "\n",
    "    final_df = pd.DataFrame(final_dict)\n",
    "    final_df = final_df[~((final_df['descriptions'].isna()) | (final_df['descriptions'] == '') | (final_df['cip']=='nan'))]\n",
    "    return final_df"
   ]
  },
  {
   "cell_type": "code",
   "execution_count": 30,
   "metadata": {},
   "outputs": [
    {
     "data": {
      "text/plain": [
       "cip                                                          45.99\n",
       "institutions                              {bowie state university}\n",
       "programs         {technology - criminal justice/law enforcement...\n",
       "degree_levels                                      {undergraduate}\n",
       "courses          Deviant Behavior | Juvenile Delinquency | Crim...\n",
       "descriptions     Prerequisite(s): SOCI 101. This course examine...\n",
       "Name: 177, dtype: object"
      ]
     },
     "execution_count": 30,
     "metadata": {},
     "output_type": "execute_result"
    }
   ],
   "source": [
    "total_df = clean_combine_group(df_list)\n",
    "total_df.iloc[165]"
   ]
  },
  {
   "attachments": {},
   "cell_type": "markdown",
   "metadata": {},
   "source": [
    "### <span Style='font-family: Georgia, serif; color:orange'> **Clean Courses & Descriptions** </span>"
   ]
  },
  {
   "cell_type": "code",
   "execution_count": 31,
   "metadata": {},
   "outputs": [],
   "source": [
    "def clean_txt(in_df):\n",
    "    nlp = spacy.load('en_core_web_sm')\n",
    "\n",
    "    courses_cleaned = []\n",
    "    descs_cleaned = []\n",
    "\n",
    "    for i, r in in_df.iterrows():\n",
    "        descs = r['descriptions']\n",
    "        courses = r['courses']\n",
    "\n",
    "        desc_no_special = re.sub('[^a-zA-Z ]', '', descs)\n",
    "        courses_no_special = re.sub('[^a-zA-Z ]', '', courses)\n",
    "\n",
    "        clean_descs = \" \".join(token.lemma_ for token in nlp(desc_no_special.lower()) if not token.is_stop and token.has_vector)\n",
    "        clean_courses = \" \".join(token.lemma_ for token in nlp(courses_no_special.lower()) if not token.is_stop and token.has_vector)\n",
    "\n",
    "        descs_cleaned.append(clean_descs)\n",
    "        courses_cleaned.append(clean_courses)\n",
    "\n",
    "    new_df = in_df.copy()\n",
    "    new_df['courses'] = courses_cleaned\n",
    "    new_df['descriptions'] = descs_cleaned\n",
    "\n",
    "    return new_df\n"
   ]
  },
  {
   "cell_type": "code",
   "execution_count": 32,
   "metadata": {},
   "outputs": [],
   "source": [
    "final = clean_txt(total_df)"
   ]
  },
  {
   "cell_type": "code",
   "execution_count": 33,
   "metadata": {},
   "outputs": [],
   "source": [
    "final.to_csv('final_curriculum_data\\\\final_docset.csv')"
   ]
  },
  {
   "attachments": {},
   "cell_type": "markdown",
   "metadata": {},
   "source": [
    "# <span Style='font-family: Georgia, serif; color:orange'> **Create Index** </span>"
   ]
  },
  {
   "cell_type": "code",
   "execution_count": 2,
   "metadata": {},
   "outputs": [
    {
     "name": "stderr",
     "output_type": "stream",
     "text": [
      "PyTerrier 0.9.1 has loaded Terrier 5.7 (built by craigm on 2022-11-10 18:30) and terrier-helper 0.0.7\n",
      "\n"
     ]
    }
   ],
   "source": [
    "if not pt.started():\n",
    "    pt.init()"
   ]
  },
  {
   "cell_type": "code",
   "execution_count": 3,
   "metadata": {},
   "outputs": [],
   "source": [
    "final = pd.read_csv('final_curriculum_data\\\\final_docset.csv', index_col=0)\n",
    "final['cip'] = final['cip'].astype(str)\n",
    "final['docno'] = [i for i in range(1, len(final)+1)]\n",
    "\n",
    "cip_titles = pd.read_csv('final_curriculum_data\\\\cip_names.csv')[['Title', 'CIP Code']]\n",
    "cip_titles['CIP Code'] = [i[2:-1] if i[2] != '0' else i[3:-1] for i in cip_titles['CIP Code']]\n",
    "cip_titles['CIP Code'] = [i[:-1] if i[-1] == '0' else i for i in cip_titles['CIP Code']]\n",
    "final = final[final['cip'].isin(cip_titles['CIP Code'])]"
   ]
  },
  {
   "cell_type": "code",
   "execution_count": 4,
   "metadata": {},
   "outputs": [],
   "source": [
    "cwd = os.getcwd()\n",
    "pt_index_path = cwd + '\\\\curriculum_docs'\n",
    "\n",
    "docset = final.drop(columns=['institutions', 'programs', 'degree_levels'])\n",
    "docset = docset.to_dict(orient='records')\n",
    "\n",
    "if not os.path.exists(pt_index_path + '\\\\data_1.properties'):\n",
    "    indexer = pt.IterDictIndexer(pt_index_path, overwrite=True, meta={'docno': 20, 'cip': 20, 'courses':60000})\n",
    "    index_ref = indexer.index(docset, fields=['descriptions'])\n",
    "else:\n",
    "    index_ref = pt.IndexRef.of(pt_index_path + \"\\\\data_1.properties\")\n",
    "index = pt.IndexFactory.of(index_ref)"
   ]
  },
  {
   "attachments": {},
   "cell_type": "markdown",
   "metadata": {},
   "source": [
    "# <span Style='font-family: Georgia, serif; color:orange'> **Generate Training Data** </span>"
   ]
  },
  {
   "cell_type": "code",
   "execution_count": 5,
   "metadata": {},
   "outputs": [],
   "source": [
    "topic_of_interest = ['Biology','Chemistry','Physics','Mathematics','Computer Science','Engineering','Psychology','Sociology','Anthropology','Political Science',\n",
    "'History','Philosophy','English','Education','Art','Music','Theater','Dance','Journalism','Business','Marketing','Economics','Finance','Accounting',\n",
    "'Management','International Business','Entrepreneurship','Human Resources','Law','Criminal Justice','Forensic Science','Environmental Science','Geology',\n",
    "'Geography','Agriculture','Nutrition','Public Health','Nursing','Medicine','Veterinary Science','Dental Science','Physical Therapy','Occupational Therapy',\n",
    "'Speech Therapy','Social Work','Counseling','Library Science','Archival Studies','Museum Studies','Information Technology','Data Science','Artificial Intelligence',\n",
    "'Machine Learning','Cybersecurity','Cryptography','Web Development','Mobile Development','Game Development','Multimedia','Graphic Design','Interior Design','Fashion Design',\n",
    "'Industrial Design','Urban Planning','Architecture','Construction Management','Real Estate','Surveying','Aerospace Engineering','Mechanical Engineering',\n",
    "'Electrical Engineering','Civil Engineering','Chemical Engineering','Materials Science','Nuclear Engineering','Marine Science','Oceanography','Meteorology',\n",
    "'Astronomy','Zoology','Botany','Ecology','Conservation','Forestry','Horticulture','Landscape Architecture','Sports Science','Kinesiology','Exercise Science','Sports Medicine',\n",
    "'Coaching','Physical Education','Recreation','Tourism','Hospitality','Culinary Arts','Wine Studies','Performing Arts','Creative Writing', \"Agricultural Science\"\n",
    "\"Astrophysics\",\"Behavioral Science\",\"Biochemistry\",\"Biomedical Engineering\",\"Biostatistics\",\"Cognitive Science\",\"Communication Disorders\",\"Comparative Literature\",\"Creative Writing\",\n",
    "\"Criminology\",\"Cultural Studies\",\"Data Analytics\",\"Demography\",\"Developmental Psychology\",\"Digital Humanities\",\"Early Childhood Education\",\"East Asian Studies\",\"Econometrics\",\"Educational Psychology\",\n",
    "\"Electronics Engineering\",\"Energy Studies\",\"Engineering Physics\",\"Entomology\",\"Environmental Engineering\",\"Ethnic Studies\",\"European Studies\",\"Evolutionary Biology\",\"Film Studies\",\"Food Science\",\n",
    "\"French Language and Literature\",\"Gender Studies\",\"Genetics\",\"Geographic Information Systems\",\"German Language and Literature\",\"Global Studies\",\"Health Administration\",\n",
    "\"Healthcare Management\",\"Hispanic Studies\",\"Humanities\",\"Industrial Psychology\",\"Information Science\",\"International Studies\",\"Italian Language and Literature\",\"Jewish Studies\",\"Latin American Studies\",\n",
    "\"Linguistic Anthropology\",\"Marine Biology\",\"Marketing Research\",\"Materials Engineering\",\"Mathematical Biology\",\"Medical Anthropology\",\"Medical Physics\",\n",
    "\"Medical Sociology\",\"Medieval Studies\",\"Microbiology\",\"Middle Eastern Studies\",\"Molecular Biology\",\"Museum Management\",\"Music Education\",\"Neuroscience\",\n",
    "\"Nuclear Physics\",\"Nursing Science\",\"Operations Research\",\"Organic Chemistry\",\"Organizational Psychology\",\"Paleontology\",\"Peace and Conflict Studies\",\"Pediatric Nursing\",\n",
    "\"Philosophy of Science\",\"Physical Chemistry\",\"Physical Oceanography\",\"Plant Science\",\"Polymer Science\",\"Portuguese Language and Literature\",\"Psychobiology\"\"Public Administration\",\n",
    "\"Public Policy\",\"Quantum Physics\",\"Radiation Oncology\",\"Religious Studies\",\"Robotics\",\"Russian Language and Literature\",\"Science and Technology Studies\",\"Science Education\",\n",
    "\"Science Journalism\",\"Science Writing\",\"Social Psychology\",\"Social Statistics\",\"Social Theory\",\"Sociolinguistics\",\"Software Engineering\",\"Spanish Language and Literature\",\"Special Education\",\n",
    "\"Sport Management\",\"Statistics\",\"Structural Engineering\",\"Supply Chain Management\",\"Systems Biology\",\"Theoretical Physics\"]"
   ]
  },
  {
   "cell_type": "code",
   "execution_count": 6,
   "metadata": {},
   "outputs": [],
   "source": [
    "def generate_queries(term_list):\n",
    "    queries = []\n",
    "\n",
    "    for i in range(25):\n",
    "        query_terms = []\n",
    "        k = random.randint(1,5)\n",
    "        for x in range(k):\n",
    "            while True:\n",
    "                term = random.choice(term_list).lower()\n",
    "                if term not in query_terms:\n",
    "                    query_terms.append(term)\n",
    "                    break\n",
    "                else:\n",
    "                    continue\n",
    "\n",
    "        queries.append(query_terms)\n",
    "\n",
    "    return queries"
   ]
  },
  {
   "cell_type": "code",
   "execution_count": 7,
   "metadata": {},
   "outputs": [],
   "source": [
    "def generate_training_data(queries, index, cips, docset, weight_results=True):\n",
    "    bm25 = pt.BatchRetrieve(index, wmodel='BM25')\n",
    "    pl2 = pt.BatchRetrieve(index, wmodel='PL2')\n",
    "\n",
    "    training_dict = {'query':[], 'cip_code':[], 'cip_name':[]}\n",
    "\n",
    "    for i in queries:\n",
    "        total_scores = pd.DataFrame()\n",
    "        for x in i:\n",
    "            results_bm25 = (bm25%50).search(x)\n",
    "            results_pl2 = (pl2%50).search(x)\n",
    "            results_pl2 = results_pl2[~results_pl2['docno'].isin(results_bm25['docno'])]\n",
    "            all_results = pd.concat([results_bm25, results_pl2])\n",
    "            if weight_results == True:\n",
    "                k = i.index(x) + 1\n",
    "                all_results['score'] = all_results['score'] / k\n",
    "\n",
    "            total_scores = pd.concat([total_scores, all_results])\n",
    "\n",
    "        total_scores = total_scores.groupby('docno').sum(numeric_only=True).sort_values('score', ascending=False).head(70)\n",
    "        cip_codes = [docset[docset['docno']==int(i)].iloc[0]['cip'] for i in total_scores.index]\n",
    "        cip_names = [cips[cips['CIP Code']==i].iloc[0]['Title'] for i in cip_codes]\n",
    "\n",
    "        training_dict['query'].extend([' + '.join(i)]*len(total_scores))\n",
    "        training_dict['cip_code'].extend(cip_codes)\n",
    "        training_dict['cip_name'].extend(cip_names)\n",
    "\n",
    "    training_data = pd.DataFrame(training_dict)\n",
    "\n",
    "    return training_data"
   ]
  },
  {
   "cell_type": "code",
   "execution_count": 8,
   "metadata": {},
   "outputs": [],
   "source": [
    "queries = generate_queries(topic_of_interest)\n",
    "training_data = generate_training_data(queries, index, cip_titles, final)"
   ]
  },
  {
   "cell_type": "code",
   "execution_count": 9,
   "metadata": {},
   "outputs": [
    {
     "data": {
      "text/html": [
       "<div>\n",
       "<style scoped>\n",
       "    .dataframe tbody tr th:only-of-type {\n",
       "        vertical-align: middle;\n",
       "    }\n",
       "\n",
       "    .dataframe tbody tr th {\n",
       "        vertical-align: top;\n",
       "    }\n",
       "\n",
       "    .dataframe thead th {\n",
       "        text-align: right;\n",
       "    }\n",
       "</style>\n",
       "<table border=\"1\" class=\"dataframe\">\n",
       "  <thead>\n",
       "    <tr style=\"text-align: right;\">\n",
       "      <th></th>\n",
       "      <th>query</th>\n",
       "      <th>cip_code</th>\n",
       "      <th>cip_name</th>\n",
       "    </tr>\n",
       "  </thead>\n",
       "  <tbody>\n",
       "    <tr>\n",
       "      <th>0</th>\n",
       "      <td>engineering physics + paleontology + software ...</td>\n",
       "      <td>11.04</td>\n",
       "      <td>Information Science/Studies.</td>\n",
       "    </tr>\n",
       "    <tr>\n",
       "      <th>1</th>\n",
       "      <td>engineering physics + paleontology + software ...</td>\n",
       "      <td>50.06</td>\n",
       "      <td>Film/Video and Photographic Arts.</td>\n",
       "    </tr>\n",
       "    <tr>\n",
       "      <th>2</th>\n",
       "      <td>engineering physics + paleontology + software ...</td>\n",
       "      <td>29.02</td>\n",
       "      <td>Intelligence, Command Control and Information ...</td>\n",
       "    </tr>\n",
       "    <tr>\n",
       "      <th>3</th>\n",
       "      <td>engineering physics + paleontology + software ...</td>\n",
       "      <td>1.06</td>\n",
       "      <td>Applied Horticulture and Horticultural Busines...</td>\n",
       "    </tr>\n",
       "    <tr>\n",
       "      <th>4</th>\n",
       "      <td>engineering physics + paleontology + software ...</td>\n",
       "      <td>54.01</td>\n",
       "      <td>History.</td>\n",
       "    </tr>\n",
       "    <tr>\n",
       "      <th>...</th>\n",
       "      <td>...</td>\n",
       "      <td>...</td>\n",
       "      <td>...</td>\n",
       "    </tr>\n",
       "    <tr>\n",
       "      <th>1702</th>\n",
       "      <td>health administration + archival studies</td>\n",
       "      <td>52.13</td>\n",
       "      <td>Management Sciences and Quantitative Methods.</td>\n",
       "    </tr>\n",
       "    <tr>\n",
       "      <th>1703</th>\n",
       "      <td>health administration + archival studies</td>\n",
       "      <td>1.01</td>\n",
       "      <td>Agricultural Business and Management.</td>\n",
       "    </tr>\n",
       "    <tr>\n",
       "      <th>1704</th>\n",
       "      <td>health administration + archival studies</td>\n",
       "      <td>1.06</td>\n",
       "      <td>Applied Horticulture and Horticultural Busines...</td>\n",
       "    </tr>\n",
       "    <tr>\n",
       "      <th>1705</th>\n",
       "      <td>health administration + archival studies</td>\n",
       "      <td>43.01</td>\n",
       "      <td>Criminal Justice and Corrections.</td>\n",
       "    </tr>\n",
       "    <tr>\n",
       "      <th>1706</th>\n",
       "      <td>health administration + archival studies</td>\n",
       "      <td>31.05</td>\n",
       "      <td>Sports, Kinesiology, and Physical Education/Fi...</td>\n",
       "    </tr>\n",
       "  </tbody>\n",
       "</table>\n",
       "<p>1707 rows × 3 columns</p>\n",
       "</div>"
      ],
      "text/plain": [
       "                                                  query cip_code  \\\n",
       "0     engineering physics + paleontology + software ...    11.04   \n",
       "1     engineering physics + paleontology + software ...    50.06   \n",
       "2     engineering physics + paleontology + software ...    29.02   \n",
       "3     engineering physics + paleontology + software ...     1.06   \n",
       "4     engineering physics + paleontology + software ...    54.01   \n",
       "...                                                 ...      ...   \n",
       "1702           health administration + archival studies    52.13   \n",
       "1703           health administration + archival studies     1.01   \n",
       "1704           health administration + archival studies     1.06   \n",
       "1705           health administration + archival studies    43.01   \n",
       "1706           health administration + archival studies    31.05   \n",
       "\n",
       "                                               cip_name  \n",
       "0                          Information Science/Studies.  \n",
       "1                     Film/Video and Photographic Arts.  \n",
       "2     Intelligence, Command Control and Information ...  \n",
       "3     Applied Horticulture and Horticultural Busines...  \n",
       "4                                              History.  \n",
       "...                                                 ...  \n",
       "1702      Management Sciences and Quantitative Methods.  \n",
       "1703              Agricultural Business and Management.  \n",
       "1704  Applied Horticulture and Horticultural Busines...  \n",
       "1705                  Criminal Justice and Corrections.  \n",
       "1706  Sports, Kinesiology, and Physical Education/Fi...  \n",
       "\n",
       "[1707 rows x 3 columns]"
      ]
     },
     "execution_count": 9,
     "metadata": {},
     "output_type": "execute_result"
    }
   ],
   "source": [
    "training_data"
   ]
  },
  {
   "cell_type": "code",
   "execution_count": null,
   "metadata": {},
   "outputs": [],
   "source": []
  }
 ],
 "metadata": {
  "kernelspec": {
   "display_name": "Python 3",
   "language": "python",
   "name": "python3"
  },
  "language_info": {
   "codemirror_mode": {
    "name": "ipython",
    "version": 3
   },
   "file_extension": ".py",
   "mimetype": "text/x-python",
   "name": "python",
   "nbconvert_exporter": "python",
   "pygments_lexer": "ipython3",
   "version": "3.10.8"
  },
  "orig_nbformat": 4
 },
 "nbformat": 4,
 "nbformat_minor": 2
}
