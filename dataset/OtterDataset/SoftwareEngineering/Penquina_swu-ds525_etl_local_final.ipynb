{
 "cells": [
  {
   "cell_type": "markdown",
   "metadata": {},
   "source": [
    "ETL with Spark (Local)"
   ]
  },
  {
   "cell_type": "code",
   "execution_count": 28,
   "metadata": {},
   "outputs": [],
   "source": [
    "from pyspark.sql import SparkSession\n",
    "# from pyspark.sql.types import StructType, StructField, DoubleType, StringType, IntegerType, DateType, TimestampType\n",
    "\n",
    "# import pyspark.sql.functions as F"
   ]
  },
  {
   "cell_type": "code",
   "execution_count": 29,
   "metadata": {},
   "outputs": [],
   "source": [
    "import pandas as pd\n",
    "import glob"
   ]
  },
  {
   "cell_type": "code",
   "execution_count": 30,
   "metadata": {},
   "outputs": [],
   "source": [
    "p = glob.glob(\"data/*.csv\")"
   ]
  },
  {
   "cell_type": "code",
   "execution_count": 31,
   "metadata": {},
   "outputs": [
    {
     "data": {
      "text/plain": [
       "['data/HRDataset_v14.csv']"
      ]
     },
     "execution_count": 31,
     "metadata": {},
     "output_type": "execute_result"
    }
   ],
   "source": [
    "p"
   ]
  },
  {
   "cell_type": "code",
   "execution_count": 32,
   "metadata": {},
   "outputs": [],
   "source": [
    "data = \"HRDataset_v14.csv\""
   ]
  },
  {
   "cell_type": "code",
   "execution_count": 33,
   "metadata": {},
   "outputs": [],
   "source": [
    "spark = SparkSession.builder \\\n",
    "    .appName(\"ETL\") \\\n",
    "    .getOrCreate()"
   ]
  },
  {
   "cell_type": "code",
   "execution_count": 34,
   "metadata": {},
   "outputs": [],
   "source": [
    "data_folder = \"data\""
   ]
  },
  {
   "cell_type": "code",
   "execution_count": 49,
   "metadata": {},
   "outputs": [],
   "source": [
    "data = spark.read.option(\"header\",\"true\").option(\"multiline\", \"true\").csv(data_folder)"
   ]
  },
  {
   "cell_type": "code",
   "execution_count": 50,
   "metadata": {},
   "outputs": [
    {
     "name": "stdout",
     "output_type": "stream",
     "text": [
      "+--------------------+-----+---------+---------------+--------+-----------+------+-----------+----------------------+------+-----+----------+--------------------+-----+-----+--------+---+-----------+-------------------+--------------+--------------------+----------+-----------------+-----------------+--------------------+--------------------+---------------+---------+--------------------+----------------+----------------+---------------+--------------------+--------------------------+--------------+--------+\n",
      "|       Employee_Name|EmpID|MarriedID|MaritalStatusID|GenderID|EmpStatusID|DeptID|PerfScoreID|FromDiversityJobFairID|Salary|Termd|PositionID|            Position|State|  Zip|     DOB|Sex|MaritalDesc|        CitizenDesc|HispanicLatino|            RaceDesc|DateofHire|DateofTermination|       TermReason|    EmploymentStatus|          Department|    ManagerName|ManagerID|   RecruitmentSource|PerformanceScore|EngagementSurvey|EmpSatisfaction|SpecialProjectsCount|LastPerformanceReview_Date|DaysLateLast30|Absences|\n",
      "+--------------------+-----+---------+---------------+--------+-----------+------+-----------+----------------------+------+-----+----------+--------------------+-----+-----+--------+---+-----------+-------------------+--------------+--------------------+----------+-----------------+-----------------+--------------------+--------------------+---------------+---------+--------------------+----------------+----------------+---------------+--------------------+--------------------------+--------------+--------+\n",
      "| Adinolfi, Wilson  K|10026|        0|              0|       1|          1|     5|          4|                     0| 62506|    0|        19|Production Techni...|   MA|01960|07/10/83| M |     Single|         US Citizen|            No|               White|  7/5/2011|             null|N/A-StillEmployed|              Active|   Production       | Michael Albert|       22|            LinkedIn|         Exceeds|            4.60|              5|                   0|                 1/17/2019|             0|       1|\n",
      "|Ait Sidi, Karthik...|10084|        1|              1|       1|          5|     3|          3|                     0|104437|    1|        27|             Sr. DBA|   MA|02148|05/05/75| M |    Married|         US Citizen|            No|               White| 3/30/2015|        6/16/2016|    career change|Voluntarily Termi...|               IT/IS|     Simon Roup|        4|              Indeed|     Fully Meets|            4.96|              3|                   6|                 2/24/2016|             0|      17|\n",
      "|   Akinkuolie, Sarah|10196|        1|              1|       0|          5|     5|          3|                     0| 64955|    1|        20|Production Techni...|   MA|01810|09/19/88|  F|    Married|         US Citizen|            No|               White|  7/5/2011|        9/24/2012|            hours|Voluntarily Termi...|   Production       | Kissy Sullivan|       20|            LinkedIn|     Fully Meets|            3.02|              3|                   0|                 5/15/2012|             0|       3|\n",
      "|        Alagbe,Trina|10088|        1|              1|       0|          1|     5|          3|                     0| 64991|    0|        19|Production Techni...|   MA|01886|09/27/88|  F|    Married|         US Citizen|            No|               White|  1/7/2008|             null|N/A-StillEmployed|              Active|   Production       |   Elijiah Gray|       16|              Indeed|     Fully Meets|            4.84|              5|                   0|                  1/3/2019|             0|      15|\n",
      "|    Anderson, Carol |10069|        0|              2|       0|          5|     5|          3|                     0| 50825|    1|        19|Production Techni...|   MA|02169|09/08/89|  F|   Divorced|         US Citizen|            No|               White| 7/11/2011|         9/6/2016| return to school|Voluntarily Termi...|   Production       | Webster Butler|       39|       Google Search|     Fully Meets|            5.00|              4|                   0|                  2/1/2016|             0|       2|\n",
      "|   Anderson, Linda  |10002|        0|              0|       0|          1|     5|          4|                     0| 57568|    0|        19|Production Techni...|   MA|01844|05/22/77|  F|     Single|         US Citizen|            No|               White|  1/9/2012|             null|N/A-StillEmployed|              Active|   Production       |       Amy Dunn|       11|            LinkedIn|         Exceeds|            5.00|              5|                   0|                  1/7/2019|             0|      15|\n",
      "|     Andreola, Colby|10194|        0|              0|       0|          1|     4|          3|                     0| 95660|    0|        24|   Software Engineer|   MA|02110|05/24/79|  F|     Single|         US Citizen|            No|               White|11/10/2014|             null|N/A-StillEmployed|              Active|Software Engineering|Alex Sweetwater|       10|            LinkedIn|     Fully Meets|            3.04|              3|                   4|                  1/2/2019|             0|      19|\n",
      "|         Athwal, Sam|10062|        0|              4|       1|          1|     5|          3|                     0| 59365|    0|        19|Production Techni...|   MA|02199|02/18/83| M |    Widowed|         US Citizen|            No|               White| 9/30/2013|             null|N/A-StillEmployed|              Active|   Production       |  Ketsia Liebig|       19|   Employee Referral|     Fully Meets|            5.00|              4|                   0|                 2/25/2019|             0|      19|\n",
      "|    Bachiochi, Linda|10114|        0|              0|       0|          3|     5|          3|                     1| 47837|    0|        19|Production Techni...|   MA|01902|02/11/70|  F|     Single|         US Citizen|            No|Black or African ...|  7/6/2009|             null|N/A-StillEmployed|              Active|   Production       | Brannon Miller|       12|  Diversity Job Fair|     Fully Meets|            4.46|              3|                   0|                 1/25/2019|             0|       4|\n",
      "|  Bacong, Alejandro |10250|        0|              2|       1|          1|     3|          3|                     0| 50178|    0|        14|          IT Support|   MA|01886|01/07/88| M |   Divorced|         US Citizen|            No|               White|  1/5/2015|             null|N/A-StillEmployed|              Active|               IT/IS|   Peter Monroe|        7|              Indeed|     Fully Meets|            5.00|              5|                   6|                 2/18/2019|             0|      16|\n",
      "|Baczenski, Rachael  |10252|        1|              1|       0|          5|     5|          3|                     1| 54670|    1|        19|Production Techni...|   MA|01902|01/12/74|  F|    Married|         US Citizen|           Yes|Black or African ...| 1/10/2011|        1/12/2017| Another position|Voluntarily Termi...|   Production       |  David Stanley|       14|  Diversity Job Fair|     Fully Meets|            4.20|              4|                   0|                 1/30/2016|             0|      12|\n",
      "|     Barbara, Thomas|10242|        1|              1|       1|          5|     5|          3|                     1| 47211|    1|        19|Production Techni...|   MA|02062|02/21/74| M |    Married|         US Citizen|           Yes|Black or African ...|  4/2/2012|        9/19/2016|          unhappy|Voluntarily Termi...|   Production       | Kissy Sullivan|       20|  Diversity Job Fair|     Fully Meets|            4.20|              3|                   0|                  5/6/2016|             0|      15|\n",
      "|    Barbossa, Hector|10012|        0|              2|       1|          1|     3|          4|                     1| 92328|    0|         9|        Data Analyst|   TX|78230|07/04/88| M |   Divorced|         US Citizen|            No|Black or African ...|11/10/2014|             null|N/A-StillEmployed|              Active|               IT/IS|     Simon Roup|        4|  Diversity Job Fair|         Exceeds|            4.28|              4|                   5|                 2/25/2019|             0|       9|\n",
      "|Barone, Francesco  A|10265|        0|              0|       1|          1|     5|          3|                     0| 58709|    0|        19|Production Techni...|   MA|01810|07/20/83| M |     Single|         US Citizen|            No|   Two or more races| 2/20/2012|             null|N/A-StillEmployed|              Active|   Production       |  Kelley Spirea|       18|       Google Search|     Fully Meets|            4.60|              4|                   0|                 2/14/2019|             0|       7|\n",
      "|       Barton, Nader|10066|        0|              2|       1|          5|     5|          3|                     0| 52505|    1|        19|Production Techni...|   MA|02747|07/15/77| M |   Divorced|         US Citizen|            No|               White| 9/24/2012|         4/6/2017| Another position|Voluntarily Termi...|   Production       | Michael Albert|       22|On-line Web appli...|     Fully Meets|            5.00|              5|                   0|                  3/2/2017|             0|       1|\n",
      "|       Bates, Norman|10061|        0|              0|       1|          4|     5|          3|                     0| 57834|    1|        19|Production Techni...|   MA|02050|10/18/81| M |     Single|         US Citizen|            No|               White| 2/21/2011|         8/4/2017|       attendance|Terminated for Cause|   Production       |  Kelley Spirea|       18|       Google Search|     Fully Meets|            5.00|              4|                   0|                  4/5/2017|             0|      20|\n",
      "|    Beak, Kimberly  |10023|        1|              1|       0|          2|     5|          4|                     0| 70131|    0|        20|Production Techni...|   MA|02145|04/17/66|  F|    Married|         US Citizen|            No|               White| 7/21/2016|             null|N/A-StillEmployed|              Active|   Production       |  Kelley Spirea|       18|   Employee Referral|         Exceeds|            4.40|              3|                   0|                 1/14/2019|             0|      16|\n",
      "| Beatrice, Courtney |10055|        0|              0|       0|          1|     5|          3|                     0| 59026|    0|        19|Production Techni...|   MA|01915|10/27/70|  F|     Single|Eligible NonCitizen|            No|               White|  4/4/2011|             null|N/A-StillEmployed|              Active|   Production       |   Elijiah Gray|       16|       Google Search|     Fully Meets|            5.00|              5|                   0|                 1/14/2019|             0|      12|\n",
      "|       Becker, Renee|10245|        0|              0|       0|          4|     3|          3|                     0|110000|    1|         8|Database Administ...|   MA|02026|04/04/86|  F|     Single|         US Citizen|           Yes|               White|  7/7/2014|        9/12/2015|      performance|Terminated for Cause|               IT/IS|     Simon Roup|        4|       Google Search|     Fully Meets|            4.50|              4|                   5|                 1/15/2015|             0|       8|\n",
      "|       Becker, Scott|10277|        0|              0|       1|          3|     5|          3|                     0| 53250|    0|        19|Production Techni...|   MA|02452|04/06/79| M |     Single|         US Citizen|            No|               Asian|  7/8/2013|             null|N/A-StillEmployed|              Active|   Production       | Webster Butler|     null|            LinkedIn|     Fully Meets|            4.20|              4|                   0|                 1/11/2019|             0|      13|\n",
      "+--------------------+-----+---------+---------------+--------+-----------+------+-----------+----------------------+------+-----+----------+--------------------+-----+-----+--------+---+-----------+-------------------+--------------+--------------------+----------+-----------------+-----------------+--------------------+--------------------+---------------+---------+--------------------+----------------+----------------+---------------+--------------------+--------------------------+--------------+--------+\n",
      "only showing top 20 rows\n",
      "\n"
     ]
    }
   ],
   "source": [
    "data.show()"
   ]
  },
  {
   "cell_type": "code",
   "execution_count": 51,
   "metadata": {},
   "outputs": [
    {
     "name": "stdout",
     "output_type": "stream",
     "text": [
      "root\n",
      " |-- Employee_Name: string (nullable = true)\n",
      " |-- EmpID: string (nullable = true)\n",
      " |-- MarriedID: string (nullable = true)\n",
      " |-- MaritalStatusID: string (nullable = true)\n",
      " |-- GenderID: string (nullable = true)\n",
      " |-- EmpStatusID: string (nullable = true)\n",
      " |-- DeptID: string (nullable = true)\n",
      " |-- PerfScoreID: string (nullable = true)\n",
      " |-- FromDiversityJobFairID: string (nullable = true)\n",
      " |-- Salary: string (nullable = true)\n",
      " |-- Termd: string (nullable = true)\n",
      " |-- PositionID: string (nullable = true)\n",
      " |-- Position: string (nullable = true)\n",
      " |-- State: string (nullable = true)\n",
      " |-- Zip: string (nullable = true)\n",
      " |-- DOB: string (nullable = true)\n",
      " |-- Sex: string (nullable = true)\n",
      " |-- MaritalDesc: string (nullable = true)\n",
      " |-- CitizenDesc: string (nullable = true)\n",
      " |-- HispanicLatino: string (nullable = true)\n",
      " |-- RaceDesc: string (nullable = true)\n",
      " |-- DateofHire: string (nullable = true)\n",
      " |-- DateofTermination: string (nullable = true)\n",
      " |-- TermReason: string (nullable = true)\n",
      " |-- EmploymentStatus: string (nullable = true)\n",
      " |-- Department: string (nullable = true)\n",
      " |-- ManagerName: string (nullable = true)\n",
      " |-- ManagerID: string (nullable = true)\n",
      " |-- RecruitmentSource: string (nullable = true)\n",
      " |-- PerformanceScore: string (nullable = true)\n",
      " |-- EngagementSurvey: string (nullable = true)\n",
      " |-- EmpSatisfaction: string (nullable = true)\n",
      " |-- SpecialProjectsCount: string (nullable = true)\n",
      " |-- LastPerformanceReview_Date: string (nullable = true)\n",
      " |-- DaysLateLast30: string (nullable = true)\n",
      " |-- Absences: string (nullable = true)\n",
      "\n"
     ]
    }
   ],
   "source": [
    "data.printSchema()"
   ]
  },
  {
   "cell_type": "code",
   "execution_count": 56,
   "metadata": {},
   "outputs": [
    {
     "name": "stdout",
     "output_type": "stream",
     "text": [
      "+-----+--------------------+\n",
      "|EmpID|       Employee_Name|\n",
      "+-----+--------------------+\n",
      "|10026| Adinolfi, Wilson  K|\n",
      "|10084|Ait Sidi, Karthik...|\n",
      "|10196|   Akinkuolie, Sarah|\n",
      "|10088|        Alagbe,Trina|\n",
      "|10069|    Anderson, Carol |\n",
      "|10002|   Anderson, Linda  |\n",
      "|10194|     Andreola, Colby|\n",
      "|10062|         Athwal, Sam|\n",
      "|10114|    Bachiochi, Linda|\n",
      "|10250|  Bacong, Alejandro |\n",
      "|10252|Baczenski, Rachael  |\n",
      "|10242|     Barbara, Thomas|\n",
      "|10012|    Barbossa, Hector|\n",
      "|10265|Barone, Francesco  A|\n",
      "|10066|       Barton, Nader|\n",
      "|10061|       Bates, Norman|\n",
      "|10023|    Beak, Kimberly  |\n",
      "|10055| Beatrice, Courtney |\n",
      "|10245|       Becker, Renee|\n",
      "|10277|       Becker, Scott|\n",
      "+-----+--------------------+\n",
      "only showing top 20 rows\n",
      "\n"
     ]
    }
   ],
   "source": [
    "data.select(\"EmpID\",\"Employee_Name\").show()"
   ]
  },
  {
   "cell_type": "code",
   "execution_count": 53,
   "metadata": {},
   "outputs": [],
   "source": [
    "data.createOrReplaceTempView(\"staging_events\")"
   ]
  },
  {
   "cell_type": "code",
   "execution_count": 55,
   "metadata": {},
   "outputs": [
    {
     "name": "stdout",
     "output_type": "stream",
     "text": [
      "+--------------------+-----+---------+---------------+--------+-----------+------+-----------+----------------------+------+-----+----------+--------------------+-----+-----+--------+---+-----------+-------------------+--------------+--------------------+----------+-----------------+-----------------+--------------------+--------------------+---------------+---------+--------------------+----------------+----------------+---------------+--------------------+--------------------------+--------------+--------+\n",
      "|       Employee_Name|EmpID|MarriedID|MaritalStatusID|GenderID|EmpStatusID|DeptID|PerfScoreID|FromDiversityJobFairID|Salary|Termd|PositionID|            Position|State|  Zip|     DOB|Sex|MaritalDesc|        CitizenDesc|HispanicLatino|            RaceDesc|DateofHire|DateofTermination|       TermReason|    EmploymentStatus|          Department|    ManagerName|ManagerID|   RecruitmentSource|PerformanceScore|EngagementSurvey|EmpSatisfaction|SpecialProjectsCount|LastPerformanceReview_Date|DaysLateLast30|Absences|\n",
      "+--------------------+-----+---------+---------------+--------+-----------+------+-----------+----------------------+------+-----+----------+--------------------+-----+-----+--------+---+-----------+-------------------+--------------+--------------------+----------+-----------------+-----------------+--------------------+--------------------+---------------+---------+--------------------+----------------+----------------+---------------+--------------------+--------------------------+--------------+--------+\n",
      "| Adinolfi, Wilson  K|10026|        0|              0|       1|          1|     5|          4|                     0| 62506|    0|        19|Production Techni...|   MA|01960|07/10/83| M |     Single|         US Citizen|            No|               White|  7/5/2011|             null|N/A-StillEmployed|              Active|   Production       | Michael Albert|       22|            LinkedIn|         Exceeds|            4.60|              5|                   0|                 1/17/2019|             0|       1|\n",
      "|Ait Sidi, Karthik...|10084|        1|              1|       1|          5|     3|          3|                     0|104437|    1|        27|             Sr. DBA|   MA|02148|05/05/75| M |    Married|         US Citizen|            No|               White| 3/30/2015|        6/16/2016|    career change|Voluntarily Termi...|               IT/IS|     Simon Roup|        4|              Indeed|     Fully Meets|            4.96|              3|                   6|                 2/24/2016|             0|      17|\n",
      "|   Akinkuolie, Sarah|10196|        1|              1|       0|          5|     5|          3|                     0| 64955|    1|        20|Production Techni...|   MA|01810|09/19/88|  F|    Married|         US Citizen|            No|               White|  7/5/2011|        9/24/2012|            hours|Voluntarily Termi...|   Production       | Kissy Sullivan|       20|            LinkedIn|     Fully Meets|            3.02|              3|                   0|                 5/15/2012|             0|       3|\n",
      "|        Alagbe,Trina|10088|        1|              1|       0|          1|     5|          3|                     0| 64991|    0|        19|Production Techni...|   MA|01886|09/27/88|  F|    Married|         US Citizen|            No|               White|  1/7/2008|             null|N/A-StillEmployed|              Active|   Production       |   Elijiah Gray|       16|              Indeed|     Fully Meets|            4.84|              5|                   0|                  1/3/2019|             0|      15|\n",
      "|    Anderson, Carol |10069|        0|              2|       0|          5|     5|          3|                     0| 50825|    1|        19|Production Techni...|   MA|02169|09/08/89|  F|   Divorced|         US Citizen|            No|               White| 7/11/2011|         9/6/2016| return to school|Voluntarily Termi...|   Production       | Webster Butler|       39|       Google Search|     Fully Meets|            5.00|              4|                   0|                  2/1/2016|             0|       2|\n",
      "|   Anderson, Linda  |10002|        0|              0|       0|          1|     5|          4|                     0| 57568|    0|        19|Production Techni...|   MA|01844|05/22/77|  F|     Single|         US Citizen|            No|               White|  1/9/2012|             null|N/A-StillEmployed|              Active|   Production       |       Amy Dunn|       11|            LinkedIn|         Exceeds|            5.00|              5|                   0|                  1/7/2019|             0|      15|\n",
      "|     Andreola, Colby|10194|        0|              0|       0|          1|     4|          3|                     0| 95660|    0|        24|   Software Engineer|   MA|02110|05/24/79|  F|     Single|         US Citizen|            No|               White|11/10/2014|             null|N/A-StillEmployed|              Active|Software Engineering|Alex Sweetwater|       10|            LinkedIn|     Fully Meets|            3.04|              3|                   4|                  1/2/2019|             0|      19|\n",
      "|         Athwal, Sam|10062|        0|              4|       1|          1|     5|          3|                     0| 59365|    0|        19|Production Techni...|   MA|02199|02/18/83| M |    Widowed|         US Citizen|            No|               White| 9/30/2013|             null|N/A-StillEmployed|              Active|   Production       |  Ketsia Liebig|       19|   Employee Referral|     Fully Meets|            5.00|              4|                   0|                 2/25/2019|             0|      19|\n",
      "|    Bachiochi, Linda|10114|        0|              0|       0|          3|     5|          3|                     1| 47837|    0|        19|Production Techni...|   MA|01902|02/11/70|  F|     Single|         US Citizen|            No|Black or African ...|  7/6/2009|             null|N/A-StillEmployed|              Active|   Production       | Brannon Miller|       12|  Diversity Job Fair|     Fully Meets|            4.46|              3|                   0|                 1/25/2019|             0|       4|\n",
      "|  Bacong, Alejandro |10250|        0|              2|       1|          1|     3|          3|                     0| 50178|    0|        14|          IT Support|   MA|01886|01/07/88| M |   Divorced|         US Citizen|            No|               White|  1/5/2015|             null|N/A-StillEmployed|              Active|               IT/IS|   Peter Monroe|        7|              Indeed|     Fully Meets|            5.00|              5|                   6|                 2/18/2019|             0|      16|\n",
      "|Baczenski, Rachael  |10252|        1|              1|       0|          5|     5|          3|                     1| 54670|    1|        19|Production Techni...|   MA|01902|01/12/74|  F|    Married|         US Citizen|           Yes|Black or African ...| 1/10/2011|        1/12/2017| Another position|Voluntarily Termi...|   Production       |  David Stanley|       14|  Diversity Job Fair|     Fully Meets|            4.20|              4|                   0|                 1/30/2016|             0|      12|\n",
      "|     Barbara, Thomas|10242|        1|              1|       1|          5|     5|          3|                     1| 47211|    1|        19|Production Techni...|   MA|02062|02/21/74| M |    Married|         US Citizen|           Yes|Black or African ...|  4/2/2012|        9/19/2016|          unhappy|Voluntarily Termi...|   Production       | Kissy Sullivan|       20|  Diversity Job Fair|     Fully Meets|            4.20|              3|                   0|                  5/6/2016|             0|      15|\n",
      "|    Barbossa, Hector|10012|        0|              2|       1|          1|     3|          4|                     1| 92328|    0|         9|        Data Analyst|   TX|78230|07/04/88| M |   Divorced|         US Citizen|            No|Black or African ...|11/10/2014|             null|N/A-StillEmployed|              Active|               IT/IS|     Simon Roup|        4|  Diversity Job Fair|         Exceeds|            4.28|              4|                   5|                 2/25/2019|             0|       9|\n",
      "|Barone, Francesco  A|10265|        0|              0|       1|          1|     5|          3|                     0| 58709|    0|        19|Production Techni...|   MA|01810|07/20/83| M |     Single|         US Citizen|            No|   Two or more races| 2/20/2012|             null|N/A-StillEmployed|              Active|   Production       |  Kelley Spirea|       18|       Google Search|     Fully Meets|            4.60|              4|                   0|                 2/14/2019|             0|       7|\n",
      "|       Barton, Nader|10066|        0|              2|       1|          5|     5|          3|                     0| 52505|    1|        19|Production Techni...|   MA|02747|07/15/77| M |   Divorced|         US Citizen|            No|               White| 9/24/2012|         4/6/2017| Another position|Voluntarily Termi...|   Production       | Michael Albert|       22|On-line Web appli...|     Fully Meets|            5.00|              5|                   0|                  3/2/2017|             0|       1|\n",
      "|       Bates, Norman|10061|        0|              0|       1|          4|     5|          3|                     0| 57834|    1|        19|Production Techni...|   MA|02050|10/18/81| M |     Single|         US Citizen|            No|               White| 2/21/2011|         8/4/2017|       attendance|Terminated for Cause|   Production       |  Kelley Spirea|       18|       Google Search|     Fully Meets|            5.00|              4|                   0|                  4/5/2017|             0|      20|\n",
      "|    Beak, Kimberly  |10023|        1|              1|       0|          2|     5|          4|                     0| 70131|    0|        20|Production Techni...|   MA|02145|04/17/66|  F|    Married|         US Citizen|            No|               White| 7/21/2016|             null|N/A-StillEmployed|              Active|   Production       |  Kelley Spirea|       18|   Employee Referral|         Exceeds|            4.40|              3|                   0|                 1/14/2019|             0|      16|\n",
      "| Beatrice, Courtney |10055|        0|              0|       0|          1|     5|          3|                     0| 59026|    0|        19|Production Techni...|   MA|01915|10/27/70|  F|     Single|Eligible NonCitizen|            No|               White|  4/4/2011|             null|N/A-StillEmployed|              Active|   Production       |   Elijiah Gray|       16|       Google Search|     Fully Meets|            5.00|              5|                   0|                 1/14/2019|             0|      12|\n",
      "|       Becker, Renee|10245|        0|              0|       0|          4|     3|          3|                     0|110000|    1|         8|Database Administ...|   MA|02026|04/04/86|  F|     Single|         US Citizen|           Yes|               White|  7/7/2014|        9/12/2015|      performance|Terminated for Cause|               IT/IS|     Simon Roup|        4|       Google Search|     Fully Meets|            4.50|              4|                   5|                 1/15/2015|             0|       8|\n",
      "|       Becker, Scott|10277|        0|              0|       1|          3|     5|          3|                     0| 53250|    0|        19|Production Techni...|   MA|02452|04/06/79| M |     Single|         US Citizen|            No|               Asian|  7/8/2013|             null|N/A-StillEmployed|              Active|   Production       | Webster Butler|     null|            LinkedIn|     Fully Meets|            4.20|              4|                   0|                 1/11/2019|             0|      13|\n",
      "+--------------------+-----+---------+---------------+--------+-----------+------+-----------+----------------------+------+-----+----------+--------------------+-----+-----+--------+---+-----------+-------------------+--------------+--------------------+----------+-----------------+-----------------+--------------------+--------------------+---------------+---------+--------------------+----------------+----------------+---------------+--------------------+--------------------------+--------------+--------+\n",
      "only showing top 20 rows\n",
      "\n"
     ]
    }
   ],
   "source": [
    "table = spark.sql(\"\"\"\n",
    "    select\n",
    "        *        \n",
    "    from\n",
    "        staging_events\n",
    "\"\"\").show()"
   ]
  },
  {
   "cell_type": "code",
   "execution_count": 83,
   "metadata": {},
   "outputs": [],
   "source": [
    "table = spark.sql(\"\"\"\n",
    "    select\n",
    "       EmpID\n",
    "        , Employee_Name\n",
    "        , Salary\n",
    "        , Position\n",
    "        , Sex\n",
    "        , MaritalDesc\n",
    "        , EmploymentStatus\n",
    "        , Department\n",
    "        , RecruitmentSource\n",
    "        , PerformanceScore\n",
    "        , Absences\n",
    "        \n",
    "    from\n",
    "        staging_events\n",
    "\"\"\")\n",
    "\n"
   ]
  },
  {
   "cell_type": "code",
   "execution_count": 84,
   "metadata": {},
   "outputs": [
    {
     "name": "stdout",
     "output_type": "stream",
     "text": [
      "+-----+--------------------+------+--------------------+---+-----------+--------------------+--------------------+--------------------+----------------+--------+\n",
      "|EmpID|       Employee_Name|Salary|            Position|Sex|MaritalDesc|    EmploymentStatus|          Department|   RecruitmentSource|PerformanceScore|Absences|\n",
      "+-----+--------------------+------+--------------------+---+-----------+--------------------+--------------------+--------------------+----------------+--------+\n",
      "|10026| Adinolfi, Wilson  K| 62506|Production Techni...| M |     Single|              Active|   Production       |            LinkedIn|         Exceeds|       1|\n",
      "|10084|Ait Sidi, Karthik...|104437|             Sr. DBA| M |    Married|Voluntarily Termi...|               IT/IS|              Indeed|     Fully Meets|      17|\n",
      "|10196|   Akinkuolie, Sarah| 64955|Production Techni...|  F|    Married|Voluntarily Termi...|   Production       |            LinkedIn|     Fully Meets|       3|\n",
      "|10088|        Alagbe,Trina| 64991|Production Techni...|  F|    Married|              Active|   Production       |              Indeed|     Fully Meets|      15|\n",
      "|10069|    Anderson, Carol | 50825|Production Techni...|  F|   Divorced|Voluntarily Termi...|   Production       |       Google Search|     Fully Meets|       2|\n",
      "|10002|   Anderson, Linda  | 57568|Production Techni...|  F|     Single|              Active|   Production       |            LinkedIn|         Exceeds|      15|\n",
      "|10194|     Andreola, Colby| 95660|   Software Engineer|  F|     Single|              Active|Software Engineering|            LinkedIn|     Fully Meets|      19|\n",
      "|10062|         Athwal, Sam| 59365|Production Techni...| M |    Widowed|              Active|   Production       |   Employee Referral|     Fully Meets|      19|\n",
      "|10114|    Bachiochi, Linda| 47837|Production Techni...|  F|     Single|              Active|   Production       |  Diversity Job Fair|     Fully Meets|       4|\n",
      "|10250|  Bacong, Alejandro | 50178|          IT Support| M |   Divorced|              Active|               IT/IS|              Indeed|     Fully Meets|      16|\n",
      "|10252|Baczenski, Rachael  | 54670|Production Techni...|  F|    Married|Voluntarily Termi...|   Production       |  Diversity Job Fair|     Fully Meets|      12|\n",
      "|10242|     Barbara, Thomas| 47211|Production Techni...| M |    Married|Voluntarily Termi...|   Production       |  Diversity Job Fair|     Fully Meets|      15|\n",
      "|10012|    Barbossa, Hector| 92328|        Data Analyst| M |   Divorced|              Active|               IT/IS|  Diversity Job Fair|         Exceeds|       9|\n",
      "|10265|Barone, Francesco  A| 58709|Production Techni...| M |     Single|              Active|   Production       |       Google Search|     Fully Meets|       7|\n",
      "|10066|       Barton, Nader| 52505|Production Techni...| M |   Divorced|Voluntarily Termi...|   Production       |On-line Web appli...|     Fully Meets|       1|\n",
      "|10061|       Bates, Norman| 57834|Production Techni...| M |     Single|Terminated for Cause|   Production       |       Google Search|     Fully Meets|      20|\n",
      "|10023|    Beak, Kimberly  | 70131|Production Techni...|  F|    Married|              Active|   Production       |   Employee Referral|         Exceeds|      16|\n",
      "|10055| Beatrice, Courtney | 59026|Production Techni...|  F|     Single|              Active|   Production       |       Google Search|     Fully Meets|      12|\n",
      "|10245|       Becker, Renee|110000|Database Administ...|  F|     Single|Terminated for Cause|               IT/IS|       Google Search|     Fully Meets|       8|\n",
      "|10277|       Becker, Scott| 53250|Production Techni...| M |     Single|              Active|   Production       |            LinkedIn|     Fully Meets|      13|\n",
      "+-----+--------------------+------+--------------------+---+-----------+--------------------+--------------------+--------------------+----------------+--------+\n",
      "only showing top 20 rows\n",
      "\n"
     ]
    }
   ],
   "source": [
    "table.show()"
   ]
  },
  {
   "cell_type": "code",
   "execution_count": 85,
   "metadata": {},
   "outputs": [],
   "source": [
    "destination = \"../employee_details\""
   ]
  },
  {
   "cell_type": "code",
   "execution_count": 86,
   "metadata": {},
   "outputs": [],
   "source": [
    "table.write.mode(\"overwrite\").option(\"header\", \"true\").csv(destination)"
   ]
  },
  {
   "cell_type": "code",
   "execution_count": 92,
   "metadata": {},
   "outputs": [],
   "source": [
    "table = spark.sql(\"\"\"\n",
    "    select\n",
    "        EmpID\n",
    "        , Employee_Name\n",
    "        , Salary\n",
    "        , Department\n",
    "    from\n",
    "        staging_events\n",
    "\"\"\")\n"
   ]
  },
  {
   "cell_type": "code",
   "execution_count": 93,
   "metadata": {},
   "outputs": [
    {
     "name": "stdout",
     "output_type": "stream",
     "text": [
      "+-----+--------------------+------+--------------------+\n",
      "|EmpID|       Employee_Name|Salary|          Department|\n",
      "+-----+--------------------+------+--------------------+\n",
      "|10026| Adinolfi, Wilson  K| 62506|   Production       |\n",
      "|10084|Ait Sidi, Karthik...|104437|               IT/IS|\n",
      "|10196|   Akinkuolie, Sarah| 64955|   Production       |\n",
      "|10088|        Alagbe,Trina| 64991|   Production       |\n",
      "|10069|    Anderson, Carol | 50825|   Production       |\n",
      "|10002|   Anderson, Linda  | 57568|   Production       |\n",
      "|10194|     Andreola, Colby| 95660|Software Engineering|\n",
      "|10062|         Athwal, Sam| 59365|   Production       |\n",
      "|10114|    Bachiochi, Linda| 47837|   Production       |\n",
      "|10250|  Bacong, Alejandro | 50178|               IT/IS|\n",
      "|10252|Baczenski, Rachael  | 54670|   Production       |\n",
      "|10242|     Barbara, Thomas| 47211|   Production       |\n",
      "|10012|    Barbossa, Hector| 92328|               IT/IS|\n",
      "|10265|Barone, Francesco  A| 58709|   Production       |\n",
      "|10066|       Barton, Nader| 52505|   Production       |\n",
      "|10061|       Bates, Norman| 57834|   Production       |\n",
      "|10023|    Beak, Kimberly  | 70131|   Production       |\n",
      "|10055| Beatrice, Courtney | 59026|   Production       |\n",
      "|10245|       Becker, Renee|110000|               IT/IS|\n",
      "|10277|       Becker, Scott| 53250|   Production       |\n",
      "+-----+--------------------+------+--------------------+\n",
      "only showing top 20 rows\n",
      "\n"
     ]
    }
   ],
   "source": [
    "table.show()"
   ]
  },
  {
   "cell_type": "code",
   "execution_count": 94,
   "metadata": {},
   "outputs": [],
   "source": [
    "destination = \"../salary\""
   ]
  },
  {
   "cell_type": "code",
   "execution_count": 95,
   "metadata": {},
   "outputs": [],
   "source": [
    "table.write.mode(\"overwrite\").option(\"header\", \"true\").csv(destination)"
   ]
  },
  {
   "cell_type": "code",
   "execution_count": 96,
   "metadata": {},
   "outputs": [],
   "source": [
    "table = spark.sql(\"\"\"\n",
    "    select\n",
    "        EmpID\n",
    "        , Employee_Name\n",
    "        , Sex\n",
    "        , Department\n",
    "    from\n",
    "        staging_events\n",
    "\"\"\")\n"
   ]
  },
  {
   "cell_type": "code",
   "execution_count": 97,
   "metadata": {},
   "outputs": [
    {
     "name": "stdout",
     "output_type": "stream",
     "text": [
      "+-----+--------------------+---+--------------------+\n",
      "|EmpID|       Employee_Name|Sex|          Department|\n",
      "+-----+--------------------+---+--------------------+\n",
      "|10026| Adinolfi, Wilson  K| M |   Production       |\n",
      "|10084|Ait Sidi, Karthik...| M |               IT/IS|\n",
      "|10196|   Akinkuolie, Sarah|  F|   Production       |\n",
      "|10088|        Alagbe,Trina|  F|   Production       |\n",
      "|10069|    Anderson, Carol |  F|   Production       |\n",
      "|10002|   Anderson, Linda  |  F|   Production       |\n",
      "|10194|     Andreola, Colby|  F|Software Engineering|\n",
      "|10062|         Athwal, Sam| M |   Production       |\n",
      "|10114|    Bachiochi, Linda|  F|   Production       |\n",
      "|10250|  Bacong, Alejandro | M |               IT/IS|\n",
      "|10252|Baczenski, Rachael  |  F|   Production       |\n",
      "|10242|     Barbara, Thomas| M |   Production       |\n",
      "|10012|    Barbossa, Hector| M |               IT/IS|\n",
      "|10265|Barone, Francesco  A| M |   Production       |\n",
      "|10066|       Barton, Nader| M |   Production       |\n",
      "|10061|       Bates, Norman| M |   Production       |\n",
      "|10023|    Beak, Kimberly  |  F|   Production       |\n",
      "|10055| Beatrice, Courtney |  F|   Production       |\n",
      "|10245|       Becker, Renee|  F|               IT/IS|\n",
      "|10277|       Becker, Scott| M |   Production       |\n",
      "+-----+--------------------+---+--------------------+\n",
      "only showing top 20 rows\n",
      "\n"
     ]
    }
   ],
   "source": [
    "table.show()"
   ]
  },
  {
   "cell_type": "code",
   "execution_count": 98,
   "metadata": {},
   "outputs": [],
   "source": [
    "destination = \"../sex\""
   ]
  },
  {
   "cell_type": "code",
   "execution_count": 99,
   "metadata": {},
   "outputs": [],
   "source": [
    "table.write.mode(\"overwrite\").option(\"header\", \"true\").csv(destination)"
   ]
  },
  {
   "cell_type": "code",
   "execution_count": 100,
   "metadata": {},
   "outputs": [],
   "source": [
    "table = spark.sql(\"\"\"\n",
    "    select\n",
    "        EmpID\n",
    "        , Employee_Name\n",
    "        , RecruitmentSource\n",
    "\n",
    "    from\n",
    "        staging_events\n",
    "\"\"\")\n",
    "destination = \"../recruitment\"\n",
    "table.write.mode(\"overwrite\").option(\"header\", \"true\").csv(destination)"
   ]
  },
  {
   "cell_type": "code",
   "execution_count": 101,
   "metadata": {},
   "outputs": [
    {
     "name": "stdout",
     "output_type": "stream",
     "text": [
      "+-----+--------------------+--------------------+\n",
      "|EmpID|       Employee_Name|   RecruitmentSource|\n",
      "+-----+--------------------+--------------------+\n",
      "|10026| Adinolfi, Wilson  K|            LinkedIn|\n",
      "|10084|Ait Sidi, Karthik...|              Indeed|\n",
      "|10196|   Akinkuolie, Sarah|            LinkedIn|\n",
      "|10088|        Alagbe,Trina|              Indeed|\n",
      "|10069|    Anderson, Carol |       Google Search|\n",
      "|10002|   Anderson, Linda  |            LinkedIn|\n",
      "|10194|     Andreola, Colby|            LinkedIn|\n",
      "|10062|         Athwal, Sam|   Employee Referral|\n",
      "|10114|    Bachiochi, Linda|  Diversity Job Fair|\n",
      "|10250|  Bacong, Alejandro |              Indeed|\n",
      "|10252|Baczenski, Rachael  |  Diversity Job Fair|\n",
      "|10242|     Barbara, Thomas|  Diversity Job Fair|\n",
      "|10012|    Barbossa, Hector|  Diversity Job Fair|\n",
      "|10265|Barone, Francesco  A|       Google Search|\n",
      "|10066|       Barton, Nader|On-line Web appli...|\n",
      "|10061|       Bates, Norman|       Google Search|\n",
      "|10023|    Beak, Kimberly  |   Employee Referral|\n",
      "|10055| Beatrice, Courtney |       Google Search|\n",
      "|10245|       Becker, Renee|       Google Search|\n",
      "|10277|       Becker, Scott|            LinkedIn|\n",
      "+-----+--------------------+--------------------+\n",
      "only showing top 20 rows\n",
      "\n"
     ]
    }
   ],
   "source": [
    "table.show()"
   ]
  },
  {
   "cell_type": "code",
   "execution_count": null,
   "metadata": {},
   "outputs": [],
   "source": []
  }
 ],
 "metadata": {
  "kernelspec": {
   "display_name": "Python 3 (ipykernel)",
   "language": "python",
   "name": "python3"
  },
  "language_info": {
   "codemirror_mode": {
    "name": "ipython",
    "version": 3
   },
   "file_extension": ".py",
   "mimetype": "text/x-python",
   "name": "python",
   "nbconvert_exporter": "python",
   "pygments_lexer": "ipython3",
   "version": "3.10.6"
  }
 },
 "nbformat": 4,
 "nbformat_minor": 4
}
