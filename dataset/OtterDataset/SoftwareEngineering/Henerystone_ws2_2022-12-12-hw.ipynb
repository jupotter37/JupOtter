{
 "cells": [
  {
   "attachments": {},
   "cell_type": "markdown",
   "metadata": {},
   "source": [
    "# Unit 3 Lesson 16\n",
    "- toc: true\n",
    "- comments: true\n"
   ]
  },
  {
   "attachments": {},
   "cell_type": "markdown",
   "metadata": {},
   "source": [
    "### Hack #1 - Class Notes\n"
   ]
  },
  {
   "attachments": {},
   "cell_type": "markdown",
   "metadata": {},
   "source": [
    "- Simulations are abstractions that mimic more complex objects or phenomena from the real world\n",
    "\n",
    "- Purposes include drawing inferences without the contraints of the real world\n",
    "\n",
    "- Simulations use varying sets of values to reflect the changing state of a real phenomenon\n",
    "\n",
    "- Often, when developing a simulation, it is necessary to remove specific details or simplify aspects\n",
    "\n",
    "- Simulations can often contain bias based on which details or real-world elements were included/excluded\n",
    "\n",
    "- Simulations allow the formulation of hypotheses under consideration\n",
    "\n",
    "- Variability and randomness of the world is considered using random number generators\n",
    "\n",
    "- Examples: rolling dice, spinners, molecular models, analyze chemicals/reactions..."
   ]
  },
  {
   "attachments": {},
   "cell_type": "markdown",
   "metadata": {},
   "source": [
    "### Hack #2 - Functions Classwork"
   ]
  },
  {
   "cell_type": "code",
   "execution_count": 5,
   "metadata": {},
   "outputs": [
    {
     "name": "stdout",
     "output_type": "stream",
     "text": [
      "random number:  29\n",
      "select something to add\n"
     ]
    },
    {
     "data": {
      "text/plain": [
       "['red shoes', 'tie', 'belt', '']"
      ]
     },
     "execution_count": 5,
     "metadata": {},
     "output_type": "execute_result"
    }
   ],
   "source": [
    "# insert your work with randomization/ functions and the mycloset code here # Hint: Use the functions we talked about in the beginning!\n",
    "import random as ran\n",
    "\n",
    "x = ran.randint(1,100)\n",
    "print(\"random number: \", x)\n",
    "\n",
    "def mycloset(add):\n",
    "    myclothes = [\"red shoes\", \"green pants\", \"tie\", \"belt\"]\n",
    "    myclothes.append(add)\n",
    "    select = ran.randint(0,3)\n",
    "    myclothes.pop(select)\n",
    "    return myclothes\n",
    "print(\"select something to add\")\n",
    "ab = input()\n",
    "mycloset(ab)"
   ]
  },
  {
   "attachments": {},
   "cell_type": "markdown",
   "metadata": {},
   "source": [
    "### Weighted Coin Flip"
   ]
  },
  {
   "cell_type": "code",
   "execution_count": 16,
   "metadata": {},
   "outputs": [
    {
     "name": "stdout",
     "output_type": "stream",
     "text": [
      "heads\n",
      "heads\n",
      "heads\n",
      "heads\n",
      "heads\n"
     ]
    }
   ],
   "source": [
    "import random as ran\n",
    "\n",
    "\n",
    "a = 0\n",
    "while a != 5:\n",
    "    x = ran.randint(1,3)\n",
    "    if x == 1 or x==2:\n",
    "        print(\"heads\")\n",
    "    else:\n",
    "        print(\"tails\")\n",
    "    a+=1\n"
   ]
  },
  {
   "cell_type": "markdown",
   "metadata": {},
   "source": [
    "### Hack #3 - Binary Simulation Problem"
   ]
  },
  {
   "cell_type": "code",
   "execution_count": null,
   "metadata": {},
   "outputs": [],
   "source": [
    "import random\n",
    "\n",
    "def randomnum(): \n",
    "    x = random.randint(0, 255)   \n",
    "    return x    \n",
    "\n",
    "def converttobin(n): \n",
    "    binary = bin(n).replace(\"0b\", \"0\")\n",
    "    binary = binary.zfill(8)\n",
    "    return binary\n",
    "    \n",
    "def survivors(binary): \n",
    "    survivorstatus = [\"Jiya\", \"Shruthi\", \"Noor\", \"Ananya\" , \"Peter Parker\", \"Andrew Garfield\", \"Tom Holland\", \"Tobey Maguire\"]\n",
    "    num = 0\n",
    "    for bin in binary:\n",
    "        if bin == \"0\":\n",
    "            print(survivorstatus[num] + \" is a zombie\")\n",
    "        else:\n",
    "            print(survivorstatus[num] + \" is a survivor\")\n",
    "        num += 1\n",
    "\n",
    "\n",
    "survivors(converttobin(randomnum()))"
   ]
  },
  {
   "cell_type": "markdown",
   "metadata": {},
   "source": [
    "### Hack #4 - Thinking through a problem\n",
    "- create your own simulation involving a dice roll\n",
    "- should include randomization and a function for rolling + multiple trials"
   ]
  },
  {
   "cell_type": "code",
   "execution_count": 27,
   "metadata": {},
   "outputs": [
    {
     "name": "stdout",
     "output_type": "stream",
     "text": [
      "You are a prospector during the californian gold rush. Try to find gold or die\n",
      "You did not find gold and died\n"
     ]
    }
   ],
   "source": [
    "import random as ran\n",
    "print(\"You are a prospector during the californian gold rush. Try to find gold or die\")\n",
    "\n",
    "\n",
    "\n",
    "x = ran.randint(0,25)\n",
    "if x == 1 or x==2 or x==3 or x==4 or x==5 or x==6:\n",
    "    print(\"You found gold!\")\n",
    "else:\n",
    "    print(\"You did not find gold and died\")"
   ]
  },
  {
   "attachments": {},
   "cell_type": "markdown",
   "metadata": {},
   "source": [
    "### Hack 5 - Applying your knowledge to situation based problems\n",
    "\n",
    "Using the questions bank below, create a quiz that presents the user a random question and calculates the user's score. You can use the template below or make your own. Making your own using a loop can give you extra points. "
   ]
  },
  {
   "attachments": {},
   "cell_type": "markdown",
   "metadata": {},
   "source": [
    "1. A researcher gathers data about the effect of Advanced Placement®︎ classes on students' success in college and career, and develops a simulation to show how a sequence of AP classes affect a hypothetical student's pathway.Several school administrators are concerned that the simulation contains bias favoring high-income students, however.\n",
    "    - answer options:\n",
    "        1. The simulation is an abstraction and therefore cannot contain any bias\n",
    "        2. The simulation may accidentally contain bias due to the exclusion of details.\n",
    "        3. If the simulation is found to contain bias, then it is not possible to remove the bias from the simulation.\n",
    "        4. The only way for the simulation to be biased is if the researcher intentionally used data that favored their desired output.\n",
    "2. Jack is trying to plan his financial future using an online tool. The tool starts off by asking him to input details about his current finances and career. It then lets him choose different future scenarios, such as having children. For each scenario chosen, the tool does some calculations and outputs his projected savings at the ages of 35, 45, and 55.Would that be considered a simulation and why?\n",
    "    - answer options\n",
    "        1. No, it's not a simulation because it does not include a visualization of the results.\n",
    "        2. No, it's not a simulation because it does not include all the details of his life history and the future financial environment.\n",
    "        3. Yes, it's a simulation because it runs on a computer and includes both user input and computed output.\n",
    "        4. Yes, it's a simulation because it is an abstraction of a real world scenario that enables the drawing of inferences.\n",
    "3. Sylvia is an industrial engineer working for a sporting goods company. She is developing a baseball bat that can hit balls with higher accuracy and asks their software engineering team to develop a simulation to verify the design.Which of the following details is most important to include in this simulation?\n",
    "    - answer options\n",
    "        1. Realistic sound effects based on the material of the baseball bat and the velocity of the hit\n",
    "        2. A depiction of an audience in the stands with lifelike behavior in response to hit accuracy\n",
    "        3. Accurate accounting for the effects of wind conditions on the movement of the ball\n",
    "        4. A baseball field that is textured to differentiate between the grass and the dirt\n",
    "4. Ashlynn is an industrial engineer who is trying to design a safer parachute. She creates a computer simulation of the parachute opening at different heights and in different environmental conditions.What are advantages of running the simulation versus an actual experiment?\n",
    "    - answer options\n",
    "        1. The simulation will not contain any bias that favors one body type over another, while an experiment will be biased.\n",
    "        2. The simulation can be run more safely than an actual experiment\n",
    "        3. The simulation will accurately predict the parachute's safety level, while an experiment may be inaccurate due to faulty experimental design.\n",
    "        4. The simulation can test the parachute design in a wide range of environmental conditions that may be difficult to reliably reproduce in an experiment.\n",
    "    * this question has 2 correct answers\n",
    "5. What is a simulation?\n",
    "    - answers:\n",
    "        1. An abstractions that mimic more complex objects or phenomena from the real world\n",
    "        2. Variability and randomness of the world\n",
    "        3. The optimal number of aircrafts that can be in the air in one area is.\n",
    "        4. A movie\n",
    "6. What can the randomness of the world be simulated by?\n",
    "    - answers:\n",
    "        1. The random module\n",
    "        2. A lever or switch\n",
    "        3. The time module\n",
    "        4. The movies"
   ]
  },
  {
   "cell_type": "code",
   "execution_count": 2,
   "metadata": {},
   "outputs": [
    {
     "name": "stdout",
     "output_type": "stream",
     "text": [
      "wrong\n",
      "wrong\n",
      "wrong\n",
      "wrong\n",
      "wrong\n",
      " you scored 0/6\n"
     ]
    }
   ],
   "source": [
    "questions = 6\n",
    "correct = 0\n",
    "\n",
    "\n",
    "Q1 = input(\"A researcher gathers data about the effect of Advanced Placement®︎ classes on students' success in college and career, and develops a simulation to show how a sequence of AP classes affect a hypothetical student's pathway.Several school administrators are concerned that the simulation contains bias favoring high-income students, however.\")\n",
    "if Q1 == \"the simulation may accidentally contain bias due to the exclusion of details\" :\n",
    "    correct = correct+1\n",
    "    print(\"correct\")\n",
    "    \n",
    "    \n",
    "\n",
    "Q2 = input(\"Jack is trying to plan his financial future using an online tool. The tool starts off by asking him to input details about his current finances and career. It then lets him choose different future scenarios, such as having children. For each scenario chosen, the tool does some calculations and outputs his projected savings at the ages of 35, 45, and 55.Would that be considered a simulation and why?\")\n",
    "if Q2 == \"yes, it's a simulation because it is an abstraction of a real world scenario that enables the drawing of inferences\":\n",
    "    correct = correct+1\n",
    "    print(\"correct\")\n",
    "else:\n",
    "    print(\"wrong\")\n",
    "Q3 = input(\"Sylvia is an industrial engineer working for a sporting goods company. She is developing a baseball bat that can hit balls with higher accuracy and asks their software engineering team to develop a simulation to verify the design.Which of the following details is most important to include in this simulation?\")\n",
    "if Q3 == \"accurate accounting for the effects of wind conditions on the movement of the ball\" :\n",
    "    correct = correct+1\n",
    "    print(\"correct\")\n",
    "else:\n",
    "    print(\"wrong\")\n",
    "Q4 = input(\"Ashlynn is an industrial engineer who is trying to design a safer parachute. She creates a computer simulation of the parachute opening at different heights and in different environmental conditions.What are advantages of running the simulation versus an actual experiment?\")\n",
    "if Q4 == \"the simulation will accurately predict the parachute's safety level, while an experiment may be inaccurate due to faulty experimental design\":\n",
    "    correct = correct+1\n",
    "    print(\"correct\")\n",
    "else:\n",
    "    print(\"wrong\")\n",
    "Q5 = input(\"What is a simulation?\")\n",
    "if Q5 == \"An abstractions that mimic more complex objects or phenomena from the real world\":\n",
    "    correct = correct+1\n",
    "    print(\"correct\")\n",
    "else:\n",
    "    print(\"wrong\")\n",
    "Q6 = input(\"What can the randomness of the world be simulated by?\")\n",
    "if Q6 == \"The random module\":\n",
    "    correct = correct+1\n",
    "    print(\"correct\")\n",
    "else:\n",
    "    print(\"wrong\")\n",
    "\n",
    "\n",
    "print( \" you scored \" + str(correct) +\"/\" + str(questions))"
   ]
  },
  {
   "attachments": {},
   "cell_type": "markdown",
   "metadata": {},
   "source": [
    "### Hack #6 / Challenge - Taking real life problems and implementing them into code"
   ]
  },
  {
   "attachments": {},
   "cell_type": "markdown",
   "metadata": {},
   "source": [
    "Create your own simulation based on your experiences/knowledge!\n",
    "Be creative! Think about instances in your own life, science, puzzles that can be made into simulations\n",
    "\n",
    "Some ideas to get your brain running: A simulation that breeds two plants and tells you phenotypes of offspring, an adventure simulation..."
   ]
  },
  {
   "cell_type": "code",
   "execution_count": 1,
   "metadata": {},
   "outputs": [
    {
     "name": "stdout",
     "output_type": "stream",
     "text": [
      "Work organiser\n",
      "What would you like to organise\n",
      "hw\n",
      "wash the dishes\n"
     ]
    }
   ],
   "source": [
    "import random as ran\n",
    "import sys as s\n",
    "print(\"Work organiser\")\n",
    "def organise():\n",
    "    print(\"What would you like to organise\")\n",
    "    ask = input()\n",
    "    if ask==\"nothing\":\n",
    "        s.exit()\n",
    "    elif ask==\"something\":\n",
    "        while ask != \"stop\":\n",
    "            ask = input()\n",
    "            if ask!=\"stop\":\n",
    "                print(ask)\n",
    "    else:\n",
    "        print(\"Excuse moi?\")\n",
    "organise()\n",
    "    \n"
   ]
  }
 ],
 "metadata": {
  "kernelspec": {
   "display_name": "Python 3",
   "language": "python",
   "name": "python3"
  },
  "language_info": {
   "codemirror_mode": {
    "name": "ipython",
    "version": 3
   },
   "file_extension": ".py",
   "mimetype": "text/x-python",
   "name": "python",
   "nbconvert_exporter": "python",
   "pygments_lexer": "ipython3",
   "version": "3.8.10 (default, Jun 22 2022, 20:18:18) \n[GCC 9.4.0]"
  },
  "orig_nbformat": 4,
  "vscode": {
   "interpreter": {
    "hash": "916dbcbb3f70747c44a77c7bcd40155683ae19c65e1c03b4aa3499c5328201f1"
   }
  }
 },
 "nbformat": 4,
 "nbformat_minor": 2
}
