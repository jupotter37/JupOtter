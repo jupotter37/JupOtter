{
 "cells": [
  {
   "cell_type": "code",
   "execution_count": 1,
   "metadata": {},
   "outputs": [
    {
     "data": {
      "text/plain": [
       "True"
      ]
     },
     "execution_count": 1,
     "metadata": {},
     "output_type": "execute_result"
    }
   ],
   "source": [
    "from dotenv import load_dotenv\n",
    "from langchain import PromptTemplate\n",
    "from langchain_openai import ChatOpenAI\n",
    "from langchain.chains import LLMChain\n",
    "import os\n",
    "\n",
    "\n",
    "load_dotenv()"
   ]
  },
  {
   "cell_type": "code",
   "execution_count": 2,
   "metadata": {},
   "outputs": [],
   "source": [
    "OPENAI_API_KEY = os.environ[\"OPENAI_API_KEY\"]\n",
    "SCRAPIN_API_KEY = os.environ[\"SCRAPIN_API_KEY\"]\n",
    "SERPAPI_API_KEY = os.environ[\"SERPAPI_API_KEY\"]"
   ]
  },
  {
   "cell_type": "markdown",
   "metadata": {},
   "source": [
    "### 1. Some basic chains"
   ]
  },
  {
   "cell_type": "code",
   "execution_count": 3,
   "metadata": {},
   "outputs": [],
   "source": [
    "summary_template = \"\"\" \n",
    "given the information {information} about a person, I want you to create:\n",
    "1. A short summary\n",
    "2. Two interesting facts about them\n",
    "\"\"\"\n",
    "\n",
    "summary_prompt_template = PromptTemplate(\n",
    "    input_variables=[\"information\"], template=summary_template\n",
    ")\n",
    "llm = ChatOpenAI(\n",
    "    temperature=0, model_name=\"gpt-3.5-turbo\", openai_api_key=OPENAI_API_KEY\n",
    ")\n",
    "chain = LLMChain(llm=llm, prompt=summary_prompt_template)"
   ]
  },
  {
   "cell_type": "code",
   "execution_count": 4,
   "metadata": {},
   "outputs": [],
   "source": [
    "information = \"\"\" \n",
    "Elon Reeve Musk (/ˈiːlɒn/; EE-lon; born June 28, 1971) is a businessman and investor. He is the founder, chairman, CEO, and CTO of SpaceX; angel investor, CEO, product architect, and former chairman of Tesla, Inc.; owner, executive chairman, and CTO of X Corp.; founder of the Boring Company and xAI; co-founder of Neuralink and OpenAI; and president of the Musk Foundation. He is one of the wealthiest people in the world, with an estimated net worth of US$190 billion as of March 2024, according to the Bloomberg Billionaires Index, and $195 billion according to Forbes, primarily from his ownership stakes in Tesla and SpaceX.[5][6]\n",
    "\n",
    "A member of the wealthy South African Musk family, Elon was born in Pretoria and briefly attended the University of Pretoria before immigrating to Canada at age 18, acquiring citizenship through his Canadian-born mother. Two years later, he matriculated at Queen's University at Kingston in Canada. Musk later transferred to the University of Pennsylvania, and received bachelor's degrees in economics and physics. He moved to California in 1995 to attend Stanford University, but dropped out after two days and, with his brother Kimbal, co-founded online city guide software company Zip2. The startup was acquired by Compaq for $307 million in 1999, and that same year Musk co-founded X.com, a direct bank. X.com merged with Confinity in 2000 to form PayPal.\n",
    "\n",
    "In October 2002, eBay acquired PayPal for $1.5 billion, and that same year, with $100 million of the money he made, Musk founded SpaceX, a spaceflight services company. In 2004, he became an early investor in electric vehicle manufacturer Tesla Motors, Inc. (now Tesla, Inc.). He became its chairman and product architect, assuming the position of CEO in 2008. In 2006, Musk helped create SolarCity, a solar-energy company that was acquired by Tesla in 2016 and became Tesla Energy. In 2013, he proposed a hyperloop high-speed vactrain transportation system. In 2015, he co-founded OpenAI, a nonprofit artificial intelligence research company. The following year, Musk co-founded Neuralink—a neurotechnology company developing brain–computer interfaces—and the Boring Company, a tunnel construction company. In 2022, he acquired Twitter for $44 billion. He subsequently merged the company into newly created X Corp. and rebranded the service as X the following year. In March 2023, he founded xAI, an artificial intelligence company.\n",
    "\n",
    "Musk has expressed views that have made him a polarizing figure.[7] He has been criticized for making unscientific and misleading statements, including COVID-19 misinformation and antisemitic conspiracy theories.[7][8][9][10] His ownership of Twitter has been similarly controversial, being marked by the laying off of a large number of employees, an increase in hate speech and misinformation and disinformation on the website, as well as changes to Twitter Blue verification. In 2018, the U.S. Securities and Exchange Commission (SEC) sued him, alleging that he had falsely announced that he had secured funding for a private takeover of Tesla. To settle the case, Musk stepped down as the chairman of Tesla and paid a $20 million fine.\n",
    "\"\"\""
   ]
  },
  {
   "cell_type": "code",
   "execution_count": 5,
   "metadata": {},
   "outputs": [],
   "source": [
    "res = chain.invoke(input={\"information\": information})"
   ]
  },
  {
   "cell_type": "code",
   "execution_count": 6,
   "metadata": {},
   "outputs": [
    {
     "name": "stdout",
     "output_type": "stream",
     "text": [
      "1. Elon Musk is a South African-born businessman and investor known for founding companies such as SpaceX, Tesla, and the Boring Company. He is one of the wealthiest individuals in the world, with a net worth of over $190 billion.\n",
      "\n",
      "2. Two interesting facts about Elon Musk:\n",
      "- He dropped out of Stanford University after just two days to pursue entrepreneurial ventures.\n",
      "- Musk has been involved in various industries, including space exploration, electric vehicles, artificial intelligence, and tunnel construction.\n"
     ]
    }
   ],
   "source": [
    "print(res[\"text\"])"
   ]
  },
  {
   "cell_type": "markdown",
   "metadata": {},
   "source": [
    "### 2. Demo with our custom LinkedIn scrapping function "
   ]
  },
  {
   "cell_type": "code",
   "execution_count": 9,
   "metadata": {},
   "outputs": [],
   "source": [
    "from third_parties.linkedin import scrape_linkedin_profile\n",
    "from agents.linkedin_lookup_agent import lookup as linkedin_lookup_agent"
   ]
  },
  {
   "cell_type": "code",
   "execution_count": 8,
   "metadata": {},
   "outputs": [],
   "source": [
    "def ice_break(name: str) -> str:\n",
    "    linkedin_profile_url = linkedin_lookup_agent(\n",
    "        name=name, openai_api_key=OPENAI_API_KEY\n",
    "    )\n",
    "    summary_template = \"\"\" \n",
    "    given the information {information} about a person, I want you to create:\n",
    "    1. A short summary\n",
    "    2. Two interesting facts about them\n",
    "    3. A topic that may interest them\n",
    "    4. 2 creative ice breakers to open a conversation with them\n",
    "    \"\"\"\n",
    "    summary_prompt_template = PromptTemplate(\n",
    "        input_variables=[\"information\"], template=summary_template\n",
    "    )\n",
    "    llm = ChatOpenAI(\n",
    "        temperature=0, model_name=\"gpt-3.5-turbo\", openai_api_key=OPENAI_API_KEY\n",
    "    )\n",
    "    chain = LLMChain(llm=llm, prompt=summary_prompt_template)\n",
    "    linkedin_data = scrape_linkedin_profile(\n",
    "        linkedin_profile_url=linkedin_profile_url, scrapin_api_key=SCRAPIN_API_KEY\n",
    "    )\n",
    "    result = chain.run(information=linkedin_data)\n",
    "    print(result)\n",
    "    return result\n",
    "\n",
    "\n",
    "# note that we dont need to explicitly pass the \"SERPAPI_API_KEY\" to the function because it is already set as an environment variable\n",
    "# this can be applied to the OpenAI API key as well, but it is passed explicitly for demonstration purposes"
   ]
  },
  {
   "cell_type": "code",
   "execution_count": 21,
   "metadata": {},
   "outputs": [
    {
     "name": "stdout",
     "output_type": "stream",
     "text": [
      "\n",
      "\n",
      "\u001b[1m> Entering new AgentExecutor chain...\u001b[0m\n",
      "\u001b[32;1m\u001b[1;3mI should use the tool to crawl Google for the LinkedIn profile page of Joshua Phuong Le.\n",
      "Action: Crawl Google for linkedin profile page\n",
      "Action Input: Joshua Phuong Le LinkedIn profile\u001b[0m\n",
      "Observation: \u001b[36;1m\u001b[1;3m[\"I'm interested in data science, machine learning, PC/tech/geeky stuff, and writing about what I learnt. I'm currently learning aspects of cloud-based ML ...\", 'Founder of the AiEdge | Follow me to learn about Machine Learning Engineering, Machine Learning System Design, MLOps, and the latest techniques ...', \"Joshua Phuong Le's Post. View profile for Joshua Phuong Le. Joshua Phuong Le. Data Scientist at PSA International. 6mo. Report this post; Close ...\", 'Joshua Phuong Le. Data Scientist at PSA International | Data Science, Machine Learning and Writing. Singapore. PSA International Pte Ltd, +9 more.', \"Hi, I'm Joshua; I'm interested in data science, machine learning, and PC/tech/geeky stuff; I'm currently learning aspects of cloud-based ML and ...\", \"Choreographed and taught workshops globally. Recommendations received. Click here to view Joshua Washington's profile. Joshua Washington. “The thing I admire ...\", '... and manage experiments and ... More from Joshua Phuong Le and MITB For All ... Level up your data career with the insights from 3K+ LinkedIn jobs ...', \"I am currently a senior accounting student. I have a Bachelor's degree in Finance and worked in a bank for more than a year. My daily duties were assisting ...\", 'View the profiles of professionals named \"Phuong Le\" on LinkedIn. There are ... Phuong Le, senior university lecturer and IELTS trainer. Vietnam. Phu Yen ...']\u001b[0m\n",
      "Thought:\u001b[32;1m\u001b[1;3mI need to find the specific LinkedIn profile URL for Joshua Phuong Le.\n",
      "Action: Crawl Google for linkedin profile page\n",
      "Action Input: Joshua Phuong Le LinkedIn profile URL\u001b[0m\n",
      "Observation: \u001b[36;1m\u001b[1;3m[\"I'm interested in data science, machine learning, PC/tech/geeky stuff, and writing about what I learnt. I'm currently learning aspects of cloud-based ML ...\", 'Founder of the AiEdge | Follow me to learn about Machine Learning Engineering, Machine Learning System Design, MLOps, and the latest techniques ...', 'View profile for Renuka P. Renuka P. Senior Data Scientist with hands-on experience|| 4K followers || 3.2 M+ impressions|| || content creator on ...', \"Hi, I'm Joshua; I'm interested in data science, machine learning, and PC/tech/geeky stuff; I'm currently learning aspects of cloud-based ML and ...\", \"Choreographed and taught workshops globally. Recommendations received. Click here to view Joshua Washington's profile. Joshua Washington. “The thing I admire ...\", 'How I Went from Engineer to Data Scientist. Joshua Phuong Le. MITB For All.', \"I'm a data scientist having fun writing about my learning journey. Connect with me at https://www.linkedin.com/in/joshua3112/.\", 'Fast learner and able to hit the ground running in an IT environment. Self taught and… · Experience: Meta · Education: Ohlone College · Location: San Jose, ...', 'Meet Our Current Students. Josh Barton Joshua ... Phuong Le Phuong.Le@students.jefferson.edu. Read ... address the genetic determinants of stroke and venous ...']\u001b[0m\n",
      "Thought:\u001b[32;1m\u001b[1;3mI have found the specific LinkedIn profile URL for Joshua Phuong Le.\n",
      "Final Answer: https://www.linkedin.com/in/joshua3112/\u001b[0m\n",
      "\n",
      "\u001b[1m> Finished chain.\u001b[0m\n",
      "1. Short summary:\n",
      "Joshua Phuong Le is a Data Scientist at PSA International in Singapore. He has a background in Chemical Engineering and holds a Master's degree in IT in Business from Singapore Management University. Joshua is passionate about data science, machine learning, and technology.\n",
      "\n",
      "2. Two interesting facts about Joshua:\n",
      "- Joshua has transitioned from Chemical Engineering to pursue a career in data science and machine learning.\n",
      "- He has experience working as a Process Design Engineer and Project Development Manager at ExxonMobil before transitioning to his current role as a Data Scientist.\n",
      "\n",
      "3. A topic that may interest Joshua:\n",
      "Given his background in Chemical Engineering and current role in data science, Joshua may be interested in exploring the intersection of these fields, such as applications of machine learning in chemical processes or data-driven solutions for industrial operations.\n",
      "\n",
      "4. 2 creative ice breakers to open a conversation with Joshua:\n",
      "- \"Hi Joshua, I noticed your transition from Chemical Engineering to Data Science. What inspired you to make that career shift?\"\n",
      "- \"Hey Joshua, I see you have experience in both project management and machine learning. How do you think these skills complement each other in your current role at PSA International?\"\n"
     ]
    },
    {
     "data": {
      "text/plain": [
       "'1. Short summary:\\nJoshua Phuong Le is a Data Scientist at PSA International in Singapore. He has a background in Chemical Engineering and holds a Master\\'s degree in IT in Business from Singapore Management University. Joshua is passionate about data science, machine learning, and technology.\\n\\n2. Two interesting facts about Joshua:\\n- Joshua has transitioned from Chemical Engineering to pursue a career in data science and machine learning.\\n- He has experience working as a Process Design Engineer and Project Development Manager at ExxonMobil before transitioning to his current role as a Data Scientist.\\n\\n3. A topic that may interest Joshua:\\nGiven his background in Chemical Engineering and current role in data science, Joshua may be interested in exploring the intersection of these fields, such as applications of machine learning in chemical processes or data-driven solutions for industrial operations.\\n\\n4. 2 creative ice breakers to open a conversation with Joshua:\\n- \"Hi Joshua, I noticed your transition from Chemical Engineering to Data Science. What inspired you to make that career shift?\"\\n- \"Hey Joshua, I see you have experience in both project management and machine learning. How do you think these skills complement each other in your current role at PSA International?\"'"
      ]
     },
     "execution_count": 21,
     "metadata": {},
     "output_type": "execute_result"
    }
   ],
   "source": [
    "result = ice_break(\"Joshua Phuong Le\")"
   ]
  },
  {
   "cell_type": "markdown",
   "metadata": {},
   "source": [
    "### 3. Controling the output format"
   ]
  },
  {
   "cell_type": "code",
   "execution_count": 6,
   "metadata": {},
   "outputs": [],
   "source": [
    "# now we will make the output serializable and consumable by the frontend\n",
    "from langchain.output_parsers import PydanticOutputParser\n",
    "from pydantic import BaseModel, Field\n",
    "from typing import List\n",
    "from third_parties.linkedin import scrape_linkedin_profile\n",
    "from agents.linkedin_lookup_agent import lookup as linkedin_lookup_agent\n",
    "\n",
    "\n",
    "class PersonIntel(BaseModel):\n",
    "    summary: str = Field(description=\"A short summary of the person\")\n",
    "    facts: List[str] = Field(description=\"Interesting facts about the person\")\n",
    "    topics_of_interest: List[str] = Field(\n",
    "        description=\"Topics that may interest the person\"\n",
    "    )\n",
    "    ice_breakers: List[str] = Field(\n",
    "        description=\"Creative ice breakers to open a conversation with the person\"\n",
    "    )\n",
    "\n",
    "    def to_dict(self):\n",
    "        return {\"summary\": self.summary, \"facts\": self.facts, \"topics_of_interest\": self.topics_of_interest, \"ice_breakers\": self.ice_breakers}\n",
    "\n",
    "\n",
    "\n",
    "def ice_break(name: str, parser:PydanticOutputParser) -> PersonIntel:\n",
    "    linkedin_profile_url = linkedin_lookup_agent(\n",
    "        name=name, openai_api_key=OPENAI_API_KEY\n",
    "    )\n",
    "    summary_template = \"\"\" \n",
    "    given the information {information} about a person, I want you to create:\n",
    "    1. A short summary\n",
    "    2. Two interesting facts about them\n",
    "    3. A topic that may interest them\n",
    "    4. 2 creative ice breakers to open a conversation with them \n",
    "    \\n{format_instructions}\n",
    "    \"\"\"\n",
    "    summary_prompt_template = PromptTemplate(\n",
    "        input_variables=[\"information\"], \n",
    "        template=summary_template,\n",
    "        partial_variables={\"format_instructions\":parser.get_format_instructions()}\n",
    "    )\n",
    "    llm = ChatOpenAI(\n",
    "        temperature=0, model_name=\"gpt-3.5-turbo\", openai_api_key=OPENAI_API_KEY\n",
    "    )\n",
    "    chain = LLMChain(llm=llm, prompt=summary_prompt_template)\n",
    "    linkedin_data = scrape_linkedin_profile(\n",
    "        linkedin_profile_url=linkedin_profile_url, scrapin_api_key=SCRAPIN_API_KEY\n",
    "    )\n",
    "    result = chain.run(information=linkedin_data)\n",
    "    print(result)\n",
    "    return parser.parse(result)"
   ]
  },
  {
   "cell_type": "code",
   "execution_count": 10,
   "metadata": {},
   "outputs": [
    {
     "name": "stdout",
     "output_type": "stream",
     "text": [
      "\n",
      "\n",
      "\u001b[1m> Entering new AgentExecutor chain...\u001b[0m\n",
      "\u001b[32;1m\u001b[1;3mI should use the tool to crawl Google for the LinkedIn profile page of Joshua Phuong Le.\n",
      "Action: Crawl Google for linkedin profile page\n",
      "Action Input: Joshua Phuong Le LinkedIn profile\u001b[0m\n",
      "Observation: \u001b[36;1m\u001b[1;3m[\"Hi, I'm Joshua I'm interested in data science, machine learning, PC/tech/geeky stuff, and writing about what I learnt. I'm currently learning aspects ...\", 'View profile for Renuka P. Renuka P. Senior Data Scientist with hands-on experience|| 4K followers || 3.2 M+ impressions|| || content creator on ...', 'Resuming to my blogging hobby, this article is my personal experience when transitioning from engineering to data science.', \"Joshua Phuong Le's Post. View profile for Joshua Phuong Le. Joshua Phuong Le. Data Scientist at PSA International. 7mo. Report this post; Close ...\", \"Recently I've been working on a very commonly seen text clustering problem, which requires the grouping of texts based on their content and ...\", \"Hi, I'm Joshua; I'm interested in data science, machine learning, and PC/tech/geeky stuff; I'm currently learning aspects of cloud-based ML and ...\", 'Joshua Phuong Le. Data Scientist at PSA International | Data Science, Machine Learning and Writing. Singapore. PSA International Pte Ltd, +9 more.', \"Choreographed and taught workshops globally. Recommendations received. Click here to view Joshua Washington's profile. Joshua Washington. “The thing I admire ...\", \"I'm a data scientist having fun writing about my learning journey. Connect with me at https://www.linkedin.com/in/joshua3112/.\"]\u001b[0m\n",
      "Thought:\u001b[32;1m\u001b[1;3mI found the LinkedIn profile URL for Joshua Phuong Le.\n",
      "Final Answer: https://www.linkedin.com/in/joshua3112/\u001b[0m\n",
      "\n",
      "\u001b[1m> Finished chain.\u001b[0m\n",
      "{\n",
      "    \"summary\": \"Joshua Phuong Le is a Data Scientist at PSA International in Singapore with a background in Chemical Engineering. He is passionate about data science, machine learning, and technology.\",\n",
      "    \"facts\": [\n",
      "        \"Joshua has transitioned from Chemical Engineering to pursue a career in data science and machine learning.\",\n",
      "        \"He has a Master's degree in IT in Business from Singapore Management University.\"\n",
      "    ],\n",
      "    \"topics_of_interest\": [\n",
      "        \"Data Science\",\n",
      "        \"Machine Learning\",\n",
      "        \"Cloud-based ML\",\n",
      "        \"Software Engineering\"\n",
      "    ],\n",
      "    \"ice_breakers\": [\n",
      "        \"Hi Joshua! I noticed your transition from Chemical Engineering to Data Science, what inspired you to make that change?\",\n",
      "        \"Hey Joshua, I see you have a background in IT in Business, how has that influenced your approach to data science projects?\"\n",
      "    ]\n",
      "}\n"
     ]
    }
   ],
   "source": [
    "person_intel_parser = PydanticOutputParser(pydantic_object=PersonIntel)\n",
    "person = ice_break(\"Joshua Phuong Le\", person_intel_parser)"
   ]
  },
  {
   "cell_type": "code",
   "execution_count": 11,
   "metadata": {},
   "outputs": [
    {
     "data": {
      "text/plain": [
       "{'summary': 'Joshua Phuong Le is a Data Scientist at PSA International in Singapore with a background in Chemical Engineering. He is passionate about data science, machine learning, and technology.',\n",
       " 'facts': ['Joshua has transitioned from Chemical Engineering to pursue a career in data science and machine learning.',\n",
       "  \"He has a Master's degree in IT in Business from Singapore Management University.\"],\n",
       " 'topics_of_interest': ['Data Science',\n",
       "  'Machine Learning',\n",
       "  'Cloud-based ML',\n",
       "  'Software Engineering'],\n",
       " 'ice_breakers': ['Hi Joshua! I noticed your transition from Chemical Engineering to Data Science, what inspired you to make that change?',\n",
       "  'Hey Joshua, I see you have a background in IT in Business, how has that influenced your approach to data science projects?']}"
      ]
     },
     "execution_count": 11,
     "metadata": {},
     "output_type": "execute_result"
    }
   ],
   "source": [
    "person.to_dict()"
   ]
  }
 ],
 "metadata": {
  "kernelspec": {
   "display_name": "Python 3",
   "language": "python",
   "name": "python3"
  },
  "language_info": {
   "codemirror_mode": {
    "name": "ipython",
    "version": 3
   },
   "file_extension": ".py",
   "mimetype": "text/x-python",
   "name": "python",
   "nbconvert_exporter": "python",
   "pygments_lexer": "ipython3",
   "version": "3.11.7"
  }
 },
 "nbformat": 4,
 "nbformat_minor": 2
}
