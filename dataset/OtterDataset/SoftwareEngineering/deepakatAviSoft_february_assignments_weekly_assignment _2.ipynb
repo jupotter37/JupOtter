{
  "cells": [
    {
      "cell_type": "markdown",
      "metadata": {
        "id": "view-in-github",
        "colab_type": "text"
      },
      "source": [
        "<a href=\"https://colab.research.google.com/github/deepakatAviSoft/february_assignments/blob/main/weekly_assignment%20_2.ipynb\" target=\"_parent\"><img src=\"https://colab.research.google.com/assets/colab-badge.svg\" alt=\"Open In Colab\"/></a>"
      ]
    },
    {
      "cell_type": "code",
      "execution_count": 6,
      "metadata": {
        "id": "g3MlvS-JDJ6R"
      },
      "outputs": [],
      "source": [
        "class Question():\n",
        "  def __init__(self, number, type, statement, options, answer):\n",
        "    self.question_no = number\n",
        "    self.question_type = type\n",
        "    self.question_statement = statement\n",
        "    self.question_options = options\n",
        "    self.correct_answer = answer"
      ]
    },
    {
      "cell_type": "code",
      "execution_count": 7,
      "metadata": {
        "colab": {
          "base_uri": "https://localhost:8080/"
        },
        "id": "Wzmw5F0jDLo0",
        "outputId": "4f5ce1a2-cc02-4112-a241-fe910c08ca04"
      },
      "outputs": [
        {
          "output_type": "stream",
          "name": "stdout",
          "text": [
            "Drive already mounted at /content/drive; to attempt to forcibly remount, call drive.mount(\"/content/drive\", force_remount=True).\n"
          ]
        }
      ],
      "source": [
        "from google.colab import drive\n",
        "drive.mount('/content/drive')"
      ]
    },
    {
      "cell_type": "code",
      "execution_count": 8,
      "metadata": {
        "id": "5tiOkAJ4Dzck"
      },
      "outputs": [],
      "source": [
        "file_path = '/content/drive/MyDrive/feb_2024/text_file.txt'\n",
        "\n",
        "with open(file_path, 'r', encoding='utf-8-sig') as file:\n",
        "    text = file.read()\n"
      ]
    },
    {
      "cell_type": "code",
      "source": [
        "class Question:\n",
        "    def __init__(self, number, q_type, statement, options=None, correct_answer=None):\n",
        "        self.number = number\n",
        "        self.q_type = q_type\n",
        "        self.statement = statement\n",
        "        self.options = options\n",
        "        self.correct_answer = correct_answer\n",
        "\n",
        "def parse_question(line):\n",
        "    parts = line.strip().split('|')\n",
        "    number = parts[0]\n",
        "    q_type = parts[1]\n",
        "    statement = parts[2]\n",
        "    if q_type == 'mcq':\n",
        "        options = parts[3:7]\n",
        "        correct_answer = parts[7].strip('#')\n",
        "        return Question(number, q_type, statement, options, correct_answer)\n",
        "    elif q_type == 'one word':\n",
        "        correct_answer = parts[3].strip('#')\n",
        "        return Question(number, q_type, statement, correct_answer=correct_answer)\n",
        "\n",
        "def read_questions_from_file(filename):\n",
        "    questions = []\n",
        "    with open(filename, 'r',  encoding='utf-8') as file:\n",
        "        for line in file:\n",
        "            if '|' in line:\n",
        "                question = parse_question(line)\n",
        "                questions.append(question)\n",
        "    return questions\n",
        "\n",
        "# Example usage\n",
        "filename = '/content/drive/MyDrive/feb_2024/text_file.txt'\n",
        "questions = read_questions_from_file(filename)\n"
      ],
      "metadata": {
        "id": "RlCqVUKxqZTi"
      },
      "execution_count": 26,
      "outputs": []
    },
    {
      "cell_type": "code",
      "execution_count": 27,
      "metadata": {
        "id": "9dEo-bAZFVOh",
        "colab": {
          "base_uri": "https://localhost:8080/",
          "height": 581
        },
        "outputId": "9eb4d03a-7872-46d2-a4ec-eb905d35893f"
      },
      "outputs": [
        {
          "output_type": "stream",
          "name": "stdout",
          "text": [
            "\n",
            "Remaining questions: 30\n",
            "Computer programs are also known as __________ ?\n",
            "Options:\n",
            "a. operating systems\n",
            "b. documents\n",
            "c. peripherals\n",
            "d. applications\n",
            "Your answer: applications\n",
            "Correct!\n",
            "\n",
            "Remaining questions: 29\n",
            "What never asks a question but gets answered all the time?\n"
          ]
        },
        {
          "output_type": "error",
          "ename": "KeyboardInterrupt",
          "evalue": "Interrupted by user",
          "traceback": [
            "\u001b[0;31m---------------------------------------------------------------------------\u001b[0m",
            "\u001b[0;31mKeyboardInterrupt\u001b[0m                         Traceback (most recent call last)",
            "\u001b[0;32m<ipython-input-27-4ecbfc9e751a>\u001b[0m in \u001b[0;36m<cell line: 40>\u001b[0;34m()\u001b[0m\n\u001b[1;32m     39\u001b[0m \u001b[0;34m\u001b[0m\u001b[0m\n\u001b[1;32m     40\u001b[0m \u001b[0;32mif\u001b[0m \u001b[0m__name__\u001b[0m \u001b[0;34m==\u001b[0m \u001b[0;34m\"__main__\"\u001b[0m\u001b[0;34m:\u001b[0m\u001b[0;34m\u001b[0m\u001b[0;34m\u001b[0m\u001b[0m\n\u001b[0;32m---> 41\u001b[0;31m     \u001b[0mmain\u001b[0m\u001b[0;34m(\u001b[0m\u001b[0;34m)\u001b[0m\u001b[0;34m\u001b[0m\u001b[0;34m\u001b[0m\u001b[0m\n\u001b[0m",
            "\u001b[0;32m<ipython-input-27-4ecbfc9e751a>\u001b[0m in \u001b[0;36mmain\u001b[0;34m()\u001b[0m\n\u001b[1;32m     30\u001b[0m         \u001b[0mtotal_questions\u001b[0m \u001b[0;34m-=\u001b[0m \u001b[0;36m1\u001b[0m\u001b[0;34m\u001b[0m\u001b[0;34m\u001b[0m\u001b[0m\n\u001b[1;32m     31\u001b[0m \u001b[0;34m\u001b[0m\u001b[0m\n\u001b[0;32m---> 32\u001b[0;31m         \u001b[0;32mif\u001b[0m \u001b[0mask_question\u001b[0m\u001b[0;34m(\u001b[0m\u001b[0mquestion\u001b[0m\u001b[0;34m)\u001b[0m\u001b[0;34m:\u001b[0m\u001b[0;34m\u001b[0m\u001b[0;34m\u001b[0m\u001b[0m\n\u001b[0m\u001b[1;32m     33\u001b[0m             \u001b[0mprint\u001b[0m\u001b[0;34m(\u001b[0m\u001b[0;34m\"Correct!\"\u001b[0m\u001b[0;34m)\u001b[0m\u001b[0;34m\u001b[0m\u001b[0;34m\u001b[0m\u001b[0m\n\u001b[1;32m     34\u001b[0m             \u001b[0mcorrect_answers\u001b[0m \u001b[0;34m+=\u001b[0m \u001b[0;36m1\u001b[0m\u001b[0;34m\u001b[0m\u001b[0;34m\u001b[0m\u001b[0m\n",
            "\u001b[0;32m<ipython-input-27-4ecbfc9e751a>\u001b[0m in \u001b[0;36mask_question\u001b[0;34m(question)\u001b[0m\n\u001b[1;32m     13\u001b[0m         \u001b[0;32mfor\u001b[0m \u001b[0mi\u001b[0m\u001b[0;34m,\u001b[0m \u001b[0moption\u001b[0m \u001b[0;32min\u001b[0m \u001b[0menumerate\u001b[0m\u001b[0;34m(\u001b[0m\u001b[0mquestion\u001b[0m\u001b[0;34m.\u001b[0m\u001b[0moptions\u001b[0m\u001b[0;34m,\u001b[0m \u001b[0mstart\u001b[0m\u001b[0;34m=\u001b[0m\u001b[0;36m97\u001b[0m\u001b[0;34m)\u001b[0m\u001b[0;34m:\u001b[0m\u001b[0;34m\u001b[0m\u001b[0;34m\u001b[0m\u001b[0m\n\u001b[1;32m     14\u001b[0m             \u001b[0mprint\u001b[0m\u001b[0;34m(\u001b[0m\u001b[0;34mf\"{chr(i)}. {option}\"\u001b[0m\u001b[0;34m)\u001b[0m\u001b[0;34m\u001b[0m\u001b[0;34m\u001b[0m\u001b[0m\n\u001b[0;32m---> 15\u001b[0;31m     \u001b[0muser_answer\u001b[0m \u001b[0;34m=\u001b[0m \u001b[0minput\u001b[0m\u001b[0;34m(\u001b[0m\u001b[0;34m\"Your answer: \"\u001b[0m\u001b[0;34m)\u001b[0m\u001b[0;34m.\u001b[0m\u001b[0mstrip\u001b[0m\u001b[0;34m(\u001b[0m\u001b[0;34m)\u001b[0m\u001b[0;34m.\u001b[0m\u001b[0mlower\u001b[0m\u001b[0;34m(\u001b[0m\u001b[0;34m)\u001b[0m\u001b[0;34m\u001b[0m\u001b[0;34m\u001b[0m\u001b[0m\n\u001b[0m\u001b[1;32m     16\u001b[0m     \u001b[0;32mreturn\u001b[0m \u001b[0muser_answer\u001b[0m \u001b[0;34m==\u001b[0m \u001b[0mquestion\u001b[0m\u001b[0;34m.\u001b[0m\u001b[0mcorrect_answer\u001b[0m\u001b[0;34m.\u001b[0m\u001b[0mlower\u001b[0m\u001b[0;34m(\u001b[0m\u001b[0;34m)\u001b[0m\u001b[0;34m\u001b[0m\u001b[0;34m\u001b[0m\u001b[0m\n\u001b[1;32m     17\u001b[0m \u001b[0;34m\u001b[0m\u001b[0m\n",
            "\u001b[0;32m/usr/local/lib/python3.10/dist-packages/ipykernel/kernelbase.py\u001b[0m in \u001b[0;36mraw_input\u001b[0;34m(self, prompt)\u001b[0m\n\u001b[1;32m    849\u001b[0m                 \u001b[0;34m\"raw_input was called, but this frontend does not support input requests.\"\u001b[0m\u001b[0;34m\u001b[0m\u001b[0;34m\u001b[0m\u001b[0m\n\u001b[1;32m    850\u001b[0m             )\n\u001b[0;32m--> 851\u001b[0;31m         return self._input_request(str(prompt),\n\u001b[0m\u001b[1;32m    852\u001b[0m             \u001b[0mself\u001b[0m\u001b[0;34m.\u001b[0m\u001b[0m_parent_ident\u001b[0m\u001b[0;34m,\u001b[0m\u001b[0;34m\u001b[0m\u001b[0;34m\u001b[0m\u001b[0m\n\u001b[1;32m    853\u001b[0m             \u001b[0mself\u001b[0m\u001b[0;34m.\u001b[0m\u001b[0m_parent_header\u001b[0m\u001b[0;34m,\u001b[0m\u001b[0;34m\u001b[0m\u001b[0;34m\u001b[0m\u001b[0m\n",
            "\u001b[0;32m/usr/local/lib/python3.10/dist-packages/ipykernel/kernelbase.py\u001b[0m in \u001b[0;36m_input_request\u001b[0;34m(self, prompt, ident, parent, password)\u001b[0m\n\u001b[1;32m    893\u001b[0m             \u001b[0;32mexcept\u001b[0m \u001b[0mKeyboardInterrupt\u001b[0m\u001b[0;34m:\u001b[0m\u001b[0;34m\u001b[0m\u001b[0;34m\u001b[0m\u001b[0m\n\u001b[1;32m    894\u001b[0m                 \u001b[0;31m# re-raise KeyboardInterrupt, to truncate traceback\u001b[0m\u001b[0;34m\u001b[0m\u001b[0;34m\u001b[0m\u001b[0m\n\u001b[0;32m--> 895\u001b[0;31m                 \u001b[0;32mraise\u001b[0m \u001b[0mKeyboardInterrupt\u001b[0m\u001b[0;34m(\u001b[0m\u001b[0;34m\"Interrupted by user\"\u001b[0m\u001b[0;34m)\u001b[0m \u001b[0;32mfrom\u001b[0m \u001b[0;32mNone\u001b[0m\u001b[0;34m\u001b[0m\u001b[0;34m\u001b[0m\u001b[0m\n\u001b[0m\u001b[1;32m    896\u001b[0m             \u001b[0;32mexcept\u001b[0m \u001b[0mException\u001b[0m \u001b[0;32mas\u001b[0m \u001b[0me\u001b[0m\u001b[0;34m:\u001b[0m\u001b[0;34m\u001b[0m\u001b[0;34m\u001b[0m\u001b[0m\n\u001b[1;32m    897\u001b[0m                 \u001b[0mself\u001b[0m\u001b[0;34m.\u001b[0m\u001b[0mlog\u001b[0m\u001b[0;34m.\u001b[0m\u001b[0mwarning\u001b[0m\u001b[0;34m(\u001b[0m\u001b[0;34m\"Invalid Message:\"\u001b[0m\u001b[0;34m,\u001b[0m \u001b[0mexc_info\u001b[0m\u001b[0;34m=\u001b[0m\u001b[0;32mTrue\u001b[0m\u001b[0;34m)\u001b[0m\u001b[0;34m\u001b[0m\u001b[0;34m\u001b[0m\u001b[0m\n",
            "\u001b[0;31mKeyboardInterrupt\u001b[0m: Interrupted by user"
          ]
        }
      ],
      "source": [
        "import random\n",
        "\n",
        "def create_quiz(questions):\n",
        "    quiz = {}\n",
        "    for question in questions:\n",
        "        quiz[question.number] = question\n",
        "    return quiz\n",
        "\n",
        "def ask_question(question):\n",
        "    print(question.statement)\n",
        "    if question.q_type == 'mcq':\n",
        "        print(\"Options:\")\n",
        "        for i, option in enumerate(question.options, start=97):\n",
        "            print(f\"{chr(i)}. {option}\")\n",
        "    user_answer = input(\"Your answer: \").strip().lower()\n",
        "    return user_answer == question.correct_answer.lower()\n",
        "\n",
        "def main():\n",
        "\n",
        "    quiz = create_quiz(questions)\n",
        "\n",
        "    random_questions = list(quiz.values())\n",
        "    random.shuffle(random_questions)\n",
        "\n",
        "    total_questions = len(random_questions)\n",
        "    correct_answers = 0\n",
        "\n",
        "    for question in random_questions:\n",
        "        print(f\"\\nRemaining questions: {total_questions}\")\n",
        "        total_questions -= 1\n",
        "\n",
        "        if ask_question(question):\n",
        "            print(\"Correct!\")\n",
        "            correct_answers += 1\n",
        "        else:\n",
        "            print(\"Incorrect.\")\n",
        "\n",
        "    print(f\"\\nYou scored {correct_answers} out of {len(questions)}.\")\n",
        "\n",
        "if __name__ == \"__main__\":\n",
        "    main()\n"
      ]
    },
    {
      "cell_type": "code",
      "execution_count": 13,
      "metadata": {
        "colab": {
          "base_uri": "https://localhost:8080/",
          "height": 175
        },
        "id": "qXlEeR06FzC6",
        "outputId": "37023396-979a-409f-e671-dcd35de77220"
      },
      "outputs": [
        {
          "output_type": "execute_result",
          "data": {
            "text/plain": [
              "'1|mcq|_________are words that a programming language has set aside for its own use ?|Control words|Control structures|Reserved words|Reserved keys|Reserved words#\\n2|mcq|Which of the following software could assist someone who cannot use their hands for computer input ?|Video conferencing|Speech recognition |Audio digitizer|Synthesizer|Speech recognition#\\n3|mcq|__________ is the process of finding errors in software code ?|Hacking|Compiling|Testing|Debugging|Debugging#\\n4|mcq|A series of instructions that tells a computer what to do and how to do it is called a ________ ?|program|command|user response|processor|program#\\n5|mcq|A __________ shares hardware, software, and data among authorized users ?|network|protocol|hyperlink|transmitter|network#\\n6|mcq|The basic computer processing cycle consists of _______ ?|input, processing and output|systems and application|data, information and applications|hardware, software and storage|input, processing and output#\\n7|mcq|System software ?|allows the user to diagnose and troubleshoot the device|is a programming language|is part of a productivity suite|helps the computer manage internal resources|helps the computer manage internal resources#\\n8|mcq|_____ is the process of carrying out commands ?|Fetching|Storing|Executing|Decoding|Executing#\\n9|mcq|This can be another word for program ?|software|disk|floppy|hardware|software#\\n10|mcq|Information that comes from an external source and fed into computer software is called ?|Output|Input|Throughput|Reports|Input#\\n11|mcq|Which of the following information systems focuses on making manufacturing processes more efficient and of higher quality ?|Computer-aided manufacturing|Computer-integrated manufacturing|Computer-aided software engineering|Computer-aided system engineering|Computer-aided manufacturing#\\n12|mcq|For seeing the output, you use ?|Monitor|Keyboard|Mouse|Scanner|Monitor#\\n13|mcq|Computer programs are also known as __________ ?|operating systems|documents|peripherals|applications|applications#\\n14|mcq|A (n) –– is a program that makes the computer easier to use ?|utility|application|operating system|network|operating system#\\n15|mcq|The person who writes and tests computer programs is called a ?|programmer|computer scientist|software engineer|project developer|programmer#\\n16|one word|What are two things you can never eat for breakfast?|Lunch and Dinner#\\n17|one word|What is always coming but never arrives?|Tomorrow#\\n18|one word|What gets wetter the more it dries?|A towel#\\n19|one word|What can be broken but never held?|A promise#\\n20|one word|What word is spelled incorrectly in every single dictionary?|Incorrectly#\\n21|one word|What is it that lives if it is fed, and dies if you give it a drink?|Fire#\\n22|one word|What never asks a question but gets answered all the time?|Your cellphone#\\n23|one word|What word would you use to describe a man who does not have all his fingers on one hand?|Normal, because people usually have half their fingers on one hand.#\\n24|one word|What goes up but never ever comes down?|Your age#\\n25|one word|What can one catch that is not thrown?|A cold#\\n26|one word|If you have one, you want to share it. But once you share it, you do not have it. What is it?|A secret#\\n27|one word|If you have one, you want to share it. But once you share it, you do not have it. What is it?|A secret#\\n28|one word|What starts with “e” and ends with “e” but only has one letter in it?|An envelope#\\n29|one word|If a plane crashes on the border between the United States and Canada, where do they bury the survivors?|Survivors aren’t buried!#\\n30|one word|How can a girl go 25 days without sleep?|She sleeps at night#\\n'"
            ],
            "application/vnd.google.colaboratory.intrinsic+json": {
              "type": "string"
            }
          },
          "metadata": {},
          "execution_count": 13
        }
      ],
      "source": [
        "text\n"
      ]
    },
    {
      "cell_type": "code",
      "source": [
        "# Printing the parsed questions\n",
        "for question in questions:\n",
        "    print(f\"Question {question.number}:\")\n",
        "    print(f\"Type: {question.q_type}\")\n",
        "    print(f\"Statement: {question.statement}\")\n",
        "    if question.q_type == 'mcq':\n",
        "        print(\"Options:\")\n",
        "        for i, option in enumerate(question.options, start=97):\n",
        "            print(f\"{chr(i)}. {option}\")\n",
        "        print(f\"Correct Answer: {question.correct_answer}\")\n",
        "    else:\n",
        "        print(f\"Correct Answer: {question.correct_answer}\")\n",
        "    print()"
      ],
      "metadata": {
        "colab": {
          "base_uri": "https://localhost:8080/"
        },
        "id": "pD48AnqErasx",
        "outputId": "42561578-70ce-4d98-fe8c-88fbfb2d53a5"
      },
      "execution_count": 20,
      "outputs": [
        {
          "output_type": "stream",
          "name": "stdout",
          "text": [
            "Question ﻿1:\n",
            "Type: mcq\n",
            "Statement: _________are words that a programming language has set aside for its own use ?\n",
            "Options:\n",
            "a. Control words\n",
            "b. Control structures\n",
            "c. Reserved words\n",
            "d. Reserved keys\n",
            "Correct Answer: Reserved words\n",
            "\n",
            "Question 2:\n",
            "Type: mcq\n",
            "Statement: Which of the following software could assist someone who cannot use their hands for computer input ?\n",
            "Options:\n",
            "a. Video conferencing\n",
            "b. Speech recognition \n",
            "c. Audio digitizer\n",
            "d. Synthesizer\n",
            "Correct Answer: Speech recognition\n",
            "\n",
            "Question 3:\n",
            "Type: mcq\n",
            "Statement: __________ is the process of finding errors in software code ?\n",
            "Options:\n",
            "a. Hacking\n",
            "b. Compiling\n",
            "c. Testing\n",
            "d. Debugging\n",
            "Correct Answer: Debugging\n",
            "\n",
            "Question 4:\n",
            "Type: mcq\n",
            "Statement: A series of instructions that tells a computer what to do and how to do it is called a ________ ?\n",
            "Options:\n",
            "a. program\n",
            "b. command\n",
            "c. user response\n",
            "d. processor\n",
            "Correct Answer: program\n",
            "\n",
            "Question 5:\n",
            "Type: mcq\n",
            "Statement: A __________ shares hardware, software, and data among authorized users ?\n",
            "Options:\n",
            "a. network\n",
            "b. protocol\n",
            "c. hyperlink\n",
            "d. transmitter\n",
            "Correct Answer: network\n",
            "\n",
            "Question 6:\n",
            "Type: mcq\n",
            "Statement: The basic computer processing cycle consists of _______ ?\n",
            "Options:\n",
            "a. input, processing and output\n",
            "b. systems and application\n",
            "c. data, information and applications\n",
            "d. hardware, software and storage\n",
            "Correct Answer: input, processing and output\n",
            "\n",
            "Question 7:\n",
            "Type: mcq\n",
            "Statement: System software ?\n",
            "Options:\n",
            "a. allows the user to diagnose and troubleshoot the device\n",
            "b. is a programming language\n",
            "c. is part of a productivity suite\n",
            "d. helps the computer manage internal resources\n",
            "Correct Answer: helps the computer manage internal resources\n",
            "\n",
            "Question 8:\n",
            "Type: mcq\n",
            "Statement: _____ is the process of carrying out commands ?\n",
            "Options:\n",
            "a. Fetching\n",
            "b. Storing\n",
            "c. Executing\n",
            "d. Decoding\n",
            "Correct Answer: Executing\n",
            "\n",
            "Question 9:\n",
            "Type: mcq\n",
            "Statement: This can be another word for program ?\n",
            "Options:\n",
            "a. software\n",
            "b. disk\n",
            "c. floppy\n",
            "d. hardware\n",
            "Correct Answer: software\n",
            "\n",
            "Question 10:\n",
            "Type: mcq\n",
            "Statement: Information that comes from an external source and fed into computer software is called ?\n",
            "Options:\n",
            "a. Output\n",
            "b. Input\n",
            "c. Throughput\n",
            "d. Reports\n",
            "Correct Answer: Input\n",
            "\n",
            "Question 11:\n",
            "Type: mcq\n",
            "Statement: Which of the following information systems focuses on making manufacturing processes more efficient and of higher quality ?\n",
            "Options:\n",
            "a. Computer-aided manufacturing\n",
            "b. Computer-integrated manufacturing\n",
            "c. Computer-aided software engineering\n",
            "d. Computer-aided system engineering\n",
            "Correct Answer: Computer-aided manufacturing\n",
            "\n",
            "Question 12:\n",
            "Type: mcq\n",
            "Statement: For seeing the output, you use ?\n",
            "Options:\n",
            "a. Monitor\n",
            "b. Keyboard\n",
            "c. Mouse\n",
            "d. Scanner\n",
            "Correct Answer: Monitor\n",
            "\n",
            "Question 13:\n",
            "Type: mcq\n",
            "Statement: Computer programs are also known as __________ ?\n",
            "Options:\n",
            "a. operating systems\n",
            "b. documents\n",
            "c. peripherals\n",
            "d. applications\n",
            "Correct Answer: applications\n",
            "\n",
            "Question 14:\n",
            "Type: mcq\n",
            "Statement: A (n) –– is a program that makes the computer easier to use ?\n",
            "Options:\n",
            "a. utility\n",
            "b. application\n",
            "c. operating system\n",
            "d. network\n",
            "Correct Answer: operating system\n",
            "\n",
            "Question 15:\n",
            "Type: mcq\n",
            "Statement: The person who writes and tests computer programs is called a ?\n",
            "Options:\n",
            "a. programmer\n",
            "b. computer scientist\n",
            "c. software engineer\n",
            "d. project developer\n",
            "Correct Answer: programmer\n",
            "\n",
            "Question 16:\n",
            "Type: one word\n",
            "Statement: What are two things you can never eat for breakfast?\n",
            "Correct Answer: Lunch and Dinner\n",
            "\n",
            "Question 17:\n",
            "Type: one word\n",
            "Statement: What is always coming but never arrives?\n",
            "Correct Answer: Tomorrow\n",
            "\n",
            "Question 18:\n",
            "Type: one word\n",
            "Statement: What gets wetter the more it dries?\n",
            "Correct Answer: A towel\n",
            "\n",
            "Question 19:\n",
            "Type: one word\n",
            "Statement: What can be broken but never held?\n",
            "Correct Answer: A promise\n",
            "\n",
            "Question 20:\n",
            "Type: one word\n",
            "Statement: What word is spelled incorrectly in every single dictionary?\n",
            "Correct Answer: Incorrectly\n",
            "\n",
            "Question 21:\n",
            "Type: one word\n",
            "Statement: What is it that lives if it is fed, and dies if you give it a drink?\n",
            "Correct Answer: Fire\n",
            "\n",
            "Question 22:\n",
            "Type: one word\n",
            "Statement: What never asks a question but gets answered all the time?\n",
            "Correct Answer: Your cellphone\n",
            "\n",
            "Question 23:\n",
            "Type: one word\n",
            "Statement: What word would you use to describe a man who does not have all his fingers on one hand?\n",
            "Correct Answer: Normal, because people usually have half their fingers on one hand.\n",
            "\n",
            "Question 24:\n",
            "Type: one word\n",
            "Statement: What goes up but never ever comes down?\n",
            "Correct Answer: Your age\n",
            "\n",
            "Question 25:\n",
            "Type: one word\n",
            "Statement: What can one catch that is not thrown?\n",
            "Correct Answer: A cold\n",
            "\n",
            "Question 26:\n",
            "Type: one word\n",
            "Statement: If you have one, you want to share it. But once you share it, you do not have it. What is it?\n",
            "Correct Answer: A secret\n",
            "\n",
            "Question 27:\n",
            "Type: one word\n",
            "Statement: If you have one, you want to share it. But once you share it, you do not have it. What is it?\n",
            "Correct Answer: A secret\n",
            "\n",
            "Question 28:\n",
            "Type: one word\n",
            "Statement: What starts with “e” and ends with “e” but only has one letter in it?\n",
            "Correct Answer: An envelope\n",
            "\n",
            "Question 29:\n",
            "Type: one word\n",
            "Statement: If a plane crashes on the border between the United States and Canada, where do they bury the survivors?\n",
            "Correct Answer: Survivors aren’t buried!\n",
            "\n",
            "Question 30:\n",
            "Type: one word\n",
            "Statement: How can a girl go 25 days without sleep?\n",
            "Correct Answer: She sleeps at night\n",
            "\n"
          ]
        }
      ]
    },
    {
      "cell_type": "code",
      "source": [],
      "metadata": {
        "id": "zl2bBxfWtXHL"
      },
      "execution_count": null,
      "outputs": []
    }
  ],
  "metadata": {
    "colab": {
      "provenance": [],
      "authorship_tag": "ABX9TyMN/lgk8XKrpzvun7lUVB61",
      "include_colab_link": true
    },
    "kernelspec": {
      "display_name": "Python 3",
      "name": "python3"
    },
    "language_info": {
      "name": "python"
    }
  },
  "nbformat": 4,
  "nbformat_minor": 0
}