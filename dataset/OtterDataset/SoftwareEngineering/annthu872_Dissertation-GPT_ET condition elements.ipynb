{
 "cells": [
  {
   "cell_type": "code",
   "execution_count": 64,
   "metadata": {},
   "outputs": [],
   "source": [
    "from openai import OpenAI\n",
    "import json\n",
    "import os\n",
    "\n",
    "GPT_MODEL_3_5 = \"gpt-3.5-turbo-1106\"\n",
    "GPT_MODEL_4 = \"gpt-4-0125-preview\"\n",
    "\n",
    "OPEN_API_KEY = os.getenv(\"OPENAI_API_KEY\")\n",
    "\n",
    "client = OpenAI()\n",
    "model = GPT_MODEL_4\n",
    "\n",
    "def ask(prompt, client, model, temperature = 0):\n",
    "    response = None\n",
    "    \n",
    "    response = client.chat.completions.create(\n",
    "      model=model,\n",
    "      messages=prompt,\n",
    "      temperature=temperature,\n",
    "      # response_format={ \"type\": \"json_object\" },\n",
    "    )\n",
    "\n",
    "    return (response.choices[0].message.content)"
   ]
  },
  {
   "cell_type": "code",
   "execution_count": 65,
   "metadata": {},
   "outputs": [],
   "source": [
    "usecase_flow=\"\"\"\n",
    "\n",
    "\"\"\""
   ]
  },
  {
   "cell_type": "code",
   "execution_count": 66,
   "metadata": {},
   "outputs": [],
   "source": [
    "SYSTEM_PROMPT_extract_condition =\"\"\"\n",
    "I want you to work as a software engineering who has profound knowledge about software design and software testing.\n",
    "You will be given a use case specification for an agile application.\n",
    "Your task is to identify and list out all the interactive elements within the application that require user input. For each input element, specify all the conditions of that element.\n",
    "To extract all the conditions you should do as following:\n",
    "Go though the use case and define all the interactive elements, list all of them.\n",
    "For each elements, go though the use case once again and extract all the conditions related with that elements to make make the input valid and the conditions that would render it invalid base on the description of the use case specification. Do not arbitrarily create additional conditions or negate conditions to create the opposite condition.\n",
    "If element is a button or described as being clicked, pressed, selected, chosen by any actor, then remove that element from the list of extracted elements.\n",
    "If element has multiple conditions, then combine these conditions in the valid or invalid field of that element.\n",
    "If a element's invalid condition is the negation of a valid condition, there is no need to mention it in the element's invalid result.\n",
    "For example: In a use case mentions: 'Main flow: User input a valid username with at least 8 characters and contain at least 1 special character.\n",
    "Exception flow: User input a invalid username with is less than 8 characters or do not contain at least 1 special character.'\n",
    "Element extracted: { Username: {valid: \"should have at least 8 characters and contain at least 1 special character.\", invalid: \"\"}\n",
    "Return the element extracted in json format.\n",
    "The JSON format should follow the following structure:\n",
    "{ Name of interactive element 1:   {\"valid\": Condition , \"invalid\": Condition },\n",
    " Name of interactive element 2:   {\"valid\": Condition , \"invalid\": Condition }\n",
    "  }\n",
    "\"\"\"\n",
    "#  For example: The condition 'The system should display a list of available items' or 'User can select the available items' or 'Item must display item's informaiton' must be skipped."
   ]
  },
  {
   "cell_type": "code",
   "execution_count": 67,
   "metadata": {},
   "outputs": [
    {
     "name": "stdout",
     "output_type": "stream",
     "text": [
      "```json\n",
      "{\n",
      "  \"sentence\": {\n",
      "    \"valid\": \"must be a complete sentence with a symbol '...', below 250 characters and not contains any special character\",\n",
      "    \"invalid\": \"\"\n",
      "  },\n",
      "  \"correct answer\": {\n",
      "    \"valid\": \"must be filled with the correct word form of the blank in the sentence\",\n",
      "    \"invalid\": \"\"\n",
      "  },\n",
      "  \"other option 1\": {\n",
      "    \"valid\": \"must be filled with a different wrong answer word\",\n",
      "    \"invalid\": \"\"\n",
      "  },\n",
      "  \"other option 2\": {\n",
      "    \"valid\": \"must be filled with a different wrong answer word\",\n",
      "    \"invalid\": \"\"\n",
      "  },\n",
      "  \"other option 3\": {\n",
      "    \"valid\": \"must be filled with a different wrong answer word\",\n",
      "    \"invalid\": \"\"\n",
      "  }\n",
      "}\n",
      "```\n"
     ]
    }
   ],
   "source": [
    "promptExtractCondtition = [\n",
    "    { \"role\": \"system\", \"content\": SYSTEM_PROMPT_extract_condition},\n",
    "    { \"role\": \"user\", \"content\": usecase_flow }\n",
    "  ]\n",
    "\n",
    "gpt_response = ask(promptExtractCondtition, client, model)\n",
    "print(gpt_response)"
   ]
  }
 ],
 "metadata": {
  "kernelspec": {
   "display_name": "Python 3",
   "language": "python",
   "name": "python3"
  },
  "language_info": {
   "codemirror_mode": {
    "name": "ipython",
    "version": 3
   },
   "file_extension": ".py",
   "mimetype": "text/x-python",
   "name": "python",
   "nbconvert_exporter": "python",
   "pygments_lexer": "ipython3",
   "version": "3.10.9"
  }
 },
 "nbformat": 4,
 "nbformat_minor": 2
}
