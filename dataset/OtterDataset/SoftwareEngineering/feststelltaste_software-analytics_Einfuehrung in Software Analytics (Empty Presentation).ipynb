{
    "cells": [
        {
            "cell_type": "markdown",
            "metadata": {
                "slideshow": {
                    "slide_type": "skip"
                }
            },
            "source": [
                "Diese Folie ist absichtlich leer!"
            ]
        },
        {
            "cell_type": "code",
            "execution_count": 1,
            "metadata": {
                "slideshow": {
                    "slide_type": "skip"
                }
            },
            "outputs": [],
            "source": [
                "%matplotlib inline\n",
                "import pandas as pd"
            ]
        },
        {
            "cell_type": "markdown",
            "metadata": {
                "slideshow": {
                    "slide_type": "slide"
                }
            },
            "source": [
                "\n",
                "# Einf\u00fchrung in<br/> Software Analytics\n",
                "<b>Markus Harrer</b>\n",
                "  \n",
                "`@feststelltaste`\n",
                "\n",
                "\n",
                "<small>rheinJUG, 19. November 2019</small>\n",
                "\n",
                "<img src=\"../../demos/resources/innoq_logo.jpg\" width=20% height=\"20%\" align=\"right\"/>"
            ]
        },
        {
            "cell_type": "markdown",
            "metadata": {
                "slideshow": {
                    "slide_type": "slide"
                }
            },
            "source": [
                "## \u00dcber mich\n",
                "\n",
                "<img src=\"../../demos/resources/ueber_mich.png\" style=\"width:85%;\" >"
            ]
        },
        {
            "cell_type": "markdown",
            "metadata": {
                "slideshow": {
                    "slide_type": "slide"
                }
            },
            "source": [
                "<div align=\"center\"><h2 class=\"blink\">LATEST NEWS</h2>\n",
                "\n",
                "<img src=\"../resources/cyberjug_logo_url.jpg\" style=\"width:75%;\" >\n",
                "\n",
                "</div>"
            ]
        },
        {
            "cell_type": "markdown",
            "metadata": {
                "slideshow": {
                    "slide_type": "slide"
                }
            },
            "source": [
                "# Datenanalysen in der Softwareentwicklung?\n",
                "\n",
                "Warum?"
            ]
        },
        {
            "cell_type": "markdown",
            "metadata": {
                "slideshow": {
                    "slide_type": "slide"
                }
            },
            "source": [
                "#  ... ein typischer Projektverlauf"
            ]
        },
        {
            "cell_type": "markdown",
            "metadata": {
                "slideshow": {
                    "slide_type": "slide"
                }
            },
            "source": [
                "## ... ein typischer Projektverlauf\n",
                "<img src=\"../../demos/resources/schuld1.png\" style=\"width:95%;\" align=\"center\"/>"
            ]
        },
        {
            "cell_type": "markdown",
            "metadata": {
                "slideshow": {
                    "slide_type": "slide"
                }
            },
            "source": [
                "## ... ein typischer Projektverlauf\n",
                "<img src=\"../../demos/resources/schuld2.png\" style=\"width:95%;\" align=\"center\"/>"
            ]
        },
        {
            "cell_type": "markdown",
            "metadata": {
                "slideshow": {
                    "slide_type": "slide"
                }
            },
            "source": [
                "## ... ein typischer Projektverlauf\n",
                "<img src=\"../../demos/resources/schuld3.png\" style=\"width:95%;\" align=\"center\"/>"
            ]
        },
        {
            "cell_type": "markdown",
            "metadata": {
                "slideshow": {
                    "slide_type": "slide"
                }
            },
            "source": [
                "## ... ein typischer Projektverlauf\n",
                "<img src=\"../../demos/resources/schuld4.png\" style=\"width:95%;\" align=\"center\"/>"
            ]
        },
        {
            "cell_type": "markdown",
            "metadata": {
                "slideshow": {
                    "slide_type": "slide"
                }
            },
            "source": [
                "##  \n",
                "##   \"Die Definition von Wahnsinn ist, immer wieder das Gleiche zu tun und andere Ergebnisse zu erwarten.\"\n",
                "\n",
                "<br/>\n",
                "<div align=\"right\">&ndash; Albert Einstein</div>"
            ]
        },
        {
            "cell_type": "markdown",
            "metadata": {
                "slideshow": {
                    "slide_type": "slide"
                }
            },
            "source": [
                "## Das (Tr|D)auerthema\n",
                "<img src=\"../../demos/resources/kombar0.png\" style=\"width:95%;\" align=\"center\"/>"
            ]
        },
        {
            "cell_type": "markdown",
            "metadata": {
                "slideshow": {
                    "slide_type": "slide"
                }
            },
            "source": [
                "## Das (Tr|D)auerthema\n",
                "<img src=\"../../demos/resources/kombar4.png\" style=\"width:95%;\" align=\"center\"/>"
            ]
        },
        {
            "cell_type": "markdown",
            "metadata": {
                "slideshow": {
                    "slide_type": "slide"
                }
            },
            "source": [
                "## Software Analytics"
            ]
        },
        {
            "cell_type": "markdown",
            "metadata": {
                "slideshow": {
                    "slide_type": "slide"
                }
            },
            "source": [
                "### Definition \"Software Analytics\"\n",
                "\"Software Analytics is analytics on <b>software data</b> for **managers** and <b class=\"green\">software engineers</b> with the aim of empowering software development individuals and teams to _gain and share insight from their data_ to <b>make better decisions</b>.\"\n",
                "<br/>\n",
                "<div align=\"right\"><small>Tim Menzies and Thomas Zimmermann</small></div>"
            ]
        },
        {
            "cell_type": "markdown",
            "metadata": {
                "slideshow": {
                    "slide_type": "slide"
                }
            },
            "source": [
                "### Welche Arten von Softwaredaten?\n",
                "\n",
                "Alles was aus der Entwicklung und dem Betrieb der Softwaresysteme so anf\u00e4llt: \n",
                "* Statische Daten\n",
                "* Laufzeitdaten\n",
                "* Chronologische Daten\n",
                "* Daten aus der Software-Community"
            ]
        },
        {
            "cell_type": "markdown",
            "metadata": {
                "slideshow": {
                    "slide_type": "fragment"
                }
            },
            "source": [
                "<b>Sehr gro\u00dfe Auswahl == sehr gro\u00dfe M\u00f6glichkeiten?</b>"
            ]
        },
        {
            "cell_type": "markdown",
            "metadata": {
                "slideshow": {
                    "slide_type": "slide"
                }
            },
            "source": [
                "<div align=\"center\">\n",
                "    <h1>\"Software Analytics\" heutzutage</h1>\n",
                "   \n",
                "</div>"
            ]
        },
        {
            "cell_type": "markdown",
            "metadata": {
                "slideshow": {
                    "slide_type": "fragment"
                }
            },
            "source": [
                "<div align=\"center\"><span style=\"font-size:180px\">\n",
                "\ud83d\ude25\n",
                "</span>\n",
                "<br/><br/>\n",
                "Markus traurig</div>"
            ]
        },
        {
            "cell_type": "markdown",
            "metadata": {
                "slideshow": {
                    "slide_type": "slide"
                }
            },
            "source": [
                "### Unsere derzeitiges \"Software Analytics\"<img src=\"../../demos/resources/risk2.png\" style=\"width:80%;\" align=\"center\"/>"
            ]
        },
        {
            "cell_type": "markdown",
            "metadata": {
                "slideshow": {
                    "slide_type": "slide"
                }
            },
            "source": [
                "### Unsere derzeitiges \"Software Analytics\"<img src=\"../../demos/resources/risk3.png\" style=\"width:80%;\" align=\"center\"/>"
            ]
        },
        {
            "cell_type": "markdown",
            "metadata": {
                "slideshow": {
                    "slide_type": "slide"
                }
            },
            "source": [
                "### Unsere derzeitiges \"Software Analytics\"<img src=\"../../demos/resources/risk4.png\" style=\"width:80%;\" align=\"center\"/>"
            ]
        },
        {
            "cell_type": "markdown",
            "metadata": {
                "slideshow": {
                    "slide_type": "slide"
                }
            },
            "source": [
                "<div align=\"center\">\n",
                "    <h1>\"Software Analytics\" heutzutage</h1>\n",
                "   \n",
                "</div>\n",
                "\n",
                "### Leider Option 1: Wir verpennen Risiken\n",
                "\n",
                "### Es fehlt Option 2: Situationsspezifische Analysen"
            ]
        },
        {
            "cell_type": "markdown",
            "metadata": {
                "slideshow": {
                    "slide_type": "slide"
                }
            },
            "source": [
                "### \"Es kommt drauf an!\" aka Kontext\n",
                "\n",
                "<div style=\"margin-left:160px;margin-top:80px;\">\n",
                "<img src=\"../../demos/resources/context.png\" style=\"width:70%;\" /></div>"
            ]
        },
        {
            "cell_type": "markdown",
            "metadata": {
                "slideshow": {
                    "slide_type": "fragment"
                }
            },
            "source": [
                "<b>Individuelle Systeme == Individuelle Probleme => Individuelle Analysen => Individuelle Erkenntnisse!</b>"
            ]
        },
        {
            "cell_type": "markdown",
            "metadata": {
                "slideshow": {
                    "slide_type": "slide"
                }
            },
            "source": [
                "<br/><br/>\n",
                "<div align=\"center\">\n",
                "    Situationsspezifische Analysen mit Mitteln aus dem\n",
                "    <h1><strong>Data Science</strong>\n",
                "    <br/><br/></h1>\n",
                "      <h2>  <i style=\"font-weight: normal;\">= Eine leichtgewichtige Umsetzung von </i><b><span class=\"blue\">Software Analytics</span></b></h2>\n",
                "</div>"
            ]
        },
        {
            "cell_type": "markdown",
            "metadata": {
                "slideshow": {
                    "slide_type": "slide"
                }
            },
            "source": [
                "## Data Science"
            ]
        },
        {
            "cell_type": "markdown",
            "metadata": {
                "slideshow": {
                    "slide_type": "slide"
                }
            },
            "source": [
                "### Was is Data Science?"
            ]
        },
        {
            "cell_type": "markdown",
            "metadata": {
                "slideshow": {
                    "slide_type": "fragment"
                }
            },
            "source": [
                "\"**Statistics** on a <b><span class=\"green\">Mac</span></b>.\"\n",
                "<br/>\n",
                "<br/>\n",
                "<div align=\"right\"><small>https://twitter.com/cdixon/status/428914681911070720</small></div>"
            ]
        },
        {
            "cell_type": "markdown",
            "metadata": {
                "slideshow": {
                    "slide_type": "slide"
                }
            },
            "source": [
                "### Meine Definition"
            ]
        },
        {
            "cell_type": "markdown",
            "metadata": {
                "slideshow": {
                    "slide_type": "slide"
                }
            },
            "source": [
                "#### Was bedeutet \"**data**\"?\n",
                "\"Without **data** you\u2018re just another person with an opinion.\"\n",
                "<br/>\n",
                "<div align=\"right\"><small>W. Edwards Deming</small></div>"
            ]
        },
        {
            "cell_type": "markdown",
            "metadata": {
                "slideshow": {
                    "slide_type": "fragment"
                }
            },
            "source": [
                "<b>=> Belastbare Erkenntnisse mittels <span class=\"green\">Fakten</span> liefern</b>"
            ]
        },
        {
            "cell_type": "markdown",
            "metadata": {
                "slideshow": {
                    "slide_type": "slide"
                }
            },
            "source": [
                "#### Was bedeutet \"**science**\"?\n",
                "  \n",
                "  \n",
                "\"The aim of **science** is to seek the simplest explanations of complex facts.\"\n",
                "<br/>\n",
                "<div align=\"right\"><small>Albert Einstein</small></div>"
            ]
        },
        {
            "cell_type": "markdown",
            "metadata": {
                "slideshow": {
                    "slide_type": "fragment"
                }
            },
            "source": [
                "<b>=> Neue Erkenntnisse <span class=\"green\">verst\u00e4ndlich</span> herausarbeiten</b>"
            ]
        },
        {
            "cell_type": "markdown",
            "metadata": {
                "slideshow": {
                    "slide_type": "slide"
                }
            },
            "source": [
                "## Warum Data Science?"
            ]
        },
        {
            "cell_type": "markdown",
            "metadata": {
                "slideshow": {
                    "slide_type": "slide"
                }
            },
            "source": [
                "### Data Science liegt immer noch im Trend!"
            ]
        },
        {
            "cell_type": "code",
            "execution_count": null,
            "metadata": {
                "slideshow": {
                    "slide_type": "fragment"
                },
                "tags": [
                    "delete"
                ]
            },
            "outputs": [],
            "source": []
        },
        {
            "cell_type": "markdown",
            "metadata": {
                "slideshow": {
                    "slide_type": "fragment"
                }
            },
            "source": [
                "\"100\" == max. Beliebtheit!"
            ]
        },
        {
            "cell_type": "markdown",
            "metadata": {
                "slideshow": {
                    "slide_type": "slide"
                }
            },
            "source": [
                "### Gro\u00dfe (Online-)Community\n",
                "* Kostenlose Online-Kurse, -Videos und Tutorials (z. B. DataCamp mit \u00fcber 4,6 Mio. Mitgliedern)\n",
                "* Direkte Hilfestellungen (z. B. Stack Overflow oder Blog-Artikel)\n",
                "* Lernen mit anderen durch Online-Herausforderungen (z. B. Kaggle)"
            ]
        },
        {
            "cell_type": "markdown",
            "metadata": {
                "slideshow": {
                    "slide_type": "slide"
                }
            },
            "source": [
                "### Wiederverwendbarkeit\n",
                "\n",
                "* Analyse von Gesch\u00e4ftsdaten oder Softwaredaten? Fast das Gleiche!\n",
                "* Vorgehen f\u00fcr Analysen? Bew\u00e4hrt!\n",
                "* Best Practices f\u00fcr Analysen? Frei Haus!\n",
                "* Visualisierungen! (spart immens Zeit!)"
            ]
        },
        {
            "cell_type": "markdown",
            "metadata": {
                "slideshow": {
                    "slide_type": "slide"
                }
            },
            "source": [
                "# Wie weit weg sind <span class=\"green\">SoftwareentwicklerInnen</span></b><br/> von <strong>Data Science</strong>?"
            ]
        },
        {
            "cell_type": "markdown",
            "metadata": {
                "slideshow": {
                    "slide_type": "slide"
                }
            },
            "source": [
                "### Was ist ein Data Scientist?\n",
                "\"A data scientist is someone who<br/>\n",
                "&nbsp;&nbsp;is better at **statistics**<br/>\n",
                "&nbsp;&nbsp;than any <b><span class=\"green\">software engineer</span></b><br/>\n",
                "&nbsp;&nbsp;and better at <b><span class=\"green\">software engineering</span></b><br/>\n",
                "&nbsp;&nbsp;than any **statistician**.\"\n",
                "<br/>\n",
                "<br/>\n",
                "<div align=\"right\"><small>From https://twitter.com/cdixon/status/428914681911070720</small></div>"
            ]
        },
        {
            "cell_type": "markdown",
            "metadata": {
                "slideshow": {
                    "slide_type": "fragment"
                }
            },
            "source": [
                "<b>Nicht so weit weg wie gedacht!</b>"
            ]
        },
        {
            "cell_type": "markdown",
            "metadata": {
                "slideshow": {
                    "slide_type": "slide"
                }
            },
            "source": [
                "### Einige individuellen Analysen aus der Praxis"
            ]
        },
        {
            "cell_type": "markdown",
            "metadata": {
                "slideshow": {
                    "slide_type": "-"
                }
            },
            "source": [
                "* Vorhandenen Modularisierungsschnitt analysieren\n",
                "* Performance-Probleme in heterogenen, verteilten Systemen identifizieren\n",
                "* Potenzielle Wissensverluste ermitteln\n",
                "* Eingesetzte Open-Source-Projekte bewerten\n",
                "* ..."
            ]
        },
        {
            "cell_type": "markdown",
            "metadata": {
                "slideshow": {
                    "slide_type": "slide"
                }
            },
            "source": [
                "# Wie <span class=\"green\">Software Analytics</span> mit <strong>Data Science</strong>  beginnen?"
            ]
        },
        {
            "cell_type": "markdown",
            "metadata": {
                "slideshow": {
                    "slide_type": "slide"
                }
            },
            "source": [
                "### Bew\u00e4hrte Ans\u00e4tze nutzen\n",
                "<small>Roger Pengs \"Stages of Data Analysis\"</small>  \n",
                "I. Fragestellung  \n",
                "II. Explorative Datenanalyse  \n",
                "III. Formale Modellierung  \n",
                "IV. Interpretation  \n",
                "V. Kommunikation\n",
                "  \n",
                "\n"
            ]
        },
        {
            "cell_type": "markdown",
            "metadata": {
                "slideshow": {
                    "slide_type": "fragment"
                }
            },
            "source": [
                "<b>=> von der <strong>Frage</strong> \u00fcber die <span class=\"green\">Daten</span> zur <span class=\"blue\" style=\"background-color: #FFFF00\">Erkenntnis</span>!</b>"
            ]
        },
        {
            "cell_type": "markdown",
            "metadata": {
                "slideshow": {
                    "slide_type": "slide"
                }
            },
            "source": [
                "### Gedanken zur Analyse strukturieren\n",
                "<br/>\n",
                "<img src=\"../../demos/resources/canvas.png\" style=\"width:85%;\" >\n"
            ]
        },
        {
            "cell_type": "markdown",
            "metadata": {
                "slideshow": {
                    "slide_type": "slide"
                }
            },
            "source": [
                "# Wie nachvollziehbar umsetzen?"
            ]
        },
        {
            "cell_type": "markdown",
            "metadata": {
                "slideshow": {
                    "slide_type": "slide"
                }
            },
            "source": [
                "### Verwende Literate Statistical Programming\n",
                "\n",
                "`(Intent + Code + Data + Results)`<br />\n",
                "`* Logical Step`<br />\n",
                "`+ Automation`<br />\n",
                "`= Literate Statistical Programming`"
            ]
        },
        {
            "cell_type": "markdown",
            "metadata": {
                "slideshow": {
                    "slide_type": "fragment"
                }
            },
            "source": [
                "Vehikel: **Computational notebooks**"
            ]
        },
        {
            "cell_type": "markdown",
            "metadata": {
                "slideshow": {
                    "slide_type": "slide"
                }
            },
            "source": [
                "#### Beispiel \"Computational Notebook\"\n",
                "<br/>\n",
                "  \n",
                "\n",
                "<div align=\"center\"><img src=\"../../demos/resources/notebook_approach.jpg\"></div>"
            ]
        },
        {
            "cell_type": "markdown",
            "metadata": {
                "slideshow": {
                    "slide_type": "slide"
                }
            },
            "source": [
                "### Nutze Data Science Standardwerkzeuge\n",
                "\n",
                "#### z. B. einen der popul\u00e4rsten Stacks\n",
                "\n",
                "* **Jupyter Notebook**\n",
                "* Python 3\n",
                "* pandas\n",
                "* matplotlib"
            ]
        },
        {
            "cell_type": "markdown",
            "metadata": {
                "slideshow": {
                    "slide_type": "slide"
                }
            },
            "source": [
                "### Andere Technologien\n",
                "**Jupyter Notebook** arbeitet auch mit anderen Technologieplattformen zusammen, z. B. mit\n",
                "* jQAssistant Scanner / Neo4j Graphdatenbank\n",
                "* JVM-Sprachen via beakerx / Tablesaw\n",
                "* bash\n",
                "\n",
                "<b><span class=\"green\">=> Also auch was f\u00fcr Javaianer dabei!</span></b>\n"
            ]
        },
        {
            "cell_type": "markdown",
            "metadata": {
                "slideshow": {
                    "slide_type": "slide"
                }
            },
            "source": [
                "# Hands-On"
            ]
        },
        {
            "cell_type": "markdown",
            "metadata": {
                "slideshow": {
                    "slide_type": "slide"
                }
            },
            "source": [
                "## Programmierbeispiel"
            ]
        },
        {
            "cell_type": "markdown",
            "metadata": {
                "slideshow": {
                    "slide_type": "slide"
                }
            },
            "source": [
                "### Fallbeispiel\n",
                "\n",
                "#### IntelliJ IDEA\n",
                "\n",
                "* IDE f\u00fcr Java-Entwickler\n",
                "* Fast komplett in Java geschrieben\n",
                "* Gro\u00dfes und lang aktives Projekt"
            ]
        },
        {
            "cell_type": "markdown",
            "metadata": {
                "slideshow": {
                    "slide_type": "slide"
                }
            },
            "source": [
                "### I. Fragestellung (1/3)\n",
                "\n",
                "* Schreibe die Frage explizit auf\n",
                "* Erkl\u00e4re die Anayseidee verst\u00e4ndlich\n"
            ]
        },
        {
            "cell_type": "markdown",
            "metadata": {
                "slideshow": {
                    "slide_type": "slide"
                }
            },
            "source": [
                "### I. Fragestellung (2/3)\n",
                "\n",
                "<b>Frage</b>\n",
                "* Welche Quellcodedateien sind besonders komplex und \u00e4nderten sich in letzter Zeit h\u00e4ufig?\n"
            ]
        },
        {
            "cell_type": "markdown",
            "metadata": {
                "slideshow": {
                    "slide_type": "slide"
                }
            },
            "source": [
                "### I. Fragestellung (3/3)\n",
                "#### Umsetzungsideen\n",
                "* Werkzeuge: Jupyter, Python, pandas, matplotlib\n",
                "* Heuristiken:\n",
                " * \"komplex\": viele Quellcodezeilen\n",
                " * \"\u00e4ndert ... h\u00e4ufig\": hohe Anzahl Commits\n",
                " * \"in letzter Zeit\": letzte 90 Tage\n"
            ]
        },
        {
            "cell_type": "markdown",
            "metadata": {
                "slideshow": {
                    "slide_type": "fragment"
                }
            },
            "source": [
                "**Meta-Ziel:** Grundmechaniken kennenlernen."
            ]
        },
        {
            "cell_type": "markdown",
            "metadata": {
                "slideshow": {
                    "slide_type": "slide"
                }
            },
            "source": [
                "### II. Explorative Datenanalyse\n",
                "* Finde und lade m\u00f6gliche Softwaredaten\n",
                "* Bereinige und filtere die Rohdaten"
            ]
        },
        {
            "cell_type": "markdown",
            "metadata": {
                "slideshow": {
                    "slide_type": "slide"
                }
            },
            "source": [
                "*Wir laden einen Datenexport aus einem Git-Repository.*"
            ]
        },
        {
            "cell_type": "code",
            "execution_count": null,
            "metadata": {
                "slideshow": {
                    "slide_type": "fragment"
                },
                "tags": [
                    "delete"
                ]
            },
            "outputs": [],
            "source": []
        },
        {
            "cell_type": "markdown",
            "metadata": {
                "slideshow": {
                    "slide_type": "slide"
                }
            },
            "source": [
                "*Wir sehen uns Basisinfos \u00fcber den Datensatz an.*"
            ]
        },
        {
            "cell_type": "code",
            "execution_count": null,
            "metadata": {
                "slideshow": {
                    "slide_type": "-"
                },
                "tags": [
                    "delete"
                ]
            },
            "outputs": [],
            "source": []
        },
        {
            "cell_type": "markdown",
            "metadata": {
                "slideshow": {
                    "slide_type": "fragment"
                }
            },
            "source": [
                "<b>1</b> **DataFrame** (~ programmierbares Excel-Arbeitsblatt), <b>6</b> **Series** (= Spalten), <b>1128819</b> **entries** (= Reihen)"
            ]
        },
        {
            "cell_type": "markdown",
            "metadata": {
                "slideshow": {
                    "slide_type": "slide"
                }
            },
            "source": [
                "*Wir wandeln die Zeitstempel von Texte in Objekte um.*"
            ]
        },
        {
            "cell_type": "code",
            "execution_count": null,
            "metadata": {
                "slideshow": {
                    "slide_type": "-"
                },
                "tags": [
                    "delete"
                ]
            },
            "outputs": [],
            "source": []
        },
        {
            "cell_type": "markdown",
            "metadata": {
                "slideshow": {
                    "slide_type": "slide"
                }
            },
            "source": [
                "*Wir sehen uns nur die j\u00fcngsten \u00c4nderungen an.*"
            ]
        },
        {
            "cell_type": "code",
            "execution_count": null,
            "metadata": {
                "scrolled": true,
                "slideshow": {
                    "slide_type": "-"
                },
                "tags": [
                    "delete"
                ]
            },
            "outputs": [],
            "source": []
        },
        {
            "cell_type": "markdown",
            "metadata": {
                "slideshow": {
                    "slide_type": "slide"
                }
            },
            "source": [
                "*Wir wollen nur Java-Code verwenden.*"
            ]
        },
        {
            "cell_type": "code",
            "execution_count": null,
            "metadata": {
                "slideshow": {
                    "slide_type": "-"
                },
                "tags": [
                    "delete"
                ]
            },
            "outputs": [],
            "source": []
        },
        {
            "cell_type": "markdown",
            "metadata": {
                "slideshow": {
                    "slide_type": "slide"
                }
            },
            "source": [
                "### III. Formale Modellierung\n",
                "\n",
                "* Schaffe neue Sichten\n",
                "* Verschneide weitere Daten"
            ]
        },
        {
            "cell_type": "markdown",
            "metadata": {
                "slideshow": {
                    "slide_type": "slide"
                }
            },
            "source": [
                "*Wir z\u00e4hlen die Anzahl der \u00c4nderungen je Datei.*"
            ]
        },
        {
            "cell_type": "code",
            "execution_count": null,
            "metadata": {
                "slideshow": {
                    "slide_type": "-"
                },
                "tags": [
                    "delete"
                ]
            },
            "outputs": [],
            "source": []
        },
        {
            "cell_type": "markdown",
            "metadata": {
                "slideshow": {
                    "slide_type": "slide"
                }
            },
            "source": [
                "*Wir holen Infos \u00fcber die Code-Zeilen hinzu...*"
            ]
        },
        {
            "cell_type": "code",
            "execution_count": null,
            "metadata": {
                "slideshow": {
                    "slide_type": "-"
                },
                "tags": [
                    "delete"
                ]
            },
            "outputs": [],
            "source": []
        },
        {
            "cell_type": "markdown",
            "metadata": {
                "slideshow": {
                    "slide_type": "slide"
                }
            },
            "source": [
                "*...und verschneiden diese mit den vorhandenen Daten.*"
            ]
        },
        {
            "cell_type": "code",
            "execution_count": null,
            "metadata": {
                "slideshow": {
                    "slide_type": "-"
                },
                "tags": [
                    "delete"
                ]
            },
            "outputs": [],
            "source": []
        },
        {
            "cell_type": "markdown",
            "metadata": {
                "slideshow": {
                    "slide_type": "slide"
                }
            },
            "source": [
                "### VI. Interpretation\n",
                "* Erarbeite das Kernergebnis der Analyse heraus\n",
                "* Mache die zentrale Botschaft / neuen Erkenntnisse deutlich"
            ]
        },
        {
            "cell_type": "markdown",
            "metadata": {
                "slideshow": {
                    "slide_type": "slide"
                }
            },
            "source": [
                "*Wir zeigen nur die TOP 10 Hotspots im Code an.*"
            ]
        },
        {
            "cell_type": "code",
            "execution_count": null,
            "metadata": {
                "slideshow": {
                    "slide_type": "-"
                },
                "tags": [
                    "delete"
                ]
            },
            "outputs": [],
            "source": []
        },
        {
            "cell_type": "markdown",
            "metadata": {
                "slideshow": {
                    "slide_type": "slide"
                }
            },
            "source": [
                "### V. Kommunikation\n",
                "* Transformiere die Erkenntnisse in eine verst\u00e4ndliche Visualisierung\n",
                "* Kommuniziere die n\u00e4chsten Schritte nach der Analyse"
            ]
        },
        {
            "cell_type": "markdown",
            "metadata": {
                "slideshow": {
                    "slide_type": "slide"
                }
            },
            "source": [
                "*Wir erzeugen ein XY-Diagramm aus der TOP 10 Liste.*"
            ]
        },
        {
            "cell_type": "code",
            "execution_count": null,
            "metadata": {
                "slideshow": {
                    "slide_type": "-"
                },
                "tags": [
                    "delete"
                ]
            },
            "outputs": [],
            "source": []
        },
        {
            "cell_type": "markdown",
            "metadata": {
                "slideshow": {
                    "slide_type": "slide"
                }
            },
            "source": [
                "### Ende der Demo"
            ]
        },
        {
            "cell_type": "markdown",
            "metadata": {
                "slideshow": {
                    "slide_type": "slide"
                }
            },
            "source": [
                "## Weitere Analysebeispiele\n",
                "\n",
                "* Analyse der CPU-Auslastung mit Hilfe von `vmstat`\n",
                "* Abh\u00e4ngigkeitsanalyse mit `jdeps` und `D3`\n",
                "* Analyse der \u00c4nderungskoh\u00e4sion mit `Git`\n",
                "* Analyse der Community-Aktivit\u00e4ten mittels Daten von `Stackoverflow`\n",
                "* Pr\u00fcfung der Architektur-Governance-Vorgaben mit `jQAssistant`"
            ]
        },
        {
            "cell_type": "markdown",
            "metadata": {
                "slideshow": {
                    "slide_type": "slide"
                }
            },
            "source": [
                "### Buchempfehlungen\n",
                "* Adam Tornhill: Software Design X-Ray\n",
                "* Janelle Arty Starr: Idea Flow\n",
                "* Tim Menzies, Laurie Williams, Thomas Zimmermann: Perspectives on Data Science for Software Engineering\n",
                "* Jeff Leek: The Elements of Data Analytic Style\n",
                "* Wes McKinney: Python For Data Analysis"
            ]
        },
        {
            "cell_type": "markdown",
            "metadata": {
                "slideshow": {
                    "slide_type": "slide"
                }
            },
            "source": [
                "### Meine Empfehlungen zum Einstieg\n",
                "\n",
                "#### Meine TOP 5's\n",
                "\n",
                "https://www.feststelltaste.de/category/top5/\n",
                "    \n",
                "Kurse, Videos, Blogs, B\u00fccher und mehr (im Aufbau).\n",
                "\n",
                "#### Mini-Tutorial\n",
                "<code>https://github.com/feststelltaste/software-analytics-workshop</code>"
            ]
        },
        {
            "cell_type": "markdown",
            "metadata": {
                "slideshow": {
                    "slide_type": "slide"
                }
            },
            "source": [
                "## Zusammenfassung\n",
                "**1.** <b>Software Analytics</b> mit Data-Science-Werkzeugen ist m\u00f6glich  \n",
                "**2.** Wer mehr will bekommt auch <b>mehr</b>!  \n",
                "**3.** Es gibt unglaublich <b>viele Quellen</b> f\u00fcr Daten in der Softwareentwicklung  "
            ]
        },
        {
            "cell_type": "markdown",
            "metadata": {
                "slideshow": {
                    "slide_type": "fragment"
                }
            },
            "source": [
                "<b>=> von der <strong>Frage</strong> \u00fcber die <span class=\"green\">Daten</span> zur <span class=\"blue\" style=\"background-color: #FFFF00\">Erkenntnis</span>!</b>"
            ]
        },
        {
            "cell_type": "markdown",
            "metadata": {
                "slideshow": {
                    "slide_type": "slide"
                }
            },
            "source": [
                "# Danke! Fragen?\n",
                "\n",
                "<b>Markus Harrer</b><br/>\n",
                "innoQ Deutschland GmbH\n",
                "  \n",
                "markus.harrer@innoq.com\n",
                "\n",
                "`@feststelltaste`"
            ]
        }
    ],
    "metadata": {
        "celltoolbar": "Slideshow",
        "kernelspec": {
            "display_name": "Python 3",
            "language": "python",
            "name": "python3"
        },
        "language_info": {
            "codemirror_mode": {
                "name": "ipython",
                "version": 3
            },
            "file_extension": ".py",
            "mimetype": "text/x-python",
            "name": "python",
            "nbconvert_exporter": "python",
            "pygments_lexer": "ipython3",
            "version": "3.6.4"
        },
        "rise": {
            "controls": false,
            "showSlideNumber": "speaker",
            "slideNumber ": "false",
            "transition": "none"
        }
    },
    "nbformat": 4,
    "nbformat_minor": 2
}