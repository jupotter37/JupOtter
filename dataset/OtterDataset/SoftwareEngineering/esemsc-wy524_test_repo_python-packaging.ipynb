{
 "cells": [
  {
   "cell_type": "markdown",
   "metadata": {
    "slideshow": {
     "slide_type": "slide"
    }
   },
   "source": [
    "# Python Packaging 📦\n",
    "\n",
    "(How to share my code with the world? 🌍)"
   ]
  },
  {
   "cell_type": "markdown",
   "metadata": {
    "slideshow": {
     "slide_type": "slide"
    }
   },
   "source": [
    "### [~~Dr~~ **Marijan** ~~Beg~~](https://profiles.imperial.ac.uk/m.beg) (MAH - ree - yahn)\n",
    "\n",
    "- **Office**: Royal School of Mines (RSM) 4.95 (4th floor)\n",
    "- **Email**: m.beg@imperial.ac.uk\n",
    "- **GitHub**: [@marijanbeg](https://github.com/marijanbeg)\n",
    "- **Marijan's anonymous feedback form**: https://forms.office.com/e/BiekMgPTMm\n",
    "  - the form is the same all year, and it is available anytime... I'm keeping an eye on it."
   ]
  },
  {
   "cell_type": "markdown",
   "metadata": {
    "slideshow": {
     "slide_type": "slide"
    }
   },
   "source": [
    "### Course representatives (reps)\n",
    "\n",
    "- So far, two students expressed their interest.\n",
    "- Ideally, we would like to have at least three.\n",
    "- If somebody else is interested, please **contact James Percival** to put your name forward. 🙋"
   ]
  },
  {
   "cell_type": "markdown",
   "metadata": {
    "slideshow": {
     "slide_type": "slide"
    }
   },
   "source": [
    "### Don't Hesitate to Interrupt!\n",
    "\n",
    "- [**Cognitive Load Theory (CLT)**](https://www.tandfonline.com/doi/full/10.3109/0142159X.2014.889290) 🧠\n",
    "  - On average, our brains can hold **only 7 \"chunks\" of information at once** in working memory.\n",
    "  - A chunk can be a fact, idea, or task.\n",
    "  - Being \"smart\" does not mean more chunks.\n",
    "  - Once we reach this limit, we overlook or forget things.\n",
    "- If I juggle 7 tasks at once, I will forget the 8th one...\n",
    "- **If I say some nonsense, you spot a mistake, or have a question, just speak up: \"Hey Marijan, what...?\"**"
   ]
  },
  {
   "cell_type": "markdown",
   "metadata": {
    "slideshow": {
     "slide_type": "slide"
    }
   },
   "source": [
    "### Intended Learning Outcomes\n",
    "\n",
    "By the end of this lecture you should be able to:\n",
    "\n",
    "1. Explain the importance of writing code in `.py` files (scripts, modules, packages).\n",
    "2. Build and install your own Python package fram scratch.\n",
    "3. Follow the best practices for `LICENSE`, docstrings, `README.md`, and `pyproject.toml`.\n",
    "4. Publish your package on PyPI and make it installable by anyone around the world with `pip install`."
   ]
  },
  {
   "cell_type": "markdown",
   "metadata": {
    "slideshow": {
     "slide_type": "slide"
    }
   },
   "source": [
    "## Jupyter Notebook 🗒️"
   ]
  },
  {
   "cell_type": "markdown",
   "metadata": {
    "slideshow": {
     "slide_type": "slide"
    }
   },
   "source": [
    "### Why is Jupyter so cool? 😎\n",
    "\n",
    "- A widely-used tool in data science, computational science, and machine learning.\n",
    "- An executable and self-consistent document (`.ipynb`) made out of cells of different type:\n",
    "  - **Markdown cells**: Human-readable text, equations, and images\n",
    "  - **Code cells**: Code and its output\n",
    "- **Interactive development environment**: lets you write and execute code in chunks, making it useful for exploratory work and prototyping.\n",
    "- Used extensively in [teaching](https://pubs.aip.org/aapt/ajp/article/92/10/794/3312285/Numerical-simulation-projects-in-micromagnetics). 🧑‍🏫\n",
    "- Great for [documenting workflows](https://ieeexplore.ieee.org/document/9325550) (storytelling) and promoting **reproducibility**. 📖\n",
    "- Can **run remotely** on a more powerful computer (e.g. Google Colab with GPUs, Binder, or JupyterHub).\n",
    "- Originally for Python, but now supports over 100 languages."
   ]
  },
  {
   "cell_type": "markdown",
   "metadata": {
    "slideshow": {
     "slide_type": "slide"
    }
   },
   "source": [
    "### Jupyter Markdown Cell Demo 📸\n",
    "\n",
    "This cell demonstrates **bold text**, *italic text*, and `inline code`. You can also create [links](https://www.jupyter.org) or LaTeX equations:\n",
    "\n",
    "$$i \\hbar \\frac{\\partial \\Psi(\\mathbf{r}, t)}{\\partial t} = -\\frac{\\hbar^2}{2m} \\nabla^2 \\Psi(\\mathbf{r}, t) + V(\\mathbf{r}, t) \\Psi(\\mathbf{r}, t)$$\n",
    "\n",
    "- **Bulleted lists** work as expected\n",
    "  - With **nested items** and more details\n",
    "    - And even more details\n",
    "\n",
    "1. **Numbered lists** are also available\n",
    "2. Which can be useful for ordered sequences\n",
    "\n",
    "Code blocks:\n",
    "```python\n",
    "def hello_world():\n",
    "    print(\"Hello, world!\")\n",
    "```\n",
    "\n",
    "| Tables | are |\n",
    "| - | - |\n",
    "| also | possible |"
   ]
  },
  {
   "cell_type": "markdown",
   "metadata": {
    "slideshow": {
     "slide_type": "slide"
    }
   },
   "source": [
    "### What are the disadvantages of Jupyter? 👎\n",
    "\n",
    "- **Version Control Challenges:** JSON format with lots of metadata makes Git version control tricky and leads to conflicts (as you have already experienced).\n",
    "- **Run cells out of order:** The cell output may not match the code in cells.\n",
    "  - It is usually good idea to **Restart Kernel**.\n",
    "- **Reusability and Code Quality Issues:**\n",
    "  - Harder to reuse code between notebooks and projects, leading to duplication and maintenance challenges.\n",
    "  - We can `import` code from one notebook in another.\n",
    "  - How do we rigorously test the code in notebooks?\n",
    "- Writing `.py` files and building a Python package 📦 helps us write resusable code and share it with the world. 🌍"
   ]
  },
  {
   "cell_type": "markdown",
   "metadata": {
    "slideshow": {
     "slide_type": "slide"
    }
   },
   "source": [
    "### Running cells out of order 😵‍💫\n",
    "\n",
    "(If you were not in the lecture, I ran the following three cells in different order and checked the output)"
   ]
  },
  {
   "cell_type": "code",
   "metadata": {
    "ExecuteTime": {
     "end_time": "2024-10-14T07:58:04.974212Z",
     "start_time": "2024-10-14T07:58:04.971078Z"
    }
   },
   "source": [
    "x = 1"
   ],
   "outputs": [],
   "execution_count": 1
  },
  {
   "cell_type": "code",
   "metadata": {
    "ExecuteTime": {
     "end_time": "2024-10-14T07:58:12.760271Z",
     "start_time": "2024-10-14T07:58:12.757853Z"
    }
   },
   "source": [
    "x += 1"
   ],
   "outputs": [],
   "execution_count": 2
  },
  {
   "cell_type": "code",
   "metadata": {
    "ExecuteTime": {
     "end_time": "2024-10-14T07:58:13.106084Z",
     "start_time": "2024-10-14T07:58:13.102919Z"
    }
   },
   "source": [
    "print(f\"{x = }\")"
   ],
   "outputs": [
    {
     "name": "stdout",
     "output_type": "stream",
     "text": [
      "x = 2\n"
     ]
    }
   ],
   "execution_count": 3
  },
  {
   "cell_type": "markdown",
   "metadata": {
    "slideshow": {
     "slide_type": "slide"
    }
   },
   "source": [
    "## Python scripts 📜"
   ]
  },
  {
   "cell_type": "markdown",
   "metadata": {
    "slideshow": {
     "slide_type": "slide"
    }
   },
   "source": [
    "### What is a Python script? 🤔\n",
    "\n",
    "- A `.py` text file containing Python code designed to be run as a standalone program from the terminal/command line:\n",
    "    ```bash\n",
    "    python my_script.py\n",
    "    ```\n",
    "- Unlike Word/Pages document, it does not contain metadata on font, font size, colour, etc.\n",
    "- Typically contains code that’s intended to run directly, instead of just being imported."
   ]
  },
  {
   "cell_type": "markdown",
   "metadata": {
    "slideshow": {
     "slide_type": "subslide"
    }
   },
   "source": [
    "### Example: ROT13 cipher\n",
    "\n",
    "- **ROT13** (short for \"rotate by 13 places\") is a letter substitution cipher.\n",
    "- It only affects alphabetic characters and leaves numbers, punctuation, and whitespace unchanged.\n",
    "- Each letter in the alphabet is replaced by the letter 13 positions ahead of it, looping back to the start of the alphabet if necessary. For example:\n",
    "  - **A** becomes **N**, **B** becomes **O**, and so on up to **M**, which becomes **Z**.\n",
    "  - **N** becomes **A**, **O** becomes **B**, etc., wrapping around the alphabet again after **Z**.\n",
    "- Since the English alphabet has 26 letters, applying ROT13 twice returns the original text.\n",
    "- Example of ROT13:\n",
    "  - **Input**: \"Hello, World!\"\n",
    "  - **Output**: \"Uryyb, Jbeyq!\""
   ]
  },
  {
   "cell_type": "markdown",
   "metadata": {
    "slideshow": {
     "slide_type": "slide"
    }
   },
   "source": [
    "#### Using `sys.argv` in Python\n",
    "\n",
    "**What is `sys.argv`?**\n",
    "- `sys.argv` is a list in Python that contains command-line arguments passed to a script.\n",
    "- The first element, `sys.argv[0]`, is always the script name.\n",
    "- Additional arguments start from `sys.argv[1]` onward.\n",
    "- Have a look at [`argparse`](https://docs.python.org/3/library/argparse.html) for parsing arguments with more options. 💪\n",
    "\n",
    "**Example Usage (`argv-example.py`)**:\n",
    "```python\n",
    "import sys\n",
    "\n",
    "print(f\"{sys.argv[0] = }\")\n",
    "print(f\"{sys.argv[1] = }\")\n",
    "print(f\"{sys.argv[2] = }\")\n",
    "```"
   ]
  },
  {
   "cell_type": "code",
   "metadata": {
    "ExecuteTime": {
     "end_time": "2024-10-14T07:58:16.885287Z",
     "start_time": "2024-10-14T07:58:16.737633Z"
    }
   },
   "source": [
    "!python argv-example.py Computational Science"
   ],
   "outputs": [
    {
     "name": "stdout",
     "output_type": "stream",
     "text": [
      "python: can't open file '/Users/bruce/ESEProjects/MPM/test_repo/TEMP_Lecture05/argv-example.py': [Errno 2] No such file or directory\r\n"
     ]
    }
   ],
   "execution_count": 4
  },
  {
   "cell_type": "markdown",
   "metadata": {
    "slideshow": {
     "slide_type": "slide"
    }
   },
   "source": [
    "#### Back to ROT13...\n",
    "\n",
    "An [example script](./rot13.py), `rot13.py`:\n",
    "```python\n",
    "import codecs\n",
    "import sys\n",
    "\n",
    "input_text = sys.argv[1]\n",
    "encoded_text = codecs.encode(input_text, \"rot_13\")\n",
    "\n",
    "print(encoded_text)\n",
    "```\n",
    "\n",
    "Inside Jupyter (IPython kernel), the `!` sends the command to the shell:"
   ]
  },
  {
   "cell_type": "code",
   "metadata": {
    "ExecuteTime": {
     "end_time": "2024-10-14T08:25:03.028797Z",
     "start_time": "2024-10-14T08:25:02.898123Z"
    }
   },
   "source": "!python rot13_script.py \"Uryyb rirelobql!\" ",
   "outputs": [
    {
     "name": "stdout",
     "output_type": "stream",
     "text": [
      "Hello everybody!\r\n"
     ]
    }
   ],
   "execution_count": 8
  },
  {
   "cell_type": "markdown",
   "metadata": {
    "slideshow": {
     "slide_type": "slide"
    }
   },
   "source": [
    "### Warning 🚨\n",
    "\n",
    "The `!` command runs with the same privileges as the user. Don't just run random notebooks unless you understand what they're doing.\n",
    "\n",
    "\n",
    "Imagine...\n",
    "```bash\n",
    "rm -rf the_project_I_worked_on_my_entire_life\n",
    "```"
   ]
  },
  {
   "cell_type": "markdown",
   "metadata": {
    "slideshow": {
     "slide_type": "slide"
    }
   },
   "source": [
    "### `%run` magic\n",
    "\n",
    "- `%run` is a Jupyter Notebook *magic command* used to execute an entire Python script within a notebook cell.\n",
    "- It allows you to run external `.py` files and see their output directly in the notebook.\n",
    "  ```python\n",
    "  %run my_script.py\n",
    "  ```\n",
    "- You can pass arguments to the script just like in the command line:\n",
    "\n",
    "    ```python\n",
    "    %run my_script.py arg1 arg2\n",
    "    ```\n",
    "- After running, variables and functions from the script are available in the notebook’s environment."
   ]
  },
  {
   "cell_type": "code",
   "metadata": {
    "ExecuteTime": {
     "end_time": "2024-10-14T08:24:28.451279Z",
     "start_time": "2024-10-14T08:24:28.434094Z"
    }
   },
   "source": [
    "# Quotes ensure that the shell does not interpret spaces as argument separators.\n",
    "%run rot13_script.py \"Vg'f n frperg!\""
   ],
   "outputs": [
    {
     "name": "stdout",
     "output_type": "stream",
     "text": [
      "It's a secret!\n"
     ]
    }
   ],
   "execution_count": 7
  },
  {
   "cell_type": "markdown",
   "metadata": {
    "slideshow": {
     "slide_type": "slide"
    }
   },
   "source": [
    "### Non-ASCII characters in Python\n",
    "\n",
    "Generally, Unicode (`utf-8`) characters are allowed."
   ]
  },
  {
   "cell_type": "code",
   "execution_count": 7,
   "metadata": {},
   "outputs": [
    {
     "name": "stdout",
     "output_type": "stream",
     "text": [
      "Marijan 没有头发\n"
     ]
    }
   ],
   "source": [
    "def hello(name):\n",
    "    print(f'{name} 没有头发')\n",
    "\n",
    "hello('Marijan')"
   ]
  },
  {
   "cell_type": "markdown",
   "metadata": {
    "slideshow": {
     "slide_type": "slide"
    }
   },
   "source": [
    "Similarly, we can use any Unicode characters in comments and strings."
   ]
  },
  {
   "cell_type": "code",
   "execution_count": 8,
   "metadata": {},
   "outputs": [
    {
     "name": "stdout",
     "output_type": "stream",
     "text": [
      "不好意思, 我不会说中文.\n",
      "😊\n"
     ]
    }
   ],
   "source": [
    "def sorry():\n",
    "    \"\"\"😊\"\"\"\n",
    "    return \"不好意思, 我不会说中文.\"\n",
    "\n",
    "print(sorry())\n",
    "print(sorry.__doc__)"
   ]
  },
  {
   "cell_type": "markdown",
   "metadata": {},
   "source": [
    "Fortunately, you can't actually use emoji in function names, so code like\n",
    "\n",
    "\n",
    "```python\n",
    "def 😊(x):\n",
    "   return \"This doesn't work\"\n",
    "```\n",
    "\n",
    "will raise a `SyntaxError` exception."
   ]
  },
  {
   "cell_type": "markdown",
   "metadata": {
    "slideshow": {
     "slide_type": "slide"
    }
   },
   "source": [
    "## Python modules 🧩"
   ]
  },
  {
   "cell_type": "markdown",
   "metadata": {
    "slideshow": {
     "slide_type": "slide"
    }
   },
   "source": [
    "### What is a module? 🤔\n",
    "\n",
    "- A Python module is a file containing Python code that defines functions, classes, and variables.\n",
    "- It is intended **to be imported** and reused in other Python programs (scripts and Jupyter notebooks).\n",
    "\n",
    "- **Why are modules so cool?** 😎\n",
    "  - **Code Organization**: Helps in organizing code into manageable (and **testable**) sections.\n",
    "  - **Reusability**: Allows you to reuse code across multiple scripts without duplication.\n",
    "  - **Namespace Management**: Prevents naming conflicts by encapsulating code in a separate namespace."
   ]
  },
  {
   "cell_type": "markdown",
   "metadata": {
    "slideshow": {
     "slide_type": "slide"
    }
   },
   "source": [
    "### Example: ROT13\n",
    "\n",
    "Let's define a function in `rot13_module.py`:\n",
    "\n",
    "```python\n",
    "import codecs\n",
    "import sys\n",
    "\n",
    "\n",
    "def rot13(original):\n",
    "    return codecs.encode(original, \"rot_13\")\n",
    "\n",
    "    \n",
    "if __name__ == \"__main__\":\n",
    "    if len(sys.argv) > 1:\n",
    "        input_text = sys.argv[1]\n",
    "    else:\n",
    "        input_text = \"Vg'f n frperg!\"\n",
    "    encoded_text = rot13(input_text)\n",
    "    print(encoded_text)\n",
    "```\n",
    "\n",
    "If we run it, the output is the same as with `rot13_script.py`."
   ]
  },
  {
   "cell_type": "code",
   "metadata": {
    "ExecuteTime": {
     "end_time": "2024-10-14T08:35:21.056315Z",
     "start_time": "2024-10-14T08:35:21.052770Z"
    }
   },
   "source": "%run rot13_module.py \"abj vf gur gvzr\"",
   "outputs": [
    {
     "name": "stdout",
     "output_type": "stream",
     "text": [
      "now is the time\n"
     ]
    }
   ],
   "execution_count": 17
  },
  {
   "cell_type": "markdown",
   "metadata": {
    "slideshow": {
     "slide_type": "slide"
    }
   },
   "source": [
    "### What is so special about the modules then? 😒\n",
    "\n",
    "They can be imported:"
   ]
  },
  {
   "cell_type": "code",
   "metadata": {
    "ExecuteTime": {
     "end_time": "2024-10-14T08:37:26.290563Z",
     "start_time": "2024-10-14T08:37:26.287940Z"
    }
   },
   "source": [
    "import rot13_module"
   ],
   "outputs": [],
   "execution_count": 18
  },
  {
   "cell_type": "markdown",
   "metadata": {},
   "source": [
    "And the functions, classes, and variables can be used:"
   ]
  },
  {
   "cell_type": "code",
   "metadata": {
    "ExecuteTime": {
     "end_time": "2024-10-14T08:37:27.806625Z",
     "start_time": "2024-10-14T08:37:27.800485Z"
    }
   },
   "source": [
    "rot13_module.rot13(\"V'z na vzcbegrq shapgvba!\")"
   ],
   "outputs": [
    {
     "data": {
      "text/plain": [
       "\"I'm an imported function!\""
      ]
     },
     "execution_count": 19,
     "metadata": {},
     "output_type": "execute_result"
    }
   ],
   "execution_count": 19
  },
  {
   "cell_type": "markdown",
   "metadata": {
    "slideshow": {
     "slide_type": "slide"
    }
   },
   "source": [
    "### `if __name__ == \"__main__`??? 🤯\n",
    "\n",
    "- Checks if a `.py` file is being:\n",
    "  - **run directly**: `$ python my_file.py` OR\n",
    "  - **imported**: `import myfile`\n",
    "\n",
    "```python\n",
    "if __name__ == \"__main__\":\n",
    "    # Code to execute when the script is run directly\n",
    "```"
   ]
  },
  {
   "cell_type": "markdown",
   "metadata": {},
   "source": [
    "- When the `.py` file is run directly, __name__ is set to \"__main__\".\n",
    "- Ensures that certain code blocks (e.g., test code, command-line interface) run only when the script is executed directly, not when imported.\n",
    "- Allows the script to be used both as a standalone program and as a reusable module without modification."
   ]
  },
  {
   "cell_type": "markdown",
   "metadata": {
    "slideshow": {
     "slide_type": "slide"
    }
   },
   "source": [
    "### The `import` search path  🔍\n",
    "\n",
    "When we `import` something, Python searches for it in a specific order:\n",
    "\n",
    "1. **Built-in Modules**: Python checks if the module is a built-in module (e.g., `os`, `sys`).\n",
    "2. **Current Directory**: Looks in the current directory from which the script/notebook is run.\n",
    "3. **PYTHONPATH**: Searches in directories listed in the environment variable `PYTHONPATH` (if set).\n",
    "4. **Standard Library Directories**: Checks standard library directories for the module (e.g. `re`, `json`).\n",
    "5. **Site Packages**: Finally, Python looks in the site-packages directory for third-party packages - those installed using `pip install`, e.g. `numpy`, `pandas`, etc.\n",
    "\n",
    "The paths are stored in `sys.path`, which you can view or modify (via `PYTHONPATH` before the session starts of directly later)."
   ]
  },
  {
   "cell_type": "code",
   "metadata": {
    "ExecuteTime": {
     "end_time": "2024-10-14T08:39:10.070381Z",
     "start_time": "2024-10-14T08:39:10.067883Z"
    }
   },
   "source": [
    "import sys\n",
    "\n",
    "print(sys.path)"
   ],
   "outputs": [
    {
     "name": "stdout",
     "output_type": "stream",
     "text": [
      "['/Applications/PyCharm.app/Contents/plugins/python/helpers-pro/jupyter_debug', '/Applications/PyCharm.app/Contents/plugins/python-ce/helpers/pydev', '/Users/bruce/ESEProjects/MPM/test_repo/TEMP_Lecture05', '/Users/bruce/ESEProjects/MPM/test_repo', '/opt/anaconda3/envs/mpm2024/lib/python312.zip', '/opt/anaconda3/envs/mpm2024/lib/python3.12', '/opt/anaconda3/envs/mpm2024/lib/python3.12/lib-dynload', '', '/opt/anaconda3/envs/mpm2024/lib/python3.12/site-packages', '/opt/anaconda3/envs/mpm2024/lib/python3.12/site-packages/setuptools/_vendor']\n"
     ]
    }
   ],
   "execution_count": 20
  },
  {
   "cell_type": "markdown",
   "metadata": {
    "slideshow": {
     "slide_type": "slide"
    }
   },
   "source": [
    "#### The `importlib.reload` and `%reset` commands.\n",
    "\n",
    "**`importlib.reload(module)`**\n",
    "- Reloads a previously imported module\n",
    "- Useful for applying changes made to the module without restarting the Python interpreter.\n",
    "\n",
    "**`%reset` - Clearing the Namespace**\n",
    "- `%reset` is an IPython magic command used to **clear the entire namespace** in interactive environments like Jupyter Notebook or IPython.\n",
    "- It **removes all variables, functions, imports, and objects** from the current session."
   ]
  },
  {
   "cell_type": "code",
   "metadata": {
    "slideshow": {
     "slide_type": "slide"
    },
    "ExecuteTime": {
     "end_time": "2024-10-14T08:39:19.908489Z",
     "start_time": "2024-10-14T08:39:19.878074Z"
    }
   },
   "source": [
    "x = 7\n",
    "print(x)\n",
    "\n",
    "# by itself, %reset asks the user for confirmation.\n",
    "# %reset -f forces it to proceed.\n",
    "%reset -f\n",
    "try:\n",
    "    print(x)\n",
    "except NameError as e:\n",
    "    print(e)"
   ],
   "outputs": [
    {
     "name": "stdout",
     "output_type": "stream",
     "text": [
      "7\n",
      "name 'x' is not defined\n"
     ]
    }
   ],
   "execution_count": 21
  },
  {
   "cell_type": "markdown",
   "metadata": {
    "slideshow": {
     "slide_type": "slide"
    }
   },
   "source": [
    "### Key software engineering principles 🤓\n",
    "\n",
    "**DRY (Don't Repeat Yourself)**\n",
    "- Avoid duplicating code by abstracting common functionality.\n",
    "- Reduces redundancy/duplication, making code easier to maintain and less error-prone.\n",
    "- Are you copy/pasting your code between cells, scripts, notebooks? 😡\n",
    "- **Less code, less bugs!**\n",
    "\n",
    "**KISS (Keep It Simple, Stupid)**\n",
    "- Design systems and write code in the simplest way possible.\n",
    "- Simplifies understanding, maintenance, and reduces potential bugs.\n",
    "\n",
    "**YAGNI (You Aren't Gonna Need It)**\n",
    "- Only implement features when they are actually needed.\n",
    "- Prevents over-engineering and keeps the codebase lean and focused.\n",
    "- Typical module has one class or several (related to each other) functions.\n",
    "\n",
    "Sometimes these compete."
   ]
  },
  {
   "cell_type": "markdown",
   "metadata": {
    "slideshow": {
     "slide_type": "slide"
    }
   },
   "source": [
    "## PEP8 - The Python style guide 💅"
   ]
  },
  {
   "cell_type": "markdown",
   "metadata": {
    "slideshow": {
     "slide_type": "slide"
    }
   },
   "source": [
    "### What is PEP8?\n",
    "- **PEP8** is Python's [**official style guide**](https://www.python.org/dev/peps/pep-0008/) that outlines best practices for writing clean, readable, and consistent code.\n",
    "- Created to ensure a **uniform coding style** across Python projects, making code easier to read and maintain.\n",
    "- Code is much more often read than written! Be nice. 😇\n",
    "\n",
    "**Examples**\n",
    "- **Indentation**: 4 spaces per indentation level.\n",
    "- **Line Length**: Limit lines to 79 characters.\n",
    "- **Naming Conventions**: Use `snake_case` for variables and functions, `CamelCase` for classes.\n",
    "- **Whitespace**: Avoid extraneous whitespace for cleaner code."
   ]
  },
  {
   "cell_type": "markdown",
   "metadata": {
    "slideshow": {
     "slide_type": "slide"
    }
   },
   "source": [
    "### Why should we care about PEP8?\n",
    "- **Readability**: Consistent styling improves readability, allowing others (and yourself) to understand code more easily.\n",
    "- **Collaboration**: Rather than arguing before the beginning of the project on the style to follow, PEP8 takes the precedent.\n",
    "- **Maintenance**: Cleaner code is easier to debug, test, and maintain over time, reducing potential errors."
   ]
  },
  {
   "cell_type": "markdown",
   "metadata": {
    "slideshow": {
     "slide_type": "slide"
    }
   },
   "source": [
    "### What about other styles?\n",
    "\n",
    "- PEP8 doesn't cover every decision. For instance, there are more detailed guides:\n",
    "  - at the project level,\n",
    "  - for entire organizations, e.g. [Google Python Style Guide](https://github.com/google/styleguide/blob/gh-pages/pyguide.md)\n",
    "\n",
    "- In your own projects, you're the boss, but PEP8 is a useful minimum (and **will gain/lose you marks during many assessed exercises in this course**). "
   ]
  },
  {
   "cell_type": "markdown",
   "metadata": {
    "slideshow": {
     "slide_type": "slide"
    }
   },
   "source": [
    "### Code linters, and static code analysis\n",
    "\n",
    "- A **linter** is a tool that analyzes source code for **errors, bugs, stylistic issues, and coding standard violations**.\n",
    "- Linters help ensure code quality, consistency, and adherence to style guides like **PEP8**.\n",
    "\n",
    "**Why should I consider using a linter?**\n",
    "- **Error Detection**: Identify syntax errors, potential bugs, and bad practices early in development.\n",
    "- **Code Consistency**: Enforce coding standards across a project, making code easier to read and maintain.\n",
    "\n",
    "**Popular Python Linters**\n",
    "- **pylint**: Comprehensive linter with customizable options, supports PEP8 and custom rules.\n",
    "- **flake8**: Lightweight linter focusing on PEP8 compliance.\n",
    "- **black**: An automatic code formatter that enforces consistent style by reformatting code.\n",
    "- **mypy**: Checks for type errors in code with type hints, ensuring type safety.\n",
    "- **ruff**: A fast Python linter and code formatter, written in Rust.\n",
    "\n",
    "Consider using one in your projects."
   ]
  },
  {
   "cell_type": "markdown",
   "metadata": {
    "slideshow": {
     "slide_type": "slide"
    }
   },
   "source": [
    "### Also, keep in mind..."
   ]
  },
  {
   "cell_type": "code",
   "execution_count": 14,
   "metadata": {},
   "outputs": [
    {
     "name": "stdout",
     "output_type": "stream",
     "text": [
      "The Zen of Python, by Tim Peters\n",
      "\n",
      "Beautiful is better than ugly.\n",
      "Explicit is better than implicit.\n",
      "Simple is better than complex.\n",
      "Complex is better than complicated.\n",
      "Flat is better than nested.\n",
      "Sparse is better than dense.\n",
      "Readability counts.\n",
      "Special cases aren't special enough to break the rules.\n",
      "Although practicality beats purity.\n",
      "Errors should never pass silently.\n",
      "Unless explicitly silenced.\n",
      "In the face of ambiguity, refuse the temptation to guess.\n",
      "There should be one-- and preferably only one --obvious way to do it.\n",
      "Although that way may not be obvious at first unless you're Dutch.\n",
      "Now is better than never.\n",
      "Although never is often better than *right* now.\n",
      "If the implementation is hard to explain, it's a bad idea.\n",
      "If the implementation is easy to explain, it may be a good idea.\n",
      "Namespaces are one honking great idea -- let's do more of those!\n"
     ]
    }
   ],
   "source": [
    "import this"
   ]
  },
  {
   "cell_type": "markdown",
   "metadata": {
    "slideshow": {
     "slide_type": "slide"
    }
   },
   "source": [
    "## Documentation 📖"
   ]
  },
  {
   "cell_type": "markdown",
   "metadata": {
    "slideshow": {
     "slide_type": "slide"
    }
   },
   "source": [
    "### Docstrings\n",
    "\n",
    "- a string literal used to **document a module, class, function, or method** in Python.\n",
    "- Docstrings appear immediately after the definition line and are enclosed in **triple quotes** (`\"\"\"` or `'''`).\n",
    "- It must provide a clear description of what the code does, its parameters, return values, and usage."
   ]
  },
  {
   "cell_type": "code",
   "execution_count": 15,
   "metadata": {
    "slideshow": {
     "slide_type": "slide"
    }
   },
   "outputs": [],
   "source": [
    "def add(a, b):\n",
    "    \"\"\"\n",
    "    Adds two numbers and returns the result.\n",
    "    \n",
    "    Parameters\n",
    "    ----------\n",
    "    a : int or float\n",
    "        The first number.\n",
    "    b : int or float\n",
    "        The second number.\n",
    "    \n",
    "    Returns\n",
    "    -------\n",
    "    int or float\n",
    "        The sum of `a` and `b`.\n",
    "    \"\"\"\n",
    "    return a + b"
   ]
  },
  {
   "cell_type": "markdown",
   "metadata": {
    "slideshow": {
     "slide_type": "slide"
    }
   },
   "source": [
    "### What about style?\n",
    "\n",
    "- There is actually a PEP, [PEP257](https://www.python.org/dev/peps/pep-0257/) describing a good docstring.\n",
    "- Generally, two styles are popular among developers:\n",
    "   - [Google style](https://sphinxcontrib-napoleon.readthedocs.io/en/latest/example_google.html)\n",
    "   - [Numpy style](https://numpydoc.readthedocs.io/en/latest/format.html)\n",
    "- Choose one, and be consistent."
   ]
  },
  {
   "cell_type": "markdown",
   "metadata": {
    "slideshow": {
     "slide_type": "slide"
    }
   },
   "source": [
    "### Essential Elements of a Docstring\n",
    "\n",
    "1. **Brief Description**: A short summary of what the function, class, or module does.\n",
    "2. **Parameters**: List all input parameters, their types, and a brief description of each.\n",
    "3. **Returns**: Describe the return value(s), including types and a short explanation.\n",
    "4. **Raises** (optional): List any exceptions the function might raise, with descriptions.\n",
    "5. **Example** (optional but helpful): A simple usage example showing how to use the function or class."
   ]
  },
  {
   "cell_type": "markdown",
   "metadata": {
    "slideshow": {
     "slide_type": "slide"
    }
   },
   "source": [
    "### Example"
   ]
  },
  {
   "cell_type": "code",
   "execution_count": 16,
   "metadata": {},
   "outputs": [],
   "source": [
    "import numpy as np\n",
    "import matplotlib.pyplot as plt\n",
    "\n",
    "def mandelbrot(c, a=2.0, n=20):\n",
    "    \"\"\"\n",
    "    Approximate the local Mandelbrot period of a point. \n",
    "    \n",
    "    Parameters\n",
    "    ----------\n",
    "    c : complex\n",
    "        Point in the complex plane\n",
    "    a : float\n",
    "        A positive bounding length on the horizon of the point z_n\n",
    "    n : int\n",
    "        Maximum number of iterations. Defaults to 20.\n",
    "    \n",
    "    Returns\n",
    "    -------\n",
    "    int\n",
    "        i such that |z_i|>a if i < n, NaN otherwise.\n",
    "    \n",
    "    \"\"\"\n",
    "    z = c\n",
    "    for _ in range(n):\n",
    "        if abs(z)>a:\n",
    "            return _\n",
    "        z = z**2 + c\n",
    "    return np.nan"
   ]
  },
  {
   "cell_type": "code",
   "execution_count": 17,
   "metadata": {
    "slideshow": {
     "slide_type": "slide"
    }
   },
   "outputs": [
    {
     "data": {
      "image/png": "[encoded data removed]",
      "text/plain": [
       "<Figure size 640x480 with 1 Axes>"
      ]
     },
     "metadata": {},
     "output_type": "display_data"
    }
   ],
   "source": [
    "dx = np.linspace(-2, 1, 300)\n",
    "dy = np.linspace(-1.5, 1.5, 300)\n",
    "x, y= np.meshgrid(dx, dy)\n",
    "z = np.empty(x.shape)\n",
    "\n",
    "for i in range(len(dx)):\n",
    "    for j in range(len(dy)):\n",
    "        z[i, j] = mandelbrot(x[i, j]+1j*y[i, j],100)\n",
    "\n",
    "plt.pcolormesh(x, y, z, shading='auto')\n",
    "plt.xlabel('$x$')\n",
    "plt.ylabel('$y$');"
   ]
  },
  {
   "cell_type": "markdown",
   "metadata": {
    "slideshow": {
     "slide_type": "slide"
    }
   },
   "source": [
    "### `README.md`\n",
    "\n",
    "- A **README.md** file is a Markdown file that provides essential information about a project.\n",
    "- It’s usually the **first file** people see when visiting a project repository on platforms like GitHub.\n",
    "\n",
    "**Why is it important?**\n",
    "- **Introduction**: Helps users understand the purpose and functionality of the project.\n",
    "- **Guidance**: Provides installation, usage, and configuration instructions.\n",
    "\n",
    "**What to include?**\n",
    "1. **Project Title**: The name of the project.\n",
    "2. **Description**: A brief overview of the project’s purpose and features.\n",
    "3. **Installation**: Step-by-step instructions for setting up the project.\n",
    "4. **Usage**: Examples of how to use the project or run scripts.\n",
    "5. **Contributing** (optional): Guidelines for contributing to the project.\n",
    "6. **License**: Information on how the project is licensed."
   ]
  },
  {
   "cell_type": "markdown",
   "metadata": {
    "slideshow": {
     "slide_type": "slide"
    }
   },
   "source": [
    "## LICENSE 🧑‍⚖️"
   ]
  },
  {
   "cell_type": "markdown",
   "metadata": {
    "slideshow": {
     "slide_type": "slide"
    }
   },
   "source": [
    "### LICENSE File\n",
    "\n",
    "- Defines how others can use, modify, and distribute your code.\n",
    "- Prevents misunderstandings about the terms of use and obligations.\n",
    "- A clear license promotes contributions and sharing within the community.\n",
    "- A well-defined license can make your project more appealing to potential users and contributors."
   ]
  },
  {
   "cell_type": "markdown",
   "metadata": {
    "slideshow": {
     "slide_type": "slide"
    }
   },
   "source": [
    "### Common Licenses for Python Projects\n",
    "\n",
    "1. **MIT License**\n",
    "   - Simple and permissive; allows almost unrestricted use.\n",
    "   - Popular in open-source projects for its ease of use.\n",
    "\n",
    "2. **GNU General Public License (GPL)**\n",
    "   - Requires derivatives to also be open-source under the same license.\n",
    "   - Promotes freedom and sharing of software.\n",
    "\n",
    "3. **BSD License**\n",
    "   - Similar to MIT; allows redistribution and use with few restrictions.\n",
    "\n",
    "4. **Creative Commons Licenses**\n",
    "   - Generally used for non-software projects but can apply to data and documentation.\n",
    "   - Offers various levels of sharing, attribution, and modification rights."
   ]
  },
  {
   "cell_type": "markdown",
   "metadata": {
    "slideshow": {
     "slide_type": "slide"
    }
   },
   "source": [
    "## Python Package 📦"
   ]
  },
  {
   "cell_type": "markdown",
   "metadata": {
    "slideshow": {
     "slide_type": "slide"
    }
   },
   "source": [
    "### An example package\n",
    "\n",
    "- Python package bundles multiple modules into one place, to make installing and uninstalling them easier and to simplify usage.\n",
    "- Think about a Python package as a bunch of `.py` files inside a directory tree."
   ]
  },
  {
   "cell_type": "markdown",
   "metadata": {
    "slideshow": {
     "slide_type": "slide"
    }
   },
   "source": [
    "A typical template for a fairly basic python package called `mycoolproject` might look like:\n",
    "\n",
    "```bash\n",
    "mycoolproject\n",
    " ├── __init__.py\n",
    " ├── cool_module.py\n",
    " ├── another_cool_module.py\n",
    " └── extras\n",
    "      ├── __init__.py\n",
    "      └── extra_stuff.py\n",
    "pyproject.toml\n",
    "LICENSE\n",
    "README.md\n",
    "```"
   ]
  },
  {
   "cell_type": "markdown",
   "metadata": {},
   "source": [
    "- `__init__.py` file is slightly special (common in Python with double underscore - dunder - names).\n",
    "- Read when you run `import mycoolproject` (i.e. name of the directory).\n",
    "- Other files can be imported by themselves as `mycoolproject.cool_module`, `mycoolproject.another_cool_module`, etc."
   ]
  },
  {
   "cell_type": "markdown",
   "metadata": {
    "slideshow": {
     "slide_type": "slide"
    }
   },
   "source": [
    "### `__init__.py`\n",
    "\n",
    "- A special Python file that indicates a directory is a **package**.\n",
    "- Can be empty or contain initialization code for the package.\n",
    "- Enables Python to recognize the directory as a package, allowing for module imports.\n",
    "- Code within the file can set up package-level variables, import submodules, or configure package settings.\n",
    "- Helps control what is imported when using `from package import *`.\n",
    "\n",
    "**Best Practices**\n",
    "- Include `__init__.py` even in Python 3 for clarity and compatibility.\n",
    "- Use it to define the public API of the package by selectively importing modules or functions."
   ]
  },
  {
   "cell_type": "markdown",
   "metadata": {
    "slideshow": {
     "slide_type": "slide"
    }
   },
   "source": [
    "### `pyproject.toml` - Package metadata\n",
    "\n",
    "- A configuration file used for **Python projects** to specify build system requirements and project metadata.\n",
    "- Part of **PEP 518**, designed to simplify the packaging process.\n",
    "- Consolidates project metadata, build system, and dependencies in a single file.\n",
    "- Compatible with various tools like Poetry, Flit, setuptools, and uv.\n",
    "- Modernised `setup.py`"
   ]
  },
  {
   "cell_type": "markdown",
   "metadata": {
    "slideshow": {
     "slide_type": "slide"
    }
   },
   "source": [
    "### Structure of `pyproject.toml`\n",
    "\n",
    "```toml\n",
    "[build-system]\n",
    "requires = [\"setuptools\", \"wheel\"]\n",
    "build-backend = \"setuptools.build_meta\"\n",
    "\n",
    "[project]\n",
    "name = \"my_project\"\n",
    "version = \"0.1.0\"\n",
    "description = \"A brief description of my project.\"\n",
    "authors = [\"Your Name <you@example.com>\"]\n",
    "\n",
    "[project.dependencies]\n",
    "numpy = \"^1.21.0\"\n",
    "matplotlib = \"^3.4.0\"\n",
    "\n",
    "[project.optional-dependencies]\n",
    "dev = [\"pytest\", \"black\"]\n",
    "```"
   ]
  },
  {
   "cell_type": "markdown",
   "metadata": {
    "slideshow": {
     "slide_type": "slide"
    }
   },
   "source": [
    "### Benefits of Using `pyproject.toml`\n",
    "\n",
    "- **Simplicity**: Reduces complexity by replacing multiple configuration files (e.g., `setup.py`, `requirements.txt`).\n",
    "- **Clarity**: Provides a clear, structured format for specifying project settings and dependencies.\n",
    "- **Future-Proofing**: Aligns with the evolving standards of Python packaging, ensuring compatibility with new tools and practices.\n",
    "- **Ease of Use**: Facilitates the installation of packages and their dependencies in isolated environments."
   ]
  },
  {
   "cell_type": "markdown",
   "metadata": {
    "slideshow": {
     "slide_type": "slide"
    }
   },
   "source": [
    "### Good old `setup.py`\n",
    "\n",
    "If you see it somewhere, you can map its metadata to `pyproject.toml`:\n",
    "```python\n",
    "from setuptools import setup, find_packages\n",
    "\n",
    "setup(\n",
    "    name=\"my_project\",\n",
    "    version=\"0.1.0\",\n",
    "    description=\"A brief description of my project.\",\n",
    "    author=\"Your Name\",\n",
    "    author_email=\"you@example.com\",\n",
    "    packages=find_packages(),\n",
    "    install_requires=[\n",
    "        \"numpy>=1.21.0\",\n",
    "        \"matplotlib>=3.4.0\",\n",
    "    ],\n",
    "    extras_require={\n",
    "        \"dev\": [\n",
    "            \"pytest\",\n",
    "            \"black\",\n",
    "        ],\n",
    "    },\n",
    "    python_requires='>=3.6',  # Specify the required Python version\n",
    "    setup_requires=[\n",
    "        \"setuptools>=42\",  # Minimum version of setuptools required\n",
    "    ],\n",
    ")\n",
    "```"
   ]
  },
  {
   "cell_type": "markdown",
   "metadata": {
    "slideshow": {
     "slide_type": "slide"
    }
   },
   "source": [
    "### Dependency versioning `pyproject.toml`\n",
    "\n",
    "- **Exact Version**: \n",
    "  - Example: `numpy = \"1.21.0\"` \n",
    "\n",
    "- **Minimum Version**: \n",
    "  - Example: `matplotlib = \">=3.4.0\"` \n",
    "\n",
    "- **Maximum Version**: \n",
    "  - Example: `matplotlib = \"<4.0.0\"` \n",
    "\n",
    "- **Version Range**: \n",
    "  - Example: `matplotlib = \">=3.4.0,<4.0.0\"` \n",
    "\n",
    "- **Caret Operator**: \n",
    "  - Example: `numpy = \"^1.21.0\"` \n",
    "  - Allows versions >=1.21.0 but <2.0.0 (compatible within major version)."
   ]
  },
  {
   "cell_type": "markdown",
   "metadata": {
    "slideshow": {
     "slide_type": "slide"
    }
   },
   "source": [
    "### Installing a Package with `pip install -e`\n",
    "\n",
    "- The `-e` (or `--editable`) flag installs a package in **editable mode**.\n",
    "- Useful for development, allowing changes to the code to be reflected immediately without reinstallation.\n",
    "\n",
    "```bash\n",
    "pip install -e .\n",
    "```"
   ]
  },
  {
   "cell_type": "markdown",
   "metadata": {
    "slideshow": {
     "slide_type": "slide"
    }
   },
   "source": [
    "### PyPI and Publishing Packages with Twine\n",
    "\n",
    "- **[PyPI (Python Package Index)](https://pypi.org/)**: A repository for Python packages where developers can share and distribute their code.\n",
    "- Makes it easy for developers to install and use packages with `pip`.\n",
    "\n",
    "#### Publishing Your Package with `twine`\n",
    "\n",
    "1. **Package Structure**: Ensure your package follows the proper directory structure and includes necessary files like `pyproject.toml`, `README.md`, and `LICENSE`.\n",
    "2. **Build Your Package and Publish**:\n",
    "    ```bash\n",
    "    python -m build\n",
    "    twine upload --repository testpypi dist/*\n",
    "    ```"
   ]
  },
  {
   "cell_type": "markdown",
   "metadata": {},
   "source": [
    "### Feedback form\n",
    "\n",
    "I’d love to hear your thoughts on today’s lecture — your feedback helps me make future sessions better for you!\n",
    "\n",
    "https://forms.office.com/e/BiekMgPTMm"
   ]
  },
  {
   "cell_type": "markdown",
   "metadata": {},
   "source": [
    "## Exercises"
   ]
  },
  {
   "cell_type": "markdown",
   "metadata": {},
   "source": [
    "### Exercise 1: Implementing a Simple Argument Parsing Script\n",
    "\n",
    "Your task is to create a Python script that uses the [`argparse`](https://docs.python.org/3/library/argparse.html) module to perform basic arithmetic operations: addition, subtraction, multiplication, and division. The script should take the following command-line arguments:\n",
    "\n",
    "- `--operation` or `-o`: The arithmetic operation to perform (options: `add`, `subtract`, `multiply`, `divide`).\n",
    "- `--num1` or `-n1`: The first number (a float).\n",
    "- `--num2` or `-n2`: The second number (a float).\n",
    "\n",
    "The script should perform the specified operation and print the result. If the user provides an invalid operation, the script should print an error message and exit with a non-zero status. Additionally, if division is requested and the second number is zero, it should handle this gracefully by printing an error message.\n",
    "\n",
    "1. Use the `argparse` module for parsing command-line arguments.\n",
    "2. Implement the four arithmetic operations: addition, subtraction, multiplication, and division.\n",
    "3. Include error handling for invalid operations and division by zero.\n",
    "4. Refer to the [argparse documentation](https://docs.python.org/3/library/argparse.html) for guidance on how to implement the argument parsing.\n",
    "\n",
    "**Example usage**\n",
    "```bash\n",
    "$ python arithmetic.py -o add -n1 10 -n2 5\n",
    "...\n",
    "$ python arithmetic.py -o multiply -n1 10 -n2 5\n",
    "...\n",
    "```\n"
   ]
  },
  {
   "metadata": {
    "ExecuteTime": {
     "end_time": "2024-10-14T08:29:15.950034Z",
     "start_time": "2024-10-14T08:29:15.806020Z"
    }
   },
   "cell_type": "code",
   "source": "!python arithmetic.py -o add -n1 10 -n2 5",
   "outputs": [
    {
     "name": "stdout",
     "output_type": "stream",
     "text": [
      "15.0\r\n"
     ]
    }
   ],
   "execution_count": 10
  },
  {
   "metadata": {
    "ExecuteTime": {
     "end_time": "2024-10-14T08:29:17.634024Z",
     "start_time": "2024-10-14T08:29:17.488018Z"
    }
   },
   "cell_type": "code",
   "source": "!python arithmetic.py -o multiply -n1 10 -n2 5",
   "outputs": [
    {
     "name": "stdout",
     "output_type": "stream",
     "text": [
      "50.0\r\n"
     ]
    }
   ],
   "execution_count": 11
  },
  {
   "cell_type": "markdown",
   "metadata": {},
   "source": [
    "#### Solution\n",
    "\n",
    "```python\n",
    "import argparse\n",
    "\n",
    "def main():\n",
    "    # Create the parser\n",
    "    parser = argparse.ArgumentParser(description=\"Perform basic arithmetic operations.\")\n",
    "\n",
    "    # Add arguments\n",
    "    parser.add_argument('-o', '--operation', choices=['add', 'subtract', 'multiply', 'divide'],\n",
    "                        required=True, help='The operation to perform: add, subtract, multiply, divide.')\n",
    "    parser.add_argument('-n1', '--num1', type=float, required=True, help='The first number.')\n",
    "    parser.add_argument('-n2', '--num2', type=float, required=True, help='The second number.')\n",
    "\n",
    "    # Parse the arguments\n",
    "    args = parser.parse_args()\n",
    "\n",
    "    # Perform the operation\n",
    "    if args.operation == 'add':\n",
    "        result = args.num1 + args.num2\n",
    "        print(f\"The result of {args.num1} + {args.num2} is: {result}\")\n",
    "    elif args.operation == 'subtract':\n",
    "        result = args.num1 - args.num2\n",
    "        print(f\"The result of {args.num1} - {args.num2} is: {result}\")\n",
    "    elif args.operation == 'multiply':\n",
    "        result = args.num1 * args.num2\n",
    "        print(f\"The result of {args.num1} * {args.num2} is: {result}\")\n",
    "    elif args.operation == 'divide':\n",
    "        if args.num2 == 0:\n",
    "            print(\"Error: Division by zero is not allowed.\")\n",
    "        else:\n",
    "            result = args.num1 / args.num2\n",
    "            print(f\"The result of {args.num1} / {args.num2} is: {result}\")\n",
    "\n",
    "if __name__ == \"__main__\":\n",
    "    main()\n",
    "```"
   ]
  },
  {
   "cell_type": "markdown",
   "metadata": {},
   "source": [
    "### Exercise 2: Building a Numerical Package from Scratch\n",
    "\n",
    "**Overview**\n",
    "In this exercise, you will create a numerical package in Python from scratch that leverages NumPy for various numerical computations. The package will consist of multiple modules and functions for performing numerical operations. You will build the directory structure, write the necessary files (including `pyproject.toml`, `README.md`, and a `LICENSE` file), and implement unit tests to ensure the correctness of your code.\n",
    "\n",
    "**Objectives**\n",
    "1. **Package Structure**: Create a well-organized directory structure for your package.\n",
    "2. **Core Functionality**: Implement several numerical functions using NumPy, such as:\n",
    "   - Matrix addition and subtraction\n",
    "   - Element-wise multiplication and division of arrays\n",
    "   - Calculating the determinant and inverse of a matrix\n",
    "   - Performing statistical calculations (mean, median, standard deviation) on a NumPy array\n",
    "3. **Documentation**: Write **docstrings** for all functions, following a consistent style (e.g., NumPy or Google style). Write a `README.md` file that explains the purpose of your package, how to install it, and usage examples.\n",
    "4. Create a `pyproject.toml` file that includes metadata about your package, dependencies (NumPy), and build system requirements.\n",
    "5. Choose an appropriate license (e.g., MIT, BSD) and include a `LICENSE` file in your package.\n",
    "6. Write unit tests for your functions using the `pytest` module to ensure they work as expected.\n",
    "\n",
    "**Directory Structure**\n",
    "\n",
    "The following directory structure is just a suggestion:\n",
    "```\n",
    "mycoolpackage/\n",
    "├── __init__.py\n",
    "├── linear_algebra/\n",
    "│   ├── __init__.py\n",
    "│   ├── matrix_operations.py\n",
    "│   └── array_operations.py\n",
    "│\n",
    "└── statistics/\n",
    "│   ├── __init__.py\n",
    "│   └── statistics.py\n",
    "│\n",
    "├── tests/\n",
    "│   └── test_mycoolpackage.py\n",
    "│\n",
    "├── pyproject.toml\n",
    "├── README.md\n",
    "└── LICENSE\n",
    "```"
   ]
  },
  {
   "cell_type": "markdown",
   "metadata": {},
   "source": [
    "## Optional exercises"
   ]
  },
  {
   "cell_type": "markdown",
   "metadata": {},
   "source": [
    "### Exercise 3: Running Python Code\n",
    "\n",
    "Run the following commands \n",
    "\n",
    "```python \n",
    "def square_and_cube(n):\n",
    "    return sorted([i**2 for i in range(n)] + [i**3 for i in range(n)])\n",
    "print(square_and_cube(3))\n",
    "print(square_and_cube(10))\n",
    "```\n",
    "\n",
    "and \n",
    "\n",
    "```python\n",
    "import numpy as np\n",
    "import matplotlib.pyplot as plt\n",
    "x = np.linspace(0, 6*np.pi)\n",
    "plt.plot(x, np.sin(x))\n",
    "```\n",
    "in a Jupyter notebook and in a vanilla Python interpreter.\n",
    "\n",
    "- In each case, try modifying the `square_and_cube` function to also include the 4th power of `n`.\n",
    "- The `sorted` function returns a new sorted list from an iterable. Try accessing the Python help in the ordinary interpreter to discover how to invert the order of the sorted list. Note you'll need to use the `help` function, since the `sorted?` syntax is available in IPython/Jupyter only.\n",
    "\n",
    "### Exercise 4: Find the primes\n",
    "\n",
    "Using VSCode (or your own prefered editor), write a Python *script* (i.e. a `.py` file) to output the first 20 prime numbers and run it from a command line.\n",
    "\n",
    "Tips:\n",
    "- One way of doing this uses an outer loop counting how many primes you have, and then code to find the next prime number.\n",
    "- Note that a number cannot be prime if it divides by a prime number and that 1 is not prime. \n",
    "- If a number is not prime, it must have at least one factor smaller than its own square root. This can be used to improve the efficiency of your search.\n",
    "- If `a` divides `b` exactly, then `a % b == 0`, which gives a quick test using the modulus operator `%`.\n",
    "\n",
    "When testing your code, you should expect the output for the first 5 primes to be `[2, 3, 5, 7, 11]`.\n",
    "\n",
    "Try to convert the script into a routine to calculate all prime numbers smaller than an input number, $n$ using `sys.argv`.\n",
    "\n",
    "### Exercise 5: Find the mean\n",
    "\n",
    "Write a script file (i.e. a `.py` file) to calculate the mean of a sequence of numbers. As an extension, make it take extra options (using the `argparse` module) `-b`, `-o` and `-x` to work with with binary (i.e. base 2, with `101 == 5` in decimal), octal (i.e. base 8, with `31 == 25` decimal) and hexadecimal (i.e. base 16 `2A == 42` decimal) numbers.\n",
    "\n",
    "Test your basic script on the following sequences: `1` (mean 1) `1 5 7 13 8` (mean 6.8), `2.5, 4 ,-3.2, 9.3` (mean 3.15).\n",
    "\n",
    "Also try feeding it no input.\n",
    "\n",
    "_Tips_:\n",
    "\n",
    "For the longer version you can use the 2 argument version of the `int` function to change the base of numbers. For example `int('11',2) == 3` and `int('3A', 16) == 58`.\n",
    "\n",
    "### Exercise 6: Plots in scripts\n",
    "\n",
    "Write a script to plot the functions $y=\\sin(x)$, $y=\\cos(x)$ and $y=\\tan(x)$ to screen over the range [0,$2\\pi$] and then run it in a terminal/prompt.\n",
    "\n",
    "Make sure to include labels on your axes.\n",
    "\n",
    "Change the script to output a `.png` file to disk.\n",
    "\n",
    "Next do the same to write a `.pdf`.\n",
    "\n",
    "### Exercise 7: Fix the script\n",
    "\n",
    "Copy the following script into your editor/IDE and run a linter of your choice. Fix the errors and warnings that it gives you.\n",
    "\n",
    "```python\n",
    "value={1:'Ace',11:'Jack',12:'Queen',13:'King'}; \n",
    "for _ in range(2,11):\n",
    "    value[_]=_\n",
    "suit={0:'Spades',1:'Hearts',2:'Diamonds',3:'Clubs'}\n",
    "def  the_name_of_your_card(v,s = 0,*args, **kwargs):\n",
    "    \n",
    "    \n",
    "   \"\"\"Name of card as a string.\n",
    "   \"\"\" \n",
    "   if (v < 1  or v > 13 or s not in (0,1,2,3)):\n",
    "      raise ValueError\n",
    "      \n",
    "   \n",
    "   return \"\"\"I have read your mind and predict your card is the %s of %s.\"\"\"%(value[v], suit[ s])\n",
    "print( the_name_of_your_card(2,  s= 3))\n",
    "      \n",
    "```\n",
    "\n",
    "### Exercise 8: Complex square root\n",
    "\n",
    "Write a function which accepts a real number and returns the complex square roots of that number.\n",
    "\n",
    "Your function should include a docstring conforming to the `numpydoc` standard.</p>\n",
    "\n",
    "_Tips_: \n",
    "<ul><li> You can use the `sqrt` function in the `math` module to obtain the square root of a positive real number.</li>\n",
    "<li> Python uses the notation `1j` for a unit length imaginary number (which a mathematician would typically denote $i$), where (loosely) $\\sqrt{-1}=\\pm 1j$.</li></ul>\n",
    "\n",
    "Questions: how many complex square roots does each real number have? Is it the same for **every** real number?"
   ]
  },
  {
   "metadata": {},
   "cell_type": "code",
   "outputs": [],
   "execution_count": null,
   "source": ""
  }
 ],
 "metadata": {
  "celltoolbar": "Slideshow",
  "kernelspec": {
   "display_name": "teaching",
   "language": "python",
   "name": "python3"
  },
  "language_info": {
   "codemirror_mode": {
    "name": "ipython",
    "version": 3
   },
   "file_extension": ".py",
   "mimetype": "text/x-python",
   "name": "python",
   "nbconvert_exporter": "python",
   "pygments_lexer": "ipython3",
   "version": "3.12.7"
  },
  "rise": {
   "autolaunch": true,
   "footer": "<img class=logo src=./images/ESE-MSC-2021.png>",
   "scroll": true
  },
  "toc": {
   "base_numbering": 1,
   "nav_menu": {},
   "number_sections": false,
   "sideBar": true,
   "skip_h1_title": true,
   "title_cell": "Table of Contents",
   "title_sidebar": "Contents",
   "toc_cell": false,
   "toc_position": {
    "height": "calc(100% - 180px)",
    "left": "10px",
    "top": "150px",
    "width": "320px"
   },
   "toc_section_display": true,
   "toc_window_display": true
  }
 },
 "nbformat": 4,
 "nbformat_minor": 4
}
