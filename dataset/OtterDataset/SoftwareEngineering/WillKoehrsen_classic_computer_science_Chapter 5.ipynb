{
 "cells": [
  {
   "cell_type": "markdown",
   "metadata": {},
   "source": [
    "# Genetic Algorithms\n",
    "\n",
    "## Chapter 5 "
   ]
  },
  {
   "cell_type": "markdown",
   "metadata": {},
   "source": [
    "Depend on stochastic processes of selection, crossover, and mutation. Genetic algorithms are not generally used in software engineering, but can be a useful method for solving otherwise intractable problems."
   ]
  },
  {
   "cell_type": "markdown",
   "metadata": {},
   "source": [
    "# Chromosome\n",
    "\n",
    "* Determine own fitness\n",
    "* Create instance with randomly selected genes - first generation\n",
    "* Implement crossover (combine with same type to create children) - mix with another chromosome\n",
    "* Mutute - small, randomly change in itself\n",
    "\n",
    "Codified in code following."
   ]
  },
  {
   "cell_type": "code",
   "execution_count": 1,
   "metadata": {},
   "outputs": [],
   "source": [
    "from __future__ import annotations\n",
    "from typing import TypeVar, Tuple, Type\n",
    "from abc import ABC, abstractmethod\n",
    "\n",
    "# type T is bound to chromosome, so any type declared as T must be chromosome\n",
    "# or subclass of chromosome\n",
    "T = TypeVar(\"T\", bound=\"chromosome\")"
   ]
  },
  {
   "cell_type": "code",
   "execution_count": 2,
   "metadata": {},
   "outputs": [],
   "source": [
    "class Chromosome(ABC):\n",
    "    \"\"\"\n",
    "    Base class for all chromosomes. fitness, random_instance,\n",
    "    crossover, and mutate must be overwritten.\"\"\"\n",
    "\n",
    "    @abstractmethod\n",
    "    def fitness(self) -> float:\n",
    "        ...\n",
    "\n",
    "    @classmethod\n",
    "    @abstractmethod\n",
    "    def random_instance(cls: Type[T]) -> T:\n",
    "        ...\n",
    "\n",
    "    @abstractmethod\n",
    "    def crossover(self: T, other: T) -> Tuple[T, T]:\n",
    "        ...\n",
    "\n",
    "    @abstractmethod\n",
    "    def mutate(self) -> None:\n",
    "        ..."
   ]
  },
  {
   "cell_type": "markdown",
   "metadata": {},
   "source": [
    "## Genetic Algorithm Procedure\n",
    "\n",
    "1. Initial population of random chromosomes for first generation.\n",
    "2. Mesure fitness of each chromosome in generation. If any exceeds threshold, return it and end algorithm.\n",
    "3. Select individuals to reproduce with higher probability of selecting those with higher fitness (roulette and tournamen selection).\n",
    "4. Crossover - combine - some of the selected chromosomes, with a probability to create children that represent next genertion.\n",
    "5. Mutute - with a low probability some of the chromosomes. Population of new generation is done and replaces old population (previous generation).\n",
    "6. Return to step 2 unless max number of generations reached. In case of max number reached, return best chromosome thus far."
   ]
  },
  {
   "cell_type": "markdown",
   "metadata": {},
   "source": [
    "Many individual questions to answer that determine the algorithm. These form the hyperparameters controlling a genetic algorithm."
   ]
  },
  {
   "cell_type": "markdown",
   "metadata": {},
   "source": [
    "### Selection Methods\n",
    "\n",
    "* Tournament selection: pit chromosomes against one another and choose winner based on fitness\n",
    "* Roulette Selection: random selection of chromosomes with probabilities proportional to fitness"
   ]
  },
  {
   "cell_type": "code",
   "execution_count": 32,
   "metadata": {},
   "outputs": [],
   "source": [
    "from __future__ import annotations\n",
    "from typing import TypeVar, Generic, List, Tuple, Callable\n",
    "from enum import Enum\n",
    "from random import choices, random\n",
    "from heapq import nlargest\n",
    "from statistics import mean\n",
    "\n",
    "C = TypeVar(\"C\", bound=Chromosome)\n",
    "\n",
    "\n",
    "class GeneticAlgorithm(Generic[C]):\n",
    "    SelectionType = Enum(\"SelectionType\", \"ROULETTE TOURNAMENT\")\n",
    "\n",
    "    def __init__(\n",
    "        self,\n",
    "        initial_population: List[C],\n",
    "        threshold: float,\n",
    "        max_generations: int = 100,\n",
    "        mutation_chance: float = 0.01,\n",
    "        crossover_chance: float = 0.7,\n",
    "        # Tournament pits chromosomes against one another\n",
    "        selection_type: SelectionType = SelectionType.TOURNAMENT,\n",
    "    ) -> None:\n",
    "        # First population is randomly initialized using the chromosomes random_instance() method\n",
    "        # Could be better selected: known as seeding\n",
    "        self._population: List[C] = initial_population\n",
    "        self._threshold: float = threshold\n",
    "        self._max_generations: int = max_generations\n",
    "        self._mutation_chance: float = mutation_chance\n",
    "        self._crossover_chance: float = crossover_chance\n",
    "        self._selection_type: GeneticAlgorithm.SelectionType = selection_type\n",
    "        self._fitness_key: Callable = type(self._population[0]).fitness\n",
    "\n",
    "    # Use the probability distribution wheel to pick 2 parents\n",
    "    # Note: will not work with negative fitness results\n",
    "    def _pick_roulette(self, wheel: List[float]) -> Tuple[C, C]:\n",
    "        # Select from list with probabilities\n",
    "        return tuple(choices(self._population, weights=wheel, k=2))\n",
    "\n",
    "    # Choose num_participants at random and take the best 2 for parents\n",
    "    def _pick_tournament(self, num_participants: int) -> Tuple[C, C]:\n",
    "        participants: List[C] = choices(self._population, k=num_participants)\n",
    "        # Pick two chromosomes with highest fitness\n",
    "        return tuple(nlargest(2, participants, key=self._fitness_key))\n",
    "\n",
    "    # Replace the population with a new generation of individuals\n",
    "    def _reproduce_and_replace(self) -> None:\n",
    "        new_population: List[C] = []\n",
    "        # keep going until we've filled the new generation\n",
    "        while len(new_population) < len(self._population):\n",
    "            # pick the 2 parents\n",
    "            if self._selection_type == GeneticAlgorithm.SelectionType.ROULETTE:\n",
    "                parents: Tuple[C, C] = self._pick_roulette(\n",
    "                    [x.fitness() for x in self._population]\n",
    "                )\n",
    "            else:\n",
    "                # Run tournament with n/2 participants where n is the current size\n",
    "                # of the population\n",
    "                parents = self._pick_tournament(len(self._population) // 2)\n",
    "            # potentially crossover the 2 parents\n",
    "            if random() < self._crossover_chance:\n",
    "                new_population.extend(parents[0].crossover(parents[1]))\n",
    "            else:\n",
    "                new_population.extend(parents)\n",
    "        # if we had an odd number, we'll have 1 extra, so we remove it\n",
    "        if len(new_population) > len(self._population):\n",
    "            new_population.pop()\n",
    "        self._population = new_population  # replace reference\n",
    "\n",
    "    # With _mutation_chance probability mutate each individual\n",
    "    def _mutate(self) -> None:\n",
    "        for individual in self._population:\n",
    "            # Use the individuals mutate method\n",
    "            if random() < self._mutation_chance:\n",
    "                individual.mutate()\n",
    "\n",
    "    # Run the genetic algorithm for max_generations iterations\n",
    "    # and return the best individual found\n",
    "    def run(self, progress=100) -> C:\n",
    "        # Keep track of how many times we found a better individual\n",
    "        better_count: int = 0\n",
    "        best: C = max(self._population, key=self._fitness_key)\n",
    "        for generation in range(self._max_generations):\n",
    "            # early exit if we beat threshold\n",
    "            if best.fitness() >= self._threshold:\n",
    "                print(\n",
    "                    f\"\"\"Found best in {generation} generations. Best = {best.fitness()}. \n",
    "Found better individual in {100*(better_count/generation):.2f}% of generations.\"\"\"\n",
    "                )\n",
    "                return best\n",
    "            # Print progress every 1/10 max_generations\n",
    "            if (generation + 1) % (self._max_generations // 10) == 0:\n",
    "                print(\n",
    "                    f\"Generation {generation} Best {best.fitness()} Avg {mean(map(self._fitness_key, self._population))}\"\n",
    "                )\n",
    "            # Create the next generation\n",
    "            self._reproduce_and_replace()\n",
    "            # Mutate individuals in the next generation\n",
    "            self._mutate()\n",
    "            highest: C = max(self._population, key=self._fitness_key)\n",
    "            if highest.fitness() > best.fitness():\n",
    "                best = highest  # found a new best\n",
    "                better_count += 1\n",
    "        return best  # best we found in _max_generations"
   ]
  },
  {
   "cell_type": "markdown",
   "metadata": {},
   "source": [
    "Selection occurs during reproduction. The selection method determines two new parents for the next generation. \n",
    "\n",
    "`_mutate()` and `crossover` are left up to the individual chromosomes to determine. The individual chromosomes also determine `_fitness_key()`, the method by which the fitness of a chromosome is measured."
   ]
  },
  {
   "cell_type": "markdown",
   "metadata": {},
   "source": [
    "## Test of Genetic Algorithm Basic Class"
   ]
  },
  {
   "cell_type": "markdown",
   "metadata": {},
   "source": [
    "Attempt to solve a quadratic equation using a genetic algorithm\n",
    "\n",
    "\n",
    "$$6*x - x^2 + 4*y - y^2$$\n",
    "\n",
    "Solving analytically:\n",
    "\n",
    "$$6 - 2*x + 4 -2y = 0$$\n",
    "\n",
    "$x=3$ and $y=2$ yields a maximum value of 13."
   ]
  },
  {
   "cell_type": "code",
   "execution_count": 33,
   "metadata": {},
   "outputs": [],
   "source": [
    "from __future__ import annotations\n",
    "from typing import Tuple, List\n",
    "from random import randrange, random\n",
    "from copy import deepcopy\n",
    "\n",
    "class SimpleEquation(Chromosome):\n",
    "    def __init__(self, x: int, y: int) -> None:\n",
    "        self.x: int = x\n",
    "        self.y: int = y\n",
    "\n",
    "    def fitness(self) -> float: # 6x - x^2 + 4y - y^2\n",
    "        return 6 * self.x - self.x * self.x + 4 * self.y - self.y * self.y\n",
    "    \n",
    "    # Class method does not require creating an instance to run\n",
    "    @classmethod\n",
    "    def random_instance(cls) -> SimpleEquation:\n",
    "        # Random initialization method\n",
    "        return SimpleEquation(randrange(100), randrange(100))\n",
    "\n",
    "    def crossover(self, other: SimpleEquation) -> Tuple[SimpleEquation, SimpleEquation]:\n",
    "        # For crossover, swap the ys\n",
    "        child1: SimpleEquation = deepcopy(self)\n",
    "        child2: SimpleEquation = deepcopy(other)\n",
    "        child1.y = other.y\n",
    "        child2.y = self.y\n",
    "        return child1, child2\n",
    "\n",
    "    def mutate(self) -> None:\n",
    "        # For mutation, either increase or decrease x/y\n",
    "        if random() > 0.5: # mutate x\n",
    "            if random() > 0.5:\n",
    "                self.x += 1\n",
    "            else:\n",
    "                self.x -= 1\n",
    "        else: # otherwise mutate y\n",
    "            if random() > 0.5:\n",
    "                self.y += 1\n",
    "            else:\n",
    "                self.y -= 1\n",
    "    \n",
    "    def __str__(self) -> str:\n",
    "        # Simple representation of the simple equation\n",
    "        return f\"X: {self.x} Y: {self.y} Fitness: {self.fitness()}\""
   ]
  },
  {
   "cell_type": "code",
   "execution_count": 34,
   "metadata": {},
   "outputs": [
    {
     "name": "stdout",
     "output_type": "stream",
     "text": [
      "X: 2 Y: 4 Fitness: 8\n"
     ]
    }
   ],
   "source": [
    "eq = SimpleEquation(2, 4)\n",
    "print(eq)"
   ]
  },
  {
   "cell_type": "code",
   "execution_count": 35,
   "metadata": {},
   "outputs": [
    {
     "name": "stdout",
     "output_type": "stream",
     "text": [
      "X: 2 Y: 8 Fitness: -24\n"
     ]
    }
   ],
   "source": [
    "eq_2 = SimpleEquation(5, 8)\n",
    "eq, eq_2 = eq.crossover(eq_2)\n",
    "print(eq)"
   ]
  },
  {
   "cell_type": "code",
   "execution_count": 36,
   "metadata": {},
   "outputs": [
    {
     "name": "stdout",
     "output_type": "stream",
     "text": [
      "X: 3 Y: 8 Fitness: -23\n",
      "X: 3 Y: 7 Fitness: -12\n",
      "X: 2 Y: 7 Fitness: -13\n",
      "X: 3 Y: 7 Fitness: -12\n",
      "X: 2 Y: 7 Fitness: -13\n",
      "X: 3 Y: 7 Fitness: -12\n",
      "X: 4 Y: 7 Fitness: -13\n",
      "X: 3 Y: 7 Fitness: -12\n",
      "X: 2 Y: 7 Fitness: -13\n",
      "X: 2 Y: 8 Fitness: -24\n"
     ]
    }
   ],
   "source": [
    "for _ in range(10):\n",
    "    eq.mutate()\n",
    "    print(eq)"
   ]
  },
  {
   "cell_type": "code",
   "execution_count": 40,
   "metadata": {},
   "outputs": [],
   "source": [
    "eqs = [SimpleEquation.random_instance() for _ in range(100)]\n",
    "ga = GeneticAlgorithm(initial_population=eqs, threshold=13, max_generations=5000, mutation_chance=0.25, \n",
    "                      crossover_chance=0.5, selection_type='TOURNAMENT')"
   ]
  },
  {
   "cell_type": "markdown",
   "metadata": {},
   "source": [
    "### Run the Genetic Algorithm to Maximize the Function"
   ]
  },
  {
   "cell_type": "code",
   "execution_count": 41,
   "metadata": {},
   "outputs": [
    {
     "name": "stdout",
     "output_type": "stream",
     "text": [
      "Found best in 8 generations. Best = 13. \n",
      "Found better individual in 87.50% of generations.\n"
     ]
    }
   ],
   "source": [
    "r = ga.run()"
   ]
  },
  {
   "cell_type": "code",
   "execution_count": 42,
   "metadata": {},
   "outputs": [
    {
     "name": "stdout",
     "output_type": "stream",
     "text": [
      "X: 3 Y: 2 Fitness: 13\n"
     ]
    }
   ],
   "source": [
    "print(r)"
   ]
  },
  {
   "cell_type": "markdown",
   "metadata": {},
   "source": [
    "In a real-world situation, we would just use the analytical method to find the answer. The genetic algorithm takes more computational power and is not guaranteed to find the optimal answer given a limited number of iterations."
   ]
  },
  {
   "cell_type": "markdown",
   "metadata": {},
   "source": [
    "## Solving Cryptoarithmetic Puzzle Revisited\n",
    "\n",
    "SEND + MORE = MONEY\n",
    "\n",
    "where each letter can be represented by only one number.\n",
    "\n",
    "I'll alter the book's implementation by preventing the use of 0 as one of the numbers."
   ]
  },
  {
   "cell_type": "code",
   "execution_count": 68,
   "metadata": {},
   "outputs": [],
   "source": [
    "from __future__ import annotations\n",
    "from typing import Tuple, List\n",
    "from random import shuffle, sample\n",
    "from copy import deepcopy\n",
    "\n",
    "\n",
    "class SendMoreMoney2(Chromosome):\n",
    "    def __init__(self, letters: List[str]) -> None:\n",
    "        self.letters: List[str] = letters\n",
    "\n",
    "    def fitness(self) -> float:\n",
    "        # Determine the \"goodness\" of a solutin\n",
    "        s: int = self.letters.index(\"S\")\n",
    "        e: int = self.letters.index(\"E\")\n",
    "        n: int = self.letters.index(\"N\")\n",
    "        d: int = self.letters.index(\"D\")\n",
    "        m: int = self.letters.index(\"M\")\n",
    "        o: int = self.letters.index(\"O\")\n",
    "        r: int = self.letters.index(\"R\")\n",
    "        y: int = self.letters.index(\"Y\")\n",
    "        send: int = s * 1000 + e * 100 + n * 10 + d\n",
    "        more: int = m * 1000 + o * 100 + r * 10 + e\n",
    "        money: int = m * 10000 + o * 1000 + n * 100 + e * 10 + y\n",
    "        difference: int = abs(money - (send + more))\n",
    "        return 1 / (difference + 1)\n",
    "\n",
    "    # Class method does not require creating an instance to use\n",
    "    @classmethod\n",
    "    def random_instance(cls) -> SendMoreMoney2:\n",
    "        letters = [\"S\", \"E\", \"N\", \"D\", \"M\", \"O\", \"R\", \"Y\", \"\"]\n",
    "        shuffle(letters)\n",
    "        return SendMoreMoney2(letters)\n",
    "\n",
    "    def crossover(self, other: SendMoreMoney2) -> Tuple[SendMoreMoney2, SendMoreMoney2]:\n",
    "        \"\"\"\n",
    "        Mix two children to create two new children. \n",
    "        \"\"\"\n",
    "        child1: SendMoreMoney2 = deepcopy(self)\n",
    "        child2: SendMoreMoney2 = deepcopy(other)\n",
    "        # Sample 2 random indices for mixing\n",
    "        idx1, idx2 = sample(range(len(self.letters)), k=2)\n",
    "        # Select the letters\n",
    "        l1, l2 = child1.letters[idx1], child2.letters[idx2]\n",
    "        # Swap the letters\n",
    "        child1.letters[child1.letters.index(l2)] = child1.letters[idx2]\n",
    "        child1.letters[idx2] = l2\n",
    "        # Swap the letters\n",
    "        child2.letters[child2.letters.index(l1)] = child2.letters[idx1]\n",
    "        child2.letters[idx1] = l1\n",
    "        return child1, child2\n",
    "\n",
    "    def mutate(self) -> None:  # swap two letters' locations\n",
    "        \"\"\"\n",
    "        Mutate an individual by swapping two of its letters. This could be adjusted to\n",
    "        swap more letters at once.\n",
    "        \"\"\"\n",
    "        idx1, idx2 = sample(range(len(self.letters)), k=2)\n",
    "        self.letters[idx1], self.letters[idx2] = self.letters[idx2], self.letters[idx1]\n",
    "\n",
    "    def __str__(self) -> str:\n",
    "        s: int = self.letters.index(\"S\")\n",
    "        e: int = self.letters.index(\"E\")\n",
    "        n: int = self.letters.index(\"N\")\n",
    "        d: int = self.letters.index(\"D\")\n",
    "        m: int = self.letters.index(\"M\")\n",
    "        o: int = self.letters.index(\"O\")\n",
    "        r: int = self.letters.index(\"R\")\n",
    "        y: int = self.letters.index(\"Y\")\n",
    "        send: int = s * 1000 + e * 100 + n * 10 + d\n",
    "        more: int = m * 1000 + o * 100 + r * 10 + e\n",
    "        money: int = m * 10000 + o * 1000 + n * 100 + e * 10 + y\n",
    "        difference: int = abs(money - (send + more))\n",
    "        return f\"{send} + {more} = {money} Difference: {difference}\""
   ]
  },
  {
   "cell_type": "code",
   "execution_count": 69,
   "metadata": {},
   "outputs": [
    {
     "name": "stdout",
     "output_type": "stream",
     "text": [
      "123 + 4561 = 45217 Difference: 40533\n",
      "6043 + 7810 = 78405 Difference: 64552\n"
     ]
    }
   ],
   "source": [
    "import copy\n",
    "\n",
    "letters = [\"S\", \"E\", \"N\", \"D\", \"M\", \"O\", \"R\", \"Y\", \" \"]\n",
    "one = SendMoreMoney2(copy.deepcopy(letters))\n",
    "\n",
    "shuffle(letters)\n",
    "two = SendMoreMoney2(copy.deepcopy(letters))\n",
    "\n",
    "print(one)\n",
    "print(two)"
   ]
  },
  {
   "cell_type": "code",
   "execution_count": 70,
   "metadata": {},
   "outputs": [
    {
     "name": "stdout",
     "output_type": "stream",
     "text": [
      "6123 + 4501 = 45217 Difference: 34593\n",
      "6043 + 7210 = 72405 Difference: 59152\n"
     ]
    }
   ],
   "source": [
    "new_one, new_two = one.crossover(two)\n",
    "print(new_one)\n",
    "print(new_two)"
   ]
  },
  {
   "cell_type": "code",
   "execution_count": 71,
   "metadata": {},
   "outputs": [
    {
     "name": "stdout",
     "output_type": "stream",
     "text": [
      "['S', 'E', 'N', 'D', 'M', 'O', 'R', 'Y', ' ']\n",
      "['R', 'E', 'N', 'D', 'M', 'O', 'S', 'Y', ' ']\n",
      "['E', 'R', 'O', 'D', 'N', 'Y', 'S', 'M', ' ']\n"
     ]
    }
   ],
   "source": [
    "print(one.letters)\n",
    "print(new_one.letters)\n",
    "print(new_two.letters)"
   ]
  },
  {
   "cell_type": "markdown",
   "metadata": {},
   "source": [
    "The fitness function returns $$\\frac{1}{\\text{difference}+1}$$ because we want a metric to maximize. This means that the fitness will be 1 when the difference is 0."
   ]
  },
  {
   "cell_type": "markdown",
   "metadata": {},
   "source": [
    "## Solve Puzzle\n",
    "\n",
    "As we have limited the algorithm to never use 0 as a value, this may not finish. The initial states are randomized."
   ]
  },
  {
   "cell_type": "code",
   "execution_count": 72,
   "metadata": {},
   "outputs": [
    {
     "name": "stdout",
     "output_type": "stream",
     "text": [
      "Found best in 87 generations. Best = 1.0. \n",
      "Found better individual in 12.64% of generations.\n"
     ]
    }
   ],
   "source": [
    "initial = [SendMoreMoney2.random_instance() for _ in range(1000)]\n",
    "\n",
    "ga = GeneticAlgorithm(\n",
    "    initial_population=initial,\n",
    "    threshold=1.0,\n",
    "    max_generations=1000,\n",
    "    mutation_chance=0.5,\n",
    "    crossover_chance=0.5,\n",
    "    selection_type=\"ROULETTE\",\n",
    ")\n",
    "result = ga.run()"
   ]
  },
  {
   "cell_type": "code",
   "execution_count": 73,
   "metadata": {},
   "outputs": [
    {
     "name": "stdout",
     "output_type": "stream",
     "text": [
      "7531 + 825 = 8356 Difference: 0\n"
     ]
    }
   ],
   "source": [
    "print(result)"
   ]
  },
  {
   "cell_type": "markdown",
   "metadata": {},
   "source": [
    "# Determining Most Efficient Ordering for Compressing A String\n",
    "\n",
    "Ordering of a list will affect the compressed size. We can use a genetic algorithm to try and find the optimal ordering for the smallest compression."
   ]
  },
  {
   "cell_type": "code",
   "execution_count": 74,
   "metadata": {},
   "outputs": [
    {
     "data": {
      "text/plain": [
       "50"
      ]
     },
     "execution_count": 74,
     "metadata": {},
     "output_type": "execute_result"
    }
   ],
   "source": [
    "import random_word\n",
    "\n",
    "words = random_word.RandomWords().get_random_words()\n",
    "len(words)"
   ]
  },
  {
   "cell_type": "code",
   "execution_count": 113,
   "metadata": {},
   "outputs": [
    {
     "name": "stdout",
     "output_type": "stream",
     "text": [
      "Initial size of compressed TARGET = 548 bytes\n"
     ]
    }
   ],
   "source": [
    "from random import shuffle, sample\n",
    "from copy import deepcopy\n",
    "from zlib import compress\n",
    "from sys import getsizeof\n",
    "\n",
    "from pickle import dumps\n",
    "\n",
    "TARGET = deepcopy(words)\n",
    "print(f'Initial size of compressed TARGET = {getsizeof(compress(dumps(words)))} bytes')"
   ]
  },
  {
   "cell_type": "code",
   "execution_count": 116,
   "metadata": {},
   "outputs": [],
   "source": [
    "class ListCompression(Chromosome):\n",
    "    def __init__(self, lst: List[Any]) -> None:\n",
    "        self.lst: List[Any] = lst\n",
    "\n",
    "    @property\n",
    "    def bytes_compressed(self) -> int:\n",
    "        return getsizeof(compress(dumps(self.lst)))\n",
    "\n",
    "    def fitness(self) -> float:\n",
    "        return 1 / self.bytes_compressed\n",
    "\n",
    "    @classmethod\n",
    "    def random_instance(cls) -> ListCompression:\n",
    "        \"\"\"\n",
    "        Random initialization of list ordering.\n",
    "        \"\"\"\n",
    "        mylst: List[str] = deepcopy(TARGET)\n",
    "        shuffle(mylst)\n",
    "        return ListCompression(mylst)\n",
    "\n",
    "    def crossover(\n",
    "        self, other: ListCompression\n",
    "    ) -> Tuple[ListCompression, ListCompression]:\n",
    "        \"\"\"\n",
    "        Crossover one item from first list with an item from the second list.\n",
    "        \"\"\"\n",
    "        child1: ListCompression = deepcopy(self)\n",
    "        child2: ListCompression = deepcopy(other)\n",
    "\n",
    "        idx1, idx2 = sample(range(len(self.lst)), k=2)\n",
    "        word1, word2 = child1.lst[idx1], child2.lst[idx2]\n",
    "\n",
    "        # Swap the words\n",
    "        child1.lst[idx2] = word2\n",
    "        child1.lst[child1.lst.index(word2)] = child1.lst[idx2]\n",
    "\n",
    "        # Swap the words\n",
    "        child2.lst[idx1] = word1\n",
    "        child2.lst[child2.lst.index(word1)] = child2.lst[idx1]\n",
    "        return child1, child2\n",
    "\n",
    "    def mutate(self) -> None:\n",
    "        \"\"\"\n",
    "        Swap two locations within one chromosome.\n",
    "        \"\"\"\n",
    "        idx1, idx2 = sample(range(len(self.lst)), k=2)\n",
    "        self.lst[idx1], self.lst[idx2] = self.lst[idx2], self.lst[idx1]\n",
    "\n",
    "    def __str__(self) -> str:\n",
    "        return f\"Order: {self.lst} Bytes: {self.bytes_compressed}.\""
   ]
  },
  {
   "cell_type": "markdown",
   "metadata": {},
   "source": [
    "### Run the Genetic Algorithm\n",
    "\n",
    "Try and find the list ordering resulting in the smallest compressed list size."
   ]
  },
  {
   "cell_type": "code",
   "execution_count": 117,
   "metadata": {},
   "outputs": [
    {
     "name": "stdout",
     "output_type": "stream",
     "text": [
      "Generation 99 Best 0.004149377593360996 Avg 0.004129142972397066\n",
      "Generation 199 Best 0.004830917874396135 Avg 0.004798576075216512\n",
      "Generation 299 Best 0.004830917874396135 Avg 0.004806546815553076\n",
      "Generation 399 Best 0.004830917874396135 Avg 0.004795746999158475\n",
      "Generation 499 Best 0.004830917874396135 Avg 0.0047974571497858805\n",
      "Generation 599 Best 0.004830917874396135 Avg 0.004799389533887875\n",
      "Generation 699 Best 0.004830917874396135 Avg 0.004798036904713716\n",
      "Generation 799 Best 0.004830917874396135 Avg 0.00479105949152754\n",
      "Generation 899 Best 0.004830917874396135 Avg 0.004799855139214671\n",
      "Generation 999 Best 0.004830917874396135 Avg 0.004799433037271091\n"
     ]
    }
   ],
   "source": [
    "initial = [ListCompression.random_instance() for _ in range(500)]\n",
    "ga = GeneticAlgorithm(\n",
    "    initial_population=initial,\n",
    "    threshold=1.0,\n",
    "    max_generations=1000,\n",
    "    mutation_chance=0.25,\n",
    "    crossover_chance=0.75,\n",
    "    selection_type=\"TOURNAMENT\",\n",
    ")\n",
    "result = ga.run()"
   ]
  },
  {
   "cell_type": "code",
   "execution_count": 118,
   "metadata": {},
   "outputs": [
    {
     "name": "stdout",
     "output_type": "stream",
     "text": [
      "Order: ['blurring', 'beamy', 'yashmaks', 'lengthed', 'shkotzim', 'lengthed', 'shkotzim', 'yashmaks', 'satays', 'diploidy', 'beamy', 'Lawrie', 'beamy', 'beamy', 'beginnings', 'pot-hunter', 'lengthed', 'shkotzim', 'Lawrie', 'beamy', 'beamy', 'shkotzim', 'Lawrie', 'rumseller', 'beamy', 'beamy', 'battleground', 'Lawrie', 'beamy', 'beginnings', 'blurring', 'lengthed', 'shkotzim', 'beginnings', 'blurring', 'beamy', 'shkotzim', 'diploidy', 'beamy', 'beamy', 'rumseller', 'battleground', 'pot-hunter', 'beamy', 'rumseller', 'diploidy', 'beamy', 'diploidy', 'beamy', 'beamy'] Bytes: 207.\n"
     ]
    }
   ],
   "source": [
    "print(result)"
   ]
  },
  {
   "cell_type": "markdown",
   "metadata": {},
   "source": [
    "# Challenges\n",
    "\n",
    "Genetic algorithms do not usually appear to be the best way to solve problems. Especially in cases where analytical solutions exist and can be solved in a reasonable amount of time, there is no need for genetic methods. \n",
    "\n",
    "(Roulette wheel selection is also known as fitness-proportional selection because the probability of selection is proportional to the fitness measure of the chromosome.)\n",
    "\n",
    "* Cannot guarantee discovery of solution in a predictable amount of time\n",
    "* Appropriate only for situations where we can use a \"good enough\" solution\n",
    "* Make configurable parameters to tweak"
   ]
  },
  {
   "cell_type": "markdown",
   "metadata": {},
   "source": [
    "## Use Cases\n",
    "\n",
    "* Complex optimization problems with no known analytical solution such as the Traveling Salesman Problem\n",
    "* Mimic artwork using stochastic processes\n",
    "* Scheduling problems where we need to find optimal routes between nodes in a network\n",
    "* Machine learning hyperparameter optimization\n",
    "\n",
    "One benefit of genetic algorithms is that they lend themselves easily to parallelization. As an example, each population can be simulated on a separate processor (crossover would require communication between populations). "
   ]
  }
 ],
 "metadata": {
  "kernelspec": {
   "display_name": "Python 3",
   "language": "python",
   "name": "python3"
  },
  "language_info": {
   "codemirror_mode": {
    "name": "ipython",
    "version": 3
   },
   "file_extension": ".py",
   "mimetype": "text/x-python",
   "name": "python",
   "nbconvert_exporter": "python",
   "pygments_lexer": "ipython3",
   "version": "3.7.3"
  }
 },
 "nbformat": 4,
 "nbformat_minor": 2
}
