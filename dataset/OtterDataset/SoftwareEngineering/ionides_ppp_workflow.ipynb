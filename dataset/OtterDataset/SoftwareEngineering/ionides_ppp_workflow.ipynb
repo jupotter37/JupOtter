{
 "cells": [
  {
   "cell_type": "markdown",
   "id": "e7418212-da09-47c7-a20f-47cb0be1ee50",
   "metadata": {},
   "source": [
    "# Some notes on setting up pypomp and a related workflow\n",
    "\n",
    "These are based on discussions in the Fall, 2024, pypomp group meetings. \n",
    "\n",
    "## Why ipynb?\n",
    "\n",
    "These documents are developed in ipynb format, written using Jupyter Lab. \n",
    "Sofware-focused projects might use [sphinx](https://www.sphinx-doc.org/) and [readthedocs](https://about.readthedocs.com/).\n",
    "At this point, pypomp is primarily being developed as a research tool, with software engineering principles being applied to strengthen the research agenda.\n",
    "The statistics community is familiar with ipynb, and it is suitable for data analysis and methodology research projects. \n",
    "Thus, we are using it also for tutorials.\n",
    "\n",
    "## Python distribution\n",
    "\n",
    "Using an up-to-date Anaconda distribution is a standard data science approach, and that is what we do here. For working on the University of Michigan greatlakes cluster, it turned out to be better to use a [Python virtual environment](greatlakes.html).  "
   ]
  },
  {
   "cell_type": "code",
   "execution_count": 1,
   "id": "2820e9eb-50ab-49e4-a896-7fea8f0ca89b",
   "metadata": {},
   "outputs": [
    {
     "data": {
      "text/plain": [
       "'3.12.4 | packaged by Anaconda, Inc. | (main, Jun 18 2024, 10:07:17) [Clang 14.0.6 ]'"
      ]
     },
     "execution_count": 1,
     "metadata": {},
     "output_type": "execute_result"
    }
   ],
   "source": [
    "from sys import version\n",
    "sys.version"
   ]
  },
  {
   "cell_type": "markdown",
   "id": "2ecd9a95-2f8f-49c7-a567-d57eb5893748",
   "metadata": {},
   "source": [
    "Some packages we use (pandas, numpy, matplotlib, seaborn, scipy, pytest) come with Anaconda.\n",
    "Others we must install ourselves. This test is run in pympomp 0.0.2 which has a tensorflow dependency that is removed in 0.0.3."
   ]
  },
  {
   "cell_type": "code",
   "execution_count": 5,
   "id": "16c82485-f519-4747-b99b-ec7018edf9a3",
   "metadata": {},
   "outputs": [],
   "source": [
    "%%capture\n",
    "%pip install tensorflow tensorflow_probability jax"
   ]
  },
  {
   "cell_type": "markdown",
   "id": "fb6403f7-91e1-45a3-8063-25813ce36176",
   "metadata": {},
   "source": [
    "This is appropriate for testing in a CPU environment. \n",
    "To use NVIDIA GPUs on a Linux machine, we woupd need\n",
    "```pip install -U \"jax[cuda12]\" ```\n",
    "and something similar for tensorflow and tensorflow_probability. \n",
    "A subsequent document on GPU setup should be linked here. "
   ]
  },
  {
   "cell_type": "markdown",
   "id": "a44bcb3b-a70d-422f-902d-02cd81e8313a",
   "metadata": {},
   "source": [
    "And last, but not least,"
   ]
  },
  {
   "cell_type": "code",
   "execution_count": 4,
   "id": "45ab337e-2aeb-4925-9c16-a135a9402d2c",
   "metadata": {},
   "outputs": [],
   "source": [
    "%%capture\n",
    "%pip install pypomp"
   ]
  },
  {
   "cell_type": "markdown",
   "id": "52dd39d4-9fa1-4bb2-b6d0-50526d5b54c3",
   "metadata": {},
   "source": [
    "## An initial test of pypomp\n",
    "\n",
    "Within the pypomp project directory, we can run \n",
    "```pytest test```\n",
    "to run all the tests in the test directory. \n",
    "\n"
   ]
  },
  {
   "cell_type": "code",
   "execution_count": 4,
   "id": "e4ef575e-8f07-42cf-a958-7bb488025e67",
   "metadata": {
    "scrolled": true
   },
   "outputs": [
    {
     "name": "stdout",
     "output_type": "stream",
     "text": [
      "\u001b[1m============================= test session starts ==============================\u001b[0m\n",
      "platform darwin -- Python 3.12.4, pytest-7.4.4, pluggy-1.0.0\n",
      "rootdir: /Users/ionides/git\n",
      "plugins: anyio-4.2.0, xdist-3.6.1\n",
      "collected 185 items                                                            \u001b[0m\n",
      "\n",
      "../pypomp/test/test_fit.py \u001b[32m.\u001b[0m\u001b[32m.\u001b[0m\u001b[32m.\u001b[0m\u001b[32m.\u001b[0m\u001b[32m.\u001b[0m\u001b[32m.\u001b[0m\u001b[32m.\u001b[0m\u001b[32m.\u001b[0m\u001b[32m.\u001b[0m\u001b[32m                                     [  4%]\u001b[0m\n",
      "../pypomp/test/test_fit_internal.py \u001b[32m.\u001b[0m\u001b[32m.\u001b[0m\u001b[32m.\u001b[0m\u001b[32m.\u001b[0m\u001b[32m.\u001b[0m\u001b[32m.\u001b[0m\u001b[32m.\u001b[0m\u001b[32m.\u001b[0m\u001b[32m.\u001b[0m\u001b[32m.\u001b[0m\u001b[32m.\u001b[0m\u001b[32m.\u001b[0m\u001b[32m.\u001b[0m\u001b[32m.\u001b[0m\u001b[32m.\u001b[0m\u001b[32m.\u001b[0m\u001b[32m.\u001b[0m\u001b[32m.\u001b[0m\u001b[32m.\u001b[0m\u001b[32m.\u001b[0m\u001b[32m.\u001b[0m\u001b[32m.\u001b[0m\u001b[32m.\u001b[0m\u001b[32m.\u001b[0m\u001b[32m.\u001b[0m\u001b[32m.\u001b[0m\u001b[32m.\u001b[0m\u001b[32m.\u001b[0m\u001b[32m.\u001b[0m\u001b[32m.\u001b[0m\u001b[32m.\u001b[0m\u001b[32m.\u001b[0m\u001b[32m.\u001b[0m\u001b[32m.\u001b[0m\u001b[32m.\u001b[0m\u001b[32m.\u001b[0m\u001b[32m [ 24%]\n",
      "\u001b[0m\u001b[32m.\u001b[0m\u001b[32m.\u001b[0m\u001b[32m.\u001b[0m\u001b[32m.\u001b[0m\u001b[32m.\u001b[0m\u001b[32m.\u001b[0m\u001b[32m.\u001b[0m\u001b[32m                                                                  [ 28%]\u001b[0m\n",
      "../pypomp/test/test_mop.py \u001b[32m.\u001b[0m\u001b[32m.\u001b[0m\u001b[32m.\u001b[0m\u001b[32m                                           [ 29%]\u001b[0m\n",
      "../pypomp/test/test_mop_internal.py \u001b[32m.\u001b[0m\u001b[32m.\u001b[0m\u001b[32m.\u001b[0m\u001b[32m.\u001b[0m\u001b[32m.\u001b[0m\u001b[32m.\u001b[0m\u001b[32m.\u001b[0m\u001b[32m.\u001b[0m\u001b[32m.\u001b[0m\u001b[32m.\u001b[0m\u001b[32m.\u001b[0m\u001b[32m.\u001b[0m\u001b[32m.\u001b[0m\u001b[32m.\u001b[0m\u001b[32m.\u001b[0m\u001b[32m.\u001b[0m\u001b[32m.\u001b[0m\u001b[32m.\u001b[0m\u001b[32m.\u001b[0m\u001b[32m.\u001b[0m\u001b[32m.\u001b[0m\u001b[32m.\u001b[0m\u001b[32m.\u001b[0m\u001b[32m.\u001b[0m\u001b[32m.\u001b[0m\u001b[32m.\u001b[0m\u001b[32m           [ 43%]\u001b[0m\n",
      "../pypomp/test/test_perfilter.py \u001b[32m.\u001b[0m\u001b[32m.\u001b[0m\u001b[32m.\u001b[0m\u001b[32m                                     [ 45%]\u001b[0m\n",
      "../pypomp/test/test_perfilter_internal.py \u001b[32m.\u001b[0m\u001b[32m.\u001b[0m\u001b[32m.\u001b[0m\u001b[32m.\u001b[0m\u001b[32m.\u001b[0m\u001b[32m.\u001b[0m\u001b[32m.\u001b[0m\u001b[32m.\u001b[0m\u001b[32m.\u001b[0m\u001b[32m.\u001b[0m\u001b[32m.\u001b[0m\u001b[32m.\u001b[0m\u001b[32m.\u001b[0m\u001b[32m.\u001b[0m\u001b[32m.\u001b[0m\u001b[32m.\u001b[0m\u001b[32m.\u001b[0m\u001b[32m.\u001b[0m\u001b[32m.\u001b[0m\u001b[32m.\u001b[0m\u001b[32m.\u001b[0m\u001b[32m.\u001b[0m\u001b[32m.\u001b[0m\u001b[32m.\u001b[0m\u001b[32m.\u001b[0m\u001b[32m.\u001b[0m\u001b[32m.\u001b[0m\u001b[32m.\u001b[0m\u001b[32m   [ 60%]\u001b[0m\n",
      "../pypomp/test/test_pfilter.py \u001b[32m.\u001b[0m\u001b[32m.\u001b[0m\u001b[32m.\u001b[0m\u001b[32m                                       [ 62%]\u001b[0m\n",
      "../pypomp/test/test_pfilter_internal.py \u001b[32m.\u001b[0m\u001b[32m.\u001b[0m\u001b[32m.\u001b[0m\u001b[32m.\u001b[0m\u001b[32m.\u001b[0m\u001b[32m.\u001b[0m\u001b[32m.\u001b[0m\u001b[32m.\u001b[0m\u001b[32m.\u001b[0m\u001b[32m.\u001b[0m\u001b[32m.\u001b[0m\u001b[32m.\u001b[0m\u001b[32m.\u001b[0m\u001b[32m.\u001b[0m\u001b[32m.\u001b[0m\u001b[32m.\u001b[0m\u001b[32m.\u001b[0m\u001b[32m.\u001b[0m\u001b[32m.\u001b[0m\u001b[32m.\u001b[0m\u001b[32m.\u001b[0m\u001b[32m.\u001b[0m\u001b[32m.\u001b[0m\u001b[32m.\u001b[0m\u001b[32m.\u001b[0m\u001b[32m.\u001b[0m\u001b[32m       [ 76%]\u001b[0m\n",
      "../pypomp/test/test_pfilter_pf.py \u001b[32m.\u001b[0m\u001b[32m.\u001b[0m\u001b[32m.\u001b[0m\u001b[32m                                    [ 77%]\u001b[0m\n",
      "../pypomp/test/test_pfilter_pf_internal.py \u001b[32m.\u001b[0m\u001b[32m.\u001b[0m\u001b[32m.\u001b[0m\u001b[32m.\u001b[0m\u001b[32m.\u001b[0m\u001b[32m.\u001b[0m\u001b[32m.\u001b[0m\u001b[32m.\u001b[0m\u001b[32m.\u001b[0m\u001b[32m.\u001b[0m\u001b[32m.\u001b[0m\u001b[32m.\u001b[0m\u001b[32m.\u001b[0m\u001b[32m.\u001b[0m\u001b[32m.\u001b[0m\u001b[32m.\u001b[0m\u001b[32m.\u001b[0m\u001b[32m.\u001b[0m\u001b[32m.\u001b[0m\u001b[32m.\u001b[0m\u001b[32m.\u001b[0m\u001b[32m.\u001b[0m\u001b[32m.\u001b[0m\u001b[32m.\u001b[0m\u001b[32m.\u001b[0m\u001b[32m     [ 91%]\u001b[0m\n",
      "../pypomp/test/test_pompclass.py \u001b[32m.\u001b[0m\u001b[32m.\u001b[0m\u001b[32m.\u001b[0m\u001b[32m.\u001b[0m\u001b[32m.\u001b[0m\u001b[32m.\u001b[0m\u001b[32m.\u001b[0m\u001b[32m.\u001b[0m\u001b[32m.\u001b[0m\u001b[32m.\u001b[0m\u001b[32m.\u001b[0m\u001b[32m.\u001b[0m\u001b[32m.\u001b[0m\u001b[32m.\u001b[0m\u001b[32m.\u001b[0m\u001b[32m.\u001b[0m\u001b[32m                        [100%]\u001b[0m\n",
      "\n",
      "\u001b[32m======================== \u001b[32m\u001b[1m185 passed\u001b[0m\u001b[32m in 77.61s (0:01:17)\u001b[0m\u001b[32m ========================\u001b[0m\n"
     ]
    }
   ],
   "source": [
    "!pytest ~/git/pypomp/test"
   ]
  },
  {
   "cell_type": "markdown",
   "id": "43bbeaba-a1e1-45c2-a824-7e375d02a96a",
   "metadata": {},
   "source": [
    "* This pypomp version runs with no warnings. \n",
    "\n",
    "* The warnings on the previous version all related to installed dependencies, not pypomp directly. \n",
    "\n",
    "* It seems that no action is required apart from routine updating all packages.   "
   ]
  },
  {
   "cell_type": "markdown",
   "id": "b0d95e9b-2751-4bf9-b2bd-0ebb4ccca8c5",
   "metadata": {},
   "source": [
    "## Speeding up testing with parallelization"
   ]
  },
  {
   "cell_type": "code",
   "execution_count": 2,
   "id": "767e0eff-d9a6-4ec2-bf39-a25c4dd9a767",
   "metadata": {},
   "outputs": [],
   "source": [
    "%%capture\n",
    "%pip install pytest-xdist"
   ]
  },
  {
   "cell_type": "code",
   "execution_count": 3,
   "id": "b3d3357d-609a-4668-977f-17f774a54e50",
   "metadata": {},
   "outputs": [
    {
     "name": "stdout",
     "output_type": "stream",
     "text": [
      "\u001b[1m============================= test session starts ==============================\u001b[0m\n",
      "platform darwin -- Python 3.12.4, pytest-7.4.4, pluggy-1.0.0\n",
      "rootdir: /Users/ionides/git\n",
      "plugins: anyio-4.2.0, xdist-3.6.1\n",
      "10 workers [185 items]  \u001b[0m\u001b[1m1m\u001b[1m\u001b[1m\u001b[1m\u001b[1m\u001b[1m\u001b[1m\u001b[1m\u001b[1m\u001b[1m\u001b[1m\u001b[1m\u001b[1m\u001b[1m\u001b[1m\u001b[1m\u001b[1m\u001b[1m\u001b[1m\u001b[1m\n",
      "\u001b[32m.\u001b[0m\u001b[32m.\u001b[0m\u001b[32m.\u001b[0m\u001b[32m.\u001b[0m\u001b[32m.\u001b[0m\u001b[32m.\u001b[0m\u001b[32m.\u001b[0m\u001b[32m.\u001b[0m\u001b[32m.\u001b[0m\u001b[32m.\u001b[0m\u001b[32m.\u001b[0m\u001b[32m.\u001b[0m\u001b[32m.\u001b[0m\u001b[32m.\u001b[0m\u001b[32m.\u001b[0m\u001b[32m.\u001b[0m\u001b[32m.\u001b[0m\u001b[32m.\u001b[0m\u001b[32m.\u001b[0m\u001b[32m.\u001b[0m\u001b[32m.\u001b[0m\u001b[32m.\u001b[0m\u001b[32m.\u001b[0m\u001b[32m.\u001b[0m\u001b[32m.\u001b[0m\u001b[32m.\u001b[0m\u001b[32m.\u001b[0m\u001b[32m.\u001b[0m\u001b[32m.\u001b[0m\u001b[32m.\u001b[0m\u001b[32m.\u001b[0m\u001b[32m.\u001b[0m\u001b[32m.\u001b[0m\u001b[32m.\u001b[0m\u001b[32m.\u001b[0m\u001b[32m.\u001b[0m\u001b[32m.\u001b[0m\u001b[32m.\u001b[0m\u001b[32m.\u001b[0m\u001b[32m.\u001b[0m\u001b[32m.\u001b[0m\u001b[32m.\u001b[0m\u001b[32m.\u001b[0m\u001b[32m.\u001b[0m\u001b[32m.\u001b[0m\u001b[32m.\u001b[0m\u001b[32m.\u001b[0m\u001b[32m.\u001b[0m\u001b[32m.\u001b[0m\u001b[32m.\u001b[0m\u001b[32m.\u001b[0m\u001b[32m.\u001b[0m\u001b[32m.\u001b[0m\u001b[32m.\u001b[0m\u001b[32m.\u001b[0m\u001b[32m.\u001b[0m\u001b[32m.\u001b[0m\u001b[32m.\u001b[0m\u001b[32m.\u001b[0m\u001b[32m.\u001b[0m\u001b[32m.\u001b[0m\u001b[32m.\u001b[0m\u001b[32m.\u001b[0m\u001b[32m.\u001b[0m\u001b[32m.\u001b[0m\u001b[32m.\u001b[0m\u001b[32m.\u001b[0m\u001b[32m.\u001b[0m\u001b[32m.\u001b[0m\u001b[32m.\u001b[0m\u001b[32m.\u001b[0m\u001b[32m.\u001b[0m\u001b[32m [ 38%]\n",
      "\u001b[0m\u001b[32m.\u001b[0m\u001b[32m.\u001b[0m\u001b[32m.\u001b[0m\u001b[32m.\u001b[0m\u001b[32m.\u001b[0m\u001b[32m.\u001b[0m\u001b[32m.\u001b[0m\u001b[32m.\u001b[0m\u001b[32m.\u001b[0m\u001b[32m.\u001b[0m\u001b[32m.\u001b[0m\u001b[32m.\u001b[0m\u001b[32m.\u001b[0m\u001b[32m.\u001b[0m\u001b[32m.\u001b[0m\u001b[32m.\u001b[0m\u001b[32m.\u001b[0m\u001b[32m.\u001b[0m\u001b[32m.\u001b[0m\u001b[32m.\u001b[0m\u001b[32m.\u001b[0m\u001b[32m.\u001b[0m\u001b[32m.\u001b[0m\u001b[32m.\u001b[0m\u001b[32m.\u001b[0m\u001b[32m.\u001b[0m\u001b[32m.\u001b[0m\u001b[32m.\u001b[0m\u001b[32m.\u001b[0m\u001b[32m.\u001b[0m\u001b[32m.\u001b[0m\u001b[32m.\u001b[0m\u001b[32m.\u001b[0m\u001b[32m.\u001b[0m\u001b[32m.\u001b[0m\u001b[32m.\u001b[0m\u001b[32m.\u001b[0m\u001b[32m.\u001b[0m\u001b[32m.\u001b[0m\u001b[32m.\u001b[0m\u001b[32m.\u001b[0m\u001b[32m.\u001b[0m\u001b[32m.\u001b[0m\u001b[32m.\u001b[0m\u001b[32m.\u001b[0m\u001b[32m.\u001b[0m\u001b[32m.\u001b[0m\u001b[32m.\u001b[0m\u001b[32m.\u001b[0m\u001b[32m.\u001b[0m\u001b[32m.\u001b[0m\u001b[32m.\u001b[0m\u001b[32m.\u001b[0m\u001b[32m.\u001b[0m\u001b[32m.\u001b[0m\u001b[32m.\u001b[0m\u001b[32m.\u001b[0m\u001b[32m.\u001b[0m\u001b[32m.\u001b[0m\u001b[32m.\u001b[0m\u001b[32m.\u001b[0m\u001b[32m.\u001b[0m\u001b[32m.\u001b[0m\u001b[32m.\u001b[0m\u001b[32m.\u001b[0m\u001b[32m.\u001b[0m\u001b[32m.\u001b[0m\u001b[32m.\u001b[0m\u001b[32m.\u001b[0m\u001b[32m.\u001b[0m\u001b[32m.\u001b[0m\u001b[32m.\u001b[0m\u001b[32m [ 77%]\n",
      "\u001b[0m\u001b[32m.\u001b[0m\u001b[32m.\u001b[0m\u001b[32m.\u001b[0m\u001b[32m.\u001b[0m\u001b[32m.\u001b[0m\u001b[32m.\u001b[0m\u001b[32m.\u001b[0m\u001b[32m.\u001b[0m\u001b[32m.\u001b[0m\u001b[32m.\u001b[0m\u001b[32m.\u001b[0m\u001b[32m.\u001b[0m\u001b[32m.\u001b[0m\u001b[32m.\u001b[0m\u001b[32m.\u001b[0m\u001b[32m.\u001b[0m\u001b[32m.\u001b[0m\u001b[32m.\u001b[0m\u001b[32m.\u001b[0m\u001b[32m.\u001b[0m\u001b[32m.\u001b[0m\u001b[32m.\u001b[0m\u001b[32m.\u001b[0m\u001b[32m.\u001b[0m\u001b[32m.\u001b[0m\u001b[32m.\u001b[0m\u001b[32m.\u001b[0m\u001b[32m.\u001b[0m\u001b[32m.\u001b[0m\u001b[32m.\u001b[0m\u001b[32m.\u001b[0m\u001b[32m.\u001b[0m\u001b[32m.\u001b[0m\u001b[32m.\u001b[0m\u001b[32m.\u001b[0m\u001b[32m.\u001b[0m\u001b[32m.\u001b[0m\u001b[32m.\u001b[0m\u001b[32m.\u001b[0m\u001b[32m.\u001b[0m\u001b[32m.\u001b[0m\u001b[32m                                [100%]\u001b[0m\n",
      "\u001b[32m============================= \u001b[32m\u001b[1m185 passed\u001b[0m\u001b[32m in 15.47s\u001b[0m\u001b[32m =============================\u001b[0m\n"
     ]
    }
   ],
   "source": [
    "!pytest -n auto ~/git/pypomp/test"
   ]
  },
  {
   "cell_type": "markdown",
   "id": "66139ed3-fd3c-4e44-8818-807369413b57",
   "metadata": {},
   "source": [
    "* On a 10-processor machine, here we get a 5-fold improvement in speed by using the xdist plugin for pytest.\n",
    "\n",
    "* We lose some details for the test output. "
   ]
  },
  {
   "cell_type": "markdown",
   "id": "4ebf4143-d3a8-496d-9052-e559a4101a56",
   "metadata": {},
   "source": [
    "A self-contained test of pypomp can follow the workflow used in \n",
    "```pypomp/.github/workflows/test-package.yml```\n",
    "as follows:\n",
    "```\n",
    "conda create --name test\n",
    "conda activate test\n",
    "conda install python\n",
    "python -m pip install --upgrade pip\n",
    "python -m pip install pytest\n",
    "cd ~/git/pypomp\n",
    "pip install -r requirements.txt\n",
    "pytest\n",
    "\n",
    "# tidy up afterward\n",
    "conda deactivate\n",
    "conda remove -n test --all\n",
    "```\n"
   ]
  },
  {
   "cell_type": "markdown",
   "id": "09254799-1649-460e-97fd-7718351bbbaf",
   "metadata": {},
   "source": [
    "A similar workflow arises if you make a fork of pypomp and push to activate the GitHub action tests."
   ]
  },
  {
   "cell_type": "markdown",
   "id": "e9bd4f51-0178-498b-ba06-bdbfaea3dba8",
   "metadata": {},
   "source": [
    "## Testing a rebuild of the package\n",
    "\n",
    "* A bit of care is needed to check whether you are using the local version of the package from the source files, or from the local build. Also, there is a danger that you might accidentally find a version from PyPI when you are trying to use a local version.\n",
    "\n",
    "* If you work outside the package directory, python cannot accidentally use the source files.\n",
    "\n",
    "* Here is a workflow:\n",
    "\n",
    "```\n",
    "# stay in the home directory, assuming the repo is cloned in ~/git\n",
    "cd\n",
    "\n",
    "conda create --name test python\n",
    "conda activate test\n",
    "\n",
    "pip install build\n",
    "python -m build ~/git/pypomp\n",
    "pip install git/pypomp/dist/pypomp-0.0.3-py3-none-any.whl\n",
    "\n",
    "pip install jax\n",
    "pip install tqdm\n",
    "\n",
    "pip install pytest\n",
    "pytest ~/git/pypomp\n",
    "\n",
    "# tidy up afterward\n",
    "conda deactivate\n",
    "conda remove -n test --all\n",
    "```"
   ]
  },
  {
   "cell_type": "code",
   "execution_count": null,
   "id": "e9f671ee-4659-4adf-80ec-5c72381aa6b4",
   "metadata": {},
   "outputs": [],
   "source": []
  }
 ],
 "metadata": {
  "kernelspec": {
   "display_name": "Python 3 (ipykernel)",
   "language": "python",
   "name": "python3"
  },
  "language_info": {
   "codemirror_mode": {
    "name": "ipython",
    "version": 3
   },
   "file_extension": ".py",
   "mimetype": "text/x-python",
   "name": "python",
   "nbconvert_exporter": "python",
   "pygments_lexer": "ipython3",
   "version": "3.12.4"
  }
 },
 "nbformat": 4,
 "nbformat_minor": 5
}
