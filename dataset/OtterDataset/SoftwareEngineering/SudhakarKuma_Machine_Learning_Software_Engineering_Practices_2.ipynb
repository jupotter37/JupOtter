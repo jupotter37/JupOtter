{
  "nbformat": 4,
  "nbformat_minor": 0,
  "metadata": {
    "colab": {
      "name": "Software_Engineering_Practices_2.ipynb",
      "provenance": [],
      "collapsed_sections": [],
      "include_colab_link": true
    },
    "kernelspec": {
      "name": "python3",
      "display_name": "Python 3"
    }
  },
  "cells": [
    {
      "cell_type": "markdown",
      "metadata": {
        "id": "view-in-github",
        "colab_type": "text"
      },
      "source": [
        "<a href=\"https://colab.research.google.com/github/SudhakarKuma/Machine_Learning/blob/master/Udacity/AWS_Machine_Learning_Course/Software_Engineering_Practices_2/Software_Engineering_Practices_2.ipynb\" target=\"_parent\"><img src=\"https://colab.research.google.com/assets/colab-badge.svg\" alt=\"Open In Colab\"/></a>"
      ]
    },
    {
      "cell_type": "markdown",
      "metadata": {
        "id": "2OT2fCOcczT0",
        "colab_type": "text"
      },
      "source": [
        "We'll learn about the following practices of software engineering and how they apply in data science.\n",
        "\n",
        "* Testing\n",
        "* Logging\n",
        "* Code reviews"
      ]
    },
    {
      "cell_type": "markdown",
      "metadata": {
        "id": "SJ7pH7tmd49N",
        "colab_type": "text"
      },
      "source": [
        "# Testing "
      ]
    },
    {
      "cell_type": "markdown",
      "metadata": {
        "id": "f0iAovv6d6vo",
        "colab_type": "text"
      },
      "source": [
        "Testing your code is essential before deployment. It helps you catch errors and faulty conclusions before they make any major impact. Today, employers are looking for data scientists with the skills to properly prepare their code for an industry setting, which includes testing their code."
      ]
    },
    {
      "cell_type": "markdown",
      "metadata": {
        "id": "mJQH3i-zeUyA",
        "colab_type": "text"
      },
      "source": [
        "# Testing And Data Science\n"
      ]
    },
    {
      "cell_type": "markdown",
      "metadata": {
        "id": "OZup7PDbeSWq",
        "colab_type": "text"
      },
      "source": [
        "* Problems that could occur in data science aren't always easily detectable; you might have values being encoded incorrectly, features being used inappropriately, unexpected data breaking assumptions\n",
        "\n",
        "* To catch these errors, you have to check for the quality and accuracy of your analysis in addition to the quality of your code. Proper testing is necessary to avoid unexpected surprises and have confidence in your results.\n",
        "\n",
        "* **TEST DRIVEN DEVELOPMENT**: a development process where you write tests for tasks before you even write the code to implement those tasks.\n",
        "\n",
        "* **UNIT TEST**: a type of test that covers a \"unit\" of code, usually a single function, independently from the rest of the program.\n",
        "\n",
        "\n",
        "Resources: \n",
        "\n",
        "* Four Ways Data Science Goes Wrong and How Test Driven Data Analysis Can Help: [Blog Post](https://www.predictiveanalyticsworld.com/patimes/four-ways-data-science-goes-wrong-and-how-test-driven-data-analysis-can-help/6947/)\n",
        "\n",
        "* Ned Batchelder: Getting Started Testing: [Slide Deck](https://speakerdeck.com/pycon2014/getting-started-testing-by-ned-batchelder) and [Presentation Video](https://www.youtube.com/watch?v=FxSsnHeWQBY)"
      ]
    },
    {
      "cell_type": "markdown",
      "metadata": {
        "id": "JtYgmJZ6fq4W",
        "colab_type": "text"
      },
      "source": [
        "# Unit Tests "
      ]
    },
    {
      "cell_type": "markdown",
      "metadata": {
        "id": "OX_y_7qPftee",
        "colab_type": "text"
      },
      "source": [
        "We want to test our functions in a way that is repeatable and automated. Ideally, we'd run a test program that runs all our unit tests and cleanly lets us know which ones failed and which ones succeeded. Fortunately, there are great tools available in Python that we can use to create effective unit tests!\n",
        "\n",
        "**Unit Test Advantages and Disadvantages**\n",
        "The advantage of unit tests is that they are isolated from the rest of your program, and thus, no dependencies are involved. They don't require access to databases, APIs, or other external sources of information. However, passing unit tests isn’t always enough to prove that our program is working successfully. To show that all the parts of our program work with each other properly, communicating and transferring data between them correctly, we use integration tests. In this lesson, we'll focus on unit tests; however, when you start building larger programs, you will want to use integration tests as well.\n",
        "\n",
        "You can read about integration testing and how integration tests relate to unit tests [here](https://www.fullstackpython.com/integration-testing.html). That article contains other very useful links as well."
      ]
    },
    {
      "cell_type": "markdown",
      "metadata": {
        "id": "hDPramc1g1PV",
        "colab_type": "text"
      },
      "source": [
        "# Unit Testing Tools\n"
      ]
    },
    {
      "cell_type": "markdown",
      "metadata": {
        "id": "qPb7Rg4Ng3IC",
        "colab_type": "text"
      },
      "source": [
        "To install `pytest`, run `pip install -U pytest` in your terminal. You can see more information on getting started [here](https://docs.pytest.org/en/latest/getting-started.html).\n",
        "\n",
        "* Create a test file starting with `test_`\n",
        "* Define unit test functions that start with `test_` inside the test file\n",
        "* Enter `pytest` into your terminal in the directory of your test file and it will detect these tests for you!\n",
        "\n",
        "`test_` is the default - if you wish to change this, you can learn how to in this `pytest` [configuration](https://docs.pytest.org/en/latest/customize.html)\n",
        "\n",
        "In the test output, periods represent successful unit tests and F's represent failed unit tests. Since all you see is what test functions failed, it's wise to have only one `assert` statement per test. Otherwise, you wouldn't know exactly how many tests failed, and which tests failed.\n",
        "\n",
        "Your tests won't be stopped by failed `assert` statements, but it will stop if you have syntax errors."
      ]
    },
    {
      "cell_type": "markdown",
      "metadata": {
        "id": "3hCiiEWhnhtw",
        "colab_type": "text"
      },
      "source": [
        "# Test Driven Development and Data Science\n"
      ]
    },
    {
      "cell_type": "markdown",
      "metadata": {
        "id": "7mxMgh01ni2E",
        "colab_type": "text"
      },
      "source": [
        "* **TEST DRIVEN DEVELOPMENT**: writing tests before you write the code that's being tested. Your test would fail at first, and you'll know you've finished implementing a task when this test passes.\n",
        "\n",
        "* Tests can check for all the different scenarios and edge cases you can think of, before even starting to write your function. This way, when you do start implementing your function, you can run this test to get immediate feedback on whether it works or not in all the ways you can think of, as you tweak your function.\n",
        "\n",
        "* When refactoring or adding to your code, tests help you rest assured that the rest of your code didn't break while you were making those changes. Tests also helps ensure that your function behavior is repeatable, regardless of external parameters, such as hardware and time.\n",
        "\n",
        "Test driven development for data science is relatively new and has a lot of experimentation and breakthroughs appearing, which you can learn more about in the resources below.\n",
        "\n",
        "* [Data Science TDD](https://www.linkedin.com/pulse/data-science-test-driven-development-sam-savage/)\n",
        "* [TDD for Data Science](http://engineering.pivotal.io/post/test-driven-development-for-data-science/)\n",
        "* [TDD is Essential for Good Data Science Here's Why](https://medium.com/@karijdempsey/test-driven-development-is-essential-for-good-data-science-heres-why-db7975a03a44)\n",
        "* [Testing Your Code](http://docs.python-guide.org/en/latest/writing/tests/) (general python TDD)"
      ]
    },
    {
      "cell_type": "markdown",
      "metadata": {
        "id": "1D6S4czyqrN-",
        "colab_type": "text"
      },
      "source": [
        "# Logging "
      ]
    },
    {
      "cell_type": "markdown",
      "metadata": {
        "id": "SQVJCCp3qtkv",
        "colab_type": "text"
      },
      "source": [
        "Logging is valuable for understanding the events that occur while running your program. For example, if you run your model over night and see that it's producing ridiculous results the next day, log messages can really help you understand more about the context in which this occurred. "
      ]
    },
    {
      "cell_type": "markdown",
      "metadata": {
        "id": "Ngae8h6mrLB4",
        "colab_type": "text"
      },
      "source": [
        "# Code Reviews "
      ]
    },
    {
      "cell_type": "markdown",
      "metadata": {
        "id": "GlAhOePZrKMk",
        "colab_type": "text"
      },
      "source": [
        "Code reviews benefit everyone in a team to promote best programming practices and prepare code for production. Let's go over what to look for in a code review and some tips on how to conduct one.\n",
        "\n",
        "* [Code Review](https://github.com/lyst/MakingLyst/tree/master/code-reviews)\n",
        "* [Code Review Best Practices](https://www.kevinlondon.com/2015/05/05/code-review-best-practices.html)"
      ]
    },
    {
      "cell_type": "markdown",
      "metadata": {
        "id": "11VsVt6irpNd",
        "colab_type": "text"
      },
      "source": [
        "## Questions to Ask Yourself When Conducting a Code Review\n"
      ]
    },
    {
      "cell_type": "markdown",
      "metadata": {
        "id": "LWsr3q2nrqt3",
        "colab_type": "text"
      },
      "source": [
        "First, let's look over some of the questions we may ask ourselves while reviewing code. These are simply from the concepts we've covered in these last two lessons!\n",
        "\n",
        "**Is the code clean and modular?**\n",
        "\n",
        "* Can I understand the code easily?\n",
        "* Does it use meaningful names and whitespace?\n",
        "* Is there duplicated code?\n",
        "* Can you provide another layer of abstraction?\n",
        "* Is each function and module necessary?\n",
        "* Is each function or module too long?\n",
        "\n",
        "**Is the code efficient?**\n",
        "\n",
        "* Are there loops or other steps we can vectorize?\n",
        "* Can we use better data structures to optimize any steps?\n",
        "* Can we shorten the number of calculations needed for any steps?\n",
        "* Can we use generators or multiprocessing to optimize any steps?\n",
        "\n",
        "**Is documentation effective?**\n",
        "\n",
        "* Are in-line comments concise and meaningful?\n",
        "* Is there complex code that's missing documentation?\n",
        "* Do function use effective docstrings?\n",
        "* Is the necessary project documentation provided?\n",
        "\n",
        "**Is the code well tested?**\n",
        "\n",
        "* Does the code high test coverage?\n",
        "* Do tests check for interesting cases?\n",
        "* Are the tests readable?\n",
        "* Can the tests be made more efficient?\n",
        "\n",
        "**Is the logging effective?**\n",
        "\n",
        "* Are log messages clear, concise, and professional?\n",
        "* Do they include all relevant and useful information?\n",
        "* Do they use the appropriate logging level?\n",
        "\n",
        "**Tip: Use a code linter**\n",
        "\n",
        "This isn't really a tip for code review, but can save you lots of time from code review! Using a Python code linter like [pylint](https://www.pylint.org/) can automatically check for coding standards and PEP 8 guidelines for you! It's also a good idea to agree on a style guide as a team to handle disagreements on code style, whether that's an existing style guide or one you create together incrementally as a team."
      ]
    }
  ]
}