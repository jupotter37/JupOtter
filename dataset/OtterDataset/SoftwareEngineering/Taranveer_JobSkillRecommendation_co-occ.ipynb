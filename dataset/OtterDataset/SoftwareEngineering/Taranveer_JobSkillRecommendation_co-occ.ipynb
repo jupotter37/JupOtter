{
 "cells": [
  {
   "cell_type": "code",
   "execution_count": 661,
   "metadata": {},
   "outputs": [],
   "source": [
    "import numpy as np\n",
    "import itertools\n",
    "from scipy.sparse import csr_matrix\n",
    "import pickle as pk\n",
    "import sys\n",
    "import re\n",
    "import os\n",
    "from sklearn.feature_extraction.text import CountVectorizer\n",
    "from scripts.data_prepration_scripts.process_concepts import getCleanText\n",
    "from scipy.sparse.linalg import svds\n",
    "#import builtin"
   ]
  },
  {
   "cell_type": "code",
   "execution_count": 517,
   "metadata": {},
   "outputs": [],
   "source": [
    "def create_skill_base(skill_dict):\n",
    "    \n",
    "    skill_dict_copy = skill_dict.copy()\n",
    "    \n",
    "    for n,i in enumerate(skill_dict):\n",
    "        skill_dict_copy[i] = sorted(list(skill_dict[i]))\n",
    "        for j in range(len(skill_dict_copy[i])):\n",
    "            skill_dict_copy[i][j] = getCleanText(skill_dict_copy[i][j])\n",
    "        if n%1000==0:\n",
    "            print(n)\n",
    "        \n",
    "    print(\"Copy Made!\")\n",
    "    \n",
    "    skill_base = set()\n",
    "    for n,i in enumerate(skill_dict_copy):\n",
    "        skill_base = skill_base | set(skill_dict_copy[i])\n",
    "        if n%1000==0:\n",
    "            print(n)\n",
    "        \n",
    "    skill_base = (list(skill_base))\n",
    "    print(\"Cleaning up!\")\n",
    "    for n,i in enumerate(skill_dict_copy):\n",
    "        skill_dict_copy[i] = list(set(skill_dict_copy[i]))\n",
    "        if n%1000==0:\n",
    "            print(n)\n",
    "    \n",
    "    return skill_base,skill_dict_copy\n",
    "    "
   ]
  },
  {
   "cell_type": "code",
   "execution_count": 349,
   "metadata": {
    "collapsed": true
   },
   "outputs": [],
   "source": [
    "def generate_word_index_mapping(skills):\n",
    "    # create word - index mappings\n",
    "    mappings = {}\n",
    "    inv_mappings = {}\n",
    "    for i in range(len(skills)):\n",
    "        mappings[skills[i]] = i\n",
    "        inv_mappings[i] = skills[i]\n",
    "    return mappings, inv_mappings"
   ]
  },
  {
   "cell_type": "code",
   "execution_count": 533,
   "metadata": {
    "collapsed": true
   },
   "outputs": [],
   "source": [
    "def create_co_matrix(skill_base, skill_dict):\n",
    "    count = []\n",
    "    rows = []\n",
    "    columns = []\n",
    "    \n",
    "    num_skills = len(skill_base)\n",
    "    \n",
    "    mappings, inv_map = generate_word_index_mapping(skill_base)\n",
    "    for n,i in enumerate(skill_dict):\n",
    "        profile = skill_dict[i]\n",
    "        if(len(profile)<2):\n",
    "            continue\n",
    "        for pair in itertools.combinations(profile,2):\n",
    "            idx1 = mappings[pair[0]]\n",
    "            idx2 = mappings[pair[1]]\n",
    "            rows.append(idx1)\n",
    "            columns.append(idx2)\n",
    "            count.append(1)\n",
    "        if n%3000==0:\n",
    "            print(n)\n",
    "    co_occurrence = csr_matrix((count,(rows,columns)), shape = (num_skills,num_skills))\n",
    "    \n",
    "    \n",
    "    \n",
    "    return mappings,inv_map,co_occurrence"
   ]
  },
  {
   "cell_type": "code",
   "execution_count": 263,
   "metadata": {
    "collapsed": true
   },
   "outputs": [],
   "source": [
    "with open(\"C:\\\\Users\\\\Swapnil\\\\Downloads\\\\05899\\\\Project\\\\JobSkillRecommendation\\\\skills\\\\linkedin_person_skills_all.pkl\",'rb') as f:\n",
    "    skill_dict = pk.load(f)"
   ]
  },
  {
   "cell_type": "code",
   "execution_count": 523,
   "metadata": {
    "scrolled": false
   },
   "outputs": [
    {
     "name": "stderr",
     "output_type": "stream",
     "text": [
      "C:\\Users\\Swapnil\\Anaconda3\\lib\\site-packages\\bs4\\__init__.py:181: UserWarning: No parser was explicitly specified, so I'm using the best available HTML parser for this system (\"lxml\"). This usually isn't a problem, but if you run this code on another system, or in a different virtual environment, it may use a different parser and behave differently.\n",
      "\n",
      "The code that caused this warning is on line 193 of the file C:\\Users\\Swapnil\\Anaconda3\\lib\\runpy.py. To get rid of this warning, change code that looks like this:\n",
      "\n",
      " BeautifulSoup([your markup])\n",
      "\n",
      "to this:\n",
      "\n",
      " BeautifulSoup([your markup], \"lxml\")\n",
      "\n",
      "  markup_type=markup_type))\n"
     ]
    },
    {
     "name": "stdout",
     "output_type": "stream",
     "text": [
      "0\n"
     ]
    },
    {
     "name": "stderr",
     "output_type": "stream",
     "text": [
      "C:\\Users\\Swapnil\\Anaconda3\\lib\\site-packages\\bs4\\__init__.py:219: UserWarning: \"b'music'\" looks like a filename, not markup. You shouldprobably open this file and pass the filehandle intoBeautiful Soup.\n",
      "  'Beautiful Soup.' % markup)\n",
      "C:\\Users\\Swapnil\\Anaconda3\\lib\\site-packages\\bs4\\__init__.py:219: UserWarning: \"b'videos'\" looks like a filename, not markup. You shouldprobably open this file and pass the filehandle intoBeautiful Soup.\n",
      "  'Beautiful Soup.' % markup)\n"
     ]
    },
    {
     "name": "stdout",
     "output_type": "stream",
     "text": [
      "1000\n",
      "2000\n"
     ]
    },
    {
     "name": "stderr",
     "output_type": "stream",
     "text": [
      "C:\\Users\\Swapnil\\Anaconda3\\lib\\site-packages\\bs4\\__init__.py:219: UserWarning: \"b'cookies'\" looks like a filename, not markup. You shouldprobably open this file and pass the filehandle intoBeautiful Soup.\n",
      "  'Beautiful Soup.' % markup)\n"
     ]
    },
    {
     "name": "stdout",
     "output_type": "stream",
     "text": [
      "3000\n",
      "4000\n",
      "5000\n",
      "6000\n",
      "7000\n",
      "8000\n",
      "9000\n",
      "10000\n"
     ]
    },
    {
     "name": "stderr",
     "output_type": "stream",
     "text": [
      "C:\\Users\\Swapnil\\Anaconda3\\lib\\site-packages\\bs4\\__init__.py:219: UserWarning: \"b'templates'\" looks like a filename, not markup. You shouldprobably open this file and pass the filehandle intoBeautiful Soup.\n",
      "  'Beautiful Soup.' % markup)\n"
     ]
    },
    {
     "name": "stdout",
     "output_type": "stream",
     "text": [
      "11000\n",
      "12000\n"
     ]
    },
    {
     "name": "stderr",
     "output_type": "stream",
     "text": [
      "C:\\Users\\Swapnil\\Anaconda3\\lib\\site-packages\\bs4\\__init__.py:219: UserWarning: \"b'onedrive'\" looks like a filename, not markup. You shouldprobably open this file and pass the filehandle intoBeautiful Soup.\n",
      "  'Beautiful Soup.' % markup)\n"
     ]
    },
    {
     "name": "stdout",
     "output_type": "stream",
     "text": [
      "13000\n",
      "14000\n",
      "15000\n",
      "16000\n",
      "17000\n"
     ]
    },
    {
     "name": "stderr",
     "output_type": "stream",
     "text": [
      "C:\\Users\\Swapnil\\Anaconda3\\lib\\site-packages\\bs4\\__init__.py:219: UserWarning: \"b'desktop'\" looks like a filename, not markup. You shouldprobably open this file and pass the filehandle intoBeautiful Soup.\n",
      "  'Beautiful Soup.' % markup)\n"
     ]
    },
    {
     "name": "stdout",
     "output_type": "stream",
     "text": [
      "18000\n",
      "19000\n",
      "Copy Made!\n",
      "0\n",
      "1000\n",
      "2000\n",
      "3000\n",
      "4000\n",
      "5000\n",
      "6000\n",
      "7000\n",
      "8000\n",
      "9000\n",
      "10000\n",
      "11000\n",
      "12000\n",
      "13000\n",
      "14000\n",
      "15000\n",
      "16000\n",
      "17000\n",
      "18000\n",
      "19000\n",
      "Cleaning up!\n",
      "0\n",
      "1000\n",
      "2000\n",
      "3000\n",
      "4000\n",
      "5000\n",
      "6000\n",
      "7000\n",
      "8000\n",
      "9000\n",
      "10000\n",
      "11000\n",
      "12000\n",
      "13000\n",
      "14000\n",
      "15000\n",
      "16000\n",
      "17000\n",
      "18000\n",
      "19000\n",
      "Wall time: 31min\n"
     ]
    }
   ],
   "source": [
    "%%time\n",
    "skill_base,skill_dict = create_skill_base(skill_dict)"
   ]
  },
  {
   "cell_type": "code",
   "execution_count": 524,
   "metadata": {},
   "outputs": [],
   "source": [
    "#print(len(skill_base))\n",
    "\n",
    "with open(\"C:\\\\Users\\\\Swapnil\\\\Downloads\\\\05899\\\\Project\\\\JobSkillRecommendation\\\\skills\\\\skill_base_pickle.pkl\",'wb') as file:\n",
    "    pk.dump(skill_base,file)"
   ]
  },
  {
   "cell_type": "code",
   "execution_count": 525,
   "metadata": {
    "collapsed": true
   },
   "outputs": [],
   "source": [
    "with open(\"C:\\\\Users\\\\Swapnil\\\\Downloads\\\\05899\\\\Project\\\\JobSkillRecommendation\\\\skills\\\\skill_dict_pickle.pkl\",'wb') as file:\n",
    "    pk.dump(skill_dict,file)"
   ]
  },
  {
   "cell_type": "code",
   "execution_count": 531,
   "metadata": {},
   "outputs": [
    {
     "name": "stdout",
     "output_type": "stream",
     "text": [
      "<class 'list'>\n",
      "<class 'dict'>\n",
      "['computer science', 'linux', 'distributed systems', 'git', 'theory computation', 'distributed databases', 'software engineering', 'haskell', 'artificial intelligence', 'learn skill', 'hadoop', 'mapreduce', 'scalability', 'latex', 'algorithms', 'cassandra', 'python', 'scala', 'java', 'ruby', 'machine learning', 'parallel computing', 'mysql', 'algorithm design']\n",
      "16592\n",
      "3885\n"
     ]
    }
   ],
   "source": [
    "print(type(skill_base))\n",
    "#skill_base.index('')\n",
    "skill_base[0]\n",
    "print(type(skill_dict))\n",
    "#skill_dict.index('')\n",
    "print(skill_dict[0])\n",
    "print(skill_2_index_mapping[skill_dict[0][3]])\n",
    "print(skill_2_index_mapping[skill_dict[0][4]])"
   ]
  },
  {
   "cell_type": "code",
   "execution_count": 534,
   "metadata": {},
   "outputs": [
    {
     "name": "stdout",
     "output_type": "stream",
     "text": [
      "0\n",
      "3000\n",
      "6000\n",
      "9000\n",
      "12000\n",
      "15000\n",
      "18000\n"
     ]
    }
   ],
   "source": [
    "skill_2_index_mapping, index_2_skill_mapping, skill_co_occurence_matrix = create_co_matrix(skill_base,skill_dict)"
   ]
  },
  {
   "cell_type": "code",
   "execution_count": 540,
   "metadata": {
    "collapsed": true
   },
   "outputs": [],
   "source": [
    "skill_co_occurence_matrix = skill_co_occurence_matrix.T + skill_co_occurence_matrix"
   ]
  },
  {
   "cell_type": "code",
   "execution_count": 731,
   "metadata": {
    "collapsed": true
   },
   "outputs": [],
   "source": [
    "with open(\"C:\\\\Users\\\\Swapnil\\\\Downloads\\\\05899\\\\Project\\\\JobSkillRecommendation\\\\skills\\\\skill_2_index_mapping_pickle.pkl\",'wb') as file:\n",
    "    pk.dump(skill_2_index_mapping,file,protocol=2)"
   ]
  },
  {
   "cell_type": "code",
   "execution_count": 732,
   "metadata": {
    "collapsed": true
   },
   "outputs": [],
   "source": [
    "with open(\"C:\\\\Users\\\\Swapnil\\\\Downloads\\\\05899\\\\Project\\\\JobSkillRecommendation\\\\skills\\\\index_2_skill_mapping_pickle.pkl\",'wb') as file:\n",
    "    pk.dump(index_2_skill_mapping,file,protocol=2)"
   ]
  },
  {
   "cell_type": "code",
   "execution_count": 733,
   "metadata": {
    "collapsed": true
   },
   "outputs": [],
   "source": [
    "with open(\"C:\\\\Users\\\\Swapnil\\\\Downloads\\\\05899\\\\Project\\\\JobSkillRecommendation\\\\skills\\\\skill_co_occurence_pickle.pkl\",'wb') as file:\n",
    "    pk.dump(skill_co_occurence_matrix,file,protocol=2)"
   ]
  },
  {
   "cell_type": "code",
   "execution_count": 536,
   "metadata": {},
   "outputs": [],
   "source": [
    "#print((skill_2_index_mapping['machine learning']))\n",
    "#print((index_2_skill_mapping[17937]))\n",
    "#print((skill_co_occurence_matrix[24,24])) #shape 18950\n",
    "#np.sum(skill_co_occurence_matrix[565])\n",
    "diags = []\n",
    "for i in range(skill_co_occurence_matrix.shape[0]):\n",
    "    diags.append(skill_co_occurence_matrix[i,i])\n",
    "\n",
    "for n,i in enumerate(diags):\n",
    "    if i!=0:\n",
    "        print(i,n)\n"
   ]
  },
  {
   "cell_type": "code",
   "execution_count": 610,
   "metadata": {},
   "outputs": [
    {
     "name": "stdout",
     "output_type": "stream",
     "text": [
      "14159\n",
      "2771\n"
     ]
    }
   ],
   "source": [
    "skill_dict[0]\n",
    "print(skill_2_index_mapping['computer science'])\n",
    "print(skill_2_index_mapping['finance'])"
   ]
  },
  {
   "cell_type": "code",
   "execution_count": 656,
   "metadata": {},
   "outputs": [
    {
     "name": "stdout",
     "output_type": "stream",
     "text": [
      "web development\n",
      "web design\n",
      "jquery\n",
      "javascript\n",
      "creative writing\n",
      "blogging\n"
     ]
    }
   ],
   "source": [
    "#print(skill_co_occurence_matrix[14159,0])\n",
    "#print(skill_co_occurence_matrix[16226,14159])\n",
    "np.argsort((skill_co_occurence_matrix[skill_2_index_mapping['finance']]))#[::-1][:2]\n",
    "#skill_co_occurence_matrix = skill_co_occurence_matrix.tocsr()\n",
    "x = skill_co_occurence_matrix[skill_2_index_mapping['poetry']]\n",
    "x.todense()\n",
    "type(x)\n",
    "x = x.toarray()\n",
    "y = (x[0].argsort()[::-1][:6])\n",
    "for i in y:\n",
    "    print(index_2_skill_mapping[i])"
   ]
  },
  {
   "cell_type": "code",
   "execution_count": 722,
   "metadata": {},
   "outputs": [
    {
     "data": {
      "text/plain": [
       "(18950, 18950)"
      ]
     },
     "execution_count": 722,
     "metadata": {},
     "output_type": "execute_result"
    }
   ],
   "source": [
    "#skill_co_occurence_matrix.shape\n",
    "#testSVD = csr_matrix(skill_co_occurence_matrix, dtype = float)\n",
    "#testSVD.shape"
   ]
  },
  {
   "cell_type": "code",
   "execution_count": 727,
   "metadata": {
    "collapsed": true
   },
   "outputs": [],
   "source": [
    "U,s,Vt = svds(testSVD,k=300)"
   ]
  },
  {
   "cell_type": "code",
   "execution_count": 730,
   "metadata": {},
   "outputs": [
    {
     "name": "stdout",
     "output_type": "stream",
     "text": [
      "(18950, 300)\n",
      "(300,)\n",
      "(300, 18950)\n"
     ]
    }
   ],
   "source": [
    "print(U.shape)\n",
    "print(s.shape)\n",
    "print(Vt.shape)\n",
    "with open(\"C:\\\\Users\\\\Swapnil\\\\Downloads\\\\05899\\\\Project\\\\JobSkillRecommendation\\\\skills\\\\SVD_U.pkl\",'wb') as file:\n",
    "    pk.dump(U,file,protocol=2)\n",
    "with open(\"C:\\\\Users\\\\Swapnil\\\\Downloads\\\\05899\\\\Project\\\\JobSkillRecommendation\\\\skills\\\\SVD_s.pkl\",'wb') as file:\n",
    "    pk.dump(s,file,protocol=2)\n",
    "with open(\"C:\\\\Users\\\\Swapnil\\\\Downloads\\\\05899\\\\Project\\\\JobSkillRecommendation\\\\skills\\\\SVD_Vt.pkl\",'wb') as file:\n",
    "    pk.dump(Vt,file,protocol=2)"
   ]
  },
  {
   "cell_type": "code",
   "execution_count": 518,
   "metadata": {},
   "outputs": [],
   "source": [
    "#Test\n",
    "mini_skill_dict = {}\n",
    "mini_skill_dict[0] = {'','WebD','html 5','SQL','Json','Java','HTML'}#{'HTML','Java','Json','SQL','WebD'}\n",
    "mini_skill_dict[1] = {'','36','SqL','Java'}\n",
    "mini_skill_dict[2] = {'JSON','Java','HtML'}\n",
    "mini_skill_dict[5] = {'HTML','Java'}\n",
    "mini_skill_dict[7] = {'HTML5'}\n"
   ]
  },
  {
   "cell_type": "code",
   "execution_count": 519,
   "metadata": {},
   "outputs": [
    {
     "name": "stdout",
     "output_type": "stream",
     "text": [
      "{0: {'', 'WebD', 'html 5', 'Json', 'HTML', 'Java', 'SQL'}, 1: {'', '36', 'Java', 'SqL'}, 2: {'HtML', 'Java', 'JSON'}, 5: {'HTML', 'Java'}, 7: {'HTML5'}}\n"
     ]
    }
   ],
   "source": [
    "#TEst\n",
    "print(mini_skill_dict)"
   ]
  },
  {
   "cell_type": "code",
   "execution_count": 520,
   "metadata": {},
   "outputs": [
    {
     "name": "stdout",
     "output_type": "stream",
     "text": [
      "0\n",
      "Copy Made!\n",
      "0\n",
      "Cleaning up!\n",
      "0\n",
      "['', 'json', 'webd', 'html', 'java', 'html5', 'sql']\n"
     ]
    },
    {
     "name": "stderr",
     "output_type": "stream",
     "text": [
      "C:\\Users\\Swapnil\\Anaconda3\\lib\\site-packages\\bs4\\__init__.py:181: UserWarning: No parser was explicitly specified, so I'm using the best available HTML parser for this system (\"lxml\"). This usually isn't a problem, but if you run this code on another system, or in a different virtual environment, it may use a different parser and behave differently.\n",
      "\n",
      "The code that caused this warning is on line 193 of the file C:\\Users\\Swapnil\\Anaconda3\\lib\\runpy.py. To get rid of this warning, change code that looks like this:\n",
      "\n",
      " BeautifulSoup([your markup])\n",
      "\n",
      "to this:\n",
      "\n",
      " BeautifulSoup([your markup], \"lxml\")\n",
      "\n",
      "  markup_type=markup_type))\n"
     ]
    }
   ],
   "source": [
    "#test\n",
    "list_skill,mini_skill_dict = create_skill_base(mini_skill_dict)\n",
    "print(list_skill)\n"
   ]
  },
  {
   "cell_type": "code",
   "execution_count": 675,
   "metadata": {},
   "outputs": [
    {
     "name": "stdout",
     "output_type": "stream",
     "text": [
      "0\n"
     ]
    }
   ],
   "source": [
    "#test\n",
    "mappings, inv_map,skill_csr = create_co_matrix(list_skill,mini_skill_dict)"
   ]
  },
  {
   "cell_type": "code",
   "execution_count": 711,
   "metadata": {},
   "outputs": [
    {
     "name": "stdout",
     "output_type": "stream",
     "text": [
      "[[ 0.  1.  2.  2.  0.  1.]\n",
      " [ 1.  0.  1.  1.  0.  1.]\n",
      " [ 2.  1.  0.  3.  0.  1.]\n",
      " [ 2.  1.  3.  0.  0.  2.]\n",
      " [ 0.  0.  0.  0.  0.  0.]\n",
      " [ 1.  1.  1.  2.  0.  0.]]\n"
     ]
    }
   ],
   "source": [
    "skill_csrt = csr_matrix((skill_csr+skill_csr.T),dtype = float)\n",
    "print(skill_csrt.todense())\n",
    "u,s,vt = svds(skill_csrt,k=3)"
   ]
  },
  {
   "cell_type": "code",
   "execution_count": 714,
   "metadata": {},
   "outputs": [
    {
     "name": "stdout",
     "output_type": "stream",
     "text": [
      "[[  8.01505000e-01  -4.51232794e-03   4.46270935e-01]\n",
      " [ -1.54043996e-01   5.10610644e-02   3.00065374e-01]\n",
      " [ -4.56605650e-01  -6.13245713e-01   5.12998359e-01]\n",
      " [ -2.83569310e-01   7.36012227e-01   5.53447534e-01]\n",
      " [ -5.55111512e-17  -1.94289029e-16   0.00000000e+00]\n",
      " [  2.12037517e-01  -2.82113635e-01   3.75940866e-01]]\n",
      "[[-0.801505    0.154044    0.45660565  0.28356931  0.         -0.21203752]\n",
      " [ 0.00451233 -0.05106106  0.61324571 -0.73601223  0.          0.28211363]\n",
      " [ 0.44627094  0.30006537  0.51299836  0.55344753  0.          0.37594087]]\n"
     ]
    },
    {
     "data": {
      "text/plain": [
       "array([[  1.13438442e-01,   1.06269789e+00,   2.08153597e+00,\n",
       "          1.96857210e+00,   0.00000000e+00,   7.50301503e-01],\n",
       "       [  1.06269789e+00,   5.16243308e-01,   9.44543231e-01,\n",
       "          8.47151736e-01,   0.00000000e+00,   8.14214772e-01],\n",
       "       [  2.08153597e+00,   9.44543231e-01,   7.95873905e-02,\n",
       "          3.00568886e+00,   0.00000000e+00,   8.30496842e-01],\n",
       "       [  1.96857210e+00,   8.47151736e-01,   3.00568886e+00,\n",
       "          4.68188631e-02,   0.00000000e+00,   2.08261849e+00],\n",
       "       [  7.61432472e-17,   1.66611454e-17,  -4.27333373e-16,\n",
       "          4.30962150e-16,   0.00000000e+00,  -1.55007280e-16],\n",
       "       [  7.50301503e-01,   8.14214772e-01,   8.30496842e-01,\n",
       "          2.08261849e+00,   0.00000000e+00,   5.54371062e-01]])"
      ]
     },
     "execution_count": 714,
     "metadata": {},
     "output_type": "execute_result"
    }
   ],
   "source": [
    "\n",
    "print(u)\n",
    "#print(s.shape)\n",
    "print(vt)\n",
    "#u * np.diag(s) * v\n",
    "np.dot(u,np.dot(np.diag(s),vt))"
   ]
  },
  {
   "cell_type": "code",
   "execution_count": 148,
   "metadata": {},
   "outputs": [
    {
     "name": "stdout",
     "output_type": "stream",
     "text": [
      "19990\n",
      "{'Machine Learning', 'Python', 'Artificial Intelligence', 'Parallel Computing', 'Distributed Databases', 'Scala', 'LaTeX', 'C', 'Learn more about this skill', 'Hadoop', 'Linux', 'Distributed Systems', 'MapReduce', 'Algorithms', 'Scalability', 'Cassandra', 'MySQL', 'Theory of Computation', 'Computer Science', 'Java', 'Haskell', 'Software Engineering', 'Git', 'Algorithm Design', 'C++', 'Ruby'}\n",
      "{'Backbone.js', 'Start-ups', 'Web Applications', 'Web Development', 'SQL', 'Cloud Computing', 'GoLang', 'MongoDB', 'Learn more about this skill', 'SaaS', 'Software Development', 'User Experience', 'Management', 'Cassandra', 'JavaScript', 'MySQL', 'User Interface Design', 'Mobile Applications', 'Application Development', 'Photoshop', 'Team Building', 'Git', 'ColdFusion', 'Amazon Web Services (AWS)', 'CSS', 'Business Development'}\n",
      "['Machine Learning', 'Backbone.js', 'Python', 'Artificial Intelligence', 'Start-ups', 'Web Applications', 'Web Development', 'SQL', 'Cloud Computing', 'Parallel Computing', 'Distributed Databases', 'GoLang', 'Scala', 'LaTeX', 'C', 'MongoDB', 'Learn more about this skill', 'Hadoop', 'Linux', 'SaaS', 'Distributed Systems', 'MapReduce', 'Software Development', 'User Experience', 'Management', 'Algorithms', 'Scalability', 'Cassandra', 'MySQL', 'JavaScript', 'Theory of Computation', 'User Interface Design', 'Mobile Applications', 'Application Development', 'Computer Science', 'Photoshop', 'Java', 'Haskell', 'Software Engineering', 'Team Building', 'Git', 'ColdFusion', 'Amazon Web Services (AWS)', 'Algorithm Design', 'C++', 'CSS', 'Ruby', 'Business Development']\n"
     ]
    }
   ],
   "source": [
    "print(len(skill_dict))\n",
    "print(skill_dict[0])\n",
    "print((skill_dict[1]))\n",
    "print(list((skill_dict[0])|(skill_dict[1])))\n",
    "#for i in rangeskill_dict:\n",
    "    \n",
    "\n",
    "#skill_base = create_skill_base(skill_dict)\n",
    "#co_matrix = create_co_matrix(skill_base,skill_dict)"
   ]
  },
  {
   "cell_type": "code",
   "execution_count": null,
   "metadata": {
    "collapsed": true
   },
   "outputs": [],
   "source": []
  }
 ],
 "metadata": {
  "kernelspec": {
   "display_name": "Python 3",
   "language": "python",
   "name": "python3"
  },
  "language_info": {
   "codemirror_mode": {
    "name": "ipython",
    "version": 3
   },
   "file_extension": ".py",
   "mimetype": "text/x-python",
   "name": "python",
   "nbconvert_exporter": "python",
   "pygments_lexer": "ipython3",
   "version": "3.6.0"
  }
 },
 "nbformat": 4,
 "nbformat_minor": 2
}
