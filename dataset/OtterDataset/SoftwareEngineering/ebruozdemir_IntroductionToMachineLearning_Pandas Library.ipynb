{
 "cells": [
  {
   "cell_type": "code",
   "execution_count": 1,
   "id": "a4b8e56a",
   "metadata": {},
   "outputs": [],
   "source": [
    "#import pandas library\n",
    "import pandas as pd"
   ]
  },
  {
   "cell_type": "code",
   "execution_count": 2,
   "id": "9657ee47",
   "metadata": {},
   "outputs": [
    {
     "name": "stdout",
     "output_type": "stream",
     "text": [
      "            course_name lecturer_name  std_number\n",
      "0      machine learning   Burak Cetin         199\n",
      "1   signals and systems   Ahmet Bulut         207\n",
      "2  software engineering     Berk Saat         135\n",
      "3      computer network     Metin Pas         418\n"
     ]
    }
   ],
   "source": [
    "#Creating Data Frame\n",
    "dictionary= {\"course_name\":[\"machine learning\",\"signals and systems\",\"software engineering\",\"computer network\"],\n",
    "             \"lecturer_name\":[\"Burak Cetin\",\"Ahmet Bulut\",\"Berk Saat\",\"Metin Pas\"],\n",
    "             \"std_number\":[199,207,135,418]}\n",
    "dataframe1=pd.DataFrame(dictionary)\n",
    "print(dataframe1)"
   ]
  },
  {
   "cell_type": "code",
   "execution_count": 3,
   "id": "b575eff1",
   "metadata": {},
   "outputs": [
    {
     "name": "stdout",
     "output_type": "stream",
     "text": [
      "            course_name lecturer_name  std_number\n",
      "0      machine learning   Burak Cetin         199\n",
      "1   signals and systems   Ahmet Bulut         207\n",
      "2  software engineering     Berk Saat         135\n",
      "3      computer network     Metin Pas         418\n"
     ]
    }
   ],
   "source": [
    "# head function returns the first n row\n",
    "head1= dataframe1.head()\n",
    "print(head1)"
   ]
  },
  {
   "cell_type": "code",
   "execution_count": 4,
   "id": "ced8458f",
   "metadata": {},
   "outputs": [
    {
     "name": "stdout",
     "output_type": "stream",
     "text": [
      "           course_name lecturer_name  std_number\n",
      "0     machine learning   Burak Cetin         199\n",
      "1  signals and systems   Ahmet Bulut         207\n"
     ]
    }
   ],
   "source": [
    "head2=dataframe1.head(2)   #first two rows\n",
    "print(head2)"
   ]
  },
  {
   "cell_type": "code",
   "execution_count": 5,
   "id": "b93f85d8",
   "metadata": {},
   "outputs": [
    {
     "name": "stdout",
     "output_type": "stream",
     "text": [
      "            course_name lecturer_name  std_number\n",
      "0      machine learning   Burak Cetin         199\n",
      "1   signals and systems   Ahmet Bulut         207\n",
      "2  software engineering     Berk Saat         135\n",
      "3      computer network     Metin Pas         418\n"
     ]
    }
   ],
   "source": [
    "#tail function returns the last n row\n",
    "tail1=dataframe1.tail()\n",
    "print(tail1)"
   ]
  },
  {
   "cell_type": "code",
   "execution_count": 6,
   "id": "99b47f86",
   "metadata": {},
   "outputs": [
    {
     "name": "stdout",
     "output_type": "stream",
     "text": [
      "            course_name lecturer_name  std_number\n",
      "2  software engineering     Berk Saat         135\n",
      "3      computer network     Metin Pas         418\n"
     ]
    }
   ],
   "source": [
    "tail2=dataframe1.tail(2)     #last two rows\n",
    "print(tail2)"
   ]
  },
  {
   "cell_type": "markdown",
   "id": "56790924",
   "metadata": {},
   "source": [
    "# Basic Features"
   ]
  },
  {
   "cell_type": "code",
   "execution_count": 7,
   "id": "6c3dccac",
   "metadata": {},
   "outputs": [
    {
     "name": "stdout",
     "output_type": "stream",
     "text": [
      "Index(['course_name', 'lecturer_name', 'std_number'], dtype='object')\n"
     ]
    }
   ],
   "source": [
    "print(dataframe1.columns)    #gives columns names of dataframe"
   ]
  },
  {
   "cell_type": "code",
   "execution_count": 8,
   "id": "855a8806",
   "metadata": {},
   "outputs": [
    {
     "name": "stdout",
     "output_type": "stream",
     "text": [
      "course_name      object\n",
      "lecturer_name    object\n",
      "std_number        int64\n",
      "dtype: object\n"
     ]
    }
   ],
   "source": [
    "print(dataframe1.dtypes)     #gives types of columns "
   ]
  },
  {
   "cell_type": "code",
   "execution_count": 9,
   "id": "6bc46da9",
   "metadata": {},
   "outputs": [
    {
     "name": "stdout",
     "output_type": "stream",
     "text": [
      "<class 'pandas.core.frame.DataFrame'>\n",
      "RangeIndex: 4 entries, 0 to 3\n",
      "Data columns (total 3 columns):\n",
      " #   Column         Non-Null Count  Dtype \n",
      "---  ------         --------------  ----- \n",
      " 0   course_name    4 non-null      object\n",
      " 1   lecturer_name  4 non-null      object\n",
      " 2   std_number     4 non-null      int64 \n",
      "dtypes: int64(1), object(2)\n",
      "memory usage: 224.0+ bytes\n",
      "None\n"
     ]
    }
   ],
   "source": [
    "print(dataframe1.info())      #gives information about dataframe"
   ]
  },
  {
   "cell_type": "code",
   "execution_count": 10,
   "id": "e58126d0",
   "metadata": {},
   "outputs": [
    {
     "name": "stdout",
     "output_type": "stream",
     "text": [
      "       std_number\n",
      "count     4.00000\n",
      "mean    239.75000\n",
      "std     123.12426\n",
      "min     135.00000\n",
      "25%     183.00000\n",
      "50%     203.00000\n",
      "75%     259.75000\n",
      "max     418.00000\n"
     ]
    }
   ],
   "source": [
    "print(dataframe1.describe())        #only valid for integer number , max,min,median"
   ]
  },
  {
   "cell_type": "code",
   "execution_count": 11,
   "id": "2f98b371",
   "metadata": {},
   "outputs": [
    {
     "name": "stdout",
     "output_type": "stream",
     "text": [
      "0    Burak Cetin\n",
      "1    Ahmet Bulut\n",
      "2      Berk Saat\n",
      "3      Metin Pas\n",
      "Name: lecturer_name, dtype: object\n"
     ]
    }
   ],
   "source": [
    "print(dataframe1[\"lecturer_name\"])   #returns lecturer_names column , column's name and its type"
   ]
  },
  {
   "cell_type": "code",
   "execution_count": 12,
   "id": "e1dc4ddc",
   "metadata": {},
   "outputs": [
    {
     "name": "stdout",
     "output_type": "stream",
     "text": [
      "0    199\n",
      "1    207\n",
      "2    135\n",
      "3    418\n",
      "Name: std_number, dtype: int64\n"
     ]
    }
   ],
   "source": [
    "print(dataframe1.loc[:,\"std_number\"])   #returns std_number column , column's name and its type"
   ]
  },
  {
   "cell_type": "code",
   "execution_count": 13,
   "id": "0426b0f2",
   "metadata": {},
   "outputs": [
    {
     "name": "stdout",
     "output_type": "stream",
     "text": [
      "0    199\n",
      "1    207\n",
      "2    135\n",
      "3    418\n",
      "Name: std_number, dtype: int64\n"
     ]
    }
   ],
   "source": [
    "print(dataframe1.loc[:3,\"std_number\"])    "
   ]
  },
  {
   "cell_type": "code",
   "execution_count": 14,
   "id": "b14e7036",
   "metadata": {},
   "outputs": [
    {
     "name": "stdout",
     "output_type": "stream",
     "text": [
      "            course_name lecturer_name  std_number\n",
      "0      machine learning   Burak Cetin         199\n",
      "1   signals and systems   Ahmet Bulut         207\n",
      "2  software engineering     Berk Saat         135\n"
     ]
    }
   ],
   "source": [
    "print(dataframe1.loc[:2,\"course_name\":\"std_number\"])  #Returns the part of the first two rows from course_name to std_number."
   ]
  },
  {
   "cell_type": "code",
   "execution_count": 15,
   "id": "9de18108",
   "metadata": {},
   "outputs": [
    {
     "name": "stdout",
     "output_type": "stream",
     "text": [
      "            course_name lecturer_name  std_number\n",
      "3      computer network     Metin Pas         418\n",
      "2  software engineering     Berk Saat         135\n",
      "1   signals and systems   Ahmet Bulut         207\n",
      "0      machine learning   Burak Cetin         199\n"
     ]
    }
   ],
   "source": [
    "print(dataframe1.loc[::-1])                          #Reverse of data frame"
   ]
  },
  {
   "cell_type": "code",
   "execution_count": 16,
   "id": "e21192ed",
   "metadata": {},
   "outputs": [
    {
     "name": "stdout",
     "output_type": "stream",
     "text": [
      "  lecturer_name\n",
      "0   Burak Cetin\n",
      "1   Ahmet Bulut\n",
      "2     Berk Saat\n",
      "3     Metin Pas\n"
     ]
    }
   ],
   "source": [
    "print(dataframe1.iloc[:,[1]])                      #Returns first column of index "
   ]
  },
  {
   "cell_type": "markdown",
   "id": "47f852c1",
   "metadata": {},
   "source": [
    "# Filter Process"
   ]
  },
  {
   "cell_type": "code",
   "execution_count": 20,
   "id": "2b6e435d",
   "metadata": {},
   "outputs": [
    {
     "name": "stdout",
     "output_type": "stream",
     "text": [
      "   std_number   bool\n",
      "0         199  False\n",
      "1         207   True\n",
      "2         135  False\n",
      "3         418   True\n"
     ]
    }
   ],
   "source": [
    "filt= dataframe1.std_number>200                      #If std_num greater than 200->true else false\n",
    "dataframe1[\"bool\"]= filt\n",
    "print(dataframe1.loc[:,[\"std_number\",\"bool\"]])"
   ]
  },
  {
   "cell_type": "code",
   "execution_count": 21,
   "id": "baff908f",
   "metadata": {},
   "outputs": [
    {
     "name": "stdout",
     "output_type": "stream",
     "text": [
      "           course_name lecturer_name  std_number  bool\n",
      "1  signals and systems   Ahmet Bulut         207  True\n",
      "3     computer network     Metin Pas         418  True\n"
     ]
    }
   ],
   "source": [
    "filter_data= dataframe1[filt]\n",
    "print(filter_data)"
   ]
  },
  {
   "cell_type": "code",
   "execution_count": 23,
   "id": "a7360d0c",
   "metadata": {},
   "outputs": [
    {
     "name": "stdout",
     "output_type": "stream",
     "text": [
      "           course_name lecturer_name  std_number  bool\n",
      "1  signals and systems   Ahmet Bulut         207  True\n"
     ]
    }
   ],
   "source": [
    "filt2=dataframe1.std_number<400\n",
    "filtered_data=dataframe1[filt&filt2]\n",
    "print(filtered_data)"
   ]
  },
  {
   "cell_type": "code",
   "execution_count": 24,
   "id": "ddd07dae",
   "metadata": {},
   "outputs": [
    {
     "data": {
      "text/plain": [
       "pandas.core.series.Series"
      ]
     },
     "execution_count": 24,
     "metadata": {},
     "output_type": "execute_result"
    }
   ],
   "source": [
    "type(filt)                         #In pandas library, we can say \"series\""
   ]
  },
  {
   "cell_type": "code",
   "execution_count": 25,
   "id": "edefd52c",
   "metadata": {},
   "outputs": [
    {
     "name": "stdout",
     "output_type": "stream",
     "text": [
      "239.75\n",
      "239.75\n"
     ]
    }
   ],
   "source": [
    "#Find average with Pandas\n",
    "avg_pandas=dataframe1.std_number.mean()\n",
    "print(avg_pandas)\n",
    "\n",
    "import numpy as np\n",
    "#Find average with Numpy \n",
    "avg_numpy=np.mean(dataframe1.std_number)\n",
    "print(avg_numpy)"
   ]
  },
  {
   "cell_type": "code",
   "execution_count": 26,
   "id": "b56b254f",
   "metadata": {},
   "outputs": [
    {
     "name": "stdout",
     "output_type": "stream",
     "text": [
      "    name  age  price\n",
      "0  Burak   40  200.0\n",
      "1  Ahmet   38  300.0\n",
      "2   Berk   32  245.0\n",
      "3  Metin   28  350.0\n",
      "4   Aslı   17    NaN\n",
      "5  Fatma   22  325.0\n",
      "6   Ebru   23  750.0\n",
      "7  Besim   18  900.0\n",
      "8  Pelin   37    NaN\n"
     ]
    }
   ],
   "source": [
    "dictionary= {\"name\":[\"Burak\",\"Ahmet\",\"Berk\",\"Metin\",\"Aslı\",\"Fatma\",\"Ebru\",\"Besim\",\"Pelin\"],\n",
    "             \"age\":[40,38,32,28,17,22,23,18,37],\n",
    "             \"price\":[200,300,245,350,None,325,750,900,None]}\n",
    "dataframe2=pd.DataFrame(dictionary)\n",
    "print(dataframe2)"
   ]
  },
  {
   "cell_type": "code",
   "execution_count": 27,
   "id": "2e1ccf44",
   "metadata": {},
   "outputs": [
    {
     "name": "stdout",
     "output_type": "stream",
     "text": [
      "    name  age  price\n",
      "0  Burak   40  200.0\n",
      "1  Ahmet   38  300.0\n",
      "2   Berk   32  245.0\n",
      "3  Metin   28  350.0\n",
      "5  Fatma   22  325.0\n",
      "6   Ebru   23  750.0\n",
      "7  Besim   18  900.0\n"
     ]
    }
   ],
   "source": [
    "dataframe2.dropna(inplace=True)         #Removes none index from data frame\n",
    "print(dataframe2)"
   ]
  },
  {
   "cell_type": "code",
   "execution_count": 28,
   "id": "c245caa3",
   "metadata": {},
   "outputs": [
    {
     "name": "stdout",
     "output_type": "stream",
     "text": [
      "438.57142857142856\n"
     ]
    },
    {
     "data": {
      "text/html": [
       "<div>\n",
       "<style scoped>\n",
       "    .dataframe tbody tr th:only-of-type {\n",
       "        vertical-align: middle;\n",
       "    }\n",
       "\n",
       "    .dataframe tbody tr th {\n",
       "        vertical-align: top;\n",
       "    }\n",
       "\n",
       "    .dataframe thead th {\n",
       "        text-align: right;\n",
       "    }\n",
       "</style>\n",
       "<table border=\"1\" class=\"dataframe\">\n",
       "  <thead>\n",
       "    <tr style=\"text-align: right;\">\n",
       "      <th></th>\n",
       "      <th>name</th>\n",
       "      <th>age</th>\n",
       "      <th>price</th>\n",
       "      <th>price_avg</th>\n",
       "    </tr>\n",
       "  </thead>\n",
       "  <tbody>\n",
       "    <tr>\n",
       "      <th>0</th>\n",
       "      <td>Burak</td>\n",
       "      <td>40</td>\n",
       "      <td>200.0</td>\n",
       "      <td>Below average</td>\n",
       "    </tr>\n",
       "    <tr>\n",
       "      <th>1</th>\n",
       "      <td>Ahmet</td>\n",
       "      <td>38</td>\n",
       "      <td>300.0</td>\n",
       "      <td>Below average</td>\n",
       "    </tr>\n",
       "    <tr>\n",
       "      <th>2</th>\n",
       "      <td>Berk</td>\n",
       "      <td>32</td>\n",
       "      <td>245.0</td>\n",
       "      <td>Below average</td>\n",
       "    </tr>\n",
       "    <tr>\n",
       "      <th>3</th>\n",
       "      <td>Metin</td>\n",
       "      <td>28</td>\n",
       "      <td>350.0</td>\n",
       "      <td>Below average</td>\n",
       "    </tr>\n",
       "    <tr>\n",
       "      <th>5</th>\n",
       "      <td>Fatma</td>\n",
       "      <td>22</td>\n",
       "      <td>325.0</td>\n",
       "      <td>Below average</td>\n",
       "    </tr>\n",
       "    <tr>\n",
       "      <th>6</th>\n",
       "      <td>Ebru</td>\n",
       "      <td>23</td>\n",
       "      <td>750.0</td>\n",
       "      <td>Upper average</td>\n",
       "    </tr>\n",
       "    <tr>\n",
       "      <th>7</th>\n",
       "      <td>Besim</td>\n",
       "      <td>18</td>\n",
       "      <td>900.0</td>\n",
       "      <td>Upper average</td>\n",
       "    </tr>\n",
       "  </tbody>\n",
       "</table>\n",
       "</div>"
      ],
      "text/plain": [
       "    name  age  price      price_avg\n",
       "0  Burak   40  200.0  Below average\n",
       "1  Ahmet   38  300.0  Below average\n",
       "2   Berk   32  245.0  Below average\n",
       "3  Metin   28  350.0  Below average\n",
       "5  Fatma   22  325.0  Below average\n",
       "6   Ebru   23  750.0  Upper average\n",
       "7  Besim   18  900.0  Upper average"
      ]
     },
     "execution_count": 28,
     "metadata": {},
     "output_type": "execute_result"
    }
   ],
   "source": [
    "#Creating new column \n",
    "print(dataframe2.price.mean())     #Returns avg of price\n",
    "dataframe2[\"price_avg\"]=[\"Below average\" if dataframe2.price.mean()> each else \"Upper average\" for each in dataframe2.price]\n",
    "dataframe2"
   ]
  },
  {
   "cell_type": "code",
   "execution_count": 30,
   "id": "9eed05c8",
   "metadata": {},
   "outputs": [
    {
     "data": {
      "text/html": [
       "<div>\n",
       "<style scoped>\n",
       "    .dataframe tbody tr th:only-of-type {\n",
       "        vertical-align: middle;\n",
       "    }\n",
       "\n",
       "    .dataframe tbody tr th {\n",
       "        vertical-align: top;\n",
       "    }\n",
       "\n",
       "    .dataframe thead th {\n",
       "        text-align: right;\n",
       "    }\n",
       "</style>\n",
       "<table border=\"1\" class=\"dataframe\">\n",
       "  <thead>\n",
       "    <tr style=\"text-align: right;\">\n",
       "      <th></th>\n",
       "      <th>name</th>\n",
       "      <th>age</th>\n",
       "      <th>price</th>\n",
       "      <th>price avg</th>\n",
       "      <th>new future</th>\n",
       "    </tr>\n",
       "  </thead>\n",
       "  <tbody>\n",
       "    <tr>\n",
       "      <th>0</th>\n",
       "      <td>Burak</td>\n",
       "      <td>40</td>\n",
       "      <td>200.0</td>\n",
       "      <td>Below average</td>\n",
       "      <td>1</td>\n",
       "    </tr>\n",
       "    <tr>\n",
       "      <th>1</th>\n",
       "      <td>Ahmet</td>\n",
       "      <td>38</td>\n",
       "      <td>300.0</td>\n",
       "      <td>Below average</td>\n",
       "      <td>2</td>\n",
       "    </tr>\n",
       "    <tr>\n",
       "      <th>2</th>\n",
       "      <td>Berk</td>\n",
       "      <td>32</td>\n",
       "      <td>245.0</td>\n",
       "      <td>Below average</td>\n",
       "      <td>3</td>\n",
       "    </tr>\n",
       "    <tr>\n",
       "      <th>3</th>\n",
       "      <td>Metin</td>\n",
       "      <td>28</td>\n",
       "      <td>350.0</td>\n",
       "      <td>Below average</td>\n",
       "      <td>4</td>\n",
       "    </tr>\n",
       "    <tr>\n",
       "      <th>5</th>\n",
       "      <td>Fatma</td>\n",
       "      <td>22</td>\n",
       "      <td>325.0</td>\n",
       "      <td>Below average</td>\n",
       "      <td>5</td>\n",
       "    </tr>\n",
       "    <tr>\n",
       "      <th>6</th>\n",
       "      <td>Ebru</td>\n",
       "      <td>23</td>\n",
       "      <td>750.0</td>\n",
       "      <td>Upper average</td>\n",
       "      <td>6</td>\n",
       "    </tr>\n",
       "    <tr>\n",
       "      <th>7</th>\n",
       "      <td>Besim</td>\n",
       "      <td>18</td>\n",
       "      <td>900.0</td>\n",
       "      <td>Upper average</td>\n",
       "      <td>7</td>\n",
       "    </tr>\n",
       "  </tbody>\n",
       "</table>\n",
       "</div>"
      ],
      "text/plain": [
       "    name  age  price      price avg  new future\n",
       "0  Burak   40  200.0  Below average           1\n",
       "1  Ahmet   38  300.0  Below average           2\n",
       "2   Berk   32  245.0  Below average           3\n",
       "3  Metin   28  350.0  Below average           4\n",
       "5  Fatma   22  325.0  Below average           5\n",
       "6   Ebru   23  750.0  Upper average           6\n",
       "7  Besim   18  900.0  Upper average           7"
      ]
     },
     "execution_count": 30,
     "metadata": {},
     "output_type": "execute_result"
    }
   ],
   "source": [
    "dataframe2[\"new_future\"]=[1,2,3,4,5,6,7]\n",
    "dataframe2.columns = [each.split('_')[0]+\" \"+each.split('_')[1] if len(each.split('_'))>1 else each for each in dataframe2.columns]\n",
    "dataframe2"
   ]
  },
  {
   "cell_type": "markdown",
   "id": "13b3bee1",
   "metadata": {},
   "source": [
    "# Concatenate Data"
   ]
  },
  {
   "cell_type": "code",
   "execution_count": 32,
   "id": "60bb4133",
   "metadata": {},
   "outputs": [
    {
     "data": {
      "text/html": [
       "<div>\n",
       "<style scoped>\n",
       "    .dataframe tbody tr th:only-of-type {\n",
       "        vertical-align: middle;\n",
       "    }\n",
       "\n",
       "    .dataframe tbody tr th {\n",
       "        vertical-align: top;\n",
       "    }\n",
       "\n",
       "    .dataframe thead th {\n",
       "        text-align: right;\n",
       "    }\n",
       "</style>\n",
       "<table border=\"1\" class=\"dataframe\">\n",
       "  <thead>\n",
       "    <tr style=\"text-align: right;\">\n",
       "      <th></th>\n",
       "      <th>name</th>\n",
       "      <th>age</th>\n",
       "      <th>price</th>\n",
       "      <th>price avg</th>\n",
       "      <th>new future</th>\n",
       "    </tr>\n",
       "  </thead>\n",
       "  <tbody>\n",
       "    <tr>\n",
       "      <th>0</th>\n",
       "      <td>Burak</td>\n",
       "      <td>40</td>\n",
       "      <td>200.0</td>\n",
       "      <td>Below average</td>\n",
       "      <td>1</td>\n",
       "    </tr>\n",
       "    <tr>\n",
       "      <th>1</th>\n",
       "      <td>Ahmet</td>\n",
       "      <td>38</td>\n",
       "      <td>300.0</td>\n",
       "      <td>Below average</td>\n",
       "      <td>2</td>\n",
       "    </tr>\n",
       "    <tr>\n",
       "      <th>2</th>\n",
       "      <td>Berk</td>\n",
       "      <td>32</td>\n",
       "      <td>245.0</td>\n",
       "      <td>Below average</td>\n",
       "      <td>3</td>\n",
       "    </tr>\n",
       "    <tr>\n",
       "      <th>3</th>\n",
       "      <td>Metin</td>\n",
       "      <td>28</td>\n",
       "      <td>350.0</td>\n",
       "      <td>Below average</td>\n",
       "      <td>4</td>\n",
       "    </tr>\n",
       "    <tr>\n",
       "      <th>5</th>\n",
       "      <td>Fatma</td>\n",
       "      <td>22</td>\n",
       "      <td>325.0</td>\n",
       "      <td>Below average</td>\n",
       "      <td>5</td>\n",
       "    </tr>\n",
       "    <tr>\n",
       "      <th>2</th>\n",
       "      <td>Berk</td>\n",
       "      <td>32</td>\n",
       "      <td>245.0</td>\n",
       "      <td>Below average</td>\n",
       "      <td>3</td>\n",
       "    </tr>\n",
       "    <tr>\n",
       "      <th>3</th>\n",
       "      <td>Metin</td>\n",
       "      <td>28</td>\n",
       "      <td>350.0</td>\n",
       "      <td>Below average</td>\n",
       "      <td>4</td>\n",
       "    </tr>\n",
       "    <tr>\n",
       "      <th>5</th>\n",
       "      <td>Fatma</td>\n",
       "      <td>22</td>\n",
       "      <td>325.0</td>\n",
       "      <td>Below average</td>\n",
       "      <td>5</td>\n",
       "    </tr>\n",
       "    <tr>\n",
       "      <th>6</th>\n",
       "      <td>Ebru</td>\n",
       "      <td>23</td>\n",
       "      <td>750.0</td>\n",
       "      <td>Upper average</td>\n",
       "      <td>6</td>\n",
       "    </tr>\n",
       "    <tr>\n",
       "      <th>7</th>\n",
       "      <td>Besim</td>\n",
       "      <td>18</td>\n",
       "      <td>900.0</td>\n",
       "      <td>Upper average</td>\n",
       "      <td>7</td>\n",
       "    </tr>\n",
       "  </tbody>\n",
       "</table>\n",
       "</div>"
      ],
      "text/plain": [
       "    name  age  price      price avg  new future\n",
       "0  Burak   40  200.0  Below average           1\n",
       "1  Ahmet   38  300.0  Below average           2\n",
       "2   Berk   32  245.0  Below average           3\n",
       "3  Metin   28  350.0  Below average           4\n",
       "5  Fatma   22  325.0  Below average           5\n",
       "2   Berk   32  245.0  Below average           3\n",
       "3  Metin   28  350.0  Below average           4\n",
       "5  Fatma   22  325.0  Below average           5\n",
       "6   Ebru   23  750.0  Upper average           6\n",
       "7  Besim   18  900.0  Upper average           7"
      ]
     },
     "execution_count": 32,
     "metadata": {},
     "output_type": "execute_result"
    }
   ],
   "source": [
    "dt= dataframe2.head()                                   #concatenated vertically\n",
    "dt2=dataframe2.tail()\n",
    "concatenated_data = pd.concat([dt,dt2],axis=0)\n",
    "concatenated_data"
   ]
  },
  {
   "cell_type": "code",
   "execution_count": 33,
   "id": "b8dbe6aa",
   "metadata": {},
   "outputs": [
    {
     "data": {
      "text/html": [
       "<div>\n",
       "<style scoped>\n",
       "    .dataframe tbody tr th:only-of-type {\n",
       "        vertical-align: middle;\n",
       "    }\n",
       "\n",
       "    .dataframe tbody tr th {\n",
       "        vertical-align: top;\n",
       "    }\n",
       "\n",
       "    .dataframe thead th {\n",
       "        text-align: right;\n",
       "    }\n",
       "</style>\n",
       "<table border=\"1\" class=\"dataframe\">\n",
       "  <thead>\n",
       "    <tr style=\"text-align: right;\">\n",
       "      <th></th>\n",
       "      <th>name</th>\n",
       "      <th>age</th>\n",
       "      <th>price</th>\n",
       "      <th>price avg</th>\n",
       "      <th>new future</th>\n",
       "      <th>name</th>\n",
       "      <th>age</th>\n",
       "      <th>price</th>\n",
       "      <th>price avg</th>\n",
       "      <th>new future</th>\n",
       "    </tr>\n",
       "  </thead>\n",
       "  <tbody>\n",
       "    <tr>\n",
       "      <th>0</th>\n",
       "      <td>Burak</td>\n",
       "      <td>40.0</td>\n",
       "      <td>200.0</td>\n",
       "      <td>Below average</td>\n",
       "      <td>1.0</td>\n",
       "      <td>NaN</td>\n",
       "      <td>NaN</td>\n",
       "      <td>NaN</td>\n",
       "      <td>NaN</td>\n",
       "      <td>NaN</td>\n",
       "    </tr>\n",
       "    <tr>\n",
       "      <th>1</th>\n",
       "      <td>Ahmet</td>\n",
       "      <td>38.0</td>\n",
       "      <td>300.0</td>\n",
       "      <td>Below average</td>\n",
       "      <td>2.0</td>\n",
       "      <td>NaN</td>\n",
       "      <td>NaN</td>\n",
       "      <td>NaN</td>\n",
       "      <td>NaN</td>\n",
       "      <td>NaN</td>\n",
       "    </tr>\n",
       "    <tr>\n",
       "      <th>2</th>\n",
       "      <td>Berk</td>\n",
       "      <td>32.0</td>\n",
       "      <td>245.0</td>\n",
       "      <td>Below average</td>\n",
       "      <td>3.0</td>\n",
       "      <td>Berk</td>\n",
       "      <td>32.0</td>\n",
       "      <td>245.0</td>\n",
       "      <td>Below average</td>\n",
       "      <td>3.0</td>\n",
       "    </tr>\n",
       "    <tr>\n",
       "      <th>3</th>\n",
       "      <td>Metin</td>\n",
       "      <td>28.0</td>\n",
       "      <td>350.0</td>\n",
       "      <td>Below average</td>\n",
       "      <td>4.0</td>\n",
       "      <td>Metin</td>\n",
       "      <td>28.0</td>\n",
       "      <td>350.0</td>\n",
       "      <td>Below average</td>\n",
       "      <td>4.0</td>\n",
       "    </tr>\n",
       "    <tr>\n",
       "      <th>5</th>\n",
       "      <td>Fatma</td>\n",
       "      <td>22.0</td>\n",
       "      <td>325.0</td>\n",
       "      <td>Below average</td>\n",
       "      <td>5.0</td>\n",
       "      <td>Fatma</td>\n",
       "      <td>22.0</td>\n",
       "      <td>325.0</td>\n",
       "      <td>Below average</td>\n",
       "      <td>5.0</td>\n",
       "    </tr>\n",
       "    <tr>\n",
       "      <th>6</th>\n",
       "      <td>NaN</td>\n",
       "      <td>NaN</td>\n",
       "      <td>NaN</td>\n",
       "      <td>NaN</td>\n",
       "      <td>NaN</td>\n",
       "      <td>Ebru</td>\n",
       "      <td>23.0</td>\n",
       "      <td>750.0</td>\n",
       "      <td>Upper average</td>\n",
       "      <td>6.0</td>\n",
       "    </tr>\n",
       "    <tr>\n",
       "      <th>7</th>\n",
       "      <td>NaN</td>\n",
       "      <td>NaN</td>\n",
       "      <td>NaN</td>\n",
       "      <td>NaN</td>\n",
       "      <td>NaN</td>\n",
       "      <td>Besim</td>\n",
       "      <td>18.0</td>\n",
       "      <td>900.0</td>\n",
       "      <td>Upper average</td>\n",
       "      <td>7.0</td>\n",
       "    </tr>\n",
       "  </tbody>\n",
       "</table>\n",
       "</div>"
      ],
      "text/plain": [
       "    name   age  price      price avg  new future   name   age  price  \\\n",
       "0  Burak  40.0  200.0  Below average         1.0    NaN   NaN    NaN   \n",
       "1  Ahmet  38.0  300.0  Below average         2.0    NaN   NaN    NaN   \n",
       "2   Berk  32.0  245.0  Below average         3.0   Berk  32.0  245.0   \n",
       "3  Metin  28.0  350.0  Below average         4.0  Metin  28.0  350.0   \n",
       "5  Fatma  22.0  325.0  Below average         5.0  Fatma  22.0  325.0   \n",
       "6    NaN   NaN    NaN            NaN         NaN   Ebru  23.0  750.0   \n",
       "7    NaN   NaN    NaN            NaN         NaN  Besim  18.0  900.0   \n",
       "\n",
       "       price avg  new future  \n",
       "0            NaN         NaN  \n",
       "1            NaN         NaN  \n",
       "2  Below average         3.0  \n",
       "3  Below average         4.0  \n",
       "5  Below average         5.0  \n",
       "6  Upper average         6.0  \n",
       "7  Upper average         7.0  "
      ]
     },
     "execution_count": 33,
     "metadata": {},
     "output_type": "execute_result"
    }
   ],
   "source": [
    "concatenated_data2 = pd.concat([dt,dt2],axis=1)     #Concetenated horizontally\n",
    "concatenated_data2"
   ]
  },
  {
   "cell_type": "markdown",
   "id": "a3e69a93",
   "metadata": {},
   "source": [
    "# Transform Data"
   ]
  },
  {
   "cell_type": "code",
   "execution_count": 35,
   "id": "2b16b347",
   "metadata": {},
   "outputs": [
    {
     "data": {
      "text/html": [
       "<div>\n",
       "<style scoped>\n",
       "    .dataframe tbody tr th:only-of-type {\n",
       "        vertical-align: middle;\n",
       "    }\n",
       "\n",
       "    .dataframe tbody tr th {\n",
       "        vertical-align: top;\n",
       "    }\n",
       "\n",
       "    .dataframe thead th {\n",
       "        text-align: right;\n",
       "    }\n",
       "</style>\n",
       "<table border=\"1\" class=\"dataframe\">\n",
       "  <thead>\n",
       "    <tr style=\"text-align: right;\">\n",
       "      <th></th>\n",
       "      <th>name</th>\n",
       "      <th>age</th>\n",
       "      <th>price</th>\n",
       "      <th>price avg</th>\n",
       "      <th>new future</th>\n",
       "      <th>big_age</th>\n",
       "    </tr>\n",
       "  </thead>\n",
       "  <tbody>\n",
       "    <tr>\n",
       "      <th>0</th>\n",
       "      <td>Burak</td>\n",
       "      <td>40</td>\n",
       "      <td>200.0</td>\n",
       "      <td>Below average</td>\n",
       "      <td>1</td>\n",
       "      <td>160</td>\n",
       "    </tr>\n",
       "    <tr>\n",
       "      <th>1</th>\n",
       "      <td>Ahmet</td>\n",
       "      <td>38</td>\n",
       "      <td>300.0</td>\n",
       "      <td>Below average</td>\n",
       "      <td>2</td>\n",
       "      <td>152</td>\n",
       "    </tr>\n",
       "    <tr>\n",
       "      <th>2</th>\n",
       "      <td>Berk</td>\n",
       "      <td>32</td>\n",
       "      <td>245.0</td>\n",
       "      <td>Below average</td>\n",
       "      <td>3</td>\n",
       "      <td>128</td>\n",
       "    </tr>\n",
       "    <tr>\n",
       "      <th>3</th>\n",
       "      <td>Metin</td>\n",
       "      <td>28</td>\n",
       "      <td>350.0</td>\n",
       "      <td>Below average</td>\n",
       "      <td>4</td>\n",
       "      <td>112</td>\n",
       "    </tr>\n",
       "    <tr>\n",
       "      <th>5</th>\n",
       "      <td>Fatma</td>\n",
       "      <td>22</td>\n",
       "      <td>325.0</td>\n",
       "      <td>Below average</td>\n",
       "      <td>5</td>\n",
       "      <td>88</td>\n",
       "    </tr>\n",
       "    <tr>\n",
       "      <th>6</th>\n",
       "      <td>Ebru</td>\n",
       "      <td>23</td>\n",
       "      <td>750.0</td>\n",
       "      <td>Upper average</td>\n",
       "      <td>6</td>\n",
       "      <td>92</td>\n",
       "    </tr>\n",
       "    <tr>\n",
       "      <th>7</th>\n",
       "      <td>Besim</td>\n",
       "      <td>18</td>\n",
       "      <td>900.0</td>\n",
       "      <td>Upper average</td>\n",
       "      <td>7</td>\n",
       "      <td>72</td>\n",
       "    </tr>\n",
       "  </tbody>\n",
       "</table>\n",
       "</div>"
      ],
      "text/plain": [
       "    name  age  price      price avg  new future  big_age\n",
       "0  Burak   40  200.0  Below average           1      160\n",
       "1  Ahmet   38  300.0  Below average           2      152\n",
       "2   Berk   32  245.0  Below average           3      128\n",
       "3  Metin   28  350.0  Below average           4      112\n",
       "5  Fatma   22  325.0  Below average           5       88\n",
       "6   Ebru   23  750.0  Upper average           6       92\n",
       "7  Besim   18  900.0  Upper average           7       72"
      ]
     },
     "execution_count": 35,
     "metadata": {},
     "output_type": "execute_result"
    }
   ],
   "source": [
    "dataframe2[\"big_age\"] = [each*4 for each in dataframe2.age]      #Multiply by 4 each age and added new column\n",
    "dataframe2 "
   ]
  },
  {
   "cell_type": "code",
   "execution_count": 36,
   "id": "f25028be",
   "metadata": {},
   "outputs": [
    {
     "data": {
      "text/html": [
       "<div>\n",
       "<style scoped>\n",
       "    .dataframe tbody tr th:only-of-type {\n",
       "        vertical-align: middle;\n",
       "    }\n",
       "\n",
       "    .dataframe tbody tr th {\n",
       "        vertical-align: top;\n",
       "    }\n",
       "\n",
       "    .dataframe thead th {\n",
       "        text-align: right;\n",
       "    }\n",
       "</style>\n",
       "<table border=\"1\" class=\"dataframe\">\n",
       "  <thead>\n",
       "    <tr style=\"text-align: right;\">\n",
       "      <th></th>\n",
       "      <th>name</th>\n",
       "      <th>age</th>\n",
       "      <th>price</th>\n",
       "      <th>price avg</th>\n",
       "      <th>new future</th>\n",
       "      <th>big_age</th>\n",
       "      <th>function</th>\n",
       "    </tr>\n",
       "  </thead>\n",
       "  <tbody>\n",
       "    <tr>\n",
       "      <th>0</th>\n",
       "      <td>Burak</td>\n",
       "      <td>40</td>\n",
       "      <td>200.0</td>\n",
       "      <td>Below average</td>\n",
       "      <td>1</td>\n",
       "      <td>160</td>\n",
       "      <td>160</td>\n",
       "    </tr>\n",
       "    <tr>\n",
       "      <th>1</th>\n",
       "      <td>Ahmet</td>\n",
       "      <td>38</td>\n",
       "      <td>300.0</td>\n",
       "      <td>Below average</td>\n",
       "      <td>2</td>\n",
       "      <td>152</td>\n",
       "      <td>152</td>\n",
       "    </tr>\n",
       "    <tr>\n",
       "      <th>2</th>\n",
       "      <td>Berk</td>\n",
       "      <td>32</td>\n",
       "      <td>245.0</td>\n",
       "      <td>Below average</td>\n",
       "      <td>3</td>\n",
       "      <td>128</td>\n",
       "      <td>128</td>\n",
       "    </tr>\n",
       "    <tr>\n",
       "      <th>3</th>\n",
       "      <td>Metin</td>\n",
       "      <td>28</td>\n",
       "      <td>350.0</td>\n",
       "      <td>Below average</td>\n",
       "      <td>4</td>\n",
       "      <td>112</td>\n",
       "      <td>112</td>\n",
       "    </tr>\n",
       "    <tr>\n",
       "      <th>5</th>\n",
       "      <td>Fatma</td>\n",
       "      <td>22</td>\n",
       "      <td>325.0</td>\n",
       "      <td>Below average</td>\n",
       "      <td>5</td>\n",
       "      <td>88</td>\n",
       "      <td>88</td>\n",
       "    </tr>\n",
       "    <tr>\n",
       "      <th>6</th>\n",
       "      <td>Ebru</td>\n",
       "      <td>23</td>\n",
       "      <td>750.0</td>\n",
       "      <td>Upper average</td>\n",
       "      <td>6</td>\n",
       "      <td>92</td>\n",
       "      <td>92</td>\n",
       "    </tr>\n",
       "    <tr>\n",
       "      <th>7</th>\n",
       "      <td>Besim</td>\n",
       "      <td>18</td>\n",
       "      <td>900.0</td>\n",
       "      <td>Upper average</td>\n",
       "      <td>7</td>\n",
       "      <td>72</td>\n",
       "      <td>72</td>\n",
       "    </tr>\n",
       "  </tbody>\n",
       "</table>\n",
       "</div>"
      ],
      "text/plain": [
       "    name  age  price      price avg  new future  big_age  function\n",
       "0  Burak   40  200.0  Below average           1      160       160\n",
       "1  Ahmet   38  300.0  Below average           2      152       152\n",
       "2   Berk   32  245.0  Below average           3      128       128\n",
       "3  Metin   28  350.0  Below average           4      112       112\n",
       "5  Fatma   22  325.0  Below average           5       88        88\n",
       "6   Ebru   23  750.0  Upper average           6       92        92\n",
       "7  Besim   18  900.0  Upper average           7       72        72"
      ]
     },
     "execution_count": 36,
     "metadata": {},
     "output_type": "execute_result"
    }
   ],
   "source": [
    "#Multiply by 4 each age with using function\n",
    "def multiply_age(ages):\n",
    "    return ages*4\n",
    "dataframe2[\"function\"]=dataframe2.age.apply(multiply_age)\n",
    "dataframe2"
   ]
  },
  {
   "cell_type": "markdown",
   "id": "91ea291c",
   "metadata": {},
   "source": [
    "# DataSet Process"
   ]
  },
  {
   "cell_type": "code",
   "execution_count": 38,
   "id": "5d048628",
   "metadata": {},
   "outputs": [
    {
     "data": {
      "text/html": [
       "<div>\n",
       "<style scoped>\n",
       "    .dataframe tbody tr th:only-of-type {\n",
       "        vertical-align: middle;\n",
       "    }\n",
       "\n",
       "    .dataframe tbody tr th {\n",
       "        vertical-align: top;\n",
       "    }\n",
       "\n",
       "    .dataframe thead th {\n",
       "        text-align: right;\n",
       "    }\n",
       "</style>\n",
       "<table border=\"1\" class=\"dataframe\">\n",
       "  <thead>\n",
       "    <tr style=\"text-align: right;\">\n",
       "      <th></th>\n",
       "      <th>Name</th>\n",
       "      <th>Platform</th>\n",
       "      <th>Year_of_Release</th>\n",
       "      <th>Genre</th>\n",
       "      <th>Publisher</th>\n",
       "      <th>NA_Sales</th>\n",
       "      <th>EU_Sales</th>\n",
       "      <th>JP_Sales</th>\n",
       "      <th>Other_Sales</th>\n",
       "      <th>Global_Sales</th>\n",
       "      <th>Critic_Score</th>\n",
       "      <th>Critic_Count</th>\n",
       "      <th>User_Score</th>\n",
       "      <th>User_Count</th>\n",
       "      <th>Developer</th>\n",
       "      <th>Rating</th>\n",
       "    </tr>\n",
       "  </thead>\n",
       "  <tbody>\n",
       "    <tr>\n",
       "      <th>0</th>\n",
       "      <td>Wii Sports</td>\n",
       "      <td>Wii</td>\n",
       "      <td>2006.0</td>\n",
       "      <td>Sports</td>\n",
       "      <td>Nintendo</td>\n",
       "      <td>41.36</td>\n",
       "      <td>28.96</td>\n",
       "      <td>3.77</td>\n",
       "      <td>8.45</td>\n",
       "      <td>82.53</td>\n",
       "      <td>76.0</td>\n",
       "      <td>51.0</td>\n",
       "      <td>8</td>\n",
       "      <td>322.0</td>\n",
       "      <td>Nintendo</td>\n",
       "      <td>E</td>\n",
       "    </tr>\n",
       "    <tr>\n",
       "      <th>1</th>\n",
       "      <td>Super Mario Bros.</td>\n",
       "      <td>NES</td>\n",
       "      <td>1985.0</td>\n",
       "      <td>Platform</td>\n",
       "      <td>Nintendo</td>\n",
       "      <td>29.08</td>\n",
       "      <td>3.58</td>\n",
       "      <td>6.81</td>\n",
       "      <td>0.77</td>\n",
       "      <td>40.24</td>\n",
       "      <td>NaN</td>\n",
       "      <td>NaN</td>\n",
       "      <td>NaN</td>\n",
       "      <td>NaN</td>\n",
       "      <td>NaN</td>\n",
       "      <td>NaN</td>\n",
       "    </tr>\n",
       "    <tr>\n",
       "      <th>2</th>\n",
       "      <td>Mario Kart Wii</td>\n",
       "      <td>Wii</td>\n",
       "      <td>2008.0</td>\n",
       "      <td>Racing</td>\n",
       "      <td>Nintendo</td>\n",
       "      <td>15.68</td>\n",
       "      <td>12.76</td>\n",
       "      <td>3.79</td>\n",
       "      <td>3.29</td>\n",
       "      <td>35.52</td>\n",
       "      <td>82.0</td>\n",
       "      <td>73.0</td>\n",
       "      <td>8.3</td>\n",
       "      <td>709.0</td>\n",
       "      <td>Nintendo</td>\n",
       "      <td>E</td>\n",
       "    </tr>\n",
       "    <tr>\n",
       "      <th>3</th>\n",
       "      <td>Wii Sports Resort</td>\n",
       "      <td>Wii</td>\n",
       "      <td>2009.0</td>\n",
       "      <td>Sports</td>\n",
       "      <td>Nintendo</td>\n",
       "      <td>15.61</td>\n",
       "      <td>10.93</td>\n",
       "      <td>3.28</td>\n",
       "      <td>2.95</td>\n",
       "      <td>32.77</td>\n",
       "      <td>80.0</td>\n",
       "      <td>73.0</td>\n",
       "      <td>8</td>\n",
       "      <td>192.0</td>\n",
       "      <td>Nintendo</td>\n",
       "      <td>E</td>\n",
       "    </tr>\n",
       "    <tr>\n",
       "      <th>4</th>\n",
       "      <td>Pokemon Red/Pokemon Blue</td>\n",
       "      <td>GB</td>\n",
       "      <td>1996.0</td>\n",
       "      <td>Role-Playing</td>\n",
       "      <td>Nintendo</td>\n",
       "      <td>11.27</td>\n",
       "      <td>8.89</td>\n",
       "      <td>10.22</td>\n",
       "      <td>1.00</td>\n",
       "      <td>31.37</td>\n",
       "      <td>NaN</td>\n",
       "      <td>NaN</td>\n",
       "      <td>NaN</td>\n",
       "      <td>NaN</td>\n",
       "      <td>NaN</td>\n",
       "      <td>NaN</td>\n",
       "    </tr>\n",
       "  </tbody>\n",
       "</table>\n",
       "</div>"
      ],
      "text/plain": [
       "                       Name Platform  Year_of_Release         Genre Publisher  \\\n",
       "0                Wii Sports      Wii           2006.0        Sports  Nintendo   \n",
       "1         Super Mario Bros.      NES           1985.0      Platform  Nintendo   \n",
       "2            Mario Kart Wii      Wii           2008.0        Racing  Nintendo   \n",
       "3         Wii Sports Resort      Wii           2009.0        Sports  Nintendo   \n",
       "4  Pokemon Red/Pokemon Blue       GB           1996.0  Role-Playing  Nintendo   \n",
       "\n",
       "   NA_Sales  EU_Sales  JP_Sales  Other_Sales  Global_Sales  Critic_Score  \\\n",
       "0     41.36     28.96      3.77         8.45         82.53          76.0   \n",
       "1     29.08      3.58      6.81         0.77         40.24           NaN   \n",
       "2     15.68     12.76      3.79         3.29         35.52          82.0   \n",
       "3     15.61     10.93      3.28         2.95         32.77          80.0   \n",
       "4     11.27      8.89     10.22         1.00         31.37           NaN   \n",
       "\n",
       "   Critic_Count User_Score  User_Count Developer Rating  \n",
       "0          51.0          8       322.0  Nintendo      E  \n",
       "1           NaN        NaN         NaN       NaN    NaN  \n",
       "2          73.0        8.3       709.0  Nintendo      E  \n",
       "3          73.0          8       192.0  Nintendo      E  \n",
       "4           NaN        NaN         NaN       NaN    NaN  "
      ]
     },
     "execution_count": 38,
     "metadata": {},
     "output_type": "execute_result"
    }
   ],
   "source": [
    "#We can add a dataset \n",
    "dataset1= pd.read_csv(\"Video_Games1.csv\")\n",
    "dataset1.head()"
   ]
  },
  {
   "cell_type": "code",
   "execution_count": 39,
   "id": "94dc1e04",
   "metadata": {},
   "outputs": [
    {
     "data": {
      "text/plain": [
       "Name                object\n",
       "Platform            object\n",
       "Year_of_Release    float64\n",
       "Genre               object\n",
       "Publisher           object\n",
       "NA_Sales           float64\n",
       "EU_Sales           float64\n",
       "JP_Sales           float64\n",
       "Other_Sales        float64\n",
       "Global_Sales       float64\n",
       "Critic_Score       float64\n",
       "Critic_Count       float64\n",
       "User_Score          object\n",
       "User_Count         float64\n",
       "Developer           object\n",
       "Rating              object\n",
       "dtype: object"
      ]
     },
     "execution_count": 39,
     "metadata": {},
     "output_type": "execute_result"
    }
   ],
   "source": [
    "dataset1.dtypes"
   ]
  },
  {
   "cell_type": "code",
   "execution_count": 40,
   "id": "1d4e3cd9",
   "metadata": {},
   "outputs": [
    {
     "data": {
      "text/plain": [
       "Action          3370\n",
       "Sports          2348\n",
       "Misc            1750\n",
       "Role-Playing    1500\n",
       "Shooter         1323\n",
       "Adventure       1303\n",
       "Racing          1249\n",
       "Platform         888\n",
       "Simulation       874\n",
       "Fighting         849\n",
       "Strategy         683\n",
       "Puzzle           580\n",
       "Name: Genre, dtype: int64"
      ]
     },
     "execution_count": 40,
     "metadata": {},
     "output_type": "execute_result"
    }
   ],
   "source": [
    "dataset1.Genre.value_counts()"
   ]
  }
 ],
 "metadata": {
  "kernelspec": {
   "display_name": "Python 3 (ipykernel)",
   "language": "python",
   "name": "python3"
  },
  "language_info": {
   "codemirror_mode": {
    "name": "ipython",
    "version": 3
   },
   "file_extension": ".py",
   "mimetype": "text/x-python",
   "name": "python",
   "nbconvert_exporter": "python",
   "pygments_lexer": "ipython3",
   "version": "3.9.13"
  }
 },
 "nbformat": 4,
 "nbformat_minor": 5
}
