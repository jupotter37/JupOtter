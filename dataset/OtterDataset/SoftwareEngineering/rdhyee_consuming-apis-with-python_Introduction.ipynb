{
 "metadata": {
  "name": "",
  "signature": "sha256:7c72e174e8f119f76e223870b6adb8a79e6cbe88456c7f7052c05f7e7a689cc5"
 },
 "nbformat": 3,
 "nbformat_minor": 0,
 "worksheets": [
  {
   "cells": [
    {
     "cell_type": "markdown",
     "metadata": {
      "slideshow": {
       "slide_type": "slide"
      }
     },
     "source": [
      "<center>\n",
      "\n",
      "<h2>[Consuming APIs with Python](http://www.apiconsf.com/apiconschedule#how-to-consume)</h2>\n",
      "\n",
      "<h3>APIConSF 2014.05.27</h3>\n",
      "\n",
      "<p class=\"gap05\"<p>\n",
      "<h3> Raymond Yee </h3>\n",
      "<h3>[@rdhyee](http://twitter.com/rdhyee), [blog.dataunbound.com](http://blog.dataunbound.com), </h3>\n",
      "<h3>raymond.yee@gmail.com</h3>\n",
      "<h3>unglue.it and U.C. Berkeley</h3>\n",
      "\n",
      "\n",
      "</center>"
     ]
    },
    {
     "cell_type": "code",
     "collapsed": false,
     "input": [
      "# I keep this as a cell in my title slide so I can rerun \n",
      "# it easily if I make changes, but it's low enough it won't\n",
      "# be visible in presentation mode.\n",
      "%run talktools"
     ],
     "language": "python",
     "metadata": {},
     "outputs": [
      {
       "html": [
        "\n",
        "<style>\n",
        "\n",
        ".rendered_html\n",
        "{\n",
        "  color: #2C5494;\n",
        "  font-family: Ubuntu;\n",
        "  font-size: 140%;\n",
        "  line-height: 1.1;\n",
        "  margin: 0.5em 0;\n",
        "  }\n",
        "\n",
        ".title\n",
        "{\n",
        "  color: #498AF3;\n",
        "  font-size: 250%;\n",
        "  font-weight:bold;\n",
        "  line-height: 1.2; \n",
        "  margin: 10px 50px 10px;\n",
        "  }\n",
        "\n",
        ".subtitle\n",
        "{\n",
        "  color: #386BBC;\n",
        "  font-size: 180%;\n",
        "  font-weight:bold;\n",
        "  line-height: 1.2; \n",
        "  margin: 20px 50px 20px;\n",
        "  }\n",
        "\n",
        ".slide-header, p.slide-header\n",
        "{\n",
        "  color: #498AF3;\n",
        "  font-size: 200%;\n",
        "  font-weight:bold;\n",
        "  margin: 0px 20px 10px;\n",
        "  page-break-before: always;\n",
        "  text-align: center;\n",
        "  }\n",
        "\n",
        ".rendered_html h1\n",
        "{\n",
        "  color: #498AF3;\n",
        "  line-height: 1.2; \n",
        "  margin: 0.15em 0em 0.5em;\n",
        "  page-break-before: always;\n",
        "  text-align: center;\n",
        "  }\n",
        "\n",
        "\n",
        ".rendered_html h2\n",
        "{ \n",
        "  color: #386BBC;\n",
        "  line-height: 1.2;\n",
        "  margin: 1.1em 0em 0.5em;\n",
        "  }\n",
        "\n",
        ".rendered_html h3\n",
        "{ \n",
        "  font-size: 100%;\n",
        "  line-height: 1.2;\n",
        "  margin: 1.1em 0em 0.5em;\n",
        "  }\n",
        "\n",
        ".rendered_html li\n",
        "{\n",
        "  line-height: 1.8;\n",
        "  }\n",
        "\n",
        ".input_prompt, .CodeMirror-lines, .output_area\n",
        "{\n",
        "  font-family: Consolas;\n",
        "  font-size: 120%;\n",
        "  }\n",
        "\n",
        ".gap-above\n",
        "{\n",
        "  padding-top: 200px;\n",
        "  }\n",
        "\n",
        ".gap01\n",
        "{\n",
        "  padding-top: 10px;\n",
        "  }\n",
        "\n",
        ".gap05\n",
        "{\n",
        "  padding-top: 50px;\n",
        "  }\n",
        "\n",
        ".gap1\n",
        "{\n",
        "  padding-top: 100px;\n",
        "  }\n",
        "\n",
        ".gap2\n",
        "{\n",
        "  padding-top: 200px;\n",
        "  }\n",
        "\n",
        ".gap3\n",
        "{\n",
        "  padding-top: 300px;\n",
        "  }\n",
        "\n",
        ".emph\n",
        "{\n",
        "  color: #386BBC;\n",
        "  }\n",
        "\n",
        ".warn\n",
        "{\n",
        "  color: red;\n",
        "  }\n",
        "\n",
        ".center\n",
        "{\n",
        "  text-align: center;\n",
        "  }\n",
        "\n",
        ".nb_link\n",
        "{\n",
        "    padding-bottom: 0.5em;\n",
        "}\n",
        "\n",
        "</style>\n",
        "\n"
       ],
       "metadata": {},
       "output_type": "display_data",
       "text": [
        "<IPython.core.display.HTML at 0x101c97350>"
       ]
      }
     ],
     "prompt_number": 2
    },
    {
     "cell_type": "markdown",
     "metadata": {
      "slideshow": {
       "slide_type": "slide"
      }
     },
     "source": [
      "# Abstract\n",
      "\n",
      "Excited about the incredibly array of APIs but don't know how to use them?  Although APIs serve many purposes, there are common approaches to consuming any APIs that you will learn in this workshop. We will survey the many types of available APIs and concentrate on a few important examples of APIs.  In this workshop, we will use Python, a commonly used and powerful language for working with APIs.   Even if you don't know Python, you'll still pick up any basic concepts that you can apply the next time you encounter another API to use."
     ]
    },
    {
     "cell_type": "markdown",
     "metadata": {
      "slideshow": {
       "slide_type": "slide"
      }
     },
     "source": [
      "Goal is to present an introduction on how to use APIs with a focus on using the  [Python programming language](https://www.python.org/).\n",
      "\n",
      "\n",
      "There are many APIs (over 11000 listed in [API Directory of ProgrammableWeb](http://www.programmableweb.com/apis/directory)) -- hence, it'd be impossible to cover how to consume all of them.\n",
      "\n"
     ]
    },
    {
     "cell_type": "markdown",
     "metadata": {
      "slideshow": {
       "slide_type": "slide"
      }
     },
     "source": [
      "# My Background\n",
      "\n",
      "![Pro Web 2.0 Mashups](http://www.apress.com/media/catalog/product/cache/9/image/9df78eab33525d08d6e5fb8d27136e95/A/9/A9781590598580-3d_10.png)\n",
      "\n",
      "\n",
      "[Pro Web 2.0 Mashups](http://mashupguide.net/1.0/html/)\n",
      "\n",
      "I have been on the faculty for the School of Information, UC Berkeley and I do software engineering for https://unglue.it. I'll be writing again for programmableweb.com very soon.  I'm very much interested in open data, open source, and teaching people about these subjects -- as well as creating tools for creative thinking.\n"
     ]
    },
    {
     "cell_type": "markdown",
     "metadata": {
      "slideshow": {
       "slide_type": "slide"
      }
     },
     "source": [
      "# Outline\n",
      "\n",
      " working through examples: \n",
      " \n",
      "   * [geocoder.us](#Geocoder.us)\n",
      "   * [BART API](bart.ipynb)\n",
      "   * API wrappers, toolkits:  [Evernote](Evernote.ipynb) and [Twitter](Twitter.ipynb)\n",
      "   * Q&A"
     ]
    },
    {
     "cell_type": "markdown",
     "metadata": {
      "slideshow": {
       "slide_type": "slide"
      }
     },
     "source": [
      "# What do you want to learn?\n",
      "\n",
      "Let's take some notes:\n",
      "\n",
      "https://etherpad.mozilla.org/apiswithpython"
     ]
    },
    {
     "cell_type": "markdown",
     "metadata": {
      "slideshow": {
       "slide_type": "slide"
      }
     },
     "source": [
      "# Technology Used Today\n",
      "\n",
      "* Python 2.7 (I recommend the [Anaconda Python distribution](http://continuum.io/downloads).)\n",
      "* [IPython Notebook](http://ipython.org/notebook.html)\n",
      "* [pandas: Python Data Analysis Library](http://pandas.pydata.org/)\n",
      "* Requests library: [Requests: HTTP for Humans \u2014 Requests 2.3.0 documentation](http://docs.python-requests.org/en/latest/)\n",
      "* [lxml - Processing XML and HTML with Python](http://lxml.de/)\n"
     ]
    },
    {
     "cell_type": "heading",
     "level": 1,
     "metadata": {
      "slideshow": {
       "slide_type": "slide"
      }
     },
     "source": [
      "Geocoder.us"
     ]
    },
    {
     "cell_type": "markdown",
     "metadata": {
      "slideshow": {
       "slide_type": "slide"
      }
     },
     "source": [
      "http://geocoder.us/\n",
      "\n",
      "* free for non-commercial use\n",
      "\n",
      "Look at the following URL in a web browser for comparison:\n",
      "\n",
      "http://rpc.geocoder.us/service/csv?address=1600+Pennsylvania+Ave,+Washington+DC\n",
      "\n",
      "See my writeup on  [Geocoding](http://mashupguide.net/1.0/html/ch13s06.xhtml#d0e21349) for more info."
     ]
    },
    {
     "cell_type": "code",
     "collapsed": false,
     "input": [
      "url = \"http://rpc.geocoder.us/service/csv?address=1600+Pennsylvania+Ave,+Washington+DC\""
     ],
     "language": "python",
     "metadata": {
      "slideshow": {
       "slide_type": "slide"
      }
     },
     "outputs": [],
     "prompt_number": 3
    },
    {
     "cell_type": "code",
     "collapsed": false,
     "input": [
      "# let's break out the address explicitly\n",
      "\n",
      "import urllib\n",
      "\n",
      "url = \"http://rpc.geocoder.us/service/csv?\" + \\\n",
      "        urllib.urlencode({\n",
      "           'address':'1600 Pennsylvania Ave, Washington DC'\n",
      "})\n",
      "    \n",
      "url"
     ],
     "language": "python",
     "metadata": {
      "slideshow": {
       "slide_type": "slide"
      }
     },
     "outputs": [
      {
       "metadata": {},
       "output_type": "pyout",
       "prompt_number": 4,
       "text": [
        "'http://rpc.geocoder.us/service/csv?address=1600+Pennsylvania+Ave%2C+Washington+DC'"
       ]
      }
     ],
     "prompt_number": 4
    },
    {
     "cell_type": "code",
     "collapsed": false,
     "input": [
      "import requests\n",
      "r = requests.get(url).content\n",
      "r.split(\",\")"
     ],
     "language": "python",
     "metadata": {
      "slideshow": {
       "slide_type": "slide"
      }
     },
     "outputs": [
      {
       "metadata": {},
       "output_type": "pyout",
       "prompt_number": 5,
       "text": [
        "['38.898748',\n",
        " '-77.037684',\n",
        " '1600 Pennsylvania Ave NW',\n",
        " 'Washington',\n",
        " 'DC',\n",
        " '20502\\n']"
       ]
      }
     ],
     "prompt_number": 5
    }
   ],
   "metadata": {}
  }
 ]
}