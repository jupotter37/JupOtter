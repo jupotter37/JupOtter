{
 "cells": [
  {
   "cell_type": "markdown",
   "metadata": {},
   "source": [
    "# Cybersecurity Datasets"
   ]
  },
  {
   "cell_type": "markdown",
   "metadata": {},
   "source": [
    "***Please submit a pull request to add or modify content.***"
   ]
  },
  {
   "cell_type": "markdown",
   "metadata": {},
   "source": [
    "## Los Alamos National Lab (LNN)\n",
    "- [Unified host and network data set](https://csr.lanl.gov/data/2017.html) Release: 2017\n",
    "- [Comprehensive, Multi-Source Cyber-Security Events](https://csr.lanl.gov/data/cyber1/) Release: 2015\n",
    "- [User-Computer Authentication Associations in Time](https://csr.lanl.gov/data/auth/) Relase: 2014"
   ]
  },
  {
   "cell_type": "markdown",
   "metadata": {},
   "source": [
    "## DARPA Intrustion Detection Evaluation\n",
    "- [Year 1998](https://ll.mit.edu/ideval/data/1998data.html)\n",
    "- [Year 1999](https://ll.mit.edu/ideval/data/1999data.html)\n",
    "- [Year 2000](https://ll.mit.edu/ideval/data/2000data.html)\n",
    "- [KDD Cup 1999 Data](http://kdd.ics.uci.edu/databases/kddcup99/kddcup99.html) (Subset of DARPA 1999 Release)*\n",
    "- [ISCX NSL-KDD Improved Dataset](http://www.unb.ca/cic/research/datasets/nsl.html) Release: 2009*\n",
    "\n",
    "> *These are the most commonly used datasets for IDS evaluation (still)"
   ]
  },
  {
   "cell_type": "markdown",
   "metadata": {},
   "source": [
    "## Canadian Institute for Cybersecurity\n",
    "- [ISCX IDS dataset](http://www.unb.ca/cic/research/datasets/ids.html) Release: 2012\n",
    "- [ISCX NSL-KDD Improved Dataset](http://www.unb.ca/cic/research/datasets/nsl.html) Release: 2009\n",
    "- [VPN-nonVPN dataset](http://www.unb.ca/cic/research/datasets/vpn.html) Release: 2016\n",
    "- [Botnet dataset](http://www.unb.ca/cic/research/datasets/botnet.html) Release: 2014\n",
    "- [Android validation dataset](http://www.unb.ca/cic/research/datasets/android-validation.html) Release: 2014\n",
    "- [Android Botnet dataset](http://www.unb.ca/cic/research/datasets/android-botnet.html) Release: 2015\n",
    "- [Tor-nonTor dataset](http://www.unb.ca/cic/research/datasets/tor.html) Release: 2017\n",
    "- [FlowMeter](http://www.unb.ca/cic/research/datasets/flowmeter.html) Release: 2016\n",
    "- [CIC DoS dataset](http://www.unb.ca/cic/research/datasets/dos-dataset.html) Release: 2017\n",
    "\n",
    "> To obtain these datasets, contact the Canadian Institute for Cybersecurity directly via email"
   ]
  },
  {
   "cell_type": "markdown",
   "metadata": {},
   "source": [
    "## Software Engineering Institute\n",
    "- [Synthetic Insider Threat Data](http://www.cert.org/insider-threat/tools/) Release: 2012"
   ]
  },
  {
   "cell_type": "markdown",
   "metadata": {},
   "source": [
    "## Center for Applied Internet Data Analysis (CAIDA)\n",
    "- https://www.caida.org/data/overview/"
   ]
  },
  {
   "cell_type": "markdown",
   "metadata": {
    "collapsed": true
   },
   "source": [
    "# Long list of other datasets: \n",
    "- http://www.secrepo.com\n",
    "- http://www.netresec.com/?page=PcapFiles\n"
   ]
  },
  {
   "cell_type": "code",
   "execution_count": null,
   "metadata": {
    "collapsed": true
   },
   "outputs": [],
   "source": []
  }
 ],
 "metadata": {
  "anaconda-cloud": {},
  "kernelspec": {
   "display_name": "Python [default]",
   "language": "python",
   "name": "python3"
  },
  "language_info": {
   "codemirror_mode": {
    "name": "ipython",
    "version": 3
   },
   "file_extension": ".py",
   "mimetype": "text/x-python",
   "name": "python",
   "nbconvert_exporter": "python",
   "pygments_lexer": "ipython3",
   "version": "3.5.4"
  },
  "toc": {
   "colors": {
    "hover_highlight": "#DAA520",
    "navigate_num": "#000000",
    "navigate_text": "#333333",
    "running_highlight": "#FF0000",
    "selected_highlight": "#FFD700",
    "sidebar_border": "#EEEEEE",
    "wrapper_background": "#FFFFFF"
   },
   "moveMenuLeft": true,
   "nav_menu": {
    "height": "101px",
    "width": "253px"
   },
   "navigate_menu": true,
   "number_sections": true,
   "sideBar": true,
   "threshold": 4,
   "toc_cell": false,
   "toc_section_display": "block",
   "toc_window_display": false,
   "widenNotebook": false
  }
 },
 "nbformat": 4,
 "nbformat_minor": 2
}
