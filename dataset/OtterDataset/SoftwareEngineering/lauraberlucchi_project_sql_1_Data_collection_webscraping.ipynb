{
  "cells": [
    {
      "cell_type": "markdown",
      "metadata": {
        "id": "TuwSdWZlgveP"
      },
      "source": [
        "# SQL Project\n",
        "You were hired by Ironhack to perform an Analytics Consulting Project entitled: competitive landscape.\n",
        "\n",
        "Your mission is to create and populate an appropriate database with many coding schools that are our competition, as well as design an suitable queries that answer business questions of interest (to be defined by you)\n"
      ]
    },
    {
      "cell_type": "markdown",
      "metadata": {
        "id": "hXDGm8_RgG-K"
      },
      "source": [
        "**Suggested Steps in the Project:**\n",
        "\n",
        "\n",
        "*   Read this notebook and understand each function. Comment the code appropriately\n",
        "\n",
        "*   Populate the list of schools with a wider variety of schools (how are you going to get the school ID?)\n",
        "\n",
        "* Take a look at the obtained dataframes. What dimensions do you have? what keys do you have? how could the different dataframes be connected?\n",
        "\n",
        "* Go back to the drawing board and try to create an entity relationship diagram for tables available\n",
        "\n",
        "* Once you have the schemas you want, you will need to:\n",
        "  - create the suitable SQL queries to create the tables and populate them\n",
        "  - run these queries using the appropriate Python connectors\n",
        "  \n",
        "* Bonus: How will this datamodel be updated in the future? Please write auxiliary functions that test the database for data quality issues. For example: how could you make sure you only include the most recent comments when you re-run the script?\n",
        "\n",
        "\n",
        "# Suggested Deliverables\n",
        "\n",
        "* 5-6 minute presentation of data model created, decision process and business analysis proposed\n",
        "\n",
        "* exported .sql file with the final schema\n",
        "\n",
        "* Supporting python files used to generate all logic\n",
        "\n",
        "* High level documentation explaining tables designed and focusing on update methods\n",
        "\n",
        "Crucial hint: check out the following tutorial:\n",
        "https://www.dataquest.io/blog/sql-insert-tutorial/\n"
      ]
    },
    {
      "cell_type": "code",
      "execution_count": 1,
      "metadata": {
        "id": "_AFkSNlsb9z0"
      },
      "outputs": [],
      "source": [
        "import pandas as pd\n",
        "from bs4 import BeautifulSoup\n",
        "import requests\n",
        "from pandas import json_normalize\n",
        "import re\n",
        "import numpy as np\n",
        "import time\n",
        "import multiprocessing\n",
        "import concurrent"
      ]
    },
    {
      "cell_type": "code",
      "execution_count": 2,
      "metadata": {
        "id": "adTfbpjw2roq"
      },
      "outputs": [],
      "source": [
        "# since we decided to focus our analysis of ironhack competitors on those who are listed in the top-12 schools offering data analytics courses,\n",
        "# we first add those schools to the schools list and modify the webscraping functions accordingly where necessary."
      ]
    },
    {
      "cell_type": "code",
      "execution_count": 3,
      "metadata": {
        "id": "0ypBHHSxoT90"
      },
      "outputs": [],
      "source": [
        "school_list = ['Springboard',\n",
        "             'Dataquest',\n",
        "             'Syntax Technologies',\n",
        "             'ironhack',\n",
        "             'tripleten',\n",
        "             'Colaberry',\n",
        "             'Maven Analytics',\n",
        "             'Udacity',\n",
        "             'BrainStation',\n",
        "             'CCS Learning Academy',\n",
        "             'Thinkful',\n",
        "             'General Assembly']"
      ]
    },
    {
      "cell_type": "code",
      "execution_count": 4,
      "metadata": {
        "id": "7p01DWgmoT90"
      },
      "outputs": [],
      "source": [
        "school_id_dict = {}"
      ]
    },
    {
      "cell_type": "code",
      "execution_count": 5,
      "metadata": {
        "colab": {
          "base_uri": "https://localhost:8080/"
        },
        "id": "JLnTdwveoT90",
        "outputId": "f8a4c974-9d42-43d9-8f7c-9e86667598d2"
      },
      "outputs": [
        {
          "name": "stdout",
          "output_type": "stream",
          "text": [
            "school ID for : Springboard/11035\n",
            "school ID for : Dataquest/10683\n",
            "school ID for : Syntax Technologies/11797\n",
            "school ID for : ironhack/10828\n",
            "school ID for : tripleten/11225\n",
            "school ID for : Colaberry/11718\n",
            "school ID for : Maven Analytics/11740\n",
            "school ID for : Udacity/11118\n",
            "school ID for : BrainStation/10571\n",
            "school ID for : CCS Learning Academy/11736\n",
            "school ID for : Thinkful/11098\n",
            "school ID for : General Assembly/10761\n",
            "School ID dictionary: {'springboard': 11035, 'dataquest': 10683, 'syntax-technologies': 11797, 'ironhack': 10828, 'tripleten': 11225, 'colaberry': 11718, 'maven-analytics': 11740, 'udacity': 11118, 'brainstation': 10571, 'ccs-learning-academy': 11736, 'thinkful': 11098, 'general-assembly': 10761}\n"
          ]
        }
      ],
      "source": [
        "for school_name in school_list:\n",
        "    url = f\"https://www.switchup.org/bootcamps/{school_name.lower().replace(' ', '-')}\"\n",
        "\n",
        "    headers = {'User-Agent': 'Mozilla/5.0 (Windows NT 10.0; Win64; x64) AppleWebKit/537.36 (KHTML, like Gecko) Chrome/111.0.0.0 Safari/537.36'}\n",
        "    response = requests.get(url, headers=headers)\n",
        "\n",
        "    if response.status_code == 200:\n",
        "        soup = BeautifulSoup(response.text, 'html.parser')\n",
        "        page_data_tag = soup.find('page-data')\n",
        "\n",
        "        if page_data_tag:\n",
        "            school_id = page_data_tag.get('school-id')\n",
        "            if school_id:\n",
        "                school_id_dict[school_name.lower().replace(' ','-')] = int(school_id)\n",
        "                print(f\"school ID for : {school_name}/{school_id}\")\n",
        "            else:\n",
        "                print(f\"School ID not found: {school_name}\")\n",
        "        else:\n",
        "            print(f\"Page data not found: {school_name}\")\n",
        "\n",
        "    else:\n",
        "        print(f\"Error: {response.status_code}\")\n",
        "\n",
        "print(\"School ID dictionary:\", school_id_dict)"
      ]
    },
    {
      "cell_type": "code",
      "execution_count": 6,
      "metadata": {
        "colab": {
          "base_uri": "https://localhost:8080/"
        },
        "id": "7ZZctc07oT91",
        "outputId": "f5d05dab-0e76-41fa-ed84-5c31102c9e7e"
      },
      "outputs": [
        {
          "data": {
            "text/plain": [
              "{'springboard': 11035,\n",
              " 'dataquest': 10683,\n",
              " 'syntax-technologies': 11797,\n",
              " 'ironhack': 10828,\n",
              " 'tripleten': 11225,\n",
              " 'colaberry': 11718,\n",
              " 'maven-analytics': 11740,\n",
              " 'udacity': 11118,\n",
              " 'brainstation': 10571,\n",
              " 'ccs-learning-academy': 11736,\n",
              " 'thinkful': 11098,\n",
              " 'general-assembly': 10761}"
            ]
          },
          "execution_count": 6,
          "metadata": {},
          "output_type": "execute_result"
        }
      ],
      "source": [
        "school_id_dict"
      ]
    },
    {
      "cell_type": "code",
      "execution_count": 7,
      "metadata": {
        "id": "nTceVqpu3Kv6"
      },
      "outputs": [],
      "source": [
        "# In the cells below, we use the get_comments_school function provided to scrape comments on all schools of interest."
      ]
    },
    {
      "cell_type": "code",
      "execution_count": 8,
      "metadata": {
        "id": "hWprKQIooT91"
      },
      "outputs": [],
      "source": [
        "def get_comments_school(school):\n",
        "    TAG_RE = re.compile(r'<[^>]+>')\n",
        "    # defines url to make api call to data -> dynamic with school if you want to scrape competition\n",
        "    url = \"https://www.switchup.org/chimera/v1/school-review-list?mainTemplate=school-review-list&path=%2Fbootcamps%2F\" + school + \"&isDataTarget=false&page=3&perPage=10000&simpleHtml=true&truncationLength=250\"\n",
        "    #makes get request and converts answer to json\n",
        "    # url defines the page of all the information, request is made, and information is returned to data variable\n",
        "    data = requests.get(url).json()\n",
        "    #converts json to dataframe\n",
        "    reviews =  pd.DataFrame(data['content']['reviews'])\n",
        "\n",
        "    #aux function to apply regex and remove tags\n",
        "    def remove_tags(x):\n",
        "        return TAG_RE.sub('',x)\n",
        "    reviews['review_body'] = reviews['body'].apply(remove_tags)\n",
        "    reviews['school'] = school\n",
        "    return reviews"
      ]
    },
    {
      "cell_type": "code",
      "execution_count": 9,
      "metadata": {
        "id": "CG4OdmXQ4ljL"
      },
      "outputs": [],
      "source": [
        "# By applying the function, we get all comments per schools and we collect them in the comments_list.\n",
        "# Then we concatenate all dataframes in the list to unify them."
      ]
    },
    {
      "cell_type": "code",
      "execution_count": 10,
      "metadata": {
        "id": "HxxRdilS3wKa"
      },
      "outputs": [],
      "source": [
        "comments_list = [get_comments_school(school) for school in school_id_dict.keys()]"
      ]
    },
    {
      "cell_type": "code",
      "execution_count": 11,
      "metadata": {
        "id": "Ou7dM3EE4FaL"
      },
      "outputs": [],
      "source": [
        "comments = pd.concat(comments_list)"
      ]
    },
    {
      "cell_type": "code",
      "execution_count": 12,
      "metadata": {
        "colab": {
          "base_uri": "https://localhost:8080/"
        },
        "id": "9yT5Z6n44NTZ",
        "outputId": "0cd4475c-763c-4651-dc10-5814a255fd61"
      },
      "outputs": [
        {
          "data": {
            "text/plain": [
              "(6991, 21)"
            ]
          },
          "execution_count": 12,
          "metadata": {},
          "output_type": "execute_result"
        }
      ],
      "source": [
        "comments.shape"
      ]
    },
    {
      "cell_type": "code",
      "execution_count": 13,
      "metadata": {
        "id": "_Wye-K3k49jb"
      },
      "outputs": [],
      "source": [
        "# Before working on the queries, we analyse what kind of columns and data we obtained by scraping and perfom some useful cleaning."
      ]
    },
    {
      "cell_type": "code",
      "execution_count": 14,
      "metadata": {
        "colab": {
          "base_uri": "https://localhost:8080/"
        },
        "id": "dFkyzxv9oT92",
        "outputId": "e952d3c0-9d93-4735-8707-1bc90b06f67c"
      },
      "outputs": [
        {
          "data": {
            "text/plain": [
              "id                    0\n",
              "name                  0\n",
              "anonymous             0\n",
              "hostProgramName    4024\n",
              "graduatingYear       57\n",
              "isAlumni              1\n",
              "jobTitle           2614\n",
              "tagline               0\n",
              "body                  0\n",
              "rawBody               0\n",
              "createdAt             0\n",
              "queryDate             0\n",
              "program             907\n",
              "user                  0\n",
              "overallScore          9\n",
              "comments              0\n",
              "overall               9\n",
              "curriculum          176\n",
              "jobSupport          791\n",
              "review_body           0\n",
              "school                0\n",
              "dtype: int64"
            ]
          },
          "execution_count": 14,
          "metadata": {},
          "output_type": "execute_result"
        }
      ],
      "source": [
        "comments.isna().sum()"
      ]
    },
    {
      "cell_type": "code",
      "execution_count": 15,
      "metadata": {
        "colab": {
          "base_uri": "https://localhost:8080/"
        },
        "id": "ThzMPabaoT92",
        "outputId": "214fe740-aeae-4829-cc84-e17df73ec83d"
      },
      "outputs": [
        {
          "data": {
            "text/plain": [
              "2018    1466\n",
              "2019    1106\n",
              "2020    1009\n",
              "2017     964\n",
              "2021     768\n",
              "2022     616\n",
              "2016     421\n",
              "2023     330\n",
              "2015     183\n",
              "2014      47\n",
              "2012      13\n",
              "2013      10\n",
              "2011       1\n",
              "Name: graduatingYear, dtype: Int64"
            ]
          },
          "execution_count": 15,
          "metadata": {},
          "output_type": "execute_result"
        }
      ],
      "source": [
        "# transforming years from float to integers\n",
        "comments['graduatingYear'] = comments['graduatingYear'].astype('Int64')\n",
        "comments.graduatingYear.value_counts()"
      ]
    },
    {
      "cell_type": "code",
      "execution_count": 16,
      "metadata": {
        "colab": {
          "base_uri": "https://localhost:8080/"
        },
        "id": "oivRiYQRoT93",
        "outputId": "a41e546c-5b93-4467-f037-b50764205f7d"
      },
      "outputs": [
        {
          "data": {
            "text/plain": [
              "Great Experience                                 30\n",
              "Great experience                                 23\n",
              "Amazing experience                               23\n",
              "Great experience!                                22\n",
              "Amazing                                          18\n",
              "                                                 ..\n",
              "Very happy with my choice                         1\n",
              "Awsome                                            1\n",
              "The best thing I've done for myself this year     1\n",
              "Tough but worth it                                1\n",
              "NULL                                              1\n",
              "Name: tagline, Length: 6313, dtype: int64"
            ]
          },
          "execution_count": 16,
          "metadata": {},
          "output_type": "execute_result"
        }
      ],
      "source": [
        "comments.tagline.value_counts()"
      ]
    },
    {
      "cell_type": "code",
      "execution_count": 17,
      "metadata": {
        "colab": {
          "base_uri": "https://localhost:8080/"
        },
        "id": "DkbklgdfoT93",
        "outputId": "bf4e82ef-d8d0-49e9-ab1d-a35369e40f0d"
      },
      "outputs": [
        {
          "name": "stdout",
          "output_type": "stream",
          "text": [
            "Great Experience                                 88\n",
            "Amazing Experience                               54\n",
            "Excellent                                        15\n",
            "Springboard Data Science Career Track            15\n",
            "Life changing                                    13\n",
            "                                                 ..\n",
            "Very happy with my choice                         1\n",
            "Awsome                                            1\n",
            "The best thing I've done for myself this year     1\n",
            "Tough but worth it                                1\n",
            "NULL                                              1\n",
            "Name: tagline, Length: 6308, dtype: int64\n"
          ]
        }
      ],
      "source": [
        "# uniforming tag values in tagline\n",
        "tagline_mapping = {\n",
        "    'Great Experience': ['Great Experience', 'Great experience', 'Great experience!', 'Great Experience', 'Great'],\n",
        "    'Amazing Experience': ['Amazing experience', 'Amazing']\n",
        "}\n",
        "\n",
        "comments['tagline'] = comments['tagline'].apply(lambda x: next((key for key, value in tagline_mapping.items() if x in value), x))\n",
        "\n",
        "# checking\n",
        "print(comments['tagline'].value_counts())"
      ]
    },
    {
      "cell_type": "code",
      "execution_count": 18,
      "metadata": {
        "id": "3uhKbU9YoT93"
      },
      "outputs": [],
      "source": [
        "# columns body and rawBody contain uncleaned data and is replaceable by the cleaned review_body column.\n",
        "# queryData contains the same info as createdAt.\n",
        "comments.drop(columns={'body', 'rawBody', 'queryDate'}, inplace=True)"
      ]
    },
    {
      "cell_type": "code",
      "execution_count": 19,
      "metadata": {
        "id": "N0-gKnT5oT93"
      },
      "outputs": [],
      "source": [
        "# column user is empty while column comments is a list of each comments for every review.\n",
        "# We choose to not keep it as we already have thousands of single comments\n",
        "comments.drop(columns={'user', 'comments'}, inplace=True)"
      ]
    },
    {
      "cell_type": "code",
      "execution_count": 20,
      "metadata": {
        "id": "fEgL11DW5WTX"
      },
      "outputs": [],
      "source": [
        "# In our SQL database we identify 'school_id' as the foreign key for all tables. So, we add the column in the comments dataframe."
      ]
    },
    {
      "cell_type": "code",
      "execution_count": 21,
      "metadata": {
        "id": "lGoMBJx6oT93"
      },
      "outputs": [],
      "source": [
        "comments['school_id'] = comments.school.map(school_id_dict)"
      ]
    },
    {
      "cell_type": "code",
      "execution_count": 55,
      "metadata": {},
      "outputs": [
        {
          "data": {
            "text/html": [
              "<div>\n",
              "<style scoped>\n",
              "    .dataframe tbody tr th:only-of-type {\n",
              "        vertical-align: middle;\n",
              "    }\n",
              "\n",
              "    .dataframe tbody tr th {\n",
              "        vertical-align: top;\n",
              "    }\n",
              "\n",
              "    .dataframe thead th {\n",
              "        text-align: right;\n",
              "    }\n",
              "</style>\n",
              "<table border=\"1\" class=\"dataframe\">\n",
              "  <thead>\n",
              "    <tr style=\"text-align: right;\">\n",
              "      <th></th>\n",
              "      <th>id</th>\n",
              "      <th>name</th>\n",
              "      <th>anonymous</th>\n",
              "      <th>hostProgramName</th>\n",
              "      <th>graduatingYear</th>\n",
              "      <th>isAlumni</th>\n",
              "      <th>jobTitle</th>\n",
              "      <th>tagline</th>\n",
              "      <th>createdAt</th>\n",
              "      <th>program</th>\n",
              "      <th>overallScore</th>\n",
              "      <th>overall</th>\n",
              "      <th>curriculum</th>\n",
              "      <th>jobSupport</th>\n",
              "      <th>review_body</th>\n",
              "      <th>school</th>\n",
              "      <th>school_id</th>\n",
              "    </tr>\n",
              "  </thead>\n",
              "  <tbody>\n",
              "    <tr>\n",
              "      <th>0</th>\n",
              "      <td>306683</td>\n",
              "      <td>Pichamon Alvarez</td>\n",
              "      <td>False</td>\n",
              "      <td>None</td>\n",
              "      <td>2023</td>\n",
              "      <td>False</td>\n",
              "      <td></td>\n",
              "      <td>Data Analytics Career Track</td>\n",
              "      <td>11/24/2023</td>\n",
              "      <td>Data Analytics Career Track</td>\n",
              "      <td>5.0</td>\n",
              "      <td>5.0</td>\n",
              "      <td>5.0</td>\n",
              "      <td>5.0</td>\n",
              "      <td>Springboard's Data Analytics Career Track not ...</td>\n",
              "      <td>springboard</td>\n",
              "      <td>11035</td>\n",
              "    </tr>\n",
              "    <tr>\n",
              "      <th>1</th>\n",
              "      <td>306667</td>\n",
              "      <td>Ethan Reynolds</td>\n",
              "      <td>False</td>\n",
              "      <td>None</td>\n",
              "      <td>2023</td>\n",
              "      <td>False</td>\n",
              "      <td></td>\n",
              "      <td>Excellent Experience with Springboard!</td>\n",
              "      <td>11/23/2023</td>\n",
              "      <td>Software Engineering Career Track</td>\n",
              "      <td>4.3</td>\n",
              "      <td>4.0</td>\n",
              "      <td>5.0</td>\n",
              "      <td>4.0</td>\n",
              "      <td>Overall I had a great experience going through...</td>\n",
              "      <td>springboard</td>\n",
              "      <td>11035</td>\n",
              "    </tr>\n",
              "    <tr>\n",
              "      <th>2</th>\n",
              "      <td>306638</td>\n",
              "      <td>Constance Sun</td>\n",
              "      <td>False</td>\n",
              "      <td>None</td>\n",
              "      <td>2023</td>\n",
              "      <td>False</td>\n",
              "      <td></td>\n",
              "      <td>Very accommodating. Take Springboard if you wa...</td>\n",
              "      <td>11/21/2023</td>\n",
              "      <td>UI/UX Design Career Track</td>\n",
              "      <td>3.7</td>\n",
              "      <td>4.0</td>\n",
              "      <td>4.0</td>\n",
              "      <td>3.0</td>\n",
              "      <td>When I was looking at which bootcamp to do for...</td>\n",
              "      <td>springboard</td>\n",
              "      <td>11035</td>\n",
              "    </tr>\n",
              "    <tr>\n",
              "      <th>3</th>\n",
              "      <td>306549</td>\n",
              "      <td>Daniel Dluzynski</td>\n",
              "      <td>False</td>\n",
              "      <td>None</td>\n",
              "      <td>2023</td>\n",
              "      <td>False</td>\n",
              "      <td></td>\n",
              "      <td>Extensive and well built curriculum</td>\n",
              "      <td>11/17/2023</td>\n",
              "      <td>Cyber Security Career Track</td>\n",
              "      <td>4.3</td>\n",
              "      <td>4.0</td>\n",
              "      <td>5.0</td>\n",
              "      <td>4.0</td>\n",
              "      <td>This course is great for beginners. The curric...</td>\n",
              "      <td>springboard</td>\n",
              "      <td>11035</td>\n",
              "    </tr>\n",
              "    <tr>\n",
              "      <th>4</th>\n",
              "      <td>306505</td>\n",
              "      <td>Jonathan Chiu</td>\n",
              "      <td>False</td>\n",
              "      <td>None</td>\n",
              "      <td>2023</td>\n",
              "      <td>False</td>\n",
              "      <td></td>\n",
              "      <td>Join if you're looking to structure &amp;amp; Netw...</td>\n",
              "      <td>11/15/2023</td>\n",
              "      <td>UI/UX Design Career Track</td>\n",
              "      <td>4.0</td>\n",
              "      <td>4.0</td>\n",
              "      <td>4.0</td>\n",
              "      <td>4.0</td>\n",
              "      <td>If you find yourself unsure of where to begin,...</td>\n",
              "      <td>springboard</td>\n",
              "      <td>11035</td>\n",
              "    </tr>\n",
              "    <tr>\n",
              "      <th>...</th>\n",
              "      <td>...</td>\n",
              "      <td>...</td>\n",
              "      <td>...</td>\n",
              "      <td>...</td>\n",
              "      <td>...</td>\n",
              "      <td>...</td>\n",
              "      <td>...</td>\n",
              "      <td>...</td>\n",
              "      <td>...</td>\n",
              "      <td>...</td>\n",
              "      <td>...</td>\n",
              "      <td>...</td>\n",
              "      <td>...</td>\n",
              "      <td>...</td>\n",
              "      <td>...</td>\n",
              "      <td>...</td>\n",
              "      <td>...</td>\n",
              "    </tr>\n",
              "    <tr>\n",
              "      <th>994</th>\n",
              "      <td>231691</td>\n",
              "      <td>Abby Howell</td>\n",
              "      <td>False</td>\n",
              "      <td>None</td>\n",
              "      <td>2013</td>\n",
              "      <td>True</td>\n",
              "      <td>Software Developer at Cengage Learning</td>\n",
              "      <td>From 2nd grade teacher to full-stack web devel...</td>\n",
              "      <td>6/29/2014</td>\n",
              "      <td>Software Engineering Immersive</td>\n",
              "      <td>5.0</td>\n",
              "      <td>5.0</td>\n",
              "      <td>5.0</td>\n",
              "      <td>5.0</td>\n",
              "      <td>My experience at General Assembly's Web Develo...</td>\n",
              "      <td>general-assembly</td>\n",
              "      <td>10761</td>\n",
              "    </tr>\n",
              "    <tr>\n",
              "      <th>995</th>\n",
              "      <td>231827</td>\n",
              "      <td>Anonymous</td>\n",
              "      <td>False</td>\n",
              "      <td>None</td>\n",
              "      <td>&lt;NA&gt;</td>\n",
              "      <td>False</td>\n",
              "      <td></td>\n",
              "      <td>What you get out of the program really depends...</td>\n",
              "      <td>6/15/2014</td>\n",
              "      <td></td>\n",
              "      <td>3.0</td>\n",
              "      <td>3.0</td>\n",
              "      <td>NaN</td>\n",
              "      <td>NaN</td>\n",
              "      <td>What you get out of the program really depends...</td>\n",
              "      <td>general-assembly</td>\n",
              "      <td>10761</td>\n",
              "    </tr>\n",
              "    <tr>\n",
              "      <th>996</th>\n",
              "      <td>231816</td>\n",
              "      <td>Thomas Berry</td>\n",
              "      <td>False</td>\n",
              "      <td>None</td>\n",
              "      <td>&lt;NA&gt;</td>\n",
              "      <td>False</td>\n",
              "      <td></td>\n",
              "      <td>The bitmaker program provides opportunities an...</td>\n",
              "      <td>6/15/2014</td>\n",
              "      <td></td>\n",
              "      <td>5.0</td>\n",
              "      <td>5.0</td>\n",
              "      <td>NaN</td>\n",
              "      <td>NaN</td>\n",
              "      <td>Personally I had a great experience at Bitmake...</td>\n",
              "      <td>general-assembly</td>\n",
              "      <td>10761</td>\n",
              "    </tr>\n",
              "    <tr>\n",
              "      <th>997</th>\n",
              "      <td>231836</td>\n",
              "      <td>Ryan Racioppo</td>\n",
              "      <td>False</td>\n",
              "      <td>None</td>\n",
              "      <td>&lt;NA&gt;</td>\n",
              "      <td>False</td>\n",
              "      <td></td>\n",
              "      <td>Bitmaker is the best way to motivate and accel...</td>\n",
              "      <td>6/15/2014</td>\n",
              "      <td></td>\n",
              "      <td>5.0</td>\n",
              "      <td>5.0</td>\n",
              "      <td>NaN</td>\n",
              "      <td>NaN</td>\n",
              "      <td>I was in the 3rd cohort and have had a success...</td>\n",
              "      <td>general-assembly</td>\n",
              "      <td>10761</td>\n",
              "    </tr>\n",
              "    <tr>\n",
              "      <th>998</th>\n",
              "      <td>231574</td>\n",
              "      <td>Vivien S.</td>\n",
              "      <td>False</td>\n",
              "      <td>Web Development</td>\n",
              "      <td>&lt;NA&gt;</td>\n",
              "      <td>None</td>\n",
              "      <td>None</td>\n",
              "      <td>NULL</td>\n",
              "      <td>12/19/2013</td>\n",
              "      <td>None</td>\n",
              "      <td>4.0</td>\n",
              "      <td>4.0</td>\n",
              "      <td>NaN</td>\n",
              "      <td>NaN</td>\n",
              "      <td>I'm surprised by the reviews below. My experie...</td>\n",
              "      <td>general-assembly</td>\n",
              "      <td>10761</td>\n",
              "    </tr>\n",
              "  </tbody>\n",
              "</table>\n",
              "<p>6991 rows × 17 columns</p>\n",
              "</div>"
            ],
            "text/plain": [
              "         id              name  anonymous  hostProgramName  graduatingYear  \\\n",
              "0    306683  Pichamon Alvarez      False             None            2023   \n",
              "1    306667    Ethan Reynolds      False             None            2023   \n",
              "2    306638     Constance Sun      False             None            2023   \n",
              "3    306549  Daniel Dluzynski      False             None            2023   \n",
              "4    306505     Jonathan Chiu      False             None            2023   \n",
              "..      ...               ...        ...              ...             ...   \n",
              "994  231691       Abby Howell      False             None            2013   \n",
              "995  231827         Anonymous      False             None            <NA>   \n",
              "996  231816      Thomas Berry      False             None            <NA>   \n",
              "997  231836     Ryan Racioppo      False             None            <NA>   \n",
              "998  231574         Vivien S.      False  Web Development            <NA>   \n",
              "\n",
              "    isAlumni                                jobTitle  \\\n",
              "0      False                                           \n",
              "1      False                                           \n",
              "2      False                                           \n",
              "3      False                                           \n",
              "4      False                                           \n",
              "..       ...                                     ...   \n",
              "994     True  Software Developer at Cengage Learning   \n",
              "995    False                                           \n",
              "996    False                                           \n",
              "997    False                                           \n",
              "998     None                                    None   \n",
              "\n",
              "                                               tagline   createdAt  \\\n",
              "0                          Data Analytics Career Track  11/24/2023   \n",
              "1               Excellent Experience with Springboard!  11/23/2023   \n",
              "2    Very accommodating. Take Springboard if you wa...  11/21/2023   \n",
              "3                  Extensive and well built curriculum  11/17/2023   \n",
              "4    Join if you're looking to structure &amp; Netw...  11/15/2023   \n",
              "..                                                 ...         ...   \n",
              "994  From 2nd grade teacher to full-stack web devel...   6/29/2014   \n",
              "995  What you get out of the program really depends...   6/15/2014   \n",
              "996  The bitmaker program provides opportunities an...   6/15/2014   \n",
              "997  Bitmaker is the best way to motivate and accel...   6/15/2014   \n",
              "998                                               NULL  12/19/2013   \n",
              "\n",
              "                               program overallScore overall curriculum  \\\n",
              "0          Data Analytics Career Track          5.0     5.0        5.0   \n",
              "1    Software Engineering Career Track          4.3     4.0        5.0   \n",
              "2            UI/UX Design Career Track          3.7     4.0        4.0   \n",
              "3          Cyber Security Career Track          4.3     4.0        5.0   \n",
              "4            UI/UX Design Career Track          4.0     4.0        4.0   \n",
              "..                                 ...          ...     ...        ...   \n",
              "994     Software Engineering Immersive          5.0     5.0        5.0   \n",
              "995                                             3.0     3.0        NaN   \n",
              "996                                             5.0     5.0        NaN   \n",
              "997                                             5.0     5.0        NaN   \n",
              "998                               None          4.0     4.0        NaN   \n",
              "\n",
              "    jobSupport                                        review_body  \\\n",
              "0          5.0  Springboard's Data Analytics Career Track not ...   \n",
              "1          4.0  Overall I had a great experience going through...   \n",
              "2          3.0  When I was looking at which bootcamp to do for...   \n",
              "3          4.0  This course is great for beginners. The curric...   \n",
              "4          4.0  If you find yourself unsure of where to begin,...   \n",
              "..         ...                                                ...   \n",
              "994        5.0  My experience at General Assembly's Web Develo...   \n",
              "995        NaN  What you get out of the program really depends...   \n",
              "996        NaN  Personally I had a great experience at Bitmake...   \n",
              "997        NaN  I was in the 3rd cohort and have had a success...   \n",
              "998        NaN  I'm surprised by the reviews below. My experie...   \n",
              "\n",
              "               school  school_id  \n",
              "0         springboard      11035  \n",
              "1         springboard      11035  \n",
              "2         springboard      11035  \n",
              "3         springboard      11035  \n",
              "4         springboard      11035  \n",
              "..                ...        ...  \n",
              "994  general-assembly      10761  \n",
              "995  general-assembly      10761  \n",
              "996  general-assembly      10761  \n",
              "997  general-assembly      10761  \n",
              "998  general-assembly      10761  \n",
              "\n",
              "[6991 rows x 17 columns]"
            ]
          },
          "execution_count": 55,
          "metadata": {},
          "output_type": "execute_result"
        }
      ],
      "source": [
        "comments"
      ]
    },
    {
      "cell_type": "code",
      "execution_count": 22,
      "metadata": {
        "id": "9gnaskMXD_Jv"
      },
      "outputs": [],
      "source": [
        "# Running the following function allows us to scrape more data for each school in our dictionary that will be graouped in lists of separate dataframes for each schools.\n",
        "# Lists contains dataframes on: schools, courses, locations and badges. After collecting data in the lists, we concatenate their elements to create only one dataframe for each piece of information."
      ]
    },
    {
      "cell_type": "code",
      "execution_count": 23,
      "metadata": {
        "colab": {
          "base_uri": "https://localhost:8080/"
        },
        "id": "7j9YlBQ7oT94",
        "outputId": "c3aed7ac-55f2-4fda-bea6-1b670c02cd11"
      },
      "outputs": [
        {
          "name": "stdout",
          "output_type": "stream",
          "text": [
            "springboard\n"
          ]
        },
        {
          "name": "stdout",
          "output_type": "stream",
          "text": [
            "dataquest\n",
            "syntax-technologies\n",
            "ironhack\n",
            "tripleten\n",
            "colaberry\n",
            "maven-analytics\n",
            "udacity\n",
            "brainstation\n",
            "ccs-learning-academy\n",
            "thinkful\n",
            "general-assembly\n"
          ]
        }
      ],
      "source": [
        "from pandas import json_normalize\n",
        "\n",
        "def get_school_info(school, school_id):\n",
        "    url = 'https://www.switchup.org/chimera/v1/bootcamp-data?mainTemplate=bootcamp-data%2Fdescription&path=%2Fbootcamps%2F'+ str(school) + '&isDataTarget=false&bootcampId='+ str(school_id) + '&logoTag=logo&truncationLength=250&readMoreOmission=...&readMoreText=Read%20More&readLessText=Read%20Less'\n",
        "\n",
        "    data = requests.get(url).json()\n",
        "\n",
        "    data.keys()\n",
        "\n",
        "    courses = data['content']['courses']\n",
        "    courses_df = pd.DataFrame(courses, columns= ['courses'])\n",
        "\n",
        "    locations = data['content']['locations']\n",
        "    locations_df = json_normalize(locations)\n",
        "\n",
        "    badges_df = pd.DataFrame(data['content']['meritBadges'])\n",
        "\n",
        "    website = data['content']['webaddr']\n",
        "    description = data['content']['description']\n",
        "    logoUrl = data['content']['logoUrl']\n",
        "    school_df = pd.DataFrame([website,description,logoUrl]).T\n",
        "    school_df.columns =  ['website','description','LogoUrl']\n",
        "\n",
        "    locations_df['school'] = school\n",
        "    courses_df['school'] = school\n",
        "    badges_df['school'] = school\n",
        "    school_df['school'] = school\n",
        "\n",
        "\n",
        "    locations_df['school_id'] = school_id\n",
        "    courses_df['school_id'] = school_id\n",
        "    badges_df['school_id'] = school_id\n",
        "    school_df['school_id'] = school_id\n",
        "\n",
        "    return locations_df, courses_df, badges_df, school_df\n",
        "\n",
        "locations_list = []\n",
        "courses_list = []\n",
        "badges_list = []\n",
        "schools_list = []\n",
        "\n",
        "for school, id in school_id_dict.items():\n",
        "    print(school)\n",
        "    a,b,c,d = get_school_info(school,id)\n",
        "\n",
        "    locations_list.append(a)\n",
        "    courses_list.append(b)\n",
        "    badges_list.append(c)\n",
        "    schools_list.append(d)"
      ]
    },
    {
      "cell_type": "code",
      "execution_count": 24,
      "metadata": {
        "colab": {
          "base_uri": "https://localhost:8080/"
        },
        "id": "VQTZIiyjoT94",
        "outputId": "4ba636a9-79fc-46e5-db4c-7cc468a0f469"
      },
      "outputs": [
        {
          "data": {
            "text/plain": [
              "id                 0\n",
              "description        0\n",
              "state.id          10\n",
              "state.name        10\n",
              "state.abbrev      10\n",
              "state.keyword     10\n",
              "school             0\n",
              "school_id          0\n",
              "country.id        12\n",
              "country.name      12\n",
              "country.abbrev    12\n",
              "city.id           12\n",
              "city.name         12\n",
              "city.keyword      12\n",
              "dtype: int64"
            ]
          },
          "execution_count": 24,
          "metadata": {},
          "output_type": "execute_result"
        }
      ],
      "source": [
        "locations = pd.concat(locations_list)\n",
        "locations.isna().sum()"
      ]
    },
    {
      "cell_type": "code",
      "execution_count": 25,
      "metadata": {
        "id": "ipo18vT0oT94"
      },
      "outputs": [],
      "source": [
        "# eliminate redundant data\n",
        "locations.drop(columns={\n",
        "    'state.abbrev',\n",
        "    'state.keyword',\n",
        "    'country.abbrev',\n",
        "    'city.keyword',\n",
        "    'state.id',\n",
        "    'city.id',\n",
        "    'country.id'\n",
        "}, inplace=True)"
      ]
    },
    {
      "cell_type": "code",
      "execution_count": 26,
      "metadata": {
        "id": "YBeL52tcoT94"
      },
      "outputs": [],
      "source": [
        "# Eliminate nans for locations in online courses and fill the cells with the string 'Online'. as it makes future comparisons between online and on-site courses easier.\n",
        "locations['country.name'] = locations['country.name'].apply(lambda value: 'Online' if pd.isna(value) else value)"
      ]
    },
    {
      "cell_type": "code",
      "execution_count": 27,
      "metadata": {
        "id": "P2l1GLN_oT94"
      },
      "outputs": [],
      "source": [
        "locations['city.name'] = locations['city.name'].apply(lambda value: 'Online' if pd.isna(value) else value)"
      ]
    },
    {
      "cell_type": "code",
      "execution_count": 28,
      "metadata": {
        "id": "xZe1rR80oT94"
      },
      "outputs": [],
      "source": [
        "locations['state.name'].fillna(locations['country.name'], inplace=True)"
      ]
    },
    {
      "cell_type": "code",
      "execution_count": 29,
      "metadata": {
        "colab": {
          "base_uri": "https://localhost:8080/"
        },
        "id": "ELMRO50EoT95",
        "outputId": "b7bccd7b-6083-49a3-e55b-1680bd0520db"
      },
      "outputs": [
        {
          "data": {
            "text/plain": [
              "id              0\n",
              "description     0\n",
              "state.name      0\n",
              "school          0\n",
              "school_id       0\n",
              "country.name    0\n",
              "city.name       0\n",
              "dtype: int64"
            ]
          },
          "execution_count": 29,
          "metadata": {},
          "output_type": "execute_result"
        }
      ],
      "source": [
        "locations.isna().sum()"
      ]
    },
    {
      "cell_type": "code",
      "execution_count": 30,
      "metadata": {
        "colab": {
          "base_uri": "https://localhost:8080/"
        },
        "id": "-Co6Rt64oT95",
        "outputId": "1c77d30f-968b-434c-aefb-d53dfa4b42d5"
      },
      "outputs": [
        {
          "data": {
            "text/plain": [
              "Index(['id', 'description', 'state.name', 'school', 'school_id',\n",
              "       'country.name', 'city.name'],\n",
              "      dtype='object')"
            ]
          },
          "execution_count": 30,
          "metadata": {},
          "output_type": "execute_result"
        }
      ],
      "source": [
        "locations.columns"
      ]
    },
    {
      "cell_type": "code",
      "execution_count": 31,
      "metadata": {
        "id": "cUYpbJ40oT95"
      },
      "outputs": [],
      "source": [
        "courses = pd.concat(courses_list)"
      ]
    },
    {
      "cell_type": "code",
      "execution_count": 32,
      "metadata": {
        "colab": {
          "base_uri": "https://localhost:8080/",
          "height": 424
        },
        "id": "cOE6-1NMoT95",
        "outputId": "bbab5f84-72b4-4de4-a946-a26bf7243584"
      },
      "outputs": [
        {
          "data": {
            "text/html": [
              "<div>\n",
              "<style scoped>\n",
              "    .dataframe tbody tr th:only-of-type {\n",
              "        vertical-align: middle;\n",
              "    }\n",
              "\n",
              "    .dataframe tbody tr th {\n",
              "        vertical-align: top;\n",
              "    }\n",
              "\n",
              "    .dataframe thead th {\n",
              "        text-align: right;\n",
              "    }\n",
              "</style>\n",
              "<table border=\"1\" class=\"dataframe\">\n",
              "  <thead>\n",
              "    <tr style=\"text-align: right;\">\n",
              "      <th></th>\n",
              "      <th>courses</th>\n",
              "      <th>school</th>\n",
              "      <th>school_id</th>\n",
              "    </tr>\n",
              "  </thead>\n",
              "  <tbody>\n",
              "    <tr>\n",
              "      <th>0</th>\n",
              "      <td>Cyber Security Career Track</td>\n",
              "      <td>springboard</td>\n",
              "      <td>11035</td>\n",
              "    </tr>\n",
              "    <tr>\n",
              "      <th>1</th>\n",
              "      <td>Data Analytics Career Track</td>\n",
              "      <td>springboard</td>\n",
              "      <td>11035</td>\n",
              "    </tr>\n",
              "    <tr>\n",
              "      <th>2</th>\n",
              "      <td>Data Science Career Track</td>\n",
              "      <td>springboard</td>\n",
              "      <td>11035</td>\n",
              "    </tr>\n",
              "    <tr>\n",
              "      <th>3</th>\n",
              "      <td>Data Science Career Track Prep</td>\n",
              "      <td>springboard</td>\n",
              "      <td>11035</td>\n",
              "    </tr>\n",
              "    <tr>\n",
              "      <th>4</th>\n",
              "      <td>Front-End Web Development</td>\n",
              "      <td>springboard</td>\n",
              "      <td>11035</td>\n",
              "    </tr>\n",
              "    <tr>\n",
              "      <th>...</th>\n",
              "      <td>...</td>\n",
              "      <td>...</td>\n",
              "      <td>...</td>\n",
              "    </tr>\n",
              "    <tr>\n",
              "      <th>9</th>\n",
              "      <td>React Development (Short Course)</td>\n",
              "      <td>general-assembly</td>\n",
              "      <td>10761</td>\n",
              "    </tr>\n",
              "    <tr>\n",
              "      <th>10</th>\n",
              "      <td>Software Engineering Bootcamp (Full-Time)</td>\n",
              "      <td>general-assembly</td>\n",
              "      <td>10761</td>\n",
              "    </tr>\n",
              "    <tr>\n",
              "      <th>11</th>\n",
              "      <td>User Experience Design (Short Course)</td>\n",
              "      <td>general-assembly</td>\n",
              "      <td>10761</td>\n",
              "    </tr>\n",
              "    <tr>\n",
              "      <th>12</th>\n",
              "      <td>User Experience Design Bootcamp (Full-Time)</td>\n",
              "      <td>general-assembly</td>\n",
              "      <td>10761</td>\n",
              "    </tr>\n",
              "    <tr>\n",
              "      <th>13</th>\n",
              "      <td>Visual Design (Short Course)</td>\n",
              "      <td>general-assembly</td>\n",
              "      <td>10761</td>\n",
              "    </tr>\n",
              "  </tbody>\n",
              "</table>\n",
              "<p>114 rows × 3 columns</p>\n",
              "</div>"
            ],
            "text/plain": [
              "                                        courses            school  school_id\n",
              "0                   Cyber Security Career Track       springboard      11035\n",
              "1                   Data Analytics Career Track       springboard      11035\n",
              "2                     Data Science Career Track       springboard      11035\n",
              "3                Data Science Career Track Prep       springboard      11035\n",
              "4                     Front-End Web Development       springboard      11035\n",
              "..                                          ...               ...        ...\n",
              "9              React Development (Short Course)  general-assembly      10761\n",
              "10    Software Engineering Bootcamp (Full-Time)  general-assembly      10761\n",
              "11        User Experience Design (Short Course)  general-assembly      10761\n",
              "12  User Experience Design Bootcamp (Full-Time)  general-assembly      10761\n",
              "13                 Visual Design (Short Course)  general-assembly      10761\n",
              "\n",
              "[114 rows x 3 columns]"
            ]
          },
          "execution_count": 32,
          "metadata": {},
          "output_type": "execute_result"
        }
      ],
      "source": [
        "courses"
      ]
    },
    {
      "cell_type": "code",
      "execution_count": 33,
      "metadata": {
        "colab": {
          "base_uri": "https://localhost:8080/",
          "height": 1000
        },
        "id": "FuMg2y8VoT95",
        "outputId": "0ccda500-33bf-4ca8-d30b-864fb8dbdbbd"
      },
      "outputs": [
        {
          "data": {
            "text/html": [
              "<div>\n",
              "<style scoped>\n",
              "    .dataframe tbody tr th:only-of-type {\n",
              "        vertical-align: middle;\n",
              "    }\n",
              "\n",
              "    .dataframe tbody tr th {\n",
              "        vertical-align: top;\n",
              "    }\n",
              "\n",
              "    .dataframe thead th {\n",
              "        text-align: right;\n",
              "    }\n",
              "</style>\n",
              "<table border=\"1\" class=\"dataframe\">\n",
              "  <thead>\n",
              "    <tr style=\"text-align: right;\">\n",
              "      <th></th>\n",
              "      <th>name</th>\n",
              "      <th>keyword</th>\n",
              "      <th>description</th>\n",
              "      <th>school</th>\n",
              "      <th>school_id</th>\n",
              "    </tr>\n",
              "  </thead>\n",
              "  <tbody>\n",
              "    <tr>\n",
              "      <th>0</th>\n",
              "      <td>Available Online</td>\n",
              "      <td>available_online</td>\n",
              "      <td>&lt;p&gt;School offers fully online courses&lt;/p&gt;</td>\n",
              "      <td>springboard</td>\n",
              "      <td>11035</td>\n",
              "    </tr>\n",
              "    <tr>\n",
              "      <th>1</th>\n",
              "      <td>Flexible Classes</td>\n",
              "      <td>flexible_classes</td>\n",
              "      <td>&lt;p&gt;School offers part-time and evening classes...</td>\n",
              "      <td>springboard</td>\n",
              "      <td>11035</td>\n",
              "    </tr>\n",
              "    <tr>\n",
              "      <th>2</th>\n",
              "      <td>Job Guarantee</td>\n",
              "      <td>job_guarantee</td>\n",
              "      <td>&lt;p&gt;School guarantees job placement&lt;/p&gt;</td>\n",
              "      <td>springboard</td>\n",
              "      <td>11035</td>\n",
              "    </tr>\n",
              "    <tr>\n",
              "      <th>0</th>\n",
              "      <td>Available Online</td>\n",
              "      <td>available_online</td>\n",
              "      <td>&lt;p&gt;School offers fully online courses&lt;/p&gt;</td>\n",
              "      <td>dataquest</td>\n",
              "      <td>10683</td>\n",
              "    </tr>\n",
              "    <tr>\n",
              "      <th>1</th>\n",
              "      <td>Flexible Classes</td>\n",
              "      <td>flexible_classes</td>\n",
              "      <td>&lt;p&gt;School offers part-time and evening classes...</td>\n",
              "      <td>dataquest</td>\n",
              "      <td>10683</td>\n",
              "    </tr>\n",
              "    <tr>\n",
              "      <th>0</th>\n",
              "      <td>Available Online</td>\n",
              "      <td>available_online</td>\n",
              "      <td>&lt;p&gt;School offers fully online courses&lt;/p&gt;</td>\n",
              "      <td>syntax-technologies</td>\n",
              "      <td>11797</td>\n",
              "    </tr>\n",
              "    <tr>\n",
              "      <th>1</th>\n",
              "      <td>Flexible Classes</td>\n",
              "      <td>flexible_classes</td>\n",
              "      <td>&lt;p&gt;School offers part-time and evening classes...</td>\n",
              "      <td>syntax-technologies</td>\n",
              "      <td>11797</td>\n",
              "    </tr>\n",
              "    <tr>\n",
              "      <th>0</th>\n",
              "      <td>Available Online</td>\n",
              "      <td>available_online</td>\n",
              "      <td>&lt;p&gt;School offers fully online courses&lt;/p&gt;</td>\n",
              "      <td>ironhack</td>\n",
              "      <td>10828</td>\n",
              "    </tr>\n",
              "    <tr>\n",
              "      <th>1</th>\n",
              "      <td>Verified Outcomes</td>\n",
              "      <td>verified_outcomes</td>\n",
              "      <td>&lt;p&gt;School publishes a third-party verified out...</td>\n",
              "      <td>ironhack</td>\n",
              "      <td>10828</td>\n",
              "    </tr>\n",
              "    <tr>\n",
              "      <th>2</th>\n",
              "      <td>Flexible Classes</td>\n",
              "      <td>flexible_classes</td>\n",
              "      <td>&lt;p&gt;School offers part-time and evening classes...</td>\n",
              "      <td>ironhack</td>\n",
              "      <td>10828</td>\n",
              "    </tr>\n",
              "    <tr>\n",
              "      <th>0</th>\n",
              "      <td>Available Online</td>\n",
              "      <td>available_online</td>\n",
              "      <td>&lt;p&gt;School offers fully online courses&lt;/p&gt;</td>\n",
              "      <td>tripleten</td>\n",
              "      <td>11225</td>\n",
              "    </tr>\n",
              "    <tr>\n",
              "      <th>1</th>\n",
              "      <td>Flexible Classes</td>\n",
              "      <td>flexible_classes</td>\n",
              "      <td>&lt;p&gt;School offers part-time and evening classes...</td>\n",
              "      <td>tripleten</td>\n",
              "      <td>11225</td>\n",
              "    </tr>\n",
              "    <tr>\n",
              "      <th>2</th>\n",
              "      <td>Job Guarantee</td>\n",
              "      <td>job_guarantee</td>\n",
              "      <td>&lt;p&gt;School guarantees job placement&lt;/p&gt;</td>\n",
              "      <td>tripleten</td>\n",
              "      <td>11225</td>\n",
              "    </tr>\n",
              "    <tr>\n",
              "      <th>0</th>\n",
              "      <td>Available Online</td>\n",
              "      <td>available_online</td>\n",
              "      <td>&lt;p&gt;School offers fully online courses&lt;/p&gt;</td>\n",
              "      <td>colaberry</td>\n",
              "      <td>11718</td>\n",
              "    </tr>\n",
              "    <tr>\n",
              "      <th>1</th>\n",
              "      <td>Flexible Classes</td>\n",
              "      <td>flexible_classes</td>\n",
              "      <td>&lt;p&gt;School offers part-time and evening classes...</td>\n",
              "      <td>colaberry</td>\n",
              "      <td>11718</td>\n",
              "    </tr>\n",
              "    <tr>\n",
              "      <th>0</th>\n",
              "      <td>Available Online</td>\n",
              "      <td>available_online</td>\n",
              "      <td>&lt;p&gt;School offers fully online courses&lt;/p&gt;</td>\n",
              "      <td>maven-analytics</td>\n",
              "      <td>11740</td>\n",
              "    </tr>\n",
              "    <tr>\n",
              "      <th>1</th>\n",
              "      <td>Flexible Classes</td>\n",
              "      <td>flexible_classes</td>\n",
              "      <td>&lt;p&gt;School offers part-time and evening classes...</td>\n",
              "      <td>maven-analytics</td>\n",
              "      <td>11740</td>\n",
              "    </tr>\n",
              "    <tr>\n",
              "      <th>0</th>\n",
              "      <td>Available Online</td>\n",
              "      <td>available_online</td>\n",
              "      <td>&lt;p&gt;School offers fully online courses&lt;/p&gt;</td>\n",
              "      <td>udacity</td>\n",
              "      <td>11118</td>\n",
              "    </tr>\n",
              "    <tr>\n",
              "      <th>1</th>\n",
              "      <td>Flexible Classes</td>\n",
              "      <td>flexible_classes</td>\n",
              "      <td>&lt;p&gt;School offers part-time and evening classes...</td>\n",
              "      <td>udacity</td>\n",
              "      <td>11118</td>\n",
              "    </tr>\n",
              "    <tr>\n",
              "      <th>0</th>\n",
              "      <td>Available Online</td>\n",
              "      <td>available_online</td>\n",
              "      <td>&lt;p&gt;School offers fully online courses&lt;/p&gt;</td>\n",
              "      <td>brainstation</td>\n",
              "      <td>10571</td>\n",
              "    </tr>\n",
              "    <tr>\n",
              "      <th>1</th>\n",
              "      <td>Flexible Classes</td>\n",
              "      <td>flexible_classes</td>\n",
              "      <td>&lt;p&gt;School offers part-time and evening classes...</td>\n",
              "      <td>brainstation</td>\n",
              "      <td>10571</td>\n",
              "    </tr>\n",
              "    <tr>\n",
              "      <th>2</th>\n",
              "      <td>Accepts GI Bill</td>\n",
              "      <td>accepts_gi_bill</td>\n",
              "      <td>&lt;p&gt;School accepts the GI Bill&lt;/p&gt;</td>\n",
              "      <td>brainstation</td>\n",
              "      <td>10571</td>\n",
              "    </tr>\n",
              "    <tr>\n",
              "      <th>0</th>\n",
              "      <td>Available Online</td>\n",
              "      <td>available_online</td>\n",
              "      <td>&lt;p&gt;School offers fully online courses&lt;/p&gt;</td>\n",
              "      <td>ccs-learning-academy</td>\n",
              "      <td>11736</td>\n",
              "    </tr>\n",
              "    <tr>\n",
              "      <th>1</th>\n",
              "      <td>Flexible Classes</td>\n",
              "      <td>flexible_classes</td>\n",
              "      <td>&lt;p&gt;School offers part-time and evening classes...</td>\n",
              "      <td>ccs-learning-academy</td>\n",
              "      <td>11736</td>\n",
              "    </tr>\n",
              "    <tr>\n",
              "      <th>2</th>\n",
              "      <td>Job Guarantee</td>\n",
              "      <td>job_guarantee</td>\n",
              "      <td>&lt;p&gt;School guarantees job placement&lt;/p&gt;</td>\n",
              "      <td>ccs-learning-academy</td>\n",
              "      <td>11736</td>\n",
              "    </tr>\n",
              "    <tr>\n",
              "      <th>0</th>\n",
              "      <td>Available Online</td>\n",
              "      <td>available_online</td>\n",
              "      <td>&lt;p&gt;School offers fully online courses&lt;/p&gt;</td>\n",
              "      <td>thinkful</td>\n",
              "      <td>11098</td>\n",
              "    </tr>\n",
              "    <tr>\n",
              "      <th>1</th>\n",
              "      <td>Verified Outcomes</td>\n",
              "      <td>verified_outcomes</td>\n",
              "      <td>&lt;p&gt;School publishes a third-party verified out...</td>\n",
              "      <td>thinkful</td>\n",
              "      <td>11098</td>\n",
              "    </tr>\n",
              "    <tr>\n",
              "      <th>2</th>\n",
              "      <td>Flexible Classes</td>\n",
              "      <td>flexible_classes</td>\n",
              "      <td>&lt;p&gt;School offers part-time and evening classes...</td>\n",
              "      <td>thinkful</td>\n",
              "      <td>11098</td>\n",
              "    </tr>\n",
              "    <tr>\n",
              "      <th>3</th>\n",
              "      <td>Job Guarantee</td>\n",
              "      <td>job_guarantee</td>\n",
              "      <td>&lt;p&gt;School guarantees job placement&lt;/p&gt;</td>\n",
              "      <td>thinkful</td>\n",
              "      <td>11098</td>\n",
              "    </tr>\n",
              "    <tr>\n",
              "      <th>0</th>\n",
              "      <td>Available Online</td>\n",
              "      <td>available_online</td>\n",
              "      <td>&lt;p&gt;School offers fully online courses&lt;/p&gt;</td>\n",
              "      <td>general-assembly</td>\n",
              "      <td>10761</td>\n",
              "    </tr>\n",
              "    <tr>\n",
              "      <th>1</th>\n",
              "      <td>Verified Outcomes</td>\n",
              "      <td>verified_outcomes</td>\n",
              "      <td>&lt;p&gt;School publishes a third-party verified out...</td>\n",
              "      <td>general-assembly</td>\n",
              "      <td>10761</td>\n",
              "    </tr>\n",
              "    <tr>\n",
              "      <th>2</th>\n",
              "      <td>Flexible Classes</td>\n",
              "      <td>flexible_classes</td>\n",
              "      <td>&lt;p&gt;School offers part-time and evening classes...</td>\n",
              "      <td>general-assembly</td>\n",
              "      <td>10761</td>\n",
              "    </tr>\n",
              "    <tr>\n",
              "      <th>3</th>\n",
              "      <td>Accepts GI Bill</td>\n",
              "      <td>accepts_gi_bill</td>\n",
              "      <td>&lt;p&gt;School accepts the GI Bill&lt;/p&gt;</td>\n",
              "      <td>general-assembly</td>\n",
              "      <td>10761</td>\n",
              "    </tr>\n",
              "  </tbody>\n",
              "</table>\n",
              "</div>"
            ],
            "text/plain": [
              "                name            keyword  \\\n",
              "0   Available Online   available_online   \n",
              "1   Flexible Classes   flexible_classes   \n",
              "2      Job Guarantee      job_guarantee   \n",
              "0   Available Online   available_online   \n",
              "1   Flexible Classes   flexible_classes   \n",
              "0   Available Online   available_online   \n",
              "1   Flexible Classes   flexible_classes   \n",
              "0   Available Online   available_online   \n",
              "1  Verified Outcomes  verified_outcomes   \n",
              "2   Flexible Classes   flexible_classes   \n",
              "0   Available Online   available_online   \n",
              "1   Flexible Classes   flexible_classes   \n",
              "2      Job Guarantee      job_guarantee   \n",
              "0   Available Online   available_online   \n",
              "1   Flexible Classes   flexible_classes   \n",
              "0   Available Online   available_online   \n",
              "1   Flexible Classes   flexible_classes   \n",
              "0   Available Online   available_online   \n",
              "1   Flexible Classes   flexible_classes   \n",
              "0   Available Online   available_online   \n",
              "1   Flexible Classes   flexible_classes   \n",
              "2    Accepts GI Bill    accepts_gi_bill   \n",
              "0   Available Online   available_online   \n",
              "1   Flexible Classes   flexible_classes   \n",
              "2      Job Guarantee      job_guarantee   \n",
              "0   Available Online   available_online   \n",
              "1  Verified Outcomes  verified_outcomes   \n",
              "2   Flexible Classes   flexible_classes   \n",
              "3      Job Guarantee      job_guarantee   \n",
              "0   Available Online   available_online   \n",
              "1  Verified Outcomes  verified_outcomes   \n",
              "2   Flexible Classes   flexible_classes   \n",
              "3    Accepts GI Bill    accepts_gi_bill   \n",
              "\n",
              "                                         description                school  \\\n",
              "0          <p>School offers fully online courses</p>           springboard   \n",
              "1  <p>School offers part-time and evening classes...           springboard   \n",
              "2             <p>School guarantees job placement</p>           springboard   \n",
              "0          <p>School offers fully online courses</p>             dataquest   \n",
              "1  <p>School offers part-time and evening classes...             dataquest   \n",
              "0          <p>School offers fully online courses</p>   syntax-technologies   \n",
              "1  <p>School offers part-time and evening classes...   syntax-technologies   \n",
              "0          <p>School offers fully online courses</p>              ironhack   \n",
              "1  <p>School publishes a third-party verified out...              ironhack   \n",
              "2  <p>School offers part-time and evening classes...              ironhack   \n",
              "0          <p>School offers fully online courses</p>             tripleten   \n",
              "1  <p>School offers part-time and evening classes...             tripleten   \n",
              "2             <p>School guarantees job placement</p>             tripleten   \n",
              "0          <p>School offers fully online courses</p>             colaberry   \n",
              "1  <p>School offers part-time and evening classes...             colaberry   \n",
              "0          <p>School offers fully online courses</p>       maven-analytics   \n",
              "1  <p>School offers part-time and evening classes...       maven-analytics   \n",
              "0          <p>School offers fully online courses</p>               udacity   \n",
              "1  <p>School offers part-time and evening classes...               udacity   \n",
              "0          <p>School offers fully online courses</p>          brainstation   \n",
              "1  <p>School offers part-time and evening classes...          brainstation   \n",
              "2                  <p>School accepts the GI Bill</p>          brainstation   \n",
              "0          <p>School offers fully online courses</p>  ccs-learning-academy   \n",
              "1  <p>School offers part-time and evening classes...  ccs-learning-academy   \n",
              "2             <p>School guarantees job placement</p>  ccs-learning-academy   \n",
              "0          <p>School offers fully online courses</p>              thinkful   \n",
              "1  <p>School publishes a third-party verified out...              thinkful   \n",
              "2  <p>School offers part-time and evening classes...              thinkful   \n",
              "3             <p>School guarantees job placement</p>              thinkful   \n",
              "0          <p>School offers fully online courses</p>      general-assembly   \n",
              "1  <p>School publishes a third-party verified out...      general-assembly   \n",
              "2  <p>School offers part-time and evening classes...      general-assembly   \n",
              "3                  <p>School accepts the GI Bill</p>      general-assembly   \n",
              "\n",
              "   school_id  \n",
              "0      11035  \n",
              "1      11035  \n",
              "2      11035  \n",
              "0      10683  \n",
              "1      10683  \n",
              "0      11797  \n",
              "1      11797  \n",
              "0      10828  \n",
              "1      10828  \n",
              "2      10828  \n",
              "0      11225  \n",
              "1      11225  \n",
              "2      11225  \n",
              "0      11718  \n",
              "1      11718  \n",
              "0      11740  \n",
              "1      11740  \n",
              "0      11118  \n",
              "1      11118  \n",
              "0      10571  \n",
              "1      10571  \n",
              "2      10571  \n",
              "0      11736  \n",
              "1      11736  \n",
              "2      11736  \n",
              "0      11098  \n",
              "1      11098  \n",
              "2      11098  \n",
              "3      11098  \n",
              "0      10761  \n",
              "1      10761  \n",
              "2      10761  \n",
              "3      10761  "
            ]
          },
          "execution_count": 33,
          "metadata": {},
          "output_type": "execute_result"
        }
      ],
      "source": [
        "badges = pd.concat(badges_list)\n",
        "badges"
      ]
    },
    {
      "cell_type": "code",
      "execution_count": 34,
      "metadata": {
        "id": "6aVNVQ27oT95"
      },
      "outputs": [],
      "source": [
        "badges.drop(columns={'keyword'}, inplace=True)"
      ]
    },
    {
      "cell_type": "code",
      "execution_count": 35,
      "metadata": {
        "colab": {
          "base_uri": "https://localhost:8080/"
        },
        "id": "jLLk6HSKoT95",
        "outputId": "40c4c2b4-8186-4c11-f2f1-49f637a0d2ed"
      },
      "outputs": [
        {
          "data": {
            "text/plain": [
              "Index(['name', 'description', 'school', 'school_id'], dtype='object')"
            ]
          },
          "execution_count": 35,
          "metadata": {},
          "output_type": "execute_result"
        }
      ],
      "source": [
        "badges.columns"
      ]
    },
    {
      "cell_type": "code",
      "execution_count": 36,
      "metadata": {
        "colab": {
          "base_uri": "https://localhost:8080/",
          "height": 35
        },
        "id": "Hp9xlizIoT95",
        "outputId": "16c6fa97-e7e0-4a4f-91a0-01f3f1e06c7a"
      },
      "outputs": [
        {
          "data": {
            "text/plain": [
              "'School offers fully online courses'"
            ]
          },
          "execution_count": 36,
          "metadata": {},
          "output_type": "execute_result"
        }
      ],
      "source": [
        "text = '<p>School offers fully online courses</p>'\n",
        "text.split('>')[1].split('<')[0]"
      ]
    },
    {
      "cell_type": "code",
      "execution_count": 37,
      "metadata": {
        "id": "SUIy0wlEoT95"
      },
      "outputs": [],
      "source": [
        "# cleaan the column description to eliminate the tags charachters\n",
        "badges['description'] = badges['description'].apply(lambda text: text.split('>')[1].split('<')[0])"
      ]
    },
    {
      "cell_type": "code",
      "execution_count": 38,
      "metadata": {
        "colab": {
          "base_uri": "https://localhost:8080/",
          "height": 143
        },
        "id": "DwLbU_nVoT96",
        "outputId": "2c581a8f-1f34-4854-de9b-a7cd671773fa"
      },
      "outputs": [
        {
          "data": {
            "text/html": [
              "<div>\n",
              "<style scoped>\n",
              "    .dataframe tbody tr th:only-of-type {\n",
              "        vertical-align: middle;\n",
              "    }\n",
              "\n",
              "    .dataframe tbody tr th {\n",
              "        vertical-align: top;\n",
              "    }\n",
              "\n",
              "    .dataframe thead th {\n",
              "        text-align: right;\n",
              "    }\n",
              "</style>\n",
              "<table border=\"1\" class=\"dataframe\">\n",
              "  <thead>\n",
              "    <tr style=\"text-align: right;\">\n",
              "      <th></th>\n",
              "      <th>name</th>\n",
              "      <th>description</th>\n",
              "      <th>school</th>\n",
              "      <th>school_id</th>\n",
              "    </tr>\n",
              "  </thead>\n",
              "  <tbody>\n",
              "    <tr>\n",
              "      <th>0</th>\n",
              "      <td>Available Online</td>\n",
              "      <td>School offers fully online courses</td>\n",
              "      <td>springboard</td>\n",
              "      <td>11035</td>\n",
              "    </tr>\n",
              "    <tr>\n",
              "      <th>1</th>\n",
              "      <td>Flexible Classes</td>\n",
              "      <td>School offers part-time and evening classes</td>\n",
              "      <td>springboard</td>\n",
              "      <td>11035</td>\n",
              "    </tr>\n",
              "    <tr>\n",
              "      <th>2</th>\n",
              "      <td>Job Guarantee</td>\n",
              "      <td>School guarantees job placement</td>\n",
              "      <td>springboard</td>\n",
              "      <td>11035</td>\n",
              "    </tr>\n",
              "  </tbody>\n",
              "</table>\n",
              "</div>"
            ],
            "text/plain": [
              "               name                                  description       school  \\\n",
              "0  Available Online           School offers fully online courses  springboard   \n",
              "1  Flexible Classes  School offers part-time and evening classes  springboard   \n",
              "2     Job Guarantee              School guarantees job placement  springboard   \n",
              "\n",
              "   school_id  \n",
              "0      11035  \n",
              "1      11035  \n",
              "2      11035  "
            ]
          },
          "execution_count": 38,
          "metadata": {},
          "output_type": "execute_result"
        }
      ],
      "source": [
        "# checking\n",
        "badges[badges['school'] == 'springboard']"
      ]
    },
    {
      "cell_type": "code",
      "execution_count": 39,
      "metadata": {
        "colab": {
          "base_uri": "https://localhost:8080/",
          "height": 426
        },
        "id": "E_32rRUtoT96",
        "outputId": "2d858925-e59e-41b9-db9d-27d85aa1c218"
      },
      "outputs": [
        {
          "data": {
            "text/html": [
              "<div>\n",
              "<style scoped>\n",
              "    .dataframe tbody tr th:only-of-type {\n",
              "        vertical-align: middle;\n",
              "    }\n",
              "\n",
              "    .dataframe tbody tr th {\n",
              "        vertical-align: top;\n",
              "    }\n",
              "\n",
              "    .dataframe thead th {\n",
              "        text-align: right;\n",
              "    }\n",
              "</style>\n",
              "<table border=\"1\" class=\"dataframe\">\n",
              "  <thead>\n",
              "    <tr style=\"text-align: right;\">\n",
              "      <th></th>\n",
              "      <th>website</th>\n",
              "      <th>description</th>\n",
              "      <th>LogoUrl</th>\n",
              "      <th>school</th>\n",
              "      <th>school_id</th>\n",
              "    </tr>\n",
              "  </thead>\n",
              "  <tbody>\n",
              "    <tr>\n",
              "      <th>0</th>\n",
              "      <td>www.springboard.com/?utm_source=switchup&amp;utm_m...</td>\n",
              "      <td>&lt;span class=\"truncatable\"&gt;&lt;p&gt;Springboard is an...</td>\n",
              "      <td>https://d92mrp7hetgfk.cloudfront.net/images/si...</td>\n",
              "      <td>springboard</td>\n",
              "      <td>11035</td>\n",
              "    </tr>\n",
              "    <tr>\n",
              "      <th>0</th>\n",
              "      <td>www.dataquest.io</td>\n",
              "      <td>&lt;span class=\"truncatable\"&gt;&lt;p&gt;Master data skill...</td>\n",
              "      <td>https://d92mrp7hetgfk.cloudfront.net/images/si...</td>\n",
              "      <td>dataquest</td>\n",
              "      <td>10683</td>\n",
              "    </tr>\n",
              "    <tr>\n",
              "      <th>0</th>\n",
              "      <td>www.syntaxtechs.com/</td>\n",
              "      <td>&lt;span class=\"truncatable\"&gt;&lt;p&gt;Syntax Technologi...</td>\n",
              "      <td>https://d92mrp7hetgfk.cloudfront.net/images/si...</td>\n",
              "      <td>syntax-technologies</td>\n",
              "      <td>11797</td>\n",
              "    </tr>\n",
              "    <tr>\n",
              "      <th>0</th>\n",
              "      <td>www.ironhack.com/en</td>\n",
              "      <td>&lt;span class=\"truncatable\"&gt;&lt;p&gt;Ironhack is a glo...</td>\n",
              "      <td>https://d92mrp7hetgfk.cloudfront.net/images/si...</td>\n",
              "      <td>ironhack</td>\n",
              "      <td>10828</td>\n",
              "    </tr>\n",
              "    <tr>\n",
              "      <th>0</th>\n",
              "      <td>tripleten.com/?utm_source=referral&amp;utm_medium=...</td>\n",
              "      <td>&lt;span class=\"truncatable\"&gt;&lt;p&gt;Tripleten changed...</td>\n",
              "      <td>https://d92mrp7hetgfk.cloudfront.net/images/si...</td>\n",
              "      <td>tripleten</td>\n",
              "      <td>11225</td>\n",
              "    </tr>\n",
              "    <tr>\n",
              "      <th>0</th>\n",
              "      <td>www.colaberry.com/</td>\n",
              "      <td>&lt;span class=\"truncatable\"&gt;&lt;p&gt;Colaberry offers ...</td>\n",
              "      <td>https://d92mrp7hetgfk.cloudfront.net/images/si...</td>\n",
              "      <td>colaberry</td>\n",
              "      <td>11718</td>\n",
              "    </tr>\n",
              "    <tr>\n",
              "      <th>0</th>\n",
              "      <td>www.mavenanalytics.io/</td>\n",
              "      <td>&lt;span class=\"truncatable\"&gt;&lt;p&gt;Maven Analytics i...</td>\n",
              "      <td>https://d92mrp7hetgfk.cloudfront.net/images/si...</td>\n",
              "      <td>maven-analytics</td>\n",
              "      <td>11740</td>\n",
              "    </tr>\n",
              "    <tr>\n",
              "      <th>0</th>\n",
              "      <td>www.udacity.com/?utm_source=switchup&amp;utm_mediu...</td>\n",
              "      <td>&lt;span class=\"truncatable\"&gt;&lt;p&gt;Udacity is the tr...</td>\n",
              "      <td>https://d92mrp7hetgfk.cloudfront.net/images/si...</td>\n",
              "      <td>udacity</td>\n",
              "      <td>11118</td>\n",
              "    </tr>\n",
              "    <tr>\n",
              "      <th>0</th>\n",
              "      <td>brainstation.io</td>\n",
              "      <td>&lt;span class=\"truncatable\"&gt;&lt;p&gt;BrainStation is t...</td>\n",
              "      <td>https://d92mrp7hetgfk.cloudfront.net/images/si...</td>\n",
              "      <td>brainstation</td>\n",
              "      <td>10571</td>\n",
              "    </tr>\n",
              "    <tr>\n",
              "      <th>0</th>\n",
              "      <td>ccslearningacademy.com/</td>\n",
              "      <td>&lt;span class=\"truncatable\"&gt;&lt;p&gt;TECH TRAINING BY ...</td>\n",
              "      <td>https://d92mrp7hetgfk.cloudfront.net/images/si...</td>\n",
              "      <td>ccs-learning-academy</td>\n",
              "      <td>11736</td>\n",
              "    </tr>\n",
              "    <tr>\n",
              "      <th>0</th>\n",
              "      <td>thinkful.com/</td>\n",
              "      <td>&lt;span class=\"truncatable\"&gt;&lt;p&gt;Thinkful teaches ...</td>\n",
              "      <td>https://d92mrp7hetgfk.cloudfront.net/images/si...</td>\n",
              "      <td>thinkful</td>\n",
              "      <td>11098</td>\n",
              "    </tr>\n",
              "    <tr>\n",
              "      <th>0</th>\n",
              "      <td>generalassemb.ly?utm_source=switchup&amp;utm_mediu...</td>\n",
              "      <td>&lt;span class=\"truncatable\"&gt;&lt;p&gt;General Assembly ...</td>\n",
              "      <td>https://d92mrp7hetgfk.cloudfront.net/images/si...</td>\n",
              "      <td>general-assembly</td>\n",
              "      <td>10761</td>\n",
              "    </tr>\n",
              "  </tbody>\n",
              "</table>\n",
              "</div>"
            ],
            "text/plain": [
              "                                             website  \\\n",
              "0  www.springboard.com/?utm_source=switchup&utm_m...   \n",
              "0                                   www.dataquest.io   \n",
              "0                               www.syntaxtechs.com/   \n",
              "0                                www.ironhack.com/en   \n",
              "0  tripleten.com/?utm_source=referral&utm_medium=...   \n",
              "0                                 www.colaberry.com/   \n",
              "0                             www.mavenanalytics.io/   \n",
              "0  www.udacity.com/?utm_source=switchup&utm_mediu...   \n",
              "0                                    brainstation.io   \n",
              "0                            ccslearningacademy.com/   \n",
              "0                                      thinkful.com/   \n",
              "0  generalassemb.ly?utm_source=switchup&utm_mediu...   \n",
              "\n",
              "                                         description  \\\n",
              "0  <span class=\"truncatable\"><p>Springboard is an...   \n",
              "0  <span class=\"truncatable\"><p>Master data skill...   \n",
              "0  <span class=\"truncatable\"><p>Syntax Technologi...   \n",
              "0  <span class=\"truncatable\"><p>Ironhack is a glo...   \n",
              "0  <span class=\"truncatable\"><p>Tripleten changed...   \n",
              "0  <span class=\"truncatable\"><p>Colaberry offers ...   \n",
              "0  <span class=\"truncatable\"><p>Maven Analytics i...   \n",
              "0  <span class=\"truncatable\"><p>Udacity is the tr...   \n",
              "0  <span class=\"truncatable\"><p>BrainStation is t...   \n",
              "0  <span class=\"truncatable\"><p>TECH TRAINING BY ...   \n",
              "0  <span class=\"truncatable\"><p>Thinkful teaches ...   \n",
              "0  <span class=\"truncatable\"><p>General Assembly ...   \n",
              "\n",
              "                                             LogoUrl                school  \\\n",
              "0  https://d92mrp7hetgfk.cloudfront.net/images/si...           springboard   \n",
              "0  https://d92mrp7hetgfk.cloudfront.net/images/si...             dataquest   \n",
              "0  https://d92mrp7hetgfk.cloudfront.net/images/si...   syntax-technologies   \n",
              "0  https://d92mrp7hetgfk.cloudfront.net/images/si...              ironhack   \n",
              "0  https://d92mrp7hetgfk.cloudfront.net/images/si...             tripleten   \n",
              "0  https://d92mrp7hetgfk.cloudfront.net/images/si...             colaberry   \n",
              "0  https://d92mrp7hetgfk.cloudfront.net/images/si...       maven-analytics   \n",
              "0  https://d92mrp7hetgfk.cloudfront.net/images/si...               udacity   \n",
              "0  https://d92mrp7hetgfk.cloudfront.net/images/si...          brainstation   \n",
              "0  https://d92mrp7hetgfk.cloudfront.net/images/si...  ccs-learning-academy   \n",
              "0  https://d92mrp7hetgfk.cloudfront.net/images/si...              thinkful   \n",
              "0  https://d92mrp7hetgfk.cloudfront.net/images/si...      general-assembly   \n",
              "\n",
              "   school_id  \n",
              "0      11035  \n",
              "0      10683  \n",
              "0      11797  \n",
              "0      10828  \n",
              "0      11225  \n",
              "0      11718  \n",
              "0      11740  \n",
              "0      11118  \n",
              "0      10571  \n",
              "0      11736  \n",
              "0      11098  \n",
              "0      10761  "
            ]
          },
          "execution_count": 39,
          "metadata": {},
          "output_type": "execute_result"
        }
      ],
      "source": [
        "# any data cleaning still missing here? take a look at the description -- cleaning the description and eliminate all tags charachters necessary.\n",
        "schools = pd.concat(schools_list)\n",
        "schools"
      ]
    },
    {
      "cell_type": "code",
      "execution_count": 40,
      "metadata": {
        "id": "CMRA3fZroT-B"
      },
      "outputs": [],
      "source": [
        "TAG_RE = re.compile(r'<[^>]+>')\n",
        "def remove_tags(x):\n",
        "  return TAG_RE.sub('',x)"
      ]
    },
    {
      "cell_type": "code",
      "execution_count": 41,
      "metadata": {
        "colab": {
          "base_uri": "https://localhost:8080/",
          "height": 426
        },
        "id": "QcfvXw6koT-B",
        "outputId": "abe39429-7635-46c6-d355-95c4d42f2524"
      },
      "outputs": [
        {
          "data": {
            "text/html": [
              "<div>\n",
              "<style scoped>\n",
              "    .dataframe tbody tr th:only-of-type {\n",
              "        vertical-align: middle;\n",
              "    }\n",
              "\n",
              "    .dataframe tbody tr th {\n",
              "        vertical-align: top;\n",
              "    }\n",
              "\n",
              "    .dataframe thead th {\n",
              "        text-align: right;\n",
              "    }\n",
              "</style>\n",
              "<table border=\"1\" class=\"dataframe\">\n",
              "  <thead>\n",
              "    <tr style=\"text-align: right;\">\n",
              "      <th></th>\n",
              "      <th>website</th>\n",
              "      <th>description</th>\n",
              "      <th>LogoUrl</th>\n",
              "      <th>school</th>\n",
              "      <th>school_id</th>\n",
              "    </tr>\n",
              "  </thead>\n",
              "  <tbody>\n",
              "    <tr>\n",
              "      <th>0</th>\n",
              "      <td>www.springboard.com/?utm_source=switchup&amp;utm_m...</td>\n",
              "      <td>Springboard is an online learning platform tha...</td>\n",
              "      <td>https://d92mrp7hetgfk.cloudfront.net/images/si...</td>\n",
              "      <td>springboard</td>\n",
              "      <td>11035</td>\n",
              "    </tr>\n",
              "    <tr>\n",
              "      <th>0</th>\n",
              "      <td>www.dataquest.io</td>\n",
              "      <td>Master data skills. Build your career.Dataques...</td>\n",
              "      <td>https://d92mrp7hetgfk.cloudfront.net/images/si...</td>\n",
              "      <td>dataquest</td>\n",
              "      <td>10683</td>\n",
              "    </tr>\n",
              "    <tr>\n",
              "      <th>0</th>\n",
              "      <td>www.syntaxtechs.com/</td>\n",
              "      <td>Syntax Technologies is the world’s leading onl...</td>\n",
              "      <td>https://d92mrp7hetgfk.cloudfront.net/images/si...</td>\n",
              "      <td>syntax-technologies</td>\n",
              "      <td>11797</td>\n",
              "    </tr>\n",
              "    <tr>\n",
              "      <th>0</th>\n",
              "      <td>www.ironhack.com/en</td>\n",
              "      <td>Ironhack is a global tech school with 9 campus...</td>\n",
              "      <td>https://d92mrp7hetgfk.cloudfront.net/images/si...</td>\n",
              "      <td>ironhack</td>\n",
              "      <td>10828</td>\n",
              "    </tr>\n",
              "    <tr>\n",
              "      <th>0</th>\n",
              "      <td>tripleten.com/?utm_source=referral&amp;utm_medium=...</td>\n",
              "      <td>Tripleten changed their brand name from Practi...</td>\n",
              "      <td>https://d92mrp7hetgfk.cloudfront.net/images/si...</td>\n",
              "      <td>tripleten</td>\n",
              "      <td>11225</td>\n",
              "    </tr>\n",
              "    <tr>\n",
              "      <th>0</th>\n",
              "      <td>www.colaberry.com/</td>\n",
              "      <td>Colaberry offers instructor-led remote and sel...</td>\n",
              "      <td>https://d92mrp7hetgfk.cloudfront.net/images/si...</td>\n",
              "      <td>colaberry</td>\n",
              "      <td>11718</td>\n",
              "    </tr>\n",
              "    <tr>\n",
              "      <th>0</th>\n",
              "      <td>www.mavenanalytics.io/</td>\n",
              "      <td>Maven Analytics is an online, guided learning ...</td>\n",
              "      <td>https://d92mrp7hetgfk.cloudfront.net/images/si...</td>\n",
              "      <td>maven-analytics</td>\n",
              "      <td>11740</td>\n",
              "    </tr>\n",
              "    <tr>\n",
              "      <th>0</th>\n",
              "      <td>www.udacity.com/?utm_source=switchup&amp;utm_mediu...</td>\n",
              "      <td>Udacity is the trusted market leader in talent...</td>\n",
              "      <td>https://d92mrp7hetgfk.cloudfront.net/images/si...</td>\n",
              "      <td>udacity</td>\n",
              "      <td>11118</td>\n",
              "    </tr>\n",
              "    <tr>\n",
              "      <th>0</th>\n",
              "      <td>brainstation.io</td>\n",
              "      <td>BrainStation is the global leader in digital s...</td>\n",
              "      <td>https://d92mrp7hetgfk.cloudfront.net/images/si...</td>\n",
              "      <td>brainstation</td>\n",
              "      <td>10571</td>\n",
              "    </tr>\n",
              "    <tr>\n",
              "      <th>0</th>\n",
              "      <td>ccslearningacademy.com/</td>\n",
              "      <td>TECH TRAINING BY TECH PROFESSIONALSCCS Learnin...</td>\n",
              "      <td>https://d92mrp7hetgfk.cloudfront.net/images/si...</td>\n",
              "      <td>ccs-learning-academy</td>\n",
              "      <td>11736</td>\n",
              "    </tr>\n",
              "    <tr>\n",
              "      <th>0</th>\n",
              "      <td>thinkful.com/</td>\n",
              "      <td>Thinkful teaches students how to become equipp...</td>\n",
              "      <td>https://d92mrp7hetgfk.cloudfront.net/images/si...</td>\n",
              "      <td>thinkful</td>\n",
              "      <td>11098</td>\n",
              "    </tr>\n",
              "    <tr>\n",
              "      <th>0</th>\n",
              "      <td>generalassemb.ly?utm_source=switchup&amp;utm_mediu...</td>\n",
              "      <td>General Assembly is a global community of almo...</td>\n",
              "      <td>https://d92mrp7hetgfk.cloudfront.net/images/si...</td>\n",
              "      <td>general-assembly</td>\n",
              "      <td>10761</td>\n",
              "    </tr>\n",
              "  </tbody>\n",
              "</table>\n",
              "</div>"
            ],
            "text/plain": [
              "                                             website  \\\n",
              "0  www.springboard.com/?utm_source=switchup&utm_m...   \n",
              "0                                   www.dataquest.io   \n",
              "0                               www.syntaxtechs.com/   \n",
              "0                                www.ironhack.com/en   \n",
              "0  tripleten.com/?utm_source=referral&utm_medium=...   \n",
              "0                                 www.colaberry.com/   \n",
              "0                             www.mavenanalytics.io/   \n",
              "0  www.udacity.com/?utm_source=switchup&utm_mediu...   \n",
              "0                                    brainstation.io   \n",
              "0                            ccslearningacademy.com/   \n",
              "0                                      thinkful.com/   \n",
              "0  generalassemb.ly?utm_source=switchup&utm_mediu...   \n",
              "\n",
              "                                         description  \\\n",
              "0  Springboard is an online learning platform tha...   \n",
              "0  Master data skills. Build your career.Dataques...   \n",
              "0  Syntax Technologies is the world’s leading onl...   \n",
              "0  Ironhack is a global tech school with 9 campus...   \n",
              "0  Tripleten changed their brand name from Practi...   \n",
              "0  Colaberry offers instructor-led remote and sel...   \n",
              "0  Maven Analytics is an online, guided learning ...   \n",
              "0  Udacity is the trusted market leader in talent...   \n",
              "0  BrainStation is the global leader in digital s...   \n",
              "0  TECH TRAINING BY TECH PROFESSIONALSCCS Learnin...   \n",
              "0  Thinkful teaches students how to become equipp...   \n",
              "0  General Assembly is a global community of almo...   \n",
              "\n",
              "                                             LogoUrl                school  \\\n",
              "0  https://d92mrp7hetgfk.cloudfront.net/images/si...           springboard   \n",
              "0  https://d92mrp7hetgfk.cloudfront.net/images/si...             dataquest   \n",
              "0  https://d92mrp7hetgfk.cloudfront.net/images/si...   syntax-technologies   \n",
              "0  https://d92mrp7hetgfk.cloudfront.net/images/si...              ironhack   \n",
              "0  https://d92mrp7hetgfk.cloudfront.net/images/si...             tripleten   \n",
              "0  https://d92mrp7hetgfk.cloudfront.net/images/si...             colaberry   \n",
              "0  https://d92mrp7hetgfk.cloudfront.net/images/si...       maven-analytics   \n",
              "0  https://d92mrp7hetgfk.cloudfront.net/images/si...               udacity   \n",
              "0  https://d92mrp7hetgfk.cloudfront.net/images/si...          brainstation   \n",
              "0  https://d92mrp7hetgfk.cloudfront.net/images/si...  ccs-learning-academy   \n",
              "0  https://d92mrp7hetgfk.cloudfront.net/images/si...              thinkful   \n",
              "0  https://d92mrp7hetgfk.cloudfront.net/images/si...      general-assembly   \n",
              "\n",
              "   school_id  \n",
              "0      11035  \n",
              "0      10683  \n",
              "0      11797  \n",
              "0      10828  \n",
              "0      11225  \n",
              "0      11718  \n",
              "0      11740  \n",
              "0      11118  \n",
              "0      10571  \n",
              "0      11736  \n",
              "0      11098  \n",
              "0      10761  "
            ]
          },
          "execution_count": 41,
          "metadata": {},
          "output_type": "execute_result"
        }
      ],
      "source": [
        "schools['description'] = schools['description'].apply(remove_tags)\n",
        "schools"
      ]
    },
    {
      "cell_type": "code",
      "execution_count": 42,
      "metadata": {
        "colab": {
          "base_uri": "https://localhost:8080/"
        },
        "id": "S_kMu5zloT-B",
        "outputId": "58c088d3-9dab-4578-98cf-0fe2bd6aec85"
      },
      "outputs": [
        {
          "data": {
            "text/plain": [
              "Index(['website', 'description', 'LogoUrl', 'school', 'school_id'], dtype='object')"
            ]
          },
          "execution_count": 42,
          "metadata": {},
          "output_type": "execute_result"
        }
      ],
      "source": [
        "schools.columns"
      ]
    },
    {
      "cell_type": "code",
      "execution_count": 43,
      "metadata": {
        "id": "58zpoHZRF9Ka"
      },
      "outputs": [],
      "source": [
        "# For our analysis to be effective we need to retrieve the price of each course.\n",
        "# That is done with the following loop."
      ]
    },
    {
      "cell_type": "code",
      "execution_count": 44,
      "metadata": {
        "id": "dFycZVFuoT-C"
      },
      "outputs": [],
      "source": [
        "# Create an empty list to store the data\n",
        "course_prices_list = []\n",
        "\n",
        "for school_name in school_list:\n",
        "    url = f\"https://www.switchup.org/bootcamps/{school_name.lower().replace(' ', '-')}\"\n",
        "    headers = {'User-Agent': 'Mozilla/5.0 (Windows NT 10.0; Win64; x64) AppleWebKit/537.36 (KHTML, like Gecko) Chrome/111.0.0.0 Safari/537.36'}\n",
        "\n",
        "    try:\n",
        "        response = requests.get(url, headers=headers)\n",
        "\n",
        "        if response.status_code == 200:\n",
        "            soup = BeautifulSoup(response.text, 'html.parser')\n",
        "\n",
        "            # Find all course__inner elements\n",
        "            course_inners = soup.find_all('div', class_='course__inner')\n",
        "\n",
        "            if course_inners:\n",
        "                # Iterate over each course__inner element\n",
        "                for course_inner in course_inners:\n",
        "\n",
        "                    # Extract school name\n",
        "                    school_name = school_name\n",
        "\n",
        "                    # Extract course name\n",
        "                    course_name = course_inner.find('h4').text.strip()\n",
        "\n",
        "                    # Extract cost information\n",
        "                    cost_div = course_inner.find('div', class_='cost')\n",
        "                    if cost_div:\n",
        "                        cost = cost_div.find('span').text.strip()\n",
        "                    else:\n",
        "                        cost = \"Not found\"\n",
        "\n",
        "                    # Append data to the list\n",
        "                    course_prices_list.append({\n",
        "                        'school': school_name,\n",
        "                        'course': course_name,\n",
        "                        'price': cost})\n",
        "\n",
        "            else:\n",
        "                print(f\"{school_name}: Not found\")\n",
        "\n",
        "    except requests.RequestException as e:\n",
        "        print(f\"Error for {school_name}: {e}\")\n",
        "\n",
        "    except Exception as e:\n",
        "        print(f\"An unexpected error occurred: {e}\")\n",
        "\n",
        "# Create a DataFrame from the list of dictionaries\n",
        "course_prices = pd.DataFrame(course_prices_list)\n"
      ]
    },
    {
      "cell_type": "code",
      "execution_count": 45,
      "metadata": {
        "colab": {
          "base_uri": "https://localhost:8080/"
        },
        "id": "edW_ILe5oT-C",
        "outputId": "e499cb26-0e7f-4409-d1ff-bec611d6853e"
      },
      "outputs": [
        {
          "data": {
            "text/plain": [
              "school    object\n",
              "course    object\n",
              "price     object\n",
              "dtype: object"
            ]
          },
          "execution_count": 45,
          "metadata": {},
          "output_type": "execute_result"
        }
      ],
      "source": [
        "course_prices.dtypes"
      ]
    },
    {
      "cell_type": "code",
      "execution_count": 46,
      "metadata": {
        "colab": {
          "base_uri": "https://localhost:8080/"
        },
        "id": "UVtzEeIhoT-C",
        "outputId": "24cffea6-0501-472c-99a6-8085553c898f"
      },
      "outputs": [
        {
          "data": {
            "text/plain": [
              "$4,500               5\n",
              "$3,250               5\n",
              "Not found            4\n",
              "$3,950               4\n",
              "$9,900               4\n",
              "$1,077               4\n",
              "$9,500               3\n",
              "$16,450              3\n",
              "$1,436               3\n",
              "€7,500               3\n",
              "$16,500              2\n",
              "$2,154               2\n",
              "$4,900               2\n",
              "$9,700               2\n",
              "$13,000              2\n",
              "$12,000              2\n",
              "$29                  2\n",
              "$349                 2\n",
              "$7,995               1\n",
              "$16,000              1\n",
              "$12,250              1\n",
              "$8,000               1\n",
              "$8,995               1\n",
              "$6,500               1\n",
              "$12,150              1\n",
              "$11,995              1\n",
              "$718                 1\n",
              "$12,995              1\n",
              "$7,499               1\n",
              "$1,500   - $4,000    1\n",
              "$1,999               1\n",
              "$6,900               1\n",
              "$7,900               1\n",
              "€8,000               1\n",
              "$5,900               1\n",
              "$490                 1\n",
              "$8,500               1\n",
              "$3,500               1\n",
              "Name: price, dtype: int64"
            ]
          },
          "execution_count": 46,
          "metadata": {},
          "output_type": "execute_result"
        }
      ],
      "source": [
        "course_prices.price.value_counts()"
      ]
    },
    {
      "cell_type": "code",
      "execution_count": 47,
      "metadata": {
        "id": "7kULq9_1oT-C"
      },
      "outputs": [],
      "source": [
        "# formatting the prices to make it easier to transform them in numbers - and also keep special charchters out of SQL avoiding importing issues....\n",
        "course_prices['price'] = course_prices['price'].replace('[\\$,]', '', regex=True)"
      ]
    },
    {
      "cell_type": "code",
      "execution_count": 48,
      "metadata": {
        "id": "aHdH5MjqojGQ"
      },
      "outputs": [],
      "source": [
        "course_prices['price'] = course_prices['price'].replace('[\\€,]', '', regex=True)"
      ]
    },
    {
      "cell_type": "code",
      "execution_count": 49,
      "metadata": {
        "colab": {
          "base_uri": "https://localhost:8080/"
        },
        "id": "V3w7vUA9oT-C",
        "outputId": "07c77079-bc6c-4bd1-8225-8b15013d1d8e"
      },
      "outputs": [
        {
          "data": {
            "text/plain": [
              "0     Not found\n",
              "1          9900\n",
              "2          8500\n",
              "3          9900\n",
              "4           490\n",
              "        ...    \n",
              "69         4500\n",
              "70         4500\n",
              "71         4500\n",
              "72         3500\n",
              "73        16450\n",
              "Name: price, Length: 74, dtype: object"
            ]
          },
          "execution_count": 49,
          "metadata": {},
          "output_type": "execute_result"
        }
      ],
      "source": [
        "course_prices.price"
      ]
    },
    {
      "cell_type": "code",
      "execution_count": 50,
      "metadata": {
        "colab": {
          "base_uri": "https://localhost:8080/",
          "height": 424
        },
        "id": "ybUvH3sroT-C",
        "outputId": "fe7109d7-587a-456c-b397-ca66343959d1"
      },
      "outputs": [
        {
          "data": {
            "text/html": [
              "<div>\n",
              "<style scoped>\n",
              "    .dataframe tbody tr th:only-of-type {\n",
              "        vertical-align: middle;\n",
              "    }\n",
              "\n",
              "    .dataframe tbody tr th {\n",
              "        vertical-align: top;\n",
              "    }\n",
              "\n",
              "    .dataframe thead th {\n",
              "        text-align: right;\n",
              "    }\n",
              "</style>\n",
              "<table border=\"1\" class=\"dataframe\">\n",
              "  <thead>\n",
              "    <tr style=\"text-align: right;\">\n",
              "      <th></th>\n",
              "      <th>school</th>\n",
              "      <th>course</th>\n",
              "      <th>price</th>\n",
              "    </tr>\n",
              "  </thead>\n",
              "  <tbody>\n",
              "    <tr>\n",
              "      <th>0</th>\n",
              "      <td>Springboard</td>\n",
              "      <td>Front-End Web Development</td>\n",
              "      <td>Not found</td>\n",
              "    </tr>\n",
              "    <tr>\n",
              "      <th>1</th>\n",
              "      <td>Springboard</td>\n",
              "      <td>Cyber Security Career Track</td>\n",
              "      <td>9900</td>\n",
              "    </tr>\n",
              "    <tr>\n",
              "      <th>2</th>\n",
              "      <td>Springboard</td>\n",
              "      <td>Data Analytics Career Track</td>\n",
              "      <td>8500</td>\n",
              "    </tr>\n",
              "    <tr>\n",
              "      <th>3</th>\n",
              "      <td>Springboard</td>\n",
              "      <td>Data Science Career Track</td>\n",
              "      <td>9900</td>\n",
              "    </tr>\n",
              "    <tr>\n",
              "      <th>4</th>\n",
              "      <td>Springboard</td>\n",
              "      <td>Data Science Career Track Prep</td>\n",
              "      <td>490</td>\n",
              "    </tr>\n",
              "    <tr>\n",
              "      <th>...</th>\n",
              "      <td>...</td>\n",
              "      <td>...</td>\n",
              "      <td>...</td>\n",
              "    </tr>\n",
              "    <tr>\n",
              "      <th>69</th>\n",
              "      <td>General Assembly</td>\n",
              "      <td>User Experience Design (Short Course)</td>\n",
              "      <td>4500</td>\n",
              "    </tr>\n",
              "    <tr>\n",
              "      <th>70</th>\n",
              "      <td>General Assembly</td>\n",
              "      <td>Front-End Web Development (Short Course)</td>\n",
              "      <td>4500</td>\n",
              "    </tr>\n",
              "    <tr>\n",
              "      <th>71</th>\n",
              "      <td>General Assembly</td>\n",
              "      <td>Product Management (Short Course)</td>\n",
              "      <td>4500</td>\n",
              "    </tr>\n",
              "    <tr>\n",
              "      <th>72</th>\n",
              "      <td>General Assembly</td>\n",
              "      <td>Visual Design (Short Course)</td>\n",
              "      <td>3500</td>\n",
              "    </tr>\n",
              "    <tr>\n",
              "      <th>73</th>\n",
              "      <td>General Assembly</td>\n",
              "      <td>Data Science Bootcamp (Full-Time)</td>\n",
              "      <td>16450</td>\n",
              "    </tr>\n",
              "  </tbody>\n",
              "</table>\n",
              "<p>74 rows × 3 columns</p>\n",
              "</div>"
            ],
            "text/plain": [
              "              school                                    course      price\n",
              "0        Springboard                 Front-End Web Development  Not found\n",
              "1        Springboard               Cyber Security Career Track       9900\n",
              "2        Springboard               Data Analytics Career Track       8500\n",
              "3        Springboard                 Data Science Career Track       9900\n",
              "4        Springboard            Data Science Career Track Prep        490\n",
              "..               ...                                       ...        ...\n",
              "69  General Assembly     User Experience Design (Short Course)       4500\n",
              "70  General Assembly  Front-End Web Development (Short Course)       4500\n",
              "71  General Assembly         Product Management (Short Course)       4500\n",
              "72  General Assembly              Visual Design (Short Course)       3500\n",
              "73  General Assembly         Data Science Bootcamp (Full-Time)      16450\n",
              "\n",
              "[74 rows x 3 columns]"
            ]
          },
          "execution_count": 50,
          "metadata": {},
          "output_type": "execute_result"
        }
      ],
      "source": [
        "course_prices"
      ]
    },
    {
      "cell_type": "code",
      "execution_count": 51,
      "metadata": {
        "id": "1Y7jr_3zoT-D"
      },
      "outputs": [],
      "source": [
        "# uniforming the values in the column school with the values in the same column of our previous dataframes\n",
        "course_prices['school'] = course_prices['school'].str.lower().str.replace(' ','-')"
      ]
    },
    {
      "cell_type": "code",
      "execution_count": 52,
      "metadata": {
        "colab": {
          "base_uri": "https://localhost:8080/"
        },
        "id": "9UXfOUF6oT-D",
        "outputId": "7c0709c4-a65c-41ca-8ea0-a0ca31b5a2b9"
      },
      "outputs": [
        {
          "data": {
            "text/plain": [
              "{'springboard': 11035,\n",
              " 'dataquest': 10683,\n",
              " 'syntax-technologies': 11797,\n",
              " 'ironhack': 10828,\n",
              " 'tripleten': 11225,\n",
              " 'colaberry': 11718,\n",
              " 'maven-analytics': 11740,\n",
              " 'udacity': 11118,\n",
              " 'brainstation': 10571,\n",
              " 'ccs-learning-academy': 11736,\n",
              " 'thinkful': 11098,\n",
              " 'general-assembly': 10761}"
            ]
          },
          "execution_count": 52,
          "metadata": {},
          "output_type": "execute_result"
        }
      ],
      "source": [
        "school_id_dict"
      ]
    },
    {
      "cell_type": "code",
      "execution_count": 53,
      "metadata": {
        "colab": {
          "base_uri": "https://localhost:8080/",
          "height": 424
        },
        "id": "jYaOHMs7oT-D",
        "outputId": "a2043714-b16c-412d-cb6a-7daab39ca35c"
      },
      "outputs": [
        {
          "data": {
            "text/html": [
              "<div>\n",
              "<style scoped>\n",
              "    .dataframe tbody tr th:only-of-type {\n",
              "        vertical-align: middle;\n",
              "    }\n",
              "\n",
              "    .dataframe tbody tr th {\n",
              "        vertical-align: top;\n",
              "    }\n",
              "\n",
              "    .dataframe thead th {\n",
              "        text-align: right;\n",
              "    }\n",
              "</style>\n",
              "<table border=\"1\" class=\"dataframe\">\n",
              "  <thead>\n",
              "    <tr style=\"text-align: right;\">\n",
              "      <th></th>\n",
              "      <th>school</th>\n",
              "      <th>course</th>\n",
              "      <th>price</th>\n",
              "      <th>school_id</th>\n",
              "    </tr>\n",
              "  </thead>\n",
              "  <tbody>\n",
              "    <tr>\n",
              "      <th>0</th>\n",
              "      <td>springboard</td>\n",
              "      <td>Front-End Web Development</td>\n",
              "      <td>Not found</td>\n",
              "      <td>11035</td>\n",
              "    </tr>\n",
              "    <tr>\n",
              "      <th>1</th>\n",
              "      <td>springboard</td>\n",
              "      <td>Cyber Security Career Track</td>\n",
              "      <td>9900</td>\n",
              "      <td>11035</td>\n",
              "    </tr>\n",
              "    <tr>\n",
              "      <th>2</th>\n",
              "      <td>springboard</td>\n",
              "      <td>Data Analytics Career Track</td>\n",
              "      <td>8500</td>\n",
              "      <td>11035</td>\n",
              "    </tr>\n",
              "    <tr>\n",
              "      <th>3</th>\n",
              "      <td>springboard</td>\n",
              "      <td>Data Science Career Track</td>\n",
              "      <td>9900</td>\n",
              "      <td>11035</td>\n",
              "    </tr>\n",
              "    <tr>\n",
              "      <th>4</th>\n",
              "      <td>springboard</td>\n",
              "      <td>Data Science Career Track Prep</td>\n",
              "      <td>490</td>\n",
              "      <td>11035</td>\n",
              "    </tr>\n",
              "    <tr>\n",
              "      <th>...</th>\n",
              "      <td>...</td>\n",
              "      <td>...</td>\n",
              "      <td>...</td>\n",
              "      <td>...</td>\n",
              "    </tr>\n",
              "    <tr>\n",
              "      <th>69</th>\n",
              "      <td>general-assembly</td>\n",
              "      <td>User Experience Design (Short Course)</td>\n",
              "      <td>4500</td>\n",
              "      <td>10761</td>\n",
              "    </tr>\n",
              "    <tr>\n",
              "      <th>70</th>\n",
              "      <td>general-assembly</td>\n",
              "      <td>Front-End Web Development (Short Course)</td>\n",
              "      <td>4500</td>\n",
              "      <td>10761</td>\n",
              "    </tr>\n",
              "    <tr>\n",
              "      <th>71</th>\n",
              "      <td>general-assembly</td>\n",
              "      <td>Product Management (Short Course)</td>\n",
              "      <td>4500</td>\n",
              "      <td>10761</td>\n",
              "    </tr>\n",
              "    <tr>\n",
              "      <th>72</th>\n",
              "      <td>general-assembly</td>\n",
              "      <td>Visual Design (Short Course)</td>\n",
              "      <td>3500</td>\n",
              "      <td>10761</td>\n",
              "    </tr>\n",
              "    <tr>\n",
              "      <th>73</th>\n",
              "      <td>general-assembly</td>\n",
              "      <td>Data Science Bootcamp (Full-Time)</td>\n",
              "      <td>16450</td>\n",
              "      <td>10761</td>\n",
              "    </tr>\n",
              "  </tbody>\n",
              "</table>\n",
              "<p>74 rows × 4 columns</p>\n",
              "</div>"
            ],
            "text/plain": [
              "              school                                    course      price  \\\n",
              "0        springboard                 Front-End Web Development  Not found   \n",
              "1        springboard               Cyber Security Career Track       9900   \n",
              "2        springboard               Data Analytics Career Track       8500   \n",
              "3        springboard                 Data Science Career Track       9900   \n",
              "4        springboard            Data Science Career Track Prep        490   \n",
              "..               ...                                       ...        ...   \n",
              "69  general-assembly     User Experience Design (Short Course)       4500   \n",
              "70  general-assembly  Front-End Web Development (Short Course)       4500   \n",
              "71  general-assembly         Product Management (Short Course)       4500   \n",
              "72  general-assembly              Visual Design (Short Course)       3500   \n",
              "73  general-assembly         Data Science Bootcamp (Full-Time)      16450   \n",
              "\n",
              "    school_id  \n",
              "0       11035  \n",
              "1       11035  \n",
              "2       11035  \n",
              "3       11035  \n",
              "4       11035  \n",
              "..        ...  \n",
              "69      10761  \n",
              "70      10761  \n",
              "71      10761  \n",
              "72      10761  \n",
              "73      10761  \n",
              "\n",
              "[74 rows x 4 columns]"
            ]
          },
          "execution_count": 53,
          "metadata": {},
          "output_type": "execute_result"
        }
      ],
      "source": [
        "course_prices['school_id'] = course_prices['school'].map(school_id_dict)\n",
        "course_prices"
      ]
    },
    {
      "cell_type": "code",
      "execution_count": 54,
      "metadata": {
        "id": "93GO42K0oT-D"
      },
      "outputs": [],
      "source": [
        "comments.to_csv('comments_draft.csv', index=False)\n",
        "schools.to_csv('schools.csv', index=False)\n",
        "badges.to_csv('badges.csv', index=False)\n",
        "locations.to_csv('locations.csv', index=False)\n",
        "courses.to_csv('courses.csv', index=False)\n",
        "course_prices.to_csv('course_prices.csv', index=False)"
      ]
    }
  ],
  "metadata": {
    "colab": {
      "provenance": []
    },
    "kernelspec": {
      "display_name": "Python 3",
      "language": "python",
      "name": "python3"
    },
    "language_info": {
      "codemirror_mode": {
        "name": "ipython",
        "version": 3
      },
      "file_extension": ".py",
      "mimetype": "text/x-python",
      "name": "python",
      "nbconvert_exporter": "python",
      "pygments_lexer": "ipython3",
      "version": "3.11.4"
    }
  },
  "nbformat": 4,
  "nbformat_minor": 0
}
