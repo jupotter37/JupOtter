{
 "cells": [
  {
   "cell_type": "markdown",
   "metadata": {},
   "source": [
    "# Find full-time software engineering jobs in US that require AWS skills\n",
    "\n",
    "Learn how to use Exfunc and OpenAI to find full-time jobs on LinkedIn.\n",
    "\n",
    "## Getting Started\n",
    "\n",
    "### Install packages"
   ]
  },
  {
   "cell_type": "code",
   "execution_count": null,
   "metadata": {},
   "outputs": [],
   "source": [
    "!pip install exfunc openai"
   ]
  },
  {
   "cell_type": "markdown",
   "metadata": {},
   "source": [
    "### Configure API keys\n",
    "\n",
    "You will need to provide API keys. You can get your Exfunc API key [here](https://exfunc.com) and your OpenAI API key [here](https://www.openai.com/).\n",
    "\n",
    "Ensure both API keys are accessible in your local environment."
   ]
  },
  {
   "cell_type": "code",
   "execution_count": null,
   "metadata": {},
   "outputs": [],
   "source": [
    "import getpass\n",
    "import os\n",
    "\n",
    "if \"OPENAI_API_KEY\" not in os.environ:\n",
    "    os.environ[\"OPENAI_API_KEY\"] = getpass.getpass(\"OpenAI API key:\\n\")\n",
    "if \"EXFUNC_API_KEY\" not in os.environ:\n",
    "    os.environ[\"EXFUNC_API_KEY\"] = getpass.getpass(\"Exfunc API key:\\n\")"
   ]
  },
  {
   "cell_type": "markdown",
   "metadata": {},
   "source": [
    "### Configure clients"
   ]
  },
  {
   "cell_type": "code",
   "execution_count": null,
   "metadata": {},
   "outputs": [],
   "source": [
    "from exfunc import Exfunc\n",
    "from openai import OpenAI\n",
    "\n",
    "exfunc = Exfunc()\n",
    "openai = OpenAI()"
   ]
  },
  {
   "cell_type": "markdown",
   "metadata": {},
   "source": [
    "## Finding full-time AWS jobs\n",
    "\n",
    "### Search jobs"
   ]
  },
  {
   "cell_type": "code",
   "execution_count": null,
   "metadata": {},
   "outputs": [],
   "source": [
    "response = exfunc.linkedin.search_job_postings(request={\n",
    "    \"keywords\": \"software engineer\",\n",
    "    \"location\": \"united states\",\n",
    "    \"job_type\": \"Full-time\",\n",
    "    \"page\": 1\n",
    "})\n",
    "job_posting_linkedin_urls = [job_posting.url for job_posting in response.job_postings]"
   ]
  },
  {
   "cell_type": "markdown",
   "metadata": {},
   "source": [
    "### Get job details"
   ]
  },
  {
   "cell_type": "code",
   "execution_count": null,
   "metadata": {},
   "outputs": [],
   "source": [
    "from concurrent.futures import ThreadPoolExecutor\n",
    "\n",
    "def get_job_posting(job_posting_url):\n",
    "    try:\n",
    "        response = exfunc.linkedin.get_job_posting(request={\"job_posting_url\": job_posting_url})\n",
    "        return response.job_posting\n",
    "    except:\n",
    "        return None\n",
    "\n",
    "job_postings = []\n",
    "with ThreadPoolExecutor(max_workers=min(10, len(job_posting_linkedin_urls))) as executor:\n",
    "    for job_posting in executor.map(get_job_posting, job_posting_linkedin_urls):\n",
    "        if job_posting:\n",
    "            job_postings.append(job_posting)"
   ]
  },
  {
   "cell_type": "markdown",
   "metadata": {},
   "source": [
    "### Filter jobs that require AWS skills"
   ]
  },
  {
   "cell_type": "code",
   "execution_count": null,
   "metadata": {},
   "outputs": [],
   "source": [
    "from concurrent.futures import ThreadPoolExecutor\n",
    "\n",
    "def qualify_job_posting(job_posting):\n",
    "    prompt = f\"Answer True or False: does the following job description match a full-time software engineering job that requires AWS skills?\\n\\nJob description:\\n{job_posting.description}\\n\"\n",
    "    response = openai.chat.completions.create(\n",
    "        messages=[{\"role\": \"user\", \"content\": prompt}],\n",
    "        model=\"gpt-4o-mini\",\n",
    "        temperature=0,\n",
    "    )\n",
    "    completion = response.choices[0].message.content.strip()\n",
    "    return \"true\" in completion.lower()\n",
    "\n",
    "qualified_job_postings = []\n",
    "with ThreadPoolExecutor(max_workers=min(10, len(job_postings))) as executor:\n",
    "    for i, is_qualified in enumerate(executor.map(qualify_job_posting, job_postings)):\n",
    "        if is_qualified:\n",
    "            qualified_job_postings.append(job_postings[i])"
   ]
  },
  {
   "cell_type": "markdown",
   "metadata": {},
   "source": [
    "### View results"
   ]
  },
  {
   "cell_type": "code",
   "execution_count": null,
   "metadata": {
    "scrolled": true
   },
   "outputs": [],
   "source": [
    "import pandas as pd\n",
    "\n",
    "records = [job_posting.model_dump() for job_posting in qualified_job_postings]\n",
    "\n",
    "df = pd.DataFrame.from_records(records)\n",
    "df"
   ]
  },
  {
   "cell_type": "markdown",
   "metadata": {},
   "source": [
    "## Conclusion\n",
    "\n",
    "You have now built a list of full-time software engineering jobs in US that require AWS skills.\n",
    "\n",
    "If you have any questions or need help, feel free to reach out to us at support@exfunc.com"
   ]
  }
 ],
 "metadata": {
  "kernelspec": {
   "display_name": "Python 3 (ipykernel)",
   "language": "python",
   "name": "python3"
  },
  "language_info": {
   "codemirror_mode": {
    "name": "ipython",
    "version": 3
   },
   "file_extension": ".py",
   "mimetype": "text/x-python",
   "name": "python",
   "nbconvert_exporter": "python",
   "pygments_lexer": "ipython3",
   "version": "3.11.4"
  }
 },
 "nbformat": 4,
 "nbformat_minor": 4
}
