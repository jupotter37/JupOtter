{
 "cells": [
  {
   "cell_type": "code",
   "execution_count": 1,
   "metadata": {},
   "outputs": [],
   "source": [
    "import newspaper as np\n",
    "from dateutil.parser import parse\n",
    "from roundup_db1 import Entry, Category, Keyword, Publication, Author, Section, DataAccessLayer\n",
    "from sqlalchemy import func\n",
    "import app,roundup_help\n",
    "import sys, glob, datetime, os\n",
    "import BTCInput2 as btc\n",
    "import itertools as it\n",
    "import warnings, functools, pprint\n",
    "import csv\n",
    "import cmd2\n",
    "import argparse\n",
    "from collections import namedtuple"
   ]
  },
  {
   "cell_type": "code",
   "execution_count": 2,
   "metadata": {},
   "outputs": [],
   "source": [
    "'''Note: not all of these commands will end up being included in the final\n",
    "command line interface.\n",
    "\n",
    "Note for 2/7/20: Add WrappedHTMLFormat properties to each class that we have created.'''\n",
    "\n",
    "class RoundupCMD(cmd2.Cmd):\n",
    "    '''\n",
    "    The actual content of the commands should be moved to the app.py file.\n",
    "    '''\n",
    "    prompt='NewsRoundup'\n",
    "    intro='Welcome to LanguageRoundup, powered by SQLAlchemy'\n",
    "    \n",
    "    def __init__(self):\n",
    "        super().__init__()\n",
    "    \n",
    "    add_parser = argparse.ArgumentParser()\n",
    "    add_parser.add_argument('-l', '--url', help='article url')\n",
    "    add_parser.add_argument('-c', '--category_id',\n",
    "            help='category id, type display_categories to view category ids')\n",
    "    add_parser.add_argument('-d', '--date', help='date of article')\n",
    "    \n",
    "    @cmd2.with_argparser(add_parser)\n",
    "    def do_add_article(self, args):\n",
    "        '''Adds a new article to the roundup.\n",
    "        User can add category_id and date as optional arguments'''\n",
    "        if not args.category_id:\n",
    "            category_id = None\n",
    "        else:\n",
    "            category_id = args.category_id\n",
    "        if not args.date:\n",
    "            date = None\n",
    "        else:\n",
    "            date = parse(args.date).date()\n",
    "        app.add_entry(url=args.url, category_id=category_id, date=date,\n",
    "                     session=a.d.session)\n",
    "    \n",
    "    qa_parser = argparse.ArgumentParser()\n",
    "    qa_parser.add_argument('-l', '--url', help='url of article')\n",
    "    qa_parser.add_argument('-c', '--category_id', help='category id e.g. Comoros is 1')\n",
    "    qa_parser.add_argument('-d','--date', help='article date')\n",
    "    qa_parser.add_argument('-desc',  '--description', nargs='*',\n",
    "                           help='article description (optional)')\n",
    "    \n",
    "    @cmd2.with_argparser(qa_parser)\n",
    "    def do_qa(self, args):\n",
    "        '''Adds an article with a single type of the command line. \n",
    "        quick_add url cat_id date'''\n",
    "        if not args.description:\n",
    "            app.qa(session=a.d.session, url=args.url, category_id=args.category_id, date=args.date)\n",
    "        else:\n",
    "            app.qa(session=a.d.session, url=args.url, category_id=args.category_id,\n",
    "                   date=args.date, description=' '.join(args.description))\n",
    "        \n",
    "    cat_parser = argparse.ArgumentParser()\n",
    "    cat_parser.add_argument('-n', '--name', nargs='+', help='name of new category')\n",
    "    cat_parser.add_argument('-s', '--section_id', help='id of the section the category is in')\n",
    "    \n",
    "    @cmd2.with_argparser(cat_parser)\n",
    "    def do_add_category(self, args):\n",
    "        '''Adds a new category'''\n",
    "        app.add_pub_or_cat(session=a.d.session, new_name=' '.join(args.name),\n",
    "                           second_item=args.section_id, add_type='category')\n",
    "    \n",
    "    def do_add_keyword(self, line):\n",
    "        warnings.warn('add_keyword not yet implemented')\n",
    "        #app.add_keyword(session=a.d.session, keyword_text=line)\n",
    "        app.add_item(session=a.d.session, search_type='keyword', new_name=line)\n",
    "        \n",
    "    def help_add_keyword(self, line):\n",
    "        print('Not implemented yet; you can add keywords when adding articles')\n",
    "    \n",
    "    def do_add_keyword_to_article(self, line):\n",
    "        warnings.warn('add_keyword_to_article not yet complete')\n",
    "        app.add_keyword_to_article(session=a.d.session, entry_id=line)\n",
    "        \n",
    "    def help_add_keyword_to_article(self):\n",
    "        print('searches by article and lets the user add keywords to it')\n",
    "        print('e.g. add_keyword_to_article 4')\n",
    "        print('lets the user cycle through keywords and add one to the article')\n",
    "    \n",
    "    pub_parser = argparse.ArgumentParser()\n",
    "    pub_parser.add_argument('-t', '--title', nargs='+', help='title of publication')\n",
    "    pub_parser.add_argument('-l', '--url', help='link to publication home page')\n",
    "    \n",
    "    @cmd2.with_argparser(pub_parser)\n",
    "    def do_add_publication(self, args):\n",
    "        '''Adds a new publication'''\n",
    "        app.add_pub_or_cat(session=a.d.session, new_name=' '.join(args.title),\n",
    "                           second_item=args.url, add_type='publication')\n",
    "    \n",
    "    sec_parser = argparse.ArgumentParser()\n",
    "    sec_parser.add_argument('-n', '--section_name', nargs='+', help='name of section')\n",
    "    \n",
    "    @cmd2.with_argparser(sec_parser)\n",
    "    def do_add_section(self, args):\n",
    "        '''Adds a new section to the roundup'''\n",
    "        warnings.warn('add_section not yet tested')\n",
    "        app.add_item(session=a.d.session, search_type='section',\n",
    "                     new_name=' '.join(args.section_name))\n",
    "    \n",
    "    def do_search_exact_name(self, line):\n",
    "        app.search_exact_name(line=line, session=a.d.session)\n",
    "        \n",
    "    def help_search_exact_name(self):\n",
    "        roundup_help.search_exact_name_help()\n",
    "    \n",
    "    id_search_parser = argparse.ArgumentParser()\n",
    "    id_search_parser.add_argument('-st', '--search_type', help='type of search')\n",
    "    id_search_parser.add_argument('-id', '--item_id', help='numerical id of item')\n",
    "    \n",
    "    @cmd2.with_argparser(id_search_parser)\n",
    "    def do_search_by_id(self, args):\n",
    "        '''Search by id, with search types entry, category, publication, section, and author'''\n",
    "        app.search_by_id(search_type=args.search_type, item_id=args.item_id, session=a.d.session)\n",
    "    \n",
    "    def do_name_search(self, line):\n",
    "        '''Searches for items using the name'''\n",
    "        warnings.warn('name_search not tested yet')\n",
    "        app.name_search(session=a.d.session, line=line)\n",
    "    \n",
    "    def do_get_entries_by_category(self, line):\n",
    "        '''We will replace this command, but I am keeping it here\n",
    "        to observe its syntax when writing other commands'''\n",
    "        app.get_entries_by_category(session=a.d.session, line=line)\n",
    "        \n",
    "    def help_get_entries_by_category(self):\n",
    "        print(\"Enter a category name, and the program will find all entries\")\n",
    "        print(\"in that category.\")\n",
    "    \n",
    "    #move the division of the line from the app.py file to this notebook\n",
    "    \n",
    "    count_parser = argparse.ArgumentParser()\n",
    "    count_parser.add_argument('-d','--date_range', nargs=2, help='start date, end_date')\n",
    "    \n",
    "    @cmd2.with_argparser(count_parser)\n",
    "    def do_article_count(self, args):\n",
    "        app.date_range_count(session=a.d.session,\n",
    "                             start_date = args.date_range[0],\n",
    "                            end_date = args.date_range[1])\n",
    "        \n",
    "    def help_article_count(self):\n",
    "        roundup_help.article_count_help()\n",
    "    \n",
    "    @cmd2.with_argparser(count_parser)\n",
    "    def do_articles_needed(self, args):\n",
    "        app.articles_needed(start_date=args.date_range[0],\n",
    "                            end_date=args.date_range[1],\n",
    "                            session=a.d.session)\n",
    "    \n",
    "    def do_edit_entry(self, line):\n",
    "        app.edit_entry(session=a.d.session, entry_id=line)\n",
    "        \n",
    "    def help_edit_entry(self):\n",
    "        roundup_help.edit_entry_help()\n",
    "    \n",
    "    del_parser = argparse.ArgumentParser()\n",
    "    del_parser.add_argument('-ty', '--item_type',\n",
    "                            help='item type e.g. entry, category, section, author, publication')\n",
    "    del_parser.add_argument('-id', '--id_value', help='item id')\n",
    "    \n",
    "    @cmd2.with_argparser(del_parser)\n",
    "    def do_delete_item(self, args):\n",
    "        '''Delete item '''\n",
    "        warnings.warn('Unified delete function not fully tested')\n",
    "        app.delete_item(session=a.d.session, model=args.item_type, id_value=args.id_value)\n",
    "        \n",
    "    def do_delete_entry_keyword(self, line):\n",
    "        warnings.warn('Entry keyword removal not tested')\n",
    "        app.delete_entry_keyword(session=a.d.session, entry_id=line)\n",
    "        \n",
    "    def help_delete_entry_keyword(self):\n",
    "        roundup_help.delete_entry_keyword()\n",
    "    \n",
    "    display_parser = argparse.ArgumentParser()\n",
    "    display_parser.add_argument('-s', '--section_id', help='section_id')\n",
    "    \n",
    "    @cmd2.with_argparser(display_parser)\n",
    "    def do_display_categories(self, args):\n",
    "        '''Displays category names for user convenience'''\n",
    "        try:\n",
    "            if args.section_id.isnumeric() == True:\n",
    "                app.display_categories(section_id=args.section_id)\n",
    "        except AttributeError:\n",
    "            app.display_categories()\n",
    "        \n",
    "    def do_display_sections(self, line):\n",
    "        '''Enter without a prefix, displays a list of all sections in the database'''\n",
    "        app.display_sections()\n",
    "    \n",
    "    finalize_parser = argparse.ArgumentParser()\n",
    "    finalize_parser.add_argument('-d', '--date', help='search a single date')\n",
    "    finalize_parser.add_argument('-r', '--date_range', nargs=2,\n",
    "                                 help='search the dates between the start and end dates')\n",
    "    \n",
    "    @cmd2.with_argparser(finalize_parser)\n",
    "    def do_finalize(self, args):\n",
    "        '''searches for articles without descriptions and lets user edit them'''\n",
    "        if args.date:\n",
    "            app.finalize2(session=a.d.session, start_date =args.date, end_date=args.date)\n",
    "        elif args.date_range:\n",
    "            app.finalize2(session=a.d.session, start_date = args.date_range[0],\n",
    "                          end_date=args.date_range[1])\n",
    "        else:\n",
    "            print('Please enter date or date range. Check help for details')\n",
    "            return\n",
    "        \n",
    "    def do_export_docx(self, line):\n",
    "        '''Exports a roundup in docx form. The \"line\" argument is deleted by the function'''\n",
    "        app.create_docx_roundup(line)\n",
    "    \n",
    "    export_parser = argparse.ArgumentParser()\n",
    "    export_parser.add_argument('-t', '--title', nargs='*', help='roundup title')\n",
    "    export_parser.add_argument('-f',\n",
    "        '--filename', help='filename (same directory as the app)')\n",
    "    export_parser.add_argument('-r', '--date_range', nargs=2,\n",
    "                                 help='search the dates between the start and end dates')\n",
    "    \n",
    "    @cmd2.with_argparser(export_parser)\n",
    "    def do_export_html(self, args):\n",
    "        '''Export an html version of the roundup'''\n",
    "        warnings.warn('export_html implementation in testing phase')\n",
    "        app.export_html2(session=a.d.session, program=args.filename,\n",
    "                        start_date=parse(args.date_range[0]).date(),\n",
    "                         end_date=parse(args.date_range[1]).date(),\n",
    "                        title=' '.join(args.title))\n",
    "    \n",
    "    def do_exit(self, arg):\n",
    "        '''Exits the program, any existing database connections will be closed'''\n",
    "        a.close()\n",
    "        print('Exiting Roundup Generator')\n",
    "        return True"
   ]
  },
  {
   "cell_type": "code",
   "execution_count": null,
   "metadata": {},
   "outputs": [
    {
     "name": "stderr",
     "output_type": "stream",
     "text": [
      "-f is not a recognized command, alias, or macro\n",
      "/Users/thomassullivan/Library/Jupyter/runtime/kernel-021a3c09-6777-491d-894f-faf1ae187fd1.json is not a recognized command, alias, or macro\n"
     ]
    },
    {
     "name": "stdout",
     "output_type": "stream",
     "text": [
      "Welcome to LanguageRoundup, powered by SQLAlchemy\n"
     ]
    },
    {
     "name": "stdin",
     "output_type": "stream",
     "text": [
      " help\n"
     ]
    },
    {
     "name": "stdout",
     "output_type": "stream",
     "text": [
      "\n",
      "Documented commands (use 'help -v' for verbose/'help <topic>' for details):\n",
      "===========================================================================\n",
      "add_article             display_sections         macro              shell    \n",
      "add_category            edit                     name_search        shortcuts\n",
      "add_keyword             edit_entry               py               \n",
      "add_keyword_to_article  exit                     qa               \n",
      "add_publication         export_docx              quit             \n",
      "add_section             export_html              run_pyscript     \n",
      "alias                   finalize                 run_script       \n",
      "delete_entry_keyword    get_entries_by_category  search_by_id     \n",
      "delete_item             help                     search_exact_name\n",
      "display_categories      history                  set              \n",
      "\n",
      "Undocumented commands:\n",
      "======================\n",
      "article_count  articles_needed\n",
      "\n"
     ]
    },
    {
     "name": "stdin",
     "output_type": "stream",
     "text": [
      " display_categories\n"
     ]
    },
    {
     "name": "stdout",
     "output_type": "stream",
     "text": [
      "Categories: \n",
      "Category(id='1' name='skills', section=4)\n"
     ]
    },
    {
     "name": "stdin",
     "output_type": "stream",
     "text": [
      " add_category\n"
     ]
    },
    {
     "name": "stderr",
     "output_type": "stream",
     "text": [
      "EXCEPTION of type 'TypeError' occurred with message: 'can only join an iterable'\n",
      "To enable full traceback, run the following command: 'set debug true'\n"
     ]
    },
    {
     "name": "stdin",
     "output_type": "stream",
     "text": [
      " add_category -h\n"
     ]
    },
    {
     "name": "stdout",
     "output_type": "stream",
     "text": [
      "usage: add_category [-h] [-n NAME [NAME ...]] [-s SECTION_ID]\n",
      "\n",
      "Adds a new category\n",
      "\n",
      "optional arguments:\n",
      "  -h, --help            show this help message and exit\n",
      "  -n NAME [NAME ...], --name NAME [NAME ...]\n",
      "                        name of new category\n",
      "  -s SECTION_ID, --section_id SECTION_ID\n",
      "                        id of the section the category is in\n"
     ]
    },
    {
     "name": "stdin",
     "output_type": "stream",
     "text": [
      " display_sections\n"
     ]
    },
    {
     "name": "stdout",
     "output_type": "stream",
     "text": [
      "Sections: \n",
      "Section(id='1', name='python')\n",
      "Section(id='2', name='data science')\n",
      "Section(id='3', name='software engineering')\n",
      "Section(id='4', name='learning to code')\n",
      "Section(id='5', name='machine learning')\n"
     ]
    },
    {
     "name": "stdin",
     "output_type": "stream",
     "text": [
      " add_category -n scripting/automation -s 1\n",
      "Add scripting/automation? 1 to add, 2 to cancel 1\n",
      " display_categories\n"
     ]
    },
    {
     "name": "stdout",
     "output_type": "stream",
     "text": [
      "Categories: \n",
      "Category(id='1' name='skills', section=4)\n",
      "Category(id='2' name='scripting/automation', section=1)\n"
     ]
    }
   ],
   "source": [
    "a=app.App()\n",
    "a.setup()\n",
    "RoundupCMD().cmdloop()"
   ]
  },
  {
   "cell_type": "markdown",
   "metadata": {},
   "source": [
    "def wrapStringInHTML(program, url, body):\n",
    "    import datetime\n",
    "    from webbrowser import open_new_tab\n",
    "    now = datetime.datetime.today().strftime(\"%Y%m%d-%H%M%S\")\n",
    "    filename = program + '.html'\n",
    "    f = open(filename,'w')\n",
    "    wrapper = \"\"\"<html>\n",
    "        <head>\n",
    "        <title>%s output - %s</title>\n",
    "        </head>\n",
    "        <body><p>URL: <a href=\\\"%s\\\">%s</a></p><p>%s</p></body>\n",
    "        </html>\"\"\"\n",
    "    whole = wrapper % (program, now, url, url, body)\n",
    "    f.write(whole)\n",
    "    f.close()   \n",
    "    #Mac version, insert following line as above.\n",
    "    #filename = 'file:///Users/username/Desktop/programming-historian/' + filename\n",
    "    open_new_tab(filename)"
   ]
  },
  {
   "cell_type": "code",
   "execution_count": 6,
   "metadata": {},
   "outputs": [],
   "source": [
    "#res = a.d.session.query(Publication).filter(Publication.url =='https://www.radiodalsan.com')"
   ]
  },
  {
   "cell_type": "markdown",
   "metadata": {},
   "source": [
    "03/08/2020\n",
    "\n",
    "Notes:\n",
    "\n",
    "Change format for displaying articles"
   ]
  },
  {
   "cell_type": "markdown",
   "metadata": {},
   "source": [
    "def wrapStringInHTML2(program, url, body):\n",
    "    import datetime\n",
    "    from webbrowser import open_new_tab\n",
    "    now = datetime.datetime.today().strftime(\"%Y%m%d-%H%M%S\")\n",
    "    filename = program + '.html'\n",
    "    f = open(filename,'w')\n",
    "    wrapper = \"\"\"<html>\n",
    "        <head>\n",
    "        <title>%s output - %s</title>\n",
    "        </head>\n",
    "        <body><p>URL: <a href=\\\"%s\\\">%s</a></p><p>%s</p></body>\n",
    "        </html>\"\"\"\n",
    "    whole = wrapper % (program, now, url, url, body)\n",
    "    f.write(whole)\n",
    "    f.close()   \n",
    "    #Mac version, insert following line as above.\n",
    "    #filename = 'file:///Users/username/Desktop/programming-historian/' + filename\n",
    "    open_new_tab(filename)"
   ]
  },
  {
   "cell_type": "code",
   "execution_count": 2,
   "metadata": {},
   "outputs": [
    {
     "data": {
      "text/plain": [
       "'/Users/thomassullivan/projects/GitHub/languages_roundup'"
      ]
     },
     "execution_count": 2,
     "metadata": {},
     "output_type": "execute_result"
    }
   ],
   "source": [
    "import os\n",
    "os.getcwd()"
   ]
  },
  {
   "cell_type": "code",
   "execution_count": null,
   "metadata": {},
   "outputs": [],
   "source": []
  },
  {
   "cell_type": "code",
   "execution_count": null,
   "metadata": {},
   "outputs": [],
   "source": []
  },
  {
   "cell_type": "code",
   "execution_count": 44,
   "metadata": {},
   "outputs": [],
   "source": []
  },
  {
   "cell_type": "code",
   "execution_count": null,
   "metadata": {},
   "outputs": [],
   "source": []
  },
  {
   "cell_type": "code",
   "execution_count": null,
   "metadata": {},
   "outputs": [],
   "source": []
  },
  {
   "cell_type": "code",
   "execution_count": null,
   "metadata": {},
   "outputs": [],
   "source": []
  }
 ],
 "metadata": {
  "kernelspec": {
   "display_name": "Python 3",
   "language": "python",
   "name": "python3"
  },
  "language_info": {
   "codemirror_mode": {
    "name": "ipython",
    "version": 3
   },
   "file_extension": ".py",
   "mimetype": "text/x-python",
   "name": "python",
   "nbconvert_exporter": "python",
   "pygments_lexer": "ipython3",
   "version": "3.7.5"
  }
 },
 "nbformat": 4,
 "nbformat_minor": 4
}
