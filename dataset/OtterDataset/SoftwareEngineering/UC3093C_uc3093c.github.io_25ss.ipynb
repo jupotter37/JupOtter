{
 "cells": [
  {
   "cell_type": "markdown",
   "metadata": {},
   "source": [
    "# Spring Semester 2025\n",
    "\n",
    "**Course:** Software Engineering (EECE3093C / CS3093C) <br>\n",
    "**Section:** 001 <br>\n",
    "**Location:** Swift 500<br>\n",
    "**Days/Times:** TuTh 12:30-1:50 <br>\n",
    "**Office Hours:** By appointment.<br>\n",
    "**Instruction Mode:** The lecture portion of this course is in-person. This means that class will be conducted entirely via in-person class meetings that take place at the location and times noted. The laboratory component will be implemented in an asynchronous setting -- allowing you to participate in laboratory activities independently, at different times, and from different locations.<br>\n",
    "**Textbook:** We will use several textbooks for this course. All books will be available online through UC's institutional agreement with O'Reilly Media. Please see the following [FAQs](/faqs/oreilly_access.md) for access instructions.  Supplemental materials will be provided as needed throughout the semester.\n",
    "\n",
    "```{note}\n",
    "As with all university courses, attendance and participation are important measures of student success. Attendance will be recorded, but these records will only be used in your favor. Specifically, strong attendance may result in the instructor adjusting your final grade upward if you are on the border between two grades (for example, from an A- at 92% to an A). The final decision rests with the instructor.\n",
    "```"
   ]
  },
  {
   "cell_type": "code",
   "execution_count": 1,
   "metadata": {
    "tags": [
     "remove-cell"
    ]
   },
   "outputs": [],
   "source": [
    "import pandas as pd\n",
    "from IPython.core.display import HTML\n",
    "import re"
   ]
  },
  {
   "cell_type": "code",
   "execution_count": 2,
   "metadata": {
    "tags": [
     "remove-cell"
    ]
   },
   "outputs": [],
   "source": [
    "def wrap_in_collapsible(content, title):\n",
    "    \"\"\"\n",
    "    Wraps HTML content in a collapsible details element\n",
    "    \n",
    "    Args:\n",
    "        content (str): HTML content to wrap\n",
    "        title (str): Title for the collapsible section\n",
    "        \n",
    "    Returns:\n",
    "        str: HTML content wrapped in details/summary tags\n",
    "    \"\"\"\n",
    "    return f\"\"\"<details><summary>{title}</summary>{content}</details><br>\"\"\""
   ]
  },
  {
   "cell_type": "code",
   "execution_count": 3,
   "metadata": {
    "tags": [
     "remove-cell"
    ]
   },
   "outputs": [],
   "source": [
    "def combine_topics_and_readings(df):\n",
    "    \"\"\"\n",
    "    Combines the 'topics' and 'reading-material' columns, wrapping reading material\n",
    "    in a collapsible element.\n",
    "    \n",
    "    Args:\n",
    "        df (pd.DataFrame): DataFrame containing 'topics' and 'reading-material' columns\n",
    "        \n",
    "    Returns:\n",
    "        pd.DataFrame: DataFrame with combined content in 'topics' column\n",
    "    \"\"\"\n",
    "    # Create a copy to avoid modifying the original\n",
    "    result_df = df.copy()\n",
    "    \n",
    "    # Ensure we're working with strings\n",
    "    # result_df['Material'] = result_df['Material'].fillna('')\n",
    "    # result_df['Pre-Reading'] = result_df['Pre-Reading'].fillna('')\n",
    "    \n",
    "    # Combine the columns\n",
    "    result_df['Topics'] = result_df.apply(\n",
    "        lambda row: (\n",
    "            f\"<strong><em>{row['Topics']}</em></strong><br><br>\"  # Original topics content\n",
    "            + (f\"{wrap_in_collapsible(row['Pre-Reading'], title='Pre-Reading Assignment(s)')}\" if row['Pre-Reading'].strip() else \"\")  # Wrapped reading material, only if not empty\n",
    "            + (f\"{wrap_in_collapsible(row['Material'], title='Slides')}\" if row['Material'].strip() else \"\")  # Wrapped reading material\n",
    "        ).strip(),\n",
    "        axis=1\n",
    "    )\n",
    "    \n",
    "    return result_df"
   ]
  },
  {
   "cell_type": "code",
   "execution_count": 4,
   "metadata": {
    "tags": [
     "remove-cell"
    ]
   },
   "outputs": [],
   "source": [
    "def markdown_to_html_list(cell_content):\n",
    "    \"\"\"\n",
    "    Convert markdown-formatted links to HTML list.\n",
    "    \n",
    "    Args:\n",
    "        cell_content (str): String containing markdown-formatted links\n",
    "        \n",
    "    Returns:\n",
    "        str: HTML formatted unordered list\n",
    "    \"\"\"\n",
    "    if pd.isna(cell_content):\n",
    "        return \"\"\n",
    "    \n",
    "    # Split the content into lines and process each line\n",
    "    links = cell_content.strip().split('\\n')\n",
    "    html_items = []\n",
    "    \n",
    "    for link in links:\n",
    "        # Match the markdown link pattern [text](/path/to/file)\n",
    "        match = re.match(r'\\[(.*?)\\]\\((.*?)\\)', link.strip())\n",
    "        if match:\n",
    "            text, url = match.groups()\n",
    "            html_items.append(f'<li><a href=\"{url}\">{text}</a></li>')\n",
    "    \n",
    "    # Combine into an unordered list if we have items\n",
    "    if html_items:\n",
    "        return f'<ul>\\n{\"\".join(html_items)}\\n</ul>'\n",
    "    return \"\""
   ]
  },
  {
   "cell_type": "code",
   "execution_count": 5,
   "metadata": {
    "tags": [
     "remove-cell"
    ]
   },
   "outputs": [],
   "source": [
    "schedule = pd.read_csv('20EECE3093C-SS25.tsv', sep='\\t')\n",
    "\n",
    "schedule['Date']= pd.to_datetime(schedule['Date'])\n",
    "schedule.sort_values(by=['Date'], inplace=True, ascending=True)\n",
    "schedule['Date'] = schedule['Date'].dt.strftime('%a, %b-%d')\n",
    "\n",
    "# Define column widths (in pixels) by index\n",
    "schedule['Material'] = schedule['Material'].apply(markdown_to_html_list)\n",
    "schedule['Material'] = schedule['Material'].str.replace('\\n', '')\n",
    "\n",
    "schedule['Pre-Reading'] = schedule['Pre-Reading'].apply(markdown_to_html_list)\n",
    "schedule['Pre-Reading'] = schedule['Pre-Reading'].str.replace('\\n', '')\n",
    "\n",
    "schedule = schedule.fillna('')\n",
    "\n",
    "schedule = combine_topics_and_readings(schedule)\n",
    "schedule.drop(columns=['Material'], inplace=True, axis=1)\n",
    "schedule.drop(columns=['Pre-Reading'], inplace=True, axis=1)\n",
    "\n",
    "#schedule['Topics and Notes'] = schedule['Topics and Notes'].str.replace('\\n', '<br>')\n",
    "\n",
    "schedule_html = schedule.to_html(index=False, escape=False)\n",
    "#schedule_html = schedule_html.replace('<table border=\"1\" class=\"dataframe\">','<table class=\"table table-bordered\">')\n",
    "\n",
    "wrapped_html = f'<div class=\"mystyle\">{schedule_html}</div>'\n"
   ]
  },
  {
   "cell_type": "markdown",
   "metadata": {},
   "source": [
    "## Schedule"
   ]
  },
  {
   "cell_type": "code",
   "execution_count": 6,
   "metadata": {
    "tags": [
     "remove-input"
    ]
   },
   "outputs": [
    {
     "data": {
      "text/html": [
       "<div class=\"mystyle\"><table border=\"1\" class=\"dataframe\">\n",
       "  <thead>\n",
       "    <tr style=\"text-align: right;\">\n",
       "      <th>Date</th>\n",
       "      <th>Topics</th>\n",
       "    </tr>\n",
       "  </thead>\n",
       "  <tbody>\n",
       "    <tr>\n",
       "      <td>Tue, Jan-14</td>\n",
       "      <td><strong><em>No Class</em></strong><br><br></td>\n",
       "    </tr>\n",
       "    <tr>\n",
       "      <td>Thu, Jan-16</td>\n",
       "      <td><strong><em>Course Introduction</em></strong><br><br><details><summary>Pre-Reading Assignment(s)</summary><ul><li><a href=\"https://www.computer.org/publications/tech-news/trends/software-engineering-as-a-layered-technology\">Software Engineering as a Layered Technology</a></li></ul></details><br><details><summary>Slides</summary><ul><li><a href=\"/slides/slides/course_introduction.html\">Course Inro</a></li><li><a href=\"/slides/slides/software_engineering_as_a_layered_technology.html\">Software Engineering as a Layered Technology</a></li></ul></details><br></td>\n",
       "    </tr>\n",
       "    <tr>\n",
       "      <td>Tue, Jan-21</td>\n",
       "      <td><strong><em>History of SE, Ethics and Professional Practice, Git</em></strong><br><br><details><summary>Pre-Reading Assignment(s)</summary><ul><li><a href=\"https://en.wikipedia.org/wiki/History_of_software_engineering\">History of software engineering</a></li><li><a href=\"http://homepages.cs.ncl.ac.uk/brian.randell/NATO/NATOReports/\">The 1968/69 NATO Software Engineering Reports</a></li><li><a href=\"https://en.wikipedia.org/wiki/Software_crisis\">Software Crisis</a></li><li><a href=\"https://ethics.acm.org/code-of-ethics/software-engineering-code/\">Software Engineering Code</a></li></ul></details><br><details><summary>Slides</summary><ul><li><a href=\"/slides/slides/history_of_software_engineering.html\">History of Software Engineering</a></li><li><a href=\"/slides/slides/software_crisis.html\">Software Crisis</a></li><li><a href=\"/slides/slides/software_engineering_code.html\">Software Engineering Code</a></li></ul></details><br></td>\n",
       "    </tr>\n",
       "    <tr>\n",
       "      <td>Thu, Jan-23</td>\n",
       "      <td><strong><em>What is Software Engineering?</em></strong><br><br><details><summary>Pre-Reading Assignment(s)</summary><ul><li><a href=\"https://www.oreilly.com/library/view/software-engineering-at/9781492082781/ch01.html\">What is Software Engineering</a></li><li><a href=\"https://www.oreilly.com/library/view/mythical-man-month-the/0201835959/ch02.xhtml\">The Mythical Man Month</a></li></ul></details><br></td>\n",
       "    </tr>\n",
       "    <tr>\n",
       "      <td>Tue, Jan-28</td>\n",
       "      <td><strong><em>Collaboration & Knowledge</em></strong><br><br><details><summary>Pre-Reading Assignment(s)</summary><ul><li><a href=\"https://www.oreilly.com/library/view/software-engineering-at/9781492082781/ch02.html\">How to Work Well on Teams</a></li><li><a href=\"https://www.oreilly.com/library/view/software-engineering-at/9781492082781/ch03.html\">Knowledge Sharing</a></li></ul></details><br></td>\n",
       "    </tr>\n",
       "    <tr>\n",
       "      <td>Thu, Jan-30</td>\n",
       "      <td><strong><em>Review for Exam 1, Course Project QA</em></strong><br><br></td>\n",
       "    </tr>\n",
       "    <tr>\n",
       "      <td>Tue, Feb-04</td>\n",
       "      <td><strong><em>Exam 1</em></strong><br><br></td>\n",
       "    </tr>\n",
       "    <tr>\n",
       "      <td>Thu, Feb-06</td>\n",
       "      <td><strong><em></em></strong><br><br></td>\n",
       "    </tr>\n",
       "    <tr>\n",
       "      <td>Tue, Feb-11</td>\n",
       "      <td><strong><em></em></strong><br><br></td>\n",
       "    </tr>\n",
       "    <tr>\n",
       "      <td>Thu, Feb-13</td>\n",
       "      <td><strong><em></em></strong><br><br></td>\n",
       "    </tr>\n",
       "    <tr>\n",
       "      <td>Tue, Feb-18</td>\n",
       "      <td><strong><em></em></strong><br><br></td>\n",
       "    </tr>\n",
       "    <tr>\n",
       "      <td>Thu, Feb-20</td>\n",
       "      <td><strong><em></em></strong><br><br></td>\n",
       "    </tr>\n",
       "    <tr>\n",
       "      <td>Tue, Feb-25</td>\n",
       "      <td><strong><em>Review for Exam 2, Course Project QA</em></strong><br><br></td>\n",
       "    </tr>\n",
       "    <tr>\n",
       "      <td>Thu, Feb-27</td>\n",
       "      <td><strong><em>Exam 2</em></strong><br><br></td>\n",
       "    </tr>\n",
       "    <tr>\n",
       "      <td>Tue, Mar-04</td>\n",
       "      <td><strong><em></em></strong><br><br></td>\n",
       "    </tr>\n",
       "    <tr>\n",
       "      <td>Thu, Mar-06</td>\n",
       "      <td><strong><em></em></strong><br><br></td>\n",
       "    </tr>\n",
       "    <tr>\n",
       "      <td>Tue, Mar-11</td>\n",
       "      <td><strong><em></em></strong><br><br></td>\n",
       "    </tr>\n",
       "    <tr>\n",
       "      <td>Thu, Mar-13</td>\n",
       "      <td><strong><em></em></strong><br><br></td>\n",
       "    </tr>\n",
       "    <tr>\n",
       "      <td>Tue, Mar-18</td>\n",
       "      <td><strong><em>No Class - Spring Break</em></strong><br><br></td>\n",
       "    </tr>\n",
       "    <tr>\n",
       "      <td>Thu, Mar-20</td>\n",
       "      <td><strong><em>No Class - Spring Break</em></strong><br><br></td>\n",
       "    </tr>\n",
       "    <tr>\n",
       "      <td>Tue, Mar-25</td>\n",
       "      <td><strong><em></em></strong><br><br></td>\n",
       "    </tr>\n",
       "    <tr>\n",
       "      <td>Thu, Mar-27</td>\n",
       "      <td><strong><em>Review for Exam 3, Course Project QA</em></strong><br><br></td>\n",
       "    </tr>\n",
       "    <tr>\n",
       "      <td>Tue, Apr-01</td>\n",
       "      <td><strong><em>Exam 3</em></strong><br><br></td>\n",
       "    </tr>\n",
       "    <tr>\n",
       "      <td>Thu, Apr-03</td>\n",
       "      <td><strong><em></em></strong><br><br></td>\n",
       "    </tr>\n",
       "    <tr>\n",
       "      <td>Tue, Apr-08</td>\n",
       "      <td><strong><em></em></strong><br><br></td>\n",
       "    </tr>\n",
       "    <tr>\n",
       "      <td>Thu, Apr-10</td>\n",
       "      <td><strong><em></em></strong><br><br></td>\n",
       "    </tr>\n",
       "    <tr>\n",
       "      <td>Tue, Apr-15</td>\n",
       "      <td><strong><em></em></strong><br><br></td>\n",
       "    </tr>\n",
       "    <tr>\n",
       "      <td>Thu, Apr-17</td>\n",
       "      <td><strong><em></em></strong><br><br></td>\n",
       "    </tr>\n",
       "    <tr>\n",
       "      <td>Tue, Apr-22</td>\n",
       "      <td><strong><em>Review for Exam 4, Course Project QA</em></strong><br><br></td>\n",
       "    </tr>\n",
       "    <tr>\n",
       "      <td>Thu, Apr-24</td>\n",
       "      <td><strong><em>Exam 4</em></strong><br><br></td>\n",
       "    </tr>\n",
       "    <tr>\n",
       "      <td>Thu, May-01</td>\n",
       "      <td><strong><em>Makeup exams period (12:30-2:30)</em></strong><br><br></td>\n",
       "    </tr>\n",
       "  </tbody>\n",
       "</table></div>"
      ],
      "text/plain": [
       "<IPython.core.display.HTML object>"
      ]
     },
     "execution_count": 6,
     "metadata": {},
     "output_type": "execute_result"
    }
   ],
   "source": [
    "HTML(wrapped_html)"
   ]
  },
  {
   "cell_type": "code",
   "execution_count": null,
   "metadata": {},
   "outputs": [],
   "source": []
  }
 ],
 "metadata": {
  "celltoolbar": "Tags",
  "jupyter": {
   "celltoolbar": "Disable Google Colab Button"
  },
  "kernelspec": {
   "display_name": "Python 3",
   "language": "python",
   "name": "python3"
  },
  "language_info": {
   "codemirror_mode": {
    "name": "ipython",
    "version": 3
   },
   "file_extension": ".py",
   "mimetype": "text/x-python",
   "name": "python",
   "nbconvert_exporter": "python",
   "pygments_lexer": "ipython3",
   "version": "3.12.7"
  }
 },
 "nbformat": 4,
 "nbformat_minor": 4
}
