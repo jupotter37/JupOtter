{
 "cells": [
  {
   "cell_type": "markdown",
   "id": "a0bfcb48-f4b1-4f04-93ea-eba229e6bf54",
   "metadata": {
    "editable": true,
    "slideshow": {
     "slide_type": "slide"
    },
    "tags": []
   },
   "source": [
    "# Welcome to the Astro Research Preparation Series!"
   ]
  },
  {
   "cell_type": "markdown",
   "id": "3412d013-d01a-41c5-9d14-cf07627fadab",
   "metadata": {
    "editable": true,
    "slideshow": {
     "slide_type": "slide"
    },
    "tags": []
   },
   "source": [
    "## Lecture 1: UNIX, Filesystems, Environments, and the Python Ecosystem"
   ]
  },
  {
   "cell_type": "markdown",
   "id": "711869bb-efeb-4bc7-8d88-e07cd7ea0809",
   "metadata": {
    "editable": true,
    "slideshow": {
     "slide_type": "slide"
    },
    "tags": []
   },
   "source": [
    "### Preface: Some things to keep in mind over the next nine weeks "
   ]
  },
  {
   "cell_type": "markdown",
   "id": "0763510e-c4b7-4612-8c32-5ef56326e3ce",
   "metadata": {
    "editable": true,
    "slideshow": {
     "slide_type": "slide"
    },
    "tags": []
   },
   "source": [
    ":::{admonition} Coding is tough! \n",
    ":class: important\n",
    "Learning how to code is like learning a new language. It takes a long time to become comfortable, and the more you practice coding the easier it gets!\n",
    ":::"
   ]
  },
  {
   "cell_type": "markdown",
   "id": "352e9416-f9f5-4d13-88b1-3a6e07e149bb",
   "metadata": {
    "editable": true,
    "slideshow": {
     "slide_type": "slide"
    },
    "tags": []
   },
   "source": [
    ":::{admonition} We are a community\n",
    ":class: important\n",
    "We want this to be a space where we all feel comfortable speaking up, asking questions, and sharing ideas. All of the instructors learned from each other while preparing for this series (because, as per point 1, coding is tough), and we want that same spirit of community learning to be upheld in this space! \n",
    ":::"
   ]
  },
  {
   "cell_type": "markdown",
   "id": "283cda75-2480-47bd-9d0c-dea320c93706",
   "metadata": {
    "editable": true,
    "slideshow": {
     "slide_type": "slide"
    },
    "tags": []
   },
   "source": [
    ":::{admonition} We are learning data science  \n",
    ":class: important\n",
    "Computer science is a broader discipline that encompasses the study of algorithms, software engineering, operating systems, and more, while data science is focused on extracting insights from data (observational or simulated) using a combination of computer science, statistics, and domain-specific knowledge. \n",
    "\n",
    "**Today, we are not doing Python!** We will start with Python next week!\n",
    ":::"
   ]
  },
  {
   "cell_type": "markdown",
   "id": "970b12d9-da8c-4b66-84a3-536cee2b610c",
   "metadata": {
    "editable": true,
    "slideshow": {
     "slide_type": "slide"
    },
    "tags": []
   },
   "source": [
    "### Lesson Agenda\n",
    "\n",
    "1. Intro + Preface: Done!\n",
    "2. Filesystems, UNIX, and Terminal\n",
    "3. Question Break\n",
    "4. Installing Python + Virtual Environments  "
   ]
  },
  {
   "cell_type": "markdown",
   "id": "0970e8be",
   "metadata": {},
   "source": []
  }
 ],
 "metadata": {
  "kernelspec": {
   "display_name": "Python 3 (ipykernel)",
   "language": "python",
   "name": "python3"
  },
  "language_info": {
   "codemirror_mode": {
    "name": "ipython",
    "version": 3
   },
   "file_extension": ".py",
   "mimetype": "text/x-python",
   "name": "python",
   "nbconvert_exporter": "python",
   "pygments_lexer": "ipython3",
   "version": "3.11.6"
  }
 },
 "nbformat": 4,
 "nbformat_minor": 5
}
