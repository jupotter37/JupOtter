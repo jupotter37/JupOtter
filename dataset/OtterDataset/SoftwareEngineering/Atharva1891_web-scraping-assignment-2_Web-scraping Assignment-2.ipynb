{
 "cells": [
  {
   "cell_type": "markdown",
   "id": "bfa81a4c",
   "metadata": {},
   "source": [
    "Q1: Write a python program to scrape data for “Data Analyst” Job position in “Bangalore” location. You\n",
    "have to scrape the job-title, job-location, company_name, experience_required. You have to scrape first 10\n",
    "jobs data.\n",
    "This task will be done in following steps:\n",
    "1. First get the webpage https://www.naukri.com/\n",
    "2. Enter “Data Analyst” in “Skill, Designations, Companies” field and enter “Bangalore” in “enter the location” field.\n",
    "3. Then click the search button.\n",
    "4. Then scrape the data for the first 10 jobs results you get.\n",
    "5. Finally create a dataframe of the scraped data."
   ]
  },
  {
   "cell_type": "code",
   "execution_count": 1,
   "id": "b68a7f21",
   "metadata": {},
   "outputs": [
    {
     "name": "stdout",
     "output_type": "stream",
     "text": [
      "Requirement already satisfied: selenium in c:\\users\\atharva\\anaconda3\\lib\\site-packages (4.5.0)\n",
      "Requirement already satisfied: trio-websocket~=0.9 in c:\\users\\atharva\\anaconda3\\lib\\site-packages (from selenium) (0.9.2)\n",
      "Requirement already satisfied: urllib3[socks]~=1.26 in c:\\users\\atharva\\anaconda3\\lib\\site-packages (from selenium) (1.26.9)\n",
      "Requirement already satisfied: trio~=0.17 in c:\\users\\atharva\\anaconda3\\lib\\site-packages (from selenium) (0.22.0)\n",
      "Requirement already satisfied: certifi>=2021.10.8 in c:\\users\\atharva\\anaconda3\\lib\\site-packages (from selenium) (2021.10.8)\n",
      "Requirement already satisfied: cffi>=1.14 in c:\\users\\atharva\\anaconda3\\lib\\site-packages (from trio~=0.17->selenium) (1.15.0)\n",
      "Requirement already satisfied: idna in c:\\users\\atharva\\anaconda3\\lib\\site-packages (from trio~=0.17->selenium) (3.3)\n",
      "Requirement already satisfied: sniffio in c:\\users\\atharva\\anaconda3\\lib\\site-packages (from trio~=0.17->selenium) (1.2.0)\n",
      "Requirement already satisfied: outcome in c:\\users\\atharva\\anaconda3\\lib\\site-packages (from trio~=0.17->selenium) (1.2.0)\n",
      "Requirement already satisfied: exceptiongroup>=1.0.0rc9 in c:\\users\\atharva\\anaconda3\\lib\\site-packages (from trio~=0.17->selenium) (1.0.0)\n",
      "Requirement already satisfied: sortedcontainers in c:\\users\\atharva\\anaconda3\\lib\\site-packages (from trio~=0.17->selenium) (2.4.0)\n",
      "Requirement already satisfied: attrs>=19.2.0 in c:\\users\\atharva\\anaconda3\\lib\\site-packages (from trio~=0.17->selenium) (21.4.0)\n",
      "Requirement already satisfied: async-generator>=1.9 in c:\\users\\atharva\\anaconda3\\lib\\site-packages (from trio~=0.17->selenium) (1.10)\n",
      "Requirement already satisfied: pycparser in c:\\users\\atharva\\anaconda3\\lib\\site-packages (from cffi>=1.14->trio~=0.17->selenium) (2.21)\n",
      "Requirement already satisfied: wsproto>=0.14 in c:\\users\\atharva\\anaconda3\\lib\\site-packages (from trio-websocket~=0.9->selenium) (1.2.0)\n",
      "Requirement already satisfied: PySocks!=1.5.7,<2.0,>=1.5.6 in c:\\users\\atharva\\anaconda3\\lib\\site-packages (from urllib3[socks]~=1.26->selenium) (1.7.1)\n",
      "Requirement already satisfied: h11<1,>=0.9.0 in c:\\users\\atharva\\anaconda3\\lib\\site-packages (from wsproto>=0.14->trio-websocket~=0.9->selenium) (0.14.0)\n"
     ]
    }
   ],
   "source": [
    "! pip install selenium"
   ]
  },
  {
   "cell_type": "code",
   "execution_count": 1,
   "id": "0a57e14d",
   "metadata": {},
   "outputs": [],
   "source": [
    "import selenium\n",
    "from selenium import webdriver\n",
    "import pandas as pd\n",
    "from selenium.webdriver.common.by import By\n",
    "import time\n",
    "\n",
    "import warnings\n",
    "warnings.filterwarnings(\"ignore\")"
   ]
  },
  {
   "cell_type": "code",
   "execution_count": 3,
   "id": "84c426e8",
   "metadata": {},
   "outputs": [],
   "source": [
    "driver = webdriver.Edge(r\"C:\\Users\\Atharva\\Internship project\\Web Sraping assignment-2\\msedgedriver.exe\")"
   ]
  },
  {
   "cell_type": "code",
   "execution_count": 4,
   "id": "99857105",
   "metadata": {},
   "outputs": [],
   "source": [
    "driver.maximize_window()"
   ]
  },
  {
   "cell_type": "code",
   "execution_count": 5,
   "id": "ff6f6f4a",
   "metadata": {},
   "outputs": [],
   "source": [
    "url = \"https://www.naukri.com/\"\n",
    "driver.get(url)"
   ]
  },
  {
   "cell_type": "code",
   "execution_count": 6,
   "id": "dde0b18f",
   "metadata": {},
   "outputs": [],
   "source": [
    "search_job = driver.find_element(By.CLASS_NAME,\"suggestor-input \")\n",
    "search_job.send_keys(\"Data Analyst\")"
   ]
  },
  {
   "cell_type": "code",
   "execution_count": 7,
   "id": "6f04472a",
   "metadata": {},
   "outputs": [],
   "source": [
    "search_loc = driver.find_element(By.XPATH,\"/html/body/div[1]/div[6]/div/div/div[5]/div/div/div/input\")\n",
    "search_loc.send_keys(\"Bangalore\")"
   ]
  },
  {
   "cell_type": "code",
   "execution_count": 8,
   "id": "0ca8812d",
   "metadata": {},
   "outputs": [],
   "source": [
    "search_but = driver.find_element(By.XPATH,\"/html/body/div[1]/div[6]/div/div/div[6]\")\n",
    "search_but.click()"
   ]
  },
  {
   "cell_type": "code",
   "execution_count": 10,
   "id": "981b1747",
   "metadata": {},
   "outputs": [
    {
     "data": {
      "text/plain": [
       "['Senior Data Analyst - PLM Data Migration',\n",
       " 'Data Analyst',\n",
       " 'Senior Data Analyst',\n",
       " 'Lead Data Analyst',\n",
       " 'Contractual Hiring For Top MNC || Business Data Analyst || Bangalore',\n",
       " 'Master Data Management Business Analyst',\n",
       " 'Data Analyst',\n",
       " 'Sr. Data Analyst (SAS Data Management)',\n",
       " 'Lead Data Analyst',\n",
       " 'Data Analyst',\n",
       " 'Lead Data Management Analyst',\n",
       " 'Data Analyst 2',\n",
       " 'Senior Data Analyst - MDM | Hy-Vee',\n",
       " 'Senior Data Analyst(Power BI/Python)',\n",
       " 'Sr Data Analyst',\n",
       " 'Senior Analyst - Data Management',\n",
       " 'Data Analyst - Python/Artificial Intelligence',\n",
       " 'Lead Data Analyst',\n",
       " 'Data Analyst',\n",
       " 'Data analyst']"
      ]
     },
     "execution_count": 10,
     "metadata": {},
     "output_type": "execute_result"
    }
   ],
   "source": [
    "job_title = []\n",
    "for i in driver.find_elements(By.XPATH,\"//a[@class='title fw500 ellipsis']\"):\n",
    "    job_title.append(i.text)\n",
    "    \n",
    "job_title"
   ]
  },
  {
   "cell_type": "code",
   "execution_count": 11,
   "id": "e26550c5",
   "metadata": {},
   "outputs": [
    {
     "data": {
      "text/plain": [
       "['CGI',\n",
       " 'IBM',\n",
       " 'Groundtruth',\n",
       " 'Mobile Premier League (MPL)',\n",
       " 'TeamLease',\n",
       " 'Accenture',\n",
       " 'Bsharp',\n",
       " 'NMS Consultant',\n",
       " 'SVB Global Services India Llp',\n",
       " 'IBM',\n",
       " 'Wells Fargo',\n",
       " 'Zynga',\n",
       " 'Talent500',\n",
       " 'Societe Generale',\n",
       " 'Mettox Laboratries',\n",
       " 'Accenture',\n",
       " 'iMindYourBusiness',\n",
       " 'Silicon Valley Bank',\n",
       " 'Phonepe',\n",
       " 'Nextlink Technologies India']"
      ]
     },
     "execution_count": 11,
     "metadata": {},
     "output_type": "execute_result"
    }
   ],
   "source": [
    "company_name = []\n",
    "for i in driver.find_elements(By.XPATH,\"//a[@class='subTitle ellipsis fleft']\"):\n",
    "    company_name.append(i.text)\n",
    "    \n",
    "company_name"
   ]
  },
  {
   "cell_type": "code",
   "execution_count": 12,
   "id": "e9a30a29",
   "metadata": {},
   "outputs": [
    {
     "data": {
      "text/plain": [
       "['3-6 Yrs',\n",
       " '3-4 Yrs',\n",
       " '5-8 Yrs',\n",
       " '4-7 Yrs',\n",
       " '5-8 Yrs',\n",
       " '6-8 Yrs',\n",
       " '1-3 Yrs',\n",
       " '5-10 Yrs',\n",
       " '8-13 Yrs',\n",
       " '3-4 Yrs',\n",
       " '5-8 Yrs',\n",
       " '4-7 Yrs',\n",
       " '3-8 Yrs',\n",
       " '3-8 Yrs',\n",
       " '3-8 Yrs',\n",
       " '5-8 Yrs',\n",
       " '0-2 Yrs',\n",
       " '8-10 Yrs',\n",
       " '1-3 Yrs',\n",
       " '0-5 Yrs']"
      ]
     },
     "execution_count": 12,
     "metadata": {},
     "output_type": "execute_result"
    }
   ],
   "source": [
    "experience_yrs = []\n",
    "for i in driver.find_elements(By.XPATH,'//span[@class=\"ellipsis fleft fs12 lh16 expwdth\"]'):\n",
    "    experience_yrs.append(i.text)\n",
    "    \n",
    "experience_yrs"
   ]
  },
  {
   "cell_type": "code",
   "execution_count": 15,
   "id": "478b2910",
   "metadata": {},
   "outputs": [
    {
     "data": {
      "text/plain": [
       "20"
      ]
     },
     "execution_count": 15,
     "metadata": {},
     "output_type": "execute_result"
    }
   ],
   "source": [
    "job_link = []\n",
    "for i in driver.find_elements(By.XPATH,'//a[@class=\"title fw500 ellipsis\"]'):\n",
    "    job_link.append(i.get_attribute(\"href\"))\n",
    "\n",
    "job_link\n",
    "len(job_link)"
   ]
  },
  {
   "cell_type": "code",
   "execution_count": 16,
   "id": "61a2ffcb",
   "metadata": {},
   "outputs": [
    {
     "data": {
      "text/plain": [
       "(20, 20, 20)"
      ]
     },
     "execution_count": 16,
     "metadata": {},
     "output_type": "execute_result"
    }
   ],
   "source": [
    "len(job_title),len(company_name),len(experience_yrs)"
   ]
  },
  {
   "cell_type": "code",
   "execution_count": 17,
   "id": "bc59ad57",
   "metadata": {},
   "outputs": [
    {
     "data": {
      "text/html": [
       "<div>\n",
       "<style scoped>\n",
       "    .dataframe tbody tr th:only-of-type {\n",
       "        vertical-align: middle;\n",
       "    }\n",
       "\n",
       "    .dataframe tbody tr th {\n",
       "        vertical-align: top;\n",
       "    }\n",
       "\n",
       "    .dataframe thead th {\n",
       "        text-align: right;\n",
       "    }\n",
       "</style>\n",
       "<table border=\"1\" class=\"dataframe\">\n",
       "  <thead>\n",
       "    <tr style=\"text-align: right;\">\n",
       "      <th></th>\n",
       "      <th>Job title</th>\n",
       "      <th>Company</th>\n",
       "      <th>Experience</th>\n",
       "      <th>Link</th>\n",
       "    </tr>\n",
       "  </thead>\n",
       "  <tbody>\n",
       "    <tr>\n",
       "      <th>0</th>\n",
       "      <td>Senior Data Analyst - PLM Data Migration</td>\n",
       "      <td>CGI</td>\n",
       "      <td>3-6 Yrs</td>\n",
       "      <td>https://www.naukri.com/job-listings-senior-dat...</td>\n",
       "    </tr>\n",
       "    <tr>\n",
       "      <th>1</th>\n",
       "      <td>Data Analyst</td>\n",
       "      <td>IBM</td>\n",
       "      <td>3-4 Yrs</td>\n",
       "      <td>https://www.naukri.com/job-listings-data-analy...</td>\n",
       "    </tr>\n",
       "    <tr>\n",
       "      <th>2</th>\n",
       "      <td>Senior Data Analyst</td>\n",
       "      <td>Groundtruth</td>\n",
       "      <td>5-8 Yrs</td>\n",
       "      <td>https://www.naukri.com/job-listings-senior-dat...</td>\n",
       "    </tr>\n",
       "    <tr>\n",
       "      <th>3</th>\n",
       "      <td>Lead Data Analyst</td>\n",
       "      <td>Mobile Premier League (MPL)</td>\n",
       "      <td>4-7 Yrs</td>\n",
       "      <td>https://www.naukri.com/job-listings-lead-data-...</td>\n",
       "    </tr>\n",
       "    <tr>\n",
       "      <th>4</th>\n",
       "      <td>Contractual Hiring For Top MNC || Business Dat...</td>\n",
       "      <td>TeamLease</td>\n",
       "      <td>5-8 Yrs</td>\n",
       "      <td>https://www.naukri.com/job-listings-contractua...</td>\n",
       "    </tr>\n",
       "    <tr>\n",
       "      <th>5</th>\n",
       "      <td>Master Data Management Business Analyst</td>\n",
       "      <td>Accenture</td>\n",
       "      <td>6-8 Yrs</td>\n",
       "      <td>https://www.naukri.com/job-listings-master-dat...</td>\n",
       "    </tr>\n",
       "    <tr>\n",
       "      <th>6</th>\n",
       "      <td>Data Analyst</td>\n",
       "      <td>Bsharp</td>\n",
       "      <td>1-3 Yrs</td>\n",
       "      <td>https://www.naukri.com/job-listings-data-analy...</td>\n",
       "    </tr>\n",
       "    <tr>\n",
       "      <th>7</th>\n",
       "      <td>Sr. Data Analyst (SAS Data Management)</td>\n",
       "      <td>NMS Consultant</td>\n",
       "      <td>5-10 Yrs</td>\n",
       "      <td>https://www.naukri.com/job-listings-sr-data-an...</td>\n",
       "    </tr>\n",
       "    <tr>\n",
       "      <th>8</th>\n",
       "      <td>Lead Data Analyst</td>\n",
       "      <td>SVB Global Services India Llp</td>\n",
       "      <td>8-13 Yrs</td>\n",
       "      <td>https://www.naukri.com/job-listings-lead-data-...</td>\n",
       "    </tr>\n",
       "    <tr>\n",
       "      <th>9</th>\n",
       "      <td>Data Analyst</td>\n",
       "      <td>IBM</td>\n",
       "      <td>3-4 Yrs</td>\n",
       "      <td>https://www.naukri.com/job-listings-data-analy...</td>\n",
       "    </tr>\n",
       "  </tbody>\n",
       "</table>\n",
       "</div>"
      ],
      "text/plain": [
       "                                           Job title  \\\n",
       "0           Senior Data Analyst - PLM Data Migration   \n",
       "1                                       Data Analyst   \n",
       "2                                Senior Data Analyst   \n",
       "3                                  Lead Data Analyst   \n",
       "4  Contractual Hiring For Top MNC || Business Dat...   \n",
       "5            Master Data Management Business Analyst   \n",
       "6                                       Data Analyst   \n",
       "7             Sr. Data Analyst (SAS Data Management)   \n",
       "8                                  Lead Data Analyst   \n",
       "9                                       Data Analyst   \n",
       "\n",
       "                         Company Experience  \\\n",
       "0                            CGI    3-6 Yrs   \n",
       "1                            IBM    3-4 Yrs   \n",
       "2                    Groundtruth    5-8 Yrs   \n",
       "3    Mobile Premier League (MPL)    4-7 Yrs   \n",
       "4                      TeamLease    5-8 Yrs   \n",
       "5                      Accenture    6-8 Yrs   \n",
       "6                         Bsharp    1-3 Yrs   \n",
       "7                 NMS Consultant   5-10 Yrs   \n",
       "8  SVB Global Services India Llp   8-13 Yrs   \n",
       "9                            IBM    3-4 Yrs   \n",
       "\n",
       "                                                Link  \n",
       "0  https://www.naukri.com/job-listings-senior-dat...  \n",
       "1  https://www.naukri.com/job-listings-data-analy...  \n",
       "2  https://www.naukri.com/job-listings-senior-dat...  \n",
       "3  https://www.naukri.com/job-listings-lead-data-...  \n",
       "4  https://www.naukri.com/job-listings-contractua...  \n",
       "5  https://www.naukri.com/job-listings-master-dat...  \n",
       "6  https://www.naukri.com/job-listings-data-analy...  \n",
       "7  https://www.naukri.com/job-listings-sr-data-an...  \n",
       "8  https://www.naukri.com/job-listings-lead-data-...  \n",
       "9  https://www.naukri.com/job-listings-data-analy...  "
      ]
     },
     "execution_count": 17,
     "metadata": {},
     "output_type": "execute_result"
    }
   ],
   "source": [
    "job_data = {\"Job title\":job_title[:10],\"Company\":company_name[:10],\"Experience\":experience_yrs[:10],\"Link\":job_link[:10]}\n",
    "job_df = pd.DataFrame(job_data)\n",
    "job_df"
   ]
  },
  {
   "cell_type": "markdown",
   "id": "e501ef70",
   "metadata": {},
   "source": [
    "Q2: Write a python program to scrape data for “Data Scientist” Job position in “Bangalore” location. You\n",
    "have to scrape the job-title, job-location, company_name. You have to scrape first 10 jobs data.\n",
    "This task will be done in following steps:\n",
    "1. First get the webpage https://www.naukri.com/\n",
    "2. Enter “Data Scientist” in “Skill, Designations, Companies” field and enter “Bangalore” in “enter the\n",
    "location” field.\n",
    "3. Then click the search button.\n",
    "4. Then scrape the data for the first 10 jobs results you get.\n",
    "5. Finally create a dataframe of the scraped data."
   ]
  },
  {
   "cell_type": "code",
   "execution_count": 30,
   "id": "4e304e38",
   "metadata": {},
   "outputs": [],
   "source": [
    "driver2 = webdriver.Edge(r\"C:\\Users\\Atharva\\Internship project\\Web Sraping assignment-2\\msedgedriver.exe\")\n",
    "driver2.maximize_window()\n",
    "url2 = \"https://www.naukri.com/\"\n",
    "driver2.get(url2)"
   ]
  },
  {
   "cell_type": "code",
   "execution_count": 31,
   "id": "c107b9eb",
   "metadata": {},
   "outputs": [],
   "source": [
    "search_job2 = driver2.find_element(By.XPATH,\"/html/body/div[1]/div[6]/div/div/div[1]/div/div/div/input\")\n",
    "search_job2.send_keys(\"Data scientist\")"
   ]
  },
  {
   "cell_type": "code",
   "execution_count": 32,
   "id": "fe74c72b",
   "metadata": {},
   "outputs": [],
   "source": [
    "search_loc2 = driver2.find_element(By.XPATH,\"/html/body/div[1]/div[6]/div/div/div[5]/div/div/div/input\")\n",
    "search_loc2.send_keys(\"Bangalore\")"
   ]
  },
  {
   "cell_type": "code",
   "execution_count": 33,
   "id": "a7673420",
   "metadata": {},
   "outputs": [],
   "source": [
    "search_but2 = driver2.find_element(By.XPATH,\"/html/body/div[1]/div[6]/div/div/div[6]\")\n",
    "search_but2.click()"
   ]
  },
  {
   "cell_type": "code",
   "execution_count": 34,
   "id": "eb5cdb24",
   "metadata": {},
   "outputs": [
    {
     "data": {
      "text/plain": [
       "['Analystics & Modeling Specialist',\n",
       " 'Senior Data Scientist',\n",
       " 'Assistant Manager - Data Science',\n",
       " 'Data Scientist',\n",
       " 'Data Scientist',\n",
       " 'ACN - Applied Intelligence - Data Scientist - 09',\n",
       " 'Data Scientist - 2',\n",
       " 'Data Scientist - Looking For Immediate Joiners',\n",
       " 'Senior Data Scientist',\n",
       " 'Data Scientist - II',\n",
       " 'Lead ML Scientist',\n",
       " 'Python Programming Language Data Science Practitioner',\n",
       " 'Industry X - Software Engineering',\n",
       " 'Data Scientist: Artificial Intelligence',\n",
       " 'ACN - Applied Intelligence - C4DI - Sustainability - 09',\n",
       " 'Data Scientist',\n",
       " 'Data Scientist',\n",
       " 'Data Scientist',\n",
       " 'Data Scientist',\n",
       " 'Opportunity For Data Scientist - Female Candidates ONLY']"
      ]
     },
     "execution_count": 34,
     "metadata": {},
     "output_type": "execute_result"
    }
   ],
   "source": [
    "job_title2 = []\n",
    "\n",
    "for i in driver2.find_elements(By.XPATH,\"//a[@class='title fw500 ellipsis']\"):\n",
    "    job_title2.append(i.text)\n",
    "    \n",
    "job_title2"
   ]
  },
  {
   "cell_type": "code",
   "execution_count": 35,
   "id": "42f193b6",
   "metadata": {},
   "outputs": [
    {
     "data": {
      "text/plain": [
       "['Accenture',\n",
       " 'Wipro',\n",
       " 'Citiustech',\n",
       " 'Altair',\n",
       " 'Quest Global',\n",
       " 'Accenture',\n",
       " '24 7 ai',\n",
       " 'Wipro',\n",
       " 'Boston Consulting Group',\n",
       " 'Bizongo',\n",
       " 'Fractal Analytics',\n",
       " 'Accenture',\n",
       " 'Accenture',\n",
       " 'IBM',\n",
       " 'Accenture',\n",
       " 'Applied Materials',\n",
       " 'Applied Materials',\n",
       " 'Puma Sports India',\n",
       " 'HCLTech',\n",
       " 'PayU Finance']"
      ]
     },
     "execution_count": 35,
     "metadata": {},
     "output_type": "execute_result"
    }
   ],
   "source": [
    "company_name2 = []\n",
    "\n",
    "for i in driver2.find_elements(By.XPATH,\"//a[@class='subTitle ellipsis fleft']\"):\n",
    "    company_name2.append(i.text)\n",
    "    \n",
    "company_name2"
   ]
  },
  {
   "cell_type": "code",
   "execution_count": 37,
   "id": "fcc0cdcb",
   "metadata": {},
   "outputs": [
    {
     "data": {
      "text/plain": [
       "['6-8 Yrs',\n",
       " '6-11 Yrs',\n",
       " '5-9 Yrs',\n",
       " '2-7 Yrs',\n",
       " '5-7 Yrs',\n",
       " '2-6 Yrs',\n",
       " '1-3 Yrs',\n",
       " '5-10 Yrs',\n",
       " '5-10 Yrs',\n",
       " '3-6 Yrs',\n",
       " '6-10 Yrs',\n",
       " '4-6 Yrs',\n",
       " '3-5 Yrs',\n",
       " '4-8 Yrs',\n",
       " '4-6 Yrs',\n",
       " '4-7 Yrs',\n",
       " '4-7 Yrs',\n",
       " '1-2 Yrs',\n",
       " '4-9 Yrs',\n",
       " '3-7 Yrs']"
      ]
     },
     "execution_count": 37,
     "metadata": {},
     "output_type": "execute_result"
    }
   ],
   "source": [
    "experience_yrs2 = []\n",
    "\n",
    "for i in driver2.find_elements(By.XPATH,'//span[@class=\"ellipsis fleft fs12 lh16 expwdth\"]'):\n",
    "    experience_yrs2.append(i.text)\n",
    "    \n",
    "experience_yrs2"
   ]
  },
  {
   "cell_type": "code",
   "execution_count": 38,
   "id": "b9aeb643",
   "metadata": {},
   "outputs": [
    {
     "data": {
      "text/plain": [
       "['https://www.naukri.com/job-listings-analystics-modeling-specialist-accenture-solutions-pvt-ltd-kolkata-mumbai-hyderabad-secunderabad-pune-chennai-bangalore-bengaluru-6-to-8-years-311022905632',\n",
       " 'https://www.naukri.com/job-listings-senior-data-scientist-wipro-limited-pune-chennai-bangalore-bengaluru-6-to-11-years-021122012242',\n",
       " 'https://www.naukri.com/job-listings-assistant-manager-data-science-citiustech-healthcare-technology-pvt-ltd-mumbai-pune-bangalore-bengaluru-5-to-9-years-010822004921',\n",
       " 'https://www.naukri.com/job-listings-data-scientist-altair-engineering-india-private-limited-hyderabad-secunderabad-pune-chennai-bangalore-bengaluru-2-to-7-years-281022006381',\n",
       " 'https://www.naukri.com/job-listings-data-scientist-quest-global-engineering-services-private-limited-bangalore-bengaluru-5-to-7-years-031122914421',\n",
       " 'https://www.naukri.com/job-listings-acn-applied-intelligence-data-scientist-09-accenture-solutions-pvt-ltd-bangalore-bengaluru-2-to-6-years-031122907306',\n",
       " 'https://www.naukri.com/job-listings-data-scientist-2-24-7-customer-private-ltd-bangalore-bengaluru-1-to-3-years-021122501257',\n",
       " 'https://www.naukri.com/job-listings-data-scientist-looking-for-immediate-joiners-wipro-limited-hyderabad-secunderabad-bangalore-bengaluru-5-to-10-years-011122013529',\n",
       " 'https://www.naukri.com/job-listings-senior-data-scientist-boston-consulting-group-mumbai-new-delhi-chennai-bangalore-bengaluru-5-to-10-years-210922500870',\n",
       " 'https://www.naukri.com/job-listings-data-scientist-ii-smartpaddle-technology-pvt-ltd-bangalore-bengaluru-mumbai-all-areas-india-3-to-6-years-210722606804',\n",
       " 'https://www.naukri.com/job-listings-lead-ml-scientist-fractal-analytics-ltd-mumbai-bangalore-bengaluru-6-to-10-years-180822503121',\n",
       " 'https://www.naukri.com/job-listings-python-programming-language-data-science-practitioner-accenture-solutions-pvt-ltd-bangalore-bengaluru-4-to-6-years-311022913480',\n",
       " 'https://www.naukri.com/job-listings-industry-x-software-engineering-accenture-solutions-pvt-ltd-bangalore-bengaluru-3-to-5-years-311022910156',\n",
       " 'https://www.naukri.com/job-listings-data-scientist-artificial-intelligence-ibm-india-pvt-limited-bangalore-bengaluru-4-to-8-years-311022907901',\n",
       " 'https://www.naukri.com/job-listings-acn-applied-intelligence-c4di-sustainability-09-accenture-solutions-pvt-ltd-bangalore-bengaluru-4-to-6-years-311022901829',\n",
       " 'https://www.naukri.com/job-listings-data-scientist-applied-materials-india-private-limited-bangalore-bengaluru-4-to-7-years-311022501616',\n",
       " 'https://www.naukri.com/job-listings-data-scientist-applied-materials-india-private-limited-bangalore-bengaluru-4-to-7-years-311022501615',\n",
       " 'https://www.naukri.com/job-listings-data-scientist-puma-sports-india-private-limited-bangalore-bengaluru-1-to-2-years-281022502513',\n",
       " 'https://www.naukri.com/job-listings-data-scientist-hcl-technologies-limited-noida-hyderabad-secunderabad-chennai-bangalore-bengaluru-4-to-9-years-271022004703',\n",
       " 'https://www.naukri.com/job-listings-opportunity-for-data-scientist-female-candidates-only-payu-finance-gurgaon-gurugram-bangalore-bengaluru-mumbai-all-areas-3-to-7-years-040722005955']"
      ]
     },
     "execution_count": 38,
     "metadata": {},
     "output_type": "execute_result"
    }
   ],
   "source": [
    "job_link2 = []\n",
    "\n",
    "for i in driver2.find_elements(By.XPATH,'//a[@class=\"title fw500 ellipsis\"]'):\n",
    "    job_link2.append(i.get_attribute(\"href\"))\n",
    "\n",
    "job_link2"
   ]
  },
  {
   "cell_type": "code",
   "execution_count": 39,
   "id": "8cd7fc24",
   "metadata": {},
   "outputs": [
    {
     "data": {
      "text/plain": [
       "(20, 20, 20, 20)"
      ]
     },
     "execution_count": 39,
     "metadata": {},
     "output_type": "execute_result"
    }
   ],
   "source": [
    "len(job_title2),len(company_name2),len(experience_yrs2),len(job_link2)"
   ]
  },
  {
   "cell_type": "code",
   "execution_count": 41,
   "id": "c7627a8f",
   "metadata": {},
   "outputs": [
    {
     "data": {
      "text/html": [
       "<div>\n",
       "<style scoped>\n",
       "    .dataframe tbody tr th:only-of-type {\n",
       "        vertical-align: middle;\n",
       "    }\n",
       "\n",
       "    .dataframe tbody tr th {\n",
       "        vertical-align: top;\n",
       "    }\n",
       "\n",
       "    .dataframe thead th {\n",
       "        text-align: right;\n",
       "    }\n",
       "</style>\n",
       "<table border=\"1\" class=\"dataframe\">\n",
       "  <thead>\n",
       "    <tr style=\"text-align: right;\">\n",
       "      <th></th>\n",
       "      <th>job Titel</th>\n",
       "      <th>compan</th>\n",
       "      <th>experience</th>\n",
       "      <th>job link</th>\n",
       "    </tr>\n",
       "  </thead>\n",
       "  <tbody>\n",
       "    <tr>\n",
       "      <th>0</th>\n",
       "      <td>Analystics &amp; Modeling Specialist</td>\n",
       "      <td>Accenture</td>\n",
       "      <td>6-8 Yrs</td>\n",
       "      <td>https://www.naukri.com/job-listings-analystics...</td>\n",
       "    </tr>\n",
       "    <tr>\n",
       "      <th>1</th>\n",
       "      <td>Senior Data Scientist</td>\n",
       "      <td>Wipro</td>\n",
       "      <td>6-11 Yrs</td>\n",
       "      <td>https://www.naukri.com/job-listings-senior-dat...</td>\n",
       "    </tr>\n",
       "    <tr>\n",
       "      <th>2</th>\n",
       "      <td>Assistant Manager - Data Science</td>\n",
       "      <td>Citiustech</td>\n",
       "      <td>5-9 Yrs</td>\n",
       "      <td>https://www.naukri.com/job-listings-assistant-...</td>\n",
       "    </tr>\n",
       "    <tr>\n",
       "      <th>3</th>\n",
       "      <td>Data Scientist</td>\n",
       "      <td>Altair</td>\n",
       "      <td>2-7 Yrs</td>\n",
       "      <td>https://www.naukri.com/job-listings-data-scien...</td>\n",
       "    </tr>\n",
       "    <tr>\n",
       "      <th>4</th>\n",
       "      <td>Data Scientist</td>\n",
       "      <td>Quest Global</td>\n",
       "      <td>5-7 Yrs</td>\n",
       "      <td>https://www.naukri.com/job-listings-data-scien...</td>\n",
       "    </tr>\n",
       "    <tr>\n",
       "      <th>5</th>\n",
       "      <td>ACN - Applied Intelligence - Data Scientist - 09</td>\n",
       "      <td>Accenture</td>\n",
       "      <td>2-6 Yrs</td>\n",
       "      <td>https://www.naukri.com/job-listings-acn-applie...</td>\n",
       "    </tr>\n",
       "    <tr>\n",
       "      <th>6</th>\n",
       "      <td>Data Scientist - 2</td>\n",
       "      <td>24 7 ai</td>\n",
       "      <td>1-3 Yrs</td>\n",
       "      <td>https://www.naukri.com/job-listings-data-scien...</td>\n",
       "    </tr>\n",
       "    <tr>\n",
       "      <th>7</th>\n",
       "      <td>Data Scientist - Looking For Immediate Joiners</td>\n",
       "      <td>Wipro</td>\n",
       "      <td>5-10 Yrs</td>\n",
       "      <td>https://www.naukri.com/job-listings-data-scien...</td>\n",
       "    </tr>\n",
       "    <tr>\n",
       "      <th>8</th>\n",
       "      <td>Senior Data Scientist</td>\n",
       "      <td>Boston Consulting Group</td>\n",
       "      <td>5-10 Yrs</td>\n",
       "      <td>https://www.naukri.com/job-listings-senior-dat...</td>\n",
       "    </tr>\n",
       "    <tr>\n",
       "      <th>9</th>\n",
       "      <td>Data Scientist - II</td>\n",
       "      <td>Bizongo</td>\n",
       "      <td>3-6 Yrs</td>\n",
       "      <td>https://www.naukri.com/job-listings-data-scien...</td>\n",
       "    </tr>\n",
       "  </tbody>\n",
       "</table>\n",
       "</div>"
      ],
      "text/plain": [
       "                                          job Titel                   compan  \\\n",
       "0                  Analystics & Modeling Specialist                Accenture   \n",
       "1                             Senior Data Scientist                    Wipro   \n",
       "2                  Assistant Manager - Data Science               Citiustech   \n",
       "3                                    Data Scientist                   Altair   \n",
       "4                                    Data Scientist             Quest Global   \n",
       "5  ACN - Applied Intelligence - Data Scientist - 09                Accenture   \n",
       "6                                Data Scientist - 2                  24 7 ai   \n",
       "7    Data Scientist - Looking For Immediate Joiners                    Wipro   \n",
       "8                             Senior Data Scientist  Boston Consulting Group   \n",
       "9                               Data Scientist - II                  Bizongo   \n",
       "\n",
       "  experience                                           job link  \n",
       "0    6-8 Yrs  https://www.naukri.com/job-listings-analystics...  \n",
       "1   6-11 Yrs  https://www.naukri.com/job-listings-senior-dat...  \n",
       "2    5-9 Yrs  https://www.naukri.com/job-listings-assistant-...  \n",
       "3    2-7 Yrs  https://www.naukri.com/job-listings-data-scien...  \n",
       "4    5-7 Yrs  https://www.naukri.com/job-listings-data-scien...  \n",
       "5    2-6 Yrs  https://www.naukri.com/job-listings-acn-applie...  \n",
       "6    1-3 Yrs  https://www.naukri.com/job-listings-data-scien...  \n",
       "7   5-10 Yrs  https://www.naukri.com/job-listings-data-scien...  \n",
       "8   5-10 Yrs  https://www.naukri.com/job-listings-senior-dat...  \n",
       "9    3-6 Yrs  https://www.naukri.com/job-listings-data-scien...  "
      ]
     },
     "execution_count": 41,
     "metadata": {},
     "output_type": "execute_result"
    }
   ],
   "source": [
    "job2_df = pd.DataFrame()\n",
    "job2_df[\"job Titel\"] = job_title2[:10]\n",
    "job2_df[\"compan\"]=company_name2[:10]\n",
    "job2_df[\"experience\"]=experience_yrs2[:10]\n",
    "job2_df[\"job link\"]=job_link2[:10]\n",
    "\n",
    "job2_df"
   ]
  },
  {
   "cell_type": "markdown",
   "id": "f2fb0b77",
   "metadata": {},
   "source": [
    "Q3: In this question you have to scrape data using the filters available on the webpage as shown below:\n",
    "ASSIGNMENT 2\n",
    "You have to use the location and salary filter.\n",
    "You have to scrape data for “Data Scientist” designation for first 10 job results.\n",
    "You have to scrape the job-title, job-location, company name, experience required.\n",
    "The location filter to be used is “Delhi/NCR”. The salary filter to be used is “3-6” lakhs\n",
    "The task will be done as shown in the below steps:\n",
    "1. first get the webpage https://www.naukri.com/\n",
    "2. Enter “Data Scientist” in “Skill, Designations, and Companies” field.\n",
    "3. Then click the search button.\n",
    "4. Then apply the location filter and salary filter by checking the respective boxes\n",
    "5. Then scrape the data for the first 10 jobs results you get.\n",
    "6. Finally create a dataframe of the scraped data"
   ]
  },
  {
   "cell_type": "code",
   "execution_count": 62,
   "id": "b879d301",
   "metadata": {},
   "outputs": [],
   "source": [
    "driver3 = webdriver.Edge(r\"C:\\Users\\Atharva\\Internship project\\Web Sraping assignment-2\\msedgedriver.exe\")\n",
    "driver3.maximize_window()\n",
    "\n",
    "url3 = \"https://www.naukri.com/\"\n",
    "driver3.get(url3)"
   ]
  },
  {
   "cell_type": "code",
   "execution_count": 63,
   "id": "46e6f5fc",
   "metadata": {},
   "outputs": [],
   "source": [
    "search_job3 = driver3.find_element(By.XPATH,\"/html/body/div[1]/div[6]/div/div/div[1]/div/div/div/input\")\n",
    "search_job3.send_keys(\"Data scientist\")"
   ]
  },
  {
   "cell_type": "code",
   "execution_count": 64,
   "id": "94bd817a",
   "metadata": {},
   "outputs": [],
   "source": [
    "search_loc3 = driver3.find_element(By.XPATH,\"/html/body/div[1]/div[6]/div/div/div[5]/div/div/div/input\")\n",
    "search_loc3.send_keys(\"Delhi/NCR\")"
   ]
  },
  {
   "cell_type": "code",
   "execution_count": 65,
   "id": "abffe045",
   "metadata": {},
   "outputs": [],
   "source": [
    "search_but3 = driver3.find_element(By.XPATH,\"/html/body/div[1]/div[6]/div/div/div[6]\")\n",
    "search_but3.click()"
   ]
  },
  {
   "cell_type": "code",
   "execution_count": 66,
   "id": "f10ceae8",
   "metadata": {},
   "outputs": [],
   "source": [
    "salary_fil = driver3.find_element(By.XPATH,\"/html/body/div[1]/div[4]/div/section[1]/div[2]/div[5]/div[2]/div[2]/label/i\")\n",
    "salary_fil.click()"
   ]
  },
  {
   "cell_type": "code",
   "execution_count": 68,
   "id": "bf9c9b09",
   "metadata": {},
   "outputs": [],
   "source": [
    "filter_loc = driver3.find_element(By.XPATH,\"/html/body/div[1]/div[4]/div/section[1]/div[2]/div[13]/div[3]/div[2]/div[1]/div/div[1]/div[5]/label/i\")\n",
    "filter_loc.click()"
   ]
  },
  {
   "cell_type": "code",
   "execution_count": 69,
   "id": "06f9e8b5",
   "metadata": {},
   "outputs": [
    {
     "data": {
      "text/plain": [
       "['Data Scientist - 2',\n",
       " 'Data Scientist - Looking For Immediate Joiners',\n",
       " 'Python Programming Language Data Science Practitioner',\n",
       " 'Data Scientist',\n",
       " 'Senior Associate - MSET Support Role QR',\n",
       " 'Data Scientist/Sr. Data Scientist',\n",
       " 'Data Scientist',\n",
       " 'DigitalBCG GAMMA Data Scientist',\n",
       " 'Data Scientist',\n",
       " 'Staff Research Scientist',\n",
       " 'ML Engineer',\n",
       " 'SnapLogic Data Science Practitioner',\n",
       " 'Lead Software Engineer I',\n",
       " 'Data Scientist, II',\n",
       " 'Data Scientist / Sr. Data Engineer',\n",
       " 'Data Scientist - Product Supply Manager',\n",
       " 'Data Scientist',\n",
       " 'Data Scientist @ Heritage Foods Ltd, HYD.',\n",
       " 'Specialist - Data Science - GMO',\n",
       " 'Senior Data scientist']"
      ]
     },
     "execution_count": 69,
     "metadata": {},
     "output_type": "execute_result"
    }
   ],
   "source": [
    "job_title3 = []\n",
    "\n",
    "for i in driver3.find_elements(By.XPATH,\"//a[@class='title fw500 ellipsis']\"):\n",
    "    job_title3.append(i.text)\n",
    "    \n",
    "job_title3"
   ]
  },
  {
   "cell_type": "code",
   "execution_count": 70,
   "id": "e4ed60d6",
   "metadata": {},
   "outputs": [
    {
     "data": {
      "text/plain": [
       "['24 7 ai',\n",
       " 'Wipro',\n",
       " 'Accenture',\n",
       " 'HCLTech',\n",
       " 'Morgan Stanley',\n",
       " 'Synechron',\n",
       " 'Infosys',\n",
       " 'Boston Consulting Group',\n",
       " 'Quest Global',\n",
       " 'Swiggy',\n",
       " 'Groww',\n",
       " 'Accenture',\n",
       " 'Allstate Solutions (ASPL)',\n",
       " 'Zebra Technologies',\n",
       " 'Privaini Software India Pvt Ltd',\n",
       " 'P&G',\n",
       " 'Marsh Mclennan Global Services India',\n",
       " 'Heritage Foods',\n",
       " 'Dr Reddys',\n",
       " 'Vision Data Analytics']"
      ]
     },
     "execution_count": 70,
     "metadata": {},
     "output_type": "execute_result"
    }
   ],
   "source": [
    "company_name3 = []\n",
    "\n",
    "for i in driver3.find_elements(By.XPATH,\"//a[@class='subTitle ellipsis fleft']\"):\n",
    "    company_name3.append(i.text)\n",
    "    \n",
    "company_name3"
   ]
  },
  {
   "cell_type": "code",
   "execution_count": 71,
   "id": "041e71c8",
   "metadata": {},
   "outputs": [
    {
     "data": {
      "text/plain": [
       "['1-3 Yrs',\n",
       " '5-10 Yrs',\n",
       " '4-6 Yrs',\n",
       " '4-9 Yrs',\n",
       " '0-3 Yrs',\n",
       " '5-10 Yrs',\n",
       " '3-5 Yrs',\n",
       " '2-5 Yrs',\n",
       " '3-6 Yrs',\n",
       " '1-5 Yrs',\n",
       " '2-5 Yrs',\n",
       " '2-4 Yrs',\n",
       " '6-8 Yrs',\n",
       " '2-5 Yrs',\n",
       " '5-8 Yrs',\n",
       " '2-3 Yrs',\n",
       " '9-11 Yrs',\n",
       " '2-4 Yrs',\n",
       " '2-6 Yrs',\n",
       " '6-11 Yrs']"
      ]
     },
     "execution_count": 71,
     "metadata": {},
     "output_type": "execute_result"
    }
   ],
   "source": [
    "experience_yrs3 = []\n",
    "\n",
    "for i in driver3.find_elements(By.XPATH,'//span[@class=\"ellipsis fleft fs12 lh16 expwdth\"]'):\n",
    "    experience_yrs3.append(i.text)\n",
    "    \n",
    "experience_yrs3"
   ]
  },
  {
   "cell_type": "code",
   "execution_count": 72,
   "id": "eb469226",
   "metadata": {},
   "outputs": [
    {
     "data": {
      "text/plain": [
       "['Bangalore/Bengaluru',\n",
       " 'Hybrid - Hyderabad/Secunderabad, Bangalore/Bengaluru',\n",
       " 'Bangalore/Bengaluru',\n",
       " 'Noida, Hyderabad/Secunderabad, Chennai, Bangalore/Bengaluru',\n",
       " 'Japan, Mumbai',\n",
       " 'Bangalore/Bengaluru',\n",
       " 'Bangalore/Bengaluru',\n",
       " 'New Delhi, Bangalore/Bengaluru',\n",
       " 'Bangalore/Bengaluru',\n",
       " 'Bangalore/Bengaluru',\n",
       " 'Bangalore/Bengaluru',\n",
       " 'Mumbai',\n",
       " 'Bangalore/Bengaluru',\n",
       " 'Bangalore/Bengaluru',\n",
       " 'Temp. WFH - Bangalore/Bengaluru(Sadashiva Nagar)',\n",
       " 'Baddi',\n",
       " 'Hybrid - Mumbai, Pune',\n",
       " 'Hyderabad/Secunderabad',\n",
       " 'Hyderabad/Secunderabad',\n",
       " 'Temp. WFH - Bangalore/Bengaluru, Mumbai (All Areas)']"
      ]
     },
     "execution_count": 72,
     "metadata": {},
     "output_type": "execute_result"
    }
   ],
   "source": [
    "job_location3 = []\n",
    "\n",
    "for i in driver3.find_elements(By.XPATH,'//span[@class=\"ellipsis fleft fs12 lh16 locWdth\"]'):\n",
    "    job_location3.append(i.text)\n",
    "    \n",
    "job_location3"
   ]
  },
  {
   "cell_type": "code",
   "execution_count": 73,
   "id": "a1c718bf",
   "metadata": {},
   "outputs": [
    {
     "data": {
      "text/html": [
       "<div>\n",
       "<style scoped>\n",
       "    .dataframe tbody tr th:only-of-type {\n",
       "        vertical-align: middle;\n",
       "    }\n",
       "\n",
       "    .dataframe tbody tr th {\n",
       "        vertical-align: top;\n",
       "    }\n",
       "\n",
       "    .dataframe thead th {\n",
       "        text-align: right;\n",
       "    }\n",
       "</style>\n",
       "<table border=\"1\" class=\"dataframe\">\n",
       "  <thead>\n",
       "    <tr style=\"text-align: right;\">\n",
       "      <th></th>\n",
       "      <th>Job title</th>\n",
       "      <th>job location</th>\n",
       "      <th>comapany name</th>\n",
       "      <th>experience required</th>\n",
       "    </tr>\n",
       "  </thead>\n",
       "  <tbody>\n",
       "    <tr>\n",
       "      <th>0</th>\n",
       "      <td>Data Scientist - 2</td>\n",
       "      <td>Bangalore/Bengaluru</td>\n",
       "      <td>24 7 ai</td>\n",
       "      <td>1-3 Yrs</td>\n",
       "    </tr>\n",
       "    <tr>\n",
       "      <th>1</th>\n",
       "      <td>Data Scientist - Looking For Immediate Joiners</td>\n",
       "      <td>Hybrid - Hyderabad/Secunderabad, Bangalore/Ben...</td>\n",
       "      <td>Wipro</td>\n",
       "      <td>5-10 Yrs</td>\n",
       "    </tr>\n",
       "    <tr>\n",
       "      <th>2</th>\n",
       "      <td>Python Programming Language Data Science Pract...</td>\n",
       "      <td>Bangalore/Bengaluru</td>\n",
       "      <td>Accenture</td>\n",
       "      <td>4-6 Yrs</td>\n",
       "    </tr>\n",
       "    <tr>\n",
       "      <th>3</th>\n",
       "      <td>Data Scientist</td>\n",
       "      <td>Noida, Hyderabad/Secunderabad, Chennai, Bangal...</td>\n",
       "      <td>HCLTech</td>\n",
       "      <td>4-9 Yrs</td>\n",
       "    </tr>\n",
       "    <tr>\n",
       "      <th>4</th>\n",
       "      <td>Senior Associate - MSET Support Role QR</td>\n",
       "      <td>Japan, Mumbai</td>\n",
       "      <td>Morgan Stanley</td>\n",
       "      <td>0-3 Yrs</td>\n",
       "    </tr>\n",
       "    <tr>\n",
       "      <th>5</th>\n",
       "      <td>Data Scientist/Sr. Data Scientist</td>\n",
       "      <td>Bangalore/Bengaluru</td>\n",
       "      <td>Synechron</td>\n",
       "      <td>5-10 Yrs</td>\n",
       "    </tr>\n",
       "    <tr>\n",
       "      <th>6</th>\n",
       "      <td>Data Scientist</td>\n",
       "      <td>Bangalore/Bengaluru</td>\n",
       "      <td>Infosys</td>\n",
       "      <td>3-5 Yrs</td>\n",
       "    </tr>\n",
       "    <tr>\n",
       "      <th>7</th>\n",
       "      <td>DigitalBCG GAMMA Data Scientist</td>\n",
       "      <td>New Delhi, Bangalore/Bengaluru</td>\n",
       "      <td>Boston Consulting Group</td>\n",
       "      <td>2-5 Yrs</td>\n",
       "    </tr>\n",
       "    <tr>\n",
       "      <th>8</th>\n",
       "      <td>Data Scientist</td>\n",
       "      <td>Bangalore/Bengaluru</td>\n",
       "      <td>Quest Global</td>\n",
       "      <td>3-6 Yrs</td>\n",
       "    </tr>\n",
       "    <tr>\n",
       "      <th>9</th>\n",
       "      <td>Staff Research Scientist</td>\n",
       "      <td>Bangalore/Bengaluru</td>\n",
       "      <td>Swiggy</td>\n",
       "      <td>1-5 Yrs</td>\n",
       "    </tr>\n",
       "  </tbody>\n",
       "</table>\n",
       "</div>"
      ],
      "text/plain": [
       "                                           Job title  \\\n",
       "0                                 Data Scientist - 2   \n",
       "1     Data Scientist - Looking For Immediate Joiners   \n",
       "2  Python Programming Language Data Science Pract...   \n",
       "3                                     Data Scientist   \n",
       "4            Senior Associate - MSET Support Role QR   \n",
       "5                  Data Scientist/Sr. Data Scientist   \n",
       "6                                     Data Scientist   \n",
       "7                    DigitalBCG GAMMA Data Scientist   \n",
       "8                                     Data Scientist   \n",
       "9                           Staff Research Scientist   \n",
       "\n",
       "                                        job location            comapany name  \\\n",
       "0                                Bangalore/Bengaluru                  24 7 ai   \n",
       "1  Hybrid - Hyderabad/Secunderabad, Bangalore/Ben...                    Wipro   \n",
       "2                                Bangalore/Bengaluru                Accenture   \n",
       "3  Noida, Hyderabad/Secunderabad, Chennai, Bangal...                  HCLTech   \n",
       "4                                      Japan, Mumbai           Morgan Stanley   \n",
       "5                                Bangalore/Bengaluru                Synechron   \n",
       "6                                Bangalore/Bengaluru                  Infosys   \n",
       "7                     New Delhi, Bangalore/Bengaluru  Boston Consulting Group   \n",
       "8                                Bangalore/Bengaluru             Quest Global   \n",
       "9                                Bangalore/Bengaluru                   Swiggy   \n",
       "\n",
       "  experience required  \n",
       "0             1-3 Yrs  \n",
       "1            5-10 Yrs  \n",
       "2             4-6 Yrs  \n",
       "3             4-9 Yrs  \n",
       "4             0-3 Yrs  \n",
       "5            5-10 Yrs  \n",
       "6             3-5 Yrs  \n",
       "7             2-5 Yrs  \n",
       "8             3-6 Yrs  \n",
       "9             1-5 Yrs  "
      ]
     },
     "execution_count": 73,
     "metadata": {},
     "output_type": "execute_result"
    }
   ],
   "source": [
    "job3_df = pd.DataFrame()\n",
    "job3_df[\"Job title\"]=job_title3[:10]\n",
    "job3_df[\"job location\"]=job_location3[:10]\n",
    "job3_df[\"comapany name\"]=company_name3[:10]\n",
    "job3_df[\"experience required\"]=experience_yrs3[:10]\n",
    "\n",
    "job3_df"
   ]
  },
  {
   "cell_type": "markdown",
   "id": "0971812c",
   "metadata": {},
   "source": [
    "Q4: Scrape data of first 100 sunglasses listings on flipkart.com. You have to scrape four attributes:\n",
    "1. Brand\n",
    "2. Product Description\n",
    "3. Price\n",
    "The attributes which you have to scrape is ticked marked in the below image.\n",
    "To scrape the data you have to go through following steps:\n",
    "1. Go to Flipkart webpage by url : https://www.flipkart.com/\n",
    "2. Enter “sunglasses” in the search field where “search for products, brands and more” is written and\n",
    "click the search icon\n",
    "3. After that you will reach to the page having a lot of sunglasses. From this page you can scrap the\n",
    "required data as usual"
   ]
  },
  {
   "cell_type": "code",
   "execution_count": 42,
   "id": "30865d8d",
   "metadata": {},
   "outputs": [],
   "source": [
    "driver4 = webdriver.Edge(r\"C:\\Users\\Atharva\\Internship project\\Web Sraping assignment-2\\msedgedriver.exe\")\n",
    "driver4.maximize_window()\n",
    "\n",
    "url4 = \"https://www.flipkart.com/\"\n",
    "driver4.get(url4)"
   ]
  },
  {
   "cell_type": "code",
   "execution_count": 43,
   "id": "261481e1",
   "metadata": {},
   "outputs": [],
   "source": [
    "search_4 = driver4.find_element(By.XPATH,\"/html/body/div[1]/div/div[1]/div[1]/div[2]/div[2]/form/div/div/input\")\n",
    "search_4.send_keys(\"sunglasses\")"
   ]
  },
  {
   "cell_type": "code",
   "execution_count": 45,
   "id": "e8db8885",
   "metadata": {},
   "outputs": [],
   "source": [
    "search_but4 = driver4.find_element(By.XPATH,\"/html/body/div[1]/div/div[1]/div[1]/div[2]/div[2]/form/div/button\")\n",
    "search_but4.click()"
   ]
  },
  {
   "cell_type": "code",
   "execution_count": 46,
   "id": "90dff7ba",
   "metadata": {},
   "outputs": [
    {
     "name": "stdout",
     "output_type": "stream",
     "text": [
      "40\n",
      "['RESIST EYEWEAR', 'Silver Kartz', 'Fastrack', 'PIRASO', 'Fastrack', 'SUNBEE', 'Fastrack', 'ROZZETTA CRAFT', 'PIRASO', 'Fastrack', 'ROYAL SON', 'Singco India', 'New Specs', 'PIRASO', 'Fastrack', 'ROZZETTA CRAFT', 'Silver Kartz', 'Singco India', 'VINCENT CHASE', 'Sewell', 'ROYAL SON', 'ROZZETTA CRAFT', 'Elligator', 'SHAAH COLLECTIONS', 'Fastrack', 'Elligator', 'GANSTA', 'Singco India', 'VINCENT CHASE', 'PIRASO', 'ROZZETTA CRAFT', 'Silver Kartz', 'GANSTA', 'PIRASO', 'SRPM', 'SRPM', 'ROYAL SON', 'ROZZETTA CRAFT', 'Fastrack', 'PIRASO']\n"
     ]
    }
   ],
   "source": [
    "brand_name = []\n",
    "\n",
    "for i in driver4.find_elements(By.XPATH,'//div[@class=\"_2WkVRV\"]'):\n",
    "    brand_name.append(i.text)\n",
    "    \n",
    "print(len(brand_name))\n",
    "print(brand_name)"
   ]
  },
  {
   "cell_type": "code",
   "execution_count": 47,
   "id": "f9fcf41e",
   "metadata": {},
   "outputs": [
    {
     "name": "stdout",
     "output_type": "stream",
     "text": [
      "40\n",
      "['Polarized, Riding Glasses, UV Protection Wayfarer Sungl...', 'UV Protection Clubmaster Sunglasses (53)', 'UV Protection Wayfarer Sunglasses (Free Size)', 'UV Protection Rectangular Sunglasses (52)', 'UV Protection Rectangular Sunglasses (Free Size)', 'UV Protection, Polarized Wayfarer Sunglasses (Free Size...', 'UV Protection Shield Sunglasses (Free Size)', 'UV Protection, Gradient Retro Square Sunglasses (62)', 'UV Protection Aviator Sunglasses (54)', 'Gradient, UV Protection Wayfarer Sunglasses (Free Size)', 'Gradient, UV Protection Round, Oval, Cat-eye Sunglasses...', 'UV Protection, Riding Glasses, Others Aviator, Wayfarer...', 'UV Protection Rectangular Sunglasses (Free Size)', 'UV Protection Wayfarer Sunglasses (55)', 'Gradient, UV Protection Wayfarer Sunglasses (Free Size)', 'Polarized, Riding Glasses Sports, Wrap-around Sunglasse...', 'UV Protection Wayfarer Sunglasses (Free Size)', 'Gradient, Toughened Glass Lens, UV Protection Retro Squ...', 'UV Protection Wayfarer Sunglasses (59)', 'Mirrored, Night Vision, UV Protection, Riding Glasses S...', 'Polarized, UV Protection Aviator Sunglasses (57)', 'UV Protection, Gradient Rectangular Sunglasses (Free Si...', 'Others Cat-eye, Retro Square, Wayfarer Sunglasses (54)', 'UV Protection, Polarized, Mirrored Rectangular Sunglass...', 'UV Protection Wayfarer Sunglasses (Free Size)', 'UV Protection Cat-eye, Retro Square, Oval, Round Sungla...', 'Gradient, UV Protection Aviator Sunglasses (57)', 'Riding Glasses, UV Protection Clubmaster, Wayfarer Sung...', 'by Lenskart Polarized, UV Protection Cat-eye Sunglasses...', 'UV Protection Wayfarer Sunglasses (32)', 'UV Protection Aviator Sunglasses (55)', 'UV Protection Wayfarer, Aviator Sunglasses (88)', 'UV Protection Retro Square Sunglasses (53)', 'UV Protection Aviator Sunglasses (54)', 'UV Protection Wayfarer Sunglasses (50)', 'Night Vision, UV Protection Round Sunglasses (54)', 'UV Protection Over-sized, Retro Square Sunglasses (61)', 'UV Protection Aviator Sunglasses (62)', 'UV Protection Aviator Sunglasses (58)', 'UV Protection Aviator Sunglasses (58)']\n"
     ]
    }
   ],
   "source": [
    "product_description = []\n",
    "\n",
    "for i in driver4.find_elements(By.XPATH,'//a[@class=\"IRpwTa\"]'):\n",
    "    product_description.append(i.text)\n",
    "    \n",
    "print(len(product_description))\n",
    "print(product_description)"
   ]
  },
  {
   "cell_type": "code",
   "execution_count": 48,
   "id": "c3861b15",
   "metadata": {},
   "outputs": [
    {
     "name": "stdout",
     "output_type": "stream",
     "text": [
      "40\n",
      "['₹1,399', '₹279', '₹649', '₹199', '₹519', '₹283', '₹649', '₹474', '₹251', '₹579', '₹664', '₹215', '₹254', '₹251', '₹679', '₹474', '₹288', '₹575', '₹649', '₹265', '₹759', '₹379', '₹197', '₹185', '₹629', '₹176', '₹296', '₹296', '₹949', '₹209', '₹616', '₹288', '₹220', '₹251', '₹149', '₹199', '₹664', '₹616', '₹939', '₹323']\n"
     ]
    }
   ],
   "source": [
    "product_price= []\n",
    "\n",
    "for i in driver4.find_elements(By.XPATH,'//div[@class=\"_30jeq3\"]'):\n",
    "    product_price.append(i.text)\n",
    "    \n",
    "print(len(product_price))\n",
    "print(product_price)"
   ]
  },
  {
   "cell_type": "code",
   "execution_count": 49,
   "id": "cb517b6c",
   "metadata": {},
   "outputs": [],
   "source": [
    "flip_page2 = driver4.find_element(By.XPATH,\"/html/body/div[1]/div/div[3]/div[1]/div[2]/div[12]/div/div/nav/a[11]\")\n",
    "flip_page2.click()"
   ]
  },
  {
   "cell_type": "code",
   "execution_count": 50,
   "id": "307d7b09",
   "metadata": {},
   "outputs": [
    {
     "name": "stdout",
     "output_type": "stream",
     "text": [
      "80\n",
      "['RESIST EYEWEAR', 'Silver Kartz', 'Fastrack', 'PIRASO', 'Fastrack', 'SUNBEE', 'Fastrack', 'ROZZETTA CRAFT', 'PIRASO', 'Fastrack', 'ROYAL SON', 'Singco India', 'New Specs', 'PIRASO', 'Fastrack', 'ROZZETTA CRAFT', 'Silver Kartz', 'Singco India', 'VINCENT CHASE', 'Sewell', 'ROYAL SON', 'ROZZETTA CRAFT', 'Elligator', 'SHAAH COLLECTIONS', 'Fastrack', 'Elligator', 'GANSTA', 'Singco India', 'VINCENT CHASE', 'PIRASO', 'ROZZETTA CRAFT', 'Silver Kartz', 'GANSTA', 'PIRASO', 'SRPM', 'SRPM', 'ROYAL SON', 'ROZZETTA CRAFT', 'Fastrack', 'PIRASO', 'SUNBEE', 'ROZZETTA CRAFT', 'PIRASO', 'DEIXELS', 'ROZZETTA CRAFT', 'DEIXELS', 'ROYAL SON', 'ROYAL SON', 'Fastrack', 'PIRASO', 'ROZZETTA CRAFT', 'ROYAL SON', 'NuVew', 'Fastrack', 'Elligator', 'Anemone', 'ROYAL SON', 'GANSTA', 'Lee Topper', 'PIRASO', 'ROZZETTA CRAFT', 'ROYAL SON', 'hipe', 'Fastrack', 'ROZZETTA CRAFT', 'Fastrack', 'ROYAL SON', 'ROYAL SON', 'Fastrack', 'ROZZETTA CRAFT', 'Singco India', 'New Specs', 'ROYAL SON', 'Fastrack', 'Satyam Kraft', 'kingsunglasses', 'ROYAL SON', 'ROYAL SON', 'ROZZETTA CRAFT', 'Rich Club']\n"
     ]
    }
   ],
   "source": [
    "for i in driver4.find_elements(By.XPATH,'//div[@class=\"_2WkVRV\"]'):\n",
    "    brand_name.append(i.text)\n",
    "    \n",
    "print(len(brand_name))\n",
    "print(brand_name)"
   ]
  },
  {
   "cell_type": "code",
   "execution_count": 51,
   "id": "b61c5554",
   "metadata": {},
   "outputs": [
    {
     "name": "stdout",
     "output_type": "stream",
     "text": [
      "80\n",
      "['Polarized, Riding Glasses, UV Protection Wayfarer Sungl...', 'UV Protection Clubmaster Sunglasses (53)', 'UV Protection Wayfarer Sunglasses (Free Size)', 'UV Protection Rectangular Sunglasses (52)', 'UV Protection Rectangular Sunglasses (Free Size)', 'UV Protection, Polarized Wayfarer Sunglasses (Free Size...', 'UV Protection Shield Sunglasses (Free Size)', 'UV Protection, Gradient Retro Square Sunglasses (62)', 'UV Protection Aviator Sunglasses (54)', 'Gradient, UV Protection Wayfarer Sunglasses (Free Size)', 'Gradient, UV Protection Round, Oval, Cat-eye Sunglasses...', 'UV Protection, Riding Glasses, Others Aviator, Wayfarer...', 'UV Protection Rectangular Sunglasses (Free Size)', 'UV Protection Wayfarer Sunglasses (55)', 'Gradient, UV Protection Wayfarer Sunglasses (Free Size)', 'Polarized, Riding Glasses Sports, Wrap-around Sunglasse...', 'UV Protection Wayfarer Sunglasses (Free Size)', 'Gradient, Toughened Glass Lens, UV Protection Retro Squ...', 'UV Protection Wayfarer Sunglasses (59)', 'Mirrored, Night Vision, UV Protection, Riding Glasses S...', 'Polarized, UV Protection Aviator Sunglasses (57)', 'UV Protection, Gradient Rectangular Sunglasses (Free Si...', 'Others Cat-eye, Retro Square, Wayfarer Sunglasses (54)', 'UV Protection, Polarized, Mirrored Rectangular Sunglass...', 'UV Protection Wayfarer Sunglasses (Free Size)', 'UV Protection Cat-eye, Retro Square, Oval, Round Sungla...', 'Gradient, UV Protection Aviator Sunglasses (57)', 'Riding Glasses, UV Protection Clubmaster, Wayfarer Sung...', 'by Lenskart Polarized, UV Protection Cat-eye Sunglasses...', 'UV Protection Wayfarer Sunglasses (32)', 'UV Protection Aviator Sunglasses (55)', 'UV Protection Wayfarer, Aviator Sunglasses (88)', 'UV Protection Retro Square Sunglasses (53)', 'UV Protection Aviator Sunglasses (54)', 'UV Protection Wayfarer Sunglasses (50)', 'Night Vision, UV Protection Round Sunglasses (54)', 'UV Protection Over-sized, Retro Square Sunglasses (61)', 'UV Protection Aviator Sunglasses (62)', 'UV Protection Aviator Sunglasses (58)', 'UV Protection Aviator Sunglasses (58)', 'UV Protection Rectangular Sunglasses (Free Size)', 'UV Protection, Gradient Retro Square Sunglasses (Free S...', 'UV Protection Aviator Sunglasses (58)', 'UV Protection Wayfarer Sunglasses (Free Size)', 'UV Protection Aviator Sunglasses (55)', 'Polarized, UV Protection, Riding Glasses Wayfarer Sungl...', 'UV Protection Retro Square Sunglasses (55)', 'UV Protection Wrap-around, Sports Sunglasses (60)', 'UV Protection Aviator Sunglasses (Free Size)', 'UV Protection Aviator Sunglasses (Free Size)', 'UV Protection Spectacle Sunglasses (Free Size)', 'Polarized, UV Protection Aviator Sunglasses (58)', 'UV Protection Sports Sunglasses (62)', 'UV Protection Aviator Sunglasses (58)', 'UV Protection Round Sunglasses (54)', 'UV Protection, Gradient Rectangular, Spectacle Sunglas...', 'UV Protection Retro Square Sunglasses (60)', 'UV Protection, Night Vision, Riding Glasses Aviator Sun...', 'UV Protection Rectangular Sunglasses (Free Size)', 'UV Protection Aviator Sunglasses (55)', 'UV Protection Retro Square Sunglasses (Free Size)', 'Polarized, UV Protection Wrap-around Sunglasses (62)', 'UV Protection, Night Vision, Riding Glasses, Gradient, ...', 'UV Protection Round Sunglasses (52)', 'UV Protection, Gradient Rectangular Sunglasses (Free Si...', 'UV Protection Shield Sunglasses (Free Size)', 'UV Protection Retro Square Sunglasses (60)', 'Polarized, UV Protection Cat-eye Sunglasses (55)', 'Gradient, UV Protection Wayfarer Sunglasses (Free Size)', 'UV Protection, Gradient Round Sunglasses (Free Size)', 'Mirrored, UV Protection, Riding Glasses, Others Wrap-ar...', 'UV Protection Rectangular Sunglasses (Free Size)', 'Mirrored Aviator Sunglasses (55)', 'Mirrored, UV Protection Wayfarer Sunglasses (Free Size)', 'Others Spectacle Sunglasses (Free Size)', 'UV Protection Rectangular Sunglasses (Free Size)', 'Polarized, UV Protection Aviator Sunglasses (58)', 'UV Protection, Gradient Butterfly Sunglasses (52)', 'UV Protection Spectacle Sunglasses (Free Size)', 'UV Protection Retro Square Sunglasses (54)']\n"
     ]
    }
   ],
   "source": [
    "for i in driver4.find_elements(By.XPATH,'//a[@class=\"IRpwTa\"]'):\n",
    "    product_description.append(i.text)\n",
    "    \n",
    "print(len(product_description))\n",
    "print(product_description)"
   ]
  },
  {
   "cell_type": "code",
   "execution_count": 52,
   "id": "e99bf9f1",
   "metadata": {},
   "outputs": [
    {
     "name": "stdout",
     "output_type": "stream",
     "text": [
      "80\n",
      "['₹1,399', '₹279', '₹649', '₹199', '₹519', '₹283', '₹649', '₹474', '₹251', '₹579', '₹664', '₹215', '₹254', '₹251', '₹679', '₹474', '₹288', '₹575', '₹649', '₹265', '₹759', '₹379', '₹197', '₹185', '₹629', '₹176', '₹296', '₹296', '₹949', '₹209', '₹616', '₹288', '₹220', '₹251', '₹149', '₹199', '₹664', '₹616', '₹939', '₹323', '₹190', '₹331', '₹323', '₹236', '₹616', '₹236', '₹616', '₹711', '₹579', '₹314', '₹379', '₹711', '₹345', '₹939', '₹318', '₹449', '₹664', '₹296', '₹219', '₹251', '₹474', '₹759', '₹178', '₹539', '₹379', '₹649', '₹664', '₹616', '₹519', '₹379', '₹296', '₹237', '₹379', '₹809', '₹299', '₹222', '₹711', '₹664', '₹379', '₹299']\n"
     ]
    }
   ],
   "source": [
    "for i in driver4.find_elements(By.XPATH,'//div[@class=\"_30jeq3\"]'):\n",
    "    product_price.append(i.text)\n",
    "    \n",
    "print(len(product_price))\n",
    "print(product_price)"
   ]
  },
  {
   "cell_type": "code",
   "execution_count": 53,
   "id": "eb75b6cb",
   "metadata": {},
   "outputs": [],
   "source": [
    "flip_page3 = driver4.find_element(By.XPATH,\"/html/body/div[1]/div/div[3]/div[1]/div[2]/div[12]/div/div/nav/a[12]\")\n",
    "flip_page3.click()"
   ]
  },
  {
   "cell_type": "code",
   "execution_count": 54,
   "id": "1e727bdf",
   "metadata": {},
   "outputs": [
    {
     "name": "stdout",
     "output_type": "stream",
     "text": [
      "120\n",
      "['RESIST EYEWEAR', 'Silver Kartz', 'Fastrack', 'PIRASO', 'Fastrack', 'SUNBEE', 'Fastrack', 'ROZZETTA CRAFT', 'PIRASO', 'Fastrack', 'ROYAL SON', 'Singco India', 'New Specs', 'PIRASO', 'Fastrack', 'ROZZETTA CRAFT', 'Silver Kartz', 'Singco India', 'VINCENT CHASE', 'Sewell', 'ROYAL SON', 'ROZZETTA CRAFT', 'Elligator', 'SHAAH COLLECTIONS', 'Fastrack', 'Elligator', 'GANSTA', 'Singco India', 'VINCENT CHASE', 'PIRASO', 'ROZZETTA CRAFT', 'Silver Kartz', 'GANSTA', 'PIRASO', 'SRPM', 'SRPM', 'ROYAL SON', 'ROZZETTA CRAFT', 'Fastrack', 'PIRASO', 'SUNBEE', 'ROZZETTA CRAFT', 'PIRASO', 'DEIXELS', 'ROZZETTA CRAFT', 'DEIXELS', 'ROYAL SON', 'ROYAL SON', 'Fastrack', 'PIRASO', 'ROZZETTA CRAFT', 'ROYAL SON', 'NuVew', 'Fastrack', 'Elligator', 'Anemone', 'ROYAL SON', 'GANSTA', 'Lee Topper', 'PIRASO', 'ROZZETTA CRAFT', 'ROYAL SON', 'hipe', 'Fastrack', 'ROZZETTA CRAFT', 'Fastrack', 'ROYAL SON', 'ROYAL SON', 'Fastrack', 'ROZZETTA CRAFT', 'Singco India', 'New Specs', 'ROYAL SON', 'Fastrack', 'Satyam Kraft', 'kingsunglasses', 'ROYAL SON', 'ROYAL SON', 'ROZZETTA CRAFT', 'Rich Club', 'PROVOGUE', 'PROVOGUE', 'SHAAH COLLECTIONS', 'Fastrack', 'IDEE', 'Rich Club', 'ROYAL SON', 'ROYAL SON', 'Fastrack', 'Fastrack', 'ROYAL SON', 'ROYAL SON', 'MODE', 'EYELLUSION', 'ROZZETTA CRAFT', 'Lee Topper', 'ROYAL SON', 'ROYAL SON', 'IDEE', 'Urbanic', 'ROYAL SON', 'ROYAL SON', 'PIRASO', 'Fastrack', 'kingsunglasses', 'Fastrack', 'ROYAL SON', 'ROYAL SON', 'Fastrack', 'kingsunglasses', 'ROYAL SON', 'Silver Kartz', 'ROZZETTA CRAFT', 'kingsunglasses', 'VINCENT CHASE', 'SHAAH COLLECTIONS', 'ROYAL SON', 'ROYAL SON', 'ROYAL SON', 'Fastrack']\n"
     ]
    }
   ],
   "source": [
    "for i in driver4.find_elements(By.XPATH,'//div[@class=\"_2WkVRV\"]'):\n",
    "    brand_name.append(i.text)\n",
    "    \n",
    "print(len(brand_name))\n",
    "print(brand_name)"
   ]
  },
  {
   "cell_type": "code",
   "execution_count": 55,
   "id": "ca946b43",
   "metadata": {},
   "outputs": [
    {
     "name": "stdout",
     "output_type": "stream",
     "text": [
      "120\n",
      "['Polarized, Riding Glasses, UV Protection Wayfarer Sungl...', 'UV Protection Clubmaster Sunglasses (53)', 'UV Protection Wayfarer Sunglasses (Free Size)', 'UV Protection Rectangular Sunglasses (52)', 'UV Protection Rectangular Sunglasses (Free Size)', 'UV Protection, Polarized Wayfarer Sunglasses (Free Size...', 'UV Protection Shield Sunglasses (Free Size)', 'UV Protection, Gradient Retro Square Sunglasses (62)', 'UV Protection Aviator Sunglasses (54)', 'Gradient, UV Protection Wayfarer Sunglasses (Free Size)', 'Gradient, UV Protection Round, Oval, Cat-eye Sunglasses...', 'UV Protection, Riding Glasses, Others Aviator, Wayfarer...', 'UV Protection Rectangular Sunglasses (Free Size)', 'UV Protection Wayfarer Sunglasses (55)', 'Gradient, UV Protection Wayfarer Sunglasses (Free Size)', 'Polarized, Riding Glasses Sports, Wrap-around Sunglasse...', 'UV Protection Wayfarer Sunglasses (Free Size)', 'Gradient, Toughened Glass Lens, UV Protection Retro Squ...', 'UV Protection Wayfarer Sunglasses (59)', 'Mirrored, Night Vision, UV Protection, Riding Glasses S...', 'Polarized, UV Protection Aviator Sunglasses (57)', 'UV Protection, Gradient Rectangular Sunglasses (Free Si...', 'Others Cat-eye, Retro Square, Wayfarer Sunglasses (54)', 'UV Protection, Polarized, Mirrored Rectangular Sunglass...', 'UV Protection Wayfarer Sunglasses (Free Size)', 'UV Protection Cat-eye, Retro Square, Oval, Round Sungla...', 'Gradient, UV Protection Aviator Sunglasses (57)', 'Riding Glasses, UV Protection Clubmaster, Wayfarer Sung...', 'by Lenskart Polarized, UV Protection Cat-eye Sunglasses...', 'UV Protection Wayfarer Sunglasses (32)', 'UV Protection Aviator Sunglasses (55)', 'UV Protection Wayfarer, Aviator Sunglasses (88)', 'UV Protection Retro Square Sunglasses (53)', 'UV Protection Aviator Sunglasses (54)', 'UV Protection Wayfarer Sunglasses (50)', 'Night Vision, UV Protection Round Sunglasses (54)', 'UV Protection Over-sized, Retro Square Sunglasses (61)', 'UV Protection Aviator Sunglasses (62)', 'UV Protection Aviator Sunglasses (58)', 'UV Protection Aviator Sunglasses (58)', 'UV Protection Rectangular Sunglasses (Free Size)', 'UV Protection, Gradient Retro Square Sunglasses (Free S...', 'UV Protection Aviator Sunglasses (58)', 'UV Protection Wayfarer Sunglasses (Free Size)', 'UV Protection Aviator Sunglasses (55)', 'Polarized, UV Protection, Riding Glasses Wayfarer Sungl...', 'UV Protection Retro Square Sunglasses (55)', 'UV Protection Wrap-around, Sports Sunglasses (60)', 'UV Protection Aviator Sunglasses (Free Size)', 'UV Protection Aviator Sunglasses (Free Size)', 'UV Protection Spectacle Sunglasses (Free Size)', 'Polarized, UV Protection Aviator Sunglasses (58)', 'UV Protection Sports Sunglasses (62)', 'UV Protection Aviator Sunglasses (58)', 'UV Protection Round Sunglasses (54)', 'UV Protection, Gradient Rectangular, Spectacle Sunglas...', 'UV Protection Retro Square Sunglasses (60)', 'UV Protection, Night Vision, Riding Glasses Aviator Sun...', 'UV Protection Rectangular Sunglasses (Free Size)', 'UV Protection Aviator Sunglasses (55)', 'UV Protection Retro Square Sunglasses (Free Size)', 'Polarized, UV Protection Wrap-around Sunglasses (62)', 'UV Protection, Night Vision, Riding Glasses, Gradient, ...', 'UV Protection Round Sunglasses (52)', 'UV Protection, Gradient Rectangular Sunglasses (Free Si...', 'UV Protection Shield Sunglasses (Free Size)', 'UV Protection Retro Square Sunglasses (60)', 'Polarized, UV Protection Cat-eye Sunglasses (55)', 'Gradient, UV Protection Wayfarer Sunglasses (Free Size)', 'UV Protection, Gradient Round Sunglasses (Free Size)', 'Mirrored, UV Protection, Riding Glasses, Others Wrap-ar...', 'UV Protection Rectangular Sunglasses (Free Size)', 'Mirrored Aviator Sunglasses (55)', 'Mirrored, UV Protection Wayfarer Sunglasses (Free Size)', 'Others Spectacle Sunglasses (Free Size)', 'UV Protection Rectangular Sunglasses (Free Size)', 'Polarized, UV Protection Aviator Sunglasses (58)', 'UV Protection, Gradient Butterfly Sunglasses (52)', 'UV Protection Spectacle Sunglasses (Free Size)', 'UV Protection Retro Square Sunglasses (54)', 'Polarized, UV Protection Rectangular Sunglasses (Free S...', 'Polarized, UV Protection Rectangular Sunglasses (Free S...', 'UV Protection Rectangular Sunglasses (Free Size)', 'UV Protection Wayfarer Sunglasses (Free Size)', 'UV Protection Cat-eye Sunglasses (17)', 'UV Protection Round Sunglasses (50)', 'UV Protection Over-sized Sunglasses (61)', 'UV Protection, Gradient Butterfly Sunglasses (52)', 'Polarized Retro Square Sunglasses (Free Size)', 'UV Protection Wayfarer Sunglasses (Free Size)', 'Polarized, UV Protection Wrap-around Sunglasses (62)', 'Polarized, UV Protection Sports Sunglasses (68)', 'UV Protection Aviator Sunglasses (Free Size)', 'UV Protection, Gradient, Night Vision, Riding Glasses, ...', 'UV Protection Retro Square Sunglasses (Free Size)', 'Riding Glasses Wrap-around Sunglasses (Free Size)', 'Polarized Rectangular Sunglasses (60)', 'Polarized Rectangular Sunglasses (60)', 'UV Protection Aviator Sunglasses (18)', 'Others Retro Square Sunglasses (Free Size)', 'UV Protection, Gradient Over-sized Sunglasses (62)', 'Polarized, UV Protection Cat-eye Sunglasses (55)', 'UV Protection Over-sized Sunglasses (65)', 'UV Protection Wayfarer Sunglasses (Free Size)', 'UV Protection Rectangular Sunglasses (55)', 'UV Protection Wayfarer Sunglasses (55)', 'Polarized, UV Protection Round Sunglasses (52)', 'UV Protection, Gradient Butterfly Sunglasses (55)', 'UV Protection Wayfarer Sunglasses (Free Size)', 'UV Protection Rectangular Sunglasses (55)', 'Polarized, UV Protection Wrap-around Sunglasses (62)', 'UV Protection Oval Sunglasses (56)', 'UV Protection Aviator Sunglasses (55)', 'Mirrored, UV Protection Wayfarer Sunglasses (Free Size)', 'Polarized, UV Protection Round Sunglasses (50)', 'UV Protection Round Sunglasses (52)', 'UV Protection, Gradient Over-sized Sunglasses (62)', 'Polarized Rectangular Sunglasses (60)', 'Polarized, UV Protection Wayfarer Sunglasses (61)', 'UV Protection Aviator Sunglasses (Free Size)']\n"
     ]
    }
   ],
   "source": [
    "for i in driver4.find_elements(By.XPATH,'//a[@class=\"IRpwTa\"]'):\n",
    "    product_description.append(i.text)\n",
    "    \n",
    "print(len(product_description))\n",
    "print(product_description)"
   ]
  },
  {
   "cell_type": "code",
   "execution_count": 56,
   "id": "edadb24b",
   "metadata": {},
   "outputs": [
    {
     "name": "stdout",
     "output_type": "stream",
     "text": [
      "120\n",
      "['₹1,399', '₹279', '₹649', '₹199', '₹519', '₹283', '₹649', '₹474', '₹251', '₹579', '₹664', '₹215', '₹254', '₹251', '₹679', '₹474', '₹288', '₹575', '₹649', '₹265', '₹759', '₹379', '₹197', '₹185', '₹629', '₹176', '₹296', '₹296', '₹949', '₹209', '₹616', '₹288', '₹220', '₹251', '₹149', '₹199', '₹664', '₹616', '₹939', '₹323', '₹190', '₹331', '₹323', '₹236', '₹616', '₹236', '₹616', '₹711', '₹579', '₹314', '₹379', '₹711', '₹345', '₹939', '₹318', '₹449', '₹664', '₹296', '₹219', '₹251', '₹474', '₹759', '₹178', '₹539', '₹379', '₹649', '₹664', '₹616', '₹519', '₹379', '₹296', '₹237', '₹379', '₹809', '₹299', '₹222', '₹711', '₹664', '₹379', '₹299', '₹664', '₹699', '₹178', '₹499', '₹959', '₹355', '₹699', '₹664', '₹559', '₹649', '₹759', '₹1,234', '₹179', '₹230', '₹474', '₹299', '₹699', '₹664', '₹909', '₹439', '₹664', '₹616', '₹405', '₹719', '₹255', '₹729', '₹759', '₹664', '₹559', '₹189', '₹759', '₹314', '₹616', '₹260', '₹949', '₹179', '₹664', '₹664', '₹664', '₹579']\n"
     ]
    }
   ],
   "source": [
    "for i in driver4.find_elements(By.XPATH,'//div[@class=\"_30jeq3\"]'):\n",
    "    product_price.append(i.text)\n",
    "    \n",
    "print(len(product_price))\n",
    "print(product_price)"
   ]
  },
  {
   "cell_type": "code",
   "execution_count": 57,
   "id": "5980243b",
   "metadata": {},
   "outputs": [
    {
     "data": {
      "text/html": [
       "<div>\n",
       "<style scoped>\n",
       "    .dataframe tbody tr th:only-of-type {\n",
       "        vertical-align: middle;\n",
       "    }\n",
       "\n",
       "    .dataframe tbody tr th {\n",
       "        vertical-align: top;\n",
       "    }\n",
       "\n",
       "    .dataframe thead th {\n",
       "        text-align: right;\n",
       "    }\n",
       "</style>\n",
       "<table border=\"1\" class=\"dataframe\">\n",
       "  <thead>\n",
       "    <tr style=\"text-align: right;\">\n",
       "      <th></th>\n",
       "      <th>Brand</th>\n",
       "      <th>Product description</th>\n",
       "      <th>Price</th>\n",
       "    </tr>\n",
       "  </thead>\n",
       "  <tbody>\n",
       "    <tr>\n",
       "      <th>0</th>\n",
       "      <td>RESIST EYEWEAR</td>\n",
       "      <td>Polarized, Riding Glasses, UV Protection Wayfa...</td>\n",
       "      <td>₹1,399</td>\n",
       "    </tr>\n",
       "    <tr>\n",
       "      <th>1</th>\n",
       "      <td>Silver Kartz</td>\n",
       "      <td>UV Protection Clubmaster Sunglasses (53)</td>\n",
       "      <td>₹279</td>\n",
       "    </tr>\n",
       "    <tr>\n",
       "      <th>2</th>\n",
       "      <td>Fastrack</td>\n",
       "      <td>UV Protection Wayfarer Sunglasses (Free Size)</td>\n",
       "      <td>₹649</td>\n",
       "    </tr>\n",
       "    <tr>\n",
       "      <th>3</th>\n",
       "      <td>PIRASO</td>\n",
       "      <td>UV Protection Rectangular Sunglasses (52)</td>\n",
       "      <td>₹199</td>\n",
       "    </tr>\n",
       "    <tr>\n",
       "      <th>4</th>\n",
       "      <td>Fastrack</td>\n",
       "      <td>UV Protection Rectangular Sunglasses (Free Size)</td>\n",
       "      <td>₹519</td>\n",
       "    </tr>\n",
       "    <tr>\n",
       "      <th>...</th>\n",
       "      <td>...</td>\n",
       "      <td>...</td>\n",
       "      <td>...</td>\n",
       "    </tr>\n",
       "    <tr>\n",
       "      <th>95</th>\n",
       "      <td>Lee Topper</td>\n",
       "      <td>Riding Glasses Wrap-around Sunglasses (Free Size)</td>\n",
       "      <td>₹299</td>\n",
       "    </tr>\n",
       "    <tr>\n",
       "      <th>96</th>\n",
       "      <td>ROYAL SON</td>\n",
       "      <td>Polarized Rectangular Sunglasses (60)</td>\n",
       "      <td>₹699</td>\n",
       "    </tr>\n",
       "    <tr>\n",
       "      <th>97</th>\n",
       "      <td>ROYAL SON</td>\n",
       "      <td>Polarized Rectangular Sunglasses (60)</td>\n",
       "      <td>₹664</td>\n",
       "    </tr>\n",
       "    <tr>\n",
       "      <th>98</th>\n",
       "      <td>IDEE</td>\n",
       "      <td>UV Protection Aviator Sunglasses (18)</td>\n",
       "      <td>₹909</td>\n",
       "    </tr>\n",
       "    <tr>\n",
       "      <th>99</th>\n",
       "      <td>Urbanic</td>\n",
       "      <td>Others Retro Square Sunglasses (Free Size)</td>\n",
       "      <td>₹439</td>\n",
       "    </tr>\n",
       "  </tbody>\n",
       "</table>\n",
       "<p>100 rows × 3 columns</p>\n",
       "</div>"
      ],
      "text/plain": [
       "             Brand                                Product description   Price\n",
       "0   RESIST EYEWEAR  Polarized, Riding Glasses, UV Protection Wayfa...  ₹1,399\n",
       "1     Silver Kartz           UV Protection Clubmaster Sunglasses (53)    ₹279\n",
       "2         Fastrack      UV Protection Wayfarer Sunglasses (Free Size)    ₹649\n",
       "3           PIRASO          UV Protection Rectangular Sunglasses (52)    ₹199\n",
       "4         Fastrack   UV Protection Rectangular Sunglasses (Free Size)    ₹519\n",
       "..             ...                                                ...     ...\n",
       "95      Lee Topper  Riding Glasses Wrap-around Sunglasses (Free Size)    ₹299\n",
       "96       ROYAL SON              Polarized Rectangular Sunglasses (60)    ₹699\n",
       "97       ROYAL SON              Polarized Rectangular Sunglasses (60)    ₹664\n",
       "98            IDEE              UV Protection Aviator Sunglasses (18)    ₹909\n",
       "99         Urbanic         Others Retro Square Sunglasses (Free Size)    ₹439\n",
       "\n",
       "[100 rows x 3 columns]"
      ]
     },
     "execution_count": 57,
     "metadata": {},
     "output_type": "execute_result"
    }
   ],
   "source": [
    "sunglasse_df = pd.DataFrame()\n",
    "\n",
    "sunglasse_df[\"Brand\"] = brand_name[:100]\n",
    "sunglasse_df[\"Product description\"] = product_description[:100]\n",
    "sunglasse_df[\"Price\"] = product_price[:100]\n",
    "\n",
    "sunglasse_df"
   ]
  },
  {
   "cell_type": "markdown",
   "id": "0eecb67b",
   "metadata": {},
   "source": [
    "Q5: Scrape 100 reviews data from flipkart.com for iphone11 phone. You have to go the link:\n",
    "https://www.flipkart.com/apple-iphone-11-black-64-gb-includes- earpods-power\u0002adapter/p/itm0f37c2240b217?pid=MOBFKCTSVZAXUHGR&lid=LSTMOBFKC\n",
    "TSVZAXUHGREPBFGI&marketplace.\n",
    "When you will open the above link you will reach to the below shown webpage .\n",
    "As shown in the above page you have to scrape the tick marked attributes.These are:\n",
    "1. Rating\n",
    "2. Review summary\n",
    "3. Full review\n",
    "4. You have to scrape this data for first 100 reviews"
   ]
  },
  {
   "cell_type": "code",
   "execution_count": 14,
   "id": "8a41aa4b",
   "metadata": {},
   "outputs": [],
   "source": [
    "driver5 = webdriver.Edge(r\"C:\\Users\\Atharva\\Internship project\\Web Sraping assignment-2\\msedgedriver.exe\")\n",
    "driver5.maximize_window()\n",
    "\n",
    "url5 = \"https://www.flipkart.com/apple-iphone-11-black-64-gb/product-reviews/itm4e5041ba101fd?pid=MOBFWQ6BXGJCEYNY&lid=LSTMOBFWQ6BXGJCEYNYZXSHRJ&marketplace=FLIPKART\"\n",
    "driver5.get(url5)"
   ]
  },
  {
   "cell_type": "code",
   "execution_count": 15,
   "id": "2a9b15a3",
   "metadata": {},
   "outputs": [],
   "source": [
    "phone_rating = []\n",
    "phone_rsummry = []\n",
    "phone_freview = []"
   ]
  },
  {
   "cell_type": "code",
   "execution_count": 16,
   "id": "b97e570c",
   "metadata": {},
   "outputs": [],
   "source": [
    "def phone_100(rating,summary,review):\n",
    "    for i in driver5.find_elements(By.XPATH,rating):\n",
    "        phone_rating.append(i.text)\n",
    "    print(len(phone_rating))\n",
    "        \n",
    "    for i in driver5.find_elements(By.XPATH,summary):\n",
    "        phone_rsummry.append(i.text)\n",
    "    print(len(phone_rsummry))\n",
    "        \n",
    "    for i in driver5.find_elements(By.XPATH,review):\n",
    "        phone_freview.append(i.text)\n",
    "    print(len(phone_freview))"
   ]
  },
  {
   "cell_type": "code",
   "execution_count": 17,
   "id": "967d6942",
   "metadata": {},
   "outputs": [
    {
     "name": "stdout",
     "output_type": "stream",
     "text": [
      "10\n",
      "10\n",
      "10\n"
     ]
    }
   ],
   "source": [
    "phone_100('//div[@class=\"_3LWZlK _1BLPMq\"]','//p[@class=\"_2-N8zT\"]','//div[@class=\"t-ZTKy\"]')"
   ]
  },
  {
   "cell_type": "code",
   "execution_count": 18,
   "id": "0240c4fd",
   "metadata": {},
   "outputs": [],
   "source": [
    "next_page = driver5.find_element(By.XPATH,\"/html/body/div/div/div[3]/div/div/div[2]/div[13]/div/div/nav/a[11]\")\n",
    "next_page.click()"
   ]
  },
  {
   "cell_type": "code",
   "execution_count": 19,
   "id": "ada71e45",
   "metadata": {},
   "outputs": [
    {
     "name": "stdout",
     "output_type": "stream",
     "text": [
      "20\n",
      "20\n",
      "20\n"
     ]
    }
   ],
   "source": [
    "phone_100('//div[@class=\"_3LWZlK _1BLPMq\"]','//p[@class=\"_2-N8zT\"]','//div[@class=\"t-ZTKy\"]')"
   ]
  },
  {
   "cell_type": "code",
   "execution_count": 20,
   "id": "2f943895",
   "metadata": {},
   "outputs": [],
   "source": [
    "next_page = driver5.find_element(By.XPATH,\"/html/body/div/div/div[3]/div/div/div[2]/div[13]/div/div/nav/a[12]\")\n",
    "next_page.click()"
   ]
  },
  {
   "cell_type": "code",
   "execution_count": 21,
   "id": "6a9bdcd3",
   "metadata": {},
   "outputs": [
    {
     "name": "stdout",
     "output_type": "stream",
     "text": [
      "30\n",
      "30\n",
      "30\n"
     ]
    }
   ],
   "source": [
    "phone_100('//div[@class=\"_3LWZlK _1BLPMq\"]','//p[@class=\"_2-N8zT\"]','//div[@class=\"t-ZTKy\"]')"
   ]
  },
  {
   "cell_type": "code",
   "execution_count": 22,
   "id": "5ba0b480",
   "metadata": {},
   "outputs": [],
   "source": [
    "next_page = driver5.find_element(By.XPATH,\"/html/body/div/div/div[3]/div/div/div[2]/div[13]/div/div/nav/a[12]\")\n",
    "next_page.click()"
   ]
  },
  {
   "cell_type": "code",
   "execution_count": 23,
   "id": "d534bb0c",
   "metadata": {},
   "outputs": [
    {
     "name": "stdout",
     "output_type": "stream",
     "text": [
      "40\n",
      "40\n",
      "40\n"
     ]
    }
   ],
   "source": [
    "phone_100('//div[@class=\"_3LWZlK _1BLPMq\"]','//p[@class=\"_2-N8zT\"]','//div[@class=\"t-ZTKy\"]')"
   ]
  },
  {
   "cell_type": "code",
   "execution_count": 24,
   "id": "cc9d27bd",
   "metadata": {},
   "outputs": [],
   "source": [
    "next_page = driver5.find_element(By.XPATH,\"/html/body/div/div/div[3]/div/div/div[2]/div[13]/div/div/nav/a[12]\")\n",
    "next_page.click()"
   ]
  },
  {
   "cell_type": "code",
   "execution_count": 25,
   "id": "eb74ec81",
   "metadata": {},
   "outputs": [
    {
     "name": "stdout",
     "output_type": "stream",
     "text": [
      "50\n",
      "50\n",
      "50\n"
     ]
    }
   ],
   "source": [
    "phone_100('//div[@class=\"_3LWZlK _1BLPMq\"]','//p[@class=\"_2-N8zT\"]','//div[@class=\"t-ZTKy\"]')"
   ]
  },
  {
   "cell_type": "code",
   "execution_count": 26,
   "id": "3ce09991",
   "metadata": {},
   "outputs": [],
   "source": [
    "next_page = driver5.find_element(By.XPATH,\"/html/body/div/div/div[3]/div/div/div[2]/div[13]/div/div/nav/a[12]\")\n",
    "next_page.click()"
   ]
  },
  {
   "cell_type": "code",
   "execution_count": 27,
   "id": "25051a3a",
   "metadata": {},
   "outputs": [
    {
     "name": "stdout",
     "output_type": "stream",
     "text": [
      "59\n",
      "60\n",
      "60\n"
     ]
    }
   ],
   "source": [
    "phone_100('//div[@class=\"_3LWZlK _1BLPMq\"]','//p[@class=\"_2-N8zT\"]','//div[@class=\"t-ZTKy\"]')"
   ]
  },
  {
   "cell_type": "code",
   "execution_count": 28,
   "id": "88386e07",
   "metadata": {},
   "outputs": [],
   "source": [
    "next_page = driver5.find_element(By.XPATH,\"/html/body/div/div/div[3]/div/div/div[2]/div[13]/div/div/nav/a[12]\")\n",
    "next_page.click()"
   ]
  },
  {
   "cell_type": "code",
   "execution_count": 29,
   "id": "58286ad3",
   "metadata": {},
   "outputs": [
    {
     "name": "stdout",
     "output_type": "stream",
     "text": [
      "68\n",
      "70\n",
      "70\n"
     ]
    }
   ],
   "source": [
    "phone_100('//div[@class=\"_3LWZlK _1BLPMq\"]','//p[@class=\"_2-N8zT\"]','//div[@class=\"t-ZTKy\"]')"
   ]
  },
  {
   "cell_type": "code",
   "execution_count": 30,
   "id": "bce8d6d0",
   "metadata": {},
   "outputs": [],
   "source": [
    "next_page = driver5.find_element(By.XPATH,\"/html/body/div/div/div[3]/div/div/div[2]/div[13]/div/div/nav/a[12]\")\n",
    "next_page.click()"
   ]
  },
  {
   "cell_type": "code",
   "execution_count": 31,
   "id": "c28fd816",
   "metadata": {},
   "outputs": [
    {
     "name": "stdout",
     "output_type": "stream",
     "text": [
      "78\n",
      "80\n",
      "80\n"
     ]
    }
   ],
   "source": [
    "phone_100('//div[@class=\"_3LWZlK _1BLPMq\"]','//p[@class=\"_2-N8zT\"]','//div[@class=\"t-ZTKy\"]')"
   ]
  },
  {
   "cell_type": "code",
   "execution_count": 32,
   "id": "0499fd27",
   "metadata": {},
   "outputs": [],
   "source": [
    "next_page = driver5.find_element(By.XPATH,\"/html/body/div/div/div[3]/div/div/div[2]/div[13]/div/div/nav/a[12]\")\n",
    "next_page.click()"
   ]
  },
  {
   "cell_type": "code",
   "execution_count": 33,
   "id": "bdafd7b6",
   "metadata": {},
   "outputs": [
    {
     "name": "stdout",
     "output_type": "stream",
     "text": [
      "88\n",
      "90\n",
      "90\n"
     ]
    }
   ],
   "source": [
    "phone_100('//div[@class=\"_3LWZlK _1BLPMq\"]','//p[@class=\"_2-N8zT\"]','//div[@class=\"t-ZTKy\"]')"
   ]
  },
  {
   "cell_type": "code",
   "execution_count": 34,
   "id": "9cc3daf3",
   "metadata": {},
   "outputs": [],
   "source": [
    "next_page = driver5.find_element(By.XPATH,\"/html/body/div/div/div[3]/div/div/div[2]/div[13]/div/div/nav/a[12]\")\n",
    "next_page.click()"
   ]
  },
  {
   "cell_type": "code",
   "execution_count": 35,
   "id": "f2e255f4",
   "metadata": {},
   "outputs": [
    {
     "name": "stdout",
     "output_type": "stream",
     "text": [
      "97\n",
      "100\n",
      "100\n"
     ]
    }
   ],
   "source": [
    "phone_100('//div[@class=\"_3LWZlK _1BLPMq\"]','//p[@class=\"_2-N8zT\"]','//div[@class=\"t-ZTKy\"]')"
   ]
  },
  {
   "cell_type": "code",
   "execution_count": 36,
   "id": "c73a6cba",
   "metadata": {},
   "outputs": [],
   "source": [
    "next_page = driver5.find_element(By.XPATH,\"/html/body/div/div/div[3]/div/div/div[2]/div[13]/div/div/nav/a[12]\")\n",
    "next_page.click()"
   ]
  },
  {
   "cell_type": "code",
   "execution_count": 37,
   "id": "a51f4922",
   "metadata": {},
   "outputs": [
    {
     "name": "stdout",
     "output_type": "stream",
     "text": [
      "107\n",
      "110\n",
      "110\n"
     ]
    }
   ],
   "source": [
    "phone_100('//div[@class=\"_3LWZlK _1BLPMq\"]','//p[@class=\"_2-N8zT\"]','//div[@class=\"t-ZTKy\"]')"
   ]
  },
  {
   "cell_type": "code",
   "execution_count": 38,
   "id": "2c787a5a",
   "metadata": {},
   "outputs": [
    {
     "data": {
      "text/html": [
       "<div>\n",
       "<style scoped>\n",
       "    .dataframe tbody tr th:only-of-type {\n",
       "        vertical-align: middle;\n",
       "    }\n",
       "\n",
       "    .dataframe tbody tr th {\n",
       "        vertical-align: top;\n",
       "    }\n",
       "\n",
       "    .dataframe thead th {\n",
       "        text-align: right;\n",
       "    }\n",
       "</style>\n",
       "<table border=\"1\" class=\"dataframe\">\n",
       "  <thead>\n",
       "    <tr style=\"text-align: right;\">\n",
       "      <th></th>\n",
       "      <th>Phone Rating</th>\n",
       "      <th>Reviwe summary</th>\n",
       "      <th>Full reviwe</th>\n",
       "    </tr>\n",
       "  </thead>\n",
       "  <tbody>\n",
       "    <tr>\n",
       "      <th>0</th>\n",
       "      <td>5</td>\n",
       "      <td>Simply awesome</td>\n",
       "      <td>Really satisfied with the Product I received.....</td>\n",
       "    </tr>\n",
       "    <tr>\n",
       "      <th>1</th>\n",
       "      <td>4</td>\n",
       "      <td>Value-for-money</td>\n",
       "      <td>I'm Really happy with the product\\nDelivery wa...</td>\n",
       "    </tr>\n",
       "    <tr>\n",
       "      <th>2</th>\n",
       "      <td>5</td>\n",
       "      <td>Perfect product!</td>\n",
       "      <td>Amazing phone with great cameras and better ba...</td>\n",
       "    </tr>\n",
       "    <tr>\n",
       "      <th>3</th>\n",
       "      <td>5</td>\n",
       "      <td>Best in the market!</td>\n",
       "      <td>Great iPhone very snappy experience as apple k...</td>\n",
       "    </tr>\n",
       "    <tr>\n",
       "      <th>4</th>\n",
       "      <td>5</td>\n",
       "      <td>Highly recommended</td>\n",
       "      <td>It's my first time to use iOS phone and I am l...</td>\n",
       "    </tr>\n",
       "    <tr>\n",
       "      <th>...</th>\n",
       "      <td>...</td>\n",
       "      <td>...</td>\n",
       "      <td>...</td>\n",
       "    </tr>\n",
       "    <tr>\n",
       "      <th>95</th>\n",
       "      <td>5</td>\n",
       "      <td>Absolute rubbish!</td>\n",
       "      <td>Worst product delivered by Flipkart\\nAfter 10d...</td>\n",
       "    </tr>\n",
       "    <tr>\n",
       "      <th>96</th>\n",
       "      <td>5</td>\n",
       "      <td>Awesome</td>\n",
       "      <td>I dreamt about this day from a long time.... G...</td>\n",
       "    </tr>\n",
       "    <tr>\n",
       "      <th>97</th>\n",
       "      <td>5</td>\n",
       "      <td>Just wow!</td>\n",
       "      <td>Great iphone.\\nI am writing this review after ...</td>\n",
       "    </tr>\n",
       "    <tr>\n",
       "      <th>98</th>\n",
       "      <td>5</td>\n",
       "      <td>Super!</td>\n",
       "      <td>Did an upgrade from 6s plus to iphone 11.\\nAo ...</td>\n",
       "    </tr>\n",
       "    <tr>\n",
       "      <th>99</th>\n",
       "      <td>5</td>\n",
       "      <td>Mind-blowing purchase</td>\n",
       "      <td>awesome Phone Smooth Touch Too good Sexyy look...</td>\n",
       "    </tr>\n",
       "  </tbody>\n",
       "</table>\n",
       "<p>100 rows × 3 columns</p>\n",
       "</div>"
      ],
      "text/plain": [
       "   Phone Rating         Reviwe summary  \\\n",
       "0             5         Simply awesome   \n",
       "1             4        Value-for-money   \n",
       "2             5       Perfect product!   \n",
       "3             5    Best in the market!   \n",
       "4             5     Highly recommended   \n",
       "..          ...                    ...   \n",
       "95            5      Absolute rubbish!   \n",
       "96            5                Awesome   \n",
       "97            5              Just wow!   \n",
       "98            5                 Super!   \n",
       "99            5  Mind-blowing purchase   \n",
       "\n",
       "                                          Full reviwe  \n",
       "0   Really satisfied with the Product I received.....  \n",
       "1   I'm Really happy with the product\\nDelivery wa...  \n",
       "2   Amazing phone with great cameras and better ba...  \n",
       "3   Great iPhone very snappy experience as apple k...  \n",
       "4   It's my first time to use iOS phone and I am l...  \n",
       "..                                                ...  \n",
       "95  Worst product delivered by Flipkart\\nAfter 10d...  \n",
       "96  I dreamt about this day from a long time.... G...  \n",
       "97  Great iphone.\\nI am writing this review after ...  \n",
       "98  Did an upgrade from 6s plus to iphone 11.\\nAo ...  \n",
       "99  awesome Phone Smooth Touch Too good Sexyy look...  \n",
       "\n",
       "[100 rows x 3 columns]"
      ]
     },
     "execution_count": 38,
     "metadata": {},
     "output_type": "execute_result"
    }
   ],
   "source": [
    "phone_df = pd.DataFrame()\n",
    "\n",
    "phone_df[\"Phone Rating\"] = phone_rating[:100]\n",
    "phone_df[\"Reviwe summary\"] = phone_rsummry[:100]\n",
    "phone_df[\"Full reviwe\"] = phone_freview[:100]\n",
    "\n",
    "phone_df"
   ]
  },
  {
   "cell_type": "code",
   "execution_count": null,
   "id": "9433778c",
   "metadata": {},
   "outputs": [],
   "source": []
  },
  {
   "cell_type": "code",
   "execution_count": null,
   "id": "cf3fe1c9",
   "metadata": {},
   "outputs": [],
   "source": []
  },
  {
   "cell_type": "markdown",
   "id": "d5094d4a",
   "metadata": {},
   "source": [
    "Q6: Scrape data for first 100 sneakers you find when you visit flipkart.com and search for “sneakers” in the\n",
    "search field.\n",
    "You have to scrape 4 attributes of each sneaker:\n",
    "1. Brand\n",
    "2. Product Description\n",
    "3. Price\n",
    "As shown in the below image, you have to scrape the tick marked attributes."
   ]
  },
  {
   "cell_type": "code",
   "execution_count": 102,
   "id": "9331277a",
   "metadata": {},
   "outputs": [],
   "source": [
    "driver6 = webdriver.Edge(r\"C:\\Users\\Atharva\\Internship project\\Web Sraping assignment-2\\msedgedriver.exe\")\n",
    "driver6.maximize_window()\n",
    "\n",
    "url6 = \"https://www.flipkart.com/\"\n",
    "driver6.get(url6)"
   ]
  },
  {
   "cell_type": "code",
   "execution_count": 103,
   "id": "2e7716f2",
   "metadata": {},
   "outputs": [],
   "source": [
    "search_6 = driver6.find_element(By.XPATH,\"/html/body/div[1]/div/div[1]/div[1]/div[2]/div[2]/form/div/div/input\")\n",
    "search_6.send_keys(\"sneaker\")"
   ]
  },
  {
   "cell_type": "code",
   "execution_count": 104,
   "id": "4d2fd3e8",
   "metadata": {},
   "outputs": [],
   "source": [
    "search_but6 = driver6.find_element(By.XPATH,\"/html/body/div[1]/div/div[1]/div[1]/div[2]/div[2]/form/div/button\")\n",
    "search_but6.click()"
   ]
  },
  {
   "cell_type": "code",
   "execution_count": 108,
   "id": "5f624e46",
   "metadata": {},
   "outputs": [
    {
     "name": "stdout",
     "output_type": "stream",
     "text": [
      "40\n",
      "['RapidBox', 'Zixer', 'RED TAPE', 'RED TAPE', 'Labbin', 'TR', 'BIRDE', 'Layasa', 'Robbie jones', 'Magnolia', 'Layasa', 'Layasa', 'PUMA', 'SCATCHITE', 'World Wear Footwear', 'RapidBox', 'Kraasa', 'Zixer', 'asics', 'ASTEROID', 'Zixer', 'Layasa', 'BRUTON', 'Kraasa', 'Robbie jones', 'BRUTON', 'PUMA', 'gargcreation', 'BRUTON', 'Sparx', 'asian', 'BUCKAROO', 'BRUTON', 'Robbie jones', 'BRUTON', 'BIRDE', 'City Soles', 'PUMA', 'GVR', 'Magnolia']\n"
     ]
    }
   ],
   "source": [
    "sneaker_brand = []\n",
    "\n",
    "for i in driver6.find_elements(By.XPATH,'//div[@class=\"_2WkVRV\"]'):\n",
    "    sneaker_brand.append(i.text)\n",
    "    \n",
    "print(len(sneaker_brand))\n",
    "print(sneaker_brand)"
   ]
  },
  {
   "cell_type": "code",
   "execution_count": 109,
   "id": "e6b60424",
   "metadata": {},
   "outputs": [
    {
     "name": "stdout",
     "output_type": "stream",
     "text": [
      "37\n",
      "['Men’s Premium Style High Top Platform Fashion Sneakers|...', 'Sneakers For Men', 'Sneakers For Men', 'Sneakers For Men', 'Premium Sports Shoes for Men Sneakers For Men', 'Mesh,Cricket, Badminton,Volly Ball,Sports,Casual,Walkin...', 'Casual Sneakers Canvas Shoes For Men Sneakers For Men', 'Sneakers For Men', 'Mesh,Cricket, Badminton,Volly Ball,Sports,Casual,Walkin...', 'Mesh,Cricket, Badminton,Volly Ball,Sports,Casual,Walkin...', 'Trinity Sneakers For Men', 'Sneakers Sneakers For Men', 'Exclusive Affordable Collection of Trendy & Stylish Cas...', 'Sneakers For Men', 'Sneakers For Men', 'Men’s Premium Style High Top Platform Fashion Sneakers|...', 'fuzor B Sneakers For Men', \"Original Luxury Branded Fashionable Men's Casual Walkin...\", 'Exclusive Rap & Dance Shoes For Boys Sneakers For Men S...', 'supr Sneakers For Men', 'Canvas shoes for Men Sneakers For Men', 'Casuals, Canvas, Partywear Sneakers For Men', 'Sneakers For Men', 'Exclusive Sneaker Shoes Sneakers For Men', 'Court Star Vulc FS Sneakers For Men', 'Sneakers For Men', 'Modern Trendy Sneakers Shoes Sneakers For Men', 'SM-671 Sneakers For Men', 'Jasper-02 Navy Casuals,Walking,Training,Running,Stylish...', 'Sneakers For Men', 'Lightweight Pack Of 1 Trendy Sneakers Sneakers For Men', 'Sneakers For Men', '2 Combo Sneaker Shoes Sneakers For Men', 'Premium Casual Shoes for Men Sneakers For Men', 'Pacer Fire Sneakers For Men', 'Sneakers For Men', 'Sneakers For Men']\n"
     ]
    }
   ],
   "source": [
    "sneaker_description = []\n",
    "\n",
    "for i in driver6.find_elements(By.XPATH,'//a[@class=\"IRpwTa\"]'):\n",
    "    sneaker_description.append(i.text)\n",
    "    \n",
    "print(len(sneaker_description))\n",
    "print(sneaker_description)"
   ]
  },
  {
   "cell_type": "code",
   "execution_count": 110,
   "id": "50d4ea16",
   "metadata": {},
   "outputs": [
    {
     "name": "stdout",
     "output_type": "stream",
     "text": [
      "40\n",
      "['₹549', '₹565', '₹1,249', '₹1,349', '₹395', '₹299', '₹379', '₹689', '₹329', '₹299', '₹689', '₹689', '₹2,020', '₹360', '₹249', '₹599', '₹499', '₹565', '₹1,427', '₹499', '₹565', '₹199', '₹389', '₹499', '₹349', '₹324', '₹2,879', '₹299', '₹324', '₹849', '₹899', '₹1,950', '₹199', '₹329', '₹574', '₹299', '₹708', '₹1,709', '₹629', '₹299']\n"
     ]
    }
   ],
   "source": [
    "sneaker_price= []\n",
    "\n",
    "for i in driver6.find_elements(By.XPATH,'//div[@class=\"_30jeq3\"]'):\n",
    "    sneaker_price.append(i.text)\n",
    "    \n",
    "print(len(sneaker_price))\n",
    "print(sneaker_price)"
   ]
  },
  {
   "cell_type": "code",
   "execution_count": 111,
   "id": "80fcc6c2",
   "metadata": {},
   "outputs": [
    {
     "name": "stdout",
     "output_type": "stream",
     "text": [
      "40\n",
      "['45% off', '56% off', '75% off', '75% off', '60% off', '80% off', '62% off', '65% off', '67% off', '70% off', '65% off', '65% off', '42% off', '63% off', '83% off', '40% off', '50% off', '56% off', '62% off', '75% off', '62% off', '80% off', '70% off', '50% off', '65% off', '75% off', '52% off', '50% off', '75% off', '15% off', '40% off', '42% off', '66% off', '67% off', '77% off', '70% off', '45% off', '62% off', '37% off', '70% off']\n"
     ]
    }
   ],
   "source": [
    "sneaker_discout = []\n",
    "for i in driver6.find_elements(By.XPATH,'//div[@class=\"_3Ay6Sb\"]'):\n",
    "    sneaker_discout.append(i.text)\n",
    "    \n",
    "print(len(sneaker_discout))\n",
    "print(sneaker_discout)"
   ]
  },
  {
   "cell_type": "code",
   "execution_count": 112,
   "id": "a9c19158",
   "metadata": {},
   "outputs": [],
   "source": [
    "sneaker_page2 = driver6.find_element(By.XPATH,\"/html/body/div[1]/div/div[3]/div[1]/div[2]/div[12]/div/div/nav/a[11]\")\n",
    "sneaker_page2.click()"
   ]
  },
  {
   "cell_type": "code",
   "execution_count": 113,
   "id": "04b15fbc",
   "metadata": {},
   "outputs": [
    {
     "name": "stdout",
     "output_type": "stream",
     "text": [
      "80\n",
      "['RapidBox', 'Zixer', 'RED TAPE', 'RED TAPE', 'Labbin', 'TR', 'BIRDE', 'Layasa', 'Robbie jones', 'Magnolia', 'Layasa', 'Layasa', 'PUMA', 'SCATCHITE', 'World Wear Footwear', 'RapidBox', 'Kraasa', 'Zixer', 'asics', 'ASTEROID', 'Zixer', 'Layasa', 'BRUTON', 'Kraasa', 'Robbie jones', 'BRUTON', 'PUMA', 'gargcreation', 'BRUTON', 'Sparx', 'asian', 'BUCKAROO', 'BRUTON', 'Robbie jones', 'BRUTON', 'BIRDE', 'City Soles', 'PUMA', 'GVR', 'Magnolia', 'Zixer', 'Mast & Harbour', 'PUMA', 'BRUTON', 'Sparx', 'Magnolia', \"K' Footlance\", 'ACTION', 'BIRDE', 'Robbie jones', 'asian', 'City Soles', 'Shozie', 'kardam&sons', 'BRUTON', 'Bond Street By Red Tape', 'U.S. POLO ASSN.', 'City Soles', 'DUCATI', 'ASTEROID', 'City Soles', 'PUMA', 'DUCATI', 'BRUTON', 'Xtoon', 'AMICO', 'asian', 'Fresh1947Feet', 'Bond Street By Red Tape', 'Shozie', 'PUMA', 'CALCADOS', 'BRUTON', 'Wlinzak', 'BRUTON', 'DUCATI', 'City Soles', 'PUMA', 'World Wear Footwear', 'BIRDE']\n"
     ]
    }
   ],
   "source": [
    "for i in driver6.find_elements(By.XPATH,'//div[@class=\"_2WkVRV\"]'):\n",
    "    sneaker_brand.append(i.text)\n",
    "    \n",
    "print(len(sneaker_brand))\n",
    "print(sneaker_brand)"
   ]
  },
  {
   "cell_type": "code",
   "execution_count": 114,
   "id": "14e53e60",
   "metadata": {},
   "outputs": [
    {
     "name": "stdout",
     "output_type": "stream",
     "text": [
      "72\n",
      "['Men’s Premium Style High Top Platform Fashion Sneakers|...', 'Sneakers For Men', 'Sneakers For Men', 'Sneakers For Men', 'Premium Sports Shoes for Men Sneakers For Men', 'Mesh,Cricket, Badminton,Volly Ball,Sports,Casual,Walkin...', 'Casual Sneakers Canvas Shoes For Men Sneakers For Men', 'Sneakers For Men', 'Mesh,Cricket, Badminton,Volly Ball,Sports,Casual,Walkin...', 'Mesh,Cricket, Badminton,Volly Ball,Sports,Casual,Walkin...', 'Trinity Sneakers For Men', 'Sneakers Sneakers For Men', 'Exclusive Affordable Collection of Trendy & Stylish Cas...', 'Sneakers For Men', 'Sneakers For Men', 'Men’s Premium Style High Top Platform Fashion Sneakers|...', 'fuzor B Sneakers For Men', \"Original Luxury Branded Fashionable Men's Casual Walkin...\", 'Exclusive Rap & Dance Shoes For Boys Sneakers For Men S...', 'supr Sneakers For Men', 'Canvas shoes for Men Sneakers For Men', 'Casuals, Canvas, Partywear Sneakers For Men', 'Sneakers For Men', 'Exclusive Sneaker Shoes Sneakers For Men', 'Court Star Vulc FS Sneakers For Men', 'Sneakers For Men', 'Modern Trendy Sneakers Shoes Sneakers For Men', 'SM-671 Sneakers For Men', 'Jasper-02 Navy Casuals,Walking,Training,Running,Stylish...', 'Sneakers For Men', 'Lightweight Pack Of 1 Trendy Sneakers Sneakers For Men', 'Sneakers For Men', '2 Combo Sneaker Shoes Sneakers For Men', 'Premium Casual Shoes for Men Sneakers For Men', 'Pacer Fire Sneakers For Men', 'Sneakers For Men', 'Sneakers For Men', 'Sneakers Dancing Shoes/Street Dancing Shoe For Men/R.T....', 'Sneakers For Men', 'Acrux Sneakers For Men', 'Modern Trendy Sneakers Shoes Sneakers For Men', 'SM-671 Sneakers For Men', 'Sneakers For Men', 'Fashion and Stylish Soft Ultralight Lace Up Sneakers Ca...', \"Athleo ATG-424 Men's Navy Mesh Best Comfort Running Gym...\", 'Premium Casual Shoes for Men Sneakers For Men', 'Sneakers For Men', 'Jasper-01 Grey Casual,Walking,Sneakers,Loafers Stylish ...', 'Stylish Sneakers Shoes for Men Sneakers For Men', 'Fashionable Canvas Casual Partywear Outdoor Sneakers wh...', 'Lattest Sneakers Shoe Sneakers For Men', 'Sneakers For Men', 'CLEMT Sneakers For Men', 'Sneakers For Men', \"Original Luxury Branded Fashionable Men's Casual Walkin...\", 'MAPF1 A3ROCAT Mid Sneakers For Men', 'Sneakers For Men', 'Combo Pack Of 2 Casual Sneakers For Men', 'Modern Trendy Sneakers boot Sneakers For Men', 'Sneakers For Men', 'Jasper-04 Red Sneakers,Casuals,Loafers Sneakers For Men', 'Sneakers For Men', 'Breathable, Walking, Running, Casual, Gym Shoes Sneaker...', 'RS-Z Re.Gen Sneakers For Men', 'ultra light Comfertable Sneakers For Men', 'Sneaker Sneakers For Men', 'Sneakers For Men', 'Combo Pack of 5 Casual Sneakers With Sneakers For Men', 'Sneakers For Men', 'Stride Evo v1 Slip on Sneakers For Men', '5011-Latest Collection Stylish & Trendy Casual Sneakers...', 'Premium White Casual Shoes Sneakers For Men Sneakers Fo...']\n"
     ]
    }
   ],
   "source": [
    "for i in driver6.find_elements(By.XPATH,'//a[@class=\"IRpwTa\"]'):\n",
    "    sneaker_description.append(i.text)\n",
    "    \n",
    "print(len(sneaker_description))\n",
    "print(sneaker_description)"
   ]
  },
  {
   "cell_type": "code",
   "execution_count": 115,
   "id": "80978da9",
   "metadata": {},
   "outputs": [
    {
     "name": "stdout",
     "output_type": "stream",
     "text": [
      "80\n",
      "['₹549', '₹565', '₹1,249', '₹1,349', '₹395', '₹299', '₹379', '₹689', '₹329', '₹299', '₹689', '₹689', '₹2,020', '₹360', '₹249', '₹599', '₹499', '₹565', '₹1,427', '₹499', '₹565', '₹199', '₹389', '₹499', '₹349', '₹324', '₹2,879', '₹299', '₹324', '₹849', '₹899', '₹1,950', '₹199', '₹329', '₹574', '₹299', '₹708', '₹1,709', '₹629', '₹299', '₹565', '₹1,055', '₹1,966', '₹324', '₹849', '₹299', '₹389', '₹646', '₹299', '₹329', '₹899', '₹759', '₹399', '₹449', '₹311', '₹1,529', '₹4,274', '₹710', '₹956', '₹499', '₹708', '₹8,499', '₹799', '₹317', '₹499', '₹494', '₹899', '₹1,750', '₹1,529', '₹399', '₹3,799', '₹399', '₹311', '₹499', '₹666', '₹857', '₹759', '₹1,823', '₹249', '₹449']\n"
     ]
    }
   ],
   "source": [
    "for i in driver6.find_elements(By.XPATH,'//div[@class=\"_30jeq3\"]'):\n",
    "    sneaker_price.append(i.text)\n",
    "    \n",
    "print(len(sneaker_price))\n",
    "print(sneaker_price)"
   ]
  },
  {
   "cell_type": "code",
   "execution_count": 116,
   "id": "24f397b7",
   "metadata": {},
   "outputs": [
    {
     "name": "stdout",
     "output_type": "stream",
     "text": [
      "80\n",
      "['45% off', '56% off', '75% off', '75% off', '60% off', '80% off', '62% off', '65% off', '67% off', '70% off', '65% off', '65% off', '42% off', '63% off', '83% off', '40% off', '50% off', '56% off', '62% off', '75% off', '62% off', '80% off', '70% off', '50% off', '65% off', '75% off', '52% off', '50% off', '75% off', '15% off', '40% off', '42% off', '66% off', '67% off', '77% off', '70% off', '45% off', '62% off', '37% off', '70% off', '62% off', '49% off', '40% off', '75% off', '15% off', '70% off', '61% off', '65% off', '70% off', '67% off', '40% off', '24% off', '60% off', '65% off', '76% off', '70% off', '5% off', '28% off', '71% off', '50% off', '29% off', '15% off', '84% off', '84% off', '66% off', '50% off', '40% off', '16% off', '70% off', '60% off', '62% off', '20% off', '76% off', '50% off', '83% off', '74% off', '24% off', '52% off', '50% off', '70% off']\n"
     ]
    }
   ],
   "source": [
    "for i in driver6.find_elements(By.XPATH,'//div[@class=\"_3Ay6Sb\"]'):\n",
    "    sneaker_discout.append(i.text)\n",
    "    \n",
    "print(len(sneaker_discout))\n",
    "print(sneaker_discout)"
   ]
  },
  {
   "cell_type": "code",
   "execution_count": 117,
   "id": "8fe8c62d",
   "metadata": {},
   "outputs": [],
   "source": [
    "sneaker_page3 = driver6.find_element(By.XPATH,\"/html/body/div[1]/div/div[3]/div[1]/div[2]/div[12]/div/div/nav/a[12]\")\n",
    "sneaker_page3.click()"
   ]
  },
  {
   "cell_type": "code",
   "execution_count": 118,
   "id": "2a6b2f78",
   "metadata": {},
   "outputs": [
    {
     "name": "stdout",
     "output_type": "stream",
     "text": [
      "120\n",
      "['RapidBox', 'Zixer', 'RED TAPE', 'RED TAPE', 'Labbin', 'TR', 'BIRDE', 'Layasa', 'Robbie jones', 'Magnolia', 'Layasa', 'Layasa', 'PUMA', 'SCATCHITE', 'World Wear Footwear', 'RapidBox', 'Kraasa', 'Zixer', 'asics', 'ASTEROID', 'Zixer', 'Layasa', 'BRUTON', 'Kraasa', 'Robbie jones', 'BRUTON', 'PUMA', 'gargcreation', 'BRUTON', 'Sparx', 'asian', 'BUCKAROO', 'BRUTON', 'Robbie jones', 'BRUTON', 'BIRDE', 'City Soles', 'PUMA', 'GVR', 'Magnolia', 'Zixer', 'Mast & Harbour', 'PUMA', 'BRUTON', 'Sparx', 'Magnolia', \"K' Footlance\", 'ACTION', 'BIRDE', 'Robbie jones', 'asian', 'City Soles', 'Shozie', 'kardam&sons', 'BRUTON', 'Bond Street By Red Tape', 'U.S. POLO ASSN.', 'City Soles', 'DUCATI', 'ASTEROID', 'City Soles', 'PUMA', 'DUCATI', 'BRUTON', 'Xtoon', 'AMICO', 'asian', 'Fresh1947Feet', 'Bond Street By Red Tape', 'Shozie', 'PUMA', 'CALCADOS', 'BRUTON', 'Wlinzak', 'BRUTON', 'DUCATI', 'City Soles', 'PUMA', 'World Wear Footwear', 'BIRDE', 'Layasa', 'FOOTSTAIR', 'Sparx', 'tigonis', 'RapidBox', 'RED TAPE', 'PUMA', 'Skechers', 'KWIK FIT', \"'Trends'\", 'U.S. POLO ASSN.', 'PUMA', 'EZDEZARIO', 'BIRDE', 'Sparx', 'Sparx', 'PUMA', 'gargcreation', 'ZAPTOE', 'K- FOOTLANCE', 'PUMA', 'PUMA', 'DUCATI', 'Sparx', 'D-SNEAKERZ', 'BRUTON', 'PUMA', 'PUMA', 'K- FOOTLANCE', 'bacca bucci', 'U.S. POLO ASSN.', 'gargcreation', 'Kzaara', 'RED TAPE', 'AMICO', 'NIKE', 'Furo', 'SCETTRO', 'Qitty', 'K- FOOTLANCE']\n"
     ]
    }
   ],
   "source": [
    "for i in driver6.find_elements(By.XPATH,'//div[@class=\"_2WkVRV\"]'):\n",
    "    sneaker_brand.append(i.text)\n",
    "    \n",
    "print(len(sneaker_brand))\n",
    "print(sneaker_brand)"
   ]
  },
  {
   "cell_type": "code",
   "execution_count": 119,
   "id": "611dbc63",
   "metadata": {},
   "outputs": [
    {
     "name": "stdout",
     "output_type": "stream",
     "text": [
      "110\n",
      "['Men’s Premium Style High Top Platform Fashion Sneakers|...', 'Sneakers For Men', 'Sneakers For Men', 'Sneakers For Men', 'Premium Sports Shoes for Men Sneakers For Men', 'Mesh,Cricket, Badminton,Volly Ball,Sports,Casual,Walkin...', 'Casual Sneakers Canvas Shoes For Men Sneakers For Men', 'Sneakers For Men', 'Mesh,Cricket, Badminton,Volly Ball,Sports,Casual,Walkin...', 'Mesh,Cricket, Badminton,Volly Ball,Sports,Casual,Walkin...', 'Trinity Sneakers For Men', 'Sneakers Sneakers For Men', 'Exclusive Affordable Collection of Trendy & Stylish Cas...', 'Sneakers For Men', 'Sneakers For Men', 'Men’s Premium Style High Top Platform Fashion Sneakers|...', 'fuzor B Sneakers For Men', \"Original Luxury Branded Fashionable Men's Casual Walkin...\", 'Exclusive Rap & Dance Shoes For Boys Sneakers For Men S...', 'supr Sneakers For Men', 'Canvas shoes for Men Sneakers For Men', 'Casuals, Canvas, Partywear Sneakers For Men', 'Sneakers For Men', 'Exclusive Sneaker Shoes Sneakers For Men', 'Court Star Vulc FS Sneakers For Men', 'Sneakers For Men', 'Modern Trendy Sneakers Shoes Sneakers For Men', 'SM-671 Sneakers For Men', 'Jasper-02 Navy Casuals,Walking,Training,Running,Stylish...', 'Sneakers For Men', 'Lightweight Pack Of 1 Trendy Sneakers Sneakers For Men', 'Sneakers For Men', '2 Combo Sneaker Shoes Sneakers For Men', 'Premium Casual Shoes for Men Sneakers For Men', 'Pacer Fire Sneakers For Men', 'Sneakers For Men', 'Sneakers For Men', 'Sneakers Dancing Shoes/Street Dancing Shoe For Men/R.T....', 'Sneakers For Men', 'Acrux Sneakers For Men', 'Modern Trendy Sneakers Shoes Sneakers For Men', 'SM-671 Sneakers For Men', 'Sneakers For Men', 'Fashion and Stylish Soft Ultralight Lace Up Sneakers Ca...', \"Athleo ATG-424 Men's Navy Mesh Best Comfort Running Gym...\", 'Premium Casual Shoes for Men Sneakers For Men', 'Sneakers For Men', 'Jasper-01 Grey Casual,Walking,Sneakers,Loafers Stylish ...', 'Stylish Sneakers Shoes for Men Sneakers For Men', 'Fashionable Canvas Casual Partywear Outdoor Sneakers wh...', 'Lattest Sneakers Shoe Sneakers For Men', 'Sneakers For Men', 'CLEMT Sneakers For Men', 'Sneakers For Men', \"Original Luxury Branded Fashionable Men's Casual Walkin...\", 'MAPF1 A3ROCAT Mid Sneakers For Men', 'Sneakers For Men', 'Combo Pack Of 2 Casual Sneakers For Men', 'Modern Trendy Sneakers boot Sneakers For Men', 'Sneakers For Men', 'Jasper-04 Red Sneakers,Casuals,Loafers Sneakers For Men', 'Sneakers For Men', 'Breathable, Walking, Running, Casual, Gym Shoes Sneaker...', 'RS-Z Re.Gen Sneakers For Men', 'ultra light Comfertable Sneakers For Men', 'Sneaker Sneakers For Men', 'Sneakers For Men', 'Combo Pack of 5 Casual Sneakers With Sneakers For Men', 'Sneakers For Men', 'Stride Evo v1 Slip on Sneakers For Men', '5011-Latest Collection Stylish & Trendy Casual Sneakers...', 'Premium White Casual Shoes Sneakers For Men Sneakers Fo...', 'Mesh,Cricket, Badminton,Volly Ball,Sports,Casual,Walkin...', 'PLAY Sneakers For Men', 'SD-323 Sneakers For Men', 'Tigonis Casuals For Men Sneakers For Men (White) Sneake...', 'Sneakers For Men', 'RTE3681 Sneakers For Men', 'Mirage Sport Tech Sneakers For Men', 'UNO - STAND ON AIR Sneakers For Men', 'Kwik FIT casual sneaker shoes and partywear shoes Casua...', 'Casual sneaker fashionable shoes for men Sneakers For M...', 'Entrant Slipon MU Sneakers For Men', 'Sneakers For Men', 'Stylish Casual Shoes Sneakers For Men', 'Men White Sneakers Sneakers For Men', 'SM-734 Sneakers For Men', 'Ziller V2 Sneakers For Men', 'Sneakers For Men', 'Boxer Sneakers For Men', 'Casual Sneakers White Outdoor Shoes For Boys And Men Sn...', 'Fire V2 Sneakers For Men', 'Turin 3 NL Sneakers For Men', 'Sneakers For Men', 'SM-671 Sneakers For Men', \"Casual , Partywear Sneakers Shoes For Men's And Boys Wh...\", 'Modern Trendy Sneakers Shoes Sneakers For Men', 'Raptor Sneakers For Men', 'Pwrframe OP-1 Nature Knit Sneakers For Men', 'Sneakers For Men', \"Men's NIRVANA Low Top Flat Sole Casual Sneakers for Men...\", 'NEMSY Sneakers For Men', 'Sneakers For Men', 'Sneakers For Men', 'Sneakers For Men', 'Sneakers For Men', 'Court Vision Low Better Sneakers For Men', 'Sneakers For Men', 'Jordan White Shoes Light Weight Comfortable Stylish Tre...', 'Sneakers For Men']\n"
     ]
    }
   ],
   "source": [
    "for i in driver6.find_elements(By.XPATH,'//a[@class=\"IRpwTa\"]'):\n",
    "    sneaker_description.append(i.text)\n",
    "    \n",
    "print(len(sneaker_description))\n",
    "print(sneaker_description)"
   ]
  },
  {
   "cell_type": "code",
   "execution_count": 120,
   "id": "0e0f85fe",
   "metadata": {},
   "outputs": [
    {
     "name": "stdout",
     "output_type": "stream",
     "text": [
      "120\n",
      "['₹549', '₹565', '₹1,249', '₹1,349', '₹395', '₹299', '₹379', '₹689', '₹329', '₹299', '₹689', '₹689', '₹2,020', '₹360', '₹249', '₹599', '₹499', '₹565', '₹1,427', '₹499', '₹565', '₹199', '₹389', '₹499', '₹349', '₹324', '₹2,879', '₹299', '₹324', '₹849', '₹899', '₹1,950', '₹199', '₹329', '₹574', '₹299', '₹708', '₹1,709', '₹629', '₹299', '₹565', '₹1,055', '₹1,966', '₹324', '₹849', '₹299', '₹389', '₹646', '₹299', '₹329', '₹899', '₹759', '₹399', '₹449', '₹311', '₹1,529', '₹4,274', '₹710', '₹956', '₹499', '₹708', '₹8,499', '₹799', '₹317', '₹499', '₹494', '₹899', '₹1,750', '₹1,529', '₹399', '₹3,799', '₹399', '₹311', '₹499', '₹666', '₹857', '₹759', '₹1,823', '₹249', '₹449', '₹689', '₹399', '₹735', '₹499', '₹599', '₹1,299', '₹7,649', '₹5,949', '₹358', '₹489', '₹4,599', '₹1,485', '₹549', '₹249', '₹765', '₹849', '₹1,679', '₹299', '₹225', '₹549', '₹1,719', '₹2,303', '₹961', '₹924', '₹399', '₹350', '₹2,063', '₹10,199', '₹449', '₹1,399', '₹4,499', '₹299', '₹199', '₹5,199', '₹494', '₹2,883', '₹1,599', '₹679', '₹269', '₹389']\n"
     ]
    }
   ],
   "source": [
    "for i in driver6.find_elements(By.XPATH,'//div[@class=\"_30jeq3\"]'):\n",
    "    sneaker_price.append(i.text)\n",
    "    \n",
    "print(len(sneaker_price))\n",
    "print(sneaker_price)"
   ]
  },
  {
   "cell_type": "code",
   "execution_count": 121,
   "id": "6f3dcf45",
   "metadata": {},
   "outputs": [
    {
     "name": "stdout",
     "output_type": "stream",
     "text": [
      "116\n",
      "['45% off', '56% off', '75% off', '75% off', '60% off', '80% off', '62% off', '65% off', '67% off', '70% off', '65% off', '65% off', '42% off', '63% off', '83% off', '40% off', '50% off', '56% off', '62% off', '75% off', '62% off', '80% off', '70% off', '50% off', '65% off', '75% off', '52% off', '50% off', '75% off', '15% off', '40% off', '42% off', '66% off', '67% off', '77% off', '70% off', '45% off', '62% off', '37% off', '70% off', '62% off', '49% off', '40% off', '75% off', '15% off', '70% off', '61% off', '65% off', '70% off', '67% off', '40% off', '24% off', '60% off', '65% off', '76% off', '70% off', '5% off', '28% off', '71% off', '50% off', '29% off', '15% off', '84% off', '84% off', '66% off', '50% off', '40% off', '16% off', '70% off', '60% off', '62% off', '20% off', '76% off', '50% off', '83% off', '74% off', '24% off', '52% off', '50% off', '70% off', '65% off', '20% off', '21% off', '66% off', '40% off', '75% off', '15% off', '15% off', '82% off', '62% off', '66% off', '45% off', '75% off', '14% off', '52% off', '50% off', '54% off', '45% off', '60% off', '52% off', '74% off', '15% off', '39% off', '73% off', '52% off', '15% off', '55% off', '53% off', '50% off', '80% off', '50% off', '42% off', '55% off', '54% off', '55% off', '61% off']\n"
     ]
    }
   ],
   "source": [
    "for i in driver6.find_elements(By.XPATH,'//div[@class=\"_3Ay6Sb\"]'):\n",
    "    sneaker_discout.append(i.text)\n",
    "    \n",
    "print(len(sneaker_discout))\n",
    "print(sneaker_discout)"
   ]
  },
  {
   "cell_type": "code",
   "execution_count": 123,
   "id": "a776f58a",
   "metadata": {},
   "outputs": [
    {
     "data": {
      "text/html": [
       "<div>\n",
       "<style scoped>\n",
       "    .dataframe tbody tr th:only-of-type {\n",
       "        vertical-align: middle;\n",
       "    }\n",
       "\n",
       "    .dataframe tbody tr th {\n",
       "        vertical-align: top;\n",
       "    }\n",
       "\n",
       "    .dataframe thead th {\n",
       "        text-align: right;\n",
       "    }\n",
       "</style>\n",
       "<table border=\"1\" class=\"dataframe\">\n",
       "  <thead>\n",
       "    <tr style=\"text-align: right;\">\n",
       "      <th></th>\n",
       "      <th>Brand</th>\n",
       "      <th>Product description</th>\n",
       "      <th>Price</th>\n",
       "      <th>Discount</th>\n",
       "    </tr>\n",
       "  </thead>\n",
       "  <tbody>\n",
       "    <tr>\n",
       "      <th>0</th>\n",
       "      <td>RapidBox</td>\n",
       "      <td>Men’s Premium Style High Top Platform Fashion ...</td>\n",
       "      <td>₹549</td>\n",
       "      <td>45% off</td>\n",
       "    </tr>\n",
       "    <tr>\n",
       "      <th>1</th>\n",
       "      <td>Zixer</td>\n",
       "      <td>Sneakers For Men</td>\n",
       "      <td>₹565</td>\n",
       "      <td>56% off</td>\n",
       "    </tr>\n",
       "    <tr>\n",
       "      <th>2</th>\n",
       "      <td>RED TAPE</td>\n",
       "      <td>Sneakers For Men</td>\n",
       "      <td>₹1,249</td>\n",
       "      <td>75% off</td>\n",
       "    </tr>\n",
       "    <tr>\n",
       "      <th>3</th>\n",
       "      <td>RED TAPE</td>\n",
       "      <td>Sneakers For Men</td>\n",
       "      <td>₹1,349</td>\n",
       "      <td>75% off</td>\n",
       "    </tr>\n",
       "    <tr>\n",
       "      <th>4</th>\n",
       "      <td>Labbin</td>\n",
       "      <td>Premium Sports Shoes for Men Sneakers For Men</td>\n",
       "      <td>₹395</td>\n",
       "      <td>60% off</td>\n",
       "    </tr>\n",
       "    <tr>\n",
       "      <th>...</th>\n",
       "      <td>...</td>\n",
       "      <td>...</td>\n",
       "      <td>...</td>\n",
       "      <td>...</td>\n",
       "    </tr>\n",
       "    <tr>\n",
       "      <th>95</th>\n",
       "      <td>Sparx</td>\n",
       "      <td>Casual , Partywear Sneakers Shoes For Men's An...</td>\n",
       "      <td>₹849</td>\n",
       "      <td>50% off</td>\n",
       "    </tr>\n",
       "    <tr>\n",
       "      <th>96</th>\n",
       "      <td>PUMA</td>\n",
       "      <td>Modern Trendy Sneakers Shoes Sneakers For Men</td>\n",
       "      <td>₹1,679</td>\n",
       "      <td>54% off</td>\n",
       "    </tr>\n",
       "    <tr>\n",
       "      <th>97</th>\n",
       "      <td>gargcreation</td>\n",
       "      <td>Raptor Sneakers For Men</td>\n",
       "      <td>₹299</td>\n",
       "      <td>45% off</td>\n",
       "    </tr>\n",
       "    <tr>\n",
       "      <th>98</th>\n",
       "      <td>ZAPTOE</td>\n",
       "      <td>Pwrframe OP-1 Nature Knit Sneakers For Men</td>\n",
       "      <td>₹225</td>\n",
       "      <td>60% off</td>\n",
       "    </tr>\n",
       "    <tr>\n",
       "      <th>99</th>\n",
       "      <td>K- FOOTLANCE</td>\n",
       "      <td>Sneakers For Men</td>\n",
       "      <td>₹549</td>\n",
       "      <td>52% off</td>\n",
       "    </tr>\n",
       "  </tbody>\n",
       "</table>\n",
       "<p>100 rows × 4 columns</p>\n",
       "</div>"
      ],
      "text/plain": [
       "           Brand                                Product description   Price  \\\n",
       "0       RapidBox  Men’s Premium Style High Top Platform Fashion ...    ₹549   \n",
       "1          Zixer                                   Sneakers For Men    ₹565   \n",
       "2       RED TAPE                                   Sneakers For Men  ₹1,249   \n",
       "3       RED TAPE                                   Sneakers For Men  ₹1,349   \n",
       "4         Labbin      Premium Sports Shoes for Men Sneakers For Men    ₹395   \n",
       "..           ...                                                ...     ...   \n",
       "95         Sparx  Casual , Partywear Sneakers Shoes For Men's An...    ₹849   \n",
       "96          PUMA      Modern Trendy Sneakers Shoes Sneakers For Men  ₹1,679   \n",
       "97  gargcreation                            Raptor Sneakers For Men    ₹299   \n",
       "98        ZAPTOE         Pwrframe OP-1 Nature Knit Sneakers For Men    ₹225   \n",
       "99  K- FOOTLANCE                                   Sneakers For Men    ₹549   \n",
       "\n",
       "   Discount  \n",
       "0   45% off  \n",
       "1   56% off  \n",
       "2   75% off  \n",
       "3   75% off  \n",
       "4   60% off  \n",
       "..      ...  \n",
       "95  50% off  \n",
       "96  54% off  \n",
       "97  45% off  \n",
       "98  60% off  \n",
       "99  52% off  \n",
       "\n",
       "[100 rows x 4 columns]"
      ]
     },
     "execution_count": 123,
     "metadata": {},
     "output_type": "execute_result"
    }
   ],
   "source": [
    "sneaker_df = pd.DataFrame()\n",
    "\n",
    "sneaker_df[\"Brand\"] = sneaker_brand[:100]\n",
    "sneaker_df[\"Product description\"] = sneaker_description[:100]\n",
    "sneaker_df[\"Price\"] = sneaker_price[:100]\n",
    "sneaker_df[\"Discount\"] =sneaker_discout[:100]\n",
    "\n",
    "sneaker_df"
   ]
  },
  {
   "cell_type": "code",
   "execution_count": null,
   "id": "a578012c",
   "metadata": {},
   "outputs": [],
   "source": []
  },
  {
   "cell_type": "markdown",
   "id": "6984f261",
   "metadata": {},
   "source": [
    "Q7: Go to the link - https://www.myntra.com/shoes\n",
    "Set second Price filter and Color filter to “Black”, as shown in the below image.\n",
    "And then scrape First 100 shoes data you get. The data should include “Brand” of the shoes , Short Shoe\n",
    "description, price of the shoe as shown in the below image"
   ]
  },
  {
   "cell_type": "code",
   "execution_count": 127,
   "id": "b32c7761",
   "metadata": {},
   "outputs": [],
   "source": [
    "driver7 = webdriver.Edge(r\"C:\\Users\\Atharva\\Internship project\\Web Sraping assignment-2\\msedgedriver.exe\")\n",
    "driver7.maximize_window()\n",
    "\n",
    "url7 = \"https://www.myntra.com/shoes\"\n",
    "driver7.get(url7)"
   ]
  },
  {
   "cell_type": "code",
   "execution_count": 132,
   "id": "ca5f8497",
   "metadata": {},
   "outputs": [],
   "source": [
    "price_filter = driver7.find_element(By.XPATH,\"/html/body/div[2]/div/main/div[3]/div[1]/section/div/div[5]/ul/li[2]/label/div\")\n",
    "price_filter.click()\n",
    "\n",
    "color_filter = driver7.find_element(By.XPATH,\"/html/body/div[2]/div/main/div[3]/div[1]/section/div/div[6]/ul/li[1]/label/div\")\n",
    "color_filter.click()"
   ]
  },
  {
   "cell_type": "code",
   "execution_count": 134,
   "id": "763793c5",
   "metadata": {},
   "outputs": [
    {
     "name": "stdout",
     "output_type": "stream",
     "text": [
      "50\n",
      "['Nike', 'Nike', 'ADIDAS', 'ADIDAS Originals', 'UNDER ARMOUR', 'Nike', 'UNDER ARMOUR', 'Nike', 'UNDER ARMOUR', 'ADIDAS', 'UNDER ARMOUR', 'Ruosh', 'Hush Puppies', 'ADIDAS', 'ADIDAS Originals', 'Puma', 'Tommy Hilfiger', 'UNDER ARMOUR', 'Nike', 'Nike', 'UNDER ARMOUR', 'Saint G', 'ADIDAS', 'Skechers', 'Puma', 'ADIDAS', 'Nike', 'Puma', 'Nike', 'Nike', 'Calvin Klein', 'Geox', 'Geox', 'Clarks', 'Saint G', 'Ruosh', 'Saint G', 'Skechers', 'ADIDAS', 'Saint G', 'Saint G', 'Clarks', 'ADIDAS', 'Skechers', 'Puma', 'ADIDAS', 'Nike', 'ADIDAS Originals', 'Nike', 'Xtep']\n"
     ]
    }
   ],
   "source": [
    "shoes_brand = []\n",
    "for i in driver7.find_elements(By.XPATH,'//h3[@class=\"product-brand\"]'):\n",
    "    shoes_brand.append(i.text)\n",
    "    \n",
    "print(len(shoes_brand))\n",
    "print(shoes_brand)"
   ]
  },
  {
   "cell_type": "code",
   "execution_count": 142,
   "id": "7e3c9dc4",
   "metadata": {},
   "outputs": [
    {
     "name": "stdout",
     "output_type": "stream",
     "text": [
      "50\n",
      "[' 9175', ' 10165', ' 11899', ' 12999', ' 10999', ' 11470', ' 9999', ' 9175', ' 8999', ' 12349', ' 8999', ' 7990', ' 9999', ' 11249', ' 9999', ' 12999', ' 8999', ' 9999', ' 10875', ' 7220', ' 9999', ' 13410', ' 8999', ' 8999', ' 11999', ' 8999', ' 7220', ' 10999', ' 11196', ' 13595', ' 7199', ' 13990', ' 13990', ' 7999', ' 8010', ' 8990', ' 7560', ' 8999', ' 8999', ' 10710', ' 9810', ' 9099', ' 12999', ' 7499', ' 9099', ' 13499', ' 12795', ' 8799', ' 8750', ' 7199']\n"
     ]
    }
   ],
   "source": [
    "shoes_price = []\n",
    "for i in driver7.find_elements(By.XPATH,'//div[@class=\"product-price\"]'):\n",
    "    shoes_price.append(i.text.split(\".\")[1].replace(\"Rs\",\"\"))\n",
    "    \n",
    "print(len(shoes_price))\n",
    "print(shoes_price)"
   ]
  },
  {
   "cell_type": "code",
   "execution_count": 143,
   "id": "f06bea18",
   "metadata": {},
   "outputs": [
    {
     "name": "stdout",
     "output_type": "stream",
     "text": [
      "50\n",
      "['JORDAN ZION 2 Basketball Shoes', 'JORDAN MAX AURA 4 Shoes', 'Men Ultraboost 5.0 DNA Running', 'Men Woven Nmd_R1 Sneakers', 'Unisex Curry Basketball Shoes', 'Men Vomero 16 Running Shoes', 'Men HOVR SonicSE Running Shoes', 'Men AIR MAX DAWN Sneakers', 'Men ChargedEscape 3 BL Running', 'Women Ultraboost 22 Running', 'Unisex 3ZER0 IV Basketball', 'Men Textured Leather Loafers', 'Men Solid Leather Formal Slip-Ons', 'Men Runner Fl Running Shoes', 'Men Woven FomSolution Sneakers', 'Eternity Nitro Running Shoes', 'Men Textured Leather Loafers', 'Women HOVR SonicSE Running', 'Men Jordan Delta 3 Basketball', 'Men Kyrie Flytrap Basketball', 'Men HOVR SonicSE Running Shoes', 'Suede Above The Knee Boots', 'Women Super 3.0 Running Shoes', 'Men Walking Shoes', 'Men Nitro 2 WIDE Running Shoes', 'Men Response Super 3.0 Run', 'Men AIR WINFLO 9 Running Shoes', 'Men Fast-Trac Nitro Running', 'Men KD 15 Basketball Shoes', 'AIR ZOOM G.T. Basketball Shoes', 'Men Printed Leather Sneakers', 'Woman Leather Ankle Boots', 'Leather Heeled Boots', 'Men Solid Leather Formal Loafers', 'Leather Block Heeled Boots', 'Men Textured Leather Loafers', 'Block Heeled Boots', 'Men Sky Vault Walking Shoes', 'Men Response Super 3.0 Run', 'Women High-Top Heeled Boots', 'Women Leather Boots', 'Women Solid High-Top Boots', 'Men Adistar Running Shoes', 'Men GO WALK - TERRA Shoes', 'Men Magnify Nitro Running', 'Men Ultraboost22 Running Shoes', 'Men JORDAN LOW Basketball Shoe', 'Men Leather Ozelia Sneakers', 'Women AIR ZOOM Running Shoes', 'Men Basketball Shoes']\n"
     ]
    }
   ],
   "source": [
    "shoes_des = []\n",
    "for i in driver7.find_elements(By.XPATH,'//h4[@class=\"product-product\"]'):\n",
    "    shoes_des.append(i.text)\n",
    "    \n",
    "print(len(shoes_des))\n",
    "print(shoes_des)"
   ]
  },
  {
   "cell_type": "code",
   "execution_count": 144,
   "id": "58541207",
   "metadata": {},
   "outputs": [],
   "source": [
    "next_but = driver7.find_element(By.XPATH,\"/html/body/div[2]/div/main/div[3]/div[2]/div/div[2]/section/div[2]/ul/li[12]\")\n",
    "next_but.click()"
   ]
  },
  {
   "cell_type": "code",
   "execution_count": 145,
   "id": "6144b23e",
   "metadata": {},
   "outputs": [
    {
     "name": "stdout",
     "output_type": "stream",
     "text": [
      "100\n",
      "['Nike', 'Nike', 'ADIDAS', 'ADIDAS Originals', 'UNDER ARMOUR', 'Nike', 'UNDER ARMOUR', 'Nike', 'UNDER ARMOUR', 'ADIDAS', 'UNDER ARMOUR', 'Ruosh', 'Hush Puppies', 'ADIDAS', 'ADIDAS Originals', 'Puma', 'Tommy Hilfiger', 'UNDER ARMOUR', 'Nike', 'Nike', 'UNDER ARMOUR', 'Saint G', 'ADIDAS', 'Skechers', 'Puma', 'ADIDAS', 'Nike', 'Puma', 'Nike', 'Nike', 'Calvin Klein', 'Geox', 'Geox', 'Clarks', 'Saint G', 'Ruosh', 'Saint G', 'Skechers', 'ADIDAS', 'Saint G', 'Saint G', 'Clarks', 'ADIDAS', 'Skechers', 'Puma', 'ADIDAS', 'Nike', 'ADIDAS Originals', 'Nike', 'Xtep', 'ADIDAS', 'Saint G', 'ALDO', 'Clarks', 'Columbia', 'Bugatti', 'Puma', 'Nike', 'ADIDAS', 'Puma', 'ALDO', 'ADIDAS Originals', 'Nike', 'Nike', 'ADIDAS Originals', 'UNDER ARMOUR', 'Puma', 'Xtep', 'Puma', 'ADIDAS Originals', 'Tommy Hilfiger', 'ALDO', 'Skechers', 'ADIDAS Originals', 'J.FONTINI', 'Tommy Hilfiger', 'Hush Puppies', 'Hush Puppies', 'Puma', 'Geox', 'Tommy Hilfiger', 'ALDO', 'Skechers', 'Tommy Hilfiger', 'SKO', 'Saint G', 'ADIDAS', 'ADIDAS Originals', 'ADIDAS Originals', 'ALDO', 'Geox', 'ALDO', 'Bugatti', 'Nike', 'Saint G', 'Skechers', 'Geox', 'Clarks', 'Nike', 'Puma']\n"
     ]
    }
   ],
   "source": [
    "for i in driver7.find_elements(By.XPATH,'//h3[@class=\"product-brand\"]'):\n",
    "    shoes_brand.append(i.text)\n",
    "    \n",
    "print(len(shoes_brand))\n",
    "print(shoes_brand)"
   ]
  },
  {
   "cell_type": "code",
   "execution_count": 146,
   "id": "2d96544c",
   "metadata": {},
   "outputs": [
    {
     "name": "stdout",
     "output_type": "stream",
     "text": [
      "100\n",
      "[' 9175', ' 10165', ' 11899', ' 12999', ' 10999', ' 11470', ' 9999', ' 9175', ' 8999', ' 12349', ' 8999', ' 7990', ' 9999', ' 11249', ' 9999', ' 12999', ' 8999', ' 9999', ' 10875', ' 7220', ' 9999', ' 13410', ' 8999', ' 8999', ' 11999', ' 8999', ' 7220', ' 10999', ' 11196', ' 13595', ' 7199', ' 13990', ' 13990', ' 7999', ' 8010', ' 8990', ' 7560', ' 8999', ' 8999', ' 10710', ' 9810', ' 9099', ' 12999', ' 7499', ' 9099', ' 13499', ' 12795', ' 8799', ' 8750', ' 7199', ' 11999', ' 9810', ' 13299', ' 9099', ' 8999', ' 13999', ' 13999', ' 11996', ' 8999', ' 12999', ' 12999', ' 9799', ' 8750', ' 9695', ' 9999', ' 9999', ' 11999', ' 8599', ' 10499', ' 9999', ' 7999', ' 13299', ' 7499', ' 9999', ' 8490', ' 7439', ' 7999', ' 9999', ' 7649', ' 13990', ' 7199', ' 13999', ' 7499', ' 7199', ' 7500', ' 13410', ' 8999', ' 9999', ' 12799', ' 9599', ' 12990', ' 9099', ' 13999', ' 11196', ' 12510', ' 7499', ' 11990', ' 7999', ' 11470', ' 13999']\n"
     ]
    }
   ],
   "source": [
    "for i in driver7.find_elements(By.XPATH,'//div[@class=\"product-price\"]'):\n",
    "    shoes_price.append(i.text.split(\".\")[1].replace(\"Rs\",\"\"))\n",
    "    \n",
    "print(len(shoes_price))\n",
    "print(shoes_price)"
   ]
  },
  {
   "cell_type": "code",
   "execution_count": 147,
   "id": "0f4087bc",
   "metadata": {},
   "outputs": [
    {
     "name": "stdout",
     "output_type": "stream",
     "text": [
      "100\n",
      "['JORDAN ZION 2 Basketball Shoes', 'JORDAN MAX AURA 4 Shoes', 'Men Ultraboost 5.0 DNA Running', 'Men Woven Nmd_R1 Sneakers', 'Unisex Curry Basketball Shoes', 'Men Vomero 16 Running Shoes', 'Men HOVR SonicSE Running Shoes', 'Men AIR MAX DAWN Sneakers', 'Men ChargedEscape 3 BL Running', 'Women Ultraboost 22 Running', 'Unisex 3ZER0 IV Basketball', 'Men Textured Leather Loafers', 'Men Solid Leather Formal Slip-Ons', 'Men Runner Fl Running Shoes', 'Men Woven FomSolution Sneakers', 'Eternity Nitro Running Shoes', 'Men Textured Leather Loafers', 'Women HOVR SonicSE Running', 'Men Jordan Delta 3 Basketball', 'Men Kyrie Flytrap Basketball', 'Men HOVR SonicSE Running Shoes', 'Suede Above The Knee Boots', 'Women Super 3.0 Running Shoes', 'Men Walking Shoes', 'Men Nitro 2 WIDE Running Shoes', 'Men Response Super 3.0 Run', 'Men AIR WINFLO 9 Running Shoes', 'Men Fast-Trac Nitro Running', 'Men KD 15 Basketball Shoes', 'AIR ZOOM G.T. Basketball Shoes', 'Men Printed Leather Sneakers', 'Woman Leather Ankle Boots', 'Leather Heeled Boots', 'Men Solid Leather Formal Loafers', 'Leather Block Heeled Boots', 'Men Textured Leather Loafers', 'Block Heeled Boots', 'Men Sky Vault Walking Shoes', 'Men Response Super 3.0 Run', 'Women High-Top Heeled Boots', 'Women Leather Boots', 'Women Solid High-Top Boots', 'Men Adistar Running Shoes', 'Men GO WALK - TERRA Shoes', 'Men Magnify Nitro Running', 'Men Ultraboost22 Running Shoes', 'Men JORDAN LOW Basketball Shoe', 'Men Leather Ozelia Sneakers', 'Women AIR ZOOM Running Shoes', 'Men Basketball Shoes', 'Men Adistar CS Running Shoes', 'Women Leather Boots', 'Men Leather Loafers', 'Women Solid High-Top Boots', 'Women Trekking Shoes', 'Men Running Sports Shoes', 'Men Running Shoes', 'Women Air Max Flyknit Sneakers', 'Women Solid Pureboost 22 Shoes', 'Women Eternity NITRO Shoes', 'Women Textured Sneakers', 'Men Woven NMD_31 Sneakers', 'Women AIR ZOOM Running Shoes', 'Men FREE RUN 2 Sneakers', 'Women Forum Low Sneakers', 'Men HOVR Sonic SE Running Shoe', 'Men Nitro 2 WIDE Running Shoes', 'Men Skateboarding Shoes', 'Women Running Sports Shoes', 'Men Woven FomSolution Sneakers', 'Men Solid Sneakers', 'Men Leather Loafers', 'Women Go Walk EU Walking Shoes', 'Men Retropy F90 Sneakers', 'Men Textured Leather Loafers', 'Men Leather Sneakers', 'Men Perforations Leather Slip-On Sneakers', 'Men Solid Leather Formal Slip-Ons', 'Fusion Evo Extra Wide Golf Shoes', 'Women Solid Boots', 'Women Leather Sneakers', 'Women Regular Boots', 'Men Woven Design Sneakers', 'Men Leather Mid-Top Sneakers', 'Men Perforations Leather Loafers', 'Leather Wedge Heeled Boots with Buckles', 'Women Super 3.0 Running Shoes', 'Women Superstar Sneakers', 'Men ZX 5K Boost Sneakers', 'Men Mid Top Lace Up Sneakers', 'Women Solid Boots', 'Men Slip-On Sneakers', 'Men Running Shoes', 'Women React Infinity Running', 'Women Leather Knee High Boots', 'Men GO FLEX 2-COMPLETION Shoes', 'Leather Ankle Boots', 'Men Solid Leather Formal Loafers', 'Women VOMERO 16 Running Shoes', 'Women Magnify Surge Shoes']\n"
     ]
    }
   ],
   "source": [
    "for i in driver7.find_elements(By.XPATH,'//h4[@class=\"product-product\"]'):\n",
    "    shoes_des.append(i.text)\n",
    "    \n",
    "print(len(shoes_des))\n",
    "print(shoes_des)"
   ]
  },
  {
   "cell_type": "code",
   "execution_count": 148,
   "id": "d863fe52",
   "metadata": {},
   "outputs": [
    {
     "data": {
      "text/html": [
       "<div>\n",
       "<style scoped>\n",
       "    .dataframe tbody tr th:only-of-type {\n",
       "        vertical-align: middle;\n",
       "    }\n",
       "\n",
       "    .dataframe tbody tr th {\n",
       "        vertical-align: top;\n",
       "    }\n",
       "\n",
       "    .dataframe thead th {\n",
       "        text-align: right;\n",
       "    }\n",
       "</style>\n",
       "<table border=\"1\" class=\"dataframe\">\n",
       "  <thead>\n",
       "    <tr style=\"text-align: right;\">\n",
       "      <th></th>\n",
       "      <th>Shoes Brand</th>\n",
       "      <th>Shoes description</th>\n",
       "      <th>shoes Price</th>\n",
       "    </tr>\n",
       "  </thead>\n",
       "  <tbody>\n",
       "    <tr>\n",
       "      <th>0</th>\n",
       "      <td>Nike</td>\n",
       "      <td>JORDAN ZION 2 Basketball Shoes</td>\n",
       "      <td>9175</td>\n",
       "    </tr>\n",
       "    <tr>\n",
       "      <th>1</th>\n",
       "      <td>Nike</td>\n",
       "      <td>JORDAN MAX AURA 4 Shoes</td>\n",
       "      <td>10165</td>\n",
       "    </tr>\n",
       "    <tr>\n",
       "      <th>2</th>\n",
       "      <td>ADIDAS</td>\n",
       "      <td>Men Ultraboost 5.0 DNA Running</td>\n",
       "      <td>11899</td>\n",
       "    </tr>\n",
       "    <tr>\n",
       "      <th>3</th>\n",
       "      <td>ADIDAS Originals</td>\n",
       "      <td>Men Woven Nmd_R1 Sneakers</td>\n",
       "      <td>12999</td>\n",
       "    </tr>\n",
       "    <tr>\n",
       "      <th>4</th>\n",
       "      <td>UNDER ARMOUR</td>\n",
       "      <td>Unisex Curry Basketball Shoes</td>\n",
       "      <td>10999</td>\n",
       "    </tr>\n",
       "    <tr>\n",
       "      <th>...</th>\n",
       "      <td>...</td>\n",
       "      <td>...</td>\n",
       "      <td>...</td>\n",
       "    </tr>\n",
       "    <tr>\n",
       "      <th>95</th>\n",
       "      <td>Skechers</td>\n",
       "      <td>Men GO FLEX 2-COMPLETION Shoes</td>\n",
       "      <td>7499</td>\n",
       "    </tr>\n",
       "    <tr>\n",
       "      <th>96</th>\n",
       "      <td>Geox</td>\n",
       "      <td>Leather Ankle Boots</td>\n",
       "      <td>11990</td>\n",
       "    </tr>\n",
       "    <tr>\n",
       "      <th>97</th>\n",
       "      <td>Clarks</td>\n",
       "      <td>Men Solid Leather Formal Loafers</td>\n",
       "      <td>7999</td>\n",
       "    </tr>\n",
       "    <tr>\n",
       "      <th>98</th>\n",
       "      <td>Nike</td>\n",
       "      <td>Women VOMERO 16 Running Shoes</td>\n",
       "      <td>11470</td>\n",
       "    </tr>\n",
       "    <tr>\n",
       "      <th>99</th>\n",
       "      <td>Puma</td>\n",
       "      <td>Women Magnify Surge Shoes</td>\n",
       "      <td>13999</td>\n",
       "    </tr>\n",
       "  </tbody>\n",
       "</table>\n",
       "<p>100 rows × 3 columns</p>\n",
       "</div>"
      ],
      "text/plain": [
       "         Shoes Brand                 Shoes description shoes Price\n",
       "0               Nike    JORDAN ZION 2 Basketball Shoes        9175\n",
       "1               Nike           JORDAN MAX AURA 4 Shoes       10165\n",
       "2             ADIDAS    Men Ultraboost 5.0 DNA Running       11899\n",
       "3   ADIDAS Originals         Men Woven Nmd_R1 Sneakers       12999\n",
       "4       UNDER ARMOUR     Unisex Curry Basketball Shoes       10999\n",
       "..               ...                               ...         ...\n",
       "95          Skechers    Men GO FLEX 2-COMPLETION Shoes        7499\n",
       "96              Geox               Leather Ankle Boots       11990\n",
       "97            Clarks  Men Solid Leather Formal Loafers        7999\n",
       "98              Nike     Women VOMERO 16 Running Shoes       11470\n",
       "99              Puma         Women Magnify Surge Shoes       13999\n",
       "\n",
       "[100 rows x 3 columns]"
      ]
     },
     "execution_count": 148,
     "metadata": {},
     "output_type": "execute_result"
    }
   ],
   "source": [
    "shoes_df = pd.DataFrame()\n",
    "\n",
    "shoes_df[\"Shoes Brand\"] = shoes_brand\n",
    "shoes_df[\"Shoes description\"] = shoes_des\n",
    "shoes_df[\"shoes Price\"] = shoes_price\n",
    "\n",
    "shoes_df"
   ]
  },
  {
   "cell_type": "code",
   "execution_count": null,
   "id": "099f4935",
   "metadata": {},
   "outputs": [],
   "source": []
  },
  {
   "cell_type": "markdown",
   "id": "60367d5a",
   "metadata": {},
   "source": [
    "Q8: Go to webpage https://www.amazon.in/\n",
    "Enter “Laptop” in the search field and then click the search icon.\n",
    "Then set CPU Type filter to “Intel Core i7” as shown in the below image:\n",
    "After setting the filters scrape first 10 laptops data. You have to scrape 3 attributesfor each laptop:\n",
    "1. Title\n",
    "2. Ratings\n",
    "3. Price\n"
   ]
  },
  {
   "cell_type": "code",
   "execution_count": 2,
   "id": "cd059820",
   "metadata": {},
   "outputs": [],
   "source": [
    "driver8 = webdriver.Edge(r\"C:\\Users\\Atharva\\Internship project\\Web Sraping assignment-2\\msedgedriver.exe\")\n",
    "driver8.maximize_window()\n",
    "\n",
    "url8 = \"https://www.amazon.in/\"\n",
    "driver8.get(url8)"
   ]
  },
  {
   "cell_type": "code",
   "execution_count": 3,
   "id": "8f7ead7a",
   "metadata": {},
   "outputs": [],
   "source": [
    "search8 = driver8.find_element(By.XPATH,\"/html/body/div[1]/header/div/div[1]/div[2]/div/form/div[2]/div[1]/input\")\n",
    "search8.send_keys(\"Laptop\")"
   ]
  },
  {
   "cell_type": "code",
   "execution_count": 4,
   "id": "1f556846",
   "metadata": {},
   "outputs": [],
   "source": [
    "search8_but = driver8.find_element(By.XPATH,\"/html/body/div[1]/header/div/div[1]/div[2]/div/form/div[3]/div/span/input\")\n",
    "search8_but.click()"
   ]
  },
  {
   "cell_type": "code",
   "execution_count": 7,
   "id": "fcecba83",
   "metadata": {},
   "outputs": [],
   "source": [
    "lap_filter8 = driver8.find_element(By.XPATH,\"/html/body/div[1]/div[2]/div[1]/div[2]/div/div[3]/span/div[1]/div/div/div[6]/ul[5]/li[11]/span/a/div/label/i\")\n",
    "lap_filter8.click()"
   ]
  },
  {
   "cell_type": "code",
   "execution_count": 8,
   "id": "29bee670",
   "metadata": {},
   "outputs": [
    {
     "name": "stdout",
     "output_type": "stream",
     "text": [
      "24\n"
     ]
    },
    {
     "data": {
      "text/plain": [
       "['HP Pavilion x360 11th Gen Intel Core i7 14 inch(35.6 cm) FHD,IPS, Multitouch 2-in-1 Laptop(16GB RAM/512GB SSD/Backlit KB/Intel Iris Xe Graphics/Pen/Alexa Built-in/MSO/1.52Kg) 14-dy1050TU, Spruce Blue',\n",
       " 'Lenovo IdeaPad Slim 5 12th Gen Intel Core i7 15.6\"(39.62cm) FHD IPS Laptop (16GB/512GB SSD/Win 11/Office 2021/Backlit KB/Fingerprint/FHD Camera/Alexa/3 Month Game Pass/Storm Grey/1.85Kg), 82SF004XIN',\n",
       " '(Renewed) HP ProBook 430 G3 6th Gen Intel Core i7 Thin & Light HD Laptop (8 GB DDR4 RAM/256 GB SSD/13.3\" (33.8 cm)/Windows 11/MS Office/Wifi/Bluetooth 4.0/Webcam/Integrated Graphics)',\n",
       " 'HP Pavilion Plus, 12th Gen Intel Core i7 16GB RAM/1TB SSD 14 inch(35.6 cm),OLED,400 nits,UWVA, Eye Safe Laptop/Intel Iris Xe Graphics/Backlit KB/B&O/FPR/Win 11/Alexa Built-in/MSO 2021, 14-eh0024TU',\n",
       " 'Lenovo ThinkBook 15 Intel 11th Gen Core i7 15.6\"(39.62 cm) FHD Thin and Light Laptop (16GB/512GB SSD/Windows 11 Home/MS Office H&S 2021/Iris® Xe Graphics/Backlit/Mineral Grey/1.7 Kg) 20VE00W4IH',\n",
       " 'Lenovo ThinkPad E14 Intel Core i7 12th Gen 14\" FHD IPS Thin and Light Laptop (16GB RAM/1TB SSD/Windows 11 Home/MS Office H&S 2021/Backlit Keybaord/FPR/Black/1.59 kg), 21E3S05800',\n",
       " 'Acer Nitro 5 Gaming Laptop Intel core i7 11th Gen (16 GB/ 512 GB SSD/ NVIDIA® GeForce RTX 3050 Ti/ Windows 11 Home/144hz) AN515-57 with 39.6 cm (15.6 inches) IPS Display / 2.2 Kgs',\n",
       " 'ASUS Vivobook 15, 15.6-inch (39.62 cms) FHD, Intel Core i7-1065G7 10th Gen, Thin and Light Laptop (16GB/512GB SSD/Iris Plus Graphics/Windows 11/Office 2021/Silver/1.8 kg), X515JA-EJ701WS',\n",
       " 'Fujitsu UH-X 11th Gen Intel Core i7 13.3” FHD IPS 400Nits Thin & Light Laptop(16GB/512GB SSD/Windows 11/Office 2021/Iris Xe Graphics/Backlit Kb/Fingerprint Reader/2Yr Warranty/Black/878gms),4ZR1F38024',\n",
       " 'Fujitsu UH-X 11th Gen Intel Core i7 13.3\" FHD IPS 400Nits 2-in1 Touch Convertible Laptop (16GB/1TB SSD/Windows 11/MS Office 2021/Iris Xe Graphics/2 Yr Warranty/Backlit Kb/Black/0.997 kg, 4ZR1F38027)',\n",
       " 'Dell Inspiron 5320 Laptop, i7-1260P, 16GB LPDDR5, 512GB SSD, Integrated, 13.3\" (33.78Cms) QHD+ WVA AG 300 nits, Win 11+ MSO\\'21, Platinum Silver (D560754WIN9S, 1.25Kgs)',\n",
       " '(Renewed) HP Workstation Zbook Intel Core i7-4810MQ Quad Core Processor , 8 GB Ram & 256 GB SSD, 15.6 Inches with Intel & Nvidia K2100M Dual Graphics with FHD Screen 1080p Laptop Computer',\n",
       " 'ASUS VivoBook S S14 Intel Core i7-1165G7 11th Gen 14\" (35.56 cm) FHD Thin and Light Laptop (8GB RAM/512GB SSD + 32GB Optane Memory/Windows 10/Office 2019/Iris X Graphics/White/1.4 Kg) S433EA-AM702TS',\n",
       " 'Lenovo ThinkBook 15 Intel 12th Gen Core i7 15.6\" (39.62cm) FHD 250 nits Antiglare Thin and Light Laptop (16GB/512GB SSD/Windows 11 Home/MS Office H&S 2021/Backlit/Mineral Grey/1.7 Kg), 21DJA04NIH',\n",
       " '(Renewed) HP Workstation Zbook Intel Core i7-4810MQ Quad Core Processor , 4 GB Ram & 128 GB SSD, 15.6 Inches with Intel & Nvidia K2100M Dual Graphics with FHD Screen 1080p Laptop Computer',\n",
       " 'HP Victus 11th Gen Intel Core i7-11800H 16.1\" FHD Gaming Laptop (16GB RAM/512GB SSD/144 Hz/300 nits/7 ms Response time/GeForce RTX 3060 6GB Graphics/Backlit KB/Win11/MSO) 16-d0361TX Performance Blue',\n",
       " '(Renewed) HP Workstation Zbook Intel Core i7-4810MQ Quad Core Processor , 32 GB Ram & 128 GB SSD, 15.6 Inches with Intel & Nvidia K2100M Dual Graphics with FHD Screen 1080p Laptop Computer',\n",
       " '(Renewed) HP Workstation Zbook Intel Core i7-4810MQ Quad Core Processor , 32 GB Ram & 1TB SSD, 15.6 Inches with Intel & Nvidia K2100M Dual Graphics with FHD Screen 1080p Laptop Computer',\n",
       " '(Renewed) HP ProBook 430 G3 6th Gen Intel Core i7 Thin & Light HD Laptop (8 GB DDR4 RAM/500 GB HDD/13.3\" (33.8 cm)/Windows 11/MS Office/Wifi/Bluetooth 4.0/Webcam/Integrated Graphics)',\n",
       " 'Hp Pavilion 15 12Th Gen Intel Core I7 16Gb Sdram/1Tb Ssd 15.6 Inches (39.6Cm) Fhd,IPS/Intel Iris Xe Graphics/B&O/Windows 11 Home/Alexa/Backlit Kb/Fpr/Mso 2021/1.75Kg, 15-Eg2039Tu, Natural Silver',\n",
       " '(Renewed) Lenovo Intel Core i7 5600U 12.5-Inch (31.75 cms) HD (1366 X 768) Laptop (8 GB/256 GB SSD/Windows 10/Intel HD 5500//1.53 Kg), Lenovo X250',\n",
       " '(Renewed) HP Workstation Zbook Intel Core i7-4810MQ Quad Core Processor , 16 GB Ram & 128 GB SSD, 15.6 Inches with Intel & Nvidia K2100M Dual Graphics with FHD Screen 1080p Laptop Computer',\n",
       " 'Dell Intel Latitude 5520 || i7-1165G7 || 16GB || 512GB SSD || Win 10 Pro || 15.6\" FHD || NO ODD || Backlit KB || NO FPR',\n",
       " 'Lenovo Ideapad Gaming 3 Intel Core i7 10th Gen 15.6\"(39.62cm) FHD IPS Gaming Laptop (8GB/512GB SSD/4GB NVIDIA GTX 1650/120Hz/Windows 11/Backlit Keyboard/3months Game Pass/Onyx Black/2.2Kg), 81Y401BHIN']"
      ]
     },
     "execution_count": 8,
     "metadata": {},
     "output_type": "execute_result"
    }
   ],
   "source": [
    "laptop_title = []\n",
    "for i in driver8.find_elements(By.XPATH,'//span[@class=\"a-size-medium a-color-base a-text-normal\"]'):\n",
    "    laptop_title.append(i.text)\n",
    "    \n",
    "print(len(laptop_title))\n",
    "laptop_title"
   ]
  },
  {
   "cell_type": "code",
   "execution_count": 13,
   "id": "e9b4ec68",
   "metadata": {},
   "outputs": [
    {
     "name": "stdout",
     "output_type": "stream",
     "text": [
      "0\n"
     ]
    },
    {
     "data": {
      "text/plain": [
       "[]"
      ]
     },
     "execution_count": 13,
     "metadata": {},
     "output_type": "execute_result"
    }
   ],
   "source": [
    "laptop_rating = []\n",
    "for i in driver8.find_elements(By.CLASS_NAME,\"a-size-base s-underline-text\"):\n",
    "    laptop_rating.append(i.text)\n",
    "    \n",
    "print(len(laptop_rating))\n",
    "laptop_rating"
   ]
  },
  {
   "cell_type": "code",
   "execution_count": null,
   "id": "f7df05b8",
   "metadata": {},
   "outputs": [],
   "source": []
  },
  {
   "cell_type": "code",
   "execution_count": null,
   "id": "dc9cff86",
   "metadata": {},
   "outputs": [],
   "source": []
  },
  {
   "cell_type": "code",
   "execution_count": null,
   "id": "dab24d65",
   "metadata": {},
   "outputs": [],
   "source": []
  },
  {
   "cell_type": "markdown",
   "id": "2bb59470",
   "metadata": {},
   "source": [
    "Q9: Write a python program to scrape data for Top 1000 Quotes of All Time.\n",
    " The above task will be done in following steps:\n",
    " 1.First get the webpage https://www.azquotes.com/\n",
    " 2. Click on Top Quotes\n",
    " 3. Than scrap a) Quote b) Author c) Type Of Quote"
   ]
  },
  {
   "cell_type": "code",
   "execution_count": 39,
   "id": "dd2ef462",
   "metadata": {},
   "outputs": [],
   "source": [
    "driver9 = webdriver.Edge(r\"C:\\Users\\Atharva\\Internship project\\Web Sraping assignment-2\\msedgedriver.exe\")\n",
    "driver9.maximize_window()\n",
    "\n",
    "url9 = \"https://www.azquotes.com/ \"\n",
    "driver9.get(url9)"
   ]
  },
  {
   "cell_type": "code",
   "execution_count": 40,
   "id": "24d12345",
   "metadata": {},
   "outputs": [],
   "source": [
    "main_menu = driver9.find_element(By.XPATH,\"/html/body/div[1]/div[1]/div[1]/div/div[3]/a[1]\")\n",
    "main_menu.click()"
   ]
  },
  {
   "cell_type": "code",
   "execution_count": 41,
   "id": "121e3aa1",
   "metadata": {},
   "outputs": [],
   "source": [
    "top_quotes = driver9.find_element(By.XPATH,\"/html/body/div[1]/div[1]/div[1]/div/div[3]/ul/li[5]/a\")\n",
    "top_quotes.click()"
   ]
  },
  {
   "cell_type": "code",
   "execution_count": 42,
   "id": "b7440775",
   "metadata": {},
   "outputs": [
    {
     "data": {
      "text/plain": [
       "100"
      ]
     },
     "execution_count": 42,
     "metadata": {},
     "output_type": "execute_result"
    }
   ],
   "source": [
    "quotes = []\n",
    "for i in driver9.find_elements(By.XPATH,'//a[@class=\"title\"]'):\n",
    "    quotes.append(i.text)\n",
    "    \n",
    "len(quotes)"
   ]
  },
  {
   "cell_type": "code",
   "execution_count": 43,
   "id": "4014dfb3",
   "metadata": {},
   "outputs": [
    {
     "data": {
      "text/plain": [
       "100"
      ]
     },
     "execution_count": 43,
     "metadata": {},
     "output_type": "execute_result"
    }
   ],
   "source": [
    "quotes_author = []\n",
    "for i in driver9.find_elements(By.XPATH,'//div[@class=\"author\"]'):\n",
    "    quotes_author.append(i.text)\n",
    "    \n",
    "len(quotes_author)"
   ]
  },
  {
   "cell_type": "code",
   "execution_count": 44,
   "id": "098eeef4",
   "metadata": {},
   "outputs": [
    {
     "data": {
      "text/plain": [
       "100"
      ]
     },
     "execution_count": 44,
     "metadata": {},
     "output_type": "execute_result"
    }
   ],
   "source": [
    "quotes_type = []\n",
    "for i in driver9.find_elements(By.XPATH,'//div[@class=\"tags\"]'):\n",
    "    quotes_type.append(i.text)\n",
    "    \n",
    "len(quotes_type)"
   ]
  },
  {
   "cell_type": "code",
   "execution_count": 45,
   "id": "71df4a86",
   "metadata": {},
   "outputs": [],
   "source": [
    "quotes_next = driver9.find_element(By.XPATH,\"/html/body/div[1]/div[2]/div/div/div/div[1]/div/div[3]/li[12]/a\")\n",
    "quotes_next.click()"
   ]
  },
  {
   "cell_type": "code",
   "execution_count": 46,
   "id": "854469ad",
   "metadata": {},
   "outputs": [],
   "source": [
    "def quotes_data(title,author,types):\n",
    "\n",
    "    for i in driver9.find_elements(By.XPATH,title):\n",
    "        quotes.append(i.text)\n",
    "    \n",
    "    print(len(quotes))\n",
    "\n",
    "    for i in driver9.find_elements(By.XPATH,author):\n",
    "        quotes_author.append(i.text)\n",
    "    \n",
    "    print(len(quotes_author))\n",
    "\n",
    "    for i in driver9.find_elements(By.XPATH,types):\n",
    "        quotes_type.append(i.text)\n",
    "    \n",
    "    print(len(quotes_type))"
   ]
  },
  {
   "cell_type": "code",
   "execution_count": 47,
   "id": "f60595f2",
   "metadata": {},
   "outputs": [
    {
     "name": "stdout",
     "output_type": "stream",
     "text": [
      "200\n",
      "200\n",
      "200\n"
     ]
    }
   ],
   "source": [
    "quotes_data('//a[@class=\"title\"]','//div[@class=\"author\"]','//div[@class=\"tags\"]')"
   ]
  },
  {
   "cell_type": "code",
   "execution_count": 48,
   "id": "aebb650c",
   "metadata": {},
   "outputs": [],
   "source": [
    "quotes_next = driver9.find_element(By.XPATH,\"/html/body/div[1]/div[2]/div/div/div/div[1]/div/div[3]/li[13]/a\")\n",
    "quotes_next.click()"
   ]
  },
  {
   "cell_type": "code",
   "execution_count": 49,
   "id": "47b7aaaa",
   "metadata": {},
   "outputs": [
    {
     "name": "stdout",
     "output_type": "stream",
     "text": [
      "300\n",
      "300\n",
      "300\n"
     ]
    }
   ],
   "source": [
    "quotes_data('//a[@class=\"title\"]','//div[@class=\"author\"]','//div[@class=\"tags\"]')"
   ]
  },
  {
   "cell_type": "code",
   "execution_count": 50,
   "id": "776db5c8",
   "metadata": {},
   "outputs": [],
   "source": [
    "quotes_next = driver9.find_element(By.XPATH,\"/html/body/div[1]/div[2]/div/div/div/div[1]/div/div[3]/li[13]/a\")\n",
    "quotes_next.click()"
   ]
  },
  {
   "cell_type": "code",
   "execution_count": 51,
   "id": "2597f50b",
   "metadata": {},
   "outputs": [
    {
     "name": "stdout",
     "output_type": "stream",
     "text": [
      "400\n",
      "400\n",
      "400\n"
     ]
    }
   ],
   "source": [
    "quotes_data('//a[@class=\"title\"]','//div[@class=\"author\"]','//div[@class=\"tags\"]')"
   ]
  },
  {
   "cell_type": "code",
   "execution_count": 52,
   "id": "b0e7f46c",
   "metadata": {},
   "outputs": [],
   "source": [
    "quotes_next = driver9.find_element(By.XPATH,\"/html/body/div[1]/div[2]/div/div/div/div[1]/div/div[3]/li[13]/a\")\n",
    "quotes_next.click()"
   ]
  },
  {
   "cell_type": "code",
   "execution_count": 53,
   "id": "7dadcc67",
   "metadata": {},
   "outputs": [
    {
     "name": "stdout",
     "output_type": "stream",
     "text": [
      "500\n",
      "500\n",
      "500\n"
     ]
    }
   ],
   "source": [
    "quotes_data('//a[@class=\"title\"]','//div[@class=\"author\"]','//div[@class=\"tags\"]')"
   ]
  },
  {
   "cell_type": "code",
   "execution_count": 54,
   "id": "19373733",
   "metadata": {},
   "outputs": [],
   "source": [
    "quotes_next = driver9.find_element(By.XPATH,\"/html/body/div[1]/div[2]/div/div/div/div[1]/div/div[3]/li[13]/a\")\n",
    "quotes_next.click()"
   ]
  },
  {
   "cell_type": "code",
   "execution_count": 55,
   "id": "663492d9",
   "metadata": {},
   "outputs": [
    {
     "name": "stdout",
     "output_type": "stream",
     "text": [
      "600\n",
      "600\n",
      "600\n"
     ]
    }
   ],
   "source": [
    "quotes_data('//a[@class=\"title\"]','//div[@class=\"author\"]','//div[@class=\"tags\"]')"
   ]
  },
  {
   "cell_type": "code",
   "execution_count": 56,
   "id": "59ed6612",
   "metadata": {},
   "outputs": [],
   "source": [
    "quotes_next = driver9.find_element(By.XPATH,\"/html/body/div[1]/div[2]/div/div/div/div[1]/div/div[3]/li[13]/a\")\n",
    "quotes_next.click()"
   ]
  },
  {
   "cell_type": "code",
   "execution_count": 57,
   "id": "84310f74",
   "metadata": {},
   "outputs": [
    {
     "name": "stdout",
     "output_type": "stream",
     "text": [
      "700\n",
      "700\n",
      "700\n"
     ]
    }
   ],
   "source": [
    "quotes_data('//a[@class=\"title\"]','//div[@class=\"author\"]','//div[@class=\"tags\"]')"
   ]
  },
  {
   "cell_type": "code",
   "execution_count": 58,
   "id": "c3a3d12d",
   "metadata": {},
   "outputs": [],
   "source": [
    "quotes_next = driver9.find_element(By.XPATH,\"/html/body/div[1]/div[2]/div/div/div/div[1]/div/div[3]/li[13]/a\")\n",
    "quotes_next.click()"
   ]
  },
  {
   "cell_type": "code",
   "execution_count": 59,
   "id": "83dc8284",
   "metadata": {},
   "outputs": [
    {
     "name": "stdout",
     "output_type": "stream",
     "text": [
      "800\n",
      "800\n",
      "800\n"
     ]
    }
   ],
   "source": [
    "quotes_data('//a[@class=\"title\"]','//div[@class=\"author\"]','//div[@class=\"tags\"]')"
   ]
  },
  {
   "cell_type": "code",
   "execution_count": 60,
   "id": "767d3fb2",
   "metadata": {},
   "outputs": [],
   "source": [
    "quotes_next = driver9.find_element(By.XPATH,\"/html/body/div[1]/div[2]/div/div/div/div[1]/div/div[3]/li[13]/a\")\n",
    "quotes_next.click()"
   ]
  },
  {
   "cell_type": "code",
   "execution_count": 61,
   "id": "87179fa4",
   "metadata": {},
   "outputs": [
    {
     "name": "stdout",
     "output_type": "stream",
     "text": [
      "900\n",
      "900\n",
      "900\n"
     ]
    }
   ],
   "source": [
    "quotes_data('//a[@class=\"title\"]','//div[@class=\"author\"]','//div[@class=\"tags\"]')"
   ]
  },
  {
   "cell_type": "code",
   "execution_count": 62,
   "id": "d97f4df6",
   "metadata": {},
   "outputs": [],
   "source": [
    "quotes_next = driver9.find_element(By.XPATH,\"/html/body/div[1]/div[2]/div/div/div/div[1]/div/div[3]/li[13]/a\")\n",
    "quotes_next.click()"
   ]
  },
  {
   "cell_type": "code",
   "execution_count": 63,
   "id": "c93d2f68",
   "metadata": {},
   "outputs": [
    {
     "name": "stdout",
     "output_type": "stream",
     "text": [
      "1000\n",
      "1000\n",
      "1000\n"
     ]
    }
   ],
   "source": [
    "quotes_data('//a[@class=\"title\"]','//div[@class=\"author\"]','//div[@class=\"tags\"]')"
   ]
  },
  {
   "cell_type": "code",
   "execution_count": 64,
   "id": "e41a3173",
   "metadata": {},
   "outputs": [
    {
     "data": {
      "text/html": [
       "<div>\n",
       "<style scoped>\n",
       "    .dataframe tbody tr th:only-of-type {\n",
       "        vertical-align: middle;\n",
       "    }\n",
       "\n",
       "    .dataframe tbody tr th {\n",
       "        vertical-align: top;\n",
       "    }\n",
       "\n",
       "    .dataframe thead th {\n",
       "        text-align: right;\n",
       "    }\n",
       "</style>\n",
       "<table border=\"1\" class=\"dataframe\">\n",
       "  <thead>\n",
       "    <tr style=\"text-align: right;\">\n",
       "      <th></th>\n",
       "      <th>Quotes</th>\n",
       "      <th>Author</th>\n",
       "      <th>type of quotes</th>\n",
       "    </tr>\n",
       "  </thead>\n",
       "  <tbody>\n",
       "    <tr>\n",
       "      <th>0</th>\n",
       "      <td>The essence of strategy is choosing what not t...</td>\n",
       "      <td>Michael Porter</td>\n",
       "      <td>Essence, Deep Thought, Transcendentalism</td>\n",
       "    </tr>\n",
       "    <tr>\n",
       "      <th>1</th>\n",
       "      <td>One cannot and must not try to erase the past ...</td>\n",
       "      <td>Golda Meir</td>\n",
       "      <td>Inspiration, Past, Trying</td>\n",
       "    </tr>\n",
       "    <tr>\n",
       "      <th>2</th>\n",
       "      <td>Patriotism means to stand by the country. It d...</td>\n",
       "      <td>Theodore Roosevelt</td>\n",
       "      <td>Country, Peace, War</td>\n",
       "    </tr>\n",
       "    <tr>\n",
       "      <th>3</th>\n",
       "      <td>Death is something inevitable. When a man has ...</td>\n",
       "      <td>Nelson Mandela</td>\n",
       "      <td>Inspirational, Motivational, Death</td>\n",
       "    </tr>\n",
       "    <tr>\n",
       "      <th>4</th>\n",
       "      <td>You have to love a nation that celebrates its ...</td>\n",
       "      <td>Erma Bombeck</td>\n",
       "      <td>4th Of July, Food, Patriotic</td>\n",
       "    </tr>\n",
       "    <tr>\n",
       "      <th>...</th>\n",
       "      <td>...</td>\n",
       "      <td>...</td>\n",
       "      <td>...</td>\n",
       "    </tr>\n",
       "    <tr>\n",
       "      <th>995</th>\n",
       "      <td>Regret for the things we did can be tempered b...</td>\n",
       "      <td>Sydney J. Harris</td>\n",
       "      <td>Love, Inspirational, Motivational</td>\n",
       "    </tr>\n",
       "    <tr>\n",
       "      <th>996</th>\n",
       "      <td>America... just a nation of two hundred millio...</td>\n",
       "      <td>Hunter S. Thompson</td>\n",
       "      <td>Gun, Two, Qualms About</td>\n",
       "    </tr>\n",
       "    <tr>\n",
       "      <th>997</th>\n",
       "      <td>For every disciplined effort there is a multip...</td>\n",
       "      <td>Jim Rohn</td>\n",
       "      <td>Inspirational, Greatness, Best Effort</td>\n",
       "    </tr>\n",
       "    <tr>\n",
       "      <th>998</th>\n",
       "      <td>The spiritual journey is individual, highly pe...</td>\n",
       "      <td>Ram Dass</td>\n",
       "      <td>Spiritual, Truth, Yoga</td>\n",
       "    </tr>\n",
       "    <tr>\n",
       "      <th>999</th>\n",
       "      <td>No matter how plain a woman may be, if truth a...</td>\n",
       "      <td>Eleanor Roosevelt</td>\n",
       "      <td>Beauty, Beautiful, Truth</td>\n",
       "    </tr>\n",
       "  </tbody>\n",
       "</table>\n",
       "<p>1000 rows × 3 columns</p>\n",
       "</div>"
      ],
      "text/plain": [
       "                                                Quotes              Author  \\\n",
       "0    The essence of strategy is choosing what not t...      Michael Porter   \n",
       "1    One cannot and must not try to erase the past ...          Golda Meir   \n",
       "2    Patriotism means to stand by the country. It d...  Theodore Roosevelt   \n",
       "3    Death is something inevitable. When a man has ...      Nelson Mandela   \n",
       "4    You have to love a nation that celebrates its ...        Erma Bombeck   \n",
       "..                                                 ...                 ...   \n",
       "995  Regret for the things we did can be tempered b...    Sydney J. Harris   \n",
       "996  America... just a nation of two hundred millio...  Hunter S. Thompson   \n",
       "997  For every disciplined effort there is a multip...            Jim Rohn   \n",
       "998  The spiritual journey is individual, highly pe...            Ram Dass   \n",
       "999  No matter how plain a woman may be, if truth a...   Eleanor Roosevelt   \n",
       "\n",
       "                               type of quotes  \n",
       "0    Essence, Deep Thought, Transcendentalism  \n",
       "1                   Inspiration, Past, Trying  \n",
       "2                         Country, Peace, War  \n",
       "3          Inspirational, Motivational, Death  \n",
       "4                4th Of July, Food, Patriotic  \n",
       "..                                        ...  \n",
       "995         Love, Inspirational, Motivational  \n",
       "996                    Gun, Two, Qualms About  \n",
       "997     Inspirational, Greatness, Best Effort  \n",
       "998                    Spiritual, Truth, Yoga  \n",
       "999                  Beauty, Beautiful, Truth  \n",
       "\n",
       "[1000 rows x 3 columns]"
      ]
     },
     "execution_count": 64,
     "metadata": {},
     "output_type": "execute_result"
    }
   ],
   "source": [
    "quotes_pd = pd.DataFrame()\n",
    "\n",
    "quotes_pd[\"Quotes\"] = quotes\n",
    "quotes_pd[\"Author\"] = quotes_author\n",
    "quotes_pd[\"type of quotes\"] = quotes_type\n",
    "\n",
    "quotes_pd"
   ]
  },
  {
   "cell_type": "code",
   "execution_count": null,
   "id": "c5289970",
   "metadata": {},
   "outputs": [],
   "source": []
  },
  {
   "cell_type": "markdown",
   "id": "1a7ab89d",
   "metadata": {},
   "source": [
    "Q10: Write s python program to display list of respected former Prime Ministers of India(i.e. Name, Born-Dead, \n",
    "Term of office, Remarks) from https://www.jagranjosh.com/.\n",
    "This task will be done in following steps:\n",
    "1. First get the webpage https://www.jagranjosh.com/\n",
    "2. Then You have to click on the GK option\n",
    "3. Then click on the List of all Prime Ministers of India\n",
    "4. Then scrap the mentioned data and make the DataFrame."
   ]
  },
  {
   "cell_type": "code",
   "execution_count": 66,
   "id": "899015f0",
   "metadata": {},
   "outputs": [],
   "source": [
    "driver10 = webdriver.Edge(r\"C:\\Users\\Atharva\\Internship project\\Web Sraping assignment-2\\msedgedriver.exe\")\n",
    "driver10.maximize_window()\n",
    "\n",
    "url10 = \"https://www.jagranjosh.com/\"\n",
    "driver10.get(url10)"
   ]
  },
  {
   "cell_type": "code",
   "execution_count": 67,
   "id": "41dab26c",
   "metadata": {},
   "outputs": [],
   "source": [
    "gk_click = driver10.find_element(By.XPATH,\"/html/body/div[1]/div[1]/div/div[1]/div/div[6]/div/div[1]/header/div[3]/ul/li[9]/a\")\n",
    "gk_click.click()"
   ]
  },
  {
   "cell_type": "code",
   "execution_count": 68,
   "id": "13855223",
   "metadata": {},
   "outputs": [],
   "source": [
    "pm_click = driver10.find_element(By.XPATH,\"/html/body/div[1]/div/div/div[2]/div/div[10]/div/div/ul/li[2]/a\")\n",
    "pm_click.click()"
   ]
  },
  {
   "cell_type": "code",
   "execution_count": 73,
   "id": "c6b35e44",
   "metadata": {},
   "outputs": [
    {
     "data": {
      "text/plain": [
       "['1.',\n",
       " 'Jawahar Lal Nehru',\n",
       " '(1889–1964)',\n",
       " '15 August 1947 to 27 May 1964\\n16 years, 286 days',\n",
       " 'The first prime minister of India and the longest-serving PM of India, the first to die in office.',\n",
       " '2.',\n",
       " 'Gulzarilal Nanda (Acting)',\n",
       " '(1898-1998)',\n",
       " '27 May 1964 to 9 June 1964,\\n13 days',\n",
       " 'First acting PM of India',\n",
       " '3.',\n",
       " 'Lal Bahadur Shastri',\n",
       " '(1904–1966)',\n",
       " '9 June 1964 to 11 January 1966\\n1 year, 216 days',\n",
       " \"He has given the slogan of 'Jai Jawan Jai Kisan' during the Indo-Pak war of 1965\",\n",
       " '4. ',\n",
       " 'Gulzari Lal Nanda  (Acting)',\n",
       " '(1898-1998)',\n",
       " '11 January 1966 to 24 January 1966\\n13 days',\n",
       " '-',\n",
       " '5.',\n",
       " 'Indira Gandhi',\n",
       " '(1917–1984)',\n",
       " '24 January 1966 to 24 March 1977\\n11 years, 59 days',\n",
       " 'First female Prime Minister of India',\n",
       " '6.',\n",
       " 'Morarji Desai',\n",
       " '(1896–1995)',\n",
       " '24 March 1977 to  28 July 1979 \\n2 year, 126 days',\n",
       " 'Oldest to become PM (81 years old) and first to resign from office',\n",
       " '7.',\n",
       " 'Charan Singh',\n",
       " '(1902–1987)',\n",
       " '28 July 1979 to 14 January 1980\\n170 days',\n",
       " 'Only PM who did not face the Parliament',\n",
       " '8.',\n",
       " 'Indira Gandhi',\n",
       " '(1917–1984)',\n",
       " '14 January 1980 to 31 October 1984\\n4 years, 291 days',\n",
       " 'The first lady who served as PM for the second term',\n",
       " '9.',\n",
       " 'Rajiv Gandhi',\n",
       " '(1944–1991)',\n",
       " '31 October 1984 to 2 December 1989\\n5 years, 32 days',\n",
       " 'Youngest to become PM (40 years old)',\n",
       " '10.',\n",
       " 'V. P. Singh',\n",
       " '(1931–2008)',\n",
       " '2 December 1989 to 10 November 1990\\n343 days',\n",
       " 'First PM to step down after a vote of no confidence',\n",
       " '11.',\n",
       " 'Chandra Shekhar',\n",
       " '(1927–2007)',\n",
       " '10 November 1990 to 21 June 1991\\n223 days',\n",
       " 'He belongs to  Samajwadi Janata Party',\n",
       " '12.',\n",
       " 'P. V. Narasimha Rao',\n",
       " '(1921–2004)',\n",
       " '21 June 1991 to 16 May 1996\\n4 years, 330 days',\n",
       " 'First PM from south India',\n",
       " '13.',\n",
       " 'Atal Bihari Vajpayee',\n",
       " '(1924- 2018)',\n",
       " '16 May 1996 to 1 June 1996\\n16 days',\n",
       " 'PM for shortest tenure',\n",
       " '14.',\n",
       " 'H. D. Deve Gowda',\n",
       " '(born 1933)',\n",
       " '1 June 1996 to 21 April 1997\\n324 days',\n",
       " 'He belongs to  Janata Dal',\n",
       " '15.',\n",
       " 'Inder Kumar Gujral',\n",
       " '(1919–2012)',\n",
       " '21 April 1997 to 19 March 1998 \\n332 days',\n",
       " '------',\n",
       " '16.',\n",
       " 'Atal Bihari Vajpayee',\n",
       " '(1924-2018)',\n",
       " '19 March 1998 to 22 May 2004 \\n6 years, 64 days',\n",
       " ' The first non-congress PM who completed a full term as PM',\n",
       " '17.',\n",
       " 'Manmohan Singh',\n",
       " '(born 1932)',\n",
       " '22 May 2004 to 26 May 2014   \\n10 years, 4 days',\n",
       " ' First Sikh PM',\n",
       " '18.',\n",
       " 'Narendra Modi',\n",
       " '(born 1950)',\n",
       " '26 May 2014 - Present',\n",
       " '4th Prime Minister of India who served two consecutive tenures',\n",
       " 'List of all Presidents of India',\n",
       " 'List of Current Chief Ministers in India',\n",
       " 'List of International Awards received by Narendra Modi',\n",
       " 'List of Chief Ministers of Karnataka (1947-2021)']"
      ]
     },
     "execution_count": 73,
     "metadata": {},
     "output_type": "execute_result"
    }
   ],
   "source": [
    "table_element = []\n",
    "for i in driver10.find_elements(By.TAG_NAME,\"td\"):\n",
    "    table_element.append(i.text)\n",
    "    \n",
    "table_element"
   ]
  },
  {
   "cell_type": "code",
   "execution_count": 74,
   "id": "fb338067",
   "metadata": {},
   "outputs": [
    {
     "data": {
      "text/plain": [
       "94"
      ]
     },
     "execution_count": 74,
     "metadata": {},
     "output_type": "execute_result"
    }
   ],
   "source": [
    "len(table_element)"
   ]
  },
  {
   "cell_type": "code",
   "execution_count": 77,
   "id": "5686e035",
   "metadata": {},
   "outputs": [
    {
     "data": {
      "text/plain": [
       "['Jawahar Lal Nehru',\n",
       " 'Gulzarilal Nanda (Acting)',\n",
       " 'Lal Bahadur Shastri',\n",
       " 'Gulzari Lal Nanda  (Acting)',\n",
       " 'Indira Gandhi',\n",
       " 'Morarji Desai',\n",
       " 'Charan Singh',\n",
       " 'Indira Gandhi',\n",
       " 'Rajiv Gandhi',\n",
       " 'V. P. Singh',\n",
       " 'Chandra Shekhar',\n",
       " 'P. V. Narasimha Rao',\n",
       " 'Atal Bihari Vajpayee',\n",
       " 'H. D. Deve Gowda',\n",
       " 'Inder Kumar Gujral',\n",
       " 'Atal Bihari Vajpayee',\n",
       " 'Manmohan Singh',\n",
       " 'Narendra Modi']"
      ]
     },
     "execution_count": 77,
     "metadata": {},
     "output_type": "execute_result"
    }
   ],
   "source": [
    "pm_name = table_element[1:90:5]\n",
    "pm_name"
   ]
  },
  {
   "cell_type": "code",
   "execution_count": 78,
   "id": "7200f17a",
   "metadata": {},
   "outputs": [
    {
     "data": {
      "text/plain": [
       "['(1889–1964)',\n",
       " '(1898-1998)',\n",
       " '(1904–1966)',\n",
       " '(1898-1998)',\n",
       " '(1917–1984)',\n",
       " '(1896–1995)',\n",
       " '(1902–1987)',\n",
       " '(1917–1984)',\n",
       " '(1944–1991)',\n",
       " '(1931–2008)',\n",
       " '(1927–2007)',\n",
       " '(1921–2004)',\n",
       " '(1924- 2018)',\n",
       " '(born 1933)',\n",
       " '(1919–2012)',\n",
       " '(1924-2018)',\n",
       " '(born 1932)',\n",
       " '(born 1950)']"
      ]
     },
     "execution_count": 78,
     "metadata": {},
     "output_type": "execute_result"
    }
   ],
   "source": [
    "pm_born = table_element[2:90:5]\n",
    "pm_born"
   ]
  },
  {
   "cell_type": "code",
   "execution_count": 79,
   "id": "c39f6d9a",
   "metadata": {},
   "outputs": [
    {
     "data": {
      "text/plain": [
       "['15 August 1947 to 27 May 1964\\n16 years, 286 days',\n",
       " '27 May 1964 to 9 June 1964,\\n13 days',\n",
       " '9 June 1964 to 11 January 1966\\n1 year, 216 days',\n",
       " '11 January 1966 to 24 January 1966\\n13 days',\n",
       " '24 January 1966 to 24 March 1977\\n11 years, 59 days',\n",
       " '24 March 1977 to  28 July 1979 \\n2 year, 126 days',\n",
       " '28 July 1979 to 14 January 1980\\n170 days',\n",
       " '14 January 1980 to 31 October 1984\\n4 years, 291 days',\n",
       " '31 October 1984 to 2 December 1989\\n5 years, 32 days',\n",
       " '2 December 1989 to 10 November 1990\\n343 days',\n",
       " '10 November 1990 to 21 June 1991\\n223 days',\n",
       " '21 June 1991 to 16 May 1996\\n4 years, 330 days',\n",
       " '16 May 1996 to 1 June 1996\\n16 days',\n",
       " '1 June 1996 to 21 April 1997\\n324 days',\n",
       " '21 April 1997 to 19 March 1998 \\n332 days',\n",
       " '19 March 1998 to 22 May 2004 \\n6 years, 64 days',\n",
       " '22 May 2004 to 26 May 2014   \\n10 years, 4 days',\n",
       " '26 May 2014 - Present']"
      ]
     },
     "execution_count": 79,
     "metadata": {},
     "output_type": "execute_result"
    }
   ],
   "source": [
    "pm_office = table_element[3:90:5]\n",
    "pm_office"
   ]
  },
  {
   "cell_type": "code",
   "execution_count": 80,
   "id": "87a76236",
   "metadata": {},
   "outputs": [
    {
     "data": {
      "text/plain": [
       "['The first prime minister of India and the longest-serving PM of India, the first to die in office.',\n",
       " 'First acting PM of India',\n",
       " \"He has given the slogan of 'Jai Jawan Jai Kisan' during the Indo-Pak war of 1965\",\n",
       " '-',\n",
       " 'First female Prime Minister of India',\n",
       " 'Oldest to become PM (81 years old) and first to resign from office',\n",
       " 'Only PM who did not face the Parliament',\n",
       " 'The first lady who served as PM for the second term',\n",
       " 'Youngest to become PM (40 years old)',\n",
       " 'First PM to step down after a vote of no confidence',\n",
       " 'He belongs to  Samajwadi Janata Party',\n",
       " 'First PM from south India',\n",
       " 'PM for shortest tenure',\n",
       " 'He belongs to  Janata Dal',\n",
       " '------',\n",
       " ' The first non-congress PM who completed a full term as PM',\n",
       " ' First Sikh PM',\n",
       " '4th Prime Minister of India who served two consecutive tenures']"
      ]
     },
     "execution_count": 80,
     "metadata": {},
     "output_type": "execute_result"
    }
   ],
   "source": [
    "pm_remark = table_element[4:91:5]\n",
    "pm_remark"
   ]
  },
  {
   "cell_type": "code",
   "execution_count": 81,
   "id": "cea4f295",
   "metadata": {},
   "outputs": [
    {
     "data": {
      "text/html": [
       "<div>\n",
       "<style scoped>\n",
       "    .dataframe tbody tr th:only-of-type {\n",
       "        vertical-align: middle;\n",
       "    }\n",
       "\n",
       "    .dataframe tbody tr th {\n",
       "        vertical-align: top;\n",
       "    }\n",
       "\n",
       "    .dataframe thead th {\n",
       "        text-align: right;\n",
       "    }\n",
       "</style>\n",
       "<table border=\"1\" class=\"dataframe\">\n",
       "  <thead>\n",
       "    <tr style=\"text-align: right;\">\n",
       "      <th></th>\n",
       "      <th>Prime Minister name</th>\n",
       "      <th>Born-dead</th>\n",
       "      <th>Term of office</th>\n",
       "      <th>Remark</th>\n",
       "    </tr>\n",
       "  </thead>\n",
       "  <tbody>\n",
       "    <tr>\n",
       "      <th>0</th>\n",
       "      <td>Jawahar Lal Nehru</td>\n",
       "      <td>(1889–1964)</td>\n",
       "      <td>15 August 1947 to 27 May 1964\\n16 years, 286 days</td>\n",
       "      <td>The first prime minister of India and the long...</td>\n",
       "    </tr>\n",
       "    <tr>\n",
       "      <th>1</th>\n",
       "      <td>Gulzarilal Nanda (Acting)</td>\n",
       "      <td>(1898-1998)</td>\n",
       "      <td>27 May 1964 to 9 June 1964,\\n13 days</td>\n",
       "      <td>First acting PM of India</td>\n",
       "    </tr>\n",
       "    <tr>\n",
       "      <th>2</th>\n",
       "      <td>Lal Bahadur Shastri</td>\n",
       "      <td>(1904–1966)</td>\n",
       "      <td>9 June 1964 to 11 January 1966\\n1 year, 216 days</td>\n",
       "      <td>He has given the slogan of 'Jai Jawan Jai Kisa...</td>\n",
       "    </tr>\n",
       "    <tr>\n",
       "      <th>3</th>\n",
       "      <td>Gulzari Lal Nanda  (Acting)</td>\n",
       "      <td>(1898-1998)</td>\n",
       "      <td>11 January 1966 to 24 January 1966\\n13 days</td>\n",
       "      <td>-</td>\n",
       "    </tr>\n",
       "    <tr>\n",
       "      <th>4</th>\n",
       "      <td>Indira Gandhi</td>\n",
       "      <td>(1917–1984)</td>\n",
       "      <td>24 January 1966 to 24 March 1977\\n11 years, 59...</td>\n",
       "      <td>First female Prime Minister of India</td>\n",
       "    </tr>\n",
       "    <tr>\n",
       "      <th>5</th>\n",
       "      <td>Morarji Desai</td>\n",
       "      <td>(1896–1995)</td>\n",
       "      <td>24 March 1977 to  28 July 1979 \\n2 year, 126 days</td>\n",
       "      <td>Oldest to become PM (81 years old) and first t...</td>\n",
       "    </tr>\n",
       "    <tr>\n",
       "      <th>6</th>\n",
       "      <td>Charan Singh</td>\n",
       "      <td>(1902–1987)</td>\n",
       "      <td>28 July 1979 to 14 January 1980\\n170 days</td>\n",
       "      <td>Only PM who did not face the Parliament</td>\n",
       "    </tr>\n",
       "    <tr>\n",
       "      <th>7</th>\n",
       "      <td>Indira Gandhi</td>\n",
       "      <td>(1917–1984)</td>\n",
       "      <td>14 January 1980 to 31 October 1984\\n4 years, 2...</td>\n",
       "      <td>The first lady who served as PM for the second...</td>\n",
       "    </tr>\n",
       "    <tr>\n",
       "      <th>8</th>\n",
       "      <td>Rajiv Gandhi</td>\n",
       "      <td>(1944–1991)</td>\n",
       "      <td>31 October 1984 to 2 December 1989\\n5 years, 3...</td>\n",
       "      <td>Youngest to become PM (40 years old)</td>\n",
       "    </tr>\n",
       "    <tr>\n",
       "      <th>9</th>\n",
       "      <td>V. P. Singh</td>\n",
       "      <td>(1931–2008)</td>\n",
       "      <td>2 December 1989 to 10 November 1990\\n343 days</td>\n",
       "      <td>First PM to step down after a vote of no confi...</td>\n",
       "    </tr>\n",
       "    <tr>\n",
       "      <th>10</th>\n",
       "      <td>Chandra Shekhar</td>\n",
       "      <td>(1927–2007)</td>\n",
       "      <td>10 November 1990 to 21 June 1991\\n223 days</td>\n",
       "      <td>He belongs to  Samajwadi Janata Party</td>\n",
       "    </tr>\n",
       "    <tr>\n",
       "      <th>11</th>\n",
       "      <td>P. V. Narasimha Rao</td>\n",
       "      <td>(1921–2004)</td>\n",
       "      <td>21 June 1991 to 16 May 1996\\n4 years, 330 days</td>\n",
       "      <td>First PM from south India</td>\n",
       "    </tr>\n",
       "    <tr>\n",
       "      <th>12</th>\n",
       "      <td>Atal Bihari Vajpayee</td>\n",
       "      <td>(1924- 2018)</td>\n",
       "      <td>16 May 1996 to 1 June 1996\\n16 days</td>\n",
       "      <td>PM for shortest tenure</td>\n",
       "    </tr>\n",
       "    <tr>\n",
       "      <th>13</th>\n",
       "      <td>H. D. Deve Gowda</td>\n",
       "      <td>(born 1933)</td>\n",
       "      <td>1 June 1996 to 21 April 1997\\n324 days</td>\n",
       "      <td>He belongs to  Janata Dal</td>\n",
       "    </tr>\n",
       "    <tr>\n",
       "      <th>14</th>\n",
       "      <td>Inder Kumar Gujral</td>\n",
       "      <td>(1919–2012)</td>\n",
       "      <td>21 April 1997 to 19 March 1998 \\n332 days</td>\n",
       "      <td>------</td>\n",
       "    </tr>\n",
       "    <tr>\n",
       "      <th>15</th>\n",
       "      <td>Atal Bihari Vajpayee</td>\n",
       "      <td>(1924-2018)</td>\n",
       "      <td>19 March 1998 to 22 May 2004 \\n6 years, 64 days</td>\n",
       "      <td>The first non-congress PM who completed a ful...</td>\n",
       "    </tr>\n",
       "    <tr>\n",
       "      <th>16</th>\n",
       "      <td>Manmohan Singh</td>\n",
       "      <td>(born 1932)</td>\n",
       "      <td>22 May 2004 to 26 May 2014   \\n10 years, 4 days</td>\n",
       "      <td>First Sikh PM</td>\n",
       "    </tr>\n",
       "    <tr>\n",
       "      <th>17</th>\n",
       "      <td>Narendra Modi</td>\n",
       "      <td>(born 1950)</td>\n",
       "      <td>26 May 2014 - Present</td>\n",
       "      <td>4th Prime Minister of India who served two con...</td>\n",
       "    </tr>\n",
       "  </tbody>\n",
       "</table>\n",
       "</div>"
      ],
      "text/plain": [
       "            Prime Minister name     Born-dead  \\\n",
       "0             Jawahar Lal Nehru   (1889–1964)   \n",
       "1     Gulzarilal Nanda (Acting)   (1898-1998)   \n",
       "2           Lal Bahadur Shastri   (1904–1966)   \n",
       "3   Gulzari Lal Nanda  (Acting)   (1898-1998)   \n",
       "4                 Indira Gandhi   (1917–1984)   \n",
       "5                 Morarji Desai   (1896–1995)   \n",
       "6                  Charan Singh   (1902–1987)   \n",
       "7                 Indira Gandhi   (1917–1984)   \n",
       "8                  Rajiv Gandhi   (1944–1991)   \n",
       "9                   V. P. Singh   (1931–2008)   \n",
       "10              Chandra Shekhar   (1927–2007)   \n",
       "11          P. V. Narasimha Rao   (1921–2004)   \n",
       "12         Atal Bihari Vajpayee  (1924- 2018)   \n",
       "13             H. D. Deve Gowda   (born 1933)   \n",
       "14           Inder Kumar Gujral   (1919–2012)   \n",
       "15         Atal Bihari Vajpayee   (1924-2018)   \n",
       "16               Manmohan Singh   (born 1932)   \n",
       "17                Narendra Modi   (born 1950)   \n",
       "\n",
       "                                       Term of office  \\\n",
       "0   15 August 1947 to 27 May 1964\\n16 years, 286 days   \n",
       "1                27 May 1964 to 9 June 1964,\\n13 days   \n",
       "2    9 June 1964 to 11 January 1966\\n1 year, 216 days   \n",
       "3         11 January 1966 to 24 January 1966\\n13 days   \n",
       "4   24 January 1966 to 24 March 1977\\n11 years, 59...   \n",
       "5   24 March 1977 to  28 July 1979 \\n2 year, 126 days   \n",
       "6           28 July 1979 to 14 January 1980\\n170 days   \n",
       "7   14 January 1980 to 31 October 1984\\n4 years, 2...   \n",
       "8   31 October 1984 to 2 December 1989\\n5 years, 3...   \n",
       "9       2 December 1989 to 10 November 1990\\n343 days   \n",
       "10         10 November 1990 to 21 June 1991\\n223 days   \n",
       "11     21 June 1991 to 16 May 1996\\n4 years, 330 days   \n",
       "12                16 May 1996 to 1 June 1996\\n16 days   \n",
       "13             1 June 1996 to 21 April 1997\\n324 days   \n",
       "14          21 April 1997 to 19 March 1998 \\n332 days   \n",
       "15    19 March 1998 to 22 May 2004 \\n6 years, 64 days   \n",
       "16    22 May 2004 to 26 May 2014   \\n10 years, 4 days   \n",
       "17                              26 May 2014 - Present   \n",
       "\n",
       "                                               Remark  \n",
       "0   The first prime minister of India and the long...  \n",
       "1                            First acting PM of India  \n",
       "2   He has given the slogan of 'Jai Jawan Jai Kisa...  \n",
       "3                                                   -  \n",
       "4                First female Prime Minister of India  \n",
       "5   Oldest to become PM (81 years old) and first t...  \n",
       "6             Only PM who did not face the Parliament  \n",
       "7   The first lady who served as PM for the second...  \n",
       "8                Youngest to become PM (40 years old)  \n",
       "9   First PM to step down after a vote of no confi...  \n",
       "10              He belongs to  Samajwadi Janata Party  \n",
       "11                          First PM from south India  \n",
       "12                             PM for shortest tenure  \n",
       "13                          He belongs to  Janata Dal  \n",
       "14                                             ------  \n",
       "15   The first non-congress PM who completed a ful...  \n",
       "16                                      First Sikh PM  \n",
       "17  4th Prime Minister of India who served two con...  "
      ]
     },
     "execution_count": 81,
     "metadata": {},
     "output_type": "execute_result"
    }
   ],
   "source": [
    "pm_pd = pd.DataFrame()\n",
    "\n",
    "pm_pd[\"Prime Minister name\"] = pm_name\n",
    "pm_pd[\"Born-dead\"] = pm_born\n",
    "pm_pd[\"Term of office\"] = pm_office\n",
    "pm_pd[\"Remark\"] = pm_remark\n",
    "\n",
    "pm_pd"
   ]
  },
  {
   "cell_type": "code",
   "execution_count": null,
   "id": "5d154c94",
   "metadata": {},
   "outputs": [],
   "source": []
  },
  {
   "cell_type": "markdown",
   "id": "34081f40",
   "metadata": {},
   "source": [
    "Q11: Write s python program to display list of 50 Most expensive cars in the world (i.e. Company name, Model \n",
    "name and Price) from https://www.motor1.com/\n",
    "This task will be done in following steps:\n",
    "1. First get the webpage https://www.motor1.com/\n",
    "2. Then You have to click on the List option from Dropdown menu on left side.\n",
    "3. Then click on 50 most expensive cars in the world..\n",
    "4. Then scrap the mentioned data and make the"
   ]
  },
  {
   "cell_type": "code",
   "execution_count": 82,
   "id": "5b8d2d97",
   "metadata": {},
   "outputs": [],
   "source": [
    "driver11 = webdriver.Edge(r\"C:\\Users\\Atharva\\Internship project\\Web Sraping assignment-2\\msedgedriver.exe\")\n",
    "driver11.maximize_window()\n",
    "\n",
    "url11 = \"https://www.motor1.com/\"\n",
    "driver11.get(url11)"
   ]
  },
  {
   "cell_type": "code",
   "execution_count": 83,
   "id": "8e9a8ff0",
   "metadata": {},
   "outputs": [],
   "source": [
    "moto_menu = driver11.find_element(By.XPATH,\"/html/body/div[2]/div[2]/div/div/div[1]/div\")\n",
    "moto_menu.click()"
   ]
  },
  {
   "cell_type": "code",
   "execution_count": 84,
   "id": "fc9b384c",
   "metadata": {},
   "outputs": [],
   "source": [
    "moto_list = driver11.find_element(By.XPATH,\"/html/body/div[3]/div[1]/div[3]/ul/li[4]/a\")\n",
    "moto_list.click()"
   ]
  },
  {
   "cell_type": "code",
   "execution_count": 85,
   "id": "5f13b7d3",
   "metadata": {},
   "outputs": [],
   "source": [
    "moto50_list = driver11.find_element(By.XPATH,\"/html/body/div[2]/div[9]/div[1]/div[1]/div/div/div[1]/div/div[1]/h3/a\")\n",
    "moto50_list.click()"
   ]
  },
  {
   "cell_type": "code",
   "execution_count": 86,
   "id": "ee962a78",
   "metadata": {},
   "outputs": [
    {
     "data": {
      "text/plain": [
       "['Drako GTE',\n",
       " 'De Tomaso P72',\n",
       " 'Ferrari LaFerrari',\n",
       " 'Pagani Huayra',\n",
       " 'McLaren Elva',\n",
       " 'Czinger 21C',\n",
       " 'Ferrari Monza',\n",
       " 'Gordon Murray T.33',\n",
       " 'Koenigsegg Gemera',\n",
       " 'Zenvo TSR-S',\n",
       " 'Hennessey Venom F5',\n",
       " 'Bentley Bacalar',\n",
       " 'Hispano Suiza Carmen Boulogne',\n",
       " 'Bentley Mulliner Batur',\n",
       " 'Deus Vayanne',\n",
       " 'SSC Tuatara',\n",
       " 'Lotus Evija',\n",
       " 'Aston Martin Vulcan',\n",
       " 'Delage D12',\n",
       " 'McLaren Speedtail',\n",
       " 'Rimac Nevera',\n",
       " 'Pagani Utopia',\n",
       " 'Pininfarina Battista',\n",
       " 'Ferrari FXX K Evo',\n",
       " 'Gordon Murray T.50',\n",
       " 'Lamborghini Countach',\n",
       " 'Mercedes-AMG Project One',\n",
       " 'Aston Martin Victor',\n",
       " 'Hennessey Venom F5 Roadster',\n",
       " 'Koenigsegg Jesko',\n",
       " 'Aston Martin Valkyrie',\n",
       " 'W Motors Lykan Hypersport',\n",
       " 'McLaren Solus',\n",
       " 'Pagani Huayra Roadster BC',\n",
       " 'Bugatti Chiron Pur Sport',\n",
       " 'Lamborghini Sian',\n",
       " 'Koenigsegg CC850',\n",
       " 'Bugatti Chiron Super Sport 300+',\n",
       " 'Lamborghini Veneno',\n",
       " 'Bugatti Bolide',\n",
       " 'Bugatti Mistral',\n",
       " 'Pagani Huayra Imola',\n",
       " 'Bugatti Divo',\n",
       " 'SP Automotive Chaos',\n",
       " 'Pagani Codalunga',\n",
       " 'Mercedes-Maybach Exelero',\n",
       " 'Bugatti Centodieci',\n",
       " 'Rolls-Royce Sweptail',\n",
       " 'Bugatti La Voiture Noire',\n",
       " 'Rolls-Royce Boat Tail*',\n",
       " 'Most Expensive Cars In The World']"
      ]
     },
     "execution_count": 86,
     "metadata": {},
     "output_type": "execute_result"
    }
   ],
   "source": [
    "car_name = []\n",
    "\n",
    "for i in driver11.find_elements(By.XPATH,'//h3[@class=\"subheader\"]'):\n",
    "    car_name.append(i.text)\n",
    "    \n",
    "car_name"
   ]
  },
  {
   "cell_type": "code",
   "execution_count": 87,
   "id": "7550470a",
   "metadata": {},
   "outputs": [
    {
     "data": {
      "text/plain": [
       "['Price: $1.2 Million',\n",
       " 'Price: $1.3 Million',\n",
       " 'Price: $1.4 Million',\n",
       " 'Price: $1.4 Million',\n",
       " '',\n",
       " 'Price: $1.7 Million',\n",
       " 'Price: $1.7 Million',\n",
       " 'Price: $1.7 Million',\n",
       " 'Price: $1.7 Million',\n",
       " 'Price: $1.7 Million',\n",
       " 'Price: $1.7 Million',\n",
       " 'Price: $1.8 Million',\n",
       " 'Price: $1.9 Million',\n",
       " 'Price: $1.9 Million',\n",
       " 'Price: $2.0 Million',\n",
       " 'Price: $2.0 Million',\n",
       " 'Price: $2.0 Million*',\n",
       " 'Price: $2.1 Million',\n",
       " 'Price: $2.3 Million',\n",
       " 'Price: $2.3 Million',\n",
       " 'Price: $2.3 Million',\n",
       " 'Price: $2.4 Million',\n",
       " 'Price: $2.5 Million',\n",
       " 'Price: $2.5 Million',\n",
       " 'Price: $2.6 Million',\n",
       " 'Price: $2.6 Million',\n",
       " 'Price: $2.6 Million',\n",
       " 'Price: $2.7 Million',\n",
       " 'Price: $3.0 Million',\n",
       " '$3.0 Million',\n",
       " 'Price: $3.0 Million',\n",
       " 'Price: $3.2 Million',\n",
       " 'Price: $3.4 Million',\n",
       " '$3.5 Million',\n",
       " 'Price: $3.5 Million',\n",
       " 'Price: $3.6 Million',\n",
       " 'Price: $3.6 million',\n",
       " 'Price: $3.7 Million',\n",
       " 'Price: $3.9 Million',\n",
       " 'Price: $4.5 Million',\n",
       " 'Price: $4.7 Million',\n",
       " 'Price: $5.0 Million',\n",
       " 'Price: $5.4 Million',\n",
       " 'Price: $5.8 Million',\n",
       " 'Price: $6.4 Million',\n",
       " 'Price: $7.4 Million',\n",
       " 'Price: $8.0 Million',\n",
       " 'Price: $9.0 Million',\n",
       " 'Price: $12.8 Million',\n",
       " 'Price: $13.4 Million',\n",
       " 'Price: $28.0 Million (est.)']"
      ]
     },
     "execution_count": 87,
     "metadata": {},
     "output_type": "execute_result"
    }
   ],
   "source": [
    "car_price = []\n",
    "\n",
    "for i in driver11.find_elements(By.TAG_NAME,\"strong\"):\n",
    "    car_price.append(i.text)\n",
    "\n",
    "car_price"
   ]
  },
  {
   "cell_type": "code",
   "execution_count": 91,
   "id": "505059ad",
   "metadata": {},
   "outputs": [
    {
     "data": {
      "text/plain": [
       "4"
      ]
     },
     "execution_count": 91,
     "metadata": {},
     "output_type": "execute_result"
    }
   ],
   "source": [
    "for i in car_price:\n",
    "    if i == \"\" :\n",
    "        index = car_price.index(i)\n",
    "index  "
   ]
  },
  {
   "cell_type": "code",
   "execution_count": 93,
   "id": "8b2f27ad",
   "metadata": {},
   "outputs": [
    {
     "name": "stdout",
     "output_type": "stream",
     "text": [
      "50\n"
     ]
    }
   ],
   "source": [
    "car_price.remove(car_price[index])\n",
    "car_price\n",
    "print(len(car_price))"
   ]
  },
  {
   "cell_type": "code",
   "execution_count": 96,
   "id": "7304ad09",
   "metadata": {},
   "outputs": [
    {
     "data": {
      "text/plain": [
       "(51, 50)"
      ]
     },
     "execution_count": 96,
     "metadata": {},
     "output_type": "execute_result"
    }
   ],
   "source": [
    "len(car_name),len(car_price)"
   ]
  },
  {
   "cell_type": "code",
   "execution_count": null,
   "id": "df171cb8",
   "metadata": {},
   "outputs": [],
   "source": []
  },
  {
   "cell_type": "code",
   "execution_count": 95,
   "id": "da7c5eb0",
   "metadata": {},
   "outputs": [
    {
     "data": {
      "text/html": [
       "<div>\n",
       "<style scoped>\n",
       "    .dataframe tbody tr th:only-of-type {\n",
       "        vertical-align: middle;\n",
       "    }\n",
       "\n",
       "    .dataframe tbody tr th {\n",
       "        vertical-align: top;\n",
       "    }\n",
       "\n",
       "    .dataframe thead th {\n",
       "        text-align: right;\n",
       "    }\n",
       "</style>\n",
       "<table border=\"1\" class=\"dataframe\">\n",
       "  <thead>\n",
       "    <tr style=\"text-align: right;\">\n",
       "      <th></th>\n",
       "      <th>car company/model</th>\n",
       "      <th>car price</th>\n",
       "    </tr>\n",
       "  </thead>\n",
       "  <tbody>\n",
       "    <tr>\n",
       "      <th>0</th>\n",
       "      <td>Drako GTE</td>\n",
       "      <td>Price: $1.2 Million</td>\n",
       "    </tr>\n",
       "    <tr>\n",
       "      <th>1</th>\n",
       "      <td>De Tomaso P72</td>\n",
       "      <td>Price: $1.3 Million</td>\n",
       "    </tr>\n",
       "    <tr>\n",
       "      <th>2</th>\n",
       "      <td>Ferrari LaFerrari</td>\n",
       "      <td>Price: $1.4 Million</td>\n",
       "    </tr>\n",
       "    <tr>\n",
       "      <th>3</th>\n",
       "      <td>Pagani Huayra</td>\n",
       "      <td>Price: $1.4 Million</td>\n",
       "    </tr>\n",
       "    <tr>\n",
       "      <th>4</th>\n",
       "      <td>McLaren Elva</td>\n",
       "      <td>Price: $1.7 Million</td>\n",
       "    </tr>\n",
       "    <tr>\n",
       "      <th>5</th>\n",
       "      <td>Czinger 21C</td>\n",
       "      <td>Price: $1.7 Million</td>\n",
       "    </tr>\n",
       "    <tr>\n",
       "      <th>6</th>\n",
       "      <td>Ferrari Monza</td>\n",
       "      <td>Price: $1.7 Million</td>\n",
       "    </tr>\n",
       "    <tr>\n",
       "      <th>7</th>\n",
       "      <td>Gordon Murray T.33</td>\n",
       "      <td>Price: $1.7 Million</td>\n",
       "    </tr>\n",
       "    <tr>\n",
       "      <th>8</th>\n",
       "      <td>Koenigsegg Gemera</td>\n",
       "      <td>Price: $1.7 Million</td>\n",
       "    </tr>\n",
       "    <tr>\n",
       "      <th>9</th>\n",
       "      <td>Zenvo TSR-S</td>\n",
       "      <td>Price: $1.7 Million</td>\n",
       "    </tr>\n",
       "    <tr>\n",
       "      <th>10</th>\n",
       "      <td>Hennessey Venom F5</td>\n",
       "      <td>Price: $1.8 Million</td>\n",
       "    </tr>\n",
       "    <tr>\n",
       "      <th>11</th>\n",
       "      <td>Bentley Bacalar</td>\n",
       "      <td>Price: $1.9 Million</td>\n",
       "    </tr>\n",
       "    <tr>\n",
       "      <th>12</th>\n",
       "      <td>Hispano Suiza Carmen Boulogne</td>\n",
       "      <td>Price: $1.9 Million</td>\n",
       "    </tr>\n",
       "    <tr>\n",
       "      <th>13</th>\n",
       "      <td>Bentley Mulliner Batur</td>\n",
       "      <td>Price: $2.0 Million</td>\n",
       "    </tr>\n",
       "    <tr>\n",
       "      <th>14</th>\n",
       "      <td>Deus Vayanne</td>\n",
       "      <td>Price: $2.0 Million</td>\n",
       "    </tr>\n",
       "    <tr>\n",
       "      <th>15</th>\n",
       "      <td>SSC Tuatara</td>\n",
       "      <td>Price: $2.0 Million*</td>\n",
       "    </tr>\n",
       "    <tr>\n",
       "      <th>16</th>\n",
       "      <td>Lotus Evija</td>\n",
       "      <td>Price: $2.1 Million</td>\n",
       "    </tr>\n",
       "    <tr>\n",
       "      <th>17</th>\n",
       "      <td>Aston Martin Vulcan</td>\n",
       "      <td>Price: $2.3 Million</td>\n",
       "    </tr>\n",
       "    <tr>\n",
       "      <th>18</th>\n",
       "      <td>Delage D12</td>\n",
       "      <td>Price: $2.3 Million</td>\n",
       "    </tr>\n",
       "    <tr>\n",
       "      <th>19</th>\n",
       "      <td>McLaren Speedtail</td>\n",
       "      <td>Price: $2.3 Million</td>\n",
       "    </tr>\n",
       "    <tr>\n",
       "      <th>20</th>\n",
       "      <td>Rimac Nevera</td>\n",
       "      <td>Price: $2.4 Million</td>\n",
       "    </tr>\n",
       "    <tr>\n",
       "      <th>21</th>\n",
       "      <td>Pagani Utopia</td>\n",
       "      <td>Price: $2.5 Million</td>\n",
       "    </tr>\n",
       "    <tr>\n",
       "      <th>22</th>\n",
       "      <td>Pininfarina Battista</td>\n",
       "      <td>Price: $2.5 Million</td>\n",
       "    </tr>\n",
       "    <tr>\n",
       "      <th>23</th>\n",
       "      <td>Ferrari FXX K Evo</td>\n",
       "      <td>Price: $2.6 Million</td>\n",
       "    </tr>\n",
       "    <tr>\n",
       "      <th>24</th>\n",
       "      <td>Gordon Murray T.50</td>\n",
       "      <td>Price: $2.6 Million</td>\n",
       "    </tr>\n",
       "    <tr>\n",
       "      <th>25</th>\n",
       "      <td>Lamborghini Countach</td>\n",
       "      <td>Price: $2.6 Million</td>\n",
       "    </tr>\n",
       "    <tr>\n",
       "      <th>26</th>\n",
       "      <td>Mercedes-AMG Project One</td>\n",
       "      <td>Price: $2.7 Million</td>\n",
       "    </tr>\n",
       "    <tr>\n",
       "      <th>27</th>\n",
       "      <td>Aston Martin Victor</td>\n",
       "      <td>Price: $3.0 Million</td>\n",
       "    </tr>\n",
       "    <tr>\n",
       "      <th>28</th>\n",
       "      <td>Hennessey Venom F5 Roadster</td>\n",
       "      <td>$3.0 Million</td>\n",
       "    </tr>\n",
       "    <tr>\n",
       "      <th>29</th>\n",
       "      <td>Koenigsegg Jesko</td>\n",
       "      <td>Price: $3.0 Million</td>\n",
       "    </tr>\n",
       "    <tr>\n",
       "      <th>30</th>\n",
       "      <td>Aston Martin Valkyrie</td>\n",
       "      <td>Price: $3.2 Million</td>\n",
       "    </tr>\n",
       "    <tr>\n",
       "      <th>31</th>\n",
       "      <td>W Motors Lykan Hypersport</td>\n",
       "      <td>Price: $3.4 Million</td>\n",
       "    </tr>\n",
       "    <tr>\n",
       "      <th>32</th>\n",
       "      <td>McLaren Solus</td>\n",
       "      <td>$3.5 Million</td>\n",
       "    </tr>\n",
       "    <tr>\n",
       "      <th>33</th>\n",
       "      <td>Pagani Huayra Roadster BC</td>\n",
       "      <td>Price: $3.5 Million</td>\n",
       "    </tr>\n",
       "    <tr>\n",
       "      <th>34</th>\n",
       "      <td>Bugatti Chiron Pur Sport</td>\n",
       "      <td>Price: $3.6 Million</td>\n",
       "    </tr>\n",
       "    <tr>\n",
       "      <th>35</th>\n",
       "      <td>Lamborghini Sian</td>\n",
       "      <td>Price: $3.6 million</td>\n",
       "    </tr>\n",
       "    <tr>\n",
       "      <th>36</th>\n",
       "      <td>Koenigsegg CC850</td>\n",
       "      <td>Price: $3.7 Million</td>\n",
       "    </tr>\n",
       "    <tr>\n",
       "      <th>37</th>\n",
       "      <td>Bugatti Chiron Super Sport 300+</td>\n",
       "      <td>Price: $3.9 Million</td>\n",
       "    </tr>\n",
       "    <tr>\n",
       "      <th>38</th>\n",
       "      <td>Lamborghini Veneno</td>\n",
       "      <td>Price: $4.5 Million</td>\n",
       "    </tr>\n",
       "    <tr>\n",
       "      <th>39</th>\n",
       "      <td>Bugatti Bolide</td>\n",
       "      <td>Price: $4.7 Million</td>\n",
       "    </tr>\n",
       "    <tr>\n",
       "      <th>40</th>\n",
       "      <td>Bugatti Mistral</td>\n",
       "      <td>Price: $5.0 Million</td>\n",
       "    </tr>\n",
       "    <tr>\n",
       "      <th>41</th>\n",
       "      <td>Pagani Huayra Imola</td>\n",
       "      <td>Price: $5.4 Million</td>\n",
       "    </tr>\n",
       "    <tr>\n",
       "      <th>42</th>\n",
       "      <td>Bugatti Divo</td>\n",
       "      <td>Price: $5.8 Million</td>\n",
       "    </tr>\n",
       "    <tr>\n",
       "      <th>43</th>\n",
       "      <td>SP Automotive Chaos</td>\n",
       "      <td>Price: $6.4 Million</td>\n",
       "    </tr>\n",
       "    <tr>\n",
       "      <th>44</th>\n",
       "      <td>Pagani Codalunga</td>\n",
       "      <td>Price: $7.4 Million</td>\n",
       "    </tr>\n",
       "    <tr>\n",
       "      <th>45</th>\n",
       "      <td>Mercedes-Maybach Exelero</td>\n",
       "      <td>Price: $8.0 Million</td>\n",
       "    </tr>\n",
       "    <tr>\n",
       "      <th>46</th>\n",
       "      <td>Bugatti Centodieci</td>\n",
       "      <td>Price: $9.0 Million</td>\n",
       "    </tr>\n",
       "    <tr>\n",
       "      <th>47</th>\n",
       "      <td>Rolls-Royce Sweptail</td>\n",
       "      <td>Price: $12.8 Million</td>\n",
       "    </tr>\n",
       "    <tr>\n",
       "      <th>48</th>\n",
       "      <td>Bugatti La Voiture Noire</td>\n",
       "      <td>Price: $13.4 Million</td>\n",
       "    </tr>\n",
       "    <tr>\n",
       "      <th>49</th>\n",
       "      <td>Rolls-Royce Boat Tail*</td>\n",
       "      <td>Price: $28.0 Million (est.)</td>\n",
       "    </tr>\n",
       "  </tbody>\n",
       "</table>\n",
       "</div>"
      ],
      "text/plain": [
       "                  car company/model                    car price\n",
       "0                         Drako GTE          Price: $1.2 Million\n",
       "1                     De Tomaso P72          Price: $1.3 Million\n",
       "2                 Ferrari LaFerrari          Price: $1.4 Million\n",
       "3                     Pagani Huayra          Price: $1.4 Million\n",
       "4                      McLaren Elva          Price: $1.7 Million\n",
       "5                       Czinger 21C          Price: $1.7 Million\n",
       "6                     Ferrari Monza          Price: $1.7 Million\n",
       "7                Gordon Murray T.33          Price: $1.7 Million\n",
       "8                 Koenigsegg Gemera          Price: $1.7 Million\n",
       "9                       Zenvo TSR-S          Price: $1.7 Million\n",
       "10               Hennessey Venom F5          Price: $1.8 Million\n",
       "11                  Bentley Bacalar          Price: $1.9 Million\n",
       "12    Hispano Suiza Carmen Boulogne          Price: $1.9 Million\n",
       "13           Bentley Mulliner Batur          Price: $2.0 Million\n",
       "14                     Deus Vayanne          Price: $2.0 Million\n",
       "15                      SSC Tuatara         Price: $2.0 Million*\n",
       "16                      Lotus Evija          Price: $2.1 Million\n",
       "17              Aston Martin Vulcan          Price: $2.3 Million\n",
       "18                       Delage D12          Price: $2.3 Million\n",
       "19                McLaren Speedtail          Price: $2.3 Million\n",
       "20                     Rimac Nevera          Price: $2.4 Million\n",
       "21                    Pagani Utopia          Price: $2.5 Million\n",
       "22             Pininfarina Battista          Price: $2.5 Million\n",
       "23                Ferrari FXX K Evo          Price: $2.6 Million\n",
       "24               Gordon Murray T.50          Price: $2.6 Million\n",
       "25             Lamborghini Countach          Price: $2.6 Million\n",
       "26         Mercedes-AMG Project One          Price: $2.7 Million\n",
       "27              Aston Martin Victor          Price: $3.0 Million\n",
       "28      Hennessey Venom F5 Roadster                 $3.0 Million\n",
       "29                 Koenigsegg Jesko          Price: $3.0 Million\n",
       "30            Aston Martin Valkyrie          Price: $3.2 Million\n",
       "31        W Motors Lykan Hypersport          Price: $3.4 Million\n",
       "32                    McLaren Solus                 $3.5 Million\n",
       "33        Pagani Huayra Roadster BC          Price: $3.5 Million\n",
       "34         Bugatti Chiron Pur Sport          Price: $3.6 Million\n",
       "35                 Lamborghini Sian          Price: $3.6 million\n",
       "36                 Koenigsegg CC850          Price: $3.7 Million\n",
       "37  Bugatti Chiron Super Sport 300+          Price: $3.9 Million\n",
       "38               Lamborghini Veneno          Price: $4.5 Million\n",
       "39                   Bugatti Bolide          Price: $4.7 Million\n",
       "40                  Bugatti Mistral          Price: $5.0 Million\n",
       "41              Pagani Huayra Imola          Price: $5.4 Million\n",
       "42                     Bugatti Divo          Price: $5.8 Million\n",
       "43              SP Automotive Chaos          Price: $6.4 Million\n",
       "44                 Pagani Codalunga          Price: $7.4 Million\n",
       "45         Mercedes-Maybach Exelero          Price: $8.0 Million\n",
       "46               Bugatti Centodieci          Price: $9.0 Million\n",
       "47             Rolls-Royce Sweptail         Price: $12.8 Million\n",
       "48         Bugatti La Voiture Noire         Price: $13.4 Million\n",
       "49           Rolls-Royce Boat Tail*  Price: $28.0 Million (est.)"
      ]
     },
     "execution_count": 95,
     "metadata": {},
     "output_type": "execute_result"
    }
   ],
   "source": [
    "car_Df = pd.DataFrame()\n",
    "\n",
    "car_Df[\"car company/model\"] = car_name[:50]\n",
    "car_Df[\"car price\"] = car_price\n",
    "\n",
    "car_Df"
   ]
  },
  {
   "cell_type": "code",
   "execution_count": null,
   "id": "bcc7f87a",
   "metadata": {},
   "outputs": [],
   "source": []
  }
 ],
 "metadata": {
  "kernelspec": {
   "display_name": "Python 3 (ipykernel)",
   "language": "python",
   "name": "python3"
  },
  "language_info": {
   "codemirror_mode": {
    "name": "ipython",
    "version": 3
   },
   "file_extension": ".py",
   "mimetype": "text/x-python",
   "name": "python",
   "nbconvert_exporter": "python",
   "pygments_lexer": "ipython3",
   "version": "3.9.12"
  }
 },
 "nbformat": 4,
 "nbformat_minor": 5
}
