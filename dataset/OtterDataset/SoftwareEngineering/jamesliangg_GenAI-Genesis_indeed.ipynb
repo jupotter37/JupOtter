{
 "cells": [
  {
   "cell_type": "code",
   "execution_count": 276,
   "id": "300c4f6e",
   "metadata": {},
   "outputs": [],
   "source": [
    "from selenium import webdriver\n",
    "from selenium.webdriver.common.by import By\n",
    "from selenium.webdriver.firefox.service import Service\n",
    "from selenium.webdriver.common.action_chains import ActionChains\n",
    "from selenium.webdriver.common.keys import Keys\n",
    "from selenium.webdriver.firefox.options import Options as options\n",
    "from selenium.webdriver.support.ui import WebDriverWait\n",
    "from selenium.webdriver.support import expected_conditions as EC\n",
    "from time import sleep, time\n",
    "import selenium.common.exceptions as SEX\n",
    "import pyautogui\n",
    "import re"
   ]
  },
  {
   "cell_type": "code",
   "execution_count": 61,
   "id": "4bc7682c",
   "metadata": {},
   "outputs": [],
   "source": [
    "class FirefoxDriver:\n",
    "    def __init__(self, gecko_driver_path):\n",
    "        service = Service(executable_path=gecko_driver_path)\n",
    "        ops = options()\n",
    "        ops.headless = False\n",
    "        self.drv = webdriver.Firefox(service=service, options=ops)\n",
    "        self.drv.implicitly_wait(10)\n",
    "        self.html = \"\"\n",
    "\n",
    "    def _check_xpath(self, xpath):\n",
    "        def condition(locator):\n",
    "            p = EC.presence_of_element_located(locator)\n",
    "            c = EC.element_to_be_clickable(locator)\n",
    "            v = EC.visibility_of_element_located(locator)\n",
    "            return p and c and v\n",
    "        element = WebDriverWait(self.drv, 10).until(\n",
    "            condition((By.XPATH, xpath)))\n",
    "        return element\n",
    "\n",
    "    def _action_click(self, element):\n",
    "        self.drv.execute_script(\n",
    "            \"arguments[0].scrollIntoView();\", element)\n",
    "        element.click()\n",
    "    \n",
    "    def _action_post(self, element, word):\n",
    "        self.drv.execute_script(\n",
    "            \"arguments[0].scrollIntoView();\", element)\n",
    "        element.click()\n",
    "        element.send_keys(word)\n",
    "    \n",
    "    def get(self, url):\n",
    "        self.drv.get(url)\n",
    "        self.html = self.drv.page_source\n",
    "\n",
    "    def quit(self):\n",
    "        self.drv.quit()\n",
    "\n",
    "    def click(self, xpath):\n",
    "        success = False\n",
    "        while not success:\n",
    "            bt = self._check_xpath(xpath)\n",
    "            try:\n",
    "                self._action_click(bt)\n",
    "                success = True\n",
    "            except SEX.StaleElementReferenceException:\n",
    "                print('Could not click on', xpath)\n",
    "                print('Trying again...')\n",
    "        self.html = self.drv.page_source\n",
    "    \n",
    "    def click_element(self, element):\n",
    "        success = False\n",
    "        while not success:\n",
    "            element = self._check_element(element)\n",
    "            try:\n",
    "                self._action_click(element)\n",
    "                success = True\n",
    "            except SEX.StaleElementReferenceException:\n",
    "                print('Could not click on', xpath)\n",
    "                print('Trying again...')\n",
    "        self.html = self.drv.page_source\n",
    "\n",
    "    def post(self, xpath, word):\n",
    "        success = False\n",
    "        while not success:\n",
    "            field = self._check_xpath(xpath)\n",
    "            try:\n",
    "                self._action_post(field, word)\n",
    "                success = True\n",
    "            except SEX.StaleElementReferenceException:\n",
    "                print('Could not send', word, 'to', xpath)\n",
    "                print('Trying again...')\n",
    "        self.html = self.drv.page_source\n",
    "\n",
    "    def upload(self, xpath, file):\n",
    "        success = False\n",
    "        while not success: \n",
    "            field = self._check_xpath(xpath)\n",
    "            try:\n",
    "                self._action_click(field)\n",
    "                success = True\n",
    "            except SEX.StaleElementReferenceException:\n",
    "                print('Could not send', file, 'to', xpath)\n",
    "                print('Trying again...')\n",
    "        pyautogui.sleep(3)\n",
    "        pyautogui.typewrite(file + '\\n')\n",
    "        pyautogui.sleep(3)\n",
    "        pyautogui.press('enter')\n",
    "        self.html = self.drv.page_source\n",
    "\n",
    "    def clear(self, xpath):\n",
    "        field = self._check_xpath(xpath)\n",
    "        self.drv.execute_script(\"arguments[0].scrollIntoView();\",\n",
    "                field)\n",
    "        ActionChains(self.drv)\\\n",
    "            .click(field)\\\n",
    "            .key_down(Keys.COMMAND)\\\n",
    "            .send_keys(Keys.UP)\\\n",
    "            .key_up(Keys.COMMAND)\\\n",
    "            .perform()\n",
    "        self.html = self.drv.page_source\n",
    "\n",
    "    def server(self, xpath):\n",
    "        phs = PhoneServer()\n",
    "        code = phs.start()\n",
    "        self.post(xpath, code)"
   ]
  },
  {
   "cell_type": "code",
   "execution_count": 272,
   "id": "75ed610d",
   "metadata": {},
   "outputs": [],
   "source": [
    "driver = FirefoxDriver(\"/Users/TheDudeAK/Downloads/geckodriver\")"
   ]
  },
  {
   "cell_type": "code",
   "execution_count": 273,
   "id": "11ebce89",
   "metadata": {},
   "outputs": [],
   "source": [
    "driver.get(\"https://ca.indeed.com/\")"
   ]
  },
  {
   "cell_type": "code",
   "execution_count": 127,
   "id": "dd4fccd0",
   "metadata": {},
   "outputs": [],
   "source": [
    "elements = driver.drv.find_elements(By.XPATH, \"//*[@class=\\\"css-5lfssm eu4oa1w0\\\"]\")"
   ]
  },
  {
   "cell_type": "code",
   "execution_count": 128,
   "id": "4be6aca7",
   "metadata": {},
   "outputs": [
    {
     "data": {
      "text/plain": [
       "18"
      ]
     },
     "execution_count": 128,
     "metadata": {},
     "output_type": "execute_result"
    }
   ],
   "source": [
    "len(elements)"
   ]
  },
  {
   "cell_type": "code",
   "execution_count": 149,
   "id": "dfb54817",
   "metadata": {},
   "outputs": [
    {
     "ename": "TimeoutException",
     "evalue": "Message: \nStacktrace:\nRemoteError@chrome://remote/content/shared/RemoteError.sys.mjs:8:8\nWebDriverError@chrome://remote/content/shared/webdriver/Errors.sys.mjs:192:5\nNoSuchElementError@chrome://remote/content/shared/webdriver/Errors.sys.mjs:510:5\ndom.find/</<@chrome://remote/content/shared/DOM.sys.mjs:136:16\n",
     "output_type": "error",
     "traceback": [
      "\u001b[0;31m---------------------------------------------------------------------------\u001b[0m",
      "\u001b[0;31mTimeoutException\u001b[0m                          Traceback (most recent call last)",
      "\u001b[0;32m<ipython-input-149-017237f30886>\u001b[0m in \u001b[0;36m<module>\u001b[0;34m()\u001b[0m\n\u001b[1;32m      2\u001b[0m \u001b[0;32mfor\u001b[0m \u001b[0mi\u001b[0m \u001b[0;32min\u001b[0m \u001b[0mrange\u001b[0m\u001b[0;34m(\u001b[0m\u001b[0;36m0\u001b[0m\u001b[0;34m,\u001b[0m\u001b[0;36m50\u001b[0m\u001b[0;34m)\u001b[0m\u001b[0;34m:\u001b[0m\u001b[0;34m\u001b[0m\u001b[0m\n\u001b[1;32m      3\u001b[0m     \u001b[0mpages\u001b[0m\u001b[0;34m.\u001b[0m\u001b[0mappend\u001b[0m\u001b[0;34m(\u001b[0m\u001b[0mdriver\u001b[0m\u001b[0;34m.\u001b[0m\u001b[0mhtml\u001b[0m\u001b[0;34m)\u001b[0m\u001b[0;34m\u001b[0m\u001b[0m\n\u001b[0;32m----> 4\u001b[0;31m     \u001b[0mdriver\u001b[0m\u001b[0;34m.\u001b[0m\u001b[0mclick\u001b[0m\u001b[0;34m(\u001b[0m\u001b[0;34m\"/html/body/main/div/div[2]/div/div[5]/div/div[1]/nav/ul/li[6]/a\"\u001b[0m\u001b[0;34m)\u001b[0m\u001b[0;34m\u001b[0m\u001b[0m\n\u001b[0m",
      "\u001b[0;32m<ipython-input-61-6bdeac45e7e1>\u001b[0m in \u001b[0;36mclick\u001b[0;34m(self, xpath)\u001b[0m\n\u001b[1;32m     50\u001b[0m         \u001b[0msuccess\u001b[0m \u001b[0;34m=\u001b[0m \u001b[0;32mFalse\u001b[0m\u001b[0;34m\u001b[0m\u001b[0m\n\u001b[1;32m     51\u001b[0m         \u001b[0;32mwhile\u001b[0m \u001b[0;32mnot\u001b[0m \u001b[0msuccess\u001b[0m\u001b[0;34m:\u001b[0m\u001b[0;34m\u001b[0m\u001b[0m\n\u001b[0;32m---> 52\u001b[0;31m             \u001b[0mbt\u001b[0m \u001b[0;34m=\u001b[0m \u001b[0mself\u001b[0m\u001b[0;34m.\u001b[0m\u001b[0m_check_xpath\u001b[0m\u001b[0;34m(\u001b[0m\u001b[0mxpath\u001b[0m\u001b[0;34m)\u001b[0m\u001b[0;34m\u001b[0m\u001b[0m\n\u001b[0m\u001b[1;32m     53\u001b[0m             \u001b[0;32mtry\u001b[0m\u001b[0;34m:\u001b[0m\u001b[0;34m\u001b[0m\u001b[0m\n\u001b[1;32m     54\u001b[0m                 \u001b[0mself\u001b[0m\u001b[0;34m.\u001b[0m\u001b[0m_action_click\u001b[0m\u001b[0;34m(\u001b[0m\u001b[0mbt\u001b[0m\u001b[0;34m)\u001b[0m\u001b[0;34m\u001b[0m\u001b[0m\n",
      "\u001b[0;32m<ipython-input-61-6bdeac45e7e1>\u001b[0m in \u001b[0;36m_check_xpath\u001b[0;34m(self, xpath)\u001b[0m\n\u001b[1;32m     15\u001b[0m             \u001b[0;32mreturn\u001b[0m \u001b[0mp\u001b[0m \u001b[0;32mand\u001b[0m \u001b[0mc\u001b[0m \u001b[0;32mand\u001b[0m \u001b[0mv\u001b[0m\u001b[0;34m\u001b[0m\u001b[0m\n\u001b[1;32m     16\u001b[0m         element = WebDriverWait(self.drv, 10).until(\n\u001b[0;32m---> 17\u001b[0;31m             condition((By.XPATH, xpath)))\n\u001b[0m\u001b[1;32m     18\u001b[0m         \u001b[0;32mreturn\u001b[0m \u001b[0melement\u001b[0m\u001b[0;34m\u001b[0m\u001b[0m\n\u001b[1;32m     19\u001b[0m \u001b[0;34m\u001b[0m\u001b[0m\n",
      "\u001b[0;32m/Library/Frameworks/Python.framework/Versions/3.7/lib/python3.7/site-packages/selenium/webdriver/support/wait.py\u001b[0m in \u001b[0;36muntil\u001b[0;34m(self, method, message)\u001b[0m\n\u001b[1;32m     93\u001b[0m             \u001b[0;32mif\u001b[0m \u001b[0mtime\u001b[0m\u001b[0;34m.\u001b[0m\u001b[0mmonotonic\u001b[0m\u001b[0;34m(\u001b[0m\u001b[0;34m)\u001b[0m \u001b[0;34m>\u001b[0m \u001b[0mend_time\u001b[0m\u001b[0;34m:\u001b[0m\u001b[0;34m\u001b[0m\u001b[0m\n\u001b[1;32m     94\u001b[0m                 \u001b[0;32mbreak\u001b[0m\u001b[0;34m\u001b[0m\u001b[0m\n\u001b[0;32m---> 95\u001b[0;31m         \u001b[0;32mraise\u001b[0m \u001b[0mTimeoutException\u001b[0m\u001b[0;34m(\u001b[0m\u001b[0mmessage\u001b[0m\u001b[0;34m,\u001b[0m \u001b[0mscreen\u001b[0m\u001b[0;34m,\u001b[0m \u001b[0mstacktrace\u001b[0m\u001b[0;34m)\u001b[0m\u001b[0;34m\u001b[0m\u001b[0m\n\u001b[0m\u001b[1;32m     96\u001b[0m \u001b[0;34m\u001b[0m\u001b[0m\n\u001b[1;32m     97\u001b[0m     \u001b[0;32mdef\u001b[0m \u001b[0muntil_not\u001b[0m\u001b[0;34m(\u001b[0m\u001b[0mself\u001b[0m\u001b[0;34m,\u001b[0m \u001b[0mmethod\u001b[0m\u001b[0;34m,\u001b[0m \u001b[0mmessage\u001b[0m\u001b[0;34m:\u001b[0m \u001b[0mstr\u001b[0m \u001b[0;34m=\u001b[0m \u001b[0;34m\"\"\u001b[0m\u001b[0;34m)\u001b[0m\u001b[0;34m:\u001b[0m\u001b[0;34m\u001b[0m\u001b[0m\n",
      "\u001b[0;31mTimeoutException\u001b[0m: Message: \nStacktrace:\nRemoteError@chrome://remote/content/shared/RemoteError.sys.mjs:8:8\nWebDriverError@chrome://remote/content/shared/webdriver/Errors.sys.mjs:192:5\nNoSuchElementError@chrome://remote/content/shared/webdriver/Errors.sys.mjs:510:5\ndom.find/</<@chrome://remote/content/shared/DOM.sys.mjs:136:16\n"
     ]
    }
   ],
   "source": [
    "pages = []\n",
    "for i in range(0,50):\n",
    "    pages.append(driver.html)\n",
    "    driver.click(\"/html/body/main/div/div[2]/div/div[5]/div/div[1]/nav/ul/li[6]/a\")"
   ]
  },
  {
   "cell_type": "code",
   "execution_count": 151,
   "id": "8ef4ddd0",
   "metadata": {},
   "outputs": [
    {
     "data": {
      "text/plain": [
       "36"
      ]
     },
     "execution_count": 151,
     "metadata": {},
     "output_type": "execute_result"
    }
   ],
   "source": [
    "len(pages)"
   ]
  },
  {
   "cell_type": "code",
   "execution_count": 152,
   "id": "0617d2e7",
   "metadata": {},
   "outputs": [],
   "source": [
    "from bs4 import BeautifulSoup"
   ]
  },
  {
   "cell_type": "code",
   "execution_count": 154,
   "id": "fc49daf4",
   "metadata": {},
   "outputs": [
    {
     "name": "stdout",
     "output_type": "stream",
     "text": [
      "<title>2,515 New Computer Science Job Postings in Toronto, ON | 30 March 2024 Indeed.com</title>\n"
     ]
    }
   ],
   "source": [
    "soup = BeautifulSoup(pages[0], 'html.parser')\n",
    "print(soup.title)"
   ]
  },
  {
   "cell_type": "code",
   "execution_count": 160,
   "id": "8720f682",
   "metadata": {},
   "outputs": [],
   "source": [
    "links = []\n",
    "for page in pages:\n",
    "    soup = BeautifulSoup(page, 'html.parser')\n",
    "    for link in soup.find_all('a', class_=\"jcs-JobTitle\"):\n",
    "        links.append(link.get('href'))"
   ]
  },
  {
   "cell_type": "code",
   "execution_count": 161,
   "id": "cde35781",
   "metadata": {},
   "outputs": [
    {
     "data": {
      "text/plain": [
       "537"
      ]
     },
     "execution_count": 161,
     "metadata": {},
     "output_type": "execute_result"
    }
   ],
   "source": [
    "len(links)"
   ]
  },
  {
   "cell_type": "code",
   "execution_count": 251,
   "id": "53c45268",
   "metadata": {},
   "outputs": [],
   "source": [
    "driver.get(\"https://ca.indeed.com\" + links[4])"
   ]
  },
  {
   "cell_type": "code",
   "execution_count": 253,
   "id": "3137a8ed",
   "metadata": {},
   "outputs": [],
   "source": [
    "soup = BeautifulSoup(driver.html, 'html.parser')"
   ]
  },
  {
   "cell_type": "code",
   "execution_count": 237,
   "id": "33581f82",
   "metadata": {},
   "outputs": [
    {
     "data": {
      "text/plain": [
       "<title>Agile Lead - Toronto, ON - Indeed.com</title>"
      ]
     },
     "execution_count": 237,
     "metadata": {},
     "output_type": "execute_result"
    }
   ],
   "source": [
    "soup.title"
   ]
  },
  {
   "cell_type": "code",
   "execution_count": 246,
   "id": "d7f3be8a",
   "metadata": {},
   "outputs": [
    {
     "data": {
      "text/plain": [
       "'Business Systems Consultant/Analyst (SAP)'"
      ]
     },
     "execution_count": 246,
     "metadata": {},
     "output_type": "execute_result"
    }
   ],
   "source": [
    "soup.find('h1', class_=\"jobsearch-JobInfoHeader-title\").text\n",
    "    "
   ]
  },
  {
   "cell_type": "code",
   "execution_count": 247,
   "id": "8aa77706",
   "metadata": {},
   "outputs": [
    {
     "name": "stdout",
     "output_type": "stream",
     "text": [
      "893 Yonge St, Toronto, ON\n"
     ]
    }
   ],
   "source": [
    "try:\n",
    "    print(soup.find('div', {'data-testid':\"job-location\"}).text)\n",
    "except:\n",
    "    print(soup.find('div', {'data-testid':\"inlineHeader-companyLocation\"}).text)"
   ]
  },
  {
   "cell_type": "code",
   "execution_count": 256,
   "id": "7a22e0ad",
   "metadata": {},
   "outputs": [
    {
     "name": "stdout",
     "output_type": "stream",
     "text": [
      "$45,000–$55,000 a year  -  Full-time\n"
     ]
    }
   ],
   "source": [
    "salary_and_job_container = soup.find('div', {'id':'salaryInfoAndJobType'})\n",
    "for piece in salary_and_job_container.find_all('span'):\n",
    "    if \"$\" in piece.text:\n",
    "        pay = piece.text\n",
    "    else:\n",
    "        job_type = piece.text\n",
    "print(pay,job_type)"
   ]
  },
  {
   "cell_type": "code",
   "execution_count": 250,
   "id": "4743c015",
   "metadata": {},
   "outputs": [
    {
     "data": {
      "text/plain": [
       "\"Job Description \\n\\n As a Business Systems Consultant, individuals will be responsible for implementing and supporting SAP Enterprise Applications for both large enterprises and midsized companies. Successful candidates will be provided with the opportunity to develop skills in system design, execution and support, while working towards more prominent client facing opportunities for both the implementation and support of SAP projects. \\n\\n Position Type: Permanent - Full Time \\nLocation: Toronto, Canada \\nCurrent Work Environment: Completely Remote \\nExperience Required: Entry level, Recent Graduate, 1 to 3 years (in related field). \\n\\n Our clients include some of the most prestigious and well-known companies in the world. With clients in North and South America, Europe, and Asia, CONTAX is aggressively expanding our geographical scope and presence in the SAP marketplace. \\n\\n Our rapid growth and expansion create challenging, rewarding, and interesting opportunities for career-minded professionals wanting to expand their horizons and take their careers to the next level. We cultivate trusting, long-term partnerships with our clients, and that starts with trusting, long-term relationships with our team. \\n\\n Working as an SAP Business Systems Consultant, CONTAX provides initial training and mentoring to build your core SAP technical, business, and industry knowledge. Training will involve learning some of the newest technologies in enterprise systems, in addition to strengthening your professional and business skills. The successful candidate will be able to leverage that training to take advantage of opportunities to build relationships with customers by solving unique and complex business problems with the tools offered by SAP. \\n\\n Are you ready to take your career to the next level? \\n\\n Key Duties and Responsibilities:\\n\\n\\nWorking closely with our clients to analyze and understand their business and technical needs\\n while leveraging SAP functionality to provide and architect solutions \\n\\n\\nProvide SAP system support to our clients, troubleshooting and resolving their SAP system\\n issues \\n\\n\\nServe in key roles during the various full life-cycle implementations and upgrades of SAP ECC\\n & S4 HANA by providing functional expertise, guidance, and instruction on SAP products to \\nclients \\n\\n\\nWork with other CONTAX team members in delivering projects and meeting deliverables within\\n timelines and on budget \\n\\n\\nProactively seek professional development opportunities to enhance ability to service our\\n customers business and technical needs \\n\\n\\nHelp build and foster relationships with clients by working to understand their business needs\\n and making personal connections via personability, hard work and creative thinking \\nRequirements \\n\\n Qualifications:\\n\\n\\nEligible to work in Canada (Toronto based)\\nDegree in Business, Computer Science, Engineering, or IT related field from an accredited University or College (Undergrad or Masters)\\nExcellent English communication skills (Written and Oral)\\nOutgoing personality with strong Interpersonal skills\\nProven success in both team-oriented and individual environments\\nStrong analytical, problem solving and conceptual skills\\nAble to work under pressure and meet project deadlines within project budgets\\nWillingness to learn and contribute immediately\\nStrong attention to detail and a commitment to delivering high quality work\\nFamiliarity with business processes such as manufacturing, sales, distribution, or accounting\\nAbility and willingness to travel within North America when required (10-25%).\\nProactive, self-motivated with a customer-focused attitude\\n The following skills are considered an asset:\\n\\n\\nFamiliarity with and basic knowledge of ERPs, databases and/or Programming\\nExperience performing root cause analysis and troubleshooting software applications\\nExperience or exposure to Data Analytics\\n Personality, Behavior and Attitude:\\n CONTAX values energetic, outgoing, highly motivated individuals who take initiative and are strong problem solvers. We seek individuals who have strong communication skills, are team-oriented but can also work independently. We take pride in our work and embrace a diverse cultural work environment. If this sounds like you, we would love to hear from you! \\nAbout CONTAX \\n\\n CONTAX is an SAP Gold Partner with nine offices in USA, Canada, Australia and The Netherlands and one of the fastest-growing SAP solutions companies in the world. \\n\\n We provide challenging and meaningful careers for our team members, where we can learn and grow while working with purpose and meaning. We encourage each other to work hard and together we celebrate our successes. \\n\\n We strive for excellence in everything we do and, while results matter, we also have to allow others the opportunity to make mistakes, as it's a critical part of the learning process. We are an entrepreneurial environment where everyone is given the opportunity to try, and take calculated risks where appropriate. \\n\\n We strive to be good global citizens and make a positive impact in the communities in which we live and work. \\n\\n We believe we have the most talented and dedicated team of SAP professionals in the industry. We're always hiring and always growing; and we'll hire talented people even when an opening doesn't exist. We plan to get bigger, better and stronger; and we're always looking for great people to join us on the journey. \\n\\n 1+ years\""
      ]
     },
     "execution_count": 250,
     "metadata": {},
     "output_type": "execute_result"
    }
   ],
   "source": [
    "soup.find('div', {'id':'jobDescriptionText'}).text"
   ]
  },
  {
   "cell_type": "code",
   "execution_count": 327,
   "id": "9706e45b",
   "metadata": {},
   "outputs": [
    {
     "name": "stdout",
     "output_type": "stream",
     "text": [
      "{'Job title': 'Lead Data Engineer', 'Location': '27 Fasken Dr, Toronto, ON', 'Job type': 'Permanent, Full-time', 'Description': 'About Us:\\n Sunwing Vacations Group is home to North America’s largest vacation brands, comprised of the leading Canadian leisure tour operators Sunwing Vacations and WestJet Vacations, along with the growing United States based tour operator Vacation Express, together with the Group’s own travel retail businesses SellOffVacations.com and Luxe Destination Weddings. Our culture is driven by our EPIC Values (entrepreneurial, passionate, innovative, and customer-centric) and our teams work together to deliver our purpose “passionate people making vacation dreams come true”. \\n\\n The Opportunity:\\n Under Sunwing Vacations, we are looking for a Lead, Data Engineer to join us in making vacation dreams come true. As the Lead, Data Engineer you will be responsible for leading the team, design, configuration, development, and delivery of the Business Intelligence solutions. You will expand and optimize our data models and data pipeline, as well as optimize data flow and collection for cross functional teams. The position reports to the Sr. Director EA, BI & DBA, and will be located in Toronto, ON. \\n\\n What You’ll Do:\\n \\u200b\\u200b \\u200b \\n\\n\\n\\nBuild and manage the team, assist with hiring and coaching\\n\\u200bConduct performance reviews\\n\\u200bMentor the team members with best practice process, methodologies, and solution practices\\n\\u200bBuild relationships with the lines of the business to serve effectively \\u200b\\n\\u200b\\u200bPlan projects as strategic roadmap, priority management, task identification and estimations\\n\\u200b\\u200b\\u200bExecute the project for successful delivery (on time with quality)\\nIdentify and escalate issues and risks from project and solution perspective\\u200b\\nEnsure the team follows Sunwing SDLC process and methodologies\\u200b\\n\\u200bDesign scalable and extensible data pipelines and data warehouse designs\\n\\u200bCreate and maintain optimal data pipeline structures supporting the architecture\\n\\u200bAssemble large, complex data sets that meet functional / non-functional business requirements\\n\\u200bIdentify, design, and implement internal process improvements: automating manual processes, optimizing data delivery, etc.\\n\\u200bBuild the solution required for optimal extraction, transformation, and loading of data from a wide variety of data sources using SQL and Azure Data technologies\\n\\u200bDesign and implement data governance and data quality measures in the BI platforms\\n\\u200bSupport our software developers, database architects, data analysts and data scientists on data initiatives and will ensure optimal data delivery architecture is consistent throughout ongoing projects\\u200b\\n\\u200b\\u200bBuild analytics tools that utilize the data pipeline to provide actionable insights into customer acquisition, operational efficiency, and other key business performance metrics\\n\\u200bWork with stakeholders including the Management, Product, Data and Design teams to assist with data-related technical issues and support their data needs\\n\\u200bWork with external vendors and partners to design, develop and test BI solutions\\n\\u200bUnderstanding of business and technical requirements, provision of subject matter expertise and implementation of data engineering techniques\\n\\u200bPutting into practice good organizational and time management skills, with the ability to prioritize and complete multiple complex projects under tight deadlines\\n\\u200bReview other developers design and code\\n\\u200bEnsure regular review of data systems to ensure optimal efficiency\\u200b\\nEnsure data governance and quality is maintained and optimal\\nKeep our data separated and secure across LOB boundaries through RBAC\\nWork with data and analytics experts to strive for greater functionality in our data systems\\nConducting of data discovery activities, performing root cause analysis, and making recommendations for the remediation of data quality issues\\n What You’ll Need:\\n\\n\\n\\u200b\\u200bStrong project planning skills, organizational skills, and execution capabilities\\n\\u200bExcellent written and oral communication skills\\n\\u200bSelf-directed and independent working skills\\n\\u200bStrong multi-tasking capabilities to support the data needs of multiple teams, systems, and products\\n\\u200bProven ability to lead, mentor, and motivate small teams to medium size teams\\n\\u200bA data wrangler who enjoys optimizing data systems and building them from scratch\\n\\u200bAdvanced working SQL knowledge and experience working with relational databases, query authoring (SQL) as well as working familiarity with a variety of databases\\n\\u200bBuild processes supporting data transformation, data structures, metadata, dependency, and workload management\\n\\u200bWorking knowledge of message queuing, stream processing, and highly scalable Cloud data stores.\\n\\u200bWe are looking for a candidate with 4+ years of experience in a Data Engineer role, who has attained a Graduate degree in Computer Science, Statistics, Informatics, Information Systems, or another quantitative field. They should also have experience using the following software/tools:\\n\\u200bExperience with Cloud Data technologies (SSIS, ADF, Datalake, Azure Synapse, PBI) etc.\\n\\u200bExposure to relational SQL and NoSQL databases\\n\\u200bKnowledge with Azure Analysis Services\\n\\u200bKnowledge with stream-processing systems\\n\\u200bExperience with object-oriented/object function scripting languages: Python, Java, C++, Scala, etc. would be an asset\\n\\u200bKnowledge of Tour Ops and Airline systems data is an asset\\n\\u200bExperience working in Agile streams for complete SDLC life cycle process and methodologies through Azure DevOps or Jira etc.\\u200b\\n What We Offer:\\n Hybrid Work Opportunities \\nGreat travel perks! \\nGoodlife Corporate Discount \\nComprehensive benefits package \\nRRSP Matching Program \\nGrowth opportunities \\nFree Parking \\nOpen concept, collaborative workspace \\nFresh Café with delicious snacks and meals at a subsidized price! \\nOpportunity to give back through our social responsibility initiatives \\nSee for yourself!\\u202f@sunwinglife \\n\\n We thank all who apply however only those who meet the qualifications will be contacted. \\n\\n Diversity, equity, and inclusion - Diversity makes us EPIC; we strive to foster a culture where employees feel uniquely themselves and part of a team. Violence and harassment prevention and response - We partnered with White Ribbon to help us create a survivor-centric, trauma informed policy and educational programs used by all our divisions. Total wellbeing - Our approach is for holistic opportunities to help employees Be EPIC and Be Well. Learning and development - Our offerings are focused on the development of competencies, personal leadership, and leadership in groups and teams. \\n\\n We will accommodate all applicants throughout the hiring process. If you are an individual who requires accommodation to apply to this position, please email arozario@sunwing.ca'}\n"
     ]
    }
   ],
   "source": [
    "\n",
    "job = {}\n",
    "driver.get(\"https://ca.indeed.com\" + links[500])\n",
    "soup = BeautifulSoup(driver.html, 'html.parser')\n",
    "# job title\n",
    "title_container = soup.find('h1', class_=\"jobsearch-JobInfoHeader-title\") \n",
    "if title_container is not None:\n",
    "    job[\"Job title\"] = title_container.text\n",
    "# location\n",
    "long_location_container = soup.find('div', {'data-testid':\"job-location\"})\n",
    "if long_location_container is not None:\n",
    "    job[\"Location\"] = long_location_container.text\n",
    "else:\n",
    "    short_location_container = soup.find('div', {'data-testid':\"inlineHeader-companyLocation\"})\n",
    "    if short_location_container is not None:\n",
    "        job[\"Location\"] = short_location_container.text\n",
    "# salary and job type\n",
    "salary_and_job_container = soup.find('div', {'id':'salaryInfoAndJobType'})\n",
    "if salary_and_job_container is not None:\n",
    "    for piece in salary_and_job_container.find_all('span'):\n",
    "        if \"$\" in piece.text:\n",
    "            job[\"Salary\"] = piece.text\n",
    "        else:\n",
    "            job[\"Job type\"] = piece.text\n",
    "# description\n",
    "description_container = soup.find('div', {'id':'jobDescriptionText'})\n",
    "if description_container is not None:\n",
    "    job[\"Description\"] = description_container.text\n",
    "print(job)"
   ]
  },
  {
   "cell_type": "code",
   "execution_count": 277,
   "id": "4f56ef29",
   "metadata": {},
   "outputs": [],
   "source": [
    "data = []\n",
    "for link in links:\n",
    "    job = {}\n",
    "    driver.get(\"https://ca.indeed.com\" + link)\n",
    "    soup = BeautifulSoup(driver.html, 'html.parser')\n",
    "    # job title\n",
    "    title_container = soup.find('h1', class_=\"jobsearch-JobInfoHeader-title\") \n",
    "    if title_container is not None:\n",
    "        job[\"Job title\"] = title_container.text\n",
    "    # location\n",
    "    long_location_container = soup.find('div', {'data-testid':\"job-location\"})\n",
    "    if long_location_container is not None:\n",
    "        job[\"Location\"] = long_location_container.text\n",
    "    else:\n",
    "        short_location_container = soup.find('div', {'data-testid':\"inlineHeader-companyLocation\"})\n",
    "        if short_location_container is not None:\n",
    "            job[\"Location\"] = short_location_container.text\n",
    "    # salary and job type\n",
    "    salary_and_job_container = soup.find('div', {'id':'salaryInfoAndJobType'})\n",
    "    if salary_and_job_container is not None:\n",
    "        for piece in salary_and_job_container.find_all('span'):\n",
    "            if \"$\" in piece.text:\n",
    "                job[\"Salary\"] = piece.text\n",
    "            else:\n",
    "                job[\"Job type\"] = piece.text\n",
    "    # description\n",
    "    description_container = soup.find('div', {'id':'jobDescriptionText'})\n",
    "    if description_container is not None:\n",
    "        job[\"Description\"] = description_container.text\n",
    "    data.append(job)\n",
    "    sleep(10)"
   ]
  },
  {
   "cell_type": "code",
   "execution_count": 282,
   "id": "f6df0f00",
   "metadata": {},
   "outputs": [
    {
     "data": {
      "text/plain": [
       "537"
      ]
     },
     "execution_count": 282,
     "metadata": {},
     "output_type": "execute_result"
    }
   ],
   "source": [
    "len(data)"
   ]
  },
  {
   "cell_type": "code",
   "execution_count": 281,
   "id": "87a8f845",
   "metadata": {},
   "outputs": [],
   "source": [
    "import json\n",
    "with open('my_list.json', 'w') as json_file:\n",
    "    json.dump(data, json_file)"
   ]
  },
  {
   "cell_type": "code",
   "execution_count": 296,
   "id": "df574bff",
   "metadata": {},
   "outputs": [],
   "source": [
    "for i in range(0, 537):\n",
    "    data[i][\"url\"] = \"https://ca.indeed.com\" + links[i]"
   ]
  },
  {
   "cell_type": "code",
   "execution_count": 297,
   "id": "da3bb550",
   "metadata": {},
   "outputs": [
    {
     "data": {
      "text/plain": [
       "'https://ca.indeed.com/rc/clk?jk=02e0adc284bfaa7d&bb=_nKwAQXJfiyBjmgS3-ipUqVNcY0z1_Pz5o9DdreT6VUApNJRgnQreM76iGiN3oHIucGVeBVI-9QrLURGJsFR09PmEuqmu5HjkqE7C0Cxnzsk2g-3P3YPdA%3D%3D&xkcb=SoBl67M3CIir7yxylh0AbzkdCdPP&fccid=18fd9e960603ee34&vjs=3'"
      ]
     },
     "execution_count": 297,
     "metadata": {},
     "output_type": "execute_result"
    }
   ],
   "source": [
    "data[536][\"url\"]"
   ]
  },
  {
   "cell_type": "code",
   "execution_count": 303,
   "id": "2b804bf3",
   "metadata": {},
   "outputs": [],
   "source": [
    "job_types = []\n",
    "for i in range(0,537):\n",
    "    if 'Job type' in data[i] and data[i]['Job type'] not in job_types:\n",
    "        job_types.append(data[i]['Job type'])"
   ]
  },
  {
   "cell_type": "code",
   "execution_count": 304,
   "id": "c6ed33f3",
   "metadata": {},
   "outputs": [
    {
     "data": {
      "text/plain": [
       "['Permanent, Full-time',\n",
       " 'Full-time',\n",
       " 'Internship / Co-op',\n",
       " ' -  Temporary, Full-time, Fixed term contract',\n",
       " ' -  Temporary, Part-time, Full-time, Fixed term contract, Internship / Co-op',\n",
       " 'Permanent',\n",
       " 'Part-time',\n",
       " 'Contract, Fixed term contract',\n",
       " ' -  Temporary, Fixed term contract',\n",
       " 'Full-time, Contract, Fixed term contract',\n",
       " ' -  Full-time, Fixed term contract',\n",
       " ' -  Temporary, Seasonal, Full-time',\n",
       " 'Full-time, Internship / Co-op',\n",
       " ' -  Part-time',\n",
       " 'Temporary, Full-time',\n",
       " 'Temporary, Full-time, Fixed term contract',\n",
       " ' -  Permanent, Full-time, Freelance',\n",
       " ' -  Temporary',\n",
       " ' -  Part-time, Contract, Fixed term contract',\n",
       " ' -  Part-time, Contract',\n",
       " ' -  Contract, Fixed term contract',\n",
       " ' -  Permanent',\n",
       " ' -  Part-time, Casual',\n",
       " 'Fixed term contract',\n",
       " 'Temporary, Permanent, Part-time, Full-time, Fixed term contract, Freelance',\n",
       " 'Temporary',\n",
       " ' -  Part-time, Casual, Freelance']"
      ]
     },
     "execution_count": 304,
     "metadata": {},
     "output_type": "execute_result"
    }
   ],
   "source": [
    "job_types"
   ]
  },
  {
   "cell_type": "code",
   "execution_count": 307,
   "id": "10402831",
   "metadata": {},
   "outputs": [],
   "source": [
    "for i in range(0,537):\n",
    "    if 'Job type' in data[i] and data[i]['Job type'] == ' -  Temporary, Full-time, Fixed term contract':\n",
    "        data[i]['Job type'] = 'Temporary, Full-time, Fixed term contract'\n",
    "    if 'Job type' in data[i] and data[i]['Job type'] == ' -  Temporary, Part-time, Full-time, Fixed term contract, Internship / Co-op':\n",
    "        data[i]['Job type'] = 'Temporary, Part-time, Full-time, Fixed term contract, Internship / Co-op'\n",
    "    if 'Job type' in data[i] and data[i]['Job type'] == ' -  Temporary, Fixed term contract':\n",
    "        data[i]['Job type'] = 'Temporary, Fixed term contract'\n",
    "    if 'Job type' in data[i] and data[i]['Job type'] == ' -  Full-time, Fixed term contract':\n",
    "        data[i]['Job type'] = \"Full-time, Fixed term contract\"\n",
    "    if 'Job type' in data[i] and data[i]['Job type'] ==' -  Temporary, Seasonal, Full-time':\n",
    "        data[i]['Job type'] = 'Temporary, Seasonal, Full-time'\n",
    "    if 'Job type' in data[i] and data[i]['Job type'] ==' -  Part-time':\n",
    "        data[i]['Job type'] = 'Part-time'\n",
    "    if 'Job type' in data[i] and data[i]['Job type'] ==' -  Permanent, Full-time, Freelance':\n",
    "        data[i]['Job type'] = 'Permanent, Full-time, Freelance'\n",
    "    if 'Job type' in data[i] and data[i]['Job type'] ==' -  Temporary':\n",
    "        data[i]['Job type'] ='Temporary'\n",
    "    if 'Job type' in data[i] and data[i]['Job type'] == ' -  Part-time, Contract, Fixed term contract':\n",
    "        data[i]['Job type'] = 'Part-time, Contract, Fixed term contract'\n",
    "    if 'Job type' in data[i] and data[i]['Job type'] ==' -  Contract, Fixed term contract':\n",
    "        data[i]['Job type'] = 'Contract, Fixed term contract'\n",
    "    if 'Job type' in data[i] and data[i]['Job type'] ==' -  Permanent':\n",
    "        data[i]['Job type'] = 'Permanent'\n",
    "    if 'Job type' in data[i] and data[i]['Job type'] == ' -  Part-time, Casual':\n",
    "        data[i]['Job type'] = 'Part-time, Casual'\n",
    "    if 'Job type' in data[i] and data[i]['Job type'] == ' -  Part-time, Casual, Freelance':\n",
    "        data[i]['Job type'] = 'Part-time, Casual, Freelance'\n",
    "    if 'Job type' in data[i] and data[i]['Job type'] ==  ' -  Part-time, Contract':\n",
    "        data[i]['Job type'] = 'Part-time, Contract'"
   ]
  },
  {
   "cell_type": "code",
   "execution_count": 316,
   "id": "729b4b67",
   "metadata": {},
   "outputs": [
    {
     "data": {
      "text/plain": [
       "['Permanent, Full-time',\n",
       " 'Full-time',\n",
       " 'Internship / Co-op',\n",
       " 'Temporary, Full-time, Fixed term contract',\n",
       " 'Temporary, Part-time, Full-time, Fixed term contract, Internship / Co-op',\n",
       " 'Permanent',\n",
       " 'Part-time',\n",
       " 'Contract, Fixed term contract',\n",
       " 'Temporary, Fixed term contract',\n",
       " 'Full-time, Contract, Fixed term contract',\n",
       " 'Full-time, Fixed term contract',\n",
       " 'Temporary, Seasonal, Full-time',\n",
       " 'Full-time, Internship / Co-op',\n",
       " 'Temporary, Full-time',\n",
       " 'Permanent, Full-time, Freelance',\n",
       " 'Temporary',\n",
       " 'Part-time, Contract, Fixed term contract',\n",
       " 'Part-time, Contract',\n",
       " 'Part-time, Casual',\n",
       " 'Fixed term contract',\n",
       " 'Temporary, Permanent, Part-time, Full-time, Fixed term contract, Freelance',\n",
       " 'Part-time, Casual, Freelance']"
      ]
     },
     "execution_count": 316,
     "metadata": {},
     "output_type": "execute_result"
    }
   ],
   "source": [
    "job_types = []\n",
    "for i in range(0,537):\n",
    "    if 'Job type' in data[i] and data[i]['Job type'] not in job_types:\n",
    "        job_types.append(data[i]['Job type'])\n",
    "job_types"
   ]
  },
  {
   "cell_type": "code",
   "execution_count": 324,
   "id": "4406286e",
   "metadata": {},
   "outputs": [
    {
     "data": {
      "text/plain": [
       "{'Job title': 'Intermediate Quality Assurance Engineer',\n",
       " 'Location': '2101 Hadwen Road, Mississauga, ON',\n",
       " 'Salary': '$50–$60 an hour',\n",
       " 'Job type': 'Temporary, Fixed term contract',\n",
       " 'Description': \"Duties & Responsibilities:\\n\\nDevelop and execute detailed manual test cases to ensure product quality adheres to predefined standards.\\nDesign, Develop and execute automated test scripts using Flutter, Cypress, and other relevant automation tools.\\nCommunicate test progress, test results, and other relevant information to project stakeholders and management.\\nImplement and refine testing frameworks and strategies to streamline the QA process and enhance efficiency.\\nConduct thorough regression testing to identify potential issues and guarantee product stability after each release.\\nPrepare detailed test plans, test cases, and test reports to effectively communicate testing progress and results to stakeholders.\\nActively contribute to the continuous improvement of QA processes and methodologies to achieve higher standards of product quality and reliability.\\nPerform defect tracking and management using QMetry\\nAnalyze formal test results to discover and report any defects, configuration, and interoperability issues\\nCollaborate with software/systems personnel in application testing, such as system, unit, regression, load, and acceptance testing methods.\\nCultivate and disseminate knowledge of quality assurance best practices.\\n\\nQualifications:\\nBachelor's degree in Computer Science, Engineering, or a related field.\\n\\nDemonstrated experience of 3-5 years in manual and automation testing within QA roles.\\n5+ years of experience with Flutter, Cypress Automation Tools\\nStrong understanding of software QA methodologies, tools, and processes.\\nProficiency in automation tools such as Flutter automation, Cypress, Appium, and other relevant testing frameworks.\\nSound knowledge of mobile and web application testing, including UI testing, cross-browser and cross-platform testing.\\nExcellent problem-solving and analytical skills with acute attention to detail.\\nAbility to work effectively in a collaborative team environment and communicate clearly with cross-functional teams.\\nFamiliarity with Agile development methodologies and continuous integration practices.\\n\\nJob Type: Fixed term contract\\nSalary: $50.00-$60.00 per hour\\nFlexible Language Requirement:\\n\\nFrench not required\\n\\nSchedule:\\n\\nMonday to Friday\\n\\nApplication question(s):\\n\\nWill you now or in the future require sponsorship for employment visa status?\\nAre you comfortable working in a hybrid setting?\\nAre you legally authorized to work in Canada?\\nWilling to work from office for 2-3 days per week (location : Mississauga, Ontario)?\\nHave you ever been convicted in a criminal case or undergone trial in a criminal court?\\nAre you currently undergoing any legal proceedings?\\n\\nExperience:\\n\\nQuality assurance: 5 years (required)\\n\\nAbility to Commute:\\n\\nMississauga, ON L5K 2L3 (required)\\n\\nAbility to Relocate:\\n\\nMississauga, ON L5K 2L3: Relocate before starting work (required)\\n\\nWork Location: Hybrid remote in Mississauga, ON L5K 2L3\",\n",
       " 'url': 'https://ca.indeed.com/rc/clk?jk=13f5ed83aadadfbf&bb=wYONgf8kt1Btk6m1dtvWk4gpSyElJMTDpQVd-gTMo9O31EN2TOf8uCLHQPE79Z0fJteTYvPErVLtiEXmPWjrfomFkuYsV3rnBBi7InX9nMbPeoJZDWxvMg%3D%3D&xkcb=SoAb67M3CIhercRSa50BbzkdCdPP&fccid=1e696526b7979c25&cmp=Pinnacle-Hiring-Inc&ti=Quality+Assurance+Engineer&vjs=3'}"
      ]
     },
     "execution_count": 324,
     "metadata": {},
     "output_type": "execute_result"
    }
   ],
   "source": [
    "data[70]"
   ]
  },
  {
   "cell_type": "code",
   "execution_count": 311,
   "id": "59568173",
   "metadata": {},
   "outputs": [],
   "source": [
    "with open('my_list.json', 'w') as json_file:\n",
    "    json.dump(data, json_file)"
   ]
  },
  {
   "cell_type": "code",
   "execution_count": 326,
   "id": "0ba9921f",
   "metadata": {},
   "outputs": [
    {
     "data": {
      "text/plain": [
       "536"
      ]
     },
     "execution_count": 326,
     "metadata": {},
     "output_type": "execute_result"
    }
   ],
   "source": [
    "job_titles = []\n",
    "for i in range(0,537):\n",
    "    if 'Job title' in data[i] and data[i]['Job title'] not in job_types:\n",
    "        job_titles.append(data[i]['Job title'])\n",
    "len(job_titles)"
   ]
  },
  {
   "cell_type": "code",
   "execution_count": 328,
   "id": "e0343a8c",
   "metadata": {},
   "outputs": [
    {
     "data": {
      "text/plain": [
       "['ServiceNow Developer - ITOM',\n",
       " 'Full Stack Developer',\n",
       " 'Senior Business Analyst',\n",
       " 'Statistical/ Data Analyst',\n",
       " 'Junior Data Analyst',\n",
       " 'Data Analyst',\n",
       " 'Research Associate Intern (Data Science/Data Analytics)',\n",
       " 'IT Analyst',\n",
       " 'Intern, Research Analyst (2024)',\n",
       " 'Business and Data Analyst',\n",
       " 'Student Developer',\n",
       " 'QA Analyst',\n",
       " 'Software Engineer I, New Grad',\n",
       " 'IT Project Manager – Transit Systems Implementation',\n",
       " 'Helpdesk Support – Level 1 & 2',\n",
       " 'Desktop Support Analyst',\n",
       " 'Business Analyst',\n",
       " 'Solutions Architect- Elk Stack/Snowflake, GFT',\n",
       " 'Research Analyst',\n",
       " 'Specialist, IT Support',\n",
       " 'Software Analyst, Vehicle Solutions',\n",
       " 'game developer, computer',\n",
       " 'IT Specialist',\n",
       " 'SQL Developer / Database Administrator',\n",
       " 'Software Developer, New Grad',\n",
       " 'Software Engineer Intern - (Co-Op) - Summer 2024',\n",
       " 'Data scientist',\n",
       " 'Software Developer Summer Co-op (Tech Start-up/ Social Health)',\n",
       " 'Embedded Software Developer – Network Management',\n",
       " 'Junior Developer',\n",
       " 'Software Developer (Backend)',\n",
       " 'IT Support Specialist',\n",
       " 'Information Technology Coordinator',\n",
       " 'ServiceNow Developer - ITOM',\n",
       " 'Instructor: Artificial Intelligence & Data Science (Part-time)',\n",
       " 'Software Engineer in Test',\n",
       " 'Analyst, Decision Support and Evaluation',\n",
       " 'Junior Backend Developer - Golang',\n",
       " 'Data Engineer',\n",
       " 'Q/A Analyst',\n",
       " 'Business Systems Analyst',\n",
       " 'Software Engineer (Canada)',\n",
       " 'Quality Engineer-Display Quality',\n",
       " 'Cloud engineer',\n",
       " 'Applications Developer',\n",
       " 'Artificial Intelligence Consultant',\n",
       " 'Solutions Architect- Elk Stack/Snowflake, GFT',\n",
       " 'IT Project Manager',\n",
       " 'Junior Backend Developer',\n",
       " 'Software Engineer',\n",
       " 'Data Analyst, Payroll Implementation',\n",
       " 'ITV Tester - Intern',\n",
       " 'Data Solutions Specialist',\n",
       " 'Computer Programmer',\n",
       " 'Software Engineer II',\n",
       " 'Software Developer (NOC 21232)',\n",
       " 'Embedded Software Engineering Intern (Spring 2024)',\n",
       " 'Bioinformatics/Data Science Analyst',\n",
       " 'Data Engineer',\n",
       " 'Intermediate Game Programmer',\n",
       " 'IT Support Specialist',\n",
       " 'Digitization Assistant (Full-time, Term)',\n",
       " 'Embedded Software Developer – Network Management',\n",
       " 'Programmer Analyst (iSeries)',\n",
       " 'ServiceNow Developer - ITOM',\n",
       " 'Payroll Data Analyst - Dayforce implementation- 1 Year...',\n",
       " 'Backend Software Engineer (SE3) - REMOTE',\n",
       " 'Business Analyst',\n",
       " 'IT Help Desk Technician (Student)',\n",
       " 'Data Engineer II',\n",
       " 'Intermediate Quality Assurance Engineer',\n",
       " 'Software Developer / Programmer/Analyst',\n",
       " 'Machine Learning Developer',\n",
       " 'Software Quality Assurance Analyst',\n",
       " 'Software Engineering Co-op',\n",
       " 'Full Stack Developer',\n",
       " 'Business Analyst',\n",
       " 'Research Analyst I',\n",
       " 'WTE (Wireless Technologies and Ecosystems) Carrier Technical Lead',\n",
       " 'Power BI Developer',\n",
       " 'software engineer',\n",
       " 'It Systems Analyst',\n",
       " 'Applications Developer',\n",
       " 'Technical Services Technologist Trainee- Toronto ACC',\n",
       " 'data engineer',\n",
       " 'System Administrator',\n",
       " 'IT Analyst (External)',\n",
       " 'Delphi Developer',\n",
       " 'IT Project Manager – Transit Systems Implementation',\n",
       " 'QA TESTER',\n",
       " 'Deskside Support - Contract',\n",
       " 'Solutions Architect- Elk Stack/Snowflake, GFT',\n",
       " 'IT Support Specialist',\n",
       " 'Senior Data Analyst, Client Experience Insights',\n",
       " 'Staff Mobile Engineer (Flutter) REMOTE — FULL-TIMETORONTO, ON',\n",
       " 'Hiring for Business System Analyst with Banking Customer - Toronto',\n",
       " 'Cloud Operations Engineer (Production Support) - Tangerine',\n",
       " 'Associate Quality Engineer',\n",
       " 'Back-end Software Engineer',\n",
       " 'Intermediate QA Analyst',\n",
       " 'M365 Specialist (SharePoint / MS Teams / Power Automate)',\n",
       " 'Computer Instructor',\n",
       " 'Statistical Programmer',\n",
       " 'Front End Software Engineer',\n",
       " 'Software Quality Assurance Specialist',\n",
       " 'Python Full Stack Developer',\n",
       " 'Embedded Software Developer – Satellite Communications',\n",
       " 'Network Administrator',\n",
       " 'Embedded Software Developer – Packet processing',\n",
       " 'Programmer Analyst (iSeries)',\n",
       " 'Software DevOps Engineer',\n",
       " 'Software Analyst',\n",
       " 'Full Stack Engineer',\n",
       " 'SOC 2 GRC Analyst',\n",
       " 'APPLICATION DEVELOPMENT',\n",
       " 'Web developer',\n",
       " 'Business Analyst, Product Management Public Markets',\n",
       " 'Research Intern, PhD, Summer 2024',\n",
       " 'Data Scientist, ML Engineering',\n",
       " 'IT Project Manager – Transit Systems Implementation',\n",
       " 'Software Developer (Backend)',\n",
       " 'Data Governance Consultant',\n",
       " 'Technical Product Specialist',\n",
       " 'Sales and Service Optimization Analyst',\n",
       " 'Full Stack Developer',\n",
       " 'IT, Co-Op',\n",
       " 'QA Analyst - Remote',\n",
       " 'Service Desk Support',\n",
       " 'Technical Specialist - Software',\n",
       " 'IT Support Technician- Permanent Full Time- 35 Hours/Week',\n",
       " 'Programming & Integration Analyst',\n",
       " 'Information Security Intern',\n",
       " 'Oracle Database PL/SQL Developer',\n",
       " 'Expert(e) en support technique -Windows / Technical Support Expert - Windows',\n",
       " 'Cloud Engineer',\n",
       " 'Artificial Intelligence Consultant',\n",
       " 'IT Support Specialist',\n",
       " 'Embedded Software Developer – Network Management',\n",
       " 'Senior Business Analyst',\n",
       " 'Associate Software Engineer In Test',\n",
       " 'Data Scientist - 4 Month Contract',\n",
       " 'Junior Robotic Process Automation (RPA) Developer',\n",
       " 'Data Systems Administrator',\n",
       " 'data analytics consultant',\n",
       " 'Software QA Engineer',\n",
       " 'Web Developer',\n",
       " 'IT Project Manager – Transit Systems Implementation',\n",
       " 'Application Support and Implementation Specialist',\n",
       " 'Embedded Software Developer - Wireless',\n",
       " 'Release Engineer',\n",
       " 'Analyst',\n",
       " 'Solutions Architect- Elk Stack/Snowflake, GFT',\n",
       " 'Mobile Application Developer',\n",
       " 'Technology Specialist',\n",
       " 'Machine Learning Engineer',\n",
       " 'Data Modeler (Anaplan)',\n",
       " 'BI/Data Analyst (preferably in Financial Services or a similarly regulated industry)',\n",
       " 'MCAT Biology Instructor',\n",
       " 'DevOps Engineer (Hybrid Toronto)',\n",
       " 'IT Support Coordinator',\n",
       " 'data engineer',\n",
       " 'DevOps Engineer',\n",
       " 'Business Analyst - Information Services - Temporary full-time 2024-7217',\n",
       " 'Technology Delivery Analyst',\n",
       " 'Software Development Manager',\n",
       " 'IT Support Specialist',\n",
       " 'Embedded Software Developer – Network Management',\n",
       " 'iOS & Android Developers ---- 2 nos.',\n",
       " 'Software Developer, Data Pipelines - Generative AI',\n",
       " 'Informatica PowerCenter IICS Developer',\n",
       " '2024 Summer Applied Science Internship - Canada, PhD Student Science Recruiting',\n",
       " 'Junior Payments Quality Assurance Analyst Co-Op',\n",
       " 'Incident Management',\n",
       " 'Web Developer (DevOps)',\n",
       " 'Business Intelligence Analyst - Revenue Assurance (Hybrid)',\n",
       " 'Software QA Developer',\n",
       " 'Technical Specialist',\n",
       " 'Business Analyst - E- Commerce',\n",
       " 'Cloud Engineer',\n",
       " 'Salesforce Developer/Technical Architect',\n",
       " 'Artificial Intelligence Consultant',\n",
       " 'Software Developer (Backend)',\n",
       " 'Python Full Stack Developer',\n",
       " 'Full Stack Developer',\n",
       " 'Community Science Research Lead',\n",
       " 'Lead Systems Engineer',\n",
       " 'Programmer Analyst (iSeries)',\n",
       " 'DevOps Engineering Intern',\n",
       " 'business data analyst',\n",
       " 'Analyst, Network Operations',\n",
       " 'Backend Software Engineer II',\n",
       " 'Full Stack Java Developer',\n",
       " 'Staff Software Developer',\n",
       " 'System Administrator',\n",
       " 'Senior Data Scientist I',\n",
       " 'System Test Engineer',\n",
       " 'Lead, Cloud Application Developer',\n",
       " 'Sr. Software Developer (Backend)',\n",
       " 'IT Services, Service Analyst',\n",
       " 'Golang Developer',\n",
       " 'Bilingual Technical Support Representative',\n",
       " 'Senior Software Engineer',\n",
       " 'Analyst I - Eurofins Experchem Laboratories, Inc.',\n",
       " 'PHP Developers',\n",
       " 'Cyber Strategy Associate',\n",
       " 'Front-End Developer AND WORDPRESS',\n",
       " 'Django/Python Technology Delivery Lead',\n",
       " 'IT Support Technician',\n",
       " 'Software Developer',\n",
       " 'R&D Programmer (Software Engineering) - La Forge',\n",
       " 'Sr Software Developer (Backend)',\n",
       " 'Data Governance Consultant',\n",
       " 'Data & Analytics Engineer - T3300-21-C',\n",
       " 'Software Engineer (Golang)',\n",
       " 'Deep Learning Engineer',\n",
       " 'C/C++ Developer',\n",
       " 'Senior Data Scientist, R&D',\n",
       " 'Software Engineer, CTO',\n",
       " 'Site Deployment – Intern',\n",
       " 'Systems Developer - Temporary Assignment up to 12 Months (6)',\n",
       " 'Data Science Instructor',\n",
       " 'FinOps Cloud Engineer',\n",
       " 'Technology Analyst - Digital',\n",
       " 'Business Analyst 00055-05',\n",
       " 'Lead Systems Engineer',\n",
       " 'Software Engineer',\n",
       " 'Solutions Architect- Elk Stack/Snowflake, GFT',\n",
       " 'Python Full Stack Developer',\n",
       " 'Sr. Software Developer (Backend)',\n",
       " 'IT Coordinator - Contract',\n",
       " 'MEAN Stack Developer Lead',\n",
       " 'Senior Programmer',\n",
       " 'Java Developer',\n",
       " 'Senior Product Data Analyst',\n",
       " 'Software Engineer - Platform',\n",
       " 'SENIOR BUSINESS & SYSTEMS ANALYST',\n",
       " 'Team Lead - Development',\n",
       " 'Programmer Analyst (iSeries)',\n",
       " 'Help Desk Technician With Managed IT Services Provider',\n",
       " 'Computer Support Technician',\n",
       " 'Artificial Intelligence Consultant',\n",
       " 'Data Scientist - AI Deployment and Evaluation Lab',\n",
       " 'Strategic Cybersecurity Consultant, Mandiant',\n",
       " 'Research Integration Assistant',\n",
       " 'RESEARCH ANALYST',\n",
       " 'NOC Technical Support Agent, Level 1',\n",
       " 'Software Developer',\n",
       " 'Pre-seed, Real Estate AI Startup: Lead Engineer',\n",
       " 'Generative AI Solutions Consultant',\n",
       " 'Systems Specialist, IT M365',\n",
       " 'Information Security Analyst',\n",
       " 'Lead Systems Engineer',\n",
       " 'Applications Developer',\n",
       " 'Python Developer',\n",
       " 'Software Engineer',\n",
       " 'Software Developer (Backend)',\n",
       " 'Solutions Architect- Elk Stack/Snowflake, GFT',\n",
       " 'Technical Support Representative (CCNA certification)',\n",
       " 'Embedded Software Developer – Network Management',\n",
       " 'Bilingual Technical Support Representative',\n",
       " 'Associate Performance Engineer - Seeking 2024 Grads',\n",
       " 'Solutions Architect',\n",
       " 'Software Developer, Frontend',\n",
       " 'Intermediate Software Engineer – Solar Software',\n",
       " 'AI Engineer, New Frontiers',\n",
       " 'Javascript developers',\n",
       " 'Nasdaq Market Surveillance Software Engineer',\n",
       " 'Analyst - IT Security (12 month contract)',\n",
       " 'Web designer',\n",
       " 'Artificial Intelligence Consultant',\n",
       " 'IT Support Specialist',\n",
       " 'Elementary Computer Science Teacher',\n",
       " 'Sr. Software Developer (Backend)',\n",
       " 'Embedded Software Developer – Packet processing',\n",
       " 'Manager, Data Management, Analytics and Reporting',\n",
       " 'BI Developer',\n",
       " 'Salesforce Service Cloud Developer',\n",
       " 'Senior Data Analyst',\n",
       " 'Data Engineer',\n",
       " 'BI Data Engineer',\n",
       " 'Salesforce QA Analyst',\n",
       " 'Principal Software Developer in Test',\n",
       " 'Technical Analyst',\n",
       " 'Software Development Engineer , Amazon',\n",
       " 'Audio Stack Developer (C++ & Java)',\n",
       " 'IT Programmer',\n",
       " 'Sr. Payments Quality Assurance Analyst',\n",
       " 'Full Stack Developer',\n",
       " 'Software Architect',\n",
       " 'Tier One Technical Support Representative',\n",
       " 'Network Administrator',\n",
       " 'Full Stack Developer',\n",
       " 'Golang Developer - (6 months fixed term contract)',\n",
       " 'IT Support Specialist',\n",
       " 'Clinical Trial Web Application Developer',\n",
       " 'information technology (IT) support analyst',\n",
       " 'Full-Stack Developer',\n",
       " 'UI/UX Designer',\n",
       " 'DEVELOPER / DATA ANALYST',\n",
       " 'Junior Full-Stack Developer/软件工程师',\n",
       " 'Sr. Full Stack Engineer (Media)',\n",
       " 'Product Development Engineer',\n",
       " 'Sr. Software Developer (Backend)',\n",
       " 'Technical Lead, Software Development - Tangerine',\n",
       " 'System Administrator-Technology Infrastructure',\n",
       " 'Administrator, Enterprise Systems',\n",
       " 'Senior Systems Administrator - Linux / macOS',\n",
       " 'OpenEdge Programmer Analyst',\n",
       " 'SCADA Analyst',\n",
       " 'Application Specialist - ServiceNow',\n",
       " 'Junior Embedded Software Engineer',\n",
       " 'Information Security Engineer',\n",
       " 'Software Developer',\n",
       " 'Sr. Technical Business Analyst',\n",
       " 'Programmer Analyst (iSeries)',\n",
       " 'Software Architect',\n",
       " 'Embedded Software Developer',\n",
       " 'IS Infrastructure Expert',\n",
       " 'Lead Systems Engineer',\n",
       " 'IT Application Support Specialist',\n",
       " 'Release Engineer, RM',\n",
       " 'Senior Business Analyst - E- Commerce',\n",
       " 'Quality Technologist',\n",
       " 'Ethical Hacker',\n",
       " 'Product Manager',\n",
       " 'Associate Data Developer',\n",
       " 'SharePoint Administrator',\n",
       " 'PhD Research Intern, Autonomous Vehicles - Summer 2024',\n",
       " 'Software Developer (Java)',\n",
       " 'Software Engineer',\n",
       " 'Artificial Intelligence Consultant',\n",
       " 'IT Support Specialist',\n",
       " 'Audio Stack Developer (C++ & Java)',\n",
       " 'Bilingual Technical Support Representative',\n",
       " 'Technical Analyst',\n",
       " 'Machine Learning Operations Engineer',\n",
       " 'PC Support Analyst',\n",
       " 'Technical Operations Support Specialist',\n",
       " 'Documentation Reviewer I',\n",
       " 'Data Scientist – NLP, LLM and GenAI',\n",
       " '.NET Developer for Endpoint Agent Software',\n",
       " 'Technical Specialist',\n",
       " 'Agile Lead',\n",
       " 'Robotics/Coding/STEM/ Math Teacher',\n",
       " 'Software Architect',\n",
       " 'Technical Support Representative (CCNA certification)',\n",
       " 'Senior Linux System Administrator',\n",
       " 'Azure Platform Engineer',\n",
       " 'Administrator, AMANDA Systems Analyst',\n",
       " 'Back End Java Developer',\n",
       " 'Dev Ops Monitoring Administrator',\n",
       " 'Software Engineer',\n",
       " 'Business Systems Consultant/Analyst (SAP)',\n",
       " 'Business Analyst, Trading Platform',\n",
       " 'Full Stack Developer',\n",
       " 'Computer Vision Software Engineer',\n",
       " 'CRM Solutions Support Assistant',\n",
       " 'Junior Associate, IT, Data Engineer',\n",
       " 'Software Development Engineer, Workforce Optimization',\n",
       " 'Artificial Intelligence Consultant',\n",
       " 'Lead Software Developer (term)',\n",
       " 'Food Scientist',\n",
       " 'Solutions Architect- Elk Stack/Snowflake, GFT',\n",
       " 'React Team Lead',\n",
       " 'Senior Back-End/Core Developer',\n",
       " 'Technical Specialist',\n",
       " 'Manager, Business Intelligence - CID&A',\n",
       " 'Senior Business Systems Analyst',\n",
       " 'Senior Application Developer',\n",
       " 'C20036 - RESEARCH SCIENTIST',\n",
       " 'Intermediate Software Developer',\n",
       " 'Associate Director of Data Science – NLP, LLM and GenAI',\n",
       " 'Manager, Global Retirement Data & Analytics, Investment Products',\n",
       " 'Dev-Ops Developer',\n",
       " 'Audio Stack Developer (C++ & Java)',\n",
       " 'Full Stack Developer',\n",
       " 'Compliance Analyst II, Information Security',\n",
       " 'Sr. Software Developer (Backend)',\n",
       " 'Bilingual Technical Support Representative',\n",
       " 'Software Analyst',\n",
       " 'PL/SQL Developer',\n",
       " 'Microbiology Analyst I - Eurofins Cosmetics and Personal Care Testing, Inc.',\n",
       " 'Data Visualization Solution Architect, Deloitte Global CoRe Digital, Data, Analytics & Innovation',\n",
       " 'Biostatistician II',\n",
       " 'Engineer, Data',\n",
       " 'Odoo Developer',\n",
       " 'Sr Software Developer - Robotic Pick Integrations, Grocery Team',\n",
       " 'Senior Associate Engineer - Cloud',\n",
       " 'Software QA Lead',\n",
       " 'Data Governance Consultant',\n",
       " 'Programmer Analyst (iSeries)',\n",
       " 'Director of IT Operations (Retail)',\n",
       " 'Information Systems’ Manager',\n",
       " 'Project Manager',\n",
       " 'SDET (Software Developer Engineer in Test)',\n",
       " 'Stagiaire cheffe de produit (été 2024) // Product Manager Intern (Summer 2024)',\n",
       " 'Staging and Configuration Technician',\n",
       " 'Full Stack Developer',\n",
       " 'Ingénieure Backend I // Staff Backend Engineer I',\n",
       " 'Scrum Master',\n",
       " 'Software Development Manager',\n",
       " 'Senior Business Analyst',\n",
       " 'Salesforce Administrator/Developer (Hybrid)',\n",
       " 'Principal Applications Engineer',\n",
       " 'IT Support Specialist',\n",
       " 'Artificial Intelligence Consultant',\n",
       " 'Bilingual Technical Support Representative',\n",
       " 'Lead Systems Engineer',\n",
       " 'Specialist Information Security',\n",
       " 'Data engineer - Bigdata/spark/Scala',\n",
       " 'Quality Engineer',\n",
       " 'Developer - Team Lead',\n",
       " 'Director, Customer Data & Solution Architect',\n",
       " 'Software Dev Engineer, Amazon Canada',\n",
       " 'Business Analyst',\n",
       " 'Sr. Full Stack Developer',\n",
       " 'Product Owner – AI Project',\n",
       " 'Laboratory Standard Coordinator',\n",
       " 'MCAT Organic Chemistry Instructor',\n",
       " 'Technical Support Representative (CCNA certification)',\n",
       " 'SR&ED Technical Consultant - Software',\n",
       " 'FSQ Technician',\n",
       " 'Cloud Support Engineer I - Storage and Content Delivery',\n",
       " 'Postdoctoral Researcher: HCI+AI',\n",
       " 'Manager, IT Services',\n",
       " 'Dev/Ops Engineer',\n",
       " 'Intermediate Endpoint Management Specialist',\n",
       " 'IT Support & Cloud Solutions Administrator with SharePoint/Azure Expertise',\n",
       " 'AI Architect',\n",
       " 'Power Platform Administrator',\n",
       " 'Data Center Operations - Data & Analytics Manager',\n",
       " 'Training & Content Developer',\n",
       " 'Senior Statistical Programmer/Analyst (Remote/Onsite)',\n",
       " 'IT Project Manager',\n",
       " 'Artificial Intelligence Consultant',\n",
       " 'Data Governance Consultant',\n",
       " 'Audio Stack Developer (C++ & Java)',\n",
       " 'Python Full Stack Developer',\n",
       " 'Full Stack Developer',\n",
       " 'Sr. Software Developer (Backend)',\n",
       " 'Software Architect',\n",
       " 'QA Technician (3 Month Contract) (Nights)',\n",
       " 'Lead Systems Engineer',\n",
       " 'Senior Business Analyst - Strategy and Analytics',\n",
       " 'Senior Analyst-Decision Support',\n",
       " 'Manager, Cyber Cloud',\n",
       " 'Digitization Assistant (Student)',\n",
       " 'Analyst Settlements',\n",
       " 'System Analyst (AMANDA)',\n",
       " 'Embedded Software Engineer',\n",
       " 'Lead Software Developer',\n",
       " '.NET Core Developer',\n",
       " 'Manager, Product and Business Insights',\n",
       " 'Qlik Administrator',\n",
       " 'Decision Support Lead',\n",
       " 'Technology Teacher K-12',\n",
       " 'DevOps Lead',\n",
       " 'Lead Software Engineer',\n",
       " 'SAS Developer',\n",
       " 'Senior Geospatial Data Scientist',\n",
       " 'Staff SRE Engineer, Product Software',\n",
       " 'AI/ML Platform Product Manager',\n",
       " 'Instructor (Part-time) - Big Data Analytics- S2024',\n",
       " 'Analytical Platform Engineer',\n",
       " 'Software Developer (Backend)',\n",
       " 'Full Stack Developer',\n",
       " 'Technical Regulatory Specialist',\n",
       " 'Digital Verification ASIC Engineer',\n",
       " 'IT Business Partner - Product Owner',\n",
       " 'Senior Software Engineer',\n",
       " 'Solutions Architect',\n",
       " 'Sr. Software Developer',\n",
       " 'Ai/Backend Developer',\n",
       " 'Senior Software Engineer in Test',\n",
       " 'M365 Systems Administrator and Architect',\n",
       " 'Sr. Data Scientist, AI Solutions Delivery',\n",
       " 'Part Time Coding Instructor',\n",
       " 'Enterprise Data Management, Deloitte Global CoRe Digital, Data, Analytics & Innovation Manager',\n",
       " 'IT Project Manager – Transit Systems Implementation',\n",
       " 'Software Engineer',\n",
       " 'Data Governance Consultant',\n",
       " 'Enterprise Data Architect',\n",
       " 'Guideline Development Methodologist',\n",
       " 'Senior Associate Engineer - Data',\n",
       " 'IT Technical Consultant',\n",
       " 'Full Stack Developer, Mobile Development',\n",
       " 'Accessibility Counsellor / Educator',\n",
       " 'Senior Software Development Engineer Test \\ufeff - Toronto',\n",
       " 'Staff Data Scientist',\n",
       " 'Principal Software Developer - Builder',\n",
       " 'Software Developer - Mobile Apps',\n",
       " 'Senior Technical Analyst, ServiceNow, Scotiabank',\n",
       " 'Embedded Software Engineer',\n",
       " 'Senior Customer Success Consultant-AI LLM',\n",
       " 'Intermediate Software Engineer',\n",
       " 'Senior WordPress Developer',\n",
       " 'Software Developer',\n",
       " 'GC-MS/MS Specialist - Eurofins Experchem Laboratories, Inc.',\n",
       " 'Machine Learning Engineer (Pipeline Developer)',\n",
       " 'Lead Data Engineer',\n",
       " 'Administrator, Network and Server (Contract up to 12 Months)',\n",
       " 'Supervisor/Team Lead, (IT Service Management Office)',\n",
       " 'Data Engineer',\n",
       " 'Senior IT Systems Administrator',\n",
       " 'IT Systems Developer',\n",
       " 'Digital Project Manager (eCommerce)',\n",
       " 'Research & Development Utilities Specialist',\n",
       " 'Instructor',\n",
       " 'IS SERVICE DESK ANALYST - INFORMATION TECHNOLOGY- Full-time Permanent',\n",
       " 'Software Engineer',\n",
       " 'Technical Support Representative (CCNA certification)',\n",
       " 'Security Engineer (Hybrid)',\n",
       " 'Research Assistant Level - I',\n",
       " 'Software Engineer',\n",
       " 'Senior Database Java Developer',\n",
       " 'Manager, Application Support',\n",
       " 'Senior Java Developer',\n",
       " 'MES Analyst',\n",
       " 'Software Developer III, Machine Learning, Google Cloud AI',\n",
       " 'Service Desk Analyst - Express Scripts Canada',\n",
       " 'DevOps Engineer',\n",
       " 'Full Stack Engineer',\n",
       " 'Software Engineer - Full Stack',\n",
       " 'Educator',\n",
       " 'IT Support Specialist',\n",
       " 'Artificial Intelligence Consultant',\n",
       " 'Software Developer (Backend)',\n",
       " 'Bilingual Technical Support Representative',\n",
       " 'Software Architect',\n",
       " 'Solution Verifier',\n",
       " 'Senior Software Engineer (React/Python)',\n",
       " 'Scrum Master (One year Term Contract)',\n",
       " 'Product Lead',\n",
       " 'LCMSMS Analyst - Eurofins BioPharma Product Testing Toronto, Inc.',\n",
       " 'Product Data Manager - Data & Analytics',\n",
       " 'Database Architect']"
      ]
     },
     "execution_count": 328,
     "metadata": {},
     "output_type": "execute_result"
    }
   ],
   "source": [
    "job_titles"
   ]
  }
 ],
 "metadata": {
  "kernelspec": {
   "display_name": "Python 3",
   "language": "python",
   "name": "python3"
  },
  "language_info": {
   "codemirror_mode": {
    "name": "ipython",
    "version": 3
   },
   "file_extension": ".py",
   "mimetype": "text/x-python",
   "name": "python",
   "nbconvert_exporter": "python",
   "pygments_lexer": "ipython3",
   "version": "3.7.0"
  }
 },
 "nbformat": 4,
 "nbformat_minor": 5
}
