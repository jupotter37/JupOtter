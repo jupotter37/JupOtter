{
 "cells": [
  {
   "cell_type": "markdown",
   "id": "b8bdd5da",
   "metadata": {},
   "source": [
    "# A Programming Course for Beginners\n",
    "\n",
    "**Programming** means to give instructions to a computer, to make it do what _you_ want. This is way cooler than just using your computer for watching Youtube videos! On the other hand, a computer is dumb. You cannot just \"tell\" it what you want. Computers only understand special \"programming languages\". Learning to program means learning to write what you want the computer to do using a programming language."
   ]
  },
  {
   "cell_type": "markdown",
   "id": "52c21b89",
   "metadata": {},
   "source": [
    "## How Computers Work\n",
    "\n",
    "At the lowest level, your computer consists of \"hardware\", that is a lot of plastic, metal and silicium, operating with electrical power. The most important part of this hardware is a \"Central Processing Unit\" (CPU), that in your computer probably looks very similar to the image below.\n",
    "\n",
    "<img src=\"corei7.jpg\" width=250 />\n",
    "\n",
    "The CPU is what actually \"runs\" programs by executing instructions. The instructions your CPU understands are simply numbers, that are called \"machine code\". For example, a very simple computer could have a machine code instruction to add two numbers, that has the machine code number \"42\". A program that adds 18912 and 82771 would then look like this:\n",
    "\n",
    "    42 18912 82771\n",
    "\n",
    "In the early days of computing, programmers entered machine code into computers by plugging cables, like in the next image, that shows the <a href=\"https://en.wikipedia.org/wiki/ENIAC\">ENIAC</a> computer which was built in 1945. Back then \"programmers\" received not much more appreciation than the people cleaning the office and were paid badly. Guess what? Practically all programmers in the 40s, 50s and 60s where women, and some of them, like <a href=\"https://en.wikipedia.org/wiki/Grace_Hopper\">Grace Hopper</a>, contributed a lot to computer science and software engineering.\n",
    "\n",
    "You can imagine what happened: once it was understood that programming computers is an interesting task, and governments, universities and companies started to pay a lot of money to programmers, men took over, and even today girls and women have a hard time being accepted as programmers and software engineers ... :-(\n",
    "\n",
    "<img src=\"eniac.jpg\" width=\"300\" />\n",
    "\n",
    "Your computer today does exactly the same as ENIAC, just millions and millions of times faster, and it does not need plugged cables and a whole building -- it is perhaps as small as your smartphone.\n",
    "\n",
    "Remembering and writing instruction numbers is obviously somewhat annoying. So people invented \"assembly language\": a simple system of giving names to machine code instrutions. In the image below you see \"machine code\" on the left, the corresponding \"assembly language statements\" on the right, and how the program looks as a sequence of numbers.\n",
    "\n",
    "<img src=\"machinecode.png\" width=\"300\" />\n",
    "\n",
    "All the things your computer does, from displaying Youtube videos to sending messages with WhatsApp and so on, is done by programs that in the end are just numbers.\n",
    "\n",
    "**Excursion**: Some of the numbers have letters A, B, C, D, E and F in them, because computers work with the /hexadecimal/ number system: A stands for 10, B for 11 and so forth. \"Bytes\" are simply numbers with exactly two hexadecimal digits. \"09\" in hexadecimal means 9, \"0B\" means 12, and \"10\" means 16. If that seems weird to you, don't worry: we won't need hexadecimal numbers for this course.\n",
    "\n",
    "Can you guess for at least one of the assembly language statements what it does?"
   ]
  },
  {
   "cell_type": "markdown",
   "id": "3769fdfe",
   "metadata": {},
   "source": [
    "## Python\n",
    "\n",
    "So, assembly language still sucks. Fortunately, people invented higher-level programming languages, that make programming much, much easier. There are hundreds of programming languages, invented for different purposes. <a href=\"https://www.python.org/\">Python</a> is one of them. Python is relatively easy to learn, but powerful enough to do \"real\" things like programming web sites and games, and it is also used by professional programmers, hobbyists, scientists and engineers all over the world. You'll find a lot of information about the Python programming language on the internet.\n",
    "\n",
    "<img src=\"xkcd-difficulty.png\" />\n",
    "\n",
    "A very simple Python program looks like this:\n",
    "\n",
    "```\n",
    "print(\"Hello, world!\")\n",
    "```\n",
    "\n",
    "But how can your \"just-numbers-please\" CPU run Python programs like this? Python itself _is_ a program, that reads a Python program as input and (somehow magically) translates it to machine code instructions that the CPU can execute. "
   ]
  },
  {
   "cell_type": "markdown",
   "id": "ae9cfa29",
   "metadata": {},
   "source": [
    "## Notebooks\n",
    "\n",
    "This course is using Python \"notebooks\" for presenting the course material. _This_ document is a notebook. Python notebooks combine regular text, like this paragraph, and Python code, that appear in \"cells\". Cells are small sections in a notebook, that you can read, modifiy, and move around.\n",
    "\n",
    "The paragraph below with the gray background is a \"code cell\". You can run that code by selecting the code cell (click on it, and there will appear a blue or green bar on the left), and then press SHIFT-ENTER.\n",
    "\n",
    "Have you done that? Good. Look at the ouput that was produced below the code cell. What do you see? Can you imagine how the output relates to the parts of the program?\n",
    "\n",
    "Now _change_ the program by clicking into the code cell and replacing the title ```My first graph!``` with something else. Run the cell again by pressing SHIFT-ENTER. Do you see how your modification changes the output?"
   ]
  },
  {
   "cell_type": "code",
   "execution_count": null,
   "id": "1fd76882",
   "metadata": {},
   "outputs": [],
   "source": [
    "# importing the required module\n",
    "import matplotlib.pyplot as plt\n",
    "  \n",
    "# x axis values\n",
    "x = [1,2,3]\n",
    "# corresponding y axis values\n",
    "y = [2,4,1]\n",
    "  \n",
    "# plotting the points \n",
    "plt.plot(x, y)\n",
    "  \n",
    "# naming the x axis\n",
    "plt.xlabel('x - axis')\n",
    "# naming the y axis\n",
    "plt.ylabel('y - axis')\n",
    "  \n",
    "# giving a title to my graph\n",
    "plt.title('My first graph! (change this)')\n",
    "  \n",
    "# function to show the plot\n",
    "plt.show()"
   ]
  },
  {
   "cell_type": "markdown",
   "id": "f62689d7",
   "metadata": {},
   "source": [
    "# Finally ...\n",
    "Look around on this web page to make yourself comfortable with Python notebooks (which are called \"Jupyter Notebooks\"). Here are some suggestions:\n",
    "\n",
    "* What are the menus on the top doing? Can you move cells around, add new text and code cells?\n",
    "* Can you copy the Python program from above that prints \"Hello, world!\" into a new code cell, and run it?\n",
    "* Can you save your modifications, close the notebook, go back the list of notebooks, and open it again?\n",
    "* Can you find information about Jupyter/Python notebooks on the internet?\n",
    "* Can you log out of the notebook page, and log in again?"
   ]
  },
  {
   "cell_type": "code",
   "execution_count": null,
   "id": "7dd66e29",
   "metadata": {},
   "outputs": [],
   "source": []
  }
 ],
 "metadata": {
  "kernelspec": {
   "display_name": "Python 3",
   "language": "python",
   "name": "python3"
  },
  "language_info": {
   "codemirror_mode": {
    "name": "ipython",
    "version": 3
   },
   "file_extension": ".py",
   "mimetype": "text/x-python",
   "name": "python",
   "nbconvert_exporter": "python",
   "pygments_lexer": "ipython3",
   "version": "3.7.3"
  }
 },
 "nbformat": 4,
 "nbformat_minor": 5
}
