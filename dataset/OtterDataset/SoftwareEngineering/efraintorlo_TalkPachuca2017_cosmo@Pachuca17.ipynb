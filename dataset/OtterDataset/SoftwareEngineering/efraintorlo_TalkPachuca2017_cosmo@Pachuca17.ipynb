{
 "cells": [
  {
   "cell_type": "markdown",
   "metadata": {
    "slideshow": {
     "slide_type": "slide"
    }
   },
   "source": [
    "<div style='color:#F6CC04 !important; background-color: #1C2227; padding:20px; border-radius: 25px; text-align:center;'>\n",
    "<h1 style='color:#F6CC04 !important;'> \n",
    "  On the numeric life in Cosmology and Particle Physics\n",
    "</h1>\n",
    "<h2 style='color: #e64a4a'> Pachuca 2017 </h2>\n",
    "</div>\n",
    "\n",
    "--- \n",
    "\n",
    "\n",
    "<div style='color:#1C2227; background-color: #e64a4a; padding:20px; border-radius: 25px; text-align:center;'>\n",
    "\n",
    "<h2 style='color:#1C2227;'> \"The every-day-work for a modern theoretical physicist is about software engineering, statistics and data mining\"</h2>\n",
    "\n",
    "</div>\n",
    "\n",
    "<div style='color:#1C2227; padding:20px; border-radius: 25px; text-align:center;'>\n",
    "\n",
    "<h1> (or the `Python` vs `C++` war in science) </h1>\n",
    "\n",
    "</div>\n",
    "\n",
    "**Author:** Efrain Torres-Lomas\n",
    "\n",
    "**Email:**  efrain@fisica.ugto.mx\n",
    "\n",
    "**Date:**   Jan 2017"
   ]
  },
  {
   "cell_type": "code",
   "execution_count": null,
   "metadata": {
    "collapsed": true,
    "slideshow": {
     "slide_type": "skip"
    }
   },
   "outputs": [],
   "source": []
  },
  {
   "cell_type": "markdown",
   "metadata": {
    "slideshow": {
     "slide_type": "slide"
    }
   },
   "source": [
    "<div style='color:#1C2227; background-color: #e64a4a; padding:20px;  padding:20px; border-radius: 25px; text-align:center;'>\n",
    "\n",
    "<h2 style='color:#1C2227;'>   How important are programming skills in Cosmology and Particle Physics: Two (three) simple examples. </h2>\n",
    "\n",
    "</div>"
   ]
  },
  {
   "cell_type": "markdown",
   "metadata": {
    "collapsed": false,
    "slideshow": {
     "slide_type": "subslide"
    }
   },
   "source": [
    "##  Examples:\n",
    "\n",
    "### 1. Cosmology case: Supernovea \n",
    "\n",
    "### 2. Particle Physics: PyROOT"
   ]
  },
  {
   "cell_type": "markdown",
   "metadata": {
    "slideshow": {
     "slide_type": "subslide"
    }
   },
   "source": [
    "# $\\oint$"
   ]
  },
  {
   "cell_type": "markdown",
   "metadata": {
    "slideshow": {
     "slide_type": "slide"
    }
   },
   "source": [
    "# References\n",
    "\n",
    "1. [http://lorenabarba.com/blog/why-i-push-for-python/](http://lorenabarba.com/blog/why-i-push-for-python/)\n",
    "\n",
    "<img src=\"./img/keep-calm-and-code-python_BW.png\" alt=\"Image Test\" style=\"width:200px\">\n"
   ]
  },
  {
   "cell_type": "code",
   "execution_count": null,
   "metadata": {
    "collapsed": true
   },
   "outputs": [],
   "source": []
  }
 ],
 "metadata": {
  "celltoolbar": "Slideshow",
  "kernelspec": {
   "display_name": "Python 3",
   "language": "python",
   "name": "python3"
  },
  "language_info": {
   "codemirror_mode": {
    "name": "ipython",
    "version": 3
   },
   "file_extension": ".py",
   "mimetype": "text/x-python",
   "name": "python",
   "nbconvert_exporter": "python",
   "pygments_lexer": "ipython3",
   "version": "3.6.0"
  }
 },
 "nbformat": 4,
 "nbformat_minor": 1
}
