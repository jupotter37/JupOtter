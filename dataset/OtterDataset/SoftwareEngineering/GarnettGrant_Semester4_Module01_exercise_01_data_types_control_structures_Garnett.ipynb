{
  "cells": [
    {
      "cell_type": "markdown",
      "metadata": {
        "colab_type": "text",
        "id": "view-in-github"
      },
      "source": [
        "<a href=\"https://colab.research.google.com/github/GarnettGrant/Semester4/blob/COMP216/Module01_exercise_01_data_types_control_structures.ipynb\" target=\"_parent\"><img src=\"https://colab.research.google.com/assets/colab-badge.svg\" alt=\"Open In Colab\"/></a>"
      ]
    },
    {
      "cell_type": "code",
      "execution_count": null,
      "metadata": {
        "id": "y8VOh811A9bE"
      },
      "outputs": [],
      "source": [
        "#@title COMP216 Lab exercise 1.\n",
        "# Please save this notebook as your name\n",
        "#\n",
        "# Please insert your name, student number, course and date\n",
        "# is the proper spots below.\n",
        "#\n",
        "# copyrights Narendra Pershad\n",
        "#"
      ]
    },
    {
      "cell_type": "markdown",
      "metadata": {
        "id": "Fq8nbpafpY0U"
      },
      "source": [
        "**Name: Garnett\n",
        "Sid: 301188923\n",
        "Course: COMP216-401  \n",
        "Date: 12 Jan 2024**  \n",
        "\n",
        "---\n",
        "\n",
        "##Instructions\n",
        "1. Complete the exercises as far as you possibly can\n",
        "2. Rename the workbook to your first name  \n",
        "3. Make sure that the notebook is shareable\n",
        "4. Upload a link to the Assessment folder in brightspace  \n",
        "5. You code must work even if the original variable changes\n",
        "---\n",
        "If you leave the notebook and/or start working at mid-way in the notebook, you will have to execute the first cell again to re-load the variable etc.\n",
        "##Questions:\n",
        "- [Working with Tuples](#tuple)\n",
        "- [Working with Lists](#list)\n",
        "- [Working with Dictionaries](#dict)\n",
        "- [Conversions between Collections](#conversion)\n",
        "- [Iterate a collection](#iterate)\n",
        "- [Using the enumerate function](#enumerate)\n",
        "\n"
      ]
    },
    {
      "cell_type": "markdown",
      "metadata": {
        "id": "2oaEJMH7QP8f"
      },
      "source": [
        "##1. <a name=\"tuple\"></a>Working with tuples [6 Marks]\n",
        "Because a tuple is immutable, methods like add(), remove(), pop() does not exist for tuples"
      ]
    },
    {
      "cell_type": "code",
      "execution_count": 1,
      "metadata": {
        "id": "a_L-qS0vKURp"
      },
      "outputs": [],
      "source": [
        "#imports and variables\n",
        "from random import randint\n",
        "\n",
        "#the following variable will be used in the rest of the exercise\n",
        "pm = 'justin pierre james trudeau'\n",
        "instructor = 'narendra pershad'\n",
        "harry = \"You've gotta ask yourself a question: do I feel lucky? …well, do ya, punk?\"\n",
        "numbers = [randint(5, 10) for _ in range(20)]\n"
      ]
    },
    {
      "cell_type": "code",
      "execution_count": 25,
      "metadata": {
        "id": "WGSZ9yrHRFV_"
      },
      "outputs": [
        {
          "name": "stdout",
          "output_type": "stream",
          "text": [
            "<class 'tuple'>\n",
            "('justin', 'pierre', 'james', 'trudeau')\n",
            " \n",
            "<class 'tuple'>\n",
            "('j', 'u', 's', 't', 'i', 'n', ' ', 'p', 'i', 'e', 'r', 'r', 'e', ' ', 'j', 'a', 'm', 'e', 's', ' ', 't', 'r', 'u', 'd', 'e', 'a', 'u')\n"
          ]
        }
      ],
      "source": [
        "# - 1 mark\n",
        "# Use the tuple constructor to create a tuple from the variable pm and print it\n",
        "\n",
        "#Tuple divded by the Word\n",
        "a = tuple(pm.split(' '))\n",
        "print(type(a))\n",
        "print(a)\n",
        "\n",
        "#divider\n",
        "print(' ')\n",
        "\n",
        "# Tuple Divded by the Letter\n",
        "b = tuple(pm)\n",
        "print(type(b))\n",
        "print(b)"
      ]
    },
    {
      "cell_type": "code",
      "execution_count": 37,
      "metadata": {
        "id": "GTtqEpSJSghH"
      },
      "outputs": [
        {
          "name": "stdout",
          "output_type": "stream",
          "text": [
            "There are 4 \"e's\" in the tuple\n",
            "Letter \"a\" can be found at Index: 15 of the tuple\n",
            "There are 27 elements in the tuple\n"
          ]
        }
      ],
      "source": [
        "# - 3 marks\n",
        "# write the statement to produced the following lines of output\n",
        "\n",
        "## There are 4 e's in the tuple                   #use the count() method\n",
        "e_count = b.count('e')\n",
        "print(f\"There are {e_count} \\\"e's\\\" in the tuple\")\n",
        "\n",
        "## You can find a at index 15 of the tuple        #use the index() method\n",
        "index_15 = b.index('a')\n",
        "print(f\"Letter \\\"a\\\" can be found at Index: {index_15} of the tuple\")\n",
        "\n",
        "## There are 27 elements in the tuple             #use the len() function\n",
        "element_count = len(b)\n",
        "print(f\"There are {element_count} elements in the tuple\")\n",
        "\n",
        "\n",
        "\n"
      ]
    },
    {
      "cell_type": "code",
      "execution_count": 39,
      "metadata": {
        "id": "CM_JupCbXjyy"
      },
      "outputs": [
        {
          "name": "stdout",
          "output_type": "stream",
          "text": [
            "j u ['s', 't', 'i', 'n', ' ', 'p', 'i', 'e', 'r', 'r', 'e', ' ', 'j', 'a', 'm', 'e', 's', ' ', 't', 'r', 'u', 'd', 'e', 'a', 'u']\n"
          ]
        }
      ],
      "source": [
        "# - 1 mark\n",
        "# use decomposition to print the first, second and the rest of the elements of your tuple\n",
        "decomposition = b\n",
        "first, second, *rest = decomposition\n",
        "print(first, second, rest)\n"
      ]
    },
    {
      "cell_type": "code",
      "execution_count": 40,
      "metadata": {
        "id": "WC-6oIaBYMoQ"
      },
      "outputs": [
        {
          "name": "stdout",
          "output_type": "stream",
          "text": [
            "s\n",
            "i\n"
          ]
        }
      ],
      "source": [
        "# - 1 mark\n",
        "# use array-like indexing to print the third and fifth element of your tuple\n",
        "print(b[2])\n",
        "print(b[4])\n"
      ]
    },
    {
      "cell_type": "markdown",
      "metadata": {
        "id": "wwfdU9TB440D"
      },
      "source": [
        "##2. <a name=\"list\"></a>Working with list [10 Marks]"
      ]
    },
    {
      "cell_type": "code",
      "execution_count": 17,
      "metadata": {
        "id": "121JIXl2qXtT"
      },
      "outputs": [
        {
          "name": "stdout",
          "output_type": "stream",
          "text": [
            "[\"You've\", 'gotta', 'ask', 'yourself', 'a', 'question:', 'do', 'I', 'feel', 'lucky?', '…well,', 'do', 'ya,', 'punk?']\n"
          ]
        }
      ],
      "source": [
        "# - 1 mark\n",
        "# Use the list constructor to create a list from the variable 'harry' using the split() method\n",
        "# of the string class and print it\n",
        "my_list = harry.split(' ')\n",
        "print(my_list)\n"
      ]
    },
    {
      "cell_type": "code",
      "execution_count": 18,
      "metadata": {
        "id": "lfNTrz6arJWc"
      },
      "outputs": [
        {
          "name": "stdout",
          "output_type": "stream",
          "text": [
            "[\"You've\", 'gotta', 'ask', 'yourself', 'a', 'question:', 'do', 'I', 'feel', 'lucky?', '…well,', 'do', 'ya,', 'punk?', 'Eastwood']\n",
            "['Clint', \"You've\", 'gotta', 'ask', 'yourself', 'a', 'question:', 'do', 'I', 'feel', 'lucky?', '…well,', 'do', 'ya,', 'punk?', 'Eastwood']\n",
            "['Clint', \"You've\", 'gotta', 'ask', 'yourself', 'a', 'do', 'I', 'feel', 'lucky?', '…well,', 'do', 'ya,', 'punk?', 'Eastwood']\n",
            "['Clint', \"You've\", 'gotta', 'ask', 'yourself', 'a', 'do', 'I', 'feel', 'lucky?', '…well,', 'do', 'ya,', 'punk?', 'Eastwood', 'Dirty', 'Harry']\n"
          ]
        }
      ],
      "source": [
        "# - 4 marks\n",
        "# use the append() method once to add 'Eastwood' to the end of the  list\n",
        "my_list.append('Eastwood')\n",
        "print(my_list)\n",
        "\n",
        "# use the insert() method to add 'Clint' at the start of the  list\n",
        "my_list.insert(0,'Clint')\n",
        "print(my_list)\n",
        "# use the remove() method to remove 'question' from the list\n",
        "my_list.remove('question:')\n",
        "print(my_list)\n",
        "# use the extend() method to add 'Dirty' and 'Harry' to the end of the list\n",
        "my_list.extend(['Dirty'])\n",
        "my_list.extend(['Harry'])\n",
        "# print the final list\n",
        "print(my_list)\n"
      ]
    },
    {
      "cell_type": "code",
      "execution_count": 19,
      "metadata": {
        "id": "K-sKKdxPsbW8"
      },
      "outputs": [
        {
          "name": "stdout",
          "output_type": "stream",
          "text": [
            "['Clint', 'Dirty', 'Eastwood', 'Harry', 'I', \"You've\", 'a', 'ask', 'do', 'do', 'feel', 'gotta', 'lucky?', 'punk?', 'ya,', 'yourself', '…well,']\n",
            "['…well,', 'yourself', 'ya,', 'punk?', 'lucky?', 'gotta', 'feel', 'do', 'do', 'ask', 'a', \"You've\", 'I', 'Harry', 'Eastwood', 'Dirty', 'Clint']\n"
          ]
        }
      ],
      "source": [
        "# - 2 marks\n",
        "# use the sort() method to order the  list\n",
        "my_list.sort()\n",
        "\n",
        "# print the list\n",
        "print(my_list)\n",
        "\n",
        "# use the reverse() method to reverse the list\n",
        "my_list.reverse()\n",
        "\n",
        "# print the final list\n",
        "print(my_list)\n",
        "\n"
      ]
    },
    {
      "cell_type": "code",
      "execution_count": 22,
      "metadata": {
        "id": "SZORK7R4tZWj"
      },
      "outputs": [
        {
          "name": "stdout",
          "output_type": "stream",
          "text": [
            "There are 2 do's in the list\n",
            "\"Ask\" can be found at index 9\n",
            "There are 17 elements in the list\n"
          ]
        }
      ],
      "source": [
        "# - 3 mark\n",
        "# write the statement to produced the following lines of output\n",
        "\n",
        "## There are 2 do's in the list\n",
        "do_count = my_list.count('do')\n",
        "print(f\"There are {do_count} do's in the list\")\n",
        "\n",
        "## You can find \"ask\" at index 9 of the list\n",
        "index_position = my_list.index('ask')\n",
        "print(f'\"Ask\" can be found at index {index_position}')\n",
        "\n",
        "## There are 17 elements in the list\n",
        "my_list_element_count = len(my_list)\n",
        "print(f'There are {my_list_element_count} elements in the list')\n",
        "\n"
      ]
    },
    {
      "cell_type": "markdown",
      "metadata": {
        "id": "euby2eba0kWr"
      },
      "source": [
        "##3. <a name=\"dic\"></a>Working with dictionary [4 Marks]"
      ]
    },
    {
      "cell_type": "code",
      "execution_count": 25,
      "metadata": {
        "id": "_8bhodZDy3QU"
      },
      "outputs": [],
      "source": [
        "#use the following dictionary for your exercises\n",
        "d = {\n",
        "    3462: 'Artificial Intelligence',\n",
        "    3468: 'Software Engineering Technician',\n",
        "    3469: 'Software Engineering Technology',\n",
        "    3472: 'Artificial Intelligence (FT)',\n",
        "    3478: 'Software Engineering Technician (FT)',\n",
        "    3528: 'Health Informatics Technology (FT)',\n",
        "    3609: 'Game - Programming',\n",
        "    3668: 'Health Informatics Technology',\n",
        "    3679: 'Game - Programming (FT)'}\n"
      ]
    },
    {
      "cell_type": "code",
      "execution_count": 32,
      "metadata": {
        "id": "4tdwer_42A6D"
      },
      "outputs": [
        {
          "name": "stdout",
          "output_type": "stream",
          "text": [
            "{3462: 'Artificial Intelligence', 3468: 'Software Engineering Technician', 3469: 'Software Engineering Technology', 3472: 'Artificial Intelligence (FT)', 3478: 'Software Engineering Technician (FT)', 3528: 'Health Informatics Technology (FT)', 3609: 'Game - Programming', 3668: 'Health Informatics Technology', 3679: 'Game - Programming (FT)'}\n"
          ]
        }
      ],
      "source": [
        "# - 1 mark\n",
        "# display the dictionary\n",
        "d\n",
        "# or \n",
        "print(d)\n",
        "\n"
      ]
    },
    {
      "cell_type": "code",
      "execution_count": 34,
      "metadata": {
        "id": "vwTwWh5j3wmb"
      },
      "outputs": [
        {
          "name": "stdout",
          "output_type": "stream",
          "text": [
            "dict_keys([3462, 3468, 3469, 3472, 3478, 3528, 3609, 3668, 3679])\n",
            "dict_values(['Artificial Intelligence', 'Software Engineering Technician', 'Software Engineering Technology', 'Artificial Intelligence (FT)', 'Software Engineering Technician (FT)', 'Health Informatics Technology (FT)', 'Game - Programming', 'Health Informatics Technology', 'Game - Programming (FT)'])\n"
          ]
        }
      ],
      "source": [
        "# - 1 mark\n",
        "# use the keys() and values() method to display the keys and values\n",
        "print(d.keys())\n",
        "print(d.values())\n"
      ]
    },
    {
      "cell_type": "code",
      "execution_count": 42,
      "metadata": {
        "id": "ExUGyOP--_wM"
      },
      "outputs": [
        {
          "name": "stdout",
          "output_type": "stream",
          "text": [
            "Artificial Intelligence\n",
            "Artificial Intelligence\n",
            "None\n"
          ]
        }
      ],
      "source": [
        "# - 2 mark\n",
        "# Use the key-index technique to retrieve the name of program 3462\n",
        "print(d[3462])\n",
        "\n",
        "\n",
        "# Use the get() method to retrieve the name of program 3462\n",
        "print(d.get(3462))\n",
        "\n",
        "# It there a difference?\n",
        "# There is a difference: \n",
        "###### When using key-index technique, if you enter an invalid index number, the system will throw an error.\n",
        "###### When using the get method, if you enter an invalid index number, the system will handle the error and return None.\n"
      ]
    },
    {
      "cell_type": "markdown",
      "metadata": {
        "id": "VOKj50Y3iWXq"
      },
      "source": [
        "##4. <a name=\"conversion\"></a>Converting from one collection to another [7.5 Marks]\n",
        "There is free inter-conversions except for dictionary"
      ]
    },
    {
      "cell_type": "code",
      "execution_count": 43,
      "metadata": {
        "id": "2tnfcAeTjWma"
      },
      "outputs": [
        {
          "name": "stdout",
          "output_type": "stream",
          "text": [
            "('j', 'u', 's', 't', 'i', 'n', ' ', 'p', 'i', 'e', 'r', 'r', 'e', ' ', 'j', 'a', 'm', 'e', 's', ' ', 't', 'r', 'u', 'd', 'e', 'a', 'u')\n",
            "('Y', 'o', 'u', \"'\", 'v', 'e', ' ', 'g', 'o', 't', 't', 'a', ' ', 'a', 's', 'k', ' ', 'y', 'o', 'u', 'r', 's', 'e', 'l', 'f', ' ', 'a', ' ', 'q', 'u', 'e', 's', 't', 'i', 'o', 'n', ':', ' ', 'd', 'o', ' ', 'I', ' ', 'f', 'e', 'e', 'l', ' ', 'l', 'u', 'c', 'k', 'y', '?', ' ', '…', 'w', 'e', 'l', 'l', ',', ' ', 'd', 'o', ' ', 'y', 'a', ',', ' ', 'p', 'u', 'n', 'k', '?')\n",
            "(3462, 3468, 3469, 3472, 3478, 3528, 3609, 3668, 3679)\n"
          ]
        }
      ],
      "source": [
        "# - 2.5 marks\n",
        "# Use the constructor to obtain a tuple from each of the three previous collections\n",
        "x = tuple(pm)\n",
        "y = tuple(harry)\n",
        "z = tuple(d)\n",
        "# (parts 1, 3 and 4) and print them.\n",
        "print(x)\n",
        "print(y)\n",
        "print(z)\n",
        "# Again, notice the iterator variable the dictionary loop represents only the key\n",
        "\n"
      ]
    },
    {
      "cell_type": "code",
      "execution_count": 44,
      "metadata": {
        "id": "MTFoztohjmJ0"
      },
      "outputs": [
        {
          "name": "stdout",
          "output_type": "stream",
          "text": [
            "['j', 'u', 's', 't', 'i', 'n', ' ', 'p', 'i', 'e', 'r', 'r', 'e', ' ', 'j', 'a', 'm', 'e', 's', ' ', 't', 'r', 'u', 'd', 'e', 'a', 'u']\n",
            "['Y', 'o', 'u', \"'\", 'v', 'e', ' ', 'g', 'o', 't', 't', 'a', ' ', 'a', 's', 'k', ' ', 'y', 'o', 'u', 'r', 's', 'e', 'l', 'f', ' ', 'a', ' ', 'q', 'u', 'e', 's', 't', 'i', 'o', 'n', ':', ' ', 'd', 'o', ' ', 'I', ' ', 'f', 'e', 'e', 'l', ' ', 'l', 'u', 'c', 'k', 'y', '?', ' ', '…', 'w', 'e', 'l', 'l', ',', ' ', 'd', 'o', ' ', 'y', 'a', ',', ' ', 'p', 'u', 'n', 'k', '?']\n",
            "[3462, 3468, 3469, 3472, 3478, 3528, 3609, 3668, 3679]\n"
          ]
        }
      ],
      "source": [
        "# - 2.5 marks\n",
        "# Use the constructor to obtain a list from each of the three previous collections\n",
        "g = list(pm)\n",
        "h = list(harry)\n",
        "i = list(d)\n",
        "# (parts 1, 2 and 4) and print them.\n",
        "print(g)\n",
        "print(h)\n",
        "print(i)\n"
      ]
    },
    {
      "cell_type": "markdown",
      "metadata": {
        "id": "LE9UmvppKbDg"
      },
      "source": [
        "##5. <a name=\"iterate\"></a>Iterating a collection [4 Marks]\n",
        "The for-in loop facilates iterating a collection"
      ]
    },
    {
      "cell_type": "code",
      "execution_count": 48,
      "metadata": {
        "id": "z5ABdjvpKufk"
      },
      "outputs": [
        {
          "name": "stdout",
          "output_type": "stream",
          "text": [
            "Tuple\n",
            "\n",
            "j\n",
            "u\n",
            "s\n",
            "t\n",
            "i\n",
            "n\n",
            " \n",
            "p\n",
            "i\n",
            "e\n",
            "r\n",
            "r\n",
            "e\n",
            " \n",
            "j\n",
            "a\n",
            "m\n",
            "e\n",
            "s\n",
            " \n",
            "t\n",
            "r\n",
            "u\n",
            "d\n",
            "e\n",
            "a\n",
            "u\n",
            "\n",
            "List\n",
            "\n",
            "Y\n",
            "o\n",
            "u\n",
            "'\n",
            "v\n",
            "e\n",
            " \n",
            "g\n",
            "o\n",
            "t\n",
            "t\n",
            "a\n",
            " \n",
            "a\n",
            "s\n",
            "k\n",
            " \n",
            "y\n",
            "o\n",
            "u\n",
            "r\n",
            "s\n",
            "e\n",
            "l\n",
            "f\n",
            " \n",
            "a\n",
            " \n",
            "q\n",
            "u\n",
            "e\n",
            "s\n",
            "t\n",
            "i\n",
            "o\n",
            "n\n",
            ":\n",
            " \n",
            "d\n",
            "o\n",
            " \n",
            "I\n",
            " \n",
            "f\n",
            "e\n",
            "e\n",
            "l\n",
            " \n",
            "l\n",
            "u\n",
            "c\n",
            "k\n",
            "y\n",
            "?\n",
            " \n",
            "…\n",
            "w\n",
            "e\n",
            "l\n",
            "l\n",
            ",\n",
            " \n",
            "d\n",
            "o\n",
            " \n",
            "y\n",
            "a\n",
            ",\n",
            " \n",
            "p\n",
            "u\n",
            "n\n",
            "k\n",
            "?\n",
            "\n",
            "Dictionary\n",
            "\n",
            "3462\n",
            "3468\n",
            "3469\n",
            "3472\n",
            "3478\n",
            "3528\n",
            "3609\n",
            "3668\n",
            "3679\n"
          ]
        }
      ],
      "source": [
        "# - 4 mark\n",
        "# Use a for-in loop to print each of the previous collection: tuple, list and dict\n",
        "print('Tuple\\n')\n",
        "for r in pm:\n",
        "    print(r)\n",
        "\n",
        "print('\\nList\\n')\n",
        "for u in h:\n",
        "    print(u)\n",
        "\n",
        "print('\\nDictionary\\n')\n",
        "for v in d:\n",
        "    print(v)\n",
        "# Notice the iterator variable the dictionary loop represents only the key\n",
        "\n"
      ]
    },
    {
      "cell_type": "code",
      "execution_count": 64,
      "metadata": {
        "id": "hbK7KS7Q2MEd"
      },
      "outputs": [
        {
          "name": "stdout",
          "output_type": "stream",
          "text": [
            " \n",
            "<enumerate object at 0x0000023849BC3440>\n",
            "Position: 0, Item: j\n",
            "Position: 1, Item: u\n",
            "Position: 2, Item: s\n",
            "Position: 3, Item: t\n",
            "Position: 4, Item: i\n",
            "Position: 5, Item: n\n",
            "Position: 6, Item:  \n",
            "Position: 7, Item: p\n",
            "Position: 8, Item: i\n",
            "Position: 9, Item: e\n",
            "Position: 10, Item: r\n",
            "Position: 11, Item: r\n",
            "Position: 12, Item: e\n",
            "Position: 13, Item:  \n",
            "Position: 14, Item: j\n",
            "Position: 15, Item: a\n",
            "Position: 16, Item: m\n",
            "Position: 17, Item: e\n",
            "Position: 18, Item: s\n",
            "Position: 19, Item:  \n",
            "Position: 20, Item: t\n",
            "Position: 21, Item: r\n",
            "Position: 22, Item: u\n",
            "Position: 23, Item: d\n",
            "Position: 24, Item: e\n",
            "Position: 25, Item: a\n",
            "Position: 26, Item: u\n",
            " \n",
            "<enumerate object at 0x0000023849BC3940>\n",
            "Position: 0, Item: Y\n",
            "Position: 1, Item: o\n",
            "Position: 2, Item: u\n",
            "Position: 3, Item: '\n",
            "Position: 4, Item: v\n",
            "Position: 5, Item: e\n",
            "Position: 6, Item:  \n",
            "Position: 7, Item: g\n",
            "Position: 8, Item: o\n",
            "Position: 9, Item: t\n",
            "Position: 10, Item: t\n",
            "Position: 11, Item: a\n",
            "Position: 12, Item:  \n",
            "Position: 13, Item: a\n",
            "Position: 14, Item: s\n",
            "Position: 15, Item: k\n",
            "Position: 16, Item:  \n",
            "Position: 17, Item: y\n",
            "Position: 18, Item: o\n",
            "Position: 19, Item: u\n",
            "Position: 20, Item: r\n",
            "Position: 21, Item: s\n",
            "Position: 22, Item: e\n",
            "Position: 23, Item: l\n",
            "Position: 24, Item: f\n",
            "Position: 25, Item:  \n",
            "Position: 26, Item: a\n",
            "Position: 27, Item:  \n",
            "Position: 28, Item: q\n",
            "Position: 29, Item: u\n",
            "Position: 30, Item: e\n",
            "Position: 31, Item: s\n",
            "Position: 32, Item: t\n",
            "Position: 33, Item: i\n",
            "Position: 34, Item: o\n",
            "Position: 35, Item: n\n",
            "Position: 36, Item: :\n",
            "Position: 37, Item:  \n",
            "Position: 38, Item: d\n",
            "Position: 39, Item: o\n",
            "Position: 40, Item:  \n",
            "Position: 41, Item: I\n",
            "Position: 42, Item:  \n",
            "Position: 43, Item: f\n",
            "Position: 44, Item: e\n",
            "Position: 45, Item: e\n",
            "Position: 46, Item: l\n",
            "Position: 47, Item:  \n",
            "Position: 48, Item: l\n",
            "Position: 49, Item: u\n",
            "Position: 50, Item: c\n",
            "Position: 51, Item: k\n",
            "Position: 52, Item: y\n",
            "Position: 53, Item: ?\n",
            "Position: 54, Item:  \n",
            "Position: 55, Item: …\n",
            "Position: 56, Item: w\n",
            "Position: 57, Item: e\n",
            "Position: 58, Item: l\n",
            "Position: 59, Item: l\n",
            "Position: 60, Item: ,\n",
            "Position: 61, Item:  \n",
            "Position: 62, Item: d\n",
            "Position: 63, Item: o\n",
            "Position: 64, Item:  \n",
            "Position: 65, Item: y\n",
            "Position: 66, Item: a\n",
            "Position: 67, Item: ,\n",
            "Position: 68, Item:  \n",
            "Position: 69, Item: p\n",
            "Position: 70, Item: u\n",
            "Position: 71, Item: n\n",
            "Position: 72, Item: k\n",
            "Position: 73, Item: ?\n",
            " \n",
            "<enumerate object at 0x00000238499C2F80>\n",
            "Position: 0, Item: 3462\n",
            "Position: 1, Item: 3468\n",
            "Position: 2, Item: 3469\n",
            "Position: 3, Item: 3472\n",
            "Position: 4, Item: 3478\n",
            "Position: 5, Item: 3528\n",
            "Position: 6, Item: 3609\n",
            "Position: 7, Item: 3668\n",
            "Position: 8, Item: 3679\n"
          ]
        }
      ],
      "source": [
        "# - 4 mark\n",
        "# use the enumerate function to print each collection: tuple, list and dict\n",
        "# You must print both the position and the item in the collection\n",
        "\n",
        "q = enumerate(x)\n",
        "print(' ')\n",
        "print(q)\n",
        "for position1,item1 in (q):\n",
        "    print(f'Position: {position1}, Item: {item1}')\n",
        "\n",
        "w = enumerate(h)\n",
        "print(' ')\n",
        "print(w)\n",
        "for position2,item2 in (w):\n",
        "    print(f'Position: {position2}, Item: {item2}')\n",
        "\n",
        "e = enumerate(d)\n",
        "print(' ')\n",
        "print(e)\n",
        "for position3,item3 in (e):\n",
        "    print(f'Position: {position3}, Item: {item3}')\n",
        "\n",
        "\n",
        "\n"
      ]
    },
    {
      "cell_type": "markdown",
      "metadata": {
        "id": "nKfxb9CFvqD8"
      },
      "source": [
        "# <a name=\"enumerate\"></a>6. Using the enumerate function [8 Marks]\n",
        "This function can enumerate both sequences like tuples, strings and lists as well as mappings like dictionaries  \n",
        "The enumerate function returns a collection of tuples.  \n",
        "Each tuples is a pair comprising of the index and the value."
      ]
    },
    {
      "cell_type": "code",
      "execution_count": 70,
      "metadata": {
        "id": "FjcZLRgMOQDL"
      },
      "outputs": [
        {
          "name": "stdout",
          "output_type": "stream",
          "text": [
            "(0, (3462, 'Artificial Intelligence'))\n",
            "(1, (3468, 'Software Engineering Technician'))\n",
            "(2, (3469, 'Software Engineering Technology'))\n",
            "(3, (3472, 'Artificial Intelligence (FT)'))\n",
            "(4, (3478, 'Software Engineering Technician (FT)'))\n",
            "(5, (3528, 'Health Informatics Technology (FT)'))\n",
            "(6, (3609, 'Game - Programming'))\n",
            "(7, (3668, 'Health Informatics Technology'))\n",
            "(8, (3679, 'Game - Programming (FT)'))\n"
          ]
        }
      ],
      "source": [
        "# - 4 mark\n",
        "# Use the items() method of the dict class to enumerate a dictionary\n",
        "for t in enumerate(d.items()):\n",
        "    print(t)\n",
        "# You must print the position, the key and the value\n"
      ]
    },
    {
      "cell_type": "markdown",
      "metadata": {
        "id": "MW2ZblQuMkn-"
      },
      "source": []
    }
  ],
  "metadata": {
    "colab": {
      "include_colab_link": true,
      "provenance": []
    },
    "kernelspec": {
      "display_name": "Python 3",
      "name": "python3"
    },
    "language_info": {
      "codemirror_mode": {
        "name": "ipython",
        "version": 3
      },
      "file_extension": ".py",
      "mimetype": "text/x-python",
      "name": "python",
      "nbconvert_exporter": "python",
      "pygments_lexer": "ipython3",
      "version": "3.8.8"
    }
  },
  "nbformat": 4,
  "nbformat_minor": 0
}
