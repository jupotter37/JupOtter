{
 "cells": [
  {
   "cell_type": "code",
   "execution_count": 1,
   "metadata": {},
   "outputs": [],
   "source": [
    "from bs4 import BeautifulSoup as soup\n",
    "from urllib.request import urlopen as ureq\n",
    "from selenium import webdriver\n",
    "import time\n",
    "import re"
   ]
  },
  {
   "cell_type": "code",
   "execution_count": 2,
   "metadata": {},
   "outputs": [],
   "source": [
    "url = \"https://www.westerncalendar.uwo.ca/Modules.cfm?ModuleID=21289&SelectedCalendar=Live&ArchiveID=\""
   ]
  },
  {
   "cell_type": "code",
   "execution_count": 3,
   "metadata": {},
   "outputs": [],
   "source": [
    "chrome_options = webdriver.ChromeOptions()\n",
    "chrome_options.add_argument('--ignore-certificate-errors')\n",
    "chrome_options.add_argument('--incognito')\n",
    "chrome_options.add_argument('--headless')\n",
    "\n",
    "driver = webdriver.Chrome(\"C:\\\\Users\\\\jerry\\\\Downloads\\\\chromedriver\", options=chrome_options)"
   ]
  },
  {
   "cell_type": "code",
   "execution_count": 4,
   "metadata": {},
   "outputs": [],
   "source": [
    "driver.get(url)"
   ]
  },
  {
   "cell_type": "markdown",
   "metadata": {},
   "source": [
    "# 1. Collect all course link texts for webdriver to click on"
   ]
  },
  {
   "cell_type": "code",
   "execution_count": 5,
   "metadata": {},
   "outputs": [],
   "source": [
    "page_soup = soup(driver.page_source, 'lxml')"
   ]
  },
  {
   "cell_type": "code",
   "execution_count": 8,
   "metadata": {
    "scrolled": true
   },
   "outputs": [
    {
     "data": {
      "text/plain": [
       "<div class=\"admInfo\" id=\"AdmissionRequirements\">\n",
       "<p>Students entering the Mechanical Engineering program must have completed the entire first year program in Engineering, with no outstanding credits to be taken, and have a Year Weighted Average (YWA) of at least 60%. First consideration will be given to applicants with a minimum grade of 60% in each of the following courses: <a href=\"Courses.cfm?CourseAcadCalendarID=MAIN_005157_1&amp;SelectedCalendar=Live&amp;ArchiveID=\">Applied Mathematics 1411A/B,</a> <a href=\"Courses.cfm?CourseAcadCalendarID=MAIN_029475_1&amp;SelectedCalendar=Live&amp;ArchiveID=\">Applied Mathematics 1412A/B,</a> <a href=\"Courses.cfm?CourseAcadCalendarID=MAIN_029476_1&amp;SelectedCalendar=Live&amp;ArchiveID=\">Applied Mathematics 1414A/B,</a> <a href=\"Courses.cfm?CourseAcadCalendarID=MAIN_023135_1&amp;SelectedCalendar=Live&amp;ArchiveID=\">Physics 1401A/B</a> and <a href=\"Courses.cfm?CourseAcadCalendarID=MAIN_003215_6&amp;SelectedCalendar=Live&amp;ArchiveID=\">Engineering Science 1022A/B/Y</a> and <a href=\"Courses.cfm?CourseAcadCalendarID=MAIN_002556_1&amp;SelectedCalendar=Live&amp;ArchiveID=\">Engineering Science 1021A/B</a>.</p>\n",
       "<p><strong>Engineering Common First Year Program</strong></p>\n",
       "<p><strong>Full-year courses</strong>: <a href=\"Courses.cfm?CourseAcadCalendarID=MAIN_017916_1&amp;SelectedCalendar=Live&amp;ArchiveID=\">Engineering Science 1050,</a> <a href=\"Courses.cfm?CourseAcadCalendarID=MAIN_027150_1&amp;SelectedCalendar=Live&amp;ArchiveID=\">Business Administration 1299E</a>.<br/><strong>Full-year half course</strong>: <a href=\"Courses.cfm?CourseAcadCalendarID=MAIN_003215_6&amp;SelectedCalendar=Live&amp;ArchiveID=\">Engineering Science 1022A/B/Y</a>.<br/><strong>Half-year courses</strong>: <a href=\"Courses.cfm?CourseAcadCalendarID=MAIN_005157_1&amp;SelectedCalendar=Live&amp;ArchiveID=\">Applied Mathematics 1411A/B,</a> <a href=\"Courses.cfm?CourseAcadCalendarID=MAIN_029475_1&amp;SelectedCalendar=Live&amp;ArchiveID=\">Applied Mathematics 1412A/B,</a> <a href=\"Courses.cfm?CourseAcadCalendarID=MAIN_029476_1&amp;SelectedCalendar=Live&amp;ArchiveID=\">Applied Mathematics 1414A/B,</a> <a href=\"Courses.cfm?CourseAcadCalendarID=MAIN_025147_1&amp;SelectedCalendar=Live&amp;ArchiveID=\">Chemistry 1302A/B,</a> <a href=\"Courses.cfm?CourseAcadCalendarID=MAIN_002556_1&amp;SelectedCalendar=Live&amp;ArchiveID=\">Engineering Science 1021A/B,</a> <a href=\"Courses.cfm?CourseAcadCalendarID=MAIN_019426_1&amp;SelectedCalendar=Live&amp;ArchiveID=\">Engineering Science 1036A/B,</a> <a href=\"Courses.cfm?CourseAcadCalendarID=MAIN_023135_1&amp;SelectedCalendar=Live&amp;ArchiveID=\">Physics 1401A/B</a> and <a href=\"Courses.cfm?CourseAcadCalendarID=MAIN_023137_1&amp;SelectedCalendar=Live&amp;ArchiveID=\">Physics 1402A/B</a>.<br/>(Three of the half courses are taken in each term as scheduled)</p>\n",
       "</div>"
      ]
     },
     "execution_count": 8,
     "metadata": {},
     "output_type": "execute_result"
    }
   ],
   "source": [
    "first_year_container = page_soup.find(\"div\", {\"id\": \"AdmissionRequirements\"})\n",
    "first_year_container"
   ]
  },
  {
   "cell_type": "code",
   "execution_count": 9,
   "metadata": {
    "scrolled": true
   },
   "outputs": [
    {
     "data": {
      "text/plain": [
       "[<a href=\"Courses.cfm?CourseAcadCalendarID=MAIN_005157_1&amp;SelectedCalendar=Live&amp;ArchiveID=\">Applied Mathematics 1411A/B,</a>,\n",
       " <a href=\"Courses.cfm?CourseAcadCalendarID=MAIN_029475_1&amp;SelectedCalendar=Live&amp;ArchiveID=\">Applied Mathematics 1412A/B,</a>,\n",
       " <a href=\"Courses.cfm?CourseAcadCalendarID=MAIN_029476_1&amp;SelectedCalendar=Live&amp;ArchiveID=\">Applied Mathematics 1414A/B,</a>,\n",
       " <a href=\"Courses.cfm?CourseAcadCalendarID=MAIN_023135_1&amp;SelectedCalendar=Live&amp;ArchiveID=\">Physics 1401A/B</a>,\n",
       " <a href=\"Courses.cfm?CourseAcadCalendarID=MAIN_003215_6&amp;SelectedCalendar=Live&amp;ArchiveID=\">Engineering Science 1022A/B/Y</a>,\n",
       " <a href=\"Courses.cfm?CourseAcadCalendarID=MAIN_002556_1&amp;SelectedCalendar=Live&amp;ArchiveID=\">Engineering Science 1021A/B</a>,\n",
       " <a href=\"Courses.cfm?CourseAcadCalendarID=MAIN_017916_1&amp;SelectedCalendar=Live&amp;ArchiveID=\">Engineering Science 1050,</a>,\n",
       " <a href=\"Courses.cfm?CourseAcadCalendarID=MAIN_027150_1&amp;SelectedCalendar=Live&amp;ArchiveID=\">Business Administration 1299E</a>,\n",
       " <a href=\"Courses.cfm?CourseAcadCalendarID=MAIN_003215_6&amp;SelectedCalendar=Live&amp;ArchiveID=\">Engineering Science 1022A/B/Y</a>,\n",
       " <a href=\"Courses.cfm?CourseAcadCalendarID=MAIN_005157_1&amp;SelectedCalendar=Live&amp;ArchiveID=\">Applied Mathematics 1411A/B,</a>,\n",
       " <a href=\"Courses.cfm?CourseAcadCalendarID=MAIN_029475_1&amp;SelectedCalendar=Live&amp;ArchiveID=\">Applied Mathematics 1412A/B,</a>,\n",
       " <a href=\"Courses.cfm?CourseAcadCalendarID=MAIN_029476_1&amp;SelectedCalendar=Live&amp;ArchiveID=\">Applied Mathematics 1414A/B,</a>,\n",
       " <a href=\"Courses.cfm?CourseAcadCalendarID=MAIN_025147_1&amp;SelectedCalendar=Live&amp;ArchiveID=\">Chemistry 1302A/B,</a>,\n",
       " <a href=\"Courses.cfm?CourseAcadCalendarID=MAIN_002556_1&amp;SelectedCalendar=Live&amp;ArchiveID=\">Engineering Science 1021A/B,</a>,\n",
       " <a href=\"Courses.cfm?CourseAcadCalendarID=MAIN_019426_1&amp;SelectedCalendar=Live&amp;ArchiveID=\">Engineering Science 1036A/B,</a>,\n",
       " <a href=\"Courses.cfm?CourseAcadCalendarID=MAIN_023135_1&amp;SelectedCalendar=Live&amp;ArchiveID=\">Physics 1401A/B</a>,\n",
       " <a href=\"Courses.cfm?CourseAcadCalendarID=MAIN_023137_1&amp;SelectedCalendar=Live&amp;ArchiveID=\">Physics 1402A/B</a>]"
      ]
     },
     "execution_count": 9,
     "metadata": {},
     "output_type": "execute_result"
    }
   ],
   "source": [
    "first_year_links = first_year_container.findAll(\"a\")\n",
    "first_year_links"
   ]
  },
  {
   "cell_type": "code",
   "execution_count": 10,
   "metadata": {},
   "outputs": [
    {
     "data": {
      "text/plain": [
       "['Applied Mathematics 1411A/B,',\n",
       " 'Applied Mathematics 1412A/B,',\n",
       " 'Applied Mathematics 1414A/B,',\n",
       " 'Physics 1401A/B',\n",
       " 'Engineering Science 1022A/B/Y',\n",
       " 'Engineering Science 1021A/B',\n",
       " 'Engineering Science 1050,',\n",
       " 'Business Administration 1299E',\n",
       " 'Engineering Science 1022A/B/Y',\n",
       " 'Applied Mathematics 1411A/B,',\n",
       " 'Applied Mathematics 1412A/B,',\n",
       " 'Applied Mathematics 1414A/B,',\n",
       " 'Chemistry 1302A/B,',\n",
       " 'Engineering Science 1021A/B,',\n",
       " 'Engineering Science 1036A/B,',\n",
       " 'Physics 1401A/B',\n",
       " 'Physics 1402A/B']"
      ]
     },
     "execution_count": 10,
     "metadata": {},
     "output_type": "execute_result"
    }
   ],
   "source": [
    "first_year_links = [link.text for link in first_year_links]\n",
    "first_year_links"
   ]
  },
  {
   "cell_type": "code",
   "execution_count": 11,
   "metadata": {},
   "outputs": [
    {
     "name": "stdout",
     "output_type": "stream",
     "text": [
      "12\n"
     ]
    },
    {
     "data": {
      "text/plain": [
       "['Applied Mathematics 1411A/B,',\n",
       " 'Applied Mathematics 1412A/B,',\n",
       " 'Applied Mathematics 1414A/B,',\n",
       " 'Physics 1401A/B',\n",
       " 'Engineering Science 1022A/B/Y',\n",
       " 'Engineering Science 1021A/B',\n",
       " 'Engineering Science 1050,',\n",
       " 'Business Administration 1299E',\n",
       " 'Chemistry 1302A/B,',\n",
       " 'Engineering Science 1021A/B,',\n",
       " 'Engineering Science 1036A/B,',\n",
       " 'Physics 1402A/B']"
      ]
     },
     "execution_count": 11,
     "metadata": {},
     "output_type": "execute_result"
    }
   ],
   "source": [
    "first_year_links = list(dict.fromkeys(first_year_links))\n",
    "print(len(first_year_links))\n",
    "first_year_links"
   ]
  },
  {
   "cell_type": "code",
   "execution_count": 13,
   "metadata": {
    "scrolled": true
   },
   "outputs": [
    {
     "data": {
      "text/plain": [
       "['Applied Mathematics 2270A/B,',\n",
       " 'Applied Mathematics 2276A/B,',\n",
       " 'MME 2200Q/R/S/T,',\n",
       " 'MME 2202A/B,',\n",
       " 'MME 2204A/B,',\n",
       " 'MME 2213A/B,',\n",
       " 'MME 2221A/B,',\n",
       " 'MME 2259A/B,',\n",
       " 'MME 2260A/B,',\n",
       " 'MME 2273A/B,',\n",
       " 'MME 2285A/B,',\n",
       " 'Statistical Sciences 2143A/B,',\n",
       " 'Writing 2130F/G',\n",
       " 'ECE 3374A/B',\n",
       " 'MME 3303A/B,',\n",
       " 'MME 3307A/B,',\n",
       " 'MME 3325A/B,',\n",
       " 'MME 3334A/B,',\n",
       " 'MME 3350A/B,',\n",
       " 'MME 3360A/B,',\n",
       " 'MME 3379A/B,',\n",
       " 'MME 3380A/B,',\n",
       " 'MME 3381A/B',\n",
       " 'ES 4498F/G,',\n",
       " 'MME 4499',\n",
       " 'MME 4410,',\n",
       " 'MME 4423A/B,',\n",
       " 'MME 4424A/B,',\n",
       " 'MME 4425A/B,',\n",
       " 'MME 4427A/B,',\n",
       " 'MME 4428A/B,',\n",
       " 'MME 4429A/B,',\n",
       " 'MME 4435A/B,',\n",
       " 'MME 4437A/B,',\n",
       " 'MME 4450A/B,',\n",
       " 'MME 4452A/B,',\n",
       " 'MME 4453A/B,',\n",
       " 'MME 4459A/B,',\n",
       " 'MME 4460A/B,',\n",
       " 'MME 4469A/B,',\n",
       " 'MME 4470A/B,',\n",
       " 'MME 4473A/B,',\n",
       " 'MME 4474A/B,',\n",
       " 'MME 4475A/B,',\n",
       " 'MME 4480A/B,',\n",
       " 'MME 4482A/B,',\n",
       " 'MME 4483A/B,',\n",
       " 'MME 4485A/B,',\n",
       " 'MME 4487A/B,',\n",
       " 'MME 4490A/B,',\n",
       " 'MME 4492A/B']"
      ]
     },
     "execution_count": 13,
     "metadata": {},
     "output_type": "execute_result"
    }
   ],
   "source": [
    "other_years_container = page_soup.find(\"div\", {\"class\": \"moduleInfo\"})\n",
    "other_years_links = other_years_container.findAll(\"a\")\n",
    "other_years_links = [link.text for link in other_years_links]\n",
    "other_years_links"
   ]
  },
  {
   "cell_type": "code",
   "execution_count": 14,
   "metadata": {},
   "outputs": [
    {
     "data": {
      "text/plain": [
       "51"
      ]
     },
     "execution_count": 14,
     "metadata": {},
     "output_type": "execute_result"
    }
   ],
   "source": [
    "len(other_years_links)"
   ]
  },
  {
   "cell_type": "code",
   "execution_count": 15,
   "metadata": {},
   "outputs": [
    {
     "data": {
      "text/plain": [
       "63"
      ]
     },
     "execution_count": 15,
     "metadata": {},
     "output_type": "execute_result"
    }
   ],
   "source": [
    "link_texts = first_year_links + other_years_links\n",
    "len(link_texts)"
   ]
  },
  {
   "cell_type": "markdown",
   "metadata": {},
   "source": [
    "# 2. Test run - try to scrape the first course"
   ]
  },
  {
   "cell_type": "code",
   "execution_count": 16,
   "metadata": {},
   "outputs": [
    {
     "data": {
      "text/plain": [
       "'https://www.westerncalendar.uwo.ca/Courses.cfm?CourseAcadCalendarID=MAIN_005157_1&SelectedCalendar=Live&ArchiveID='"
      ]
     },
     "execution_count": 16,
     "metadata": {},
     "output_type": "execute_result"
    }
   ],
   "source": [
    "driver.find_element_by_link_text(link_texts[0]).click()\n",
    "driver.current_url"
   ]
  },
  {
   "cell_type": "code",
   "execution_count": 21,
   "metadata": {
    "scrolled": true
   },
   "outputs": [
    {
     "data": {
      "text/plain": [
       "<div id=\"CourseInformationDiv\">\n",
       "<div class=\"col-md-12\">\n",
       "<div>\n",
       "<img alt=\"Western Main Campus\" class=\"img-responsive coursesWestern\" src=\"images/westernStacked.png\"/>\n",
       "</div>\n",
       "<div class=\"visible-sm visible-xs\">\n",
       "<div class=\"clearfix\"></div>\n",
       "</div>\n",
       "<h2>Applied Mathematics 1411A/B</h2>\n",
       "<h3>LINEAR ALGEBRA WITH NUMERICAL ANALYSIS FOR ENGINEERING</h3>\n",
       "</div>\n",
       "<div class=\"clearfix\"></div>\n",
       "<br/>\n",
       "<div class=\"col-xs-12\">\n",
       "<label class=\"novecentoMedium borderBottom\" for=\"CourseDescription\">Course Description</label>\n",
       "<div>\n",
       "\t\t\t\t\t\t\t\tMatrix operations, systems of linear equations, linear spaces and transformations, determinants, eigenvalues and eigenvectors, applications of interest to Engineers including diagonalization of matrices, quadratic forms, orthogonal transformations; introduction to MATLAB with applications from linear algebra. \n",
       "\n",
       "\n",
       "\t\t\t\t      </div>\n",
       "</div>\n",
       "<div class=\"clearfix\"></div>\n",
       "<br/>\n",
       "<div class=\"col-xs-12\">\n",
       "<label class=\"novecentoMedium borderBottom\" for=\"Antirequisites\">Antirequisite(s)</label>\n",
       "<div>\n",
       "<strong>Antirequisite(s):</strong> <a href=\"Courses.cfm?CourseAcadCalendarID=MAIN_023092_1&amp;SelectedCalendar=Live&amp;ArchiveID=\">Mathematics 1600A/B</a>. \n",
       "\n",
       "\n",
       "\t\t\t\t      </div>\n",
       "</div>\n",
       "<div class=\"clearfix\"></div>\n",
       "<br/>\n",
       "<div class=\"col-xs-12\">\n",
       "<label class=\"novecentoMedium borderBottom\" for=\"CourseDescription\">Pre or Corequisites</label>\n",
       "<div>\n",
       "<strong>Prerequisite(s):</strong> Ontario Secondary School MHF4U or MCV4U, or <a href=\"Courses.cfm?CourseAcadCalendarID=MAIN_003376_1&amp;SelectedCalendar=Live&amp;ArchiveID=\">Mathematics 0110A/B</a>.\n",
       "\n",
       "\t\t\t\t       </div>\n",
       "</div>\n",
       "<div class=\"clearfix\"></div>\n",
       "<br/>\n",
       "<div class=\"col-xs-12\">\n",
       "<label class=\"novecentoMedium borderBottom\" for=\"ExtraInformation\">Extra Information</label>\n",
       "<div>\n",
       "<strong>Extra Information:</strong> 3 lecture hours, 2 computer lab or tutorial hours. Restricted to students in the Faculty of Engineering.\n",
       "\t\t\t\t      </div>\n",
       "</div>\n",
       "<div class=\"clearfix\"> </div>\n",
       "<br/>\n",
       "<div class=\"col-xs-12\">\n",
       "<h5><strong>Course Weight:</strong> 0.50</h5>\n",
       "<h5><strong>Breadth:</strong>\n",
       "\n",
       "\t                CATEGORY C \n",
       "\t                                     <span class=\"moreinfo\" data-html=\"true\" data-original-title='&lt;p&gt;&lt;strong&gt;Category C:&lt;/strong&gt;&lt;/p&gt;\n",
       "&lt;p&gt;Engineering&lt;br /&gt;Biomedical Engineering, Chemical and Biochemical Engineering, Civil and Environmental Engineering, Electrical and Computer Engineering, Engineering Leadership and Innovation, Engineering Science, Green Process Engineering, Integrated Engineering, Mechanical and Materials Engineering, Mechatronic Systems Engineering, Software Engineering&lt;br /&gt;&lt;br /&gt;Medical Science&lt;br /&gt;Anatomy and Cell Biology, Biochemistry, Biostatistics, Chemical Biology, Epidemiology, Epidemiology and Biostatistics, Medical Bioinformatics, Medical Biophysics, Medical Health Informatics, Medical Sciences, Microbiology and Immunology, Neuroscience, One Health, Pathology, Pharmacology, Physiology, Physiology and Pharmacology&lt;br /&gt;&lt;br /&gt;Science&lt;br /&gt;Actuarial Science, Applied Mathematics, Astronomy, Biology, Calculus, Chemistry, Computer Science, Data Science, Differential Equations, Earth Sciences, Environmental Science, History of Science, Integrated Science, Linear Algebra, Materials Science, Mathematics, Physics, Planetary Science, Science, Statistical Sciences&lt;br /&gt;&lt;br /&gt;Various&lt;br /&gt;Communication Sciences and Disorders, Financial Modelling&lt;/p&gt;\n",
       "&lt;p style=\"text-align: right;\"&gt;&lt;em&gt;Academic Handbook, Registration, &lt;a href=\"http://www.uwo.ca/univsec/pdf/academic_policies/registration_progression_grad/registration_progression.pdf\" target=\"_blank\"&gt; Registration and Progression &lt;/a&gt; &lt;/em&gt;&lt;/p&gt;\n",
       "&lt;p style=\"text-align: right;\"&gt;&lt;em&gt;&lt;/em&gt;&lt;/p&gt;\n",
       "&lt;p style=\"text-align: left;\"&gt;&lt;strong&gt;RELATED:&lt;/strong&gt;&lt;/p&gt;\n",
       "&lt;p style=\"text-align: left;\"&gt;For information about how Pre-University level introductory courses (0001-0999) relate to essay and breadth requirements, see &lt;a href=\"./PolicyPages.cfm?PolicyCategoryID=6&amp;Command=showCategory&amp;SelectedCalendar=Pre&amp;ArchiveID=#Page_78\"&gt;COURSE NUMBERING POLICY, ESSAY COURSES, AND HOURS OF INSTRUCTION&lt;/a&gt;&lt;/p&gt;' data-placement=\"right\" data-toggle=\"tooltip\" title=\"\">i</span>  \n",
       "\t                                   \t</h5>\n",
       "<h5><strong>Subject Code:</strong> APPLMATH </h5>\n",
       "</div>\n",
       "</div>"
      ]
     },
     "execution_count": 21,
     "metadata": {},
     "output_type": "execute_result"
    }
   ],
   "source": [
    "page_soup = soup(driver.page_source, 'lxml')\n",
    "\n",
    "course_info = page_soup.find(\"div\", {\"id\": \"CourseInformationDiv\"})\n",
    "course_info"
   ]
  },
  {
   "cell_type": "code",
   "execution_count": 22,
   "metadata": {},
   "outputs": [
    {
     "data": {
      "text/plain": [
       "'Applied Mathematics 1411A/B'"
      ]
     },
     "execution_count": 22,
     "metadata": {},
     "output_type": "execute_result"
    }
   ],
   "source": [
    "code = course_info.find(\"h2\").text\n",
    "code"
   ]
  },
  {
   "cell_type": "code",
   "execution_count": 23,
   "metadata": {},
   "outputs": [
    {
     "data": {
      "text/plain": [
       "'LINEAR ALGEBRA WITH NUMERICAL ANALYSIS FOR ENGINEERING'"
      ]
     },
     "execution_count": 23,
     "metadata": {},
     "output_type": "execute_result"
    }
   ],
   "source": [
    "name = course_info.find(\"h3\").text\n",
    "name"
   ]
  },
  {
   "cell_type": "code",
   "execution_count": 27,
   "metadata": {},
   "outputs": [
    {
     "data": {
      "text/plain": [
       "'Matrix operations, systems of linear equations, linear spaces and transformations, determinants, eigenvalues and eigenvectors, applications of interest to Engineers including diagonalization of matrices, quadratic forms, orthogonal transformations; introduction to MATLAB with applications from linear algebra.'"
      ]
     },
     "execution_count": 27,
     "metadata": {},
     "output_type": "execute_result"
    }
   ],
   "source": [
    "desc = course_info.findAll(\"div\", {\"class\": None, \"id\": None})[1].text.strip()\n",
    "desc"
   ]
  },
  {
   "cell_type": "markdown",
   "metadata": {},
   "source": [
    "# 3. Automation script to scrape all courses (and inspect at the same time)"
   ]
  },
  {
   "cell_type": "code",
   "execution_count": 34,
   "metadata": {},
   "outputs": [
    {
     "name": "stdout",
     "output_type": "stream",
     "text": [
      "Scraped  Applied Mathematics 1411A/B LINEAR ALGEBRA WITH NUMERICAL ANALYSIS FOR ENGINEERING Matrix operations, systems of linear equations, linear spaces and transformations, determinants, eigenvalues and eigenvectors, applications of interest to Engineers including diagonalization of matrices, quadratic forms, orthogonal transformations; introduction to MATLAB with applications from linear algebra.\n",
      "Scraped  Applied Mathematics 1412A/B CALCULUS FOR ENGINEERS I Introduction to complex numbers, limits, continuity, differentiation of functions of one variable with applications, extreme values, l’Hospital’s rule, antiderivatives, definite integrals, the Fundamental Theorem of Calculus, the method of substitution.\n",
      "Scraped  Applied Mathematics 1414A/B CALCULUS FOR ENGINEERS II Techniques of integration, areas and volumes, arclength and surfaces of revolution, applications to physics and engineering, first order differential equations, parametric curves, polar coordinates, sequences and series, vectors and geometry, vector functions, partial differentiation with applications.\n",
      "Scraped  Physics 1401A/B PHYSICS FOR ENGINEERING STUDENTS I An introductory calculus-based laboratory course in physics covering the foundational principles of kinematics, force and motion, energy, linear momentum, rotation, torque and angular momentum, gravitation, fluids.\n",
      "Scraped  Engineering Science 1022A/B/Y ENGINEERING STATICS Analysis of forces on structures and machines, including addition and resolution of forces and moments in two and three-dimensions. The application of the principles of equilibrium. Topics: trusses; frames; friction; and centroids.\n",
      "Scraped  Engineering Science 1021A/B PROPERTIES OF MATERIALS IN ENGINEERING An introduction to the relationship between the microstructure and engineering properties of metals, ceramics, polymers, semi-conductors and composites.\n",
      "Scraped  Engineering Science 1050 FOUNDATIONS OF ENGINEERING PRACTICE Introduction to the principles and practices of professional engineering. The design studio fosters innovative thinking, improves problem solving, and provides context. Includes elements of need recognition, conceptualization, prototyping, and engineering design to satisfy commercial specifications. Emphasis on creativity, teamwork, communication and engineering skills necessary to practice in any engineering discipline.\n",
      "Scraped  Business Administration 1299E BUSINESS FOR ENGINEERS Students learn business fundamentals in finance, marketing, engineering economics, organizational behaviour and general management. Students are taught business decisionmaking using the case method, wherein students explore real business issues, make management decisions, defend their position, and take action, within an active class environment of no more than 85 students.\n",
      "Scraped  Chemistry 1302A/B DISCOVERING CHEMICAL ENERGETICS An examination of how the fundamentals of energetics influence chemical processes. Topics include: gases, thermodynamics and thermochemistry, chemical equilibria, solubility, weak acids and bases, electrochemistry, and chemical kinetics.\n",
      "Scraped  Engineering Science 1021A/B PROPERTIES OF MATERIALS IN ENGINEERING An introduction to the relationship between the microstructure and engineering properties of metals, ceramics, polymers, semi-conductors and composites.\n",
      "Scraped  Engineering Science 1036A/B PROGRAMMING FUNDAMENTALS FOR ENGINEERS Designing, implementing and testing computer programs using Java and MATLAB to fulfill given specifications for small problems using sound engineering principles and processes. Awareness of the engineering aspects of the process of constructing a computer program.\n",
      "Scraped  Physics 1402A/B PHYSICS FOR ENGINEERING STUDENTS II An introductory calculus-based laboratory course in physics covering the foundational principles of oscillations, waves, electric fields and potential, DC circuits, magnetic fields, magnetic induction.\n",
      "Scraped  Applied Mathematics 2270A/B APPLIED MATHEMATICS FOR ENGINEERING II Topics include first order ODE's of various types, higher order ODE's and methods of solving them, initial and boundary value problems, applications to mass-spring systems and electrical RLC circuits, Laplace transforms and their use for solving differential equations, systems of linear ODE's, orthogonal functions and Fourier.\n",
      "Scraped  Applied Mathematics 2276A/B APPLIED MATHEMATICS FOR ELECTRICAL AND MECHANICAL ENGINEERING III Topics covered include a review of orthogonal expansions of functions and Fourier series and transforms, multiple integration with methods of evaluation in different systems of coordinates, vector fields, line integrals, surface and flux integrals, the Green, Gauss and Stokes theorems with applications.\n",
      "Scraped  Mechanical and Materials Engineering 2200Q/R/S/T ENGINEERING SHOP SAFETY TRAINING This course will provide mechanical engineering undergraduate students with consistent and appropriate training in the safe use of Engineering student shops.\n",
      "Scraped  Mechanical and Materials Engineering 2202A/B MECHANICS OF MATERIALS Stress and strain, Mohr's stress circle, behaviour of structures, axial loading of columns and struts, torsion of shafts, bending of beams, buckling of columns and combined loading of components.\n",
      "Scraped  Mechanical and Materials Engineering 2204A/B THERMODYNAMICS I Properties of a pure substance, first law of thermodynamics, processes in open and closed systems, second law of thermodynamics; ideal gases, compressors and energy conversion systems.\n",
      "Scraped  Mechanical and Materials Engineering 2213A/B ENGINEERING DYNAMICS Topics include: rectilinear, angular and curvilinear motion; kinetics of a particle, a translating rigid body and a rigid body in pure rotation; definitions of different energies and energy balance: power and efficiency; and linear impulse and momentum.\n",
      "Scraped  Mechanical and Materials Engineering 2221A/B COMPUTATIONAL METHODS FOR MECHANICAL ENGINEERS The objective of this course is to introduce data organization and processing techniques using spreadsheet tools; and numerical methods, model formulation and programming using advanced mathematical software tools. Applications in applied mathematics and mechanical engineering will be considered throughout the course.\n",
      "Scraped  Mechanical and Materials Engineering 2259A/B PRODUCT DESIGN & DEVELOPMENT Introduction to the engineering design and structured design methods. Topics include: mechanical design process; concept generation and evaluation; embodiment design; design for manufacture and assembly; design for product safety; principles of life-cycle engineering.\n",
      "Scraped  Mechanical and Materials Engineering 2260A/B INDUSTRIAL MATERIALS The principles and practice of shaping and strengthening industrial materials.\n",
      "Scraped  Mechanical and Materials Engineering 2273A/B INTRODUCTION TO FLUID MECHANICS AND HEAT TRANSFER An introduction to fluid mechanics and heat transfer. The fluid mechanics covers fluid properties, fluid statics including buoyancy and stability, one-dimensional fluid dynamics including conservation of mass and energy and losses in pipe networks. Heat transfer covers development of the general energy equation for three dimensions and steady-state conduction in one and two dimensions.\n",
      "Scraped  Mechanical and Materials Engineering 2285A/B ENGINEERING EXPERIMENTATION Measurement of physical quantities; experiment planning and design; characteristics of measurement systems; calibration, linearity, accuracy, bias and sensitivity; data acquisition systems; sampling theorem; signal conditioning; sources of errors; uncertainty analysis; data analysis techniques; systems for the measurement of displacement; velocity; acceleration; force, strain, pressure, temperature, flow rate, etc.\n",
      "Scraped  Statistical Sciences 2143A/B APPLIED STATISTICS AND DATA ANLYSIS FOR ENGINEERS A data-driven introduction to statistics intended primarily for students in Chemical and Mechanical Engineering. Exploratory data analysis, probability, the Binomial, Poisson, Normal, Chi-Square and F distributions. Estimation, correlation and regression (model building and parameter estimation), analysis of variance, design of experiments. This course cannot be taken for credit in any module in Data Science, Statistics, Actuarial Science, or Financial Modelling, other than the Minor in Applied Statistics or the Minor in Applied Financial Modeling.\n"
     ]
    },
    {
     "name": "stdout",
     "output_type": "stream",
     "text": [
      "Scraped  Writing 2130F/G BUILDING BETTER (COMMUNICATION) BRIDGES: RHETORIC & PROFESSIONAL COMMUNICATION FOR ENGINEERS This course introduces students to rhetorical principles and the practices of written, oral, and visual communication in professional engineering contexts. Students will learn strategies for drafting and designing technical and academic documents and for approaching the editing and revision of those documents.\n",
      "Scraped  Electrical and Computer Engineering 3374A/B ELECTRONICS FOR MECHANICAL ENGINEERING This course deals with the study of electrical, electronic, and electromechanical devices and systems, including the theory of operation, and analysis of behaviour through modelling of components and systems.\n",
      "Scraped  Mechanical and Materials Engineering 3303A/B FLUID MECHANICS II Rigid-body motion and rotation, control volume method of analysis, conservation of mass, linear and angular momentum, centrifugal pumps, potential flow, dimensional analysis, viscous flow in channels and ducts, open channel flow, laminar and turbulent boundary layers, statistical description of turbulence\n",
      "Scraped  Mechanical and Materials Engineering 3307A/B HEAT TRANSFER II Transient heat conduction. Forced and natural convection heat transfer. Advanced radiation heat transfer, including surface properties and shape factor. Condensation and boiling heat transfer. Heat exchanger design, applications of heat transfer in Engineering Systems.\n",
      "Scraped  Mechanical and Materials Engineering 3325A/B MECHANICAL VIBRATIONS Free and forced vibration of single-degree-of-freedom systems; viscous and coulomb damping; vibration isolation and vibration measuring instruments; modelling of multi-degree-of-freedom systems via Newton’s second law; modal analysis and modal summation method for response predictions of multi-degree-of-freedom systems; tuned mass vibration absorber; introduction to vibration of continuous systems; introduction to spectrum analysis for machinery diagnostics.\n",
      "Scraped  Mechanical and Materials Engineering 3334A/B THERMODYNAMICS II This course emphasizes the application of thermodynamic principles to engineering systems and problem solving. Topics covered include: sonic velocity and compressible flow through nozzles, reciprocating and rotary compressors, availability and irreversibility in systems and processes, cycles, psychometry of air conditioning, thermodynamic relations and the generalized compressiblity charts, chemical reactions and equilibrium.\n",
      "Scraped  Mechanical and Materials Engineering 3350A/B SYSTEM MODELING & CONTROL Basic analytical techniques for modeling and control of dynamic systems. Solve for response as well as design controllers to shape response of systems. Applications to vibratory, thermo-fluidic, hydraulic, pneumatic and electro-mechanical systems.\n",
      "Scraped  Mechanical and Materials Engineering 3360A/B FINITE ELEMENT METHODS IN MECHANICAL ENGINEERING Linear finite element analysis using the direct equilibrium method and the principle of minimum potential energy. Focus on structural mechanics using spring and bar elements (including two-dimensional trusses), beam elements, two-dimensional plane stress/strain elements, axisymmetric elements, and isoparametric formulation. Concepts of heat transfer, fluid flow, and thermal stress also introduced.\n",
      "Scraped  Mechanical and Materials Engineering 3379A/B MATERIALS SELECTION Application of computer databases to materials selection. Identification of the composite property for a particular application. Case studies of materials selection using variable property emphases.\n",
      "Scraped  Mechanical and Materials Engineering 3380A/B MECHANICAL COMPONENTS DESIGN The objective of this course is to consider the stress analysis and design of various components of a machine, e.g. an automobile.\n",
      "Scraped  Mechanical and Materials Engineering 3381A/B KINEMATICS & DYNAMICS OF MACHINES Displacement, velocity and acceleration analysis of linkage mechanisms; inertia force analysis of mechanisms; balancing of reciprocating and rotating masses; introduction to vibration analysis of single-degree-of-freedom systems.\n",
      "Scraped  Engineering Science 4498F/G ENGINEERING ETHICS, SUSTAINABLE DEVELOPMENT AND THE LAW This course will cover professionalism, ethical theory, the code of ethics and enforcement; the environment; and contracts and risk.\n",
      "Scraped  Mechanical and Materials Engineering 4499 MECHANICAL ENGINEERING DESIGN PROJECT Students develop and practice engineering design skills by working on a team-based project. The students will experience all phases of the design process, including: problem definition, generation and evaluation of concepts,engineering analysis and testing, and preparation of design documentation. Project management and communications skills are emphasized.\n",
      "Scraped  Mechanical and Materials Engineering 4410 MECHANICAL & MATERIALS ENGINEERING THESIS The objective of the course is to provide students with an opportunity to investigate an engineering problem independently under the supervision of a faculty member. The student will be required to prepare an engineering thesis and deliver a public lecture. This course is directed at students considering future graduate studies.\n",
      "Scraped  Mechanical and Materials Engineering 4423A/B INTERNAL COMBUSTION ENGINES This course elaborates on the fundamentals of how the design and operation of internal combustion engines affect their performance, operation, fuel requirements and environmental impact, study of fluid flow, thermodynamics, combustion, heat transfer and friction phenomena, and fuel properties, relevant to engine power, efficiency and emissions, examination of design features and operating characteristics of different types of internal combustion engines: spark-ignition, diesel, stratified-charge, and mixed-cycle engines.\n",
      "Scraped  Mechanical and Materials Engineering 4424A/B MECHANICAL PROPERTIES OF MATERIALS Many modern methods of materials forming require knowledge of the following: basic mathematics of stress and strain; yield criteria; effective stress and strain; deviatoric and hydrostatic components; upper bound analysis; slip-line fields. The applications of these concepts to actual processes will be illustrated.\n",
      "Scraped  Mechanical and Materials Engineering 4425A/B MECHANICAL VIBRATIONS Free and forced vibration of Single-degree-of-freedom systems; modelling of multi-degree-of-freedom systems via Lagrange's equations; modal summation method for response predictions; vibration isolation and vibration measuring instruments; tuned mass vibration absorber; viscous, coulomb and hysteresis damping; vibration of continuous systems; introduction to experimental modal analysis.\n",
      "Scraped  Mechanical and Materials Engineering 4427A/B SELECTED TOPICS IN MECHANICAL ENGINEERING III Topics of current interest in Mechanical Engineering. Topics and course outlines will be available at the time of registration.\n",
      "Scraped  Mechanical and Materials Engineering 4428A/B SELECTED TOPICS IN MECHANICAL ENGINEERING IV Topics of current interest in Mechanical Engineering. Topics and course outlines will be available at the time of registration.\n",
      "Scraped  Mechanical and Materials Engineering 4429A/B NUCLEAR ENGINEERING To present an overview of nuclear engineering beginning with the fundamentals of nuclear physics and extending to the operation of nuclear reactors with special emphasis on the CANDU nuclear reactor.\n",
      "Scraped  Mechanical and Materials Engineering 4435A/B PRESSURE VESSEL DESIGN This course examines the theory and practice of pressure vessel design based on the ASME Boiler and Pressure Vessel Code. Students will learn to design a safe and economical pressure vessel to meet specified requirements, ensuring that allowable stresses are not exceeded under any expected combination of loadings.\n",
      "Scraped  Mechanical and Materials Engineering 4437A/B ADVANCED CAE: SIMULATION Nonlinear structural analysis, vibration of discrete and distributed systems, kinematic and dynamic analysis, flexible mechanism analysis, nonlinear thermal analysis, fluid flow analysis, thermal fluids, multi-physics simulation, interfacing between structural, thermal and mechanism analyses.\n"
     ]
    },
    {
     "name": "stdout",
     "output_type": "stream",
     "text": [
      "Scraped  Mechanical and Materials Engineering 4450A/B CONTROL SYSTEMS: THEORY & PRACTICE Modern Control techniques for solving vibration and control problems associated with practical mechanical systems. The emphasis of the course is on the concepts, applications and numerical simulations to aid Power-train dynamics, Hardware-in-the-loop (HIL) simulations and communications.\n",
      "Scraped  Mechanical and Materials Engineering 4452A/B ROBOTICS & MANUFACTURING AUTOMATION An overview of robotics and manufacturing automation technology and principles. Topics include: automatic production and assembly, sensors, actuators and drives, mechanization of part handling, industrial robots, and machine vision systems. Emphasis will be on the planning, design and implementation of automation systems. PLCs will be used in the lab section.\n",
      "Scraped  Mechanical and Materials Engineering 4453A/B CORROSION AND WEAR Corrosion principles, types of corrosion, corrosion protection. Surface characterization. Friction, lubrication and wear. Materials selection for tribological applications.\n",
      "Scraped  Mechanical and Materials Engineering 4459A/B ADVANCED CAE: MANUFACTURING TECHNOLOGIES This course is an introduction to modern computer aided manufacturing technologies. Topics include subtractive technologies, such as computer-numerically controlled (CNC) machining, as well as additive technologies used \n",
      "for rapid prototyping purposes.\n",
      "Scraped  Mechanical and Materials Engineering 4460A/B HEATING, VENTILATING & AIR CONDITIONING II Design of air distribution components and systems; fan/pump laws; air quality and ventilation; hot water heating systems; steam heating systems; cooling equipment; heat generation and transfer equipment; building automation controls; operations and maintenance.\n",
      "Scraped  Mechanical and Materials Engineering 4469A/B BIOMECHANICS OF THE MUSCULOSKELETAL SYSTEM Application of fundamental principles of engineering to the analysis of the human musculoskeletal system. Bone and soft tissue biomechanics, joint mechanics and kinematics, joint replacement with implants, with special interest in design of these systems; biomaterials and wear. Joints studied will include the elbow, hip, shoulder and knee.\n",
      "Scraped  Mechanical and Materials Engineering 4470A/B MEDICAL AND ASSISTIVE DEVICES Introduction to the design, development and operation of medical and assistive devices that can improve the quality of human life. Topics include: design of assistive, corrective, and diagnostic devices; human factors engineering; biocompatibility of materials; bioelectronics; biosensors; and lab-on-a-chip systems.\n",
      "Scraped  Mechanical and Materials Engineering 4473A/B COMPUTER INTEGRATED MANUFACTURING This course explores the technologies and systems involved in CIM. Topics include: basics of computer systems; computing in manufacturing; CAD/CAM; CIM architectures; networks and data communications; databases and information management; open systems and standards; manufacturing planning and control; flexible manufacturing; concurrent engineering and collaboration technologies; Internet technologies.\n",
      "Scraped  Mechanical and Materials Engineering 4474A/B SELECTED TOPICS IN MECHANICAL ENGINEERING I Topics of current interest in Mechanical Engineering. Topics and course outlines will be available at the time of registration.\n",
      "Scraped  Mechanical and Materials Engineering 4475A/B SELECTED TOPICS IN MECHANICAL ENGINEERING II Topics of current interest in Mechanical Engineering. Topics and course outlines will be available at the time of registration.\n",
      "Scraped  Mechanical and Materials Engineering 4480A/B ADVANCED CAE: REVERSE ENGINEERING This course is an introduction to the use of modern computer-aided design (CAD) techniques in generation of 3D digital models from physical objects. Topics include contact and non-contact data acquisition techniques, \n",
      "data type and exchange formats, and advanced visualization and surfacing techniques.\n",
      "Scraped  Mechanical and Materials Engineering 4482A/B FUNDAMENTALS OF MEMS The objective of the course is to cover the fundamental basis of MEMS (Microelectromechanical Systems) including design, analysis, modelling, fabrication, testing and reliability concerns.\n",
      "Scraped  Mechanical and Materials Engineering 4483A/B HEATING, VENTILATING & AIR CONDITIONING The psychrometry of air conditioning processes, comfort and inside design conditions, climate and outside design conditions, heat gains from solar and other sources, cooling load and heating load calculations, ventilation and filtration.\n",
      "Scraped  Mechanical and Materials Engineering 4485A/B FLUID MACHINERY Fluid turbo-machinery theory, performance characteristics of centrifugal and axial flow fans, compressors, pumps and turbines, fluid vibrations and sound, water hammer, introduction to fluid power controls and fluid amplifiers.\n",
      "Scraped  Mechanical and Materials Engineering 4487A/B MECHATRONIC SYSTEM DESIGN An overview of electrical, mechanical, optical and control technologies for system integration. Topics include: intelligent products and processes; design methodology; system modeling; sensors and actuators; microcontrollers; knowledge-based control.\n",
      "Scraped  Mechanical and Materials Engineering 4490A/B ENGINEERING IN A GLOBAL CONTEXT: ADVANCED MANUFACTURING The course focuses on advanced manufacturing topics such as enhanced product development, modeling, and fabrication techniques as well as the emerging Industry 4.0 concept. The international context of the course is expected to strengthen students' skill and understanding of manufacturing, as performed in a global and interconnected economy.\n",
      "Scraped  Mechanical and Materials Engineering 4492A/B PRODUCTION MANAGEMENT FOR ENGINEERS This course examines lean production principles and practices adopted by world-class manufacturers. Topics include: continuous improvement; total quality management; statistical process control; setup reduction; total productive maintenance; just-in-time and pull production; group technology; cellular manufacturing; standard operations; level production scheduling; process balancing; supply chain management; activitiy based costing; agile manufacturing.\n",
      "Finished scraping 63 courses\n"
     ]
    }
   ],
   "source": [
    "from selenium.common.exceptions import NoSuchElementException\n",
    "\n",
    "course_codes = []\n",
    "course_names = []\n",
    "course_descs = []\n",
    "counter = 0\n",
    "\n",
    "driver.get(\"https://westerncalendar.uwo.ca/Modules.cfm?ModuleID=21289&SelectedCalendar=Live&ArchiveID=\")\n",
    "    \n",
    "for link_text in link_texts:\n",
    "    #go to course page\n",
    "    try:\n",
    "        link = driver.find_element_by_link_text(link_text)\n",
    "    except NoSuchElementException:\n",
    "        print(\"no link for {}\".format(link_text))\n",
    "        continue\n",
    "\n",
    "    time.sleep(2)\n",
    "    link.click()    \n",
    "    time.sleep(2)\n",
    "    \n",
    "    #scrape course info\n",
    "    page_soup = soup(driver.page_source, 'lxml')\n",
    "    course_info = page_soup.find(\"div\", {\"id\": \"CourseInformationDiv\"})\n",
    "    course_code = course_info.find(\"h2\").text\n",
    "    course_name = course_info.find(\"h3\").text\n",
    "    course_desc = course_info.findAll(\"div\", {\"class\": None, \"id\": None})[1].text.strip()\n",
    "    \n",
    "    course_codes.append(course_code)\n",
    "    course_names.append(course_name)\n",
    "    course_descs.append(course_desc)\n",
    "    \n",
    "    print(\"Scraped \", course_codes[-1], course_names[-1], course_descs[-1])\n",
    "    counter += 1\n",
    "    \n",
    "    #go to course list page\n",
    "    driver.back()\n",
    "    time.sleep(2)\n",
    "        \n",
    "print(\"Finished scraping {} courses\".format(counter))"
   ]
  },
  {
   "cell_type": "code",
   "execution_count": 35,
   "metadata": {},
   "outputs": [
    {
     "data": {
      "text/plain": [
       "63"
      ]
     },
     "execution_count": 35,
     "metadata": {},
     "output_type": "execute_result"
    }
   ],
   "source": [
    "len(course_descs)"
   ]
  },
  {
   "cell_type": "markdown",
   "metadata": {},
   "source": [
    "# 4. Write to CSV"
   ]
  },
  {
   "cell_type": "code",
   "execution_count": 36,
   "metadata": {},
   "outputs": [
    {
     "data": {
      "text/html": [
       "<div>\n",
       "<style scoped>\n",
       "    .dataframe tbody tr th:only-of-type {\n",
       "        vertical-align: middle;\n",
       "    }\n",
       "\n",
       "    .dataframe tbody tr th {\n",
       "        vertical-align: top;\n",
       "    }\n",
       "\n",
       "    .dataframe thead th {\n",
       "        text-align: right;\n",
       "    }\n",
       "</style>\n",
       "<table border=\"1\" class=\"dataframe\">\n",
       "  <thead>\n",
       "    <tr style=\"text-align: right;\">\n",
       "      <th></th>\n",
       "      <th>Course Number</th>\n",
       "      <th>Course Name</th>\n",
       "      <th>Course Description</th>\n",
       "    </tr>\n",
       "  </thead>\n",
       "  <tbody>\n",
       "    <tr>\n",
       "      <th>0</th>\n",
       "      <td>Applied Mathematics 1411A/B</td>\n",
       "      <td>LINEAR ALGEBRA WITH NUMERICAL ANALYSIS FOR ENG...</td>\n",
       "      <td>Matrix operations, systems of linear equations...</td>\n",
       "    </tr>\n",
       "    <tr>\n",
       "      <th>1</th>\n",
       "      <td>Applied Mathematics 1412A/B</td>\n",
       "      <td>CALCULUS FOR ENGINEERS I</td>\n",
       "      <td>Introduction to complex numbers, limits, conti...</td>\n",
       "    </tr>\n",
       "    <tr>\n",
       "      <th>2</th>\n",
       "      <td>Applied Mathematics 1414A/B</td>\n",
       "      <td>CALCULUS FOR ENGINEERS II</td>\n",
       "      <td>Techniques of integration, areas and volumes, ...</td>\n",
       "    </tr>\n",
       "    <tr>\n",
       "      <th>3</th>\n",
       "      <td>Physics 1401A/B</td>\n",
       "      <td>PHYSICS FOR ENGINEERING STUDENTS I</td>\n",
       "      <td>An introductory calculus-based laboratory cour...</td>\n",
       "    </tr>\n",
       "    <tr>\n",
       "      <th>4</th>\n",
       "      <td>Engineering Science 1022A/B/Y</td>\n",
       "      <td>ENGINEERING STATICS</td>\n",
       "      <td>Analysis of forces on structures and machines,...</td>\n",
       "    </tr>\n",
       "    <tr>\n",
       "      <th>...</th>\n",
       "      <td>...</td>\n",
       "      <td>...</td>\n",
       "      <td>...</td>\n",
       "    </tr>\n",
       "    <tr>\n",
       "      <th>58</th>\n",
       "      <td>Mechanical and Materials Engineering 4483A/B</td>\n",
       "      <td>HEATING, VENTILATING &amp; AIR CONDITIONING</td>\n",
       "      <td>The psychrometry of air conditioning processes...</td>\n",
       "    </tr>\n",
       "    <tr>\n",
       "      <th>59</th>\n",
       "      <td>Mechanical and Materials Engineering 4485A/B</td>\n",
       "      <td>FLUID MACHINERY</td>\n",
       "      <td>Fluid turbo-machinery theory, performance char...</td>\n",
       "    </tr>\n",
       "    <tr>\n",
       "      <th>60</th>\n",
       "      <td>Mechanical and Materials Engineering 4487A/B</td>\n",
       "      <td>MECHATRONIC SYSTEM DESIGN</td>\n",
       "      <td>An overview of electrical, mechanical, optical...</td>\n",
       "    </tr>\n",
       "    <tr>\n",
       "      <th>61</th>\n",
       "      <td>Mechanical and Materials Engineering 4490A/B</td>\n",
       "      <td>ENGINEERING IN A GLOBAL CONTEXT: ADVANCED MANU...</td>\n",
       "      <td>The course focuses on advanced manufacturing t...</td>\n",
       "    </tr>\n",
       "    <tr>\n",
       "      <th>62</th>\n",
       "      <td>Mechanical and Materials Engineering 4492A/B</td>\n",
       "      <td>PRODUCTION MANAGEMENT FOR ENGINEERS</td>\n",
       "      <td>This course examines lean production principle...</td>\n",
       "    </tr>\n",
       "  </tbody>\n",
       "</table>\n",
       "<p>63 rows × 3 columns</p>\n",
       "</div>"
      ],
      "text/plain": [
       "                                   Course Number  \\\n",
       "0                    Applied Mathematics 1411A/B   \n",
       "1                    Applied Mathematics 1412A/B   \n",
       "2                    Applied Mathematics 1414A/B   \n",
       "3                                Physics 1401A/B   \n",
       "4                  Engineering Science 1022A/B/Y   \n",
       "..                                           ...   \n",
       "58  Mechanical and Materials Engineering 4483A/B   \n",
       "59  Mechanical and Materials Engineering 4485A/B   \n",
       "60  Mechanical and Materials Engineering 4487A/B   \n",
       "61  Mechanical and Materials Engineering 4490A/B   \n",
       "62  Mechanical and Materials Engineering 4492A/B   \n",
       "\n",
       "                                          Course Name  \\\n",
       "0   LINEAR ALGEBRA WITH NUMERICAL ANALYSIS FOR ENG...   \n",
       "1                            CALCULUS FOR ENGINEERS I   \n",
       "2                           CALCULUS FOR ENGINEERS II   \n",
       "3                  PHYSICS FOR ENGINEERING STUDENTS I   \n",
       "4                                 ENGINEERING STATICS   \n",
       "..                                                ...   \n",
       "58            HEATING, VENTILATING & AIR CONDITIONING   \n",
       "59                                    FLUID MACHINERY   \n",
       "60                          MECHATRONIC SYSTEM DESIGN   \n",
       "61  ENGINEERING IN A GLOBAL CONTEXT: ADVANCED MANU...   \n",
       "62                PRODUCTION MANAGEMENT FOR ENGINEERS   \n",
       "\n",
       "                                   Course Description  \n",
       "0   Matrix operations, systems of linear equations...  \n",
       "1   Introduction to complex numbers, limits, conti...  \n",
       "2   Techniques of integration, areas and volumes, ...  \n",
       "3   An introductory calculus-based laboratory cour...  \n",
       "4   Analysis of forces on structures and machines,...  \n",
       "..                                                ...  \n",
       "58  The psychrometry of air conditioning processes...  \n",
       "59  Fluid turbo-machinery theory, performance char...  \n",
       "60  An overview of electrical, mechanical, optical...  \n",
       "61  The course focuses on advanced manufacturing t...  \n",
       "62  This course examines lean production principle...  \n",
       "\n",
       "[63 rows x 3 columns]"
      ]
     },
     "execution_count": 36,
     "metadata": {},
     "output_type": "execute_result"
    }
   ],
   "source": [
    "import pandas as pd\n",
    "\n",
    "df = pd.DataFrame({\n",
    "    \"Course Number\": course_codes,\n",
    "    \"Course Name\": course_names,\n",
    "    \"Course Description\": course_descs\n",
    "})\n",
    "\n",
    "df"
   ]
  },
  {
   "cell_type": "code",
   "execution_count": 38,
   "metadata": {},
   "outputs": [],
   "source": [
    "df.to_csv('Western_MechEng_Core_and_Elective_(AllYears)_Courses.csv', index = False)"
   ]
  }
 ],
 "metadata": {
  "kernelspec": {
   "display_name": "Python 3",
   "language": "python",
   "name": "python3"
  },
  "language_info": {
   "codemirror_mode": {
    "name": "ipython",
    "version": 3
   },
   "file_extension": ".py",
   "mimetype": "text/x-python",
   "name": "python",
   "nbconvert_exporter": "python",
   "pygments_lexer": "ipython3",
   "version": "3.8.5"
  }
 },
 "nbformat": 4,
 "nbformat_minor": 4
}
