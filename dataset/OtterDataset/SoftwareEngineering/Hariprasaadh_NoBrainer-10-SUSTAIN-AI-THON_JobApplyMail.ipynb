{
 "cells": [
  {
   "cell_type": "code",
   "execution_count": 1,
   "metadata": {},
   "outputs": [],
   "source": [
    "from secret_key import GROQCLOUD_API\n",
    "from langchain_groq import ChatGroq\n",
    "llm=ChatGroq(\n",
    "    model_name=\"llama-3.1-70b-versatile\",\n",
    "    temperature=0,\n",
    "    groq_api_key=GROQCLOUD_API\n",
    ")"
   ]
  },
  {
   "cell_type": "code",
   "execution_count": 2,
   "metadata": {},
   "outputs": [
    {
     "name": "stderr",
     "output_type": "stream",
     "text": [
      "USER_AGENT environment variable not set, consider setting it to identify your requests.\n"
     ]
    }
   ],
   "source": [
    "from langchain_community.document_loaders import WebBaseLoader\n",
    "\n",
    "loader = WebBaseLoader(\"https://jobs.nike.com/job/R-46630?from=job%20search%20funnel\")"
   ]
  },
  {
   "cell_type": "code",
   "execution_count": 3,
   "metadata": {},
   "outputs": [
    {
     "name": "stdout",
     "output_type": "stream",
     "text": [
      "Apply for Senior Machine Learning Engineer\n",
      "\n",
      "Search JobsSkip navigationSearch JobsNIKE, INC. JOBSContract JobsJoin The Talent CommunityLife @ NikeOverviewBenefitsBrandsOverviewJordanConverseTeamsOverviewAdministrative SupportAdvanced InnovationAir Manufacturing InnovationAviationCommunicationsCustomer ServiceDesignDigitalFacilitiesFinance & AccountingGovernment & Public AffairsHuman ResourcesInsights & AnalyticsLegalManufacturing & EngineeringMarketingMerchandisingPlanningPrivacyProcurementProduct Creation, Development & ManagementRetail CorporateRetail StoresSalesSocial & Community ImpactSports MarketingStrategic PlanningSupply Chain, Distribution & LogisticsSustainabilityTechnologyLocationsOverviewNike WHQNike New York HQEHQ: Hilversum, The NetherlandsELC: Laakdal, BelgiumGreater China HQDiversity, Equity & InclusionOverviewMilitary InclusionDisability InclusionIndigenous InclusionInternshipsData & AnalyticsSenior Machine Learning EngineerGdansk, PomeranianBecome a Part of the NIKE, Inc. Team\n",
      "NIKE, Inc. does more than outfit the world’s best athletes. It is a place to explore potential, obliterate boundaries and push out the edges of what can be. The company looks for people who can grow, think, dream and create. Its culture thrives by embracing diversity and rewarding imagination. The brand seeks achievers, leaders and visionaries. At NIKE, Inc. it’s about each person bringing skills and passion to a challenging and constantly evolving game.Become a Part of the NIKE, Inc. TeamNIKE, Inc. does more than outfit the world's best athletes. It is a place to explore potential, obliterate boundaries and push out the edges of what can be. The company looks for people who can grow, think, dream and create. Its culture thrives by embracing diversity and rewarding imagination. The brand seeks achievers, leaders and visionaries. At Nike, it’s about each person bringing skills and passion to a challenging and constantly evolving game.WHO WE ARE LOOKING FORAs a Senior Machine Learning Engineer within the AIML team, you will be developing sophisticated analytics systems that directly impact our business. You will work on a cross-disciplinary team (DevOps/Data/Software Engineering) to enable data-driven decision-making across multiple organizations.Working at the intersection of machine learning and software engineering, you’ll create high-quality solutions that power Nike. You will work with others who are energized by the challenge of building things from the ground up, thinking out of the box, and applying the latest technologies in statistical, unsupervised, supervised, and machine-learning models at a global scale. Our teams enjoy a collaborative and academic environment that promotes developing new skills, mentorship, and a drive to deliver knowledge and software back to analytics and engineering communities, within and Nike and without. This culture is cultivated by intellectual curiosity, fun, willingness, and diversity.WHO YOU WILL WORK WITHAIML is one of the key groups within Data and Artificial Intelligence. We’re chartered to scale machine learning and AI at Nike. For areas of the business early in their analytics journey, we embed cross-disciplinary teams of data scientists and engineers to unlock new capabilities and answer unsolved (or unasked!) questions.In mature areas with preexisting data science teams, we help scale machine learning by attaching engineering squads to grow their capacity to deliver for the business. In addition, we collaborate closely with platform and architecture partners to develop capabilities that simplify machine learning at scale within Nike (e.g. model deployment, A/B testing, model monitoring).Crucial Job Functions:Serve as an integral member of a multi-functional engineering team that delivers solutions unlocking machine learning for Nike. You will analyze and profile data to uncover insights in support of scalable solutions, and clean, prepare and verify the integrity of data for analysis and model creation. You’ll also track model accuracy, performance, relevance, and reliability. You will apply a variety of machine learning and collaborative filtering methods to data sets. You will aid in building APIs and software libraries that support the adoption of models in productionLeverage your prior experience, knowledge of industry trends, and personal creativity to develop new and innovative solutions which delight our customers in their mission to serve AthletesStay current with industry trends and recommend relevant technologies & products in the areas of Analytics, Machine Learning, Artificial Intelligence, and Data Science tools and other emerging technologies. Given the rapid pace of change in technology and machine learning today, always be pushing the boundary of what’s possible and be on the offence alwaysAccept and embody Nike’s core values (maxims) in your work and interactions with peers and stakeholders. Communicate effectively, build trust and strong relationships across the company, and do the right thingWHAT YOU BRINGExperience in the field of ML Engineering or Software Engineering with a comparable bachelor’s degree in a relevant field, like computer science or software engineering, or equivalent experienceUnderstanding of Machine Learning, its applications, and the lifecycle of an ML application in production; including an ability to articulate the role of MLOps in the machine learning development life cycle from experimentation to production and measurementAn ability to significantly communicate, written, orally, and visually technical topics with peers and articulate the benefits and tradeoffs of various solutionsAbility to write robust, maintainable, and extendable code in PythonExperience working in and/or collaborating with a partial or fully distributed teamStrong experiential understanding of data structures, algorithms, and data solutionsFamiliarity with frameworks such as Scikit-learn, PyTorch, Tensorflow, Spark, FastAPI or similar platforms and frameworksExperience with cloud architecture and technologies (preferably Amazon Web Services: ECR, SageMaker, Lambda, API Gateway)Familiarity with pipeline orchestration tools such as AirFlowAwareness of CI/CD pipelines and containerization is preferredFluency in the application of open-source technologies and the potential of standardized platforms in the area of Data Science, AI & MLNice to have: an interest in the potential of Generative AI to accelerate common development and data science tasks, or the deployment of Generative AI solutions in the enterprise#LI-EMEA NIKE, Inc. is a growth company that looks for team members to grow with it. Nike offers a generous total rewards package, a casual work environment, a diverse and inclusive culture, and an electric atmosphere for professional development. No matter the location, or the role, every Nike employee shares one galvanizing mission: To bring inspiration and innovation to every athlete* in the world.NIKE, Inc. is committed to employing a diverse workforce. Qualified applicants will receive consideration without regard to race, colour, religion, sex, national origin, age, sexual orientation, gender identity, gender expression, veteran status, or disability.NIKE, Inc. is a growth company that looks for team members to grow with it. Nike offers a generous total rewards package, casual work environment, a diverse and inclusive culture, and an electric atmosphere for professional development. No matter the location, or the role, every Nike employee shares one galvanizing mission: To bring inspiration and innovation to every athlete* in the world.NIKE, Inc. is committed to employing a diverse workforce. Qualified applicants will receive consideration without regard to race, color, religion, sex, national origin, age, sexual orientation, gender identity, gender expression, veteran status, or disability.How We HireAt NIKE, Inc. we promise to provide a premium, inclusive, compelling and authentic candidate experience. Delivering on this promise means we allow you to be at your best — and to do that, you need to understand how the hiring process works. Transparency is key.\n",
      "\n",
      "* This overview explains our hiring process for corporate roles. Note there may be different hiring steps involved for non-corporate roles.Start nowBenefitsWhether it’s transportation or financial health, we continually invest in our employees to help them achieve greatness — inside and outside of work. All who work here should be able to realize their full potential.Employee Assistance ProgramHolidaysMedical PlanPaid Time Off (PTO)Product DiscountsLearn moreFIND A STOREBECOME A MEMBERSIGN UP FOR EMAILSEND US FEEDBACKSTUDENT DISCOUNTSGET HELPGET HELPOrder StatusDeliveryReturnsPayment OptionsContact Us On Nike.com InquiriesContact Us On All Other InquiriesABOUT NIKEABOUT NIKENewsCareersInvestorsSustainabilityIndia© 2024 Nike, Inc. All Rights ReservedGuidesNike AdaptNike Air MaxNike FlyleatherNike PegasusNike Zoom FlyNike AirNike FlyEaseNike FreeNike ReactNike ZoomXNike Air Force 1Nike FlyknitNike JoyrideNike VaporflyTerms of SaleTerms of UseNike Privacy Policy\n"
     ]
    }
   ],
   "source": [
    "page_data=loader.load().pop().page_content\n",
    "print(page_data)"
   ]
  },
  {
   "cell_type": "code",
   "execution_count": 4,
   "metadata": {},
   "outputs": [],
   "source": [
    "from langchain_core.prompts import PromptTemplate\n",
    "\n",
    "prompt_extract = PromptTemplate.from_template(\n",
    "     \"\"\"\n",
    "        ### SCRAPED TEXT FROM WEBSITE:\n",
    "        {page_data}\n",
    "        ### INSTRUCTION:\n",
    "        The scraped text is from the career's page of a website.\n",
    "        Your job is to extract the job postings and return them in JSON format containing the \n",
    "        following keys: `role`, `experience`, `skills` and `description`.\n",
    "        Only return the valid JSON.\n",
    "        ### VALID JSON (NO PREAMBLE):    \n",
    "        \"\"\"\n",
    ")\n",
    "\n",
    "#Chaining\n",
    "chain_extract=prompt_extract|llm"
   ]
  },
  {
   "cell_type": "code",
   "execution_count": 5,
   "metadata": {},
   "outputs": [
    {
     "name": "stdout",
     "output_type": "stream",
     "text": [
      "```json\n",
      "{\n",
      "  \"role\": \"Senior Machine Learning Engineer\",\n",
      "  \"experience\": \"Experience in the field of ML Engineering or Software Engineering with a comparable bachelor’s degree in a relevant field, like computer science or software engineering, or equivalent experience\",\n",
      "  \"skills\": [\n",
      "    \"Understanding of Machine Learning, its applications, and the lifecycle of an ML application in production\",\n",
      "    \"Ability to significantly communicate, written, orally, and visually technical topics with peers and articulate the benefits and tradeoffs of various solutions\",\n",
      "    \"Ability to write robust, maintainable, and extendable code in Python\",\n",
      "    \"Experience working in and/or collaborating with a partial or fully distributed team\",\n",
      "    \"Strong experiential understanding of data structures, algorithms, and data solutions\",\n",
      "    \"Familiarity with frameworks such as Scikit-learn, PyTorch, Tensorflow, Spark, FastAPI or similar platforms and frameworks\",\n",
      "    \"Experience with cloud architecture and technologies (preferably Amazon Web Services: ECR, SageMaker, Lambda, API Gateway)\",\n",
      "    \"Familiarity with pipeline orchestration tools such as AirFlow\",\n",
      "    \"Awareness of CI/CD pipelines and containerization is preferred\",\n",
      "    \"Fluency in the application of open-source technologies and the potential of standardized platforms in the area of Data Science, AI & ML\"\n",
      "  ],\n",
      "  \"description\": \"As a Senior Machine Learning Engineer within the AIML team, you will be developing sophisticated analytics systems that directly impact our business. You will work on a cross-disciplinary team (DevOps/Data/Software Engineering) to enable data-driven decision-making across multiple organizations.\"\n",
      "}\n",
      "```\n"
     ]
    }
   ],
   "source": [
    "res=chain_extract.invoke(input={'page_data':page_data})\n",
    "print(res.content)"
   ]
  },
  {
   "cell_type": "code",
   "execution_count": 6,
   "metadata": {},
   "outputs": [
    {
     "data": {
      "text/plain": [
       "str"
      ]
     },
     "execution_count": 6,
     "metadata": {},
     "output_type": "execute_result"
    }
   ],
   "source": [
    "type(res.content)"
   ]
  },
  {
   "cell_type": "code",
   "execution_count": 7,
   "metadata": {},
   "outputs": [
    {
     "name": "stdout",
     "output_type": "stream",
     "text": [
      "{'role': 'Senior Machine Learning Engineer', 'experience': 'Experience in the field of ML Engineering or Software Engineering with a comparable bachelor’s degree in a relevant field, like computer science or software engineering, or equivalent experience', 'skills': ['Understanding of Machine Learning, its applications, and the lifecycle of an ML application in production', 'Ability to significantly communicate, written, orally, and visually technical topics with peers and articulate the benefits and tradeoffs of various solutions', 'Ability to write robust, maintainable, and extendable code in Python', 'Experience working in and/or collaborating with a partial or fully distributed team', 'Strong experiential understanding of data structures, algorithms, and data solutions', 'Familiarity with frameworks such as Scikit-learn, PyTorch, Tensorflow, Spark, FastAPI or similar platforms and frameworks', 'Experience with cloud architecture and technologies (preferably Amazon Web Services: ECR, SageMaker, Lambda, API Gateway)', 'Familiarity with pipeline orchestration tools such as AirFlow', 'Awareness of CI/CD pipelines and containerization is preferred', 'Fluency in the application of open-source technologies and the potential of standardized platforms in the area of Data Science, AI & ML'], 'description': 'As a Senior Machine Learning Engineer within the AIML team, you will be developing sophisticated analytics systems that directly impact our business. You will work on a cross-disciplinary team (DevOps/Data/Software Engineering) to enable data-driven decision-making across multiple organizations.'}\n"
     ]
    }
   ],
   "source": [
    "from langchain_core.output_parsers import JsonOutputParser\n",
    "json_parser=JsonOutputParser()\n",
    "json_res=json_parser.parse(res.content)\n",
    "print(json_res)"
   ]
  },
  {
   "cell_type": "code",
   "execution_count": 8,
   "metadata": {},
   "outputs": [
    {
     "data": {
      "text/plain": [
       "dict"
      ]
     },
     "execution_count": 8,
     "metadata": {},
     "output_type": "execute_result"
    }
   ],
   "source": [
    "type(json_res)"
   ]
  },
  {
   "cell_type": "code",
   "execution_count": 9,
   "metadata": {},
   "outputs": [],
   "source": [
    "import pandas as pd\n",
    "df=pd.read_csv(\"portfolio.csv\")"
   ]
  },
  {
   "cell_type": "code",
   "execution_count": 10,
   "metadata": {},
   "outputs": [
    {
     "data": {
      "text/html": [
       "<div>\n",
       "<style scoped>\n",
       "    .dataframe tbody tr th:only-of-type {\n",
       "        vertical-align: middle;\n",
       "    }\n",
       "\n",
       "    .dataframe tbody tr th {\n",
       "        vertical-align: top;\n",
       "    }\n",
       "\n",
       "    .dataframe thead th {\n",
       "        text-align: right;\n",
       "    }\n",
       "</style>\n",
       "<table border=\"1\" class=\"dataframe\">\n",
       "  <thead>\n",
       "    <tr style=\"text-align: right;\">\n",
       "      <th></th>\n",
       "      <th>TechStack</th>\n",
       "      <th>Link</th>\n",
       "    </tr>\n",
       "  </thead>\n",
       "  <tbody>\n",
       "    <tr>\n",
       "      <th>0</th>\n",
       "      <td>Computer Vision,YOLO</td>\n",
       "      <td>https://github.com/Hariprasaadh/DocScanner</td>\n",
       "    </tr>\n",
       "    <tr>\n",
       "      <th>1</th>\n",
       "      <td>Deep Learning, App Development</td>\n",
       "      <td>https://github.com/Hariprasaadh/weed_detection...</td>\n",
       "    </tr>\n",
       "    <tr>\n",
       "      <th>2</th>\n",
       "      <td>Machine Learning, Python</td>\n",
       "      <td>https://github.com/Hariprasaadh/Housing_Prices...</td>\n",
       "    </tr>\n",
       "    <tr>\n",
       "      <th>3</th>\n",
       "      <td>My Profile</td>\n",
       "      <td>https://www.linkedin.com/in/hariprasaadh-k-a54...</td>\n",
       "    </tr>\n",
       "    <tr>\n",
       "      <th>4</th>\n",
       "      <td>Tensorflow,Scikit-Learn</td>\n",
       "      <td>https://github.com/Hariprasaadh/Titanic-Surviv...</td>\n",
       "    </tr>\n",
       "    <tr>\n",
       "      <th>5</th>\n",
       "      <td>Web, App</td>\n",
       "      <td>https://github.com/mithilgirish/Crop-Core_Tech</td>\n",
       "    </tr>\n",
       "    <tr>\n",
       "      <th>6</th>\n",
       "      <td>data structures, algorithms</td>\n",
       "      <td>https://leetcode.com/u/Hariprasaadh_K/</td>\n",
       "    </tr>\n",
       "  </tbody>\n",
       "</table>\n",
       "</div>"
      ],
      "text/plain": [
       "                        TechStack  \\\n",
       "0            Computer Vision,YOLO   \n",
       "1  Deep Learning, App Development   \n",
       "2        Machine Learning, Python   \n",
       "3                      My Profile   \n",
       "4         Tensorflow,Scikit-Learn   \n",
       "5                        Web, App   \n",
       "6     data structures, algorithms   \n",
       "\n",
       "                                                Link  \n",
       "0         https://github.com/Hariprasaadh/DocScanner  \n",
       "1  https://github.com/Hariprasaadh/weed_detection...  \n",
       "2  https://github.com/Hariprasaadh/Housing_Prices...  \n",
       "3  https://www.linkedin.com/in/hariprasaadh-k-a54...  \n",
       "4  https://github.com/Hariprasaadh/Titanic-Surviv...  \n",
       "5     https://github.com/mithilgirish/Crop-Core_Tech  \n",
       "6             https://leetcode.com/u/Hariprasaadh_K/  "
      ]
     },
     "execution_count": 10,
     "metadata": {},
     "output_type": "execute_result"
    }
   ],
   "source": [
    "df"
   ]
  },
  {
   "cell_type": "code",
   "execution_count": 11,
   "metadata": {},
   "outputs": [],
   "source": [
    "import uuid\n",
    "import chromadb\n",
    "client=chromadb.PersistentClient('vectorstore')\n",
    "collection=client.get_or_create_collection(name=\"portfolio\")\n",
    "\n",
    "if not collection.count():\n",
    "    for _,row in df.iterrows():\n",
    "        collection.add(\n",
    "            documents=row[\"TechStack\"],\n",
    "            metadatas={\"links\":row[\"Link\"]},\n",
    "            ids=[str(uuid.uuid4())]\n",
    "        )"
   ]
  },
  {
   "cell_type": "code",
   "execution_count": 12,
   "metadata": {},
   "outputs": [
    {
     "name": "stdout",
     "output_type": "stream",
     "text": [
      "[[{'links': 'https://github.com/Hariprasaadh/Housing_Prices-Advanced_Regression_Techniques'}, {'links': 'https://github.com/Hariprasaadh/Titanic-Survival-Prediction'}], [{'links': 'https://github.com/Hariprasaadh/DocScanner'}, {'links': 'https://github.com/Hariprasaadh/Housing_Prices-Advanced_Regression_Techniques'}]]\n"
     ]
    }
   ],
   "source": [
    "links=collection.query(query_texts=[\"experience in python\",\"Expertise in Computer Vision\"],n_results=2).get('metadatas',[])\n",
    "print(links)"
   ]
  },
  {
   "cell_type": "code",
   "execution_count": 13,
   "metadata": {},
   "outputs": [
    {
     "data": {
      "text/plain": [
       "['Understanding of Machine Learning, its applications, and the lifecycle of an ML application in production',\n",
       " 'Ability to significantly communicate, written, orally, and visually technical topics with peers and articulate the benefits and tradeoffs of various solutions',\n",
       " 'Ability to write robust, maintainable, and extendable code in Python',\n",
       " 'Experience working in and/or collaborating with a partial or fully distributed team',\n",
       " 'Strong experiential understanding of data structures, algorithms, and data solutions',\n",
       " 'Familiarity with frameworks such as Scikit-learn, PyTorch, Tensorflow, Spark, FastAPI or similar platforms and frameworks',\n",
       " 'Experience with cloud architecture and technologies (preferably Amazon Web Services: ECR, SageMaker, Lambda, API Gateway)',\n",
       " 'Familiarity with pipeline orchestration tools such as AirFlow',\n",
       " 'Awareness of CI/CD pipelines and containerization is preferred',\n",
       " 'Fluency in the application of open-source technologies and the potential of standardized platforms in the area of Data Science, AI & ML']"
      ]
     },
     "execution_count": 13,
     "metadata": {},
     "output_type": "execute_result"
    }
   ],
   "source": [
    "job=json_res\n",
    "job['skills']"
   ]
  },
  {
   "cell_type": "code",
   "execution_count": 14,
   "metadata": {},
   "outputs": [
    {
     "name": "stdout",
     "output_type": "stream",
     "text": [
      "[[{'links': 'https://github.com/Hariprasaadh/Housing_Prices-Advanced_Regression_Techniques'}, {'links': 'https://github.com/Hariprasaadh/weed_detection_app'}], [{'links': 'https://github.com/mithilgirish/Crop-Core_Tech'}, {'links': 'https://github.com/Hariprasaadh/DocScanner'}], [{'links': 'https://github.com/Hariprasaadh/Housing_Prices-Advanced_Regression_Techniques'}, {'links': 'https://leetcode.com/u/Hariprasaadh_K/'}], [{'links': 'https://github.com/mithilgirish/Crop-Core_Tech'}, {'links': 'https://github.com/Hariprasaadh/weed_detection_app'}], [{'links': 'https://leetcode.com/u/Hariprasaadh_K/'}, {'links': 'https://github.com/Hariprasaadh/Housing_Prices-Advanced_Regression_Techniques'}], [{'links': 'https://github.com/Hariprasaadh/Titanic-Survival-Prediction'}, {'links': 'https://github.com/Hariprasaadh/weed_detection_app'}], [{'links': 'https://github.com/mithilgirish/Crop-Core_Tech'}, {'links': 'https://github.com/Hariprasaadh/weed_detection_app'}], [{'links': 'https://github.com/Hariprasaadh/weed_detection_app'}, {'links': 'https://github.com/Hariprasaadh/Titanic-Survival-Prediction'}], [{'links': 'https://github.com/Hariprasaadh/weed_detection_app'}, {'links': 'https://github.com/Hariprasaadh/DocScanner'}], [{'links': 'https://github.com/Hariprasaadh/Housing_Prices-Advanced_Regression_Techniques'}, {'links': 'https://github.com/Hariprasaadh/weed_detection_app'}]]\n"
     ]
    }
   ],
   "source": [
    "links=collection.query(query_texts=job['skills'],n_results=2).get('metadatas',[])\n",
    "print(links)"
   ]
  },
  {
   "cell_type": "code",
   "execution_count": 15,
   "metadata": {},
   "outputs": [],
   "source": [
    "prompt_email=PromptTemplate.from_template(\n",
    "     \"\"\"\n",
    "        ### JOB DESCRIPTION:\n",
    "        {job_description}\n",
    "        \n",
    "        ### INSTRUCTION:\n",
    "        You are K. Hariprasaadh, a passionate and dedicated candidate pursuing B.Tech in CSE with a specialization in AI and ML at VIT University, Chennai. \n",
    "        You have a strong academic foundation with a CGPA of 9.61, excellent programming skills in Python, C++, and Java, and extensive experience in \n",
    "        machine learning, computer vision, and competitive programming. You have also actively participated and won multiple hackathons and have \n",
    "        successfully developed projects like a crop management web app and educational technology tools.\n",
    "\n",
    "        Based on the job description provided, your task is to write a professional and persuasive email expressing your enthusiasm to join the \n",
    "        company Nike. Highlight how your academic achievements, technical expertise, and project experience align with the company's goals. \n",
    "        Mention your key accomplishments and how your skills can contribute effectively to the role and the company’s mission.\n",
    "        Also add the most relevant ones from the following links to showcase portfolio and add my profile link also: {link_list}\n",
    "\n",
    "        Ensure the tone is formal, enthusiastic, and customized to the company's values and the role requirements. \n",
    "        Do not provide a preamble.\n",
    "        ### EMAIL (NO PREAMBLE):\n",
    "        \n",
    "        \"\"\"\n",
    ")\n",
    "\n",
    "chain_email=prompt_email|llm\n",
    "res=chain_email.invoke({\"job_description\":str(job),\"link_list\":links})"
   ]
  },
  {
   "cell_type": "code",
   "execution_count": 16,
   "metadata": {},
   "outputs": [
    {
     "name": "stdout",
     "output_type": "stream",
     "text": [
      "content=\"Subject: Application for Senior Machine Learning Engineer Role at Nike\\n\\nDear Hiring Manager,\\n\\nI am thrilled to apply for the Senior Machine Learning Engineer position at Nike, where I can leverage my passion for machine learning, computer vision, and software engineering to drive innovation and excellence. As a dedicated and passionate individual with a strong academic foundation in Computer Science and Engineering with a specialization in AI and ML from VIT University, Chennai, I am confident that my skills and experience align with the company's goals.\\n\\nWith a CGPA of 9.61, I have consistently demonstrated academic excellence and a strong understanding of programming languages such as Python, C++, and Java. My extensive experience in machine learning, computer vision, and competitive programming has equipped me with the skills to develop sophisticated analytics systems that can directly impact business outcomes. I am excited about the prospect of working on a cross-disciplinary team to enable data-driven decision-making across multiple organizations.\\n\\nAs a skilled programmer, I have developed a range of projects that showcase my technical expertise. Some of my notable projects include:\\n\\n* A crop management web app (https://github.com/mithilgirish/Crop-Core_Tech) that utilizes machine learning algorithms to predict crop yields and provide insights for farmers.\\n* A weed detection app (https://github.com/Hariprasaadh/weed_detection_app) that leverages computer vision techniques to detect weeds in agricultural fields.\\n* A housing prices prediction model (https://github.com/Hariprasaadh/Housing_Prices-Advanced_Regression_Techniques) that utilizes advanced regression techniques to predict housing prices.\\n* A Titanic survival prediction model (https://github.com/Hariprasaadh/Titanic-Survival-Prediction) that utilizes machine learning algorithms to predict survival rates.\\n\\nI am also an active participant in competitive programming and have won multiple hackathons. My LeetCode profile (https://leetcode.com/u/Hariprasaadh_K/) showcases my problem-solving skills and ability to write efficient code.\\n\\nI am particularly drawn to Nike's commitment to innovation and sustainability. As a company that values creativity, teamwork, and community, I believe that my skills and experience would be a valuable asset to the team. I am excited about the prospect of working with a talented team of engineers and data scientists to develop cutting-edge analytics systems that drive business outcomes.\\n\\nThank you for considering my application. I would welcome the opportunity to discuss my qualifications further and explore how I can contribute to Nike's mission.\\n\\nSincerely,\\nK. Hariprasaadh\" additional_kwargs={} response_metadata={'token_usage': {'completion_tokens': 513, 'prompt_tokens': 1345, 'total_tokens': 1858, 'completion_time': 2.052, 'prompt_time': 0.265356078, 'queue_time': 0.16457596000000002, 'total_time': 2.317356078}, 'model_name': 'llama-3.1-70b-versatile', 'system_fingerprint': 'fp_b6828be2c9', 'finish_reason': 'stop', 'logprobs': None} id='run-f40aecd6-b33a-4a28-af08-ef458ef3d26f-0' usage_metadata={'input_tokens': 1345, 'output_tokens': 513, 'total_tokens': 1858}\n"
     ]
    }
   ],
   "source": [
    "print(res)"
   ]
  },
  {
   "cell_type": "code",
   "execution_count": null,
   "metadata": {},
   "outputs": [],
   "source": []
  }
 ],
 "metadata": {
  "kernelspec": {
   "display_name": "Python 3",
   "language": "python",
   "name": "python3"
  },
  "language_info": {
   "codemirror_mode": {
    "name": "ipython",
    "version": 3
   },
   "file_extension": ".py",
   "mimetype": "text/x-python",
   "name": "python",
   "nbconvert_exporter": "python",
   "pygments_lexer": "ipython3",
   "version": "3.9.21"
  }
 },
 "nbformat": 4,
 "nbformat_minor": 2
}
