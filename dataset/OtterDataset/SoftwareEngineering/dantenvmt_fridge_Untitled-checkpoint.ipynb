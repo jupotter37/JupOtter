{
 "cells": [
  {
   "cell_type": "code",
   "execution_count": 1,
   "id": "fcdf71f3-26ed-42c5-9b1e-645ebd936264",
   "metadata": {},
   "outputs": [],
   "source": [
    "from langchain_groq import ChatGroq"
   ]
  },
  {
   "cell_type": "code",
   "execution_count": 2,
   "id": "b7743905-60b8-4956-b440-dc737e250aa2",
   "metadata": {},
   "outputs": [],
   "source": [
    "api_key = \"xxxx\"\n",
    "\n",
    "\n",
    "\n",
    "llm = ChatGroq(\n",
    "   temperature = 0,\n",
    "    groq_api_key = api_key,\n",
    "    model_name = \"llama-3.1-70b-versatile\"\n",
    ")"
   ]
  },
  {
   "cell_type": "code",
   "execution_count": 3,
   "id": "fc87b7e9-9267-4e75-923b-6a59c939e890",
   "metadata": {},
   "outputs": [],
   "source": [
    "response = llm.invoke('hi')"
   ]
  },
  {
   "cell_type": "code",
   "execution_count": 4,
   "id": "2ad3df09-3591-4034-ae66-12c7e1581ef5",
   "metadata": {},
   "outputs": [
    {
     "data": {
      "text/plain": [
       "'How can I help you today?'"
      ]
     },
     "execution_count": 4,
     "metadata": {},
     "output_type": "execute_result"
    }
   ],
   "source": [
    "response.content"
   ]
  },
  {
   "cell_type": "code",
   "execution_count": 5,
   "id": "6145b954-4799-4707-a221-4b246670a11b",
   "metadata": {},
   "outputs": [
    {
     "name": "stderr",
     "output_type": "stream",
     "text": [
      "USER_AGENT environment variable not set, consider setting it to identify your requests.\n"
     ]
    },
    {
     "name": "stdout",
     "output_type": "stream",
     "text": [
      "AI Product Engineer (New Grad)Open Product optionsProductPricingEnterpriseOpen Resources optionsResourcesDocsOpen Company optionsCompanyGet CodeiumBack to job openingsAI Product Engineer (New Grad)Mountain View (HQ)•Full Time•$140K – $160K • Offers EquityApply nowWe're looking for AI Product Engineers to join us on our mission to build AI superpowers for developers.About CodeiumFeatured on the Forbes AI 50 list, Codeium has risen to become a leader in the AI developer tools space in just over a year, giving hundreds of thousands of users around the world code autocomplete, in-editor chat assistants, and more. our IDE extensions span 70+ programming languages and 40+ editors. Our state-of-the-art proprietary language models and custom inference stack allow us to deliver the best experience possible to our users. We've achieved substantial revenue and enterprise traction as proof of the quality and usefulness of our tools.We're one of the fastest growing AI startups, focused on product, revenue, and customer experience. We work hard, and we operate with a high degree of trust, agency, and ownership.What you'll doPropose and build AI-powered experiences for millions of developers, including professional software engineers for Fortune 500.Interface with complex, AI-powered systems, such as context retrieval and code generation, with emphasis on delivering efficient, scalable code.Demonstrate initiative and the ability to start and make progress on projects independently.Swiftly design, track, and analyze new product experiment results. Document findings and synthesize data with a drive to consistently improve.About YouStrong software engineering skills. Code reviews are a regular culture of the company.A team player and self-starter. Hunger to dream up, plan, design, build, and iterate on products independently without the guidance of a product manager or designer.Deep curiosity about the latest AI research and applications . You’re passionate about how AI can change software development and are motivated to turn these into a reality.Familiarity with AI-powered developer tools like Codeium, Copilot, ChatGPT, and others is a strong plus.What we believeOur best work is done in person. The team goes 5 days a week into our office in downtown Mountain View, CA (within walking distance of the Caltrain station, commuter benefits from San Francisco).Engineers own projects end to end. No one knows the product better than the creator and they should drive brainstorming, design, iteration, and user research. We rarely do \"handoffs.\"Research is in service of a better product. While we read many papers, we won't have time to write them. The best AI researchers have excellent software engineering skills and know that infrastructure and evaluation work are critical.Recent projectsSome of the things that our engineers have worked on recently:Regularly deploying an autocomplete and chat product that scales to hundreds of thousands of daily active users across 40+ IDEs.Codeium Live: Chat in your browser with popular repositories.An internal Kubernetes-native data processing framework to handle petabytes of data across thousands of spot CPUs.A code attribution service for customers who want to ensure any generated code is licensed properly.Remote parsing, embedding, and indexing of users' codebases.Apply nowFooterYour modern coding superpowers.MailmailTwittertwitterDiscorddiscordDiscordLinkedInlinkedinRedditredditYouTubeyoutubeProductExtensionsIndustryCompanySupportCommunity© 2024 Exafunction, Inc. All rights reserved.\n"
     ]
    }
   ],
   "source": [
    "from langchain_community.document_loaders import WebBaseLoader\n",
    "\n",
    "loader = WebBaseLoader(\"https://codeium.com/careers/558657be-5082-4e97-8509-d49f5c25bf5b\")\n",
    "page_data = loader.load().pop().page_content\n",
    "print(page_data)"
   ]
  },
  {
   "cell_type": "code",
   "execution_count": 6,
   "id": "628efdc5-57c4-4d54-9440-c7fe8f881e4a",
   "metadata": {},
   "outputs": [],
   "source": [
    "from langchain_core.prompts import PromptTemplate\n",
    "\n",
    "prompt_extract = PromptTemplate.from_template(\n",
    "          \"\"\"\n",
    "        ### SCRAPED TEXT FROM WEBSITE:\n",
    "        {page_data}\n",
    "        ### INSTRUCTION:\n",
    "        The scraped text is from the career's page of a website.\n",
    "        Your job is to extract the job postings and return them in JSON format containing the \n",
    "        following keys: `role`, `experience`, `skills` and `description`. just give one role, and return a dict\n",
    "        Only return the valid JSON. \n",
    "        ### VALID JSON (NO PREAMBLE):    \n",
    "        \"\"\"\n",
    ")"
   ]
  },
  {
   "cell_type": "code",
   "execution_count": 7,
   "id": "a1bdeeb9-3cd0-4fef-aff2-28cd4021cc79",
   "metadata": {},
   "outputs": [
    {
     "name": "stdout",
     "output_type": "stream",
     "text": [
      "```\n",
      "{\n",
      "    \"role\": \"AI Product Engineer (New Grad)\",\n",
      "    \"experience\": \"New Grad\",\n",
      "    \"skills\": [\n",
      "        \"Strong software engineering skills\",\n",
      "        \"Familiarity with AI-powered developer tools like Codeium, Copilot, ChatGPT, and others\"\n",
      "    ],\n",
      "    \"description\": \"Propose and build AI-powered experiences for millions of developers, including professional software engineers for Fortune 500. Interface with complex, AI-powered systems, such as context retrieval and code generation, with emphasis on delivering efficient, scalable code.\"\n",
      "}\n",
      "```\n"
     ]
    }
   ],
   "source": [
    "langchain_extract = prompt_extract | llm\n",
    "res = langchain_extract.invoke(input = {'page_data':page_data})\n",
    "print(res.content)\n"
   ]
  },
  {
   "cell_type": "code",
   "execution_count": 8,
   "id": "9513b5f3-062a-4d6d-9e86-827d52ef40a5",
   "metadata": {},
   "outputs": [
    {
     "data": {
      "text/plain": [
       "{'role': 'AI Product Engineer (New Grad)',\n",
       " 'experience': 'New Grad',\n",
       " 'skills': ['Strong software engineering skills',\n",
       "  'Familiarity with AI-powered developer tools like Codeium, Copilot, ChatGPT, and others'],\n",
       " 'description': 'Propose and build AI-powered experiences for millions of developers, including professional software engineers for Fortune 500. Interface with complex, AI-powered systems, such as context retrieval and code generation, with emphasis on delivering efficient, scalable code.'}"
      ]
     },
     "execution_count": 8,
     "metadata": {},
     "output_type": "execute_result"
    }
   ],
   "source": [
    "from langchain_core.output_parsers import JsonOutputParser\n",
    "\n",
    "json_parser = JsonOutputParser()\n",
    "json_res = json_parser.parse(res.content)\n",
    "json_res"
   ]
  },
  {
   "cell_type": "code",
   "execution_count": 9,
   "id": "198a26db-66bd-4b1c-bb85-8de37add6638",
   "metadata": {},
   "outputs": [
    {
     "data": {
      "text/plain": [
       "dict"
      ]
     },
     "execution_count": 9,
     "metadata": {},
     "output_type": "execute_result"
    }
   ],
   "source": [
    "type(json_res)"
   ]
  },
  {
   "cell_type": "code",
   "execution_count": 12,
   "id": "2ee9ee82-f152-400e-833a-fd9fe972f09c",
   "metadata": {},
   "outputs": [
    {
     "data": {
      "text/html": [
       "<div>\n",
       "<style scoped>\n",
       "    .dataframe tbody tr th:only-of-type {\n",
       "        vertical-align: middle;\n",
       "    }\n",
       "\n",
       "    .dataframe tbody tr th {\n",
       "        vertical-align: top;\n",
       "    }\n",
       "\n",
       "    .dataframe thead th {\n",
       "        text-align: right;\n",
       "    }\n",
       "</style>\n",
       "<table border=\"1\" class=\"dataframe\">\n",
       "  <thead>\n",
       "    <tr style=\"text-align: right;\">\n",
       "      <th></th>\n",
       "      <th>TechStacks</th>\n",
       "      <th>Link</th>\n",
       "    </tr>\n",
       "  </thead>\n",
       "  <tbody>\n",
       "    <tr>\n",
       "      <th>0</th>\n",
       "      <td>Flask, Pandas</td>\n",
       "      <td>https://github.com/dantenvmt/ISACA-2023</td>\n",
       "    </tr>\n",
       "    <tr>\n",
       "      <th>1</th>\n",
       "      <td>TensorFlow,TensorFlow Keras, Matplotlib</td>\n",
       "      <td>https://github.com/dantenvmt/farmville/</td>\n",
       "    </tr>\n",
       "    <tr>\n",
       "      <th>2</th>\n",
       "      <td>PRAW, Requests, NLTK (SentimentIntensityAnalyzer)</td>\n",
       "      <td>https://github.com/dantenvmt/Stock-Sentiment-A...</td>\n",
       "    </tr>\n",
       "    <tr>\n",
       "      <th>3</th>\n",
       "      <td>langchain, chromadb, llm, steamlit</td>\n",
       "      <td>https://github.com/dantenvmt/fridge</td>\n",
       "    </tr>\n",
       "    <tr>\n",
       "      <th>4</th>\n",
       "      <td>sklearn, numpy, pandas, matplotlib, seaborn</td>\n",
       "      <td>https://github.com/dantenvmt/Ad-Click-Predicti...</td>\n",
       "    </tr>\n",
       "  </tbody>\n",
       "</table>\n",
       "</div>"
      ],
      "text/plain": [
       "                                          TechStacks  \\\n",
       "0                                      Flask, Pandas   \n",
       "1            TensorFlow,TensorFlow Keras, Matplotlib   \n",
       "2  PRAW, Requests, NLTK (SentimentIntensityAnalyzer)   \n",
       "3                 langchain, chromadb, llm, steamlit   \n",
       "4        sklearn, numpy, pandas, matplotlib, seaborn   \n",
       "\n",
       "                                                Link  \n",
       "0            https://github.com/dantenvmt/ISACA-2023  \n",
       "1            https://github.com/dantenvmt/farmville/  \n",
       "2  https://github.com/dantenvmt/Stock-Sentiment-A...  \n",
       "3                https://github.com/dantenvmt/fridge  \n",
       "4  https://github.com/dantenvmt/Ad-Click-Predicti...  "
      ]
     },
     "execution_count": 12,
     "metadata": {},
     "output_type": "execute_result"
    }
   ],
   "source": [
    "import pandas as pd\n",
    "\n",
    "df = pd.read_csv(\"app/resources/TechStacks_Links.csv\")\n",
    "df"
   ]
  },
  {
   "cell_type": "code",
   "execution_count": 13,
   "id": "4e901292-1fae-4bb0-b3fd-0c1bcda01321",
   "metadata": {},
   "outputs": [],
   "source": [
    "import chromadb\n",
    "import uuid\n",
    "\n",
    "client = chromadb.PersistentClient(\"vectorstore\")\n",
    "collection = client.get_or_create_collection(name = 'portforlio')\n",
    "if not collection.count():\n",
    "    for _, row in df.iterrows():\n",
    "        collection.add(documents = row['TechStacks'],\n",
    "                       metadatas = {'links': row['Link']},\n",
    "                       ids = [str(uuid.uuid4())])\n"
   ]
  },
  {
   "cell_type": "code",
   "execution_count": 24,
   "id": "cc36edd8-7554-4e02-9818-b6e0cd2f9bd9",
   "metadata": {},
   "outputs": [
    {
     "name": "stdout",
     "output_type": "stream",
     "text": [
      "['Strong software engineering skills', 'Familiarity with AI-powered developer tools like Codeium, Copilot, ChatGPT, and others']\n"
     ]
    }
   ],
   "source": [
    "jobs = json_res\n",
    "print(skills)\n",
    "skills = jobs['skills']"
   ]
  },
  {
   "cell_type": "code",
   "execution_count": 29,
   "id": "3fc50c4b-de01-41fd-bc52-dad4cd359f1b",
   "metadata": {},
   "outputs": [
    {
     "data": {
      "text/plain": [
       "[[{'links': 'https://github.com/dantenvmt/Stock-Sentiment-Analysis'},\n",
       "  {'links': 'https://github.com/dantenvmt/fridge'}]]"
      ]
     },
     "execution_count": 29,
     "metadata": {},
     "output_type": "execute_result"
    }
   ],
   "source": [
    "links  = collection.query(query_texts = [f'experience in {skills}'], n_results = 2).get('metadatas',[])\n",
    "links"
   ]
  },
  {
   "cell_type": "code",
   "execution_count": 30,
   "id": "af19608a-33b6-4fc2-b7a6-4e0c748fad80",
   "metadata": {},
   "outputs": [],
   "source": [
    "cold_email_prompt = PromptTemplate.from_template(\n",
    "    \"\"\"\n",
    "    ### job description:\n",
    "    {job_description}\n",
    "    ### instruction:\n",
    "\n",
    "    I am Thuan Nguyen, a Master of Science in Business Analytics student at Texas A&M University-Commerce with a 4.0 GPA, expected to graduate in June 2025. My work experience includes a Graduate Research Assistant role and a Data Scientist Intern position at FPT Software, where I worked on projects related to AI-powered web applications, cybersecurity threat detection, and stock sentiment analysis. My technical expertise includes Python, R, SQL, machine learning, and data analysis tools like Excel Solver and Langchain. \n",
    "    I am looking to apply for a data science position. \n",
    "    The job description highlights the need for skills that will be provided in my portfolio {link}\n",
    "    Please help me draft a cold email that highlights my skills, my project experience (such as cybersecurity detection and stock prediction projects), and my interest in the company, while requesting a conversation to discuss potential opportunities.\n",
    "\n",
    "     Do not provide a preamble.\n",
    "    ### EMAIL (NO PREAMBLE):\n",
    "    \"\"\"\n",
    ")"
   ]
  },
  {
   "cell_type": "code",
   "execution_count": 31,
   "id": "9510839e-14b2-4c2a-8c2f-df388f03ea36",
   "metadata": {},
   "outputs": [],
   "source": [
    "cold_chain_email = cold_email_prompt | llm\n",
    "email = cold_chain_email.invoke({\"job_description\": str(jobs), \"link\": links})"
   ]
  },
  {
   "cell_type": "code",
   "execution_count": 32,
   "id": "94ca0dac-a923-43c0-a4c0-afc71f180622",
   "metadata": {},
   "outputs": [
    {
     "name": "stdout",
     "output_type": "stream",
     "text": [
      "Subject: Expressed Interest in AI Product Engineer Role and Exploring Opportunities\n",
      "\n",
      "Dear Hiring Manager,\n",
      "\n",
      "I am excited to reach out to your team as I came across the AI Product Engineer (New Grad) role, and I am confident that my skills and experience make me a strong fit for this position. As a Master of Science in Business Analytics student at Texas A&M University-Commerce, I have developed a solid foundation in software engineering, AI-powered tools, and data analysis.\n",
      "\n",
      "With a strong academic record, maintaining a 4.0 GPA, I am eager to apply my skills in a real-world setting. My experience as a Graduate Research Assistant and Data Scientist Intern at FPT Software has provided me with hands-on experience in AI-powered web applications, cybersecurity threat detection, and stock sentiment analysis. I am excited about the prospect of proposing and building AI-powered experiences for millions of developers and interfacing with complex AI-powered systems.\n",
      "\n",
      "My technical expertise includes proficiency in Python, R, SQL, machine learning, and data analysis tools like Excel Solver and Langchain. I have also worked on various projects, including a stock sentiment analysis project (https://github.com/dantenvmt/Stock-Sentiment-Analysis) and a personal project (https://github.com/dantenvmt/fridge), which demonstrate my ability to design and implement AI-powered solutions.\n",
      "\n",
      "I am particularly drawn to this role because of the opportunity to work with AI-powered developer tools and deliver efficient, scalable code. I am excited about the prospect of joining a team that shares my passion for AI and software engineering.\n",
      "\n",
      "I would appreciate the opportunity to discuss my application and how my skills align with the company's goals. Would you be available for a conversation to explore potential opportunities?\n",
      "\n",
      "Thank you for considering my application. I look forward to hearing from you soon.\n",
      "\n",
      "Best regards,\n",
      "\n",
      "Thuan Nguyen\n"
     ]
    }
   ],
   "source": [
    "print(email.content)"
   ]
  },
  {
   "cell_type": "code",
   "execution_count": null,
   "id": "f14ad574-8e91-40d4-94a7-7081d7314109",
   "metadata": {},
   "outputs": [],
   "source": []
  }
 ],
 "metadata": {
  "kernelspec": {
   "display_name": "Python 3 (ipykernel)",
   "language": "python",
   "name": "python3"
  },
  "language_info": {
   "codemirror_mode": {
    "name": "ipython",
    "version": 3
   },
   "file_extension": ".py",
   "mimetype": "text/x-python",
   "name": "python",
   "nbconvert_exporter": "python",
   "pygments_lexer": "ipython3",
   "version": "3.9.7"
  }
 },
 "nbformat": 4,
 "nbformat_minor": 5
}
