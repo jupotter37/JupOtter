{
 "cells": [
  {
   "cell_type": "code",
   "execution_count": 1,
   "id": "efbf10f2",
   "metadata": {},
   "outputs": [
    {
     "name": "stdout",
     "output_type": "stream",
     "text": [
      "The first person to land on the moon was Neil Armstrong. He stepped onto the lunar surface on July 20, 1969, as part of the Apollo 11 mission.\n"
     ]
    }
   ],
   "source": [
    "from langchain_groq import ChatGroq\n",
    "\n",
    "llm = ChatGroq(\n",
    "    temperature=0,\n",
    
    "    model_name=\"llama-3.1-70b-versatile\"\n",
    ")\n",
    "\n",
    "response = llm.invoke(\"the first person to land on moon was...\")\n",
    "print(response.content)"
   ]
  },
  {
   "cell_type": "code",
   "execution_count": 2,
   "id": "171412b9",
   "metadata": {},
   "outputs": [
    {
     "name": "stderr",
     "output_type": "stream",
     "text": [
      "USER_AGENT environment variable not set, consider setting it to identify your requests.\n"
     ]
    },
    {
     "name": "stdout",
     "output_type": "stream",
     "text": [
      "Apply for Software Engineer III\n",
      "\n",
      "Search JobsSkip navigationSearch JobsNIKE, INC. JOBSContract JobsJoin The Talent CommunityLife @ NikeOverviewBenefitsBrandsOverviewJordanConverseTeamsOverviewAdministrative SupportAdvanced InnovationAir Manufacturing InnovationAviationCommunicationsCustomer ServiceDesignDigitalFacilitiesFinance & AccountingGovernment & Public AffairsHuman ResourcesInsights & AnalyticsLegalManufacturing & EngineeringMarketingMerchandisingPlanningPrivacyProcurementProduct Creation, Development & ManagementRetail CorporateRetail StoresSalesSocial & Community ImpactSports MarketingStrategic PlanningSupply Chain, Distribution & LogisticsSustainabilityTechnologyLocationsOverviewNike WHQNike New York HQEHQ: Hilversum, The NetherlandsELC: Laakdal, BelgiumGreater China HQDiversity, Equity & InclusionOverviewMilitary InclusionDisability InclusionIndigenous InclusionInternshipsTechnologySoftware Engineer IIIBeaverton, OregonBecome a Part of the NIKE, Inc. TeamNIKE, Inc. does more than outfit the world’s best athletes. It is a place to explore potential, obliterate boundaries and push out the edges of what can be. The company looks for people who can grow, think, dream and create. Its culture thrives by embracing diversity and rewarding imagination. The brand seeks achievers, leaders and visionaries. At NIKE, Inc. it’s about each person bringing skills and passion to a challenging and constantly evolving game.NIKE is a technology company. From our flagship website and five-star mobile apps to developing products, managing big data and providing leading edge engineering and systems support, our teams at NIKE Global Technology exist to revolutionize the future at the confluence of tech and sport. We invest and develop advances in technology and employ the most creative people in the world, and then give them the support to constantly innovate, iterate and serve consumers more directly and personally.  Our teams are innovative, diverse, multidisciplinary and collaborative, taking technology into the future and bringing the world with it.Digital Employee Experience Software Engineer IIIBeaverton, Oregon United StatesWHO WE ARE LOOKING FORThe Digital Employee Experience Software Engineer III will be responsible for design, support, development, and testing of internal employee-facing websites and web applications.WHAT YOU WILL WORK ONDesign and develop technical solutions that meet the needs of the business and aligns with Nike architectural and quality standardsApply principles of microservice architecture and domain driven design to develop restful APIs using Node.js.Build mobile first Front-End application in a manner visually and culturally consistent with Nike brand using React.js and Redux.Maximize NoSQL data stores like DynamoDB, MongoDB to ensure data storage is designed for security, availability, maintainability, and performance.Implement asynchronous services by using cloud services such as ECS, S3, Lambdas.Use version control systems (Git) issue tracking tools (Jira) and CI/CD tools using Jenkins and Terraform.Ensure SLAs (Service Level Agreements) for different interfaces are met and test them by executing performance tests using various loads.Provide production support on new and existing applications WHO YOU WILL WORK WITHAs a Software Engineer III You will be working closely with our communication business team and multiple engineering squads across domains to solve a wide range of business and technology related problems and you will be reporting under Software Engineering Director.WHAT YOU BRINGBachelor’s degree in computer science, Information Systems, Business, or other relevant subject area4+ years of professional experience in application engineering4+ years hands-on experience in JavaScript (Node.js, React.js, Vue.js, etc.)Passionate about engineering, operational excellence, DevOps maturity and enabling the team and dependent teams to diagnose and tackle production issues quicklyExperience building self-service APIs, operational support systems and tools on top of those core data pipelines to enable large organizations with diverse data needsFamiliar with agile processes, continuous integration, and test automationAbility to Collaborate on road maps with Product Managers, Architects, and Tech Leads to ensure feasibility and scalability of new features and enhancementsExperience with AWS CloudFront for content delivery and cachingKnowledge of AWS S3 for static website hosting and asset storageFamiliarity with AWS Route 53 for DNS management and understanding of AWS Certificate ManagerProficiency in AWS LambdaExperience with GitHub Co-pilot is an advantageNIKE, Inc. is a growth company that looks for team members to grow with it. Nike offers a generous total rewards package, casual work environment, a diverse and inclusive culture, and an electric atmosphere for professional development. No matter the location, or the role, every Nike employee shares one galvanizing mission: To bring inspiration and innovation to every athlete* in the world.NIKE, Inc. is committed to employing a diverse workforce. Qualified applicants will receive consideration without regard to race, color, religion, sex, national origin, age, sexual orientation, gender identity, gender expression, veteran status, or disability.How We HireAt NIKE, Inc. we promise to provide a premium, inclusive, compelling and authentic candidate experience. Delivering on this promise means we allow you to be at your best — and to do that, you need to understand how the hiring process works. Transparency is key.\r\n",
      "\r\n",
      "* This overview explains our hiring process for corporate roles. Note there may be different hiring steps involved for non-corporate roles.Start nowBenefitsWhether it’s transportation or financial health, we continually invest in our employees to help them achieve greatness — inside and outside of work. All who work here should be able to realize their full potential.Employee Assistance ProgramEmployee Stock Purchase Plan (ESPP)HolidaysMedical PlanPaid Time Off (PTO)Product DiscountsSabbaticalsLearn moreFIND A STOREBECOME A MEMBERSIGN UP FOR EMAILSEND US FEEDBACKSTUDENT DISCOUNTSGET HELPGET HELPOrder StatusDeliveryReturnsPayment OptionsContact Us On Nike.com InquiriesContact Us On All Other InquiriesABOUT NIKEABOUT NIKENewsCareersInvestorsSustainabilityIndia© 2024 Nike, Inc. All Rights ReservedGuidesNike AdaptNike Air MaxNike FlyleatherNike PegasusNike Zoom FlyNike AirNike FlyEaseNike FreeNike ReactNike ZoomXNike Air Force 1Nike FlyknitNike JoyrideNike VaporflyTerms of SaleTerms of UseNike Privacy Policy\n"
     ]
    }
   ],
   "source": [
    "from langchain_community.document_loaders import WebBaseLoader\n",
    "\n",
    "loader = WebBaseLoader(\"https://jobs.nike.com/job/R-38999\")\n",
    "page_data = loader.load().pop().page_content\n",
    "print(page_data)"
   ]
  },
  {
   "cell_type": "code",
   "execution_count": 3,
   "id": "c13b8dd8",
   "metadata": {},
   "outputs": [
    {
     "name": "stdout",
     "output_type": "stream",
     "text": [
      "```\n",
      "{\n",
      "  \"role\": \"Software Engineer III\",\n",
      "  \"experience\": \"4+ years of professional experience in application engineering\",\n",
      "  \"skills\": [\n",
      "    \"JavaScript (Node.js, React.js, Vue.js, etc.)\",\n",
      "    \"Microservice architecture\",\n",
      "    \"Domain driven design\",\n",
      "    \"Restful APIs\",\n",
      "    \"NoSQL data stores (DynamoDB, MongoDB)\",\n",
      "    \"Cloud services (ECS, S3, Lambdas)\",\n",
      "    \"Version control systems (Git)\",\n",
      "    \"Issue tracking tools (Jira)\",\n",
      "    \"CI/CD tools (Jenkins, Terraform)\",\n",
      "    \"AWS CloudFront\",\n",
      "    \"AWS S3\",\n",
      "    \"AWS Route 53\",\n",
      "    \"AWS Certificate Manager\",\n",
      "    \"AWS Lambda\",\n",
      "    \"GitHub Co-pilot\"\n",
      "  ],\n",
      "  \"description\": \"The Digital Employee Experience Software Engineer III will be responsible for design, support, development, and testing of internal employee-facing websites and web applications.\"\n",
      "}\n",
      "```\n"
     ]
    }
   ],
   "source": [
    "from langchain_core.prompts import PromptTemplate\n",
    "\n",
    "prompt_extract = PromptTemplate.from_template(\n",
    "      \"\"\"\n",
    "      ### SCRAPED TEXT FROM WEBSITE:\n",
    "      {page_data}\n",
    "      ### INSTRUCTION:\n",
    "      The scraped text is from the career's page of a website.\n",
    "      Your job is to extract the job posting and return the in JSON format containing the \n",
    "      following keys : 'role','experience','skills' and 'description'.\n",
    "      Only return the valid JSON.\n",
    "      ### VALID JSON (NO PREAMBLE):\n",
    "      \"\"\"\n",
    ")\n",
    "\n",
    "chain_extract = prompt_extract | llm\n",
    "res = chain_extract.invoke(input={'page_data':page_data})\n",
    "print(res.content)"
   ]
  },
  {
   "cell_type": "code",
   "execution_count": 4,
   "id": "b843ece2",
   "metadata": {},
   "outputs": [
    {
     "data": {
      "text/plain": [
       "{'role': 'Software Engineer III',\n",
       " 'experience': '4+ years of professional experience in application engineering',\n",
       " 'skills': ['JavaScript (Node.js, React.js, Vue.js, etc.)',\n",
       "  'Microservice architecture',\n",
       "  'Domain driven design',\n",
       "  'Restful APIs',\n",
       "  'NoSQL data stores (DynamoDB, MongoDB)',\n",
       "  'Cloud services (ECS, S3, Lambdas)',\n",
       "  'Version control systems (Git)',\n",
       "  'Issue tracking tools (Jira)',\n",
       "  'CI/CD tools (Jenkins, Terraform)',\n",
       "  'AWS CloudFront',\n",
       "  'AWS S3',\n",
       "  'AWS Route 53',\n",
       "  'AWS Certificate Manager',\n",
       "  'AWS Lambda',\n",
       "  'GitHub Co-pilot'],\n",
       " 'description': 'The Digital Employee Experience Software Engineer III will be responsible for design, support, development, and testing of internal employee-facing websites and web applications.'}"
      ]
     },
     "execution_count": 4,
     "metadata": {},
     "output_type": "execute_result"
    }
   ],
   "source": [
    "from langchain_core.output_parsers import JsonOutputParser\n",
    "\n",
    "json_parser = JsonOutputParser()\n",
    "json_res = json_parser.parse(res.content)\n",
    "json_res"
   ]
  },
  {
   "cell_type": "code",
   "execution_count": 5,
   "id": "37d9bfa5",
   "metadata": {},
   "outputs": [
    {
     "data": {
      "text/html": [
       "<div>\n",
       "<style scoped>\n",
       "    .dataframe tbody tr th:only-of-type {\n",
       "        vertical-align: middle;\n",
       "    }\n",
       "\n",
       "    .dataframe tbody tr th {\n",
       "        vertical-align: top;\n",
       "    }\n",
       "\n",
       "    .dataframe thead th {\n",
       "        text-align: right;\n",
       "    }\n",
       "</style>\n",
       "<table border=\"1\" class=\"dataframe\">\n",
       "  <thead>\n",
       "    <tr style=\"text-align: right;\">\n",
       "      <th></th>\n",
       "      <th>Techstack</th>\n",
       "      <th>Links</th>\n",
       "    </tr>\n",
       "  </thead>\n",
       "  <tbody>\n",
       "    <tr>\n",
       "      <th>0</th>\n",
       "      <td>React, Node.js, MongoDB</td>\n",
       "      <td>https://example.com/react-portfolio</td>\n",
       "    </tr>\n",
       "    <tr>\n",
       "      <th>1</th>\n",
       "      <td>Angular,.NET, SQL Server</td>\n",
       "      <td>https://example.com/angular-portfolio</td>\n",
       "    </tr>\n",
       "    <tr>\n",
       "      <th>2</th>\n",
       "      <td>Vue.js, Ruby on Rails, PostgreSQL</td>\n",
       "      <td>https://example.com/vue-portfolio</td>\n",
       "    </tr>\n",
       "    <tr>\n",
       "      <th>3</th>\n",
       "      <td>Python, Django, MySQL</td>\n",
       "      <td>https://example.com/python-portfolio</td>\n",
       "    </tr>\n",
       "    <tr>\n",
       "      <th>4</th>\n",
       "      <td>Java, Spring Boot, Oracle</td>\n",
       "      <td>https://example.com/java-portfolio</td>\n",
       "    </tr>\n",
       "    <tr>\n",
       "      <th>5</th>\n",
       "      <td>Flutter, Firebase, GraphQL</td>\n",
       "      <td>https://example.com/flutter-portfolio</td>\n",
       "    </tr>\n",
       "    <tr>\n",
       "      <th>6</th>\n",
       "      <td>WordPress, PHP, MySQL</td>\n",
       "      <td>https://example.com/wordpress-portfolio</td>\n",
       "    </tr>\n",
       "    <tr>\n",
       "      <th>7</th>\n",
       "      <td>Magento, PHP, MySQL</td>\n",
       "      <td>https://example.com/magento-portfolio</td>\n",
       "    </tr>\n",
       "    <tr>\n",
       "      <th>8</th>\n",
       "      <td>React Native, Node.js, MongoDB</td>\n",
       "      <td>https://example.com/react-native-portfolio</td>\n",
       "    </tr>\n",
       "    <tr>\n",
       "      <th>9</th>\n",
       "      <td>iOS, Swift, Core Data</td>\n",
       "      <td>https://example.com/ios-portfolio</td>\n",
       "    </tr>\n",
       "    <tr>\n",
       "      <th>10</th>\n",
       "      <td>Android, Java, Room Persistence</td>\n",
       "      <td>https://example.com/android-portfolio</td>\n",
       "    </tr>\n",
       "    <tr>\n",
       "      <th>11</th>\n",
       "      <td>Kotlin, Android, Firebase</td>\n",
       "      <td>https://example.com/kotlin-android-portfolio</td>\n",
       "    </tr>\n",
       "    <tr>\n",
       "      <th>12</th>\n",
       "      <td>Android TV, Kotlin, Android NDK</td>\n",
       "      <td>https://example.com/android-tv-portfolio</td>\n",
       "    </tr>\n",
       "    <tr>\n",
       "      <th>13</th>\n",
       "      <td>iOS, Swift, ARKit</td>\n",
       "      <td>https://example.com/ios-ar-portfolio</td>\n",
       "    </tr>\n",
       "    <tr>\n",
       "      <th>14</th>\n",
       "      <td>Cross-platform, Xamarin, Azure</td>\n",
       "      <td>https://example.com/xamarin-portfolio</td>\n",
       "    </tr>\n",
       "    <tr>\n",
       "      <th>15</th>\n",
       "      <td>Backend, Kotlin, Spring Boot</td>\n",
       "      <td>https://example.com/kotlin-backend-portfolio</td>\n",
       "    </tr>\n",
       "    <tr>\n",
       "      <th>16</th>\n",
       "      <td>Frontend, TypeScript, Angular</td>\n",
       "      <td>https://example.com/typescript-frontend-portfolio</td>\n",
       "    </tr>\n",
       "    <tr>\n",
       "      <th>17</th>\n",
       "      <td>Full-stack, JavaScript, Express.js</td>\n",
       "      <td>https://example.com/full-stack-js-portfolio</td>\n",
       "    </tr>\n",
       "    <tr>\n",
       "      <th>18</th>\n",
       "      <td>Machine Learning, Python, TensorFlow</td>\n",
       "      <td>https://example.com/ml-python-portfolio</td>\n",
       "    </tr>\n",
       "    <tr>\n",
       "      <th>19</th>\n",
       "      <td>DevOps, Jenkins, Docker</td>\n",
       "      <td>https://example.com/devops-portfolio</td>\n",
       "    </tr>\n",
       "  </tbody>\n",
       "</table>\n",
       "</div>"
      ],
      "text/plain": [
       "                               Techstack  \\\n",
       "0                React, Node.js, MongoDB   \n",
       "1               Angular,.NET, SQL Server   \n",
       "2      Vue.js, Ruby on Rails, PostgreSQL   \n",
       "3                  Python, Django, MySQL   \n",
       "4              Java, Spring Boot, Oracle   \n",
       "5             Flutter, Firebase, GraphQL   \n",
       "6                  WordPress, PHP, MySQL   \n",
       "7                    Magento, PHP, MySQL   \n",
       "8         React Native, Node.js, MongoDB   \n",
       "9                  iOS, Swift, Core Data   \n",
       "10       Android, Java, Room Persistence   \n",
       "11             Kotlin, Android, Firebase   \n",
       "12       Android TV, Kotlin, Android NDK   \n",
       "13                     iOS, Swift, ARKit   \n",
       "14        Cross-platform, Xamarin, Azure   \n",
       "15          Backend, Kotlin, Spring Boot   \n",
       "16         Frontend, TypeScript, Angular   \n",
       "17    Full-stack, JavaScript, Express.js   \n",
       "18  Machine Learning, Python, TensorFlow   \n",
       "19               DevOps, Jenkins, Docker   \n",
       "\n",
       "                                                Links  \n",
       "0                 https://example.com/react-portfolio  \n",
       "1               https://example.com/angular-portfolio  \n",
       "2                   https://example.com/vue-portfolio  \n",
       "3                https://example.com/python-portfolio  \n",
       "4                  https://example.com/java-portfolio  \n",
       "5               https://example.com/flutter-portfolio  \n",
       "6             https://example.com/wordpress-portfolio  \n",
       "7               https://example.com/magento-portfolio  \n",
       "8          https://example.com/react-native-portfolio  \n",
       "9                   https://example.com/ios-portfolio  \n",
       "10              https://example.com/android-portfolio  \n",
       "11       https://example.com/kotlin-android-portfolio  \n",
       "12           https://example.com/android-tv-portfolio  \n",
       "13               https://example.com/ios-ar-portfolio  \n",
       "14              https://example.com/xamarin-portfolio  \n",
       "15       https://example.com/kotlin-backend-portfolio  \n",
       "16  https://example.com/typescript-frontend-portfolio  \n",
       "17        https://example.com/full-stack-js-portfolio  \n",
       "18            https://example.com/ml-python-portfolio  \n",
       "19               https://example.com/devops-portfolio  "
      ]
     },
     "execution_count": 5,
     "metadata": {},
     "output_type": "execute_result"
    }
   ],
   "source": [
    "import pandas as pd\n",
    "df = pd.read_csv(\"my_portfolio.csv\")\n",
    "df"
   ]
  },
  {
   "cell_type": "code",
   "execution_count": 6,
   "id": "42ab22e0",
   "metadata": {},
   "outputs": [],
   "source": [
    "import uuid\n",
    "import chromadb\n",
    "\n",
    "client = chromadb.PersistentClient('vectorstore')\n",
    "collection = client.get_or_create_collection(name=\"portfolio\")\n",
    "\n",
    "if not collection.count():\n",
    "    for _, row in df.iterrows():\n",
    "        collection.add(documents=row[\"Techstack\"],\n",
    "                       metadatas={\"links\": row[\"Links\"]},\n",
    "                       ids=[str(uuid.uuid4())])"
   ]
  },
  {
   "cell_type": "code",
   "execution_count": 7,
   "id": "b6fb58f2",
   "metadata": {
    "scrolled": true
   },
   "outputs": [
    {
     "data": {
      "text/plain": [
       "[[{'links': 'https://example.com/ml-python-portfolio'},\n",
       "  {'links': 'https://example.com/python-portfolio'}],\n",
       " [{'links': 'https://example.com/react-portfolio'},\n",
       "  {'links': 'https://example.com/react-native-portfolio'}],\n",
       " [{'links': 'https://example.com/react-native-portfolio'},\n",
       "  {'links': 'https://example.com/react-portfolio'}]]"
      ]
     },
     "execution_count": 7,
     "metadata": {},
     "output_type": "execute_result"
    }
   ],
   "source": [
    "links = collection.query(query_texts=['Experience in python','Experience in React','experience in react native'], n_results=2).get('metadatas', [])\n",
    "links"
   ]
  },
  {
   "cell_type": "code",
   "execution_count": 10,
   "id": "924ed7d7",
   "metadata": {},
   "outputs": [
    {
     "data": {
      "text/plain": [
       "{'role': 'Software Engineer III',\n",
       " 'experience': '4+ years of professional experience in application engineering',\n",
       " 'skills': ['JavaScript (Node.js, React.js, Vue.js, etc.)',\n",
       "  'Microservice architecture',\n",
       "  'Domain driven design',\n",
       "  'Restful APIs',\n",
       "  'NoSQL data stores (DynamoDB, MongoDB)',\n",
       "  'Cloud services (ECS, S3, Lambdas)',\n",
       "  'Version control systems (Git)',\n",
       "  'Issue tracking tools (Jira)',\n",
       "  'CI/CD tools (Jenkins, Terraform)',\n",
       "  'AWS CloudFront',\n",
       "  'AWS S3',\n",
       "  'AWS Route 53',\n",
       "  'AWS Certificate Manager',\n",
       "  'AWS Lambda',\n",
       "  'GitHub Co-pilot'],\n",
       " 'description': 'The Digital Employee Experience Software Engineer III will be responsible for design, support, development, and testing of internal employee-facing websites and web applications.'}"
      ]
     },
     "execution_count": 10,
     "metadata": {},
     "output_type": "execute_result"
    }
   ],
   "source": [
    "job"
   ]
  },
  {
   "cell_type": "code",
   "execution_count": 9,
   "id": "5cf59902",
   "metadata": {},
   "outputs": [
    {
     "data": {
      "text/plain": [
       "['JavaScript (Node.js, React.js, Vue.js, etc.)',\n",
       " 'Microservice architecture',\n",
       " 'Domain driven design',\n",
       " 'Restful APIs',\n",
       " 'NoSQL data stores (DynamoDB, MongoDB)',\n",
       " 'Cloud services (ECS, S3, Lambdas)',\n",
       " 'Version control systems (Git)',\n",
       " 'Issue tracking tools (Jira)',\n",
       " 'CI/CD tools (Jenkins, Terraform)',\n",
       " 'AWS CloudFront',\n",
       " 'AWS S3',\n",
       " 'AWS Route 53',\n",
       " 'AWS Certificate Manager',\n",
       " 'AWS Lambda',\n",
       " 'GitHub Co-pilot']"
      ]
     },
     "execution_count": 9,
     "metadata": {},
     "output_type": "execute_result"
    }
   ],
   "source": [
    "job = json_res\n",
    "job['skills']"
   ]
  },
  {
   "cell_type": "code",
   "execution_count": 11,
   "id": "ff2a4b09",
   "metadata": {},
   "outputs": [
    {
     "name": "stdout",
     "output_type": "stream",
     "text": [
      "Subject: Application for Software Engineer III Position\n",
      "\n",
      "Dear Hiring Manager,\n",
      "\n",
      "I am Hardik Tater, a final year BTech CSE student with a strong passion for software development and a keen interest in the role of Software Engineer III at your esteemed organization. With a solid foundation in computer science and a drive to learn and grow, I am confident that my skills and experience make me an ideal fit for this position.\n",
      "\n",
      "Throughout my academic journey, I have developed a strong proficiency in programming languages such as JavaScript, Python, and Java. I have also gained hands-on experience with various technologies, including Node.js, React.js, and Vue.js, which align with the job requirements. My understanding of microservice architecture, domain-driven design, and Restful APIs has been further solidified through my involvement in various projects and academic assignments.\n",
      "\n",
      "In my previous projects, I have worked on designing and developing web applications using React.js and Node.js. I have also implemented NoSQL data stores such as MongoDB and utilized cloud services like AWS S3 and AWS Lambda. My experience with version control systems like Git and issue tracking tools like Jira has allowed me to effectively manage and collaborate on projects.\n",
      "\n",
      "Some of my notable projects include:\n",
      "\n",
      "* A web application built using React.js and Node.js, which demonstrates my understanding of microservice architecture and Restful APIs.\n",
      "* A machine learning model implemented using Python, which showcases my skills in data analysis and modeling.\n",
      "\n",
      "You can find more details about my projects and experience in my portfolio:\n",
      "\n",
      "* https://example.com/react-portfolio\n",
      "* https://example.com/python-portfolio\n",
      "\n",
      "I am excited about the opportunity to contribute to the development of internal employee-facing websites and web applications as a Software Engineer III. I am confident that my skills, experience, and passion for software development make me a strong fit for this role.\n",
      "\n",
      "Thank you for considering my application. I would be thrilled to discuss this opportunity further and explore how I can contribute to the success of your team.\n",
      "\n",
      "Best regards,\n",
      "Hardik Tater\n"
     ]
    }
   ],
   "source": [
    "prompt_email = PromptTemplate.from_template(\n",
    "    \"\"\"\n",
    "    ### JOB DESCRIPTION:\n",
    "    {job_description}\n",
    "    \n",
    "    ### INSTRUCTION:\n",
    "    You are Hardik Tater a final year BTech CSE Student You are a motivated student or fresh graduate eager to apply for the mentioned position. \n",
    "    In your email, briefly introduce yourself, highlighting your skills and how they align with the job. \n",
    "    Mention your academic achievements and relevant projects you've worked on that demonstrate your fit for the role.\n",
    "    Also add the most relevant ones from the following links to showcase My portfolio: {link_list}\n",
    "    Remember you are Hardik. \n",
    "    Sign off with an eagerness to discuss the opportunity further.\n",
    "    ### EMAIL (NO PREAMBLE):\n",
    "    \n",
    "    \"\"\"\n",
    ")\n",
    "\n",
    "chain_email = prompt_email | llm\n",
    "res = chain_email.invoke({\"job_description\": str(job), \"link_list\": links})\n",
    "print(res.content)"
   ]
  },
  {
   "cell_type": "code",
   "execution_count": null,
   "id": "fdb4577c",
   "metadata": {},
   "outputs": [],
   "source": []
  }
 ],
 "metadata": {
  "kernelspec": {
   "display_name": "Python 3 (ipykernel)",
   "language": "python",
   "name": "python3"
  },
  "language_info": {
   "codemirror_mode": {
    "name": "ipython",
    "version": 3
   },
   "file_extension": ".py",
   "mimetype": "text/x-python",
   "name": "python",
   "nbconvert_exporter": "python",
   "pygments_lexer": "ipython3",
   "version": "3.12.4"
  }
 },
 "nbformat": 4,
 "nbformat_minor": 5
}
