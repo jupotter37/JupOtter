{
 "cells": [
  {
   "metadata": {},
   "cell_type": "markdown",
   "source": [
    "# Chapter 7: Python Classes\n",
    "\n",
    "In earlier chapters we have been discussing objects, the functions you can perform on them, and how you can make them. In this chapter we will finally have a look at the source of all those objects and making our own. We will discuss how to make classes, create objects from them and some basic concepts of \"object-oriented\" programming. I would like to note that Python is not a true object-oriented, like C# or Java, so some implementation of the concepts might seem strange if you are somewhat familiar with those languages. I will add explanations of these concepts, as I do think they are important to understand what is going on. This will also make it easier if you ever want to work in more strict object-oriented languages. Nevertheless, classes and objects are an integral part of Python, and they are very useful to learn.\n",
    "\n",
    "## Classes\n",
    "\n",
    "So what actually is a class? You can see a class as a template for an object. It defines what the object can do and what properties it has. Let's look at a simple example that we will build on during this chapter."
   ],
   "id": "74110be8040c728b"
  },
  {
   "metadata": {},
   "cell_type": "code",
   "source": [
    "class Animal:  # Classes are defined using the class keyword.\n",
    "    limbs: int  # You can define properties of the class"
   ],
   "id": "da4c584086e55ae",
   "outputs": [],
   "execution_count": null
  },
  {
   "metadata": {},
   "cell_type": "markdown",
   "source": "We now have defined a single class `Animal` which has one property, `limbs`. Just like functions, when executing the cell, there is no result yet. We have just defined the class, so it can be used later. To create objects for example:",
   "id": "f227b4b8fc6ba20f"
  },
  {
   "metadata": {},
   "cell_type": "code",
   "source": [
    "my_animal = Animal()\n",
    "my_animal.limbs = 4\n",
    "print(my_animal)\n",
    "print(my_animal.limbs)"
   ],
   "id": "e65215b81be07ade",
   "outputs": [],
   "execution_count": null
  },
  {
   "metadata": {},
   "cell_type": "markdown",
   "source": [
    "We have now created an object of class animal, and set its amount of limbs to 4. You can ignore the string of numbers at end of the print statement for the object (starting with `0x`) that is the address in memory of the object. We will look at modifying what happens if you put an object in the print function later in this chapter.\n",
    "\n",
    "The way we set the property limbs here is fine, but as the amount of properties on a class increases we need a better way to create objects and set their properties. We even might want to set properties that will not be modified again. To do this we need what is called a 'constructor' function. In Python, we do this by defining an `__init__` (double underscores) function in the class definition. Let's redefine the Animal class and add the constructor function."
   ],
   "id": "aedc887557d0f25c"
  },
  {
   "metadata": {},
   "cell_type": "code",
   "source": [
    "class Animal:\n",
    "    limbs: int\n",
    "\n",
    "    def __init__(self, limbs: int):  # We can add arguments to the init function\n",
    "        self.limbs = limbs  # The self keyword references the object that will be created.\n",
    "        # here we assign the argument limbs to the property limbs defined in the class.\n",
    "\n",
    "    def speak(self,\n",
    "              vocalisation: str) -> None:  # The None is to indicate this function will return nothing (i.e. does not have return statement)\n",
    "        print(str(vocalisation))  # str() is to make sure that any input to the function will be converted to a string."
   ],
   "id": "5744b062d0800c9b",
   "outputs": [],
   "execution_count": null
  },
  {
   "metadata": {},
   "cell_type": "markdown",
   "source": "We now have added two functions to the class animal. The `__init__` function is special however, as it cannot be called on the object itself. This is true for most functions on an object that start with double underscores. These functions are often special functions and unique to this specific class. I will discuss them more later when other concepts of classes have been introduced. Let's first see what this `__init__` function can do, and how we can use the speak function.",
   "id": "e65d4d29dcbc29e1"
  },
  {
   "metadata": {},
   "cell_type": "code",
   "source": [
    "my_animal = Animal(limbs=4)  # The init function is used here, indicated by the parentheses after the class name\n",
    "my_animal.speak(\"Meow\")  # The speak function can be called on the object.\n",
    "print(my_animal.limbs)"
   ],
   "id": "9b3ea136d5e1c830",
   "outputs": [],
   "execution_count": null
  },
  {
   "metadata": {},
   "cell_type": "markdown",
   "source": [
    "We can now directly pass the value to the property when creating the object. This simplifies object creation a lot. In this case I used the named argument to explicitly say which argument should be set, but by default these arguments are positional, just like with functions.\n",
    "\n",
    "## Access Modifiers\n",
    "\n",
    "In the previous example, we have been setting the property limbs directly. There are situations where you might want to limit the access to certain properties. This is what access modifiers are for. In Python, these access modifiers are not strict, as there is always a way to access these properties, but here are some modifiers we can use. These will limit access to the properties in a conventional way, but it is still possible to access them. The most common access modifiers are:\n",
    "\n",
    "- `public`: This is the default access modifier. It means that the property can be accessed from outside the class.\n",
    "- `protected`: This is indicated by a single underscore before the property name. It means that the property should not be accessed from outside the class, but it is still possible.\n",
    "- `private`: This is indicated by a double underscore before the property name. It means that the property should not be accessed from outside the class, and it is harder to access it, although not impossible.\n",
    "\n",
    "Let's look at a quick example of how to use these access modifiers."
   ],
   "id": "348b9c8d01773bb5"
  },
  {
   "metadata": {},
   "cell_type": "code",
   "source": [
    "class MyClass:\n",
    "    my_public_property: int\n",
    "    _my_protected_property: int\n",
    "    __my_private_property: int\n",
    "    \n",
    "    def __init__(self, public: int, protected: int, private: int):\n",
    "        self.my_public_property = public\n",
    "        self._my_protected_property = protected\n",
    "        self.__my_private_property = private\n",
    "        \n",
    "    def get_private_property(self) -> int:\n",
    "        return self.__my_private_property\n",
    "    \n",
    "    def set_private_property(self, value: int) -> None:\n",
    "        self.__my_private_property = value"
   ],
   "id": "83b9abbbe9701c07",
   "outputs": [],
   "execution_count": null
  },
  {
   "metadata": {},
   "cell_type": "code",
   "source": [
    "my_object = MyClass(public=1, protected=2, private=3)\n",
    "print(my_object.my_public_property) # This is fine\n",
    "print(my_object._my_protected_property) # This is also fine, but should not be done\n",
    "print(my_object.__my_private_property) # This will raise an error"
   ],
   "id": "dbc35397377f7329",
   "outputs": [],
   "execution_count": null
  },
  {
   "metadata": {},
   "cell_type": "markdown",
   "source": "As we can see, the public property can be accessed without any problems. The protected property also can be accessed, but this shouldn't be done. Some IDE's will show a warning about accessing these properties. The private property cannot be accessed at all. This is due to the double underscore actually changing the name of the property. Internally, a double underscore prepends the name of the class to the property (or function) defined with double underscores. In this case the property name will change from `my_private_property` to `_MyClass__my_private_property`. This one we can access directly too, but this really shouldn't happen. To view and modify these private properties we use the get and set methods defined in the class.",
   "id": "bf7266ea4532d809"
  },
  {
   "metadata": {},
   "cell_type": "code",
   "source": [
    "print(my_object._MyClass__my_private_property)\n",
    "private_property = my_object.get_private_property()\n",
    "print(private_property)\n",
    "\n",
    "my_object.set_private_property(4)\n",
    "private_property = my_object.get_private_property()\n",
    "print(private_property)"
   ],
   "id": "ac5a78e93799d7a",
   "outputs": [],
   "execution_count": null
  },
  {
   "metadata": {},
   "cell_type": "markdown",
   "source": [
    "The get and set methods allow for additional logic to be applied for getting or setting the variables. For example, we might want to validate input that is given to store specific information or make sure that we don't give out too much when we use the get method. This is an effective way to apply these kinds of checks. In some languages like Java, private properties are the norm and getters and setters are everywhere. In Python, properties are mostly public and can be used directly on the object. As such, access modifiers often do not come into play in Python, but it's useful to know they're there if you ever encounter them.\n",
    "\n",
    " Let's now have a look at a core concept of object-oriented programming, possibly one of the most powerful features it offers: inheritance.\n",
    "\n",
    "## Inheritance\n",
    "\n",
    "In object-oriented programming, inheritance is the concept of classes taking on properties from their so-called 'super classes'. This super class is then responsible for some of the behaviour of the 'subclass' without defining it again in the subclass itself. Before giving more explanations, an example might clear up what I just tried to explain to you."
   ],
   "id": "6d28d1f068851346"
  },
  {
   "metadata": {},
   "cell_type": "code",
   "source": [
    "class Cow(Animal):  # By placing Animal between parentheses we signal that it is the super class of cow.\n",
    "    produces_milk: bool  # We add a new property.\n",
    "\n",
    "    def __init__(self, limbs: int, produces_milk: bool):\n",
    "        super().__init__(limbs)\n",
    "        # The super() function calls functions in the super class, in this case the __init__ function we defined before\n",
    "        self.produces_milk = produces_milk  # Assign the new property of the Cow class\n"
   ],
   "id": "b3458f6f2a9d4ece",
   "outputs": [],
   "execution_count": null
  },
  {
   "metadata": {},
   "cell_type": "markdown",
   "source": "In the cell above we have now created a new class which 'inherits' the Animal class we defined before. This is signaled by the placing the `Animal` class in parentheses after the definition of the class `Cow`. This means that all properties that Animal has, Cow now has as well. This also includes any function we defined for Animal.",
   "id": "a1b32b5b79a6fce4"
  },
  {
   "metadata": {},
   "cell_type": "code",
   "source": [
    "my_cow = Cow(limbs=4,\n",
    "             produces_milk=True)  # We've added the new property, but we also kept the limbs property from the Animal super class\n",
    "print(my_cow.limbs)  # It's still there\n",
    "print(my_cow.produces_milk)  # And now this is added as well\n",
    "my_cow.speak(\"Mooo\")  # It still keeps the speak function as well"
   ],
   "id": "7b594400661f5878",
   "outputs": [],
   "execution_count": null
  },
  {
   "metadata": {},
   "cell_type": "markdown",
   "source": "As you can see, all the properties and functions of the Animal class still persist. While it may seem arbitrary in this example, within programming there are many cases why you would want to use this technique. Do keep in mind that this only works in one direction. A Cow is an Animal, but an Animal is not necessarily a Cow. We can see that when we try to set the `produces_milk` property on an object of the class Animal.",
   "id": "e37cf4ad1b260035"
  },
  {
   "metadata": {},
   "cell_type": "code",
   "source": "my_fake_cow = Animal(limbs=4, produces_milk=True)",
   "id": "b724be88a41f8338",
   "outputs": [],
   "execution_count": null
  },
  {
   "metadata": {},
   "cell_type": "markdown",
   "source": [
    "The error that it produces indicates that it uses the `__init__` function of the class Animal and not that of Cow.\n",
    "\n",
    "Unknowingly, you have been using a lot of this already. For example, all the collections you used before all inherit from the same `Iterable` class. This allows for all the collections to behave the same when used in loops, and it makes it so that once a modification to the `Itarable` behaviour needs to be made, we can do so only in that class and all the different collections will immediately work in the new manner. Inheritance, in this case, thus allows for easily maintainable and reusable code. You might start to see a trent here as well, most programming techniques try to achieve these two goals.\n",
    "\n",
    "At this point I also would like to mention that these concepts might require some time before they fully 'click' in your head. Object-oriented programming has a lot of abstract concepts that take time to fully settle in your brain.  Do not be discouraged if it doesn't make sense right away. Either try playing around with it with your own examples or try and continue this chapter and see if seeing more examples makes it make sense to you."
   ],
   "id": "585033d647a2b057"
  },
  {
   "metadata": {},
   "cell_type": "markdown",
   "source": [
    "## Abstract Classes\n",
    "\n",
    "In the previous sections, we have defined classes and instantiated those. However, sometimes you have classes that do not have a specific implementation, but are used to define a common interface for a group of classes. These classes are called abstract classes. In Python, you can define an abstract class by using the `ABC` class from the `abc` module. Furthermore, since Python is not a strict object-oriented language like Java, you can still instantiate an abstract class. However, you cannot instantiate an abstract class that has abstract methods. Abstract methods are methods that are defined in the abstract class but do not have an implementation. Let me demonstrate this by defining `Animal` as an abstract class. This makes sense as animals share properties between them, but there is no such thing as a species `Animal`."
   ],
   "id": "3198345905de5b35"
  },
  {
   "metadata": {},
   "cell_type": "code",
   "source": [
    "from abc import ABC, \\\n",
    "    abstractmethod  # Import the relevant classes from the abc module. ABC is the abstract class, and abstractmethod is the decorator for abstract methods. In Python, abstract declarations are done using decorators and are not part of the standard keywords. \n",
    "\n",
    "\n",
    "class Animal(ABC):  # We now inherit from ABC, making this an abstract class\n",
    "    limbs: int\n",
    "\n",
    "    def __init__(self, limbs: int):\n",
    "        self.limbs = limbs\n",
    "\n",
    "    @abstractmethod\n",
    "    def speak(self) -> None:\n",
    "        pass  # The pass keyword is used to indicate that this function does not have an implementation, and should be left to concrete subclasses."
   ],
   "id": "415ea5857780950",
   "outputs": [],
   "execution_count": null
  },
  {
   "metadata": {},
   "cell_type": "code",
   "source": "my_animal = Animal(limbs=4)  # This will raise an error, as Animal has an abstract method",
   "id": "bb402e1c3d5ab490",
   "outputs": [],
   "execution_count": null
  },
  {
   "metadata": {},
   "cell_type": "markdown",
   "source": "`Animal` is now an abstract class. That means that you cannot instantiate it, or in Python's case, should not instantiate it. We can still define subclasses of `Animal` and instantiate those. Let's redefine `Cow` to inherit from the new abstract `Animal` class.",
   "id": "e75bec8b1e016b0f"
  },
  {
   "metadata": {},
   "cell_type": "code",
   "source": [
    "class Cow(Animal):\n",
    "\n",
    "    def __init__(self, limbs: int, produces_milk: bool):\n",
    "        super().__init__(limbs)\n",
    "        self.produces_milk = produces_milk\n",
    "\n",
    "    def speak(self) -> None:\n",
    "        print(\"Mooo\")"
   ],
   "id": "acde04213f05be1b",
   "outputs": [],
   "execution_count": null
  },
  {
   "metadata": {},
   "cell_type": "code",
   "source": [
    "my_cow = Cow(limbs=4, produces_milk=True)\n",
    "my_cow.speak()"
   ],
   "id": "c61c85efda6b5164",
   "outputs": [],
   "execution_count": null
  },
  {
   "metadata": {},
   "cell_type": "markdown",
   "source": "Now we have working code again. The `speak` function in the `Cow` class is now implemented and following the definition of the function of the abstract base class. This is a powerful concept, as it allows you to define a common interface for a group of classes. ",
   "id": "23bbfa5867727ab0"
  },
  {
   "metadata": {},
   "cell_type": "markdown",
   "source": [
    "## Overriding and Overloading\n",
    "\n",
    "In the previous examples, we have seen that we can use functions that are inherited from the base class. In some cases, however, we may want to change how some functions work in the subclass. This technique is called overriding. You have already seen this concept above with the implementation of the `speak` function of the abstract `Animal` class. As we have defined an implementation of the `speak` function in the `Cow` class, we have overridden the implementation of the function in the base class. Let's define a new class `Cat` to drive the point home.\n",
    "\n"
   ],
   "id": "dd631c27fef77a90"
  },
  {
   "metadata": {},
   "cell_type": "code",
   "source": [
    "class Cat(Animal):\n",
    "    \n",
    "    def __init__(self, limbs: int, is_evil: bool):\n",
    "        super().__init__(limbs)\n",
    "        self.is_evil = is_evil\n",
    "\n",
    "    def speak(self) -> None:    # This is the function that is overridden. It has the same name and arguments as the function in the base class.\n",
    "        print(\"Meow\")"
   ],
   "id": "d24acb63ee24ac86",
   "outputs": [],
   "execution_count": null
  },
  {
   "metadata": {},
   "cell_type": "code",
   "source": [
    "my_cat = Cat(limbs=4, is_evil=False)\n",
    "my_cat.speak()"
   ],
   "id": "b9bbf15e522143ad",
   "outputs": [],
   "execution_count": null
  },
  {
   "metadata": {},
   "cell_type": "markdown",
   "source": "As you can see, the speak function of `Cat` is now different from that of `Cow`. With overloading, it is important that the name and the arguments of the function stays the same. This is also called the 'signature' of the function. If you change the parameters of the function, you are not overriding the function, but overloading it. Unfortunately, overloading is not possible in Python. In other languages such as C# or Java this would be possible. In Python, the last function defined with a certain name is the one that will be used.",
   "id": "6a269b167fcd4adb"
  },
  {
   "metadata": {},
   "cell_type": "markdown",
   "source": [
    "## Polymorphism\n",
    "\n",
    "Up until this point, we have discussed a lot about super classes and their subclasses. Even abstract classes that function as an 'interface'. What is the point of all this, besides that we might reuse some code or make it easier to maintain. One major reason, and another very powerful function of object-oriented programming, is polymorphism. This term essentially means that objects can take on multiple forms. By making every `Cow` and `Cat` an `Animal` we can treat every `Cow` and `Cat` the same way, as long as we stick to the definitions in the abstract `Animal` class. Here is a short example:"
   ],
   "id": "61de739d42a704cc"
  },
  {
   "metadata": {},
   "cell_type": "code",
   "source": [
    "cow_1 = Cow(limbs=4, produces_milk=True)\n",
    "cat_1 = Cat(limbs=4, is_evil=False)\n",
    "cow_2 = Cow(limbs=4, produces_milk=True)\n",
    "cat_2 = Cat(limbs=4, is_evil=False)\n",
    "\n",
    "my_animals = [cow_1, cat_1, cow_2, cat_2]\n",
    "for animal in my_animals:\n",
    "    animal.speak()"
   ],
   "id": "f4432beb5d52d5c4",
   "outputs": [],
   "execution_count": null
  },
  {
   "metadata": {},
   "cell_type": "markdown",
   "source": [
    "You can see now that while processing this list, we can treat every `Animal` in the list the same way by calling the `speak` function that has been defined in the abstract base class. The implementation, however, will be the one of the concrete class such as the `Cow` and `Cat`, as we can see from the different results of the `speak` function in the cell above. We can thus process them all the same way, while still maintaining the different implementations.\n",
    "\n",
    "You can now think back to some of the functions of the collections we have handled in Chapter 4. A lot of the functions are not defined in the concrete class of the collection, such as `List` or `Dict` but rather in an abstract super class which covers more than one collection.\n",
    "\n",
    "In Python, you will find many such a structure, and you now know the basics to understand them. I would like to reiterate however that these concepts might take a while to settle before you will fully grasp them. This is very normal when learning these concepts. Just play around with some code, work on the things you want to work on, and at some point you will notice that everything starts to make more sense. Like a lot of skills, you learn programming by doing, not just reading.\n",
    "\n",
    "This is as far as I will take regular classes in Python. The next sections are there for completeness’s sake and show some things that are useful but often very situational. They also lean more towards software engineering/architecture than programming. You can see these as an appendix to this chapter.\n",
    "\n",
    "## Enums\n",
    "\n",
    "Enums are a special type of class used for storing lists of constants in a developer friendly way. They are especially useful in combination with the match case statements we looked at in Chapter 5. Say that we want to know which colours to use in some situation, and depending on the colour we might want to program things differently. For this we can an Enum combined with a match statement (even though an abstract class `Colour` with concrete implementations like `Red` may be more suitable).\n"
   ],
   "id": "ae522142d89d08fa"
  },
  {
   "metadata": {},
   "cell_type": "code",
   "source": [
    "from enum import Enum\n",
    "\n",
    "class Colour(Enum):\n",
    "    RED = 1\n",
    "    GREEN = 2\n",
    "    BLUE = 3"
   ],
   "id": "3680ae80dc57da1a",
   "outputs": [],
   "execution_count": null
  },
  {
   "metadata": {},
   "cell_type": "markdown",
   "source": "We have now made an enum with the values `RED`, `GREEN` and `BLUE`. Each of these values has an integer associated with them. Within the context of the enum, the integer value and the enum value are the same thing:",
   "id": "222f40fe6d0bf926"
  },
  {
   "metadata": {},
   "cell_type": "code",
   "source": [
    "red = Colour(1)\n",
    "blue = Colour.BLUE\n",
    "print(red)\n",
    "print(blue)"
   ],
   "id": "7ff77d06a6842786",
   "outputs": [],
   "execution_count": null
  },
  {
   "metadata": {},
   "cell_type": "markdown",
   "source": "We can then use these in a match statement to decide what to do based on the colour.",
   "id": "858f7878d42e66e3"
  },
  {
   "metadata": {},
   "cell_type": "code",
   "source": [
    "my_colour = Colour.GREEN\n",
    "\n",
    "match my_colour:\n",
    "    case Colour.RED:\n",
    "        print(\"Red\")\n",
    "    case Colour.GREEN:\n",
    "        print(\"Green\")\n",
    "    case Colour.BLUE:\n",
    "        print(\"Blue\")"
   ],
   "id": "d3b568f4a73e344f",
   "outputs": [],
   "execution_count": null
  },
  {
   "metadata": {},
   "cell_type": "markdown",
   "source": "This is a very simple example, but you can see that this can be very powerful in more complex situations. You can also use the enum values in a dictionary to look up values, or in a list to iterate over them. There are many possibilities with enums, and they are very useful in many situations. Keep in mind however, that enums are mostly 'syntactic sugar', and you can achieve the same thing with a dictionary or a list. Enums just make it easier to read and write for the developer. For example, an equivalent of the enum above would be:",
   "id": "15a0f263c5a5e2e1"
  },
  {
   "metadata": {},
   "cell_type": "code",
   "source": [
    "class Colour:\n",
    "    RED = 1\n",
    "    GREEN = 2\n",
    "    BLUE = 3\n",
    "    \n",
    "my_colour = Colour.GREEN\n",
    "\n",
    "if my_colour == Colour.RED:\n",
    "    print(\"Red\")\n",
    "elif my_colour == Colour.GREEN:\n",
    "    print(\"Green\")\n",
    "elif my_colour == Colour.BLUE:\n",
    "    print(\"Blue\")"
   ],
   "id": "cfe62b75fd97ccf5",
   "outputs": [],
   "execution_count": null
  },
  {
   "metadata": {},
   "cell_type": "markdown",
   "source": [
    "There is a subtle difference here. In this case the value 1 does not equate the value `Colour.RED`. In this case, the class `Colour` has a property with the name `RED` which holds the value of 1. We can no longer create a new object with the value `RED` by calling the constructor of the class `Colour` with the corresponding integer value.\n",
    "\n",
    "## Software Design Patterns\n",
    "\n",
    "Design patterns are a way of solving common problems. Throughout the years, many people have found ways of efficiently solving a common problem. These solutions have been formalized in so-called patterns. For example, if we ever only need exactly 1 object of class and no more, for example for managing database connections, we can use the 'Singleton' pattern. By applying this pattern in your code you make sure that there will ever only exist one object of that class.\n",
    "\n",
    "There are many patterns for many situations. If you're interested in knowing more you can have a look online, for example at [Refactoring Guru - Design Patterns](https://refactoring.guru/design-patterns). They provide an overview of the most popular patterns, how to use them and some introductory context on where they are applicable.\n",
    "\n",
    "### UML Class Diagrams\n",
    "\n",
    "UML stands for Unified Modelling Language. These are a set of standards which define certain diagrams that are used in the design phase of software. They help show developers and clients how the software will be designed. One of these diagrams is the UML Class Diagram. The reason I want to take a short time to explain this, is because of the website I mentioned with the design patterns. A lot of the patterns have this diagram included to convey how the pattern should be structured. Here is an example:\n",
    "\n",
    "![Class Diagram](https://upload.wikimedia.org/wikipedia/commons/f/f8/Class_Dependency.png?20080831125046)\n",
    "(Credits: [Samirsyed](https://commons.wikimedia.org/w/index.php?curid=4667245))\n",
    "\n",
    "Every class in the diagram is divided into three compartments. The top compartment shows the name of the class. The middle compartment shows the properties of that class and their corresponding data types. The `+` or `-` sign at the start of the property indicates if the property is public or private, correspondingly. The final compartment shows the functions, sometimes their parameters and all the corresponding types. "
   ],
   "id": "91c2e93d8d9cf33f"
  },
  {
   "metadata": {},
   "cell_type": "markdown",
   "source": [
    "## SOLID\n",
    "\n",
    "Finally, I would like to mention the SOLID principle. SOLID is an abbreviation of multiple object-oriented programming principles that help to structure your software in such a way that it will be easy to use and maintain, both for you and for future developers looking at the code. Once again, I will not discuss them here as I feel Python is not the right langauge to teach these principles in (Python does not even support all of it), but they might help you transition to other, more object-oriented languages. As someone who was thought programming in Java and C#, consciously or subconsciously, these principles have always stuck with me and are now intuitive when writing new software.\n",
    "\n",
    "A good overview of the principles can be found here: [Digital Ocean - SOLID](https://www.digitalocean.com/community/conceptual-articles/s-o-l-i-d-the-first-five-principles-of-object-oriented-design)\n",
    "\n",
    "A small note about the article, however. The term interfaces is used a lot. Interfaces are a fundamental part of object-oriented programming, but are not supported in Python. They can be simulated by making an abstract class (like `Animal`) and making sure that every method is abstract, but this is not quite what an interface is other more object-oriented languages. In languages like Java and C# they are there to tell a class to implement which functions to support that interface, so other parts of the code are able to use it. They are not quite the same as een abstract class, but I will spare you the explanation about their nuanced differences.\n"
   ],
   "id": "ec3402655cfa0e9c"
  },
  {
   "metadata": {},
   "cell_type": "markdown",
   "source": [
    "# Exercises\n",
    "\n",
    "## Classes\n",
    "\n",
    "Define a custom class of a concrete object to your liking. Give it some properties and a function which can performed on its properties (use the `self` keyword)."
   ],
   "id": "fc9b40868b2fa108"
  },
  {
   "metadata": {},
   "cell_type": "code",
   "source": "",
   "id": "ea3666f06a507811",
   "outputs": [],
   "execution_count": null
  },
  {
   "metadata": {},
   "cell_type": "markdown",
   "source": "Create an abstract class for the class created in the previous cell and redefine it to use the new abstract clas. Add abstract methods as well. The `imports` for ABC and `abstractmehtod` are provided.",
   "id": "c5e6a3ec01132677"
  },
  {
   "metadata": {},
   "cell_type": "code",
   "source": "from abc import ABC, abstractmethod",
   "id": "8ebb2ec4e82cbae7",
   "outputs": [],
   "execution_count": null
  },
  {
   "metadata": {},
   "cell_type": "markdown",
   "source": "Create a third class that derives from the abstract class from the previous exercise. Make sure to overload the methods in both functions. Demonstrate the concept of polymorphism by making use of the property that both concrete classes inherit form the abstract class. Hint: Look at the loop defined before in the examples.",
   "id": "33a52299e23c195c"
  },
  {
   "metadata": {},
   "cell_type": "code",
   "source": "",
   "id": "60a71796af69714b",
   "outputs": [],
   "execution_count": null
  },
  {
   "metadata": {},
   "cell_type": "markdown",
   "source": [
    "## Enums\n",
    "\n",
    "Define a new enum. Pick some other concept than colours."
   ],
   "id": "15090283acb35962"
  },
  {
   "metadata": {},
   "cell_type": "code",
   "source": "from enum import Enum",
   "id": "9bdc2c8cba24fc51",
   "outputs": [],
   "execution_count": null
  },
  {
   "metadata": {},
   "cell_type": "markdown",
   "source": "Write a simple `match` statement to make decisions based on the value of the enum.",
   "id": "2251e843b68f76bb"
  },
  {
   "metadata": {},
   "cell_type": "code",
   "source": "",
   "id": "664a263ba37fe1ca",
   "outputs": [],
   "execution_count": null
  },
  {
   "metadata": {},
   "cell_type": "markdown",
   "source": [
    "## Design Patterns\n",
    "\n",
    "The following question is quite a step up in complexity. Feel free to skip it if it is too much for now. If you enjoy a challenge, feel free to go ahead. Use the website mentioned before, and find the pattern in the catalog of patterns. There is Python code available on the website. Try to understand the code instead of just copy and pasting it. The goal is for you to learn, not to show me what it is.\n",
    "\n",
    "Bonus question: Implement the singleton design pattern. Show the objects that you retrieved are the same using the identy operator (`is`). Hint: Use "
   ],
   "id": "46f5825d332e9d7"
  },
  {
   "metadata": {},
   "cell_type": "code",
   "source": "",
   "id": "bf328c6b42f91e45",
   "outputs": [],
   "execution_count": null
  }
 ],
 "metadata": {
  "kernelspec": {
   "display_name": "Python 3",
   "language": "python",
   "name": "python3"
  },
  "language_info": {
   "codemirror_mode": {
    "name": "ipython",
    "version": 2
   },
   "file_extension": ".py",
   "mimetype": "text/x-python",
   "name": "python",
   "nbconvert_exporter": "python",
   "pygments_lexer": "ipython2",
   "version": "2.7.6"
  }
 },
 "nbformat": 4,
 "nbformat_minor": 5
}
