{
  "nbformat": 4,
  "nbformat_minor": 0,
  "metadata": {
    "colab": {
      "provenance": []
    },
    "kernelspec": {
      "name": "python3",
      "display_name": "Python 3"
    },
    "language_info": {
      "name": "python"
    }
  },
  "cells": [
    {
      "cell_type": "markdown",
      "source": [
        "# **Task-3**\n",
        "\n",
        "Create an application that should be used by the HR Team to filter the resume based on the Skills.\n"
      ],
      "metadata": {
        "id": "LhUXqCFs_R3Y"
      }
    },
    {
      "cell_type": "code",
      "source": [
        "pip install python-docx"
      ],
      "metadata": {
        "colab": {
          "base_uri": "https://localhost:8080/"
        },
        "id": "k5LwGnSeH6PF",
        "outputId": "3790a3f9-9271-4211-e509-781c53ec2fea"
      },
      "execution_count": null,
      "outputs": [
        {
          "output_type": "stream",
          "name": "stdout",
          "text": [
            "Looking in indexes: https://pypi.org/simple, https://us-python.pkg.dev/colab-wheels/public/simple/\n",
            "Collecting python-docx\n",
            "  Downloading python-docx-0.8.11.tar.gz (5.6 MB)\n",
            "\u001b[K     |████████████████████████████████| 5.6 MB 5.0 MB/s \n",
            "\u001b[?25hRequirement already satisfied: lxml>=2.3.2 in /usr/local/lib/python3.8/dist-packages (from python-docx) (4.9.1)\n",
            "Building wheels for collected packages: python-docx\n",
            "  Building wheel for python-docx (setup.py) ... \u001b[?25l\u001b[?25hdone\n",
            "  Created wheel for python-docx: filename=python_docx-0.8.11-py3-none-any.whl size=184505 sha256=45a1aca2bd549386fcdcf5a883d791f0f3bc63e8ea29e4ced1b4a9849030e477\n",
            "  Stored in directory: /root/.cache/pip/wheels/32/b8/b2/c4c2b95765e615fe139b0b17b5ea7c0e1b6519b0a9ec8fb34d\n",
            "Successfully built python-docx\n",
            "Installing collected packages: python-docx\n",
            "Successfully installed python-docx-0.8.11\n"
          ]
        }
      ]
    },
    {
      "cell_type": "code",
      "source": [
        "pip install docx2txt"
      ],
      "metadata": {
        "colab": {
          "base_uri": "https://localhost:8080/"
        },
        "id": "1loxpdSqIAxZ",
        "outputId": "4153923a-29ce-4183-b4de-7fdc9033a998"
      },
      "execution_count": null,
      "outputs": [
        {
          "output_type": "stream",
          "name": "stdout",
          "text": [
            "Looking in indexes: https://pypi.org/simple, https://us-python.pkg.dev/colab-wheels/public/simple/\n",
            "Collecting docx2txt\n",
            "  Downloading docx2txt-0.8.tar.gz (2.8 kB)\n",
            "Building wheels for collected packages: docx2txt\n",
            "  Building wheel for docx2txt (setup.py) ... \u001b[?25l\u001b[?25hdone\n",
            "  Created wheel for docx2txt: filename=docx2txt-0.8-py3-none-any.whl size=3980 sha256=cbc448ffd86ea445cdeefbcd4e3908204517fe152c0730e6f3c6feecec067aa6\n",
            "  Stored in directory: /root/.cache/pip/wheels/55/f0/2c/81637d42670985178b77df6d41b9b6c6dc18c94818447414b9\n",
            "Successfully built docx2txt\n",
            "Installing collected packages: docx2txt\n",
            "Successfully installed docx2txt-0.8\n"
          ]
        }
      ]
    },
    {
      "cell_type": "code",
      "source": [
        "pip install docx"
      ],
      "metadata": {
        "colab": {
          "base_uri": "https://localhost:8080/"
        },
        "id": "kjEBST98_XUK",
        "outputId": "375ee6a6-df8b-478e-ae4e-a6276ae9eeb5"
      },
      "execution_count": null,
      "outputs": [
        {
          "output_type": "stream",
          "name": "stdout",
          "text": [
            "Looking in indexes: https://pypi.org/simple, https://us-python.pkg.dev/colab-wheels/public/simple/\n",
            "Collecting docx\n",
            "  Downloading docx-0.2.4.tar.gz (54 kB)\n",
            "\u001b[K     |████████████████████████████████| 54 kB 2.2 MB/s \n",
            "\u001b[?25hRequirement already satisfied: lxml in /usr/local/lib/python3.8/dist-packages (from docx) (4.9.1)\n",
            "Requirement already satisfied: Pillow>=2.0 in /usr/local/lib/python3.8/dist-packages (from docx) (7.1.2)\n",
            "Building wheels for collected packages: docx\n",
            "  Building wheel for docx (setup.py) ... \u001b[?25l\u001b[?25hdone\n",
            "  Created wheel for docx: filename=docx-0.2.4-py3-none-any.whl size=53924 sha256=65d36c29c15b42892fabdace7987da2de6ce77944fbc9f18ac16f9c7313b55e0\n",
            "  Stored in directory: /root/.cache/pip/wheels/78/ae/2e/5ce789557ca59281a463dabe9d6522e429be240322148e5379\n",
            "Successfully built docx\n",
            "Installing collected packages: docx\n",
            "Successfully installed docx-0.2.4\n"
          ]
        }
      ]
    },
    {
      "cell_type": "code",
      "source": [
        "pip install pyresparser"
      ],
      "metadata": {
        "colab": {
          "base_uri": "https://localhost:8080/"
        },
        "id": "Qm9z2BNcG9nt",
        "outputId": "7e7fd923-7e48-4132-9ec9-3700ec5264fd"
      },
      "execution_count": null,
      "outputs": [
        {
          "output_type": "stream",
          "name": "stdout",
          "text": [
            "Looking in indexes: https://pypi.org/simple, https://us-python.pkg.dev/colab-wheels/public/simple/\n",
            "Collecting pyresparser\n",
            "  Downloading pyresparser-1.0.6-py3-none-any.whl (4.2 MB)\n",
            "\u001b[K     |████████████████████████████████| 4.2 MB 4.8 MB/s \n",
            "\u001b[?25hRequirement already satisfied: spacy>=2.1.4 in /usr/local/lib/python3.8/dist-packages (from pyresparser) (3.4.3)\n",
            "Requirement already satisfied: requests>=2.22.0 in /usr/local/lib/python3.8/dist-packages (from pyresparser) (2.23.0)\n",
            "Requirement already satisfied: preshed>=2.0.1 in /usr/local/lib/python3.8/dist-packages (from pyresparser) (3.0.8)\n",
            "Requirement already satisfied: certifi>=2019.6.16 in /usr/local/lib/python3.8/dist-packages (from pyresparser) (2022.9.24)\n",
            "Collecting pdfminer.six>=20181108\n",
            "  Downloading pdfminer.six-20221105-py3-none-any.whl (5.6 MB)\n",
            "\u001b[K     |████████████████████████████████| 5.6 MB 50.7 MB/s \n",
            "\u001b[?25hRequirement already satisfied: pyrsistent>=0.15.2 in /usr/local/lib/python3.8/dist-packages (from pyresparser) (0.19.2)\n",
            "Requirement already satisfied: blis>=0.2.4 in /usr/local/lib/python3.8/dist-packages (from pyresparser) (0.7.9)\n",
            "Requirement already satisfied: cymem>=2.0.2 in /usr/local/lib/python3.8/dist-packages (from pyresparser) (2.0.7)\n",
            "Requirement already satisfied: tqdm>=4.32.2 in /usr/local/lib/python3.8/dist-packages (from pyresparser) (4.64.1)\n",
            "Requirement already satisfied: chardet>=3.0.4 in /usr/local/lib/python3.8/dist-packages (from pyresparser) (3.0.4)\n",
            "Requirement already satisfied: thinc>=7.0.4 in /usr/local/lib/python3.8/dist-packages (from pyresparser) (8.1.5)\n",
            "Requirement already satisfied: wasabi>=0.2.2 in /usr/local/lib/python3.8/dist-packages (from pyresparser) (0.10.1)\n",
            "Requirement already satisfied: attrs>=19.1.0 in /usr/local/lib/python3.8/dist-packages (from pyresparser) (22.1.0)\n",
            "Requirement already satisfied: python-dateutil>=2.8.0 in /usr/local/lib/python3.8/dist-packages (from pyresparser) (2.8.2)\n",
            "Requirement already satisfied: numpy>=1.16.4 in /usr/local/lib/python3.8/dist-packages (from pyresparser) (1.21.6)\n",
            "Requirement already satisfied: nltk>=3.4.3 in /usr/local/lib/python3.8/dist-packages (from pyresparser) (3.7)\n",
            "Requirement already satisfied: pytz>=2019.1 in /usr/local/lib/python3.8/dist-packages (from pyresparser) (2022.6)\n",
            "Collecting pycryptodome>=3.8.2\n",
            "  Downloading pycryptodome-3.16.0-cp35-abi3-manylinux_2_5_x86_64.manylinux1_x86_64.manylinux_2_12_x86_64.manylinux2010_x86_64.whl (2.3 MB)\n",
            "\u001b[K     |████████████████████████████████| 2.3 MB 49.2 MB/s \n",
            "\u001b[?25hCollecting urllib3>=1.25.3\n",
            "  Downloading urllib3-1.26.13-py2.py3-none-any.whl (140 kB)\n",
            "\u001b[K     |████████████████████████████████| 140 kB 58.7 MB/s \n",
            "\u001b[?25hRequirement already satisfied: six>=1.12.0 in /usr/local/lib/python3.8/dist-packages (from pyresparser) (1.15.0)\n",
            "Requirement already satisfied: sortedcontainers>=2.1.0 in /usr/local/lib/python3.8/dist-packages (from pyresparser) (2.4.0)\n",
            "Requirement already satisfied: srsly>=0.0.7 in /usr/local/lib/python3.8/dist-packages (from pyresparser) (2.4.5)\n",
            "Requirement already satisfied: jsonschema>=3.0.1 in /usr/local/lib/python3.8/dist-packages (from pyresparser) (4.3.3)\n",
            "Requirement already satisfied: docx2txt>=0.7 in /usr/local/lib/python3.8/dist-packages (from pyresparser) (0.8)\n",
            "Requirement already satisfied: pandas>=0.24.2 in /usr/local/lib/python3.8/dist-packages (from pyresparser) (1.3.5)\n",
            "Requirement already satisfied: idna>=2.8 in /usr/local/lib/python3.8/dist-packages (from pyresparser) (2.10)\n",
            "Requirement already satisfied: importlib-resources>=1.4.0 in /usr/local/lib/python3.8/dist-packages (from jsonschema>=3.0.1->pyresparser) (5.10.0)\n",
            "Requirement already satisfied: zipp>=3.1.0 in /usr/local/lib/python3.8/dist-packages (from importlib-resources>=1.4.0->jsonschema>=3.0.1->pyresparser) (3.11.0)\n",
            "Requirement already satisfied: regex>=2021.8.3 in /usr/local/lib/python3.8/dist-packages (from nltk>=3.4.3->pyresparser) (2022.6.2)\n",
            "Requirement already satisfied: click in /usr/local/lib/python3.8/dist-packages (from nltk>=3.4.3->pyresparser) (7.1.2)\n",
            "Requirement already satisfied: joblib in /usr/local/lib/python3.8/dist-packages (from nltk>=3.4.3->pyresparser) (1.2.0)\n",
            "Collecting cryptography>=36.0.0\n",
            "  Downloading cryptography-38.0.4-cp36-abi3-manylinux_2_24_x86_64.whl (4.0 MB)\n",
            "\u001b[K     |████████████████████████████████| 4.0 MB 39.3 MB/s \n",
            "\u001b[?25hRequirement already satisfied: charset-normalizer>=2.0.0 in /usr/local/lib/python3.8/dist-packages (from pdfminer.six>=20181108->pyresparser) (2.1.1)\n",
            "Requirement already satisfied: cffi>=1.12 in /usr/local/lib/python3.8/dist-packages (from cryptography>=36.0.0->pdfminer.six>=20181108->pyresparser) (1.15.1)\n",
            "Requirement already satisfied: pycparser in /usr/local/lib/python3.8/dist-packages (from cffi>=1.12->cryptography>=36.0.0->pdfminer.six>=20181108->pyresparser) (2.21)\n",
            "Requirement already satisfied: murmurhash<1.1.0,>=0.28.0 in /usr/local/lib/python3.8/dist-packages (from preshed>=2.0.1->pyresparser) (1.0.9)\n",
            "Collecting urllib3>=1.25.3\n",
            "  Downloading urllib3-1.25.11-py2.py3-none-any.whl (127 kB)\n",
            "\u001b[K     |████████████████████████████████| 127 kB 65.4 MB/s \n",
            "\u001b[?25hRequirement already satisfied: typer<0.8.0,>=0.3.0 in /usr/local/lib/python3.8/dist-packages (from spacy>=2.1.4->pyresparser) (0.7.0)\n",
            "Requirement already satisfied: pydantic!=1.8,!=1.8.1,<1.11.0,>=1.7.4 in /usr/local/lib/python3.8/dist-packages (from spacy>=2.1.4->pyresparser) (1.10.2)\n",
            "Requirement already satisfied: pathy>=0.3.5 in /usr/local/lib/python3.8/dist-packages (from spacy>=2.1.4->pyresparser) (0.10.0)\n",
            "Requirement already satisfied: catalogue<2.1.0,>=2.0.6 in /usr/local/lib/python3.8/dist-packages (from spacy>=2.1.4->pyresparser) (2.0.8)\n",
            "Requirement already satisfied: packaging>=20.0 in /usr/local/lib/python3.8/dist-packages (from spacy>=2.1.4->pyresparser) (21.3)\n",
            "Requirement already satisfied: jinja2 in /usr/local/lib/python3.8/dist-packages (from spacy>=2.1.4->pyresparser) (2.11.3)\n",
            "Requirement already satisfied: langcodes<4.0.0,>=3.2.0 in /usr/local/lib/python3.8/dist-packages (from spacy>=2.1.4->pyresparser) (3.3.0)\n",
            "Requirement already satisfied: spacy-legacy<3.1.0,>=3.0.10 in /usr/local/lib/python3.8/dist-packages (from spacy>=2.1.4->pyresparser) (3.0.10)\n",
            "Requirement already satisfied: spacy-loggers<2.0.0,>=1.0.0 in /usr/local/lib/python3.8/dist-packages (from spacy>=2.1.4->pyresparser) (1.0.3)\n",
            "Requirement already satisfied: setuptools in /usr/local/lib/python3.8/dist-packages (from spacy>=2.1.4->pyresparser) (57.4.0)\n",
            "Requirement already satisfied: pyparsing!=3.0.5,>=2.0.2 in /usr/local/lib/python3.8/dist-packages (from packaging>=20.0->spacy>=2.1.4->pyresparser) (3.0.9)\n",
            "Requirement already satisfied: smart-open<6.0.0,>=5.2.1 in /usr/local/lib/python3.8/dist-packages (from pathy>=0.3.5->spacy>=2.1.4->pyresparser) (5.2.1)\n",
            "Requirement already satisfied: typing-extensions>=4.1.0 in /usr/local/lib/python3.8/dist-packages (from pydantic!=1.8,!=1.8.1,<1.11.0,>=1.7.4->spacy>=2.1.4->pyresparser) (4.4.0)\n",
            "Requirement already satisfied: confection<1.0.0,>=0.0.1 in /usr/local/lib/python3.8/dist-packages (from thinc>=7.0.4->pyresparser) (0.0.3)\n",
            "Requirement already satisfied: MarkupSafe>=0.23 in /usr/local/lib/python3.8/dist-packages (from jinja2->spacy>=2.1.4->pyresparser) (2.0.1)\n",
            "Installing collected packages: urllib3, cryptography, pycryptodome, pdfminer.six, pyresparser\n",
            "  Attempting uninstall: urllib3\n",
            "    Found existing installation: urllib3 1.24.3\n",
            "    Uninstalling urllib3-1.24.3:\n",
            "      Successfully uninstalled urllib3-1.24.3\n",
            "Successfully installed cryptography-38.0.4 pdfminer.six-20221105 pycryptodome-3.16.0 pyresparser-1.0.6 urllib3-1.25.11\n"
          ]
        }
      ]
    },
    {
      "cell_type": "code",
      "source": [
        "import docx2txt"
      ],
      "metadata": {
        "id": "HlgmvkmMcXRz"
      },
      "execution_count": null,
      "outputs": []
    },
    {
      "cell_type": "code",
      "source": [
        "resume=docx2txt.process(\"Parmeet Singh.docx\")"
      ],
      "metadata": {
        "id": "P0Z2CGZJfrxU"
      },
      "execution_count": null,
      "outputs": []
    },
    {
      "cell_type": "code",
      "source": [
        "print(resume)"
      ],
      "metadata": {
        "colab": {
          "base_uri": "https://localhost:8080/"
        },
        "id": "fOz5JkO5f2Ij",
        "outputId": "e807e74c-9c19-4894-907c-029979ceb5c1"
      },
      "execution_count": null,
      "outputs": [
        {
          "output_type": "stream",
          "name": "stdout",
          "text": [
            "\n"
          ]
        }
      ]
    },
    {
      "cell_type": "code",
      "source": [
        "JD=docx2txt.process(\"Requirements.docx\")"
      ],
      "metadata": {
        "id": "ueDrw61FgbIO"
      },
      "execution_count": null,
      "outputs": []
    },
    {
      "cell_type": "code",
      "source": [
        "print(JD)"
      ],
      "metadata": {
        "colab": {
          "base_uri": "https://localhost:8080/"
        },
        "id": "cUlnP6mkeGIN",
        "outputId": "aad9e752-a034-4744-9cb1-55d11e7f488f"
      },
      "execution_count": null,
      "outputs": [
        {
          "output_type": "stream",
          "name": "stdout",
          "text": [
            "Statistical analysis and computing\n",
            "\n",
            "Machine Learning\n",
            "\n",
            "Deep Learning\n",
            "\n",
            "Processing large data sets\n",
            "\n",
            "Data Visualization\n",
            "\n",
            "Data Wrangling\n",
            "\n",
            "Mathematics\n",
            "\n",
            "Programming\n",
            "\n",
            "Statistics\n",
            "\n",
            "Big Data\n",
            "\n",
            "Fundamentals of Data Science\n",
            "\n",
            "Statistics\n",
            "\n",
            "Programming knowledge\n",
            "\n",
            "Data Manipulation and Analysis\n",
            "\n",
            "Data Visualization\n",
            "\n",
            "Machine Learning\n",
            "\n",
            "Deep Learning\n",
            "\n",
            "Big Data\n",
            "\n",
            "Software Engineering\n",
            "\n",
            "Model Deployment\n",
            "\n",
            "Communication Skills\n",
            "\n",
            "Storytelling Skills\n",
            "\n",
            "Structured Thinking\n",
            "\n",
            "Curiosity\n",
            "\n",
            "pdfminer3\n",
            "\n",
            "pyresparser\n",
            "\n",
            "streamlit\n",
            "\n",
            "pandas\n",
            "\n",
            "pafy\n",
            "\n",
            "plotly\n",
            "\n",
            "pymysql\n",
            "\n",
            "streamlit-tags\n",
            "\n",
            "pillow\n",
            "\n",
            "web development\n"
          ]
        }
      ]
    },
    {
      "cell_type": "code",
      "source": [
        "text = [resume,JD]"
      ],
      "metadata": {
        "id": "qaonsau4fQU8"
      },
      "execution_count": null,
      "outputs": []
    },
    {
      "cell_type": "code",
      "source": [
        "from sklearn.feature_extraction.text import  CountVectorizer"
      ],
      "metadata": {
        "id": "iizJ--Qbf5Wv"
      },
      "execution_count": null,
      "outputs": []
    },
    {
      "cell_type": "code",
      "source": [
        "cv=CountVectorizer()\n",
        "count = cv.fit_transform(text)"
      ],
      "metadata": {
        "id": "z9-Mbrj6gD-O"
      },
      "execution_count": null,
      "outputs": []
    },
    {
      "cell_type": "code",
      "source": [
        "print(count)"
      ],
      "metadata": {
        "colab": {
          "base_uri": "https://localhost:8080/"
        },
        "id": "XSgzIwOIgNsv",
        "outputId": "736a94a1-c1fa-4b3e-8482-9ad251a6739e"
      },
      "execution_count": null,
      "outputs": [
        {
          "output_type": "stream",
          "name": "stdout",
          "text": [
            "  (1, 33)\t1\n",
            "  (1, 0)\t2\n",
            "  (1, 1)\t2\n",
            "  (1, 4)\t1\n",
            "  (1, 15)\t2\n",
            "  (1, 14)\t4\n",
            "  (1, 7)\t2\n",
            "  (1, 25)\t1\n",
            "  (1, 13)\t1\n",
            "  (1, 6)\t8\n",
            "  (1, 30)\t1\n",
            "  (1, 40)\t2\n",
            "  (1, 42)\t1\n",
            "  (1, 17)\t1\n",
            "  (1, 26)\t2\n",
            "  (1, 34)\t2\n",
            "  (1, 2)\t2\n",
            "  (1, 11)\t1\n",
            "  (1, 19)\t1\n",
            "  (1, 29)\t1\n",
            "  (1, 12)\t1\n",
            "  (1, 16)\t1\n",
            "  (1, 32)\t1\n",
            "  (1, 10)\t1\n",
            "  (1, 18)\t1\n",
            "  (1, 8)\t1\n",
            "  (1, 3)\t1\n",
            "  (1, 31)\t2\n",
            "  (1, 35)\t1\n",
            "  (1, 37)\t1\n",
            "  (1, 39)\t1\n",
            "  (1, 5)\t1\n",
            "  (1, 22)\t1\n",
            "  (1, 28)\t1\n",
            "  (1, 36)\t2\n",
            "  (1, 21)\t1\n",
            "  (1, 20)\t1\n",
            "  (1, 24)\t1\n",
            "  (1, 27)\t1\n",
            "  (1, 38)\t1\n",
            "  (1, 23)\t1\n",
            "  (1, 41)\t1\n",
            "  (1, 9)\t1\n"
          ]
        }
      ]
    },
    {
      "cell_type": "code",
      "source": [
        "from sklearn.metrics.pairwise import cosine_similarity"
      ],
      "metadata": {
        "id": "aRdCj9ibgQw0"
      },
      "execution_count": null,
      "outputs": []
    },
    {
      "cell_type": "code",
      "source": [
        "print(cosine_similarity(count))"
      ],
      "metadata": {
        "colab": {
          "base_uri": "https://localhost:8080/"
        },
        "id": "p9qpBktmgpZx",
        "outputId": "0819d777-d15b-4988-b8ea-a1eee658045d"
      },
      "execution_count": null,
      "outputs": [
        {
          "output_type": "stream",
          "name": "stdout",
          "text": [
            "[[0. 0.]\n",
            " [0. 1.]]\n"
          ]
        }
      ]
    },
    {
      "cell_type": "code",
      "source": [],
      "metadata": {
        "id": "QbHEnNiIgv4Q"
      },
      "execution_count": null,
      "outputs": []
    }
  ]
}