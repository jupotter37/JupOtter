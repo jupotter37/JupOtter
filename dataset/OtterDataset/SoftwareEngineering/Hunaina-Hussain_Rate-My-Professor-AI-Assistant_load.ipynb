{
 "cells": [
  {
   "cell_type": "code",
   "execution_count": 7,
   "metadata": {},
   "outputs": [],
   "source": [
    "from dotenv import load_dotenv\n",
    "load_dotenv()\n",
    "import os\n",
    "import google.generativeai as genai\n",
    "from pinecone.grpc import PineconeGRPC as Pinecone\n",
    "from pinecone import ServerlessSpec\n"
   ]
  },
  {
   "cell_type": "code",
   "execution_count": 20,
   "metadata": {},
   "outputs": [],
   "source": [
    "\n",
    "pc = Pinecone(api_key=os.getenv(\"PINECONE_API_KEY\"))\n",
    "index_name = \"rag\"\n",
    "\n",
    "if index_name not in pc.list_indexes().names():\n",
    "    pc.create_index(\n",
    "    name= index_name, dimension=1536, metric=\"cosine\", spec=ServerlessSpec(cloud=\"aws\", region=\"us-east-1\")\n",
    "    )"
   ]
  },
  {
   "cell_type": "code",
   "execution_count": 22,
   "metadata": {},
   "outputs": [
    {
     "data": {
      "text/plain": [
       "[{'professor': 'Dr. John Smith',\n",
       "  'subject': 'Introduction to Computing',\n",
       "  'stars': 4,\n",
       "  'review': 'Dr. Smith is very knowledgeable and makes the lectures interesting. However, the exams are tough and require a lot of preparation.'},\n",
       " {'professor': 'Dr. Emily Johnson',\n",
       "  'subject': 'Digital Logic Design',\n",
       "  'stars': 5,\n",
       "  'review': 'Dr. Johnson is an amazing professor! She explains concepts very clearly and provides plenty of resources for practice. Highly recommended.'},\n",
       " {'professor': 'Dr. Michael Brown',\n",
       "  'subject': 'Data Structures and Algorithms',\n",
       "  'stars': 3,\n",
       "  'review': \"The course content is good, but Dr. Brown's teaching style can be a bit dry. Sometimes it’s hard to stay engaged during his lectures.\"},\n",
       " {'professor': 'Dr. Sarah Lee',\n",
       "  'subject': 'Analog Integrated Circuits',\n",
       "  'stars': 2,\n",
       "  'review': \"Dr. Lee is very strict and her exams are really difficult. It's hard to get a good grade in her class unless you spend a lot of time studying on your own.\"},\n",
       " {'professor': 'Dr. Robert Davis',\n",
       "  'subject': 'Software Engineering',\n",
       "  'stars': 5,\n",
       "  'review': \"One of the best professors I've had. Dr. Davis is very approachable and always willing to help students. His lectures are engaging and informative.\"},\n",
       " {'professor': 'Dr. Jessica Wilson',\n",
       "  'subject': 'Machine Learning',\n",
       "  'stars': 4,\n",
       "  'review': 'Dr. Wilson is great at explaining complex topics in an easy-to-understand way. The course is challenging, but you learn a lot.'},\n",
       " {'professor': 'Dr. William Martinez',\n",
       "  'subject': 'Operating Systems',\n",
       "  'stars': 1,\n",
       "  'review': 'I did not enjoy this class. Dr. Martinez is often disorganized, and it’s hard to follow his lectures. The assignments were confusing and poorly explained.'},\n",
       " {'professor': 'Dr. Jennifer Clark',\n",
       "  'subject': 'Computer Networks',\n",
       "  'stars': 3,\n",
       "  'review': 'Dr. Clark is an average professor. Her lectures are okay, but sometimes she moves too fast. The material is interesting but could be better presented.'},\n",
       " {'professor': 'Dr. David Lewis',\n",
       "  'subject': 'Artificial Intelligence',\n",
       "  'stars': 5,\n",
       "  'review': 'Absolutely loved this course! Dr. Lewis is incredibly passionate about AI and it shows in his teaching. I learned so much and would take another class with him in a heartbeat.'},\n",
       " {'professor': 'Dr. Linda Walker',\n",
       "  'subject': 'Database Systems',\n",
       "  'stars': 4,\n",
       "  'review': 'Dr. Walker is a good professor who knows her stuff. Her lectures are detailed and well-organized, but make sure to keep up with the readings.'},\n",
       " {'professor': 'Dr. Thomas Robinson',\n",
       "  'subject': 'Computer Architecture',\n",
       "  'stars': 2,\n",
       "  'review': 'Dr. Robinson’s lectures can be quite monotonous, and his exams are unexpectedly difficult. Not the best experience overall.'},\n",
       " {'professor': 'Dr. Susan Martinez',\n",
       "  'subject': 'Linear Algebra',\n",
       "  'stars': 4,\n",
       "  'review': 'Dr. Martinez is thorough and her classes are very structured. Sometimes her pace is a bit fast, but overall, she’s a great teacher.'},\n",
       " {'professor': 'Dr. Richard Harris',\n",
       "  'subject': 'Probability and Statistics',\n",
       "  'stars': 5,\n",
       "  'review': 'Dr. Harris makes statistics fascinating! His enthusiasm is contagious, and he really cares about his students’ understanding.'},\n",
       " {'professor': 'Dr. Elizabeth King',\n",
       "  'subject': 'Advanced Calculus',\n",
       "  'stars': 1,\n",
       "  'review': 'Dr. King is difficult to follow and her exams do not reflect the material taught in lectures. Would not recommend taking her class.'},\n",
       " {'professor': 'Dr. Charles Green',\n",
       "  'subject': 'Computer Graphics',\n",
       "  'stars': 3,\n",
       "  'review': 'Dr. Green has good knowledge but is not very engaging. His lectures are a bit boring, but the course material is interesting.'},\n",
       " {'professor': 'Dr. Karen White',\n",
       "  'subject': 'Discrete Mathematics',\n",
       "  'stars': 5,\n",
       "  'review': 'Dr. White is amazing! She makes discrete math fun and approachable, and her assignments are very helpful for understanding the material.'},\n",
       " {'professor': 'Dr. George Thompson',\n",
       "  'subject': 'Software Testing',\n",
       "  'stars': 4,\n",
       "  'review': 'Dr. Thompson’s class is challenging but rewarding. He provides plenty of examples and practice problems to help with understanding.'},\n",
       " {'professor': 'Dr. Patricia Evans',\n",
       "  'subject': 'Web Development',\n",
       "  'stars': 3,\n",
       "  'review': 'Dr. Evans knows her stuff, but her lectures could use more structure. The projects are useful, but the class lacks engagement.'},\n",
       " {'professor': 'Dr. Steven Nelson',\n",
       "  'subject': 'Human-Computer Interaction',\n",
       "  'stars': 5,\n",
       "  'review': 'Dr. Nelson is fantastic! His class is interactive and really opens your eyes to the nuances of designing user interfaces.'},\n",
       " {'professor': 'Dr. Anna Baker',\n",
       "  'subject': 'Cryptography',\n",
       "  'stars': 2,\n",
       "  'review': 'Dr. Baker’s lectures are quite dry, and her teaching style is not very engaging. It’s hard to stay focused in her class.'}]"
      ]
     },
     "execution_count": 22,
     "metadata": {},
     "output_type": "execute_result"
    }
   ],
   "source": [
    "import json\n",
    "data = json.load(open(\"reviews.json\"))\n",
    "data['reviews']"
   ]
  },
  {
   "cell_type": "code",
   "execution_count": 55,
   "metadata": {},
   "outputs": [],
   "source": [
    "\n",
    "processed_data=[]\n",
    "client = genai\n",
    "\n",
    "for review in data['reviews']:\n",
    "    result = genai.embed_content(\n",
    "    model=\"models/text-embedding-004\",\n",
    "    content= review['review'],\n",
    ")\n",
    "\n",
    "processed_data.append({\n",
    "    \"values\": list(result),\n",
    "    \"id\": review[\"professor\"],\n",
    "    \"metadata\": {\n",
    "        \"review\": review[\"review\"],\n",
    "        \"subject\": review[\"subject\"],\n",
    "        \"stars\": review[\"stars\"]\n",
    "    } \n",
    "})\n"
   ]
  },
  {
   "cell_type": "code",
   "execution_count": 60,
   "metadata": {},
   "outputs": [
    {
     "ename": "TypeError",
     "evalue": "Column `values` is expected to be a list of floats",
     "output_type": "error",
     "traceback": [
      "\u001b[0;31m---------------------------------------------------------------------------\u001b[0m",
      "\u001b[0;31mTypeError\u001b[0m                                 Traceback (most recent call last)",
      "File \u001b[0;32m/opt/conda/envs/rag/lib/python3.11/site-packages/pinecone/grpc/vector_factory_grpc.py:106\u001b[0m, in \u001b[0;36mVectorFactoryGRPC._dict_to_vector\u001b[0;34m(item)\u001b[0m\n\u001b[1;32m    105\u001b[0m \u001b[38;5;28;01mtry\u001b[39;00m:\n\u001b[0;32m--> 106\u001b[0m     \u001b[38;5;28;01mreturn\u001b[39;00m \u001b[43mGRPCVector\u001b[49m\u001b[43m(\u001b[49m\u001b[38;5;241;43m*\u001b[39;49m\u001b[38;5;241;43m*\u001b[39;49m\u001b[43mitem\u001b[49m\u001b[43m)\u001b[49m\n\u001b[1;32m    107\u001b[0m \u001b[38;5;28;01mexcept\u001b[39;00m \u001b[38;5;167;01mTypeError\u001b[39;00m \u001b[38;5;28;01mas\u001b[39;00m e:\n\u001b[1;32m    108\u001b[0m     \u001b[38;5;66;03m# Where possible raise a more specific error to the user.\u001b[39;00m\n",
      "\u001b[0;31mTypeError\u001b[0m: must be real number, not str",
      "\nDuring handling of the above exception, another exception occurred:\n",
      "\u001b[0;31mTypeError\u001b[0m                                 Traceback (most recent call last)",
      "Cell \u001b[0;32mIn[60], line 2\u001b[0m\n\u001b[1;32m      1\u001b[0m index \u001b[38;5;241m=\u001b[39m pc\u001b[38;5;241m.\u001b[39mIndex(\u001b[38;5;124m'\u001b[39m\u001b[38;5;124mrag\u001b[39m\u001b[38;5;124m'\u001b[39m)\n\u001b[0;32m----> 2\u001b[0m \u001b[43mindex\u001b[49m\u001b[38;5;241;43m.\u001b[39;49m\u001b[43mupsert\u001b[49m\u001b[43m(\u001b[49m\n\u001b[1;32m      3\u001b[0m \u001b[43m    \u001b[49m\u001b[43mvectors\u001b[49m\u001b[43m \u001b[49m\u001b[38;5;241;43m=\u001b[39;49m\u001b[43m \u001b[49m\u001b[43mprocessed_data\u001b[49m\u001b[43m,\u001b[49m\n\u001b[1;32m      4\u001b[0m \u001b[43m    \u001b[49m\u001b[43mnamespace\u001b[49m\u001b[38;5;241;43m=\u001b[39;49m\u001b[43m \u001b[49m\u001b[38;5;124;43m\"\u001b[39;49m\u001b[38;5;124;43mns1\u001b[39;49m\u001b[38;5;124;43m\"\u001b[39;49m\n\u001b[1;32m      5\u001b[0m \u001b[43m)\u001b[49m\n",
      "File \u001b[0;32m/opt/conda/envs/rag/lib/python3.11/site-packages/pinecone/grpc/index_grpc.py:136\u001b[0m, in \u001b[0;36mGRPCIndex.upsert\u001b[0;34m(self, vectors, async_req, namespace, batch_size, show_progress, **kwargs)\u001b[0m\n\u001b[1;32m    128\u001b[0m     \u001b[38;5;28;01mraise\u001b[39;00m \u001b[38;5;167;01mValueError\u001b[39;00m(\n\u001b[1;32m    129\u001b[0m         \u001b[38;5;124m\"\u001b[39m\u001b[38;5;124masync_req is not supported when batch_size is provided.\u001b[39m\u001b[38;5;124m\"\u001b[39m\n\u001b[1;32m    130\u001b[0m         \u001b[38;5;124m\"\u001b[39m\u001b[38;5;124mTo upsert in parallel, please follow: \u001b[39m\u001b[38;5;124m\"\u001b[39m\n\u001b[1;32m    131\u001b[0m         \u001b[38;5;124m\"\u001b[39m\u001b[38;5;124mhttps://docs.pinecone.io/docs/performance-tuning\u001b[39m\u001b[38;5;124m\"\u001b[39m\n\u001b[1;32m    132\u001b[0m     )\n\u001b[1;32m    134\u001b[0m timeout \u001b[38;5;241m=\u001b[39m kwargs\u001b[38;5;241m.\u001b[39mpop(\u001b[38;5;124m\"\u001b[39m\u001b[38;5;124mtimeout\u001b[39m\u001b[38;5;124m\"\u001b[39m, \u001b[38;5;28;01mNone\u001b[39;00m)\n\u001b[0;32m--> 136\u001b[0m vectors \u001b[38;5;241m=\u001b[39m \u001b[38;5;28;43mlist\u001b[39;49m\u001b[43m(\u001b[49m\u001b[38;5;28;43mmap\u001b[39;49m\u001b[43m(\u001b[49m\u001b[43mVectorFactoryGRPC\u001b[49m\u001b[38;5;241;43m.\u001b[39;49m\u001b[43mbuild\u001b[49m\u001b[43m,\u001b[49m\u001b[43m \u001b[49m\u001b[43mvectors\u001b[49m\u001b[43m)\u001b[49m\u001b[43m)\u001b[49m\n\u001b[1;32m    137\u001b[0m \u001b[38;5;28;01mif\u001b[39;00m async_req:\n\u001b[1;32m    138\u001b[0m     args_dict \u001b[38;5;241m=\u001b[39m \u001b[38;5;28mself\u001b[39m\u001b[38;5;241m.\u001b[39m_parse_non_empty_args([(\u001b[38;5;124m\"\u001b[39m\u001b[38;5;124mnamespace\u001b[39m\u001b[38;5;124m\"\u001b[39m, namespace)])\n",
      "File \u001b[0;32m/opt/conda/envs/rag/lib/python3.11/site-packages/pinecone/grpc/vector_factory_grpc.py:55\u001b[0m, in \u001b[0;36mVectorFactoryGRPC.build\u001b[0;34m(item)\u001b[0m\n\u001b[1;32m     53\u001b[0m     \u001b[38;5;28;01mreturn\u001b[39;00m VectorFactoryGRPC\u001b[38;5;241m.\u001b[39m_tuple_to_vector(item)\n\u001b[1;32m     54\u001b[0m \u001b[38;5;28;01melif\u001b[39;00m \u001b[38;5;28misinstance\u001b[39m(item, Mapping):\n\u001b[0;32m---> 55\u001b[0m     \u001b[38;5;28;01mreturn\u001b[39;00m \u001b[43mVectorFactoryGRPC\u001b[49m\u001b[38;5;241;43m.\u001b[39;49m\u001b[43m_dict_to_vector\u001b[49m\u001b[43m(\u001b[49m\u001b[43mitem\u001b[49m\u001b[43m)\u001b[49m\n\u001b[1;32m     56\u001b[0m \u001b[38;5;28;01melse\u001b[39;00m:\n\u001b[1;32m     57\u001b[0m     \u001b[38;5;28;01mraise\u001b[39;00m \u001b[38;5;167;01mValueError\u001b[39;00m(\u001b[38;5;124mf\u001b[39m\u001b[38;5;124m\"\u001b[39m\u001b[38;5;124mInvalid vector value passed: cannot interpret type \u001b[39m\u001b[38;5;132;01m{\u001b[39;00m\u001b[38;5;28mtype\u001b[39m(item)\u001b[38;5;132;01m}\u001b[39;00m\u001b[38;5;124m\"\u001b[39m)\n",
      "File \u001b[0;32m/opt/conda/envs/rag/lib/python3.11/site-packages/pinecone/grpc/vector_factory_grpc.py:118\u001b[0m, in \u001b[0;36mVectorFactoryGRPC._dict_to_vector\u001b[0;34m(item)\u001b[0m\n\u001b[1;32m    111\u001b[0m     \u001b[38;5;28;01mraise\u001b[39;00m \u001b[38;5;167;01mTypeError\u001b[39;00m(\n\u001b[1;32m    112\u001b[0m         \u001b[38;5;124mf\u001b[39m\u001b[38;5;124m\"\u001b[39m\u001b[38;5;124mCannot set Vector.id to \u001b[39m\u001b[38;5;132;01m{\u001b[39;00mvid\u001b[38;5;132;01m}\u001b[39;00m\u001b[38;5;124m: \u001b[39m\u001b[38;5;132;01m{\u001b[39;00mvid\u001b[38;5;132;01m}\u001b[39;00m\u001b[38;5;124m has type \u001b[39m\u001b[38;5;132;01m{\u001b[39;00m\u001b[38;5;28mtype\u001b[39m(vid)\u001b[38;5;132;01m}\u001b[39;00m\u001b[38;5;124m, \u001b[39m\u001b[38;5;124m\"\u001b[39m\n\u001b[1;32m    113\u001b[0m         \u001b[38;5;124m\"\u001b[39m\u001b[38;5;124mbut expected one of: (<class \u001b[39m\u001b[38;5;124m'\u001b[39m\u001b[38;5;124mbytes\u001b[39m\u001b[38;5;124m'\u001b[39m\u001b[38;5;124m>, <class \u001b[39m\u001b[38;5;124m'\u001b[39m\u001b[38;5;124mstr\u001b[39m\u001b[38;5;124m'\u001b[39m\u001b[38;5;124m>) for field Vector.id\u001b[39m\u001b[38;5;124m\"\u001b[39m\n\u001b[1;32m    114\u001b[0m     )\n\u001b[1;32m    115\u001b[0m \u001b[38;5;28;01mif\u001b[39;00m \u001b[38;5;129;01mnot\u001b[39;00m \u001b[38;5;28misinstance\u001b[39m(item[\u001b[38;5;124m\"\u001b[39m\u001b[38;5;124mvalues\u001b[39m\u001b[38;5;124m\"\u001b[39m], Iterable) \u001b[38;5;129;01mor\u001b[39;00m \u001b[38;5;129;01mnot\u001b[39;00m \u001b[38;5;28misinstance\u001b[39m(\n\u001b[1;32m    116\u001b[0m     item[\u001b[38;5;124m\"\u001b[39m\u001b[38;5;124mvalues\u001b[39m\u001b[38;5;124m\"\u001b[39m]\u001b[38;5;241m.\u001b[39m\u001b[38;5;21m__iter__\u001b[39m()\u001b[38;5;241m.\u001b[39m\u001b[38;5;21m__next__\u001b[39m(), numbers\u001b[38;5;241m.\u001b[39mReal\n\u001b[1;32m    117\u001b[0m ):\n\u001b[0;32m--> 118\u001b[0m     \u001b[38;5;28;01mraise\u001b[39;00m \u001b[38;5;167;01mTypeError\u001b[39;00m(\u001b[38;5;124mf\u001b[39m\u001b[38;5;124m\"\u001b[39m\u001b[38;5;124mColumn `values` is expected to be a list of floats\u001b[39m\u001b[38;5;124m\"\u001b[39m)\n\u001b[1;32m    119\u001b[0m \u001b[38;5;28;01mraise\u001b[39;00m e\n",
      "\u001b[0;31mTypeError\u001b[0m: Column `values` is expected to be a list of floats"
     ]
    }
   ],
   "source": [
    "\n",
    "index = pc.Index('rag')\n",
    "index.upsert(\n",
    "    vectors = processed_data,\n",
    "    namespace= \"ns1\"\n",
    ")"
   ]
  }
 ],
 "metadata": {
  "kernelspec": {
   "display_name": "Python 3",
   "language": "python",
   "name": "python3"
  },
  "language_info": {
   "codemirror_mode": {
    "name": "ipython",
    "version": 3
   },
   "file_extension": ".py",
   "mimetype": "text/x-python",
   "name": "python",
   "nbconvert_exporter": "python",
   "pygments_lexer": "ipython3",
   "version": "3.11.9"
  }
 },
 "nbformat": 4,
 "nbformat_minor": 2
}
