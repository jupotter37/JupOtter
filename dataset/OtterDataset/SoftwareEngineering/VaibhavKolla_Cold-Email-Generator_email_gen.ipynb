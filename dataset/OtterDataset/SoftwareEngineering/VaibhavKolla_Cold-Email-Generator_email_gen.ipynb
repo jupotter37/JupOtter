{
 "cells": [
  {
   "cell_type": "code",
   "execution_count": 1,
   "id": "3daeda96-05db-4fa9-bc84-5bb1bc9effb9",
   "metadata": {},
   "outputs": [],
   "source": [
    "from langchain_groq import ChatGroq"
   ]
  },
  {
   "cell_type": "code",
   "execution_count": 2,
   "id": "5318f580-6aa7-420c-95db-60b00f6fc21f",
   "metadata": {},
   "outputs": [
    {
     "name": "stdout",
     "output_type": "stream",
     "text": [
      "The first person to set foot on the Moon was Neil Armstrong, an American astronaut and the mission commander of the Apollo 11 mission. He stepped onto the lunar surface on July 20, 1969, famously declaring, \"That's one small step for man, one giant leap for mankind.\"\n",
      "\n",
      "However, it's worth noting that the first person to enter into lunar orbit was Yuri Gagarin's fellow cosmonaut, Alexei Leonov was not the first to walk on the moon but the first to walk in space, but the first person to enter lunar orbit was actually the Soviet Union's Luna 3 spacecraft in 1959, which imaged the far side of the Moon.\n",
      "\n",
      "The first person to walk on the moon was indeed Neil Armstrong, followed by Edwin \"Buzz\" Aldrin, who also walked on the Moon during the Apollo 11 mission.\n"
     ]
    }
   ],
   "source": [
    "llm = ChatGroq(\n",
    "    temperature=0,\n",
    "    \n",
    "    groq_api_key = '<your API key here>',\n",
    "    \n",
    "    model_name = \"llama-3.1-70b-versatile\"\n",
    "    # other params...\n",
    ")\n",
    "\n",
    "response = llm.invoke(\"who is the first person to reach moon!\")\n",
    "print(response.content)"
   ]
  },
  {
   "cell_type": "code",
   "execution_count": 3,
   "id": "cc31266f-7eea-48fa-9aec-3d6562998897",
   "metadata": {
    "scrolled": true
   },
   "outputs": [
    {
     "name": "stderr",
     "output_type": "stream",
     "text": [
      "USER_AGENT environment variable not set, consider setting it to identify your requests.\n"
     ]
    },
    {
     "name": "stdout",
     "output_type": "stream",
     "text": [
      "Apply for NIKE Inc. Software Engineering Undergraduate Intern\n",
      "\n",
      "Search JobsSkip navigationSearch JobsNIKE, INC. JOBSContract JobsJoin The Talent CommunityLife @ NikeOverviewBenefitsBrandsOverviewJordanConverseTeamsOverviewAdministrative SupportAdvanced InnovationAir Manufacturing InnovationAviationCommunicationsCustomer ServiceDesignDigitalFacilitiesFinance & AccountingGovernment & Public AffairsHuman ResourcesInsights & AnalyticsLegalManufacturing & EngineeringMarketingMerchandisingPlanningPrivacyProcurementProduct Creation, Development & ManagementRetail CorporateRetail StoresSalesSocial & Community ImpactSports MarketingStrategic PlanningSupply Chain, Distribution & LogisticsSustainabilityTechnologyLocationsOverviewNike WHQNike New York HQEHQ: Hilversum, The NetherlandsELC: Laakdal, BelgiumGreater China HQDiversity, Equity & InclusionOverviewMilitary InclusionDisability InclusionIndigenous InclusionInternshipsInternshipsNIKE Inc. Software Engineering Undergraduate InternBeaverton, OregonBecome a Part of the NIKE, Inc. Team\n",
      "NIKE, Inc. does more than outfit the world’s best athletes. It is a place to explore potential, obliterate boundaries and push out the edges of what can be. The company looks for people who can grow, think, dream and create. Its culture thrives by embracing diversity and rewarding imagination. The brand seeks achievers, leaders and visionaries. At NIKE, Inc. it’s about each person bringing skills and passion to a challenging and constantly evolving game.WHO YOU’LL WORK WITH  NIKE is a technology company. From our flagship website and five-star mobile apps to developing products, managing big data, and providing leading edge engineering and systems support, our teams in NIKE’s Global Technology organization exist to revolutionize the future at the confluence of tech and sport. We invest and develop advances in technology and employ the most creative people in the world, and then give them the support to constantly innovate, iterate, and serve consumers more directly and personally. Our teams are innovative, diverse, multidisciplinary, and collaborative, taking technology into the future and bringing the world with it. WHO WE ARE LOOKING FOR Global Technology Engineers will support various functions across the enterprise. The ideal candidate has an ability to the see big picture, understand how technology impacts the entire organization, and must possess a passion for consumer facing digital technology and innovation. Undergraduates with a graduation date of December 2025 or Spring/Summer 2026 Bachelor’s degree in computer science, engineering, information sciences or related field Previous internship(s) in a digital technology organization, marketing/consumer facing technology organization, operations and logistics team, or enterprise data and analytics team  Prior experience designing and implementing web/mobile applications Ability to write computer code that is correct, well tested, and easy-to-read Knowledge of one or more computer programming languages like Java, Python, React, Swift, JavaScript, XCode, C#, Android Studio. Experience working in a cloud-based environment (e.g. Amazon EC2, GCE, Rackspace, Azure, etc.) Preferred Qualifications: Experience with Relational and Non-Relational data base technologies like Oracle, MS-SQL, NoSQL, MongoDB, Cassandra Experience working with SAP platform and/or Warehouse Management Systems (WMS) like Manhattan. NIKE, Inc. is a growth company that looks for team members to grow with it. Nike offers a generous total rewards package, casual work environment, a diverse and inclusive culture, and an electric atmosphere for professional development. No matter the location, or the role, every Nike employee shares one galvanizing mission: To bring inspiration and innovation to every athlete* in the world.NIKE, Inc. is committed to employing a diverse workforce. Qualified applicants will receive consideration without regard to race, color, religion, sex, national origin, age, sexual orientation, gender identity, gender expression, veteran status, or disability.How We HireAt NIKE, Inc. we promise to provide a premium, inclusive, compelling and authentic candidate experience. Delivering on this promise means we allow you to be at your best — and to do that, you need to understand how the hiring process works. Transparency is key.\n",
      "\n",
      "* This overview explains our hiring process for corporate roles. Note there may be different hiring steps involved for non-corporate roles.Start nowBenefitsWhether it’s transportation or financial health, we continually invest in our employees to help them achieve greatness — inside and outside of work. All who work here should be able to realize their full potential.Employee Assistance ProgramEmployee Stock Purchase Plan (ESPP)HolidaysMedical PlanPaid Time Off (PTO)Product DiscountsSabbaticalsLearn moreFIND A STOREBECOME A MEMBERSIGN UP FOR EMAILSEND US FEEDBACKSTUDENT DISCOUNTSGET HELPGET HELPOrder StatusDeliveryReturnsPayment OptionsContact Us On Nike.com InquiriesContact Us On All Other InquiriesABOUT NIKEABOUT NIKENewsCareersInvestorsSustainabilityIndia© 2024 Nike, Inc. All Rights ReservedGuidesNike AdaptNike Air MaxNike FlyleatherNike PegasusNike Zoom FlyNike AirNike FlyEaseNike FreeNike ReactNike ZoomXNike Air Force 1Nike FlyknitNike JoyrideNike VaporflyTerms of SaleTerms of UseNike Privacy Policy\n"
     ]
    }
   ],
   "source": [
    "from langchain_community.document_loaders import WebBaseLoader\n",
    "\n",
    "loader = WebBaseLoader(\"https://jobs.nike.com/job/R-37999\")\n",
    "\n",
    "page_data = loader.load().pop().page_content\n",
    "print(page_data)"
   ]
  },
  {
   "cell_type": "code",
   "execution_count": 4,
   "id": "e61a5e4e-d816-456c-bcef-3ecf3572e312",
   "metadata": {},
   "outputs": [],
   "source": [
    "from langchain_core.prompts import PromptTemplate\n",
    "\n",
    "prompt_extract = PromptTemplate.from_template(\n",
    "    \"\"\"\n",
    "    ### SCRAPED TEXT FROM WEBSITE:\n",
    "{page_data}\n",
    "\n",
    "### INSTRUCTION:\n",
    "The scraped text is from the career's page of a website.\n",
    "Your job is to extract the job postings and return them in JSON format containing\n",
    "following keys: ` role`, experience, skills and description.\n",
    "Only return the valid JSON.\n",
    "\n",
    "### VALID JSON (NO PREAMBLE):\n",
    "\n",
    "\"\"\"\n",
    ")"
   ]
  },
  {
   "cell_type": "code",
   "execution_count": 5,
   "id": "e006c21b-6f10-45f2-b18e-2621254a4973",
   "metadata": {
    "scrolled": true
   },
   "outputs": [
    {
     "name": "stdout",
     "output_type": "stream",
     "text": [
      "```json\n",
      "{\n",
      "  \"role\": \"NIKE Inc. Software Engineering Undergraduate Intern\",\n",
      "  \"experience\": \"Previous internship(s) in a digital technology organization, marketing/consumer facing technology organization, operations and logistics team, or enterprise data and analytics team\",\n",
      "  \"skills\": [\n",
      "    \"Computer programming languages like Java, Python, React, Swift, JavaScript, XCode, C#\",\n",
      "    \"Experience working in a cloud-based environment (e.g. Amazon EC2, GCE, Rackspace, Azure, etc.)\",\n",
      "    \"Relational and Non-Relational data base technologies like Oracle, MS-SQL, NoSQL, MongoDB, Cassandra\",\n",
      "    \"SAP platform and/or Warehouse Management Systems (WMS) like Manhattan\"\n",
      "  ],\n",
      "  \"description\": \"NIKE, Inc. does more than outfit the world’s best athletes. It is a place to explore potential, obliterate boundaries and push out the edges of what can be. The company looks for people who can grow, think, dream and create. Its culture thrives by embracing diversity and rewarding imagination. The brand seeks achievers, leaders and visionaries. At NIKE, Inc. it’s about each person bringing skills and passion to a challenging and constantly evolving game.\"\n",
      "}\n",
      "```\n"
     ]
    }
   ],
   "source": [
    "chain_extract = prompt_extract | llm\n",
    "\n",
    "res = chain_extract.invoke(input = {'page_data': page_data})\n",
    "print(res.content)"
   ]
  },
  {
   "cell_type": "code",
   "execution_count": 6,
   "id": "f513d949-1301-44ff-8128-09b802682922",
   "metadata": {},
   "outputs": [
    {
     "data": {
      "text/plain": [
       "{'role': 'NIKE Inc. Software Engineering Undergraduate Intern',\n",
       " 'experience': 'Previous internship(s) in a digital technology organization, marketing/consumer facing technology organization, operations and logistics team, or enterprise data and analytics team',\n",
       " 'skills': ['Computer programming languages like Java, Python, React, Swift, JavaScript, XCode, C#',\n",
       "  'Experience working in a cloud-based environment (e.g. Amazon EC2, GCE, Rackspace, Azure, etc.)',\n",
       "  'Relational and Non-Relational data base technologies like Oracle, MS-SQL, NoSQL, MongoDB, Cassandra',\n",
       "  'SAP platform and/or Warehouse Management Systems (WMS) like Manhattan'],\n",
       " 'description': 'NIKE, Inc. does more than outfit the world’s best athletes. It is a place to explore potential, obliterate boundaries and push out the edges of what can be. The company looks for people who can grow, think, dream and create. Its culture thrives by embracing diversity and rewarding imagination. The brand seeks achievers, leaders and visionaries. At NIKE, Inc. it’s about each person bringing skills and passion to a challenging and constantly evolving game.'}"
      ]
     },
     "execution_count": 6,
     "metadata": {},
     "output_type": "execute_result"
    }
   ],
   "source": [
    "from langchain_core.output_parsers import JsonOutputParser\n",
    "\n",
    "json_parser = JsonOutputParser()\n",
    "jres = json_parser.parse(res.content)\n",
    "jres"
   ]
  },
  {
   "cell_type": "code",
   "execution_count": 7,
   "id": "6a842f88-10a8-4aa2-8c02-adbb706d06d0",
   "metadata": {},
   "outputs": [
    {
     "data": {
      "text/plain": [
       "dict"
      ]
     },
     "execution_count": 7,
     "metadata": {},
     "output_type": "execute_result"
    }
   ],
   "source": [
    "type(jres)"
   ]
  },
  {
   "cell_type": "code",
   "execution_count": 8,
   "id": "bee2d9d2-dcd9-4cc6-9217-a01f93d73787",
   "metadata": {
    "scrolled": true
   },
   "outputs": [
    {
     "data": {
      "text/html": [
       "<div>\n",
       "<style scoped>\n",
       "    .dataframe tbody tr th:only-of-type {\n",
       "        vertical-align: middle;\n",
       "    }\n",
       "\n",
       "    .dataframe tbody tr th {\n",
       "        vertical-align: top;\n",
       "    }\n",
       "\n",
       "    .dataframe thead th {\n",
       "        text-align: right;\n",
       "    }\n",
       "</style>\n",
       "<table border=\"1\" class=\"dataframe\">\n",
       "  <thead>\n",
       "    <tr style=\"text-align: right;\">\n",
       "      <th></th>\n",
       "      <th>Techstack</th>\n",
       "      <th>Links</th>\n",
       "    </tr>\n",
       "  </thead>\n",
       "  <tbody>\n",
       "    <tr>\n",
       "      <th>0</th>\n",
       "      <td>React, Node.js, MongoDB</td>\n",
       "      <td>https://example.com/react-portfolio</td>\n",
       "    </tr>\n",
       "    <tr>\n",
       "      <th>1</th>\n",
       "      <td>Angular,.NET, SQL Server</td>\n",
       "      <td>https://example.com/angular-portfolio</td>\n",
       "    </tr>\n",
       "    <tr>\n",
       "      <th>2</th>\n",
       "      <td>Vue.js, Ruby on Rails, PostgreSQL</td>\n",
       "      <td>https://example.com/vue-portfolio</td>\n",
       "    </tr>\n",
       "    <tr>\n",
       "      <th>3</th>\n",
       "      <td>Python, Django, MySQL</td>\n",
       "      <td>https://example.com/python-portfolio</td>\n",
       "    </tr>\n",
       "    <tr>\n",
       "      <th>4</th>\n",
       "      <td>Java, Spring Boot, Oracle</td>\n",
       "      <td>https://example.com/java-portfolio</td>\n",
       "    </tr>\n",
       "  </tbody>\n",
       "</table>\n",
       "</div>"
      ],
      "text/plain": [
       "                           Techstack                                  Links\n",
       "0            React, Node.js, MongoDB    https://example.com/react-portfolio\n",
       "1           Angular,.NET, SQL Server  https://example.com/angular-portfolio\n",
       "2  Vue.js, Ruby on Rails, PostgreSQL      https://example.com/vue-portfolio\n",
       "3              Python, Django, MySQL   https://example.com/python-portfolio\n",
       "4          Java, Spring Boot, Oracle     https://example.com/java-portfolio"
      ]
     },
     "execution_count": 8,
     "metadata": {},
     "output_type": "execute_result"
    }
   ],
   "source": [
    "import pandas as pd\n",
    "\n",
    "df = pd.read_csv(\"my_portfolio.csv\")\n",
    "df.head()"
   ]
  },
  {
   "cell_type": "code",
   "execution_count": 9,
   "id": "848c8ddd-2e33-4bdb-b7d2-2b6d99ec66d1",
   "metadata": {},
   "outputs": [],
   "source": [
    "import uuid\n",
    "import chromadb\n",
    "\n",
    "client = chromadb.PersistentClient('vectorstore')\n",
    "collection = client.get_or_create_collection(name=\"portfolio\")\n",
    "\n",
    "if not collection.count():\n",
    "    for _, row in df.iterrows():\n",
    "        collection.add(documents=row[\"Techstack\"],\n",
    "                       metadatas={\"links\": row[\"Links\"]},\n",
    "                       ids=[str(uuid.uuid4())])"
   ]
  },
  {
   "cell_type": "code",
   "execution_count": 10,
   "id": "377c49b2-9c59-46a2-b9de-9504d339ca89",
   "metadata": {},
   "outputs": [
    {
     "data": {
      "text/plain": [
       "[[{'links': 'https://example.com/angular-portfolio'},\n",
       "  {'links': 'https://example.com/ml-python-portfolio'}]]"
      ]
     },
     "execution_count": 10,
     "metadata": {},
     "output_type": "execute_result"
    }
   ],
   "source": [
    "links = collection.query(query_texts= [\"Experience in C#\"],  n_results=2).get('metadatas', [])\n",
    "links"
   ]
  },
  {
   "cell_type": "code",
   "execution_count": 11,
   "id": "1447d7e8-6107-40b4-8f32-21183bebcc2a",
   "metadata": {},
   "outputs": [
    {
     "data": {
      "text/plain": [
       "['Computer programming languages like Java, Python, React, Swift, JavaScript, XCode, C#',\n",
       " 'Experience working in a cloud-based environment (e.g. Amazon EC2, GCE, Rackspace, Azure, etc.)',\n",
       " 'Relational and Non-Relational data base technologies like Oracle, MS-SQL, NoSQL, MongoDB, Cassandra',\n",
       " 'SAP platform and/or Warehouse Management Systems (WMS) like Manhattan']"
      ]
     },
     "execution_count": 11,
     "metadata": {},
     "output_type": "execute_result"
    }
   ],
   "source": [
    "job = jres\n",
    "job[\"skills\"]"
   ]
  },
  {
   "cell_type": "code",
   "execution_count": 12,
   "id": "ce14aead-1ad4-4013-a60c-4de0e9e53408",
   "metadata": {},
   "outputs": [
    {
     "name": "stdout",
     "output_type": "stream",
     "text": [
      "Subject: Empowering NIKE Inc.'s Digital Transformation with Customized Software Solutions\n",
      "\n",
      "Dear Hiring Manager,\n",
      "\n",
      "I came across the job description for the NIKE Inc. Software Engineering Undergraduate Intern role and was impressed by the company's commitment to innovation and excellence. As a Software Development Engineer at [*** Company], I'd like to introduce our team's capabilities in delivering tailored software solutions that can support NIKE Inc.'s digital transformation goals.\n",
      "\n",
      "Our company has a proven track record of empowering enterprises with automated tools, fostering scalability, process optimization, cost reduction, and heightened overall efficiency. We've worked with various clients across industries, leveraging our expertise in AI and software consulting to drive business growth.\n",
      "\n",
      "In particular, our team has extensive experience in developing cloud-based applications, working with relational and non-relational databases, and utilizing programming languages like Java, Python, and JavaScript. We've also worked with SAP platforms and Warehouse Management Systems (WMS) like Manhattan.\n",
      "\n",
      "To showcase our capabilities, I'd like to share some relevant portfolio links:\n",
      "\n",
      "* Our Angular portfolio: https://example.com/angular-portfolio\n",
      "* Our Machine Learning with Python portfolio: https://example.com/ml-python-portfolio\n",
      "\n",
      "These examples demonstrate our expertise in developing scalable, efficient, and innovative software solutions that can support NIKE Inc.'s digital technology initiatives.\n",
      "\n",
      "I believe our team's skills and experience align with the requirements of the NIKE Inc. Software Engineering Undergraduate Intern role. We'd be excited to explore opportunities for collaboration and contribute to the company's success.\n",
      "\n",
      "If you're interested in learning more about our capabilities and how we can support NIKE Inc.'s digital transformation goals, I'd be happy to schedule a call to discuss further.\n",
      "\n",
      "Best regards,\n",
      "\n",
      "Vaibhav Kolla\n",
      "Software Development Engineer\n",
      "[*** Company]\n"
     ]
    }
   ],
   "source": [
    "prompt_email = PromptTemplate.from_template(\n",
    "        \"\"\"\n",
    "        ### JOB DESCRIPTION:\n",
    "        {job_description}\n",
    "        \n",
    "        ### INSTRUCTION:\n",
    "        You are Vaibhav Kolla, a S/W development Engineer at Reputed Company. Your Company is an AI & Software Consulting company dedicated to facilitating\n",
    "        the seamless integration of business processes through automated tools. \n",
    "        Over our experience, we have empowered numerous enterprises with tailored solutions, fostering scalability, \n",
    "        process optimization, cost reduction, and heightened overall efficiency. \n",
    "        Your job is to write a cold email to the client regarding the job mentioned above describing the capability of your company \n",
    "        in fulfilling their needs.\n",
    "        Also add the most relevant ones from the following links to showcase company's portfolio: {link_list}\n",
    "        Remember you are Vaibhav Kolla, SDE at *** Company. \n",
    "        Do not provide a preamble.\n",
    "        ### EMAIL (NO PREAMBLE):\n",
    "        \n",
    "        \"\"\"\n",
    "        )\n",
    "\n",
    "chain_email = prompt_email | llm\n",
    "res = chain_email.invoke({\"job_description\": str(job), \"link_list\": links})\n",
    "print(res.content)"
   ]
  }
 ],
 "metadata": {
  "kernelspec": {
   "display_name": "Python 3 (ipykernel)",
   "language": "python",
   "name": "python3"
  },
  "language_info": {
   "codemirror_mode": {
    "name": "ipython",
    "version": 3
   },
   "file_extension": ".py",
   "mimetype": "text/x-python",
   "name": "python",
   "nbconvert_exporter": "python",
   "pygments_lexer": "ipython3",
   "version": "3.10.10"
  }
 },
 "nbformat": 4,
 "nbformat_minor": 5
}
