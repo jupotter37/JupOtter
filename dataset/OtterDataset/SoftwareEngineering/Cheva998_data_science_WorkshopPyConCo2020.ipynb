{
 "cells": [
  {
   "cell_type": "markdown",
   "metadata": {},
   "source": [
    "# Applying sentiment analysis to your social network"
   ]
  },
  {
   "cell_type": "markdown",
   "metadata": {},
   "source": [
    "## Step 1: Extract Data\n",
    "\n",
    "### Twitter"
   ]
  },
  {
   "cell_type": "code",
   "execution_count": 1,
   "metadata": {},
   "outputs": [
    {
     "ename": "ModuleNotFoundError",
     "evalue": "No module named 'twitterCredentials'",
     "output_type": "error",
     "traceback": [
      "\u001b[1;31m---------------------------------------------------------------------------\u001b[0m",
      "\u001b[1;31mModuleNotFoundError\u001b[0m                       Traceback (most recent call last)",
      "\u001b[1;32m<ipython-input-1-7a043efd11fc>\u001b[0m in \u001b[0;36m<module>\u001b[1;34m\u001b[0m\n\u001b[0;32m      3\u001b[0m \u001b[1;32mimport\u001b[0m \u001b[0mxlsxwriter\u001b[0m\u001b[1;33m\u001b[0m\u001b[1;33m\u001b[0m\u001b[0m\n\u001b[0;32m      4\u001b[0m \u001b[1;33m\u001b[0m\u001b[0m\n\u001b[1;32m----> 5\u001b[1;33m \u001b[1;32mimport\u001b[0m \u001b[0mtwitterCredentials\u001b[0m\u001b[1;33m\u001b[0m\u001b[1;33m\u001b[0m\u001b[0m\n\u001b[0m",
      "\u001b[1;31mModuleNotFoundError\u001b[0m: No module named 'twitterCredentials'"
     ]
    }
   ],
   "source": [
    "import tweepy\n",
    "from tweepy import OAuthHandler\n",
    "\n",
    "\n",
    "import twitterCredentials"
   ]
  },
  {
   "cell_type": "code",
   "execution_count": null,
   "metadata": {},
   "outputs": [],
   "source": [
    "api_key = twitterCredentials.api_key\n",
    "api_secret = twitterCredentials.api_secret\n",
    "access_token = twitterCredentials.access_token\n",
    "access_secret = twitterCredentials.access_secret\n",
    "\n",
    "auth = OAuthHandler(api_key, api_secret)\n",
    "auth.set_access_token(access_token, access_secret)\n",
    "api = tweepy.API(auth, wait_on_rate_limit=True)"
   ]
  },
  {
   "cell_type": "code",
   "execution_count": null,
   "metadata": {},
   "outputs": [],
   "source": [
    "book = xlsxwriter.Workbook('Test1.xlsx')\n",
    "sheet = book.add_worksheet('Data')\n",
    "row = 0\n",
    "col = 0\n",
    " \n",
    "header = [\"Date\", \"Day\", \"Tweet\", \"Retweets\", \"Likes\"]\n",
    "for title in header:\n",
    "    sheet.write(row, col, title)\n",
    "    col += 1\n",
    "row = 1"
   ]
  },
  {
   "cell_type": "code",
   "execution_count": null,
   "metadata": {},
   "outputs": [],
   "source": [
    "name = \"cnnespan\"\n",
    "\n",
    "timeline = api.user_timeline(id=name, count=500 )\n",
    "\n",
    "for tweet in timeline:\n",
    "    print(tweet.text)\n",
    "    data = [tweet.created_at.date().strftime(\"%b %d %Y \"), tweet.created_at.date().strftime(\"%b %d\"), tweet.text, tweet.retweet_count, tweet.favorite_count]\n",
    "    col = 0\n",
    "    \n",
    "    for text in data:\n",
    "        sheet.write(row, col, text)\n",
    "        col += 1\n",
    "    row += 1\n",
    "    \n",
    "book.close()"
   ]
  },
  {
   "cell_type": "markdown",
   "metadata": {},
   "source": [
    "### Facebook"
   ]
  },
  {
   "cell_type": "code",
   "execution_count": 5,
   "metadata": {},
   "outputs": [],
   "source": [
    "import xlsxwriter\n",
    "from facebook_scraper import get_posts\n",
    "from textblob import TextBlob"
   ]
  },
  {
   "cell_type": "code",
   "execution_count": 16,
   "metadata": {},
   "outputs": [],
   "source": [
    "book = xlsxwriter.Workbook('test2.xlsx')\n",
    "sheet = book.add_worksheet('libro')\n",
    "row = 0\n",
    "col = 0\n",
    " \n",
    "sheet.write(row, col, \"Post\")\n",
    "row = 1"
   ]
  },
  {
   "cell_type": "code",
   "execution_count": 17,
   "metadata": {},
   "outputs": [
    {
     "name": "stdout",
     "output_type": "stream",
     "text": [
      "Seguimos con la lectura de «El relojero de la puerta del sol». En los capítulos 25 al 49, estas son las preguntas que nos han surgido. Os recordamos, como siempre, que podéis comentar libremente pero intentar… More no desvelar nada importante del libro ni hacer spoiler.\n",
      "📙 ¿Qué os ha parecido lo que hemos leído hasta ahora?\n",
      "📙 ¿Cómo creéis que un hombre tan humilde llegó a ser el mejor relojero de Inglaterra?\n",
      "📙 ¿Quién creéis que persigue a Losada? ¿Le ayudará Prim a descubrir su identidad?\n",
      "#clubdelectura #clublectura #clubdelecturaqll #ElRelojerodelaPuertadelSol #lecturasocial #lecturaconjunta #Siruela #coleccionarlibros #quelibroleo #leer #libro #libros Ediciones Siruela\n",
      "Genoveva comparte con nosotros esta información.\n",
      "Capítulo 11.- Jaén\n",
      "“Aquel anochecer, José, ascendido a teniente en febrero, cenaba una refrescante pipirrana:”\n",
      "«EL RELOJERO DE LA PUERTA DEL SOL»\n",
      "La pipirrana… More es una ensalada cuyos ingredientes básicos son cebolla, tomate, pimiento verde y pepino (en zonas del sur de Andalucía se da también su preparación sin pepino). A veces se le añade huevo cocido, algún tipo de pescado, de carne prieta o incluso embutidos.\n",
      "Se consume en las provincias españolas de Málaga, Granada, Jaén, Almería, Murcia, Extremadura y en Ciudad Real. Es el acompañamiento usado en la ciudad de Cádiz para los pescados asados, especialmente la caballa, existiendo en cada… More\n",
      "YOUTUBE.COM\n",
      "HOY COCINAMOS PIPIRRANA DE JAÉN\n",
      "Arely comparte con nosotros una nueva publicación:\n",
      "YOUTUBE.COM\n",
      "Solución para acabar con las balsas de alpechín contaminantes - Ancha es CLM -CMM\n",
      "Arely Bueso‎Club de Lectura Quelibroleo.com\n",
      "February 2 at 3:12 AM ·\n",
      "Capítulo 11\n",
      "“Anochecía sobre la blanca ciudad olivarera. De las almazaras situadas extramuros llegaba un fuerte olor a alpechín y orujo.” El relojero de la Puerta del Sol de Emilio Lara.\n",
      "Bien, el término… More alpechín, no es utilizado por este lado del mundo. Aquí la definición.\n",
      "Alpechín:\n",
      "Líquido fétido que sale de las aceitunas apiladas antes de la molienda y cuando, al extraer el aceite, se las exprime con el auxilio del agua hirviendo.\n",
      "Ese líquido se va acumulando creando verdadera descomposición y hoy en día en lugares de España que cuentan con muchos de estos deshechos se les está dando un nuevo uso reciclable, siendo pioneros en la resolución de este problema, llevando dichas soluciones a otros países.\n",
      "Aquí un interesante video del proceso.\n",
      "\n",
      "Arely Bueso‎Club de Lectura Quelibroleo.com\n",
      "February 2 at 3:12 AM ·\n",
      "Capítulo 11\n",
      "“Anochecía sobre la blanca ciudad olivarera. De las almazaras situadas extramuros llegaba un fuerte olor a alpechín y orujo.” El relojero de la Puerta del Sol de Emilio Lara.\n",
      "Bien, el término… More alpechín, no es utilizado por este lado del mundo. Aquí la definición.\n",
      "Alpechín:\n",
      "Líquido fétido que sale de las aceitunas apiladas antes de la molienda y cuando, al extraer el aceite, se las exprime con el auxilio del agua hirviendo.\n",
      "Ese líquido se va acumulando creando verdadera descomposición y hoy en día en lugares de España que cuentan con muchos de estos deshechos se les está dando un nuevo uso reciclable, siendo pioneros en la resolución de este problema, llevando dichas soluciones a otros países.\n",
      "Aquí un interesante video del proceso.\n",
      "\n",
      "Capítulo 13\n",
      "\"De las ramas más bajas colgaban los cuerpos resecos de podencos y galgos\".\n",
      "El drama de los galgos sigue vigente en el siglo XXI.\n",
      "https://www.huffingtonpost.es/entry/galgos-abandonados_es_5d309629e4b020cd99403b05\n",
      "HUFFINGTONPOST.ES\n",
      "Del abandono al capricho: el doble drama de ser galgo (y rescatador)\n",
      "Capítulo 11\n",
      "\"La primavera pasada, en la catedral de Burgos, vi el Papamoscas haciendo sonar la campana al señalar la hora\".\n",
      "¿Qué sabéis del famoso Papamoscas?\n",
      "https://www.youtube.com/watch?v=9Nlx_WWdRWg\n",
      "YOUTUBE.COM\n",
      "El Papamoscas de la catedral de Burgos. Su historia e historietas.\n",
      "Capítulo 10\n",
      "\"En Knightsbridge, en una pared cubierta de carteles publicitarios pegados con engrudo, vio varios pasquines que ridiculizaban a Charles Darwin\".\n",
      "El eterno debate entre ciencia y religión...\n",
      "https://www.quo.es/ciencia/g53817/charles-darwin/\n",
      "QUO.ES\n",
      "Reirse de Darwin\n",
      "Capítulo 9\n",
      "“No hay nada que hacer. El rey es un tarugo y este un pueblo analfabeto que prefiere lo malo conocido a lo bueno por conocer. Los gremios asfixian la industria y los curas de aquí predican la pobreza.\"\n",
      "¿Cuánto pensáis que ha cambiado España desde 1820?\n",
      "VOTACIONES LECTURA CONJUNTA MARZO 2020\n",
      "El próximo mes, y como homenaje a las mujeres, hemos pensado en una #novela escrita por una mujer. Estas son nuestras propuestas:\n",
      "📙 «El taller de muñecas» de Elizabeth… More MacNeal https://cutt.ly/ErRQCQF\n",
      "📙 «La cara norte del corazón» de Dolores Redondo https://cutt.ly/4rRQNIS\n",
      "📙 «Las furias» de Katie Lowe https://cutt.ly/srRQ1Po\n",
      "📙 «FEROX. Serás leyenda» de Olivia Sterling https://cutt.ly/LrRQ2Om\n",
      "Vota por el que más, o los que más, te gusten en el siguiente formulario 👉🏻\n",
      "https://forms.gle/DDnewwsnoR7CYHiB7\n",
      "#clubdelectura #clublectura #clublecturaqll #quelibroleo #lecturaconjunta #lecturasocial\n",
      "Capítulo 9\n",
      "“Le explicó que había visto chimeneas echando humo en minas de carbón donde las máquinas bombeaban el agua filtrada en las galerías subterráneas, telares mecánicos que hacían el trabajo de diez… More personas y fabricaban ropa para vestir a naciones enteras, máquinas sembradoras que convertirían eriales en campos feraces.”\n",
      "¿Investigamos sobre la revolución industrial inglesa?\n",
      "https://britaniaforyou.com/revolucion-industrial-inglaterra/\n",
      "BRITANIAFORYOU.COM\n",
      "La revolución industrial en Inglaterra | Britania for you\n",
      "Capítulo 9\n",
      "\"Las armas de fuego se atascaban, estaban mal calibradas y eran tan antiguas que corría un chascarrillo: «son de cuando Napoléon era cabo».\n",
      "¿Conocíais este refrán madrileño?\n",
      "https://wakeuptours.com/2018/09/22/conoce-los-refranes-madrilenos/\n",
      "WAKEUPTOURS.COM\n",
      "REFRANES MADRILEÑOS - Wake Up Free Tours | Sabiduría Popular\n",
      "Capítulo 8\n",
      "¿Jugamos? ¿Cuánto sabéis sobre Napoleón Bonaparte?\n",
      "https://historia.nationalgeographic.com.es/a/cuanto-sabes-sobre-napoleon-bonaparte_10342/2\n",
      "HISTORIA.NATIONALGEOGRAPHIC.COM.ES\n",
      "¿Cuánto sabes sobre Napoleón Bonaparte?\n",
      "Capítulo 8\n",
      "\"Incluso una vez las vio un hombre mayor, sordo, con pinta de agricultor vestido de domingo, que según decían, se llamaba Goya era el pintor del rey\".\n",
      "¿Descubrimos algunas curiosidades sobre uno de los pintores más famosos de España?\n",
      "https://www.pintoressolidarios.org/7-curiosidades-sobre-francisco-de-goya/\n",
      "PINTORESSOLIDARIOS.ORG\n",
      "7 curiosidades sobre Francisco de Goya – Pintores Solidarios\n",
      "Capítulo 8\n",
      "\"Sin embargo, los integrantes del repuesto Santo Oficio, henchidos de dogmatismo teológico, arguyeron que aquel tiempo enloquecido era consecuencia de los graves pecados cometidos\".\n",
      "¡La Inquisición… More española fue abolida hasta 4 veces!\n",
      "https://confilegal.com/20160227-por-que-la-inquisicion-espanola-llego-ser-abolida-hasta-cuatro-veces/\n",
      "CONFILEGAL.COM\n",
      "¿Por qué la Inquisición llegó a ser abolida hasta 4 veces?\n",
      "Capítulo 8\n",
      "\"Fue un año sin verano. Ni siquiera vinieron las golondrinas\".\n",
      "¿Sabéis por qué no hubo verano en 1816?\n",
      "https://www.abc.es/sociedad/abci-1816-sin-verano-201803181651_noticia.html\n",
      "ABC.ES\n",
      "Así fue 1816, «el año sin verano»\n"
     ]
    }
   ],
   "source": [
    "fb_pages = ['ClubLecturaQuelibroleo', 'elasticsearch']\n",
    "for post in get_posts(fb_pages[0], pages=4):\n",
    "    b = TextBlob(post['text'])\n",
    "    \n",
    "    if b.detect_language() == 'es':\n",
    "        print(post['text'])\n",
    "        sheet.write(row, 0, post['text'])\n",
    "        row += 1\n",
    "    \n",
    "book.close()"
   ]
  },
  {
   "cell_type": "markdown",
   "metadata": {},
   "source": [
    "## Step 2: Load Data"
   ]
  },
  {
   "cell_type": "code",
   "execution_count": 18,
   "metadata": {},
   "outputs": [],
   "source": [
    "import pandas as pd\n",
    "\n",
    "import nltk\n",
    "from nltk.probability import FreqDist\n",
    "from nltk.tokenize import word_tokenize\n",
    "\n",
    "%matplotlib inline"
   ]
  },
  {
   "cell_type": "code",
   "execution_count": 19,
   "metadata": {},
   "outputs": [
    {
     "data": {
      "text/html": [
       "<div>\n",
       "<style scoped>\n",
       "    .dataframe tbody tr th:only-of-type {\n",
       "        vertical-align: middle;\n",
       "    }\n",
       "\n",
       "    .dataframe tbody tr th {\n",
       "        vertical-align: top;\n",
       "    }\n",
       "\n",
       "    .dataframe thead th {\n",
       "        text-align: right;\n",
       "    }\n",
       "</style>\n",
       "<table border=\"1\" class=\"dataframe\">\n",
       "  <thead>\n",
       "    <tr style=\"text-align: right;\">\n",
       "      <th></th>\n",
       "      <th>Post</th>\n",
       "    </tr>\n",
       "  </thead>\n",
       "  <tbody>\n",
       "    <tr>\n",
       "      <td>0</td>\n",
       "      <td>Seguimos con la lectura de «El relojero de la ...</td>\n",
       "    </tr>\n",
       "    <tr>\n",
       "      <td>1</td>\n",
       "      <td>Genoveva comparte con nosotros esta informació...</td>\n",
       "    </tr>\n",
       "    <tr>\n",
       "      <td>2</td>\n",
       "      <td>Arely comparte con nosotros una nueva publicac...</td>\n",
       "    </tr>\n",
       "    <tr>\n",
       "      <td>3</td>\n",
       "      <td>Arely Bueso‎Club de Lectura Quelibroleo.com\\nF...</td>\n",
       "    </tr>\n",
       "    <tr>\n",
       "      <td>4</td>\n",
       "      <td>Capítulo 13\\n\"De las ramas más bajas colgaban ...</td>\n",
       "    </tr>\n",
       "  </tbody>\n",
       "</table>\n",
       "</div>"
      ],
      "text/plain": [
       "                                                Post\n",
       "0  Seguimos con la lectura de «El relojero de la ...\n",
       "1  Genoveva comparte con nosotros esta informació...\n",
       "2  Arely comparte con nosotros una nueva publicac...\n",
       "3  Arely Bueso‎Club de Lectura Quelibroleo.com\\nF...\n",
       "4  Capítulo 13\\n\"De las ramas más bajas colgaban ..."
      ]
     },
     "execution_count": 19,
     "metadata": {},
     "output_type": "execute_result"
    }
   ],
   "source": [
    "datos_excel = pd.read_excel(open('test2.xlsx','rb'))\n",
    "datos_excel = pd.DataFrame(datos_excel)\n",
    "datos_excel.head()"
   ]
  },
  {
   "cell_type": "code",
   "execution_count": 21,
   "metadata": {},
   "outputs": [
    {
     "data": {
      "image/png": "[encoded data removed]",
      "text/plain": [
       "<Figure size 432x288 with 1 Axes>"
      ]
     },
     "metadata": {
      "needs_background": "light"
     },
     "output_type": "display_data"
    },
    {
     "data": {
      "text/plain": [
       "<matplotlib.axes._subplots.AxesSubplot at 0x2194d8a86a0>"
      ]
     },
     "execution_count": 21,
     "metadata": {},
     "output_type": "execute_result"
    }
   ],
   "source": [
    "Post = \"\"\n",
    "for data in datos_excel['Post']:\n",
    "    Post += data\n",
    "    \n",
    "freq = FreqDist(word_tokenize(Post))\n",
    "freq.plot(20)"
   ]
  },
  {
   "cell_type": "markdown",
   "metadata": {},
   "source": [
    "## Step 3: Clean Data"
   ]
  },
  {
   "cell_type": "code",
   "execution_count": 23,
   "metadata": {},
   "outputs": [],
   "source": [
    "import emoji\n",
    "import re\n",
    "\n",
    "from nltk.corpus import stopwords\n",
    "import string"
   ]
  },
  {
   "cell_type": "code",
   "execution_count": null,
   "metadata": {},
   "outputs": [],
   "source": [
    "stopwordList = stopwords.words(\"Spanish\")\n",
    "stopwordList"
   ]
  },
  {
   "cell_type": "code",
   "execution_count": 25,
   "metadata": {},
   "outputs": [
    {
     "data": {
      "text/plain": [
       "['!',\n",
       " '\"',\n",
       " '#',\n",
       " '$',\n",
       " '%',\n",
       " '&',\n",
       " \"'\",\n",
       " '(',\n",
       " ')',\n",
       " '*',\n",
       " '+',\n",
       " ',',\n",
       " '-',\n",
       " '.',\n",
       " '/',\n",
       " ':',\n",
       " ';',\n",
       " '<',\n",
       " '=',\n",
       " '>',\n",
       " '?',\n",
       " '@',\n",
       " '[',\n",
       " '\\\\',\n",
       " ']',\n",
       " '^',\n",
       " '_',\n",
       " '`',\n",
       " '{',\n",
       " '|',\n",
       " '}',\n",
       " '~']"
      ]
     },
     "execution_count": 25,
     "metadata": {},
     "output_type": "execute_result"
    }
   ],
   "source": [
    "punctuationList = list(string.punctuation)\n",
    "punctuationList"
   ]
  },
  {
   "cell_type": "code",
   "execution_count": 51,
   "metadata": {},
   "outputs": [],
   "source": [
    "stopwordsList = stopwordList + punctuationList + ['“','”','¡','¿', \"''\",'``','...','→','⬥', '«', '»']\n",
    "#stopwordsList"
   ]
  },
  {
   "cell_type": "code",
   "execution_count": 52,
   "metadata": {},
   "outputs": [],
   "source": [
    "Post = Post.lower()\n",
    "# Post"
   ]
  },
  {
   "cell_type": "code",
   "execution_count": 44,
   "metadata": {},
   "outputs": [],
   "source": [
    "def clean_tweets_emoji(text):\n",
    "    allchars = [stri for stri in text]\n",
    "    emoji_list = [c for c in allchars if c in emoji.UNICODE_EMOJI]\n",
    "    clean_text = ' '.join([str for str in text.split() if not any(i in str for i in emoji_list)])\n",
    "    \n",
    "    return clean_text"
   ]
  },
  {
   "cell_type": "code",
   "execution_count": 58,
   "metadata": {},
   "outputs": [
    {
     "data": {
      "text/plain": [
       "'seguimos con la lectura de «el relojero de la puerta del sol». en los capítulos 25 al 49, estas son las preguntas que nos han surgido. os recordamos, como siempre, que podéis comentar libremente pero intentar… more no desvelar nada importante del libro ni hacer spoiler. ¿qué os ha parecido lo que hemos leído hasta ahora? ¿cómo creéis que un hombre tan humilde llegó a ser el mejor relojero de inglaterra? ¿quién creéis que persigue a losada? ¿le ayudará prim a descubrir su identidad? #clubdelectura #clublectura #clubdelecturaqll #elrelojerodelapuertadelsol #lecturasocial #lecturaconjunta #siruela #coleccionarlibros #quelibroleo #leer #libro #libros ediciones siruelagenoveva comparte con nosotros esta información. capítulo 11.- jaén “aquel anochecer, josé, ascendido a teniente en febrero, cenaba una refrescante pipirrana:” «el relojero de la puerta del sol» la pipirrana… more es una ensalada cuyos ingredientes básicos son cebolla, tomate, pimiento verde y pepino (en zonas del sur de andalucía se da también su preparación sin pepino). a veces se le añade huevo cocido, algún tipo de pescado, de carne prieta o incluso embutidos. se consume en las provincias españolas de málaga, granada, jaén, almería, murcia, extremadura y en ciudad real. es el acompañamiento usado en la ciudad de cádiz para los pescados asados, especialmente la caballa, existiendo en cada… more youtube.com hoy cocinamos pipirrana de jaénarely comparte con nosotros una nueva publicación: youtube.com solución para acabar con las balsas de alpechín contaminantes - ancha es clm -cmm arely bueso\\u200eclub de lectura quelibroleo.com february 2 at 3:12 am · capítulo 11 “anochecía sobre la blanca ciudad olivarera. de las almazaras situadas extramuros llegaba un fuerte olor a alpechín y orujo.” el relojero de la puerta del sol de emilio lara. bien, el término… more alpechín, no es utilizado por este lado del mundo. aquí la definición. alpechín: líquido fétido que sale de las aceitunas apiladas antes de la molienda y cuando, al extraer el aceite, se las exprime con el auxilio del agua hirviendo. ese líquido se va acumulando creando verdadera descomposición y hoy en día en lugares de españa que cuentan con muchos de estos deshechos se les está dando un nuevo uso reciclable, siendo pioneros en la resolución de este problema, llevando dichas soluciones a otros países. aquí un interesante video del proceso. arely bueso\\u200eclub de lectura quelibroleo.com february 2 at 3:12 am · capítulo 11 “anochecía sobre la blanca ciudad olivarera. de las almazaras situadas extramuros llegaba un fuerte olor a alpechín y orujo.” el relojero de la puerta del sol de emilio lara. bien, el término… more alpechín, no es utilizado por este lado del mundo. aquí la definición. alpechín: líquido fétido que sale de las aceitunas apiladas antes de la molienda y cuando, al extraer el aceite, se las exprime con el auxilio del agua hirviendo. ese líquido se va acumulando creando verdadera descomposición y hoy en día en lugares de españa que cuentan con muchos de estos deshechos se les está dando un nuevo uso reciclable, siendo pioneros en la resolución de este problema, llevando dichas soluciones a otros países. aquí un interesante video del proceso. capítulo 13 \"de las ramas más bajas colgaban los cuerpos resecos de podencos y galgos\". el drama de los galgos sigue vigente en el siglo xxi. https://www.huffingtonpost.es/entry/galgos-abandonados_es_5d309629e4b020cd99403b05 huffingtonpost.es del abandono al capricho: el doble drama de ser galgo (y rescatador)capítulo 11 \"la primavera pasada, en la catedral de burgos, vi el papamoscas haciendo sonar la campana al señalar la hora\". ¿qué sabéis del famoso papamoscas? https://www.youtube.com/watch?v=9nlx_wwdrwg youtube.com el papamoscas de la catedral de burgos. su historia e historietas.capítulo 10 \"en knightsbridge, en una pared cubierta de carteles publicitarios pegados con engrudo, vio varios pasquines que ridiculizaban a charles darwin\". el eterno debate entre ciencia y religión... https://www.quo.es/ciencia/g53817/charles-darwin/ quo.es reirse de darwincapítulo 9 “no hay nada que hacer. el rey es un tarugo y este un pueblo analfabeto que prefiere lo malo conocido a lo bueno por conocer. los gremios asfixian la industria y los curas de aquí predican la pobreza.\" ¿cuánto pensáis que ha cambiado españa desde 1820?votaciones lectura conjunta marzo 2020 el próximo mes, y como homenaje a las mujeres, hemos pensado en una #novela escrita por una mujer. estas son nuestras propuestas: «el taller de muñecas» de elizabeth… more macneal https://cutt.ly/errqcqf «la cara norte del corazón» de dolores redondo https://cutt.ly/4rrqnis «las furias» de katie lowe https://cutt.ly/srrq1po «ferox. serás leyenda» de olivia sterling https://cutt.ly/lrrq2om vota por el que más, o los que más, te gusten en el siguiente formulario https://forms.gle/ddnewwsnor7cyhib7 #clubdelectura #clublectura #clublecturaqll #quelibroleo #lecturaconjunta #lecturasocialcapítulo 9 “le explicó que había visto chimeneas echando humo en minas de carbón donde las máquinas bombeaban el agua filtrada en las galerías subterráneas, telares mecánicos que hacían el trabajo de diez… more personas y fabricaban ropa para vestir a naciones enteras, máquinas sembradoras que convertirían eriales en campos feraces.” ¿investigamos sobre la revolución industrial inglesa? https://britaniaforyou.com/revolucion-industrial-inglaterra/ britaniaforyou.com la revolución industrial en inglaterra | britania for youcapítulo 9 \"las armas de fuego se atascaban, estaban mal calibradas y eran tan antiguas que corría un chascarrillo: «son de cuando napoléon era cabo». ¿conocíais este refrán madrileño? https://wakeuptours.com/2018/09/22/conoce-los-refranes-madrilenos/ wakeuptours.com refranes madrileños - wake up free tours | sabiduría popularcapítulo 8 ¿jugamos? ¿cuánto sabéis sobre napoleón bonaparte? https://historia.nationalgeographic.com.es/a/cuanto-sabes-sobre-napoleon-bonaparte_10342/2 historia.nationalgeographic.com.es ¿cuánto sabes sobre napoleón bonaparte?capítulo 8 \"incluso una vez las vio un hombre mayor, sordo, con pinta de agricultor vestido de domingo, que según decían, se llamaba goya era el pintor del rey\". ¿descubrimos algunas curiosidades sobre uno de los pintores más famosos de españa? https://www.pintoressolidarios.org/7-curiosidades-sobre-francisco-de-goya/ pintoressolidarios.org 7 curiosidades sobre francisco de goya – pintores solidarioscapítulo 8 \"sin embargo, los integrantes del repuesto santo oficio, henchidos de dogmatismo teológico, arguyeron que aquel tiempo enloquecido era consecuencia de los graves pecados cometidos\". ¡la inquisición… more española fue abolida hasta 4 veces! https://confilegal.com/20160227-por-que-la-inquisicion-espanola-llego-ser-abolida-hasta-cuatro-veces/ confilegal.com ¿por qué la inquisición llegó a ser abolida hasta 4 veces?capítulo 8 \"fue un año sin verano. ni siquiera vinieron las golondrinas\". ¿sabéis por qué no hubo verano en 1816? https://www.abc.es/sociedad/abci-1816-sin-verano-201803181651_noticia.html abc.es así fue 1816, «el año sin verano»'"
      ]
     },
     "execution_count": 58,
     "metadata": {},
     "output_type": "execute_result"
    }
   ],
   "source": [
    "tweets_clean_emoji = clean_tweets_emoji(Post)\n",
    "tweets_clean_emoji"
   ]
  },
  {
   "cell_type": "code",
   "execution_count": 59,
   "metadata": {},
   "outputs": [],
   "source": [
    "def clean_tweets_regex(text):\n",
    "    tweet = re.sub(r'@[a-zA-Z0-9-_.]+', '', text)\n",
    "    tweet = re.sub(r'#[a-zA-Z0-9-_.]+', '', tweet)\n",
    "    tweet = re.sub(r'https://[a-zA-Z0-9-_./]+', '', tweet)\n",
    "    tweet = re.sub(r'www.[a-zA-Z0-9-_./]+', '', tweet)\n",
    "    tweet = re.sub(r'[a-zA-Z0-9-./]+[…]', '', tweet)\n",
    "    tweet = re.sub(r'[ ]+[…]', '', tweet)\n",
    "    tweet = re.sub('\\n|\\r', '', tweet)\n",
    "    tweet = re.sub(r'[á|ä|â|à]', 'a', tweet)\n",
    "    tweet = re.sub(r'[é|ê|è]', 'e', tweet)\n",
    "    tweet = re.sub(r'[í|î|ì]', 'i', tweet)\n",
    "    tweet = re.sub(r'[ó|ô|ò]', 'o', tweet)\n",
    "    tweet = re.sub(r'[ú|û|ù|ü]', 'u', tweet)\n",
    "    tweet = re.sub(r'RT ', '', tweet)\n",
    "    tweet = re.sub(r'[^\\s\\w]', '', tweet)\n",
    "    return tweet"
   ]
  },
  {
   "cell_type": "code",
   "execution_count": 60,
   "metadata": {},
   "outputs": [
    {
     "data": {
      "text/plain": [
       "'seguimos con la lectura de el relojero de la puerta del sol en los capitulos 25 al 49 estas son las preguntas que nos han surgido os recordamos como siempre que podeis comentar libremente pero  more no desvelar nada importante del libro ni hacer spoiler que os ha parecido lo que hemos leido hasta ahora como creeis que un hombre tan humilde llego a ser el mejor relojero de inglaterra quien creeis que persigue a losada le ayudara prim a descubrir su identidad             ediciones siruelagenoveva comparte con nosotros esta informacion capitulo 11 jaen aquel anochecer jose ascendido a teniente en febrero cenaba una refrescante pipirrana el relojero de la puerta del sol la  more es una ensalada cuyos ingredientes basicos son cebolla tomate pimiento verde y pepino en zonas del sur de andalucia se da tambien su preparacion sin pepino a veces se le añade huevo cocido algun tipo de pescado de carne prieta o incluso embutidos se consume en las provincias españolas de malaga granada jaen almeria murcia extremadura y en ciudad real es el acompañamiento usado en la ciudad de cadiz para los pescados asados especialmente la caballa existiendo en  more youtubecom hoy cocinamos pipirrana de jaenarely comparte con nosotros una nueva publicacion youtubecom solucion para acabar con las balsas de alpechin contaminantes  ancha es clm cmm arely buesoclub de lectura quelibroleocom february 2 at 312 am  capitulo 11 anochecia sobre la blanca ciudad olivarera de las almazaras situadas extramuros llegaba un fuerte olor a alpechin y orujo el relojero de la puerta del sol de emilio lara bien el te more alpechin no es utilizado por este lado del mundo aqui la definicion alpechin liquido fetido que sale de las aceitunas apiladas antes de la molienda y cuando al extraer el aceite se las exprime con el auxilio del agua hirviendo ese liquido se va acumulando creando verdadera descomposicion y hoy en dia en lugares de españa que cuentan con muchos de estos deshechos se les esta dando un nuevo uso reciclable siendo pioneros en la resolucion de este problema llevando dichas soluciones a otros paises aqui un interesante video del proceso arely buesoclub de lectura quelibroleocom february 2 at 312 am  capitulo 11 anochecia sobre la blanca ciudad olivarera de las almazaras situadas extramuros llegaba un fuerte olor a alpechin y orujo el relojero de la puerta del sol de emilio lara bien el te more alpechin no es utilizado por este lado del mundo aqui la definicion alpechin liquido fetido que sale de las aceitunas apiladas antes de la molienda y cuando al extraer el aceite se las exprime con el auxilio del agua hirviendo ese liquido se va acumulando creando verdadera descomposicion y hoy en dia en lugares de españa que cuentan con muchos de estos deshechos se les esta dando un nuevo uso reciclable siendo pioneros en la resolucion de este problema llevando dichas soluciones a otros paises aqui un interesante video del proceso capitulo 13 de las ramas mas bajas colgaban los cuerpos resecos de podencos y galgos el drama de los galgos sigue vigente en el siglo xxi  huffingtonpostes del abandono al capricho el doble drama de ser galgo y rescatadorcapitulo 11 la primavera pasada en la catedral de burgos vi el papamoscas haciendo sonar la campana al señalar la hora que sabeis del famoso papamoscas v9nlx_wwdrwg youtubecom el papamoscas de la catedral de burgos su historia e historietascapitulo 10 en knightsbridge en una pared cubierta de carteles publicitarios pegados con engrudo vio varios pasquines que ridiculizaban a charles darwin el eterno debate entre ciencia y religion  quoes reirse de darwincapitulo 9 no hay nada que hacer el rey es un tarugo y este un pueblo analfabeto que prefiere lo malo conocido a lo bueno por conocer los gremios asfixian la industria y los curas de aqui predican la pobreza cuanto pensais que ha cambiado españa desde 1820votaciones lectura conjunta marzo 2020 el proximo mes y como homenaje a las mujeres hemos pensado en una  escrita por una mujer estas son nuestras propuestas el taller de muñecas de  more macneal  la cara norte del corazon de dolores redondo  las furias de katie lowe  ferox seras leyenda de olivia sterling  vota por el que mas o los que mas te gusten en el siguiente formulario       itulo 9 le explico que habia visto chimeneas echando humo en minas de carbon donde las maquinas bombeaban el agua filtrada en las galerias subterraneas telares mecanicos que hacian el trabajo de  more personas y fabricaban ropa para vestir a naciones enteras maquinas sembradoras que convertirian eriales en campos feraces investigamos sobre la revolucion industrial inglesa  britaniaforyoucom la revolucion industrial en inglaterra a britania for youcapitulo 9 las armas de fuego se atascaban estaban mal calibradas y eran tan antiguas que corria un chascarrillo son de cuando napoleon era cabo conociais este refran madrileño  wakeuptourscom refranes madrileños  wake up free tours a sabiduria popularcapitulo 8 jugamos cuanto sabeis sobre napoleon bonaparte  historianationalgeographiccomes cuanto sabes sobre napoleon bonapartecapitulo 8 incluso una vez las vio un hombre mayor sordo con pinta de agricultor vestido de domingo que segun decian se llamaba goya era el pintor del rey descubrimos algunas curiosidades sobre uno de los pintores mas famosos de españa  pintoressolidariosorg 7 curiosidades sobre francisco de goya  pintores solidarioscapitulo 8 sin embargo los integrantes del repuesto santo oficio henchidos de dogmatismo teologico arguyeron que aquel tiempo enloquecido era consecuencia de los graves pecados cometidos la inquisicio more española fue abolida hasta 4 veces  confilegalcom por que la inquisicion llego a ser abolida hasta 4 vecescapitulo 8 fue un año sin verano ni siquiera vinieron las golondrinas sabeis por que no hubo verano en 1816  abces asi fue 1816 el año sin verano'"
      ]
     },
     "execution_count": 60,
     "metadata": {},
     "output_type": "execute_result"
    }
   ],
   "source": [
    "tweets_clean = clean_tweets_regex(tweets_clean_emoji)\n",
    "tweets_clean"
   ]
  },
  {
   "cell_type": "code",
   "execution_count": null,
   "metadata": {},
   "outputs": [],
   "source": [
    "filtro = [palabra for palabra in word_tokenize(tweets_clean) if palabra not in stopwordsList]\n",
    "filtro"
   ]
  },
  {
   "cell_type": "code",
   "execution_count": 62,
   "metadata": {},
   "outputs": [
    {
     "data": {
      "image/png": "[encoded data removed]",
      "text/plain": [
       "<Figure size 432x288 with 1 Axes>"
      ]
     },
     "metadata": {
      "needs_background": "light"
     },
     "output_type": "display_data"
    },
    {
     "data": {
      "text/plain": [
       "<matplotlib.axes._subplots.AxesSubplot at 0x2194fabcd68>"
      ]
     },
     "execution_count": 62,
     "metadata": {},
     "output_type": "execute_result"
    }
   ],
   "source": [
    "freq = FreqDist(filtro)\n",
    "freq.plot(20)"
   ]
  },
  {
   "cell_type": "markdown",
   "metadata": {},
   "source": [
    "## Step 4: Process Data\n",
    "\n",
    "### Tweets en Español"
   ]
  },
  {
   "cell_type": "code",
   "execution_count": 50,
   "metadata": {},
   "outputs": [],
   "source": [
    "from nltk.classify import NaiveBayesClassifier"
   ]
  },
  {
   "cell_type": "code",
   "execution_count": 63,
   "metadata": {},
   "outputs": [
    {
     "data": {
      "text/html": [
       "<div>\n",
       "<style scoped>\n",
       "    .dataframe tbody tr th:only-of-type {\n",
       "        vertical-align: middle;\n",
       "    }\n",
       "\n",
       "    .dataframe tbody tr th {\n",
       "        vertical-align: top;\n",
       "    }\n",
       "\n",
       "    .dataframe thead th {\n",
       "        text-align: right;\n",
       "    }\n",
       "</style>\n",
       "<table border=\"1\" class=\"dataframe\">\n",
       "  <thead>\n",
       "    <tr style=\"text-align: right;\">\n",
       "      <th></th>\n",
       "      <th>Tweet</th>\n",
       "      <th>Retweets</th>\n",
       "      <th>Favoritos</th>\n",
       "      <th>Sentimiento</th>\n",
       "    </tr>\n",
       "  </thead>\n",
       "  <tbody>\n",
       "    <tr>\n",
       "      <td>190</td>\n",
       "      <td>RT @NDtitulares: Deserción estudiantil en las ...</td>\n",
       "      <td>16</td>\n",
       "      <td>0</td>\n",
       "      <td>neg</td>\n",
       "    </tr>\n",
       "    <tr>\n",
       "      <td>1091</td>\n",
       "      <td>#FelizLunes #2Feb En el marco del XLI Aniversa...</td>\n",
       "      <td>1</td>\n",
       "      <td>6</td>\n",
       "      <td>pos</td>\n",
       "    </tr>\n",
       "    <tr>\n",
       "      <td>796</td>\n",
       "      <td>Se invita a la \"Jornada de Recolección de Marc...</td>\n",
       "      <td>6</td>\n",
       "      <td>4</td>\n",
       "      <td>neu</td>\n",
       "    </tr>\n",
       "    <tr>\n",
       "      <td>404</td>\n",
       "      <td>RT @somosupel: #UPEL Rechaza exigencia del MPP...</td>\n",
       "      <td>83</td>\n",
       "      <td>0</td>\n",
       "      <td>neg</td>\n",
       "    </tr>\n",
       "    <tr>\n",
       "      <td>412</td>\n",
       "      <td>RT @VTVcanal8: Jefe de Estado: Por seguir el l...</td>\n",
       "      <td>15</td>\n",
       "      <td>0</td>\n",
       "      <td>neg</td>\n",
       "    </tr>\n",
       "    <tr>\n",
       "      <td>...</td>\n",
       "      <td>...</td>\n",
       "      <td>...</td>\n",
       "      <td>...</td>\n",
       "      <td>...</td>\n",
       "    </tr>\n",
       "    <tr>\n",
       "      <td>1313</td>\n",
       "      <td>#UltimaHora Rector de la UNET se reunió con el...</td>\n",
       "      <td>98</td>\n",
       "      <td>128</td>\n",
       "      <td>pos</td>\n",
       "    </tr>\n",
       "    <tr>\n",
       "      <td>1215</td>\n",
       "      <td>RT @ceofanb: Bolívar “Gral José Laurencio Silv...</td>\n",
       "      <td>258</td>\n",
       "      <td>0</td>\n",
       "      <td>pos</td>\n",
       "    </tr>\n",
       "    <tr>\n",
       "      <td>885</td>\n",
       "      <td>Instalado I Congreso Binacional de Investigaci...</td>\n",
       "      <td>7</td>\n",
       "      <td>9</td>\n",
       "      <td>neu</td>\n",
       "    </tr>\n",
       "    <tr>\n",
       "      <td>959</td>\n",
       "      <td>RT @egeneralesuna: #UniversidadNacionalAbierta...</td>\n",
       "      <td>6</td>\n",
       "      <td>0</td>\n",
       "      <td>pos</td>\n",
       "    </tr>\n",
       "    <tr>\n",
       "      <td>30</td>\n",
       "      <td>RT @UNA_CLBolivar: Primera Reprogramación del ...</td>\n",
       "      <td>11</td>\n",
       "      <td>0</td>\n",
       "      <td>neg</td>\n",
       "    </tr>\n",
       "  </tbody>\n",
       "</table>\n",
       "<p>1362 rows × 4 columns</p>\n",
       "</div>"
      ],
      "text/plain": [
       "                                                  Tweet  Retweets  Favoritos  \\\n",
       "190   RT @NDtitulares: Deserción estudiantil en las ...        16          0   \n",
       "1091  #FelizLunes #2Feb En el marco del XLI Aniversa...         1          6   \n",
       "796   Se invita a la \"Jornada de Recolección de Marc...         6          4   \n",
       "404   RT @somosupel: #UPEL Rechaza exigencia del MPP...        83          0   \n",
       "412   RT @VTVcanal8: Jefe de Estado: Por seguir el l...        15          0   \n",
       "...                                                 ...       ...        ...   \n",
       "1313  #UltimaHora Rector de la UNET se reunió con el...        98        128   \n",
       "1215  RT @ceofanb: Bolívar “Gral José Laurencio Silv...       258          0   \n",
       "885   Instalado I Congreso Binacional de Investigaci...         7          9   \n",
       "959   RT @egeneralesuna: #UniversidadNacionalAbierta...         6          0   \n",
       "30    RT @UNA_CLBolivar: Primera Reprogramación del ...        11          0   \n",
       "\n",
       "     Sentimiento  \n",
       "190          neg  \n",
       "1091         pos  \n",
       "796          neu  \n",
       "404          neg  \n",
       "412          neg  \n",
       "...          ...  \n",
       "1313         pos  \n",
       "1215         pos  \n",
       "885          neu  \n",
       "959          pos  \n",
       "30           neg  \n",
       "\n",
       "[1362 rows x 4 columns]"
      ]
     },
     "execution_count": 63,
     "metadata": {},
     "output_type": "execute_result"
    }
   ],
   "source": [
    "datos_excel = pd.read_excel(open('taggedTweets.xlsx','rb'))\n",
    "datos_excel = pd.DataFrame(datos_excel)\n",
    "sample = datos_excel.sample(len(datos_excel))\n",
    "sample"
   ]
  },
  {
   "cell_type": "code",
   "execution_count": 64,
   "metadata": {},
   "outputs": [],
   "source": [
    "def construirBolsaDePalabras(palabras):\n",
    "    diccionario={}\n",
    "    for palabra in word_tokenize(palabras):\n",
    "        if palabra not in stopwordsList:\n",
    "            diccionario[palabra]=1\n",
    "    return diccionario"
   ]
  },
  {
   "cell_type": "code",
   "execution_count": 65,
   "metadata": {},
   "outputs": [],
   "source": [
    "rasgosNegativos = []\n",
    "rasgosPositivos = []\n",
    "rasgosNeutrales = []\n",
    "    \n",
    "for indice_fila, fila in sample.iterrows():\n",
    "    tweet_clean = clean_tweets_emoji(fila['Tweet'])\n",
    "    tweet_clean = clean_tweets_regex(tweet_clean)\n",
    "    if fila['Sentimiento'] == 'pos':\n",
    "        rasgosPositivos.append((construirBolsaDePalabras(tweet_clean),fila['Sentimiento']))\n",
    "    elif fila['Sentimiento'] == 'neu':\n",
    "        rasgosNeutrales.append((construirBolsaDePalabras(tweet_clean),fila['Sentimiento']))\n",
    "    else:\n",
    "        rasgosNegativos.append((construirBolsaDePalabras(tweet_clean),fila['Sentimiento']))"
   ]
  },
  {
   "cell_type": "code",
   "execution_count": 66,
   "metadata": {},
   "outputs": [
    {
     "data": {
      "text/plain": [
       "454"
      ]
     },
     "execution_count": 66,
     "metadata": {},
     "output_type": "execute_result"
    }
   ],
   "source": [
    "len(rasgosPositivos)"
   ]
  },
  {
   "cell_type": "code",
   "execution_count": 67,
   "metadata": {},
   "outputs": [
    {
     "data": {
      "text/plain": [
       "({'Psicologo': 1,\n",
       "  'Clinico': 1,\n",
       "  'Yhon': 1,\n",
       "  'Cortes': 1,\n",
       "  'dictara': 1,\n",
       "  'charla': 1,\n",
       "  'motivacional': 1},\n",
       " 'pos')"
      ]
     },
     "execution_count": 67,
     "metadata": {},
     "output_type": "execute_result"
    }
   ],
   "source": [
    "rasgosPositivos[5]"
   ]
  },
  {
   "cell_type": "code",
   "execution_count": 68,
   "metadata": {},
   "outputs": [],
   "source": [
    "divP=int(len(rasgosPositivos)*0.95)\n",
    "divNeu=int(len(rasgosNeutrales)*0.95)\n",
    "divNeg=int(len(rasgosNegativos)*0.95)\n",
    "clasificadorSentimiento=NaiveBayesClassifier.train(rasgosPositivos[:divP]+rasgosNegativos[:divNeg]+rasgosNeutrales[:divNeu])"
   ]
  },
  {
   "cell_type": "code",
   "execution_count": 69,
   "metadata": {},
   "outputs": [
    {
     "data": {
      "text/plain": [
       "0.94276875483372"
      ]
     },
     "execution_count": 69,
     "metadata": {},
     "output_type": "execute_result"
    }
   ],
   "source": [
    "nltk.classify.util.accuracy(clasificadorSentimiento,rasgosPositivos[:divP]+rasgosNegativos[:divNeg]+rasgosNeutrales[:divNeu])"
   ]
  },
  {
   "cell_type": "code",
   "execution_count": 70,
   "metadata": {},
   "outputs": [
    {
     "data": {
      "text/plain": [
       "0.6666666666666666"
      ]
     },
     "execution_count": 70,
     "metadata": {},
     "output_type": "execute_result"
    }
   ],
   "source": [
    "nltk.classify.util.accuracy(clasificadorSentimiento,rasgosPositivos[divP:]+rasgosNegativos[divNeg:]+rasgosNeutrales[divNeu:])"
   ]
  },
  {
   "cell_type": "code",
   "execution_count": 71,
   "metadata": {},
   "outputs": [
    {
     "name": "stdout",
     "output_type": "stream",
     "text": [
      "Most Informative Features\n",
      "                    UCLA = 1                 neg : neu    =     29.0 : 1.0\n",
      "             Autoridades = 1                 neg : pos    =     17.7 : 1.0\n",
      "                  invita = 1                 neu : neg    =     14.3 : 1.0\n",
      "               Venezuela = 1                 neg : pos    =     13.8 : 1.0\n",
      "                  quiere = 1                 pos : neg    =     11.0 : 1.0\n",
      "                     Las = 1                 neg : pos    =     10.6 : 1.0\n",
      "                  inicia = 1                 pos : neg    =     10.3 : 1.0\n",
      "                    toda = 1                 neu : neg    =      9.7 : 1.0\n",
      "                Ciencias = 1                 neg : neu    =      9.7 : 1.0\n",
      "                    años = 1                 pos : neu    =      9.0 : 1.0\n"
     ]
    }
   ],
   "source": [
    "clasificadorSentimiento.show_most_informative_features()"
   ]
  },
  {
   "cell_type": "code",
   "execution_count": 72,
   "metadata": {},
   "outputs": [
    {
     "name": "stdout",
     "output_type": "stream",
     "text": [
      "¿El peor solo de guitarra de la historia? Burlas a Nick Jonas por su interpretación\n",
      "{'El': 1, 'peor': 1, 'solo': 1, 'guitarra': 1, 'historia': 1, 'Burlas': 1, 'Nick': 1, 'Jonas': 1, 'interpretacion': 1}\n"
     ]
    }
   ],
   "source": [
    "tweet = \"¿El peor solo de guitarra de la historia? Burlas a Nick Jonas por su interpretación\"\n",
    "\n",
    "print(tweet)\n",
    "tweet_clean = clean_tweets_emoji(tweet)\n",
    "tweet_clean = clean_tweets_regex(tweet_clean)\n",
    "bolsa=construirBolsaDePalabras(tweet_clean)\n",
    "print(bolsa)"
   ]
  },
  {
   "cell_type": "code",
   "execution_count": 73,
   "metadata": {},
   "outputs": [
    {
     "data": {
      "text/plain": [
       "'neg'"
      ]
     },
     "execution_count": 73,
     "metadata": {},
     "output_type": "execute_result"
    }
   ],
   "source": [
    "clasificadorSentimiento.classify(bolsa)"
   ]
  },
  {
   "cell_type": "code",
   "execution_count": 79,
   "metadata": {},
   "outputs": [
    {
     "data": {
      "text/html": [
       "<div>\n",
       "<style scoped>\n",
       "    .dataframe tbody tr th:only-of-type {\n",
       "        vertical-align: middle;\n",
       "    }\n",
       "\n",
       "    .dataframe tbody tr th {\n",
       "        vertical-align: top;\n",
       "    }\n",
       "\n",
       "    .dataframe thead th {\n",
       "        text-align: right;\n",
       "    }\n",
       "</style>\n",
       "<table border=\"1\" class=\"dataframe\">\n",
       "  <thead>\n",
       "    <tr style=\"text-align: right;\">\n",
       "      <th></th>\n",
       "      <th>Date</th>\n",
       "      <th>Day</th>\n",
       "      <th>Tweet</th>\n",
       "      <th>Retweets</th>\n",
       "      <th>Likes</th>\n",
       "    </tr>\n",
       "  </thead>\n",
       "  <tbody>\n",
       "    <tr>\n",
       "      <td>111</td>\n",
       "      <td>Feb 07 2020</td>\n",
       "      <td>Feb 07</td>\n",
       "      <td>RT @keeevinh: This is dope @MonadicalSAS! 🔥 #P...</td>\n",
       "      <td>6</td>\n",
       "      <td>0</td>\n",
       "    </tr>\n",
       "    <tr>\n",
       "      <td>9</td>\n",
       "      <td>Feb 09 2020</td>\n",
       "      <td>Feb 09</td>\n",
       "      <td>RT @stivenramireza: Con una de las tesas de la...</td>\n",
       "      <td>2</td>\n",
       "      <td>0</td>\n",
       "    </tr>\n",
       "    <tr>\n",
       "      <td>183</td>\n",
       "      <td>Jan 30 2020</td>\n",
       "      <td>Jan 30</td>\n",
       "      <td>¿Ya revisaste tu bandeja de entrada de correo ...</td>\n",
       "      <td>3</td>\n",
       "      <td>11</td>\n",
       "    </tr>\n",
       "    <tr>\n",
       "      <td>142</td>\n",
       "      <td>Feb 06 2020</td>\n",
       "      <td>Feb 06</td>\n",
       "      <td>Felipe Mejía @felipe_mejia_a en #PyConColombia...</td>\n",
       "      <td>0</td>\n",
       "      <td>3</td>\n",
       "    </tr>\n",
       "    <tr>\n",
       "      <td>199</td>\n",
       "      <td>Jan 26 2020</td>\n",
       "      <td>Jan 26</td>\n",
       "      <td>@AlexGV04 Hola Alex. Si, en los próximos días ...</td>\n",
       "      <td>0</td>\n",
       "      <td>1</td>\n",
       "    </tr>\n",
       "    <tr>\n",
       "      <td>...</td>\n",
       "      <td>...</td>\n",
       "      <td>...</td>\n",
       "      <td>...</td>\n",
       "      <td>...</td>\n",
       "      <td>...</td>\n",
       "    </tr>\n",
       "    <tr>\n",
       "      <td>149</td>\n",
       "      <td>Feb 05 2020</td>\n",
       "      <td>Feb 05</td>\n",
       "      <td>William Gómez es uno de los voluntarios que ha...</td>\n",
       "      <td>1</td>\n",
       "      <td>9</td>\n",
       "    </tr>\n",
       "    <tr>\n",
       "      <td>193</td>\n",
       "      <td>Jan 27 2020</td>\n",
       "      <td>Jan 27</td>\n",
       "      <td>Oscar Cortez @oscar_mcm will be speaking at #P...</td>\n",
       "      <td>6</td>\n",
       "      <td>10</td>\n",
       "    </tr>\n",
       "    <tr>\n",
       "      <td>107</td>\n",
       "      <td>Feb 07 2020</td>\n",
       "      <td>Feb 07</td>\n",
       "      <td>¡Todos podemos hacer música! Jose Zapata nos r...</td>\n",
       "      <td>4</td>\n",
       "      <td>26</td>\n",
       "    </tr>\n",
       "    <tr>\n",
       "      <td>144</td>\n",
       "      <td>Feb 05 2020</td>\n",
       "      <td>Feb 05</td>\n",
       "      <td>Wendy Rueda es una de las voluntarias que hará...</td>\n",
       "      <td>1</td>\n",
       "      <td>5</td>\n",
       "    </tr>\n",
       "    <tr>\n",
       "      <td>34</td>\n",
       "      <td>Feb 08 2020</td>\n",
       "      <td>Feb 08</td>\n",
       "      <td>¡Con Ines Montani terminamos esta exitosa segu...</td>\n",
       "      <td>2</td>\n",
       "      <td>20</td>\n",
       "    </tr>\n",
       "  </tbody>\n",
       "</table>\n",
       "<p>200 rows × 5 columns</p>\n",
       "</div>"
      ],
      "text/plain": [
       "             Date     Day                                              Tweet  \\\n",
       "111  Feb 07 2020   Feb 07  RT @keeevinh: This is dope @MonadicalSAS! 🔥 #P...   \n",
       "9    Feb 09 2020   Feb 09  RT @stivenramireza: Con una de las tesas de la...   \n",
       "183  Jan 30 2020   Jan 30  ¿Ya revisaste tu bandeja de entrada de correo ...   \n",
       "142  Feb 06 2020   Feb 06  Felipe Mejía @felipe_mejia_a en #PyConColombia...   \n",
       "199  Jan 26 2020   Jan 26  @AlexGV04 Hola Alex. Si, en los próximos días ...   \n",
       "..            ...     ...                                                ...   \n",
       "149  Feb 05 2020   Feb 05  William Gómez es uno de los voluntarios que ha...   \n",
       "193  Jan 27 2020   Jan 27  Oscar Cortez @oscar_mcm will be speaking at #P...   \n",
       "107  Feb 07 2020   Feb 07  ¡Todos podemos hacer música! Jose Zapata nos r...   \n",
       "144  Feb 05 2020   Feb 05  Wendy Rueda es una de las voluntarias que hará...   \n",
       "34   Feb 08 2020   Feb 08  ¡Con Ines Montani terminamos esta exitosa segu...   \n",
       "\n",
       "     Retweets  Likes  \n",
       "111         6      0  \n",
       "9           2      0  \n",
       "183         3     11  \n",
       "142         0      3  \n",
       "199         0      1  \n",
       "..        ...    ...  \n",
       "149         1      9  \n",
       "193         6     10  \n",
       "107         4     26  \n",
       "144         1      5  \n",
       "34          2     20  \n",
       "\n",
       "[200 rows x 5 columns]"
      ]
     },
     "execution_count": 79,
     "metadata": {},
     "output_type": "execute_result"
    }
   ],
   "source": [
    "datos_excel = pd.read_excel(open('pyconcolombiaData.xlsx','rb'))\n",
    "datos_excel = pd.DataFrame(datos_excel)\n",
    "muestra = datos_excel.sample(len(datos_excel))\n",
    "muestra"
   ]
  },
  {
   "cell_type": "code",
   "execution_count": 80,
   "metadata": {},
   "outputs": [],
   "source": [
    "positive = []\n",
    "neutral = []\n",
    "negative = []"
   ]
  },
  {
   "cell_type": "code",
   "execution_count": 81,
   "metadata": {
    "scrolled": true
   },
   "outputs": [
    {
     "name": "stdout",
     "output_type": "stream",
     "text": [
      "RT @keeevinh: This is dope @MonadicalSAS! 🔥 #PyConColombia2020 https://t.co/SalJFHcNJq\n",
      " pos \n",
      "RT @stivenramireza: Con una de las tesas de la @pyconcolombia ⚡⚡ @holamariacamila #PyconColombia2020 https://t.co/3yOAEBNlCa\n",
      " pos \n",
      "¿Ya revisaste tu bandeja de entrada de correo electrónico?\n",
      "\n",
      "Hace unas horas se enviaron los resultados de Becas de… https://t.co/4yaeuoTxU6\n",
      " neu \n",
      "Felipe Mejía @felipe_mejia_a en #PyConColombia2020 nos hablará sobre \"Creación de un pipeline básico de reconocimie… https://t.co/LiIj0ZYdJU\n",
      " pos \n",
      "@AlexGV04 Hola Alex. Si, en los próximos días enviaremos un email con el formulario de inscripción a talleres.\n",
      " neu \n",
      "Are you ready for PyCon Colombia 2020?\n",
      "\n",
      "In just a few days the conference will begin, which brings together fans an… https://t.co/JEj9XAIsbn\n",
      " neg \n",
      "Yeimy Arévalo en #PyConColombia2020 nos hablará sobre \"Creacion de un pipeline básico de reconocimiento facial\".\n",
      "\n",
      "R… https://t.co/hw1koO2hWa\n",
      " pos \n",
      "Germán Ramírez es uno de los voluntarios que harán parte de Pycon Colombia 2020, y le agradecemos a él y todo el gr… https://t.co/eh38YcyDnM\n",
      " neu \n",
      "RT @rodolfoedelmann: @pyconcolombia @py_litox gracias por el espacio, súper contentos de estar acá! https://t.co/oJqI39Tvfb\n",
      " pos \n",
      "Aldemar Hernandez will be speaking at #PyConColombia2020 about \"self-driving cars, robótica con Deep Learning\".\n",
      "\n",
      "Fo… https://t.co/OeDZyGs0Dj\n",
      " pos \n",
      "Wes McKinney nos deleita con su charla\n",
      "🐍 Python for data análisis: pasado, presente y futuro. 🐍\n",
      "\n",
      "Wes McKinney delig… https://t.co/eWHWcMECTN\n",
      " neu \n",
      "Nuestra Keynote @_inesmontani se prepara para su charla y nos cuenta algo de su experiencia en PyCon Colombia 2020. https://t.co/rNHnUUH2sK\n",
      " neg \n",
      "Tomate una foto para el recuerdo y compártela en nuestras redes sociales usando #pyconcolombia2020\n",
      "\n",
      "Take a memory p… https://t.co/teyni0PaLK\n",
      " pos \n",
      "Geraldine Echavarria es una de las voluntarias que harán parte de Pycon Colombia 2020, y le agradecemos a ella y to… https://t.co/AosQPZ9xbq\n",
      " neu \n",
      "RT @LSGoMo: Conectando microservicios con Python por Carlos de la Torre Litox y Rodolfo Edelmann - Mercadolibre \n",
      "\n",
      "Tiempos de respuestas htt…\n",
      " neg \n",
      "RT @BenjaminMachin: @_inesmontani exposes annotator disagreement even in the simplest of tasks and suggests keeping dataset building as clo…\n",
      " pos \n",
      "RT @EdwinMontoyaM: @pycon @pyconcolombia  with @wesmckinn main contributor to Pandas @eafit @IngenieriaEAFIT https://t.co/uYWnpVg3Iz\n",
      " neu \n",
      "Ariel Calzada en #PyConColombia2020 nos hablará sobre \"Creacion de un pipeline básico de reconocimiento facial\".\n",
      "\n",
      "R… https://t.co/AQtnw7FBdm\n",
      " pos \n",
      "Aprovecha los intermedios para acercarte a las mesas de nuestros sponsors y conoce las diferentes ofertas que tiene… https://t.co/JIGQK6n9h0\n",
      " neu \n",
      "RT @jointdev: Muy felices de que @VanessaPenagosR sea nuestra representante en la #PyConColombia2020 un gran evento sobre unos de los lengu…\n",
      " neg \n",
      "RT @eyvillegasp: Para quienes no están presentes en la charla de @joserzapata en @pyconcolombia #pyconcolombia2020 , pueden consultar la pr…\n",
      " pos \n",
      "Esperanza Buitrago es una de las voluntarias que harán parte de Pycon Colombia 2020, y le agradecemos a ella y todo… https://t.co/SyxhzuctR8\n",
      " neu \n",
      "José Benitez  le permitió interactuar al auditorio con uno de sus modelos  de dron y habló sobre el camino para con… https://t.co/bNvkHy3V8T\n",
      " neg \n",
      "John Roa @jhonjairoroa87  is the chief organizer of PyCon Colombia 2020, and we thank him and all our organizer tea… https://t.co/zWezV83e1z\n",
      " neg \n",
      "Hoy es un sábado apropiado para compartir aprendizajes, gracias a Andres Torres y a Kevin Sarmiento por traernos su… https://t.co/sMSUqjmgDl\n",
      " pos \n",
      "RT @hackem: Casa llena en #PyConColombia2020, Conferencia de Galoget Latorre: \"Hacking Ético con Python\"\n",
      "#HappyHacking #Pycon #PyconColombi…\n",
      " pos \n",
      "RT @edwinvrgs: Y @pyconcolombia apenas comienza... #pyconcolombia2020\n",
      " neu \n",
      "Karen Romo is one of the collaborators of PyCon Colombia2020, and we thank her and all our team, for making this ev… https://t.co/AQDrlhbWSV\n",
      " pos \n",
      "Milton Lenis @MiltonLn is one of the organizers of PyCon Colombia2020, and we thank him and all our organizing team… https://t.co/eG6hwOlbbV\n",
      " pos \n",
      "In 5 days, PyCon Colombia 2020 will begin, the conference that brings together experts, enthusiasts, and followers… https://t.co/EMibb2VW7z\n",
      " neg \n",
      "Today is the day that will begin to PyCon Colombia 2020, the conference that brings together experts, enthusiasts a… https://t.co/GyTgFx9saC\n",
      " pos \n",
      "Hablamos de voz con Mauricio Collazos en #pyconcolombia2020\n",
      "\n",
      "We talked about voice, with Mauricio Collazos en… https://t.co/WliRrphc3G\n",
      " neu \n",
      "RT @karobotco: Hey mundooooo, queremos saber qué preguntas tiene la comunidad para los keynotes de @pyconcolombia. ¿Tienes alguna? Responde…\n",
      " neu \n",
      "Karolina Ladino @karobotco is one of the collaborators of PyCon Colombia2020, and we thank her and all our team, fo… https://t.co/ybB9q1XU7T\n",
      " pos \n",
      "Isabella Quintana @isaquinva is one of the collaborators of PyCon Colombia2020, and we thank her and all our team,… https://t.co/MbSYLYPnKl\n",
      " pos \n",
      "RT @po5i: Hiding \"secret messages\" within image and audio files... Davinci style lol @cubosensei @pyconcolombia https://t.co/GO2FPcNKde\n",
      " neg \n",
      "Lina María Montaño es una de las voluntarias que harán parte de Pycon Colombia 2020, y le agradecemos a ella y todo… https://t.co/z0tPWJioLJ\n",
      " neg \n",
      "No te pierdas ninguna de nuestras conferencias, revisa los horarios y ubicación.\n",
      "\n",
      "Do not miss any of our talks, che… https://t.co/VHdu5dhYDv\n",
      " neg \n",
      "RT @cosmoscalibur: El repositorio para mi taller en la #PyConColombia2020 @pyconcolombia sobre crear aplicaciones web con el ecosistema Jup…\n",
      " pos \n",
      "We are very excited, there are only 4 days left until Pycon Colombia 2020 starts!\n",
      "\n",
      "PyCon Colombia brings us this ye… https://t.co/9I1FBQzjCX\n",
      " neg \n",
      "RT @kate_vach: @_inesmontani keynote 🙌🏼🙌🏼🙌🏼 @pyconcolombia #pyconcolombia2020 https://t.co/QLufaEIumE\n",
      " pos \n",
      "RT @mayela0x14: @jesusanayao rockeando en @pyconcolombia! 🙌🥳 https://t.co/Yx5i6iBaRo\n",
      " pos \n",
      "RT @sarah_guido: So excited for @_inesmontani’s keynote on NLP! @pyconcolombia #pyconcolombia2020 https://t.co/EPwkq1698Q\n",
      " pos \n",
      "Waldemar Joel Lopez en #PyConColombia2020 nos hablará sobre \"Representación vectorial de nombres de dominio de Inte… https://t.co/X0qzwpPyfy\n",
      " neg \n",
      "RT @serpulga: What if Alan Turing had a laptop with Python? Modern computers would track the Enigma code faster... but not that much faster…\n",
      " neu \n",
      "RT @nicolefrale: Maravillosa charla Javier Vergara!!! \n",
      "\n",
      "Python, sensores remotos, seguridad alimentaria ... \n",
      "\n",
      "Gracias @pyconcolombia\n",
      "\n",
      "#PyCo…\n",
      " neg \n",
      "RT @thesquashSH: 🏆🏆🏆 It's day 2/3 of our Monadical coding challenge at @pyconcolombia. Get your answers in before Sunday 1pm! \n",
      "\n",
      "We'll be gi…\n",
      " neg \n",
      "RT @sebastianpasar: Full of energy with out last Keynote \n",
      "@_inesmontani @pyconcolombia\n",
      "\n",
      "#pyconcolombia2020 https://t.co/XJeivuZHLg\n",
      " neu \n",
      "Looking forward to it!!! https://t.co/VkCm5vsWOq\n",
      " pos \n",
      "RT @javidazac: Conociendo uno de los héroes pythonistas del evento @fperez_org #PyConColombia2020 Ahora más que motivado de empezar proyect…\n",
      " neu \n",
      "Ivan Torreldo @ivantorroledo will be speaking at #PyConColombia2020 about \"Taking machine learning models to produc… https://t.co/7Q4j0azQyh\n",
      " pos \n",
      "RT @darkanita: Amazing to have a photo with @honnibal and @_inesmontani in @pyconcolombia https://t.co/tHKVdksNX6\n",
      " neu \n",
      "RT @LSGoMo: IDK: Connecting APIs, developers, bots and customers with Django, Channels, and VueJS @pyconcolombia https://t.co/PDxZrABFZn\n",
      " neu \n",
      "RT @sarah_guido: My @pyconcolombia keynote is a retrospective of the past 6 years in the data science industry. What's changed? What hasn't…\n",
      " neu \n",
      "Edwin Zea @edwin_zea is one of the collaborators of PyCon Colombia2020, and we thank him and all our team, for maki… https://t.co/GFUJYr7BtA\n",
      " pos \n",
      "Javier Daza @javidazac is one of the organizers of PyCon Colombia2020, and we thank him and all our organizing team… https://t.co/oNQYO0ulDI\n",
      " pos \n",
      "RT @monita_rb: Hoy me tomé una foto con Mr. Pandas (@wesmckinn ) y le dí las gracias por crear la librería que me da trabajo todos los días…\n",
      " pos \n",
      "RT @po5i: Gracias a @py_litox y @rodolfoedelmann de MercadoLibre aprendí que, en arquitectura de microservicios, PycURL &gt; urllib3 &gt; request…\n",
      " pos \n",
      "Esteban Maya @esteban_x64 is one of the organizers of PyCon Colombia2020, and we thank him and all our organizing t… https://t.co/TAz0Bin1Y9\n",
      " pos \n",
      "RT @Iyubinest: Una de las mejores charlas que he visto en @pyconcolombia 2020 acerca de datos geospaciales por @krsarmiento. Muy buenos dat…\n",
      " pos \n",
      "Rodolfo Edelmann @rudicba en #PyConColombia2020 nos hablará sobre \"Conectando microservicios con Python\".\n",
      "\n",
      "Redes So… https://t.co/PemraKqulH\n",
      " pos \n",
      "RT @sarah_guido: Slides from my talk can be found here: https://t.co/KbPQ3ctlrt @pyconcolombia #pyconcolombia2020\n",
      " neg \n",
      "RT @villaintianny: Hilo sobre la #PyConColombia2020\n",
      " pos \n",
      "Carolina Gómez @caro_gomezt  is one of the collaborators of PyCon Colombia2020, and we thank her and all our team,… https://t.co/2hYkbBB1Ff\n",
      " pos \n",
      "RT @gnrfan: One of my favorite quotes from now on! #GraceHoper #PyconColombia2020 https://t.co/GUWJurAVhi\n",
      " neg \n",
      "RT @keeevinh: Here we go! 🔥🐍 #PyConColombia2020 https://t.co/YiD0Ggb6Di\n",
      " pos \n",
      "David Mauricio Delgado @dwhitelined en #PyConColombia2020 nos hablará sobre \"Más allá de matplotlib y reportes PDF:… https://t.co/U0hZ9Znok4\n",
      " neg \n",
      "Le agradecemos a cada una de las personas que participan en #pyconcolombia revelando nuevos caminos investigativos,… https://t.co/OmoFhssdfv\n",
      " neg \n",
      "RT @Ma0Collazos: Mas @UruIT power en la @pyconcolombia con @krsarmiento #pyconcolombia2020 https://t.co/dcoZOlKdcL\n",
      " neg \n",
      "RT @bendechrai: Hi #PyConColombia!\n",
      "\n",
      "The voice/facial recognition auth tool I mentioned is: https://t.co/AiYJ3SJcjQ\n",
      "\n",
      "You can also find my sl…\n",
      " pos \n",
      "RT @eyvillegasp: No se podía dejar pasar la oportunidad de conversar con @fperez_org , por su gran impacto en la comunidad #Python , y llev…\n",
      " pos \n",
      "RT @karobotco: @honnibal thanks for be here with us! I’m really happy for share time with you. Thanks for everything 😄 Hope you are enjoyin…\n",
      " neu \n",
      "María Camila Gómez  es una de las voluntarias que harán parte de Pycon Colombia 2020, y le agradecemos a ella y tod… https://t.co/mkFk1rJhc5\n",
      " neg \n",
      "Dos de nuestras voluntarias nos cuentan cómo ha sido su experiencia  en PyCon Colombia 2020. https://t.co/9j2ftgQA33\n",
      " neg \n",
      "RT @__danvergara__: Será esta la conferencia que cambie el futuro del procesamiento de datos en donde trabajo ahora? @pyconcolombia #pyconc…\n",
      " neg \n",
      "RT @conc4mi: In the @pyconcolombia #pyconcolombia2020 🐍 with some teammates!\n",
      "\n",
      "PH by @carlosmart626 https://t.co/d4NtBb2q5t https://t.co/Q2q…\n",
      " neu \n",
      "RT @Marianvilla: Y la verdad hoy @pyconcolombia estuve muy pro. Gracias @EAFIT por apoyar a la comunidad de #Python y abrir estas oportunid…\n",
      " neg \n",
      "RT @felipedemorais_: 🇨🇴Llegamos a @pyconcolombia! \n",
      "🇧🇷Chegamos na PyCon Colômbia!\n",
      "Cc:@ngasonicunicorn https://t.co/zW9gL9IKPD\n",
      " neg \n",
      "We are very excited, there are only 7 days left until Pycon Colombia 2020 starts!\n",
      "\n",
      "PyCon Colombia brings us this ye… https://t.co/9fqG7vyQMK\n",
      " neu \n",
      "RT @leslitasalazar: Que bienvenida tan calorosa. Thank you @pyconcolombia! #pyconcolombia2020 #linodeontheroad\n",
      " neg \n",
      "RT @keeevinh: Getting cool tips from @flaper87 to inherit code 🤔🤓 #PyConColombia2020 https://t.co/CiRpj0wWXv\n",
      " pos \n",
      "Isabel Ruíz Buriticá es una de las voluntarias que harán parte de Pycon Colombia 2020, y le agradecemos a ella y to… https://t.co/Z5Tg7aNXi7\n",
      " neg \n",
      "Le agradecemos a cada una de las personas que participan en #pyconcolombia revelando nuevos caminos investigativos,… https://t.co/PSmz9lzvK0\n",
      " neg \n",
      "RT @javidazac: @wesmckinn talking in #PyConColombia2020 about his new project @pyconcolombia https://t.co/4yJo77QQ85\n",
      " pos \n",
      "RT @edwinvrgs: @Darking360 in @pyconcolombia #pyconcolombia2020 🤓🇻🇪 https://t.co/NLIPZHm0ME\n",
      " pos \n",
      "@AlexGV04 Si, el formulario de registro para talleres será enviado en los próximos días a las personas con boleta. Saludos!\n",
      " neg \n",
      "Carlos Sierra @casierrav_alife is one of the organizers of #pyconcolombia2020, and we thank him and all our organiz… https://t.co/2fOTNv0EWr\n",
      " pos \n",
      "José David Arévalo @jdavidarevalo en #PyConColombia2020 nos hablará sobre \"Procesamiento de datos a gran escala con… https://t.co/HhrTuCvYet\n",
      " neg \n",
      "RT @monita_rb: Cuando yo sea grande quiero ser como está mujer que es menor que yo y hace charlas así de chéveres!\n",
      "Huge fan de @sarah_guido…\n",
      " pos \n",
      "RT @cmario_herrera: @tusdatosco presente en @pyconcolombia #pyconcolombia2020 #python #dev #tusdatos #datos https://t.co/gh9bJ5SDWX\n",
      " neu \n",
      "Nicolas Roa is one of the collaborators of PyCon Colombia2020, and we thank him and all our team, for making this e… https://t.co/dNvVWzkn4M\n",
      " neg \n",
      "¿Están listas y listos para preguntar? \n",
      "Are you ready to ask? https://t.co/qNAHf95khU\n",
      " pos \n",
      "Hora de almorzar 🍲 \n",
      "Hora de hacer nuevos amigos🧑🏻‍💻\n",
      "Hora de comentar y compartir lo que más te gusto de nuestras pr… https://t.co/pAuLwTWfI4\n",
      " pos \n",
      "Carlos de la Torre Litox @py_litox en #PyConColombia2020 nos hablará sobre \"Conectando microservicios con Python (E… https://t.co/athagQOt1q\n",
      " neg \n",
      "RT @po5i: It has been awesome to meet these silent heroes like @wesmckinn that build #opensource projects and kickstart the ecosystem growt…\n",
      " pos \n",
      "RT @AlexGV04: Muchas gracias por la info, estuvo muy chévere la charla en @pyconcolombia https://t.co/dICWwj4zFL\n",
      " pos \n",
      "RT @ALandazabal15: #PyConCo2020 🐍 https://t.co/ZA5qnAKYXj\n",
      " pos \n",
      "RT @Pinpacho: creator of pandas\n",
      "@wesmckinn \n",
      "Thanks for the talk and picture \n",
      "I want a copy of your book xd\n",
      " #PyConColombia2020 @pyconcolomb…\n",
      " pos \n",
      "RT @edwinvrgs: @wesmckinn in @pyconcolombia #pyconcolombia2020 https://t.co/7NcEtY2Rc7\n",
      " pos \n",
      "Kevin Eliecer Patrón en #PyConColombia2020 nos hablará sobre \"A Python library for Teaching-Learning-Based Optimiza… https://t.co/krXl9jdkGS\n",
      " pos \n",
      "RT @kate_vach: Dashboards interactivos en Júpiter Notebook📈📊📉 #pyconcolombia2020 @pyconcolombia https://t.co/bnxhrtHdbc\n",
      " pos \n",
      "Andrés Mauricio Repetto en #PyConColombia2020 nos hablará sobre \"¡Tierra a la vista baby! – Reconocimiento de plane… https://t.co/2lNjzDDeAG\n",
      " pos \n",
      "Blanca Flórez es una de las voluntarias que harán parte de Pycon Colombia 2020, y le agradecemos a ella y todo el g… https://t.co/4ja0aIULQo\n",
      " neu \n",
      "RT @Pinpacho: Thanks for your talk @bendechrai\n",
      "I need a new password jsjs\n",
      "#PyConColombia @pyconcolombia https://t.co/3hGBw0P1m4\n",
      " pos \n",
      "RT @fperez_org: Not only is @_inesmontani's #pyconcolombia2020 🐍🇨🇴keynote 💯 content wise, her 80s/outrun/Miami Vice styled slides are an ab…\n",
      " pos \n",
      "¿Estuviste ahí? estos son algunos de los speakers que nos acompañaron esta mañana en #pyconcolombia2020 \n",
      "\n",
      "Were you… https://t.co/w8ON601QJA\n",
      " pos \n",
      "RT @felipedemorais_: 🇨🇴 Es hoy que voy hablar en @pyconcolombia sobre @AfroPython \n",
      "🇧🇷 Chama a Lud que é hoje!\n",
      "Cc: @ngasonicunicorn https://…\n",
      " neg \n",
      "Sebastián Quiñones es uno de los voluntarios que harán parte de Pycon Colombia 2020, y le agradecemos a él y todo e… https://t.co/P6EDh8XAb7\n",
      " neu \n",
      "RT @javidazac: The Keynote talk of @_inesmontani just started at @pyconcolombia #pyconcolombia2020 https://t.co/eoYMXmaq0B\n",
      " neg \n",
      "¿Estuviste ahí? estos son algunos de los speakers que nos acompañaron esta mañana en #pyconcolombia2020 \n",
      "\n",
      "Were you… https://t.co/42povDJ6FQ\n",
      " pos \n",
      "RT @jhenaotw: Expectante con esto  #pyconcolombia2020 https://t.co/5GtCKorEqz\n",
      " pos \n",
      "Eddie Turizo @eddie_turizo will be speaking at #PyConColombia2020 about \"Development Elastic APM + Django = &lt;3\".\n",
      "\n",
      "F… https://t.co/NPcFLv5cgF\n",
      " pos \n",
      "RT @AlexGV04: Aprendiendo de test en python con @jesusanayao en @pyconcolombia https://t.co/HrENZ5fuiQ\n",
      " pos \n",
      "RT @Heidytati13: @_inesmontani en @pyconcolombia https://t.co/vweTuBrdfp\n",
      " pos \n",
      "RT @NikoleRocha30: Thanks @wesmckinn, I can't even imagine life without pandas, maybe would be horrible. I'm looking forward to your new pr…\n",
      " pos \n",
      "Manuela Ocampo es una de las voluntarias que harán parte de Pycon Colombia 2020, y le agradecemos a ella y todo el… https://t.co/57eaQGiPh9\n",
      " neu \n",
      "Alejandro Rendón @arendondiosa is one of the organizers of PyCon Colombia 2020, and we thank him and all our organi… https://t.co/7rwAesvXyd\n",
      " neg \n",
      "RT @Gerson4G: This looks so promising! @_inesmontani @pyconcolombia https://t.co/piyihr5PF5\n",
      " pos \n",
      "Queremos que todas y todos nuestros participantes salgan con una sonrisa y muchas ganas de aplicar lo aprendido, pa… https://t.co/jC66SL1tOe\n",
      " pos \n",
      "RT @Pinpacho: I love your presentation and your stickers :3 @_inesmontani \n",
      "#pyconcolombia2020 @pyconcolombia https://t.co/yupoaEKhFD\n",
      " neu \n",
      "RT @__danvergara__: Amé este slide!\n",
      "@pyconcolombia\n",
      "#pyconcolombia2020\n",
      "Gran charla de María Remolina https://t.co/AoZuHgdZAz\n",
      " pos \n",
      "Nancy Acuña is one of the collaborators of PyCon Colombia2020, and we thank her and all our team, for making this e… https://t.co/4PUErnBvNr\n",
      " pos \n",
      "Todos nuestros participantes se encuentran atentos a las diversas temáticas que se trabajan en #pyconcolombia2020… https://t.co/b27Nzlnai7\n",
      " pos \n",
      "RT @Ma0Collazos: \"... You assembly a team, something like the avengers, with mathematicians, engineers ...\" (To solve enigma) @holamariacam…\n",
      " neu \n",
      "RT @elmarchu: @UruIT llegó a Colombia hace menos de 4 años y en ese entonces no teníamos proyectos de #python ni de #MachineLearning. Hoy e…\n",
      " neg \n",
      "Alexander Cabezas @alexcabezas1 will be speaking at #PyConColombia2020 about \"Data Analytics and Data Processing wi… https://t.co/ak4K08HML0\n",
      " neu \n",
      "Andrés Roldan @andresroldan en #PyConColombia2020 nos hablará sobre \"Rompiendo el Build con Python en tu integrador… https://t.co/01uijXQSnO\n",
      " pos \n",
      "In 3 days, PyCon Colombia 2020 will begin, the conference that brings together experts, enthusiasts, and followers… https://t.co/a8u2dhcQQq\n",
      " neg \n",
      "Jesus Anaya @jesusanayao en #PyConColombia2020 nos hablará sobre \"Prueba tu código con PyTest. (Español)\".\n",
      "\n",
      "Redes S… https://t.co/WLFLYslOhk\n",
      " neg \n",
      "RT @javidazac: Sharing with speakers, workshoppers, sponsors and coorganizers #PyConColombia2020   @pyconcolombia https://t.co/kitxHnXv4T\n",
      " neu \n",
      "RT @jmaquino: Súper divertida la charla de @Darking360 en la @pyconcolombia pueden verla en... https://t.co/64li0LzcZa https://t.co/GuSsFti…\n",
      " pos \n",
      "Camilo Cardona en #PyConColombia2020 nos hablará sobre \"Desarrollo de Dashboards interactivos en Jupyter para perso… https://t.co/PoqzeWBuTJ\n",
      " pos \n",
      "Conoce todas las oportunidades que te trae #pyconcolombia2020\n",
      "\n",
      "Know all the opportunities that #pyconcolombia2020 b… https://t.co/M3S12jz0ph\n",
      " neg \n",
      "Carlos Salgado es uno de los voluntarios que harán parte de Pycon Colombia 2020, y le agradecemos a él y todo el gr… https://t.co/em2wj5nCeH\n",
      " neg \n",
      "RT @SourceMeridian: Our guys at @pyconcolombia 🐍 #python #PyConColombia2020 #pycon #developers #software #softwarecompany https://t.co/Idhz…\n",
      " pos \n",
      "Heidy Rincón es una de las voluntarias que harán parte de Pycon Colombia 2020, y le agradecemos a ella y todo el gr… https://t.co/QJwHyBUVDw\n",
      " neu \n",
      "Sergio Torres es uno de los voluntarios que harán parte de Pycon Colombia 2020, y le agradecemos a él y todo el gru… https://t.co/vUqKtwNTs1\n",
      " neu \n",
      "Alejandro Gomez @aldajo92  will be speaking at #PyConColombia2020 about \"sel-driving cars, robótica con Deep Learni… https://t.co/cLoO005V7B\n",
      " pos \n",
      "Maris Botero es una de las voluntarias que harán parte de Pycon Colombia 2020, y le agradecemos a ella y todo el gr… https://t.co/wlZXKAsG87\n",
      " neu \n",
      "Juan Sebastián Pastrana es uno de los voluntarios que harán parte de Pycon Colombia 2020, y le agradecemos a él y t… https://t.co/zdNApiRBJH\n",
      " neg \n",
      "RT @NikoleRocha30: Pandas rules!!! Thanks @pyconcolombia  for the opportunity. Today, the great @wesmckinn 🙌🙌\n",
      "#pyconcolombia2020 #pandas #p…\n",
      " pos \n",
      "@zonabochinche @EAFIT Gracias por contactarnos. Si, las boletas están totalmente vendidas. Durante el transcurso de… https://t.co/VqGSXP27VH\n",
      " neg \n",
      "Leonardo Romo @Leoromo97 is one of the collaborators of PyCon Colombia2020, and we thank him and all our team, for… https://t.co/eDyST0LlDc\n",
      " pos \n",
      "Buenos días, ya estamos listos para continuar fortaleciendo nuestros lazos de amistad y conocimiento en nuestra… https://t.co/pFw3H4sL4V\n",
      " neu \n",
      "RT @wesmckinn: My slides from @pyconcolombia 2020 https://t.co/Q4san8Iewz\n",
      "\n",
      "\"Python for Data Analysis: Past, Present, and Future\"\n",
      "\n",
      "Talk was…\n",
      " neg \n",
      "RT @MonadicalSAS: Compete for the fastest, shortest, and craziest solutions to our coding challenge! https://t.co/pzMu4R9Rjd \n",
      "\n",
      "The best ans…\n",
      " pos \n",
      "RT @iris9112: Aprendiendo, haciendo nuevos amigos, viendo a los viejos amigos y disfrutando un montón la #PyConColombia2020 @pyconcolombia…\n",
      " neg \n",
      "RT @davidlealxyz: #PyConColombia2020 https://t.co/qLXW2ToXwJ\n",
      " pos \n",
      "Termina su ponencia Jesús Solano, gracias por acompañarnos con su experiencia en clasificación usando redes neurona… https://t.co/SrdUwPBrMM\n",
      " pos \n",
      "RT @Ma0Collazos: En la @pyconcolombia con hablemos de voz #pyconcolombia2020 https://t.co/J9rmw80OIV\n",
      " neg \n",
      "Juan Salvador Bahamón en #PyConColombia2020 nos hablará sobre \"Explorando relacionescon bases de datos orientadas a… https://t.co/BxWxj1c4I2\n",
      " neg \n",
      "RT @bendechrai: Software engineering is communication. You have to create, document, and forget. You need to talk to and trust teams to get…\n",
      " pos \n",
      "RT @kate_vach: starting the day with a great Keynote @wesmckinn 👏🏽👏🏽👏🏽 @pyconcolombia #pyconcolombia2020 https://t.co/6XSOna8L9e\n",
      " neu \n",
      "RT @serpulga: I was so busy during the first day of @pyconcolombia 2020 that I only snapped this one bad picture. @sarah_guido keeping it r…\n",
      " pos \n",
      "Sara Galván es una de las voluntarias que harán parte de Pycon Colombia 2020, y le agradecemos a ella y todo el gru… https://t.co/4iZWWrDABX\n",
      " neu \n",
      "RT @FerroRodolfo: This presentation is amazing! @_inesmontani is talking about #ThincAI at @pyconcolombia. 🧠🔥\n",
      "\n",
      "#PyConColombia2020 #NLP #Pyt…\n",
      " pos \n",
      "RT @Heidytati13: Siendo Feliz en @pyconcolombia #PyConColombia2020 https://t.co/CIrFC0S5fV\n",
      " pos \n",
      "RT @MCelisR1: Great start of the most exciting Keynote at #PyConColombia2020 by @_inesmontani with @tiangolo greeting virtual 😁\n",
      "\n",
      "@pyconcolo…\n",
      " neu \n",
      "Recuerden usar nuestro hashtag #pyconcolombia2020 \n",
      "Al final de la jornada tendremos sorpresas para todos\n",
      " neu \n",
      "RT @MCelisR1: Very excited at @pyconcolombia to meet @_inesmontani a hard dev about NLP and a friend in common with @tiangolo\n",
      " \n",
      "#pyconcolom…\n",
      " pos \n",
      "🐍Only 2 days left for it to start at PyCon Colombia 2020, the conference that brings together experts, enthusiasts,… https://t.co/0DPbI6d4lK\n",
      " neg \n",
      "Galoget Latorre @hackem en #PyConColombia2020 nos hablará sobre \"Hacking Ético con Python\".\n",
      "\n",
      "Redes Sociales:\n",
      "\n",
      "Twitt… https://t.co/wNNni0jiM4\n",
      " neu \n",
      "Javier Vergara @javergara9 will be speaking at #PyConColombia2020 about \"Tumaini: A Deep learning object detection… https://t.co/oLcFYrGZBQ\n",
      " neg \n",
      "RT @camigomezdev: Con este teso de nuevo en la @pyconcolombia... gracias por todas las enseñanzas @jorlugaqui https://t.co/lVqRjpCaN3\n",
      " pos \n",
      "Yurley Sánchez es una de las voluntarias que harán parte de Pycon Colombia 2020, y le agradecemos a ella y todo el… https://t.co/vDNtCZ797q\n",
      " neu \n",
      "Tomorrow PyCon Colombia 2020 will begin, the conference that brings together experts, enthusiasts, and followers of… https://t.co/S9yeE9LNZe\n",
      " neg \n",
      "A esta hora en auditorio fundadores nos acompaña Nick Sweeting con su charla: Archiving the internet before it all… https://t.co/fteWzUddzr\n",
      " pos \n",
      "Yilsey Benavides en #PyConColombia2020 nos hablará sobre \"Máquinas de aprendizaje para analis de datos geoespaciale… https://t.co/kanouU3gAP\n",
      " pos \n",
      "RT @po5i: Este fue mi genial público para mi charla \"Cómo usar tipos en Python con mypy\". para @pyconcolombia #pyconColombia2020 ¡Excelente…\n",
      " neu \n",
      "RT @sarah_guido: So excited to be at @pyconcolombia this weekend! Here’s me next to a big picture of my face 😂 https://t.co/wjT99OXdjL\n",
      " neu \n",
      "Para el último día estaremos dando stickers a quienes se tomen fotos con nuestros organizadores, colaboradores y vo… https://t.co/dxWWLtVqSJ\n",
      " pos \n",
      "RT @MiltonLn: I had the honor to share an interview with one of my Django heroes at @pyconcolombia thank you @andrewgodwin ! https://t.co/j…\n",
      " pos \n",
      "Edwin Jerez @soyelhijo is one of the collaborators of PyCon Colombia2020, and we thank him and all our team, for ma… https://t.co/bjOajR6OdF\n",
      " pos \n",
      "RT @karobotco: 😳 @pyconcolombia #pyconcolombia2020 Well it’s done! My second interview with this amazing person. Thank you @wesmckinn thank…\n",
      " neu \n",
      "Participa activamente en nuestra #pyconcolombia2020\n",
      "\n",
      "Comenta.\n",
      "Pregunta.\n",
      "Comparte. https://t.co/ZOeBEFEP6d\n",
      " neu \n",
      "🤩 Coding and dreaming 🤩\n",
      "#pyconcolombia2020 https://t.co/USHOvpnRW0\n",
      " neg \n",
      "Le agradecemos a cada una de las personas que participan en #pyconcolombia revelando nuevos caminos investigativos,… https://t.co/F0Qba6QxoL\n",
      " neg \n",
      "RT @Pinpacho: Thanks for your talk @andrewgodwin \n",
      "I will observe and question about the why and how of the things to fix it \n",
      "#pyconcolombia…\n",
      " pos \n",
      "RT @JennFonseca: Thanks a lot! I was very excited for your talk and it was wonderful\n",
      "Again thanks @wesmckinn and @pyconcolombia https://t.c…\n",
      " pos \n",
      "RT @bendechrai: \"You shouldn't do this. It's a ridiculous idea.\" -- @andrewgodwin\n",
      "\n",
      "I love this sorting algorithm ❤️🤣\n",
      "\n",
      "@pyconcolombia https:…\n",
      " neu \n",
      "RT @karobotco: 🥰 @pyconcolombia #pyconco2020 My first interview with @_inesmontani a wonderful woman, with such an inspirational work, thou…\n",
      " neu \n",
      "¿Estuviste ahí? estos son algunos de los speakers que nos acompañaron esta mañana en #pyconcolombia2020 \n",
      "\n",
      "Were you… https://t.co/5g7K43ZbtJ\n",
      " pos \n",
      "¿Qué tal una foto con tus amigas y amigos en #pyconcolombia2020? https://t.co/TX65yvLF0i\n",
      " neg \n",
      "RT @sarah_guido: Kicking off the second day of @pyconcolombia with @wesmckinn! #pyconcolombia2020 https://t.co/MuimA4rBUv\n",
      " neu \n",
      "RT @sarajoha23: And the pycon begins 🐍 #pyconco2020 https://t.co/ziwjzDNt0x\n",
      " pos \n",
      "Nuestro Keynote Andrew Godwin nos cuenta sobre su experiencia abriendo PyCon Colombia 2020.\n",
      "\n",
      "Our Keynote Andrew God… https://t.co/xkNeVBIBQG\n",
      " pos \n",
      "RT @Darking360: @cubosensei killing it hiding data in data 😱 🤯 @pyconcolombia 🐍 https://t.co/MxNPOUGEnJ\n",
      " neu \n",
      "RT @felipedemorais_: 🇨🇴 Hoy presenté mi charla en @pyconcolombia  abajo el enlace para la presentación.\n",
      "🇺🇸Today I presented my talk about @…\n",
      " pos \n",
      "Continuamos con nuestra programación... A esta hora Waldemar López en el auditorio fundadores #pyconcolombia2020.… https://t.co/DaWyZsGgOd\n",
      " neu \n",
      "We want to introduce AIfund, who will be one of our sponsors of #PyConColombia2020, We thank AIfund and our other s… https://t.co/wpt5pAvIiB\n",
      " pos \n",
      "RT @kate_vach: Time series Forecasting using Machine Learning by @mfcabrera @pyconcolombia #pyconcolombia2020 https://t.co/WpPfTk1HDP\n",
      " pos \n",
      "¿Necesitas ayuda?  \n",
      "- Ubica a nuestros voluntarios que se encuentran con camisa turquesa, ellos te ayudaran 😉\n",
      "\n",
      "Need… https://t.co/CGsYNB5jDG\n",
      " neg \n",
      "RT @jmaquino: Cómo bonus @holamariacamila nos muestra un espectrograma de un audio que se decodifica con el logo de la @pyconcolombia https…\n",
      " neu \n",
      "Juan David Hernandez @JuanDHernandezG is one of the organizers of PyCon Colombia2020, and we thank him and all our… https://t.co/G8PHqx1jzc\n",
      " neg \n",
      "RT @gnrfan: ’s been a pleasure to meet @wesmckinn original author of #Pandas and maintainer for many years now working on the strategic #Ap…\n",
      " pos \n",
      "William Gómez es uno de los voluntarios que harán parte de Pycon Colombia 2020, y le agradecemos a él y todo el gru… https://t.co/uFrrgGoALT\n",
      " neg \n",
      "Oscar Cortez @oscar_mcm will be speaking at #PyConColombia2020 about \"Modern Python packaging without pain\".\n",
      "\n",
      "Follo… https://t.co/PYMGq0X7yd\n",
      " pos \n",
      "¡Todos podemos hacer música! Jose Zapata nos recordó en  #pyconcolombia2020 el vínculo que existe entre la música,… https://t.co/I6zLEJ849q\n",
      " neg \n",
      "Wendy Rueda es una de las voluntarias que harán parte de Pycon Colombia 2020, y le agradecemos a ella y todo el gru… https://t.co/fwqne2ND8y\n",
      " neu \n",
      "¡Con Ines Montani terminamos esta exitosa segunda jornada de #pyconcolombia2020!\n",
      "\n",
      "Los esperamos mañana para la últi… https://t.co/nPyaUsTSou\n",
      " pos \n"
     ]
    }
   ],
   "source": [
    "libro = xlsxwriter.Workbook('test1Tag.xlsx')\n",
    "hoja = libro.add_worksheet('Data')\n",
    "\n",
    "data = [\"Tweet\",\"Sentimiento\"]\n",
    "row = 0\n",
    "col = 0\n",
    " \n",
    "for titulo in data:\n",
    "    hoja.write(row, col, titulo)\n",
    "    col += 1\n",
    "row = 1\n",
    "col = 0\n",
    "\n",
    "for indice_fila, fila in muestra.iterrows():\n",
    "    print(fila[2])\n",
    "    tweet_clean = clean_tweets_emoji(fila[2])\n",
    "    tweet_clean = clean_tweets_regex(tweet_clean)\n",
    "    bolsa=construirBolsaDePalabras(tweet_clean)\n",
    "    sent = clasificadorSentimiento.classify(bolsa)\n",
    "    print(\"\\033[0;31;40m \"+sent+\" \\033[0m\")\n",
    "    hoja.write(indice_fila+row, 0, fila[2])\n",
    "    hoja.write(indice_fila+row, 1, sent)\n",
    "    if sent == 'pos':\n",
    "        positive.append(fila[2])\n",
    "    elif sent == 'neu':\n",
    "        neutral.append(fila[2])\n",
    "    else:\n",
    "        negative.append(fila[2])\n",
    "libro.close()"
   ]
  },
  {
   "cell_type": "markdown",
   "metadata": {},
   "source": [
    "### Tweets in English"
   ]
  },
  {
   "cell_type": "code",
   "execution_count": null,
   "metadata": {},
   "outputs": [],
   "source": [
    "from textblob import TextBlob "
   ]
  },
  {
   "cell_type": "code",
   "execution_count": null,
   "metadata": {},
   "outputs": [],
   "source": [
    "excel_data = pd.read_excel(open('test2.xlsx','rb'))\n",
    "excel_data = pd.DataFrame(excel_data)"
   ]
  },
  {
   "cell_type": "code",
   "execution_count": null,
   "metadata": {},
   "outputs": [],
   "source": [
    "popularity_list = []\n",
    "num_list = []\n",
    "num = 1\n",
    "\n",
    "for tweet in excel_data['Post']:\n",
    "    print(tweet)\n",
    "    \n",
    "    analysis = TextBlob(tweet)\n",
    "    analysis = analysis.sentiment\n",
    "    print(analysis)\n",
    "    popularity = analysis.polarity\n",
    "    popularity_list.append(popularity)\n",
    "    num_list.append(num)\n",
    "    num = num + 1"
   ]
  },
  {
   "cell_type": "markdown",
   "metadata": {},
   "source": [
    "## Step 5: ShowData"
   ]
  },
  {
   "cell_type": "markdown",
   "metadata": {},
   "source": [
    "### Texto en Español"
   ]
  },
  {
   "cell_type": "code",
   "execution_count": 75,
   "metadata": {},
   "outputs": [],
   "source": [
    "%matplotlib inline\n",
    "import matplotlib.pyplot as plt"
   ]
  },
  {
   "cell_type": "code",
   "execution_count": 82,
   "metadata": {},
   "outputs": [
    {
     "data": {
      "image/png": "[encoded data removed]",
      "text/plain": [
       "<Figure size 432x288 with 1 Axes>"
      ]
     },
     "metadata": {
      "needs_background": "light"
     },
     "output_type": "display_data"
    }
   ],
   "source": [
    "fig = plt.figure(u'Gráfica de barras')\n",
    "ax = fig.add_subplot(111)\n",
    "\n",
    "nombres = ['Positive','Neutral','Negative']\n",
    "datos = [len(positive),len(neutral),len(negative)]\n",
    "xx = range(len(datos))\n",
    "\n",
    "ax.bar(xx, datos, width=0.8, align='center')\n",
    "ax.set_xticks(xx)\n",
    "ax.set_xticklabels(nombres)\n",
    "\n",
    "plt.show()"
   ]
  },
  {
   "cell_type": "markdown",
   "metadata": {},
   "source": [
    "### Text in English"
   ]
  },
  {
   "cell_type": "code",
   "execution_count": null,
   "metadata": {},
   "outputs": [],
   "source": [
    "plt.figure(figsize=(20,10))\n",
    "plt.scatter(num_list, popularity_list)\n",
    "#plt.scatter(excel_data['Day'], popularity_list)\n",
    "plt.title(\"Sentiments analysis to PyConCo2020\")\n",
    "plt.xlabel(\"Posts\")\n",
    "plt.ylabel(\"Sentiment\")\n",
    "plt.show()"
   ]
  },
  {
   "cell_type": "markdown",
   "metadata": {},
   "source": [
    "### Bonus"
   ]
  },
  {
   "cell_type": "code",
   "execution_count": 77,
   "metadata": {},
   "outputs": [],
   "source": [
    "from wordcloud import WordCloud"
   ]
  },
  {
   "cell_type": "code",
   "execution_count": 78,
   "metadata": {},
   "outputs": [
    {
     "data": {
      "image/png": "[encoded data removed]",
      "text/plain": [
       "<Figure size 432x288 with 1 Axes>"
      ]
     },
     "metadata": {
      "needs_background": "light"
     },
     "output_type": "display_data"
    }
   ],
   "source": [
    "wordcloud = WordCloud(background_color=\"white\", colormap=\"Dark2\",\n",
    "               max_font_size=150, random_state=42).generate(tweets_clean)\n",
    "\n",
    "plt.imshow(wordcloud, interpolation='bilinear')\n",
    "plt.axis(\"off\")\n",
    "plt.title(\"WWCode DataPY2019\")\n",
    "plt.show()"
   ]
  },
  {
   "cell_type": "code",
   "execution_count": null,
   "metadata": {},
   "outputs": [],
   "source": []
  }
 ],
 "metadata": {
  "kernelspec": {
   "display_name": "Python 3",
   "language": "python",
   "name": "python3"
  },
  "language_info": {
   "codemirror_mode": {
    "name": "ipython",
    "version": 3
   },
   "file_extension": ".py",
   "mimetype": "text/x-python",
   "name": "python",
   "nbconvert_exporter": "python",
   "pygments_lexer": "ipython3",
   "version": "3.7.3"
  }
 },
 "nbformat": 4,
 "nbformat_minor": 4
}
