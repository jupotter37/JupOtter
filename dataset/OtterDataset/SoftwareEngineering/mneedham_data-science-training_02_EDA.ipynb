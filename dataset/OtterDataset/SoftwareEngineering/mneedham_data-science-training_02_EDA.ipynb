{
 "cells": [
  {
   "cell_type": "markdown",
   "metadata": {
    "colab_type": "text",
    "id": "view-in-github"
   },
   "source": [
    "<a href=\"https://colab.research.google.com/github/mneedham/data-science-training/blob/master/02_EDA.ipynb\" target=\"_parent\"><img src=\"https://colab.research.google.com/assets/colab-badge.svg\" alt=\"Open In Colab\"/></a>"
   ]
  },
  {
   "cell_type": "markdown",
   "metadata": {},
   "source": [
    "# Exploratory Data Analysis\n",
    "\n",
    "In this notebook we're going to explore the citation dataset that we we imported in the previous notebook. As with the previous notebook let's install and import py2neo and pandas. We'll also install matplotlib to create some charts showing us the shape of the data."
   ]
  },
  {
   "cell_type": "code",
   "execution_count": 1,
   "metadata": {},
   "outputs": [
    {
     "name": "stdout",
     "output_type": "stream",
     "text": [
      "Requirement already satisfied: py2neo in /opt/conda/lib/python3.7/site-packages (4.3.0)\n",
      "Requirement already satisfied: pandas in /opt/conda/lib/python3.7/site-packages (0.24.2)\n",
      "Requirement already satisfied: matplotlib in /opt/conda/lib/python3.7/site-packages (3.0.3)\n",
      "Requirement already satisfied: prompt-toolkit~=2.0.7 in /opt/conda/lib/python3.7/site-packages (from py2neo) (2.0.9)\n",
      "Requirement already satisfied: colorama in /opt/conda/lib/python3.7/site-packages (from py2neo) (0.4.1)\n",
      "Requirement already satisfied: pytz in /opt/conda/lib/python3.7/site-packages (from py2neo) (2018.9)\n",
      "Requirement already satisfied: certifi in /opt/conda/lib/python3.7/site-packages (from py2neo) (2019.3.9)\n",
      "Requirement already satisfied: click==7.0 in /opt/conda/lib/python3.7/site-packages (from py2neo) (7.0)\n",
      "Requirement already satisfied: pygments~=2.3.1 in /opt/conda/lib/python3.7/site-packages (from py2neo) (2.3.1)\n",
      "Requirement already satisfied: urllib3<1.25,>=1.23 in /opt/conda/lib/python3.7/site-packages (from py2neo) (1.24.1)\n",
      "Requirement already satisfied: neotime~=1.7.4 in /opt/conda/lib/python3.7/site-packages (from py2neo) (1.7.4)\n",
      "Requirement already satisfied: neobolt~=1.7.12 in /opt/conda/lib/python3.7/site-packages (from py2neo) (1.7.15)\n",
      "Requirement already satisfied: python-dateutil>=2.5.0 in /opt/conda/lib/python3.7/site-packages (from pandas) (2.8.0)\n",
      "Requirement already satisfied: numpy>=1.12.0 in /opt/conda/lib/python3.7/site-packages (from pandas) (1.15.4)\n",
      "Requirement already satisfied: cycler>=0.10 in /opt/conda/lib/python3.7/site-packages (from matplotlib) (0.10.0)\n",
      "Requirement already satisfied: kiwisolver>=1.0.1 in /opt/conda/lib/python3.7/site-packages (from matplotlib) (1.0.1)\n",
      "Requirement already satisfied: pyparsing!=2.0.4,!=2.1.2,!=2.1.6,>=2.0.1 in /opt/conda/lib/python3.7/site-packages (from matplotlib) (2.4.0)\n",
      "Requirement already satisfied: six>=1.9.0 in /opt/conda/lib/python3.7/site-packages (from prompt-toolkit~=2.0.7->py2neo) (1.12.0)\n",
      "Requirement already satisfied: wcwidth in /opt/conda/lib/python3.7/site-packages (from prompt-toolkit~=2.0.7->py2neo) (0.1.7)\n",
      "Requirement already satisfied: setuptools in /opt/conda/lib/python3.7/site-packages (from kiwisolver>=1.0.1->matplotlib) (41.0.0)\n"
     ]
    }
   ],
   "source": [
    "!pip install py2neo pandas matplotlib"
   ]
  },
  {
   "cell_type": "markdown",
   "metadata": {},
   "source": [
    "And let's import those libraries:"
   ]
  },
  {
   "cell_type": "code",
   "execution_count": 2,
   "metadata": {},
   "outputs": [],
   "source": [
    "from py2neo import Graph\n",
    "import pandas as pd\n",
    "\n",
    "import matplotlib \n",
    "import matplotlib.pyplot as plt\n",
    "\n",
    "plt.style.use('fivethirtyeight')\n",
    "pd.set_option('display.float_format', lambda x: '%.3f' % x)"
   ]
  },
  {
   "cell_type": "markdown",
   "metadata": {},
   "source": [
    "\n",
    "Update the cell below with the same Sandbox credentials that you used in the first notebook:"
   ]
  },
  {
   "cell_type": "code",
   "execution_count": 3,
   "metadata": {},
   "outputs": [],
   "source": [
    "# Change the line of code below to use the IP Address, Bolt Port, and Password of your Sandbox.\n",
    "# graph = Graph(\"bolt://<IP Address>:<Bolt Port>\", auth=(\"neo4j\", \"<Password>\")) \n",
    "\n",
    "# graph = Graph(\"bolt://18.234.168.45:33679\", auth=(\"neo4j\", \"daybreak-cosal-rumbles\")) \n",
    "graph = Graph(\"bolt://data-science-training-neo4j\", auth=(\"neo4j\", \"admin\")) "
   ]
  },
  {
   "cell_type": "markdown",
   "metadata": {},
   "source": [
    "## What's in our database?\n",
    "\n",
    "Now we can run the following query to check how many nodes our database contains:"
   ]
  },
  {
   "cell_type": "code",
   "execution_count": 4,
   "metadata": {},
   "outputs": [
    {
     "data": {
      "text/plain": [
       "[{'nodes': [(_-3:Venue {constraints: ['CONSTRAINT ON ( venue:Venue ) ASSERT venue.name IS UNIQUE'], indexes: [], name: 'Venue'}),\n",
       "   (_-1:Article {constraints: ['CONSTRAINT ON ( article:Article ) ASSERT article.index IS UNIQUE'], indexes: [], name: 'Article'}),\n",
       "   (_-2:Author {constraints: ['CONSTRAINT ON ( author:Author ) ASSERT author.name IS UNIQUE'], indexes: [], name: 'Author'})],\n",
       "  'relationships': [(Article)-[:VENUE {}]->(Venue),\n",
       "   (Article)-[:AUTHOR {}]->(Author),\n",
       "   (Article)-[:CITED {}]->(Article)]}]"
      ]
     },
     "execution_count": 4,
     "metadata": {},
     "output_type": "execute_result"
    }
   ],
   "source": [
    "graph.run(\"CALL db.schema()\").data()"
   ]
  },
  {
   "cell_type": "markdown",
   "metadata": {},
   "source": [
    "If we run that query in the Neo4j Browser, we'll see the following visualisation:\n",
    "\n",
    "<img src=\"images/data-science-training.png\" alt=\"Graph Data Model\"/>\n"
   ]
  },
  {
   "cell_type": "markdown",
   "metadata": {},
   "source": [
    "Let's drill down a bit. How many nodes do we have for each of these labels?"
   ]
  },
  {
   "cell_type": "code",
   "execution_count": 5,
   "metadata": {},
   "outputs": [
    {
     "data": {
      "text/html": [
       "<div>\n",
       "<style scoped>\n",
       "    .dataframe tbody tr th:only-of-type {\n",
       "        vertical-align: middle;\n",
       "    }\n",
       "\n",
       "    .dataframe tbody tr th {\n",
       "        vertical-align: top;\n",
       "    }\n",
       "\n",
       "    .dataframe thead th {\n",
       "        text-align: right;\n",
       "    }\n",
       "</style>\n",
       "<table border=\"1\" class=\"dataframe\">\n",
       "  <thead>\n",
       "    <tr style=\"text-align: right;\">\n",
       "      <th></th>\n",
       "      <th>label</th>\n",
       "      <th>count</th>\n",
       "    </tr>\n",
       "  </thead>\n",
       "  <tbody>\n",
       "    <tr>\n",
       "      <th>2</th>\n",
       "      <td>Venue</td>\n",
       "      <td>4</td>\n",
       "    </tr>\n",
       "    <tr>\n",
       "      <th>1</th>\n",
       "      <td>Author</td>\n",
       "      <td>80299</td>\n",
       "    </tr>\n",
       "    <tr>\n",
       "      <th>0</th>\n",
       "      <td>Article</td>\n",
       "      <td>184313</td>\n",
       "    </tr>\n",
       "  </tbody>\n",
       "</table>\n",
       "</div>"
      ],
      "text/plain": [
       "     label   count\n",
       "2    Venue       4\n",
       "1   Author   80299\n",
       "0  Article  184313"
      ]
     },
     "execution_count": 5,
     "metadata": {},
     "output_type": "execute_result"
    }
   ],
   "source": [
    "result = {\"label\": [], \"count\": []}\n",
    "for label in graph.run(\"CALL db.labels()\").to_series():\n",
    "    query = f\"MATCH (:`{label}`) RETURN count(*) as count\"\n",
    "    count = graph.run(query).to_data_frame().iloc[0]['count']\n",
    "    result[\"label\"].append(label)\n",
    "    result[\"count\"].append(count)\n",
    "nodes_df = pd.DataFrame(data=result)\n",
    "nodes_df.sort_values(\"count\")"
   ]
  },
  {
   "cell_type": "markdown",
   "metadata": {},
   "source": [
    "We can visualize this counts using matplotlib with the following code:"
   ]
  },
  {
   "cell_type": "code",
   "execution_count": 6,
   "metadata": {},
   "outputs": [
    {
     "data": {
      "image/png": "[encoded data removed]",
      "text/plain": [
       "<Figure size 432x288 with 1 Axes>"
      ]
     },
     "metadata": {
      "needs_background": "light"
     },
     "output_type": "display_data"
    }
   ],
   "source": [
    "nodes_df.plot(kind='bar', x='label', y='count', legend=None, title=\"Node Cardinalities\")\n",
    "plt.yscale(\"log\")\n",
    "plt.xticks(rotation=45)\n",
    "plt.tight_layout()\n",
    "plt.show()"
   ]
  },
  {
   "cell_type": "markdown",
   "metadata": {},
   "source": [
    "And what types of relationships do we have?"
   ]
  },
  {
   "cell_type": "code",
   "execution_count": 7,
   "metadata": {},
   "outputs": [
    {
     "data": {
      "text/html": [
       "<div>\n",
       "<style scoped>\n",
       "    .dataframe tbody tr th:only-of-type {\n",
       "        vertical-align: middle;\n",
       "    }\n",
       "\n",
       "    .dataframe tbody tr th {\n",
       "        vertical-align: top;\n",
       "    }\n",
       "\n",
       "    .dataframe thead th {\n",
       "        text-align: right;\n",
       "    }\n",
       "</style>\n",
       "<table border=\"1\" class=\"dataframe\">\n",
       "  <thead>\n",
       "    <tr style=\"text-align: right;\">\n",
       "      <th></th>\n",
       "      <th>relType</th>\n",
       "      <th>count</th>\n",
       "    </tr>\n",
       "  </thead>\n",
       "  <tbody>\n",
       "    <tr>\n",
       "      <th>0</th>\n",
       "      <td>VENUE</td>\n",
       "      <td>51956</td>\n",
       "    </tr>\n",
       "    <tr>\n",
       "      <th>1</th>\n",
       "      <td>AUTHOR</td>\n",
       "      <td>140575</td>\n",
       "    </tr>\n",
       "    <tr>\n",
       "      <th>2</th>\n",
       "      <td>CITED</td>\n",
       "      <td>289908</td>\n",
       "    </tr>\n",
       "  </tbody>\n",
       "</table>\n",
       "</div>"
      ],
      "text/plain": [
       "  relType   count\n",
       "0   VENUE   51956\n",
       "1  AUTHOR  140575\n",
       "2   CITED  289908"
      ]
     },
     "execution_count": 7,
     "metadata": {},
     "output_type": "execute_result"
    }
   ],
   "source": [
    "result = {\"relType\": [], \"count\": []}\n",
    "for relationship_type in graph.run(\"CALL db.relationshipTypes()\").to_series():\n",
    "    query = f\"MATCH ()-[:`{relationship_type}`]->() RETURN count(*) as count\"\n",
    "    count = graph.run(query).to_data_frame().iloc[0]['count']\n",
    "    result[\"relType\"].append(relationship_type)\n",
    "    result[\"count\"].append(count)\n",
    "rels_df = pd.DataFrame(data=result)\n",
    "rels_df.sort_values(\"count\")"
   ]
  },
  {
   "cell_type": "markdown",
   "metadata": {},
   "source": [
    "We can visualize this counts using matplotlib with the following code:"
   ]
  },
  {
   "cell_type": "code",
   "execution_count": 8,
   "metadata": {},
   "outputs": [
    {
     "data": {
      "image/png": "[encoded data removed]",
      "text/plain": [
       "<Figure size 432x288 with 1 Axes>"
      ]
     },
     "metadata": {
      "needs_background": "light"
     },
     "output_type": "display_data"
    }
   ],
   "source": [
    "rels_df.plot(kind='bar', x='relType', y='count', legend=None, title=\"Relationship Cardinalities\")\n",
    "plt.xticks(rotation=45)\n",
    "plt.tight_layout()\n",
    "plt.show()"
   ]
  },
  {
   "cell_type": "markdown",
   "metadata": {},
   "source": [
    "Now let's explore the citation data. The following query finds 25 authors, articles, venues, and also shows the number of articles that article has cited, as well as the number of articles that it's been cited by."
   ]
  },
  {
   "cell_type": "code",
   "execution_count": 9,
   "metadata": {},
   "outputs": [
    {
     "data": {
      "text/html": [
       "<div>\n",
       "<style scoped>\n",
       "    .dataframe tbody tr th:only-of-type {\n",
       "        vertical-align: middle;\n",
       "    }\n",
       "\n",
       "    .dataframe tbody tr th {\n",
       "        vertical-align: top;\n",
       "    }\n",
       "\n",
       "    .dataframe thead th {\n",
       "        text-align: right;\n",
       "    }\n",
       "</style>\n",
       "<table border=\"1\" class=\"dataframe\">\n",
       "  <thead>\n",
       "    <tr style=\"text-align: right;\">\n",
       "      <th></th>\n",
       "      <th>article</th>\n",
       "      <th>author</th>\n",
       "      <th>citationsGiven</th>\n",
       "      <th>citationsReceived</th>\n",
       "      <th>venue</th>\n",
       "    </tr>\n",
       "  </thead>\n",
       "  <tbody>\n",
       "    <tr>\n",
       "      <th>0</th>\n",
       "      <td>A new algorithm of gray watermark embedding</td>\n",
       "      <td>Yongzeng Shen</td>\n",
       "      <td>2</td>\n",
       "      <td>0</td>\n",
       "      <td>Lecture Notes in Computer Science</td>\n",
       "    </tr>\n",
       "    <tr>\n",
       "      <th>1</th>\n",
       "      <td>Agent-based geo-simulation to support human pl...</td>\n",
       "      <td>Nabil Sahli</td>\n",
       "      <td>0</td>\n",
       "      <td>0</td>\n",
       "      <td>Lecture Notes in Computer Science</td>\n",
       "    </tr>\n",
       "    <tr>\n",
       "      <th>2</th>\n",
       "      <td>A Convex Hull-Based Fuzzy Regression to Inform...</td>\n",
       "      <td>Junzo Watada</td>\n",
       "      <td>9</td>\n",
       "      <td>0</td>\n",
       "      <td>international conference on software engineering</td>\n",
       "    </tr>\n",
       "    <tr>\n",
       "      <th>3</th>\n",
       "      <td>Hybrid test data generation</td>\n",
       "      <td>Qingkai Shi</td>\n",
       "      <td>6</td>\n",
       "      <td>0</td>\n",
       "      <td>international conference on software engineering</td>\n",
       "    </tr>\n",
       "    <tr>\n",
       "      <th>4</th>\n",
       "      <td>Classifier Conditional Posterior Probabilities</td>\n",
       "      <td>Robert P. W. Duin</td>\n",
       "      <td>4</td>\n",
       "      <td>5</td>\n",
       "      <td>Lecture Notes in Computer Science</td>\n",
       "    </tr>\n",
       "    <tr>\n",
       "      <th>5</th>\n",
       "      <td>Inferring multidimensional cubes for represent...</td>\n",
       "      <td>Roxana Danger</td>\n",
       "      <td>0</td>\n",
       "      <td>0</td>\n",
       "      <td>Lecture Notes in Computer Science</td>\n",
       "    </tr>\n",
       "    <tr>\n",
       "      <th>6</th>\n",
       "      <td>Remarks on Algorithm 332: Jacobi polynomials: ...</td>\n",
       "      <td>Arthur H. J. Sale</td>\n",
       "      <td>0</td>\n",
       "      <td>0</td>\n",
       "      <td>Communications of The ACM</td>\n",
       "    </tr>\n",
       "    <tr>\n",
       "      <th>7</th>\n",
       "      <td>Design Methodology for Web Services and Busine...</td>\n",
       "      <td>Jian Yang</td>\n",
       "      <td>1</td>\n",
       "      <td>1</td>\n",
       "      <td>Lecture Notes in Computer Science</td>\n",
       "    </tr>\n",
       "    <tr>\n",
       "      <th>8</th>\n",
       "      <td>Operation of residential hybrid renewable ener...</td>\n",
       "      <td>Ahmet Palazoglu</td>\n",
       "      <td>3</td>\n",
       "      <td>1</td>\n",
       "      <td>advances in computing and communications</td>\n",
       "    </tr>\n",
       "    <tr>\n",
       "      <th>9</th>\n",
       "      <td>Inductive Inference of Tree Automata by Recurs...</td>\n",
       "      <td>Giovanni Soda</td>\n",
       "      <td>8</td>\n",
       "      <td>0</td>\n",
       "      <td>Lecture Notes in Computer Science</td>\n",
       "    </tr>\n",
       "    <tr>\n",
       "      <th>10</th>\n",
       "      <td>Hybrid Queuing Strategy to Reduce Call Blockin...</td>\n",
       "      <td>Il-Sun Hwang</td>\n",
       "      <td>2</td>\n",
       "      <td>0</td>\n",
       "      <td>Lecture Notes in Computer Science</td>\n",
       "    </tr>\n",
       "    <tr>\n",
       "      <th>11</th>\n",
       "      <td>Breaking the memory wall in MonetDB</td>\n",
       "      <td>Peter Boncz</td>\n",
       "      <td>14</td>\n",
       "      <td>0</td>\n",
       "      <td>Communications of The ACM</td>\n",
       "    </tr>\n",
       "    <tr>\n",
       "      <th>12</th>\n",
       "      <td>Perfect Token Distribution on Trees</td>\n",
       "      <td>Marco Vassura</td>\n",
       "      <td>7</td>\n",
       "      <td>0</td>\n",
       "      <td>Lecture Notes in Computer Science</td>\n",
       "    </tr>\n",
       "    <tr>\n",
       "      <th>13</th>\n",
       "      <td>Comparative study of SRT-dividers in FPGA</td>\n",
       "      <td>Géry Jean Antoine Bioul</td>\n",
       "      <td>0</td>\n",
       "      <td>0</td>\n",
       "      <td>Lecture Notes in Computer Science</td>\n",
       "    </tr>\n",
       "    <tr>\n",
       "      <th>14</th>\n",
       "      <td>The Design and Performance of a Scalable ORB A...</td>\n",
       "      <td>Carlos O’Ryan</td>\n",
       "      <td>12</td>\n",
       "      <td>3</td>\n",
       "      <td>Lecture Notes in Computer Science</td>\n",
       "    </tr>\n",
       "    <tr>\n",
       "      <th>15</th>\n",
       "      <td>Not only digital: a review of ACM's early invo...</td>\n",
       "      <td>Charles Care</td>\n",
       "      <td>7</td>\n",
       "      <td>0</td>\n",
       "      <td>Communications of The ACM</td>\n",
       "    </tr>\n",
       "    <tr>\n",
       "      <th>16</th>\n",
       "      <td>A requirement-based approach to test product f...</td>\n",
       "      <td>Yves Le Traon</td>\n",
       "      <td>0</td>\n",
       "      <td>0</td>\n",
       "      <td>Lecture Notes in Computer Science</td>\n",
       "    </tr>\n",
       "    <tr>\n",
       "      <th>17</th>\n",
       "      <td>The impact of common e-business interfaces</td>\n",
       "      <td>Arvind Malhotra</td>\n",
       "      <td>1</td>\n",
       "      <td>0</td>\n",
       "      <td>Communications of The ACM</td>\n",
       "    </tr>\n",
       "    <tr>\n",
       "      <th>18</th>\n",
       "      <td>Hybrid Control of Automotive Powertrain System...</td>\n",
       "      <td>Jing Sun</td>\n",
       "      <td>0</td>\n",
       "      <td>0</td>\n",
       "      <td>Lecture Notes in Computer Science</td>\n",
       "    </tr>\n",
       "    <tr>\n",
       "      <th>19</th>\n",
       "      <td>The PLP System</td>\n",
       "      <td>Katsumi Nitta</td>\n",
       "      <td>8</td>\n",
       "      <td>0</td>\n",
       "      <td>Lecture Notes in Computer Science</td>\n",
       "    </tr>\n",
       "    <tr>\n",
       "      <th>20</th>\n",
       "      <td>A game theoretic approach for power aware midd...</td>\n",
       "      <td>Shivajit Mohapatra</td>\n",
       "      <td>16</td>\n",
       "      <td>0</td>\n",
       "      <td>Lecture Notes in Computer Science</td>\n",
       "    </tr>\n",
       "    <tr>\n",
       "      <th>21</th>\n",
       "      <td>Nodes' organization mechanisms on Campus Grid ...</td>\n",
       "      <td>Hong Luo</td>\n",
       "      <td>0</td>\n",
       "      <td>0</td>\n",
       "      <td>Lecture Notes in Computer Science</td>\n",
       "    </tr>\n",
       "    <tr>\n",
       "      <th>22</th>\n",
       "      <td>A Product Customization Module Based on Adapta...</td>\n",
       "      <td>Sascha Schmitt</td>\n",
       "      <td>6</td>\n",
       "      <td>0</td>\n",
       "      <td>Lecture Notes in Computer Science</td>\n",
       "    </tr>\n",
       "    <tr>\n",
       "      <th>23</th>\n",
       "      <td>Novel face detection method based on gabor fea...</td>\n",
       "      <td>Shengye Yan</td>\n",
       "      <td>18</td>\n",
       "      <td>0</td>\n",
       "      <td>Lecture Notes in Computer Science</td>\n",
       "    </tr>\n",
       "    <tr>\n",
       "      <th>24</th>\n",
       "      <td>Calysto: scalable and precise extended static ...</td>\n",
       "      <td>Alan J. Hu</td>\n",
       "      <td>29</td>\n",
       "      <td>6</td>\n",
       "      <td>international conference on software engineering</td>\n",
       "    </tr>\n",
       "  </tbody>\n",
       "</table>\n",
       "</div>"
      ],
      "text/plain": [
       "                                              article  \\\n",
       "0         A new algorithm of gray watermark embedding   \n",
       "1   Agent-based geo-simulation to support human pl...   \n",
       "2   A Convex Hull-Based Fuzzy Regression to Inform...   \n",
       "3                         Hybrid test data generation   \n",
       "4      Classifier Conditional Posterior Probabilities   \n",
       "5   Inferring multidimensional cubes for represent...   \n",
       "6   Remarks on Algorithm 332: Jacobi polynomials: ...   \n",
       "7   Design Methodology for Web Services and Busine...   \n",
       "8   Operation of residential hybrid renewable ener...   \n",
       "9   Inductive Inference of Tree Automata by Recurs...   \n",
       "10  Hybrid Queuing Strategy to Reduce Call Blockin...   \n",
       "11                Breaking the memory wall in MonetDB   \n",
       "12                Perfect Token Distribution on Trees   \n",
       "13          Comparative study of SRT-dividers in FPGA   \n",
       "14  The Design and Performance of a Scalable ORB A...   \n",
       "15  Not only digital: a review of ACM's early invo...   \n",
       "16  A requirement-based approach to test product f...   \n",
       "17         The impact of common e-business interfaces   \n",
       "18  Hybrid Control of Automotive Powertrain System...   \n",
       "19                                     The PLP System   \n",
       "20  A game theoretic approach for power aware midd...   \n",
       "21  Nodes' organization mechanisms on Campus Grid ...   \n",
       "22  A Product Customization Module Based on Adapta...   \n",
       "23  Novel face detection method based on gabor fea...   \n",
       "24  Calysto: scalable and precise extended static ...   \n",
       "\n",
       "                     author  citationsGiven  citationsReceived  \\\n",
       "0             Yongzeng Shen               2                  0   \n",
       "1               Nabil Sahli               0                  0   \n",
       "2              Junzo Watada               9                  0   \n",
       "3               Qingkai Shi               6                  0   \n",
       "4         Robert P. W. Duin               4                  5   \n",
       "5             Roxana Danger               0                  0   \n",
       "6         Arthur H. J. Sale               0                  0   \n",
       "7                 Jian Yang               1                  1   \n",
       "8           Ahmet Palazoglu               3                  1   \n",
       "9             Giovanni Soda               8                  0   \n",
       "10             Il-Sun Hwang               2                  0   \n",
       "11              Peter Boncz              14                  0   \n",
       "12            Marco Vassura               7                  0   \n",
       "13  Géry Jean Antoine Bioul               0                  0   \n",
       "14            Carlos O’Ryan              12                  3   \n",
       "15             Charles Care               7                  0   \n",
       "16            Yves Le Traon               0                  0   \n",
       "17          Arvind Malhotra               1                  0   \n",
       "18                 Jing Sun               0                  0   \n",
       "19            Katsumi Nitta               8                  0   \n",
       "20       Shivajit Mohapatra              16                  0   \n",
       "21                 Hong Luo               0                  0   \n",
       "22           Sascha Schmitt               6                  0   \n",
       "23              Shengye Yan              18                  0   \n",
       "24               Alan J. Hu              29                  6   \n",
       "\n",
       "                                               venue  \n",
       "0                  Lecture Notes in Computer Science  \n",
       "1                  Lecture Notes in Computer Science  \n",
       "2   international conference on software engineering  \n",
       "3   international conference on software engineering  \n",
       "4                  Lecture Notes in Computer Science  \n",
       "5                  Lecture Notes in Computer Science  \n",
       "6                          Communications of The ACM  \n",
       "7                  Lecture Notes in Computer Science  \n",
       "8           advances in computing and communications  \n",
       "9                  Lecture Notes in Computer Science  \n",
       "10                 Lecture Notes in Computer Science  \n",
       "11                         Communications of The ACM  \n",
       "12                 Lecture Notes in Computer Science  \n",
       "13                 Lecture Notes in Computer Science  \n",
       "14                 Lecture Notes in Computer Science  \n",
       "15                         Communications of The ACM  \n",
       "16                 Lecture Notes in Computer Science  \n",
       "17                         Communications of The ACM  \n",
       "18                 Lecture Notes in Computer Science  \n",
       "19                 Lecture Notes in Computer Science  \n",
       "20                 Lecture Notes in Computer Science  \n",
       "21                 Lecture Notes in Computer Science  \n",
       "22                 Lecture Notes in Computer Science  \n",
       "23                 Lecture Notes in Computer Science  \n",
       "24  international conference on software engineering  "
      ]
     },
     "execution_count": 9,
     "metadata": {},
     "output_type": "execute_result"
    }
   ],
   "source": [
    "exploratory_query = \"\"\"\n",
    "MATCH (author:Author)<-[:AUTHOR]-(article:Article)-[:VENUE]->(venue)\n",
    "RETURN article.title AS article, author.name AS author, venue.name AS venue, \n",
    "       size((article)-[:CITED]->()) AS citationsGiven, size((article)<-[:CITED]-()) AS citationsReceived\n",
    "ORDER BY rand()\n",
    "LIMIT 25\n",
    "\"\"\"\n",
    "\n",
    "graph.run(exploratory_query).to_data_frame()"
   ]
  },
  {
   "cell_type": "markdown",
   "metadata": {},
   "source": [
    "Let's look into the citation data more closely."
   ]
  },
  {
   "cell_type": "code",
   "execution_count": 10,
   "metadata": {},
   "outputs": [
    {
     "data": {
      "text/html": [
       "<div>\n",
       "<style scoped>\n",
       "    .dataframe tbody tr th:only-of-type {\n",
       "        vertical-align: middle;\n",
       "    }\n",
       "\n",
       "    .dataframe tbody tr th {\n",
       "        vertical-align: top;\n",
       "    }\n",
       "\n",
       "    .dataframe thead th {\n",
       "        text-align: right;\n",
       "    }\n",
       "</style>\n",
       "<table border=\"1\" class=\"dataframe\">\n",
       "  <thead>\n",
       "    <tr style=\"text-align: right;\">\n",
       "      <th></th>\n",
       "      <th>citations</th>\n",
       "    </tr>\n",
       "  </thead>\n",
       "  <tbody>\n",
       "    <tr>\n",
       "      <th>count</th>\n",
       "      <td>184313.000</td>\n",
       "    </tr>\n",
       "    <tr>\n",
       "      <th>mean</th>\n",
       "      <td>1.573</td>\n",
       "    </tr>\n",
       "    <tr>\n",
       "      <th>std</th>\n",
       "      <td>3.386</td>\n",
       "    </tr>\n",
       "    <tr>\n",
       "      <th>min</th>\n",
       "      <td>0.000</td>\n",
       "    </tr>\n",
       "    <tr>\n",
       "      <th>25%</th>\n",
       "      <td>1.000</td>\n",
       "    </tr>\n",
       "    <tr>\n",
       "      <th>50%</th>\n",
       "      <td>1.000</td>\n",
       "    </tr>\n",
       "    <tr>\n",
       "      <th>75%</th>\n",
       "      <td>2.000</td>\n",
       "    </tr>\n",
       "    <tr>\n",
       "      <th>90%</th>\n",
       "      <td>3.000</td>\n",
       "    </tr>\n",
       "    <tr>\n",
       "      <th>99%</th>\n",
       "      <td>12.000</td>\n",
       "    </tr>\n",
       "    <tr>\n",
       "      <th>max</th>\n",
       "      <td>276.000</td>\n",
       "    </tr>\n",
       "  </tbody>\n",
       "</table>\n",
       "</div>"
      ],
      "text/plain": [
       "       citations\n",
       "count 184313.000\n",
       "mean       1.573\n",
       "std        3.386\n",
       "min        0.000\n",
       "25%        1.000\n",
       "50%        1.000\n",
       "75%        2.000\n",
       "90%        3.000\n",
       "99%       12.000\n",
       "max      276.000"
      ]
     },
     "execution_count": 10,
     "metadata": {},
     "output_type": "execute_result"
    }
   ],
   "source": [
    "query = \"\"\"\n",
    "MATCH (a:Article)\n",
    "RETURN size((a)<-[:CITED]-()) AS citations\n",
    "\"\"\"\n",
    "\n",
    "citation_df = graph.run(query).to_data_frame()\n",
    "citation_df.describe([.25, .5, .75, .9, .99])"
   ]
  },
  {
   "cell_type": "markdown",
   "metadata": {},
   "source": [
    "Most articles are being cited very few times. 75% of articles have 3 citations or less. We do, however, have one article that's been cited more than 1,000 times. We'll use a log scale histogram to visualise the data;"
   ]
  },
  {
   "cell_type": "code",
   "execution_count": 11,
   "metadata": {},
   "outputs": [
    {
     "data": {
      "image/png": "[encoded data removed]",
      "text/plain": [
       "<Figure size 432x288 with 1 Axes>"
      ]
     },
     "metadata": {
      "needs_background": "light"
     },
     "output_type": "display_data"
    }
   ],
   "source": [
    "fig1, ax1 = plt.subplots()\n",
    "ax1.hist(pd.Series(citation_df['citations'].dropna()), 1250, density=True, facecolor='g', alpha=0.75)\n",
    "ax1.set_xscale(\"log\")\n",
    "plt.tight_layout()\n",
    "plt.show()"
   ]
  },
  {
   "cell_type": "markdown",
   "metadata": {},
   "source": [
    "## Exercise\n",
    "\n",
    "* Can you create a similar chart showing the articles that cite the most other papers?\n",
    "* What about a distribution of the number of articles published by authors?"
   ]
  }
 ],
 "metadata": {
  "kernelspec": {
   "display_name": "Python 3",
   "language": "python",
   "name": "python3"
  },
  "language_info": {
   "codemirror_mode": {
    "name": "ipython",
    "version": 3
   },
   "file_extension": ".py",
   "mimetype": "text/x-python",
   "name": "python",
   "nbconvert_exporter": "python",
   "pygments_lexer": "ipython3",
   "version": "3.7.3"
  }
 },
 "nbformat": 4,
 "nbformat_minor": 2
}
