{
 "cells": [
  {
   "cell_type": "markdown",
   "id": "d43fdc95",
   "metadata": {
    "slideshow": {
     "slide_type": "slide"
    }
   },
   "source": [
    "# Developing AI Applications\n",
    "* **Created by:** Eric Martinez\n",
    "* **For:** CSCI 4341 - Special Topics in CS\n",
    "* **At:** University of Texas Rio-Grande Valley"
   ]
  },
  {
   "cell_type": "markdown",
   "id": "66295bed",
   "metadata": {},
   "source": [
    "## Before you begin\n",
    "The OpenAI API provides access to powerful LLMs like GPT-3.5 and GPT-4, enabling developers to leverage these models in their applications. To access the API, sign up for an API key on the OpenAI website and follow the documentation to make API calls.\n",
    "\n",
    "For enterprise: Azure OpenAI offers a robust and scalable platform for deploying LLMs in enterprise applications. It provides features like security, compliance, and support, making it an ideal choice for businesses looking to leverage LLMs.\n",
    "    \n",
    "Options:\n",
    "* [[Free] Sign-up for access to my OpenAI service](https://ericmichael-openai-playground-utrgv.hf.space/) - _requires your UTRGV email and student ID_\n",
    "* [[Paid] Alternatively, sign-up for OpenAI API Access](https://platform.openai.com/signup)"
   ]
  },
  {
   "cell_type": "markdown",
   "id": "1e5427b2",
   "metadata": {},
   "source": [
    "## Step 0: Setup your `.env` file locally"
   ]
  },
  {
   "cell_type": "markdown",
   "id": "eac0dd64",
   "metadata": {},
   "source": [
    "Setup your `OPENAI_API_BASE` key and `OPENAI_API_KEY` in a file `.env` in this same folder."
   ]
  },
  {
   "cell_type": "markdown",
   "id": "0b8c0230",
   "metadata": {},
   "source": [
    "```sh\n",
    "# example .env contents (copy paste this into a .env file)\n",
    "OPENAI_API_BASE=yourapibase\n",
    "OPENAI_API_KEY=yourapikey\n",
    "```"
   ]
  },
  {
   "cell_type": "markdown",
   "id": "2f3c5ed6",
   "metadata": {},
   "source": [
    "Install the required dependencies."
   ]
  },
  {
   "cell_type": "code",
   "execution_count": null,
   "id": "e590fe8e",
   "metadata": {},
   "outputs": [],
   "source": [
    "%pip install -q -r requirements.txt"
   ]
  },
  {
   "cell_type": "markdown",
   "id": "6efd1387",
   "metadata": {
    "slideshow": {
     "slide_type": "slide"
    }
   },
   "source": [
    "## Rule of Thumb"
   ]
  },
  {
   "cell_type": "markdown",
   "id": "aa45f2ee",
   "metadata": {},
   "source": [
    "If you can write down the instructions such that a competent human assistant can do it, then an LLM can probably do it too."
   ]
  },
  {
   "cell_type": "markdown",
   "id": "a438d58e",
   "metadata": {
    "slideshow": {
     "slide_type": "slide"
    }
   },
   "source": [
    "## LLMs are good at"
   ]
  },
  {
   "cell_type": "markdown",
   "id": "ed432802",
   "metadata": {},
   "source": [
    "- Writing Tasks\n",
    "- Editing Tasks\n",
    "- Programming Tasks\n",
    "- Information Extraction / Summarization Tasks\n",
    "- Extrapolation (Opposite of Summarization) Tasks\n",
    "- Data Processing Tasks\n",
    "- Learning from examples (in-context learning)"
   ]
  },
  {
   "cell_type": "markdown",
   "id": "45ccaf0f",
   "metadata": {
    "slideshow": {
     "slide_type": "slide"
    }
   },
   "source": [
    "## LLMs are bad at"
   ]
  },
  {
   "cell_type": "markdown",
   "id": "53623145",
   "metadata": {},
   "source": [
    "- Things humans are bad at (trained on human data)\n",
    "- Reading your mind\n",
    "- Following poor instructions\n",
    "- Answering certain types of factional questions without a bank of facts to cite (hallucination)"
   ]
  },
  {
   "cell_type": "markdown",
   "id": "e5b6728e",
   "metadata": {
    "slideshow": {
     "slide_type": "slide"
    }
   },
   "source": [
    "What does the leading large language model, GPT-4, know?"
   ]
  },
  {
   "cell_type": "markdown",
   "id": "4406f93f",
   "metadata": {
    "slideshow": {
     "slide_type": "slide"
    }
   },
   "source": [
    "<go find the chart>"
   ]
  },
  {
   "cell_type": "markdown",
   "id": "a87c103c",
   "metadata": {
    "slideshow": {
     "slide_type": "slide"
    }
   },
   "source": [
    "#### How might GPT-4 have been trained? According to leaks and rumors\n",
    "\n",
    "- Estimated cost to train: ~$63 MILLION\n",
    "- Trained on data from the raw internet (controversial)\n",
    "    - Large amounts of scraped data: books, journals, scholarly articles\n",
    "    - Many code repositories from Github\n",
    "    - Reddit\n",
    "    - Websites\n",
    "    - Twitter\n",
    "    - YouTube transcripts\n",
    "    - Movies / TV shows\n",
    "- Refined from dataset produced by outsourced human annotators"
   ]
  },
  {
   "cell_type": "markdown",
   "id": "db266ad5",
   "metadata": {
    "slideshow": {
     "slide_type": "slide"
    }
   },
   "source": [
    "## Workflow: Developing AI-Powered Applications\n",
    "\n",
    "1. Prototyping: \n",
    "2. Prompt Tuning: \n",
    "3. Ideation / Experimentation: After prompt tuning efforts have been exhausted, thinking about novel design patterns, formats, or architectures that could lead to better results.\n",
    "4. Automating a Minimum Viable Prototype\n",
    "5. Collaboration\n",
    "6. Engineering\n",
    "7. Red-teaming\n",
    "8. Monitoring"
   ]
  },
  {
   "cell_type": "markdown",
   "id": "f4ba02bf",
   "metadata": {
    "slideshow": {
     "slide_type": "slide"
    }
   },
   "source": [
    "## Workflow: Prototyping\n",
    "\n",
    "1. Prototyping: \n",
    "    - Creating quick prompts in the playground with small examples."
   ]
  },
  {
   "cell_type": "markdown",
   "id": "5370fec5",
   "metadata": {
    "slideshow": {
     "slide_type": "slide"
    }
   },
   "source": [
    "## Workflow: Prompt Tuning\n",
    "\n",
    "2. Prompt Tuning: \n",
    "    - Incrementally improving the prompt, potentially adding things like in-context learning. \n",
    "    - Splitting into multiple prompts (chains). \n",
    "    - Avoiding coding. \n",
    "    - Looking for quick \"feedback\" in a low-stakes environment."
   ]
  },
  {
   "cell_type": "markdown",
   "id": "18eec2de",
   "metadata": {
    "slideshow": {
     "slide_type": "slide"
    }
   },
   "source": [
    "## Workflow: Ideation / Experimentation\n",
    "\n",
    "3. Ideation / Experimentation: After prompt tuning efforts have been exhausted, thinking about novel design patterns, formats, or architectures that could lead to better results.\n",
    "    - Retrieval Augmented Generation\n",
    "    - Function Calling\n",
    "    - Chain-of-thought - _Mention errata in previous lecture_\n",
    "    - Novel execution architectures: tree-of-thoughts, graphs"
   ]
  },
  {
   "cell_type": "markdown",
   "id": "b25fbce8",
   "metadata": {
    "slideshow": {
     "slide_type": "slide"
    }
   },
   "source": [
    "## Workflow: Automating the MVP\n",
    "\n",
    "4. Automating a Minimum Viable Prototype\n",
    "    - Quickly prototype an MVP that proves the concept / interface.\n",
    "    - Fail fast: It is ok for results to be wrong / inaccurate.\n",
    "    - Iterate reasonably: Don't go and design crazy solutions yet. Stick to prompting techniques / chains. "
   ]
  },
  {
   "cell_type": "markdown",
   "id": "0d0a978f",
   "metadata": {
    "slideshow": {
     "slide_type": "slide"
    }
   },
   "source": [
    "## Workflow: Collaboration\n",
    " \n",
    "5. Collaboration\n",
    "    - Involve stakeholders early\n",
    "    - Collaborate with subject matter experts to review results, conceptually perform TDD using SME feedback.\n",
    "    - Brainstorm improvement ideas\n",
    "    - Discuss benchmarking criteria"
   ]
  },
  {
   "cell_type": "markdown",
   "id": "5eeec342",
   "metadata": {
    "slideshow": {
     "slide_type": "slide"
    }
   },
   "source": [
    "## Workflow: Engineering\n",
    "\n",
    "6. Engineering\n",
    "    - Turn prototype into a software engineering project\n",
    "    - Version Control\n",
    "    - Automated testing\n",
    "    - Validation / Benchmarking\n",
    "    - CI/CD\n",
    "    - Security\n",
    "    - Iterate with advanced techniques\n",
    "    - Deployment"
   ]
  },
  {
   "cell_type": "markdown",
   "id": "a83c3076",
   "metadata": {
    "slideshow": {
     "slide_type": "slide"
    }
   },
   "source": [
    "## Workflow: Red-teaming\n",
    "\n",
    "7. Red-teaming\n",
    "    - _tbd_"
   ]
  },
  {
   "cell_type": "markdown",
   "id": "63f7b82b",
   "metadata": {
    "slideshow": {
     "slide_type": "slide"
    }
   },
   "source": [
    "## Workflow: Monitoring\n",
    "\n",
    "8. Monitoring\n",
    "    - _tbd_"
   ]
  },
  {
   "cell_type": "markdown",
   "id": "7aadc569",
   "metadata": {
    "slideshow": {
     "slide_type": "slide"
    }
   },
   "source": [
    "## Workflow: Developing AI-Powered Applications\n",
    "\n",
    "1. Prototyping: \n",
    "2. Prompt Tuning: \n",
    "3. Ideation / Experimentation: After prompt tuning efforts have been exhausted, thinking about novel design patterns, formats, or architectures that could lead to better results.\n",
    "4. Automating a Minimum Viable Prototype\n",
    "5. Collaboration\n",
    "6. Engineering\n",
    "7. Red-teaming\n",
    "8. Monitoring"
   ]
  },
  {
   "cell_type": "markdown",
   "id": "8639fc44",
   "metadata": {
    "slideshow": {
     "slide_type": "slide"
    }
   },
   "source": [
    "## Prototyping: How do we get LLMs to actually do things?\n",
    "#### English as as Programming Language"
   ]
  },
  {
   "cell_type": "code",
   "execution_count": null,
   "id": "88337a8b",
   "metadata": {
    "slideshow": {
     "slide_type": "slide"
    }
   },
   "outputs": [],
   "source": [
    "from dotenv import load_dotenv\n",
    "\n",
    "load_dotenv()  # take environment variables from .env.\n",
    "\n",
    "import openai\n",
    "\n",
    "# Define a function to get the AI's reply using the OpenAI API\n",
    "def get_ai_reply(message, model=\"gpt-3.5-turbo\", system_message=None, temperature=0):\n",
    "    # Initialize the messages list\n",
    "    messages = []\n",
    "    \n",
    "    # Add the system message to the messages list\n",
    "    if system_message is not None:\n",
    "        messages += [{\"role\": \"system\", \"content\": system_message}]\n",
    "    \n",
    "    # Add the user's message to the messages list\n",
    "    messages += [{\"role\": \"user\", \"content\": message}]\n",
    "    \n",
    "    # Make an API call to the OpenAI ChatCompletion endpoint with the model and messages\n",
    "    completion = openai.ChatCompletion.create(\n",
    "        model=model,\n",
    "        messages=messages,\n",
    "        temperature=temperature\n",
    "    )\n",
    "    \n",
    "    # Extract and return the AI's response from the API response\n",
    "    return completion.choices[0].message.content.strip()"
   ]
  },
  {
   "cell_type": "markdown",
   "id": "9dae92b8",
   "metadata": {
    "slideshow": {
     "slide_type": "slide"
    }
   },
   "source": [
    "## Prototyping\n",
    "#### Example Task: Clean up some messy data\n",
    "\n",
    "**Input:** \"Patient John, aged 42 years, reported a stiff neck and a constant, throbbing headache for the past three days. Symptoms are severe in the morning. Patient Mary, 56 years old, complained about abdominal pain and vomiting for the last two days. Pain is severe and the vomiting is recurring after meals. Young patient Timothy, 7 years old, has been experiencing mild fever and a runny nose for five days, symptoms are worse in the evening. Lastly, patient Lisa, 36 years old, reported chronic low back pain for two weeks, the pain is moderate and often increases with physical activity.\"\n",
    "\n",
    "**Output:** a nice spreadsheet\n",
    "\n",
    "**Validation Example:** \"Resident Noah, a 65-year-old, has had hypertension and intermittent chest discomfort for the last week. Discomfort is particularly noticeable after physical activity. Emma, a 25-year-old, has reported a rash and joint pain that began three days ago and seems to increase in severity at night. Another patient, Lucas, aged 33, has been experiencing frequent urination and weight loss over the past month, with mild discomfort reported. Finally, Olivia, a 48-year-old, has a recurring dry cough and feeling of breathlessness for the last two weeks, primarily occurring during the daytime.\"\n"
   ]
  },
  {
   "cell_type": "markdown",
   "id": "6b317fcd",
   "metadata": {
    "slideshow": {
     "slide_type": "slide"
    }
   },
   "source": [
    "## Prototyping\n",
    "Go to playground and play around first"
   ]
  },
  {
   "cell_type": "markdown",
   "id": "53b868ed",
   "metadata": {
    "slideshow": {
     "slide_type": "slide"
    }
   },
   "source": [
    "**Basic Prompt:** \"You will be provided with unstructured data, and your task is to parse it into CSV format.\""
   ]
  },
  {
   "cell_type": "markdown",
   "id": "af1ad9b9",
   "metadata": {
    "slideshow": {
     "slide_type": "slide"
    }
   },
   "source": [
    "## Prototyping: A helpful structure that I use\n",
    "\n",
    "- Supply 'priming' information - you are an (expert, assistant, programmer, ...)\n",
    "- Supply general task information and instructions\n",
    "- Supply format constraints\n",
    "- Supply examples: known as _in-context learning_\n",
    "- Supply additional context useful for solving the problem\n",
    "- Supply the current task description\n",
    "\n",
    "Note: You DO NOT need to use an LLM as a 'chatbot'"
   ]
  },
  {
   "cell_type": "markdown",
   "id": "abd0d7cf",
   "metadata": {
    "slideshow": {
     "slide_type": "slide"
    }
   },
   "source": [
    "Activity: As a class try to improve the example"
   ]
  },
  {
   "cell_type": "markdown",
   "id": "49943245",
   "metadata": {
    "slideshow": {
     "slide_type": "slide"
    }
   },
   "source": [
    "## Prototyping: Revised Example\n",
    "\n",
    "```\n",
    "You are an expert in medical transcription.\n",
    "\n",
    "## Task\n",
    "\n",
    "You will be provided with unstructured data, and your task is to parse it into CSV format.\n",
    "\n",
    "## Format \n",
    "\n",
    "The headers for your CSV output are as follows:\n",
    "patient_name, age, symptoms, duration, additional_information\n",
    "\n",
    "Always include the header again in your response.\n",
    "\n",
    "## Example\n",
    "\n",
    "User: \"Patient John, aged 42 years, reported a stiff neck and a constant, throbbing headache for the past three days. Symptoms are severe in the morning. Patient Mary, 56 years old, complained about abdominal pain and vomiting for the last two days. Pain is severe and the vomiting is recurring after meals. Young patient Timothy, 7 years old, has been experiencing mild fever and a runny nose for five days, symptoms are worse in the evening. Lastly, patient Lisa, 36 years old, reported chronic low back pain for two weeks, the pain is moderate and often increases with physical activity.\"\n",
    "\n",
    "Assistant:\n",
    "patient_name, age, symptoms, duration, additional_information\n",
    "John,42,\"Stiff neck and constant, throbbing headache\",Three days,Severe in the morning\n",
    "Mary,56,Abdominal pain and vomiting,Two days,Severe and recurring after meals\n",
    "Timothy,7,Mild fever and a runny nose,Five days,Worse in the evening\n",
    "Lisa,36,Chronic low back pain,Two weeks,Moderate and increases with physical activity\n",
    "\n",
    "## Begin\n",
    "```"
   ]
  },
  {
   "cell_type": "markdown",
   "id": "4de56870",
   "metadata": {
    "slideshow": {
     "slide_type": "slide"
    }
   },
   "source": [
    "## Fast-Forward: Automating"
   ]
  },
  {
   "cell_type": "code",
   "execution_count": null,
   "id": "d27a05b0",
   "metadata": {
    "slideshow": {
     "slide_type": "slide"
    }
   },
   "outputs": [],
   "source": [
    "def text_to_csv_string(text):\n",
    "    prompt=\"\"\"\n",
    "    You are an expert in medical transcription.\n",
    "\n",
    "    ## Task\n",
    "\n",
    "    You will be provided with unstructured data, and your task is to parse it into CSV format.\n",
    "\n",
    "    ## Format \n",
    "\n",
    "    The headers for your CSV output are as follows:\n",
    "    patient_name, age, symptoms, duration, additional_information\n",
    "\n",
    "    Always include the header again in your response.\n",
    "\n",
    "    ## Example\n",
    "\n",
    "    User: \"Patient John, aged 42 years, reported a stiff neck and a constant, throbbing headache for the past three days. Symptoms are severe in the morning. Patient Mary, 56 years old, complained about abdominal pain and vomiting for the last two days. Pain is severe and the vomiting is recurring after meals. Young patient Timothy, 7 years old, has been experiencing mild fever and a runny nose for five days, symptoms are worse in the evening. Lastly, patient Lisa, 36 years old, reported chronic low back pain for two weeks, the pain is moderate and often increases with physical activity.\"\n",
    "\n",
    "    Assistant:\n",
    "    patient_name, age, symptoms, duration, additional_information\n",
    "    John,42,\"Stiff neck and constant, throbbing headache\",Three days,Severe in the morning\n",
    "    Mary,56,Abdominal pain and vomiting,Two days,Severe and recurring after meals\n",
    "    Timothy,7,Mild fever and a runny nose,Five days,Worse in the evening\n",
    "    Lisa,36,Chronic low back pain,Two weeks,Moderate and increases with physical activity\n",
    "\n",
    "    ## Begin\n",
    "    \"\"\"\n",
    "\n",
    "    csv_text = get_ai_reply(text, system_message=prompt) # get csv from openai\n",
    "    return csv_text\n",
    "\n",
    "text = \"Resident Noah, a 65-year-old, has had hypertension and intermittent chest discomfort for the last week. Discomfort is particularly noticeable after physical activity. Emma, a 25-year-old, has reported a rash and joint pain that began three days ago and seems to increase in severity at night. Another patient, Lucas, aged 33, has been experiencing frequent urination and weight loss over the past month, with mild discomfort reported. Finally, Olivia, a 48-year-old, has a recurring dry cough and feeling of breathlessness for the last two weeks, primarily occurring during the daytime.\"\n",
    "print(text_to_csv_string(text))\n"
   ]
  },
  {
   "cell_type": "markdown",
   "id": "1c12a6ad",
   "metadata": {
    "slideshow": {
     "slide_type": "slide"
    }
   },
   "source": [
    "## That's nice and all, but its still just a string... we can't really use that in code very easily"
   ]
  },
  {
   "cell_type": "code",
   "execution_count": null,
   "id": "4c25fb80",
   "metadata": {
    "slideshow": {
     "slide_type": "slide"
    }
   },
   "outputs": [],
   "source": [
    "%pip install pandas "
   ]
  },
  {
   "cell_type": "code",
   "execution_count": null,
   "id": "01dbd7b3",
   "metadata": {
    "slideshow": {
     "slide_type": "slide"
    }
   },
   "outputs": [],
   "source": [
    "import pandas as pd\n",
    "import io   \n",
    "\n",
    "def df_from_text(text):\n",
    "    prompt=\"\"\"\n",
    "    You are an expert in medical transcription.\n",
    "\n",
    "    ## Task\n",
    "\n",
    "    You will be provided with unstructured data, and your task is to parse it into CSV format.\n",
    "\n",
    "    ## Format \n",
    "\n",
    "    The headers for your CSV output are as follows:\n",
    "    patient_name, age, symptoms, duration, additional_information\n",
    "\n",
    "    Always include the header again in your response.\n",
    "\n",
    "    ## Example\n",
    "\n",
    "    User: \"Patient John, aged 42 years, reported a stiff neck and a constant, throbbing headache for the past three days. Symptoms are severe in the morning. Patient Mary, 56 years old, complained about abdominal pain and vomiting for the last two days. Pain is severe and the vomiting is recurring after meals. Young patient Timothy, 7 years old, has been experiencing mild fever and a runny nose for five days, symptoms are worse in the evening. Lastly, patient Lisa, 36 years old, reported chronic low back pain for two weeks, the pain is moderate and often increases with physical activity.\"\n",
    "\n",
    "    Assistant:\n",
    "    patient_name, age, symptoms, duration, additional_information\n",
    "    John,42,\"Stiff neck and constant, throbbing headache\",Three days,Severe in the morning\n",
    "    Mary,56,Abdominal pain and vomiting,Two days,Severe and recurring after meals\n",
    "    Timothy,7,Mild fever and a runny nose,Five days,Worse in the evening\n",
    "    Lisa,36,Chronic low back pain,Two weeks,Moderate and increases with physical activity\n",
    "\n",
    "    ## Begin\n",
    "    \"\"\"\n",
    "\n",
    "    csv_text = get_ai_reply(text, system_message=prompt) # get csv from openai\n",
    "    df = pd.read_csv(io.StringIO(csv_text)) # convert to pandas dataframe\n",
    "    return df"
   ]
  },
  {
   "cell_type": "code",
   "execution_count": null,
   "id": "52b9b850",
   "metadata": {
    "slideshow": {
     "slide_type": "slide"
    }
   },
   "outputs": [],
   "source": [
    "text = \"Resident Noah, a 65-year-old, has had hypertension and intermittent chest discomfort for the last week. Discomfort is particularly noticeable after physical activity. Emma, a 25-year-old, has reported a rash and joint pain that began three days ago and seems to increase in severity at night. Another patient, Lucas, aged 33, has been experiencing frequent urination and weight loss over the past month, with mild discomfort reported. Finally, Olivia, a 48-year-old, has a recurring dry cough and feeling of breathlessness for the last two weeks, primarily occurring during the daytime.\"\n",
    "df = df_from_text(text)\n",
    "display(df)"
   ]
  },
  {
   "cell_type": "markdown",
   "id": "34a4b26c",
   "metadata": {
    "slideshow": {
     "slide_type": "slide"
    }
   },
   "source": [
    "## It works!\n",
    "\n",
    "So far we:\n",
    "- prototyped a prompt\n",
    "- iterated on it until it looked 'good enough'\n",
    "- wrote code to automate the prompt and extract the information into CSV\n",
    "- wrote code that uses the CSV as a Pandas Dataframe, which now allows us to use that data for a variety of purposes"
   ]
  },
  {
   "cell_type": "markdown",
   "id": "6c063eba",
   "metadata": {
    "slideshow": {
     "slide_type": "slide"
    }
   },
   "source": [
    "## But... but... our user's don't use Python or Jupyter? This can't be it?"
   ]
  },
  {
   "cell_type": "markdown",
   "id": "eaba7e37",
   "metadata": {
    "slideshow": {
     "slide_type": "slide"
    }
   },
   "source": [
    "## Fine let's make this into an app then."
   ]
  },
  {
   "cell_type": "code",
   "execution_count": null,
   "id": "ce073879",
   "metadata": {
    "slideshow": {
     "slide_type": "slide"
    }
   },
   "outputs": [],
   "source": [
    "import gradio as gr\n",
    "\n",
    "def parse_text(text):\n",
    "    df = df_from_text(text)\n",
    "    csv_location = \"output.csv\"\n",
    "    df.to_csv(csv_location)\n",
    "    return df, csv_location\n",
    "\n",
    "with gr.Blocks() as demo:\n",
    "    with gr.Tab(\"Unstructured Notes to CSV\"):\n",
    "        with gr.Row():\n",
    "            with gr.Column():\n",
    "                notes = gr.Textbox(label=\"Notes\", lines=5)\n",
    "                btn = gr.Button(value =\"Submit\")\n",
    "                table = gr.Dataframe(label=\"Results\")\n",
    "                csv_file = gr.File(label=\"CSV Output\", interactive=False)\n",
    "            btn.click(parse_text, inputs = [notes], outputs = [table, csv_file])\n",
    "    demo.launch(share=True)\n"
   ]
  },
  {
   "cell_type": "markdown",
   "id": "4d3353b4",
   "metadata": {},
   "source": [
    "## Key Takeaways so far\n",
    "\n",
    "- LLMs know a lot more than the average person, for things it doesn't know well, include context, background, instructions, examples in the prompt.\n",
    "- If you can formulate a problem and how to solve it, an LLM can probably do it.\n",
    "- We can use code to automate and orchestrate these interactions.\n",
    "- We can design user interfaces to make this more useful to humans.\n",
    "- We can practice Agile methodologies when engaging with customers and stakeholders to incrementally deliver higher-quality results and foster collaboration."
   ]
  },
  {
   "cell_type": "markdown",
   "id": "40b863ff",
   "metadata": {
    "slideshow": {
     "slide_type": "-"
    }
   },
   "source": [
    "That's it! 🎉 "
   ]
  }
 ],
 "metadata": {
  "celltoolbar": "Slideshow",
  "kernelspec": {
   "display_name": "Python 3 (ipykernel)",
   "language": "python",
   "name": "python3"
  },
  "language_info": {
   "codemirror_mode": {
    "name": "ipython",
    "version": 3
   },
   "file_extension": ".py",
   "mimetype": "text/x-python",
   "name": "python",
   "nbconvert_exporter": "python",
   "pygments_lexer": "ipython3",
   "version": "3.9.6"
  }
 },
 "nbformat": 4,
 "nbformat_minor": 5
}
