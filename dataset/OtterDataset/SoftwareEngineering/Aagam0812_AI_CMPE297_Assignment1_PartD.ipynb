{
  "nbformat": 4,
  "nbformat_minor": 0,
  "metadata": {
    "colab": {
      "provenance": [],
      "toc_visible": true
    },
    "kernelspec": {
      "name": "python3",
      "display_name": "Python 3"
    },
    "language_info": {
      "name": "python"
    }
  },
  "cells": [
    {
      "cell_type": "markdown",
      "source": [
        "# Showcasing 10 novel usecases of long context of gemini\n",
        "\n",
        "1. Summarizing long documents using the Gemini API.\n",
        "2. Analyzing a large codebase for improvements.\n",
        "3. Answering questions about historical texts using long context.\n",
        "4. Analyzing and evaluating conversation transcripts.\n",
        "5. Generating reports based on multiple research papers.\n",
        "6. Comparing and analyzing legal documents for key differences.\n",
        "7. Generating creative stories using detailed prompts.\n",
        "8. Analyzing long financial reports to provide insights.\n",
        "9. Translating substantial texts while maintaining context.\n",
        "10. Creating and analyzing a synthetic dataset using generated text."
      ],
      "metadata": {
        "id": "YnitG8wzJ-zs"
      }
    },
    {
      "cell_type": "code",
      "execution_count": 1,
      "metadata": {
        "id": "01TFJ9v2--Y4"
      },
      "outputs": [],
      "source": [
        "!pip install -q -U google-generativeai"
      ]
    },
    {
      "cell_type": "code",
      "source": [
        "!pip install PyPDF2"
      ],
      "metadata": {
        "colab": {
          "base_uri": "https://localhost:8080/"
        },
        "id": "Aedc5NQP2sCX",
        "outputId": "c9bd4d76-bd33-4ccf-aa0a-fd2d05fc6043"
      },
      "execution_count": 14,
      "outputs": [
        {
          "output_type": "stream",
          "name": "stdout",
          "text": [
            "Collecting PyPDF2\n",
            "  Downloading pypdf2-3.0.1-py3-none-any.whl.metadata (6.8 kB)\n",
            "Downloading pypdf2-3.0.1-py3-none-any.whl (232 kB)\n",
            "\u001b[?25l   \u001b[90m━━━━━━━━━━━━━━━━━━━━━━━━━━━━━━━━━━━━━━━━\u001b[0m \u001b[32m0.0/232.6 kB\u001b[0m \u001b[31m?\u001b[0m eta \u001b[36m-:--:--\u001b[0m\r\u001b[2K   \u001b[91m━━━━━━━━━━━━━━━━━━━━━━━━━━━━━━━━━━━━━━\u001b[0m\u001b[91m╸\u001b[0m\u001b[90m━\u001b[0m \u001b[32m225.3/232.6 kB\u001b[0m \u001b[31m9.6 MB/s\u001b[0m eta \u001b[36m0:00:01\u001b[0m\r\u001b[2K   \u001b[90m━━━━━━━━━━━━━━━━━━━━━━━━━━━━━━━━━━━━━━━━\u001b[0m \u001b[32m232.6/232.6 kB\u001b[0m \u001b[31m6.2 MB/s\u001b[0m eta \u001b[36m0:00:00\u001b[0m\n",
            "\u001b[?25hInstalling collected packages: PyPDF2\n",
            "Successfully installed PyPDF2-3.0.1\n"
          ]
        }
      ]
    },
    {
      "cell_type": "code",
      "source": [
        "import PyPDF2\n",
        "import requests\n",
        "import google.generativeai as genai\n",
        "from google.colab import userdata\n",
        "import os\n",
        "from IPython.display import Markdown\n",
        "GOOGLE_API_KEY=userdata.get('GOOGLE_API_KEY')\n",
        "genai.configure(api_key=GOOGLE_API_KEY)\n"
      ],
      "metadata": {
        "id": "XHCDpq5d_LOu"
      },
      "execution_count": 33,
      "outputs": []
    },
    {
      "cell_type": "code",
      "source": [
        "\n",
        "def query_gemini(prompt):\n",
        "  #model = genai.GenerativeModel(\"gemini-1.5-pro\")\n",
        "  model= genai.GenerativeModel(\"gemini-1.5-flash\")\n",
        "  response = model.generate_content(prompt)\n",
        "  return response.text"
      ],
      "metadata": {
        "id": "Zxd6-GWD_SnD"
      },
      "execution_count": 29,
      "outputs": []
    },
    {
      "cell_type": "markdown",
      "source": [
        "# Use Case 1: Summarizing a long document:"
      ],
      "metadata": {
        "id": "Diiiloc9ANEL"
      }
    },
    {
      "cell_type": "code",
      "source": [
        "def read_pdf(file_path):\n",
        "    with open(file_path, 'rb') as file:\n",
        "        pdf_reader = PyPDF2.PdfReader(file)\n",
        "        text = \"\"\n",
        "        for page in pdf_reader.pages:\n",
        "            text += page.extract_text()\n",
        "    return text"
      ],
      "metadata": {
        "id": "yyMB0F_82jxB"
      },
      "execution_count": 16,
      "outputs": []
    },
    {
      "cell_type": "code",
      "source": [
        "pdf_path = '/content/drive/MyDrive/CMPE297/Assignment1/Bytebytego_Big_Archive_System_Design_2023.pdf'\n",
        "long_text = read_pdf(pdf_path)\n"
      ],
      "metadata": {
        "id": "SGRvpI2K3TzQ"
      },
      "execution_count": 17,
      "outputs": []
    },
    {
      "cell_type": "code",
      "source": [
        "response=query_gemini(f\"Summarize important part of this document: {long_text}\")\n",
        "Markdown(response)"
      ],
      "metadata": {
        "colab": {
          "base_uri": "https://localhost:8080/",
          "height": 884
        },
        "id": "kAivcyC4mg0n",
        "outputId": "87c95e5d-bbaf-4abc-ceab-3ff44b02abff"
      },
      "execution_count": 34,
      "outputs": [
        {
          "output_type": "execute_result",
          "data": {
            "text/plain": [
              "<IPython.core.display.Markdown object>"
            ],
            "text/markdown": "This document is a collection of summaries and explanations on various topics related to software engineering, cloud computing, and data structures. Here's a breakdown of the key topics covered:\n\n**API Testing**\n\n* The document explains nine types of API testing, including smoke testing, functional testing, integration testing, regression testing, load testing, stress testing, security testing, UI testing, and fuzz testing.\n\n**Data Transmission and Networking**\n\n* The document describes how data is sent over the internet, with explanations of the OSI model and TCP/IP.\n* It also details popular network protocols, including HTTP, HTTPS, WebSockets, TCP, UDP, SMTP, and FTP.\n\n**Database Concepts**\n\n* The document explains the ACID properties of database transactions (Atomicity, Consistency, Isolation, Durability).\n* It also covers CAP theorem, BASE principle, and SOLID design principles.\n\n**Architectural Patterns and Styles**\n\n* The document lists and describes popular architectural patterns, such as MVC, MVP, MVVM, and VIPER.\n* It also provides a comparison of API architectural styles, including RESTful, SOAP, GraphQL, gRPC, WebSockets, and Webhooks.\n\n**Cloud Computing and Microservices**\n\n* The document outlines the evolution of cloud computing from IaaS (Infrastructure as a Service) to PaaS (Platform as a Service) and Cloud-Native.\n* It also discusses the benefits and challenges of microservices architecture.\n* Key cloud services (AWS, Azure, GCP) and their respective components are compared.\n\n**Security and Identity Management**\n\n* The document explains various authentication methods used in REST APIs, such as Basic Authentication, Token Authentication, OAuth, and API Key Authentication.\n* It also describes how JWT (JSON Web Token) works.\n* The document delves into password management, discussing methods for storing passwords securely and how to validate them.\n\n**System Design and Interview Preparation**\n\n* The document provides a checklist for discussing system design problems in interviews.\n* It also outlines popular system design patterns, like Load Balancing, API Gateway, CDN, Database, Cache, Message Queue, and Unique ID Generation.\n* Recommendations for interview preparation materials are provided for various categories (coding, system design, behavioral, OOD, and mock interviews).\n\n**Specific Technologies**\n\n* The document explains how Docker works and discusses its relevance in today's context. \n* It also contrasts Docker with Kubernetes, discussing when to choose each technology.\n* Detailed explanations are provided for Kafka, Kubernetes, and various ID generators used in distributed systems.\n* The workings of ChatGPT and Google Authenticator are also explained.\n\n**Data Structures and Algorithms**\n\n* Common data structures and their everyday use cases are described, such as lists, stacks, queues, heaps, trees, graphs, and R-trees.\n* Popular algorithms used in system design interviews are also listed.\n\n**Other Notable Topics**\n\n* The document includes information on the Linux boot process, the evolution of message queue architectures (IBMMQ, RabbitMQ, Kafka, Pulsar), and how companies ship code to production.\n* It also covers various Linux commands, best practices for developing microservices, and principles for building resilient payment systems.\n\nThe document serves as a valuable resource for anyone interested in understanding fundamental concepts in software engineering, cloud computing, and related technologies. It offers concise explanations, visual illustrations, and insights into real-world applications, making it a helpful tool for both beginners and experienced professionals. \n"
          },
          "metadata": {},
          "execution_count": 34
        }
      ]
    },
    {
      "cell_type": "markdown",
      "source": [
        "#Usecase 2: Analyzing a large codebase:"
      ],
      "metadata": {
        "id": "870kG80X5Zsx"
      }
    },
    {
      "cell_type": "code",
      "source": [
        "def read_files(directory):\n",
        "    code = \"\"\n",
        "    for root, dirs, files in os.walk(directory):\n",
        "        for file in files:\n",
        "            if file.endswith('.py'):\n",
        "                with open(os.path.join(root, file), 'r') as f:\n",
        "                    code += f.read() + \"\\n\\n\"\n",
        "    return code\n",
        "\n",
        "codebase = read_files('/content/drive/MyDrive/learning-mgmt-main')\n",
        "\n",
        "response = query_gemini(f\"Analyze this codebase and suggest improvements: {codebase}\")\n",
        "Markdown(response)"
      ],
      "metadata": {
        "colab": {
          "base_uri": "https://localhost:8080/",
          "height": 1000
        },
        "id": "qE0m1hni3fLX",
        "outputId": "f690c671-d739-4ca0-df2e-e7758dc953f0"
      },
      "execution_count": 35,
      "outputs": [
        {
          "output_type": "execute_result",
          "data": {
            "text/plain": [
              "<IPython.core.display.Markdown object>"
            ],
            "text/markdown": "## Codebase Analysis and Improvement Suggestions:\n\nThis codebase implements a basic Learning Management System (LMS) using Flask and SQLAlchemy. While it provides a functional foundation, there are several areas where improvements can be made to enhance its structure, security, and user experience.\n\n**1. Naming Conventions:**\n\n* **Use snake_case for variable and function names.**  Currently, you use camelCase for some variables (e.g., `course_record`, `student_res`) while using snake_case for others (e.g., `course_id`, `faculty_id`). Consistency is crucial. \n* **Use plural names for tables and models.**  You have `Users` and `Student`, but `Faculty`, `announcements`, and `assignments`.  Use `Users`, `Students`, `Faculties`, `Announcements`, and `Assignments`.\n* **Be consistent with capitalization.**  `Users`, `Courses`, `Student`, `Faculty`, and `announcements` should all be capitalized consistently.\n\n**2. Model Design:**\n\n* **Simplify User Management:** The current system uses separate `Users`, `Student`, and `Faculty` models, leading to redundant fields and potential data inconsistencies. Consider using a single `User` model with a `role` field and add additional attributes specific to each role (e.g., `semester` for students, `department` for faculty) using a `relationship` in SQLAlchemy.\n* **Relationships and Data Integrity:**  \n    * Define relationships between models to enforce data integrity and simplify queries. For example, a `Student` should have a `one-to-many` relationship with `student_courses`, and a `Course` should have a `many-to-many` relationship with both `Students` and `Faculties`. \n    * Consider using SQLAlchemy's `backref` to simplify navigation between related models.\n* **Redundant Data:** Fields like `username` in `Student` and `Faculty` models are redundant and can be derived from the `User` model. This reduces duplication and improves data consistency.\n* **Data Types:**\n    * Use appropriate data types for fields.  For example, `post_date` and `due_date` in `assignments` should likely be `DateTime` fields.\n    * `Enum` fields are useful, but avoid using `Yes`, `No`, and `NA` strings. Define your own enums, e.g., `published_status = Enum('Published', 'Draft', 'Archived')`.\n\n**3. Security:**\n\n* **Password Hashing:**  You're using `generate_password_hash` and `check_password_hash`, which is excellent.  However, consider using a stronger hashing algorithm like Argon2, which is recommended by NIST.\n* **Input Validation:**  Sanitize and validate all user input to prevent common vulnerabilities like SQL injection and cross-site scripting (XSS). Use Flask's `request.form` and SQLAlchemy's `bindparam` to protect your database.\n* **Session Management:**  Implement proper session management using Flask's built-in `session` object. Use secure cookies and encrypt session data for added protection.\n* **Authorization:**  Use Flask-Login or a similar library to manage user authentication and authorization. This simplifies user login and restricts access to different resources based on their roles.\n* **HTTPS:**  Enable HTTPS (SSL) to secure the communication between your application and users.\n\n**4. Code Structure:**\n\n* **Route Organization:**  Group related routes together using Blueprint. This makes your application easier to manage and understand.\n* **Template Organization:**  Use a templating engine like Jinja2 and organize templates in a logical way.\n* **Code Reusability:**  Extract common functions and logic into separate modules. For example, create a `utils.py` file to handle user authentication, data validation, and other utility functions.\n\n**5. User Experience:**\n\n* **Clear Error Handling:**  Provide meaningful error messages to users. Don't just display generic \"Error\" messages.\n* **Form Validation:**  Validate form data client-side and server-side for better user experience. Use JavaScript or a library like Flask-WTF to implement form validation.\n* **Usability:**  Design a user-friendly interface with consistent navigation and intuitive features. Use CSS frameworks to style your application.\n* **Feedback:**  Provide clear feedback to users after they perform actions, such as updating their profile or submitting an assignment.\n\n**6. Testing:**\n\n* **Unit Tests:**  Write unit tests to ensure that your code works as expected. Test individual functions and models in isolation.\n* **Integration Tests:**  Test how different parts of your application interact.\n* **End-to-End Tests:**  Test the application from the user's perspective, simulating real-world scenarios.\n\n**7. Database Management:**\n\n* **Database Configuration:**  Store database configuration details in environment variables (e.g., `DATABASE_URI`) instead of hardcoding them in the code.\n* **Database Migrations:**  Use SQLAlchemy's Migrations to manage database schema changes over time.\n* **Database Performance:**  Consider using a database caching layer like Redis or Memcached to improve performance.\n\n\n**Example Improvements:**\n\n* **Unified User Model:**\n    ```python\n    class User(db.Model):\n        __tablename__ = \"users\"\n        id = db.Column(db.Integer, primary_key=True)\n        username = db.Column(db.String, unique=True, nullable=False)\n        password = db.Column(db.String, nullable=False)\n        name = db.Column(db.String, nullable=False)\n        role = db.Column(db.Enum('student', 'admin', 'faculty'), nullable=False)\n        \n        # ... additional role-specific attributes\n    ```\n\n* **Course Relationships:**\n    ```python\n    class Course(db.Model):\n        # ...\n        students = db.relationship('Student', secondary=student_courses, backref='courses')\n        faculties = db.relationship('Faculty', secondary=faculty_courses, backref='courses')\n    ```\n\n* **Simplified Signup:**\n    ```python\n    @app.route('/signup', methods=['GET', 'POST'])\n    def signup():\n        if request.method == 'POST':\n            name = request.form.get('name')\n            username = request.form.get('username')\n            role = request.form.get('role')\n            password1 = request.form.get('password1')\n            password2 = request.form.get('password2')\n\n            if password1 == password2:\n                password = generate_password_hash(password1)\n                new_user = User(name=name, username=username, password=password, role=role)\n                db.session.add(new_user)\n                db.session.commit()\n\n                if role == 'student':\n                    student = Student(user_id=new_user.id, sem=current_sem)\n                    db.session.add(student)\n                    db.session.commit()\n                elif role == 'faculty':\n                    faculty = Faculty(user_id=new_user.id)\n                    db.session.add(faculty)\n                    db.session.commit()\n\n                return redirect(url_for('login'))\n            else:\n                return render_template(\"signup.html\", msg=\"Passwords don't match.\")\n\n        # ...\n    ```\n\nBy implementing these improvements, you can create a more secure, robust, and user-friendly LMS. Remember to test each change thoroughly to ensure the application's functionality and stability.\n"
          },
          "metadata": {},
          "execution_count": 35
        }
      ]
    },
    {
      "cell_type": "markdown",
      "source": [
        "#Usecase 3: Answering questions about a long historical text:"
      ],
      "metadata": {
        "id": "1GAxl-LO6S5r"
      }
    },
    {
      "cell_type": "code",
      "source": [
        "model = genai.GenerativeModel('gemini-1.5-flash')\n",
        "\n",
        "pdf_path = '/content/drive/MyDrive/CMPE297/Assignment1/Bytebytego_Big_Archive_System_Design_2023.pdf'\n",
        "long_text = read_pdf(pdf_path)\n",
        "\n",
        "\n",
        "chat = model.start_chat(history=[])\n",
        "chat.send_message(f\"Here's a historical text: {long_text}\")\n",
        "\n",
        "while True:\n",
        "    question = input(\"Ask a question about the text (or 'quit' to exit): \")\n",
        "    if question.lower() == 'quit':\n",
        "        break\n",
        "    response = chat.send_message(question)\n",
        "    print(response.text)"
      ],
      "metadata": {
        "colab": {
          "base_uri": "https://localhost:8080/",
          "height": 1000
        },
        "id": "Qt3HWac16ES-",
        "outputId": "365d4311-ebd4-4898-d740-8563b65e72db"
      },
      "execution_count": 37,
      "outputs": [
        {
          "name": "stdout",
          "output_type": "stream",
          "text": [
            "Ask a question about the text (or 'quit' to exit): what are most important topic\n",
            "You're right, that's a lot of information! Here are some of the most important topics covered in that text, broken down by area:\n",
            "\n",
            "**Core Software Development Concepts:**\n",
            "\n",
            "* **API Design & Development:**  Understanding RESTful APIs, GraphQL, webhooks, and gRPC is crucial for modern software development.\n",
            "* **Microservices:**  The microservices architecture is increasingly popular, so grasping its benefits, drawbacks, and best practices is essential. \n",
            "* **System Design:**  Being able to design scalable, reliable, and performant systems is a critical skill for any software engineer. \n",
            "* **Data Structures & Algorithms:** A strong foundation in these areas is fundamental for efficient and effective coding.\n",
            "* **Security:**  Securing APIs, passwords, and data is paramount.\n",
            "* **Databases:** Choosing and implementing the right database for your project is a key decision.\n",
            "* **CI/CD Pipelines:**  Automating your development and deployment processes is vital for speed and reliability.\n",
            "\n",
            "**Cloud Computing & Architecture:**\n",
            "\n",
            "* **Cloud Providers (AWS, Azure, GCP):** Understanding the services and capabilities of major cloud providers is essential for building cloud-based systems.\n",
            "* **Cloud-Native Architectures:**  Adopting cloud-native principles can significantly improve your systems' scalability, resilience, and cost-effectiveness. \n",
            "* **Serverless Computing:** This is a rapidly growing area with its own set of benefits and considerations.\n",
            "\n",
            "**Additional Important Topics:**\n",
            "\n",
            "* **Testing:**  Thorough and automated testing is essential for quality software.\n",
            "* **Networking:**  A basic understanding of network protocols and routing is important for any developer.\n",
            "* **Performance Optimization:**  Optimizing the performance of your applications and systems is critical. \n",
            "* **Data Processing (Batch & Stream):** Knowing how to process large datasets in batch or real-time scenarios is increasingly relevant.\n",
            "* **DevOps & SRE:**  These methodologies are important for promoting collaboration and automation in software development and operations.\n",
            "\n",
            "**Remember:** The \"most important\" topics will depend on your specific career goals and the types of projects you work on.  However, a strong foundation in the areas listed above will give you a solid starting point for success in the world of software development and engineering. \n",
            "\n",
            "Ask a question about the text (or 'quit' to exit): teach me API\n",
            "Okay, let's dive into the world of APIs! \n",
            "\n",
            "Here's a breakdown of what APIs are, why they're important, and how they work:\n",
            "\n",
            "**What is an API?**\n",
            "\n",
            "Think of an API (Application Programming Interface) as a waiter in a restaurant.  You, the customer, don't need to know how the kitchen works or what ingredients are used. You simply tell the waiter what you want (your order), and they bring you what you need (the food). \n",
            "\n",
            "In the same way, an API is an intermediary that lets different software applications talk to each other. It defines a set of rules and specifications for how those applications can exchange data and functionality.\n",
            "\n",
            "**Key Components of an API:**\n",
            "\n",
            "* **Endpoints:**  These are specific URLs that represent different resources within the API. For example, a weather API might have endpoints like `/current_weather`, `/forecast`, or `/history`.\n",
            "* **Requests:**  When you want to interact with an API, you send a request to a specific endpoint. Requests usually include:\n",
            "    * **Method:**  The type of action you want to perform (e.g., GET, POST, PUT, DELETE)\n",
            "    * **Headers:**  Additional information about the request, such as authentication data or content type.\n",
            "    * **Body:**  The data you want to send, if necessary (for actions like creating new data or updating existing data).\n",
            "* **Responses:**  The API responds to your request with a response that includes:\n",
            "    * **Status code:**  Indicates whether the request was successful or if there was an error (e.g., 200 for success, 404 for not found, 500 for server error).\n",
            "    * **Headers:**  Additional information about the response.\n",
            "    * **Body:**  The data you requested or an error message.\n",
            "\n",
            "**Why are APIs important?**\n",
            "\n",
            "APIs are essential for modern software development for several reasons:\n",
            "\n",
            "* **Reusability:** APIs allow you to reuse existing code and functionality, saving time and effort. \n",
            "* **Integration:** They enable seamless communication between different applications, creating powerful and interconnected systems. \n",
            "* **Innovation:** APIs foster innovation by allowing developers to build on top of existing platforms and services. \n",
            "* **Scalability:** APIs make it easier to scale applications by allowing you to add or remove components without affecting other parts of the system.\n",
            "\n",
            "**How do APIs work (example)?**\n",
            "\n",
            "Let's say you're building a mobile weather app.  You don't want to write all the code for fetching weather data yourself.  Instead, you can use a weather API:\n",
            "\n",
            "1. **Find a Weather API:** You can search for a weather API provider (like OpenWeatherMap or Weather Underground).\n",
            "2. **Sign Up & Get an API Key:** Most APIs require you to sign up and obtain an API key to authenticate your requests. \n",
            "3. **Make API Calls:** Use your code to send HTTP requests to the API endpoints (like `/current_weather`).  You'll include your API key in the request headers.\n",
            "4. **Receive Responses:** The API responds with weather data in a structured format (usually JSON).\n",
            "5. **Process Data:**  Your app then processes the data and displays it to the user. \n",
            "\n",
            "**Learning More About APIs:**\n",
            "\n",
            "* **REST APIs:** The most common API style, based on the principles of Representational State Transfer.  Learn about RESTful APIs, HTTP methods, and other key concepts.\n",
            "* **API Documentation:**  Every API provider provides documentation explaining how to use their API.  Start with the documentation for the API you want to use.\n",
            "* **Practice:** Building a small API-based application is a great way to get hands-on experience.\n",
            "* **Online Resources:**  There are many online courses, tutorials, and communities dedicated to teaching API development.\n",
            "\n",
            "Let me know if you'd like to learn about a specific API or a particular API architectural style. I'm here to help you become an API expert! \n",
            "\n",
            "Ask a question about the text (or 'quit' to exit): quit\n"
          ]
        }
      ]
    },
    {
      "cell_type": "markdown",
      "source": [
        "# Usecase 4 :Analyzing a long conversation transcript:"
      ],
      "metadata": {
        "id": "DaqH8wQC8TRB"
      }
    },
    {
      "cell_type": "code",
      "source": [
        "with open('/content/drive/MyDrive/CMPE297/Assignment1/conversation_transcript.txt', 'r') as file:\n",
        "    transcript = file.read()\n",
        "\n",
        "response = model.generate_content(f\"Analyze this conversation transcript and provide insights on the main topics discussed, sentiment, and key takeaways: {transcript}\")\n",
        "Markdown(response.text)"
      ],
      "metadata": {
        "colab": {
          "base_uri": "https://localhost:8080/",
          "height": 826
        },
        "id": "vCz-2uXf6-Ge",
        "outputId": "78be61a9-8fe6-4867-811e-5292ec1cb18f"
      },
      "execution_count": 39,
      "outputs": [
        {
          "output_type": "execute_result",
          "data": {
            "text/plain": [
              "<IPython.core.display.Markdown object>"
            ],
            "text/markdown": "## CNN Presidential Debate Transcript Analysis:\n\nThis transcript captures a heated exchange between President Joe Biden and former President Donald Trump during a CNN Presidential Debate.  The conversation revolves around several key issues, each revealing their starkly contrasting views and approaches. Here's a breakdown:\n\n**Main Topics:**\n\n* **Economy:** Biden focuses on his efforts to rebuild the economy post-pandemic, emphasizing job creation and combating inflation. Trump blames Biden's policies for inflation and boasts about the \"greatest economy in history\" during his term.\n* **Abortion:** Trump takes credit for overturning Roe v. Wade, highlighting the return of the issue to states. Biden condemns the decision, calling it \"terrible\" and defending a woman's right to choose.\n* **Immigration:** Biden emphasizes his efforts to increase border security and address the root causes of migration, while Trump paints a dire picture of an \"open border\" overrun by criminals and terrorists.\n* **National Debt:** Both acknowledge the issue but present different approaches to tackling it. Biden favors raising taxes on the wealthy, while Trump advocates for extending tax cuts and argues they fueled economic growth.\n* **Foreign Policy:** The debate covers Russia's invasion of Ukraine, the Israeli-Palestinian conflict, and US alliances. Trump criticizes Biden's handling of the situations, while Biden highlights his diplomatic efforts and emphasizes the importance of US alliances.\n* **January 6th:** Biden criticizes Trump's inaction on January 6th, blaming him for the Capitol riot. Trump defends his actions, claiming he offered National Guard assistance but Pelosi rejected it.\n* **Climate Change:** Biden emphasizes his climate initiatives and the urgency of tackling the issue, while Trump promotes his environmental record and criticizes the Paris Agreement.\n* **Social Security:** Biden proposes raising taxes on the wealthy to ensure the program's solvency, while Trump accuses Biden of seeking to cut benefits and blames the influx of immigrants for the program's strain.\n* **Opioid Crisis:** Both acknowledge the crisis but differ on solutions. Biden points to bipartisan efforts to increase border security and drug detection, while Trump blames Biden for a rise in drug trafficking due to the \"open border.\"\n* **Concerns about Age and Competence:**  Both address concerns about their age and ability to handle the presidency. Trump highlights his health and cognitive abilities, while Biden emphasizes his experience and accomplishments.\n* **Election Integrity:** Trump avoids a direct yes or no answer when asked if he'll accept the election results, instead reiterating concerns about \"fraud.\" Biden criticizes Trump's continued denial of the 2020 election results and argues it undermines democracy.\n\n**Sentiment:**\n\nThe debate is highly charged, with both candidates expressing strong emotions and making personal attacks. Biden uses a calm, authoritative tone while criticizing Trump's policies and behavior. Trump employs a more aggressive, theatrical approach, often interrupting Biden and making bold claims.\n\n**Key Takeaways:**\n\n* **Deep Divide:** The transcript starkly highlights the deep ideological and stylistic divide between the two candidates. Their contrasting views on core issues are on full display. \n* **Trump's Aggressive Strategy:** Trump continues his pattern of making bold, often unsubstantiated claims, attacking opponents, and deflecting blame. He relies heavily on personal attacks and exaggerated narratives. \n* **Biden's Measured Approach:** Biden attempts to counter Trump's accusations with a calm, fact-based approach, emphasizing his policy accomplishments and the dangers of Trump's rhetoric and actions. \n* **Democracy at Stake:** The debate underscores concerns about the fragility of American democracy, particularly regarding Trump's reluctance to accept election results and his willingness to undermine democratic institutions.\n* **Persistent Issues:**  The debate highlights the enduring challenges facing the US, including inflation, immigration, climate change, and the opioid crisis, requiring clear and effective leadership to address them.\n\n**Overall:** The CNN Presidential Debate transcript offers a glimpse into the heated political climate and the fundamental differences between the two candidates.  It leaves viewers to ponder which approach, if either, offers the best path forward for the nation. \n"
          },
          "metadata": {},
          "execution_count": 39
        }
      ]
    },
    {
      "cell_type": "markdown",
      "source": [
        "# Usecase 5: Generating a report based on multiple research papers:"
      ],
      "metadata": {
        "id": "IceMRNyD_lz_"
      }
    },
    {
      "cell_type": "code",
      "source": [
        "pdf_paths = [\n",
        "    '/content/drive/MyDrive/CMPE297/Assignment1/2303.13367.pdf',\n",
        "    '/content/drive/MyDrive/CMPE297/Assignment1/2405.12819v1.pdf',\n",
        "    '/content/drive/MyDrive/CMPE297/Assignment1/2406.06009v1.pdf',\n",
        "    '/content/drive/MyDrive/CMPE297/Assignment1/2308.11254v1.pdf'\n",
        "]\n",
        "\n",
        "\n",
        "combined_papers = \"\"\n",
        "for pdf_path in pdf_paths:\n",
        "    long_text = read_pdf(pdf_path)\n",
        "    combined_papers += long_text + \"\\n\\n\"\n",
        "\n",
        "response = model.generate_content(f\"Generate a comprehensive report summarizing the findings from these 4 research papers: {combined_papers}\")\n",
        "Markdown(response.text)"
      ],
      "metadata": {
        "colab": {
          "base_uri": "https://localhost:8080/",
          "height": 870
        },
        "id": "z3BGcs6s_W_p",
        "outputId": "c9c8391e-d4f4-416c-fb7d-05968189923e"
      },
      "execution_count": 44,
      "outputs": [
        {
          "output_type": "execute_result",
          "data": {
            "text/plain": [
              "<IPython.core.display.Markdown object>"
            ],
            "text/markdown": "## Comprehensive Report on the Impact of AI on Academic Research and Publishing: A Summary of Four Research Papers\n\nThis report summarizes the findings of four research papers exploring the impact of artificial intelligence, particularly large language models (LLMs) like ChatGPT, on academic research and scholarly publishing.  The papers highlight both the potential benefits and significant ethical concerns associated with the integration of AI into academia. \n\n**Key Findings:**\n\n**1. LLMs and Their Capabilities:**\n\n* **Impressive Abilities:** LLMs like ChatGPT demonstrate remarkable abilities in various NLP tasks, including text generation, summarization, translation, question answering, and even code generation.\n* **Zero-Shot and Few-Shot Learning:** LLMs can perform tasks with minimal or even no fine-tuning, based on prompts and in-context learning. \n* **Efficiency and Speed:** LLMs can significantly reduce the time and effort required for tasks like writing, editing, reviewing, and generating research ideas.\n\n**2. Ethical Considerations:**\n\n* **Authorship, Copyright, and Plagiarism:** The ownership of AI-generated content remains unclear, raising concerns about copyright infringement and potential plagiarism. Publishers are starting to develop policies regarding AI authorship and acknowledgement.\n* **Citation Practices:** LLMs can assist with identifying and formatting citations, but they may not always provide accurate or complete references, leading to potential issues with scholarly integrity.\n* **Bias in Training Data:**  The training data used for LLMs can contain biases, which can be perpetuated in the generated output, impacting the objectivity and fairness of research.\n* **Impact on Academic Expectations:** LLMs raise questions about the future of academic job expectations, tenure, and promotion, as they may undermine the value placed on human expertise and original work.\n\n**3. Current Approaches to Ethical AI Use:**\n\n* **Publisher Policies:** Many publishers are establishing clear policies regarding the use of AI in scholarly publishing, emphasizing the need for transparency, acknowledgement, and responsible usage.\n* **AI for Editorial Processes:** LLMs are being explored for initial manuscript screening, identifying suitable peer reviewers, and suggesting edits to improve the quality of submitted work. However, AI should not replace the judgment of human experts.\n* **AI for Writing and Editing:** LLMs can assist with idea generation, writing analyses, and editing existing manuscripts, but their outputs require careful review and validation due to potential errors and limitations.\n\n**4.  New Frontiers and Challenges:**\n\n* **Multilingual LLMs:**  Expanding the capabilities of LLMs to multiple languages poses challenges, particularly for low-resource languages and achieving cross-lingual alignment.\n* **Multi-Modal LLMs:** Integrating multiple modalities like text, image, and audio into LLMs is a promising area, but complex multi-modal reasoning and effective interaction mechanisms need further research.\n* **Tool Usage in LLMs:** Empowering LLMs to use external tools and agents to solve complex NLP tasks requires careful consideration of appropriate tool selection, efficient planning, and coordination of multiple tools. \n* **X-of-Thought (XoT) in LLMs:**  Improving the transparency and reasoning process of LLMs by applying XoT methods presents challenges in achieving universal step decomposition and integrating knowledge across different XoT techniques. \n* **Hallucination in LLMs:**  LLMs are prone to hallucinations, generating false or misleading information, which requires robust evaluation methods and potential strategies for leveraging hallucinations for creativity.\n* **Safety in LLMs:** Addressing safety concerns associated with LLMs in NLP tasks, including copyright infringement, hate speech, social bias, and psychological safety, requires the development of effective safety benchmarks and multilingual mitigation strategies.\n\n**Overall, the integration of AI into academic research and publishing is a complex issue with both exciting potential and significant challenges.  Collaboration among publishers, editors, reviewers, and authors is crucial to ensure that these technologies are used ethically, transparently, and productively. Continued research is essential to address the remaining challenges and unlock the full potential of AI for advancing scientific knowledge.** \n"
          },
          "metadata": {},
          "execution_count": 44
        }
      ]
    },
    {
      "cell_type": "markdown",
      "source": [
        "# Usecase 5: Analyzing and comparing multiple legal documents:"
      ],
      "metadata": {
        "id": "Eo2SfVJbC4rS"
      }
    },
    {
      "cell_type": "code",
      "source": [
        "legal_docs = [\n",
        "    '/content/drive/MyDrive/CMPE297/Assignment1/Standard-Residential-Lease-Agreement-Form.pdf',\n",
        "    '/content/drive/MyDrive/CMPE297/Assignment1/Durable-Power-of-Attorney-Form.pdf'\n",
        "]\n",
        "\n",
        "\n",
        "\n",
        "combined_docs = \"\"\n",
        "for doc_path in legal_docs:\n",
        "    legal_text = read_pdf(doc_path)\n",
        "    combined_docs += legal_text + \"\\n\\n\"\n",
        "\n",
        "response = model.generate_content(f\"Compare and analyze these legal documents, highlighting key differences and similarities: {combined_docs}\")\n",
        "Markdown(response.text)"
      ],
      "metadata": {
        "colab": {
          "base_uri": "https://localhost:8080/",
          "height": 639
        },
        "id": "2DB1ZWvCBdaG",
        "outputId": "2d5800b6-83b2-4498-fb9a-537bfdab40b2"
      },
      "execution_count": 46,
      "outputs": [
        {
          "output_type": "execute_result",
          "data": {
            "text/plain": [
              "<IPython.core.display.Markdown object>"
            ],
            "text/markdown": "## Comparing and Analyzing the Legal Documents: Residential Lease Agreement vs. Durable Power of Attorney\n\nThese two legal documents are fundamentally different in their purpose and scope:\n\n**Residential Lease Agreement:**\n\n* **Purpose:** To establish a legal agreement between a landlord and a tenant for the rental of residential property. \n* **Scope:** Outlines the terms and conditions of the lease, including rent, duration, responsibilities, and rights of both parties.\n\n**Durable Power of Attorney:**\n\n* **Purpose:** To grant legal authority to an agent to act on behalf of the principal in financial matters.\n* **Scope:** Allows the agent to make financial decisions for the principal, potentially including property management, investments, and banking transactions.\n\n**Similarities:**\n\n* **Formal Language:** Both documents use formal, legal language to ensure clarity and avoid ambiguity.\n* **Signed and Dated:** Both require signatures and dates to authenticate the agreements.\n* **Witness Requirements:** Both documents may require witnesses to observe the signing and attest to the principal's competence.\n\n**Key Differences:**\n\n* **Subject Matter:** A lease agreement focuses on the rental of property, while a power of attorney deals with the transfer of legal authority.\n* **Parties Involved:**  A lease agreement involves a landlord and a tenant, while a power of attorney involves a principal and an agent.\n* **Scope of Authority:** The lease agreement defines specific rights and obligations for both parties within the context of the rental agreement. The power of attorney grants broad authority to the agent to manage the principal's financial affairs, potentially encompassing a wide range of decisions.\n* **Duration:** A lease agreement typically has a defined duration (e.g., 1 year, month-to-month), while a durable power of attorney can be effective for an indefinite period, potentially extending beyond the principal's lifetime.\n\n**Analysis:**\n\n* **Complexity:** The lease agreement is generally less complex than a power of attorney, as it focuses on a specific and limited set of obligations. A durable power of attorney is more intricate due to the broad authority granted and the potential legal implications.\n* **Legal Importance:** Both documents are legally binding and must be drafted carefully to avoid disputes and protect the interests of all parties involved.\n* **Consequences of Misuse:** A breach of the lease agreement can result in legal actions like eviction or financial penalties. Misuse of a durable power of attorney can have serious financial consequences for the principal and potentially lead to legal action against the agent.\n\n**Conclusion:**\n\nWhile both documents are important legal instruments, they serve distinct purposes. It's crucial to understand the specific terms and implications of each document before signing to ensure you are aware of your rights and obligations. If you have any doubts, consulting with an attorney is always recommended. \n"
          },
          "metadata": {},
          "execution_count": 46
        }
      ]
    },
    {
      "cell_type": "markdown",
      "source": [
        "# Usecase 7: Generating a story based on a long prompt:"
      ],
      "metadata": {
        "id": "eZR3pwqHGHC0"
      }
    },
    {
      "cell_type": "code",
      "source": [
        "story_prompt = \"\"\"\n",
        "In the year 2175, humanity has established thriving colonies on Mars. The red planet's harsh environment has been partially terraformed, allowing for the creation of biodomes where a new society flourishes. Your task is to write a short story set in this world, following these guidelines:\n",
        "\n",
        "Main Character:\n",
        "Name: Dr. Aria Zhang\n",
        "Age: 35\n",
        "Occupation: Xenobotanist\n",
        "Background: Born on Earth, moved to Mars at age 25 to study the planet's unique plant life\n",
        "\n",
        "Setting:\n",
        "Location: Olympus City, the largest Martian colony, situated at the base of Olympus Mons\n",
        "Time: 50 years after the first permanent settlement on Mars\n",
        "\n",
        "Plot Elements:\n",
        "1. Dr. Zhang discovers a mysterious, rapidly-growing Martian plant species that seems to have intelligence.\n",
        "2. The plant's properties could revolutionize life on Mars, but it also poses potential dangers.\n",
        "3. A conflict arises between those who want to study and potentially use the plant, and those who fear its unknown effects.\n",
        "4. Dr. Zhang must navigate political pressures, scientific ethics, and her own curiosity.\n",
        "5. An unexpected connection is revealed between the plant and ancient Martian microorganisms.\n",
        "\n",
        "Themes to Explore:\n",
        "- The balance between scientific progress and caution\n",
        "- Humanity's relationship with alien environments\n",
        "- The ethical implications of altering non-Earth ecosystems\n",
        "- The unforeseen consequences of colonizing other planets\n",
        "\n",
        "Story Structure:\n",
        "- Introduction: Set the scene and introduce Dr. Zhang and her work\n",
        "- Rising Action: The discovery of the plant and initial experiments\n",
        "- Conflict: Debates and tensions arise over the plant's potential and risks\n",
        "- Climax: A critical decision must be made about the future of the plant\n",
        "- Resolution: The aftermath of the decision and its impact on Martian society\n",
        "\n",
        "Additional Details:\n",
        "- Include descriptions of daily life in the Martian colony\n",
        "- Incorporate some hard science elements related to Martian environment and terraforming\n",
        "- Develop at least one supporting character who challenges Dr. Zhang's views\n",
        "- End the story with a hint at future discoveries or challenges\n",
        "\n",
        "Your story should be engaging, thought-provoking, and approximately 1000-1500 words long. Focus on character development, vivid descriptions of the Martian setting, and the ethical dilemmas faced by the colonists.\n",
        "\"\"\"\n",
        "\n",
        "response = model.generate_content(f\"Using this detailed prompt, generate a short story: {story_prompt}\")\n",
        "Markdown(response.text)"
      ],
      "metadata": {
        "colab": {
          "base_uri": "https://localhost:8080/",
          "height": 878
        },
        "id": "yP1xPQ2YF87O",
        "outputId": "061b0178-152f-441a-8566-76d02cd6f17c"
      },
      "execution_count": 47,
      "outputs": [
        {
          "output_type": "execute_result",
          "data": {
            "text/plain": [
              "<IPython.core.display.Markdown object>"
            ],
            "text/markdown": "The morning light filtered through the biodome's translucent roof, casting an ethereal glow on Dr. Aria Zhang's lab. The air, enriched with Martian oxygen, was crisp and cool, a stark contrast to the red dust swirling outside. Aria, her dark hair pulled back in a tight bun, peered through a microscope, her brow furrowed in concentration.\n\nThe past 10 years had been devoted to studying Martian flora, seeking ways to further terraform the planet and create a sustainable ecosystem for the burgeoning colony of Olympus City. But today, she was staring at something unprecedented. A seedling, unlike any she’d encountered before, was exhibiting remarkable growth, its tendrils twisting and reaching with an almost deliberate motion.\n\nThe plant had been discovered during a routine soil sample analysis, a vibrant green against the rust-colored Martian landscape. It was classified as a \"hyper-adaptative\" species, exhibiting rapid growth and an uncanny resilience to the harsh conditions.  \n\n“It’s remarkable, Aria,” said Dr. Jacob Lee, the head of the terraforming project, his voice a gravelly baritone. \"Its photosynthetic efficiency is off the charts. It could potentially accelerate the process of terraforming exponentially.\"\n\nBut Aria’s excitement was tempered with caution. The plant's rapid growth and unusual behavior were unsettling.  She spent days meticulously observing its patterns, conducting experiments that revealed its ability to communicate through subtle changes in its bioluminescence.\n\nHer initial awe quickly turned into an uneasy apprehension. What if this plant, with its seemingly sentient nature, held more than just promise? \n\nHer concerns were dismissed by most, including Jacob, who saw the plant as a beacon of hope for the Martian future. \"Fear is a luxury we cannot afford,\" he argued. \"We’ve come too far to turn back now.\"\n\nThe debate intensified as the plant's potential applications were explored. Some proposed using its properties to generate oxygen, purify water, even synthesize nutrients. But others, like Aria, warned of the unknown dangers.  What if this intelligent life form, with its alien origins, could pose a threat to the colony's carefully constructed environment?  \n\nThe issue was escalated to the Olympus Council, the governing body of the Martian colony. Aria was called to present her findings and her concerns, her voice echoing in the sterile Council chambers.\n\n\"We have a responsibility to understand this plant before we exploit it,\" she implored. \"Its potential dangers might outweigh its benefits.”\n\nHer words fell on deaf ears. The Council, under pressure from the growing population and the looming threat of dwindling resources, voted to proceed with the plant's exploitation. The vote was a close one, but the promise of a more sustainable future outweighed the fear of the unknown.\n\nAria felt a wave of despair wash over her. She had failed to convince the Council, but she knew she couldn't allow the plant to be exploited without proper understanding. \n\nShe began her own independent research, determined to unravel the plant's secrets before it was too late. She discovered that the plant was capable of accessing and manipulating ancient Martian microorganisms, long dormant beneath the surface. It was through this symbiotic relationship that the plant thrived, extracting nutrients and energy from the planet's core.\n\nHer discovery confirmed her worst fears. The plant was not just a marvel of nature; it was a catalyst, a force capable of reshaping the Martian environment in unpredictable ways. The ramifications of its unchecked growth could be disastrous, potentially disrupting the delicate balance of the terraformed ecosystem.\n\nWith the council's decision looming, Aria faced an agonizing choice: remain silent, accepting the potential consequences, or reveal her findings and risk further backlash.\n\nHer heart pounded as she stood before the council again, this time armed with evidence of the plant's true nature. Her voice, though trembling, resonated with conviction. \n\n\"The plant is not just a tool,\" she declared. \"It is a powerful force, capable of both destruction and creation. We must tread carefully.\"\n\nThe council was stunned into silence. The truth, laid bare, forced them to confront the ethical implications of their decision. The debate reignited, this time with a newfound urgency.  \n\nIn the end, the Council, after much deliberation, voted to halt the exploitation of the plant and to establish a research facility dedicated to its study.  \n\nThe decision was a victory for Aria, but it was far from a conclusion. The plant's secrets remained largely unknown, its potential a double-edged sword.  \n\nStanding in her lab, gazing at the vibrant green tendrils twisting and reaching in the biodome's artificial light, Aria knew that this was only the beginning. The exploration of Mars had just taken a surprising turn, one that would reshape the future of their colony, and perhaps, the future of humanity itself.  The mysteries of the red planet, once thought to be solved, were just beginning to unfold. \n"
          },
          "metadata": {},
          "execution_count": 47
        }
      ]
    },
    {
      "cell_type": "markdown",
      "source": [
        "# Usecase 8:Analyzing a long financial report:\n"
      ],
      "metadata": {
        "id": "TtLee704GpyK"
      }
    },
    {
      "cell_type": "code",
      "source": [
        "with open('/content/drive/MyDrive/CMPE297/Assignment1/financial_report_assignment.txt', 'r') as file:\n",
        "    report = file.read()\n",
        "\n",
        "response = model.generate_content(f\"Analyze this financial report and provide key insights, trends, and recommendations: {report}\")\n",
        "Markdown(response.text)"
      ],
      "metadata": {
        "colab": {
          "base_uri": "https://localhost:8080/",
          "height": 699
        },
        "id": "JQpWqAnIGgVM",
        "outputId": "4d4d4a8d-dee3-4d4b-d0ee-7a5087b2d99d"
      },
      "execution_count": 49,
      "outputs": [
        {
          "output_type": "execute_result",
          "data": {
            "text/plain": [
              "<IPython.core.display.Markdown object>"
            ],
            "text/markdown": "## TechInnovate Solutions Inc. - Financial Report Analysis: FY2023\n\n**Key Insights:**\n\n* **Strong Growth and Profitability:** TechInnovate achieved significant revenue and net income growth in FY2023, driven by strategic investments in AI and cloud computing. \n* **Diversified Revenue Streams:** The company benefits from a balanced revenue portfolio, with SaaS, AI, cloud, and consulting services contributing to overall success.\n* **Focus on Innovation:** High R&D investment (15.4% of revenue) drives new product launches and patent filings, reinforcing TechInnovate's position as an industry innovator.\n* **Strong Financial Position:** The company boasts ample liquidity, a healthy debt-to-equity ratio, and a robust balance sheet, allowing for further investment and potential acquisitions.\n* **Positive Outlook:**  FY2024 guidance indicates continued growth and profitability, fueled by strong demand for AI and cloud solutions.\n\n**Trends:**\n\n* **Shifting to AI and Cloud:** The company's growth is driven by the increasing demand for AI and cloud services, reflecting the broader industry trend towards digital transformation.\n* **R&D Investment:** TechInnovate is prioritizing innovation by allocating substantial resources to R&D, leading to new product launches and patents.\n* **Global Expansion:** The company is expanding its reach geographically, with revenue growth in Europe and Asia-Pacific indicating its global ambitions.\n* **Shareholder Returns:** TechInnovate prioritizes shareholder value by engaging in share repurchases and dividend payments.\n\n**Recommendations:**\n\n* **Maintain R&D Focus:** Continue investing heavily in R&D to stay ahead of the curve in rapidly evolving tech landscapes. \n* **Expand into Emerging Technologies:** Explore opportunities in quantum computing, edge AI, and sustainable technologies to capitalize on future growth potential.\n* **Strategic Acquisitions:** Leverage the strong financial position to acquire complementary companies or technologies to expand market reach and capabilities.\n* **Invest in Cybersecurity:**  Strengthen cybersecurity measures and data privacy practices to mitigate potential risks and maintain customer trust.\n* **Manage Regulatory Challenges:**  Proactively address regulatory challenges in various jurisdictions to ensure compliance and smooth operations.\n\n**Challenges and Risks:**\n\n* **Competition:** The tech industry is intensely competitive, posing a significant threat to market share and profitability.\n* **Technological Disruptions:** Rapid technological advancements could disrupt TechInnovate's existing offerings and require rapid adaptation.\n* **Global Economic Uncertainties:** Macroeconomic factors like inflation, recession, or geopolitical tensions could negatively impact demand and growth.\n* **Cybersecurity Threats:** TechInnovate is vulnerable to cybersecurity threats that could damage reputation, disrupt operations, or lead to financial losses.\n\n**Overall:**\n\nTechInnovate Solutions Inc. is well-positioned for continued success in the evolving tech landscape. Its strategic investments in AI and cloud, focus on innovation, and strong financial position provide a solid foundation for future growth. However, the company must proactively address competitive pressures, technological disruptions, and potential risks to maintain its market leadership. \n"
          },
          "metadata": {},
          "execution_count": 49
        }
      ]
    },
    {
      "cell_type": "markdown",
      "source": [
        "# Usecase 9:Translating a long text while maintaining context"
      ],
      "metadata": {
        "id": "UDi_FfNcHhky"
      }
    },
    {
      "cell_type": "code",
      "source": [
        "long_text = \"\"\"\n",
        "The Echoes of Eternity\n",
        "\n",
        "As the first rays of dawn pierced through the mist-shrouded valley, Elara stood atop the ancient stone tower, her eyes fixed on the horizon. The world below was slowly awakening, unaware of the momentous events about to unfold. She clutched the worn leather-bound book to her chest, its pages filled with secrets that had lain dormant for centuries.\n",
        "\n",
        "The air hummed with an otherworldly energy, a subtle vibration that sent shivers down her spine. Elara knew that today was the day—the day when the barriers between worlds would thin, and the echoes of eternity would resound across the land.\n",
        "\n",
        "Her mind wandered to the events that had led her to this moment. It had been three years since she'd stumbled upon the hidden library deep within the mountains. The dusty tomes and cryptic scrolls had revealed a truth long forgotten by the people of Avalon: that their world was but one of many, interconnected by threads of magic and mystery.\n",
        "\n",
        "Elara had devoted herself to deciphering the ancient texts, learning of the Convergence—a rare celestial event when all the worlds aligned, and the impossible became possible. It was during this time that the Echoes could be heard, whispers from other realms that held the key to unimaginable power and knowledge.\n",
        "\n",
        "But with great power came great danger. The texts spoke of those who had been consumed by the Echoes, their minds shattered by the weight of cosmic truths. Elara had sworn to protect her world from such a fate, to harness the Echoes for the betterment of all.\n",
        "\n",
        "As she pondered these thoughts, a familiar voice called out from below. \"Elara! It's time!\" It was Finn, her loyal friend and fellow scholar. She looked down to see him standing at the base of the tower, his red hair tousled by the morning breeze.\n",
        "\n",
        "With a deep breath, Elara began her descent. Each step down the winding staircase felt heavy with purpose. The stone walls seemed to whisper ancient secrets, urging her forward.\n",
        "\n",
        "When she emerged from the tower, Finn greeted her with a mix of excitement and apprehension. \"Are you ready?\" he asked, his green eyes searching her face for any sign of doubt.\n",
        "\n",
        "Elara nodded, her resolve unwavering. \"As ready as I'll ever be. Let's make our way to the Circle of Stones.\"\n",
        "\n",
        "Together, they set off through the awakening village. The streets were quiet, save for the occasional crow of a rooster or the distant barking of dogs. Most of the villagers were still asleep, oblivious to the cosmic dance about to unfold.\n",
        "\n",
        "As they walked, Elara couldn't help but marvel at the beauty of her home. The thatched-roof cottages, the blooming gardens, the smell of freshly baked bread wafting from the bakery—it was all so ordinary, yet so precious. She silently vowed to protect this simple life, no matter the cost.\n",
        "\n",
        "The path led them out of the village and into the surrounding forest. Ancient trees towered above them, their branches forming a canopy that filtered the morning light into dappled patterns on the forest floor. The air grew thick with the scent of moss and damp earth.\n",
        "\n",
        "After what seemed like hours of walking, they finally emerged into a large clearing. There, bathed in the golden light of dawn, stood the Circle of Stones. Twelve massive monoliths, each taller than three men, arranged in a perfect circle. At the center stood a thirteenth stone, smaller than the others but emanating an energy that made the air around it shimmer.\n",
        "\n",
        "Elara and Finn approached the circle with reverence. They could feel the power thrumming through the earth beneath their feet, growing stronger with each step.\n",
        "\n",
        "\"It's almost time,\" Elara whispered, her eyes on the sky. The sun was climbing higher, and with it, the energy in the clearing intensified.\n",
        "\n",
        "Finn squeezed her hand reassuringly. \"Whatever happens, we're in this together.\"\n",
        "\n",
        "As they reached the center stone, Elara opened the ancient book. The words on the pages seemed to shift and dance, rearranging themselves into patterns she had never seen before. She began to chant, her voice growing stronger with each syllable.\n",
        "\n",
        "The air around them began to vibrate, and the stones of the circle started to hum in harmony. Lights danced between the monoliths, weaving intricate patterns that defied description.\n",
        "\n",
        "Suddenly, a great wind swept through the clearing, and the world seemed to hold its breath. For a moment, all was silent.\n",
        "\n",
        "Then, like a wave crashing upon the shore, the Echoes began. Voices from a thousand worlds, a million realities, all speaking at once. Whispers of joy, cries of anguish, songs of creation, and laments of destruction—all blending into a cosmic symphony.\n",
        "\n",
        "Elara stood firm, her mind open to the flood of information. Images flashed before her eyes: great cities of crystal and light, barren wastelands where hope had long since died, worlds of perpetual twilight where shadow and light danced in eternal balance.\n",
        "\n",
        "Through it all, she clung to her purpose, sifting through the chaos for the knowledge they sought. Beside her, Finn struggled to remain standing, overwhelmed by the sheer magnitude of the Echoes.\n",
        "\n",
        "As quickly as it had begun, it was over. The lights faded, the wind died down, and the stones fell silent. Elara found herself on her knees, gasping for breath, the book clutched tightly in her trembling hands.\n",
        "\n",
        "Finn stirred beside her, his face pale but his eyes alight with wonder. \"Did you... did you hear them?\" he asked, his voice barely above a whisper.\n",
        "\n",
        "Elara nodded, unable to find words to describe what she had experienced. The Echoes had shown her wonders beyond imagination, but also terrors that would haunt her dreams for years to come.\n",
        "\n",
        "As they sat there, trying to process what had happened, a new sound reached their ears. Bells were ringing in the village, their joyous peals carrying across the forest.\n",
        "\n",
        "\"The festival,\" Finn said, realization dawning on his face. \"It's the Summer Solstice. We've been here all night.\"\n",
        "\n",
        "Elara looked up at the sun, now high in the sky, and marveled at how ordinary the world seemed after what they had just experienced. Yet she knew that everything had changed. The knowledge gained from the Echoes would reshape their understanding of reality itself.\n",
        "\n",
        "As they stood to make their way back to the village, Elara paused, looking back at the Circle of Stones. The monoliths stood silent and immovable, guardians of secrets both wondrous and terrible.\n",
        "\n",
        "\"What do we do now?\" Finn asked, voicing the question that weighed heavily on both their minds.\n",
        "\n",
        "Elara took a deep breath, feeling the weight of responsibility settling on her shoulders. \"We learn,\" she said firmly. \"We study what the Echoes have shown us, and we use that knowledge to protect our world and help our people.\"\n",
        "\n",
        "With one last look at the circle, they turned and began the long walk back to the village. The festival awaited them, a celebration of life and renewal. But for Elara and Finn, it would also be a celebration of new beginnings and the endless possibilities that lay before them.\n",
        "\n",
        "As they walked, Elara's mind raced with the implications of what they had learned. The Echoes had revealed that their world was but a small part of a vast, interconnected multiverse. Each decision, each choice made in one world, created ripples that affected countless others.\n",
        "\n",
        "She thought of the responsibility that came with such knowledge. How could they use it wisely? How could they ensure that the power of the Echoes was not misused or fallen into the wrong hands?\n",
        "\n",
        "These questions and more would need to be addressed in the days and weeks to come. But for now, as the sounds of laughter and music reached their ears from the village, Elara allowed herself a moment of simple joy.\n",
        "\n",
        "They had touched the infinite, heard the Echoes of Eternity, and returned changed but unbroken. Whatever challenges lay ahead, they would face them together, armed with the wisdom of a thousand worlds and the strength of their unbreakable bond.\n",
        "\n",
        "As they emerged from the forest and saw the colorful banners and smiling faces of their fellow villagers, Elara felt a renewed sense of purpose. The Echoes had shown her the vastness of existence, but they had also reminded her of the preciousness of this single moment, this one precious life.\n",
        "\n",
        "With a smile, she took Finn's hand, and together they stepped into the warm embrace of their community, ready to celebrate life, love, and the endless wonder of the universe.\n",
        "\"\"\"\n",
        "\n",
        "response = model.generate_content(f\"Translate the following text from English to French, maintaining the context and nuances: {long_text}\")\n",
        "Markdown(response.text)"
      ],
      "metadata": {
        "colab": {
          "base_uri": "https://localhost:8080/",
          "height": 1000
        },
        "id": "QGCHUauVHQo5",
        "outputId": "43d3cd92-27dd-42b7-af72-d533366f1f3a"
      },
      "execution_count": 50,
      "outputs": [
        {
          "output_type": "stream",
          "name": "stdout",
          "text": [
            "## Les Échos de l'Éternité\n",
            "\n",
            "Alors que les premiers rayons de l'aube perçaient la vallée nimbée de brume, Elara se tenait au sommet de l'ancienne tour de pierre, les yeux fixés sur l'horizon. Le monde en contrebas s'éveillait lentement, ignorant les événements importants qui allaient se dérouler. Elle serrait contre sa poitrine un livre relié en cuir usé, ses pages remplies de secrets qui dormaient depuis des siècles.\n",
            "\n",
            "L'air vibrait d'une énergie surnaturelle, une subtile vibration qui lui envoyait des frissons dans l'échine. Elara savait que ce jour était le jour - le jour où les barrières entre les mondes s'aminciraient et où les échos de l'éternité résonneraient à travers le pays.\n",
            "\n",
            "Son esprit errait vers les événements qui l'avaient menée à ce moment. Cela faisait trois ans qu'elle avait découvert la bibliothèque cachée au cœur des montagnes. Les tomes poussiéreux et les parchemins cryptiques avaient révélé une vérité oubliée depuis longtemps par les habitants d'Avalon : que leur monde n'était qu'un parmi tant d'autres, interconnectés par des fils de magie et de mystère.\n",
            "\n",
            "Elara s'était consacrée au déchiffrement des textes anciens, apprenant la Convergence - un événement céleste rare où tous les mondes s'alignaient et où l'impossible devenait possible. C'est durant cette période que les Échos pouvaient être entendus, des murmures d'autres royaumes qui détenaient la clé d'un pouvoir et d'une connaissance inimaginables.\n",
            "\n",
            "Mais avec un grand pouvoir venait un grand danger. Les textes parlaient de ceux qui avaient été engloutis par les Échos, leurs esprits brisés par le poids des vérités cosmiques. Elara avait juré de protéger son monde d'un tel destin, d'exploiter les Échos pour le bien de tous.\n",
            "\n",
            "Alors qu'elle nourrissait ces pensées, une voix familière l'appela d'en bas. \"Elara ! Il est temps !\" C'était Finn, son fidèle ami et compagnon érudit. Elle baissa les yeux pour le voir debout au pied de la tour, ses cheveux roux ébouriffés par la brise matinale.\n",
            "\n",
            "Prenant une profonde inspiration, Elara commença sa descente. Chaque marche de l'escalier en colimaçon semblait lourde de sens. Les murs de pierre semblaient murmurer des secrets ancestraux, l'incitant à aller de l'avant.\n",
            "\n",
            "Lorsqu'elle émergea de la tour, Finn l'accueillit avec un mélange d'excitation et d'appréhension. \"Es-tu prête ?\" demanda-t-il, ses yeux verts scrutant son visage à la recherche de tout signe de doute.\n",
            "\n",
            "Elara hocha la tête, sa détermination inébranlable. \"Aussi prête que je ne le serai jamais. Allons au Cercle des Pierres.\"\n",
            "\n",
            "Ensemble, ils s'enfoncèrent dans le village qui s'éveillait. Les rues étaient silencieuses, à part le chant occasionnel d'un coq ou l'aboiement lointain de chiens. La plupart des villageois dormaient encore, inconscients de la danse cosmique sur le point de se dérouler.\n",
            "\n",
            "En marchant, Elara ne pouvait s'empêcher de s'émerveiller de la beauté de sa maison. Les chaumières aux toits de chaume, les jardins en fleurs, l'odeur du pain frais qui émanait de la boulangerie - tout était si ordinaire, et pourtant si précieux. Elle s'est silencieusement promis de protéger cette vie simple, quel qu'en soit le prix.\n",
            "\n",
            "Le chemin les conduisit hors du village et dans la forêt environnante. Des arbres anciens se dressaient au-dessus d'eux, leurs branches formant une canopée qui filtrait la lumière du matin en motifs mouchetés sur le sol de la forêt. L'air était saturé de l'odeur de la mousse et de la terre humide.\n",
            "\n",
            "Après ce qui sembla des heures de marche, ils émergèrent enfin dans une grande clairière. Là, baigné dans la lumière dorée de l'aube, se dressait le Cercle des Pierres. Douze monolithes massifs, chacun plus grand que trois hommes, disposés en cercle parfait. Au centre se tenait une treizième pierre, plus petite que les autres mais émettant une énergie qui faisait scintiller l'air qui l'entourait.\n",
            "\n",
            "Elara et Finn s'approchèrent du cercle avec révérence. Ils pouvaient sentir le pouvoir vibrer à travers la terre sous leurs pieds, s'intensifiant à chaque pas.\n",
            "\n",
            "\"Il est presque temps\", murmura Elara, les yeux fixés sur le ciel. Le soleil montait de plus en plus haut, et avec lui, l'énergie dans la clairière s'intensifiait.\n",
            "\n",
            "Finn lui serra la main de manière rassurante. \"Quoi qu'il arrive, nous sommes ensemble dans ça.\"\n",
            "\n",
            "Alors qu'ils atteignaient la pierre centrale, Elara ouvrit l'ancien livre. Les mots sur les pages semblaient se déplacer et danser, se réorganisant en des motifs qu'elle n'avait jamais vus auparavant. Elle commença à chanter, sa voix devenant plus forte à chaque syllabe.\n",
            "\n",
            "L'air autour d'eux se mit à vibrer, et les pierres du cercle se mirent à bourdonner en harmonie. Des lumières dansaient entre les monolithes, tissant des motifs complexes qui défiaient la description.\n",
            "\n",
            "Soudain, un grand vent balaya la clairière, et le monde sembla retenir son souffle. Pendant un instant, tout fut silencieux.\n",
            "\n",
            "Puis, comme une vague s'écrasant sur le rivage, les Échos commencèrent. Des voix provenant de mille mondes, d'un million de réalités, toutes parlant à la fois. Des murmures de joie, des cris d'angoisse, des chants de création et des lamentations de destruction - tous se mêlant en une symphonie cosmique.\n",
            "\n",
            "Elara resta ferme, son esprit ouvert au flot d'informations. Des images ont défilé devant ses yeux : de grandes villes de cristal et de lumière, des terres désolées où l'espoir était mort depuis longtemps, des mondes de crépuscule perpétuel où l'ombre et la lumière dansaient en équilibre éternel.\n",
            "\n",
            "À travers tout cela, elle s'accrochait à son but, filtrant le chaos à la recherche des connaissances qu'ils recherchaient. À côté d'elle, Finn luttait pour rester debout, submergé par l'ampleur des Échos.\n",
            "\n",
            "Aussi vite que cela avait commencé, ce fut fini. Les lumières se sont estompées, le vent s'est calmé et les pierres se sont tues. Elara se retrouva à genoux, haletant, le livre serré dans ses mains tremblantes.\n",
            "\n",
            "Finn bougea à côté d'elle, son visage pâle mais ses yeux illuminés d'émerveillement. \"As-tu... as-tu entendu ?\" demanda-t-il, sa voix à peine plus qu'un murmure.\n",
            "\n",
            "Elara hocha la tête, incapable de trouver des mots pour décrire ce qu'elle avait vécu. Les Échos lui avaient montré des merveilles au-delà de l'imagination, mais aussi des terreurs qui hanteraient ses rêves pendant des années.\n",
            "\n",
            "Alors qu'ils étaient assis là, essayant de comprendre ce qui s'était passé, un nouveau son parvint à leurs oreilles. Des cloches sonnaient dans le village, leurs joyeuses sonneries traversant la forêt.\n",
            "\n",
            "\"Le festival\", dit Finn, la réalisation s'installant sur son visage. \"C'est le solstice d'été. Nous sommes restés ici toute la nuit.\"\n",
            "\n",
            "Elara leva les yeux vers le soleil, désormais haut dans le ciel, et s'émerveilla de la façon dont le monde semblait ordinaire après ce qu'ils venaient de vivre. Pourtant, elle savait que tout avait changé. Les connaissances acquises grâce aux Échos allaient remodeler leur compréhension de la réalité elle-même.\n",
            "\n",
            "Alors qu'ils se levaient pour retourner au village, Elara s'arrêta, regardant en arrière le Cercle des Pierres. Les monolithes étaient silencieux et immobiles, gardiens de secrets à la fois merveilleux et terribles.\n",
            "\n",
            "\"Que faisons-nous maintenant ?\" demanda Finn, exprimant la question qui pesait lourdement sur leurs deux esprits.\n",
            "\n",
            "Elara prit une profonde inspiration, sentant le poids de la responsabilité s'installer sur ses épaules. \"Nous apprenons\", dit-elle fermement. \"Nous étudions ce que les Échos nous ont montré, et nous utilisons cette connaissance pour protéger notre monde et aider notre peuple.\"\n",
            "\n",
            "Avec un dernier regard sur le cercle, ils se retournèrent et entamèrent la longue marche de retour au village. Le festival les attendait, une célébration de la vie et du renouveau. Mais pour Elara et Finn, ce serait aussi une célébration de nouveaux commencements et des possibilités infinies qui s'offraient à eux.\n",
            "\n",
            "En marchant, l'esprit d'Elara était envahi par les implications de ce qu'ils avaient appris. Les Échos lui avaient révélé que leur monde n'était qu'une petite partie d'un vaste multivers interconnecté. Chaque décision, chaque choix fait dans un monde, créait des ondes qui affectaient d'innombrables autres.\n",
            "\n",
            "Elle pensa à la responsabilité qui allait de pair avec une telle connaissance. Comment pourraient-ils l'utiliser à bon escient ? Comment pourraient-ils s'assurer que le pouvoir des Échos n'était pas utilisé à mauvais escient ou ne tombait pas entre de mauvaises mains ?\n",
            "\n",
            "Ces questions et d'autres encore devraient être abordées dans les jours et les semaines à venir. Mais pour l'instant, alors que les sons de rires et de musique parvenaient à leurs oreilles depuis le village, Elara se permit un moment de simple joie.\n",
            "\n",
            "Ils avaient touché l'infini, entendu les Échos de l'Éternité, et étaient revenus changés mais intacts. Quelles que soient les difficultés qui les attendaient, ils les affronteraient ensemble, armés de la sagesse de mille mondes et de la force de leur lien indéfectible.\n",
            "\n",
            "Alors qu'ils émergeaient de la forêt et apercevaient les banderoles colorées et les visages souriants de leurs concitoyens, Elara ressentit un sentiment renouvelé de but. Les Échos lui avaient montré la grandeur de l'existence, mais ils lui avaient aussi rappelé la préciosité de ce seul moment, cette seule vie précieuse.\n",
            "\n",
            "Avec un sourire, elle prit la main de Finn, et ensemble, ils s'enfoncèrent dans l'accueil chaleureux de leur communauté, prêts à célébrer la vie, l'amour et la merveille infinie de l'univers. \n",
            "\n"
          ]
        }
      ]
    },
    {
      "cell_type": "markdown",
      "source": [
        "# Usecase 10: Creating and analyzing a synthetic dataset using generated text."
      ],
      "metadata": {
        "id": "V8use3EZJV9f"
      }
    },
    {
      "cell_type": "code",
      "source": [
        "import pandas as pd\n",
        "import io\n",
        "# Prompt for Gemini to generate the dataset\n",
        "prompt = \"\"\"\n",
        "Generate a synthetic customer dataset with 1000 rows and the following columns:\n",
        "customer_id, age, income, city, state, membership_status, years_as_customer, last_purchase_amount, total_purchases, preferred_product_category\n",
        "\n",
        "Please provide the data in a CSV format with headers, ensuring realistic and varied values for each column. Use commas as separators and enclose text values in quotes if they contain commas.\n",
        "\"\"\"\n",
        "\n",
        "# Generate the dataset using Gemini\n",
        "response = model.generate_content(prompt)\n",
        "\n",
        "# Convert the generated text to a pandas DataFrame\n",
        "df = pd.read_csv(io.StringIO(response.text), sep=',')\n",
        "\n",
        "# Save the dataset to a text file\n",
        "df.to_csv('synthetic_customer_dataset.txt', sep='\\t', index=False)\n",
        "\n",
        "print(\"Dataset has been generated and saved to 'synthetic_customer_dataset.txt'\")\n",
        "print(\"\\nFirst few rows of the dataset:\")\n",
        "print(df.head())"
      ],
      "metadata": {
        "colab": {
          "base_uri": "https://localhost:8080/",
          "height": 173
        },
        "id": "6PYDTvFYH7ZL",
        "outputId": "b34e7f74-8d95-40fa-ac8c-a90c9ea58e7b"
      },
      "execution_count": 51,
      "outputs": [
        {
          "output_type": "stream",
          "name": "stdout",
          "text": [
            "Dataset has been generated and saved to 'synthetic_customer_dataset.txt'\n",
            "\n",
            "First few rows of the dataset:\n",
            "                                                                                                                                         ```csv\n",
            "customer_id age income city          state membership_status years_as_customer last_purchase_amount total_purchases  preferred_product_category\n",
            "1           32  65000  New York      NY    Gold              5                 120.50               15                              Electronics\n",
            "2           45  80000  Los Angeles   CA    Silver            7                 85.75                22                                 Clothing\n",
            "3           28  48000  Chicago       IL    Bronze            3                 35.99                8                                Home Goods\n",
            "4           56  100000 San Francisco CA    Platinum          10                250.00               30                              Electronics\n"
          ]
        }
      ]
    },
    {
      "cell_type": "code",
      "source": [],
      "metadata": {
        "id": "tmnbYwegI-IP"
      },
      "execution_count": null,
      "outputs": []
    }
  ]
}