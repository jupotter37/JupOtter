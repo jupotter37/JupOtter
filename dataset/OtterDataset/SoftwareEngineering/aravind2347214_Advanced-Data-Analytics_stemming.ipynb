{
 "cells": [
  {
   "cell_type": "code",
   "execution_count": 9,
   "metadata": {},
   "outputs": [
    {
     "name": "stdout",
     "output_type": "stream",
     "text": [
      "Snowball Stemmer:  ['is', 'soft', 'part', 'perform', 'struct', 'tonic', 'bubblegum']\n",
      "Porter Stemmer:  ['is', 'soft', 'part', 'perform', 'struct', 'tonic', 'bubblegum']\n",
      "Lancaster Stemmer:  ['is', 'soft', 'part', 'perform', 'struct', 'ton', 'bubbleg']\n",
      "Lemmatization:  ['is', 'soft', 'part', 'perform', 'struct', 'tonic', 'bubblegum']\n",
      "Regexp Stemmer:  ['i', 'soft', 'part', 'perform', 'struct', 'ton', 'bubblegum']\n"
     ]
    }
   ],
   "source": [
    "\n",
    "import nltk\n",
    "from nltk.stem import PorterStemmer, LancasterStemmer, SnowballStemmer, RegexpStemmer\n",
    "from nltk.stem.wordnet import WordNetLemmatizer\n",
    "from nltk.tokenize import word_tokenize\n",
    "\n",
    "\n",
    "# abstract paragraph\n",
    "paragraph = \"This literature study delves into the essence of design within software engineering, with a particular focus on the pivotal aspects of interface and user experience. It thoroughly explores how design impacts software performance and usability. The study underscores the significance of adopting a well-structured approach to interface design and the creation of superior user experiences. Additionally, it elucidates the key design principles that underpin this process.\"\n",
    "\n",
    "# Tokenize the paragraph\n",
    "# tokens = word_tokenize(paragraph)\n",
    "tokens = ['is','soft','part','perform','struct','tonic','bubblegum']\n",
    "\n",
    "# Apply Snowball Stemmer\n",
    "snowball_stemmer = SnowballStemmer('english')\n",
    "snowball_stemmed_tokens = [snowball_stemmer.stem(token) for token in tokens]\n",
    "print(\"Snowball Stemmer: \", snowball_stemmed_tokens)\n",
    "\n",
    "# Apply Porter Stemmer\n",
    "porter_stemmer = PorterStemmer()\n",
    "porter_stemmed_tokens = [porter_stemmer.stem(token) for token in tokens]\n",
    "print(\"Porter Stemmer: \", porter_stemmed_tokens)\n",
    "\n",
    "# Apply Lancaster Stemmer\n",
    "lancaster_stemmer = LancasterStemmer()\n",
    "lancaster_stemmed_tokens = [lancaster_stemmer.stem(token) for token in tokens]\n",
    "print(\"Lancaster Stemmer: \", lancaster_stemmed_tokens)\n",
    "\n",
    "# Apply Lemmatization\n",
    "lemmatizer = WordNetLemmatizer()\n",
    "lemmatized_tokens = [lemmatizer.lemmatize(token) for token in tokens]\n",
    "print(\"Lemmatization: \", lemmatized_tokens)\n",
    "\n",
    "\n",
    "# Apply Regexp Stemmer\n",
    "regexp_stemmer = RegexpStemmer('ing$|s$|ed$|ly$|ment$|ness$|er$|est$|able$|ic$|al$|ation$|ism$|y$')\n",
    "regexp_stemmed_tokens = [regexp_stemmer.stem(token) for token in tokens]\n",
    "print(\"Regexp Stemmer: \", regexp_stemmed_tokens)"
   ]
  }
 ],
 "metadata": {
  "kernelspec": {
   "display_name": "Python 3",
   "language": "python",
   "name": "python3"
  },
  "language_info": {
   "codemirror_mode": {
    "name": "ipython",
    "version": 3
   },
   "file_extension": ".py",
   "mimetype": "text/x-python",
   "name": "python",
   "nbconvert_exporter": "python",
   "pygments_lexer": "ipython3",
   "version": "3.9.13"
  }
 },
 "nbformat": 4,
 "nbformat_minor": 2
}
