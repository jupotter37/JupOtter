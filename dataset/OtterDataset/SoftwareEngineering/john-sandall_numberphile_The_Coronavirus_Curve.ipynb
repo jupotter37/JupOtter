{
 "cells": [
  {
   "cell_type": "markdown",
   "metadata": {
    "toc": true
   },
   "source": [
    "<h1>Table of Contents<span class=\"tocSkip\"></span></h1>\n",
    "<div class=\"toc\"><ul class=\"toc-item\"><li><span><a href=\"#The-SIR-Model-(of-disease-spread)\" data-toc-modified-id=\"The-SIR-Model-(of-disease-spread)-1\"><span class=\"toc-item-num\">1&nbsp;&nbsp;</span>The SIR Model (of disease spread)</a></span><ul class=\"toc-item\"><li><span><a href=\"#The-Rate-Equations\" data-toc-modified-id=\"The-Rate-Equations-1.1\"><span class=\"toc-item-num\">1.1&nbsp;&nbsp;</span>The Rate Equations</a></span></li><li><span><a href=\"#Solve-the-system-of-differential-equations!\" data-toc-modified-id=\"Solve-the-system-of-differential-equations!-1.2\"><span class=\"toc-item-num\">1.2&nbsp;&nbsp;</span>Solve the system of differential equations!</a></span></li><li><span><a href=\"#Visualisation,-Numberphile-style\" data-toc-modified-id=\"Visualisation,-Numberphile-style-1.3\"><span class=\"toc-item-num\">1.3&nbsp;&nbsp;</span>Visualisation, Numberphile-style</a></span></li><li><span><a href=\"#Adding-interactivity\" data-toc-modified-id=\"Adding-interactivity-1.4\"><span class=\"toc-item-num\">1.4&nbsp;&nbsp;</span>Adding interactivity</a></span></li></ul></li><li><span><a href=\"#Flatten-The-Curve\" data-toc-modified-id=\"Flatten-The-Curve-2\"><span class=\"toc-item-num\">2&nbsp;&nbsp;</span>Flatten The Curve</a></span><ul class=\"toc-item\"><li><span><a href=\"#Social-distancing\" data-toc-modified-id=\"Social-distancing-2.1\"><span class=\"toc-item-num\">2.1&nbsp;&nbsp;</span>Social distancing</a></span></li><li><span><a href=\"#Increasing-the-recovery-rate\" data-toc-modified-id=\"Increasing-the-recovery-rate-2.2\"><span class=\"toc-item-num\">2.2&nbsp;&nbsp;</span>Increasing the recovery rate</a></span></li></ul></li><li><span><a href=\"#R0:-the-basic-reproductive-number\" data-toc-modified-id=\"R0:-the-basic-reproductive-number-3\"><span class=\"toc-item-num\">3&nbsp;&nbsp;</span>R0: the basic reproductive number</a></span></li><li><span><a href=\"#Lights,-camera,-animate!\" data-toc-modified-id=\"Lights,-camera,-animate!-4\"><span class=\"toc-item-num\">4&nbsp;&nbsp;</span>Lights, camera, animate!</a></span></li></ul></div>"
   ]
  },
  {
   "cell_type": "markdown",
   "metadata": {},
   "source": [
    "# The Coronavirus Curve - Numberphile"
   ]
  },
  {
   "cell_type": "markdown",
   "metadata": {},
   "source": [
    "[![ben sparks](../images/2020-03-20_ben_sparks.jpg)](https://www.youtube.com/watch?v=k6nLfCbAzgo)"
   ]
  },
  {
   "cell_type": "markdown",
   "metadata": {},
   "source": [
    "<div align=\"center\"><a href=\"https://www.youtube.com/watch?v=k6nLfCbAzgo\" style=\"font-size: large;\"><strong>Watch <em>The Coronavirus Curve - Numberphile</em> on YouTube</strong></a></div>"
   ]
  },
  {
   "cell_type": "markdown",
   "metadata": {},
   "source": [
    "**Video Description**\n",
    "> _Ben Sparks explains (and codes) the so-called SIR Model being used to predict the spread of cornavirus (COVID-19)._\n",
    "> \n",
    "> **LINKS**\n",
    "> - National Health Service (UK) advice on Coronavirus: https://www.nhs.uk/conditions/coronavirus-covid-19/\n",
    "> - Ben Sparks: https://www.bensparks.co.uk\n",
    "> - Use the Geogebra file Ben created for this video: https://www.geogebra.org/m/nbjfjtpv\n",
    "> - Another good file courtesy of Juan Carlos Ponce Campuzano: https://www.geogebra.org/m/utbemrca \n",
    "> - Washington Post simulator: https://www.washingtonpost.com/graphics/2020/world/corona-simulator/\n",
    "> - Extended presentation by Nick Jewell for MSRI: https://youtu.be/MZ957qhzcjI\n",
    "> - More videos with Ben Sparks: http://bit.ly/Sparks_Playlist\n",
    "> \n",
    "> **SOME OTHER YOUTUBERS ON THIS TOPIC...**\n",
    "> - 3blue1brown on the exponential growth of epidemics: https://youtu.be/Kas0tIxDvrg\n",
    "> - Tom Crawford on the SIR Model: https://youtu.be/NKMHhm2Zbkw\n",
    "> - Kurzgesagt on COVID-19: https://youtu.be/BtN-goy9VOY\n",
    "> \n",
    "> **NUMBERPHILE**\n",
    "> - Website: http://www.numberphile.com/\n",
    "> - Numberphile on Facebook: http://www.facebook.com/numberphile\n",
    "> - Numberphile tweets: https://twitter.com/numberphile\n",
    "> Subscribe: http://bit.ly/Numberphile_Sub\n",
    "> \n",
    "> Videos by [Brady Haran](https://www.bradyharanblog.com/) ([@BradyHaran](https://twitter.com/BradyHaran))"
   ]
  },
  {
   "cell_type": "code",
   "execution_count": null,
   "metadata": {},
   "outputs": [],
   "source": [
    "# This is where the magic happens. ✨\n",
    "%load_ext nb_black\n",
    "\n",
    "import matplotlib.image as mpimg\n",
    "import numpy as np\n",
    "import pandas as pd\n",
    "import seaborn as sns\n",
    "from IPython.display import Video\n",
    "from ipywidgets import interact, interact_manual\n",
    "from matplotlib import pyplot as plt\n",
    "from matplotlib.animation import FuncAnimation\n",
    "from scipy.integrate import solve_ivp"
   ]
  },
  {
   "cell_type": "code",
   "execution_count": null,
   "metadata": {},
   "outputs": [],
   "source": [
    "%matplotlib inline"
   ]
  },
  {
   "cell_type": "markdown",
   "metadata": {},
   "source": [
    "## The SIR Model (of disease spread)\n",
    "The three variables we'll use:\n",
    "- **S = Susceptible** (people who are possibly able to get the disease)\n",
    "- **I = Infected** (people who have got the disease)\n",
    "- **R = Recovered** (people who are not infected any more, may be recovered, may be dead)\n",
    "\n",
    "**Goal:** build up some simple naïve assumptions of how diseases spread & follow the mathematical consequences to make a prediction."
   ]
  },
  {
   "cell_type": "code",
   "execution_count": null,
   "metadata": {},
   "outputs": [],
   "source": [
    "## Set up some initial conditions\n",
    "\n",
    "# Population of size 1, i.e. 100% (N is between 0 and 1)\n",
    "N = 1\n",
    "\n",
    "# Assume some Infected people (1% are Infected)\n",
    "Istart = 0.01\n",
    "\n",
    "# Assume some people are Susceptible\n",
    "Sstart = N - Istart\n",
    "\n",
    "# Nobody yet has Recovered\n",
    "Rstart = 0\n",
    "\n",
    "print(f\"Starting conditions: N = {N}, S = {Sstart}, I = {Istart}, R = {Rstart}\")"
   ]
  },
  {
   "cell_type": "code",
   "execution_count": null,
   "metadata": {},
   "outputs": [],
   "source": [
    "## For now, fix these \"rate\" variables\n",
    "\n",
    "# transm = Transmission/infection rate, how quickly the disease gets transmitted.\n",
    "transm = 3.2\n",
    "\n",
    "# recov = Recovery rate, how quickly people recover, this should be\n",
    "# smaller as it takes people longer to recover from a disease.\n",
    "recov = 0.23\n",
    "\n",
    "# maxT = How long we're going to let the model run for.\n",
    "maxT = 1"
   ]
  },
  {
   "cell_type": "markdown",
   "metadata": {},
   "source": [
    "### The Rate Equations\n",
    "We'll set up some \"rate equations\" (a.k.a. \"differential equations\") that tell us about each variable's rate of change. If you would like to learn more about differential equations, [3Blue1Brown](https://www.youtube.com/channel/UCYO_jab_esuFRV4b17AJtAw) has an [_excellent_ series on YouTube here](https://www.youtube.com/watch?v=p_di4Zn4wz4&list=PLZHQObOWTQDNPOjrT6KVlfJuKtYTftqH6) or you could try this [introductory course on Brilliant](https://brilliant.org/courses/differential-equations/).\n",
    "\n",
    "Differential equations describe the mathematics of change and appear in every branch of science and beyond. They can be used to describe and model anything that changes, from rockets to bodies to stock markets.\n",
    "\n",
    "The three equations that form the SIR Model are described (using mathematical notation) as follows:\n",
    "\n",
    "> $\\frac{dS}{dT} = - TransmissionRate * S * I$\n",
    "> \n",
    "> $\\frac{dI}{dT} = TransmissionRate * S * I - RecoveryRate * I$\n",
    "> \n",
    "> $\\frac{dR}{dt} = RecoveryRate * I$\n",
    "\n",
    "Do these make sense?\n",
    "- The rate of change of **Susceptibles**, $\\frac{dS}{dT}$, is negative because the rate will go down as more Susceptible people get Infected.\n",
    "- The rate of change of **Infected**, $\\frac{dI}{dT}$, is the number who will become Infected next (those who are Susceptible) less those who Recover (the more people become Infected, the more people can Recover).\n",
    "- The rate of change of **Recovery**, $\\frac{dR}{dt}$, is decided by how many people are Infected."
   ]
  },
  {
   "cell_type": "code",
   "execution_count": null,
   "metadata": {},
   "outputs": [],
   "source": [
    "## Let's write these in Python.\n",
    "\n",
    "\n",
    "def dS_dT(S, I, transm):\n",
    "    \"\"\"The rate of change of Susceptibles over time.\n",
    "    \n",
    "    Args:\n",
    "        S (float): Total who are Susceptible.\n",
    "        I (float): Total who are Infected.\n",
    "        transm (float): transmission rate.\n",
    "    \n",
    "    Returns:\n",
    "        float: rate of change of Suscpetibles.\n",
    "    \n",
    "    Examples:\n",
    "        \n",
    "        >> dS_dT(S=0.99, I=0.01, transm=3.2)\n",
    "        -0.03168\n",
    "    \"\"\"\n",
    "    # Negative because rate will go down as more Susceptible people get Infected.\n",
    "    return -transm * S * I\n",
    "\n",
    "\n",
    "def dI_dT(S, I, transm, recov):\n",
    "    \"\"\"The rate of change of Infected people over time.\n",
    "    \n",
    "    Args:\n",
    "        S (float): Total who are Susceptible.\n",
    "        I (float): Total who are Infected.\n",
    "        transm (float): transmission rate.\n",
    "        recov (float): recovery rate.\n",
    "    \n",
    "    Returns:\n",
    "        float: rate of change of Infected.\n",
    "    \n",
    "    Examples:\n",
    "    \n",
    "        >> dI_dT(S=0.99, I=0.01, transm=3.2, recov=0.23)\n",
    "        0.02938\n",
    "    \"\"\"\n",
    "    return (\n",
    "        transm * S * I  # If people were Susceptible, they'll become Infected next.\n",
    "        - recov * I  # The more people become Infected, the more people can Recover.\n",
    "    )\n",
    "\n",
    "\n",
    "def dR_dT(I, recov):\n",
    "    \"\"\"The rate of change of Recovered people over time.\n",
    "    \n",
    "    Args:\n",
    "        I (float): Total who are Infected.\n",
    "        recov (float): recovery rate.\n",
    "    \n",
    "    Returns:\n",
    "        float: rate of change of Recovered.\n",
    "    \n",
    "    Examples:\n",
    "    \n",
    "        >> dR_dT(I=0.01, recov=0.23)\n",
    "        0.0023\n",
    "    \"\"\"\n",
    "    return recov * I  # Anyone who's Infected can Recover."
   ]
  },
  {
   "cell_type": "markdown",
   "metadata": {},
   "source": [
    "### Solve the system of differential equations!\n",
    "First we create a single function to hold all three rate equations, because Python's [solver function](https://docs.scipy.org/doc/scipy/reference/generated/scipy.integrate.solve_ivp.html) wants to be given a single input function, not three."
   ]
  },
  {
   "cell_type": "code",
   "execution_count": null,
   "metadata": {},
   "outputs": [],
   "source": [
    "def SIR(t, y):\n",
    "    \"\"\"\n",
    "    This function specifies a system of differential equations to be solved,\n",
    "    and their parameters. We will pass this to the solve_ivp [1]_ function\n",
    "    from the scipy library.\n",
    "    \n",
    "    Args:\n",
    "        t (float): time step.\n",
    "        y (list):  parameters, in this case a list containing [S, I, R, transm, recov].\n",
    "        \n",
    "    Returns:\n",
    "        list: Calculated values [S, I, R, transm, recov]\n",
    "    \n",
    "    Examples:\n",
    "        \n",
    "        >>> SIR(t=0, y=[0.99, 0.01, 0.0, 3.2, 0.23])\n",
    "        [-0.03168, 0.02938, 0.0023]\n",
    "    \n",
    "    .. [1] https://docs.scipy.org/doc/scipy/reference/generated/scipy.integrate.solve_ivp.html\n",
    "    \"\"\"\n",
    "    S, I, R = y\n",
    "    return [\n",
    "        dS_dT(S, I, transm),\n",
    "        dI_dT(S, I, transm, recov),\n",
    "        dR_dT(I, recov),\n",
    "    ]\n",
    "\n",
    "\n",
    "# Let's take it for a spin\n",
    "SIR(t=0, y=[0.99, 0.01, 0.0])"
   ]
  },
  {
   "cell_type": "markdown",
   "metadata": {},
   "source": [
    "Now we can solve the system of differential equations! You can learn more about [scipy's `solve_ivp()` function here](https://docs.scipy.org/doc/scipy/reference/generated/scipy.integrate.solve_ivp.html)."
   ]
  },
  {
   "cell_type": "code",
   "execution_count": null,
   "metadata": {},
   "outputs": [],
   "source": [
    "# Solve the system of differential equations!\n",
    "solution = solve_ivp(\n",
    "    fun=SIR,  # input function\n",
    "    t_span=[0, maxT],  # start at time 0 and continue until we get to maxT\n",
    "    t_eval=np.arange(0, maxT, 0.1),  # points at which to store the computed solutions\n",
    "    y0=[Sstart, Istart, Rstart],  # initial conditions\n",
    ")\n",
    "solution"
   ]
  },
  {
   "cell_type": "markdown",
   "metadata": {},
   "source": [
    "Let's create a pandas DataFrame with the calculated SIR values (solution.y) in the cells and the time steps (solution.t) as the index."
   ]
  },
  {
   "cell_type": "code",
   "execution_count": null,
   "metadata": {},
   "outputs": [],
   "source": [
    "df = pd.DataFrame(\n",
    "    solution.y.T, columns=[\"Susceptible\", \"Infected\", \"Recovered\"], index=solution.t,\n",
    ")\n",
    "df"
   ]
  },
  {
   "cell_type": "code",
   "execution_count": null,
   "metadata": {},
   "outputs": [],
   "source": [
    "# Visualise the result!\n",
    "plot = df.plot(color=[\"blue\", \"red\", \"green\"], lw=2)"
   ]
  },
  {
   "cell_type": "markdown",
   "metadata": {},
   "source": [
    "### Visualisation, Numberphile-style\n",
    "Let make a helper function which also adds a larger x-axis, and also let's add the official Numberphile brown paper as a background."
   ]
  },
  {
   "cell_type": "code",
   "execution_count": null,
   "metadata": {},
   "outputs": [],
   "source": [
    "background = mpimg.imread(\"../images/numberphile_background.jpg\")\n",
    "\n",
    "\n",
    "def plot_curves(solution, xlim=[0, 10], title=None, add_background=True):\n",
    "    \"\"\"Helper function that takes a solution and optionally visualises it\n",
    "       using official Numberphile brown paper.\n",
    "    \n",
    "    Args:\n",
    "        solution (scipy.integrate._ivp.ivp.OdeResult): Output of solve_ivp() function.\n",
    "        xlim (list): x-axis limits in format [min, max].\n",
    "        title (str): Optional graph title.\n",
    "        add_background (bool): Add Numberphile brown paper background?\n",
    "    \n",
    "    Returns:\n",
    "        matplotlib graph of SIR model curves.\n",
    "    \n",
    "    Examples:\n",
    "    \n",
    "        >>> solution = solve_ivp(SIR, t_span=[0, maxT], t_eval=np.arange(0, maxT, 0.1),\n",
    "                                 y0=[Sstart, Istart, Rstart])\n",
    "        >>> plot_curves(solution, title=\"The SIR Model of disease spread\")\n",
    "    \"\"\"\n",
    "    # Set up plot\n",
    "    fig, ax = plt.subplots(figsize=(14, 6))\n",
    "    plt.title(title, fontsize=15)\n",
    "    plt.xlabel(\"Time\", fontsize=12)\n",
    "    plt.ylabel(\"Percentage of population\", fontsize=12)\n",
    "    # Create DataFrame\n",
    "    df = pd.DataFrame(\n",
    "        solution.y.T,\n",
    "        columns=[\"Susceptible\", \"Infected\", \"Recovered\"],\n",
    "        index=solution.t,\n",
    "    )\n",
    "    # Make the plot\n",
    "    plot = df.plot(color=[\"blue\", \"red\", \"green\"], lw=2, ax=ax)\n",
    "    plot.set_xlim(xlim[0], xlim[1])\n",
    "    # Add background?\n",
    "    if add_background:\n",
    "        plot.imshow(\n",
    "            background,\n",
    "            aspect=plot.get_aspect(),\n",
    "            extent=plot.get_xlim() + plot.get_ylim(),\n",
    "            zorder=1,\n",
    "        )\n",
    "\n",
    "\n",
    "plot_curves(solution, title=\"The SIR Model of disease spread\")"
   ]
  },
  {
   "cell_type": "markdown",
   "metadata": {},
   "source": [
    "Let's also create another helper function that plugs into the ipywidgets `interact`, so we can play around with the parameters."
   ]
  },
  {
   "cell_type": "code",
   "execution_count": null,
   "metadata": {},
   "outputs": [],
   "source": [
    "def solve_and_plot(\n",
    "    Istart=0.01,\n",
    "    Rstart=0,\n",
    "    transm=3.2,\n",
    "    recov=0.23,\n",
    "    maxT=20,\n",
    "    title=None,\n",
    "    add_background=True,\n",
    "):\n",
    "    \"\"\"Helper function so we can play around with the parameters using the interact ipywidget.\n",
    "    \n",
    "    Args:\n",
    "        Istart (float): Starting value for Infected (as percent of population).\n",
    "        Rstart (float): Starting value for Recovered (as percent of population).\n",
    "        transm (float): transmission rate.\n",
    "        recov (float): recovery rate.\n",
    "        maxT (int): maximum time step.\n",
    "        title (str): Optional graph title.\n",
    "        add_background (bool): Optionally add Numberphile background.\n",
    "    \n",
    "    Returns:\n",
    "        matplotlib graph of SIR model curves.\n",
    "    \n",
    "    Examples:\n",
    "    \n",
    "        >>> solve_and_plot(maxT=20, title=\"Set maxT = 20\")\n",
    "    \"\"\"\n",
    "\n",
    "    N = 1\n",
    "    Sstart = N - Istart\n",
    "\n",
    "    def SIR(t, y):\n",
    "        \"\"\"We need to redefine this inside solve_and_plot() otherwise it\n",
    "           won't pick up any changes to transm or recov.\n",
    "        \"\"\"\n",
    "        S, I, R = y\n",
    "        return [\n",
    "            dS_dT(S, I, transm),\n",
    "            dI_dT(S, I, transm, recov),\n",
    "            dR_dT(I, recov),\n",
    "        ]\n",
    "\n",
    "    solution = solve_ivp(\n",
    "        fun=SIR,\n",
    "        t_span=[0, maxT],\n",
    "        t_eval=np.arange(0, maxT, 0.1),\n",
    "        y0=[Sstart, Istart, Rstart],\n",
    "    )\n",
    "    plot_curves(solution, xlim=[0, maxT], title=title, add_background=add_background)\n",
    "\n",
    "\n",
    "# Let's set maxT to 20 to see how things pan out\n",
    "solve_and_plot(maxT=20, title=\"Set maxT = 20\")"
   ]
  },
  {
   "cell_type": "markdown",
   "metadata": {},
   "source": [
    "### Adding interactivity\n",
    "We can make this interactive using the interact function from ipywidgets!\n",
    "\n",
    "> Note: we use `interact_manual` in order to add a button as the graph can take a couple seconds to update."
   ]
  },
  {
   "cell_type": "code",
   "execution_count": null,
   "metadata": {
    "scrolled": false
   },
   "outputs": [],
   "source": [
    "interact_manual(\n",
    "    solve_and_plot,\n",
    "    Istart=(0, 1, 0.01),\n",
    "    Rstart=(0, 1, 0.01),\n",
    "    transm=(0, 10, 0.01),\n",
    "    recov=(0, 1, 0.01),\n",
    "    maxT=(0, 20, 1),\n",
    "    title=\"\",\n",
    ")"
   ]
  },
  {
   "cell_type": "markdown",
   "metadata": {},
   "source": [
    "---\n",
    "\n",
    "[![](../images/2020-03-20_ben_sparks_2.jpg)](https://www.youtube.com/watch?v=k6nLfCbAzgo&t=850)\n",
    "<div align=\"center\"><em>(click the image to be taken to the equivalent part of the Numberphile video)</em></div>\n",
    "\n",
    "> \"In this model, almost 80% of the population got it at once. If you project that to our NHS, that's a problem.\"\n",
    "---"
   ]
  },
  {
   "cell_type": "markdown",
   "metadata": {},
   "source": [
    "## Flatten The Curve\n",
    "If we disable the background then re-drawing the graph becomes fast enough to make changes to the parameters in real-time! Have a play, see if you can squash the sombrero!"
   ]
  },
  {
   "cell_type": "code",
   "execution_count": null,
   "metadata": {},
   "outputs": [],
   "source": [
    "interact(\n",
    "    solve_and_plot,\n",
    "    Istart=(0, 1, 0.01),\n",
    "    Rstart=(0, 1, 0.01),\n",
    "    transm=(0, 10, 0.01),\n",
    "    recov=(0, 1, 0.01),\n",
    "    maxT=(0, 50, 1),\n",
    "    title=\"\",\n",
    "    add_background=False,\n",
    ")"
   ]
  },
  {
   "cell_type": "markdown",
   "metadata": {},
   "source": [
    "### Social distancing\n",
    "Let's try decreasing the transmission rate (e.g. implement social distancing). Notice how the red curve flattens as the transmission rate is reduced."
   ]
  },
  {
   "cell_type": "code",
   "execution_count": null,
   "metadata": {},
   "outputs": [],
   "source": [
    "# Transmission rate = 1.4\n",
    "solve_and_plot(\n",
    "    transm=1.4,\n",
    "    recov=0.23,\n",
    "    maxT=15,\n",
    "    add_background=False,\n",
    "    title=\"Transmission rate = 1.4\",\n",
    ")\n",
    "\n",
    "# Transmission rate = 0.8\n",
    "solve_and_plot(\n",
    "    transm=0.8,\n",
    "    recov=0.23,\n",
    "    maxT=15,\n",
    "    add_background=False,\n",
    "    title=\"Transmission rate = 0.8\",\n",
    ")"
   ]
  },
  {
   "cell_type": "markdown",
   "metadata": {},
   "source": [
    "If you reduce the transmission rate enough, it turns out that not _everyone_ ends up being infected. There's still 10% - 20% of people who remain susceptible in the long run but they never get the disease.\n",
    "\n",
    "This is what we're hoping for with COVID-19, as there are some people who will not survive the disease. If you can stop the 10% most vulnerable from getting it, this would be great."
   ]
  },
  {
   "cell_type": "code",
   "execution_count": null,
   "metadata": {},
   "outputs": [],
   "source": [
    "solve_and_plot(\n",
    "    transm=0.6,\n",
    "    recov=0.23,\n",
    "    maxT=50,\n",
    "    add_background=False,\n",
    "    title=\"Transmission rate = 0.6\",\n",
    ")"
   ]
  },
  {
   "cell_type": "markdown",
   "metadata": {},
   "source": [
    "### Increasing the recovery rate\n",
    "Increasing the recovery rate also flattens the curve but this is much harder to do. The NHS is currently doing this by helping people to recover quickly, but in practice we know it takes people a week to recover and sometimes a lot longer."
   ]
  },
  {
   "cell_type": "code",
   "execution_count": null,
   "metadata": {},
   "outputs": [],
   "source": [
    "solve_and_plot(\n",
    "    transm=3, recov=0.2, maxT=50, add_background=False, title=\"Recovery rate = 0.2\"\n",
    ")\n",
    "solve_and_plot(\n",
    "    transm=3, recov=0.9, maxT=50, add_background=False, title=\"Recovery rate = 0.9\"\n",
    ")"
   ]
  },
  {
   "cell_type": "markdown",
   "metadata": {},
   "source": [
    "## R0: the basic reproductive number\n",
    "You may have heard people talking about [R0, the basic reproductive number](https://en.wikipedia.org/wiki/Basic_reproduction_number):\n",
    "- An R0 of 2-3 means that every infected person infects, on average, two to three others.\n",
    "- An R0 less than 1 indicates that each infected person results in fewer than one new infection. When this happens, the outbreak will slowly grind to a halt.\n",
    "- For COVID-19, [current estimates predict an R0 between 1.4-3.9](https://en.wikipedia.org/wiki/Basic_reproduction_number)."
   ]
  },
  {
   "cell_type": "code",
   "execution_count": null,
   "metadata": {},
   "outputs": [],
   "source": [
    "# Let's calculate R0. This can be calculated as transm / recov.\n",
    "transm = 0.5\n",
    "recov = 0.14\n",
    "R_0 = transm / recov\n",
    "print(f\"R_0 = {R_0}\")"
   ]
  },
  {
   "cell_type": "markdown",
   "metadata": {},
   "source": [
    "If the COVIF-19 R0 is 3, let's see what that looks like. (Remember that the units of time doesn't mean too much here.)"
   ]
  },
  {
   "cell_type": "code",
   "execution_count": null,
   "metadata": {},
   "outputs": [],
   "source": [
    "solve_and_plot(\n",
    "    transm=0.5,\n",
    "    recov=0.14,\n",
    "    maxT=30,\n",
    "    add_background=False,\n",
    "    title=f\"Transmission rate = 0.5, Recovery rate = 0.2, R0 = {0.5/0.14:.1f}\",\n",
    ")"
   ]
  },
  {
   "cell_type": "markdown",
   "metadata": {},
   "source": [
    "We'll leave it to you to play with the sliders and get a feel for how each input changes the landscape of how the infection could play out."
   ]
  },
  {
   "cell_type": "code",
   "execution_count": null,
   "metadata": {},
   "outputs": [],
   "source": [
    "interact(\n",
    "    solve_and_plot,\n",
    "    Istart=(0, 1, 0.01),\n",
    "    Rstart=(0, 1, 0.01),\n",
    "    transm=(0, 10, 0.01),\n",
    "    recov=(0, 1, 0.01),\n",
    "    maxT=(0, 50, 1),\n",
    "    title=\"The Coronavirus Curve\",\n",
    "    add_background=False,\n",
    ")"
   ]
  },
  {
   "cell_type": "markdown",
   "metadata": {},
   "source": [
    "## Lights, camera, animate!\n",
    "Let's create an animated chart in Python for maximum social media virality."
   ]
  },
  {
   "cell_type": "code",
   "execution_count": null,
   "metadata": {},
   "outputs": [],
   "source": [
    "# First, let's run the numbers\n",
    "transm = 2.4\n",
    "recov = 0.3\n",
    "maxT = 13\n",
    "\n",
    "\n",
    "def SIR(t, y):\n",
    "    S, I, R = y\n",
    "    return [\n",
    "        dS_dT(S, I, transm),\n",
    "        dI_dT(S, I, transm, recov),\n",
    "        dR_dT(I, recov),\n",
    "    ]\n",
    "\n",
    "\n",
    "solution = solve_ivp(\n",
    "    fun=SIR,\n",
    "    t_span=[0, maxT],\n",
    "    t_eval=np.arange(0, maxT, 0.1),\n",
    "    y0=[Sstart, Istart, Rstart],\n",
    ")\n",
    "df = pd.DataFrame(\n",
    "    solution.y.T, columns=[\"Susceptible\", \"Infected\", \"Recovered\"], index=solution.t,\n",
    ")\n",
    "df.head()"
   ]
  },
  {
   "cell_type": "markdown",
   "metadata": {},
   "source": [
    "We need to enable matplotlib's \"notebook\" plotting mode in order to see the graphs animating live in the notebook."
   ]
  },
  {
   "cell_type": "code",
   "execution_count": null,
   "metadata": {},
   "outputs": [],
   "source": [
    "%matplotlib notebook\n",
    "%matplotlib notebook\n",
    "# See here for why we call this twice: https://github.com/ipython/ipython/issues/10873"
   ]
  },
  {
   "cell_type": "markdown",
   "metadata": {},
   "source": [
    "First, let's animate without the Numberphile background."
   ]
  },
  {
   "cell_type": "code",
   "execution_count": null,
   "metadata": {},
   "outputs": [],
   "source": [
    "def animate(i):\n",
    "    \"\"\"We put all the animation update code into one function\n",
    "       that loads the first i rows from the dataframe df.\"\"\"\n",
    "    ax.clear()\n",
    "    data = df.iloc[: i + 1]\n",
    "    plot = data.plot(color=[\"blue\", \"red\", \"green\"], lw=4, ax=ax)\n",
    "    plt.title(\"The Coronavirus Curve\", fontsize=15)\n",
    "    plt.xlabel(\"Time (units)\", fontsize=12)\n",
    "    plt.ylabel(\"Percentage of population\", fontsize=12)\n",
    "    plot.set_xlim(0, maxT)\n",
    "    plot.set_ylim(0, 1)\n",
    "\n",
    "\n",
    "fig, ax = plt.subplots(figsize=(14, 6))\n",
    "animate(0)  # initialise the plot\n",
    "ani = FuncAnimation(\n",
    "    fig, animate, frames=list(range(len(df))), repeat=False, interval=50, blit=True,\n",
    ")\n",
    "plt.show()"
   ]
  },
  {
   "cell_type": "markdown",
   "metadata": {},
   "source": [
    "The live animation is a bit slow as it's rendering in real time, but you can also save the full-speed animation as a smooth movie."
   ]
  },
  {
   "cell_type": "code",
   "execution_count": null,
   "metadata": {},
   "outputs": [],
   "source": [
    "ani.save(\"../images/coronavirus_curve_no_background.mp4\")"
   ]
  },
  {
   "cell_type": "code",
   "execution_count": null,
   "metadata": {},
   "outputs": [],
   "source": [
    "Video(\"../images/coronavirus_curve_no_background.mp4\", width=1000)"
   ]
  },
  {
   "cell_type": "markdown",
   "metadata": {},
   "source": [
    "<div class=\"alert alert-block alert-danger\">\n",
    "<b>Danger:</b> This next cell may be quite slow to run. Proceed with caution.\n",
    "</div>"
   ]
  },
  {
   "cell_type": "markdown",
   "metadata": {},
   "source": [
    "Let's now add the Numberphile brown paper background."
   ]
  },
  {
   "cell_type": "code",
   "execution_count": null,
   "metadata": {},
   "outputs": [],
   "source": [
    "# N.B. this may be very slow\n",
    "\n",
    "\n",
    "def animate(i):\n",
    "    ax.clear()\n",
    "    data = df.iloc[: i + 1]\n",
    "    plot = data.plot(color=[\"blue\", \"red\", \"green\"], lw=4, ax=ax)\n",
    "    plt.title(\"The Coronavirus Curve\", fontsize=15)\n",
    "    plt.xlabel(\"Time (units)\", fontsize=12)\n",
    "    plt.ylabel(\"Percentage of population\", fontsize=12)\n",
    "    plot.set_xlim(0, maxT)\n",
    "    plot.set_ylim(0, 1)\n",
    "    plot.imshow(\n",
    "        background,\n",
    "        aspect=plot.get_aspect(),\n",
    "        extent=plot.get_xlim() + plot.get_ylim(),\n",
    "        zorder=1,\n",
    "    )\n",
    "\n",
    "\n",
    "fig, ax = plt.subplots(figsize=(14, 6))\n",
    "background = mpimg.imread(\"../images/numberphile_background.jpg\")\n",
    "animate(0)\n",
    "ani = FuncAnimation(\n",
    "    fig, animate, frames=list(range(len(df))), repeat=False, interval=50, blit=True,\n",
    ")"
   ]
  },
  {
   "cell_type": "markdown",
   "metadata": {},
   "source": [
    "This is definitely quite slow, so let's save it as a full screen movie that you can be proud to share with friends & family."
   ]
  },
  {
   "cell_type": "code",
   "execution_count": null,
   "metadata": {},
   "outputs": [],
   "source": [
    "ani.save(\"../images/coronavirus_curve.mp4\")"
   ]
  },
  {
   "cell_type": "code",
   "execution_count": null,
   "metadata": {},
   "outputs": [],
   "source": [
    "Video(\"../images/coronavirus_curve.mp4\", width=1000)"
   ]
  },
  {
   "cell_type": "markdown",
   "metadata": {},
   "source": [
    "---\n",
    "\n",
    "<div class=\"alert alert-block alert-success\">\n",
    "    <strong>Congratulations!</strong>\n",
    "    <p>\n",
    "        If you enjoyed this notebook please consider <a href=\"http://bit.ly/Numberphile_Sub\">subscribing to Numberphile on YouTube</a>. You can <a href=\"http://bit.ly/Sparks_Playlist\">see more of Ben Sparks' videos here</a>.\n",
    "    </p><br/>\n",
    "    <p><em><strong>Disclaimer:</strong> This notebook and its creator are not affiliated, associated, authorised, endorsed by, or in any way officially connected with Brady Haran, Ben Sparks, Numberphile or its affiliates. We made this simply because they inspire us.</em></p>\n",
    "</div>\n",
    "\n",
    "---\n",
    "\n",
    "<div class=\"alert alert-block alert-info\">\n",
    "    <strong>About</strong>\n",
    "    <p>\n",
    "        This notebook has been made by <a href=\"https://twitter.com/john_sandall\">@John_Sandall</a>. I run training workshops in Python, data science and data engineering.\n",
    "    </p><br/>\n",
    "    <p>\n",
    "        If you are interested in registering for our paid workshops in Python for data science and engineering, you can <a href=\"https://coefficient.ai/learn-python\">sign up to our mailing list here</a>.\n",
    "    </p><br/>\n",
    "    <p>\n",
    "        You can follow my free <a href=\"https://github.com/pydatabristol/workshops/tree/master/workshop_2019_10_28_first_steps\"><em>First Steps with Python</em></a> and <a href=\"https://github.com/pydatabristol/workshops/tree/master/workshop_2020_02_27_first_steps_with_pandas\"><em>First Steps with pandas</em></a> workshops for free as part of <a href=\"https://www.meetup.com/PyData-Bristol/\">PyData Bristol's</a> Zero To Hero 2020 monthly free workshop series. PyData Bristol will be running more free virtual workshops over the coming months so sign up via <a href=\"https://www.meetup.com/PyData-Bristol/\">Meetup.com</a> or <a href=\"https://twitter.com/pydatabristol\">follow us @PyDataBristol on Twitter</a>.\n",
    "    </p><br/>\n",
    "    <p>\n",
    "        I am the Founder of data science consultancy <a href=\"https://coefficient.ai/\">Coefficient</a>. If you would like to work with us, our team can help you with your <a href=\"https://www.youtube.com/watch?v=qBvO3fyl1lk\">data science</a>, <a href=\"https://coefficient.ai/#services-page\">software engineering</a> and <a href=\"https://coefficient.ai/#machine-learning-page\">machine learning</a> projects as an on-demand resource. We can also create <a href=\"https://coefficient.ai/#training-page\">bespoke training workshops</a> adapted to your industry, virtual or in-person, with training clients currently including BNP Paribas, EY, the Met Police and the BBC.\n",
    "    </p>\n",
    "</div>\n",
    "\n",
    "---\n",
    "\n",
    "<div class=\"alert alert-block alert-warning\">\n",
    "    <strong>COVID-19</strong>\n",
    "    <ul>\n",
    "        <li> \n",
    "            National Health Service (UK) advice on Coronavirus: <a href=\"https://www.nhs.uk/conditions/coronavirus-covid-19/\">https://www.nhs.uk/conditions/coronavirus-covid-19/</a>\n",
    "        </li>\n",
    "        <li>\n",
    "            CDC (US) advice on Coronavirus: <a href=\"https://www.cdc.gov/coronavirus/2019-ncov/index.html\">https://www.cdc.gov/coronavirus/2019-ncov/index.html</a>\n",
    "        </li>\n",
    "        <li>\n",
    "            The <a href=\"https://coronavirustechhandbook.com/home\">Coronavirus Tech Handbook</a> by <a href=\"https://www.nwspk.com/\">Newspeak House</a> is an amazing collaboratively curated resource on everything from COVID-19 datasets to isolation toolkits to open medical projects to finding mutual aid groups in your local area: <a href=\"https://coronavirustechhandbook.com/home\">https://coronavirustechhandbook.com/</a>.\n",
    "        </li>\n",
    "        <li>\n",
    "            <a href=\"https://helpwithcovid.com/\"><strong>Help With COVID</strong></a> is a clearing house for COVID-19 projects looking for volunteers. If you're looking for a way to donate your time and skills, look here first: <a href=\"https://helpwithcovid.com/\">https://helpwithcovid.com/</a>\n",
    "        </li>\n",
    "    </ul>\n",
    "</div>"
   ]
  }
 ],
 "metadata": {
  "kernelspec": {
   "display_name": "Python (numberphile)",
   "language": "python",
   "name": "numberphile"
  },
  "language_info": {
   "codemirror_mode": {
    "name": "ipython",
    "version": 3
   },
   "file_extension": ".py",
   "mimetype": "text/x-python",
   "name": "python",
   "nbconvert_exporter": "python",
   "pygments_lexer": "ipython3",
   "version": "3.7.7"
  },
  "toc": {
   "base_numbering": 1,
   "nav_menu": {},
   "number_sections": true,
   "sideBar": true,
   "skip_h1_title": true,
   "title_cell": "Table of Contents",
   "title_sidebar": "Contents",
   "toc_cell": true,
   "toc_position": {
    "height": "calc(100% - 180px)",
    "left": "10px",
    "top": "150px",
    "width": "232px"
   },
   "toc_section_display": true,
   "toc_window_display": true
  }
 },
 "nbformat": 4,
 "nbformat_minor": 4
}
