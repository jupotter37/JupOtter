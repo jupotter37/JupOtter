{
    "cells": [
        {
            "cell_type": "markdown",
            "metadata": {
                "slideshow": {
                    "slide_type": "slide"
                }
            },
            "source": [
                "\n",
                "# Data Science meets Software Data\n",
                "<b>Markus Harrer</b>, Software Development Analyst\n",
                "  \n",
                "`@feststelltaste`\n",
                "\n",
                "\n",
                "<small>JavaLand 2019, Phantasialand, Br\u00fchl, 19.03.2019</small>\n",
                "\n",
                "<img src=\"../resources/innoq_logo.jpg\" width=20% height=\"20%\" align=\"right\"/>"
            ]
        },
        {
            "cell_type": "markdown",
            "metadata": {
                "slideshow": {
                    "slide_type": "slide"
                }
            },
            "source": [
                "## Data Science"
            ]
        },
        {
            "cell_type": "markdown",
            "metadata": {
                "slideshow": {
                    "slide_type": "subslide"
                }
            },
            "source": [
                "### Was ist Data Science?"
            ]
        },
        {
            "cell_type": "markdown",
            "metadata": {
                "slideshow": {
                    "slide_type": "fragment"
                }
            },
            "source": [
                "\"**Statistik** auf nem <b><span class=\"green\">Mac</span></b>.\"\n",
                "<br/>\n",
                "<br/>\n",
                "<div align=\"right\"><small>Nach https://twitter.com/cdixon/status/428914681911070720</small></div>"
            ]
        },
        {
            "cell_type": "markdown",
            "metadata": {
                "slideshow": {
                    "slide_type": "subslide"
                }
            },
            "source": [
                "### Was ist dieses \"**data**\"?\n",
                "\"Without **data** you\u2018re just another person with an opinion.\"\n",
                "<br/>\n",
                "<div align=\"right\"><small>W. Edwards Deming</small></div>"
            ]
        },
        {
            "cell_type": "markdown",
            "metadata": {
                "slideshow": {
                    "slide_type": "fragment"
                }
            },
            "source": [
                "<b>=> Belastbare Erkenntnisse mittels <span class=\"green\">Fakten</span> liefern</b>"
            ]
        },
        {
            "cell_type": "markdown",
            "metadata": {
                "slideshow": {
                    "slide_type": "subslide"
                }
            },
            "source": [
                "### Was ist dieses \"**science**\"?\n",
                "  \n",
                "  \n",
                "\"The aim of **science** is to seek the simplest explanations of complex facts.\"\n",
                "<br/>\n",
                "<div align=\"right\"><small>Albert Einstein</small></div>"
            ]
        },
        {
            "cell_type": "markdown",
            "metadata": {
                "slideshow": {
                    "slide_type": "fragment"
                }
            },
            "source": [
                "<b>=> Neue Erkenntnisse <span class=\"green\">verst\u00e4ndlich</span> herausarbeiten</b>"
            ]
        },
        {
            "cell_type": "markdown",
            "metadata": {
                "slideshow": {
                    "slide_type": "subslide"
                }
            },
            "source": [
                "### Was ist ein Data Scientist?"
            ]
        },
        {
            "cell_type": "markdown",
            "metadata": {
                "slideshow": {
                    "slide_type": "fragment"
                }
            },
            "source": [
                "\"Jemand, der mehr Ahnung von **Statistik**<br/>\n",
                "&nbsp;&nbsp;hat als ein <b><span class=\"green\">Softwareentwickler</span></b><br/>\n",
                "&nbsp;&nbsp;und mehr Ahnung von <b><span class=\"green\">Softwareentwicklung</span></b><br/>\n",
                "&nbsp;&nbsp;als ein **Statistiker**.\"\n",
                "<br/>\n",
                "<br/>\n",
                "<div align=\"right\"><small>Nach zu https://twitter.com/cdixon/status/428914681911070720</small></div>"
            ]
        },
        {
            "cell_type": "markdown",
            "metadata": {
                "slideshow": {
                    "slide_type": "fragment"
                }
            },
            "source": [
                "<b>Data Science & Software Data:</b> **Perfect** <b><span class=\"green\">match</span></b>!"
            ]
        },
        {
            "cell_type": "markdown",
            "metadata": {
                "slideshow": {
                    "slide_type": "slide"
                }
            },
            "source": [
                "## Software Data"
            ]
        },
        {
            "cell_type": "markdown",
            "metadata": {
                "slideshow": {
                    "slide_type": "subslide"
                }
            },
            "source": [
                "### Was ist Software Data?"
            ]
        },
        {
            "cell_type": "markdown",
            "metadata": {
                "slideshow": {
                    "slide_type": "fragment"
                }
            },
            "source": [
                "* Statisch\n",
                "* Laufzeit\n",
                "* Chronologisch\n",
                "* Community"
            ]
        },
        {
            "cell_type": "markdown",
            "metadata": {
                "slideshow": {
                    "slide_type": "fragment"
                }
            },
            "source": [
                "<b>=> Krass viel!</b>"
            ]
        },
        {
            "cell_type": "markdown",
            "metadata": {
                "slideshow": {
                    "slide_type": "slide"
                }
            },
            "source": [
                "### Beispiele f\u00fcr Analysen"
            ]
        },
        {
            "cell_type": "markdown",
            "metadata": {
                "slideshow": {
                    "slide_type": "-"
                }
            },
            "source": [
                "* Performance-Bottlenecks\n",
                "* Verborgene Teamkommunikation\n",
                "* Software-Rightsizing\n",
                "* Architektur-/Design-/Code-Smells\n",
                "* ..."
            ]
        },
        {
            "cell_type": "markdown",
            "metadata": {
                "slideshow": {
                    "slide_type": "fragment"
                }
            },
            "source": [
                "<b>=> vom **Problem** \u00fcber die <span class=\"green\">Daten</span> zur <span class=\"blue\" style=\"background-color: #FFFF00\">Erkenntnis</span>!</b>"
            ]
        },
        {
            "cell_type": "markdown",
            "metadata": {
                "slideshow": {
                    "slide_type": "slide"
                }
            },
            "source": [
                "## Technik"
            ]
        },
        {
            "cell_type": "markdown",
            "metadata": {
                "slideshow": {
                    "slide_type": "subslide"
                }
            },
            "source": [
                "### Technologie (1/2)\n",
                "Eher zweiranging...jetzt hier vorwiegend:\n",
                "* Jupyter (mit RISE)\n",
                "* Python 3\n",
                "* pandas\n",
                "* matplotlib"
            ]
        },
        {
            "cell_type": "markdown",
            "metadata": {
                "slideshow": {
                    "slide_type": "subslide"
                }
            },
            "source": [
                "## Technologie (2/2)\n",
                "Es geht aber auch...\n",
                "* Jupyter `// :-)`\n",
                "* <strike>Java</strike> Groovy / beakerx / tablesaw\n",
                "* Cypher / Neo4j mit jQAssistant\n",
                "* ..."
            ]
        },
        {
            "cell_type": "markdown",
            "metadata": {
                "slideshow": {
                    "slide_type": "slide"
                }
            },
            "source": [
                "# Praktischer Teil"
            ]
        },
        {
            "cell_type": "markdown",
            "metadata": {
                "slideshow": {
                    "slide_type": "slide"
                }
            },
            "source": [
                "## Erstes Hands-On"
            ]
        },
        {
            "cell_type": "markdown",
            "metadata": {
                "slideshow": {
                    "slide_type": "subslide"
                }
            },
            "source": [
                "### Der Patient\n",
                "\n",
                "#### Linux\n",
                "\n",
                "* Betriebsystem-Kernel\n",
                "* Hat verschiedene Module\n",
                "* Fast ausschlie\u00dflich in C geschrieben\n",
                "* Entwickelt \u00fcber 800.000 Entwicklern"
            ]
        },
        {
            "cell_type": "markdown",
            "metadata": {
                "slideshow": {
                    "slide_type": "subslide"
                }
            },
            "source": [
                "### I. Idee (1/2)\n",
                "\n",
                "<b>Fragestellung</b>\n",
                "* Gibt es besonders alte Komponenten (No-Go-Areas)?\n"
            ]
        },
        {
            "cell_type": "markdown",
            "metadata": {
                "slideshow": {
                    "slide_type": "subslide"
                }
            },
            "source": [
                "### I. Idee (2/2)\n",
                "#### Umsetzung\n",
                "* Werkzeuge: Jupyter, Python, pandas, matplotlib\n",
                "* Datenquelle: Git Blame Log\n"
            ]
        },
        {
            "cell_type": "markdown",
            "metadata": {
                "slideshow": {
                    "slide_type": "fragment"
                }
            },
            "source": [
                "**Meta-Ziel:** Grundfunktionen anhand eines einfachen Show-Cases sehen."
            ]
        },
        {
            "cell_type": "markdown",
            "metadata": {
                "slideshow": {
                    "slide_type": "subslide"
                }
            },
            "source": [
                "<b>Git Blame Log</b>\n",
                "<div align=\"center\">\n",
                "    <img src =\"../resources/linux_1.gif\" align=\"center\"/>\n",
                "</div>"
            ]
        },
        {
            "cell_type": "markdown",
            "metadata": {
                "slideshow": {
                    "slide_type": "subslide"
                }
            },
            "source": [
                "<b>Git Blame Log</b>\n",
                "<div align=\"center\">\n",
                "    <img src =\"../resources/linux_2.gif\" align=\"center\"/>\n",
                "</div>"
            ]
        },
        {
            "cell_type": "markdown",
            "metadata": {
                "slideshow": {
                    "slide_type": "subslide"
                }
            },
            "source": [
                "<b>Git Blame Log</b>\n",
                "<div align=\"center\">\n",
                "    <img src =\"../resources/linux_3.gif\" align=\"center\"/>\n",
                "</div>"
            ]
        },
        {
            "cell_type": "markdown",
            "metadata": {
                "slideshow": {
                    "slide_type": "subslide"
                }
            },
            "source": [
                "### II. Laden\n",
                "*Wir laden Git Blame Daten aus einer CSV-Datei*"
            ]
        },
        {
            "cell_type": "code",
            "execution_count": 1,
            "metadata": {
                "slideshow": {
                    "slide_type": "fragment"
                },
                "tags": [
                    "delete"
                ]
            },
            "outputs": [],
            "source": []
        },
        {
            "cell_type": "markdown",
            "metadata": {
                "slideshow": {
                    "slide_type": "subslide"
                }
            },
            "source": [
                "*Was haben wir hier eigentlich?*"
            ]
        },
        {
            "cell_type": "code",
            "execution_count": 2,
            "metadata": {
                "slideshow": {
                    "slide_type": "-"
                },
                "tags": [
                    "delete"
                ]
            },
            "outputs": [],
            "source": []
        },
        {
            "cell_type": "markdown",
            "metadata": {
                "slideshow": {
                    "slide_type": "fragment"
                }
            },
            "source": [
                "<b>1</b> **DataFrame** (~ programmierbares Excel-Arbeitsblatt), <b>4</b> **Series** (= Spalten), <b>5665947</b> **Rows** (= Eintr\u00e4ge)"
            ]
        },
        {
            "cell_type": "markdown",
            "metadata": {
                "slideshow": {
                    "slide_type": "subslide"
                }
            },
            "source": [
                "### III. Bereinigen\n",
                "* Daten sind oft nicht so, wie man sie braucht\n",
                "* Datentypen passen teilweise noch nicht"
            ]
        },
        {
            "cell_type": "markdown",
            "metadata": {
                "slideshow": {
                    "slide_type": "subslide"
                }
            },
            "source": [
                "*Wir wandeln die Zeitstempel um*"
            ]
        },
        {
            "cell_type": "code",
            "execution_count": 3,
            "metadata": {
                "slideshow": {
                    "slide_type": "-"
                },
                "tags": [
                    "delete"
                ]
            },
            "outputs": [],
            "source": []
        },
        {
            "cell_type": "markdown",
            "metadata": {
                "slideshow": {
                    "slide_type": "subslide"
                }
            },
            "source": [
                "### IV. Anreichern\n",
                "\n",
                "* Vorhandenen Daten noch zus\u00e4tzlich mit anderen Datenquellen verschneiden\n",
                "* Aber auch: Teile aus vorhanden Daten extrahieren"
            ]
        },
        {
            "cell_type": "markdown",
            "metadata": {
                "slideshow": {
                    "slide_type": "fragment"
                }
            },
            "source": [
                "=> Dadurch werden mehrere <b>Perspektiven</b> auf ein Problem m\u00f6glich"
            ]
        },
        {
            "cell_type": "markdown",
            "metadata": {
                "slideshow": {
                    "slide_type": "subslide"
                }
            },
            "source": [
                "Wir berechnen und das Alter jeder Quellcodezeilen\u00e4nderung"
            ]
        },
        {
            "cell_type": "code",
            "execution_count": 4,
            "metadata": {
                "slideshow": {
                    "slide_type": "-"
                },
                "tags": [
                    "delete"
                ]
            },
            "outputs": [],
            "source": []
        },
        {
            "cell_type": "markdown",
            "metadata": {
                "slideshow": {
                    "slide_type": "subslide"
                }
            },
            "source": [
                "*Wir ordnen jeder Zeilen\u00e4nderung eine Komponente zu.*"
            ]
        },
        {
            "cell_type": "code",
            "execution_count": 5,
            "metadata": {
                "slideshow": {
                    "slide_type": "-"
                },
                "tags": [
                    "delete"
                ]
            },
            "outputs": [],
            "source": []
        },
        {
            "cell_type": "markdown",
            "metadata": {
                "slideshow": {
                    "slide_type": "fragment"
                }
            },
            "source": [
                "<br/> <small><i>String-Operationen...die dauern. Gibt aber diverse Optimierungsm\u00f6glichkeiten!</i></small>"
            ]
        },
        {
            "cell_type": "markdown",
            "metadata": {
                "slideshow": {
                    "slide_type": "subslide"
                }
            },
            "source": [
                "### V. Aggregieren\n",
                "* Vorhandene Daten sind oft zu viel f\u00fcr manuelle Sichtung\n",
                "* Neue Einsichten \u00fcber Problem aber oft auf hoher Flugbahn m\u00f6glich\n",
                "\n",
                "=> Daher feingranulare Daten sinnvoll <b>zusammenfassen</b>"
            ]
        },
        {
            "cell_type": "markdown",
            "metadata": {
                "slideshow": {
                    "slide_type": "subslide"
                }
            },
            "source": [
                "*Wir fassen nach Komponenten zusammen und arbeiten mit der jeweils j\u00fcngsten Zeilen\u00e4nderung weiter.*"
            ]
        },
        {
            "cell_type": "code",
            "execution_count": 6,
            "metadata": {
                "slideshow": {
                    "slide_type": "-"
                },
                "tags": [
                    "delete"
                ]
            },
            "outputs": [],
            "source": []
        },
        {
            "cell_type": "markdown",
            "metadata": {
                "slideshow": {
                    "slide_type": "subslide"
                }
            },
            "source": [
                "### IV. Visualisieren\n",
                "* Grafische Darstellung geben Analysen den letzten Schliff\n",
                "* Probleme k\u00f6nnen Au\u00dfenstehenden visuell dargestellt besser kommuniziert werden"
            ]
        },
        {
            "cell_type": "markdown",
            "metadata": {
                "slideshow": {
                    "slide_type": "subslide"
                }
            },
            "source": [
                "*Wir bauen uns ein Balkendiagramm mit dem minimalen Alter pro Komponente.*"
            ]
        },
        {
            "cell_type": "code",
            "execution_count": 7,
            "metadata": {
                "slideshow": {
                    "slide_type": "-"
                },
                "tags": [
                    "delete"
                ]
            },
            "outputs": [],
            "source": []
        },
        {
            "cell_type": "markdown",
            "metadata": {
                "slideshow": {
                    "slide_type": "slide"
                }
            },
            "source": [
                "## Weitere Analysen\n",
                "\n",
                "#### Weitere Beispiele\n",
                "* Analyse von Performance-Problemen\n",
                "* Identifikation von Code-Smells mit Cypher/jQAssistant/Neo4j\n",
                "* Code-Call-Analyse mit Groovy/beakerx/tablesaw"
            ]
        },
        {
            "cell_type": "markdown",
            "metadata": {
                "slideshow": {
                    "slide_type": "slide"
                }
            },
            "source": [
                "## Ausblick\n",
                "\n",
                "# <strong>E</strong><span class=\"grey\"><b>D</b></span><span class=\"green\"><b>V</b></span> mit **OZAPFDIS**, <span class=\"grey\"><b>pandas</b></span> und <span class=\"green\"><b>AUSI</b></span>"
            ]
        },
        {
            "cell_type": "markdown",
            "metadata": {
                "slideshow": {
                    "slide_type": "fragment"
                }
            },
            "source": [
                "Beispiel: Abh\u00e4ngigkeitsanalyse mit Daten von `jdeps` und Visualisierung mit `D3`."
            ]
        },
        {
            "cell_type": "markdown",
            "metadata": {
                "slideshow": {
                    "slide_type": "slide"
                }
            },
            "source": [
                "## Zusammenfassung\n",
                "**1.** <b>Analysen</b> mit Standard-Werkzeugen <b>einfach</b> m\u00f6glich  \n",
                "**2.** Wer mehr will bekommt auch <b>mehr</b>!  \n",
                "**3.** Es gibt unglaublich <b>viele Quellen</b> f\u00fcr Daten in der Softwareentwicklung  \n",
                "\n",
                "<b>=> vom **Problem** \u00fcber die <span class=\"green\">Daten</span> zur <span class=\"blue\" style=\"background-color: #FFFF00\">Erkenntnis</span>!</b>"
            ]
        },
        {
            "cell_type": "markdown",
            "metadata": {
                "slideshow": {
                    "slide_type": "slide"
                }
            },
            "source": [
                "## Literatur\n",
                "* Adam Tornhill: Software Design X-Ray \n",
                "* Wes McKinney: Python For Data Analysis\n",
                "* Leek, Jeff: The Elements of Data Analytic Style\n",
                "* Tim Menzies, Laurie Williams, Thomas Zimmermann: Perspectives on Data Science for Software Engineering"
            ]
        },
        {
            "cell_type": "markdown",
            "metadata": {
                "slideshow": {
                    "slide_type": "slide"
                }
            },
            "source": [
                "# Vielen Dank! Fragen?\n",
                "\n",
                "<b>Markus Harrer</b><br/>\n",
                "innoQ Deutschland GmbH\n",
                "  \n",
                "markus.harrer@innoq.com \n",
                "\n",
                "`@feststelltaste`\n",
                "\n",
                "<small>Demos & \"Slides\": https://github.com/feststelltaste/software-analytics => demos/20190319_JavaLand_Bruehl/</small>\n",
                "<img src=\"../resources/innoq_logo.jpg\" width=\"20%\" heigth=\"20%\" align=\"right\"/>"
            ]
        }
    ],
    "metadata": {
        "celltoolbar": "Slideshow",
        "kernelspec": {
            "display_name": "Python 3",
            "language": "python",
            "name": "python3"
        },
        "language_info": {
            "codemirror_mode": {
                "name": "ipython",
                "version": 3
            },
            "file_extension": ".py",
            "mimetype": "text/x-python",
            "name": "python",
            "nbconvert_exporter": "python",
            "pygments_lexer": "ipython3",
            "version": "3.6.0"
        },
        "rise": {
            "controls": false,
            "showSlideNumber": "speaker",
            "slideNumber ": "false",
            "transition": "none"
        }
    },
    "nbformat": 4,
    "nbformat_minor": 2
}